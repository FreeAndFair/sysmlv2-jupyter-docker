{
 "cells": [
  {
   "cell_type": "markdown",
   "id": "8a9af401",
   "metadata": {},
   "source": [
    "# SysML v2 Test Suite\n",
    "\n",
    "This can notebook can be cleared using menu `Edit --> Clear All Outputs` and then all cells can be\n",
    "run using menu `Run --> Run All Cells`.\n",
    "\n",
    "**WARNING**: This file is generated, all modifications here will be ignored.\n"
   ]
  },
  {
   "cell_type": "markdown",
   "id": "97969726",
   "metadata": {},
   "source": [
    "## File: ../../sysml/src/examples/Simple Tests/OccurrenceTest.sysml"
   ]
  },
  {
   "cell_type": "code",
   "execution_count": 1,
   "id": "0aef897f",
   "metadata": {
    "execution": {
     "iopub.execute_input": "2022-02-18T10:48:35.027832Z",
     "iopub.status.busy": "2022-02-18T10:48:35.026407Z",
     "iopub.status.idle": "2022-02-18T10:48:35.204859Z",
     "shell.execute_reply": "2022-02-18T10:48:35.204325Z"
    }
   },
   "outputs": [
    {
     "data": {
      "text/plain": [
       "Package OccurrenceTest (aed73cc2-72a4-4d03-ac51-9e257469bb4d)\n"
      ]
     },
     "execution_count": 1,
     "metadata": {},
     "output_type": "execute_result"
    }
   ],
   "source": [
    "package OccurrenceTest {\n",
    "\toccurrence def Occ {\n",
    "\t\tattribute a;\n",
    "\t\tref occurrence occ1 : Occ;\n",
    "\t\toccurrence occ2 : Occ;\n",
    "\t\t\n",
    "\t\tindividual snapshot s : Ind;\n",
    "\t\ttimeslice t;\n",
    "\t}\n",
    "\n",
    "\tindividual occurrence def Ind {\n",
    "\t\tsnapshot s2;\n",
    "\t\ttimeslice t2;\n",
    "\t}\n",
    "\tindividual occurrence ind : Ind, Occ {\n",
    "\t\tsnapshot s3;\n",
    "\t\tindividual timeslice t3;\n",
    "\t}\n",
    "\t\n",
    "\tindividual snapshot s4 : Ind;\n",
    "}"
   ]
  },
  {
   "cell_type": "code",
   "execution_count": 2,
   "id": "af5dad9a",
   "metadata": {
    "execution": {
     "iopub.execute_input": "2022-02-18T10:48:35.255757Z",
     "iopub.status.busy": "2022-02-18T10:48:35.255325Z",
     "iopub.status.idle": "2022-02-18T10:48:35.796654Z",
     "shell.execute_reply": "2022-02-18T10:48:35.796284Z"
    }
   },
   "outputs": [
    {
     "data": {
      "image/svg+xml": [
       "<?xml version=\"1.0\" encoding=\"UTF-8\" standalone=\"no\"?><svg xmlns=\"http://www.w3.org/2000/svg\" xmlns:xlink=\"http://www.w3.org/1999/xlink\" contentScriptType=\"application/ecmascript\" contentStyleType=\"text/css\" height=\"569px\" preserveAspectRatio=\"none\" style=\"width:1009px;height:569px;\" version=\"1.1\" viewBox=\"0 0 1009 569\" width=\"1009px\" zoomAndPan=\"magnify\"><defs/><g><!--MD5=[fbc87193dbaf4d95561dea2c320d4a47]\n",
       "cluster E1--><a href=\"psysml:76f03fcf-c31b-4704-ae9e-b44a23fd6ebe\" target=\"_top\" title=\"psysml:76f03fcf-c31b-4704-ae9e-b44a23fd6ebe\" xlink:actuate=\"onRequest\" xlink:href=\"psysml:76f03fcf-c31b-4704-ae9e-b44a23fd6ebe\" xlink:show=\"new\" xlink:title=\"psysml:76f03fcf-c31b-4704-ae9e-b44a23fd6ebe\" xlink:type=\"simple\"><polygon fill=\"#FFFFFF\" points=\"16,6,134,6,141,28.2969,970,28.2969,970,557,16,557,16,6\" style=\"stroke: #000000; stroke-width: 1.5;\"/><line style=\"stroke: #000000; stroke-width: 1.5;\" x1=\"16\" x2=\"141\" y1=\"28.2969\" y2=\"28.2969\"/><text fill=\"#000000\" font-family=\"sans-serif\" font-size=\"14\" font-weight=\"bold\" lengthAdjust=\"spacingAndGlyphs\" textLength=\"112\" x=\"20\" y=\"20.9951\">OccurrenceTest</text></a><!--MD5=[b4997ac47864f28c2f74865a473b2911]\n",
       "class E2--><a href=\"psysml:eaa0b96d-7da2-44a7-b980-6b6f36747918\" target=\"_top\" title=\"psysml:eaa0b96d-7da2-44a7-b980-6b6f36747918\" xlink:actuate=\"onRequest\" xlink:href=\"psysml:eaa0b96d-7da2-44a7-b980-6b6f36747918\" xlink:show=\"new\" xlink:title=\"psysml:eaa0b96d-7da2-44a7-b980-6b6f36747918\" xlink:type=\"simple\"><rect fill=\"#FFFFFF\" height=\"75.5469\" id=\"E2\" style=\"stroke: #383838; stroke-width: 1.5;\" width=\"115\" x=\"373.5\" y=\"147\"/><text fill=\"#000000\" font-family=\"sans-serif\" font-size=\"12\" font-style=\"italic\" lengthAdjust=\"spacingAndGlyphs\" textLength=\"113\" x=\"374.5\" y=\"163.1387\">«occurrence  def»</text><text fill=\"#000000\" font-family=\"sans-serif\" font-size=\"12\" lengthAdjust=\"spacingAndGlyphs\" textLength=\"23\" x=\"419.5\" y=\"177.1074\">Occ</text><line style=\"stroke: #383838; stroke-width: 1.5;\" x1=\"374.5\" x2=\"487.5\" y1=\"184.9375\" y2=\"184.9375\"/><text fill=\"#000000\" font-family=\"sans-serif\" font-size=\"11\" lengthAdjust=\"spacingAndGlyphs\" textLength=\"7\" x=\"379.5\" y=\"215.9526\">a</text><line style=\"stroke: #383838; stroke-width: 1.0;\" x1=\"374.5\" x2=\"403.5\" y1=\"199.3398\" y2=\"199.3398\"/><text fill=\"#000000\" font-family=\"sans-serif\" font-size=\"11\" lengthAdjust=\"spacingAndGlyphs\" textLength=\"55\" x=\"403.5\" y=\"202.6479\">attributes</text><line style=\"stroke: #383838; stroke-width: 1.0;\" x1=\"458.5\" x2=\"487.5\" y1=\"199.3398\" y2=\"199.3398\"/></a><!--MD5=[09b614a08d8cba4a07c9adeb5e0fee81]\n",
       "class E3--><a href=\"psysml:87fca259-1c14-4b5b-983e-37895f6ff77b\" target=\"_top\" title=\"psysml:87fca259-1c14-4b5b-983e-37895f6ff77b\" xlink:actuate=\"onRequest\" xlink:href=\"psysml:87fca259-1c14-4b5b-983e-37895f6ff77b\" xlink:show=\"new\" xlink:title=\"psysml:87fca259-1c14-4b5b-983e-37895f6ff77b\" xlink:type=\"simple\"><rect fill=\"#FFFFFF\" height=\"45.9375\" id=\"E3\" rx=\"10\" ry=\"10\" style=\"stroke: #383838; stroke-width: 1.5;\" width=\"87\" x=\"279.5\" y=\"283\"/><text fill=\"#000000\" font-family=\"sans-serif\" font-size=\"12\" font-style=\"italic\" lengthAdjust=\"spacingAndGlyphs\" textLength=\"85\" x=\"280.5\" y=\"299.1387\">«occurrence»</text><text fill=\"#000000\" font-family=\"sans-serif\" font-size=\"12\" lengthAdjust=\"spacingAndGlyphs\" textLength=\"61\" x=\"290.5\" y=\"313.1074\">occ1: Occ</text><line style=\"stroke: #383838; stroke-width: 1.5;\" x1=\"280.5\" x2=\"365.5\" y1=\"320.9375\" y2=\"320.9375\"/></a><!--MD5=[ebbe1d658d1005bcc118a6aa81145e00]\n",
       "class E4--><a href=\"psysml:ffd2f288-180d-4271-8880-cf9706207ba2\" target=\"_top\" title=\"psysml:ffd2f288-180d-4271-8880-cf9706207ba2\" xlink:actuate=\"onRequest\" xlink:href=\"psysml:ffd2f288-180d-4271-8880-cf9706207ba2\" xlink:show=\"new\" xlink:title=\"psysml:ffd2f288-180d-4271-8880-cf9706207ba2\" xlink:type=\"simple\"><rect fill=\"#FFFFFF\" height=\"45.9375\" id=\"E4\" rx=\"10\" ry=\"10\" style=\"stroke: #383838; stroke-width: 1.5;\" width=\"87\" x=\"401.5\" y=\"283\"/><text fill=\"#000000\" font-family=\"sans-serif\" font-size=\"12\" font-style=\"italic\" lengthAdjust=\"spacingAndGlyphs\" textLength=\"85\" x=\"402.5\" y=\"299.1387\">«occurrence»</text><text fill=\"#000000\" font-family=\"sans-serif\" font-size=\"12\" lengthAdjust=\"spacingAndGlyphs\" textLength=\"61\" x=\"412.5\" y=\"313.1074\">occ2: Occ</text><line style=\"stroke: #383838; stroke-width: 1.5;\" x1=\"402.5\" x2=\"487.5\" y1=\"320.9375\" y2=\"320.9375\"/></a><!--MD5=[270fce915f116d4de14055a7c1d9a0f3]\n",
       "class E5--><a href=\"psysml:4e1769cc-a186-417e-91f0-587d1f1196e7\" target=\"_top\" title=\"psysml:4e1769cc-a186-417e-91f0-587d1f1196e7\" xlink:actuate=\"onRequest\" xlink:href=\"psysml:4e1769cc-a186-417e-91f0-587d1f1196e7\" xlink:show=\"new\" xlink:title=\"psysml:4e1769cc-a186-417e-91f0-587d1f1196e7\" xlink:type=\"simple\"><rect fill=\"#FFFFFF\" height=\"45.9375\" id=\"E5\" rx=\"10\" ry=\"10\" style=\"stroke: #383838; stroke-width: 1.5;\" width=\"212\" x=\"524\" y=\"283\"/><text fill=\"#000000\" font-family=\"sans-serif\" font-size=\"12\" font-style=\"italic\" lengthAdjust=\"spacingAndGlyphs\" textLength=\"210\" x=\"525\" y=\"299.1387\">«individual snapshot occurrence»</text><text fill=\"#000000\" font-family=\"sans-serif\" font-size=\"12\" lengthAdjust=\"spacingAndGlyphs\" textLength=\"34\" x=\"611\" y=\"313.1074\">s: Ind</text><line style=\"stroke: #383838; stroke-width: 1.5;\" x1=\"525\" x2=\"735\" y1=\"320.9375\" y2=\"320.9375\"/></a><!--MD5=[60a26617385b1d2d0262a64233df1f8d]\n",
       "class E6--><a href=\"psysml:9c61ac47-8b4e-45e2-802a-f3aa096140c4\" target=\"_top\" title=\"psysml:9c61ac47-8b4e-45e2-802a-f3aa096140c4\" xlink:actuate=\"onRequest\" xlink:href=\"psysml:9c61ac47-8b4e-45e2-802a-f3aa096140c4\" xlink:show=\"new\" xlink:title=\"psysml:9c61ac47-8b4e-45e2-802a-f3aa096140c4\" xlink:type=\"simple\"><rect fill=\"#FFFFFF\" height=\"45.9375\" id=\"E6\" rx=\"10\" ry=\"10\" style=\"stroke: #383838; stroke-width: 1.5;\" width=\"146\" x=\"771\" y=\"283\"/><text fill=\"#000000\" font-family=\"sans-serif\" font-size=\"12\" font-style=\"italic\" lengthAdjust=\"spacingAndGlyphs\" textLength=\"144\" x=\"772\" y=\"299.1387\">«timeslice occurrence»</text><text fill=\"#000000\" font-family=\"sans-serif\" font-size=\"12\" lengthAdjust=\"spacingAndGlyphs\" textLength=\"5\" x=\"839.5\" y=\"313.1074\">t</text><line style=\"stroke: #383838; stroke-width: 1.5;\" x1=\"772\" x2=\"916\" y1=\"320.9375\" y2=\"320.9375\"/></a><!--MD5=[2156ba9850f5573cc1fc38a6a4b2f02b]\n",
       "class E7--><a href=\"psysml:54e4af67-f268-48a3-80b8-bc1579f32c01\" target=\"_top\" title=\"psysml:54e4af67-f268-48a3-80b8-bc1579f32c01\" xlink:actuate=\"onRequest\" xlink:href=\"psysml:54e4af67-f268-48a3-80b8-bc1579f32c01\" xlink:show=\"new\" xlink:title=\"psysml:54e4af67-f268-48a3-80b8-bc1579f32c01\" xlink:type=\"simple\"><rect fill=\"#FFFFFF\" height=\"45.9375\" id=\"E7\" style=\"stroke: #383838; stroke-width: 1.5;\" width=\"177\" x=\"541.5\" y=\"389\"/><text fill=\"#000000\" font-family=\"sans-serif\" font-size=\"12\" font-style=\"italic\" lengthAdjust=\"spacingAndGlyphs\" textLength=\"175\" x=\"542.5\" y=\"405.1387\">«individual occurrence  def»</text><text fill=\"#000000\" font-family=\"sans-serif\" font-size=\"12\" lengthAdjust=\"spacingAndGlyphs\" textLength=\"19\" x=\"620.5\" y=\"419.1074\">Ind</text><line style=\"stroke: #383838; stroke-width: 1.5;\" x1=\"542.5\" x2=\"717.5\" y1=\"426.9375\" y2=\"426.9375\"/></a><!--MD5=[b9389687b975829384b498ac4b7476b2]\n",
       "class E8--><a href=\"psysml:bfc31472-e77d-4111-949c-57e124b09868\" target=\"_top\" title=\"psysml:bfc31472-e77d-4111-949c-57e124b09868\" xlink:actuate=\"onRequest\" xlink:href=\"psysml:bfc31472-e77d-4111-949c-57e124b09868\" xlink:show=\"new\" xlink:title=\"psysml:bfc31472-e77d-4111-949c-57e124b09868\" xlink:type=\"simple\"><rect fill=\"#FFFFFF\" height=\"45.9375\" id=\"E8\" rx=\"10\" ry=\"10\" style=\"stroke: #383838; stroke-width: 1.5;\" width=\"150\" x=\"463\" y=\"495\"/><text fill=\"#000000\" font-family=\"sans-serif\" font-size=\"12\" font-style=\"italic\" lengthAdjust=\"spacingAndGlyphs\" textLength=\"148\" x=\"464\" y=\"511.1387\">«snapshot occurrence»</text><text fill=\"#000000\" font-family=\"sans-serif\" font-size=\"12\" lengthAdjust=\"spacingAndGlyphs\" textLength=\"15\" x=\"528.5\" y=\"525.1074\">s2</text><line style=\"stroke: #383838; stroke-width: 1.5;\" x1=\"464\" x2=\"612\" y1=\"532.9375\" y2=\"532.9375\"/></a><!--MD5=[fd4143e9d270a159db93a4ea2a975926]\n",
       "class E9--><a href=\"psysml:25521b86-d75d-41e6-9d0e-592064bc2653\" target=\"_top\" title=\"psysml:25521b86-d75d-41e6-9d0e-592064bc2653\" xlink:actuate=\"onRequest\" xlink:href=\"psysml:25521b86-d75d-41e6-9d0e-592064bc2653\" xlink:show=\"new\" xlink:title=\"psysml:25521b86-d75d-41e6-9d0e-592064bc2653\" xlink:type=\"simple\"><rect fill=\"#FFFFFF\" height=\"45.9375\" id=\"E9\" rx=\"10\" ry=\"10\" style=\"stroke: #383838; stroke-width: 1.5;\" width=\"146\" x=\"648\" y=\"495\"/><text fill=\"#000000\" font-family=\"sans-serif\" font-size=\"12\" font-style=\"italic\" lengthAdjust=\"spacingAndGlyphs\" textLength=\"144\" x=\"649\" y=\"511.1387\">«timeslice occurrence»</text><text fill=\"#000000\" font-family=\"sans-serif\" font-size=\"12\" lengthAdjust=\"spacingAndGlyphs\" textLength=\"13\" x=\"712.5\" y=\"525.1074\">t2</text><line style=\"stroke: #383838; stroke-width: 1.5;\" x1=\"649\" x2=\"793\" y1=\"532.9375\" y2=\"532.9375\"/></a><!--MD5=[96f4274e9e20536e775497830990834d]\n",
       "class E10--><a href=\"psysml:ec83ca81-a881-4da3-97a0-46e2b6aae84c\" target=\"_top\" title=\"psysml:ec83ca81-a881-4da3-97a0-46e2b6aae84c\" xlink:actuate=\"onRequest\" xlink:href=\"psysml:ec83ca81-a881-4da3-97a0-46e2b6aae84c\" xlink:show=\"new\" xlink:title=\"psysml:ec83ca81-a881-4da3-97a0-46e2b6aae84c\" xlink:type=\"simple\"><rect fill=\"#FFFFFF\" height=\"45.9375\" id=\"E10\" rx=\"10\" ry=\"10\" style=\"stroke: #383838; stroke-width: 1.5;\" width=\"149\" x=\"505.5\" y=\"41\"/><text fill=\"#000000\" font-family=\"sans-serif\" font-size=\"12\" font-style=\"italic\" lengthAdjust=\"spacingAndGlyphs\" textLength=\"147\" x=\"506.5\" y=\"57.1387\">«individual occurrence»</text><text fill=\"#000000\" font-family=\"sans-serif\" font-size=\"12\" lengthAdjust=\"spacingAndGlyphs\" textLength=\"77\" x=\"539.5\" y=\"71.1074\">ind: Ind, Occ</text><line style=\"stroke: #383838; stroke-width: 1.5;\" x1=\"506.5\" x2=\"653.5\" y1=\"78.9375\" y2=\"78.9375\"/></a><!--MD5=[1dd1bfd58a279cf63c5f349dbc8fc6a1]\n",
       "class E11--><a href=\"psysml:fe74329f-5d2b-4ebe-b106-a7ecca7a6fbd\" target=\"_top\" title=\"psysml:fe74329f-5d2b-4ebe-b106-a7ecca7a6fbd\" xlink:actuate=\"onRequest\" xlink:href=\"psysml:fe74329f-5d2b-4ebe-b106-a7ecca7a6fbd\" xlink:show=\"new\" xlink:title=\"psysml:fe74329f-5d2b-4ebe-b106-a7ecca7a6fbd\" xlink:type=\"simple\"><rect fill=\"#FFFFFF\" height=\"45.9375\" id=\"E11\" rx=\"10\" ry=\"10\" style=\"stroke: #383838; stroke-width: 1.5;\" width=\"150\" x=\"561\" y=\"162\"/><text fill=\"#000000\" font-family=\"sans-serif\" font-size=\"12\" font-style=\"italic\" lengthAdjust=\"spacingAndGlyphs\" textLength=\"148\" x=\"562\" y=\"178.1387\">«snapshot occurrence»</text><text fill=\"#000000\" font-family=\"sans-serif\" font-size=\"12\" lengthAdjust=\"spacingAndGlyphs\" textLength=\"15\" x=\"626.5\" y=\"192.1074\">s3</text><line style=\"stroke: #383838; stroke-width: 1.5;\" x1=\"562\" x2=\"710\" y1=\"199.9375\" y2=\"199.9375\"/></a><!--MD5=[49a0ec8f00dab7302a31f22d0f0fe584]\n",
       "class E12--><a href=\"psysml:6925098a-d5ed-431f-aaf1-d453853f914b\" target=\"_top\" title=\"psysml:6925098a-d5ed-431f-aaf1-d453853f914b\" xlink:actuate=\"onRequest\" xlink:href=\"psysml:6925098a-d5ed-431f-aaf1-d453853f914b\" xlink:show=\"new\" xlink:title=\"psysml:6925098a-d5ed-431f-aaf1-d453853f914b\" xlink:type=\"simple\"><rect fill=\"#FFFFFF\" height=\"45.9375\" id=\"E12\" rx=\"10\" ry=\"10\" style=\"stroke: #383838; stroke-width: 1.5;\" width=\"208\" x=\"746\" y=\"162\"/><text fill=\"#000000\" font-family=\"sans-serif\" font-size=\"12\" font-style=\"italic\" lengthAdjust=\"spacingAndGlyphs\" textLength=\"206\" x=\"747\" y=\"178.1387\">«individual timeslice occurrence»</text><text fill=\"#000000\" font-family=\"sans-serif\" font-size=\"12\" lengthAdjust=\"spacingAndGlyphs\" textLength=\"13\" x=\"841.5\" y=\"192.1074\">t3</text><line style=\"stroke: #383838; stroke-width: 1.5;\" x1=\"747\" x2=\"953\" y1=\"199.9375\" y2=\"199.9375\"/></a><!--MD5=[ee3c913d1a06f366521f9ef512b67efe]\n",
       "class E13--><a href=\"psysml:4e4d3416-6ae1-42d7-bc86-2084c913e314\" target=\"_top\" title=\"psysml:4e4d3416-6ae1-42d7-bc86-2084c913e314\" xlink:actuate=\"onRequest\" xlink:href=\"psysml:4e4d3416-6ae1-42d7-bc86-2084c913e314\" xlink:show=\"new\" xlink:title=\"psysml:4e4d3416-6ae1-42d7-bc86-2084c913e314\" xlink:type=\"simple\"><rect fill=\"#FFFFFF\" height=\"45.9375\" id=\"E13\" rx=\"10\" ry=\"10\" style=\"stroke: #383838; stroke-width: 1.5;\" width=\"212\" x=\"32\" y=\"283\"/><text fill=\"#000000\" font-family=\"sans-serif\" font-size=\"12\" font-style=\"italic\" lengthAdjust=\"spacingAndGlyphs\" textLength=\"210\" x=\"33\" y=\"299.1387\">«individual snapshot occurrence»</text><text fill=\"#000000\" font-family=\"sans-serif\" font-size=\"12\" lengthAdjust=\"spacingAndGlyphs\" textLength=\"42\" x=\"115\" y=\"313.1074\">s4: Ind</text><line style=\"stroke: #383838; stroke-width: 1.5;\" x1=\"33\" x2=\"243\" y1=\"320.9375\" y2=\"320.9375\"/></a><!--MD5=[209b3feb70ccb6233bfe1053d122c12c]\n",
       "reverse link E2 to E3--><a href=\"psysml:62ea934f-12d4-42a0-b786-a1086ef654f4\" target=\"_top\" title=\"psysml:62ea934f-12d4-42a0-b786-a1086ef654f4\" xlink:actuate=\"onRequest\" xlink:href=\"psysml:62ea934f-12d4-42a0-b786-a1086ef654f4\" xlink:show=\"new\" xlink:title=\"psysml:62ea934f-12d4-42a0-b786-a1086ef654f4\" xlink:type=\"simple\"><path d=\"M376.37,232.45 C359.85,249.83 343.43,268.76 332.86,282.93 \" fill=\"none\" id=\"E2&lt;-E3\" style=\"stroke: #383838; stroke-width: 1.0;\"/><polygon fill=\"#FFFFFF\" points=\"385.52,223,378.4729,224.5294,377.1743,231.6226,384.2213,230.0932,385.52,223\" style=\"stroke: #383838; stroke-width: 1.0;\"/></a><!--MD5=[05d275557350bfb9b23a4ef7222b4c39]\n",
       "link E3 to E2--><a href=\"psysml:72edb9ed-f456-4be1-846b-a7c4b7fb6ef3\" target=\"_top\" title=\"psysml:72edb9ed-f456-4be1-846b-a7c4b7fb6ef3\" xlink:actuate=\"onRequest\" xlink:href=\"psysml:72edb9ed-f456-4be1-846b-a7c4b7fb6ef3\" xlink:show=\"new\" xlink:title=\"psysml:72edb9ed-f456-4be1-846b-a7c4b7fb6ef3\" xlink:type=\"simple\"><path d=\"M353.8,282.93 C367.38,270.34 383.11,253.98 396.95,238.29 \" fill=\"none\" id=\"E3-&gt;E2\" style=\"stroke: #383838; stroke-width: 1.0;\"/><polygon fill=\"#FFFFFF\" points=\"410.02,223,403.0007,241.9929,392.3563,232.8991,410.02,223\" style=\"stroke: #383838; stroke-width: 1.0;\"/><ellipse cx=\"397.7776\" cy=\"245.0276\" fill=\"#383838\" rx=\"2\" ry=\"2\" style=\"stroke: #383838; stroke-width: 1.0;\"/><ellipse cx=\"390.1744\" cy=\"238.532\" fill=\"#383838\" rx=\"2\" ry=\"2\" style=\"stroke: #383838; stroke-width: 1.0;\"/></a><!--MD5=[9618e71518536f8baf3342ff6fdab317]\n",
       "reverse link E2 to E4--><a href=\"psysml:1930a264-e184-4aca-ae40-6206f5d09a7f\" target=\"_top\" title=\"psysml:1930a264-e184-4aca-ae40-6206f5d09a7f\" xlink:actuate=\"onRequest\" xlink:href=\"psysml:1930a264-e184-4aca-ae40-6206f5d09a7f\" xlink:show=\"new\" xlink:title=\"psysml:1930a264-e184-4aca-ae40-6206f5d09a7f\" xlink:type=\"simple\"><path d=\"M424.31,236.34 C425.74,252.61 428.58,269.81 432.23,282.93 \" fill=\"none\" id=\"E2&lt;-E4\" style=\"stroke: #383838; stroke-width: 1.0;\"/><polygon fill=\"#383838\" points=\"423.45,223,419.8475,229.2467,424.2281,234.9747,427.8306,228.728,423.45,223\" style=\"stroke: #383838; stroke-width: 1.0;\"/></a><!--MD5=[185131fc0dcab0a4505a2ebe144e961b]\n",
       "link E4 to E2--><a href=\"psysml:32367fe5-1bb2-4952-a335-a8970d1d9f84\" target=\"_top\" title=\"psysml:32367fe5-1bb2-4952-a335-a8970d1d9f84\" xlink:actuate=\"onRequest\" xlink:href=\"psysml:32367fe5-1bb2-4952-a335-a8970d1d9f84\" xlink:show=\"new\" xlink:title=\"psysml:32367fe5-1bb2-4952-a335-a8970d1d9f84\" xlink:type=\"simple\"><path d=\"M453.17,282.93 C453.77,271.65 452.99,257.34 451.22,243.21 \" fill=\"none\" id=\"E4-&gt;E2\" style=\"stroke: #383838; stroke-width: 1.0;\"/><polygon fill=\"#FFFFFF\" points=\"447.96,223,457.8973,240.6423,444.0761,242.8725,447.96,223\" style=\"stroke: #383838; stroke-width: 1.0;\"/><ellipse cx=\"456.8309\" cy=\"246.5881\" fill=\"#383838\" rx=\"2\" ry=\"2\" style=\"stroke: #383838; stroke-width: 1.0;\"/><ellipse cx=\"446.9586\" cy=\"248.1811\" fill=\"#383838\" rx=\"2\" ry=\"2\" style=\"stroke: #383838; stroke-width: 1.0;\"/></a><!--MD5=[4e1a83fab71cdb913c109063314ae896]\n",
       "reverse link E2 to E5--><a href=\"psysml:0faf658f-4e02-48cd-849b-e0220b5d7629\" target=\"_top\" title=\"psysml:0faf658f-4e02-48cd-849b-e0220b5d7629\" xlink:actuate=\"onRequest\" xlink:href=\"psysml:0faf658f-4e02-48cd-849b-e0220b5d7629\" xlink:show=\"new\" xlink:title=\"psysml:0faf658f-4e02-48cd-849b-e0220b5d7629\" xlink:type=\"simple\"><path d=\"M499.85,227.17 C531.12,245.87 566.86,267.24 592.97,282.85 \" fill=\"none\" id=\"E2&lt;-E5\" style=\"stroke: #383838; stroke-width: 1.0;\"/><polygon fill=\"#383838\" points=\"488.56,220.42,491.6568,226.9323,498.8592,226.5784,495.7624,220.0661,488.56,220.42\" style=\"stroke: #383838; stroke-width: 1.0;\"/></a><!--MD5=[ce036f65110ae2351ccce5a81dc2e928]\n",
       "reverse link E2 to E6--><a href=\"psysml:3f965610-dfca-4051-a1f3-35306b55574a\" target=\"_top\" title=\"psysml:3f965610-dfca-4051-a1f3-35306b55574a\" xlink:actuate=\"onRequest\" xlink:href=\"psysml:3f965610-dfca-4051-a1f3-35306b55574a\" xlink:show=\"new\" xlink:title=\"psysml:3f965610-dfca-4051-a1f3-35306b55574a\" xlink:type=\"simple\"><path d=\"M501.02,217.55 C506.06,219.49 511.08,221.33 516,223 C528.19,227.15 677.82,264.14 770.71,287 \" fill=\"none\" id=\"E2&lt;-E6\" style=\"stroke: #383838; stroke-width: 1.0;\"/><polygon fill=\"#383838\" points=\"488.57,212.58,492.6577,218.5206,499.7135,217.0321,495.6258,211.0916,488.57,212.58\" style=\"stroke: #383838; stroke-width: 1.0;\"/></a><!--MD5=[3a9b96bfbf6b6ad89c494e81751bda47]\n",
       "link E5 to E7--><a href=\"psysml:5b4e0f94-bd6c-4a04-8036-e6bb7f85be93\" target=\"_top\" title=\"psysml:5b4e0f94-bd6c-4a04-8036-e6bb7f85be93\" xlink:actuate=\"onRequest\" xlink:href=\"psysml:5b4e0f94-bd6c-4a04-8036-e6bb7f85be93\" xlink:show=\"new\" xlink:title=\"psysml:5b4e0f94-bd6c-4a04-8036-e6bb7f85be93\" xlink:type=\"simple\"><path d=\"M630,329.06 C630,340.64 630,355.23 630,368.87 \" fill=\"none\" id=\"E5-&gt;E7\" style=\"stroke: #383838; stroke-width: 1.0;\"/><polygon fill=\"#FFFFFF\" points=\"630,388.98,623,369.98,637,369.98,630,388.98\" style=\"stroke: #383838; stroke-width: 1.0;\"/><ellipse cx=\"625\" cy=\"364.28\" fill=\"#383838\" rx=\"2\" ry=\"2\" style=\"stroke: #383838; stroke-width: 1.0;\"/><ellipse cx=\"635\" cy=\"364.28\" fill=\"#383838\" rx=\"2\" ry=\"2\" style=\"stroke: #383838; stroke-width: 1.0;\"/></a><!--MD5=[dc164f5e8a733ab456ef1add180e9e34]\n",
       "reverse link E7 to E8--><a href=\"psysml:37f490ca-8c9f-44ef-b281-38d91f32f2bf\" target=\"_top\" title=\"psysml:37f490ca-8c9f-44ef-b281-38d91f32f2bf\" xlink:actuate=\"onRequest\" xlink:href=\"psysml:37f490ca-8c9f-44ef-b281-38d91f32f2bf\" xlink:show=\"new\" xlink:title=\"psysml:37f490ca-8c9f-44ef-b281-38d91f32f2bf\" xlink:type=\"simple\"><path d=\"M601.55,445.16 C587.25,461.33 570.28,480.51 557.48,494.98 \" fill=\"none\" id=\"E7&lt;-E8\" style=\"stroke: #383838; stroke-width: 1.0;\"/><polygon fill=\"#383838\" points=\"610.49,435.06,603.5177,436.9004,602.5348,444.0442,609.5071,442.2038,610.49,435.06\" style=\"stroke: #383838; stroke-width: 1.0;\"/></a><!--MD5=[e4a10ef82d0e328e31cac39a31e58dda]\n",
       "reverse link E7 to E9--><a href=\"psysml:c791e7ed-713f-4106-b9d5-0dfb97ea4543\" target=\"_top\" title=\"psysml:c791e7ed-713f-4106-b9d5-0dfb97ea4543\" xlink:actuate=\"onRequest\" xlink:href=\"psysml:c791e7ed-713f-4106-b9d5-0dfb97ea4543\" xlink:show=\"new\" xlink:title=\"psysml:c791e7ed-713f-4106-b9d5-0dfb97ea4543\" xlink:type=\"simple\"><path d=\"M658.14,445.16 C672.29,461.33 689.07,480.51 701.73,494.98 \" fill=\"none\" id=\"E7&lt;-E9\" style=\"stroke: #383838; stroke-width: 1.0;\"/><polygon fill=\"#383838\" points=\"649.3,435.06,650.2496,442.2083,657.2133,444.0811,656.2637,436.9328,649.3,435.06\" style=\"stroke: #383838; stroke-width: 1.0;\"/></a><!--MD5=[a919e0967d6f3de553dc51b9865a1d6d]\n",
       "link E10 to E7--><a href=\"psysml:d7bf13fe-2343-4091-93b6-ccc05bfccd1c\" target=\"_top\" title=\"psysml:d7bf13fe-2343-4091-93b6-ccc05bfccd1c\" xlink:actuate=\"onRequest\" xlink:href=\"psysml:d7bf13fe-2343-4091-93b6-ccc05bfccd1c\" xlink:show=\"new\" xlink:title=\"psysml:d7bf13fe-2343-4091-93b6-ccc05bfccd1c\" xlink:type=\"simple\"><path d=\"M564.36,87.23 C542.92,120.68 510.65,184.15 544,223 C658.5,356.41 820.5,149.59 935,283 C997.3,355.58 849.41,387.9 738.47,401.63 \" fill=\"none\" id=\"E10-&gt;E7\" style=\"stroke: #383838; stroke-width: 1.0;\"/><polygon fill=\"#FFFFFF\" points=\"718.6,403.94,736.6627,394.7891,738.2822,408.6951,718.6,403.94\" style=\"stroke: #383838; stroke-width: 1.0;\"/><ellipse cx=\"742.5558\" cy=\"396.1162\" fill=\"#383838\" rx=\"2\" ry=\"2\" style=\"stroke: #383838; stroke-width: 1.0;\"/><ellipse cx=\"743.7126\" cy=\"406.0491\" fill=\"#383838\" rx=\"2\" ry=\"2\" style=\"stroke: #383838; stroke-width: 1.0;\"/></a><!--MD5=[0f36bececdf0dff6e600d6f64214b0f1]\n",
       "link E10 to E2--><a href=\"psysml:65e23dda-2765-4b86-8b8c-165f4272381c\" target=\"_top\" title=\"psysml:65e23dda-2765-4b86-8b8c-165f4272381c\" xlink:actuate=\"onRequest\" xlink:href=\"psysml:65e23dda-2765-4b86-8b8c-165f4272381c\" xlink:show=\"new\" xlink:title=\"psysml:65e23dda-2765-4b86-8b8c-165f4272381c\" xlink:type=\"simple\"><path d=\"M552.32,87.1 C535.71,100.38 513.86,117.82 493.29,134.25 \" fill=\"none\" id=\"E10-&gt;E2\" style=\"stroke: #383838; stroke-width: 1.0;\"/><polygon fill=\"#FFFFFF\" points=\"477.56,146.81,488.0352,129.4817,496.7737,140.4197,477.56,146.81\" style=\"stroke: #383838; stroke-width: 1.0;\"/><ellipse cx=\"493.7369\" cy=\"127.4865\" fill=\"#383838\" rx=\"2\" ry=\"2\" style=\"stroke: #383838; stroke-width: 1.0;\"/><ellipse cx=\"499.9786\" cy=\"135.2994\" fill=\"#383838\" rx=\"2\" ry=\"2\" style=\"stroke: #383838; stroke-width: 1.0;\"/></a><!--MD5=[de308be4a2431766a05a907a031c07fc]\n",
       "reverse link E10 to E11--><a href=\"psysml:996a22eb-9701-44d5-9cb6-35ae83d4d1b1\" target=\"_top\" title=\"psysml:996a22eb-9701-44d5-9cb6-35ae83d4d1b1\" xlink:actuate=\"onRequest\" xlink:href=\"psysml:996a22eb-9701-44d5-9cb6-35ae83d4d1b1\" xlink:show=\"new\" xlink:title=\"psysml:996a22eb-9701-44d5-9cb6-35ae83d4d1b1\" xlink:type=\"simple\"><path d=\"M595.95,98.9 C605.42,119.01 617.15,143.94 625.46,161.61 \" fill=\"none\" id=\"E10&lt;-E11\" style=\"stroke: #383838; stroke-width: 1.0;\"/><polygon fill=\"#383838\" points=\"590.4,87.1,589.3334,94.2318,595.5064,97.9593,596.573,90.8275,590.4,87.1\" style=\"stroke: #383838; stroke-width: 1.0;\"/></a><!--MD5=[1d54f998c6d5961a1a9184be73a7eb6c]\n",
       "reverse link E10 to E12--><a href=\"psysml:da3311a8-2759-47ea-b229-fd34ee887055\" target=\"_top\" title=\"psysml:da3311a8-2759-47ea-b229-fd34ee887055\" xlink:actuate=\"onRequest\" xlink:href=\"psysml:da3311a8-2759-47ea-b229-fd34ee887055\" xlink:show=\"new\" xlink:title=\"psysml:da3311a8-2759-47ea-b229-fd34ee887055\" xlink:type=\"simple\"><path d=\"M642.21,92.42 C689.99,113.48 755.13,142.19 799.66,161.81 \" fill=\"none\" id=\"E10&lt;-E12\" style=\"stroke: #383838; stroke-width: 1.0;\"/><polygon fill=\"#383838\" points=\"630.15,87.1,634.028,93.1796,641.1314,91.9382,637.2534,85.8586,630.15,87.1\" style=\"stroke: #383838; stroke-width: 1.0;\"/></a><!--MD5=[4a48077df6499cfcd20b62e8f5f37904]\n",
       "link E13 to E7--><a href=\"psysml:fb78d99f-0705-4d43-aabd-2eaf1ce47389\" target=\"_top\" title=\"psysml:fb78d99f-0705-4d43-aabd-2eaf1ce47389\" xlink:actuate=\"onRequest\" xlink:href=\"psysml:fb78d99f-0705-4d43-aabd-2eaf1ce47389\" xlink:show=\"new\" xlink:title=\"psysml:fb78d99f-0705-4d43-aabd-2eaf1ce47389\" xlink:type=\"simple\"><path d=\"M242.34,329.06 C324.51,346.43 438.67,370.56 521.82,388.13 \" fill=\"none\" id=\"E13-&gt;E7\" style=\"stroke: #383838; stroke-width: 1.0;\"/><polygon fill=\"#FFFFFF\" points=\"541.45,392.28,521.4143,395.2075,524.304,381.509,541.45,392.28\" style=\"stroke: #383838; stroke-width: 1.0;\"/><ellipse cx=\"516.2498\" cy=\"392.0741\" fill=\"#383838\" rx=\"2\" ry=\"2\" style=\"stroke: #383838; stroke-width: 1.0;\"/><ellipse cx=\"518.3139\" cy=\"382.2894\" fill=\"#383838\" rx=\"2\" ry=\"2\" style=\"stroke: #383838; stroke-width: 1.0;\"/></a><!--MD5=[e9a0aa8a115a6846f6b2769f46f84195]\n",
       "@startuml\r\n",
       " skinparam monochrome true\r\n",
       "skinparam classbackgroundcolor white\r\n",
       "skinparam shadowing false\r\n",
       "skinparam wrapWidth 300\r\n",
       "hide circle\r\n",
       "\r\n",
       "package \"OccurrenceTest\" as E1  [[psysml:76f03fcf-c31b-4704-ae9e-b44a23fd6ebe ]]  {\r\n",
       "comp def \"Occ\" as E2  <<(T,blue) occurrence  def>> [[psysml:eaa0b96d-7da2-44a7-b980-6b6f36747918 ]] {\r\n",
       "- - attributes - -\r\n",
       "a\r\n",
       "}\r\n",
       "comp usage \"occ1: Occ \" as E3  <<(T,blue) occurrence>> [[psysml:87fca259-1c14-4b5b-983e-37895f6ff77b ]] {\r\n",
       "}\r\n",
       "comp usage \"occ2: Occ \" as E4  <<(T,blue) occurrence>> [[psysml:ffd2f288-180d-4271-8880-cf9706207ba2 ]] {\r\n",
       "}\r\n",
       "comp usage \"s: Ind \" as E5  <<(T,blue) individual snapshot occurrence>> [[psysml:4e1769cc-a186-417e-91f0-587d1f1196e7 ]] {\r\n",
       "}\r\n",
       "comp usage \"t \" as E6  <<(T,blue) timeslice occurrence>> [[psysml:9c61ac47-8b4e-45e2-802a-f3aa096140c4 ]] {\r\n",
       "}\r\n",
       "comp def \"Ind\" as E7  <<(T,blue) individual occurrence  def>> [[psysml:54e4af67-f268-48a3-80b8-bc1579f32c01 ]] {\r\n",
       "}\r\n",
       "comp usage \"s2 \" as E8  <<(T,blue) snapshot occurrence>> [[psysml:bfc31472-e77d-4111-949c-57e124b09868 ]] {\r\n",
       "}\r\n",
       "comp usage \"t2 \" as E9  <<(T,blue) timeslice occurrence>> [[psysml:25521b86-d75d-41e6-9d0e-592064bc2653 ]] {\r\n",
       "}\r\n",
       "comp usage \"ind: Ind, Occ \" as E10  <<(T,blue) individual occurrence>> [[psysml:ec83ca81-a881-4da3-97a0-46e2b6aae84c ]] {\r\n",
       "}\r\n",
       "comp usage \"s3 \" as E11  <<(T,blue) snapshot occurrence>> [[psysml:fe74329f-5d2b-4ebe-b106-a7ecca7a6fbd ]] {\r\n",
       "}\r\n",
       "comp usage \"t3 \" as E12  <<(T,blue) individual timeslice occurrence>> [[psysml:6925098a-d5ed-431f-aaf1-d453853f914b ]] {\r\n",
       "}\r\n",
       "comp usage \"s4: Ind \" as E13  <<(T,blue) individual snapshot occurrence>> [[psysml:4e4d3416-6ae1-42d7-bc86-2084c913e314 ]] {\r\n",
       "}\r\n",
       "}\r\n",
       "E2 o- - E3 [[psysml:62ea934f-12d4-42a0-b786-a1086ef654f4 ]] \r\n",
       "E3 - -:|> E2 [[psysml:72edb9ed-f456-4be1-846b-a7c4b7fb6ef3 ]] \r\n",
       "E2 *- - E4 [[psysml:1930a264-e184-4aca-ae40-6206f5d09a7f ]] \r\n",
       "E4 - -:|> E2 [[psysml:32367fe5-1bb2-4952-a335-a8970d1d9f84 ]] \r\n",
       "E2 *- - E5 [[psysml:0faf658f-4e02-48cd-849b-e0220b5d7629 ]] \r\n",
       "E2 *- - E6 [[psysml:3f965610-dfca-4051-a1f3-35306b55574a ]] \r\n",
       "E5 - -:|> E7 [[psysml:5b4e0f94-bd6c-4a04-8036-e6bb7f85be93 ]] \r\n",
       "E7 *- - E8 [[psysml:37f490ca-8c9f-44ef-b281-38d91f32f2bf ]] \r\n",
       "E7 *- - E9 [[psysml:c791e7ed-713f-4106-b9d5-0dfb97ea4543 ]] \r\n",
       "E10 - -:|> E7 [[psysml:d7bf13fe-2343-4091-93b6-ccc05bfccd1c ]] \r\n",
       "E10 - -:|> E2 [[psysml:65e23dda-2765-4b86-8b8c-165f4272381c ]] \r\n",
       "E10 *- - E11 [[psysml:996a22eb-9701-44d5-9cb6-35ae83d4d1b1 ]] \r\n",
       "E10 *- - E12 [[psysml:da3311a8-2759-47ea-b229-fd34ee887055 ]] \r\n",
       "E13 - -:|> E7 [[psysml:fb78d99f-0705-4d43-aabd-2eaf1ce47389 ]] \r\n",
       "@enduml\r\n",
       "\n",
       "PlantUML version 1.2020.13(Sat Jun 13 12:26:38 UTC 2020)\n",
       "(EPL source distribution)\n",
       "Java Runtime: OpenJDK Runtime Environment\n",
       "JVM: OpenJDK 64-Bit Server VM\n",
       "Default Encoding: UTF-8\n",
       "Language: en\n",
       "Country: null\n",
       "--></g></svg>"
      ]
     },
     "execution_count": 2,
     "metadata": {},
     "output_type": "execute_result"
    }
   ],
   "source": [
    "%viz --style=\"COMPTREE\" --view=\"Default\" \"OccurrenceTest\""
   ]
  },
  {
   "cell_type": "code",
   "execution_count": 3,
   "id": "933ffdd3",
   "metadata": {
    "execution": {
     "iopub.execute_input": "2022-02-18T10:48:35.846216Z",
     "iopub.status.busy": "2022-02-18T10:48:35.845799Z",
     "iopub.status.idle": "2022-02-18T10:48:35.947248Z",
     "shell.execute_reply": "2022-02-18T10:48:35.946835Z"
    }
   },
   "outputs": [
    {
     "data": {
      "image/svg+xml": [
       "<?xml version=\"1.0\" encoding=\"UTF-8\" standalone=\"no\"?><svg xmlns=\"http://www.w3.org/2000/svg\" xmlns:xlink=\"http://www.w3.org/1999/xlink\" contentScriptType=\"application/ecmascript\" contentStyleType=\"text/css\" height=\"569px\" preserveAspectRatio=\"none\" style=\"width:1009px;height:569px;\" version=\"1.1\" viewBox=\"0 0 1009 569\" width=\"1009px\" zoomAndPan=\"magnify\"><defs/><g><!--MD5=[fbc87193dbaf4d95561dea2c320d4a47]\n",
       "cluster E1--><a href=\"psysml:76f03fcf-c31b-4704-ae9e-b44a23fd6ebe\" target=\"_top\" title=\"psysml:76f03fcf-c31b-4704-ae9e-b44a23fd6ebe\" xlink:actuate=\"onRequest\" xlink:href=\"psysml:76f03fcf-c31b-4704-ae9e-b44a23fd6ebe\" xlink:show=\"new\" xlink:title=\"psysml:76f03fcf-c31b-4704-ae9e-b44a23fd6ebe\" xlink:type=\"simple\"><polygon fill=\"#FFFFFF\" points=\"16,6,134,6,141,28.2969,970,28.2969,970,557,16,557,16,6\" style=\"stroke: #000000; stroke-width: 1.5;\"/><line style=\"stroke: #000000; stroke-width: 1.5;\" x1=\"16\" x2=\"141\" y1=\"28.2969\" y2=\"28.2969\"/><text fill=\"#000000\" font-family=\"sans-serif\" font-size=\"14\" font-weight=\"bold\" lengthAdjust=\"spacingAndGlyphs\" textLength=\"112\" x=\"20\" y=\"20.9951\">OccurrenceTest</text></a><!--MD5=[b4997ac47864f28c2f74865a473b2911]\n",
       "class E2--><a href=\"psysml:eaa0b96d-7da2-44a7-b980-6b6f36747918\" target=\"_top\" title=\"psysml:eaa0b96d-7da2-44a7-b980-6b6f36747918\" xlink:actuate=\"onRequest\" xlink:href=\"psysml:eaa0b96d-7da2-44a7-b980-6b6f36747918\" xlink:show=\"new\" xlink:title=\"psysml:eaa0b96d-7da2-44a7-b980-6b6f36747918\" xlink:type=\"simple\"><rect fill=\"#FFFFFF\" height=\"75.5469\" id=\"E2\" style=\"stroke: #383838; stroke-width: 1.5;\" width=\"115\" x=\"373.5\" y=\"147\"/><text fill=\"#000000\" font-family=\"sans-serif\" font-size=\"12\" font-style=\"italic\" lengthAdjust=\"spacingAndGlyphs\" textLength=\"113\" x=\"374.5\" y=\"163.1387\">«occurrence  def»</text><text fill=\"#000000\" font-family=\"sans-serif\" font-size=\"12\" lengthAdjust=\"spacingAndGlyphs\" textLength=\"23\" x=\"419.5\" y=\"177.1074\">Occ</text><line style=\"stroke: #383838; stroke-width: 1.5;\" x1=\"374.5\" x2=\"487.5\" y1=\"184.9375\" y2=\"184.9375\"/><text fill=\"#000000\" font-family=\"sans-serif\" font-size=\"11\" lengthAdjust=\"spacingAndGlyphs\" textLength=\"7\" x=\"379.5\" y=\"215.9526\">a</text><line style=\"stroke: #383838; stroke-width: 1.0;\" x1=\"374.5\" x2=\"403.5\" y1=\"199.3398\" y2=\"199.3398\"/><text fill=\"#000000\" font-family=\"sans-serif\" font-size=\"11\" lengthAdjust=\"spacingAndGlyphs\" textLength=\"55\" x=\"403.5\" y=\"202.6479\">attributes</text><line style=\"stroke: #383838; stroke-width: 1.0;\" x1=\"458.5\" x2=\"487.5\" y1=\"199.3398\" y2=\"199.3398\"/></a><!--MD5=[09b614a08d8cba4a07c9adeb5e0fee81]\n",
       "class E3--><a href=\"psysml:87fca259-1c14-4b5b-983e-37895f6ff77b\" target=\"_top\" title=\"psysml:87fca259-1c14-4b5b-983e-37895f6ff77b\" xlink:actuate=\"onRequest\" xlink:href=\"psysml:87fca259-1c14-4b5b-983e-37895f6ff77b\" xlink:show=\"new\" xlink:title=\"psysml:87fca259-1c14-4b5b-983e-37895f6ff77b\" xlink:type=\"simple\"><rect fill=\"#FFFFFF\" height=\"45.9375\" id=\"E3\" rx=\"10\" ry=\"10\" style=\"stroke: #383838; stroke-width: 1.5;\" width=\"87\" x=\"279.5\" y=\"283\"/><text fill=\"#000000\" font-family=\"sans-serif\" font-size=\"12\" font-style=\"italic\" lengthAdjust=\"spacingAndGlyphs\" textLength=\"85\" x=\"280.5\" y=\"299.1387\">«occurrence»</text><text fill=\"#000000\" font-family=\"sans-serif\" font-size=\"12\" lengthAdjust=\"spacingAndGlyphs\" textLength=\"61\" x=\"290.5\" y=\"313.1074\">occ1: Occ</text><line style=\"stroke: #383838; stroke-width: 1.5;\" x1=\"280.5\" x2=\"365.5\" y1=\"320.9375\" y2=\"320.9375\"/></a><!--MD5=[ebbe1d658d1005bcc118a6aa81145e00]\n",
       "class E4--><a href=\"psysml:ffd2f288-180d-4271-8880-cf9706207ba2\" target=\"_top\" title=\"psysml:ffd2f288-180d-4271-8880-cf9706207ba2\" xlink:actuate=\"onRequest\" xlink:href=\"psysml:ffd2f288-180d-4271-8880-cf9706207ba2\" xlink:show=\"new\" xlink:title=\"psysml:ffd2f288-180d-4271-8880-cf9706207ba2\" xlink:type=\"simple\"><rect fill=\"#FFFFFF\" height=\"45.9375\" id=\"E4\" rx=\"10\" ry=\"10\" style=\"stroke: #383838; stroke-width: 1.5;\" width=\"87\" x=\"401.5\" y=\"283\"/><text fill=\"#000000\" font-family=\"sans-serif\" font-size=\"12\" font-style=\"italic\" lengthAdjust=\"spacingAndGlyphs\" textLength=\"85\" x=\"402.5\" y=\"299.1387\">«occurrence»</text><text fill=\"#000000\" font-family=\"sans-serif\" font-size=\"12\" lengthAdjust=\"spacingAndGlyphs\" textLength=\"61\" x=\"412.5\" y=\"313.1074\">occ2: Occ</text><line style=\"stroke: #383838; stroke-width: 1.5;\" x1=\"402.5\" x2=\"487.5\" y1=\"320.9375\" y2=\"320.9375\"/></a><!--MD5=[270fce915f116d4de14055a7c1d9a0f3]\n",
       "class E5--><a href=\"psysml:4e1769cc-a186-417e-91f0-587d1f1196e7\" target=\"_top\" title=\"psysml:4e1769cc-a186-417e-91f0-587d1f1196e7\" xlink:actuate=\"onRequest\" xlink:href=\"psysml:4e1769cc-a186-417e-91f0-587d1f1196e7\" xlink:show=\"new\" xlink:title=\"psysml:4e1769cc-a186-417e-91f0-587d1f1196e7\" xlink:type=\"simple\"><rect fill=\"#FFFFFF\" height=\"45.9375\" id=\"E5\" rx=\"10\" ry=\"10\" style=\"stroke: #383838; stroke-width: 1.5;\" width=\"212\" x=\"524\" y=\"283\"/><text fill=\"#000000\" font-family=\"sans-serif\" font-size=\"12\" font-style=\"italic\" lengthAdjust=\"spacingAndGlyphs\" textLength=\"210\" x=\"525\" y=\"299.1387\">«individual snapshot occurrence»</text><text fill=\"#000000\" font-family=\"sans-serif\" font-size=\"12\" lengthAdjust=\"spacingAndGlyphs\" textLength=\"34\" x=\"611\" y=\"313.1074\">s: Ind</text><line style=\"stroke: #383838; stroke-width: 1.5;\" x1=\"525\" x2=\"735\" y1=\"320.9375\" y2=\"320.9375\"/></a><!--MD5=[60a26617385b1d2d0262a64233df1f8d]\n",
       "class E6--><a href=\"psysml:9c61ac47-8b4e-45e2-802a-f3aa096140c4\" target=\"_top\" title=\"psysml:9c61ac47-8b4e-45e2-802a-f3aa096140c4\" xlink:actuate=\"onRequest\" xlink:href=\"psysml:9c61ac47-8b4e-45e2-802a-f3aa096140c4\" xlink:show=\"new\" xlink:title=\"psysml:9c61ac47-8b4e-45e2-802a-f3aa096140c4\" xlink:type=\"simple\"><rect fill=\"#FFFFFF\" height=\"45.9375\" id=\"E6\" rx=\"10\" ry=\"10\" style=\"stroke: #383838; stroke-width: 1.5;\" width=\"146\" x=\"771\" y=\"283\"/><text fill=\"#000000\" font-family=\"sans-serif\" font-size=\"12\" font-style=\"italic\" lengthAdjust=\"spacingAndGlyphs\" textLength=\"144\" x=\"772\" y=\"299.1387\">«timeslice occurrence»</text><text fill=\"#000000\" font-family=\"sans-serif\" font-size=\"12\" lengthAdjust=\"spacingAndGlyphs\" textLength=\"5\" x=\"839.5\" y=\"313.1074\">t</text><line style=\"stroke: #383838; stroke-width: 1.5;\" x1=\"772\" x2=\"916\" y1=\"320.9375\" y2=\"320.9375\"/></a><!--MD5=[2156ba9850f5573cc1fc38a6a4b2f02b]\n",
       "class E7--><a href=\"psysml:54e4af67-f268-48a3-80b8-bc1579f32c01\" target=\"_top\" title=\"psysml:54e4af67-f268-48a3-80b8-bc1579f32c01\" xlink:actuate=\"onRequest\" xlink:href=\"psysml:54e4af67-f268-48a3-80b8-bc1579f32c01\" xlink:show=\"new\" xlink:title=\"psysml:54e4af67-f268-48a3-80b8-bc1579f32c01\" xlink:type=\"simple\"><rect fill=\"#FFFFFF\" height=\"45.9375\" id=\"E7\" style=\"stroke: #383838; stroke-width: 1.5;\" width=\"177\" x=\"541.5\" y=\"389\"/><text fill=\"#000000\" font-family=\"sans-serif\" font-size=\"12\" font-style=\"italic\" lengthAdjust=\"spacingAndGlyphs\" textLength=\"175\" x=\"542.5\" y=\"405.1387\">«individual occurrence  def»</text><text fill=\"#000000\" font-family=\"sans-serif\" font-size=\"12\" lengthAdjust=\"spacingAndGlyphs\" textLength=\"19\" x=\"620.5\" y=\"419.1074\">Ind</text><line style=\"stroke: #383838; stroke-width: 1.5;\" x1=\"542.5\" x2=\"717.5\" y1=\"426.9375\" y2=\"426.9375\"/></a><!--MD5=[b9389687b975829384b498ac4b7476b2]\n",
       "class E8--><a href=\"psysml:bfc31472-e77d-4111-949c-57e124b09868\" target=\"_top\" title=\"psysml:bfc31472-e77d-4111-949c-57e124b09868\" xlink:actuate=\"onRequest\" xlink:href=\"psysml:bfc31472-e77d-4111-949c-57e124b09868\" xlink:show=\"new\" xlink:title=\"psysml:bfc31472-e77d-4111-949c-57e124b09868\" xlink:type=\"simple\"><rect fill=\"#FFFFFF\" height=\"45.9375\" id=\"E8\" rx=\"10\" ry=\"10\" style=\"stroke: #383838; stroke-width: 1.5;\" width=\"150\" x=\"463\" y=\"495\"/><text fill=\"#000000\" font-family=\"sans-serif\" font-size=\"12\" font-style=\"italic\" lengthAdjust=\"spacingAndGlyphs\" textLength=\"148\" x=\"464\" y=\"511.1387\">«snapshot occurrence»</text><text fill=\"#000000\" font-family=\"sans-serif\" font-size=\"12\" lengthAdjust=\"spacingAndGlyphs\" textLength=\"15\" x=\"528.5\" y=\"525.1074\">s2</text><line style=\"stroke: #383838; stroke-width: 1.5;\" x1=\"464\" x2=\"612\" y1=\"532.9375\" y2=\"532.9375\"/></a><!--MD5=[fd4143e9d270a159db93a4ea2a975926]\n",
       "class E9--><a href=\"psysml:25521b86-d75d-41e6-9d0e-592064bc2653\" target=\"_top\" title=\"psysml:25521b86-d75d-41e6-9d0e-592064bc2653\" xlink:actuate=\"onRequest\" xlink:href=\"psysml:25521b86-d75d-41e6-9d0e-592064bc2653\" xlink:show=\"new\" xlink:title=\"psysml:25521b86-d75d-41e6-9d0e-592064bc2653\" xlink:type=\"simple\"><rect fill=\"#FFFFFF\" height=\"45.9375\" id=\"E9\" rx=\"10\" ry=\"10\" style=\"stroke: #383838; stroke-width: 1.5;\" width=\"146\" x=\"648\" y=\"495\"/><text fill=\"#000000\" font-family=\"sans-serif\" font-size=\"12\" font-style=\"italic\" lengthAdjust=\"spacingAndGlyphs\" textLength=\"144\" x=\"649\" y=\"511.1387\">«timeslice occurrence»</text><text fill=\"#000000\" font-family=\"sans-serif\" font-size=\"12\" lengthAdjust=\"spacingAndGlyphs\" textLength=\"13\" x=\"712.5\" y=\"525.1074\">t2</text><line style=\"stroke: #383838; stroke-width: 1.5;\" x1=\"649\" x2=\"793\" y1=\"532.9375\" y2=\"532.9375\"/></a><!--MD5=[96f4274e9e20536e775497830990834d]\n",
       "class E10--><a href=\"psysml:ec83ca81-a881-4da3-97a0-46e2b6aae84c\" target=\"_top\" title=\"psysml:ec83ca81-a881-4da3-97a0-46e2b6aae84c\" xlink:actuate=\"onRequest\" xlink:href=\"psysml:ec83ca81-a881-4da3-97a0-46e2b6aae84c\" xlink:show=\"new\" xlink:title=\"psysml:ec83ca81-a881-4da3-97a0-46e2b6aae84c\" xlink:type=\"simple\"><rect fill=\"#FFFFFF\" height=\"45.9375\" id=\"E10\" rx=\"10\" ry=\"10\" style=\"stroke: #383838; stroke-width: 1.5;\" width=\"149\" x=\"505.5\" y=\"41\"/><text fill=\"#000000\" font-family=\"sans-serif\" font-size=\"12\" font-style=\"italic\" lengthAdjust=\"spacingAndGlyphs\" textLength=\"147\" x=\"506.5\" y=\"57.1387\">«individual occurrence»</text><text fill=\"#000000\" font-family=\"sans-serif\" font-size=\"12\" lengthAdjust=\"spacingAndGlyphs\" textLength=\"77\" x=\"539.5\" y=\"71.1074\">ind: Ind, Occ</text><line style=\"stroke: #383838; stroke-width: 1.5;\" x1=\"506.5\" x2=\"653.5\" y1=\"78.9375\" y2=\"78.9375\"/></a><!--MD5=[1dd1bfd58a279cf63c5f349dbc8fc6a1]\n",
       "class E11--><a href=\"psysml:fe74329f-5d2b-4ebe-b106-a7ecca7a6fbd\" target=\"_top\" title=\"psysml:fe74329f-5d2b-4ebe-b106-a7ecca7a6fbd\" xlink:actuate=\"onRequest\" xlink:href=\"psysml:fe74329f-5d2b-4ebe-b106-a7ecca7a6fbd\" xlink:show=\"new\" xlink:title=\"psysml:fe74329f-5d2b-4ebe-b106-a7ecca7a6fbd\" xlink:type=\"simple\"><rect fill=\"#FFFFFF\" height=\"45.9375\" id=\"E11\" rx=\"10\" ry=\"10\" style=\"stroke: #383838; stroke-width: 1.5;\" width=\"150\" x=\"561\" y=\"162\"/><text fill=\"#000000\" font-family=\"sans-serif\" font-size=\"12\" font-style=\"italic\" lengthAdjust=\"spacingAndGlyphs\" textLength=\"148\" x=\"562\" y=\"178.1387\">«snapshot occurrence»</text><text fill=\"#000000\" font-family=\"sans-serif\" font-size=\"12\" lengthAdjust=\"spacingAndGlyphs\" textLength=\"15\" x=\"626.5\" y=\"192.1074\">s3</text><line style=\"stroke: #383838; stroke-width: 1.5;\" x1=\"562\" x2=\"710\" y1=\"199.9375\" y2=\"199.9375\"/></a><!--MD5=[49a0ec8f00dab7302a31f22d0f0fe584]\n",
       "class E12--><a href=\"psysml:6925098a-d5ed-431f-aaf1-d453853f914b\" target=\"_top\" title=\"psysml:6925098a-d5ed-431f-aaf1-d453853f914b\" xlink:actuate=\"onRequest\" xlink:href=\"psysml:6925098a-d5ed-431f-aaf1-d453853f914b\" xlink:show=\"new\" xlink:title=\"psysml:6925098a-d5ed-431f-aaf1-d453853f914b\" xlink:type=\"simple\"><rect fill=\"#FFFFFF\" height=\"45.9375\" id=\"E12\" rx=\"10\" ry=\"10\" style=\"stroke: #383838; stroke-width: 1.5;\" width=\"208\" x=\"746\" y=\"162\"/><text fill=\"#000000\" font-family=\"sans-serif\" font-size=\"12\" font-style=\"italic\" lengthAdjust=\"spacingAndGlyphs\" textLength=\"206\" x=\"747\" y=\"178.1387\">«individual timeslice occurrence»</text><text fill=\"#000000\" font-family=\"sans-serif\" font-size=\"12\" lengthAdjust=\"spacingAndGlyphs\" textLength=\"13\" x=\"841.5\" y=\"192.1074\">t3</text><line style=\"stroke: #383838; stroke-width: 1.5;\" x1=\"747\" x2=\"953\" y1=\"199.9375\" y2=\"199.9375\"/></a><!--MD5=[ee3c913d1a06f366521f9ef512b67efe]\n",
       "class E13--><a href=\"psysml:4e4d3416-6ae1-42d7-bc86-2084c913e314\" target=\"_top\" title=\"psysml:4e4d3416-6ae1-42d7-bc86-2084c913e314\" xlink:actuate=\"onRequest\" xlink:href=\"psysml:4e4d3416-6ae1-42d7-bc86-2084c913e314\" xlink:show=\"new\" xlink:title=\"psysml:4e4d3416-6ae1-42d7-bc86-2084c913e314\" xlink:type=\"simple\"><rect fill=\"#FFFFFF\" height=\"45.9375\" id=\"E13\" rx=\"10\" ry=\"10\" style=\"stroke: #383838; stroke-width: 1.5;\" width=\"212\" x=\"32\" y=\"283\"/><text fill=\"#000000\" font-family=\"sans-serif\" font-size=\"12\" font-style=\"italic\" lengthAdjust=\"spacingAndGlyphs\" textLength=\"210\" x=\"33\" y=\"299.1387\">«individual snapshot occurrence»</text><text fill=\"#000000\" font-family=\"sans-serif\" font-size=\"12\" lengthAdjust=\"spacingAndGlyphs\" textLength=\"42\" x=\"115\" y=\"313.1074\">s4: Ind</text><line style=\"stroke: #383838; stroke-width: 1.5;\" x1=\"33\" x2=\"243\" y1=\"320.9375\" y2=\"320.9375\"/></a><!--MD5=[209b3feb70ccb6233bfe1053d122c12c]\n",
       "reverse link E2 to E3--><a href=\"psysml:62ea934f-12d4-42a0-b786-a1086ef654f4\" target=\"_top\" title=\"psysml:62ea934f-12d4-42a0-b786-a1086ef654f4\" xlink:actuate=\"onRequest\" xlink:href=\"psysml:62ea934f-12d4-42a0-b786-a1086ef654f4\" xlink:show=\"new\" xlink:title=\"psysml:62ea934f-12d4-42a0-b786-a1086ef654f4\" xlink:type=\"simple\"><path d=\"M376.37,232.45 C359.85,249.83 343.43,268.76 332.86,282.93 \" fill=\"none\" id=\"E2&lt;-E3\" style=\"stroke: #383838; stroke-width: 1.0;\"/><polygon fill=\"#FFFFFF\" points=\"385.52,223,378.4729,224.5294,377.1743,231.6226,384.2213,230.0932,385.52,223\" style=\"stroke: #383838; stroke-width: 1.0;\"/></a><!--MD5=[05d275557350bfb9b23a4ef7222b4c39]\n",
       "link E3 to E2--><a href=\"psysml:72edb9ed-f456-4be1-846b-a7c4b7fb6ef3\" target=\"_top\" title=\"psysml:72edb9ed-f456-4be1-846b-a7c4b7fb6ef3\" xlink:actuate=\"onRequest\" xlink:href=\"psysml:72edb9ed-f456-4be1-846b-a7c4b7fb6ef3\" xlink:show=\"new\" xlink:title=\"psysml:72edb9ed-f456-4be1-846b-a7c4b7fb6ef3\" xlink:type=\"simple\"><path d=\"M353.8,282.93 C367.38,270.34 383.11,253.98 396.95,238.29 \" fill=\"none\" id=\"E3-&gt;E2\" style=\"stroke: #383838; stroke-width: 1.0;\"/><polygon fill=\"#FFFFFF\" points=\"410.02,223,403.0007,241.9929,392.3563,232.8991,410.02,223\" style=\"stroke: #383838; stroke-width: 1.0;\"/><ellipse cx=\"397.7776\" cy=\"245.0276\" fill=\"#383838\" rx=\"2\" ry=\"2\" style=\"stroke: #383838; stroke-width: 1.0;\"/><ellipse cx=\"390.1744\" cy=\"238.532\" fill=\"#383838\" rx=\"2\" ry=\"2\" style=\"stroke: #383838; stroke-width: 1.0;\"/></a><!--MD5=[9618e71518536f8baf3342ff6fdab317]\n",
       "reverse link E2 to E4--><a href=\"psysml:1930a264-e184-4aca-ae40-6206f5d09a7f\" target=\"_top\" title=\"psysml:1930a264-e184-4aca-ae40-6206f5d09a7f\" xlink:actuate=\"onRequest\" xlink:href=\"psysml:1930a264-e184-4aca-ae40-6206f5d09a7f\" xlink:show=\"new\" xlink:title=\"psysml:1930a264-e184-4aca-ae40-6206f5d09a7f\" xlink:type=\"simple\"><path d=\"M424.31,236.34 C425.74,252.61 428.58,269.81 432.23,282.93 \" fill=\"none\" id=\"E2&lt;-E4\" style=\"stroke: #383838; stroke-width: 1.0;\"/><polygon fill=\"#383838\" points=\"423.45,223,419.8475,229.2467,424.2281,234.9747,427.8306,228.728,423.45,223\" style=\"stroke: #383838; stroke-width: 1.0;\"/></a><!--MD5=[185131fc0dcab0a4505a2ebe144e961b]\n",
       "link E4 to E2--><a href=\"psysml:32367fe5-1bb2-4952-a335-a8970d1d9f84\" target=\"_top\" title=\"psysml:32367fe5-1bb2-4952-a335-a8970d1d9f84\" xlink:actuate=\"onRequest\" xlink:href=\"psysml:32367fe5-1bb2-4952-a335-a8970d1d9f84\" xlink:show=\"new\" xlink:title=\"psysml:32367fe5-1bb2-4952-a335-a8970d1d9f84\" xlink:type=\"simple\"><path d=\"M453.17,282.93 C453.77,271.65 452.99,257.34 451.22,243.21 \" fill=\"none\" id=\"E4-&gt;E2\" style=\"stroke: #383838; stroke-width: 1.0;\"/><polygon fill=\"#FFFFFF\" points=\"447.96,223,457.8973,240.6423,444.0761,242.8725,447.96,223\" style=\"stroke: #383838; stroke-width: 1.0;\"/><ellipse cx=\"456.8309\" cy=\"246.5881\" fill=\"#383838\" rx=\"2\" ry=\"2\" style=\"stroke: #383838; stroke-width: 1.0;\"/><ellipse cx=\"446.9586\" cy=\"248.1811\" fill=\"#383838\" rx=\"2\" ry=\"2\" style=\"stroke: #383838; stroke-width: 1.0;\"/></a><!--MD5=[4e1a83fab71cdb913c109063314ae896]\n",
       "reverse link E2 to E5--><a href=\"psysml:0faf658f-4e02-48cd-849b-e0220b5d7629\" target=\"_top\" title=\"psysml:0faf658f-4e02-48cd-849b-e0220b5d7629\" xlink:actuate=\"onRequest\" xlink:href=\"psysml:0faf658f-4e02-48cd-849b-e0220b5d7629\" xlink:show=\"new\" xlink:title=\"psysml:0faf658f-4e02-48cd-849b-e0220b5d7629\" xlink:type=\"simple\"><path d=\"M499.85,227.17 C531.12,245.87 566.86,267.24 592.97,282.85 \" fill=\"none\" id=\"E2&lt;-E5\" style=\"stroke: #383838; stroke-width: 1.0;\"/><polygon fill=\"#383838\" points=\"488.56,220.42,491.6568,226.9323,498.8592,226.5784,495.7624,220.0661,488.56,220.42\" style=\"stroke: #383838; stroke-width: 1.0;\"/></a><!--MD5=[ce036f65110ae2351ccce5a81dc2e928]\n",
       "reverse link E2 to E6--><a href=\"psysml:3f965610-dfca-4051-a1f3-35306b55574a\" target=\"_top\" title=\"psysml:3f965610-dfca-4051-a1f3-35306b55574a\" xlink:actuate=\"onRequest\" xlink:href=\"psysml:3f965610-dfca-4051-a1f3-35306b55574a\" xlink:show=\"new\" xlink:title=\"psysml:3f965610-dfca-4051-a1f3-35306b55574a\" xlink:type=\"simple\"><path d=\"M501.02,217.55 C506.06,219.49 511.08,221.33 516,223 C528.19,227.15 677.82,264.14 770.71,287 \" fill=\"none\" id=\"E2&lt;-E6\" style=\"stroke: #383838; stroke-width: 1.0;\"/><polygon fill=\"#383838\" points=\"488.57,212.58,492.6577,218.5206,499.7135,217.0321,495.6258,211.0916,488.57,212.58\" style=\"stroke: #383838; stroke-width: 1.0;\"/></a><!--MD5=[3a9b96bfbf6b6ad89c494e81751bda47]\n",
       "link E5 to E7--><a href=\"psysml:5b4e0f94-bd6c-4a04-8036-e6bb7f85be93\" target=\"_top\" title=\"psysml:5b4e0f94-bd6c-4a04-8036-e6bb7f85be93\" xlink:actuate=\"onRequest\" xlink:href=\"psysml:5b4e0f94-bd6c-4a04-8036-e6bb7f85be93\" xlink:show=\"new\" xlink:title=\"psysml:5b4e0f94-bd6c-4a04-8036-e6bb7f85be93\" xlink:type=\"simple\"><path d=\"M630,329.06 C630,340.64 630,355.23 630,368.87 \" fill=\"none\" id=\"E5-&gt;E7\" style=\"stroke: #383838; stroke-width: 1.0;\"/><polygon fill=\"#FFFFFF\" points=\"630,388.98,623,369.98,637,369.98,630,388.98\" style=\"stroke: #383838; stroke-width: 1.0;\"/><ellipse cx=\"625\" cy=\"364.28\" fill=\"#383838\" rx=\"2\" ry=\"2\" style=\"stroke: #383838; stroke-width: 1.0;\"/><ellipse cx=\"635\" cy=\"364.28\" fill=\"#383838\" rx=\"2\" ry=\"2\" style=\"stroke: #383838; stroke-width: 1.0;\"/></a><!--MD5=[dc164f5e8a733ab456ef1add180e9e34]\n",
       "reverse link E7 to E8--><a href=\"psysml:37f490ca-8c9f-44ef-b281-38d91f32f2bf\" target=\"_top\" title=\"psysml:37f490ca-8c9f-44ef-b281-38d91f32f2bf\" xlink:actuate=\"onRequest\" xlink:href=\"psysml:37f490ca-8c9f-44ef-b281-38d91f32f2bf\" xlink:show=\"new\" xlink:title=\"psysml:37f490ca-8c9f-44ef-b281-38d91f32f2bf\" xlink:type=\"simple\"><path d=\"M601.55,445.16 C587.25,461.33 570.28,480.51 557.48,494.98 \" fill=\"none\" id=\"E7&lt;-E8\" style=\"stroke: #383838; stroke-width: 1.0;\"/><polygon fill=\"#383838\" points=\"610.49,435.06,603.5177,436.9004,602.5348,444.0442,609.5071,442.2038,610.49,435.06\" style=\"stroke: #383838; stroke-width: 1.0;\"/></a><!--MD5=[e4a10ef82d0e328e31cac39a31e58dda]\n",
       "reverse link E7 to E9--><a href=\"psysml:c791e7ed-713f-4106-b9d5-0dfb97ea4543\" target=\"_top\" title=\"psysml:c791e7ed-713f-4106-b9d5-0dfb97ea4543\" xlink:actuate=\"onRequest\" xlink:href=\"psysml:c791e7ed-713f-4106-b9d5-0dfb97ea4543\" xlink:show=\"new\" xlink:title=\"psysml:c791e7ed-713f-4106-b9d5-0dfb97ea4543\" xlink:type=\"simple\"><path d=\"M658.14,445.16 C672.29,461.33 689.07,480.51 701.73,494.98 \" fill=\"none\" id=\"E7&lt;-E9\" style=\"stroke: #383838; stroke-width: 1.0;\"/><polygon fill=\"#383838\" points=\"649.3,435.06,650.2496,442.2083,657.2133,444.0811,656.2637,436.9328,649.3,435.06\" style=\"stroke: #383838; stroke-width: 1.0;\"/></a><!--MD5=[a919e0967d6f3de553dc51b9865a1d6d]\n",
       "link E10 to E7--><a href=\"psysml:d7bf13fe-2343-4091-93b6-ccc05bfccd1c\" target=\"_top\" title=\"psysml:d7bf13fe-2343-4091-93b6-ccc05bfccd1c\" xlink:actuate=\"onRequest\" xlink:href=\"psysml:d7bf13fe-2343-4091-93b6-ccc05bfccd1c\" xlink:show=\"new\" xlink:title=\"psysml:d7bf13fe-2343-4091-93b6-ccc05bfccd1c\" xlink:type=\"simple\"><path d=\"M564.36,87.23 C542.92,120.68 510.65,184.15 544,223 C658.5,356.41 820.5,149.59 935,283 C997.3,355.58 849.41,387.9 738.47,401.63 \" fill=\"none\" id=\"E10-&gt;E7\" style=\"stroke: #383838; stroke-width: 1.0;\"/><polygon fill=\"#FFFFFF\" points=\"718.6,403.94,736.6627,394.7891,738.2822,408.6951,718.6,403.94\" style=\"stroke: #383838; stroke-width: 1.0;\"/><ellipse cx=\"742.5558\" cy=\"396.1162\" fill=\"#383838\" rx=\"2\" ry=\"2\" style=\"stroke: #383838; stroke-width: 1.0;\"/><ellipse cx=\"743.7126\" cy=\"406.0491\" fill=\"#383838\" rx=\"2\" ry=\"2\" style=\"stroke: #383838; stroke-width: 1.0;\"/></a><!--MD5=[0f36bececdf0dff6e600d6f64214b0f1]\n",
       "link E10 to E2--><a href=\"psysml:65e23dda-2765-4b86-8b8c-165f4272381c\" target=\"_top\" title=\"psysml:65e23dda-2765-4b86-8b8c-165f4272381c\" xlink:actuate=\"onRequest\" xlink:href=\"psysml:65e23dda-2765-4b86-8b8c-165f4272381c\" xlink:show=\"new\" xlink:title=\"psysml:65e23dda-2765-4b86-8b8c-165f4272381c\" xlink:type=\"simple\"><path d=\"M552.32,87.1 C535.71,100.38 513.86,117.82 493.29,134.25 \" fill=\"none\" id=\"E10-&gt;E2\" style=\"stroke: #383838; stroke-width: 1.0;\"/><polygon fill=\"#FFFFFF\" points=\"477.56,146.81,488.0352,129.4817,496.7737,140.4197,477.56,146.81\" style=\"stroke: #383838; stroke-width: 1.0;\"/><ellipse cx=\"493.7369\" cy=\"127.4865\" fill=\"#383838\" rx=\"2\" ry=\"2\" style=\"stroke: #383838; stroke-width: 1.0;\"/><ellipse cx=\"499.9786\" cy=\"135.2994\" fill=\"#383838\" rx=\"2\" ry=\"2\" style=\"stroke: #383838; stroke-width: 1.0;\"/></a><!--MD5=[de308be4a2431766a05a907a031c07fc]\n",
       "reverse link E10 to E11--><a href=\"psysml:996a22eb-9701-44d5-9cb6-35ae83d4d1b1\" target=\"_top\" title=\"psysml:996a22eb-9701-44d5-9cb6-35ae83d4d1b1\" xlink:actuate=\"onRequest\" xlink:href=\"psysml:996a22eb-9701-44d5-9cb6-35ae83d4d1b1\" xlink:show=\"new\" xlink:title=\"psysml:996a22eb-9701-44d5-9cb6-35ae83d4d1b1\" xlink:type=\"simple\"><path d=\"M595.95,98.9 C605.42,119.01 617.15,143.94 625.46,161.61 \" fill=\"none\" id=\"E10&lt;-E11\" style=\"stroke: #383838; stroke-width: 1.0;\"/><polygon fill=\"#383838\" points=\"590.4,87.1,589.3334,94.2318,595.5064,97.9593,596.573,90.8275,590.4,87.1\" style=\"stroke: #383838; stroke-width: 1.0;\"/></a><!--MD5=[1d54f998c6d5961a1a9184be73a7eb6c]\n",
       "reverse link E10 to E12--><a href=\"psysml:da3311a8-2759-47ea-b229-fd34ee887055\" target=\"_top\" title=\"psysml:da3311a8-2759-47ea-b229-fd34ee887055\" xlink:actuate=\"onRequest\" xlink:href=\"psysml:da3311a8-2759-47ea-b229-fd34ee887055\" xlink:show=\"new\" xlink:title=\"psysml:da3311a8-2759-47ea-b229-fd34ee887055\" xlink:type=\"simple\"><path d=\"M642.21,92.42 C689.99,113.48 755.13,142.19 799.66,161.81 \" fill=\"none\" id=\"E10&lt;-E12\" style=\"stroke: #383838; stroke-width: 1.0;\"/><polygon fill=\"#383838\" points=\"630.15,87.1,634.028,93.1796,641.1314,91.9382,637.2534,85.8586,630.15,87.1\" style=\"stroke: #383838; stroke-width: 1.0;\"/></a><!--MD5=[4a48077df6499cfcd20b62e8f5f37904]\n",
       "link E13 to E7--><a href=\"psysml:fb78d99f-0705-4d43-aabd-2eaf1ce47389\" target=\"_top\" title=\"psysml:fb78d99f-0705-4d43-aabd-2eaf1ce47389\" xlink:actuate=\"onRequest\" xlink:href=\"psysml:fb78d99f-0705-4d43-aabd-2eaf1ce47389\" xlink:show=\"new\" xlink:title=\"psysml:fb78d99f-0705-4d43-aabd-2eaf1ce47389\" xlink:type=\"simple\"><path d=\"M242.34,329.06 C324.51,346.43 438.67,370.56 521.82,388.13 \" fill=\"none\" id=\"E13-&gt;E7\" style=\"stroke: #383838; stroke-width: 1.0;\"/><polygon fill=\"#FFFFFF\" points=\"541.45,392.28,521.4143,395.2075,524.304,381.509,541.45,392.28\" style=\"stroke: #383838; stroke-width: 1.0;\"/><ellipse cx=\"516.2498\" cy=\"392.0741\" fill=\"#383838\" rx=\"2\" ry=\"2\" style=\"stroke: #383838; stroke-width: 1.0;\"/><ellipse cx=\"518.3139\" cy=\"382.2894\" fill=\"#383838\" rx=\"2\" ry=\"2\" style=\"stroke: #383838; stroke-width: 1.0;\"/></a><!--MD5=[e9a0aa8a115a6846f6b2769f46f84195]\n",
       "@startuml\r\n",
       " skinparam monochrome true\r\n",
       "skinparam classbackgroundcolor white\r\n",
       "skinparam shadowing false\r\n",
       "skinparam wrapWidth 300\r\n",
       "hide circle\r\n",
       "\r\n",
       "package \"OccurrenceTest\" as E1  [[psysml:76f03fcf-c31b-4704-ae9e-b44a23fd6ebe ]]  {\r\n",
       "comp def \"Occ\" as E2  <<(T,blue) occurrence  def>> [[psysml:eaa0b96d-7da2-44a7-b980-6b6f36747918 ]] {\r\n",
       "- - attributes - -\r\n",
       "a\r\n",
       "}\r\n",
       "comp usage \"occ1: Occ \" as E3  <<(T,blue) occurrence>> [[psysml:87fca259-1c14-4b5b-983e-37895f6ff77b ]] {\r\n",
       "}\r\n",
       "comp usage \"occ2: Occ \" as E4  <<(T,blue) occurrence>> [[psysml:ffd2f288-180d-4271-8880-cf9706207ba2 ]] {\r\n",
       "}\r\n",
       "comp usage \"s: Ind \" as E5  <<(T,blue) individual snapshot occurrence>> [[psysml:4e1769cc-a186-417e-91f0-587d1f1196e7 ]] {\r\n",
       "}\r\n",
       "comp usage \"t \" as E6  <<(T,blue) timeslice occurrence>> [[psysml:9c61ac47-8b4e-45e2-802a-f3aa096140c4 ]] {\r\n",
       "}\r\n",
       "comp def \"Ind\" as E7  <<(T,blue) individual occurrence  def>> [[psysml:54e4af67-f268-48a3-80b8-bc1579f32c01 ]] {\r\n",
       "}\r\n",
       "comp usage \"s2 \" as E8  <<(T,blue) snapshot occurrence>> [[psysml:bfc31472-e77d-4111-949c-57e124b09868 ]] {\r\n",
       "}\r\n",
       "comp usage \"t2 \" as E9  <<(T,blue) timeslice occurrence>> [[psysml:25521b86-d75d-41e6-9d0e-592064bc2653 ]] {\r\n",
       "}\r\n",
       "comp usage \"ind: Ind, Occ \" as E10  <<(T,blue) individual occurrence>> [[psysml:ec83ca81-a881-4da3-97a0-46e2b6aae84c ]] {\r\n",
       "}\r\n",
       "comp usage \"s3 \" as E11  <<(T,blue) snapshot occurrence>> [[psysml:fe74329f-5d2b-4ebe-b106-a7ecca7a6fbd ]] {\r\n",
       "}\r\n",
       "comp usage \"t3 \" as E12  <<(T,blue) individual timeslice occurrence>> [[psysml:6925098a-d5ed-431f-aaf1-d453853f914b ]] {\r\n",
       "}\r\n",
       "comp usage \"s4: Ind \" as E13  <<(T,blue) individual snapshot occurrence>> [[psysml:4e4d3416-6ae1-42d7-bc86-2084c913e314 ]] {\r\n",
       "}\r\n",
       "}\r\n",
       "E2 o- - E3 [[psysml:62ea934f-12d4-42a0-b786-a1086ef654f4 ]] \r\n",
       "E3 - -:|> E2 [[psysml:72edb9ed-f456-4be1-846b-a7c4b7fb6ef3 ]] \r\n",
       "E2 *- - E4 [[psysml:1930a264-e184-4aca-ae40-6206f5d09a7f ]] \r\n",
       "E4 - -:|> E2 [[psysml:32367fe5-1bb2-4952-a335-a8970d1d9f84 ]] \r\n",
       "E2 *- - E5 [[psysml:0faf658f-4e02-48cd-849b-e0220b5d7629 ]] \r\n",
       "E2 *- - E6 [[psysml:3f965610-dfca-4051-a1f3-35306b55574a ]] \r\n",
       "E5 - -:|> E7 [[psysml:5b4e0f94-bd6c-4a04-8036-e6bb7f85be93 ]] \r\n",
       "E7 *- - E8 [[psysml:37f490ca-8c9f-44ef-b281-38d91f32f2bf ]] \r\n",
       "E7 *- - E9 [[psysml:c791e7ed-713f-4106-b9d5-0dfb97ea4543 ]] \r\n",
       "E10 - -:|> E7 [[psysml:d7bf13fe-2343-4091-93b6-ccc05bfccd1c ]] \r\n",
       "E10 - -:|> E2 [[psysml:65e23dda-2765-4b86-8b8c-165f4272381c ]] \r\n",
       "E10 *- - E11 [[psysml:996a22eb-9701-44d5-9cb6-35ae83d4d1b1 ]] \r\n",
       "E10 *- - E12 [[psysml:da3311a8-2759-47ea-b229-fd34ee887055 ]] \r\n",
       "E13 - -:|> E7 [[psysml:fb78d99f-0705-4d43-aabd-2eaf1ce47389 ]] \r\n",
       "@enduml\r\n",
       "\n",
       "PlantUML version 1.2020.13(Sat Jun 13 12:26:38 UTC 2020)\n",
       "(EPL source distribution)\n",
       "Java Runtime: OpenJDK Runtime Environment\n",
       "JVM: OpenJDK 64-Bit Server VM\n",
       "Default Encoding: UTF-8\n",
       "Language: en\n",
       "Country: null\n",
       "--></g></svg>"
      ]
     },
     "execution_count": 3,
     "metadata": {},
     "output_type": "execute_result"
    }
   ],
   "source": [
    "%viz --style=\"COMPTREE\" --view=\"Tree\" \"OccurrenceTest\""
   ]
  },
  {
   "cell_type": "code",
   "execution_count": 4,
   "id": "7f0ed99c",
   "metadata": {
    "execution": {
     "iopub.execute_input": "2022-02-18T10:48:35.996718Z",
     "iopub.status.busy": "2022-02-18T10:48:35.996323Z",
     "iopub.status.idle": "2022-02-18T10:48:36.003528Z",
     "shell.execute_reply": "2022-02-18T10:48:36.003882Z"
    }
   },
   "outputs": [
    {
     "data": {
      "image/svg+xml": [
       "<?xml version=\"1.0\" encoding=\"UTF-8\" standalone=\"no\"?><svg xmlns=\"http://www.w3.org/2000/svg\" xmlns:xlink=\"http://www.w3.org/1999/xlink\" contentScriptType=\"application/ecmascript\" contentStyleType=\"text/css\" height=\"12px\" preserveAspectRatio=\"none\" style=\"width:12px;height:12px;\" version=\"1.1\" viewBox=\"0 0 12 12\" width=\"12px\" zoomAndPan=\"magnify\"><defs/><g><!--MD5=[f19188ef49e11757b5c46753f95d9edc]\n",
       "@startuml\r\n",
       " skinparam monochrome true\r\n",
       "skinparam classbackgroundcolor white\r\n",
       "skinparam shadowing false\r\n",
       "skinparam wrapWidth 300\r\n",
       "hide circle\r\n",
       "\r\n",
       "@enduml\r\n",
       "\n",
       "PlantUML version 1.2020.13(Sat Jun 13 12:26:38 UTC 2020)\n",
       "(EPL source distribution)\n",
       "Java Runtime: OpenJDK Runtime Environment\n",
       "JVM: OpenJDK 64-Bit Server VM\n",
       "Default Encoding: UTF-8\n",
       "Language: en\n",
       "Country: null\n",
       "--></g></svg>"
      ]
     },
     "execution_count": 4,
     "metadata": {},
     "output_type": "execute_result"
    }
   ],
   "source": [
    "%viz --style=\"COMPTREE\" --view=\"State\" \"OccurrenceTest\""
   ]
  },
  {
   "cell_type": "code",
   "execution_count": 5,
   "id": "1293f22d",
   "metadata": {
    "execution": {
     "iopub.execute_input": "2022-02-18T10:48:36.054435Z",
     "iopub.status.busy": "2022-02-18T10:48:36.054039Z",
     "iopub.status.idle": "2022-02-18T10:48:36.111476Z",
     "shell.execute_reply": "2022-02-18T10:48:36.111785Z"
    }
   },
   "outputs": [
    {
     "data": {
      "image/svg+xml": [
       "<?xml version=\"1.0\" encoding=\"UTF-8\" standalone=\"no\"?><svg xmlns=\"http://www.w3.org/2000/svg\" xmlns:xlink=\"http://www.w3.org/1999/xlink\" contentScriptType=\"application/ecmascript\" contentStyleType=\"text/css\" height=\"195px\" preserveAspectRatio=\"none\" style=\"width:1123px;height:195px;\" version=\"1.1\" viewBox=\"0 0 1123 195\" width=\"1123px\" zoomAndPan=\"magnify\"><defs/><g><!--MD5=[fbc87193dbaf4d95561dea2c320d4a47]\n",
       "cluster E1--><a href=\"psysml:76f03fcf-c31b-4704-ae9e-b44a23fd6ebe\" target=\"_top\" title=\"psysml:76f03fcf-c31b-4704-ae9e-b44a23fd6ebe\" xlink:actuate=\"onRequest\" xlink:href=\"psysml:76f03fcf-c31b-4704-ae9e-b44a23fd6ebe\" xlink:show=\"new\" xlink:title=\"psysml:76f03fcf-c31b-4704-ae9e-b44a23fd6ebe\" xlink:type=\"simple\"><polygon fill=\"#FFFFFF\" points=\"16,6,134,6,141,28.2969,1101,28.2969,1101,183,16,183,16,6\" style=\"stroke: #000000; stroke-width: 1.5;\"/><line style=\"stroke: #000000; stroke-width: 1.5;\" x1=\"16\" x2=\"141\" y1=\"28.2969\" y2=\"28.2969\"/><text fill=\"#000000\" font-family=\"sans-serif\" font-size=\"14\" font-weight=\"bold\" lengthAdjust=\"spacingAndGlyphs\" textLength=\"112\" x=\"20\" y=\"20.9951\">OccurrenceTest</text></a><!--MD5=[f6df4d0ebaf0b5dfb2ced0ae5af7c670]\n",
       "cluster E4--><a href=\"psysml:ec83ca81-a881-4da3-97a0-46e2b6aae84c\" target=\"_top\" title=\"psysml:ec83ca81-a881-4da3-97a0-46e2b6aae84c\" xlink:actuate=\"onRequest\" xlink:href=\"psysml:ec83ca81-a881-4da3-97a0-46e2b6aae84c\" xlink:show=\"new\" xlink:title=\"psysml:ec83ca81-a881-4da3-97a0-46e2b6aae84c\" xlink:type=\"simple\"><rect fill=\"#FFFFFF\" height=\"110\" id=\"E4\" rx=\"10\" ry=\"10\" style=\"stroke: #383838; stroke-width: 1.5;\" width=\"435\" x=\"642\" y=\"49\"/><rect fill=\"#F8F8F8\" height=\"37.9375\" rx=\"10\" ry=\"10\" style=\"stroke: #F8F8F8; stroke-width: 1.5;\" width=\"435\" x=\"642\" y=\"49\"/><rect fill=\"#F8F8F8\" height=\"10\" style=\"stroke: #F8F8F8; stroke-width: 1.5;\" width=\"435\" x=\"642\" y=\"76.9375\"/><rect fill=\"none\" height=\"110\" id=\"E4\" rx=\"10\" ry=\"10\" style=\"stroke: #383838; stroke-width: 1.5;\" width=\"435\" x=\"642\" y=\"49\"/><text fill=\"#000000\" font-family=\"sans-serif\" font-size=\"12\" font-style=\"italic\" lengthAdjust=\"spacingAndGlyphs\" textLength=\"147\" x=\"786\" y=\"65.1387\">«individual occurrence»</text><text fill=\"#000000\" font-family=\"sans-serif\" font-size=\"12\" lengthAdjust=\"spacingAndGlyphs\" textLength=\"77\" x=\"821\" y=\"79.1074\">ind: Ind, Occ</text><line style=\"stroke: #383838; stroke-width: 1.0;\" x1=\"642\" x2=\"1077\" y1=\"86.9375\" y2=\"86.9375\"/></a><g id=\"E1.E2\"><a href=\"psysml:eaa0b96d-7da2-44a7-b980-6b6f36747918\" target=\"_top\" title=\"psysml:eaa0b96d-7da2-44a7-b980-6b6f36747918\" xlink:actuate=\"onRequest\" xlink:href=\"psysml:eaa0b96d-7da2-44a7-b980-6b6f36747918\" xlink:show=\"new\" xlink:title=\"psysml:eaa0b96d-7da2-44a7-b980-6b6f36747918\" xlink:type=\"simple\"><rect fill=\"#FFFFFF\" height=\"42.9375\" id=\"E2\" style=\"stroke: #383838; stroke-width: 1.5;\" width=\"120\" x=\"502\" y=\"100\"/><rect fill=\"#F8F8F8\" height=\"37.9375\" style=\"stroke: #383838; stroke-width: 1.5;\" width=\"120\" x=\"502\" y=\"100\"/><text fill=\"#000000\" font-family=\"sans-serif\" font-size=\"12\" font-style=\"italic\" lengthAdjust=\"spacingAndGlyphs\" textLength=\"113\" x=\"505.5\" y=\"116.1387\">«occurrence  def»</text><text fill=\"#000000\" font-family=\"sans-serif\" font-size=\"12\" lengthAdjust=\"spacingAndGlyphs\" textLength=\"23\" x=\"550.5\" y=\"130.1074\">Occ</text></a></g><g id=\"E1.E3\"><a href=\"psysml:54e4af67-f268-48a3-80b8-bc1579f32c01\" target=\"_top\" title=\"psysml:54e4af67-f268-48a3-80b8-bc1579f32c01\" xlink:actuate=\"onRequest\" xlink:href=\"psysml:54e4af67-f268-48a3-80b8-bc1579f32c01\" xlink:show=\"new\" xlink:title=\"psysml:54e4af67-f268-48a3-80b8-bc1579f32c01\" xlink:type=\"simple\"><rect fill=\"#FFFFFF\" height=\"42.9375\" id=\"E3\" style=\"stroke: #383838; stroke-width: 1.5;\" width=\"182\" x=\"285\" y=\"100\"/><rect fill=\"#F8F8F8\" height=\"37.9375\" style=\"stroke: #383838; stroke-width: 1.5;\" width=\"182\" x=\"285\" y=\"100\"/><text fill=\"#000000\" font-family=\"sans-serif\" font-size=\"12\" font-style=\"italic\" lengthAdjust=\"spacingAndGlyphs\" textLength=\"175\" x=\"288.5\" y=\"116.1387\">«individual occurrence  def»</text><text fill=\"#000000\" font-family=\"sans-serif\" font-size=\"12\" lengthAdjust=\"spacingAndGlyphs\" textLength=\"19\" x=\"366.5\" y=\"130.1074\">Ind</text></a></g><g id=\"E1.E4.E5\"><a href=\"psysml:fe74329f-5d2b-4ebe-b106-a7ecca7a6fbd\" target=\"_top\" title=\"psysml:fe74329f-5d2b-4ebe-b106-a7ecca7a6fbd\" xlink:actuate=\"onRequest\" xlink:href=\"psysml:fe74329f-5d2b-4ebe-b106-a7ecca7a6fbd\" xlink:show=\"new\" xlink:title=\"psysml:fe74329f-5d2b-4ebe-b106-a7ecca7a6fbd\" xlink:type=\"simple\"><rect fill=\"#FFFFFF\" height=\"42.9375\" id=\"E5\" rx=\"10\" ry=\"10\" style=\"stroke: #383838; stroke-width: 1.5;\" width=\"155\" x=\"905.5\" y=\"100\"/><rect fill=\"#F8F8F8\" height=\"37.9375\" rx=\"10\" ry=\"10\" style=\"stroke: #F8F8F8; stroke-width: 1.5;\" width=\"155\" x=\"905.5\" y=\"100\"/><rect fill=\"#F8F8F8\" height=\"10\" style=\"stroke: #F8F8F8; stroke-width: 1.5;\" width=\"155\" x=\"905.5\" y=\"127.9375\"/><rect fill=\"none\" height=\"42.9375\" id=\"E5\" rx=\"10\" ry=\"10\" style=\"stroke: #383838; stroke-width: 1.5;\" width=\"155\" x=\"905.5\" y=\"100\"/><text fill=\"#000000\" font-family=\"sans-serif\" font-size=\"12\" font-style=\"italic\" lengthAdjust=\"spacingAndGlyphs\" textLength=\"148\" x=\"909\" y=\"116.1387\">«snapshot occurrence»</text><text fill=\"#000000\" font-family=\"sans-serif\" font-size=\"12\" lengthAdjust=\"spacingAndGlyphs\" textLength=\"15\" x=\"975.5\" y=\"130.1074\">s3</text></a></g><g id=\"E1.E4.E6\"><a href=\"psysml:6925098a-d5ed-431f-aaf1-d453853f914b\" target=\"_top\" title=\"psysml:6925098a-d5ed-431f-aaf1-d453853f914b\" xlink:actuate=\"onRequest\" xlink:href=\"psysml:6925098a-d5ed-431f-aaf1-d453853f914b\" xlink:show=\"new\" xlink:title=\"psysml:6925098a-d5ed-431f-aaf1-d453853f914b\" xlink:type=\"simple\"><rect fill=\"#FFFFFF\" height=\"42.9375\" id=\"E6\" rx=\"10\" ry=\"10\" style=\"stroke: #383838; stroke-width: 1.5;\" width=\"213\" x=\"657.5\" y=\"100\"/><rect fill=\"#F8F8F8\" height=\"37.9375\" rx=\"10\" ry=\"10\" style=\"stroke: #F8F8F8; stroke-width: 1.5;\" width=\"213\" x=\"657.5\" y=\"100\"/><rect fill=\"#F8F8F8\" height=\"10\" style=\"stroke: #F8F8F8; stroke-width: 1.5;\" width=\"213\" x=\"657.5\" y=\"127.9375\"/><rect fill=\"none\" height=\"42.9375\" id=\"E6\" rx=\"10\" ry=\"10\" style=\"stroke: #383838; stroke-width: 1.5;\" width=\"213\" x=\"657.5\" y=\"100\"/><text fill=\"#000000\" font-family=\"sans-serif\" font-size=\"12\" font-style=\"italic\" lengthAdjust=\"spacingAndGlyphs\" textLength=\"206\" x=\"661\" y=\"116.1387\">«individual timeslice occurrence»</text><text fill=\"#000000\" font-family=\"sans-serif\" font-size=\"12\" lengthAdjust=\"spacingAndGlyphs\" textLength=\"13\" x=\"757.5\" y=\"130.1074\">t3</text></a></g><g id=\"E1.E7\"><a href=\"psysml:4e4d3416-6ae1-42d7-bc86-2084c913e314\" target=\"_top\" title=\"psysml:4e4d3416-6ae1-42d7-bc86-2084c913e314\" xlink:actuate=\"onRequest\" xlink:href=\"psysml:4e4d3416-6ae1-42d7-bc86-2084c913e314\" xlink:show=\"new\" xlink:title=\"psysml:4e4d3416-6ae1-42d7-bc86-2084c913e314\" xlink:type=\"simple\"><rect fill=\"#FFFFFF\" height=\"42.9375\" id=\"E7\" rx=\"10\" ry=\"10\" style=\"stroke: #383838; stroke-width: 1.5;\" width=\"217\" x=\"32.5\" y=\"100\"/><rect fill=\"#F8F8F8\" height=\"37.9375\" rx=\"10\" ry=\"10\" style=\"stroke: #F8F8F8; stroke-width: 1.5;\" width=\"217\" x=\"32.5\" y=\"100\"/><rect fill=\"#F8F8F8\" height=\"10\" style=\"stroke: #F8F8F8; stroke-width: 1.5;\" width=\"217\" x=\"32.5\" y=\"127.9375\"/><rect fill=\"none\" height=\"42.9375\" id=\"E7\" rx=\"10\" ry=\"10\" style=\"stroke: #383838; stroke-width: 1.5;\" width=\"217\" x=\"32.5\" y=\"100\"/><text fill=\"#000000\" font-family=\"sans-serif\" font-size=\"12\" font-style=\"italic\" lengthAdjust=\"spacingAndGlyphs\" textLength=\"210\" x=\"36\" y=\"116.1387\">«individual snapshot occurrence»</text><text fill=\"#000000\" font-family=\"sans-serif\" font-size=\"12\" lengthAdjust=\"spacingAndGlyphs\" textLength=\"42\" x=\"120\" y=\"130.1074\">s4: Ind</text></a></g><!--MD5=[8962ad53645da22d486cc4212dcc51ed]\n",
       "@startuml\r\n",
       "skinparam ranksep 10\r\n",
       "skinparam rectangle {\r\n",
       " backgroundColor<<block>> LightGreen\r\n",
       "}\r\n",
       " skinparam monochrome true\r\n",
       "skinparam classbackgroundcolor white\r\n",
       "skinparam shadowing false\r\n",
       "skinparam wrapWidth 300\r\n",
       "hide circle\r\n",
       "\r\n",
       "package \"OccurrenceTest\" as E1  [[psysml:76f03fcf-c31b-4704-ae9e-b44a23fd6ebe ]]  {\r\n",
       "def \"Occ\" as E2  <<(T,blue) occurrence  def>> [[psysml:eaa0b96d-7da2-44a7-b980-6b6f36747918 ]] \r\n",
       "def \"Ind\" as E3  <<(T,blue) individual occurrence  def>> [[psysml:54e4af67-f268-48a3-80b8-bc1579f32c01 ]] \r\n",
       "rec usage \"ind: Ind, Occ\" as E4  <<(T,blue) individual occurrence>> [[psysml:ec83ca81-a881-4da3-97a0-46e2b6aae84c ]] {\r\n",
       "rec usage \"s3\" as E5  <<(T,blue) snapshot occurrence>> [[psysml:fe74329f-5d2b-4ebe-b106-a7ecca7a6fbd ]] {\r\n",
       "}\r\n",
       "rec usage \"t3\" as E6  <<(T,blue) individual timeslice occurrence>> [[psysml:6925098a-d5ed-431f-aaf1-d453853f914b ]] {\r\n",
       "}\r\n",
       "}\r\n",
       "rec usage \"s4: Ind\" as E7  <<(T,blue) individual snapshot occurrence>> [[psysml:4e4d3416-6ae1-42d7-bc86-2084c913e314 ]] {\r\n",
       "}\r\n",
       "}\r\n",
       "@enduml\r\n",
       "\n",
       "PlantUML version 1.2020.13(Sat Jun 13 12:26:38 UTC 2020)\n",
       "(EPL source distribution)\n",
       "Java Runtime: OpenJDK Runtime Environment\n",
       "JVM: OpenJDK 64-Bit Server VM\n",
       "Default Encoding: UTF-8\n",
       "Language: en\n",
       "Country: null\n",
       "--></g></svg>"
      ]
     },
     "execution_count": 5,
     "metadata": {},
     "output_type": "execute_result"
    }
   ],
   "source": [
    "%viz --style=\"COMPTREE\" --view=\"Interconnection\" \"OccurrenceTest\""
   ]
  },
  {
   "cell_type": "code",
   "execution_count": 6,
   "id": "560f8eb0",
   "metadata": {
    "execution": {
     "iopub.execute_input": "2022-02-18T10:48:36.162843Z",
     "iopub.status.busy": "2022-02-18T10:48:36.162399Z",
     "iopub.status.idle": "2022-02-18T10:48:36.170168Z",
     "shell.execute_reply": "2022-02-18T10:48:36.170481Z"
    }
   },
   "outputs": [
    {
     "data": {
      "image/svg+xml": [
       "<?xml version=\"1.0\" encoding=\"UTF-8\" standalone=\"no\"?><svg xmlns=\"http://www.w3.org/2000/svg\" xmlns:xlink=\"http://www.w3.org/1999/xlink\" contentScriptType=\"application/ecmascript\" contentStyleType=\"text/css\" height=\"12px\" preserveAspectRatio=\"none\" style=\"width:12px;height:12px;\" version=\"1.1\" viewBox=\"0 0 12 12\" width=\"12px\" zoomAndPan=\"magnify\"><defs/><g><!--MD5=[655b888544ca4751ea36af1068543f84]\n",
       "@startuml\r\n",
       "skinparam ranksep 8\r\n",
       " skinparam monochrome true\r\n",
       "skinparam classbackgroundcolor white\r\n",
       "skinparam shadowing false\r\n",
       "skinparam wrapWidth 300\r\n",
       "hide circle\r\n",
       "\r\n",
       "@enduml\r\n",
       "\n",
       "PlantUML version 1.2020.13(Sat Jun 13 12:26:38 UTC 2020)\n",
       "(EPL source distribution)\n",
       "Java Runtime: OpenJDK Runtime Environment\n",
       "JVM: OpenJDK 64-Bit Server VM\n",
       "Default Encoding: UTF-8\n",
       "Language: en\n",
       "Country: null\n",
       "--></g></svg>"
      ]
     },
     "execution_count": 6,
     "metadata": {},
     "output_type": "execute_result"
    }
   ],
   "source": [
    "%viz --style=\"COMPTREE\" --view=\"Action\" \"OccurrenceTest\""
   ]
  },
  {
   "cell_type": "code",
   "execution_count": 7,
   "id": "baec3074",
   "metadata": {
    "execution": {
     "iopub.execute_input": "2022-02-18T10:48:36.221157Z",
     "iopub.status.busy": "2022-02-18T10:48:36.220759Z",
     "iopub.status.idle": "2022-02-18T10:48:36.232699Z",
     "shell.execute_reply": "2022-02-18T10:48:36.233005Z"
    }
   },
   "outputs": [
    {
     "data": {
      "image/svg+xml": [
       "<?xml version=\"1.0\" encoding=\"UTF-8\" standalone=\"no\"?><svg xmlns=\"http://www.w3.org/2000/svg\" xmlns:xlink=\"http://www.w3.org/1999/xlink\" contentScriptType=\"application/ecmascript\" contentStyleType=\"text/css\" height=\"12px\" preserveAspectRatio=\"none\" style=\"width:12px;height:12px;\" version=\"1.1\" viewBox=\"0 0 12 12\" width=\"12px\" zoomAndPan=\"magnify\"><defs/><g><!--MD5=[803fc46c337be7a5c8a9831e35356779]\n",
       "@startuml\r\n",
       "skinparam roundcorner 20\r\n",
       "skinparam BoxPadding 20\r\n",
       "skinparam SequenceBoxBackgroundColor #white\r\n",
       "skinparam style strictuml\r\n",
       "skinparam maxMessageSize 100\r\n",
       " skinparam monochrome true\r\n",
       "skinparam classbackgroundcolor white\r\n",
       "skinparam shadowing false\r\n",
       "skinparam wrapWidth 300\r\n",
       "hide circle\r\n",
       "\r\n",
       "@enduml\r\n",
       "\n",
       "PlantUML version 1.2020.13(Sat Jun 13 12:26:38 UTC 2020)\n",
       "(EPL source distribution)\n",
       "Java Runtime: OpenJDK Runtime Environment\n",
       "JVM: OpenJDK 64-Bit Server VM\n",
       "Default Encoding: UTF-8\n",
       "Language: en\n",
       "Country: null\n",
       "--></g></svg>"
      ]
     },
     "execution_count": 7,
     "metadata": {},
     "output_type": "execute_result"
    }
   ],
   "source": [
    "%viz --style=\"COMPTREE\" --view=\"Sequence\" \"OccurrenceTest\""
   ]
  },
  {
   "cell_type": "code",
   "execution_count": 8,
   "id": "65bee24f",
   "metadata": {
    "execution": {
     "iopub.execute_input": "2022-02-18T10:48:36.283716Z",
     "iopub.status.busy": "2022-02-18T10:48:36.283322Z",
     "iopub.status.idle": "2022-02-18T10:48:36.366874Z",
     "shell.execute_reply": "2022-02-18T10:48:36.366515Z"
    }
   },
   "outputs": [
    {
     "data": {
      "image/svg+xml": [
       "<?xml version=\"1.0\" encoding=\"UTF-8\" standalone=\"no\"?><svg xmlns=\"http://www.w3.org/2000/svg\" xmlns:xlink=\"http://www.w3.org/1999/xlink\" contentScriptType=\"application/ecmascript\" contentStyleType=\"text/css\" height=\"569px\" preserveAspectRatio=\"none\" style=\"width:1009px;height:569px;\" version=\"1.1\" viewBox=\"0 0 1009 569\" width=\"1009px\" zoomAndPan=\"magnify\"><defs/><g><!--MD5=[fbc87193dbaf4d95561dea2c320d4a47]\n",
       "cluster E1--><a href=\"psysml:76f03fcf-c31b-4704-ae9e-b44a23fd6ebe\" target=\"_top\" title=\"psysml:76f03fcf-c31b-4704-ae9e-b44a23fd6ebe\" xlink:actuate=\"onRequest\" xlink:href=\"psysml:76f03fcf-c31b-4704-ae9e-b44a23fd6ebe\" xlink:show=\"new\" xlink:title=\"psysml:76f03fcf-c31b-4704-ae9e-b44a23fd6ebe\" xlink:type=\"simple\"><polygon fill=\"#FFFFFF\" points=\"16,6,134,6,141,28.2969,970,28.2969,970,557,16,557,16,6\" style=\"stroke: #000000; stroke-width: 1.5;\"/><line style=\"stroke: #000000; stroke-width: 1.5;\" x1=\"16\" x2=\"141\" y1=\"28.2969\" y2=\"28.2969\"/><text fill=\"#000000\" font-family=\"sans-serif\" font-size=\"14\" font-weight=\"bold\" lengthAdjust=\"spacingAndGlyphs\" textLength=\"112\" x=\"20\" y=\"20.9951\">OccurrenceTest</text></a><!--MD5=[b4997ac47864f28c2f74865a473b2911]\n",
       "class E2--><a href=\"psysml:eaa0b96d-7da2-44a7-b980-6b6f36747918\" target=\"_top\" title=\"psysml:eaa0b96d-7da2-44a7-b980-6b6f36747918\" xlink:actuate=\"onRequest\" xlink:href=\"psysml:eaa0b96d-7da2-44a7-b980-6b6f36747918\" xlink:show=\"new\" xlink:title=\"psysml:eaa0b96d-7da2-44a7-b980-6b6f36747918\" xlink:type=\"simple\"><rect fill=\"#FFFFFF\" height=\"75.5469\" id=\"E2\" style=\"stroke: #383838; stroke-width: 1.5;\" width=\"115\" x=\"373.5\" y=\"147\"/><text fill=\"#000000\" font-family=\"sans-serif\" font-size=\"12\" font-style=\"italic\" lengthAdjust=\"spacingAndGlyphs\" textLength=\"113\" x=\"374.5\" y=\"163.1387\">«occurrence  def»</text><text fill=\"#000000\" font-family=\"sans-serif\" font-size=\"12\" lengthAdjust=\"spacingAndGlyphs\" textLength=\"23\" x=\"419.5\" y=\"177.1074\">Occ</text><line style=\"stroke: #383838; stroke-width: 1.5;\" x1=\"374.5\" x2=\"487.5\" y1=\"184.9375\" y2=\"184.9375\"/><text fill=\"#000000\" font-family=\"sans-serif\" font-size=\"11\" lengthAdjust=\"spacingAndGlyphs\" textLength=\"7\" x=\"379.5\" y=\"215.9526\">a</text><line style=\"stroke: #383838; stroke-width: 1.0;\" x1=\"374.5\" x2=\"403.5\" y1=\"199.3398\" y2=\"199.3398\"/><text fill=\"#000000\" font-family=\"sans-serif\" font-size=\"11\" lengthAdjust=\"spacingAndGlyphs\" textLength=\"55\" x=\"403.5\" y=\"202.6479\">attributes</text><line style=\"stroke: #383838; stroke-width: 1.0;\" x1=\"458.5\" x2=\"487.5\" y1=\"199.3398\" y2=\"199.3398\"/></a><!--MD5=[09b614a08d8cba4a07c9adeb5e0fee81]\n",
       "class E3--><a href=\"psysml:87fca259-1c14-4b5b-983e-37895f6ff77b\" target=\"_top\" title=\"psysml:87fca259-1c14-4b5b-983e-37895f6ff77b\" xlink:actuate=\"onRequest\" xlink:href=\"psysml:87fca259-1c14-4b5b-983e-37895f6ff77b\" xlink:show=\"new\" xlink:title=\"psysml:87fca259-1c14-4b5b-983e-37895f6ff77b\" xlink:type=\"simple\"><rect fill=\"#FFFFFF\" height=\"45.9375\" id=\"E3\" rx=\"10\" ry=\"10\" style=\"stroke: #383838; stroke-width: 1.5;\" width=\"87\" x=\"279.5\" y=\"283\"/><text fill=\"#000000\" font-family=\"sans-serif\" font-size=\"12\" font-style=\"italic\" lengthAdjust=\"spacingAndGlyphs\" textLength=\"85\" x=\"280.5\" y=\"299.1387\">«occurrence»</text><text fill=\"#000000\" font-family=\"sans-serif\" font-size=\"12\" lengthAdjust=\"spacingAndGlyphs\" textLength=\"61\" x=\"290.5\" y=\"313.1074\">occ1: Occ</text><line style=\"stroke: #383838; stroke-width: 1.5;\" x1=\"280.5\" x2=\"365.5\" y1=\"320.9375\" y2=\"320.9375\"/></a><!--MD5=[ebbe1d658d1005bcc118a6aa81145e00]\n",
       "class E4--><a href=\"psysml:ffd2f288-180d-4271-8880-cf9706207ba2\" target=\"_top\" title=\"psysml:ffd2f288-180d-4271-8880-cf9706207ba2\" xlink:actuate=\"onRequest\" xlink:href=\"psysml:ffd2f288-180d-4271-8880-cf9706207ba2\" xlink:show=\"new\" xlink:title=\"psysml:ffd2f288-180d-4271-8880-cf9706207ba2\" xlink:type=\"simple\"><rect fill=\"#FFFFFF\" height=\"45.9375\" id=\"E4\" rx=\"10\" ry=\"10\" style=\"stroke: #383838; stroke-width: 1.5;\" width=\"87\" x=\"401.5\" y=\"283\"/><text fill=\"#000000\" font-family=\"sans-serif\" font-size=\"12\" font-style=\"italic\" lengthAdjust=\"spacingAndGlyphs\" textLength=\"85\" x=\"402.5\" y=\"299.1387\">«occurrence»</text><text fill=\"#000000\" font-family=\"sans-serif\" font-size=\"12\" lengthAdjust=\"spacingAndGlyphs\" textLength=\"61\" x=\"412.5\" y=\"313.1074\">occ2: Occ</text><line style=\"stroke: #383838; stroke-width: 1.5;\" x1=\"402.5\" x2=\"487.5\" y1=\"320.9375\" y2=\"320.9375\"/></a><!--MD5=[270fce915f116d4de14055a7c1d9a0f3]\n",
       "class E5--><a href=\"psysml:4e1769cc-a186-417e-91f0-587d1f1196e7\" target=\"_top\" title=\"psysml:4e1769cc-a186-417e-91f0-587d1f1196e7\" xlink:actuate=\"onRequest\" xlink:href=\"psysml:4e1769cc-a186-417e-91f0-587d1f1196e7\" xlink:show=\"new\" xlink:title=\"psysml:4e1769cc-a186-417e-91f0-587d1f1196e7\" xlink:type=\"simple\"><rect fill=\"#FFFFFF\" height=\"45.9375\" id=\"E5\" rx=\"10\" ry=\"10\" style=\"stroke: #383838; stroke-width: 1.5;\" width=\"212\" x=\"524\" y=\"283\"/><text fill=\"#000000\" font-family=\"sans-serif\" font-size=\"12\" font-style=\"italic\" lengthAdjust=\"spacingAndGlyphs\" textLength=\"210\" x=\"525\" y=\"299.1387\">«individual snapshot occurrence»</text><text fill=\"#000000\" font-family=\"sans-serif\" font-size=\"12\" lengthAdjust=\"spacingAndGlyphs\" textLength=\"34\" x=\"611\" y=\"313.1074\">s: Ind</text><line style=\"stroke: #383838; stroke-width: 1.5;\" x1=\"525\" x2=\"735\" y1=\"320.9375\" y2=\"320.9375\"/></a><!--MD5=[60a26617385b1d2d0262a64233df1f8d]\n",
       "class E6--><a href=\"psysml:9c61ac47-8b4e-45e2-802a-f3aa096140c4\" target=\"_top\" title=\"psysml:9c61ac47-8b4e-45e2-802a-f3aa096140c4\" xlink:actuate=\"onRequest\" xlink:href=\"psysml:9c61ac47-8b4e-45e2-802a-f3aa096140c4\" xlink:show=\"new\" xlink:title=\"psysml:9c61ac47-8b4e-45e2-802a-f3aa096140c4\" xlink:type=\"simple\"><rect fill=\"#FFFFFF\" height=\"45.9375\" id=\"E6\" rx=\"10\" ry=\"10\" style=\"stroke: #383838; stroke-width: 1.5;\" width=\"146\" x=\"771\" y=\"283\"/><text fill=\"#000000\" font-family=\"sans-serif\" font-size=\"12\" font-style=\"italic\" lengthAdjust=\"spacingAndGlyphs\" textLength=\"144\" x=\"772\" y=\"299.1387\">«timeslice occurrence»</text><text fill=\"#000000\" font-family=\"sans-serif\" font-size=\"12\" lengthAdjust=\"spacingAndGlyphs\" textLength=\"5\" x=\"839.5\" y=\"313.1074\">t</text><line style=\"stroke: #383838; stroke-width: 1.5;\" x1=\"772\" x2=\"916\" y1=\"320.9375\" y2=\"320.9375\"/></a><!--MD5=[2156ba9850f5573cc1fc38a6a4b2f02b]\n",
       "class E7--><a href=\"psysml:54e4af67-f268-48a3-80b8-bc1579f32c01\" target=\"_top\" title=\"psysml:54e4af67-f268-48a3-80b8-bc1579f32c01\" xlink:actuate=\"onRequest\" xlink:href=\"psysml:54e4af67-f268-48a3-80b8-bc1579f32c01\" xlink:show=\"new\" xlink:title=\"psysml:54e4af67-f268-48a3-80b8-bc1579f32c01\" xlink:type=\"simple\"><rect fill=\"#FFFFFF\" height=\"45.9375\" id=\"E7\" style=\"stroke: #383838; stroke-width: 1.5;\" width=\"177\" x=\"541.5\" y=\"389\"/><text fill=\"#000000\" font-family=\"sans-serif\" font-size=\"12\" font-style=\"italic\" lengthAdjust=\"spacingAndGlyphs\" textLength=\"175\" x=\"542.5\" y=\"405.1387\">«individual occurrence  def»</text><text fill=\"#000000\" font-family=\"sans-serif\" font-size=\"12\" lengthAdjust=\"spacingAndGlyphs\" textLength=\"19\" x=\"620.5\" y=\"419.1074\">Ind</text><line style=\"stroke: #383838; stroke-width: 1.5;\" x1=\"542.5\" x2=\"717.5\" y1=\"426.9375\" y2=\"426.9375\"/></a><!--MD5=[b9389687b975829384b498ac4b7476b2]\n",
       "class E8--><a href=\"psysml:bfc31472-e77d-4111-949c-57e124b09868\" target=\"_top\" title=\"psysml:bfc31472-e77d-4111-949c-57e124b09868\" xlink:actuate=\"onRequest\" xlink:href=\"psysml:bfc31472-e77d-4111-949c-57e124b09868\" xlink:show=\"new\" xlink:title=\"psysml:bfc31472-e77d-4111-949c-57e124b09868\" xlink:type=\"simple\"><rect fill=\"#FFFFFF\" height=\"45.9375\" id=\"E8\" rx=\"10\" ry=\"10\" style=\"stroke: #383838; stroke-width: 1.5;\" width=\"150\" x=\"463\" y=\"495\"/><text fill=\"#000000\" font-family=\"sans-serif\" font-size=\"12\" font-style=\"italic\" lengthAdjust=\"spacingAndGlyphs\" textLength=\"148\" x=\"464\" y=\"511.1387\">«snapshot occurrence»</text><text fill=\"#000000\" font-family=\"sans-serif\" font-size=\"12\" lengthAdjust=\"spacingAndGlyphs\" textLength=\"15\" x=\"528.5\" y=\"525.1074\">s2</text><line style=\"stroke: #383838; stroke-width: 1.5;\" x1=\"464\" x2=\"612\" y1=\"532.9375\" y2=\"532.9375\"/></a><!--MD5=[fd4143e9d270a159db93a4ea2a975926]\n",
       "class E9--><a href=\"psysml:25521b86-d75d-41e6-9d0e-592064bc2653\" target=\"_top\" title=\"psysml:25521b86-d75d-41e6-9d0e-592064bc2653\" xlink:actuate=\"onRequest\" xlink:href=\"psysml:25521b86-d75d-41e6-9d0e-592064bc2653\" xlink:show=\"new\" xlink:title=\"psysml:25521b86-d75d-41e6-9d0e-592064bc2653\" xlink:type=\"simple\"><rect fill=\"#FFFFFF\" height=\"45.9375\" id=\"E9\" rx=\"10\" ry=\"10\" style=\"stroke: #383838; stroke-width: 1.5;\" width=\"146\" x=\"648\" y=\"495\"/><text fill=\"#000000\" font-family=\"sans-serif\" font-size=\"12\" font-style=\"italic\" lengthAdjust=\"spacingAndGlyphs\" textLength=\"144\" x=\"649\" y=\"511.1387\">«timeslice occurrence»</text><text fill=\"#000000\" font-family=\"sans-serif\" font-size=\"12\" lengthAdjust=\"spacingAndGlyphs\" textLength=\"13\" x=\"712.5\" y=\"525.1074\">t2</text><line style=\"stroke: #383838; stroke-width: 1.5;\" x1=\"649\" x2=\"793\" y1=\"532.9375\" y2=\"532.9375\"/></a><!--MD5=[96f4274e9e20536e775497830990834d]\n",
       "class E10--><a href=\"psysml:ec83ca81-a881-4da3-97a0-46e2b6aae84c\" target=\"_top\" title=\"psysml:ec83ca81-a881-4da3-97a0-46e2b6aae84c\" xlink:actuate=\"onRequest\" xlink:href=\"psysml:ec83ca81-a881-4da3-97a0-46e2b6aae84c\" xlink:show=\"new\" xlink:title=\"psysml:ec83ca81-a881-4da3-97a0-46e2b6aae84c\" xlink:type=\"simple\"><rect fill=\"#FFFFFF\" height=\"45.9375\" id=\"E10\" rx=\"10\" ry=\"10\" style=\"stroke: #383838; stroke-width: 1.5;\" width=\"149\" x=\"505.5\" y=\"41\"/><text fill=\"#000000\" font-family=\"sans-serif\" font-size=\"12\" font-style=\"italic\" lengthAdjust=\"spacingAndGlyphs\" textLength=\"147\" x=\"506.5\" y=\"57.1387\">«individual occurrence»</text><text fill=\"#000000\" font-family=\"sans-serif\" font-size=\"12\" lengthAdjust=\"spacingAndGlyphs\" textLength=\"77\" x=\"539.5\" y=\"71.1074\">ind: Ind, Occ</text><line style=\"stroke: #383838; stroke-width: 1.5;\" x1=\"506.5\" x2=\"653.5\" y1=\"78.9375\" y2=\"78.9375\"/></a><!--MD5=[1dd1bfd58a279cf63c5f349dbc8fc6a1]\n",
       "class E11--><a href=\"psysml:fe74329f-5d2b-4ebe-b106-a7ecca7a6fbd\" target=\"_top\" title=\"psysml:fe74329f-5d2b-4ebe-b106-a7ecca7a6fbd\" xlink:actuate=\"onRequest\" xlink:href=\"psysml:fe74329f-5d2b-4ebe-b106-a7ecca7a6fbd\" xlink:show=\"new\" xlink:title=\"psysml:fe74329f-5d2b-4ebe-b106-a7ecca7a6fbd\" xlink:type=\"simple\"><rect fill=\"#FFFFFF\" height=\"45.9375\" id=\"E11\" rx=\"10\" ry=\"10\" style=\"stroke: #383838; stroke-width: 1.5;\" width=\"150\" x=\"561\" y=\"162\"/><text fill=\"#000000\" font-family=\"sans-serif\" font-size=\"12\" font-style=\"italic\" lengthAdjust=\"spacingAndGlyphs\" textLength=\"148\" x=\"562\" y=\"178.1387\">«snapshot occurrence»</text><text fill=\"#000000\" font-family=\"sans-serif\" font-size=\"12\" lengthAdjust=\"spacingAndGlyphs\" textLength=\"15\" x=\"626.5\" y=\"192.1074\">s3</text><line style=\"stroke: #383838; stroke-width: 1.5;\" x1=\"562\" x2=\"710\" y1=\"199.9375\" y2=\"199.9375\"/></a><!--MD5=[49a0ec8f00dab7302a31f22d0f0fe584]\n",
       "class E12--><a href=\"psysml:6925098a-d5ed-431f-aaf1-d453853f914b\" target=\"_top\" title=\"psysml:6925098a-d5ed-431f-aaf1-d453853f914b\" xlink:actuate=\"onRequest\" xlink:href=\"psysml:6925098a-d5ed-431f-aaf1-d453853f914b\" xlink:show=\"new\" xlink:title=\"psysml:6925098a-d5ed-431f-aaf1-d453853f914b\" xlink:type=\"simple\"><rect fill=\"#FFFFFF\" height=\"45.9375\" id=\"E12\" rx=\"10\" ry=\"10\" style=\"stroke: #383838; stroke-width: 1.5;\" width=\"208\" x=\"746\" y=\"162\"/><text fill=\"#000000\" font-family=\"sans-serif\" font-size=\"12\" font-style=\"italic\" lengthAdjust=\"spacingAndGlyphs\" textLength=\"206\" x=\"747\" y=\"178.1387\">«individual timeslice occurrence»</text><text fill=\"#000000\" font-family=\"sans-serif\" font-size=\"12\" lengthAdjust=\"spacingAndGlyphs\" textLength=\"13\" x=\"841.5\" y=\"192.1074\">t3</text><line style=\"stroke: #383838; stroke-width: 1.5;\" x1=\"747\" x2=\"953\" y1=\"199.9375\" y2=\"199.9375\"/></a><!--MD5=[ee3c913d1a06f366521f9ef512b67efe]\n",
       "class E13--><a href=\"psysml:4e4d3416-6ae1-42d7-bc86-2084c913e314\" target=\"_top\" title=\"psysml:4e4d3416-6ae1-42d7-bc86-2084c913e314\" xlink:actuate=\"onRequest\" xlink:href=\"psysml:4e4d3416-6ae1-42d7-bc86-2084c913e314\" xlink:show=\"new\" xlink:title=\"psysml:4e4d3416-6ae1-42d7-bc86-2084c913e314\" xlink:type=\"simple\"><rect fill=\"#FFFFFF\" height=\"45.9375\" id=\"E13\" rx=\"10\" ry=\"10\" style=\"stroke: #383838; stroke-width: 1.5;\" width=\"212\" x=\"32\" y=\"283\"/><text fill=\"#000000\" font-family=\"sans-serif\" font-size=\"12\" font-style=\"italic\" lengthAdjust=\"spacingAndGlyphs\" textLength=\"210\" x=\"33\" y=\"299.1387\">«individual snapshot occurrence»</text><text fill=\"#000000\" font-family=\"sans-serif\" font-size=\"12\" lengthAdjust=\"spacingAndGlyphs\" textLength=\"42\" x=\"115\" y=\"313.1074\">s4: Ind</text><line style=\"stroke: #383838; stroke-width: 1.5;\" x1=\"33\" x2=\"243\" y1=\"320.9375\" y2=\"320.9375\"/></a><!--MD5=[209b3feb70ccb6233bfe1053d122c12c]\n",
       "reverse link E2 to E3--><a href=\"psysml:62ea934f-12d4-42a0-b786-a1086ef654f4\" target=\"_top\" title=\"psysml:62ea934f-12d4-42a0-b786-a1086ef654f4\" xlink:actuate=\"onRequest\" xlink:href=\"psysml:62ea934f-12d4-42a0-b786-a1086ef654f4\" xlink:show=\"new\" xlink:title=\"psysml:62ea934f-12d4-42a0-b786-a1086ef654f4\" xlink:type=\"simple\"><path d=\"M376.37,232.45 C359.85,249.83 343.43,268.76 332.86,282.93 \" fill=\"none\" id=\"E2&lt;-E3\" style=\"stroke: #383838; stroke-width: 1.0;\"/><polygon fill=\"#FFFFFF\" points=\"385.52,223,378.4729,224.5294,377.1743,231.6226,384.2213,230.0932,385.52,223\" style=\"stroke: #383838; stroke-width: 1.0;\"/></a><!--MD5=[05d275557350bfb9b23a4ef7222b4c39]\n",
       "link E3 to E2--><a href=\"psysml:72edb9ed-f456-4be1-846b-a7c4b7fb6ef3\" target=\"_top\" title=\"psysml:72edb9ed-f456-4be1-846b-a7c4b7fb6ef3\" xlink:actuate=\"onRequest\" xlink:href=\"psysml:72edb9ed-f456-4be1-846b-a7c4b7fb6ef3\" xlink:show=\"new\" xlink:title=\"psysml:72edb9ed-f456-4be1-846b-a7c4b7fb6ef3\" xlink:type=\"simple\"><path d=\"M353.8,282.93 C367.38,270.34 383.11,253.98 396.95,238.29 \" fill=\"none\" id=\"E3-&gt;E2\" style=\"stroke: #383838; stroke-width: 1.0;\"/><polygon fill=\"#FFFFFF\" points=\"410.02,223,403.0007,241.9929,392.3563,232.8991,410.02,223\" style=\"stroke: #383838; stroke-width: 1.0;\"/><ellipse cx=\"397.7776\" cy=\"245.0276\" fill=\"#383838\" rx=\"2\" ry=\"2\" style=\"stroke: #383838; stroke-width: 1.0;\"/><ellipse cx=\"390.1744\" cy=\"238.532\" fill=\"#383838\" rx=\"2\" ry=\"2\" style=\"stroke: #383838; stroke-width: 1.0;\"/></a><!--MD5=[9618e71518536f8baf3342ff6fdab317]\n",
       "reverse link E2 to E4--><a href=\"psysml:1930a264-e184-4aca-ae40-6206f5d09a7f\" target=\"_top\" title=\"psysml:1930a264-e184-4aca-ae40-6206f5d09a7f\" xlink:actuate=\"onRequest\" xlink:href=\"psysml:1930a264-e184-4aca-ae40-6206f5d09a7f\" xlink:show=\"new\" xlink:title=\"psysml:1930a264-e184-4aca-ae40-6206f5d09a7f\" xlink:type=\"simple\"><path d=\"M424.31,236.34 C425.74,252.61 428.58,269.81 432.23,282.93 \" fill=\"none\" id=\"E2&lt;-E4\" style=\"stroke: #383838; stroke-width: 1.0;\"/><polygon fill=\"#383838\" points=\"423.45,223,419.8475,229.2467,424.2281,234.9747,427.8306,228.728,423.45,223\" style=\"stroke: #383838; stroke-width: 1.0;\"/></a><!--MD5=[185131fc0dcab0a4505a2ebe144e961b]\n",
       "link E4 to E2--><a href=\"psysml:32367fe5-1bb2-4952-a335-a8970d1d9f84\" target=\"_top\" title=\"psysml:32367fe5-1bb2-4952-a335-a8970d1d9f84\" xlink:actuate=\"onRequest\" xlink:href=\"psysml:32367fe5-1bb2-4952-a335-a8970d1d9f84\" xlink:show=\"new\" xlink:title=\"psysml:32367fe5-1bb2-4952-a335-a8970d1d9f84\" xlink:type=\"simple\"><path d=\"M453.17,282.93 C453.77,271.65 452.99,257.34 451.22,243.21 \" fill=\"none\" id=\"E4-&gt;E2\" style=\"stroke: #383838; stroke-width: 1.0;\"/><polygon fill=\"#FFFFFF\" points=\"447.96,223,457.8973,240.6423,444.0761,242.8725,447.96,223\" style=\"stroke: #383838; stroke-width: 1.0;\"/><ellipse cx=\"456.8309\" cy=\"246.5881\" fill=\"#383838\" rx=\"2\" ry=\"2\" style=\"stroke: #383838; stroke-width: 1.0;\"/><ellipse cx=\"446.9586\" cy=\"248.1811\" fill=\"#383838\" rx=\"2\" ry=\"2\" style=\"stroke: #383838; stroke-width: 1.0;\"/></a><!--MD5=[4e1a83fab71cdb913c109063314ae896]\n",
       "reverse link E2 to E5--><a href=\"psysml:0faf658f-4e02-48cd-849b-e0220b5d7629\" target=\"_top\" title=\"psysml:0faf658f-4e02-48cd-849b-e0220b5d7629\" xlink:actuate=\"onRequest\" xlink:href=\"psysml:0faf658f-4e02-48cd-849b-e0220b5d7629\" xlink:show=\"new\" xlink:title=\"psysml:0faf658f-4e02-48cd-849b-e0220b5d7629\" xlink:type=\"simple\"><path d=\"M499.85,227.17 C531.12,245.87 566.86,267.24 592.97,282.85 \" fill=\"none\" id=\"E2&lt;-E5\" style=\"stroke: #383838; stroke-width: 1.0;\"/><polygon fill=\"#383838\" points=\"488.56,220.42,491.6568,226.9323,498.8592,226.5784,495.7624,220.0661,488.56,220.42\" style=\"stroke: #383838; stroke-width: 1.0;\"/></a><!--MD5=[ce036f65110ae2351ccce5a81dc2e928]\n",
       "reverse link E2 to E6--><a href=\"psysml:3f965610-dfca-4051-a1f3-35306b55574a\" target=\"_top\" title=\"psysml:3f965610-dfca-4051-a1f3-35306b55574a\" xlink:actuate=\"onRequest\" xlink:href=\"psysml:3f965610-dfca-4051-a1f3-35306b55574a\" xlink:show=\"new\" xlink:title=\"psysml:3f965610-dfca-4051-a1f3-35306b55574a\" xlink:type=\"simple\"><path d=\"M501.02,217.55 C506.06,219.49 511.08,221.33 516,223 C528.19,227.15 677.82,264.14 770.71,287 \" fill=\"none\" id=\"E2&lt;-E6\" style=\"stroke: #383838; stroke-width: 1.0;\"/><polygon fill=\"#383838\" points=\"488.57,212.58,492.6577,218.5206,499.7135,217.0321,495.6258,211.0916,488.57,212.58\" style=\"stroke: #383838; stroke-width: 1.0;\"/></a><!--MD5=[3a9b96bfbf6b6ad89c494e81751bda47]\n",
       "link E5 to E7--><a href=\"psysml:5b4e0f94-bd6c-4a04-8036-e6bb7f85be93\" target=\"_top\" title=\"psysml:5b4e0f94-bd6c-4a04-8036-e6bb7f85be93\" xlink:actuate=\"onRequest\" xlink:href=\"psysml:5b4e0f94-bd6c-4a04-8036-e6bb7f85be93\" xlink:show=\"new\" xlink:title=\"psysml:5b4e0f94-bd6c-4a04-8036-e6bb7f85be93\" xlink:type=\"simple\"><path d=\"M630,329.06 C630,340.64 630,355.23 630,368.87 \" fill=\"none\" id=\"E5-&gt;E7\" style=\"stroke: #383838; stroke-width: 1.0;\"/><polygon fill=\"#FFFFFF\" points=\"630,388.98,623,369.98,637,369.98,630,388.98\" style=\"stroke: #383838; stroke-width: 1.0;\"/><ellipse cx=\"625\" cy=\"364.28\" fill=\"#383838\" rx=\"2\" ry=\"2\" style=\"stroke: #383838; stroke-width: 1.0;\"/><ellipse cx=\"635\" cy=\"364.28\" fill=\"#383838\" rx=\"2\" ry=\"2\" style=\"stroke: #383838; stroke-width: 1.0;\"/></a><!--MD5=[dc164f5e8a733ab456ef1add180e9e34]\n",
       "reverse link E7 to E8--><a href=\"psysml:37f490ca-8c9f-44ef-b281-38d91f32f2bf\" target=\"_top\" title=\"psysml:37f490ca-8c9f-44ef-b281-38d91f32f2bf\" xlink:actuate=\"onRequest\" xlink:href=\"psysml:37f490ca-8c9f-44ef-b281-38d91f32f2bf\" xlink:show=\"new\" xlink:title=\"psysml:37f490ca-8c9f-44ef-b281-38d91f32f2bf\" xlink:type=\"simple\"><path d=\"M601.55,445.16 C587.25,461.33 570.28,480.51 557.48,494.98 \" fill=\"none\" id=\"E7&lt;-E8\" style=\"stroke: #383838; stroke-width: 1.0;\"/><polygon fill=\"#383838\" points=\"610.49,435.06,603.5177,436.9004,602.5348,444.0442,609.5071,442.2038,610.49,435.06\" style=\"stroke: #383838; stroke-width: 1.0;\"/></a><!--MD5=[e4a10ef82d0e328e31cac39a31e58dda]\n",
       "reverse link E7 to E9--><a href=\"psysml:c791e7ed-713f-4106-b9d5-0dfb97ea4543\" target=\"_top\" title=\"psysml:c791e7ed-713f-4106-b9d5-0dfb97ea4543\" xlink:actuate=\"onRequest\" xlink:href=\"psysml:c791e7ed-713f-4106-b9d5-0dfb97ea4543\" xlink:show=\"new\" xlink:title=\"psysml:c791e7ed-713f-4106-b9d5-0dfb97ea4543\" xlink:type=\"simple\"><path d=\"M658.14,445.16 C672.29,461.33 689.07,480.51 701.73,494.98 \" fill=\"none\" id=\"E7&lt;-E9\" style=\"stroke: #383838; stroke-width: 1.0;\"/><polygon fill=\"#383838\" points=\"649.3,435.06,650.2496,442.2083,657.2133,444.0811,656.2637,436.9328,649.3,435.06\" style=\"stroke: #383838; stroke-width: 1.0;\"/></a><!--MD5=[a919e0967d6f3de553dc51b9865a1d6d]\n",
       "link E10 to E7--><a href=\"psysml:d7bf13fe-2343-4091-93b6-ccc05bfccd1c\" target=\"_top\" title=\"psysml:d7bf13fe-2343-4091-93b6-ccc05bfccd1c\" xlink:actuate=\"onRequest\" xlink:href=\"psysml:d7bf13fe-2343-4091-93b6-ccc05bfccd1c\" xlink:show=\"new\" xlink:title=\"psysml:d7bf13fe-2343-4091-93b6-ccc05bfccd1c\" xlink:type=\"simple\"><path d=\"M564.36,87.23 C542.92,120.68 510.65,184.15 544,223 C658.5,356.41 820.5,149.59 935,283 C997.3,355.58 849.41,387.9 738.47,401.63 \" fill=\"none\" id=\"E10-&gt;E7\" style=\"stroke: #383838; stroke-width: 1.0;\"/><polygon fill=\"#FFFFFF\" points=\"718.6,403.94,736.6627,394.7891,738.2822,408.6951,718.6,403.94\" style=\"stroke: #383838; stroke-width: 1.0;\"/><ellipse cx=\"742.5558\" cy=\"396.1162\" fill=\"#383838\" rx=\"2\" ry=\"2\" style=\"stroke: #383838; stroke-width: 1.0;\"/><ellipse cx=\"743.7126\" cy=\"406.0491\" fill=\"#383838\" rx=\"2\" ry=\"2\" style=\"stroke: #383838; stroke-width: 1.0;\"/></a><!--MD5=[0f36bececdf0dff6e600d6f64214b0f1]\n",
       "link E10 to E2--><a href=\"psysml:65e23dda-2765-4b86-8b8c-165f4272381c\" target=\"_top\" title=\"psysml:65e23dda-2765-4b86-8b8c-165f4272381c\" xlink:actuate=\"onRequest\" xlink:href=\"psysml:65e23dda-2765-4b86-8b8c-165f4272381c\" xlink:show=\"new\" xlink:title=\"psysml:65e23dda-2765-4b86-8b8c-165f4272381c\" xlink:type=\"simple\"><path d=\"M552.32,87.1 C535.71,100.38 513.86,117.82 493.29,134.25 \" fill=\"none\" id=\"E10-&gt;E2\" style=\"stroke: #383838; stroke-width: 1.0;\"/><polygon fill=\"#FFFFFF\" points=\"477.56,146.81,488.0352,129.4817,496.7737,140.4197,477.56,146.81\" style=\"stroke: #383838; stroke-width: 1.0;\"/><ellipse cx=\"493.7369\" cy=\"127.4865\" fill=\"#383838\" rx=\"2\" ry=\"2\" style=\"stroke: #383838; stroke-width: 1.0;\"/><ellipse cx=\"499.9786\" cy=\"135.2994\" fill=\"#383838\" rx=\"2\" ry=\"2\" style=\"stroke: #383838; stroke-width: 1.0;\"/></a><!--MD5=[de308be4a2431766a05a907a031c07fc]\n",
       "reverse link E10 to E11--><a href=\"psysml:996a22eb-9701-44d5-9cb6-35ae83d4d1b1\" target=\"_top\" title=\"psysml:996a22eb-9701-44d5-9cb6-35ae83d4d1b1\" xlink:actuate=\"onRequest\" xlink:href=\"psysml:996a22eb-9701-44d5-9cb6-35ae83d4d1b1\" xlink:show=\"new\" xlink:title=\"psysml:996a22eb-9701-44d5-9cb6-35ae83d4d1b1\" xlink:type=\"simple\"><path d=\"M595.95,98.9 C605.42,119.01 617.15,143.94 625.46,161.61 \" fill=\"none\" id=\"E10&lt;-E11\" style=\"stroke: #383838; stroke-width: 1.0;\"/><polygon fill=\"#383838\" points=\"590.4,87.1,589.3334,94.2318,595.5064,97.9593,596.573,90.8275,590.4,87.1\" style=\"stroke: #383838; stroke-width: 1.0;\"/></a><!--MD5=[1d54f998c6d5961a1a9184be73a7eb6c]\n",
       "reverse link E10 to E12--><a href=\"psysml:da3311a8-2759-47ea-b229-fd34ee887055\" target=\"_top\" title=\"psysml:da3311a8-2759-47ea-b229-fd34ee887055\" xlink:actuate=\"onRequest\" xlink:href=\"psysml:da3311a8-2759-47ea-b229-fd34ee887055\" xlink:show=\"new\" xlink:title=\"psysml:da3311a8-2759-47ea-b229-fd34ee887055\" xlink:type=\"simple\"><path d=\"M642.21,92.42 C689.99,113.48 755.13,142.19 799.66,161.81 \" fill=\"none\" id=\"E10&lt;-E12\" style=\"stroke: #383838; stroke-width: 1.0;\"/><polygon fill=\"#383838\" points=\"630.15,87.1,634.028,93.1796,641.1314,91.9382,637.2534,85.8586,630.15,87.1\" style=\"stroke: #383838; stroke-width: 1.0;\"/></a><!--MD5=[4a48077df6499cfcd20b62e8f5f37904]\n",
       "link E13 to E7--><a href=\"psysml:fb78d99f-0705-4d43-aabd-2eaf1ce47389\" target=\"_top\" title=\"psysml:fb78d99f-0705-4d43-aabd-2eaf1ce47389\" xlink:actuate=\"onRequest\" xlink:href=\"psysml:fb78d99f-0705-4d43-aabd-2eaf1ce47389\" xlink:show=\"new\" xlink:title=\"psysml:fb78d99f-0705-4d43-aabd-2eaf1ce47389\" xlink:type=\"simple\"><path d=\"M242.34,329.06 C324.51,346.43 438.67,370.56 521.82,388.13 \" fill=\"none\" id=\"E13-&gt;E7\" style=\"stroke: #383838; stroke-width: 1.0;\"/><polygon fill=\"#FFFFFF\" points=\"541.45,392.28,521.4143,395.2075,524.304,381.509,541.45,392.28\" style=\"stroke: #383838; stroke-width: 1.0;\"/><ellipse cx=\"516.2498\" cy=\"392.0741\" fill=\"#383838\" rx=\"2\" ry=\"2\" style=\"stroke: #383838; stroke-width: 1.0;\"/><ellipse cx=\"518.3139\" cy=\"382.2894\" fill=\"#383838\" rx=\"2\" ry=\"2\" style=\"stroke: #383838; stroke-width: 1.0;\"/></a><!--MD5=[e9a0aa8a115a6846f6b2769f46f84195]\n",
       "@startuml\r\n",
       " skinparam monochrome true\r\n",
       "skinparam classbackgroundcolor white\r\n",
       "skinparam shadowing false\r\n",
       "skinparam wrapWidth 300\r\n",
       "hide circle\r\n",
       "\r\n",
       "package \"OccurrenceTest\" as E1  [[psysml:76f03fcf-c31b-4704-ae9e-b44a23fd6ebe ]]  {\r\n",
       "comp def \"Occ\" as E2  <<(T,blue) occurrence  def>> [[psysml:eaa0b96d-7da2-44a7-b980-6b6f36747918 ]] {\r\n",
       "- - attributes - -\r\n",
       "a\r\n",
       "}\r\n",
       "comp usage \"occ1: Occ \" as E3  <<(T,blue) occurrence>> [[psysml:87fca259-1c14-4b5b-983e-37895f6ff77b ]] {\r\n",
       "}\r\n",
       "comp usage \"occ2: Occ \" as E4  <<(T,blue) occurrence>> [[psysml:ffd2f288-180d-4271-8880-cf9706207ba2 ]] {\r\n",
       "}\r\n",
       "comp usage \"s: Ind \" as E5  <<(T,blue) individual snapshot occurrence>> [[psysml:4e1769cc-a186-417e-91f0-587d1f1196e7 ]] {\r\n",
       "}\r\n",
       "comp usage \"t \" as E6  <<(T,blue) timeslice occurrence>> [[psysml:9c61ac47-8b4e-45e2-802a-f3aa096140c4 ]] {\r\n",
       "}\r\n",
       "comp def \"Ind\" as E7  <<(T,blue) individual occurrence  def>> [[psysml:54e4af67-f268-48a3-80b8-bc1579f32c01 ]] {\r\n",
       "}\r\n",
       "comp usage \"s2 \" as E8  <<(T,blue) snapshot occurrence>> [[psysml:bfc31472-e77d-4111-949c-57e124b09868 ]] {\r\n",
       "}\r\n",
       "comp usage \"t2 \" as E9  <<(T,blue) timeslice occurrence>> [[psysml:25521b86-d75d-41e6-9d0e-592064bc2653 ]] {\r\n",
       "}\r\n",
       "comp usage \"ind: Ind, Occ \" as E10  <<(T,blue) individual occurrence>> [[psysml:ec83ca81-a881-4da3-97a0-46e2b6aae84c ]] {\r\n",
       "}\r\n",
       "comp usage \"s3 \" as E11  <<(T,blue) snapshot occurrence>> [[psysml:fe74329f-5d2b-4ebe-b106-a7ecca7a6fbd ]] {\r\n",
       "}\r\n",
       "comp usage \"t3 \" as E12  <<(T,blue) individual timeslice occurrence>> [[psysml:6925098a-d5ed-431f-aaf1-d453853f914b ]] {\r\n",
       "}\r\n",
       "comp usage \"s4: Ind \" as E13  <<(T,blue) individual snapshot occurrence>> [[psysml:4e4d3416-6ae1-42d7-bc86-2084c913e314 ]] {\r\n",
       "}\r\n",
       "}\r\n",
       "E2 o- - E3 [[psysml:62ea934f-12d4-42a0-b786-a1086ef654f4 ]] \r\n",
       "E3 - -:|> E2 [[psysml:72edb9ed-f456-4be1-846b-a7c4b7fb6ef3 ]] \r\n",
       "E2 *- - E4 [[psysml:1930a264-e184-4aca-ae40-6206f5d09a7f ]] \r\n",
       "E4 - -:|> E2 [[psysml:32367fe5-1bb2-4952-a335-a8970d1d9f84 ]] \r\n",
       "E2 *- - E5 [[psysml:0faf658f-4e02-48cd-849b-e0220b5d7629 ]] \r\n",
       "E2 *- - E6 [[psysml:3f965610-dfca-4051-a1f3-35306b55574a ]] \r\n",
       "E5 - -:|> E7 [[psysml:5b4e0f94-bd6c-4a04-8036-e6bb7f85be93 ]] \r\n",
       "E7 *- - E8 [[psysml:37f490ca-8c9f-44ef-b281-38d91f32f2bf ]] \r\n",
       "E7 *- - E9 [[psysml:c791e7ed-713f-4106-b9d5-0dfb97ea4543 ]] \r\n",
       "E10 - -:|> E7 [[psysml:d7bf13fe-2343-4091-93b6-ccc05bfccd1c ]] \r\n",
       "E10 - -:|> E2 [[psysml:65e23dda-2765-4b86-8b8c-165f4272381c ]] \r\n",
       "E10 *- - E11 [[psysml:996a22eb-9701-44d5-9cb6-35ae83d4d1b1 ]] \r\n",
       "E10 *- - E12 [[psysml:da3311a8-2759-47ea-b229-fd34ee887055 ]] \r\n",
       "E13 - -:|> E7 [[psysml:fb78d99f-0705-4d43-aabd-2eaf1ce47389 ]] \r\n",
       "@enduml\r\n",
       "\n",
       "PlantUML version 1.2020.13(Sat Jun 13 12:26:38 UTC 2020)\n",
       "(EPL source distribution)\n",
       "Java Runtime: OpenJDK Runtime Environment\n",
       "JVM: OpenJDK 64-Bit Server VM\n",
       "Default Encoding: UTF-8\n",
       "Language: en\n",
       "Country: null\n",
       "--></g></svg>"
      ]
     },
     "execution_count": 8,
     "metadata": {},
     "output_type": "execute_result"
    }
   ],
   "source": [
    "%viz --style=\"COMPTREE\" --view=\"MIXED\" \"OccurrenceTest\""
   ]
  },
  {
   "cell_type": "code",
   "execution_count": 9,
   "id": "c06e46ce",
   "metadata": {
    "execution": {
     "iopub.execute_input": "2022-02-18T10:48:36.416252Z",
     "iopub.status.busy": "2022-02-18T10:48:36.415845Z",
     "iopub.status.idle": "2022-02-18T10:48:36.499513Z",
     "shell.execute_reply": "2022-02-18T10:48:36.499126Z"
    }
   },
   "outputs": [
    {
     "data": {
      "image/svg+xml": [
       "<?xml version=\"1.0\" encoding=\"UTF-8\" standalone=\"no\"?><svg xmlns=\"http://www.w3.org/2000/svg\" xmlns:xlink=\"http://www.w3.org/1999/xlink\" contentScriptType=\"application/ecmascript\" contentStyleType=\"text/css\" height=\"569px\" preserveAspectRatio=\"none\" style=\"width:992px;height:569px;\" version=\"1.1\" viewBox=\"0 0 992 569\" width=\"992px\" zoomAndPan=\"magnify\"><defs/><g><!--MD5=[fbc87193dbaf4d95561dea2c320d4a47]\n",
       "cluster E1--><a href=\"psysml:76f03fcf-c31b-4704-ae9e-b44a23fd6ebe\" target=\"_top\" title=\"psysml:76f03fcf-c31b-4704-ae9e-b44a23fd6ebe\" xlink:actuate=\"onRequest\" xlink:href=\"psysml:76f03fcf-c31b-4704-ae9e-b44a23fd6ebe\" xlink:show=\"new\" xlink:title=\"psysml:76f03fcf-c31b-4704-ae9e-b44a23fd6ebe\" xlink:type=\"simple\"><polygon fill=\"#FFFFFF\" points=\"16,6,134,6,141,28.2969,970,28.2969,970,557,16,557,16,6\" style=\"stroke: #000000; stroke-width: 1.5;\"/><line style=\"stroke: #000000; stroke-width: 1.5;\" x1=\"16\" x2=\"141\" y1=\"28.2969\" y2=\"28.2969\"/><text fill=\"#000000\" font-family=\"sans-serif\" font-size=\"14\" font-weight=\"bold\" lengthAdjust=\"spacingAndGlyphs\" textLength=\"112\" x=\"20\" y=\"20.9951\">OccurrenceTest</text></a><!--MD5=[b4997ac47864f28c2f74865a473b2911]\n",
       "class E2--><a href=\"psysml:eaa0b96d-7da2-44a7-b980-6b6f36747918\" target=\"_top\" title=\"psysml:eaa0b96d-7da2-44a7-b980-6b6f36747918\" xlink:actuate=\"onRequest\" xlink:href=\"psysml:eaa0b96d-7da2-44a7-b980-6b6f36747918\" xlink:show=\"new\" xlink:title=\"psysml:eaa0b96d-7da2-44a7-b980-6b6f36747918\" xlink:type=\"simple\"><rect fill=\"#FFFFFF\" height=\"75.5469\" id=\"E2\" style=\"stroke: #383838; stroke-width: 1.5;\" width=\"115\" x=\"373.5\" y=\"147\"/><text fill=\"#000000\" font-family=\"sans-serif\" font-size=\"12\" font-style=\"italic\" lengthAdjust=\"spacingAndGlyphs\" textLength=\"113\" x=\"374.5\" y=\"163.1387\">«occurrence  def»</text><text fill=\"#000000\" font-family=\"sans-serif\" font-size=\"12\" lengthAdjust=\"spacingAndGlyphs\" textLength=\"23\" x=\"419.5\" y=\"177.1074\">Occ</text><line style=\"stroke: #383838; stroke-width: 1.5;\" x1=\"374.5\" x2=\"487.5\" y1=\"184.9375\" y2=\"184.9375\"/><text fill=\"#000000\" font-family=\"sans-serif\" font-size=\"11\" lengthAdjust=\"spacingAndGlyphs\" textLength=\"7\" x=\"379.5\" y=\"215.9526\">a</text><line style=\"stroke: #383838; stroke-width: 1.0;\" x1=\"374.5\" x2=\"403.5\" y1=\"199.3398\" y2=\"199.3398\"/><text fill=\"#000000\" font-family=\"sans-serif\" font-size=\"11\" lengthAdjust=\"spacingAndGlyphs\" textLength=\"55\" x=\"403.5\" y=\"202.6479\">attributes</text><line style=\"stroke: #383838; stroke-width: 1.0;\" x1=\"458.5\" x2=\"487.5\" y1=\"199.3398\" y2=\"199.3398\"/></a><!--MD5=[09b614a08d8cba4a07c9adeb5e0fee81]\n",
       "class E3--><a href=\"psysml:87fca259-1c14-4b5b-983e-37895f6ff77b\" target=\"_top\" title=\"psysml:87fca259-1c14-4b5b-983e-37895f6ff77b\" xlink:actuate=\"onRequest\" xlink:href=\"psysml:87fca259-1c14-4b5b-983e-37895f6ff77b\" xlink:show=\"new\" xlink:title=\"psysml:87fca259-1c14-4b5b-983e-37895f6ff77b\" xlink:type=\"simple\"><rect fill=\"#FFFFFF\" height=\"45.9375\" id=\"E3\" rx=\"10\" ry=\"10\" style=\"stroke: #383838; stroke-width: 1.5;\" width=\"87\" x=\"279.5\" y=\"283\"/><text fill=\"#000000\" font-family=\"sans-serif\" font-size=\"12\" font-style=\"italic\" lengthAdjust=\"spacingAndGlyphs\" textLength=\"85\" x=\"280.5\" y=\"299.1387\">«occurrence»</text><text fill=\"#000000\" font-family=\"sans-serif\" font-size=\"12\" lengthAdjust=\"spacingAndGlyphs\" textLength=\"61\" x=\"290.5\" y=\"313.1074\">occ1: Occ</text><line style=\"stroke: #383838; stroke-width: 1.5;\" x1=\"280.5\" x2=\"365.5\" y1=\"320.9375\" y2=\"320.9375\"/></a><!--MD5=[ebbe1d658d1005bcc118a6aa81145e00]\n",
       "class E4--><a href=\"psysml:ffd2f288-180d-4271-8880-cf9706207ba2\" target=\"_top\" title=\"psysml:ffd2f288-180d-4271-8880-cf9706207ba2\" xlink:actuate=\"onRequest\" xlink:href=\"psysml:ffd2f288-180d-4271-8880-cf9706207ba2\" xlink:show=\"new\" xlink:title=\"psysml:ffd2f288-180d-4271-8880-cf9706207ba2\" xlink:type=\"simple\"><rect fill=\"#FFFFFF\" height=\"45.9375\" id=\"E4\" rx=\"10\" ry=\"10\" style=\"stroke: #383838; stroke-width: 1.5;\" width=\"87\" x=\"401.5\" y=\"283\"/><text fill=\"#000000\" font-family=\"sans-serif\" font-size=\"12\" font-style=\"italic\" lengthAdjust=\"spacingAndGlyphs\" textLength=\"85\" x=\"402.5\" y=\"299.1387\">«occurrence»</text><text fill=\"#000000\" font-family=\"sans-serif\" font-size=\"12\" lengthAdjust=\"spacingAndGlyphs\" textLength=\"61\" x=\"412.5\" y=\"313.1074\">occ2: Occ</text><line style=\"stroke: #383838; stroke-width: 1.5;\" x1=\"402.5\" x2=\"487.5\" y1=\"320.9375\" y2=\"320.9375\"/></a><!--MD5=[270fce915f116d4de14055a7c1d9a0f3]\n",
       "class E5--><a href=\"psysml:4e1769cc-a186-417e-91f0-587d1f1196e7\" target=\"_top\" title=\"psysml:4e1769cc-a186-417e-91f0-587d1f1196e7\" xlink:actuate=\"onRequest\" xlink:href=\"psysml:4e1769cc-a186-417e-91f0-587d1f1196e7\" xlink:show=\"new\" xlink:title=\"psysml:4e1769cc-a186-417e-91f0-587d1f1196e7\" xlink:type=\"simple\"><rect fill=\"#FFFFFF\" height=\"45.9375\" id=\"E5\" rx=\"10\" ry=\"10\" style=\"stroke: #383838; stroke-width: 1.5;\" width=\"212\" x=\"524\" y=\"283\"/><text fill=\"#000000\" font-family=\"sans-serif\" font-size=\"12\" font-style=\"italic\" lengthAdjust=\"spacingAndGlyphs\" textLength=\"210\" x=\"525\" y=\"299.1387\">«individual snapshot occurrence»</text><text fill=\"#000000\" font-family=\"sans-serif\" font-size=\"12\" lengthAdjust=\"spacingAndGlyphs\" textLength=\"34\" x=\"611\" y=\"313.1074\">s: Ind</text><line style=\"stroke: #383838; stroke-width: 1.5;\" x1=\"525\" x2=\"735\" y1=\"320.9375\" y2=\"320.9375\"/></a><!--MD5=[60a26617385b1d2d0262a64233df1f8d]\n",
       "class E6--><a href=\"psysml:9c61ac47-8b4e-45e2-802a-f3aa096140c4\" target=\"_top\" title=\"psysml:9c61ac47-8b4e-45e2-802a-f3aa096140c4\" xlink:actuate=\"onRequest\" xlink:href=\"psysml:9c61ac47-8b4e-45e2-802a-f3aa096140c4\" xlink:show=\"new\" xlink:title=\"psysml:9c61ac47-8b4e-45e2-802a-f3aa096140c4\" xlink:type=\"simple\"><rect fill=\"#FFFFFF\" height=\"45.9375\" id=\"E6\" rx=\"10\" ry=\"10\" style=\"stroke: #383838; stroke-width: 1.5;\" width=\"146\" x=\"771\" y=\"283\"/><text fill=\"#000000\" font-family=\"sans-serif\" font-size=\"12\" font-style=\"italic\" lengthAdjust=\"spacingAndGlyphs\" textLength=\"144\" x=\"772\" y=\"299.1387\">«timeslice occurrence»</text><text fill=\"#000000\" font-family=\"sans-serif\" font-size=\"12\" lengthAdjust=\"spacingAndGlyphs\" textLength=\"5\" x=\"839.5\" y=\"313.1074\">t</text><line style=\"stroke: #383838; stroke-width: 1.5;\" x1=\"772\" x2=\"916\" y1=\"320.9375\" y2=\"320.9375\"/></a><!--MD5=[2156ba9850f5573cc1fc38a6a4b2f02b]\n",
       "class E7--><a href=\"psysml:54e4af67-f268-48a3-80b8-bc1579f32c01\" target=\"_top\" title=\"psysml:54e4af67-f268-48a3-80b8-bc1579f32c01\" xlink:actuate=\"onRequest\" xlink:href=\"psysml:54e4af67-f268-48a3-80b8-bc1579f32c01\" xlink:show=\"new\" xlink:title=\"psysml:54e4af67-f268-48a3-80b8-bc1579f32c01\" xlink:type=\"simple\"><rect fill=\"#FFFFFF\" height=\"45.9375\" id=\"E7\" style=\"stroke: #383838; stroke-width: 1.5;\" width=\"177\" x=\"541.5\" y=\"389\"/><text fill=\"#000000\" font-family=\"sans-serif\" font-size=\"12\" font-style=\"italic\" lengthAdjust=\"spacingAndGlyphs\" textLength=\"175\" x=\"542.5\" y=\"405.1387\">«individual occurrence  def»</text><text fill=\"#000000\" font-family=\"sans-serif\" font-size=\"12\" lengthAdjust=\"spacingAndGlyphs\" textLength=\"19\" x=\"620.5\" y=\"419.1074\">Ind</text><line style=\"stroke: #383838; stroke-width: 1.5;\" x1=\"542.5\" x2=\"717.5\" y1=\"426.9375\" y2=\"426.9375\"/></a><!--MD5=[b9389687b975829384b498ac4b7476b2]\n",
       "class E8--><a href=\"psysml:bfc31472-e77d-4111-949c-57e124b09868\" target=\"_top\" title=\"psysml:bfc31472-e77d-4111-949c-57e124b09868\" xlink:actuate=\"onRequest\" xlink:href=\"psysml:bfc31472-e77d-4111-949c-57e124b09868\" xlink:show=\"new\" xlink:title=\"psysml:bfc31472-e77d-4111-949c-57e124b09868\" xlink:type=\"simple\"><rect fill=\"#FFFFFF\" height=\"45.9375\" id=\"E8\" rx=\"10\" ry=\"10\" style=\"stroke: #383838; stroke-width: 1.5;\" width=\"150\" x=\"463\" y=\"495\"/><text fill=\"#000000\" font-family=\"sans-serif\" font-size=\"12\" font-style=\"italic\" lengthAdjust=\"spacingAndGlyphs\" textLength=\"148\" x=\"464\" y=\"511.1387\">«snapshot occurrence»</text><text fill=\"#000000\" font-family=\"sans-serif\" font-size=\"12\" lengthAdjust=\"spacingAndGlyphs\" textLength=\"15\" x=\"528.5\" y=\"525.1074\">s2</text><line style=\"stroke: #383838; stroke-width: 1.5;\" x1=\"464\" x2=\"612\" y1=\"532.9375\" y2=\"532.9375\"/></a><!--MD5=[fd4143e9d270a159db93a4ea2a975926]\n",
       "class E9--><a href=\"psysml:25521b86-d75d-41e6-9d0e-592064bc2653\" target=\"_top\" title=\"psysml:25521b86-d75d-41e6-9d0e-592064bc2653\" xlink:actuate=\"onRequest\" xlink:href=\"psysml:25521b86-d75d-41e6-9d0e-592064bc2653\" xlink:show=\"new\" xlink:title=\"psysml:25521b86-d75d-41e6-9d0e-592064bc2653\" xlink:type=\"simple\"><rect fill=\"#FFFFFF\" height=\"45.9375\" id=\"E9\" rx=\"10\" ry=\"10\" style=\"stroke: #383838; stroke-width: 1.5;\" width=\"146\" x=\"648\" y=\"495\"/><text fill=\"#000000\" font-family=\"sans-serif\" font-size=\"12\" font-style=\"italic\" lengthAdjust=\"spacingAndGlyphs\" textLength=\"144\" x=\"649\" y=\"511.1387\">«timeslice occurrence»</text><text fill=\"#000000\" font-family=\"sans-serif\" font-size=\"12\" lengthAdjust=\"spacingAndGlyphs\" textLength=\"13\" x=\"712.5\" y=\"525.1074\">t2</text><line style=\"stroke: #383838; stroke-width: 1.5;\" x1=\"649\" x2=\"793\" y1=\"532.9375\" y2=\"532.9375\"/></a><!--MD5=[96f4274e9e20536e775497830990834d]\n",
       "class E10--><a href=\"psysml:ec83ca81-a881-4da3-97a0-46e2b6aae84c\" target=\"_top\" title=\"psysml:ec83ca81-a881-4da3-97a0-46e2b6aae84c\" xlink:actuate=\"onRequest\" xlink:href=\"psysml:ec83ca81-a881-4da3-97a0-46e2b6aae84c\" xlink:show=\"new\" xlink:title=\"psysml:ec83ca81-a881-4da3-97a0-46e2b6aae84c\" xlink:type=\"simple\"><rect fill=\"#FFFFFF\" height=\"45.9375\" id=\"E10\" rx=\"10\" ry=\"10\" style=\"stroke: #383838; stroke-width: 1.5;\" width=\"149\" x=\"505.5\" y=\"41\"/><text fill=\"#000000\" font-family=\"sans-serif\" font-size=\"12\" font-style=\"italic\" lengthAdjust=\"spacingAndGlyphs\" textLength=\"147\" x=\"506.5\" y=\"57.1387\">«individual occurrence»</text><text fill=\"#000000\" font-family=\"sans-serif\" font-size=\"12\" lengthAdjust=\"spacingAndGlyphs\" textLength=\"77\" x=\"539.5\" y=\"71.1074\">ind: Ind, Occ</text><line style=\"stroke: #383838; stroke-width: 1.5;\" x1=\"506.5\" x2=\"653.5\" y1=\"78.9375\" y2=\"78.9375\"/></a><!--MD5=[1dd1bfd58a279cf63c5f349dbc8fc6a1]\n",
       "class E11--><a href=\"psysml:fe74329f-5d2b-4ebe-b106-a7ecca7a6fbd\" target=\"_top\" title=\"psysml:fe74329f-5d2b-4ebe-b106-a7ecca7a6fbd\" xlink:actuate=\"onRequest\" xlink:href=\"psysml:fe74329f-5d2b-4ebe-b106-a7ecca7a6fbd\" xlink:show=\"new\" xlink:title=\"psysml:fe74329f-5d2b-4ebe-b106-a7ecca7a6fbd\" xlink:type=\"simple\"><rect fill=\"#FFFFFF\" height=\"45.9375\" id=\"E11\" rx=\"10\" ry=\"10\" style=\"stroke: #383838; stroke-width: 1.5;\" width=\"150\" x=\"561\" y=\"162\"/><text fill=\"#000000\" font-family=\"sans-serif\" font-size=\"12\" font-style=\"italic\" lengthAdjust=\"spacingAndGlyphs\" textLength=\"148\" x=\"562\" y=\"178.1387\">«snapshot occurrence»</text><text fill=\"#000000\" font-family=\"sans-serif\" font-size=\"12\" lengthAdjust=\"spacingAndGlyphs\" textLength=\"15\" x=\"626.5\" y=\"192.1074\">s3</text><line style=\"stroke: #383838; stroke-width: 1.5;\" x1=\"562\" x2=\"710\" y1=\"199.9375\" y2=\"199.9375\"/></a><!--MD5=[49a0ec8f00dab7302a31f22d0f0fe584]\n",
       "class E12--><a href=\"psysml:6925098a-d5ed-431f-aaf1-d453853f914b\" target=\"_top\" title=\"psysml:6925098a-d5ed-431f-aaf1-d453853f914b\" xlink:actuate=\"onRequest\" xlink:href=\"psysml:6925098a-d5ed-431f-aaf1-d453853f914b\" xlink:show=\"new\" xlink:title=\"psysml:6925098a-d5ed-431f-aaf1-d453853f914b\" xlink:type=\"simple\"><rect fill=\"#FFFFFF\" height=\"45.9375\" id=\"E12\" rx=\"10\" ry=\"10\" style=\"stroke: #383838; stroke-width: 1.5;\" width=\"208\" x=\"746\" y=\"162\"/><text fill=\"#000000\" font-family=\"sans-serif\" font-size=\"12\" font-style=\"italic\" lengthAdjust=\"spacingAndGlyphs\" textLength=\"206\" x=\"747\" y=\"178.1387\">«individual timeslice occurrence»</text><text fill=\"#000000\" font-family=\"sans-serif\" font-size=\"12\" lengthAdjust=\"spacingAndGlyphs\" textLength=\"13\" x=\"841.5\" y=\"192.1074\">t3</text><line style=\"stroke: #383838; stroke-width: 1.5;\" x1=\"747\" x2=\"953\" y1=\"199.9375\" y2=\"199.9375\"/></a><!--MD5=[ee3c913d1a06f366521f9ef512b67efe]\n",
       "class E13--><a href=\"psysml:4e4d3416-6ae1-42d7-bc86-2084c913e314\" target=\"_top\" title=\"psysml:4e4d3416-6ae1-42d7-bc86-2084c913e314\" xlink:actuate=\"onRequest\" xlink:href=\"psysml:4e4d3416-6ae1-42d7-bc86-2084c913e314\" xlink:show=\"new\" xlink:title=\"psysml:4e4d3416-6ae1-42d7-bc86-2084c913e314\" xlink:type=\"simple\"><rect fill=\"#FFFFFF\" height=\"45.9375\" id=\"E13\" rx=\"10\" ry=\"10\" style=\"stroke: #383838; stroke-width: 1.5;\" width=\"212\" x=\"32\" y=\"283\"/><text fill=\"#000000\" font-family=\"sans-serif\" font-size=\"12\" font-style=\"italic\" lengthAdjust=\"spacingAndGlyphs\" textLength=\"210\" x=\"33\" y=\"299.1387\">«individual snapshot occurrence»</text><text fill=\"#000000\" font-family=\"sans-serif\" font-size=\"12\" lengthAdjust=\"spacingAndGlyphs\" textLength=\"42\" x=\"115\" y=\"313.1074\">s4: Ind</text><line style=\"stroke: #383838; stroke-width: 1.5;\" x1=\"33\" x2=\"243\" y1=\"320.9375\" y2=\"320.9375\"/></a><!--MD5=[209b3feb70ccb6233bfe1053d122c12c]\n",
       "reverse link E2 to E3--><a href=\"psysml:62ea934f-12d4-42a0-b786-a1086ef654f4\" target=\"_top\" title=\"psysml:62ea934f-12d4-42a0-b786-a1086ef654f4\" xlink:actuate=\"onRequest\" xlink:href=\"psysml:62ea934f-12d4-42a0-b786-a1086ef654f4\" xlink:show=\"new\" xlink:title=\"psysml:62ea934f-12d4-42a0-b786-a1086ef654f4\" xlink:type=\"simple\"><path d=\"M376.37,232.45 C359.85,249.83 343.43,268.76 332.86,282.93 \" fill=\"none\" id=\"E2&lt;-E3\" style=\"stroke: #383838; stroke-width: 1.0;\"/><polygon fill=\"#FFFFFF\" points=\"385.52,223,378.4729,224.5294,377.1743,231.6226,384.2213,230.0932,385.52,223\" style=\"stroke: #383838; stroke-width: 1.0;\"/></a><!--MD5=[05d275557350bfb9b23a4ef7222b4c39]\n",
       "link E3 to E2--><a href=\"psysml:72edb9ed-f456-4be1-846b-a7c4b7fb6ef3\" target=\"_top\" title=\"psysml:72edb9ed-f456-4be1-846b-a7c4b7fb6ef3\" xlink:actuate=\"onRequest\" xlink:href=\"psysml:72edb9ed-f456-4be1-846b-a7c4b7fb6ef3\" xlink:show=\"new\" xlink:title=\"psysml:72edb9ed-f456-4be1-846b-a7c4b7fb6ef3\" xlink:type=\"simple\"><path d=\"M353.8,282.93 C367.38,270.34 383.11,253.98 396.95,238.29 \" fill=\"none\" id=\"E3-&gt;E2\" style=\"stroke: #383838; stroke-width: 1.0;\"/><polygon fill=\"#FFFFFF\" points=\"410.02,223,403.0007,241.9929,392.3563,232.8991,410.02,223\" style=\"stroke: #383838; stroke-width: 1.0;\"/><ellipse cx=\"397.7776\" cy=\"245.0276\" fill=\"#383838\" rx=\"2\" ry=\"2\" style=\"stroke: #383838; stroke-width: 1.0;\"/><ellipse cx=\"390.1744\" cy=\"238.532\" fill=\"#383838\" rx=\"2\" ry=\"2\" style=\"stroke: #383838; stroke-width: 1.0;\"/></a><!--MD5=[9618e71518536f8baf3342ff6fdab317]\n",
       "reverse link E2 to E4--><a href=\"psysml:1930a264-e184-4aca-ae40-6206f5d09a7f\" target=\"_top\" title=\"psysml:1930a264-e184-4aca-ae40-6206f5d09a7f\" xlink:actuate=\"onRequest\" xlink:href=\"psysml:1930a264-e184-4aca-ae40-6206f5d09a7f\" xlink:show=\"new\" xlink:title=\"psysml:1930a264-e184-4aca-ae40-6206f5d09a7f\" xlink:type=\"simple\"><path d=\"M424.31,236.34 C425.74,252.61 428.58,269.81 432.23,282.93 \" fill=\"none\" id=\"E2&lt;-E4\" style=\"stroke: #383838; stroke-width: 1.0;\"/><polygon fill=\"#383838\" points=\"423.45,223,419.8475,229.2467,424.2281,234.9747,427.8306,228.728,423.45,223\" style=\"stroke: #383838; stroke-width: 1.0;\"/></a><!--MD5=[185131fc0dcab0a4505a2ebe144e961b]\n",
       "link E4 to E2--><a href=\"psysml:32367fe5-1bb2-4952-a335-a8970d1d9f84\" target=\"_top\" title=\"psysml:32367fe5-1bb2-4952-a335-a8970d1d9f84\" xlink:actuate=\"onRequest\" xlink:href=\"psysml:32367fe5-1bb2-4952-a335-a8970d1d9f84\" xlink:show=\"new\" xlink:title=\"psysml:32367fe5-1bb2-4952-a335-a8970d1d9f84\" xlink:type=\"simple\"><path d=\"M453.17,282.93 C453.77,271.65 452.99,257.34 451.22,243.21 \" fill=\"none\" id=\"E4-&gt;E2\" style=\"stroke: #383838; stroke-width: 1.0;\"/><polygon fill=\"#FFFFFF\" points=\"447.96,223,457.8973,240.6423,444.0761,242.8725,447.96,223\" style=\"stroke: #383838; stroke-width: 1.0;\"/><ellipse cx=\"456.8309\" cy=\"246.5881\" fill=\"#383838\" rx=\"2\" ry=\"2\" style=\"stroke: #383838; stroke-width: 1.0;\"/><ellipse cx=\"446.9586\" cy=\"248.1811\" fill=\"#383838\" rx=\"2\" ry=\"2\" style=\"stroke: #383838; stroke-width: 1.0;\"/></a><!--MD5=[4e1a83fab71cdb913c109063314ae896]\n",
       "reverse link E2 to E5--><a href=\"psysml:0faf658f-4e02-48cd-849b-e0220b5d7629\" target=\"_top\" title=\"psysml:0faf658f-4e02-48cd-849b-e0220b5d7629\" xlink:actuate=\"onRequest\" xlink:href=\"psysml:0faf658f-4e02-48cd-849b-e0220b5d7629\" xlink:show=\"new\" xlink:title=\"psysml:0faf658f-4e02-48cd-849b-e0220b5d7629\" xlink:type=\"simple\"><path d=\"M499.85,227.17 C531.12,245.87 566.86,267.24 592.97,282.85 \" fill=\"none\" id=\"E2&lt;-E5\" style=\"stroke: #383838; stroke-width: 1.0;\"/><polygon fill=\"#383838\" points=\"488.56,220.42,491.6568,226.9323,498.8592,226.5784,495.7624,220.0661,488.56,220.42\" style=\"stroke: #383838; stroke-width: 1.0;\"/></a><!--MD5=[ce036f65110ae2351ccce5a81dc2e928]\n",
       "reverse link E2 to E6--><a href=\"psysml:3f965610-dfca-4051-a1f3-35306b55574a\" target=\"_top\" title=\"psysml:3f965610-dfca-4051-a1f3-35306b55574a\" xlink:actuate=\"onRequest\" xlink:href=\"psysml:3f965610-dfca-4051-a1f3-35306b55574a\" xlink:show=\"new\" xlink:title=\"psysml:3f965610-dfca-4051-a1f3-35306b55574a\" xlink:type=\"simple\"><path d=\"M500.82,216.39 C509.83,220.32 516,223 516,223 C516,223 674.13,262.53 770.8,286.7 \" fill=\"none\" id=\"E2&lt;-E6\" style=\"stroke: #383838; stroke-width: 1.0;\"/><polygon fill=\"#383838\" points=\"488.64,211.09,492.5451,217.1522,499.643,215.8791,495.7378,209.8169,488.64,211.09\" style=\"stroke: #383838; stroke-width: 1.0;\"/></a><!--MD5=[3a9b96bfbf6b6ad89c494e81751bda47]\n",
       "link E5 to E7--><a href=\"psysml:5b4e0f94-bd6c-4a04-8036-e6bb7f85be93\" target=\"_top\" title=\"psysml:5b4e0f94-bd6c-4a04-8036-e6bb7f85be93\" xlink:actuate=\"onRequest\" xlink:href=\"psysml:5b4e0f94-bd6c-4a04-8036-e6bb7f85be93\" xlink:show=\"new\" xlink:title=\"psysml:5b4e0f94-bd6c-4a04-8036-e6bb7f85be93\" xlink:type=\"simple\"><path d=\"M630,329.06 C630,340.64 630,355.23 630,368.87 \" fill=\"none\" id=\"E5-&gt;E7\" style=\"stroke: #383838; stroke-width: 1.0;\"/><polygon fill=\"#FFFFFF\" points=\"630,388.98,623,369.98,637,369.98,630,388.98\" style=\"stroke: #383838; stroke-width: 1.0;\"/><ellipse cx=\"625\" cy=\"364.28\" fill=\"#383838\" rx=\"2\" ry=\"2\" style=\"stroke: #383838; stroke-width: 1.0;\"/><ellipse cx=\"635\" cy=\"364.28\" fill=\"#383838\" rx=\"2\" ry=\"2\" style=\"stroke: #383838; stroke-width: 1.0;\"/></a><!--MD5=[dc164f5e8a733ab456ef1add180e9e34]\n",
       "reverse link E7 to E8--><a href=\"psysml:37f490ca-8c9f-44ef-b281-38d91f32f2bf\" target=\"_top\" title=\"psysml:37f490ca-8c9f-44ef-b281-38d91f32f2bf\" xlink:actuate=\"onRequest\" xlink:href=\"psysml:37f490ca-8c9f-44ef-b281-38d91f32f2bf\" xlink:show=\"new\" xlink:title=\"psysml:37f490ca-8c9f-44ef-b281-38d91f32f2bf\" xlink:type=\"simple\"><path d=\"M601.55,445.16 C587.25,461.33 570.28,480.51 557.48,494.98 \" fill=\"none\" id=\"E7&lt;-E8\" style=\"stroke: #383838; stroke-width: 1.0;\"/><polygon fill=\"#383838\" points=\"610.49,435.06,603.5177,436.9004,602.5348,444.0442,609.5071,442.2038,610.49,435.06\" style=\"stroke: #383838; stroke-width: 1.0;\"/></a><!--MD5=[e4a10ef82d0e328e31cac39a31e58dda]\n",
       "reverse link E7 to E9--><a href=\"psysml:c791e7ed-713f-4106-b9d5-0dfb97ea4543\" target=\"_top\" title=\"psysml:c791e7ed-713f-4106-b9d5-0dfb97ea4543\" xlink:actuate=\"onRequest\" xlink:href=\"psysml:c791e7ed-713f-4106-b9d5-0dfb97ea4543\" xlink:show=\"new\" xlink:title=\"psysml:c791e7ed-713f-4106-b9d5-0dfb97ea4543\" xlink:type=\"simple\"><path d=\"M658.14,445.16 C672.29,461.33 689.07,480.51 701.73,494.98 \" fill=\"none\" id=\"E7&lt;-E9\" style=\"stroke: #383838; stroke-width: 1.0;\"/><polygon fill=\"#383838\" points=\"649.3,435.06,650.2496,442.2083,657.2133,444.0811,656.2637,436.9328,649.3,435.06\" style=\"stroke: #383838; stroke-width: 1.0;\"/></a><!--MD5=[a919e0967d6f3de553dc51b9865a1d6d]\n",
       "link E10 to E7--><a href=\"psysml:d7bf13fe-2343-4091-93b6-ccc05bfccd1c\" target=\"_top\" title=\"psysml:d7bf13fe-2343-4091-93b6-ccc05bfccd1c\" xlink:actuate=\"onRequest\" xlink:href=\"psysml:d7bf13fe-2343-4091-93b6-ccc05bfccd1c\" xlink:show=\"new\" xlink:title=\"psysml:d7bf13fe-2343-4091-93b6-ccc05bfccd1c\" xlink:type=\"simple\"><path d=\"M570.16,87.41 C559.5,111.69 544,147 544,147 C544,147 544,223 544,223 C544,223 935,283 935,283 C935,283 935,329 935,329 C935,329 820.21,359.86 731.48,383.72 \" fill=\"none\" id=\"E10-&gt;E7\" style=\"stroke: #383838; stroke-width: 1.0;\"/><polygon fill=\"#FFFFFF\" points=\"712.14,388.92,728.6669,377.2212,732.3065,390.7398,712.14,388.92\" style=\"stroke: #383838; stroke-width: 1.0;\"/><ellipse cx=\"734.6908\" cy=\"377.6706\" fill=\"#383838\" rx=\"2\" ry=\"2\" style=\"stroke: #383838; stroke-width: 1.0;\"/><ellipse cx=\"737.2906\" cy=\"387.3267\" fill=\"#383838\" rx=\"2\" ry=\"2\" style=\"stroke: #383838; stroke-width: 1.0;\"/></a><!--MD5=[0f36bececdf0dff6e600d6f64214b0f1]\n",
       "link E10 to E2--><a href=\"psysml:65e23dda-2765-4b86-8b8c-165f4272381c\" target=\"_top\" title=\"psysml:65e23dda-2765-4b86-8b8c-165f4272381c\" xlink:actuate=\"onRequest\" xlink:href=\"psysml:65e23dda-2765-4b86-8b8c-165f4272381c\" xlink:show=\"new\" xlink:title=\"psysml:65e23dda-2765-4b86-8b8c-165f4272381c\" xlink:type=\"simple\"><path d=\"M552.32,87.1 C535.71,100.38 513.86,117.82 493.29,134.25 \" fill=\"none\" id=\"E10-&gt;E2\" style=\"stroke: #383838; stroke-width: 1.0;\"/><polygon fill=\"#FFFFFF\" points=\"477.56,146.81,488.0352,129.4817,496.7737,140.4197,477.56,146.81\" style=\"stroke: #383838; stroke-width: 1.0;\"/><ellipse cx=\"493.7369\" cy=\"127.4865\" fill=\"#383838\" rx=\"2\" ry=\"2\" style=\"stroke: #383838; stroke-width: 1.0;\"/><ellipse cx=\"499.9786\" cy=\"135.2994\" fill=\"#383838\" rx=\"2\" ry=\"2\" style=\"stroke: #383838; stroke-width: 1.0;\"/></a><!--MD5=[de308be4a2431766a05a907a031c07fc]\n",
       "reverse link E10 to E11--><a href=\"psysml:996a22eb-9701-44d5-9cb6-35ae83d4d1b1\" target=\"_top\" title=\"psysml:996a22eb-9701-44d5-9cb6-35ae83d4d1b1\" xlink:actuate=\"onRequest\" xlink:href=\"psysml:996a22eb-9701-44d5-9cb6-35ae83d4d1b1\" xlink:show=\"new\" xlink:title=\"psysml:996a22eb-9701-44d5-9cb6-35ae83d4d1b1\" xlink:type=\"simple\"><path d=\"M595.95,98.9 C605.42,119.01 617.15,143.94 625.46,161.61 \" fill=\"none\" id=\"E10&lt;-E11\" style=\"stroke: #383838; stroke-width: 1.0;\"/><polygon fill=\"#383838\" points=\"590.4,87.1,589.3334,94.2318,595.5064,97.9593,596.573,90.8275,590.4,87.1\" style=\"stroke: #383838; stroke-width: 1.0;\"/></a><!--MD5=[1d54f998c6d5961a1a9184be73a7eb6c]\n",
       "reverse link E10 to E12--><a href=\"psysml:da3311a8-2759-47ea-b229-fd34ee887055\" target=\"_top\" title=\"psysml:da3311a8-2759-47ea-b229-fd34ee887055\" xlink:actuate=\"onRequest\" xlink:href=\"psysml:da3311a8-2759-47ea-b229-fd34ee887055\" xlink:show=\"new\" xlink:title=\"psysml:da3311a8-2759-47ea-b229-fd34ee887055\" xlink:type=\"simple\"><path d=\"M642.21,92.42 C689.99,113.48 755.13,142.19 799.66,161.81 \" fill=\"none\" id=\"E10&lt;-E12\" style=\"stroke: #383838; stroke-width: 1.0;\"/><polygon fill=\"#383838\" points=\"630.15,87.1,634.028,93.1796,641.1314,91.9382,637.2534,85.8586,630.15,87.1\" style=\"stroke: #383838; stroke-width: 1.0;\"/></a><!--MD5=[4a48077df6499cfcd20b62e8f5f37904]\n",
       "link E13 to E7--><a href=\"psysml:fb78d99f-0705-4d43-aabd-2eaf1ce47389\" target=\"_top\" title=\"psysml:fb78d99f-0705-4d43-aabd-2eaf1ce47389\" xlink:actuate=\"onRequest\" xlink:href=\"psysml:fb78d99f-0705-4d43-aabd-2eaf1ce47389\" xlink:show=\"new\" xlink:title=\"psysml:fb78d99f-0705-4d43-aabd-2eaf1ce47389\" xlink:type=\"simple\"><path d=\"M242.34,329.06 C324.51,346.43 438.67,370.56 521.82,388.13 \" fill=\"none\" id=\"E13-&gt;E7\" style=\"stroke: #383838; stroke-width: 1.0;\"/><polygon fill=\"#FFFFFF\" points=\"541.45,392.28,521.4143,395.2075,524.304,381.509,541.45,392.28\" style=\"stroke: #383838; stroke-width: 1.0;\"/><ellipse cx=\"516.2498\" cy=\"392.0741\" fill=\"#383838\" rx=\"2\" ry=\"2\" style=\"stroke: #383838; stroke-width: 1.0;\"/><ellipse cx=\"518.3139\" cy=\"382.2894\" fill=\"#383838\" rx=\"2\" ry=\"2\" style=\"stroke: #383838; stroke-width: 1.0;\"/></a><!--MD5=[7f89bee87c5a32cb13ae311d4efbcee3]\n",
       "@startuml\r\n",
       "skinparam linetype polyline\r\n",
       "skinparam monochrome true\r\n",
       "skinparam classbackgroundcolor white\r\n",
       "skinparam shadowing false\r\n",
       "skinparam wrapWidth 300\r\n",
       "hide circle\r\n",
       "\r\n",
       "package \"OccurrenceTest\" as E1  [[psysml:76f03fcf-c31b-4704-ae9e-b44a23fd6ebe ]]  {\r\n",
       "comp def \"Occ\" as E2  <<(T,blue) occurrence  def>> [[psysml:eaa0b96d-7da2-44a7-b980-6b6f36747918 ]] {\r\n",
       "- - attributes - -\r\n",
       "a\r\n",
       "}\r\n",
       "comp usage \"occ1: Occ \" as E3  <<(T,blue) occurrence>> [[psysml:87fca259-1c14-4b5b-983e-37895f6ff77b ]] {\r\n",
       "}\r\n",
       "comp usage \"occ2: Occ \" as E4  <<(T,blue) occurrence>> [[psysml:ffd2f288-180d-4271-8880-cf9706207ba2 ]] {\r\n",
       "}\r\n",
       "comp usage \"s: Ind \" as E5  <<(T,blue) individual snapshot occurrence>> [[psysml:4e1769cc-a186-417e-91f0-587d1f1196e7 ]] {\r\n",
       "}\r\n",
       "comp usage \"t \" as E6  <<(T,blue) timeslice occurrence>> [[psysml:9c61ac47-8b4e-45e2-802a-f3aa096140c4 ]] {\r\n",
       "}\r\n",
       "comp def \"Ind\" as E7  <<(T,blue) individual occurrence  def>> [[psysml:54e4af67-f268-48a3-80b8-bc1579f32c01 ]] {\r\n",
       "}\r\n",
       "comp usage \"s2 \" as E8  <<(T,blue) snapshot occurrence>> [[psysml:bfc31472-e77d-4111-949c-57e124b09868 ]] {\r\n",
       "}\r\n",
       "comp usage \"t2 \" as E9  <<(T,blue) timeslice occurrence>> [[psysml:25521b86-d75d-41e6-9d0e-592064bc2653 ]] {\r\n",
       "}\r\n",
       "comp usage \"ind: Ind, Occ \" as E10  <<(T,blue) individual occurrence>> [[psysml:ec83ca81-a881-4da3-97a0-46e2b6aae84c ]] {\r\n",
       "}\r\n",
       "comp usage \"s3 \" as E11  <<(T,blue) snapshot occurrence>> [[psysml:fe74329f-5d2b-4ebe-b106-a7ecca7a6fbd ]] {\r\n",
       "}\r\n",
       "comp usage \"t3 \" as E12  <<(T,blue) individual timeslice occurrence>> [[psysml:6925098a-d5ed-431f-aaf1-d453853f914b ]] {\r\n",
       "}\r\n",
       "comp usage \"s4: Ind \" as E13  <<(T,blue) individual snapshot occurrence>> [[psysml:4e4d3416-6ae1-42d7-bc86-2084c913e314 ]] {\r\n",
       "}\r\n",
       "}\r\n",
       "E2 o- - E3 [[psysml:62ea934f-12d4-42a0-b786-a1086ef654f4 ]] \r\n",
       "E3 - -:|> E2 [[psysml:72edb9ed-f456-4be1-846b-a7c4b7fb6ef3 ]] \r\n",
       "E2 *- - E4 [[psysml:1930a264-e184-4aca-ae40-6206f5d09a7f ]] \r\n",
       "E4 - -:|> E2 [[psysml:32367fe5-1bb2-4952-a335-a8970d1d9f84 ]] \r\n",
       "E2 *- - E5 [[psysml:0faf658f-4e02-48cd-849b-e0220b5d7629 ]] \r\n",
       "E2 *- - E6 [[psysml:3f965610-dfca-4051-a1f3-35306b55574a ]] \r\n",
       "E5 - -:|> E7 [[psysml:5b4e0f94-bd6c-4a04-8036-e6bb7f85be93 ]] \r\n",
       "E7 *- - E8 [[psysml:37f490ca-8c9f-44ef-b281-38d91f32f2bf ]] \r\n",
       "E7 *- - E9 [[psysml:c791e7ed-713f-4106-b9d5-0dfb97ea4543 ]] \r\n",
       "E10 - -:|> E7 [[psysml:d7bf13fe-2343-4091-93b6-ccc05bfccd1c ]] \r\n",
       "E10 - -:|> E2 [[psysml:65e23dda-2765-4b86-8b8c-165f4272381c ]] \r\n",
       "E10 *- - E11 [[psysml:996a22eb-9701-44d5-9cb6-35ae83d4d1b1 ]] \r\n",
       "E10 *- - E12 [[psysml:da3311a8-2759-47ea-b229-fd34ee887055 ]] \r\n",
       "E13 - -:|> E7 [[psysml:fb78d99f-0705-4d43-aabd-2eaf1ce47389 ]] \r\n",
       "@enduml\r\n",
       "\n",
       "PlantUML version 1.2020.13(Sat Jun 13 12:26:38 UTC 2020)\n",
       "(EPL source distribution)\n",
       "Java Runtime: OpenJDK Runtime Environment\n",
       "JVM: OpenJDK 64-Bit Server VM\n",
       "Default Encoding: UTF-8\n",
       "Language: en\n",
       "Country: null\n",
       "--></g></svg>"
      ]
     },
     "execution_count": 9,
     "metadata": {},
     "output_type": "execute_result"
    }
   ],
   "source": [
    "%viz --style=\"POLYLINE\" --view=\"Default\" \"OccurrenceTest\""
   ]
  },
  {
   "cell_type": "code",
   "execution_count": 10,
   "id": "67c108dc",
   "metadata": {
    "execution": {
     "iopub.execute_input": "2022-02-18T10:48:36.548645Z",
     "iopub.status.busy": "2022-02-18T10:48:36.548142Z",
     "iopub.status.idle": "2022-02-18T10:48:36.636441Z",
     "shell.execute_reply": "2022-02-18T10:48:36.636047Z"
    }
   },
   "outputs": [
    {
     "data": {
      "image/svg+xml": [
       "<?xml version=\"1.0\" encoding=\"UTF-8\" standalone=\"no\"?><svg xmlns=\"http://www.w3.org/2000/svg\" xmlns:xlink=\"http://www.w3.org/1999/xlink\" contentScriptType=\"application/ecmascript\" contentStyleType=\"text/css\" height=\"569px\" preserveAspectRatio=\"none\" style=\"width:992px;height:569px;\" version=\"1.1\" viewBox=\"0 0 992 569\" width=\"992px\" zoomAndPan=\"magnify\"><defs/><g><!--MD5=[fbc87193dbaf4d95561dea2c320d4a47]\n",
       "cluster E1--><a href=\"psysml:76f03fcf-c31b-4704-ae9e-b44a23fd6ebe\" target=\"_top\" title=\"psysml:76f03fcf-c31b-4704-ae9e-b44a23fd6ebe\" xlink:actuate=\"onRequest\" xlink:href=\"psysml:76f03fcf-c31b-4704-ae9e-b44a23fd6ebe\" xlink:show=\"new\" xlink:title=\"psysml:76f03fcf-c31b-4704-ae9e-b44a23fd6ebe\" xlink:type=\"simple\"><polygon fill=\"#FFFFFF\" points=\"16,6,134,6,141,28.2969,970,28.2969,970,557,16,557,16,6\" style=\"stroke: #000000; stroke-width: 1.5;\"/><line style=\"stroke: #000000; stroke-width: 1.5;\" x1=\"16\" x2=\"141\" y1=\"28.2969\" y2=\"28.2969\"/><text fill=\"#000000\" font-family=\"sans-serif\" font-size=\"14\" font-weight=\"bold\" lengthAdjust=\"spacingAndGlyphs\" textLength=\"112\" x=\"20\" y=\"20.9951\">OccurrenceTest</text></a><!--MD5=[b4997ac47864f28c2f74865a473b2911]\n",
       "class E2--><a href=\"psysml:eaa0b96d-7da2-44a7-b980-6b6f36747918\" target=\"_top\" title=\"psysml:eaa0b96d-7da2-44a7-b980-6b6f36747918\" xlink:actuate=\"onRequest\" xlink:href=\"psysml:eaa0b96d-7da2-44a7-b980-6b6f36747918\" xlink:show=\"new\" xlink:title=\"psysml:eaa0b96d-7da2-44a7-b980-6b6f36747918\" xlink:type=\"simple\"><rect fill=\"#FFFFFF\" height=\"75.5469\" id=\"E2\" style=\"stroke: #383838; stroke-width: 1.5;\" width=\"115\" x=\"373.5\" y=\"147\"/><text fill=\"#000000\" font-family=\"sans-serif\" font-size=\"12\" font-style=\"italic\" lengthAdjust=\"spacingAndGlyphs\" textLength=\"113\" x=\"374.5\" y=\"163.1387\">«occurrence  def»</text><text fill=\"#000000\" font-family=\"sans-serif\" font-size=\"12\" lengthAdjust=\"spacingAndGlyphs\" textLength=\"23\" x=\"419.5\" y=\"177.1074\">Occ</text><line style=\"stroke: #383838; stroke-width: 1.5;\" x1=\"374.5\" x2=\"487.5\" y1=\"184.9375\" y2=\"184.9375\"/><text fill=\"#000000\" font-family=\"sans-serif\" font-size=\"11\" lengthAdjust=\"spacingAndGlyphs\" textLength=\"7\" x=\"379.5\" y=\"215.9526\">a</text><line style=\"stroke: #383838; stroke-width: 1.0;\" x1=\"374.5\" x2=\"403.5\" y1=\"199.3398\" y2=\"199.3398\"/><text fill=\"#000000\" font-family=\"sans-serif\" font-size=\"11\" lengthAdjust=\"spacingAndGlyphs\" textLength=\"55\" x=\"403.5\" y=\"202.6479\">attributes</text><line style=\"stroke: #383838; stroke-width: 1.0;\" x1=\"458.5\" x2=\"487.5\" y1=\"199.3398\" y2=\"199.3398\"/></a><!--MD5=[09b614a08d8cba4a07c9adeb5e0fee81]\n",
       "class E3--><a href=\"psysml:87fca259-1c14-4b5b-983e-37895f6ff77b\" target=\"_top\" title=\"psysml:87fca259-1c14-4b5b-983e-37895f6ff77b\" xlink:actuate=\"onRequest\" xlink:href=\"psysml:87fca259-1c14-4b5b-983e-37895f6ff77b\" xlink:show=\"new\" xlink:title=\"psysml:87fca259-1c14-4b5b-983e-37895f6ff77b\" xlink:type=\"simple\"><rect fill=\"#FFFFFF\" height=\"45.9375\" id=\"E3\" rx=\"10\" ry=\"10\" style=\"stroke: #383838; stroke-width: 1.5;\" width=\"87\" x=\"279.5\" y=\"283\"/><text fill=\"#000000\" font-family=\"sans-serif\" font-size=\"12\" font-style=\"italic\" lengthAdjust=\"spacingAndGlyphs\" textLength=\"85\" x=\"280.5\" y=\"299.1387\">«occurrence»</text><text fill=\"#000000\" font-family=\"sans-serif\" font-size=\"12\" lengthAdjust=\"spacingAndGlyphs\" textLength=\"61\" x=\"290.5\" y=\"313.1074\">occ1: Occ</text><line style=\"stroke: #383838; stroke-width: 1.5;\" x1=\"280.5\" x2=\"365.5\" y1=\"320.9375\" y2=\"320.9375\"/></a><!--MD5=[ebbe1d658d1005bcc118a6aa81145e00]\n",
       "class E4--><a href=\"psysml:ffd2f288-180d-4271-8880-cf9706207ba2\" target=\"_top\" title=\"psysml:ffd2f288-180d-4271-8880-cf9706207ba2\" xlink:actuate=\"onRequest\" xlink:href=\"psysml:ffd2f288-180d-4271-8880-cf9706207ba2\" xlink:show=\"new\" xlink:title=\"psysml:ffd2f288-180d-4271-8880-cf9706207ba2\" xlink:type=\"simple\"><rect fill=\"#FFFFFF\" height=\"45.9375\" id=\"E4\" rx=\"10\" ry=\"10\" style=\"stroke: #383838; stroke-width: 1.5;\" width=\"87\" x=\"401.5\" y=\"283\"/><text fill=\"#000000\" font-family=\"sans-serif\" font-size=\"12\" font-style=\"italic\" lengthAdjust=\"spacingAndGlyphs\" textLength=\"85\" x=\"402.5\" y=\"299.1387\">«occurrence»</text><text fill=\"#000000\" font-family=\"sans-serif\" font-size=\"12\" lengthAdjust=\"spacingAndGlyphs\" textLength=\"61\" x=\"412.5\" y=\"313.1074\">occ2: Occ</text><line style=\"stroke: #383838; stroke-width: 1.5;\" x1=\"402.5\" x2=\"487.5\" y1=\"320.9375\" y2=\"320.9375\"/></a><!--MD5=[270fce915f116d4de14055a7c1d9a0f3]\n",
       "class E5--><a href=\"psysml:4e1769cc-a186-417e-91f0-587d1f1196e7\" target=\"_top\" title=\"psysml:4e1769cc-a186-417e-91f0-587d1f1196e7\" xlink:actuate=\"onRequest\" xlink:href=\"psysml:4e1769cc-a186-417e-91f0-587d1f1196e7\" xlink:show=\"new\" xlink:title=\"psysml:4e1769cc-a186-417e-91f0-587d1f1196e7\" xlink:type=\"simple\"><rect fill=\"#FFFFFF\" height=\"45.9375\" id=\"E5\" rx=\"10\" ry=\"10\" style=\"stroke: #383838; stroke-width: 1.5;\" width=\"212\" x=\"524\" y=\"283\"/><text fill=\"#000000\" font-family=\"sans-serif\" font-size=\"12\" font-style=\"italic\" lengthAdjust=\"spacingAndGlyphs\" textLength=\"210\" x=\"525\" y=\"299.1387\">«individual snapshot occurrence»</text><text fill=\"#000000\" font-family=\"sans-serif\" font-size=\"12\" lengthAdjust=\"spacingAndGlyphs\" textLength=\"34\" x=\"611\" y=\"313.1074\">s: Ind</text><line style=\"stroke: #383838; stroke-width: 1.5;\" x1=\"525\" x2=\"735\" y1=\"320.9375\" y2=\"320.9375\"/></a><!--MD5=[60a26617385b1d2d0262a64233df1f8d]\n",
       "class E6--><a href=\"psysml:9c61ac47-8b4e-45e2-802a-f3aa096140c4\" target=\"_top\" title=\"psysml:9c61ac47-8b4e-45e2-802a-f3aa096140c4\" xlink:actuate=\"onRequest\" xlink:href=\"psysml:9c61ac47-8b4e-45e2-802a-f3aa096140c4\" xlink:show=\"new\" xlink:title=\"psysml:9c61ac47-8b4e-45e2-802a-f3aa096140c4\" xlink:type=\"simple\"><rect fill=\"#FFFFFF\" height=\"45.9375\" id=\"E6\" rx=\"10\" ry=\"10\" style=\"stroke: #383838; stroke-width: 1.5;\" width=\"146\" x=\"771\" y=\"283\"/><text fill=\"#000000\" font-family=\"sans-serif\" font-size=\"12\" font-style=\"italic\" lengthAdjust=\"spacingAndGlyphs\" textLength=\"144\" x=\"772\" y=\"299.1387\">«timeslice occurrence»</text><text fill=\"#000000\" font-family=\"sans-serif\" font-size=\"12\" lengthAdjust=\"spacingAndGlyphs\" textLength=\"5\" x=\"839.5\" y=\"313.1074\">t</text><line style=\"stroke: #383838; stroke-width: 1.5;\" x1=\"772\" x2=\"916\" y1=\"320.9375\" y2=\"320.9375\"/></a><!--MD5=[2156ba9850f5573cc1fc38a6a4b2f02b]\n",
       "class E7--><a href=\"psysml:54e4af67-f268-48a3-80b8-bc1579f32c01\" target=\"_top\" title=\"psysml:54e4af67-f268-48a3-80b8-bc1579f32c01\" xlink:actuate=\"onRequest\" xlink:href=\"psysml:54e4af67-f268-48a3-80b8-bc1579f32c01\" xlink:show=\"new\" xlink:title=\"psysml:54e4af67-f268-48a3-80b8-bc1579f32c01\" xlink:type=\"simple\"><rect fill=\"#FFFFFF\" height=\"45.9375\" id=\"E7\" style=\"stroke: #383838; stroke-width: 1.5;\" width=\"177\" x=\"541.5\" y=\"389\"/><text fill=\"#000000\" font-family=\"sans-serif\" font-size=\"12\" font-style=\"italic\" lengthAdjust=\"spacingAndGlyphs\" textLength=\"175\" x=\"542.5\" y=\"405.1387\">«individual occurrence  def»</text><text fill=\"#000000\" font-family=\"sans-serif\" font-size=\"12\" lengthAdjust=\"spacingAndGlyphs\" textLength=\"19\" x=\"620.5\" y=\"419.1074\">Ind</text><line style=\"stroke: #383838; stroke-width: 1.5;\" x1=\"542.5\" x2=\"717.5\" y1=\"426.9375\" y2=\"426.9375\"/></a><!--MD5=[b9389687b975829384b498ac4b7476b2]\n",
       "class E8--><a href=\"psysml:bfc31472-e77d-4111-949c-57e124b09868\" target=\"_top\" title=\"psysml:bfc31472-e77d-4111-949c-57e124b09868\" xlink:actuate=\"onRequest\" xlink:href=\"psysml:bfc31472-e77d-4111-949c-57e124b09868\" xlink:show=\"new\" xlink:title=\"psysml:bfc31472-e77d-4111-949c-57e124b09868\" xlink:type=\"simple\"><rect fill=\"#FFFFFF\" height=\"45.9375\" id=\"E8\" rx=\"10\" ry=\"10\" style=\"stroke: #383838; stroke-width: 1.5;\" width=\"150\" x=\"463\" y=\"495\"/><text fill=\"#000000\" font-family=\"sans-serif\" font-size=\"12\" font-style=\"italic\" lengthAdjust=\"spacingAndGlyphs\" textLength=\"148\" x=\"464\" y=\"511.1387\">«snapshot occurrence»</text><text fill=\"#000000\" font-family=\"sans-serif\" font-size=\"12\" lengthAdjust=\"spacingAndGlyphs\" textLength=\"15\" x=\"528.5\" y=\"525.1074\">s2</text><line style=\"stroke: #383838; stroke-width: 1.5;\" x1=\"464\" x2=\"612\" y1=\"532.9375\" y2=\"532.9375\"/></a><!--MD5=[fd4143e9d270a159db93a4ea2a975926]\n",
       "class E9--><a href=\"psysml:25521b86-d75d-41e6-9d0e-592064bc2653\" target=\"_top\" title=\"psysml:25521b86-d75d-41e6-9d0e-592064bc2653\" xlink:actuate=\"onRequest\" xlink:href=\"psysml:25521b86-d75d-41e6-9d0e-592064bc2653\" xlink:show=\"new\" xlink:title=\"psysml:25521b86-d75d-41e6-9d0e-592064bc2653\" xlink:type=\"simple\"><rect fill=\"#FFFFFF\" height=\"45.9375\" id=\"E9\" rx=\"10\" ry=\"10\" style=\"stroke: #383838; stroke-width: 1.5;\" width=\"146\" x=\"648\" y=\"495\"/><text fill=\"#000000\" font-family=\"sans-serif\" font-size=\"12\" font-style=\"italic\" lengthAdjust=\"spacingAndGlyphs\" textLength=\"144\" x=\"649\" y=\"511.1387\">«timeslice occurrence»</text><text fill=\"#000000\" font-family=\"sans-serif\" font-size=\"12\" lengthAdjust=\"spacingAndGlyphs\" textLength=\"13\" x=\"712.5\" y=\"525.1074\">t2</text><line style=\"stroke: #383838; stroke-width: 1.5;\" x1=\"649\" x2=\"793\" y1=\"532.9375\" y2=\"532.9375\"/></a><!--MD5=[96f4274e9e20536e775497830990834d]\n",
       "class E10--><a href=\"psysml:ec83ca81-a881-4da3-97a0-46e2b6aae84c\" target=\"_top\" title=\"psysml:ec83ca81-a881-4da3-97a0-46e2b6aae84c\" xlink:actuate=\"onRequest\" xlink:href=\"psysml:ec83ca81-a881-4da3-97a0-46e2b6aae84c\" xlink:show=\"new\" xlink:title=\"psysml:ec83ca81-a881-4da3-97a0-46e2b6aae84c\" xlink:type=\"simple\"><rect fill=\"#FFFFFF\" height=\"45.9375\" id=\"E10\" rx=\"10\" ry=\"10\" style=\"stroke: #383838; stroke-width: 1.5;\" width=\"149\" x=\"505.5\" y=\"41\"/><text fill=\"#000000\" font-family=\"sans-serif\" font-size=\"12\" font-style=\"italic\" lengthAdjust=\"spacingAndGlyphs\" textLength=\"147\" x=\"506.5\" y=\"57.1387\">«individual occurrence»</text><text fill=\"#000000\" font-family=\"sans-serif\" font-size=\"12\" lengthAdjust=\"spacingAndGlyphs\" textLength=\"77\" x=\"539.5\" y=\"71.1074\">ind: Ind, Occ</text><line style=\"stroke: #383838; stroke-width: 1.5;\" x1=\"506.5\" x2=\"653.5\" y1=\"78.9375\" y2=\"78.9375\"/></a><!--MD5=[1dd1bfd58a279cf63c5f349dbc8fc6a1]\n",
       "class E11--><a href=\"psysml:fe74329f-5d2b-4ebe-b106-a7ecca7a6fbd\" target=\"_top\" title=\"psysml:fe74329f-5d2b-4ebe-b106-a7ecca7a6fbd\" xlink:actuate=\"onRequest\" xlink:href=\"psysml:fe74329f-5d2b-4ebe-b106-a7ecca7a6fbd\" xlink:show=\"new\" xlink:title=\"psysml:fe74329f-5d2b-4ebe-b106-a7ecca7a6fbd\" xlink:type=\"simple\"><rect fill=\"#FFFFFF\" height=\"45.9375\" id=\"E11\" rx=\"10\" ry=\"10\" style=\"stroke: #383838; stroke-width: 1.5;\" width=\"150\" x=\"561\" y=\"162\"/><text fill=\"#000000\" font-family=\"sans-serif\" font-size=\"12\" font-style=\"italic\" lengthAdjust=\"spacingAndGlyphs\" textLength=\"148\" x=\"562\" y=\"178.1387\">«snapshot occurrence»</text><text fill=\"#000000\" font-family=\"sans-serif\" font-size=\"12\" lengthAdjust=\"spacingAndGlyphs\" textLength=\"15\" x=\"626.5\" y=\"192.1074\">s3</text><line style=\"stroke: #383838; stroke-width: 1.5;\" x1=\"562\" x2=\"710\" y1=\"199.9375\" y2=\"199.9375\"/></a><!--MD5=[49a0ec8f00dab7302a31f22d0f0fe584]\n",
       "class E12--><a href=\"psysml:6925098a-d5ed-431f-aaf1-d453853f914b\" target=\"_top\" title=\"psysml:6925098a-d5ed-431f-aaf1-d453853f914b\" xlink:actuate=\"onRequest\" xlink:href=\"psysml:6925098a-d5ed-431f-aaf1-d453853f914b\" xlink:show=\"new\" xlink:title=\"psysml:6925098a-d5ed-431f-aaf1-d453853f914b\" xlink:type=\"simple\"><rect fill=\"#FFFFFF\" height=\"45.9375\" id=\"E12\" rx=\"10\" ry=\"10\" style=\"stroke: #383838; stroke-width: 1.5;\" width=\"208\" x=\"746\" y=\"162\"/><text fill=\"#000000\" font-family=\"sans-serif\" font-size=\"12\" font-style=\"italic\" lengthAdjust=\"spacingAndGlyphs\" textLength=\"206\" x=\"747\" y=\"178.1387\">«individual timeslice occurrence»</text><text fill=\"#000000\" font-family=\"sans-serif\" font-size=\"12\" lengthAdjust=\"spacingAndGlyphs\" textLength=\"13\" x=\"841.5\" y=\"192.1074\">t3</text><line style=\"stroke: #383838; stroke-width: 1.5;\" x1=\"747\" x2=\"953\" y1=\"199.9375\" y2=\"199.9375\"/></a><!--MD5=[ee3c913d1a06f366521f9ef512b67efe]\n",
       "class E13--><a href=\"psysml:4e4d3416-6ae1-42d7-bc86-2084c913e314\" target=\"_top\" title=\"psysml:4e4d3416-6ae1-42d7-bc86-2084c913e314\" xlink:actuate=\"onRequest\" xlink:href=\"psysml:4e4d3416-6ae1-42d7-bc86-2084c913e314\" xlink:show=\"new\" xlink:title=\"psysml:4e4d3416-6ae1-42d7-bc86-2084c913e314\" xlink:type=\"simple\"><rect fill=\"#FFFFFF\" height=\"45.9375\" id=\"E13\" rx=\"10\" ry=\"10\" style=\"stroke: #383838; stroke-width: 1.5;\" width=\"212\" x=\"32\" y=\"283\"/><text fill=\"#000000\" font-family=\"sans-serif\" font-size=\"12\" font-style=\"italic\" lengthAdjust=\"spacingAndGlyphs\" textLength=\"210\" x=\"33\" y=\"299.1387\">«individual snapshot occurrence»</text><text fill=\"#000000\" font-family=\"sans-serif\" font-size=\"12\" lengthAdjust=\"spacingAndGlyphs\" textLength=\"42\" x=\"115\" y=\"313.1074\">s4: Ind</text><line style=\"stroke: #383838; stroke-width: 1.5;\" x1=\"33\" x2=\"243\" y1=\"320.9375\" y2=\"320.9375\"/></a><!--MD5=[209b3feb70ccb6233bfe1053d122c12c]\n",
       "reverse link E2 to E3--><a href=\"psysml:62ea934f-12d4-42a0-b786-a1086ef654f4\" target=\"_top\" title=\"psysml:62ea934f-12d4-42a0-b786-a1086ef654f4\" xlink:actuate=\"onRequest\" xlink:href=\"psysml:62ea934f-12d4-42a0-b786-a1086ef654f4\" xlink:show=\"new\" xlink:title=\"psysml:62ea934f-12d4-42a0-b786-a1086ef654f4\" xlink:type=\"simple\"><path d=\"M376.37,232.45 C359.85,249.83 343.43,268.76 332.86,282.93 \" fill=\"none\" id=\"E2&lt;-E3\" style=\"stroke: #383838; stroke-width: 1.0;\"/><polygon fill=\"#FFFFFF\" points=\"385.52,223,378.4729,224.5294,377.1743,231.6226,384.2213,230.0932,385.52,223\" style=\"stroke: #383838; stroke-width: 1.0;\"/></a><!--MD5=[05d275557350bfb9b23a4ef7222b4c39]\n",
       "link E3 to E2--><a href=\"psysml:72edb9ed-f456-4be1-846b-a7c4b7fb6ef3\" target=\"_top\" title=\"psysml:72edb9ed-f456-4be1-846b-a7c4b7fb6ef3\" xlink:actuate=\"onRequest\" xlink:href=\"psysml:72edb9ed-f456-4be1-846b-a7c4b7fb6ef3\" xlink:show=\"new\" xlink:title=\"psysml:72edb9ed-f456-4be1-846b-a7c4b7fb6ef3\" xlink:type=\"simple\"><path d=\"M353.8,282.93 C367.38,270.34 383.11,253.98 396.95,238.29 \" fill=\"none\" id=\"E3-&gt;E2\" style=\"stroke: #383838; stroke-width: 1.0;\"/><polygon fill=\"#FFFFFF\" points=\"410.02,223,403.0007,241.9929,392.3563,232.8991,410.02,223\" style=\"stroke: #383838; stroke-width: 1.0;\"/><ellipse cx=\"397.7776\" cy=\"245.0276\" fill=\"#383838\" rx=\"2\" ry=\"2\" style=\"stroke: #383838; stroke-width: 1.0;\"/><ellipse cx=\"390.1744\" cy=\"238.532\" fill=\"#383838\" rx=\"2\" ry=\"2\" style=\"stroke: #383838; stroke-width: 1.0;\"/></a><!--MD5=[9618e71518536f8baf3342ff6fdab317]\n",
       "reverse link E2 to E4--><a href=\"psysml:1930a264-e184-4aca-ae40-6206f5d09a7f\" target=\"_top\" title=\"psysml:1930a264-e184-4aca-ae40-6206f5d09a7f\" xlink:actuate=\"onRequest\" xlink:href=\"psysml:1930a264-e184-4aca-ae40-6206f5d09a7f\" xlink:show=\"new\" xlink:title=\"psysml:1930a264-e184-4aca-ae40-6206f5d09a7f\" xlink:type=\"simple\"><path d=\"M424.31,236.34 C425.74,252.61 428.58,269.81 432.23,282.93 \" fill=\"none\" id=\"E2&lt;-E4\" style=\"stroke: #383838; stroke-width: 1.0;\"/><polygon fill=\"#383838\" points=\"423.45,223,419.8475,229.2467,424.2281,234.9747,427.8306,228.728,423.45,223\" style=\"stroke: #383838; stroke-width: 1.0;\"/></a><!--MD5=[185131fc0dcab0a4505a2ebe144e961b]\n",
       "link E4 to E2--><a href=\"psysml:32367fe5-1bb2-4952-a335-a8970d1d9f84\" target=\"_top\" title=\"psysml:32367fe5-1bb2-4952-a335-a8970d1d9f84\" xlink:actuate=\"onRequest\" xlink:href=\"psysml:32367fe5-1bb2-4952-a335-a8970d1d9f84\" xlink:show=\"new\" xlink:title=\"psysml:32367fe5-1bb2-4952-a335-a8970d1d9f84\" xlink:type=\"simple\"><path d=\"M453.17,282.93 C453.77,271.65 452.99,257.34 451.22,243.21 \" fill=\"none\" id=\"E4-&gt;E2\" style=\"stroke: #383838; stroke-width: 1.0;\"/><polygon fill=\"#FFFFFF\" points=\"447.96,223,457.8973,240.6423,444.0761,242.8725,447.96,223\" style=\"stroke: #383838; stroke-width: 1.0;\"/><ellipse cx=\"456.8309\" cy=\"246.5881\" fill=\"#383838\" rx=\"2\" ry=\"2\" style=\"stroke: #383838; stroke-width: 1.0;\"/><ellipse cx=\"446.9586\" cy=\"248.1811\" fill=\"#383838\" rx=\"2\" ry=\"2\" style=\"stroke: #383838; stroke-width: 1.0;\"/></a><!--MD5=[4e1a83fab71cdb913c109063314ae896]\n",
       "reverse link E2 to E5--><a href=\"psysml:0faf658f-4e02-48cd-849b-e0220b5d7629\" target=\"_top\" title=\"psysml:0faf658f-4e02-48cd-849b-e0220b5d7629\" xlink:actuate=\"onRequest\" xlink:href=\"psysml:0faf658f-4e02-48cd-849b-e0220b5d7629\" xlink:show=\"new\" xlink:title=\"psysml:0faf658f-4e02-48cd-849b-e0220b5d7629\" xlink:type=\"simple\"><path d=\"M499.85,227.17 C531.12,245.87 566.86,267.24 592.97,282.85 \" fill=\"none\" id=\"E2&lt;-E5\" style=\"stroke: #383838; stroke-width: 1.0;\"/><polygon fill=\"#383838\" points=\"488.56,220.42,491.6568,226.9323,498.8592,226.5784,495.7624,220.0661,488.56,220.42\" style=\"stroke: #383838; stroke-width: 1.0;\"/></a><!--MD5=[ce036f65110ae2351ccce5a81dc2e928]\n",
       "reverse link E2 to E6--><a href=\"psysml:3f965610-dfca-4051-a1f3-35306b55574a\" target=\"_top\" title=\"psysml:3f965610-dfca-4051-a1f3-35306b55574a\" xlink:actuate=\"onRequest\" xlink:href=\"psysml:3f965610-dfca-4051-a1f3-35306b55574a\" xlink:show=\"new\" xlink:title=\"psysml:3f965610-dfca-4051-a1f3-35306b55574a\" xlink:type=\"simple\"><path d=\"M500.82,216.39 C509.83,220.32 516,223 516,223 C516,223 674.13,262.53 770.8,286.7 \" fill=\"none\" id=\"E2&lt;-E6\" style=\"stroke: #383838; stroke-width: 1.0;\"/><polygon fill=\"#383838\" points=\"488.64,211.09,492.5451,217.1522,499.643,215.8791,495.7378,209.8169,488.64,211.09\" style=\"stroke: #383838; stroke-width: 1.0;\"/></a><!--MD5=[3a9b96bfbf6b6ad89c494e81751bda47]\n",
       "link E5 to E7--><a href=\"psysml:5b4e0f94-bd6c-4a04-8036-e6bb7f85be93\" target=\"_top\" title=\"psysml:5b4e0f94-bd6c-4a04-8036-e6bb7f85be93\" xlink:actuate=\"onRequest\" xlink:href=\"psysml:5b4e0f94-bd6c-4a04-8036-e6bb7f85be93\" xlink:show=\"new\" xlink:title=\"psysml:5b4e0f94-bd6c-4a04-8036-e6bb7f85be93\" xlink:type=\"simple\"><path d=\"M630,329.06 C630,340.64 630,355.23 630,368.87 \" fill=\"none\" id=\"E5-&gt;E7\" style=\"stroke: #383838; stroke-width: 1.0;\"/><polygon fill=\"#FFFFFF\" points=\"630,388.98,623,369.98,637,369.98,630,388.98\" style=\"stroke: #383838; stroke-width: 1.0;\"/><ellipse cx=\"625\" cy=\"364.28\" fill=\"#383838\" rx=\"2\" ry=\"2\" style=\"stroke: #383838; stroke-width: 1.0;\"/><ellipse cx=\"635\" cy=\"364.28\" fill=\"#383838\" rx=\"2\" ry=\"2\" style=\"stroke: #383838; stroke-width: 1.0;\"/></a><!--MD5=[dc164f5e8a733ab456ef1add180e9e34]\n",
       "reverse link E7 to E8--><a href=\"psysml:37f490ca-8c9f-44ef-b281-38d91f32f2bf\" target=\"_top\" title=\"psysml:37f490ca-8c9f-44ef-b281-38d91f32f2bf\" xlink:actuate=\"onRequest\" xlink:href=\"psysml:37f490ca-8c9f-44ef-b281-38d91f32f2bf\" xlink:show=\"new\" xlink:title=\"psysml:37f490ca-8c9f-44ef-b281-38d91f32f2bf\" xlink:type=\"simple\"><path d=\"M601.55,445.16 C587.25,461.33 570.28,480.51 557.48,494.98 \" fill=\"none\" id=\"E7&lt;-E8\" style=\"stroke: #383838; stroke-width: 1.0;\"/><polygon fill=\"#383838\" points=\"610.49,435.06,603.5177,436.9004,602.5348,444.0442,609.5071,442.2038,610.49,435.06\" style=\"stroke: #383838; stroke-width: 1.0;\"/></a><!--MD5=[e4a10ef82d0e328e31cac39a31e58dda]\n",
       "reverse link E7 to E9--><a href=\"psysml:c791e7ed-713f-4106-b9d5-0dfb97ea4543\" target=\"_top\" title=\"psysml:c791e7ed-713f-4106-b9d5-0dfb97ea4543\" xlink:actuate=\"onRequest\" xlink:href=\"psysml:c791e7ed-713f-4106-b9d5-0dfb97ea4543\" xlink:show=\"new\" xlink:title=\"psysml:c791e7ed-713f-4106-b9d5-0dfb97ea4543\" xlink:type=\"simple\"><path d=\"M658.14,445.16 C672.29,461.33 689.07,480.51 701.73,494.98 \" fill=\"none\" id=\"E7&lt;-E9\" style=\"stroke: #383838; stroke-width: 1.0;\"/><polygon fill=\"#383838\" points=\"649.3,435.06,650.2496,442.2083,657.2133,444.0811,656.2637,436.9328,649.3,435.06\" style=\"stroke: #383838; stroke-width: 1.0;\"/></a><!--MD5=[a919e0967d6f3de553dc51b9865a1d6d]\n",
       "link E10 to E7--><a href=\"psysml:d7bf13fe-2343-4091-93b6-ccc05bfccd1c\" target=\"_top\" title=\"psysml:d7bf13fe-2343-4091-93b6-ccc05bfccd1c\" xlink:actuate=\"onRequest\" xlink:href=\"psysml:d7bf13fe-2343-4091-93b6-ccc05bfccd1c\" xlink:show=\"new\" xlink:title=\"psysml:d7bf13fe-2343-4091-93b6-ccc05bfccd1c\" xlink:type=\"simple\"><path d=\"M570.16,87.41 C559.5,111.69 544,147 544,147 C544,147 544,223 544,223 C544,223 935,283 935,283 C935,283 935,329 935,329 C935,329 820.21,359.86 731.48,383.72 \" fill=\"none\" id=\"E10-&gt;E7\" style=\"stroke: #383838; stroke-width: 1.0;\"/><polygon fill=\"#FFFFFF\" points=\"712.14,388.92,728.6669,377.2212,732.3065,390.7398,712.14,388.92\" style=\"stroke: #383838; stroke-width: 1.0;\"/><ellipse cx=\"734.6908\" cy=\"377.6706\" fill=\"#383838\" rx=\"2\" ry=\"2\" style=\"stroke: #383838; stroke-width: 1.0;\"/><ellipse cx=\"737.2906\" cy=\"387.3267\" fill=\"#383838\" rx=\"2\" ry=\"2\" style=\"stroke: #383838; stroke-width: 1.0;\"/></a><!--MD5=[0f36bececdf0dff6e600d6f64214b0f1]\n",
       "link E10 to E2--><a href=\"psysml:65e23dda-2765-4b86-8b8c-165f4272381c\" target=\"_top\" title=\"psysml:65e23dda-2765-4b86-8b8c-165f4272381c\" xlink:actuate=\"onRequest\" xlink:href=\"psysml:65e23dda-2765-4b86-8b8c-165f4272381c\" xlink:show=\"new\" xlink:title=\"psysml:65e23dda-2765-4b86-8b8c-165f4272381c\" xlink:type=\"simple\"><path d=\"M552.32,87.1 C535.71,100.38 513.86,117.82 493.29,134.25 \" fill=\"none\" id=\"E10-&gt;E2\" style=\"stroke: #383838; stroke-width: 1.0;\"/><polygon fill=\"#FFFFFF\" points=\"477.56,146.81,488.0352,129.4817,496.7737,140.4197,477.56,146.81\" style=\"stroke: #383838; stroke-width: 1.0;\"/><ellipse cx=\"493.7369\" cy=\"127.4865\" fill=\"#383838\" rx=\"2\" ry=\"2\" style=\"stroke: #383838; stroke-width: 1.0;\"/><ellipse cx=\"499.9786\" cy=\"135.2994\" fill=\"#383838\" rx=\"2\" ry=\"2\" style=\"stroke: #383838; stroke-width: 1.0;\"/></a><!--MD5=[de308be4a2431766a05a907a031c07fc]\n",
       "reverse link E10 to E11--><a href=\"psysml:996a22eb-9701-44d5-9cb6-35ae83d4d1b1\" target=\"_top\" title=\"psysml:996a22eb-9701-44d5-9cb6-35ae83d4d1b1\" xlink:actuate=\"onRequest\" xlink:href=\"psysml:996a22eb-9701-44d5-9cb6-35ae83d4d1b1\" xlink:show=\"new\" xlink:title=\"psysml:996a22eb-9701-44d5-9cb6-35ae83d4d1b1\" xlink:type=\"simple\"><path d=\"M595.95,98.9 C605.42,119.01 617.15,143.94 625.46,161.61 \" fill=\"none\" id=\"E10&lt;-E11\" style=\"stroke: #383838; stroke-width: 1.0;\"/><polygon fill=\"#383838\" points=\"590.4,87.1,589.3334,94.2318,595.5064,97.9593,596.573,90.8275,590.4,87.1\" style=\"stroke: #383838; stroke-width: 1.0;\"/></a><!--MD5=[1d54f998c6d5961a1a9184be73a7eb6c]\n",
       "reverse link E10 to E12--><a href=\"psysml:da3311a8-2759-47ea-b229-fd34ee887055\" target=\"_top\" title=\"psysml:da3311a8-2759-47ea-b229-fd34ee887055\" xlink:actuate=\"onRequest\" xlink:href=\"psysml:da3311a8-2759-47ea-b229-fd34ee887055\" xlink:show=\"new\" xlink:title=\"psysml:da3311a8-2759-47ea-b229-fd34ee887055\" xlink:type=\"simple\"><path d=\"M642.21,92.42 C689.99,113.48 755.13,142.19 799.66,161.81 \" fill=\"none\" id=\"E10&lt;-E12\" style=\"stroke: #383838; stroke-width: 1.0;\"/><polygon fill=\"#383838\" points=\"630.15,87.1,634.028,93.1796,641.1314,91.9382,637.2534,85.8586,630.15,87.1\" style=\"stroke: #383838; stroke-width: 1.0;\"/></a><!--MD5=[4a48077df6499cfcd20b62e8f5f37904]\n",
       "link E13 to E7--><a href=\"psysml:fb78d99f-0705-4d43-aabd-2eaf1ce47389\" target=\"_top\" title=\"psysml:fb78d99f-0705-4d43-aabd-2eaf1ce47389\" xlink:actuate=\"onRequest\" xlink:href=\"psysml:fb78d99f-0705-4d43-aabd-2eaf1ce47389\" xlink:show=\"new\" xlink:title=\"psysml:fb78d99f-0705-4d43-aabd-2eaf1ce47389\" xlink:type=\"simple\"><path d=\"M242.34,329.06 C324.51,346.43 438.67,370.56 521.82,388.13 \" fill=\"none\" id=\"E13-&gt;E7\" style=\"stroke: #383838; stroke-width: 1.0;\"/><polygon fill=\"#FFFFFF\" points=\"541.45,392.28,521.4143,395.2075,524.304,381.509,541.45,392.28\" style=\"stroke: #383838; stroke-width: 1.0;\"/><ellipse cx=\"516.2498\" cy=\"392.0741\" fill=\"#383838\" rx=\"2\" ry=\"2\" style=\"stroke: #383838; stroke-width: 1.0;\"/><ellipse cx=\"518.3139\" cy=\"382.2894\" fill=\"#383838\" rx=\"2\" ry=\"2\" style=\"stroke: #383838; stroke-width: 1.0;\"/></a><!--MD5=[7f89bee87c5a32cb13ae311d4efbcee3]\n",
       "@startuml\r\n",
       "skinparam linetype polyline\r\n",
       "skinparam monochrome true\r\n",
       "skinparam classbackgroundcolor white\r\n",
       "skinparam shadowing false\r\n",
       "skinparam wrapWidth 300\r\n",
       "hide circle\r\n",
       "\r\n",
       "package \"OccurrenceTest\" as E1  [[psysml:76f03fcf-c31b-4704-ae9e-b44a23fd6ebe ]]  {\r\n",
       "comp def \"Occ\" as E2  <<(T,blue) occurrence  def>> [[psysml:eaa0b96d-7da2-44a7-b980-6b6f36747918 ]] {\r\n",
       "- - attributes - -\r\n",
       "a\r\n",
       "}\r\n",
       "comp usage \"occ1: Occ \" as E3  <<(T,blue) occurrence>> [[psysml:87fca259-1c14-4b5b-983e-37895f6ff77b ]] {\r\n",
       "}\r\n",
       "comp usage \"occ2: Occ \" as E4  <<(T,blue) occurrence>> [[psysml:ffd2f288-180d-4271-8880-cf9706207ba2 ]] {\r\n",
       "}\r\n",
       "comp usage \"s: Ind \" as E5  <<(T,blue) individual snapshot occurrence>> [[psysml:4e1769cc-a186-417e-91f0-587d1f1196e7 ]] {\r\n",
       "}\r\n",
       "comp usage \"t \" as E6  <<(T,blue) timeslice occurrence>> [[psysml:9c61ac47-8b4e-45e2-802a-f3aa096140c4 ]] {\r\n",
       "}\r\n",
       "comp def \"Ind\" as E7  <<(T,blue) individual occurrence  def>> [[psysml:54e4af67-f268-48a3-80b8-bc1579f32c01 ]] {\r\n",
       "}\r\n",
       "comp usage \"s2 \" as E8  <<(T,blue) snapshot occurrence>> [[psysml:bfc31472-e77d-4111-949c-57e124b09868 ]] {\r\n",
       "}\r\n",
       "comp usage \"t2 \" as E9  <<(T,blue) timeslice occurrence>> [[psysml:25521b86-d75d-41e6-9d0e-592064bc2653 ]] {\r\n",
       "}\r\n",
       "comp usage \"ind: Ind, Occ \" as E10  <<(T,blue) individual occurrence>> [[psysml:ec83ca81-a881-4da3-97a0-46e2b6aae84c ]] {\r\n",
       "}\r\n",
       "comp usage \"s3 \" as E11  <<(T,blue) snapshot occurrence>> [[psysml:fe74329f-5d2b-4ebe-b106-a7ecca7a6fbd ]] {\r\n",
       "}\r\n",
       "comp usage \"t3 \" as E12  <<(T,blue) individual timeslice occurrence>> [[psysml:6925098a-d5ed-431f-aaf1-d453853f914b ]] {\r\n",
       "}\r\n",
       "comp usage \"s4: Ind \" as E13  <<(T,blue) individual snapshot occurrence>> [[psysml:4e4d3416-6ae1-42d7-bc86-2084c913e314 ]] {\r\n",
       "}\r\n",
       "}\r\n",
       "E2 o- - E3 [[psysml:62ea934f-12d4-42a0-b786-a1086ef654f4 ]] \r\n",
       "E3 - -:|> E2 [[psysml:72edb9ed-f456-4be1-846b-a7c4b7fb6ef3 ]] \r\n",
       "E2 *- - E4 [[psysml:1930a264-e184-4aca-ae40-6206f5d09a7f ]] \r\n",
       "E4 - -:|> E2 [[psysml:32367fe5-1bb2-4952-a335-a8970d1d9f84 ]] \r\n",
       "E2 *- - E5 [[psysml:0faf658f-4e02-48cd-849b-e0220b5d7629 ]] \r\n",
       "E2 *- - E6 [[psysml:3f965610-dfca-4051-a1f3-35306b55574a ]] \r\n",
       "E5 - -:|> E7 [[psysml:5b4e0f94-bd6c-4a04-8036-e6bb7f85be93 ]] \r\n",
       "E7 *- - E8 [[psysml:37f490ca-8c9f-44ef-b281-38d91f32f2bf ]] \r\n",
       "E7 *- - E9 [[psysml:c791e7ed-713f-4106-b9d5-0dfb97ea4543 ]] \r\n",
       "E10 - -:|> E7 [[psysml:d7bf13fe-2343-4091-93b6-ccc05bfccd1c ]] \r\n",
       "E10 - -:|> E2 [[psysml:65e23dda-2765-4b86-8b8c-165f4272381c ]] \r\n",
       "E10 *- - E11 [[psysml:996a22eb-9701-44d5-9cb6-35ae83d4d1b1 ]] \r\n",
       "E10 *- - E12 [[psysml:da3311a8-2759-47ea-b229-fd34ee887055 ]] \r\n",
       "E13 - -:|> E7 [[psysml:fb78d99f-0705-4d43-aabd-2eaf1ce47389 ]] \r\n",
       "@enduml\r\n",
       "\n",
       "PlantUML version 1.2020.13(Sat Jun 13 12:26:38 UTC 2020)\n",
       "(EPL source distribution)\n",
       "Java Runtime: OpenJDK Runtime Environment\n",
       "JVM: OpenJDK 64-Bit Server VM\n",
       "Default Encoding: UTF-8\n",
       "Language: en\n",
       "Country: null\n",
       "--></g></svg>"
      ]
     },
     "execution_count": 10,
     "metadata": {},
     "output_type": "execute_result"
    }
   ],
   "source": [
    "%viz --style=\"POLYLINE\" --view=\"Tree\" \"OccurrenceTest\""
   ]
  },
  {
   "cell_type": "code",
   "execution_count": 11,
   "id": "07da49f4",
   "metadata": {
    "execution": {
     "iopub.execute_input": "2022-02-18T10:48:36.686047Z",
     "iopub.status.busy": "2022-02-18T10:48:36.685574Z",
     "iopub.status.idle": "2022-02-18T10:48:36.692746Z",
     "shell.execute_reply": "2022-02-18T10:48:36.693096Z"
    }
   },
   "outputs": [
    {
     "data": {
      "image/svg+xml": [
       "<?xml version=\"1.0\" encoding=\"UTF-8\" standalone=\"no\"?><svg xmlns=\"http://www.w3.org/2000/svg\" xmlns:xlink=\"http://www.w3.org/1999/xlink\" contentScriptType=\"application/ecmascript\" contentStyleType=\"text/css\" height=\"12px\" preserveAspectRatio=\"none\" style=\"width:12px;height:12px;\" version=\"1.1\" viewBox=\"0 0 12 12\" width=\"12px\" zoomAndPan=\"magnify\"><defs/><g><!--MD5=[896ac0e7a515d8dd7765a661cb4ee08b]\n",
       "@startuml\r\n",
       "skinparam linetype polyline\r\n",
       "skinparam monochrome true\r\n",
       "skinparam classbackgroundcolor white\r\n",
       "skinparam shadowing false\r\n",
       "skinparam wrapWidth 300\r\n",
       "hide circle\r\n",
       "\r\n",
       "@enduml\r\n",
       "\n",
       "PlantUML version 1.2020.13(Sat Jun 13 12:26:38 UTC 2020)\n",
       "(EPL source distribution)\n",
       "Java Runtime: OpenJDK Runtime Environment\n",
       "JVM: OpenJDK 64-Bit Server VM\n",
       "Default Encoding: UTF-8\n",
       "Language: en\n",
       "Country: null\n",
       "--></g></svg>"
      ]
     },
     "execution_count": 11,
     "metadata": {},
     "output_type": "execute_result"
    }
   ],
   "source": [
    "%viz --style=\"POLYLINE\" --view=\"State\" \"OccurrenceTest\""
   ]
  },
  {
   "cell_type": "code",
   "execution_count": 12,
   "id": "278f2a5b",
   "metadata": {
    "execution": {
     "iopub.execute_input": "2022-02-18T10:48:36.743274Z",
     "iopub.status.busy": "2022-02-18T10:48:36.742747Z",
     "iopub.status.idle": "2022-02-18T10:48:36.790390Z",
     "shell.execute_reply": "2022-02-18T10:48:36.790006Z"
    }
   },
   "outputs": [
    {
     "data": {
      "image/svg+xml": [
       "<?xml version=\"1.0\" encoding=\"UTF-8\" standalone=\"no\"?><svg xmlns=\"http://www.w3.org/2000/svg\" xmlns:xlink=\"http://www.w3.org/1999/xlink\" contentScriptType=\"application/ecmascript\" contentStyleType=\"text/css\" height=\"195px\" preserveAspectRatio=\"none\" style=\"width:1123px;height:195px;\" version=\"1.1\" viewBox=\"0 0 1123 195\" width=\"1123px\" zoomAndPan=\"magnify\"><defs/><g><!--MD5=[fbc87193dbaf4d95561dea2c320d4a47]\n",
       "cluster E1--><a href=\"psysml:76f03fcf-c31b-4704-ae9e-b44a23fd6ebe\" target=\"_top\" title=\"psysml:76f03fcf-c31b-4704-ae9e-b44a23fd6ebe\" xlink:actuate=\"onRequest\" xlink:href=\"psysml:76f03fcf-c31b-4704-ae9e-b44a23fd6ebe\" xlink:show=\"new\" xlink:title=\"psysml:76f03fcf-c31b-4704-ae9e-b44a23fd6ebe\" xlink:type=\"simple\"><polygon fill=\"#FFFFFF\" points=\"16,6,134,6,141,28.2969,1101,28.2969,1101,183,16,183,16,6\" style=\"stroke: #000000; stroke-width: 1.5;\"/><line style=\"stroke: #000000; stroke-width: 1.5;\" x1=\"16\" x2=\"141\" y1=\"28.2969\" y2=\"28.2969\"/><text fill=\"#000000\" font-family=\"sans-serif\" font-size=\"14\" font-weight=\"bold\" lengthAdjust=\"spacingAndGlyphs\" textLength=\"112\" x=\"20\" y=\"20.9951\">OccurrenceTest</text></a><!--MD5=[f6df4d0ebaf0b5dfb2ced0ae5af7c670]\n",
       "cluster E4--><a href=\"psysml:ec83ca81-a881-4da3-97a0-46e2b6aae84c\" target=\"_top\" title=\"psysml:ec83ca81-a881-4da3-97a0-46e2b6aae84c\" xlink:actuate=\"onRequest\" xlink:href=\"psysml:ec83ca81-a881-4da3-97a0-46e2b6aae84c\" xlink:show=\"new\" xlink:title=\"psysml:ec83ca81-a881-4da3-97a0-46e2b6aae84c\" xlink:type=\"simple\"><rect fill=\"#FFFFFF\" height=\"110\" id=\"E4\" rx=\"10\" ry=\"10\" style=\"stroke: #383838; stroke-width: 1.5;\" width=\"435\" x=\"642\" y=\"49\"/><rect fill=\"#F8F8F8\" height=\"37.9375\" rx=\"10\" ry=\"10\" style=\"stroke: #F8F8F8; stroke-width: 1.5;\" width=\"435\" x=\"642\" y=\"49\"/><rect fill=\"#F8F8F8\" height=\"10\" style=\"stroke: #F8F8F8; stroke-width: 1.5;\" width=\"435\" x=\"642\" y=\"76.9375\"/><rect fill=\"none\" height=\"110\" id=\"E4\" rx=\"10\" ry=\"10\" style=\"stroke: #383838; stroke-width: 1.5;\" width=\"435\" x=\"642\" y=\"49\"/><text fill=\"#000000\" font-family=\"sans-serif\" font-size=\"12\" font-style=\"italic\" lengthAdjust=\"spacingAndGlyphs\" textLength=\"147\" x=\"786\" y=\"65.1387\">«individual occurrence»</text><text fill=\"#000000\" font-family=\"sans-serif\" font-size=\"12\" lengthAdjust=\"spacingAndGlyphs\" textLength=\"77\" x=\"821\" y=\"79.1074\">ind: Ind, Occ</text><line style=\"stroke: #383838; stroke-width: 1.0;\" x1=\"642\" x2=\"1077\" y1=\"86.9375\" y2=\"86.9375\"/></a><g id=\"E1.E2\"><a href=\"psysml:eaa0b96d-7da2-44a7-b980-6b6f36747918\" target=\"_top\" title=\"psysml:eaa0b96d-7da2-44a7-b980-6b6f36747918\" xlink:actuate=\"onRequest\" xlink:href=\"psysml:eaa0b96d-7da2-44a7-b980-6b6f36747918\" xlink:show=\"new\" xlink:title=\"psysml:eaa0b96d-7da2-44a7-b980-6b6f36747918\" xlink:type=\"simple\"><rect fill=\"#FFFFFF\" height=\"42.9375\" id=\"E2\" style=\"stroke: #383838; stroke-width: 1.5;\" width=\"120\" x=\"502\" y=\"100\"/><rect fill=\"#F8F8F8\" height=\"37.9375\" style=\"stroke: #383838; stroke-width: 1.5;\" width=\"120\" x=\"502\" y=\"100\"/><text fill=\"#000000\" font-family=\"sans-serif\" font-size=\"12\" font-style=\"italic\" lengthAdjust=\"spacingAndGlyphs\" textLength=\"113\" x=\"505.5\" y=\"116.1387\">«occurrence  def»</text><text fill=\"#000000\" font-family=\"sans-serif\" font-size=\"12\" lengthAdjust=\"spacingAndGlyphs\" textLength=\"23\" x=\"550.5\" y=\"130.1074\">Occ</text></a></g><g id=\"E1.E3\"><a href=\"psysml:54e4af67-f268-48a3-80b8-bc1579f32c01\" target=\"_top\" title=\"psysml:54e4af67-f268-48a3-80b8-bc1579f32c01\" xlink:actuate=\"onRequest\" xlink:href=\"psysml:54e4af67-f268-48a3-80b8-bc1579f32c01\" xlink:show=\"new\" xlink:title=\"psysml:54e4af67-f268-48a3-80b8-bc1579f32c01\" xlink:type=\"simple\"><rect fill=\"#FFFFFF\" height=\"42.9375\" id=\"E3\" style=\"stroke: #383838; stroke-width: 1.5;\" width=\"182\" x=\"285\" y=\"100\"/><rect fill=\"#F8F8F8\" height=\"37.9375\" style=\"stroke: #383838; stroke-width: 1.5;\" width=\"182\" x=\"285\" y=\"100\"/><text fill=\"#000000\" font-family=\"sans-serif\" font-size=\"12\" font-style=\"italic\" lengthAdjust=\"spacingAndGlyphs\" textLength=\"175\" x=\"288.5\" y=\"116.1387\">«individual occurrence  def»</text><text fill=\"#000000\" font-family=\"sans-serif\" font-size=\"12\" lengthAdjust=\"spacingAndGlyphs\" textLength=\"19\" x=\"366.5\" y=\"130.1074\">Ind</text></a></g><g id=\"E1.E4.E5\"><a href=\"psysml:fe74329f-5d2b-4ebe-b106-a7ecca7a6fbd\" target=\"_top\" title=\"psysml:fe74329f-5d2b-4ebe-b106-a7ecca7a6fbd\" xlink:actuate=\"onRequest\" xlink:href=\"psysml:fe74329f-5d2b-4ebe-b106-a7ecca7a6fbd\" xlink:show=\"new\" xlink:title=\"psysml:fe74329f-5d2b-4ebe-b106-a7ecca7a6fbd\" xlink:type=\"simple\"><rect fill=\"#FFFFFF\" height=\"42.9375\" id=\"E5\" rx=\"10\" ry=\"10\" style=\"stroke: #383838; stroke-width: 1.5;\" width=\"155\" x=\"905.5\" y=\"100\"/><rect fill=\"#F8F8F8\" height=\"37.9375\" rx=\"10\" ry=\"10\" style=\"stroke: #F8F8F8; stroke-width: 1.5;\" width=\"155\" x=\"905.5\" y=\"100\"/><rect fill=\"#F8F8F8\" height=\"10\" style=\"stroke: #F8F8F8; stroke-width: 1.5;\" width=\"155\" x=\"905.5\" y=\"127.9375\"/><rect fill=\"none\" height=\"42.9375\" id=\"E5\" rx=\"10\" ry=\"10\" style=\"stroke: #383838; stroke-width: 1.5;\" width=\"155\" x=\"905.5\" y=\"100\"/><text fill=\"#000000\" font-family=\"sans-serif\" font-size=\"12\" font-style=\"italic\" lengthAdjust=\"spacingAndGlyphs\" textLength=\"148\" x=\"909\" y=\"116.1387\">«snapshot occurrence»</text><text fill=\"#000000\" font-family=\"sans-serif\" font-size=\"12\" lengthAdjust=\"spacingAndGlyphs\" textLength=\"15\" x=\"975.5\" y=\"130.1074\">s3</text></a></g><g id=\"E1.E4.E6\"><a href=\"psysml:6925098a-d5ed-431f-aaf1-d453853f914b\" target=\"_top\" title=\"psysml:6925098a-d5ed-431f-aaf1-d453853f914b\" xlink:actuate=\"onRequest\" xlink:href=\"psysml:6925098a-d5ed-431f-aaf1-d453853f914b\" xlink:show=\"new\" xlink:title=\"psysml:6925098a-d5ed-431f-aaf1-d453853f914b\" xlink:type=\"simple\"><rect fill=\"#FFFFFF\" height=\"42.9375\" id=\"E6\" rx=\"10\" ry=\"10\" style=\"stroke: #383838; stroke-width: 1.5;\" width=\"213\" x=\"657.5\" y=\"100\"/><rect fill=\"#F8F8F8\" height=\"37.9375\" rx=\"10\" ry=\"10\" style=\"stroke: #F8F8F8; stroke-width: 1.5;\" width=\"213\" x=\"657.5\" y=\"100\"/><rect fill=\"#F8F8F8\" height=\"10\" style=\"stroke: #F8F8F8; stroke-width: 1.5;\" width=\"213\" x=\"657.5\" y=\"127.9375\"/><rect fill=\"none\" height=\"42.9375\" id=\"E6\" rx=\"10\" ry=\"10\" style=\"stroke: #383838; stroke-width: 1.5;\" width=\"213\" x=\"657.5\" y=\"100\"/><text fill=\"#000000\" font-family=\"sans-serif\" font-size=\"12\" font-style=\"italic\" lengthAdjust=\"spacingAndGlyphs\" textLength=\"206\" x=\"661\" y=\"116.1387\">«individual timeslice occurrence»</text><text fill=\"#000000\" font-family=\"sans-serif\" font-size=\"12\" lengthAdjust=\"spacingAndGlyphs\" textLength=\"13\" x=\"757.5\" y=\"130.1074\">t3</text></a></g><g id=\"E1.E7\"><a href=\"psysml:4e4d3416-6ae1-42d7-bc86-2084c913e314\" target=\"_top\" title=\"psysml:4e4d3416-6ae1-42d7-bc86-2084c913e314\" xlink:actuate=\"onRequest\" xlink:href=\"psysml:4e4d3416-6ae1-42d7-bc86-2084c913e314\" xlink:show=\"new\" xlink:title=\"psysml:4e4d3416-6ae1-42d7-bc86-2084c913e314\" xlink:type=\"simple\"><rect fill=\"#FFFFFF\" height=\"42.9375\" id=\"E7\" rx=\"10\" ry=\"10\" style=\"stroke: #383838; stroke-width: 1.5;\" width=\"217\" x=\"32.5\" y=\"100\"/><rect fill=\"#F8F8F8\" height=\"37.9375\" rx=\"10\" ry=\"10\" style=\"stroke: #F8F8F8; stroke-width: 1.5;\" width=\"217\" x=\"32.5\" y=\"100\"/><rect fill=\"#F8F8F8\" height=\"10\" style=\"stroke: #F8F8F8; stroke-width: 1.5;\" width=\"217\" x=\"32.5\" y=\"127.9375\"/><rect fill=\"none\" height=\"42.9375\" id=\"E7\" rx=\"10\" ry=\"10\" style=\"stroke: #383838; stroke-width: 1.5;\" width=\"217\" x=\"32.5\" y=\"100\"/><text fill=\"#000000\" font-family=\"sans-serif\" font-size=\"12\" font-style=\"italic\" lengthAdjust=\"spacingAndGlyphs\" textLength=\"210\" x=\"36\" y=\"116.1387\">«individual snapshot occurrence»</text><text fill=\"#000000\" font-family=\"sans-serif\" font-size=\"12\" lengthAdjust=\"spacingAndGlyphs\" textLength=\"42\" x=\"120\" y=\"130.1074\">s4: Ind</text></a></g><!--MD5=[b7cfeddd4109520a5b96472c0c51eb04]\n",
       "@startuml\r\n",
       "skinparam ranksep 10\r\n",
       "skinparam rectangle {\r\n",
       " backgroundColor<<block>> LightGreen\r\n",
       "}\r\n",
       "skinparam linetype polyline\r\n",
       "skinparam monochrome true\r\n",
       "skinparam classbackgroundcolor white\r\n",
       "skinparam shadowing false\r\n",
       "skinparam wrapWidth 300\r\n",
       "hide circle\r\n",
       "\r\n",
       "package \"OccurrenceTest\" as E1  [[psysml:76f03fcf-c31b-4704-ae9e-b44a23fd6ebe ]]  {\r\n",
       "def \"Occ\" as E2  <<(T,blue) occurrence  def>> [[psysml:eaa0b96d-7da2-44a7-b980-6b6f36747918 ]] \r\n",
       "def \"Ind\" as E3  <<(T,blue) individual occurrence  def>> [[psysml:54e4af67-f268-48a3-80b8-bc1579f32c01 ]] \r\n",
       "rec usage \"ind: Ind, Occ\" as E4  <<(T,blue) individual occurrence>> [[psysml:ec83ca81-a881-4da3-97a0-46e2b6aae84c ]] {\r\n",
       "rec usage \"s3\" as E5  <<(T,blue) snapshot occurrence>> [[psysml:fe74329f-5d2b-4ebe-b106-a7ecca7a6fbd ]] {\r\n",
       "}\r\n",
       "rec usage \"t3\" as E6  <<(T,blue) individual timeslice occurrence>> [[psysml:6925098a-d5ed-431f-aaf1-d453853f914b ]] {\r\n",
       "}\r\n",
       "}\r\n",
       "rec usage \"s4: Ind\" as E7  <<(T,blue) individual snapshot occurrence>> [[psysml:4e4d3416-6ae1-42d7-bc86-2084c913e314 ]] {\r\n",
       "}\r\n",
       "}\r\n",
       "@enduml\r\n",
       "\n",
       "PlantUML version 1.2020.13(Sat Jun 13 12:26:38 UTC 2020)\n",
       "(EPL source distribution)\n",
       "Java Runtime: OpenJDK Runtime Environment\n",
       "JVM: OpenJDK 64-Bit Server VM\n",
       "Default Encoding: UTF-8\n",
       "Language: en\n",
       "Country: null\n",
       "--></g></svg>"
      ]
     },
     "execution_count": 12,
     "metadata": {},
     "output_type": "execute_result"
    }
   ],
   "source": [
    "%viz --style=\"POLYLINE\" --view=\"Interconnection\" \"OccurrenceTest\""
   ]
  },
  {
   "cell_type": "code",
   "execution_count": 13,
   "id": "b3094e1f",
   "metadata": {
    "execution": {
     "iopub.execute_input": "2022-02-18T10:48:36.839488Z",
     "iopub.status.busy": "2022-02-18T10:48:36.839081Z",
     "iopub.status.idle": "2022-02-18T10:48:36.845124Z",
     "shell.execute_reply": "2022-02-18T10:48:36.845453Z"
    }
   },
   "outputs": [
    {
     "data": {
      "image/svg+xml": [
       "<?xml version=\"1.0\" encoding=\"UTF-8\" standalone=\"no\"?><svg xmlns=\"http://www.w3.org/2000/svg\" xmlns:xlink=\"http://www.w3.org/1999/xlink\" contentScriptType=\"application/ecmascript\" contentStyleType=\"text/css\" height=\"12px\" preserveAspectRatio=\"none\" style=\"width:12px;height:12px;\" version=\"1.1\" viewBox=\"0 0 12 12\" width=\"12px\" zoomAndPan=\"magnify\"><defs/><g><!--MD5=[97bbf32f66ccd50cbc40d92ea8f5a65e]\n",
       "@startuml\r\n",
       "skinparam ranksep 8\r\n",
       "skinparam linetype polyline\r\n",
       "skinparam monochrome true\r\n",
       "skinparam classbackgroundcolor white\r\n",
       "skinparam shadowing false\r\n",
       "skinparam wrapWidth 300\r\n",
       "hide circle\r\n",
       "\r\n",
       "@enduml\r\n",
       "\n",
       "PlantUML version 1.2020.13(Sat Jun 13 12:26:38 UTC 2020)\n",
       "(EPL source distribution)\n",
       "Java Runtime: OpenJDK Runtime Environment\n",
       "JVM: OpenJDK 64-Bit Server VM\n",
       "Default Encoding: UTF-8\n",
       "Language: en\n",
       "Country: null\n",
       "--></g></svg>"
      ]
     },
     "execution_count": 13,
     "metadata": {},
     "output_type": "execute_result"
    }
   ],
   "source": [
    "%viz --style=\"POLYLINE\" --view=\"Action\" \"OccurrenceTest\""
   ]
  },
  {
   "cell_type": "code",
   "execution_count": 14,
   "id": "8c74685e",
   "metadata": {
    "execution": {
     "iopub.execute_input": "2022-02-18T10:48:36.895532Z",
     "iopub.status.busy": "2022-02-18T10:48:36.895008Z",
     "iopub.status.idle": "2022-02-18T10:48:36.900639Z",
     "shell.execute_reply": "2022-02-18T10:48:36.900955Z"
    }
   },
   "outputs": [
    {
     "data": {
      "image/svg+xml": [
       "<?xml version=\"1.0\" encoding=\"UTF-8\" standalone=\"no\"?><svg xmlns=\"http://www.w3.org/2000/svg\" xmlns:xlink=\"http://www.w3.org/1999/xlink\" contentScriptType=\"application/ecmascript\" contentStyleType=\"text/css\" height=\"12px\" preserveAspectRatio=\"none\" style=\"width:12px;height:12px;\" version=\"1.1\" viewBox=\"0 0 12 12\" width=\"12px\" zoomAndPan=\"magnify\"><defs/><g><!--MD5=[dc938048236c351797870c36b62f92ad]\n",
       "@startuml\r\n",
       "skinparam roundcorner 20\r\n",
       "skinparam BoxPadding 20\r\n",
       "skinparam SequenceBoxBackgroundColor #white\r\n",
       "skinparam style strictuml\r\n",
       "skinparam maxMessageSize 100\r\n",
       "skinparam linetype polyline\r\n",
       "skinparam monochrome true\r\n",
       "skinparam classbackgroundcolor white\r\n",
       "skinparam shadowing false\r\n",
       "skinparam wrapWidth 300\r\n",
       "hide circle\r\n",
       "\r\n",
       "@enduml\r\n",
       "\n",
       "PlantUML version 1.2020.13(Sat Jun 13 12:26:38 UTC 2020)\n",
       "(EPL source distribution)\n",
       "Java Runtime: OpenJDK Runtime Environment\n",
       "JVM: OpenJDK 64-Bit Server VM\n",
       "Default Encoding: UTF-8\n",
       "Language: en\n",
       "Country: null\n",
       "--></g></svg>"
      ]
     },
     "execution_count": 14,
     "metadata": {},
     "output_type": "execute_result"
    }
   ],
   "source": [
    "%viz --style=\"POLYLINE\" --view=\"Sequence\" \"OccurrenceTest\""
   ]
  },
  {
   "cell_type": "code",
   "execution_count": 15,
   "id": "6030c179",
   "metadata": {
    "execution": {
     "iopub.execute_input": "2022-02-18T10:48:36.951198Z",
     "iopub.status.busy": "2022-02-18T10:48:36.950711Z",
     "iopub.status.idle": "2022-02-18T10:48:37.022171Z",
     "shell.execute_reply": "2022-02-18T10:48:37.021636Z"
    }
   },
   "outputs": [
    {
     "data": {
      "image/svg+xml": [
       "<?xml version=\"1.0\" encoding=\"UTF-8\" standalone=\"no\"?><svg xmlns=\"http://www.w3.org/2000/svg\" xmlns:xlink=\"http://www.w3.org/1999/xlink\" contentScriptType=\"application/ecmascript\" contentStyleType=\"text/css\" height=\"569px\" preserveAspectRatio=\"none\" style=\"width:992px;height:569px;\" version=\"1.1\" viewBox=\"0 0 992 569\" width=\"992px\" zoomAndPan=\"magnify\"><defs/><g><!--MD5=[fbc87193dbaf4d95561dea2c320d4a47]\n",
       "cluster E1--><a href=\"psysml:76f03fcf-c31b-4704-ae9e-b44a23fd6ebe\" target=\"_top\" title=\"psysml:76f03fcf-c31b-4704-ae9e-b44a23fd6ebe\" xlink:actuate=\"onRequest\" xlink:href=\"psysml:76f03fcf-c31b-4704-ae9e-b44a23fd6ebe\" xlink:show=\"new\" xlink:title=\"psysml:76f03fcf-c31b-4704-ae9e-b44a23fd6ebe\" xlink:type=\"simple\"><polygon fill=\"#FFFFFF\" points=\"16,6,134,6,141,28.2969,970,28.2969,970,557,16,557,16,6\" style=\"stroke: #000000; stroke-width: 1.5;\"/><line style=\"stroke: #000000; stroke-width: 1.5;\" x1=\"16\" x2=\"141\" y1=\"28.2969\" y2=\"28.2969\"/><text fill=\"#000000\" font-family=\"sans-serif\" font-size=\"14\" font-weight=\"bold\" lengthAdjust=\"spacingAndGlyphs\" textLength=\"112\" x=\"20\" y=\"20.9951\">OccurrenceTest</text></a><!--MD5=[b4997ac47864f28c2f74865a473b2911]\n",
       "class E2--><a href=\"psysml:eaa0b96d-7da2-44a7-b980-6b6f36747918\" target=\"_top\" title=\"psysml:eaa0b96d-7da2-44a7-b980-6b6f36747918\" xlink:actuate=\"onRequest\" xlink:href=\"psysml:eaa0b96d-7da2-44a7-b980-6b6f36747918\" xlink:show=\"new\" xlink:title=\"psysml:eaa0b96d-7da2-44a7-b980-6b6f36747918\" xlink:type=\"simple\"><rect fill=\"#FFFFFF\" height=\"75.5469\" id=\"E2\" style=\"stroke: #383838; stroke-width: 1.5;\" width=\"115\" x=\"373.5\" y=\"147\"/><text fill=\"#000000\" font-family=\"sans-serif\" font-size=\"12\" font-style=\"italic\" lengthAdjust=\"spacingAndGlyphs\" textLength=\"113\" x=\"374.5\" y=\"163.1387\">«occurrence  def»</text><text fill=\"#000000\" font-family=\"sans-serif\" font-size=\"12\" lengthAdjust=\"spacingAndGlyphs\" textLength=\"23\" x=\"419.5\" y=\"177.1074\">Occ</text><line style=\"stroke: #383838; stroke-width: 1.5;\" x1=\"374.5\" x2=\"487.5\" y1=\"184.9375\" y2=\"184.9375\"/><text fill=\"#000000\" font-family=\"sans-serif\" font-size=\"11\" lengthAdjust=\"spacingAndGlyphs\" textLength=\"7\" x=\"379.5\" y=\"215.9526\">a</text><line style=\"stroke: #383838; stroke-width: 1.0;\" x1=\"374.5\" x2=\"403.5\" y1=\"199.3398\" y2=\"199.3398\"/><text fill=\"#000000\" font-family=\"sans-serif\" font-size=\"11\" lengthAdjust=\"spacingAndGlyphs\" textLength=\"55\" x=\"403.5\" y=\"202.6479\">attributes</text><line style=\"stroke: #383838; stroke-width: 1.0;\" x1=\"458.5\" x2=\"487.5\" y1=\"199.3398\" y2=\"199.3398\"/></a><!--MD5=[09b614a08d8cba4a07c9adeb5e0fee81]\n",
       "class E3--><a href=\"psysml:87fca259-1c14-4b5b-983e-37895f6ff77b\" target=\"_top\" title=\"psysml:87fca259-1c14-4b5b-983e-37895f6ff77b\" xlink:actuate=\"onRequest\" xlink:href=\"psysml:87fca259-1c14-4b5b-983e-37895f6ff77b\" xlink:show=\"new\" xlink:title=\"psysml:87fca259-1c14-4b5b-983e-37895f6ff77b\" xlink:type=\"simple\"><rect fill=\"#FFFFFF\" height=\"45.9375\" id=\"E3\" rx=\"10\" ry=\"10\" style=\"stroke: #383838; stroke-width: 1.5;\" width=\"87\" x=\"279.5\" y=\"283\"/><text fill=\"#000000\" font-family=\"sans-serif\" font-size=\"12\" font-style=\"italic\" lengthAdjust=\"spacingAndGlyphs\" textLength=\"85\" x=\"280.5\" y=\"299.1387\">«occurrence»</text><text fill=\"#000000\" font-family=\"sans-serif\" font-size=\"12\" lengthAdjust=\"spacingAndGlyphs\" textLength=\"61\" x=\"290.5\" y=\"313.1074\">occ1: Occ</text><line style=\"stroke: #383838; stroke-width: 1.5;\" x1=\"280.5\" x2=\"365.5\" y1=\"320.9375\" y2=\"320.9375\"/></a><!--MD5=[ebbe1d658d1005bcc118a6aa81145e00]\n",
       "class E4--><a href=\"psysml:ffd2f288-180d-4271-8880-cf9706207ba2\" target=\"_top\" title=\"psysml:ffd2f288-180d-4271-8880-cf9706207ba2\" xlink:actuate=\"onRequest\" xlink:href=\"psysml:ffd2f288-180d-4271-8880-cf9706207ba2\" xlink:show=\"new\" xlink:title=\"psysml:ffd2f288-180d-4271-8880-cf9706207ba2\" xlink:type=\"simple\"><rect fill=\"#FFFFFF\" height=\"45.9375\" id=\"E4\" rx=\"10\" ry=\"10\" style=\"stroke: #383838; stroke-width: 1.5;\" width=\"87\" x=\"401.5\" y=\"283\"/><text fill=\"#000000\" font-family=\"sans-serif\" font-size=\"12\" font-style=\"italic\" lengthAdjust=\"spacingAndGlyphs\" textLength=\"85\" x=\"402.5\" y=\"299.1387\">«occurrence»</text><text fill=\"#000000\" font-family=\"sans-serif\" font-size=\"12\" lengthAdjust=\"spacingAndGlyphs\" textLength=\"61\" x=\"412.5\" y=\"313.1074\">occ2: Occ</text><line style=\"stroke: #383838; stroke-width: 1.5;\" x1=\"402.5\" x2=\"487.5\" y1=\"320.9375\" y2=\"320.9375\"/></a><!--MD5=[270fce915f116d4de14055a7c1d9a0f3]\n",
       "class E5--><a href=\"psysml:4e1769cc-a186-417e-91f0-587d1f1196e7\" target=\"_top\" title=\"psysml:4e1769cc-a186-417e-91f0-587d1f1196e7\" xlink:actuate=\"onRequest\" xlink:href=\"psysml:4e1769cc-a186-417e-91f0-587d1f1196e7\" xlink:show=\"new\" xlink:title=\"psysml:4e1769cc-a186-417e-91f0-587d1f1196e7\" xlink:type=\"simple\"><rect fill=\"#FFFFFF\" height=\"45.9375\" id=\"E5\" rx=\"10\" ry=\"10\" style=\"stroke: #383838; stroke-width: 1.5;\" width=\"212\" x=\"524\" y=\"283\"/><text fill=\"#000000\" font-family=\"sans-serif\" font-size=\"12\" font-style=\"italic\" lengthAdjust=\"spacingAndGlyphs\" textLength=\"210\" x=\"525\" y=\"299.1387\">«individual snapshot occurrence»</text><text fill=\"#000000\" font-family=\"sans-serif\" font-size=\"12\" lengthAdjust=\"spacingAndGlyphs\" textLength=\"34\" x=\"611\" y=\"313.1074\">s: Ind</text><line style=\"stroke: #383838; stroke-width: 1.5;\" x1=\"525\" x2=\"735\" y1=\"320.9375\" y2=\"320.9375\"/></a><!--MD5=[60a26617385b1d2d0262a64233df1f8d]\n",
       "class E6--><a href=\"psysml:9c61ac47-8b4e-45e2-802a-f3aa096140c4\" target=\"_top\" title=\"psysml:9c61ac47-8b4e-45e2-802a-f3aa096140c4\" xlink:actuate=\"onRequest\" xlink:href=\"psysml:9c61ac47-8b4e-45e2-802a-f3aa096140c4\" xlink:show=\"new\" xlink:title=\"psysml:9c61ac47-8b4e-45e2-802a-f3aa096140c4\" xlink:type=\"simple\"><rect fill=\"#FFFFFF\" height=\"45.9375\" id=\"E6\" rx=\"10\" ry=\"10\" style=\"stroke: #383838; stroke-width: 1.5;\" width=\"146\" x=\"771\" y=\"283\"/><text fill=\"#000000\" font-family=\"sans-serif\" font-size=\"12\" font-style=\"italic\" lengthAdjust=\"spacingAndGlyphs\" textLength=\"144\" x=\"772\" y=\"299.1387\">«timeslice occurrence»</text><text fill=\"#000000\" font-family=\"sans-serif\" font-size=\"12\" lengthAdjust=\"spacingAndGlyphs\" textLength=\"5\" x=\"839.5\" y=\"313.1074\">t</text><line style=\"stroke: #383838; stroke-width: 1.5;\" x1=\"772\" x2=\"916\" y1=\"320.9375\" y2=\"320.9375\"/></a><!--MD5=[2156ba9850f5573cc1fc38a6a4b2f02b]\n",
       "class E7--><a href=\"psysml:54e4af67-f268-48a3-80b8-bc1579f32c01\" target=\"_top\" title=\"psysml:54e4af67-f268-48a3-80b8-bc1579f32c01\" xlink:actuate=\"onRequest\" xlink:href=\"psysml:54e4af67-f268-48a3-80b8-bc1579f32c01\" xlink:show=\"new\" xlink:title=\"psysml:54e4af67-f268-48a3-80b8-bc1579f32c01\" xlink:type=\"simple\"><rect fill=\"#FFFFFF\" height=\"45.9375\" id=\"E7\" style=\"stroke: #383838; stroke-width: 1.5;\" width=\"177\" x=\"541.5\" y=\"389\"/><text fill=\"#000000\" font-family=\"sans-serif\" font-size=\"12\" font-style=\"italic\" lengthAdjust=\"spacingAndGlyphs\" textLength=\"175\" x=\"542.5\" y=\"405.1387\">«individual occurrence  def»</text><text fill=\"#000000\" font-family=\"sans-serif\" font-size=\"12\" lengthAdjust=\"spacingAndGlyphs\" textLength=\"19\" x=\"620.5\" y=\"419.1074\">Ind</text><line style=\"stroke: #383838; stroke-width: 1.5;\" x1=\"542.5\" x2=\"717.5\" y1=\"426.9375\" y2=\"426.9375\"/></a><!--MD5=[b9389687b975829384b498ac4b7476b2]\n",
       "class E8--><a href=\"psysml:bfc31472-e77d-4111-949c-57e124b09868\" target=\"_top\" title=\"psysml:bfc31472-e77d-4111-949c-57e124b09868\" xlink:actuate=\"onRequest\" xlink:href=\"psysml:bfc31472-e77d-4111-949c-57e124b09868\" xlink:show=\"new\" xlink:title=\"psysml:bfc31472-e77d-4111-949c-57e124b09868\" xlink:type=\"simple\"><rect fill=\"#FFFFFF\" height=\"45.9375\" id=\"E8\" rx=\"10\" ry=\"10\" style=\"stroke: #383838; stroke-width: 1.5;\" width=\"150\" x=\"463\" y=\"495\"/><text fill=\"#000000\" font-family=\"sans-serif\" font-size=\"12\" font-style=\"italic\" lengthAdjust=\"spacingAndGlyphs\" textLength=\"148\" x=\"464\" y=\"511.1387\">«snapshot occurrence»</text><text fill=\"#000000\" font-family=\"sans-serif\" font-size=\"12\" lengthAdjust=\"spacingAndGlyphs\" textLength=\"15\" x=\"528.5\" y=\"525.1074\">s2</text><line style=\"stroke: #383838; stroke-width: 1.5;\" x1=\"464\" x2=\"612\" y1=\"532.9375\" y2=\"532.9375\"/></a><!--MD5=[fd4143e9d270a159db93a4ea2a975926]\n",
       "class E9--><a href=\"psysml:25521b86-d75d-41e6-9d0e-592064bc2653\" target=\"_top\" title=\"psysml:25521b86-d75d-41e6-9d0e-592064bc2653\" xlink:actuate=\"onRequest\" xlink:href=\"psysml:25521b86-d75d-41e6-9d0e-592064bc2653\" xlink:show=\"new\" xlink:title=\"psysml:25521b86-d75d-41e6-9d0e-592064bc2653\" xlink:type=\"simple\"><rect fill=\"#FFFFFF\" height=\"45.9375\" id=\"E9\" rx=\"10\" ry=\"10\" style=\"stroke: #383838; stroke-width: 1.5;\" width=\"146\" x=\"648\" y=\"495\"/><text fill=\"#000000\" font-family=\"sans-serif\" font-size=\"12\" font-style=\"italic\" lengthAdjust=\"spacingAndGlyphs\" textLength=\"144\" x=\"649\" y=\"511.1387\">«timeslice occurrence»</text><text fill=\"#000000\" font-family=\"sans-serif\" font-size=\"12\" lengthAdjust=\"spacingAndGlyphs\" textLength=\"13\" x=\"712.5\" y=\"525.1074\">t2</text><line style=\"stroke: #383838; stroke-width: 1.5;\" x1=\"649\" x2=\"793\" y1=\"532.9375\" y2=\"532.9375\"/></a><!--MD5=[96f4274e9e20536e775497830990834d]\n",
       "class E10--><a href=\"psysml:ec83ca81-a881-4da3-97a0-46e2b6aae84c\" target=\"_top\" title=\"psysml:ec83ca81-a881-4da3-97a0-46e2b6aae84c\" xlink:actuate=\"onRequest\" xlink:href=\"psysml:ec83ca81-a881-4da3-97a0-46e2b6aae84c\" xlink:show=\"new\" xlink:title=\"psysml:ec83ca81-a881-4da3-97a0-46e2b6aae84c\" xlink:type=\"simple\"><rect fill=\"#FFFFFF\" height=\"45.9375\" id=\"E10\" rx=\"10\" ry=\"10\" style=\"stroke: #383838; stroke-width: 1.5;\" width=\"149\" x=\"505.5\" y=\"41\"/><text fill=\"#000000\" font-family=\"sans-serif\" font-size=\"12\" font-style=\"italic\" lengthAdjust=\"spacingAndGlyphs\" textLength=\"147\" x=\"506.5\" y=\"57.1387\">«individual occurrence»</text><text fill=\"#000000\" font-family=\"sans-serif\" font-size=\"12\" lengthAdjust=\"spacingAndGlyphs\" textLength=\"77\" x=\"539.5\" y=\"71.1074\">ind: Ind, Occ</text><line style=\"stroke: #383838; stroke-width: 1.5;\" x1=\"506.5\" x2=\"653.5\" y1=\"78.9375\" y2=\"78.9375\"/></a><!--MD5=[1dd1bfd58a279cf63c5f349dbc8fc6a1]\n",
       "class E11--><a href=\"psysml:fe74329f-5d2b-4ebe-b106-a7ecca7a6fbd\" target=\"_top\" title=\"psysml:fe74329f-5d2b-4ebe-b106-a7ecca7a6fbd\" xlink:actuate=\"onRequest\" xlink:href=\"psysml:fe74329f-5d2b-4ebe-b106-a7ecca7a6fbd\" xlink:show=\"new\" xlink:title=\"psysml:fe74329f-5d2b-4ebe-b106-a7ecca7a6fbd\" xlink:type=\"simple\"><rect fill=\"#FFFFFF\" height=\"45.9375\" id=\"E11\" rx=\"10\" ry=\"10\" style=\"stroke: #383838; stroke-width: 1.5;\" width=\"150\" x=\"561\" y=\"162\"/><text fill=\"#000000\" font-family=\"sans-serif\" font-size=\"12\" font-style=\"italic\" lengthAdjust=\"spacingAndGlyphs\" textLength=\"148\" x=\"562\" y=\"178.1387\">«snapshot occurrence»</text><text fill=\"#000000\" font-family=\"sans-serif\" font-size=\"12\" lengthAdjust=\"spacingAndGlyphs\" textLength=\"15\" x=\"626.5\" y=\"192.1074\">s3</text><line style=\"stroke: #383838; stroke-width: 1.5;\" x1=\"562\" x2=\"710\" y1=\"199.9375\" y2=\"199.9375\"/></a><!--MD5=[49a0ec8f00dab7302a31f22d0f0fe584]\n",
       "class E12--><a href=\"psysml:6925098a-d5ed-431f-aaf1-d453853f914b\" target=\"_top\" title=\"psysml:6925098a-d5ed-431f-aaf1-d453853f914b\" xlink:actuate=\"onRequest\" xlink:href=\"psysml:6925098a-d5ed-431f-aaf1-d453853f914b\" xlink:show=\"new\" xlink:title=\"psysml:6925098a-d5ed-431f-aaf1-d453853f914b\" xlink:type=\"simple\"><rect fill=\"#FFFFFF\" height=\"45.9375\" id=\"E12\" rx=\"10\" ry=\"10\" style=\"stroke: #383838; stroke-width: 1.5;\" width=\"208\" x=\"746\" y=\"162\"/><text fill=\"#000000\" font-family=\"sans-serif\" font-size=\"12\" font-style=\"italic\" lengthAdjust=\"spacingAndGlyphs\" textLength=\"206\" x=\"747\" y=\"178.1387\">«individual timeslice occurrence»</text><text fill=\"#000000\" font-family=\"sans-serif\" font-size=\"12\" lengthAdjust=\"spacingAndGlyphs\" textLength=\"13\" x=\"841.5\" y=\"192.1074\">t3</text><line style=\"stroke: #383838; stroke-width: 1.5;\" x1=\"747\" x2=\"953\" y1=\"199.9375\" y2=\"199.9375\"/></a><!--MD5=[ee3c913d1a06f366521f9ef512b67efe]\n",
       "class E13--><a href=\"psysml:4e4d3416-6ae1-42d7-bc86-2084c913e314\" target=\"_top\" title=\"psysml:4e4d3416-6ae1-42d7-bc86-2084c913e314\" xlink:actuate=\"onRequest\" xlink:href=\"psysml:4e4d3416-6ae1-42d7-bc86-2084c913e314\" xlink:show=\"new\" xlink:title=\"psysml:4e4d3416-6ae1-42d7-bc86-2084c913e314\" xlink:type=\"simple\"><rect fill=\"#FFFFFF\" height=\"45.9375\" id=\"E13\" rx=\"10\" ry=\"10\" style=\"stroke: #383838; stroke-width: 1.5;\" width=\"212\" x=\"32\" y=\"283\"/><text fill=\"#000000\" font-family=\"sans-serif\" font-size=\"12\" font-style=\"italic\" lengthAdjust=\"spacingAndGlyphs\" textLength=\"210\" x=\"33\" y=\"299.1387\">«individual snapshot occurrence»</text><text fill=\"#000000\" font-family=\"sans-serif\" font-size=\"12\" lengthAdjust=\"spacingAndGlyphs\" textLength=\"42\" x=\"115\" y=\"313.1074\">s4: Ind</text><line style=\"stroke: #383838; stroke-width: 1.5;\" x1=\"33\" x2=\"243\" y1=\"320.9375\" y2=\"320.9375\"/></a><!--MD5=[209b3feb70ccb6233bfe1053d122c12c]\n",
       "reverse link E2 to E3--><a href=\"psysml:62ea934f-12d4-42a0-b786-a1086ef654f4\" target=\"_top\" title=\"psysml:62ea934f-12d4-42a0-b786-a1086ef654f4\" xlink:actuate=\"onRequest\" xlink:href=\"psysml:62ea934f-12d4-42a0-b786-a1086ef654f4\" xlink:show=\"new\" xlink:title=\"psysml:62ea934f-12d4-42a0-b786-a1086ef654f4\" xlink:type=\"simple\"><path d=\"M376.37,232.45 C359.85,249.83 343.43,268.76 332.86,282.93 \" fill=\"none\" id=\"E2&lt;-E3\" style=\"stroke: #383838; stroke-width: 1.0;\"/><polygon fill=\"#FFFFFF\" points=\"385.52,223,378.4729,224.5294,377.1743,231.6226,384.2213,230.0932,385.52,223\" style=\"stroke: #383838; stroke-width: 1.0;\"/></a><!--MD5=[05d275557350bfb9b23a4ef7222b4c39]\n",
       "link E3 to E2--><a href=\"psysml:72edb9ed-f456-4be1-846b-a7c4b7fb6ef3\" target=\"_top\" title=\"psysml:72edb9ed-f456-4be1-846b-a7c4b7fb6ef3\" xlink:actuate=\"onRequest\" xlink:href=\"psysml:72edb9ed-f456-4be1-846b-a7c4b7fb6ef3\" xlink:show=\"new\" xlink:title=\"psysml:72edb9ed-f456-4be1-846b-a7c4b7fb6ef3\" xlink:type=\"simple\"><path d=\"M353.8,282.93 C367.38,270.34 383.11,253.98 396.95,238.29 \" fill=\"none\" id=\"E3-&gt;E2\" style=\"stroke: #383838; stroke-width: 1.0;\"/><polygon fill=\"#FFFFFF\" points=\"410.02,223,403.0007,241.9929,392.3563,232.8991,410.02,223\" style=\"stroke: #383838; stroke-width: 1.0;\"/><ellipse cx=\"397.7776\" cy=\"245.0276\" fill=\"#383838\" rx=\"2\" ry=\"2\" style=\"stroke: #383838; stroke-width: 1.0;\"/><ellipse cx=\"390.1744\" cy=\"238.532\" fill=\"#383838\" rx=\"2\" ry=\"2\" style=\"stroke: #383838; stroke-width: 1.0;\"/></a><!--MD5=[9618e71518536f8baf3342ff6fdab317]\n",
       "reverse link E2 to E4--><a href=\"psysml:1930a264-e184-4aca-ae40-6206f5d09a7f\" target=\"_top\" title=\"psysml:1930a264-e184-4aca-ae40-6206f5d09a7f\" xlink:actuate=\"onRequest\" xlink:href=\"psysml:1930a264-e184-4aca-ae40-6206f5d09a7f\" xlink:show=\"new\" xlink:title=\"psysml:1930a264-e184-4aca-ae40-6206f5d09a7f\" xlink:type=\"simple\"><path d=\"M424.31,236.34 C425.74,252.61 428.58,269.81 432.23,282.93 \" fill=\"none\" id=\"E2&lt;-E4\" style=\"stroke: #383838; stroke-width: 1.0;\"/><polygon fill=\"#383838\" points=\"423.45,223,419.8475,229.2467,424.2281,234.9747,427.8306,228.728,423.45,223\" style=\"stroke: #383838; stroke-width: 1.0;\"/></a><!--MD5=[185131fc0dcab0a4505a2ebe144e961b]\n",
       "link E4 to E2--><a href=\"psysml:32367fe5-1bb2-4952-a335-a8970d1d9f84\" target=\"_top\" title=\"psysml:32367fe5-1bb2-4952-a335-a8970d1d9f84\" xlink:actuate=\"onRequest\" xlink:href=\"psysml:32367fe5-1bb2-4952-a335-a8970d1d9f84\" xlink:show=\"new\" xlink:title=\"psysml:32367fe5-1bb2-4952-a335-a8970d1d9f84\" xlink:type=\"simple\"><path d=\"M453.17,282.93 C453.77,271.65 452.99,257.34 451.22,243.21 \" fill=\"none\" id=\"E4-&gt;E2\" style=\"stroke: #383838; stroke-width: 1.0;\"/><polygon fill=\"#FFFFFF\" points=\"447.96,223,457.8973,240.6423,444.0761,242.8725,447.96,223\" style=\"stroke: #383838; stroke-width: 1.0;\"/><ellipse cx=\"456.8309\" cy=\"246.5881\" fill=\"#383838\" rx=\"2\" ry=\"2\" style=\"stroke: #383838; stroke-width: 1.0;\"/><ellipse cx=\"446.9586\" cy=\"248.1811\" fill=\"#383838\" rx=\"2\" ry=\"2\" style=\"stroke: #383838; stroke-width: 1.0;\"/></a><!--MD5=[4e1a83fab71cdb913c109063314ae896]\n",
       "reverse link E2 to E5--><a href=\"psysml:0faf658f-4e02-48cd-849b-e0220b5d7629\" target=\"_top\" title=\"psysml:0faf658f-4e02-48cd-849b-e0220b5d7629\" xlink:actuate=\"onRequest\" xlink:href=\"psysml:0faf658f-4e02-48cd-849b-e0220b5d7629\" xlink:show=\"new\" xlink:title=\"psysml:0faf658f-4e02-48cd-849b-e0220b5d7629\" xlink:type=\"simple\"><path d=\"M499.85,227.17 C531.12,245.87 566.86,267.24 592.97,282.85 \" fill=\"none\" id=\"E2&lt;-E5\" style=\"stroke: #383838; stroke-width: 1.0;\"/><polygon fill=\"#383838\" points=\"488.56,220.42,491.6568,226.9323,498.8592,226.5784,495.7624,220.0661,488.56,220.42\" style=\"stroke: #383838; stroke-width: 1.0;\"/></a><!--MD5=[ce036f65110ae2351ccce5a81dc2e928]\n",
       "reverse link E2 to E6--><a href=\"psysml:3f965610-dfca-4051-a1f3-35306b55574a\" target=\"_top\" title=\"psysml:3f965610-dfca-4051-a1f3-35306b55574a\" xlink:actuate=\"onRequest\" xlink:href=\"psysml:3f965610-dfca-4051-a1f3-35306b55574a\" xlink:show=\"new\" xlink:title=\"psysml:3f965610-dfca-4051-a1f3-35306b55574a\" xlink:type=\"simple\"><path d=\"M500.82,216.39 C509.83,220.32 516,223 516,223 C516,223 674.13,262.53 770.8,286.7 \" fill=\"none\" id=\"E2&lt;-E6\" style=\"stroke: #383838; stroke-width: 1.0;\"/><polygon fill=\"#383838\" points=\"488.64,211.09,492.5451,217.1522,499.643,215.8791,495.7378,209.8169,488.64,211.09\" style=\"stroke: #383838; stroke-width: 1.0;\"/></a><!--MD5=[3a9b96bfbf6b6ad89c494e81751bda47]\n",
       "link E5 to E7--><a href=\"psysml:5b4e0f94-bd6c-4a04-8036-e6bb7f85be93\" target=\"_top\" title=\"psysml:5b4e0f94-bd6c-4a04-8036-e6bb7f85be93\" xlink:actuate=\"onRequest\" xlink:href=\"psysml:5b4e0f94-bd6c-4a04-8036-e6bb7f85be93\" xlink:show=\"new\" xlink:title=\"psysml:5b4e0f94-bd6c-4a04-8036-e6bb7f85be93\" xlink:type=\"simple\"><path d=\"M630,329.06 C630,340.64 630,355.23 630,368.87 \" fill=\"none\" id=\"E5-&gt;E7\" style=\"stroke: #383838; stroke-width: 1.0;\"/><polygon fill=\"#FFFFFF\" points=\"630,388.98,623,369.98,637,369.98,630,388.98\" style=\"stroke: #383838; stroke-width: 1.0;\"/><ellipse cx=\"625\" cy=\"364.28\" fill=\"#383838\" rx=\"2\" ry=\"2\" style=\"stroke: #383838; stroke-width: 1.0;\"/><ellipse cx=\"635\" cy=\"364.28\" fill=\"#383838\" rx=\"2\" ry=\"2\" style=\"stroke: #383838; stroke-width: 1.0;\"/></a><!--MD5=[dc164f5e8a733ab456ef1add180e9e34]\n",
       "reverse link E7 to E8--><a href=\"psysml:37f490ca-8c9f-44ef-b281-38d91f32f2bf\" target=\"_top\" title=\"psysml:37f490ca-8c9f-44ef-b281-38d91f32f2bf\" xlink:actuate=\"onRequest\" xlink:href=\"psysml:37f490ca-8c9f-44ef-b281-38d91f32f2bf\" xlink:show=\"new\" xlink:title=\"psysml:37f490ca-8c9f-44ef-b281-38d91f32f2bf\" xlink:type=\"simple\"><path d=\"M601.55,445.16 C587.25,461.33 570.28,480.51 557.48,494.98 \" fill=\"none\" id=\"E7&lt;-E8\" style=\"stroke: #383838; stroke-width: 1.0;\"/><polygon fill=\"#383838\" points=\"610.49,435.06,603.5177,436.9004,602.5348,444.0442,609.5071,442.2038,610.49,435.06\" style=\"stroke: #383838; stroke-width: 1.0;\"/></a><!--MD5=[e4a10ef82d0e328e31cac39a31e58dda]\n",
       "reverse link E7 to E9--><a href=\"psysml:c791e7ed-713f-4106-b9d5-0dfb97ea4543\" target=\"_top\" title=\"psysml:c791e7ed-713f-4106-b9d5-0dfb97ea4543\" xlink:actuate=\"onRequest\" xlink:href=\"psysml:c791e7ed-713f-4106-b9d5-0dfb97ea4543\" xlink:show=\"new\" xlink:title=\"psysml:c791e7ed-713f-4106-b9d5-0dfb97ea4543\" xlink:type=\"simple\"><path d=\"M658.14,445.16 C672.29,461.33 689.07,480.51 701.73,494.98 \" fill=\"none\" id=\"E7&lt;-E9\" style=\"stroke: #383838; stroke-width: 1.0;\"/><polygon fill=\"#383838\" points=\"649.3,435.06,650.2496,442.2083,657.2133,444.0811,656.2637,436.9328,649.3,435.06\" style=\"stroke: #383838; stroke-width: 1.0;\"/></a><!--MD5=[a919e0967d6f3de553dc51b9865a1d6d]\n",
       "link E10 to E7--><a href=\"psysml:d7bf13fe-2343-4091-93b6-ccc05bfccd1c\" target=\"_top\" title=\"psysml:d7bf13fe-2343-4091-93b6-ccc05bfccd1c\" xlink:actuate=\"onRequest\" xlink:href=\"psysml:d7bf13fe-2343-4091-93b6-ccc05bfccd1c\" xlink:show=\"new\" xlink:title=\"psysml:d7bf13fe-2343-4091-93b6-ccc05bfccd1c\" xlink:type=\"simple\"><path d=\"M570.16,87.41 C559.5,111.69 544,147 544,147 C544,147 544,223 544,223 C544,223 935,283 935,283 C935,283 935,329 935,329 C935,329 820.21,359.86 731.48,383.72 \" fill=\"none\" id=\"E10-&gt;E7\" style=\"stroke: #383838; stroke-width: 1.0;\"/><polygon fill=\"#FFFFFF\" points=\"712.14,388.92,728.6669,377.2212,732.3065,390.7398,712.14,388.92\" style=\"stroke: #383838; stroke-width: 1.0;\"/><ellipse cx=\"734.6908\" cy=\"377.6706\" fill=\"#383838\" rx=\"2\" ry=\"2\" style=\"stroke: #383838; stroke-width: 1.0;\"/><ellipse cx=\"737.2906\" cy=\"387.3267\" fill=\"#383838\" rx=\"2\" ry=\"2\" style=\"stroke: #383838; stroke-width: 1.0;\"/></a><!--MD5=[0f36bececdf0dff6e600d6f64214b0f1]\n",
       "link E10 to E2--><a href=\"psysml:65e23dda-2765-4b86-8b8c-165f4272381c\" target=\"_top\" title=\"psysml:65e23dda-2765-4b86-8b8c-165f4272381c\" xlink:actuate=\"onRequest\" xlink:href=\"psysml:65e23dda-2765-4b86-8b8c-165f4272381c\" xlink:show=\"new\" xlink:title=\"psysml:65e23dda-2765-4b86-8b8c-165f4272381c\" xlink:type=\"simple\"><path d=\"M552.32,87.1 C535.71,100.38 513.86,117.82 493.29,134.25 \" fill=\"none\" id=\"E10-&gt;E2\" style=\"stroke: #383838; stroke-width: 1.0;\"/><polygon fill=\"#FFFFFF\" points=\"477.56,146.81,488.0352,129.4817,496.7737,140.4197,477.56,146.81\" style=\"stroke: #383838; stroke-width: 1.0;\"/><ellipse cx=\"493.7369\" cy=\"127.4865\" fill=\"#383838\" rx=\"2\" ry=\"2\" style=\"stroke: #383838; stroke-width: 1.0;\"/><ellipse cx=\"499.9786\" cy=\"135.2994\" fill=\"#383838\" rx=\"2\" ry=\"2\" style=\"stroke: #383838; stroke-width: 1.0;\"/></a><!--MD5=[de308be4a2431766a05a907a031c07fc]\n",
       "reverse link E10 to E11--><a href=\"psysml:996a22eb-9701-44d5-9cb6-35ae83d4d1b1\" target=\"_top\" title=\"psysml:996a22eb-9701-44d5-9cb6-35ae83d4d1b1\" xlink:actuate=\"onRequest\" xlink:href=\"psysml:996a22eb-9701-44d5-9cb6-35ae83d4d1b1\" xlink:show=\"new\" xlink:title=\"psysml:996a22eb-9701-44d5-9cb6-35ae83d4d1b1\" xlink:type=\"simple\"><path d=\"M595.95,98.9 C605.42,119.01 617.15,143.94 625.46,161.61 \" fill=\"none\" id=\"E10&lt;-E11\" style=\"stroke: #383838; stroke-width: 1.0;\"/><polygon fill=\"#383838\" points=\"590.4,87.1,589.3334,94.2318,595.5064,97.9593,596.573,90.8275,590.4,87.1\" style=\"stroke: #383838; stroke-width: 1.0;\"/></a><!--MD5=[1d54f998c6d5961a1a9184be73a7eb6c]\n",
       "reverse link E10 to E12--><a href=\"psysml:da3311a8-2759-47ea-b229-fd34ee887055\" target=\"_top\" title=\"psysml:da3311a8-2759-47ea-b229-fd34ee887055\" xlink:actuate=\"onRequest\" xlink:href=\"psysml:da3311a8-2759-47ea-b229-fd34ee887055\" xlink:show=\"new\" xlink:title=\"psysml:da3311a8-2759-47ea-b229-fd34ee887055\" xlink:type=\"simple\"><path d=\"M642.21,92.42 C689.99,113.48 755.13,142.19 799.66,161.81 \" fill=\"none\" id=\"E10&lt;-E12\" style=\"stroke: #383838; stroke-width: 1.0;\"/><polygon fill=\"#383838\" points=\"630.15,87.1,634.028,93.1796,641.1314,91.9382,637.2534,85.8586,630.15,87.1\" style=\"stroke: #383838; stroke-width: 1.0;\"/></a><!--MD5=[4a48077df6499cfcd20b62e8f5f37904]\n",
       "link E13 to E7--><a href=\"psysml:fb78d99f-0705-4d43-aabd-2eaf1ce47389\" target=\"_top\" title=\"psysml:fb78d99f-0705-4d43-aabd-2eaf1ce47389\" xlink:actuate=\"onRequest\" xlink:href=\"psysml:fb78d99f-0705-4d43-aabd-2eaf1ce47389\" xlink:show=\"new\" xlink:title=\"psysml:fb78d99f-0705-4d43-aabd-2eaf1ce47389\" xlink:type=\"simple\"><path d=\"M242.34,329.06 C324.51,346.43 438.67,370.56 521.82,388.13 \" fill=\"none\" id=\"E13-&gt;E7\" style=\"stroke: #383838; stroke-width: 1.0;\"/><polygon fill=\"#FFFFFF\" points=\"541.45,392.28,521.4143,395.2075,524.304,381.509,541.45,392.28\" style=\"stroke: #383838; stroke-width: 1.0;\"/><ellipse cx=\"516.2498\" cy=\"392.0741\" fill=\"#383838\" rx=\"2\" ry=\"2\" style=\"stroke: #383838; stroke-width: 1.0;\"/><ellipse cx=\"518.3139\" cy=\"382.2894\" fill=\"#383838\" rx=\"2\" ry=\"2\" style=\"stroke: #383838; stroke-width: 1.0;\"/></a><!--MD5=[7f89bee87c5a32cb13ae311d4efbcee3]\n",
       "@startuml\r\n",
       "skinparam linetype polyline\r\n",
       "skinparam monochrome true\r\n",
       "skinparam classbackgroundcolor white\r\n",
       "skinparam shadowing false\r\n",
       "skinparam wrapWidth 300\r\n",
       "hide circle\r\n",
       "\r\n",
       "package \"OccurrenceTest\" as E1  [[psysml:76f03fcf-c31b-4704-ae9e-b44a23fd6ebe ]]  {\r\n",
       "comp def \"Occ\" as E2  <<(T,blue) occurrence  def>> [[psysml:eaa0b96d-7da2-44a7-b980-6b6f36747918 ]] {\r\n",
       "- - attributes - -\r\n",
       "a\r\n",
       "}\r\n",
       "comp usage \"occ1: Occ \" as E3  <<(T,blue) occurrence>> [[psysml:87fca259-1c14-4b5b-983e-37895f6ff77b ]] {\r\n",
       "}\r\n",
       "comp usage \"occ2: Occ \" as E4  <<(T,blue) occurrence>> [[psysml:ffd2f288-180d-4271-8880-cf9706207ba2 ]] {\r\n",
       "}\r\n",
       "comp usage \"s: Ind \" as E5  <<(T,blue) individual snapshot occurrence>> [[psysml:4e1769cc-a186-417e-91f0-587d1f1196e7 ]] {\r\n",
       "}\r\n",
       "comp usage \"t \" as E6  <<(T,blue) timeslice occurrence>> [[psysml:9c61ac47-8b4e-45e2-802a-f3aa096140c4 ]] {\r\n",
       "}\r\n",
       "comp def \"Ind\" as E7  <<(T,blue) individual occurrence  def>> [[psysml:54e4af67-f268-48a3-80b8-bc1579f32c01 ]] {\r\n",
       "}\r\n",
       "comp usage \"s2 \" as E8  <<(T,blue) snapshot occurrence>> [[psysml:bfc31472-e77d-4111-949c-57e124b09868 ]] {\r\n",
       "}\r\n",
       "comp usage \"t2 \" as E9  <<(T,blue) timeslice occurrence>> [[psysml:25521b86-d75d-41e6-9d0e-592064bc2653 ]] {\r\n",
       "}\r\n",
       "comp usage \"ind: Ind, Occ \" as E10  <<(T,blue) individual occurrence>> [[psysml:ec83ca81-a881-4da3-97a0-46e2b6aae84c ]] {\r\n",
       "}\r\n",
       "comp usage \"s3 \" as E11  <<(T,blue) snapshot occurrence>> [[psysml:fe74329f-5d2b-4ebe-b106-a7ecca7a6fbd ]] {\r\n",
       "}\r\n",
       "comp usage \"t3 \" as E12  <<(T,blue) individual timeslice occurrence>> [[psysml:6925098a-d5ed-431f-aaf1-d453853f914b ]] {\r\n",
       "}\r\n",
       "comp usage \"s4: Ind \" as E13  <<(T,blue) individual snapshot occurrence>> [[psysml:4e4d3416-6ae1-42d7-bc86-2084c913e314 ]] {\r\n",
       "}\r\n",
       "}\r\n",
       "E2 o- - E3 [[psysml:62ea934f-12d4-42a0-b786-a1086ef654f4 ]] \r\n",
       "E3 - -:|> E2 [[psysml:72edb9ed-f456-4be1-846b-a7c4b7fb6ef3 ]] \r\n",
       "E2 *- - E4 [[psysml:1930a264-e184-4aca-ae40-6206f5d09a7f ]] \r\n",
       "E4 - -:|> E2 [[psysml:32367fe5-1bb2-4952-a335-a8970d1d9f84 ]] \r\n",
       "E2 *- - E5 [[psysml:0faf658f-4e02-48cd-849b-e0220b5d7629 ]] \r\n",
       "E2 *- - E6 [[psysml:3f965610-dfca-4051-a1f3-35306b55574a ]] \r\n",
       "E5 - -:|> E7 [[psysml:5b4e0f94-bd6c-4a04-8036-e6bb7f85be93 ]] \r\n",
       "E7 *- - E8 [[psysml:37f490ca-8c9f-44ef-b281-38d91f32f2bf ]] \r\n",
       "E7 *- - E9 [[psysml:c791e7ed-713f-4106-b9d5-0dfb97ea4543 ]] \r\n",
       "E10 - -:|> E7 [[psysml:d7bf13fe-2343-4091-93b6-ccc05bfccd1c ]] \r\n",
       "E10 - -:|> E2 [[psysml:65e23dda-2765-4b86-8b8c-165f4272381c ]] \r\n",
       "E10 *- - E11 [[psysml:996a22eb-9701-44d5-9cb6-35ae83d4d1b1 ]] \r\n",
       "E10 *- - E12 [[psysml:da3311a8-2759-47ea-b229-fd34ee887055 ]] \r\n",
       "E13 - -:|> E7 [[psysml:fb78d99f-0705-4d43-aabd-2eaf1ce47389 ]] \r\n",
       "@enduml\r\n",
       "\n",
       "PlantUML version 1.2020.13(Sat Jun 13 12:26:38 UTC 2020)\n",
       "(EPL source distribution)\n",
       "Java Runtime: OpenJDK Runtime Environment\n",
       "JVM: OpenJDK 64-Bit Server VM\n",
       "Default Encoding: UTF-8\n",
       "Language: en\n",
       "Country: null\n",
       "--></g></svg>"
      ]
     },
     "execution_count": 15,
     "metadata": {},
     "output_type": "execute_result"
    }
   ],
   "source": [
    "%viz --style=\"POLYLINE\" --view=\"MIXED\" \"OccurrenceTest\""
   ]
  },
  {
   "cell_type": "code",
   "execution_count": 16,
   "id": "a0b72906",
   "metadata": {
    "execution": {
     "iopub.execute_input": "2022-02-18T10:48:37.071062Z",
     "iopub.status.busy": "2022-02-18T10:48:37.070633Z",
     "iopub.status.idle": "2022-02-18T10:48:37.137477Z",
     "shell.execute_reply": "2022-02-18T10:48:37.136958Z"
    }
   },
   "outputs": [
    {
     "data": {
      "image/svg+xml": [
       "<?xml version=\"1.0\" encoding=\"UTF-8\" standalone=\"no\"?><svg xmlns=\"http://www.w3.org/2000/svg\" xmlns:xlink=\"http://www.w3.org/1999/xlink\" contentScriptType=\"application/ecmascript\" contentStyleType=\"text/css\" height=\"476px\" preserveAspectRatio=\"none\" style=\"width:1206px;height:476px;\" version=\"1.1\" viewBox=\"0 0 1206 476\" width=\"1206px\" zoomAndPan=\"magnify\"><defs/><g><!--MD5=[fbc87193dbaf4d95561dea2c320d4a47]\n",
       "cluster E1--><a href=\"psysml:76f03fcf-c31b-4704-ae9e-b44a23fd6ebe\" target=\"_top\" title=\"psysml:76f03fcf-c31b-4704-ae9e-b44a23fd6ebe\" xlink:actuate=\"onRequest\" xlink:href=\"psysml:76f03fcf-c31b-4704-ae9e-b44a23fd6ebe\" xlink:show=\"new\" xlink:title=\"psysml:76f03fcf-c31b-4704-ae9e-b44a23fd6ebe\" xlink:type=\"simple\"><polygon fill=\"#FFFFFF\" points=\"16,6,134,6,141,28.2969,1184,28.2969,1184,464,16,464,16,6\" style=\"stroke: #000000; stroke-width: 1.5;\"/><line style=\"stroke: #000000; stroke-width: 1.5;\" x1=\"16\" x2=\"141\" y1=\"28.2969\" y2=\"28.2969\"/><text fill=\"#000000\" font-family=\"sans-serif\" font-size=\"14\" font-weight=\"bold\" lengthAdjust=\"spacingAndGlyphs\" textLength=\"112\" x=\"20\" y=\"20.9951\">OccurrenceTest</text></a><!--MD5=[b4997ac47864f28c2f74865a473b2911]\n",
       "class E2--><a href=\"psysml:eaa0b96d-7da2-44a7-b980-6b6f36747918\" target=\"_top\" title=\"psysml:eaa0b96d-7da2-44a7-b980-6b6f36747918\" xlink:actuate=\"onRequest\" xlink:href=\"psysml:eaa0b96d-7da2-44a7-b980-6b6f36747918\" xlink:show=\"new\" xlink:title=\"psysml:eaa0b96d-7da2-44a7-b980-6b6f36747918\" xlink:type=\"simple\"><rect fill=\"#FFFFFF\" height=\"75.5469\" id=\"E2\" style=\"stroke: #383838; stroke-width: 1.5;\" width=\"115\" x=\"287.5\" y=\"240\"/><text fill=\"#000000\" font-family=\"sans-serif\" font-size=\"12\" font-style=\"italic\" lengthAdjust=\"spacingAndGlyphs\" textLength=\"113\" x=\"288.5\" y=\"256.1387\">«occurrence  def»</text><text fill=\"#000000\" font-family=\"sans-serif\" font-size=\"12\" lengthAdjust=\"spacingAndGlyphs\" textLength=\"23\" x=\"333.5\" y=\"270.1074\">Occ</text><line style=\"stroke: #383838; stroke-width: 1.5;\" x1=\"288.5\" x2=\"401.5\" y1=\"277.9375\" y2=\"277.9375\"/><text fill=\"#000000\" font-family=\"sans-serif\" font-size=\"11\" lengthAdjust=\"spacingAndGlyphs\" textLength=\"7\" x=\"293.5\" y=\"308.9526\">a</text><line style=\"stroke: #383838; stroke-width: 1.0;\" x1=\"288.5\" x2=\"317.5\" y1=\"292.3398\" y2=\"292.3398\"/><text fill=\"#000000\" font-family=\"sans-serif\" font-size=\"11\" lengthAdjust=\"spacingAndGlyphs\" textLength=\"55\" x=\"317.5\" y=\"295.6479\">attributes</text><line style=\"stroke: #383838; stroke-width: 1.0;\" x1=\"372.5\" x2=\"401.5\" y1=\"292.3398\" y2=\"292.3398\"/></a><!--MD5=[09b614a08d8cba4a07c9adeb5e0fee81]\n",
       "class E3--><a href=\"psysml:87fca259-1c14-4b5b-983e-37895f6ff77b\" target=\"_top\" title=\"psysml:87fca259-1c14-4b5b-983e-37895f6ff77b\" xlink:actuate=\"onRequest\" xlink:href=\"psysml:87fca259-1c14-4b5b-983e-37895f6ff77b\" xlink:show=\"new\" xlink:title=\"psysml:87fca259-1c14-4b5b-983e-37895f6ff77b\" xlink:type=\"simple\"><rect fill=\"#FFFFFF\" height=\"45.9375\" id=\"E3\" rx=\"10\" ry=\"10\" style=\"stroke: #383838; stroke-width: 1.5;\" width=\"87\" x=\"571.5\" y=\"321\"/><text fill=\"#000000\" font-family=\"sans-serif\" font-size=\"12\" font-style=\"italic\" lengthAdjust=\"spacingAndGlyphs\" textLength=\"85\" x=\"572.5\" y=\"337.1387\">«occurrence»</text><text fill=\"#000000\" font-family=\"sans-serif\" font-size=\"12\" lengthAdjust=\"spacingAndGlyphs\" textLength=\"61\" x=\"582.5\" y=\"351.1074\">occ1: Occ</text><line style=\"stroke: #383838; stroke-width: 1.5;\" x1=\"572.5\" x2=\"657.5\" y1=\"358.9375\" y2=\"358.9375\"/></a><!--MD5=[ebbe1d658d1005bcc118a6aa81145e00]\n",
       "class E4--><a href=\"psysml:ffd2f288-180d-4271-8880-cf9706207ba2\" target=\"_top\" title=\"psysml:ffd2f288-180d-4271-8880-cf9706207ba2\" xlink:actuate=\"onRequest\" xlink:href=\"psysml:ffd2f288-180d-4271-8880-cf9706207ba2\" xlink:show=\"new\" xlink:title=\"psysml:ffd2f288-180d-4271-8880-cf9706207ba2\" xlink:type=\"simple\"><rect fill=\"#FFFFFF\" height=\"45.9375\" id=\"E4\" rx=\"10\" ry=\"10\" style=\"stroke: #383838; stroke-width: 1.5;\" width=\"87\" x=\"571.5\" y=\"240\"/><text fill=\"#000000\" font-family=\"sans-serif\" font-size=\"12\" font-style=\"italic\" lengthAdjust=\"spacingAndGlyphs\" textLength=\"85\" x=\"572.5\" y=\"256.1387\">«occurrence»</text><text fill=\"#000000\" font-family=\"sans-serif\" font-size=\"12\" lengthAdjust=\"spacingAndGlyphs\" textLength=\"61\" x=\"582.5\" y=\"270.1074\">occ2: Occ</text><line style=\"stroke: #383838; stroke-width: 1.5;\" x1=\"572.5\" x2=\"657.5\" y1=\"277.9375\" y2=\"277.9375\"/></a><!--MD5=[270fce915f116d4de14055a7c1d9a0f3]\n",
       "class E5--><a href=\"psysml:4e1769cc-a186-417e-91f0-587d1f1196e7\" target=\"_top\" title=\"psysml:4e1769cc-a186-417e-91f0-587d1f1196e7\" xlink:actuate=\"onRequest\" xlink:href=\"psysml:4e1769cc-a186-417e-91f0-587d1f1196e7\" xlink:show=\"new\" xlink:title=\"psysml:4e1769cc-a186-417e-91f0-587d1f1196e7\" xlink:type=\"simple\"><rect fill=\"#FFFFFF\" height=\"45.9375\" id=\"E5\" rx=\"10\" ry=\"10\" style=\"stroke: #383838; stroke-width: 1.5;\" width=\"212\" x=\"509\" y=\"159\"/><text fill=\"#000000\" font-family=\"sans-serif\" font-size=\"12\" font-style=\"italic\" lengthAdjust=\"spacingAndGlyphs\" textLength=\"210\" x=\"510\" y=\"175.1387\">«individual snapshot occurrence»</text><text fill=\"#000000\" font-family=\"sans-serif\" font-size=\"12\" lengthAdjust=\"spacingAndGlyphs\" textLength=\"34\" x=\"596\" y=\"189.1074\">s: Ind</text><line style=\"stroke: #383838; stroke-width: 1.5;\" x1=\"510\" x2=\"720\" y1=\"196.9375\" y2=\"196.9375\"/></a><!--MD5=[60a26617385b1d2d0262a64233df1f8d]\n",
       "class E6--><a href=\"psysml:9c61ac47-8b4e-45e2-802a-f3aa096140c4\" target=\"_top\" title=\"psysml:9c61ac47-8b4e-45e2-802a-f3aa096140c4\" xlink:actuate=\"onRequest\" xlink:href=\"psysml:9c61ac47-8b4e-45e2-802a-f3aa096140c4\" xlink:show=\"new\" xlink:title=\"psysml:9c61ac47-8b4e-45e2-802a-f3aa096140c4\" xlink:type=\"simple\"><rect fill=\"#FFFFFF\" height=\"45.9375\" id=\"E6\" rx=\"10\" ry=\"10\" style=\"stroke: #383838; stroke-width: 1.5;\" width=\"146\" x=\"542\" y=\"78\"/><text fill=\"#000000\" font-family=\"sans-serif\" font-size=\"12\" font-style=\"italic\" lengthAdjust=\"spacingAndGlyphs\" textLength=\"144\" x=\"543\" y=\"94.1387\">«timeslice occurrence»</text><text fill=\"#000000\" font-family=\"sans-serif\" font-size=\"12\" lengthAdjust=\"spacingAndGlyphs\" textLength=\"5\" x=\"610.5\" y=\"108.1074\">t</text><line style=\"stroke: #383838; stroke-width: 1.5;\" x1=\"543\" x2=\"687\" y1=\"115.9375\" y2=\"115.9375\"/></a><!--MD5=[2156ba9850f5573cc1fc38a6a4b2f02b]\n",
       "class E7--><a href=\"psysml:54e4af67-f268-48a3-80b8-bc1579f32c01\" target=\"_top\" title=\"psysml:54e4af67-f268-48a3-80b8-bc1579f32c01\" xlink:actuate=\"onRequest\" xlink:href=\"psysml:54e4af67-f268-48a3-80b8-bc1579f32c01\" xlink:show=\"new\" xlink:title=\"psysml:54e4af67-f268-48a3-80b8-bc1579f32c01\" xlink:type=\"simple\"><rect fill=\"#FFFFFF\" height=\"45.9375\" id=\"E7\" style=\"stroke: #383838; stroke-width: 1.5;\" width=\"177\" x=\"781\" y=\"159\"/><text fill=\"#000000\" font-family=\"sans-serif\" font-size=\"12\" font-style=\"italic\" lengthAdjust=\"spacingAndGlyphs\" textLength=\"175\" x=\"782\" y=\"175.1387\">«individual occurrence  def»</text><text fill=\"#000000\" font-family=\"sans-serif\" font-size=\"12\" lengthAdjust=\"spacingAndGlyphs\" textLength=\"19\" x=\"860\" y=\"189.1074\">Ind</text><line style=\"stroke: #383838; stroke-width: 1.5;\" x1=\"782\" x2=\"957\" y1=\"196.9375\" y2=\"196.9375\"/></a><!--MD5=[b9389687b975829384b498ac4b7476b2]\n",
       "class E8--><a href=\"psysml:bfc31472-e77d-4111-949c-57e124b09868\" target=\"_top\" title=\"psysml:bfc31472-e77d-4111-949c-57e124b09868\" xlink:actuate=\"onRequest\" xlink:href=\"psysml:bfc31472-e77d-4111-949c-57e124b09868\" xlink:show=\"new\" xlink:title=\"psysml:bfc31472-e77d-4111-949c-57e124b09868\" xlink:type=\"simple\"><rect fill=\"#FFFFFF\" height=\"45.9375\" id=\"E8\" rx=\"10\" ry=\"10\" style=\"stroke: #383838; stroke-width: 1.5;\" width=\"150\" x=\"1018\" y=\"199\"/><text fill=\"#000000\" font-family=\"sans-serif\" font-size=\"12\" font-style=\"italic\" lengthAdjust=\"spacingAndGlyphs\" textLength=\"148\" x=\"1019\" y=\"215.1387\">«snapshot occurrence»</text><text fill=\"#000000\" font-family=\"sans-serif\" font-size=\"12\" lengthAdjust=\"spacingAndGlyphs\" textLength=\"15\" x=\"1083.5\" y=\"229.1074\">s2</text><line style=\"stroke: #383838; stroke-width: 1.5;\" x1=\"1019\" x2=\"1167\" y1=\"236.9375\" y2=\"236.9375\"/></a><!--MD5=[fd4143e9d270a159db93a4ea2a975926]\n",
       "class E9--><a href=\"psysml:25521b86-d75d-41e6-9d0e-592064bc2653\" target=\"_top\" title=\"psysml:25521b86-d75d-41e6-9d0e-592064bc2653\" xlink:actuate=\"onRequest\" xlink:href=\"psysml:25521b86-d75d-41e6-9d0e-592064bc2653\" xlink:show=\"new\" xlink:title=\"psysml:25521b86-d75d-41e6-9d0e-592064bc2653\" xlink:type=\"simple\"><rect fill=\"#FFFFFF\" height=\"45.9375\" id=\"E9\" rx=\"10\" ry=\"10\" style=\"stroke: #383838; stroke-width: 1.5;\" width=\"146\" x=\"1020\" y=\"118\"/><text fill=\"#000000\" font-family=\"sans-serif\" font-size=\"12\" font-style=\"italic\" lengthAdjust=\"spacingAndGlyphs\" textLength=\"144\" x=\"1021\" y=\"134.1387\">«timeslice occurrence»</text><text fill=\"#000000\" font-family=\"sans-serif\" font-size=\"12\" lengthAdjust=\"spacingAndGlyphs\" textLength=\"13\" x=\"1084.5\" y=\"148.1074\">t2</text><line style=\"stroke: #383838; stroke-width: 1.5;\" x1=\"1021\" x2=\"1165\" y1=\"155.9375\" y2=\"155.9375\"/></a><!--MD5=[96f4274e9e20536e775497830990834d]\n",
       "class E10--><a href=\"psysml:ec83ca81-a881-4da3-97a0-46e2b6aae84c\" target=\"_top\" title=\"psysml:ec83ca81-a881-4da3-97a0-46e2b6aae84c\" xlink:actuate=\"onRequest\" xlink:href=\"psysml:ec83ca81-a881-4da3-97a0-46e2b6aae84c\" xlink:show=\"new\" xlink:title=\"psysml:ec83ca81-a881-4da3-97a0-46e2b6aae84c\" xlink:type=\"simple\"><rect fill=\"#FFFFFF\" height=\"45.9375\" id=\"E10\" rx=\"10\" ry=\"10\" style=\"stroke: #383838; stroke-width: 1.5;\" width=\"149\" x=\"32\" y=\"152\"/><text fill=\"#000000\" font-family=\"sans-serif\" font-size=\"12\" font-style=\"italic\" lengthAdjust=\"spacingAndGlyphs\" textLength=\"147\" x=\"33\" y=\"168.1387\">«individual occurrence»</text><text fill=\"#000000\" font-family=\"sans-serif\" font-size=\"12\" lengthAdjust=\"spacingAndGlyphs\" textLength=\"77\" x=\"66\" y=\"182.1074\">ind: Ind, Occ</text><line style=\"stroke: #383838; stroke-width: 1.5;\" x1=\"33\" x2=\"180\" y1=\"189.9375\" y2=\"189.9375\"/></a><!--MD5=[1dd1bfd58a279cf63c5f349dbc8fc6a1]\n",
       "class E11--><a href=\"psysml:fe74329f-5d2b-4ebe-b106-a7ecca7a6fbd\" target=\"_top\" title=\"psysml:fe74329f-5d2b-4ebe-b106-a7ecca7a6fbd\" xlink:actuate=\"onRequest\" xlink:href=\"psysml:fe74329f-5d2b-4ebe-b106-a7ecca7a6fbd\" xlink:show=\"new\" xlink:title=\"psysml:fe74329f-5d2b-4ebe-b106-a7ecca7a6fbd\" xlink:type=\"simple\"><rect fill=\"#FFFFFF\" height=\"45.9375\" id=\"E11\" rx=\"10\" ry=\"10\" style=\"stroke: #383838; stroke-width: 1.5;\" width=\"150\" x=\"270\" y=\"122\"/><text fill=\"#000000\" font-family=\"sans-serif\" font-size=\"12\" font-style=\"italic\" lengthAdjust=\"spacingAndGlyphs\" textLength=\"148\" x=\"271\" y=\"138.1387\">«snapshot occurrence»</text><text fill=\"#000000\" font-family=\"sans-serif\" font-size=\"12\" lengthAdjust=\"spacingAndGlyphs\" textLength=\"15\" x=\"335.5\" y=\"152.1074\">s3</text><line style=\"stroke: #383838; stroke-width: 1.5;\" x1=\"271\" x2=\"419\" y1=\"159.9375\" y2=\"159.9375\"/></a><!--MD5=[49a0ec8f00dab7302a31f22d0f0fe584]\n",
       "class E12--><a href=\"psysml:6925098a-d5ed-431f-aaf1-d453853f914b\" target=\"_top\" title=\"psysml:6925098a-d5ed-431f-aaf1-d453853f914b\" xlink:actuate=\"onRequest\" xlink:href=\"psysml:6925098a-d5ed-431f-aaf1-d453853f914b\" xlink:show=\"new\" xlink:title=\"psysml:6925098a-d5ed-431f-aaf1-d453853f914b\" xlink:type=\"simple\"><rect fill=\"#FFFFFF\" height=\"45.9375\" id=\"E12\" rx=\"10\" ry=\"10\" style=\"stroke: #383838; stroke-width: 1.5;\" width=\"208\" x=\"241\" y=\"41\"/><text fill=\"#000000\" font-family=\"sans-serif\" font-size=\"12\" font-style=\"italic\" lengthAdjust=\"spacingAndGlyphs\" textLength=\"206\" x=\"242\" y=\"57.1387\">«individual timeslice occurrence»</text><text fill=\"#000000\" font-family=\"sans-serif\" font-size=\"12\" lengthAdjust=\"spacingAndGlyphs\" textLength=\"13\" x=\"336.5\" y=\"71.1074\">t3</text><line style=\"stroke: #383838; stroke-width: 1.5;\" x1=\"242\" x2=\"448\" y1=\"78.9375\" y2=\"78.9375\"/></a><!--MD5=[ee3c913d1a06f366521f9ef512b67efe]\n",
       "class E13--><a href=\"psysml:4e4d3416-6ae1-42d7-bc86-2084c913e314\" target=\"_top\" title=\"psysml:4e4d3416-6ae1-42d7-bc86-2084c913e314\" xlink:actuate=\"onRequest\" xlink:href=\"psysml:4e4d3416-6ae1-42d7-bc86-2084c913e314\" xlink:show=\"new\" xlink:title=\"psysml:4e4d3416-6ae1-42d7-bc86-2084c913e314\" xlink:type=\"simple\"><rect fill=\"#FFFFFF\" height=\"45.9375\" id=\"E13\" rx=\"10\" ry=\"10\" style=\"stroke: #383838; stroke-width: 1.5;\" width=\"212\" x=\"509\" y=\"402\"/><text fill=\"#000000\" font-family=\"sans-serif\" font-size=\"12\" font-style=\"italic\" lengthAdjust=\"spacingAndGlyphs\" textLength=\"210\" x=\"510\" y=\"418.1387\">«individual snapshot occurrence»</text><text fill=\"#000000\" font-family=\"sans-serif\" font-size=\"12\" lengthAdjust=\"spacingAndGlyphs\" textLength=\"42\" x=\"592\" y=\"432.1074\">s4: Ind</text><line style=\"stroke: #383838; stroke-width: 1.5;\" x1=\"510\" x2=\"720\" y1=\"439.9375\" y2=\"439.9375\"/></a><!--MD5=[209b3feb70ccb6233bfe1053d122c12c]\n",
       "reverse link E2 to E3--><a href=\"psysml:62ea934f-12d4-42a0-b786-a1086ef654f4\" target=\"_top\" title=\"psysml:62ea934f-12d4-42a0-b786-a1086ef654f4\" xlink:actuate=\"onRequest\" xlink:href=\"psysml:62ea934f-12d4-42a0-b786-a1086ef654f4\" xlink:show=\"new\" xlink:title=\"psysml:62ea934f-12d4-42a0-b786-a1086ef654f4\" xlink:type=\"simple\"><path d=\"M415.01,306.31 C464.34,320.82 529.17,336.23 571.21,343.1 \" fill=\"none\" id=\"E2&lt;-E3\" style=\"stroke: #383838; stroke-width: 1.0;\"/><polygon fill=\"#FFFFFF\" points=\"402.51,302.54,407.0994,308.1022,413.9988,306.0051,409.4094,300.4429,402.51,302.54\" style=\"stroke: #383838; stroke-width: 1.0;\"/></a><!--MD5=[05d275557350bfb9b23a4ef7222b4c39]\n",
       "link E3 to E2--><a href=\"psysml:72edb9ed-f456-4be1-846b-a7c4b7fb6ef3\" target=\"_top\" title=\"psysml:72edb9ed-f456-4be1-846b-a7c4b7fb6ef3\" xlink:actuate=\"onRequest\" xlink:href=\"psysml:72edb9ed-f456-4be1-846b-a7c4b7fb6ef3\" xlink:show=\"new\" xlink:title=\"psysml:72edb9ed-f456-4be1-846b-a7c4b7fb6ef3\" xlink:type=\"simple\"><path d=\"M571.21,323.25 C531.22,309.9 470.62,294.27 422.34,284.48 \" fill=\"none\" id=\"E3-&gt;E2\" style=\"stroke: #383838; stroke-width: 1.0;\"/><polygon fill=\"#FFFFFF\" points=\"402.51,280.67,422.4891,277.3781,419.8493,291.127,402.51,280.67\" style=\"stroke: #383838; stroke-width: 1.0;\"/><ellipse cx=\"427.7097\" cy=\"280.417\" fill=\"#383838\" rx=\"2\" ry=\"2\" style=\"stroke: #383838; stroke-width: 1.0;\"/><ellipse cx=\"425.8242\" cy=\"290.2376\" fill=\"#383838\" rx=\"2\" ry=\"2\" style=\"stroke: #383838; stroke-width: 1.0;\"/></a><!--MD5=[9618e71518536f8baf3342ff6fdab317]\n",
       "reverse link E2 to E4--><a href=\"psysml:1930a264-e184-4aca-ae40-6206f5d09a7f\" target=\"_top\" title=\"psysml:1930a264-e184-4aca-ae40-6206f5d09a7f\" xlink:actuate=\"onRequest\" xlink:href=\"psysml:1930a264-e184-4aca-ae40-6206f5d09a7f\" xlink:show=\"new\" xlink:title=\"psysml:1930a264-e184-4aca-ae40-6206f5d09a7f\" xlink:type=\"simple\"><path d=\"M415.64,285.44 C464.89,285.02 529.35,280.85 571.21,275.03 \" fill=\"none\" id=\"E2&lt;-E4\" style=\"stroke: #383838; stroke-width: 1.0;\"/><polygon fill=\"#383838\" points=\"402.51,285.46,408.5188,289.4468,414.51,285.4336,408.5012,281.4468,402.51,285.46\" style=\"stroke: #383838; stroke-width: 1.0;\"/></a><!--MD5=[185131fc0dcab0a4505a2ebe144e961b]\n",
       "link E4 to E2--><a href=\"psysml:32367fe5-1bb2-4952-a335-a8970d1d9f84\" target=\"_top\" title=\"psysml:32367fe5-1bb2-4952-a335-a8970d1d9f84\" xlink:actuate=\"onRequest\" xlink:href=\"psysml:32367fe5-1bb2-4952-a335-a8970d1d9f84\" xlink:show=\"new\" xlink:title=\"psysml:32367fe5-1bb2-4952-a335-a8970d1d9f84\" xlink:type=\"simple\"><path d=\"M571.21,255.19 C531.31,253.92 470.89,256.59 422.67,261.37 \" fill=\"none\" id=\"E4-&gt;E2\" style=\"stroke: #383838; stroke-width: 1.0;\"/><polygon fill=\"#FFFFFF\" points=\"402.51,263.59,420.6308,254.5546,422.1614,268.4707,402.51,263.59\" style=\"stroke: #383838; stroke-width: 1.0;\"/><ellipse cx=\"426.5153\" cy=\"255.9194\" fill=\"#383838\" rx=\"2\" ry=\"2\" style=\"stroke: #383838; stroke-width: 1.0;\"/><ellipse cx=\"427.6086\" cy=\"265.8595\" fill=\"#383838\" rx=\"2\" ry=\"2\" style=\"stroke: #383838; stroke-width: 1.0;\"/></a><!--MD5=[4e1a83fab71cdb913c109063314ae896]\n",
       "reverse link E2 to E5--><a href=\"psysml:0faf658f-4e02-48cd-849b-e0220b5d7629\" target=\"_top\" title=\"psysml:0faf658f-4e02-48cd-849b-e0220b5d7629\" xlink:actuate=\"onRequest\" xlink:href=\"psysml:0faf658f-4e02-48cd-849b-e0220b5d7629\" xlink:show=\"new\" xlink:title=\"psysml:0faf658f-4e02-48cd-849b-e0220b5d7629\" xlink:type=\"simple\"><path d=\"M415,253.28 C456.49,238.42 508.93,219.64 549.57,205.08 \" fill=\"none\" id=\"E2&lt;-E5\" style=\"stroke: #383838; stroke-width: 1.0;\"/><polygon fill=\"#383838\" points=\"402.51,257.76,409.5075,259.5022,413.807,253.7131,406.8095,251.9709,402.51,257.76\" style=\"stroke: #383838; stroke-width: 1.0;\"/></a><!--MD5=[ce036f65110ae2351ccce5a81dc2e928]\n",
       "reverse link E2 to E6--><a href=\"psysml:3f965610-dfca-4051-a1f3-35306b55574a\" target=\"_top\" title=\"psysml:3f965610-dfca-4051-a1f3-35306b55574a\" xlink:actuate=\"onRequest\" xlink:href=\"psysml:3f965610-dfca-4051-a1f3-35306b55574a\" xlink:show=\"new\" xlink:title=\"psysml:3f965610-dfca-4051-a1f3-35306b55574a\" xlink:type=\"simple\"><path d=\"M413.69,239.57 C425.94,231.44 438.22,222.44 449,213 C480.33,185.55 475.1,165.2 509,141 C518.92,133.92 530.26,127.91 541.73,122.87 \" fill=\"none\" id=\"E2&lt;-E6\" style=\"stroke: #383838; stroke-width: 1.0;\"/><polygon fill=\"#383838\" points=\"402.51,246.77,409.7202,246.8821,412.5969,240.2696,405.3866,240.1575,402.51,246.77\" style=\"stroke: #383838; stroke-width: 1.0;\"/></a><!--MD5=[3a9b96bfbf6b6ad89c494e81751bda47]\n",
       "link E5 to E7--><a href=\"psysml:5b4e0f94-bd6c-4a04-8036-e6bb7f85be93\" target=\"_top\" title=\"psysml:5b4e0f94-bd6c-4a04-8036-e6bb7f85be93\" xlink:actuate=\"onRequest\" xlink:href=\"psysml:5b4e0f94-bd6c-4a04-8036-e6bb7f85be93\" xlink:show=\"new\" xlink:title=\"psysml:5b4e0f94-bd6c-4a04-8036-e6bb7f85be93\" xlink:type=\"simple\"><path d=\"M721.25,182 C734.22,182 747.49,182 760.49,182 \" fill=\"none\" id=\"E5-&gt;E7\" style=\"stroke: #383838; stroke-width: 1.0;\"/><polygon fill=\"#FFFFFF\" points=\"780.63,182,761.63,189,761.63,175,780.63,182\" style=\"stroke: #383838; stroke-width: 1.0;\"/><ellipse cx=\"755.93\" cy=\"187\" fill=\"#383838\" rx=\"2\" ry=\"2\" style=\"stroke: #383838; stroke-width: 1.0;\"/><ellipse cx=\"755.93\" cy=\"177\" fill=\"#383838\" rx=\"2\" ry=\"2\" style=\"stroke: #383838; stroke-width: 1.0;\"/></a><!--MD5=[dc164f5e8a733ab456ef1add180e9e34]\n",
       "reverse link E7 to E8--><a href=\"psysml:37f490ca-8c9f-44ef-b281-38d91f32f2bf\" target=\"_top\" title=\"psysml:37f490ca-8c9f-44ef-b281-38d91f32f2bf\" xlink:actuate=\"onRequest\" xlink:href=\"psysml:37f490ca-8c9f-44ef-b281-38d91f32f2bf\" xlink:show=\"new\" xlink:title=\"psysml:37f490ca-8c9f-44ef-b281-38d91f32f2bf\" xlink:type=\"simple\"><path d=\"M971.18,200.18 C986.93,203.02 1002.95,205.92 1017.96,208.63 \" fill=\"none\" id=\"E7&lt;-E8\" style=\"stroke: #383838; stroke-width: 1.0;\"/><polygon fill=\"#383838\" points=\"958.04,197.81,963.238,202.8081,969.8508,199.9323,964.6528,194.9342,958.04,197.81\" style=\"stroke: #383838; stroke-width: 1.0;\"/></a><!--MD5=[e4a10ef82d0e328e31cac39a31e58dda]\n",
       "reverse link E7 to E9--><a href=\"psysml:c791e7ed-713f-4106-b9d5-0dfb97ea4543\" target=\"_top\" title=\"psysml:c791e7ed-713f-4106-b9d5-0dfb97ea4543\" xlink:actuate=\"onRequest\" xlink:href=\"psysml:c791e7ed-713f-4106-b9d5-0dfb97ea4543\" xlink:show=\"new\" xlink:title=\"psysml:c791e7ed-713f-4106-b9d5-0dfb97ea4543\" xlink:type=\"simple\"><path d=\"M971.09,163.38 C987.48,160.35 1004.17,157.26 1019.71,154.38 \" fill=\"none\" id=\"E7&lt;-E9\" style=\"stroke: #383838; stroke-width: 1.0;\"/><polygon fill=\"#383838\" points=\"958.04,165.8,964.6663,168.6446,969.8407,163.622,963.2144,160.7774,958.04,165.8\" style=\"stroke: #383838; stroke-width: 1.0;\"/></a><!--MD5=[a919e0967d6f3de553dc51b9865a1d6d]\n",
       "link E10 to E7--><a href=\"psysml:d7bf13fe-2343-4091-93b6-ccc05bfccd1c\" target=\"_top\" title=\"psysml:d7bf13fe-2343-4091-93b6-ccc05bfccd1c\" xlink:actuate=\"onRequest\" xlink:href=\"psysml:d7bf13fe-2343-4091-93b6-ccc05bfccd1c\" xlink:show=\"new\" xlink:title=\"psysml:d7bf13fe-2343-4091-93b6-ccc05bfccd1c\" xlink:type=\"simple\"><path d=\"M176.21,198.02 C249.67,218.13 366.67,236.81 449,185 C501.16,152.18 456.84,92.82 509,60 C588.75,9.82 632.35,28.09 721,60 C767.04,76.57 808.91,114.44 836.18,143.62 \" fill=\"none\" id=\"E10-&gt;E7\" style=\"stroke: #383838; stroke-width: 1.0;\"/><polygon fill=\"#FFFFFF\" points=\"849.76,158.75,831.8607,149.2835,842.2807,139.9335,849.76,158.75\" style=\"stroke: #383838; stroke-width: 1.0;\"/><ellipse cx=\"829.5424\" cy=\"143.7054\" fill=\"#383838\" rx=\"2\" ry=\"2\" style=\"stroke: #383838; stroke-width: 1.0;\"/><ellipse cx=\"836.9853\" cy=\"137.0268\" fill=\"#383838\" rx=\"2\" ry=\"2\" style=\"stroke: #383838; stroke-width: 1.0;\"/></a><!--MD5=[0f36bececdf0dff6e600d6f64214b0f1]\n",
       "link E10 to E2--><a href=\"psysml:65e23dda-2765-4b86-8b8c-165f4272381c\" target=\"_top\" title=\"psysml:65e23dda-2765-4b86-8b8c-165f4272381c\" xlink:actuate=\"onRequest\" xlink:href=\"psysml:65e23dda-2765-4b86-8b8c-165f4272381c\" xlink:show=\"new\" xlink:title=\"psysml:65e23dda-2765-4b86-8b8c-165f4272381c\" xlink:type=\"simple\"><path d=\"M160.58,198.12 C192.55,212.04 233.78,230 269.04,245.35 \" fill=\"none\" id=\"E10-&gt;E2\" style=\"stroke: #383838; stroke-width: 1.0;\"/><polygon fill=\"#FFFFFF\" points=\"287.39,253.34,267.1751,252.1739,272.7635,239.3376,287.39,253.34\" style=\"stroke: #383838; stroke-width: 1.0;\"/><ellipse cx=\"262.7473\" cy=\"248.0649\" fill=\"#383838\" rx=\"2\" ry=\"2\" style=\"stroke: #383838; stroke-width: 1.0;\"/><ellipse cx=\"266.739\" cy=\"238.8961\" fill=\"#383838\" rx=\"2\" ry=\"2\" style=\"stroke: #383838; stroke-width: 1.0;\"/></a><!--MD5=[de308be4a2431766a05a907a031c07fc]\n",
       "reverse link E10 to E11--><a href=\"psysml:996a22eb-9701-44d5-9cb6-35ae83d4d1b1\" target=\"_top\" title=\"psysml:996a22eb-9701-44d5-9cb6-35ae83d4d1b1\" xlink:actuate=\"onRequest\" xlink:href=\"psysml:996a22eb-9701-44d5-9cb6-35ae83d4d1b1\" xlink:show=\"new\" xlink:title=\"psysml:996a22eb-9701-44d5-9cb6-35ae83d4d1b1\" xlink:type=\"simple\"><path d=\"M194.17,164.01 C218.95,160.86 245.73,157.47 269.7,154.43 \" fill=\"none\" id=\"E10&lt;-E11\" style=\"stroke: #383838; stroke-width: 1.0;\"/><polygon fill=\"#383838\" points=\"181.03,165.67,187.4838,168.887,192.9355,164.167,186.4817,160.95,181.03,165.67\" style=\"stroke: #383838; stroke-width: 1.0;\"/></a><!--MD5=[1d54f998c6d5961a1a9184be73a7eb6c]\n",
       "reverse link E10 to E12--><a href=\"psysml:da3311a8-2759-47ea-b229-fd34ee887055\" target=\"_top\" title=\"psysml:da3311a8-2759-47ea-b229-fd34ee887055\" xlink:actuate=\"onRequest\" xlink:href=\"psysml:da3311a8-2759-47ea-b229-fd34ee887055\" xlink:show=\"new\" xlink:title=\"psysml:da3311a8-2759-47ea-b229-fd34ee887055\" xlink:type=\"simple\"><path d=\"M159.31,145.61 C183.75,132.22 213.52,116.59 241,104 C253.82,98.13 267.77,92.33 281.14,87.05 \" fill=\"none\" id=\"E10&lt;-E12\" style=\"stroke: #383838; stroke-width: 1.0;\"/><polygon fill=\"#383838\" points=\"147.77,151.98,154.9559,152.5819,158.2754,146.1803,151.0895,145.5783,147.77,151.98\" style=\"stroke: #383838; stroke-width: 1.0;\"/></a><!--MD5=[4a48077df6499cfcd20b62e8f5f37904]\n",
       "link E13 to E7--><a href=\"psysml:fb78d99f-0705-4d43-aabd-2eaf1ce47389\" target=\"_top\" title=\"psysml:fb78d99f-0705-4d43-aabd-2eaf1ce47389\" xlink:actuate=\"onRequest\" xlink:href=\"psysml:fb78d99f-0705-4d43-aabd-2eaf1ce47389\" xlink:show=\"new\" xlink:title=\"psysml:fb78d99f-0705-4d43-aabd-2eaf1ce47389\" xlink:type=\"simple\"><path d=\"M690.86,401.92 C701.52,396.92 711.93,390.98 721,384 C778.07,340.05 823.11,268.25 847.75,223.14 \" fill=\"none\" id=\"E13-&gt;E7\" style=\"stroke: #383838; stroke-width: 1.0;\"/><polygon fill=\"#FFFFFF\" points=\"857.18,205.32,854.4752,225.387,842.1026,218.8356,857.18,205.32\" style=\"stroke: #383838; stroke-width: 1.0;\"/><ellipse cx=\"850.0403\" cy=\"229.4885\" fill=\"#383838\" rx=\"2\" ry=\"2\" style=\"stroke: #383838; stroke-width: 1.0;\"/><ellipse cx=\"841.2028\" cy=\"224.8089\" fill=\"#383838\" rx=\"2\" ry=\"2\" style=\"stroke: #383838; stroke-width: 1.0;\"/></a><!--MD5=[211b5806d30735f88fd26e0e8fd810e7]\n",
       "@startuml\r\n",
       "left to right direction\r\n",
       "skinparam monochrome true\r\n",
       "skinparam classbackgroundcolor white\r\n",
       "skinparam shadowing false\r\n",
       "skinparam wrapWidth 300\r\n",
       "hide circle\r\n",
       "\r\n",
       "package \"OccurrenceTest\" as E1  [[psysml:76f03fcf-c31b-4704-ae9e-b44a23fd6ebe ]]  {\r\n",
       "comp def \"Occ\" as E2  <<(T,blue) occurrence  def>> [[psysml:eaa0b96d-7da2-44a7-b980-6b6f36747918 ]] {\r\n",
       "- - attributes - -\r\n",
       "a\r\n",
       "}\r\n",
       "comp usage \"occ1: Occ \" as E3  <<(T,blue) occurrence>> [[psysml:87fca259-1c14-4b5b-983e-37895f6ff77b ]] {\r\n",
       "}\r\n",
       "comp usage \"occ2: Occ \" as E4  <<(T,blue) occurrence>> [[psysml:ffd2f288-180d-4271-8880-cf9706207ba2 ]] {\r\n",
       "}\r\n",
       "comp usage \"s: Ind \" as E5  <<(T,blue) individual snapshot occurrence>> [[psysml:4e1769cc-a186-417e-91f0-587d1f1196e7 ]] {\r\n",
       "}\r\n",
       "comp usage \"t \" as E6  <<(T,blue) timeslice occurrence>> [[psysml:9c61ac47-8b4e-45e2-802a-f3aa096140c4 ]] {\r\n",
       "}\r\n",
       "comp def \"Ind\" as E7  <<(T,blue) individual occurrence  def>> [[psysml:54e4af67-f268-48a3-80b8-bc1579f32c01 ]] {\r\n",
       "}\r\n",
       "comp usage \"s2 \" as E8  <<(T,blue) snapshot occurrence>> [[psysml:bfc31472-e77d-4111-949c-57e124b09868 ]] {\r\n",
       "}\r\n",
       "comp usage \"t2 \" as E9  <<(T,blue) timeslice occurrence>> [[psysml:25521b86-d75d-41e6-9d0e-592064bc2653 ]] {\r\n",
       "}\r\n",
       "comp usage \"ind: Ind, Occ \" as E10  <<(T,blue) individual occurrence>> [[psysml:ec83ca81-a881-4da3-97a0-46e2b6aae84c ]] {\r\n",
       "}\r\n",
       "comp usage \"s3 \" as E11  <<(T,blue) snapshot occurrence>> [[psysml:fe74329f-5d2b-4ebe-b106-a7ecca7a6fbd ]] {\r\n",
       "}\r\n",
       "comp usage \"t3 \" as E12  <<(T,blue) individual timeslice occurrence>> [[psysml:6925098a-d5ed-431f-aaf1-d453853f914b ]] {\r\n",
       "}\r\n",
       "comp usage \"s4: Ind \" as E13  <<(T,blue) individual snapshot occurrence>> [[psysml:4e4d3416-6ae1-42d7-bc86-2084c913e314 ]] {\r\n",
       "}\r\n",
       "}\r\n",
       "E2 o- - E3 [[psysml:62ea934f-12d4-42a0-b786-a1086ef654f4 ]] \r\n",
       "E3 - -:|> E2 [[psysml:72edb9ed-f456-4be1-846b-a7c4b7fb6ef3 ]] \r\n",
       "E2 *- - E4 [[psysml:1930a264-e184-4aca-ae40-6206f5d09a7f ]] \r\n",
       "E4 - -:|> E2 [[psysml:32367fe5-1bb2-4952-a335-a8970d1d9f84 ]] \r\n",
       "E2 *- - E5 [[psysml:0faf658f-4e02-48cd-849b-e0220b5d7629 ]] \r\n",
       "E2 *- - E6 [[psysml:3f965610-dfca-4051-a1f3-35306b55574a ]] \r\n",
       "E5 - -:|> E7 [[psysml:5b4e0f94-bd6c-4a04-8036-e6bb7f85be93 ]] \r\n",
       "E7 *- - E8 [[psysml:37f490ca-8c9f-44ef-b281-38d91f32f2bf ]] \r\n",
       "E7 *- - E9 [[psysml:c791e7ed-713f-4106-b9d5-0dfb97ea4543 ]] \r\n",
       "E10 - -:|> E7 [[psysml:d7bf13fe-2343-4091-93b6-ccc05bfccd1c ]] \r\n",
       "E10 - -:|> E2 [[psysml:65e23dda-2765-4b86-8b8c-165f4272381c ]] \r\n",
       "E10 *- - E11 [[psysml:996a22eb-9701-44d5-9cb6-35ae83d4d1b1 ]] \r\n",
       "E10 *- - E12 [[psysml:da3311a8-2759-47ea-b229-fd34ee887055 ]] \r\n",
       "E13 - -:|> E7 [[psysml:fb78d99f-0705-4d43-aabd-2eaf1ce47389 ]] \r\n",
       "@enduml\r\n",
       "\n",
       "PlantUML version 1.2020.13(Sat Jun 13 12:26:38 UTC 2020)\n",
       "(EPL source distribution)\n",
       "Java Runtime: OpenJDK Runtime Environment\n",
       "JVM: OpenJDK 64-Bit Server VM\n",
       "Default Encoding: UTF-8\n",
       "Language: en\n",
       "Country: null\n",
       "--></g></svg>"
      ]
     },
     "execution_count": 16,
     "metadata": {},
     "output_type": "execute_result"
    }
   ],
   "source": [
    "%viz --style=\"LR\" --view=\"Default\" \"OccurrenceTest\""
   ]
  },
  {
   "cell_type": "code",
   "execution_count": 17,
   "id": "9008c429",
   "metadata": {
    "execution": {
     "iopub.execute_input": "2022-02-18T10:48:37.186439Z",
     "iopub.status.busy": "2022-02-18T10:48:37.186012Z",
     "iopub.status.idle": "2022-02-18T10:48:37.249910Z",
     "shell.execute_reply": "2022-02-18T10:48:37.249541Z"
    }
   },
   "outputs": [
    {
     "data": {
      "image/svg+xml": [
       "<?xml version=\"1.0\" encoding=\"UTF-8\" standalone=\"no\"?><svg xmlns=\"http://www.w3.org/2000/svg\" xmlns:xlink=\"http://www.w3.org/1999/xlink\" contentScriptType=\"application/ecmascript\" contentStyleType=\"text/css\" height=\"476px\" preserveAspectRatio=\"none\" style=\"width:1206px;height:476px;\" version=\"1.1\" viewBox=\"0 0 1206 476\" width=\"1206px\" zoomAndPan=\"magnify\"><defs/><g><!--MD5=[fbc87193dbaf4d95561dea2c320d4a47]\n",
       "cluster E1--><a href=\"psysml:76f03fcf-c31b-4704-ae9e-b44a23fd6ebe\" target=\"_top\" title=\"psysml:76f03fcf-c31b-4704-ae9e-b44a23fd6ebe\" xlink:actuate=\"onRequest\" xlink:href=\"psysml:76f03fcf-c31b-4704-ae9e-b44a23fd6ebe\" xlink:show=\"new\" xlink:title=\"psysml:76f03fcf-c31b-4704-ae9e-b44a23fd6ebe\" xlink:type=\"simple\"><polygon fill=\"#FFFFFF\" points=\"16,6,134,6,141,28.2969,1184,28.2969,1184,464,16,464,16,6\" style=\"stroke: #000000; stroke-width: 1.5;\"/><line style=\"stroke: #000000; stroke-width: 1.5;\" x1=\"16\" x2=\"141\" y1=\"28.2969\" y2=\"28.2969\"/><text fill=\"#000000\" font-family=\"sans-serif\" font-size=\"14\" font-weight=\"bold\" lengthAdjust=\"spacingAndGlyphs\" textLength=\"112\" x=\"20\" y=\"20.9951\">OccurrenceTest</text></a><!--MD5=[b4997ac47864f28c2f74865a473b2911]\n",
       "class E2--><a href=\"psysml:eaa0b96d-7da2-44a7-b980-6b6f36747918\" target=\"_top\" title=\"psysml:eaa0b96d-7da2-44a7-b980-6b6f36747918\" xlink:actuate=\"onRequest\" xlink:href=\"psysml:eaa0b96d-7da2-44a7-b980-6b6f36747918\" xlink:show=\"new\" xlink:title=\"psysml:eaa0b96d-7da2-44a7-b980-6b6f36747918\" xlink:type=\"simple\"><rect fill=\"#FFFFFF\" height=\"75.5469\" id=\"E2\" style=\"stroke: #383838; stroke-width: 1.5;\" width=\"115\" x=\"287.5\" y=\"240\"/><text fill=\"#000000\" font-family=\"sans-serif\" font-size=\"12\" font-style=\"italic\" lengthAdjust=\"spacingAndGlyphs\" textLength=\"113\" x=\"288.5\" y=\"256.1387\">«occurrence  def»</text><text fill=\"#000000\" font-family=\"sans-serif\" font-size=\"12\" lengthAdjust=\"spacingAndGlyphs\" textLength=\"23\" x=\"333.5\" y=\"270.1074\">Occ</text><line style=\"stroke: #383838; stroke-width: 1.5;\" x1=\"288.5\" x2=\"401.5\" y1=\"277.9375\" y2=\"277.9375\"/><text fill=\"#000000\" font-family=\"sans-serif\" font-size=\"11\" lengthAdjust=\"spacingAndGlyphs\" textLength=\"7\" x=\"293.5\" y=\"308.9526\">a</text><line style=\"stroke: #383838; stroke-width: 1.0;\" x1=\"288.5\" x2=\"317.5\" y1=\"292.3398\" y2=\"292.3398\"/><text fill=\"#000000\" font-family=\"sans-serif\" font-size=\"11\" lengthAdjust=\"spacingAndGlyphs\" textLength=\"55\" x=\"317.5\" y=\"295.6479\">attributes</text><line style=\"stroke: #383838; stroke-width: 1.0;\" x1=\"372.5\" x2=\"401.5\" y1=\"292.3398\" y2=\"292.3398\"/></a><!--MD5=[09b614a08d8cba4a07c9adeb5e0fee81]\n",
       "class E3--><a href=\"psysml:87fca259-1c14-4b5b-983e-37895f6ff77b\" target=\"_top\" title=\"psysml:87fca259-1c14-4b5b-983e-37895f6ff77b\" xlink:actuate=\"onRequest\" xlink:href=\"psysml:87fca259-1c14-4b5b-983e-37895f6ff77b\" xlink:show=\"new\" xlink:title=\"psysml:87fca259-1c14-4b5b-983e-37895f6ff77b\" xlink:type=\"simple\"><rect fill=\"#FFFFFF\" height=\"45.9375\" id=\"E3\" rx=\"10\" ry=\"10\" style=\"stroke: #383838; stroke-width: 1.5;\" width=\"87\" x=\"571.5\" y=\"321\"/><text fill=\"#000000\" font-family=\"sans-serif\" font-size=\"12\" font-style=\"italic\" lengthAdjust=\"spacingAndGlyphs\" textLength=\"85\" x=\"572.5\" y=\"337.1387\">«occurrence»</text><text fill=\"#000000\" font-family=\"sans-serif\" font-size=\"12\" lengthAdjust=\"spacingAndGlyphs\" textLength=\"61\" x=\"582.5\" y=\"351.1074\">occ1: Occ</text><line style=\"stroke: #383838; stroke-width: 1.5;\" x1=\"572.5\" x2=\"657.5\" y1=\"358.9375\" y2=\"358.9375\"/></a><!--MD5=[ebbe1d658d1005bcc118a6aa81145e00]\n",
       "class E4--><a href=\"psysml:ffd2f288-180d-4271-8880-cf9706207ba2\" target=\"_top\" title=\"psysml:ffd2f288-180d-4271-8880-cf9706207ba2\" xlink:actuate=\"onRequest\" xlink:href=\"psysml:ffd2f288-180d-4271-8880-cf9706207ba2\" xlink:show=\"new\" xlink:title=\"psysml:ffd2f288-180d-4271-8880-cf9706207ba2\" xlink:type=\"simple\"><rect fill=\"#FFFFFF\" height=\"45.9375\" id=\"E4\" rx=\"10\" ry=\"10\" style=\"stroke: #383838; stroke-width: 1.5;\" width=\"87\" x=\"571.5\" y=\"240\"/><text fill=\"#000000\" font-family=\"sans-serif\" font-size=\"12\" font-style=\"italic\" lengthAdjust=\"spacingAndGlyphs\" textLength=\"85\" x=\"572.5\" y=\"256.1387\">«occurrence»</text><text fill=\"#000000\" font-family=\"sans-serif\" font-size=\"12\" lengthAdjust=\"spacingAndGlyphs\" textLength=\"61\" x=\"582.5\" y=\"270.1074\">occ2: Occ</text><line style=\"stroke: #383838; stroke-width: 1.5;\" x1=\"572.5\" x2=\"657.5\" y1=\"277.9375\" y2=\"277.9375\"/></a><!--MD5=[270fce915f116d4de14055a7c1d9a0f3]\n",
       "class E5--><a href=\"psysml:4e1769cc-a186-417e-91f0-587d1f1196e7\" target=\"_top\" title=\"psysml:4e1769cc-a186-417e-91f0-587d1f1196e7\" xlink:actuate=\"onRequest\" xlink:href=\"psysml:4e1769cc-a186-417e-91f0-587d1f1196e7\" xlink:show=\"new\" xlink:title=\"psysml:4e1769cc-a186-417e-91f0-587d1f1196e7\" xlink:type=\"simple\"><rect fill=\"#FFFFFF\" height=\"45.9375\" id=\"E5\" rx=\"10\" ry=\"10\" style=\"stroke: #383838; stroke-width: 1.5;\" width=\"212\" x=\"509\" y=\"159\"/><text fill=\"#000000\" font-family=\"sans-serif\" font-size=\"12\" font-style=\"italic\" lengthAdjust=\"spacingAndGlyphs\" textLength=\"210\" x=\"510\" y=\"175.1387\">«individual snapshot occurrence»</text><text fill=\"#000000\" font-family=\"sans-serif\" font-size=\"12\" lengthAdjust=\"spacingAndGlyphs\" textLength=\"34\" x=\"596\" y=\"189.1074\">s: Ind</text><line style=\"stroke: #383838; stroke-width: 1.5;\" x1=\"510\" x2=\"720\" y1=\"196.9375\" y2=\"196.9375\"/></a><!--MD5=[60a26617385b1d2d0262a64233df1f8d]\n",
       "class E6--><a href=\"psysml:9c61ac47-8b4e-45e2-802a-f3aa096140c4\" target=\"_top\" title=\"psysml:9c61ac47-8b4e-45e2-802a-f3aa096140c4\" xlink:actuate=\"onRequest\" xlink:href=\"psysml:9c61ac47-8b4e-45e2-802a-f3aa096140c4\" xlink:show=\"new\" xlink:title=\"psysml:9c61ac47-8b4e-45e2-802a-f3aa096140c4\" xlink:type=\"simple\"><rect fill=\"#FFFFFF\" height=\"45.9375\" id=\"E6\" rx=\"10\" ry=\"10\" style=\"stroke: #383838; stroke-width: 1.5;\" width=\"146\" x=\"542\" y=\"78\"/><text fill=\"#000000\" font-family=\"sans-serif\" font-size=\"12\" font-style=\"italic\" lengthAdjust=\"spacingAndGlyphs\" textLength=\"144\" x=\"543\" y=\"94.1387\">«timeslice occurrence»</text><text fill=\"#000000\" font-family=\"sans-serif\" font-size=\"12\" lengthAdjust=\"spacingAndGlyphs\" textLength=\"5\" x=\"610.5\" y=\"108.1074\">t</text><line style=\"stroke: #383838; stroke-width: 1.5;\" x1=\"543\" x2=\"687\" y1=\"115.9375\" y2=\"115.9375\"/></a><!--MD5=[2156ba9850f5573cc1fc38a6a4b2f02b]\n",
       "class E7--><a href=\"psysml:54e4af67-f268-48a3-80b8-bc1579f32c01\" target=\"_top\" title=\"psysml:54e4af67-f268-48a3-80b8-bc1579f32c01\" xlink:actuate=\"onRequest\" xlink:href=\"psysml:54e4af67-f268-48a3-80b8-bc1579f32c01\" xlink:show=\"new\" xlink:title=\"psysml:54e4af67-f268-48a3-80b8-bc1579f32c01\" xlink:type=\"simple\"><rect fill=\"#FFFFFF\" height=\"45.9375\" id=\"E7\" style=\"stroke: #383838; stroke-width: 1.5;\" width=\"177\" x=\"781\" y=\"159\"/><text fill=\"#000000\" font-family=\"sans-serif\" font-size=\"12\" font-style=\"italic\" lengthAdjust=\"spacingAndGlyphs\" textLength=\"175\" x=\"782\" y=\"175.1387\">«individual occurrence  def»</text><text fill=\"#000000\" font-family=\"sans-serif\" font-size=\"12\" lengthAdjust=\"spacingAndGlyphs\" textLength=\"19\" x=\"860\" y=\"189.1074\">Ind</text><line style=\"stroke: #383838; stroke-width: 1.5;\" x1=\"782\" x2=\"957\" y1=\"196.9375\" y2=\"196.9375\"/></a><!--MD5=[b9389687b975829384b498ac4b7476b2]\n",
       "class E8--><a href=\"psysml:bfc31472-e77d-4111-949c-57e124b09868\" target=\"_top\" title=\"psysml:bfc31472-e77d-4111-949c-57e124b09868\" xlink:actuate=\"onRequest\" xlink:href=\"psysml:bfc31472-e77d-4111-949c-57e124b09868\" xlink:show=\"new\" xlink:title=\"psysml:bfc31472-e77d-4111-949c-57e124b09868\" xlink:type=\"simple\"><rect fill=\"#FFFFFF\" height=\"45.9375\" id=\"E8\" rx=\"10\" ry=\"10\" style=\"stroke: #383838; stroke-width: 1.5;\" width=\"150\" x=\"1018\" y=\"199\"/><text fill=\"#000000\" font-family=\"sans-serif\" font-size=\"12\" font-style=\"italic\" lengthAdjust=\"spacingAndGlyphs\" textLength=\"148\" x=\"1019\" y=\"215.1387\">«snapshot occurrence»</text><text fill=\"#000000\" font-family=\"sans-serif\" font-size=\"12\" lengthAdjust=\"spacingAndGlyphs\" textLength=\"15\" x=\"1083.5\" y=\"229.1074\">s2</text><line style=\"stroke: #383838; stroke-width: 1.5;\" x1=\"1019\" x2=\"1167\" y1=\"236.9375\" y2=\"236.9375\"/></a><!--MD5=[fd4143e9d270a159db93a4ea2a975926]\n",
       "class E9--><a href=\"psysml:25521b86-d75d-41e6-9d0e-592064bc2653\" target=\"_top\" title=\"psysml:25521b86-d75d-41e6-9d0e-592064bc2653\" xlink:actuate=\"onRequest\" xlink:href=\"psysml:25521b86-d75d-41e6-9d0e-592064bc2653\" xlink:show=\"new\" xlink:title=\"psysml:25521b86-d75d-41e6-9d0e-592064bc2653\" xlink:type=\"simple\"><rect fill=\"#FFFFFF\" height=\"45.9375\" id=\"E9\" rx=\"10\" ry=\"10\" style=\"stroke: #383838; stroke-width: 1.5;\" width=\"146\" x=\"1020\" y=\"118\"/><text fill=\"#000000\" font-family=\"sans-serif\" font-size=\"12\" font-style=\"italic\" lengthAdjust=\"spacingAndGlyphs\" textLength=\"144\" x=\"1021\" y=\"134.1387\">«timeslice occurrence»</text><text fill=\"#000000\" font-family=\"sans-serif\" font-size=\"12\" lengthAdjust=\"spacingAndGlyphs\" textLength=\"13\" x=\"1084.5\" y=\"148.1074\">t2</text><line style=\"stroke: #383838; stroke-width: 1.5;\" x1=\"1021\" x2=\"1165\" y1=\"155.9375\" y2=\"155.9375\"/></a><!--MD5=[96f4274e9e20536e775497830990834d]\n",
       "class E10--><a href=\"psysml:ec83ca81-a881-4da3-97a0-46e2b6aae84c\" target=\"_top\" title=\"psysml:ec83ca81-a881-4da3-97a0-46e2b6aae84c\" xlink:actuate=\"onRequest\" xlink:href=\"psysml:ec83ca81-a881-4da3-97a0-46e2b6aae84c\" xlink:show=\"new\" xlink:title=\"psysml:ec83ca81-a881-4da3-97a0-46e2b6aae84c\" xlink:type=\"simple\"><rect fill=\"#FFFFFF\" height=\"45.9375\" id=\"E10\" rx=\"10\" ry=\"10\" style=\"stroke: #383838; stroke-width: 1.5;\" width=\"149\" x=\"32\" y=\"152\"/><text fill=\"#000000\" font-family=\"sans-serif\" font-size=\"12\" font-style=\"italic\" lengthAdjust=\"spacingAndGlyphs\" textLength=\"147\" x=\"33\" y=\"168.1387\">«individual occurrence»</text><text fill=\"#000000\" font-family=\"sans-serif\" font-size=\"12\" lengthAdjust=\"spacingAndGlyphs\" textLength=\"77\" x=\"66\" y=\"182.1074\">ind: Ind, Occ</text><line style=\"stroke: #383838; stroke-width: 1.5;\" x1=\"33\" x2=\"180\" y1=\"189.9375\" y2=\"189.9375\"/></a><!--MD5=[1dd1bfd58a279cf63c5f349dbc8fc6a1]\n",
       "class E11--><a href=\"psysml:fe74329f-5d2b-4ebe-b106-a7ecca7a6fbd\" target=\"_top\" title=\"psysml:fe74329f-5d2b-4ebe-b106-a7ecca7a6fbd\" xlink:actuate=\"onRequest\" xlink:href=\"psysml:fe74329f-5d2b-4ebe-b106-a7ecca7a6fbd\" xlink:show=\"new\" xlink:title=\"psysml:fe74329f-5d2b-4ebe-b106-a7ecca7a6fbd\" xlink:type=\"simple\"><rect fill=\"#FFFFFF\" height=\"45.9375\" id=\"E11\" rx=\"10\" ry=\"10\" style=\"stroke: #383838; stroke-width: 1.5;\" width=\"150\" x=\"270\" y=\"122\"/><text fill=\"#000000\" font-family=\"sans-serif\" font-size=\"12\" font-style=\"italic\" lengthAdjust=\"spacingAndGlyphs\" textLength=\"148\" x=\"271\" y=\"138.1387\">«snapshot occurrence»</text><text fill=\"#000000\" font-family=\"sans-serif\" font-size=\"12\" lengthAdjust=\"spacingAndGlyphs\" textLength=\"15\" x=\"335.5\" y=\"152.1074\">s3</text><line style=\"stroke: #383838; stroke-width: 1.5;\" x1=\"271\" x2=\"419\" y1=\"159.9375\" y2=\"159.9375\"/></a><!--MD5=[49a0ec8f00dab7302a31f22d0f0fe584]\n",
       "class E12--><a href=\"psysml:6925098a-d5ed-431f-aaf1-d453853f914b\" target=\"_top\" title=\"psysml:6925098a-d5ed-431f-aaf1-d453853f914b\" xlink:actuate=\"onRequest\" xlink:href=\"psysml:6925098a-d5ed-431f-aaf1-d453853f914b\" xlink:show=\"new\" xlink:title=\"psysml:6925098a-d5ed-431f-aaf1-d453853f914b\" xlink:type=\"simple\"><rect fill=\"#FFFFFF\" height=\"45.9375\" id=\"E12\" rx=\"10\" ry=\"10\" style=\"stroke: #383838; stroke-width: 1.5;\" width=\"208\" x=\"241\" y=\"41\"/><text fill=\"#000000\" font-family=\"sans-serif\" font-size=\"12\" font-style=\"italic\" lengthAdjust=\"spacingAndGlyphs\" textLength=\"206\" x=\"242\" y=\"57.1387\">«individual timeslice occurrence»</text><text fill=\"#000000\" font-family=\"sans-serif\" font-size=\"12\" lengthAdjust=\"spacingAndGlyphs\" textLength=\"13\" x=\"336.5\" y=\"71.1074\">t3</text><line style=\"stroke: #383838; stroke-width: 1.5;\" x1=\"242\" x2=\"448\" y1=\"78.9375\" y2=\"78.9375\"/></a><!--MD5=[ee3c913d1a06f366521f9ef512b67efe]\n",
       "class E13--><a href=\"psysml:4e4d3416-6ae1-42d7-bc86-2084c913e314\" target=\"_top\" title=\"psysml:4e4d3416-6ae1-42d7-bc86-2084c913e314\" xlink:actuate=\"onRequest\" xlink:href=\"psysml:4e4d3416-6ae1-42d7-bc86-2084c913e314\" xlink:show=\"new\" xlink:title=\"psysml:4e4d3416-6ae1-42d7-bc86-2084c913e314\" xlink:type=\"simple\"><rect fill=\"#FFFFFF\" height=\"45.9375\" id=\"E13\" rx=\"10\" ry=\"10\" style=\"stroke: #383838; stroke-width: 1.5;\" width=\"212\" x=\"509\" y=\"402\"/><text fill=\"#000000\" font-family=\"sans-serif\" font-size=\"12\" font-style=\"italic\" lengthAdjust=\"spacingAndGlyphs\" textLength=\"210\" x=\"510\" y=\"418.1387\">«individual snapshot occurrence»</text><text fill=\"#000000\" font-family=\"sans-serif\" font-size=\"12\" lengthAdjust=\"spacingAndGlyphs\" textLength=\"42\" x=\"592\" y=\"432.1074\">s4: Ind</text><line style=\"stroke: #383838; stroke-width: 1.5;\" x1=\"510\" x2=\"720\" y1=\"439.9375\" y2=\"439.9375\"/></a><!--MD5=[209b3feb70ccb6233bfe1053d122c12c]\n",
       "reverse link E2 to E3--><a href=\"psysml:62ea934f-12d4-42a0-b786-a1086ef654f4\" target=\"_top\" title=\"psysml:62ea934f-12d4-42a0-b786-a1086ef654f4\" xlink:actuate=\"onRequest\" xlink:href=\"psysml:62ea934f-12d4-42a0-b786-a1086ef654f4\" xlink:show=\"new\" xlink:title=\"psysml:62ea934f-12d4-42a0-b786-a1086ef654f4\" xlink:type=\"simple\"><path d=\"M415.01,306.31 C464.34,320.82 529.17,336.23 571.21,343.1 \" fill=\"none\" id=\"E2&lt;-E3\" style=\"stroke: #383838; stroke-width: 1.0;\"/><polygon fill=\"#FFFFFF\" points=\"402.51,302.54,407.0994,308.1022,413.9988,306.0051,409.4094,300.4429,402.51,302.54\" style=\"stroke: #383838; stroke-width: 1.0;\"/></a><!--MD5=[05d275557350bfb9b23a4ef7222b4c39]\n",
       "link E3 to E2--><a href=\"psysml:72edb9ed-f456-4be1-846b-a7c4b7fb6ef3\" target=\"_top\" title=\"psysml:72edb9ed-f456-4be1-846b-a7c4b7fb6ef3\" xlink:actuate=\"onRequest\" xlink:href=\"psysml:72edb9ed-f456-4be1-846b-a7c4b7fb6ef3\" xlink:show=\"new\" xlink:title=\"psysml:72edb9ed-f456-4be1-846b-a7c4b7fb6ef3\" xlink:type=\"simple\"><path d=\"M571.21,323.25 C531.22,309.9 470.62,294.27 422.34,284.48 \" fill=\"none\" id=\"E3-&gt;E2\" style=\"stroke: #383838; stroke-width: 1.0;\"/><polygon fill=\"#FFFFFF\" points=\"402.51,280.67,422.4891,277.3781,419.8493,291.127,402.51,280.67\" style=\"stroke: #383838; stroke-width: 1.0;\"/><ellipse cx=\"427.7097\" cy=\"280.417\" fill=\"#383838\" rx=\"2\" ry=\"2\" style=\"stroke: #383838; stroke-width: 1.0;\"/><ellipse cx=\"425.8242\" cy=\"290.2376\" fill=\"#383838\" rx=\"2\" ry=\"2\" style=\"stroke: #383838; stroke-width: 1.0;\"/></a><!--MD5=[9618e71518536f8baf3342ff6fdab317]\n",
       "reverse link E2 to E4--><a href=\"psysml:1930a264-e184-4aca-ae40-6206f5d09a7f\" target=\"_top\" title=\"psysml:1930a264-e184-4aca-ae40-6206f5d09a7f\" xlink:actuate=\"onRequest\" xlink:href=\"psysml:1930a264-e184-4aca-ae40-6206f5d09a7f\" xlink:show=\"new\" xlink:title=\"psysml:1930a264-e184-4aca-ae40-6206f5d09a7f\" xlink:type=\"simple\"><path d=\"M415.64,285.44 C464.89,285.02 529.35,280.85 571.21,275.03 \" fill=\"none\" id=\"E2&lt;-E4\" style=\"stroke: #383838; stroke-width: 1.0;\"/><polygon fill=\"#383838\" points=\"402.51,285.46,408.5188,289.4468,414.51,285.4336,408.5012,281.4468,402.51,285.46\" style=\"stroke: #383838; stroke-width: 1.0;\"/></a><!--MD5=[185131fc0dcab0a4505a2ebe144e961b]\n",
       "link E4 to E2--><a href=\"psysml:32367fe5-1bb2-4952-a335-a8970d1d9f84\" target=\"_top\" title=\"psysml:32367fe5-1bb2-4952-a335-a8970d1d9f84\" xlink:actuate=\"onRequest\" xlink:href=\"psysml:32367fe5-1bb2-4952-a335-a8970d1d9f84\" xlink:show=\"new\" xlink:title=\"psysml:32367fe5-1bb2-4952-a335-a8970d1d9f84\" xlink:type=\"simple\"><path d=\"M571.21,255.19 C531.31,253.92 470.89,256.59 422.67,261.37 \" fill=\"none\" id=\"E4-&gt;E2\" style=\"stroke: #383838; stroke-width: 1.0;\"/><polygon fill=\"#FFFFFF\" points=\"402.51,263.59,420.6308,254.5546,422.1614,268.4707,402.51,263.59\" style=\"stroke: #383838; stroke-width: 1.0;\"/><ellipse cx=\"426.5153\" cy=\"255.9194\" fill=\"#383838\" rx=\"2\" ry=\"2\" style=\"stroke: #383838; stroke-width: 1.0;\"/><ellipse cx=\"427.6086\" cy=\"265.8595\" fill=\"#383838\" rx=\"2\" ry=\"2\" style=\"stroke: #383838; stroke-width: 1.0;\"/></a><!--MD5=[4e1a83fab71cdb913c109063314ae896]\n",
       "reverse link E2 to E5--><a href=\"psysml:0faf658f-4e02-48cd-849b-e0220b5d7629\" target=\"_top\" title=\"psysml:0faf658f-4e02-48cd-849b-e0220b5d7629\" xlink:actuate=\"onRequest\" xlink:href=\"psysml:0faf658f-4e02-48cd-849b-e0220b5d7629\" xlink:show=\"new\" xlink:title=\"psysml:0faf658f-4e02-48cd-849b-e0220b5d7629\" xlink:type=\"simple\"><path d=\"M415,253.28 C456.49,238.42 508.93,219.64 549.57,205.08 \" fill=\"none\" id=\"E2&lt;-E5\" style=\"stroke: #383838; stroke-width: 1.0;\"/><polygon fill=\"#383838\" points=\"402.51,257.76,409.5075,259.5022,413.807,253.7131,406.8095,251.9709,402.51,257.76\" style=\"stroke: #383838; stroke-width: 1.0;\"/></a><!--MD5=[ce036f65110ae2351ccce5a81dc2e928]\n",
       "reverse link E2 to E6--><a href=\"psysml:3f965610-dfca-4051-a1f3-35306b55574a\" target=\"_top\" title=\"psysml:3f965610-dfca-4051-a1f3-35306b55574a\" xlink:actuate=\"onRequest\" xlink:href=\"psysml:3f965610-dfca-4051-a1f3-35306b55574a\" xlink:show=\"new\" xlink:title=\"psysml:3f965610-dfca-4051-a1f3-35306b55574a\" xlink:type=\"simple\"><path d=\"M413.69,239.57 C425.94,231.44 438.22,222.44 449,213 C480.33,185.55 475.1,165.2 509,141 C518.92,133.92 530.26,127.91 541.73,122.87 \" fill=\"none\" id=\"E2&lt;-E6\" style=\"stroke: #383838; stroke-width: 1.0;\"/><polygon fill=\"#383838\" points=\"402.51,246.77,409.7202,246.8821,412.5969,240.2696,405.3866,240.1575,402.51,246.77\" style=\"stroke: #383838; stroke-width: 1.0;\"/></a><!--MD5=[3a9b96bfbf6b6ad89c494e81751bda47]\n",
       "link E5 to E7--><a href=\"psysml:5b4e0f94-bd6c-4a04-8036-e6bb7f85be93\" target=\"_top\" title=\"psysml:5b4e0f94-bd6c-4a04-8036-e6bb7f85be93\" xlink:actuate=\"onRequest\" xlink:href=\"psysml:5b4e0f94-bd6c-4a04-8036-e6bb7f85be93\" xlink:show=\"new\" xlink:title=\"psysml:5b4e0f94-bd6c-4a04-8036-e6bb7f85be93\" xlink:type=\"simple\"><path d=\"M721.25,182 C734.22,182 747.49,182 760.49,182 \" fill=\"none\" id=\"E5-&gt;E7\" style=\"stroke: #383838; stroke-width: 1.0;\"/><polygon fill=\"#FFFFFF\" points=\"780.63,182,761.63,189,761.63,175,780.63,182\" style=\"stroke: #383838; stroke-width: 1.0;\"/><ellipse cx=\"755.93\" cy=\"187\" fill=\"#383838\" rx=\"2\" ry=\"2\" style=\"stroke: #383838; stroke-width: 1.0;\"/><ellipse cx=\"755.93\" cy=\"177\" fill=\"#383838\" rx=\"2\" ry=\"2\" style=\"stroke: #383838; stroke-width: 1.0;\"/></a><!--MD5=[dc164f5e8a733ab456ef1add180e9e34]\n",
       "reverse link E7 to E8--><a href=\"psysml:37f490ca-8c9f-44ef-b281-38d91f32f2bf\" target=\"_top\" title=\"psysml:37f490ca-8c9f-44ef-b281-38d91f32f2bf\" xlink:actuate=\"onRequest\" xlink:href=\"psysml:37f490ca-8c9f-44ef-b281-38d91f32f2bf\" xlink:show=\"new\" xlink:title=\"psysml:37f490ca-8c9f-44ef-b281-38d91f32f2bf\" xlink:type=\"simple\"><path d=\"M971.18,200.18 C986.93,203.02 1002.95,205.92 1017.96,208.63 \" fill=\"none\" id=\"E7&lt;-E8\" style=\"stroke: #383838; stroke-width: 1.0;\"/><polygon fill=\"#383838\" points=\"958.04,197.81,963.238,202.8081,969.8508,199.9323,964.6528,194.9342,958.04,197.81\" style=\"stroke: #383838; stroke-width: 1.0;\"/></a><!--MD5=[e4a10ef82d0e328e31cac39a31e58dda]\n",
       "reverse link E7 to E9--><a href=\"psysml:c791e7ed-713f-4106-b9d5-0dfb97ea4543\" target=\"_top\" title=\"psysml:c791e7ed-713f-4106-b9d5-0dfb97ea4543\" xlink:actuate=\"onRequest\" xlink:href=\"psysml:c791e7ed-713f-4106-b9d5-0dfb97ea4543\" xlink:show=\"new\" xlink:title=\"psysml:c791e7ed-713f-4106-b9d5-0dfb97ea4543\" xlink:type=\"simple\"><path d=\"M971.09,163.38 C987.48,160.35 1004.17,157.26 1019.71,154.38 \" fill=\"none\" id=\"E7&lt;-E9\" style=\"stroke: #383838; stroke-width: 1.0;\"/><polygon fill=\"#383838\" points=\"958.04,165.8,964.6663,168.6446,969.8407,163.622,963.2144,160.7774,958.04,165.8\" style=\"stroke: #383838; stroke-width: 1.0;\"/></a><!--MD5=[a919e0967d6f3de553dc51b9865a1d6d]\n",
       "link E10 to E7--><a href=\"psysml:d7bf13fe-2343-4091-93b6-ccc05bfccd1c\" target=\"_top\" title=\"psysml:d7bf13fe-2343-4091-93b6-ccc05bfccd1c\" xlink:actuate=\"onRequest\" xlink:href=\"psysml:d7bf13fe-2343-4091-93b6-ccc05bfccd1c\" xlink:show=\"new\" xlink:title=\"psysml:d7bf13fe-2343-4091-93b6-ccc05bfccd1c\" xlink:type=\"simple\"><path d=\"M176.21,198.02 C249.67,218.13 366.67,236.81 449,185 C501.16,152.18 456.84,92.82 509,60 C588.75,9.82 632.35,28.09 721,60 C767.04,76.57 808.91,114.44 836.18,143.62 \" fill=\"none\" id=\"E10-&gt;E7\" style=\"stroke: #383838; stroke-width: 1.0;\"/><polygon fill=\"#FFFFFF\" points=\"849.76,158.75,831.8607,149.2835,842.2807,139.9335,849.76,158.75\" style=\"stroke: #383838; stroke-width: 1.0;\"/><ellipse cx=\"829.5424\" cy=\"143.7054\" fill=\"#383838\" rx=\"2\" ry=\"2\" style=\"stroke: #383838; stroke-width: 1.0;\"/><ellipse cx=\"836.9853\" cy=\"137.0268\" fill=\"#383838\" rx=\"2\" ry=\"2\" style=\"stroke: #383838; stroke-width: 1.0;\"/></a><!--MD5=[0f36bececdf0dff6e600d6f64214b0f1]\n",
       "link E10 to E2--><a href=\"psysml:65e23dda-2765-4b86-8b8c-165f4272381c\" target=\"_top\" title=\"psysml:65e23dda-2765-4b86-8b8c-165f4272381c\" xlink:actuate=\"onRequest\" xlink:href=\"psysml:65e23dda-2765-4b86-8b8c-165f4272381c\" xlink:show=\"new\" xlink:title=\"psysml:65e23dda-2765-4b86-8b8c-165f4272381c\" xlink:type=\"simple\"><path d=\"M160.58,198.12 C192.55,212.04 233.78,230 269.04,245.35 \" fill=\"none\" id=\"E10-&gt;E2\" style=\"stroke: #383838; stroke-width: 1.0;\"/><polygon fill=\"#FFFFFF\" points=\"287.39,253.34,267.1751,252.1739,272.7635,239.3376,287.39,253.34\" style=\"stroke: #383838; stroke-width: 1.0;\"/><ellipse cx=\"262.7473\" cy=\"248.0649\" fill=\"#383838\" rx=\"2\" ry=\"2\" style=\"stroke: #383838; stroke-width: 1.0;\"/><ellipse cx=\"266.739\" cy=\"238.8961\" fill=\"#383838\" rx=\"2\" ry=\"2\" style=\"stroke: #383838; stroke-width: 1.0;\"/></a><!--MD5=[de308be4a2431766a05a907a031c07fc]\n",
       "reverse link E10 to E11--><a href=\"psysml:996a22eb-9701-44d5-9cb6-35ae83d4d1b1\" target=\"_top\" title=\"psysml:996a22eb-9701-44d5-9cb6-35ae83d4d1b1\" xlink:actuate=\"onRequest\" xlink:href=\"psysml:996a22eb-9701-44d5-9cb6-35ae83d4d1b1\" xlink:show=\"new\" xlink:title=\"psysml:996a22eb-9701-44d5-9cb6-35ae83d4d1b1\" xlink:type=\"simple\"><path d=\"M194.17,164.01 C218.95,160.86 245.73,157.47 269.7,154.43 \" fill=\"none\" id=\"E10&lt;-E11\" style=\"stroke: #383838; stroke-width: 1.0;\"/><polygon fill=\"#383838\" points=\"181.03,165.67,187.4838,168.887,192.9355,164.167,186.4817,160.95,181.03,165.67\" style=\"stroke: #383838; stroke-width: 1.0;\"/></a><!--MD5=[1d54f998c6d5961a1a9184be73a7eb6c]\n",
       "reverse link E10 to E12--><a href=\"psysml:da3311a8-2759-47ea-b229-fd34ee887055\" target=\"_top\" title=\"psysml:da3311a8-2759-47ea-b229-fd34ee887055\" xlink:actuate=\"onRequest\" xlink:href=\"psysml:da3311a8-2759-47ea-b229-fd34ee887055\" xlink:show=\"new\" xlink:title=\"psysml:da3311a8-2759-47ea-b229-fd34ee887055\" xlink:type=\"simple\"><path d=\"M159.31,145.61 C183.75,132.22 213.52,116.59 241,104 C253.82,98.13 267.77,92.33 281.14,87.05 \" fill=\"none\" id=\"E10&lt;-E12\" style=\"stroke: #383838; stroke-width: 1.0;\"/><polygon fill=\"#383838\" points=\"147.77,151.98,154.9559,152.5819,158.2754,146.1803,151.0895,145.5783,147.77,151.98\" style=\"stroke: #383838; stroke-width: 1.0;\"/></a><!--MD5=[4a48077df6499cfcd20b62e8f5f37904]\n",
       "link E13 to E7--><a href=\"psysml:fb78d99f-0705-4d43-aabd-2eaf1ce47389\" target=\"_top\" title=\"psysml:fb78d99f-0705-4d43-aabd-2eaf1ce47389\" xlink:actuate=\"onRequest\" xlink:href=\"psysml:fb78d99f-0705-4d43-aabd-2eaf1ce47389\" xlink:show=\"new\" xlink:title=\"psysml:fb78d99f-0705-4d43-aabd-2eaf1ce47389\" xlink:type=\"simple\"><path d=\"M690.86,401.92 C701.52,396.92 711.93,390.98 721,384 C778.07,340.05 823.11,268.25 847.75,223.14 \" fill=\"none\" id=\"E13-&gt;E7\" style=\"stroke: #383838; stroke-width: 1.0;\"/><polygon fill=\"#FFFFFF\" points=\"857.18,205.32,854.4752,225.387,842.1026,218.8356,857.18,205.32\" style=\"stroke: #383838; stroke-width: 1.0;\"/><ellipse cx=\"850.0403\" cy=\"229.4885\" fill=\"#383838\" rx=\"2\" ry=\"2\" style=\"stroke: #383838; stroke-width: 1.0;\"/><ellipse cx=\"841.2028\" cy=\"224.8089\" fill=\"#383838\" rx=\"2\" ry=\"2\" style=\"stroke: #383838; stroke-width: 1.0;\"/></a><!--MD5=[211b5806d30735f88fd26e0e8fd810e7]\n",
       "@startuml\r\n",
       "left to right direction\r\n",
       "skinparam monochrome true\r\n",
       "skinparam classbackgroundcolor white\r\n",
       "skinparam shadowing false\r\n",
       "skinparam wrapWidth 300\r\n",
       "hide circle\r\n",
       "\r\n",
       "package \"OccurrenceTest\" as E1  [[psysml:76f03fcf-c31b-4704-ae9e-b44a23fd6ebe ]]  {\r\n",
       "comp def \"Occ\" as E2  <<(T,blue) occurrence  def>> [[psysml:eaa0b96d-7da2-44a7-b980-6b6f36747918 ]] {\r\n",
       "- - attributes - -\r\n",
       "a\r\n",
       "}\r\n",
       "comp usage \"occ1: Occ \" as E3  <<(T,blue) occurrence>> [[psysml:87fca259-1c14-4b5b-983e-37895f6ff77b ]] {\r\n",
       "}\r\n",
       "comp usage \"occ2: Occ \" as E4  <<(T,blue) occurrence>> [[psysml:ffd2f288-180d-4271-8880-cf9706207ba2 ]] {\r\n",
       "}\r\n",
       "comp usage \"s: Ind \" as E5  <<(T,blue) individual snapshot occurrence>> [[psysml:4e1769cc-a186-417e-91f0-587d1f1196e7 ]] {\r\n",
       "}\r\n",
       "comp usage \"t \" as E6  <<(T,blue) timeslice occurrence>> [[psysml:9c61ac47-8b4e-45e2-802a-f3aa096140c4 ]] {\r\n",
       "}\r\n",
       "comp def \"Ind\" as E7  <<(T,blue) individual occurrence  def>> [[psysml:54e4af67-f268-48a3-80b8-bc1579f32c01 ]] {\r\n",
       "}\r\n",
       "comp usage \"s2 \" as E8  <<(T,blue) snapshot occurrence>> [[psysml:bfc31472-e77d-4111-949c-57e124b09868 ]] {\r\n",
       "}\r\n",
       "comp usage \"t2 \" as E9  <<(T,blue) timeslice occurrence>> [[psysml:25521b86-d75d-41e6-9d0e-592064bc2653 ]] {\r\n",
       "}\r\n",
       "comp usage \"ind: Ind, Occ \" as E10  <<(T,blue) individual occurrence>> [[psysml:ec83ca81-a881-4da3-97a0-46e2b6aae84c ]] {\r\n",
       "}\r\n",
       "comp usage \"s3 \" as E11  <<(T,blue) snapshot occurrence>> [[psysml:fe74329f-5d2b-4ebe-b106-a7ecca7a6fbd ]] {\r\n",
       "}\r\n",
       "comp usage \"t3 \" as E12  <<(T,blue) individual timeslice occurrence>> [[psysml:6925098a-d5ed-431f-aaf1-d453853f914b ]] {\r\n",
       "}\r\n",
       "comp usage \"s4: Ind \" as E13  <<(T,blue) individual snapshot occurrence>> [[psysml:4e4d3416-6ae1-42d7-bc86-2084c913e314 ]] {\r\n",
       "}\r\n",
       "}\r\n",
       "E2 o- - E3 [[psysml:62ea934f-12d4-42a0-b786-a1086ef654f4 ]] \r\n",
       "E3 - -:|> E2 [[psysml:72edb9ed-f456-4be1-846b-a7c4b7fb6ef3 ]] \r\n",
       "E2 *- - E4 [[psysml:1930a264-e184-4aca-ae40-6206f5d09a7f ]] \r\n",
       "E4 - -:|> E2 [[psysml:32367fe5-1bb2-4952-a335-a8970d1d9f84 ]] \r\n",
       "E2 *- - E5 [[psysml:0faf658f-4e02-48cd-849b-e0220b5d7629 ]] \r\n",
       "E2 *- - E6 [[psysml:3f965610-dfca-4051-a1f3-35306b55574a ]] \r\n",
       "E5 - -:|> E7 [[psysml:5b4e0f94-bd6c-4a04-8036-e6bb7f85be93 ]] \r\n",
       "E7 *- - E8 [[psysml:37f490ca-8c9f-44ef-b281-38d91f32f2bf ]] \r\n",
       "E7 *- - E9 [[psysml:c791e7ed-713f-4106-b9d5-0dfb97ea4543 ]] \r\n",
       "E10 - -:|> E7 [[psysml:d7bf13fe-2343-4091-93b6-ccc05bfccd1c ]] \r\n",
       "E10 - -:|> E2 [[psysml:65e23dda-2765-4b86-8b8c-165f4272381c ]] \r\n",
       "E10 *- - E11 [[psysml:996a22eb-9701-44d5-9cb6-35ae83d4d1b1 ]] \r\n",
       "E10 *- - E12 [[psysml:da3311a8-2759-47ea-b229-fd34ee887055 ]] \r\n",
       "E13 - -:|> E7 [[psysml:fb78d99f-0705-4d43-aabd-2eaf1ce47389 ]] \r\n",
       "@enduml\r\n",
       "\n",
       "PlantUML version 1.2020.13(Sat Jun 13 12:26:38 UTC 2020)\n",
       "(EPL source distribution)\n",
       "Java Runtime: OpenJDK Runtime Environment\n",
       "JVM: OpenJDK 64-Bit Server VM\n",
       "Default Encoding: UTF-8\n",
       "Language: en\n",
       "Country: null\n",
       "--></g></svg>"
      ]
     },
     "execution_count": 17,
     "metadata": {},
     "output_type": "execute_result"
    }
   ],
   "source": [
    "%viz --style=\"LR\" --view=\"Tree\" \"OccurrenceTest\""
   ]
  },
  {
   "cell_type": "code",
   "execution_count": 18,
   "id": "9192aebc",
   "metadata": {
    "execution": {
     "iopub.execute_input": "2022-02-18T10:48:37.299328Z",
     "iopub.status.busy": "2022-02-18T10:48:37.298903Z",
     "iopub.status.idle": "2022-02-18T10:48:37.304327Z",
     "shell.execute_reply": "2022-02-18T10:48:37.304659Z"
    }
   },
   "outputs": [
    {
     "data": {
      "image/svg+xml": [
       "<?xml version=\"1.0\" encoding=\"UTF-8\" standalone=\"no\"?><svg xmlns=\"http://www.w3.org/2000/svg\" xmlns:xlink=\"http://www.w3.org/1999/xlink\" contentScriptType=\"application/ecmascript\" contentStyleType=\"text/css\" height=\"12px\" preserveAspectRatio=\"none\" style=\"width:12px;height:12px;\" version=\"1.1\" viewBox=\"0 0 12 12\" width=\"12px\" zoomAndPan=\"magnify\"><defs/><g><!--MD5=[19d285c9d72a204eba4e2cd117d745e8]\n",
       "@startuml\r\n",
       "left to right direction\r\n",
       "skinparam monochrome true\r\n",
       "skinparam classbackgroundcolor white\r\n",
       "skinparam shadowing false\r\n",
       "skinparam wrapWidth 300\r\n",
       "hide circle\r\n",
       "\r\n",
       "@enduml\r\n",
       "\n",
       "PlantUML version 1.2020.13(Sat Jun 13 12:26:38 UTC 2020)\n",
       "(EPL source distribution)\n",
       "Java Runtime: OpenJDK Runtime Environment\n",
       "JVM: OpenJDK 64-Bit Server VM\n",
       "Default Encoding: UTF-8\n",
       "Language: en\n",
       "Country: null\n",
       "--></g></svg>"
      ]
     },
     "execution_count": 18,
     "metadata": {},
     "output_type": "execute_result"
    }
   ],
   "source": [
    "%viz --style=\"LR\" --view=\"State\" \"OccurrenceTest\""
   ]
  },
  {
   "cell_type": "code",
   "execution_count": 19,
   "id": "bfc7c49d",
   "metadata": {
    "execution": {
     "iopub.execute_input": "2022-02-18T10:48:37.354500Z",
     "iopub.status.busy": "2022-02-18T10:48:37.354073Z",
     "iopub.status.idle": "2022-02-18T10:48:37.389041Z",
     "shell.execute_reply": "2022-02-18T10:48:37.388677Z"
    }
   },
   "outputs": [
    {
     "data": {
      "image/svg+xml": [
       "<?xml version=\"1.0\" encoding=\"UTF-8\" standalone=\"no\"?><svg xmlns=\"http://www.w3.org/2000/svg\" xmlns:xlink=\"http://www.w3.org/1999/xlink\" contentScriptType=\"application/ecmascript\" contentStyleType=\"text/css\" height=\"484px\" preserveAspectRatio=\"none\" style=\"width:331px;height:484px;\" version=\"1.1\" viewBox=\"0 0 331 484\" width=\"331px\" zoomAndPan=\"magnify\"><defs/><g><!--MD5=[fbc87193dbaf4d95561dea2c320d4a47]\n",
       "cluster E1--><a href=\"psysml:76f03fcf-c31b-4704-ae9e-b44a23fd6ebe\" target=\"_top\" title=\"psysml:76f03fcf-c31b-4704-ae9e-b44a23fd6ebe\" xlink:actuate=\"onRequest\" xlink:href=\"psysml:76f03fcf-c31b-4704-ae9e-b44a23fd6ebe\" xlink:show=\"new\" xlink:title=\"psysml:76f03fcf-c31b-4704-ae9e-b44a23fd6ebe\" xlink:type=\"simple\"><polygon fill=\"#FFFFFF\" points=\"16,6,134,6,141,28.2969,309,28.2969,309,472,16,472,16,6\" style=\"stroke: #000000; stroke-width: 1.5;\"/><line style=\"stroke: #000000; stroke-width: 1.5;\" x1=\"16\" x2=\"141\" y1=\"28.2969\" y2=\"28.2969\"/><text fill=\"#000000\" font-family=\"sans-serif\" font-size=\"14\" font-weight=\"bold\" lengthAdjust=\"spacingAndGlyphs\" textLength=\"112\" x=\"20\" y=\"20.9951\">OccurrenceTest</text></a><!--MD5=[f6df4d0ebaf0b5dfb2ced0ae5af7c670]\n",
       "cluster E4--><a href=\"psysml:ec83ca81-a881-4da3-97a0-46e2b6aae84c\" target=\"_top\" title=\"psysml:ec83ca81-a881-4da3-97a0-46e2b6aae84c\" xlink:actuate=\"onRequest\" xlink:href=\"psysml:ec83ca81-a881-4da3-97a0-46e2b6aae84c\" xlink:show=\"new\" xlink:title=\"psysml:ec83ca81-a881-4da3-97a0-46e2b6aae84c\" xlink:type=\"simple\"><rect fill=\"#FFFFFF\" height=\"189\" id=\"E4\" rx=\"10\" ry=\"10\" style=\"stroke: #383838; stroke-width: 1.5;\" width=\"245\" x=\"40\" y=\"49\"/><rect fill=\"#F8F8F8\" height=\"37.9375\" rx=\"10\" ry=\"10\" style=\"stroke: #F8F8F8; stroke-width: 1.5;\" width=\"245\" x=\"40\" y=\"49\"/><rect fill=\"#F8F8F8\" height=\"10\" style=\"stroke: #F8F8F8; stroke-width: 1.5;\" width=\"245\" x=\"40\" y=\"76.9375\"/><rect fill=\"none\" height=\"189\" id=\"E4\" rx=\"10\" ry=\"10\" style=\"stroke: #383838; stroke-width: 1.5;\" width=\"245\" x=\"40\" y=\"49\"/><text fill=\"#000000\" font-family=\"sans-serif\" font-size=\"12\" font-style=\"italic\" lengthAdjust=\"spacingAndGlyphs\" textLength=\"147\" x=\"89\" y=\"65.1387\">«individual occurrence»</text><text fill=\"#000000\" font-family=\"sans-serif\" font-size=\"12\" lengthAdjust=\"spacingAndGlyphs\" textLength=\"77\" x=\"124\" y=\"79.1074\">ind: Ind, Occ</text><line style=\"stroke: #383838; stroke-width: 1.0;\" x1=\"40\" x2=\"285\" y1=\"86.9375\" y2=\"86.9375\"/></a><g id=\"E1.E2\"><a href=\"psysml:eaa0b96d-7da2-44a7-b980-6b6f36747918\" target=\"_top\" title=\"psysml:eaa0b96d-7da2-44a7-b980-6b6f36747918\" xlink:actuate=\"onRequest\" xlink:href=\"psysml:eaa0b96d-7da2-44a7-b980-6b6f36747918\" xlink:show=\"new\" xlink:title=\"psysml:eaa0b96d-7da2-44a7-b980-6b6f36747918\" xlink:type=\"simple\"><rect fill=\"#FFFFFF\" height=\"42.9375\" id=\"E2\" style=\"stroke: #383838; stroke-width: 1.5;\" width=\"120\" x=\"102.5\" y=\"256.5\"/><rect fill=\"#F8F8F8\" height=\"37.9375\" style=\"stroke: #383838; stroke-width: 1.5;\" width=\"120\" x=\"102.5\" y=\"256.5\"/><text fill=\"#000000\" font-family=\"sans-serif\" font-size=\"12\" font-style=\"italic\" lengthAdjust=\"spacingAndGlyphs\" textLength=\"113\" x=\"106\" y=\"272.6387\">«occurrence  def»</text><text fill=\"#000000\" font-family=\"sans-serif\" font-size=\"12\" lengthAdjust=\"spacingAndGlyphs\" textLength=\"23\" x=\"151\" y=\"286.6074\">Occ</text></a></g><g id=\"E1.E3\"><a href=\"psysml:54e4af67-f268-48a3-80b8-bc1579f32c01\" target=\"_top\" title=\"psysml:54e4af67-f268-48a3-80b8-bc1579f32c01\" xlink:actuate=\"onRequest\" xlink:href=\"psysml:54e4af67-f268-48a3-80b8-bc1579f32c01\" xlink:show=\"new\" xlink:title=\"psysml:54e4af67-f268-48a3-80b8-bc1579f32c01\" xlink:type=\"simple\"><rect fill=\"#FFFFFF\" height=\"42.9375\" id=\"E3\" style=\"stroke: #383838; stroke-width: 1.5;\" width=\"182\" x=\"71.5\" y=\"334.5\"/><rect fill=\"#F8F8F8\" height=\"37.9375\" style=\"stroke: #383838; stroke-width: 1.5;\" width=\"182\" x=\"71.5\" y=\"334.5\"/><text fill=\"#000000\" font-family=\"sans-serif\" font-size=\"12\" font-style=\"italic\" lengthAdjust=\"spacingAndGlyphs\" textLength=\"175\" x=\"75\" y=\"350.6387\">«individual occurrence  def»</text><text fill=\"#000000\" font-family=\"sans-serif\" font-size=\"12\" lengthAdjust=\"spacingAndGlyphs\" textLength=\"19\" x=\"153\" y=\"364.6074\">Ind</text></a></g><g id=\"E1.E4.E5\"><a href=\"psysml:fe74329f-5d2b-4ebe-b106-a7ecca7a6fbd\" target=\"_top\" title=\"psysml:fe74329f-5d2b-4ebe-b106-a7ecca7a6fbd\" xlink:actuate=\"onRequest\" xlink:href=\"psysml:fe74329f-5d2b-4ebe-b106-a7ecca7a6fbd\" xlink:show=\"new\" xlink:title=\"psysml:fe74329f-5d2b-4ebe-b106-a7ecca7a6fbd\" xlink:type=\"simple\"><rect fill=\"#FFFFFF\" height=\"42.9375\" id=\"E5\" rx=\"10\" ry=\"10\" style=\"stroke: #383838; stroke-width: 1.5;\" width=\"155\" x=\"85\" y=\"100.5\"/><rect fill=\"#F8F8F8\" height=\"37.9375\" rx=\"10\" ry=\"10\" style=\"stroke: #F8F8F8; stroke-width: 1.5;\" width=\"155\" x=\"85\" y=\"100.5\"/><rect fill=\"#F8F8F8\" height=\"10\" style=\"stroke: #F8F8F8; stroke-width: 1.5;\" width=\"155\" x=\"85\" y=\"128.4375\"/><rect fill=\"none\" height=\"42.9375\" id=\"E5\" rx=\"10\" ry=\"10\" style=\"stroke: #383838; stroke-width: 1.5;\" width=\"155\" x=\"85\" y=\"100.5\"/><text fill=\"#000000\" font-family=\"sans-serif\" font-size=\"12\" font-style=\"italic\" lengthAdjust=\"spacingAndGlyphs\" textLength=\"148\" x=\"88.5\" y=\"116.6387\">«snapshot occurrence»</text><text fill=\"#000000\" font-family=\"sans-serif\" font-size=\"12\" lengthAdjust=\"spacingAndGlyphs\" textLength=\"15\" x=\"155\" y=\"130.6074\">s3</text></a></g><g id=\"E1.E4.E6\"><a href=\"psysml:6925098a-d5ed-431f-aaf1-d453853f914b\" target=\"_top\" title=\"psysml:6925098a-d5ed-431f-aaf1-d453853f914b\" xlink:actuate=\"onRequest\" xlink:href=\"psysml:6925098a-d5ed-431f-aaf1-d453853f914b\" xlink:show=\"new\" xlink:title=\"psysml:6925098a-d5ed-431f-aaf1-d453853f914b\" xlink:type=\"simple\"><rect fill=\"#FFFFFF\" height=\"42.9375\" id=\"E6\" rx=\"10\" ry=\"10\" style=\"stroke: #383838; stroke-width: 1.5;\" width=\"213\" x=\"56\" y=\"178.5\"/><rect fill=\"#F8F8F8\" height=\"37.9375\" rx=\"10\" ry=\"10\" style=\"stroke: #F8F8F8; stroke-width: 1.5;\" width=\"213\" x=\"56\" y=\"178.5\"/><rect fill=\"#F8F8F8\" height=\"10\" style=\"stroke: #F8F8F8; stroke-width: 1.5;\" width=\"213\" x=\"56\" y=\"206.4375\"/><rect fill=\"none\" height=\"42.9375\" id=\"E6\" rx=\"10\" ry=\"10\" style=\"stroke: #383838; stroke-width: 1.5;\" width=\"213\" x=\"56\" y=\"178.5\"/><text fill=\"#000000\" font-family=\"sans-serif\" font-size=\"12\" font-style=\"italic\" lengthAdjust=\"spacingAndGlyphs\" textLength=\"206\" x=\"59.5\" y=\"194.6387\">«individual timeslice occurrence»</text><text fill=\"#000000\" font-family=\"sans-serif\" font-size=\"12\" lengthAdjust=\"spacingAndGlyphs\" textLength=\"13\" x=\"156\" y=\"208.6074\">t3</text></a></g><g id=\"E1.E7\"><a href=\"psysml:4e4d3416-6ae1-42d7-bc86-2084c913e314\" target=\"_top\" title=\"psysml:4e4d3416-6ae1-42d7-bc86-2084c913e314\" xlink:actuate=\"onRequest\" xlink:href=\"psysml:4e4d3416-6ae1-42d7-bc86-2084c913e314\" xlink:show=\"new\" xlink:title=\"psysml:4e4d3416-6ae1-42d7-bc86-2084c913e314\" xlink:type=\"simple\"><rect fill=\"#FFFFFF\" height=\"42.9375\" id=\"E7\" rx=\"10\" ry=\"10\" style=\"stroke: #383838; stroke-width: 1.5;\" width=\"217\" x=\"54\" y=\"412.5\"/><rect fill=\"#F8F8F8\" height=\"37.9375\" rx=\"10\" ry=\"10\" style=\"stroke: #F8F8F8; stroke-width: 1.5;\" width=\"217\" x=\"54\" y=\"412.5\"/><rect fill=\"#F8F8F8\" height=\"10\" style=\"stroke: #F8F8F8; stroke-width: 1.5;\" width=\"217\" x=\"54\" y=\"440.4375\"/><rect fill=\"none\" height=\"42.9375\" id=\"E7\" rx=\"10\" ry=\"10\" style=\"stroke: #383838; stroke-width: 1.5;\" width=\"217\" x=\"54\" y=\"412.5\"/><text fill=\"#000000\" font-family=\"sans-serif\" font-size=\"12\" font-style=\"italic\" lengthAdjust=\"spacingAndGlyphs\" textLength=\"210\" x=\"57.5\" y=\"428.6387\">«individual snapshot occurrence»</text><text fill=\"#000000\" font-family=\"sans-serif\" font-size=\"12\" lengthAdjust=\"spacingAndGlyphs\" textLength=\"42\" x=\"141.5\" y=\"442.6074\">s4: Ind</text></a></g><!--MD5=[55e8900e4905d1e2502c235218aa14db]\n",
       "@startuml\r\n",
       "skinparam ranksep 10\r\n",
       "skinparam rectangle {\r\n",
       " backgroundColor<<block>> LightGreen\r\n",
       "}\r\n",
       "left to right direction\r\n",
       "skinparam monochrome true\r\n",
       "skinparam classbackgroundcolor white\r\n",
       "skinparam shadowing false\r\n",
       "skinparam wrapWidth 300\r\n",
       "hide circle\r\n",
       "\r\n",
       "package \"OccurrenceTest\" as E1  [[psysml:76f03fcf-c31b-4704-ae9e-b44a23fd6ebe ]]  {\r\n",
       "def \"Occ\" as E2  <<(T,blue) occurrence  def>> [[psysml:eaa0b96d-7da2-44a7-b980-6b6f36747918 ]] \r\n",
       "def \"Ind\" as E3  <<(T,blue) individual occurrence  def>> [[psysml:54e4af67-f268-48a3-80b8-bc1579f32c01 ]] \r\n",
       "rec usage \"ind: Ind, Occ\" as E4  <<(T,blue) individual occurrence>> [[psysml:ec83ca81-a881-4da3-97a0-46e2b6aae84c ]] {\r\n",
       "rec usage \"s3\" as E5  <<(T,blue) snapshot occurrence>> [[psysml:fe74329f-5d2b-4ebe-b106-a7ecca7a6fbd ]] {\r\n",
       "}\r\n",
       "rec usage \"t3\" as E6  <<(T,blue) individual timeslice occurrence>> [[psysml:6925098a-d5ed-431f-aaf1-d453853f914b ]] {\r\n",
       "}\r\n",
       "}\r\n",
       "rec usage \"s4: Ind\" as E7  <<(T,blue) individual snapshot occurrence>> [[psysml:4e4d3416-6ae1-42d7-bc86-2084c913e314 ]] {\r\n",
       "}\r\n",
       "}\r\n",
       "@enduml\r\n",
       "\n",
       "PlantUML version 1.2020.13(Sat Jun 13 12:26:38 UTC 2020)\n",
       "(EPL source distribution)\n",
       "Java Runtime: OpenJDK Runtime Environment\n",
       "JVM: OpenJDK 64-Bit Server VM\n",
       "Default Encoding: UTF-8\n",
       "Language: en\n",
       "Country: null\n",
       "--></g></svg>"
      ]
     },
     "execution_count": 19,
     "metadata": {},
     "output_type": "execute_result"
    }
   ],
   "source": [
    "%viz --style=\"LR\" --view=\"Interconnection\" \"OccurrenceTest\""
   ]
  },
  {
   "cell_type": "code",
   "execution_count": 20,
   "id": "9b892ca5",
   "metadata": {
    "execution": {
     "iopub.execute_input": "2022-02-18T10:48:37.438483Z",
     "iopub.status.busy": "2022-02-18T10:48:37.438079Z",
     "iopub.status.idle": "2022-02-18T10:48:37.443139Z",
     "shell.execute_reply": "2022-02-18T10:48:37.443436Z"
    }
   },
   "outputs": [
    {
     "data": {
      "image/svg+xml": [
       "<?xml version=\"1.0\" encoding=\"UTF-8\" standalone=\"no\"?><svg xmlns=\"http://www.w3.org/2000/svg\" xmlns:xlink=\"http://www.w3.org/1999/xlink\" contentScriptType=\"application/ecmascript\" contentStyleType=\"text/css\" height=\"12px\" preserveAspectRatio=\"none\" style=\"width:12px;height:12px;\" version=\"1.1\" viewBox=\"0 0 12 12\" width=\"12px\" zoomAndPan=\"magnify\"><defs/><g><!--MD5=[7aeb398939421629f6affaa4a1a7b125]\n",
       "@startuml\r\n",
       "skinparam ranksep 8\r\n",
       "left to right direction\r\n",
       "skinparam monochrome true\r\n",
       "skinparam classbackgroundcolor white\r\n",
       "skinparam shadowing false\r\n",
       "skinparam wrapWidth 300\r\n",
       "hide circle\r\n",
       "\r\n",
       "@enduml\r\n",
       "\n",
       "PlantUML version 1.2020.13(Sat Jun 13 12:26:38 UTC 2020)\n",
       "(EPL source distribution)\n",
       "Java Runtime: OpenJDK Runtime Environment\n",
       "JVM: OpenJDK 64-Bit Server VM\n",
       "Default Encoding: UTF-8\n",
       "Language: en\n",
       "Country: null\n",
       "--></g></svg>"
      ]
     },
     "execution_count": 20,
     "metadata": {},
     "output_type": "execute_result"
    }
   ],
   "source": [
    "%viz --style=\"LR\" --view=\"Action\" \"OccurrenceTest\""
   ]
  },
  {
   "cell_type": "code",
   "execution_count": 21,
   "id": "ddbd5b64",
   "metadata": {
    "execution": {
     "iopub.execute_input": "2022-02-18T10:48:37.493442Z",
     "iopub.status.busy": "2022-02-18T10:48:37.493037Z",
     "iopub.status.idle": "2022-02-18T10:48:37.498170Z",
     "shell.execute_reply": "2022-02-18T10:48:37.498461Z"
    }
   },
   "outputs": [
    {
     "data": {
      "image/svg+xml": [
       "<?xml version=\"1.0\" encoding=\"UTF-8\" standalone=\"no\"?><svg xmlns=\"http://www.w3.org/2000/svg\" xmlns:xlink=\"http://www.w3.org/1999/xlink\" contentScriptType=\"application/ecmascript\" contentStyleType=\"text/css\" height=\"12px\" preserveAspectRatio=\"none\" style=\"width:12px;height:12px;\" version=\"1.1\" viewBox=\"0 0 12 12\" width=\"12px\" zoomAndPan=\"magnify\"><defs/><g><!--MD5=[238c11ea2002f03115ad6b49a457d50e]\n",
       "@startuml\r\n",
       "skinparam roundcorner 20\r\n",
       "skinparam BoxPadding 20\r\n",
       "skinparam SequenceBoxBackgroundColor #white\r\n",
       "skinparam style strictuml\r\n",
       "skinparam maxMessageSize 100\r\n",
       "left to right direction\r\n",
       "skinparam monochrome true\r\n",
       "skinparam classbackgroundcolor white\r\n",
       "skinparam shadowing false\r\n",
       "skinparam wrapWidth 300\r\n",
       "hide circle\r\n",
       "\r\n",
       "@enduml\r\n",
       "\n",
       "PlantUML version 1.2020.13(Sat Jun 13 12:26:38 UTC 2020)\n",
       "(EPL source distribution)\n",
       "Java Runtime: OpenJDK Runtime Environment\n",
       "JVM: OpenJDK 64-Bit Server VM\n",
       "Default Encoding: UTF-8\n",
       "Language: en\n",
       "Country: null\n",
       "--></g></svg>"
      ]
     },
     "execution_count": 21,
     "metadata": {},
     "output_type": "execute_result"
    }
   ],
   "source": [
    "%viz --style=\"LR\" --view=\"Sequence\" \"OccurrenceTest\""
   ]
  },
  {
   "cell_type": "code",
   "execution_count": 22,
   "id": "33722384",
   "metadata": {
    "execution": {
     "iopub.execute_input": "2022-02-18T10:48:37.548431Z",
     "iopub.status.busy": "2022-02-18T10:48:37.548018Z",
     "iopub.status.idle": "2022-02-18T10:48:37.615990Z",
     "shell.execute_reply": "2022-02-18T10:48:37.615624Z"
    }
   },
   "outputs": [
    {
     "data": {
      "image/svg+xml": [
       "<?xml version=\"1.0\" encoding=\"UTF-8\" standalone=\"no\"?><svg xmlns=\"http://www.w3.org/2000/svg\" xmlns:xlink=\"http://www.w3.org/1999/xlink\" contentScriptType=\"application/ecmascript\" contentStyleType=\"text/css\" height=\"476px\" preserveAspectRatio=\"none\" style=\"width:1206px;height:476px;\" version=\"1.1\" viewBox=\"0 0 1206 476\" width=\"1206px\" zoomAndPan=\"magnify\"><defs/><g><!--MD5=[fbc87193dbaf4d95561dea2c320d4a47]\n",
       "cluster E1--><a href=\"psysml:76f03fcf-c31b-4704-ae9e-b44a23fd6ebe\" target=\"_top\" title=\"psysml:76f03fcf-c31b-4704-ae9e-b44a23fd6ebe\" xlink:actuate=\"onRequest\" xlink:href=\"psysml:76f03fcf-c31b-4704-ae9e-b44a23fd6ebe\" xlink:show=\"new\" xlink:title=\"psysml:76f03fcf-c31b-4704-ae9e-b44a23fd6ebe\" xlink:type=\"simple\"><polygon fill=\"#FFFFFF\" points=\"16,6,134,6,141,28.2969,1184,28.2969,1184,464,16,464,16,6\" style=\"stroke: #000000; stroke-width: 1.5;\"/><line style=\"stroke: #000000; stroke-width: 1.5;\" x1=\"16\" x2=\"141\" y1=\"28.2969\" y2=\"28.2969\"/><text fill=\"#000000\" font-family=\"sans-serif\" font-size=\"14\" font-weight=\"bold\" lengthAdjust=\"spacingAndGlyphs\" textLength=\"112\" x=\"20\" y=\"20.9951\">OccurrenceTest</text></a><!--MD5=[b4997ac47864f28c2f74865a473b2911]\n",
       "class E2--><a href=\"psysml:eaa0b96d-7da2-44a7-b980-6b6f36747918\" target=\"_top\" title=\"psysml:eaa0b96d-7da2-44a7-b980-6b6f36747918\" xlink:actuate=\"onRequest\" xlink:href=\"psysml:eaa0b96d-7da2-44a7-b980-6b6f36747918\" xlink:show=\"new\" xlink:title=\"psysml:eaa0b96d-7da2-44a7-b980-6b6f36747918\" xlink:type=\"simple\"><rect fill=\"#FFFFFF\" height=\"75.5469\" id=\"E2\" style=\"stroke: #383838; stroke-width: 1.5;\" width=\"115\" x=\"287.5\" y=\"240\"/><text fill=\"#000000\" font-family=\"sans-serif\" font-size=\"12\" font-style=\"italic\" lengthAdjust=\"spacingAndGlyphs\" textLength=\"113\" x=\"288.5\" y=\"256.1387\">«occurrence  def»</text><text fill=\"#000000\" font-family=\"sans-serif\" font-size=\"12\" lengthAdjust=\"spacingAndGlyphs\" textLength=\"23\" x=\"333.5\" y=\"270.1074\">Occ</text><line style=\"stroke: #383838; stroke-width: 1.5;\" x1=\"288.5\" x2=\"401.5\" y1=\"277.9375\" y2=\"277.9375\"/><text fill=\"#000000\" font-family=\"sans-serif\" font-size=\"11\" lengthAdjust=\"spacingAndGlyphs\" textLength=\"7\" x=\"293.5\" y=\"308.9526\">a</text><line style=\"stroke: #383838; stroke-width: 1.0;\" x1=\"288.5\" x2=\"317.5\" y1=\"292.3398\" y2=\"292.3398\"/><text fill=\"#000000\" font-family=\"sans-serif\" font-size=\"11\" lengthAdjust=\"spacingAndGlyphs\" textLength=\"55\" x=\"317.5\" y=\"295.6479\">attributes</text><line style=\"stroke: #383838; stroke-width: 1.0;\" x1=\"372.5\" x2=\"401.5\" y1=\"292.3398\" y2=\"292.3398\"/></a><!--MD5=[09b614a08d8cba4a07c9adeb5e0fee81]\n",
       "class E3--><a href=\"psysml:87fca259-1c14-4b5b-983e-37895f6ff77b\" target=\"_top\" title=\"psysml:87fca259-1c14-4b5b-983e-37895f6ff77b\" xlink:actuate=\"onRequest\" xlink:href=\"psysml:87fca259-1c14-4b5b-983e-37895f6ff77b\" xlink:show=\"new\" xlink:title=\"psysml:87fca259-1c14-4b5b-983e-37895f6ff77b\" xlink:type=\"simple\"><rect fill=\"#FFFFFF\" height=\"45.9375\" id=\"E3\" rx=\"10\" ry=\"10\" style=\"stroke: #383838; stroke-width: 1.5;\" width=\"87\" x=\"571.5\" y=\"321\"/><text fill=\"#000000\" font-family=\"sans-serif\" font-size=\"12\" font-style=\"italic\" lengthAdjust=\"spacingAndGlyphs\" textLength=\"85\" x=\"572.5\" y=\"337.1387\">«occurrence»</text><text fill=\"#000000\" font-family=\"sans-serif\" font-size=\"12\" lengthAdjust=\"spacingAndGlyphs\" textLength=\"61\" x=\"582.5\" y=\"351.1074\">occ1: Occ</text><line style=\"stroke: #383838; stroke-width: 1.5;\" x1=\"572.5\" x2=\"657.5\" y1=\"358.9375\" y2=\"358.9375\"/></a><!--MD5=[ebbe1d658d1005bcc118a6aa81145e00]\n",
       "class E4--><a href=\"psysml:ffd2f288-180d-4271-8880-cf9706207ba2\" target=\"_top\" title=\"psysml:ffd2f288-180d-4271-8880-cf9706207ba2\" xlink:actuate=\"onRequest\" xlink:href=\"psysml:ffd2f288-180d-4271-8880-cf9706207ba2\" xlink:show=\"new\" xlink:title=\"psysml:ffd2f288-180d-4271-8880-cf9706207ba2\" xlink:type=\"simple\"><rect fill=\"#FFFFFF\" height=\"45.9375\" id=\"E4\" rx=\"10\" ry=\"10\" style=\"stroke: #383838; stroke-width: 1.5;\" width=\"87\" x=\"571.5\" y=\"240\"/><text fill=\"#000000\" font-family=\"sans-serif\" font-size=\"12\" font-style=\"italic\" lengthAdjust=\"spacingAndGlyphs\" textLength=\"85\" x=\"572.5\" y=\"256.1387\">«occurrence»</text><text fill=\"#000000\" font-family=\"sans-serif\" font-size=\"12\" lengthAdjust=\"spacingAndGlyphs\" textLength=\"61\" x=\"582.5\" y=\"270.1074\">occ2: Occ</text><line style=\"stroke: #383838; stroke-width: 1.5;\" x1=\"572.5\" x2=\"657.5\" y1=\"277.9375\" y2=\"277.9375\"/></a><!--MD5=[270fce915f116d4de14055a7c1d9a0f3]\n",
       "class E5--><a href=\"psysml:4e1769cc-a186-417e-91f0-587d1f1196e7\" target=\"_top\" title=\"psysml:4e1769cc-a186-417e-91f0-587d1f1196e7\" xlink:actuate=\"onRequest\" xlink:href=\"psysml:4e1769cc-a186-417e-91f0-587d1f1196e7\" xlink:show=\"new\" xlink:title=\"psysml:4e1769cc-a186-417e-91f0-587d1f1196e7\" xlink:type=\"simple\"><rect fill=\"#FFFFFF\" height=\"45.9375\" id=\"E5\" rx=\"10\" ry=\"10\" style=\"stroke: #383838; stroke-width: 1.5;\" width=\"212\" x=\"509\" y=\"159\"/><text fill=\"#000000\" font-family=\"sans-serif\" font-size=\"12\" font-style=\"italic\" lengthAdjust=\"spacingAndGlyphs\" textLength=\"210\" x=\"510\" y=\"175.1387\">«individual snapshot occurrence»</text><text fill=\"#000000\" font-family=\"sans-serif\" font-size=\"12\" lengthAdjust=\"spacingAndGlyphs\" textLength=\"34\" x=\"596\" y=\"189.1074\">s: Ind</text><line style=\"stroke: #383838; stroke-width: 1.5;\" x1=\"510\" x2=\"720\" y1=\"196.9375\" y2=\"196.9375\"/></a><!--MD5=[60a26617385b1d2d0262a64233df1f8d]\n",
       "class E6--><a href=\"psysml:9c61ac47-8b4e-45e2-802a-f3aa096140c4\" target=\"_top\" title=\"psysml:9c61ac47-8b4e-45e2-802a-f3aa096140c4\" xlink:actuate=\"onRequest\" xlink:href=\"psysml:9c61ac47-8b4e-45e2-802a-f3aa096140c4\" xlink:show=\"new\" xlink:title=\"psysml:9c61ac47-8b4e-45e2-802a-f3aa096140c4\" xlink:type=\"simple\"><rect fill=\"#FFFFFF\" height=\"45.9375\" id=\"E6\" rx=\"10\" ry=\"10\" style=\"stroke: #383838; stroke-width: 1.5;\" width=\"146\" x=\"542\" y=\"78\"/><text fill=\"#000000\" font-family=\"sans-serif\" font-size=\"12\" font-style=\"italic\" lengthAdjust=\"spacingAndGlyphs\" textLength=\"144\" x=\"543\" y=\"94.1387\">«timeslice occurrence»</text><text fill=\"#000000\" font-family=\"sans-serif\" font-size=\"12\" lengthAdjust=\"spacingAndGlyphs\" textLength=\"5\" x=\"610.5\" y=\"108.1074\">t</text><line style=\"stroke: #383838; stroke-width: 1.5;\" x1=\"543\" x2=\"687\" y1=\"115.9375\" y2=\"115.9375\"/></a><!--MD5=[2156ba9850f5573cc1fc38a6a4b2f02b]\n",
       "class E7--><a href=\"psysml:54e4af67-f268-48a3-80b8-bc1579f32c01\" target=\"_top\" title=\"psysml:54e4af67-f268-48a3-80b8-bc1579f32c01\" xlink:actuate=\"onRequest\" xlink:href=\"psysml:54e4af67-f268-48a3-80b8-bc1579f32c01\" xlink:show=\"new\" xlink:title=\"psysml:54e4af67-f268-48a3-80b8-bc1579f32c01\" xlink:type=\"simple\"><rect fill=\"#FFFFFF\" height=\"45.9375\" id=\"E7\" style=\"stroke: #383838; stroke-width: 1.5;\" width=\"177\" x=\"781\" y=\"159\"/><text fill=\"#000000\" font-family=\"sans-serif\" font-size=\"12\" font-style=\"italic\" lengthAdjust=\"spacingAndGlyphs\" textLength=\"175\" x=\"782\" y=\"175.1387\">«individual occurrence  def»</text><text fill=\"#000000\" font-family=\"sans-serif\" font-size=\"12\" lengthAdjust=\"spacingAndGlyphs\" textLength=\"19\" x=\"860\" y=\"189.1074\">Ind</text><line style=\"stroke: #383838; stroke-width: 1.5;\" x1=\"782\" x2=\"957\" y1=\"196.9375\" y2=\"196.9375\"/></a><!--MD5=[b9389687b975829384b498ac4b7476b2]\n",
       "class E8--><a href=\"psysml:bfc31472-e77d-4111-949c-57e124b09868\" target=\"_top\" title=\"psysml:bfc31472-e77d-4111-949c-57e124b09868\" xlink:actuate=\"onRequest\" xlink:href=\"psysml:bfc31472-e77d-4111-949c-57e124b09868\" xlink:show=\"new\" xlink:title=\"psysml:bfc31472-e77d-4111-949c-57e124b09868\" xlink:type=\"simple\"><rect fill=\"#FFFFFF\" height=\"45.9375\" id=\"E8\" rx=\"10\" ry=\"10\" style=\"stroke: #383838; stroke-width: 1.5;\" width=\"150\" x=\"1018\" y=\"199\"/><text fill=\"#000000\" font-family=\"sans-serif\" font-size=\"12\" font-style=\"italic\" lengthAdjust=\"spacingAndGlyphs\" textLength=\"148\" x=\"1019\" y=\"215.1387\">«snapshot occurrence»</text><text fill=\"#000000\" font-family=\"sans-serif\" font-size=\"12\" lengthAdjust=\"spacingAndGlyphs\" textLength=\"15\" x=\"1083.5\" y=\"229.1074\">s2</text><line style=\"stroke: #383838; stroke-width: 1.5;\" x1=\"1019\" x2=\"1167\" y1=\"236.9375\" y2=\"236.9375\"/></a><!--MD5=[fd4143e9d270a159db93a4ea2a975926]\n",
       "class E9--><a href=\"psysml:25521b86-d75d-41e6-9d0e-592064bc2653\" target=\"_top\" title=\"psysml:25521b86-d75d-41e6-9d0e-592064bc2653\" xlink:actuate=\"onRequest\" xlink:href=\"psysml:25521b86-d75d-41e6-9d0e-592064bc2653\" xlink:show=\"new\" xlink:title=\"psysml:25521b86-d75d-41e6-9d0e-592064bc2653\" xlink:type=\"simple\"><rect fill=\"#FFFFFF\" height=\"45.9375\" id=\"E9\" rx=\"10\" ry=\"10\" style=\"stroke: #383838; stroke-width: 1.5;\" width=\"146\" x=\"1020\" y=\"118\"/><text fill=\"#000000\" font-family=\"sans-serif\" font-size=\"12\" font-style=\"italic\" lengthAdjust=\"spacingAndGlyphs\" textLength=\"144\" x=\"1021\" y=\"134.1387\">«timeslice occurrence»</text><text fill=\"#000000\" font-family=\"sans-serif\" font-size=\"12\" lengthAdjust=\"spacingAndGlyphs\" textLength=\"13\" x=\"1084.5\" y=\"148.1074\">t2</text><line style=\"stroke: #383838; stroke-width: 1.5;\" x1=\"1021\" x2=\"1165\" y1=\"155.9375\" y2=\"155.9375\"/></a><!--MD5=[96f4274e9e20536e775497830990834d]\n",
       "class E10--><a href=\"psysml:ec83ca81-a881-4da3-97a0-46e2b6aae84c\" target=\"_top\" title=\"psysml:ec83ca81-a881-4da3-97a0-46e2b6aae84c\" xlink:actuate=\"onRequest\" xlink:href=\"psysml:ec83ca81-a881-4da3-97a0-46e2b6aae84c\" xlink:show=\"new\" xlink:title=\"psysml:ec83ca81-a881-4da3-97a0-46e2b6aae84c\" xlink:type=\"simple\"><rect fill=\"#FFFFFF\" height=\"45.9375\" id=\"E10\" rx=\"10\" ry=\"10\" style=\"stroke: #383838; stroke-width: 1.5;\" width=\"149\" x=\"32\" y=\"152\"/><text fill=\"#000000\" font-family=\"sans-serif\" font-size=\"12\" font-style=\"italic\" lengthAdjust=\"spacingAndGlyphs\" textLength=\"147\" x=\"33\" y=\"168.1387\">«individual occurrence»</text><text fill=\"#000000\" font-family=\"sans-serif\" font-size=\"12\" lengthAdjust=\"spacingAndGlyphs\" textLength=\"77\" x=\"66\" y=\"182.1074\">ind: Ind, Occ</text><line style=\"stroke: #383838; stroke-width: 1.5;\" x1=\"33\" x2=\"180\" y1=\"189.9375\" y2=\"189.9375\"/></a><!--MD5=[1dd1bfd58a279cf63c5f349dbc8fc6a1]\n",
       "class E11--><a href=\"psysml:fe74329f-5d2b-4ebe-b106-a7ecca7a6fbd\" target=\"_top\" title=\"psysml:fe74329f-5d2b-4ebe-b106-a7ecca7a6fbd\" xlink:actuate=\"onRequest\" xlink:href=\"psysml:fe74329f-5d2b-4ebe-b106-a7ecca7a6fbd\" xlink:show=\"new\" xlink:title=\"psysml:fe74329f-5d2b-4ebe-b106-a7ecca7a6fbd\" xlink:type=\"simple\"><rect fill=\"#FFFFFF\" height=\"45.9375\" id=\"E11\" rx=\"10\" ry=\"10\" style=\"stroke: #383838; stroke-width: 1.5;\" width=\"150\" x=\"270\" y=\"122\"/><text fill=\"#000000\" font-family=\"sans-serif\" font-size=\"12\" font-style=\"italic\" lengthAdjust=\"spacingAndGlyphs\" textLength=\"148\" x=\"271\" y=\"138.1387\">«snapshot occurrence»</text><text fill=\"#000000\" font-family=\"sans-serif\" font-size=\"12\" lengthAdjust=\"spacingAndGlyphs\" textLength=\"15\" x=\"335.5\" y=\"152.1074\">s3</text><line style=\"stroke: #383838; stroke-width: 1.5;\" x1=\"271\" x2=\"419\" y1=\"159.9375\" y2=\"159.9375\"/></a><!--MD5=[49a0ec8f00dab7302a31f22d0f0fe584]\n",
       "class E12--><a href=\"psysml:6925098a-d5ed-431f-aaf1-d453853f914b\" target=\"_top\" title=\"psysml:6925098a-d5ed-431f-aaf1-d453853f914b\" xlink:actuate=\"onRequest\" xlink:href=\"psysml:6925098a-d5ed-431f-aaf1-d453853f914b\" xlink:show=\"new\" xlink:title=\"psysml:6925098a-d5ed-431f-aaf1-d453853f914b\" xlink:type=\"simple\"><rect fill=\"#FFFFFF\" height=\"45.9375\" id=\"E12\" rx=\"10\" ry=\"10\" style=\"stroke: #383838; stroke-width: 1.5;\" width=\"208\" x=\"241\" y=\"41\"/><text fill=\"#000000\" font-family=\"sans-serif\" font-size=\"12\" font-style=\"italic\" lengthAdjust=\"spacingAndGlyphs\" textLength=\"206\" x=\"242\" y=\"57.1387\">«individual timeslice occurrence»</text><text fill=\"#000000\" font-family=\"sans-serif\" font-size=\"12\" lengthAdjust=\"spacingAndGlyphs\" textLength=\"13\" x=\"336.5\" y=\"71.1074\">t3</text><line style=\"stroke: #383838; stroke-width: 1.5;\" x1=\"242\" x2=\"448\" y1=\"78.9375\" y2=\"78.9375\"/></a><!--MD5=[ee3c913d1a06f366521f9ef512b67efe]\n",
       "class E13--><a href=\"psysml:4e4d3416-6ae1-42d7-bc86-2084c913e314\" target=\"_top\" title=\"psysml:4e4d3416-6ae1-42d7-bc86-2084c913e314\" xlink:actuate=\"onRequest\" xlink:href=\"psysml:4e4d3416-6ae1-42d7-bc86-2084c913e314\" xlink:show=\"new\" xlink:title=\"psysml:4e4d3416-6ae1-42d7-bc86-2084c913e314\" xlink:type=\"simple\"><rect fill=\"#FFFFFF\" height=\"45.9375\" id=\"E13\" rx=\"10\" ry=\"10\" style=\"stroke: #383838; stroke-width: 1.5;\" width=\"212\" x=\"509\" y=\"402\"/><text fill=\"#000000\" font-family=\"sans-serif\" font-size=\"12\" font-style=\"italic\" lengthAdjust=\"spacingAndGlyphs\" textLength=\"210\" x=\"510\" y=\"418.1387\">«individual snapshot occurrence»</text><text fill=\"#000000\" font-family=\"sans-serif\" font-size=\"12\" lengthAdjust=\"spacingAndGlyphs\" textLength=\"42\" x=\"592\" y=\"432.1074\">s4: Ind</text><line style=\"stroke: #383838; stroke-width: 1.5;\" x1=\"510\" x2=\"720\" y1=\"439.9375\" y2=\"439.9375\"/></a><!--MD5=[209b3feb70ccb6233bfe1053d122c12c]\n",
       "reverse link E2 to E3--><a href=\"psysml:62ea934f-12d4-42a0-b786-a1086ef654f4\" target=\"_top\" title=\"psysml:62ea934f-12d4-42a0-b786-a1086ef654f4\" xlink:actuate=\"onRequest\" xlink:href=\"psysml:62ea934f-12d4-42a0-b786-a1086ef654f4\" xlink:show=\"new\" xlink:title=\"psysml:62ea934f-12d4-42a0-b786-a1086ef654f4\" xlink:type=\"simple\"><path d=\"M415.01,306.31 C464.34,320.82 529.17,336.23 571.21,343.1 \" fill=\"none\" id=\"E2&lt;-E3\" style=\"stroke: #383838; stroke-width: 1.0;\"/><polygon fill=\"#FFFFFF\" points=\"402.51,302.54,407.0994,308.1022,413.9988,306.0051,409.4094,300.4429,402.51,302.54\" style=\"stroke: #383838; stroke-width: 1.0;\"/></a><!--MD5=[05d275557350bfb9b23a4ef7222b4c39]\n",
       "link E3 to E2--><a href=\"psysml:72edb9ed-f456-4be1-846b-a7c4b7fb6ef3\" target=\"_top\" title=\"psysml:72edb9ed-f456-4be1-846b-a7c4b7fb6ef3\" xlink:actuate=\"onRequest\" xlink:href=\"psysml:72edb9ed-f456-4be1-846b-a7c4b7fb6ef3\" xlink:show=\"new\" xlink:title=\"psysml:72edb9ed-f456-4be1-846b-a7c4b7fb6ef3\" xlink:type=\"simple\"><path d=\"M571.21,323.25 C531.22,309.9 470.62,294.27 422.34,284.48 \" fill=\"none\" id=\"E3-&gt;E2\" style=\"stroke: #383838; stroke-width: 1.0;\"/><polygon fill=\"#FFFFFF\" points=\"402.51,280.67,422.4891,277.3781,419.8493,291.127,402.51,280.67\" style=\"stroke: #383838; stroke-width: 1.0;\"/><ellipse cx=\"427.7097\" cy=\"280.417\" fill=\"#383838\" rx=\"2\" ry=\"2\" style=\"stroke: #383838; stroke-width: 1.0;\"/><ellipse cx=\"425.8242\" cy=\"290.2376\" fill=\"#383838\" rx=\"2\" ry=\"2\" style=\"stroke: #383838; stroke-width: 1.0;\"/></a><!--MD5=[9618e71518536f8baf3342ff6fdab317]\n",
       "reverse link E2 to E4--><a href=\"psysml:1930a264-e184-4aca-ae40-6206f5d09a7f\" target=\"_top\" title=\"psysml:1930a264-e184-4aca-ae40-6206f5d09a7f\" xlink:actuate=\"onRequest\" xlink:href=\"psysml:1930a264-e184-4aca-ae40-6206f5d09a7f\" xlink:show=\"new\" xlink:title=\"psysml:1930a264-e184-4aca-ae40-6206f5d09a7f\" xlink:type=\"simple\"><path d=\"M415.64,285.44 C464.89,285.02 529.35,280.85 571.21,275.03 \" fill=\"none\" id=\"E2&lt;-E4\" style=\"stroke: #383838; stroke-width: 1.0;\"/><polygon fill=\"#383838\" points=\"402.51,285.46,408.5188,289.4468,414.51,285.4336,408.5012,281.4468,402.51,285.46\" style=\"stroke: #383838; stroke-width: 1.0;\"/></a><!--MD5=[185131fc0dcab0a4505a2ebe144e961b]\n",
       "link E4 to E2--><a href=\"psysml:32367fe5-1bb2-4952-a335-a8970d1d9f84\" target=\"_top\" title=\"psysml:32367fe5-1bb2-4952-a335-a8970d1d9f84\" xlink:actuate=\"onRequest\" xlink:href=\"psysml:32367fe5-1bb2-4952-a335-a8970d1d9f84\" xlink:show=\"new\" xlink:title=\"psysml:32367fe5-1bb2-4952-a335-a8970d1d9f84\" xlink:type=\"simple\"><path d=\"M571.21,255.19 C531.31,253.92 470.89,256.59 422.67,261.37 \" fill=\"none\" id=\"E4-&gt;E2\" style=\"stroke: #383838; stroke-width: 1.0;\"/><polygon fill=\"#FFFFFF\" points=\"402.51,263.59,420.6308,254.5546,422.1614,268.4707,402.51,263.59\" style=\"stroke: #383838; stroke-width: 1.0;\"/><ellipse cx=\"426.5153\" cy=\"255.9194\" fill=\"#383838\" rx=\"2\" ry=\"2\" style=\"stroke: #383838; stroke-width: 1.0;\"/><ellipse cx=\"427.6086\" cy=\"265.8595\" fill=\"#383838\" rx=\"2\" ry=\"2\" style=\"stroke: #383838; stroke-width: 1.0;\"/></a><!--MD5=[4e1a83fab71cdb913c109063314ae896]\n",
       "reverse link E2 to E5--><a href=\"psysml:0faf658f-4e02-48cd-849b-e0220b5d7629\" target=\"_top\" title=\"psysml:0faf658f-4e02-48cd-849b-e0220b5d7629\" xlink:actuate=\"onRequest\" xlink:href=\"psysml:0faf658f-4e02-48cd-849b-e0220b5d7629\" xlink:show=\"new\" xlink:title=\"psysml:0faf658f-4e02-48cd-849b-e0220b5d7629\" xlink:type=\"simple\"><path d=\"M415,253.28 C456.49,238.42 508.93,219.64 549.57,205.08 \" fill=\"none\" id=\"E2&lt;-E5\" style=\"stroke: #383838; stroke-width: 1.0;\"/><polygon fill=\"#383838\" points=\"402.51,257.76,409.5075,259.5022,413.807,253.7131,406.8095,251.9709,402.51,257.76\" style=\"stroke: #383838; stroke-width: 1.0;\"/></a><!--MD5=[ce036f65110ae2351ccce5a81dc2e928]\n",
       "reverse link E2 to E6--><a href=\"psysml:3f965610-dfca-4051-a1f3-35306b55574a\" target=\"_top\" title=\"psysml:3f965610-dfca-4051-a1f3-35306b55574a\" xlink:actuate=\"onRequest\" xlink:href=\"psysml:3f965610-dfca-4051-a1f3-35306b55574a\" xlink:show=\"new\" xlink:title=\"psysml:3f965610-dfca-4051-a1f3-35306b55574a\" xlink:type=\"simple\"><path d=\"M413.69,239.57 C425.94,231.44 438.22,222.44 449,213 C480.33,185.55 475.1,165.2 509,141 C518.92,133.92 530.26,127.91 541.73,122.87 \" fill=\"none\" id=\"E2&lt;-E6\" style=\"stroke: #383838; stroke-width: 1.0;\"/><polygon fill=\"#383838\" points=\"402.51,246.77,409.7202,246.8821,412.5969,240.2696,405.3866,240.1575,402.51,246.77\" style=\"stroke: #383838; stroke-width: 1.0;\"/></a><!--MD5=[3a9b96bfbf6b6ad89c494e81751bda47]\n",
       "link E5 to E7--><a href=\"psysml:5b4e0f94-bd6c-4a04-8036-e6bb7f85be93\" target=\"_top\" title=\"psysml:5b4e0f94-bd6c-4a04-8036-e6bb7f85be93\" xlink:actuate=\"onRequest\" xlink:href=\"psysml:5b4e0f94-bd6c-4a04-8036-e6bb7f85be93\" xlink:show=\"new\" xlink:title=\"psysml:5b4e0f94-bd6c-4a04-8036-e6bb7f85be93\" xlink:type=\"simple\"><path d=\"M721.25,182 C734.22,182 747.49,182 760.49,182 \" fill=\"none\" id=\"E5-&gt;E7\" style=\"stroke: #383838; stroke-width: 1.0;\"/><polygon fill=\"#FFFFFF\" points=\"780.63,182,761.63,189,761.63,175,780.63,182\" style=\"stroke: #383838; stroke-width: 1.0;\"/><ellipse cx=\"755.93\" cy=\"187\" fill=\"#383838\" rx=\"2\" ry=\"2\" style=\"stroke: #383838; stroke-width: 1.0;\"/><ellipse cx=\"755.93\" cy=\"177\" fill=\"#383838\" rx=\"2\" ry=\"2\" style=\"stroke: #383838; stroke-width: 1.0;\"/></a><!--MD5=[dc164f5e8a733ab456ef1add180e9e34]\n",
       "reverse link E7 to E8--><a href=\"psysml:37f490ca-8c9f-44ef-b281-38d91f32f2bf\" target=\"_top\" title=\"psysml:37f490ca-8c9f-44ef-b281-38d91f32f2bf\" xlink:actuate=\"onRequest\" xlink:href=\"psysml:37f490ca-8c9f-44ef-b281-38d91f32f2bf\" xlink:show=\"new\" xlink:title=\"psysml:37f490ca-8c9f-44ef-b281-38d91f32f2bf\" xlink:type=\"simple\"><path d=\"M971.18,200.18 C986.93,203.02 1002.95,205.92 1017.96,208.63 \" fill=\"none\" id=\"E7&lt;-E8\" style=\"stroke: #383838; stroke-width: 1.0;\"/><polygon fill=\"#383838\" points=\"958.04,197.81,963.238,202.8081,969.8508,199.9323,964.6528,194.9342,958.04,197.81\" style=\"stroke: #383838; stroke-width: 1.0;\"/></a><!--MD5=[e4a10ef82d0e328e31cac39a31e58dda]\n",
       "reverse link E7 to E9--><a href=\"psysml:c791e7ed-713f-4106-b9d5-0dfb97ea4543\" target=\"_top\" title=\"psysml:c791e7ed-713f-4106-b9d5-0dfb97ea4543\" xlink:actuate=\"onRequest\" xlink:href=\"psysml:c791e7ed-713f-4106-b9d5-0dfb97ea4543\" xlink:show=\"new\" xlink:title=\"psysml:c791e7ed-713f-4106-b9d5-0dfb97ea4543\" xlink:type=\"simple\"><path d=\"M971.09,163.38 C987.48,160.35 1004.17,157.26 1019.71,154.38 \" fill=\"none\" id=\"E7&lt;-E9\" style=\"stroke: #383838; stroke-width: 1.0;\"/><polygon fill=\"#383838\" points=\"958.04,165.8,964.6663,168.6446,969.8407,163.622,963.2144,160.7774,958.04,165.8\" style=\"stroke: #383838; stroke-width: 1.0;\"/></a><!--MD5=[a919e0967d6f3de553dc51b9865a1d6d]\n",
       "link E10 to E7--><a href=\"psysml:d7bf13fe-2343-4091-93b6-ccc05bfccd1c\" target=\"_top\" title=\"psysml:d7bf13fe-2343-4091-93b6-ccc05bfccd1c\" xlink:actuate=\"onRequest\" xlink:href=\"psysml:d7bf13fe-2343-4091-93b6-ccc05bfccd1c\" xlink:show=\"new\" xlink:title=\"psysml:d7bf13fe-2343-4091-93b6-ccc05bfccd1c\" xlink:type=\"simple\"><path d=\"M176.21,198.02 C249.67,218.13 366.67,236.81 449,185 C501.16,152.18 456.84,92.82 509,60 C588.75,9.82 632.35,28.09 721,60 C767.04,76.57 808.91,114.44 836.18,143.62 \" fill=\"none\" id=\"E10-&gt;E7\" style=\"stroke: #383838; stroke-width: 1.0;\"/><polygon fill=\"#FFFFFF\" points=\"849.76,158.75,831.8607,149.2835,842.2807,139.9335,849.76,158.75\" style=\"stroke: #383838; stroke-width: 1.0;\"/><ellipse cx=\"829.5424\" cy=\"143.7054\" fill=\"#383838\" rx=\"2\" ry=\"2\" style=\"stroke: #383838; stroke-width: 1.0;\"/><ellipse cx=\"836.9853\" cy=\"137.0268\" fill=\"#383838\" rx=\"2\" ry=\"2\" style=\"stroke: #383838; stroke-width: 1.0;\"/></a><!--MD5=[0f36bececdf0dff6e600d6f64214b0f1]\n",
       "link E10 to E2--><a href=\"psysml:65e23dda-2765-4b86-8b8c-165f4272381c\" target=\"_top\" title=\"psysml:65e23dda-2765-4b86-8b8c-165f4272381c\" xlink:actuate=\"onRequest\" xlink:href=\"psysml:65e23dda-2765-4b86-8b8c-165f4272381c\" xlink:show=\"new\" xlink:title=\"psysml:65e23dda-2765-4b86-8b8c-165f4272381c\" xlink:type=\"simple\"><path d=\"M160.58,198.12 C192.55,212.04 233.78,230 269.04,245.35 \" fill=\"none\" id=\"E10-&gt;E2\" style=\"stroke: #383838; stroke-width: 1.0;\"/><polygon fill=\"#FFFFFF\" points=\"287.39,253.34,267.1751,252.1739,272.7635,239.3376,287.39,253.34\" style=\"stroke: #383838; stroke-width: 1.0;\"/><ellipse cx=\"262.7473\" cy=\"248.0649\" fill=\"#383838\" rx=\"2\" ry=\"2\" style=\"stroke: #383838; stroke-width: 1.0;\"/><ellipse cx=\"266.739\" cy=\"238.8961\" fill=\"#383838\" rx=\"2\" ry=\"2\" style=\"stroke: #383838; stroke-width: 1.0;\"/></a><!--MD5=[de308be4a2431766a05a907a031c07fc]\n",
       "reverse link E10 to E11--><a href=\"psysml:996a22eb-9701-44d5-9cb6-35ae83d4d1b1\" target=\"_top\" title=\"psysml:996a22eb-9701-44d5-9cb6-35ae83d4d1b1\" xlink:actuate=\"onRequest\" xlink:href=\"psysml:996a22eb-9701-44d5-9cb6-35ae83d4d1b1\" xlink:show=\"new\" xlink:title=\"psysml:996a22eb-9701-44d5-9cb6-35ae83d4d1b1\" xlink:type=\"simple\"><path d=\"M194.17,164.01 C218.95,160.86 245.73,157.47 269.7,154.43 \" fill=\"none\" id=\"E10&lt;-E11\" style=\"stroke: #383838; stroke-width: 1.0;\"/><polygon fill=\"#383838\" points=\"181.03,165.67,187.4838,168.887,192.9355,164.167,186.4817,160.95,181.03,165.67\" style=\"stroke: #383838; stroke-width: 1.0;\"/></a><!--MD5=[1d54f998c6d5961a1a9184be73a7eb6c]\n",
       "reverse link E10 to E12--><a href=\"psysml:da3311a8-2759-47ea-b229-fd34ee887055\" target=\"_top\" title=\"psysml:da3311a8-2759-47ea-b229-fd34ee887055\" xlink:actuate=\"onRequest\" xlink:href=\"psysml:da3311a8-2759-47ea-b229-fd34ee887055\" xlink:show=\"new\" xlink:title=\"psysml:da3311a8-2759-47ea-b229-fd34ee887055\" xlink:type=\"simple\"><path d=\"M159.31,145.61 C183.75,132.22 213.52,116.59 241,104 C253.82,98.13 267.77,92.33 281.14,87.05 \" fill=\"none\" id=\"E10&lt;-E12\" style=\"stroke: #383838; stroke-width: 1.0;\"/><polygon fill=\"#383838\" points=\"147.77,151.98,154.9559,152.5819,158.2754,146.1803,151.0895,145.5783,147.77,151.98\" style=\"stroke: #383838; stroke-width: 1.0;\"/></a><!--MD5=[4a48077df6499cfcd20b62e8f5f37904]\n",
       "link E13 to E7--><a href=\"psysml:fb78d99f-0705-4d43-aabd-2eaf1ce47389\" target=\"_top\" title=\"psysml:fb78d99f-0705-4d43-aabd-2eaf1ce47389\" xlink:actuate=\"onRequest\" xlink:href=\"psysml:fb78d99f-0705-4d43-aabd-2eaf1ce47389\" xlink:show=\"new\" xlink:title=\"psysml:fb78d99f-0705-4d43-aabd-2eaf1ce47389\" xlink:type=\"simple\"><path d=\"M690.86,401.92 C701.52,396.92 711.93,390.98 721,384 C778.07,340.05 823.11,268.25 847.75,223.14 \" fill=\"none\" id=\"E13-&gt;E7\" style=\"stroke: #383838; stroke-width: 1.0;\"/><polygon fill=\"#FFFFFF\" points=\"857.18,205.32,854.4752,225.387,842.1026,218.8356,857.18,205.32\" style=\"stroke: #383838; stroke-width: 1.0;\"/><ellipse cx=\"850.0403\" cy=\"229.4885\" fill=\"#383838\" rx=\"2\" ry=\"2\" style=\"stroke: #383838; stroke-width: 1.0;\"/><ellipse cx=\"841.2028\" cy=\"224.8089\" fill=\"#383838\" rx=\"2\" ry=\"2\" style=\"stroke: #383838; stroke-width: 1.0;\"/></a><!--MD5=[211b5806d30735f88fd26e0e8fd810e7]\n",
       "@startuml\r\n",
       "left to right direction\r\n",
       "skinparam monochrome true\r\n",
       "skinparam classbackgroundcolor white\r\n",
       "skinparam shadowing false\r\n",
       "skinparam wrapWidth 300\r\n",
       "hide circle\r\n",
       "\r\n",
       "package \"OccurrenceTest\" as E1  [[psysml:76f03fcf-c31b-4704-ae9e-b44a23fd6ebe ]]  {\r\n",
       "comp def \"Occ\" as E2  <<(T,blue) occurrence  def>> [[psysml:eaa0b96d-7da2-44a7-b980-6b6f36747918 ]] {\r\n",
       "- - attributes - -\r\n",
       "a\r\n",
       "}\r\n",
       "comp usage \"occ1: Occ \" as E3  <<(T,blue) occurrence>> [[psysml:87fca259-1c14-4b5b-983e-37895f6ff77b ]] {\r\n",
       "}\r\n",
       "comp usage \"occ2: Occ \" as E4  <<(T,blue) occurrence>> [[psysml:ffd2f288-180d-4271-8880-cf9706207ba2 ]] {\r\n",
       "}\r\n",
       "comp usage \"s: Ind \" as E5  <<(T,blue) individual snapshot occurrence>> [[psysml:4e1769cc-a186-417e-91f0-587d1f1196e7 ]] {\r\n",
       "}\r\n",
       "comp usage \"t \" as E6  <<(T,blue) timeslice occurrence>> [[psysml:9c61ac47-8b4e-45e2-802a-f3aa096140c4 ]] {\r\n",
       "}\r\n",
       "comp def \"Ind\" as E7  <<(T,blue) individual occurrence  def>> [[psysml:54e4af67-f268-48a3-80b8-bc1579f32c01 ]] {\r\n",
       "}\r\n",
       "comp usage \"s2 \" as E8  <<(T,blue) snapshot occurrence>> [[psysml:bfc31472-e77d-4111-949c-57e124b09868 ]] {\r\n",
       "}\r\n",
       "comp usage \"t2 \" as E9  <<(T,blue) timeslice occurrence>> [[psysml:25521b86-d75d-41e6-9d0e-592064bc2653 ]] {\r\n",
       "}\r\n",
       "comp usage \"ind: Ind, Occ \" as E10  <<(T,blue) individual occurrence>> [[psysml:ec83ca81-a881-4da3-97a0-46e2b6aae84c ]] {\r\n",
       "}\r\n",
       "comp usage \"s3 \" as E11  <<(T,blue) snapshot occurrence>> [[psysml:fe74329f-5d2b-4ebe-b106-a7ecca7a6fbd ]] {\r\n",
       "}\r\n",
       "comp usage \"t3 \" as E12  <<(T,blue) individual timeslice occurrence>> [[psysml:6925098a-d5ed-431f-aaf1-d453853f914b ]] {\r\n",
       "}\r\n",
       "comp usage \"s4: Ind \" as E13  <<(T,blue) individual snapshot occurrence>> [[psysml:4e4d3416-6ae1-42d7-bc86-2084c913e314 ]] {\r\n",
       "}\r\n",
       "}\r\n",
       "E2 o- - E3 [[psysml:62ea934f-12d4-42a0-b786-a1086ef654f4 ]] \r\n",
       "E3 - -:|> E2 [[psysml:72edb9ed-f456-4be1-846b-a7c4b7fb6ef3 ]] \r\n",
       "E2 *- - E4 [[psysml:1930a264-e184-4aca-ae40-6206f5d09a7f ]] \r\n",
       "E4 - -:|> E2 [[psysml:32367fe5-1bb2-4952-a335-a8970d1d9f84 ]] \r\n",
       "E2 *- - E5 [[psysml:0faf658f-4e02-48cd-849b-e0220b5d7629 ]] \r\n",
       "E2 *- - E6 [[psysml:3f965610-dfca-4051-a1f3-35306b55574a ]] \r\n",
       "E5 - -:|> E7 [[psysml:5b4e0f94-bd6c-4a04-8036-e6bb7f85be93 ]] \r\n",
       "E7 *- - E8 [[psysml:37f490ca-8c9f-44ef-b281-38d91f32f2bf ]] \r\n",
       "E7 *- - E9 [[psysml:c791e7ed-713f-4106-b9d5-0dfb97ea4543 ]] \r\n",
       "E10 - -:|> E7 [[psysml:d7bf13fe-2343-4091-93b6-ccc05bfccd1c ]] \r\n",
       "E10 - -:|> E2 [[psysml:65e23dda-2765-4b86-8b8c-165f4272381c ]] \r\n",
       "E10 *- - E11 [[psysml:996a22eb-9701-44d5-9cb6-35ae83d4d1b1 ]] \r\n",
       "E10 *- - E12 [[psysml:da3311a8-2759-47ea-b229-fd34ee887055 ]] \r\n",
       "E13 - -:|> E7 [[psysml:fb78d99f-0705-4d43-aabd-2eaf1ce47389 ]] \r\n",
       "@enduml\r\n",
       "\n",
       "PlantUML version 1.2020.13(Sat Jun 13 12:26:38 UTC 2020)\n",
       "(EPL source distribution)\n",
       "Java Runtime: OpenJDK Runtime Environment\n",
       "JVM: OpenJDK 64-Bit Server VM\n",
       "Default Encoding: UTF-8\n",
       "Language: en\n",
       "Country: null\n",
       "--></g></svg>"
      ]
     },
     "execution_count": 22,
     "metadata": {},
     "output_type": "execute_result"
    }
   ],
   "source": [
    "%viz --style=\"LR\" --view=\"MIXED\" \"OccurrenceTest\""
   ]
  },
  {
   "cell_type": "code",
   "execution_count": 23,
   "id": "c29e7c19",
   "metadata": {
    "execution": {
     "iopub.execute_input": "2022-02-18T10:48:37.665472Z",
     "iopub.status.busy": "2022-02-18T10:48:37.665058Z",
     "iopub.status.idle": "2022-02-18T10:48:37.730603Z",
     "shell.execute_reply": "2022-02-18T10:48:37.730236Z"
    }
   },
   "outputs": [
    {
     "data": {
      "image/svg+xml": [
       "<?xml version=\"1.0\" encoding=\"UTF-8\" standalone=\"no\"?><svg xmlns=\"http://www.w3.org/2000/svg\" xmlns:xlink=\"http://www.w3.org/1999/xlink\" contentScriptType=\"application/ecmascript\" contentStyleType=\"text/css\" height=\"569px\" preserveAspectRatio=\"none\" style=\"width:1009px;height:569px;\" version=\"1.1\" viewBox=\"0 0 1009 569\" width=\"1009px\" zoomAndPan=\"magnify\"><defs><filter height=\"300%\" id=\"f184kzix0mxoju\" width=\"300%\" x=\"-1\" y=\"-1\"><feGaussianBlur result=\"blurOut\" stdDeviation=\"2.0\"/><feColorMatrix in=\"blurOut\" result=\"blurOut2\" type=\"matrix\" values=\"0 0 0 0 0 0 0 0 0 0 0 0 0 0 0 0 0 0 .4 0\"/><feOffset dx=\"4.0\" dy=\"4.0\" in=\"blurOut2\" result=\"blurOut3\"/><feBlend in=\"SourceGraphic\" in2=\"blurOut3\" mode=\"normal\"/></filter></defs><g><!--MD5=[fbc87193dbaf4d95561dea2c320d4a47]\n",
       "cluster E1--><a href=\"psysml:76f03fcf-c31b-4704-ae9e-b44a23fd6ebe\" target=\"_top\" title=\"psysml:76f03fcf-c31b-4704-ae9e-b44a23fd6ebe\" xlink:actuate=\"onRequest\" xlink:href=\"psysml:76f03fcf-c31b-4704-ae9e-b44a23fd6ebe\" xlink:show=\"new\" xlink:title=\"psysml:76f03fcf-c31b-4704-ae9e-b44a23fd6ebe\" xlink:type=\"simple\"><polygon fill=\"#FFFFFF\" filter=\"url(#f184kzix0mxoju)\" points=\"16,6,134,6,141,28.2969,970,28.2969,970,557,16,557,16,6\" style=\"stroke: #000000; stroke-width: 1.5;\"/><line style=\"stroke: #000000; stroke-width: 1.5;\" x1=\"16\" x2=\"141\" y1=\"28.2969\" y2=\"28.2969\"/><text fill=\"#000000\" font-family=\"sans-serif\" font-size=\"14\" font-weight=\"bold\" lengthAdjust=\"spacingAndGlyphs\" textLength=\"112\" x=\"20\" y=\"20.9951\">OccurrenceTest</text></a><!--MD5=[b4997ac47864f28c2f74865a473b2911]\n",
       "class E2--><a href=\"psysml:eaa0b96d-7da2-44a7-b980-6b6f36747918\" target=\"_top\" title=\"psysml:eaa0b96d-7da2-44a7-b980-6b6f36747918\" xlink:actuate=\"onRequest\" xlink:href=\"psysml:eaa0b96d-7da2-44a7-b980-6b6f36747918\" xlink:show=\"new\" xlink:title=\"psysml:eaa0b96d-7da2-44a7-b980-6b6f36747918\" xlink:type=\"simple\"><rect fill=\"#FEFECE\" filter=\"url(#f184kzix0mxoju)\" height=\"75.5469\" id=\"E2\" style=\"stroke: #A80036; stroke-width: 1.5;\" width=\"115\" x=\"373.5\" y=\"147\"/><text fill=\"#000000\" font-family=\"sans-serif\" font-size=\"12\" font-style=\"italic\" lengthAdjust=\"spacingAndGlyphs\" textLength=\"113\" x=\"374.5\" y=\"163.1387\">«occurrence  def»</text><text fill=\"#000000\" font-family=\"sans-serif\" font-size=\"12\" lengthAdjust=\"spacingAndGlyphs\" textLength=\"23\" x=\"419.5\" y=\"177.1074\">Occ</text><line style=\"stroke: #A80036; stroke-width: 1.5;\" x1=\"374.5\" x2=\"487.5\" y1=\"184.9375\" y2=\"184.9375\"/><text fill=\"#000000\" font-family=\"sans-serif\" font-size=\"11\" lengthAdjust=\"spacingAndGlyphs\" textLength=\"7\" x=\"379.5\" y=\"215.9526\">a</text><line style=\"stroke: #A80036; stroke-width: 1.0;\" x1=\"374.5\" x2=\"403.5\" y1=\"199.3398\" y2=\"199.3398\"/><text fill=\"#000000\" font-family=\"sans-serif\" font-size=\"11\" lengthAdjust=\"spacingAndGlyphs\" textLength=\"55\" x=\"403.5\" y=\"202.6479\">attributes</text><line style=\"stroke: #A80036; stroke-width: 1.0;\" x1=\"458.5\" x2=\"487.5\" y1=\"199.3398\" y2=\"199.3398\"/></a><!--MD5=[09b614a08d8cba4a07c9adeb5e0fee81]\n",
       "class E3--><a href=\"psysml:87fca259-1c14-4b5b-983e-37895f6ff77b\" target=\"_top\" title=\"psysml:87fca259-1c14-4b5b-983e-37895f6ff77b\" xlink:actuate=\"onRequest\" xlink:href=\"psysml:87fca259-1c14-4b5b-983e-37895f6ff77b\" xlink:show=\"new\" xlink:title=\"psysml:87fca259-1c14-4b5b-983e-37895f6ff77b\" xlink:type=\"simple\"><rect fill=\"#FEFECE\" filter=\"url(#f184kzix0mxoju)\" height=\"45.9375\" id=\"E3\" rx=\"10\" ry=\"10\" style=\"stroke: #A80036; stroke-width: 1.5;\" width=\"87\" x=\"279.5\" y=\"283\"/><text fill=\"#000000\" font-family=\"sans-serif\" font-size=\"12\" font-style=\"italic\" lengthAdjust=\"spacingAndGlyphs\" textLength=\"85\" x=\"280.5\" y=\"299.1387\">«occurrence»</text><text fill=\"#000000\" font-family=\"sans-serif\" font-size=\"12\" lengthAdjust=\"spacingAndGlyphs\" textLength=\"61\" x=\"290.5\" y=\"313.1074\">occ1: Occ</text><line style=\"stroke: #A80036; stroke-width: 1.5;\" x1=\"280.5\" x2=\"365.5\" y1=\"320.9375\" y2=\"320.9375\"/></a><!--MD5=[ebbe1d658d1005bcc118a6aa81145e00]\n",
       "class E4--><a href=\"psysml:ffd2f288-180d-4271-8880-cf9706207ba2\" target=\"_top\" title=\"psysml:ffd2f288-180d-4271-8880-cf9706207ba2\" xlink:actuate=\"onRequest\" xlink:href=\"psysml:ffd2f288-180d-4271-8880-cf9706207ba2\" xlink:show=\"new\" xlink:title=\"psysml:ffd2f288-180d-4271-8880-cf9706207ba2\" xlink:type=\"simple\"><rect fill=\"#FEFECE\" filter=\"url(#f184kzix0mxoju)\" height=\"45.9375\" id=\"E4\" rx=\"10\" ry=\"10\" style=\"stroke: #A80036; stroke-width: 1.5;\" width=\"87\" x=\"401.5\" y=\"283\"/><text fill=\"#000000\" font-family=\"sans-serif\" font-size=\"12\" font-style=\"italic\" lengthAdjust=\"spacingAndGlyphs\" textLength=\"85\" x=\"402.5\" y=\"299.1387\">«occurrence»</text><text fill=\"#000000\" font-family=\"sans-serif\" font-size=\"12\" lengthAdjust=\"spacingAndGlyphs\" textLength=\"61\" x=\"412.5\" y=\"313.1074\">occ2: Occ</text><line style=\"stroke: #A80036; stroke-width: 1.5;\" x1=\"402.5\" x2=\"487.5\" y1=\"320.9375\" y2=\"320.9375\"/></a><!--MD5=[270fce915f116d4de14055a7c1d9a0f3]\n",
       "class E5--><a href=\"psysml:4e1769cc-a186-417e-91f0-587d1f1196e7\" target=\"_top\" title=\"psysml:4e1769cc-a186-417e-91f0-587d1f1196e7\" xlink:actuate=\"onRequest\" xlink:href=\"psysml:4e1769cc-a186-417e-91f0-587d1f1196e7\" xlink:show=\"new\" xlink:title=\"psysml:4e1769cc-a186-417e-91f0-587d1f1196e7\" xlink:type=\"simple\"><rect fill=\"#FEFECE\" filter=\"url(#f184kzix0mxoju)\" height=\"45.9375\" id=\"E5\" rx=\"10\" ry=\"10\" style=\"stroke: #A80036; stroke-width: 1.5;\" width=\"212\" x=\"524\" y=\"283\"/><text fill=\"#000000\" font-family=\"sans-serif\" font-size=\"12\" font-style=\"italic\" lengthAdjust=\"spacingAndGlyphs\" textLength=\"210\" x=\"525\" y=\"299.1387\">«individual snapshot occurrence»</text><text fill=\"#000000\" font-family=\"sans-serif\" font-size=\"12\" lengthAdjust=\"spacingAndGlyphs\" textLength=\"34\" x=\"611\" y=\"313.1074\">s: Ind</text><line style=\"stroke: #A80036; stroke-width: 1.5;\" x1=\"525\" x2=\"735\" y1=\"320.9375\" y2=\"320.9375\"/></a><!--MD5=[60a26617385b1d2d0262a64233df1f8d]\n",
       "class E6--><a href=\"psysml:9c61ac47-8b4e-45e2-802a-f3aa096140c4\" target=\"_top\" title=\"psysml:9c61ac47-8b4e-45e2-802a-f3aa096140c4\" xlink:actuate=\"onRequest\" xlink:href=\"psysml:9c61ac47-8b4e-45e2-802a-f3aa096140c4\" xlink:show=\"new\" xlink:title=\"psysml:9c61ac47-8b4e-45e2-802a-f3aa096140c4\" xlink:type=\"simple\"><rect fill=\"#FEFECE\" filter=\"url(#f184kzix0mxoju)\" height=\"45.9375\" id=\"E6\" rx=\"10\" ry=\"10\" style=\"stroke: #A80036; stroke-width: 1.5;\" width=\"146\" x=\"771\" y=\"283\"/><text fill=\"#000000\" font-family=\"sans-serif\" font-size=\"12\" font-style=\"italic\" lengthAdjust=\"spacingAndGlyphs\" textLength=\"144\" x=\"772\" y=\"299.1387\">«timeslice occurrence»</text><text fill=\"#000000\" font-family=\"sans-serif\" font-size=\"12\" lengthAdjust=\"spacingAndGlyphs\" textLength=\"5\" x=\"839.5\" y=\"313.1074\">t</text><line style=\"stroke: #A80036; stroke-width: 1.5;\" x1=\"772\" x2=\"916\" y1=\"320.9375\" y2=\"320.9375\"/></a><!--MD5=[2156ba9850f5573cc1fc38a6a4b2f02b]\n",
       "class E7--><a href=\"psysml:54e4af67-f268-48a3-80b8-bc1579f32c01\" target=\"_top\" title=\"psysml:54e4af67-f268-48a3-80b8-bc1579f32c01\" xlink:actuate=\"onRequest\" xlink:href=\"psysml:54e4af67-f268-48a3-80b8-bc1579f32c01\" xlink:show=\"new\" xlink:title=\"psysml:54e4af67-f268-48a3-80b8-bc1579f32c01\" xlink:type=\"simple\"><rect fill=\"#FEFECE\" filter=\"url(#f184kzix0mxoju)\" height=\"45.9375\" id=\"E7\" style=\"stroke: #A80036; stroke-width: 1.5;\" width=\"177\" x=\"541.5\" y=\"389\"/><text fill=\"#000000\" font-family=\"sans-serif\" font-size=\"12\" font-style=\"italic\" lengthAdjust=\"spacingAndGlyphs\" textLength=\"175\" x=\"542.5\" y=\"405.1387\">«individual occurrence  def»</text><text fill=\"#000000\" font-family=\"sans-serif\" font-size=\"12\" lengthAdjust=\"spacingAndGlyphs\" textLength=\"19\" x=\"620.5\" y=\"419.1074\">Ind</text><line style=\"stroke: #A80036; stroke-width: 1.5;\" x1=\"542.5\" x2=\"717.5\" y1=\"426.9375\" y2=\"426.9375\"/></a><!--MD5=[b9389687b975829384b498ac4b7476b2]\n",
       "class E8--><a href=\"psysml:bfc31472-e77d-4111-949c-57e124b09868\" target=\"_top\" title=\"psysml:bfc31472-e77d-4111-949c-57e124b09868\" xlink:actuate=\"onRequest\" xlink:href=\"psysml:bfc31472-e77d-4111-949c-57e124b09868\" xlink:show=\"new\" xlink:title=\"psysml:bfc31472-e77d-4111-949c-57e124b09868\" xlink:type=\"simple\"><rect fill=\"#FEFECE\" filter=\"url(#f184kzix0mxoju)\" height=\"45.9375\" id=\"E8\" rx=\"10\" ry=\"10\" style=\"stroke: #A80036; stroke-width: 1.5;\" width=\"150\" x=\"463\" y=\"495\"/><text fill=\"#000000\" font-family=\"sans-serif\" font-size=\"12\" font-style=\"italic\" lengthAdjust=\"spacingAndGlyphs\" textLength=\"148\" x=\"464\" y=\"511.1387\">«snapshot occurrence»</text><text fill=\"#000000\" font-family=\"sans-serif\" font-size=\"12\" lengthAdjust=\"spacingAndGlyphs\" textLength=\"15\" x=\"528.5\" y=\"525.1074\">s2</text><line style=\"stroke: #A80036; stroke-width: 1.5;\" x1=\"464\" x2=\"612\" y1=\"532.9375\" y2=\"532.9375\"/></a><!--MD5=[fd4143e9d270a159db93a4ea2a975926]\n",
       "class E9--><a href=\"psysml:25521b86-d75d-41e6-9d0e-592064bc2653\" target=\"_top\" title=\"psysml:25521b86-d75d-41e6-9d0e-592064bc2653\" xlink:actuate=\"onRequest\" xlink:href=\"psysml:25521b86-d75d-41e6-9d0e-592064bc2653\" xlink:show=\"new\" xlink:title=\"psysml:25521b86-d75d-41e6-9d0e-592064bc2653\" xlink:type=\"simple\"><rect fill=\"#FEFECE\" filter=\"url(#f184kzix0mxoju)\" height=\"45.9375\" id=\"E9\" rx=\"10\" ry=\"10\" style=\"stroke: #A80036; stroke-width: 1.5;\" width=\"146\" x=\"648\" y=\"495\"/><text fill=\"#000000\" font-family=\"sans-serif\" font-size=\"12\" font-style=\"italic\" lengthAdjust=\"spacingAndGlyphs\" textLength=\"144\" x=\"649\" y=\"511.1387\">«timeslice occurrence»</text><text fill=\"#000000\" font-family=\"sans-serif\" font-size=\"12\" lengthAdjust=\"spacingAndGlyphs\" textLength=\"13\" x=\"712.5\" y=\"525.1074\">t2</text><line style=\"stroke: #A80036; stroke-width: 1.5;\" x1=\"649\" x2=\"793\" y1=\"532.9375\" y2=\"532.9375\"/></a><!--MD5=[96f4274e9e20536e775497830990834d]\n",
       "class E10--><a href=\"psysml:ec83ca81-a881-4da3-97a0-46e2b6aae84c\" target=\"_top\" title=\"psysml:ec83ca81-a881-4da3-97a0-46e2b6aae84c\" xlink:actuate=\"onRequest\" xlink:href=\"psysml:ec83ca81-a881-4da3-97a0-46e2b6aae84c\" xlink:show=\"new\" xlink:title=\"psysml:ec83ca81-a881-4da3-97a0-46e2b6aae84c\" xlink:type=\"simple\"><rect fill=\"#FEFECE\" filter=\"url(#f184kzix0mxoju)\" height=\"45.9375\" id=\"E10\" rx=\"10\" ry=\"10\" style=\"stroke: #A80036; stroke-width: 1.5;\" width=\"149\" x=\"505.5\" y=\"41\"/><text fill=\"#000000\" font-family=\"sans-serif\" font-size=\"12\" font-style=\"italic\" lengthAdjust=\"spacingAndGlyphs\" textLength=\"147\" x=\"506.5\" y=\"57.1387\">«individual occurrence»</text><text fill=\"#000000\" font-family=\"sans-serif\" font-size=\"12\" lengthAdjust=\"spacingAndGlyphs\" textLength=\"77\" x=\"539.5\" y=\"71.1074\">ind: Ind, Occ</text><line style=\"stroke: #A80036; stroke-width: 1.5;\" x1=\"506.5\" x2=\"653.5\" y1=\"78.9375\" y2=\"78.9375\"/></a><!--MD5=[1dd1bfd58a279cf63c5f349dbc8fc6a1]\n",
       "class E11--><a href=\"psysml:fe74329f-5d2b-4ebe-b106-a7ecca7a6fbd\" target=\"_top\" title=\"psysml:fe74329f-5d2b-4ebe-b106-a7ecca7a6fbd\" xlink:actuate=\"onRequest\" xlink:href=\"psysml:fe74329f-5d2b-4ebe-b106-a7ecca7a6fbd\" xlink:show=\"new\" xlink:title=\"psysml:fe74329f-5d2b-4ebe-b106-a7ecca7a6fbd\" xlink:type=\"simple\"><rect fill=\"#FEFECE\" filter=\"url(#f184kzix0mxoju)\" height=\"45.9375\" id=\"E11\" rx=\"10\" ry=\"10\" style=\"stroke: #A80036; stroke-width: 1.5;\" width=\"150\" x=\"561\" y=\"162\"/><text fill=\"#000000\" font-family=\"sans-serif\" font-size=\"12\" font-style=\"italic\" lengthAdjust=\"spacingAndGlyphs\" textLength=\"148\" x=\"562\" y=\"178.1387\">«snapshot occurrence»</text><text fill=\"#000000\" font-family=\"sans-serif\" font-size=\"12\" lengthAdjust=\"spacingAndGlyphs\" textLength=\"15\" x=\"626.5\" y=\"192.1074\">s3</text><line style=\"stroke: #A80036; stroke-width: 1.5;\" x1=\"562\" x2=\"710\" y1=\"199.9375\" y2=\"199.9375\"/></a><!--MD5=[49a0ec8f00dab7302a31f22d0f0fe584]\n",
       "class E12--><a href=\"psysml:6925098a-d5ed-431f-aaf1-d453853f914b\" target=\"_top\" title=\"psysml:6925098a-d5ed-431f-aaf1-d453853f914b\" xlink:actuate=\"onRequest\" xlink:href=\"psysml:6925098a-d5ed-431f-aaf1-d453853f914b\" xlink:show=\"new\" xlink:title=\"psysml:6925098a-d5ed-431f-aaf1-d453853f914b\" xlink:type=\"simple\"><rect fill=\"#FEFECE\" filter=\"url(#f184kzix0mxoju)\" height=\"45.9375\" id=\"E12\" rx=\"10\" ry=\"10\" style=\"stroke: #A80036; stroke-width: 1.5;\" width=\"208\" x=\"746\" y=\"162\"/><text fill=\"#000000\" font-family=\"sans-serif\" font-size=\"12\" font-style=\"italic\" lengthAdjust=\"spacingAndGlyphs\" textLength=\"206\" x=\"747\" y=\"178.1387\">«individual timeslice occurrence»</text><text fill=\"#000000\" font-family=\"sans-serif\" font-size=\"12\" lengthAdjust=\"spacingAndGlyphs\" textLength=\"13\" x=\"841.5\" y=\"192.1074\">t3</text><line style=\"stroke: #A80036; stroke-width: 1.5;\" x1=\"747\" x2=\"953\" y1=\"199.9375\" y2=\"199.9375\"/></a><!--MD5=[ee3c913d1a06f366521f9ef512b67efe]\n",
       "class E13--><a href=\"psysml:4e4d3416-6ae1-42d7-bc86-2084c913e314\" target=\"_top\" title=\"psysml:4e4d3416-6ae1-42d7-bc86-2084c913e314\" xlink:actuate=\"onRequest\" xlink:href=\"psysml:4e4d3416-6ae1-42d7-bc86-2084c913e314\" xlink:show=\"new\" xlink:title=\"psysml:4e4d3416-6ae1-42d7-bc86-2084c913e314\" xlink:type=\"simple\"><rect fill=\"#FEFECE\" filter=\"url(#f184kzix0mxoju)\" height=\"45.9375\" id=\"E13\" rx=\"10\" ry=\"10\" style=\"stroke: #A80036; stroke-width: 1.5;\" width=\"212\" x=\"32\" y=\"283\"/><text fill=\"#000000\" font-family=\"sans-serif\" font-size=\"12\" font-style=\"italic\" lengthAdjust=\"spacingAndGlyphs\" textLength=\"210\" x=\"33\" y=\"299.1387\">«individual snapshot occurrence»</text><text fill=\"#000000\" font-family=\"sans-serif\" font-size=\"12\" lengthAdjust=\"spacingAndGlyphs\" textLength=\"42\" x=\"115\" y=\"313.1074\">s4: Ind</text><line style=\"stroke: #A80036; stroke-width: 1.5;\" x1=\"33\" x2=\"243\" y1=\"320.9375\" y2=\"320.9375\"/></a><!--MD5=[209b3feb70ccb6233bfe1053d122c12c]\n",
       "reverse link E2 to E3--><a href=\"psysml:62ea934f-12d4-42a0-b786-a1086ef654f4\" target=\"_top\" title=\"psysml:62ea934f-12d4-42a0-b786-a1086ef654f4\" xlink:actuate=\"onRequest\" xlink:href=\"psysml:62ea934f-12d4-42a0-b786-a1086ef654f4\" xlink:show=\"new\" xlink:title=\"psysml:62ea934f-12d4-42a0-b786-a1086ef654f4\" xlink:type=\"simple\"><path d=\"M376.37,232.45 C359.85,249.83 343.43,268.76 332.86,282.93 \" fill=\"none\" id=\"E2&lt;-E3\" style=\"stroke: #A80036; stroke-width: 1.0;\"/><polygon fill=\"#FFFFFF\" points=\"385.52,223,378.4729,224.5294,377.1743,231.6226,384.2213,230.0932,385.52,223\" style=\"stroke: #A80036; stroke-width: 1.0;\"/></a><!--MD5=[05d275557350bfb9b23a4ef7222b4c39]\n",
       "link E3 to E2--><a href=\"psysml:72edb9ed-f456-4be1-846b-a7c4b7fb6ef3\" target=\"_top\" title=\"psysml:72edb9ed-f456-4be1-846b-a7c4b7fb6ef3\" xlink:actuate=\"onRequest\" xlink:href=\"psysml:72edb9ed-f456-4be1-846b-a7c4b7fb6ef3\" xlink:show=\"new\" xlink:title=\"psysml:72edb9ed-f456-4be1-846b-a7c4b7fb6ef3\" xlink:type=\"simple\"><path d=\"M353.8,282.93 C367.38,270.34 383.11,253.98 396.95,238.29 \" fill=\"none\" id=\"E3-&gt;E2\" style=\"stroke: #A80036; stroke-width: 1.0;\"/><polygon fill=\"#FFFFFF\" points=\"410.02,223,403.0007,241.9929,392.3563,232.8991,410.02,223\" style=\"stroke: #A80036; stroke-width: 1.0;\"/><ellipse cx=\"397.7776\" cy=\"245.0276\" fill=\"#A80036\" rx=\"2\" ry=\"2\" style=\"stroke: #A80036; stroke-width: 1.0;\"/><ellipse cx=\"390.1744\" cy=\"238.532\" fill=\"#A80036\" rx=\"2\" ry=\"2\" style=\"stroke: #A80036; stroke-width: 1.0;\"/></a><!--MD5=[9618e71518536f8baf3342ff6fdab317]\n",
       "reverse link E2 to E4--><a href=\"psysml:1930a264-e184-4aca-ae40-6206f5d09a7f\" target=\"_top\" title=\"psysml:1930a264-e184-4aca-ae40-6206f5d09a7f\" xlink:actuate=\"onRequest\" xlink:href=\"psysml:1930a264-e184-4aca-ae40-6206f5d09a7f\" xlink:show=\"new\" xlink:title=\"psysml:1930a264-e184-4aca-ae40-6206f5d09a7f\" xlink:type=\"simple\"><path d=\"M424.31,236.34 C425.74,252.61 428.58,269.81 432.23,282.93 \" fill=\"none\" id=\"E2&lt;-E4\" style=\"stroke: #A80036; stroke-width: 1.0;\"/><polygon fill=\"#A80036\" points=\"423.45,223,419.8475,229.2467,424.2281,234.9747,427.8306,228.728,423.45,223\" style=\"stroke: #A80036; stroke-width: 1.0;\"/></a><!--MD5=[185131fc0dcab0a4505a2ebe144e961b]\n",
       "link E4 to E2--><a href=\"psysml:32367fe5-1bb2-4952-a335-a8970d1d9f84\" target=\"_top\" title=\"psysml:32367fe5-1bb2-4952-a335-a8970d1d9f84\" xlink:actuate=\"onRequest\" xlink:href=\"psysml:32367fe5-1bb2-4952-a335-a8970d1d9f84\" xlink:show=\"new\" xlink:title=\"psysml:32367fe5-1bb2-4952-a335-a8970d1d9f84\" xlink:type=\"simple\"><path d=\"M453.17,282.93 C453.77,271.65 452.99,257.34 451.22,243.21 \" fill=\"none\" id=\"E4-&gt;E2\" style=\"stroke: #A80036; stroke-width: 1.0;\"/><polygon fill=\"#FFFFFF\" points=\"447.96,223,457.8973,240.6423,444.0761,242.8725,447.96,223\" style=\"stroke: #A80036; stroke-width: 1.0;\"/><ellipse cx=\"456.8309\" cy=\"246.5881\" fill=\"#A80036\" rx=\"2\" ry=\"2\" style=\"stroke: #A80036; stroke-width: 1.0;\"/><ellipse cx=\"446.9586\" cy=\"248.1811\" fill=\"#A80036\" rx=\"2\" ry=\"2\" style=\"stroke: #A80036; stroke-width: 1.0;\"/></a><!--MD5=[4e1a83fab71cdb913c109063314ae896]\n",
       "reverse link E2 to E5--><a href=\"psysml:0faf658f-4e02-48cd-849b-e0220b5d7629\" target=\"_top\" title=\"psysml:0faf658f-4e02-48cd-849b-e0220b5d7629\" xlink:actuate=\"onRequest\" xlink:href=\"psysml:0faf658f-4e02-48cd-849b-e0220b5d7629\" xlink:show=\"new\" xlink:title=\"psysml:0faf658f-4e02-48cd-849b-e0220b5d7629\" xlink:type=\"simple\"><path d=\"M499.85,227.17 C531.12,245.87 566.86,267.24 592.97,282.85 \" fill=\"none\" id=\"E2&lt;-E5\" style=\"stroke: #A80036; stroke-width: 1.0;\"/><polygon fill=\"#A80036\" points=\"488.56,220.42,491.6568,226.9323,498.8592,226.5784,495.7624,220.0661,488.56,220.42\" style=\"stroke: #A80036; stroke-width: 1.0;\"/></a><!--MD5=[ce036f65110ae2351ccce5a81dc2e928]\n",
       "reverse link E2 to E6--><a href=\"psysml:3f965610-dfca-4051-a1f3-35306b55574a\" target=\"_top\" title=\"psysml:3f965610-dfca-4051-a1f3-35306b55574a\" xlink:actuate=\"onRequest\" xlink:href=\"psysml:3f965610-dfca-4051-a1f3-35306b55574a\" xlink:show=\"new\" xlink:title=\"psysml:3f965610-dfca-4051-a1f3-35306b55574a\" xlink:type=\"simple\"><path d=\"M501.02,217.55 C506.06,219.49 511.08,221.33 516,223 C528.19,227.15 677.82,264.14 770.71,287 \" fill=\"none\" id=\"E2&lt;-E6\" style=\"stroke: #A80036; stroke-width: 1.0;\"/><polygon fill=\"#A80036\" points=\"488.57,212.58,492.6577,218.5206,499.7135,217.0321,495.6258,211.0916,488.57,212.58\" style=\"stroke: #A80036; stroke-width: 1.0;\"/></a><!--MD5=[3a9b96bfbf6b6ad89c494e81751bda47]\n",
       "link E5 to E7--><a href=\"psysml:5b4e0f94-bd6c-4a04-8036-e6bb7f85be93\" target=\"_top\" title=\"psysml:5b4e0f94-bd6c-4a04-8036-e6bb7f85be93\" xlink:actuate=\"onRequest\" xlink:href=\"psysml:5b4e0f94-bd6c-4a04-8036-e6bb7f85be93\" xlink:show=\"new\" xlink:title=\"psysml:5b4e0f94-bd6c-4a04-8036-e6bb7f85be93\" xlink:type=\"simple\"><path d=\"M630,329.06 C630,340.64 630,355.23 630,368.87 \" fill=\"none\" id=\"E5-&gt;E7\" style=\"stroke: #A80036; stroke-width: 1.0;\"/><polygon fill=\"#FFFFFF\" points=\"630,388.98,623,369.98,637,369.98,630,388.98\" style=\"stroke: #A80036; stroke-width: 1.0;\"/><ellipse cx=\"625\" cy=\"364.28\" fill=\"#A80036\" rx=\"2\" ry=\"2\" style=\"stroke: #A80036; stroke-width: 1.0;\"/><ellipse cx=\"635\" cy=\"364.28\" fill=\"#A80036\" rx=\"2\" ry=\"2\" style=\"stroke: #A80036; stroke-width: 1.0;\"/></a><!--MD5=[dc164f5e8a733ab456ef1add180e9e34]\n",
       "reverse link E7 to E8--><a href=\"psysml:37f490ca-8c9f-44ef-b281-38d91f32f2bf\" target=\"_top\" title=\"psysml:37f490ca-8c9f-44ef-b281-38d91f32f2bf\" xlink:actuate=\"onRequest\" xlink:href=\"psysml:37f490ca-8c9f-44ef-b281-38d91f32f2bf\" xlink:show=\"new\" xlink:title=\"psysml:37f490ca-8c9f-44ef-b281-38d91f32f2bf\" xlink:type=\"simple\"><path d=\"M601.55,445.16 C587.25,461.33 570.28,480.51 557.48,494.98 \" fill=\"none\" id=\"E7&lt;-E8\" style=\"stroke: #A80036; stroke-width: 1.0;\"/><polygon fill=\"#A80036\" points=\"610.49,435.06,603.5177,436.9004,602.5348,444.0442,609.5071,442.2038,610.49,435.06\" style=\"stroke: #A80036; stroke-width: 1.0;\"/></a><!--MD5=[e4a10ef82d0e328e31cac39a31e58dda]\n",
       "reverse link E7 to E9--><a href=\"psysml:c791e7ed-713f-4106-b9d5-0dfb97ea4543\" target=\"_top\" title=\"psysml:c791e7ed-713f-4106-b9d5-0dfb97ea4543\" xlink:actuate=\"onRequest\" xlink:href=\"psysml:c791e7ed-713f-4106-b9d5-0dfb97ea4543\" xlink:show=\"new\" xlink:title=\"psysml:c791e7ed-713f-4106-b9d5-0dfb97ea4543\" xlink:type=\"simple\"><path d=\"M658.14,445.16 C672.29,461.33 689.07,480.51 701.73,494.98 \" fill=\"none\" id=\"E7&lt;-E9\" style=\"stroke: #A80036; stroke-width: 1.0;\"/><polygon fill=\"#A80036\" points=\"649.3,435.06,650.2496,442.2083,657.2133,444.0811,656.2637,436.9328,649.3,435.06\" style=\"stroke: #A80036; stroke-width: 1.0;\"/></a><!--MD5=[a919e0967d6f3de553dc51b9865a1d6d]\n",
       "link E10 to E7--><a href=\"psysml:d7bf13fe-2343-4091-93b6-ccc05bfccd1c\" target=\"_top\" title=\"psysml:d7bf13fe-2343-4091-93b6-ccc05bfccd1c\" xlink:actuate=\"onRequest\" xlink:href=\"psysml:d7bf13fe-2343-4091-93b6-ccc05bfccd1c\" xlink:show=\"new\" xlink:title=\"psysml:d7bf13fe-2343-4091-93b6-ccc05bfccd1c\" xlink:type=\"simple\"><path d=\"M564.36,87.23 C542.92,120.68 510.65,184.15 544,223 C658.5,356.41 820.5,149.59 935,283 C997.3,355.58 849.41,387.9 738.47,401.63 \" fill=\"none\" id=\"E10-&gt;E7\" style=\"stroke: #A80036; stroke-width: 1.0;\"/><polygon fill=\"#FFFFFF\" points=\"718.6,403.94,736.6627,394.7891,738.2822,408.6951,718.6,403.94\" style=\"stroke: #A80036; stroke-width: 1.0;\"/><ellipse cx=\"742.5558\" cy=\"396.1162\" fill=\"#A80036\" rx=\"2\" ry=\"2\" style=\"stroke: #A80036; stroke-width: 1.0;\"/><ellipse cx=\"743.7126\" cy=\"406.0491\" fill=\"#A80036\" rx=\"2\" ry=\"2\" style=\"stroke: #A80036; stroke-width: 1.0;\"/></a><!--MD5=[0f36bececdf0dff6e600d6f64214b0f1]\n",
       "link E10 to E2--><a href=\"psysml:65e23dda-2765-4b86-8b8c-165f4272381c\" target=\"_top\" title=\"psysml:65e23dda-2765-4b86-8b8c-165f4272381c\" xlink:actuate=\"onRequest\" xlink:href=\"psysml:65e23dda-2765-4b86-8b8c-165f4272381c\" xlink:show=\"new\" xlink:title=\"psysml:65e23dda-2765-4b86-8b8c-165f4272381c\" xlink:type=\"simple\"><path d=\"M552.32,87.1 C535.71,100.38 513.86,117.82 493.29,134.25 \" fill=\"none\" id=\"E10-&gt;E2\" style=\"stroke: #A80036; stroke-width: 1.0;\"/><polygon fill=\"#FFFFFF\" points=\"477.56,146.81,488.0352,129.4817,496.7737,140.4197,477.56,146.81\" style=\"stroke: #A80036; stroke-width: 1.0;\"/><ellipse cx=\"493.7369\" cy=\"127.4865\" fill=\"#A80036\" rx=\"2\" ry=\"2\" style=\"stroke: #A80036; stroke-width: 1.0;\"/><ellipse cx=\"499.9786\" cy=\"135.2994\" fill=\"#A80036\" rx=\"2\" ry=\"2\" style=\"stroke: #A80036; stroke-width: 1.0;\"/></a><!--MD5=[de308be4a2431766a05a907a031c07fc]\n",
       "reverse link E10 to E11--><a href=\"psysml:996a22eb-9701-44d5-9cb6-35ae83d4d1b1\" target=\"_top\" title=\"psysml:996a22eb-9701-44d5-9cb6-35ae83d4d1b1\" xlink:actuate=\"onRequest\" xlink:href=\"psysml:996a22eb-9701-44d5-9cb6-35ae83d4d1b1\" xlink:show=\"new\" xlink:title=\"psysml:996a22eb-9701-44d5-9cb6-35ae83d4d1b1\" xlink:type=\"simple\"><path d=\"M595.95,98.9 C605.42,119.01 617.15,143.94 625.46,161.61 \" fill=\"none\" id=\"E10&lt;-E11\" style=\"stroke: #A80036; stroke-width: 1.0;\"/><polygon fill=\"#A80036\" points=\"590.4,87.1,589.3334,94.2318,595.5064,97.9593,596.573,90.8275,590.4,87.1\" style=\"stroke: #A80036; stroke-width: 1.0;\"/></a><!--MD5=[1d54f998c6d5961a1a9184be73a7eb6c]\n",
       "reverse link E10 to E12--><a href=\"psysml:da3311a8-2759-47ea-b229-fd34ee887055\" target=\"_top\" title=\"psysml:da3311a8-2759-47ea-b229-fd34ee887055\" xlink:actuate=\"onRequest\" xlink:href=\"psysml:da3311a8-2759-47ea-b229-fd34ee887055\" xlink:show=\"new\" xlink:title=\"psysml:da3311a8-2759-47ea-b229-fd34ee887055\" xlink:type=\"simple\"><path d=\"M642.21,92.42 C689.99,113.48 755.13,142.19 799.66,161.81 \" fill=\"none\" id=\"E10&lt;-E12\" style=\"stroke: #A80036; stroke-width: 1.0;\"/><polygon fill=\"#A80036\" points=\"630.15,87.1,634.028,93.1796,641.1314,91.9382,637.2534,85.8586,630.15,87.1\" style=\"stroke: #A80036; stroke-width: 1.0;\"/></a><!--MD5=[4a48077df6499cfcd20b62e8f5f37904]\n",
       "link E13 to E7--><a href=\"psysml:fb78d99f-0705-4d43-aabd-2eaf1ce47389\" target=\"_top\" title=\"psysml:fb78d99f-0705-4d43-aabd-2eaf1ce47389\" xlink:actuate=\"onRequest\" xlink:href=\"psysml:fb78d99f-0705-4d43-aabd-2eaf1ce47389\" xlink:show=\"new\" xlink:title=\"psysml:fb78d99f-0705-4d43-aabd-2eaf1ce47389\" xlink:type=\"simple\"><path d=\"M242.34,329.06 C324.51,346.43 438.67,370.56 521.82,388.13 \" fill=\"none\" id=\"E13-&gt;E7\" style=\"stroke: #A80036; stroke-width: 1.0;\"/><polygon fill=\"#FFFFFF\" points=\"541.45,392.28,521.4143,395.2075,524.304,381.509,541.45,392.28\" style=\"stroke: #A80036; stroke-width: 1.0;\"/><ellipse cx=\"516.2498\" cy=\"392.0741\" fill=\"#A80036\" rx=\"2\" ry=\"2\" style=\"stroke: #A80036; stroke-width: 1.0;\"/><ellipse cx=\"518.3139\" cy=\"382.2894\" fill=\"#A80036\" rx=\"2\" ry=\"2\" style=\"stroke: #A80036; stroke-width: 1.0;\"/></a><!--MD5=[232986b47cf2252da6330285a678fdea]\n",
       "@startuml\r\n",
       "skinparam wrapWidth 300\r\n",
       "hide circle\r\n",
       "\r\n",
       "package \"OccurrenceTest\" as E1  [[psysml:76f03fcf-c31b-4704-ae9e-b44a23fd6ebe ]]  {\r\n",
       "comp def \"Occ\" as E2  <<(T,blue) occurrence  def>> [[psysml:eaa0b96d-7da2-44a7-b980-6b6f36747918 ]] {\r\n",
       "- - attributes - -\r\n",
       "a\r\n",
       "}\r\n",
       "comp usage \"occ1: Occ \" as E3  <<(T,blue) occurrence>> [[psysml:87fca259-1c14-4b5b-983e-37895f6ff77b ]] {\r\n",
       "}\r\n",
       "comp usage \"occ2: Occ \" as E4  <<(T,blue) occurrence>> [[psysml:ffd2f288-180d-4271-8880-cf9706207ba2 ]] {\r\n",
       "}\r\n",
       "comp usage \"s: Ind \" as E5  <<(T,blue) individual snapshot occurrence>> [[psysml:4e1769cc-a186-417e-91f0-587d1f1196e7 ]] {\r\n",
       "}\r\n",
       "comp usage \"t \" as E6  <<(T,blue) timeslice occurrence>> [[psysml:9c61ac47-8b4e-45e2-802a-f3aa096140c4 ]] {\r\n",
       "}\r\n",
       "comp def \"Ind\" as E7  <<(T,blue) individual occurrence  def>> [[psysml:54e4af67-f268-48a3-80b8-bc1579f32c01 ]] {\r\n",
       "}\r\n",
       "comp usage \"s2 \" as E8  <<(T,blue) snapshot occurrence>> [[psysml:bfc31472-e77d-4111-949c-57e124b09868 ]] {\r\n",
       "}\r\n",
       "comp usage \"t2 \" as E9  <<(T,blue) timeslice occurrence>> [[psysml:25521b86-d75d-41e6-9d0e-592064bc2653 ]] {\r\n",
       "}\r\n",
       "comp usage \"ind: Ind, Occ \" as E10  <<(T,blue) individual occurrence>> [[psysml:ec83ca81-a881-4da3-97a0-46e2b6aae84c ]] {\r\n",
       "}\r\n",
       "comp usage \"s3 \" as E11  <<(T,blue) snapshot occurrence>> [[psysml:fe74329f-5d2b-4ebe-b106-a7ecca7a6fbd ]] {\r\n",
       "}\r\n",
       "comp usage \"t3 \" as E12  <<(T,blue) individual timeslice occurrence>> [[psysml:6925098a-d5ed-431f-aaf1-d453853f914b ]] {\r\n",
       "}\r\n",
       "comp usage \"s4: Ind \" as E13  <<(T,blue) individual snapshot occurrence>> [[psysml:4e4d3416-6ae1-42d7-bc86-2084c913e314 ]] {\r\n",
       "}\r\n",
       "}\r\n",
       "E2 o- - E3 [[psysml:62ea934f-12d4-42a0-b786-a1086ef654f4 ]] \r\n",
       "E3 - -:|> E2 [[psysml:72edb9ed-f456-4be1-846b-a7c4b7fb6ef3 ]] \r\n",
       "E2 *- - E4 [[psysml:1930a264-e184-4aca-ae40-6206f5d09a7f ]] \r\n",
       "E4 - -:|> E2 [[psysml:32367fe5-1bb2-4952-a335-a8970d1d9f84 ]] \r\n",
       "E2 *- - E5 [[psysml:0faf658f-4e02-48cd-849b-e0220b5d7629 ]] \r\n",
       "E2 *- - E6 [[psysml:3f965610-dfca-4051-a1f3-35306b55574a ]] \r\n",
       "E5 - -:|> E7 [[psysml:5b4e0f94-bd6c-4a04-8036-e6bb7f85be93 ]] \r\n",
       "E7 *- - E8 [[psysml:37f490ca-8c9f-44ef-b281-38d91f32f2bf ]] \r\n",
       "E7 *- - E9 [[psysml:c791e7ed-713f-4106-b9d5-0dfb97ea4543 ]] \r\n",
       "E10 - -:|> E7 [[psysml:d7bf13fe-2343-4091-93b6-ccc05bfccd1c ]] \r\n",
       "E10 - -:|> E2 [[psysml:65e23dda-2765-4b86-8b8c-165f4272381c ]] \r\n",
       "E10 *- - E11 [[psysml:996a22eb-9701-44d5-9cb6-35ae83d4d1b1 ]] \r\n",
       "E10 *- - E12 [[psysml:da3311a8-2759-47ea-b229-fd34ee887055 ]] \r\n",
       "E13 - -:|> E7 [[psysml:fb78d99f-0705-4d43-aabd-2eaf1ce47389 ]] \r\n",
       "@enduml\r\n",
       "\n",
       "PlantUML version 1.2020.13(Sat Jun 13 12:26:38 UTC 2020)\n",
       "(EPL source distribution)\n",
       "Java Runtime: OpenJDK Runtime Environment\n",
       "JVM: OpenJDK 64-Bit Server VM\n",
       "Default Encoding: UTF-8\n",
       "Language: en\n",
       "Country: null\n",
       "--></g></svg>"
      ]
     },
     "execution_count": 23,
     "metadata": {},
     "output_type": "execute_result"
    }
   ],
   "source": [
    "%viz --style=\"STDCOLOR\" --view=\"Default\" \"OccurrenceTest\""
   ]
  },
  {
   "cell_type": "code",
   "execution_count": 24,
   "id": "f24d9e2d",
   "metadata": {
    "execution": {
     "iopub.execute_input": "2022-02-18T10:48:37.780446Z",
     "iopub.status.busy": "2022-02-18T10:48:37.779939Z",
     "iopub.status.idle": "2022-02-18T10:48:37.831314Z",
     "shell.execute_reply": "2022-02-18T10:48:37.830106Z"
    }
   },
   "outputs": [
    {
     "data": {
      "image/svg+xml": [
       "<?xml version=\"1.0\" encoding=\"UTF-8\" standalone=\"no\"?><svg xmlns=\"http://www.w3.org/2000/svg\" xmlns:xlink=\"http://www.w3.org/1999/xlink\" contentScriptType=\"application/ecmascript\" contentStyleType=\"text/css\" height=\"569px\" preserveAspectRatio=\"none\" style=\"width:1009px;height:569px;\" version=\"1.1\" viewBox=\"0 0 1009 569\" width=\"1009px\" zoomAndPan=\"magnify\"><defs><filter height=\"300%\" id=\"f184kzix0mxoju\" width=\"300%\" x=\"-1\" y=\"-1\"><feGaussianBlur result=\"blurOut\" stdDeviation=\"2.0\"/><feColorMatrix in=\"blurOut\" result=\"blurOut2\" type=\"matrix\" values=\"0 0 0 0 0 0 0 0 0 0 0 0 0 0 0 0 0 0 .4 0\"/><feOffset dx=\"4.0\" dy=\"4.0\" in=\"blurOut2\" result=\"blurOut3\"/><feBlend in=\"SourceGraphic\" in2=\"blurOut3\" mode=\"normal\"/></filter></defs><g><!--MD5=[fbc87193dbaf4d95561dea2c320d4a47]\n",
       "cluster E1--><a href=\"psysml:76f03fcf-c31b-4704-ae9e-b44a23fd6ebe\" target=\"_top\" title=\"psysml:76f03fcf-c31b-4704-ae9e-b44a23fd6ebe\" xlink:actuate=\"onRequest\" xlink:href=\"psysml:76f03fcf-c31b-4704-ae9e-b44a23fd6ebe\" xlink:show=\"new\" xlink:title=\"psysml:76f03fcf-c31b-4704-ae9e-b44a23fd6ebe\" xlink:type=\"simple\"><polygon fill=\"#FFFFFF\" filter=\"url(#f184kzix0mxoju)\" points=\"16,6,134,6,141,28.2969,970,28.2969,970,557,16,557,16,6\" style=\"stroke: #000000; stroke-width: 1.5;\"/><line style=\"stroke: #000000; stroke-width: 1.5;\" x1=\"16\" x2=\"141\" y1=\"28.2969\" y2=\"28.2969\"/><text fill=\"#000000\" font-family=\"sans-serif\" font-size=\"14\" font-weight=\"bold\" lengthAdjust=\"spacingAndGlyphs\" textLength=\"112\" x=\"20\" y=\"20.9951\">OccurrenceTest</text></a><!--MD5=[b4997ac47864f28c2f74865a473b2911]\n",
       "class E2--><a href=\"psysml:eaa0b96d-7da2-44a7-b980-6b6f36747918\" target=\"_top\" title=\"psysml:eaa0b96d-7da2-44a7-b980-6b6f36747918\" xlink:actuate=\"onRequest\" xlink:href=\"psysml:eaa0b96d-7da2-44a7-b980-6b6f36747918\" xlink:show=\"new\" xlink:title=\"psysml:eaa0b96d-7da2-44a7-b980-6b6f36747918\" xlink:type=\"simple\"><rect fill=\"#FEFECE\" filter=\"url(#f184kzix0mxoju)\" height=\"75.5469\" id=\"E2\" style=\"stroke: #A80036; stroke-width: 1.5;\" width=\"115\" x=\"373.5\" y=\"147\"/><text fill=\"#000000\" font-family=\"sans-serif\" font-size=\"12\" font-style=\"italic\" lengthAdjust=\"spacingAndGlyphs\" textLength=\"113\" x=\"374.5\" y=\"163.1387\">«occurrence  def»</text><text fill=\"#000000\" font-family=\"sans-serif\" font-size=\"12\" lengthAdjust=\"spacingAndGlyphs\" textLength=\"23\" x=\"419.5\" y=\"177.1074\">Occ</text><line style=\"stroke: #A80036; stroke-width: 1.5;\" x1=\"374.5\" x2=\"487.5\" y1=\"184.9375\" y2=\"184.9375\"/><text fill=\"#000000\" font-family=\"sans-serif\" font-size=\"11\" lengthAdjust=\"spacingAndGlyphs\" textLength=\"7\" x=\"379.5\" y=\"215.9526\">a</text><line style=\"stroke: #A80036; stroke-width: 1.0;\" x1=\"374.5\" x2=\"403.5\" y1=\"199.3398\" y2=\"199.3398\"/><text fill=\"#000000\" font-family=\"sans-serif\" font-size=\"11\" lengthAdjust=\"spacingAndGlyphs\" textLength=\"55\" x=\"403.5\" y=\"202.6479\">attributes</text><line style=\"stroke: #A80036; stroke-width: 1.0;\" x1=\"458.5\" x2=\"487.5\" y1=\"199.3398\" y2=\"199.3398\"/></a><!--MD5=[09b614a08d8cba4a07c9adeb5e0fee81]\n",
       "class E3--><a href=\"psysml:87fca259-1c14-4b5b-983e-37895f6ff77b\" target=\"_top\" title=\"psysml:87fca259-1c14-4b5b-983e-37895f6ff77b\" xlink:actuate=\"onRequest\" xlink:href=\"psysml:87fca259-1c14-4b5b-983e-37895f6ff77b\" xlink:show=\"new\" xlink:title=\"psysml:87fca259-1c14-4b5b-983e-37895f6ff77b\" xlink:type=\"simple\"><rect fill=\"#FEFECE\" filter=\"url(#f184kzix0mxoju)\" height=\"45.9375\" id=\"E3\" rx=\"10\" ry=\"10\" style=\"stroke: #A80036; stroke-width: 1.5;\" width=\"87\" x=\"279.5\" y=\"283\"/><text fill=\"#000000\" font-family=\"sans-serif\" font-size=\"12\" font-style=\"italic\" lengthAdjust=\"spacingAndGlyphs\" textLength=\"85\" x=\"280.5\" y=\"299.1387\">«occurrence»</text><text fill=\"#000000\" font-family=\"sans-serif\" font-size=\"12\" lengthAdjust=\"spacingAndGlyphs\" textLength=\"61\" x=\"290.5\" y=\"313.1074\">occ1: Occ</text><line style=\"stroke: #A80036; stroke-width: 1.5;\" x1=\"280.5\" x2=\"365.5\" y1=\"320.9375\" y2=\"320.9375\"/></a><!--MD5=[ebbe1d658d1005bcc118a6aa81145e00]\n",
       "class E4--><a href=\"psysml:ffd2f288-180d-4271-8880-cf9706207ba2\" target=\"_top\" title=\"psysml:ffd2f288-180d-4271-8880-cf9706207ba2\" xlink:actuate=\"onRequest\" xlink:href=\"psysml:ffd2f288-180d-4271-8880-cf9706207ba2\" xlink:show=\"new\" xlink:title=\"psysml:ffd2f288-180d-4271-8880-cf9706207ba2\" xlink:type=\"simple\"><rect fill=\"#FEFECE\" filter=\"url(#f184kzix0mxoju)\" height=\"45.9375\" id=\"E4\" rx=\"10\" ry=\"10\" style=\"stroke: #A80036; stroke-width: 1.5;\" width=\"87\" x=\"401.5\" y=\"283\"/><text fill=\"#000000\" font-family=\"sans-serif\" font-size=\"12\" font-style=\"italic\" lengthAdjust=\"spacingAndGlyphs\" textLength=\"85\" x=\"402.5\" y=\"299.1387\">«occurrence»</text><text fill=\"#000000\" font-family=\"sans-serif\" font-size=\"12\" lengthAdjust=\"spacingAndGlyphs\" textLength=\"61\" x=\"412.5\" y=\"313.1074\">occ2: Occ</text><line style=\"stroke: #A80036; stroke-width: 1.5;\" x1=\"402.5\" x2=\"487.5\" y1=\"320.9375\" y2=\"320.9375\"/></a><!--MD5=[270fce915f116d4de14055a7c1d9a0f3]\n",
       "class E5--><a href=\"psysml:4e1769cc-a186-417e-91f0-587d1f1196e7\" target=\"_top\" title=\"psysml:4e1769cc-a186-417e-91f0-587d1f1196e7\" xlink:actuate=\"onRequest\" xlink:href=\"psysml:4e1769cc-a186-417e-91f0-587d1f1196e7\" xlink:show=\"new\" xlink:title=\"psysml:4e1769cc-a186-417e-91f0-587d1f1196e7\" xlink:type=\"simple\"><rect fill=\"#FEFECE\" filter=\"url(#f184kzix0mxoju)\" height=\"45.9375\" id=\"E5\" rx=\"10\" ry=\"10\" style=\"stroke: #A80036; stroke-width: 1.5;\" width=\"212\" x=\"524\" y=\"283\"/><text fill=\"#000000\" font-family=\"sans-serif\" font-size=\"12\" font-style=\"italic\" lengthAdjust=\"spacingAndGlyphs\" textLength=\"210\" x=\"525\" y=\"299.1387\">«individual snapshot occurrence»</text><text fill=\"#000000\" font-family=\"sans-serif\" font-size=\"12\" lengthAdjust=\"spacingAndGlyphs\" textLength=\"34\" x=\"611\" y=\"313.1074\">s: Ind</text><line style=\"stroke: #A80036; stroke-width: 1.5;\" x1=\"525\" x2=\"735\" y1=\"320.9375\" y2=\"320.9375\"/></a><!--MD5=[60a26617385b1d2d0262a64233df1f8d]\n",
       "class E6--><a href=\"psysml:9c61ac47-8b4e-45e2-802a-f3aa096140c4\" target=\"_top\" title=\"psysml:9c61ac47-8b4e-45e2-802a-f3aa096140c4\" xlink:actuate=\"onRequest\" xlink:href=\"psysml:9c61ac47-8b4e-45e2-802a-f3aa096140c4\" xlink:show=\"new\" xlink:title=\"psysml:9c61ac47-8b4e-45e2-802a-f3aa096140c4\" xlink:type=\"simple\"><rect fill=\"#FEFECE\" filter=\"url(#f184kzix0mxoju)\" height=\"45.9375\" id=\"E6\" rx=\"10\" ry=\"10\" style=\"stroke: #A80036; stroke-width: 1.5;\" width=\"146\" x=\"771\" y=\"283\"/><text fill=\"#000000\" font-family=\"sans-serif\" font-size=\"12\" font-style=\"italic\" lengthAdjust=\"spacingAndGlyphs\" textLength=\"144\" x=\"772\" y=\"299.1387\">«timeslice occurrence»</text><text fill=\"#000000\" font-family=\"sans-serif\" font-size=\"12\" lengthAdjust=\"spacingAndGlyphs\" textLength=\"5\" x=\"839.5\" y=\"313.1074\">t</text><line style=\"stroke: #A80036; stroke-width: 1.5;\" x1=\"772\" x2=\"916\" y1=\"320.9375\" y2=\"320.9375\"/></a><!--MD5=[2156ba9850f5573cc1fc38a6a4b2f02b]\n",
       "class E7--><a href=\"psysml:54e4af67-f268-48a3-80b8-bc1579f32c01\" target=\"_top\" title=\"psysml:54e4af67-f268-48a3-80b8-bc1579f32c01\" xlink:actuate=\"onRequest\" xlink:href=\"psysml:54e4af67-f268-48a3-80b8-bc1579f32c01\" xlink:show=\"new\" xlink:title=\"psysml:54e4af67-f268-48a3-80b8-bc1579f32c01\" xlink:type=\"simple\"><rect fill=\"#FEFECE\" filter=\"url(#f184kzix0mxoju)\" height=\"45.9375\" id=\"E7\" style=\"stroke: #A80036; stroke-width: 1.5;\" width=\"177\" x=\"541.5\" y=\"389\"/><text fill=\"#000000\" font-family=\"sans-serif\" font-size=\"12\" font-style=\"italic\" lengthAdjust=\"spacingAndGlyphs\" textLength=\"175\" x=\"542.5\" y=\"405.1387\">«individual occurrence  def»</text><text fill=\"#000000\" font-family=\"sans-serif\" font-size=\"12\" lengthAdjust=\"spacingAndGlyphs\" textLength=\"19\" x=\"620.5\" y=\"419.1074\">Ind</text><line style=\"stroke: #A80036; stroke-width: 1.5;\" x1=\"542.5\" x2=\"717.5\" y1=\"426.9375\" y2=\"426.9375\"/></a><!--MD5=[b9389687b975829384b498ac4b7476b2]\n",
       "class E8--><a href=\"psysml:bfc31472-e77d-4111-949c-57e124b09868\" target=\"_top\" title=\"psysml:bfc31472-e77d-4111-949c-57e124b09868\" xlink:actuate=\"onRequest\" xlink:href=\"psysml:bfc31472-e77d-4111-949c-57e124b09868\" xlink:show=\"new\" xlink:title=\"psysml:bfc31472-e77d-4111-949c-57e124b09868\" xlink:type=\"simple\"><rect fill=\"#FEFECE\" filter=\"url(#f184kzix0mxoju)\" height=\"45.9375\" id=\"E8\" rx=\"10\" ry=\"10\" style=\"stroke: #A80036; stroke-width: 1.5;\" width=\"150\" x=\"463\" y=\"495\"/><text fill=\"#000000\" font-family=\"sans-serif\" font-size=\"12\" font-style=\"italic\" lengthAdjust=\"spacingAndGlyphs\" textLength=\"148\" x=\"464\" y=\"511.1387\">«snapshot occurrence»</text><text fill=\"#000000\" font-family=\"sans-serif\" font-size=\"12\" lengthAdjust=\"spacingAndGlyphs\" textLength=\"15\" x=\"528.5\" y=\"525.1074\">s2</text><line style=\"stroke: #A80036; stroke-width: 1.5;\" x1=\"464\" x2=\"612\" y1=\"532.9375\" y2=\"532.9375\"/></a><!--MD5=[fd4143e9d270a159db93a4ea2a975926]\n",
       "class E9--><a href=\"psysml:25521b86-d75d-41e6-9d0e-592064bc2653\" target=\"_top\" title=\"psysml:25521b86-d75d-41e6-9d0e-592064bc2653\" xlink:actuate=\"onRequest\" xlink:href=\"psysml:25521b86-d75d-41e6-9d0e-592064bc2653\" xlink:show=\"new\" xlink:title=\"psysml:25521b86-d75d-41e6-9d0e-592064bc2653\" xlink:type=\"simple\"><rect fill=\"#FEFECE\" filter=\"url(#f184kzix0mxoju)\" height=\"45.9375\" id=\"E9\" rx=\"10\" ry=\"10\" style=\"stroke: #A80036; stroke-width: 1.5;\" width=\"146\" x=\"648\" y=\"495\"/><text fill=\"#000000\" font-family=\"sans-serif\" font-size=\"12\" font-style=\"italic\" lengthAdjust=\"spacingAndGlyphs\" textLength=\"144\" x=\"649\" y=\"511.1387\">«timeslice occurrence»</text><text fill=\"#000000\" font-family=\"sans-serif\" font-size=\"12\" lengthAdjust=\"spacingAndGlyphs\" textLength=\"13\" x=\"712.5\" y=\"525.1074\">t2</text><line style=\"stroke: #A80036; stroke-width: 1.5;\" x1=\"649\" x2=\"793\" y1=\"532.9375\" y2=\"532.9375\"/></a><!--MD5=[96f4274e9e20536e775497830990834d]\n",
       "class E10--><a href=\"psysml:ec83ca81-a881-4da3-97a0-46e2b6aae84c\" target=\"_top\" title=\"psysml:ec83ca81-a881-4da3-97a0-46e2b6aae84c\" xlink:actuate=\"onRequest\" xlink:href=\"psysml:ec83ca81-a881-4da3-97a0-46e2b6aae84c\" xlink:show=\"new\" xlink:title=\"psysml:ec83ca81-a881-4da3-97a0-46e2b6aae84c\" xlink:type=\"simple\"><rect fill=\"#FEFECE\" filter=\"url(#f184kzix0mxoju)\" height=\"45.9375\" id=\"E10\" rx=\"10\" ry=\"10\" style=\"stroke: #A80036; stroke-width: 1.5;\" width=\"149\" x=\"505.5\" y=\"41\"/><text fill=\"#000000\" font-family=\"sans-serif\" font-size=\"12\" font-style=\"italic\" lengthAdjust=\"spacingAndGlyphs\" textLength=\"147\" x=\"506.5\" y=\"57.1387\">«individual occurrence»</text><text fill=\"#000000\" font-family=\"sans-serif\" font-size=\"12\" lengthAdjust=\"spacingAndGlyphs\" textLength=\"77\" x=\"539.5\" y=\"71.1074\">ind: Ind, Occ</text><line style=\"stroke: #A80036; stroke-width: 1.5;\" x1=\"506.5\" x2=\"653.5\" y1=\"78.9375\" y2=\"78.9375\"/></a><!--MD5=[1dd1bfd58a279cf63c5f349dbc8fc6a1]\n",
       "class E11--><a href=\"psysml:fe74329f-5d2b-4ebe-b106-a7ecca7a6fbd\" target=\"_top\" title=\"psysml:fe74329f-5d2b-4ebe-b106-a7ecca7a6fbd\" xlink:actuate=\"onRequest\" xlink:href=\"psysml:fe74329f-5d2b-4ebe-b106-a7ecca7a6fbd\" xlink:show=\"new\" xlink:title=\"psysml:fe74329f-5d2b-4ebe-b106-a7ecca7a6fbd\" xlink:type=\"simple\"><rect fill=\"#FEFECE\" filter=\"url(#f184kzix0mxoju)\" height=\"45.9375\" id=\"E11\" rx=\"10\" ry=\"10\" style=\"stroke: #A80036; stroke-width: 1.5;\" width=\"150\" x=\"561\" y=\"162\"/><text fill=\"#000000\" font-family=\"sans-serif\" font-size=\"12\" font-style=\"italic\" lengthAdjust=\"spacingAndGlyphs\" textLength=\"148\" x=\"562\" y=\"178.1387\">«snapshot occurrence»</text><text fill=\"#000000\" font-family=\"sans-serif\" font-size=\"12\" lengthAdjust=\"spacingAndGlyphs\" textLength=\"15\" x=\"626.5\" y=\"192.1074\">s3</text><line style=\"stroke: #A80036; stroke-width: 1.5;\" x1=\"562\" x2=\"710\" y1=\"199.9375\" y2=\"199.9375\"/></a><!--MD5=[49a0ec8f00dab7302a31f22d0f0fe584]\n",
       "class E12--><a href=\"psysml:6925098a-d5ed-431f-aaf1-d453853f914b\" target=\"_top\" title=\"psysml:6925098a-d5ed-431f-aaf1-d453853f914b\" xlink:actuate=\"onRequest\" xlink:href=\"psysml:6925098a-d5ed-431f-aaf1-d453853f914b\" xlink:show=\"new\" xlink:title=\"psysml:6925098a-d5ed-431f-aaf1-d453853f914b\" xlink:type=\"simple\"><rect fill=\"#FEFECE\" filter=\"url(#f184kzix0mxoju)\" height=\"45.9375\" id=\"E12\" rx=\"10\" ry=\"10\" style=\"stroke: #A80036; stroke-width: 1.5;\" width=\"208\" x=\"746\" y=\"162\"/><text fill=\"#000000\" font-family=\"sans-serif\" font-size=\"12\" font-style=\"italic\" lengthAdjust=\"spacingAndGlyphs\" textLength=\"206\" x=\"747\" y=\"178.1387\">«individual timeslice occurrence»</text><text fill=\"#000000\" font-family=\"sans-serif\" font-size=\"12\" lengthAdjust=\"spacingAndGlyphs\" textLength=\"13\" x=\"841.5\" y=\"192.1074\">t3</text><line style=\"stroke: #A80036; stroke-width: 1.5;\" x1=\"747\" x2=\"953\" y1=\"199.9375\" y2=\"199.9375\"/></a><!--MD5=[ee3c913d1a06f366521f9ef512b67efe]\n",
       "class E13--><a href=\"psysml:4e4d3416-6ae1-42d7-bc86-2084c913e314\" target=\"_top\" title=\"psysml:4e4d3416-6ae1-42d7-bc86-2084c913e314\" xlink:actuate=\"onRequest\" xlink:href=\"psysml:4e4d3416-6ae1-42d7-bc86-2084c913e314\" xlink:show=\"new\" xlink:title=\"psysml:4e4d3416-6ae1-42d7-bc86-2084c913e314\" xlink:type=\"simple\"><rect fill=\"#FEFECE\" filter=\"url(#f184kzix0mxoju)\" height=\"45.9375\" id=\"E13\" rx=\"10\" ry=\"10\" style=\"stroke: #A80036; stroke-width: 1.5;\" width=\"212\" x=\"32\" y=\"283\"/><text fill=\"#000000\" font-family=\"sans-serif\" font-size=\"12\" font-style=\"italic\" lengthAdjust=\"spacingAndGlyphs\" textLength=\"210\" x=\"33\" y=\"299.1387\">«individual snapshot occurrence»</text><text fill=\"#000000\" font-family=\"sans-serif\" font-size=\"12\" lengthAdjust=\"spacingAndGlyphs\" textLength=\"42\" x=\"115\" y=\"313.1074\">s4: Ind</text><line style=\"stroke: #A80036; stroke-width: 1.5;\" x1=\"33\" x2=\"243\" y1=\"320.9375\" y2=\"320.9375\"/></a><!--MD5=[209b3feb70ccb6233bfe1053d122c12c]\n",
       "reverse link E2 to E3--><a href=\"psysml:62ea934f-12d4-42a0-b786-a1086ef654f4\" target=\"_top\" title=\"psysml:62ea934f-12d4-42a0-b786-a1086ef654f4\" xlink:actuate=\"onRequest\" xlink:href=\"psysml:62ea934f-12d4-42a0-b786-a1086ef654f4\" xlink:show=\"new\" xlink:title=\"psysml:62ea934f-12d4-42a0-b786-a1086ef654f4\" xlink:type=\"simple\"><path d=\"M376.37,232.45 C359.85,249.83 343.43,268.76 332.86,282.93 \" fill=\"none\" id=\"E2&lt;-E3\" style=\"stroke: #A80036; stroke-width: 1.0;\"/><polygon fill=\"#FFFFFF\" points=\"385.52,223,378.4729,224.5294,377.1743,231.6226,384.2213,230.0932,385.52,223\" style=\"stroke: #A80036; stroke-width: 1.0;\"/></a><!--MD5=[05d275557350bfb9b23a4ef7222b4c39]\n",
       "link E3 to E2--><a href=\"psysml:72edb9ed-f456-4be1-846b-a7c4b7fb6ef3\" target=\"_top\" title=\"psysml:72edb9ed-f456-4be1-846b-a7c4b7fb6ef3\" xlink:actuate=\"onRequest\" xlink:href=\"psysml:72edb9ed-f456-4be1-846b-a7c4b7fb6ef3\" xlink:show=\"new\" xlink:title=\"psysml:72edb9ed-f456-4be1-846b-a7c4b7fb6ef3\" xlink:type=\"simple\"><path d=\"M353.8,282.93 C367.38,270.34 383.11,253.98 396.95,238.29 \" fill=\"none\" id=\"E3-&gt;E2\" style=\"stroke: #A80036; stroke-width: 1.0;\"/><polygon fill=\"#FFFFFF\" points=\"410.02,223,403.0007,241.9929,392.3563,232.8991,410.02,223\" style=\"stroke: #A80036; stroke-width: 1.0;\"/><ellipse cx=\"397.7776\" cy=\"245.0276\" fill=\"#A80036\" rx=\"2\" ry=\"2\" style=\"stroke: #A80036; stroke-width: 1.0;\"/><ellipse cx=\"390.1744\" cy=\"238.532\" fill=\"#A80036\" rx=\"2\" ry=\"2\" style=\"stroke: #A80036; stroke-width: 1.0;\"/></a><!--MD5=[9618e71518536f8baf3342ff6fdab317]\n",
       "reverse link E2 to E4--><a href=\"psysml:1930a264-e184-4aca-ae40-6206f5d09a7f\" target=\"_top\" title=\"psysml:1930a264-e184-4aca-ae40-6206f5d09a7f\" xlink:actuate=\"onRequest\" xlink:href=\"psysml:1930a264-e184-4aca-ae40-6206f5d09a7f\" xlink:show=\"new\" xlink:title=\"psysml:1930a264-e184-4aca-ae40-6206f5d09a7f\" xlink:type=\"simple\"><path d=\"M424.31,236.34 C425.74,252.61 428.58,269.81 432.23,282.93 \" fill=\"none\" id=\"E2&lt;-E4\" style=\"stroke: #A80036; stroke-width: 1.0;\"/><polygon fill=\"#A80036\" points=\"423.45,223,419.8475,229.2467,424.2281,234.9747,427.8306,228.728,423.45,223\" style=\"stroke: #A80036; stroke-width: 1.0;\"/></a><!--MD5=[185131fc0dcab0a4505a2ebe144e961b]\n",
       "link E4 to E2--><a href=\"psysml:32367fe5-1bb2-4952-a335-a8970d1d9f84\" target=\"_top\" title=\"psysml:32367fe5-1bb2-4952-a335-a8970d1d9f84\" xlink:actuate=\"onRequest\" xlink:href=\"psysml:32367fe5-1bb2-4952-a335-a8970d1d9f84\" xlink:show=\"new\" xlink:title=\"psysml:32367fe5-1bb2-4952-a335-a8970d1d9f84\" xlink:type=\"simple\"><path d=\"M453.17,282.93 C453.77,271.65 452.99,257.34 451.22,243.21 \" fill=\"none\" id=\"E4-&gt;E2\" style=\"stroke: #A80036; stroke-width: 1.0;\"/><polygon fill=\"#FFFFFF\" points=\"447.96,223,457.8973,240.6423,444.0761,242.8725,447.96,223\" style=\"stroke: #A80036; stroke-width: 1.0;\"/><ellipse cx=\"456.8309\" cy=\"246.5881\" fill=\"#A80036\" rx=\"2\" ry=\"2\" style=\"stroke: #A80036; stroke-width: 1.0;\"/><ellipse cx=\"446.9586\" cy=\"248.1811\" fill=\"#A80036\" rx=\"2\" ry=\"2\" style=\"stroke: #A80036; stroke-width: 1.0;\"/></a><!--MD5=[4e1a83fab71cdb913c109063314ae896]\n",
       "reverse link E2 to E5--><a href=\"psysml:0faf658f-4e02-48cd-849b-e0220b5d7629\" target=\"_top\" title=\"psysml:0faf658f-4e02-48cd-849b-e0220b5d7629\" xlink:actuate=\"onRequest\" xlink:href=\"psysml:0faf658f-4e02-48cd-849b-e0220b5d7629\" xlink:show=\"new\" xlink:title=\"psysml:0faf658f-4e02-48cd-849b-e0220b5d7629\" xlink:type=\"simple\"><path d=\"M499.85,227.17 C531.12,245.87 566.86,267.24 592.97,282.85 \" fill=\"none\" id=\"E2&lt;-E5\" style=\"stroke: #A80036; stroke-width: 1.0;\"/><polygon fill=\"#A80036\" points=\"488.56,220.42,491.6568,226.9323,498.8592,226.5784,495.7624,220.0661,488.56,220.42\" style=\"stroke: #A80036; stroke-width: 1.0;\"/></a><!--MD5=[ce036f65110ae2351ccce5a81dc2e928]\n",
       "reverse link E2 to E6--><a href=\"psysml:3f965610-dfca-4051-a1f3-35306b55574a\" target=\"_top\" title=\"psysml:3f965610-dfca-4051-a1f3-35306b55574a\" xlink:actuate=\"onRequest\" xlink:href=\"psysml:3f965610-dfca-4051-a1f3-35306b55574a\" xlink:show=\"new\" xlink:title=\"psysml:3f965610-dfca-4051-a1f3-35306b55574a\" xlink:type=\"simple\"><path d=\"M501.02,217.55 C506.06,219.49 511.08,221.33 516,223 C528.19,227.15 677.82,264.14 770.71,287 \" fill=\"none\" id=\"E2&lt;-E6\" style=\"stroke: #A80036; stroke-width: 1.0;\"/><polygon fill=\"#A80036\" points=\"488.57,212.58,492.6577,218.5206,499.7135,217.0321,495.6258,211.0916,488.57,212.58\" style=\"stroke: #A80036; stroke-width: 1.0;\"/></a><!--MD5=[3a9b96bfbf6b6ad89c494e81751bda47]\n",
       "link E5 to E7--><a href=\"psysml:5b4e0f94-bd6c-4a04-8036-e6bb7f85be93\" target=\"_top\" title=\"psysml:5b4e0f94-bd6c-4a04-8036-e6bb7f85be93\" xlink:actuate=\"onRequest\" xlink:href=\"psysml:5b4e0f94-bd6c-4a04-8036-e6bb7f85be93\" xlink:show=\"new\" xlink:title=\"psysml:5b4e0f94-bd6c-4a04-8036-e6bb7f85be93\" xlink:type=\"simple\"><path d=\"M630,329.06 C630,340.64 630,355.23 630,368.87 \" fill=\"none\" id=\"E5-&gt;E7\" style=\"stroke: #A80036; stroke-width: 1.0;\"/><polygon fill=\"#FFFFFF\" points=\"630,388.98,623,369.98,637,369.98,630,388.98\" style=\"stroke: #A80036; stroke-width: 1.0;\"/><ellipse cx=\"625\" cy=\"364.28\" fill=\"#A80036\" rx=\"2\" ry=\"2\" style=\"stroke: #A80036; stroke-width: 1.0;\"/><ellipse cx=\"635\" cy=\"364.28\" fill=\"#A80036\" rx=\"2\" ry=\"2\" style=\"stroke: #A80036; stroke-width: 1.0;\"/></a><!--MD5=[dc164f5e8a733ab456ef1add180e9e34]\n",
       "reverse link E7 to E8--><a href=\"psysml:37f490ca-8c9f-44ef-b281-38d91f32f2bf\" target=\"_top\" title=\"psysml:37f490ca-8c9f-44ef-b281-38d91f32f2bf\" xlink:actuate=\"onRequest\" xlink:href=\"psysml:37f490ca-8c9f-44ef-b281-38d91f32f2bf\" xlink:show=\"new\" xlink:title=\"psysml:37f490ca-8c9f-44ef-b281-38d91f32f2bf\" xlink:type=\"simple\"><path d=\"M601.55,445.16 C587.25,461.33 570.28,480.51 557.48,494.98 \" fill=\"none\" id=\"E7&lt;-E8\" style=\"stroke: #A80036; stroke-width: 1.0;\"/><polygon fill=\"#A80036\" points=\"610.49,435.06,603.5177,436.9004,602.5348,444.0442,609.5071,442.2038,610.49,435.06\" style=\"stroke: #A80036; stroke-width: 1.0;\"/></a><!--MD5=[e4a10ef82d0e328e31cac39a31e58dda]\n",
       "reverse link E7 to E9--><a href=\"psysml:c791e7ed-713f-4106-b9d5-0dfb97ea4543\" target=\"_top\" title=\"psysml:c791e7ed-713f-4106-b9d5-0dfb97ea4543\" xlink:actuate=\"onRequest\" xlink:href=\"psysml:c791e7ed-713f-4106-b9d5-0dfb97ea4543\" xlink:show=\"new\" xlink:title=\"psysml:c791e7ed-713f-4106-b9d5-0dfb97ea4543\" xlink:type=\"simple\"><path d=\"M658.14,445.16 C672.29,461.33 689.07,480.51 701.73,494.98 \" fill=\"none\" id=\"E7&lt;-E9\" style=\"stroke: #A80036; stroke-width: 1.0;\"/><polygon fill=\"#A80036\" points=\"649.3,435.06,650.2496,442.2083,657.2133,444.0811,656.2637,436.9328,649.3,435.06\" style=\"stroke: #A80036; stroke-width: 1.0;\"/></a><!--MD5=[a919e0967d6f3de553dc51b9865a1d6d]\n",
       "link E10 to E7--><a href=\"psysml:d7bf13fe-2343-4091-93b6-ccc05bfccd1c\" target=\"_top\" title=\"psysml:d7bf13fe-2343-4091-93b6-ccc05bfccd1c\" xlink:actuate=\"onRequest\" xlink:href=\"psysml:d7bf13fe-2343-4091-93b6-ccc05bfccd1c\" xlink:show=\"new\" xlink:title=\"psysml:d7bf13fe-2343-4091-93b6-ccc05bfccd1c\" xlink:type=\"simple\"><path d=\"M564.36,87.23 C542.92,120.68 510.65,184.15 544,223 C658.5,356.41 820.5,149.59 935,283 C997.3,355.58 849.41,387.9 738.47,401.63 \" fill=\"none\" id=\"E10-&gt;E7\" style=\"stroke: #A80036; stroke-width: 1.0;\"/><polygon fill=\"#FFFFFF\" points=\"718.6,403.94,736.6627,394.7891,738.2822,408.6951,718.6,403.94\" style=\"stroke: #A80036; stroke-width: 1.0;\"/><ellipse cx=\"742.5558\" cy=\"396.1162\" fill=\"#A80036\" rx=\"2\" ry=\"2\" style=\"stroke: #A80036; stroke-width: 1.0;\"/><ellipse cx=\"743.7126\" cy=\"406.0491\" fill=\"#A80036\" rx=\"2\" ry=\"2\" style=\"stroke: #A80036; stroke-width: 1.0;\"/></a><!--MD5=[0f36bececdf0dff6e600d6f64214b0f1]\n",
       "link E10 to E2--><a href=\"psysml:65e23dda-2765-4b86-8b8c-165f4272381c\" target=\"_top\" title=\"psysml:65e23dda-2765-4b86-8b8c-165f4272381c\" xlink:actuate=\"onRequest\" xlink:href=\"psysml:65e23dda-2765-4b86-8b8c-165f4272381c\" xlink:show=\"new\" xlink:title=\"psysml:65e23dda-2765-4b86-8b8c-165f4272381c\" xlink:type=\"simple\"><path d=\"M552.32,87.1 C535.71,100.38 513.86,117.82 493.29,134.25 \" fill=\"none\" id=\"E10-&gt;E2\" style=\"stroke: #A80036; stroke-width: 1.0;\"/><polygon fill=\"#FFFFFF\" points=\"477.56,146.81,488.0352,129.4817,496.7737,140.4197,477.56,146.81\" style=\"stroke: #A80036; stroke-width: 1.0;\"/><ellipse cx=\"493.7369\" cy=\"127.4865\" fill=\"#A80036\" rx=\"2\" ry=\"2\" style=\"stroke: #A80036; stroke-width: 1.0;\"/><ellipse cx=\"499.9786\" cy=\"135.2994\" fill=\"#A80036\" rx=\"2\" ry=\"2\" style=\"stroke: #A80036; stroke-width: 1.0;\"/></a><!--MD5=[de308be4a2431766a05a907a031c07fc]\n",
       "reverse link E10 to E11--><a href=\"psysml:996a22eb-9701-44d5-9cb6-35ae83d4d1b1\" target=\"_top\" title=\"psysml:996a22eb-9701-44d5-9cb6-35ae83d4d1b1\" xlink:actuate=\"onRequest\" xlink:href=\"psysml:996a22eb-9701-44d5-9cb6-35ae83d4d1b1\" xlink:show=\"new\" xlink:title=\"psysml:996a22eb-9701-44d5-9cb6-35ae83d4d1b1\" xlink:type=\"simple\"><path d=\"M595.95,98.9 C605.42,119.01 617.15,143.94 625.46,161.61 \" fill=\"none\" id=\"E10&lt;-E11\" style=\"stroke: #A80036; stroke-width: 1.0;\"/><polygon fill=\"#A80036\" points=\"590.4,87.1,589.3334,94.2318,595.5064,97.9593,596.573,90.8275,590.4,87.1\" style=\"stroke: #A80036; stroke-width: 1.0;\"/></a><!--MD5=[1d54f998c6d5961a1a9184be73a7eb6c]\n",
       "reverse link E10 to E12--><a href=\"psysml:da3311a8-2759-47ea-b229-fd34ee887055\" target=\"_top\" title=\"psysml:da3311a8-2759-47ea-b229-fd34ee887055\" xlink:actuate=\"onRequest\" xlink:href=\"psysml:da3311a8-2759-47ea-b229-fd34ee887055\" xlink:show=\"new\" xlink:title=\"psysml:da3311a8-2759-47ea-b229-fd34ee887055\" xlink:type=\"simple\"><path d=\"M642.21,92.42 C689.99,113.48 755.13,142.19 799.66,161.81 \" fill=\"none\" id=\"E10&lt;-E12\" style=\"stroke: #A80036; stroke-width: 1.0;\"/><polygon fill=\"#A80036\" points=\"630.15,87.1,634.028,93.1796,641.1314,91.9382,637.2534,85.8586,630.15,87.1\" style=\"stroke: #A80036; stroke-width: 1.0;\"/></a><!--MD5=[4a48077df6499cfcd20b62e8f5f37904]\n",
       "link E13 to E7--><a href=\"psysml:fb78d99f-0705-4d43-aabd-2eaf1ce47389\" target=\"_top\" title=\"psysml:fb78d99f-0705-4d43-aabd-2eaf1ce47389\" xlink:actuate=\"onRequest\" xlink:href=\"psysml:fb78d99f-0705-4d43-aabd-2eaf1ce47389\" xlink:show=\"new\" xlink:title=\"psysml:fb78d99f-0705-4d43-aabd-2eaf1ce47389\" xlink:type=\"simple\"><path d=\"M242.34,329.06 C324.51,346.43 438.67,370.56 521.82,388.13 \" fill=\"none\" id=\"E13-&gt;E7\" style=\"stroke: #A80036; stroke-width: 1.0;\"/><polygon fill=\"#FFFFFF\" points=\"541.45,392.28,521.4143,395.2075,524.304,381.509,541.45,392.28\" style=\"stroke: #A80036; stroke-width: 1.0;\"/><ellipse cx=\"516.2498\" cy=\"392.0741\" fill=\"#A80036\" rx=\"2\" ry=\"2\" style=\"stroke: #A80036; stroke-width: 1.0;\"/><ellipse cx=\"518.3139\" cy=\"382.2894\" fill=\"#A80036\" rx=\"2\" ry=\"2\" style=\"stroke: #A80036; stroke-width: 1.0;\"/></a><!--MD5=[232986b47cf2252da6330285a678fdea]\n",
       "@startuml\r\n",
       "skinparam wrapWidth 300\r\n",
       "hide circle\r\n",
       "\r\n",
       "package \"OccurrenceTest\" as E1  [[psysml:76f03fcf-c31b-4704-ae9e-b44a23fd6ebe ]]  {\r\n",
       "comp def \"Occ\" as E2  <<(T,blue) occurrence  def>> [[psysml:eaa0b96d-7da2-44a7-b980-6b6f36747918 ]] {\r\n",
       "- - attributes - -\r\n",
       "a\r\n",
       "}\r\n",
       "comp usage \"occ1: Occ \" as E3  <<(T,blue) occurrence>> [[psysml:87fca259-1c14-4b5b-983e-37895f6ff77b ]] {\r\n",
       "}\r\n",
       "comp usage \"occ2: Occ \" as E4  <<(T,blue) occurrence>> [[psysml:ffd2f288-180d-4271-8880-cf9706207ba2 ]] {\r\n",
       "}\r\n",
       "comp usage \"s: Ind \" as E5  <<(T,blue) individual snapshot occurrence>> [[psysml:4e1769cc-a186-417e-91f0-587d1f1196e7 ]] {\r\n",
       "}\r\n",
       "comp usage \"t \" as E6  <<(T,blue) timeslice occurrence>> [[psysml:9c61ac47-8b4e-45e2-802a-f3aa096140c4 ]] {\r\n",
       "}\r\n",
       "comp def \"Ind\" as E7  <<(T,blue) individual occurrence  def>> [[psysml:54e4af67-f268-48a3-80b8-bc1579f32c01 ]] {\r\n",
       "}\r\n",
       "comp usage \"s2 \" as E8  <<(T,blue) snapshot occurrence>> [[psysml:bfc31472-e77d-4111-949c-57e124b09868 ]] {\r\n",
       "}\r\n",
       "comp usage \"t2 \" as E9  <<(T,blue) timeslice occurrence>> [[psysml:25521b86-d75d-41e6-9d0e-592064bc2653 ]] {\r\n",
       "}\r\n",
       "comp usage \"ind: Ind, Occ \" as E10  <<(T,blue) individual occurrence>> [[psysml:ec83ca81-a881-4da3-97a0-46e2b6aae84c ]] {\r\n",
       "}\r\n",
       "comp usage \"s3 \" as E11  <<(T,blue) snapshot occurrence>> [[psysml:fe74329f-5d2b-4ebe-b106-a7ecca7a6fbd ]] {\r\n",
       "}\r\n",
       "comp usage \"t3 \" as E12  <<(T,blue) individual timeslice occurrence>> [[psysml:6925098a-d5ed-431f-aaf1-d453853f914b ]] {\r\n",
       "}\r\n",
       "comp usage \"s4: Ind \" as E13  <<(T,blue) individual snapshot occurrence>> [[psysml:4e4d3416-6ae1-42d7-bc86-2084c913e314 ]] {\r\n",
       "}\r\n",
       "}\r\n",
       "E2 o- - E3 [[psysml:62ea934f-12d4-42a0-b786-a1086ef654f4 ]] \r\n",
       "E3 - -:|> E2 [[psysml:72edb9ed-f456-4be1-846b-a7c4b7fb6ef3 ]] \r\n",
       "E2 *- - E4 [[psysml:1930a264-e184-4aca-ae40-6206f5d09a7f ]] \r\n",
       "E4 - -:|> E2 [[psysml:32367fe5-1bb2-4952-a335-a8970d1d9f84 ]] \r\n",
       "E2 *- - E5 [[psysml:0faf658f-4e02-48cd-849b-e0220b5d7629 ]] \r\n",
       "E2 *- - E6 [[psysml:3f965610-dfca-4051-a1f3-35306b55574a ]] \r\n",
       "E5 - -:|> E7 [[psysml:5b4e0f94-bd6c-4a04-8036-e6bb7f85be93 ]] \r\n",
       "E7 *- - E8 [[psysml:37f490ca-8c9f-44ef-b281-38d91f32f2bf ]] \r\n",
       "E7 *- - E9 [[psysml:c791e7ed-713f-4106-b9d5-0dfb97ea4543 ]] \r\n",
       "E10 - -:|> E7 [[psysml:d7bf13fe-2343-4091-93b6-ccc05bfccd1c ]] \r\n",
       "E10 - -:|> E2 [[psysml:65e23dda-2765-4b86-8b8c-165f4272381c ]] \r\n",
       "E10 *- - E11 [[psysml:996a22eb-9701-44d5-9cb6-35ae83d4d1b1 ]] \r\n",
       "E10 *- - E12 [[psysml:da3311a8-2759-47ea-b229-fd34ee887055 ]] \r\n",
       "E13 - -:|> E7 [[psysml:fb78d99f-0705-4d43-aabd-2eaf1ce47389 ]] \r\n",
       "@enduml\r\n",
       "\n",
       "PlantUML version 1.2020.13(Sat Jun 13 12:26:38 UTC 2020)\n",
       "(EPL source distribution)\n",
       "Java Runtime: OpenJDK Runtime Environment\n",
       "JVM: OpenJDK 64-Bit Server VM\n",
       "Default Encoding: UTF-8\n",
       "Language: en\n",
       "Country: null\n",
       "--></g></svg>"
      ]
     },
     "execution_count": 24,
     "metadata": {},
     "output_type": "execute_result"
    }
   ],
   "source": [
    "%viz --style=\"STDCOLOR\" --view=\"Tree\" \"OccurrenceTest\""
   ]
  },
  {
   "cell_type": "code",
   "execution_count": 25,
   "id": "a5426ebf",
   "metadata": {
    "execution": {
     "iopub.execute_input": "2022-02-18T10:48:37.881129Z",
     "iopub.status.busy": "2022-02-18T10:48:37.880806Z",
     "iopub.status.idle": "2022-02-18T10:48:37.883567Z",
     "shell.execute_reply": "2022-02-18T10:48:37.883788Z"
    }
   },
   "outputs": [
    {
     "data": {
      "image/svg+xml": [
       "<?xml version=\"1.0\" encoding=\"UTF-8\" standalone=\"no\"?><svg xmlns=\"http://www.w3.org/2000/svg\" xmlns:xlink=\"http://www.w3.org/1999/xlink\" contentScriptType=\"application/ecmascript\" contentStyleType=\"text/css\" height=\"12px\" preserveAspectRatio=\"none\" style=\"width:12px;height:12px;\" version=\"1.1\" viewBox=\"0 0 12 12\" width=\"12px\" zoomAndPan=\"magnify\"><defs/><g><!--MD5=[aeeef50f102b80d730deb6443d14f702]\n",
       "@startuml\r\n",
       "skinparam wrapWidth 300\r\n",
       "hide circle\r\n",
       "\r\n",
       "@enduml\r\n",
       "\n",
       "PlantUML version 1.2020.13(Sat Jun 13 12:26:38 UTC 2020)\n",
       "(EPL source distribution)\n",
       "Java Runtime: OpenJDK Runtime Environment\n",
       "JVM: OpenJDK 64-Bit Server VM\n",
       "Default Encoding: UTF-8\n",
       "Language: en\n",
       "Country: null\n",
       "--></g></svg>"
      ]
     },
     "execution_count": 25,
     "metadata": {},
     "output_type": "execute_result"
    }
   ],
   "source": [
    "%viz --style=\"STDCOLOR\" --view=\"State\" \"OccurrenceTest\""
   ]
  },
  {
   "cell_type": "code",
   "execution_count": 26,
   "id": "78e4c335",
   "metadata": {
    "execution": {
     "iopub.execute_input": "2022-02-18T10:48:37.934243Z",
     "iopub.status.busy": "2022-02-18T10:48:37.933936Z",
     "iopub.status.idle": "2022-02-18T10:48:37.968186Z",
     "shell.execute_reply": "2022-02-18T10:48:37.967980Z"
    }
   },
   "outputs": [
    {
     "data": {
      "image/svg+xml": [
       "<?xml version=\"1.0\" encoding=\"UTF-8\" standalone=\"no\"?><svg xmlns=\"http://www.w3.org/2000/svg\" xmlns:xlink=\"http://www.w3.org/1999/xlink\" contentScriptType=\"application/ecmascript\" contentStyleType=\"text/css\" height=\"195px\" preserveAspectRatio=\"none\" style=\"width:1123px;height:195px;\" version=\"1.1\" viewBox=\"0 0 1123 195\" width=\"1123px\" zoomAndPan=\"magnify\"><defs><filter height=\"300%\" id=\"f1dt7pxa1x2k55\" width=\"300%\" x=\"-1\" y=\"-1\"><feGaussianBlur result=\"blurOut\" stdDeviation=\"2.0\"/><feColorMatrix in=\"blurOut\" result=\"blurOut2\" type=\"matrix\" values=\"0 0 0 0 0 0 0 0 0 0 0 0 0 0 0 0 0 0 .4 0\"/><feOffset dx=\"4.0\" dy=\"4.0\" in=\"blurOut2\" result=\"blurOut3\"/><feBlend in=\"SourceGraphic\" in2=\"blurOut3\" mode=\"normal\"/></filter></defs><g><!--MD5=[fbc87193dbaf4d95561dea2c320d4a47]\n",
       "cluster E1--><a href=\"psysml:76f03fcf-c31b-4704-ae9e-b44a23fd6ebe\" target=\"_top\" title=\"psysml:76f03fcf-c31b-4704-ae9e-b44a23fd6ebe\" xlink:actuate=\"onRequest\" xlink:href=\"psysml:76f03fcf-c31b-4704-ae9e-b44a23fd6ebe\" xlink:show=\"new\" xlink:title=\"psysml:76f03fcf-c31b-4704-ae9e-b44a23fd6ebe\" xlink:type=\"simple\"><polygon fill=\"#FFFFFF\" filter=\"url(#f1dt7pxa1x2k55)\" points=\"16,6,134,6,141,28.2969,1101,28.2969,1101,183,16,183,16,6\" style=\"stroke: #000000; stroke-width: 1.5;\"/><line style=\"stroke: #000000; stroke-width: 1.5;\" x1=\"16\" x2=\"141\" y1=\"28.2969\" y2=\"28.2969\"/><text fill=\"#000000\" font-family=\"sans-serif\" font-size=\"14\" font-weight=\"bold\" lengthAdjust=\"spacingAndGlyphs\" textLength=\"112\" x=\"20\" y=\"20.9951\">OccurrenceTest</text></a><!--MD5=[f6df4d0ebaf0b5dfb2ced0ae5af7c670]\n",
       "cluster E4--><a href=\"psysml:ec83ca81-a881-4da3-97a0-46e2b6aae84c\" target=\"_top\" title=\"psysml:ec83ca81-a881-4da3-97a0-46e2b6aae84c\" xlink:actuate=\"onRequest\" xlink:href=\"psysml:ec83ca81-a881-4da3-97a0-46e2b6aae84c\" xlink:show=\"new\" xlink:title=\"psysml:ec83ca81-a881-4da3-97a0-46e2b6aae84c\" xlink:type=\"simple\"><rect fill=\"#FFFFFF\" filter=\"url(#f1dt7pxa1x2k55)\" height=\"110\" id=\"E4\" rx=\"10\" ry=\"10\" style=\"stroke: #A80036; stroke-width: 1.5;\" width=\"435\" x=\"642\" y=\"49\"/><rect fill=\"#FEFECE\" height=\"37.9375\" rx=\"10\" ry=\"10\" style=\"stroke: #FEFECE; stroke-width: 1.5;\" width=\"435\" x=\"642\" y=\"49\"/><rect fill=\"#FEFECE\" height=\"10\" style=\"stroke: #FEFECE; stroke-width: 1.5;\" width=\"435\" x=\"642\" y=\"76.9375\"/><rect fill=\"none\" height=\"110\" id=\"E4\" rx=\"10\" ry=\"10\" style=\"stroke: #A80036; stroke-width: 1.5;\" width=\"435\" x=\"642\" y=\"49\"/><text fill=\"#000000\" font-family=\"sans-serif\" font-size=\"12\" font-style=\"italic\" lengthAdjust=\"spacingAndGlyphs\" textLength=\"147\" x=\"786\" y=\"65.1387\">«individual occurrence»</text><text fill=\"#000000\" font-family=\"sans-serif\" font-size=\"12\" lengthAdjust=\"spacingAndGlyphs\" textLength=\"77\" x=\"821\" y=\"79.1074\">ind: Ind, Occ</text><line style=\"stroke: #A80036; stroke-width: 1.0;\" x1=\"642\" x2=\"1077\" y1=\"86.9375\" y2=\"86.9375\"/></a><g id=\"E1.E2\"><a href=\"psysml:eaa0b96d-7da2-44a7-b980-6b6f36747918\" target=\"_top\" title=\"psysml:eaa0b96d-7da2-44a7-b980-6b6f36747918\" xlink:actuate=\"onRequest\" xlink:href=\"psysml:eaa0b96d-7da2-44a7-b980-6b6f36747918\" xlink:show=\"new\" xlink:title=\"psysml:eaa0b96d-7da2-44a7-b980-6b6f36747918\" xlink:type=\"simple\"><rect fill=\"#FEFECE\" filter=\"url(#f1dt7pxa1x2k55)\" height=\"42.9375\" id=\"E2\" style=\"stroke: #A80036; stroke-width: 1.5;\" width=\"120\" x=\"502\" y=\"100\"/><text fill=\"#000000\" font-family=\"sans-serif\" font-size=\"12\" font-style=\"italic\" lengthAdjust=\"spacingAndGlyphs\" textLength=\"113\" x=\"505.5\" y=\"116.1387\">«occurrence  def»</text><text fill=\"#000000\" font-family=\"sans-serif\" font-size=\"12\" lengthAdjust=\"spacingAndGlyphs\" textLength=\"23\" x=\"550.5\" y=\"130.1074\">Occ</text></a></g><g id=\"E1.E3\"><a href=\"psysml:54e4af67-f268-48a3-80b8-bc1579f32c01\" target=\"_top\" title=\"psysml:54e4af67-f268-48a3-80b8-bc1579f32c01\" xlink:actuate=\"onRequest\" xlink:href=\"psysml:54e4af67-f268-48a3-80b8-bc1579f32c01\" xlink:show=\"new\" xlink:title=\"psysml:54e4af67-f268-48a3-80b8-bc1579f32c01\" xlink:type=\"simple\"><rect fill=\"#FEFECE\" filter=\"url(#f1dt7pxa1x2k55)\" height=\"42.9375\" id=\"E3\" style=\"stroke: #A80036; stroke-width: 1.5;\" width=\"182\" x=\"285\" y=\"100\"/><text fill=\"#000000\" font-family=\"sans-serif\" font-size=\"12\" font-style=\"italic\" lengthAdjust=\"spacingAndGlyphs\" textLength=\"175\" x=\"288.5\" y=\"116.1387\">«individual occurrence  def»</text><text fill=\"#000000\" font-family=\"sans-serif\" font-size=\"12\" lengthAdjust=\"spacingAndGlyphs\" textLength=\"19\" x=\"366.5\" y=\"130.1074\">Ind</text></a></g><g id=\"E1.E4.E5\"><a href=\"psysml:fe74329f-5d2b-4ebe-b106-a7ecca7a6fbd\" target=\"_top\" title=\"psysml:fe74329f-5d2b-4ebe-b106-a7ecca7a6fbd\" xlink:actuate=\"onRequest\" xlink:href=\"psysml:fe74329f-5d2b-4ebe-b106-a7ecca7a6fbd\" xlink:show=\"new\" xlink:title=\"psysml:fe74329f-5d2b-4ebe-b106-a7ecca7a6fbd\" xlink:type=\"simple\"><rect fill=\"#FEFECE\" filter=\"url(#f1dt7pxa1x2k55)\" height=\"42.9375\" id=\"E5\" rx=\"10\" ry=\"10\" style=\"stroke: #A80036; stroke-width: 1.5;\" width=\"155\" x=\"905.5\" y=\"100\"/><text fill=\"#000000\" font-family=\"sans-serif\" font-size=\"12\" font-style=\"italic\" lengthAdjust=\"spacingAndGlyphs\" textLength=\"148\" x=\"909\" y=\"116.1387\">«snapshot occurrence»</text><text fill=\"#000000\" font-family=\"sans-serif\" font-size=\"12\" lengthAdjust=\"spacingAndGlyphs\" textLength=\"15\" x=\"975.5\" y=\"130.1074\">s3</text></a></g><g id=\"E1.E4.E6\"><a href=\"psysml:6925098a-d5ed-431f-aaf1-d453853f914b\" target=\"_top\" title=\"psysml:6925098a-d5ed-431f-aaf1-d453853f914b\" xlink:actuate=\"onRequest\" xlink:href=\"psysml:6925098a-d5ed-431f-aaf1-d453853f914b\" xlink:show=\"new\" xlink:title=\"psysml:6925098a-d5ed-431f-aaf1-d453853f914b\" xlink:type=\"simple\"><rect fill=\"#FEFECE\" filter=\"url(#f1dt7pxa1x2k55)\" height=\"42.9375\" id=\"E6\" rx=\"10\" ry=\"10\" style=\"stroke: #A80036; stroke-width: 1.5;\" width=\"213\" x=\"657.5\" y=\"100\"/><text fill=\"#000000\" font-family=\"sans-serif\" font-size=\"12\" font-style=\"italic\" lengthAdjust=\"spacingAndGlyphs\" textLength=\"206\" x=\"661\" y=\"116.1387\">«individual timeslice occurrence»</text><text fill=\"#000000\" font-family=\"sans-serif\" font-size=\"12\" lengthAdjust=\"spacingAndGlyphs\" textLength=\"13\" x=\"757.5\" y=\"130.1074\">t3</text></a></g><g id=\"E1.E7\"><a href=\"psysml:4e4d3416-6ae1-42d7-bc86-2084c913e314\" target=\"_top\" title=\"psysml:4e4d3416-6ae1-42d7-bc86-2084c913e314\" xlink:actuate=\"onRequest\" xlink:href=\"psysml:4e4d3416-6ae1-42d7-bc86-2084c913e314\" xlink:show=\"new\" xlink:title=\"psysml:4e4d3416-6ae1-42d7-bc86-2084c913e314\" xlink:type=\"simple\"><rect fill=\"#FEFECE\" filter=\"url(#f1dt7pxa1x2k55)\" height=\"42.9375\" id=\"E7\" rx=\"10\" ry=\"10\" style=\"stroke: #A80036; stroke-width: 1.5;\" width=\"217\" x=\"32.5\" y=\"100\"/><text fill=\"#000000\" font-family=\"sans-serif\" font-size=\"12\" font-style=\"italic\" lengthAdjust=\"spacingAndGlyphs\" textLength=\"210\" x=\"36\" y=\"116.1387\">«individual snapshot occurrence»</text><text fill=\"#000000\" font-family=\"sans-serif\" font-size=\"12\" lengthAdjust=\"spacingAndGlyphs\" textLength=\"42\" x=\"120\" y=\"130.1074\">s4: Ind</text></a></g><!--MD5=[4282655c90b177255240e21beaf69c3c]\n",
       "@startuml\r\n",
       "skinparam ranksep 10\r\n",
       "skinparam rectangle {\r\n",
       " backgroundColor<<block>> LightGreen\r\n",
       "}\r\n",
       "skinparam wrapWidth 300\r\n",
       "hide circle\r\n",
       "\r\n",
       "package \"OccurrenceTest\" as E1  [[psysml:76f03fcf-c31b-4704-ae9e-b44a23fd6ebe ]]  {\r\n",
       "def \"Occ\" as E2  <<(T,blue) occurrence  def>> [[psysml:eaa0b96d-7da2-44a7-b980-6b6f36747918 ]] \r\n",
       "def \"Ind\" as E3  <<(T,blue) individual occurrence  def>> [[psysml:54e4af67-f268-48a3-80b8-bc1579f32c01 ]] \r\n",
       "rec usage \"ind: Ind, Occ\" as E4  <<(T,blue) individual occurrence>> [[psysml:ec83ca81-a881-4da3-97a0-46e2b6aae84c ]] {\r\n",
       "rec usage \"s3\" as E5  <<(T,blue) snapshot occurrence>> [[psysml:fe74329f-5d2b-4ebe-b106-a7ecca7a6fbd ]] {\r\n",
       "}\r\n",
       "rec usage \"t3\" as E6  <<(T,blue) individual timeslice occurrence>> [[psysml:6925098a-d5ed-431f-aaf1-d453853f914b ]] {\r\n",
       "}\r\n",
       "}\r\n",
       "rec usage \"s4: Ind\" as E7  <<(T,blue) individual snapshot occurrence>> [[psysml:4e4d3416-6ae1-42d7-bc86-2084c913e314 ]] {\r\n",
       "}\r\n",
       "}\r\n",
       "@enduml\r\n",
       "\n",
       "PlantUML version 1.2020.13(Sat Jun 13 12:26:38 UTC 2020)\n",
       "(EPL source distribution)\n",
       "Java Runtime: OpenJDK Runtime Environment\n",
       "JVM: OpenJDK 64-Bit Server VM\n",
       "Default Encoding: UTF-8\n",
       "Language: en\n",
       "Country: null\n",
       "--></g></svg>"
      ]
     },
     "execution_count": 26,
     "metadata": {},
     "output_type": "execute_result"
    }
   ],
   "source": [
    "%viz --style=\"STDCOLOR\" --view=\"Interconnection\" \"OccurrenceTest\""
   ]
  },
  {
   "cell_type": "code",
   "execution_count": 27,
   "id": "0115720b",
   "metadata": {
    "execution": {
     "iopub.execute_input": "2022-02-18T10:48:38.017961Z",
     "iopub.status.busy": "2022-02-18T10:48:38.017714Z",
     "iopub.status.idle": "2022-02-18T10:48:38.022159Z",
     "shell.execute_reply": "2022-02-18T10:48:38.022379Z"
    }
   },
   "outputs": [
    {
     "data": {
      "image/svg+xml": [
       "<?xml version=\"1.0\" encoding=\"UTF-8\" standalone=\"no\"?><svg xmlns=\"http://www.w3.org/2000/svg\" xmlns:xlink=\"http://www.w3.org/1999/xlink\" contentScriptType=\"application/ecmascript\" contentStyleType=\"text/css\" height=\"12px\" preserveAspectRatio=\"none\" style=\"width:12px;height:12px;\" version=\"1.1\" viewBox=\"0 0 12 12\" width=\"12px\" zoomAndPan=\"magnify\"><defs/><g><!--MD5=[9863325348a96a77dacc89509d8ee65e]\n",
       "@startuml\r\n",
       "skinparam ranksep 8\r\n",
       "skinparam wrapWidth 300\r\n",
       "hide circle\r\n",
       "\r\n",
       "@enduml\r\n",
       "\n",
       "PlantUML version 1.2020.13(Sat Jun 13 12:26:38 UTC 2020)\n",
       "(EPL source distribution)\n",
       "Java Runtime: OpenJDK Runtime Environment\n",
       "JVM: OpenJDK 64-Bit Server VM\n",
       "Default Encoding: UTF-8\n",
       "Language: en\n",
       "Country: null\n",
       "--></g></svg>"
      ]
     },
     "execution_count": 27,
     "metadata": {},
     "output_type": "execute_result"
    }
   ],
   "source": [
    "%viz --style=\"STDCOLOR\" --view=\"Action\" \"OccurrenceTest\""
   ]
  },
  {
   "cell_type": "code",
   "execution_count": 28,
   "id": "d0ea313d",
   "metadata": {
    "execution": {
     "iopub.execute_input": "2022-02-18T10:48:38.072488Z",
     "iopub.status.busy": "2022-02-18T10:48:38.072273Z",
     "iopub.status.idle": "2022-02-18T10:48:38.076875Z",
     "shell.execute_reply": "2022-02-18T10:48:38.077069Z"
    }
   },
   "outputs": [
    {
     "data": {
      "image/svg+xml": [
       "<?xml version=\"1.0\" encoding=\"UTF-8\" standalone=\"no\"?><svg xmlns=\"http://www.w3.org/2000/svg\" xmlns:xlink=\"http://www.w3.org/1999/xlink\" contentScriptType=\"application/ecmascript\" contentStyleType=\"text/css\" height=\"12px\" preserveAspectRatio=\"none\" style=\"width:12px;height:12px;\" version=\"1.1\" viewBox=\"0 0 12 12\" width=\"12px\" zoomAndPan=\"magnify\"><defs/><g><!--MD5=[6c4bca67b4d71758159a5a7f1f1e1fc2]\n",
       "@startuml\r\n",
       "skinparam roundcorner 20\r\n",
       "skinparam BoxPadding 20\r\n",
       "skinparam SequenceBoxBackgroundColor #white\r\n",
       "skinparam style strictuml\r\n",
       "skinparam maxMessageSize 100\r\n",
       "skinparam wrapWidth 300\r\n",
       "hide circle\r\n",
       "\r\n",
       "@enduml\r\n",
       "\n",
       "PlantUML version 1.2020.13(Sat Jun 13 12:26:38 UTC 2020)\n",
       "(EPL source distribution)\n",
       "Java Runtime: OpenJDK Runtime Environment\n",
       "JVM: OpenJDK 64-Bit Server VM\n",
       "Default Encoding: UTF-8\n",
       "Language: en\n",
       "Country: null\n",
       "--></g></svg>"
      ]
     },
     "execution_count": 28,
     "metadata": {},
     "output_type": "execute_result"
    }
   ],
   "source": [
    "%viz --style=\"STDCOLOR\" --view=\"Sequence\" \"OccurrenceTest\""
   ]
  },
  {
   "cell_type": "code",
   "execution_count": 29,
   "id": "397d1abc",
   "metadata": {
    "execution": {
     "iopub.execute_input": "2022-02-18T10:48:38.127266Z",
     "iopub.status.busy": "2022-02-18T10:48:38.127026Z",
     "iopub.status.idle": "2022-02-18T10:48:38.183536Z",
     "shell.execute_reply": "2022-02-18T10:48:38.183173Z"
    }
   },
   "outputs": [
    {
     "data": {
      "image/svg+xml": [
       "<?xml version=\"1.0\" encoding=\"UTF-8\" standalone=\"no\"?><svg xmlns=\"http://www.w3.org/2000/svg\" xmlns:xlink=\"http://www.w3.org/1999/xlink\" contentScriptType=\"application/ecmascript\" contentStyleType=\"text/css\" height=\"569px\" preserveAspectRatio=\"none\" style=\"width:1009px;height:569px;\" version=\"1.1\" viewBox=\"0 0 1009 569\" width=\"1009px\" zoomAndPan=\"magnify\"><defs><filter height=\"300%\" id=\"f184kzix0mxoju\" width=\"300%\" x=\"-1\" y=\"-1\"><feGaussianBlur result=\"blurOut\" stdDeviation=\"2.0\"/><feColorMatrix in=\"blurOut\" result=\"blurOut2\" type=\"matrix\" values=\"0 0 0 0 0 0 0 0 0 0 0 0 0 0 0 0 0 0 .4 0\"/><feOffset dx=\"4.0\" dy=\"4.0\" in=\"blurOut2\" result=\"blurOut3\"/><feBlend in=\"SourceGraphic\" in2=\"blurOut3\" mode=\"normal\"/></filter></defs><g><!--MD5=[fbc87193dbaf4d95561dea2c320d4a47]\n",
       "cluster E1--><a href=\"psysml:76f03fcf-c31b-4704-ae9e-b44a23fd6ebe\" target=\"_top\" title=\"psysml:76f03fcf-c31b-4704-ae9e-b44a23fd6ebe\" xlink:actuate=\"onRequest\" xlink:href=\"psysml:76f03fcf-c31b-4704-ae9e-b44a23fd6ebe\" xlink:show=\"new\" xlink:title=\"psysml:76f03fcf-c31b-4704-ae9e-b44a23fd6ebe\" xlink:type=\"simple\"><polygon fill=\"#FFFFFF\" filter=\"url(#f184kzix0mxoju)\" points=\"16,6,134,6,141,28.2969,970,28.2969,970,557,16,557,16,6\" style=\"stroke: #000000; stroke-width: 1.5;\"/><line style=\"stroke: #000000; stroke-width: 1.5;\" x1=\"16\" x2=\"141\" y1=\"28.2969\" y2=\"28.2969\"/><text fill=\"#000000\" font-family=\"sans-serif\" font-size=\"14\" font-weight=\"bold\" lengthAdjust=\"spacingAndGlyphs\" textLength=\"112\" x=\"20\" y=\"20.9951\">OccurrenceTest</text></a><!--MD5=[b4997ac47864f28c2f74865a473b2911]\n",
       "class E2--><a href=\"psysml:eaa0b96d-7da2-44a7-b980-6b6f36747918\" target=\"_top\" title=\"psysml:eaa0b96d-7da2-44a7-b980-6b6f36747918\" xlink:actuate=\"onRequest\" xlink:href=\"psysml:eaa0b96d-7da2-44a7-b980-6b6f36747918\" xlink:show=\"new\" xlink:title=\"psysml:eaa0b96d-7da2-44a7-b980-6b6f36747918\" xlink:type=\"simple\"><rect fill=\"#FEFECE\" filter=\"url(#f184kzix0mxoju)\" height=\"75.5469\" id=\"E2\" style=\"stroke: #A80036; stroke-width: 1.5;\" width=\"115\" x=\"373.5\" y=\"147\"/><text fill=\"#000000\" font-family=\"sans-serif\" font-size=\"12\" font-style=\"italic\" lengthAdjust=\"spacingAndGlyphs\" textLength=\"113\" x=\"374.5\" y=\"163.1387\">«occurrence  def»</text><text fill=\"#000000\" font-family=\"sans-serif\" font-size=\"12\" lengthAdjust=\"spacingAndGlyphs\" textLength=\"23\" x=\"419.5\" y=\"177.1074\">Occ</text><line style=\"stroke: #A80036; stroke-width: 1.5;\" x1=\"374.5\" x2=\"487.5\" y1=\"184.9375\" y2=\"184.9375\"/><text fill=\"#000000\" font-family=\"sans-serif\" font-size=\"11\" lengthAdjust=\"spacingAndGlyphs\" textLength=\"7\" x=\"379.5\" y=\"215.9526\">a</text><line style=\"stroke: #A80036; stroke-width: 1.0;\" x1=\"374.5\" x2=\"403.5\" y1=\"199.3398\" y2=\"199.3398\"/><text fill=\"#000000\" font-family=\"sans-serif\" font-size=\"11\" lengthAdjust=\"spacingAndGlyphs\" textLength=\"55\" x=\"403.5\" y=\"202.6479\">attributes</text><line style=\"stroke: #A80036; stroke-width: 1.0;\" x1=\"458.5\" x2=\"487.5\" y1=\"199.3398\" y2=\"199.3398\"/></a><!--MD5=[09b614a08d8cba4a07c9adeb5e0fee81]\n",
       "class E3--><a href=\"psysml:87fca259-1c14-4b5b-983e-37895f6ff77b\" target=\"_top\" title=\"psysml:87fca259-1c14-4b5b-983e-37895f6ff77b\" xlink:actuate=\"onRequest\" xlink:href=\"psysml:87fca259-1c14-4b5b-983e-37895f6ff77b\" xlink:show=\"new\" xlink:title=\"psysml:87fca259-1c14-4b5b-983e-37895f6ff77b\" xlink:type=\"simple\"><rect fill=\"#FEFECE\" filter=\"url(#f184kzix0mxoju)\" height=\"45.9375\" id=\"E3\" rx=\"10\" ry=\"10\" style=\"stroke: #A80036; stroke-width: 1.5;\" width=\"87\" x=\"279.5\" y=\"283\"/><text fill=\"#000000\" font-family=\"sans-serif\" font-size=\"12\" font-style=\"italic\" lengthAdjust=\"spacingAndGlyphs\" textLength=\"85\" x=\"280.5\" y=\"299.1387\">«occurrence»</text><text fill=\"#000000\" font-family=\"sans-serif\" font-size=\"12\" lengthAdjust=\"spacingAndGlyphs\" textLength=\"61\" x=\"290.5\" y=\"313.1074\">occ1: Occ</text><line style=\"stroke: #A80036; stroke-width: 1.5;\" x1=\"280.5\" x2=\"365.5\" y1=\"320.9375\" y2=\"320.9375\"/></a><!--MD5=[ebbe1d658d1005bcc118a6aa81145e00]\n",
       "class E4--><a href=\"psysml:ffd2f288-180d-4271-8880-cf9706207ba2\" target=\"_top\" title=\"psysml:ffd2f288-180d-4271-8880-cf9706207ba2\" xlink:actuate=\"onRequest\" xlink:href=\"psysml:ffd2f288-180d-4271-8880-cf9706207ba2\" xlink:show=\"new\" xlink:title=\"psysml:ffd2f288-180d-4271-8880-cf9706207ba2\" xlink:type=\"simple\"><rect fill=\"#FEFECE\" filter=\"url(#f184kzix0mxoju)\" height=\"45.9375\" id=\"E4\" rx=\"10\" ry=\"10\" style=\"stroke: #A80036; stroke-width: 1.5;\" width=\"87\" x=\"401.5\" y=\"283\"/><text fill=\"#000000\" font-family=\"sans-serif\" font-size=\"12\" font-style=\"italic\" lengthAdjust=\"spacingAndGlyphs\" textLength=\"85\" x=\"402.5\" y=\"299.1387\">«occurrence»</text><text fill=\"#000000\" font-family=\"sans-serif\" font-size=\"12\" lengthAdjust=\"spacingAndGlyphs\" textLength=\"61\" x=\"412.5\" y=\"313.1074\">occ2: Occ</text><line style=\"stroke: #A80036; stroke-width: 1.5;\" x1=\"402.5\" x2=\"487.5\" y1=\"320.9375\" y2=\"320.9375\"/></a><!--MD5=[270fce915f116d4de14055a7c1d9a0f3]\n",
       "class E5--><a href=\"psysml:4e1769cc-a186-417e-91f0-587d1f1196e7\" target=\"_top\" title=\"psysml:4e1769cc-a186-417e-91f0-587d1f1196e7\" xlink:actuate=\"onRequest\" xlink:href=\"psysml:4e1769cc-a186-417e-91f0-587d1f1196e7\" xlink:show=\"new\" xlink:title=\"psysml:4e1769cc-a186-417e-91f0-587d1f1196e7\" xlink:type=\"simple\"><rect fill=\"#FEFECE\" filter=\"url(#f184kzix0mxoju)\" height=\"45.9375\" id=\"E5\" rx=\"10\" ry=\"10\" style=\"stroke: #A80036; stroke-width: 1.5;\" width=\"212\" x=\"524\" y=\"283\"/><text fill=\"#000000\" font-family=\"sans-serif\" font-size=\"12\" font-style=\"italic\" lengthAdjust=\"spacingAndGlyphs\" textLength=\"210\" x=\"525\" y=\"299.1387\">«individual snapshot occurrence»</text><text fill=\"#000000\" font-family=\"sans-serif\" font-size=\"12\" lengthAdjust=\"spacingAndGlyphs\" textLength=\"34\" x=\"611\" y=\"313.1074\">s: Ind</text><line style=\"stroke: #A80036; stroke-width: 1.5;\" x1=\"525\" x2=\"735\" y1=\"320.9375\" y2=\"320.9375\"/></a><!--MD5=[60a26617385b1d2d0262a64233df1f8d]\n",
       "class E6--><a href=\"psysml:9c61ac47-8b4e-45e2-802a-f3aa096140c4\" target=\"_top\" title=\"psysml:9c61ac47-8b4e-45e2-802a-f3aa096140c4\" xlink:actuate=\"onRequest\" xlink:href=\"psysml:9c61ac47-8b4e-45e2-802a-f3aa096140c4\" xlink:show=\"new\" xlink:title=\"psysml:9c61ac47-8b4e-45e2-802a-f3aa096140c4\" xlink:type=\"simple\"><rect fill=\"#FEFECE\" filter=\"url(#f184kzix0mxoju)\" height=\"45.9375\" id=\"E6\" rx=\"10\" ry=\"10\" style=\"stroke: #A80036; stroke-width: 1.5;\" width=\"146\" x=\"771\" y=\"283\"/><text fill=\"#000000\" font-family=\"sans-serif\" font-size=\"12\" font-style=\"italic\" lengthAdjust=\"spacingAndGlyphs\" textLength=\"144\" x=\"772\" y=\"299.1387\">«timeslice occurrence»</text><text fill=\"#000000\" font-family=\"sans-serif\" font-size=\"12\" lengthAdjust=\"spacingAndGlyphs\" textLength=\"5\" x=\"839.5\" y=\"313.1074\">t</text><line style=\"stroke: #A80036; stroke-width: 1.5;\" x1=\"772\" x2=\"916\" y1=\"320.9375\" y2=\"320.9375\"/></a><!--MD5=[2156ba9850f5573cc1fc38a6a4b2f02b]\n",
       "class E7--><a href=\"psysml:54e4af67-f268-48a3-80b8-bc1579f32c01\" target=\"_top\" title=\"psysml:54e4af67-f268-48a3-80b8-bc1579f32c01\" xlink:actuate=\"onRequest\" xlink:href=\"psysml:54e4af67-f268-48a3-80b8-bc1579f32c01\" xlink:show=\"new\" xlink:title=\"psysml:54e4af67-f268-48a3-80b8-bc1579f32c01\" xlink:type=\"simple\"><rect fill=\"#FEFECE\" filter=\"url(#f184kzix0mxoju)\" height=\"45.9375\" id=\"E7\" style=\"stroke: #A80036; stroke-width: 1.5;\" width=\"177\" x=\"541.5\" y=\"389\"/><text fill=\"#000000\" font-family=\"sans-serif\" font-size=\"12\" font-style=\"italic\" lengthAdjust=\"spacingAndGlyphs\" textLength=\"175\" x=\"542.5\" y=\"405.1387\">«individual occurrence  def»</text><text fill=\"#000000\" font-family=\"sans-serif\" font-size=\"12\" lengthAdjust=\"spacingAndGlyphs\" textLength=\"19\" x=\"620.5\" y=\"419.1074\">Ind</text><line style=\"stroke: #A80036; stroke-width: 1.5;\" x1=\"542.5\" x2=\"717.5\" y1=\"426.9375\" y2=\"426.9375\"/></a><!--MD5=[b9389687b975829384b498ac4b7476b2]\n",
       "class E8--><a href=\"psysml:bfc31472-e77d-4111-949c-57e124b09868\" target=\"_top\" title=\"psysml:bfc31472-e77d-4111-949c-57e124b09868\" xlink:actuate=\"onRequest\" xlink:href=\"psysml:bfc31472-e77d-4111-949c-57e124b09868\" xlink:show=\"new\" xlink:title=\"psysml:bfc31472-e77d-4111-949c-57e124b09868\" xlink:type=\"simple\"><rect fill=\"#FEFECE\" filter=\"url(#f184kzix0mxoju)\" height=\"45.9375\" id=\"E8\" rx=\"10\" ry=\"10\" style=\"stroke: #A80036; stroke-width: 1.5;\" width=\"150\" x=\"463\" y=\"495\"/><text fill=\"#000000\" font-family=\"sans-serif\" font-size=\"12\" font-style=\"italic\" lengthAdjust=\"spacingAndGlyphs\" textLength=\"148\" x=\"464\" y=\"511.1387\">«snapshot occurrence»</text><text fill=\"#000000\" font-family=\"sans-serif\" font-size=\"12\" lengthAdjust=\"spacingAndGlyphs\" textLength=\"15\" x=\"528.5\" y=\"525.1074\">s2</text><line style=\"stroke: #A80036; stroke-width: 1.5;\" x1=\"464\" x2=\"612\" y1=\"532.9375\" y2=\"532.9375\"/></a><!--MD5=[fd4143e9d270a159db93a4ea2a975926]\n",
       "class E9--><a href=\"psysml:25521b86-d75d-41e6-9d0e-592064bc2653\" target=\"_top\" title=\"psysml:25521b86-d75d-41e6-9d0e-592064bc2653\" xlink:actuate=\"onRequest\" xlink:href=\"psysml:25521b86-d75d-41e6-9d0e-592064bc2653\" xlink:show=\"new\" xlink:title=\"psysml:25521b86-d75d-41e6-9d0e-592064bc2653\" xlink:type=\"simple\"><rect fill=\"#FEFECE\" filter=\"url(#f184kzix0mxoju)\" height=\"45.9375\" id=\"E9\" rx=\"10\" ry=\"10\" style=\"stroke: #A80036; stroke-width: 1.5;\" width=\"146\" x=\"648\" y=\"495\"/><text fill=\"#000000\" font-family=\"sans-serif\" font-size=\"12\" font-style=\"italic\" lengthAdjust=\"spacingAndGlyphs\" textLength=\"144\" x=\"649\" y=\"511.1387\">«timeslice occurrence»</text><text fill=\"#000000\" font-family=\"sans-serif\" font-size=\"12\" lengthAdjust=\"spacingAndGlyphs\" textLength=\"13\" x=\"712.5\" y=\"525.1074\">t2</text><line style=\"stroke: #A80036; stroke-width: 1.5;\" x1=\"649\" x2=\"793\" y1=\"532.9375\" y2=\"532.9375\"/></a><!--MD5=[96f4274e9e20536e775497830990834d]\n",
       "class E10--><a href=\"psysml:ec83ca81-a881-4da3-97a0-46e2b6aae84c\" target=\"_top\" title=\"psysml:ec83ca81-a881-4da3-97a0-46e2b6aae84c\" xlink:actuate=\"onRequest\" xlink:href=\"psysml:ec83ca81-a881-4da3-97a0-46e2b6aae84c\" xlink:show=\"new\" xlink:title=\"psysml:ec83ca81-a881-4da3-97a0-46e2b6aae84c\" xlink:type=\"simple\"><rect fill=\"#FEFECE\" filter=\"url(#f184kzix0mxoju)\" height=\"45.9375\" id=\"E10\" rx=\"10\" ry=\"10\" style=\"stroke: #A80036; stroke-width: 1.5;\" width=\"149\" x=\"505.5\" y=\"41\"/><text fill=\"#000000\" font-family=\"sans-serif\" font-size=\"12\" font-style=\"italic\" lengthAdjust=\"spacingAndGlyphs\" textLength=\"147\" x=\"506.5\" y=\"57.1387\">«individual occurrence»</text><text fill=\"#000000\" font-family=\"sans-serif\" font-size=\"12\" lengthAdjust=\"spacingAndGlyphs\" textLength=\"77\" x=\"539.5\" y=\"71.1074\">ind: Ind, Occ</text><line style=\"stroke: #A80036; stroke-width: 1.5;\" x1=\"506.5\" x2=\"653.5\" y1=\"78.9375\" y2=\"78.9375\"/></a><!--MD5=[1dd1bfd58a279cf63c5f349dbc8fc6a1]\n",
       "class E11--><a href=\"psysml:fe74329f-5d2b-4ebe-b106-a7ecca7a6fbd\" target=\"_top\" title=\"psysml:fe74329f-5d2b-4ebe-b106-a7ecca7a6fbd\" xlink:actuate=\"onRequest\" xlink:href=\"psysml:fe74329f-5d2b-4ebe-b106-a7ecca7a6fbd\" xlink:show=\"new\" xlink:title=\"psysml:fe74329f-5d2b-4ebe-b106-a7ecca7a6fbd\" xlink:type=\"simple\"><rect fill=\"#FEFECE\" filter=\"url(#f184kzix0mxoju)\" height=\"45.9375\" id=\"E11\" rx=\"10\" ry=\"10\" style=\"stroke: #A80036; stroke-width: 1.5;\" width=\"150\" x=\"561\" y=\"162\"/><text fill=\"#000000\" font-family=\"sans-serif\" font-size=\"12\" font-style=\"italic\" lengthAdjust=\"spacingAndGlyphs\" textLength=\"148\" x=\"562\" y=\"178.1387\">«snapshot occurrence»</text><text fill=\"#000000\" font-family=\"sans-serif\" font-size=\"12\" lengthAdjust=\"spacingAndGlyphs\" textLength=\"15\" x=\"626.5\" y=\"192.1074\">s3</text><line style=\"stroke: #A80036; stroke-width: 1.5;\" x1=\"562\" x2=\"710\" y1=\"199.9375\" y2=\"199.9375\"/></a><!--MD5=[49a0ec8f00dab7302a31f22d0f0fe584]\n",
       "class E12--><a href=\"psysml:6925098a-d5ed-431f-aaf1-d453853f914b\" target=\"_top\" title=\"psysml:6925098a-d5ed-431f-aaf1-d453853f914b\" xlink:actuate=\"onRequest\" xlink:href=\"psysml:6925098a-d5ed-431f-aaf1-d453853f914b\" xlink:show=\"new\" xlink:title=\"psysml:6925098a-d5ed-431f-aaf1-d453853f914b\" xlink:type=\"simple\"><rect fill=\"#FEFECE\" filter=\"url(#f184kzix0mxoju)\" height=\"45.9375\" id=\"E12\" rx=\"10\" ry=\"10\" style=\"stroke: #A80036; stroke-width: 1.5;\" width=\"208\" x=\"746\" y=\"162\"/><text fill=\"#000000\" font-family=\"sans-serif\" font-size=\"12\" font-style=\"italic\" lengthAdjust=\"spacingAndGlyphs\" textLength=\"206\" x=\"747\" y=\"178.1387\">«individual timeslice occurrence»</text><text fill=\"#000000\" font-family=\"sans-serif\" font-size=\"12\" lengthAdjust=\"spacingAndGlyphs\" textLength=\"13\" x=\"841.5\" y=\"192.1074\">t3</text><line style=\"stroke: #A80036; stroke-width: 1.5;\" x1=\"747\" x2=\"953\" y1=\"199.9375\" y2=\"199.9375\"/></a><!--MD5=[ee3c913d1a06f366521f9ef512b67efe]\n",
       "class E13--><a href=\"psysml:4e4d3416-6ae1-42d7-bc86-2084c913e314\" target=\"_top\" title=\"psysml:4e4d3416-6ae1-42d7-bc86-2084c913e314\" xlink:actuate=\"onRequest\" xlink:href=\"psysml:4e4d3416-6ae1-42d7-bc86-2084c913e314\" xlink:show=\"new\" xlink:title=\"psysml:4e4d3416-6ae1-42d7-bc86-2084c913e314\" xlink:type=\"simple\"><rect fill=\"#FEFECE\" filter=\"url(#f184kzix0mxoju)\" height=\"45.9375\" id=\"E13\" rx=\"10\" ry=\"10\" style=\"stroke: #A80036; stroke-width: 1.5;\" width=\"212\" x=\"32\" y=\"283\"/><text fill=\"#000000\" font-family=\"sans-serif\" font-size=\"12\" font-style=\"italic\" lengthAdjust=\"spacingAndGlyphs\" textLength=\"210\" x=\"33\" y=\"299.1387\">«individual snapshot occurrence»</text><text fill=\"#000000\" font-family=\"sans-serif\" font-size=\"12\" lengthAdjust=\"spacingAndGlyphs\" textLength=\"42\" x=\"115\" y=\"313.1074\">s4: Ind</text><line style=\"stroke: #A80036; stroke-width: 1.5;\" x1=\"33\" x2=\"243\" y1=\"320.9375\" y2=\"320.9375\"/></a><!--MD5=[209b3feb70ccb6233bfe1053d122c12c]\n",
       "reverse link E2 to E3--><a href=\"psysml:62ea934f-12d4-42a0-b786-a1086ef654f4\" target=\"_top\" title=\"psysml:62ea934f-12d4-42a0-b786-a1086ef654f4\" xlink:actuate=\"onRequest\" xlink:href=\"psysml:62ea934f-12d4-42a0-b786-a1086ef654f4\" xlink:show=\"new\" xlink:title=\"psysml:62ea934f-12d4-42a0-b786-a1086ef654f4\" xlink:type=\"simple\"><path d=\"M376.37,232.45 C359.85,249.83 343.43,268.76 332.86,282.93 \" fill=\"none\" id=\"E2&lt;-E3\" style=\"stroke: #A80036; stroke-width: 1.0;\"/><polygon fill=\"#FFFFFF\" points=\"385.52,223,378.4729,224.5294,377.1743,231.6226,384.2213,230.0932,385.52,223\" style=\"stroke: #A80036; stroke-width: 1.0;\"/></a><!--MD5=[05d275557350bfb9b23a4ef7222b4c39]\n",
       "link E3 to E2--><a href=\"psysml:72edb9ed-f456-4be1-846b-a7c4b7fb6ef3\" target=\"_top\" title=\"psysml:72edb9ed-f456-4be1-846b-a7c4b7fb6ef3\" xlink:actuate=\"onRequest\" xlink:href=\"psysml:72edb9ed-f456-4be1-846b-a7c4b7fb6ef3\" xlink:show=\"new\" xlink:title=\"psysml:72edb9ed-f456-4be1-846b-a7c4b7fb6ef3\" xlink:type=\"simple\"><path d=\"M353.8,282.93 C367.38,270.34 383.11,253.98 396.95,238.29 \" fill=\"none\" id=\"E3-&gt;E2\" style=\"stroke: #A80036; stroke-width: 1.0;\"/><polygon fill=\"#FFFFFF\" points=\"410.02,223,403.0007,241.9929,392.3563,232.8991,410.02,223\" style=\"stroke: #A80036; stroke-width: 1.0;\"/><ellipse cx=\"397.7776\" cy=\"245.0276\" fill=\"#A80036\" rx=\"2\" ry=\"2\" style=\"stroke: #A80036; stroke-width: 1.0;\"/><ellipse cx=\"390.1744\" cy=\"238.532\" fill=\"#A80036\" rx=\"2\" ry=\"2\" style=\"stroke: #A80036; stroke-width: 1.0;\"/></a><!--MD5=[9618e71518536f8baf3342ff6fdab317]\n",
       "reverse link E2 to E4--><a href=\"psysml:1930a264-e184-4aca-ae40-6206f5d09a7f\" target=\"_top\" title=\"psysml:1930a264-e184-4aca-ae40-6206f5d09a7f\" xlink:actuate=\"onRequest\" xlink:href=\"psysml:1930a264-e184-4aca-ae40-6206f5d09a7f\" xlink:show=\"new\" xlink:title=\"psysml:1930a264-e184-4aca-ae40-6206f5d09a7f\" xlink:type=\"simple\"><path d=\"M424.31,236.34 C425.74,252.61 428.58,269.81 432.23,282.93 \" fill=\"none\" id=\"E2&lt;-E4\" style=\"stroke: #A80036; stroke-width: 1.0;\"/><polygon fill=\"#A80036\" points=\"423.45,223,419.8475,229.2467,424.2281,234.9747,427.8306,228.728,423.45,223\" style=\"stroke: #A80036; stroke-width: 1.0;\"/></a><!--MD5=[185131fc0dcab0a4505a2ebe144e961b]\n",
       "link E4 to E2--><a href=\"psysml:32367fe5-1bb2-4952-a335-a8970d1d9f84\" target=\"_top\" title=\"psysml:32367fe5-1bb2-4952-a335-a8970d1d9f84\" xlink:actuate=\"onRequest\" xlink:href=\"psysml:32367fe5-1bb2-4952-a335-a8970d1d9f84\" xlink:show=\"new\" xlink:title=\"psysml:32367fe5-1bb2-4952-a335-a8970d1d9f84\" xlink:type=\"simple\"><path d=\"M453.17,282.93 C453.77,271.65 452.99,257.34 451.22,243.21 \" fill=\"none\" id=\"E4-&gt;E2\" style=\"stroke: #A80036; stroke-width: 1.0;\"/><polygon fill=\"#FFFFFF\" points=\"447.96,223,457.8973,240.6423,444.0761,242.8725,447.96,223\" style=\"stroke: #A80036; stroke-width: 1.0;\"/><ellipse cx=\"456.8309\" cy=\"246.5881\" fill=\"#A80036\" rx=\"2\" ry=\"2\" style=\"stroke: #A80036; stroke-width: 1.0;\"/><ellipse cx=\"446.9586\" cy=\"248.1811\" fill=\"#A80036\" rx=\"2\" ry=\"2\" style=\"stroke: #A80036; stroke-width: 1.0;\"/></a><!--MD5=[4e1a83fab71cdb913c109063314ae896]\n",
       "reverse link E2 to E5--><a href=\"psysml:0faf658f-4e02-48cd-849b-e0220b5d7629\" target=\"_top\" title=\"psysml:0faf658f-4e02-48cd-849b-e0220b5d7629\" xlink:actuate=\"onRequest\" xlink:href=\"psysml:0faf658f-4e02-48cd-849b-e0220b5d7629\" xlink:show=\"new\" xlink:title=\"psysml:0faf658f-4e02-48cd-849b-e0220b5d7629\" xlink:type=\"simple\"><path d=\"M499.85,227.17 C531.12,245.87 566.86,267.24 592.97,282.85 \" fill=\"none\" id=\"E2&lt;-E5\" style=\"stroke: #A80036; stroke-width: 1.0;\"/><polygon fill=\"#A80036\" points=\"488.56,220.42,491.6568,226.9323,498.8592,226.5784,495.7624,220.0661,488.56,220.42\" style=\"stroke: #A80036; stroke-width: 1.0;\"/></a><!--MD5=[ce036f65110ae2351ccce5a81dc2e928]\n",
       "reverse link E2 to E6--><a href=\"psysml:3f965610-dfca-4051-a1f3-35306b55574a\" target=\"_top\" title=\"psysml:3f965610-dfca-4051-a1f3-35306b55574a\" xlink:actuate=\"onRequest\" xlink:href=\"psysml:3f965610-dfca-4051-a1f3-35306b55574a\" xlink:show=\"new\" xlink:title=\"psysml:3f965610-dfca-4051-a1f3-35306b55574a\" xlink:type=\"simple\"><path d=\"M501.02,217.55 C506.06,219.49 511.08,221.33 516,223 C528.19,227.15 677.82,264.14 770.71,287 \" fill=\"none\" id=\"E2&lt;-E6\" style=\"stroke: #A80036; stroke-width: 1.0;\"/><polygon fill=\"#A80036\" points=\"488.57,212.58,492.6577,218.5206,499.7135,217.0321,495.6258,211.0916,488.57,212.58\" style=\"stroke: #A80036; stroke-width: 1.0;\"/></a><!--MD5=[3a9b96bfbf6b6ad89c494e81751bda47]\n",
       "link E5 to E7--><a href=\"psysml:5b4e0f94-bd6c-4a04-8036-e6bb7f85be93\" target=\"_top\" title=\"psysml:5b4e0f94-bd6c-4a04-8036-e6bb7f85be93\" xlink:actuate=\"onRequest\" xlink:href=\"psysml:5b4e0f94-bd6c-4a04-8036-e6bb7f85be93\" xlink:show=\"new\" xlink:title=\"psysml:5b4e0f94-bd6c-4a04-8036-e6bb7f85be93\" xlink:type=\"simple\"><path d=\"M630,329.06 C630,340.64 630,355.23 630,368.87 \" fill=\"none\" id=\"E5-&gt;E7\" style=\"stroke: #A80036; stroke-width: 1.0;\"/><polygon fill=\"#FFFFFF\" points=\"630,388.98,623,369.98,637,369.98,630,388.98\" style=\"stroke: #A80036; stroke-width: 1.0;\"/><ellipse cx=\"625\" cy=\"364.28\" fill=\"#A80036\" rx=\"2\" ry=\"2\" style=\"stroke: #A80036; stroke-width: 1.0;\"/><ellipse cx=\"635\" cy=\"364.28\" fill=\"#A80036\" rx=\"2\" ry=\"2\" style=\"stroke: #A80036; stroke-width: 1.0;\"/></a><!--MD5=[dc164f5e8a733ab456ef1add180e9e34]\n",
       "reverse link E7 to E8--><a href=\"psysml:37f490ca-8c9f-44ef-b281-38d91f32f2bf\" target=\"_top\" title=\"psysml:37f490ca-8c9f-44ef-b281-38d91f32f2bf\" xlink:actuate=\"onRequest\" xlink:href=\"psysml:37f490ca-8c9f-44ef-b281-38d91f32f2bf\" xlink:show=\"new\" xlink:title=\"psysml:37f490ca-8c9f-44ef-b281-38d91f32f2bf\" xlink:type=\"simple\"><path d=\"M601.55,445.16 C587.25,461.33 570.28,480.51 557.48,494.98 \" fill=\"none\" id=\"E7&lt;-E8\" style=\"stroke: #A80036; stroke-width: 1.0;\"/><polygon fill=\"#A80036\" points=\"610.49,435.06,603.5177,436.9004,602.5348,444.0442,609.5071,442.2038,610.49,435.06\" style=\"stroke: #A80036; stroke-width: 1.0;\"/></a><!--MD5=[e4a10ef82d0e328e31cac39a31e58dda]\n",
       "reverse link E7 to E9--><a href=\"psysml:c791e7ed-713f-4106-b9d5-0dfb97ea4543\" target=\"_top\" title=\"psysml:c791e7ed-713f-4106-b9d5-0dfb97ea4543\" xlink:actuate=\"onRequest\" xlink:href=\"psysml:c791e7ed-713f-4106-b9d5-0dfb97ea4543\" xlink:show=\"new\" xlink:title=\"psysml:c791e7ed-713f-4106-b9d5-0dfb97ea4543\" xlink:type=\"simple\"><path d=\"M658.14,445.16 C672.29,461.33 689.07,480.51 701.73,494.98 \" fill=\"none\" id=\"E7&lt;-E9\" style=\"stroke: #A80036; stroke-width: 1.0;\"/><polygon fill=\"#A80036\" points=\"649.3,435.06,650.2496,442.2083,657.2133,444.0811,656.2637,436.9328,649.3,435.06\" style=\"stroke: #A80036; stroke-width: 1.0;\"/></a><!--MD5=[a919e0967d6f3de553dc51b9865a1d6d]\n",
       "link E10 to E7--><a href=\"psysml:d7bf13fe-2343-4091-93b6-ccc05bfccd1c\" target=\"_top\" title=\"psysml:d7bf13fe-2343-4091-93b6-ccc05bfccd1c\" xlink:actuate=\"onRequest\" xlink:href=\"psysml:d7bf13fe-2343-4091-93b6-ccc05bfccd1c\" xlink:show=\"new\" xlink:title=\"psysml:d7bf13fe-2343-4091-93b6-ccc05bfccd1c\" xlink:type=\"simple\"><path d=\"M564.36,87.23 C542.92,120.68 510.65,184.15 544,223 C658.5,356.41 820.5,149.59 935,283 C997.3,355.58 849.41,387.9 738.47,401.63 \" fill=\"none\" id=\"E10-&gt;E7\" style=\"stroke: #A80036; stroke-width: 1.0;\"/><polygon fill=\"#FFFFFF\" points=\"718.6,403.94,736.6627,394.7891,738.2822,408.6951,718.6,403.94\" style=\"stroke: #A80036; stroke-width: 1.0;\"/><ellipse cx=\"742.5558\" cy=\"396.1162\" fill=\"#A80036\" rx=\"2\" ry=\"2\" style=\"stroke: #A80036; stroke-width: 1.0;\"/><ellipse cx=\"743.7126\" cy=\"406.0491\" fill=\"#A80036\" rx=\"2\" ry=\"2\" style=\"stroke: #A80036; stroke-width: 1.0;\"/></a><!--MD5=[0f36bececdf0dff6e600d6f64214b0f1]\n",
       "link E10 to E2--><a href=\"psysml:65e23dda-2765-4b86-8b8c-165f4272381c\" target=\"_top\" title=\"psysml:65e23dda-2765-4b86-8b8c-165f4272381c\" xlink:actuate=\"onRequest\" xlink:href=\"psysml:65e23dda-2765-4b86-8b8c-165f4272381c\" xlink:show=\"new\" xlink:title=\"psysml:65e23dda-2765-4b86-8b8c-165f4272381c\" xlink:type=\"simple\"><path d=\"M552.32,87.1 C535.71,100.38 513.86,117.82 493.29,134.25 \" fill=\"none\" id=\"E10-&gt;E2\" style=\"stroke: #A80036; stroke-width: 1.0;\"/><polygon fill=\"#FFFFFF\" points=\"477.56,146.81,488.0352,129.4817,496.7737,140.4197,477.56,146.81\" style=\"stroke: #A80036; stroke-width: 1.0;\"/><ellipse cx=\"493.7369\" cy=\"127.4865\" fill=\"#A80036\" rx=\"2\" ry=\"2\" style=\"stroke: #A80036; stroke-width: 1.0;\"/><ellipse cx=\"499.9786\" cy=\"135.2994\" fill=\"#A80036\" rx=\"2\" ry=\"2\" style=\"stroke: #A80036; stroke-width: 1.0;\"/></a><!--MD5=[de308be4a2431766a05a907a031c07fc]\n",
       "reverse link E10 to E11--><a href=\"psysml:996a22eb-9701-44d5-9cb6-35ae83d4d1b1\" target=\"_top\" title=\"psysml:996a22eb-9701-44d5-9cb6-35ae83d4d1b1\" xlink:actuate=\"onRequest\" xlink:href=\"psysml:996a22eb-9701-44d5-9cb6-35ae83d4d1b1\" xlink:show=\"new\" xlink:title=\"psysml:996a22eb-9701-44d5-9cb6-35ae83d4d1b1\" xlink:type=\"simple\"><path d=\"M595.95,98.9 C605.42,119.01 617.15,143.94 625.46,161.61 \" fill=\"none\" id=\"E10&lt;-E11\" style=\"stroke: #A80036; stroke-width: 1.0;\"/><polygon fill=\"#A80036\" points=\"590.4,87.1,589.3334,94.2318,595.5064,97.9593,596.573,90.8275,590.4,87.1\" style=\"stroke: #A80036; stroke-width: 1.0;\"/></a><!--MD5=[1d54f998c6d5961a1a9184be73a7eb6c]\n",
       "reverse link E10 to E12--><a href=\"psysml:da3311a8-2759-47ea-b229-fd34ee887055\" target=\"_top\" title=\"psysml:da3311a8-2759-47ea-b229-fd34ee887055\" xlink:actuate=\"onRequest\" xlink:href=\"psysml:da3311a8-2759-47ea-b229-fd34ee887055\" xlink:show=\"new\" xlink:title=\"psysml:da3311a8-2759-47ea-b229-fd34ee887055\" xlink:type=\"simple\"><path d=\"M642.21,92.42 C689.99,113.48 755.13,142.19 799.66,161.81 \" fill=\"none\" id=\"E10&lt;-E12\" style=\"stroke: #A80036; stroke-width: 1.0;\"/><polygon fill=\"#A80036\" points=\"630.15,87.1,634.028,93.1796,641.1314,91.9382,637.2534,85.8586,630.15,87.1\" style=\"stroke: #A80036; stroke-width: 1.0;\"/></a><!--MD5=[4a48077df6499cfcd20b62e8f5f37904]\n",
       "link E13 to E7--><a href=\"psysml:fb78d99f-0705-4d43-aabd-2eaf1ce47389\" target=\"_top\" title=\"psysml:fb78d99f-0705-4d43-aabd-2eaf1ce47389\" xlink:actuate=\"onRequest\" xlink:href=\"psysml:fb78d99f-0705-4d43-aabd-2eaf1ce47389\" xlink:show=\"new\" xlink:title=\"psysml:fb78d99f-0705-4d43-aabd-2eaf1ce47389\" xlink:type=\"simple\"><path d=\"M242.34,329.06 C324.51,346.43 438.67,370.56 521.82,388.13 \" fill=\"none\" id=\"E13-&gt;E7\" style=\"stroke: #A80036; stroke-width: 1.0;\"/><polygon fill=\"#FFFFFF\" points=\"541.45,392.28,521.4143,395.2075,524.304,381.509,541.45,392.28\" style=\"stroke: #A80036; stroke-width: 1.0;\"/><ellipse cx=\"516.2498\" cy=\"392.0741\" fill=\"#A80036\" rx=\"2\" ry=\"2\" style=\"stroke: #A80036; stroke-width: 1.0;\"/><ellipse cx=\"518.3139\" cy=\"382.2894\" fill=\"#A80036\" rx=\"2\" ry=\"2\" style=\"stroke: #A80036; stroke-width: 1.0;\"/></a><!--MD5=[232986b47cf2252da6330285a678fdea]\n",
       "@startuml\r\n",
       "skinparam wrapWidth 300\r\n",
       "hide circle\r\n",
       "\r\n",
       "package \"OccurrenceTest\" as E1  [[psysml:76f03fcf-c31b-4704-ae9e-b44a23fd6ebe ]]  {\r\n",
       "comp def \"Occ\" as E2  <<(T,blue) occurrence  def>> [[psysml:eaa0b96d-7da2-44a7-b980-6b6f36747918 ]] {\r\n",
       "- - attributes - -\r\n",
       "a\r\n",
       "}\r\n",
       "comp usage \"occ1: Occ \" as E3  <<(T,blue) occurrence>> [[psysml:87fca259-1c14-4b5b-983e-37895f6ff77b ]] {\r\n",
       "}\r\n",
       "comp usage \"occ2: Occ \" as E4  <<(T,blue) occurrence>> [[psysml:ffd2f288-180d-4271-8880-cf9706207ba2 ]] {\r\n",
       "}\r\n",
       "comp usage \"s: Ind \" as E5  <<(T,blue) individual snapshot occurrence>> [[psysml:4e1769cc-a186-417e-91f0-587d1f1196e7 ]] {\r\n",
       "}\r\n",
       "comp usage \"t \" as E6  <<(T,blue) timeslice occurrence>> [[psysml:9c61ac47-8b4e-45e2-802a-f3aa096140c4 ]] {\r\n",
       "}\r\n",
       "comp def \"Ind\" as E7  <<(T,blue) individual occurrence  def>> [[psysml:54e4af67-f268-48a3-80b8-bc1579f32c01 ]] {\r\n",
       "}\r\n",
       "comp usage \"s2 \" as E8  <<(T,blue) snapshot occurrence>> [[psysml:bfc31472-e77d-4111-949c-57e124b09868 ]] {\r\n",
       "}\r\n",
       "comp usage \"t2 \" as E9  <<(T,blue) timeslice occurrence>> [[psysml:25521b86-d75d-41e6-9d0e-592064bc2653 ]] {\r\n",
       "}\r\n",
       "comp usage \"ind: Ind, Occ \" as E10  <<(T,blue) individual occurrence>> [[psysml:ec83ca81-a881-4da3-97a0-46e2b6aae84c ]] {\r\n",
       "}\r\n",
       "comp usage \"s3 \" as E11  <<(T,blue) snapshot occurrence>> [[psysml:fe74329f-5d2b-4ebe-b106-a7ecca7a6fbd ]] {\r\n",
       "}\r\n",
       "comp usage \"t3 \" as E12  <<(T,blue) individual timeslice occurrence>> [[psysml:6925098a-d5ed-431f-aaf1-d453853f914b ]] {\r\n",
       "}\r\n",
       "comp usage \"s4: Ind \" as E13  <<(T,blue) individual snapshot occurrence>> [[psysml:4e4d3416-6ae1-42d7-bc86-2084c913e314 ]] {\r\n",
       "}\r\n",
       "}\r\n",
       "E2 o- - E3 [[psysml:62ea934f-12d4-42a0-b786-a1086ef654f4 ]] \r\n",
       "E3 - -:|> E2 [[psysml:72edb9ed-f456-4be1-846b-a7c4b7fb6ef3 ]] \r\n",
       "E2 *- - E4 [[psysml:1930a264-e184-4aca-ae40-6206f5d09a7f ]] \r\n",
       "E4 - -:|> E2 [[psysml:32367fe5-1bb2-4952-a335-a8970d1d9f84 ]] \r\n",
       "E2 *- - E5 [[psysml:0faf658f-4e02-48cd-849b-e0220b5d7629 ]] \r\n",
       "E2 *- - E6 [[psysml:3f965610-dfca-4051-a1f3-35306b55574a ]] \r\n",
       "E5 - -:|> E7 [[psysml:5b4e0f94-bd6c-4a04-8036-e6bb7f85be93 ]] \r\n",
       "E7 *- - E8 [[psysml:37f490ca-8c9f-44ef-b281-38d91f32f2bf ]] \r\n",
       "E7 *- - E9 [[psysml:c791e7ed-713f-4106-b9d5-0dfb97ea4543 ]] \r\n",
       "E10 - -:|> E7 [[psysml:d7bf13fe-2343-4091-93b6-ccc05bfccd1c ]] \r\n",
       "E10 - -:|> E2 [[psysml:65e23dda-2765-4b86-8b8c-165f4272381c ]] \r\n",
       "E10 *- - E11 [[psysml:996a22eb-9701-44d5-9cb6-35ae83d4d1b1 ]] \r\n",
       "E10 *- - E12 [[psysml:da3311a8-2759-47ea-b229-fd34ee887055 ]] \r\n",
       "E13 - -:|> E7 [[psysml:fb78d99f-0705-4d43-aabd-2eaf1ce47389 ]] \r\n",
       "@enduml\r\n",
       "\n",
       "PlantUML version 1.2020.13(Sat Jun 13 12:26:38 UTC 2020)\n",
       "(EPL source distribution)\n",
       "Java Runtime: OpenJDK Runtime Environment\n",
       "JVM: OpenJDK 64-Bit Server VM\n",
       "Default Encoding: UTF-8\n",
       "Language: en\n",
       "Country: null\n",
       "--></g></svg>"
      ]
     },
     "execution_count": 29,
     "metadata": {},
     "output_type": "execute_result"
    }
   ],
   "source": [
    "%viz --style=\"STDCOLOR\" --view=\"MIXED\" \"OccurrenceTest\""
   ]
  },
  {
   "cell_type": "code",
   "execution_count": 30,
   "id": "f8abb82f",
   "metadata": {
    "execution": {
     "iopub.execute_input": "2022-02-18T10:48:38.232738Z",
     "iopub.status.busy": "2022-02-18T10:48:38.232350Z",
     "iopub.status.idle": "2022-02-18T10:48:38.310587Z",
     "shell.execute_reply": "2022-02-18T10:48:38.310224Z"
    }
   },
   "outputs": [
    {
     "data": {
      "image/svg+xml": [
       "<?xml version=\"1.0\" encoding=\"UTF-8\" standalone=\"no\"?><svg xmlns=\"http://www.w3.org/2000/svg\" xmlns:xlink=\"http://www.w3.org/1999/xlink\" contentScriptType=\"application/ecmascript\" contentStyleType=\"text/css\" height=\"569px\" preserveAspectRatio=\"none\" style=\"width:813px;height:569px;\" version=\"1.1\" viewBox=\"0 0 813 569\" width=\"813px\" zoomAndPan=\"magnify\"><defs><filter height=\"300%\" id=\"f8ro55x8w4vft\" width=\"300%\" x=\"-1\" y=\"-1\"><feGaussianBlur result=\"blurOut\" stdDeviation=\"2.0\"/><feColorMatrix in=\"blurOut\" result=\"blurOut2\" type=\"matrix\" values=\"0 0 0 0 0 0 0 0 0 0 0 0 0 0 0 0 0 0 .4 0\"/><feOffset dx=\"4.0\" dy=\"4.0\" in=\"blurOut2\" result=\"blurOut3\"/><feBlend in=\"SourceGraphic\" in2=\"blurOut3\" mode=\"normal\"/></filter></defs><g><!--MD5=[fbc87193dbaf4d95561dea2c320d4a47]\n",
       "cluster E1--><a href=\"psysml:76f03fcf-c31b-4704-ae9e-b44a23fd6ebe\" target=\"_top\" title=\"psysml:76f03fcf-c31b-4704-ae9e-b44a23fd6ebe\" xlink:actuate=\"onRequest\" xlink:href=\"psysml:76f03fcf-c31b-4704-ae9e-b44a23fd6ebe\" xlink:show=\"new\" xlink:title=\"psysml:76f03fcf-c31b-4704-ae9e-b44a23fd6ebe\" xlink:type=\"simple\"><polygon fill=\"#FFFFFF\" filter=\"url(#f8ro55x8w4vft)\" points=\"16,6,134,6,141,28.2969,791,28.2969,791,557,16,557,16,6\" style=\"stroke: #000000; stroke-width: 1.5;\"/><line style=\"stroke: #000000; stroke-width: 1.5;\" x1=\"16\" x2=\"141\" y1=\"28.2969\" y2=\"28.2969\"/><text fill=\"#000000\" font-family=\"sans-serif\" font-size=\"14\" font-weight=\"bold\" lengthAdjust=\"spacingAndGlyphs\" textLength=\"112\" x=\"20\" y=\"20.9951\">OccurrenceTest</text></a><!--MD5=[b4997ac47864f28c2f74865a473b2911]\n",
       "class E2--><a href=\"psysml:eaa0b96d-7da2-44a7-b980-6b6f36747918\" target=\"_top\" title=\"psysml:eaa0b96d-7da2-44a7-b980-6b6f36747918\" xlink:actuate=\"onRequest\" xlink:href=\"psysml:eaa0b96d-7da2-44a7-b980-6b6f36747918\" xlink:show=\"new\" xlink:title=\"psysml:eaa0b96d-7da2-44a7-b980-6b6f36747918\" xlink:type=\"simple\"><rect fill=\"#FEFECE\" filter=\"url(#f8ro55x8w4vft)\" height=\"75.5469\" id=\"E2\" style=\"stroke: #A80036; stroke-width: 1.5;\" width=\"141\" x=\"299.5\" y=\"147\"/><ellipse cx=\"314.5\" cy=\"165.9688\" fill=\"#A52A2A\" rx=\"11\" ry=\"11\" style=\"stroke: #A80036; stroke-width: 1.0;\"/><path d=\"M311.7188,170.9688 L311.7188,160.375 L314.4531,160.375 Q315.8438,160.375 316.6094,160.7656 Q317.3906,161.1406 317.9219,161.8438 Q318.4531,162.5469 318.75,163.5469 Q319.0469,164.5313 319.0469,165.75 Q319,167.3438 318.5,168.5313 Q318.0156,169.7031 316.9688,170.3438 Q315.9375,170.9688 314.25,170.9688 L311.7188,170.9688 Z M313.5781,169.4688 L314.2031,169.4688 Q315.2813,169.4688 315.9375,169.0156 Q316.5938,168.5625 316.875,167.7344 Q317.1719,166.8906 317.1563,165.7656 Q317.1563,164.5938 316.9063,163.7344 Q316.6563,162.8594 316.0469,162.3906 Q315.4375,161.9063 314.3906,161.9063 L313.5781,161.9063 L313.5781,169.4688 Z \"/><text fill=\"#000000\" font-family=\"sans-serif\" font-size=\"12\" font-style=\"italic\" lengthAdjust=\"spacingAndGlyphs\" textLength=\"113\" x=\"326.5\" y=\"163.1387\">«occurrence  def»</text><text fill=\"#000000\" font-family=\"sans-serif\" font-size=\"12\" lengthAdjust=\"spacingAndGlyphs\" textLength=\"23\" x=\"371.5\" y=\"177.1074\">Occ</text><line style=\"stroke: #A80036; stroke-width: 1.5;\" x1=\"300.5\" x2=\"439.5\" y1=\"184.9375\" y2=\"184.9375\"/><text fill=\"#000000\" font-family=\"sans-serif\" font-size=\"11\" lengthAdjust=\"spacingAndGlyphs\" textLength=\"7\" x=\"305.5\" y=\"215.9526\">a</text><line style=\"stroke: #A80036; stroke-width: 1.0;\" x1=\"300.5\" x2=\"342.5\" y1=\"199.3398\" y2=\"199.3398\"/><text fill=\"#000000\" font-family=\"sans-serif\" font-size=\"11\" lengthAdjust=\"spacingAndGlyphs\" textLength=\"55\" x=\"342.5\" y=\"202.6479\">attributes</text><line style=\"stroke: #A80036; stroke-width: 1.0;\" x1=\"397.5\" x2=\"439.5\" y1=\"199.3398\" y2=\"199.3398\"/></a><!--MD5=[09b614a08d8cba4a07c9adeb5e0fee81]\n",
       "class E3--><a href=\"psysml:87fca259-1c14-4b5b-983e-37895f6ff77b\" target=\"_top\" title=\"psysml:87fca259-1c14-4b5b-983e-37895f6ff77b\" xlink:actuate=\"onRequest\" xlink:href=\"psysml:87fca259-1c14-4b5b-983e-37895f6ff77b\" xlink:show=\"new\" xlink:title=\"psysml:87fca259-1c14-4b5b-983e-37895f6ff77b\" xlink:type=\"simple\"><rect fill=\"#FEFECE\" filter=\"url(#f8ro55x8w4vft)\" height=\"45.9375\" id=\"E3\" rx=\"10\" ry=\"10\" style=\"stroke: #A80036; stroke-width: 1.5;\" width=\"113\" x=\"180.5\" y=\"283\"/><ellipse cx=\"195.5\" cy=\"301.9688\" fill=\"#FFA500\" rx=\"11\" ry=\"11\" style=\"stroke: #A80036; stroke-width: 1.0;\"/><path d=\"M195.25,307.4375 Q193.5,307.4375 192.5469,306.4063 Q191.6094,305.3594 191.6094,303.5156 L191.6094,296.625 L193.6719,296.625 L193.6719,296.7813 Q193.5781,296.875 193.5469,297.0156 Q193.5313,297.1406 193.5313,297.4063 L193.5313,303.5313 Q193.5313,304.625 193.9063,305.25 Q194.2813,305.875 195.2656,305.875 Q196.25,305.875 196.6406,305.25 Q197.0313,304.625 197.0313,303.4844 L197.0313,296.625 L198.9063,296.625 L198.9063,303.4688 Q198.9063,305.5 197.875,306.4688 Q196.8594,307.4375 195.25,307.4375 Z \"/><text fill=\"#000000\" font-family=\"sans-serif\" font-size=\"12\" font-style=\"italic\" lengthAdjust=\"spacingAndGlyphs\" textLength=\"85\" x=\"207.5\" y=\"299.1387\">«occurrence»</text><text fill=\"#000000\" font-family=\"sans-serif\" font-size=\"12\" lengthAdjust=\"spacingAndGlyphs\" textLength=\"61\" x=\"217.5\" y=\"313.1074\">occ1: Occ</text><line style=\"stroke: #A80036; stroke-width: 1.5;\" x1=\"181.5\" x2=\"292.5\" y1=\"320.9375\" y2=\"320.9375\"/></a><!--MD5=[ebbe1d658d1005bcc118a6aa81145e00]\n",
       "class E4--><a href=\"psysml:ffd2f288-180d-4271-8880-cf9706207ba2\" target=\"_top\" title=\"psysml:ffd2f288-180d-4271-8880-cf9706207ba2\" xlink:actuate=\"onRequest\" xlink:href=\"psysml:ffd2f288-180d-4271-8880-cf9706207ba2\" xlink:show=\"new\" xlink:title=\"psysml:ffd2f288-180d-4271-8880-cf9706207ba2\" xlink:type=\"simple\"><rect fill=\"#FEFECE\" filter=\"url(#f8ro55x8w4vft)\" height=\"45.9375\" id=\"E4\" rx=\"10\" ry=\"10\" style=\"stroke: #A80036; stroke-width: 1.5;\" width=\"113\" x=\"328.5\" y=\"283\"/><ellipse cx=\"343.5\" cy=\"301.9688\" fill=\"#FFA500\" rx=\"11\" ry=\"11\" style=\"stroke: #A80036; stroke-width: 1.0;\"/><path d=\"M343.25,307.4375 Q341.5,307.4375 340.5469,306.4063 Q339.6094,305.3594 339.6094,303.5156 L339.6094,296.625 L341.6719,296.625 L341.6719,296.7813 Q341.5781,296.875 341.5469,297.0156 Q341.5313,297.1406 341.5313,297.4063 L341.5313,303.5313 Q341.5313,304.625 341.9063,305.25 Q342.2813,305.875 343.2656,305.875 Q344.25,305.875 344.6406,305.25 Q345.0313,304.625 345.0313,303.4844 L345.0313,296.625 L346.9063,296.625 L346.9063,303.4688 Q346.9063,305.5 345.875,306.4688 Q344.8594,307.4375 343.25,307.4375 Z \"/><text fill=\"#000000\" font-family=\"sans-serif\" font-size=\"12\" font-style=\"italic\" lengthAdjust=\"spacingAndGlyphs\" textLength=\"85\" x=\"355.5\" y=\"299.1387\">«occurrence»</text><text fill=\"#000000\" font-family=\"sans-serif\" font-size=\"12\" lengthAdjust=\"spacingAndGlyphs\" textLength=\"61\" x=\"365.5\" y=\"313.1074\">occ2: Occ</text><line style=\"stroke: #A80036; stroke-width: 1.5;\" x1=\"329.5\" x2=\"440.5\" y1=\"320.9375\" y2=\"320.9375\"/></a><!--MD5=[270fce915f116d4de14055a7c1d9a0f3]\n",
       "class E5--><a href=\"psysml:4e1769cc-a186-417e-91f0-587d1f1196e7\" target=\"_top\" title=\"psysml:4e1769cc-a186-417e-91f0-587d1f1196e7\" xlink:actuate=\"onRequest\" xlink:href=\"psysml:4e1769cc-a186-417e-91f0-587d1f1196e7\" xlink:show=\"new\" xlink:title=\"psysml:4e1769cc-a186-417e-91f0-587d1f1196e7\" xlink:type=\"simple\"><rect fill=\"#FEFECE\" filter=\"url(#f8ro55x8w4vft)\" height=\"45.9375\" id=\"E5\" rx=\"10\" ry=\"10\" style=\"stroke: #A80036; stroke-width: 1.5;\" width=\"113\" x=\"476.5\" y=\"283\"/><ellipse cx=\"491.5\" cy=\"301.9688\" fill=\"#FFA500\" rx=\"11\" ry=\"11\" style=\"stroke: #A80036; stroke-width: 1.0;\"/><path d=\"M491.25,307.4375 Q489.5,307.4375 488.5469,306.4063 Q487.6094,305.3594 487.6094,303.5156 L487.6094,296.625 L489.6719,296.625 L489.6719,296.7813 Q489.5781,296.875 489.5469,297.0156 Q489.5313,297.1406 489.5313,297.4063 L489.5313,303.5313 Q489.5313,304.625 489.9063,305.25 Q490.2813,305.875 491.2656,305.875 Q492.25,305.875 492.6406,305.25 Q493.0313,304.625 493.0313,303.4844 L493.0313,296.625 L494.9063,296.625 L494.9063,303.4688 Q494.9063,305.5 493.875,306.4688 Q492.8594,307.4375 491.25,307.4375 Z \"/><text fill=\"#000000\" font-family=\"sans-serif\" font-size=\"12\" font-style=\"italic\" lengthAdjust=\"spacingAndGlyphs\" textLength=\"85\" x=\"503.5\" y=\"299.1387\">«occurrence»</text><text fill=\"#000000\" font-family=\"sans-serif\" font-size=\"12\" lengthAdjust=\"spacingAndGlyphs\" textLength=\"34\" x=\"527\" y=\"313.1074\">s: Ind</text><line style=\"stroke: #A80036; stroke-width: 1.5;\" x1=\"477.5\" x2=\"588.5\" y1=\"320.9375\" y2=\"320.9375\"/></a><!--MD5=[60a26617385b1d2d0262a64233df1f8d]\n",
       "class E6--><a href=\"psysml:9c61ac47-8b4e-45e2-802a-f3aa096140c4\" target=\"_top\" title=\"psysml:9c61ac47-8b4e-45e2-802a-f3aa096140c4\" xlink:actuate=\"onRequest\" xlink:href=\"psysml:9c61ac47-8b4e-45e2-802a-f3aa096140c4\" xlink:show=\"new\" xlink:title=\"psysml:9c61ac47-8b4e-45e2-802a-f3aa096140c4\" xlink:type=\"simple\"><rect fill=\"#FEFECE\" filter=\"url(#f8ro55x8w4vft)\" height=\"45.9375\" id=\"E6\" rx=\"10\" ry=\"10\" style=\"stroke: #A80036; stroke-width: 1.5;\" width=\"113\" x=\"624.5\" y=\"283\"/><ellipse cx=\"639.5\" cy=\"301.9688\" fill=\"#FFA500\" rx=\"11\" ry=\"11\" style=\"stroke: #A80036; stroke-width: 1.0;\"/><path d=\"M639.25,307.4375 Q637.5,307.4375 636.5469,306.4063 Q635.6094,305.3594 635.6094,303.5156 L635.6094,296.625 L637.6719,296.625 L637.6719,296.7813 Q637.5781,296.875 637.5469,297.0156 Q637.5313,297.1406 637.5313,297.4063 L637.5313,303.5313 Q637.5313,304.625 637.9063,305.25 Q638.2813,305.875 639.2656,305.875 Q640.25,305.875 640.6406,305.25 Q641.0313,304.625 641.0313,303.4844 L641.0313,296.625 L642.9063,296.625 L642.9063,303.4688 Q642.9063,305.5 641.875,306.4688 Q640.8594,307.4375 639.25,307.4375 Z \"/><text fill=\"#000000\" font-family=\"sans-serif\" font-size=\"12\" font-style=\"italic\" lengthAdjust=\"spacingAndGlyphs\" textLength=\"85\" x=\"651.5\" y=\"299.1387\">«occurrence»</text><text fill=\"#000000\" font-family=\"sans-serif\" font-size=\"12\" lengthAdjust=\"spacingAndGlyphs\" textLength=\"5\" x=\"689.5\" y=\"313.1074\">t</text><line style=\"stroke: #A80036; stroke-width: 1.5;\" x1=\"625.5\" x2=\"736.5\" y1=\"320.9375\" y2=\"320.9375\"/></a><!--MD5=[2156ba9850f5573cc1fc38a6a4b2f02b]\n",
       "class E7--><a href=\"psysml:54e4af67-f268-48a3-80b8-bc1579f32c01\" target=\"_top\" title=\"psysml:54e4af67-f268-48a3-80b8-bc1579f32c01\" xlink:actuate=\"onRequest\" xlink:href=\"psysml:54e4af67-f268-48a3-80b8-bc1579f32c01\" xlink:show=\"new\" xlink:title=\"psysml:54e4af67-f268-48a3-80b8-bc1579f32c01\" xlink:type=\"simple\"><rect fill=\"#FEFECE\" filter=\"url(#f8ro55x8w4vft)\" height=\"45.9375\" id=\"E7\" style=\"stroke: #A80036; stroke-width: 1.5;\" width=\"141\" x=\"462.5\" y=\"389\"/><ellipse cx=\"477.5\" cy=\"407.9688\" fill=\"#A52A2A\" rx=\"11\" ry=\"11\" style=\"stroke: #A80036; stroke-width: 1.0;\"/><path d=\"M474.7188,412.9688 L474.7188,402.375 L477.4531,402.375 Q478.8438,402.375 479.6094,402.7656 Q480.3906,403.1406 480.9219,403.8438 Q481.4531,404.5469 481.75,405.5469 Q482.0469,406.5313 482.0469,407.75 Q482,409.3438 481.5,410.5313 Q481.0156,411.7031 479.9688,412.3438 Q478.9375,412.9688 477.25,412.9688 L474.7188,412.9688 Z M476.5781,411.4688 L477.2031,411.4688 Q478.2813,411.4688 478.9375,411.0156 Q479.5938,410.5625 479.875,409.7344 Q480.1719,408.8906 480.1563,407.7656 Q480.1563,406.5938 479.9063,405.7344 Q479.6563,404.8594 479.0469,404.3906 Q478.4375,403.9063 477.3906,403.9063 L476.5781,403.9063 L476.5781,411.4688 Z \"/><text fill=\"#000000\" font-family=\"sans-serif\" font-size=\"12\" font-style=\"italic\" lengthAdjust=\"spacingAndGlyphs\" textLength=\"113\" x=\"489.5\" y=\"405.1387\">«occurrence  def»</text><text fill=\"#000000\" font-family=\"sans-serif\" font-size=\"12\" lengthAdjust=\"spacingAndGlyphs\" textLength=\"19\" x=\"536.5\" y=\"419.1074\">Ind</text><line style=\"stroke: #A80036; stroke-width: 1.5;\" x1=\"463.5\" x2=\"602.5\" y1=\"426.9375\" y2=\"426.9375\"/></a><!--MD5=[b9389687b975829384b498ac4b7476b2]\n",
       "class E8--><a href=\"psysml:bfc31472-e77d-4111-949c-57e124b09868\" target=\"_top\" title=\"psysml:bfc31472-e77d-4111-949c-57e124b09868\" xlink:actuate=\"onRequest\" xlink:href=\"psysml:bfc31472-e77d-4111-949c-57e124b09868\" xlink:show=\"new\" xlink:title=\"psysml:bfc31472-e77d-4111-949c-57e124b09868\" xlink:type=\"simple\"><rect fill=\"#FEFECE\" filter=\"url(#f8ro55x8w4vft)\" height=\"45.9375\" id=\"E8\" rx=\"10\" ry=\"10\" style=\"stroke: #A80036; stroke-width: 1.5;\" width=\"113\" x=\"402.5\" y=\"495\"/><ellipse cx=\"417.5\" cy=\"513.9688\" fill=\"#FFA500\" rx=\"11\" ry=\"11\" style=\"stroke: #A80036; stroke-width: 1.0;\"/><path d=\"M417.25,519.4375 Q415.5,519.4375 414.5469,518.4063 Q413.6094,517.3594 413.6094,515.5156 L413.6094,508.625 L415.6719,508.625 L415.6719,508.7813 Q415.5781,508.875 415.5469,509.0156 Q415.5313,509.1406 415.5313,509.4063 L415.5313,515.5313 Q415.5313,516.625 415.9063,517.25 Q416.2813,517.875 417.2656,517.875 Q418.25,517.875 418.6406,517.25 Q419.0313,516.625 419.0313,515.4844 L419.0313,508.625 L420.9063,508.625 L420.9063,515.4688 Q420.9063,517.5 419.875,518.4688 Q418.8594,519.4375 417.25,519.4375 Z \"/><text fill=\"#000000\" font-family=\"sans-serif\" font-size=\"12\" font-style=\"italic\" lengthAdjust=\"spacingAndGlyphs\" textLength=\"85\" x=\"429.5\" y=\"511.1387\">«occurrence»</text><text fill=\"#000000\" font-family=\"sans-serif\" font-size=\"12\" lengthAdjust=\"spacingAndGlyphs\" textLength=\"15\" x=\"462.5\" y=\"525.1074\">s2</text><line style=\"stroke: #A80036; stroke-width: 1.5;\" x1=\"403.5\" x2=\"514.5\" y1=\"532.9375\" y2=\"532.9375\"/></a><!--MD5=[fd4143e9d270a159db93a4ea2a975926]\n",
       "class E9--><a href=\"psysml:25521b86-d75d-41e6-9d0e-592064bc2653\" target=\"_top\" title=\"psysml:25521b86-d75d-41e6-9d0e-592064bc2653\" xlink:actuate=\"onRequest\" xlink:href=\"psysml:25521b86-d75d-41e6-9d0e-592064bc2653\" xlink:show=\"new\" xlink:title=\"psysml:25521b86-d75d-41e6-9d0e-592064bc2653\" xlink:type=\"simple\"><rect fill=\"#FEFECE\" filter=\"url(#f8ro55x8w4vft)\" height=\"45.9375\" id=\"E9\" rx=\"10\" ry=\"10\" style=\"stroke: #A80036; stroke-width: 1.5;\" width=\"113\" x=\"550.5\" y=\"495\"/><ellipse cx=\"565.5\" cy=\"513.9688\" fill=\"#FFA500\" rx=\"11\" ry=\"11\" style=\"stroke: #A80036; stroke-width: 1.0;\"/><path d=\"M565.25,519.4375 Q563.5,519.4375 562.5469,518.4063 Q561.6094,517.3594 561.6094,515.5156 L561.6094,508.625 L563.6719,508.625 L563.6719,508.7813 Q563.5781,508.875 563.5469,509.0156 Q563.5313,509.1406 563.5313,509.4063 L563.5313,515.5313 Q563.5313,516.625 563.9063,517.25 Q564.2813,517.875 565.2656,517.875 Q566.25,517.875 566.6406,517.25 Q567.0313,516.625 567.0313,515.4844 L567.0313,508.625 L568.9063,508.625 L568.9063,515.4688 Q568.9063,517.5 567.875,518.4688 Q566.8594,519.4375 565.25,519.4375 Z \"/><text fill=\"#000000\" font-family=\"sans-serif\" font-size=\"12\" font-style=\"italic\" lengthAdjust=\"spacingAndGlyphs\" textLength=\"85\" x=\"577.5\" y=\"511.1387\">«occurrence»</text><text fill=\"#000000\" font-family=\"sans-serif\" font-size=\"12\" lengthAdjust=\"spacingAndGlyphs\" textLength=\"13\" x=\"611.5\" y=\"525.1074\">t2</text><line style=\"stroke: #A80036; stroke-width: 1.5;\" x1=\"551.5\" x2=\"662.5\" y1=\"532.9375\" y2=\"532.9375\"/></a><!--MD5=[96f4274e9e20536e775497830990834d]\n",
       "class E10--><a href=\"psysml:ec83ca81-a881-4da3-97a0-46e2b6aae84c\" target=\"_top\" title=\"psysml:ec83ca81-a881-4da3-97a0-46e2b6aae84c\" xlink:actuate=\"onRequest\" xlink:href=\"psysml:ec83ca81-a881-4da3-97a0-46e2b6aae84c\" xlink:show=\"new\" xlink:title=\"psysml:ec83ca81-a881-4da3-97a0-46e2b6aae84c\" xlink:type=\"simple\"><rect fill=\"#FEFECE\" filter=\"url(#f8ro55x8w4vft)\" height=\"45.9375\" id=\"E10\" rx=\"10\" ry=\"10\" style=\"stroke: #A80036; stroke-width: 1.5;\" width=\"113\" x=\"466.5\" y=\"41\"/><ellipse cx=\"481.5\" cy=\"59.9688\" fill=\"#FFA500\" rx=\"11\" ry=\"11\" style=\"stroke: #A80036; stroke-width: 1.0;\"/><path d=\"M481.25,65.4375 Q479.5,65.4375 478.5469,64.4063 Q477.6094,63.3594 477.6094,61.5156 L477.6094,54.625 L479.6719,54.625 L479.6719,54.7813 Q479.5781,54.875 479.5469,55.0156 Q479.5313,55.1406 479.5313,55.4063 L479.5313,61.5313 Q479.5313,62.625 479.9063,63.25 Q480.2813,63.875 481.2656,63.875 Q482.25,63.875 482.6406,63.25 Q483.0313,62.625 483.0313,61.4844 L483.0313,54.625 L484.9063,54.625 L484.9063,61.4688 Q484.9063,63.5 483.875,64.4688 Q482.8594,65.4375 481.25,65.4375 Z \"/><text fill=\"#000000\" font-family=\"sans-serif\" font-size=\"12\" font-style=\"italic\" lengthAdjust=\"spacingAndGlyphs\" textLength=\"85\" x=\"493.5\" y=\"57.1387\">«occurrence»</text><text fill=\"#000000\" font-family=\"sans-serif\" font-size=\"12\" lengthAdjust=\"spacingAndGlyphs\" textLength=\"77\" x=\"495.5\" y=\"71.1074\">ind: Ind, Occ</text><line style=\"stroke: #A80036; stroke-width: 1.5;\" x1=\"467.5\" x2=\"578.5\" y1=\"78.9375\" y2=\"78.9375\"/></a><!--MD5=[1dd1bfd58a279cf63c5f349dbc8fc6a1]\n",
       "class E11--><a href=\"psysml:fe74329f-5d2b-4ebe-b106-a7ecca7a6fbd\" target=\"_top\" title=\"psysml:fe74329f-5d2b-4ebe-b106-a7ecca7a6fbd\" xlink:actuate=\"onRequest\" xlink:href=\"psysml:fe74329f-5d2b-4ebe-b106-a7ecca7a6fbd\" xlink:show=\"new\" xlink:title=\"psysml:fe74329f-5d2b-4ebe-b106-a7ecca7a6fbd\" xlink:type=\"simple\"><rect fill=\"#FEFECE\" filter=\"url(#f8ro55x8w4vft)\" height=\"45.9375\" id=\"E11\" rx=\"10\" ry=\"10\" style=\"stroke: #A80036; stroke-width: 1.5;\" width=\"113\" x=\"513.5\" y=\"162\"/><ellipse cx=\"528.5\" cy=\"180.9688\" fill=\"#FFA500\" rx=\"11\" ry=\"11\" style=\"stroke: #A80036; stroke-width: 1.0;\"/><path d=\"M528.25,186.4375 Q526.5,186.4375 525.5469,185.4063 Q524.6094,184.3594 524.6094,182.5156 L524.6094,175.625 L526.6719,175.625 L526.6719,175.7813 Q526.5781,175.875 526.5469,176.0156 Q526.5313,176.1406 526.5313,176.4063 L526.5313,182.5313 Q526.5313,183.625 526.9063,184.25 Q527.2813,184.875 528.2656,184.875 Q529.25,184.875 529.6406,184.25 Q530.0313,183.625 530.0313,182.4844 L530.0313,175.625 L531.9063,175.625 L531.9063,182.4688 Q531.9063,184.5 530.875,185.4688 Q529.8594,186.4375 528.25,186.4375 Z \"/><text fill=\"#000000\" font-family=\"sans-serif\" font-size=\"12\" font-style=\"italic\" lengthAdjust=\"spacingAndGlyphs\" textLength=\"85\" x=\"540.5\" y=\"178.1387\">«occurrence»</text><text fill=\"#000000\" font-family=\"sans-serif\" font-size=\"12\" lengthAdjust=\"spacingAndGlyphs\" textLength=\"15\" x=\"573.5\" y=\"192.1074\">s3</text><line style=\"stroke: #A80036; stroke-width: 1.5;\" x1=\"514.5\" x2=\"625.5\" y1=\"199.9375\" y2=\"199.9375\"/></a><!--MD5=[49a0ec8f00dab7302a31f22d0f0fe584]\n",
       "class E12--><a href=\"psysml:6925098a-d5ed-431f-aaf1-d453853f914b\" target=\"_top\" title=\"psysml:6925098a-d5ed-431f-aaf1-d453853f914b\" xlink:actuate=\"onRequest\" xlink:href=\"psysml:6925098a-d5ed-431f-aaf1-d453853f914b\" xlink:show=\"new\" xlink:title=\"psysml:6925098a-d5ed-431f-aaf1-d453853f914b\" xlink:type=\"simple\"><rect fill=\"#FEFECE\" filter=\"url(#f8ro55x8w4vft)\" height=\"45.9375\" id=\"E12\" rx=\"10\" ry=\"10\" style=\"stroke: #A80036; stroke-width: 1.5;\" width=\"113\" x=\"661.5\" y=\"162\"/><ellipse cx=\"676.5\" cy=\"180.9688\" fill=\"#FFA500\" rx=\"11\" ry=\"11\" style=\"stroke: #A80036; stroke-width: 1.0;\"/><path d=\"M676.25,186.4375 Q674.5,186.4375 673.5469,185.4063 Q672.6094,184.3594 672.6094,182.5156 L672.6094,175.625 L674.6719,175.625 L674.6719,175.7813 Q674.5781,175.875 674.5469,176.0156 Q674.5313,176.1406 674.5313,176.4063 L674.5313,182.5313 Q674.5313,183.625 674.9063,184.25 Q675.2813,184.875 676.2656,184.875 Q677.25,184.875 677.6406,184.25 Q678.0313,183.625 678.0313,182.4844 L678.0313,175.625 L679.9063,175.625 L679.9063,182.4688 Q679.9063,184.5 678.875,185.4688 Q677.8594,186.4375 676.25,186.4375 Z \"/><text fill=\"#000000\" font-family=\"sans-serif\" font-size=\"12\" font-style=\"italic\" lengthAdjust=\"spacingAndGlyphs\" textLength=\"85\" x=\"688.5\" y=\"178.1387\">«occurrence»</text><text fill=\"#000000\" font-family=\"sans-serif\" font-size=\"12\" lengthAdjust=\"spacingAndGlyphs\" textLength=\"13\" x=\"722.5\" y=\"192.1074\">t3</text><line style=\"stroke: #A80036; stroke-width: 1.5;\" x1=\"662.5\" x2=\"773.5\" y1=\"199.9375\" y2=\"199.9375\"/></a><!--MD5=[ee3c913d1a06f366521f9ef512b67efe]\n",
       "class E13--><a href=\"psysml:4e4d3416-6ae1-42d7-bc86-2084c913e314\" target=\"_top\" title=\"psysml:4e4d3416-6ae1-42d7-bc86-2084c913e314\" xlink:actuate=\"onRequest\" xlink:href=\"psysml:4e4d3416-6ae1-42d7-bc86-2084c913e314\" xlink:show=\"new\" xlink:title=\"psysml:4e4d3416-6ae1-42d7-bc86-2084c913e314\" xlink:type=\"simple\"><rect fill=\"#FEFECE\" filter=\"url(#f8ro55x8w4vft)\" height=\"45.9375\" id=\"E13\" rx=\"10\" ry=\"10\" style=\"stroke: #A80036; stroke-width: 1.5;\" width=\"113\" x=\"32.5\" y=\"283\"/><ellipse cx=\"47.5\" cy=\"301.9688\" fill=\"#FFA500\" rx=\"11\" ry=\"11\" style=\"stroke: #A80036; stroke-width: 1.0;\"/><path d=\"M47.25,307.4375 Q45.5,307.4375 44.5469,306.4063 Q43.6094,305.3594 43.6094,303.5156 L43.6094,296.625 L45.6719,296.625 L45.6719,296.7813 Q45.5781,296.875 45.5469,297.0156 Q45.5313,297.1406 45.5313,297.4063 L45.5313,303.5313 Q45.5313,304.625 45.9063,305.25 Q46.2813,305.875 47.2656,305.875 Q48.25,305.875 48.6406,305.25 Q49.0313,304.625 49.0313,303.4844 L49.0313,296.625 L50.9063,296.625 L50.9063,303.4688 Q50.9063,305.5 49.875,306.4688 Q48.8594,307.4375 47.25,307.4375 Z \"/><text fill=\"#000000\" font-family=\"sans-serif\" font-size=\"12\" font-style=\"italic\" lengthAdjust=\"spacingAndGlyphs\" textLength=\"85\" x=\"59.5\" y=\"299.1387\">«occurrence»</text><text fill=\"#000000\" font-family=\"sans-serif\" font-size=\"12\" lengthAdjust=\"spacingAndGlyphs\" textLength=\"42\" x=\"79\" y=\"313.1074\">s4: Ind</text><line style=\"stroke: #A80036; stroke-width: 1.5;\" x1=\"33.5\" x2=\"144.5\" y1=\"320.9375\" y2=\"320.9375\"/></a><!--MD5=[209b3feb70ccb6233bfe1053d122c12c]\n",
       "reverse link E2 to E3--><a href=\"psysml:62ea934f-12d4-42a0-b786-a1086ef654f4\" target=\"_top\" title=\"psysml:62ea934f-12d4-42a0-b786-a1086ef654f4\" xlink:actuate=\"onRequest\" xlink:href=\"psysml:62ea934f-12d4-42a0-b786-a1086ef654f4\" xlink:show=\"new\" xlink:title=\"psysml:62ea934f-12d4-42a0-b786-a1086ef654f4\" xlink:type=\"simple\"><path d=\"M306.73,231.49 C286.2,249.12 265.3,268.5 251.49,282.93 \" fill=\"none\" id=\"E2&lt;-E3\" style=\"stroke: #A80036; stroke-width: 1.0;\"/><polygon fill=\"#FFFFFF\" points=\"316.74,223,309.5759,223.8216,307.5789,230.7507,314.743,229.9291,316.74,223\" style=\"stroke: #A80036; stroke-width: 1.0;\"/></a><!--MD5=[05d275557350bfb9b23a4ef7222b4c39]\n",
       "link E3 to E2--><a href=\"psysml:72edb9ed-f456-4be1-846b-a7c4b7fb6ef3\" target=\"_top\" title=\"psysml:72edb9ed-f456-4be1-846b-a7c4b7fb6ef3\" xlink:actuate=\"onRequest\" xlink:href=\"psysml:72edb9ed-f456-4be1-846b-a7c4b7fb6ef3\" xlink:show=\"new\" xlink:title=\"psysml:72edb9ed-f456-4be1-846b-a7c4b7fb6ef3\" xlink:type=\"simple\"><path d=\"M272.44,282.93 C289.17,269.94 309.03,252.95 326.57,236.82 \" fill=\"none\" id=\"E3-&gt;E2\" style=\"stroke: #A80036; stroke-width: 1.0;\"/><polygon fill=\"#FFFFFF\" points=\"341.25,223,332.2118,241.1193,322.6166,230.9245,341.25,223\" style=\"stroke: #A80036; stroke-width: 1.0;\"/><ellipse cx=\"326.6903\" cy=\"243.5695\" fill=\"#A80036\" rx=\"2\" ry=\"2\" style=\"stroke: #A80036; stroke-width: 1.0;\"/><ellipse cx=\"319.8366\" cy=\"236.2875\" fill=\"#A80036\" rx=\"2\" ry=\"2\" style=\"stroke: #A80036; stroke-width: 1.0;\"/></a><!--MD5=[9618e71518536f8baf3342ff6fdab317]\n",
       "reverse link E2 to E4--><a href=\"psysml:1930a264-e184-4aca-ae40-6206f5d09a7f\" target=\"_top\" title=\"psysml:1930a264-e184-4aca-ae40-6206f5d09a7f\" xlink:actuate=\"onRequest\" xlink:href=\"psysml:1930a264-e184-4aca-ae40-6206f5d09a7f\" xlink:show=\"new\" xlink:title=\"psysml:1930a264-e184-4aca-ae40-6206f5d09a7f\" xlink:type=\"simple\"><path d=\"M363.73,236.34 C365.3,252.61 368.28,269.81 372.05,282.93 \" fill=\"none\" id=\"E2&lt;-E4\" style=\"stroke: #A80036; stroke-width: 1.0;\"/><polygon fill=\"#A80036\" points=\"362.76,223,359.206,229.2745,363.6309,234.9684,367.1849,228.6939,362.76,223\" style=\"stroke: #A80036; stroke-width: 1.0;\"/></a><!--MD5=[185131fc0dcab0a4505a2ebe144e961b]\n",
       "link E4 to E2--><a href=\"psysml:32367fe5-1bb2-4952-a335-a8970d1d9f84\" target=\"_top\" title=\"psysml:32367fe5-1bb2-4952-a335-a8970d1d9f84\" xlink:actuate=\"onRequest\" xlink:href=\"psysml:32367fe5-1bb2-4952-a335-a8970d1d9f84\" xlink:show=\"new\" xlink:title=\"psysml:32367fe5-1bb2-4952-a335-a8970d1d9f84\" xlink:type=\"simple\"><path d=\"M392.99,282.93 C393.5,271.52 392.57,257.01 390.64,242.72 \" fill=\"none\" id=\"E4-&gt;E2\" style=\"stroke: #A80036; stroke-width: 1.0;\"/><polygon fill=\"#FFFFFF\" points=\"387.27,223,397.3603,240.5553,383.5589,242.9055,387.27,223\" style=\"stroke: #A80036; stroke-width: 1.0;\"/><ellipse cx=\"396.3455\" cy=\"246.5101\" fill=\"#A80036\" rx=\"2\" ry=\"2\" style=\"stroke: #A80036; stroke-width: 1.0;\"/><ellipse cx=\"386.4874\" cy=\"248.1888\" fill=\"#A80036\" rx=\"2\" ry=\"2\" style=\"stroke: #A80036; stroke-width: 1.0;\"/></a><!--MD5=[4e1a83fab71cdb913c109063314ae896]\n",
       "reverse link E2 to E5--><a href=\"psysml:0faf658f-4e02-48cd-849b-e0220b5d7629\" target=\"_top\" title=\"psysml:0faf658f-4e02-48cd-849b-e0220b5d7629\" xlink:actuate=\"onRequest\" xlink:href=\"psysml:0faf658f-4e02-48cd-849b-e0220b5d7629\" xlink:show=\"new\" xlink:title=\"psysml:0faf658f-4e02-48cd-849b-e0220b5d7629\" xlink:type=\"simple\"><path d=\"M431.32,230.77 C455.74,248.59 482.73,268.3 502.77,282.93 \" fill=\"none\" id=\"E2&lt;-E5\" style=\"stroke: #A80036; stroke-width: 1.0;\"/><polygon fill=\"#A80036\" points=\"420.68,223,423.171,229.7672,430.3757,230.0706,427.8847,223.3034,420.68,223\" style=\"stroke: #A80036; stroke-width: 1.0;\"/></a><!--MD5=[ce036f65110ae2351ccce5a81dc2e928]\n",
       "reverse link E2 to E6--><a href=\"psysml:3f965610-dfca-4051-a1f3-35306b55574a\" target=\"_top\" title=\"psysml:3f965610-dfca-4051-a1f3-35306b55574a\" xlink:actuate=\"onRequest\" xlink:href=\"psysml:3f965610-dfca-4051-a1f3-35306b55574a\" xlink:show=\"new\" xlink:title=\"psysml:3f965610-dfca-4051-a1f3-35306b55574a\" xlink:type=\"simple\"><path d=\"M452.92,217.73 C507.04,238.44 576.28,264.93 624.2,283.27 \" fill=\"none\" id=\"E2&lt;-E6\" style=\"stroke: #A80036; stroke-width: 1.0;\"/><polygon fill=\"#A80036\" points=\"440.57,213,444.7458,218.879,451.7786,217.2856,447.6029,211.4066,440.57,213\" style=\"stroke: #A80036; stroke-width: 1.0;\"/></a><!--MD5=[3a9b96bfbf6b6ad89c494e81751bda47]\n",
       "link E5 to E7--><a href=\"psysml:5b4e0f94-bd6c-4a04-8036-e6bb7f85be93\" target=\"_top\" title=\"psysml:5b4e0f94-bd6c-4a04-8036-e6bb7f85be93\" xlink:actuate=\"onRequest\" xlink:href=\"psysml:5b4e0f94-bd6c-4a04-8036-e6bb7f85be93\" xlink:show=\"new\" xlink:title=\"psysml:5b4e0f94-bd6c-4a04-8036-e6bb7f85be93\" xlink:type=\"simple\"><path d=\"M533,329.06 C533,340.64 533,355.23 533,368.87 \" fill=\"none\" id=\"E5-&gt;E7\" style=\"stroke: #A80036; stroke-width: 1.0;\"/><polygon fill=\"#FFFFFF\" points=\"533,388.98,526,369.98,540,369.98,533,388.98\" style=\"stroke: #A80036; stroke-width: 1.0;\"/><ellipse cx=\"528\" cy=\"364.28\" fill=\"#A80036\" rx=\"2\" ry=\"2\" style=\"stroke: #A80036; stroke-width: 1.0;\"/><ellipse cx=\"538\" cy=\"364.28\" fill=\"#A80036\" rx=\"2\" ry=\"2\" style=\"stroke: #A80036; stroke-width: 1.0;\"/></a><!--MD5=[dc164f5e8a733ab456ef1add180e9e34]\n",
       "reverse link E7 to E8--><a href=\"psysml:37f490ca-8c9f-44ef-b281-38d91f32f2bf\" target=\"_top\" title=\"psysml:37f490ca-8c9f-44ef-b281-38d91f32f2bf\" xlink:actuate=\"onRequest\" xlink:href=\"psysml:37f490ca-8c9f-44ef-b281-38d91f32f2bf\" xlink:show=\"new\" xlink:title=\"psysml:37f490ca-8c9f-44ef-b281-38d91f32f2bf\" xlink:type=\"simple\"><path d=\"M509.45,446.09 C498.09,462.06 484.77,480.78 474.67,494.98 \" fill=\"none\" id=\"E7&lt;-E8\" style=\"stroke: #A80036; stroke-width: 1.0;\"/><polygon fill=\"#A80036\" points=\"517.31,435.06,510.5722,437.6295,510.3526,444.8373,517.0904,442.2678,517.31,435.06\" style=\"stroke: #A80036; stroke-width: 1.0;\"/></a><!--MD5=[e4a10ef82d0e328e31cac39a31e58dda]\n",
       "reverse link E7 to E9--><a href=\"psysml:c791e7ed-713f-4106-b9d5-0dfb97ea4543\" target=\"_top\" title=\"psysml:c791e7ed-713f-4106-b9d5-0dfb97ea4543\" xlink:actuate=\"onRequest\" xlink:href=\"psysml:c791e7ed-713f-4106-b9d5-0dfb97ea4543\" xlink:show=\"new\" xlink:title=\"psysml:c791e7ed-713f-4106-b9d5-0dfb97ea4543\" xlink:type=\"simple\"><path d=\"M556.55,446.09 C567.91,462.06 581.23,480.78 591.33,494.98 \" fill=\"none\" id=\"E7&lt;-E9\" style=\"stroke: #A80036; stroke-width: 1.0;\"/><polygon fill=\"#A80036\" points=\"548.69,435.06,548.9096,442.2678,555.6474,444.8373,555.4278,437.6295,548.69,435.06\" style=\"stroke: #A80036; stroke-width: 1.0;\"/></a><!--MD5=[a919e0967d6f3de553dc51b9865a1d6d]\n",
       "link E10 to E7--><a href=\"psysml:d7bf13fe-2343-4091-93b6-ccc05bfccd1c\" target=\"_top\" title=\"psysml:d7bf13fe-2343-4091-93b6-ccc05bfccd1c\" xlink:actuate=\"onRequest\" xlink:href=\"psysml:d7bf13fe-2343-4091-93b6-ccc05bfccd1c\" xlink:show=\"new\" xlink:title=\"psysml:d7bf13fe-2343-4091-93b6-ccc05bfccd1c\" xlink:type=\"simple\"><path d=\"M509.64,87.03 C491.43,120.22 464.49,183.35 496,223 C569.52,315.5 681.48,190.5 755,283 C799.02,338.38 702.69,374.35 623.39,393.66 \" fill=\"none\" id=\"E10-&gt;E7\" style=\"stroke: #A80036; stroke-width: 1.0;\"/><polygon fill=\"#FFFFFF\" points=\"603.69,398.21,620.6276,387.1142,623.7779,400.7552,603.69,398.21\" style=\"stroke: #A80036; stroke-width: 1.0;\"/><ellipse cx=\"626.6315\" cy=\"387.7803\" fill=\"#A80036\" rx=\"2\" ry=\"2\" style=\"stroke: #A80036; stroke-width: 1.0;\"/><ellipse cx=\"628.8817\" cy=\"397.5239\" fill=\"#A80036\" rx=\"2\" ry=\"2\" style=\"stroke: #A80036; stroke-width: 1.0;\"/></a><!--MD5=[0f36bececdf0dff6e600d6f64214b0f1]\n",
       "link E10 to E2--><a href=\"psysml:65e23dda-2765-4b86-8b8c-165f4272381c\" target=\"_top\" title=\"psysml:65e23dda-2765-4b86-8b8c-165f4272381c\" xlink:actuate=\"onRequest\" xlink:href=\"psysml:65e23dda-2765-4b86-8b8c-165f4272381c\" xlink:show=\"new\" xlink:title=\"psysml:65e23dda-2765-4b86-8b8c-165f4272381c\" xlink:type=\"simple\"><path d=\"M494.58,87.1 C477.43,100.44 454.87,117.99 433.65,134.49 \" fill=\"none\" id=\"E10-&gt;E2\" style=\"stroke: #A80036; stroke-width: 1.0;\"/><polygon fill=\"#FFFFFF\" points=\"417.81,146.81,428.5047,129.6163,437.1034,140.6646,417.81,146.81\" style=\"stroke: #A80036; stroke-width: 1.0;\"/><ellipse cx=\"434.2313\" cy=\"127.6938\" fill=\"#A80036\" rx=\"2\" ry=\"2\" style=\"stroke: #A80036; stroke-width: 1.0;\"/><ellipse cx=\"440.3732\" cy=\"135.5854\" fill=\"#A80036\" rx=\"2\" ry=\"2\" style=\"stroke: #A80036; stroke-width: 1.0;\"/></a><!--MD5=[de308be4a2431766a05a907a031c07fc]\n",
       "reverse link E10 to E11--><a href=\"psysml:996a22eb-9701-44d5-9cb6-35ae83d4d1b1\" target=\"_top\" title=\"psysml:996a22eb-9701-44d5-9cb6-35ae83d4d1b1\" xlink:actuate=\"onRequest\" xlink:href=\"psysml:996a22eb-9701-44d5-9cb6-35ae83d4d1b1\" xlink:show=\"new\" xlink:title=\"psysml:996a22eb-9701-44d5-9cb6-35ae83d4d1b1\" xlink:type=\"simple\"><path d=\"M536.61,99.47 C544.52,119.48 554.24,144.11 561.16,161.61 \" fill=\"none\" id=\"E10&lt;-E11\" style=\"stroke: #A80036; stroke-width: 1.0;\"/><polygon fill=\"#A80036\" points=\"531.73,87.1,530.2171,94.1506,536.1435,98.2589,537.6564,91.2083,531.73,87.1\" style=\"stroke: #A80036; stroke-width: 1.0;\"/></a><!--MD5=[1d54f998c6d5961a1a9184be73a7eb6c]\n",
       "reverse link E10 to E12--><a href=\"psysml:da3311a8-2759-47ea-b229-fd34ee887055\" target=\"_top\" title=\"psysml:da3311a8-2759-47ea-b229-fd34ee887055\" xlink:actuate=\"onRequest\" xlink:href=\"psysml:da3311a8-2759-47ea-b229-fd34ee887055\" xlink:show=\"new\" xlink:title=\"psysml:da3311a8-2759-47ea-b229-fd34ee887055\" xlink:type=\"simple\"><path d=\"M570.37,93.91 C604.63,114.81 650.23,142.64 681.64,161.81 \" fill=\"none\" id=\"E10&lt;-E12\" style=\"stroke: #A80036; stroke-width: 1.0;\"/><polygon fill=\"#A80036\" points=\"559.22,87.1,562.259,93.6395,569.4643,93.3494,566.4253,86.8099,559.22,87.1\" style=\"stroke: #A80036; stroke-width: 1.0;\"/></a><!--MD5=[4a48077df6499cfcd20b62e8f5f37904]\n",
       "link E13 to E7--><a href=\"psysml:fb78d99f-0705-4d43-aabd-2eaf1ce47389\" target=\"_top\" title=\"psysml:fb78d99f-0705-4d43-aabd-2eaf1ce47389\" xlink:actuate=\"onRequest\" xlink:href=\"psysml:fb78d99f-0705-4d43-aabd-2eaf1ce47389\" xlink:show=\"new\" xlink:title=\"psysml:fb78d99f-0705-4d43-aabd-2eaf1ce47389\" xlink:type=\"simple\"><path d=\"M145.85,324.34 C151.63,325.97 157.42,327.55 163,329 C257.81,353.57 367.45,377.29 442.63,392.84 \" fill=\"none\" id=\"E13-&gt;E7\" style=\"stroke: #A80036; stroke-width: 1.0;\"/><polygon fill=\"#FFFFFF\" points=\"462.4,396.91,442.3793,399.9385,445.1999,386.2256,462.4,396.91\" style=\"stroke: #A80036; stroke-width: 1.0;\"/><ellipse cx=\"437.1991\" cy=\"396.8311\" fill=\"#A80036\" rx=\"2\" ry=\"2\" style=\"stroke: #A80036; stroke-width: 1.0;\"/><ellipse cx=\"439.2138\" cy=\"387.0362\" fill=\"#A80036\" rx=\"2\" ry=\"2\" style=\"stroke: #A80036; stroke-width: 1.0;\"/></a><!--MD5=[59252d2567ddb044d5a5866a7477f01e]\n",
       "@startuml\r\n",
       " \r\n",
       "package \"OccurrenceTest\" as E1  [[psysml:76f03fcf-c31b-4704-ae9e-b44a23fd6ebe ]]  {\r\n",
       "comp def \"Occ\" as E2 << <<(D,brown) occurrence  def>> [[psysml:eaa0b96d-7da2-44a7-b980-6b6f36747918 ]] {\r\n",
       "- - attributes - -\r\n",
       "a\r\n",
       "}\r\n",
       "comp usage \"occ1: Occ \" as E3 << <<(U,orange) occurrence>> [[psysml:87fca259-1c14-4b5b-983e-37895f6ff77b ]] {\r\n",
       "}\r\n",
       "comp usage \"occ2: Occ \" as E4 << <<(U,orange) occurrence>> [[psysml:ffd2f288-180d-4271-8880-cf9706207ba2 ]] {\r\n",
       "}\r\n",
       "comp usage \"s: Ind \" as E5 << individual snapshot <<(U,orange) occurrence>> [[psysml:4e1769cc-a186-417e-91f0-587d1f1196e7 ]] {\r\n",
       "}\r\n",
       "comp usage \"t \" as E6 << timeslice <<(U,orange) occurrence>> [[psysml:9c61ac47-8b4e-45e2-802a-f3aa096140c4 ]] {\r\n",
       "}\r\n",
       "comp def \"Ind\" as E7 << individual <<(D,brown) occurrence  def>> [[psysml:54e4af67-f268-48a3-80b8-bc1579f32c01 ]] {\r\n",
       "}\r\n",
       "comp usage \"s2 \" as E8 << snapshot <<(U,orange) occurrence>> [[psysml:bfc31472-e77d-4111-949c-57e124b09868 ]] {\r\n",
       "}\r\n",
       "comp usage \"t2 \" as E9 << timeslice <<(U,orange) occurrence>> [[psysml:25521b86-d75d-41e6-9d0e-592064bc2653 ]] {\r\n",
       "}\r\n",
       "comp usage \"ind: Ind, Occ \" as E10 << individual <<(U,orange) occurrence>> [[psysml:ec83ca81-a881-4da3-97a0-46e2b6aae84c ]] {\r\n",
       "}\r\n",
       "comp usage \"s3 \" as E11 << snapshot <<(U,orange) occurrence>> [[psysml:fe74329f-5d2b-4ebe-b106-a7ecca7a6fbd ]] {\r\n",
       "}\r\n",
       "comp usage \"t3 \" as E12 << individual timeslice <<(U,orange) occurrence>> [[psysml:6925098a-d5ed-431f-aaf1-d453853f914b ]] {\r\n",
       "}\r\n",
       "comp usage \"s4: Ind \" as E13 << individual snapshot <<(U,orange) occurrence>> [[psysml:4e4d3416-6ae1-42d7-bc86-2084c913e314 ]] {\r\n",
       "}\r\n",
       "}\r\n",
       "E2 o- - E3 [[psysml:62ea934f-12d4-42a0-b786-a1086ef654f4 ]] \r\n",
       "E3 - -:|> E2 [[psysml:72edb9ed-f456-4be1-846b-a7c4b7fb6ef3 ]] \r\n",
       "E2 *- - E4 [[psysml:1930a264-e184-4aca-ae40-6206f5d09a7f ]] \r\n",
       "E4 - -:|> E2 [[psysml:32367fe5-1bb2-4952-a335-a8970d1d9f84 ]] \r\n",
       "E2 *- - E5 [[psysml:0faf658f-4e02-48cd-849b-e0220b5d7629 ]] \r\n",
       "E2 *- - E6 [[psysml:3f965610-dfca-4051-a1f3-35306b55574a ]] \r\n",
       "E5 - -:|> E7 [[psysml:5b4e0f94-bd6c-4a04-8036-e6bb7f85be93 ]] \r\n",
       "E7 *- - E8 [[psysml:37f490ca-8c9f-44ef-b281-38d91f32f2bf ]] \r\n",
       "E7 *- - E9 [[psysml:c791e7ed-713f-4106-b9d5-0dfb97ea4543 ]] \r\n",
       "E10 - -:|> E7 [[psysml:d7bf13fe-2343-4091-93b6-ccc05bfccd1c ]] \r\n",
       "E10 - -:|> E2 [[psysml:65e23dda-2765-4b86-8b8c-165f4272381c ]] \r\n",
       "E10 *- - E11 [[psysml:996a22eb-9701-44d5-9cb6-35ae83d4d1b1 ]] \r\n",
       "E10 *- - E12 [[psysml:da3311a8-2759-47ea-b229-fd34ee887055 ]] \r\n",
       "E13 - -:|> E7 [[psysml:fb78d99f-0705-4d43-aabd-2eaf1ce47389 ]] \r\n",
       "@enduml\r\n",
       "\n",
       "PlantUML version 1.2020.13(Sat Jun 13 12:26:38 UTC 2020)\n",
       "(EPL source distribution)\n",
       "Java Runtime: OpenJDK Runtime Environment\n",
       "JVM: OpenJDK 64-Bit Server VM\n",
       "Default Encoding: UTF-8\n",
       "Language: en\n",
       "Country: null\n",
       "--></g></svg>"
      ]
     },
     "execution_count": 30,
     "metadata": {},
     "output_type": "execute_result"
    }
   ],
   "source": [
    "%viz --style=\"PLANTUML\" --view=\"Default\" \"OccurrenceTest\""
   ]
  },
  {
   "cell_type": "code",
   "execution_count": 31,
   "id": "3acaa86f",
   "metadata": {
    "execution": {
     "iopub.execute_input": "2022-02-18T10:48:38.359673Z",
     "iopub.status.busy": "2022-02-18T10:48:38.359283Z",
     "iopub.status.idle": "2022-02-18T10:48:38.412190Z",
     "shell.execute_reply": "2022-02-18T10:48:38.410293Z"
    }
   },
   "outputs": [
    {
     "data": {
      "image/svg+xml": [
       "<?xml version=\"1.0\" encoding=\"UTF-8\" standalone=\"no\"?><svg xmlns=\"http://www.w3.org/2000/svg\" xmlns:xlink=\"http://www.w3.org/1999/xlink\" contentScriptType=\"application/ecmascript\" contentStyleType=\"text/css\" height=\"569px\" preserveAspectRatio=\"none\" style=\"width:813px;height:569px;\" version=\"1.1\" viewBox=\"0 0 813 569\" width=\"813px\" zoomAndPan=\"magnify\"><defs><filter height=\"300%\" id=\"f8ro55x8w4vft\" width=\"300%\" x=\"-1\" y=\"-1\"><feGaussianBlur result=\"blurOut\" stdDeviation=\"2.0\"/><feColorMatrix in=\"blurOut\" result=\"blurOut2\" type=\"matrix\" values=\"0 0 0 0 0 0 0 0 0 0 0 0 0 0 0 0 0 0 .4 0\"/><feOffset dx=\"4.0\" dy=\"4.0\" in=\"blurOut2\" result=\"blurOut3\"/><feBlend in=\"SourceGraphic\" in2=\"blurOut3\" mode=\"normal\"/></filter></defs><g><!--MD5=[fbc87193dbaf4d95561dea2c320d4a47]\n",
       "cluster E1--><a href=\"psysml:76f03fcf-c31b-4704-ae9e-b44a23fd6ebe\" target=\"_top\" title=\"psysml:76f03fcf-c31b-4704-ae9e-b44a23fd6ebe\" xlink:actuate=\"onRequest\" xlink:href=\"psysml:76f03fcf-c31b-4704-ae9e-b44a23fd6ebe\" xlink:show=\"new\" xlink:title=\"psysml:76f03fcf-c31b-4704-ae9e-b44a23fd6ebe\" xlink:type=\"simple\"><polygon fill=\"#FFFFFF\" filter=\"url(#f8ro55x8w4vft)\" points=\"16,6,134,6,141,28.2969,791,28.2969,791,557,16,557,16,6\" style=\"stroke: #000000; stroke-width: 1.5;\"/><line style=\"stroke: #000000; stroke-width: 1.5;\" x1=\"16\" x2=\"141\" y1=\"28.2969\" y2=\"28.2969\"/><text fill=\"#000000\" font-family=\"sans-serif\" font-size=\"14\" font-weight=\"bold\" lengthAdjust=\"spacingAndGlyphs\" textLength=\"112\" x=\"20\" y=\"20.9951\">OccurrenceTest</text></a><!--MD5=[b4997ac47864f28c2f74865a473b2911]\n",
       "class E2--><a href=\"psysml:eaa0b96d-7da2-44a7-b980-6b6f36747918\" target=\"_top\" title=\"psysml:eaa0b96d-7da2-44a7-b980-6b6f36747918\" xlink:actuate=\"onRequest\" xlink:href=\"psysml:eaa0b96d-7da2-44a7-b980-6b6f36747918\" xlink:show=\"new\" xlink:title=\"psysml:eaa0b96d-7da2-44a7-b980-6b6f36747918\" xlink:type=\"simple\"><rect fill=\"#FEFECE\" filter=\"url(#f8ro55x8w4vft)\" height=\"75.5469\" id=\"E2\" style=\"stroke: #A80036; stroke-width: 1.5;\" width=\"141\" x=\"299.5\" y=\"147\"/><ellipse cx=\"314.5\" cy=\"165.9688\" fill=\"#A52A2A\" rx=\"11\" ry=\"11\" style=\"stroke: #A80036; stroke-width: 1.0;\"/><path d=\"M311.7188,170.9688 L311.7188,160.375 L314.4531,160.375 Q315.8438,160.375 316.6094,160.7656 Q317.3906,161.1406 317.9219,161.8438 Q318.4531,162.5469 318.75,163.5469 Q319.0469,164.5313 319.0469,165.75 Q319,167.3438 318.5,168.5313 Q318.0156,169.7031 316.9688,170.3438 Q315.9375,170.9688 314.25,170.9688 L311.7188,170.9688 Z M313.5781,169.4688 L314.2031,169.4688 Q315.2813,169.4688 315.9375,169.0156 Q316.5938,168.5625 316.875,167.7344 Q317.1719,166.8906 317.1563,165.7656 Q317.1563,164.5938 316.9063,163.7344 Q316.6563,162.8594 316.0469,162.3906 Q315.4375,161.9063 314.3906,161.9063 L313.5781,161.9063 L313.5781,169.4688 Z \"/><text fill=\"#000000\" font-family=\"sans-serif\" font-size=\"12\" font-style=\"italic\" lengthAdjust=\"spacingAndGlyphs\" textLength=\"113\" x=\"326.5\" y=\"163.1387\">«occurrence  def»</text><text fill=\"#000000\" font-family=\"sans-serif\" font-size=\"12\" lengthAdjust=\"spacingAndGlyphs\" textLength=\"23\" x=\"371.5\" y=\"177.1074\">Occ</text><line style=\"stroke: #A80036; stroke-width: 1.5;\" x1=\"300.5\" x2=\"439.5\" y1=\"184.9375\" y2=\"184.9375\"/><text fill=\"#000000\" font-family=\"sans-serif\" font-size=\"11\" lengthAdjust=\"spacingAndGlyphs\" textLength=\"7\" x=\"305.5\" y=\"215.9526\">a</text><line style=\"stroke: #A80036; stroke-width: 1.0;\" x1=\"300.5\" x2=\"342.5\" y1=\"199.3398\" y2=\"199.3398\"/><text fill=\"#000000\" font-family=\"sans-serif\" font-size=\"11\" lengthAdjust=\"spacingAndGlyphs\" textLength=\"55\" x=\"342.5\" y=\"202.6479\">attributes</text><line style=\"stroke: #A80036; stroke-width: 1.0;\" x1=\"397.5\" x2=\"439.5\" y1=\"199.3398\" y2=\"199.3398\"/></a><!--MD5=[09b614a08d8cba4a07c9adeb5e0fee81]\n",
       "class E3--><a href=\"psysml:87fca259-1c14-4b5b-983e-37895f6ff77b\" target=\"_top\" title=\"psysml:87fca259-1c14-4b5b-983e-37895f6ff77b\" xlink:actuate=\"onRequest\" xlink:href=\"psysml:87fca259-1c14-4b5b-983e-37895f6ff77b\" xlink:show=\"new\" xlink:title=\"psysml:87fca259-1c14-4b5b-983e-37895f6ff77b\" xlink:type=\"simple\"><rect fill=\"#FEFECE\" filter=\"url(#f8ro55x8w4vft)\" height=\"45.9375\" id=\"E3\" rx=\"10\" ry=\"10\" style=\"stroke: #A80036; stroke-width: 1.5;\" width=\"113\" x=\"180.5\" y=\"283\"/><ellipse cx=\"195.5\" cy=\"301.9688\" fill=\"#FFA500\" rx=\"11\" ry=\"11\" style=\"stroke: #A80036; stroke-width: 1.0;\"/><path d=\"M195.25,307.4375 Q193.5,307.4375 192.5469,306.4063 Q191.6094,305.3594 191.6094,303.5156 L191.6094,296.625 L193.6719,296.625 L193.6719,296.7813 Q193.5781,296.875 193.5469,297.0156 Q193.5313,297.1406 193.5313,297.4063 L193.5313,303.5313 Q193.5313,304.625 193.9063,305.25 Q194.2813,305.875 195.2656,305.875 Q196.25,305.875 196.6406,305.25 Q197.0313,304.625 197.0313,303.4844 L197.0313,296.625 L198.9063,296.625 L198.9063,303.4688 Q198.9063,305.5 197.875,306.4688 Q196.8594,307.4375 195.25,307.4375 Z \"/><text fill=\"#000000\" font-family=\"sans-serif\" font-size=\"12\" font-style=\"italic\" lengthAdjust=\"spacingAndGlyphs\" textLength=\"85\" x=\"207.5\" y=\"299.1387\">«occurrence»</text><text fill=\"#000000\" font-family=\"sans-serif\" font-size=\"12\" lengthAdjust=\"spacingAndGlyphs\" textLength=\"61\" x=\"217.5\" y=\"313.1074\">occ1: Occ</text><line style=\"stroke: #A80036; stroke-width: 1.5;\" x1=\"181.5\" x2=\"292.5\" y1=\"320.9375\" y2=\"320.9375\"/></a><!--MD5=[ebbe1d658d1005bcc118a6aa81145e00]\n",
       "class E4--><a href=\"psysml:ffd2f288-180d-4271-8880-cf9706207ba2\" target=\"_top\" title=\"psysml:ffd2f288-180d-4271-8880-cf9706207ba2\" xlink:actuate=\"onRequest\" xlink:href=\"psysml:ffd2f288-180d-4271-8880-cf9706207ba2\" xlink:show=\"new\" xlink:title=\"psysml:ffd2f288-180d-4271-8880-cf9706207ba2\" xlink:type=\"simple\"><rect fill=\"#FEFECE\" filter=\"url(#f8ro55x8w4vft)\" height=\"45.9375\" id=\"E4\" rx=\"10\" ry=\"10\" style=\"stroke: #A80036; stroke-width: 1.5;\" width=\"113\" x=\"328.5\" y=\"283\"/><ellipse cx=\"343.5\" cy=\"301.9688\" fill=\"#FFA500\" rx=\"11\" ry=\"11\" style=\"stroke: #A80036; stroke-width: 1.0;\"/><path d=\"M343.25,307.4375 Q341.5,307.4375 340.5469,306.4063 Q339.6094,305.3594 339.6094,303.5156 L339.6094,296.625 L341.6719,296.625 L341.6719,296.7813 Q341.5781,296.875 341.5469,297.0156 Q341.5313,297.1406 341.5313,297.4063 L341.5313,303.5313 Q341.5313,304.625 341.9063,305.25 Q342.2813,305.875 343.2656,305.875 Q344.25,305.875 344.6406,305.25 Q345.0313,304.625 345.0313,303.4844 L345.0313,296.625 L346.9063,296.625 L346.9063,303.4688 Q346.9063,305.5 345.875,306.4688 Q344.8594,307.4375 343.25,307.4375 Z \"/><text fill=\"#000000\" font-family=\"sans-serif\" font-size=\"12\" font-style=\"italic\" lengthAdjust=\"spacingAndGlyphs\" textLength=\"85\" x=\"355.5\" y=\"299.1387\">«occurrence»</text><text fill=\"#000000\" font-family=\"sans-serif\" font-size=\"12\" lengthAdjust=\"spacingAndGlyphs\" textLength=\"61\" x=\"365.5\" y=\"313.1074\">occ2: Occ</text><line style=\"stroke: #A80036; stroke-width: 1.5;\" x1=\"329.5\" x2=\"440.5\" y1=\"320.9375\" y2=\"320.9375\"/></a><!--MD5=[270fce915f116d4de14055a7c1d9a0f3]\n",
       "class E5--><a href=\"psysml:4e1769cc-a186-417e-91f0-587d1f1196e7\" target=\"_top\" title=\"psysml:4e1769cc-a186-417e-91f0-587d1f1196e7\" xlink:actuate=\"onRequest\" xlink:href=\"psysml:4e1769cc-a186-417e-91f0-587d1f1196e7\" xlink:show=\"new\" xlink:title=\"psysml:4e1769cc-a186-417e-91f0-587d1f1196e7\" xlink:type=\"simple\"><rect fill=\"#FEFECE\" filter=\"url(#f8ro55x8w4vft)\" height=\"45.9375\" id=\"E5\" rx=\"10\" ry=\"10\" style=\"stroke: #A80036; stroke-width: 1.5;\" width=\"113\" x=\"476.5\" y=\"283\"/><ellipse cx=\"491.5\" cy=\"301.9688\" fill=\"#FFA500\" rx=\"11\" ry=\"11\" style=\"stroke: #A80036; stroke-width: 1.0;\"/><path d=\"M491.25,307.4375 Q489.5,307.4375 488.5469,306.4063 Q487.6094,305.3594 487.6094,303.5156 L487.6094,296.625 L489.6719,296.625 L489.6719,296.7813 Q489.5781,296.875 489.5469,297.0156 Q489.5313,297.1406 489.5313,297.4063 L489.5313,303.5313 Q489.5313,304.625 489.9063,305.25 Q490.2813,305.875 491.2656,305.875 Q492.25,305.875 492.6406,305.25 Q493.0313,304.625 493.0313,303.4844 L493.0313,296.625 L494.9063,296.625 L494.9063,303.4688 Q494.9063,305.5 493.875,306.4688 Q492.8594,307.4375 491.25,307.4375 Z \"/><text fill=\"#000000\" font-family=\"sans-serif\" font-size=\"12\" font-style=\"italic\" lengthAdjust=\"spacingAndGlyphs\" textLength=\"85\" x=\"503.5\" y=\"299.1387\">«occurrence»</text><text fill=\"#000000\" font-family=\"sans-serif\" font-size=\"12\" lengthAdjust=\"spacingAndGlyphs\" textLength=\"34\" x=\"527\" y=\"313.1074\">s: Ind</text><line style=\"stroke: #A80036; stroke-width: 1.5;\" x1=\"477.5\" x2=\"588.5\" y1=\"320.9375\" y2=\"320.9375\"/></a><!--MD5=[60a26617385b1d2d0262a64233df1f8d]\n",
       "class E6--><a href=\"psysml:9c61ac47-8b4e-45e2-802a-f3aa096140c4\" target=\"_top\" title=\"psysml:9c61ac47-8b4e-45e2-802a-f3aa096140c4\" xlink:actuate=\"onRequest\" xlink:href=\"psysml:9c61ac47-8b4e-45e2-802a-f3aa096140c4\" xlink:show=\"new\" xlink:title=\"psysml:9c61ac47-8b4e-45e2-802a-f3aa096140c4\" xlink:type=\"simple\"><rect fill=\"#FEFECE\" filter=\"url(#f8ro55x8w4vft)\" height=\"45.9375\" id=\"E6\" rx=\"10\" ry=\"10\" style=\"stroke: #A80036; stroke-width: 1.5;\" width=\"113\" x=\"624.5\" y=\"283\"/><ellipse cx=\"639.5\" cy=\"301.9688\" fill=\"#FFA500\" rx=\"11\" ry=\"11\" style=\"stroke: #A80036; stroke-width: 1.0;\"/><path d=\"M639.25,307.4375 Q637.5,307.4375 636.5469,306.4063 Q635.6094,305.3594 635.6094,303.5156 L635.6094,296.625 L637.6719,296.625 L637.6719,296.7813 Q637.5781,296.875 637.5469,297.0156 Q637.5313,297.1406 637.5313,297.4063 L637.5313,303.5313 Q637.5313,304.625 637.9063,305.25 Q638.2813,305.875 639.2656,305.875 Q640.25,305.875 640.6406,305.25 Q641.0313,304.625 641.0313,303.4844 L641.0313,296.625 L642.9063,296.625 L642.9063,303.4688 Q642.9063,305.5 641.875,306.4688 Q640.8594,307.4375 639.25,307.4375 Z \"/><text fill=\"#000000\" font-family=\"sans-serif\" font-size=\"12\" font-style=\"italic\" lengthAdjust=\"spacingAndGlyphs\" textLength=\"85\" x=\"651.5\" y=\"299.1387\">«occurrence»</text><text fill=\"#000000\" font-family=\"sans-serif\" font-size=\"12\" lengthAdjust=\"spacingAndGlyphs\" textLength=\"5\" x=\"689.5\" y=\"313.1074\">t</text><line style=\"stroke: #A80036; stroke-width: 1.5;\" x1=\"625.5\" x2=\"736.5\" y1=\"320.9375\" y2=\"320.9375\"/></a><!--MD5=[2156ba9850f5573cc1fc38a6a4b2f02b]\n",
       "class E7--><a href=\"psysml:54e4af67-f268-48a3-80b8-bc1579f32c01\" target=\"_top\" title=\"psysml:54e4af67-f268-48a3-80b8-bc1579f32c01\" xlink:actuate=\"onRequest\" xlink:href=\"psysml:54e4af67-f268-48a3-80b8-bc1579f32c01\" xlink:show=\"new\" xlink:title=\"psysml:54e4af67-f268-48a3-80b8-bc1579f32c01\" xlink:type=\"simple\"><rect fill=\"#FEFECE\" filter=\"url(#f8ro55x8w4vft)\" height=\"45.9375\" id=\"E7\" style=\"stroke: #A80036; stroke-width: 1.5;\" width=\"141\" x=\"462.5\" y=\"389\"/><ellipse cx=\"477.5\" cy=\"407.9688\" fill=\"#A52A2A\" rx=\"11\" ry=\"11\" style=\"stroke: #A80036; stroke-width: 1.0;\"/><path d=\"M474.7188,412.9688 L474.7188,402.375 L477.4531,402.375 Q478.8438,402.375 479.6094,402.7656 Q480.3906,403.1406 480.9219,403.8438 Q481.4531,404.5469 481.75,405.5469 Q482.0469,406.5313 482.0469,407.75 Q482,409.3438 481.5,410.5313 Q481.0156,411.7031 479.9688,412.3438 Q478.9375,412.9688 477.25,412.9688 L474.7188,412.9688 Z M476.5781,411.4688 L477.2031,411.4688 Q478.2813,411.4688 478.9375,411.0156 Q479.5938,410.5625 479.875,409.7344 Q480.1719,408.8906 480.1563,407.7656 Q480.1563,406.5938 479.9063,405.7344 Q479.6563,404.8594 479.0469,404.3906 Q478.4375,403.9063 477.3906,403.9063 L476.5781,403.9063 L476.5781,411.4688 Z \"/><text fill=\"#000000\" font-family=\"sans-serif\" font-size=\"12\" font-style=\"italic\" lengthAdjust=\"spacingAndGlyphs\" textLength=\"113\" x=\"489.5\" y=\"405.1387\">«occurrence  def»</text><text fill=\"#000000\" font-family=\"sans-serif\" font-size=\"12\" lengthAdjust=\"spacingAndGlyphs\" textLength=\"19\" x=\"536.5\" y=\"419.1074\">Ind</text><line style=\"stroke: #A80036; stroke-width: 1.5;\" x1=\"463.5\" x2=\"602.5\" y1=\"426.9375\" y2=\"426.9375\"/></a><!--MD5=[b9389687b975829384b498ac4b7476b2]\n",
       "class E8--><a href=\"psysml:bfc31472-e77d-4111-949c-57e124b09868\" target=\"_top\" title=\"psysml:bfc31472-e77d-4111-949c-57e124b09868\" xlink:actuate=\"onRequest\" xlink:href=\"psysml:bfc31472-e77d-4111-949c-57e124b09868\" xlink:show=\"new\" xlink:title=\"psysml:bfc31472-e77d-4111-949c-57e124b09868\" xlink:type=\"simple\"><rect fill=\"#FEFECE\" filter=\"url(#f8ro55x8w4vft)\" height=\"45.9375\" id=\"E8\" rx=\"10\" ry=\"10\" style=\"stroke: #A80036; stroke-width: 1.5;\" width=\"113\" x=\"402.5\" y=\"495\"/><ellipse cx=\"417.5\" cy=\"513.9688\" fill=\"#FFA500\" rx=\"11\" ry=\"11\" style=\"stroke: #A80036; stroke-width: 1.0;\"/><path d=\"M417.25,519.4375 Q415.5,519.4375 414.5469,518.4063 Q413.6094,517.3594 413.6094,515.5156 L413.6094,508.625 L415.6719,508.625 L415.6719,508.7813 Q415.5781,508.875 415.5469,509.0156 Q415.5313,509.1406 415.5313,509.4063 L415.5313,515.5313 Q415.5313,516.625 415.9063,517.25 Q416.2813,517.875 417.2656,517.875 Q418.25,517.875 418.6406,517.25 Q419.0313,516.625 419.0313,515.4844 L419.0313,508.625 L420.9063,508.625 L420.9063,515.4688 Q420.9063,517.5 419.875,518.4688 Q418.8594,519.4375 417.25,519.4375 Z \"/><text fill=\"#000000\" font-family=\"sans-serif\" font-size=\"12\" font-style=\"italic\" lengthAdjust=\"spacingAndGlyphs\" textLength=\"85\" x=\"429.5\" y=\"511.1387\">«occurrence»</text><text fill=\"#000000\" font-family=\"sans-serif\" font-size=\"12\" lengthAdjust=\"spacingAndGlyphs\" textLength=\"15\" x=\"462.5\" y=\"525.1074\">s2</text><line style=\"stroke: #A80036; stroke-width: 1.5;\" x1=\"403.5\" x2=\"514.5\" y1=\"532.9375\" y2=\"532.9375\"/></a><!--MD5=[fd4143e9d270a159db93a4ea2a975926]\n",
       "class E9--><a href=\"psysml:25521b86-d75d-41e6-9d0e-592064bc2653\" target=\"_top\" title=\"psysml:25521b86-d75d-41e6-9d0e-592064bc2653\" xlink:actuate=\"onRequest\" xlink:href=\"psysml:25521b86-d75d-41e6-9d0e-592064bc2653\" xlink:show=\"new\" xlink:title=\"psysml:25521b86-d75d-41e6-9d0e-592064bc2653\" xlink:type=\"simple\"><rect fill=\"#FEFECE\" filter=\"url(#f8ro55x8w4vft)\" height=\"45.9375\" id=\"E9\" rx=\"10\" ry=\"10\" style=\"stroke: #A80036; stroke-width: 1.5;\" width=\"113\" x=\"550.5\" y=\"495\"/><ellipse cx=\"565.5\" cy=\"513.9688\" fill=\"#FFA500\" rx=\"11\" ry=\"11\" style=\"stroke: #A80036; stroke-width: 1.0;\"/><path d=\"M565.25,519.4375 Q563.5,519.4375 562.5469,518.4063 Q561.6094,517.3594 561.6094,515.5156 L561.6094,508.625 L563.6719,508.625 L563.6719,508.7813 Q563.5781,508.875 563.5469,509.0156 Q563.5313,509.1406 563.5313,509.4063 L563.5313,515.5313 Q563.5313,516.625 563.9063,517.25 Q564.2813,517.875 565.2656,517.875 Q566.25,517.875 566.6406,517.25 Q567.0313,516.625 567.0313,515.4844 L567.0313,508.625 L568.9063,508.625 L568.9063,515.4688 Q568.9063,517.5 567.875,518.4688 Q566.8594,519.4375 565.25,519.4375 Z \"/><text fill=\"#000000\" font-family=\"sans-serif\" font-size=\"12\" font-style=\"italic\" lengthAdjust=\"spacingAndGlyphs\" textLength=\"85\" x=\"577.5\" y=\"511.1387\">«occurrence»</text><text fill=\"#000000\" font-family=\"sans-serif\" font-size=\"12\" lengthAdjust=\"spacingAndGlyphs\" textLength=\"13\" x=\"611.5\" y=\"525.1074\">t2</text><line style=\"stroke: #A80036; stroke-width: 1.5;\" x1=\"551.5\" x2=\"662.5\" y1=\"532.9375\" y2=\"532.9375\"/></a><!--MD5=[96f4274e9e20536e775497830990834d]\n",
       "class E10--><a href=\"psysml:ec83ca81-a881-4da3-97a0-46e2b6aae84c\" target=\"_top\" title=\"psysml:ec83ca81-a881-4da3-97a0-46e2b6aae84c\" xlink:actuate=\"onRequest\" xlink:href=\"psysml:ec83ca81-a881-4da3-97a0-46e2b6aae84c\" xlink:show=\"new\" xlink:title=\"psysml:ec83ca81-a881-4da3-97a0-46e2b6aae84c\" xlink:type=\"simple\"><rect fill=\"#FEFECE\" filter=\"url(#f8ro55x8w4vft)\" height=\"45.9375\" id=\"E10\" rx=\"10\" ry=\"10\" style=\"stroke: #A80036; stroke-width: 1.5;\" width=\"113\" x=\"466.5\" y=\"41\"/><ellipse cx=\"481.5\" cy=\"59.9688\" fill=\"#FFA500\" rx=\"11\" ry=\"11\" style=\"stroke: #A80036; stroke-width: 1.0;\"/><path d=\"M481.25,65.4375 Q479.5,65.4375 478.5469,64.4063 Q477.6094,63.3594 477.6094,61.5156 L477.6094,54.625 L479.6719,54.625 L479.6719,54.7813 Q479.5781,54.875 479.5469,55.0156 Q479.5313,55.1406 479.5313,55.4063 L479.5313,61.5313 Q479.5313,62.625 479.9063,63.25 Q480.2813,63.875 481.2656,63.875 Q482.25,63.875 482.6406,63.25 Q483.0313,62.625 483.0313,61.4844 L483.0313,54.625 L484.9063,54.625 L484.9063,61.4688 Q484.9063,63.5 483.875,64.4688 Q482.8594,65.4375 481.25,65.4375 Z \"/><text fill=\"#000000\" font-family=\"sans-serif\" font-size=\"12\" font-style=\"italic\" lengthAdjust=\"spacingAndGlyphs\" textLength=\"85\" x=\"493.5\" y=\"57.1387\">«occurrence»</text><text fill=\"#000000\" font-family=\"sans-serif\" font-size=\"12\" lengthAdjust=\"spacingAndGlyphs\" textLength=\"77\" x=\"495.5\" y=\"71.1074\">ind: Ind, Occ</text><line style=\"stroke: #A80036; stroke-width: 1.5;\" x1=\"467.5\" x2=\"578.5\" y1=\"78.9375\" y2=\"78.9375\"/></a><!--MD5=[1dd1bfd58a279cf63c5f349dbc8fc6a1]\n",
       "class E11--><a href=\"psysml:fe74329f-5d2b-4ebe-b106-a7ecca7a6fbd\" target=\"_top\" title=\"psysml:fe74329f-5d2b-4ebe-b106-a7ecca7a6fbd\" xlink:actuate=\"onRequest\" xlink:href=\"psysml:fe74329f-5d2b-4ebe-b106-a7ecca7a6fbd\" xlink:show=\"new\" xlink:title=\"psysml:fe74329f-5d2b-4ebe-b106-a7ecca7a6fbd\" xlink:type=\"simple\"><rect fill=\"#FEFECE\" filter=\"url(#f8ro55x8w4vft)\" height=\"45.9375\" id=\"E11\" rx=\"10\" ry=\"10\" style=\"stroke: #A80036; stroke-width: 1.5;\" width=\"113\" x=\"513.5\" y=\"162\"/><ellipse cx=\"528.5\" cy=\"180.9688\" fill=\"#FFA500\" rx=\"11\" ry=\"11\" style=\"stroke: #A80036; stroke-width: 1.0;\"/><path d=\"M528.25,186.4375 Q526.5,186.4375 525.5469,185.4063 Q524.6094,184.3594 524.6094,182.5156 L524.6094,175.625 L526.6719,175.625 L526.6719,175.7813 Q526.5781,175.875 526.5469,176.0156 Q526.5313,176.1406 526.5313,176.4063 L526.5313,182.5313 Q526.5313,183.625 526.9063,184.25 Q527.2813,184.875 528.2656,184.875 Q529.25,184.875 529.6406,184.25 Q530.0313,183.625 530.0313,182.4844 L530.0313,175.625 L531.9063,175.625 L531.9063,182.4688 Q531.9063,184.5 530.875,185.4688 Q529.8594,186.4375 528.25,186.4375 Z \"/><text fill=\"#000000\" font-family=\"sans-serif\" font-size=\"12\" font-style=\"italic\" lengthAdjust=\"spacingAndGlyphs\" textLength=\"85\" x=\"540.5\" y=\"178.1387\">«occurrence»</text><text fill=\"#000000\" font-family=\"sans-serif\" font-size=\"12\" lengthAdjust=\"spacingAndGlyphs\" textLength=\"15\" x=\"573.5\" y=\"192.1074\">s3</text><line style=\"stroke: #A80036; stroke-width: 1.5;\" x1=\"514.5\" x2=\"625.5\" y1=\"199.9375\" y2=\"199.9375\"/></a><!--MD5=[49a0ec8f00dab7302a31f22d0f0fe584]\n",
       "class E12--><a href=\"psysml:6925098a-d5ed-431f-aaf1-d453853f914b\" target=\"_top\" title=\"psysml:6925098a-d5ed-431f-aaf1-d453853f914b\" xlink:actuate=\"onRequest\" xlink:href=\"psysml:6925098a-d5ed-431f-aaf1-d453853f914b\" xlink:show=\"new\" xlink:title=\"psysml:6925098a-d5ed-431f-aaf1-d453853f914b\" xlink:type=\"simple\"><rect fill=\"#FEFECE\" filter=\"url(#f8ro55x8w4vft)\" height=\"45.9375\" id=\"E12\" rx=\"10\" ry=\"10\" style=\"stroke: #A80036; stroke-width: 1.5;\" width=\"113\" x=\"661.5\" y=\"162\"/><ellipse cx=\"676.5\" cy=\"180.9688\" fill=\"#FFA500\" rx=\"11\" ry=\"11\" style=\"stroke: #A80036; stroke-width: 1.0;\"/><path d=\"M676.25,186.4375 Q674.5,186.4375 673.5469,185.4063 Q672.6094,184.3594 672.6094,182.5156 L672.6094,175.625 L674.6719,175.625 L674.6719,175.7813 Q674.5781,175.875 674.5469,176.0156 Q674.5313,176.1406 674.5313,176.4063 L674.5313,182.5313 Q674.5313,183.625 674.9063,184.25 Q675.2813,184.875 676.2656,184.875 Q677.25,184.875 677.6406,184.25 Q678.0313,183.625 678.0313,182.4844 L678.0313,175.625 L679.9063,175.625 L679.9063,182.4688 Q679.9063,184.5 678.875,185.4688 Q677.8594,186.4375 676.25,186.4375 Z \"/><text fill=\"#000000\" font-family=\"sans-serif\" font-size=\"12\" font-style=\"italic\" lengthAdjust=\"spacingAndGlyphs\" textLength=\"85\" x=\"688.5\" y=\"178.1387\">«occurrence»</text><text fill=\"#000000\" font-family=\"sans-serif\" font-size=\"12\" lengthAdjust=\"spacingAndGlyphs\" textLength=\"13\" x=\"722.5\" y=\"192.1074\">t3</text><line style=\"stroke: #A80036; stroke-width: 1.5;\" x1=\"662.5\" x2=\"773.5\" y1=\"199.9375\" y2=\"199.9375\"/></a><!--MD5=[ee3c913d1a06f366521f9ef512b67efe]\n",
       "class E13--><a href=\"psysml:4e4d3416-6ae1-42d7-bc86-2084c913e314\" target=\"_top\" title=\"psysml:4e4d3416-6ae1-42d7-bc86-2084c913e314\" xlink:actuate=\"onRequest\" xlink:href=\"psysml:4e4d3416-6ae1-42d7-bc86-2084c913e314\" xlink:show=\"new\" xlink:title=\"psysml:4e4d3416-6ae1-42d7-bc86-2084c913e314\" xlink:type=\"simple\"><rect fill=\"#FEFECE\" filter=\"url(#f8ro55x8w4vft)\" height=\"45.9375\" id=\"E13\" rx=\"10\" ry=\"10\" style=\"stroke: #A80036; stroke-width: 1.5;\" width=\"113\" x=\"32.5\" y=\"283\"/><ellipse cx=\"47.5\" cy=\"301.9688\" fill=\"#FFA500\" rx=\"11\" ry=\"11\" style=\"stroke: #A80036; stroke-width: 1.0;\"/><path d=\"M47.25,307.4375 Q45.5,307.4375 44.5469,306.4063 Q43.6094,305.3594 43.6094,303.5156 L43.6094,296.625 L45.6719,296.625 L45.6719,296.7813 Q45.5781,296.875 45.5469,297.0156 Q45.5313,297.1406 45.5313,297.4063 L45.5313,303.5313 Q45.5313,304.625 45.9063,305.25 Q46.2813,305.875 47.2656,305.875 Q48.25,305.875 48.6406,305.25 Q49.0313,304.625 49.0313,303.4844 L49.0313,296.625 L50.9063,296.625 L50.9063,303.4688 Q50.9063,305.5 49.875,306.4688 Q48.8594,307.4375 47.25,307.4375 Z \"/><text fill=\"#000000\" font-family=\"sans-serif\" font-size=\"12\" font-style=\"italic\" lengthAdjust=\"spacingAndGlyphs\" textLength=\"85\" x=\"59.5\" y=\"299.1387\">«occurrence»</text><text fill=\"#000000\" font-family=\"sans-serif\" font-size=\"12\" lengthAdjust=\"spacingAndGlyphs\" textLength=\"42\" x=\"79\" y=\"313.1074\">s4: Ind</text><line style=\"stroke: #A80036; stroke-width: 1.5;\" x1=\"33.5\" x2=\"144.5\" y1=\"320.9375\" y2=\"320.9375\"/></a><!--MD5=[209b3feb70ccb6233bfe1053d122c12c]\n",
       "reverse link E2 to E3--><a href=\"psysml:62ea934f-12d4-42a0-b786-a1086ef654f4\" target=\"_top\" title=\"psysml:62ea934f-12d4-42a0-b786-a1086ef654f4\" xlink:actuate=\"onRequest\" xlink:href=\"psysml:62ea934f-12d4-42a0-b786-a1086ef654f4\" xlink:show=\"new\" xlink:title=\"psysml:62ea934f-12d4-42a0-b786-a1086ef654f4\" xlink:type=\"simple\"><path d=\"M306.73,231.49 C286.2,249.12 265.3,268.5 251.49,282.93 \" fill=\"none\" id=\"E2&lt;-E3\" style=\"stroke: #A80036; stroke-width: 1.0;\"/><polygon fill=\"#FFFFFF\" points=\"316.74,223,309.5759,223.8216,307.5789,230.7507,314.743,229.9291,316.74,223\" style=\"stroke: #A80036; stroke-width: 1.0;\"/></a><!--MD5=[05d275557350bfb9b23a4ef7222b4c39]\n",
       "link E3 to E2--><a href=\"psysml:72edb9ed-f456-4be1-846b-a7c4b7fb6ef3\" target=\"_top\" title=\"psysml:72edb9ed-f456-4be1-846b-a7c4b7fb6ef3\" xlink:actuate=\"onRequest\" xlink:href=\"psysml:72edb9ed-f456-4be1-846b-a7c4b7fb6ef3\" xlink:show=\"new\" xlink:title=\"psysml:72edb9ed-f456-4be1-846b-a7c4b7fb6ef3\" xlink:type=\"simple\"><path d=\"M272.44,282.93 C289.17,269.94 309.03,252.95 326.57,236.82 \" fill=\"none\" id=\"E3-&gt;E2\" style=\"stroke: #A80036; stroke-width: 1.0;\"/><polygon fill=\"#FFFFFF\" points=\"341.25,223,332.2118,241.1193,322.6166,230.9245,341.25,223\" style=\"stroke: #A80036; stroke-width: 1.0;\"/><ellipse cx=\"326.6903\" cy=\"243.5695\" fill=\"#A80036\" rx=\"2\" ry=\"2\" style=\"stroke: #A80036; stroke-width: 1.0;\"/><ellipse cx=\"319.8366\" cy=\"236.2875\" fill=\"#A80036\" rx=\"2\" ry=\"2\" style=\"stroke: #A80036; stroke-width: 1.0;\"/></a><!--MD5=[9618e71518536f8baf3342ff6fdab317]\n",
       "reverse link E2 to E4--><a href=\"psysml:1930a264-e184-4aca-ae40-6206f5d09a7f\" target=\"_top\" title=\"psysml:1930a264-e184-4aca-ae40-6206f5d09a7f\" xlink:actuate=\"onRequest\" xlink:href=\"psysml:1930a264-e184-4aca-ae40-6206f5d09a7f\" xlink:show=\"new\" xlink:title=\"psysml:1930a264-e184-4aca-ae40-6206f5d09a7f\" xlink:type=\"simple\"><path d=\"M363.73,236.34 C365.3,252.61 368.28,269.81 372.05,282.93 \" fill=\"none\" id=\"E2&lt;-E4\" style=\"stroke: #A80036; stroke-width: 1.0;\"/><polygon fill=\"#A80036\" points=\"362.76,223,359.206,229.2745,363.6309,234.9684,367.1849,228.6939,362.76,223\" style=\"stroke: #A80036; stroke-width: 1.0;\"/></a><!--MD5=[185131fc0dcab0a4505a2ebe144e961b]\n",
       "link E4 to E2--><a href=\"psysml:32367fe5-1bb2-4952-a335-a8970d1d9f84\" target=\"_top\" title=\"psysml:32367fe5-1bb2-4952-a335-a8970d1d9f84\" xlink:actuate=\"onRequest\" xlink:href=\"psysml:32367fe5-1bb2-4952-a335-a8970d1d9f84\" xlink:show=\"new\" xlink:title=\"psysml:32367fe5-1bb2-4952-a335-a8970d1d9f84\" xlink:type=\"simple\"><path d=\"M392.99,282.93 C393.5,271.52 392.57,257.01 390.64,242.72 \" fill=\"none\" id=\"E4-&gt;E2\" style=\"stroke: #A80036; stroke-width: 1.0;\"/><polygon fill=\"#FFFFFF\" points=\"387.27,223,397.3603,240.5553,383.5589,242.9055,387.27,223\" style=\"stroke: #A80036; stroke-width: 1.0;\"/><ellipse cx=\"396.3455\" cy=\"246.5101\" fill=\"#A80036\" rx=\"2\" ry=\"2\" style=\"stroke: #A80036; stroke-width: 1.0;\"/><ellipse cx=\"386.4874\" cy=\"248.1888\" fill=\"#A80036\" rx=\"2\" ry=\"2\" style=\"stroke: #A80036; stroke-width: 1.0;\"/></a><!--MD5=[4e1a83fab71cdb913c109063314ae896]\n",
       "reverse link E2 to E5--><a href=\"psysml:0faf658f-4e02-48cd-849b-e0220b5d7629\" target=\"_top\" title=\"psysml:0faf658f-4e02-48cd-849b-e0220b5d7629\" xlink:actuate=\"onRequest\" xlink:href=\"psysml:0faf658f-4e02-48cd-849b-e0220b5d7629\" xlink:show=\"new\" xlink:title=\"psysml:0faf658f-4e02-48cd-849b-e0220b5d7629\" xlink:type=\"simple\"><path d=\"M431.32,230.77 C455.74,248.59 482.73,268.3 502.77,282.93 \" fill=\"none\" id=\"E2&lt;-E5\" style=\"stroke: #A80036; stroke-width: 1.0;\"/><polygon fill=\"#A80036\" points=\"420.68,223,423.171,229.7672,430.3757,230.0706,427.8847,223.3034,420.68,223\" style=\"stroke: #A80036; stroke-width: 1.0;\"/></a><!--MD5=[ce036f65110ae2351ccce5a81dc2e928]\n",
       "reverse link E2 to E6--><a href=\"psysml:3f965610-dfca-4051-a1f3-35306b55574a\" target=\"_top\" title=\"psysml:3f965610-dfca-4051-a1f3-35306b55574a\" xlink:actuate=\"onRequest\" xlink:href=\"psysml:3f965610-dfca-4051-a1f3-35306b55574a\" xlink:show=\"new\" xlink:title=\"psysml:3f965610-dfca-4051-a1f3-35306b55574a\" xlink:type=\"simple\"><path d=\"M452.92,217.73 C507.04,238.44 576.28,264.93 624.2,283.27 \" fill=\"none\" id=\"E2&lt;-E6\" style=\"stroke: #A80036; stroke-width: 1.0;\"/><polygon fill=\"#A80036\" points=\"440.57,213,444.7458,218.879,451.7786,217.2856,447.6029,211.4066,440.57,213\" style=\"stroke: #A80036; stroke-width: 1.0;\"/></a><!--MD5=[3a9b96bfbf6b6ad89c494e81751bda47]\n",
       "link E5 to E7--><a href=\"psysml:5b4e0f94-bd6c-4a04-8036-e6bb7f85be93\" target=\"_top\" title=\"psysml:5b4e0f94-bd6c-4a04-8036-e6bb7f85be93\" xlink:actuate=\"onRequest\" xlink:href=\"psysml:5b4e0f94-bd6c-4a04-8036-e6bb7f85be93\" xlink:show=\"new\" xlink:title=\"psysml:5b4e0f94-bd6c-4a04-8036-e6bb7f85be93\" xlink:type=\"simple\"><path d=\"M533,329.06 C533,340.64 533,355.23 533,368.87 \" fill=\"none\" id=\"E5-&gt;E7\" style=\"stroke: #A80036; stroke-width: 1.0;\"/><polygon fill=\"#FFFFFF\" points=\"533,388.98,526,369.98,540,369.98,533,388.98\" style=\"stroke: #A80036; stroke-width: 1.0;\"/><ellipse cx=\"528\" cy=\"364.28\" fill=\"#A80036\" rx=\"2\" ry=\"2\" style=\"stroke: #A80036; stroke-width: 1.0;\"/><ellipse cx=\"538\" cy=\"364.28\" fill=\"#A80036\" rx=\"2\" ry=\"2\" style=\"stroke: #A80036; stroke-width: 1.0;\"/></a><!--MD5=[dc164f5e8a733ab456ef1add180e9e34]\n",
       "reverse link E7 to E8--><a href=\"psysml:37f490ca-8c9f-44ef-b281-38d91f32f2bf\" target=\"_top\" title=\"psysml:37f490ca-8c9f-44ef-b281-38d91f32f2bf\" xlink:actuate=\"onRequest\" xlink:href=\"psysml:37f490ca-8c9f-44ef-b281-38d91f32f2bf\" xlink:show=\"new\" xlink:title=\"psysml:37f490ca-8c9f-44ef-b281-38d91f32f2bf\" xlink:type=\"simple\"><path d=\"M509.45,446.09 C498.09,462.06 484.77,480.78 474.67,494.98 \" fill=\"none\" id=\"E7&lt;-E8\" style=\"stroke: #A80036; stroke-width: 1.0;\"/><polygon fill=\"#A80036\" points=\"517.31,435.06,510.5722,437.6295,510.3526,444.8373,517.0904,442.2678,517.31,435.06\" style=\"stroke: #A80036; stroke-width: 1.0;\"/></a><!--MD5=[e4a10ef82d0e328e31cac39a31e58dda]\n",
       "reverse link E7 to E9--><a href=\"psysml:c791e7ed-713f-4106-b9d5-0dfb97ea4543\" target=\"_top\" title=\"psysml:c791e7ed-713f-4106-b9d5-0dfb97ea4543\" xlink:actuate=\"onRequest\" xlink:href=\"psysml:c791e7ed-713f-4106-b9d5-0dfb97ea4543\" xlink:show=\"new\" xlink:title=\"psysml:c791e7ed-713f-4106-b9d5-0dfb97ea4543\" xlink:type=\"simple\"><path d=\"M556.55,446.09 C567.91,462.06 581.23,480.78 591.33,494.98 \" fill=\"none\" id=\"E7&lt;-E9\" style=\"stroke: #A80036; stroke-width: 1.0;\"/><polygon fill=\"#A80036\" points=\"548.69,435.06,548.9096,442.2678,555.6474,444.8373,555.4278,437.6295,548.69,435.06\" style=\"stroke: #A80036; stroke-width: 1.0;\"/></a><!--MD5=[a919e0967d6f3de553dc51b9865a1d6d]\n",
       "link E10 to E7--><a href=\"psysml:d7bf13fe-2343-4091-93b6-ccc05bfccd1c\" target=\"_top\" title=\"psysml:d7bf13fe-2343-4091-93b6-ccc05bfccd1c\" xlink:actuate=\"onRequest\" xlink:href=\"psysml:d7bf13fe-2343-4091-93b6-ccc05bfccd1c\" xlink:show=\"new\" xlink:title=\"psysml:d7bf13fe-2343-4091-93b6-ccc05bfccd1c\" xlink:type=\"simple\"><path d=\"M509.64,87.03 C491.43,120.22 464.49,183.35 496,223 C569.52,315.5 681.48,190.5 755,283 C799.02,338.38 702.69,374.35 623.39,393.66 \" fill=\"none\" id=\"E10-&gt;E7\" style=\"stroke: #A80036; stroke-width: 1.0;\"/><polygon fill=\"#FFFFFF\" points=\"603.69,398.21,620.6276,387.1142,623.7779,400.7552,603.69,398.21\" style=\"stroke: #A80036; stroke-width: 1.0;\"/><ellipse cx=\"626.6315\" cy=\"387.7803\" fill=\"#A80036\" rx=\"2\" ry=\"2\" style=\"stroke: #A80036; stroke-width: 1.0;\"/><ellipse cx=\"628.8817\" cy=\"397.5239\" fill=\"#A80036\" rx=\"2\" ry=\"2\" style=\"stroke: #A80036; stroke-width: 1.0;\"/></a><!--MD5=[0f36bececdf0dff6e600d6f64214b0f1]\n",
       "link E10 to E2--><a href=\"psysml:65e23dda-2765-4b86-8b8c-165f4272381c\" target=\"_top\" title=\"psysml:65e23dda-2765-4b86-8b8c-165f4272381c\" xlink:actuate=\"onRequest\" xlink:href=\"psysml:65e23dda-2765-4b86-8b8c-165f4272381c\" xlink:show=\"new\" xlink:title=\"psysml:65e23dda-2765-4b86-8b8c-165f4272381c\" xlink:type=\"simple\"><path d=\"M494.58,87.1 C477.43,100.44 454.87,117.99 433.65,134.49 \" fill=\"none\" id=\"E10-&gt;E2\" style=\"stroke: #A80036; stroke-width: 1.0;\"/><polygon fill=\"#FFFFFF\" points=\"417.81,146.81,428.5047,129.6163,437.1034,140.6646,417.81,146.81\" style=\"stroke: #A80036; stroke-width: 1.0;\"/><ellipse cx=\"434.2313\" cy=\"127.6938\" fill=\"#A80036\" rx=\"2\" ry=\"2\" style=\"stroke: #A80036; stroke-width: 1.0;\"/><ellipse cx=\"440.3732\" cy=\"135.5854\" fill=\"#A80036\" rx=\"2\" ry=\"2\" style=\"stroke: #A80036; stroke-width: 1.0;\"/></a><!--MD5=[de308be4a2431766a05a907a031c07fc]\n",
       "reverse link E10 to E11--><a href=\"psysml:996a22eb-9701-44d5-9cb6-35ae83d4d1b1\" target=\"_top\" title=\"psysml:996a22eb-9701-44d5-9cb6-35ae83d4d1b1\" xlink:actuate=\"onRequest\" xlink:href=\"psysml:996a22eb-9701-44d5-9cb6-35ae83d4d1b1\" xlink:show=\"new\" xlink:title=\"psysml:996a22eb-9701-44d5-9cb6-35ae83d4d1b1\" xlink:type=\"simple\"><path d=\"M536.61,99.47 C544.52,119.48 554.24,144.11 561.16,161.61 \" fill=\"none\" id=\"E10&lt;-E11\" style=\"stroke: #A80036; stroke-width: 1.0;\"/><polygon fill=\"#A80036\" points=\"531.73,87.1,530.2171,94.1506,536.1435,98.2589,537.6564,91.2083,531.73,87.1\" style=\"stroke: #A80036; stroke-width: 1.0;\"/></a><!--MD5=[1d54f998c6d5961a1a9184be73a7eb6c]\n",
       "reverse link E10 to E12--><a href=\"psysml:da3311a8-2759-47ea-b229-fd34ee887055\" target=\"_top\" title=\"psysml:da3311a8-2759-47ea-b229-fd34ee887055\" xlink:actuate=\"onRequest\" xlink:href=\"psysml:da3311a8-2759-47ea-b229-fd34ee887055\" xlink:show=\"new\" xlink:title=\"psysml:da3311a8-2759-47ea-b229-fd34ee887055\" xlink:type=\"simple\"><path d=\"M570.37,93.91 C604.63,114.81 650.23,142.64 681.64,161.81 \" fill=\"none\" id=\"E10&lt;-E12\" style=\"stroke: #A80036; stroke-width: 1.0;\"/><polygon fill=\"#A80036\" points=\"559.22,87.1,562.259,93.6395,569.4643,93.3494,566.4253,86.8099,559.22,87.1\" style=\"stroke: #A80036; stroke-width: 1.0;\"/></a><!--MD5=[4a48077df6499cfcd20b62e8f5f37904]\n",
       "link E13 to E7--><a href=\"psysml:fb78d99f-0705-4d43-aabd-2eaf1ce47389\" target=\"_top\" title=\"psysml:fb78d99f-0705-4d43-aabd-2eaf1ce47389\" xlink:actuate=\"onRequest\" xlink:href=\"psysml:fb78d99f-0705-4d43-aabd-2eaf1ce47389\" xlink:show=\"new\" xlink:title=\"psysml:fb78d99f-0705-4d43-aabd-2eaf1ce47389\" xlink:type=\"simple\"><path d=\"M145.85,324.34 C151.63,325.97 157.42,327.55 163,329 C257.81,353.57 367.45,377.29 442.63,392.84 \" fill=\"none\" id=\"E13-&gt;E7\" style=\"stroke: #A80036; stroke-width: 1.0;\"/><polygon fill=\"#FFFFFF\" points=\"462.4,396.91,442.3793,399.9385,445.1999,386.2256,462.4,396.91\" style=\"stroke: #A80036; stroke-width: 1.0;\"/><ellipse cx=\"437.1991\" cy=\"396.8311\" fill=\"#A80036\" rx=\"2\" ry=\"2\" style=\"stroke: #A80036; stroke-width: 1.0;\"/><ellipse cx=\"439.2138\" cy=\"387.0362\" fill=\"#A80036\" rx=\"2\" ry=\"2\" style=\"stroke: #A80036; stroke-width: 1.0;\"/></a><!--MD5=[59252d2567ddb044d5a5866a7477f01e]\n",
       "@startuml\r\n",
       " \r\n",
       "package \"OccurrenceTest\" as E1  [[psysml:76f03fcf-c31b-4704-ae9e-b44a23fd6ebe ]]  {\r\n",
       "comp def \"Occ\" as E2 << <<(D,brown) occurrence  def>> [[psysml:eaa0b96d-7da2-44a7-b980-6b6f36747918 ]] {\r\n",
       "- - attributes - -\r\n",
       "a\r\n",
       "}\r\n",
       "comp usage \"occ1: Occ \" as E3 << <<(U,orange) occurrence>> [[psysml:87fca259-1c14-4b5b-983e-37895f6ff77b ]] {\r\n",
       "}\r\n",
       "comp usage \"occ2: Occ \" as E4 << <<(U,orange) occurrence>> [[psysml:ffd2f288-180d-4271-8880-cf9706207ba2 ]] {\r\n",
       "}\r\n",
       "comp usage \"s: Ind \" as E5 << individual snapshot <<(U,orange) occurrence>> [[psysml:4e1769cc-a186-417e-91f0-587d1f1196e7 ]] {\r\n",
       "}\r\n",
       "comp usage \"t \" as E6 << timeslice <<(U,orange) occurrence>> [[psysml:9c61ac47-8b4e-45e2-802a-f3aa096140c4 ]] {\r\n",
       "}\r\n",
       "comp def \"Ind\" as E7 << individual <<(D,brown) occurrence  def>> [[psysml:54e4af67-f268-48a3-80b8-bc1579f32c01 ]] {\r\n",
       "}\r\n",
       "comp usage \"s2 \" as E8 << snapshot <<(U,orange) occurrence>> [[psysml:bfc31472-e77d-4111-949c-57e124b09868 ]] {\r\n",
       "}\r\n",
       "comp usage \"t2 \" as E9 << timeslice <<(U,orange) occurrence>> [[psysml:25521b86-d75d-41e6-9d0e-592064bc2653 ]] {\r\n",
       "}\r\n",
       "comp usage \"ind: Ind, Occ \" as E10 << individual <<(U,orange) occurrence>> [[psysml:ec83ca81-a881-4da3-97a0-46e2b6aae84c ]] {\r\n",
       "}\r\n",
       "comp usage \"s3 \" as E11 << snapshot <<(U,orange) occurrence>> [[psysml:fe74329f-5d2b-4ebe-b106-a7ecca7a6fbd ]] {\r\n",
       "}\r\n",
       "comp usage \"t3 \" as E12 << individual timeslice <<(U,orange) occurrence>> [[psysml:6925098a-d5ed-431f-aaf1-d453853f914b ]] {\r\n",
       "}\r\n",
       "comp usage \"s4: Ind \" as E13 << individual snapshot <<(U,orange) occurrence>> [[psysml:4e4d3416-6ae1-42d7-bc86-2084c913e314 ]] {\r\n",
       "}\r\n",
       "}\r\n",
       "E2 o- - E3 [[psysml:62ea934f-12d4-42a0-b786-a1086ef654f4 ]] \r\n",
       "E3 - -:|> E2 [[psysml:72edb9ed-f456-4be1-846b-a7c4b7fb6ef3 ]] \r\n",
       "E2 *- - E4 [[psysml:1930a264-e184-4aca-ae40-6206f5d09a7f ]] \r\n",
       "E4 - -:|> E2 [[psysml:32367fe5-1bb2-4952-a335-a8970d1d9f84 ]] \r\n",
       "E2 *- - E5 [[psysml:0faf658f-4e02-48cd-849b-e0220b5d7629 ]] \r\n",
       "E2 *- - E6 [[psysml:3f965610-dfca-4051-a1f3-35306b55574a ]] \r\n",
       "E5 - -:|> E7 [[psysml:5b4e0f94-bd6c-4a04-8036-e6bb7f85be93 ]] \r\n",
       "E7 *- - E8 [[psysml:37f490ca-8c9f-44ef-b281-38d91f32f2bf ]] \r\n",
       "E7 *- - E9 [[psysml:c791e7ed-713f-4106-b9d5-0dfb97ea4543 ]] \r\n",
       "E10 - -:|> E7 [[psysml:d7bf13fe-2343-4091-93b6-ccc05bfccd1c ]] \r\n",
       "E10 - -:|> E2 [[psysml:65e23dda-2765-4b86-8b8c-165f4272381c ]] \r\n",
       "E10 *- - E11 [[psysml:996a22eb-9701-44d5-9cb6-35ae83d4d1b1 ]] \r\n",
       "E10 *- - E12 [[psysml:da3311a8-2759-47ea-b229-fd34ee887055 ]] \r\n",
       "E13 - -:|> E7 [[psysml:fb78d99f-0705-4d43-aabd-2eaf1ce47389 ]] \r\n",
       "@enduml\r\n",
       "\n",
       "PlantUML version 1.2020.13(Sat Jun 13 12:26:38 UTC 2020)\n",
       "(EPL source distribution)\n",
       "Java Runtime: OpenJDK Runtime Environment\n",
       "JVM: OpenJDK 64-Bit Server VM\n",
       "Default Encoding: UTF-8\n",
       "Language: en\n",
       "Country: null\n",
       "--></g></svg>"
      ]
     },
     "execution_count": 31,
     "metadata": {},
     "output_type": "execute_result"
    }
   ],
   "source": [
    "%viz --style=\"PLANTUML\" --view=\"Tree\" \"OccurrenceTest\""
   ]
  },
  {
   "cell_type": "code",
   "execution_count": 32,
   "id": "1d09d440",
   "metadata": {
    "execution": {
     "iopub.execute_input": "2022-02-18T10:48:38.460844Z",
     "iopub.status.busy": "2022-02-18T10:48:38.460449Z",
     "iopub.status.idle": "2022-02-18T10:48:38.572912Z",
     "shell.execute_reply": "2022-02-18T10:48:38.571597Z"
    }
   },
   "outputs": [
    {
     "data": {
      "image/svg+xml": [
       "<?xml version=\"1.0\" encoding=\"UTF-8\" standalone=\"no\"?><svg xmlns=\"http://www.w3.org/2000/svg\" xmlns:xlink=\"http://www.w3.org/1999/xlink\" contentScriptType=\"application/ecmascript\" contentStyleType=\"text/css\" height=\"365px\" preserveAspectRatio=\"none\" style=\"width:603px;height:365px;background:#000000;\" version=\"1.1\" viewBox=\"0 0 603 365\" width=\"603px\" zoomAndPan=\"magnify\"><defs/><g><rect fill=\"#232216\" height=\"1\" style=\"stroke: #232216; stroke-width: 1.0;\" width=\"1\" x=\"0\" y=\"0\"/><rect fill=\"#EAE2C9\" height=\"65.1875\" style=\"stroke: #EAE2C9; stroke-width: 1.0;\" width=\"602\" x=\"0\" y=\"0\"/><text fill=\"#000000\" font-family=\"sans-serif\" font-size=\"14\" font-weight=\"bold\" lengthAdjust=\"spacingAndGlyphs\" textLength=\"267\" x=\"10\" y=\"12.9951\">Add your own dedication into PlantUML</text><text fill=\"#000000\" font-family=\"sans-serif\" font-size=\"14\" lengthAdjust=\"spacingAndGlyphs\" textLength=\"0\" x=\"14\" y=\"29.292\"/><text fill=\"#000000\" font-family=\"sans-serif\" font-size=\"14\" lengthAdjust=\"spacingAndGlyphs\" textLength=\"154\" x=\"10\" y=\"45.5889\">For just $5 per month!</text><text fill=\"#000000\" font-family=\"sans-serif\" font-size=\"14\" lengthAdjust=\"spacingAndGlyphs\" textLength=\"69\" x=\"10\" y=\"61.8857\">Details on</text><a href=\"http://plantuml.com/dedication\" target=\"_top\" title=\"http://plantuml.com/dedication\" xlink:actuate=\"onRequest\" xlink:href=\"http://plantuml.com/dedication\" xlink:show=\"new\" xlink:title=\"http://plantuml.com/dedication\" xlink:type=\"simple\"><text fill=\"#000000\" font-family=\"sans-serif\" font-size=\"14\" font-style=\"italic\" lengthAdjust=\"spacingAndGlyphs\" textLength=\"213\" x=\"83\" y=\"61.8857\">http://plantuml.com/dedication</text></a><rect fill=\"#FFFFFF\" height=\"202.8012\" style=\"stroke: #FFFFFF; stroke-width: 1.0;\" width=\"602\" x=\"0\" y=\"65.1875\"/><text fill=\"#000000\" font-family=\"sans-serif\" font-size=\"12\" font-weight=\"bold\" lengthAdjust=\"spacingAndGlyphs\" textLength=\"139\" x=\"5\" y=\"81.3262\">Welcome to PlantUML!</text><text fill=\"#000000\" font-family=\"sans-serif\" font-size=\"12\" lengthAdjust=\"spacingAndGlyphs\" textLength=\"0\" x=\"9\" y=\"95.2949\"/><text fill=\"#000000\" font-family=\"sans-serif\" font-size=\"12\" lengthAdjust=\"spacingAndGlyphs\" textLength=\"293\" x=\"5\" y=\"109.2637\">If you use this software, you accept its license.</text><text fill=\"#000000\" font-family=\"sans-serif\" font-size=\"12\" lengthAdjust=\"spacingAndGlyphs\" textLength=\"107\" x=\"5\" y=\"123.2324\">(details by typing</text><text fill=\"#000000\" font-family=\"monospace\" font-size=\"12\" lengthAdjust=\"spacingAndGlyphs\" textLength=\"42\" x=\"116\" y=\"123.7825\">license</text><text fill=\"#000000\" font-family=\"sans-serif\" font-size=\"12\" lengthAdjust=\"spacingAndGlyphs\" textLength=\"56\" x=\"162\" y=\"123.2324\">keyword)</text><text fill=\"#000000\" font-family=\"sans-serif\" font-size=\"12\" lengthAdjust=\"spacingAndGlyphs\" textLength=\"0\" x=\"9\" y=\"137.2012\"/><text fill=\"#000000\" font-family=\"sans-serif\" font-size=\"12\" lengthAdjust=\"spacingAndGlyphs\" textLength=\"283\" x=\"5\" y=\"151.1699\">You can start with a simple UML Diagram like:</text><text fill=\"#000000\" font-family=\"sans-serif\" font-size=\"12\" lengthAdjust=\"spacingAndGlyphs\" textLength=\"0\" x=\"9\" y=\"165.1387\"/><text fill=\"#000000\" font-family=\"monospace\" font-size=\"12\" lengthAdjust=\"spacingAndGlyphs\" textLength=\"102\" x=\"5\" y=\"178.2768\">Bob-&gt;Alice: Hello</text><text fill=\"#000000\" font-family=\"sans-serif\" font-size=\"12\" lengthAdjust=\"spacingAndGlyphs\" textLength=\"0\" x=\"9\" y=\"191.6955\"/><text fill=\"#000000\" font-family=\"sans-serif\" font-size=\"12\" lengthAdjust=\"spacingAndGlyphs\" textLength=\"14\" x=\"5\" y=\"205.6643\">Or</text><text fill=\"#000000\" font-family=\"sans-serif\" font-size=\"12\" lengthAdjust=\"spacingAndGlyphs\" textLength=\"0\" x=\"9\" y=\"219.633\"/><text fill=\"#000000\" font-family=\"monospace\" font-size=\"12\" lengthAdjust=\"spacingAndGlyphs\" textLength=\"78\" x=\"5\" y=\"232.7712\">class Example</text><text fill=\"#000000\" font-family=\"sans-serif\" font-size=\"12\" lengthAdjust=\"spacingAndGlyphs\" textLength=\"0\" x=\"9\" y=\"246.1898\"/><text fill=\"#000000\" font-family=\"sans-serif\" font-size=\"12\" lengthAdjust=\"spacingAndGlyphs\" textLength=\"349\" x=\"5\" y=\"260.1586\">You will find more information about PlantUML syntax on</text><text fill=\"#000000\" font-family=\"sans-serif\" font-size=\"12\" lengthAdjust=\"spacingAndGlyphs\" text-decoration=\"underline\" textLength=\"129\" x=\"358\" y=\"260.1586\">https://plantuml.com</text><image height=\"71\" width=\"80\" x=\"516\" xlink:href=\"data:image/png;base64,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\" y=\"71.1875\"/><rect fill=\"#000000\" height=\"96.4844\" style=\"stroke: #000000; stroke-width: 1.0;\" width=\"602\" x=\"0\" y=\"267.9887\"/><rect fill=\"#33FF02\" height=\"21.2969\" style=\"stroke: #33FF02; stroke-width: 1.0;\" width=\"145\" x=\"5\" y=\"272.9887\"/><text fill=\"#000000\" font-family=\"sans-serif\" font-size=\"14\" font-weight=\"bold\" lengthAdjust=\"spacingAndGlyphs\" textLength=\"143\" x=\"6\" y=\"287.9887\">[From string (line 2) ]</text><text fill=\"#33FF02\" font-family=\"sans-serif\" font-size=\"14\" font-weight=\"bold\" lengthAdjust=\"spacingAndGlyphs\" textLength=\"0\" x=\"9\" y=\"308.2856\"/><text fill=\"#33FF02\" font-family=\"sans-serif\" font-size=\"14\" font-weight=\"bold\" lengthAdjust=\"spacingAndGlyphs\" textLength=\"70\" x=\"5\" y=\"324.5824\">@startuml</text><text fill=\"#33FF02\" font-family=\"sans-serif\" font-size=\"14\" font-weight=\"bold\" lengthAdjust=\"spacingAndGlyphs\" textLength=\"0\" x=\"9\" y=\"340.8793\"/><text fill=\"#FF0000\" font-family=\"sans-serif\" font-size=\"14\" font-weight=\"bold\" lengthAdjust=\"spacingAndGlyphs\" textLength=\"124\" x=\"9\" y=\"357.1762\">Empty description</text><!--MD5=[f59edd8218d337f74d0c332fc6737304]\n",
       "@startuml\r\n",
       " \r\n",
       "@enduml\r\n",
       "\n",
       "PlantUML version 1.2020.13(Sat Jun 13 12:26:38 UTC 2020)\n",
       "(EPL source distribution)\n",
       "Java Runtime: OpenJDK Runtime Environment\n",
       "JVM: OpenJDK 64-Bit Server VM\n",
       "Default Encoding: UTF-8\n",
       "Language: en\n",
       "Country: null\n",
       "--></g></svg>"
      ]
     },
     "execution_count": 32,
     "metadata": {},
     "output_type": "execute_result"
    }
   ],
   "source": [
    "%viz --style=\"PLANTUML\" --view=\"State\" \"OccurrenceTest\""
   ]
  },
  {
   "cell_type": "code",
   "execution_count": 33,
   "id": "67c7b8de",
   "metadata": {
    "execution": {
     "iopub.execute_input": "2022-02-18T10:48:38.622252Z",
     "iopub.status.busy": "2022-02-18T10:48:38.621802Z",
     "iopub.status.idle": "2022-02-18T10:48:38.649074Z",
     "shell.execute_reply": "2022-02-18T10:48:38.647913Z"
    }
   },
   "outputs": [
    {
     "data": {
      "image/svg+xml": [
       "<?xml version=\"1.0\" encoding=\"UTF-8\" standalone=\"no\"?><svg xmlns=\"http://www.w3.org/2000/svg\" xmlns:xlink=\"http://www.w3.org/1999/xlink\" contentScriptType=\"application/ecmascript\" contentStyleType=\"text/css\" height=\"195px\" preserveAspectRatio=\"none\" style=\"width:880px;height:195px;\" version=\"1.1\" viewBox=\"0 0 880 195\" width=\"880px\" zoomAndPan=\"magnify\"><defs><filter height=\"300%\" id=\"f1lie7q8natzhe\" width=\"300%\" x=\"-1\" y=\"-1\"><feGaussianBlur result=\"blurOut\" stdDeviation=\"2.0\"/><feColorMatrix in=\"blurOut\" result=\"blurOut2\" type=\"matrix\" values=\"0 0 0 0 0 0 0 0 0 0 0 0 0 0 0 0 0 0 .4 0\"/><feOffset dx=\"4.0\" dy=\"4.0\" in=\"blurOut2\" result=\"blurOut3\"/><feBlend in=\"SourceGraphic\" in2=\"blurOut3\" mode=\"normal\"/></filter></defs><g><!--MD5=[fbc87193dbaf4d95561dea2c320d4a47]\n",
       "cluster E1--><a href=\"psysml:76f03fcf-c31b-4704-ae9e-b44a23fd6ebe\" target=\"_top\" title=\"psysml:76f03fcf-c31b-4704-ae9e-b44a23fd6ebe\" xlink:actuate=\"onRequest\" xlink:href=\"psysml:76f03fcf-c31b-4704-ae9e-b44a23fd6ebe\" xlink:show=\"new\" xlink:title=\"psysml:76f03fcf-c31b-4704-ae9e-b44a23fd6ebe\" xlink:type=\"simple\"><polygon fill=\"#FFFFFF\" filter=\"url(#f1lie7q8natzhe)\" points=\"16,6,134,6,141,28.2969,858,28.2969,858,183,16,183,16,6\" style=\"stroke: #000000; stroke-width: 1.5;\"/><line style=\"stroke: #000000; stroke-width: 1.5;\" x1=\"16\" x2=\"141\" y1=\"28.2969\" y2=\"28.2969\"/><text fill=\"#000000\" font-family=\"sans-serif\" font-size=\"14\" font-weight=\"bold\" lengthAdjust=\"spacingAndGlyphs\" textLength=\"112\" x=\"20\" y=\"20.9951\">OccurrenceTest</text></a><!--MD5=[f6df4d0ebaf0b5dfb2ced0ae5af7c670]\n",
       "cluster E4--><a href=\"psysml:ec83ca81-a881-4da3-97a0-46e2b6aae84c\" target=\"_top\" title=\"psysml:ec83ca81-a881-4da3-97a0-46e2b6aae84c\" xlink:actuate=\"onRequest\" xlink:href=\"psysml:ec83ca81-a881-4da3-97a0-46e2b6aae84c\" xlink:show=\"new\" xlink:title=\"psysml:ec83ca81-a881-4da3-97a0-46e2b6aae84c\" xlink:type=\"simple\"><rect fill=\"#FFFFFF\" filter=\"url(#f1lie7q8natzhe)\" height=\"110\" id=\"E4\" rx=\"10\" ry=\"10\" style=\"stroke: #A80036; stroke-width: 1.5;\" width=\"303\" x=\"531\" y=\"49\"/><rect fill=\"#FEFECE\" height=\"37.9375\" rx=\"10\" ry=\"10\" style=\"stroke: #FEFECE; stroke-width: 1.5;\" width=\"303\" x=\"531\" y=\"49\"/><rect fill=\"#FEFECE\" height=\"10\" style=\"stroke: #FEFECE; stroke-width: 1.5;\" width=\"303\" x=\"531\" y=\"76.9375\"/><rect fill=\"none\" height=\"110\" id=\"E4\" rx=\"10\" ry=\"10\" style=\"stroke: #A80036; stroke-width: 1.5;\" width=\"303\" x=\"531\" y=\"49\"/><text fill=\"#000000\" font-family=\"sans-serif\" font-size=\"12\" font-style=\"italic\" lengthAdjust=\"spacingAndGlyphs\" textLength=\"85\" x=\"640\" y=\"65.1387\">«occurrence»</text><text fill=\"#000000\" font-family=\"sans-serif\" font-size=\"12\" lengthAdjust=\"spacingAndGlyphs\" textLength=\"77\" x=\"644\" y=\"79.1074\">ind: Ind, Occ</text><line style=\"stroke: #A80036; stroke-width: 1.0;\" x1=\"531\" x2=\"834\" y1=\"86.9375\" y2=\"86.9375\"/></a><g id=\"E1.E2\"><a href=\"psysml:eaa0b96d-7da2-44a7-b980-6b6f36747918\" target=\"_top\" title=\"psysml:eaa0b96d-7da2-44a7-b980-6b6f36747918\" xlink:actuate=\"onRequest\" xlink:href=\"psysml:eaa0b96d-7da2-44a7-b980-6b6f36747918\" xlink:show=\"new\" xlink:title=\"psysml:eaa0b96d-7da2-44a7-b980-6b6f36747918\" xlink:type=\"simple\"><rect fill=\"#FEFECE\" filter=\"url(#f1lie7q8natzhe)\" height=\"42.9375\" id=\"E2\" style=\"stroke: #A80036; stroke-width: 1.5;\" width=\"146\" x=\"366\" y=\"100\"/><ellipse cx=\"383.25\" cy=\"118.9688\" fill=\"#A52A2A\" rx=\"11\" ry=\"11\" style=\"stroke: #A80036; stroke-width: 1.0;\"/><path d=\"M380.4688,123.9688 L380.4688,113.375 L383.2031,113.375 Q384.5938,113.375 385.3594,113.7656 Q386.1406,114.1406 386.6719,114.8438 Q387.2031,115.5469 387.5,116.5469 Q387.7969,117.5313 387.7969,118.75 Q387.75,120.3438 387.25,121.5313 Q386.7656,122.7031 385.7188,123.3438 Q384.6875,123.9688 383,123.9688 L380.4688,123.9688 Z M382.3281,122.4688 L382.9531,122.4688 Q384.0313,122.4688 384.6875,122.0156 Q385.3438,121.5625 385.625,120.7344 Q385.9219,119.8906 385.9063,118.7656 Q385.9063,117.5938 385.6563,116.7344 Q385.4063,115.8594 384.7969,115.3906 Q384.1875,114.9063 383.1406,114.9063 L382.3281,114.9063 L382.3281,122.4688 Z \"/><text fill=\"#000000\" font-family=\"sans-serif\" font-size=\"12\" font-style=\"italic\" lengthAdjust=\"spacingAndGlyphs\" textLength=\"113\" x=\"395.75\" y=\"116.1387\">«occurrence  def»</text><text fill=\"#000000\" font-family=\"sans-serif\" font-size=\"12\" lengthAdjust=\"spacingAndGlyphs\" textLength=\"23\" x=\"440.75\" y=\"130.1074\">Occ</text></a></g><g id=\"E1.E3\"><a href=\"psysml:54e4af67-f268-48a3-80b8-bc1579f32c01\" target=\"_top\" title=\"psysml:54e4af67-f268-48a3-80b8-bc1579f32c01\" xlink:actuate=\"onRequest\" xlink:href=\"psysml:54e4af67-f268-48a3-80b8-bc1579f32c01\" xlink:show=\"new\" xlink:title=\"psysml:54e4af67-f268-48a3-80b8-bc1579f32c01\" xlink:type=\"simple\"><rect fill=\"#FEFECE\" filter=\"url(#f1lie7q8natzhe)\" height=\"42.9375\" id=\"E3\" style=\"stroke: #A80036; stroke-width: 1.5;\" width=\"146\" x=\"185\" y=\"100\"/><ellipse cx=\"202.25\" cy=\"118.9688\" fill=\"#A52A2A\" rx=\"11\" ry=\"11\" style=\"stroke: #A80036; stroke-width: 1.0;\"/><path d=\"M199.4688,123.9688 L199.4688,113.375 L202.2031,113.375 Q203.5938,113.375 204.3594,113.7656 Q205.1406,114.1406 205.6719,114.8438 Q206.2031,115.5469 206.5,116.5469 Q206.7969,117.5313 206.7969,118.75 Q206.75,120.3438 206.25,121.5313 Q205.7656,122.7031 204.7188,123.3438 Q203.6875,123.9688 202,123.9688 L199.4688,123.9688 Z M201.3281,122.4688 L201.9531,122.4688 Q203.0313,122.4688 203.6875,122.0156 Q204.3438,121.5625 204.625,120.7344 Q204.9219,119.8906 204.9063,118.7656 Q204.9063,117.5938 204.6563,116.7344 Q204.4063,115.8594 203.7969,115.3906 Q203.1875,114.9063 202.1406,114.9063 L201.3281,114.9063 L201.3281,122.4688 Z \"/><text fill=\"#000000\" font-family=\"sans-serif\" font-size=\"12\" font-style=\"italic\" lengthAdjust=\"spacingAndGlyphs\" textLength=\"113\" x=\"214.75\" y=\"116.1387\">«occurrence  def»</text><text fill=\"#000000\" font-family=\"sans-serif\" font-size=\"12\" lengthAdjust=\"spacingAndGlyphs\" textLength=\"19\" x=\"261.75\" y=\"130.1074\">Ind</text></a></g><g id=\"E1.E4.E5\"><a href=\"psysml:fe74329f-5d2b-4ebe-b106-a7ecca7a6fbd\" target=\"_top\" title=\"psysml:fe74329f-5d2b-4ebe-b106-a7ecca7a6fbd\" xlink:actuate=\"onRequest\" xlink:href=\"psysml:fe74329f-5d2b-4ebe-b106-a7ecca7a6fbd\" xlink:show=\"new\" xlink:title=\"psysml:fe74329f-5d2b-4ebe-b106-a7ecca7a6fbd\" xlink:type=\"simple\"><rect fill=\"#FEFECE\" filter=\"url(#f1lie7q8natzhe)\" height=\"42.9375\" id=\"E5\" rx=\"10\" ry=\"10\" style=\"stroke: #A80036; stroke-width: 1.5;\" width=\"118\" x=\"700\" y=\"100\"/><ellipse cx=\"717.25\" cy=\"118.9688\" fill=\"#FFA500\" rx=\"11\" ry=\"11\" style=\"stroke: #A80036; stroke-width: 1.0;\"/><path d=\"M717,124.4375 Q715.25,124.4375 714.2969,123.4063 Q713.3594,122.3594 713.3594,120.5156 L713.3594,113.625 L715.4219,113.625 L715.4219,113.7813 Q715.3281,113.875 715.2969,114.0156 Q715.2813,114.1406 715.2813,114.4063 L715.2813,120.5313 Q715.2813,121.625 715.6563,122.25 Q716.0313,122.875 717.0156,122.875 Q718,122.875 718.3906,122.25 Q718.7813,121.625 718.7813,120.4844 L718.7813,113.625 L720.6563,113.625 L720.6563,120.4688 Q720.6563,122.5 719.625,123.4688 Q718.6094,124.4375 717,124.4375 Z \"/><text fill=\"#000000\" font-family=\"sans-serif\" font-size=\"12\" font-style=\"italic\" lengthAdjust=\"spacingAndGlyphs\" textLength=\"85\" x=\"729.75\" y=\"116.1387\">«occurrence»</text><text fill=\"#000000\" font-family=\"sans-serif\" font-size=\"12\" lengthAdjust=\"spacingAndGlyphs\" textLength=\"15\" x=\"764.75\" y=\"130.1074\">s3</text></a></g><g id=\"E1.E4.E6\"><a href=\"psysml:6925098a-d5ed-431f-aaf1-d453853f914b\" target=\"_top\" title=\"psysml:6925098a-d5ed-431f-aaf1-d453853f914b\" xlink:actuate=\"onRequest\" xlink:href=\"psysml:6925098a-d5ed-431f-aaf1-d453853f914b\" xlink:show=\"new\" xlink:title=\"psysml:6925098a-d5ed-431f-aaf1-d453853f914b\" xlink:type=\"simple\"><rect fill=\"#FEFECE\" filter=\"url(#f1lie7q8natzhe)\" height=\"42.9375\" id=\"E6\" rx=\"10\" ry=\"10\" style=\"stroke: #A80036; stroke-width: 1.5;\" width=\"118\" x=\"547\" y=\"100\"/><ellipse cx=\"564.25\" cy=\"118.9688\" fill=\"#FFA500\" rx=\"11\" ry=\"11\" style=\"stroke: #A80036; stroke-width: 1.0;\"/><path d=\"M564,124.4375 Q562.25,124.4375 561.2969,123.4063 Q560.3594,122.3594 560.3594,120.5156 L560.3594,113.625 L562.4219,113.625 L562.4219,113.7813 Q562.3281,113.875 562.2969,114.0156 Q562.2813,114.1406 562.2813,114.4063 L562.2813,120.5313 Q562.2813,121.625 562.6563,122.25 Q563.0313,122.875 564.0156,122.875 Q565,122.875 565.3906,122.25 Q565.7813,121.625 565.7813,120.4844 L565.7813,113.625 L567.6563,113.625 L567.6563,120.4688 Q567.6563,122.5 566.625,123.4688 Q565.6094,124.4375 564,124.4375 Z \"/><text fill=\"#000000\" font-family=\"sans-serif\" font-size=\"12\" font-style=\"italic\" lengthAdjust=\"spacingAndGlyphs\" textLength=\"85\" x=\"576.75\" y=\"116.1387\">«occurrence»</text><text fill=\"#000000\" font-family=\"sans-serif\" font-size=\"12\" lengthAdjust=\"spacingAndGlyphs\" textLength=\"13\" x=\"612.75\" y=\"130.1074\">t3</text></a></g><g id=\"E1.E7\"><a href=\"psysml:4e4d3416-6ae1-42d7-bc86-2084c913e314\" target=\"_top\" title=\"psysml:4e4d3416-6ae1-42d7-bc86-2084c913e314\" xlink:actuate=\"onRequest\" xlink:href=\"psysml:4e4d3416-6ae1-42d7-bc86-2084c913e314\" xlink:show=\"new\" xlink:title=\"psysml:4e4d3416-6ae1-42d7-bc86-2084c913e314\" xlink:type=\"simple\"><rect fill=\"#FEFECE\" filter=\"url(#f1lie7q8natzhe)\" height=\"42.9375\" id=\"E7\" rx=\"10\" ry=\"10\" style=\"stroke: #A80036; stroke-width: 1.5;\" width=\"118\" x=\"32\" y=\"100\"/><ellipse cx=\"49.25\" cy=\"118.9688\" fill=\"#FFA500\" rx=\"11\" ry=\"11\" style=\"stroke: #A80036; stroke-width: 1.0;\"/><path d=\"M49,124.4375 Q47.25,124.4375 46.2969,123.4063 Q45.3594,122.3594 45.3594,120.5156 L45.3594,113.625 L47.4219,113.625 L47.4219,113.7813 Q47.3281,113.875 47.2969,114.0156 Q47.2813,114.1406 47.2813,114.4063 L47.2813,120.5313 Q47.2813,121.625 47.6563,122.25 Q48.0313,122.875 49.0156,122.875 Q50,122.875 50.3906,122.25 Q50.7813,121.625 50.7813,120.4844 L50.7813,113.625 L52.6563,113.625 L52.6563,120.4688 Q52.6563,122.5 51.625,123.4688 Q50.6094,124.4375 49,124.4375 Z \"/><text fill=\"#000000\" font-family=\"sans-serif\" font-size=\"12\" font-style=\"italic\" lengthAdjust=\"spacingAndGlyphs\" textLength=\"85\" x=\"61.75\" y=\"116.1387\">«occurrence»</text><text fill=\"#000000\" font-family=\"sans-serif\" font-size=\"12\" lengthAdjust=\"spacingAndGlyphs\" textLength=\"42\" x=\"83.25\" y=\"130.1074\">s4: Ind</text></a></g><!--MD5=[496d9498b7fb6ca9684ba1e1f7518609]\n",
       "@startuml\r\n",
       "skinparam ranksep 10\r\n",
       "skinparam rectangle {\r\n",
       " backgroundColor<<block>> LightGreen\r\n",
       "}\r\n",
       " \r\n",
       "package \"OccurrenceTest\" as E1  [[psysml:76f03fcf-c31b-4704-ae9e-b44a23fd6ebe ]]  {\r\n",
       "def \"Occ\" as E2 << <<(D,brown) occurrence  def>> [[psysml:eaa0b96d-7da2-44a7-b980-6b6f36747918 ]] \r\n",
       "def \"Ind\" as E3 << individual <<(D,brown) occurrence  def>> [[psysml:54e4af67-f268-48a3-80b8-bc1579f32c01 ]] \r\n",
       "rec usage \"ind: Ind, Occ\" as E4 << individual <<(U,orange) occurrence>> [[psysml:ec83ca81-a881-4da3-97a0-46e2b6aae84c ]] {\r\n",
       "rec usage \"s3\" as E5 << snapshot <<(U,orange) occurrence>> [[psysml:fe74329f-5d2b-4ebe-b106-a7ecca7a6fbd ]] {\r\n",
       "}\r\n",
       "rec usage \"t3\" as E6 << individual timeslice <<(U,orange) occurrence>> [[psysml:6925098a-d5ed-431f-aaf1-d453853f914b ]] {\r\n",
       "}\r\n",
       "}\r\n",
       "rec usage \"s4: Ind\" as E7 << individual snapshot <<(U,orange) occurrence>> [[psysml:4e4d3416-6ae1-42d7-bc86-2084c913e314 ]] {\r\n",
       "}\r\n",
       "}\r\n",
       "@enduml\r\n",
       "\n",
       "PlantUML version 1.2020.13(Sat Jun 13 12:26:38 UTC 2020)\n",
       "(EPL source distribution)\n",
       "Java Runtime: OpenJDK Runtime Environment\n",
       "JVM: OpenJDK 64-Bit Server VM\n",
       "Default Encoding: UTF-8\n",
       "Language: en\n",
       "Country: null\n",
       "--></g></svg>"
      ]
     },
     "execution_count": 33,
     "metadata": {},
     "output_type": "execute_result"
    }
   ],
   "source": [
    "%viz --style=\"PLANTUML\" --view=\"Interconnection\" \"OccurrenceTest\""
   ]
  },
  {
   "cell_type": "code",
   "execution_count": 34,
   "id": "6385bbff",
   "metadata": {
    "execution": {
     "iopub.execute_input": "2022-02-18T10:48:38.698917Z",
     "iopub.status.busy": "2022-02-18T10:48:38.698446Z",
     "iopub.status.idle": "2022-02-18T10:48:38.702406Z",
     "shell.execute_reply": "2022-02-18T10:48:38.702119Z"
    }
   },
   "outputs": [
    {
     "data": {
      "image/svg+xml": [
       "<?xml version=\"1.0\" encoding=\"UTF-8\" standalone=\"no\"?><svg xmlns=\"http://www.w3.org/2000/svg\" xmlns:xlink=\"http://www.w3.org/1999/xlink\" contentScriptType=\"application/ecmascript\" contentStyleType=\"text/css\" height=\"12px\" preserveAspectRatio=\"none\" style=\"width:12px;height:12px;\" version=\"1.1\" viewBox=\"0 0 12 12\" width=\"12px\" zoomAndPan=\"magnify\"><defs/><g><!--MD5=[6a4cb978cab31700e1ce5529f947a75d]\n",
       "@startuml\r\n",
       "skinparam ranksep 8\r\n",
       " \r\n",
       "@enduml\r\n",
       "\n",
       "PlantUML version 1.2020.13(Sat Jun 13 12:26:38 UTC 2020)\n",
       "(EPL source distribution)\n",
       "Java Runtime: OpenJDK Runtime Environment\n",
       "JVM: OpenJDK 64-Bit Server VM\n",
       "Default Encoding: UTF-8\n",
       "Language: en\n",
       "Country: null\n",
       "--></g></svg>"
      ]
     },
     "execution_count": 34,
     "metadata": {},
     "output_type": "execute_result"
    }
   ],
   "source": [
    "%viz --style=\"PLANTUML\" --view=\"Action\" \"OccurrenceTest\""
   ]
  },
  {
   "cell_type": "code",
   "execution_count": 35,
   "id": "26469fa2",
   "metadata": {
    "execution": {
     "iopub.execute_input": "2022-02-18T10:48:38.752880Z",
     "iopub.status.busy": "2022-02-18T10:48:38.752276Z",
     "iopub.status.idle": "2022-02-18T10:48:38.757187Z",
     "shell.execute_reply": "2022-02-18T10:48:38.756851Z"
    }
   },
   "outputs": [
    {
     "data": {
      "image/svg+xml": [
       "<?xml version=\"1.0\" encoding=\"UTF-8\" standalone=\"no\"?><svg xmlns=\"http://www.w3.org/2000/svg\" xmlns:xlink=\"http://www.w3.org/1999/xlink\" contentScriptType=\"application/ecmascript\" contentStyleType=\"text/css\" height=\"12px\" preserveAspectRatio=\"none\" style=\"width:12px;height:12px;\" version=\"1.1\" viewBox=\"0 0 12 12\" width=\"12px\" zoomAndPan=\"magnify\"><defs/><g><!--MD5=[ca4faa0b02def275ea33c14ea7a1a98d]\n",
       "@startuml\r\n",
       "skinparam roundcorner 20\r\n",
       "skinparam BoxPadding 20\r\n",
       "skinparam SequenceBoxBackgroundColor #white\r\n",
       "skinparam style strictuml\r\n",
       "skinparam maxMessageSize 100\r\n",
       " \r\n",
       "@enduml\r\n",
       "\n",
       "PlantUML version 1.2020.13(Sat Jun 13 12:26:38 UTC 2020)\n",
       "(EPL source distribution)\n",
       "Java Runtime: OpenJDK Runtime Environment\n",
       "JVM: OpenJDK 64-Bit Server VM\n",
       "Default Encoding: UTF-8\n",
       "Language: en\n",
       "Country: null\n",
       "--></g></svg>"
      ]
     },
     "execution_count": 35,
     "metadata": {},
     "output_type": "execute_result"
    }
   ],
   "source": [
    "%viz --style=\"PLANTUML\" --view=\"Sequence\" \"OccurrenceTest\""
   ]
  },
  {
   "cell_type": "code",
   "execution_count": 36,
   "id": "388c094e",
   "metadata": {
    "execution": {
     "iopub.execute_input": "2022-02-18T10:48:38.807466Z",
     "iopub.status.busy": "2022-02-18T10:48:38.806846Z",
     "iopub.status.idle": "2022-02-18T10:48:38.867816Z",
     "shell.execute_reply": "2022-02-18T10:48:38.865806Z"
    }
   },
   "outputs": [
    {
     "data": {
      "image/svg+xml": [
       "<?xml version=\"1.0\" encoding=\"UTF-8\" standalone=\"no\"?><svg xmlns=\"http://www.w3.org/2000/svg\" xmlns:xlink=\"http://www.w3.org/1999/xlink\" contentScriptType=\"application/ecmascript\" contentStyleType=\"text/css\" height=\"569px\" preserveAspectRatio=\"none\" style=\"width:813px;height:569px;\" version=\"1.1\" viewBox=\"0 0 813 569\" width=\"813px\" zoomAndPan=\"magnify\"><defs><filter height=\"300%\" id=\"f8ro55x8w4vft\" width=\"300%\" x=\"-1\" y=\"-1\"><feGaussianBlur result=\"blurOut\" stdDeviation=\"2.0\"/><feColorMatrix in=\"blurOut\" result=\"blurOut2\" type=\"matrix\" values=\"0 0 0 0 0 0 0 0 0 0 0 0 0 0 0 0 0 0 .4 0\"/><feOffset dx=\"4.0\" dy=\"4.0\" in=\"blurOut2\" result=\"blurOut3\"/><feBlend in=\"SourceGraphic\" in2=\"blurOut3\" mode=\"normal\"/></filter></defs><g><!--MD5=[fbc87193dbaf4d95561dea2c320d4a47]\n",
       "cluster E1--><a href=\"psysml:76f03fcf-c31b-4704-ae9e-b44a23fd6ebe\" target=\"_top\" title=\"psysml:76f03fcf-c31b-4704-ae9e-b44a23fd6ebe\" xlink:actuate=\"onRequest\" xlink:href=\"psysml:76f03fcf-c31b-4704-ae9e-b44a23fd6ebe\" xlink:show=\"new\" xlink:title=\"psysml:76f03fcf-c31b-4704-ae9e-b44a23fd6ebe\" xlink:type=\"simple\"><polygon fill=\"#FFFFFF\" filter=\"url(#f8ro55x8w4vft)\" points=\"16,6,134,6,141,28.2969,791,28.2969,791,557,16,557,16,6\" style=\"stroke: #000000; stroke-width: 1.5;\"/><line style=\"stroke: #000000; stroke-width: 1.5;\" x1=\"16\" x2=\"141\" y1=\"28.2969\" y2=\"28.2969\"/><text fill=\"#000000\" font-family=\"sans-serif\" font-size=\"14\" font-weight=\"bold\" lengthAdjust=\"spacingAndGlyphs\" textLength=\"112\" x=\"20\" y=\"20.9951\">OccurrenceTest</text></a><!--MD5=[b4997ac47864f28c2f74865a473b2911]\n",
       "class E2--><a href=\"psysml:eaa0b96d-7da2-44a7-b980-6b6f36747918\" target=\"_top\" title=\"psysml:eaa0b96d-7da2-44a7-b980-6b6f36747918\" xlink:actuate=\"onRequest\" xlink:href=\"psysml:eaa0b96d-7da2-44a7-b980-6b6f36747918\" xlink:show=\"new\" xlink:title=\"psysml:eaa0b96d-7da2-44a7-b980-6b6f36747918\" xlink:type=\"simple\"><rect fill=\"#FEFECE\" filter=\"url(#f8ro55x8w4vft)\" height=\"75.5469\" id=\"E2\" style=\"stroke: #A80036; stroke-width: 1.5;\" width=\"141\" x=\"299.5\" y=\"147\"/><ellipse cx=\"314.5\" cy=\"165.9688\" fill=\"#A52A2A\" rx=\"11\" ry=\"11\" style=\"stroke: #A80036; stroke-width: 1.0;\"/><path d=\"M311.7188,170.9688 L311.7188,160.375 L314.4531,160.375 Q315.8438,160.375 316.6094,160.7656 Q317.3906,161.1406 317.9219,161.8438 Q318.4531,162.5469 318.75,163.5469 Q319.0469,164.5313 319.0469,165.75 Q319,167.3438 318.5,168.5313 Q318.0156,169.7031 316.9688,170.3438 Q315.9375,170.9688 314.25,170.9688 L311.7188,170.9688 Z M313.5781,169.4688 L314.2031,169.4688 Q315.2813,169.4688 315.9375,169.0156 Q316.5938,168.5625 316.875,167.7344 Q317.1719,166.8906 317.1563,165.7656 Q317.1563,164.5938 316.9063,163.7344 Q316.6563,162.8594 316.0469,162.3906 Q315.4375,161.9063 314.3906,161.9063 L313.5781,161.9063 L313.5781,169.4688 Z \"/><text fill=\"#000000\" font-family=\"sans-serif\" font-size=\"12\" font-style=\"italic\" lengthAdjust=\"spacingAndGlyphs\" textLength=\"113\" x=\"326.5\" y=\"163.1387\">«occurrence  def»</text><text fill=\"#000000\" font-family=\"sans-serif\" font-size=\"12\" lengthAdjust=\"spacingAndGlyphs\" textLength=\"23\" x=\"371.5\" y=\"177.1074\">Occ</text><line style=\"stroke: #A80036; stroke-width: 1.5;\" x1=\"300.5\" x2=\"439.5\" y1=\"184.9375\" y2=\"184.9375\"/><text fill=\"#000000\" font-family=\"sans-serif\" font-size=\"11\" lengthAdjust=\"spacingAndGlyphs\" textLength=\"7\" x=\"305.5\" y=\"215.9526\">a</text><line style=\"stroke: #A80036; stroke-width: 1.0;\" x1=\"300.5\" x2=\"342.5\" y1=\"199.3398\" y2=\"199.3398\"/><text fill=\"#000000\" font-family=\"sans-serif\" font-size=\"11\" lengthAdjust=\"spacingAndGlyphs\" textLength=\"55\" x=\"342.5\" y=\"202.6479\">attributes</text><line style=\"stroke: #A80036; stroke-width: 1.0;\" x1=\"397.5\" x2=\"439.5\" y1=\"199.3398\" y2=\"199.3398\"/></a><!--MD5=[09b614a08d8cba4a07c9adeb5e0fee81]\n",
       "class E3--><a href=\"psysml:87fca259-1c14-4b5b-983e-37895f6ff77b\" target=\"_top\" title=\"psysml:87fca259-1c14-4b5b-983e-37895f6ff77b\" xlink:actuate=\"onRequest\" xlink:href=\"psysml:87fca259-1c14-4b5b-983e-37895f6ff77b\" xlink:show=\"new\" xlink:title=\"psysml:87fca259-1c14-4b5b-983e-37895f6ff77b\" xlink:type=\"simple\"><rect fill=\"#FEFECE\" filter=\"url(#f8ro55x8w4vft)\" height=\"45.9375\" id=\"E3\" rx=\"10\" ry=\"10\" style=\"stroke: #A80036; stroke-width: 1.5;\" width=\"113\" x=\"180.5\" y=\"283\"/><ellipse cx=\"195.5\" cy=\"301.9688\" fill=\"#FFA500\" rx=\"11\" ry=\"11\" style=\"stroke: #A80036; stroke-width: 1.0;\"/><path d=\"M195.25,307.4375 Q193.5,307.4375 192.5469,306.4063 Q191.6094,305.3594 191.6094,303.5156 L191.6094,296.625 L193.6719,296.625 L193.6719,296.7813 Q193.5781,296.875 193.5469,297.0156 Q193.5313,297.1406 193.5313,297.4063 L193.5313,303.5313 Q193.5313,304.625 193.9063,305.25 Q194.2813,305.875 195.2656,305.875 Q196.25,305.875 196.6406,305.25 Q197.0313,304.625 197.0313,303.4844 L197.0313,296.625 L198.9063,296.625 L198.9063,303.4688 Q198.9063,305.5 197.875,306.4688 Q196.8594,307.4375 195.25,307.4375 Z \"/><text fill=\"#000000\" font-family=\"sans-serif\" font-size=\"12\" font-style=\"italic\" lengthAdjust=\"spacingAndGlyphs\" textLength=\"85\" x=\"207.5\" y=\"299.1387\">«occurrence»</text><text fill=\"#000000\" font-family=\"sans-serif\" font-size=\"12\" lengthAdjust=\"spacingAndGlyphs\" textLength=\"61\" x=\"217.5\" y=\"313.1074\">occ1: Occ</text><line style=\"stroke: #A80036; stroke-width: 1.5;\" x1=\"181.5\" x2=\"292.5\" y1=\"320.9375\" y2=\"320.9375\"/></a><!--MD5=[ebbe1d658d1005bcc118a6aa81145e00]\n",
       "class E4--><a href=\"psysml:ffd2f288-180d-4271-8880-cf9706207ba2\" target=\"_top\" title=\"psysml:ffd2f288-180d-4271-8880-cf9706207ba2\" xlink:actuate=\"onRequest\" xlink:href=\"psysml:ffd2f288-180d-4271-8880-cf9706207ba2\" xlink:show=\"new\" xlink:title=\"psysml:ffd2f288-180d-4271-8880-cf9706207ba2\" xlink:type=\"simple\"><rect fill=\"#FEFECE\" filter=\"url(#f8ro55x8w4vft)\" height=\"45.9375\" id=\"E4\" rx=\"10\" ry=\"10\" style=\"stroke: #A80036; stroke-width: 1.5;\" width=\"113\" x=\"328.5\" y=\"283\"/><ellipse cx=\"343.5\" cy=\"301.9688\" fill=\"#FFA500\" rx=\"11\" ry=\"11\" style=\"stroke: #A80036; stroke-width: 1.0;\"/><path d=\"M343.25,307.4375 Q341.5,307.4375 340.5469,306.4063 Q339.6094,305.3594 339.6094,303.5156 L339.6094,296.625 L341.6719,296.625 L341.6719,296.7813 Q341.5781,296.875 341.5469,297.0156 Q341.5313,297.1406 341.5313,297.4063 L341.5313,303.5313 Q341.5313,304.625 341.9063,305.25 Q342.2813,305.875 343.2656,305.875 Q344.25,305.875 344.6406,305.25 Q345.0313,304.625 345.0313,303.4844 L345.0313,296.625 L346.9063,296.625 L346.9063,303.4688 Q346.9063,305.5 345.875,306.4688 Q344.8594,307.4375 343.25,307.4375 Z \"/><text fill=\"#000000\" font-family=\"sans-serif\" font-size=\"12\" font-style=\"italic\" lengthAdjust=\"spacingAndGlyphs\" textLength=\"85\" x=\"355.5\" y=\"299.1387\">«occurrence»</text><text fill=\"#000000\" font-family=\"sans-serif\" font-size=\"12\" lengthAdjust=\"spacingAndGlyphs\" textLength=\"61\" x=\"365.5\" y=\"313.1074\">occ2: Occ</text><line style=\"stroke: #A80036; stroke-width: 1.5;\" x1=\"329.5\" x2=\"440.5\" y1=\"320.9375\" y2=\"320.9375\"/></a><!--MD5=[270fce915f116d4de14055a7c1d9a0f3]\n",
       "class E5--><a href=\"psysml:4e1769cc-a186-417e-91f0-587d1f1196e7\" target=\"_top\" title=\"psysml:4e1769cc-a186-417e-91f0-587d1f1196e7\" xlink:actuate=\"onRequest\" xlink:href=\"psysml:4e1769cc-a186-417e-91f0-587d1f1196e7\" xlink:show=\"new\" xlink:title=\"psysml:4e1769cc-a186-417e-91f0-587d1f1196e7\" xlink:type=\"simple\"><rect fill=\"#FEFECE\" filter=\"url(#f8ro55x8w4vft)\" height=\"45.9375\" id=\"E5\" rx=\"10\" ry=\"10\" style=\"stroke: #A80036; stroke-width: 1.5;\" width=\"113\" x=\"476.5\" y=\"283\"/><ellipse cx=\"491.5\" cy=\"301.9688\" fill=\"#FFA500\" rx=\"11\" ry=\"11\" style=\"stroke: #A80036; stroke-width: 1.0;\"/><path d=\"M491.25,307.4375 Q489.5,307.4375 488.5469,306.4063 Q487.6094,305.3594 487.6094,303.5156 L487.6094,296.625 L489.6719,296.625 L489.6719,296.7813 Q489.5781,296.875 489.5469,297.0156 Q489.5313,297.1406 489.5313,297.4063 L489.5313,303.5313 Q489.5313,304.625 489.9063,305.25 Q490.2813,305.875 491.2656,305.875 Q492.25,305.875 492.6406,305.25 Q493.0313,304.625 493.0313,303.4844 L493.0313,296.625 L494.9063,296.625 L494.9063,303.4688 Q494.9063,305.5 493.875,306.4688 Q492.8594,307.4375 491.25,307.4375 Z \"/><text fill=\"#000000\" font-family=\"sans-serif\" font-size=\"12\" font-style=\"italic\" lengthAdjust=\"spacingAndGlyphs\" textLength=\"85\" x=\"503.5\" y=\"299.1387\">«occurrence»</text><text fill=\"#000000\" font-family=\"sans-serif\" font-size=\"12\" lengthAdjust=\"spacingAndGlyphs\" textLength=\"34\" x=\"527\" y=\"313.1074\">s: Ind</text><line style=\"stroke: #A80036; stroke-width: 1.5;\" x1=\"477.5\" x2=\"588.5\" y1=\"320.9375\" y2=\"320.9375\"/></a><!--MD5=[60a26617385b1d2d0262a64233df1f8d]\n",
       "class E6--><a href=\"psysml:9c61ac47-8b4e-45e2-802a-f3aa096140c4\" target=\"_top\" title=\"psysml:9c61ac47-8b4e-45e2-802a-f3aa096140c4\" xlink:actuate=\"onRequest\" xlink:href=\"psysml:9c61ac47-8b4e-45e2-802a-f3aa096140c4\" xlink:show=\"new\" xlink:title=\"psysml:9c61ac47-8b4e-45e2-802a-f3aa096140c4\" xlink:type=\"simple\"><rect fill=\"#FEFECE\" filter=\"url(#f8ro55x8w4vft)\" height=\"45.9375\" id=\"E6\" rx=\"10\" ry=\"10\" style=\"stroke: #A80036; stroke-width: 1.5;\" width=\"113\" x=\"624.5\" y=\"283\"/><ellipse cx=\"639.5\" cy=\"301.9688\" fill=\"#FFA500\" rx=\"11\" ry=\"11\" style=\"stroke: #A80036; stroke-width: 1.0;\"/><path d=\"M639.25,307.4375 Q637.5,307.4375 636.5469,306.4063 Q635.6094,305.3594 635.6094,303.5156 L635.6094,296.625 L637.6719,296.625 L637.6719,296.7813 Q637.5781,296.875 637.5469,297.0156 Q637.5313,297.1406 637.5313,297.4063 L637.5313,303.5313 Q637.5313,304.625 637.9063,305.25 Q638.2813,305.875 639.2656,305.875 Q640.25,305.875 640.6406,305.25 Q641.0313,304.625 641.0313,303.4844 L641.0313,296.625 L642.9063,296.625 L642.9063,303.4688 Q642.9063,305.5 641.875,306.4688 Q640.8594,307.4375 639.25,307.4375 Z \"/><text fill=\"#000000\" font-family=\"sans-serif\" font-size=\"12\" font-style=\"italic\" lengthAdjust=\"spacingAndGlyphs\" textLength=\"85\" x=\"651.5\" y=\"299.1387\">«occurrence»</text><text fill=\"#000000\" font-family=\"sans-serif\" font-size=\"12\" lengthAdjust=\"spacingAndGlyphs\" textLength=\"5\" x=\"689.5\" y=\"313.1074\">t</text><line style=\"stroke: #A80036; stroke-width: 1.5;\" x1=\"625.5\" x2=\"736.5\" y1=\"320.9375\" y2=\"320.9375\"/></a><!--MD5=[2156ba9850f5573cc1fc38a6a4b2f02b]\n",
       "class E7--><a href=\"psysml:54e4af67-f268-48a3-80b8-bc1579f32c01\" target=\"_top\" title=\"psysml:54e4af67-f268-48a3-80b8-bc1579f32c01\" xlink:actuate=\"onRequest\" xlink:href=\"psysml:54e4af67-f268-48a3-80b8-bc1579f32c01\" xlink:show=\"new\" xlink:title=\"psysml:54e4af67-f268-48a3-80b8-bc1579f32c01\" xlink:type=\"simple\"><rect fill=\"#FEFECE\" filter=\"url(#f8ro55x8w4vft)\" height=\"45.9375\" id=\"E7\" style=\"stroke: #A80036; stroke-width: 1.5;\" width=\"141\" x=\"462.5\" y=\"389\"/><ellipse cx=\"477.5\" cy=\"407.9688\" fill=\"#A52A2A\" rx=\"11\" ry=\"11\" style=\"stroke: #A80036; stroke-width: 1.0;\"/><path d=\"M474.7188,412.9688 L474.7188,402.375 L477.4531,402.375 Q478.8438,402.375 479.6094,402.7656 Q480.3906,403.1406 480.9219,403.8438 Q481.4531,404.5469 481.75,405.5469 Q482.0469,406.5313 482.0469,407.75 Q482,409.3438 481.5,410.5313 Q481.0156,411.7031 479.9688,412.3438 Q478.9375,412.9688 477.25,412.9688 L474.7188,412.9688 Z M476.5781,411.4688 L477.2031,411.4688 Q478.2813,411.4688 478.9375,411.0156 Q479.5938,410.5625 479.875,409.7344 Q480.1719,408.8906 480.1563,407.7656 Q480.1563,406.5938 479.9063,405.7344 Q479.6563,404.8594 479.0469,404.3906 Q478.4375,403.9063 477.3906,403.9063 L476.5781,403.9063 L476.5781,411.4688 Z \"/><text fill=\"#000000\" font-family=\"sans-serif\" font-size=\"12\" font-style=\"italic\" lengthAdjust=\"spacingAndGlyphs\" textLength=\"113\" x=\"489.5\" y=\"405.1387\">«occurrence  def»</text><text fill=\"#000000\" font-family=\"sans-serif\" font-size=\"12\" lengthAdjust=\"spacingAndGlyphs\" textLength=\"19\" x=\"536.5\" y=\"419.1074\">Ind</text><line style=\"stroke: #A80036; stroke-width: 1.5;\" x1=\"463.5\" x2=\"602.5\" y1=\"426.9375\" y2=\"426.9375\"/></a><!--MD5=[b9389687b975829384b498ac4b7476b2]\n",
       "class E8--><a href=\"psysml:bfc31472-e77d-4111-949c-57e124b09868\" target=\"_top\" title=\"psysml:bfc31472-e77d-4111-949c-57e124b09868\" xlink:actuate=\"onRequest\" xlink:href=\"psysml:bfc31472-e77d-4111-949c-57e124b09868\" xlink:show=\"new\" xlink:title=\"psysml:bfc31472-e77d-4111-949c-57e124b09868\" xlink:type=\"simple\"><rect fill=\"#FEFECE\" filter=\"url(#f8ro55x8w4vft)\" height=\"45.9375\" id=\"E8\" rx=\"10\" ry=\"10\" style=\"stroke: #A80036; stroke-width: 1.5;\" width=\"113\" x=\"402.5\" y=\"495\"/><ellipse cx=\"417.5\" cy=\"513.9688\" fill=\"#FFA500\" rx=\"11\" ry=\"11\" style=\"stroke: #A80036; stroke-width: 1.0;\"/><path d=\"M417.25,519.4375 Q415.5,519.4375 414.5469,518.4063 Q413.6094,517.3594 413.6094,515.5156 L413.6094,508.625 L415.6719,508.625 L415.6719,508.7813 Q415.5781,508.875 415.5469,509.0156 Q415.5313,509.1406 415.5313,509.4063 L415.5313,515.5313 Q415.5313,516.625 415.9063,517.25 Q416.2813,517.875 417.2656,517.875 Q418.25,517.875 418.6406,517.25 Q419.0313,516.625 419.0313,515.4844 L419.0313,508.625 L420.9063,508.625 L420.9063,515.4688 Q420.9063,517.5 419.875,518.4688 Q418.8594,519.4375 417.25,519.4375 Z \"/><text fill=\"#000000\" font-family=\"sans-serif\" font-size=\"12\" font-style=\"italic\" lengthAdjust=\"spacingAndGlyphs\" textLength=\"85\" x=\"429.5\" y=\"511.1387\">«occurrence»</text><text fill=\"#000000\" font-family=\"sans-serif\" font-size=\"12\" lengthAdjust=\"spacingAndGlyphs\" textLength=\"15\" x=\"462.5\" y=\"525.1074\">s2</text><line style=\"stroke: #A80036; stroke-width: 1.5;\" x1=\"403.5\" x2=\"514.5\" y1=\"532.9375\" y2=\"532.9375\"/></a><!--MD5=[fd4143e9d270a159db93a4ea2a975926]\n",
       "class E9--><a href=\"psysml:25521b86-d75d-41e6-9d0e-592064bc2653\" target=\"_top\" title=\"psysml:25521b86-d75d-41e6-9d0e-592064bc2653\" xlink:actuate=\"onRequest\" xlink:href=\"psysml:25521b86-d75d-41e6-9d0e-592064bc2653\" xlink:show=\"new\" xlink:title=\"psysml:25521b86-d75d-41e6-9d0e-592064bc2653\" xlink:type=\"simple\"><rect fill=\"#FEFECE\" filter=\"url(#f8ro55x8w4vft)\" height=\"45.9375\" id=\"E9\" rx=\"10\" ry=\"10\" style=\"stroke: #A80036; stroke-width: 1.5;\" width=\"113\" x=\"550.5\" y=\"495\"/><ellipse cx=\"565.5\" cy=\"513.9688\" fill=\"#FFA500\" rx=\"11\" ry=\"11\" style=\"stroke: #A80036; stroke-width: 1.0;\"/><path d=\"M565.25,519.4375 Q563.5,519.4375 562.5469,518.4063 Q561.6094,517.3594 561.6094,515.5156 L561.6094,508.625 L563.6719,508.625 L563.6719,508.7813 Q563.5781,508.875 563.5469,509.0156 Q563.5313,509.1406 563.5313,509.4063 L563.5313,515.5313 Q563.5313,516.625 563.9063,517.25 Q564.2813,517.875 565.2656,517.875 Q566.25,517.875 566.6406,517.25 Q567.0313,516.625 567.0313,515.4844 L567.0313,508.625 L568.9063,508.625 L568.9063,515.4688 Q568.9063,517.5 567.875,518.4688 Q566.8594,519.4375 565.25,519.4375 Z \"/><text fill=\"#000000\" font-family=\"sans-serif\" font-size=\"12\" font-style=\"italic\" lengthAdjust=\"spacingAndGlyphs\" textLength=\"85\" x=\"577.5\" y=\"511.1387\">«occurrence»</text><text fill=\"#000000\" font-family=\"sans-serif\" font-size=\"12\" lengthAdjust=\"spacingAndGlyphs\" textLength=\"13\" x=\"611.5\" y=\"525.1074\">t2</text><line style=\"stroke: #A80036; stroke-width: 1.5;\" x1=\"551.5\" x2=\"662.5\" y1=\"532.9375\" y2=\"532.9375\"/></a><!--MD5=[96f4274e9e20536e775497830990834d]\n",
       "class E10--><a href=\"psysml:ec83ca81-a881-4da3-97a0-46e2b6aae84c\" target=\"_top\" title=\"psysml:ec83ca81-a881-4da3-97a0-46e2b6aae84c\" xlink:actuate=\"onRequest\" xlink:href=\"psysml:ec83ca81-a881-4da3-97a0-46e2b6aae84c\" xlink:show=\"new\" xlink:title=\"psysml:ec83ca81-a881-4da3-97a0-46e2b6aae84c\" xlink:type=\"simple\"><rect fill=\"#FEFECE\" filter=\"url(#f8ro55x8w4vft)\" height=\"45.9375\" id=\"E10\" rx=\"10\" ry=\"10\" style=\"stroke: #A80036; stroke-width: 1.5;\" width=\"113\" x=\"466.5\" y=\"41\"/><ellipse cx=\"481.5\" cy=\"59.9688\" fill=\"#FFA500\" rx=\"11\" ry=\"11\" style=\"stroke: #A80036; stroke-width: 1.0;\"/><path d=\"M481.25,65.4375 Q479.5,65.4375 478.5469,64.4063 Q477.6094,63.3594 477.6094,61.5156 L477.6094,54.625 L479.6719,54.625 L479.6719,54.7813 Q479.5781,54.875 479.5469,55.0156 Q479.5313,55.1406 479.5313,55.4063 L479.5313,61.5313 Q479.5313,62.625 479.9063,63.25 Q480.2813,63.875 481.2656,63.875 Q482.25,63.875 482.6406,63.25 Q483.0313,62.625 483.0313,61.4844 L483.0313,54.625 L484.9063,54.625 L484.9063,61.4688 Q484.9063,63.5 483.875,64.4688 Q482.8594,65.4375 481.25,65.4375 Z \"/><text fill=\"#000000\" font-family=\"sans-serif\" font-size=\"12\" font-style=\"italic\" lengthAdjust=\"spacingAndGlyphs\" textLength=\"85\" x=\"493.5\" y=\"57.1387\">«occurrence»</text><text fill=\"#000000\" font-family=\"sans-serif\" font-size=\"12\" lengthAdjust=\"spacingAndGlyphs\" textLength=\"77\" x=\"495.5\" y=\"71.1074\">ind: Ind, Occ</text><line style=\"stroke: #A80036; stroke-width: 1.5;\" x1=\"467.5\" x2=\"578.5\" y1=\"78.9375\" y2=\"78.9375\"/></a><!--MD5=[1dd1bfd58a279cf63c5f349dbc8fc6a1]\n",
       "class E11--><a href=\"psysml:fe74329f-5d2b-4ebe-b106-a7ecca7a6fbd\" target=\"_top\" title=\"psysml:fe74329f-5d2b-4ebe-b106-a7ecca7a6fbd\" xlink:actuate=\"onRequest\" xlink:href=\"psysml:fe74329f-5d2b-4ebe-b106-a7ecca7a6fbd\" xlink:show=\"new\" xlink:title=\"psysml:fe74329f-5d2b-4ebe-b106-a7ecca7a6fbd\" xlink:type=\"simple\"><rect fill=\"#FEFECE\" filter=\"url(#f8ro55x8w4vft)\" height=\"45.9375\" id=\"E11\" rx=\"10\" ry=\"10\" style=\"stroke: #A80036; stroke-width: 1.5;\" width=\"113\" x=\"513.5\" y=\"162\"/><ellipse cx=\"528.5\" cy=\"180.9688\" fill=\"#FFA500\" rx=\"11\" ry=\"11\" style=\"stroke: #A80036; stroke-width: 1.0;\"/><path d=\"M528.25,186.4375 Q526.5,186.4375 525.5469,185.4063 Q524.6094,184.3594 524.6094,182.5156 L524.6094,175.625 L526.6719,175.625 L526.6719,175.7813 Q526.5781,175.875 526.5469,176.0156 Q526.5313,176.1406 526.5313,176.4063 L526.5313,182.5313 Q526.5313,183.625 526.9063,184.25 Q527.2813,184.875 528.2656,184.875 Q529.25,184.875 529.6406,184.25 Q530.0313,183.625 530.0313,182.4844 L530.0313,175.625 L531.9063,175.625 L531.9063,182.4688 Q531.9063,184.5 530.875,185.4688 Q529.8594,186.4375 528.25,186.4375 Z \"/><text fill=\"#000000\" font-family=\"sans-serif\" font-size=\"12\" font-style=\"italic\" lengthAdjust=\"spacingAndGlyphs\" textLength=\"85\" x=\"540.5\" y=\"178.1387\">«occurrence»</text><text fill=\"#000000\" font-family=\"sans-serif\" font-size=\"12\" lengthAdjust=\"spacingAndGlyphs\" textLength=\"15\" x=\"573.5\" y=\"192.1074\">s3</text><line style=\"stroke: #A80036; stroke-width: 1.5;\" x1=\"514.5\" x2=\"625.5\" y1=\"199.9375\" y2=\"199.9375\"/></a><!--MD5=[49a0ec8f00dab7302a31f22d0f0fe584]\n",
       "class E12--><a href=\"psysml:6925098a-d5ed-431f-aaf1-d453853f914b\" target=\"_top\" title=\"psysml:6925098a-d5ed-431f-aaf1-d453853f914b\" xlink:actuate=\"onRequest\" xlink:href=\"psysml:6925098a-d5ed-431f-aaf1-d453853f914b\" xlink:show=\"new\" xlink:title=\"psysml:6925098a-d5ed-431f-aaf1-d453853f914b\" xlink:type=\"simple\"><rect fill=\"#FEFECE\" filter=\"url(#f8ro55x8w4vft)\" height=\"45.9375\" id=\"E12\" rx=\"10\" ry=\"10\" style=\"stroke: #A80036; stroke-width: 1.5;\" width=\"113\" x=\"661.5\" y=\"162\"/><ellipse cx=\"676.5\" cy=\"180.9688\" fill=\"#FFA500\" rx=\"11\" ry=\"11\" style=\"stroke: #A80036; stroke-width: 1.0;\"/><path d=\"M676.25,186.4375 Q674.5,186.4375 673.5469,185.4063 Q672.6094,184.3594 672.6094,182.5156 L672.6094,175.625 L674.6719,175.625 L674.6719,175.7813 Q674.5781,175.875 674.5469,176.0156 Q674.5313,176.1406 674.5313,176.4063 L674.5313,182.5313 Q674.5313,183.625 674.9063,184.25 Q675.2813,184.875 676.2656,184.875 Q677.25,184.875 677.6406,184.25 Q678.0313,183.625 678.0313,182.4844 L678.0313,175.625 L679.9063,175.625 L679.9063,182.4688 Q679.9063,184.5 678.875,185.4688 Q677.8594,186.4375 676.25,186.4375 Z \"/><text fill=\"#000000\" font-family=\"sans-serif\" font-size=\"12\" font-style=\"italic\" lengthAdjust=\"spacingAndGlyphs\" textLength=\"85\" x=\"688.5\" y=\"178.1387\">«occurrence»</text><text fill=\"#000000\" font-family=\"sans-serif\" font-size=\"12\" lengthAdjust=\"spacingAndGlyphs\" textLength=\"13\" x=\"722.5\" y=\"192.1074\">t3</text><line style=\"stroke: #A80036; stroke-width: 1.5;\" x1=\"662.5\" x2=\"773.5\" y1=\"199.9375\" y2=\"199.9375\"/></a><!--MD5=[ee3c913d1a06f366521f9ef512b67efe]\n",
       "class E13--><a href=\"psysml:4e4d3416-6ae1-42d7-bc86-2084c913e314\" target=\"_top\" title=\"psysml:4e4d3416-6ae1-42d7-bc86-2084c913e314\" xlink:actuate=\"onRequest\" xlink:href=\"psysml:4e4d3416-6ae1-42d7-bc86-2084c913e314\" xlink:show=\"new\" xlink:title=\"psysml:4e4d3416-6ae1-42d7-bc86-2084c913e314\" xlink:type=\"simple\"><rect fill=\"#FEFECE\" filter=\"url(#f8ro55x8w4vft)\" height=\"45.9375\" id=\"E13\" rx=\"10\" ry=\"10\" style=\"stroke: #A80036; stroke-width: 1.5;\" width=\"113\" x=\"32.5\" y=\"283\"/><ellipse cx=\"47.5\" cy=\"301.9688\" fill=\"#FFA500\" rx=\"11\" ry=\"11\" style=\"stroke: #A80036; stroke-width: 1.0;\"/><path d=\"M47.25,307.4375 Q45.5,307.4375 44.5469,306.4063 Q43.6094,305.3594 43.6094,303.5156 L43.6094,296.625 L45.6719,296.625 L45.6719,296.7813 Q45.5781,296.875 45.5469,297.0156 Q45.5313,297.1406 45.5313,297.4063 L45.5313,303.5313 Q45.5313,304.625 45.9063,305.25 Q46.2813,305.875 47.2656,305.875 Q48.25,305.875 48.6406,305.25 Q49.0313,304.625 49.0313,303.4844 L49.0313,296.625 L50.9063,296.625 L50.9063,303.4688 Q50.9063,305.5 49.875,306.4688 Q48.8594,307.4375 47.25,307.4375 Z \"/><text fill=\"#000000\" font-family=\"sans-serif\" font-size=\"12\" font-style=\"italic\" lengthAdjust=\"spacingAndGlyphs\" textLength=\"85\" x=\"59.5\" y=\"299.1387\">«occurrence»</text><text fill=\"#000000\" font-family=\"sans-serif\" font-size=\"12\" lengthAdjust=\"spacingAndGlyphs\" textLength=\"42\" x=\"79\" y=\"313.1074\">s4: Ind</text><line style=\"stroke: #A80036; stroke-width: 1.5;\" x1=\"33.5\" x2=\"144.5\" y1=\"320.9375\" y2=\"320.9375\"/></a><!--MD5=[209b3feb70ccb6233bfe1053d122c12c]\n",
       "reverse link E2 to E3--><a href=\"psysml:62ea934f-12d4-42a0-b786-a1086ef654f4\" target=\"_top\" title=\"psysml:62ea934f-12d4-42a0-b786-a1086ef654f4\" xlink:actuate=\"onRequest\" xlink:href=\"psysml:62ea934f-12d4-42a0-b786-a1086ef654f4\" xlink:show=\"new\" xlink:title=\"psysml:62ea934f-12d4-42a0-b786-a1086ef654f4\" xlink:type=\"simple\"><path d=\"M306.73,231.49 C286.2,249.12 265.3,268.5 251.49,282.93 \" fill=\"none\" id=\"E2&lt;-E3\" style=\"stroke: #A80036; stroke-width: 1.0;\"/><polygon fill=\"#FFFFFF\" points=\"316.74,223,309.5759,223.8216,307.5789,230.7507,314.743,229.9291,316.74,223\" style=\"stroke: #A80036; stroke-width: 1.0;\"/></a><!--MD5=[05d275557350bfb9b23a4ef7222b4c39]\n",
       "link E3 to E2--><a href=\"psysml:72edb9ed-f456-4be1-846b-a7c4b7fb6ef3\" target=\"_top\" title=\"psysml:72edb9ed-f456-4be1-846b-a7c4b7fb6ef3\" xlink:actuate=\"onRequest\" xlink:href=\"psysml:72edb9ed-f456-4be1-846b-a7c4b7fb6ef3\" xlink:show=\"new\" xlink:title=\"psysml:72edb9ed-f456-4be1-846b-a7c4b7fb6ef3\" xlink:type=\"simple\"><path d=\"M272.44,282.93 C289.17,269.94 309.03,252.95 326.57,236.82 \" fill=\"none\" id=\"E3-&gt;E2\" style=\"stroke: #A80036; stroke-width: 1.0;\"/><polygon fill=\"#FFFFFF\" points=\"341.25,223,332.2118,241.1193,322.6166,230.9245,341.25,223\" style=\"stroke: #A80036; stroke-width: 1.0;\"/><ellipse cx=\"326.6903\" cy=\"243.5695\" fill=\"#A80036\" rx=\"2\" ry=\"2\" style=\"stroke: #A80036; stroke-width: 1.0;\"/><ellipse cx=\"319.8366\" cy=\"236.2875\" fill=\"#A80036\" rx=\"2\" ry=\"2\" style=\"stroke: #A80036; stroke-width: 1.0;\"/></a><!--MD5=[9618e71518536f8baf3342ff6fdab317]\n",
       "reverse link E2 to E4--><a href=\"psysml:1930a264-e184-4aca-ae40-6206f5d09a7f\" target=\"_top\" title=\"psysml:1930a264-e184-4aca-ae40-6206f5d09a7f\" xlink:actuate=\"onRequest\" xlink:href=\"psysml:1930a264-e184-4aca-ae40-6206f5d09a7f\" xlink:show=\"new\" xlink:title=\"psysml:1930a264-e184-4aca-ae40-6206f5d09a7f\" xlink:type=\"simple\"><path d=\"M363.73,236.34 C365.3,252.61 368.28,269.81 372.05,282.93 \" fill=\"none\" id=\"E2&lt;-E4\" style=\"stroke: #A80036; stroke-width: 1.0;\"/><polygon fill=\"#A80036\" points=\"362.76,223,359.206,229.2745,363.6309,234.9684,367.1849,228.6939,362.76,223\" style=\"stroke: #A80036; stroke-width: 1.0;\"/></a><!--MD5=[185131fc0dcab0a4505a2ebe144e961b]\n",
       "link E4 to E2--><a href=\"psysml:32367fe5-1bb2-4952-a335-a8970d1d9f84\" target=\"_top\" title=\"psysml:32367fe5-1bb2-4952-a335-a8970d1d9f84\" xlink:actuate=\"onRequest\" xlink:href=\"psysml:32367fe5-1bb2-4952-a335-a8970d1d9f84\" xlink:show=\"new\" xlink:title=\"psysml:32367fe5-1bb2-4952-a335-a8970d1d9f84\" xlink:type=\"simple\"><path d=\"M392.99,282.93 C393.5,271.52 392.57,257.01 390.64,242.72 \" fill=\"none\" id=\"E4-&gt;E2\" style=\"stroke: #A80036; stroke-width: 1.0;\"/><polygon fill=\"#FFFFFF\" points=\"387.27,223,397.3603,240.5553,383.5589,242.9055,387.27,223\" style=\"stroke: #A80036; stroke-width: 1.0;\"/><ellipse cx=\"396.3455\" cy=\"246.5101\" fill=\"#A80036\" rx=\"2\" ry=\"2\" style=\"stroke: #A80036; stroke-width: 1.0;\"/><ellipse cx=\"386.4874\" cy=\"248.1888\" fill=\"#A80036\" rx=\"2\" ry=\"2\" style=\"stroke: #A80036; stroke-width: 1.0;\"/></a><!--MD5=[4e1a83fab71cdb913c109063314ae896]\n",
       "reverse link E2 to E5--><a href=\"psysml:0faf658f-4e02-48cd-849b-e0220b5d7629\" target=\"_top\" title=\"psysml:0faf658f-4e02-48cd-849b-e0220b5d7629\" xlink:actuate=\"onRequest\" xlink:href=\"psysml:0faf658f-4e02-48cd-849b-e0220b5d7629\" xlink:show=\"new\" xlink:title=\"psysml:0faf658f-4e02-48cd-849b-e0220b5d7629\" xlink:type=\"simple\"><path d=\"M431.32,230.77 C455.74,248.59 482.73,268.3 502.77,282.93 \" fill=\"none\" id=\"E2&lt;-E5\" style=\"stroke: #A80036; stroke-width: 1.0;\"/><polygon fill=\"#A80036\" points=\"420.68,223,423.171,229.7672,430.3757,230.0706,427.8847,223.3034,420.68,223\" style=\"stroke: #A80036; stroke-width: 1.0;\"/></a><!--MD5=[ce036f65110ae2351ccce5a81dc2e928]\n",
       "reverse link E2 to E6--><a href=\"psysml:3f965610-dfca-4051-a1f3-35306b55574a\" target=\"_top\" title=\"psysml:3f965610-dfca-4051-a1f3-35306b55574a\" xlink:actuate=\"onRequest\" xlink:href=\"psysml:3f965610-dfca-4051-a1f3-35306b55574a\" xlink:show=\"new\" xlink:title=\"psysml:3f965610-dfca-4051-a1f3-35306b55574a\" xlink:type=\"simple\"><path d=\"M452.92,217.73 C507.04,238.44 576.28,264.93 624.2,283.27 \" fill=\"none\" id=\"E2&lt;-E6\" style=\"stroke: #A80036; stroke-width: 1.0;\"/><polygon fill=\"#A80036\" points=\"440.57,213,444.7458,218.879,451.7786,217.2856,447.6029,211.4066,440.57,213\" style=\"stroke: #A80036; stroke-width: 1.0;\"/></a><!--MD5=[3a9b96bfbf6b6ad89c494e81751bda47]\n",
       "link E5 to E7--><a href=\"psysml:5b4e0f94-bd6c-4a04-8036-e6bb7f85be93\" target=\"_top\" title=\"psysml:5b4e0f94-bd6c-4a04-8036-e6bb7f85be93\" xlink:actuate=\"onRequest\" xlink:href=\"psysml:5b4e0f94-bd6c-4a04-8036-e6bb7f85be93\" xlink:show=\"new\" xlink:title=\"psysml:5b4e0f94-bd6c-4a04-8036-e6bb7f85be93\" xlink:type=\"simple\"><path d=\"M533,329.06 C533,340.64 533,355.23 533,368.87 \" fill=\"none\" id=\"E5-&gt;E7\" style=\"stroke: #A80036; stroke-width: 1.0;\"/><polygon fill=\"#FFFFFF\" points=\"533,388.98,526,369.98,540,369.98,533,388.98\" style=\"stroke: #A80036; stroke-width: 1.0;\"/><ellipse cx=\"528\" cy=\"364.28\" fill=\"#A80036\" rx=\"2\" ry=\"2\" style=\"stroke: #A80036; stroke-width: 1.0;\"/><ellipse cx=\"538\" cy=\"364.28\" fill=\"#A80036\" rx=\"2\" ry=\"2\" style=\"stroke: #A80036; stroke-width: 1.0;\"/></a><!--MD5=[dc164f5e8a733ab456ef1add180e9e34]\n",
       "reverse link E7 to E8--><a href=\"psysml:37f490ca-8c9f-44ef-b281-38d91f32f2bf\" target=\"_top\" title=\"psysml:37f490ca-8c9f-44ef-b281-38d91f32f2bf\" xlink:actuate=\"onRequest\" xlink:href=\"psysml:37f490ca-8c9f-44ef-b281-38d91f32f2bf\" xlink:show=\"new\" xlink:title=\"psysml:37f490ca-8c9f-44ef-b281-38d91f32f2bf\" xlink:type=\"simple\"><path d=\"M509.45,446.09 C498.09,462.06 484.77,480.78 474.67,494.98 \" fill=\"none\" id=\"E7&lt;-E8\" style=\"stroke: #A80036; stroke-width: 1.0;\"/><polygon fill=\"#A80036\" points=\"517.31,435.06,510.5722,437.6295,510.3526,444.8373,517.0904,442.2678,517.31,435.06\" style=\"stroke: #A80036; stroke-width: 1.0;\"/></a><!--MD5=[e4a10ef82d0e328e31cac39a31e58dda]\n",
       "reverse link E7 to E9--><a href=\"psysml:c791e7ed-713f-4106-b9d5-0dfb97ea4543\" target=\"_top\" title=\"psysml:c791e7ed-713f-4106-b9d5-0dfb97ea4543\" xlink:actuate=\"onRequest\" xlink:href=\"psysml:c791e7ed-713f-4106-b9d5-0dfb97ea4543\" xlink:show=\"new\" xlink:title=\"psysml:c791e7ed-713f-4106-b9d5-0dfb97ea4543\" xlink:type=\"simple\"><path d=\"M556.55,446.09 C567.91,462.06 581.23,480.78 591.33,494.98 \" fill=\"none\" id=\"E7&lt;-E9\" style=\"stroke: #A80036; stroke-width: 1.0;\"/><polygon fill=\"#A80036\" points=\"548.69,435.06,548.9096,442.2678,555.6474,444.8373,555.4278,437.6295,548.69,435.06\" style=\"stroke: #A80036; stroke-width: 1.0;\"/></a><!--MD5=[a919e0967d6f3de553dc51b9865a1d6d]\n",
       "link E10 to E7--><a href=\"psysml:d7bf13fe-2343-4091-93b6-ccc05bfccd1c\" target=\"_top\" title=\"psysml:d7bf13fe-2343-4091-93b6-ccc05bfccd1c\" xlink:actuate=\"onRequest\" xlink:href=\"psysml:d7bf13fe-2343-4091-93b6-ccc05bfccd1c\" xlink:show=\"new\" xlink:title=\"psysml:d7bf13fe-2343-4091-93b6-ccc05bfccd1c\" xlink:type=\"simple\"><path d=\"M509.64,87.03 C491.43,120.22 464.49,183.35 496,223 C569.52,315.5 681.48,190.5 755,283 C799.02,338.38 702.69,374.35 623.39,393.66 \" fill=\"none\" id=\"E10-&gt;E7\" style=\"stroke: #A80036; stroke-width: 1.0;\"/><polygon fill=\"#FFFFFF\" points=\"603.69,398.21,620.6276,387.1142,623.7779,400.7552,603.69,398.21\" style=\"stroke: #A80036; stroke-width: 1.0;\"/><ellipse cx=\"626.6315\" cy=\"387.7803\" fill=\"#A80036\" rx=\"2\" ry=\"2\" style=\"stroke: #A80036; stroke-width: 1.0;\"/><ellipse cx=\"628.8817\" cy=\"397.5239\" fill=\"#A80036\" rx=\"2\" ry=\"2\" style=\"stroke: #A80036; stroke-width: 1.0;\"/></a><!--MD5=[0f36bececdf0dff6e600d6f64214b0f1]\n",
       "link E10 to E2--><a href=\"psysml:65e23dda-2765-4b86-8b8c-165f4272381c\" target=\"_top\" title=\"psysml:65e23dda-2765-4b86-8b8c-165f4272381c\" xlink:actuate=\"onRequest\" xlink:href=\"psysml:65e23dda-2765-4b86-8b8c-165f4272381c\" xlink:show=\"new\" xlink:title=\"psysml:65e23dda-2765-4b86-8b8c-165f4272381c\" xlink:type=\"simple\"><path d=\"M494.58,87.1 C477.43,100.44 454.87,117.99 433.65,134.49 \" fill=\"none\" id=\"E10-&gt;E2\" style=\"stroke: #A80036; stroke-width: 1.0;\"/><polygon fill=\"#FFFFFF\" points=\"417.81,146.81,428.5047,129.6163,437.1034,140.6646,417.81,146.81\" style=\"stroke: #A80036; stroke-width: 1.0;\"/><ellipse cx=\"434.2313\" cy=\"127.6938\" fill=\"#A80036\" rx=\"2\" ry=\"2\" style=\"stroke: #A80036; stroke-width: 1.0;\"/><ellipse cx=\"440.3732\" cy=\"135.5854\" fill=\"#A80036\" rx=\"2\" ry=\"2\" style=\"stroke: #A80036; stroke-width: 1.0;\"/></a><!--MD5=[de308be4a2431766a05a907a031c07fc]\n",
       "reverse link E10 to E11--><a href=\"psysml:996a22eb-9701-44d5-9cb6-35ae83d4d1b1\" target=\"_top\" title=\"psysml:996a22eb-9701-44d5-9cb6-35ae83d4d1b1\" xlink:actuate=\"onRequest\" xlink:href=\"psysml:996a22eb-9701-44d5-9cb6-35ae83d4d1b1\" xlink:show=\"new\" xlink:title=\"psysml:996a22eb-9701-44d5-9cb6-35ae83d4d1b1\" xlink:type=\"simple\"><path d=\"M536.61,99.47 C544.52,119.48 554.24,144.11 561.16,161.61 \" fill=\"none\" id=\"E10&lt;-E11\" style=\"stroke: #A80036; stroke-width: 1.0;\"/><polygon fill=\"#A80036\" points=\"531.73,87.1,530.2171,94.1506,536.1435,98.2589,537.6564,91.2083,531.73,87.1\" style=\"stroke: #A80036; stroke-width: 1.0;\"/></a><!--MD5=[1d54f998c6d5961a1a9184be73a7eb6c]\n",
       "reverse link E10 to E12--><a href=\"psysml:da3311a8-2759-47ea-b229-fd34ee887055\" target=\"_top\" title=\"psysml:da3311a8-2759-47ea-b229-fd34ee887055\" xlink:actuate=\"onRequest\" xlink:href=\"psysml:da3311a8-2759-47ea-b229-fd34ee887055\" xlink:show=\"new\" xlink:title=\"psysml:da3311a8-2759-47ea-b229-fd34ee887055\" xlink:type=\"simple\"><path d=\"M570.37,93.91 C604.63,114.81 650.23,142.64 681.64,161.81 \" fill=\"none\" id=\"E10&lt;-E12\" style=\"stroke: #A80036; stroke-width: 1.0;\"/><polygon fill=\"#A80036\" points=\"559.22,87.1,562.259,93.6395,569.4643,93.3494,566.4253,86.8099,559.22,87.1\" style=\"stroke: #A80036; stroke-width: 1.0;\"/></a><!--MD5=[4a48077df6499cfcd20b62e8f5f37904]\n",
       "link E13 to E7--><a href=\"psysml:fb78d99f-0705-4d43-aabd-2eaf1ce47389\" target=\"_top\" title=\"psysml:fb78d99f-0705-4d43-aabd-2eaf1ce47389\" xlink:actuate=\"onRequest\" xlink:href=\"psysml:fb78d99f-0705-4d43-aabd-2eaf1ce47389\" xlink:show=\"new\" xlink:title=\"psysml:fb78d99f-0705-4d43-aabd-2eaf1ce47389\" xlink:type=\"simple\"><path d=\"M145.85,324.34 C151.63,325.97 157.42,327.55 163,329 C257.81,353.57 367.45,377.29 442.63,392.84 \" fill=\"none\" id=\"E13-&gt;E7\" style=\"stroke: #A80036; stroke-width: 1.0;\"/><polygon fill=\"#FFFFFF\" points=\"462.4,396.91,442.3793,399.9385,445.1999,386.2256,462.4,396.91\" style=\"stroke: #A80036; stroke-width: 1.0;\"/><ellipse cx=\"437.1991\" cy=\"396.8311\" fill=\"#A80036\" rx=\"2\" ry=\"2\" style=\"stroke: #A80036; stroke-width: 1.0;\"/><ellipse cx=\"439.2138\" cy=\"387.0362\" fill=\"#A80036\" rx=\"2\" ry=\"2\" style=\"stroke: #A80036; stroke-width: 1.0;\"/></a><!--MD5=[59252d2567ddb044d5a5866a7477f01e]\n",
       "@startuml\r\n",
       " \r\n",
       "package \"OccurrenceTest\" as E1  [[psysml:76f03fcf-c31b-4704-ae9e-b44a23fd6ebe ]]  {\r\n",
       "comp def \"Occ\" as E2 << <<(D,brown) occurrence  def>> [[psysml:eaa0b96d-7da2-44a7-b980-6b6f36747918 ]] {\r\n",
       "- - attributes - -\r\n",
       "a\r\n",
       "}\r\n",
       "comp usage \"occ1: Occ \" as E3 << <<(U,orange) occurrence>> [[psysml:87fca259-1c14-4b5b-983e-37895f6ff77b ]] {\r\n",
       "}\r\n",
       "comp usage \"occ2: Occ \" as E4 << <<(U,orange) occurrence>> [[psysml:ffd2f288-180d-4271-8880-cf9706207ba2 ]] {\r\n",
       "}\r\n",
       "comp usage \"s: Ind \" as E5 << individual snapshot <<(U,orange) occurrence>> [[psysml:4e1769cc-a186-417e-91f0-587d1f1196e7 ]] {\r\n",
       "}\r\n",
       "comp usage \"t \" as E6 << timeslice <<(U,orange) occurrence>> [[psysml:9c61ac47-8b4e-45e2-802a-f3aa096140c4 ]] {\r\n",
       "}\r\n",
       "comp def \"Ind\" as E7 << individual <<(D,brown) occurrence  def>> [[psysml:54e4af67-f268-48a3-80b8-bc1579f32c01 ]] {\r\n",
       "}\r\n",
       "comp usage \"s2 \" as E8 << snapshot <<(U,orange) occurrence>> [[psysml:bfc31472-e77d-4111-949c-57e124b09868 ]] {\r\n",
       "}\r\n",
       "comp usage \"t2 \" as E9 << timeslice <<(U,orange) occurrence>> [[psysml:25521b86-d75d-41e6-9d0e-592064bc2653 ]] {\r\n",
       "}\r\n",
       "comp usage \"ind: Ind, Occ \" as E10 << individual <<(U,orange) occurrence>> [[psysml:ec83ca81-a881-4da3-97a0-46e2b6aae84c ]] {\r\n",
       "}\r\n",
       "comp usage \"s3 \" as E11 << snapshot <<(U,orange) occurrence>> [[psysml:fe74329f-5d2b-4ebe-b106-a7ecca7a6fbd ]] {\r\n",
       "}\r\n",
       "comp usage \"t3 \" as E12 << individual timeslice <<(U,orange) occurrence>> [[psysml:6925098a-d5ed-431f-aaf1-d453853f914b ]] {\r\n",
       "}\r\n",
       "comp usage \"s4: Ind \" as E13 << individual snapshot <<(U,orange) occurrence>> [[psysml:4e4d3416-6ae1-42d7-bc86-2084c913e314 ]] {\r\n",
       "}\r\n",
       "}\r\n",
       "E2 o- - E3 [[psysml:62ea934f-12d4-42a0-b786-a1086ef654f4 ]] \r\n",
       "E3 - -:|> E2 [[psysml:72edb9ed-f456-4be1-846b-a7c4b7fb6ef3 ]] \r\n",
       "E2 *- - E4 [[psysml:1930a264-e184-4aca-ae40-6206f5d09a7f ]] \r\n",
       "E4 - -:|> E2 [[psysml:32367fe5-1bb2-4952-a335-a8970d1d9f84 ]] \r\n",
       "E2 *- - E5 [[psysml:0faf658f-4e02-48cd-849b-e0220b5d7629 ]] \r\n",
       "E2 *- - E6 [[psysml:3f965610-dfca-4051-a1f3-35306b55574a ]] \r\n",
       "E5 - -:|> E7 [[psysml:5b4e0f94-bd6c-4a04-8036-e6bb7f85be93 ]] \r\n",
       "E7 *- - E8 [[psysml:37f490ca-8c9f-44ef-b281-38d91f32f2bf ]] \r\n",
       "E7 *- - E9 [[psysml:c791e7ed-713f-4106-b9d5-0dfb97ea4543 ]] \r\n",
       "E10 - -:|> E7 [[psysml:d7bf13fe-2343-4091-93b6-ccc05bfccd1c ]] \r\n",
       "E10 - -:|> E2 [[psysml:65e23dda-2765-4b86-8b8c-165f4272381c ]] \r\n",
       "E10 *- - E11 [[psysml:996a22eb-9701-44d5-9cb6-35ae83d4d1b1 ]] \r\n",
       "E10 *- - E12 [[psysml:da3311a8-2759-47ea-b229-fd34ee887055 ]] \r\n",
       "E13 - -:|> E7 [[psysml:fb78d99f-0705-4d43-aabd-2eaf1ce47389 ]] \r\n",
       "@enduml\r\n",
       "\n",
       "PlantUML version 1.2020.13(Sat Jun 13 12:26:38 UTC 2020)\n",
       "(EPL source distribution)\n",
       "Java Runtime: OpenJDK Runtime Environment\n",
       "JVM: OpenJDK 64-Bit Server VM\n",
       "Default Encoding: UTF-8\n",
       "Language: en\n",
       "Country: null\n",
       "--></g></svg>"
      ]
     },
     "execution_count": 36,
     "metadata": {},
     "output_type": "execute_result"
    }
   ],
   "source": [
    "%viz --style=\"PLANTUML\" --view=\"MIXED\" \"OccurrenceTest\""
   ]
  },
  {
   "cell_type": "code",
   "execution_count": 37,
   "id": "66da9cdf",
   "metadata": {
    "execution": {
     "iopub.execute_input": "2022-02-18T10:48:38.916889Z",
     "iopub.status.busy": "2022-02-18T10:48:38.916283Z",
     "iopub.status.idle": "2022-02-18T10:48:38.977772Z",
     "shell.execute_reply": "2022-02-18T10:48:38.977297Z"
    }
   },
   "outputs": [
    {
     "data": {
      "image/svg+xml": [
       "<?xml version=\"1.0\" encoding=\"UTF-8\" standalone=\"no\"?><svg xmlns=\"http://www.w3.org/2000/svg\" xmlns:xlink=\"http://www.w3.org/1999/xlink\" contentScriptType=\"application/ecmascript\" contentStyleType=\"text/css\" height=\"569px\" preserveAspectRatio=\"none\" style=\"width:1009px;height:569px;\" version=\"1.1\" viewBox=\"0 0 1009 569\" width=\"1009px\" zoomAndPan=\"magnify\"><defs/><g><!--MD5=[fbc87193dbaf4d95561dea2c320d4a47]\n",
       "cluster E1--><a href=\"psysml:76f03fcf-c31b-4704-ae9e-b44a23fd6ebe\" target=\"_top\" title=\"psysml:76f03fcf-c31b-4704-ae9e-b44a23fd6ebe\" xlink:actuate=\"onRequest\" xlink:href=\"psysml:76f03fcf-c31b-4704-ae9e-b44a23fd6ebe\" xlink:show=\"new\" xlink:title=\"psysml:76f03fcf-c31b-4704-ae9e-b44a23fd6ebe\" xlink:type=\"simple\"><polygon fill=\"#FFFFFF\" points=\"16,6,134,6,141,28.2969,970,28.2969,970,557,16,557,16,6\" style=\"stroke: #000000; stroke-width: 1.5;\"/><line style=\"stroke: #000000; stroke-width: 1.5;\" x1=\"16\" x2=\"141\" y1=\"28.2969\" y2=\"28.2969\"/><text fill=\"#000000\" font-family=\"sans-serif\" font-size=\"14\" font-weight=\"bold\" lengthAdjust=\"spacingAndGlyphs\" textLength=\"112\" x=\"20\" y=\"20.9951\">OccurrenceTest</text></a><!--MD5=[b4997ac47864f28c2f74865a473b2911]\n",
       "class E2--><a href=\"psysml:eaa0b96d-7da2-44a7-b980-6b6f36747918\" target=\"_top\" title=\"psysml:eaa0b96d-7da2-44a7-b980-6b6f36747918\" xlink:actuate=\"onRequest\" xlink:href=\"psysml:eaa0b96d-7da2-44a7-b980-6b6f36747918\" xlink:show=\"new\" xlink:title=\"psysml:eaa0b96d-7da2-44a7-b980-6b6f36747918\" xlink:type=\"simple\"><rect fill=\"#FFFFFF\" height=\"75.5469\" id=\"E2\" style=\"stroke: #383838; stroke-width: 1.5;\" width=\"115\" x=\"373.5\" y=\"147\"/><text fill=\"#000000\" font-family=\"sans-serif\" font-size=\"12\" font-style=\"italic\" lengthAdjust=\"spacingAndGlyphs\" textLength=\"113\" x=\"374.5\" y=\"163.1387\">«occurrence  def»</text><text fill=\"#000000\" font-family=\"sans-serif\" font-size=\"12\" lengthAdjust=\"spacingAndGlyphs\" textLength=\"23\" x=\"419.5\" y=\"177.1074\">Occ</text><line style=\"stroke: #383838; stroke-width: 1.5;\" x1=\"374.5\" x2=\"487.5\" y1=\"184.9375\" y2=\"184.9375\"/><text fill=\"#000000\" font-family=\"sans-serif\" font-size=\"11\" lengthAdjust=\"spacingAndGlyphs\" textLength=\"7\" x=\"379.5\" y=\"215.9526\">a</text><line style=\"stroke: #383838; stroke-width: 1.0;\" x1=\"374.5\" x2=\"403.5\" y1=\"199.3398\" y2=\"199.3398\"/><text fill=\"#000000\" font-family=\"sans-serif\" font-size=\"11\" lengthAdjust=\"spacingAndGlyphs\" textLength=\"55\" x=\"403.5\" y=\"202.6479\">attributes</text><line style=\"stroke: #383838; stroke-width: 1.0;\" x1=\"458.5\" x2=\"487.5\" y1=\"199.3398\" y2=\"199.3398\"/></a><!--MD5=[09b614a08d8cba4a07c9adeb5e0fee81]\n",
       "class E3--><a href=\"psysml:87fca259-1c14-4b5b-983e-37895f6ff77b\" target=\"_top\" title=\"psysml:87fca259-1c14-4b5b-983e-37895f6ff77b\" xlink:actuate=\"onRequest\" xlink:href=\"psysml:87fca259-1c14-4b5b-983e-37895f6ff77b\" xlink:show=\"new\" xlink:title=\"psysml:87fca259-1c14-4b5b-983e-37895f6ff77b\" xlink:type=\"simple\"><rect fill=\"#FFFFFF\" height=\"45.9375\" id=\"E3\" rx=\"10\" ry=\"10\" style=\"stroke: #383838; stroke-width: 1.5;\" width=\"87\" x=\"279.5\" y=\"283\"/><text fill=\"#000000\" font-family=\"sans-serif\" font-size=\"12\" font-style=\"italic\" lengthAdjust=\"spacingAndGlyphs\" textLength=\"85\" x=\"280.5\" y=\"299.1387\">«occurrence»</text><text fill=\"#000000\" font-family=\"sans-serif\" font-size=\"12\" lengthAdjust=\"spacingAndGlyphs\" textLength=\"61\" x=\"290.5\" y=\"313.1074\">occ1: Occ</text><line style=\"stroke: #383838; stroke-width: 1.5;\" x1=\"280.5\" x2=\"365.5\" y1=\"320.9375\" y2=\"320.9375\"/></a><!--MD5=[ebbe1d658d1005bcc118a6aa81145e00]\n",
       "class E4--><a href=\"psysml:ffd2f288-180d-4271-8880-cf9706207ba2\" target=\"_top\" title=\"psysml:ffd2f288-180d-4271-8880-cf9706207ba2\" xlink:actuate=\"onRequest\" xlink:href=\"psysml:ffd2f288-180d-4271-8880-cf9706207ba2\" xlink:show=\"new\" xlink:title=\"psysml:ffd2f288-180d-4271-8880-cf9706207ba2\" xlink:type=\"simple\"><rect fill=\"#FFFFFF\" height=\"45.9375\" id=\"E4\" rx=\"10\" ry=\"10\" style=\"stroke: #383838; stroke-width: 1.5;\" width=\"87\" x=\"401.5\" y=\"283\"/><text fill=\"#000000\" font-family=\"sans-serif\" font-size=\"12\" font-style=\"italic\" lengthAdjust=\"spacingAndGlyphs\" textLength=\"85\" x=\"402.5\" y=\"299.1387\">«occurrence»</text><text fill=\"#000000\" font-family=\"sans-serif\" font-size=\"12\" lengthAdjust=\"spacingAndGlyphs\" textLength=\"61\" x=\"412.5\" y=\"313.1074\">occ2: Occ</text><line style=\"stroke: #383838; stroke-width: 1.5;\" x1=\"402.5\" x2=\"487.5\" y1=\"320.9375\" y2=\"320.9375\"/></a><!--MD5=[270fce915f116d4de14055a7c1d9a0f3]\n",
       "class E5--><a href=\"psysml:4e1769cc-a186-417e-91f0-587d1f1196e7\" target=\"_top\" title=\"psysml:4e1769cc-a186-417e-91f0-587d1f1196e7\" xlink:actuate=\"onRequest\" xlink:href=\"psysml:4e1769cc-a186-417e-91f0-587d1f1196e7\" xlink:show=\"new\" xlink:title=\"psysml:4e1769cc-a186-417e-91f0-587d1f1196e7\" xlink:type=\"simple\"><rect fill=\"#FFFFFF\" height=\"45.9375\" id=\"E5\" rx=\"10\" ry=\"10\" style=\"stroke: #383838; stroke-width: 1.5;\" width=\"212\" x=\"524\" y=\"283\"/><text fill=\"#000000\" font-family=\"sans-serif\" font-size=\"12\" font-style=\"italic\" lengthAdjust=\"spacingAndGlyphs\" textLength=\"210\" x=\"525\" y=\"299.1387\">«individual snapshot occurrence»</text><text fill=\"#000000\" font-family=\"sans-serif\" font-size=\"12\" lengthAdjust=\"spacingAndGlyphs\" textLength=\"34\" x=\"611\" y=\"313.1074\">s: Ind</text><line style=\"stroke: #383838; stroke-width: 1.5;\" x1=\"525\" x2=\"735\" y1=\"320.9375\" y2=\"320.9375\"/></a><!--MD5=[60a26617385b1d2d0262a64233df1f8d]\n",
       "class E6--><a href=\"psysml:9c61ac47-8b4e-45e2-802a-f3aa096140c4\" target=\"_top\" title=\"psysml:9c61ac47-8b4e-45e2-802a-f3aa096140c4\" xlink:actuate=\"onRequest\" xlink:href=\"psysml:9c61ac47-8b4e-45e2-802a-f3aa096140c4\" xlink:show=\"new\" xlink:title=\"psysml:9c61ac47-8b4e-45e2-802a-f3aa096140c4\" xlink:type=\"simple\"><rect fill=\"#FFFFFF\" height=\"45.9375\" id=\"E6\" rx=\"10\" ry=\"10\" style=\"stroke: #383838; stroke-width: 1.5;\" width=\"146\" x=\"771\" y=\"283\"/><text fill=\"#000000\" font-family=\"sans-serif\" font-size=\"12\" font-style=\"italic\" lengthAdjust=\"spacingAndGlyphs\" textLength=\"144\" x=\"772\" y=\"299.1387\">«timeslice occurrence»</text><text fill=\"#000000\" font-family=\"sans-serif\" font-size=\"12\" lengthAdjust=\"spacingAndGlyphs\" textLength=\"5\" x=\"839.5\" y=\"313.1074\">t</text><line style=\"stroke: #383838; stroke-width: 1.5;\" x1=\"772\" x2=\"916\" y1=\"320.9375\" y2=\"320.9375\"/></a><!--MD5=[2156ba9850f5573cc1fc38a6a4b2f02b]\n",
       "class E7--><a href=\"psysml:54e4af67-f268-48a3-80b8-bc1579f32c01\" target=\"_top\" title=\"psysml:54e4af67-f268-48a3-80b8-bc1579f32c01\" xlink:actuate=\"onRequest\" xlink:href=\"psysml:54e4af67-f268-48a3-80b8-bc1579f32c01\" xlink:show=\"new\" xlink:title=\"psysml:54e4af67-f268-48a3-80b8-bc1579f32c01\" xlink:type=\"simple\"><rect fill=\"#FFFFFF\" height=\"45.9375\" id=\"E7\" style=\"stroke: #383838; stroke-width: 1.5;\" width=\"177\" x=\"541.5\" y=\"389\"/><text fill=\"#000000\" font-family=\"sans-serif\" font-size=\"12\" font-style=\"italic\" lengthAdjust=\"spacingAndGlyphs\" textLength=\"175\" x=\"542.5\" y=\"405.1387\">«individual occurrence  def»</text><text fill=\"#000000\" font-family=\"sans-serif\" font-size=\"12\" lengthAdjust=\"spacingAndGlyphs\" textLength=\"19\" x=\"620.5\" y=\"419.1074\">Ind</text><line style=\"stroke: #383838; stroke-width: 1.5;\" x1=\"542.5\" x2=\"717.5\" y1=\"426.9375\" y2=\"426.9375\"/></a><!--MD5=[b9389687b975829384b498ac4b7476b2]\n",
       "class E8--><a href=\"psysml:bfc31472-e77d-4111-949c-57e124b09868\" target=\"_top\" title=\"psysml:bfc31472-e77d-4111-949c-57e124b09868\" xlink:actuate=\"onRequest\" xlink:href=\"psysml:bfc31472-e77d-4111-949c-57e124b09868\" xlink:show=\"new\" xlink:title=\"psysml:bfc31472-e77d-4111-949c-57e124b09868\" xlink:type=\"simple\"><rect fill=\"#FFFFFF\" height=\"45.9375\" id=\"E8\" rx=\"10\" ry=\"10\" style=\"stroke: #383838; stroke-width: 1.5;\" width=\"150\" x=\"463\" y=\"495\"/><text fill=\"#000000\" font-family=\"sans-serif\" font-size=\"12\" font-style=\"italic\" lengthAdjust=\"spacingAndGlyphs\" textLength=\"148\" x=\"464\" y=\"511.1387\">«snapshot occurrence»</text><text fill=\"#000000\" font-family=\"sans-serif\" font-size=\"12\" lengthAdjust=\"spacingAndGlyphs\" textLength=\"15\" x=\"528.5\" y=\"525.1074\">s2</text><line style=\"stroke: #383838; stroke-width: 1.5;\" x1=\"464\" x2=\"612\" y1=\"532.9375\" y2=\"532.9375\"/></a><!--MD5=[fd4143e9d270a159db93a4ea2a975926]\n",
       "class E9--><a href=\"psysml:25521b86-d75d-41e6-9d0e-592064bc2653\" target=\"_top\" title=\"psysml:25521b86-d75d-41e6-9d0e-592064bc2653\" xlink:actuate=\"onRequest\" xlink:href=\"psysml:25521b86-d75d-41e6-9d0e-592064bc2653\" xlink:show=\"new\" xlink:title=\"psysml:25521b86-d75d-41e6-9d0e-592064bc2653\" xlink:type=\"simple\"><rect fill=\"#FFFFFF\" height=\"45.9375\" id=\"E9\" rx=\"10\" ry=\"10\" style=\"stroke: #383838; stroke-width: 1.5;\" width=\"146\" x=\"648\" y=\"495\"/><text fill=\"#000000\" font-family=\"sans-serif\" font-size=\"12\" font-style=\"italic\" lengthAdjust=\"spacingAndGlyphs\" textLength=\"144\" x=\"649\" y=\"511.1387\">«timeslice occurrence»</text><text fill=\"#000000\" font-family=\"sans-serif\" font-size=\"12\" lengthAdjust=\"spacingAndGlyphs\" textLength=\"13\" x=\"712.5\" y=\"525.1074\">t2</text><line style=\"stroke: #383838; stroke-width: 1.5;\" x1=\"649\" x2=\"793\" y1=\"532.9375\" y2=\"532.9375\"/></a><!--MD5=[96f4274e9e20536e775497830990834d]\n",
       "class E10--><a href=\"psysml:ec83ca81-a881-4da3-97a0-46e2b6aae84c\" target=\"_top\" title=\"psysml:ec83ca81-a881-4da3-97a0-46e2b6aae84c\" xlink:actuate=\"onRequest\" xlink:href=\"psysml:ec83ca81-a881-4da3-97a0-46e2b6aae84c\" xlink:show=\"new\" xlink:title=\"psysml:ec83ca81-a881-4da3-97a0-46e2b6aae84c\" xlink:type=\"simple\"><rect fill=\"#FFFFFF\" height=\"45.9375\" id=\"E10\" rx=\"10\" ry=\"10\" style=\"stroke: #383838; stroke-width: 1.5;\" width=\"149\" x=\"505.5\" y=\"41\"/><text fill=\"#000000\" font-family=\"sans-serif\" font-size=\"12\" font-style=\"italic\" lengthAdjust=\"spacingAndGlyphs\" textLength=\"147\" x=\"506.5\" y=\"57.1387\">«individual occurrence»</text><text fill=\"#000000\" font-family=\"sans-serif\" font-size=\"12\" lengthAdjust=\"spacingAndGlyphs\" textLength=\"77\" x=\"539.5\" y=\"71.1074\">ind: Ind, Occ</text><line style=\"stroke: #383838; stroke-width: 1.5;\" x1=\"506.5\" x2=\"653.5\" y1=\"78.9375\" y2=\"78.9375\"/></a><!--MD5=[1dd1bfd58a279cf63c5f349dbc8fc6a1]\n",
       "class E11--><a href=\"psysml:fe74329f-5d2b-4ebe-b106-a7ecca7a6fbd\" target=\"_top\" title=\"psysml:fe74329f-5d2b-4ebe-b106-a7ecca7a6fbd\" xlink:actuate=\"onRequest\" xlink:href=\"psysml:fe74329f-5d2b-4ebe-b106-a7ecca7a6fbd\" xlink:show=\"new\" xlink:title=\"psysml:fe74329f-5d2b-4ebe-b106-a7ecca7a6fbd\" xlink:type=\"simple\"><rect fill=\"#FFFFFF\" height=\"45.9375\" id=\"E11\" rx=\"10\" ry=\"10\" style=\"stroke: #383838; stroke-width: 1.5;\" width=\"150\" x=\"561\" y=\"162\"/><text fill=\"#000000\" font-family=\"sans-serif\" font-size=\"12\" font-style=\"italic\" lengthAdjust=\"spacingAndGlyphs\" textLength=\"148\" x=\"562\" y=\"178.1387\">«snapshot occurrence»</text><text fill=\"#000000\" font-family=\"sans-serif\" font-size=\"12\" lengthAdjust=\"spacingAndGlyphs\" textLength=\"15\" x=\"626.5\" y=\"192.1074\">s3</text><line style=\"stroke: #383838; stroke-width: 1.5;\" x1=\"562\" x2=\"710\" y1=\"199.9375\" y2=\"199.9375\"/></a><!--MD5=[49a0ec8f00dab7302a31f22d0f0fe584]\n",
       "class E12--><a href=\"psysml:6925098a-d5ed-431f-aaf1-d453853f914b\" target=\"_top\" title=\"psysml:6925098a-d5ed-431f-aaf1-d453853f914b\" xlink:actuate=\"onRequest\" xlink:href=\"psysml:6925098a-d5ed-431f-aaf1-d453853f914b\" xlink:show=\"new\" xlink:title=\"psysml:6925098a-d5ed-431f-aaf1-d453853f914b\" xlink:type=\"simple\"><rect fill=\"#FFFFFF\" height=\"45.9375\" id=\"E12\" rx=\"10\" ry=\"10\" style=\"stroke: #383838; stroke-width: 1.5;\" width=\"208\" x=\"746\" y=\"162\"/><text fill=\"#000000\" font-family=\"sans-serif\" font-size=\"12\" font-style=\"italic\" lengthAdjust=\"spacingAndGlyphs\" textLength=\"206\" x=\"747\" y=\"178.1387\">«individual timeslice occurrence»</text><text fill=\"#000000\" font-family=\"sans-serif\" font-size=\"12\" lengthAdjust=\"spacingAndGlyphs\" textLength=\"13\" x=\"841.5\" y=\"192.1074\">t3</text><line style=\"stroke: #383838; stroke-width: 1.5;\" x1=\"747\" x2=\"953\" y1=\"199.9375\" y2=\"199.9375\"/></a><!--MD5=[ee3c913d1a06f366521f9ef512b67efe]\n",
       "class E13--><a href=\"psysml:4e4d3416-6ae1-42d7-bc86-2084c913e314\" target=\"_top\" title=\"psysml:4e4d3416-6ae1-42d7-bc86-2084c913e314\" xlink:actuate=\"onRequest\" xlink:href=\"psysml:4e4d3416-6ae1-42d7-bc86-2084c913e314\" xlink:show=\"new\" xlink:title=\"psysml:4e4d3416-6ae1-42d7-bc86-2084c913e314\" xlink:type=\"simple\"><rect fill=\"#FFFFFF\" height=\"45.9375\" id=\"E13\" rx=\"10\" ry=\"10\" style=\"stroke: #383838; stroke-width: 1.5;\" width=\"212\" x=\"32\" y=\"283\"/><text fill=\"#000000\" font-family=\"sans-serif\" font-size=\"12\" font-style=\"italic\" lengthAdjust=\"spacingAndGlyphs\" textLength=\"210\" x=\"33\" y=\"299.1387\">«individual snapshot occurrence»</text><text fill=\"#000000\" font-family=\"sans-serif\" font-size=\"12\" lengthAdjust=\"spacingAndGlyphs\" textLength=\"42\" x=\"115\" y=\"313.1074\">s4: Ind</text><line style=\"stroke: #383838; stroke-width: 1.5;\" x1=\"33\" x2=\"243\" y1=\"320.9375\" y2=\"320.9375\"/></a><!--MD5=[209b3feb70ccb6233bfe1053d122c12c]\n",
       "reverse link E2 to E3--><a href=\"psysml:62ea934f-12d4-42a0-b786-a1086ef654f4\" target=\"_top\" title=\"psysml:62ea934f-12d4-42a0-b786-a1086ef654f4\" xlink:actuate=\"onRequest\" xlink:href=\"psysml:62ea934f-12d4-42a0-b786-a1086ef654f4\" xlink:show=\"new\" xlink:title=\"psysml:62ea934f-12d4-42a0-b786-a1086ef654f4\" xlink:type=\"simple\"><path d=\"M376.37,232.45 C359.85,249.83 343.43,268.76 332.86,282.93 \" fill=\"none\" id=\"E2&lt;-E3\" style=\"stroke: #383838; stroke-width: 1.0;\"/><polygon fill=\"#FFFFFF\" points=\"385.52,223,378.4729,224.5294,377.1743,231.6226,384.2213,230.0932,385.52,223\" style=\"stroke: #383838; stroke-width: 1.0;\"/></a><!--MD5=[05d275557350bfb9b23a4ef7222b4c39]\n",
       "link E3 to E2--><a href=\"psysml:72edb9ed-f456-4be1-846b-a7c4b7fb6ef3\" target=\"_top\" title=\"psysml:72edb9ed-f456-4be1-846b-a7c4b7fb6ef3\" xlink:actuate=\"onRequest\" xlink:href=\"psysml:72edb9ed-f456-4be1-846b-a7c4b7fb6ef3\" xlink:show=\"new\" xlink:title=\"psysml:72edb9ed-f456-4be1-846b-a7c4b7fb6ef3\" xlink:type=\"simple\"><path d=\"M353.8,282.93 C367.38,270.34 383.11,253.98 396.95,238.29 \" fill=\"none\" id=\"E3-&gt;E2\" style=\"stroke: #383838; stroke-width: 1.0;\"/><polygon fill=\"#FFFFFF\" points=\"410.02,223,403.0007,241.9929,392.3563,232.8991,410.02,223\" style=\"stroke: #383838; stroke-width: 1.0;\"/><ellipse cx=\"397.7776\" cy=\"245.0276\" fill=\"#383838\" rx=\"2\" ry=\"2\" style=\"stroke: #383838; stroke-width: 1.0;\"/><ellipse cx=\"390.1744\" cy=\"238.532\" fill=\"#383838\" rx=\"2\" ry=\"2\" style=\"stroke: #383838; stroke-width: 1.0;\"/></a><!--MD5=[9618e71518536f8baf3342ff6fdab317]\n",
       "reverse link E2 to E4--><a href=\"psysml:1930a264-e184-4aca-ae40-6206f5d09a7f\" target=\"_top\" title=\"psysml:1930a264-e184-4aca-ae40-6206f5d09a7f\" xlink:actuate=\"onRequest\" xlink:href=\"psysml:1930a264-e184-4aca-ae40-6206f5d09a7f\" xlink:show=\"new\" xlink:title=\"psysml:1930a264-e184-4aca-ae40-6206f5d09a7f\" xlink:type=\"simple\"><path d=\"M424.31,236.34 C425.74,252.61 428.58,269.81 432.23,282.93 \" fill=\"none\" id=\"E2&lt;-E4\" style=\"stroke: #383838; stroke-width: 1.0;\"/><polygon fill=\"#383838\" points=\"423.45,223,419.8475,229.2467,424.2281,234.9747,427.8306,228.728,423.45,223\" style=\"stroke: #383838; stroke-width: 1.0;\"/></a><!--MD5=[185131fc0dcab0a4505a2ebe144e961b]\n",
       "link E4 to E2--><a href=\"psysml:32367fe5-1bb2-4952-a335-a8970d1d9f84\" target=\"_top\" title=\"psysml:32367fe5-1bb2-4952-a335-a8970d1d9f84\" xlink:actuate=\"onRequest\" xlink:href=\"psysml:32367fe5-1bb2-4952-a335-a8970d1d9f84\" xlink:show=\"new\" xlink:title=\"psysml:32367fe5-1bb2-4952-a335-a8970d1d9f84\" xlink:type=\"simple\"><path d=\"M453.17,282.93 C453.77,271.65 452.99,257.34 451.22,243.21 \" fill=\"none\" id=\"E4-&gt;E2\" style=\"stroke: #383838; stroke-width: 1.0;\"/><polygon fill=\"#FFFFFF\" points=\"447.96,223,457.8973,240.6423,444.0761,242.8725,447.96,223\" style=\"stroke: #383838; stroke-width: 1.0;\"/><ellipse cx=\"456.8309\" cy=\"246.5881\" fill=\"#383838\" rx=\"2\" ry=\"2\" style=\"stroke: #383838; stroke-width: 1.0;\"/><ellipse cx=\"446.9586\" cy=\"248.1811\" fill=\"#383838\" rx=\"2\" ry=\"2\" style=\"stroke: #383838; stroke-width: 1.0;\"/></a><!--MD5=[4e1a83fab71cdb913c109063314ae896]\n",
       "reverse link E2 to E5--><a href=\"psysml:0faf658f-4e02-48cd-849b-e0220b5d7629\" target=\"_top\" title=\"psysml:0faf658f-4e02-48cd-849b-e0220b5d7629\" xlink:actuate=\"onRequest\" xlink:href=\"psysml:0faf658f-4e02-48cd-849b-e0220b5d7629\" xlink:show=\"new\" xlink:title=\"psysml:0faf658f-4e02-48cd-849b-e0220b5d7629\" xlink:type=\"simple\"><path d=\"M499.85,227.17 C531.12,245.87 566.86,267.24 592.97,282.85 \" fill=\"none\" id=\"E2&lt;-E5\" style=\"stroke: #383838; stroke-width: 1.0;\"/><polygon fill=\"#383838\" points=\"488.56,220.42,491.6568,226.9323,498.8592,226.5784,495.7624,220.0661,488.56,220.42\" style=\"stroke: #383838; stroke-width: 1.0;\"/></a><!--MD5=[ce036f65110ae2351ccce5a81dc2e928]\n",
       "reverse link E2 to E6--><a href=\"psysml:3f965610-dfca-4051-a1f3-35306b55574a\" target=\"_top\" title=\"psysml:3f965610-dfca-4051-a1f3-35306b55574a\" xlink:actuate=\"onRequest\" xlink:href=\"psysml:3f965610-dfca-4051-a1f3-35306b55574a\" xlink:show=\"new\" xlink:title=\"psysml:3f965610-dfca-4051-a1f3-35306b55574a\" xlink:type=\"simple\"><path d=\"M501.02,217.55 C506.06,219.49 511.08,221.33 516,223 C528.19,227.15 677.82,264.14 770.71,287 \" fill=\"none\" id=\"E2&lt;-E6\" style=\"stroke: #383838; stroke-width: 1.0;\"/><polygon fill=\"#383838\" points=\"488.57,212.58,492.6577,218.5206,499.7135,217.0321,495.6258,211.0916,488.57,212.58\" style=\"stroke: #383838; stroke-width: 1.0;\"/></a><!--MD5=[3a9b96bfbf6b6ad89c494e81751bda47]\n",
       "link E5 to E7--><a href=\"psysml:5b4e0f94-bd6c-4a04-8036-e6bb7f85be93\" target=\"_top\" title=\"psysml:5b4e0f94-bd6c-4a04-8036-e6bb7f85be93\" xlink:actuate=\"onRequest\" xlink:href=\"psysml:5b4e0f94-bd6c-4a04-8036-e6bb7f85be93\" xlink:show=\"new\" xlink:title=\"psysml:5b4e0f94-bd6c-4a04-8036-e6bb7f85be93\" xlink:type=\"simple\"><path d=\"M630,329.06 C630,340.64 630,355.23 630,368.87 \" fill=\"none\" id=\"E5-&gt;E7\" style=\"stroke: #383838; stroke-width: 1.0;\"/><polygon fill=\"#FFFFFF\" points=\"630,388.98,623,369.98,637,369.98,630,388.98\" style=\"stroke: #383838; stroke-width: 1.0;\"/><ellipse cx=\"625\" cy=\"364.28\" fill=\"#383838\" rx=\"2\" ry=\"2\" style=\"stroke: #383838; stroke-width: 1.0;\"/><ellipse cx=\"635\" cy=\"364.28\" fill=\"#383838\" rx=\"2\" ry=\"2\" style=\"stroke: #383838; stroke-width: 1.0;\"/></a><!--MD5=[dc164f5e8a733ab456ef1add180e9e34]\n",
       "reverse link E7 to E8--><a href=\"psysml:37f490ca-8c9f-44ef-b281-38d91f32f2bf\" target=\"_top\" title=\"psysml:37f490ca-8c9f-44ef-b281-38d91f32f2bf\" xlink:actuate=\"onRequest\" xlink:href=\"psysml:37f490ca-8c9f-44ef-b281-38d91f32f2bf\" xlink:show=\"new\" xlink:title=\"psysml:37f490ca-8c9f-44ef-b281-38d91f32f2bf\" xlink:type=\"simple\"><path d=\"M601.55,445.16 C587.25,461.33 570.28,480.51 557.48,494.98 \" fill=\"none\" id=\"E7&lt;-E8\" style=\"stroke: #383838; stroke-width: 1.0;\"/><polygon fill=\"#383838\" points=\"610.49,435.06,603.5177,436.9004,602.5348,444.0442,609.5071,442.2038,610.49,435.06\" style=\"stroke: #383838; stroke-width: 1.0;\"/></a><!--MD5=[e4a10ef82d0e328e31cac39a31e58dda]\n",
       "reverse link E7 to E9--><a href=\"psysml:c791e7ed-713f-4106-b9d5-0dfb97ea4543\" target=\"_top\" title=\"psysml:c791e7ed-713f-4106-b9d5-0dfb97ea4543\" xlink:actuate=\"onRequest\" xlink:href=\"psysml:c791e7ed-713f-4106-b9d5-0dfb97ea4543\" xlink:show=\"new\" xlink:title=\"psysml:c791e7ed-713f-4106-b9d5-0dfb97ea4543\" xlink:type=\"simple\"><path d=\"M658.14,445.16 C672.29,461.33 689.07,480.51 701.73,494.98 \" fill=\"none\" id=\"E7&lt;-E9\" style=\"stroke: #383838; stroke-width: 1.0;\"/><polygon fill=\"#383838\" points=\"649.3,435.06,650.2496,442.2083,657.2133,444.0811,656.2637,436.9328,649.3,435.06\" style=\"stroke: #383838; stroke-width: 1.0;\"/></a><!--MD5=[a919e0967d6f3de553dc51b9865a1d6d]\n",
       "link E10 to E7--><a href=\"psysml:d7bf13fe-2343-4091-93b6-ccc05bfccd1c\" target=\"_top\" title=\"psysml:d7bf13fe-2343-4091-93b6-ccc05bfccd1c\" xlink:actuate=\"onRequest\" xlink:href=\"psysml:d7bf13fe-2343-4091-93b6-ccc05bfccd1c\" xlink:show=\"new\" xlink:title=\"psysml:d7bf13fe-2343-4091-93b6-ccc05bfccd1c\" xlink:type=\"simple\"><path d=\"M564.36,87.23 C542.92,120.68 510.65,184.15 544,223 C658.5,356.41 820.5,149.59 935,283 C997.3,355.58 849.41,387.9 738.47,401.63 \" fill=\"none\" id=\"E10-&gt;E7\" style=\"stroke: #383838; stroke-width: 1.0;\"/><polygon fill=\"#FFFFFF\" points=\"718.6,403.94,736.6627,394.7891,738.2822,408.6951,718.6,403.94\" style=\"stroke: #383838; stroke-width: 1.0;\"/><ellipse cx=\"742.5558\" cy=\"396.1162\" fill=\"#383838\" rx=\"2\" ry=\"2\" style=\"stroke: #383838; stroke-width: 1.0;\"/><ellipse cx=\"743.7126\" cy=\"406.0491\" fill=\"#383838\" rx=\"2\" ry=\"2\" style=\"stroke: #383838; stroke-width: 1.0;\"/></a><!--MD5=[0f36bececdf0dff6e600d6f64214b0f1]\n",
       "link E10 to E2--><a href=\"psysml:65e23dda-2765-4b86-8b8c-165f4272381c\" target=\"_top\" title=\"psysml:65e23dda-2765-4b86-8b8c-165f4272381c\" xlink:actuate=\"onRequest\" xlink:href=\"psysml:65e23dda-2765-4b86-8b8c-165f4272381c\" xlink:show=\"new\" xlink:title=\"psysml:65e23dda-2765-4b86-8b8c-165f4272381c\" xlink:type=\"simple\"><path d=\"M552.32,87.1 C535.71,100.38 513.86,117.82 493.29,134.25 \" fill=\"none\" id=\"E10-&gt;E2\" style=\"stroke: #383838; stroke-width: 1.0;\"/><polygon fill=\"#FFFFFF\" points=\"477.56,146.81,488.0352,129.4817,496.7737,140.4197,477.56,146.81\" style=\"stroke: #383838; stroke-width: 1.0;\"/><ellipse cx=\"493.7369\" cy=\"127.4865\" fill=\"#383838\" rx=\"2\" ry=\"2\" style=\"stroke: #383838; stroke-width: 1.0;\"/><ellipse cx=\"499.9786\" cy=\"135.2994\" fill=\"#383838\" rx=\"2\" ry=\"2\" style=\"stroke: #383838; stroke-width: 1.0;\"/></a><!--MD5=[de308be4a2431766a05a907a031c07fc]\n",
       "reverse link E10 to E11--><a href=\"psysml:996a22eb-9701-44d5-9cb6-35ae83d4d1b1\" target=\"_top\" title=\"psysml:996a22eb-9701-44d5-9cb6-35ae83d4d1b1\" xlink:actuate=\"onRequest\" xlink:href=\"psysml:996a22eb-9701-44d5-9cb6-35ae83d4d1b1\" xlink:show=\"new\" xlink:title=\"psysml:996a22eb-9701-44d5-9cb6-35ae83d4d1b1\" xlink:type=\"simple\"><path d=\"M595.95,98.9 C605.42,119.01 617.15,143.94 625.46,161.61 \" fill=\"none\" id=\"E10&lt;-E11\" style=\"stroke: #383838; stroke-width: 1.0;\"/><polygon fill=\"#383838\" points=\"590.4,87.1,589.3334,94.2318,595.5064,97.9593,596.573,90.8275,590.4,87.1\" style=\"stroke: #383838; stroke-width: 1.0;\"/></a><!--MD5=[1d54f998c6d5961a1a9184be73a7eb6c]\n",
       "reverse link E10 to E12--><a href=\"psysml:da3311a8-2759-47ea-b229-fd34ee887055\" target=\"_top\" title=\"psysml:da3311a8-2759-47ea-b229-fd34ee887055\" xlink:actuate=\"onRequest\" xlink:href=\"psysml:da3311a8-2759-47ea-b229-fd34ee887055\" xlink:show=\"new\" xlink:title=\"psysml:da3311a8-2759-47ea-b229-fd34ee887055\" xlink:type=\"simple\"><path d=\"M642.21,92.42 C689.99,113.48 755.13,142.19 799.66,161.81 \" fill=\"none\" id=\"E10&lt;-E12\" style=\"stroke: #383838; stroke-width: 1.0;\"/><polygon fill=\"#383838\" points=\"630.15,87.1,634.028,93.1796,641.1314,91.9382,637.2534,85.8586,630.15,87.1\" style=\"stroke: #383838; stroke-width: 1.0;\"/></a><!--MD5=[4a48077df6499cfcd20b62e8f5f37904]\n",
       "link E13 to E7--><a href=\"psysml:fb78d99f-0705-4d43-aabd-2eaf1ce47389\" target=\"_top\" title=\"psysml:fb78d99f-0705-4d43-aabd-2eaf1ce47389\" xlink:actuate=\"onRequest\" xlink:href=\"psysml:fb78d99f-0705-4d43-aabd-2eaf1ce47389\" xlink:show=\"new\" xlink:title=\"psysml:fb78d99f-0705-4d43-aabd-2eaf1ce47389\" xlink:type=\"simple\"><path d=\"M242.34,329.06 C324.51,346.43 438.67,370.56 521.82,388.13 \" fill=\"none\" id=\"E13-&gt;E7\" style=\"stroke: #383838; stroke-width: 1.0;\"/><polygon fill=\"#FFFFFF\" points=\"541.45,392.28,521.4143,395.2075,524.304,381.509,541.45,392.28\" style=\"stroke: #383838; stroke-width: 1.0;\"/><ellipse cx=\"516.2498\" cy=\"392.0741\" fill=\"#383838\" rx=\"2\" ry=\"2\" style=\"stroke: #383838; stroke-width: 1.0;\"/><ellipse cx=\"518.3139\" cy=\"382.2894\" fill=\"#383838\" rx=\"2\" ry=\"2\" style=\"stroke: #383838; stroke-width: 1.0;\"/></a><!--MD5=[da1a9e083bf8e4e1115143f909bbf2dd]\n",
       "@startuml\r\n",
       "skinparam monochrome true\r\n",
       "skinparam classbackgroundcolor white\r\n",
       "skinparam shadowing false\r\n",
       "skinparam wrapWidth 300\r\n",
       "hide circle\r\n",
       "\r\n",
       "package \"OccurrenceTest\" as E1  [[psysml:76f03fcf-c31b-4704-ae9e-b44a23fd6ebe ]]  {\r\n",
       "comp def \"Occ\" as E2  <<(T,blue) occurrence  def>> [[psysml:eaa0b96d-7da2-44a7-b980-6b6f36747918 ]] {\r\n",
       "- - attributes - -\r\n",
       "a\r\n",
       "}\r\n",
       "comp usage \"occ1: Occ \" as E3  <<(T,blue) occurrence>> [[psysml:87fca259-1c14-4b5b-983e-37895f6ff77b ]] {\r\n",
       "}\r\n",
       "comp usage \"occ2: Occ \" as E4  <<(T,blue) occurrence>> [[psysml:ffd2f288-180d-4271-8880-cf9706207ba2 ]] {\r\n",
       "}\r\n",
       "comp usage \"s: Ind \" as E5  <<(T,blue) individual snapshot occurrence>> [[psysml:4e1769cc-a186-417e-91f0-587d1f1196e7 ]] {\r\n",
       "}\r\n",
       "comp usage \"t \" as E6  <<(T,blue) timeslice occurrence>> [[psysml:9c61ac47-8b4e-45e2-802a-f3aa096140c4 ]] {\r\n",
       "}\r\n",
       "comp def \"Ind\" as E7  <<(T,blue) individual occurrence  def>> [[psysml:54e4af67-f268-48a3-80b8-bc1579f32c01 ]] {\r\n",
       "}\r\n",
       "comp usage \"s2 \" as E8  <<(T,blue) snapshot occurrence>> [[psysml:bfc31472-e77d-4111-949c-57e124b09868 ]] {\r\n",
       "}\r\n",
       "comp usage \"t2 \" as E9  <<(T,blue) timeslice occurrence>> [[psysml:25521b86-d75d-41e6-9d0e-592064bc2653 ]] {\r\n",
       "}\r\n",
       "comp usage \"ind: Ind, Occ \" as E10  <<(T,blue) individual occurrence>> [[psysml:ec83ca81-a881-4da3-97a0-46e2b6aae84c ]] {\r\n",
       "}\r\n",
       "comp usage \"s3 \" as E11  <<(T,blue) snapshot occurrence>> [[psysml:fe74329f-5d2b-4ebe-b106-a7ecca7a6fbd ]] {\r\n",
       "}\r\n",
       "comp usage \"t3 \" as E12  <<(T,blue) individual timeslice occurrence>> [[psysml:6925098a-d5ed-431f-aaf1-d453853f914b ]] {\r\n",
       "}\r\n",
       "comp usage \"s4: Ind \" as E13  <<(T,blue) individual snapshot occurrence>> [[psysml:4e4d3416-6ae1-42d7-bc86-2084c913e314 ]] {\r\n",
       "}\r\n",
       "}\r\n",
       "E2 o- - E3 [[psysml:62ea934f-12d4-42a0-b786-a1086ef654f4 ]] \r\n",
       "E3 - -:|> E2 [[psysml:72edb9ed-f456-4be1-846b-a7c4b7fb6ef3 ]] \r\n",
       "E2 *- - E4 [[psysml:1930a264-e184-4aca-ae40-6206f5d09a7f ]] \r\n",
       "E4 - -:|> E2 [[psysml:32367fe5-1bb2-4952-a335-a8970d1d9f84 ]] \r\n",
       "E2 *- - E5 [[psysml:0faf658f-4e02-48cd-849b-e0220b5d7629 ]] \r\n",
       "E2 *- - E6 [[psysml:3f965610-dfca-4051-a1f3-35306b55574a ]] \r\n",
       "E5 - -:|> E7 [[psysml:5b4e0f94-bd6c-4a04-8036-e6bb7f85be93 ]] \r\n",
       "E7 *- - E8 [[psysml:37f490ca-8c9f-44ef-b281-38d91f32f2bf ]] \r\n",
       "E7 *- - E9 [[psysml:c791e7ed-713f-4106-b9d5-0dfb97ea4543 ]] \r\n",
       "E10 - -:|> E7 [[psysml:d7bf13fe-2343-4091-93b6-ccc05bfccd1c ]] \r\n",
       "E10 - -:|> E2 [[psysml:65e23dda-2765-4b86-8b8c-165f4272381c ]] \r\n",
       "E10 *- - E11 [[psysml:996a22eb-9701-44d5-9cb6-35ae83d4d1b1 ]] \r\n",
       "E10 *- - E12 [[psysml:da3311a8-2759-47ea-b229-fd34ee887055 ]] \r\n",
       "E13 - -:|> E7 [[psysml:fb78d99f-0705-4d43-aabd-2eaf1ce47389 ]] \r\n",
       "@enduml\r\n",
       "\n",
       "PlantUML version 1.2020.13(Sat Jun 13 12:26:38 UTC 2020)\n",
       "(EPL source distribution)\n",
       "Java Runtime: OpenJDK Runtime Environment\n",
       "JVM: OpenJDK 64-Bit Server VM\n",
       "Default Encoding: UTF-8\n",
       "Language: en\n",
       "Country: null\n",
       "--></g></svg>"
      ]
     },
     "execution_count": 37,
     "metadata": {},
     "output_type": "execute_result"
    }
   ],
   "source": [
    "%viz --style=\"DEFAULT\" --view=\"Default\" \"OccurrenceTest\""
   ]
  },
  {
   "cell_type": "code",
   "execution_count": 38,
   "id": "de65bd53",
   "metadata": {
    "execution": {
     "iopub.execute_input": "2022-02-18T10:48:39.027171Z",
     "iopub.status.busy": "2022-02-18T10:48:39.026459Z",
     "iopub.status.idle": "2022-02-18T10:48:39.078067Z",
     "shell.execute_reply": "2022-02-18T10:48:39.077162Z"
    }
   },
   "outputs": [
    {
     "data": {
      "image/svg+xml": [
       "<?xml version=\"1.0\" encoding=\"UTF-8\" standalone=\"no\"?><svg xmlns=\"http://www.w3.org/2000/svg\" xmlns:xlink=\"http://www.w3.org/1999/xlink\" contentScriptType=\"application/ecmascript\" contentStyleType=\"text/css\" height=\"569px\" preserveAspectRatio=\"none\" style=\"width:1009px;height:569px;\" version=\"1.1\" viewBox=\"0 0 1009 569\" width=\"1009px\" zoomAndPan=\"magnify\"><defs/><g><!--MD5=[fbc87193dbaf4d95561dea2c320d4a47]\n",
       "cluster E1--><a href=\"psysml:76f03fcf-c31b-4704-ae9e-b44a23fd6ebe\" target=\"_top\" title=\"psysml:76f03fcf-c31b-4704-ae9e-b44a23fd6ebe\" xlink:actuate=\"onRequest\" xlink:href=\"psysml:76f03fcf-c31b-4704-ae9e-b44a23fd6ebe\" xlink:show=\"new\" xlink:title=\"psysml:76f03fcf-c31b-4704-ae9e-b44a23fd6ebe\" xlink:type=\"simple\"><polygon fill=\"#FFFFFF\" points=\"16,6,134,6,141,28.2969,970,28.2969,970,557,16,557,16,6\" style=\"stroke: #000000; stroke-width: 1.5;\"/><line style=\"stroke: #000000; stroke-width: 1.5;\" x1=\"16\" x2=\"141\" y1=\"28.2969\" y2=\"28.2969\"/><text fill=\"#000000\" font-family=\"sans-serif\" font-size=\"14\" font-weight=\"bold\" lengthAdjust=\"spacingAndGlyphs\" textLength=\"112\" x=\"20\" y=\"20.9951\">OccurrenceTest</text></a><!--MD5=[b4997ac47864f28c2f74865a473b2911]\n",
       "class E2--><a href=\"psysml:eaa0b96d-7da2-44a7-b980-6b6f36747918\" target=\"_top\" title=\"psysml:eaa0b96d-7da2-44a7-b980-6b6f36747918\" xlink:actuate=\"onRequest\" xlink:href=\"psysml:eaa0b96d-7da2-44a7-b980-6b6f36747918\" xlink:show=\"new\" xlink:title=\"psysml:eaa0b96d-7da2-44a7-b980-6b6f36747918\" xlink:type=\"simple\"><rect fill=\"#FFFFFF\" height=\"75.5469\" id=\"E2\" style=\"stroke: #383838; stroke-width: 1.5;\" width=\"115\" x=\"373.5\" y=\"147\"/><text fill=\"#000000\" font-family=\"sans-serif\" font-size=\"12\" font-style=\"italic\" lengthAdjust=\"spacingAndGlyphs\" textLength=\"113\" x=\"374.5\" y=\"163.1387\">«occurrence  def»</text><text fill=\"#000000\" font-family=\"sans-serif\" font-size=\"12\" lengthAdjust=\"spacingAndGlyphs\" textLength=\"23\" x=\"419.5\" y=\"177.1074\">Occ</text><line style=\"stroke: #383838; stroke-width: 1.5;\" x1=\"374.5\" x2=\"487.5\" y1=\"184.9375\" y2=\"184.9375\"/><text fill=\"#000000\" font-family=\"sans-serif\" font-size=\"11\" lengthAdjust=\"spacingAndGlyphs\" textLength=\"7\" x=\"379.5\" y=\"215.9526\">a</text><line style=\"stroke: #383838; stroke-width: 1.0;\" x1=\"374.5\" x2=\"403.5\" y1=\"199.3398\" y2=\"199.3398\"/><text fill=\"#000000\" font-family=\"sans-serif\" font-size=\"11\" lengthAdjust=\"spacingAndGlyphs\" textLength=\"55\" x=\"403.5\" y=\"202.6479\">attributes</text><line style=\"stroke: #383838; stroke-width: 1.0;\" x1=\"458.5\" x2=\"487.5\" y1=\"199.3398\" y2=\"199.3398\"/></a><!--MD5=[09b614a08d8cba4a07c9adeb5e0fee81]\n",
       "class E3--><a href=\"psysml:87fca259-1c14-4b5b-983e-37895f6ff77b\" target=\"_top\" title=\"psysml:87fca259-1c14-4b5b-983e-37895f6ff77b\" xlink:actuate=\"onRequest\" xlink:href=\"psysml:87fca259-1c14-4b5b-983e-37895f6ff77b\" xlink:show=\"new\" xlink:title=\"psysml:87fca259-1c14-4b5b-983e-37895f6ff77b\" xlink:type=\"simple\"><rect fill=\"#FFFFFF\" height=\"45.9375\" id=\"E3\" rx=\"10\" ry=\"10\" style=\"stroke: #383838; stroke-width: 1.5;\" width=\"87\" x=\"279.5\" y=\"283\"/><text fill=\"#000000\" font-family=\"sans-serif\" font-size=\"12\" font-style=\"italic\" lengthAdjust=\"spacingAndGlyphs\" textLength=\"85\" x=\"280.5\" y=\"299.1387\">«occurrence»</text><text fill=\"#000000\" font-family=\"sans-serif\" font-size=\"12\" lengthAdjust=\"spacingAndGlyphs\" textLength=\"61\" x=\"290.5\" y=\"313.1074\">occ1: Occ</text><line style=\"stroke: #383838; stroke-width: 1.5;\" x1=\"280.5\" x2=\"365.5\" y1=\"320.9375\" y2=\"320.9375\"/></a><!--MD5=[ebbe1d658d1005bcc118a6aa81145e00]\n",
       "class E4--><a href=\"psysml:ffd2f288-180d-4271-8880-cf9706207ba2\" target=\"_top\" title=\"psysml:ffd2f288-180d-4271-8880-cf9706207ba2\" xlink:actuate=\"onRequest\" xlink:href=\"psysml:ffd2f288-180d-4271-8880-cf9706207ba2\" xlink:show=\"new\" xlink:title=\"psysml:ffd2f288-180d-4271-8880-cf9706207ba2\" xlink:type=\"simple\"><rect fill=\"#FFFFFF\" height=\"45.9375\" id=\"E4\" rx=\"10\" ry=\"10\" style=\"stroke: #383838; stroke-width: 1.5;\" width=\"87\" x=\"401.5\" y=\"283\"/><text fill=\"#000000\" font-family=\"sans-serif\" font-size=\"12\" font-style=\"italic\" lengthAdjust=\"spacingAndGlyphs\" textLength=\"85\" x=\"402.5\" y=\"299.1387\">«occurrence»</text><text fill=\"#000000\" font-family=\"sans-serif\" font-size=\"12\" lengthAdjust=\"spacingAndGlyphs\" textLength=\"61\" x=\"412.5\" y=\"313.1074\">occ2: Occ</text><line style=\"stroke: #383838; stroke-width: 1.5;\" x1=\"402.5\" x2=\"487.5\" y1=\"320.9375\" y2=\"320.9375\"/></a><!--MD5=[270fce915f116d4de14055a7c1d9a0f3]\n",
       "class E5--><a href=\"psysml:4e1769cc-a186-417e-91f0-587d1f1196e7\" target=\"_top\" title=\"psysml:4e1769cc-a186-417e-91f0-587d1f1196e7\" xlink:actuate=\"onRequest\" xlink:href=\"psysml:4e1769cc-a186-417e-91f0-587d1f1196e7\" xlink:show=\"new\" xlink:title=\"psysml:4e1769cc-a186-417e-91f0-587d1f1196e7\" xlink:type=\"simple\"><rect fill=\"#FFFFFF\" height=\"45.9375\" id=\"E5\" rx=\"10\" ry=\"10\" style=\"stroke: #383838; stroke-width: 1.5;\" width=\"212\" x=\"524\" y=\"283\"/><text fill=\"#000000\" font-family=\"sans-serif\" font-size=\"12\" font-style=\"italic\" lengthAdjust=\"spacingAndGlyphs\" textLength=\"210\" x=\"525\" y=\"299.1387\">«individual snapshot occurrence»</text><text fill=\"#000000\" font-family=\"sans-serif\" font-size=\"12\" lengthAdjust=\"spacingAndGlyphs\" textLength=\"34\" x=\"611\" y=\"313.1074\">s: Ind</text><line style=\"stroke: #383838; stroke-width: 1.5;\" x1=\"525\" x2=\"735\" y1=\"320.9375\" y2=\"320.9375\"/></a><!--MD5=[60a26617385b1d2d0262a64233df1f8d]\n",
       "class E6--><a href=\"psysml:9c61ac47-8b4e-45e2-802a-f3aa096140c4\" target=\"_top\" title=\"psysml:9c61ac47-8b4e-45e2-802a-f3aa096140c4\" xlink:actuate=\"onRequest\" xlink:href=\"psysml:9c61ac47-8b4e-45e2-802a-f3aa096140c4\" xlink:show=\"new\" xlink:title=\"psysml:9c61ac47-8b4e-45e2-802a-f3aa096140c4\" xlink:type=\"simple\"><rect fill=\"#FFFFFF\" height=\"45.9375\" id=\"E6\" rx=\"10\" ry=\"10\" style=\"stroke: #383838; stroke-width: 1.5;\" width=\"146\" x=\"771\" y=\"283\"/><text fill=\"#000000\" font-family=\"sans-serif\" font-size=\"12\" font-style=\"italic\" lengthAdjust=\"spacingAndGlyphs\" textLength=\"144\" x=\"772\" y=\"299.1387\">«timeslice occurrence»</text><text fill=\"#000000\" font-family=\"sans-serif\" font-size=\"12\" lengthAdjust=\"spacingAndGlyphs\" textLength=\"5\" x=\"839.5\" y=\"313.1074\">t</text><line style=\"stroke: #383838; stroke-width: 1.5;\" x1=\"772\" x2=\"916\" y1=\"320.9375\" y2=\"320.9375\"/></a><!--MD5=[2156ba9850f5573cc1fc38a6a4b2f02b]\n",
       "class E7--><a href=\"psysml:54e4af67-f268-48a3-80b8-bc1579f32c01\" target=\"_top\" title=\"psysml:54e4af67-f268-48a3-80b8-bc1579f32c01\" xlink:actuate=\"onRequest\" xlink:href=\"psysml:54e4af67-f268-48a3-80b8-bc1579f32c01\" xlink:show=\"new\" xlink:title=\"psysml:54e4af67-f268-48a3-80b8-bc1579f32c01\" xlink:type=\"simple\"><rect fill=\"#FFFFFF\" height=\"45.9375\" id=\"E7\" style=\"stroke: #383838; stroke-width: 1.5;\" width=\"177\" x=\"541.5\" y=\"389\"/><text fill=\"#000000\" font-family=\"sans-serif\" font-size=\"12\" font-style=\"italic\" lengthAdjust=\"spacingAndGlyphs\" textLength=\"175\" x=\"542.5\" y=\"405.1387\">«individual occurrence  def»</text><text fill=\"#000000\" font-family=\"sans-serif\" font-size=\"12\" lengthAdjust=\"spacingAndGlyphs\" textLength=\"19\" x=\"620.5\" y=\"419.1074\">Ind</text><line style=\"stroke: #383838; stroke-width: 1.5;\" x1=\"542.5\" x2=\"717.5\" y1=\"426.9375\" y2=\"426.9375\"/></a><!--MD5=[b9389687b975829384b498ac4b7476b2]\n",
       "class E8--><a href=\"psysml:bfc31472-e77d-4111-949c-57e124b09868\" target=\"_top\" title=\"psysml:bfc31472-e77d-4111-949c-57e124b09868\" xlink:actuate=\"onRequest\" xlink:href=\"psysml:bfc31472-e77d-4111-949c-57e124b09868\" xlink:show=\"new\" xlink:title=\"psysml:bfc31472-e77d-4111-949c-57e124b09868\" xlink:type=\"simple\"><rect fill=\"#FFFFFF\" height=\"45.9375\" id=\"E8\" rx=\"10\" ry=\"10\" style=\"stroke: #383838; stroke-width: 1.5;\" width=\"150\" x=\"463\" y=\"495\"/><text fill=\"#000000\" font-family=\"sans-serif\" font-size=\"12\" font-style=\"italic\" lengthAdjust=\"spacingAndGlyphs\" textLength=\"148\" x=\"464\" y=\"511.1387\">«snapshot occurrence»</text><text fill=\"#000000\" font-family=\"sans-serif\" font-size=\"12\" lengthAdjust=\"spacingAndGlyphs\" textLength=\"15\" x=\"528.5\" y=\"525.1074\">s2</text><line style=\"stroke: #383838; stroke-width: 1.5;\" x1=\"464\" x2=\"612\" y1=\"532.9375\" y2=\"532.9375\"/></a><!--MD5=[fd4143e9d270a159db93a4ea2a975926]\n",
       "class E9--><a href=\"psysml:25521b86-d75d-41e6-9d0e-592064bc2653\" target=\"_top\" title=\"psysml:25521b86-d75d-41e6-9d0e-592064bc2653\" xlink:actuate=\"onRequest\" xlink:href=\"psysml:25521b86-d75d-41e6-9d0e-592064bc2653\" xlink:show=\"new\" xlink:title=\"psysml:25521b86-d75d-41e6-9d0e-592064bc2653\" xlink:type=\"simple\"><rect fill=\"#FFFFFF\" height=\"45.9375\" id=\"E9\" rx=\"10\" ry=\"10\" style=\"stroke: #383838; stroke-width: 1.5;\" width=\"146\" x=\"648\" y=\"495\"/><text fill=\"#000000\" font-family=\"sans-serif\" font-size=\"12\" font-style=\"italic\" lengthAdjust=\"spacingAndGlyphs\" textLength=\"144\" x=\"649\" y=\"511.1387\">«timeslice occurrence»</text><text fill=\"#000000\" font-family=\"sans-serif\" font-size=\"12\" lengthAdjust=\"spacingAndGlyphs\" textLength=\"13\" x=\"712.5\" y=\"525.1074\">t2</text><line style=\"stroke: #383838; stroke-width: 1.5;\" x1=\"649\" x2=\"793\" y1=\"532.9375\" y2=\"532.9375\"/></a><!--MD5=[96f4274e9e20536e775497830990834d]\n",
       "class E10--><a href=\"psysml:ec83ca81-a881-4da3-97a0-46e2b6aae84c\" target=\"_top\" title=\"psysml:ec83ca81-a881-4da3-97a0-46e2b6aae84c\" xlink:actuate=\"onRequest\" xlink:href=\"psysml:ec83ca81-a881-4da3-97a0-46e2b6aae84c\" xlink:show=\"new\" xlink:title=\"psysml:ec83ca81-a881-4da3-97a0-46e2b6aae84c\" xlink:type=\"simple\"><rect fill=\"#FFFFFF\" height=\"45.9375\" id=\"E10\" rx=\"10\" ry=\"10\" style=\"stroke: #383838; stroke-width: 1.5;\" width=\"149\" x=\"505.5\" y=\"41\"/><text fill=\"#000000\" font-family=\"sans-serif\" font-size=\"12\" font-style=\"italic\" lengthAdjust=\"spacingAndGlyphs\" textLength=\"147\" x=\"506.5\" y=\"57.1387\">«individual occurrence»</text><text fill=\"#000000\" font-family=\"sans-serif\" font-size=\"12\" lengthAdjust=\"spacingAndGlyphs\" textLength=\"77\" x=\"539.5\" y=\"71.1074\">ind: Ind, Occ</text><line style=\"stroke: #383838; stroke-width: 1.5;\" x1=\"506.5\" x2=\"653.5\" y1=\"78.9375\" y2=\"78.9375\"/></a><!--MD5=[1dd1bfd58a279cf63c5f349dbc8fc6a1]\n",
       "class E11--><a href=\"psysml:fe74329f-5d2b-4ebe-b106-a7ecca7a6fbd\" target=\"_top\" title=\"psysml:fe74329f-5d2b-4ebe-b106-a7ecca7a6fbd\" xlink:actuate=\"onRequest\" xlink:href=\"psysml:fe74329f-5d2b-4ebe-b106-a7ecca7a6fbd\" xlink:show=\"new\" xlink:title=\"psysml:fe74329f-5d2b-4ebe-b106-a7ecca7a6fbd\" xlink:type=\"simple\"><rect fill=\"#FFFFFF\" height=\"45.9375\" id=\"E11\" rx=\"10\" ry=\"10\" style=\"stroke: #383838; stroke-width: 1.5;\" width=\"150\" x=\"561\" y=\"162\"/><text fill=\"#000000\" font-family=\"sans-serif\" font-size=\"12\" font-style=\"italic\" lengthAdjust=\"spacingAndGlyphs\" textLength=\"148\" x=\"562\" y=\"178.1387\">«snapshot occurrence»</text><text fill=\"#000000\" font-family=\"sans-serif\" font-size=\"12\" lengthAdjust=\"spacingAndGlyphs\" textLength=\"15\" x=\"626.5\" y=\"192.1074\">s3</text><line style=\"stroke: #383838; stroke-width: 1.5;\" x1=\"562\" x2=\"710\" y1=\"199.9375\" y2=\"199.9375\"/></a><!--MD5=[49a0ec8f00dab7302a31f22d0f0fe584]\n",
       "class E12--><a href=\"psysml:6925098a-d5ed-431f-aaf1-d453853f914b\" target=\"_top\" title=\"psysml:6925098a-d5ed-431f-aaf1-d453853f914b\" xlink:actuate=\"onRequest\" xlink:href=\"psysml:6925098a-d5ed-431f-aaf1-d453853f914b\" xlink:show=\"new\" xlink:title=\"psysml:6925098a-d5ed-431f-aaf1-d453853f914b\" xlink:type=\"simple\"><rect fill=\"#FFFFFF\" height=\"45.9375\" id=\"E12\" rx=\"10\" ry=\"10\" style=\"stroke: #383838; stroke-width: 1.5;\" width=\"208\" x=\"746\" y=\"162\"/><text fill=\"#000000\" font-family=\"sans-serif\" font-size=\"12\" font-style=\"italic\" lengthAdjust=\"spacingAndGlyphs\" textLength=\"206\" x=\"747\" y=\"178.1387\">«individual timeslice occurrence»</text><text fill=\"#000000\" font-family=\"sans-serif\" font-size=\"12\" lengthAdjust=\"spacingAndGlyphs\" textLength=\"13\" x=\"841.5\" y=\"192.1074\">t3</text><line style=\"stroke: #383838; stroke-width: 1.5;\" x1=\"747\" x2=\"953\" y1=\"199.9375\" y2=\"199.9375\"/></a><!--MD5=[ee3c913d1a06f366521f9ef512b67efe]\n",
       "class E13--><a href=\"psysml:4e4d3416-6ae1-42d7-bc86-2084c913e314\" target=\"_top\" title=\"psysml:4e4d3416-6ae1-42d7-bc86-2084c913e314\" xlink:actuate=\"onRequest\" xlink:href=\"psysml:4e4d3416-6ae1-42d7-bc86-2084c913e314\" xlink:show=\"new\" xlink:title=\"psysml:4e4d3416-6ae1-42d7-bc86-2084c913e314\" xlink:type=\"simple\"><rect fill=\"#FFFFFF\" height=\"45.9375\" id=\"E13\" rx=\"10\" ry=\"10\" style=\"stroke: #383838; stroke-width: 1.5;\" width=\"212\" x=\"32\" y=\"283\"/><text fill=\"#000000\" font-family=\"sans-serif\" font-size=\"12\" font-style=\"italic\" lengthAdjust=\"spacingAndGlyphs\" textLength=\"210\" x=\"33\" y=\"299.1387\">«individual snapshot occurrence»</text><text fill=\"#000000\" font-family=\"sans-serif\" font-size=\"12\" lengthAdjust=\"spacingAndGlyphs\" textLength=\"42\" x=\"115\" y=\"313.1074\">s4: Ind</text><line style=\"stroke: #383838; stroke-width: 1.5;\" x1=\"33\" x2=\"243\" y1=\"320.9375\" y2=\"320.9375\"/></a><!--MD5=[209b3feb70ccb6233bfe1053d122c12c]\n",
       "reverse link E2 to E3--><a href=\"psysml:62ea934f-12d4-42a0-b786-a1086ef654f4\" target=\"_top\" title=\"psysml:62ea934f-12d4-42a0-b786-a1086ef654f4\" xlink:actuate=\"onRequest\" xlink:href=\"psysml:62ea934f-12d4-42a0-b786-a1086ef654f4\" xlink:show=\"new\" xlink:title=\"psysml:62ea934f-12d4-42a0-b786-a1086ef654f4\" xlink:type=\"simple\"><path d=\"M376.37,232.45 C359.85,249.83 343.43,268.76 332.86,282.93 \" fill=\"none\" id=\"E2&lt;-E3\" style=\"stroke: #383838; stroke-width: 1.0;\"/><polygon fill=\"#FFFFFF\" points=\"385.52,223,378.4729,224.5294,377.1743,231.6226,384.2213,230.0932,385.52,223\" style=\"stroke: #383838; stroke-width: 1.0;\"/></a><!--MD5=[05d275557350bfb9b23a4ef7222b4c39]\n",
       "link E3 to E2--><a href=\"psysml:72edb9ed-f456-4be1-846b-a7c4b7fb6ef3\" target=\"_top\" title=\"psysml:72edb9ed-f456-4be1-846b-a7c4b7fb6ef3\" xlink:actuate=\"onRequest\" xlink:href=\"psysml:72edb9ed-f456-4be1-846b-a7c4b7fb6ef3\" xlink:show=\"new\" xlink:title=\"psysml:72edb9ed-f456-4be1-846b-a7c4b7fb6ef3\" xlink:type=\"simple\"><path d=\"M353.8,282.93 C367.38,270.34 383.11,253.98 396.95,238.29 \" fill=\"none\" id=\"E3-&gt;E2\" style=\"stroke: #383838; stroke-width: 1.0;\"/><polygon fill=\"#FFFFFF\" points=\"410.02,223,403.0007,241.9929,392.3563,232.8991,410.02,223\" style=\"stroke: #383838; stroke-width: 1.0;\"/><ellipse cx=\"397.7776\" cy=\"245.0276\" fill=\"#383838\" rx=\"2\" ry=\"2\" style=\"stroke: #383838; stroke-width: 1.0;\"/><ellipse cx=\"390.1744\" cy=\"238.532\" fill=\"#383838\" rx=\"2\" ry=\"2\" style=\"stroke: #383838; stroke-width: 1.0;\"/></a><!--MD5=[9618e71518536f8baf3342ff6fdab317]\n",
       "reverse link E2 to E4--><a href=\"psysml:1930a264-e184-4aca-ae40-6206f5d09a7f\" target=\"_top\" title=\"psysml:1930a264-e184-4aca-ae40-6206f5d09a7f\" xlink:actuate=\"onRequest\" xlink:href=\"psysml:1930a264-e184-4aca-ae40-6206f5d09a7f\" xlink:show=\"new\" xlink:title=\"psysml:1930a264-e184-4aca-ae40-6206f5d09a7f\" xlink:type=\"simple\"><path d=\"M424.31,236.34 C425.74,252.61 428.58,269.81 432.23,282.93 \" fill=\"none\" id=\"E2&lt;-E4\" style=\"stroke: #383838; stroke-width: 1.0;\"/><polygon fill=\"#383838\" points=\"423.45,223,419.8475,229.2467,424.2281,234.9747,427.8306,228.728,423.45,223\" style=\"stroke: #383838; stroke-width: 1.0;\"/></a><!--MD5=[185131fc0dcab0a4505a2ebe144e961b]\n",
       "link E4 to E2--><a href=\"psysml:32367fe5-1bb2-4952-a335-a8970d1d9f84\" target=\"_top\" title=\"psysml:32367fe5-1bb2-4952-a335-a8970d1d9f84\" xlink:actuate=\"onRequest\" xlink:href=\"psysml:32367fe5-1bb2-4952-a335-a8970d1d9f84\" xlink:show=\"new\" xlink:title=\"psysml:32367fe5-1bb2-4952-a335-a8970d1d9f84\" xlink:type=\"simple\"><path d=\"M453.17,282.93 C453.77,271.65 452.99,257.34 451.22,243.21 \" fill=\"none\" id=\"E4-&gt;E2\" style=\"stroke: #383838; stroke-width: 1.0;\"/><polygon fill=\"#FFFFFF\" points=\"447.96,223,457.8973,240.6423,444.0761,242.8725,447.96,223\" style=\"stroke: #383838; stroke-width: 1.0;\"/><ellipse cx=\"456.8309\" cy=\"246.5881\" fill=\"#383838\" rx=\"2\" ry=\"2\" style=\"stroke: #383838; stroke-width: 1.0;\"/><ellipse cx=\"446.9586\" cy=\"248.1811\" fill=\"#383838\" rx=\"2\" ry=\"2\" style=\"stroke: #383838; stroke-width: 1.0;\"/></a><!--MD5=[4e1a83fab71cdb913c109063314ae896]\n",
       "reverse link E2 to E5--><a href=\"psysml:0faf658f-4e02-48cd-849b-e0220b5d7629\" target=\"_top\" title=\"psysml:0faf658f-4e02-48cd-849b-e0220b5d7629\" xlink:actuate=\"onRequest\" xlink:href=\"psysml:0faf658f-4e02-48cd-849b-e0220b5d7629\" xlink:show=\"new\" xlink:title=\"psysml:0faf658f-4e02-48cd-849b-e0220b5d7629\" xlink:type=\"simple\"><path d=\"M499.85,227.17 C531.12,245.87 566.86,267.24 592.97,282.85 \" fill=\"none\" id=\"E2&lt;-E5\" style=\"stroke: #383838; stroke-width: 1.0;\"/><polygon fill=\"#383838\" points=\"488.56,220.42,491.6568,226.9323,498.8592,226.5784,495.7624,220.0661,488.56,220.42\" style=\"stroke: #383838; stroke-width: 1.0;\"/></a><!--MD5=[ce036f65110ae2351ccce5a81dc2e928]\n",
       "reverse link E2 to E6--><a href=\"psysml:3f965610-dfca-4051-a1f3-35306b55574a\" target=\"_top\" title=\"psysml:3f965610-dfca-4051-a1f3-35306b55574a\" xlink:actuate=\"onRequest\" xlink:href=\"psysml:3f965610-dfca-4051-a1f3-35306b55574a\" xlink:show=\"new\" xlink:title=\"psysml:3f965610-dfca-4051-a1f3-35306b55574a\" xlink:type=\"simple\"><path d=\"M501.02,217.55 C506.06,219.49 511.08,221.33 516,223 C528.19,227.15 677.82,264.14 770.71,287 \" fill=\"none\" id=\"E2&lt;-E6\" style=\"stroke: #383838; stroke-width: 1.0;\"/><polygon fill=\"#383838\" points=\"488.57,212.58,492.6577,218.5206,499.7135,217.0321,495.6258,211.0916,488.57,212.58\" style=\"stroke: #383838; stroke-width: 1.0;\"/></a><!--MD5=[3a9b96bfbf6b6ad89c494e81751bda47]\n",
       "link E5 to E7--><a href=\"psysml:5b4e0f94-bd6c-4a04-8036-e6bb7f85be93\" target=\"_top\" title=\"psysml:5b4e0f94-bd6c-4a04-8036-e6bb7f85be93\" xlink:actuate=\"onRequest\" xlink:href=\"psysml:5b4e0f94-bd6c-4a04-8036-e6bb7f85be93\" xlink:show=\"new\" xlink:title=\"psysml:5b4e0f94-bd6c-4a04-8036-e6bb7f85be93\" xlink:type=\"simple\"><path d=\"M630,329.06 C630,340.64 630,355.23 630,368.87 \" fill=\"none\" id=\"E5-&gt;E7\" style=\"stroke: #383838; stroke-width: 1.0;\"/><polygon fill=\"#FFFFFF\" points=\"630,388.98,623,369.98,637,369.98,630,388.98\" style=\"stroke: #383838; stroke-width: 1.0;\"/><ellipse cx=\"625\" cy=\"364.28\" fill=\"#383838\" rx=\"2\" ry=\"2\" style=\"stroke: #383838; stroke-width: 1.0;\"/><ellipse cx=\"635\" cy=\"364.28\" fill=\"#383838\" rx=\"2\" ry=\"2\" style=\"stroke: #383838; stroke-width: 1.0;\"/></a><!--MD5=[dc164f5e8a733ab456ef1add180e9e34]\n",
       "reverse link E7 to E8--><a href=\"psysml:37f490ca-8c9f-44ef-b281-38d91f32f2bf\" target=\"_top\" title=\"psysml:37f490ca-8c9f-44ef-b281-38d91f32f2bf\" xlink:actuate=\"onRequest\" xlink:href=\"psysml:37f490ca-8c9f-44ef-b281-38d91f32f2bf\" xlink:show=\"new\" xlink:title=\"psysml:37f490ca-8c9f-44ef-b281-38d91f32f2bf\" xlink:type=\"simple\"><path d=\"M601.55,445.16 C587.25,461.33 570.28,480.51 557.48,494.98 \" fill=\"none\" id=\"E7&lt;-E8\" style=\"stroke: #383838; stroke-width: 1.0;\"/><polygon fill=\"#383838\" points=\"610.49,435.06,603.5177,436.9004,602.5348,444.0442,609.5071,442.2038,610.49,435.06\" style=\"stroke: #383838; stroke-width: 1.0;\"/></a><!--MD5=[e4a10ef82d0e328e31cac39a31e58dda]\n",
       "reverse link E7 to E9--><a href=\"psysml:c791e7ed-713f-4106-b9d5-0dfb97ea4543\" target=\"_top\" title=\"psysml:c791e7ed-713f-4106-b9d5-0dfb97ea4543\" xlink:actuate=\"onRequest\" xlink:href=\"psysml:c791e7ed-713f-4106-b9d5-0dfb97ea4543\" xlink:show=\"new\" xlink:title=\"psysml:c791e7ed-713f-4106-b9d5-0dfb97ea4543\" xlink:type=\"simple\"><path d=\"M658.14,445.16 C672.29,461.33 689.07,480.51 701.73,494.98 \" fill=\"none\" id=\"E7&lt;-E9\" style=\"stroke: #383838; stroke-width: 1.0;\"/><polygon fill=\"#383838\" points=\"649.3,435.06,650.2496,442.2083,657.2133,444.0811,656.2637,436.9328,649.3,435.06\" style=\"stroke: #383838; stroke-width: 1.0;\"/></a><!--MD5=[a919e0967d6f3de553dc51b9865a1d6d]\n",
       "link E10 to E7--><a href=\"psysml:d7bf13fe-2343-4091-93b6-ccc05bfccd1c\" target=\"_top\" title=\"psysml:d7bf13fe-2343-4091-93b6-ccc05bfccd1c\" xlink:actuate=\"onRequest\" xlink:href=\"psysml:d7bf13fe-2343-4091-93b6-ccc05bfccd1c\" xlink:show=\"new\" xlink:title=\"psysml:d7bf13fe-2343-4091-93b6-ccc05bfccd1c\" xlink:type=\"simple\"><path d=\"M564.36,87.23 C542.92,120.68 510.65,184.15 544,223 C658.5,356.41 820.5,149.59 935,283 C997.3,355.58 849.41,387.9 738.47,401.63 \" fill=\"none\" id=\"E10-&gt;E7\" style=\"stroke: #383838; stroke-width: 1.0;\"/><polygon fill=\"#FFFFFF\" points=\"718.6,403.94,736.6627,394.7891,738.2822,408.6951,718.6,403.94\" style=\"stroke: #383838; stroke-width: 1.0;\"/><ellipse cx=\"742.5558\" cy=\"396.1162\" fill=\"#383838\" rx=\"2\" ry=\"2\" style=\"stroke: #383838; stroke-width: 1.0;\"/><ellipse cx=\"743.7126\" cy=\"406.0491\" fill=\"#383838\" rx=\"2\" ry=\"2\" style=\"stroke: #383838; stroke-width: 1.0;\"/></a><!--MD5=[0f36bececdf0dff6e600d6f64214b0f1]\n",
       "link E10 to E2--><a href=\"psysml:65e23dda-2765-4b86-8b8c-165f4272381c\" target=\"_top\" title=\"psysml:65e23dda-2765-4b86-8b8c-165f4272381c\" xlink:actuate=\"onRequest\" xlink:href=\"psysml:65e23dda-2765-4b86-8b8c-165f4272381c\" xlink:show=\"new\" xlink:title=\"psysml:65e23dda-2765-4b86-8b8c-165f4272381c\" xlink:type=\"simple\"><path d=\"M552.32,87.1 C535.71,100.38 513.86,117.82 493.29,134.25 \" fill=\"none\" id=\"E10-&gt;E2\" style=\"stroke: #383838; stroke-width: 1.0;\"/><polygon fill=\"#FFFFFF\" points=\"477.56,146.81,488.0352,129.4817,496.7737,140.4197,477.56,146.81\" style=\"stroke: #383838; stroke-width: 1.0;\"/><ellipse cx=\"493.7369\" cy=\"127.4865\" fill=\"#383838\" rx=\"2\" ry=\"2\" style=\"stroke: #383838; stroke-width: 1.0;\"/><ellipse cx=\"499.9786\" cy=\"135.2994\" fill=\"#383838\" rx=\"2\" ry=\"2\" style=\"stroke: #383838; stroke-width: 1.0;\"/></a><!--MD5=[de308be4a2431766a05a907a031c07fc]\n",
       "reverse link E10 to E11--><a href=\"psysml:996a22eb-9701-44d5-9cb6-35ae83d4d1b1\" target=\"_top\" title=\"psysml:996a22eb-9701-44d5-9cb6-35ae83d4d1b1\" xlink:actuate=\"onRequest\" xlink:href=\"psysml:996a22eb-9701-44d5-9cb6-35ae83d4d1b1\" xlink:show=\"new\" xlink:title=\"psysml:996a22eb-9701-44d5-9cb6-35ae83d4d1b1\" xlink:type=\"simple\"><path d=\"M595.95,98.9 C605.42,119.01 617.15,143.94 625.46,161.61 \" fill=\"none\" id=\"E10&lt;-E11\" style=\"stroke: #383838; stroke-width: 1.0;\"/><polygon fill=\"#383838\" points=\"590.4,87.1,589.3334,94.2318,595.5064,97.9593,596.573,90.8275,590.4,87.1\" style=\"stroke: #383838; stroke-width: 1.0;\"/></a><!--MD5=[1d54f998c6d5961a1a9184be73a7eb6c]\n",
       "reverse link E10 to E12--><a href=\"psysml:da3311a8-2759-47ea-b229-fd34ee887055\" target=\"_top\" title=\"psysml:da3311a8-2759-47ea-b229-fd34ee887055\" xlink:actuate=\"onRequest\" xlink:href=\"psysml:da3311a8-2759-47ea-b229-fd34ee887055\" xlink:show=\"new\" xlink:title=\"psysml:da3311a8-2759-47ea-b229-fd34ee887055\" xlink:type=\"simple\"><path d=\"M642.21,92.42 C689.99,113.48 755.13,142.19 799.66,161.81 \" fill=\"none\" id=\"E10&lt;-E12\" style=\"stroke: #383838; stroke-width: 1.0;\"/><polygon fill=\"#383838\" points=\"630.15,87.1,634.028,93.1796,641.1314,91.9382,637.2534,85.8586,630.15,87.1\" style=\"stroke: #383838; stroke-width: 1.0;\"/></a><!--MD5=[4a48077df6499cfcd20b62e8f5f37904]\n",
       "link E13 to E7--><a href=\"psysml:fb78d99f-0705-4d43-aabd-2eaf1ce47389\" target=\"_top\" title=\"psysml:fb78d99f-0705-4d43-aabd-2eaf1ce47389\" xlink:actuate=\"onRequest\" xlink:href=\"psysml:fb78d99f-0705-4d43-aabd-2eaf1ce47389\" xlink:show=\"new\" xlink:title=\"psysml:fb78d99f-0705-4d43-aabd-2eaf1ce47389\" xlink:type=\"simple\"><path d=\"M242.34,329.06 C324.51,346.43 438.67,370.56 521.82,388.13 \" fill=\"none\" id=\"E13-&gt;E7\" style=\"stroke: #383838; stroke-width: 1.0;\"/><polygon fill=\"#FFFFFF\" points=\"541.45,392.28,521.4143,395.2075,524.304,381.509,541.45,392.28\" style=\"stroke: #383838; stroke-width: 1.0;\"/><ellipse cx=\"516.2498\" cy=\"392.0741\" fill=\"#383838\" rx=\"2\" ry=\"2\" style=\"stroke: #383838; stroke-width: 1.0;\"/><ellipse cx=\"518.3139\" cy=\"382.2894\" fill=\"#383838\" rx=\"2\" ry=\"2\" style=\"stroke: #383838; stroke-width: 1.0;\"/></a><!--MD5=[da1a9e083bf8e4e1115143f909bbf2dd]\n",
       "@startuml\r\n",
       "skinparam monochrome true\r\n",
       "skinparam classbackgroundcolor white\r\n",
       "skinparam shadowing false\r\n",
       "skinparam wrapWidth 300\r\n",
       "hide circle\r\n",
       "\r\n",
       "package \"OccurrenceTest\" as E1  [[psysml:76f03fcf-c31b-4704-ae9e-b44a23fd6ebe ]]  {\r\n",
       "comp def \"Occ\" as E2  <<(T,blue) occurrence  def>> [[psysml:eaa0b96d-7da2-44a7-b980-6b6f36747918 ]] {\r\n",
       "- - attributes - -\r\n",
       "a\r\n",
       "}\r\n",
       "comp usage \"occ1: Occ \" as E3  <<(T,blue) occurrence>> [[psysml:87fca259-1c14-4b5b-983e-37895f6ff77b ]] {\r\n",
       "}\r\n",
       "comp usage \"occ2: Occ \" as E4  <<(T,blue) occurrence>> [[psysml:ffd2f288-180d-4271-8880-cf9706207ba2 ]] {\r\n",
       "}\r\n",
       "comp usage \"s: Ind \" as E5  <<(T,blue) individual snapshot occurrence>> [[psysml:4e1769cc-a186-417e-91f0-587d1f1196e7 ]] {\r\n",
       "}\r\n",
       "comp usage \"t \" as E6  <<(T,blue) timeslice occurrence>> [[psysml:9c61ac47-8b4e-45e2-802a-f3aa096140c4 ]] {\r\n",
       "}\r\n",
       "comp def \"Ind\" as E7  <<(T,blue) individual occurrence  def>> [[psysml:54e4af67-f268-48a3-80b8-bc1579f32c01 ]] {\r\n",
       "}\r\n",
       "comp usage \"s2 \" as E8  <<(T,blue) snapshot occurrence>> [[psysml:bfc31472-e77d-4111-949c-57e124b09868 ]] {\r\n",
       "}\r\n",
       "comp usage \"t2 \" as E9  <<(T,blue) timeslice occurrence>> [[psysml:25521b86-d75d-41e6-9d0e-592064bc2653 ]] {\r\n",
       "}\r\n",
       "comp usage \"ind: Ind, Occ \" as E10  <<(T,blue) individual occurrence>> [[psysml:ec83ca81-a881-4da3-97a0-46e2b6aae84c ]] {\r\n",
       "}\r\n",
       "comp usage \"s3 \" as E11  <<(T,blue) snapshot occurrence>> [[psysml:fe74329f-5d2b-4ebe-b106-a7ecca7a6fbd ]] {\r\n",
       "}\r\n",
       "comp usage \"t3 \" as E12  <<(T,blue) individual timeslice occurrence>> [[psysml:6925098a-d5ed-431f-aaf1-d453853f914b ]] {\r\n",
       "}\r\n",
       "comp usage \"s4: Ind \" as E13  <<(T,blue) individual snapshot occurrence>> [[psysml:4e4d3416-6ae1-42d7-bc86-2084c913e314 ]] {\r\n",
       "}\r\n",
       "}\r\n",
       "E2 o- - E3 [[psysml:62ea934f-12d4-42a0-b786-a1086ef654f4 ]] \r\n",
       "E3 - -:|> E2 [[psysml:72edb9ed-f456-4be1-846b-a7c4b7fb6ef3 ]] \r\n",
       "E2 *- - E4 [[psysml:1930a264-e184-4aca-ae40-6206f5d09a7f ]] \r\n",
       "E4 - -:|> E2 [[psysml:32367fe5-1bb2-4952-a335-a8970d1d9f84 ]] \r\n",
       "E2 *- - E5 [[psysml:0faf658f-4e02-48cd-849b-e0220b5d7629 ]] \r\n",
       "E2 *- - E6 [[psysml:3f965610-dfca-4051-a1f3-35306b55574a ]] \r\n",
       "E5 - -:|> E7 [[psysml:5b4e0f94-bd6c-4a04-8036-e6bb7f85be93 ]] \r\n",
       "E7 *- - E8 [[psysml:37f490ca-8c9f-44ef-b281-38d91f32f2bf ]] \r\n",
       "E7 *- - E9 [[psysml:c791e7ed-713f-4106-b9d5-0dfb97ea4543 ]] \r\n",
       "E10 - -:|> E7 [[psysml:d7bf13fe-2343-4091-93b6-ccc05bfccd1c ]] \r\n",
       "E10 - -:|> E2 [[psysml:65e23dda-2765-4b86-8b8c-165f4272381c ]] \r\n",
       "E10 *- - E11 [[psysml:996a22eb-9701-44d5-9cb6-35ae83d4d1b1 ]] \r\n",
       "E10 *- - E12 [[psysml:da3311a8-2759-47ea-b229-fd34ee887055 ]] \r\n",
       "E13 - -:|> E7 [[psysml:fb78d99f-0705-4d43-aabd-2eaf1ce47389 ]] \r\n",
       "@enduml\r\n",
       "\n",
       "PlantUML version 1.2020.13(Sat Jun 13 12:26:38 UTC 2020)\n",
       "(EPL source distribution)\n",
       "Java Runtime: OpenJDK Runtime Environment\n",
       "JVM: OpenJDK 64-Bit Server VM\n",
       "Default Encoding: UTF-8\n",
       "Language: en\n",
       "Country: null\n",
       "--></g></svg>"
      ]
     },
     "execution_count": 38,
     "metadata": {},
     "output_type": "execute_result"
    }
   ],
   "source": [
    "%viz --style=\"DEFAULT\" --view=\"Tree\" \"OccurrenceTest\""
   ]
  },
  {
   "cell_type": "code",
   "execution_count": 39,
   "id": "332247a6",
   "metadata": {
    "execution": {
     "iopub.execute_input": "2022-02-18T10:48:39.127818Z",
     "iopub.status.busy": "2022-02-18T10:48:39.127456Z",
     "iopub.status.idle": "2022-02-18T10:48:39.130739Z",
     "shell.execute_reply": "2022-02-18T10:48:39.130552Z"
    }
   },
   "outputs": [
    {
     "data": {
      "image/svg+xml": [
       "<?xml version=\"1.0\" encoding=\"UTF-8\" standalone=\"no\"?><svg xmlns=\"http://www.w3.org/2000/svg\" xmlns:xlink=\"http://www.w3.org/1999/xlink\" contentScriptType=\"application/ecmascript\" contentStyleType=\"text/css\" height=\"12px\" preserveAspectRatio=\"none\" style=\"width:12px;height:12px;\" version=\"1.1\" viewBox=\"0 0 12 12\" width=\"12px\" zoomAndPan=\"magnify\"><defs/><g><!--MD5=[c5f280e076d0d61ccf4b0f27871bda1d]\n",
       "@startuml\r\n",
       "skinparam monochrome true\r\n",
       "skinparam classbackgroundcolor white\r\n",
       "skinparam shadowing false\r\n",
       "skinparam wrapWidth 300\r\n",
       "hide circle\r\n",
       "\r\n",
       "@enduml\r\n",
       "\n",
       "PlantUML version 1.2020.13(Sat Jun 13 12:26:38 UTC 2020)\n",
       "(EPL source distribution)\n",
       "Java Runtime: OpenJDK Runtime Environment\n",
       "JVM: OpenJDK 64-Bit Server VM\n",
       "Default Encoding: UTF-8\n",
       "Language: en\n",
       "Country: null\n",
       "--></g></svg>"
      ]
     },
     "execution_count": 39,
     "metadata": {},
     "output_type": "execute_result"
    }
   ],
   "source": [
    "%viz --style=\"DEFAULT\" --view=\"State\" \"OccurrenceTest\""
   ]
  },
  {
   "cell_type": "code",
   "execution_count": 40,
   "id": "9ca4bb5e",
   "metadata": {
    "execution": {
     "iopub.execute_input": "2022-02-18T10:48:39.180986Z",
     "iopub.status.busy": "2022-02-18T10:48:39.180614Z",
     "iopub.status.idle": "2022-02-18T10:48:39.212143Z",
     "shell.execute_reply": "2022-02-18T10:48:39.211774Z"
    }
   },
   "outputs": [
    {
     "data": {
      "image/svg+xml": [
       "<?xml version=\"1.0\" encoding=\"UTF-8\" standalone=\"no\"?><svg xmlns=\"http://www.w3.org/2000/svg\" xmlns:xlink=\"http://www.w3.org/1999/xlink\" contentScriptType=\"application/ecmascript\" contentStyleType=\"text/css\" height=\"195px\" preserveAspectRatio=\"none\" style=\"width:1123px;height:195px;\" version=\"1.1\" viewBox=\"0 0 1123 195\" width=\"1123px\" zoomAndPan=\"magnify\"><defs/><g><!--MD5=[fbc87193dbaf4d95561dea2c320d4a47]\n",
       "cluster E1--><a href=\"psysml:76f03fcf-c31b-4704-ae9e-b44a23fd6ebe\" target=\"_top\" title=\"psysml:76f03fcf-c31b-4704-ae9e-b44a23fd6ebe\" xlink:actuate=\"onRequest\" xlink:href=\"psysml:76f03fcf-c31b-4704-ae9e-b44a23fd6ebe\" xlink:show=\"new\" xlink:title=\"psysml:76f03fcf-c31b-4704-ae9e-b44a23fd6ebe\" xlink:type=\"simple\"><polygon fill=\"#FFFFFF\" points=\"16,6,134,6,141,28.2969,1101,28.2969,1101,183,16,183,16,6\" style=\"stroke: #000000; stroke-width: 1.5;\"/><line style=\"stroke: #000000; stroke-width: 1.5;\" x1=\"16\" x2=\"141\" y1=\"28.2969\" y2=\"28.2969\"/><text fill=\"#000000\" font-family=\"sans-serif\" font-size=\"14\" font-weight=\"bold\" lengthAdjust=\"spacingAndGlyphs\" textLength=\"112\" x=\"20\" y=\"20.9951\">OccurrenceTest</text></a><!--MD5=[f6df4d0ebaf0b5dfb2ced0ae5af7c670]\n",
       "cluster E4--><a href=\"psysml:ec83ca81-a881-4da3-97a0-46e2b6aae84c\" target=\"_top\" title=\"psysml:ec83ca81-a881-4da3-97a0-46e2b6aae84c\" xlink:actuate=\"onRequest\" xlink:href=\"psysml:ec83ca81-a881-4da3-97a0-46e2b6aae84c\" xlink:show=\"new\" xlink:title=\"psysml:ec83ca81-a881-4da3-97a0-46e2b6aae84c\" xlink:type=\"simple\"><rect fill=\"#FFFFFF\" height=\"110\" id=\"E4\" rx=\"10\" ry=\"10\" style=\"stroke: #383838; stroke-width: 1.5;\" width=\"435\" x=\"642\" y=\"49\"/><rect fill=\"#F8F8F8\" height=\"37.9375\" rx=\"10\" ry=\"10\" style=\"stroke: #F8F8F8; stroke-width: 1.5;\" width=\"435\" x=\"642\" y=\"49\"/><rect fill=\"#F8F8F8\" height=\"10\" style=\"stroke: #F8F8F8; stroke-width: 1.5;\" width=\"435\" x=\"642\" y=\"76.9375\"/><rect fill=\"none\" height=\"110\" id=\"E4\" rx=\"10\" ry=\"10\" style=\"stroke: #383838; stroke-width: 1.5;\" width=\"435\" x=\"642\" y=\"49\"/><text fill=\"#000000\" font-family=\"sans-serif\" font-size=\"12\" font-style=\"italic\" lengthAdjust=\"spacingAndGlyphs\" textLength=\"147\" x=\"786\" y=\"65.1387\">«individual occurrence»</text><text fill=\"#000000\" font-family=\"sans-serif\" font-size=\"12\" lengthAdjust=\"spacingAndGlyphs\" textLength=\"77\" x=\"821\" y=\"79.1074\">ind: Ind, Occ</text><line style=\"stroke: #383838; stroke-width: 1.0;\" x1=\"642\" x2=\"1077\" y1=\"86.9375\" y2=\"86.9375\"/></a><g id=\"E1.E2\"><a href=\"psysml:eaa0b96d-7da2-44a7-b980-6b6f36747918\" target=\"_top\" title=\"psysml:eaa0b96d-7da2-44a7-b980-6b6f36747918\" xlink:actuate=\"onRequest\" xlink:href=\"psysml:eaa0b96d-7da2-44a7-b980-6b6f36747918\" xlink:show=\"new\" xlink:title=\"psysml:eaa0b96d-7da2-44a7-b980-6b6f36747918\" xlink:type=\"simple\"><rect fill=\"#FFFFFF\" height=\"42.9375\" id=\"E2\" style=\"stroke: #383838; stroke-width: 1.5;\" width=\"120\" x=\"502\" y=\"100\"/><rect fill=\"#F8F8F8\" height=\"37.9375\" style=\"stroke: #383838; stroke-width: 1.5;\" width=\"120\" x=\"502\" y=\"100\"/><text fill=\"#000000\" font-family=\"sans-serif\" font-size=\"12\" font-style=\"italic\" lengthAdjust=\"spacingAndGlyphs\" textLength=\"113\" x=\"505.5\" y=\"116.1387\">«occurrence  def»</text><text fill=\"#000000\" font-family=\"sans-serif\" font-size=\"12\" lengthAdjust=\"spacingAndGlyphs\" textLength=\"23\" x=\"550.5\" y=\"130.1074\">Occ</text></a></g><g id=\"E1.E3\"><a href=\"psysml:54e4af67-f268-48a3-80b8-bc1579f32c01\" target=\"_top\" title=\"psysml:54e4af67-f268-48a3-80b8-bc1579f32c01\" xlink:actuate=\"onRequest\" xlink:href=\"psysml:54e4af67-f268-48a3-80b8-bc1579f32c01\" xlink:show=\"new\" xlink:title=\"psysml:54e4af67-f268-48a3-80b8-bc1579f32c01\" xlink:type=\"simple\"><rect fill=\"#FFFFFF\" height=\"42.9375\" id=\"E3\" style=\"stroke: #383838; stroke-width: 1.5;\" width=\"182\" x=\"285\" y=\"100\"/><rect fill=\"#F8F8F8\" height=\"37.9375\" style=\"stroke: #383838; stroke-width: 1.5;\" width=\"182\" x=\"285\" y=\"100\"/><text fill=\"#000000\" font-family=\"sans-serif\" font-size=\"12\" font-style=\"italic\" lengthAdjust=\"spacingAndGlyphs\" textLength=\"175\" x=\"288.5\" y=\"116.1387\">«individual occurrence  def»</text><text fill=\"#000000\" font-family=\"sans-serif\" font-size=\"12\" lengthAdjust=\"spacingAndGlyphs\" textLength=\"19\" x=\"366.5\" y=\"130.1074\">Ind</text></a></g><g id=\"E1.E4.E5\"><a href=\"psysml:fe74329f-5d2b-4ebe-b106-a7ecca7a6fbd\" target=\"_top\" title=\"psysml:fe74329f-5d2b-4ebe-b106-a7ecca7a6fbd\" xlink:actuate=\"onRequest\" xlink:href=\"psysml:fe74329f-5d2b-4ebe-b106-a7ecca7a6fbd\" xlink:show=\"new\" xlink:title=\"psysml:fe74329f-5d2b-4ebe-b106-a7ecca7a6fbd\" xlink:type=\"simple\"><rect fill=\"#FFFFFF\" height=\"42.9375\" id=\"E5\" rx=\"10\" ry=\"10\" style=\"stroke: #383838; stroke-width: 1.5;\" width=\"155\" x=\"905.5\" y=\"100\"/><rect fill=\"#F8F8F8\" height=\"37.9375\" rx=\"10\" ry=\"10\" style=\"stroke: #F8F8F8; stroke-width: 1.5;\" width=\"155\" x=\"905.5\" y=\"100\"/><rect fill=\"#F8F8F8\" height=\"10\" style=\"stroke: #F8F8F8; stroke-width: 1.5;\" width=\"155\" x=\"905.5\" y=\"127.9375\"/><rect fill=\"none\" height=\"42.9375\" id=\"E5\" rx=\"10\" ry=\"10\" style=\"stroke: #383838; stroke-width: 1.5;\" width=\"155\" x=\"905.5\" y=\"100\"/><text fill=\"#000000\" font-family=\"sans-serif\" font-size=\"12\" font-style=\"italic\" lengthAdjust=\"spacingAndGlyphs\" textLength=\"148\" x=\"909\" y=\"116.1387\">«snapshot occurrence»</text><text fill=\"#000000\" font-family=\"sans-serif\" font-size=\"12\" lengthAdjust=\"spacingAndGlyphs\" textLength=\"15\" x=\"975.5\" y=\"130.1074\">s3</text></a></g><g id=\"E1.E4.E6\"><a href=\"psysml:6925098a-d5ed-431f-aaf1-d453853f914b\" target=\"_top\" title=\"psysml:6925098a-d5ed-431f-aaf1-d453853f914b\" xlink:actuate=\"onRequest\" xlink:href=\"psysml:6925098a-d5ed-431f-aaf1-d453853f914b\" xlink:show=\"new\" xlink:title=\"psysml:6925098a-d5ed-431f-aaf1-d453853f914b\" xlink:type=\"simple\"><rect fill=\"#FFFFFF\" height=\"42.9375\" id=\"E6\" rx=\"10\" ry=\"10\" style=\"stroke: #383838; stroke-width: 1.5;\" width=\"213\" x=\"657.5\" y=\"100\"/><rect fill=\"#F8F8F8\" height=\"37.9375\" rx=\"10\" ry=\"10\" style=\"stroke: #F8F8F8; stroke-width: 1.5;\" width=\"213\" x=\"657.5\" y=\"100\"/><rect fill=\"#F8F8F8\" height=\"10\" style=\"stroke: #F8F8F8; stroke-width: 1.5;\" width=\"213\" x=\"657.5\" y=\"127.9375\"/><rect fill=\"none\" height=\"42.9375\" id=\"E6\" rx=\"10\" ry=\"10\" style=\"stroke: #383838; stroke-width: 1.5;\" width=\"213\" x=\"657.5\" y=\"100\"/><text fill=\"#000000\" font-family=\"sans-serif\" font-size=\"12\" font-style=\"italic\" lengthAdjust=\"spacingAndGlyphs\" textLength=\"206\" x=\"661\" y=\"116.1387\">«individual timeslice occurrence»</text><text fill=\"#000000\" font-family=\"sans-serif\" font-size=\"12\" lengthAdjust=\"spacingAndGlyphs\" textLength=\"13\" x=\"757.5\" y=\"130.1074\">t3</text></a></g><g id=\"E1.E7\"><a href=\"psysml:4e4d3416-6ae1-42d7-bc86-2084c913e314\" target=\"_top\" title=\"psysml:4e4d3416-6ae1-42d7-bc86-2084c913e314\" xlink:actuate=\"onRequest\" xlink:href=\"psysml:4e4d3416-6ae1-42d7-bc86-2084c913e314\" xlink:show=\"new\" xlink:title=\"psysml:4e4d3416-6ae1-42d7-bc86-2084c913e314\" xlink:type=\"simple\"><rect fill=\"#FFFFFF\" height=\"42.9375\" id=\"E7\" rx=\"10\" ry=\"10\" style=\"stroke: #383838; stroke-width: 1.5;\" width=\"217\" x=\"32.5\" y=\"100\"/><rect fill=\"#F8F8F8\" height=\"37.9375\" rx=\"10\" ry=\"10\" style=\"stroke: #F8F8F8; stroke-width: 1.5;\" width=\"217\" x=\"32.5\" y=\"100\"/><rect fill=\"#F8F8F8\" height=\"10\" style=\"stroke: #F8F8F8; stroke-width: 1.5;\" width=\"217\" x=\"32.5\" y=\"127.9375\"/><rect fill=\"none\" height=\"42.9375\" id=\"E7\" rx=\"10\" ry=\"10\" style=\"stroke: #383838; stroke-width: 1.5;\" width=\"217\" x=\"32.5\" y=\"100\"/><text fill=\"#000000\" font-family=\"sans-serif\" font-size=\"12\" font-style=\"italic\" lengthAdjust=\"spacingAndGlyphs\" textLength=\"210\" x=\"36\" y=\"116.1387\">«individual snapshot occurrence»</text><text fill=\"#000000\" font-family=\"sans-serif\" font-size=\"12\" lengthAdjust=\"spacingAndGlyphs\" textLength=\"42\" x=\"120\" y=\"130.1074\">s4: Ind</text></a></g><!--MD5=[f0e2fdd16aaf56d1f6f562f6e3730fba]\n",
       "@startuml\r\n",
       "skinparam ranksep 10\r\n",
       "skinparam rectangle {\r\n",
       " backgroundColor<<block>> LightGreen\r\n",
       "}\r\n",
       "skinparam monochrome true\r\n",
       "skinparam classbackgroundcolor white\r\n",
       "skinparam shadowing false\r\n",
       "skinparam wrapWidth 300\r\n",
       "hide circle\r\n",
       "\r\n",
       "package \"OccurrenceTest\" as E1  [[psysml:76f03fcf-c31b-4704-ae9e-b44a23fd6ebe ]]  {\r\n",
       "def \"Occ\" as E2  <<(T,blue) occurrence  def>> [[psysml:eaa0b96d-7da2-44a7-b980-6b6f36747918 ]] \r\n",
       "def \"Ind\" as E3  <<(T,blue) individual occurrence  def>> [[psysml:54e4af67-f268-48a3-80b8-bc1579f32c01 ]] \r\n",
       "rec usage \"ind: Ind, Occ\" as E4  <<(T,blue) individual occurrence>> [[psysml:ec83ca81-a881-4da3-97a0-46e2b6aae84c ]] {\r\n",
       "rec usage \"s3\" as E5  <<(T,blue) snapshot occurrence>> [[psysml:fe74329f-5d2b-4ebe-b106-a7ecca7a6fbd ]] {\r\n",
       "}\r\n",
       "rec usage \"t3\" as E6  <<(T,blue) individual timeslice occurrence>> [[psysml:6925098a-d5ed-431f-aaf1-d453853f914b ]] {\r\n",
       "}\r\n",
       "}\r\n",
       "rec usage \"s4: Ind\" as E7  <<(T,blue) individual snapshot occurrence>> [[psysml:4e4d3416-6ae1-42d7-bc86-2084c913e314 ]] {\r\n",
       "}\r\n",
       "}\r\n",
       "@enduml\r\n",
       "\n",
       "PlantUML version 1.2020.13(Sat Jun 13 12:26:38 UTC 2020)\n",
       "(EPL source distribution)\n",
       "Java Runtime: OpenJDK Runtime Environment\n",
       "JVM: OpenJDK 64-Bit Server VM\n",
       "Default Encoding: UTF-8\n",
       "Language: en\n",
       "Country: null\n",
       "--></g></svg>"
      ]
     },
     "execution_count": 40,
     "metadata": {},
     "output_type": "execute_result"
    }
   ],
   "source": [
    "%viz --style=\"DEFAULT\" --view=\"Interconnection\" \"OccurrenceTest\""
   ]
  },
  {
   "cell_type": "code",
   "execution_count": 41,
   "id": "a818363e",
   "metadata": {
    "execution": {
     "iopub.execute_input": "2022-02-18T10:48:39.261933Z",
     "iopub.status.busy": "2022-02-18T10:48:39.261337Z",
     "iopub.status.idle": "2022-02-18T10:48:39.266715Z",
     "shell.execute_reply": "2022-02-18T10:48:39.266350Z"
    }
   },
   "outputs": [
    {
     "data": {
      "image/svg+xml": [
       "<?xml version=\"1.0\" encoding=\"UTF-8\" standalone=\"no\"?><svg xmlns=\"http://www.w3.org/2000/svg\" xmlns:xlink=\"http://www.w3.org/1999/xlink\" contentScriptType=\"application/ecmascript\" contentStyleType=\"text/css\" height=\"12px\" preserveAspectRatio=\"none\" style=\"width:12px;height:12px;\" version=\"1.1\" viewBox=\"0 0 12 12\" width=\"12px\" zoomAndPan=\"magnify\"><defs/><g><!--MD5=[388f21188e31bfdd97050473b19af356]\n",
       "@startuml\r\n",
       "skinparam ranksep 8\r\n",
       "skinparam monochrome true\r\n",
       "skinparam classbackgroundcolor white\r\n",
       "skinparam shadowing false\r\n",
       "skinparam wrapWidth 300\r\n",
       "hide circle\r\n",
       "\r\n",
       "@enduml\r\n",
       "\n",
       "PlantUML version 1.2020.13(Sat Jun 13 12:26:38 UTC 2020)\n",
       "(EPL source distribution)\n",
       "Java Runtime: OpenJDK Runtime Environment\n",
       "JVM: OpenJDK 64-Bit Server VM\n",
       "Default Encoding: UTF-8\n",
       "Language: en\n",
       "Country: null\n",
       "--></g></svg>"
      ]
     },
     "execution_count": 41,
     "metadata": {},
     "output_type": "execute_result"
    }
   ],
   "source": [
    "%viz --style=\"DEFAULT\" --view=\"Action\" \"OccurrenceTest\""
   ]
  },
  {
   "cell_type": "code",
   "execution_count": 42,
   "id": "344eb9d3",
   "metadata": {
    "execution": {
     "iopub.execute_input": "2022-02-18T10:48:39.316852Z",
     "iopub.status.busy": "2022-02-18T10:48:39.316249Z",
     "iopub.status.idle": "2022-02-18T10:48:39.321627Z",
     "shell.execute_reply": "2022-02-18T10:48:39.321263Z"
    }
   },
   "outputs": [
    {
     "data": {
      "image/svg+xml": [
       "<?xml version=\"1.0\" encoding=\"UTF-8\" standalone=\"no\"?><svg xmlns=\"http://www.w3.org/2000/svg\" xmlns:xlink=\"http://www.w3.org/1999/xlink\" contentScriptType=\"application/ecmascript\" contentStyleType=\"text/css\" height=\"12px\" preserveAspectRatio=\"none\" style=\"width:12px;height:12px;\" version=\"1.1\" viewBox=\"0 0 12 12\" width=\"12px\" zoomAndPan=\"magnify\"><defs/><g><!--MD5=[0b72472770326784bf6c2b53246e1e64]\n",
       "@startuml\r\n",
       "skinparam roundcorner 20\r\n",
       "skinparam BoxPadding 20\r\n",
       "skinparam SequenceBoxBackgroundColor #white\r\n",
       "skinparam style strictuml\r\n",
       "skinparam maxMessageSize 100\r\n",
       "skinparam monochrome true\r\n",
       "skinparam classbackgroundcolor white\r\n",
       "skinparam shadowing false\r\n",
       "skinparam wrapWidth 300\r\n",
       "hide circle\r\n",
       "\r\n",
       "@enduml\r\n",
       "\n",
       "PlantUML version 1.2020.13(Sat Jun 13 12:26:38 UTC 2020)\n",
       "(EPL source distribution)\n",
       "Java Runtime: OpenJDK Runtime Environment\n",
       "JVM: OpenJDK 64-Bit Server VM\n",
       "Default Encoding: UTF-8\n",
       "Language: en\n",
       "Country: null\n",
       "--></g></svg>"
      ]
     },
     "execution_count": 42,
     "metadata": {},
     "output_type": "execute_result"
    }
   ],
   "source": [
    "%viz --style=\"DEFAULT\" --view=\"Sequence\" \"OccurrenceTest\""
   ]
  },
  {
   "cell_type": "code",
   "execution_count": 43,
   "id": "dc3d52d0",
   "metadata": {
    "execution": {
     "iopub.execute_input": "2022-02-18T10:48:39.371786Z",
     "iopub.status.busy": "2022-02-18T10:48:39.371196Z",
     "iopub.status.idle": "2022-02-18T10:48:39.437457Z",
     "shell.execute_reply": "2022-02-18T10:48:39.435871Z"
    }
   },
   "outputs": [
    {
     "data": {
      "image/svg+xml": [
       "<?xml version=\"1.0\" encoding=\"UTF-8\" standalone=\"no\"?><svg xmlns=\"http://www.w3.org/2000/svg\" xmlns:xlink=\"http://www.w3.org/1999/xlink\" contentScriptType=\"application/ecmascript\" contentStyleType=\"text/css\" height=\"569px\" preserveAspectRatio=\"none\" style=\"width:1009px;height:569px;\" version=\"1.1\" viewBox=\"0 0 1009 569\" width=\"1009px\" zoomAndPan=\"magnify\"><defs/><g><!--MD5=[fbc87193dbaf4d95561dea2c320d4a47]\n",
       "cluster E1--><a href=\"psysml:76f03fcf-c31b-4704-ae9e-b44a23fd6ebe\" target=\"_top\" title=\"psysml:76f03fcf-c31b-4704-ae9e-b44a23fd6ebe\" xlink:actuate=\"onRequest\" xlink:href=\"psysml:76f03fcf-c31b-4704-ae9e-b44a23fd6ebe\" xlink:show=\"new\" xlink:title=\"psysml:76f03fcf-c31b-4704-ae9e-b44a23fd6ebe\" xlink:type=\"simple\"><polygon fill=\"#FFFFFF\" points=\"16,6,134,6,141,28.2969,970,28.2969,970,557,16,557,16,6\" style=\"stroke: #000000; stroke-width: 1.5;\"/><line style=\"stroke: #000000; stroke-width: 1.5;\" x1=\"16\" x2=\"141\" y1=\"28.2969\" y2=\"28.2969\"/><text fill=\"#000000\" font-family=\"sans-serif\" font-size=\"14\" font-weight=\"bold\" lengthAdjust=\"spacingAndGlyphs\" textLength=\"112\" x=\"20\" y=\"20.9951\">OccurrenceTest</text></a><!--MD5=[b4997ac47864f28c2f74865a473b2911]\n",
       "class E2--><a href=\"psysml:eaa0b96d-7da2-44a7-b980-6b6f36747918\" target=\"_top\" title=\"psysml:eaa0b96d-7da2-44a7-b980-6b6f36747918\" xlink:actuate=\"onRequest\" xlink:href=\"psysml:eaa0b96d-7da2-44a7-b980-6b6f36747918\" xlink:show=\"new\" xlink:title=\"psysml:eaa0b96d-7da2-44a7-b980-6b6f36747918\" xlink:type=\"simple\"><rect fill=\"#FFFFFF\" height=\"75.5469\" id=\"E2\" style=\"stroke: #383838; stroke-width: 1.5;\" width=\"115\" x=\"373.5\" y=\"147\"/><text fill=\"#000000\" font-family=\"sans-serif\" font-size=\"12\" font-style=\"italic\" lengthAdjust=\"spacingAndGlyphs\" textLength=\"113\" x=\"374.5\" y=\"163.1387\">«occurrence  def»</text><text fill=\"#000000\" font-family=\"sans-serif\" font-size=\"12\" lengthAdjust=\"spacingAndGlyphs\" textLength=\"23\" x=\"419.5\" y=\"177.1074\">Occ</text><line style=\"stroke: #383838; stroke-width: 1.5;\" x1=\"374.5\" x2=\"487.5\" y1=\"184.9375\" y2=\"184.9375\"/><text fill=\"#000000\" font-family=\"sans-serif\" font-size=\"11\" lengthAdjust=\"spacingAndGlyphs\" textLength=\"7\" x=\"379.5\" y=\"215.9526\">a</text><line style=\"stroke: #383838; stroke-width: 1.0;\" x1=\"374.5\" x2=\"403.5\" y1=\"199.3398\" y2=\"199.3398\"/><text fill=\"#000000\" font-family=\"sans-serif\" font-size=\"11\" lengthAdjust=\"spacingAndGlyphs\" textLength=\"55\" x=\"403.5\" y=\"202.6479\">attributes</text><line style=\"stroke: #383838; stroke-width: 1.0;\" x1=\"458.5\" x2=\"487.5\" y1=\"199.3398\" y2=\"199.3398\"/></a><!--MD5=[09b614a08d8cba4a07c9adeb5e0fee81]\n",
       "class E3--><a href=\"psysml:87fca259-1c14-4b5b-983e-37895f6ff77b\" target=\"_top\" title=\"psysml:87fca259-1c14-4b5b-983e-37895f6ff77b\" xlink:actuate=\"onRequest\" xlink:href=\"psysml:87fca259-1c14-4b5b-983e-37895f6ff77b\" xlink:show=\"new\" xlink:title=\"psysml:87fca259-1c14-4b5b-983e-37895f6ff77b\" xlink:type=\"simple\"><rect fill=\"#FFFFFF\" height=\"45.9375\" id=\"E3\" rx=\"10\" ry=\"10\" style=\"stroke: #383838; stroke-width: 1.5;\" width=\"87\" x=\"279.5\" y=\"283\"/><text fill=\"#000000\" font-family=\"sans-serif\" font-size=\"12\" font-style=\"italic\" lengthAdjust=\"spacingAndGlyphs\" textLength=\"85\" x=\"280.5\" y=\"299.1387\">«occurrence»</text><text fill=\"#000000\" font-family=\"sans-serif\" font-size=\"12\" lengthAdjust=\"spacingAndGlyphs\" textLength=\"61\" x=\"290.5\" y=\"313.1074\">occ1: Occ</text><line style=\"stroke: #383838; stroke-width: 1.5;\" x1=\"280.5\" x2=\"365.5\" y1=\"320.9375\" y2=\"320.9375\"/></a><!--MD5=[ebbe1d658d1005bcc118a6aa81145e00]\n",
       "class E4--><a href=\"psysml:ffd2f288-180d-4271-8880-cf9706207ba2\" target=\"_top\" title=\"psysml:ffd2f288-180d-4271-8880-cf9706207ba2\" xlink:actuate=\"onRequest\" xlink:href=\"psysml:ffd2f288-180d-4271-8880-cf9706207ba2\" xlink:show=\"new\" xlink:title=\"psysml:ffd2f288-180d-4271-8880-cf9706207ba2\" xlink:type=\"simple\"><rect fill=\"#FFFFFF\" height=\"45.9375\" id=\"E4\" rx=\"10\" ry=\"10\" style=\"stroke: #383838; stroke-width: 1.5;\" width=\"87\" x=\"401.5\" y=\"283\"/><text fill=\"#000000\" font-family=\"sans-serif\" font-size=\"12\" font-style=\"italic\" lengthAdjust=\"spacingAndGlyphs\" textLength=\"85\" x=\"402.5\" y=\"299.1387\">«occurrence»</text><text fill=\"#000000\" font-family=\"sans-serif\" font-size=\"12\" lengthAdjust=\"spacingAndGlyphs\" textLength=\"61\" x=\"412.5\" y=\"313.1074\">occ2: Occ</text><line style=\"stroke: #383838; stroke-width: 1.5;\" x1=\"402.5\" x2=\"487.5\" y1=\"320.9375\" y2=\"320.9375\"/></a><!--MD5=[270fce915f116d4de14055a7c1d9a0f3]\n",
       "class E5--><a href=\"psysml:4e1769cc-a186-417e-91f0-587d1f1196e7\" target=\"_top\" title=\"psysml:4e1769cc-a186-417e-91f0-587d1f1196e7\" xlink:actuate=\"onRequest\" xlink:href=\"psysml:4e1769cc-a186-417e-91f0-587d1f1196e7\" xlink:show=\"new\" xlink:title=\"psysml:4e1769cc-a186-417e-91f0-587d1f1196e7\" xlink:type=\"simple\"><rect fill=\"#FFFFFF\" height=\"45.9375\" id=\"E5\" rx=\"10\" ry=\"10\" style=\"stroke: #383838; stroke-width: 1.5;\" width=\"212\" x=\"524\" y=\"283\"/><text fill=\"#000000\" font-family=\"sans-serif\" font-size=\"12\" font-style=\"italic\" lengthAdjust=\"spacingAndGlyphs\" textLength=\"210\" x=\"525\" y=\"299.1387\">«individual snapshot occurrence»</text><text fill=\"#000000\" font-family=\"sans-serif\" font-size=\"12\" lengthAdjust=\"spacingAndGlyphs\" textLength=\"34\" x=\"611\" y=\"313.1074\">s: Ind</text><line style=\"stroke: #383838; stroke-width: 1.5;\" x1=\"525\" x2=\"735\" y1=\"320.9375\" y2=\"320.9375\"/></a><!--MD5=[60a26617385b1d2d0262a64233df1f8d]\n",
       "class E6--><a href=\"psysml:9c61ac47-8b4e-45e2-802a-f3aa096140c4\" target=\"_top\" title=\"psysml:9c61ac47-8b4e-45e2-802a-f3aa096140c4\" xlink:actuate=\"onRequest\" xlink:href=\"psysml:9c61ac47-8b4e-45e2-802a-f3aa096140c4\" xlink:show=\"new\" xlink:title=\"psysml:9c61ac47-8b4e-45e2-802a-f3aa096140c4\" xlink:type=\"simple\"><rect fill=\"#FFFFFF\" height=\"45.9375\" id=\"E6\" rx=\"10\" ry=\"10\" style=\"stroke: #383838; stroke-width: 1.5;\" width=\"146\" x=\"771\" y=\"283\"/><text fill=\"#000000\" font-family=\"sans-serif\" font-size=\"12\" font-style=\"italic\" lengthAdjust=\"spacingAndGlyphs\" textLength=\"144\" x=\"772\" y=\"299.1387\">«timeslice occurrence»</text><text fill=\"#000000\" font-family=\"sans-serif\" font-size=\"12\" lengthAdjust=\"spacingAndGlyphs\" textLength=\"5\" x=\"839.5\" y=\"313.1074\">t</text><line style=\"stroke: #383838; stroke-width: 1.5;\" x1=\"772\" x2=\"916\" y1=\"320.9375\" y2=\"320.9375\"/></a><!--MD5=[2156ba9850f5573cc1fc38a6a4b2f02b]\n",
       "class E7--><a href=\"psysml:54e4af67-f268-48a3-80b8-bc1579f32c01\" target=\"_top\" title=\"psysml:54e4af67-f268-48a3-80b8-bc1579f32c01\" xlink:actuate=\"onRequest\" xlink:href=\"psysml:54e4af67-f268-48a3-80b8-bc1579f32c01\" xlink:show=\"new\" xlink:title=\"psysml:54e4af67-f268-48a3-80b8-bc1579f32c01\" xlink:type=\"simple\"><rect fill=\"#FFFFFF\" height=\"45.9375\" id=\"E7\" style=\"stroke: #383838; stroke-width: 1.5;\" width=\"177\" x=\"541.5\" y=\"389\"/><text fill=\"#000000\" font-family=\"sans-serif\" font-size=\"12\" font-style=\"italic\" lengthAdjust=\"spacingAndGlyphs\" textLength=\"175\" x=\"542.5\" y=\"405.1387\">«individual occurrence  def»</text><text fill=\"#000000\" font-family=\"sans-serif\" font-size=\"12\" lengthAdjust=\"spacingAndGlyphs\" textLength=\"19\" x=\"620.5\" y=\"419.1074\">Ind</text><line style=\"stroke: #383838; stroke-width: 1.5;\" x1=\"542.5\" x2=\"717.5\" y1=\"426.9375\" y2=\"426.9375\"/></a><!--MD5=[b9389687b975829384b498ac4b7476b2]\n",
       "class E8--><a href=\"psysml:bfc31472-e77d-4111-949c-57e124b09868\" target=\"_top\" title=\"psysml:bfc31472-e77d-4111-949c-57e124b09868\" xlink:actuate=\"onRequest\" xlink:href=\"psysml:bfc31472-e77d-4111-949c-57e124b09868\" xlink:show=\"new\" xlink:title=\"psysml:bfc31472-e77d-4111-949c-57e124b09868\" xlink:type=\"simple\"><rect fill=\"#FFFFFF\" height=\"45.9375\" id=\"E8\" rx=\"10\" ry=\"10\" style=\"stroke: #383838; stroke-width: 1.5;\" width=\"150\" x=\"463\" y=\"495\"/><text fill=\"#000000\" font-family=\"sans-serif\" font-size=\"12\" font-style=\"italic\" lengthAdjust=\"spacingAndGlyphs\" textLength=\"148\" x=\"464\" y=\"511.1387\">«snapshot occurrence»</text><text fill=\"#000000\" font-family=\"sans-serif\" font-size=\"12\" lengthAdjust=\"spacingAndGlyphs\" textLength=\"15\" x=\"528.5\" y=\"525.1074\">s2</text><line style=\"stroke: #383838; stroke-width: 1.5;\" x1=\"464\" x2=\"612\" y1=\"532.9375\" y2=\"532.9375\"/></a><!--MD5=[fd4143e9d270a159db93a4ea2a975926]\n",
       "class E9--><a href=\"psysml:25521b86-d75d-41e6-9d0e-592064bc2653\" target=\"_top\" title=\"psysml:25521b86-d75d-41e6-9d0e-592064bc2653\" xlink:actuate=\"onRequest\" xlink:href=\"psysml:25521b86-d75d-41e6-9d0e-592064bc2653\" xlink:show=\"new\" xlink:title=\"psysml:25521b86-d75d-41e6-9d0e-592064bc2653\" xlink:type=\"simple\"><rect fill=\"#FFFFFF\" height=\"45.9375\" id=\"E9\" rx=\"10\" ry=\"10\" style=\"stroke: #383838; stroke-width: 1.5;\" width=\"146\" x=\"648\" y=\"495\"/><text fill=\"#000000\" font-family=\"sans-serif\" font-size=\"12\" font-style=\"italic\" lengthAdjust=\"spacingAndGlyphs\" textLength=\"144\" x=\"649\" y=\"511.1387\">«timeslice occurrence»</text><text fill=\"#000000\" font-family=\"sans-serif\" font-size=\"12\" lengthAdjust=\"spacingAndGlyphs\" textLength=\"13\" x=\"712.5\" y=\"525.1074\">t2</text><line style=\"stroke: #383838; stroke-width: 1.5;\" x1=\"649\" x2=\"793\" y1=\"532.9375\" y2=\"532.9375\"/></a><!--MD5=[96f4274e9e20536e775497830990834d]\n",
       "class E10--><a href=\"psysml:ec83ca81-a881-4da3-97a0-46e2b6aae84c\" target=\"_top\" title=\"psysml:ec83ca81-a881-4da3-97a0-46e2b6aae84c\" xlink:actuate=\"onRequest\" xlink:href=\"psysml:ec83ca81-a881-4da3-97a0-46e2b6aae84c\" xlink:show=\"new\" xlink:title=\"psysml:ec83ca81-a881-4da3-97a0-46e2b6aae84c\" xlink:type=\"simple\"><rect fill=\"#FFFFFF\" height=\"45.9375\" id=\"E10\" rx=\"10\" ry=\"10\" style=\"stroke: #383838; stroke-width: 1.5;\" width=\"149\" x=\"505.5\" y=\"41\"/><text fill=\"#000000\" font-family=\"sans-serif\" font-size=\"12\" font-style=\"italic\" lengthAdjust=\"spacingAndGlyphs\" textLength=\"147\" x=\"506.5\" y=\"57.1387\">«individual occurrence»</text><text fill=\"#000000\" font-family=\"sans-serif\" font-size=\"12\" lengthAdjust=\"spacingAndGlyphs\" textLength=\"77\" x=\"539.5\" y=\"71.1074\">ind: Ind, Occ</text><line style=\"stroke: #383838; stroke-width: 1.5;\" x1=\"506.5\" x2=\"653.5\" y1=\"78.9375\" y2=\"78.9375\"/></a><!--MD5=[1dd1bfd58a279cf63c5f349dbc8fc6a1]\n",
       "class E11--><a href=\"psysml:fe74329f-5d2b-4ebe-b106-a7ecca7a6fbd\" target=\"_top\" title=\"psysml:fe74329f-5d2b-4ebe-b106-a7ecca7a6fbd\" xlink:actuate=\"onRequest\" xlink:href=\"psysml:fe74329f-5d2b-4ebe-b106-a7ecca7a6fbd\" xlink:show=\"new\" xlink:title=\"psysml:fe74329f-5d2b-4ebe-b106-a7ecca7a6fbd\" xlink:type=\"simple\"><rect fill=\"#FFFFFF\" height=\"45.9375\" id=\"E11\" rx=\"10\" ry=\"10\" style=\"stroke: #383838; stroke-width: 1.5;\" width=\"150\" x=\"561\" y=\"162\"/><text fill=\"#000000\" font-family=\"sans-serif\" font-size=\"12\" font-style=\"italic\" lengthAdjust=\"spacingAndGlyphs\" textLength=\"148\" x=\"562\" y=\"178.1387\">«snapshot occurrence»</text><text fill=\"#000000\" font-family=\"sans-serif\" font-size=\"12\" lengthAdjust=\"spacingAndGlyphs\" textLength=\"15\" x=\"626.5\" y=\"192.1074\">s3</text><line style=\"stroke: #383838; stroke-width: 1.5;\" x1=\"562\" x2=\"710\" y1=\"199.9375\" y2=\"199.9375\"/></a><!--MD5=[49a0ec8f00dab7302a31f22d0f0fe584]\n",
       "class E12--><a href=\"psysml:6925098a-d5ed-431f-aaf1-d453853f914b\" target=\"_top\" title=\"psysml:6925098a-d5ed-431f-aaf1-d453853f914b\" xlink:actuate=\"onRequest\" xlink:href=\"psysml:6925098a-d5ed-431f-aaf1-d453853f914b\" xlink:show=\"new\" xlink:title=\"psysml:6925098a-d5ed-431f-aaf1-d453853f914b\" xlink:type=\"simple\"><rect fill=\"#FFFFFF\" height=\"45.9375\" id=\"E12\" rx=\"10\" ry=\"10\" style=\"stroke: #383838; stroke-width: 1.5;\" width=\"208\" x=\"746\" y=\"162\"/><text fill=\"#000000\" font-family=\"sans-serif\" font-size=\"12\" font-style=\"italic\" lengthAdjust=\"spacingAndGlyphs\" textLength=\"206\" x=\"747\" y=\"178.1387\">«individual timeslice occurrence»</text><text fill=\"#000000\" font-family=\"sans-serif\" font-size=\"12\" lengthAdjust=\"spacingAndGlyphs\" textLength=\"13\" x=\"841.5\" y=\"192.1074\">t3</text><line style=\"stroke: #383838; stroke-width: 1.5;\" x1=\"747\" x2=\"953\" y1=\"199.9375\" y2=\"199.9375\"/></a><!--MD5=[ee3c913d1a06f366521f9ef512b67efe]\n",
       "class E13--><a href=\"psysml:4e4d3416-6ae1-42d7-bc86-2084c913e314\" target=\"_top\" title=\"psysml:4e4d3416-6ae1-42d7-bc86-2084c913e314\" xlink:actuate=\"onRequest\" xlink:href=\"psysml:4e4d3416-6ae1-42d7-bc86-2084c913e314\" xlink:show=\"new\" xlink:title=\"psysml:4e4d3416-6ae1-42d7-bc86-2084c913e314\" xlink:type=\"simple\"><rect fill=\"#FFFFFF\" height=\"45.9375\" id=\"E13\" rx=\"10\" ry=\"10\" style=\"stroke: #383838; stroke-width: 1.5;\" width=\"212\" x=\"32\" y=\"283\"/><text fill=\"#000000\" font-family=\"sans-serif\" font-size=\"12\" font-style=\"italic\" lengthAdjust=\"spacingAndGlyphs\" textLength=\"210\" x=\"33\" y=\"299.1387\">«individual snapshot occurrence»</text><text fill=\"#000000\" font-family=\"sans-serif\" font-size=\"12\" lengthAdjust=\"spacingAndGlyphs\" textLength=\"42\" x=\"115\" y=\"313.1074\">s4: Ind</text><line style=\"stroke: #383838; stroke-width: 1.5;\" x1=\"33\" x2=\"243\" y1=\"320.9375\" y2=\"320.9375\"/></a><!--MD5=[209b3feb70ccb6233bfe1053d122c12c]\n",
       "reverse link E2 to E3--><a href=\"psysml:62ea934f-12d4-42a0-b786-a1086ef654f4\" target=\"_top\" title=\"psysml:62ea934f-12d4-42a0-b786-a1086ef654f4\" xlink:actuate=\"onRequest\" xlink:href=\"psysml:62ea934f-12d4-42a0-b786-a1086ef654f4\" xlink:show=\"new\" xlink:title=\"psysml:62ea934f-12d4-42a0-b786-a1086ef654f4\" xlink:type=\"simple\"><path d=\"M376.37,232.45 C359.85,249.83 343.43,268.76 332.86,282.93 \" fill=\"none\" id=\"E2&lt;-E3\" style=\"stroke: #383838; stroke-width: 1.0;\"/><polygon fill=\"#FFFFFF\" points=\"385.52,223,378.4729,224.5294,377.1743,231.6226,384.2213,230.0932,385.52,223\" style=\"stroke: #383838; stroke-width: 1.0;\"/></a><!--MD5=[05d275557350bfb9b23a4ef7222b4c39]\n",
       "link E3 to E2--><a href=\"psysml:72edb9ed-f456-4be1-846b-a7c4b7fb6ef3\" target=\"_top\" title=\"psysml:72edb9ed-f456-4be1-846b-a7c4b7fb6ef3\" xlink:actuate=\"onRequest\" xlink:href=\"psysml:72edb9ed-f456-4be1-846b-a7c4b7fb6ef3\" xlink:show=\"new\" xlink:title=\"psysml:72edb9ed-f456-4be1-846b-a7c4b7fb6ef3\" xlink:type=\"simple\"><path d=\"M353.8,282.93 C367.38,270.34 383.11,253.98 396.95,238.29 \" fill=\"none\" id=\"E3-&gt;E2\" style=\"stroke: #383838; stroke-width: 1.0;\"/><polygon fill=\"#FFFFFF\" points=\"410.02,223,403.0007,241.9929,392.3563,232.8991,410.02,223\" style=\"stroke: #383838; stroke-width: 1.0;\"/><ellipse cx=\"397.7776\" cy=\"245.0276\" fill=\"#383838\" rx=\"2\" ry=\"2\" style=\"stroke: #383838; stroke-width: 1.0;\"/><ellipse cx=\"390.1744\" cy=\"238.532\" fill=\"#383838\" rx=\"2\" ry=\"2\" style=\"stroke: #383838; stroke-width: 1.0;\"/></a><!--MD5=[9618e71518536f8baf3342ff6fdab317]\n",
       "reverse link E2 to E4--><a href=\"psysml:1930a264-e184-4aca-ae40-6206f5d09a7f\" target=\"_top\" title=\"psysml:1930a264-e184-4aca-ae40-6206f5d09a7f\" xlink:actuate=\"onRequest\" xlink:href=\"psysml:1930a264-e184-4aca-ae40-6206f5d09a7f\" xlink:show=\"new\" xlink:title=\"psysml:1930a264-e184-4aca-ae40-6206f5d09a7f\" xlink:type=\"simple\"><path d=\"M424.31,236.34 C425.74,252.61 428.58,269.81 432.23,282.93 \" fill=\"none\" id=\"E2&lt;-E4\" style=\"stroke: #383838; stroke-width: 1.0;\"/><polygon fill=\"#383838\" points=\"423.45,223,419.8475,229.2467,424.2281,234.9747,427.8306,228.728,423.45,223\" style=\"stroke: #383838; stroke-width: 1.0;\"/></a><!--MD5=[185131fc0dcab0a4505a2ebe144e961b]\n",
       "link E4 to E2--><a href=\"psysml:32367fe5-1bb2-4952-a335-a8970d1d9f84\" target=\"_top\" title=\"psysml:32367fe5-1bb2-4952-a335-a8970d1d9f84\" xlink:actuate=\"onRequest\" xlink:href=\"psysml:32367fe5-1bb2-4952-a335-a8970d1d9f84\" xlink:show=\"new\" xlink:title=\"psysml:32367fe5-1bb2-4952-a335-a8970d1d9f84\" xlink:type=\"simple\"><path d=\"M453.17,282.93 C453.77,271.65 452.99,257.34 451.22,243.21 \" fill=\"none\" id=\"E4-&gt;E2\" style=\"stroke: #383838; stroke-width: 1.0;\"/><polygon fill=\"#FFFFFF\" points=\"447.96,223,457.8973,240.6423,444.0761,242.8725,447.96,223\" style=\"stroke: #383838; stroke-width: 1.0;\"/><ellipse cx=\"456.8309\" cy=\"246.5881\" fill=\"#383838\" rx=\"2\" ry=\"2\" style=\"stroke: #383838; stroke-width: 1.0;\"/><ellipse cx=\"446.9586\" cy=\"248.1811\" fill=\"#383838\" rx=\"2\" ry=\"2\" style=\"stroke: #383838; stroke-width: 1.0;\"/></a><!--MD5=[4e1a83fab71cdb913c109063314ae896]\n",
       "reverse link E2 to E5--><a href=\"psysml:0faf658f-4e02-48cd-849b-e0220b5d7629\" target=\"_top\" title=\"psysml:0faf658f-4e02-48cd-849b-e0220b5d7629\" xlink:actuate=\"onRequest\" xlink:href=\"psysml:0faf658f-4e02-48cd-849b-e0220b5d7629\" xlink:show=\"new\" xlink:title=\"psysml:0faf658f-4e02-48cd-849b-e0220b5d7629\" xlink:type=\"simple\"><path d=\"M499.85,227.17 C531.12,245.87 566.86,267.24 592.97,282.85 \" fill=\"none\" id=\"E2&lt;-E5\" style=\"stroke: #383838; stroke-width: 1.0;\"/><polygon fill=\"#383838\" points=\"488.56,220.42,491.6568,226.9323,498.8592,226.5784,495.7624,220.0661,488.56,220.42\" style=\"stroke: #383838; stroke-width: 1.0;\"/></a><!--MD5=[ce036f65110ae2351ccce5a81dc2e928]\n",
       "reverse link E2 to E6--><a href=\"psysml:3f965610-dfca-4051-a1f3-35306b55574a\" target=\"_top\" title=\"psysml:3f965610-dfca-4051-a1f3-35306b55574a\" xlink:actuate=\"onRequest\" xlink:href=\"psysml:3f965610-dfca-4051-a1f3-35306b55574a\" xlink:show=\"new\" xlink:title=\"psysml:3f965610-dfca-4051-a1f3-35306b55574a\" xlink:type=\"simple\"><path d=\"M501.02,217.55 C506.06,219.49 511.08,221.33 516,223 C528.19,227.15 677.82,264.14 770.71,287 \" fill=\"none\" id=\"E2&lt;-E6\" style=\"stroke: #383838; stroke-width: 1.0;\"/><polygon fill=\"#383838\" points=\"488.57,212.58,492.6577,218.5206,499.7135,217.0321,495.6258,211.0916,488.57,212.58\" style=\"stroke: #383838; stroke-width: 1.0;\"/></a><!--MD5=[3a9b96bfbf6b6ad89c494e81751bda47]\n",
       "link E5 to E7--><a href=\"psysml:5b4e0f94-bd6c-4a04-8036-e6bb7f85be93\" target=\"_top\" title=\"psysml:5b4e0f94-bd6c-4a04-8036-e6bb7f85be93\" xlink:actuate=\"onRequest\" xlink:href=\"psysml:5b4e0f94-bd6c-4a04-8036-e6bb7f85be93\" xlink:show=\"new\" xlink:title=\"psysml:5b4e0f94-bd6c-4a04-8036-e6bb7f85be93\" xlink:type=\"simple\"><path d=\"M630,329.06 C630,340.64 630,355.23 630,368.87 \" fill=\"none\" id=\"E5-&gt;E7\" style=\"stroke: #383838; stroke-width: 1.0;\"/><polygon fill=\"#FFFFFF\" points=\"630,388.98,623,369.98,637,369.98,630,388.98\" style=\"stroke: #383838; stroke-width: 1.0;\"/><ellipse cx=\"625\" cy=\"364.28\" fill=\"#383838\" rx=\"2\" ry=\"2\" style=\"stroke: #383838; stroke-width: 1.0;\"/><ellipse cx=\"635\" cy=\"364.28\" fill=\"#383838\" rx=\"2\" ry=\"2\" style=\"stroke: #383838; stroke-width: 1.0;\"/></a><!--MD5=[dc164f5e8a733ab456ef1add180e9e34]\n",
       "reverse link E7 to E8--><a href=\"psysml:37f490ca-8c9f-44ef-b281-38d91f32f2bf\" target=\"_top\" title=\"psysml:37f490ca-8c9f-44ef-b281-38d91f32f2bf\" xlink:actuate=\"onRequest\" xlink:href=\"psysml:37f490ca-8c9f-44ef-b281-38d91f32f2bf\" xlink:show=\"new\" xlink:title=\"psysml:37f490ca-8c9f-44ef-b281-38d91f32f2bf\" xlink:type=\"simple\"><path d=\"M601.55,445.16 C587.25,461.33 570.28,480.51 557.48,494.98 \" fill=\"none\" id=\"E7&lt;-E8\" style=\"stroke: #383838; stroke-width: 1.0;\"/><polygon fill=\"#383838\" points=\"610.49,435.06,603.5177,436.9004,602.5348,444.0442,609.5071,442.2038,610.49,435.06\" style=\"stroke: #383838; stroke-width: 1.0;\"/></a><!--MD5=[e4a10ef82d0e328e31cac39a31e58dda]\n",
       "reverse link E7 to E9--><a href=\"psysml:c791e7ed-713f-4106-b9d5-0dfb97ea4543\" target=\"_top\" title=\"psysml:c791e7ed-713f-4106-b9d5-0dfb97ea4543\" xlink:actuate=\"onRequest\" xlink:href=\"psysml:c791e7ed-713f-4106-b9d5-0dfb97ea4543\" xlink:show=\"new\" xlink:title=\"psysml:c791e7ed-713f-4106-b9d5-0dfb97ea4543\" xlink:type=\"simple\"><path d=\"M658.14,445.16 C672.29,461.33 689.07,480.51 701.73,494.98 \" fill=\"none\" id=\"E7&lt;-E9\" style=\"stroke: #383838; stroke-width: 1.0;\"/><polygon fill=\"#383838\" points=\"649.3,435.06,650.2496,442.2083,657.2133,444.0811,656.2637,436.9328,649.3,435.06\" style=\"stroke: #383838; stroke-width: 1.0;\"/></a><!--MD5=[a919e0967d6f3de553dc51b9865a1d6d]\n",
       "link E10 to E7--><a href=\"psysml:d7bf13fe-2343-4091-93b6-ccc05bfccd1c\" target=\"_top\" title=\"psysml:d7bf13fe-2343-4091-93b6-ccc05bfccd1c\" xlink:actuate=\"onRequest\" xlink:href=\"psysml:d7bf13fe-2343-4091-93b6-ccc05bfccd1c\" xlink:show=\"new\" xlink:title=\"psysml:d7bf13fe-2343-4091-93b6-ccc05bfccd1c\" xlink:type=\"simple\"><path d=\"M564.36,87.23 C542.92,120.68 510.65,184.15 544,223 C658.5,356.41 820.5,149.59 935,283 C997.3,355.58 849.41,387.9 738.47,401.63 \" fill=\"none\" id=\"E10-&gt;E7\" style=\"stroke: #383838; stroke-width: 1.0;\"/><polygon fill=\"#FFFFFF\" points=\"718.6,403.94,736.6627,394.7891,738.2822,408.6951,718.6,403.94\" style=\"stroke: #383838; stroke-width: 1.0;\"/><ellipse cx=\"742.5558\" cy=\"396.1162\" fill=\"#383838\" rx=\"2\" ry=\"2\" style=\"stroke: #383838; stroke-width: 1.0;\"/><ellipse cx=\"743.7126\" cy=\"406.0491\" fill=\"#383838\" rx=\"2\" ry=\"2\" style=\"stroke: #383838; stroke-width: 1.0;\"/></a><!--MD5=[0f36bececdf0dff6e600d6f64214b0f1]\n",
       "link E10 to E2--><a href=\"psysml:65e23dda-2765-4b86-8b8c-165f4272381c\" target=\"_top\" title=\"psysml:65e23dda-2765-4b86-8b8c-165f4272381c\" xlink:actuate=\"onRequest\" xlink:href=\"psysml:65e23dda-2765-4b86-8b8c-165f4272381c\" xlink:show=\"new\" xlink:title=\"psysml:65e23dda-2765-4b86-8b8c-165f4272381c\" xlink:type=\"simple\"><path d=\"M552.32,87.1 C535.71,100.38 513.86,117.82 493.29,134.25 \" fill=\"none\" id=\"E10-&gt;E2\" style=\"stroke: #383838; stroke-width: 1.0;\"/><polygon fill=\"#FFFFFF\" points=\"477.56,146.81,488.0352,129.4817,496.7737,140.4197,477.56,146.81\" style=\"stroke: #383838; stroke-width: 1.0;\"/><ellipse cx=\"493.7369\" cy=\"127.4865\" fill=\"#383838\" rx=\"2\" ry=\"2\" style=\"stroke: #383838; stroke-width: 1.0;\"/><ellipse cx=\"499.9786\" cy=\"135.2994\" fill=\"#383838\" rx=\"2\" ry=\"2\" style=\"stroke: #383838; stroke-width: 1.0;\"/></a><!--MD5=[de308be4a2431766a05a907a031c07fc]\n",
       "reverse link E10 to E11--><a href=\"psysml:996a22eb-9701-44d5-9cb6-35ae83d4d1b1\" target=\"_top\" title=\"psysml:996a22eb-9701-44d5-9cb6-35ae83d4d1b1\" xlink:actuate=\"onRequest\" xlink:href=\"psysml:996a22eb-9701-44d5-9cb6-35ae83d4d1b1\" xlink:show=\"new\" xlink:title=\"psysml:996a22eb-9701-44d5-9cb6-35ae83d4d1b1\" xlink:type=\"simple\"><path d=\"M595.95,98.9 C605.42,119.01 617.15,143.94 625.46,161.61 \" fill=\"none\" id=\"E10&lt;-E11\" style=\"stroke: #383838; stroke-width: 1.0;\"/><polygon fill=\"#383838\" points=\"590.4,87.1,589.3334,94.2318,595.5064,97.9593,596.573,90.8275,590.4,87.1\" style=\"stroke: #383838; stroke-width: 1.0;\"/></a><!--MD5=[1d54f998c6d5961a1a9184be73a7eb6c]\n",
       "reverse link E10 to E12--><a href=\"psysml:da3311a8-2759-47ea-b229-fd34ee887055\" target=\"_top\" title=\"psysml:da3311a8-2759-47ea-b229-fd34ee887055\" xlink:actuate=\"onRequest\" xlink:href=\"psysml:da3311a8-2759-47ea-b229-fd34ee887055\" xlink:show=\"new\" xlink:title=\"psysml:da3311a8-2759-47ea-b229-fd34ee887055\" xlink:type=\"simple\"><path d=\"M642.21,92.42 C689.99,113.48 755.13,142.19 799.66,161.81 \" fill=\"none\" id=\"E10&lt;-E12\" style=\"stroke: #383838; stroke-width: 1.0;\"/><polygon fill=\"#383838\" points=\"630.15,87.1,634.028,93.1796,641.1314,91.9382,637.2534,85.8586,630.15,87.1\" style=\"stroke: #383838; stroke-width: 1.0;\"/></a><!--MD5=[4a48077df6499cfcd20b62e8f5f37904]\n",
       "link E13 to E7--><a href=\"psysml:fb78d99f-0705-4d43-aabd-2eaf1ce47389\" target=\"_top\" title=\"psysml:fb78d99f-0705-4d43-aabd-2eaf1ce47389\" xlink:actuate=\"onRequest\" xlink:href=\"psysml:fb78d99f-0705-4d43-aabd-2eaf1ce47389\" xlink:show=\"new\" xlink:title=\"psysml:fb78d99f-0705-4d43-aabd-2eaf1ce47389\" xlink:type=\"simple\"><path d=\"M242.34,329.06 C324.51,346.43 438.67,370.56 521.82,388.13 \" fill=\"none\" id=\"E13-&gt;E7\" style=\"stroke: #383838; stroke-width: 1.0;\"/><polygon fill=\"#FFFFFF\" points=\"541.45,392.28,521.4143,395.2075,524.304,381.509,541.45,392.28\" style=\"stroke: #383838; stroke-width: 1.0;\"/><ellipse cx=\"516.2498\" cy=\"392.0741\" fill=\"#383838\" rx=\"2\" ry=\"2\" style=\"stroke: #383838; stroke-width: 1.0;\"/><ellipse cx=\"518.3139\" cy=\"382.2894\" fill=\"#383838\" rx=\"2\" ry=\"2\" style=\"stroke: #383838; stroke-width: 1.0;\"/></a><!--MD5=[da1a9e083bf8e4e1115143f909bbf2dd]\n",
       "@startuml\r\n",
       "skinparam monochrome true\r\n",
       "skinparam classbackgroundcolor white\r\n",
       "skinparam shadowing false\r\n",
       "skinparam wrapWidth 300\r\n",
       "hide circle\r\n",
       "\r\n",
       "package \"OccurrenceTest\" as E1  [[psysml:76f03fcf-c31b-4704-ae9e-b44a23fd6ebe ]]  {\r\n",
       "comp def \"Occ\" as E2  <<(T,blue) occurrence  def>> [[psysml:eaa0b96d-7da2-44a7-b980-6b6f36747918 ]] {\r\n",
       "- - attributes - -\r\n",
       "a\r\n",
       "}\r\n",
       "comp usage \"occ1: Occ \" as E3  <<(T,blue) occurrence>> [[psysml:87fca259-1c14-4b5b-983e-37895f6ff77b ]] {\r\n",
       "}\r\n",
       "comp usage \"occ2: Occ \" as E4  <<(T,blue) occurrence>> [[psysml:ffd2f288-180d-4271-8880-cf9706207ba2 ]] {\r\n",
       "}\r\n",
       "comp usage \"s: Ind \" as E5  <<(T,blue) individual snapshot occurrence>> [[psysml:4e1769cc-a186-417e-91f0-587d1f1196e7 ]] {\r\n",
       "}\r\n",
       "comp usage \"t \" as E6  <<(T,blue) timeslice occurrence>> [[psysml:9c61ac47-8b4e-45e2-802a-f3aa096140c4 ]] {\r\n",
       "}\r\n",
       "comp def \"Ind\" as E7  <<(T,blue) individual occurrence  def>> [[psysml:54e4af67-f268-48a3-80b8-bc1579f32c01 ]] {\r\n",
       "}\r\n",
       "comp usage \"s2 \" as E8  <<(T,blue) snapshot occurrence>> [[psysml:bfc31472-e77d-4111-949c-57e124b09868 ]] {\r\n",
       "}\r\n",
       "comp usage \"t2 \" as E9  <<(T,blue) timeslice occurrence>> [[psysml:25521b86-d75d-41e6-9d0e-592064bc2653 ]] {\r\n",
       "}\r\n",
       "comp usage \"ind: Ind, Occ \" as E10  <<(T,blue) individual occurrence>> [[psysml:ec83ca81-a881-4da3-97a0-46e2b6aae84c ]] {\r\n",
       "}\r\n",
       "comp usage \"s3 \" as E11  <<(T,blue) snapshot occurrence>> [[psysml:fe74329f-5d2b-4ebe-b106-a7ecca7a6fbd ]] {\r\n",
       "}\r\n",
       "comp usage \"t3 \" as E12  <<(T,blue) individual timeslice occurrence>> [[psysml:6925098a-d5ed-431f-aaf1-d453853f914b ]] {\r\n",
       "}\r\n",
       "comp usage \"s4: Ind \" as E13  <<(T,blue) individual snapshot occurrence>> [[psysml:4e4d3416-6ae1-42d7-bc86-2084c913e314 ]] {\r\n",
       "}\r\n",
       "}\r\n",
       "E2 o- - E3 [[psysml:62ea934f-12d4-42a0-b786-a1086ef654f4 ]] \r\n",
       "E3 - -:|> E2 [[psysml:72edb9ed-f456-4be1-846b-a7c4b7fb6ef3 ]] \r\n",
       "E2 *- - E4 [[psysml:1930a264-e184-4aca-ae40-6206f5d09a7f ]] \r\n",
       "E4 - -:|> E2 [[psysml:32367fe5-1bb2-4952-a335-a8970d1d9f84 ]] \r\n",
       "E2 *- - E5 [[psysml:0faf658f-4e02-48cd-849b-e0220b5d7629 ]] \r\n",
       "E2 *- - E6 [[psysml:3f965610-dfca-4051-a1f3-35306b55574a ]] \r\n",
       "E5 - -:|> E7 [[psysml:5b4e0f94-bd6c-4a04-8036-e6bb7f85be93 ]] \r\n",
       "E7 *- - E8 [[psysml:37f490ca-8c9f-44ef-b281-38d91f32f2bf ]] \r\n",
       "E7 *- - E9 [[psysml:c791e7ed-713f-4106-b9d5-0dfb97ea4543 ]] \r\n",
       "E10 - -:|> E7 [[psysml:d7bf13fe-2343-4091-93b6-ccc05bfccd1c ]] \r\n",
       "E10 - -:|> E2 [[psysml:65e23dda-2765-4b86-8b8c-165f4272381c ]] \r\n",
       "E10 *- - E11 [[psysml:996a22eb-9701-44d5-9cb6-35ae83d4d1b1 ]] \r\n",
       "E10 *- - E12 [[psysml:da3311a8-2759-47ea-b229-fd34ee887055 ]] \r\n",
       "E13 - -:|> E7 [[psysml:fb78d99f-0705-4d43-aabd-2eaf1ce47389 ]] \r\n",
       "@enduml\r\n",
       "\n",
       "PlantUML version 1.2020.13(Sat Jun 13 12:26:38 UTC 2020)\n",
       "(EPL source distribution)\n",
       "Java Runtime: OpenJDK Runtime Environment\n",
       "JVM: OpenJDK 64-Bit Server VM\n",
       "Default Encoding: UTF-8\n",
       "Language: en\n",
       "Country: null\n",
       "--></g></svg>"
      ]
     },
     "execution_count": 43,
     "metadata": {},
     "output_type": "execute_result"
    }
   ],
   "source": [
    "%viz --style=\"DEFAULT\" --view=\"MIXED\" \"OccurrenceTest\""
   ]
  },
  {
   "cell_type": "code",
   "execution_count": 44,
   "id": "d97a2aad",
   "metadata": {
    "execution": {
     "iopub.execute_input": "2022-02-18T10:48:39.486372Z",
     "iopub.status.busy": "2022-02-18T10:48:39.485926Z",
     "iopub.status.idle": "2022-02-18T10:48:39.538863Z",
     "shell.execute_reply": "2022-02-18T10:48:39.538496Z"
    }
   },
   "outputs": [
    {
     "data": {
      "image/svg+xml": [
       "<?xml version=\"1.0\" encoding=\"UTF-8\" standalone=\"no\"?><svg xmlns=\"http://www.w3.org/2000/svg\" xmlns:xlink=\"http://www.w3.org/1999/xlink\" contentScriptType=\"application/ecmascript\" contentStyleType=\"text/css\" height=\"569px\" preserveAspectRatio=\"none\" style=\"width:1009px;height:569px;\" version=\"1.1\" viewBox=\"0 0 1009 569\" width=\"1009px\" zoomAndPan=\"magnify\"><defs/><g><!--MD5=[fbc87193dbaf4d95561dea2c320d4a47]\n",
       "cluster E1--><a href=\"psysml:76f03fcf-c31b-4704-ae9e-b44a23fd6ebe\" target=\"_top\" title=\"psysml:76f03fcf-c31b-4704-ae9e-b44a23fd6ebe\" xlink:actuate=\"onRequest\" xlink:href=\"psysml:76f03fcf-c31b-4704-ae9e-b44a23fd6ebe\" xlink:show=\"new\" xlink:title=\"psysml:76f03fcf-c31b-4704-ae9e-b44a23fd6ebe\" xlink:type=\"simple\"><polygon fill=\"#FFFFFF\" points=\"16,6,134,6,141,28.2969,970,28.2969,970,557,16,557,16,6\" style=\"stroke: #000000; stroke-width: 1.5;\"/><line style=\"stroke: #000000; stroke-width: 1.5;\" x1=\"16\" x2=\"141\" y1=\"28.2969\" y2=\"28.2969\"/><text fill=\"#000000\" font-family=\"sans-serif\" font-size=\"14\" font-weight=\"bold\" lengthAdjust=\"spacingAndGlyphs\" textLength=\"112\" x=\"20\" y=\"20.9951\">OccurrenceTest</text></a><!--MD5=[b4997ac47864f28c2f74865a473b2911]\n",
       "class E2--><a href=\"psysml:eaa0b96d-7da2-44a7-b980-6b6f36747918\" target=\"_top\" title=\"psysml:eaa0b96d-7da2-44a7-b980-6b6f36747918\" xlink:actuate=\"onRequest\" xlink:href=\"psysml:eaa0b96d-7da2-44a7-b980-6b6f36747918\" xlink:show=\"new\" xlink:title=\"psysml:eaa0b96d-7da2-44a7-b980-6b6f36747918\" xlink:type=\"simple\"><rect fill=\"#FFFFFF\" height=\"75.5469\" id=\"E2\" style=\"stroke: #383838; stroke-width: 1.5;\" width=\"115\" x=\"373.5\" y=\"147\"/><text fill=\"#000000\" font-family=\"sans-serif\" font-size=\"12\" font-style=\"italic\" lengthAdjust=\"spacingAndGlyphs\" textLength=\"113\" x=\"374.5\" y=\"163.1387\">«occurrence  def»</text><text fill=\"#000000\" font-family=\"sans-serif\" font-size=\"12\" lengthAdjust=\"spacingAndGlyphs\" textLength=\"23\" x=\"419.5\" y=\"177.1074\">Occ</text><line style=\"stroke: #383838; stroke-width: 1.5;\" x1=\"374.5\" x2=\"487.5\" y1=\"184.9375\" y2=\"184.9375\"/><text fill=\"#000000\" font-family=\"sans-serif\" font-size=\"11\" lengthAdjust=\"spacingAndGlyphs\" textLength=\"7\" x=\"379.5\" y=\"215.9526\">a</text><line style=\"stroke: #383838; stroke-width: 1.0;\" x1=\"374.5\" x2=\"403.5\" y1=\"199.3398\" y2=\"199.3398\"/><text fill=\"#000000\" font-family=\"sans-serif\" font-size=\"11\" lengthAdjust=\"spacingAndGlyphs\" textLength=\"55\" x=\"403.5\" y=\"202.6479\">attributes</text><line style=\"stroke: #383838; stroke-width: 1.0;\" x1=\"458.5\" x2=\"487.5\" y1=\"199.3398\" y2=\"199.3398\"/></a><!--MD5=[09b614a08d8cba4a07c9adeb5e0fee81]\n",
       "class E3--><a href=\"psysml:87fca259-1c14-4b5b-983e-37895f6ff77b\" target=\"_top\" title=\"psysml:87fca259-1c14-4b5b-983e-37895f6ff77b\" xlink:actuate=\"onRequest\" xlink:href=\"psysml:87fca259-1c14-4b5b-983e-37895f6ff77b\" xlink:show=\"new\" xlink:title=\"psysml:87fca259-1c14-4b5b-983e-37895f6ff77b\" xlink:type=\"simple\"><rect fill=\"#FFFFFF\" height=\"45.9375\" id=\"E3\" rx=\"10\" ry=\"10\" style=\"stroke: #383838; stroke-width: 1.5;\" width=\"87\" x=\"279.5\" y=\"283\"/><text fill=\"#000000\" font-family=\"sans-serif\" font-size=\"12\" font-style=\"italic\" lengthAdjust=\"spacingAndGlyphs\" textLength=\"85\" x=\"280.5\" y=\"299.1387\">«occurrence»</text><text fill=\"#000000\" font-family=\"sans-serif\" font-size=\"12\" lengthAdjust=\"spacingAndGlyphs\" textLength=\"61\" x=\"290.5\" y=\"313.1074\">occ1: Occ</text><line style=\"stroke: #383838; stroke-width: 1.5;\" x1=\"280.5\" x2=\"365.5\" y1=\"320.9375\" y2=\"320.9375\"/></a><!--MD5=[ebbe1d658d1005bcc118a6aa81145e00]\n",
       "class E4--><a href=\"psysml:ffd2f288-180d-4271-8880-cf9706207ba2\" target=\"_top\" title=\"psysml:ffd2f288-180d-4271-8880-cf9706207ba2\" xlink:actuate=\"onRequest\" xlink:href=\"psysml:ffd2f288-180d-4271-8880-cf9706207ba2\" xlink:show=\"new\" xlink:title=\"psysml:ffd2f288-180d-4271-8880-cf9706207ba2\" xlink:type=\"simple\"><rect fill=\"#FFFFFF\" height=\"45.9375\" id=\"E4\" rx=\"10\" ry=\"10\" style=\"stroke: #383838; stroke-width: 1.5;\" width=\"87\" x=\"401.5\" y=\"283\"/><text fill=\"#000000\" font-family=\"sans-serif\" font-size=\"12\" font-style=\"italic\" lengthAdjust=\"spacingAndGlyphs\" textLength=\"85\" x=\"402.5\" y=\"299.1387\">«occurrence»</text><text fill=\"#000000\" font-family=\"sans-serif\" font-size=\"12\" lengthAdjust=\"spacingAndGlyphs\" textLength=\"61\" x=\"412.5\" y=\"313.1074\">occ2: Occ</text><line style=\"stroke: #383838; stroke-width: 1.5;\" x1=\"402.5\" x2=\"487.5\" y1=\"320.9375\" y2=\"320.9375\"/></a><!--MD5=[270fce915f116d4de14055a7c1d9a0f3]\n",
       "class E5--><a href=\"psysml:4e1769cc-a186-417e-91f0-587d1f1196e7\" target=\"_top\" title=\"psysml:4e1769cc-a186-417e-91f0-587d1f1196e7\" xlink:actuate=\"onRequest\" xlink:href=\"psysml:4e1769cc-a186-417e-91f0-587d1f1196e7\" xlink:show=\"new\" xlink:title=\"psysml:4e1769cc-a186-417e-91f0-587d1f1196e7\" xlink:type=\"simple\"><rect fill=\"#FFFFFF\" height=\"45.9375\" id=\"E5\" rx=\"10\" ry=\"10\" style=\"stroke: #383838; stroke-width: 1.5;\" width=\"212\" x=\"524\" y=\"283\"/><text fill=\"#000000\" font-family=\"sans-serif\" font-size=\"12\" font-style=\"italic\" lengthAdjust=\"spacingAndGlyphs\" textLength=\"210\" x=\"525\" y=\"299.1387\">«individual snapshot occurrence»</text><text fill=\"#000000\" font-family=\"sans-serif\" font-size=\"12\" lengthAdjust=\"spacingAndGlyphs\" textLength=\"34\" x=\"611\" y=\"313.1074\">s: Ind</text><line style=\"stroke: #383838; stroke-width: 1.5;\" x1=\"525\" x2=\"735\" y1=\"320.9375\" y2=\"320.9375\"/></a><!--MD5=[60a26617385b1d2d0262a64233df1f8d]\n",
       "class E6--><a href=\"psysml:9c61ac47-8b4e-45e2-802a-f3aa096140c4\" target=\"_top\" title=\"psysml:9c61ac47-8b4e-45e2-802a-f3aa096140c4\" xlink:actuate=\"onRequest\" xlink:href=\"psysml:9c61ac47-8b4e-45e2-802a-f3aa096140c4\" xlink:show=\"new\" xlink:title=\"psysml:9c61ac47-8b4e-45e2-802a-f3aa096140c4\" xlink:type=\"simple\"><rect fill=\"#FFFFFF\" height=\"45.9375\" id=\"E6\" rx=\"10\" ry=\"10\" style=\"stroke: #383838; stroke-width: 1.5;\" width=\"146\" x=\"771\" y=\"283\"/><text fill=\"#000000\" font-family=\"sans-serif\" font-size=\"12\" font-style=\"italic\" lengthAdjust=\"spacingAndGlyphs\" textLength=\"144\" x=\"772\" y=\"299.1387\">«timeslice occurrence»</text><text fill=\"#000000\" font-family=\"sans-serif\" font-size=\"12\" lengthAdjust=\"spacingAndGlyphs\" textLength=\"5\" x=\"839.5\" y=\"313.1074\">t</text><line style=\"stroke: #383838; stroke-width: 1.5;\" x1=\"772\" x2=\"916\" y1=\"320.9375\" y2=\"320.9375\"/></a><!--MD5=[2156ba9850f5573cc1fc38a6a4b2f02b]\n",
       "class E7--><a href=\"psysml:54e4af67-f268-48a3-80b8-bc1579f32c01\" target=\"_top\" title=\"psysml:54e4af67-f268-48a3-80b8-bc1579f32c01\" xlink:actuate=\"onRequest\" xlink:href=\"psysml:54e4af67-f268-48a3-80b8-bc1579f32c01\" xlink:show=\"new\" xlink:title=\"psysml:54e4af67-f268-48a3-80b8-bc1579f32c01\" xlink:type=\"simple\"><rect fill=\"#FFFFFF\" height=\"45.9375\" id=\"E7\" style=\"stroke: #383838; stroke-width: 1.5;\" width=\"177\" x=\"541.5\" y=\"389\"/><text fill=\"#000000\" font-family=\"sans-serif\" font-size=\"12\" font-style=\"italic\" lengthAdjust=\"spacingAndGlyphs\" textLength=\"175\" x=\"542.5\" y=\"405.1387\">«individual occurrence  def»</text><text fill=\"#000000\" font-family=\"sans-serif\" font-size=\"12\" lengthAdjust=\"spacingAndGlyphs\" textLength=\"19\" x=\"620.5\" y=\"419.1074\">Ind</text><line style=\"stroke: #383838; stroke-width: 1.5;\" x1=\"542.5\" x2=\"717.5\" y1=\"426.9375\" y2=\"426.9375\"/></a><!--MD5=[b9389687b975829384b498ac4b7476b2]\n",
       "class E8--><a href=\"psysml:bfc31472-e77d-4111-949c-57e124b09868\" target=\"_top\" title=\"psysml:bfc31472-e77d-4111-949c-57e124b09868\" xlink:actuate=\"onRequest\" xlink:href=\"psysml:bfc31472-e77d-4111-949c-57e124b09868\" xlink:show=\"new\" xlink:title=\"psysml:bfc31472-e77d-4111-949c-57e124b09868\" xlink:type=\"simple\"><rect fill=\"#FFFFFF\" height=\"45.9375\" id=\"E8\" rx=\"10\" ry=\"10\" style=\"stroke: #383838; stroke-width: 1.5;\" width=\"150\" x=\"463\" y=\"495\"/><text fill=\"#000000\" font-family=\"sans-serif\" font-size=\"12\" font-style=\"italic\" lengthAdjust=\"spacingAndGlyphs\" textLength=\"148\" x=\"464\" y=\"511.1387\">«snapshot occurrence»</text><text fill=\"#000000\" font-family=\"sans-serif\" font-size=\"12\" lengthAdjust=\"spacingAndGlyphs\" textLength=\"15\" x=\"528.5\" y=\"525.1074\">s2</text><line style=\"stroke: #383838; stroke-width: 1.5;\" x1=\"464\" x2=\"612\" y1=\"532.9375\" y2=\"532.9375\"/></a><!--MD5=[fd4143e9d270a159db93a4ea2a975926]\n",
       "class E9--><a href=\"psysml:25521b86-d75d-41e6-9d0e-592064bc2653\" target=\"_top\" title=\"psysml:25521b86-d75d-41e6-9d0e-592064bc2653\" xlink:actuate=\"onRequest\" xlink:href=\"psysml:25521b86-d75d-41e6-9d0e-592064bc2653\" xlink:show=\"new\" xlink:title=\"psysml:25521b86-d75d-41e6-9d0e-592064bc2653\" xlink:type=\"simple\"><rect fill=\"#FFFFFF\" height=\"45.9375\" id=\"E9\" rx=\"10\" ry=\"10\" style=\"stroke: #383838; stroke-width: 1.5;\" width=\"146\" x=\"648\" y=\"495\"/><text fill=\"#000000\" font-family=\"sans-serif\" font-size=\"12\" font-style=\"italic\" lengthAdjust=\"spacingAndGlyphs\" textLength=\"144\" x=\"649\" y=\"511.1387\">«timeslice occurrence»</text><text fill=\"#000000\" font-family=\"sans-serif\" font-size=\"12\" lengthAdjust=\"spacingAndGlyphs\" textLength=\"13\" x=\"712.5\" y=\"525.1074\">t2</text><line style=\"stroke: #383838; stroke-width: 1.5;\" x1=\"649\" x2=\"793\" y1=\"532.9375\" y2=\"532.9375\"/></a><!--MD5=[96f4274e9e20536e775497830990834d]\n",
       "class E10--><a href=\"psysml:ec83ca81-a881-4da3-97a0-46e2b6aae84c\" target=\"_top\" title=\"psysml:ec83ca81-a881-4da3-97a0-46e2b6aae84c\" xlink:actuate=\"onRequest\" xlink:href=\"psysml:ec83ca81-a881-4da3-97a0-46e2b6aae84c\" xlink:show=\"new\" xlink:title=\"psysml:ec83ca81-a881-4da3-97a0-46e2b6aae84c\" xlink:type=\"simple\"><rect fill=\"#FFFFFF\" height=\"45.9375\" id=\"E10\" rx=\"10\" ry=\"10\" style=\"stroke: #383838; stroke-width: 1.5;\" width=\"149\" x=\"505.5\" y=\"41\"/><text fill=\"#000000\" font-family=\"sans-serif\" font-size=\"12\" font-style=\"italic\" lengthAdjust=\"spacingAndGlyphs\" textLength=\"147\" x=\"506.5\" y=\"57.1387\">«individual occurrence»</text><text fill=\"#000000\" font-family=\"sans-serif\" font-size=\"12\" lengthAdjust=\"spacingAndGlyphs\" textLength=\"77\" x=\"539.5\" y=\"71.1074\">ind: Ind, Occ</text><line style=\"stroke: #383838; stroke-width: 1.5;\" x1=\"506.5\" x2=\"653.5\" y1=\"78.9375\" y2=\"78.9375\"/></a><!--MD5=[1dd1bfd58a279cf63c5f349dbc8fc6a1]\n",
       "class E11--><a href=\"psysml:fe74329f-5d2b-4ebe-b106-a7ecca7a6fbd\" target=\"_top\" title=\"psysml:fe74329f-5d2b-4ebe-b106-a7ecca7a6fbd\" xlink:actuate=\"onRequest\" xlink:href=\"psysml:fe74329f-5d2b-4ebe-b106-a7ecca7a6fbd\" xlink:show=\"new\" xlink:title=\"psysml:fe74329f-5d2b-4ebe-b106-a7ecca7a6fbd\" xlink:type=\"simple\"><rect fill=\"#FFFFFF\" height=\"45.9375\" id=\"E11\" rx=\"10\" ry=\"10\" style=\"stroke: #383838; stroke-width: 1.5;\" width=\"150\" x=\"561\" y=\"162\"/><text fill=\"#000000\" font-family=\"sans-serif\" font-size=\"12\" font-style=\"italic\" lengthAdjust=\"spacingAndGlyphs\" textLength=\"148\" x=\"562\" y=\"178.1387\">«snapshot occurrence»</text><text fill=\"#000000\" font-family=\"sans-serif\" font-size=\"12\" lengthAdjust=\"spacingAndGlyphs\" textLength=\"15\" x=\"626.5\" y=\"192.1074\">s3</text><line style=\"stroke: #383838; stroke-width: 1.5;\" x1=\"562\" x2=\"710\" y1=\"199.9375\" y2=\"199.9375\"/></a><!--MD5=[49a0ec8f00dab7302a31f22d0f0fe584]\n",
       "class E12--><a href=\"psysml:6925098a-d5ed-431f-aaf1-d453853f914b\" target=\"_top\" title=\"psysml:6925098a-d5ed-431f-aaf1-d453853f914b\" xlink:actuate=\"onRequest\" xlink:href=\"psysml:6925098a-d5ed-431f-aaf1-d453853f914b\" xlink:show=\"new\" xlink:title=\"psysml:6925098a-d5ed-431f-aaf1-d453853f914b\" xlink:type=\"simple\"><rect fill=\"#FFFFFF\" height=\"45.9375\" id=\"E12\" rx=\"10\" ry=\"10\" style=\"stroke: #383838; stroke-width: 1.5;\" width=\"208\" x=\"746\" y=\"162\"/><text fill=\"#000000\" font-family=\"sans-serif\" font-size=\"12\" font-style=\"italic\" lengthAdjust=\"spacingAndGlyphs\" textLength=\"206\" x=\"747\" y=\"178.1387\">«individual timeslice occurrence»</text><text fill=\"#000000\" font-family=\"sans-serif\" font-size=\"12\" lengthAdjust=\"spacingAndGlyphs\" textLength=\"13\" x=\"841.5\" y=\"192.1074\">t3</text><line style=\"stroke: #383838; stroke-width: 1.5;\" x1=\"747\" x2=\"953\" y1=\"199.9375\" y2=\"199.9375\"/></a><!--MD5=[ee3c913d1a06f366521f9ef512b67efe]\n",
       "class E13--><a href=\"psysml:4e4d3416-6ae1-42d7-bc86-2084c913e314\" target=\"_top\" title=\"psysml:4e4d3416-6ae1-42d7-bc86-2084c913e314\" xlink:actuate=\"onRequest\" xlink:href=\"psysml:4e4d3416-6ae1-42d7-bc86-2084c913e314\" xlink:show=\"new\" xlink:title=\"psysml:4e4d3416-6ae1-42d7-bc86-2084c913e314\" xlink:type=\"simple\"><rect fill=\"#FFFFFF\" height=\"45.9375\" id=\"E13\" rx=\"10\" ry=\"10\" style=\"stroke: #383838; stroke-width: 1.5;\" width=\"212\" x=\"32\" y=\"283\"/><text fill=\"#000000\" font-family=\"sans-serif\" font-size=\"12\" font-style=\"italic\" lengthAdjust=\"spacingAndGlyphs\" textLength=\"210\" x=\"33\" y=\"299.1387\">«individual snapshot occurrence»</text><text fill=\"#000000\" font-family=\"sans-serif\" font-size=\"12\" lengthAdjust=\"spacingAndGlyphs\" textLength=\"42\" x=\"115\" y=\"313.1074\">s4: Ind</text><line style=\"stroke: #383838; stroke-width: 1.5;\" x1=\"33\" x2=\"243\" y1=\"320.9375\" y2=\"320.9375\"/></a><!--MD5=[209b3feb70ccb6233bfe1053d122c12c]\n",
       "reverse link E2 to E3--><a href=\"psysml:62ea934f-12d4-42a0-b786-a1086ef654f4\" target=\"_top\" title=\"psysml:62ea934f-12d4-42a0-b786-a1086ef654f4\" xlink:actuate=\"onRequest\" xlink:href=\"psysml:62ea934f-12d4-42a0-b786-a1086ef654f4\" xlink:show=\"new\" xlink:title=\"psysml:62ea934f-12d4-42a0-b786-a1086ef654f4\" xlink:type=\"simple\"><path d=\"M376.37,232.45 C359.85,249.83 343.43,268.76 332.86,282.93 \" fill=\"none\" id=\"E2&lt;-E3\" style=\"stroke: #383838; stroke-width: 1.0;\"/><polygon fill=\"#FFFFFF\" points=\"385.52,223,378.4729,224.5294,377.1743,231.6226,384.2213,230.0932,385.52,223\" style=\"stroke: #383838; stroke-width: 1.0;\"/></a><!--MD5=[05d275557350bfb9b23a4ef7222b4c39]\n",
       "link E3 to E2--><a href=\"psysml:72edb9ed-f456-4be1-846b-a7c4b7fb6ef3\" target=\"_top\" title=\"psysml:72edb9ed-f456-4be1-846b-a7c4b7fb6ef3\" xlink:actuate=\"onRequest\" xlink:href=\"psysml:72edb9ed-f456-4be1-846b-a7c4b7fb6ef3\" xlink:show=\"new\" xlink:title=\"psysml:72edb9ed-f456-4be1-846b-a7c4b7fb6ef3\" xlink:type=\"simple\"><path d=\"M353.8,282.93 C367.38,270.34 383.11,253.98 396.95,238.29 \" fill=\"none\" id=\"E3-&gt;E2\" style=\"stroke: #383838; stroke-width: 1.0;\"/><polygon fill=\"#FFFFFF\" points=\"410.02,223,403.0007,241.9929,392.3563,232.8991,410.02,223\" style=\"stroke: #383838; stroke-width: 1.0;\"/><ellipse cx=\"397.7776\" cy=\"245.0276\" fill=\"#383838\" rx=\"2\" ry=\"2\" style=\"stroke: #383838; stroke-width: 1.0;\"/><ellipse cx=\"390.1744\" cy=\"238.532\" fill=\"#383838\" rx=\"2\" ry=\"2\" style=\"stroke: #383838; stroke-width: 1.0;\"/></a><!--MD5=[9618e71518536f8baf3342ff6fdab317]\n",
       "reverse link E2 to E4--><a href=\"psysml:1930a264-e184-4aca-ae40-6206f5d09a7f\" target=\"_top\" title=\"psysml:1930a264-e184-4aca-ae40-6206f5d09a7f\" xlink:actuate=\"onRequest\" xlink:href=\"psysml:1930a264-e184-4aca-ae40-6206f5d09a7f\" xlink:show=\"new\" xlink:title=\"psysml:1930a264-e184-4aca-ae40-6206f5d09a7f\" xlink:type=\"simple\"><path d=\"M424.31,236.34 C425.74,252.61 428.58,269.81 432.23,282.93 \" fill=\"none\" id=\"E2&lt;-E4\" style=\"stroke: #383838; stroke-width: 1.0;\"/><polygon fill=\"#383838\" points=\"423.45,223,419.8475,229.2467,424.2281,234.9747,427.8306,228.728,423.45,223\" style=\"stroke: #383838; stroke-width: 1.0;\"/></a><!--MD5=[185131fc0dcab0a4505a2ebe144e961b]\n",
       "link E4 to E2--><a href=\"psysml:32367fe5-1bb2-4952-a335-a8970d1d9f84\" target=\"_top\" title=\"psysml:32367fe5-1bb2-4952-a335-a8970d1d9f84\" xlink:actuate=\"onRequest\" xlink:href=\"psysml:32367fe5-1bb2-4952-a335-a8970d1d9f84\" xlink:show=\"new\" xlink:title=\"psysml:32367fe5-1bb2-4952-a335-a8970d1d9f84\" xlink:type=\"simple\"><path d=\"M453.17,282.93 C453.77,271.65 452.99,257.34 451.22,243.21 \" fill=\"none\" id=\"E4-&gt;E2\" style=\"stroke: #383838; stroke-width: 1.0;\"/><polygon fill=\"#FFFFFF\" points=\"447.96,223,457.8973,240.6423,444.0761,242.8725,447.96,223\" style=\"stroke: #383838; stroke-width: 1.0;\"/><ellipse cx=\"456.8309\" cy=\"246.5881\" fill=\"#383838\" rx=\"2\" ry=\"2\" style=\"stroke: #383838; stroke-width: 1.0;\"/><ellipse cx=\"446.9586\" cy=\"248.1811\" fill=\"#383838\" rx=\"2\" ry=\"2\" style=\"stroke: #383838; stroke-width: 1.0;\"/></a><!--MD5=[4e1a83fab71cdb913c109063314ae896]\n",
       "reverse link E2 to E5--><a href=\"psysml:0faf658f-4e02-48cd-849b-e0220b5d7629\" target=\"_top\" title=\"psysml:0faf658f-4e02-48cd-849b-e0220b5d7629\" xlink:actuate=\"onRequest\" xlink:href=\"psysml:0faf658f-4e02-48cd-849b-e0220b5d7629\" xlink:show=\"new\" xlink:title=\"psysml:0faf658f-4e02-48cd-849b-e0220b5d7629\" xlink:type=\"simple\"><path d=\"M499.85,227.17 C531.12,245.87 566.86,267.24 592.97,282.85 \" fill=\"none\" id=\"E2&lt;-E5\" style=\"stroke: #383838; stroke-width: 1.0;\"/><polygon fill=\"#383838\" points=\"488.56,220.42,491.6568,226.9323,498.8592,226.5784,495.7624,220.0661,488.56,220.42\" style=\"stroke: #383838; stroke-width: 1.0;\"/></a><!--MD5=[ce036f65110ae2351ccce5a81dc2e928]\n",
       "reverse link E2 to E6--><a href=\"psysml:3f965610-dfca-4051-a1f3-35306b55574a\" target=\"_top\" title=\"psysml:3f965610-dfca-4051-a1f3-35306b55574a\" xlink:actuate=\"onRequest\" xlink:href=\"psysml:3f965610-dfca-4051-a1f3-35306b55574a\" xlink:show=\"new\" xlink:title=\"psysml:3f965610-dfca-4051-a1f3-35306b55574a\" xlink:type=\"simple\"><path d=\"M501.02,217.55 C506.06,219.49 511.08,221.33 516,223 C528.19,227.15 677.82,264.14 770.71,287 \" fill=\"none\" id=\"E2&lt;-E6\" style=\"stroke: #383838; stroke-width: 1.0;\"/><polygon fill=\"#383838\" points=\"488.57,212.58,492.6577,218.5206,499.7135,217.0321,495.6258,211.0916,488.57,212.58\" style=\"stroke: #383838; stroke-width: 1.0;\"/></a><!--MD5=[3a9b96bfbf6b6ad89c494e81751bda47]\n",
       "link E5 to E7--><a href=\"psysml:5b4e0f94-bd6c-4a04-8036-e6bb7f85be93\" target=\"_top\" title=\"psysml:5b4e0f94-bd6c-4a04-8036-e6bb7f85be93\" xlink:actuate=\"onRequest\" xlink:href=\"psysml:5b4e0f94-bd6c-4a04-8036-e6bb7f85be93\" xlink:show=\"new\" xlink:title=\"psysml:5b4e0f94-bd6c-4a04-8036-e6bb7f85be93\" xlink:type=\"simple\"><path d=\"M630,329.06 C630,340.64 630,355.23 630,368.87 \" fill=\"none\" id=\"E5-&gt;E7\" style=\"stroke: #383838; stroke-width: 1.0;\"/><polygon fill=\"#FFFFFF\" points=\"630,388.98,623,369.98,637,369.98,630,388.98\" style=\"stroke: #383838; stroke-width: 1.0;\"/><ellipse cx=\"625\" cy=\"364.28\" fill=\"#383838\" rx=\"2\" ry=\"2\" style=\"stroke: #383838; stroke-width: 1.0;\"/><ellipse cx=\"635\" cy=\"364.28\" fill=\"#383838\" rx=\"2\" ry=\"2\" style=\"stroke: #383838; stroke-width: 1.0;\"/></a><!--MD5=[dc164f5e8a733ab456ef1add180e9e34]\n",
       "reverse link E7 to E8--><a href=\"psysml:37f490ca-8c9f-44ef-b281-38d91f32f2bf\" target=\"_top\" title=\"psysml:37f490ca-8c9f-44ef-b281-38d91f32f2bf\" xlink:actuate=\"onRequest\" xlink:href=\"psysml:37f490ca-8c9f-44ef-b281-38d91f32f2bf\" xlink:show=\"new\" xlink:title=\"psysml:37f490ca-8c9f-44ef-b281-38d91f32f2bf\" xlink:type=\"simple\"><path d=\"M601.55,445.16 C587.25,461.33 570.28,480.51 557.48,494.98 \" fill=\"none\" id=\"E7&lt;-E8\" style=\"stroke: #383838; stroke-width: 1.0;\"/><polygon fill=\"#383838\" points=\"610.49,435.06,603.5177,436.9004,602.5348,444.0442,609.5071,442.2038,610.49,435.06\" style=\"stroke: #383838; stroke-width: 1.0;\"/></a><!--MD5=[e4a10ef82d0e328e31cac39a31e58dda]\n",
       "reverse link E7 to E9--><a href=\"psysml:c791e7ed-713f-4106-b9d5-0dfb97ea4543\" target=\"_top\" title=\"psysml:c791e7ed-713f-4106-b9d5-0dfb97ea4543\" xlink:actuate=\"onRequest\" xlink:href=\"psysml:c791e7ed-713f-4106-b9d5-0dfb97ea4543\" xlink:show=\"new\" xlink:title=\"psysml:c791e7ed-713f-4106-b9d5-0dfb97ea4543\" xlink:type=\"simple\"><path d=\"M658.14,445.16 C672.29,461.33 689.07,480.51 701.73,494.98 \" fill=\"none\" id=\"E7&lt;-E9\" style=\"stroke: #383838; stroke-width: 1.0;\"/><polygon fill=\"#383838\" points=\"649.3,435.06,650.2496,442.2083,657.2133,444.0811,656.2637,436.9328,649.3,435.06\" style=\"stroke: #383838; stroke-width: 1.0;\"/></a><!--MD5=[a919e0967d6f3de553dc51b9865a1d6d]\n",
       "link E10 to E7--><a href=\"psysml:d7bf13fe-2343-4091-93b6-ccc05bfccd1c\" target=\"_top\" title=\"psysml:d7bf13fe-2343-4091-93b6-ccc05bfccd1c\" xlink:actuate=\"onRequest\" xlink:href=\"psysml:d7bf13fe-2343-4091-93b6-ccc05bfccd1c\" xlink:show=\"new\" xlink:title=\"psysml:d7bf13fe-2343-4091-93b6-ccc05bfccd1c\" xlink:type=\"simple\"><path d=\"M564.36,87.23 C542.92,120.68 510.65,184.15 544,223 C658.5,356.41 820.5,149.59 935,283 C997.3,355.58 849.41,387.9 738.47,401.63 \" fill=\"none\" id=\"E10-&gt;E7\" style=\"stroke: #383838; stroke-width: 1.0;\"/><polygon fill=\"#FFFFFF\" points=\"718.6,403.94,736.6627,394.7891,738.2822,408.6951,718.6,403.94\" style=\"stroke: #383838; stroke-width: 1.0;\"/><ellipse cx=\"742.5558\" cy=\"396.1162\" fill=\"#383838\" rx=\"2\" ry=\"2\" style=\"stroke: #383838; stroke-width: 1.0;\"/><ellipse cx=\"743.7126\" cy=\"406.0491\" fill=\"#383838\" rx=\"2\" ry=\"2\" style=\"stroke: #383838; stroke-width: 1.0;\"/></a><!--MD5=[0f36bececdf0dff6e600d6f64214b0f1]\n",
       "link E10 to E2--><a href=\"psysml:65e23dda-2765-4b86-8b8c-165f4272381c\" target=\"_top\" title=\"psysml:65e23dda-2765-4b86-8b8c-165f4272381c\" xlink:actuate=\"onRequest\" xlink:href=\"psysml:65e23dda-2765-4b86-8b8c-165f4272381c\" xlink:show=\"new\" xlink:title=\"psysml:65e23dda-2765-4b86-8b8c-165f4272381c\" xlink:type=\"simple\"><path d=\"M552.32,87.1 C535.71,100.38 513.86,117.82 493.29,134.25 \" fill=\"none\" id=\"E10-&gt;E2\" style=\"stroke: #383838; stroke-width: 1.0;\"/><polygon fill=\"#FFFFFF\" points=\"477.56,146.81,488.0352,129.4817,496.7737,140.4197,477.56,146.81\" style=\"stroke: #383838; stroke-width: 1.0;\"/><ellipse cx=\"493.7369\" cy=\"127.4865\" fill=\"#383838\" rx=\"2\" ry=\"2\" style=\"stroke: #383838; stroke-width: 1.0;\"/><ellipse cx=\"499.9786\" cy=\"135.2994\" fill=\"#383838\" rx=\"2\" ry=\"2\" style=\"stroke: #383838; stroke-width: 1.0;\"/></a><!--MD5=[de308be4a2431766a05a907a031c07fc]\n",
       "reverse link E10 to E11--><a href=\"psysml:996a22eb-9701-44d5-9cb6-35ae83d4d1b1\" target=\"_top\" title=\"psysml:996a22eb-9701-44d5-9cb6-35ae83d4d1b1\" xlink:actuate=\"onRequest\" xlink:href=\"psysml:996a22eb-9701-44d5-9cb6-35ae83d4d1b1\" xlink:show=\"new\" xlink:title=\"psysml:996a22eb-9701-44d5-9cb6-35ae83d4d1b1\" xlink:type=\"simple\"><path d=\"M595.95,98.9 C605.42,119.01 617.15,143.94 625.46,161.61 \" fill=\"none\" id=\"E10&lt;-E11\" style=\"stroke: #383838; stroke-width: 1.0;\"/><polygon fill=\"#383838\" points=\"590.4,87.1,589.3334,94.2318,595.5064,97.9593,596.573,90.8275,590.4,87.1\" style=\"stroke: #383838; stroke-width: 1.0;\"/></a><!--MD5=[1d54f998c6d5961a1a9184be73a7eb6c]\n",
       "reverse link E10 to E12--><a href=\"psysml:da3311a8-2759-47ea-b229-fd34ee887055\" target=\"_top\" title=\"psysml:da3311a8-2759-47ea-b229-fd34ee887055\" xlink:actuate=\"onRequest\" xlink:href=\"psysml:da3311a8-2759-47ea-b229-fd34ee887055\" xlink:show=\"new\" xlink:title=\"psysml:da3311a8-2759-47ea-b229-fd34ee887055\" xlink:type=\"simple\"><path d=\"M642.21,92.42 C689.99,113.48 755.13,142.19 799.66,161.81 \" fill=\"none\" id=\"E10&lt;-E12\" style=\"stroke: #383838; stroke-width: 1.0;\"/><polygon fill=\"#383838\" points=\"630.15,87.1,634.028,93.1796,641.1314,91.9382,637.2534,85.8586,630.15,87.1\" style=\"stroke: #383838; stroke-width: 1.0;\"/></a><!--MD5=[4a48077df6499cfcd20b62e8f5f37904]\n",
       "link E13 to E7--><a href=\"psysml:fb78d99f-0705-4d43-aabd-2eaf1ce47389\" target=\"_top\" title=\"psysml:fb78d99f-0705-4d43-aabd-2eaf1ce47389\" xlink:actuate=\"onRequest\" xlink:href=\"psysml:fb78d99f-0705-4d43-aabd-2eaf1ce47389\" xlink:show=\"new\" xlink:title=\"psysml:fb78d99f-0705-4d43-aabd-2eaf1ce47389\" xlink:type=\"simple\"><path d=\"M242.34,329.06 C324.51,346.43 438.67,370.56 521.82,388.13 \" fill=\"none\" id=\"E13-&gt;E7\" style=\"stroke: #383838; stroke-width: 1.0;\"/><polygon fill=\"#FFFFFF\" points=\"541.45,392.28,521.4143,395.2075,524.304,381.509,541.45,392.28\" style=\"stroke: #383838; stroke-width: 1.0;\"/><ellipse cx=\"516.2498\" cy=\"392.0741\" fill=\"#383838\" rx=\"2\" ry=\"2\" style=\"stroke: #383838; stroke-width: 1.0;\"/><ellipse cx=\"518.3139\" cy=\"382.2894\" fill=\"#383838\" rx=\"2\" ry=\"2\" style=\"stroke: #383838; stroke-width: 1.0;\"/></a><!--MD5=[da09bf1ab466174fdc951e45926f74eb]\n",
       "@startuml\r\n",
       "top to bottom direction\r\n",
       "skinparam monochrome true\r\n",
       "skinparam classbackgroundcolor white\r\n",
       "skinparam shadowing false\r\n",
       "skinparam wrapWidth 300\r\n",
       "hide circle\r\n",
       "\r\n",
       "package \"OccurrenceTest\" as E1  [[psysml:76f03fcf-c31b-4704-ae9e-b44a23fd6ebe ]]  {\r\n",
       "comp def \"Occ\" as E2  <<(T,blue) occurrence  def>> [[psysml:eaa0b96d-7da2-44a7-b980-6b6f36747918 ]] {\r\n",
       "- - attributes - -\r\n",
       "a\r\n",
       "}\r\n",
       "comp usage \"occ1: Occ \" as E3  <<(T,blue) occurrence>> [[psysml:87fca259-1c14-4b5b-983e-37895f6ff77b ]] {\r\n",
       "}\r\n",
       "comp usage \"occ2: Occ \" as E4  <<(T,blue) occurrence>> [[psysml:ffd2f288-180d-4271-8880-cf9706207ba2 ]] {\r\n",
       "}\r\n",
       "comp usage \"s: Ind \" as E5  <<(T,blue) individual snapshot occurrence>> [[psysml:4e1769cc-a186-417e-91f0-587d1f1196e7 ]] {\r\n",
       "}\r\n",
       "comp usage \"t \" as E6  <<(T,blue) timeslice occurrence>> [[psysml:9c61ac47-8b4e-45e2-802a-f3aa096140c4 ]] {\r\n",
       "}\r\n",
       "comp def \"Ind\" as E7  <<(T,blue) individual occurrence  def>> [[psysml:54e4af67-f268-48a3-80b8-bc1579f32c01 ]] {\r\n",
       "}\r\n",
       "comp usage \"s2 \" as E8  <<(T,blue) snapshot occurrence>> [[psysml:bfc31472-e77d-4111-949c-57e124b09868 ]] {\r\n",
       "}\r\n",
       "comp usage \"t2 \" as E9  <<(T,blue) timeslice occurrence>> [[psysml:25521b86-d75d-41e6-9d0e-592064bc2653 ]] {\r\n",
       "}\r\n",
       "comp usage \"ind: Ind, Occ \" as E10  <<(T,blue) individual occurrence>> [[psysml:ec83ca81-a881-4da3-97a0-46e2b6aae84c ]] {\r\n",
       "}\r\n",
       "comp usage \"s3 \" as E11  <<(T,blue) snapshot occurrence>> [[psysml:fe74329f-5d2b-4ebe-b106-a7ecca7a6fbd ]] {\r\n",
       "}\r\n",
       "comp usage \"t3 \" as E12  <<(T,blue) individual timeslice occurrence>> [[psysml:6925098a-d5ed-431f-aaf1-d453853f914b ]] {\r\n",
       "}\r\n",
       "comp usage \"s4: Ind \" as E13  <<(T,blue) individual snapshot occurrence>> [[psysml:4e4d3416-6ae1-42d7-bc86-2084c913e314 ]] {\r\n",
       "}\r\n",
       "}\r\n",
       "E2 o- - E3 [[psysml:62ea934f-12d4-42a0-b786-a1086ef654f4 ]] \r\n",
       "E3 - -:|> E2 [[psysml:72edb9ed-f456-4be1-846b-a7c4b7fb6ef3 ]] \r\n",
       "E2 *- - E4 [[psysml:1930a264-e184-4aca-ae40-6206f5d09a7f ]] \r\n",
       "E4 - -:|> E2 [[psysml:32367fe5-1bb2-4952-a335-a8970d1d9f84 ]] \r\n",
       "E2 *- - E5 [[psysml:0faf658f-4e02-48cd-849b-e0220b5d7629 ]] \r\n",
       "E2 *- - E6 [[psysml:3f965610-dfca-4051-a1f3-35306b55574a ]] \r\n",
       "E5 - -:|> E7 [[psysml:5b4e0f94-bd6c-4a04-8036-e6bb7f85be93 ]] \r\n",
       "E7 *- - E8 [[psysml:37f490ca-8c9f-44ef-b281-38d91f32f2bf ]] \r\n",
       "E7 *- - E9 [[psysml:c791e7ed-713f-4106-b9d5-0dfb97ea4543 ]] \r\n",
       "E10 - -:|> E7 [[psysml:d7bf13fe-2343-4091-93b6-ccc05bfccd1c ]] \r\n",
       "E10 - -:|> E2 [[psysml:65e23dda-2765-4b86-8b8c-165f4272381c ]] \r\n",
       "E10 *- - E11 [[psysml:996a22eb-9701-44d5-9cb6-35ae83d4d1b1 ]] \r\n",
       "E10 *- - E12 [[psysml:da3311a8-2759-47ea-b229-fd34ee887055 ]] \r\n",
       "E13 - -:|> E7 [[psysml:fb78d99f-0705-4d43-aabd-2eaf1ce47389 ]] \r\n",
       "@enduml\r\n",
       "\n",
       "PlantUML version 1.2020.13(Sat Jun 13 12:26:38 UTC 2020)\n",
       "(EPL source distribution)\n",
       "Java Runtime: OpenJDK Runtime Environment\n",
       "JVM: OpenJDK 64-Bit Server VM\n",
       "Default Encoding: UTF-8\n",
       "Language: en\n",
       "Country: null\n",
       "--></g></svg>"
      ]
     },
     "execution_count": 44,
     "metadata": {},
     "output_type": "execute_result"
    }
   ],
   "source": [
    "%viz --style=\"TB\" --view=\"Default\" \"OccurrenceTest\""
   ]
  },
  {
   "cell_type": "code",
   "execution_count": 45,
   "id": "f7459a31",
   "metadata": {
    "execution": {
     "iopub.execute_input": "2022-02-18T10:48:39.588139Z",
     "iopub.status.busy": "2022-02-18T10:48:39.587714Z",
     "iopub.status.idle": "2022-02-18T10:48:39.644869Z",
     "shell.execute_reply": "2022-02-18T10:48:39.644497Z"
    }
   },
   "outputs": [
    {
     "data": {
      "image/svg+xml": [
       "<?xml version=\"1.0\" encoding=\"UTF-8\" standalone=\"no\"?><svg xmlns=\"http://www.w3.org/2000/svg\" xmlns:xlink=\"http://www.w3.org/1999/xlink\" contentScriptType=\"application/ecmascript\" contentStyleType=\"text/css\" height=\"569px\" preserveAspectRatio=\"none\" style=\"width:1009px;height:569px;\" version=\"1.1\" viewBox=\"0 0 1009 569\" width=\"1009px\" zoomAndPan=\"magnify\"><defs/><g><!--MD5=[fbc87193dbaf4d95561dea2c320d4a47]\n",
       "cluster E1--><a href=\"psysml:76f03fcf-c31b-4704-ae9e-b44a23fd6ebe\" target=\"_top\" title=\"psysml:76f03fcf-c31b-4704-ae9e-b44a23fd6ebe\" xlink:actuate=\"onRequest\" xlink:href=\"psysml:76f03fcf-c31b-4704-ae9e-b44a23fd6ebe\" xlink:show=\"new\" xlink:title=\"psysml:76f03fcf-c31b-4704-ae9e-b44a23fd6ebe\" xlink:type=\"simple\"><polygon fill=\"#FFFFFF\" points=\"16,6,134,6,141,28.2969,970,28.2969,970,557,16,557,16,6\" style=\"stroke: #000000; stroke-width: 1.5;\"/><line style=\"stroke: #000000; stroke-width: 1.5;\" x1=\"16\" x2=\"141\" y1=\"28.2969\" y2=\"28.2969\"/><text fill=\"#000000\" font-family=\"sans-serif\" font-size=\"14\" font-weight=\"bold\" lengthAdjust=\"spacingAndGlyphs\" textLength=\"112\" x=\"20\" y=\"20.9951\">OccurrenceTest</text></a><!--MD5=[b4997ac47864f28c2f74865a473b2911]\n",
       "class E2--><a href=\"psysml:eaa0b96d-7da2-44a7-b980-6b6f36747918\" target=\"_top\" title=\"psysml:eaa0b96d-7da2-44a7-b980-6b6f36747918\" xlink:actuate=\"onRequest\" xlink:href=\"psysml:eaa0b96d-7da2-44a7-b980-6b6f36747918\" xlink:show=\"new\" xlink:title=\"psysml:eaa0b96d-7da2-44a7-b980-6b6f36747918\" xlink:type=\"simple\"><rect fill=\"#FFFFFF\" height=\"75.5469\" id=\"E2\" style=\"stroke: #383838; stroke-width: 1.5;\" width=\"115\" x=\"373.5\" y=\"147\"/><text fill=\"#000000\" font-family=\"sans-serif\" font-size=\"12\" font-style=\"italic\" lengthAdjust=\"spacingAndGlyphs\" textLength=\"113\" x=\"374.5\" y=\"163.1387\">«occurrence  def»</text><text fill=\"#000000\" font-family=\"sans-serif\" font-size=\"12\" lengthAdjust=\"spacingAndGlyphs\" textLength=\"23\" x=\"419.5\" y=\"177.1074\">Occ</text><line style=\"stroke: #383838; stroke-width: 1.5;\" x1=\"374.5\" x2=\"487.5\" y1=\"184.9375\" y2=\"184.9375\"/><text fill=\"#000000\" font-family=\"sans-serif\" font-size=\"11\" lengthAdjust=\"spacingAndGlyphs\" textLength=\"7\" x=\"379.5\" y=\"215.9526\">a</text><line style=\"stroke: #383838; stroke-width: 1.0;\" x1=\"374.5\" x2=\"403.5\" y1=\"199.3398\" y2=\"199.3398\"/><text fill=\"#000000\" font-family=\"sans-serif\" font-size=\"11\" lengthAdjust=\"spacingAndGlyphs\" textLength=\"55\" x=\"403.5\" y=\"202.6479\">attributes</text><line style=\"stroke: #383838; stroke-width: 1.0;\" x1=\"458.5\" x2=\"487.5\" y1=\"199.3398\" y2=\"199.3398\"/></a><!--MD5=[09b614a08d8cba4a07c9adeb5e0fee81]\n",
       "class E3--><a href=\"psysml:87fca259-1c14-4b5b-983e-37895f6ff77b\" target=\"_top\" title=\"psysml:87fca259-1c14-4b5b-983e-37895f6ff77b\" xlink:actuate=\"onRequest\" xlink:href=\"psysml:87fca259-1c14-4b5b-983e-37895f6ff77b\" xlink:show=\"new\" xlink:title=\"psysml:87fca259-1c14-4b5b-983e-37895f6ff77b\" xlink:type=\"simple\"><rect fill=\"#FFFFFF\" height=\"45.9375\" id=\"E3\" rx=\"10\" ry=\"10\" style=\"stroke: #383838; stroke-width: 1.5;\" width=\"87\" x=\"279.5\" y=\"283\"/><text fill=\"#000000\" font-family=\"sans-serif\" font-size=\"12\" font-style=\"italic\" lengthAdjust=\"spacingAndGlyphs\" textLength=\"85\" x=\"280.5\" y=\"299.1387\">«occurrence»</text><text fill=\"#000000\" font-family=\"sans-serif\" font-size=\"12\" lengthAdjust=\"spacingAndGlyphs\" textLength=\"61\" x=\"290.5\" y=\"313.1074\">occ1: Occ</text><line style=\"stroke: #383838; stroke-width: 1.5;\" x1=\"280.5\" x2=\"365.5\" y1=\"320.9375\" y2=\"320.9375\"/></a><!--MD5=[ebbe1d658d1005bcc118a6aa81145e00]\n",
       "class E4--><a href=\"psysml:ffd2f288-180d-4271-8880-cf9706207ba2\" target=\"_top\" title=\"psysml:ffd2f288-180d-4271-8880-cf9706207ba2\" xlink:actuate=\"onRequest\" xlink:href=\"psysml:ffd2f288-180d-4271-8880-cf9706207ba2\" xlink:show=\"new\" xlink:title=\"psysml:ffd2f288-180d-4271-8880-cf9706207ba2\" xlink:type=\"simple\"><rect fill=\"#FFFFFF\" height=\"45.9375\" id=\"E4\" rx=\"10\" ry=\"10\" style=\"stroke: #383838; stroke-width: 1.5;\" width=\"87\" x=\"401.5\" y=\"283\"/><text fill=\"#000000\" font-family=\"sans-serif\" font-size=\"12\" font-style=\"italic\" lengthAdjust=\"spacingAndGlyphs\" textLength=\"85\" x=\"402.5\" y=\"299.1387\">«occurrence»</text><text fill=\"#000000\" font-family=\"sans-serif\" font-size=\"12\" lengthAdjust=\"spacingAndGlyphs\" textLength=\"61\" x=\"412.5\" y=\"313.1074\">occ2: Occ</text><line style=\"stroke: #383838; stroke-width: 1.5;\" x1=\"402.5\" x2=\"487.5\" y1=\"320.9375\" y2=\"320.9375\"/></a><!--MD5=[270fce915f116d4de14055a7c1d9a0f3]\n",
       "class E5--><a href=\"psysml:4e1769cc-a186-417e-91f0-587d1f1196e7\" target=\"_top\" title=\"psysml:4e1769cc-a186-417e-91f0-587d1f1196e7\" xlink:actuate=\"onRequest\" xlink:href=\"psysml:4e1769cc-a186-417e-91f0-587d1f1196e7\" xlink:show=\"new\" xlink:title=\"psysml:4e1769cc-a186-417e-91f0-587d1f1196e7\" xlink:type=\"simple\"><rect fill=\"#FFFFFF\" height=\"45.9375\" id=\"E5\" rx=\"10\" ry=\"10\" style=\"stroke: #383838; stroke-width: 1.5;\" width=\"212\" x=\"524\" y=\"283\"/><text fill=\"#000000\" font-family=\"sans-serif\" font-size=\"12\" font-style=\"italic\" lengthAdjust=\"spacingAndGlyphs\" textLength=\"210\" x=\"525\" y=\"299.1387\">«individual snapshot occurrence»</text><text fill=\"#000000\" font-family=\"sans-serif\" font-size=\"12\" lengthAdjust=\"spacingAndGlyphs\" textLength=\"34\" x=\"611\" y=\"313.1074\">s: Ind</text><line style=\"stroke: #383838; stroke-width: 1.5;\" x1=\"525\" x2=\"735\" y1=\"320.9375\" y2=\"320.9375\"/></a><!--MD5=[60a26617385b1d2d0262a64233df1f8d]\n",
       "class E6--><a href=\"psysml:9c61ac47-8b4e-45e2-802a-f3aa096140c4\" target=\"_top\" title=\"psysml:9c61ac47-8b4e-45e2-802a-f3aa096140c4\" xlink:actuate=\"onRequest\" xlink:href=\"psysml:9c61ac47-8b4e-45e2-802a-f3aa096140c4\" xlink:show=\"new\" xlink:title=\"psysml:9c61ac47-8b4e-45e2-802a-f3aa096140c4\" xlink:type=\"simple\"><rect fill=\"#FFFFFF\" height=\"45.9375\" id=\"E6\" rx=\"10\" ry=\"10\" style=\"stroke: #383838; stroke-width: 1.5;\" width=\"146\" x=\"771\" y=\"283\"/><text fill=\"#000000\" font-family=\"sans-serif\" font-size=\"12\" font-style=\"italic\" lengthAdjust=\"spacingAndGlyphs\" textLength=\"144\" x=\"772\" y=\"299.1387\">«timeslice occurrence»</text><text fill=\"#000000\" font-family=\"sans-serif\" font-size=\"12\" lengthAdjust=\"spacingAndGlyphs\" textLength=\"5\" x=\"839.5\" y=\"313.1074\">t</text><line style=\"stroke: #383838; stroke-width: 1.5;\" x1=\"772\" x2=\"916\" y1=\"320.9375\" y2=\"320.9375\"/></a><!--MD5=[2156ba9850f5573cc1fc38a6a4b2f02b]\n",
       "class E7--><a href=\"psysml:54e4af67-f268-48a3-80b8-bc1579f32c01\" target=\"_top\" title=\"psysml:54e4af67-f268-48a3-80b8-bc1579f32c01\" xlink:actuate=\"onRequest\" xlink:href=\"psysml:54e4af67-f268-48a3-80b8-bc1579f32c01\" xlink:show=\"new\" xlink:title=\"psysml:54e4af67-f268-48a3-80b8-bc1579f32c01\" xlink:type=\"simple\"><rect fill=\"#FFFFFF\" height=\"45.9375\" id=\"E7\" style=\"stroke: #383838; stroke-width: 1.5;\" width=\"177\" x=\"541.5\" y=\"389\"/><text fill=\"#000000\" font-family=\"sans-serif\" font-size=\"12\" font-style=\"italic\" lengthAdjust=\"spacingAndGlyphs\" textLength=\"175\" x=\"542.5\" y=\"405.1387\">«individual occurrence  def»</text><text fill=\"#000000\" font-family=\"sans-serif\" font-size=\"12\" lengthAdjust=\"spacingAndGlyphs\" textLength=\"19\" x=\"620.5\" y=\"419.1074\">Ind</text><line style=\"stroke: #383838; stroke-width: 1.5;\" x1=\"542.5\" x2=\"717.5\" y1=\"426.9375\" y2=\"426.9375\"/></a><!--MD5=[b9389687b975829384b498ac4b7476b2]\n",
       "class E8--><a href=\"psysml:bfc31472-e77d-4111-949c-57e124b09868\" target=\"_top\" title=\"psysml:bfc31472-e77d-4111-949c-57e124b09868\" xlink:actuate=\"onRequest\" xlink:href=\"psysml:bfc31472-e77d-4111-949c-57e124b09868\" xlink:show=\"new\" xlink:title=\"psysml:bfc31472-e77d-4111-949c-57e124b09868\" xlink:type=\"simple\"><rect fill=\"#FFFFFF\" height=\"45.9375\" id=\"E8\" rx=\"10\" ry=\"10\" style=\"stroke: #383838; stroke-width: 1.5;\" width=\"150\" x=\"463\" y=\"495\"/><text fill=\"#000000\" font-family=\"sans-serif\" font-size=\"12\" font-style=\"italic\" lengthAdjust=\"spacingAndGlyphs\" textLength=\"148\" x=\"464\" y=\"511.1387\">«snapshot occurrence»</text><text fill=\"#000000\" font-family=\"sans-serif\" font-size=\"12\" lengthAdjust=\"spacingAndGlyphs\" textLength=\"15\" x=\"528.5\" y=\"525.1074\">s2</text><line style=\"stroke: #383838; stroke-width: 1.5;\" x1=\"464\" x2=\"612\" y1=\"532.9375\" y2=\"532.9375\"/></a><!--MD5=[fd4143e9d270a159db93a4ea2a975926]\n",
       "class E9--><a href=\"psysml:25521b86-d75d-41e6-9d0e-592064bc2653\" target=\"_top\" title=\"psysml:25521b86-d75d-41e6-9d0e-592064bc2653\" xlink:actuate=\"onRequest\" xlink:href=\"psysml:25521b86-d75d-41e6-9d0e-592064bc2653\" xlink:show=\"new\" xlink:title=\"psysml:25521b86-d75d-41e6-9d0e-592064bc2653\" xlink:type=\"simple\"><rect fill=\"#FFFFFF\" height=\"45.9375\" id=\"E9\" rx=\"10\" ry=\"10\" style=\"stroke: #383838; stroke-width: 1.5;\" width=\"146\" x=\"648\" y=\"495\"/><text fill=\"#000000\" font-family=\"sans-serif\" font-size=\"12\" font-style=\"italic\" lengthAdjust=\"spacingAndGlyphs\" textLength=\"144\" x=\"649\" y=\"511.1387\">«timeslice occurrence»</text><text fill=\"#000000\" font-family=\"sans-serif\" font-size=\"12\" lengthAdjust=\"spacingAndGlyphs\" textLength=\"13\" x=\"712.5\" y=\"525.1074\">t2</text><line style=\"stroke: #383838; stroke-width: 1.5;\" x1=\"649\" x2=\"793\" y1=\"532.9375\" y2=\"532.9375\"/></a><!--MD5=[96f4274e9e20536e775497830990834d]\n",
       "class E10--><a href=\"psysml:ec83ca81-a881-4da3-97a0-46e2b6aae84c\" target=\"_top\" title=\"psysml:ec83ca81-a881-4da3-97a0-46e2b6aae84c\" xlink:actuate=\"onRequest\" xlink:href=\"psysml:ec83ca81-a881-4da3-97a0-46e2b6aae84c\" xlink:show=\"new\" xlink:title=\"psysml:ec83ca81-a881-4da3-97a0-46e2b6aae84c\" xlink:type=\"simple\"><rect fill=\"#FFFFFF\" height=\"45.9375\" id=\"E10\" rx=\"10\" ry=\"10\" style=\"stroke: #383838; stroke-width: 1.5;\" width=\"149\" x=\"505.5\" y=\"41\"/><text fill=\"#000000\" font-family=\"sans-serif\" font-size=\"12\" font-style=\"italic\" lengthAdjust=\"spacingAndGlyphs\" textLength=\"147\" x=\"506.5\" y=\"57.1387\">«individual occurrence»</text><text fill=\"#000000\" font-family=\"sans-serif\" font-size=\"12\" lengthAdjust=\"spacingAndGlyphs\" textLength=\"77\" x=\"539.5\" y=\"71.1074\">ind: Ind, Occ</text><line style=\"stroke: #383838; stroke-width: 1.5;\" x1=\"506.5\" x2=\"653.5\" y1=\"78.9375\" y2=\"78.9375\"/></a><!--MD5=[1dd1bfd58a279cf63c5f349dbc8fc6a1]\n",
       "class E11--><a href=\"psysml:fe74329f-5d2b-4ebe-b106-a7ecca7a6fbd\" target=\"_top\" title=\"psysml:fe74329f-5d2b-4ebe-b106-a7ecca7a6fbd\" xlink:actuate=\"onRequest\" xlink:href=\"psysml:fe74329f-5d2b-4ebe-b106-a7ecca7a6fbd\" xlink:show=\"new\" xlink:title=\"psysml:fe74329f-5d2b-4ebe-b106-a7ecca7a6fbd\" xlink:type=\"simple\"><rect fill=\"#FFFFFF\" height=\"45.9375\" id=\"E11\" rx=\"10\" ry=\"10\" style=\"stroke: #383838; stroke-width: 1.5;\" width=\"150\" x=\"561\" y=\"162\"/><text fill=\"#000000\" font-family=\"sans-serif\" font-size=\"12\" font-style=\"italic\" lengthAdjust=\"spacingAndGlyphs\" textLength=\"148\" x=\"562\" y=\"178.1387\">«snapshot occurrence»</text><text fill=\"#000000\" font-family=\"sans-serif\" font-size=\"12\" lengthAdjust=\"spacingAndGlyphs\" textLength=\"15\" x=\"626.5\" y=\"192.1074\">s3</text><line style=\"stroke: #383838; stroke-width: 1.5;\" x1=\"562\" x2=\"710\" y1=\"199.9375\" y2=\"199.9375\"/></a><!--MD5=[49a0ec8f00dab7302a31f22d0f0fe584]\n",
       "class E12--><a href=\"psysml:6925098a-d5ed-431f-aaf1-d453853f914b\" target=\"_top\" title=\"psysml:6925098a-d5ed-431f-aaf1-d453853f914b\" xlink:actuate=\"onRequest\" xlink:href=\"psysml:6925098a-d5ed-431f-aaf1-d453853f914b\" xlink:show=\"new\" xlink:title=\"psysml:6925098a-d5ed-431f-aaf1-d453853f914b\" xlink:type=\"simple\"><rect fill=\"#FFFFFF\" height=\"45.9375\" id=\"E12\" rx=\"10\" ry=\"10\" style=\"stroke: #383838; stroke-width: 1.5;\" width=\"208\" x=\"746\" y=\"162\"/><text fill=\"#000000\" font-family=\"sans-serif\" font-size=\"12\" font-style=\"italic\" lengthAdjust=\"spacingAndGlyphs\" textLength=\"206\" x=\"747\" y=\"178.1387\">«individual timeslice occurrence»</text><text fill=\"#000000\" font-family=\"sans-serif\" font-size=\"12\" lengthAdjust=\"spacingAndGlyphs\" textLength=\"13\" x=\"841.5\" y=\"192.1074\">t3</text><line style=\"stroke: #383838; stroke-width: 1.5;\" x1=\"747\" x2=\"953\" y1=\"199.9375\" y2=\"199.9375\"/></a><!--MD5=[ee3c913d1a06f366521f9ef512b67efe]\n",
       "class E13--><a href=\"psysml:4e4d3416-6ae1-42d7-bc86-2084c913e314\" target=\"_top\" title=\"psysml:4e4d3416-6ae1-42d7-bc86-2084c913e314\" xlink:actuate=\"onRequest\" xlink:href=\"psysml:4e4d3416-6ae1-42d7-bc86-2084c913e314\" xlink:show=\"new\" xlink:title=\"psysml:4e4d3416-6ae1-42d7-bc86-2084c913e314\" xlink:type=\"simple\"><rect fill=\"#FFFFFF\" height=\"45.9375\" id=\"E13\" rx=\"10\" ry=\"10\" style=\"stroke: #383838; stroke-width: 1.5;\" width=\"212\" x=\"32\" y=\"283\"/><text fill=\"#000000\" font-family=\"sans-serif\" font-size=\"12\" font-style=\"italic\" lengthAdjust=\"spacingAndGlyphs\" textLength=\"210\" x=\"33\" y=\"299.1387\">«individual snapshot occurrence»</text><text fill=\"#000000\" font-family=\"sans-serif\" font-size=\"12\" lengthAdjust=\"spacingAndGlyphs\" textLength=\"42\" x=\"115\" y=\"313.1074\">s4: Ind</text><line style=\"stroke: #383838; stroke-width: 1.5;\" x1=\"33\" x2=\"243\" y1=\"320.9375\" y2=\"320.9375\"/></a><!--MD5=[209b3feb70ccb6233bfe1053d122c12c]\n",
       "reverse link E2 to E3--><a href=\"psysml:62ea934f-12d4-42a0-b786-a1086ef654f4\" target=\"_top\" title=\"psysml:62ea934f-12d4-42a0-b786-a1086ef654f4\" xlink:actuate=\"onRequest\" xlink:href=\"psysml:62ea934f-12d4-42a0-b786-a1086ef654f4\" xlink:show=\"new\" xlink:title=\"psysml:62ea934f-12d4-42a0-b786-a1086ef654f4\" xlink:type=\"simple\"><path d=\"M376.37,232.45 C359.85,249.83 343.43,268.76 332.86,282.93 \" fill=\"none\" id=\"E2&lt;-E3\" style=\"stroke: #383838; stroke-width: 1.0;\"/><polygon fill=\"#FFFFFF\" points=\"385.52,223,378.4729,224.5294,377.1743,231.6226,384.2213,230.0932,385.52,223\" style=\"stroke: #383838; stroke-width: 1.0;\"/></a><!--MD5=[05d275557350bfb9b23a4ef7222b4c39]\n",
       "link E3 to E2--><a href=\"psysml:72edb9ed-f456-4be1-846b-a7c4b7fb6ef3\" target=\"_top\" title=\"psysml:72edb9ed-f456-4be1-846b-a7c4b7fb6ef3\" xlink:actuate=\"onRequest\" xlink:href=\"psysml:72edb9ed-f456-4be1-846b-a7c4b7fb6ef3\" xlink:show=\"new\" xlink:title=\"psysml:72edb9ed-f456-4be1-846b-a7c4b7fb6ef3\" xlink:type=\"simple\"><path d=\"M353.8,282.93 C367.38,270.34 383.11,253.98 396.95,238.29 \" fill=\"none\" id=\"E3-&gt;E2\" style=\"stroke: #383838; stroke-width: 1.0;\"/><polygon fill=\"#FFFFFF\" points=\"410.02,223,403.0007,241.9929,392.3563,232.8991,410.02,223\" style=\"stroke: #383838; stroke-width: 1.0;\"/><ellipse cx=\"397.7776\" cy=\"245.0276\" fill=\"#383838\" rx=\"2\" ry=\"2\" style=\"stroke: #383838; stroke-width: 1.0;\"/><ellipse cx=\"390.1744\" cy=\"238.532\" fill=\"#383838\" rx=\"2\" ry=\"2\" style=\"stroke: #383838; stroke-width: 1.0;\"/></a><!--MD5=[9618e71518536f8baf3342ff6fdab317]\n",
       "reverse link E2 to E4--><a href=\"psysml:1930a264-e184-4aca-ae40-6206f5d09a7f\" target=\"_top\" title=\"psysml:1930a264-e184-4aca-ae40-6206f5d09a7f\" xlink:actuate=\"onRequest\" xlink:href=\"psysml:1930a264-e184-4aca-ae40-6206f5d09a7f\" xlink:show=\"new\" xlink:title=\"psysml:1930a264-e184-4aca-ae40-6206f5d09a7f\" xlink:type=\"simple\"><path d=\"M424.31,236.34 C425.74,252.61 428.58,269.81 432.23,282.93 \" fill=\"none\" id=\"E2&lt;-E4\" style=\"stroke: #383838; stroke-width: 1.0;\"/><polygon fill=\"#383838\" points=\"423.45,223,419.8475,229.2467,424.2281,234.9747,427.8306,228.728,423.45,223\" style=\"stroke: #383838; stroke-width: 1.0;\"/></a><!--MD5=[185131fc0dcab0a4505a2ebe144e961b]\n",
       "link E4 to E2--><a href=\"psysml:32367fe5-1bb2-4952-a335-a8970d1d9f84\" target=\"_top\" title=\"psysml:32367fe5-1bb2-4952-a335-a8970d1d9f84\" xlink:actuate=\"onRequest\" xlink:href=\"psysml:32367fe5-1bb2-4952-a335-a8970d1d9f84\" xlink:show=\"new\" xlink:title=\"psysml:32367fe5-1bb2-4952-a335-a8970d1d9f84\" xlink:type=\"simple\"><path d=\"M453.17,282.93 C453.77,271.65 452.99,257.34 451.22,243.21 \" fill=\"none\" id=\"E4-&gt;E2\" style=\"stroke: #383838; stroke-width: 1.0;\"/><polygon fill=\"#FFFFFF\" points=\"447.96,223,457.8973,240.6423,444.0761,242.8725,447.96,223\" style=\"stroke: #383838; stroke-width: 1.0;\"/><ellipse cx=\"456.8309\" cy=\"246.5881\" fill=\"#383838\" rx=\"2\" ry=\"2\" style=\"stroke: #383838; stroke-width: 1.0;\"/><ellipse cx=\"446.9586\" cy=\"248.1811\" fill=\"#383838\" rx=\"2\" ry=\"2\" style=\"stroke: #383838; stroke-width: 1.0;\"/></a><!--MD5=[4e1a83fab71cdb913c109063314ae896]\n",
       "reverse link E2 to E5--><a href=\"psysml:0faf658f-4e02-48cd-849b-e0220b5d7629\" target=\"_top\" title=\"psysml:0faf658f-4e02-48cd-849b-e0220b5d7629\" xlink:actuate=\"onRequest\" xlink:href=\"psysml:0faf658f-4e02-48cd-849b-e0220b5d7629\" xlink:show=\"new\" xlink:title=\"psysml:0faf658f-4e02-48cd-849b-e0220b5d7629\" xlink:type=\"simple\"><path d=\"M499.85,227.17 C531.12,245.87 566.86,267.24 592.97,282.85 \" fill=\"none\" id=\"E2&lt;-E5\" style=\"stroke: #383838; stroke-width: 1.0;\"/><polygon fill=\"#383838\" points=\"488.56,220.42,491.6568,226.9323,498.8592,226.5784,495.7624,220.0661,488.56,220.42\" style=\"stroke: #383838; stroke-width: 1.0;\"/></a><!--MD5=[ce036f65110ae2351ccce5a81dc2e928]\n",
       "reverse link E2 to E6--><a href=\"psysml:3f965610-dfca-4051-a1f3-35306b55574a\" target=\"_top\" title=\"psysml:3f965610-dfca-4051-a1f3-35306b55574a\" xlink:actuate=\"onRequest\" xlink:href=\"psysml:3f965610-dfca-4051-a1f3-35306b55574a\" xlink:show=\"new\" xlink:title=\"psysml:3f965610-dfca-4051-a1f3-35306b55574a\" xlink:type=\"simple\"><path d=\"M501.02,217.55 C506.06,219.49 511.08,221.33 516,223 C528.19,227.15 677.82,264.14 770.71,287 \" fill=\"none\" id=\"E2&lt;-E6\" style=\"stroke: #383838; stroke-width: 1.0;\"/><polygon fill=\"#383838\" points=\"488.57,212.58,492.6577,218.5206,499.7135,217.0321,495.6258,211.0916,488.57,212.58\" style=\"stroke: #383838; stroke-width: 1.0;\"/></a><!--MD5=[3a9b96bfbf6b6ad89c494e81751bda47]\n",
       "link E5 to E7--><a href=\"psysml:5b4e0f94-bd6c-4a04-8036-e6bb7f85be93\" target=\"_top\" title=\"psysml:5b4e0f94-bd6c-4a04-8036-e6bb7f85be93\" xlink:actuate=\"onRequest\" xlink:href=\"psysml:5b4e0f94-bd6c-4a04-8036-e6bb7f85be93\" xlink:show=\"new\" xlink:title=\"psysml:5b4e0f94-bd6c-4a04-8036-e6bb7f85be93\" xlink:type=\"simple\"><path d=\"M630,329.06 C630,340.64 630,355.23 630,368.87 \" fill=\"none\" id=\"E5-&gt;E7\" style=\"stroke: #383838; stroke-width: 1.0;\"/><polygon fill=\"#FFFFFF\" points=\"630,388.98,623,369.98,637,369.98,630,388.98\" style=\"stroke: #383838; stroke-width: 1.0;\"/><ellipse cx=\"625\" cy=\"364.28\" fill=\"#383838\" rx=\"2\" ry=\"2\" style=\"stroke: #383838; stroke-width: 1.0;\"/><ellipse cx=\"635\" cy=\"364.28\" fill=\"#383838\" rx=\"2\" ry=\"2\" style=\"stroke: #383838; stroke-width: 1.0;\"/></a><!--MD5=[dc164f5e8a733ab456ef1add180e9e34]\n",
       "reverse link E7 to E8--><a href=\"psysml:37f490ca-8c9f-44ef-b281-38d91f32f2bf\" target=\"_top\" title=\"psysml:37f490ca-8c9f-44ef-b281-38d91f32f2bf\" xlink:actuate=\"onRequest\" xlink:href=\"psysml:37f490ca-8c9f-44ef-b281-38d91f32f2bf\" xlink:show=\"new\" xlink:title=\"psysml:37f490ca-8c9f-44ef-b281-38d91f32f2bf\" xlink:type=\"simple\"><path d=\"M601.55,445.16 C587.25,461.33 570.28,480.51 557.48,494.98 \" fill=\"none\" id=\"E7&lt;-E8\" style=\"stroke: #383838; stroke-width: 1.0;\"/><polygon fill=\"#383838\" points=\"610.49,435.06,603.5177,436.9004,602.5348,444.0442,609.5071,442.2038,610.49,435.06\" style=\"stroke: #383838; stroke-width: 1.0;\"/></a><!--MD5=[e4a10ef82d0e328e31cac39a31e58dda]\n",
       "reverse link E7 to E9--><a href=\"psysml:c791e7ed-713f-4106-b9d5-0dfb97ea4543\" target=\"_top\" title=\"psysml:c791e7ed-713f-4106-b9d5-0dfb97ea4543\" xlink:actuate=\"onRequest\" xlink:href=\"psysml:c791e7ed-713f-4106-b9d5-0dfb97ea4543\" xlink:show=\"new\" xlink:title=\"psysml:c791e7ed-713f-4106-b9d5-0dfb97ea4543\" xlink:type=\"simple\"><path d=\"M658.14,445.16 C672.29,461.33 689.07,480.51 701.73,494.98 \" fill=\"none\" id=\"E7&lt;-E9\" style=\"stroke: #383838; stroke-width: 1.0;\"/><polygon fill=\"#383838\" points=\"649.3,435.06,650.2496,442.2083,657.2133,444.0811,656.2637,436.9328,649.3,435.06\" style=\"stroke: #383838; stroke-width: 1.0;\"/></a><!--MD5=[a919e0967d6f3de553dc51b9865a1d6d]\n",
       "link E10 to E7--><a href=\"psysml:d7bf13fe-2343-4091-93b6-ccc05bfccd1c\" target=\"_top\" title=\"psysml:d7bf13fe-2343-4091-93b6-ccc05bfccd1c\" xlink:actuate=\"onRequest\" xlink:href=\"psysml:d7bf13fe-2343-4091-93b6-ccc05bfccd1c\" xlink:show=\"new\" xlink:title=\"psysml:d7bf13fe-2343-4091-93b6-ccc05bfccd1c\" xlink:type=\"simple\"><path d=\"M564.36,87.23 C542.92,120.68 510.65,184.15 544,223 C658.5,356.41 820.5,149.59 935,283 C997.3,355.58 849.41,387.9 738.47,401.63 \" fill=\"none\" id=\"E10-&gt;E7\" style=\"stroke: #383838; stroke-width: 1.0;\"/><polygon fill=\"#FFFFFF\" points=\"718.6,403.94,736.6627,394.7891,738.2822,408.6951,718.6,403.94\" style=\"stroke: #383838; stroke-width: 1.0;\"/><ellipse cx=\"742.5558\" cy=\"396.1162\" fill=\"#383838\" rx=\"2\" ry=\"2\" style=\"stroke: #383838; stroke-width: 1.0;\"/><ellipse cx=\"743.7126\" cy=\"406.0491\" fill=\"#383838\" rx=\"2\" ry=\"2\" style=\"stroke: #383838; stroke-width: 1.0;\"/></a><!--MD5=[0f36bececdf0dff6e600d6f64214b0f1]\n",
       "link E10 to E2--><a href=\"psysml:65e23dda-2765-4b86-8b8c-165f4272381c\" target=\"_top\" title=\"psysml:65e23dda-2765-4b86-8b8c-165f4272381c\" xlink:actuate=\"onRequest\" xlink:href=\"psysml:65e23dda-2765-4b86-8b8c-165f4272381c\" xlink:show=\"new\" xlink:title=\"psysml:65e23dda-2765-4b86-8b8c-165f4272381c\" xlink:type=\"simple\"><path d=\"M552.32,87.1 C535.71,100.38 513.86,117.82 493.29,134.25 \" fill=\"none\" id=\"E10-&gt;E2\" style=\"stroke: #383838; stroke-width: 1.0;\"/><polygon fill=\"#FFFFFF\" points=\"477.56,146.81,488.0352,129.4817,496.7737,140.4197,477.56,146.81\" style=\"stroke: #383838; stroke-width: 1.0;\"/><ellipse cx=\"493.7369\" cy=\"127.4865\" fill=\"#383838\" rx=\"2\" ry=\"2\" style=\"stroke: #383838; stroke-width: 1.0;\"/><ellipse cx=\"499.9786\" cy=\"135.2994\" fill=\"#383838\" rx=\"2\" ry=\"2\" style=\"stroke: #383838; stroke-width: 1.0;\"/></a><!--MD5=[de308be4a2431766a05a907a031c07fc]\n",
       "reverse link E10 to E11--><a href=\"psysml:996a22eb-9701-44d5-9cb6-35ae83d4d1b1\" target=\"_top\" title=\"psysml:996a22eb-9701-44d5-9cb6-35ae83d4d1b1\" xlink:actuate=\"onRequest\" xlink:href=\"psysml:996a22eb-9701-44d5-9cb6-35ae83d4d1b1\" xlink:show=\"new\" xlink:title=\"psysml:996a22eb-9701-44d5-9cb6-35ae83d4d1b1\" xlink:type=\"simple\"><path d=\"M595.95,98.9 C605.42,119.01 617.15,143.94 625.46,161.61 \" fill=\"none\" id=\"E10&lt;-E11\" style=\"stroke: #383838; stroke-width: 1.0;\"/><polygon fill=\"#383838\" points=\"590.4,87.1,589.3334,94.2318,595.5064,97.9593,596.573,90.8275,590.4,87.1\" style=\"stroke: #383838; stroke-width: 1.0;\"/></a><!--MD5=[1d54f998c6d5961a1a9184be73a7eb6c]\n",
       "reverse link E10 to E12--><a href=\"psysml:da3311a8-2759-47ea-b229-fd34ee887055\" target=\"_top\" title=\"psysml:da3311a8-2759-47ea-b229-fd34ee887055\" xlink:actuate=\"onRequest\" xlink:href=\"psysml:da3311a8-2759-47ea-b229-fd34ee887055\" xlink:show=\"new\" xlink:title=\"psysml:da3311a8-2759-47ea-b229-fd34ee887055\" xlink:type=\"simple\"><path d=\"M642.21,92.42 C689.99,113.48 755.13,142.19 799.66,161.81 \" fill=\"none\" id=\"E10&lt;-E12\" style=\"stroke: #383838; stroke-width: 1.0;\"/><polygon fill=\"#383838\" points=\"630.15,87.1,634.028,93.1796,641.1314,91.9382,637.2534,85.8586,630.15,87.1\" style=\"stroke: #383838; stroke-width: 1.0;\"/></a><!--MD5=[4a48077df6499cfcd20b62e8f5f37904]\n",
       "link E13 to E7--><a href=\"psysml:fb78d99f-0705-4d43-aabd-2eaf1ce47389\" target=\"_top\" title=\"psysml:fb78d99f-0705-4d43-aabd-2eaf1ce47389\" xlink:actuate=\"onRequest\" xlink:href=\"psysml:fb78d99f-0705-4d43-aabd-2eaf1ce47389\" xlink:show=\"new\" xlink:title=\"psysml:fb78d99f-0705-4d43-aabd-2eaf1ce47389\" xlink:type=\"simple\"><path d=\"M242.34,329.06 C324.51,346.43 438.67,370.56 521.82,388.13 \" fill=\"none\" id=\"E13-&gt;E7\" style=\"stroke: #383838; stroke-width: 1.0;\"/><polygon fill=\"#FFFFFF\" points=\"541.45,392.28,521.4143,395.2075,524.304,381.509,541.45,392.28\" style=\"stroke: #383838; stroke-width: 1.0;\"/><ellipse cx=\"516.2498\" cy=\"392.0741\" fill=\"#383838\" rx=\"2\" ry=\"2\" style=\"stroke: #383838; stroke-width: 1.0;\"/><ellipse cx=\"518.3139\" cy=\"382.2894\" fill=\"#383838\" rx=\"2\" ry=\"2\" style=\"stroke: #383838; stroke-width: 1.0;\"/></a><!--MD5=[da09bf1ab466174fdc951e45926f74eb]\n",
       "@startuml\r\n",
       "top to bottom direction\r\n",
       "skinparam monochrome true\r\n",
       "skinparam classbackgroundcolor white\r\n",
       "skinparam shadowing false\r\n",
       "skinparam wrapWidth 300\r\n",
       "hide circle\r\n",
       "\r\n",
       "package \"OccurrenceTest\" as E1  [[psysml:76f03fcf-c31b-4704-ae9e-b44a23fd6ebe ]]  {\r\n",
       "comp def \"Occ\" as E2  <<(T,blue) occurrence  def>> [[psysml:eaa0b96d-7da2-44a7-b980-6b6f36747918 ]] {\r\n",
       "- - attributes - -\r\n",
       "a\r\n",
       "}\r\n",
       "comp usage \"occ1: Occ \" as E3  <<(T,blue) occurrence>> [[psysml:87fca259-1c14-4b5b-983e-37895f6ff77b ]] {\r\n",
       "}\r\n",
       "comp usage \"occ2: Occ \" as E4  <<(T,blue) occurrence>> [[psysml:ffd2f288-180d-4271-8880-cf9706207ba2 ]] {\r\n",
       "}\r\n",
       "comp usage \"s: Ind \" as E5  <<(T,blue) individual snapshot occurrence>> [[psysml:4e1769cc-a186-417e-91f0-587d1f1196e7 ]] {\r\n",
       "}\r\n",
       "comp usage \"t \" as E6  <<(T,blue) timeslice occurrence>> [[psysml:9c61ac47-8b4e-45e2-802a-f3aa096140c4 ]] {\r\n",
       "}\r\n",
       "comp def \"Ind\" as E7  <<(T,blue) individual occurrence  def>> [[psysml:54e4af67-f268-48a3-80b8-bc1579f32c01 ]] {\r\n",
       "}\r\n",
       "comp usage \"s2 \" as E8  <<(T,blue) snapshot occurrence>> [[psysml:bfc31472-e77d-4111-949c-57e124b09868 ]] {\r\n",
       "}\r\n",
       "comp usage \"t2 \" as E9  <<(T,blue) timeslice occurrence>> [[psysml:25521b86-d75d-41e6-9d0e-592064bc2653 ]] {\r\n",
       "}\r\n",
       "comp usage \"ind: Ind, Occ \" as E10  <<(T,blue) individual occurrence>> [[psysml:ec83ca81-a881-4da3-97a0-46e2b6aae84c ]] {\r\n",
       "}\r\n",
       "comp usage \"s3 \" as E11  <<(T,blue) snapshot occurrence>> [[psysml:fe74329f-5d2b-4ebe-b106-a7ecca7a6fbd ]] {\r\n",
       "}\r\n",
       "comp usage \"t3 \" as E12  <<(T,blue) individual timeslice occurrence>> [[psysml:6925098a-d5ed-431f-aaf1-d453853f914b ]] {\r\n",
       "}\r\n",
       "comp usage \"s4: Ind \" as E13  <<(T,blue) individual snapshot occurrence>> [[psysml:4e4d3416-6ae1-42d7-bc86-2084c913e314 ]] {\r\n",
       "}\r\n",
       "}\r\n",
       "E2 o- - E3 [[psysml:62ea934f-12d4-42a0-b786-a1086ef654f4 ]] \r\n",
       "E3 - -:|> E2 [[psysml:72edb9ed-f456-4be1-846b-a7c4b7fb6ef3 ]] \r\n",
       "E2 *- - E4 [[psysml:1930a264-e184-4aca-ae40-6206f5d09a7f ]] \r\n",
       "E4 - -:|> E2 [[psysml:32367fe5-1bb2-4952-a335-a8970d1d9f84 ]] \r\n",
       "E2 *- - E5 [[psysml:0faf658f-4e02-48cd-849b-e0220b5d7629 ]] \r\n",
       "E2 *- - E6 [[psysml:3f965610-dfca-4051-a1f3-35306b55574a ]] \r\n",
       "E5 - -:|> E7 [[psysml:5b4e0f94-bd6c-4a04-8036-e6bb7f85be93 ]] \r\n",
       "E7 *- - E8 [[psysml:37f490ca-8c9f-44ef-b281-38d91f32f2bf ]] \r\n",
       "E7 *- - E9 [[psysml:c791e7ed-713f-4106-b9d5-0dfb97ea4543 ]] \r\n",
       "E10 - -:|> E7 [[psysml:d7bf13fe-2343-4091-93b6-ccc05bfccd1c ]] \r\n",
       "E10 - -:|> E2 [[psysml:65e23dda-2765-4b86-8b8c-165f4272381c ]] \r\n",
       "E10 *- - E11 [[psysml:996a22eb-9701-44d5-9cb6-35ae83d4d1b1 ]] \r\n",
       "E10 *- - E12 [[psysml:da3311a8-2759-47ea-b229-fd34ee887055 ]] \r\n",
       "E13 - -:|> E7 [[psysml:fb78d99f-0705-4d43-aabd-2eaf1ce47389 ]] \r\n",
       "@enduml\r\n",
       "\n",
       "PlantUML version 1.2020.13(Sat Jun 13 12:26:38 UTC 2020)\n",
       "(EPL source distribution)\n",
       "Java Runtime: OpenJDK Runtime Environment\n",
       "JVM: OpenJDK 64-Bit Server VM\n",
       "Default Encoding: UTF-8\n",
       "Language: en\n",
       "Country: null\n",
       "--></g></svg>"
      ]
     },
     "execution_count": 45,
     "metadata": {},
     "output_type": "execute_result"
    }
   ],
   "source": [
    "%viz --style=\"TB\" --view=\"Tree\" \"OccurrenceTest\""
   ]
  },
  {
   "cell_type": "code",
   "execution_count": 46,
   "id": "294273a0",
   "metadata": {
    "execution": {
     "iopub.execute_input": "2022-02-18T10:48:39.693995Z",
     "iopub.status.busy": "2022-02-18T10:48:39.693595Z",
     "iopub.status.idle": "2022-02-18T10:48:39.698142Z",
     "shell.execute_reply": "2022-02-18T10:48:39.697811Z"
    }
   },
   "outputs": [
    {
     "data": {
      "image/svg+xml": [
       "<?xml version=\"1.0\" encoding=\"UTF-8\" standalone=\"no\"?><svg xmlns=\"http://www.w3.org/2000/svg\" xmlns:xlink=\"http://www.w3.org/1999/xlink\" contentScriptType=\"application/ecmascript\" contentStyleType=\"text/css\" height=\"12px\" preserveAspectRatio=\"none\" style=\"width:12px;height:12px;\" version=\"1.1\" viewBox=\"0 0 12 12\" width=\"12px\" zoomAndPan=\"magnify\"><defs/><g><!--MD5=[f4ee21bc66e489b5061b7c3e9601fdef]\n",
       "@startuml\r\n",
       "top to bottom direction\r\n",
       "skinparam monochrome true\r\n",
       "skinparam classbackgroundcolor white\r\n",
       "skinparam shadowing false\r\n",
       "skinparam wrapWidth 300\r\n",
       "hide circle\r\n",
       "\r\n",
       "@enduml\r\n",
       "\n",
       "PlantUML version 1.2020.13(Sat Jun 13 12:26:38 UTC 2020)\n",
       "(EPL source distribution)\n",
       "Java Runtime: OpenJDK Runtime Environment\n",
       "JVM: OpenJDK 64-Bit Server VM\n",
       "Default Encoding: UTF-8\n",
       "Language: en\n",
       "Country: null\n",
       "--></g></svg>"
      ]
     },
     "execution_count": 46,
     "metadata": {},
     "output_type": "execute_result"
    }
   ],
   "source": [
    "%viz --style=\"TB\" --view=\"State\" \"OccurrenceTest\""
   ]
  },
  {
   "cell_type": "code",
   "execution_count": 47,
   "id": "67c2d220",
   "metadata": {
    "execution": {
     "iopub.execute_input": "2022-02-18T10:48:39.748003Z",
     "iopub.status.busy": "2022-02-18T10:48:39.747597Z",
     "iopub.status.idle": "2022-02-18T10:48:39.781749Z",
     "shell.execute_reply": "2022-02-18T10:48:39.781390Z"
    }
   },
   "outputs": [
    {
     "data": {
      "image/svg+xml": [
       "<?xml version=\"1.0\" encoding=\"UTF-8\" standalone=\"no\"?><svg xmlns=\"http://www.w3.org/2000/svg\" xmlns:xlink=\"http://www.w3.org/1999/xlink\" contentScriptType=\"application/ecmascript\" contentStyleType=\"text/css\" height=\"195px\" preserveAspectRatio=\"none\" style=\"width:1123px;height:195px;\" version=\"1.1\" viewBox=\"0 0 1123 195\" width=\"1123px\" zoomAndPan=\"magnify\"><defs/><g><!--MD5=[fbc87193dbaf4d95561dea2c320d4a47]\n",
       "cluster E1--><a href=\"psysml:76f03fcf-c31b-4704-ae9e-b44a23fd6ebe\" target=\"_top\" title=\"psysml:76f03fcf-c31b-4704-ae9e-b44a23fd6ebe\" xlink:actuate=\"onRequest\" xlink:href=\"psysml:76f03fcf-c31b-4704-ae9e-b44a23fd6ebe\" xlink:show=\"new\" xlink:title=\"psysml:76f03fcf-c31b-4704-ae9e-b44a23fd6ebe\" xlink:type=\"simple\"><polygon fill=\"#FFFFFF\" points=\"16,6,134,6,141,28.2969,1101,28.2969,1101,183,16,183,16,6\" style=\"stroke: #000000; stroke-width: 1.5;\"/><line style=\"stroke: #000000; stroke-width: 1.5;\" x1=\"16\" x2=\"141\" y1=\"28.2969\" y2=\"28.2969\"/><text fill=\"#000000\" font-family=\"sans-serif\" font-size=\"14\" font-weight=\"bold\" lengthAdjust=\"spacingAndGlyphs\" textLength=\"112\" x=\"20\" y=\"20.9951\">OccurrenceTest</text></a><!--MD5=[f6df4d0ebaf0b5dfb2ced0ae5af7c670]\n",
       "cluster E4--><a href=\"psysml:ec83ca81-a881-4da3-97a0-46e2b6aae84c\" target=\"_top\" title=\"psysml:ec83ca81-a881-4da3-97a0-46e2b6aae84c\" xlink:actuate=\"onRequest\" xlink:href=\"psysml:ec83ca81-a881-4da3-97a0-46e2b6aae84c\" xlink:show=\"new\" xlink:title=\"psysml:ec83ca81-a881-4da3-97a0-46e2b6aae84c\" xlink:type=\"simple\"><rect fill=\"#FFFFFF\" height=\"110\" id=\"E4\" rx=\"10\" ry=\"10\" style=\"stroke: #383838; stroke-width: 1.5;\" width=\"435\" x=\"642\" y=\"49\"/><rect fill=\"#F8F8F8\" height=\"37.9375\" rx=\"10\" ry=\"10\" style=\"stroke: #F8F8F8; stroke-width: 1.5;\" width=\"435\" x=\"642\" y=\"49\"/><rect fill=\"#F8F8F8\" height=\"10\" style=\"stroke: #F8F8F8; stroke-width: 1.5;\" width=\"435\" x=\"642\" y=\"76.9375\"/><rect fill=\"none\" height=\"110\" id=\"E4\" rx=\"10\" ry=\"10\" style=\"stroke: #383838; stroke-width: 1.5;\" width=\"435\" x=\"642\" y=\"49\"/><text fill=\"#000000\" font-family=\"sans-serif\" font-size=\"12\" font-style=\"italic\" lengthAdjust=\"spacingAndGlyphs\" textLength=\"147\" x=\"786\" y=\"65.1387\">«individual occurrence»</text><text fill=\"#000000\" font-family=\"sans-serif\" font-size=\"12\" lengthAdjust=\"spacingAndGlyphs\" textLength=\"77\" x=\"821\" y=\"79.1074\">ind: Ind, Occ</text><line style=\"stroke: #383838; stroke-width: 1.0;\" x1=\"642\" x2=\"1077\" y1=\"86.9375\" y2=\"86.9375\"/></a><g id=\"E1.E2\"><a href=\"psysml:eaa0b96d-7da2-44a7-b980-6b6f36747918\" target=\"_top\" title=\"psysml:eaa0b96d-7da2-44a7-b980-6b6f36747918\" xlink:actuate=\"onRequest\" xlink:href=\"psysml:eaa0b96d-7da2-44a7-b980-6b6f36747918\" xlink:show=\"new\" xlink:title=\"psysml:eaa0b96d-7da2-44a7-b980-6b6f36747918\" xlink:type=\"simple\"><rect fill=\"#FFFFFF\" height=\"42.9375\" id=\"E2\" style=\"stroke: #383838; stroke-width: 1.5;\" width=\"120\" x=\"502\" y=\"100\"/><rect fill=\"#F8F8F8\" height=\"37.9375\" style=\"stroke: #383838; stroke-width: 1.5;\" width=\"120\" x=\"502\" y=\"100\"/><text fill=\"#000000\" font-family=\"sans-serif\" font-size=\"12\" font-style=\"italic\" lengthAdjust=\"spacingAndGlyphs\" textLength=\"113\" x=\"505.5\" y=\"116.1387\">«occurrence  def»</text><text fill=\"#000000\" font-family=\"sans-serif\" font-size=\"12\" lengthAdjust=\"spacingAndGlyphs\" textLength=\"23\" x=\"550.5\" y=\"130.1074\">Occ</text></a></g><g id=\"E1.E3\"><a href=\"psysml:54e4af67-f268-48a3-80b8-bc1579f32c01\" target=\"_top\" title=\"psysml:54e4af67-f268-48a3-80b8-bc1579f32c01\" xlink:actuate=\"onRequest\" xlink:href=\"psysml:54e4af67-f268-48a3-80b8-bc1579f32c01\" xlink:show=\"new\" xlink:title=\"psysml:54e4af67-f268-48a3-80b8-bc1579f32c01\" xlink:type=\"simple\"><rect fill=\"#FFFFFF\" height=\"42.9375\" id=\"E3\" style=\"stroke: #383838; stroke-width: 1.5;\" width=\"182\" x=\"285\" y=\"100\"/><rect fill=\"#F8F8F8\" height=\"37.9375\" style=\"stroke: #383838; stroke-width: 1.5;\" width=\"182\" x=\"285\" y=\"100\"/><text fill=\"#000000\" font-family=\"sans-serif\" font-size=\"12\" font-style=\"italic\" lengthAdjust=\"spacingAndGlyphs\" textLength=\"175\" x=\"288.5\" y=\"116.1387\">«individual occurrence  def»</text><text fill=\"#000000\" font-family=\"sans-serif\" font-size=\"12\" lengthAdjust=\"spacingAndGlyphs\" textLength=\"19\" x=\"366.5\" y=\"130.1074\">Ind</text></a></g><g id=\"E1.E4.E5\"><a href=\"psysml:fe74329f-5d2b-4ebe-b106-a7ecca7a6fbd\" target=\"_top\" title=\"psysml:fe74329f-5d2b-4ebe-b106-a7ecca7a6fbd\" xlink:actuate=\"onRequest\" xlink:href=\"psysml:fe74329f-5d2b-4ebe-b106-a7ecca7a6fbd\" xlink:show=\"new\" xlink:title=\"psysml:fe74329f-5d2b-4ebe-b106-a7ecca7a6fbd\" xlink:type=\"simple\"><rect fill=\"#FFFFFF\" height=\"42.9375\" id=\"E5\" rx=\"10\" ry=\"10\" style=\"stroke: #383838; stroke-width: 1.5;\" width=\"155\" x=\"905.5\" y=\"100\"/><rect fill=\"#F8F8F8\" height=\"37.9375\" rx=\"10\" ry=\"10\" style=\"stroke: #F8F8F8; stroke-width: 1.5;\" width=\"155\" x=\"905.5\" y=\"100\"/><rect fill=\"#F8F8F8\" height=\"10\" style=\"stroke: #F8F8F8; stroke-width: 1.5;\" width=\"155\" x=\"905.5\" y=\"127.9375\"/><rect fill=\"none\" height=\"42.9375\" id=\"E5\" rx=\"10\" ry=\"10\" style=\"stroke: #383838; stroke-width: 1.5;\" width=\"155\" x=\"905.5\" y=\"100\"/><text fill=\"#000000\" font-family=\"sans-serif\" font-size=\"12\" font-style=\"italic\" lengthAdjust=\"spacingAndGlyphs\" textLength=\"148\" x=\"909\" y=\"116.1387\">«snapshot occurrence»</text><text fill=\"#000000\" font-family=\"sans-serif\" font-size=\"12\" lengthAdjust=\"spacingAndGlyphs\" textLength=\"15\" x=\"975.5\" y=\"130.1074\">s3</text></a></g><g id=\"E1.E4.E6\"><a href=\"psysml:6925098a-d5ed-431f-aaf1-d453853f914b\" target=\"_top\" title=\"psysml:6925098a-d5ed-431f-aaf1-d453853f914b\" xlink:actuate=\"onRequest\" xlink:href=\"psysml:6925098a-d5ed-431f-aaf1-d453853f914b\" xlink:show=\"new\" xlink:title=\"psysml:6925098a-d5ed-431f-aaf1-d453853f914b\" xlink:type=\"simple\"><rect fill=\"#FFFFFF\" height=\"42.9375\" id=\"E6\" rx=\"10\" ry=\"10\" style=\"stroke: #383838; stroke-width: 1.5;\" width=\"213\" x=\"657.5\" y=\"100\"/><rect fill=\"#F8F8F8\" height=\"37.9375\" rx=\"10\" ry=\"10\" style=\"stroke: #F8F8F8; stroke-width: 1.5;\" width=\"213\" x=\"657.5\" y=\"100\"/><rect fill=\"#F8F8F8\" height=\"10\" style=\"stroke: #F8F8F8; stroke-width: 1.5;\" width=\"213\" x=\"657.5\" y=\"127.9375\"/><rect fill=\"none\" height=\"42.9375\" id=\"E6\" rx=\"10\" ry=\"10\" style=\"stroke: #383838; stroke-width: 1.5;\" width=\"213\" x=\"657.5\" y=\"100\"/><text fill=\"#000000\" font-family=\"sans-serif\" font-size=\"12\" font-style=\"italic\" lengthAdjust=\"spacingAndGlyphs\" textLength=\"206\" x=\"661\" y=\"116.1387\">«individual timeslice occurrence»</text><text fill=\"#000000\" font-family=\"sans-serif\" font-size=\"12\" lengthAdjust=\"spacingAndGlyphs\" textLength=\"13\" x=\"757.5\" y=\"130.1074\">t3</text></a></g><g id=\"E1.E7\"><a href=\"psysml:4e4d3416-6ae1-42d7-bc86-2084c913e314\" target=\"_top\" title=\"psysml:4e4d3416-6ae1-42d7-bc86-2084c913e314\" xlink:actuate=\"onRequest\" xlink:href=\"psysml:4e4d3416-6ae1-42d7-bc86-2084c913e314\" xlink:show=\"new\" xlink:title=\"psysml:4e4d3416-6ae1-42d7-bc86-2084c913e314\" xlink:type=\"simple\"><rect fill=\"#FFFFFF\" height=\"42.9375\" id=\"E7\" rx=\"10\" ry=\"10\" style=\"stroke: #383838; stroke-width: 1.5;\" width=\"217\" x=\"32.5\" y=\"100\"/><rect fill=\"#F8F8F8\" height=\"37.9375\" rx=\"10\" ry=\"10\" style=\"stroke: #F8F8F8; stroke-width: 1.5;\" width=\"217\" x=\"32.5\" y=\"100\"/><rect fill=\"#F8F8F8\" height=\"10\" style=\"stroke: #F8F8F8; stroke-width: 1.5;\" width=\"217\" x=\"32.5\" y=\"127.9375\"/><rect fill=\"none\" height=\"42.9375\" id=\"E7\" rx=\"10\" ry=\"10\" style=\"stroke: #383838; stroke-width: 1.5;\" width=\"217\" x=\"32.5\" y=\"100\"/><text fill=\"#000000\" font-family=\"sans-serif\" font-size=\"12\" font-style=\"italic\" lengthAdjust=\"spacingAndGlyphs\" textLength=\"210\" x=\"36\" y=\"116.1387\">«individual snapshot occurrence»</text><text fill=\"#000000\" font-family=\"sans-serif\" font-size=\"12\" lengthAdjust=\"spacingAndGlyphs\" textLength=\"42\" x=\"120\" y=\"130.1074\">s4: Ind</text></a></g><!--MD5=[e576aa1c6fdea6569971e17e09e8a72a]\n",
       "@startuml\r\n",
       "skinparam ranksep 10\r\n",
       "skinparam rectangle {\r\n",
       " backgroundColor<<block>> LightGreen\r\n",
       "}\r\n",
       "top to bottom direction\r\n",
       "skinparam monochrome true\r\n",
       "skinparam classbackgroundcolor white\r\n",
       "skinparam shadowing false\r\n",
       "skinparam wrapWidth 300\r\n",
       "hide circle\r\n",
       "\r\n",
       "package \"OccurrenceTest\" as E1  [[psysml:76f03fcf-c31b-4704-ae9e-b44a23fd6ebe ]]  {\r\n",
       "def \"Occ\" as E2  <<(T,blue) occurrence  def>> [[psysml:eaa0b96d-7da2-44a7-b980-6b6f36747918 ]] \r\n",
       "def \"Ind\" as E3  <<(T,blue) individual occurrence  def>> [[psysml:54e4af67-f268-48a3-80b8-bc1579f32c01 ]] \r\n",
       "rec usage \"ind: Ind, Occ\" as E4  <<(T,blue) individual occurrence>> [[psysml:ec83ca81-a881-4da3-97a0-46e2b6aae84c ]] {\r\n",
       "rec usage \"s3\" as E5  <<(T,blue) snapshot occurrence>> [[psysml:fe74329f-5d2b-4ebe-b106-a7ecca7a6fbd ]] {\r\n",
       "}\r\n",
       "rec usage \"t3\" as E6  <<(T,blue) individual timeslice occurrence>> [[psysml:6925098a-d5ed-431f-aaf1-d453853f914b ]] {\r\n",
       "}\r\n",
       "}\r\n",
       "rec usage \"s4: Ind\" as E7  <<(T,blue) individual snapshot occurrence>> [[psysml:4e4d3416-6ae1-42d7-bc86-2084c913e314 ]] {\r\n",
       "}\r\n",
       "}\r\n",
       "@enduml\r\n",
       "\n",
       "PlantUML version 1.2020.13(Sat Jun 13 12:26:38 UTC 2020)\n",
       "(EPL source distribution)\n",
       "Java Runtime: OpenJDK Runtime Environment\n",
       "JVM: OpenJDK 64-Bit Server VM\n",
       "Default Encoding: UTF-8\n",
       "Language: en\n",
       "Country: null\n",
       "--></g></svg>"
      ]
     },
     "execution_count": 47,
     "metadata": {},
     "output_type": "execute_result"
    }
   ],
   "source": [
    "%viz --style=\"TB\" --view=\"Interconnection\" \"OccurrenceTest\""
   ]
  },
  {
   "cell_type": "code",
   "execution_count": 48,
   "id": "6074c098",
   "metadata": {
    "execution": {
     "iopub.execute_input": "2022-02-18T10:48:39.831298Z",
     "iopub.status.busy": "2022-02-18T10:48:39.830887Z",
     "iopub.status.idle": "2022-02-18T10:48:39.835264Z",
     "shell.execute_reply": "2022-02-18T10:48:39.835586Z"
    }
   },
   "outputs": [
    {
     "data": {
      "image/svg+xml": [
       "<?xml version=\"1.0\" encoding=\"UTF-8\" standalone=\"no\"?><svg xmlns=\"http://www.w3.org/2000/svg\" xmlns:xlink=\"http://www.w3.org/1999/xlink\" contentScriptType=\"application/ecmascript\" contentStyleType=\"text/css\" height=\"12px\" preserveAspectRatio=\"none\" style=\"width:12px;height:12px;\" version=\"1.1\" viewBox=\"0 0 12 12\" width=\"12px\" zoomAndPan=\"magnify\"><defs/><g><!--MD5=[06afc254b03ac5e9d9fb7773b07d0800]\n",
       "@startuml\r\n",
       "skinparam ranksep 8\r\n",
       "top to bottom direction\r\n",
       "skinparam monochrome true\r\n",
       "skinparam classbackgroundcolor white\r\n",
       "skinparam shadowing false\r\n",
       "skinparam wrapWidth 300\r\n",
       "hide circle\r\n",
       "\r\n",
       "@enduml\r\n",
       "\n",
       "PlantUML version 1.2020.13(Sat Jun 13 12:26:38 UTC 2020)\n",
       "(EPL source distribution)\n",
       "Java Runtime: OpenJDK Runtime Environment\n",
       "JVM: OpenJDK 64-Bit Server VM\n",
       "Default Encoding: UTF-8\n",
       "Language: en\n",
       "Country: null\n",
       "--></g></svg>"
      ]
     },
     "execution_count": 48,
     "metadata": {},
     "output_type": "execute_result"
    }
   ],
   "source": [
    "%viz --style=\"TB\" --view=\"Action\" \"OccurrenceTest\""
   ]
  },
  {
   "cell_type": "code",
   "execution_count": 49,
   "id": "853dc3d2",
   "metadata": {
    "execution": {
     "iopub.execute_input": "2022-02-18T10:48:39.885764Z",
     "iopub.status.busy": "2022-02-18T10:48:39.885351Z",
     "iopub.status.idle": "2022-02-18T10:48:39.890439Z",
     "shell.execute_reply": "2022-02-18T10:48:39.890090Z"
    }
   },
   "outputs": [
    {
     "data": {
      "image/svg+xml": [
       "<?xml version=\"1.0\" encoding=\"UTF-8\" standalone=\"no\"?><svg xmlns=\"http://www.w3.org/2000/svg\" xmlns:xlink=\"http://www.w3.org/1999/xlink\" contentScriptType=\"application/ecmascript\" contentStyleType=\"text/css\" height=\"12px\" preserveAspectRatio=\"none\" style=\"width:12px;height:12px;\" version=\"1.1\" viewBox=\"0 0 12 12\" width=\"12px\" zoomAndPan=\"magnify\"><defs/><g><!--MD5=[e1ab0c84c44d2fef8bf5f140f2689906]\n",
       "@startuml\r\n",
       "skinparam roundcorner 20\r\n",
       "skinparam BoxPadding 20\r\n",
       "skinparam SequenceBoxBackgroundColor #white\r\n",
       "skinparam style strictuml\r\n",
       "skinparam maxMessageSize 100\r\n",
       "top to bottom direction\r\n",
       "skinparam monochrome true\r\n",
       "skinparam classbackgroundcolor white\r\n",
       "skinparam shadowing false\r\n",
       "skinparam wrapWidth 300\r\n",
       "hide circle\r\n",
       "\r\n",
       "@enduml\r\n",
       "\n",
       "PlantUML version 1.2020.13(Sat Jun 13 12:26:38 UTC 2020)\n",
       "(EPL source distribution)\n",
       "Java Runtime: OpenJDK Runtime Environment\n",
       "JVM: OpenJDK 64-Bit Server VM\n",
       "Default Encoding: UTF-8\n",
       "Language: en\n",
       "Country: null\n",
       "--></g></svg>"
      ]
     },
     "execution_count": 49,
     "metadata": {},
     "output_type": "execute_result"
    }
   ],
   "source": [
    "%viz --style=\"TB\" --view=\"Sequence\" \"OccurrenceTest\""
   ]
  },
  {
   "cell_type": "code",
   "execution_count": 50,
   "id": "3831ac15",
   "metadata": {
    "execution": {
     "iopub.execute_input": "2022-02-18T10:48:39.940508Z",
     "iopub.status.busy": "2022-02-18T10:48:39.939988Z",
     "iopub.status.idle": "2022-02-18T10:48:39.994432Z",
     "shell.execute_reply": "2022-02-18T10:48:39.993579Z"
    }
   },
   "outputs": [
    {
     "data": {
      "image/svg+xml": [
       "<?xml version=\"1.0\" encoding=\"UTF-8\" standalone=\"no\"?><svg xmlns=\"http://www.w3.org/2000/svg\" xmlns:xlink=\"http://www.w3.org/1999/xlink\" contentScriptType=\"application/ecmascript\" contentStyleType=\"text/css\" height=\"569px\" preserveAspectRatio=\"none\" style=\"width:1009px;height:569px;\" version=\"1.1\" viewBox=\"0 0 1009 569\" width=\"1009px\" zoomAndPan=\"magnify\"><defs/><g><!--MD5=[fbc87193dbaf4d95561dea2c320d4a47]\n",
       "cluster E1--><a href=\"psysml:76f03fcf-c31b-4704-ae9e-b44a23fd6ebe\" target=\"_top\" title=\"psysml:76f03fcf-c31b-4704-ae9e-b44a23fd6ebe\" xlink:actuate=\"onRequest\" xlink:href=\"psysml:76f03fcf-c31b-4704-ae9e-b44a23fd6ebe\" xlink:show=\"new\" xlink:title=\"psysml:76f03fcf-c31b-4704-ae9e-b44a23fd6ebe\" xlink:type=\"simple\"><polygon fill=\"#FFFFFF\" points=\"16,6,134,6,141,28.2969,970,28.2969,970,557,16,557,16,6\" style=\"stroke: #000000; stroke-width: 1.5;\"/><line style=\"stroke: #000000; stroke-width: 1.5;\" x1=\"16\" x2=\"141\" y1=\"28.2969\" y2=\"28.2969\"/><text fill=\"#000000\" font-family=\"sans-serif\" font-size=\"14\" font-weight=\"bold\" lengthAdjust=\"spacingAndGlyphs\" textLength=\"112\" x=\"20\" y=\"20.9951\">OccurrenceTest</text></a><!--MD5=[b4997ac47864f28c2f74865a473b2911]\n",
       "class E2--><a href=\"psysml:eaa0b96d-7da2-44a7-b980-6b6f36747918\" target=\"_top\" title=\"psysml:eaa0b96d-7da2-44a7-b980-6b6f36747918\" xlink:actuate=\"onRequest\" xlink:href=\"psysml:eaa0b96d-7da2-44a7-b980-6b6f36747918\" xlink:show=\"new\" xlink:title=\"psysml:eaa0b96d-7da2-44a7-b980-6b6f36747918\" xlink:type=\"simple\"><rect fill=\"#FFFFFF\" height=\"75.5469\" id=\"E2\" style=\"stroke: #383838; stroke-width: 1.5;\" width=\"115\" x=\"373.5\" y=\"147\"/><text fill=\"#000000\" font-family=\"sans-serif\" font-size=\"12\" font-style=\"italic\" lengthAdjust=\"spacingAndGlyphs\" textLength=\"113\" x=\"374.5\" y=\"163.1387\">«occurrence  def»</text><text fill=\"#000000\" font-family=\"sans-serif\" font-size=\"12\" lengthAdjust=\"spacingAndGlyphs\" textLength=\"23\" x=\"419.5\" y=\"177.1074\">Occ</text><line style=\"stroke: #383838; stroke-width: 1.5;\" x1=\"374.5\" x2=\"487.5\" y1=\"184.9375\" y2=\"184.9375\"/><text fill=\"#000000\" font-family=\"sans-serif\" font-size=\"11\" lengthAdjust=\"spacingAndGlyphs\" textLength=\"7\" x=\"379.5\" y=\"215.9526\">a</text><line style=\"stroke: #383838; stroke-width: 1.0;\" x1=\"374.5\" x2=\"403.5\" y1=\"199.3398\" y2=\"199.3398\"/><text fill=\"#000000\" font-family=\"sans-serif\" font-size=\"11\" lengthAdjust=\"spacingAndGlyphs\" textLength=\"55\" x=\"403.5\" y=\"202.6479\">attributes</text><line style=\"stroke: #383838; stroke-width: 1.0;\" x1=\"458.5\" x2=\"487.5\" y1=\"199.3398\" y2=\"199.3398\"/></a><!--MD5=[09b614a08d8cba4a07c9adeb5e0fee81]\n",
       "class E3--><a href=\"psysml:87fca259-1c14-4b5b-983e-37895f6ff77b\" target=\"_top\" title=\"psysml:87fca259-1c14-4b5b-983e-37895f6ff77b\" xlink:actuate=\"onRequest\" xlink:href=\"psysml:87fca259-1c14-4b5b-983e-37895f6ff77b\" xlink:show=\"new\" xlink:title=\"psysml:87fca259-1c14-4b5b-983e-37895f6ff77b\" xlink:type=\"simple\"><rect fill=\"#FFFFFF\" height=\"45.9375\" id=\"E3\" rx=\"10\" ry=\"10\" style=\"stroke: #383838; stroke-width: 1.5;\" width=\"87\" x=\"279.5\" y=\"283\"/><text fill=\"#000000\" font-family=\"sans-serif\" font-size=\"12\" font-style=\"italic\" lengthAdjust=\"spacingAndGlyphs\" textLength=\"85\" x=\"280.5\" y=\"299.1387\">«occurrence»</text><text fill=\"#000000\" font-family=\"sans-serif\" font-size=\"12\" lengthAdjust=\"spacingAndGlyphs\" textLength=\"61\" x=\"290.5\" y=\"313.1074\">occ1: Occ</text><line style=\"stroke: #383838; stroke-width: 1.5;\" x1=\"280.5\" x2=\"365.5\" y1=\"320.9375\" y2=\"320.9375\"/></a><!--MD5=[ebbe1d658d1005bcc118a6aa81145e00]\n",
       "class E4--><a href=\"psysml:ffd2f288-180d-4271-8880-cf9706207ba2\" target=\"_top\" title=\"psysml:ffd2f288-180d-4271-8880-cf9706207ba2\" xlink:actuate=\"onRequest\" xlink:href=\"psysml:ffd2f288-180d-4271-8880-cf9706207ba2\" xlink:show=\"new\" xlink:title=\"psysml:ffd2f288-180d-4271-8880-cf9706207ba2\" xlink:type=\"simple\"><rect fill=\"#FFFFFF\" height=\"45.9375\" id=\"E4\" rx=\"10\" ry=\"10\" style=\"stroke: #383838; stroke-width: 1.5;\" width=\"87\" x=\"401.5\" y=\"283\"/><text fill=\"#000000\" font-family=\"sans-serif\" font-size=\"12\" font-style=\"italic\" lengthAdjust=\"spacingAndGlyphs\" textLength=\"85\" x=\"402.5\" y=\"299.1387\">«occurrence»</text><text fill=\"#000000\" font-family=\"sans-serif\" font-size=\"12\" lengthAdjust=\"spacingAndGlyphs\" textLength=\"61\" x=\"412.5\" y=\"313.1074\">occ2: Occ</text><line style=\"stroke: #383838; stroke-width: 1.5;\" x1=\"402.5\" x2=\"487.5\" y1=\"320.9375\" y2=\"320.9375\"/></a><!--MD5=[270fce915f116d4de14055a7c1d9a0f3]\n",
       "class E5--><a href=\"psysml:4e1769cc-a186-417e-91f0-587d1f1196e7\" target=\"_top\" title=\"psysml:4e1769cc-a186-417e-91f0-587d1f1196e7\" xlink:actuate=\"onRequest\" xlink:href=\"psysml:4e1769cc-a186-417e-91f0-587d1f1196e7\" xlink:show=\"new\" xlink:title=\"psysml:4e1769cc-a186-417e-91f0-587d1f1196e7\" xlink:type=\"simple\"><rect fill=\"#FFFFFF\" height=\"45.9375\" id=\"E5\" rx=\"10\" ry=\"10\" style=\"stroke: #383838; stroke-width: 1.5;\" width=\"212\" x=\"524\" y=\"283\"/><text fill=\"#000000\" font-family=\"sans-serif\" font-size=\"12\" font-style=\"italic\" lengthAdjust=\"spacingAndGlyphs\" textLength=\"210\" x=\"525\" y=\"299.1387\">«individual snapshot occurrence»</text><text fill=\"#000000\" font-family=\"sans-serif\" font-size=\"12\" lengthAdjust=\"spacingAndGlyphs\" textLength=\"34\" x=\"611\" y=\"313.1074\">s: Ind</text><line style=\"stroke: #383838; stroke-width: 1.5;\" x1=\"525\" x2=\"735\" y1=\"320.9375\" y2=\"320.9375\"/></a><!--MD5=[60a26617385b1d2d0262a64233df1f8d]\n",
       "class E6--><a href=\"psysml:9c61ac47-8b4e-45e2-802a-f3aa096140c4\" target=\"_top\" title=\"psysml:9c61ac47-8b4e-45e2-802a-f3aa096140c4\" xlink:actuate=\"onRequest\" xlink:href=\"psysml:9c61ac47-8b4e-45e2-802a-f3aa096140c4\" xlink:show=\"new\" xlink:title=\"psysml:9c61ac47-8b4e-45e2-802a-f3aa096140c4\" xlink:type=\"simple\"><rect fill=\"#FFFFFF\" height=\"45.9375\" id=\"E6\" rx=\"10\" ry=\"10\" style=\"stroke: #383838; stroke-width: 1.5;\" width=\"146\" x=\"771\" y=\"283\"/><text fill=\"#000000\" font-family=\"sans-serif\" font-size=\"12\" font-style=\"italic\" lengthAdjust=\"spacingAndGlyphs\" textLength=\"144\" x=\"772\" y=\"299.1387\">«timeslice occurrence»</text><text fill=\"#000000\" font-family=\"sans-serif\" font-size=\"12\" lengthAdjust=\"spacingAndGlyphs\" textLength=\"5\" x=\"839.5\" y=\"313.1074\">t</text><line style=\"stroke: #383838; stroke-width: 1.5;\" x1=\"772\" x2=\"916\" y1=\"320.9375\" y2=\"320.9375\"/></a><!--MD5=[2156ba9850f5573cc1fc38a6a4b2f02b]\n",
       "class E7--><a href=\"psysml:54e4af67-f268-48a3-80b8-bc1579f32c01\" target=\"_top\" title=\"psysml:54e4af67-f268-48a3-80b8-bc1579f32c01\" xlink:actuate=\"onRequest\" xlink:href=\"psysml:54e4af67-f268-48a3-80b8-bc1579f32c01\" xlink:show=\"new\" xlink:title=\"psysml:54e4af67-f268-48a3-80b8-bc1579f32c01\" xlink:type=\"simple\"><rect fill=\"#FFFFFF\" height=\"45.9375\" id=\"E7\" style=\"stroke: #383838; stroke-width: 1.5;\" width=\"177\" x=\"541.5\" y=\"389\"/><text fill=\"#000000\" font-family=\"sans-serif\" font-size=\"12\" font-style=\"italic\" lengthAdjust=\"spacingAndGlyphs\" textLength=\"175\" x=\"542.5\" y=\"405.1387\">«individual occurrence  def»</text><text fill=\"#000000\" font-family=\"sans-serif\" font-size=\"12\" lengthAdjust=\"spacingAndGlyphs\" textLength=\"19\" x=\"620.5\" y=\"419.1074\">Ind</text><line style=\"stroke: #383838; stroke-width: 1.5;\" x1=\"542.5\" x2=\"717.5\" y1=\"426.9375\" y2=\"426.9375\"/></a><!--MD5=[b9389687b975829384b498ac4b7476b2]\n",
       "class E8--><a href=\"psysml:bfc31472-e77d-4111-949c-57e124b09868\" target=\"_top\" title=\"psysml:bfc31472-e77d-4111-949c-57e124b09868\" xlink:actuate=\"onRequest\" xlink:href=\"psysml:bfc31472-e77d-4111-949c-57e124b09868\" xlink:show=\"new\" xlink:title=\"psysml:bfc31472-e77d-4111-949c-57e124b09868\" xlink:type=\"simple\"><rect fill=\"#FFFFFF\" height=\"45.9375\" id=\"E8\" rx=\"10\" ry=\"10\" style=\"stroke: #383838; stroke-width: 1.5;\" width=\"150\" x=\"463\" y=\"495\"/><text fill=\"#000000\" font-family=\"sans-serif\" font-size=\"12\" font-style=\"italic\" lengthAdjust=\"spacingAndGlyphs\" textLength=\"148\" x=\"464\" y=\"511.1387\">«snapshot occurrence»</text><text fill=\"#000000\" font-family=\"sans-serif\" font-size=\"12\" lengthAdjust=\"spacingAndGlyphs\" textLength=\"15\" x=\"528.5\" y=\"525.1074\">s2</text><line style=\"stroke: #383838; stroke-width: 1.5;\" x1=\"464\" x2=\"612\" y1=\"532.9375\" y2=\"532.9375\"/></a><!--MD5=[fd4143e9d270a159db93a4ea2a975926]\n",
       "class E9--><a href=\"psysml:25521b86-d75d-41e6-9d0e-592064bc2653\" target=\"_top\" title=\"psysml:25521b86-d75d-41e6-9d0e-592064bc2653\" xlink:actuate=\"onRequest\" xlink:href=\"psysml:25521b86-d75d-41e6-9d0e-592064bc2653\" xlink:show=\"new\" xlink:title=\"psysml:25521b86-d75d-41e6-9d0e-592064bc2653\" xlink:type=\"simple\"><rect fill=\"#FFFFFF\" height=\"45.9375\" id=\"E9\" rx=\"10\" ry=\"10\" style=\"stroke: #383838; stroke-width: 1.5;\" width=\"146\" x=\"648\" y=\"495\"/><text fill=\"#000000\" font-family=\"sans-serif\" font-size=\"12\" font-style=\"italic\" lengthAdjust=\"spacingAndGlyphs\" textLength=\"144\" x=\"649\" y=\"511.1387\">«timeslice occurrence»</text><text fill=\"#000000\" font-family=\"sans-serif\" font-size=\"12\" lengthAdjust=\"spacingAndGlyphs\" textLength=\"13\" x=\"712.5\" y=\"525.1074\">t2</text><line style=\"stroke: #383838; stroke-width: 1.5;\" x1=\"649\" x2=\"793\" y1=\"532.9375\" y2=\"532.9375\"/></a><!--MD5=[96f4274e9e20536e775497830990834d]\n",
       "class E10--><a href=\"psysml:ec83ca81-a881-4da3-97a0-46e2b6aae84c\" target=\"_top\" title=\"psysml:ec83ca81-a881-4da3-97a0-46e2b6aae84c\" xlink:actuate=\"onRequest\" xlink:href=\"psysml:ec83ca81-a881-4da3-97a0-46e2b6aae84c\" xlink:show=\"new\" xlink:title=\"psysml:ec83ca81-a881-4da3-97a0-46e2b6aae84c\" xlink:type=\"simple\"><rect fill=\"#FFFFFF\" height=\"45.9375\" id=\"E10\" rx=\"10\" ry=\"10\" style=\"stroke: #383838; stroke-width: 1.5;\" width=\"149\" x=\"505.5\" y=\"41\"/><text fill=\"#000000\" font-family=\"sans-serif\" font-size=\"12\" font-style=\"italic\" lengthAdjust=\"spacingAndGlyphs\" textLength=\"147\" x=\"506.5\" y=\"57.1387\">«individual occurrence»</text><text fill=\"#000000\" font-family=\"sans-serif\" font-size=\"12\" lengthAdjust=\"spacingAndGlyphs\" textLength=\"77\" x=\"539.5\" y=\"71.1074\">ind: Ind, Occ</text><line style=\"stroke: #383838; stroke-width: 1.5;\" x1=\"506.5\" x2=\"653.5\" y1=\"78.9375\" y2=\"78.9375\"/></a><!--MD5=[1dd1bfd58a279cf63c5f349dbc8fc6a1]\n",
       "class E11--><a href=\"psysml:fe74329f-5d2b-4ebe-b106-a7ecca7a6fbd\" target=\"_top\" title=\"psysml:fe74329f-5d2b-4ebe-b106-a7ecca7a6fbd\" xlink:actuate=\"onRequest\" xlink:href=\"psysml:fe74329f-5d2b-4ebe-b106-a7ecca7a6fbd\" xlink:show=\"new\" xlink:title=\"psysml:fe74329f-5d2b-4ebe-b106-a7ecca7a6fbd\" xlink:type=\"simple\"><rect fill=\"#FFFFFF\" height=\"45.9375\" id=\"E11\" rx=\"10\" ry=\"10\" style=\"stroke: #383838; stroke-width: 1.5;\" width=\"150\" x=\"561\" y=\"162\"/><text fill=\"#000000\" font-family=\"sans-serif\" font-size=\"12\" font-style=\"italic\" lengthAdjust=\"spacingAndGlyphs\" textLength=\"148\" x=\"562\" y=\"178.1387\">«snapshot occurrence»</text><text fill=\"#000000\" font-family=\"sans-serif\" font-size=\"12\" lengthAdjust=\"spacingAndGlyphs\" textLength=\"15\" x=\"626.5\" y=\"192.1074\">s3</text><line style=\"stroke: #383838; stroke-width: 1.5;\" x1=\"562\" x2=\"710\" y1=\"199.9375\" y2=\"199.9375\"/></a><!--MD5=[49a0ec8f00dab7302a31f22d0f0fe584]\n",
       "class E12--><a href=\"psysml:6925098a-d5ed-431f-aaf1-d453853f914b\" target=\"_top\" title=\"psysml:6925098a-d5ed-431f-aaf1-d453853f914b\" xlink:actuate=\"onRequest\" xlink:href=\"psysml:6925098a-d5ed-431f-aaf1-d453853f914b\" xlink:show=\"new\" xlink:title=\"psysml:6925098a-d5ed-431f-aaf1-d453853f914b\" xlink:type=\"simple\"><rect fill=\"#FFFFFF\" height=\"45.9375\" id=\"E12\" rx=\"10\" ry=\"10\" style=\"stroke: #383838; stroke-width: 1.5;\" width=\"208\" x=\"746\" y=\"162\"/><text fill=\"#000000\" font-family=\"sans-serif\" font-size=\"12\" font-style=\"italic\" lengthAdjust=\"spacingAndGlyphs\" textLength=\"206\" x=\"747\" y=\"178.1387\">«individual timeslice occurrence»</text><text fill=\"#000000\" font-family=\"sans-serif\" font-size=\"12\" lengthAdjust=\"spacingAndGlyphs\" textLength=\"13\" x=\"841.5\" y=\"192.1074\">t3</text><line style=\"stroke: #383838; stroke-width: 1.5;\" x1=\"747\" x2=\"953\" y1=\"199.9375\" y2=\"199.9375\"/></a><!--MD5=[ee3c913d1a06f366521f9ef512b67efe]\n",
       "class E13--><a href=\"psysml:4e4d3416-6ae1-42d7-bc86-2084c913e314\" target=\"_top\" title=\"psysml:4e4d3416-6ae1-42d7-bc86-2084c913e314\" xlink:actuate=\"onRequest\" xlink:href=\"psysml:4e4d3416-6ae1-42d7-bc86-2084c913e314\" xlink:show=\"new\" xlink:title=\"psysml:4e4d3416-6ae1-42d7-bc86-2084c913e314\" xlink:type=\"simple\"><rect fill=\"#FFFFFF\" height=\"45.9375\" id=\"E13\" rx=\"10\" ry=\"10\" style=\"stroke: #383838; stroke-width: 1.5;\" width=\"212\" x=\"32\" y=\"283\"/><text fill=\"#000000\" font-family=\"sans-serif\" font-size=\"12\" font-style=\"italic\" lengthAdjust=\"spacingAndGlyphs\" textLength=\"210\" x=\"33\" y=\"299.1387\">«individual snapshot occurrence»</text><text fill=\"#000000\" font-family=\"sans-serif\" font-size=\"12\" lengthAdjust=\"spacingAndGlyphs\" textLength=\"42\" x=\"115\" y=\"313.1074\">s4: Ind</text><line style=\"stroke: #383838; stroke-width: 1.5;\" x1=\"33\" x2=\"243\" y1=\"320.9375\" y2=\"320.9375\"/></a><!--MD5=[209b3feb70ccb6233bfe1053d122c12c]\n",
       "reverse link E2 to E3--><a href=\"psysml:62ea934f-12d4-42a0-b786-a1086ef654f4\" target=\"_top\" title=\"psysml:62ea934f-12d4-42a0-b786-a1086ef654f4\" xlink:actuate=\"onRequest\" xlink:href=\"psysml:62ea934f-12d4-42a0-b786-a1086ef654f4\" xlink:show=\"new\" xlink:title=\"psysml:62ea934f-12d4-42a0-b786-a1086ef654f4\" xlink:type=\"simple\"><path d=\"M376.37,232.45 C359.85,249.83 343.43,268.76 332.86,282.93 \" fill=\"none\" id=\"E2&lt;-E3\" style=\"stroke: #383838; stroke-width: 1.0;\"/><polygon fill=\"#FFFFFF\" points=\"385.52,223,378.4729,224.5294,377.1743,231.6226,384.2213,230.0932,385.52,223\" style=\"stroke: #383838; stroke-width: 1.0;\"/></a><!--MD5=[05d275557350bfb9b23a4ef7222b4c39]\n",
       "link E3 to E2--><a href=\"psysml:72edb9ed-f456-4be1-846b-a7c4b7fb6ef3\" target=\"_top\" title=\"psysml:72edb9ed-f456-4be1-846b-a7c4b7fb6ef3\" xlink:actuate=\"onRequest\" xlink:href=\"psysml:72edb9ed-f456-4be1-846b-a7c4b7fb6ef3\" xlink:show=\"new\" xlink:title=\"psysml:72edb9ed-f456-4be1-846b-a7c4b7fb6ef3\" xlink:type=\"simple\"><path d=\"M353.8,282.93 C367.38,270.34 383.11,253.98 396.95,238.29 \" fill=\"none\" id=\"E3-&gt;E2\" style=\"stroke: #383838; stroke-width: 1.0;\"/><polygon fill=\"#FFFFFF\" points=\"410.02,223,403.0007,241.9929,392.3563,232.8991,410.02,223\" style=\"stroke: #383838; stroke-width: 1.0;\"/><ellipse cx=\"397.7776\" cy=\"245.0276\" fill=\"#383838\" rx=\"2\" ry=\"2\" style=\"stroke: #383838; stroke-width: 1.0;\"/><ellipse cx=\"390.1744\" cy=\"238.532\" fill=\"#383838\" rx=\"2\" ry=\"2\" style=\"stroke: #383838; stroke-width: 1.0;\"/></a><!--MD5=[9618e71518536f8baf3342ff6fdab317]\n",
       "reverse link E2 to E4--><a href=\"psysml:1930a264-e184-4aca-ae40-6206f5d09a7f\" target=\"_top\" title=\"psysml:1930a264-e184-4aca-ae40-6206f5d09a7f\" xlink:actuate=\"onRequest\" xlink:href=\"psysml:1930a264-e184-4aca-ae40-6206f5d09a7f\" xlink:show=\"new\" xlink:title=\"psysml:1930a264-e184-4aca-ae40-6206f5d09a7f\" xlink:type=\"simple\"><path d=\"M424.31,236.34 C425.74,252.61 428.58,269.81 432.23,282.93 \" fill=\"none\" id=\"E2&lt;-E4\" style=\"stroke: #383838; stroke-width: 1.0;\"/><polygon fill=\"#383838\" points=\"423.45,223,419.8475,229.2467,424.2281,234.9747,427.8306,228.728,423.45,223\" style=\"stroke: #383838; stroke-width: 1.0;\"/></a><!--MD5=[185131fc0dcab0a4505a2ebe144e961b]\n",
       "link E4 to E2--><a href=\"psysml:32367fe5-1bb2-4952-a335-a8970d1d9f84\" target=\"_top\" title=\"psysml:32367fe5-1bb2-4952-a335-a8970d1d9f84\" xlink:actuate=\"onRequest\" xlink:href=\"psysml:32367fe5-1bb2-4952-a335-a8970d1d9f84\" xlink:show=\"new\" xlink:title=\"psysml:32367fe5-1bb2-4952-a335-a8970d1d9f84\" xlink:type=\"simple\"><path d=\"M453.17,282.93 C453.77,271.65 452.99,257.34 451.22,243.21 \" fill=\"none\" id=\"E4-&gt;E2\" style=\"stroke: #383838; stroke-width: 1.0;\"/><polygon fill=\"#FFFFFF\" points=\"447.96,223,457.8973,240.6423,444.0761,242.8725,447.96,223\" style=\"stroke: #383838; stroke-width: 1.0;\"/><ellipse cx=\"456.8309\" cy=\"246.5881\" fill=\"#383838\" rx=\"2\" ry=\"2\" style=\"stroke: #383838; stroke-width: 1.0;\"/><ellipse cx=\"446.9586\" cy=\"248.1811\" fill=\"#383838\" rx=\"2\" ry=\"2\" style=\"stroke: #383838; stroke-width: 1.0;\"/></a><!--MD5=[4e1a83fab71cdb913c109063314ae896]\n",
       "reverse link E2 to E5--><a href=\"psysml:0faf658f-4e02-48cd-849b-e0220b5d7629\" target=\"_top\" title=\"psysml:0faf658f-4e02-48cd-849b-e0220b5d7629\" xlink:actuate=\"onRequest\" xlink:href=\"psysml:0faf658f-4e02-48cd-849b-e0220b5d7629\" xlink:show=\"new\" xlink:title=\"psysml:0faf658f-4e02-48cd-849b-e0220b5d7629\" xlink:type=\"simple\"><path d=\"M499.85,227.17 C531.12,245.87 566.86,267.24 592.97,282.85 \" fill=\"none\" id=\"E2&lt;-E5\" style=\"stroke: #383838; stroke-width: 1.0;\"/><polygon fill=\"#383838\" points=\"488.56,220.42,491.6568,226.9323,498.8592,226.5784,495.7624,220.0661,488.56,220.42\" style=\"stroke: #383838; stroke-width: 1.0;\"/></a><!--MD5=[ce036f65110ae2351ccce5a81dc2e928]\n",
       "reverse link E2 to E6--><a href=\"psysml:3f965610-dfca-4051-a1f3-35306b55574a\" target=\"_top\" title=\"psysml:3f965610-dfca-4051-a1f3-35306b55574a\" xlink:actuate=\"onRequest\" xlink:href=\"psysml:3f965610-dfca-4051-a1f3-35306b55574a\" xlink:show=\"new\" xlink:title=\"psysml:3f965610-dfca-4051-a1f3-35306b55574a\" xlink:type=\"simple\"><path d=\"M501.02,217.55 C506.06,219.49 511.08,221.33 516,223 C528.19,227.15 677.82,264.14 770.71,287 \" fill=\"none\" id=\"E2&lt;-E6\" style=\"stroke: #383838; stroke-width: 1.0;\"/><polygon fill=\"#383838\" points=\"488.57,212.58,492.6577,218.5206,499.7135,217.0321,495.6258,211.0916,488.57,212.58\" style=\"stroke: #383838; stroke-width: 1.0;\"/></a><!--MD5=[3a9b96bfbf6b6ad89c494e81751bda47]\n",
       "link E5 to E7--><a href=\"psysml:5b4e0f94-bd6c-4a04-8036-e6bb7f85be93\" target=\"_top\" title=\"psysml:5b4e0f94-bd6c-4a04-8036-e6bb7f85be93\" xlink:actuate=\"onRequest\" xlink:href=\"psysml:5b4e0f94-bd6c-4a04-8036-e6bb7f85be93\" xlink:show=\"new\" xlink:title=\"psysml:5b4e0f94-bd6c-4a04-8036-e6bb7f85be93\" xlink:type=\"simple\"><path d=\"M630,329.06 C630,340.64 630,355.23 630,368.87 \" fill=\"none\" id=\"E5-&gt;E7\" style=\"stroke: #383838; stroke-width: 1.0;\"/><polygon fill=\"#FFFFFF\" points=\"630,388.98,623,369.98,637,369.98,630,388.98\" style=\"stroke: #383838; stroke-width: 1.0;\"/><ellipse cx=\"625\" cy=\"364.28\" fill=\"#383838\" rx=\"2\" ry=\"2\" style=\"stroke: #383838; stroke-width: 1.0;\"/><ellipse cx=\"635\" cy=\"364.28\" fill=\"#383838\" rx=\"2\" ry=\"2\" style=\"stroke: #383838; stroke-width: 1.0;\"/></a><!--MD5=[dc164f5e8a733ab456ef1add180e9e34]\n",
       "reverse link E7 to E8--><a href=\"psysml:37f490ca-8c9f-44ef-b281-38d91f32f2bf\" target=\"_top\" title=\"psysml:37f490ca-8c9f-44ef-b281-38d91f32f2bf\" xlink:actuate=\"onRequest\" xlink:href=\"psysml:37f490ca-8c9f-44ef-b281-38d91f32f2bf\" xlink:show=\"new\" xlink:title=\"psysml:37f490ca-8c9f-44ef-b281-38d91f32f2bf\" xlink:type=\"simple\"><path d=\"M601.55,445.16 C587.25,461.33 570.28,480.51 557.48,494.98 \" fill=\"none\" id=\"E7&lt;-E8\" style=\"stroke: #383838; stroke-width: 1.0;\"/><polygon fill=\"#383838\" points=\"610.49,435.06,603.5177,436.9004,602.5348,444.0442,609.5071,442.2038,610.49,435.06\" style=\"stroke: #383838; stroke-width: 1.0;\"/></a><!--MD5=[e4a10ef82d0e328e31cac39a31e58dda]\n",
       "reverse link E7 to E9--><a href=\"psysml:c791e7ed-713f-4106-b9d5-0dfb97ea4543\" target=\"_top\" title=\"psysml:c791e7ed-713f-4106-b9d5-0dfb97ea4543\" xlink:actuate=\"onRequest\" xlink:href=\"psysml:c791e7ed-713f-4106-b9d5-0dfb97ea4543\" xlink:show=\"new\" xlink:title=\"psysml:c791e7ed-713f-4106-b9d5-0dfb97ea4543\" xlink:type=\"simple\"><path d=\"M658.14,445.16 C672.29,461.33 689.07,480.51 701.73,494.98 \" fill=\"none\" id=\"E7&lt;-E9\" style=\"stroke: #383838; stroke-width: 1.0;\"/><polygon fill=\"#383838\" points=\"649.3,435.06,650.2496,442.2083,657.2133,444.0811,656.2637,436.9328,649.3,435.06\" style=\"stroke: #383838; stroke-width: 1.0;\"/></a><!--MD5=[a919e0967d6f3de553dc51b9865a1d6d]\n",
       "link E10 to E7--><a href=\"psysml:d7bf13fe-2343-4091-93b6-ccc05bfccd1c\" target=\"_top\" title=\"psysml:d7bf13fe-2343-4091-93b6-ccc05bfccd1c\" xlink:actuate=\"onRequest\" xlink:href=\"psysml:d7bf13fe-2343-4091-93b6-ccc05bfccd1c\" xlink:show=\"new\" xlink:title=\"psysml:d7bf13fe-2343-4091-93b6-ccc05bfccd1c\" xlink:type=\"simple\"><path d=\"M564.36,87.23 C542.92,120.68 510.65,184.15 544,223 C658.5,356.41 820.5,149.59 935,283 C997.3,355.58 849.41,387.9 738.47,401.63 \" fill=\"none\" id=\"E10-&gt;E7\" style=\"stroke: #383838; stroke-width: 1.0;\"/><polygon fill=\"#FFFFFF\" points=\"718.6,403.94,736.6627,394.7891,738.2822,408.6951,718.6,403.94\" style=\"stroke: #383838; stroke-width: 1.0;\"/><ellipse cx=\"742.5558\" cy=\"396.1162\" fill=\"#383838\" rx=\"2\" ry=\"2\" style=\"stroke: #383838; stroke-width: 1.0;\"/><ellipse cx=\"743.7126\" cy=\"406.0491\" fill=\"#383838\" rx=\"2\" ry=\"2\" style=\"stroke: #383838; stroke-width: 1.0;\"/></a><!--MD5=[0f36bececdf0dff6e600d6f64214b0f1]\n",
       "link E10 to E2--><a href=\"psysml:65e23dda-2765-4b86-8b8c-165f4272381c\" target=\"_top\" title=\"psysml:65e23dda-2765-4b86-8b8c-165f4272381c\" xlink:actuate=\"onRequest\" xlink:href=\"psysml:65e23dda-2765-4b86-8b8c-165f4272381c\" xlink:show=\"new\" xlink:title=\"psysml:65e23dda-2765-4b86-8b8c-165f4272381c\" xlink:type=\"simple\"><path d=\"M552.32,87.1 C535.71,100.38 513.86,117.82 493.29,134.25 \" fill=\"none\" id=\"E10-&gt;E2\" style=\"stroke: #383838; stroke-width: 1.0;\"/><polygon fill=\"#FFFFFF\" points=\"477.56,146.81,488.0352,129.4817,496.7737,140.4197,477.56,146.81\" style=\"stroke: #383838; stroke-width: 1.0;\"/><ellipse cx=\"493.7369\" cy=\"127.4865\" fill=\"#383838\" rx=\"2\" ry=\"2\" style=\"stroke: #383838; stroke-width: 1.0;\"/><ellipse cx=\"499.9786\" cy=\"135.2994\" fill=\"#383838\" rx=\"2\" ry=\"2\" style=\"stroke: #383838; stroke-width: 1.0;\"/></a><!--MD5=[de308be4a2431766a05a907a031c07fc]\n",
       "reverse link E10 to E11--><a href=\"psysml:996a22eb-9701-44d5-9cb6-35ae83d4d1b1\" target=\"_top\" title=\"psysml:996a22eb-9701-44d5-9cb6-35ae83d4d1b1\" xlink:actuate=\"onRequest\" xlink:href=\"psysml:996a22eb-9701-44d5-9cb6-35ae83d4d1b1\" xlink:show=\"new\" xlink:title=\"psysml:996a22eb-9701-44d5-9cb6-35ae83d4d1b1\" xlink:type=\"simple\"><path d=\"M595.95,98.9 C605.42,119.01 617.15,143.94 625.46,161.61 \" fill=\"none\" id=\"E10&lt;-E11\" style=\"stroke: #383838; stroke-width: 1.0;\"/><polygon fill=\"#383838\" points=\"590.4,87.1,589.3334,94.2318,595.5064,97.9593,596.573,90.8275,590.4,87.1\" style=\"stroke: #383838; stroke-width: 1.0;\"/></a><!--MD5=[1d54f998c6d5961a1a9184be73a7eb6c]\n",
       "reverse link E10 to E12--><a href=\"psysml:da3311a8-2759-47ea-b229-fd34ee887055\" target=\"_top\" title=\"psysml:da3311a8-2759-47ea-b229-fd34ee887055\" xlink:actuate=\"onRequest\" xlink:href=\"psysml:da3311a8-2759-47ea-b229-fd34ee887055\" xlink:show=\"new\" xlink:title=\"psysml:da3311a8-2759-47ea-b229-fd34ee887055\" xlink:type=\"simple\"><path d=\"M642.21,92.42 C689.99,113.48 755.13,142.19 799.66,161.81 \" fill=\"none\" id=\"E10&lt;-E12\" style=\"stroke: #383838; stroke-width: 1.0;\"/><polygon fill=\"#383838\" points=\"630.15,87.1,634.028,93.1796,641.1314,91.9382,637.2534,85.8586,630.15,87.1\" style=\"stroke: #383838; stroke-width: 1.0;\"/></a><!--MD5=[4a48077df6499cfcd20b62e8f5f37904]\n",
       "link E13 to E7--><a href=\"psysml:fb78d99f-0705-4d43-aabd-2eaf1ce47389\" target=\"_top\" title=\"psysml:fb78d99f-0705-4d43-aabd-2eaf1ce47389\" xlink:actuate=\"onRequest\" xlink:href=\"psysml:fb78d99f-0705-4d43-aabd-2eaf1ce47389\" xlink:show=\"new\" xlink:title=\"psysml:fb78d99f-0705-4d43-aabd-2eaf1ce47389\" xlink:type=\"simple\"><path d=\"M242.34,329.06 C324.51,346.43 438.67,370.56 521.82,388.13 \" fill=\"none\" id=\"E13-&gt;E7\" style=\"stroke: #383838; stroke-width: 1.0;\"/><polygon fill=\"#FFFFFF\" points=\"541.45,392.28,521.4143,395.2075,524.304,381.509,541.45,392.28\" style=\"stroke: #383838; stroke-width: 1.0;\"/><ellipse cx=\"516.2498\" cy=\"392.0741\" fill=\"#383838\" rx=\"2\" ry=\"2\" style=\"stroke: #383838; stroke-width: 1.0;\"/><ellipse cx=\"518.3139\" cy=\"382.2894\" fill=\"#383838\" rx=\"2\" ry=\"2\" style=\"stroke: #383838; stroke-width: 1.0;\"/></a><!--MD5=[da09bf1ab466174fdc951e45926f74eb]\n",
       "@startuml\r\n",
       "top to bottom direction\r\n",
       "skinparam monochrome true\r\n",
       "skinparam classbackgroundcolor white\r\n",
       "skinparam shadowing false\r\n",
       "skinparam wrapWidth 300\r\n",
       "hide circle\r\n",
       "\r\n",
       "package \"OccurrenceTest\" as E1  [[psysml:76f03fcf-c31b-4704-ae9e-b44a23fd6ebe ]]  {\r\n",
       "comp def \"Occ\" as E2  <<(T,blue) occurrence  def>> [[psysml:eaa0b96d-7da2-44a7-b980-6b6f36747918 ]] {\r\n",
       "- - attributes - -\r\n",
       "a\r\n",
       "}\r\n",
       "comp usage \"occ1: Occ \" as E3  <<(T,blue) occurrence>> [[psysml:87fca259-1c14-4b5b-983e-37895f6ff77b ]] {\r\n",
       "}\r\n",
       "comp usage \"occ2: Occ \" as E4  <<(T,blue) occurrence>> [[psysml:ffd2f288-180d-4271-8880-cf9706207ba2 ]] {\r\n",
       "}\r\n",
       "comp usage \"s: Ind \" as E5  <<(T,blue) individual snapshot occurrence>> [[psysml:4e1769cc-a186-417e-91f0-587d1f1196e7 ]] {\r\n",
       "}\r\n",
       "comp usage \"t \" as E6  <<(T,blue) timeslice occurrence>> [[psysml:9c61ac47-8b4e-45e2-802a-f3aa096140c4 ]] {\r\n",
       "}\r\n",
       "comp def \"Ind\" as E7  <<(T,blue) individual occurrence  def>> [[psysml:54e4af67-f268-48a3-80b8-bc1579f32c01 ]] {\r\n",
       "}\r\n",
       "comp usage \"s2 \" as E8  <<(T,blue) snapshot occurrence>> [[psysml:bfc31472-e77d-4111-949c-57e124b09868 ]] {\r\n",
       "}\r\n",
       "comp usage \"t2 \" as E9  <<(T,blue) timeslice occurrence>> [[psysml:25521b86-d75d-41e6-9d0e-592064bc2653 ]] {\r\n",
       "}\r\n",
       "comp usage \"ind: Ind, Occ \" as E10  <<(T,blue) individual occurrence>> [[psysml:ec83ca81-a881-4da3-97a0-46e2b6aae84c ]] {\r\n",
       "}\r\n",
       "comp usage \"s3 \" as E11  <<(T,blue) snapshot occurrence>> [[psysml:fe74329f-5d2b-4ebe-b106-a7ecca7a6fbd ]] {\r\n",
       "}\r\n",
       "comp usage \"t3 \" as E12  <<(T,blue) individual timeslice occurrence>> [[psysml:6925098a-d5ed-431f-aaf1-d453853f914b ]] {\r\n",
       "}\r\n",
       "comp usage \"s4: Ind \" as E13  <<(T,blue) individual snapshot occurrence>> [[psysml:4e4d3416-6ae1-42d7-bc86-2084c913e314 ]] {\r\n",
       "}\r\n",
       "}\r\n",
       "E2 o- - E3 [[psysml:62ea934f-12d4-42a0-b786-a1086ef654f4 ]] \r\n",
       "E3 - -:|> E2 [[psysml:72edb9ed-f456-4be1-846b-a7c4b7fb6ef3 ]] \r\n",
       "E2 *- - E4 [[psysml:1930a264-e184-4aca-ae40-6206f5d09a7f ]] \r\n",
       "E4 - -:|> E2 [[psysml:32367fe5-1bb2-4952-a335-a8970d1d9f84 ]] \r\n",
       "E2 *- - E5 [[psysml:0faf658f-4e02-48cd-849b-e0220b5d7629 ]] \r\n",
       "E2 *- - E6 [[psysml:3f965610-dfca-4051-a1f3-35306b55574a ]] \r\n",
       "E5 - -:|> E7 [[psysml:5b4e0f94-bd6c-4a04-8036-e6bb7f85be93 ]] \r\n",
       "E7 *- - E8 [[psysml:37f490ca-8c9f-44ef-b281-38d91f32f2bf ]] \r\n",
       "E7 *- - E9 [[psysml:c791e7ed-713f-4106-b9d5-0dfb97ea4543 ]] \r\n",
       "E10 - -:|> E7 [[psysml:d7bf13fe-2343-4091-93b6-ccc05bfccd1c ]] \r\n",
       "E10 - -:|> E2 [[psysml:65e23dda-2765-4b86-8b8c-165f4272381c ]] \r\n",
       "E10 *- - E11 [[psysml:996a22eb-9701-44d5-9cb6-35ae83d4d1b1 ]] \r\n",
       "E10 *- - E12 [[psysml:da3311a8-2759-47ea-b229-fd34ee887055 ]] \r\n",
       "E13 - -:|> E7 [[psysml:fb78d99f-0705-4d43-aabd-2eaf1ce47389 ]] \r\n",
       "@enduml\r\n",
       "\n",
       "PlantUML version 1.2020.13(Sat Jun 13 12:26:38 UTC 2020)\n",
       "(EPL source distribution)\n",
       "Java Runtime: OpenJDK Runtime Environment\n",
       "JVM: OpenJDK 64-Bit Server VM\n",
       "Default Encoding: UTF-8\n",
       "Language: en\n",
       "Country: null\n",
       "--></g></svg>"
      ]
     },
     "execution_count": 50,
     "metadata": {},
     "output_type": "execute_result"
    }
   ],
   "source": [
    "%viz --style=\"TB\" --view=\"MIXED\" \"OccurrenceTest\""
   ]
  },
  {
   "cell_type": "code",
   "execution_count": 51,
   "id": "46912de6",
   "metadata": {
    "execution": {
     "iopub.execute_input": "2022-02-18T10:48:40.044240Z",
     "iopub.status.busy": "2022-02-18T10:48:40.043907Z",
     "iopub.status.idle": "2022-02-18T10:48:40.097312Z",
     "shell.execute_reply": "2022-02-18T10:48:40.096445Z"
    }
   },
   "outputs": [
    {
     "data": {
      "image/svg+xml": [
       "<?xml version=\"1.0\" encoding=\"UTF-8\" standalone=\"no\"?><svg xmlns=\"http://www.w3.org/2000/svg\" xmlns:xlink=\"http://www.w3.org/1999/xlink\" contentScriptType=\"application/ecmascript\" contentStyleType=\"text/css\" height=\"569px\" preserveAspectRatio=\"none\" style=\"width:992px;height:569px;\" version=\"1.1\" viewBox=\"0 0 992 569\" width=\"992px\" zoomAndPan=\"magnify\"><defs/><g><!--MD5=[fbc87193dbaf4d95561dea2c320d4a47]\n",
       "cluster E1--><a href=\"psysml:76f03fcf-c31b-4704-ae9e-b44a23fd6ebe\" target=\"_top\" title=\"psysml:76f03fcf-c31b-4704-ae9e-b44a23fd6ebe\" xlink:actuate=\"onRequest\" xlink:href=\"psysml:76f03fcf-c31b-4704-ae9e-b44a23fd6ebe\" xlink:show=\"new\" xlink:title=\"psysml:76f03fcf-c31b-4704-ae9e-b44a23fd6ebe\" xlink:type=\"simple\"><polygon fill=\"#FFFFFF\" points=\"16,6,134,6,141,28.2969,970,28.2969,970,557,16,557,16,6\" style=\"stroke: #000000; stroke-width: 1.5;\"/><line style=\"stroke: #000000; stroke-width: 1.5;\" x1=\"16\" x2=\"141\" y1=\"28.2969\" y2=\"28.2969\"/><text fill=\"#000000\" font-family=\"sans-serif\" font-size=\"14\" font-weight=\"bold\" lengthAdjust=\"spacingAndGlyphs\" textLength=\"112\" x=\"20\" y=\"20.9951\">OccurrenceTest</text></a><!--MD5=[b4997ac47864f28c2f74865a473b2911]\n",
       "class E2--><a href=\"psysml:eaa0b96d-7da2-44a7-b980-6b6f36747918\" target=\"_top\" title=\"psysml:eaa0b96d-7da2-44a7-b980-6b6f36747918\" xlink:actuate=\"onRequest\" xlink:href=\"psysml:eaa0b96d-7da2-44a7-b980-6b6f36747918\" xlink:show=\"new\" xlink:title=\"psysml:eaa0b96d-7da2-44a7-b980-6b6f36747918\" xlink:type=\"simple\"><rect fill=\"#FFFFFF\" height=\"75.5469\" id=\"E2\" style=\"stroke: #383838; stroke-width: 1.5;\" width=\"115\" x=\"373.5\" y=\"147\"/><text fill=\"#000000\" font-family=\"sans-serif\" font-size=\"12\" font-style=\"italic\" lengthAdjust=\"spacingAndGlyphs\" textLength=\"113\" x=\"374.5\" y=\"163.1387\">«occurrence  def»</text><text fill=\"#000000\" font-family=\"sans-serif\" font-size=\"12\" lengthAdjust=\"spacingAndGlyphs\" textLength=\"23\" x=\"419.5\" y=\"177.1074\">Occ</text><line style=\"stroke: #383838; stroke-width: 1.5;\" x1=\"374.5\" x2=\"487.5\" y1=\"184.9375\" y2=\"184.9375\"/><text fill=\"#000000\" font-family=\"sans-serif\" font-size=\"11\" lengthAdjust=\"spacingAndGlyphs\" textLength=\"7\" x=\"379.5\" y=\"215.9526\">a</text><line style=\"stroke: #383838; stroke-width: 1.0;\" x1=\"374.5\" x2=\"403.5\" y1=\"199.3398\" y2=\"199.3398\"/><text fill=\"#000000\" font-family=\"sans-serif\" font-size=\"11\" lengthAdjust=\"spacingAndGlyphs\" textLength=\"55\" x=\"403.5\" y=\"202.6479\">attributes</text><line style=\"stroke: #383838; stroke-width: 1.0;\" x1=\"458.5\" x2=\"487.5\" y1=\"199.3398\" y2=\"199.3398\"/></a><!--MD5=[09b614a08d8cba4a07c9adeb5e0fee81]\n",
       "class E3--><a href=\"psysml:87fca259-1c14-4b5b-983e-37895f6ff77b\" target=\"_top\" title=\"psysml:87fca259-1c14-4b5b-983e-37895f6ff77b\" xlink:actuate=\"onRequest\" xlink:href=\"psysml:87fca259-1c14-4b5b-983e-37895f6ff77b\" xlink:show=\"new\" xlink:title=\"psysml:87fca259-1c14-4b5b-983e-37895f6ff77b\" xlink:type=\"simple\"><rect fill=\"#FFFFFF\" height=\"45.9375\" id=\"E3\" rx=\"10\" ry=\"10\" style=\"stroke: #383838; stroke-width: 1.5;\" width=\"87\" x=\"279.5\" y=\"283\"/><text fill=\"#000000\" font-family=\"sans-serif\" font-size=\"12\" font-style=\"italic\" lengthAdjust=\"spacingAndGlyphs\" textLength=\"85\" x=\"280.5\" y=\"299.1387\">«occurrence»</text><text fill=\"#000000\" font-family=\"sans-serif\" font-size=\"12\" lengthAdjust=\"spacingAndGlyphs\" textLength=\"61\" x=\"290.5\" y=\"313.1074\">occ1: Occ</text><line style=\"stroke: #383838; stroke-width: 1.5;\" x1=\"280.5\" x2=\"365.5\" y1=\"320.9375\" y2=\"320.9375\"/></a><!--MD5=[ebbe1d658d1005bcc118a6aa81145e00]\n",
       "class E4--><a href=\"psysml:ffd2f288-180d-4271-8880-cf9706207ba2\" target=\"_top\" title=\"psysml:ffd2f288-180d-4271-8880-cf9706207ba2\" xlink:actuate=\"onRequest\" xlink:href=\"psysml:ffd2f288-180d-4271-8880-cf9706207ba2\" xlink:show=\"new\" xlink:title=\"psysml:ffd2f288-180d-4271-8880-cf9706207ba2\" xlink:type=\"simple\"><rect fill=\"#FFFFFF\" height=\"45.9375\" id=\"E4\" rx=\"10\" ry=\"10\" style=\"stroke: #383838; stroke-width: 1.5;\" width=\"87\" x=\"401.5\" y=\"283\"/><text fill=\"#000000\" font-family=\"sans-serif\" font-size=\"12\" font-style=\"italic\" lengthAdjust=\"spacingAndGlyphs\" textLength=\"85\" x=\"402.5\" y=\"299.1387\">«occurrence»</text><text fill=\"#000000\" font-family=\"sans-serif\" font-size=\"12\" lengthAdjust=\"spacingAndGlyphs\" textLength=\"61\" x=\"412.5\" y=\"313.1074\">occ2: Occ</text><line style=\"stroke: #383838; stroke-width: 1.5;\" x1=\"402.5\" x2=\"487.5\" y1=\"320.9375\" y2=\"320.9375\"/></a><!--MD5=[270fce915f116d4de14055a7c1d9a0f3]\n",
       "class E5--><a href=\"psysml:4e1769cc-a186-417e-91f0-587d1f1196e7\" target=\"_top\" title=\"psysml:4e1769cc-a186-417e-91f0-587d1f1196e7\" xlink:actuate=\"onRequest\" xlink:href=\"psysml:4e1769cc-a186-417e-91f0-587d1f1196e7\" xlink:show=\"new\" xlink:title=\"psysml:4e1769cc-a186-417e-91f0-587d1f1196e7\" xlink:type=\"simple\"><rect fill=\"#FFFFFF\" height=\"45.9375\" id=\"E5\" rx=\"10\" ry=\"10\" style=\"stroke: #383838; stroke-width: 1.5;\" width=\"212\" x=\"524\" y=\"283\"/><text fill=\"#000000\" font-family=\"sans-serif\" font-size=\"12\" font-style=\"italic\" lengthAdjust=\"spacingAndGlyphs\" textLength=\"210\" x=\"525\" y=\"299.1387\">«individual snapshot occurrence»</text><text fill=\"#000000\" font-family=\"sans-serif\" font-size=\"12\" lengthAdjust=\"spacingAndGlyphs\" textLength=\"34\" x=\"611\" y=\"313.1074\">s: Ind</text><line style=\"stroke: #383838; stroke-width: 1.5;\" x1=\"525\" x2=\"735\" y1=\"320.9375\" y2=\"320.9375\"/></a><!--MD5=[60a26617385b1d2d0262a64233df1f8d]\n",
       "class E6--><a href=\"psysml:9c61ac47-8b4e-45e2-802a-f3aa096140c4\" target=\"_top\" title=\"psysml:9c61ac47-8b4e-45e2-802a-f3aa096140c4\" xlink:actuate=\"onRequest\" xlink:href=\"psysml:9c61ac47-8b4e-45e2-802a-f3aa096140c4\" xlink:show=\"new\" xlink:title=\"psysml:9c61ac47-8b4e-45e2-802a-f3aa096140c4\" xlink:type=\"simple\"><rect fill=\"#FFFFFF\" height=\"45.9375\" id=\"E6\" rx=\"10\" ry=\"10\" style=\"stroke: #383838; stroke-width: 1.5;\" width=\"146\" x=\"771\" y=\"283\"/><text fill=\"#000000\" font-family=\"sans-serif\" font-size=\"12\" font-style=\"italic\" lengthAdjust=\"spacingAndGlyphs\" textLength=\"144\" x=\"772\" y=\"299.1387\">«timeslice occurrence»</text><text fill=\"#000000\" font-family=\"sans-serif\" font-size=\"12\" lengthAdjust=\"spacingAndGlyphs\" textLength=\"5\" x=\"839.5\" y=\"313.1074\">t</text><line style=\"stroke: #383838; stroke-width: 1.5;\" x1=\"772\" x2=\"916\" y1=\"320.9375\" y2=\"320.9375\"/></a><!--MD5=[2156ba9850f5573cc1fc38a6a4b2f02b]\n",
       "class E7--><a href=\"psysml:54e4af67-f268-48a3-80b8-bc1579f32c01\" target=\"_top\" title=\"psysml:54e4af67-f268-48a3-80b8-bc1579f32c01\" xlink:actuate=\"onRequest\" xlink:href=\"psysml:54e4af67-f268-48a3-80b8-bc1579f32c01\" xlink:show=\"new\" xlink:title=\"psysml:54e4af67-f268-48a3-80b8-bc1579f32c01\" xlink:type=\"simple\"><rect fill=\"#FFFFFF\" height=\"45.9375\" id=\"E7\" style=\"stroke: #383838; stroke-width: 1.5;\" width=\"177\" x=\"541.5\" y=\"389\"/><text fill=\"#000000\" font-family=\"sans-serif\" font-size=\"12\" font-style=\"italic\" lengthAdjust=\"spacingAndGlyphs\" textLength=\"175\" x=\"542.5\" y=\"405.1387\">«individual occurrence  def»</text><text fill=\"#000000\" font-family=\"sans-serif\" font-size=\"12\" lengthAdjust=\"spacingAndGlyphs\" textLength=\"19\" x=\"620.5\" y=\"419.1074\">Ind</text><line style=\"stroke: #383838; stroke-width: 1.5;\" x1=\"542.5\" x2=\"717.5\" y1=\"426.9375\" y2=\"426.9375\"/></a><!--MD5=[b9389687b975829384b498ac4b7476b2]\n",
       "class E8--><a href=\"psysml:bfc31472-e77d-4111-949c-57e124b09868\" target=\"_top\" title=\"psysml:bfc31472-e77d-4111-949c-57e124b09868\" xlink:actuate=\"onRequest\" xlink:href=\"psysml:bfc31472-e77d-4111-949c-57e124b09868\" xlink:show=\"new\" xlink:title=\"psysml:bfc31472-e77d-4111-949c-57e124b09868\" xlink:type=\"simple\"><rect fill=\"#FFFFFF\" height=\"45.9375\" id=\"E8\" rx=\"10\" ry=\"10\" style=\"stroke: #383838; stroke-width: 1.5;\" width=\"150\" x=\"463\" y=\"495\"/><text fill=\"#000000\" font-family=\"sans-serif\" font-size=\"12\" font-style=\"italic\" lengthAdjust=\"spacingAndGlyphs\" textLength=\"148\" x=\"464\" y=\"511.1387\">«snapshot occurrence»</text><text fill=\"#000000\" font-family=\"sans-serif\" font-size=\"12\" lengthAdjust=\"spacingAndGlyphs\" textLength=\"15\" x=\"528.5\" y=\"525.1074\">s2</text><line style=\"stroke: #383838; stroke-width: 1.5;\" x1=\"464\" x2=\"612\" y1=\"532.9375\" y2=\"532.9375\"/></a><!--MD5=[fd4143e9d270a159db93a4ea2a975926]\n",
       "class E9--><a href=\"psysml:25521b86-d75d-41e6-9d0e-592064bc2653\" target=\"_top\" title=\"psysml:25521b86-d75d-41e6-9d0e-592064bc2653\" xlink:actuate=\"onRequest\" xlink:href=\"psysml:25521b86-d75d-41e6-9d0e-592064bc2653\" xlink:show=\"new\" xlink:title=\"psysml:25521b86-d75d-41e6-9d0e-592064bc2653\" xlink:type=\"simple\"><rect fill=\"#FFFFFF\" height=\"45.9375\" id=\"E9\" rx=\"10\" ry=\"10\" style=\"stroke: #383838; stroke-width: 1.5;\" width=\"146\" x=\"648\" y=\"495\"/><text fill=\"#000000\" font-family=\"sans-serif\" font-size=\"12\" font-style=\"italic\" lengthAdjust=\"spacingAndGlyphs\" textLength=\"144\" x=\"649\" y=\"511.1387\">«timeslice occurrence»</text><text fill=\"#000000\" font-family=\"sans-serif\" font-size=\"12\" lengthAdjust=\"spacingAndGlyphs\" textLength=\"13\" x=\"712.5\" y=\"525.1074\">t2</text><line style=\"stroke: #383838; stroke-width: 1.5;\" x1=\"649\" x2=\"793\" y1=\"532.9375\" y2=\"532.9375\"/></a><!--MD5=[96f4274e9e20536e775497830990834d]\n",
       "class E10--><a href=\"psysml:ec83ca81-a881-4da3-97a0-46e2b6aae84c\" target=\"_top\" title=\"psysml:ec83ca81-a881-4da3-97a0-46e2b6aae84c\" xlink:actuate=\"onRequest\" xlink:href=\"psysml:ec83ca81-a881-4da3-97a0-46e2b6aae84c\" xlink:show=\"new\" xlink:title=\"psysml:ec83ca81-a881-4da3-97a0-46e2b6aae84c\" xlink:type=\"simple\"><rect fill=\"#FFFFFF\" height=\"45.9375\" id=\"E10\" rx=\"10\" ry=\"10\" style=\"stroke: #383838; stroke-width: 1.5;\" width=\"149\" x=\"505.5\" y=\"41\"/><text fill=\"#000000\" font-family=\"sans-serif\" font-size=\"12\" font-style=\"italic\" lengthAdjust=\"spacingAndGlyphs\" textLength=\"147\" x=\"506.5\" y=\"57.1387\">«individual occurrence»</text><text fill=\"#000000\" font-family=\"sans-serif\" font-size=\"12\" lengthAdjust=\"spacingAndGlyphs\" textLength=\"77\" x=\"539.5\" y=\"71.1074\">ind: Ind, Occ</text><line style=\"stroke: #383838; stroke-width: 1.5;\" x1=\"506.5\" x2=\"653.5\" y1=\"78.9375\" y2=\"78.9375\"/></a><!--MD5=[1dd1bfd58a279cf63c5f349dbc8fc6a1]\n",
       "class E11--><a href=\"psysml:fe74329f-5d2b-4ebe-b106-a7ecca7a6fbd\" target=\"_top\" title=\"psysml:fe74329f-5d2b-4ebe-b106-a7ecca7a6fbd\" xlink:actuate=\"onRequest\" xlink:href=\"psysml:fe74329f-5d2b-4ebe-b106-a7ecca7a6fbd\" xlink:show=\"new\" xlink:title=\"psysml:fe74329f-5d2b-4ebe-b106-a7ecca7a6fbd\" xlink:type=\"simple\"><rect fill=\"#FFFFFF\" height=\"45.9375\" id=\"E11\" rx=\"10\" ry=\"10\" style=\"stroke: #383838; stroke-width: 1.5;\" width=\"150\" x=\"561\" y=\"162\"/><text fill=\"#000000\" font-family=\"sans-serif\" font-size=\"12\" font-style=\"italic\" lengthAdjust=\"spacingAndGlyphs\" textLength=\"148\" x=\"562\" y=\"178.1387\">«snapshot occurrence»</text><text fill=\"#000000\" font-family=\"sans-serif\" font-size=\"12\" lengthAdjust=\"spacingAndGlyphs\" textLength=\"15\" x=\"626.5\" y=\"192.1074\">s3</text><line style=\"stroke: #383838; stroke-width: 1.5;\" x1=\"562\" x2=\"710\" y1=\"199.9375\" y2=\"199.9375\"/></a><!--MD5=[49a0ec8f00dab7302a31f22d0f0fe584]\n",
       "class E12--><a href=\"psysml:6925098a-d5ed-431f-aaf1-d453853f914b\" target=\"_top\" title=\"psysml:6925098a-d5ed-431f-aaf1-d453853f914b\" xlink:actuate=\"onRequest\" xlink:href=\"psysml:6925098a-d5ed-431f-aaf1-d453853f914b\" xlink:show=\"new\" xlink:title=\"psysml:6925098a-d5ed-431f-aaf1-d453853f914b\" xlink:type=\"simple\"><rect fill=\"#FFFFFF\" height=\"45.9375\" id=\"E12\" rx=\"10\" ry=\"10\" style=\"stroke: #383838; stroke-width: 1.5;\" width=\"208\" x=\"746\" y=\"162\"/><text fill=\"#000000\" font-family=\"sans-serif\" font-size=\"12\" font-style=\"italic\" lengthAdjust=\"spacingAndGlyphs\" textLength=\"206\" x=\"747\" y=\"178.1387\">«individual timeslice occurrence»</text><text fill=\"#000000\" font-family=\"sans-serif\" font-size=\"12\" lengthAdjust=\"spacingAndGlyphs\" textLength=\"13\" x=\"841.5\" y=\"192.1074\">t3</text><line style=\"stroke: #383838; stroke-width: 1.5;\" x1=\"747\" x2=\"953\" y1=\"199.9375\" y2=\"199.9375\"/></a><!--MD5=[ee3c913d1a06f366521f9ef512b67efe]\n",
       "class E13--><a href=\"psysml:4e4d3416-6ae1-42d7-bc86-2084c913e314\" target=\"_top\" title=\"psysml:4e4d3416-6ae1-42d7-bc86-2084c913e314\" xlink:actuate=\"onRequest\" xlink:href=\"psysml:4e4d3416-6ae1-42d7-bc86-2084c913e314\" xlink:show=\"new\" xlink:title=\"psysml:4e4d3416-6ae1-42d7-bc86-2084c913e314\" xlink:type=\"simple\"><rect fill=\"#FFFFFF\" height=\"45.9375\" id=\"E13\" rx=\"10\" ry=\"10\" style=\"stroke: #383838; stroke-width: 1.5;\" width=\"212\" x=\"32\" y=\"283\"/><text fill=\"#000000\" font-family=\"sans-serif\" font-size=\"12\" font-style=\"italic\" lengthAdjust=\"spacingAndGlyphs\" textLength=\"210\" x=\"33\" y=\"299.1387\">«individual snapshot occurrence»</text><text fill=\"#000000\" font-family=\"sans-serif\" font-size=\"12\" lengthAdjust=\"spacingAndGlyphs\" textLength=\"42\" x=\"115\" y=\"313.1074\">s4: Ind</text><line style=\"stroke: #383838; stroke-width: 1.5;\" x1=\"33\" x2=\"243\" y1=\"320.9375\" y2=\"320.9375\"/></a><!--MD5=[209b3feb70ccb6233bfe1053d122c12c]\n",
       "reverse link E2 to E3--><a href=\"psysml:62ea934f-12d4-42a0-b786-a1086ef654f4\" target=\"_top\" title=\"psysml:62ea934f-12d4-42a0-b786-a1086ef654f4\" xlink:actuate=\"onRequest\" xlink:href=\"psysml:62ea934f-12d4-42a0-b786-a1086ef654f4\" xlink:show=\"new\" xlink:title=\"psysml:62ea934f-12d4-42a0-b786-a1086ef654f4\" xlink:type=\"simple\"><path d=\"M382.83,236.28 C382.83,236.28 382.83,299 382.83,299 C382.83,299 375.92,299 366.8,299 \" fill=\"none\" id=\"E2&lt;-E3\" style=\"stroke: #383838; stroke-width: 1.0;\"/><polygon fill=\"#FFFFFF\" points=\"382.83,223.28,378.83,229.28,382.83,235.28,386.83,229.28,382.83,223.28\" style=\"stroke: #383838; stroke-width: 1.0;\"/></a><!--MD5=[05d275557350bfb9b23a4ef7222b4c39]\n",
       "link E3 to E2--><a href=\"psysml:72edb9ed-f456-4be1-846b-a7c4b7fb6ef3\" target=\"_top\" title=\"psysml:72edb9ed-f456-4be1-846b-a7c4b7fb6ef3\" xlink:actuate=\"onRequest\" xlink:href=\"psysml:72edb9ed-f456-4be1-846b-a7c4b7fb6ef3\" xlink:show=\"new\" xlink:title=\"psysml:72edb9ed-f456-4be1-846b-a7c4b7fb6ef3\" xlink:type=\"simple\"><path d=\"M366.8,314 C380.53,314 392.17,314 392.17,314 C392.17,314 392.17,243.01 392.17,243.01 \" fill=\"none\" id=\"E3-&gt;E2\" style=\"stroke: #383838; stroke-width: 1.0;\"/><polygon fill=\"#FFFFFF\" points=\"392.17,223.01,399.17,242.01,385.17,242.01,392.17,223.01\" style=\"stroke: #383838; stroke-width: 1.0;\"/><ellipse cx=\"397.17\" cy=\"247.71\" fill=\"#383838\" rx=\"2\" ry=\"2\" style=\"stroke: #383838; stroke-width: 1.0;\"/><ellipse cx=\"387.17\" cy=\"247.71\" fill=\"#383838\" rx=\"2\" ry=\"2\" style=\"stroke: #383838; stroke-width: 1.0;\"/></a><!--MD5=[9618e71518536f8baf3342ff6fdab317]\n",
       "reverse link E2 to E4--><a href=\"psysml:1930a264-e184-4aca-ae40-6206f5d09a7f\" target=\"_top\" title=\"psysml:1930a264-e184-4aca-ae40-6206f5d09a7f\" xlink:actuate=\"onRequest\" xlink:href=\"psysml:1930a264-e184-4aca-ae40-6206f5d09a7f\" xlink:show=\"new\" xlink:title=\"psysml:1930a264-e184-4aca-ae40-6206f5d09a7f\" xlink:type=\"simple\"><path d=\"M430.5,236.29 C430.5,236.29 430.5,282.74 430.5,282.74 \" fill=\"none\" id=\"E2&lt;-E4\" style=\"stroke: #383838; stroke-width: 1.0;\"/><polygon fill=\"#383838\" points=\"430.5,223.29,426.5,229.29,430.5,235.29,434.5,229.29,430.5,223.29\" style=\"stroke: #383838; stroke-width: 1.0;\"/></a><!--MD5=[185131fc0dcab0a4505a2ebe144e961b]\n",
       "link E4 to E2--><a href=\"psysml:32367fe5-1bb2-4952-a335-a8970d1d9f84\" target=\"_top\" title=\"psysml:32367fe5-1bb2-4952-a335-a8970d1d9f84\" xlink:actuate=\"onRequest\" xlink:href=\"psysml:32367fe5-1bb2-4952-a335-a8970d1d9f84\" xlink:show=\"new\" xlink:title=\"psysml:32367fe5-1bb2-4952-a335-a8970d1d9f84\" xlink:type=\"simple\"><path d=\"M459.5,282.96 C459.5,282.96 459.5,243.19 459.5,243.19 \" fill=\"none\" id=\"E4-&gt;E2\" style=\"stroke: #383838; stroke-width: 1.0;\"/><polygon fill=\"#FFFFFF\" points=\"459.5,223.19,466.5,242.19,452.5,242.19,459.5,223.19\" style=\"stroke: #383838; stroke-width: 1.0;\"/><ellipse cx=\"464.5\" cy=\"247.89\" fill=\"#383838\" rx=\"2\" ry=\"2\" style=\"stroke: #383838; stroke-width: 1.0;\"/><ellipse cx=\"454.5\" cy=\"247.89\" fill=\"#383838\" rx=\"2\" ry=\"2\" style=\"stroke: #383838; stroke-width: 1.0;\"/></a><!--MD5=[4e1a83fab71cdb913c109063314ae896]\n",
       "reverse link E2 to E5--><a href=\"psysml:0faf658f-4e02-48cd-849b-e0220b5d7629\" target=\"_top\" title=\"psysml:0faf658f-4e02-48cd-849b-e0220b5d7629\" xlink:actuate=\"onRequest\" xlink:href=\"psysml:0faf658f-4e02-48cd-849b-e0220b5d7629\" xlink:show=\"new\" xlink:title=\"psysml:0faf658f-4e02-48cd-849b-e0220b5d7629\" xlink:type=\"simple\"><path d=\"M501.71,218 C501.71,218 542.5,218 542.5,218 C542.5,218 542.5,256.81 542.5,282.88 \" fill=\"none\" id=\"E2&lt;-E5\" style=\"stroke: #383838; stroke-width: 1.0;\"/><polygon fill=\"#383838\" points=\"488.71,218,494.71,222,500.71,218,494.71,214,488.71,218\" style=\"stroke: #383838; stroke-width: 1.0;\"/></a><!--MD5=[ce036f65110ae2351ccce5a81dc2e928]\n",
       "reverse link E2 to E6--><a href=\"psysml:3f965610-dfca-4051-a1f3-35306b55574a\" target=\"_top\" title=\"psysml:3f965610-dfca-4051-a1f3-35306b55574a\" xlink:actuate=\"onRequest\" xlink:href=\"psysml:3f965610-dfca-4051-a1f3-35306b55574a\" xlink:show=\"new\" xlink:title=\"psysml:3f965610-dfca-4051-a1f3-35306b55574a\" xlink:type=\"simple\"><path d=\"M501.86,213 C501.86,213 844,213 844,213 C844,213 844,254.98 844,282.53 \" fill=\"none\" id=\"E2&lt;-E6\" style=\"stroke: #383838; stroke-width: 1.0;\"/><polygon fill=\"#383838\" points=\"488.86,213,494.86,217,500.86,213,494.86,209,488.86,213\" style=\"stroke: #383838; stroke-width: 1.0;\"/></a><!--MD5=[3a9b96bfbf6b6ad89c494e81751bda47]\n",
       "link E5 to E7--><a href=\"psysml:5b4e0f94-bd6c-4a04-8036-e6bb7f85be93\" target=\"_top\" title=\"psysml:5b4e0f94-bd6c-4a04-8036-e6bb7f85be93\" xlink:actuate=\"onRequest\" xlink:href=\"psysml:5b4e0f94-bd6c-4a04-8036-e6bb7f85be93\" xlink:show=\"new\" xlink:title=\"psysml:5b4e0f94-bd6c-4a04-8036-e6bb7f85be93\" xlink:type=\"simple\"><path d=\"M630,329 C630,329 630,368.68 630,368.68 \" fill=\"none\" id=\"E5-&gt;E7\" style=\"stroke: #383838; stroke-width: 1.0;\"/><polygon fill=\"#FFFFFF\" points=\"630,388.68,623,369.68,637,369.68,630,388.68\" style=\"stroke: #383838; stroke-width: 1.0;\"/><ellipse cx=\"625\" cy=\"363.98\" fill=\"#383838\" rx=\"2\" ry=\"2\" style=\"stroke: #383838; stroke-width: 1.0;\"/><ellipse cx=\"635\" cy=\"363.98\" fill=\"#383838\" rx=\"2\" ry=\"2\" style=\"stroke: #383838; stroke-width: 1.0;\"/></a><!--MD5=[dc164f5e8a733ab456ef1add180e9e34]\n",
       "reverse link E7 to E8--><a href=\"psysml:37f490ca-8c9f-44ef-b281-38d91f32f2bf\" target=\"_top\" title=\"psysml:37f490ca-8c9f-44ef-b281-38d91f32f2bf\" xlink:actuate=\"onRequest\" xlink:href=\"psysml:37f490ca-8c9f-44ef-b281-38d91f32f2bf\" xlink:show=\"new\" xlink:title=\"psysml:37f490ca-8c9f-44ef-b281-38d91f32f2bf\" xlink:type=\"simple\"><path d=\"M577.25,448 C577.25,448 577.25,494.68 577.25,494.68 \" fill=\"none\" id=\"E7&lt;-E8\" style=\"stroke: #383838; stroke-width: 1.0;\"/><polygon fill=\"#383838\" points=\"577.25,435,573.25,441,577.25,447,581.25,441,577.25,435\" style=\"stroke: #383838; stroke-width: 1.0;\"/></a><!--MD5=[e4a10ef82d0e328e31cac39a31e58dda]\n",
       "reverse link E7 to E9--><a href=\"psysml:c791e7ed-713f-4106-b9d5-0dfb97ea4543\" target=\"_top\" title=\"psysml:c791e7ed-713f-4106-b9d5-0dfb97ea4543\" xlink:actuate=\"onRequest\" xlink:href=\"psysml:c791e7ed-713f-4106-b9d5-0dfb97ea4543\" xlink:show=\"new\" xlink:title=\"psysml:c791e7ed-713f-4106-b9d5-0dfb97ea4543\" xlink:type=\"simple\"><path d=\"M683.25,448 C683.25,448 683.25,494.68 683.25,494.68 \" fill=\"none\" id=\"E7&lt;-E9\" style=\"stroke: #383838; stroke-width: 1.0;\"/><polygon fill=\"#383838\" points=\"683.25,435,679.25,441,683.25,447,687.25,441,683.25,435\" style=\"stroke: #383838; stroke-width: 1.0;\"/></a><!--MD5=[a919e0967d6f3de553dc51b9865a1d6d]\n",
       "link E10 to E7--><a href=\"psysml:d7bf13fe-2343-4091-93b6-ccc05bfccd1c\" target=\"_top\" title=\"psysml:d7bf13fe-2343-4091-93b6-ccc05bfccd1c\" xlink:actuate=\"onRequest\" xlink:href=\"psysml:d7bf13fe-2343-4091-93b6-ccc05bfccd1c\" xlink:show=\"new\" xlink:title=\"psysml:d7bf13fe-2343-4091-93b6-ccc05bfccd1c\" xlink:type=\"simple\"><path d=\"M517.83,87.17 C517.83,163.92 517.83,405 517.83,405 C517.83,405 521.35,405 521.35,405 \" fill=\"none\" id=\"E10-&gt;E7\" style=\"stroke: #383838; stroke-width: 1.0;\"/><polygon fill=\"#FFFFFF\" points=\"541.35,405,522.35,412,522.35,398,541.35,405\" style=\"stroke: #383838; stroke-width: 1.0;\"/><ellipse cx=\"516.65\" cy=\"410\" fill=\"#383838\" rx=\"2\" ry=\"2\" style=\"stroke: #383838; stroke-width: 1.0;\"/><ellipse cx=\"516.65\" cy=\"400\" fill=\"#383838\" rx=\"2\" ry=\"2\" style=\"stroke: #383838; stroke-width: 1.0;\"/></a><!--MD5=[0f36bececdf0dff6e600d6f64214b0f1]\n",
       "link E10 to E2--><a href=\"psysml:65e23dda-2765-4b86-8b8c-165f4272381c\" target=\"_top\" title=\"psysml:65e23dda-2765-4b86-8b8c-165f4272381c\" xlink:actuate=\"onRequest\" xlink:href=\"psysml:65e23dda-2765-4b86-8b8c-165f4272381c\" xlink:show=\"new\" xlink:title=\"psysml:65e23dda-2765-4b86-8b8c-165f4272381c\" xlink:type=\"simple\"><path d=\"M511.67,87.43 C511.67,114.4 511.67,155 511.67,155 C511.67,155 508.77,155 508.77,155 \" fill=\"none\" id=\"E10-&gt;E2\" style=\"stroke: #383838; stroke-width: 1.0;\"/><polygon fill=\"#FFFFFF\" points=\"488.77,155,507.77,148,507.77,162,488.77,155\" style=\"stroke: #383838; stroke-width: 1.0;\"/><ellipse cx=\"513.47\" cy=\"150\" fill=\"#383838\" rx=\"2\" ry=\"2\" style=\"stroke: #383838; stroke-width: 1.0;\"/><ellipse cx=\"513.47\" cy=\"160\" fill=\"#383838\" rx=\"2\" ry=\"2\" style=\"stroke: #383838; stroke-width: 1.0;\"/></a><!--MD5=[de308be4a2431766a05a907a031c07fc]\n",
       "reverse link E10 to E11--><a href=\"psysml:996a22eb-9701-44d5-9cb6-35ae83d4d1b1\" target=\"_top\" title=\"psysml:996a22eb-9701-44d5-9cb6-35ae83d4d1b1\" xlink:actuate=\"onRequest\" xlink:href=\"psysml:996a22eb-9701-44d5-9cb6-35ae83d4d1b1\" xlink:show=\"new\" xlink:title=\"psysml:996a22eb-9701-44d5-9cb6-35ae83d4d1b1\" xlink:type=\"simple\"><path d=\"M607.75,100.04 C607.75,100.04 607.75,161.63 607.75,161.63 \" fill=\"none\" id=\"E10&lt;-E11\" style=\"stroke: #383838; stroke-width: 1.0;\"/><polygon fill=\"#383838\" points=\"607.75,87.04,603.75,93.04,607.75,99.04,611.75,93.04,607.75,87.04\" style=\"stroke: #383838; stroke-width: 1.0;\"/></a><!--MD5=[1d54f998c6d5961a1a9184be73a7eb6c]\n",
       "reverse link E10 to E12--><a href=\"psysml:da3311a8-2759-47ea-b229-fd34ee887055\" target=\"_top\" title=\"psysml:da3311a8-2759-47ea-b229-fd34ee887055\" xlink:actuate=\"onRequest\" xlink:href=\"psysml:da3311a8-2759-47ea-b229-fd34ee887055\" xlink:show=\"new\" xlink:title=\"psysml:da3311a8-2759-47ea-b229-fd34ee887055\" xlink:type=\"simple\"><path d=\"M667.85,64 C667.85,64 850,64 850,64 C850,64 850,126.85 850,161.96 \" fill=\"none\" id=\"E10&lt;-E12\" style=\"stroke: #383838; stroke-width: 1.0;\"/><polygon fill=\"#383838\" points=\"654.85,64,660.85,68,666.85,64,660.85,60,654.85,64\" style=\"stroke: #383838; stroke-width: 1.0;\"/></a><!--MD5=[4a48077df6499cfcd20b62e8f5f37904]\n",
       "link E13 to E7--><a href=\"psysml:fb78d99f-0705-4d43-aabd-2eaf1ce47389\" target=\"_top\" title=\"psysml:fb78d99f-0705-4d43-aabd-2eaf1ce47389\" xlink:actuate=\"onRequest\" xlink:href=\"psysml:fb78d99f-0705-4d43-aabd-2eaf1ce47389\" xlink:show=\"new\" xlink:title=\"psysml:fb78d99f-0705-4d43-aabd-2eaf1ce47389\" xlink:type=\"simple\"><path d=\"M138,329.07 C138,362.38 138,420 138,420 C138,420 521.47,420 521.47,420 \" fill=\"none\" id=\"E13-&gt;E7\" style=\"stroke: #383838; stroke-width: 1.0;\"/><polygon fill=\"#FFFFFF\" points=\"541.47,420,522.47,427,522.47,413,541.47,420\" style=\"stroke: #383838; stroke-width: 1.0;\"/><ellipse cx=\"516.77\" cy=\"425\" fill=\"#383838\" rx=\"2\" ry=\"2\" style=\"stroke: #383838; stroke-width: 1.0;\"/><ellipse cx=\"516.77\" cy=\"415\" fill=\"#383838\" rx=\"2\" ry=\"2\" style=\"stroke: #383838; stroke-width: 1.0;\"/></a><!--MD5=[afcf232a9542ce390ab2a0918fb98b6e]\n",
       "@startuml\r\n",
       "skinparam linetype ortho\r\n",
       "skinparam monochrome true\r\n",
       "skinparam classbackgroundcolor white\r\n",
       "skinparam shadowing false\r\n",
       "skinparam wrapWidth 300\r\n",
       "hide circle\r\n",
       "\r\n",
       "package \"OccurrenceTest\" as E1  [[psysml:76f03fcf-c31b-4704-ae9e-b44a23fd6ebe ]]  {\r\n",
       "comp def \"Occ\" as E2  <<(T,blue) occurrence  def>> [[psysml:eaa0b96d-7da2-44a7-b980-6b6f36747918 ]] {\r\n",
       "- - attributes - -\r\n",
       "a\r\n",
       "}\r\n",
       "comp usage \"occ1: Occ \" as E3  <<(T,blue) occurrence>> [[psysml:87fca259-1c14-4b5b-983e-37895f6ff77b ]] {\r\n",
       "}\r\n",
       "comp usage \"occ2: Occ \" as E4  <<(T,blue) occurrence>> [[psysml:ffd2f288-180d-4271-8880-cf9706207ba2 ]] {\r\n",
       "}\r\n",
       "comp usage \"s: Ind \" as E5  <<(T,blue) individual snapshot occurrence>> [[psysml:4e1769cc-a186-417e-91f0-587d1f1196e7 ]] {\r\n",
       "}\r\n",
       "comp usage \"t \" as E6  <<(T,blue) timeslice occurrence>> [[psysml:9c61ac47-8b4e-45e2-802a-f3aa096140c4 ]] {\r\n",
       "}\r\n",
       "comp def \"Ind\" as E7  <<(T,blue) individual occurrence  def>> [[psysml:54e4af67-f268-48a3-80b8-bc1579f32c01 ]] {\r\n",
       "}\r\n",
       "comp usage \"s2 \" as E8  <<(T,blue) snapshot occurrence>> [[psysml:bfc31472-e77d-4111-949c-57e124b09868 ]] {\r\n",
       "}\r\n",
       "comp usage \"t2 \" as E9  <<(T,blue) timeslice occurrence>> [[psysml:25521b86-d75d-41e6-9d0e-592064bc2653 ]] {\r\n",
       "}\r\n",
       "comp usage \"ind: Ind, Occ \" as E10  <<(T,blue) individual occurrence>> [[psysml:ec83ca81-a881-4da3-97a0-46e2b6aae84c ]] {\r\n",
       "}\r\n",
       "comp usage \"s3 \" as E11  <<(T,blue) snapshot occurrence>> [[psysml:fe74329f-5d2b-4ebe-b106-a7ecca7a6fbd ]] {\r\n",
       "}\r\n",
       "comp usage \"t3 \" as E12  <<(T,blue) individual timeslice occurrence>> [[psysml:6925098a-d5ed-431f-aaf1-d453853f914b ]] {\r\n",
       "}\r\n",
       "comp usage \"s4: Ind \" as E13  <<(T,blue) individual snapshot occurrence>> [[psysml:4e4d3416-6ae1-42d7-bc86-2084c913e314 ]] {\r\n",
       "}\r\n",
       "}\r\n",
       "E2 o- - E3 [[psysml:62ea934f-12d4-42a0-b786-a1086ef654f4 ]] \r\n",
       "E3 - -:|> E2 [[psysml:72edb9ed-f456-4be1-846b-a7c4b7fb6ef3 ]] \r\n",
       "E2 *- - E4 [[psysml:1930a264-e184-4aca-ae40-6206f5d09a7f ]] \r\n",
       "E4 - -:|> E2 [[psysml:32367fe5-1bb2-4952-a335-a8970d1d9f84 ]] \r\n",
       "E2 *- - E5 [[psysml:0faf658f-4e02-48cd-849b-e0220b5d7629 ]] \r\n",
       "E2 *- - E6 [[psysml:3f965610-dfca-4051-a1f3-35306b55574a ]] \r\n",
       "E5 - -:|> E7 [[psysml:5b4e0f94-bd6c-4a04-8036-e6bb7f85be93 ]] \r\n",
       "E7 *- - E8 [[psysml:37f490ca-8c9f-44ef-b281-38d91f32f2bf ]] \r\n",
       "E7 *- - E9 [[psysml:c791e7ed-713f-4106-b9d5-0dfb97ea4543 ]] \r\n",
       "E10 - -:|> E7 [[psysml:d7bf13fe-2343-4091-93b6-ccc05bfccd1c ]] \r\n",
       "E10 - -:|> E2 [[psysml:65e23dda-2765-4b86-8b8c-165f4272381c ]] \r\n",
       "E10 *- - E11 [[psysml:996a22eb-9701-44d5-9cb6-35ae83d4d1b1 ]] \r\n",
       "E10 *- - E12 [[psysml:da3311a8-2759-47ea-b229-fd34ee887055 ]] \r\n",
       "E13 - -:|> E7 [[psysml:fb78d99f-0705-4d43-aabd-2eaf1ce47389 ]] \r\n",
       "@enduml\r\n",
       "\n",
       "PlantUML version 1.2020.13(Sat Jun 13 12:26:38 UTC 2020)\n",
       "(EPL source distribution)\n",
       "Java Runtime: OpenJDK Runtime Environment\n",
       "JVM: OpenJDK 64-Bit Server VM\n",
       "Default Encoding: UTF-8\n",
       "Language: en\n",
       "Country: null\n",
       "--></g></svg>"
      ]
     },
     "execution_count": 51,
     "metadata": {},
     "output_type": "execute_result"
    }
   ],
   "source": [
    "%viz --style=\"ORTHOLINE\" --view=\"Default\" \"OccurrenceTest\""
   ]
  },
  {
   "cell_type": "code",
   "execution_count": 52,
   "id": "db1e00b5",
   "metadata": {
    "execution": {
     "iopub.execute_input": "2022-02-18T10:48:40.146982Z",
     "iopub.status.busy": "2022-02-18T10:48:40.146732Z",
     "iopub.status.idle": "2022-02-18T10:48:40.200755Z",
     "shell.execute_reply": "2022-02-18T10:48:40.199353Z"
    }
   },
   "outputs": [
    {
     "data": {
      "image/svg+xml": [
       "<?xml version=\"1.0\" encoding=\"UTF-8\" standalone=\"no\"?><svg xmlns=\"http://www.w3.org/2000/svg\" xmlns:xlink=\"http://www.w3.org/1999/xlink\" contentScriptType=\"application/ecmascript\" contentStyleType=\"text/css\" height=\"569px\" preserveAspectRatio=\"none\" style=\"width:992px;height:569px;\" version=\"1.1\" viewBox=\"0 0 992 569\" width=\"992px\" zoomAndPan=\"magnify\"><defs/><g><!--MD5=[fbc87193dbaf4d95561dea2c320d4a47]\n",
       "cluster E1--><a href=\"psysml:76f03fcf-c31b-4704-ae9e-b44a23fd6ebe\" target=\"_top\" title=\"psysml:76f03fcf-c31b-4704-ae9e-b44a23fd6ebe\" xlink:actuate=\"onRequest\" xlink:href=\"psysml:76f03fcf-c31b-4704-ae9e-b44a23fd6ebe\" xlink:show=\"new\" xlink:title=\"psysml:76f03fcf-c31b-4704-ae9e-b44a23fd6ebe\" xlink:type=\"simple\"><polygon fill=\"#FFFFFF\" points=\"16,6,134,6,141,28.2969,970,28.2969,970,557,16,557,16,6\" style=\"stroke: #000000; stroke-width: 1.5;\"/><line style=\"stroke: #000000; stroke-width: 1.5;\" x1=\"16\" x2=\"141\" y1=\"28.2969\" y2=\"28.2969\"/><text fill=\"#000000\" font-family=\"sans-serif\" font-size=\"14\" font-weight=\"bold\" lengthAdjust=\"spacingAndGlyphs\" textLength=\"112\" x=\"20\" y=\"20.9951\">OccurrenceTest</text></a><!--MD5=[b4997ac47864f28c2f74865a473b2911]\n",
       "class E2--><a href=\"psysml:eaa0b96d-7da2-44a7-b980-6b6f36747918\" target=\"_top\" title=\"psysml:eaa0b96d-7da2-44a7-b980-6b6f36747918\" xlink:actuate=\"onRequest\" xlink:href=\"psysml:eaa0b96d-7da2-44a7-b980-6b6f36747918\" xlink:show=\"new\" xlink:title=\"psysml:eaa0b96d-7da2-44a7-b980-6b6f36747918\" xlink:type=\"simple\"><rect fill=\"#FFFFFF\" height=\"75.5469\" id=\"E2\" style=\"stroke: #383838; stroke-width: 1.5;\" width=\"115\" x=\"373.5\" y=\"147\"/><text fill=\"#000000\" font-family=\"sans-serif\" font-size=\"12\" font-style=\"italic\" lengthAdjust=\"spacingAndGlyphs\" textLength=\"113\" x=\"374.5\" y=\"163.1387\">«occurrence  def»</text><text fill=\"#000000\" font-family=\"sans-serif\" font-size=\"12\" lengthAdjust=\"spacingAndGlyphs\" textLength=\"23\" x=\"419.5\" y=\"177.1074\">Occ</text><line style=\"stroke: #383838; stroke-width: 1.5;\" x1=\"374.5\" x2=\"487.5\" y1=\"184.9375\" y2=\"184.9375\"/><text fill=\"#000000\" font-family=\"sans-serif\" font-size=\"11\" lengthAdjust=\"spacingAndGlyphs\" textLength=\"7\" x=\"379.5\" y=\"215.9526\">a</text><line style=\"stroke: #383838; stroke-width: 1.0;\" x1=\"374.5\" x2=\"403.5\" y1=\"199.3398\" y2=\"199.3398\"/><text fill=\"#000000\" font-family=\"sans-serif\" font-size=\"11\" lengthAdjust=\"spacingAndGlyphs\" textLength=\"55\" x=\"403.5\" y=\"202.6479\">attributes</text><line style=\"stroke: #383838; stroke-width: 1.0;\" x1=\"458.5\" x2=\"487.5\" y1=\"199.3398\" y2=\"199.3398\"/></a><!--MD5=[09b614a08d8cba4a07c9adeb5e0fee81]\n",
       "class E3--><a href=\"psysml:87fca259-1c14-4b5b-983e-37895f6ff77b\" target=\"_top\" title=\"psysml:87fca259-1c14-4b5b-983e-37895f6ff77b\" xlink:actuate=\"onRequest\" xlink:href=\"psysml:87fca259-1c14-4b5b-983e-37895f6ff77b\" xlink:show=\"new\" xlink:title=\"psysml:87fca259-1c14-4b5b-983e-37895f6ff77b\" xlink:type=\"simple\"><rect fill=\"#FFFFFF\" height=\"45.9375\" id=\"E3\" rx=\"10\" ry=\"10\" style=\"stroke: #383838; stroke-width: 1.5;\" width=\"87\" x=\"279.5\" y=\"283\"/><text fill=\"#000000\" font-family=\"sans-serif\" font-size=\"12\" font-style=\"italic\" lengthAdjust=\"spacingAndGlyphs\" textLength=\"85\" x=\"280.5\" y=\"299.1387\">«occurrence»</text><text fill=\"#000000\" font-family=\"sans-serif\" font-size=\"12\" lengthAdjust=\"spacingAndGlyphs\" textLength=\"61\" x=\"290.5\" y=\"313.1074\">occ1: Occ</text><line style=\"stroke: #383838; stroke-width: 1.5;\" x1=\"280.5\" x2=\"365.5\" y1=\"320.9375\" y2=\"320.9375\"/></a><!--MD5=[ebbe1d658d1005bcc118a6aa81145e00]\n",
       "class E4--><a href=\"psysml:ffd2f288-180d-4271-8880-cf9706207ba2\" target=\"_top\" title=\"psysml:ffd2f288-180d-4271-8880-cf9706207ba2\" xlink:actuate=\"onRequest\" xlink:href=\"psysml:ffd2f288-180d-4271-8880-cf9706207ba2\" xlink:show=\"new\" xlink:title=\"psysml:ffd2f288-180d-4271-8880-cf9706207ba2\" xlink:type=\"simple\"><rect fill=\"#FFFFFF\" height=\"45.9375\" id=\"E4\" rx=\"10\" ry=\"10\" style=\"stroke: #383838; stroke-width: 1.5;\" width=\"87\" x=\"401.5\" y=\"283\"/><text fill=\"#000000\" font-family=\"sans-serif\" font-size=\"12\" font-style=\"italic\" lengthAdjust=\"spacingAndGlyphs\" textLength=\"85\" x=\"402.5\" y=\"299.1387\">«occurrence»</text><text fill=\"#000000\" font-family=\"sans-serif\" font-size=\"12\" lengthAdjust=\"spacingAndGlyphs\" textLength=\"61\" x=\"412.5\" y=\"313.1074\">occ2: Occ</text><line style=\"stroke: #383838; stroke-width: 1.5;\" x1=\"402.5\" x2=\"487.5\" y1=\"320.9375\" y2=\"320.9375\"/></a><!--MD5=[270fce915f116d4de14055a7c1d9a0f3]\n",
       "class E5--><a href=\"psysml:4e1769cc-a186-417e-91f0-587d1f1196e7\" target=\"_top\" title=\"psysml:4e1769cc-a186-417e-91f0-587d1f1196e7\" xlink:actuate=\"onRequest\" xlink:href=\"psysml:4e1769cc-a186-417e-91f0-587d1f1196e7\" xlink:show=\"new\" xlink:title=\"psysml:4e1769cc-a186-417e-91f0-587d1f1196e7\" xlink:type=\"simple\"><rect fill=\"#FFFFFF\" height=\"45.9375\" id=\"E5\" rx=\"10\" ry=\"10\" style=\"stroke: #383838; stroke-width: 1.5;\" width=\"212\" x=\"524\" y=\"283\"/><text fill=\"#000000\" font-family=\"sans-serif\" font-size=\"12\" font-style=\"italic\" lengthAdjust=\"spacingAndGlyphs\" textLength=\"210\" x=\"525\" y=\"299.1387\">«individual snapshot occurrence»</text><text fill=\"#000000\" font-family=\"sans-serif\" font-size=\"12\" lengthAdjust=\"spacingAndGlyphs\" textLength=\"34\" x=\"611\" y=\"313.1074\">s: Ind</text><line style=\"stroke: #383838; stroke-width: 1.5;\" x1=\"525\" x2=\"735\" y1=\"320.9375\" y2=\"320.9375\"/></a><!--MD5=[60a26617385b1d2d0262a64233df1f8d]\n",
       "class E6--><a href=\"psysml:9c61ac47-8b4e-45e2-802a-f3aa096140c4\" target=\"_top\" title=\"psysml:9c61ac47-8b4e-45e2-802a-f3aa096140c4\" xlink:actuate=\"onRequest\" xlink:href=\"psysml:9c61ac47-8b4e-45e2-802a-f3aa096140c4\" xlink:show=\"new\" xlink:title=\"psysml:9c61ac47-8b4e-45e2-802a-f3aa096140c4\" xlink:type=\"simple\"><rect fill=\"#FFFFFF\" height=\"45.9375\" id=\"E6\" rx=\"10\" ry=\"10\" style=\"stroke: #383838; stroke-width: 1.5;\" width=\"146\" x=\"771\" y=\"283\"/><text fill=\"#000000\" font-family=\"sans-serif\" font-size=\"12\" font-style=\"italic\" lengthAdjust=\"spacingAndGlyphs\" textLength=\"144\" x=\"772\" y=\"299.1387\">«timeslice occurrence»</text><text fill=\"#000000\" font-family=\"sans-serif\" font-size=\"12\" lengthAdjust=\"spacingAndGlyphs\" textLength=\"5\" x=\"839.5\" y=\"313.1074\">t</text><line style=\"stroke: #383838; stroke-width: 1.5;\" x1=\"772\" x2=\"916\" y1=\"320.9375\" y2=\"320.9375\"/></a><!--MD5=[2156ba9850f5573cc1fc38a6a4b2f02b]\n",
       "class E7--><a href=\"psysml:54e4af67-f268-48a3-80b8-bc1579f32c01\" target=\"_top\" title=\"psysml:54e4af67-f268-48a3-80b8-bc1579f32c01\" xlink:actuate=\"onRequest\" xlink:href=\"psysml:54e4af67-f268-48a3-80b8-bc1579f32c01\" xlink:show=\"new\" xlink:title=\"psysml:54e4af67-f268-48a3-80b8-bc1579f32c01\" xlink:type=\"simple\"><rect fill=\"#FFFFFF\" height=\"45.9375\" id=\"E7\" style=\"stroke: #383838; stroke-width: 1.5;\" width=\"177\" x=\"541.5\" y=\"389\"/><text fill=\"#000000\" font-family=\"sans-serif\" font-size=\"12\" font-style=\"italic\" lengthAdjust=\"spacingAndGlyphs\" textLength=\"175\" x=\"542.5\" y=\"405.1387\">«individual occurrence  def»</text><text fill=\"#000000\" font-family=\"sans-serif\" font-size=\"12\" lengthAdjust=\"spacingAndGlyphs\" textLength=\"19\" x=\"620.5\" y=\"419.1074\">Ind</text><line style=\"stroke: #383838; stroke-width: 1.5;\" x1=\"542.5\" x2=\"717.5\" y1=\"426.9375\" y2=\"426.9375\"/></a><!--MD5=[b9389687b975829384b498ac4b7476b2]\n",
       "class E8--><a href=\"psysml:bfc31472-e77d-4111-949c-57e124b09868\" target=\"_top\" title=\"psysml:bfc31472-e77d-4111-949c-57e124b09868\" xlink:actuate=\"onRequest\" xlink:href=\"psysml:bfc31472-e77d-4111-949c-57e124b09868\" xlink:show=\"new\" xlink:title=\"psysml:bfc31472-e77d-4111-949c-57e124b09868\" xlink:type=\"simple\"><rect fill=\"#FFFFFF\" height=\"45.9375\" id=\"E8\" rx=\"10\" ry=\"10\" style=\"stroke: #383838; stroke-width: 1.5;\" width=\"150\" x=\"463\" y=\"495\"/><text fill=\"#000000\" font-family=\"sans-serif\" font-size=\"12\" font-style=\"italic\" lengthAdjust=\"spacingAndGlyphs\" textLength=\"148\" x=\"464\" y=\"511.1387\">«snapshot occurrence»</text><text fill=\"#000000\" font-family=\"sans-serif\" font-size=\"12\" lengthAdjust=\"spacingAndGlyphs\" textLength=\"15\" x=\"528.5\" y=\"525.1074\">s2</text><line style=\"stroke: #383838; stroke-width: 1.5;\" x1=\"464\" x2=\"612\" y1=\"532.9375\" y2=\"532.9375\"/></a><!--MD5=[fd4143e9d270a159db93a4ea2a975926]\n",
       "class E9--><a href=\"psysml:25521b86-d75d-41e6-9d0e-592064bc2653\" target=\"_top\" title=\"psysml:25521b86-d75d-41e6-9d0e-592064bc2653\" xlink:actuate=\"onRequest\" xlink:href=\"psysml:25521b86-d75d-41e6-9d0e-592064bc2653\" xlink:show=\"new\" xlink:title=\"psysml:25521b86-d75d-41e6-9d0e-592064bc2653\" xlink:type=\"simple\"><rect fill=\"#FFFFFF\" height=\"45.9375\" id=\"E9\" rx=\"10\" ry=\"10\" style=\"stroke: #383838; stroke-width: 1.5;\" width=\"146\" x=\"648\" y=\"495\"/><text fill=\"#000000\" font-family=\"sans-serif\" font-size=\"12\" font-style=\"italic\" lengthAdjust=\"spacingAndGlyphs\" textLength=\"144\" x=\"649\" y=\"511.1387\">«timeslice occurrence»</text><text fill=\"#000000\" font-family=\"sans-serif\" font-size=\"12\" lengthAdjust=\"spacingAndGlyphs\" textLength=\"13\" x=\"712.5\" y=\"525.1074\">t2</text><line style=\"stroke: #383838; stroke-width: 1.5;\" x1=\"649\" x2=\"793\" y1=\"532.9375\" y2=\"532.9375\"/></a><!--MD5=[96f4274e9e20536e775497830990834d]\n",
       "class E10--><a href=\"psysml:ec83ca81-a881-4da3-97a0-46e2b6aae84c\" target=\"_top\" title=\"psysml:ec83ca81-a881-4da3-97a0-46e2b6aae84c\" xlink:actuate=\"onRequest\" xlink:href=\"psysml:ec83ca81-a881-4da3-97a0-46e2b6aae84c\" xlink:show=\"new\" xlink:title=\"psysml:ec83ca81-a881-4da3-97a0-46e2b6aae84c\" xlink:type=\"simple\"><rect fill=\"#FFFFFF\" height=\"45.9375\" id=\"E10\" rx=\"10\" ry=\"10\" style=\"stroke: #383838; stroke-width: 1.5;\" width=\"149\" x=\"505.5\" y=\"41\"/><text fill=\"#000000\" font-family=\"sans-serif\" font-size=\"12\" font-style=\"italic\" lengthAdjust=\"spacingAndGlyphs\" textLength=\"147\" x=\"506.5\" y=\"57.1387\">«individual occurrence»</text><text fill=\"#000000\" font-family=\"sans-serif\" font-size=\"12\" lengthAdjust=\"spacingAndGlyphs\" textLength=\"77\" x=\"539.5\" y=\"71.1074\">ind: Ind, Occ</text><line style=\"stroke: #383838; stroke-width: 1.5;\" x1=\"506.5\" x2=\"653.5\" y1=\"78.9375\" y2=\"78.9375\"/></a><!--MD5=[1dd1bfd58a279cf63c5f349dbc8fc6a1]\n",
       "class E11--><a href=\"psysml:fe74329f-5d2b-4ebe-b106-a7ecca7a6fbd\" target=\"_top\" title=\"psysml:fe74329f-5d2b-4ebe-b106-a7ecca7a6fbd\" xlink:actuate=\"onRequest\" xlink:href=\"psysml:fe74329f-5d2b-4ebe-b106-a7ecca7a6fbd\" xlink:show=\"new\" xlink:title=\"psysml:fe74329f-5d2b-4ebe-b106-a7ecca7a6fbd\" xlink:type=\"simple\"><rect fill=\"#FFFFFF\" height=\"45.9375\" id=\"E11\" rx=\"10\" ry=\"10\" style=\"stroke: #383838; stroke-width: 1.5;\" width=\"150\" x=\"561\" y=\"162\"/><text fill=\"#000000\" font-family=\"sans-serif\" font-size=\"12\" font-style=\"italic\" lengthAdjust=\"spacingAndGlyphs\" textLength=\"148\" x=\"562\" y=\"178.1387\">«snapshot occurrence»</text><text fill=\"#000000\" font-family=\"sans-serif\" font-size=\"12\" lengthAdjust=\"spacingAndGlyphs\" textLength=\"15\" x=\"626.5\" y=\"192.1074\">s3</text><line style=\"stroke: #383838; stroke-width: 1.5;\" x1=\"562\" x2=\"710\" y1=\"199.9375\" y2=\"199.9375\"/></a><!--MD5=[49a0ec8f00dab7302a31f22d0f0fe584]\n",
       "class E12--><a href=\"psysml:6925098a-d5ed-431f-aaf1-d453853f914b\" target=\"_top\" title=\"psysml:6925098a-d5ed-431f-aaf1-d453853f914b\" xlink:actuate=\"onRequest\" xlink:href=\"psysml:6925098a-d5ed-431f-aaf1-d453853f914b\" xlink:show=\"new\" xlink:title=\"psysml:6925098a-d5ed-431f-aaf1-d453853f914b\" xlink:type=\"simple\"><rect fill=\"#FFFFFF\" height=\"45.9375\" id=\"E12\" rx=\"10\" ry=\"10\" style=\"stroke: #383838; stroke-width: 1.5;\" width=\"208\" x=\"746\" y=\"162\"/><text fill=\"#000000\" font-family=\"sans-serif\" font-size=\"12\" font-style=\"italic\" lengthAdjust=\"spacingAndGlyphs\" textLength=\"206\" x=\"747\" y=\"178.1387\">«individual timeslice occurrence»</text><text fill=\"#000000\" font-family=\"sans-serif\" font-size=\"12\" lengthAdjust=\"spacingAndGlyphs\" textLength=\"13\" x=\"841.5\" y=\"192.1074\">t3</text><line style=\"stroke: #383838; stroke-width: 1.5;\" x1=\"747\" x2=\"953\" y1=\"199.9375\" y2=\"199.9375\"/></a><!--MD5=[ee3c913d1a06f366521f9ef512b67efe]\n",
       "class E13--><a href=\"psysml:4e4d3416-6ae1-42d7-bc86-2084c913e314\" target=\"_top\" title=\"psysml:4e4d3416-6ae1-42d7-bc86-2084c913e314\" xlink:actuate=\"onRequest\" xlink:href=\"psysml:4e4d3416-6ae1-42d7-bc86-2084c913e314\" xlink:show=\"new\" xlink:title=\"psysml:4e4d3416-6ae1-42d7-bc86-2084c913e314\" xlink:type=\"simple\"><rect fill=\"#FFFFFF\" height=\"45.9375\" id=\"E13\" rx=\"10\" ry=\"10\" style=\"stroke: #383838; stroke-width: 1.5;\" width=\"212\" x=\"32\" y=\"283\"/><text fill=\"#000000\" font-family=\"sans-serif\" font-size=\"12\" font-style=\"italic\" lengthAdjust=\"spacingAndGlyphs\" textLength=\"210\" x=\"33\" y=\"299.1387\">«individual snapshot occurrence»</text><text fill=\"#000000\" font-family=\"sans-serif\" font-size=\"12\" lengthAdjust=\"spacingAndGlyphs\" textLength=\"42\" x=\"115\" y=\"313.1074\">s4: Ind</text><line style=\"stroke: #383838; stroke-width: 1.5;\" x1=\"33\" x2=\"243\" y1=\"320.9375\" y2=\"320.9375\"/></a><!--MD5=[209b3feb70ccb6233bfe1053d122c12c]\n",
       "reverse link E2 to E3--><a href=\"psysml:62ea934f-12d4-42a0-b786-a1086ef654f4\" target=\"_top\" title=\"psysml:62ea934f-12d4-42a0-b786-a1086ef654f4\" xlink:actuate=\"onRequest\" xlink:href=\"psysml:62ea934f-12d4-42a0-b786-a1086ef654f4\" xlink:show=\"new\" xlink:title=\"psysml:62ea934f-12d4-42a0-b786-a1086ef654f4\" xlink:type=\"simple\"><path d=\"M382.83,236.28 C382.83,236.28 382.83,299 382.83,299 C382.83,299 375.92,299 366.8,299 \" fill=\"none\" id=\"E2&lt;-E3\" style=\"stroke: #383838; stroke-width: 1.0;\"/><polygon fill=\"#FFFFFF\" points=\"382.83,223.28,378.83,229.28,382.83,235.28,386.83,229.28,382.83,223.28\" style=\"stroke: #383838; stroke-width: 1.0;\"/></a><!--MD5=[05d275557350bfb9b23a4ef7222b4c39]\n",
       "link E3 to E2--><a href=\"psysml:72edb9ed-f456-4be1-846b-a7c4b7fb6ef3\" target=\"_top\" title=\"psysml:72edb9ed-f456-4be1-846b-a7c4b7fb6ef3\" xlink:actuate=\"onRequest\" xlink:href=\"psysml:72edb9ed-f456-4be1-846b-a7c4b7fb6ef3\" xlink:show=\"new\" xlink:title=\"psysml:72edb9ed-f456-4be1-846b-a7c4b7fb6ef3\" xlink:type=\"simple\"><path d=\"M366.8,314 C380.53,314 392.17,314 392.17,314 C392.17,314 392.17,243.01 392.17,243.01 \" fill=\"none\" id=\"E3-&gt;E2\" style=\"stroke: #383838; stroke-width: 1.0;\"/><polygon fill=\"#FFFFFF\" points=\"392.17,223.01,399.17,242.01,385.17,242.01,392.17,223.01\" style=\"stroke: #383838; stroke-width: 1.0;\"/><ellipse cx=\"397.17\" cy=\"247.71\" fill=\"#383838\" rx=\"2\" ry=\"2\" style=\"stroke: #383838; stroke-width: 1.0;\"/><ellipse cx=\"387.17\" cy=\"247.71\" fill=\"#383838\" rx=\"2\" ry=\"2\" style=\"stroke: #383838; stroke-width: 1.0;\"/></a><!--MD5=[9618e71518536f8baf3342ff6fdab317]\n",
       "reverse link E2 to E4--><a href=\"psysml:1930a264-e184-4aca-ae40-6206f5d09a7f\" target=\"_top\" title=\"psysml:1930a264-e184-4aca-ae40-6206f5d09a7f\" xlink:actuate=\"onRequest\" xlink:href=\"psysml:1930a264-e184-4aca-ae40-6206f5d09a7f\" xlink:show=\"new\" xlink:title=\"psysml:1930a264-e184-4aca-ae40-6206f5d09a7f\" xlink:type=\"simple\"><path d=\"M430.5,236.29 C430.5,236.29 430.5,282.74 430.5,282.74 \" fill=\"none\" id=\"E2&lt;-E4\" style=\"stroke: #383838; stroke-width: 1.0;\"/><polygon fill=\"#383838\" points=\"430.5,223.29,426.5,229.29,430.5,235.29,434.5,229.29,430.5,223.29\" style=\"stroke: #383838; stroke-width: 1.0;\"/></a><!--MD5=[185131fc0dcab0a4505a2ebe144e961b]\n",
       "link E4 to E2--><a href=\"psysml:32367fe5-1bb2-4952-a335-a8970d1d9f84\" target=\"_top\" title=\"psysml:32367fe5-1bb2-4952-a335-a8970d1d9f84\" xlink:actuate=\"onRequest\" xlink:href=\"psysml:32367fe5-1bb2-4952-a335-a8970d1d9f84\" xlink:show=\"new\" xlink:title=\"psysml:32367fe5-1bb2-4952-a335-a8970d1d9f84\" xlink:type=\"simple\"><path d=\"M459.5,282.96 C459.5,282.96 459.5,243.19 459.5,243.19 \" fill=\"none\" id=\"E4-&gt;E2\" style=\"stroke: #383838; stroke-width: 1.0;\"/><polygon fill=\"#FFFFFF\" points=\"459.5,223.19,466.5,242.19,452.5,242.19,459.5,223.19\" style=\"stroke: #383838; stroke-width: 1.0;\"/><ellipse cx=\"464.5\" cy=\"247.89\" fill=\"#383838\" rx=\"2\" ry=\"2\" style=\"stroke: #383838; stroke-width: 1.0;\"/><ellipse cx=\"454.5\" cy=\"247.89\" fill=\"#383838\" rx=\"2\" ry=\"2\" style=\"stroke: #383838; stroke-width: 1.0;\"/></a><!--MD5=[4e1a83fab71cdb913c109063314ae896]\n",
       "reverse link E2 to E5--><a href=\"psysml:0faf658f-4e02-48cd-849b-e0220b5d7629\" target=\"_top\" title=\"psysml:0faf658f-4e02-48cd-849b-e0220b5d7629\" xlink:actuate=\"onRequest\" xlink:href=\"psysml:0faf658f-4e02-48cd-849b-e0220b5d7629\" xlink:show=\"new\" xlink:title=\"psysml:0faf658f-4e02-48cd-849b-e0220b5d7629\" xlink:type=\"simple\"><path d=\"M501.71,218 C501.71,218 542.5,218 542.5,218 C542.5,218 542.5,256.81 542.5,282.88 \" fill=\"none\" id=\"E2&lt;-E5\" style=\"stroke: #383838; stroke-width: 1.0;\"/><polygon fill=\"#383838\" points=\"488.71,218,494.71,222,500.71,218,494.71,214,488.71,218\" style=\"stroke: #383838; stroke-width: 1.0;\"/></a><!--MD5=[ce036f65110ae2351ccce5a81dc2e928]\n",
       "reverse link E2 to E6--><a href=\"psysml:3f965610-dfca-4051-a1f3-35306b55574a\" target=\"_top\" title=\"psysml:3f965610-dfca-4051-a1f3-35306b55574a\" xlink:actuate=\"onRequest\" xlink:href=\"psysml:3f965610-dfca-4051-a1f3-35306b55574a\" xlink:show=\"new\" xlink:title=\"psysml:3f965610-dfca-4051-a1f3-35306b55574a\" xlink:type=\"simple\"><path d=\"M501.86,213 C501.86,213 844,213 844,213 C844,213 844,254.98 844,282.53 \" fill=\"none\" id=\"E2&lt;-E6\" style=\"stroke: #383838; stroke-width: 1.0;\"/><polygon fill=\"#383838\" points=\"488.86,213,494.86,217,500.86,213,494.86,209,488.86,213\" style=\"stroke: #383838; stroke-width: 1.0;\"/></a><!--MD5=[3a9b96bfbf6b6ad89c494e81751bda47]\n",
       "link E5 to E7--><a href=\"psysml:5b4e0f94-bd6c-4a04-8036-e6bb7f85be93\" target=\"_top\" title=\"psysml:5b4e0f94-bd6c-4a04-8036-e6bb7f85be93\" xlink:actuate=\"onRequest\" xlink:href=\"psysml:5b4e0f94-bd6c-4a04-8036-e6bb7f85be93\" xlink:show=\"new\" xlink:title=\"psysml:5b4e0f94-bd6c-4a04-8036-e6bb7f85be93\" xlink:type=\"simple\"><path d=\"M630,329 C630,329 630,368.68 630,368.68 \" fill=\"none\" id=\"E5-&gt;E7\" style=\"stroke: #383838; stroke-width: 1.0;\"/><polygon fill=\"#FFFFFF\" points=\"630,388.68,623,369.68,637,369.68,630,388.68\" style=\"stroke: #383838; stroke-width: 1.0;\"/><ellipse cx=\"625\" cy=\"363.98\" fill=\"#383838\" rx=\"2\" ry=\"2\" style=\"stroke: #383838; stroke-width: 1.0;\"/><ellipse cx=\"635\" cy=\"363.98\" fill=\"#383838\" rx=\"2\" ry=\"2\" style=\"stroke: #383838; stroke-width: 1.0;\"/></a><!--MD5=[dc164f5e8a733ab456ef1add180e9e34]\n",
       "reverse link E7 to E8--><a href=\"psysml:37f490ca-8c9f-44ef-b281-38d91f32f2bf\" target=\"_top\" title=\"psysml:37f490ca-8c9f-44ef-b281-38d91f32f2bf\" xlink:actuate=\"onRequest\" xlink:href=\"psysml:37f490ca-8c9f-44ef-b281-38d91f32f2bf\" xlink:show=\"new\" xlink:title=\"psysml:37f490ca-8c9f-44ef-b281-38d91f32f2bf\" xlink:type=\"simple\"><path d=\"M577.25,448 C577.25,448 577.25,494.68 577.25,494.68 \" fill=\"none\" id=\"E7&lt;-E8\" style=\"stroke: #383838; stroke-width: 1.0;\"/><polygon fill=\"#383838\" points=\"577.25,435,573.25,441,577.25,447,581.25,441,577.25,435\" style=\"stroke: #383838; stroke-width: 1.0;\"/></a><!--MD5=[e4a10ef82d0e328e31cac39a31e58dda]\n",
       "reverse link E7 to E9--><a href=\"psysml:c791e7ed-713f-4106-b9d5-0dfb97ea4543\" target=\"_top\" title=\"psysml:c791e7ed-713f-4106-b9d5-0dfb97ea4543\" xlink:actuate=\"onRequest\" xlink:href=\"psysml:c791e7ed-713f-4106-b9d5-0dfb97ea4543\" xlink:show=\"new\" xlink:title=\"psysml:c791e7ed-713f-4106-b9d5-0dfb97ea4543\" xlink:type=\"simple\"><path d=\"M683.25,448 C683.25,448 683.25,494.68 683.25,494.68 \" fill=\"none\" id=\"E7&lt;-E9\" style=\"stroke: #383838; stroke-width: 1.0;\"/><polygon fill=\"#383838\" points=\"683.25,435,679.25,441,683.25,447,687.25,441,683.25,435\" style=\"stroke: #383838; stroke-width: 1.0;\"/></a><!--MD5=[a919e0967d6f3de553dc51b9865a1d6d]\n",
       "link E10 to E7--><a href=\"psysml:d7bf13fe-2343-4091-93b6-ccc05bfccd1c\" target=\"_top\" title=\"psysml:d7bf13fe-2343-4091-93b6-ccc05bfccd1c\" xlink:actuate=\"onRequest\" xlink:href=\"psysml:d7bf13fe-2343-4091-93b6-ccc05bfccd1c\" xlink:show=\"new\" xlink:title=\"psysml:d7bf13fe-2343-4091-93b6-ccc05bfccd1c\" xlink:type=\"simple\"><path d=\"M517.83,87.17 C517.83,163.92 517.83,405 517.83,405 C517.83,405 521.35,405 521.35,405 \" fill=\"none\" id=\"E10-&gt;E7\" style=\"stroke: #383838; stroke-width: 1.0;\"/><polygon fill=\"#FFFFFF\" points=\"541.35,405,522.35,412,522.35,398,541.35,405\" style=\"stroke: #383838; stroke-width: 1.0;\"/><ellipse cx=\"516.65\" cy=\"410\" fill=\"#383838\" rx=\"2\" ry=\"2\" style=\"stroke: #383838; stroke-width: 1.0;\"/><ellipse cx=\"516.65\" cy=\"400\" fill=\"#383838\" rx=\"2\" ry=\"2\" style=\"stroke: #383838; stroke-width: 1.0;\"/></a><!--MD5=[0f36bececdf0dff6e600d6f64214b0f1]\n",
       "link E10 to E2--><a href=\"psysml:65e23dda-2765-4b86-8b8c-165f4272381c\" target=\"_top\" title=\"psysml:65e23dda-2765-4b86-8b8c-165f4272381c\" xlink:actuate=\"onRequest\" xlink:href=\"psysml:65e23dda-2765-4b86-8b8c-165f4272381c\" xlink:show=\"new\" xlink:title=\"psysml:65e23dda-2765-4b86-8b8c-165f4272381c\" xlink:type=\"simple\"><path d=\"M511.67,87.43 C511.67,114.4 511.67,155 511.67,155 C511.67,155 508.77,155 508.77,155 \" fill=\"none\" id=\"E10-&gt;E2\" style=\"stroke: #383838; stroke-width: 1.0;\"/><polygon fill=\"#FFFFFF\" points=\"488.77,155,507.77,148,507.77,162,488.77,155\" style=\"stroke: #383838; stroke-width: 1.0;\"/><ellipse cx=\"513.47\" cy=\"150\" fill=\"#383838\" rx=\"2\" ry=\"2\" style=\"stroke: #383838; stroke-width: 1.0;\"/><ellipse cx=\"513.47\" cy=\"160\" fill=\"#383838\" rx=\"2\" ry=\"2\" style=\"stroke: #383838; stroke-width: 1.0;\"/></a><!--MD5=[de308be4a2431766a05a907a031c07fc]\n",
       "reverse link E10 to E11--><a href=\"psysml:996a22eb-9701-44d5-9cb6-35ae83d4d1b1\" target=\"_top\" title=\"psysml:996a22eb-9701-44d5-9cb6-35ae83d4d1b1\" xlink:actuate=\"onRequest\" xlink:href=\"psysml:996a22eb-9701-44d5-9cb6-35ae83d4d1b1\" xlink:show=\"new\" xlink:title=\"psysml:996a22eb-9701-44d5-9cb6-35ae83d4d1b1\" xlink:type=\"simple\"><path d=\"M607.75,100.04 C607.75,100.04 607.75,161.63 607.75,161.63 \" fill=\"none\" id=\"E10&lt;-E11\" style=\"stroke: #383838; stroke-width: 1.0;\"/><polygon fill=\"#383838\" points=\"607.75,87.04,603.75,93.04,607.75,99.04,611.75,93.04,607.75,87.04\" style=\"stroke: #383838; stroke-width: 1.0;\"/></a><!--MD5=[1d54f998c6d5961a1a9184be73a7eb6c]\n",
       "reverse link E10 to E12--><a href=\"psysml:da3311a8-2759-47ea-b229-fd34ee887055\" target=\"_top\" title=\"psysml:da3311a8-2759-47ea-b229-fd34ee887055\" xlink:actuate=\"onRequest\" xlink:href=\"psysml:da3311a8-2759-47ea-b229-fd34ee887055\" xlink:show=\"new\" xlink:title=\"psysml:da3311a8-2759-47ea-b229-fd34ee887055\" xlink:type=\"simple\"><path d=\"M667.85,64 C667.85,64 850,64 850,64 C850,64 850,126.85 850,161.96 \" fill=\"none\" id=\"E10&lt;-E12\" style=\"stroke: #383838; stroke-width: 1.0;\"/><polygon fill=\"#383838\" points=\"654.85,64,660.85,68,666.85,64,660.85,60,654.85,64\" style=\"stroke: #383838; stroke-width: 1.0;\"/></a><!--MD5=[4a48077df6499cfcd20b62e8f5f37904]\n",
       "link E13 to E7--><a href=\"psysml:fb78d99f-0705-4d43-aabd-2eaf1ce47389\" target=\"_top\" title=\"psysml:fb78d99f-0705-4d43-aabd-2eaf1ce47389\" xlink:actuate=\"onRequest\" xlink:href=\"psysml:fb78d99f-0705-4d43-aabd-2eaf1ce47389\" xlink:show=\"new\" xlink:title=\"psysml:fb78d99f-0705-4d43-aabd-2eaf1ce47389\" xlink:type=\"simple\"><path d=\"M138,329.07 C138,362.38 138,420 138,420 C138,420 521.47,420 521.47,420 \" fill=\"none\" id=\"E13-&gt;E7\" style=\"stroke: #383838; stroke-width: 1.0;\"/><polygon fill=\"#FFFFFF\" points=\"541.47,420,522.47,427,522.47,413,541.47,420\" style=\"stroke: #383838; stroke-width: 1.0;\"/><ellipse cx=\"516.77\" cy=\"425\" fill=\"#383838\" rx=\"2\" ry=\"2\" style=\"stroke: #383838; stroke-width: 1.0;\"/><ellipse cx=\"516.77\" cy=\"415\" fill=\"#383838\" rx=\"2\" ry=\"2\" style=\"stroke: #383838; stroke-width: 1.0;\"/></a><!--MD5=[afcf232a9542ce390ab2a0918fb98b6e]\n",
       "@startuml\r\n",
       "skinparam linetype ortho\r\n",
       "skinparam monochrome true\r\n",
       "skinparam classbackgroundcolor white\r\n",
       "skinparam shadowing false\r\n",
       "skinparam wrapWidth 300\r\n",
       "hide circle\r\n",
       "\r\n",
       "package \"OccurrenceTest\" as E1  [[psysml:76f03fcf-c31b-4704-ae9e-b44a23fd6ebe ]]  {\r\n",
       "comp def \"Occ\" as E2  <<(T,blue) occurrence  def>> [[psysml:eaa0b96d-7da2-44a7-b980-6b6f36747918 ]] {\r\n",
       "- - attributes - -\r\n",
       "a\r\n",
       "}\r\n",
       "comp usage \"occ1: Occ \" as E3  <<(T,blue) occurrence>> [[psysml:87fca259-1c14-4b5b-983e-37895f6ff77b ]] {\r\n",
       "}\r\n",
       "comp usage \"occ2: Occ \" as E4  <<(T,blue) occurrence>> [[psysml:ffd2f288-180d-4271-8880-cf9706207ba2 ]] {\r\n",
       "}\r\n",
       "comp usage \"s: Ind \" as E5  <<(T,blue) individual snapshot occurrence>> [[psysml:4e1769cc-a186-417e-91f0-587d1f1196e7 ]] {\r\n",
       "}\r\n",
       "comp usage \"t \" as E6  <<(T,blue) timeslice occurrence>> [[psysml:9c61ac47-8b4e-45e2-802a-f3aa096140c4 ]] {\r\n",
       "}\r\n",
       "comp def \"Ind\" as E7  <<(T,blue) individual occurrence  def>> [[psysml:54e4af67-f268-48a3-80b8-bc1579f32c01 ]] {\r\n",
       "}\r\n",
       "comp usage \"s2 \" as E8  <<(T,blue) snapshot occurrence>> [[psysml:bfc31472-e77d-4111-949c-57e124b09868 ]] {\r\n",
       "}\r\n",
       "comp usage \"t2 \" as E9  <<(T,blue) timeslice occurrence>> [[psysml:25521b86-d75d-41e6-9d0e-592064bc2653 ]] {\r\n",
       "}\r\n",
       "comp usage \"ind: Ind, Occ \" as E10  <<(T,blue) individual occurrence>> [[psysml:ec83ca81-a881-4da3-97a0-46e2b6aae84c ]] {\r\n",
       "}\r\n",
       "comp usage \"s3 \" as E11  <<(T,blue) snapshot occurrence>> [[psysml:fe74329f-5d2b-4ebe-b106-a7ecca7a6fbd ]] {\r\n",
       "}\r\n",
       "comp usage \"t3 \" as E12  <<(T,blue) individual timeslice occurrence>> [[psysml:6925098a-d5ed-431f-aaf1-d453853f914b ]] {\r\n",
       "}\r\n",
       "comp usage \"s4: Ind \" as E13  <<(T,blue) individual snapshot occurrence>> [[psysml:4e4d3416-6ae1-42d7-bc86-2084c913e314 ]] {\r\n",
       "}\r\n",
       "}\r\n",
       "E2 o- - E3 [[psysml:62ea934f-12d4-42a0-b786-a1086ef654f4 ]] \r\n",
       "E3 - -:|> E2 [[psysml:72edb9ed-f456-4be1-846b-a7c4b7fb6ef3 ]] \r\n",
       "E2 *- - E4 [[psysml:1930a264-e184-4aca-ae40-6206f5d09a7f ]] \r\n",
       "E4 - -:|> E2 [[psysml:32367fe5-1bb2-4952-a335-a8970d1d9f84 ]] \r\n",
       "E2 *- - E5 [[psysml:0faf658f-4e02-48cd-849b-e0220b5d7629 ]] \r\n",
       "E2 *- - E6 [[psysml:3f965610-dfca-4051-a1f3-35306b55574a ]] \r\n",
       "E5 - -:|> E7 [[psysml:5b4e0f94-bd6c-4a04-8036-e6bb7f85be93 ]] \r\n",
       "E7 *- - E8 [[psysml:37f490ca-8c9f-44ef-b281-38d91f32f2bf ]] \r\n",
       "E7 *- - E9 [[psysml:c791e7ed-713f-4106-b9d5-0dfb97ea4543 ]] \r\n",
       "E10 - -:|> E7 [[psysml:d7bf13fe-2343-4091-93b6-ccc05bfccd1c ]] \r\n",
       "E10 - -:|> E2 [[psysml:65e23dda-2765-4b86-8b8c-165f4272381c ]] \r\n",
       "E10 *- - E11 [[psysml:996a22eb-9701-44d5-9cb6-35ae83d4d1b1 ]] \r\n",
       "E10 *- - E12 [[psysml:da3311a8-2759-47ea-b229-fd34ee887055 ]] \r\n",
       "E13 - -:|> E7 [[psysml:fb78d99f-0705-4d43-aabd-2eaf1ce47389 ]] \r\n",
       "@enduml\r\n",
       "\n",
       "PlantUML version 1.2020.13(Sat Jun 13 12:26:38 UTC 2020)\n",
       "(EPL source distribution)\n",
       "Java Runtime: OpenJDK Runtime Environment\n",
       "JVM: OpenJDK 64-Bit Server VM\n",
       "Default Encoding: UTF-8\n",
       "Language: en\n",
       "Country: null\n",
       "--></g></svg>"
      ]
     },
     "execution_count": 52,
     "metadata": {},
     "output_type": "execute_result"
    }
   ],
   "source": [
    "%viz --style=\"ORTHOLINE\" --view=\"Tree\" \"OccurrenceTest\""
   ]
  },
  {
   "cell_type": "code",
   "execution_count": 53,
   "id": "fd4cd487",
   "metadata": {
    "execution": {
     "iopub.execute_input": "2022-02-18T10:48:40.250037Z",
     "iopub.status.busy": "2022-02-18T10:48:40.249792Z",
     "iopub.status.idle": "2022-02-18T10:48:40.254466Z",
     "shell.execute_reply": "2022-02-18T10:48:40.254138Z"
    }
   },
   "outputs": [
    {
     "data": {
      "image/svg+xml": [
       "<?xml version=\"1.0\" encoding=\"UTF-8\" standalone=\"no\"?><svg xmlns=\"http://www.w3.org/2000/svg\" xmlns:xlink=\"http://www.w3.org/1999/xlink\" contentScriptType=\"application/ecmascript\" contentStyleType=\"text/css\" height=\"12px\" preserveAspectRatio=\"none\" style=\"width:12px;height:12px;\" version=\"1.1\" viewBox=\"0 0 12 12\" width=\"12px\" zoomAndPan=\"magnify\"><defs/><g><!--MD5=[97d6f38768b311333d388e66b2b27985]\n",
       "@startuml\r\n",
       "skinparam linetype ortho\r\n",
       "skinparam monochrome true\r\n",
       "skinparam classbackgroundcolor white\r\n",
       "skinparam shadowing false\r\n",
       "skinparam wrapWidth 300\r\n",
       "hide circle\r\n",
       "\r\n",
       "@enduml\r\n",
       "\n",
       "PlantUML version 1.2020.13(Sat Jun 13 12:26:38 UTC 2020)\n",
       "(EPL source distribution)\n",
       "Java Runtime: OpenJDK Runtime Environment\n",
       "JVM: OpenJDK 64-Bit Server VM\n",
       "Default Encoding: UTF-8\n",
       "Language: en\n",
       "Country: null\n",
       "--></g></svg>"
      ]
     },
     "execution_count": 53,
     "metadata": {},
     "output_type": "execute_result"
    }
   ],
   "source": [
    "%viz --style=\"ORTHOLINE\" --view=\"State\" \"OccurrenceTest\""
   ]
  },
  {
   "cell_type": "code",
   "execution_count": 54,
   "id": "0f0c1b13",
   "metadata": {
    "execution": {
     "iopub.execute_input": "2022-02-18T10:48:40.304005Z",
     "iopub.status.busy": "2022-02-18T10:48:40.303757Z",
     "iopub.status.idle": "2022-02-18T10:48:40.333915Z",
     "shell.execute_reply": "2022-02-18T10:48:40.332276Z"
    }
   },
   "outputs": [
    {
     "data": {
      "image/svg+xml": [
       "<?xml version=\"1.0\" encoding=\"UTF-8\" standalone=\"no\"?><svg xmlns=\"http://www.w3.org/2000/svg\" xmlns:xlink=\"http://www.w3.org/1999/xlink\" contentScriptType=\"application/ecmascript\" contentStyleType=\"text/css\" height=\"195px\" preserveAspectRatio=\"none\" style=\"width:1123px;height:195px;\" version=\"1.1\" viewBox=\"0 0 1123 195\" width=\"1123px\" zoomAndPan=\"magnify\"><defs/><g><!--MD5=[fbc87193dbaf4d95561dea2c320d4a47]\n",
       "cluster E1--><a href=\"psysml:76f03fcf-c31b-4704-ae9e-b44a23fd6ebe\" target=\"_top\" title=\"psysml:76f03fcf-c31b-4704-ae9e-b44a23fd6ebe\" xlink:actuate=\"onRequest\" xlink:href=\"psysml:76f03fcf-c31b-4704-ae9e-b44a23fd6ebe\" xlink:show=\"new\" xlink:title=\"psysml:76f03fcf-c31b-4704-ae9e-b44a23fd6ebe\" xlink:type=\"simple\"><polygon fill=\"#FFFFFF\" points=\"16,6,134,6,141,28.2969,1101,28.2969,1101,183,16,183,16,6\" style=\"stroke: #000000; stroke-width: 1.5;\"/><line style=\"stroke: #000000; stroke-width: 1.5;\" x1=\"16\" x2=\"141\" y1=\"28.2969\" y2=\"28.2969\"/><text fill=\"#000000\" font-family=\"sans-serif\" font-size=\"14\" font-weight=\"bold\" lengthAdjust=\"spacingAndGlyphs\" textLength=\"112\" x=\"20\" y=\"20.9951\">OccurrenceTest</text></a><!--MD5=[f6df4d0ebaf0b5dfb2ced0ae5af7c670]\n",
       "cluster E4--><a href=\"psysml:ec83ca81-a881-4da3-97a0-46e2b6aae84c\" target=\"_top\" title=\"psysml:ec83ca81-a881-4da3-97a0-46e2b6aae84c\" xlink:actuate=\"onRequest\" xlink:href=\"psysml:ec83ca81-a881-4da3-97a0-46e2b6aae84c\" xlink:show=\"new\" xlink:title=\"psysml:ec83ca81-a881-4da3-97a0-46e2b6aae84c\" xlink:type=\"simple\"><rect fill=\"#FFFFFF\" height=\"110\" id=\"E4\" rx=\"10\" ry=\"10\" style=\"stroke: #383838; stroke-width: 1.5;\" width=\"435\" x=\"642\" y=\"49\"/><rect fill=\"#F8F8F8\" height=\"37.9375\" rx=\"10\" ry=\"10\" style=\"stroke: #F8F8F8; stroke-width: 1.5;\" width=\"435\" x=\"642\" y=\"49\"/><rect fill=\"#F8F8F8\" height=\"10\" style=\"stroke: #F8F8F8; stroke-width: 1.5;\" width=\"435\" x=\"642\" y=\"76.9375\"/><rect fill=\"none\" height=\"110\" id=\"E4\" rx=\"10\" ry=\"10\" style=\"stroke: #383838; stroke-width: 1.5;\" width=\"435\" x=\"642\" y=\"49\"/><text fill=\"#000000\" font-family=\"sans-serif\" font-size=\"12\" font-style=\"italic\" lengthAdjust=\"spacingAndGlyphs\" textLength=\"147\" x=\"786\" y=\"65.1387\">«individual occurrence»</text><text fill=\"#000000\" font-family=\"sans-serif\" font-size=\"12\" lengthAdjust=\"spacingAndGlyphs\" textLength=\"77\" x=\"821\" y=\"79.1074\">ind: Ind, Occ</text><line style=\"stroke: #383838; stroke-width: 1.0;\" x1=\"642\" x2=\"1077\" y1=\"86.9375\" y2=\"86.9375\"/></a><g id=\"E1.E2\"><a href=\"psysml:eaa0b96d-7da2-44a7-b980-6b6f36747918\" target=\"_top\" title=\"psysml:eaa0b96d-7da2-44a7-b980-6b6f36747918\" xlink:actuate=\"onRequest\" xlink:href=\"psysml:eaa0b96d-7da2-44a7-b980-6b6f36747918\" xlink:show=\"new\" xlink:title=\"psysml:eaa0b96d-7da2-44a7-b980-6b6f36747918\" xlink:type=\"simple\"><rect fill=\"#FFFFFF\" height=\"42.9375\" id=\"E2\" style=\"stroke: #383838; stroke-width: 1.5;\" width=\"120\" x=\"502\" y=\"100\"/><rect fill=\"#F8F8F8\" height=\"37.9375\" style=\"stroke: #383838; stroke-width: 1.5;\" width=\"120\" x=\"502\" y=\"100\"/><text fill=\"#000000\" font-family=\"sans-serif\" font-size=\"12\" font-style=\"italic\" lengthAdjust=\"spacingAndGlyphs\" textLength=\"113\" x=\"505.5\" y=\"116.1387\">«occurrence  def»</text><text fill=\"#000000\" font-family=\"sans-serif\" font-size=\"12\" lengthAdjust=\"spacingAndGlyphs\" textLength=\"23\" x=\"550.5\" y=\"130.1074\">Occ</text></a></g><g id=\"E1.E3\"><a href=\"psysml:54e4af67-f268-48a3-80b8-bc1579f32c01\" target=\"_top\" title=\"psysml:54e4af67-f268-48a3-80b8-bc1579f32c01\" xlink:actuate=\"onRequest\" xlink:href=\"psysml:54e4af67-f268-48a3-80b8-bc1579f32c01\" xlink:show=\"new\" xlink:title=\"psysml:54e4af67-f268-48a3-80b8-bc1579f32c01\" xlink:type=\"simple\"><rect fill=\"#FFFFFF\" height=\"42.9375\" id=\"E3\" style=\"stroke: #383838; stroke-width: 1.5;\" width=\"182\" x=\"285\" y=\"100\"/><rect fill=\"#F8F8F8\" height=\"37.9375\" style=\"stroke: #383838; stroke-width: 1.5;\" width=\"182\" x=\"285\" y=\"100\"/><text fill=\"#000000\" font-family=\"sans-serif\" font-size=\"12\" font-style=\"italic\" lengthAdjust=\"spacingAndGlyphs\" textLength=\"175\" x=\"288.5\" y=\"116.1387\">«individual occurrence  def»</text><text fill=\"#000000\" font-family=\"sans-serif\" font-size=\"12\" lengthAdjust=\"spacingAndGlyphs\" textLength=\"19\" x=\"366.5\" y=\"130.1074\">Ind</text></a></g><g id=\"E1.E4.E5\"><a href=\"psysml:fe74329f-5d2b-4ebe-b106-a7ecca7a6fbd\" target=\"_top\" title=\"psysml:fe74329f-5d2b-4ebe-b106-a7ecca7a6fbd\" xlink:actuate=\"onRequest\" xlink:href=\"psysml:fe74329f-5d2b-4ebe-b106-a7ecca7a6fbd\" xlink:show=\"new\" xlink:title=\"psysml:fe74329f-5d2b-4ebe-b106-a7ecca7a6fbd\" xlink:type=\"simple\"><rect fill=\"#FFFFFF\" height=\"42.9375\" id=\"E5\" rx=\"10\" ry=\"10\" style=\"stroke: #383838; stroke-width: 1.5;\" width=\"155\" x=\"905.5\" y=\"100\"/><rect fill=\"#F8F8F8\" height=\"37.9375\" rx=\"10\" ry=\"10\" style=\"stroke: #F8F8F8; stroke-width: 1.5;\" width=\"155\" x=\"905.5\" y=\"100\"/><rect fill=\"#F8F8F8\" height=\"10\" style=\"stroke: #F8F8F8; stroke-width: 1.5;\" width=\"155\" x=\"905.5\" y=\"127.9375\"/><rect fill=\"none\" height=\"42.9375\" id=\"E5\" rx=\"10\" ry=\"10\" style=\"stroke: #383838; stroke-width: 1.5;\" width=\"155\" x=\"905.5\" y=\"100\"/><text fill=\"#000000\" font-family=\"sans-serif\" font-size=\"12\" font-style=\"italic\" lengthAdjust=\"spacingAndGlyphs\" textLength=\"148\" x=\"909\" y=\"116.1387\">«snapshot occurrence»</text><text fill=\"#000000\" font-family=\"sans-serif\" font-size=\"12\" lengthAdjust=\"spacingAndGlyphs\" textLength=\"15\" x=\"975.5\" y=\"130.1074\">s3</text></a></g><g id=\"E1.E4.E6\"><a href=\"psysml:6925098a-d5ed-431f-aaf1-d453853f914b\" target=\"_top\" title=\"psysml:6925098a-d5ed-431f-aaf1-d453853f914b\" xlink:actuate=\"onRequest\" xlink:href=\"psysml:6925098a-d5ed-431f-aaf1-d453853f914b\" xlink:show=\"new\" xlink:title=\"psysml:6925098a-d5ed-431f-aaf1-d453853f914b\" xlink:type=\"simple\"><rect fill=\"#FFFFFF\" height=\"42.9375\" id=\"E6\" rx=\"10\" ry=\"10\" style=\"stroke: #383838; stroke-width: 1.5;\" width=\"213\" x=\"657.5\" y=\"100\"/><rect fill=\"#F8F8F8\" height=\"37.9375\" rx=\"10\" ry=\"10\" style=\"stroke: #F8F8F8; stroke-width: 1.5;\" width=\"213\" x=\"657.5\" y=\"100\"/><rect fill=\"#F8F8F8\" height=\"10\" style=\"stroke: #F8F8F8; stroke-width: 1.5;\" width=\"213\" x=\"657.5\" y=\"127.9375\"/><rect fill=\"none\" height=\"42.9375\" id=\"E6\" rx=\"10\" ry=\"10\" style=\"stroke: #383838; stroke-width: 1.5;\" width=\"213\" x=\"657.5\" y=\"100\"/><text fill=\"#000000\" font-family=\"sans-serif\" font-size=\"12\" font-style=\"italic\" lengthAdjust=\"spacingAndGlyphs\" textLength=\"206\" x=\"661\" y=\"116.1387\">«individual timeslice occurrence»</text><text fill=\"#000000\" font-family=\"sans-serif\" font-size=\"12\" lengthAdjust=\"spacingAndGlyphs\" textLength=\"13\" x=\"757.5\" y=\"130.1074\">t3</text></a></g><g id=\"E1.E7\"><a href=\"psysml:4e4d3416-6ae1-42d7-bc86-2084c913e314\" target=\"_top\" title=\"psysml:4e4d3416-6ae1-42d7-bc86-2084c913e314\" xlink:actuate=\"onRequest\" xlink:href=\"psysml:4e4d3416-6ae1-42d7-bc86-2084c913e314\" xlink:show=\"new\" xlink:title=\"psysml:4e4d3416-6ae1-42d7-bc86-2084c913e314\" xlink:type=\"simple\"><rect fill=\"#FFFFFF\" height=\"42.9375\" id=\"E7\" rx=\"10\" ry=\"10\" style=\"stroke: #383838; stroke-width: 1.5;\" width=\"217\" x=\"32.5\" y=\"100\"/><rect fill=\"#F8F8F8\" height=\"37.9375\" rx=\"10\" ry=\"10\" style=\"stroke: #F8F8F8; stroke-width: 1.5;\" width=\"217\" x=\"32.5\" y=\"100\"/><rect fill=\"#F8F8F8\" height=\"10\" style=\"stroke: #F8F8F8; stroke-width: 1.5;\" width=\"217\" x=\"32.5\" y=\"127.9375\"/><rect fill=\"none\" height=\"42.9375\" id=\"E7\" rx=\"10\" ry=\"10\" style=\"stroke: #383838; stroke-width: 1.5;\" width=\"217\" x=\"32.5\" y=\"100\"/><text fill=\"#000000\" font-family=\"sans-serif\" font-size=\"12\" font-style=\"italic\" lengthAdjust=\"spacingAndGlyphs\" textLength=\"210\" x=\"36\" y=\"116.1387\">«individual snapshot occurrence»</text><text fill=\"#000000\" font-family=\"sans-serif\" font-size=\"12\" lengthAdjust=\"spacingAndGlyphs\" textLength=\"42\" x=\"120\" y=\"130.1074\">s4: Ind</text></a></g><!--MD5=[7d81d14e70ffdd5422453dad22c8f9e3]\n",
       "@startuml\r\n",
       "skinparam ranksep 10\r\n",
       "skinparam rectangle {\r\n",
       " backgroundColor<<block>> LightGreen\r\n",
       "}\r\n",
       "skinparam linetype ortho\r\n",
       "skinparam monochrome true\r\n",
       "skinparam classbackgroundcolor white\r\n",
       "skinparam shadowing false\r\n",
       "skinparam wrapWidth 300\r\n",
       "hide circle\r\n",
       "\r\n",
       "package \"OccurrenceTest\" as E1  [[psysml:76f03fcf-c31b-4704-ae9e-b44a23fd6ebe ]]  {\r\n",
       "def \"Occ\" as E2  <<(T,blue) occurrence  def>> [[psysml:eaa0b96d-7da2-44a7-b980-6b6f36747918 ]] \r\n",
       "def \"Ind\" as E3  <<(T,blue) individual occurrence  def>> [[psysml:54e4af67-f268-48a3-80b8-bc1579f32c01 ]] \r\n",
       "rec usage \"ind: Ind, Occ\" as E4  <<(T,blue) individual occurrence>> [[psysml:ec83ca81-a881-4da3-97a0-46e2b6aae84c ]] {\r\n",
       "rec usage \"s3\" as E5  <<(T,blue) snapshot occurrence>> [[psysml:fe74329f-5d2b-4ebe-b106-a7ecca7a6fbd ]] {\r\n",
       "}\r\n",
       "rec usage \"t3\" as E6  <<(T,blue) individual timeslice occurrence>> [[psysml:6925098a-d5ed-431f-aaf1-d453853f914b ]] {\r\n",
       "}\r\n",
       "}\r\n",
       "rec usage \"s4: Ind\" as E7  <<(T,blue) individual snapshot occurrence>> [[psysml:4e4d3416-6ae1-42d7-bc86-2084c913e314 ]] {\r\n",
       "}\r\n",
       "}\r\n",
       "@enduml\r\n",
       "\n",
       "PlantUML version 1.2020.13(Sat Jun 13 12:26:38 UTC 2020)\n",
       "(EPL source distribution)\n",
       "Java Runtime: OpenJDK Runtime Environment\n",
       "JVM: OpenJDK 64-Bit Server VM\n",
       "Default Encoding: UTF-8\n",
       "Language: en\n",
       "Country: null\n",
       "--></g></svg>"
      ]
     },
     "execution_count": 54,
     "metadata": {},
     "output_type": "execute_result"
    }
   ],
   "source": [
    "%viz --style=\"ORTHOLINE\" --view=\"Interconnection\" \"OccurrenceTest\""
   ]
  },
  {
   "cell_type": "code",
   "execution_count": 55,
   "id": "52f04830",
   "metadata": {
    "execution": {
     "iopub.execute_input": "2022-02-18T10:48:40.383265Z",
     "iopub.status.busy": "2022-02-18T10:48:40.382844Z",
     "iopub.status.idle": "2022-02-18T10:48:40.387096Z",
     "shell.execute_reply": "2022-02-18T10:48:40.386760Z"
    }
   },
   "outputs": [
    {
     "data": {
      "image/svg+xml": [
       "<?xml version=\"1.0\" encoding=\"UTF-8\" standalone=\"no\"?><svg xmlns=\"http://www.w3.org/2000/svg\" xmlns:xlink=\"http://www.w3.org/1999/xlink\" contentScriptType=\"application/ecmascript\" contentStyleType=\"text/css\" height=\"12px\" preserveAspectRatio=\"none\" style=\"width:12px;height:12px;\" version=\"1.1\" viewBox=\"0 0 12 12\" width=\"12px\" zoomAndPan=\"magnify\"><defs/><g><!--MD5=[72934c63077099a26744516a776b4749]\n",
       "@startuml\r\n",
       "skinparam ranksep 8\r\n",
       "skinparam linetype ortho\r\n",
       "skinparam monochrome true\r\n",
       "skinparam classbackgroundcolor white\r\n",
       "skinparam shadowing false\r\n",
       "skinparam wrapWidth 300\r\n",
       "hide circle\r\n",
       "\r\n",
       "@enduml\r\n",
       "\n",
       "PlantUML version 1.2020.13(Sat Jun 13 12:26:38 UTC 2020)\n",
       "(EPL source distribution)\n",
       "Java Runtime: OpenJDK Runtime Environment\n",
       "JVM: OpenJDK 64-Bit Server VM\n",
       "Default Encoding: UTF-8\n",
       "Language: en\n",
       "Country: null\n",
       "--></g></svg>"
      ]
     },
     "execution_count": 55,
     "metadata": {},
     "output_type": "execute_result"
    }
   ],
   "source": [
    "%viz --style=\"ORTHOLINE\" --view=\"Action\" \"OccurrenceTest\""
   ]
  },
  {
   "cell_type": "code",
   "execution_count": 56,
   "id": "15926d12",
   "metadata": {
    "execution": {
     "iopub.execute_input": "2022-02-18T10:48:40.436887Z",
     "iopub.status.busy": "2022-02-18T10:48:40.436495Z",
     "iopub.status.idle": "2022-02-18T10:48:40.441287Z",
     "shell.execute_reply": "2022-02-18T10:48:40.440957Z"
    }
   },
   "outputs": [
    {
     "data": {
      "image/svg+xml": [
       "<?xml version=\"1.0\" encoding=\"UTF-8\" standalone=\"no\"?><svg xmlns=\"http://www.w3.org/2000/svg\" xmlns:xlink=\"http://www.w3.org/1999/xlink\" contentScriptType=\"application/ecmascript\" contentStyleType=\"text/css\" height=\"12px\" preserveAspectRatio=\"none\" style=\"width:12px;height:12px;\" version=\"1.1\" viewBox=\"0 0 12 12\" width=\"12px\" zoomAndPan=\"magnify\"><defs/><g><!--MD5=[30fc1de5121c5abddedd55b44417fde8]\n",
       "@startuml\r\n",
       "skinparam roundcorner 20\r\n",
       "skinparam BoxPadding 20\r\n",
       "skinparam SequenceBoxBackgroundColor #white\r\n",
       "skinparam style strictuml\r\n",
       "skinparam maxMessageSize 100\r\n",
       "skinparam linetype ortho\r\n",
       "skinparam monochrome true\r\n",
       "skinparam classbackgroundcolor white\r\n",
       "skinparam shadowing false\r\n",
       "skinparam wrapWidth 300\r\n",
       "hide circle\r\n",
       "\r\n",
       "@enduml\r\n",
       "\n",
       "PlantUML version 1.2020.13(Sat Jun 13 12:26:38 UTC 2020)\n",
       "(EPL source distribution)\n",
       "Java Runtime: OpenJDK Runtime Environment\n",
       "JVM: OpenJDK 64-Bit Server VM\n",
       "Default Encoding: UTF-8\n",
       "Language: en\n",
       "Country: null\n",
       "--></g></svg>"
      ]
     },
     "execution_count": 56,
     "metadata": {},
     "output_type": "execute_result"
    }
   ],
   "source": [
    "%viz --style=\"ORTHOLINE\" --view=\"Sequence\" \"OccurrenceTest\""
   ]
  },
  {
   "cell_type": "code",
   "execution_count": 57,
   "id": "2037e604",
   "metadata": {
    "execution": {
     "iopub.execute_input": "2022-02-18T10:48:40.491067Z",
     "iopub.status.busy": "2022-02-18T10:48:40.490670Z",
     "iopub.status.idle": "2022-02-18T10:48:40.541959Z",
     "shell.execute_reply": "2022-02-18T10:48:40.540440Z"
    }
   },
   "outputs": [
    {
     "data": {
      "image/svg+xml": [
       "<?xml version=\"1.0\" encoding=\"UTF-8\" standalone=\"no\"?><svg xmlns=\"http://www.w3.org/2000/svg\" xmlns:xlink=\"http://www.w3.org/1999/xlink\" contentScriptType=\"application/ecmascript\" contentStyleType=\"text/css\" height=\"569px\" preserveAspectRatio=\"none\" style=\"width:992px;height:569px;\" version=\"1.1\" viewBox=\"0 0 992 569\" width=\"992px\" zoomAndPan=\"magnify\"><defs/><g><!--MD5=[fbc87193dbaf4d95561dea2c320d4a47]\n",
       "cluster E1--><a href=\"psysml:76f03fcf-c31b-4704-ae9e-b44a23fd6ebe\" target=\"_top\" title=\"psysml:76f03fcf-c31b-4704-ae9e-b44a23fd6ebe\" xlink:actuate=\"onRequest\" xlink:href=\"psysml:76f03fcf-c31b-4704-ae9e-b44a23fd6ebe\" xlink:show=\"new\" xlink:title=\"psysml:76f03fcf-c31b-4704-ae9e-b44a23fd6ebe\" xlink:type=\"simple\"><polygon fill=\"#FFFFFF\" points=\"16,6,134,6,141,28.2969,970,28.2969,970,557,16,557,16,6\" style=\"stroke: #000000; stroke-width: 1.5;\"/><line style=\"stroke: #000000; stroke-width: 1.5;\" x1=\"16\" x2=\"141\" y1=\"28.2969\" y2=\"28.2969\"/><text fill=\"#000000\" font-family=\"sans-serif\" font-size=\"14\" font-weight=\"bold\" lengthAdjust=\"spacingAndGlyphs\" textLength=\"112\" x=\"20\" y=\"20.9951\">OccurrenceTest</text></a><!--MD5=[b4997ac47864f28c2f74865a473b2911]\n",
       "class E2--><a href=\"psysml:eaa0b96d-7da2-44a7-b980-6b6f36747918\" target=\"_top\" title=\"psysml:eaa0b96d-7da2-44a7-b980-6b6f36747918\" xlink:actuate=\"onRequest\" xlink:href=\"psysml:eaa0b96d-7da2-44a7-b980-6b6f36747918\" xlink:show=\"new\" xlink:title=\"psysml:eaa0b96d-7da2-44a7-b980-6b6f36747918\" xlink:type=\"simple\"><rect fill=\"#FFFFFF\" height=\"75.5469\" id=\"E2\" style=\"stroke: #383838; stroke-width: 1.5;\" width=\"115\" x=\"373.5\" y=\"147\"/><text fill=\"#000000\" font-family=\"sans-serif\" font-size=\"12\" font-style=\"italic\" lengthAdjust=\"spacingAndGlyphs\" textLength=\"113\" x=\"374.5\" y=\"163.1387\">«occurrence  def»</text><text fill=\"#000000\" font-family=\"sans-serif\" font-size=\"12\" lengthAdjust=\"spacingAndGlyphs\" textLength=\"23\" x=\"419.5\" y=\"177.1074\">Occ</text><line style=\"stroke: #383838; stroke-width: 1.5;\" x1=\"374.5\" x2=\"487.5\" y1=\"184.9375\" y2=\"184.9375\"/><text fill=\"#000000\" font-family=\"sans-serif\" font-size=\"11\" lengthAdjust=\"spacingAndGlyphs\" textLength=\"7\" x=\"379.5\" y=\"215.9526\">a</text><line style=\"stroke: #383838; stroke-width: 1.0;\" x1=\"374.5\" x2=\"403.5\" y1=\"199.3398\" y2=\"199.3398\"/><text fill=\"#000000\" font-family=\"sans-serif\" font-size=\"11\" lengthAdjust=\"spacingAndGlyphs\" textLength=\"55\" x=\"403.5\" y=\"202.6479\">attributes</text><line style=\"stroke: #383838; stroke-width: 1.0;\" x1=\"458.5\" x2=\"487.5\" y1=\"199.3398\" y2=\"199.3398\"/></a><!--MD5=[09b614a08d8cba4a07c9adeb5e0fee81]\n",
       "class E3--><a href=\"psysml:87fca259-1c14-4b5b-983e-37895f6ff77b\" target=\"_top\" title=\"psysml:87fca259-1c14-4b5b-983e-37895f6ff77b\" xlink:actuate=\"onRequest\" xlink:href=\"psysml:87fca259-1c14-4b5b-983e-37895f6ff77b\" xlink:show=\"new\" xlink:title=\"psysml:87fca259-1c14-4b5b-983e-37895f6ff77b\" xlink:type=\"simple\"><rect fill=\"#FFFFFF\" height=\"45.9375\" id=\"E3\" rx=\"10\" ry=\"10\" style=\"stroke: #383838; stroke-width: 1.5;\" width=\"87\" x=\"279.5\" y=\"283\"/><text fill=\"#000000\" font-family=\"sans-serif\" font-size=\"12\" font-style=\"italic\" lengthAdjust=\"spacingAndGlyphs\" textLength=\"85\" x=\"280.5\" y=\"299.1387\">«occurrence»</text><text fill=\"#000000\" font-family=\"sans-serif\" font-size=\"12\" lengthAdjust=\"spacingAndGlyphs\" textLength=\"61\" x=\"290.5\" y=\"313.1074\">occ1: Occ</text><line style=\"stroke: #383838; stroke-width: 1.5;\" x1=\"280.5\" x2=\"365.5\" y1=\"320.9375\" y2=\"320.9375\"/></a><!--MD5=[ebbe1d658d1005bcc118a6aa81145e00]\n",
       "class E4--><a href=\"psysml:ffd2f288-180d-4271-8880-cf9706207ba2\" target=\"_top\" title=\"psysml:ffd2f288-180d-4271-8880-cf9706207ba2\" xlink:actuate=\"onRequest\" xlink:href=\"psysml:ffd2f288-180d-4271-8880-cf9706207ba2\" xlink:show=\"new\" xlink:title=\"psysml:ffd2f288-180d-4271-8880-cf9706207ba2\" xlink:type=\"simple\"><rect fill=\"#FFFFFF\" height=\"45.9375\" id=\"E4\" rx=\"10\" ry=\"10\" style=\"stroke: #383838; stroke-width: 1.5;\" width=\"87\" x=\"401.5\" y=\"283\"/><text fill=\"#000000\" font-family=\"sans-serif\" font-size=\"12\" font-style=\"italic\" lengthAdjust=\"spacingAndGlyphs\" textLength=\"85\" x=\"402.5\" y=\"299.1387\">«occurrence»</text><text fill=\"#000000\" font-family=\"sans-serif\" font-size=\"12\" lengthAdjust=\"spacingAndGlyphs\" textLength=\"61\" x=\"412.5\" y=\"313.1074\">occ2: Occ</text><line style=\"stroke: #383838; stroke-width: 1.5;\" x1=\"402.5\" x2=\"487.5\" y1=\"320.9375\" y2=\"320.9375\"/></a><!--MD5=[270fce915f116d4de14055a7c1d9a0f3]\n",
       "class E5--><a href=\"psysml:4e1769cc-a186-417e-91f0-587d1f1196e7\" target=\"_top\" title=\"psysml:4e1769cc-a186-417e-91f0-587d1f1196e7\" xlink:actuate=\"onRequest\" xlink:href=\"psysml:4e1769cc-a186-417e-91f0-587d1f1196e7\" xlink:show=\"new\" xlink:title=\"psysml:4e1769cc-a186-417e-91f0-587d1f1196e7\" xlink:type=\"simple\"><rect fill=\"#FFFFFF\" height=\"45.9375\" id=\"E5\" rx=\"10\" ry=\"10\" style=\"stroke: #383838; stroke-width: 1.5;\" width=\"212\" x=\"524\" y=\"283\"/><text fill=\"#000000\" font-family=\"sans-serif\" font-size=\"12\" font-style=\"italic\" lengthAdjust=\"spacingAndGlyphs\" textLength=\"210\" x=\"525\" y=\"299.1387\">«individual snapshot occurrence»</text><text fill=\"#000000\" font-family=\"sans-serif\" font-size=\"12\" lengthAdjust=\"spacingAndGlyphs\" textLength=\"34\" x=\"611\" y=\"313.1074\">s: Ind</text><line style=\"stroke: #383838; stroke-width: 1.5;\" x1=\"525\" x2=\"735\" y1=\"320.9375\" y2=\"320.9375\"/></a><!--MD5=[60a26617385b1d2d0262a64233df1f8d]\n",
       "class E6--><a href=\"psysml:9c61ac47-8b4e-45e2-802a-f3aa096140c4\" target=\"_top\" title=\"psysml:9c61ac47-8b4e-45e2-802a-f3aa096140c4\" xlink:actuate=\"onRequest\" xlink:href=\"psysml:9c61ac47-8b4e-45e2-802a-f3aa096140c4\" xlink:show=\"new\" xlink:title=\"psysml:9c61ac47-8b4e-45e2-802a-f3aa096140c4\" xlink:type=\"simple\"><rect fill=\"#FFFFFF\" height=\"45.9375\" id=\"E6\" rx=\"10\" ry=\"10\" style=\"stroke: #383838; stroke-width: 1.5;\" width=\"146\" x=\"771\" y=\"283\"/><text fill=\"#000000\" font-family=\"sans-serif\" font-size=\"12\" font-style=\"italic\" lengthAdjust=\"spacingAndGlyphs\" textLength=\"144\" x=\"772\" y=\"299.1387\">«timeslice occurrence»</text><text fill=\"#000000\" font-family=\"sans-serif\" font-size=\"12\" lengthAdjust=\"spacingAndGlyphs\" textLength=\"5\" x=\"839.5\" y=\"313.1074\">t</text><line style=\"stroke: #383838; stroke-width: 1.5;\" x1=\"772\" x2=\"916\" y1=\"320.9375\" y2=\"320.9375\"/></a><!--MD5=[2156ba9850f5573cc1fc38a6a4b2f02b]\n",
       "class E7--><a href=\"psysml:54e4af67-f268-48a3-80b8-bc1579f32c01\" target=\"_top\" title=\"psysml:54e4af67-f268-48a3-80b8-bc1579f32c01\" xlink:actuate=\"onRequest\" xlink:href=\"psysml:54e4af67-f268-48a3-80b8-bc1579f32c01\" xlink:show=\"new\" xlink:title=\"psysml:54e4af67-f268-48a3-80b8-bc1579f32c01\" xlink:type=\"simple\"><rect fill=\"#FFFFFF\" height=\"45.9375\" id=\"E7\" style=\"stroke: #383838; stroke-width: 1.5;\" width=\"177\" x=\"541.5\" y=\"389\"/><text fill=\"#000000\" font-family=\"sans-serif\" font-size=\"12\" font-style=\"italic\" lengthAdjust=\"spacingAndGlyphs\" textLength=\"175\" x=\"542.5\" y=\"405.1387\">«individual occurrence  def»</text><text fill=\"#000000\" font-family=\"sans-serif\" font-size=\"12\" lengthAdjust=\"spacingAndGlyphs\" textLength=\"19\" x=\"620.5\" y=\"419.1074\">Ind</text><line style=\"stroke: #383838; stroke-width: 1.5;\" x1=\"542.5\" x2=\"717.5\" y1=\"426.9375\" y2=\"426.9375\"/></a><!--MD5=[b9389687b975829384b498ac4b7476b2]\n",
       "class E8--><a href=\"psysml:bfc31472-e77d-4111-949c-57e124b09868\" target=\"_top\" title=\"psysml:bfc31472-e77d-4111-949c-57e124b09868\" xlink:actuate=\"onRequest\" xlink:href=\"psysml:bfc31472-e77d-4111-949c-57e124b09868\" xlink:show=\"new\" xlink:title=\"psysml:bfc31472-e77d-4111-949c-57e124b09868\" xlink:type=\"simple\"><rect fill=\"#FFFFFF\" height=\"45.9375\" id=\"E8\" rx=\"10\" ry=\"10\" style=\"stroke: #383838; stroke-width: 1.5;\" width=\"150\" x=\"463\" y=\"495\"/><text fill=\"#000000\" font-family=\"sans-serif\" font-size=\"12\" font-style=\"italic\" lengthAdjust=\"spacingAndGlyphs\" textLength=\"148\" x=\"464\" y=\"511.1387\">«snapshot occurrence»</text><text fill=\"#000000\" font-family=\"sans-serif\" font-size=\"12\" lengthAdjust=\"spacingAndGlyphs\" textLength=\"15\" x=\"528.5\" y=\"525.1074\">s2</text><line style=\"stroke: #383838; stroke-width: 1.5;\" x1=\"464\" x2=\"612\" y1=\"532.9375\" y2=\"532.9375\"/></a><!--MD5=[fd4143e9d270a159db93a4ea2a975926]\n",
       "class E9--><a href=\"psysml:25521b86-d75d-41e6-9d0e-592064bc2653\" target=\"_top\" title=\"psysml:25521b86-d75d-41e6-9d0e-592064bc2653\" xlink:actuate=\"onRequest\" xlink:href=\"psysml:25521b86-d75d-41e6-9d0e-592064bc2653\" xlink:show=\"new\" xlink:title=\"psysml:25521b86-d75d-41e6-9d0e-592064bc2653\" xlink:type=\"simple\"><rect fill=\"#FFFFFF\" height=\"45.9375\" id=\"E9\" rx=\"10\" ry=\"10\" style=\"stroke: #383838; stroke-width: 1.5;\" width=\"146\" x=\"648\" y=\"495\"/><text fill=\"#000000\" font-family=\"sans-serif\" font-size=\"12\" font-style=\"italic\" lengthAdjust=\"spacingAndGlyphs\" textLength=\"144\" x=\"649\" y=\"511.1387\">«timeslice occurrence»</text><text fill=\"#000000\" font-family=\"sans-serif\" font-size=\"12\" lengthAdjust=\"spacingAndGlyphs\" textLength=\"13\" x=\"712.5\" y=\"525.1074\">t2</text><line style=\"stroke: #383838; stroke-width: 1.5;\" x1=\"649\" x2=\"793\" y1=\"532.9375\" y2=\"532.9375\"/></a><!--MD5=[96f4274e9e20536e775497830990834d]\n",
       "class E10--><a href=\"psysml:ec83ca81-a881-4da3-97a0-46e2b6aae84c\" target=\"_top\" title=\"psysml:ec83ca81-a881-4da3-97a0-46e2b6aae84c\" xlink:actuate=\"onRequest\" xlink:href=\"psysml:ec83ca81-a881-4da3-97a0-46e2b6aae84c\" xlink:show=\"new\" xlink:title=\"psysml:ec83ca81-a881-4da3-97a0-46e2b6aae84c\" xlink:type=\"simple\"><rect fill=\"#FFFFFF\" height=\"45.9375\" id=\"E10\" rx=\"10\" ry=\"10\" style=\"stroke: #383838; stroke-width: 1.5;\" width=\"149\" x=\"505.5\" y=\"41\"/><text fill=\"#000000\" font-family=\"sans-serif\" font-size=\"12\" font-style=\"italic\" lengthAdjust=\"spacingAndGlyphs\" textLength=\"147\" x=\"506.5\" y=\"57.1387\">«individual occurrence»</text><text fill=\"#000000\" font-family=\"sans-serif\" font-size=\"12\" lengthAdjust=\"spacingAndGlyphs\" textLength=\"77\" x=\"539.5\" y=\"71.1074\">ind: Ind, Occ</text><line style=\"stroke: #383838; stroke-width: 1.5;\" x1=\"506.5\" x2=\"653.5\" y1=\"78.9375\" y2=\"78.9375\"/></a><!--MD5=[1dd1bfd58a279cf63c5f349dbc8fc6a1]\n",
       "class E11--><a href=\"psysml:fe74329f-5d2b-4ebe-b106-a7ecca7a6fbd\" target=\"_top\" title=\"psysml:fe74329f-5d2b-4ebe-b106-a7ecca7a6fbd\" xlink:actuate=\"onRequest\" xlink:href=\"psysml:fe74329f-5d2b-4ebe-b106-a7ecca7a6fbd\" xlink:show=\"new\" xlink:title=\"psysml:fe74329f-5d2b-4ebe-b106-a7ecca7a6fbd\" xlink:type=\"simple\"><rect fill=\"#FFFFFF\" height=\"45.9375\" id=\"E11\" rx=\"10\" ry=\"10\" style=\"stroke: #383838; stroke-width: 1.5;\" width=\"150\" x=\"561\" y=\"162\"/><text fill=\"#000000\" font-family=\"sans-serif\" font-size=\"12\" font-style=\"italic\" lengthAdjust=\"spacingAndGlyphs\" textLength=\"148\" x=\"562\" y=\"178.1387\">«snapshot occurrence»</text><text fill=\"#000000\" font-family=\"sans-serif\" font-size=\"12\" lengthAdjust=\"spacingAndGlyphs\" textLength=\"15\" x=\"626.5\" y=\"192.1074\">s3</text><line style=\"stroke: #383838; stroke-width: 1.5;\" x1=\"562\" x2=\"710\" y1=\"199.9375\" y2=\"199.9375\"/></a><!--MD5=[49a0ec8f00dab7302a31f22d0f0fe584]\n",
       "class E12--><a href=\"psysml:6925098a-d5ed-431f-aaf1-d453853f914b\" target=\"_top\" title=\"psysml:6925098a-d5ed-431f-aaf1-d453853f914b\" xlink:actuate=\"onRequest\" xlink:href=\"psysml:6925098a-d5ed-431f-aaf1-d453853f914b\" xlink:show=\"new\" xlink:title=\"psysml:6925098a-d5ed-431f-aaf1-d453853f914b\" xlink:type=\"simple\"><rect fill=\"#FFFFFF\" height=\"45.9375\" id=\"E12\" rx=\"10\" ry=\"10\" style=\"stroke: #383838; stroke-width: 1.5;\" width=\"208\" x=\"746\" y=\"162\"/><text fill=\"#000000\" font-family=\"sans-serif\" font-size=\"12\" font-style=\"italic\" lengthAdjust=\"spacingAndGlyphs\" textLength=\"206\" x=\"747\" y=\"178.1387\">«individual timeslice occurrence»</text><text fill=\"#000000\" font-family=\"sans-serif\" font-size=\"12\" lengthAdjust=\"spacingAndGlyphs\" textLength=\"13\" x=\"841.5\" y=\"192.1074\">t3</text><line style=\"stroke: #383838; stroke-width: 1.5;\" x1=\"747\" x2=\"953\" y1=\"199.9375\" y2=\"199.9375\"/></a><!--MD5=[ee3c913d1a06f366521f9ef512b67efe]\n",
       "class E13--><a href=\"psysml:4e4d3416-6ae1-42d7-bc86-2084c913e314\" target=\"_top\" title=\"psysml:4e4d3416-6ae1-42d7-bc86-2084c913e314\" xlink:actuate=\"onRequest\" xlink:href=\"psysml:4e4d3416-6ae1-42d7-bc86-2084c913e314\" xlink:show=\"new\" xlink:title=\"psysml:4e4d3416-6ae1-42d7-bc86-2084c913e314\" xlink:type=\"simple\"><rect fill=\"#FFFFFF\" height=\"45.9375\" id=\"E13\" rx=\"10\" ry=\"10\" style=\"stroke: #383838; stroke-width: 1.5;\" width=\"212\" x=\"32\" y=\"283\"/><text fill=\"#000000\" font-family=\"sans-serif\" font-size=\"12\" font-style=\"italic\" lengthAdjust=\"spacingAndGlyphs\" textLength=\"210\" x=\"33\" y=\"299.1387\">«individual snapshot occurrence»</text><text fill=\"#000000\" font-family=\"sans-serif\" font-size=\"12\" lengthAdjust=\"spacingAndGlyphs\" textLength=\"42\" x=\"115\" y=\"313.1074\">s4: Ind</text><line style=\"stroke: #383838; stroke-width: 1.5;\" x1=\"33\" x2=\"243\" y1=\"320.9375\" y2=\"320.9375\"/></a><!--MD5=[209b3feb70ccb6233bfe1053d122c12c]\n",
       "reverse link E2 to E3--><a href=\"psysml:62ea934f-12d4-42a0-b786-a1086ef654f4\" target=\"_top\" title=\"psysml:62ea934f-12d4-42a0-b786-a1086ef654f4\" xlink:actuate=\"onRequest\" xlink:href=\"psysml:62ea934f-12d4-42a0-b786-a1086ef654f4\" xlink:show=\"new\" xlink:title=\"psysml:62ea934f-12d4-42a0-b786-a1086ef654f4\" xlink:type=\"simple\"><path d=\"M382.83,236.28 C382.83,236.28 382.83,299 382.83,299 C382.83,299 375.92,299 366.8,299 \" fill=\"none\" id=\"E2&lt;-E3\" style=\"stroke: #383838; stroke-width: 1.0;\"/><polygon fill=\"#FFFFFF\" points=\"382.83,223.28,378.83,229.28,382.83,235.28,386.83,229.28,382.83,223.28\" style=\"stroke: #383838; stroke-width: 1.0;\"/></a><!--MD5=[05d275557350bfb9b23a4ef7222b4c39]\n",
       "link E3 to E2--><a href=\"psysml:72edb9ed-f456-4be1-846b-a7c4b7fb6ef3\" target=\"_top\" title=\"psysml:72edb9ed-f456-4be1-846b-a7c4b7fb6ef3\" xlink:actuate=\"onRequest\" xlink:href=\"psysml:72edb9ed-f456-4be1-846b-a7c4b7fb6ef3\" xlink:show=\"new\" xlink:title=\"psysml:72edb9ed-f456-4be1-846b-a7c4b7fb6ef3\" xlink:type=\"simple\"><path d=\"M366.8,314 C380.53,314 392.17,314 392.17,314 C392.17,314 392.17,243.01 392.17,243.01 \" fill=\"none\" id=\"E3-&gt;E2\" style=\"stroke: #383838; stroke-width: 1.0;\"/><polygon fill=\"#FFFFFF\" points=\"392.17,223.01,399.17,242.01,385.17,242.01,392.17,223.01\" style=\"stroke: #383838; stroke-width: 1.0;\"/><ellipse cx=\"397.17\" cy=\"247.71\" fill=\"#383838\" rx=\"2\" ry=\"2\" style=\"stroke: #383838; stroke-width: 1.0;\"/><ellipse cx=\"387.17\" cy=\"247.71\" fill=\"#383838\" rx=\"2\" ry=\"2\" style=\"stroke: #383838; stroke-width: 1.0;\"/></a><!--MD5=[9618e71518536f8baf3342ff6fdab317]\n",
       "reverse link E2 to E4--><a href=\"psysml:1930a264-e184-4aca-ae40-6206f5d09a7f\" target=\"_top\" title=\"psysml:1930a264-e184-4aca-ae40-6206f5d09a7f\" xlink:actuate=\"onRequest\" xlink:href=\"psysml:1930a264-e184-4aca-ae40-6206f5d09a7f\" xlink:show=\"new\" xlink:title=\"psysml:1930a264-e184-4aca-ae40-6206f5d09a7f\" xlink:type=\"simple\"><path d=\"M430.5,236.29 C430.5,236.29 430.5,282.74 430.5,282.74 \" fill=\"none\" id=\"E2&lt;-E4\" style=\"stroke: #383838; stroke-width: 1.0;\"/><polygon fill=\"#383838\" points=\"430.5,223.29,426.5,229.29,430.5,235.29,434.5,229.29,430.5,223.29\" style=\"stroke: #383838; stroke-width: 1.0;\"/></a><!--MD5=[185131fc0dcab0a4505a2ebe144e961b]\n",
       "link E4 to E2--><a href=\"psysml:32367fe5-1bb2-4952-a335-a8970d1d9f84\" target=\"_top\" title=\"psysml:32367fe5-1bb2-4952-a335-a8970d1d9f84\" xlink:actuate=\"onRequest\" xlink:href=\"psysml:32367fe5-1bb2-4952-a335-a8970d1d9f84\" xlink:show=\"new\" xlink:title=\"psysml:32367fe5-1bb2-4952-a335-a8970d1d9f84\" xlink:type=\"simple\"><path d=\"M459.5,282.96 C459.5,282.96 459.5,243.19 459.5,243.19 \" fill=\"none\" id=\"E4-&gt;E2\" style=\"stroke: #383838; stroke-width: 1.0;\"/><polygon fill=\"#FFFFFF\" points=\"459.5,223.19,466.5,242.19,452.5,242.19,459.5,223.19\" style=\"stroke: #383838; stroke-width: 1.0;\"/><ellipse cx=\"464.5\" cy=\"247.89\" fill=\"#383838\" rx=\"2\" ry=\"2\" style=\"stroke: #383838; stroke-width: 1.0;\"/><ellipse cx=\"454.5\" cy=\"247.89\" fill=\"#383838\" rx=\"2\" ry=\"2\" style=\"stroke: #383838; stroke-width: 1.0;\"/></a><!--MD5=[4e1a83fab71cdb913c109063314ae896]\n",
       "reverse link E2 to E5--><a href=\"psysml:0faf658f-4e02-48cd-849b-e0220b5d7629\" target=\"_top\" title=\"psysml:0faf658f-4e02-48cd-849b-e0220b5d7629\" xlink:actuate=\"onRequest\" xlink:href=\"psysml:0faf658f-4e02-48cd-849b-e0220b5d7629\" xlink:show=\"new\" xlink:title=\"psysml:0faf658f-4e02-48cd-849b-e0220b5d7629\" xlink:type=\"simple\"><path d=\"M501.71,218 C501.71,218 542.5,218 542.5,218 C542.5,218 542.5,256.81 542.5,282.88 \" fill=\"none\" id=\"E2&lt;-E5\" style=\"stroke: #383838; stroke-width: 1.0;\"/><polygon fill=\"#383838\" points=\"488.71,218,494.71,222,500.71,218,494.71,214,488.71,218\" style=\"stroke: #383838; stroke-width: 1.0;\"/></a><!--MD5=[ce036f65110ae2351ccce5a81dc2e928]\n",
       "reverse link E2 to E6--><a href=\"psysml:3f965610-dfca-4051-a1f3-35306b55574a\" target=\"_top\" title=\"psysml:3f965610-dfca-4051-a1f3-35306b55574a\" xlink:actuate=\"onRequest\" xlink:href=\"psysml:3f965610-dfca-4051-a1f3-35306b55574a\" xlink:show=\"new\" xlink:title=\"psysml:3f965610-dfca-4051-a1f3-35306b55574a\" xlink:type=\"simple\"><path d=\"M501.86,213 C501.86,213 844,213 844,213 C844,213 844,254.98 844,282.53 \" fill=\"none\" id=\"E2&lt;-E6\" style=\"stroke: #383838; stroke-width: 1.0;\"/><polygon fill=\"#383838\" points=\"488.86,213,494.86,217,500.86,213,494.86,209,488.86,213\" style=\"stroke: #383838; stroke-width: 1.0;\"/></a><!--MD5=[3a9b96bfbf6b6ad89c494e81751bda47]\n",
       "link E5 to E7--><a href=\"psysml:5b4e0f94-bd6c-4a04-8036-e6bb7f85be93\" target=\"_top\" title=\"psysml:5b4e0f94-bd6c-4a04-8036-e6bb7f85be93\" xlink:actuate=\"onRequest\" xlink:href=\"psysml:5b4e0f94-bd6c-4a04-8036-e6bb7f85be93\" xlink:show=\"new\" xlink:title=\"psysml:5b4e0f94-bd6c-4a04-8036-e6bb7f85be93\" xlink:type=\"simple\"><path d=\"M630,329 C630,329 630,368.68 630,368.68 \" fill=\"none\" id=\"E5-&gt;E7\" style=\"stroke: #383838; stroke-width: 1.0;\"/><polygon fill=\"#FFFFFF\" points=\"630,388.68,623,369.68,637,369.68,630,388.68\" style=\"stroke: #383838; stroke-width: 1.0;\"/><ellipse cx=\"625\" cy=\"363.98\" fill=\"#383838\" rx=\"2\" ry=\"2\" style=\"stroke: #383838; stroke-width: 1.0;\"/><ellipse cx=\"635\" cy=\"363.98\" fill=\"#383838\" rx=\"2\" ry=\"2\" style=\"stroke: #383838; stroke-width: 1.0;\"/></a><!--MD5=[dc164f5e8a733ab456ef1add180e9e34]\n",
       "reverse link E7 to E8--><a href=\"psysml:37f490ca-8c9f-44ef-b281-38d91f32f2bf\" target=\"_top\" title=\"psysml:37f490ca-8c9f-44ef-b281-38d91f32f2bf\" xlink:actuate=\"onRequest\" xlink:href=\"psysml:37f490ca-8c9f-44ef-b281-38d91f32f2bf\" xlink:show=\"new\" xlink:title=\"psysml:37f490ca-8c9f-44ef-b281-38d91f32f2bf\" xlink:type=\"simple\"><path d=\"M577.25,448 C577.25,448 577.25,494.68 577.25,494.68 \" fill=\"none\" id=\"E7&lt;-E8\" style=\"stroke: #383838; stroke-width: 1.0;\"/><polygon fill=\"#383838\" points=\"577.25,435,573.25,441,577.25,447,581.25,441,577.25,435\" style=\"stroke: #383838; stroke-width: 1.0;\"/></a><!--MD5=[e4a10ef82d0e328e31cac39a31e58dda]\n",
       "reverse link E7 to E9--><a href=\"psysml:c791e7ed-713f-4106-b9d5-0dfb97ea4543\" target=\"_top\" title=\"psysml:c791e7ed-713f-4106-b9d5-0dfb97ea4543\" xlink:actuate=\"onRequest\" xlink:href=\"psysml:c791e7ed-713f-4106-b9d5-0dfb97ea4543\" xlink:show=\"new\" xlink:title=\"psysml:c791e7ed-713f-4106-b9d5-0dfb97ea4543\" xlink:type=\"simple\"><path d=\"M683.25,448 C683.25,448 683.25,494.68 683.25,494.68 \" fill=\"none\" id=\"E7&lt;-E9\" style=\"stroke: #383838; stroke-width: 1.0;\"/><polygon fill=\"#383838\" points=\"683.25,435,679.25,441,683.25,447,687.25,441,683.25,435\" style=\"stroke: #383838; stroke-width: 1.0;\"/></a><!--MD5=[a919e0967d6f3de553dc51b9865a1d6d]\n",
       "link E10 to E7--><a href=\"psysml:d7bf13fe-2343-4091-93b6-ccc05bfccd1c\" target=\"_top\" title=\"psysml:d7bf13fe-2343-4091-93b6-ccc05bfccd1c\" xlink:actuate=\"onRequest\" xlink:href=\"psysml:d7bf13fe-2343-4091-93b6-ccc05bfccd1c\" xlink:show=\"new\" xlink:title=\"psysml:d7bf13fe-2343-4091-93b6-ccc05bfccd1c\" xlink:type=\"simple\"><path d=\"M517.83,87.17 C517.83,163.92 517.83,405 517.83,405 C517.83,405 521.35,405 521.35,405 \" fill=\"none\" id=\"E10-&gt;E7\" style=\"stroke: #383838; stroke-width: 1.0;\"/><polygon fill=\"#FFFFFF\" points=\"541.35,405,522.35,412,522.35,398,541.35,405\" style=\"stroke: #383838; stroke-width: 1.0;\"/><ellipse cx=\"516.65\" cy=\"410\" fill=\"#383838\" rx=\"2\" ry=\"2\" style=\"stroke: #383838; stroke-width: 1.0;\"/><ellipse cx=\"516.65\" cy=\"400\" fill=\"#383838\" rx=\"2\" ry=\"2\" style=\"stroke: #383838; stroke-width: 1.0;\"/></a><!--MD5=[0f36bececdf0dff6e600d6f64214b0f1]\n",
       "link E10 to E2--><a href=\"psysml:65e23dda-2765-4b86-8b8c-165f4272381c\" target=\"_top\" title=\"psysml:65e23dda-2765-4b86-8b8c-165f4272381c\" xlink:actuate=\"onRequest\" xlink:href=\"psysml:65e23dda-2765-4b86-8b8c-165f4272381c\" xlink:show=\"new\" xlink:title=\"psysml:65e23dda-2765-4b86-8b8c-165f4272381c\" xlink:type=\"simple\"><path d=\"M511.67,87.43 C511.67,114.4 511.67,155 511.67,155 C511.67,155 508.77,155 508.77,155 \" fill=\"none\" id=\"E10-&gt;E2\" style=\"stroke: #383838; stroke-width: 1.0;\"/><polygon fill=\"#FFFFFF\" points=\"488.77,155,507.77,148,507.77,162,488.77,155\" style=\"stroke: #383838; stroke-width: 1.0;\"/><ellipse cx=\"513.47\" cy=\"150\" fill=\"#383838\" rx=\"2\" ry=\"2\" style=\"stroke: #383838; stroke-width: 1.0;\"/><ellipse cx=\"513.47\" cy=\"160\" fill=\"#383838\" rx=\"2\" ry=\"2\" style=\"stroke: #383838; stroke-width: 1.0;\"/></a><!--MD5=[de308be4a2431766a05a907a031c07fc]\n",
       "reverse link E10 to E11--><a href=\"psysml:996a22eb-9701-44d5-9cb6-35ae83d4d1b1\" target=\"_top\" title=\"psysml:996a22eb-9701-44d5-9cb6-35ae83d4d1b1\" xlink:actuate=\"onRequest\" xlink:href=\"psysml:996a22eb-9701-44d5-9cb6-35ae83d4d1b1\" xlink:show=\"new\" xlink:title=\"psysml:996a22eb-9701-44d5-9cb6-35ae83d4d1b1\" xlink:type=\"simple\"><path d=\"M607.75,100.04 C607.75,100.04 607.75,161.63 607.75,161.63 \" fill=\"none\" id=\"E10&lt;-E11\" style=\"stroke: #383838; stroke-width: 1.0;\"/><polygon fill=\"#383838\" points=\"607.75,87.04,603.75,93.04,607.75,99.04,611.75,93.04,607.75,87.04\" style=\"stroke: #383838; stroke-width: 1.0;\"/></a><!--MD5=[1d54f998c6d5961a1a9184be73a7eb6c]\n",
       "reverse link E10 to E12--><a href=\"psysml:da3311a8-2759-47ea-b229-fd34ee887055\" target=\"_top\" title=\"psysml:da3311a8-2759-47ea-b229-fd34ee887055\" xlink:actuate=\"onRequest\" xlink:href=\"psysml:da3311a8-2759-47ea-b229-fd34ee887055\" xlink:show=\"new\" xlink:title=\"psysml:da3311a8-2759-47ea-b229-fd34ee887055\" xlink:type=\"simple\"><path d=\"M667.85,64 C667.85,64 850,64 850,64 C850,64 850,126.85 850,161.96 \" fill=\"none\" id=\"E10&lt;-E12\" style=\"stroke: #383838; stroke-width: 1.0;\"/><polygon fill=\"#383838\" points=\"654.85,64,660.85,68,666.85,64,660.85,60,654.85,64\" style=\"stroke: #383838; stroke-width: 1.0;\"/></a><!--MD5=[4a48077df6499cfcd20b62e8f5f37904]\n",
       "link E13 to E7--><a href=\"psysml:fb78d99f-0705-4d43-aabd-2eaf1ce47389\" target=\"_top\" title=\"psysml:fb78d99f-0705-4d43-aabd-2eaf1ce47389\" xlink:actuate=\"onRequest\" xlink:href=\"psysml:fb78d99f-0705-4d43-aabd-2eaf1ce47389\" xlink:show=\"new\" xlink:title=\"psysml:fb78d99f-0705-4d43-aabd-2eaf1ce47389\" xlink:type=\"simple\"><path d=\"M138,329.07 C138,362.38 138,420 138,420 C138,420 521.47,420 521.47,420 \" fill=\"none\" id=\"E13-&gt;E7\" style=\"stroke: #383838; stroke-width: 1.0;\"/><polygon fill=\"#FFFFFF\" points=\"541.47,420,522.47,427,522.47,413,541.47,420\" style=\"stroke: #383838; stroke-width: 1.0;\"/><ellipse cx=\"516.77\" cy=\"425\" fill=\"#383838\" rx=\"2\" ry=\"2\" style=\"stroke: #383838; stroke-width: 1.0;\"/><ellipse cx=\"516.77\" cy=\"415\" fill=\"#383838\" rx=\"2\" ry=\"2\" style=\"stroke: #383838; stroke-width: 1.0;\"/></a><!--MD5=[afcf232a9542ce390ab2a0918fb98b6e]\n",
       "@startuml\r\n",
       "skinparam linetype ortho\r\n",
       "skinparam monochrome true\r\n",
       "skinparam classbackgroundcolor white\r\n",
       "skinparam shadowing false\r\n",
       "skinparam wrapWidth 300\r\n",
       "hide circle\r\n",
       "\r\n",
       "package \"OccurrenceTest\" as E1  [[psysml:76f03fcf-c31b-4704-ae9e-b44a23fd6ebe ]]  {\r\n",
       "comp def \"Occ\" as E2  <<(T,blue) occurrence  def>> [[psysml:eaa0b96d-7da2-44a7-b980-6b6f36747918 ]] {\r\n",
       "- - attributes - -\r\n",
       "a\r\n",
       "}\r\n",
       "comp usage \"occ1: Occ \" as E3  <<(T,blue) occurrence>> [[psysml:87fca259-1c14-4b5b-983e-37895f6ff77b ]] {\r\n",
       "}\r\n",
       "comp usage \"occ2: Occ \" as E4  <<(T,blue) occurrence>> [[psysml:ffd2f288-180d-4271-8880-cf9706207ba2 ]] {\r\n",
       "}\r\n",
       "comp usage \"s: Ind \" as E5  <<(T,blue) individual snapshot occurrence>> [[psysml:4e1769cc-a186-417e-91f0-587d1f1196e7 ]] {\r\n",
       "}\r\n",
       "comp usage \"t \" as E6  <<(T,blue) timeslice occurrence>> [[psysml:9c61ac47-8b4e-45e2-802a-f3aa096140c4 ]] {\r\n",
       "}\r\n",
       "comp def \"Ind\" as E7  <<(T,blue) individual occurrence  def>> [[psysml:54e4af67-f268-48a3-80b8-bc1579f32c01 ]] {\r\n",
       "}\r\n",
       "comp usage \"s2 \" as E8  <<(T,blue) snapshot occurrence>> [[psysml:bfc31472-e77d-4111-949c-57e124b09868 ]] {\r\n",
       "}\r\n",
       "comp usage \"t2 \" as E9  <<(T,blue) timeslice occurrence>> [[psysml:25521b86-d75d-41e6-9d0e-592064bc2653 ]] {\r\n",
       "}\r\n",
       "comp usage \"ind: Ind, Occ \" as E10  <<(T,blue) individual occurrence>> [[psysml:ec83ca81-a881-4da3-97a0-46e2b6aae84c ]] {\r\n",
       "}\r\n",
       "comp usage \"s3 \" as E11  <<(T,blue) snapshot occurrence>> [[psysml:fe74329f-5d2b-4ebe-b106-a7ecca7a6fbd ]] {\r\n",
       "}\r\n",
       "comp usage \"t3 \" as E12  <<(T,blue) individual timeslice occurrence>> [[psysml:6925098a-d5ed-431f-aaf1-d453853f914b ]] {\r\n",
       "}\r\n",
       "comp usage \"s4: Ind \" as E13  <<(T,blue) individual snapshot occurrence>> [[psysml:4e4d3416-6ae1-42d7-bc86-2084c913e314 ]] {\r\n",
       "}\r\n",
       "}\r\n",
       "E2 o- - E3 [[psysml:62ea934f-12d4-42a0-b786-a1086ef654f4 ]] \r\n",
       "E3 - -:|> E2 [[psysml:72edb9ed-f456-4be1-846b-a7c4b7fb6ef3 ]] \r\n",
       "E2 *- - E4 [[psysml:1930a264-e184-4aca-ae40-6206f5d09a7f ]] \r\n",
       "E4 - -:|> E2 [[psysml:32367fe5-1bb2-4952-a335-a8970d1d9f84 ]] \r\n",
       "E2 *- - E5 [[psysml:0faf658f-4e02-48cd-849b-e0220b5d7629 ]] \r\n",
       "E2 *- - E6 [[psysml:3f965610-dfca-4051-a1f3-35306b55574a ]] \r\n",
       "E5 - -:|> E7 [[psysml:5b4e0f94-bd6c-4a04-8036-e6bb7f85be93 ]] \r\n",
       "E7 *- - E8 [[psysml:37f490ca-8c9f-44ef-b281-38d91f32f2bf ]] \r\n",
       "E7 *- - E9 [[psysml:c791e7ed-713f-4106-b9d5-0dfb97ea4543 ]] \r\n",
       "E10 - -:|> E7 [[psysml:d7bf13fe-2343-4091-93b6-ccc05bfccd1c ]] \r\n",
       "E10 - -:|> E2 [[psysml:65e23dda-2765-4b86-8b8c-165f4272381c ]] \r\n",
       "E10 *- - E11 [[psysml:996a22eb-9701-44d5-9cb6-35ae83d4d1b1 ]] \r\n",
       "E10 *- - E12 [[psysml:da3311a8-2759-47ea-b229-fd34ee887055 ]] \r\n",
       "E13 - -:|> E7 [[psysml:fb78d99f-0705-4d43-aabd-2eaf1ce47389 ]] \r\n",
       "@enduml\r\n",
       "\n",
       "PlantUML version 1.2020.13(Sat Jun 13 12:26:38 UTC 2020)\n",
       "(EPL source distribution)\n",
       "Java Runtime: OpenJDK Runtime Environment\n",
       "JVM: OpenJDK 64-Bit Server VM\n",
       "Default Encoding: UTF-8\n",
       "Language: en\n",
       "Country: null\n",
       "--></g></svg>"
      ]
     },
     "execution_count": 57,
     "metadata": {},
     "output_type": "execute_result"
    }
   ],
   "source": [
    "%viz --style=\"ORTHOLINE\" --view=\"MIXED\" \"OccurrenceTest\""
   ]
  }
 ],
 "metadata": {
  "kernelspec": {
   "display_name": "SysML",
   "language": "sysml",
   "name": "sysml"
  },
  "language_info": {
   "codemirror_mode": "sysml",
   "file_extension": ".sysml",
   "mimetype": "text/x-sysml",
   "name": "SysML",
   "pygments_lexer": "java",
   "version": "1.0.0"
  }
 },
 "nbformat": 4,
 "nbformat_minor": 5
}
