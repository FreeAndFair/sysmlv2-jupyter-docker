{
 "cells": [
  {
   "cell_type": "markdown",
   "id": "e2a98121",
   "metadata": {},
   "source": [
    "# SysML v2 Test Suite\n",
    "\n",
    "This can notebook can be cleared using menu `Edit --> Clear All Outputs` and then all cells can be\n",
    "run using menu `Run --> Run All Cells`.\n",
    "\n",
    "**WARNING**: This file is generated, all modifications here will be ignored.\n"
   ]
  },
  {
   "cell_type": "markdown",
   "id": "649953e8",
   "metadata": {},
   "source": [
    "## File: ../../sysml/src/examples/Simple Tests/ImportTest.sysml"
   ]
  },
  {
   "cell_type": "code",
   "execution_count": 1,
   "id": "22e4851c",
   "metadata": {
    "execution": {
     "iopub.execute_input": "2022-02-18T10:46:56.847411Z",
     "iopub.status.busy": "2022-02-18T10:46:56.846251Z",
     "iopub.status.idle": "2022-02-18T10:46:56.952649Z",
     "shell.execute_reply": "2022-02-18T10:46:56.952211Z"
    }
   },
   "outputs": [
    {
     "data": {
      "text/plain": [
       "Package ImportTest (8019bdbb-ffa8-4987-aa8d-da2b3e2e85b1)\n"
      ]
     },
     "execution_count": 1,
     "metadata": {},
     "output_type": "execute_result"
    }
   ],
   "source": [
    "package ImportTest {\n",
    "    package Pkg1 {\n",
    "    \timport Pkg2::Pkg21::Pkg211::P211;\n",
    "    \timport Pkg2::Pkg21::*;\n",
    "    \timport Pkg211::*::**;\n",
    "        part p11 : Pkg211::P211;\n",
    "        part def P12;\n",
    "    }\n",
    "\n",
    "    package Pkg2 {\n",
    "        import Pkg1::*;\n",
    "        package Pkg21 {\n",
    "        \tpackage Pkg211 {\n",
    "        \t\tpart def P211 :> P12;\n",
    "        \t}\n",
    "        }\n",
    "    }\n",
    "}"
   ]
  },
  {
   "cell_type": "code",
   "execution_count": 2,
   "id": "0fe8ba9e",
   "metadata": {
    "execution": {
     "iopub.execute_input": "2022-02-18T10:46:57.003538Z",
     "iopub.status.busy": "2022-02-18T10:46:57.003103Z",
     "iopub.status.idle": "2022-02-18T10:46:57.464360Z",
     "shell.execute_reply": "2022-02-18T10:46:57.463963Z"
    }
   },
   "outputs": [
    {
     "data": {
      "image/svg+xml": [
       "<?xml version=\"1.0\" encoding=\"UTF-8\" standalone=\"no\"?><svg xmlns=\"http://www.w3.org/2000/svg\" xmlns:xlink=\"http://www.w3.org/1999/xlink\" contentScriptType=\"application/ecmascript\" contentStyleType=\"text/css\" height=\"590px\" preserveAspectRatio=\"none\" style=\"width:522px;height:590px;\" version=\"1.1\" viewBox=\"0 0 522 590\" width=\"522px\" zoomAndPan=\"magnify\"><defs/><g><!--MD5=[fbc87193dbaf4d95561dea2c320d4a47]\n",
       "cluster E1--><a href=\"psysml:4ef55e29-a78c-4120-8a0e-706d60f3b916\" target=\"_top\" title=\"psysml:4ef55e29-a78c-4120-8a0e-706d60f3b916\" xlink:actuate=\"onRequest\" xlink:href=\"psysml:4ef55e29-a78c-4120-8a0e-706d60f3b916\" xlink:show=\"new\" xlink:title=\"psysml:4ef55e29-a78c-4120-8a0e-706d60f3b916\" xlink:type=\"simple\"><polygon fill=\"#FFFFFF\" points=\"16,6,97,6,104,28.2969,500,28.2969,500,578,16,578,16,6\" style=\"stroke: #000000; stroke-width: 1.5;\"/><line style=\"stroke: #000000; stroke-width: 1.5;\" x1=\"16\" x2=\"104\" y1=\"28.2969\" y2=\"28.2969\"/><text fill=\"#000000\" font-family=\"sans-serif\" font-size=\"14\" font-weight=\"bold\" lengthAdjust=\"spacingAndGlyphs\" textLength=\"75\" x=\"20\" y=\"20.9951\">ImportTest</text></a><!--MD5=[e4f7fae6ed58524ba242bb0b0d3be6b7]\n",
       "cluster E2--><a href=\"psysml:fc5e85ef-31d8-4451-b981-c90381fde50e\" target=\"_top\" title=\"psysml:fc5e85ef-31d8-4451-b981-c90381fde50e\" xlink:actuate=\"onRequest\" xlink:href=\"psysml:fc5e85ef-31d8-4451-b981-c90381fde50e\" xlink:show=\"new\" xlink:title=\"psysml:fc5e85ef-31d8-4451-b981-c90381fde50e\" xlink:type=\"simple\"><polygon fill=\"#FFFFFF\" points=\"222,57,263,57,270,79.2969,468,79.2969,468,170,222,170,222,57\" style=\"stroke: #000000; stroke-width: 1.5;\"/><line style=\"stroke: #000000; stroke-width: 1.5;\" x1=\"222\" x2=\"270\" y1=\"79.2969\" y2=\"79.2969\"/><text fill=\"#000000\" font-family=\"sans-serif\" font-size=\"14\" font-weight=\"bold\" lengthAdjust=\"spacingAndGlyphs\" textLength=\"35\" x=\"226\" y=\"71.9951\">Pkg1</text></a><!--MD5=[de5ec2e2e8f62f467e546659f5068c88]\n",
       "cluster E5--><a href=\"psysml:c270e78f-1935-46bf-a024-66cb4836716b\" target=\"_top\" title=\"psysml:c270e78f-1935-46bf-a024-66cb4836716b\" xlink:actuate=\"onRequest\" xlink:href=\"psysml:c270e78f-1935-46bf-a024-66cb4836716b\" xlink:show=\"new\" xlink:title=\"psysml:c270e78f-1935-46bf-a024-66cb4836716b\" xlink:type=\"simple\"><polygon fill=\"#FFFFFF\" points=\"121,235,162,235,169,257.2969,434,257.2969,434,546,121,546,121,235\" style=\"stroke: #000000; stroke-width: 1.5;\"/><line style=\"stroke: #000000; stroke-width: 1.5;\" x1=\"121\" x2=\"169\" y1=\"257.2969\" y2=\"257.2969\"/><text fill=\"#000000\" font-family=\"sans-serif\" font-size=\"14\" font-weight=\"bold\" lengthAdjust=\"spacingAndGlyphs\" textLength=\"35\" x=\"125\" y=\"249.9951\">Pkg2</text></a><!--MD5=[14e3b0961a2654348d326746436168a1]\n",
       "cluster E6--><a href=\"psysml:ed944fef-70b9-4524-9917-716ca36e9ac1\" target=\"_top\" title=\"psysml:ed944fef-70b9-4524-9917-716ca36e9ac1\" xlink:actuate=\"onRequest\" xlink:href=\"psysml:ed944fef-70b9-4524-9917-716ca36e9ac1\" xlink:show=\"new\" xlink:title=\"psysml:ed944fef-70b9-4524-9917-716ca36e9ac1\" xlink:type=\"simple\"><polygon fill=\"#FFFFFF\" points=\"161,294,211,294,218,316.2969,386,316.2969,386,506,161,506,161,294\" style=\"stroke: #000000; stroke-width: 1.5;\"/><line style=\"stroke: #000000; stroke-width: 1.5;\" x1=\"161\" x2=\"218\" y1=\"316.2969\" y2=\"316.2969\"/><text fill=\"#000000\" font-family=\"sans-serif\" font-size=\"14\" font-weight=\"bold\" lengthAdjust=\"spacingAndGlyphs\" textLength=\"44\" x=\"165\" y=\"308.9951\">Pkg21</text></a><!--MD5=[168fadf3d0c3fd93dd5d6da1b1d7ab76]\n",
       "cluster E7--><a href=\"psysml:9f58dbb8-6a8c-4281-a4ad-0fbab28478f4\" target=\"_top\" title=\"psysml:9f58dbb8-6a8c-4281-a4ad-0fbab28478f4\" xlink:actuate=\"onRequest\" xlink:href=\"psysml:9f58dbb8-6a8c-4281-a4ad-0fbab28478f4\" xlink:show=\"new\" xlink:title=\"psysml:9f58dbb8-6a8c-4281-a4ad-0fbab28478f4\" xlink:type=\"simple\"><polygon fill=\"#FFFFFF\" points=\"209,353,268,353,275,375.2969,346,375.2969,346,466,209,466,209,353\" style=\"stroke: #000000; stroke-width: 1.5;\"/><line style=\"stroke: #000000; stroke-width: 1.5;\" x1=\"209\" x2=\"275\" y1=\"375.2969\" y2=\"375.2969\"/><text fill=\"#000000\" font-family=\"sans-serif\" font-size=\"14\" font-weight=\"bold\" lengthAdjust=\"spacingAndGlyphs\" textLength=\"53\" x=\"213\" y=\"367.9951\">Pkg211</text></a><!--MD5=[09b614a08d8cba4a07c9adeb5e0fee81]\n",
       "class E3--><a href=\"psysml:fe6123c1-7336-461e-a67a-648132fed175\" target=\"_top\" title=\"psysml:fe6123c1-7336-461e-a67a-648132fed175\" xlink:actuate=\"onRequest\" xlink:href=\"psysml:fe6123c1-7336-461e-a67a-648132fed175\" xlink:show=\"new\" xlink:title=\"psysml:fe6123c1-7336-461e-a67a-648132fed175\" xlink:type=\"simple\"><rect fill=\"#FFFFFF\" height=\"45.9375\" id=\"E3\" rx=\"10\" ry=\"10\" style=\"stroke: #383838; stroke-width: 1.5;\" width=\"74\" x=\"265\" y=\"100\"/><text fill=\"#000000\" font-family=\"sans-serif\" font-size=\"12\" font-style=\"italic\" lengthAdjust=\"spacingAndGlyphs\" textLength=\"40\" x=\"282\" y=\"116.1387\">«part»</text><text fill=\"#000000\" font-family=\"sans-serif\" font-size=\"12\" lengthAdjust=\"spacingAndGlyphs\" textLength=\"64\" x=\"268\" y=\"130.1074\">p11: P211</text><line style=\"stroke: #383838; stroke-width: 1.5;\" x1=\"266\" x2=\"338\" y1=\"137.9375\" y2=\"137.9375\"/></a><!--MD5=[ebbe1d658d1005bcc118a6aa81145e00]\n",
       "class E4--><a href=\"psysml:1380541e-fc30-40f5-9a60-edda9aa0065e\" target=\"_top\" title=\"psysml:1380541e-fc30-40f5-9a60-edda9aa0065e\" xlink:actuate=\"onRequest\" xlink:href=\"psysml:1380541e-fc30-40f5-9a60-edda9aa0065e\" xlink:show=\"new\" xlink:title=\"psysml:1380541e-fc30-40f5-9a60-edda9aa0065e\" xlink:type=\"simple\"><rect fill=\"#FFFFFF\" height=\"45.9375\" id=\"E4\" style=\"stroke: #383838; stroke-width: 1.5;\" width=\"70\" x=\"374\" y=\"100\"/><text fill=\"#000000\" font-family=\"sans-serif\" font-size=\"12\" font-style=\"italic\" lengthAdjust=\"spacingAndGlyphs\" textLength=\"68\" x=\"375\" y=\"116.1387\">«part  def»</text><text fill=\"#000000\" font-family=\"sans-serif\" font-size=\"12\" lengthAdjust=\"spacingAndGlyphs\" textLength=\"24\" x=\"397\" y=\"130.1074\">P12</text><line style=\"stroke: #383838; stroke-width: 1.5;\" x1=\"375\" x2=\"443\" y1=\"137.9375\" y2=\"137.9375\"/></a><!--MD5=[b9389687b975829384b498ac4b7476b2]\n",
       "class E8--><a href=\"psysml:4acbdff1-c8fe-48cb-afd1-a68daa112cad\" target=\"_top\" title=\"psysml:4acbdff1-c8fe-48cb-afd1-a68daa112cad\" xlink:actuate=\"onRequest\" xlink:href=\"psysml:4acbdff1-c8fe-48cb-afd1-a68daa112cad\" xlink:show=\"new\" xlink:title=\"psysml:4acbdff1-c8fe-48cb-afd1-a68daa112cad\" xlink:type=\"simple\"><rect fill=\"#FFFFFF\" height=\"45.9375\" id=\"E8\" style=\"stroke: #383838; stroke-width: 1.5;\" width=\"70\" x=\"252\" y=\"396\"/><text fill=\"#000000\" font-family=\"sans-serif\" font-size=\"12\" font-style=\"italic\" lengthAdjust=\"spacingAndGlyphs\" textLength=\"68\" x=\"253\" y=\"412.1387\">«part  def»</text><text fill=\"#000000\" font-family=\"sans-serif\" font-size=\"12\" lengthAdjust=\"spacingAndGlyphs\" textLength=\"32\" x=\"271\" y=\"426.1074\">P211</text><line style=\"stroke: #383838; stroke-width: 1.5;\" x1=\"253\" x2=\"321\" y1=\"433.9375\" y2=\"433.9375\"/></a><!--MD5=[b0060bfdb0500b904584095522b4da3c]\n",
       "link E2 to E8--><a href=\"psysml:4f20d9a0-229b-41ce-a3f9-ec650db8275f\" target=\"_top\" title=\"psysml:4f20d9a0-229b-41ce-a3f9-ec650db8275f\" xlink:actuate=\"onRequest\" xlink:href=\"psysml:4f20d9a0-229b-41ce-a3f9-ec650db8275f\" xlink:show=\"new\" xlink:title=\"psysml:4f20d9a0-229b-41ce-a3f9-ec650db8275f\" xlink:type=\"simple\"><path d=\"M239.5673,170.044 C239.9187,170.8643 240.2829,171.6796 240.6605,172.4884 C241.4156,174.106 242.2242,175.6975 243.0899,177.2503 C244.8213,180.3558 246.7813,183.3063 249,186 C253.8,191.83 259.79,187.73 264,194 C304.62,254.46 298.3,345.57 291.84,390.69 \" fill=\"none\" id=\"E2-&gt;E8\" style=\"stroke: #383838; stroke-width: 1.0; stroke-dasharray: 7.0,7.0;\"/><polygon fill=\"#383838\" points=\"291.1,395.69,296.3662,387.3673,291.8271,390.7431,288.4512,386.204,291.1,395.69\" style=\"stroke: #383838; stroke-width: 1.0;\"/><text fill=\"#000000\" font-family=\"sans-serif\" font-size=\"13\" lengthAdjust=\"spacingAndGlyphs\" textLength=\"58\" x=\"274\" y=\"207.0669\">«import»</text></a><!--MD5=[e3e28c1befcf002155aa15e1416b4315]\n",
       "link E2 to E6--><a href=\"psysml:682e8ea7-bcd5-404d-bf47-54c119ed8bb7\" target=\"_top\" title=\"psysml:682e8ea7-bcd5-404d-bf47-54c119ed8bb7\" xlink:actuate=\"onRequest\" xlink:href=\"psysml:682e8ea7-bcd5-404d-bf47-54c119ed8bb7\" xlink:show=\"new\" xlink:title=\"psysml:682e8ea7-bcd5-404d-bf47-54c119ed8bb7\" xlink:type=\"simple\"><path d=\"M221.7454,125.2359 C221.6297,125.2555 221.5129,125.2754 221.395,125.2955 C221.1593,125.3358 220.9193,125.3771 220.6752,125.4195 C220.1869,125.5042 219.6819,125.5933 219.1609,125.6868 C217.0769,126.0607 214.7359,126.5053 212.1769,127.0288 C201.9406,129.1225 188.215,132.4775 173.4875,137.615 C144.0325,147.89 110.57,165.295 93,194 C65.99,238.135 83.98,293.0875 109.2162,337.5175 C121.8344,359.7325 136.2641,379.3169 147.7861,393.6031 C150.6666,397.1747 153.3654,400.4151 155.8087,403.2827 C157.0304,404.7165 158.1881,406.0571 159.2728,407.2993 C159.8152,407.9204 160.3393,408.5169 160.8439,409.0882 \" fill=\"none\" id=\"E2-&gt;E6\" style=\"stroke: #383838; stroke-width: 1.0; stroke-dasharray: 7.0,7.0;\"/><polygon fill=\"#383838\" points=\"160.8439,409.0882,157.8829,399.695,157.5335,405.341,151.8875,404.9916,160.8439,409.0882\" style=\"stroke: #383838; stroke-width: 1.0;\"/><text fill=\"#000000\" font-family=\"sans-serif\" font-size=\"13\" lengthAdjust=\"spacingAndGlyphs\" textLength=\"65\" x=\"94\" y=\"207.0669\">«import»*</text></a><!--MD5=[e3d2a08a9c9236652057e8ed0cbc9b62]\n",
       "link E2 to E7--><a href=\"psysml:60c32f43-2902-493b-8362-f480edbb78ed\" target=\"_top\" title=\"psysml:60c32f43-2902-493b-8362-f480edbb78ed\" xlink:actuate=\"onRequest\" xlink:href=\"psysml:60c32f43-2902-493b-8362-f480edbb78ed\" xlink:show=\"new\" xlink:title=\"psysml:60c32f43-2902-493b-8362-f480edbb78ed\" xlink:type=\"simple\"><path d=\"M221.8807,130.2617 C221.7401,130.3761 221.5982,130.4918 221.4548,130.6091 C216.8678,134.36 210.8594,139.5688 204.5113,145.875 C191.815,158.4875 177.76,175.49 171,194 C168.41,201.1 166.18,205.18 171,211 C183.11,225.64 200.74,204.48 213,219 C227.045,235.63 228.2325,284.0975 225.8175,329.0338 C225.5156,334.6508 225.1575,340.2126 224.7611,345.6502 C224.662,347.0096 224.5605,348.3613 224.4569,349.7041 C224.4051,350.3755 224.3528,351.0446 224.3,351.7115 C224.2736,352.0449 224.2471,352.3777 224.2204,352.71 \" fill=\"none\" id=\"E2-&gt;E7\" style=\"stroke: #383838; stroke-width: 1.0; stroke-dasharray: 7.0,7.0;\"/><polygon fill=\"#383838\" points=\"224.2204,352.71,228.9272,344.0586,224.6202,347.726,220.9528,343.419,224.2204,352.71\" style=\"stroke: #383838; stroke-width: 1.0;\"/><text fill=\"#000000\" font-family=\"sans-serif\" font-size=\"13\" lengthAdjust=\"spacingAndGlyphs\" textLength=\"87\" x=\"172\" y=\"207.0669\">«import»*::**</text></a><!--MD5=[ca5a752d6098d8a44b3f88316e7452d1]\n",
       "link E3 to E8--><a href=\"psysml:37accf74-aaef-4298-a8d1-458e277c829e\" target=\"_top\" title=\"psysml:37accf74-aaef-4298-a8d1-458e277c829e\" xlink:actuate=\"onRequest\" xlink:href=\"psysml:37accf74-aaef-4298-a8d1-458e277c829e\" xlink:show=\"new\" xlink:title=\"psysml:37accf74-aaef-4298-a8d1-458e277c829e\" xlink:type=\"simple\"><path d=\"M321.59,146.07 C339.73,166.51 363.93,193.81 364,194 C366.68,201.06 368.76,205.13 364,211 C353.13,224.4 338.12,206.71 326,219 C285.31,260.27 280.82,330.75 282.81,375.81 \" fill=\"none\" id=\"E3-&gt;E8\" style=\"stroke: #383838; stroke-width: 1.0;\"/><polygon fill=\"#FFFFFF\" points=\"284.19,395.93,275.9039,377.4546,289.8709,376.4948,284.19,395.93\" style=\"stroke: #383838; stroke-width: 1.0;\"/><ellipse cx=\"277.5084\" cy=\"371.6309\" fill=\"#383838\" rx=\"2\" ry=\"2\" style=\"stroke: #383838; stroke-width: 1.0;\"/><ellipse cx=\"287.4849\" cy=\"370.9453\" fill=\"#383838\" rx=\"2\" ry=\"2\" style=\"stroke: #383838; stroke-width: 1.0;\"/></a><!--MD5=[15ebcb19ae302d9b601edb458606d402]\n",
       "link E5 to E2--><a href=\"psysml:a29f5286-6760-4cc8-8866-2ed3ee4f3eda\" target=\"_top\" title=\"psysml:a29f5286-6760-4cc8-8866-2ed3ee4f3eda\" xlink:actuate=\"onRequest\" xlink:href=\"psysml:a29f5286-6760-4cc8-8866-2ed3ee4f3eda\" xlink:show=\"new\" xlink:title=\"psysml:a29f5286-6760-4cc8-8866-2ed3ee4f3eda\" xlink:type=\"simple\"><path d=\"M377.9071,234.5987 C377.6837,234.254 377.4593,233.91 377.2338,233.5668 C376.3317,232.1941 375.413,230.8338 374.4773,229.4868 C372.6059,226.7928 370.6665,224.152 368.6567,221.572 C360.6175,211.2517 351.4513,201.9025 341,194 C324.63,181.62 264.96,198.91 249,186 C246.2863,183.805 243.9511,181.2325 241.9426,178.4061 C240.9384,176.9929 240.0159,175.5163 239.1685,173.9916 C238.7448,173.2292 238.3399,172.4549 237.953,171.6705 C237.7596,171.2782 237.5706,170.8835 237.3861,170.4865 C237.3399,170.3873 237.2941,170.2879 237.2485,170.1883 \" fill=\"none\" id=\"E5-&gt;E2\" style=\"stroke: #383838; stroke-width: 1.0; stroke-dasharray: 7.0,7.0;\"/><polygon fill=\"#383838\" points=\"237.2485,170.1883,237.3599,180.0366,239.3307,174.7341,244.6331,176.705,237.2485,170.1883\" style=\"stroke: #383838; stroke-width: 1.0;\"/><text fill=\"#000000\" font-family=\"sans-serif\" font-size=\"13\" lengthAdjust=\"spacingAndGlyphs\" textLength=\"65\" x=\"356\" y=\"207.0669\">«import»*</text></a><!--MD5=[d7bb3fb34add81b710575eb3799fa2ad]\n",
       "link E8 to E4--><a href=\"psysml:d1a96eaf-259a-4888-9f98-ae46b38eb818\" target=\"_top\" title=\"psysml:d1a96eaf-259a-4888-9f98-ae46b38eb818\" xlink:actuate=\"onRequest\" xlink:href=\"psysml:d1a96eaf-259a-4888-9f98-ae46b38eb818\" xlink:show=\"new\" xlink:title=\"psysml:d1a96eaf-259a-4888-9f98-ae46b38eb818\" xlink:type=\"simple\"><path d=\"M283.6,395.87 C278.58,354.03 274.69,263.54 326,219 C338.77,207.91 466.36,223.27 478,211 C493.94,194.2 479.72,174.01 460.15,157.31 \" fill=\"none\" id=\"E8-&gt;E4\" style=\"stroke: #383838; stroke-width: 1.0;\"/><polygon fill=\"none\" points=\"455.78,162.78,444.15,145.06,464.29,151.66,455.78,162.78\" style=\"stroke: #383838; stroke-width: 1.0;\"/></a><!--MD5=[90fce90356b3401ea75f6abdce0dcf83]\n",
       "@startuml\r\n",
       " skinparam monochrome true\r\n",
       "skinparam classbackgroundcolor white\r\n",
       "skinparam shadowing false\r\n",
       "skinparam wrapWidth 300\r\n",
       "hide circle\r\n",
       "\r\n",
       "package \"ImportTest\" as E1  [[psysml:4ef55e29-a78c-4120-8a0e-706d60f3b916 ]]  {\r\n",
       "package \"Pkg1\" as E2  [[psysml:fc5e85ef-31d8-4451-b981-c90381fde50e ]]  {\r\n",
       "comp usage \"p11: P211 \" as E3  <<(T,blue) part>> [[psysml:fe6123c1-7336-461e-a67a-648132fed175 ]] {\r\n",
       "}\r\n",
       "comp def \"P12\" as E4  <<(T,blue) part  def>> [[psysml:1380541e-fc30-40f5-9a60-edda9aa0065e ]] {\r\n",
       "}\r\n",
       "}\r\n",
       "package \"Pkg2\" as E5  [[psysml:c270e78f-1935-46bf-a024-66cb4836716b ]]  {\r\n",
       "package \"Pkg21\" as E6  [[psysml:ed944fef-70b9-4524-9917-716ca36e9ac1 ]]  {\r\n",
       "package \"Pkg211\" as E7  [[psysml:9f58dbb8-6a8c-4281-a4ad-0fbab28478f4 ]]  {\r\n",
       "comp def \"P211\" as E8  <<(T,blue) part  def>> [[psysml:4acbdff1-c8fe-48cb-afd1-a68daa112cad ]] {\r\n",
       "}\r\n",
       "}\r\n",
       "}\r\n",
       "}\r\n",
       "}\r\n",
       "E2 ..> E8 [[psysml:4f20d9a0-229b-41ce-a3f9-ec650db8275f ]] : <<import>>\r\n",
       "E2 ..> E6 [[psysml:682e8ea7-bcd5-404d-bf47-54c119ed8bb7 ]] : <<import>>*\r\n",
       "E2 ..> E7 [[psysml:60c32f43-2902-493b-8362-f480edbb78ed ]] : <<import>>*::**\r\n",
       "E3 - -:|> E8 [[psysml:37accf74-aaef-4298-a8d1-458e277c829e ]] \r\n",
       "E5 ..> E2 [[psysml:a29f5286-6760-4cc8-8866-2ed3ee4f3eda ]] : <<import>>*\r\n",
       "E8 - -|> E4 [[psysml:d1a96eaf-259a-4888-9f98-ae46b38eb818 ]] \r\n",
       "@enduml\r\n",
       "\n",
       "PlantUML version 1.2020.13(Sat Jun 13 12:26:38 UTC 2020)\n",
       "(EPL source distribution)\n",
       "Java Runtime: OpenJDK Runtime Environment\n",
       "JVM: OpenJDK 64-Bit Server VM\n",
       "Default Encoding: UTF-8\n",
       "Language: en\n",
       "Country: null\n",
       "--></g></svg>"
      ]
     },
     "execution_count": 2,
     "metadata": {},
     "output_type": "execute_result"
    }
   ],
   "source": [
    "%viz --style=\"COMPTREE\" --view=\"Default\" \"ImportTest\""
   ]
  },
  {
   "cell_type": "code",
   "execution_count": 3,
   "id": "63050bbe",
   "metadata": {
    "execution": {
     "iopub.execute_input": "2022-02-18T10:46:57.513905Z",
     "iopub.status.busy": "2022-02-18T10:46:57.513485Z",
     "iopub.status.idle": "2022-02-18T10:46:57.578062Z",
     "shell.execute_reply": "2022-02-18T10:46:57.578369Z"
    }
   },
   "outputs": [
    {
     "data": {
      "image/svg+xml": [
       "<?xml version=\"1.0\" encoding=\"UTF-8\" standalone=\"no\"?><svg xmlns=\"http://www.w3.org/2000/svg\" xmlns:xlink=\"http://www.w3.org/1999/xlink\" contentScriptType=\"application/ecmascript\" contentStyleType=\"text/css\" height=\"590px\" preserveAspectRatio=\"none\" style=\"width:522px;height:590px;\" version=\"1.1\" viewBox=\"0 0 522 590\" width=\"522px\" zoomAndPan=\"magnify\"><defs/><g><!--MD5=[fbc87193dbaf4d95561dea2c320d4a47]\n",
       "cluster E1--><a href=\"psysml:4ef55e29-a78c-4120-8a0e-706d60f3b916\" target=\"_top\" title=\"psysml:4ef55e29-a78c-4120-8a0e-706d60f3b916\" xlink:actuate=\"onRequest\" xlink:href=\"psysml:4ef55e29-a78c-4120-8a0e-706d60f3b916\" xlink:show=\"new\" xlink:title=\"psysml:4ef55e29-a78c-4120-8a0e-706d60f3b916\" xlink:type=\"simple\"><polygon fill=\"#FFFFFF\" points=\"16,6,97,6,104,28.2969,500,28.2969,500,578,16,578,16,6\" style=\"stroke: #000000; stroke-width: 1.5;\"/><line style=\"stroke: #000000; stroke-width: 1.5;\" x1=\"16\" x2=\"104\" y1=\"28.2969\" y2=\"28.2969\"/><text fill=\"#000000\" font-family=\"sans-serif\" font-size=\"14\" font-weight=\"bold\" lengthAdjust=\"spacingAndGlyphs\" textLength=\"75\" x=\"20\" y=\"20.9951\">ImportTest</text></a><!--MD5=[e4f7fae6ed58524ba242bb0b0d3be6b7]\n",
       "cluster E2--><a href=\"psysml:fc5e85ef-31d8-4451-b981-c90381fde50e\" target=\"_top\" title=\"psysml:fc5e85ef-31d8-4451-b981-c90381fde50e\" xlink:actuate=\"onRequest\" xlink:href=\"psysml:fc5e85ef-31d8-4451-b981-c90381fde50e\" xlink:show=\"new\" xlink:title=\"psysml:fc5e85ef-31d8-4451-b981-c90381fde50e\" xlink:type=\"simple\"><polygon fill=\"#FFFFFF\" points=\"222,57,263,57,270,79.2969,468,79.2969,468,170,222,170,222,57\" style=\"stroke: #000000; stroke-width: 1.5;\"/><line style=\"stroke: #000000; stroke-width: 1.5;\" x1=\"222\" x2=\"270\" y1=\"79.2969\" y2=\"79.2969\"/><text fill=\"#000000\" font-family=\"sans-serif\" font-size=\"14\" font-weight=\"bold\" lengthAdjust=\"spacingAndGlyphs\" textLength=\"35\" x=\"226\" y=\"71.9951\">Pkg1</text></a><!--MD5=[de5ec2e2e8f62f467e546659f5068c88]\n",
       "cluster E5--><a href=\"psysml:c270e78f-1935-46bf-a024-66cb4836716b\" target=\"_top\" title=\"psysml:c270e78f-1935-46bf-a024-66cb4836716b\" xlink:actuate=\"onRequest\" xlink:href=\"psysml:c270e78f-1935-46bf-a024-66cb4836716b\" xlink:show=\"new\" xlink:title=\"psysml:c270e78f-1935-46bf-a024-66cb4836716b\" xlink:type=\"simple\"><polygon fill=\"#FFFFFF\" points=\"121,235,162,235,169,257.2969,434,257.2969,434,546,121,546,121,235\" style=\"stroke: #000000; stroke-width: 1.5;\"/><line style=\"stroke: #000000; stroke-width: 1.5;\" x1=\"121\" x2=\"169\" y1=\"257.2969\" y2=\"257.2969\"/><text fill=\"#000000\" font-family=\"sans-serif\" font-size=\"14\" font-weight=\"bold\" lengthAdjust=\"spacingAndGlyphs\" textLength=\"35\" x=\"125\" y=\"249.9951\">Pkg2</text></a><!--MD5=[14e3b0961a2654348d326746436168a1]\n",
       "cluster E6--><a href=\"psysml:ed944fef-70b9-4524-9917-716ca36e9ac1\" target=\"_top\" title=\"psysml:ed944fef-70b9-4524-9917-716ca36e9ac1\" xlink:actuate=\"onRequest\" xlink:href=\"psysml:ed944fef-70b9-4524-9917-716ca36e9ac1\" xlink:show=\"new\" xlink:title=\"psysml:ed944fef-70b9-4524-9917-716ca36e9ac1\" xlink:type=\"simple\"><polygon fill=\"#FFFFFF\" points=\"161,294,211,294,218,316.2969,386,316.2969,386,506,161,506,161,294\" style=\"stroke: #000000; stroke-width: 1.5;\"/><line style=\"stroke: #000000; stroke-width: 1.5;\" x1=\"161\" x2=\"218\" y1=\"316.2969\" y2=\"316.2969\"/><text fill=\"#000000\" font-family=\"sans-serif\" font-size=\"14\" font-weight=\"bold\" lengthAdjust=\"spacingAndGlyphs\" textLength=\"44\" x=\"165\" y=\"308.9951\">Pkg21</text></a><!--MD5=[168fadf3d0c3fd93dd5d6da1b1d7ab76]\n",
       "cluster E7--><a href=\"psysml:9f58dbb8-6a8c-4281-a4ad-0fbab28478f4\" target=\"_top\" title=\"psysml:9f58dbb8-6a8c-4281-a4ad-0fbab28478f4\" xlink:actuate=\"onRequest\" xlink:href=\"psysml:9f58dbb8-6a8c-4281-a4ad-0fbab28478f4\" xlink:show=\"new\" xlink:title=\"psysml:9f58dbb8-6a8c-4281-a4ad-0fbab28478f4\" xlink:type=\"simple\"><polygon fill=\"#FFFFFF\" points=\"209,353,268,353,275,375.2969,346,375.2969,346,466,209,466,209,353\" style=\"stroke: #000000; stroke-width: 1.5;\"/><line style=\"stroke: #000000; stroke-width: 1.5;\" x1=\"209\" x2=\"275\" y1=\"375.2969\" y2=\"375.2969\"/><text fill=\"#000000\" font-family=\"sans-serif\" font-size=\"14\" font-weight=\"bold\" lengthAdjust=\"spacingAndGlyphs\" textLength=\"53\" x=\"213\" y=\"367.9951\">Pkg211</text></a><!--MD5=[09b614a08d8cba4a07c9adeb5e0fee81]\n",
       "class E3--><a href=\"psysml:fe6123c1-7336-461e-a67a-648132fed175\" target=\"_top\" title=\"psysml:fe6123c1-7336-461e-a67a-648132fed175\" xlink:actuate=\"onRequest\" xlink:href=\"psysml:fe6123c1-7336-461e-a67a-648132fed175\" xlink:show=\"new\" xlink:title=\"psysml:fe6123c1-7336-461e-a67a-648132fed175\" xlink:type=\"simple\"><rect fill=\"#FFFFFF\" height=\"45.9375\" id=\"E3\" rx=\"10\" ry=\"10\" style=\"stroke: #383838; stroke-width: 1.5;\" width=\"74\" x=\"265\" y=\"100\"/><text fill=\"#000000\" font-family=\"sans-serif\" font-size=\"12\" font-style=\"italic\" lengthAdjust=\"spacingAndGlyphs\" textLength=\"40\" x=\"282\" y=\"116.1387\">«part»</text><text fill=\"#000000\" font-family=\"sans-serif\" font-size=\"12\" lengthAdjust=\"spacingAndGlyphs\" textLength=\"64\" x=\"268\" y=\"130.1074\">p11: P211</text><line style=\"stroke: #383838; stroke-width: 1.5;\" x1=\"266\" x2=\"338\" y1=\"137.9375\" y2=\"137.9375\"/></a><!--MD5=[ebbe1d658d1005bcc118a6aa81145e00]\n",
       "class E4--><a href=\"psysml:1380541e-fc30-40f5-9a60-edda9aa0065e\" target=\"_top\" title=\"psysml:1380541e-fc30-40f5-9a60-edda9aa0065e\" xlink:actuate=\"onRequest\" xlink:href=\"psysml:1380541e-fc30-40f5-9a60-edda9aa0065e\" xlink:show=\"new\" xlink:title=\"psysml:1380541e-fc30-40f5-9a60-edda9aa0065e\" xlink:type=\"simple\"><rect fill=\"#FFFFFF\" height=\"45.9375\" id=\"E4\" style=\"stroke: #383838; stroke-width: 1.5;\" width=\"70\" x=\"374\" y=\"100\"/><text fill=\"#000000\" font-family=\"sans-serif\" font-size=\"12\" font-style=\"italic\" lengthAdjust=\"spacingAndGlyphs\" textLength=\"68\" x=\"375\" y=\"116.1387\">«part  def»</text><text fill=\"#000000\" font-family=\"sans-serif\" font-size=\"12\" lengthAdjust=\"spacingAndGlyphs\" textLength=\"24\" x=\"397\" y=\"130.1074\">P12</text><line style=\"stroke: #383838; stroke-width: 1.5;\" x1=\"375\" x2=\"443\" y1=\"137.9375\" y2=\"137.9375\"/></a><!--MD5=[b9389687b975829384b498ac4b7476b2]\n",
       "class E8--><a href=\"psysml:4acbdff1-c8fe-48cb-afd1-a68daa112cad\" target=\"_top\" title=\"psysml:4acbdff1-c8fe-48cb-afd1-a68daa112cad\" xlink:actuate=\"onRequest\" xlink:href=\"psysml:4acbdff1-c8fe-48cb-afd1-a68daa112cad\" xlink:show=\"new\" xlink:title=\"psysml:4acbdff1-c8fe-48cb-afd1-a68daa112cad\" xlink:type=\"simple\"><rect fill=\"#FFFFFF\" height=\"45.9375\" id=\"E8\" style=\"stroke: #383838; stroke-width: 1.5;\" width=\"70\" x=\"252\" y=\"396\"/><text fill=\"#000000\" font-family=\"sans-serif\" font-size=\"12\" font-style=\"italic\" lengthAdjust=\"spacingAndGlyphs\" textLength=\"68\" x=\"253\" y=\"412.1387\">«part  def»</text><text fill=\"#000000\" font-family=\"sans-serif\" font-size=\"12\" lengthAdjust=\"spacingAndGlyphs\" textLength=\"32\" x=\"271\" y=\"426.1074\">P211</text><line style=\"stroke: #383838; stroke-width: 1.5;\" x1=\"253\" x2=\"321\" y1=\"433.9375\" y2=\"433.9375\"/></a><!--MD5=[b0060bfdb0500b904584095522b4da3c]\n",
       "link E2 to E8--><a href=\"psysml:4f20d9a0-229b-41ce-a3f9-ec650db8275f\" target=\"_top\" title=\"psysml:4f20d9a0-229b-41ce-a3f9-ec650db8275f\" xlink:actuate=\"onRequest\" xlink:href=\"psysml:4f20d9a0-229b-41ce-a3f9-ec650db8275f\" xlink:show=\"new\" xlink:title=\"psysml:4f20d9a0-229b-41ce-a3f9-ec650db8275f\" xlink:type=\"simple\"><path d=\"M239.5673,170.044 C239.9187,170.8643 240.2829,171.6796 240.6605,172.4884 C241.4156,174.106 242.2242,175.6975 243.0899,177.2503 C244.8213,180.3558 246.7813,183.3063 249,186 C253.8,191.83 259.79,187.73 264,194 C304.62,254.46 298.3,345.57 291.84,390.69 \" fill=\"none\" id=\"E2-&gt;E8\" style=\"stroke: #383838; stroke-width: 1.0; stroke-dasharray: 7.0,7.0;\"/><polygon fill=\"#383838\" points=\"291.1,395.69,296.3662,387.3673,291.8271,390.7431,288.4512,386.204,291.1,395.69\" style=\"stroke: #383838; stroke-width: 1.0;\"/><text fill=\"#000000\" font-family=\"sans-serif\" font-size=\"13\" lengthAdjust=\"spacingAndGlyphs\" textLength=\"58\" x=\"274\" y=\"207.0669\">«import»</text></a><!--MD5=[e3e28c1befcf002155aa15e1416b4315]\n",
       "link E2 to E6--><a href=\"psysml:682e8ea7-bcd5-404d-bf47-54c119ed8bb7\" target=\"_top\" title=\"psysml:682e8ea7-bcd5-404d-bf47-54c119ed8bb7\" xlink:actuate=\"onRequest\" xlink:href=\"psysml:682e8ea7-bcd5-404d-bf47-54c119ed8bb7\" xlink:show=\"new\" xlink:title=\"psysml:682e8ea7-bcd5-404d-bf47-54c119ed8bb7\" xlink:type=\"simple\"><path d=\"M221.7454,125.2359 C221.6297,125.2555 221.5129,125.2754 221.395,125.2955 C221.1593,125.3358 220.9193,125.3771 220.6752,125.4195 C220.1869,125.5042 219.6819,125.5933 219.1609,125.6868 C217.0769,126.0607 214.7359,126.5053 212.1769,127.0288 C201.9406,129.1225 188.215,132.4775 173.4875,137.615 C144.0325,147.89 110.57,165.295 93,194 C65.99,238.135 83.98,293.0875 109.2162,337.5175 C121.8344,359.7325 136.2641,379.3169 147.7861,393.6031 C150.6666,397.1747 153.3654,400.4151 155.8087,403.2827 C157.0304,404.7165 158.1881,406.0571 159.2728,407.2993 C159.8152,407.9204 160.3393,408.5169 160.8439,409.0882 \" fill=\"none\" id=\"E2-&gt;E6\" style=\"stroke: #383838; stroke-width: 1.0; stroke-dasharray: 7.0,7.0;\"/><polygon fill=\"#383838\" points=\"160.8439,409.0882,157.8829,399.695,157.5335,405.341,151.8875,404.9916,160.8439,409.0882\" style=\"stroke: #383838; stroke-width: 1.0;\"/><text fill=\"#000000\" font-family=\"sans-serif\" font-size=\"13\" lengthAdjust=\"spacingAndGlyphs\" textLength=\"65\" x=\"94\" y=\"207.0669\">«import»*</text></a><!--MD5=[e3d2a08a9c9236652057e8ed0cbc9b62]\n",
       "link E2 to E7--><a href=\"psysml:60c32f43-2902-493b-8362-f480edbb78ed\" target=\"_top\" title=\"psysml:60c32f43-2902-493b-8362-f480edbb78ed\" xlink:actuate=\"onRequest\" xlink:href=\"psysml:60c32f43-2902-493b-8362-f480edbb78ed\" xlink:show=\"new\" xlink:title=\"psysml:60c32f43-2902-493b-8362-f480edbb78ed\" xlink:type=\"simple\"><path d=\"M221.8807,130.2617 C221.7401,130.3761 221.5982,130.4918 221.4548,130.6091 C216.8678,134.36 210.8594,139.5688 204.5113,145.875 C191.815,158.4875 177.76,175.49 171,194 C168.41,201.1 166.18,205.18 171,211 C183.11,225.64 200.74,204.48 213,219 C227.045,235.63 228.2325,284.0975 225.8175,329.0338 C225.5156,334.6508 225.1575,340.2126 224.7611,345.6502 C224.662,347.0096 224.5605,348.3613 224.4569,349.7041 C224.4051,350.3755 224.3528,351.0446 224.3,351.7115 C224.2736,352.0449 224.2471,352.3777 224.2204,352.71 \" fill=\"none\" id=\"E2-&gt;E7\" style=\"stroke: #383838; stroke-width: 1.0; stroke-dasharray: 7.0,7.0;\"/><polygon fill=\"#383838\" points=\"224.2204,352.71,228.9272,344.0586,224.6202,347.726,220.9528,343.419,224.2204,352.71\" style=\"stroke: #383838; stroke-width: 1.0;\"/><text fill=\"#000000\" font-family=\"sans-serif\" font-size=\"13\" lengthAdjust=\"spacingAndGlyphs\" textLength=\"87\" x=\"172\" y=\"207.0669\">«import»*::**</text></a><!--MD5=[ca5a752d6098d8a44b3f88316e7452d1]\n",
       "link E3 to E8--><a href=\"psysml:37accf74-aaef-4298-a8d1-458e277c829e\" target=\"_top\" title=\"psysml:37accf74-aaef-4298-a8d1-458e277c829e\" xlink:actuate=\"onRequest\" xlink:href=\"psysml:37accf74-aaef-4298-a8d1-458e277c829e\" xlink:show=\"new\" xlink:title=\"psysml:37accf74-aaef-4298-a8d1-458e277c829e\" xlink:type=\"simple\"><path d=\"M321.59,146.07 C339.73,166.51 363.93,193.81 364,194 C366.68,201.06 368.76,205.13 364,211 C353.13,224.4 338.12,206.71 326,219 C285.31,260.27 280.82,330.75 282.81,375.81 \" fill=\"none\" id=\"E3-&gt;E8\" style=\"stroke: #383838; stroke-width: 1.0;\"/><polygon fill=\"#FFFFFF\" points=\"284.19,395.93,275.9039,377.4546,289.8709,376.4948,284.19,395.93\" style=\"stroke: #383838; stroke-width: 1.0;\"/><ellipse cx=\"277.5084\" cy=\"371.6309\" fill=\"#383838\" rx=\"2\" ry=\"2\" style=\"stroke: #383838; stroke-width: 1.0;\"/><ellipse cx=\"287.4849\" cy=\"370.9453\" fill=\"#383838\" rx=\"2\" ry=\"2\" style=\"stroke: #383838; stroke-width: 1.0;\"/></a><!--MD5=[15ebcb19ae302d9b601edb458606d402]\n",
       "link E5 to E2--><a href=\"psysml:a29f5286-6760-4cc8-8866-2ed3ee4f3eda\" target=\"_top\" title=\"psysml:a29f5286-6760-4cc8-8866-2ed3ee4f3eda\" xlink:actuate=\"onRequest\" xlink:href=\"psysml:a29f5286-6760-4cc8-8866-2ed3ee4f3eda\" xlink:show=\"new\" xlink:title=\"psysml:a29f5286-6760-4cc8-8866-2ed3ee4f3eda\" xlink:type=\"simple\"><path d=\"M377.9071,234.5987 C377.6837,234.254 377.4593,233.91 377.2338,233.5668 C376.3317,232.1941 375.413,230.8338 374.4773,229.4868 C372.6059,226.7928 370.6665,224.152 368.6567,221.572 C360.6175,211.2517 351.4513,201.9025 341,194 C324.63,181.62 264.96,198.91 249,186 C246.2863,183.805 243.9511,181.2325 241.9426,178.4061 C240.9384,176.9929 240.0159,175.5163 239.1685,173.9916 C238.7448,173.2292 238.3399,172.4549 237.953,171.6705 C237.7596,171.2782 237.5706,170.8835 237.3861,170.4865 C237.3399,170.3873 237.2941,170.2879 237.2485,170.1883 \" fill=\"none\" id=\"E5-&gt;E2\" style=\"stroke: #383838; stroke-width: 1.0; stroke-dasharray: 7.0,7.0;\"/><polygon fill=\"#383838\" points=\"237.2485,170.1883,237.3599,180.0366,239.3307,174.7341,244.6331,176.705,237.2485,170.1883\" style=\"stroke: #383838; stroke-width: 1.0;\"/><text fill=\"#000000\" font-family=\"sans-serif\" font-size=\"13\" lengthAdjust=\"spacingAndGlyphs\" textLength=\"65\" x=\"356\" y=\"207.0669\">«import»*</text></a><!--MD5=[d7bb3fb34add81b710575eb3799fa2ad]\n",
       "link E8 to E4--><a href=\"psysml:d1a96eaf-259a-4888-9f98-ae46b38eb818\" target=\"_top\" title=\"psysml:d1a96eaf-259a-4888-9f98-ae46b38eb818\" xlink:actuate=\"onRequest\" xlink:href=\"psysml:d1a96eaf-259a-4888-9f98-ae46b38eb818\" xlink:show=\"new\" xlink:title=\"psysml:d1a96eaf-259a-4888-9f98-ae46b38eb818\" xlink:type=\"simple\"><path d=\"M283.6,395.87 C278.58,354.03 274.69,263.54 326,219 C338.77,207.91 466.36,223.27 478,211 C493.94,194.2 479.72,174.01 460.15,157.31 \" fill=\"none\" id=\"E8-&gt;E4\" style=\"stroke: #383838; stroke-width: 1.0;\"/><polygon fill=\"none\" points=\"455.78,162.78,444.15,145.06,464.29,151.66,455.78,162.78\" style=\"stroke: #383838; stroke-width: 1.0;\"/></a><!--MD5=[90fce90356b3401ea75f6abdce0dcf83]\n",
       "@startuml\r\n",
       " skinparam monochrome true\r\n",
       "skinparam classbackgroundcolor white\r\n",
       "skinparam shadowing false\r\n",
       "skinparam wrapWidth 300\r\n",
       "hide circle\r\n",
       "\r\n",
       "package \"ImportTest\" as E1  [[psysml:4ef55e29-a78c-4120-8a0e-706d60f3b916 ]]  {\r\n",
       "package \"Pkg1\" as E2  [[psysml:fc5e85ef-31d8-4451-b981-c90381fde50e ]]  {\r\n",
       "comp usage \"p11: P211 \" as E3  <<(T,blue) part>> [[psysml:fe6123c1-7336-461e-a67a-648132fed175 ]] {\r\n",
       "}\r\n",
       "comp def \"P12\" as E4  <<(T,blue) part  def>> [[psysml:1380541e-fc30-40f5-9a60-edda9aa0065e ]] {\r\n",
       "}\r\n",
       "}\r\n",
       "package \"Pkg2\" as E5  [[psysml:c270e78f-1935-46bf-a024-66cb4836716b ]]  {\r\n",
       "package \"Pkg21\" as E6  [[psysml:ed944fef-70b9-4524-9917-716ca36e9ac1 ]]  {\r\n",
       "package \"Pkg211\" as E7  [[psysml:9f58dbb8-6a8c-4281-a4ad-0fbab28478f4 ]]  {\r\n",
       "comp def \"P211\" as E8  <<(T,blue) part  def>> [[psysml:4acbdff1-c8fe-48cb-afd1-a68daa112cad ]] {\r\n",
       "}\r\n",
       "}\r\n",
       "}\r\n",
       "}\r\n",
       "}\r\n",
       "E2 ..> E8 [[psysml:4f20d9a0-229b-41ce-a3f9-ec650db8275f ]] : <<import>>\r\n",
       "E2 ..> E6 [[psysml:682e8ea7-bcd5-404d-bf47-54c119ed8bb7 ]] : <<import>>*\r\n",
       "E2 ..> E7 [[psysml:60c32f43-2902-493b-8362-f480edbb78ed ]] : <<import>>*::**\r\n",
       "E3 - -:|> E8 [[psysml:37accf74-aaef-4298-a8d1-458e277c829e ]] \r\n",
       "E5 ..> E2 [[psysml:a29f5286-6760-4cc8-8866-2ed3ee4f3eda ]] : <<import>>*\r\n",
       "E8 - -|> E4 [[psysml:d1a96eaf-259a-4888-9f98-ae46b38eb818 ]] \r\n",
       "@enduml\r\n",
       "\n",
       "PlantUML version 1.2020.13(Sat Jun 13 12:26:38 UTC 2020)\n",
       "(EPL source distribution)\n",
       "Java Runtime: OpenJDK Runtime Environment\n",
       "JVM: OpenJDK 64-Bit Server VM\n",
       "Default Encoding: UTF-8\n",
       "Language: en\n",
       "Country: null\n",
       "--></g></svg>"
      ]
     },
     "execution_count": 3,
     "metadata": {},
     "output_type": "execute_result"
    }
   ],
   "source": [
    "%viz --style=\"COMPTREE\" --view=\"Tree\" \"ImportTest\""
   ]
  },
  {
   "cell_type": "code",
   "execution_count": 4,
   "id": "1dfc5a8a",
   "metadata": {
    "execution": {
     "iopub.execute_input": "2022-02-18T10:46:57.628929Z",
     "iopub.status.busy": "2022-02-18T10:46:57.628172Z",
     "iopub.status.idle": "2022-02-18T10:46:57.636933Z",
     "shell.execute_reply": "2022-02-18T10:46:57.637262Z"
    }
   },
   "outputs": [
    {
     "data": {
      "image/svg+xml": [
       "<?xml version=\"1.0\" encoding=\"UTF-8\" standalone=\"no\"?><svg xmlns=\"http://www.w3.org/2000/svg\" xmlns:xlink=\"http://www.w3.org/1999/xlink\" contentScriptType=\"application/ecmascript\" contentStyleType=\"text/css\" height=\"12px\" preserveAspectRatio=\"none\" style=\"width:12px;height:12px;\" version=\"1.1\" viewBox=\"0 0 12 12\" width=\"12px\" zoomAndPan=\"magnify\"><defs/><g><!--MD5=[f19188ef49e11757b5c46753f95d9edc]\n",
       "@startuml\r\n",
       " skinparam monochrome true\r\n",
       "skinparam classbackgroundcolor white\r\n",
       "skinparam shadowing false\r\n",
       "skinparam wrapWidth 300\r\n",
       "hide circle\r\n",
       "\r\n",
       "@enduml\r\n",
       "\n",
       "PlantUML version 1.2020.13(Sat Jun 13 12:26:38 UTC 2020)\n",
       "(EPL source distribution)\n",
       "Java Runtime: OpenJDK Runtime Environment\n",
       "JVM: OpenJDK 64-Bit Server VM\n",
       "Default Encoding: UTF-8\n",
       "Language: en\n",
       "Country: null\n",
       "--></g></svg>"
      ]
     },
     "execution_count": 4,
     "metadata": {},
     "output_type": "execute_result"
    }
   ],
   "source": [
    "%viz --style=\"COMPTREE\" --view=\"State\" \"ImportTest\""
   ]
  },
  {
   "cell_type": "code",
   "execution_count": 5,
   "id": "eadc5a7f",
   "metadata": {
    "execution": {
     "iopub.execute_input": "2022-02-18T10:46:57.688039Z",
     "iopub.status.busy": "2022-02-18T10:46:57.687600Z",
     "iopub.status.idle": "2022-02-18T10:46:57.751186Z",
     "shell.execute_reply": "2022-02-18T10:46:57.750726Z"
    }
   },
   "outputs": [
    {
     "data": {
      "image/svg+xml": [
       "<?xml version=\"1.0\" encoding=\"UTF-8\" standalone=\"no\"?><svg xmlns=\"http://www.w3.org/2000/svg\" xmlns:xlink=\"http://www.w3.org/1999/xlink\" contentScriptType=\"application/ecmascript\" contentStyleType=\"text/css\" height=\"584px\" preserveAspectRatio=\"none\" style=\"width:515px;height:584px;\" version=\"1.1\" viewBox=\"0 0 515 584\" width=\"515px\" zoomAndPan=\"magnify\"><defs/><g><!--MD5=[fbc87193dbaf4d95561dea2c320d4a47]\n",
       "cluster E1--><a href=\"psysml:4ef55e29-a78c-4120-8a0e-706d60f3b916\" target=\"_top\" title=\"psysml:4ef55e29-a78c-4120-8a0e-706d60f3b916\" xlink:actuate=\"onRequest\" xlink:href=\"psysml:4ef55e29-a78c-4120-8a0e-706d60f3b916\" xlink:show=\"new\" xlink:title=\"psysml:4ef55e29-a78c-4120-8a0e-706d60f3b916\" xlink:type=\"simple\"><polygon fill=\"#FFFFFF\" points=\"16,6,97,6,104,28.2969,493,28.2969,493,572,16,572,16,6\" style=\"stroke: #000000; stroke-width: 1.5;\"/><line style=\"stroke: #000000; stroke-width: 1.5;\" x1=\"16\" x2=\"104\" y1=\"28.2969\" y2=\"28.2969\"/><text fill=\"#000000\" font-family=\"sans-serif\" font-size=\"14\" font-weight=\"bold\" lengthAdjust=\"spacingAndGlyphs\" textLength=\"75\" x=\"20\" y=\"20.9951\">ImportTest</text></a><!--MD5=[e4f7fae6ed58524ba242bb0b0d3be6b7]\n",
       "cluster E2--><a href=\"psysml:fc5e85ef-31d8-4451-b981-c90381fde50e\" target=\"_top\" title=\"psysml:fc5e85ef-31d8-4451-b981-c90381fde50e\" xlink:actuate=\"onRequest\" xlink:href=\"psysml:fc5e85ef-31d8-4451-b981-c90381fde50e\" xlink:show=\"new\" xlink:title=\"psysml:fc5e85ef-31d8-4451-b981-c90381fde50e\" xlink:type=\"simple\"><polygon fill=\"#FFFFFF\" points=\"209,57,250,57,257,79.2969,461,79.2969,461,167,209,167,209,57\" style=\"stroke: #000000; stroke-width: 1.5;\"/><line style=\"stroke: #000000; stroke-width: 1.5;\" x1=\"209\" x2=\"257\" y1=\"79.2969\" y2=\"79.2969\"/><text fill=\"#000000\" font-family=\"sans-serif\" font-size=\"14\" font-weight=\"bold\" lengthAdjust=\"spacingAndGlyphs\" textLength=\"35\" x=\"213\" y=\"71.9951\">Pkg1</text></a><!--MD5=[de5ec2e2e8f62f467e546659f5068c88]\n",
       "cluster E5--><a href=\"psysml:c270e78f-1935-46bf-a024-66cb4836716b\" target=\"_top\" title=\"psysml:c270e78f-1935-46bf-a024-66cb4836716b\" xlink:actuate=\"onRequest\" xlink:href=\"psysml:c270e78f-1935-46bf-a024-66cb4836716b\" xlink:show=\"new\" xlink:title=\"psysml:c270e78f-1935-46bf-a024-66cb4836716b\" xlink:type=\"simple\"><polygon fill=\"#FFFFFF\" points=\"93,232,134,232,141,254.2969,411,254.2969,411,540,93,540,93,232\" style=\"stroke: #000000; stroke-width: 1.5;\"/><line style=\"stroke: #000000; stroke-width: 1.5;\" x1=\"93\" x2=\"141\" y1=\"254.2969\" y2=\"254.2969\"/><text fill=\"#000000\" font-family=\"sans-serif\" font-size=\"14\" font-weight=\"bold\" lengthAdjust=\"spacingAndGlyphs\" textLength=\"35\" x=\"97\" y=\"246.9951\">Pkg2</text></a><!--MD5=[14e3b0961a2654348d326746436168a1]\n",
       "cluster E6--><a href=\"psysml:ed944fef-70b9-4524-9917-716ca36e9ac1\" target=\"_top\" title=\"psysml:ed944fef-70b9-4524-9917-716ca36e9ac1\" xlink:actuate=\"onRequest\" xlink:href=\"psysml:ed944fef-70b9-4524-9917-716ca36e9ac1\" xlink:show=\"new\" xlink:title=\"psysml:ed944fef-70b9-4524-9917-716ca36e9ac1\" xlink:type=\"simple\"><polygon fill=\"#FFFFFF\" points=\"133,291,183,291,190,313.2969,363,313.2969,363,500,133,500,133,291\" style=\"stroke: #000000; stroke-width: 1.5;\"/><line style=\"stroke: #000000; stroke-width: 1.5;\" x1=\"133\" x2=\"190\" y1=\"313.2969\" y2=\"313.2969\"/><text fill=\"#000000\" font-family=\"sans-serif\" font-size=\"14\" font-weight=\"bold\" lengthAdjust=\"spacingAndGlyphs\" textLength=\"44\" x=\"137\" y=\"305.9951\">Pkg21</text></a><!--MD5=[168fadf3d0c3fd93dd5d6da1b1d7ab76]\n",
       "cluster E7--><a href=\"psysml:9f58dbb8-6a8c-4281-a4ad-0fbab28478f4\" target=\"_top\" title=\"psysml:9f58dbb8-6a8c-4281-a4ad-0fbab28478f4\" xlink:actuate=\"onRequest\" xlink:href=\"psysml:9f58dbb8-6a8c-4281-a4ad-0fbab28478f4\" xlink:show=\"new\" xlink:title=\"psysml:9f58dbb8-6a8c-4281-a4ad-0fbab28478f4\" xlink:type=\"simple\"><polygon fill=\"#FFFFFF\" points=\"181,350,240,350,247,372.2969,323,372.2969,323,460,181,460,181,350\" style=\"stroke: #000000; stroke-width: 1.5;\"/><line style=\"stroke: #000000; stroke-width: 1.5;\" x1=\"181\" x2=\"247\" y1=\"372.2969\" y2=\"372.2969\"/><text fill=\"#000000\" font-family=\"sans-serif\" font-size=\"14\" font-weight=\"bold\" lengthAdjust=\"spacingAndGlyphs\" textLength=\"53\" x=\"185\" y=\"364.9951\">Pkg211</text></a><g id=\"E1.E2.E3\"><a href=\"psysml:fe6123c1-7336-461e-a67a-648132fed175\" target=\"_top\" title=\"psysml:fe6123c1-7336-461e-a67a-648132fed175\" xlink:actuate=\"onRequest\" xlink:href=\"psysml:fe6123c1-7336-461e-a67a-648132fed175\" xlink:show=\"new\" xlink:title=\"psysml:fe6123c1-7336-461e-a67a-648132fed175\" xlink:type=\"simple\"><rect fill=\"#FFFFFF\" height=\"40\" id=\"E3\" rx=\"10\" ry=\"10\" style=\"stroke: #383838; stroke-width: 1.5;\" width=\"75\" x=\"362.5\" y=\"101.5\"/><rect fill=\"#F8F8F8\" height=\"23.9688\" rx=\"10\" ry=\"10\" style=\"stroke: #F8F8F8; stroke-width: 1.5;\" width=\"75\" x=\"362.5\" y=\"101.5\"/><rect fill=\"#F8F8F8\" height=\"10\" style=\"stroke: #F8F8F8; stroke-width: 1.5;\" width=\"75\" x=\"362.5\" y=\"115.4688\"/><rect fill=\"none\" height=\"40\" id=\"E3\" rx=\"10\" ry=\"10\" style=\"stroke: #383838; stroke-width: 1.5;\" width=\"75\" x=\"362.5\" y=\"101.5\"/><text fill=\"#000000\" font-family=\"sans-serif\" font-size=\"12\" lengthAdjust=\"spacingAndGlyphs\" textLength=\"64\" x=\"368\" y=\"117.6387\">p11: P211</text></a></g><g id=\"E1.E2.E4\"><a href=\"psysml:1380541e-fc30-40f5-9a60-edda9aa0065e\" target=\"_top\" title=\"psysml:1380541e-fc30-40f5-9a60-edda9aa0065e\" xlink:actuate=\"onRequest\" xlink:href=\"psysml:1380541e-fc30-40f5-9a60-edda9aa0065e\" xlink:show=\"new\" xlink:title=\"psysml:1380541e-fc30-40f5-9a60-edda9aa0065e\" xlink:type=\"simple\"><rect fill=\"#FFFFFF\" height=\"42.9375\" id=\"E4\" style=\"stroke: #383838; stroke-width: 1.5;\" width=\"75\" x=\"252.5\" y=\"100\"/><rect fill=\"#F8F8F8\" height=\"37.9375\" style=\"stroke: #383838; stroke-width: 1.5;\" width=\"75\" x=\"252.5\" y=\"100\"/><text fill=\"#000000\" font-family=\"sans-serif\" font-size=\"12\" font-style=\"italic\" lengthAdjust=\"spacingAndGlyphs\" textLength=\"68\" x=\"256\" y=\"116.1387\">«part  def»</text><text fill=\"#000000\" font-family=\"sans-serif\" font-size=\"12\" lengthAdjust=\"spacingAndGlyphs\" textLength=\"24\" x=\"278\" y=\"130.1074\">P12</text></a></g><g id=\"E1.E5.E6.E7.E8\"><a href=\"psysml:4acbdff1-c8fe-48cb-afd1-a68daa112cad\" target=\"_top\" title=\"psysml:4acbdff1-c8fe-48cb-afd1-a68daa112cad\" xlink:actuate=\"onRequest\" xlink:href=\"psysml:4acbdff1-c8fe-48cb-afd1-a68daa112cad\" xlink:show=\"new\" xlink:title=\"psysml:4acbdff1-c8fe-48cb-afd1-a68daa112cad\" xlink:type=\"simple\"><rect fill=\"#FFFFFF\" height=\"42.9375\" id=\"E8\" style=\"stroke: #383838; stroke-width: 1.5;\" width=\"75\" x=\"224.5\" y=\"393\"/><rect fill=\"#F8F8F8\" height=\"37.9375\" style=\"stroke: #383838; stroke-width: 1.5;\" width=\"75\" x=\"224.5\" y=\"393\"/><text fill=\"#000000\" font-family=\"sans-serif\" font-size=\"12\" font-style=\"italic\" lengthAdjust=\"spacingAndGlyphs\" textLength=\"68\" x=\"228\" y=\"409.1387\">«part  def»</text><text fill=\"#000000\" font-family=\"sans-serif\" font-size=\"12\" lengthAdjust=\"spacingAndGlyphs\" textLength=\"32\" x=\"246\" y=\"423.1074\">P211</text></a></g><!--MD5=[b0060bfdb0500b904584095522b4da3c]\n",
       "link E2 to E8--><a href=\"psysml:4f20d9a0-229b-41ce-a3f9-ec650db8275f\" target=\"_top\" title=\"psysml:4f20d9a0-229b-41ce-a3f9-ec650db8275f\" xlink:actuate=\"onRequest\" xlink:href=\"psysml:4f20d9a0-229b-41ce-a3f9-ec650db8275f\" xlink:show=\"new\" xlink:title=\"psysml:4f20d9a0-229b-41ce-a3f9-ec650db8275f\" xlink:type=\"simple\"><path d=\"M226.0996,167.0404 C226.2817,167.4353 226.4674,167.8286 226.6569,168.2201 C227.0359,169.0031 227.4297,169.7788 227.8389,170.5455 C228.6575,172.0788 229.5378,173.5761 230.4846,175.0235 C232.3781,177.9183 234.5375,180.6138 237,183 C245.99,191.71 256.51,180.97 264,191 C307.73,249.57 285.73,343.1 271.27,387.93 \" fill=\"none\" id=\"E2-&gt;E8\" style=\"stroke: #383838; stroke-width: 1.0; stroke-dasharray: 7.0,7.0;\"/><polygon fill=\"#383838\" points=\"269.63,392.89,276.2378,385.5868,271.1897,388.1395,268.637,383.0913,269.63,392.89\" style=\"stroke: #383838; stroke-width: 1.0;\"/><text fill=\"#000000\" font-family=\"sans-serif\" font-size=\"13\" lengthAdjust=\"spacingAndGlyphs\" textLength=\"58\" x=\"274\" y=\"204.0669\">«import»</text></a><!--MD5=[e3e28c1befcf002155aa15e1416b4315]\n",
       "link E2 to E6--><a href=\"psysml:682e8ea7-bcd5-404d-bf47-54c119ed8bb7\" target=\"_top\" title=\"psysml:682e8ea7-bcd5-404d-bf47-54c119ed8bb7\" xlink:actuate=\"onRequest\" xlink:href=\"psysml:682e8ea7-bcd5-404d-bf47-54c119ed8bb7\" xlink:show=\"new\" xlink:title=\"psysml:682e8ea7-bcd5-404d-bf47-54c119ed8bb7\" xlink:type=\"simple\"><path d=\"M208.8595,124.0557 C208.7506,124.0788 208.6407,124.1021 208.5299,124.1258 C208.0867,124.2205 207.6284,124.3196 207.1556,124.4234 C205.264,124.8384 203.1395,125.3269 200.8172,125.8948 C191.5281,128.1666 179.0763,131.7094 165.7275,136.9063 C139.03,147.3 108.745,164.31 93,191 C67.7,233.885 78.9325,288.455 96.865,332.8188 C105.8313,355.0006 116.4725,374.6309 125.0597,388.9733 C127.2065,392.5589 129.2249,395.814 131.0567,398.6958 C131.5146,399.4162 131.9609,400.1134 132.3946,400.7865 C132.503,400.9548 132.6107,401.1216 132.7175,401.2869 \" fill=\"none\" id=\"E2-&gt;E6\" style=\"stroke: #383838; stroke-width: 1.0; stroke-dasharray: 7.0,7.0;\"/><polygon fill=\"#383838\" points=\"132.7175,401.2869,131.1908,391.557,130.0031,397.0878,124.4723,395.9001,132.7175,401.2869\" style=\"stroke: #383838; stroke-width: 1.0;\"/><text fill=\"#000000\" font-family=\"sans-serif\" font-size=\"13\" lengthAdjust=\"spacingAndGlyphs\" textLength=\"65\" x=\"94\" y=\"204.0669\">«import»*</text></a><!--MD5=[e3d2a08a9c9236652057e8ed0cbc9b62]\n",
       "link E2 to E7--><a href=\"psysml:60c32f43-2902-493b-8362-f480edbb78ed\" target=\"_top\" title=\"psysml:60c32f43-2902-493b-8362-f480edbb78ed\" xlink:actuate=\"onRequest\" xlink:href=\"psysml:60c32f43-2902-493b-8362-f480edbb78ed\" xlink:show=\"new\" xlink:title=\"psysml:60c32f43-2902-493b-8362-f480edbb78ed\" xlink:type=\"simple\"><path d=\"M208.9087,130.8599 C208.4267,131.3857 207.929,131.9334 207.4172,132.5019 C206.3938,133.639 205.3142,134.8598 204.1919,136.1571 C201.9473,138.7518 199.5316,141.6528 197.0512,144.8037 C187.13,157.4075 176.175,174.01 171,191 C168.8,198.23 167.21,201.47 171,208 C174.6,214.2 181.34,209.84 185,216 C207.065,253.155 208.38,301.58 204.025,341.18 C203.7528,343.655 203.4585,346.0955 203.1457,348.4967 C203.1066,348.7968 203.0672,349.0963 203.0275,349.3953 \" fill=\"none\" id=\"E2-&gt;E7\" style=\"stroke: #383838; stroke-width: 1.0; stroke-dasharray: 7.0,7.0;\"/><polygon fill=\"#383838\" points=\"203.0275,349.3953,208.1768,340.9997,203.6853,344.4387,200.2464,339.9472,203.0275,349.3953\" style=\"stroke: #383838; stroke-width: 1.0;\"/><text fill=\"#000000\" font-family=\"sans-serif\" font-size=\"13\" lengthAdjust=\"spacingAndGlyphs\" textLength=\"87\" x=\"172\" y=\"204.0669\">«import»*::**</text></a><!--MD5=[15ebcb19ae302d9b601edb458606d402]\n",
       "link E5 to E2--><a href=\"psysml:a29f5286-6760-4cc8-8866-2ed3ee4f3eda\" target=\"_top\" title=\"psysml:a29f5286-6760-4cc8-8866-2ed3ee4f3eda\" xlink:actuate=\"onRequest\" xlink:href=\"psysml:a29f5286-6760-4cc8-8866-2ed3ee4f3eda\" xlink:show=\"new\" xlink:title=\"psysml:a29f5286-6760-4cc8-8866-2ed3ee4f3eda\" xlink:type=\"simple\"><path d=\"M374.0816,231.8188 C373.8921,231.4743 373.7014,231.1305 373.5097,230.7874 C372.7425,229.4152 371.957,228.0548 371.1529,226.707 C369.5446,224.0116 367.8614,221.3671 366.1,218.7807 C359.0547,208.4352 350.7587,199.02 341,191 C323.09,176.28 255.25,197.29 237,183 C234.3,180.8863 231.9606,178.3973 229.9341,175.6551 C228.9209,174.284 227.9858,172.8496 227.123,171.367 C226.6917,170.6257 226.2783,169.8724 225.8823,169.109 C225.6843,168.7273 225.4906,168.3431 225.3012,167.9565 C225.2065,167.7633 225.1128,167.5694 225.0202,167.3751 C224.9739,167.2779 224.9278,167.1805 224.882,167.0831 \" fill=\"none\" id=\"E5-&gt;E2\" style=\"stroke: #383838; stroke-width: 1.0; stroke-dasharray: 7.0,7.0;\"/><polygon fill=\"#383838\" points=\"224.882,167.0831,225.0885,176.9298,227.0081,171.6086,232.3293,173.5281,224.882,167.0831\" style=\"stroke: #383838; stroke-width: 1.0;\"/><text fill=\"#000000\" font-family=\"sans-serif\" font-size=\"13\" lengthAdjust=\"spacingAndGlyphs\" textLength=\"65\" x=\"355\" y=\"204.0669\">«import»*</text></a><!--MD5=[d7bb3fb34add81b710575eb3799fa2ad]\n",
       "link E8 to E4--><a href=\"psysml:d1a96eaf-259a-4888-9f98-ae46b38eb818\" target=\"_top\" title=\"psysml:d1a96eaf-259a-4888-9f98-ae46b38eb818\" xlink:actuate=\"onRequest\" xlink:href=\"psysml:d1a96eaf-259a-4888-9f98-ae46b38eb818\" xlink:show=\"new\" xlink:title=\"psysml:d1a96eaf-259a-4888-9f98-ae46b38eb818\" xlink:type=\"simple\"><path d=\"M259.15,392.74 C254.81,351.69 251.92,260.28 304,216 C318.15,203.97 458.18,221.45 471,208 C476.21,202.53 476.17,196.51 471,191 C461.4,180.77 357.64,189.08 345,183 C333.67,177.55 323.59,168.63 315.26,159.29 \" fill=\"none\" id=\"E8-&gt;E4\" style=\"stroke: #383838; stroke-width: 1.0;\"/><polygon fill=\"none\" points=\"309.47,163.25,302.61,143.2,320.48,154.6,309.47,163.25\" style=\"stroke: #383838; stroke-width: 1.0;\"/></a><!--MD5=[83f8b8ebd1d7b0d3003790a4ecc08466]\n",
       "@startuml\r\n",
       "skinparam ranksep 10\r\n",
       "skinparam rectangle {\r\n",
       " backgroundColor<<block>> LightGreen\r\n",
       "}\r\n",
       " skinparam monochrome true\r\n",
       "skinparam classbackgroundcolor white\r\n",
       "skinparam shadowing false\r\n",
       "skinparam wrapWidth 300\r\n",
       "hide circle\r\n",
       "\r\n",
       "package \"ImportTest\" as E1  [[psysml:4ef55e29-a78c-4120-8a0e-706d60f3b916 ]]  {\r\n",
       "package \"Pkg1\" as E2  [[psysml:fc5e85ef-31d8-4451-b981-c90381fde50e ]]  {\r\n",
       "rec usage \"p11: P211\" as E3  [[psysml:fe6123c1-7336-461e-a67a-648132fed175 ]] {\r\n",
       "}\r\n",
       "rec def \"P12\" as E4  <<(T,blue) part  def>> [[psysml:1380541e-fc30-40f5-9a60-edda9aa0065e ]] {\r\n",
       "}\r\n",
       "}\r\n",
       "package \"Pkg2\" as E5  [[psysml:c270e78f-1935-46bf-a024-66cb4836716b ]]  {\r\n",
       "package \"Pkg21\" as E6  [[psysml:ed944fef-70b9-4524-9917-716ca36e9ac1 ]]  {\r\n",
       "package \"Pkg211\" as E7  [[psysml:9f58dbb8-6a8c-4281-a4ad-0fbab28478f4 ]]  {\r\n",
       "rec def \"P211\" as E8  <<(T,blue) part  def>> [[psysml:4acbdff1-c8fe-48cb-afd1-a68daa112cad ]] {\r\n",
       "}\r\n",
       "}\r\n",
       "}\r\n",
       "}\r\n",
       "}\r\n",
       "E2 ..> E8 [[psysml:4f20d9a0-229b-41ce-a3f9-ec650db8275f ]] : <<import>>\r\n",
       "E2 ..> E6 [[psysml:682e8ea7-bcd5-404d-bf47-54c119ed8bb7 ]] : <<import>>*\r\n",
       "E2 ..> E7 [[psysml:60c32f43-2902-493b-8362-f480edbb78ed ]] : <<import>>*::**\r\n",
       "E5 ..> E2 [[psysml:a29f5286-6760-4cc8-8866-2ed3ee4f3eda ]] : <<import>>*\r\n",
       "E8 - -|> E4 [[psysml:d1a96eaf-259a-4888-9f98-ae46b38eb818 ]] \r\n",
       "@enduml\r\n",
       "\n",
       "PlantUML version 1.2020.13(Sat Jun 13 12:26:38 UTC 2020)\n",
       "(EPL source distribution)\n",
       "Java Runtime: OpenJDK Runtime Environment\n",
       "JVM: OpenJDK 64-Bit Server VM\n",
       "Default Encoding: UTF-8\n",
       "Language: en\n",
       "Country: null\n",
       "--></g></svg>"
      ]
     },
     "execution_count": 5,
     "metadata": {},
     "output_type": "execute_result"
    }
   ],
   "source": [
    "%viz --style=\"COMPTREE\" --view=\"Interconnection\" \"ImportTest\""
   ]
  },
  {
   "cell_type": "code",
   "execution_count": 6,
   "id": "f1be803b",
   "metadata": {
    "execution": {
     "iopub.execute_input": "2022-02-18T10:46:57.800424Z",
     "iopub.status.busy": "2022-02-18T10:46:57.800003Z",
     "iopub.status.idle": "2022-02-18T10:46:57.807627Z",
     "shell.execute_reply": "2022-02-18T10:46:57.807945Z"
    }
   },
   "outputs": [
    {
     "data": {
      "image/svg+xml": [
       "<?xml version=\"1.0\" encoding=\"UTF-8\" standalone=\"no\"?><svg xmlns=\"http://www.w3.org/2000/svg\" xmlns:xlink=\"http://www.w3.org/1999/xlink\" contentScriptType=\"application/ecmascript\" contentStyleType=\"text/css\" height=\"12px\" preserveAspectRatio=\"none\" style=\"width:12px;height:12px;\" version=\"1.1\" viewBox=\"0 0 12 12\" width=\"12px\" zoomAndPan=\"magnify\"><defs/><g><!--MD5=[655b888544ca4751ea36af1068543f84]\n",
       "@startuml\r\n",
       "skinparam ranksep 8\r\n",
       " skinparam monochrome true\r\n",
       "skinparam classbackgroundcolor white\r\n",
       "skinparam shadowing false\r\n",
       "skinparam wrapWidth 300\r\n",
       "hide circle\r\n",
       "\r\n",
       "@enduml\r\n",
       "\n",
       "PlantUML version 1.2020.13(Sat Jun 13 12:26:38 UTC 2020)\n",
       "(EPL source distribution)\n",
       "Java Runtime: OpenJDK Runtime Environment\n",
       "JVM: OpenJDK 64-Bit Server VM\n",
       "Default Encoding: UTF-8\n",
       "Language: en\n",
       "Country: null\n",
       "--></g></svg>"
      ]
     },
     "execution_count": 6,
     "metadata": {},
     "output_type": "execute_result"
    }
   ],
   "source": [
    "%viz --style=\"COMPTREE\" --view=\"Action\" \"ImportTest\""
   ]
  },
  {
   "cell_type": "code",
   "execution_count": 7,
   "id": "060487f5",
   "metadata": {
    "execution": {
     "iopub.execute_input": "2022-02-18T10:46:57.858606Z",
     "iopub.status.busy": "2022-02-18T10:46:57.858200Z",
     "iopub.status.idle": "2022-02-18T10:46:57.871051Z",
     "shell.execute_reply": "2022-02-18T10:46:57.871363Z"
    }
   },
   "outputs": [
    {
     "data": {
      "image/svg+xml": [
       "<?xml version=\"1.0\" encoding=\"UTF-8\" standalone=\"no\"?><svg xmlns=\"http://www.w3.org/2000/svg\" xmlns:xlink=\"http://www.w3.org/1999/xlink\" contentScriptType=\"application/ecmascript\" contentStyleType=\"text/css\" height=\"12px\" preserveAspectRatio=\"none\" style=\"width:12px;height:12px;\" version=\"1.1\" viewBox=\"0 0 12 12\" width=\"12px\" zoomAndPan=\"magnify\"><defs/><g><!--MD5=[803fc46c337be7a5c8a9831e35356779]\n",
       "@startuml\r\n",
       "skinparam roundcorner 20\r\n",
       "skinparam BoxPadding 20\r\n",
       "skinparam SequenceBoxBackgroundColor #white\r\n",
       "skinparam style strictuml\r\n",
       "skinparam maxMessageSize 100\r\n",
       " skinparam monochrome true\r\n",
       "skinparam classbackgroundcolor white\r\n",
       "skinparam shadowing false\r\n",
       "skinparam wrapWidth 300\r\n",
       "hide circle\r\n",
       "\r\n",
       "@enduml\r\n",
       "\n",
       "PlantUML version 1.2020.13(Sat Jun 13 12:26:38 UTC 2020)\n",
       "(EPL source distribution)\n",
       "Java Runtime: OpenJDK Runtime Environment\n",
       "JVM: OpenJDK 64-Bit Server VM\n",
       "Default Encoding: UTF-8\n",
       "Language: en\n",
       "Country: null\n",
       "--></g></svg>"
      ]
     },
     "execution_count": 7,
     "metadata": {},
     "output_type": "execute_result"
    }
   ],
   "source": [
    "%viz --style=\"COMPTREE\" --view=\"Sequence\" \"ImportTest\""
   ]
  },
  {
   "cell_type": "code",
   "execution_count": 8,
   "id": "1e05c519",
   "metadata": {
    "execution": {
     "iopub.execute_input": "2022-02-18T10:46:57.921754Z",
     "iopub.status.busy": "2022-02-18T10:46:57.921353Z",
     "iopub.status.idle": "2022-02-18T10:46:57.975108Z",
     "shell.execute_reply": "2022-02-18T10:46:57.974619Z"
    }
   },
   "outputs": [
    {
     "data": {
      "image/svg+xml": [
       "<?xml version=\"1.0\" encoding=\"UTF-8\" standalone=\"no\"?><svg xmlns=\"http://www.w3.org/2000/svg\" xmlns:xlink=\"http://www.w3.org/1999/xlink\" contentScriptType=\"application/ecmascript\" contentStyleType=\"text/css\" height=\"590px\" preserveAspectRatio=\"none\" style=\"width:522px;height:590px;\" version=\"1.1\" viewBox=\"0 0 522 590\" width=\"522px\" zoomAndPan=\"magnify\"><defs/><g><!--MD5=[fbc87193dbaf4d95561dea2c320d4a47]\n",
       "cluster E1--><a href=\"psysml:4ef55e29-a78c-4120-8a0e-706d60f3b916\" target=\"_top\" title=\"psysml:4ef55e29-a78c-4120-8a0e-706d60f3b916\" xlink:actuate=\"onRequest\" xlink:href=\"psysml:4ef55e29-a78c-4120-8a0e-706d60f3b916\" xlink:show=\"new\" xlink:title=\"psysml:4ef55e29-a78c-4120-8a0e-706d60f3b916\" xlink:type=\"simple\"><polygon fill=\"#FFFFFF\" points=\"16,6,97,6,104,28.2969,500,28.2969,500,578,16,578,16,6\" style=\"stroke: #000000; stroke-width: 1.5;\"/><line style=\"stroke: #000000; stroke-width: 1.5;\" x1=\"16\" x2=\"104\" y1=\"28.2969\" y2=\"28.2969\"/><text fill=\"#000000\" font-family=\"sans-serif\" font-size=\"14\" font-weight=\"bold\" lengthAdjust=\"spacingAndGlyphs\" textLength=\"75\" x=\"20\" y=\"20.9951\">ImportTest</text></a><!--MD5=[e4f7fae6ed58524ba242bb0b0d3be6b7]\n",
       "cluster E2--><a href=\"psysml:fc5e85ef-31d8-4451-b981-c90381fde50e\" target=\"_top\" title=\"psysml:fc5e85ef-31d8-4451-b981-c90381fde50e\" xlink:actuate=\"onRequest\" xlink:href=\"psysml:fc5e85ef-31d8-4451-b981-c90381fde50e\" xlink:show=\"new\" xlink:title=\"psysml:fc5e85ef-31d8-4451-b981-c90381fde50e\" xlink:type=\"simple\"><polygon fill=\"#FFFFFF\" points=\"222,57,263,57,270,79.2969,468,79.2969,468,170,222,170,222,57\" style=\"stroke: #000000; stroke-width: 1.5;\"/><line style=\"stroke: #000000; stroke-width: 1.5;\" x1=\"222\" x2=\"270\" y1=\"79.2969\" y2=\"79.2969\"/><text fill=\"#000000\" font-family=\"sans-serif\" font-size=\"14\" font-weight=\"bold\" lengthAdjust=\"spacingAndGlyphs\" textLength=\"35\" x=\"226\" y=\"71.9951\">Pkg1</text></a><!--MD5=[de5ec2e2e8f62f467e546659f5068c88]\n",
       "cluster E5--><a href=\"psysml:c270e78f-1935-46bf-a024-66cb4836716b\" target=\"_top\" title=\"psysml:c270e78f-1935-46bf-a024-66cb4836716b\" xlink:actuate=\"onRequest\" xlink:href=\"psysml:c270e78f-1935-46bf-a024-66cb4836716b\" xlink:show=\"new\" xlink:title=\"psysml:c270e78f-1935-46bf-a024-66cb4836716b\" xlink:type=\"simple\"><polygon fill=\"#FFFFFF\" points=\"121,235,162,235,169,257.2969,434,257.2969,434,546,121,546,121,235\" style=\"stroke: #000000; stroke-width: 1.5;\"/><line style=\"stroke: #000000; stroke-width: 1.5;\" x1=\"121\" x2=\"169\" y1=\"257.2969\" y2=\"257.2969\"/><text fill=\"#000000\" font-family=\"sans-serif\" font-size=\"14\" font-weight=\"bold\" lengthAdjust=\"spacingAndGlyphs\" textLength=\"35\" x=\"125\" y=\"249.9951\">Pkg2</text></a><!--MD5=[14e3b0961a2654348d326746436168a1]\n",
       "cluster E6--><a href=\"psysml:ed944fef-70b9-4524-9917-716ca36e9ac1\" target=\"_top\" title=\"psysml:ed944fef-70b9-4524-9917-716ca36e9ac1\" xlink:actuate=\"onRequest\" xlink:href=\"psysml:ed944fef-70b9-4524-9917-716ca36e9ac1\" xlink:show=\"new\" xlink:title=\"psysml:ed944fef-70b9-4524-9917-716ca36e9ac1\" xlink:type=\"simple\"><polygon fill=\"#FFFFFF\" points=\"161,294,211,294,218,316.2969,386,316.2969,386,506,161,506,161,294\" style=\"stroke: #000000; stroke-width: 1.5;\"/><line style=\"stroke: #000000; stroke-width: 1.5;\" x1=\"161\" x2=\"218\" y1=\"316.2969\" y2=\"316.2969\"/><text fill=\"#000000\" font-family=\"sans-serif\" font-size=\"14\" font-weight=\"bold\" lengthAdjust=\"spacingAndGlyphs\" textLength=\"44\" x=\"165\" y=\"308.9951\">Pkg21</text></a><!--MD5=[168fadf3d0c3fd93dd5d6da1b1d7ab76]\n",
       "cluster E7--><a href=\"psysml:9f58dbb8-6a8c-4281-a4ad-0fbab28478f4\" target=\"_top\" title=\"psysml:9f58dbb8-6a8c-4281-a4ad-0fbab28478f4\" xlink:actuate=\"onRequest\" xlink:href=\"psysml:9f58dbb8-6a8c-4281-a4ad-0fbab28478f4\" xlink:show=\"new\" xlink:title=\"psysml:9f58dbb8-6a8c-4281-a4ad-0fbab28478f4\" xlink:type=\"simple\"><polygon fill=\"#FFFFFF\" points=\"209,353,268,353,275,375.2969,346,375.2969,346,466,209,466,209,353\" style=\"stroke: #000000; stroke-width: 1.5;\"/><line style=\"stroke: #000000; stroke-width: 1.5;\" x1=\"209\" x2=\"275\" y1=\"375.2969\" y2=\"375.2969\"/><text fill=\"#000000\" font-family=\"sans-serif\" font-size=\"14\" font-weight=\"bold\" lengthAdjust=\"spacingAndGlyphs\" textLength=\"53\" x=\"213\" y=\"367.9951\">Pkg211</text></a><!--MD5=[09b614a08d8cba4a07c9adeb5e0fee81]\n",
       "class E3--><a href=\"psysml:fe6123c1-7336-461e-a67a-648132fed175\" target=\"_top\" title=\"psysml:fe6123c1-7336-461e-a67a-648132fed175\" xlink:actuate=\"onRequest\" xlink:href=\"psysml:fe6123c1-7336-461e-a67a-648132fed175\" xlink:show=\"new\" xlink:title=\"psysml:fe6123c1-7336-461e-a67a-648132fed175\" xlink:type=\"simple\"><rect fill=\"#FFFFFF\" height=\"45.9375\" id=\"E3\" rx=\"10\" ry=\"10\" style=\"stroke: #383838; stroke-width: 1.5;\" width=\"74\" x=\"265\" y=\"100\"/><text fill=\"#000000\" font-family=\"sans-serif\" font-size=\"12\" font-style=\"italic\" lengthAdjust=\"spacingAndGlyphs\" textLength=\"40\" x=\"282\" y=\"116.1387\">«part»</text><text fill=\"#000000\" font-family=\"sans-serif\" font-size=\"12\" lengthAdjust=\"spacingAndGlyphs\" textLength=\"64\" x=\"268\" y=\"130.1074\">p11: P211</text><line style=\"stroke: #383838; stroke-width: 1.5;\" x1=\"266\" x2=\"338\" y1=\"137.9375\" y2=\"137.9375\"/></a><!--MD5=[ebbe1d658d1005bcc118a6aa81145e00]\n",
       "class E4--><a href=\"psysml:1380541e-fc30-40f5-9a60-edda9aa0065e\" target=\"_top\" title=\"psysml:1380541e-fc30-40f5-9a60-edda9aa0065e\" xlink:actuate=\"onRequest\" xlink:href=\"psysml:1380541e-fc30-40f5-9a60-edda9aa0065e\" xlink:show=\"new\" xlink:title=\"psysml:1380541e-fc30-40f5-9a60-edda9aa0065e\" xlink:type=\"simple\"><rect fill=\"#FFFFFF\" height=\"45.9375\" id=\"E4\" style=\"stroke: #383838; stroke-width: 1.5;\" width=\"70\" x=\"374\" y=\"100\"/><text fill=\"#000000\" font-family=\"sans-serif\" font-size=\"12\" font-style=\"italic\" lengthAdjust=\"spacingAndGlyphs\" textLength=\"68\" x=\"375\" y=\"116.1387\">«part  def»</text><text fill=\"#000000\" font-family=\"sans-serif\" font-size=\"12\" lengthAdjust=\"spacingAndGlyphs\" textLength=\"24\" x=\"397\" y=\"130.1074\">P12</text><line style=\"stroke: #383838; stroke-width: 1.5;\" x1=\"375\" x2=\"443\" y1=\"137.9375\" y2=\"137.9375\"/></a><!--MD5=[b9389687b975829384b498ac4b7476b2]\n",
       "class E8--><a href=\"psysml:4acbdff1-c8fe-48cb-afd1-a68daa112cad\" target=\"_top\" title=\"psysml:4acbdff1-c8fe-48cb-afd1-a68daa112cad\" xlink:actuate=\"onRequest\" xlink:href=\"psysml:4acbdff1-c8fe-48cb-afd1-a68daa112cad\" xlink:show=\"new\" xlink:title=\"psysml:4acbdff1-c8fe-48cb-afd1-a68daa112cad\" xlink:type=\"simple\"><rect fill=\"#FFFFFF\" height=\"45.9375\" id=\"E8\" style=\"stroke: #383838; stroke-width: 1.5;\" width=\"70\" x=\"252\" y=\"396\"/><text fill=\"#000000\" font-family=\"sans-serif\" font-size=\"12\" font-style=\"italic\" lengthAdjust=\"spacingAndGlyphs\" textLength=\"68\" x=\"253\" y=\"412.1387\">«part  def»</text><text fill=\"#000000\" font-family=\"sans-serif\" font-size=\"12\" lengthAdjust=\"spacingAndGlyphs\" textLength=\"32\" x=\"271\" y=\"426.1074\">P211</text><line style=\"stroke: #383838; stroke-width: 1.5;\" x1=\"253\" x2=\"321\" y1=\"433.9375\" y2=\"433.9375\"/></a><!--MD5=[b0060bfdb0500b904584095522b4da3c]\n",
       "link E2 to E8--><a href=\"psysml:4f20d9a0-229b-41ce-a3f9-ec650db8275f\" target=\"_top\" title=\"psysml:4f20d9a0-229b-41ce-a3f9-ec650db8275f\" xlink:actuate=\"onRequest\" xlink:href=\"psysml:4f20d9a0-229b-41ce-a3f9-ec650db8275f\" xlink:show=\"new\" xlink:title=\"psysml:4f20d9a0-229b-41ce-a3f9-ec650db8275f\" xlink:type=\"simple\"><path d=\"M239.5673,170.044 C239.9187,170.8643 240.2829,171.6796 240.6605,172.4884 C241.4156,174.106 242.2242,175.6975 243.0899,177.2503 C244.8213,180.3558 246.7813,183.3063 249,186 C253.8,191.83 259.79,187.73 264,194 C304.62,254.46 298.3,345.57 291.84,390.69 \" fill=\"none\" id=\"E2-&gt;E8\" style=\"stroke: #383838; stroke-width: 1.0; stroke-dasharray: 7.0,7.0;\"/><polygon fill=\"#383838\" points=\"291.1,395.69,296.3662,387.3673,291.8271,390.7431,288.4512,386.204,291.1,395.69\" style=\"stroke: #383838; stroke-width: 1.0;\"/><text fill=\"#000000\" font-family=\"sans-serif\" font-size=\"13\" lengthAdjust=\"spacingAndGlyphs\" textLength=\"58\" x=\"274\" y=\"207.0669\">«import»</text></a><!--MD5=[e3e28c1befcf002155aa15e1416b4315]\n",
       "link E2 to E6--><a href=\"psysml:682e8ea7-bcd5-404d-bf47-54c119ed8bb7\" target=\"_top\" title=\"psysml:682e8ea7-bcd5-404d-bf47-54c119ed8bb7\" xlink:actuate=\"onRequest\" xlink:href=\"psysml:682e8ea7-bcd5-404d-bf47-54c119ed8bb7\" xlink:show=\"new\" xlink:title=\"psysml:682e8ea7-bcd5-404d-bf47-54c119ed8bb7\" xlink:type=\"simple\"><path d=\"M221.7454,125.2359 C221.6297,125.2555 221.5129,125.2754 221.395,125.2955 C221.1593,125.3358 220.9193,125.3771 220.6752,125.4195 C220.1869,125.5042 219.6819,125.5933 219.1609,125.6868 C217.0769,126.0607 214.7359,126.5053 212.1769,127.0288 C201.9406,129.1225 188.215,132.4775 173.4875,137.615 C144.0325,147.89 110.57,165.295 93,194 C65.99,238.135 83.98,293.0875 109.2162,337.5175 C121.8344,359.7325 136.2641,379.3169 147.7861,393.6031 C150.6666,397.1747 153.3654,400.4151 155.8087,403.2827 C157.0304,404.7165 158.1881,406.0571 159.2728,407.2993 C159.8152,407.9204 160.3393,408.5169 160.8439,409.0882 \" fill=\"none\" id=\"E2-&gt;E6\" style=\"stroke: #383838; stroke-width: 1.0; stroke-dasharray: 7.0,7.0;\"/><polygon fill=\"#383838\" points=\"160.8439,409.0882,157.8829,399.695,157.5335,405.341,151.8875,404.9916,160.8439,409.0882\" style=\"stroke: #383838; stroke-width: 1.0;\"/><text fill=\"#000000\" font-family=\"sans-serif\" font-size=\"13\" lengthAdjust=\"spacingAndGlyphs\" textLength=\"65\" x=\"94\" y=\"207.0669\">«import»*</text></a><!--MD5=[e3d2a08a9c9236652057e8ed0cbc9b62]\n",
       "link E2 to E7--><a href=\"psysml:60c32f43-2902-493b-8362-f480edbb78ed\" target=\"_top\" title=\"psysml:60c32f43-2902-493b-8362-f480edbb78ed\" xlink:actuate=\"onRequest\" xlink:href=\"psysml:60c32f43-2902-493b-8362-f480edbb78ed\" xlink:show=\"new\" xlink:title=\"psysml:60c32f43-2902-493b-8362-f480edbb78ed\" xlink:type=\"simple\"><path d=\"M221.8807,130.2617 C221.7401,130.3761 221.5982,130.4918 221.4548,130.6091 C216.8678,134.36 210.8594,139.5688 204.5113,145.875 C191.815,158.4875 177.76,175.49 171,194 C168.41,201.1 166.18,205.18 171,211 C183.11,225.64 200.74,204.48 213,219 C227.045,235.63 228.2325,284.0975 225.8175,329.0338 C225.5156,334.6508 225.1575,340.2126 224.7611,345.6502 C224.662,347.0096 224.5605,348.3613 224.4569,349.7041 C224.4051,350.3755 224.3528,351.0446 224.3,351.7115 C224.2736,352.0449 224.2471,352.3777 224.2204,352.71 \" fill=\"none\" id=\"E2-&gt;E7\" style=\"stroke: #383838; stroke-width: 1.0; stroke-dasharray: 7.0,7.0;\"/><polygon fill=\"#383838\" points=\"224.2204,352.71,228.9272,344.0586,224.6202,347.726,220.9528,343.419,224.2204,352.71\" style=\"stroke: #383838; stroke-width: 1.0;\"/><text fill=\"#000000\" font-family=\"sans-serif\" font-size=\"13\" lengthAdjust=\"spacingAndGlyphs\" textLength=\"87\" x=\"172\" y=\"207.0669\">«import»*::**</text></a><!--MD5=[ca5a752d6098d8a44b3f88316e7452d1]\n",
       "link E3 to E8--><a href=\"psysml:37accf74-aaef-4298-a8d1-458e277c829e\" target=\"_top\" title=\"psysml:37accf74-aaef-4298-a8d1-458e277c829e\" xlink:actuate=\"onRequest\" xlink:href=\"psysml:37accf74-aaef-4298-a8d1-458e277c829e\" xlink:show=\"new\" xlink:title=\"psysml:37accf74-aaef-4298-a8d1-458e277c829e\" xlink:type=\"simple\"><path d=\"M321.59,146.07 C339.73,166.51 363.93,193.81 364,194 C366.68,201.06 368.76,205.13 364,211 C353.13,224.4 338.12,206.71 326,219 C285.31,260.27 280.82,330.75 282.81,375.81 \" fill=\"none\" id=\"E3-&gt;E8\" style=\"stroke: #383838; stroke-width: 1.0;\"/><polygon fill=\"#FFFFFF\" points=\"284.19,395.93,275.9039,377.4546,289.8709,376.4948,284.19,395.93\" style=\"stroke: #383838; stroke-width: 1.0;\"/><ellipse cx=\"277.5084\" cy=\"371.6309\" fill=\"#383838\" rx=\"2\" ry=\"2\" style=\"stroke: #383838; stroke-width: 1.0;\"/><ellipse cx=\"287.4849\" cy=\"370.9453\" fill=\"#383838\" rx=\"2\" ry=\"2\" style=\"stroke: #383838; stroke-width: 1.0;\"/></a><!--MD5=[15ebcb19ae302d9b601edb458606d402]\n",
       "link E5 to E2--><a href=\"psysml:a29f5286-6760-4cc8-8866-2ed3ee4f3eda\" target=\"_top\" title=\"psysml:a29f5286-6760-4cc8-8866-2ed3ee4f3eda\" xlink:actuate=\"onRequest\" xlink:href=\"psysml:a29f5286-6760-4cc8-8866-2ed3ee4f3eda\" xlink:show=\"new\" xlink:title=\"psysml:a29f5286-6760-4cc8-8866-2ed3ee4f3eda\" xlink:type=\"simple\"><path d=\"M377.9071,234.5987 C377.6837,234.254 377.4593,233.91 377.2338,233.5668 C376.3317,232.1941 375.413,230.8338 374.4773,229.4868 C372.6059,226.7928 370.6665,224.152 368.6567,221.572 C360.6175,211.2517 351.4513,201.9025 341,194 C324.63,181.62 264.96,198.91 249,186 C246.2863,183.805 243.9511,181.2325 241.9426,178.4061 C240.9384,176.9929 240.0159,175.5163 239.1685,173.9916 C238.7448,173.2292 238.3399,172.4549 237.953,171.6705 C237.7596,171.2782 237.5706,170.8835 237.3861,170.4865 C237.3399,170.3873 237.2941,170.2879 237.2485,170.1883 \" fill=\"none\" id=\"E5-&gt;E2\" style=\"stroke: #383838; stroke-width: 1.0; stroke-dasharray: 7.0,7.0;\"/><polygon fill=\"#383838\" points=\"237.2485,170.1883,237.3599,180.0366,239.3307,174.7341,244.6331,176.705,237.2485,170.1883\" style=\"stroke: #383838; stroke-width: 1.0;\"/><text fill=\"#000000\" font-family=\"sans-serif\" font-size=\"13\" lengthAdjust=\"spacingAndGlyphs\" textLength=\"65\" x=\"356\" y=\"207.0669\">«import»*</text></a><!--MD5=[d7bb3fb34add81b710575eb3799fa2ad]\n",
       "link E8 to E4--><a href=\"psysml:d1a96eaf-259a-4888-9f98-ae46b38eb818\" target=\"_top\" title=\"psysml:d1a96eaf-259a-4888-9f98-ae46b38eb818\" xlink:actuate=\"onRequest\" xlink:href=\"psysml:d1a96eaf-259a-4888-9f98-ae46b38eb818\" xlink:show=\"new\" xlink:title=\"psysml:d1a96eaf-259a-4888-9f98-ae46b38eb818\" xlink:type=\"simple\"><path d=\"M283.6,395.87 C278.58,354.03 274.69,263.54 326,219 C338.77,207.91 466.36,223.27 478,211 C493.94,194.2 479.72,174.01 460.15,157.31 \" fill=\"none\" id=\"E8-&gt;E4\" style=\"stroke: #383838; stroke-width: 1.0;\"/><polygon fill=\"none\" points=\"455.78,162.78,444.15,145.06,464.29,151.66,455.78,162.78\" style=\"stroke: #383838; stroke-width: 1.0;\"/></a><!--MD5=[90fce90356b3401ea75f6abdce0dcf83]\n",
       "@startuml\r\n",
       " skinparam monochrome true\r\n",
       "skinparam classbackgroundcolor white\r\n",
       "skinparam shadowing false\r\n",
       "skinparam wrapWidth 300\r\n",
       "hide circle\r\n",
       "\r\n",
       "package \"ImportTest\" as E1  [[psysml:4ef55e29-a78c-4120-8a0e-706d60f3b916 ]]  {\r\n",
       "package \"Pkg1\" as E2  [[psysml:fc5e85ef-31d8-4451-b981-c90381fde50e ]]  {\r\n",
       "comp usage \"p11: P211 \" as E3  <<(T,blue) part>> [[psysml:fe6123c1-7336-461e-a67a-648132fed175 ]] {\r\n",
       "}\r\n",
       "comp def \"P12\" as E4  <<(T,blue) part  def>> [[psysml:1380541e-fc30-40f5-9a60-edda9aa0065e ]] {\r\n",
       "}\r\n",
       "}\r\n",
       "package \"Pkg2\" as E5  [[psysml:c270e78f-1935-46bf-a024-66cb4836716b ]]  {\r\n",
       "package \"Pkg21\" as E6  [[psysml:ed944fef-70b9-4524-9917-716ca36e9ac1 ]]  {\r\n",
       "package \"Pkg211\" as E7  [[psysml:9f58dbb8-6a8c-4281-a4ad-0fbab28478f4 ]]  {\r\n",
       "comp def \"P211\" as E8  <<(T,blue) part  def>> [[psysml:4acbdff1-c8fe-48cb-afd1-a68daa112cad ]] {\r\n",
       "}\r\n",
       "}\r\n",
       "}\r\n",
       "}\r\n",
       "}\r\n",
       "E2 ..> E8 [[psysml:4f20d9a0-229b-41ce-a3f9-ec650db8275f ]] : <<import>>\r\n",
       "E2 ..> E6 [[psysml:682e8ea7-bcd5-404d-bf47-54c119ed8bb7 ]] : <<import>>*\r\n",
       "E2 ..> E7 [[psysml:60c32f43-2902-493b-8362-f480edbb78ed ]] : <<import>>*::**\r\n",
       "E3 - -:|> E8 [[psysml:37accf74-aaef-4298-a8d1-458e277c829e ]] \r\n",
       "E5 ..> E2 [[psysml:a29f5286-6760-4cc8-8866-2ed3ee4f3eda ]] : <<import>>*\r\n",
       "E8 - -|> E4 [[psysml:d1a96eaf-259a-4888-9f98-ae46b38eb818 ]] \r\n",
       "@enduml\r\n",
       "\n",
       "PlantUML version 1.2020.13(Sat Jun 13 12:26:38 UTC 2020)\n",
       "(EPL source distribution)\n",
       "Java Runtime: OpenJDK Runtime Environment\n",
       "JVM: OpenJDK 64-Bit Server VM\n",
       "Default Encoding: UTF-8\n",
       "Language: en\n",
       "Country: null\n",
       "--></g></svg>"
      ]
     },
     "execution_count": 8,
     "metadata": {},
     "output_type": "execute_result"
    }
   ],
   "source": [
    "%viz --style=\"COMPTREE\" --view=\"MIXED\" \"ImportTest\""
   ]
  },
  {
   "cell_type": "code",
   "execution_count": 9,
   "id": "eb2b4125",
   "metadata": {
    "execution": {
     "iopub.execute_input": "2022-02-18T10:46:58.023781Z",
     "iopub.status.busy": "2022-02-18T10:46:58.023520Z",
     "iopub.status.idle": "2022-02-18T10:46:58.075498Z",
     "shell.execute_reply": "2022-02-18T10:46:58.075134Z"
    }
   },
   "outputs": [
    {
     "data": {
      "image/svg+xml": [
       "<?xml version=\"1.0\" encoding=\"UTF-8\" standalone=\"no\"?><svg xmlns=\"http://www.w3.org/2000/svg\" xmlns:xlink=\"http://www.w3.org/1999/xlink\" contentScriptType=\"application/ecmascript\" contentStyleType=\"text/css\" height=\"590px\" preserveAspectRatio=\"none\" style=\"width:522px;height:590px;\" version=\"1.1\" viewBox=\"0 0 522 590\" width=\"522px\" zoomAndPan=\"magnify\"><defs/><g><!--MD5=[fbc87193dbaf4d95561dea2c320d4a47]\n",
       "cluster E1--><a href=\"psysml:4ef55e29-a78c-4120-8a0e-706d60f3b916\" target=\"_top\" title=\"psysml:4ef55e29-a78c-4120-8a0e-706d60f3b916\" xlink:actuate=\"onRequest\" xlink:href=\"psysml:4ef55e29-a78c-4120-8a0e-706d60f3b916\" xlink:show=\"new\" xlink:title=\"psysml:4ef55e29-a78c-4120-8a0e-706d60f3b916\" xlink:type=\"simple\"><polygon fill=\"#FFFFFF\" points=\"16,6,97,6,104,28.2969,500,28.2969,500,578,16,578,16,6\" style=\"stroke: #000000; stroke-width: 1.5;\"/><line style=\"stroke: #000000; stroke-width: 1.5;\" x1=\"16\" x2=\"104\" y1=\"28.2969\" y2=\"28.2969\"/><text fill=\"#000000\" font-family=\"sans-serif\" font-size=\"14\" font-weight=\"bold\" lengthAdjust=\"spacingAndGlyphs\" textLength=\"75\" x=\"20\" y=\"20.9951\">ImportTest</text></a><!--MD5=[e4f7fae6ed58524ba242bb0b0d3be6b7]\n",
       "cluster E2--><a href=\"psysml:fc5e85ef-31d8-4451-b981-c90381fde50e\" target=\"_top\" title=\"psysml:fc5e85ef-31d8-4451-b981-c90381fde50e\" xlink:actuate=\"onRequest\" xlink:href=\"psysml:fc5e85ef-31d8-4451-b981-c90381fde50e\" xlink:show=\"new\" xlink:title=\"psysml:fc5e85ef-31d8-4451-b981-c90381fde50e\" xlink:type=\"simple\"><polygon fill=\"#FFFFFF\" points=\"222,57,263,57,270,79.2969,468,79.2969,468,170,222,170,222,57\" style=\"stroke: #000000; stroke-width: 1.5;\"/><line style=\"stroke: #000000; stroke-width: 1.5;\" x1=\"222\" x2=\"270\" y1=\"79.2969\" y2=\"79.2969\"/><text fill=\"#000000\" font-family=\"sans-serif\" font-size=\"14\" font-weight=\"bold\" lengthAdjust=\"spacingAndGlyphs\" textLength=\"35\" x=\"226\" y=\"71.9951\">Pkg1</text></a><!--MD5=[de5ec2e2e8f62f467e546659f5068c88]\n",
       "cluster E5--><a href=\"psysml:c270e78f-1935-46bf-a024-66cb4836716b\" target=\"_top\" title=\"psysml:c270e78f-1935-46bf-a024-66cb4836716b\" xlink:actuate=\"onRequest\" xlink:href=\"psysml:c270e78f-1935-46bf-a024-66cb4836716b\" xlink:show=\"new\" xlink:title=\"psysml:c270e78f-1935-46bf-a024-66cb4836716b\" xlink:type=\"simple\"><polygon fill=\"#FFFFFF\" points=\"121,235,162,235,169,257.2969,434,257.2969,434,546,121,546,121,235\" style=\"stroke: #000000; stroke-width: 1.5;\"/><line style=\"stroke: #000000; stroke-width: 1.5;\" x1=\"121\" x2=\"169\" y1=\"257.2969\" y2=\"257.2969\"/><text fill=\"#000000\" font-family=\"sans-serif\" font-size=\"14\" font-weight=\"bold\" lengthAdjust=\"spacingAndGlyphs\" textLength=\"35\" x=\"125\" y=\"249.9951\">Pkg2</text></a><!--MD5=[14e3b0961a2654348d326746436168a1]\n",
       "cluster E6--><a href=\"psysml:ed944fef-70b9-4524-9917-716ca36e9ac1\" target=\"_top\" title=\"psysml:ed944fef-70b9-4524-9917-716ca36e9ac1\" xlink:actuate=\"onRequest\" xlink:href=\"psysml:ed944fef-70b9-4524-9917-716ca36e9ac1\" xlink:show=\"new\" xlink:title=\"psysml:ed944fef-70b9-4524-9917-716ca36e9ac1\" xlink:type=\"simple\"><polygon fill=\"#FFFFFF\" points=\"161,294,211,294,218,316.2969,386,316.2969,386,506,161,506,161,294\" style=\"stroke: #000000; stroke-width: 1.5;\"/><line style=\"stroke: #000000; stroke-width: 1.5;\" x1=\"161\" x2=\"218\" y1=\"316.2969\" y2=\"316.2969\"/><text fill=\"#000000\" font-family=\"sans-serif\" font-size=\"14\" font-weight=\"bold\" lengthAdjust=\"spacingAndGlyphs\" textLength=\"44\" x=\"165\" y=\"308.9951\">Pkg21</text></a><!--MD5=[168fadf3d0c3fd93dd5d6da1b1d7ab76]\n",
       "cluster E7--><a href=\"psysml:9f58dbb8-6a8c-4281-a4ad-0fbab28478f4\" target=\"_top\" title=\"psysml:9f58dbb8-6a8c-4281-a4ad-0fbab28478f4\" xlink:actuate=\"onRequest\" xlink:href=\"psysml:9f58dbb8-6a8c-4281-a4ad-0fbab28478f4\" xlink:show=\"new\" xlink:title=\"psysml:9f58dbb8-6a8c-4281-a4ad-0fbab28478f4\" xlink:type=\"simple\"><polygon fill=\"#FFFFFF\" points=\"209,353,268,353,275,375.2969,346,375.2969,346,466,209,466,209,353\" style=\"stroke: #000000; stroke-width: 1.5;\"/><line style=\"stroke: #000000; stroke-width: 1.5;\" x1=\"209\" x2=\"275\" y1=\"375.2969\" y2=\"375.2969\"/><text fill=\"#000000\" font-family=\"sans-serif\" font-size=\"14\" font-weight=\"bold\" lengthAdjust=\"spacingAndGlyphs\" textLength=\"53\" x=\"213\" y=\"367.9951\">Pkg211</text></a><!--MD5=[09b614a08d8cba4a07c9adeb5e0fee81]\n",
       "class E3--><a href=\"psysml:fe6123c1-7336-461e-a67a-648132fed175\" target=\"_top\" title=\"psysml:fe6123c1-7336-461e-a67a-648132fed175\" xlink:actuate=\"onRequest\" xlink:href=\"psysml:fe6123c1-7336-461e-a67a-648132fed175\" xlink:show=\"new\" xlink:title=\"psysml:fe6123c1-7336-461e-a67a-648132fed175\" xlink:type=\"simple\"><rect fill=\"#FFFFFF\" height=\"45.9375\" id=\"E3\" rx=\"10\" ry=\"10\" style=\"stroke: #383838; stroke-width: 1.5;\" width=\"74\" x=\"265\" y=\"100\"/><text fill=\"#000000\" font-family=\"sans-serif\" font-size=\"12\" font-style=\"italic\" lengthAdjust=\"spacingAndGlyphs\" textLength=\"40\" x=\"282\" y=\"116.1387\">«part»</text><text fill=\"#000000\" font-family=\"sans-serif\" font-size=\"12\" lengthAdjust=\"spacingAndGlyphs\" textLength=\"64\" x=\"268\" y=\"130.1074\">p11: P211</text><line style=\"stroke: #383838; stroke-width: 1.5;\" x1=\"266\" x2=\"338\" y1=\"137.9375\" y2=\"137.9375\"/></a><!--MD5=[ebbe1d658d1005bcc118a6aa81145e00]\n",
       "class E4--><a href=\"psysml:1380541e-fc30-40f5-9a60-edda9aa0065e\" target=\"_top\" title=\"psysml:1380541e-fc30-40f5-9a60-edda9aa0065e\" xlink:actuate=\"onRequest\" xlink:href=\"psysml:1380541e-fc30-40f5-9a60-edda9aa0065e\" xlink:show=\"new\" xlink:title=\"psysml:1380541e-fc30-40f5-9a60-edda9aa0065e\" xlink:type=\"simple\"><rect fill=\"#FFFFFF\" height=\"45.9375\" id=\"E4\" style=\"stroke: #383838; stroke-width: 1.5;\" width=\"70\" x=\"374\" y=\"100\"/><text fill=\"#000000\" font-family=\"sans-serif\" font-size=\"12\" font-style=\"italic\" lengthAdjust=\"spacingAndGlyphs\" textLength=\"68\" x=\"375\" y=\"116.1387\">«part  def»</text><text fill=\"#000000\" font-family=\"sans-serif\" font-size=\"12\" lengthAdjust=\"spacingAndGlyphs\" textLength=\"24\" x=\"397\" y=\"130.1074\">P12</text><line style=\"stroke: #383838; stroke-width: 1.5;\" x1=\"375\" x2=\"443\" y1=\"137.9375\" y2=\"137.9375\"/></a><!--MD5=[b9389687b975829384b498ac4b7476b2]\n",
       "class E8--><a href=\"psysml:4acbdff1-c8fe-48cb-afd1-a68daa112cad\" target=\"_top\" title=\"psysml:4acbdff1-c8fe-48cb-afd1-a68daa112cad\" xlink:actuate=\"onRequest\" xlink:href=\"psysml:4acbdff1-c8fe-48cb-afd1-a68daa112cad\" xlink:show=\"new\" xlink:title=\"psysml:4acbdff1-c8fe-48cb-afd1-a68daa112cad\" xlink:type=\"simple\"><rect fill=\"#FFFFFF\" height=\"45.9375\" id=\"E8\" style=\"stroke: #383838; stroke-width: 1.5;\" width=\"70\" x=\"252\" y=\"396\"/><text fill=\"#000000\" font-family=\"sans-serif\" font-size=\"12\" font-style=\"italic\" lengthAdjust=\"spacingAndGlyphs\" textLength=\"68\" x=\"253\" y=\"412.1387\">«part  def»</text><text fill=\"#000000\" font-family=\"sans-serif\" font-size=\"12\" lengthAdjust=\"spacingAndGlyphs\" textLength=\"32\" x=\"271\" y=\"426.1074\">P211</text><line style=\"stroke: #383838; stroke-width: 1.5;\" x1=\"253\" x2=\"321\" y1=\"433.9375\" y2=\"433.9375\"/></a><!--MD5=[b0060bfdb0500b904584095522b4da3c]\n",
       "link E2 to E8--><a href=\"psysml:4f20d9a0-229b-41ce-a3f9-ec650db8275f\" target=\"_top\" title=\"psysml:4f20d9a0-229b-41ce-a3f9-ec650db8275f\" xlink:actuate=\"onRequest\" xlink:href=\"psysml:4f20d9a0-229b-41ce-a3f9-ec650db8275f\" xlink:show=\"new\" xlink:title=\"psysml:4f20d9a0-229b-41ce-a3f9-ec650db8275f\" xlink:type=\"simple\"><path d=\"M244.141,170.1434 C244.2057,170.3545 244.27,170.5643 244.3339,170.7729 C244.4617,171.1899 244.5879,171.6018 244.7124,172.0081 C245.2104,173.633 245.6806,175.1677 246.1144,176.5831 C247.8494,182.245 249,186 249,186 C249,186 264,194 264,194 C264,194 278.03,330.67 284.18,390.5 \" fill=\"none\" id=\"E2-&gt;E8\" style=\"stroke: #383838; stroke-width: 1.0; stroke-dasharray: 7.0,7.0;\"/><polygon fill=\"#383838\" points=\"284.71,395.7,287.7627,386.3362,284.1955,390.7265,279.8051,387.1594,284.71,395.7\" style=\"stroke: #383838; stroke-width: 1.0;\"/><text fill=\"#000000\" font-family=\"sans-serif\" font-size=\"13\" lengthAdjust=\"spacingAndGlyphs\" textLength=\"58\" x=\"266\" y=\"207.0669\">«import»</text></a><!--MD5=[e3e28c1befcf002155aa15e1416b4315]\n",
       "link E2 to E6--><a href=\"psysml:682e8ea7-bcd5-404d-bf47-54c119ed8bb7\" target=\"_top\" title=\"psysml:682e8ea7-bcd5-404d-bf47-54c119ed8bb7\" xlink:actuate=\"onRequest\" xlink:href=\"psysml:682e8ea7-bcd5-404d-bf47-54c119ed8bb7\" xlink:show=\"new\" xlink:title=\"psysml:682e8ea7-bcd5-404d-bf47-54c119ed8bb7\" xlink:type=\"simple\"><path d=\"M221.8378,128.263 C221.7063,128.3317 221.5734,128.4012 221.4391,128.4713 C220.902,128.752 220.3429,129.044 219.7629,129.3471 C218.6029,129.9531 217.359,130.603 216.0391,131.2926 C213.3993,132.6717 210.4553,134.2098 207.2695,135.8741 C194.5266,142.5313 177.9156,151.2088 161.4313,159.82 C128.4625,177.0425 96,194 96,194 C96,194 96,211 96,211 C96,211 113.685,261.145 131.6463,312.0738 C140.6269,337.5381 149.6766,363.1984 156.6192,382.8845 C157.4871,385.3453 158.322,387.7127 159.1197,389.9747 C159.5186,391.1057 159.9081,392.2104 160.2879,393.2872 C160.4778,393.8256 160.6652,394.357 160.8501,394.8813 \" fill=\"none\" id=\"E2-&gt;E6\" style=\"stroke: #383838; stroke-width: 1.0; stroke-dasharray: 7.0,7.0;\"/><polygon fill=\"#383838\" points=\"160.8501,394.8813,161.6291,385.0633,159.1871,390.166,154.0845,387.724,160.8501,394.8813\" style=\"stroke: #383838; stroke-width: 1.0;\"/><text fill=\"#000000\" font-family=\"sans-serif\" font-size=\"13\" lengthAdjust=\"spacingAndGlyphs\" textLength=\"65\" x=\"97\" y=\"207.0669\">«import»*</text></a><!--MD5=[e3d2a08a9c9236652057e8ed0cbc9b62]\n",
       "link E2 to E7--><a href=\"psysml:60c32f43-2902-493b-8362-f480edbb78ed\" target=\"_top\" title=\"psysml:60c32f43-2902-493b-8362-f480edbb78ed\" xlink:actuate=\"onRequest\" xlink:href=\"psysml:60c32f43-2902-493b-8362-f480edbb78ed\" xlink:show=\"new\" xlink:title=\"psysml:60c32f43-2902-493b-8362-f480edbb78ed\" xlink:type=\"simple\"><path d=\"M221.7702,133.7649 C221.6886,133.8616 221.6067,133.9589 221.5242,134.0567 C221.3593,134.2523 221.1926,134.4501 221.0241,134.65 C220.6871,135.0498 220.3431,135.458 219.9923,135.8741 C214.3809,142.5313 207.0669,151.2088 199.8087,159.82 C185.2925,177.0425 171,194 171,194 C171,194 171,211 171,211 C171,211 213,219 213,219 C213,219 213.97,267.2075 214.955,316.1688 C215.2013,328.4091 215.4484,340.6965 215.6816,352.2896 \" fill=\"none\" id=\"E2-&gt;E7\" style=\"stroke: #383838; stroke-width: 1.0; stroke-dasharray: 7.0,7.0;\"/><polygon fill=\"#383838\" points=\"215.6816,352.2896,219.4998,343.2109,215.5811,347.2906,211.5014,343.3718,215.6816,352.2896\" style=\"stroke: #383838; stroke-width: 1.0;\"/><text fill=\"#000000\" font-family=\"sans-serif\" font-size=\"13\" lengthAdjust=\"spacingAndGlyphs\" textLength=\"87\" x=\"172\" y=\"207.0669\">«import»*::**</text></a><!--MD5=[ca5a752d6098d8a44b3f88316e7452d1]\n",
       "link E3 to E8--><a href=\"psysml:37accf74-aaef-4298-a8d1-458e277c829e\" target=\"_top\" title=\"psysml:37accf74-aaef-4298-a8d1-458e277c829e\" xlink:actuate=\"onRequest\" xlink:href=\"psysml:37accf74-aaef-4298-a8d1-458e277c829e\" xlink:show=\"new\" xlink:title=\"psysml:37accf74-aaef-4298-a8d1-458e277c829e\" xlink:type=\"simple\"><path d=\"M321.62,146.15 C339.78,166.66 364,194 364,194 C364,194 364,211 364,211 C364,211 326,219 326,219 C326,219 306.63,317.82 295.19,376.19 \" fill=\"none\" id=\"E3-&gt;E8\" style=\"stroke: #383838; stroke-width: 1.0;\"/><polygon fill=\"#FFFFFF\" points=\"291.32,395.94,288.1009,375.9491,301.8401,378.6389,291.32,395.94\" style=\"stroke: #383838; stroke-width: 1.0;\"/><ellipse cx=\"291.1588\" cy=\"370.7395\" fill=\"#383838\" rx=\"2\" ry=\"2\" style=\"stroke: #383838; stroke-width: 1.0;\"/><ellipse cx=\"300.9725\" cy=\"372.6608\" fill=\"#383838\" rx=\"2\" ry=\"2\" style=\"stroke: #383838; stroke-width: 1.0;\"/></a><!--MD5=[15ebcb19ae302d9b601edb458606d402]\n",
       "link E5 to E2--><a href=\"psysml:a29f5286-6760-4cc8-8866-2ed3ee4f3eda\" target=\"_top\" title=\"psysml:a29f5286-6760-4cc8-8866-2ed3ee4f3eda\" xlink:actuate=\"onRequest\" xlink:href=\"psysml:a29f5286-6760-4cc8-8866-2ed3ee4f3eda\" xlink:show=\"new\" xlink:title=\"psysml:a29f5286-6760-4cc8-8866-2ed3ee4f3eda\" xlink:type=\"simple\"><path d=\"M350.0108,234.9703 C349.8689,234.6284 349.7275,234.288 349.5868,233.9491 C349.3055,233.2714 349.0266,232.5998 348.7504,231.9345 C348.1979,230.6039 347.6559,229.2986 347.1252,228.0202 C338.6325,207.5656 333,194 333,194 C333,194 249,186 249,186 C249,186 247.8494,182.245 246.1144,176.5831 C245.6806,175.1677 245.2104,173.633 244.7124,172.0081 C244.5879,171.6018 244.4617,171.1899 244.3339,170.7729 C244.27,170.5643 244.2057,170.3545 244.141,170.1434 \" fill=\"none\" id=\"E5-&gt;E2\" style=\"stroke: #383838; stroke-width: 1.0; stroke-dasharray: 7.0,7.0;\"/><polygon fill=\"#383838\" points=\"244.141,170.1434,242.9535,179.9204,245.606,174.924,250.6024,177.5765,244.141,170.1434\" style=\"stroke: #383838; stroke-width: 1.0;\"/><text fill=\"#000000\" font-family=\"sans-serif\" font-size=\"13\" lengthAdjust=\"spacingAndGlyphs\" textLength=\"65\" x=\"340\" y=\"207.0669\">«import»*</text></a><!--MD5=[d7bb3fb34add81b710575eb3799fa2ad]\n",
       "link E8 to E4--><a href=\"psysml:d1a96eaf-259a-4888-9f98-ae46b38eb818\" target=\"_top\" title=\"psysml:d1a96eaf-259a-4888-9f98-ae46b38eb818\" xlink:actuate=\"onRequest\" xlink:href=\"psysml:d1a96eaf-259a-4888-9f98-ae46b38eb818\" xlink:show=\"new\" xlink:title=\"psysml:d1a96eaf-259a-4888-9f98-ae46b38eb818\" xlink:type=\"simple\"><path d=\"M291.32,395.94 C301.48,344.13 326,219 326,219 C326,219 478,211 478,211 C478,211 478,194 478,194 C478,194 461.71,177.48 444.97,160.49 \" fill=\"none\" id=\"E8-&gt;E4\" style=\"stroke: #383838; stroke-width: 1.0;\"/><polygon fill=\"none\" points=\"439.89,165.31,430.83,146.15,449.86,155.48,439.89,165.31\" style=\"stroke: #383838; stroke-width: 1.0;\"/></a><!--MD5=[82db625543624a41cc8e9d6df70d1dc1]\n",
       "@startuml\r\n",
       "skinparam linetype polyline\r\n",
       "skinparam monochrome true\r\n",
       "skinparam classbackgroundcolor white\r\n",
       "skinparam shadowing false\r\n",
       "skinparam wrapWidth 300\r\n",
       "hide circle\r\n",
       "\r\n",
       "package \"ImportTest\" as E1  [[psysml:4ef55e29-a78c-4120-8a0e-706d60f3b916 ]]  {\r\n",
       "package \"Pkg1\" as E2  [[psysml:fc5e85ef-31d8-4451-b981-c90381fde50e ]]  {\r\n",
       "comp usage \"p11: P211 \" as E3  <<(T,blue) part>> [[psysml:fe6123c1-7336-461e-a67a-648132fed175 ]] {\r\n",
       "}\r\n",
       "comp def \"P12\" as E4  <<(T,blue) part  def>> [[psysml:1380541e-fc30-40f5-9a60-edda9aa0065e ]] {\r\n",
       "}\r\n",
       "}\r\n",
       "package \"Pkg2\" as E5  [[psysml:c270e78f-1935-46bf-a024-66cb4836716b ]]  {\r\n",
       "package \"Pkg21\" as E6  [[psysml:ed944fef-70b9-4524-9917-716ca36e9ac1 ]]  {\r\n",
       "package \"Pkg211\" as E7  [[psysml:9f58dbb8-6a8c-4281-a4ad-0fbab28478f4 ]]  {\r\n",
       "comp def \"P211\" as E8  <<(T,blue) part  def>> [[psysml:4acbdff1-c8fe-48cb-afd1-a68daa112cad ]] {\r\n",
       "}\r\n",
       "}\r\n",
       "}\r\n",
       "}\r\n",
       "}\r\n",
       "E2 ..> E8 [[psysml:4f20d9a0-229b-41ce-a3f9-ec650db8275f ]] : <<import>>\r\n",
       "E2 ..> E6 [[psysml:682e8ea7-bcd5-404d-bf47-54c119ed8bb7 ]] : <<import>>*\r\n",
       "E2 ..> E7 [[psysml:60c32f43-2902-493b-8362-f480edbb78ed ]] : <<import>>*::**\r\n",
       "E3 - -:|> E8 [[psysml:37accf74-aaef-4298-a8d1-458e277c829e ]] \r\n",
       "E5 ..> E2 [[psysml:a29f5286-6760-4cc8-8866-2ed3ee4f3eda ]] : <<import>>*\r\n",
       "E8 - -|> E4 [[psysml:d1a96eaf-259a-4888-9f98-ae46b38eb818 ]] \r\n",
       "@enduml\r\n",
       "\n",
       "PlantUML version 1.2020.13(Sat Jun 13 12:26:38 UTC 2020)\n",
       "(EPL source distribution)\n",
       "Java Runtime: OpenJDK Runtime Environment\n",
       "JVM: OpenJDK 64-Bit Server VM\n",
       "Default Encoding: UTF-8\n",
       "Language: en\n",
       "Country: null\n",
       "--></g></svg>"
      ]
     },
     "execution_count": 9,
     "metadata": {},
     "output_type": "execute_result"
    }
   ],
   "source": [
    "%viz --style=\"POLYLINE\" --view=\"Default\" \"ImportTest\""
   ]
  },
  {
   "cell_type": "code",
   "execution_count": 10,
   "id": "33dfa188",
   "metadata": {
    "execution": {
     "iopub.execute_input": "2022-02-18T10:46:58.124953Z",
     "iopub.status.busy": "2022-02-18T10:46:58.124543Z",
     "iopub.status.idle": "2022-02-18T10:46:58.195018Z",
     "shell.execute_reply": "2022-02-18T10:46:58.194625Z"
    }
   },
   "outputs": [
    {
     "data": {
      "image/svg+xml": [
       "<?xml version=\"1.0\" encoding=\"UTF-8\" standalone=\"no\"?><svg xmlns=\"http://www.w3.org/2000/svg\" xmlns:xlink=\"http://www.w3.org/1999/xlink\" contentScriptType=\"application/ecmascript\" contentStyleType=\"text/css\" height=\"590px\" preserveAspectRatio=\"none\" style=\"width:522px;height:590px;\" version=\"1.1\" viewBox=\"0 0 522 590\" width=\"522px\" zoomAndPan=\"magnify\"><defs/><g><!--MD5=[fbc87193dbaf4d95561dea2c320d4a47]\n",
       "cluster E1--><a href=\"psysml:4ef55e29-a78c-4120-8a0e-706d60f3b916\" target=\"_top\" title=\"psysml:4ef55e29-a78c-4120-8a0e-706d60f3b916\" xlink:actuate=\"onRequest\" xlink:href=\"psysml:4ef55e29-a78c-4120-8a0e-706d60f3b916\" xlink:show=\"new\" xlink:title=\"psysml:4ef55e29-a78c-4120-8a0e-706d60f3b916\" xlink:type=\"simple\"><polygon fill=\"#FFFFFF\" points=\"16,6,97,6,104,28.2969,500,28.2969,500,578,16,578,16,6\" style=\"stroke: #000000; stroke-width: 1.5;\"/><line style=\"stroke: #000000; stroke-width: 1.5;\" x1=\"16\" x2=\"104\" y1=\"28.2969\" y2=\"28.2969\"/><text fill=\"#000000\" font-family=\"sans-serif\" font-size=\"14\" font-weight=\"bold\" lengthAdjust=\"spacingAndGlyphs\" textLength=\"75\" x=\"20\" y=\"20.9951\">ImportTest</text></a><!--MD5=[e4f7fae6ed58524ba242bb0b0d3be6b7]\n",
       "cluster E2--><a href=\"psysml:fc5e85ef-31d8-4451-b981-c90381fde50e\" target=\"_top\" title=\"psysml:fc5e85ef-31d8-4451-b981-c90381fde50e\" xlink:actuate=\"onRequest\" xlink:href=\"psysml:fc5e85ef-31d8-4451-b981-c90381fde50e\" xlink:show=\"new\" xlink:title=\"psysml:fc5e85ef-31d8-4451-b981-c90381fde50e\" xlink:type=\"simple\"><polygon fill=\"#FFFFFF\" points=\"222,57,263,57,270,79.2969,468,79.2969,468,170,222,170,222,57\" style=\"stroke: #000000; stroke-width: 1.5;\"/><line style=\"stroke: #000000; stroke-width: 1.5;\" x1=\"222\" x2=\"270\" y1=\"79.2969\" y2=\"79.2969\"/><text fill=\"#000000\" font-family=\"sans-serif\" font-size=\"14\" font-weight=\"bold\" lengthAdjust=\"spacingAndGlyphs\" textLength=\"35\" x=\"226\" y=\"71.9951\">Pkg1</text></a><!--MD5=[de5ec2e2e8f62f467e546659f5068c88]\n",
       "cluster E5--><a href=\"psysml:c270e78f-1935-46bf-a024-66cb4836716b\" target=\"_top\" title=\"psysml:c270e78f-1935-46bf-a024-66cb4836716b\" xlink:actuate=\"onRequest\" xlink:href=\"psysml:c270e78f-1935-46bf-a024-66cb4836716b\" xlink:show=\"new\" xlink:title=\"psysml:c270e78f-1935-46bf-a024-66cb4836716b\" xlink:type=\"simple\"><polygon fill=\"#FFFFFF\" points=\"121,235,162,235,169,257.2969,434,257.2969,434,546,121,546,121,235\" style=\"stroke: #000000; stroke-width: 1.5;\"/><line style=\"stroke: #000000; stroke-width: 1.5;\" x1=\"121\" x2=\"169\" y1=\"257.2969\" y2=\"257.2969\"/><text fill=\"#000000\" font-family=\"sans-serif\" font-size=\"14\" font-weight=\"bold\" lengthAdjust=\"spacingAndGlyphs\" textLength=\"35\" x=\"125\" y=\"249.9951\">Pkg2</text></a><!--MD5=[14e3b0961a2654348d326746436168a1]\n",
       "cluster E6--><a href=\"psysml:ed944fef-70b9-4524-9917-716ca36e9ac1\" target=\"_top\" title=\"psysml:ed944fef-70b9-4524-9917-716ca36e9ac1\" xlink:actuate=\"onRequest\" xlink:href=\"psysml:ed944fef-70b9-4524-9917-716ca36e9ac1\" xlink:show=\"new\" xlink:title=\"psysml:ed944fef-70b9-4524-9917-716ca36e9ac1\" xlink:type=\"simple\"><polygon fill=\"#FFFFFF\" points=\"161,294,211,294,218,316.2969,386,316.2969,386,506,161,506,161,294\" style=\"stroke: #000000; stroke-width: 1.5;\"/><line style=\"stroke: #000000; stroke-width: 1.5;\" x1=\"161\" x2=\"218\" y1=\"316.2969\" y2=\"316.2969\"/><text fill=\"#000000\" font-family=\"sans-serif\" font-size=\"14\" font-weight=\"bold\" lengthAdjust=\"spacingAndGlyphs\" textLength=\"44\" x=\"165\" y=\"308.9951\">Pkg21</text></a><!--MD5=[168fadf3d0c3fd93dd5d6da1b1d7ab76]\n",
       "cluster E7--><a href=\"psysml:9f58dbb8-6a8c-4281-a4ad-0fbab28478f4\" target=\"_top\" title=\"psysml:9f58dbb8-6a8c-4281-a4ad-0fbab28478f4\" xlink:actuate=\"onRequest\" xlink:href=\"psysml:9f58dbb8-6a8c-4281-a4ad-0fbab28478f4\" xlink:show=\"new\" xlink:title=\"psysml:9f58dbb8-6a8c-4281-a4ad-0fbab28478f4\" xlink:type=\"simple\"><polygon fill=\"#FFFFFF\" points=\"209,353,268,353,275,375.2969,346,375.2969,346,466,209,466,209,353\" style=\"stroke: #000000; stroke-width: 1.5;\"/><line style=\"stroke: #000000; stroke-width: 1.5;\" x1=\"209\" x2=\"275\" y1=\"375.2969\" y2=\"375.2969\"/><text fill=\"#000000\" font-family=\"sans-serif\" font-size=\"14\" font-weight=\"bold\" lengthAdjust=\"spacingAndGlyphs\" textLength=\"53\" x=\"213\" y=\"367.9951\">Pkg211</text></a><!--MD5=[09b614a08d8cba4a07c9adeb5e0fee81]\n",
       "class E3--><a href=\"psysml:fe6123c1-7336-461e-a67a-648132fed175\" target=\"_top\" title=\"psysml:fe6123c1-7336-461e-a67a-648132fed175\" xlink:actuate=\"onRequest\" xlink:href=\"psysml:fe6123c1-7336-461e-a67a-648132fed175\" xlink:show=\"new\" xlink:title=\"psysml:fe6123c1-7336-461e-a67a-648132fed175\" xlink:type=\"simple\"><rect fill=\"#FFFFFF\" height=\"45.9375\" id=\"E3\" rx=\"10\" ry=\"10\" style=\"stroke: #383838; stroke-width: 1.5;\" width=\"74\" x=\"265\" y=\"100\"/><text fill=\"#000000\" font-family=\"sans-serif\" font-size=\"12\" font-style=\"italic\" lengthAdjust=\"spacingAndGlyphs\" textLength=\"40\" x=\"282\" y=\"116.1387\">«part»</text><text fill=\"#000000\" font-family=\"sans-serif\" font-size=\"12\" lengthAdjust=\"spacingAndGlyphs\" textLength=\"64\" x=\"268\" y=\"130.1074\">p11: P211</text><line style=\"stroke: #383838; stroke-width: 1.5;\" x1=\"266\" x2=\"338\" y1=\"137.9375\" y2=\"137.9375\"/></a><!--MD5=[ebbe1d658d1005bcc118a6aa81145e00]\n",
       "class E4--><a href=\"psysml:1380541e-fc30-40f5-9a60-edda9aa0065e\" target=\"_top\" title=\"psysml:1380541e-fc30-40f5-9a60-edda9aa0065e\" xlink:actuate=\"onRequest\" xlink:href=\"psysml:1380541e-fc30-40f5-9a60-edda9aa0065e\" xlink:show=\"new\" xlink:title=\"psysml:1380541e-fc30-40f5-9a60-edda9aa0065e\" xlink:type=\"simple\"><rect fill=\"#FFFFFF\" height=\"45.9375\" id=\"E4\" style=\"stroke: #383838; stroke-width: 1.5;\" width=\"70\" x=\"374\" y=\"100\"/><text fill=\"#000000\" font-family=\"sans-serif\" font-size=\"12\" font-style=\"italic\" lengthAdjust=\"spacingAndGlyphs\" textLength=\"68\" x=\"375\" y=\"116.1387\">«part  def»</text><text fill=\"#000000\" font-family=\"sans-serif\" font-size=\"12\" lengthAdjust=\"spacingAndGlyphs\" textLength=\"24\" x=\"397\" y=\"130.1074\">P12</text><line style=\"stroke: #383838; stroke-width: 1.5;\" x1=\"375\" x2=\"443\" y1=\"137.9375\" y2=\"137.9375\"/></a><!--MD5=[b9389687b975829384b498ac4b7476b2]\n",
       "class E8--><a href=\"psysml:4acbdff1-c8fe-48cb-afd1-a68daa112cad\" target=\"_top\" title=\"psysml:4acbdff1-c8fe-48cb-afd1-a68daa112cad\" xlink:actuate=\"onRequest\" xlink:href=\"psysml:4acbdff1-c8fe-48cb-afd1-a68daa112cad\" xlink:show=\"new\" xlink:title=\"psysml:4acbdff1-c8fe-48cb-afd1-a68daa112cad\" xlink:type=\"simple\"><rect fill=\"#FFFFFF\" height=\"45.9375\" id=\"E8\" style=\"stroke: #383838; stroke-width: 1.5;\" width=\"70\" x=\"252\" y=\"396\"/><text fill=\"#000000\" font-family=\"sans-serif\" font-size=\"12\" font-style=\"italic\" lengthAdjust=\"spacingAndGlyphs\" textLength=\"68\" x=\"253\" y=\"412.1387\">«part  def»</text><text fill=\"#000000\" font-family=\"sans-serif\" font-size=\"12\" lengthAdjust=\"spacingAndGlyphs\" textLength=\"32\" x=\"271\" y=\"426.1074\">P211</text><line style=\"stroke: #383838; stroke-width: 1.5;\" x1=\"253\" x2=\"321\" y1=\"433.9375\" y2=\"433.9375\"/></a><!--MD5=[b0060bfdb0500b904584095522b4da3c]\n",
       "link E2 to E8--><a href=\"psysml:4f20d9a0-229b-41ce-a3f9-ec650db8275f\" target=\"_top\" title=\"psysml:4f20d9a0-229b-41ce-a3f9-ec650db8275f\" xlink:actuate=\"onRequest\" xlink:href=\"psysml:4f20d9a0-229b-41ce-a3f9-ec650db8275f\" xlink:show=\"new\" xlink:title=\"psysml:4f20d9a0-229b-41ce-a3f9-ec650db8275f\" xlink:type=\"simple\"><path d=\"M244.141,170.1434 C244.2057,170.3545 244.27,170.5643 244.3339,170.7729 C244.4617,171.1899 244.5879,171.6018 244.7124,172.0081 C245.2104,173.633 245.6806,175.1677 246.1144,176.5831 C247.8494,182.245 249,186 249,186 C249,186 264,194 264,194 C264,194 278.03,330.67 284.18,390.5 \" fill=\"none\" id=\"E2-&gt;E8\" style=\"stroke: #383838; stroke-width: 1.0; stroke-dasharray: 7.0,7.0;\"/><polygon fill=\"#383838\" points=\"284.71,395.7,287.7627,386.3362,284.1955,390.7265,279.8051,387.1594,284.71,395.7\" style=\"stroke: #383838; stroke-width: 1.0;\"/><text fill=\"#000000\" font-family=\"sans-serif\" font-size=\"13\" lengthAdjust=\"spacingAndGlyphs\" textLength=\"58\" x=\"266\" y=\"207.0669\">«import»</text></a><!--MD5=[e3e28c1befcf002155aa15e1416b4315]\n",
       "link E2 to E6--><a href=\"psysml:682e8ea7-bcd5-404d-bf47-54c119ed8bb7\" target=\"_top\" title=\"psysml:682e8ea7-bcd5-404d-bf47-54c119ed8bb7\" xlink:actuate=\"onRequest\" xlink:href=\"psysml:682e8ea7-bcd5-404d-bf47-54c119ed8bb7\" xlink:show=\"new\" xlink:title=\"psysml:682e8ea7-bcd5-404d-bf47-54c119ed8bb7\" xlink:type=\"simple\"><path d=\"M221.8378,128.263 C221.7063,128.3317 221.5734,128.4012 221.4391,128.4713 C220.902,128.752 220.3429,129.044 219.7629,129.3471 C218.6029,129.9531 217.359,130.603 216.0391,131.2926 C213.3993,132.6717 210.4553,134.2098 207.2695,135.8741 C194.5266,142.5313 177.9156,151.2088 161.4313,159.82 C128.4625,177.0425 96,194 96,194 C96,194 96,211 96,211 C96,211 113.685,261.145 131.6463,312.0738 C140.6269,337.5381 149.6766,363.1984 156.6192,382.8845 C157.4871,385.3453 158.322,387.7127 159.1197,389.9747 C159.5186,391.1057 159.9081,392.2104 160.2879,393.2872 C160.4778,393.8256 160.6652,394.357 160.8501,394.8813 \" fill=\"none\" id=\"E2-&gt;E6\" style=\"stroke: #383838; stroke-width: 1.0; stroke-dasharray: 7.0,7.0;\"/><polygon fill=\"#383838\" points=\"160.8501,394.8813,161.6291,385.0633,159.1871,390.166,154.0845,387.724,160.8501,394.8813\" style=\"stroke: #383838; stroke-width: 1.0;\"/><text fill=\"#000000\" font-family=\"sans-serif\" font-size=\"13\" lengthAdjust=\"spacingAndGlyphs\" textLength=\"65\" x=\"97\" y=\"207.0669\">«import»*</text></a><!--MD5=[e3d2a08a9c9236652057e8ed0cbc9b62]\n",
       "link E2 to E7--><a href=\"psysml:60c32f43-2902-493b-8362-f480edbb78ed\" target=\"_top\" title=\"psysml:60c32f43-2902-493b-8362-f480edbb78ed\" xlink:actuate=\"onRequest\" xlink:href=\"psysml:60c32f43-2902-493b-8362-f480edbb78ed\" xlink:show=\"new\" xlink:title=\"psysml:60c32f43-2902-493b-8362-f480edbb78ed\" xlink:type=\"simple\"><path d=\"M221.7702,133.7649 C221.6886,133.8616 221.6067,133.9589 221.5242,134.0567 C221.3593,134.2523 221.1926,134.4501 221.0241,134.65 C220.6871,135.0498 220.3431,135.458 219.9923,135.8741 C214.3809,142.5313 207.0669,151.2088 199.8087,159.82 C185.2925,177.0425 171,194 171,194 C171,194 171,211 171,211 C171,211 213,219 213,219 C213,219 213.97,267.2075 214.955,316.1688 C215.2013,328.4091 215.4484,340.6965 215.6816,352.2896 \" fill=\"none\" id=\"E2-&gt;E7\" style=\"stroke: #383838; stroke-width: 1.0; stroke-dasharray: 7.0,7.0;\"/><polygon fill=\"#383838\" points=\"215.6816,352.2896,219.4998,343.2109,215.5811,347.2906,211.5014,343.3718,215.6816,352.2896\" style=\"stroke: #383838; stroke-width: 1.0;\"/><text fill=\"#000000\" font-family=\"sans-serif\" font-size=\"13\" lengthAdjust=\"spacingAndGlyphs\" textLength=\"87\" x=\"172\" y=\"207.0669\">«import»*::**</text></a><!--MD5=[ca5a752d6098d8a44b3f88316e7452d1]\n",
       "link E3 to E8--><a href=\"psysml:37accf74-aaef-4298-a8d1-458e277c829e\" target=\"_top\" title=\"psysml:37accf74-aaef-4298-a8d1-458e277c829e\" xlink:actuate=\"onRequest\" xlink:href=\"psysml:37accf74-aaef-4298-a8d1-458e277c829e\" xlink:show=\"new\" xlink:title=\"psysml:37accf74-aaef-4298-a8d1-458e277c829e\" xlink:type=\"simple\"><path d=\"M321.62,146.15 C339.78,166.66 364,194 364,194 C364,194 364,211 364,211 C364,211 326,219 326,219 C326,219 306.63,317.82 295.19,376.19 \" fill=\"none\" id=\"E3-&gt;E8\" style=\"stroke: #383838; stroke-width: 1.0;\"/><polygon fill=\"#FFFFFF\" points=\"291.32,395.94,288.1009,375.9491,301.8401,378.6389,291.32,395.94\" style=\"stroke: #383838; stroke-width: 1.0;\"/><ellipse cx=\"291.1588\" cy=\"370.7395\" fill=\"#383838\" rx=\"2\" ry=\"2\" style=\"stroke: #383838; stroke-width: 1.0;\"/><ellipse cx=\"300.9725\" cy=\"372.6608\" fill=\"#383838\" rx=\"2\" ry=\"2\" style=\"stroke: #383838; stroke-width: 1.0;\"/></a><!--MD5=[15ebcb19ae302d9b601edb458606d402]\n",
       "link E5 to E2--><a href=\"psysml:a29f5286-6760-4cc8-8866-2ed3ee4f3eda\" target=\"_top\" title=\"psysml:a29f5286-6760-4cc8-8866-2ed3ee4f3eda\" xlink:actuate=\"onRequest\" xlink:href=\"psysml:a29f5286-6760-4cc8-8866-2ed3ee4f3eda\" xlink:show=\"new\" xlink:title=\"psysml:a29f5286-6760-4cc8-8866-2ed3ee4f3eda\" xlink:type=\"simple\"><path d=\"M350.0108,234.9703 C349.8689,234.6284 349.7275,234.288 349.5868,233.9491 C349.3055,233.2714 349.0266,232.5998 348.7504,231.9345 C348.1979,230.6039 347.6559,229.2986 347.1252,228.0202 C338.6325,207.5656 333,194 333,194 C333,194 249,186 249,186 C249,186 247.8494,182.245 246.1144,176.5831 C245.6806,175.1677 245.2104,173.633 244.7124,172.0081 C244.5879,171.6018 244.4617,171.1899 244.3339,170.7729 C244.27,170.5643 244.2057,170.3545 244.141,170.1434 \" fill=\"none\" id=\"E5-&gt;E2\" style=\"stroke: #383838; stroke-width: 1.0; stroke-dasharray: 7.0,7.0;\"/><polygon fill=\"#383838\" points=\"244.141,170.1434,242.9535,179.9204,245.606,174.924,250.6024,177.5765,244.141,170.1434\" style=\"stroke: #383838; stroke-width: 1.0;\"/><text fill=\"#000000\" font-family=\"sans-serif\" font-size=\"13\" lengthAdjust=\"spacingAndGlyphs\" textLength=\"65\" x=\"340\" y=\"207.0669\">«import»*</text></a><!--MD5=[d7bb3fb34add81b710575eb3799fa2ad]\n",
       "link E8 to E4--><a href=\"psysml:d1a96eaf-259a-4888-9f98-ae46b38eb818\" target=\"_top\" title=\"psysml:d1a96eaf-259a-4888-9f98-ae46b38eb818\" xlink:actuate=\"onRequest\" xlink:href=\"psysml:d1a96eaf-259a-4888-9f98-ae46b38eb818\" xlink:show=\"new\" xlink:title=\"psysml:d1a96eaf-259a-4888-9f98-ae46b38eb818\" xlink:type=\"simple\"><path d=\"M291.32,395.94 C301.48,344.13 326,219 326,219 C326,219 478,211 478,211 C478,211 478,194 478,194 C478,194 461.71,177.48 444.97,160.49 \" fill=\"none\" id=\"E8-&gt;E4\" style=\"stroke: #383838; stroke-width: 1.0;\"/><polygon fill=\"none\" points=\"439.89,165.31,430.83,146.15,449.86,155.48,439.89,165.31\" style=\"stroke: #383838; stroke-width: 1.0;\"/></a><!--MD5=[82db625543624a41cc8e9d6df70d1dc1]\n",
       "@startuml\r\n",
       "skinparam linetype polyline\r\n",
       "skinparam monochrome true\r\n",
       "skinparam classbackgroundcolor white\r\n",
       "skinparam shadowing false\r\n",
       "skinparam wrapWidth 300\r\n",
       "hide circle\r\n",
       "\r\n",
       "package \"ImportTest\" as E1  [[psysml:4ef55e29-a78c-4120-8a0e-706d60f3b916 ]]  {\r\n",
       "package \"Pkg1\" as E2  [[psysml:fc5e85ef-31d8-4451-b981-c90381fde50e ]]  {\r\n",
       "comp usage \"p11: P211 \" as E3  <<(T,blue) part>> [[psysml:fe6123c1-7336-461e-a67a-648132fed175 ]] {\r\n",
       "}\r\n",
       "comp def \"P12\" as E4  <<(T,blue) part  def>> [[psysml:1380541e-fc30-40f5-9a60-edda9aa0065e ]] {\r\n",
       "}\r\n",
       "}\r\n",
       "package \"Pkg2\" as E5  [[psysml:c270e78f-1935-46bf-a024-66cb4836716b ]]  {\r\n",
       "package \"Pkg21\" as E6  [[psysml:ed944fef-70b9-4524-9917-716ca36e9ac1 ]]  {\r\n",
       "package \"Pkg211\" as E7  [[psysml:9f58dbb8-6a8c-4281-a4ad-0fbab28478f4 ]]  {\r\n",
       "comp def \"P211\" as E8  <<(T,blue) part  def>> [[psysml:4acbdff1-c8fe-48cb-afd1-a68daa112cad ]] {\r\n",
       "}\r\n",
       "}\r\n",
       "}\r\n",
       "}\r\n",
       "}\r\n",
       "E2 ..> E8 [[psysml:4f20d9a0-229b-41ce-a3f9-ec650db8275f ]] : <<import>>\r\n",
       "E2 ..> E6 [[psysml:682e8ea7-bcd5-404d-bf47-54c119ed8bb7 ]] : <<import>>*\r\n",
       "E2 ..> E7 [[psysml:60c32f43-2902-493b-8362-f480edbb78ed ]] : <<import>>*::**\r\n",
       "E3 - -:|> E8 [[psysml:37accf74-aaef-4298-a8d1-458e277c829e ]] \r\n",
       "E5 ..> E2 [[psysml:a29f5286-6760-4cc8-8866-2ed3ee4f3eda ]] : <<import>>*\r\n",
       "E8 - -|> E4 [[psysml:d1a96eaf-259a-4888-9f98-ae46b38eb818 ]] \r\n",
       "@enduml\r\n",
       "\n",
       "PlantUML version 1.2020.13(Sat Jun 13 12:26:38 UTC 2020)\n",
       "(EPL source distribution)\n",
       "Java Runtime: OpenJDK Runtime Environment\n",
       "JVM: OpenJDK 64-Bit Server VM\n",
       "Default Encoding: UTF-8\n",
       "Language: en\n",
       "Country: null\n",
       "--></g></svg>"
      ]
     },
     "execution_count": 10,
     "metadata": {},
     "output_type": "execute_result"
    }
   ],
   "source": [
    "%viz --style=\"POLYLINE\" --view=\"Tree\" \"ImportTest\""
   ]
  },
  {
   "cell_type": "code",
   "execution_count": 11,
   "id": "47db49c3",
   "metadata": {
    "execution": {
     "iopub.execute_input": "2022-02-18T10:46:58.244846Z",
     "iopub.status.busy": "2022-02-18T10:46:58.244344Z",
     "iopub.status.idle": "2022-02-18T10:46:58.250207Z",
     "shell.execute_reply": "2022-02-18T10:46:58.250575Z"
    }
   },
   "outputs": [
    {
     "data": {
      "image/svg+xml": [
       "<?xml version=\"1.0\" encoding=\"UTF-8\" standalone=\"no\"?><svg xmlns=\"http://www.w3.org/2000/svg\" xmlns:xlink=\"http://www.w3.org/1999/xlink\" contentScriptType=\"application/ecmascript\" contentStyleType=\"text/css\" height=\"12px\" preserveAspectRatio=\"none\" style=\"width:12px;height:12px;\" version=\"1.1\" viewBox=\"0 0 12 12\" width=\"12px\" zoomAndPan=\"magnify\"><defs/><g><!--MD5=[896ac0e7a515d8dd7765a661cb4ee08b]\n",
       "@startuml\r\n",
       "skinparam linetype polyline\r\n",
       "skinparam monochrome true\r\n",
       "skinparam classbackgroundcolor white\r\n",
       "skinparam shadowing false\r\n",
       "skinparam wrapWidth 300\r\n",
       "hide circle\r\n",
       "\r\n",
       "@enduml\r\n",
       "\n",
       "PlantUML version 1.2020.13(Sat Jun 13 12:26:38 UTC 2020)\n",
       "(EPL source distribution)\n",
       "Java Runtime: OpenJDK Runtime Environment\n",
       "JVM: OpenJDK 64-Bit Server VM\n",
       "Default Encoding: UTF-8\n",
       "Language: en\n",
       "Country: null\n",
       "--></g></svg>"
      ]
     },
     "execution_count": 11,
     "metadata": {},
     "output_type": "execute_result"
    }
   ],
   "source": [
    "%viz --style=\"POLYLINE\" --view=\"State\" \"ImportTest\""
   ]
  },
  {
   "cell_type": "code",
   "execution_count": 12,
   "id": "99243806",
   "metadata": {
    "execution": {
     "iopub.execute_input": "2022-02-18T10:46:58.300416Z",
     "iopub.status.busy": "2022-02-18T10:46:58.299997Z",
     "iopub.status.idle": "2022-02-18T10:46:58.349541Z",
     "shell.execute_reply": "2022-02-18T10:46:58.349195Z"
    }
   },
   "outputs": [
    {
     "data": {
      "image/svg+xml": [
       "<?xml version=\"1.0\" encoding=\"UTF-8\" standalone=\"no\"?><svg xmlns=\"http://www.w3.org/2000/svg\" xmlns:xlink=\"http://www.w3.org/1999/xlink\" contentScriptType=\"application/ecmascript\" contentStyleType=\"text/css\" height=\"584px\" preserveAspectRatio=\"none\" style=\"width:515px;height:584px;\" version=\"1.1\" viewBox=\"0 0 515 584\" width=\"515px\" zoomAndPan=\"magnify\"><defs/><g><!--MD5=[fbc87193dbaf4d95561dea2c320d4a47]\n",
       "cluster E1--><a href=\"psysml:4ef55e29-a78c-4120-8a0e-706d60f3b916\" target=\"_top\" title=\"psysml:4ef55e29-a78c-4120-8a0e-706d60f3b916\" xlink:actuate=\"onRequest\" xlink:href=\"psysml:4ef55e29-a78c-4120-8a0e-706d60f3b916\" xlink:show=\"new\" xlink:title=\"psysml:4ef55e29-a78c-4120-8a0e-706d60f3b916\" xlink:type=\"simple\"><polygon fill=\"#FFFFFF\" points=\"16,6,97,6,104,28.2969,493,28.2969,493,572,16,572,16,6\" style=\"stroke: #000000; stroke-width: 1.5;\"/><line style=\"stroke: #000000; stroke-width: 1.5;\" x1=\"16\" x2=\"104\" y1=\"28.2969\" y2=\"28.2969\"/><text fill=\"#000000\" font-family=\"sans-serif\" font-size=\"14\" font-weight=\"bold\" lengthAdjust=\"spacingAndGlyphs\" textLength=\"75\" x=\"20\" y=\"20.9951\">ImportTest</text></a><!--MD5=[e4f7fae6ed58524ba242bb0b0d3be6b7]\n",
       "cluster E2--><a href=\"psysml:fc5e85ef-31d8-4451-b981-c90381fde50e\" target=\"_top\" title=\"psysml:fc5e85ef-31d8-4451-b981-c90381fde50e\" xlink:actuate=\"onRequest\" xlink:href=\"psysml:fc5e85ef-31d8-4451-b981-c90381fde50e\" xlink:show=\"new\" xlink:title=\"psysml:fc5e85ef-31d8-4451-b981-c90381fde50e\" xlink:type=\"simple\"><polygon fill=\"#FFFFFF\" points=\"209,57,250,57,257,79.2969,461,79.2969,461,167,209,167,209,57\" style=\"stroke: #000000; stroke-width: 1.5;\"/><line style=\"stroke: #000000; stroke-width: 1.5;\" x1=\"209\" x2=\"257\" y1=\"79.2969\" y2=\"79.2969\"/><text fill=\"#000000\" font-family=\"sans-serif\" font-size=\"14\" font-weight=\"bold\" lengthAdjust=\"spacingAndGlyphs\" textLength=\"35\" x=\"213\" y=\"71.9951\">Pkg1</text></a><!--MD5=[de5ec2e2e8f62f467e546659f5068c88]\n",
       "cluster E5--><a href=\"psysml:c270e78f-1935-46bf-a024-66cb4836716b\" target=\"_top\" title=\"psysml:c270e78f-1935-46bf-a024-66cb4836716b\" xlink:actuate=\"onRequest\" xlink:href=\"psysml:c270e78f-1935-46bf-a024-66cb4836716b\" xlink:show=\"new\" xlink:title=\"psysml:c270e78f-1935-46bf-a024-66cb4836716b\" xlink:type=\"simple\"><polygon fill=\"#FFFFFF\" points=\"93,232,134,232,141,254.2969,411,254.2969,411,540,93,540,93,232\" style=\"stroke: #000000; stroke-width: 1.5;\"/><line style=\"stroke: #000000; stroke-width: 1.5;\" x1=\"93\" x2=\"141\" y1=\"254.2969\" y2=\"254.2969\"/><text fill=\"#000000\" font-family=\"sans-serif\" font-size=\"14\" font-weight=\"bold\" lengthAdjust=\"spacingAndGlyphs\" textLength=\"35\" x=\"97\" y=\"246.9951\">Pkg2</text></a><!--MD5=[14e3b0961a2654348d326746436168a1]\n",
       "cluster E6--><a href=\"psysml:ed944fef-70b9-4524-9917-716ca36e9ac1\" target=\"_top\" title=\"psysml:ed944fef-70b9-4524-9917-716ca36e9ac1\" xlink:actuate=\"onRequest\" xlink:href=\"psysml:ed944fef-70b9-4524-9917-716ca36e9ac1\" xlink:show=\"new\" xlink:title=\"psysml:ed944fef-70b9-4524-9917-716ca36e9ac1\" xlink:type=\"simple\"><polygon fill=\"#FFFFFF\" points=\"133,291,183,291,190,313.2969,363,313.2969,363,500,133,500,133,291\" style=\"stroke: #000000; stroke-width: 1.5;\"/><line style=\"stroke: #000000; stroke-width: 1.5;\" x1=\"133\" x2=\"190\" y1=\"313.2969\" y2=\"313.2969\"/><text fill=\"#000000\" font-family=\"sans-serif\" font-size=\"14\" font-weight=\"bold\" lengthAdjust=\"spacingAndGlyphs\" textLength=\"44\" x=\"137\" y=\"305.9951\">Pkg21</text></a><!--MD5=[168fadf3d0c3fd93dd5d6da1b1d7ab76]\n",
       "cluster E7--><a href=\"psysml:9f58dbb8-6a8c-4281-a4ad-0fbab28478f4\" target=\"_top\" title=\"psysml:9f58dbb8-6a8c-4281-a4ad-0fbab28478f4\" xlink:actuate=\"onRequest\" xlink:href=\"psysml:9f58dbb8-6a8c-4281-a4ad-0fbab28478f4\" xlink:show=\"new\" xlink:title=\"psysml:9f58dbb8-6a8c-4281-a4ad-0fbab28478f4\" xlink:type=\"simple\"><polygon fill=\"#FFFFFF\" points=\"181,350,240,350,247,372.2969,323,372.2969,323,460,181,460,181,350\" style=\"stroke: #000000; stroke-width: 1.5;\"/><line style=\"stroke: #000000; stroke-width: 1.5;\" x1=\"181\" x2=\"247\" y1=\"372.2969\" y2=\"372.2969\"/><text fill=\"#000000\" font-family=\"sans-serif\" font-size=\"14\" font-weight=\"bold\" lengthAdjust=\"spacingAndGlyphs\" textLength=\"53\" x=\"185\" y=\"364.9951\">Pkg211</text></a><g id=\"E1.E2.E3\"><a href=\"psysml:fe6123c1-7336-461e-a67a-648132fed175\" target=\"_top\" title=\"psysml:fe6123c1-7336-461e-a67a-648132fed175\" xlink:actuate=\"onRequest\" xlink:href=\"psysml:fe6123c1-7336-461e-a67a-648132fed175\" xlink:show=\"new\" xlink:title=\"psysml:fe6123c1-7336-461e-a67a-648132fed175\" xlink:type=\"simple\"><rect fill=\"#FFFFFF\" height=\"40\" id=\"E3\" rx=\"10\" ry=\"10\" style=\"stroke: #383838; stroke-width: 1.5;\" width=\"75\" x=\"362.5\" y=\"101.5\"/><rect fill=\"#F8F8F8\" height=\"23.9688\" rx=\"10\" ry=\"10\" style=\"stroke: #F8F8F8; stroke-width: 1.5;\" width=\"75\" x=\"362.5\" y=\"101.5\"/><rect fill=\"#F8F8F8\" height=\"10\" style=\"stroke: #F8F8F8; stroke-width: 1.5;\" width=\"75\" x=\"362.5\" y=\"115.4688\"/><rect fill=\"none\" height=\"40\" id=\"E3\" rx=\"10\" ry=\"10\" style=\"stroke: #383838; stroke-width: 1.5;\" width=\"75\" x=\"362.5\" y=\"101.5\"/><text fill=\"#000000\" font-family=\"sans-serif\" font-size=\"12\" lengthAdjust=\"spacingAndGlyphs\" textLength=\"64\" x=\"368\" y=\"117.6387\">p11: P211</text></a></g><g id=\"E1.E2.E4\"><a href=\"psysml:1380541e-fc30-40f5-9a60-edda9aa0065e\" target=\"_top\" title=\"psysml:1380541e-fc30-40f5-9a60-edda9aa0065e\" xlink:actuate=\"onRequest\" xlink:href=\"psysml:1380541e-fc30-40f5-9a60-edda9aa0065e\" xlink:show=\"new\" xlink:title=\"psysml:1380541e-fc30-40f5-9a60-edda9aa0065e\" xlink:type=\"simple\"><rect fill=\"#FFFFFF\" height=\"42.9375\" id=\"E4\" style=\"stroke: #383838; stroke-width: 1.5;\" width=\"75\" x=\"252.5\" y=\"100\"/><rect fill=\"#F8F8F8\" height=\"37.9375\" style=\"stroke: #383838; stroke-width: 1.5;\" width=\"75\" x=\"252.5\" y=\"100\"/><text fill=\"#000000\" font-family=\"sans-serif\" font-size=\"12\" font-style=\"italic\" lengthAdjust=\"spacingAndGlyphs\" textLength=\"68\" x=\"256\" y=\"116.1387\">«part  def»</text><text fill=\"#000000\" font-family=\"sans-serif\" font-size=\"12\" lengthAdjust=\"spacingAndGlyphs\" textLength=\"24\" x=\"278\" y=\"130.1074\">P12</text></a></g><g id=\"E1.E5.E6.E7.E8\"><a href=\"psysml:4acbdff1-c8fe-48cb-afd1-a68daa112cad\" target=\"_top\" title=\"psysml:4acbdff1-c8fe-48cb-afd1-a68daa112cad\" xlink:actuate=\"onRequest\" xlink:href=\"psysml:4acbdff1-c8fe-48cb-afd1-a68daa112cad\" xlink:show=\"new\" xlink:title=\"psysml:4acbdff1-c8fe-48cb-afd1-a68daa112cad\" xlink:type=\"simple\"><rect fill=\"#FFFFFF\" height=\"42.9375\" id=\"E8\" style=\"stroke: #383838; stroke-width: 1.5;\" width=\"75\" x=\"224.5\" y=\"393\"/><rect fill=\"#F8F8F8\" height=\"37.9375\" style=\"stroke: #383838; stroke-width: 1.5;\" width=\"75\" x=\"224.5\" y=\"393\"/><text fill=\"#000000\" font-family=\"sans-serif\" font-size=\"12\" font-style=\"italic\" lengthAdjust=\"spacingAndGlyphs\" textLength=\"68\" x=\"228\" y=\"409.1387\">«part  def»</text><text fill=\"#000000\" font-family=\"sans-serif\" font-size=\"12\" lengthAdjust=\"spacingAndGlyphs\" textLength=\"32\" x=\"246\" y=\"423.1074\">P211</text></a></g><!--MD5=[b0060bfdb0500b904584095522b4da3c]\n",
       "link E2 to E8--><a href=\"psysml:4f20d9a0-229b-41ce-a3f9-ec650db8275f\" target=\"_top\" title=\"psysml:4f20d9a0-229b-41ce-a3f9-ec650db8275f\" xlink:actuate=\"onRequest\" xlink:href=\"psysml:4f20d9a0-229b-41ce-a3f9-ec650db8275f\" xlink:show=\"new\" xlink:title=\"psysml:4f20d9a0-229b-41ce-a3f9-ec650db8275f\" xlink:type=\"simple\"><path d=\"M231.7826,167.2187 C231.8168,167.3223 231.851,167.4256 231.885,167.5285 C231.9531,167.7345 232.0208,167.9392 232.0881,168.1427 C232.2226,168.5496 232.3555,168.9515 232.4865,169.3479 C233.0107,170.9334 233.5057,172.4308 233.9623,173.8119 C235.7888,179.3363 237,183 237,183 C237,183 264,191 264,191 C264,191 264,208 264,208 C264,208 262.79,332.27 262.25,387.54 \" fill=\"none\" id=\"E2-&gt;E8\" style=\"stroke: #383838; stroke-width: 1.0; stroke-dasharray: 7.0,7.0;\"/><polygon fill=\"#383838\" points=\"262.2,392.66,266.277,383.6946,262.2429,387.6602,258.2773,383.626,262.2,392.66\" style=\"stroke: #383838; stroke-width: 1.0;\"/><text fill=\"#000000\" font-family=\"sans-serif\" font-size=\"13\" lengthAdjust=\"spacingAndGlyphs\" textLength=\"58\" x=\"265\" y=\"204.0669\">«import»</text></a><!--MD5=[e3e28c1befcf002155aa15e1416b4315]\n",
       "link E2 to E6--><a href=\"psysml:682e8ea7-bcd5-404d-bf47-54c119ed8bb7\" target=\"_top\" title=\"psysml:682e8ea7-bcd5-404d-bf47-54c119ed8bb7\" xlink:actuate=\"onRequest\" xlink:href=\"psysml:682e8ea7-bcd5-404d-bf47-54c119ed8bb7\" xlink:show=\"new\" xlink:title=\"psysml:682e8ea7-bcd5-404d-bf47-54c119ed8bb7\" xlink:type=\"simple\"><path d=\"M208.9015,127.0831 C208.7778,127.1532 208.6529,127.2239 208.5267,127.2953 C208.2744,127.4382 208.0173,127.5837 207.7554,127.732 C206.7078,128.325 205.5846,128.9608 204.3927,129.6356 C202.0089,130.9851 199.3505,132.49 196.4738,134.1186 C184.9669,140.6328 169.9675,149.1244 155.0825,157.5512 C125.3125,174.405 96,191 96,191 C96,191 96,208 96,208 C96,208 106.9,257.7825 117.9713,308.3425 C120.7391,320.9825 123.5176,333.6711 126.1392,345.6426 C127.45,351.6283 128.7215,357.4348 129.9329,362.9663 C130.5386,365.732 131.1292,368.429 131.7022,371.0453 C131.9887,372.3534 132.2707,373.6414 132.5481,374.9077 C132.6867,375.5408 132.8242,376.1685 132.9604,376.7906 \" fill=\"none\" id=\"E2-&gt;E6\" style=\"stroke: #383838; stroke-width: 1.0; stroke-dasharray: 7.0,7.0;\"/><polygon fill=\"#383838\" points=\"132.9604,376.7906,134.9424,367.1433,131.8908,371.9064,127.1276,368.8548,132.9604,376.7906\" style=\"stroke: #383838; stroke-width: 1.0;\"/><text fill=\"#000000\" font-family=\"sans-serif\" font-size=\"13\" lengthAdjust=\"spacingAndGlyphs\" textLength=\"65\" x=\"97\" y=\"204.0669\">«import»*</text></a><!--MD5=[e3d2a08a9c9236652057e8ed0cbc9b62]\n",
       "link E2 to E7--><a href=\"psysml:60c32f43-2902-493b-8362-f480edbb78ed\" target=\"_top\" title=\"psysml:60c32f43-2902-493b-8362-f480edbb78ed\" xlink:actuate=\"onRequest\" xlink:href=\"psysml:60c32f43-2902-493b-8362-f480edbb78ed\" xlink:show=\"new\" xlink:title=\"psysml:60c32f43-2902-493b-8362-f480edbb78ed\" xlink:type=\"simple\"><path d=\"M208.9905,134.4254 C208.9215,134.5281 208.8522,134.6313 208.7825,134.735 C208.6433,134.9424 208.5027,135.1516 208.361,135.3627 C208.0775,135.7848 207.7891,136.2141 207.4963,136.6501 C206.9106,137.5222 206.3068,138.4212 205.6877,139.3431 C204.4493,141.1869 203.1495,143.1224 201.8096,145.1177 C199.1297,149.1082 196.2894,153.3378 193.46,157.5512 C182.1425,174.405 171,191 171,191 C171,191 171,208 171,208 C171,208 185,216 185,216 C185,216 185.97,263.845 186.955,312.4375 C187.2013,324.5856 187.4484,336.7805 187.6816,348.2861 C187.6889,348.6457 187.6962,349.0046 187.7035,349.3627 \" fill=\"none\" id=\"E2-&gt;E7\" style=\"stroke: #383838; stroke-width: 1.0; stroke-dasharray: 7.0,7.0;\"/><polygon fill=\"#383838\" points=\"187.7035,349.3627,191.5203,340.2835,187.6021,344.3638,183.5219,340.4457,187.7035,349.3627\" style=\"stroke: #383838; stroke-width: 1.0;\"/><text fill=\"#000000\" font-family=\"sans-serif\" font-size=\"13\" lengthAdjust=\"spacingAndGlyphs\" textLength=\"87\" x=\"172\" y=\"204.0669\">«import»*::**</text></a><!--MD5=[15ebcb19ae302d9b601edb458606d402]\n",
       "link E5 to E2--><a href=\"psysml:a29f5286-6760-4cc8-8866-2ed3ee4f3eda\" target=\"_top\" title=\"psysml:a29f5286-6760-4cc8-8866-2ed3ee4f3eda\" xlink:actuate=\"onRequest\" xlink:href=\"psysml:a29f5286-6760-4cc8-8866-2ed3ee4f3eda\" xlink:show=\"new\" xlink:title=\"psysml:a29f5286-6760-4cc8-8866-2ed3ee4f3eda\" xlink:type=\"simple\"><path d=\"M344.9866,231.6965 C344.8782,231.3569 344.7703,231.0188 344.6629,230.6822 C344.4481,230.009 344.2352,229.3418 344.0243,228.681 C343.6026,227.3593 343.1888,226.0627 342.7836,224.7928 C336.3,204.475 332,191 332,191 C332,191 237,183 237,183 C237,183 235.7888,179.3363 233.9623,173.8119 C233.5057,172.4308 233.0107,170.9334 232.4865,169.3479 C232.3555,168.9515 232.2226,168.5496 232.0881,168.1427 C232.0208,167.9392 231.9531,167.7345 231.885,167.5285 C231.851,167.4256 231.8168,167.3223 231.7826,167.2187 \" fill=\"none\" id=\"E5-&gt;E2\" style=\"stroke: #383838; stroke-width: 1.0; stroke-dasharray: 7.0,7.0;\"/><polygon fill=\"#383838\" points=\"231.7826,167.2187,230.8099,177.0194,233.3521,171.966,238.4055,174.5082,231.7826,167.2187\" style=\"stroke: #383838; stroke-width: 1.0;\"/><text fill=\"#000000\" font-family=\"sans-serif\" font-size=\"13\" lengthAdjust=\"spacingAndGlyphs\" textLength=\"65\" x=\"337\" y=\"204.0669\">«import»*</text></a><!--MD5=[d7bb3fb34add81b710575eb3799fa2ad]\n",
       "link E8 to E4--><a href=\"psysml:d1a96eaf-259a-4888-9f98-ae46b38eb818\" target=\"_top\" title=\"psysml:d1a96eaf-259a-4888-9f98-ae46b38eb818\" xlink:actuate=\"onRequest\" xlink:href=\"psysml:d1a96eaf-259a-4888-9f98-ae46b38eb818\" xlink:show=\"new\" xlink:title=\"psysml:d1a96eaf-259a-4888-9f98-ae46b38eb818\" xlink:type=\"simple\"><path d=\"M266.42,392.74 C277.2,342.03 304,216 304,216 C304,216 471,208 471,208 C471,208 471,191 471,191 C471,191 345,183 345,183 C345,183 334.36,171.29 322.43,158.18 \" fill=\"none\" id=\"E8-&gt;E4\" style=\"stroke: #383838; stroke-width: 1.0;\"/><polygon fill=\"none\" points=\"317.2,162.83,308.93,143.32,327.56,153.41,317.2,162.83\" style=\"stroke: #383838; stroke-width: 1.0;\"/></a><!--MD5=[c2e77dc8a9fefb076932527435187748]\n",
       "@startuml\r\n",
       "skinparam ranksep 10\r\n",
       "skinparam rectangle {\r\n",
       " backgroundColor<<block>> LightGreen\r\n",
       "}\r\n",
       "skinparam linetype polyline\r\n",
       "skinparam monochrome true\r\n",
       "skinparam classbackgroundcolor white\r\n",
       "skinparam shadowing false\r\n",
       "skinparam wrapWidth 300\r\n",
       "hide circle\r\n",
       "\r\n",
       "package \"ImportTest\" as E1  [[psysml:4ef55e29-a78c-4120-8a0e-706d60f3b916 ]]  {\r\n",
       "package \"Pkg1\" as E2  [[psysml:fc5e85ef-31d8-4451-b981-c90381fde50e ]]  {\r\n",
       "rec usage \"p11: P211\" as E3  [[psysml:fe6123c1-7336-461e-a67a-648132fed175 ]] {\r\n",
       "}\r\n",
       "rec def \"P12\" as E4  <<(T,blue) part  def>> [[psysml:1380541e-fc30-40f5-9a60-edda9aa0065e ]] {\r\n",
       "}\r\n",
       "}\r\n",
       "package \"Pkg2\" as E5  [[psysml:c270e78f-1935-46bf-a024-66cb4836716b ]]  {\r\n",
       "package \"Pkg21\" as E6  [[psysml:ed944fef-70b9-4524-9917-716ca36e9ac1 ]]  {\r\n",
       "package \"Pkg211\" as E7  [[psysml:9f58dbb8-6a8c-4281-a4ad-0fbab28478f4 ]]  {\r\n",
       "rec def \"P211\" as E8  <<(T,blue) part  def>> [[psysml:4acbdff1-c8fe-48cb-afd1-a68daa112cad ]] {\r\n",
       "}\r\n",
       "}\r\n",
       "}\r\n",
       "}\r\n",
       "}\r\n",
       "E2 ..> E8 [[psysml:4f20d9a0-229b-41ce-a3f9-ec650db8275f ]] : <<import>>\r\n",
       "E2 ..> E6 [[psysml:682e8ea7-bcd5-404d-bf47-54c119ed8bb7 ]] : <<import>>*\r\n",
       "E2 ..> E7 [[psysml:60c32f43-2902-493b-8362-f480edbb78ed ]] : <<import>>*::**\r\n",
       "E5 ..> E2 [[psysml:a29f5286-6760-4cc8-8866-2ed3ee4f3eda ]] : <<import>>*\r\n",
       "E8 - -|> E4 [[psysml:d1a96eaf-259a-4888-9f98-ae46b38eb818 ]] \r\n",
       "@enduml\r\n",
       "\n",
       "PlantUML version 1.2020.13(Sat Jun 13 12:26:38 UTC 2020)\n",
       "(EPL source distribution)\n",
       "Java Runtime: OpenJDK Runtime Environment\n",
       "JVM: OpenJDK 64-Bit Server VM\n",
       "Default Encoding: UTF-8\n",
       "Language: en\n",
       "Country: null\n",
       "--></g></svg>"
      ]
     },
     "execution_count": 12,
     "metadata": {},
     "output_type": "execute_result"
    }
   ],
   "source": [
    "%viz --style=\"POLYLINE\" --view=\"Interconnection\" \"ImportTest\""
   ]
  },
  {
   "cell_type": "code",
   "execution_count": 13,
   "id": "d658e9d1",
   "metadata": {
    "execution": {
     "iopub.execute_input": "2022-02-18T10:46:58.399303Z",
     "iopub.status.busy": "2022-02-18T10:46:58.398893Z",
     "iopub.status.idle": "2022-02-18T10:46:58.405474Z",
     "shell.execute_reply": "2022-02-18T10:46:58.405795Z"
    }
   },
   "outputs": [
    {
     "data": {
      "image/svg+xml": [
       "<?xml version=\"1.0\" encoding=\"UTF-8\" standalone=\"no\"?><svg xmlns=\"http://www.w3.org/2000/svg\" xmlns:xlink=\"http://www.w3.org/1999/xlink\" contentScriptType=\"application/ecmascript\" contentStyleType=\"text/css\" height=\"12px\" preserveAspectRatio=\"none\" style=\"width:12px;height:12px;\" version=\"1.1\" viewBox=\"0 0 12 12\" width=\"12px\" zoomAndPan=\"magnify\"><defs/><g><!--MD5=[97bbf32f66ccd50cbc40d92ea8f5a65e]\n",
       "@startuml\r\n",
       "skinparam ranksep 8\r\n",
       "skinparam linetype polyline\r\n",
       "skinparam monochrome true\r\n",
       "skinparam classbackgroundcolor white\r\n",
       "skinparam shadowing false\r\n",
       "skinparam wrapWidth 300\r\n",
       "hide circle\r\n",
       "\r\n",
       "@enduml\r\n",
       "\n",
       "PlantUML version 1.2020.13(Sat Jun 13 12:26:38 UTC 2020)\n",
       "(EPL source distribution)\n",
       "Java Runtime: OpenJDK Runtime Environment\n",
       "JVM: OpenJDK 64-Bit Server VM\n",
       "Default Encoding: UTF-8\n",
       "Language: en\n",
       "Country: null\n",
       "--></g></svg>"
      ]
     },
     "execution_count": 13,
     "metadata": {},
     "output_type": "execute_result"
    }
   ],
   "source": [
    "%viz --style=\"POLYLINE\" --view=\"Action\" \"ImportTest\""
   ]
  },
  {
   "cell_type": "code",
   "execution_count": 14,
   "id": "29564922",
   "metadata": {
    "execution": {
     "iopub.execute_input": "2022-02-18T10:46:58.455938Z",
     "iopub.status.busy": "2022-02-18T10:46:58.455535Z",
     "iopub.status.idle": "2022-02-18T10:46:58.461670Z",
     "shell.execute_reply": "2022-02-18T10:46:58.461982Z"
    }
   },
   "outputs": [
    {
     "data": {
      "image/svg+xml": [
       "<?xml version=\"1.0\" encoding=\"UTF-8\" standalone=\"no\"?><svg xmlns=\"http://www.w3.org/2000/svg\" xmlns:xlink=\"http://www.w3.org/1999/xlink\" contentScriptType=\"application/ecmascript\" contentStyleType=\"text/css\" height=\"12px\" preserveAspectRatio=\"none\" style=\"width:12px;height:12px;\" version=\"1.1\" viewBox=\"0 0 12 12\" width=\"12px\" zoomAndPan=\"magnify\"><defs/><g><!--MD5=[dc938048236c351797870c36b62f92ad]\n",
       "@startuml\r\n",
       "skinparam roundcorner 20\r\n",
       "skinparam BoxPadding 20\r\n",
       "skinparam SequenceBoxBackgroundColor #white\r\n",
       "skinparam style strictuml\r\n",
       "skinparam maxMessageSize 100\r\n",
       "skinparam linetype polyline\r\n",
       "skinparam monochrome true\r\n",
       "skinparam classbackgroundcolor white\r\n",
       "skinparam shadowing false\r\n",
       "skinparam wrapWidth 300\r\n",
       "hide circle\r\n",
       "\r\n",
       "@enduml\r\n",
       "\n",
       "PlantUML version 1.2020.13(Sat Jun 13 12:26:38 UTC 2020)\n",
       "(EPL source distribution)\n",
       "Java Runtime: OpenJDK Runtime Environment\n",
       "JVM: OpenJDK 64-Bit Server VM\n",
       "Default Encoding: UTF-8\n",
       "Language: en\n",
       "Country: null\n",
       "--></g></svg>"
      ]
     },
     "execution_count": 14,
     "metadata": {},
     "output_type": "execute_result"
    }
   ],
   "source": [
    "%viz --style=\"POLYLINE\" --view=\"Sequence\" \"ImportTest\""
   ]
  },
  {
   "cell_type": "code",
   "execution_count": 15,
   "id": "228c9878",
   "metadata": {
    "execution": {
     "iopub.execute_input": "2022-02-18T10:46:58.512204Z",
     "iopub.status.busy": "2022-02-18T10:46:58.511791Z",
     "iopub.status.idle": "2022-02-18T10:46:58.557732Z",
     "shell.execute_reply": "2022-02-18T10:46:58.557370Z"
    }
   },
   "outputs": [
    {
     "data": {
      "image/svg+xml": [
       "<?xml version=\"1.0\" encoding=\"UTF-8\" standalone=\"no\"?><svg xmlns=\"http://www.w3.org/2000/svg\" xmlns:xlink=\"http://www.w3.org/1999/xlink\" contentScriptType=\"application/ecmascript\" contentStyleType=\"text/css\" height=\"590px\" preserveAspectRatio=\"none\" style=\"width:522px;height:590px;\" version=\"1.1\" viewBox=\"0 0 522 590\" width=\"522px\" zoomAndPan=\"magnify\"><defs/><g><!--MD5=[fbc87193dbaf4d95561dea2c320d4a47]\n",
       "cluster E1--><a href=\"psysml:4ef55e29-a78c-4120-8a0e-706d60f3b916\" target=\"_top\" title=\"psysml:4ef55e29-a78c-4120-8a0e-706d60f3b916\" xlink:actuate=\"onRequest\" xlink:href=\"psysml:4ef55e29-a78c-4120-8a0e-706d60f3b916\" xlink:show=\"new\" xlink:title=\"psysml:4ef55e29-a78c-4120-8a0e-706d60f3b916\" xlink:type=\"simple\"><polygon fill=\"#FFFFFF\" points=\"16,6,97,6,104,28.2969,500,28.2969,500,578,16,578,16,6\" style=\"stroke: #000000; stroke-width: 1.5;\"/><line style=\"stroke: #000000; stroke-width: 1.5;\" x1=\"16\" x2=\"104\" y1=\"28.2969\" y2=\"28.2969\"/><text fill=\"#000000\" font-family=\"sans-serif\" font-size=\"14\" font-weight=\"bold\" lengthAdjust=\"spacingAndGlyphs\" textLength=\"75\" x=\"20\" y=\"20.9951\">ImportTest</text></a><!--MD5=[e4f7fae6ed58524ba242bb0b0d3be6b7]\n",
       "cluster E2--><a href=\"psysml:fc5e85ef-31d8-4451-b981-c90381fde50e\" target=\"_top\" title=\"psysml:fc5e85ef-31d8-4451-b981-c90381fde50e\" xlink:actuate=\"onRequest\" xlink:href=\"psysml:fc5e85ef-31d8-4451-b981-c90381fde50e\" xlink:show=\"new\" xlink:title=\"psysml:fc5e85ef-31d8-4451-b981-c90381fde50e\" xlink:type=\"simple\"><polygon fill=\"#FFFFFF\" points=\"222,57,263,57,270,79.2969,468,79.2969,468,170,222,170,222,57\" style=\"stroke: #000000; stroke-width: 1.5;\"/><line style=\"stroke: #000000; stroke-width: 1.5;\" x1=\"222\" x2=\"270\" y1=\"79.2969\" y2=\"79.2969\"/><text fill=\"#000000\" font-family=\"sans-serif\" font-size=\"14\" font-weight=\"bold\" lengthAdjust=\"spacingAndGlyphs\" textLength=\"35\" x=\"226\" y=\"71.9951\">Pkg1</text></a><!--MD5=[de5ec2e2e8f62f467e546659f5068c88]\n",
       "cluster E5--><a href=\"psysml:c270e78f-1935-46bf-a024-66cb4836716b\" target=\"_top\" title=\"psysml:c270e78f-1935-46bf-a024-66cb4836716b\" xlink:actuate=\"onRequest\" xlink:href=\"psysml:c270e78f-1935-46bf-a024-66cb4836716b\" xlink:show=\"new\" xlink:title=\"psysml:c270e78f-1935-46bf-a024-66cb4836716b\" xlink:type=\"simple\"><polygon fill=\"#FFFFFF\" points=\"121,235,162,235,169,257.2969,434,257.2969,434,546,121,546,121,235\" style=\"stroke: #000000; stroke-width: 1.5;\"/><line style=\"stroke: #000000; stroke-width: 1.5;\" x1=\"121\" x2=\"169\" y1=\"257.2969\" y2=\"257.2969\"/><text fill=\"#000000\" font-family=\"sans-serif\" font-size=\"14\" font-weight=\"bold\" lengthAdjust=\"spacingAndGlyphs\" textLength=\"35\" x=\"125\" y=\"249.9951\">Pkg2</text></a><!--MD5=[14e3b0961a2654348d326746436168a1]\n",
       "cluster E6--><a href=\"psysml:ed944fef-70b9-4524-9917-716ca36e9ac1\" target=\"_top\" title=\"psysml:ed944fef-70b9-4524-9917-716ca36e9ac1\" xlink:actuate=\"onRequest\" xlink:href=\"psysml:ed944fef-70b9-4524-9917-716ca36e9ac1\" xlink:show=\"new\" xlink:title=\"psysml:ed944fef-70b9-4524-9917-716ca36e9ac1\" xlink:type=\"simple\"><polygon fill=\"#FFFFFF\" points=\"161,294,211,294,218,316.2969,386,316.2969,386,506,161,506,161,294\" style=\"stroke: #000000; stroke-width: 1.5;\"/><line style=\"stroke: #000000; stroke-width: 1.5;\" x1=\"161\" x2=\"218\" y1=\"316.2969\" y2=\"316.2969\"/><text fill=\"#000000\" font-family=\"sans-serif\" font-size=\"14\" font-weight=\"bold\" lengthAdjust=\"spacingAndGlyphs\" textLength=\"44\" x=\"165\" y=\"308.9951\">Pkg21</text></a><!--MD5=[168fadf3d0c3fd93dd5d6da1b1d7ab76]\n",
       "cluster E7--><a href=\"psysml:9f58dbb8-6a8c-4281-a4ad-0fbab28478f4\" target=\"_top\" title=\"psysml:9f58dbb8-6a8c-4281-a4ad-0fbab28478f4\" xlink:actuate=\"onRequest\" xlink:href=\"psysml:9f58dbb8-6a8c-4281-a4ad-0fbab28478f4\" xlink:show=\"new\" xlink:title=\"psysml:9f58dbb8-6a8c-4281-a4ad-0fbab28478f4\" xlink:type=\"simple\"><polygon fill=\"#FFFFFF\" points=\"209,353,268,353,275,375.2969,346,375.2969,346,466,209,466,209,353\" style=\"stroke: #000000; stroke-width: 1.5;\"/><line style=\"stroke: #000000; stroke-width: 1.5;\" x1=\"209\" x2=\"275\" y1=\"375.2969\" y2=\"375.2969\"/><text fill=\"#000000\" font-family=\"sans-serif\" font-size=\"14\" font-weight=\"bold\" lengthAdjust=\"spacingAndGlyphs\" textLength=\"53\" x=\"213\" y=\"367.9951\">Pkg211</text></a><!--MD5=[09b614a08d8cba4a07c9adeb5e0fee81]\n",
       "class E3--><a href=\"psysml:fe6123c1-7336-461e-a67a-648132fed175\" target=\"_top\" title=\"psysml:fe6123c1-7336-461e-a67a-648132fed175\" xlink:actuate=\"onRequest\" xlink:href=\"psysml:fe6123c1-7336-461e-a67a-648132fed175\" xlink:show=\"new\" xlink:title=\"psysml:fe6123c1-7336-461e-a67a-648132fed175\" xlink:type=\"simple\"><rect fill=\"#FFFFFF\" height=\"45.9375\" id=\"E3\" rx=\"10\" ry=\"10\" style=\"stroke: #383838; stroke-width: 1.5;\" width=\"74\" x=\"265\" y=\"100\"/><text fill=\"#000000\" font-family=\"sans-serif\" font-size=\"12\" font-style=\"italic\" lengthAdjust=\"spacingAndGlyphs\" textLength=\"40\" x=\"282\" y=\"116.1387\">«part»</text><text fill=\"#000000\" font-family=\"sans-serif\" font-size=\"12\" lengthAdjust=\"spacingAndGlyphs\" textLength=\"64\" x=\"268\" y=\"130.1074\">p11: P211</text><line style=\"stroke: #383838; stroke-width: 1.5;\" x1=\"266\" x2=\"338\" y1=\"137.9375\" y2=\"137.9375\"/></a><!--MD5=[ebbe1d658d1005bcc118a6aa81145e00]\n",
       "class E4--><a href=\"psysml:1380541e-fc30-40f5-9a60-edda9aa0065e\" target=\"_top\" title=\"psysml:1380541e-fc30-40f5-9a60-edda9aa0065e\" xlink:actuate=\"onRequest\" xlink:href=\"psysml:1380541e-fc30-40f5-9a60-edda9aa0065e\" xlink:show=\"new\" xlink:title=\"psysml:1380541e-fc30-40f5-9a60-edda9aa0065e\" xlink:type=\"simple\"><rect fill=\"#FFFFFF\" height=\"45.9375\" id=\"E4\" style=\"stroke: #383838; stroke-width: 1.5;\" width=\"70\" x=\"374\" y=\"100\"/><text fill=\"#000000\" font-family=\"sans-serif\" font-size=\"12\" font-style=\"italic\" lengthAdjust=\"spacingAndGlyphs\" textLength=\"68\" x=\"375\" y=\"116.1387\">«part  def»</text><text fill=\"#000000\" font-family=\"sans-serif\" font-size=\"12\" lengthAdjust=\"spacingAndGlyphs\" textLength=\"24\" x=\"397\" y=\"130.1074\">P12</text><line style=\"stroke: #383838; stroke-width: 1.5;\" x1=\"375\" x2=\"443\" y1=\"137.9375\" y2=\"137.9375\"/></a><!--MD5=[b9389687b975829384b498ac4b7476b2]\n",
       "class E8--><a href=\"psysml:4acbdff1-c8fe-48cb-afd1-a68daa112cad\" target=\"_top\" title=\"psysml:4acbdff1-c8fe-48cb-afd1-a68daa112cad\" xlink:actuate=\"onRequest\" xlink:href=\"psysml:4acbdff1-c8fe-48cb-afd1-a68daa112cad\" xlink:show=\"new\" xlink:title=\"psysml:4acbdff1-c8fe-48cb-afd1-a68daa112cad\" xlink:type=\"simple\"><rect fill=\"#FFFFFF\" height=\"45.9375\" id=\"E8\" style=\"stroke: #383838; stroke-width: 1.5;\" width=\"70\" x=\"252\" y=\"396\"/><text fill=\"#000000\" font-family=\"sans-serif\" font-size=\"12\" font-style=\"italic\" lengthAdjust=\"spacingAndGlyphs\" textLength=\"68\" x=\"253\" y=\"412.1387\">«part  def»</text><text fill=\"#000000\" font-family=\"sans-serif\" font-size=\"12\" lengthAdjust=\"spacingAndGlyphs\" textLength=\"32\" x=\"271\" y=\"426.1074\">P211</text><line style=\"stroke: #383838; stroke-width: 1.5;\" x1=\"253\" x2=\"321\" y1=\"433.9375\" y2=\"433.9375\"/></a><!--MD5=[b0060bfdb0500b904584095522b4da3c]\n",
       "link E2 to E8--><a href=\"psysml:4f20d9a0-229b-41ce-a3f9-ec650db8275f\" target=\"_top\" title=\"psysml:4f20d9a0-229b-41ce-a3f9-ec650db8275f\" xlink:actuate=\"onRequest\" xlink:href=\"psysml:4f20d9a0-229b-41ce-a3f9-ec650db8275f\" xlink:show=\"new\" xlink:title=\"psysml:4f20d9a0-229b-41ce-a3f9-ec650db8275f\" xlink:type=\"simple\"><path d=\"M244.141,170.1434 C244.2057,170.3545 244.27,170.5643 244.3339,170.7729 C244.4617,171.1899 244.5879,171.6018 244.7124,172.0081 C245.2104,173.633 245.6806,175.1677 246.1144,176.5831 C247.8494,182.245 249,186 249,186 C249,186 264,194 264,194 C264,194 278.03,330.67 284.18,390.5 \" fill=\"none\" id=\"E2-&gt;E8\" style=\"stroke: #383838; stroke-width: 1.0; stroke-dasharray: 7.0,7.0;\"/><polygon fill=\"#383838\" points=\"284.71,395.7,287.7627,386.3362,284.1955,390.7265,279.8051,387.1594,284.71,395.7\" style=\"stroke: #383838; stroke-width: 1.0;\"/><text fill=\"#000000\" font-family=\"sans-serif\" font-size=\"13\" lengthAdjust=\"spacingAndGlyphs\" textLength=\"58\" x=\"266\" y=\"207.0669\">«import»</text></a><!--MD5=[e3e28c1befcf002155aa15e1416b4315]\n",
       "link E2 to E6--><a href=\"psysml:682e8ea7-bcd5-404d-bf47-54c119ed8bb7\" target=\"_top\" title=\"psysml:682e8ea7-bcd5-404d-bf47-54c119ed8bb7\" xlink:actuate=\"onRequest\" xlink:href=\"psysml:682e8ea7-bcd5-404d-bf47-54c119ed8bb7\" xlink:show=\"new\" xlink:title=\"psysml:682e8ea7-bcd5-404d-bf47-54c119ed8bb7\" xlink:type=\"simple\"><path d=\"M221.8378,128.263 C221.7063,128.3317 221.5734,128.4012 221.4391,128.4713 C220.902,128.752 220.3429,129.044 219.7629,129.3471 C218.6029,129.9531 217.359,130.603 216.0391,131.2926 C213.3993,132.6717 210.4553,134.2098 207.2695,135.8741 C194.5266,142.5313 177.9156,151.2088 161.4313,159.82 C128.4625,177.0425 96,194 96,194 C96,194 96,211 96,211 C96,211 113.685,261.145 131.6463,312.0738 C140.6269,337.5381 149.6766,363.1984 156.6192,382.8845 C157.4871,385.3453 158.322,387.7127 159.1197,389.9747 C159.5186,391.1057 159.9081,392.2104 160.2879,393.2872 C160.4778,393.8256 160.6652,394.357 160.8501,394.8813 \" fill=\"none\" id=\"E2-&gt;E6\" style=\"stroke: #383838; stroke-width: 1.0; stroke-dasharray: 7.0,7.0;\"/><polygon fill=\"#383838\" points=\"160.8501,394.8813,161.6291,385.0633,159.1871,390.166,154.0845,387.724,160.8501,394.8813\" style=\"stroke: #383838; stroke-width: 1.0;\"/><text fill=\"#000000\" font-family=\"sans-serif\" font-size=\"13\" lengthAdjust=\"spacingAndGlyphs\" textLength=\"65\" x=\"97\" y=\"207.0669\">«import»*</text></a><!--MD5=[e3d2a08a9c9236652057e8ed0cbc9b62]\n",
       "link E2 to E7--><a href=\"psysml:60c32f43-2902-493b-8362-f480edbb78ed\" target=\"_top\" title=\"psysml:60c32f43-2902-493b-8362-f480edbb78ed\" xlink:actuate=\"onRequest\" xlink:href=\"psysml:60c32f43-2902-493b-8362-f480edbb78ed\" xlink:show=\"new\" xlink:title=\"psysml:60c32f43-2902-493b-8362-f480edbb78ed\" xlink:type=\"simple\"><path d=\"M221.7702,133.7649 C221.6886,133.8616 221.6067,133.9589 221.5242,134.0567 C221.3593,134.2523 221.1926,134.4501 221.0241,134.65 C220.6871,135.0498 220.3431,135.458 219.9923,135.8741 C214.3809,142.5313 207.0669,151.2088 199.8087,159.82 C185.2925,177.0425 171,194 171,194 C171,194 171,211 171,211 C171,211 213,219 213,219 C213,219 213.97,267.2075 214.955,316.1688 C215.2013,328.4091 215.4484,340.6965 215.6816,352.2896 \" fill=\"none\" id=\"E2-&gt;E7\" style=\"stroke: #383838; stroke-width: 1.0; stroke-dasharray: 7.0,7.0;\"/><polygon fill=\"#383838\" points=\"215.6816,352.2896,219.4998,343.2109,215.5811,347.2906,211.5014,343.3718,215.6816,352.2896\" style=\"stroke: #383838; stroke-width: 1.0;\"/><text fill=\"#000000\" font-family=\"sans-serif\" font-size=\"13\" lengthAdjust=\"spacingAndGlyphs\" textLength=\"87\" x=\"172\" y=\"207.0669\">«import»*::**</text></a><!--MD5=[ca5a752d6098d8a44b3f88316e7452d1]\n",
       "link E3 to E8--><a href=\"psysml:37accf74-aaef-4298-a8d1-458e277c829e\" target=\"_top\" title=\"psysml:37accf74-aaef-4298-a8d1-458e277c829e\" xlink:actuate=\"onRequest\" xlink:href=\"psysml:37accf74-aaef-4298-a8d1-458e277c829e\" xlink:show=\"new\" xlink:title=\"psysml:37accf74-aaef-4298-a8d1-458e277c829e\" xlink:type=\"simple\"><path d=\"M321.62,146.15 C339.78,166.66 364,194 364,194 C364,194 364,211 364,211 C364,211 326,219 326,219 C326,219 306.63,317.82 295.19,376.19 \" fill=\"none\" id=\"E3-&gt;E8\" style=\"stroke: #383838; stroke-width: 1.0;\"/><polygon fill=\"#FFFFFF\" points=\"291.32,395.94,288.1009,375.9491,301.8401,378.6389,291.32,395.94\" style=\"stroke: #383838; stroke-width: 1.0;\"/><ellipse cx=\"291.1588\" cy=\"370.7395\" fill=\"#383838\" rx=\"2\" ry=\"2\" style=\"stroke: #383838; stroke-width: 1.0;\"/><ellipse cx=\"300.9725\" cy=\"372.6608\" fill=\"#383838\" rx=\"2\" ry=\"2\" style=\"stroke: #383838; stroke-width: 1.0;\"/></a><!--MD5=[15ebcb19ae302d9b601edb458606d402]\n",
       "link E5 to E2--><a href=\"psysml:a29f5286-6760-4cc8-8866-2ed3ee4f3eda\" target=\"_top\" title=\"psysml:a29f5286-6760-4cc8-8866-2ed3ee4f3eda\" xlink:actuate=\"onRequest\" xlink:href=\"psysml:a29f5286-6760-4cc8-8866-2ed3ee4f3eda\" xlink:show=\"new\" xlink:title=\"psysml:a29f5286-6760-4cc8-8866-2ed3ee4f3eda\" xlink:type=\"simple\"><path d=\"M350.0108,234.9703 C349.8689,234.6284 349.7275,234.288 349.5868,233.9491 C349.3055,233.2714 349.0266,232.5998 348.7504,231.9345 C348.1979,230.6039 347.6559,229.2986 347.1252,228.0202 C338.6325,207.5656 333,194 333,194 C333,194 249,186 249,186 C249,186 247.8494,182.245 246.1144,176.5831 C245.6806,175.1677 245.2104,173.633 244.7124,172.0081 C244.5879,171.6018 244.4617,171.1899 244.3339,170.7729 C244.27,170.5643 244.2057,170.3545 244.141,170.1434 \" fill=\"none\" id=\"E5-&gt;E2\" style=\"stroke: #383838; stroke-width: 1.0; stroke-dasharray: 7.0,7.0;\"/><polygon fill=\"#383838\" points=\"244.141,170.1434,242.9535,179.9204,245.606,174.924,250.6024,177.5765,244.141,170.1434\" style=\"stroke: #383838; stroke-width: 1.0;\"/><text fill=\"#000000\" font-family=\"sans-serif\" font-size=\"13\" lengthAdjust=\"spacingAndGlyphs\" textLength=\"65\" x=\"340\" y=\"207.0669\">«import»*</text></a><!--MD5=[d7bb3fb34add81b710575eb3799fa2ad]\n",
       "link E8 to E4--><a href=\"psysml:d1a96eaf-259a-4888-9f98-ae46b38eb818\" target=\"_top\" title=\"psysml:d1a96eaf-259a-4888-9f98-ae46b38eb818\" xlink:actuate=\"onRequest\" xlink:href=\"psysml:d1a96eaf-259a-4888-9f98-ae46b38eb818\" xlink:show=\"new\" xlink:title=\"psysml:d1a96eaf-259a-4888-9f98-ae46b38eb818\" xlink:type=\"simple\"><path d=\"M291.32,395.94 C301.48,344.13 326,219 326,219 C326,219 478,211 478,211 C478,211 478,194 478,194 C478,194 461.71,177.48 444.97,160.49 \" fill=\"none\" id=\"E8-&gt;E4\" style=\"stroke: #383838; stroke-width: 1.0;\"/><polygon fill=\"none\" points=\"439.89,165.31,430.83,146.15,449.86,155.48,439.89,165.31\" style=\"stroke: #383838; stroke-width: 1.0;\"/></a><!--MD5=[82db625543624a41cc8e9d6df70d1dc1]\n",
       "@startuml\r\n",
       "skinparam linetype polyline\r\n",
       "skinparam monochrome true\r\n",
       "skinparam classbackgroundcolor white\r\n",
       "skinparam shadowing false\r\n",
       "skinparam wrapWidth 300\r\n",
       "hide circle\r\n",
       "\r\n",
       "package \"ImportTest\" as E1  [[psysml:4ef55e29-a78c-4120-8a0e-706d60f3b916 ]]  {\r\n",
       "package \"Pkg1\" as E2  [[psysml:fc5e85ef-31d8-4451-b981-c90381fde50e ]]  {\r\n",
       "comp usage \"p11: P211 \" as E3  <<(T,blue) part>> [[psysml:fe6123c1-7336-461e-a67a-648132fed175 ]] {\r\n",
       "}\r\n",
       "comp def \"P12\" as E4  <<(T,blue) part  def>> [[psysml:1380541e-fc30-40f5-9a60-edda9aa0065e ]] {\r\n",
       "}\r\n",
       "}\r\n",
       "package \"Pkg2\" as E5  [[psysml:c270e78f-1935-46bf-a024-66cb4836716b ]]  {\r\n",
       "package \"Pkg21\" as E6  [[psysml:ed944fef-70b9-4524-9917-716ca36e9ac1 ]]  {\r\n",
       "package \"Pkg211\" as E7  [[psysml:9f58dbb8-6a8c-4281-a4ad-0fbab28478f4 ]]  {\r\n",
       "comp def \"P211\" as E8  <<(T,blue) part  def>> [[psysml:4acbdff1-c8fe-48cb-afd1-a68daa112cad ]] {\r\n",
       "}\r\n",
       "}\r\n",
       "}\r\n",
       "}\r\n",
       "}\r\n",
       "E2 ..> E8 [[psysml:4f20d9a0-229b-41ce-a3f9-ec650db8275f ]] : <<import>>\r\n",
       "E2 ..> E6 [[psysml:682e8ea7-bcd5-404d-bf47-54c119ed8bb7 ]] : <<import>>*\r\n",
       "E2 ..> E7 [[psysml:60c32f43-2902-493b-8362-f480edbb78ed ]] : <<import>>*::**\r\n",
       "E3 - -:|> E8 [[psysml:37accf74-aaef-4298-a8d1-458e277c829e ]] \r\n",
       "E5 ..> E2 [[psysml:a29f5286-6760-4cc8-8866-2ed3ee4f3eda ]] : <<import>>*\r\n",
       "E8 - -|> E4 [[psysml:d1a96eaf-259a-4888-9f98-ae46b38eb818 ]] \r\n",
       "@enduml\r\n",
       "\n",
       "PlantUML version 1.2020.13(Sat Jun 13 12:26:38 UTC 2020)\n",
       "(EPL source distribution)\n",
       "Java Runtime: OpenJDK Runtime Environment\n",
       "JVM: OpenJDK 64-Bit Server VM\n",
       "Default Encoding: UTF-8\n",
       "Language: en\n",
       "Country: null\n",
       "--></g></svg>"
      ]
     },
     "execution_count": 15,
     "metadata": {},
     "output_type": "execute_result"
    }
   ],
   "source": [
    "%viz --style=\"POLYLINE\" --view=\"MIXED\" \"ImportTest\""
   ]
  },
  {
   "cell_type": "code",
   "execution_count": 16,
   "id": "54419623",
   "metadata": {
    "execution": {
     "iopub.execute_input": "2022-02-18T10:46:58.607590Z",
     "iopub.status.busy": "2022-02-18T10:46:58.607185Z",
     "iopub.status.idle": "2022-02-18T10:46:58.655969Z",
     "shell.execute_reply": "2022-02-18T10:46:58.655591Z"
    }
   },
   "outputs": [
    {
     "data": {
      "image/svg+xml": [
       "<?xml version=\"1.0\" encoding=\"UTF-8\" standalone=\"no\"?><svg xmlns=\"http://www.w3.org/2000/svg\" xmlns:xlink=\"http://www.w3.org/1999/xlink\" contentScriptType=\"application/ecmascript\" contentStyleType=\"text/css\" height=\"447px\" preserveAspectRatio=\"none\" style=\"width:639px;height:447px;\" version=\"1.1\" viewBox=\"0 0 639 447\" width=\"639px\" zoomAndPan=\"magnify\"><defs/><g><!--MD5=[fbc87193dbaf4d95561dea2c320d4a47]\n",
       "cluster E1--><a href=\"psysml:4ef55e29-a78c-4120-8a0e-706d60f3b916\" target=\"_top\" title=\"psysml:4ef55e29-a78c-4120-8a0e-706d60f3b916\" xlink:actuate=\"onRequest\" xlink:href=\"psysml:4ef55e29-a78c-4120-8a0e-706d60f3b916\" xlink:show=\"new\" xlink:title=\"psysml:4ef55e29-a78c-4120-8a0e-706d60f3b916\" xlink:type=\"simple\"><polygon fill=\"#FFFFFF\" points=\"16,6,97,6,104,28.2969,617,28.2969,617,435,16,435,16,6\" style=\"stroke: #000000; stroke-width: 1.5;\"/><line style=\"stroke: #000000; stroke-width: 1.5;\" x1=\"16\" x2=\"104\" y1=\"28.2969\" y2=\"28.2969\"/><text fill=\"#000000\" font-family=\"sans-serif\" font-size=\"14\" font-weight=\"bold\" lengthAdjust=\"spacingAndGlyphs\" textLength=\"75\" x=\"20\" y=\"20.9951\">ImportTest</text></a><!--MD5=[e4f7fae6ed58524ba242bb0b0d3be6b7]\n",
       "cluster E2--><a href=\"psysml:fc5e85ef-31d8-4451-b981-c90381fde50e\" target=\"_top\" title=\"psysml:fc5e85ef-31d8-4451-b981-c90381fde50e\" xlink:actuate=\"onRequest\" xlink:href=\"psysml:fc5e85ef-31d8-4451-b981-c90381fde50e\" xlink:show=\"new\" xlink:title=\"psysml:fc5e85ef-31d8-4451-b981-c90381fde50e\" xlink:type=\"simple\"><polygon fill=\"#FFFFFF\" points=\"48,83,89,83,96,105.2969,170,105.2969,170,296,48,296,48,83\" style=\"stroke: #000000; stroke-width: 1.5;\"/><line style=\"stroke: #000000; stroke-width: 1.5;\" x1=\"48\" x2=\"96\" y1=\"105.2969\" y2=\"105.2969\"/><text fill=\"#000000\" font-family=\"sans-serif\" font-size=\"14\" font-weight=\"bold\" lengthAdjust=\"spacingAndGlyphs\" textLength=\"35\" x=\"52\" y=\"97.9951\">Pkg1</text></a><!--MD5=[de5ec2e2e8f62f467e546659f5068c88]\n",
       "cluster E5--><a href=\"psysml:c270e78f-1935-46bf-a024-66cb4836716b\" target=\"_top\" title=\"psysml:c270e78f-1935-46bf-a024-66cb4836716b\" xlink:actuate=\"onRequest\" xlink:href=\"psysml:c270e78f-1935-46bf-a024-66cb4836716b\" xlink:show=\"new\" xlink:title=\"psysml:c270e78f-1935-46bf-a024-66cb4836716b\" xlink:type=\"simple\"><polygon fill=\"#FFFFFF\" points=\"307,57,348,57,355,79.2969,585,79.2969,585,403,307,403,307,57\" style=\"stroke: #000000; stroke-width: 1.5;\"/><line style=\"stroke: #000000; stroke-width: 1.5;\" x1=\"307\" x2=\"355\" y1=\"79.2969\" y2=\"79.2969\"/><text fill=\"#000000\" font-family=\"sans-serif\" font-size=\"14\" font-weight=\"bold\" lengthAdjust=\"spacingAndGlyphs\" textLength=\"35\" x=\"311\" y=\"71.9951\">Pkg2</text></a><!--MD5=[14e3b0961a2654348d326746436168a1]\n",
       "cluster E6--><a href=\"psysml:ed944fef-70b9-4524-9917-716ca36e9ac1\" target=\"_top\" title=\"psysml:ed944fef-70b9-4524-9917-716ca36e9ac1\" xlink:actuate=\"onRequest\" xlink:href=\"psysml:ed944fef-70b9-4524-9917-716ca36e9ac1\" xlink:show=\"new\" xlink:title=\"psysml:ed944fef-70b9-4524-9917-716ca36e9ac1\" xlink:type=\"simple\"><polygon fill=\"#FFFFFF\" points=\"347,124,397,124,404,146.2969,545,146.2969,545,363,347,363,347,124\" style=\"stroke: #000000; stroke-width: 1.5;\"/><line style=\"stroke: #000000; stroke-width: 1.5;\" x1=\"347\" x2=\"404\" y1=\"146.2969\" y2=\"146.2969\"/><text fill=\"#000000\" font-family=\"sans-serif\" font-size=\"14\" font-weight=\"bold\" lengthAdjust=\"spacingAndGlyphs\" textLength=\"44\" x=\"351\" y=\"138.9951\">Pkg21</text></a><!--MD5=[168fadf3d0c3fd93dd5d6da1b1d7ab76]\n",
       "cluster E7--><a href=\"psysml:9f58dbb8-6a8c-4281-a4ad-0fbab28478f4\" target=\"_top\" title=\"psysml:9f58dbb8-6a8c-4281-a4ad-0fbab28478f4\" xlink:actuate=\"onRequest\" xlink:href=\"psysml:9f58dbb8-6a8c-4281-a4ad-0fbab28478f4\" xlink:show=\"new\" xlink:title=\"psysml:9f58dbb8-6a8c-4281-a4ad-0fbab28478f4\" xlink:type=\"simple\"><polygon fill=\"#FFFFFF\" points=\"387,183,446,183,453,205.2969,505,205.2969,505,315,387,315,387,183\" style=\"stroke: #000000; stroke-width: 1.5;\"/><line style=\"stroke: #000000; stroke-width: 1.5;\" x1=\"387\" x2=\"453\" y1=\"205.2969\" y2=\"205.2969\"/><text fill=\"#000000\" font-family=\"sans-serif\" font-size=\"14\" font-weight=\"bold\" lengthAdjust=\"spacingAndGlyphs\" textLength=\"53\" x=\"391\" y=\"197.9951\">Pkg211</text></a><!--MD5=[09b614a08d8cba4a07c9adeb5e0fee81]\n",
       "class E3--><a href=\"psysml:fe6123c1-7336-461e-a67a-648132fed175\" target=\"_top\" title=\"psysml:fe6123c1-7336-461e-a67a-648132fed175\" xlink:actuate=\"onRequest\" xlink:href=\"psysml:fe6123c1-7336-461e-a67a-648132fed175\" xlink:show=\"new\" xlink:title=\"psysml:fe6123c1-7336-461e-a67a-648132fed175\" xlink:type=\"simple\"><rect fill=\"#FFFFFF\" height=\"45.9375\" id=\"E3\" rx=\"10\" ry=\"10\" style=\"stroke: #383838; stroke-width: 1.5;\" width=\"74\" x=\"72\" y=\"207\"/><text fill=\"#000000\" font-family=\"sans-serif\" font-size=\"12\" font-style=\"italic\" lengthAdjust=\"spacingAndGlyphs\" textLength=\"40\" x=\"89\" y=\"223.1387\">«part»</text><text fill=\"#000000\" font-family=\"sans-serif\" font-size=\"12\" lengthAdjust=\"spacingAndGlyphs\" textLength=\"64\" x=\"75\" y=\"237.1074\">p11: P211</text><line style=\"stroke: #383838; stroke-width: 1.5;\" x1=\"73\" x2=\"145\" y1=\"244.9375\" y2=\"244.9375\"/></a><!--MD5=[ebbe1d658d1005bcc118a6aa81145e00]\n",
       "class E4--><a href=\"psysml:1380541e-fc30-40f5-9a60-edda9aa0065e\" target=\"_top\" title=\"psysml:1380541e-fc30-40f5-9a60-edda9aa0065e\" xlink:actuate=\"onRequest\" xlink:href=\"psysml:1380541e-fc30-40f5-9a60-edda9aa0065e\" xlink:show=\"new\" xlink:title=\"psysml:1380541e-fc30-40f5-9a60-edda9aa0065e\" xlink:type=\"simple\"><rect fill=\"#FFFFFF\" height=\"45.9375\" id=\"E4\" style=\"stroke: #383838; stroke-width: 1.5;\" width=\"70\" x=\"74\" y=\"126\"/><text fill=\"#000000\" font-family=\"sans-serif\" font-size=\"12\" font-style=\"italic\" lengthAdjust=\"spacingAndGlyphs\" textLength=\"68\" x=\"75\" y=\"142.1387\">«part  def»</text><text fill=\"#000000\" font-family=\"sans-serif\" font-size=\"12\" lengthAdjust=\"spacingAndGlyphs\" textLength=\"24\" x=\"97\" y=\"156.1074\">P12</text><line style=\"stroke: #383838; stroke-width: 1.5;\" x1=\"75\" x2=\"143\" y1=\"163.9375\" y2=\"163.9375\"/></a><!--MD5=[b9389687b975829384b498ac4b7476b2]\n",
       "class E8--><a href=\"psysml:4acbdff1-c8fe-48cb-afd1-a68daa112cad\" target=\"_top\" title=\"psysml:4acbdff1-c8fe-48cb-afd1-a68daa112cad\" xlink:actuate=\"onRequest\" xlink:href=\"psysml:4acbdff1-c8fe-48cb-afd1-a68daa112cad\" xlink:show=\"new\" xlink:title=\"psysml:4acbdff1-c8fe-48cb-afd1-a68daa112cad\" xlink:type=\"simple\"><rect fill=\"#FFFFFF\" height=\"45.9375\" id=\"E8\" style=\"stroke: #383838; stroke-width: 1.5;\" width=\"70\" x=\"411\" y=\"226\"/><text fill=\"#000000\" font-family=\"sans-serif\" font-size=\"12\" font-style=\"italic\" lengthAdjust=\"spacingAndGlyphs\" textLength=\"68\" x=\"412\" y=\"242.1387\">«part  def»</text><text fill=\"#000000\" font-family=\"sans-serif\" font-size=\"12\" lengthAdjust=\"spacingAndGlyphs\" textLength=\"32\" x=\"430\" y=\"256.1074\">P211</text><line style=\"stroke: #383838; stroke-width: 1.5;\" x1=\"412\" x2=\"480\" y1=\"263.9375\" y2=\"263.9375\"/></a><!--MD5=[b0060bfdb0500b904584095522b4da3c]\n",
       "link E2 to E8--><a href=\"psysml:4f20d9a0-229b-41ce-a3f9-ec650db8275f\" target=\"_top\" title=\"psysml:4f20d9a0-229b-41ce-a3f9-ec650db8275f\" xlink:actuate=\"onRequest\" xlink:href=\"psysml:4f20d9a0-229b-41ce-a3f9-ec650db8275f\" xlink:show=\"new\" xlink:title=\"psysml:4f20d9a0-229b-41ce-a3f9-ec650db8275f\" xlink:type=\"simple\"><path d=\"M171.0923,280.8853 C171.4965,280.8383 171.9021,280.7911 172.3092,280.7437 C175.5654,280.3646 178.9108,279.9751 182.3356,279.5764 C196.0348,277.9816 211.005,276.2388 226.6275,274.42 C289.1175,267.145 362.045,258.655 405.82,253.56 \" fill=\"none\" id=\"E2-&gt;E8\" style=\"stroke: #383838; stroke-width: 1.0; stroke-dasharray: 7.0,7.0;\"/><polygon fill=\"#383838\" points=\"410.91,252.97,401.5121,250.0239,405.9427,253.541,402.4256,257.9716,410.91,252.97\" style=\"stroke: #383838; stroke-width: 1.0;\"/><text fill=\"#000000\" font-family=\"sans-serif\" font-size=\"13\" lengthAdjust=\"spacingAndGlyphs\" textLength=\"58\" x=\"209.5\" y=\"265.0669\">«import»</text></a><!--MD5=[e3e28c1befcf002155aa15e1416b4315]\n",
       "link E2 to E6--><a href=\"psysml:682e8ea7-bcd5-404d-bf47-54c119ed8bb7\" target=\"_top\" title=\"psysml:682e8ea7-bcd5-404d-bf47-54c119ed8bb7\" xlink:actuate=\"onRequest\" xlink:href=\"psysml:682e8ea7-bcd5-404d-bf47-54c119ed8bb7\" xlink:show=\"new\" xlink:title=\"psysml:682e8ea7-bcd5-404d-bf47-54c119ed8bb7\" xlink:type=\"simple\"><path d=\"M120.3348,296.1648 C120.4168,296.2267 120.4991,296.2889 120.5819,296.3513 C121.2441,296.851 121.9332,297.3672 122.6479,297.8983 C124.0773,298.9606 125.6092,300.0826 127.2339,301.2511 C130.4832,303.588 134.1034,306.1109 138.0163,308.7138 C153.6675,319.125 174,330.815 194,337 C220.295,345.13 248.8488,350.3488 276.9572,353.5967 C291.0114,355.2207 304.9543,356.352 318.4479,357.1081 C325.1946,357.4862 331.8291,357.7705 338.3089,357.9757 C339.9289,358.027 341.5392,358.0734 343.1392,358.115 C343.9392,358.1358 344.7366,358.1555 345.5313,358.174 C345.9287,358.1832 346.3254,358.1922 346.7214,358.2009 \" fill=\"none\" id=\"E2-&gt;E6\" style=\"stroke: #383838; stroke-width: 1.0; stroke-dasharray: 7.0,7.0;\"/><polygon fill=\"#383838\" points=\"346.7214,358.2009,337.8112,354.0047,341.7226,358.0914,337.636,362.0028,346.7214,358.2009\" style=\"stroke: #383838; stroke-width: 1.0;\"/><text fill=\"#000000\" font-family=\"sans-serif\" font-size=\"13\" lengthAdjust=\"spacingAndGlyphs\" textLength=\"65\" x=\"206\" y=\"333.0669\">«import»*</text></a><!--MD5=[e3d2a08a9c9236652057e8ed0cbc9b62]\n",
       "link E2 to E7--><a href=\"psysml:60c32f43-2902-493b-8362-f480edbb78ed\" target=\"_top\" title=\"psysml:60c32f43-2902-493b-8362-f480edbb78ed\" xlink:actuate=\"onRequest\" xlink:href=\"psysml:60c32f43-2902-493b-8362-f480edbb78ed\" xlink:show=\"new\" xlink:title=\"psysml:60c32f43-2902-493b-8362-f480edbb78ed\" xlink:type=\"simple\"><path d=\"M134.0945,296.0694 C134.3286,296.1416 134.5639,296.214 134.8003,296.2866 C135.2733,296.4318 135.751,296.5778 136.2332,296.7244 C137.1977,297.0176 138.1805,297.3135 139.18,297.6113 C155.1725,302.375 175.46,307.61 194,310 C207.615,311.755 268.6325,311.055 327.0925,309.8913 C341.7075,309.6003 356.1627,309.2804 369.6773,308.9626 C373.056,308.8831 376.3759,308.8038 379.6248,308.7251 C381.2493,308.6858 382.856,308.6466 384.4434,308.6076 C385.2372,308.5881 386.0261,308.5687 386.81,308.5493 \" fill=\"none\" id=\"E2-&gt;E7\" style=\"stroke: #383838; stroke-width: 1.0; stroke-dasharray: 7.0,7.0;\"/><polygon fill=\"#383838\" points=\"386.81,308.5493,377.7139,304.7729,381.8115,308.6729,377.9115,312.7705,386.81,308.5493\" style=\"stroke: #383838; stroke-width: 1.0;\"/><text fill=\"#000000\" font-family=\"sans-serif\" font-size=\"13\" lengthAdjust=\"spacingAndGlyphs\" textLength=\"87\" x=\"195\" y=\"306.0669\">«import»*::**</text></a><!--MD5=[ca5a752d6098d8a44b3f88316e7452d1]\n",
       "link E3 to E8--><a href=\"psysml:37accf74-aaef-4298-a8d1-458e277c829e\" target=\"_top\" title=\"psysml:37accf74-aaef-4298-a8d1-458e277c829e\" xlink:actuate=\"onRequest\" xlink:href=\"psysml:37accf74-aaef-4298-a8d1-458e277c829e\" xlink:show=\"new\" xlink:title=\"psysml:37accf74-aaef-4298-a8d1-458e277c829e\" xlink:type=\"simple\"><path d=\"M146.15,229.44 C181.17,229.13 235.77,229.25 283,232 C319.01,234.09 359.36,238.32 390.78,242.04 \" fill=\"none\" id=\"E3-&gt;E8\" style=\"stroke: #383838; stroke-width: 1.0;\"/><polygon fill=\"#FFFFFF\" points=\"410.94,244.5,391.2303,249.14,392.9311,235.2437,410.94,244.5\" style=\"stroke: #383838; stroke-width: 1.0;\"/><ellipse cx=\"385.8155\" cy=\"246.4623\" fill=\"#383838\" rx=\"2\" ry=\"2\" style=\"stroke: #383838; stroke-width: 1.0;\"/><ellipse cx=\"387.0304\" cy=\"236.5364\" fill=\"#383838\" rx=\"2\" ry=\"2\" style=\"stroke: #383838; stroke-width: 1.0;\"/></a><!--MD5=[15ebcb19ae302d9b601edb458606d402]\n",
       "link E5 to E2--><a href=\"psysml:a29f5286-6760-4cc8-8866-2ed3ee4f3eda\" target=\"_top\" title=\"psysml:a29f5286-6760-4cc8-8866-2ed3ee4f3eda\" xlink:actuate=\"onRequest\" xlink:href=\"psysml:a29f5286-6760-4cc8-8866-2ed3ee4f3eda\" xlink:show=\"new\" xlink:title=\"psysml:a29f5286-6760-4cc8-8866-2ed3ee4f3eda\" xlink:type=\"simple\"><path d=\"M306.9419,148.5019 C293.2305,156.7974 279.4227,165.8752 266.0022,175.7247 C239.1613,195.4237 213.87,218.21 194,244 C186.88,253.24 194.51,261.02 186,269 C182.9237,271.8837 179.4781,274.3477 175.7977,276.4511 C173.9575,277.5028 172.0586,278.4645 170.1178,279.3434 \" fill=\"none\" id=\"E5-&gt;E2\" style=\"stroke: #383838; stroke-width: 1.0; stroke-dasharray: 7.0,7.0;\"/><polygon fill=\"#383838\" points=\"170.1178,279.3434,179.9664,279.2743,174.6725,277.2807,176.6661,271.9868,170.1178,279.3434\" style=\"stroke: #383838; stroke-width: 1.0;\"/><text fill=\"#000000\" font-family=\"sans-serif\" font-size=\"13\" lengthAdjust=\"spacingAndGlyphs\" textLength=\"65\" x=\"206\" y=\"164.0669\">«import»*</text></a><!--MD5=[d7bb3fb34add81b710575eb3799fa2ad]\n",
       "link E8 to E4--><a href=\"psysml:d1a96eaf-259a-4888-9f98-ae46b38eb818\" target=\"_top\" title=\"psysml:d1a96eaf-259a-4888-9f98-ae46b38eb818\" xlink:actuate=\"onRequest\" xlink:href=\"psysml:d1a96eaf-259a-4888-9f98-ae46b38eb818\" xlink:show=\"new\" xlink:title=\"psysml:d1a96eaf-259a-4888-9f98-ae46b38eb818\" xlink:type=\"simple\"><path d=\"M410.85,253.61 C375.55,256.27 321.45,254.1 291,222 C270.67,200.56 304.71,176.04 283,156 C251.69,127.1 202.01,128.06 163.91,134.67 \" fill=\"none\" id=\"E8-&gt;E4\" style=\"stroke: #383838; stroke-width: 1.0;\"/><polygon fill=\"none\" points=\"165.12,141.57,144.12,138.77,162.28,127.86,165.12,141.57\" style=\"stroke: #383838; stroke-width: 1.0;\"/></a><!--MD5=[1e031fa77a59086fff1ee2479a93fb84]\n",
       "@startuml\r\n",
       "left to right direction\r\n",
       "skinparam monochrome true\r\n",
       "skinparam classbackgroundcolor white\r\n",
       "skinparam shadowing false\r\n",
       "skinparam wrapWidth 300\r\n",
       "hide circle\r\n",
       "\r\n",
       "package \"ImportTest\" as E1  [[psysml:4ef55e29-a78c-4120-8a0e-706d60f3b916 ]]  {\r\n",
       "package \"Pkg1\" as E2  [[psysml:fc5e85ef-31d8-4451-b981-c90381fde50e ]]  {\r\n",
       "comp usage \"p11: P211 \" as E3  <<(T,blue) part>> [[psysml:fe6123c1-7336-461e-a67a-648132fed175 ]] {\r\n",
       "}\r\n",
       "comp def \"P12\" as E4  <<(T,blue) part  def>> [[psysml:1380541e-fc30-40f5-9a60-edda9aa0065e ]] {\r\n",
       "}\r\n",
       "}\r\n",
       "package \"Pkg2\" as E5  [[psysml:c270e78f-1935-46bf-a024-66cb4836716b ]]  {\r\n",
       "package \"Pkg21\" as E6  [[psysml:ed944fef-70b9-4524-9917-716ca36e9ac1 ]]  {\r\n",
       "package \"Pkg211\" as E7  [[psysml:9f58dbb8-6a8c-4281-a4ad-0fbab28478f4 ]]  {\r\n",
       "comp def \"P211\" as E8  <<(T,blue) part  def>> [[psysml:4acbdff1-c8fe-48cb-afd1-a68daa112cad ]] {\r\n",
       "}\r\n",
       "}\r\n",
       "}\r\n",
       "}\r\n",
       "}\r\n",
       "E2 ..> E8 [[psysml:4f20d9a0-229b-41ce-a3f9-ec650db8275f ]] : <<import>>\r\n",
       "E2 ..> E6 [[psysml:682e8ea7-bcd5-404d-bf47-54c119ed8bb7 ]] : <<import>>*\r\n",
       "E2 ..> E7 [[psysml:60c32f43-2902-493b-8362-f480edbb78ed ]] : <<import>>*::**\r\n",
       "E3 - -:|> E8 [[psysml:37accf74-aaef-4298-a8d1-458e277c829e ]] \r\n",
       "E5 ..> E2 [[psysml:a29f5286-6760-4cc8-8866-2ed3ee4f3eda ]] : <<import>>*\r\n",
       "E8 - -|> E4 [[psysml:d1a96eaf-259a-4888-9f98-ae46b38eb818 ]] \r\n",
       "@enduml\r\n",
       "\n",
       "PlantUML version 1.2020.13(Sat Jun 13 12:26:38 UTC 2020)\n",
       "(EPL source distribution)\n",
       "Java Runtime: OpenJDK Runtime Environment\n",
       "JVM: OpenJDK 64-Bit Server VM\n",
       "Default Encoding: UTF-8\n",
       "Language: en\n",
       "Country: null\n",
       "--></g></svg>"
      ]
     },
     "execution_count": 16,
     "metadata": {},
     "output_type": "execute_result"
    }
   ],
   "source": [
    "%viz --style=\"LR\" --view=\"Default\" \"ImportTest\""
   ]
  },
  {
   "cell_type": "code",
   "execution_count": 17,
   "id": "11a0c43d",
   "metadata": {
    "execution": {
     "iopub.execute_input": "2022-02-18T10:46:58.706080Z",
     "iopub.status.busy": "2022-02-18T10:46:58.705646Z",
     "iopub.status.idle": "2022-02-18T10:46:58.749492Z",
     "shell.execute_reply": "2022-02-18T10:46:58.749126Z"
    }
   },
   "outputs": [
    {
     "data": {
      "image/svg+xml": [
       "<?xml version=\"1.0\" encoding=\"UTF-8\" standalone=\"no\"?><svg xmlns=\"http://www.w3.org/2000/svg\" xmlns:xlink=\"http://www.w3.org/1999/xlink\" contentScriptType=\"application/ecmascript\" contentStyleType=\"text/css\" height=\"447px\" preserveAspectRatio=\"none\" style=\"width:639px;height:447px;\" version=\"1.1\" viewBox=\"0 0 639 447\" width=\"639px\" zoomAndPan=\"magnify\"><defs/><g><!--MD5=[fbc87193dbaf4d95561dea2c320d4a47]\n",
       "cluster E1--><a href=\"psysml:4ef55e29-a78c-4120-8a0e-706d60f3b916\" target=\"_top\" title=\"psysml:4ef55e29-a78c-4120-8a0e-706d60f3b916\" xlink:actuate=\"onRequest\" xlink:href=\"psysml:4ef55e29-a78c-4120-8a0e-706d60f3b916\" xlink:show=\"new\" xlink:title=\"psysml:4ef55e29-a78c-4120-8a0e-706d60f3b916\" xlink:type=\"simple\"><polygon fill=\"#FFFFFF\" points=\"16,6,97,6,104,28.2969,617,28.2969,617,435,16,435,16,6\" style=\"stroke: #000000; stroke-width: 1.5;\"/><line style=\"stroke: #000000; stroke-width: 1.5;\" x1=\"16\" x2=\"104\" y1=\"28.2969\" y2=\"28.2969\"/><text fill=\"#000000\" font-family=\"sans-serif\" font-size=\"14\" font-weight=\"bold\" lengthAdjust=\"spacingAndGlyphs\" textLength=\"75\" x=\"20\" y=\"20.9951\">ImportTest</text></a><!--MD5=[e4f7fae6ed58524ba242bb0b0d3be6b7]\n",
       "cluster E2--><a href=\"psysml:fc5e85ef-31d8-4451-b981-c90381fde50e\" target=\"_top\" title=\"psysml:fc5e85ef-31d8-4451-b981-c90381fde50e\" xlink:actuate=\"onRequest\" xlink:href=\"psysml:fc5e85ef-31d8-4451-b981-c90381fde50e\" xlink:show=\"new\" xlink:title=\"psysml:fc5e85ef-31d8-4451-b981-c90381fde50e\" xlink:type=\"simple\"><polygon fill=\"#FFFFFF\" points=\"48,83,89,83,96,105.2969,170,105.2969,170,296,48,296,48,83\" style=\"stroke: #000000; stroke-width: 1.5;\"/><line style=\"stroke: #000000; stroke-width: 1.5;\" x1=\"48\" x2=\"96\" y1=\"105.2969\" y2=\"105.2969\"/><text fill=\"#000000\" font-family=\"sans-serif\" font-size=\"14\" font-weight=\"bold\" lengthAdjust=\"spacingAndGlyphs\" textLength=\"35\" x=\"52\" y=\"97.9951\">Pkg1</text></a><!--MD5=[de5ec2e2e8f62f467e546659f5068c88]\n",
       "cluster E5--><a href=\"psysml:c270e78f-1935-46bf-a024-66cb4836716b\" target=\"_top\" title=\"psysml:c270e78f-1935-46bf-a024-66cb4836716b\" xlink:actuate=\"onRequest\" xlink:href=\"psysml:c270e78f-1935-46bf-a024-66cb4836716b\" xlink:show=\"new\" xlink:title=\"psysml:c270e78f-1935-46bf-a024-66cb4836716b\" xlink:type=\"simple\"><polygon fill=\"#FFFFFF\" points=\"307,57,348,57,355,79.2969,585,79.2969,585,403,307,403,307,57\" style=\"stroke: #000000; stroke-width: 1.5;\"/><line style=\"stroke: #000000; stroke-width: 1.5;\" x1=\"307\" x2=\"355\" y1=\"79.2969\" y2=\"79.2969\"/><text fill=\"#000000\" font-family=\"sans-serif\" font-size=\"14\" font-weight=\"bold\" lengthAdjust=\"spacingAndGlyphs\" textLength=\"35\" x=\"311\" y=\"71.9951\">Pkg2</text></a><!--MD5=[14e3b0961a2654348d326746436168a1]\n",
       "cluster E6--><a href=\"psysml:ed944fef-70b9-4524-9917-716ca36e9ac1\" target=\"_top\" title=\"psysml:ed944fef-70b9-4524-9917-716ca36e9ac1\" xlink:actuate=\"onRequest\" xlink:href=\"psysml:ed944fef-70b9-4524-9917-716ca36e9ac1\" xlink:show=\"new\" xlink:title=\"psysml:ed944fef-70b9-4524-9917-716ca36e9ac1\" xlink:type=\"simple\"><polygon fill=\"#FFFFFF\" points=\"347,124,397,124,404,146.2969,545,146.2969,545,363,347,363,347,124\" style=\"stroke: #000000; stroke-width: 1.5;\"/><line style=\"stroke: #000000; stroke-width: 1.5;\" x1=\"347\" x2=\"404\" y1=\"146.2969\" y2=\"146.2969\"/><text fill=\"#000000\" font-family=\"sans-serif\" font-size=\"14\" font-weight=\"bold\" lengthAdjust=\"spacingAndGlyphs\" textLength=\"44\" x=\"351\" y=\"138.9951\">Pkg21</text></a><!--MD5=[168fadf3d0c3fd93dd5d6da1b1d7ab76]\n",
       "cluster E7--><a href=\"psysml:9f58dbb8-6a8c-4281-a4ad-0fbab28478f4\" target=\"_top\" title=\"psysml:9f58dbb8-6a8c-4281-a4ad-0fbab28478f4\" xlink:actuate=\"onRequest\" xlink:href=\"psysml:9f58dbb8-6a8c-4281-a4ad-0fbab28478f4\" xlink:show=\"new\" xlink:title=\"psysml:9f58dbb8-6a8c-4281-a4ad-0fbab28478f4\" xlink:type=\"simple\"><polygon fill=\"#FFFFFF\" points=\"387,183,446,183,453,205.2969,505,205.2969,505,315,387,315,387,183\" style=\"stroke: #000000; stroke-width: 1.5;\"/><line style=\"stroke: #000000; stroke-width: 1.5;\" x1=\"387\" x2=\"453\" y1=\"205.2969\" y2=\"205.2969\"/><text fill=\"#000000\" font-family=\"sans-serif\" font-size=\"14\" font-weight=\"bold\" lengthAdjust=\"spacingAndGlyphs\" textLength=\"53\" x=\"391\" y=\"197.9951\">Pkg211</text></a><!--MD5=[09b614a08d8cba4a07c9adeb5e0fee81]\n",
       "class E3--><a href=\"psysml:fe6123c1-7336-461e-a67a-648132fed175\" target=\"_top\" title=\"psysml:fe6123c1-7336-461e-a67a-648132fed175\" xlink:actuate=\"onRequest\" xlink:href=\"psysml:fe6123c1-7336-461e-a67a-648132fed175\" xlink:show=\"new\" xlink:title=\"psysml:fe6123c1-7336-461e-a67a-648132fed175\" xlink:type=\"simple\"><rect fill=\"#FFFFFF\" height=\"45.9375\" id=\"E3\" rx=\"10\" ry=\"10\" style=\"stroke: #383838; stroke-width: 1.5;\" width=\"74\" x=\"72\" y=\"207\"/><text fill=\"#000000\" font-family=\"sans-serif\" font-size=\"12\" font-style=\"italic\" lengthAdjust=\"spacingAndGlyphs\" textLength=\"40\" x=\"89\" y=\"223.1387\">«part»</text><text fill=\"#000000\" font-family=\"sans-serif\" font-size=\"12\" lengthAdjust=\"spacingAndGlyphs\" textLength=\"64\" x=\"75\" y=\"237.1074\">p11: P211</text><line style=\"stroke: #383838; stroke-width: 1.5;\" x1=\"73\" x2=\"145\" y1=\"244.9375\" y2=\"244.9375\"/></a><!--MD5=[ebbe1d658d1005bcc118a6aa81145e00]\n",
       "class E4--><a href=\"psysml:1380541e-fc30-40f5-9a60-edda9aa0065e\" target=\"_top\" title=\"psysml:1380541e-fc30-40f5-9a60-edda9aa0065e\" xlink:actuate=\"onRequest\" xlink:href=\"psysml:1380541e-fc30-40f5-9a60-edda9aa0065e\" xlink:show=\"new\" xlink:title=\"psysml:1380541e-fc30-40f5-9a60-edda9aa0065e\" xlink:type=\"simple\"><rect fill=\"#FFFFFF\" height=\"45.9375\" id=\"E4\" style=\"stroke: #383838; stroke-width: 1.5;\" width=\"70\" x=\"74\" y=\"126\"/><text fill=\"#000000\" font-family=\"sans-serif\" font-size=\"12\" font-style=\"italic\" lengthAdjust=\"spacingAndGlyphs\" textLength=\"68\" x=\"75\" y=\"142.1387\">«part  def»</text><text fill=\"#000000\" font-family=\"sans-serif\" font-size=\"12\" lengthAdjust=\"spacingAndGlyphs\" textLength=\"24\" x=\"97\" y=\"156.1074\">P12</text><line style=\"stroke: #383838; stroke-width: 1.5;\" x1=\"75\" x2=\"143\" y1=\"163.9375\" y2=\"163.9375\"/></a><!--MD5=[b9389687b975829384b498ac4b7476b2]\n",
       "class E8--><a href=\"psysml:4acbdff1-c8fe-48cb-afd1-a68daa112cad\" target=\"_top\" title=\"psysml:4acbdff1-c8fe-48cb-afd1-a68daa112cad\" xlink:actuate=\"onRequest\" xlink:href=\"psysml:4acbdff1-c8fe-48cb-afd1-a68daa112cad\" xlink:show=\"new\" xlink:title=\"psysml:4acbdff1-c8fe-48cb-afd1-a68daa112cad\" xlink:type=\"simple\"><rect fill=\"#FFFFFF\" height=\"45.9375\" id=\"E8\" style=\"stroke: #383838; stroke-width: 1.5;\" width=\"70\" x=\"411\" y=\"226\"/><text fill=\"#000000\" font-family=\"sans-serif\" font-size=\"12\" font-style=\"italic\" lengthAdjust=\"spacingAndGlyphs\" textLength=\"68\" x=\"412\" y=\"242.1387\">«part  def»</text><text fill=\"#000000\" font-family=\"sans-serif\" font-size=\"12\" lengthAdjust=\"spacingAndGlyphs\" textLength=\"32\" x=\"430\" y=\"256.1074\">P211</text><line style=\"stroke: #383838; stroke-width: 1.5;\" x1=\"412\" x2=\"480\" y1=\"263.9375\" y2=\"263.9375\"/></a><!--MD5=[b0060bfdb0500b904584095522b4da3c]\n",
       "link E2 to E8--><a href=\"psysml:4f20d9a0-229b-41ce-a3f9-ec650db8275f\" target=\"_top\" title=\"psysml:4f20d9a0-229b-41ce-a3f9-ec650db8275f\" xlink:actuate=\"onRequest\" xlink:href=\"psysml:4f20d9a0-229b-41ce-a3f9-ec650db8275f\" xlink:show=\"new\" xlink:title=\"psysml:4f20d9a0-229b-41ce-a3f9-ec650db8275f\" xlink:type=\"simple\"><path d=\"M171.0923,280.8853 C171.4965,280.8383 171.9021,280.7911 172.3092,280.7437 C175.5654,280.3646 178.9108,279.9751 182.3356,279.5764 C196.0348,277.9816 211.005,276.2388 226.6275,274.42 C289.1175,267.145 362.045,258.655 405.82,253.56 \" fill=\"none\" id=\"E2-&gt;E8\" style=\"stroke: #383838; stroke-width: 1.0; stroke-dasharray: 7.0,7.0;\"/><polygon fill=\"#383838\" points=\"410.91,252.97,401.5121,250.0239,405.9427,253.541,402.4256,257.9716,410.91,252.97\" style=\"stroke: #383838; stroke-width: 1.0;\"/><text fill=\"#000000\" font-family=\"sans-serif\" font-size=\"13\" lengthAdjust=\"spacingAndGlyphs\" textLength=\"58\" x=\"209.5\" y=\"265.0669\">«import»</text></a><!--MD5=[e3e28c1befcf002155aa15e1416b4315]\n",
       "link E2 to E6--><a href=\"psysml:682e8ea7-bcd5-404d-bf47-54c119ed8bb7\" target=\"_top\" title=\"psysml:682e8ea7-bcd5-404d-bf47-54c119ed8bb7\" xlink:actuate=\"onRequest\" xlink:href=\"psysml:682e8ea7-bcd5-404d-bf47-54c119ed8bb7\" xlink:show=\"new\" xlink:title=\"psysml:682e8ea7-bcd5-404d-bf47-54c119ed8bb7\" xlink:type=\"simple\"><path d=\"M120.3348,296.1648 C120.4168,296.2267 120.4991,296.2889 120.5819,296.3513 C121.2441,296.851 121.9332,297.3672 122.6479,297.8983 C124.0773,298.9606 125.6092,300.0826 127.2339,301.2511 C130.4832,303.588 134.1034,306.1109 138.0163,308.7138 C153.6675,319.125 174,330.815 194,337 C220.295,345.13 248.8488,350.3488 276.9572,353.5967 C291.0114,355.2207 304.9543,356.352 318.4479,357.1081 C325.1946,357.4862 331.8291,357.7705 338.3089,357.9757 C339.9289,358.027 341.5392,358.0734 343.1392,358.115 C343.9392,358.1358 344.7366,358.1555 345.5313,358.174 C345.9287,358.1832 346.3254,358.1922 346.7214,358.2009 \" fill=\"none\" id=\"E2-&gt;E6\" style=\"stroke: #383838; stroke-width: 1.0; stroke-dasharray: 7.0,7.0;\"/><polygon fill=\"#383838\" points=\"346.7214,358.2009,337.8112,354.0047,341.7226,358.0914,337.636,362.0028,346.7214,358.2009\" style=\"stroke: #383838; stroke-width: 1.0;\"/><text fill=\"#000000\" font-family=\"sans-serif\" font-size=\"13\" lengthAdjust=\"spacingAndGlyphs\" textLength=\"65\" x=\"206\" y=\"333.0669\">«import»*</text></a><!--MD5=[e3d2a08a9c9236652057e8ed0cbc9b62]\n",
       "link E2 to E7--><a href=\"psysml:60c32f43-2902-493b-8362-f480edbb78ed\" target=\"_top\" title=\"psysml:60c32f43-2902-493b-8362-f480edbb78ed\" xlink:actuate=\"onRequest\" xlink:href=\"psysml:60c32f43-2902-493b-8362-f480edbb78ed\" xlink:show=\"new\" xlink:title=\"psysml:60c32f43-2902-493b-8362-f480edbb78ed\" xlink:type=\"simple\"><path d=\"M134.0945,296.0694 C134.3286,296.1416 134.5639,296.214 134.8003,296.2866 C135.2733,296.4318 135.751,296.5778 136.2332,296.7244 C137.1977,297.0176 138.1805,297.3135 139.18,297.6113 C155.1725,302.375 175.46,307.61 194,310 C207.615,311.755 268.6325,311.055 327.0925,309.8913 C341.7075,309.6003 356.1627,309.2804 369.6773,308.9626 C373.056,308.8831 376.3759,308.8038 379.6248,308.7251 C381.2493,308.6858 382.856,308.6466 384.4434,308.6076 C385.2372,308.5881 386.0261,308.5687 386.81,308.5493 \" fill=\"none\" id=\"E2-&gt;E7\" style=\"stroke: #383838; stroke-width: 1.0; stroke-dasharray: 7.0,7.0;\"/><polygon fill=\"#383838\" points=\"386.81,308.5493,377.7139,304.7729,381.8115,308.6729,377.9115,312.7705,386.81,308.5493\" style=\"stroke: #383838; stroke-width: 1.0;\"/><text fill=\"#000000\" font-family=\"sans-serif\" font-size=\"13\" lengthAdjust=\"spacingAndGlyphs\" textLength=\"87\" x=\"195\" y=\"306.0669\">«import»*::**</text></a><!--MD5=[ca5a752d6098d8a44b3f88316e7452d1]\n",
       "link E3 to E8--><a href=\"psysml:37accf74-aaef-4298-a8d1-458e277c829e\" target=\"_top\" title=\"psysml:37accf74-aaef-4298-a8d1-458e277c829e\" xlink:actuate=\"onRequest\" xlink:href=\"psysml:37accf74-aaef-4298-a8d1-458e277c829e\" xlink:show=\"new\" xlink:title=\"psysml:37accf74-aaef-4298-a8d1-458e277c829e\" xlink:type=\"simple\"><path d=\"M146.15,229.44 C181.17,229.13 235.77,229.25 283,232 C319.01,234.09 359.36,238.32 390.78,242.04 \" fill=\"none\" id=\"E3-&gt;E8\" style=\"stroke: #383838; stroke-width: 1.0;\"/><polygon fill=\"#FFFFFF\" points=\"410.94,244.5,391.2303,249.14,392.9311,235.2437,410.94,244.5\" style=\"stroke: #383838; stroke-width: 1.0;\"/><ellipse cx=\"385.8155\" cy=\"246.4623\" fill=\"#383838\" rx=\"2\" ry=\"2\" style=\"stroke: #383838; stroke-width: 1.0;\"/><ellipse cx=\"387.0304\" cy=\"236.5364\" fill=\"#383838\" rx=\"2\" ry=\"2\" style=\"stroke: #383838; stroke-width: 1.0;\"/></a><!--MD5=[15ebcb19ae302d9b601edb458606d402]\n",
       "link E5 to E2--><a href=\"psysml:a29f5286-6760-4cc8-8866-2ed3ee4f3eda\" target=\"_top\" title=\"psysml:a29f5286-6760-4cc8-8866-2ed3ee4f3eda\" xlink:actuate=\"onRequest\" xlink:href=\"psysml:a29f5286-6760-4cc8-8866-2ed3ee4f3eda\" xlink:show=\"new\" xlink:title=\"psysml:a29f5286-6760-4cc8-8866-2ed3ee4f3eda\" xlink:type=\"simple\"><path d=\"M306.9419,148.5019 C293.2305,156.7974 279.4227,165.8752 266.0022,175.7247 C239.1613,195.4237 213.87,218.21 194,244 C186.88,253.24 194.51,261.02 186,269 C182.9237,271.8837 179.4781,274.3477 175.7977,276.4511 C173.9575,277.5028 172.0586,278.4645 170.1178,279.3434 \" fill=\"none\" id=\"E5-&gt;E2\" style=\"stroke: #383838; stroke-width: 1.0; stroke-dasharray: 7.0,7.0;\"/><polygon fill=\"#383838\" points=\"170.1178,279.3434,179.9664,279.2743,174.6725,277.2807,176.6661,271.9868,170.1178,279.3434\" style=\"stroke: #383838; stroke-width: 1.0;\"/><text fill=\"#000000\" font-family=\"sans-serif\" font-size=\"13\" lengthAdjust=\"spacingAndGlyphs\" textLength=\"65\" x=\"206\" y=\"164.0669\">«import»*</text></a><!--MD5=[d7bb3fb34add81b710575eb3799fa2ad]\n",
       "link E8 to E4--><a href=\"psysml:d1a96eaf-259a-4888-9f98-ae46b38eb818\" target=\"_top\" title=\"psysml:d1a96eaf-259a-4888-9f98-ae46b38eb818\" xlink:actuate=\"onRequest\" xlink:href=\"psysml:d1a96eaf-259a-4888-9f98-ae46b38eb818\" xlink:show=\"new\" xlink:title=\"psysml:d1a96eaf-259a-4888-9f98-ae46b38eb818\" xlink:type=\"simple\"><path d=\"M410.85,253.61 C375.55,256.27 321.45,254.1 291,222 C270.67,200.56 304.71,176.04 283,156 C251.69,127.1 202.01,128.06 163.91,134.67 \" fill=\"none\" id=\"E8-&gt;E4\" style=\"stroke: #383838; stroke-width: 1.0;\"/><polygon fill=\"none\" points=\"165.12,141.57,144.12,138.77,162.28,127.86,165.12,141.57\" style=\"stroke: #383838; stroke-width: 1.0;\"/></a><!--MD5=[1e031fa77a59086fff1ee2479a93fb84]\n",
       "@startuml\r\n",
       "left to right direction\r\n",
       "skinparam monochrome true\r\n",
       "skinparam classbackgroundcolor white\r\n",
       "skinparam shadowing false\r\n",
       "skinparam wrapWidth 300\r\n",
       "hide circle\r\n",
       "\r\n",
       "package \"ImportTest\" as E1  [[psysml:4ef55e29-a78c-4120-8a0e-706d60f3b916 ]]  {\r\n",
       "package \"Pkg1\" as E2  [[psysml:fc5e85ef-31d8-4451-b981-c90381fde50e ]]  {\r\n",
       "comp usage \"p11: P211 \" as E3  <<(T,blue) part>> [[psysml:fe6123c1-7336-461e-a67a-648132fed175 ]] {\r\n",
       "}\r\n",
       "comp def \"P12\" as E4  <<(T,blue) part  def>> [[psysml:1380541e-fc30-40f5-9a60-edda9aa0065e ]] {\r\n",
       "}\r\n",
       "}\r\n",
       "package \"Pkg2\" as E5  [[psysml:c270e78f-1935-46bf-a024-66cb4836716b ]]  {\r\n",
       "package \"Pkg21\" as E6  [[psysml:ed944fef-70b9-4524-9917-716ca36e9ac1 ]]  {\r\n",
       "package \"Pkg211\" as E7  [[psysml:9f58dbb8-6a8c-4281-a4ad-0fbab28478f4 ]]  {\r\n",
       "comp def \"P211\" as E8  <<(T,blue) part  def>> [[psysml:4acbdff1-c8fe-48cb-afd1-a68daa112cad ]] {\r\n",
       "}\r\n",
       "}\r\n",
       "}\r\n",
       "}\r\n",
       "}\r\n",
       "E2 ..> E8 [[psysml:4f20d9a0-229b-41ce-a3f9-ec650db8275f ]] : <<import>>\r\n",
       "E2 ..> E6 [[psysml:682e8ea7-bcd5-404d-bf47-54c119ed8bb7 ]] : <<import>>*\r\n",
       "E2 ..> E7 [[psysml:60c32f43-2902-493b-8362-f480edbb78ed ]] : <<import>>*::**\r\n",
       "E3 - -:|> E8 [[psysml:37accf74-aaef-4298-a8d1-458e277c829e ]] \r\n",
       "E5 ..> E2 [[psysml:a29f5286-6760-4cc8-8866-2ed3ee4f3eda ]] : <<import>>*\r\n",
       "E8 - -|> E4 [[psysml:d1a96eaf-259a-4888-9f98-ae46b38eb818 ]] \r\n",
       "@enduml\r\n",
       "\n",
       "PlantUML version 1.2020.13(Sat Jun 13 12:26:38 UTC 2020)\n",
       "(EPL source distribution)\n",
       "Java Runtime: OpenJDK Runtime Environment\n",
       "JVM: OpenJDK 64-Bit Server VM\n",
       "Default Encoding: UTF-8\n",
       "Language: en\n",
       "Country: null\n",
       "--></g></svg>"
      ]
     },
     "execution_count": 17,
     "metadata": {},
     "output_type": "execute_result"
    }
   ],
   "source": [
    "%viz --style=\"LR\" --view=\"Tree\" \"ImportTest\""
   ]
  },
  {
   "cell_type": "code",
   "execution_count": 18,
   "id": "5c2ffe2f",
   "metadata": {
    "execution": {
     "iopub.execute_input": "2022-02-18T10:46:58.799021Z",
     "iopub.status.busy": "2022-02-18T10:46:58.798567Z",
     "iopub.status.idle": "2022-02-18T10:46:58.804415Z",
     "shell.execute_reply": "2022-02-18T10:46:58.804732Z"
    }
   },
   "outputs": [
    {
     "data": {
      "image/svg+xml": [
       "<?xml version=\"1.0\" encoding=\"UTF-8\" standalone=\"no\"?><svg xmlns=\"http://www.w3.org/2000/svg\" xmlns:xlink=\"http://www.w3.org/1999/xlink\" contentScriptType=\"application/ecmascript\" contentStyleType=\"text/css\" height=\"12px\" preserveAspectRatio=\"none\" style=\"width:12px;height:12px;\" version=\"1.1\" viewBox=\"0 0 12 12\" width=\"12px\" zoomAndPan=\"magnify\"><defs/><g><!--MD5=[19d285c9d72a204eba4e2cd117d745e8]\n",
       "@startuml\r\n",
       "left to right direction\r\n",
       "skinparam monochrome true\r\n",
       "skinparam classbackgroundcolor white\r\n",
       "skinparam shadowing false\r\n",
       "skinparam wrapWidth 300\r\n",
       "hide circle\r\n",
       "\r\n",
       "@enduml\r\n",
       "\n",
       "PlantUML version 1.2020.13(Sat Jun 13 12:26:38 UTC 2020)\n",
       "(EPL source distribution)\n",
       "Java Runtime: OpenJDK Runtime Environment\n",
       "JVM: OpenJDK 64-Bit Server VM\n",
       "Default Encoding: UTF-8\n",
       "Language: en\n",
       "Country: null\n",
       "--></g></svg>"
      ]
     },
     "execution_count": 18,
     "metadata": {},
     "output_type": "execute_result"
    }
   ],
   "source": [
    "%viz --style=\"LR\" --view=\"State\" \"ImportTest\""
   ]
  },
  {
   "cell_type": "code",
   "execution_count": 19,
   "id": "fc56bb6f",
   "metadata": {
    "execution": {
     "iopub.execute_input": "2022-02-18T10:46:58.854527Z",
     "iopub.status.busy": "2022-02-18T10:46:58.854120Z",
     "iopub.status.idle": "2022-02-18T10:46:58.893420Z",
     "shell.execute_reply": "2022-02-18T10:46:58.893067Z"
    }
   },
   "outputs": [
    {
     "data": {
      "image/svg+xml": [
       "<?xml version=\"1.0\" encoding=\"UTF-8\" standalone=\"no\"?><svg xmlns=\"http://www.w3.org/2000/svg\" xmlns:xlink=\"http://www.w3.org/1999/xlink\" contentScriptType=\"application/ecmascript\" contentStyleType=\"text/css\" height=\"445px\" preserveAspectRatio=\"none\" style=\"width:645px;height:445px;\" version=\"1.1\" viewBox=\"0 0 645 445\" width=\"645px\" zoomAndPan=\"magnify\"><defs/><g><!--MD5=[fbc87193dbaf4d95561dea2c320d4a47]\n",
       "cluster E1--><a href=\"psysml:4ef55e29-a78c-4120-8a0e-706d60f3b916\" target=\"_top\" title=\"psysml:4ef55e29-a78c-4120-8a0e-706d60f3b916\" xlink:actuate=\"onRequest\" xlink:href=\"psysml:4ef55e29-a78c-4120-8a0e-706d60f3b916\" xlink:show=\"new\" xlink:title=\"psysml:4ef55e29-a78c-4120-8a0e-706d60f3b916\" xlink:type=\"simple\"><polygon fill=\"#FFFFFF\" points=\"16,6,97,6,104,28.2969,623,28.2969,623,433,16,433,16,6\" style=\"stroke: #000000; stroke-width: 1.5;\"/><line style=\"stroke: #000000; stroke-width: 1.5;\" x1=\"16\" x2=\"104\" y1=\"28.2969\" y2=\"28.2969\"/><text fill=\"#000000\" font-family=\"sans-serif\" font-size=\"14\" font-weight=\"bold\" lengthAdjust=\"spacingAndGlyphs\" textLength=\"75\" x=\"20\" y=\"20.9951\">ImportTest</text></a><!--MD5=[e4f7fae6ed58524ba242bb0b0d3be6b7]\n",
       "cluster E2--><a href=\"psysml:fc5e85ef-31d8-4451-b981-c90381fde50e\" target=\"_top\" title=\"psysml:fc5e85ef-31d8-4451-b981-c90381fde50e\" xlink:actuate=\"onRequest\" xlink:href=\"psysml:fc5e85ef-31d8-4451-b981-c90381fde50e\" xlink:show=\"new\" xlink:title=\"psysml:fc5e85ef-31d8-4451-b981-c90381fde50e\" xlink:type=\"simple\"><polygon fill=\"#FFFFFF\" points=\"48,57,89,57,96,79.2969,171,79.2969,171,262,48,262,48,57\" style=\"stroke: #000000; stroke-width: 1.5;\"/><line style=\"stroke: #000000; stroke-width: 1.5;\" x1=\"48\" x2=\"96\" y1=\"79.2969\" y2=\"79.2969\"/><text fill=\"#000000\" font-family=\"sans-serif\" font-size=\"14\" font-weight=\"bold\" lengthAdjust=\"spacingAndGlyphs\" textLength=\"35\" x=\"52\" y=\"71.9951\">Pkg1</text></a><!--MD5=[de5ec2e2e8f62f467e546659f5068c88]\n",
       "cluster E5--><a href=\"psysml:c270e78f-1935-46bf-a024-66cb4836716b\" target=\"_top\" title=\"psysml:c270e78f-1935-46bf-a024-66cb4836716b\" xlink:actuate=\"onRequest\" xlink:href=\"psysml:c270e78f-1935-46bf-a024-66cb4836716b\" xlink:show=\"new\" xlink:title=\"psysml:c270e78f-1935-46bf-a024-66cb4836716b\" xlink:type=\"simple\"><polygon fill=\"#FFFFFF\" points=\"308,57,349,57,356,79.2969,591,79.2969,591,401,308,401,308,57\" style=\"stroke: #000000; stroke-width: 1.5;\"/><line style=\"stroke: #000000; stroke-width: 1.5;\" x1=\"308\" x2=\"356\" y1=\"79.2969\" y2=\"79.2969\"/><text fill=\"#000000\" font-family=\"sans-serif\" font-size=\"14\" font-weight=\"bold\" lengthAdjust=\"spacingAndGlyphs\" textLength=\"35\" x=\"312\" y=\"71.9951\">Pkg2</text></a><!--MD5=[14e3b0961a2654348d326746436168a1]\n",
       "cluster E6--><a href=\"psysml:ed944fef-70b9-4524-9917-716ca36e9ac1\" target=\"_top\" title=\"psysml:ed944fef-70b9-4524-9917-716ca36e9ac1\" xlink:actuate=\"onRequest\" xlink:href=\"psysml:ed944fef-70b9-4524-9917-716ca36e9ac1\" xlink:show=\"new\" xlink:title=\"psysml:ed944fef-70b9-4524-9917-716ca36e9ac1\" xlink:type=\"simple\"><polygon fill=\"#FFFFFF\" points=\"348,124,398,124,405,146.2969,551,146.2969,551,361,348,361,348,124\" style=\"stroke: #000000; stroke-width: 1.5;\"/><line style=\"stroke: #000000; stroke-width: 1.5;\" x1=\"348\" x2=\"405\" y1=\"146.2969\" y2=\"146.2969\"/><text fill=\"#000000\" font-family=\"sans-serif\" font-size=\"14\" font-weight=\"bold\" lengthAdjust=\"spacingAndGlyphs\" textLength=\"44\" x=\"352\" y=\"138.9951\">Pkg21</text></a><!--MD5=[168fadf3d0c3fd93dd5d6da1b1d7ab76]\n",
       "cluster E7--><a href=\"psysml:9f58dbb8-6a8c-4281-a4ad-0fbab28478f4\" target=\"_top\" title=\"psysml:9f58dbb8-6a8c-4281-a4ad-0fbab28478f4\" xlink:actuate=\"onRequest\" xlink:href=\"psysml:9f58dbb8-6a8c-4281-a4ad-0fbab28478f4\" xlink:show=\"new\" xlink:title=\"psysml:9f58dbb8-6a8c-4281-a4ad-0fbab28478f4\" xlink:type=\"simple\"><polygon fill=\"#FFFFFF\" points=\"388,183,447,183,454,205.2969,511,205.2969,511,313,388,313,388,183\" style=\"stroke: #000000; stroke-width: 1.5;\"/><line style=\"stroke: #000000; stroke-width: 1.5;\" x1=\"388\" x2=\"454\" y1=\"205.2969\" y2=\"205.2969\"/><text fill=\"#000000\" font-family=\"sans-serif\" font-size=\"14\" font-weight=\"bold\" lengthAdjust=\"spacingAndGlyphs\" textLength=\"53\" x=\"392\" y=\"197.9951\">Pkg211</text></a><g id=\"E1.E2.E3\"><a href=\"psysml:fe6123c1-7336-461e-a67a-648132fed175\" target=\"_top\" title=\"psysml:fe6123c1-7336-461e-a67a-648132fed175\" xlink:actuate=\"onRequest\" xlink:href=\"psysml:fe6123c1-7336-461e-a67a-648132fed175\" xlink:show=\"new\" xlink:title=\"psysml:fe6123c1-7336-461e-a67a-648132fed175\" xlink:type=\"simple\"><rect fill=\"#FFFFFF\" height=\"40\" id=\"E3\" rx=\"10\" ry=\"10\" style=\"stroke: #383838; stroke-width: 1.5;\" width=\"75\" x=\"72\" y=\"100\"/><rect fill=\"#F8F8F8\" height=\"23.9688\" rx=\"10\" ry=\"10\" style=\"stroke: #F8F8F8; stroke-width: 1.5;\" width=\"75\" x=\"72\" y=\"100\"/><rect fill=\"#F8F8F8\" height=\"10\" style=\"stroke: #F8F8F8; stroke-width: 1.5;\" width=\"75\" x=\"72\" y=\"113.9688\"/><rect fill=\"none\" height=\"40\" id=\"E3\" rx=\"10\" ry=\"10\" style=\"stroke: #383838; stroke-width: 1.5;\" width=\"75\" x=\"72\" y=\"100\"/><text fill=\"#000000\" font-family=\"sans-serif\" font-size=\"12\" lengthAdjust=\"spacingAndGlyphs\" textLength=\"64\" x=\"77.5\" y=\"116.1387\">p11: P211</text></a></g><g id=\"E1.E2.E4\"><a href=\"psysml:1380541e-fc30-40f5-9a60-edda9aa0065e\" target=\"_top\" title=\"psysml:1380541e-fc30-40f5-9a60-edda9aa0065e\" xlink:actuate=\"onRequest\" xlink:href=\"psysml:1380541e-fc30-40f5-9a60-edda9aa0065e\" xlink:show=\"new\" xlink:title=\"psysml:1380541e-fc30-40f5-9a60-edda9aa0065e\" xlink:type=\"simple\"><rect fill=\"#FFFFFF\" height=\"42.9375\" id=\"E4\" style=\"stroke: #383838; stroke-width: 1.5;\" width=\"75\" x=\"72\" y=\"175.5\"/><rect fill=\"#F8F8F8\" height=\"37.9375\" style=\"stroke: #383838; stroke-width: 1.5;\" width=\"75\" x=\"72\" y=\"175.5\"/><text fill=\"#000000\" font-family=\"sans-serif\" font-size=\"12\" font-style=\"italic\" lengthAdjust=\"spacingAndGlyphs\" textLength=\"68\" x=\"75.5\" y=\"191.6387\">«part  def»</text><text fill=\"#000000\" font-family=\"sans-serif\" font-size=\"12\" lengthAdjust=\"spacingAndGlyphs\" textLength=\"24\" x=\"97.5\" y=\"205.6074\">P12</text></a></g><g id=\"E1.E5.E6.E7.E8\"><a href=\"psysml:4acbdff1-c8fe-48cb-afd1-a68daa112cad\" target=\"_top\" title=\"psysml:4acbdff1-c8fe-48cb-afd1-a68daa112cad\" xlink:actuate=\"onRequest\" xlink:href=\"psysml:4acbdff1-c8fe-48cb-afd1-a68daa112cad\" xlink:show=\"new\" xlink:title=\"psysml:4acbdff1-c8fe-48cb-afd1-a68daa112cad\" xlink:type=\"simple\"><rect fill=\"#FFFFFF\" height=\"42.9375\" id=\"E8\" style=\"stroke: #383838; stroke-width: 1.5;\" width=\"75\" x=\"412\" y=\"226.5\"/><rect fill=\"#F8F8F8\" height=\"37.9375\" style=\"stroke: #383838; stroke-width: 1.5;\" width=\"75\" x=\"412\" y=\"226.5\"/><text fill=\"#000000\" font-family=\"sans-serif\" font-size=\"12\" font-style=\"italic\" lengthAdjust=\"spacingAndGlyphs\" textLength=\"68\" x=\"415.5\" y=\"242.6387\">«part  def»</text><text fill=\"#000000\" font-family=\"sans-serif\" font-size=\"12\" lengthAdjust=\"spacingAndGlyphs\" textLength=\"32\" x=\"433.5\" y=\"256.6074\">P211</text></a></g><!--MD5=[b0060bfdb0500b904584095522b4da3c]\n",
       "link E2 to E8--><a href=\"psysml:4f20d9a0-229b-41ce-a3f9-ec650db8275f\" target=\"_top\" title=\"psysml:4f20d9a0-229b-41ce-a3f9-ec650db8275f\" xlink:actuate=\"onRequest\" xlink:href=\"psysml:4f20d9a0-229b-41ce-a3f9-ec650db8275f\" xlink:show=\"new\" xlink:title=\"psysml:4f20d9a0-229b-41ce-a3f9-ec650db8275f\" xlink:type=\"simple\"><path d=\"M171.4982,252.9604 C172.0261,252.9514 172.5561,252.9423 173.0883,252.9331 C174.1526,252.9148 175.2254,252.8964 176.3063,252.8778 C178.468,252.8407 180.662,252.803 182.8848,252.7647 C187.3306,252.6882 191.892,252.6096 196.542,252.5293 C205.842,252.3688 215.4966,252.2016 225.2905,252.0313 C244.8781,251.6906 265.0225,251.3375 284,251 C325.75,250.26 373.45,249.39 406.7,248.77 \" fill=\"none\" id=\"E2-&gt;E8\" style=\"stroke: #383838; stroke-width: 1.0; stroke-dasharray: 7.0,7.0;\"/><polygon fill=\"#383838\" points=\"411.91,248.68,402.8318,244.8608,406.911,248.78,402.9918,252.8592,411.91,248.68\" style=\"stroke: #383838; stroke-width: 1.0;\"/><text fill=\"#000000\" font-family=\"sans-serif\" font-size=\"13\" lengthAdjust=\"spacingAndGlyphs\" textLength=\"58\" x=\"210.5\" y=\"247.0669\">«import»</text></a><!--MD5=[e3e28c1befcf002155aa15e1416b4315]\n",
       "link E2 to E6--><a href=\"psysml:682e8ea7-bcd5-404d-bf47-54c119ed8bb7\" target=\"_top\" title=\"psysml:682e8ea7-bcd5-404d-bf47-54c119ed8bb7\" xlink:actuate=\"onRequest\" xlink:href=\"psysml:682e8ea7-bcd5-404d-bf47-54c119ed8bb7\" xlink:show=\"new\" xlink:title=\"psysml:682e8ea7-bcd5-404d-bf47-54c119ed8bb7\" xlink:type=\"simple\"><path d=\"M118.5339,262.0666 C118.6793,262.207 118.8264,262.3489 118.9753,262.4922 C123.74,267.0781 130.2963,273.1263 138.08,279.6275 C153.6475,292.63 174.125,307.445 195,316 C220.9275,326.6275 249.4463,334.265 277.7106,339.7405 C291.8428,342.4782 305.9114,344.6754 319.5607,346.4356 C326.3854,347.3158 333.1052,348.0866 339.6757,348.7611 C341.3183,348.9298 342.9517,349.0924 344.5749,349.2492 C345.3866,349.3276 346.1957,349.4045 347.0022,349.48 \" fill=\"none\" id=\"E2-&gt;E6\" style=\"stroke: #383838; stroke-width: 1.0; stroke-dasharray: 7.0,7.0;\"/><polygon fill=\"#383838\" points=\"347.0022,349.48,338.4143,344.6585,342.024,349.0139,337.6685,352.6236,347.0022,349.48\" style=\"stroke: #383838; stroke-width: 1.0;\"/><text fill=\"#000000\" font-family=\"sans-serif\" font-size=\"13\" lengthAdjust=\"spacingAndGlyphs\" textLength=\"65\" x=\"207\" y=\"312.0669\">«import»*</text></a><!--MD5=[e3d2a08a9c9236652057e8ed0cbc9b62]\n",
       "link E2 to E7--><a href=\"psysml:60c32f43-2902-493b-8362-f480edbb78ed\" target=\"_top\" title=\"psysml:60c32f43-2902-493b-8362-f480edbb78ed\" xlink:actuate=\"onRequest\" xlink:href=\"psysml:60c32f43-2902-493b-8362-f480edbb78ed\" xlink:show=\"new\" xlink:title=\"psysml:60c32f43-2902-493b-8362-f480edbb78ed\" xlink:type=\"simple\"><path d=\"M134.7995,262.0951 C135.0353,262.1695 135.2724,262.2441 135.5106,262.319 C135.9871,262.4688 136.4684,262.6196 136.9542,262.7714 C137.9258,263.0749 138.9158,263.3822 139.9225,263.6925 C156.03,268.6575 176.435,274.4 195,278 C249.75,288.61 312.015,295.3175 361.135,299.3938 C367.275,299.9033 373.2096,300.3717 378.8985,300.8015 C381.7429,301.0164 384.5259,301.2216 387.2424,301.4175 \" fill=\"none\" id=\"E2-&gt;E7\" style=\"stroke: #383838; stroke-width: 1.0; stroke-dasharray: 7.0,7.0;\"/><polygon fill=\"#383838\" points=\"387.2424,301.4175,378.5534,296.7806,382.2554,301.0579,377.978,304.7598,387.2424,301.4175\" style=\"stroke: #383838; stroke-width: 1.0;\"/><text fill=\"#000000\" font-family=\"sans-serif\" font-size=\"13\" lengthAdjust=\"spacingAndGlyphs\" textLength=\"87\" x=\"196\" y=\"274.0669\">«import»*::**</text></a><!--MD5=[15ebcb19ae302d9b601edb458606d402]\n",
       "link E5 to E2--><a href=\"psysml:a29f5286-6760-4cc8-8866-2ed3ee4f3eda\" target=\"_top\" title=\"psysml:a29f5286-6760-4cc8-8866-2ed3ee4f3eda\" xlink:actuate=\"onRequest\" xlink:href=\"psysml:a29f5286-6760-4cc8-8866-2ed3ee4f3eda\" xlink:show=\"new\" xlink:title=\"psysml:a29f5286-6760-4cc8-8866-2ed3ee4f3eda\" xlink:type=\"simple\"><path d=\"M306.7682,164.4305 C305.027,165.4341 303.2798,166.4419 301.5273,167.4535 C294.5173,171.4996 287.4219,175.6059 280.2814,179.7511 C251.7194,196.3319 222.435,213.535 195,230 C191.4,232.16 190.86,233.36 187,235 C183.0938,236.6563 179.0117,238.19 174.8538,239.6066 C173.8143,239.9608 172.7701,240.3076 171.7226,240.6472 C171.5917,240.6897 171.4607,240.732 171.3297,240.7742 \" fill=\"none\" id=\"E5-&gt;E2\" style=\"stroke: #383838; stroke-width: 1.0; stroke-dasharray: 7.0,7.0;\"/><polygon fill=\"#383838\" points=\"171.3297,240.7742,181.1228,241.8209,176.0887,239.2406,178.669,234.2065,171.3297,240.7742\" style=\"stroke: #383838; stroke-width: 1.0;\"/><text fill=\"#000000\" font-family=\"sans-serif\" font-size=\"13\" lengthAdjust=\"spacingAndGlyphs\" textLength=\"65\" x=\"207\" y=\"177.0669\">«import»*</text></a><!--MD5=[d7bb3fb34add81b710575eb3799fa2ad]\n",
       "link E8 to E4--><a href=\"psysml:d1a96eaf-259a-4888-9f98-ae46b38eb818\" target=\"_top\" title=\"psysml:d1a96eaf-259a-4888-9f98-ae46b38eb818\" xlink:actuate=\"onRequest\" xlink:href=\"psysml:d1a96eaf-259a-4888-9f98-ae46b38eb818\" xlink:show=\"new\" xlink:title=\"psysml:d1a96eaf-259a-4888-9f98-ae46b38eb818\" xlink:type=\"simple\"><path d=\"M411.78,252.96 C376.14,255.54 323.02,253.11 292,222 C276.42,206.38 300.81,187.29 284,173 C251.74,145.58 203.25,155.09 165.73,169.46 \" fill=\"none\" id=\"E8-&gt;E4\" style=\"stroke: #383838; stroke-width: 1.0;\"/><polygon fill=\"none\" points=\"168.4,175.93,147.25,177.25,162.96,163.03,168.4,175.93\" style=\"stroke: #383838; stroke-width: 1.0;\"/></a><!--MD5=[a3c6fcb4d27f0fb3bc61710b78ec9ced]\n",
       "@startuml\r\n",
       "skinparam ranksep 10\r\n",
       "skinparam rectangle {\r\n",
       " backgroundColor<<block>> LightGreen\r\n",
       "}\r\n",
       "left to right direction\r\n",
       "skinparam monochrome true\r\n",
       "skinparam classbackgroundcolor white\r\n",
       "skinparam shadowing false\r\n",
       "skinparam wrapWidth 300\r\n",
       "hide circle\r\n",
       "\r\n",
       "package \"ImportTest\" as E1  [[psysml:4ef55e29-a78c-4120-8a0e-706d60f3b916 ]]  {\r\n",
       "package \"Pkg1\" as E2  [[psysml:fc5e85ef-31d8-4451-b981-c90381fde50e ]]  {\r\n",
       "rec usage \"p11: P211\" as E3  [[psysml:fe6123c1-7336-461e-a67a-648132fed175 ]] {\r\n",
       "}\r\n",
       "rec def \"P12\" as E4  <<(T,blue) part  def>> [[psysml:1380541e-fc30-40f5-9a60-edda9aa0065e ]] {\r\n",
       "}\r\n",
       "}\r\n",
       "package \"Pkg2\" as E5  [[psysml:c270e78f-1935-46bf-a024-66cb4836716b ]]  {\r\n",
       "package \"Pkg21\" as E6  [[psysml:ed944fef-70b9-4524-9917-716ca36e9ac1 ]]  {\r\n",
       "package \"Pkg211\" as E7  [[psysml:9f58dbb8-6a8c-4281-a4ad-0fbab28478f4 ]]  {\r\n",
       "rec def \"P211\" as E8  <<(T,blue) part  def>> [[psysml:4acbdff1-c8fe-48cb-afd1-a68daa112cad ]] {\r\n",
       "}\r\n",
       "}\r\n",
       "}\r\n",
       "}\r\n",
       "}\r\n",
       "E2 ..> E8 [[psysml:4f20d9a0-229b-41ce-a3f9-ec650db8275f ]] : <<import>>\r\n",
       "E2 ..> E6 [[psysml:682e8ea7-bcd5-404d-bf47-54c119ed8bb7 ]] : <<import>>*\r\n",
       "E2 ..> E7 [[psysml:60c32f43-2902-493b-8362-f480edbb78ed ]] : <<import>>*::**\r\n",
       "E5 ..> E2 [[psysml:a29f5286-6760-4cc8-8866-2ed3ee4f3eda ]] : <<import>>*\r\n",
       "E8 - -|> E4 [[psysml:d1a96eaf-259a-4888-9f98-ae46b38eb818 ]] \r\n",
       "@enduml\r\n",
       "\n",
       "PlantUML version 1.2020.13(Sat Jun 13 12:26:38 UTC 2020)\n",
       "(EPL source distribution)\n",
       "Java Runtime: OpenJDK Runtime Environment\n",
       "JVM: OpenJDK 64-Bit Server VM\n",
       "Default Encoding: UTF-8\n",
       "Language: en\n",
       "Country: null\n",
       "--></g></svg>"
      ]
     },
     "execution_count": 19,
     "metadata": {},
     "output_type": "execute_result"
    }
   ],
   "source": [
    "%viz --style=\"LR\" --view=\"Interconnection\" \"ImportTest\""
   ]
  },
  {
   "cell_type": "code",
   "execution_count": 20,
   "id": "c4e2ebba",
   "metadata": {
    "execution": {
     "iopub.execute_input": "2022-02-18T10:46:58.943154Z",
     "iopub.status.busy": "2022-02-18T10:46:58.942748Z",
     "iopub.status.idle": "2022-02-18T10:46:58.948151Z",
     "shell.execute_reply": "2022-02-18T10:46:58.948479Z"
    }
   },
   "outputs": [
    {
     "data": {
      "image/svg+xml": [
       "<?xml version=\"1.0\" encoding=\"UTF-8\" standalone=\"no\"?><svg xmlns=\"http://www.w3.org/2000/svg\" xmlns:xlink=\"http://www.w3.org/1999/xlink\" contentScriptType=\"application/ecmascript\" contentStyleType=\"text/css\" height=\"12px\" preserveAspectRatio=\"none\" style=\"width:12px;height:12px;\" version=\"1.1\" viewBox=\"0 0 12 12\" width=\"12px\" zoomAndPan=\"magnify\"><defs/><g><!--MD5=[7aeb398939421629f6affaa4a1a7b125]\n",
       "@startuml\r\n",
       "skinparam ranksep 8\r\n",
       "left to right direction\r\n",
       "skinparam monochrome true\r\n",
       "skinparam classbackgroundcolor white\r\n",
       "skinparam shadowing false\r\n",
       "skinparam wrapWidth 300\r\n",
       "hide circle\r\n",
       "\r\n",
       "@enduml\r\n",
       "\n",
       "PlantUML version 1.2020.13(Sat Jun 13 12:26:38 UTC 2020)\n",
       "(EPL source distribution)\n",
       "Java Runtime: OpenJDK Runtime Environment\n",
       "JVM: OpenJDK 64-Bit Server VM\n",
       "Default Encoding: UTF-8\n",
       "Language: en\n",
       "Country: null\n",
       "--></g></svg>"
      ]
     },
     "execution_count": 20,
     "metadata": {},
     "output_type": "execute_result"
    }
   ],
   "source": [
    "%viz --style=\"LR\" --view=\"Action\" \"ImportTest\""
   ]
  },
  {
   "cell_type": "code",
   "execution_count": 21,
   "id": "4e2389b1",
   "metadata": {
    "execution": {
     "iopub.execute_input": "2022-02-18T10:46:58.998529Z",
     "iopub.status.busy": "2022-02-18T10:46:58.998080Z",
     "iopub.status.idle": "2022-02-18T10:46:59.003354Z",
     "shell.execute_reply": "2022-02-18T10:46:59.003726Z"
    }
   },
   "outputs": [
    {
     "data": {
      "image/svg+xml": [
       "<?xml version=\"1.0\" encoding=\"UTF-8\" standalone=\"no\"?><svg xmlns=\"http://www.w3.org/2000/svg\" xmlns:xlink=\"http://www.w3.org/1999/xlink\" contentScriptType=\"application/ecmascript\" contentStyleType=\"text/css\" height=\"12px\" preserveAspectRatio=\"none\" style=\"width:12px;height:12px;\" version=\"1.1\" viewBox=\"0 0 12 12\" width=\"12px\" zoomAndPan=\"magnify\"><defs/><g><!--MD5=[238c11ea2002f03115ad6b49a457d50e]\n",
       "@startuml\r\n",
       "skinparam roundcorner 20\r\n",
       "skinparam BoxPadding 20\r\n",
       "skinparam SequenceBoxBackgroundColor #white\r\n",
       "skinparam style strictuml\r\n",
       "skinparam maxMessageSize 100\r\n",
       "left to right direction\r\n",
       "skinparam monochrome true\r\n",
       "skinparam classbackgroundcolor white\r\n",
       "skinparam shadowing false\r\n",
       "skinparam wrapWidth 300\r\n",
       "hide circle\r\n",
       "\r\n",
       "@enduml\r\n",
       "\n",
       "PlantUML version 1.2020.13(Sat Jun 13 12:26:38 UTC 2020)\n",
       "(EPL source distribution)\n",
       "Java Runtime: OpenJDK Runtime Environment\n",
       "JVM: OpenJDK 64-Bit Server VM\n",
       "Default Encoding: UTF-8\n",
       "Language: en\n",
       "Country: null\n",
       "--></g></svg>"
      ]
     },
     "execution_count": 21,
     "metadata": {},
     "output_type": "execute_result"
    }
   ],
   "source": [
    "%viz --style=\"LR\" --view=\"Sequence\" \"ImportTest\""
   ]
  },
  {
   "cell_type": "code",
   "execution_count": 22,
   "id": "b989e6f7",
   "metadata": {
    "execution": {
     "iopub.execute_input": "2022-02-18T10:46:59.053571Z",
     "iopub.status.busy": "2022-02-18T10:46:59.053172Z",
     "iopub.status.idle": "2022-02-18T10:46:59.091085Z",
     "shell.execute_reply": "2022-02-18T10:46:59.090745Z"
    }
   },
   "outputs": [
    {
     "data": {
      "image/svg+xml": [
       "<?xml version=\"1.0\" encoding=\"UTF-8\" standalone=\"no\"?><svg xmlns=\"http://www.w3.org/2000/svg\" xmlns:xlink=\"http://www.w3.org/1999/xlink\" contentScriptType=\"application/ecmascript\" contentStyleType=\"text/css\" height=\"447px\" preserveAspectRatio=\"none\" style=\"width:639px;height:447px;\" version=\"1.1\" viewBox=\"0 0 639 447\" width=\"639px\" zoomAndPan=\"magnify\"><defs/><g><!--MD5=[fbc87193dbaf4d95561dea2c320d4a47]\n",
       "cluster E1--><a href=\"psysml:4ef55e29-a78c-4120-8a0e-706d60f3b916\" target=\"_top\" title=\"psysml:4ef55e29-a78c-4120-8a0e-706d60f3b916\" xlink:actuate=\"onRequest\" xlink:href=\"psysml:4ef55e29-a78c-4120-8a0e-706d60f3b916\" xlink:show=\"new\" xlink:title=\"psysml:4ef55e29-a78c-4120-8a0e-706d60f3b916\" xlink:type=\"simple\"><polygon fill=\"#FFFFFF\" points=\"16,6,97,6,104,28.2969,617,28.2969,617,435,16,435,16,6\" style=\"stroke: #000000; stroke-width: 1.5;\"/><line style=\"stroke: #000000; stroke-width: 1.5;\" x1=\"16\" x2=\"104\" y1=\"28.2969\" y2=\"28.2969\"/><text fill=\"#000000\" font-family=\"sans-serif\" font-size=\"14\" font-weight=\"bold\" lengthAdjust=\"spacingAndGlyphs\" textLength=\"75\" x=\"20\" y=\"20.9951\">ImportTest</text></a><!--MD5=[e4f7fae6ed58524ba242bb0b0d3be6b7]\n",
       "cluster E2--><a href=\"psysml:fc5e85ef-31d8-4451-b981-c90381fde50e\" target=\"_top\" title=\"psysml:fc5e85ef-31d8-4451-b981-c90381fde50e\" xlink:actuate=\"onRequest\" xlink:href=\"psysml:fc5e85ef-31d8-4451-b981-c90381fde50e\" xlink:show=\"new\" xlink:title=\"psysml:fc5e85ef-31d8-4451-b981-c90381fde50e\" xlink:type=\"simple\"><polygon fill=\"#FFFFFF\" points=\"48,83,89,83,96,105.2969,170,105.2969,170,296,48,296,48,83\" style=\"stroke: #000000; stroke-width: 1.5;\"/><line style=\"stroke: #000000; stroke-width: 1.5;\" x1=\"48\" x2=\"96\" y1=\"105.2969\" y2=\"105.2969\"/><text fill=\"#000000\" font-family=\"sans-serif\" font-size=\"14\" font-weight=\"bold\" lengthAdjust=\"spacingAndGlyphs\" textLength=\"35\" x=\"52\" y=\"97.9951\">Pkg1</text></a><!--MD5=[de5ec2e2e8f62f467e546659f5068c88]\n",
       "cluster E5--><a href=\"psysml:c270e78f-1935-46bf-a024-66cb4836716b\" target=\"_top\" title=\"psysml:c270e78f-1935-46bf-a024-66cb4836716b\" xlink:actuate=\"onRequest\" xlink:href=\"psysml:c270e78f-1935-46bf-a024-66cb4836716b\" xlink:show=\"new\" xlink:title=\"psysml:c270e78f-1935-46bf-a024-66cb4836716b\" xlink:type=\"simple\"><polygon fill=\"#FFFFFF\" points=\"307,57,348,57,355,79.2969,585,79.2969,585,403,307,403,307,57\" style=\"stroke: #000000; stroke-width: 1.5;\"/><line style=\"stroke: #000000; stroke-width: 1.5;\" x1=\"307\" x2=\"355\" y1=\"79.2969\" y2=\"79.2969\"/><text fill=\"#000000\" font-family=\"sans-serif\" font-size=\"14\" font-weight=\"bold\" lengthAdjust=\"spacingAndGlyphs\" textLength=\"35\" x=\"311\" y=\"71.9951\">Pkg2</text></a><!--MD5=[14e3b0961a2654348d326746436168a1]\n",
       "cluster E6--><a href=\"psysml:ed944fef-70b9-4524-9917-716ca36e9ac1\" target=\"_top\" title=\"psysml:ed944fef-70b9-4524-9917-716ca36e9ac1\" xlink:actuate=\"onRequest\" xlink:href=\"psysml:ed944fef-70b9-4524-9917-716ca36e9ac1\" xlink:show=\"new\" xlink:title=\"psysml:ed944fef-70b9-4524-9917-716ca36e9ac1\" xlink:type=\"simple\"><polygon fill=\"#FFFFFF\" points=\"347,124,397,124,404,146.2969,545,146.2969,545,363,347,363,347,124\" style=\"stroke: #000000; stroke-width: 1.5;\"/><line style=\"stroke: #000000; stroke-width: 1.5;\" x1=\"347\" x2=\"404\" y1=\"146.2969\" y2=\"146.2969\"/><text fill=\"#000000\" font-family=\"sans-serif\" font-size=\"14\" font-weight=\"bold\" lengthAdjust=\"spacingAndGlyphs\" textLength=\"44\" x=\"351\" y=\"138.9951\">Pkg21</text></a><!--MD5=[168fadf3d0c3fd93dd5d6da1b1d7ab76]\n",
       "cluster E7--><a href=\"psysml:9f58dbb8-6a8c-4281-a4ad-0fbab28478f4\" target=\"_top\" title=\"psysml:9f58dbb8-6a8c-4281-a4ad-0fbab28478f4\" xlink:actuate=\"onRequest\" xlink:href=\"psysml:9f58dbb8-6a8c-4281-a4ad-0fbab28478f4\" xlink:show=\"new\" xlink:title=\"psysml:9f58dbb8-6a8c-4281-a4ad-0fbab28478f4\" xlink:type=\"simple\"><polygon fill=\"#FFFFFF\" points=\"387,183,446,183,453,205.2969,505,205.2969,505,315,387,315,387,183\" style=\"stroke: #000000; stroke-width: 1.5;\"/><line style=\"stroke: #000000; stroke-width: 1.5;\" x1=\"387\" x2=\"453\" y1=\"205.2969\" y2=\"205.2969\"/><text fill=\"#000000\" font-family=\"sans-serif\" font-size=\"14\" font-weight=\"bold\" lengthAdjust=\"spacingAndGlyphs\" textLength=\"53\" x=\"391\" y=\"197.9951\">Pkg211</text></a><!--MD5=[09b614a08d8cba4a07c9adeb5e0fee81]\n",
       "class E3--><a href=\"psysml:fe6123c1-7336-461e-a67a-648132fed175\" target=\"_top\" title=\"psysml:fe6123c1-7336-461e-a67a-648132fed175\" xlink:actuate=\"onRequest\" xlink:href=\"psysml:fe6123c1-7336-461e-a67a-648132fed175\" xlink:show=\"new\" xlink:title=\"psysml:fe6123c1-7336-461e-a67a-648132fed175\" xlink:type=\"simple\"><rect fill=\"#FFFFFF\" height=\"45.9375\" id=\"E3\" rx=\"10\" ry=\"10\" style=\"stroke: #383838; stroke-width: 1.5;\" width=\"74\" x=\"72\" y=\"207\"/><text fill=\"#000000\" font-family=\"sans-serif\" font-size=\"12\" font-style=\"italic\" lengthAdjust=\"spacingAndGlyphs\" textLength=\"40\" x=\"89\" y=\"223.1387\">«part»</text><text fill=\"#000000\" font-family=\"sans-serif\" font-size=\"12\" lengthAdjust=\"spacingAndGlyphs\" textLength=\"64\" x=\"75\" y=\"237.1074\">p11: P211</text><line style=\"stroke: #383838; stroke-width: 1.5;\" x1=\"73\" x2=\"145\" y1=\"244.9375\" y2=\"244.9375\"/></a><!--MD5=[ebbe1d658d1005bcc118a6aa81145e00]\n",
       "class E4--><a href=\"psysml:1380541e-fc30-40f5-9a60-edda9aa0065e\" target=\"_top\" title=\"psysml:1380541e-fc30-40f5-9a60-edda9aa0065e\" xlink:actuate=\"onRequest\" xlink:href=\"psysml:1380541e-fc30-40f5-9a60-edda9aa0065e\" xlink:show=\"new\" xlink:title=\"psysml:1380541e-fc30-40f5-9a60-edda9aa0065e\" xlink:type=\"simple\"><rect fill=\"#FFFFFF\" height=\"45.9375\" id=\"E4\" style=\"stroke: #383838; stroke-width: 1.5;\" width=\"70\" x=\"74\" y=\"126\"/><text fill=\"#000000\" font-family=\"sans-serif\" font-size=\"12\" font-style=\"italic\" lengthAdjust=\"spacingAndGlyphs\" textLength=\"68\" x=\"75\" y=\"142.1387\">«part  def»</text><text fill=\"#000000\" font-family=\"sans-serif\" font-size=\"12\" lengthAdjust=\"spacingAndGlyphs\" textLength=\"24\" x=\"97\" y=\"156.1074\">P12</text><line style=\"stroke: #383838; stroke-width: 1.5;\" x1=\"75\" x2=\"143\" y1=\"163.9375\" y2=\"163.9375\"/></a><!--MD5=[b9389687b975829384b498ac4b7476b2]\n",
       "class E8--><a href=\"psysml:4acbdff1-c8fe-48cb-afd1-a68daa112cad\" target=\"_top\" title=\"psysml:4acbdff1-c8fe-48cb-afd1-a68daa112cad\" xlink:actuate=\"onRequest\" xlink:href=\"psysml:4acbdff1-c8fe-48cb-afd1-a68daa112cad\" xlink:show=\"new\" xlink:title=\"psysml:4acbdff1-c8fe-48cb-afd1-a68daa112cad\" xlink:type=\"simple\"><rect fill=\"#FFFFFF\" height=\"45.9375\" id=\"E8\" style=\"stroke: #383838; stroke-width: 1.5;\" width=\"70\" x=\"411\" y=\"226\"/><text fill=\"#000000\" font-family=\"sans-serif\" font-size=\"12\" font-style=\"italic\" lengthAdjust=\"spacingAndGlyphs\" textLength=\"68\" x=\"412\" y=\"242.1387\">«part  def»</text><text fill=\"#000000\" font-family=\"sans-serif\" font-size=\"12\" lengthAdjust=\"spacingAndGlyphs\" textLength=\"32\" x=\"430\" y=\"256.1074\">P211</text><line style=\"stroke: #383838; stroke-width: 1.5;\" x1=\"412\" x2=\"480\" y1=\"263.9375\" y2=\"263.9375\"/></a><!--MD5=[b0060bfdb0500b904584095522b4da3c]\n",
       "link E2 to E8--><a href=\"psysml:4f20d9a0-229b-41ce-a3f9-ec650db8275f\" target=\"_top\" title=\"psysml:4f20d9a0-229b-41ce-a3f9-ec650db8275f\" xlink:actuate=\"onRequest\" xlink:href=\"psysml:4f20d9a0-229b-41ce-a3f9-ec650db8275f\" xlink:show=\"new\" xlink:title=\"psysml:4f20d9a0-229b-41ce-a3f9-ec650db8275f\" xlink:type=\"simple\"><path d=\"M171.0923,280.8853 C171.4965,280.8383 171.9021,280.7911 172.3092,280.7437 C175.5654,280.3646 178.9108,279.9751 182.3356,279.5764 C196.0348,277.9816 211.005,276.2388 226.6275,274.42 C289.1175,267.145 362.045,258.655 405.82,253.56 \" fill=\"none\" id=\"E2-&gt;E8\" style=\"stroke: #383838; stroke-width: 1.0; stroke-dasharray: 7.0,7.0;\"/><polygon fill=\"#383838\" points=\"410.91,252.97,401.5121,250.0239,405.9427,253.541,402.4256,257.9716,410.91,252.97\" style=\"stroke: #383838; stroke-width: 1.0;\"/><text fill=\"#000000\" font-family=\"sans-serif\" font-size=\"13\" lengthAdjust=\"spacingAndGlyphs\" textLength=\"58\" x=\"209.5\" y=\"265.0669\">«import»</text></a><!--MD5=[e3e28c1befcf002155aa15e1416b4315]\n",
       "link E2 to E6--><a href=\"psysml:682e8ea7-bcd5-404d-bf47-54c119ed8bb7\" target=\"_top\" title=\"psysml:682e8ea7-bcd5-404d-bf47-54c119ed8bb7\" xlink:actuate=\"onRequest\" xlink:href=\"psysml:682e8ea7-bcd5-404d-bf47-54c119ed8bb7\" xlink:show=\"new\" xlink:title=\"psysml:682e8ea7-bcd5-404d-bf47-54c119ed8bb7\" xlink:type=\"simple\"><path d=\"M120.3348,296.1648 C120.4168,296.2267 120.4991,296.2889 120.5819,296.3513 C121.2441,296.851 121.9332,297.3672 122.6479,297.8983 C124.0773,298.9606 125.6092,300.0826 127.2339,301.2511 C130.4832,303.588 134.1034,306.1109 138.0163,308.7138 C153.6675,319.125 174,330.815 194,337 C220.295,345.13 248.8488,350.3488 276.9572,353.5967 C291.0114,355.2207 304.9543,356.352 318.4479,357.1081 C325.1946,357.4862 331.8291,357.7705 338.3089,357.9757 C339.9289,358.027 341.5392,358.0734 343.1392,358.115 C343.9392,358.1358 344.7366,358.1555 345.5313,358.174 C345.9287,358.1832 346.3254,358.1922 346.7214,358.2009 \" fill=\"none\" id=\"E2-&gt;E6\" style=\"stroke: #383838; stroke-width: 1.0; stroke-dasharray: 7.0,7.0;\"/><polygon fill=\"#383838\" points=\"346.7214,358.2009,337.8112,354.0047,341.7226,358.0914,337.636,362.0028,346.7214,358.2009\" style=\"stroke: #383838; stroke-width: 1.0;\"/><text fill=\"#000000\" font-family=\"sans-serif\" font-size=\"13\" lengthAdjust=\"spacingAndGlyphs\" textLength=\"65\" x=\"206\" y=\"333.0669\">«import»*</text></a><!--MD5=[e3d2a08a9c9236652057e8ed0cbc9b62]\n",
       "link E2 to E7--><a href=\"psysml:60c32f43-2902-493b-8362-f480edbb78ed\" target=\"_top\" title=\"psysml:60c32f43-2902-493b-8362-f480edbb78ed\" xlink:actuate=\"onRequest\" xlink:href=\"psysml:60c32f43-2902-493b-8362-f480edbb78ed\" xlink:show=\"new\" xlink:title=\"psysml:60c32f43-2902-493b-8362-f480edbb78ed\" xlink:type=\"simple\"><path d=\"M134.0945,296.0694 C134.3286,296.1416 134.5639,296.214 134.8003,296.2866 C135.2733,296.4318 135.751,296.5778 136.2332,296.7244 C137.1977,297.0176 138.1805,297.3135 139.18,297.6113 C155.1725,302.375 175.46,307.61 194,310 C207.615,311.755 268.6325,311.055 327.0925,309.8913 C341.7075,309.6003 356.1627,309.2804 369.6773,308.9626 C373.056,308.8831 376.3759,308.8038 379.6248,308.7251 C381.2493,308.6858 382.856,308.6466 384.4434,308.6076 C385.2372,308.5881 386.0261,308.5687 386.81,308.5493 \" fill=\"none\" id=\"E2-&gt;E7\" style=\"stroke: #383838; stroke-width: 1.0; stroke-dasharray: 7.0,7.0;\"/><polygon fill=\"#383838\" points=\"386.81,308.5493,377.7139,304.7729,381.8115,308.6729,377.9115,312.7705,386.81,308.5493\" style=\"stroke: #383838; stroke-width: 1.0;\"/><text fill=\"#000000\" font-family=\"sans-serif\" font-size=\"13\" lengthAdjust=\"spacingAndGlyphs\" textLength=\"87\" x=\"195\" y=\"306.0669\">«import»*::**</text></a><!--MD5=[ca5a752d6098d8a44b3f88316e7452d1]\n",
       "link E3 to E8--><a href=\"psysml:37accf74-aaef-4298-a8d1-458e277c829e\" target=\"_top\" title=\"psysml:37accf74-aaef-4298-a8d1-458e277c829e\" xlink:actuate=\"onRequest\" xlink:href=\"psysml:37accf74-aaef-4298-a8d1-458e277c829e\" xlink:show=\"new\" xlink:title=\"psysml:37accf74-aaef-4298-a8d1-458e277c829e\" xlink:type=\"simple\"><path d=\"M146.15,229.44 C181.17,229.13 235.77,229.25 283,232 C319.01,234.09 359.36,238.32 390.78,242.04 \" fill=\"none\" id=\"E3-&gt;E8\" style=\"stroke: #383838; stroke-width: 1.0;\"/><polygon fill=\"#FFFFFF\" points=\"410.94,244.5,391.2303,249.14,392.9311,235.2437,410.94,244.5\" style=\"stroke: #383838; stroke-width: 1.0;\"/><ellipse cx=\"385.8155\" cy=\"246.4623\" fill=\"#383838\" rx=\"2\" ry=\"2\" style=\"stroke: #383838; stroke-width: 1.0;\"/><ellipse cx=\"387.0304\" cy=\"236.5364\" fill=\"#383838\" rx=\"2\" ry=\"2\" style=\"stroke: #383838; stroke-width: 1.0;\"/></a><!--MD5=[15ebcb19ae302d9b601edb458606d402]\n",
       "link E5 to E2--><a href=\"psysml:a29f5286-6760-4cc8-8866-2ed3ee4f3eda\" target=\"_top\" title=\"psysml:a29f5286-6760-4cc8-8866-2ed3ee4f3eda\" xlink:actuate=\"onRequest\" xlink:href=\"psysml:a29f5286-6760-4cc8-8866-2ed3ee4f3eda\" xlink:show=\"new\" xlink:title=\"psysml:a29f5286-6760-4cc8-8866-2ed3ee4f3eda\" xlink:type=\"simple\"><path d=\"M306.9419,148.5019 C293.2305,156.7974 279.4227,165.8752 266.0022,175.7247 C239.1613,195.4237 213.87,218.21 194,244 C186.88,253.24 194.51,261.02 186,269 C182.9237,271.8837 179.4781,274.3477 175.7977,276.4511 C173.9575,277.5028 172.0586,278.4645 170.1178,279.3434 \" fill=\"none\" id=\"E5-&gt;E2\" style=\"stroke: #383838; stroke-width: 1.0; stroke-dasharray: 7.0,7.0;\"/><polygon fill=\"#383838\" points=\"170.1178,279.3434,179.9664,279.2743,174.6725,277.2807,176.6661,271.9868,170.1178,279.3434\" style=\"stroke: #383838; stroke-width: 1.0;\"/><text fill=\"#000000\" font-family=\"sans-serif\" font-size=\"13\" lengthAdjust=\"spacingAndGlyphs\" textLength=\"65\" x=\"206\" y=\"164.0669\">«import»*</text></a><!--MD5=[d7bb3fb34add81b710575eb3799fa2ad]\n",
       "link E8 to E4--><a href=\"psysml:d1a96eaf-259a-4888-9f98-ae46b38eb818\" target=\"_top\" title=\"psysml:d1a96eaf-259a-4888-9f98-ae46b38eb818\" xlink:actuate=\"onRequest\" xlink:href=\"psysml:d1a96eaf-259a-4888-9f98-ae46b38eb818\" xlink:show=\"new\" xlink:title=\"psysml:d1a96eaf-259a-4888-9f98-ae46b38eb818\" xlink:type=\"simple\"><path d=\"M410.85,253.61 C375.55,256.27 321.45,254.1 291,222 C270.67,200.56 304.71,176.04 283,156 C251.69,127.1 202.01,128.06 163.91,134.67 \" fill=\"none\" id=\"E8-&gt;E4\" style=\"stroke: #383838; stroke-width: 1.0;\"/><polygon fill=\"none\" points=\"165.12,141.57,144.12,138.77,162.28,127.86,165.12,141.57\" style=\"stroke: #383838; stroke-width: 1.0;\"/></a><!--MD5=[1e031fa77a59086fff1ee2479a93fb84]\n",
       "@startuml\r\n",
       "left to right direction\r\n",
       "skinparam monochrome true\r\n",
       "skinparam classbackgroundcolor white\r\n",
       "skinparam shadowing false\r\n",
       "skinparam wrapWidth 300\r\n",
       "hide circle\r\n",
       "\r\n",
       "package \"ImportTest\" as E1  [[psysml:4ef55e29-a78c-4120-8a0e-706d60f3b916 ]]  {\r\n",
       "package \"Pkg1\" as E2  [[psysml:fc5e85ef-31d8-4451-b981-c90381fde50e ]]  {\r\n",
       "comp usage \"p11: P211 \" as E3  <<(T,blue) part>> [[psysml:fe6123c1-7336-461e-a67a-648132fed175 ]] {\r\n",
       "}\r\n",
       "comp def \"P12\" as E4  <<(T,blue) part  def>> [[psysml:1380541e-fc30-40f5-9a60-edda9aa0065e ]] {\r\n",
       "}\r\n",
       "}\r\n",
       "package \"Pkg2\" as E5  [[psysml:c270e78f-1935-46bf-a024-66cb4836716b ]]  {\r\n",
       "package \"Pkg21\" as E6  [[psysml:ed944fef-70b9-4524-9917-716ca36e9ac1 ]]  {\r\n",
       "package \"Pkg211\" as E7  [[psysml:9f58dbb8-6a8c-4281-a4ad-0fbab28478f4 ]]  {\r\n",
       "comp def \"P211\" as E8  <<(T,blue) part  def>> [[psysml:4acbdff1-c8fe-48cb-afd1-a68daa112cad ]] {\r\n",
       "}\r\n",
       "}\r\n",
       "}\r\n",
       "}\r\n",
       "}\r\n",
       "E2 ..> E8 [[psysml:4f20d9a0-229b-41ce-a3f9-ec650db8275f ]] : <<import>>\r\n",
       "E2 ..> E6 [[psysml:682e8ea7-bcd5-404d-bf47-54c119ed8bb7 ]] : <<import>>*\r\n",
       "E2 ..> E7 [[psysml:60c32f43-2902-493b-8362-f480edbb78ed ]] : <<import>>*::**\r\n",
       "E3 - -:|> E8 [[psysml:37accf74-aaef-4298-a8d1-458e277c829e ]] \r\n",
       "E5 ..> E2 [[psysml:a29f5286-6760-4cc8-8866-2ed3ee4f3eda ]] : <<import>>*\r\n",
       "E8 - -|> E4 [[psysml:d1a96eaf-259a-4888-9f98-ae46b38eb818 ]] \r\n",
       "@enduml\r\n",
       "\n",
       "PlantUML version 1.2020.13(Sat Jun 13 12:26:38 UTC 2020)\n",
       "(EPL source distribution)\n",
       "Java Runtime: OpenJDK Runtime Environment\n",
       "JVM: OpenJDK 64-Bit Server VM\n",
       "Default Encoding: UTF-8\n",
       "Language: en\n",
       "Country: null\n",
       "--></g></svg>"
      ]
     },
     "execution_count": 22,
     "metadata": {},
     "output_type": "execute_result"
    }
   ],
   "source": [
    "%viz --style=\"LR\" --view=\"MIXED\" \"ImportTest\""
   ]
  },
  {
   "cell_type": "code",
   "execution_count": 23,
   "id": "2fadb71c",
   "metadata": {
    "execution": {
     "iopub.execute_input": "2022-02-18T10:46:59.140979Z",
     "iopub.status.busy": "2022-02-18T10:46:59.140582Z",
     "iopub.status.idle": "2022-02-18T10:46:59.180846Z",
     "shell.execute_reply": "2022-02-18T10:46:59.180500Z"
    }
   },
   "outputs": [
    {
     "data": {
      "image/svg+xml": [
       "<?xml version=\"1.0\" encoding=\"UTF-8\" standalone=\"no\"?><svg xmlns=\"http://www.w3.org/2000/svg\" xmlns:xlink=\"http://www.w3.org/1999/xlink\" contentScriptType=\"application/ecmascript\" contentStyleType=\"text/css\" height=\"590px\" preserveAspectRatio=\"none\" style=\"width:522px;height:590px;\" version=\"1.1\" viewBox=\"0 0 522 590\" width=\"522px\" zoomAndPan=\"magnify\"><defs><filter height=\"300%\" id=\"f1v7pax98no9yc\" width=\"300%\" x=\"-1\" y=\"-1\"><feGaussianBlur result=\"blurOut\" stdDeviation=\"2.0\"/><feColorMatrix in=\"blurOut\" result=\"blurOut2\" type=\"matrix\" values=\"0 0 0 0 0 0 0 0 0 0 0 0 0 0 0 0 0 0 .4 0\"/><feOffset dx=\"4.0\" dy=\"4.0\" in=\"blurOut2\" result=\"blurOut3\"/><feBlend in=\"SourceGraphic\" in2=\"blurOut3\" mode=\"normal\"/></filter></defs><g><!--MD5=[fbc87193dbaf4d95561dea2c320d4a47]\n",
       "cluster E1--><a href=\"psysml:4ef55e29-a78c-4120-8a0e-706d60f3b916\" target=\"_top\" title=\"psysml:4ef55e29-a78c-4120-8a0e-706d60f3b916\" xlink:actuate=\"onRequest\" xlink:href=\"psysml:4ef55e29-a78c-4120-8a0e-706d60f3b916\" xlink:show=\"new\" xlink:title=\"psysml:4ef55e29-a78c-4120-8a0e-706d60f3b916\" xlink:type=\"simple\"><polygon fill=\"#FFFFFF\" filter=\"url(#f1v7pax98no9yc)\" points=\"16,6,97,6,104,28.2969,500,28.2969,500,578,16,578,16,6\" style=\"stroke: #000000; stroke-width: 1.5;\"/><line style=\"stroke: #000000; stroke-width: 1.5;\" x1=\"16\" x2=\"104\" y1=\"28.2969\" y2=\"28.2969\"/><text fill=\"#000000\" font-family=\"sans-serif\" font-size=\"14\" font-weight=\"bold\" lengthAdjust=\"spacingAndGlyphs\" textLength=\"75\" x=\"20\" y=\"20.9951\">ImportTest</text></a><!--MD5=[e4f7fae6ed58524ba242bb0b0d3be6b7]\n",
       "cluster E2--><a href=\"psysml:fc5e85ef-31d8-4451-b981-c90381fde50e\" target=\"_top\" title=\"psysml:fc5e85ef-31d8-4451-b981-c90381fde50e\" xlink:actuate=\"onRequest\" xlink:href=\"psysml:fc5e85ef-31d8-4451-b981-c90381fde50e\" xlink:show=\"new\" xlink:title=\"psysml:fc5e85ef-31d8-4451-b981-c90381fde50e\" xlink:type=\"simple\"><polygon fill=\"#FFFFFF\" filter=\"url(#f1v7pax98no9yc)\" points=\"222,57,263,57,270,79.2969,468,79.2969,468,170,222,170,222,57\" style=\"stroke: #000000; stroke-width: 1.5;\"/><line style=\"stroke: #000000; stroke-width: 1.5;\" x1=\"222\" x2=\"270\" y1=\"79.2969\" y2=\"79.2969\"/><text fill=\"#000000\" font-family=\"sans-serif\" font-size=\"14\" font-weight=\"bold\" lengthAdjust=\"spacingAndGlyphs\" textLength=\"35\" x=\"226\" y=\"71.9951\">Pkg1</text></a><!--MD5=[de5ec2e2e8f62f467e546659f5068c88]\n",
       "cluster E5--><a href=\"psysml:c270e78f-1935-46bf-a024-66cb4836716b\" target=\"_top\" title=\"psysml:c270e78f-1935-46bf-a024-66cb4836716b\" xlink:actuate=\"onRequest\" xlink:href=\"psysml:c270e78f-1935-46bf-a024-66cb4836716b\" xlink:show=\"new\" xlink:title=\"psysml:c270e78f-1935-46bf-a024-66cb4836716b\" xlink:type=\"simple\"><polygon fill=\"#FFFFFF\" filter=\"url(#f1v7pax98no9yc)\" points=\"121,235,162,235,169,257.2969,434,257.2969,434,546,121,546,121,235\" style=\"stroke: #000000; stroke-width: 1.5;\"/><line style=\"stroke: #000000; stroke-width: 1.5;\" x1=\"121\" x2=\"169\" y1=\"257.2969\" y2=\"257.2969\"/><text fill=\"#000000\" font-family=\"sans-serif\" font-size=\"14\" font-weight=\"bold\" lengthAdjust=\"spacingAndGlyphs\" textLength=\"35\" x=\"125\" y=\"249.9951\">Pkg2</text></a><!--MD5=[14e3b0961a2654348d326746436168a1]\n",
       "cluster E6--><a href=\"psysml:ed944fef-70b9-4524-9917-716ca36e9ac1\" target=\"_top\" title=\"psysml:ed944fef-70b9-4524-9917-716ca36e9ac1\" xlink:actuate=\"onRequest\" xlink:href=\"psysml:ed944fef-70b9-4524-9917-716ca36e9ac1\" xlink:show=\"new\" xlink:title=\"psysml:ed944fef-70b9-4524-9917-716ca36e9ac1\" xlink:type=\"simple\"><polygon fill=\"#FFFFFF\" filter=\"url(#f1v7pax98no9yc)\" points=\"161,294,211,294,218,316.2969,386,316.2969,386,506,161,506,161,294\" style=\"stroke: #000000; stroke-width: 1.5;\"/><line style=\"stroke: #000000; stroke-width: 1.5;\" x1=\"161\" x2=\"218\" y1=\"316.2969\" y2=\"316.2969\"/><text fill=\"#000000\" font-family=\"sans-serif\" font-size=\"14\" font-weight=\"bold\" lengthAdjust=\"spacingAndGlyphs\" textLength=\"44\" x=\"165\" y=\"308.9951\">Pkg21</text></a><!--MD5=[168fadf3d0c3fd93dd5d6da1b1d7ab76]\n",
       "cluster E7--><a href=\"psysml:9f58dbb8-6a8c-4281-a4ad-0fbab28478f4\" target=\"_top\" title=\"psysml:9f58dbb8-6a8c-4281-a4ad-0fbab28478f4\" xlink:actuate=\"onRequest\" xlink:href=\"psysml:9f58dbb8-6a8c-4281-a4ad-0fbab28478f4\" xlink:show=\"new\" xlink:title=\"psysml:9f58dbb8-6a8c-4281-a4ad-0fbab28478f4\" xlink:type=\"simple\"><polygon fill=\"#FFFFFF\" filter=\"url(#f1v7pax98no9yc)\" points=\"209,353,268,353,275,375.2969,346,375.2969,346,466,209,466,209,353\" style=\"stroke: #000000; stroke-width: 1.5;\"/><line style=\"stroke: #000000; stroke-width: 1.5;\" x1=\"209\" x2=\"275\" y1=\"375.2969\" y2=\"375.2969\"/><text fill=\"#000000\" font-family=\"sans-serif\" font-size=\"14\" font-weight=\"bold\" lengthAdjust=\"spacingAndGlyphs\" textLength=\"53\" x=\"213\" y=\"367.9951\">Pkg211</text></a><!--MD5=[09b614a08d8cba4a07c9adeb5e0fee81]\n",
       "class E3--><a href=\"psysml:fe6123c1-7336-461e-a67a-648132fed175\" target=\"_top\" title=\"psysml:fe6123c1-7336-461e-a67a-648132fed175\" xlink:actuate=\"onRequest\" xlink:href=\"psysml:fe6123c1-7336-461e-a67a-648132fed175\" xlink:show=\"new\" xlink:title=\"psysml:fe6123c1-7336-461e-a67a-648132fed175\" xlink:type=\"simple\"><rect fill=\"#FEFECE\" filter=\"url(#f1v7pax98no9yc)\" height=\"45.9375\" id=\"E3\" rx=\"10\" ry=\"10\" style=\"stroke: #A80036; stroke-width: 1.5;\" width=\"74\" x=\"265\" y=\"100\"/><text fill=\"#000000\" font-family=\"sans-serif\" font-size=\"12\" font-style=\"italic\" lengthAdjust=\"spacingAndGlyphs\" textLength=\"40\" x=\"282\" y=\"116.1387\">«part»</text><text fill=\"#000000\" font-family=\"sans-serif\" font-size=\"12\" lengthAdjust=\"spacingAndGlyphs\" textLength=\"64\" x=\"268\" y=\"130.1074\">p11: P211</text><line style=\"stroke: #A80036; stroke-width: 1.5;\" x1=\"266\" x2=\"338\" y1=\"137.9375\" y2=\"137.9375\"/></a><!--MD5=[ebbe1d658d1005bcc118a6aa81145e00]\n",
       "class E4--><a href=\"psysml:1380541e-fc30-40f5-9a60-edda9aa0065e\" target=\"_top\" title=\"psysml:1380541e-fc30-40f5-9a60-edda9aa0065e\" xlink:actuate=\"onRequest\" xlink:href=\"psysml:1380541e-fc30-40f5-9a60-edda9aa0065e\" xlink:show=\"new\" xlink:title=\"psysml:1380541e-fc30-40f5-9a60-edda9aa0065e\" xlink:type=\"simple\"><rect fill=\"#FEFECE\" filter=\"url(#f1v7pax98no9yc)\" height=\"45.9375\" id=\"E4\" style=\"stroke: #A80036; stroke-width: 1.5;\" width=\"70\" x=\"374\" y=\"100\"/><text fill=\"#000000\" font-family=\"sans-serif\" font-size=\"12\" font-style=\"italic\" lengthAdjust=\"spacingAndGlyphs\" textLength=\"68\" x=\"375\" y=\"116.1387\">«part  def»</text><text fill=\"#000000\" font-family=\"sans-serif\" font-size=\"12\" lengthAdjust=\"spacingAndGlyphs\" textLength=\"24\" x=\"397\" y=\"130.1074\">P12</text><line style=\"stroke: #A80036; stroke-width: 1.5;\" x1=\"375\" x2=\"443\" y1=\"137.9375\" y2=\"137.9375\"/></a><!--MD5=[b9389687b975829384b498ac4b7476b2]\n",
       "class E8--><a href=\"psysml:4acbdff1-c8fe-48cb-afd1-a68daa112cad\" target=\"_top\" title=\"psysml:4acbdff1-c8fe-48cb-afd1-a68daa112cad\" xlink:actuate=\"onRequest\" xlink:href=\"psysml:4acbdff1-c8fe-48cb-afd1-a68daa112cad\" xlink:show=\"new\" xlink:title=\"psysml:4acbdff1-c8fe-48cb-afd1-a68daa112cad\" xlink:type=\"simple\"><rect fill=\"#FEFECE\" filter=\"url(#f1v7pax98no9yc)\" height=\"45.9375\" id=\"E8\" style=\"stroke: #A80036; stroke-width: 1.5;\" width=\"70\" x=\"252\" y=\"396\"/><text fill=\"#000000\" font-family=\"sans-serif\" font-size=\"12\" font-style=\"italic\" lengthAdjust=\"spacingAndGlyphs\" textLength=\"68\" x=\"253\" y=\"412.1387\">«part  def»</text><text fill=\"#000000\" font-family=\"sans-serif\" font-size=\"12\" lengthAdjust=\"spacingAndGlyphs\" textLength=\"32\" x=\"271\" y=\"426.1074\">P211</text><line style=\"stroke: #A80036; stroke-width: 1.5;\" x1=\"253\" x2=\"321\" y1=\"433.9375\" y2=\"433.9375\"/></a><!--MD5=[b0060bfdb0500b904584095522b4da3c]\n",
       "link E2 to E8--><a href=\"psysml:4f20d9a0-229b-41ce-a3f9-ec650db8275f\" target=\"_top\" title=\"psysml:4f20d9a0-229b-41ce-a3f9-ec650db8275f\" xlink:actuate=\"onRequest\" xlink:href=\"psysml:4f20d9a0-229b-41ce-a3f9-ec650db8275f\" xlink:show=\"new\" xlink:title=\"psysml:4f20d9a0-229b-41ce-a3f9-ec650db8275f\" xlink:type=\"simple\"><path d=\"M239.5673,170.044 C239.9187,170.8643 240.2829,171.6796 240.6605,172.4884 C241.4156,174.106 242.2242,175.6975 243.0899,177.2503 C244.8213,180.3558 246.7813,183.3063 249,186 C253.8,191.83 259.79,187.73 264,194 C304.62,254.46 298.3,345.57 291.84,390.69 \" fill=\"none\" id=\"E2-&gt;E8\" style=\"stroke: #A80036; stroke-width: 1.0; stroke-dasharray: 7.0,7.0;\"/><polygon fill=\"#A80036\" points=\"291.1,395.69,296.3662,387.3673,291.8271,390.7431,288.4512,386.204,291.1,395.69\" style=\"stroke: #A80036; stroke-width: 1.0;\"/><text fill=\"#000000\" font-family=\"sans-serif\" font-size=\"13\" lengthAdjust=\"spacingAndGlyphs\" textLength=\"58\" x=\"274\" y=\"207.0669\">«import»</text></a><!--MD5=[e3e28c1befcf002155aa15e1416b4315]\n",
       "link E2 to E6--><a href=\"psysml:682e8ea7-bcd5-404d-bf47-54c119ed8bb7\" target=\"_top\" title=\"psysml:682e8ea7-bcd5-404d-bf47-54c119ed8bb7\" xlink:actuate=\"onRequest\" xlink:href=\"psysml:682e8ea7-bcd5-404d-bf47-54c119ed8bb7\" xlink:show=\"new\" xlink:title=\"psysml:682e8ea7-bcd5-404d-bf47-54c119ed8bb7\" xlink:type=\"simple\"><path d=\"M221.7454,125.2359 C221.6297,125.2555 221.5129,125.2754 221.395,125.2955 C221.1593,125.3358 220.9193,125.3771 220.6752,125.4195 C220.1869,125.5042 219.6819,125.5933 219.1609,125.6868 C217.0769,126.0607 214.7359,126.5053 212.1769,127.0288 C201.9406,129.1225 188.215,132.4775 173.4875,137.615 C144.0325,147.89 110.57,165.295 93,194 C65.99,238.135 83.98,293.0875 109.2162,337.5175 C121.8344,359.7325 136.2641,379.3169 147.7861,393.6031 C150.6666,397.1747 153.3654,400.4151 155.8087,403.2827 C157.0304,404.7165 158.1881,406.0571 159.2728,407.2993 C159.8152,407.9204 160.3393,408.5169 160.8439,409.0882 \" fill=\"none\" id=\"E2-&gt;E6\" style=\"stroke: #A80036; stroke-width: 1.0; stroke-dasharray: 7.0,7.0;\"/><polygon fill=\"#A80036\" points=\"160.8439,409.0882,157.8829,399.695,157.5335,405.341,151.8875,404.9916,160.8439,409.0882\" style=\"stroke: #A80036; stroke-width: 1.0;\"/><text fill=\"#000000\" font-family=\"sans-serif\" font-size=\"13\" lengthAdjust=\"spacingAndGlyphs\" textLength=\"65\" x=\"94\" y=\"207.0669\">«import»*</text></a><!--MD5=[e3d2a08a9c9236652057e8ed0cbc9b62]\n",
       "link E2 to E7--><a href=\"psysml:60c32f43-2902-493b-8362-f480edbb78ed\" target=\"_top\" title=\"psysml:60c32f43-2902-493b-8362-f480edbb78ed\" xlink:actuate=\"onRequest\" xlink:href=\"psysml:60c32f43-2902-493b-8362-f480edbb78ed\" xlink:show=\"new\" xlink:title=\"psysml:60c32f43-2902-493b-8362-f480edbb78ed\" xlink:type=\"simple\"><path d=\"M221.8807,130.2617 C221.7401,130.3761 221.5982,130.4918 221.4548,130.6091 C216.8678,134.36 210.8594,139.5688 204.5113,145.875 C191.815,158.4875 177.76,175.49 171,194 C168.41,201.1 166.18,205.18 171,211 C183.11,225.64 200.74,204.48 213,219 C227.045,235.63 228.2325,284.0975 225.8175,329.0338 C225.5156,334.6508 225.1575,340.2126 224.7611,345.6502 C224.662,347.0096 224.5605,348.3613 224.4569,349.7041 C224.4051,350.3755 224.3528,351.0446 224.3,351.7115 C224.2736,352.0449 224.2471,352.3777 224.2204,352.71 \" fill=\"none\" id=\"E2-&gt;E7\" style=\"stroke: #A80036; stroke-width: 1.0; stroke-dasharray: 7.0,7.0;\"/><polygon fill=\"#A80036\" points=\"224.2204,352.71,228.9272,344.0586,224.6202,347.726,220.9528,343.419,224.2204,352.71\" style=\"stroke: #A80036; stroke-width: 1.0;\"/><text fill=\"#000000\" font-family=\"sans-serif\" font-size=\"13\" lengthAdjust=\"spacingAndGlyphs\" textLength=\"87\" x=\"172\" y=\"207.0669\">«import»*::**</text></a><!--MD5=[ca5a752d6098d8a44b3f88316e7452d1]\n",
       "link E3 to E8--><a href=\"psysml:37accf74-aaef-4298-a8d1-458e277c829e\" target=\"_top\" title=\"psysml:37accf74-aaef-4298-a8d1-458e277c829e\" xlink:actuate=\"onRequest\" xlink:href=\"psysml:37accf74-aaef-4298-a8d1-458e277c829e\" xlink:show=\"new\" xlink:title=\"psysml:37accf74-aaef-4298-a8d1-458e277c829e\" xlink:type=\"simple\"><path d=\"M321.59,146.07 C339.73,166.51 363.93,193.81 364,194 C366.68,201.06 368.76,205.13 364,211 C353.13,224.4 338.12,206.71 326,219 C285.31,260.27 280.82,330.75 282.81,375.81 \" fill=\"none\" id=\"E3-&gt;E8\" style=\"stroke: #A80036; stroke-width: 1.0;\"/><polygon fill=\"#FFFFFF\" points=\"284.19,395.93,275.9039,377.4546,289.8709,376.4948,284.19,395.93\" style=\"stroke: #A80036; stroke-width: 1.0;\"/><ellipse cx=\"277.5084\" cy=\"371.6309\" fill=\"#A80036\" rx=\"2\" ry=\"2\" style=\"stroke: #A80036; stroke-width: 1.0;\"/><ellipse cx=\"287.4849\" cy=\"370.9453\" fill=\"#A80036\" rx=\"2\" ry=\"2\" style=\"stroke: #A80036; stroke-width: 1.0;\"/></a><!--MD5=[15ebcb19ae302d9b601edb458606d402]\n",
       "link E5 to E2--><a href=\"psysml:a29f5286-6760-4cc8-8866-2ed3ee4f3eda\" target=\"_top\" title=\"psysml:a29f5286-6760-4cc8-8866-2ed3ee4f3eda\" xlink:actuate=\"onRequest\" xlink:href=\"psysml:a29f5286-6760-4cc8-8866-2ed3ee4f3eda\" xlink:show=\"new\" xlink:title=\"psysml:a29f5286-6760-4cc8-8866-2ed3ee4f3eda\" xlink:type=\"simple\"><path d=\"M377.9071,234.5987 C377.6837,234.254 377.4593,233.91 377.2338,233.5668 C376.3317,232.1941 375.413,230.8338 374.4773,229.4868 C372.6059,226.7928 370.6665,224.152 368.6567,221.572 C360.6175,211.2517 351.4513,201.9025 341,194 C324.63,181.62 264.96,198.91 249,186 C246.2863,183.805 243.9511,181.2325 241.9426,178.4061 C240.9384,176.9929 240.0159,175.5163 239.1685,173.9916 C238.7448,173.2292 238.3399,172.4549 237.953,171.6705 C237.7596,171.2782 237.5706,170.8835 237.3861,170.4865 C237.3399,170.3873 237.2941,170.2879 237.2485,170.1883 \" fill=\"none\" id=\"E5-&gt;E2\" style=\"stroke: #A80036; stroke-width: 1.0; stroke-dasharray: 7.0,7.0;\"/><polygon fill=\"#A80036\" points=\"237.2485,170.1883,237.3599,180.0366,239.3307,174.7341,244.6331,176.705,237.2485,170.1883\" style=\"stroke: #A80036; stroke-width: 1.0;\"/><text fill=\"#000000\" font-family=\"sans-serif\" font-size=\"13\" lengthAdjust=\"spacingAndGlyphs\" textLength=\"65\" x=\"356\" y=\"207.0669\">«import»*</text></a><!--MD5=[d7bb3fb34add81b710575eb3799fa2ad]\n",
       "link E8 to E4--><a href=\"psysml:d1a96eaf-259a-4888-9f98-ae46b38eb818\" target=\"_top\" title=\"psysml:d1a96eaf-259a-4888-9f98-ae46b38eb818\" xlink:actuate=\"onRequest\" xlink:href=\"psysml:d1a96eaf-259a-4888-9f98-ae46b38eb818\" xlink:show=\"new\" xlink:title=\"psysml:d1a96eaf-259a-4888-9f98-ae46b38eb818\" xlink:type=\"simple\"><path d=\"M283.6,395.87 C278.58,354.03 274.69,263.54 326,219 C338.77,207.91 466.36,223.27 478,211 C493.94,194.2 479.72,174.01 460.15,157.31 \" fill=\"none\" id=\"E8-&gt;E4\" style=\"stroke: #A80036; stroke-width: 1.0;\"/><polygon fill=\"none\" points=\"455.78,162.78,444.15,145.06,464.29,151.66,455.78,162.78\" style=\"stroke: #A80036; stroke-width: 1.0;\"/></a><!--MD5=[978a6489b81401e09713bf1e40fd83a7]\n",
       "@startuml\r\n",
       "skinparam wrapWidth 300\r\n",
       "hide circle\r\n",
       "\r\n",
       "package \"ImportTest\" as E1  [[psysml:4ef55e29-a78c-4120-8a0e-706d60f3b916 ]]  {\r\n",
       "package \"Pkg1\" as E2  [[psysml:fc5e85ef-31d8-4451-b981-c90381fde50e ]]  {\r\n",
       "comp usage \"p11: P211 \" as E3  <<(T,blue) part>> [[psysml:fe6123c1-7336-461e-a67a-648132fed175 ]] {\r\n",
       "}\r\n",
       "comp def \"P12\" as E4  <<(T,blue) part  def>> [[psysml:1380541e-fc30-40f5-9a60-edda9aa0065e ]] {\r\n",
       "}\r\n",
       "}\r\n",
       "package \"Pkg2\" as E5  [[psysml:c270e78f-1935-46bf-a024-66cb4836716b ]]  {\r\n",
       "package \"Pkg21\" as E6  [[psysml:ed944fef-70b9-4524-9917-716ca36e9ac1 ]]  {\r\n",
       "package \"Pkg211\" as E7  [[psysml:9f58dbb8-6a8c-4281-a4ad-0fbab28478f4 ]]  {\r\n",
       "comp def \"P211\" as E8  <<(T,blue) part  def>> [[psysml:4acbdff1-c8fe-48cb-afd1-a68daa112cad ]] {\r\n",
       "}\r\n",
       "}\r\n",
       "}\r\n",
       "}\r\n",
       "}\r\n",
       "E2 ..> E8 [[psysml:4f20d9a0-229b-41ce-a3f9-ec650db8275f ]] : <<import>>\r\n",
       "E2 ..> E6 [[psysml:682e8ea7-bcd5-404d-bf47-54c119ed8bb7 ]] : <<import>>*\r\n",
       "E2 ..> E7 [[psysml:60c32f43-2902-493b-8362-f480edbb78ed ]] : <<import>>*::**\r\n",
       "E3 - -:|> E8 [[psysml:37accf74-aaef-4298-a8d1-458e277c829e ]] \r\n",
       "E5 ..> E2 [[psysml:a29f5286-6760-4cc8-8866-2ed3ee4f3eda ]] : <<import>>*\r\n",
       "E8 - -|> E4 [[psysml:d1a96eaf-259a-4888-9f98-ae46b38eb818 ]] \r\n",
       "@enduml\r\n",
       "\n",
       "PlantUML version 1.2020.13(Sat Jun 13 12:26:38 UTC 2020)\n",
       "(EPL source distribution)\n",
       "Java Runtime: OpenJDK Runtime Environment\n",
       "JVM: OpenJDK 64-Bit Server VM\n",
       "Default Encoding: UTF-8\n",
       "Language: en\n",
       "Country: null\n",
       "--></g></svg>"
      ]
     },
     "execution_count": 23,
     "metadata": {},
     "output_type": "execute_result"
    }
   ],
   "source": [
    "%viz --style=\"STDCOLOR\" --view=\"Default\" \"ImportTest\""
   ]
  },
  {
   "cell_type": "code",
   "execution_count": 24,
   "id": "72bffa64",
   "metadata": {
    "execution": {
     "iopub.execute_input": "2022-02-18T10:46:59.230773Z",
     "iopub.status.busy": "2022-02-18T10:46:59.230378Z",
     "iopub.status.idle": "2022-02-18T10:46:59.271079Z",
     "shell.execute_reply": "2022-02-18T10:46:59.270731Z"
    }
   },
   "outputs": [
    {
     "data": {
      "image/svg+xml": [
       "<?xml version=\"1.0\" encoding=\"UTF-8\" standalone=\"no\"?><svg xmlns=\"http://www.w3.org/2000/svg\" xmlns:xlink=\"http://www.w3.org/1999/xlink\" contentScriptType=\"application/ecmascript\" contentStyleType=\"text/css\" height=\"590px\" preserveAspectRatio=\"none\" style=\"width:522px;height:590px;\" version=\"1.1\" viewBox=\"0 0 522 590\" width=\"522px\" zoomAndPan=\"magnify\"><defs><filter height=\"300%\" id=\"f1v7pax98no9yc\" width=\"300%\" x=\"-1\" y=\"-1\"><feGaussianBlur result=\"blurOut\" stdDeviation=\"2.0\"/><feColorMatrix in=\"blurOut\" result=\"blurOut2\" type=\"matrix\" values=\"0 0 0 0 0 0 0 0 0 0 0 0 0 0 0 0 0 0 .4 0\"/><feOffset dx=\"4.0\" dy=\"4.0\" in=\"blurOut2\" result=\"blurOut3\"/><feBlend in=\"SourceGraphic\" in2=\"blurOut3\" mode=\"normal\"/></filter></defs><g><!--MD5=[fbc87193dbaf4d95561dea2c320d4a47]\n",
       "cluster E1--><a href=\"psysml:4ef55e29-a78c-4120-8a0e-706d60f3b916\" target=\"_top\" title=\"psysml:4ef55e29-a78c-4120-8a0e-706d60f3b916\" xlink:actuate=\"onRequest\" xlink:href=\"psysml:4ef55e29-a78c-4120-8a0e-706d60f3b916\" xlink:show=\"new\" xlink:title=\"psysml:4ef55e29-a78c-4120-8a0e-706d60f3b916\" xlink:type=\"simple\"><polygon fill=\"#FFFFFF\" filter=\"url(#f1v7pax98no9yc)\" points=\"16,6,97,6,104,28.2969,500,28.2969,500,578,16,578,16,6\" style=\"stroke: #000000; stroke-width: 1.5;\"/><line style=\"stroke: #000000; stroke-width: 1.5;\" x1=\"16\" x2=\"104\" y1=\"28.2969\" y2=\"28.2969\"/><text fill=\"#000000\" font-family=\"sans-serif\" font-size=\"14\" font-weight=\"bold\" lengthAdjust=\"spacingAndGlyphs\" textLength=\"75\" x=\"20\" y=\"20.9951\">ImportTest</text></a><!--MD5=[e4f7fae6ed58524ba242bb0b0d3be6b7]\n",
       "cluster E2--><a href=\"psysml:fc5e85ef-31d8-4451-b981-c90381fde50e\" target=\"_top\" title=\"psysml:fc5e85ef-31d8-4451-b981-c90381fde50e\" xlink:actuate=\"onRequest\" xlink:href=\"psysml:fc5e85ef-31d8-4451-b981-c90381fde50e\" xlink:show=\"new\" xlink:title=\"psysml:fc5e85ef-31d8-4451-b981-c90381fde50e\" xlink:type=\"simple\"><polygon fill=\"#FFFFFF\" filter=\"url(#f1v7pax98no9yc)\" points=\"222,57,263,57,270,79.2969,468,79.2969,468,170,222,170,222,57\" style=\"stroke: #000000; stroke-width: 1.5;\"/><line style=\"stroke: #000000; stroke-width: 1.5;\" x1=\"222\" x2=\"270\" y1=\"79.2969\" y2=\"79.2969\"/><text fill=\"#000000\" font-family=\"sans-serif\" font-size=\"14\" font-weight=\"bold\" lengthAdjust=\"spacingAndGlyphs\" textLength=\"35\" x=\"226\" y=\"71.9951\">Pkg1</text></a><!--MD5=[de5ec2e2e8f62f467e546659f5068c88]\n",
       "cluster E5--><a href=\"psysml:c270e78f-1935-46bf-a024-66cb4836716b\" target=\"_top\" title=\"psysml:c270e78f-1935-46bf-a024-66cb4836716b\" xlink:actuate=\"onRequest\" xlink:href=\"psysml:c270e78f-1935-46bf-a024-66cb4836716b\" xlink:show=\"new\" xlink:title=\"psysml:c270e78f-1935-46bf-a024-66cb4836716b\" xlink:type=\"simple\"><polygon fill=\"#FFFFFF\" filter=\"url(#f1v7pax98no9yc)\" points=\"121,235,162,235,169,257.2969,434,257.2969,434,546,121,546,121,235\" style=\"stroke: #000000; stroke-width: 1.5;\"/><line style=\"stroke: #000000; stroke-width: 1.5;\" x1=\"121\" x2=\"169\" y1=\"257.2969\" y2=\"257.2969\"/><text fill=\"#000000\" font-family=\"sans-serif\" font-size=\"14\" font-weight=\"bold\" lengthAdjust=\"spacingAndGlyphs\" textLength=\"35\" x=\"125\" y=\"249.9951\">Pkg2</text></a><!--MD5=[14e3b0961a2654348d326746436168a1]\n",
       "cluster E6--><a href=\"psysml:ed944fef-70b9-4524-9917-716ca36e9ac1\" target=\"_top\" title=\"psysml:ed944fef-70b9-4524-9917-716ca36e9ac1\" xlink:actuate=\"onRequest\" xlink:href=\"psysml:ed944fef-70b9-4524-9917-716ca36e9ac1\" xlink:show=\"new\" xlink:title=\"psysml:ed944fef-70b9-4524-9917-716ca36e9ac1\" xlink:type=\"simple\"><polygon fill=\"#FFFFFF\" filter=\"url(#f1v7pax98no9yc)\" points=\"161,294,211,294,218,316.2969,386,316.2969,386,506,161,506,161,294\" style=\"stroke: #000000; stroke-width: 1.5;\"/><line style=\"stroke: #000000; stroke-width: 1.5;\" x1=\"161\" x2=\"218\" y1=\"316.2969\" y2=\"316.2969\"/><text fill=\"#000000\" font-family=\"sans-serif\" font-size=\"14\" font-weight=\"bold\" lengthAdjust=\"spacingAndGlyphs\" textLength=\"44\" x=\"165\" y=\"308.9951\">Pkg21</text></a><!--MD5=[168fadf3d0c3fd93dd5d6da1b1d7ab76]\n",
       "cluster E7--><a href=\"psysml:9f58dbb8-6a8c-4281-a4ad-0fbab28478f4\" target=\"_top\" title=\"psysml:9f58dbb8-6a8c-4281-a4ad-0fbab28478f4\" xlink:actuate=\"onRequest\" xlink:href=\"psysml:9f58dbb8-6a8c-4281-a4ad-0fbab28478f4\" xlink:show=\"new\" xlink:title=\"psysml:9f58dbb8-6a8c-4281-a4ad-0fbab28478f4\" xlink:type=\"simple\"><polygon fill=\"#FFFFFF\" filter=\"url(#f1v7pax98no9yc)\" points=\"209,353,268,353,275,375.2969,346,375.2969,346,466,209,466,209,353\" style=\"stroke: #000000; stroke-width: 1.5;\"/><line style=\"stroke: #000000; stroke-width: 1.5;\" x1=\"209\" x2=\"275\" y1=\"375.2969\" y2=\"375.2969\"/><text fill=\"#000000\" font-family=\"sans-serif\" font-size=\"14\" font-weight=\"bold\" lengthAdjust=\"spacingAndGlyphs\" textLength=\"53\" x=\"213\" y=\"367.9951\">Pkg211</text></a><!--MD5=[09b614a08d8cba4a07c9adeb5e0fee81]\n",
       "class E3--><a href=\"psysml:fe6123c1-7336-461e-a67a-648132fed175\" target=\"_top\" title=\"psysml:fe6123c1-7336-461e-a67a-648132fed175\" xlink:actuate=\"onRequest\" xlink:href=\"psysml:fe6123c1-7336-461e-a67a-648132fed175\" xlink:show=\"new\" xlink:title=\"psysml:fe6123c1-7336-461e-a67a-648132fed175\" xlink:type=\"simple\"><rect fill=\"#FEFECE\" filter=\"url(#f1v7pax98no9yc)\" height=\"45.9375\" id=\"E3\" rx=\"10\" ry=\"10\" style=\"stroke: #A80036; stroke-width: 1.5;\" width=\"74\" x=\"265\" y=\"100\"/><text fill=\"#000000\" font-family=\"sans-serif\" font-size=\"12\" font-style=\"italic\" lengthAdjust=\"spacingAndGlyphs\" textLength=\"40\" x=\"282\" y=\"116.1387\">«part»</text><text fill=\"#000000\" font-family=\"sans-serif\" font-size=\"12\" lengthAdjust=\"spacingAndGlyphs\" textLength=\"64\" x=\"268\" y=\"130.1074\">p11: P211</text><line style=\"stroke: #A80036; stroke-width: 1.5;\" x1=\"266\" x2=\"338\" y1=\"137.9375\" y2=\"137.9375\"/></a><!--MD5=[ebbe1d658d1005bcc118a6aa81145e00]\n",
       "class E4--><a href=\"psysml:1380541e-fc30-40f5-9a60-edda9aa0065e\" target=\"_top\" title=\"psysml:1380541e-fc30-40f5-9a60-edda9aa0065e\" xlink:actuate=\"onRequest\" xlink:href=\"psysml:1380541e-fc30-40f5-9a60-edda9aa0065e\" xlink:show=\"new\" xlink:title=\"psysml:1380541e-fc30-40f5-9a60-edda9aa0065e\" xlink:type=\"simple\"><rect fill=\"#FEFECE\" filter=\"url(#f1v7pax98no9yc)\" height=\"45.9375\" id=\"E4\" style=\"stroke: #A80036; stroke-width: 1.5;\" width=\"70\" x=\"374\" y=\"100\"/><text fill=\"#000000\" font-family=\"sans-serif\" font-size=\"12\" font-style=\"italic\" lengthAdjust=\"spacingAndGlyphs\" textLength=\"68\" x=\"375\" y=\"116.1387\">«part  def»</text><text fill=\"#000000\" font-family=\"sans-serif\" font-size=\"12\" lengthAdjust=\"spacingAndGlyphs\" textLength=\"24\" x=\"397\" y=\"130.1074\">P12</text><line style=\"stroke: #A80036; stroke-width: 1.5;\" x1=\"375\" x2=\"443\" y1=\"137.9375\" y2=\"137.9375\"/></a><!--MD5=[b9389687b975829384b498ac4b7476b2]\n",
       "class E8--><a href=\"psysml:4acbdff1-c8fe-48cb-afd1-a68daa112cad\" target=\"_top\" title=\"psysml:4acbdff1-c8fe-48cb-afd1-a68daa112cad\" xlink:actuate=\"onRequest\" xlink:href=\"psysml:4acbdff1-c8fe-48cb-afd1-a68daa112cad\" xlink:show=\"new\" xlink:title=\"psysml:4acbdff1-c8fe-48cb-afd1-a68daa112cad\" xlink:type=\"simple\"><rect fill=\"#FEFECE\" filter=\"url(#f1v7pax98no9yc)\" height=\"45.9375\" id=\"E8\" style=\"stroke: #A80036; stroke-width: 1.5;\" width=\"70\" x=\"252\" y=\"396\"/><text fill=\"#000000\" font-family=\"sans-serif\" font-size=\"12\" font-style=\"italic\" lengthAdjust=\"spacingAndGlyphs\" textLength=\"68\" x=\"253\" y=\"412.1387\">«part  def»</text><text fill=\"#000000\" font-family=\"sans-serif\" font-size=\"12\" lengthAdjust=\"spacingAndGlyphs\" textLength=\"32\" x=\"271\" y=\"426.1074\">P211</text><line style=\"stroke: #A80036; stroke-width: 1.5;\" x1=\"253\" x2=\"321\" y1=\"433.9375\" y2=\"433.9375\"/></a><!--MD5=[b0060bfdb0500b904584095522b4da3c]\n",
       "link E2 to E8--><a href=\"psysml:4f20d9a0-229b-41ce-a3f9-ec650db8275f\" target=\"_top\" title=\"psysml:4f20d9a0-229b-41ce-a3f9-ec650db8275f\" xlink:actuate=\"onRequest\" xlink:href=\"psysml:4f20d9a0-229b-41ce-a3f9-ec650db8275f\" xlink:show=\"new\" xlink:title=\"psysml:4f20d9a0-229b-41ce-a3f9-ec650db8275f\" xlink:type=\"simple\"><path d=\"M239.5673,170.044 C239.9187,170.8643 240.2829,171.6796 240.6605,172.4884 C241.4156,174.106 242.2242,175.6975 243.0899,177.2503 C244.8213,180.3558 246.7813,183.3063 249,186 C253.8,191.83 259.79,187.73 264,194 C304.62,254.46 298.3,345.57 291.84,390.69 \" fill=\"none\" id=\"E2-&gt;E8\" style=\"stroke: #A80036; stroke-width: 1.0; stroke-dasharray: 7.0,7.0;\"/><polygon fill=\"#A80036\" points=\"291.1,395.69,296.3662,387.3673,291.8271,390.7431,288.4512,386.204,291.1,395.69\" style=\"stroke: #A80036; stroke-width: 1.0;\"/><text fill=\"#000000\" font-family=\"sans-serif\" font-size=\"13\" lengthAdjust=\"spacingAndGlyphs\" textLength=\"58\" x=\"274\" y=\"207.0669\">«import»</text></a><!--MD5=[e3e28c1befcf002155aa15e1416b4315]\n",
       "link E2 to E6--><a href=\"psysml:682e8ea7-bcd5-404d-bf47-54c119ed8bb7\" target=\"_top\" title=\"psysml:682e8ea7-bcd5-404d-bf47-54c119ed8bb7\" xlink:actuate=\"onRequest\" xlink:href=\"psysml:682e8ea7-bcd5-404d-bf47-54c119ed8bb7\" xlink:show=\"new\" xlink:title=\"psysml:682e8ea7-bcd5-404d-bf47-54c119ed8bb7\" xlink:type=\"simple\"><path d=\"M221.7454,125.2359 C221.6297,125.2555 221.5129,125.2754 221.395,125.2955 C221.1593,125.3358 220.9193,125.3771 220.6752,125.4195 C220.1869,125.5042 219.6819,125.5933 219.1609,125.6868 C217.0769,126.0607 214.7359,126.5053 212.1769,127.0288 C201.9406,129.1225 188.215,132.4775 173.4875,137.615 C144.0325,147.89 110.57,165.295 93,194 C65.99,238.135 83.98,293.0875 109.2162,337.5175 C121.8344,359.7325 136.2641,379.3169 147.7861,393.6031 C150.6666,397.1747 153.3654,400.4151 155.8087,403.2827 C157.0304,404.7165 158.1881,406.0571 159.2728,407.2993 C159.8152,407.9204 160.3393,408.5169 160.8439,409.0882 \" fill=\"none\" id=\"E2-&gt;E6\" style=\"stroke: #A80036; stroke-width: 1.0; stroke-dasharray: 7.0,7.0;\"/><polygon fill=\"#A80036\" points=\"160.8439,409.0882,157.8829,399.695,157.5335,405.341,151.8875,404.9916,160.8439,409.0882\" style=\"stroke: #A80036; stroke-width: 1.0;\"/><text fill=\"#000000\" font-family=\"sans-serif\" font-size=\"13\" lengthAdjust=\"spacingAndGlyphs\" textLength=\"65\" x=\"94\" y=\"207.0669\">«import»*</text></a><!--MD5=[e3d2a08a9c9236652057e8ed0cbc9b62]\n",
       "link E2 to E7--><a href=\"psysml:60c32f43-2902-493b-8362-f480edbb78ed\" target=\"_top\" title=\"psysml:60c32f43-2902-493b-8362-f480edbb78ed\" xlink:actuate=\"onRequest\" xlink:href=\"psysml:60c32f43-2902-493b-8362-f480edbb78ed\" xlink:show=\"new\" xlink:title=\"psysml:60c32f43-2902-493b-8362-f480edbb78ed\" xlink:type=\"simple\"><path d=\"M221.8807,130.2617 C221.7401,130.3761 221.5982,130.4918 221.4548,130.6091 C216.8678,134.36 210.8594,139.5688 204.5113,145.875 C191.815,158.4875 177.76,175.49 171,194 C168.41,201.1 166.18,205.18 171,211 C183.11,225.64 200.74,204.48 213,219 C227.045,235.63 228.2325,284.0975 225.8175,329.0338 C225.5156,334.6508 225.1575,340.2126 224.7611,345.6502 C224.662,347.0096 224.5605,348.3613 224.4569,349.7041 C224.4051,350.3755 224.3528,351.0446 224.3,351.7115 C224.2736,352.0449 224.2471,352.3777 224.2204,352.71 \" fill=\"none\" id=\"E2-&gt;E7\" style=\"stroke: #A80036; stroke-width: 1.0; stroke-dasharray: 7.0,7.0;\"/><polygon fill=\"#A80036\" points=\"224.2204,352.71,228.9272,344.0586,224.6202,347.726,220.9528,343.419,224.2204,352.71\" style=\"stroke: #A80036; stroke-width: 1.0;\"/><text fill=\"#000000\" font-family=\"sans-serif\" font-size=\"13\" lengthAdjust=\"spacingAndGlyphs\" textLength=\"87\" x=\"172\" y=\"207.0669\">«import»*::**</text></a><!--MD5=[ca5a752d6098d8a44b3f88316e7452d1]\n",
       "link E3 to E8--><a href=\"psysml:37accf74-aaef-4298-a8d1-458e277c829e\" target=\"_top\" title=\"psysml:37accf74-aaef-4298-a8d1-458e277c829e\" xlink:actuate=\"onRequest\" xlink:href=\"psysml:37accf74-aaef-4298-a8d1-458e277c829e\" xlink:show=\"new\" xlink:title=\"psysml:37accf74-aaef-4298-a8d1-458e277c829e\" xlink:type=\"simple\"><path d=\"M321.59,146.07 C339.73,166.51 363.93,193.81 364,194 C366.68,201.06 368.76,205.13 364,211 C353.13,224.4 338.12,206.71 326,219 C285.31,260.27 280.82,330.75 282.81,375.81 \" fill=\"none\" id=\"E3-&gt;E8\" style=\"stroke: #A80036; stroke-width: 1.0;\"/><polygon fill=\"#FFFFFF\" points=\"284.19,395.93,275.9039,377.4546,289.8709,376.4948,284.19,395.93\" style=\"stroke: #A80036; stroke-width: 1.0;\"/><ellipse cx=\"277.5084\" cy=\"371.6309\" fill=\"#A80036\" rx=\"2\" ry=\"2\" style=\"stroke: #A80036; stroke-width: 1.0;\"/><ellipse cx=\"287.4849\" cy=\"370.9453\" fill=\"#A80036\" rx=\"2\" ry=\"2\" style=\"stroke: #A80036; stroke-width: 1.0;\"/></a><!--MD5=[15ebcb19ae302d9b601edb458606d402]\n",
       "link E5 to E2--><a href=\"psysml:a29f5286-6760-4cc8-8866-2ed3ee4f3eda\" target=\"_top\" title=\"psysml:a29f5286-6760-4cc8-8866-2ed3ee4f3eda\" xlink:actuate=\"onRequest\" xlink:href=\"psysml:a29f5286-6760-4cc8-8866-2ed3ee4f3eda\" xlink:show=\"new\" xlink:title=\"psysml:a29f5286-6760-4cc8-8866-2ed3ee4f3eda\" xlink:type=\"simple\"><path d=\"M377.9071,234.5987 C377.6837,234.254 377.4593,233.91 377.2338,233.5668 C376.3317,232.1941 375.413,230.8338 374.4773,229.4868 C372.6059,226.7928 370.6665,224.152 368.6567,221.572 C360.6175,211.2517 351.4513,201.9025 341,194 C324.63,181.62 264.96,198.91 249,186 C246.2863,183.805 243.9511,181.2325 241.9426,178.4061 C240.9384,176.9929 240.0159,175.5163 239.1685,173.9916 C238.7448,173.2292 238.3399,172.4549 237.953,171.6705 C237.7596,171.2782 237.5706,170.8835 237.3861,170.4865 C237.3399,170.3873 237.2941,170.2879 237.2485,170.1883 \" fill=\"none\" id=\"E5-&gt;E2\" style=\"stroke: #A80036; stroke-width: 1.0; stroke-dasharray: 7.0,7.0;\"/><polygon fill=\"#A80036\" points=\"237.2485,170.1883,237.3599,180.0366,239.3307,174.7341,244.6331,176.705,237.2485,170.1883\" style=\"stroke: #A80036; stroke-width: 1.0;\"/><text fill=\"#000000\" font-family=\"sans-serif\" font-size=\"13\" lengthAdjust=\"spacingAndGlyphs\" textLength=\"65\" x=\"356\" y=\"207.0669\">«import»*</text></a><!--MD5=[d7bb3fb34add81b710575eb3799fa2ad]\n",
       "link E8 to E4--><a href=\"psysml:d1a96eaf-259a-4888-9f98-ae46b38eb818\" target=\"_top\" title=\"psysml:d1a96eaf-259a-4888-9f98-ae46b38eb818\" xlink:actuate=\"onRequest\" xlink:href=\"psysml:d1a96eaf-259a-4888-9f98-ae46b38eb818\" xlink:show=\"new\" xlink:title=\"psysml:d1a96eaf-259a-4888-9f98-ae46b38eb818\" xlink:type=\"simple\"><path d=\"M283.6,395.87 C278.58,354.03 274.69,263.54 326,219 C338.77,207.91 466.36,223.27 478,211 C493.94,194.2 479.72,174.01 460.15,157.31 \" fill=\"none\" id=\"E8-&gt;E4\" style=\"stroke: #A80036; stroke-width: 1.0;\"/><polygon fill=\"none\" points=\"455.78,162.78,444.15,145.06,464.29,151.66,455.78,162.78\" style=\"stroke: #A80036; stroke-width: 1.0;\"/></a><!--MD5=[978a6489b81401e09713bf1e40fd83a7]\n",
       "@startuml\r\n",
       "skinparam wrapWidth 300\r\n",
       "hide circle\r\n",
       "\r\n",
       "package \"ImportTest\" as E1  [[psysml:4ef55e29-a78c-4120-8a0e-706d60f3b916 ]]  {\r\n",
       "package \"Pkg1\" as E2  [[psysml:fc5e85ef-31d8-4451-b981-c90381fde50e ]]  {\r\n",
       "comp usage \"p11: P211 \" as E3  <<(T,blue) part>> [[psysml:fe6123c1-7336-461e-a67a-648132fed175 ]] {\r\n",
       "}\r\n",
       "comp def \"P12\" as E4  <<(T,blue) part  def>> [[psysml:1380541e-fc30-40f5-9a60-edda9aa0065e ]] {\r\n",
       "}\r\n",
       "}\r\n",
       "package \"Pkg2\" as E5  [[psysml:c270e78f-1935-46bf-a024-66cb4836716b ]]  {\r\n",
       "package \"Pkg21\" as E6  [[psysml:ed944fef-70b9-4524-9917-716ca36e9ac1 ]]  {\r\n",
       "package \"Pkg211\" as E7  [[psysml:9f58dbb8-6a8c-4281-a4ad-0fbab28478f4 ]]  {\r\n",
       "comp def \"P211\" as E8  <<(T,blue) part  def>> [[psysml:4acbdff1-c8fe-48cb-afd1-a68daa112cad ]] {\r\n",
       "}\r\n",
       "}\r\n",
       "}\r\n",
       "}\r\n",
       "}\r\n",
       "E2 ..> E8 [[psysml:4f20d9a0-229b-41ce-a3f9-ec650db8275f ]] : <<import>>\r\n",
       "E2 ..> E6 [[psysml:682e8ea7-bcd5-404d-bf47-54c119ed8bb7 ]] : <<import>>*\r\n",
       "E2 ..> E7 [[psysml:60c32f43-2902-493b-8362-f480edbb78ed ]] : <<import>>*::**\r\n",
       "E3 - -:|> E8 [[psysml:37accf74-aaef-4298-a8d1-458e277c829e ]] \r\n",
       "E5 ..> E2 [[psysml:a29f5286-6760-4cc8-8866-2ed3ee4f3eda ]] : <<import>>*\r\n",
       "E8 - -|> E4 [[psysml:d1a96eaf-259a-4888-9f98-ae46b38eb818 ]] \r\n",
       "@enduml\r\n",
       "\n",
       "PlantUML version 1.2020.13(Sat Jun 13 12:26:38 UTC 2020)\n",
       "(EPL source distribution)\n",
       "Java Runtime: OpenJDK Runtime Environment\n",
       "JVM: OpenJDK 64-Bit Server VM\n",
       "Default Encoding: UTF-8\n",
       "Language: en\n",
       "Country: null\n",
       "--></g></svg>"
      ]
     },
     "execution_count": 24,
     "metadata": {},
     "output_type": "execute_result"
    }
   ],
   "source": [
    "%viz --style=\"STDCOLOR\" --view=\"Tree\" \"ImportTest\""
   ]
  },
  {
   "cell_type": "code",
   "execution_count": 25,
   "id": "e2ad563b",
   "metadata": {
    "execution": {
     "iopub.execute_input": "2022-02-18T10:46:59.320948Z",
     "iopub.status.busy": "2022-02-18T10:46:59.320549Z",
     "iopub.status.idle": "2022-02-18T10:46:59.325061Z",
     "shell.execute_reply": "2022-02-18T10:46:59.325371Z"
    }
   },
   "outputs": [
    {
     "data": {
      "image/svg+xml": [
       "<?xml version=\"1.0\" encoding=\"UTF-8\" standalone=\"no\"?><svg xmlns=\"http://www.w3.org/2000/svg\" xmlns:xlink=\"http://www.w3.org/1999/xlink\" contentScriptType=\"application/ecmascript\" contentStyleType=\"text/css\" height=\"12px\" preserveAspectRatio=\"none\" style=\"width:12px;height:12px;\" version=\"1.1\" viewBox=\"0 0 12 12\" width=\"12px\" zoomAndPan=\"magnify\"><defs/><g><!--MD5=[aeeef50f102b80d730deb6443d14f702]\n",
       "@startuml\r\n",
       "skinparam wrapWidth 300\r\n",
       "hide circle\r\n",
       "\r\n",
       "@enduml\r\n",
       "\n",
       "PlantUML version 1.2020.13(Sat Jun 13 12:26:38 UTC 2020)\n",
       "(EPL source distribution)\n",
       "Java Runtime: OpenJDK Runtime Environment\n",
       "JVM: OpenJDK 64-Bit Server VM\n",
       "Default Encoding: UTF-8\n",
       "Language: en\n",
       "Country: null\n",
       "--></g></svg>"
      ]
     },
     "execution_count": 25,
     "metadata": {},
     "output_type": "execute_result"
    }
   ],
   "source": [
    "%viz --style=\"STDCOLOR\" --view=\"State\" \"ImportTest\""
   ]
  },
  {
   "cell_type": "code",
   "execution_count": 26,
   "id": "3ac77205",
   "metadata": {
    "execution": {
     "iopub.execute_input": "2022-02-18T10:46:59.375493Z",
     "iopub.status.busy": "2022-02-18T10:46:59.375098Z",
     "iopub.status.idle": "2022-02-18T10:46:59.413562Z",
     "shell.execute_reply": "2022-02-18T10:46:59.413220Z"
    }
   },
   "outputs": [
    {
     "data": {
      "image/svg+xml": [
       "<?xml version=\"1.0\" encoding=\"UTF-8\" standalone=\"no\"?><svg xmlns=\"http://www.w3.org/2000/svg\" xmlns:xlink=\"http://www.w3.org/1999/xlink\" contentScriptType=\"application/ecmascript\" contentStyleType=\"text/css\" height=\"584px\" preserveAspectRatio=\"none\" style=\"width:515px;height:584px;\" version=\"1.1\" viewBox=\"0 0 515 584\" width=\"515px\" zoomAndPan=\"magnify\"><defs><filter height=\"300%\" id=\"f11awdoqvjxgff\" width=\"300%\" x=\"-1\" y=\"-1\"><feGaussianBlur result=\"blurOut\" stdDeviation=\"2.0\"/><feColorMatrix in=\"blurOut\" result=\"blurOut2\" type=\"matrix\" values=\"0 0 0 0 0 0 0 0 0 0 0 0 0 0 0 0 0 0 .4 0\"/><feOffset dx=\"4.0\" dy=\"4.0\" in=\"blurOut2\" result=\"blurOut3\"/><feBlend in=\"SourceGraphic\" in2=\"blurOut3\" mode=\"normal\"/></filter></defs><g><!--MD5=[fbc87193dbaf4d95561dea2c320d4a47]\n",
       "cluster E1--><a href=\"psysml:4ef55e29-a78c-4120-8a0e-706d60f3b916\" target=\"_top\" title=\"psysml:4ef55e29-a78c-4120-8a0e-706d60f3b916\" xlink:actuate=\"onRequest\" xlink:href=\"psysml:4ef55e29-a78c-4120-8a0e-706d60f3b916\" xlink:show=\"new\" xlink:title=\"psysml:4ef55e29-a78c-4120-8a0e-706d60f3b916\" xlink:type=\"simple\"><polygon fill=\"#FFFFFF\" filter=\"url(#f11awdoqvjxgff)\" points=\"16,6,97,6,104,28.2969,493,28.2969,493,572,16,572,16,6\" style=\"stroke: #000000; stroke-width: 1.5;\"/><line style=\"stroke: #000000; stroke-width: 1.5;\" x1=\"16\" x2=\"104\" y1=\"28.2969\" y2=\"28.2969\"/><text fill=\"#000000\" font-family=\"sans-serif\" font-size=\"14\" font-weight=\"bold\" lengthAdjust=\"spacingAndGlyphs\" textLength=\"75\" x=\"20\" y=\"20.9951\">ImportTest</text></a><!--MD5=[e4f7fae6ed58524ba242bb0b0d3be6b7]\n",
       "cluster E2--><a href=\"psysml:fc5e85ef-31d8-4451-b981-c90381fde50e\" target=\"_top\" title=\"psysml:fc5e85ef-31d8-4451-b981-c90381fde50e\" xlink:actuate=\"onRequest\" xlink:href=\"psysml:fc5e85ef-31d8-4451-b981-c90381fde50e\" xlink:show=\"new\" xlink:title=\"psysml:fc5e85ef-31d8-4451-b981-c90381fde50e\" xlink:type=\"simple\"><polygon fill=\"#FFFFFF\" filter=\"url(#f11awdoqvjxgff)\" points=\"209,57,250,57,257,79.2969,461,79.2969,461,167,209,167,209,57\" style=\"stroke: #000000; stroke-width: 1.5;\"/><line style=\"stroke: #000000; stroke-width: 1.5;\" x1=\"209\" x2=\"257\" y1=\"79.2969\" y2=\"79.2969\"/><text fill=\"#000000\" font-family=\"sans-serif\" font-size=\"14\" font-weight=\"bold\" lengthAdjust=\"spacingAndGlyphs\" textLength=\"35\" x=\"213\" y=\"71.9951\">Pkg1</text></a><!--MD5=[de5ec2e2e8f62f467e546659f5068c88]\n",
       "cluster E5--><a href=\"psysml:c270e78f-1935-46bf-a024-66cb4836716b\" target=\"_top\" title=\"psysml:c270e78f-1935-46bf-a024-66cb4836716b\" xlink:actuate=\"onRequest\" xlink:href=\"psysml:c270e78f-1935-46bf-a024-66cb4836716b\" xlink:show=\"new\" xlink:title=\"psysml:c270e78f-1935-46bf-a024-66cb4836716b\" xlink:type=\"simple\"><polygon fill=\"#FFFFFF\" filter=\"url(#f11awdoqvjxgff)\" points=\"93,232,134,232,141,254.2969,411,254.2969,411,540,93,540,93,232\" style=\"stroke: #000000; stroke-width: 1.5;\"/><line style=\"stroke: #000000; stroke-width: 1.5;\" x1=\"93\" x2=\"141\" y1=\"254.2969\" y2=\"254.2969\"/><text fill=\"#000000\" font-family=\"sans-serif\" font-size=\"14\" font-weight=\"bold\" lengthAdjust=\"spacingAndGlyphs\" textLength=\"35\" x=\"97\" y=\"246.9951\">Pkg2</text></a><!--MD5=[14e3b0961a2654348d326746436168a1]\n",
       "cluster E6--><a href=\"psysml:ed944fef-70b9-4524-9917-716ca36e9ac1\" target=\"_top\" title=\"psysml:ed944fef-70b9-4524-9917-716ca36e9ac1\" xlink:actuate=\"onRequest\" xlink:href=\"psysml:ed944fef-70b9-4524-9917-716ca36e9ac1\" xlink:show=\"new\" xlink:title=\"psysml:ed944fef-70b9-4524-9917-716ca36e9ac1\" xlink:type=\"simple\"><polygon fill=\"#FFFFFF\" filter=\"url(#f11awdoqvjxgff)\" points=\"133,291,183,291,190,313.2969,363,313.2969,363,500,133,500,133,291\" style=\"stroke: #000000; stroke-width: 1.5;\"/><line style=\"stroke: #000000; stroke-width: 1.5;\" x1=\"133\" x2=\"190\" y1=\"313.2969\" y2=\"313.2969\"/><text fill=\"#000000\" font-family=\"sans-serif\" font-size=\"14\" font-weight=\"bold\" lengthAdjust=\"spacingAndGlyphs\" textLength=\"44\" x=\"137\" y=\"305.9951\">Pkg21</text></a><!--MD5=[168fadf3d0c3fd93dd5d6da1b1d7ab76]\n",
       "cluster E7--><a href=\"psysml:9f58dbb8-6a8c-4281-a4ad-0fbab28478f4\" target=\"_top\" title=\"psysml:9f58dbb8-6a8c-4281-a4ad-0fbab28478f4\" xlink:actuate=\"onRequest\" xlink:href=\"psysml:9f58dbb8-6a8c-4281-a4ad-0fbab28478f4\" xlink:show=\"new\" xlink:title=\"psysml:9f58dbb8-6a8c-4281-a4ad-0fbab28478f4\" xlink:type=\"simple\"><polygon fill=\"#FFFFFF\" filter=\"url(#f11awdoqvjxgff)\" points=\"181,350,240,350,247,372.2969,323,372.2969,323,460,181,460,181,350\" style=\"stroke: #000000; stroke-width: 1.5;\"/><line style=\"stroke: #000000; stroke-width: 1.5;\" x1=\"181\" x2=\"247\" y1=\"372.2969\" y2=\"372.2969\"/><text fill=\"#000000\" font-family=\"sans-serif\" font-size=\"14\" font-weight=\"bold\" lengthAdjust=\"spacingAndGlyphs\" textLength=\"53\" x=\"185\" y=\"364.9951\">Pkg211</text></a><g id=\"E1.E2.E3\"><a href=\"psysml:fe6123c1-7336-461e-a67a-648132fed175\" target=\"_top\" title=\"psysml:fe6123c1-7336-461e-a67a-648132fed175\" xlink:actuate=\"onRequest\" xlink:href=\"psysml:fe6123c1-7336-461e-a67a-648132fed175\" xlink:show=\"new\" xlink:title=\"psysml:fe6123c1-7336-461e-a67a-648132fed175\" xlink:type=\"simple\"><rect fill=\"#FEFECE\" filter=\"url(#f11awdoqvjxgff)\" height=\"40\" id=\"E3\" rx=\"10\" ry=\"10\" style=\"stroke: #A80036; stroke-width: 1.5;\" width=\"75\" x=\"362.5\" y=\"101.5\"/><text fill=\"#000000\" font-family=\"sans-serif\" font-size=\"12\" lengthAdjust=\"spacingAndGlyphs\" textLength=\"64\" x=\"368\" y=\"117.6387\">p11: P211</text></a></g><g id=\"E1.E2.E4\"><a href=\"psysml:1380541e-fc30-40f5-9a60-edda9aa0065e\" target=\"_top\" title=\"psysml:1380541e-fc30-40f5-9a60-edda9aa0065e\" xlink:actuate=\"onRequest\" xlink:href=\"psysml:1380541e-fc30-40f5-9a60-edda9aa0065e\" xlink:show=\"new\" xlink:title=\"psysml:1380541e-fc30-40f5-9a60-edda9aa0065e\" xlink:type=\"simple\"><rect fill=\"#FEFECE\" filter=\"url(#f11awdoqvjxgff)\" height=\"42.9375\" id=\"E4\" style=\"stroke: #A80036; stroke-width: 1.5;\" width=\"75\" x=\"252.5\" y=\"100\"/><text fill=\"#000000\" font-family=\"sans-serif\" font-size=\"12\" font-style=\"italic\" lengthAdjust=\"spacingAndGlyphs\" textLength=\"68\" x=\"256\" y=\"116.1387\">«part  def»</text><text fill=\"#000000\" font-family=\"sans-serif\" font-size=\"12\" lengthAdjust=\"spacingAndGlyphs\" textLength=\"24\" x=\"278\" y=\"130.1074\">P12</text></a></g><g id=\"E1.E5.E6.E7.E8\"><a href=\"psysml:4acbdff1-c8fe-48cb-afd1-a68daa112cad\" target=\"_top\" title=\"psysml:4acbdff1-c8fe-48cb-afd1-a68daa112cad\" xlink:actuate=\"onRequest\" xlink:href=\"psysml:4acbdff1-c8fe-48cb-afd1-a68daa112cad\" xlink:show=\"new\" xlink:title=\"psysml:4acbdff1-c8fe-48cb-afd1-a68daa112cad\" xlink:type=\"simple\"><rect fill=\"#FEFECE\" filter=\"url(#f11awdoqvjxgff)\" height=\"42.9375\" id=\"E8\" style=\"stroke: #A80036; stroke-width: 1.5;\" width=\"75\" x=\"224.5\" y=\"393\"/><text fill=\"#000000\" font-family=\"sans-serif\" font-size=\"12\" font-style=\"italic\" lengthAdjust=\"spacingAndGlyphs\" textLength=\"68\" x=\"228\" y=\"409.1387\">«part  def»</text><text fill=\"#000000\" font-family=\"sans-serif\" font-size=\"12\" lengthAdjust=\"spacingAndGlyphs\" textLength=\"32\" x=\"246\" y=\"423.1074\">P211</text></a></g><!--MD5=[b0060bfdb0500b904584095522b4da3c]\n",
       "link E2 to E8--><a href=\"psysml:4f20d9a0-229b-41ce-a3f9-ec650db8275f\" target=\"_top\" title=\"psysml:4f20d9a0-229b-41ce-a3f9-ec650db8275f\" xlink:actuate=\"onRequest\" xlink:href=\"psysml:4f20d9a0-229b-41ce-a3f9-ec650db8275f\" xlink:show=\"new\" xlink:title=\"psysml:4f20d9a0-229b-41ce-a3f9-ec650db8275f\" xlink:type=\"simple\"><path d=\"M226.0996,167.0404 C226.2817,167.4353 226.4674,167.8286 226.6569,168.2201 C227.0359,169.0031 227.4297,169.7788 227.8389,170.5455 C228.6575,172.0788 229.5378,173.5761 230.4846,175.0235 C232.3781,177.9183 234.5375,180.6138 237,183 C245.99,191.71 256.51,180.97 264,191 C307.73,249.57 285.73,343.1 271.27,387.93 \" fill=\"none\" id=\"E2-&gt;E8\" style=\"stroke: #A80036; stroke-width: 1.0; stroke-dasharray: 7.0,7.0;\"/><polygon fill=\"#A80036\" points=\"269.63,392.89,276.2378,385.5868,271.1897,388.1395,268.637,383.0913,269.63,392.89\" style=\"stroke: #A80036; stroke-width: 1.0;\"/><text fill=\"#000000\" font-family=\"sans-serif\" font-size=\"13\" lengthAdjust=\"spacingAndGlyphs\" textLength=\"58\" x=\"274\" y=\"204.0669\">«import»</text></a><!--MD5=[e3e28c1befcf002155aa15e1416b4315]\n",
       "link E2 to E6--><a href=\"psysml:682e8ea7-bcd5-404d-bf47-54c119ed8bb7\" target=\"_top\" title=\"psysml:682e8ea7-bcd5-404d-bf47-54c119ed8bb7\" xlink:actuate=\"onRequest\" xlink:href=\"psysml:682e8ea7-bcd5-404d-bf47-54c119ed8bb7\" xlink:show=\"new\" xlink:title=\"psysml:682e8ea7-bcd5-404d-bf47-54c119ed8bb7\" xlink:type=\"simple\"><path d=\"M208.8595,124.0557 C208.7506,124.0788 208.6407,124.1021 208.5299,124.1258 C208.0867,124.2205 207.6284,124.3196 207.1556,124.4234 C205.264,124.8384 203.1395,125.3269 200.8172,125.8948 C191.5281,128.1666 179.0763,131.7094 165.7275,136.9063 C139.03,147.3 108.745,164.31 93,191 C67.7,233.885 78.9325,288.455 96.865,332.8188 C105.8313,355.0006 116.4725,374.6309 125.0597,388.9733 C127.2065,392.5589 129.2249,395.814 131.0567,398.6958 C131.5146,399.4162 131.9609,400.1134 132.3946,400.7865 C132.503,400.9548 132.6107,401.1216 132.7175,401.2869 \" fill=\"none\" id=\"E2-&gt;E6\" style=\"stroke: #A80036; stroke-width: 1.0; stroke-dasharray: 7.0,7.0;\"/><polygon fill=\"#A80036\" points=\"132.7175,401.2869,131.1908,391.557,130.0031,397.0878,124.4723,395.9001,132.7175,401.2869\" style=\"stroke: #A80036; stroke-width: 1.0;\"/><text fill=\"#000000\" font-family=\"sans-serif\" font-size=\"13\" lengthAdjust=\"spacingAndGlyphs\" textLength=\"65\" x=\"94\" y=\"204.0669\">«import»*</text></a><!--MD5=[e3d2a08a9c9236652057e8ed0cbc9b62]\n",
       "link E2 to E7--><a href=\"psysml:60c32f43-2902-493b-8362-f480edbb78ed\" target=\"_top\" title=\"psysml:60c32f43-2902-493b-8362-f480edbb78ed\" xlink:actuate=\"onRequest\" xlink:href=\"psysml:60c32f43-2902-493b-8362-f480edbb78ed\" xlink:show=\"new\" xlink:title=\"psysml:60c32f43-2902-493b-8362-f480edbb78ed\" xlink:type=\"simple\"><path d=\"M208.9087,130.8599 C208.4267,131.3857 207.929,131.9334 207.4172,132.5019 C206.3938,133.639 205.3142,134.8598 204.1919,136.1571 C201.9473,138.7518 199.5316,141.6528 197.0512,144.8037 C187.13,157.4075 176.175,174.01 171,191 C168.8,198.23 167.21,201.47 171,208 C174.6,214.2 181.34,209.84 185,216 C207.065,253.155 208.38,301.58 204.025,341.18 C203.7528,343.655 203.4585,346.0955 203.1457,348.4967 C203.1066,348.7968 203.0672,349.0963 203.0275,349.3953 \" fill=\"none\" id=\"E2-&gt;E7\" style=\"stroke: #A80036; stroke-width: 1.0; stroke-dasharray: 7.0,7.0;\"/><polygon fill=\"#A80036\" points=\"203.0275,349.3953,208.1768,340.9997,203.6853,344.4387,200.2464,339.9472,203.0275,349.3953\" style=\"stroke: #A80036; stroke-width: 1.0;\"/><text fill=\"#000000\" font-family=\"sans-serif\" font-size=\"13\" lengthAdjust=\"spacingAndGlyphs\" textLength=\"87\" x=\"172\" y=\"204.0669\">«import»*::**</text></a><!--MD5=[15ebcb19ae302d9b601edb458606d402]\n",
       "link E5 to E2--><a href=\"psysml:a29f5286-6760-4cc8-8866-2ed3ee4f3eda\" target=\"_top\" title=\"psysml:a29f5286-6760-4cc8-8866-2ed3ee4f3eda\" xlink:actuate=\"onRequest\" xlink:href=\"psysml:a29f5286-6760-4cc8-8866-2ed3ee4f3eda\" xlink:show=\"new\" xlink:title=\"psysml:a29f5286-6760-4cc8-8866-2ed3ee4f3eda\" xlink:type=\"simple\"><path d=\"M374.0816,231.8188 C373.8921,231.4743 373.7014,231.1305 373.5097,230.7874 C372.7425,229.4152 371.957,228.0548 371.1529,226.707 C369.5446,224.0116 367.8614,221.3671 366.1,218.7807 C359.0547,208.4352 350.7587,199.02 341,191 C323.09,176.28 255.25,197.29 237,183 C234.3,180.8863 231.9606,178.3973 229.9341,175.6551 C228.9209,174.284 227.9858,172.8496 227.123,171.367 C226.6917,170.6257 226.2783,169.8724 225.8823,169.109 C225.6843,168.7273 225.4906,168.3431 225.3012,167.9565 C225.2065,167.7633 225.1128,167.5694 225.0202,167.3751 C224.9739,167.2779 224.9278,167.1805 224.882,167.0831 \" fill=\"none\" id=\"E5-&gt;E2\" style=\"stroke: #A80036; stroke-width: 1.0; stroke-dasharray: 7.0,7.0;\"/><polygon fill=\"#A80036\" points=\"224.882,167.0831,225.0885,176.9298,227.0081,171.6086,232.3293,173.5281,224.882,167.0831\" style=\"stroke: #A80036; stroke-width: 1.0;\"/><text fill=\"#000000\" font-family=\"sans-serif\" font-size=\"13\" lengthAdjust=\"spacingAndGlyphs\" textLength=\"65\" x=\"355\" y=\"204.0669\">«import»*</text></a><!--MD5=[d7bb3fb34add81b710575eb3799fa2ad]\n",
       "link E8 to E4--><a href=\"psysml:d1a96eaf-259a-4888-9f98-ae46b38eb818\" target=\"_top\" title=\"psysml:d1a96eaf-259a-4888-9f98-ae46b38eb818\" xlink:actuate=\"onRequest\" xlink:href=\"psysml:d1a96eaf-259a-4888-9f98-ae46b38eb818\" xlink:show=\"new\" xlink:title=\"psysml:d1a96eaf-259a-4888-9f98-ae46b38eb818\" xlink:type=\"simple\"><path d=\"M259.15,392.74 C254.81,351.69 251.92,260.28 304,216 C318.15,203.97 458.18,221.45 471,208 C476.21,202.53 476.17,196.51 471,191 C461.4,180.77 357.64,189.08 345,183 C333.67,177.55 323.59,168.63 315.26,159.29 \" fill=\"none\" id=\"E8-&gt;E4\" style=\"stroke: #A80036; stroke-width: 1.0;\"/><polygon fill=\"none\" points=\"309.47,163.25,302.61,143.2,320.48,154.6,309.47,163.25\" style=\"stroke: #A80036; stroke-width: 1.0;\"/></a><!--MD5=[1429b8d4231b68b0d5d2a0aca923ff56]\n",
       "@startuml\r\n",
       "skinparam ranksep 10\r\n",
       "skinparam rectangle {\r\n",
       " backgroundColor<<block>> LightGreen\r\n",
       "}\r\n",
       "skinparam wrapWidth 300\r\n",
       "hide circle\r\n",
       "\r\n",
       "package \"ImportTest\" as E1  [[psysml:4ef55e29-a78c-4120-8a0e-706d60f3b916 ]]  {\r\n",
       "package \"Pkg1\" as E2  [[psysml:fc5e85ef-31d8-4451-b981-c90381fde50e ]]  {\r\n",
       "rec usage \"p11: P211\" as E3  [[psysml:fe6123c1-7336-461e-a67a-648132fed175 ]] {\r\n",
       "}\r\n",
       "rec def \"P12\" as E4  <<(T,blue) part  def>> [[psysml:1380541e-fc30-40f5-9a60-edda9aa0065e ]] {\r\n",
       "}\r\n",
       "}\r\n",
       "package \"Pkg2\" as E5  [[psysml:c270e78f-1935-46bf-a024-66cb4836716b ]]  {\r\n",
       "package \"Pkg21\" as E6  [[psysml:ed944fef-70b9-4524-9917-716ca36e9ac1 ]]  {\r\n",
       "package \"Pkg211\" as E7  [[psysml:9f58dbb8-6a8c-4281-a4ad-0fbab28478f4 ]]  {\r\n",
       "rec def \"P211\" as E8  <<(T,blue) part  def>> [[psysml:4acbdff1-c8fe-48cb-afd1-a68daa112cad ]] {\r\n",
       "}\r\n",
       "}\r\n",
       "}\r\n",
       "}\r\n",
       "}\r\n",
       "E2 ..> E8 [[psysml:4f20d9a0-229b-41ce-a3f9-ec650db8275f ]] : <<import>>\r\n",
       "E2 ..> E6 [[psysml:682e8ea7-bcd5-404d-bf47-54c119ed8bb7 ]] : <<import>>*\r\n",
       "E2 ..> E7 [[psysml:60c32f43-2902-493b-8362-f480edbb78ed ]] : <<import>>*::**\r\n",
       "E5 ..> E2 [[psysml:a29f5286-6760-4cc8-8866-2ed3ee4f3eda ]] : <<import>>*\r\n",
       "E8 - -|> E4 [[psysml:d1a96eaf-259a-4888-9f98-ae46b38eb818 ]] \r\n",
       "@enduml\r\n",
       "\n",
       "PlantUML version 1.2020.13(Sat Jun 13 12:26:38 UTC 2020)\n",
       "(EPL source distribution)\n",
       "Java Runtime: OpenJDK Runtime Environment\n",
       "JVM: OpenJDK 64-Bit Server VM\n",
       "Default Encoding: UTF-8\n",
       "Language: en\n",
       "Country: null\n",
       "--></g></svg>"
      ]
     },
     "execution_count": 26,
     "metadata": {},
     "output_type": "execute_result"
    }
   ],
   "source": [
    "%viz --style=\"STDCOLOR\" --view=\"Interconnection\" \"ImportTest\""
   ]
  },
  {
   "cell_type": "code",
   "execution_count": 27,
   "id": "de979775",
   "metadata": {
    "execution": {
     "iopub.execute_input": "2022-02-18T10:46:59.463493Z",
     "iopub.status.busy": "2022-02-18T10:46:59.463075Z",
     "iopub.status.idle": "2022-02-18T10:46:59.468237Z",
     "shell.execute_reply": "2022-02-18T10:46:59.467885Z"
    }
   },
   "outputs": [
    {
     "data": {
      "image/svg+xml": [
       "<?xml version=\"1.0\" encoding=\"UTF-8\" standalone=\"no\"?><svg xmlns=\"http://www.w3.org/2000/svg\" xmlns:xlink=\"http://www.w3.org/1999/xlink\" contentScriptType=\"application/ecmascript\" contentStyleType=\"text/css\" height=\"12px\" preserveAspectRatio=\"none\" style=\"width:12px;height:12px;\" version=\"1.1\" viewBox=\"0 0 12 12\" width=\"12px\" zoomAndPan=\"magnify\"><defs/><g><!--MD5=[9863325348a96a77dacc89509d8ee65e]\n",
       "@startuml\r\n",
       "skinparam ranksep 8\r\n",
       "skinparam wrapWidth 300\r\n",
       "hide circle\r\n",
       "\r\n",
       "@enduml\r\n",
       "\n",
       "PlantUML version 1.2020.13(Sat Jun 13 12:26:38 UTC 2020)\n",
       "(EPL source distribution)\n",
       "Java Runtime: OpenJDK Runtime Environment\n",
       "JVM: OpenJDK 64-Bit Server VM\n",
       "Default Encoding: UTF-8\n",
       "Language: en\n",
       "Country: null\n",
       "--></g></svg>"
      ]
     },
     "execution_count": 27,
     "metadata": {},
     "output_type": "execute_result"
    }
   ],
   "source": [
    "%viz --style=\"STDCOLOR\" --view=\"Action\" \"ImportTest\""
   ]
  },
  {
   "cell_type": "code",
   "execution_count": 28,
   "id": "b4cc66c8",
   "metadata": {
    "execution": {
     "iopub.execute_input": "2022-02-18T10:46:59.518380Z",
     "iopub.status.busy": "2022-02-18T10:46:59.517973Z",
     "iopub.status.idle": "2022-02-18T10:46:59.523223Z",
     "shell.execute_reply": "2022-02-18T10:46:59.522903Z"
    }
   },
   "outputs": [
    {
     "data": {
      "image/svg+xml": [
       "<?xml version=\"1.0\" encoding=\"UTF-8\" standalone=\"no\"?><svg xmlns=\"http://www.w3.org/2000/svg\" xmlns:xlink=\"http://www.w3.org/1999/xlink\" contentScriptType=\"application/ecmascript\" contentStyleType=\"text/css\" height=\"12px\" preserveAspectRatio=\"none\" style=\"width:12px;height:12px;\" version=\"1.1\" viewBox=\"0 0 12 12\" width=\"12px\" zoomAndPan=\"magnify\"><defs/><g><!--MD5=[6c4bca67b4d71758159a5a7f1f1e1fc2]\n",
       "@startuml\r\n",
       "skinparam roundcorner 20\r\n",
       "skinparam BoxPadding 20\r\n",
       "skinparam SequenceBoxBackgroundColor #white\r\n",
       "skinparam style strictuml\r\n",
       "skinparam maxMessageSize 100\r\n",
       "skinparam wrapWidth 300\r\n",
       "hide circle\r\n",
       "\r\n",
       "@enduml\r\n",
       "\n",
       "PlantUML version 1.2020.13(Sat Jun 13 12:26:38 UTC 2020)\n",
       "(EPL source distribution)\n",
       "Java Runtime: OpenJDK Runtime Environment\n",
       "JVM: OpenJDK 64-Bit Server VM\n",
       "Default Encoding: UTF-8\n",
       "Language: en\n",
       "Country: null\n",
       "--></g></svg>"
      ]
     },
     "execution_count": 28,
     "metadata": {},
     "output_type": "execute_result"
    }
   ],
   "source": [
    "%viz --style=\"STDCOLOR\" --view=\"Sequence\" \"ImportTest\""
   ]
  },
  {
   "cell_type": "code",
   "execution_count": 29,
   "id": "5bf44069",
   "metadata": {
    "execution": {
     "iopub.execute_input": "2022-02-18T10:46:59.573258Z",
     "iopub.status.busy": "2022-02-18T10:46:59.572804Z",
     "iopub.status.idle": "2022-02-18T10:46:59.610623Z",
     "shell.execute_reply": "2022-02-18T10:46:59.610231Z"
    }
   },
   "outputs": [
    {
     "data": {
      "image/svg+xml": [
       "<?xml version=\"1.0\" encoding=\"UTF-8\" standalone=\"no\"?><svg xmlns=\"http://www.w3.org/2000/svg\" xmlns:xlink=\"http://www.w3.org/1999/xlink\" contentScriptType=\"application/ecmascript\" contentStyleType=\"text/css\" height=\"590px\" preserveAspectRatio=\"none\" style=\"width:522px;height:590px;\" version=\"1.1\" viewBox=\"0 0 522 590\" width=\"522px\" zoomAndPan=\"magnify\"><defs><filter height=\"300%\" id=\"f1v7pax98no9yc\" width=\"300%\" x=\"-1\" y=\"-1\"><feGaussianBlur result=\"blurOut\" stdDeviation=\"2.0\"/><feColorMatrix in=\"blurOut\" result=\"blurOut2\" type=\"matrix\" values=\"0 0 0 0 0 0 0 0 0 0 0 0 0 0 0 0 0 0 .4 0\"/><feOffset dx=\"4.0\" dy=\"4.0\" in=\"blurOut2\" result=\"blurOut3\"/><feBlend in=\"SourceGraphic\" in2=\"blurOut3\" mode=\"normal\"/></filter></defs><g><!--MD5=[fbc87193dbaf4d95561dea2c320d4a47]\n",
       "cluster E1--><a href=\"psysml:4ef55e29-a78c-4120-8a0e-706d60f3b916\" target=\"_top\" title=\"psysml:4ef55e29-a78c-4120-8a0e-706d60f3b916\" xlink:actuate=\"onRequest\" xlink:href=\"psysml:4ef55e29-a78c-4120-8a0e-706d60f3b916\" xlink:show=\"new\" xlink:title=\"psysml:4ef55e29-a78c-4120-8a0e-706d60f3b916\" xlink:type=\"simple\"><polygon fill=\"#FFFFFF\" filter=\"url(#f1v7pax98no9yc)\" points=\"16,6,97,6,104,28.2969,500,28.2969,500,578,16,578,16,6\" style=\"stroke: #000000; stroke-width: 1.5;\"/><line style=\"stroke: #000000; stroke-width: 1.5;\" x1=\"16\" x2=\"104\" y1=\"28.2969\" y2=\"28.2969\"/><text fill=\"#000000\" font-family=\"sans-serif\" font-size=\"14\" font-weight=\"bold\" lengthAdjust=\"spacingAndGlyphs\" textLength=\"75\" x=\"20\" y=\"20.9951\">ImportTest</text></a><!--MD5=[e4f7fae6ed58524ba242bb0b0d3be6b7]\n",
       "cluster E2--><a href=\"psysml:fc5e85ef-31d8-4451-b981-c90381fde50e\" target=\"_top\" title=\"psysml:fc5e85ef-31d8-4451-b981-c90381fde50e\" xlink:actuate=\"onRequest\" xlink:href=\"psysml:fc5e85ef-31d8-4451-b981-c90381fde50e\" xlink:show=\"new\" xlink:title=\"psysml:fc5e85ef-31d8-4451-b981-c90381fde50e\" xlink:type=\"simple\"><polygon fill=\"#FFFFFF\" filter=\"url(#f1v7pax98no9yc)\" points=\"222,57,263,57,270,79.2969,468,79.2969,468,170,222,170,222,57\" style=\"stroke: #000000; stroke-width: 1.5;\"/><line style=\"stroke: #000000; stroke-width: 1.5;\" x1=\"222\" x2=\"270\" y1=\"79.2969\" y2=\"79.2969\"/><text fill=\"#000000\" font-family=\"sans-serif\" font-size=\"14\" font-weight=\"bold\" lengthAdjust=\"spacingAndGlyphs\" textLength=\"35\" x=\"226\" y=\"71.9951\">Pkg1</text></a><!--MD5=[de5ec2e2e8f62f467e546659f5068c88]\n",
       "cluster E5--><a href=\"psysml:c270e78f-1935-46bf-a024-66cb4836716b\" target=\"_top\" title=\"psysml:c270e78f-1935-46bf-a024-66cb4836716b\" xlink:actuate=\"onRequest\" xlink:href=\"psysml:c270e78f-1935-46bf-a024-66cb4836716b\" xlink:show=\"new\" xlink:title=\"psysml:c270e78f-1935-46bf-a024-66cb4836716b\" xlink:type=\"simple\"><polygon fill=\"#FFFFFF\" filter=\"url(#f1v7pax98no9yc)\" points=\"121,235,162,235,169,257.2969,434,257.2969,434,546,121,546,121,235\" style=\"stroke: #000000; stroke-width: 1.5;\"/><line style=\"stroke: #000000; stroke-width: 1.5;\" x1=\"121\" x2=\"169\" y1=\"257.2969\" y2=\"257.2969\"/><text fill=\"#000000\" font-family=\"sans-serif\" font-size=\"14\" font-weight=\"bold\" lengthAdjust=\"spacingAndGlyphs\" textLength=\"35\" x=\"125\" y=\"249.9951\">Pkg2</text></a><!--MD5=[14e3b0961a2654348d326746436168a1]\n",
       "cluster E6--><a href=\"psysml:ed944fef-70b9-4524-9917-716ca36e9ac1\" target=\"_top\" title=\"psysml:ed944fef-70b9-4524-9917-716ca36e9ac1\" xlink:actuate=\"onRequest\" xlink:href=\"psysml:ed944fef-70b9-4524-9917-716ca36e9ac1\" xlink:show=\"new\" xlink:title=\"psysml:ed944fef-70b9-4524-9917-716ca36e9ac1\" xlink:type=\"simple\"><polygon fill=\"#FFFFFF\" filter=\"url(#f1v7pax98no9yc)\" points=\"161,294,211,294,218,316.2969,386,316.2969,386,506,161,506,161,294\" style=\"stroke: #000000; stroke-width: 1.5;\"/><line style=\"stroke: #000000; stroke-width: 1.5;\" x1=\"161\" x2=\"218\" y1=\"316.2969\" y2=\"316.2969\"/><text fill=\"#000000\" font-family=\"sans-serif\" font-size=\"14\" font-weight=\"bold\" lengthAdjust=\"spacingAndGlyphs\" textLength=\"44\" x=\"165\" y=\"308.9951\">Pkg21</text></a><!--MD5=[168fadf3d0c3fd93dd5d6da1b1d7ab76]\n",
       "cluster E7--><a href=\"psysml:9f58dbb8-6a8c-4281-a4ad-0fbab28478f4\" target=\"_top\" title=\"psysml:9f58dbb8-6a8c-4281-a4ad-0fbab28478f4\" xlink:actuate=\"onRequest\" xlink:href=\"psysml:9f58dbb8-6a8c-4281-a4ad-0fbab28478f4\" xlink:show=\"new\" xlink:title=\"psysml:9f58dbb8-6a8c-4281-a4ad-0fbab28478f4\" xlink:type=\"simple\"><polygon fill=\"#FFFFFF\" filter=\"url(#f1v7pax98no9yc)\" points=\"209,353,268,353,275,375.2969,346,375.2969,346,466,209,466,209,353\" style=\"stroke: #000000; stroke-width: 1.5;\"/><line style=\"stroke: #000000; stroke-width: 1.5;\" x1=\"209\" x2=\"275\" y1=\"375.2969\" y2=\"375.2969\"/><text fill=\"#000000\" font-family=\"sans-serif\" font-size=\"14\" font-weight=\"bold\" lengthAdjust=\"spacingAndGlyphs\" textLength=\"53\" x=\"213\" y=\"367.9951\">Pkg211</text></a><!--MD5=[09b614a08d8cba4a07c9adeb5e0fee81]\n",
       "class E3--><a href=\"psysml:fe6123c1-7336-461e-a67a-648132fed175\" target=\"_top\" title=\"psysml:fe6123c1-7336-461e-a67a-648132fed175\" xlink:actuate=\"onRequest\" xlink:href=\"psysml:fe6123c1-7336-461e-a67a-648132fed175\" xlink:show=\"new\" xlink:title=\"psysml:fe6123c1-7336-461e-a67a-648132fed175\" xlink:type=\"simple\"><rect fill=\"#FEFECE\" filter=\"url(#f1v7pax98no9yc)\" height=\"45.9375\" id=\"E3\" rx=\"10\" ry=\"10\" style=\"stroke: #A80036; stroke-width: 1.5;\" width=\"74\" x=\"265\" y=\"100\"/><text fill=\"#000000\" font-family=\"sans-serif\" font-size=\"12\" font-style=\"italic\" lengthAdjust=\"spacingAndGlyphs\" textLength=\"40\" x=\"282\" y=\"116.1387\">«part»</text><text fill=\"#000000\" font-family=\"sans-serif\" font-size=\"12\" lengthAdjust=\"spacingAndGlyphs\" textLength=\"64\" x=\"268\" y=\"130.1074\">p11: P211</text><line style=\"stroke: #A80036; stroke-width: 1.5;\" x1=\"266\" x2=\"338\" y1=\"137.9375\" y2=\"137.9375\"/></a><!--MD5=[ebbe1d658d1005bcc118a6aa81145e00]\n",
       "class E4--><a href=\"psysml:1380541e-fc30-40f5-9a60-edda9aa0065e\" target=\"_top\" title=\"psysml:1380541e-fc30-40f5-9a60-edda9aa0065e\" xlink:actuate=\"onRequest\" xlink:href=\"psysml:1380541e-fc30-40f5-9a60-edda9aa0065e\" xlink:show=\"new\" xlink:title=\"psysml:1380541e-fc30-40f5-9a60-edda9aa0065e\" xlink:type=\"simple\"><rect fill=\"#FEFECE\" filter=\"url(#f1v7pax98no9yc)\" height=\"45.9375\" id=\"E4\" style=\"stroke: #A80036; stroke-width: 1.5;\" width=\"70\" x=\"374\" y=\"100\"/><text fill=\"#000000\" font-family=\"sans-serif\" font-size=\"12\" font-style=\"italic\" lengthAdjust=\"spacingAndGlyphs\" textLength=\"68\" x=\"375\" y=\"116.1387\">«part  def»</text><text fill=\"#000000\" font-family=\"sans-serif\" font-size=\"12\" lengthAdjust=\"spacingAndGlyphs\" textLength=\"24\" x=\"397\" y=\"130.1074\">P12</text><line style=\"stroke: #A80036; stroke-width: 1.5;\" x1=\"375\" x2=\"443\" y1=\"137.9375\" y2=\"137.9375\"/></a><!--MD5=[b9389687b975829384b498ac4b7476b2]\n",
       "class E8--><a href=\"psysml:4acbdff1-c8fe-48cb-afd1-a68daa112cad\" target=\"_top\" title=\"psysml:4acbdff1-c8fe-48cb-afd1-a68daa112cad\" xlink:actuate=\"onRequest\" xlink:href=\"psysml:4acbdff1-c8fe-48cb-afd1-a68daa112cad\" xlink:show=\"new\" xlink:title=\"psysml:4acbdff1-c8fe-48cb-afd1-a68daa112cad\" xlink:type=\"simple\"><rect fill=\"#FEFECE\" filter=\"url(#f1v7pax98no9yc)\" height=\"45.9375\" id=\"E8\" style=\"stroke: #A80036; stroke-width: 1.5;\" width=\"70\" x=\"252\" y=\"396\"/><text fill=\"#000000\" font-family=\"sans-serif\" font-size=\"12\" font-style=\"italic\" lengthAdjust=\"spacingAndGlyphs\" textLength=\"68\" x=\"253\" y=\"412.1387\">«part  def»</text><text fill=\"#000000\" font-family=\"sans-serif\" font-size=\"12\" lengthAdjust=\"spacingAndGlyphs\" textLength=\"32\" x=\"271\" y=\"426.1074\">P211</text><line style=\"stroke: #A80036; stroke-width: 1.5;\" x1=\"253\" x2=\"321\" y1=\"433.9375\" y2=\"433.9375\"/></a><!--MD5=[b0060bfdb0500b904584095522b4da3c]\n",
       "link E2 to E8--><a href=\"psysml:4f20d9a0-229b-41ce-a3f9-ec650db8275f\" target=\"_top\" title=\"psysml:4f20d9a0-229b-41ce-a3f9-ec650db8275f\" xlink:actuate=\"onRequest\" xlink:href=\"psysml:4f20d9a0-229b-41ce-a3f9-ec650db8275f\" xlink:show=\"new\" xlink:title=\"psysml:4f20d9a0-229b-41ce-a3f9-ec650db8275f\" xlink:type=\"simple\"><path d=\"M239.5673,170.044 C239.9187,170.8643 240.2829,171.6796 240.6605,172.4884 C241.4156,174.106 242.2242,175.6975 243.0899,177.2503 C244.8213,180.3558 246.7813,183.3063 249,186 C253.8,191.83 259.79,187.73 264,194 C304.62,254.46 298.3,345.57 291.84,390.69 \" fill=\"none\" id=\"E2-&gt;E8\" style=\"stroke: #A80036; stroke-width: 1.0; stroke-dasharray: 7.0,7.0;\"/><polygon fill=\"#A80036\" points=\"291.1,395.69,296.3662,387.3673,291.8271,390.7431,288.4512,386.204,291.1,395.69\" style=\"stroke: #A80036; stroke-width: 1.0;\"/><text fill=\"#000000\" font-family=\"sans-serif\" font-size=\"13\" lengthAdjust=\"spacingAndGlyphs\" textLength=\"58\" x=\"274\" y=\"207.0669\">«import»</text></a><!--MD5=[e3e28c1befcf002155aa15e1416b4315]\n",
       "link E2 to E6--><a href=\"psysml:682e8ea7-bcd5-404d-bf47-54c119ed8bb7\" target=\"_top\" title=\"psysml:682e8ea7-bcd5-404d-bf47-54c119ed8bb7\" xlink:actuate=\"onRequest\" xlink:href=\"psysml:682e8ea7-bcd5-404d-bf47-54c119ed8bb7\" xlink:show=\"new\" xlink:title=\"psysml:682e8ea7-bcd5-404d-bf47-54c119ed8bb7\" xlink:type=\"simple\"><path d=\"M221.7454,125.2359 C221.6297,125.2555 221.5129,125.2754 221.395,125.2955 C221.1593,125.3358 220.9193,125.3771 220.6752,125.4195 C220.1869,125.5042 219.6819,125.5933 219.1609,125.6868 C217.0769,126.0607 214.7359,126.5053 212.1769,127.0288 C201.9406,129.1225 188.215,132.4775 173.4875,137.615 C144.0325,147.89 110.57,165.295 93,194 C65.99,238.135 83.98,293.0875 109.2162,337.5175 C121.8344,359.7325 136.2641,379.3169 147.7861,393.6031 C150.6666,397.1747 153.3654,400.4151 155.8087,403.2827 C157.0304,404.7165 158.1881,406.0571 159.2728,407.2993 C159.8152,407.9204 160.3393,408.5169 160.8439,409.0882 \" fill=\"none\" id=\"E2-&gt;E6\" style=\"stroke: #A80036; stroke-width: 1.0; stroke-dasharray: 7.0,7.0;\"/><polygon fill=\"#A80036\" points=\"160.8439,409.0882,157.8829,399.695,157.5335,405.341,151.8875,404.9916,160.8439,409.0882\" style=\"stroke: #A80036; stroke-width: 1.0;\"/><text fill=\"#000000\" font-family=\"sans-serif\" font-size=\"13\" lengthAdjust=\"spacingAndGlyphs\" textLength=\"65\" x=\"94\" y=\"207.0669\">«import»*</text></a><!--MD5=[e3d2a08a9c9236652057e8ed0cbc9b62]\n",
       "link E2 to E7--><a href=\"psysml:60c32f43-2902-493b-8362-f480edbb78ed\" target=\"_top\" title=\"psysml:60c32f43-2902-493b-8362-f480edbb78ed\" xlink:actuate=\"onRequest\" xlink:href=\"psysml:60c32f43-2902-493b-8362-f480edbb78ed\" xlink:show=\"new\" xlink:title=\"psysml:60c32f43-2902-493b-8362-f480edbb78ed\" xlink:type=\"simple\"><path d=\"M221.8807,130.2617 C221.7401,130.3761 221.5982,130.4918 221.4548,130.6091 C216.8678,134.36 210.8594,139.5688 204.5113,145.875 C191.815,158.4875 177.76,175.49 171,194 C168.41,201.1 166.18,205.18 171,211 C183.11,225.64 200.74,204.48 213,219 C227.045,235.63 228.2325,284.0975 225.8175,329.0338 C225.5156,334.6508 225.1575,340.2126 224.7611,345.6502 C224.662,347.0096 224.5605,348.3613 224.4569,349.7041 C224.4051,350.3755 224.3528,351.0446 224.3,351.7115 C224.2736,352.0449 224.2471,352.3777 224.2204,352.71 \" fill=\"none\" id=\"E2-&gt;E7\" style=\"stroke: #A80036; stroke-width: 1.0; stroke-dasharray: 7.0,7.0;\"/><polygon fill=\"#A80036\" points=\"224.2204,352.71,228.9272,344.0586,224.6202,347.726,220.9528,343.419,224.2204,352.71\" style=\"stroke: #A80036; stroke-width: 1.0;\"/><text fill=\"#000000\" font-family=\"sans-serif\" font-size=\"13\" lengthAdjust=\"spacingAndGlyphs\" textLength=\"87\" x=\"172\" y=\"207.0669\">«import»*::**</text></a><!--MD5=[ca5a752d6098d8a44b3f88316e7452d1]\n",
       "link E3 to E8--><a href=\"psysml:37accf74-aaef-4298-a8d1-458e277c829e\" target=\"_top\" title=\"psysml:37accf74-aaef-4298-a8d1-458e277c829e\" xlink:actuate=\"onRequest\" xlink:href=\"psysml:37accf74-aaef-4298-a8d1-458e277c829e\" xlink:show=\"new\" xlink:title=\"psysml:37accf74-aaef-4298-a8d1-458e277c829e\" xlink:type=\"simple\"><path d=\"M321.59,146.07 C339.73,166.51 363.93,193.81 364,194 C366.68,201.06 368.76,205.13 364,211 C353.13,224.4 338.12,206.71 326,219 C285.31,260.27 280.82,330.75 282.81,375.81 \" fill=\"none\" id=\"E3-&gt;E8\" style=\"stroke: #A80036; stroke-width: 1.0;\"/><polygon fill=\"#FFFFFF\" points=\"284.19,395.93,275.9039,377.4546,289.8709,376.4948,284.19,395.93\" style=\"stroke: #A80036; stroke-width: 1.0;\"/><ellipse cx=\"277.5084\" cy=\"371.6309\" fill=\"#A80036\" rx=\"2\" ry=\"2\" style=\"stroke: #A80036; stroke-width: 1.0;\"/><ellipse cx=\"287.4849\" cy=\"370.9453\" fill=\"#A80036\" rx=\"2\" ry=\"2\" style=\"stroke: #A80036; stroke-width: 1.0;\"/></a><!--MD5=[15ebcb19ae302d9b601edb458606d402]\n",
       "link E5 to E2--><a href=\"psysml:a29f5286-6760-4cc8-8866-2ed3ee4f3eda\" target=\"_top\" title=\"psysml:a29f5286-6760-4cc8-8866-2ed3ee4f3eda\" xlink:actuate=\"onRequest\" xlink:href=\"psysml:a29f5286-6760-4cc8-8866-2ed3ee4f3eda\" xlink:show=\"new\" xlink:title=\"psysml:a29f5286-6760-4cc8-8866-2ed3ee4f3eda\" xlink:type=\"simple\"><path d=\"M377.9071,234.5987 C377.6837,234.254 377.4593,233.91 377.2338,233.5668 C376.3317,232.1941 375.413,230.8338 374.4773,229.4868 C372.6059,226.7928 370.6665,224.152 368.6567,221.572 C360.6175,211.2517 351.4513,201.9025 341,194 C324.63,181.62 264.96,198.91 249,186 C246.2863,183.805 243.9511,181.2325 241.9426,178.4061 C240.9384,176.9929 240.0159,175.5163 239.1685,173.9916 C238.7448,173.2292 238.3399,172.4549 237.953,171.6705 C237.7596,171.2782 237.5706,170.8835 237.3861,170.4865 C237.3399,170.3873 237.2941,170.2879 237.2485,170.1883 \" fill=\"none\" id=\"E5-&gt;E2\" style=\"stroke: #A80036; stroke-width: 1.0; stroke-dasharray: 7.0,7.0;\"/><polygon fill=\"#A80036\" points=\"237.2485,170.1883,237.3599,180.0366,239.3307,174.7341,244.6331,176.705,237.2485,170.1883\" style=\"stroke: #A80036; stroke-width: 1.0;\"/><text fill=\"#000000\" font-family=\"sans-serif\" font-size=\"13\" lengthAdjust=\"spacingAndGlyphs\" textLength=\"65\" x=\"356\" y=\"207.0669\">«import»*</text></a><!--MD5=[d7bb3fb34add81b710575eb3799fa2ad]\n",
       "link E8 to E4--><a href=\"psysml:d1a96eaf-259a-4888-9f98-ae46b38eb818\" target=\"_top\" title=\"psysml:d1a96eaf-259a-4888-9f98-ae46b38eb818\" xlink:actuate=\"onRequest\" xlink:href=\"psysml:d1a96eaf-259a-4888-9f98-ae46b38eb818\" xlink:show=\"new\" xlink:title=\"psysml:d1a96eaf-259a-4888-9f98-ae46b38eb818\" xlink:type=\"simple\"><path d=\"M283.6,395.87 C278.58,354.03 274.69,263.54 326,219 C338.77,207.91 466.36,223.27 478,211 C493.94,194.2 479.72,174.01 460.15,157.31 \" fill=\"none\" id=\"E8-&gt;E4\" style=\"stroke: #A80036; stroke-width: 1.0;\"/><polygon fill=\"none\" points=\"455.78,162.78,444.15,145.06,464.29,151.66,455.78,162.78\" style=\"stroke: #A80036; stroke-width: 1.0;\"/></a><!--MD5=[978a6489b81401e09713bf1e40fd83a7]\n",
       "@startuml\r\n",
       "skinparam wrapWidth 300\r\n",
       "hide circle\r\n",
       "\r\n",
       "package \"ImportTest\" as E1  [[psysml:4ef55e29-a78c-4120-8a0e-706d60f3b916 ]]  {\r\n",
       "package \"Pkg1\" as E2  [[psysml:fc5e85ef-31d8-4451-b981-c90381fde50e ]]  {\r\n",
       "comp usage \"p11: P211 \" as E3  <<(T,blue) part>> [[psysml:fe6123c1-7336-461e-a67a-648132fed175 ]] {\r\n",
       "}\r\n",
       "comp def \"P12\" as E4  <<(T,blue) part  def>> [[psysml:1380541e-fc30-40f5-9a60-edda9aa0065e ]] {\r\n",
       "}\r\n",
       "}\r\n",
       "package \"Pkg2\" as E5  [[psysml:c270e78f-1935-46bf-a024-66cb4836716b ]]  {\r\n",
       "package \"Pkg21\" as E6  [[psysml:ed944fef-70b9-4524-9917-716ca36e9ac1 ]]  {\r\n",
       "package \"Pkg211\" as E7  [[psysml:9f58dbb8-6a8c-4281-a4ad-0fbab28478f4 ]]  {\r\n",
       "comp def \"P211\" as E8  <<(T,blue) part  def>> [[psysml:4acbdff1-c8fe-48cb-afd1-a68daa112cad ]] {\r\n",
       "}\r\n",
       "}\r\n",
       "}\r\n",
       "}\r\n",
       "}\r\n",
       "E2 ..> E8 [[psysml:4f20d9a0-229b-41ce-a3f9-ec650db8275f ]] : <<import>>\r\n",
       "E2 ..> E6 [[psysml:682e8ea7-bcd5-404d-bf47-54c119ed8bb7 ]] : <<import>>*\r\n",
       "E2 ..> E7 [[psysml:60c32f43-2902-493b-8362-f480edbb78ed ]] : <<import>>*::**\r\n",
       "E3 - -:|> E8 [[psysml:37accf74-aaef-4298-a8d1-458e277c829e ]] \r\n",
       "E5 ..> E2 [[psysml:a29f5286-6760-4cc8-8866-2ed3ee4f3eda ]] : <<import>>*\r\n",
       "E8 - -|> E4 [[psysml:d1a96eaf-259a-4888-9f98-ae46b38eb818 ]] \r\n",
       "@enduml\r\n",
       "\n",
       "PlantUML version 1.2020.13(Sat Jun 13 12:26:38 UTC 2020)\n",
       "(EPL source distribution)\n",
       "Java Runtime: OpenJDK Runtime Environment\n",
       "JVM: OpenJDK 64-Bit Server VM\n",
       "Default Encoding: UTF-8\n",
       "Language: en\n",
       "Country: null\n",
       "--></g></svg>"
      ]
     },
     "execution_count": 29,
     "metadata": {},
     "output_type": "execute_result"
    }
   ],
   "source": [
    "%viz --style=\"STDCOLOR\" --view=\"MIXED\" \"ImportTest\""
   ]
  },
  {
   "cell_type": "code",
   "execution_count": 30,
   "id": "38711202",
   "metadata": {
    "execution": {
     "iopub.execute_input": "2022-02-18T10:46:59.660110Z",
     "iopub.status.busy": "2022-02-18T10:46:59.659710Z",
     "iopub.status.idle": "2022-02-18T10:46:59.720528Z",
     "shell.execute_reply": "2022-02-18T10:46:59.720173Z"
    }
   },
   "outputs": [
    {
     "data": {
      "image/svg+xml": [
       "<?xml version=\"1.0\" encoding=\"UTF-8\" standalone=\"no\"?><svg xmlns=\"http://www.w3.org/2000/svg\" xmlns:xlink=\"http://www.w3.org/1999/xlink\" contentScriptType=\"application/ecmascript\" contentStyleType=\"text/css\" height=\"584px\" preserveAspectRatio=\"none\" style=\"width:522px;height:584px;\" version=\"1.1\" viewBox=\"0 0 522 584\" width=\"522px\" zoomAndPan=\"magnify\"><defs><filter height=\"300%\" id=\"f80ta3gmhhru1\" width=\"300%\" x=\"-1\" y=\"-1\"><feGaussianBlur result=\"blurOut\" stdDeviation=\"2.0\"/><feColorMatrix in=\"blurOut\" result=\"blurOut2\" type=\"matrix\" values=\"0 0 0 0 0 0 0 0 0 0 0 0 0 0 0 0 0 0 .4 0\"/><feOffset dx=\"4.0\" dy=\"4.0\" in=\"blurOut2\" result=\"blurOut3\"/><feBlend in=\"SourceGraphic\" in2=\"blurOut3\" mode=\"normal\"/></filter></defs><g><!--MD5=[fbc87193dbaf4d95561dea2c320d4a47]\n",
       "cluster E1--><a href=\"psysml:4ef55e29-a78c-4120-8a0e-706d60f3b916\" target=\"_top\" title=\"psysml:4ef55e29-a78c-4120-8a0e-706d60f3b916\" xlink:actuate=\"onRequest\" xlink:href=\"psysml:4ef55e29-a78c-4120-8a0e-706d60f3b916\" xlink:show=\"new\" xlink:title=\"psysml:4ef55e29-a78c-4120-8a0e-706d60f3b916\" xlink:type=\"simple\"><polygon fill=\"#FFFFFF\" filter=\"url(#f80ta3gmhhru1)\" points=\"16,6,97,6,104,28.2969,500,28.2969,500,572,16,572,16,6\" style=\"stroke: #000000; stroke-width: 1.5;\"/><line style=\"stroke: #000000; stroke-width: 1.5;\" x1=\"16\" x2=\"104\" y1=\"28.2969\" y2=\"28.2969\"/><text fill=\"#000000\" font-family=\"sans-serif\" font-size=\"14\" font-weight=\"bold\" lengthAdjust=\"spacingAndGlyphs\" textLength=\"75\" x=\"20\" y=\"20.9951\">ImportTest</text></a><!--MD5=[e4f7fae6ed58524ba242bb0b0d3be6b7]\n",
       "cluster E2--><a href=\"psysml:fc5e85ef-31d8-4451-b981-c90381fde50e\" target=\"_top\" title=\"psysml:fc5e85ef-31d8-4451-b981-c90381fde50e\" xlink:actuate=\"onRequest\" xlink:href=\"psysml:fc5e85ef-31d8-4451-b981-c90381fde50e\" xlink:show=\"new\" xlink:title=\"psysml:fc5e85ef-31d8-4451-b981-c90381fde50e\" xlink:type=\"simple\"><polygon fill=\"#FFFFFF\" filter=\"url(#f80ta3gmhhru1)\" points=\"210,57,251,57,258,79.2969,468,79.2969,468,170,210,170,210,57\" style=\"stroke: #000000; stroke-width: 1.5;\"/><line style=\"stroke: #000000; stroke-width: 1.5;\" x1=\"210\" x2=\"258\" y1=\"79.2969\" y2=\"79.2969\"/><text fill=\"#000000\" font-family=\"sans-serif\" font-size=\"14\" font-weight=\"bold\" lengthAdjust=\"spacingAndGlyphs\" textLength=\"35\" x=\"214\" y=\"71.9951\">Pkg1</text></a><!--MD5=[de5ec2e2e8f62f467e546659f5068c88]\n",
       "cluster E5--><a href=\"psysml:c270e78f-1935-46bf-a024-66cb4836716b\" target=\"_top\" title=\"psysml:c270e78f-1935-46bf-a024-66cb4836716b\" xlink:actuate=\"onRequest\" xlink:href=\"psysml:c270e78f-1935-46bf-a024-66cb4836716b\" xlink:show=\"new\" xlink:title=\"psysml:c270e78f-1935-46bf-a024-66cb4836716b\" xlink:type=\"simple\"><polygon fill=\"#FFFFFF\" filter=\"url(#f80ta3gmhhru1)\" points=\"125,235,166,235,173,257.2969,432,257.2969,432,540,125,540,125,235\" style=\"stroke: #000000; stroke-width: 1.5;\"/><line style=\"stroke: #000000; stroke-width: 1.5;\" x1=\"125\" x2=\"173\" y1=\"257.2969\" y2=\"257.2969\"/><text fill=\"#000000\" font-family=\"sans-serif\" font-size=\"14\" font-weight=\"bold\" lengthAdjust=\"spacingAndGlyphs\" textLength=\"35\" x=\"129\" y=\"249.9951\">Pkg2</text></a><!--MD5=[14e3b0961a2654348d326746436168a1]\n",
       "cluster E6--><a href=\"psysml:ed944fef-70b9-4524-9917-716ca36e9ac1\" target=\"_top\" title=\"psysml:ed944fef-70b9-4524-9917-716ca36e9ac1\" xlink:actuate=\"onRequest\" xlink:href=\"psysml:ed944fef-70b9-4524-9917-716ca36e9ac1\" xlink:show=\"new\" xlink:title=\"psysml:ed944fef-70b9-4524-9917-716ca36e9ac1\" xlink:type=\"simple\"><polygon fill=\"#FFFFFF\" filter=\"url(#f80ta3gmhhru1)\" points=\"165,294,215,294,222,316.2969,384,316.2969,384,500,165,500,165,294\" style=\"stroke: #000000; stroke-width: 1.5;\"/><line style=\"stroke: #000000; stroke-width: 1.5;\" x1=\"165\" x2=\"222\" y1=\"316.2969\" y2=\"316.2969\"/><text fill=\"#000000\" font-family=\"sans-serif\" font-size=\"14\" font-weight=\"bold\" lengthAdjust=\"spacingAndGlyphs\" textLength=\"44\" x=\"169\" y=\"308.9951\">Pkg21</text></a><!--MD5=[168fadf3d0c3fd93dd5d6da1b1d7ab76]\n",
       "cluster E7--><a href=\"psysml:9f58dbb8-6a8c-4281-a4ad-0fbab28478f4\" target=\"_top\" title=\"psysml:9f58dbb8-6a8c-4281-a4ad-0fbab28478f4\" xlink:actuate=\"onRequest\" xlink:href=\"psysml:9f58dbb8-6a8c-4281-a4ad-0fbab28478f4\" xlink:show=\"new\" xlink:title=\"psysml:9f58dbb8-6a8c-4281-a4ad-0fbab28478f4\" xlink:type=\"simple\"><polygon fill=\"#FFFFFF\" filter=\"url(#f80ta3gmhhru1)\" points=\"213,353,272,353,279,375.2969,344,375.2969,344,460,213,460,213,353\" style=\"stroke: #000000; stroke-width: 1.5;\"/><line style=\"stroke: #000000; stroke-width: 1.5;\" x1=\"213\" x2=\"279\" y1=\"375.2969\" y2=\"375.2969\"/><text fill=\"#000000\" font-family=\"sans-serif\" font-size=\"14\" font-weight=\"bold\" lengthAdjust=\"spacingAndGlyphs\" textLength=\"53\" x=\"217\" y=\"367.9951\">Pkg211</text></a><!--MD5=[09b614a08d8cba4a07c9adeb5e0fee81]\n",
       "class E3--><a href=\"psysml:fe6123c1-7336-461e-a67a-648132fed175\" target=\"_top\" title=\"psysml:fe6123c1-7336-461e-a67a-648132fed175\" xlink:actuate=\"onRequest\" xlink:href=\"psysml:fe6123c1-7336-461e-a67a-648132fed175\" xlink:show=\"new\" xlink:title=\"psysml:fe6123c1-7336-461e-a67a-648132fed175\" xlink:type=\"simple\"><rect fill=\"#FEFECE\" filter=\"url(#f80ta3gmhhru1)\" height=\"45.9375\" id=\"E3\" rx=\"10\" ry=\"10\" style=\"stroke: #A80036; stroke-width: 1.5;\" width=\"100\" x=\"253\" y=\"100\"/><ellipse cx=\"268\" cy=\"118.9688\" fill=\"#32CD32\" rx=\"11\" ry=\"11\" style=\"stroke: #A80036; stroke-width: 1.0;\"/><path d=\"M264.8125,123.9688 L264.8125,113.375 L268.4219,113.375 Q269.6406,113.375 270.4375,113.8125 Q271.2344,114.2344 271.6094,114.9375 Q272,115.6406 272,116.4844 Q272,117.3281 271.625,118.0156 Q271.2656,118.7031 270.4688,119.125 Q269.6875,119.5313 268.5,119.5313 L266.7656,119.5313 L266.7656,123.9688 L264.8125,123.9688 Z M266.7656,117.9375 L268.375,117.9375 Q269.1875,117.9375 269.6094,117.5313 Q270.0313,117.125 270.0313,116.4844 Q270.0313,115.8594 269.6094,115.4531 Q269.1875,115.0469 268.3906,115.0469 L266.7656,115.0469 L266.7656,117.9375 Z \"/><text fill=\"#000000\" font-family=\"sans-serif\" font-size=\"12\" font-style=\"italic\" lengthAdjust=\"spacingAndGlyphs\" textLength=\"40\" x=\"296\" y=\"116.1387\">«part»</text><text fill=\"#000000\" font-family=\"sans-serif\" font-size=\"12\" lengthAdjust=\"spacingAndGlyphs\" textLength=\"64\" x=\"282\" y=\"130.1074\">p11: P211</text><line style=\"stroke: #A80036; stroke-width: 1.5;\" x1=\"254\" x2=\"352\" y1=\"137.9375\" y2=\"137.9375\"/></a><!--MD5=[ebbe1d658d1005bcc118a6aa81145e00]\n",
       "class E4--><a href=\"psysml:1380541e-fc30-40f5-9a60-edda9aa0065e\" target=\"_top\" title=\"psysml:1380541e-fc30-40f5-9a60-edda9aa0065e\" xlink:actuate=\"onRequest\" xlink:href=\"psysml:1380541e-fc30-40f5-9a60-edda9aa0065e\" xlink:show=\"new\" xlink:title=\"psysml:1380541e-fc30-40f5-9a60-edda9aa0065e\" xlink:type=\"simple\"><rect fill=\"#FEFECE\" filter=\"url(#f80ta3gmhhru1)\" height=\"40\" id=\"E4\" style=\"stroke: #A80036; stroke-width: 1.5;\" width=\"56\" x=\"388\" y=\"103\"/><ellipse cx=\"403\" cy=\"119\" fill=\"#008000\" rx=\"11\" ry=\"11\" style=\"stroke: #A80036; stroke-width: 1.0;\"/><path d=\"M399.875,124 L399.875,113.4063 L403.1094,113.4063 Q405.0156,113.4063 405.9219,114.1563 Q406.8438,114.9063 406.8438,116.0781 Q406.8438,116.7656 406.4531,117.4219 Q406.0781,118.0781 405.3594,118.375 Q406.2188,118.75 406.7344,119.4375 Q407.25,120.125 407.25,120.9375 Q407.25,122.3125 406.2188,123.1563 Q405.2031,124 403.0938,124 L399.875,124 Z M401.7969,117.6406 L402.9531,117.6406 Q404.0781,117.6406 404.4844,117.2656 Q404.9063,116.875 404.9063,116.25 Q404.9063,115.6719 404.4844,115.3125 Q404.0625,114.9531 403.125,114.9531 L401.7969,114.9531 L401.7969,117.6406 Z M401.7969,122.4219 L403.2969,122.4219 Q404.2031,122.4219 404.7344,122.0313 Q405.2656,121.6406 405.2656,120.8906 Q405.2656,120.125 404.7656,119.6563 Q404.2656,119.1719 403,119.1719 L401.7969,119.1719 L401.7969,122.4219 Z \"/><text fill=\"#000000\" font-family=\"sans-serif\" font-size=\"12\" lengthAdjust=\"spacingAndGlyphs\" textLength=\"24\" x=\"417\" y=\"123.1543\">P12</text><line style=\"stroke: #A80036; stroke-width: 1.5;\" x1=\"389\" x2=\"443\" y1=\"135\" y2=\"135\"/></a><!--MD5=[b9389687b975829384b498ac4b7476b2]\n",
       "class E8--><a href=\"psysml:4acbdff1-c8fe-48cb-afd1-a68daa112cad\" target=\"_top\" title=\"psysml:4acbdff1-c8fe-48cb-afd1-a68daa112cad\" xlink:actuate=\"onRequest\" xlink:href=\"psysml:4acbdff1-c8fe-48cb-afd1-a68daa112cad\" xlink:show=\"new\" xlink:title=\"psysml:4acbdff1-c8fe-48cb-afd1-a68daa112cad\" xlink:type=\"simple\"><rect fill=\"#FEFECE\" filter=\"url(#f80ta3gmhhru1)\" height=\"40\" id=\"E8\" style=\"stroke: #A80036; stroke-width: 1.5;\" width=\"64\" x=\"256\" y=\"396\"/><ellipse cx=\"271\" cy=\"412\" fill=\"#008000\" rx=\"11\" ry=\"11\" style=\"stroke: #A80036; stroke-width: 1.0;\"/><path d=\"M267.875,417 L267.875,406.4063 L271.1094,406.4063 Q273.0156,406.4063 273.9219,407.1563 Q274.8438,407.9063 274.8438,409.0781 Q274.8438,409.7656 274.4531,410.4219 Q274.0781,411.0781 273.3594,411.375 Q274.2188,411.75 274.7344,412.4375 Q275.25,413.125 275.25,413.9375 Q275.25,415.3125 274.2188,416.1563 Q273.2031,417 271.0938,417 L267.875,417 Z M269.7969,410.6406 L270.9531,410.6406 Q272.0781,410.6406 272.4844,410.2656 Q272.9063,409.875 272.9063,409.25 Q272.9063,408.6719 272.4844,408.3125 Q272.0625,407.9531 271.125,407.9531 L269.7969,407.9531 L269.7969,410.6406 Z M269.7969,415.4219 L271.2969,415.4219 Q272.2031,415.4219 272.7344,415.0313 Q273.2656,414.6406 273.2656,413.8906 Q273.2656,413.125 272.7656,412.6563 Q272.2656,412.1719 271,412.1719 L269.7969,412.1719 L269.7969,415.4219 Z \"/><text fill=\"#000000\" font-family=\"sans-serif\" font-size=\"12\" lengthAdjust=\"spacingAndGlyphs\" textLength=\"32\" x=\"285\" y=\"416.1543\">P211</text><line style=\"stroke: #A80036; stroke-width: 1.5;\" x1=\"257\" x2=\"319\" y1=\"428\" y2=\"428\"/></a><!--MD5=[b0060bfdb0500b904584095522b4da3c]\n",
       "link E2 to E8--><a href=\"psysml:4f20d9a0-229b-41ce-a3f9-ec650db8275f\" target=\"_top\" title=\"psysml:4f20d9a0-229b-41ce-a3f9-ec650db8275f\" xlink:actuate=\"onRequest\" xlink:href=\"psysml:4f20d9a0-229b-41ce-a3f9-ec650db8275f\" xlink:show=\"new\" xlink:title=\"psysml:4f20d9a0-229b-41ce-a3f9-ec650db8275f\" xlink:type=\"simple\"><path d=\"M226.445,170.2149 C226.5356,170.4166 226.6271,170.6178 226.7196,170.8186 C227.0896,171.6218 227.4752,172.4176 227.877,173.2043 C228.6805,174.7776 229.5489,176.3144 230.4873,177.8007 C232.3642,180.7733 234.5213,183.5438 237,186 C245.89,194.81 255.98,184.39 264,194 C311.29,250.66 301.32,345.99 293.25,390.6 \" fill=\"none\" id=\"E2-&gt;E8\" style=\"stroke: #A80036; stroke-width: 1.0; stroke-dasharray: 7.0,7.0;\"/><polygon fill=\"#A80036\" points=\"292.28,395.78,297.8815,387.6792,293.2083,390.8669,290.0206,386.1938,292.28,395.78\" style=\"stroke: #A80036; stroke-width: 1.0;\"/><text fill=\"#000000\" font-family=\"sans-serif\" font-size=\"13\" lengthAdjust=\"spacingAndGlyphs\" textLength=\"58\" x=\"275\" y=\"207.0669\">«import»</text></a><!--MD5=[e3e28c1befcf002155aa15e1416b4315]\n",
       "link E2 to E6--><a href=\"psysml:682e8ea7-bcd5-404d-bf47-54c119ed8bb7\" target=\"_top\" title=\"psysml:682e8ea7-bcd5-404d-bf47-54c119ed8bb7\" xlink:actuate=\"onRequest\" xlink:href=\"psysml:682e8ea7-bcd5-404d-bf47-54c119ed8bb7\" xlink:show=\"new\" xlink:title=\"psysml:682e8ea7-bcd5-404d-bf47-54c119ed8bb7\" xlink:type=\"simple\"><path d=\"M209.877,125.4701 C209.6546,125.5149 209.4281,125.5608 209.1978,125.6079 C208.737,125.702 208.2606,125.8006 207.769,125.9039 C205.8025,126.3169 203.5938,126.8041 201.1794,127.3719 C191.5219,129.6431 178.575,133.205 164.6925,138.4775 C136.9275,149.0225 105.42,166.41 89,194 C62.55,238.445 82.485,292.6775 109.5525,336.295 C123.0863,358.1038 138.4031,377.2587 150.5966,391.2097 C153.6449,394.6974 156.4981,397.8599 159.0793,400.6573 C160.37,402.056 161.5926,403.3634 162.7377,404.5745 C163.3103,405.1801 163.8635,405.7616 164.396,406.3185 C164.5292,406.4577 164.661,406.5953 164.7916,406.7314 \" fill=\"none\" id=\"E2-&gt;E6\" style=\"stroke: #A80036; stroke-width: 1.0; stroke-dasharray: 7.0,7.0;\"/><polygon fill=\"#A80036\" points=\"164.7916,406.7314,161.4484,397.4674,161.3305,403.123,155.6749,403.0051,164.7916,406.7314\" style=\"stroke: #A80036; stroke-width: 1.0;\"/><text fill=\"#000000\" font-family=\"sans-serif\" font-size=\"13\" lengthAdjust=\"spacingAndGlyphs\" textLength=\"65\" x=\"90\" y=\"207.0669\">«import»*</text></a><!--MD5=[e3d2a08a9c9236652057e8ed0cbc9b62]\n",
       "link E2 to E7--><a href=\"psysml:60c32f43-2902-493b-8362-f480edbb78ed\" target=\"_top\" title=\"psysml:60c32f43-2902-493b-8362-f480edbb78ed\" xlink:actuate=\"onRequest\" xlink:href=\"psysml:60c32f43-2902-493b-8362-f480edbb78ed\" xlink:show=\"new\" xlink:title=\"psysml:60c32f43-2902-493b-8362-f480edbb78ed\" xlink:type=\"simple\"><path d=\"M209.8469,130.2615 C209.6656,130.4079 209.482,130.5565 209.2962,130.7073 C208.9247,131.0089 208.5446,131.3194 208.1563,131.6385 C207.3799,132.2768 206.5713,132.9496 205.7358,133.6548 C199.0516,139.2966 190.6431,147.0119 183.1763,155.7113 C168.2425,173.11 157.075,194.445 171,211 C184.36,226.88 203.48,203.26 217,219 C230.97,235.27 232.1575,283.005 229.7613,327.29 C229.4617,332.8256 229.1062,338.3073 228.7126,343.667 C228.5159,346.3468 228.3096,348.9961 228.096,351.6063 C228.0693,351.9326 228.0425,352.2582 228.0156,352.5833 \" fill=\"none\" id=\"E2-&gt;E7\" style=\"stroke: #A80036; stroke-width: 1.0; stroke-dasharray: 7.0,7.0;\"/><polygon fill=\"#A80036\" points=\"228.0156,352.5833,232.7447,343.9441,228.4282,347.6003,224.772,343.2839,228.0156,352.5833\" style=\"stroke: #A80036; stroke-width: 1.0;\"/><text fill=\"#000000\" font-family=\"sans-serif\" font-size=\"13\" lengthAdjust=\"spacingAndGlyphs\" textLength=\"87\" x=\"172\" y=\"207.0669\">«import»*::**</text></a><!--MD5=[ca5a752d6098d8a44b3f88316e7452d1]\n",
       "link E3 to E8--><a href=\"psysml:37accf74-aaef-4298-a8d1-458e277c829e\" target=\"_top\" title=\"psysml:37accf74-aaef-4298-a8d1-458e277c829e\" xlink:actuate=\"onRequest\" xlink:href=\"psysml:37accf74-aaef-4298-a8d1-458e277c829e\" xlink:show=\"new\" xlink:title=\"psysml:37accf74-aaef-4298-a8d1-458e277c829e\" xlink:type=\"simple\"><path d=\"M335.65,146.11 C358.22,164.11 381.31,189.89 364,211 C352.51,225.02 336.72,206.08 324,219 C283.4,260.25 280.49,331.28 283.35,375.56 \" fill=\"none\" id=\"E3-&gt;E8\" style=\"stroke: #A80036; stroke-width: 1.0;\"/><polygon fill=\"#FFFFFF\" points=\"285.17,395.71,276.488,377.4173,290.4312,376.157,285.17,395.71\" style=\"stroke: #A80036; stroke-width: 1.0;\"/><ellipse cx=\"277.9668\" cy=\"371.5604\" fill=\"#A80036\" rx=\"2\" ry=\"2\" style=\"stroke: #A80036; stroke-width: 1.0;\"/><ellipse cx=\"287.9262\" cy=\"370.6602\" fill=\"#A80036\" rx=\"2\" ry=\"2\" style=\"stroke: #A80036; stroke-width: 1.0;\"/></a><!--MD5=[15ebcb19ae302d9b601edb458606d402]\n",
       "link E5 to E2--><a href=\"psysml:a29f5286-6760-4cc8-8866-2ed3ee4f3eda\" target=\"_top\" title=\"psysml:a29f5286-6760-4cc8-8866-2ed3ee4f3eda\" xlink:actuate=\"onRequest\" xlink:href=\"psysml:a29f5286-6760-4cc8-8866-2ed3ee4f3eda\" xlink:show=\"new\" xlink:title=\"psysml:a29f5286-6760-4cc8-8866-2ed3ee4f3eda\" xlink:type=\"simple\"><path d=\"M378.8691,234.9633 C378.4369,234.2811 378.0005,233.6019 377.56,232.9257 C376.679,231.5734 375.7812,230.2334 374.8664,228.9066 C373.0369,226.2531 371.1393,223.6526 369.171,221.1125 C361.298,210.952 352.295,201.7575 342,194 C323.31,179.92 255.27,200.62 237,186 C234.275,183.82 231.9314,181.2588 229.9168,178.4406 C228.9095,177.0315 227.9844,175.5581 227.1351,174.0361 C226.7104,173.2751 226.3046,172.5019 225.917,171.7185 C225.7231,171.3268 225.5338,170.9326 225.349,170.536 C225.3027,170.4368 225.2568,170.3375 225.2111,170.2381 \" fill=\"none\" id=\"E5-&gt;E2\" style=\"stroke: #A80036; stroke-width: 1.0; stroke-dasharray: 7.0,7.0;\"/><polygon fill=\"#A80036\" points=\"225.2111,170.2381,225.3326,180.0862,227.298,174.7818,232.6025,176.7472,225.2111,170.2381\" style=\"stroke: #A80036; stroke-width: 1.0;\"/><text fill=\"#000000\" font-family=\"sans-serif\" font-size=\"13\" lengthAdjust=\"spacingAndGlyphs\" textLength=\"65\" x=\"361\" y=\"207.0669\">«import»*</text></a><!--MD5=[d7bb3fb34add81b710575eb3799fa2ad]\n",
       "link E8 to E4--><a href=\"psysml:d1a96eaf-259a-4888-9f98-ae46b38eb818\" target=\"_top\" title=\"psysml:d1a96eaf-259a-4888-9f98-ae46b38eb818\" xlink:actuate=\"onRequest\" xlink:href=\"psysml:d1a96eaf-259a-4888-9f98-ae46b38eb818\" xlink:show=\"new\" xlink:title=\"psysml:d1a96eaf-259a-4888-9f98-ae46b38eb818\" xlink:type=\"simple\"><path d=\"M284.69,395.73 C279.07,355.79 272.78,263.97 324,219 C336.88,207.7 466.2,223.43 478,211 C494.2,193.93 479.12,172.42 459.77,155.05 \" fill=\"none\" id=\"E8-&gt;E4\" style=\"stroke: #A80036; stroke-width: 1.0;\"/><polygon fill=\"none\" points=\"455.36,160.48,444.24,142.45,464.18,149.61,455.36,160.48\" style=\"stroke: #A80036; stroke-width: 1.0;\"/></a><!--MD5=[3bb31506e55ed27df5468d380183e34f]\n",
       "@startuml\r\n",
       " \r\n",
       "package \"ImportTest\" as E1  [[psysml:4ef55e29-a78c-4120-8a0e-706d60f3b916 ]]  {\r\n",
       "package \"Pkg1\" as E2  [[psysml:fc5e85ef-31d8-4451-b981-c90381fde50e ]]  {\r\n",
       "comp usage \"p11: P211 \" as E3 << << (P,limegreen) part>> [[psysml:fe6123c1-7336-461e-a67a-648132fed175 ]] {\r\n",
       "}\r\n",
       "comp def \"P12\" as E4 << << (B,green) >> [[psysml:1380541e-fc30-40f5-9a60-edda9aa0065e ]] {\r\n",
       "}\r\n",
       "}\r\n",
       "package \"Pkg2\" as E5  [[psysml:c270e78f-1935-46bf-a024-66cb4836716b ]]  {\r\n",
       "package \"Pkg21\" as E6  [[psysml:ed944fef-70b9-4524-9917-716ca36e9ac1 ]]  {\r\n",
       "package \"Pkg211\" as E7  [[psysml:9f58dbb8-6a8c-4281-a4ad-0fbab28478f4 ]]  {\r\n",
       "comp def \"P211\" as E8 << << (B,green) >> [[psysml:4acbdff1-c8fe-48cb-afd1-a68daa112cad ]] {\r\n",
       "}\r\n",
       "}\r\n",
       "}\r\n",
       "}\r\n",
       "}\r\n",
       "E2 ..> E8 [[psysml:4f20d9a0-229b-41ce-a3f9-ec650db8275f ]] : <<import>>\r\n",
       "E2 ..> E6 [[psysml:682e8ea7-bcd5-404d-bf47-54c119ed8bb7 ]] : <<import>>*\r\n",
       "E2 ..> E7 [[psysml:60c32f43-2902-493b-8362-f480edbb78ed ]] : <<import>>*::**\r\n",
       "E3 - -:|> E8 [[psysml:37accf74-aaef-4298-a8d1-458e277c829e ]] \r\n",
       "E5 ..> E2 [[psysml:a29f5286-6760-4cc8-8866-2ed3ee4f3eda ]] : <<import>>*\r\n",
       "E8 - -|> E4 [[psysml:d1a96eaf-259a-4888-9f98-ae46b38eb818 ]] \r\n",
       "@enduml\r\n",
       "\n",
       "PlantUML version 1.2020.13(Sat Jun 13 12:26:38 UTC 2020)\n",
       "(EPL source distribution)\n",
       "Java Runtime: OpenJDK Runtime Environment\n",
       "JVM: OpenJDK 64-Bit Server VM\n",
       "Default Encoding: UTF-8\n",
       "Language: en\n",
       "Country: null\n",
       "--></g></svg>"
      ]
     },
     "execution_count": 30,
     "metadata": {},
     "output_type": "execute_result"
    }
   ],
   "source": [
    "%viz --style=\"PLANTUML\" --view=\"Default\" \"ImportTest\""
   ]
  },
  {
   "cell_type": "code",
   "execution_count": 31,
   "id": "37e4ff8a",
   "metadata": {
    "execution": {
     "iopub.execute_input": "2022-02-18T10:46:59.770251Z",
     "iopub.status.busy": "2022-02-18T10:46:59.769850Z",
     "iopub.status.idle": "2022-02-18T10:46:59.812272Z",
     "shell.execute_reply": "2022-02-18T10:46:59.811914Z"
    }
   },
   "outputs": [
    {
     "data": {
      "image/svg+xml": [
       "<?xml version=\"1.0\" encoding=\"UTF-8\" standalone=\"no\"?><svg xmlns=\"http://www.w3.org/2000/svg\" xmlns:xlink=\"http://www.w3.org/1999/xlink\" contentScriptType=\"application/ecmascript\" contentStyleType=\"text/css\" height=\"584px\" preserveAspectRatio=\"none\" style=\"width:522px;height:584px;\" version=\"1.1\" viewBox=\"0 0 522 584\" width=\"522px\" zoomAndPan=\"magnify\"><defs><filter height=\"300%\" id=\"f80ta3gmhhru1\" width=\"300%\" x=\"-1\" y=\"-1\"><feGaussianBlur result=\"blurOut\" stdDeviation=\"2.0\"/><feColorMatrix in=\"blurOut\" result=\"blurOut2\" type=\"matrix\" values=\"0 0 0 0 0 0 0 0 0 0 0 0 0 0 0 0 0 0 .4 0\"/><feOffset dx=\"4.0\" dy=\"4.0\" in=\"blurOut2\" result=\"blurOut3\"/><feBlend in=\"SourceGraphic\" in2=\"blurOut3\" mode=\"normal\"/></filter></defs><g><!--MD5=[fbc87193dbaf4d95561dea2c320d4a47]\n",
       "cluster E1--><a href=\"psysml:4ef55e29-a78c-4120-8a0e-706d60f3b916\" target=\"_top\" title=\"psysml:4ef55e29-a78c-4120-8a0e-706d60f3b916\" xlink:actuate=\"onRequest\" xlink:href=\"psysml:4ef55e29-a78c-4120-8a0e-706d60f3b916\" xlink:show=\"new\" xlink:title=\"psysml:4ef55e29-a78c-4120-8a0e-706d60f3b916\" xlink:type=\"simple\"><polygon fill=\"#FFFFFF\" filter=\"url(#f80ta3gmhhru1)\" points=\"16,6,97,6,104,28.2969,500,28.2969,500,572,16,572,16,6\" style=\"stroke: #000000; stroke-width: 1.5;\"/><line style=\"stroke: #000000; stroke-width: 1.5;\" x1=\"16\" x2=\"104\" y1=\"28.2969\" y2=\"28.2969\"/><text fill=\"#000000\" font-family=\"sans-serif\" font-size=\"14\" font-weight=\"bold\" lengthAdjust=\"spacingAndGlyphs\" textLength=\"75\" x=\"20\" y=\"20.9951\">ImportTest</text></a><!--MD5=[e4f7fae6ed58524ba242bb0b0d3be6b7]\n",
       "cluster E2--><a href=\"psysml:fc5e85ef-31d8-4451-b981-c90381fde50e\" target=\"_top\" title=\"psysml:fc5e85ef-31d8-4451-b981-c90381fde50e\" xlink:actuate=\"onRequest\" xlink:href=\"psysml:fc5e85ef-31d8-4451-b981-c90381fde50e\" xlink:show=\"new\" xlink:title=\"psysml:fc5e85ef-31d8-4451-b981-c90381fde50e\" xlink:type=\"simple\"><polygon fill=\"#FFFFFF\" filter=\"url(#f80ta3gmhhru1)\" points=\"210,57,251,57,258,79.2969,468,79.2969,468,170,210,170,210,57\" style=\"stroke: #000000; stroke-width: 1.5;\"/><line style=\"stroke: #000000; stroke-width: 1.5;\" x1=\"210\" x2=\"258\" y1=\"79.2969\" y2=\"79.2969\"/><text fill=\"#000000\" font-family=\"sans-serif\" font-size=\"14\" font-weight=\"bold\" lengthAdjust=\"spacingAndGlyphs\" textLength=\"35\" x=\"214\" y=\"71.9951\">Pkg1</text></a><!--MD5=[de5ec2e2e8f62f467e546659f5068c88]\n",
       "cluster E5--><a href=\"psysml:c270e78f-1935-46bf-a024-66cb4836716b\" target=\"_top\" title=\"psysml:c270e78f-1935-46bf-a024-66cb4836716b\" xlink:actuate=\"onRequest\" xlink:href=\"psysml:c270e78f-1935-46bf-a024-66cb4836716b\" xlink:show=\"new\" xlink:title=\"psysml:c270e78f-1935-46bf-a024-66cb4836716b\" xlink:type=\"simple\"><polygon fill=\"#FFFFFF\" filter=\"url(#f80ta3gmhhru1)\" points=\"125,235,166,235,173,257.2969,432,257.2969,432,540,125,540,125,235\" style=\"stroke: #000000; stroke-width: 1.5;\"/><line style=\"stroke: #000000; stroke-width: 1.5;\" x1=\"125\" x2=\"173\" y1=\"257.2969\" y2=\"257.2969\"/><text fill=\"#000000\" font-family=\"sans-serif\" font-size=\"14\" font-weight=\"bold\" lengthAdjust=\"spacingAndGlyphs\" textLength=\"35\" x=\"129\" y=\"249.9951\">Pkg2</text></a><!--MD5=[14e3b0961a2654348d326746436168a1]\n",
       "cluster E6--><a href=\"psysml:ed944fef-70b9-4524-9917-716ca36e9ac1\" target=\"_top\" title=\"psysml:ed944fef-70b9-4524-9917-716ca36e9ac1\" xlink:actuate=\"onRequest\" xlink:href=\"psysml:ed944fef-70b9-4524-9917-716ca36e9ac1\" xlink:show=\"new\" xlink:title=\"psysml:ed944fef-70b9-4524-9917-716ca36e9ac1\" xlink:type=\"simple\"><polygon fill=\"#FFFFFF\" filter=\"url(#f80ta3gmhhru1)\" points=\"165,294,215,294,222,316.2969,384,316.2969,384,500,165,500,165,294\" style=\"stroke: #000000; stroke-width: 1.5;\"/><line style=\"stroke: #000000; stroke-width: 1.5;\" x1=\"165\" x2=\"222\" y1=\"316.2969\" y2=\"316.2969\"/><text fill=\"#000000\" font-family=\"sans-serif\" font-size=\"14\" font-weight=\"bold\" lengthAdjust=\"spacingAndGlyphs\" textLength=\"44\" x=\"169\" y=\"308.9951\">Pkg21</text></a><!--MD5=[168fadf3d0c3fd93dd5d6da1b1d7ab76]\n",
       "cluster E7--><a href=\"psysml:9f58dbb8-6a8c-4281-a4ad-0fbab28478f4\" target=\"_top\" title=\"psysml:9f58dbb8-6a8c-4281-a4ad-0fbab28478f4\" xlink:actuate=\"onRequest\" xlink:href=\"psysml:9f58dbb8-6a8c-4281-a4ad-0fbab28478f4\" xlink:show=\"new\" xlink:title=\"psysml:9f58dbb8-6a8c-4281-a4ad-0fbab28478f4\" xlink:type=\"simple\"><polygon fill=\"#FFFFFF\" filter=\"url(#f80ta3gmhhru1)\" points=\"213,353,272,353,279,375.2969,344,375.2969,344,460,213,460,213,353\" style=\"stroke: #000000; stroke-width: 1.5;\"/><line style=\"stroke: #000000; stroke-width: 1.5;\" x1=\"213\" x2=\"279\" y1=\"375.2969\" y2=\"375.2969\"/><text fill=\"#000000\" font-family=\"sans-serif\" font-size=\"14\" font-weight=\"bold\" lengthAdjust=\"spacingAndGlyphs\" textLength=\"53\" x=\"217\" y=\"367.9951\">Pkg211</text></a><!--MD5=[09b614a08d8cba4a07c9adeb5e0fee81]\n",
       "class E3--><a href=\"psysml:fe6123c1-7336-461e-a67a-648132fed175\" target=\"_top\" title=\"psysml:fe6123c1-7336-461e-a67a-648132fed175\" xlink:actuate=\"onRequest\" xlink:href=\"psysml:fe6123c1-7336-461e-a67a-648132fed175\" xlink:show=\"new\" xlink:title=\"psysml:fe6123c1-7336-461e-a67a-648132fed175\" xlink:type=\"simple\"><rect fill=\"#FEFECE\" filter=\"url(#f80ta3gmhhru1)\" height=\"45.9375\" id=\"E3\" rx=\"10\" ry=\"10\" style=\"stroke: #A80036; stroke-width: 1.5;\" width=\"100\" x=\"253\" y=\"100\"/><ellipse cx=\"268\" cy=\"118.9688\" fill=\"#32CD32\" rx=\"11\" ry=\"11\" style=\"stroke: #A80036; stroke-width: 1.0;\"/><path d=\"M264.8125,123.9688 L264.8125,113.375 L268.4219,113.375 Q269.6406,113.375 270.4375,113.8125 Q271.2344,114.2344 271.6094,114.9375 Q272,115.6406 272,116.4844 Q272,117.3281 271.625,118.0156 Q271.2656,118.7031 270.4688,119.125 Q269.6875,119.5313 268.5,119.5313 L266.7656,119.5313 L266.7656,123.9688 L264.8125,123.9688 Z M266.7656,117.9375 L268.375,117.9375 Q269.1875,117.9375 269.6094,117.5313 Q270.0313,117.125 270.0313,116.4844 Q270.0313,115.8594 269.6094,115.4531 Q269.1875,115.0469 268.3906,115.0469 L266.7656,115.0469 L266.7656,117.9375 Z \"/><text fill=\"#000000\" font-family=\"sans-serif\" font-size=\"12\" font-style=\"italic\" lengthAdjust=\"spacingAndGlyphs\" textLength=\"40\" x=\"296\" y=\"116.1387\">«part»</text><text fill=\"#000000\" font-family=\"sans-serif\" font-size=\"12\" lengthAdjust=\"spacingAndGlyphs\" textLength=\"64\" x=\"282\" y=\"130.1074\">p11: P211</text><line style=\"stroke: #A80036; stroke-width: 1.5;\" x1=\"254\" x2=\"352\" y1=\"137.9375\" y2=\"137.9375\"/></a><!--MD5=[ebbe1d658d1005bcc118a6aa81145e00]\n",
       "class E4--><a href=\"psysml:1380541e-fc30-40f5-9a60-edda9aa0065e\" target=\"_top\" title=\"psysml:1380541e-fc30-40f5-9a60-edda9aa0065e\" xlink:actuate=\"onRequest\" xlink:href=\"psysml:1380541e-fc30-40f5-9a60-edda9aa0065e\" xlink:show=\"new\" xlink:title=\"psysml:1380541e-fc30-40f5-9a60-edda9aa0065e\" xlink:type=\"simple\"><rect fill=\"#FEFECE\" filter=\"url(#f80ta3gmhhru1)\" height=\"40\" id=\"E4\" style=\"stroke: #A80036; stroke-width: 1.5;\" width=\"56\" x=\"388\" y=\"103\"/><ellipse cx=\"403\" cy=\"119\" fill=\"#008000\" rx=\"11\" ry=\"11\" style=\"stroke: #A80036; stroke-width: 1.0;\"/><path d=\"M399.875,124 L399.875,113.4063 L403.1094,113.4063 Q405.0156,113.4063 405.9219,114.1563 Q406.8438,114.9063 406.8438,116.0781 Q406.8438,116.7656 406.4531,117.4219 Q406.0781,118.0781 405.3594,118.375 Q406.2188,118.75 406.7344,119.4375 Q407.25,120.125 407.25,120.9375 Q407.25,122.3125 406.2188,123.1563 Q405.2031,124 403.0938,124 L399.875,124 Z M401.7969,117.6406 L402.9531,117.6406 Q404.0781,117.6406 404.4844,117.2656 Q404.9063,116.875 404.9063,116.25 Q404.9063,115.6719 404.4844,115.3125 Q404.0625,114.9531 403.125,114.9531 L401.7969,114.9531 L401.7969,117.6406 Z M401.7969,122.4219 L403.2969,122.4219 Q404.2031,122.4219 404.7344,122.0313 Q405.2656,121.6406 405.2656,120.8906 Q405.2656,120.125 404.7656,119.6563 Q404.2656,119.1719 403,119.1719 L401.7969,119.1719 L401.7969,122.4219 Z \"/><text fill=\"#000000\" font-family=\"sans-serif\" font-size=\"12\" lengthAdjust=\"spacingAndGlyphs\" textLength=\"24\" x=\"417\" y=\"123.1543\">P12</text><line style=\"stroke: #A80036; stroke-width: 1.5;\" x1=\"389\" x2=\"443\" y1=\"135\" y2=\"135\"/></a><!--MD5=[b9389687b975829384b498ac4b7476b2]\n",
       "class E8--><a href=\"psysml:4acbdff1-c8fe-48cb-afd1-a68daa112cad\" target=\"_top\" title=\"psysml:4acbdff1-c8fe-48cb-afd1-a68daa112cad\" xlink:actuate=\"onRequest\" xlink:href=\"psysml:4acbdff1-c8fe-48cb-afd1-a68daa112cad\" xlink:show=\"new\" xlink:title=\"psysml:4acbdff1-c8fe-48cb-afd1-a68daa112cad\" xlink:type=\"simple\"><rect fill=\"#FEFECE\" filter=\"url(#f80ta3gmhhru1)\" height=\"40\" id=\"E8\" style=\"stroke: #A80036; stroke-width: 1.5;\" width=\"64\" x=\"256\" y=\"396\"/><ellipse cx=\"271\" cy=\"412\" fill=\"#008000\" rx=\"11\" ry=\"11\" style=\"stroke: #A80036; stroke-width: 1.0;\"/><path d=\"M267.875,417 L267.875,406.4063 L271.1094,406.4063 Q273.0156,406.4063 273.9219,407.1563 Q274.8438,407.9063 274.8438,409.0781 Q274.8438,409.7656 274.4531,410.4219 Q274.0781,411.0781 273.3594,411.375 Q274.2188,411.75 274.7344,412.4375 Q275.25,413.125 275.25,413.9375 Q275.25,415.3125 274.2188,416.1563 Q273.2031,417 271.0938,417 L267.875,417 Z M269.7969,410.6406 L270.9531,410.6406 Q272.0781,410.6406 272.4844,410.2656 Q272.9063,409.875 272.9063,409.25 Q272.9063,408.6719 272.4844,408.3125 Q272.0625,407.9531 271.125,407.9531 L269.7969,407.9531 L269.7969,410.6406 Z M269.7969,415.4219 L271.2969,415.4219 Q272.2031,415.4219 272.7344,415.0313 Q273.2656,414.6406 273.2656,413.8906 Q273.2656,413.125 272.7656,412.6563 Q272.2656,412.1719 271,412.1719 L269.7969,412.1719 L269.7969,415.4219 Z \"/><text fill=\"#000000\" font-family=\"sans-serif\" font-size=\"12\" lengthAdjust=\"spacingAndGlyphs\" textLength=\"32\" x=\"285\" y=\"416.1543\">P211</text><line style=\"stroke: #A80036; stroke-width: 1.5;\" x1=\"257\" x2=\"319\" y1=\"428\" y2=\"428\"/></a><!--MD5=[b0060bfdb0500b904584095522b4da3c]\n",
       "link E2 to E8--><a href=\"psysml:4f20d9a0-229b-41ce-a3f9-ec650db8275f\" target=\"_top\" title=\"psysml:4f20d9a0-229b-41ce-a3f9-ec650db8275f\" xlink:actuate=\"onRequest\" xlink:href=\"psysml:4f20d9a0-229b-41ce-a3f9-ec650db8275f\" xlink:show=\"new\" xlink:title=\"psysml:4f20d9a0-229b-41ce-a3f9-ec650db8275f\" xlink:type=\"simple\"><path d=\"M226.445,170.2149 C226.5356,170.4166 226.6271,170.6178 226.7196,170.8186 C227.0896,171.6218 227.4752,172.4176 227.877,173.2043 C228.6805,174.7776 229.5489,176.3144 230.4873,177.8007 C232.3642,180.7733 234.5213,183.5438 237,186 C245.89,194.81 255.98,184.39 264,194 C311.29,250.66 301.32,345.99 293.25,390.6 \" fill=\"none\" id=\"E2-&gt;E8\" style=\"stroke: #A80036; stroke-width: 1.0; stroke-dasharray: 7.0,7.0;\"/><polygon fill=\"#A80036\" points=\"292.28,395.78,297.8815,387.6792,293.2083,390.8669,290.0206,386.1938,292.28,395.78\" style=\"stroke: #A80036; stroke-width: 1.0;\"/><text fill=\"#000000\" font-family=\"sans-serif\" font-size=\"13\" lengthAdjust=\"spacingAndGlyphs\" textLength=\"58\" x=\"275\" y=\"207.0669\">«import»</text></a><!--MD5=[e3e28c1befcf002155aa15e1416b4315]\n",
       "link E2 to E6--><a href=\"psysml:682e8ea7-bcd5-404d-bf47-54c119ed8bb7\" target=\"_top\" title=\"psysml:682e8ea7-bcd5-404d-bf47-54c119ed8bb7\" xlink:actuate=\"onRequest\" xlink:href=\"psysml:682e8ea7-bcd5-404d-bf47-54c119ed8bb7\" xlink:show=\"new\" xlink:title=\"psysml:682e8ea7-bcd5-404d-bf47-54c119ed8bb7\" xlink:type=\"simple\"><path d=\"M209.877,125.4701 C209.6546,125.5149 209.4281,125.5608 209.1978,125.6079 C208.737,125.702 208.2606,125.8006 207.769,125.9039 C205.8025,126.3169 203.5938,126.8041 201.1794,127.3719 C191.5219,129.6431 178.575,133.205 164.6925,138.4775 C136.9275,149.0225 105.42,166.41 89,194 C62.55,238.445 82.485,292.6775 109.5525,336.295 C123.0863,358.1038 138.4031,377.2587 150.5966,391.2097 C153.6449,394.6974 156.4981,397.8599 159.0793,400.6573 C160.37,402.056 161.5926,403.3634 162.7377,404.5745 C163.3103,405.1801 163.8635,405.7616 164.396,406.3185 C164.5292,406.4577 164.661,406.5953 164.7916,406.7314 \" fill=\"none\" id=\"E2-&gt;E6\" style=\"stroke: #A80036; stroke-width: 1.0; stroke-dasharray: 7.0,7.0;\"/><polygon fill=\"#A80036\" points=\"164.7916,406.7314,161.4484,397.4674,161.3305,403.123,155.6749,403.0051,164.7916,406.7314\" style=\"stroke: #A80036; stroke-width: 1.0;\"/><text fill=\"#000000\" font-family=\"sans-serif\" font-size=\"13\" lengthAdjust=\"spacingAndGlyphs\" textLength=\"65\" x=\"90\" y=\"207.0669\">«import»*</text></a><!--MD5=[e3d2a08a9c9236652057e8ed0cbc9b62]\n",
       "link E2 to E7--><a href=\"psysml:60c32f43-2902-493b-8362-f480edbb78ed\" target=\"_top\" title=\"psysml:60c32f43-2902-493b-8362-f480edbb78ed\" xlink:actuate=\"onRequest\" xlink:href=\"psysml:60c32f43-2902-493b-8362-f480edbb78ed\" xlink:show=\"new\" xlink:title=\"psysml:60c32f43-2902-493b-8362-f480edbb78ed\" xlink:type=\"simple\"><path d=\"M209.8469,130.2615 C209.6656,130.4079 209.482,130.5565 209.2962,130.7073 C208.9247,131.0089 208.5446,131.3194 208.1563,131.6385 C207.3799,132.2768 206.5713,132.9496 205.7358,133.6548 C199.0516,139.2966 190.6431,147.0119 183.1763,155.7113 C168.2425,173.11 157.075,194.445 171,211 C184.36,226.88 203.48,203.26 217,219 C230.97,235.27 232.1575,283.005 229.7613,327.29 C229.4617,332.8256 229.1062,338.3073 228.7126,343.667 C228.5159,346.3468 228.3096,348.9961 228.096,351.6063 C228.0693,351.9326 228.0425,352.2582 228.0156,352.5833 \" fill=\"none\" id=\"E2-&gt;E7\" style=\"stroke: #A80036; stroke-width: 1.0; stroke-dasharray: 7.0,7.0;\"/><polygon fill=\"#A80036\" points=\"228.0156,352.5833,232.7447,343.9441,228.4282,347.6003,224.772,343.2839,228.0156,352.5833\" style=\"stroke: #A80036; stroke-width: 1.0;\"/><text fill=\"#000000\" font-family=\"sans-serif\" font-size=\"13\" lengthAdjust=\"spacingAndGlyphs\" textLength=\"87\" x=\"172\" y=\"207.0669\">«import»*::**</text></a><!--MD5=[ca5a752d6098d8a44b3f88316e7452d1]\n",
       "link E3 to E8--><a href=\"psysml:37accf74-aaef-4298-a8d1-458e277c829e\" target=\"_top\" title=\"psysml:37accf74-aaef-4298-a8d1-458e277c829e\" xlink:actuate=\"onRequest\" xlink:href=\"psysml:37accf74-aaef-4298-a8d1-458e277c829e\" xlink:show=\"new\" xlink:title=\"psysml:37accf74-aaef-4298-a8d1-458e277c829e\" xlink:type=\"simple\"><path d=\"M335.65,146.11 C358.22,164.11 381.31,189.89 364,211 C352.51,225.02 336.72,206.08 324,219 C283.4,260.25 280.49,331.28 283.35,375.56 \" fill=\"none\" id=\"E3-&gt;E8\" style=\"stroke: #A80036; stroke-width: 1.0;\"/><polygon fill=\"#FFFFFF\" points=\"285.17,395.71,276.488,377.4173,290.4312,376.157,285.17,395.71\" style=\"stroke: #A80036; stroke-width: 1.0;\"/><ellipse cx=\"277.9668\" cy=\"371.5604\" fill=\"#A80036\" rx=\"2\" ry=\"2\" style=\"stroke: #A80036; stroke-width: 1.0;\"/><ellipse cx=\"287.9262\" cy=\"370.6602\" fill=\"#A80036\" rx=\"2\" ry=\"2\" style=\"stroke: #A80036; stroke-width: 1.0;\"/></a><!--MD5=[15ebcb19ae302d9b601edb458606d402]\n",
       "link E5 to E2--><a href=\"psysml:a29f5286-6760-4cc8-8866-2ed3ee4f3eda\" target=\"_top\" title=\"psysml:a29f5286-6760-4cc8-8866-2ed3ee4f3eda\" xlink:actuate=\"onRequest\" xlink:href=\"psysml:a29f5286-6760-4cc8-8866-2ed3ee4f3eda\" xlink:show=\"new\" xlink:title=\"psysml:a29f5286-6760-4cc8-8866-2ed3ee4f3eda\" xlink:type=\"simple\"><path d=\"M378.8691,234.9633 C378.4369,234.2811 378.0005,233.6019 377.56,232.9257 C376.679,231.5734 375.7812,230.2334 374.8664,228.9066 C373.0369,226.2531 371.1393,223.6526 369.171,221.1125 C361.298,210.952 352.295,201.7575 342,194 C323.31,179.92 255.27,200.62 237,186 C234.275,183.82 231.9314,181.2588 229.9168,178.4406 C228.9095,177.0315 227.9844,175.5581 227.1351,174.0361 C226.7104,173.2751 226.3046,172.5019 225.917,171.7185 C225.7231,171.3268 225.5338,170.9326 225.349,170.536 C225.3027,170.4368 225.2568,170.3375 225.2111,170.2381 \" fill=\"none\" id=\"E5-&gt;E2\" style=\"stroke: #A80036; stroke-width: 1.0; stroke-dasharray: 7.0,7.0;\"/><polygon fill=\"#A80036\" points=\"225.2111,170.2381,225.3326,180.0862,227.298,174.7818,232.6025,176.7472,225.2111,170.2381\" style=\"stroke: #A80036; stroke-width: 1.0;\"/><text fill=\"#000000\" font-family=\"sans-serif\" font-size=\"13\" lengthAdjust=\"spacingAndGlyphs\" textLength=\"65\" x=\"361\" y=\"207.0669\">«import»*</text></a><!--MD5=[d7bb3fb34add81b710575eb3799fa2ad]\n",
       "link E8 to E4--><a href=\"psysml:d1a96eaf-259a-4888-9f98-ae46b38eb818\" target=\"_top\" title=\"psysml:d1a96eaf-259a-4888-9f98-ae46b38eb818\" xlink:actuate=\"onRequest\" xlink:href=\"psysml:d1a96eaf-259a-4888-9f98-ae46b38eb818\" xlink:show=\"new\" xlink:title=\"psysml:d1a96eaf-259a-4888-9f98-ae46b38eb818\" xlink:type=\"simple\"><path d=\"M284.69,395.73 C279.07,355.79 272.78,263.97 324,219 C336.88,207.7 466.2,223.43 478,211 C494.2,193.93 479.12,172.42 459.77,155.05 \" fill=\"none\" id=\"E8-&gt;E4\" style=\"stroke: #A80036; stroke-width: 1.0;\"/><polygon fill=\"none\" points=\"455.36,160.48,444.24,142.45,464.18,149.61,455.36,160.48\" style=\"stroke: #A80036; stroke-width: 1.0;\"/></a><!--MD5=[3bb31506e55ed27df5468d380183e34f]\n",
       "@startuml\r\n",
       " \r\n",
       "package \"ImportTest\" as E1  [[psysml:4ef55e29-a78c-4120-8a0e-706d60f3b916 ]]  {\r\n",
       "package \"Pkg1\" as E2  [[psysml:fc5e85ef-31d8-4451-b981-c90381fde50e ]]  {\r\n",
       "comp usage \"p11: P211 \" as E3 << << (P,limegreen) part>> [[psysml:fe6123c1-7336-461e-a67a-648132fed175 ]] {\r\n",
       "}\r\n",
       "comp def \"P12\" as E4 << << (B,green) >> [[psysml:1380541e-fc30-40f5-9a60-edda9aa0065e ]] {\r\n",
       "}\r\n",
       "}\r\n",
       "package \"Pkg2\" as E5  [[psysml:c270e78f-1935-46bf-a024-66cb4836716b ]]  {\r\n",
       "package \"Pkg21\" as E6  [[psysml:ed944fef-70b9-4524-9917-716ca36e9ac1 ]]  {\r\n",
       "package \"Pkg211\" as E7  [[psysml:9f58dbb8-6a8c-4281-a4ad-0fbab28478f4 ]]  {\r\n",
       "comp def \"P211\" as E8 << << (B,green) >> [[psysml:4acbdff1-c8fe-48cb-afd1-a68daa112cad ]] {\r\n",
       "}\r\n",
       "}\r\n",
       "}\r\n",
       "}\r\n",
       "}\r\n",
       "E2 ..> E8 [[psysml:4f20d9a0-229b-41ce-a3f9-ec650db8275f ]] : <<import>>\r\n",
       "E2 ..> E6 [[psysml:682e8ea7-bcd5-404d-bf47-54c119ed8bb7 ]] : <<import>>*\r\n",
       "E2 ..> E7 [[psysml:60c32f43-2902-493b-8362-f480edbb78ed ]] : <<import>>*::**\r\n",
       "E3 - -:|> E8 [[psysml:37accf74-aaef-4298-a8d1-458e277c829e ]] \r\n",
       "E5 ..> E2 [[psysml:a29f5286-6760-4cc8-8866-2ed3ee4f3eda ]] : <<import>>*\r\n",
       "E8 - -|> E4 [[psysml:d1a96eaf-259a-4888-9f98-ae46b38eb818 ]] \r\n",
       "@enduml\r\n",
       "\n",
       "PlantUML version 1.2020.13(Sat Jun 13 12:26:38 UTC 2020)\n",
       "(EPL source distribution)\n",
       "Java Runtime: OpenJDK Runtime Environment\n",
       "JVM: OpenJDK 64-Bit Server VM\n",
       "Default Encoding: UTF-8\n",
       "Language: en\n",
       "Country: null\n",
       "--></g></svg>"
      ]
     },
     "execution_count": 31,
     "metadata": {},
     "output_type": "execute_result"
    }
   ],
   "source": [
    "%viz --style=\"PLANTUML\" --view=\"Tree\" \"ImportTest\""
   ]
  },
  {
   "cell_type": "code",
   "execution_count": 32,
   "id": "5a89fe76",
   "metadata": {
    "execution": {
     "iopub.execute_input": "2022-02-18T10:46:59.862135Z",
     "iopub.status.busy": "2022-02-18T10:46:59.861724Z",
     "iopub.status.idle": "2022-02-18T10:46:59.955769Z",
     "shell.execute_reply": "2022-02-18T10:46:59.954486Z"
    }
   },
   "outputs": [
    {
     "data": {
      "image/svg+xml": [
       "<?xml version=\"1.0\" encoding=\"UTF-8\" standalone=\"no\"?><svg xmlns=\"http://www.w3.org/2000/svg\" xmlns:xlink=\"http://www.w3.org/1999/xlink\" contentScriptType=\"application/ecmascript\" contentStyleType=\"text/css\" height=\"300px\" preserveAspectRatio=\"none\" style=\"width:603px;height:300px;background:#000000;\" version=\"1.1\" viewBox=\"0 0 603 300\" width=\"603px\" zoomAndPan=\"magnify\"><defs/><g><rect fill=\"#20010E\" height=\"1\" style=\"stroke: #20010E; stroke-width: 1.0;\" width=\"1\" x=\"0\" y=\"0\"/><rect fill=\"#FFFFFF\" height=\"202.8012\" style=\"stroke: #FFFFFF; stroke-width: 1.0;\" width=\"602\" x=\"0\" y=\"0\"/><text fill=\"#000000\" font-family=\"sans-serif\" font-size=\"12\" font-weight=\"bold\" lengthAdjust=\"spacingAndGlyphs\" textLength=\"139\" x=\"5\" y=\"16.1387\">Welcome to PlantUML!</text><text fill=\"#000000\" font-family=\"sans-serif\" font-size=\"12\" lengthAdjust=\"spacingAndGlyphs\" textLength=\"0\" x=\"9\" y=\"30.1074\"/><text fill=\"#000000\" font-family=\"sans-serif\" font-size=\"12\" lengthAdjust=\"spacingAndGlyphs\" textLength=\"293\" x=\"5\" y=\"44.0762\">If you use this software, you accept its license.</text><text fill=\"#000000\" font-family=\"sans-serif\" font-size=\"12\" lengthAdjust=\"spacingAndGlyphs\" textLength=\"107\" x=\"5\" y=\"58.0449\">(details by typing</text><text fill=\"#000000\" font-family=\"monospace\" font-size=\"12\" lengthAdjust=\"spacingAndGlyphs\" textLength=\"42\" x=\"116\" y=\"58.595\">license</text><text fill=\"#000000\" font-family=\"sans-serif\" font-size=\"12\" lengthAdjust=\"spacingAndGlyphs\" textLength=\"56\" x=\"162\" y=\"58.0449\">keyword)</text><text fill=\"#000000\" font-family=\"sans-serif\" font-size=\"12\" lengthAdjust=\"spacingAndGlyphs\" textLength=\"0\" x=\"9\" y=\"72.0137\"/><text fill=\"#000000\" font-family=\"sans-serif\" font-size=\"12\" lengthAdjust=\"spacingAndGlyphs\" textLength=\"283\" x=\"5\" y=\"85.9824\">You can start with a simple UML Diagram like:</text><text fill=\"#000000\" font-family=\"sans-serif\" font-size=\"12\" lengthAdjust=\"spacingAndGlyphs\" textLength=\"0\" x=\"9\" y=\"99.9512\"/><text fill=\"#000000\" font-family=\"monospace\" font-size=\"12\" lengthAdjust=\"spacingAndGlyphs\" textLength=\"102\" x=\"5\" y=\"113.0893\">Bob-&gt;Alice: Hello</text><text fill=\"#000000\" font-family=\"sans-serif\" font-size=\"12\" lengthAdjust=\"spacingAndGlyphs\" textLength=\"0\" x=\"9\" y=\"126.508\"/><text fill=\"#000000\" font-family=\"sans-serif\" font-size=\"12\" lengthAdjust=\"spacingAndGlyphs\" textLength=\"14\" x=\"5\" y=\"140.4768\">Or</text><text fill=\"#000000\" font-family=\"sans-serif\" font-size=\"12\" lengthAdjust=\"spacingAndGlyphs\" textLength=\"0\" x=\"9\" y=\"154.4455\"/><text fill=\"#000000\" font-family=\"monospace\" font-size=\"12\" lengthAdjust=\"spacingAndGlyphs\" textLength=\"78\" x=\"5\" y=\"167.5837\">class Example</text><text fill=\"#000000\" font-family=\"sans-serif\" font-size=\"12\" lengthAdjust=\"spacingAndGlyphs\" textLength=\"0\" x=\"9\" y=\"181.0023\"/><text fill=\"#000000\" font-family=\"sans-serif\" font-size=\"12\" lengthAdjust=\"spacingAndGlyphs\" textLength=\"349\" x=\"5\" y=\"194.9711\">You will find more information about PlantUML syntax on</text><text fill=\"#000000\" font-family=\"sans-serif\" font-size=\"12\" lengthAdjust=\"spacingAndGlyphs\" text-decoration=\"underline\" textLength=\"129\" x=\"358\" y=\"194.9711\">https://plantuml.com</text><image height=\"71\" width=\"80\" x=\"516\" xlink:href=\"data:image/png;base64,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\" y=\"6\"/><rect fill=\"#000000\" height=\"96.4844\" style=\"stroke: #000000; stroke-width: 1.0;\" width=\"602\" x=\"0\" y=\"202.8012\"/><rect fill=\"#33FF02\" height=\"21.2969\" style=\"stroke: #33FF02; stroke-width: 1.0;\" width=\"145\" x=\"5\" y=\"207.8012\"/><text fill=\"#000000\" font-family=\"sans-serif\" font-size=\"14\" font-weight=\"bold\" lengthAdjust=\"spacingAndGlyphs\" textLength=\"143\" x=\"6\" y=\"222.8012\">[From string (line 2) ]</text><text fill=\"#33FF02\" font-family=\"sans-serif\" font-size=\"14\" font-weight=\"bold\" lengthAdjust=\"spacingAndGlyphs\" textLength=\"0\" x=\"9\" y=\"243.0981\"/><text fill=\"#33FF02\" font-family=\"sans-serif\" font-size=\"14\" font-weight=\"bold\" lengthAdjust=\"spacingAndGlyphs\" textLength=\"70\" x=\"5\" y=\"259.3949\">@startuml</text><text fill=\"#33FF02\" font-family=\"sans-serif\" font-size=\"14\" font-weight=\"bold\" lengthAdjust=\"spacingAndGlyphs\" textLength=\"0\" x=\"9\" y=\"275.6918\"/><text fill=\"#FF0000\" font-family=\"sans-serif\" font-size=\"14\" font-weight=\"bold\" lengthAdjust=\"spacingAndGlyphs\" textLength=\"124\" x=\"9\" y=\"291.9887\">Empty description</text><!--MD5=[f59edd8218d337f74d0c332fc6737304]\n",
       "@startuml\r\n",
       " \r\n",
       "@enduml\r\n",
       "\n",
       "PlantUML version 1.2020.13(Sat Jun 13 12:26:38 UTC 2020)\n",
       "(EPL source distribution)\n",
       "Java Runtime: OpenJDK Runtime Environment\n",
       "JVM: OpenJDK 64-Bit Server VM\n",
       "Default Encoding: UTF-8\n",
       "Language: en\n",
       "Country: null\n",
       "--></g></svg>"
      ]
     },
     "execution_count": 32,
     "metadata": {},
     "output_type": "execute_result"
    }
   ],
   "source": [
    "%viz --style=\"PLANTUML\" --view=\"State\" \"ImportTest\""
   ]
  },
  {
   "cell_type": "code",
   "execution_count": 33,
   "id": "93ebab9a",
   "metadata": {
    "execution": {
     "iopub.execute_input": "2022-02-18T10:47:00.005175Z",
     "iopub.status.busy": "2022-02-18T10:47:00.004782Z",
     "iopub.status.idle": "2022-02-18T10:47:00.034965Z",
     "shell.execute_reply": "2022-02-18T10:47:00.034701Z"
    }
   },
   "outputs": [
    {
     "data": {
      "image/svg+xml": [
       "<?xml version=\"1.0\" encoding=\"UTF-8\" standalone=\"no\"?><svg xmlns=\"http://www.w3.org/2000/svg\" xmlns:xlink=\"http://www.w3.org/1999/xlink\" contentScriptType=\"application/ecmascript\" contentStyleType=\"text/css\" height=\"578px\" preserveAspectRatio=\"none\" style=\"width:515px;height:578px;\" version=\"1.1\" viewBox=\"0 0 515 578\" width=\"515px\" zoomAndPan=\"magnify\"><defs><filter height=\"300%\" id=\"f1wqa28oesfnf2\" width=\"300%\" x=\"-1\" y=\"-1\"><feGaussianBlur result=\"blurOut\" stdDeviation=\"2.0\"/><feColorMatrix in=\"blurOut\" result=\"blurOut2\" type=\"matrix\" values=\"0 0 0 0 0 0 0 0 0 0 0 0 0 0 0 0 0 0 .4 0\"/><feOffset dx=\"4.0\" dy=\"4.0\" in=\"blurOut2\" result=\"blurOut3\"/><feBlend in=\"SourceGraphic\" in2=\"blurOut3\" mode=\"normal\"/></filter></defs><g><!--MD5=[fbc87193dbaf4d95561dea2c320d4a47]\n",
       "cluster E1--><a href=\"psysml:4ef55e29-a78c-4120-8a0e-706d60f3b916\" target=\"_top\" title=\"psysml:4ef55e29-a78c-4120-8a0e-706d60f3b916\" xlink:actuate=\"onRequest\" xlink:href=\"psysml:4ef55e29-a78c-4120-8a0e-706d60f3b916\" xlink:show=\"new\" xlink:title=\"psysml:4ef55e29-a78c-4120-8a0e-706d60f3b916\" xlink:type=\"simple\"><polygon fill=\"#FFFFFF\" filter=\"url(#f1wqa28oesfnf2)\" points=\"16,6,97,6,104,28.2969,493,28.2969,493,566,16,566,16,6\" style=\"stroke: #000000; stroke-width: 1.5;\"/><line style=\"stroke: #000000; stroke-width: 1.5;\" x1=\"16\" x2=\"104\" y1=\"28.2969\" y2=\"28.2969\"/><text fill=\"#000000\" font-family=\"sans-serif\" font-size=\"14\" font-weight=\"bold\" lengthAdjust=\"spacingAndGlyphs\" textLength=\"75\" x=\"20\" y=\"20.9951\">ImportTest</text></a><!--MD5=[e4f7fae6ed58524ba242bb0b0d3be6b7]\n",
       "cluster E2--><a href=\"psysml:fc5e85ef-31d8-4451-b981-c90381fde50e\" target=\"_top\" title=\"psysml:fc5e85ef-31d8-4451-b981-c90381fde50e\" xlink:actuate=\"onRequest\" xlink:href=\"psysml:fc5e85ef-31d8-4451-b981-c90381fde50e\" xlink:show=\"new\" xlink:title=\"psysml:fc5e85ef-31d8-4451-b981-c90381fde50e\" xlink:type=\"simple\"><polygon fill=\"#FFFFFF\" filter=\"url(#f1wqa28oesfnf2)\" points=\"196,57,237,57,244,79.2969,461,79.2969,461,164,196,164,196,57\" style=\"stroke: #000000; stroke-width: 1.5;\"/><line style=\"stroke: #000000; stroke-width: 1.5;\" x1=\"196\" x2=\"244\" y1=\"79.2969\" y2=\"79.2969\"/><text fill=\"#000000\" font-family=\"sans-serif\" font-size=\"14\" font-weight=\"bold\" lengthAdjust=\"spacingAndGlyphs\" textLength=\"35\" x=\"200\" y=\"71.9951\">Pkg1</text></a><!--MD5=[de5ec2e2e8f62f467e546659f5068c88]\n",
       "cluster E5--><a href=\"psysml:c270e78f-1935-46bf-a024-66cb4836716b\" target=\"_top\" title=\"psysml:c270e78f-1935-46bf-a024-66cb4836716b\" xlink:actuate=\"onRequest\" xlink:href=\"psysml:c270e78f-1935-46bf-a024-66cb4836716b\" xlink:show=\"new\" xlink:title=\"psysml:c270e78f-1935-46bf-a024-66cb4836716b\" xlink:type=\"simple\"><polygon fill=\"#FFFFFF\" filter=\"url(#f1wqa28oesfnf2)\" points=\"98,229,139,229,146,251.2969,411,251.2969,411,534,98,534,98,229\" style=\"stroke: #000000; stroke-width: 1.5;\"/><line style=\"stroke: #000000; stroke-width: 1.5;\" x1=\"98\" x2=\"146\" y1=\"251.2969\" y2=\"251.2969\"/><text fill=\"#000000\" font-family=\"sans-serif\" font-size=\"14\" font-weight=\"bold\" lengthAdjust=\"spacingAndGlyphs\" textLength=\"35\" x=\"102\" y=\"243.9951\">Pkg2</text></a><!--MD5=[14e3b0961a2654348d326746436168a1]\n",
       "cluster E6--><a href=\"psysml:ed944fef-70b9-4524-9917-716ca36e9ac1\" target=\"_top\" title=\"psysml:ed944fef-70b9-4524-9917-716ca36e9ac1\" xlink:actuate=\"onRequest\" xlink:href=\"psysml:ed944fef-70b9-4524-9917-716ca36e9ac1\" xlink:show=\"new\" xlink:title=\"psysml:ed944fef-70b9-4524-9917-716ca36e9ac1\" xlink:type=\"simple\"><polygon fill=\"#FFFFFF\" filter=\"url(#f1wqa28oesfnf2)\" points=\"138,288,188,288,195,310.2969,363,310.2969,363,494,138,494,138,288\" style=\"stroke: #000000; stroke-width: 1.5;\"/><line style=\"stroke: #000000; stroke-width: 1.5;\" x1=\"138\" x2=\"195\" y1=\"310.2969\" y2=\"310.2969\"/><text fill=\"#000000\" font-family=\"sans-serif\" font-size=\"14\" font-weight=\"bold\" lengthAdjust=\"spacingAndGlyphs\" textLength=\"44\" x=\"142\" y=\"302.9951\">Pkg21</text></a><!--MD5=[168fadf3d0c3fd93dd5d6da1b1d7ab76]\n",
       "cluster E7--><a href=\"psysml:9f58dbb8-6a8c-4281-a4ad-0fbab28478f4\" target=\"_top\" title=\"psysml:9f58dbb8-6a8c-4281-a4ad-0fbab28478f4\" xlink:actuate=\"onRequest\" xlink:href=\"psysml:9f58dbb8-6a8c-4281-a4ad-0fbab28478f4\" xlink:show=\"new\" xlink:title=\"psysml:9f58dbb8-6a8c-4281-a4ad-0fbab28478f4\" xlink:type=\"simple\"><polygon fill=\"#FFFFFF\" filter=\"url(#f1wqa28oesfnf2)\" points=\"186,347,245,347,252,369.2969,323,369.2969,323,454,186,454,186,347\" style=\"stroke: #000000; stroke-width: 1.5;\"/><line style=\"stroke: #000000; stroke-width: 1.5;\" x1=\"186\" x2=\"252\" y1=\"369.2969\" y2=\"369.2969\"/><text fill=\"#000000\" font-family=\"sans-serif\" font-size=\"14\" font-weight=\"bold\" lengthAdjust=\"spacingAndGlyphs\" textLength=\"53\" x=\"190\" y=\"361.9951\">Pkg211</text></a><g id=\"E1.E2.E3\"><a href=\"psysml:fe6123c1-7336-461e-a67a-648132fed175\" target=\"_top\" title=\"psysml:fe6123c1-7336-461e-a67a-648132fed175\" xlink:actuate=\"onRequest\" xlink:href=\"psysml:fe6123c1-7336-461e-a67a-648132fed175\" xlink:show=\"new\" xlink:title=\"psysml:fe6123c1-7336-461e-a67a-648132fed175\" xlink:type=\"simple\"><rect fill=\"#FEFECE\" filter=\"url(#f1wqa28oesfnf2)\" height=\"40\" id=\"E3\" rx=\"10\" ry=\"10\" style=\"stroke: #A80036; stroke-width: 1.5;\" width=\"101\" x=\"335.5\" y=\"100\"/><ellipse cx=\"352.75\" cy=\"116\" fill=\"#B6DBBB\" rx=\"11\" ry=\"11\" style=\"stroke: #A80036; stroke-width: 1.0;\"/><path d=\"M352.5,121.4688 Q350.75,121.4688 349.7969,120.4375 Q348.8594,119.3906 348.8594,117.5469 L348.8594,110.6563 L350.9219,110.6563 L350.9219,110.8125 Q350.8281,110.9063 350.7969,111.0469 Q350.7813,111.1719 350.7813,111.4375 L350.7813,117.5625 Q350.7813,118.6563 351.1563,119.2813 Q351.5313,119.9063 352.5156,119.9063 Q353.5,119.9063 353.8906,119.2813 Q354.2813,118.6563 354.2813,117.5156 L354.2813,110.6563 L356.1563,110.6563 L356.1563,117.5 Q356.1563,119.5313 355.125,120.5 Q354.1094,121.4688 352.5,121.4688 Z \"/><text fill=\"#000000\" font-family=\"sans-serif\" font-size=\"12\" lengthAdjust=\"spacingAndGlyphs\" textLength=\"64\" x=\"367.25\" y=\"120.1543\">p11: P211</text></a></g><g id=\"E1.E2.E4\"><a href=\"psysml:1380541e-fc30-40f5-9a60-edda9aa0065e\" target=\"_top\" title=\"psysml:1380541e-fc30-40f5-9a60-edda9aa0065e\" xlink:actuate=\"onRequest\" xlink:href=\"psysml:1380541e-fc30-40f5-9a60-edda9aa0065e\" xlink:show=\"new\" xlink:title=\"psysml:1380541e-fc30-40f5-9a60-edda9aa0065e\" xlink:type=\"simple\"><rect fill=\"#FEFECE\" filter=\"url(#f1wqa28oesfnf2)\" height=\"40\" id=\"E4\" style=\"stroke: #A80036; stroke-width: 1.5;\" width=\"61\" x=\"239.5\" y=\"100\"/><ellipse cx=\"256.75\" cy=\"116\" fill=\"#008000\" rx=\"11\" ry=\"11\" style=\"stroke: #A80036; stroke-width: 1.0;\"/><path d=\"M253.625,121 L253.625,110.4063 L256.8594,110.4063 Q258.7656,110.4063 259.6719,111.1563 Q260.5938,111.9063 260.5938,113.0781 Q260.5938,113.7656 260.2031,114.4219 Q259.8281,115.0781 259.1094,115.375 Q259.9688,115.75 260.4844,116.4375 Q261,117.125 261,117.9375 Q261,119.3125 259.9688,120.1563 Q258.9531,121 256.8438,121 L253.625,121 Z M255.5469,114.6406 L256.7031,114.6406 Q257.8281,114.6406 258.2344,114.2656 Q258.6563,113.875 258.6563,113.25 Q258.6563,112.6719 258.2344,112.3125 Q257.8125,111.9531 256.875,111.9531 L255.5469,111.9531 L255.5469,114.6406 Z M255.5469,119.4219 L257.0469,119.4219 Q257.9531,119.4219 258.4844,119.0313 Q259.0156,118.6406 259.0156,117.8906 Q259.0156,117.125 258.5156,116.6563 Q258.0156,116.1719 256.75,116.1719 L255.5469,116.1719 L255.5469,119.4219 Z \"/><text fill=\"#000000\" font-family=\"sans-serif\" font-size=\"12\" lengthAdjust=\"spacingAndGlyphs\" textLength=\"24\" x=\"271.25\" y=\"120.1543\">P12</text></a></g><g id=\"E1.E5.E6.E7.E8\"><a href=\"psysml:4acbdff1-c8fe-48cb-afd1-a68daa112cad\" target=\"_top\" title=\"psysml:4acbdff1-c8fe-48cb-afd1-a68daa112cad\" xlink:actuate=\"onRequest\" xlink:href=\"psysml:4acbdff1-c8fe-48cb-afd1-a68daa112cad\" xlink:show=\"new\" xlink:title=\"psysml:4acbdff1-c8fe-48cb-afd1-a68daa112cad\" xlink:type=\"simple\"><rect fill=\"#FEFECE\" filter=\"url(#f1wqa28oesfnf2)\" height=\"40\" id=\"E8\" style=\"stroke: #A80036; stroke-width: 1.5;\" width=\"69\" x=\"229.5\" y=\"390\"/><ellipse cx=\"246.75\" cy=\"406\" fill=\"#008000\" rx=\"11\" ry=\"11\" style=\"stroke: #A80036; stroke-width: 1.0;\"/><path d=\"M243.625,411 L243.625,400.4063 L246.8594,400.4063 Q248.7656,400.4063 249.6719,401.1563 Q250.5938,401.9063 250.5938,403.0781 Q250.5938,403.7656 250.2031,404.4219 Q249.8281,405.0781 249.1094,405.375 Q249.9688,405.75 250.4844,406.4375 Q251,407.125 251,407.9375 Q251,409.3125 249.9688,410.1563 Q248.9531,411 246.8438,411 L243.625,411 Z M245.5469,404.6406 L246.7031,404.6406 Q247.8281,404.6406 248.2344,404.2656 Q248.6563,403.875 248.6563,403.25 Q248.6563,402.6719 248.2344,402.3125 Q247.8125,401.9531 246.875,401.9531 L245.5469,401.9531 L245.5469,404.6406 Z M245.5469,409.4219 L247.0469,409.4219 Q247.9531,409.4219 248.4844,409.0313 Q249.0156,408.6406 249.0156,407.8906 Q249.0156,407.125 248.5156,406.6563 Q248.0156,406.1719 246.75,406.1719 L245.5469,406.1719 L245.5469,409.4219 Z \"/><text fill=\"#000000\" font-family=\"sans-serif\" font-size=\"12\" lengthAdjust=\"spacingAndGlyphs\" textLength=\"32\" x=\"261.25\" y=\"410.1543\">P211</text></a></g><!--MD5=[b0060bfdb0500b904584095522b4da3c]\n",
       "link E2 to E8--><a href=\"psysml:4f20d9a0-229b-41ce-a3f9-ec650db8275f\" target=\"_top\" title=\"psysml:4f20d9a0-229b-41ce-a3f9-ec650db8275f\" xlink:actuate=\"onRequest\" xlink:href=\"psysml:4f20d9a0-229b-41ce-a3f9-ec650db8275f\" xlink:show=\"new\" xlink:title=\"psysml:4f20d9a0-229b-41ce-a3f9-ec650db8275f\" xlink:type=\"simple\"><path d=\"M211.8575,164.2384 C211.9445,164.4302 212.0324,164.6215 212.1213,164.8123 C212.2992,165.1941 212.4808,165.5739 212.6664,165.9517 C213.0376,166.7073 213.4245,167.4546 213.8278,168.1918 C214.6344,169.6663 215.5066,171.1007 216.4496,172.4809 C218.3356,175.2412 220.505,177.785 223,180 C236.88,192.33 252.2,173.67 264,188 C310.74,244.75 287.51,340.36 272.87,384.86 \" fill=\"none\" id=\"E2-&gt;E8\" style=\"stroke: #A80036; stroke-width: 1.0; stroke-dasharray: 7.0,7.0;\"/><polygon fill=\"#A80036\" points=\"271.22,389.78,277.8674,382.5128,272.8054,385.038,270.2802,379.9761,271.22,389.78\" style=\"stroke: #A80036; stroke-width: 1.0;\"/><text fill=\"#000000\" font-family=\"sans-serif\" font-size=\"13\" lengthAdjust=\"spacingAndGlyphs\" textLength=\"58\" x=\"274\" y=\"201.0669\">«import»</text></a><!--MD5=[e3e28c1befcf002155aa15e1416b4315]\n",
       "link E2 to E6--><a href=\"psysml:682e8ea7-bcd5-404d-bf47-54c119ed8bb7\" target=\"_top\" title=\"psysml:682e8ea7-bcd5-404d-bf47-54c119ed8bb7\" xlink:actuate=\"onRequest\" xlink:href=\"psysml:682e8ea7-bcd5-404d-bf47-54c119ed8bb7\" xlink:show=\"new\" xlink:title=\"psysml:682e8ea7-bcd5-404d-bf47-54c119ed8bb7\" xlink:type=\"simple\"><path d=\"M195.7861,122.9849 C195.5804,123.0395 195.3713,123.0951 195.159,123.152 C193.4602,123.6071 191.5524,124.1384 189.4673,124.7497 C181.1272,127.195 169.9519,130.9213 157.9838,136.175 C134.0475,146.6825 106.94,163.3 93,188 C68.565,231.295 81.0225,285.5075 99.9763,329.4025 C109.4531,351.35 120.5541,370.7181 129.4795,384.8525 C131.7109,388.3861 133.8063,391.5926 135.7064,394.4305 C136.1814,395.14 136.6442,395.8264 137.0939,396.4891 C137.3187,396.8205 137.5402,397.146 137.7584,397.4654 \" fill=\"none\" id=\"E2-&gt;E6\" style=\"stroke: #A80036; stroke-width: 1.0; stroke-dasharray: 7.0,7.0;\"/><polygon fill=\"#A80036\" points=\"137.7584,397.4654,135.9862,387.7773,134.9387,393.3364,129.3797,392.2889,137.7584,397.4654\" style=\"stroke: #A80036; stroke-width: 1.0;\"/><text fill=\"#000000\" font-family=\"sans-serif\" font-size=\"13\" lengthAdjust=\"spacingAndGlyphs\" textLength=\"65\" x=\"94\" y=\"201.0669\">«import»*</text></a><!--MD5=[e3d2a08a9c9236652057e8ed0cbc9b62]\n",
       "link E2 to E7--><a href=\"psysml:60c32f43-2902-493b-8362-f480edbb78ed\" target=\"_top\" title=\"psysml:60c32f43-2902-493b-8362-f480edbb78ed\" xlink:actuate=\"onRequest\" xlink:href=\"psysml:60c32f43-2902-493b-8362-f480edbb78ed\" xlink:show=\"new\" xlink:title=\"psysml:60c32f43-2902-493b-8362-f480edbb78ed\" xlink:type=\"simple\"><path d=\"M195.9615,133.0095 C195.574,133.6254 195.1777,134.2608 194.7737,134.9146 C193.1579,137.5298 191.4197,140.4394 189.6363,143.5775 C182.5025,156.13 174.645,172.34 171,188 C169.29,195.36 166.82,198.71 171,205 C176.07,212.63 184.85,205.42 190,213 C214.085,248.48 215.43,296.515 210.585,336.1513 C210.2822,338.6285 209.9552,341.073 209.6081,343.4795 C209.5213,344.0811 209.4332,344.6804 209.344,345.2772 C209.2994,345.5756 209.2545,345.8734 209.2093,346.1706 \" fill=\"none\" id=\"E2-&gt;E7\" style=\"stroke: #A80036; stroke-width: 1.0; stroke-dasharray: 7.0,7.0;\"/><polygon fill=\"#A80036\" points=\"209.2093,346.1706,214.5173,337.8746,209.9613,341.2275,206.6083,336.6714,209.2093,346.1706\" style=\"stroke: #A80036; stroke-width: 1.0;\"/><text fill=\"#000000\" font-family=\"sans-serif\" font-size=\"13\" lengthAdjust=\"spacingAndGlyphs\" textLength=\"87\" x=\"172\" y=\"201.0669\">«import»*::**</text></a><!--MD5=[15ebcb19ae302d9b601edb458606d402]\n",
       "link E5 to E2--><a href=\"psysml:a29f5286-6760-4cc8-8866-2ed3ee4f3eda\" target=\"_top\" title=\"psysml:a29f5286-6760-4cc8-8866-2ed3ee4f3eda\" xlink:actuate=\"onRequest\" xlink:href=\"psysml:a29f5286-6760-4cc8-8866-2ed3ee4f3eda\" xlink:show=\"new\" xlink:title=\"psysml:a29f5286-6760-4cc8-8866-2ed3ee4f3eda\" xlink:type=\"simple\"><path d=\"M374.0307,228.4038 C373.8414,228.0622 373.651,227.7214 373.4594,227.3812 C372.6932,226.0207 371.9087,224.6721 371.1055,223.3362 C369.4993,220.6645 367.8183,218.0439 366.0594,215.4816 C359.0239,205.2327 350.7413,195.9175 341,188 C320.6,171.42 243.71,196.19 223,180 C217.7425,175.89 213.9169,170.31 211.138,164.2131 \" fill=\"none\" id=\"E5-&gt;E2\" style=\"stroke: #A80036; stroke-width: 1.0; stroke-dasharray: 7.0,7.0;\"/><polygon fill=\"#A80036\" points=\"211.138,164.2131,211.2309,174.0615,213.2117,168.7628,218.5104,170.7436,211.138,164.2131\" style=\"stroke: #A80036; stroke-width: 1.0;\"/><text fill=\"#000000\" font-family=\"sans-serif\" font-size=\"13\" lengthAdjust=\"spacingAndGlyphs\" textLength=\"65\" x=\"355\" y=\"201.0669\">«import»*</text></a><!--MD5=[d7bb3fb34add81b710575eb3799fa2ad]\n",
       "link E8 to E4--><a href=\"psysml:d1a96eaf-259a-4888-9f98-ae46b38eb818\" target=\"_top\" title=\"psysml:d1a96eaf-259a-4888-9f98-ae46b38eb818\" xlink:actuate=\"onRequest\" xlink:href=\"psysml:d1a96eaf-259a-4888-9f98-ae46b38eb818\" xlink:show=\"new\" xlink:title=\"psysml:d1a96eaf-259a-4888-9f98-ae46b38eb818\" xlink:type=\"simple\"><path d=\"M261.05,389.98 C256.06,350.09 251.08,257.72 303,213 C317.16,200.8 458.1,218.52 471,205 C476.21,199.53 476.2,193.48 471,188 C459.28,175.65 333.18,187.71 318,180 C307.54,174.68 298.55,165.95 291.28,156.81 \" fill=\"none\" id=\"E8-&gt;E4\" style=\"stroke: #A80036; stroke-width: 1.0;\"/><polygon fill=\"none\" points=\"285.33,160.5,279.79,140.05,296.88,152.58,285.33,160.5\" style=\"stroke: #A80036; stroke-width: 1.0;\"/></a><!--MD5=[4e9ff9e76fd96d6b9f3dc81b3de6bdfb]\n",
       "@startuml\r\n",
       "skinparam ranksep 10\r\n",
       "skinparam rectangle {\r\n",
       " backgroundColor<<block>> LightGreen\r\n",
       "}\r\n",
       " \r\n",
       "package \"ImportTest\" as E1  [[psysml:4ef55e29-a78c-4120-8a0e-706d60f3b916 ]]  {\r\n",
       "package \"Pkg1\" as E2  [[psysml:fc5e85ef-31d8-4451-b981-c90381fde50e ]]  {\r\n",
       "rec usage \"p11: P211\" as E3  [[psysml:fe6123c1-7336-461e-a67a-648132fed175 ]] {\r\n",
       "}\r\n",
       "rec def \"P12\" as E4 << << (B,green) >> [[psysml:1380541e-fc30-40f5-9a60-edda9aa0065e ]] {\r\n",
       "}\r\n",
       "}\r\n",
       "package \"Pkg2\" as E5  [[psysml:c270e78f-1935-46bf-a024-66cb4836716b ]]  {\r\n",
       "package \"Pkg21\" as E6  [[psysml:ed944fef-70b9-4524-9917-716ca36e9ac1 ]]  {\r\n",
       "package \"Pkg211\" as E7  [[psysml:9f58dbb8-6a8c-4281-a4ad-0fbab28478f4 ]]  {\r\n",
       "rec def \"P211\" as E8 << << (B,green) >> [[psysml:4acbdff1-c8fe-48cb-afd1-a68daa112cad ]] {\r\n",
       "}\r\n",
       "}\r\n",
       "}\r\n",
       "}\r\n",
       "}\r\n",
       "E2 ..> E8 [[psysml:4f20d9a0-229b-41ce-a3f9-ec650db8275f ]] : <<import>>\r\n",
       "E2 ..> E6 [[psysml:682e8ea7-bcd5-404d-bf47-54c119ed8bb7 ]] : <<import>>*\r\n",
       "E2 ..> E7 [[psysml:60c32f43-2902-493b-8362-f480edbb78ed ]] : <<import>>*::**\r\n",
       "E5 ..> E2 [[psysml:a29f5286-6760-4cc8-8866-2ed3ee4f3eda ]] : <<import>>*\r\n",
       "E8 - -|> E4 [[psysml:d1a96eaf-259a-4888-9f98-ae46b38eb818 ]] \r\n",
       "@enduml\r\n",
       "\n",
       "PlantUML version 1.2020.13(Sat Jun 13 12:26:38 UTC 2020)\n",
       "(EPL source distribution)\n",
       "Java Runtime: OpenJDK Runtime Environment\n",
       "JVM: OpenJDK 64-Bit Server VM\n",
       "Default Encoding: UTF-8\n",
       "Language: en\n",
       "Country: null\n",
       "--></g></svg>"
      ]
     },
     "execution_count": 33,
     "metadata": {},
     "output_type": "execute_result"
    }
   ],
   "source": [
    "%viz --style=\"PLANTUML\" --view=\"Interconnection\" \"ImportTest\""
   ]
  },
  {
   "cell_type": "code",
   "execution_count": 34,
   "id": "521bfc09",
   "metadata": {
    "execution": {
     "iopub.execute_input": "2022-02-18T10:47:00.084760Z",
     "iopub.status.busy": "2022-02-18T10:47:00.084444Z",
     "iopub.status.idle": "2022-02-18T10:47:00.088985Z",
     "shell.execute_reply": "2022-02-18T10:47:00.088658Z"
    }
   },
   "outputs": [
    {
     "data": {
      "image/svg+xml": [
       "<?xml version=\"1.0\" encoding=\"UTF-8\" standalone=\"no\"?><svg xmlns=\"http://www.w3.org/2000/svg\" xmlns:xlink=\"http://www.w3.org/1999/xlink\" contentScriptType=\"application/ecmascript\" contentStyleType=\"text/css\" height=\"12px\" preserveAspectRatio=\"none\" style=\"width:12px;height:12px;\" version=\"1.1\" viewBox=\"0 0 12 12\" width=\"12px\" zoomAndPan=\"magnify\"><defs/><g><!--MD5=[6a4cb978cab31700e1ce5529f947a75d]\n",
       "@startuml\r\n",
       "skinparam ranksep 8\r\n",
       " \r\n",
       "@enduml\r\n",
       "\n",
       "PlantUML version 1.2020.13(Sat Jun 13 12:26:38 UTC 2020)\n",
       "(EPL source distribution)\n",
       "Java Runtime: OpenJDK Runtime Environment\n",
       "JVM: OpenJDK 64-Bit Server VM\n",
       "Default Encoding: UTF-8\n",
       "Language: en\n",
       "Country: null\n",
       "--></g></svg>"
      ]
     },
     "execution_count": 34,
     "metadata": {},
     "output_type": "execute_result"
    }
   ],
   "source": [
    "%viz --style=\"PLANTUML\" --view=\"Action\" \"ImportTest\""
   ]
  },
  {
   "cell_type": "code",
   "execution_count": 35,
   "id": "fe3f1713",
   "metadata": {
    "execution": {
     "iopub.execute_input": "2022-02-18T10:47:00.139093Z",
     "iopub.status.busy": "2022-02-18T10:47:00.138694Z",
     "iopub.status.idle": "2022-02-18T10:47:00.143438Z",
     "shell.execute_reply": "2022-02-18T10:47:00.143115Z"
    }
   },
   "outputs": [
    {
     "data": {
      "image/svg+xml": [
       "<?xml version=\"1.0\" encoding=\"UTF-8\" standalone=\"no\"?><svg xmlns=\"http://www.w3.org/2000/svg\" xmlns:xlink=\"http://www.w3.org/1999/xlink\" contentScriptType=\"application/ecmascript\" contentStyleType=\"text/css\" height=\"12px\" preserveAspectRatio=\"none\" style=\"width:12px;height:12px;\" version=\"1.1\" viewBox=\"0 0 12 12\" width=\"12px\" zoomAndPan=\"magnify\"><defs/><g><!--MD5=[ca4faa0b02def275ea33c14ea7a1a98d]\n",
       "@startuml\r\n",
       "skinparam roundcorner 20\r\n",
       "skinparam BoxPadding 20\r\n",
       "skinparam SequenceBoxBackgroundColor #white\r\n",
       "skinparam style strictuml\r\n",
       "skinparam maxMessageSize 100\r\n",
       " \r\n",
       "@enduml\r\n",
       "\n",
       "PlantUML version 1.2020.13(Sat Jun 13 12:26:38 UTC 2020)\n",
       "(EPL source distribution)\n",
       "Java Runtime: OpenJDK Runtime Environment\n",
       "JVM: OpenJDK 64-Bit Server VM\n",
       "Default Encoding: UTF-8\n",
       "Language: en\n",
       "Country: null\n",
       "--></g></svg>"
      ]
     },
     "execution_count": 35,
     "metadata": {},
     "output_type": "execute_result"
    }
   ],
   "source": [
    "%viz --style=\"PLANTUML\" --view=\"Sequence\" \"ImportTest\""
   ]
  },
  {
   "cell_type": "code",
   "execution_count": 36,
   "id": "3eda13e6",
   "metadata": {
    "execution": {
     "iopub.execute_input": "2022-02-18T10:47:00.193413Z",
     "iopub.status.busy": "2022-02-18T10:47:00.193018Z",
     "iopub.status.idle": "2022-02-18T10:47:00.227394Z",
     "shell.execute_reply": "2022-02-18T10:47:00.227053Z"
    }
   },
   "outputs": [
    {
     "data": {
      "image/svg+xml": [
       "<?xml version=\"1.0\" encoding=\"UTF-8\" standalone=\"no\"?><svg xmlns=\"http://www.w3.org/2000/svg\" xmlns:xlink=\"http://www.w3.org/1999/xlink\" contentScriptType=\"application/ecmascript\" contentStyleType=\"text/css\" height=\"584px\" preserveAspectRatio=\"none\" style=\"width:522px;height:584px;\" version=\"1.1\" viewBox=\"0 0 522 584\" width=\"522px\" zoomAndPan=\"magnify\"><defs><filter height=\"300%\" id=\"f80ta3gmhhru1\" width=\"300%\" x=\"-1\" y=\"-1\"><feGaussianBlur result=\"blurOut\" stdDeviation=\"2.0\"/><feColorMatrix in=\"blurOut\" result=\"blurOut2\" type=\"matrix\" values=\"0 0 0 0 0 0 0 0 0 0 0 0 0 0 0 0 0 0 .4 0\"/><feOffset dx=\"4.0\" dy=\"4.0\" in=\"blurOut2\" result=\"blurOut3\"/><feBlend in=\"SourceGraphic\" in2=\"blurOut3\" mode=\"normal\"/></filter></defs><g><!--MD5=[fbc87193dbaf4d95561dea2c320d4a47]\n",
       "cluster E1--><a href=\"psysml:4ef55e29-a78c-4120-8a0e-706d60f3b916\" target=\"_top\" title=\"psysml:4ef55e29-a78c-4120-8a0e-706d60f3b916\" xlink:actuate=\"onRequest\" xlink:href=\"psysml:4ef55e29-a78c-4120-8a0e-706d60f3b916\" xlink:show=\"new\" xlink:title=\"psysml:4ef55e29-a78c-4120-8a0e-706d60f3b916\" xlink:type=\"simple\"><polygon fill=\"#FFFFFF\" filter=\"url(#f80ta3gmhhru1)\" points=\"16,6,97,6,104,28.2969,500,28.2969,500,572,16,572,16,6\" style=\"stroke: #000000; stroke-width: 1.5;\"/><line style=\"stroke: #000000; stroke-width: 1.5;\" x1=\"16\" x2=\"104\" y1=\"28.2969\" y2=\"28.2969\"/><text fill=\"#000000\" font-family=\"sans-serif\" font-size=\"14\" font-weight=\"bold\" lengthAdjust=\"spacingAndGlyphs\" textLength=\"75\" x=\"20\" y=\"20.9951\">ImportTest</text></a><!--MD5=[e4f7fae6ed58524ba242bb0b0d3be6b7]\n",
       "cluster E2--><a href=\"psysml:fc5e85ef-31d8-4451-b981-c90381fde50e\" target=\"_top\" title=\"psysml:fc5e85ef-31d8-4451-b981-c90381fde50e\" xlink:actuate=\"onRequest\" xlink:href=\"psysml:fc5e85ef-31d8-4451-b981-c90381fde50e\" xlink:show=\"new\" xlink:title=\"psysml:fc5e85ef-31d8-4451-b981-c90381fde50e\" xlink:type=\"simple\"><polygon fill=\"#FFFFFF\" filter=\"url(#f80ta3gmhhru1)\" points=\"210,57,251,57,258,79.2969,468,79.2969,468,170,210,170,210,57\" style=\"stroke: #000000; stroke-width: 1.5;\"/><line style=\"stroke: #000000; stroke-width: 1.5;\" x1=\"210\" x2=\"258\" y1=\"79.2969\" y2=\"79.2969\"/><text fill=\"#000000\" font-family=\"sans-serif\" font-size=\"14\" font-weight=\"bold\" lengthAdjust=\"spacingAndGlyphs\" textLength=\"35\" x=\"214\" y=\"71.9951\">Pkg1</text></a><!--MD5=[de5ec2e2e8f62f467e546659f5068c88]\n",
       "cluster E5--><a href=\"psysml:c270e78f-1935-46bf-a024-66cb4836716b\" target=\"_top\" title=\"psysml:c270e78f-1935-46bf-a024-66cb4836716b\" xlink:actuate=\"onRequest\" xlink:href=\"psysml:c270e78f-1935-46bf-a024-66cb4836716b\" xlink:show=\"new\" xlink:title=\"psysml:c270e78f-1935-46bf-a024-66cb4836716b\" xlink:type=\"simple\"><polygon fill=\"#FFFFFF\" filter=\"url(#f80ta3gmhhru1)\" points=\"125,235,166,235,173,257.2969,432,257.2969,432,540,125,540,125,235\" style=\"stroke: #000000; stroke-width: 1.5;\"/><line style=\"stroke: #000000; stroke-width: 1.5;\" x1=\"125\" x2=\"173\" y1=\"257.2969\" y2=\"257.2969\"/><text fill=\"#000000\" font-family=\"sans-serif\" font-size=\"14\" font-weight=\"bold\" lengthAdjust=\"spacingAndGlyphs\" textLength=\"35\" x=\"129\" y=\"249.9951\">Pkg2</text></a><!--MD5=[14e3b0961a2654348d326746436168a1]\n",
       "cluster E6--><a href=\"psysml:ed944fef-70b9-4524-9917-716ca36e9ac1\" target=\"_top\" title=\"psysml:ed944fef-70b9-4524-9917-716ca36e9ac1\" xlink:actuate=\"onRequest\" xlink:href=\"psysml:ed944fef-70b9-4524-9917-716ca36e9ac1\" xlink:show=\"new\" xlink:title=\"psysml:ed944fef-70b9-4524-9917-716ca36e9ac1\" xlink:type=\"simple\"><polygon fill=\"#FFFFFF\" filter=\"url(#f80ta3gmhhru1)\" points=\"165,294,215,294,222,316.2969,384,316.2969,384,500,165,500,165,294\" style=\"stroke: #000000; stroke-width: 1.5;\"/><line style=\"stroke: #000000; stroke-width: 1.5;\" x1=\"165\" x2=\"222\" y1=\"316.2969\" y2=\"316.2969\"/><text fill=\"#000000\" font-family=\"sans-serif\" font-size=\"14\" font-weight=\"bold\" lengthAdjust=\"spacingAndGlyphs\" textLength=\"44\" x=\"169\" y=\"308.9951\">Pkg21</text></a><!--MD5=[168fadf3d0c3fd93dd5d6da1b1d7ab76]\n",
       "cluster E7--><a href=\"psysml:9f58dbb8-6a8c-4281-a4ad-0fbab28478f4\" target=\"_top\" title=\"psysml:9f58dbb8-6a8c-4281-a4ad-0fbab28478f4\" xlink:actuate=\"onRequest\" xlink:href=\"psysml:9f58dbb8-6a8c-4281-a4ad-0fbab28478f4\" xlink:show=\"new\" xlink:title=\"psysml:9f58dbb8-6a8c-4281-a4ad-0fbab28478f4\" xlink:type=\"simple\"><polygon fill=\"#FFFFFF\" filter=\"url(#f80ta3gmhhru1)\" points=\"213,353,272,353,279,375.2969,344,375.2969,344,460,213,460,213,353\" style=\"stroke: #000000; stroke-width: 1.5;\"/><line style=\"stroke: #000000; stroke-width: 1.5;\" x1=\"213\" x2=\"279\" y1=\"375.2969\" y2=\"375.2969\"/><text fill=\"#000000\" font-family=\"sans-serif\" font-size=\"14\" font-weight=\"bold\" lengthAdjust=\"spacingAndGlyphs\" textLength=\"53\" x=\"217\" y=\"367.9951\">Pkg211</text></a><!--MD5=[09b614a08d8cba4a07c9adeb5e0fee81]\n",
       "class E3--><a href=\"psysml:fe6123c1-7336-461e-a67a-648132fed175\" target=\"_top\" title=\"psysml:fe6123c1-7336-461e-a67a-648132fed175\" xlink:actuate=\"onRequest\" xlink:href=\"psysml:fe6123c1-7336-461e-a67a-648132fed175\" xlink:show=\"new\" xlink:title=\"psysml:fe6123c1-7336-461e-a67a-648132fed175\" xlink:type=\"simple\"><rect fill=\"#FEFECE\" filter=\"url(#f80ta3gmhhru1)\" height=\"45.9375\" id=\"E3\" rx=\"10\" ry=\"10\" style=\"stroke: #A80036; stroke-width: 1.5;\" width=\"100\" x=\"253\" y=\"100\"/><ellipse cx=\"268\" cy=\"118.9688\" fill=\"#32CD32\" rx=\"11\" ry=\"11\" style=\"stroke: #A80036; stroke-width: 1.0;\"/><path d=\"M264.8125,123.9688 L264.8125,113.375 L268.4219,113.375 Q269.6406,113.375 270.4375,113.8125 Q271.2344,114.2344 271.6094,114.9375 Q272,115.6406 272,116.4844 Q272,117.3281 271.625,118.0156 Q271.2656,118.7031 270.4688,119.125 Q269.6875,119.5313 268.5,119.5313 L266.7656,119.5313 L266.7656,123.9688 L264.8125,123.9688 Z M266.7656,117.9375 L268.375,117.9375 Q269.1875,117.9375 269.6094,117.5313 Q270.0313,117.125 270.0313,116.4844 Q270.0313,115.8594 269.6094,115.4531 Q269.1875,115.0469 268.3906,115.0469 L266.7656,115.0469 L266.7656,117.9375 Z \"/><text fill=\"#000000\" font-family=\"sans-serif\" font-size=\"12\" font-style=\"italic\" lengthAdjust=\"spacingAndGlyphs\" textLength=\"40\" x=\"296\" y=\"116.1387\">«part»</text><text fill=\"#000000\" font-family=\"sans-serif\" font-size=\"12\" lengthAdjust=\"spacingAndGlyphs\" textLength=\"64\" x=\"282\" y=\"130.1074\">p11: P211</text><line style=\"stroke: #A80036; stroke-width: 1.5;\" x1=\"254\" x2=\"352\" y1=\"137.9375\" y2=\"137.9375\"/></a><!--MD5=[ebbe1d658d1005bcc118a6aa81145e00]\n",
       "class E4--><a href=\"psysml:1380541e-fc30-40f5-9a60-edda9aa0065e\" target=\"_top\" title=\"psysml:1380541e-fc30-40f5-9a60-edda9aa0065e\" xlink:actuate=\"onRequest\" xlink:href=\"psysml:1380541e-fc30-40f5-9a60-edda9aa0065e\" xlink:show=\"new\" xlink:title=\"psysml:1380541e-fc30-40f5-9a60-edda9aa0065e\" xlink:type=\"simple\"><rect fill=\"#FEFECE\" filter=\"url(#f80ta3gmhhru1)\" height=\"40\" id=\"E4\" style=\"stroke: #A80036; stroke-width: 1.5;\" width=\"56\" x=\"388\" y=\"103\"/><ellipse cx=\"403\" cy=\"119\" fill=\"#008000\" rx=\"11\" ry=\"11\" style=\"stroke: #A80036; stroke-width: 1.0;\"/><path d=\"M399.875,124 L399.875,113.4063 L403.1094,113.4063 Q405.0156,113.4063 405.9219,114.1563 Q406.8438,114.9063 406.8438,116.0781 Q406.8438,116.7656 406.4531,117.4219 Q406.0781,118.0781 405.3594,118.375 Q406.2188,118.75 406.7344,119.4375 Q407.25,120.125 407.25,120.9375 Q407.25,122.3125 406.2188,123.1563 Q405.2031,124 403.0938,124 L399.875,124 Z M401.7969,117.6406 L402.9531,117.6406 Q404.0781,117.6406 404.4844,117.2656 Q404.9063,116.875 404.9063,116.25 Q404.9063,115.6719 404.4844,115.3125 Q404.0625,114.9531 403.125,114.9531 L401.7969,114.9531 L401.7969,117.6406 Z M401.7969,122.4219 L403.2969,122.4219 Q404.2031,122.4219 404.7344,122.0313 Q405.2656,121.6406 405.2656,120.8906 Q405.2656,120.125 404.7656,119.6563 Q404.2656,119.1719 403,119.1719 L401.7969,119.1719 L401.7969,122.4219 Z \"/><text fill=\"#000000\" font-family=\"sans-serif\" font-size=\"12\" lengthAdjust=\"spacingAndGlyphs\" textLength=\"24\" x=\"417\" y=\"123.1543\">P12</text><line style=\"stroke: #A80036; stroke-width: 1.5;\" x1=\"389\" x2=\"443\" y1=\"135\" y2=\"135\"/></a><!--MD5=[b9389687b975829384b498ac4b7476b2]\n",
       "class E8--><a href=\"psysml:4acbdff1-c8fe-48cb-afd1-a68daa112cad\" target=\"_top\" title=\"psysml:4acbdff1-c8fe-48cb-afd1-a68daa112cad\" xlink:actuate=\"onRequest\" xlink:href=\"psysml:4acbdff1-c8fe-48cb-afd1-a68daa112cad\" xlink:show=\"new\" xlink:title=\"psysml:4acbdff1-c8fe-48cb-afd1-a68daa112cad\" xlink:type=\"simple\"><rect fill=\"#FEFECE\" filter=\"url(#f80ta3gmhhru1)\" height=\"40\" id=\"E8\" style=\"stroke: #A80036; stroke-width: 1.5;\" width=\"64\" x=\"256\" y=\"396\"/><ellipse cx=\"271\" cy=\"412\" fill=\"#008000\" rx=\"11\" ry=\"11\" style=\"stroke: #A80036; stroke-width: 1.0;\"/><path d=\"M267.875,417 L267.875,406.4063 L271.1094,406.4063 Q273.0156,406.4063 273.9219,407.1563 Q274.8438,407.9063 274.8438,409.0781 Q274.8438,409.7656 274.4531,410.4219 Q274.0781,411.0781 273.3594,411.375 Q274.2188,411.75 274.7344,412.4375 Q275.25,413.125 275.25,413.9375 Q275.25,415.3125 274.2188,416.1563 Q273.2031,417 271.0938,417 L267.875,417 Z M269.7969,410.6406 L270.9531,410.6406 Q272.0781,410.6406 272.4844,410.2656 Q272.9063,409.875 272.9063,409.25 Q272.9063,408.6719 272.4844,408.3125 Q272.0625,407.9531 271.125,407.9531 L269.7969,407.9531 L269.7969,410.6406 Z M269.7969,415.4219 L271.2969,415.4219 Q272.2031,415.4219 272.7344,415.0313 Q273.2656,414.6406 273.2656,413.8906 Q273.2656,413.125 272.7656,412.6563 Q272.2656,412.1719 271,412.1719 L269.7969,412.1719 L269.7969,415.4219 Z \"/><text fill=\"#000000\" font-family=\"sans-serif\" font-size=\"12\" lengthAdjust=\"spacingAndGlyphs\" textLength=\"32\" x=\"285\" y=\"416.1543\">P211</text><line style=\"stroke: #A80036; stroke-width: 1.5;\" x1=\"257\" x2=\"319\" y1=\"428\" y2=\"428\"/></a><!--MD5=[b0060bfdb0500b904584095522b4da3c]\n",
       "link E2 to E8--><a href=\"psysml:4f20d9a0-229b-41ce-a3f9-ec650db8275f\" target=\"_top\" title=\"psysml:4f20d9a0-229b-41ce-a3f9-ec650db8275f\" xlink:actuate=\"onRequest\" xlink:href=\"psysml:4f20d9a0-229b-41ce-a3f9-ec650db8275f\" xlink:show=\"new\" xlink:title=\"psysml:4f20d9a0-229b-41ce-a3f9-ec650db8275f\" xlink:type=\"simple\"><path d=\"M226.445,170.2149 C226.5356,170.4166 226.6271,170.6178 226.7196,170.8186 C227.0896,171.6218 227.4752,172.4176 227.877,173.2043 C228.6805,174.7776 229.5489,176.3144 230.4873,177.8007 C232.3642,180.7733 234.5213,183.5438 237,186 C245.89,194.81 255.98,184.39 264,194 C311.29,250.66 301.32,345.99 293.25,390.6 \" fill=\"none\" id=\"E2-&gt;E8\" style=\"stroke: #A80036; stroke-width: 1.0; stroke-dasharray: 7.0,7.0;\"/><polygon fill=\"#A80036\" points=\"292.28,395.78,297.8815,387.6792,293.2083,390.8669,290.0206,386.1938,292.28,395.78\" style=\"stroke: #A80036; stroke-width: 1.0;\"/><text fill=\"#000000\" font-family=\"sans-serif\" font-size=\"13\" lengthAdjust=\"spacingAndGlyphs\" textLength=\"58\" x=\"275\" y=\"207.0669\">«import»</text></a><!--MD5=[e3e28c1befcf002155aa15e1416b4315]\n",
       "link E2 to E6--><a href=\"psysml:682e8ea7-bcd5-404d-bf47-54c119ed8bb7\" target=\"_top\" title=\"psysml:682e8ea7-bcd5-404d-bf47-54c119ed8bb7\" xlink:actuate=\"onRequest\" xlink:href=\"psysml:682e8ea7-bcd5-404d-bf47-54c119ed8bb7\" xlink:show=\"new\" xlink:title=\"psysml:682e8ea7-bcd5-404d-bf47-54c119ed8bb7\" xlink:type=\"simple\"><path d=\"M209.877,125.4701 C209.6546,125.5149 209.4281,125.5608 209.1978,125.6079 C208.737,125.702 208.2606,125.8006 207.769,125.9039 C205.8025,126.3169 203.5938,126.8041 201.1794,127.3719 C191.5219,129.6431 178.575,133.205 164.6925,138.4775 C136.9275,149.0225 105.42,166.41 89,194 C62.55,238.445 82.485,292.6775 109.5525,336.295 C123.0863,358.1038 138.4031,377.2587 150.5966,391.2097 C153.6449,394.6974 156.4981,397.8599 159.0793,400.6573 C160.37,402.056 161.5926,403.3634 162.7377,404.5745 C163.3103,405.1801 163.8635,405.7616 164.396,406.3185 C164.5292,406.4577 164.661,406.5953 164.7916,406.7314 \" fill=\"none\" id=\"E2-&gt;E6\" style=\"stroke: #A80036; stroke-width: 1.0; stroke-dasharray: 7.0,7.0;\"/><polygon fill=\"#A80036\" points=\"164.7916,406.7314,161.4484,397.4674,161.3305,403.123,155.6749,403.0051,164.7916,406.7314\" style=\"stroke: #A80036; stroke-width: 1.0;\"/><text fill=\"#000000\" font-family=\"sans-serif\" font-size=\"13\" lengthAdjust=\"spacingAndGlyphs\" textLength=\"65\" x=\"90\" y=\"207.0669\">«import»*</text></a><!--MD5=[e3d2a08a9c9236652057e8ed0cbc9b62]\n",
       "link E2 to E7--><a href=\"psysml:60c32f43-2902-493b-8362-f480edbb78ed\" target=\"_top\" title=\"psysml:60c32f43-2902-493b-8362-f480edbb78ed\" xlink:actuate=\"onRequest\" xlink:href=\"psysml:60c32f43-2902-493b-8362-f480edbb78ed\" xlink:show=\"new\" xlink:title=\"psysml:60c32f43-2902-493b-8362-f480edbb78ed\" xlink:type=\"simple\"><path d=\"M209.8469,130.2615 C209.6656,130.4079 209.482,130.5565 209.2962,130.7073 C208.9247,131.0089 208.5446,131.3194 208.1563,131.6385 C207.3799,132.2768 206.5713,132.9496 205.7358,133.6548 C199.0516,139.2966 190.6431,147.0119 183.1763,155.7113 C168.2425,173.11 157.075,194.445 171,211 C184.36,226.88 203.48,203.26 217,219 C230.97,235.27 232.1575,283.005 229.7613,327.29 C229.4617,332.8256 229.1062,338.3073 228.7126,343.667 C228.5159,346.3468 228.3096,348.9961 228.096,351.6063 C228.0693,351.9326 228.0425,352.2582 228.0156,352.5833 \" fill=\"none\" id=\"E2-&gt;E7\" style=\"stroke: #A80036; stroke-width: 1.0; stroke-dasharray: 7.0,7.0;\"/><polygon fill=\"#A80036\" points=\"228.0156,352.5833,232.7447,343.9441,228.4282,347.6003,224.772,343.2839,228.0156,352.5833\" style=\"stroke: #A80036; stroke-width: 1.0;\"/><text fill=\"#000000\" font-family=\"sans-serif\" font-size=\"13\" lengthAdjust=\"spacingAndGlyphs\" textLength=\"87\" x=\"172\" y=\"207.0669\">«import»*::**</text></a><!--MD5=[ca5a752d6098d8a44b3f88316e7452d1]\n",
       "link E3 to E8--><a href=\"psysml:37accf74-aaef-4298-a8d1-458e277c829e\" target=\"_top\" title=\"psysml:37accf74-aaef-4298-a8d1-458e277c829e\" xlink:actuate=\"onRequest\" xlink:href=\"psysml:37accf74-aaef-4298-a8d1-458e277c829e\" xlink:show=\"new\" xlink:title=\"psysml:37accf74-aaef-4298-a8d1-458e277c829e\" xlink:type=\"simple\"><path d=\"M335.65,146.11 C358.22,164.11 381.31,189.89 364,211 C352.51,225.02 336.72,206.08 324,219 C283.4,260.25 280.49,331.28 283.35,375.56 \" fill=\"none\" id=\"E3-&gt;E8\" style=\"stroke: #A80036; stroke-width: 1.0;\"/><polygon fill=\"#FFFFFF\" points=\"285.17,395.71,276.488,377.4173,290.4312,376.157,285.17,395.71\" style=\"stroke: #A80036; stroke-width: 1.0;\"/><ellipse cx=\"277.9668\" cy=\"371.5604\" fill=\"#A80036\" rx=\"2\" ry=\"2\" style=\"stroke: #A80036; stroke-width: 1.0;\"/><ellipse cx=\"287.9262\" cy=\"370.6602\" fill=\"#A80036\" rx=\"2\" ry=\"2\" style=\"stroke: #A80036; stroke-width: 1.0;\"/></a><!--MD5=[15ebcb19ae302d9b601edb458606d402]\n",
       "link E5 to E2--><a href=\"psysml:a29f5286-6760-4cc8-8866-2ed3ee4f3eda\" target=\"_top\" title=\"psysml:a29f5286-6760-4cc8-8866-2ed3ee4f3eda\" xlink:actuate=\"onRequest\" xlink:href=\"psysml:a29f5286-6760-4cc8-8866-2ed3ee4f3eda\" xlink:show=\"new\" xlink:title=\"psysml:a29f5286-6760-4cc8-8866-2ed3ee4f3eda\" xlink:type=\"simple\"><path d=\"M378.8691,234.9633 C378.4369,234.2811 378.0005,233.6019 377.56,232.9257 C376.679,231.5734 375.7812,230.2334 374.8664,228.9066 C373.0369,226.2531 371.1393,223.6526 369.171,221.1125 C361.298,210.952 352.295,201.7575 342,194 C323.31,179.92 255.27,200.62 237,186 C234.275,183.82 231.9314,181.2588 229.9168,178.4406 C228.9095,177.0315 227.9844,175.5581 227.1351,174.0361 C226.7104,173.2751 226.3046,172.5019 225.917,171.7185 C225.7231,171.3268 225.5338,170.9326 225.349,170.536 C225.3027,170.4368 225.2568,170.3375 225.2111,170.2381 \" fill=\"none\" id=\"E5-&gt;E2\" style=\"stroke: #A80036; stroke-width: 1.0; stroke-dasharray: 7.0,7.0;\"/><polygon fill=\"#A80036\" points=\"225.2111,170.2381,225.3326,180.0862,227.298,174.7818,232.6025,176.7472,225.2111,170.2381\" style=\"stroke: #A80036; stroke-width: 1.0;\"/><text fill=\"#000000\" font-family=\"sans-serif\" font-size=\"13\" lengthAdjust=\"spacingAndGlyphs\" textLength=\"65\" x=\"361\" y=\"207.0669\">«import»*</text></a><!--MD5=[d7bb3fb34add81b710575eb3799fa2ad]\n",
       "link E8 to E4--><a href=\"psysml:d1a96eaf-259a-4888-9f98-ae46b38eb818\" target=\"_top\" title=\"psysml:d1a96eaf-259a-4888-9f98-ae46b38eb818\" xlink:actuate=\"onRequest\" xlink:href=\"psysml:d1a96eaf-259a-4888-9f98-ae46b38eb818\" xlink:show=\"new\" xlink:title=\"psysml:d1a96eaf-259a-4888-9f98-ae46b38eb818\" xlink:type=\"simple\"><path d=\"M284.69,395.73 C279.07,355.79 272.78,263.97 324,219 C336.88,207.7 466.2,223.43 478,211 C494.2,193.93 479.12,172.42 459.77,155.05 \" fill=\"none\" id=\"E8-&gt;E4\" style=\"stroke: #A80036; stroke-width: 1.0;\"/><polygon fill=\"none\" points=\"455.36,160.48,444.24,142.45,464.18,149.61,455.36,160.48\" style=\"stroke: #A80036; stroke-width: 1.0;\"/></a><!--MD5=[3bb31506e55ed27df5468d380183e34f]\n",
       "@startuml\r\n",
       " \r\n",
       "package \"ImportTest\" as E1  [[psysml:4ef55e29-a78c-4120-8a0e-706d60f3b916 ]]  {\r\n",
       "package \"Pkg1\" as E2  [[psysml:fc5e85ef-31d8-4451-b981-c90381fde50e ]]  {\r\n",
       "comp usage \"p11: P211 \" as E3 << << (P,limegreen) part>> [[psysml:fe6123c1-7336-461e-a67a-648132fed175 ]] {\r\n",
       "}\r\n",
       "comp def \"P12\" as E4 << << (B,green) >> [[psysml:1380541e-fc30-40f5-9a60-edda9aa0065e ]] {\r\n",
       "}\r\n",
       "}\r\n",
       "package \"Pkg2\" as E5  [[psysml:c270e78f-1935-46bf-a024-66cb4836716b ]]  {\r\n",
       "package \"Pkg21\" as E6  [[psysml:ed944fef-70b9-4524-9917-716ca36e9ac1 ]]  {\r\n",
       "package \"Pkg211\" as E7  [[psysml:9f58dbb8-6a8c-4281-a4ad-0fbab28478f4 ]]  {\r\n",
       "comp def \"P211\" as E8 << << (B,green) >> [[psysml:4acbdff1-c8fe-48cb-afd1-a68daa112cad ]] {\r\n",
       "}\r\n",
       "}\r\n",
       "}\r\n",
       "}\r\n",
       "}\r\n",
       "E2 ..> E8 [[psysml:4f20d9a0-229b-41ce-a3f9-ec650db8275f ]] : <<import>>\r\n",
       "E2 ..> E6 [[psysml:682e8ea7-bcd5-404d-bf47-54c119ed8bb7 ]] : <<import>>*\r\n",
       "E2 ..> E7 [[psysml:60c32f43-2902-493b-8362-f480edbb78ed ]] : <<import>>*::**\r\n",
       "E3 - -:|> E8 [[psysml:37accf74-aaef-4298-a8d1-458e277c829e ]] \r\n",
       "E5 ..> E2 [[psysml:a29f5286-6760-4cc8-8866-2ed3ee4f3eda ]] : <<import>>*\r\n",
       "E8 - -|> E4 [[psysml:d1a96eaf-259a-4888-9f98-ae46b38eb818 ]] \r\n",
       "@enduml\r\n",
       "\n",
       "PlantUML version 1.2020.13(Sat Jun 13 12:26:38 UTC 2020)\n",
       "(EPL source distribution)\n",
       "Java Runtime: OpenJDK Runtime Environment\n",
       "JVM: OpenJDK 64-Bit Server VM\n",
       "Default Encoding: UTF-8\n",
       "Language: en\n",
       "Country: null\n",
       "--></g></svg>"
      ]
     },
     "execution_count": 36,
     "metadata": {},
     "output_type": "execute_result"
    }
   ],
   "source": [
    "%viz --style=\"PLANTUML\" --view=\"MIXED\" \"ImportTest\""
   ]
  },
  {
   "cell_type": "code",
   "execution_count": 37,
   "id": "51e4aa92",
   "metadata": {
    "execution": {
     "iopub.execute_input": "2022-02-18T10:47:00.276808Z",
     "iopub.status.busy": "2022-02-18T10:47:00.276411Z",
     "iopub.status.idle": "2022-02-18T10:47:00.310822Z",
     "shell.execute_reply": "2022-02-18T10:47:00.310436Z"
    }
   },
   "outputs": [
    {
     "data": {
      "image/svg+xml": [
       "<?xml version=\"1.0\" encoding=\"UTF-8\" standalone=\"no\"?><svg xmlns=\"http://www.w3.org/2000/svg\" xmlns:xlink=\"http://www.w3.org/1999/xlink\" contentScriptType=\"application/ecmascript\" contentStyleType=\"text/css\" height=\"590px\" preserveAspectRatio=\"none\" style=\"width:522px;height:590px;\" version=\"1.1\" viewBox=\"0 0 522 590\" width=\"522px\" zoomAndPan=\"magnify\"><defs/><g><!--MD5=[fbc87193dbaf4d95561dea2c320d4a47]\n",
       "cluster E1--><a href=\"psysml:4ef55e29-a78c-4120-8a0e-706d60f3b916\" target=\"_top\" title=\"psysml:4ef55e29-a78c-4120-8a0e-706d60f3b916\" xlink:actuate=\"onRequest\" xlink:href=\"psysml:4ef55e29-a78c-4120-8a0e-706d60f3b916\" xlink:show=\"new\" xlink:title=\"psysml:4ef55e29-a78c-4120-8a0e-706d60f3b916\" xlink:type=\"simple\"><polygon fill=\"#FFFFFF\" points=\"16,6,97,6,104,28.2969,500,28.2969,500,578,16,578,16,6\" style=\"stroke: #000000; stroke-width: 1.5;\"/><line style=\"stroke: #000000; stroke-width: 1.5;\" x1=\"16\" x2=\"104\" y1=\"28.2969\" y2=\"28.2969\"/><text fill=\"#000000\" font-family=\"sans-serif\" font-size=\"14\" font-weight=\"bold\" lengthAdjust=\"spacingAndGlyphs\" textLength=\"75\" x=\"20\" y=\"20.9951\">ImportTest</text></a><!--MD5=[e4f7fae6ed58524ba242bb0b0d3be6b7]\n",
       "cluster E2--><a href=\"psysml:fc5e85ef-31d8-4451-b981-c90381fde50e\" target=\"_top\" title=\"psysml:fc5e85ef-31d8-4451-b981-c90381fde50e\" xlink:actuate=\"onRequest\" xlink:href=\"psysml:fc5e85ef-31d8-4451-b981-c90381fde50e\" xlink:show=\"new\" xlink:title=\"psysml:fc5e85ef-31d8-4451-b981-c90381fde50e\" xlink:type=\"simple\"><polygon fill=\"#FFFFFF\" points=\"222,57,263,57,270,79.2969,468,79.2969,468,170,222,170,222,57\" style=\"stroke: #000000; stroke-width: 1.5;\"/><line style=\"stroke: #000000; stroke-width: 1.5;\" x1=\"222\" x2=\"270\" y1=\"79.2969\" y2=\"79.2969\"/><text fill=\"#000000\" font-family=\"sans-serif\" font-size=\"14\" font-weight=\"bold\" lengthAdjust=\"spacingAndGlyphs\" textLength=\"35\" x=\"226\" y=\"71.9951\">Pkg1</text></a><!--MD5=[de5ec2e2e8f62f467e546659f5068c88]\n",
       "cluster E5--><a href=\"psysml:c270e78f-1935-46bf-a024-66cb4836716b\" target=\"_top\" title=\"psysml:c270e78f-1935-46bf-a024-66cb4836716b\" xlink:actuate=\"onRequest\" xlink:href=\"psysml:c270e78f-1935-46bf-a024-66cb4836716b\" xlink:show=\"new\" xlink:title=\"psysml:c270e78f-1935-46bf-a024-66cb4836716b\" xlink:type=\"simple\"><polygon fill=\"#FFFFFF\" points=\"121,235,162,235,169,257.2969,434,257.2969,434,546,121,546,121,235\" style=\"stroke: #000000; stroke-width: 1.5;\"/><line style=\"stroke: #000000; stroke-width: 1.5;\" x1=\"121\" x2=\"169\" y1=\"257.2969\" y2=\"257.2969\"/><text fill=\"#000000\" font-family=\"sans-serif\" font-size=\"14\" font-weight=\"bold\" lengthAdjust=\"spacingAndGlyphs\" textLength=\"35\" x=\"125\" y=\"249.9951\">Pkg2</text></a><!--MD5=[14e3b0961a2654348d326746436168a1]\n",
       "cluster E6--><a href=\"psysml:ed944fef-70b9-4524-9917-716ca36e9ac1\" target=\"_top\" title=\"psysml:ed944fef-70b9-4524-9917-716ca36e9ac1\" xlink:actuate=\"onRequest\" xlink:href=\"psysml:ed944fef-70b9-4524-9917-716ca36e9ac1\" xlink:show=\"new\" xlink:title=\"psysml:ed944fef-70b9-4524-9917-716ca36e9ac1\" xlink:type=\"simple\"><polygon fill=\"#FFFFFF\" points=\"161,294,211,294,218,316.2969,386,316.2969,386,506,161,506,161,294\" style=\"stroke: #000000; stroke-width: 1.5;\"/><line style=\"stroke: #000000; stroke-width: 1.5;\" x1=\"161\" x2=\"218\" y1=\"316.2969\" y2=\"316.2969\"/><text fill=\"#000000\" font-family=\"sans-serif\" font-size=\"14\" font-weight=\"bold\" lengthAdjust=\"spacingAndGlyphs\" textLength=\"44\" x=\"165\" y=\"308.9951\">Pkg21</text></a><!--MD5=[168fadf3d0c3fd93dd5d6da1b1d7ab76]\n",
       "cluster E7--><a href=\"psysml:9f58dbb8-6a8c-4281-a4ad-0fbab28478f4\" target=\"_top\" title=\"psysml:9f58dbb8-6a8c-4281-a4ad-0fbab28478f4\" xlink:actuate=\"onRequest\" xlink:href=\"psysml:9f58dbb8-6a8c-4281-a4ad-0fbab28478f4\" xlink:show=\"new\" xlink:title=\"psysml:9f58dbb8-6a8c-4281-a4ad-0fbab28478f4\" xlink:type=\"simple\"><polygon fill=\"#FFFFFF\" points=\"209,353,268,353,275,375.2969,346,375.2969,346,466,209,466,209,353\" style=\"stroke: #000000; stroke-width: 1.5;\"/><line style=\"stroke: #000000; stroke-width: 1.5;\" x1=\"209\" x2=\"275\" y1=\"375.2969\" y2=\"375.2969\"/><text fill=\"#000000\" font-family=\"sans-serif\" font-size=\"14\" font-weight=\"bold\" lengthAdjust=\"spacingAndGlyphs\" textLength=\"53\" x=\"213\" y=\"367.9951\">Pkg211</text></a><!--MD5=[09b614a08d8cba4a07c9adeb5e0fee81]\n",
       "class E3--><a href=\"psysml:fe6123c1-7336-461e-a67a-648132fed175\" target=\"_top\" title=\"psysml:fe6123c1-7336-461e-a67a-648132fed175\" xlink:actuate=\"onRequest\" xlink:href=\"psysml:fe6123c1-7336-461e-a67a-648132fed175\" xlink:show=\"new\" xlink:title=\"psysml:fe6123c1-7336-461e-a67a-648132fed175\" xlink:type=\"simple\"><rect fill=\"#FFFFFF\" height=\"45.9375\" id=\"E3\" rx=\"10\" ry=\"10\" style=\"stroke: #383838; stroke-width: 1.5;\" width=\"74\" x=\"265\" y=\"100\"/><text fill=\"#000000\" font-family=\"sans-serif\" font-size=\"12\" font-style=\"italic\" lengthAdjust=\"spacingAndGlyphs\" textLength=\"40\" x=\"282\" y=\"116.1387\">«part»</text><text fill=\"#000000\" font-family=\"sans-serif\" font-size=\"12\" lengthAdjust=\"spacingAndGlyphs\" textLength=\"64\" x=\"268\" y=\"130.1074\">p11: P211</text><line style=\"stroke: #383838; stroke-width: 1.5;\" x1=\"266\" x2=\"338\" y1=\"137.9375\" y2=\"137.9375\"/></a><!--MD5=[ebbe1d658d1005bcc118a6aa81145e00]\n",
       "class E4--><a href=\"psysml:1380541e-fc30-40f5-9a60-edda9aa0065e\" target=\"_top\" title=\"psysml:1380541e-fc30-40f5-9a60-edda9aa0065e\" xlink:actuate=\"onRequest\" xlink:href=\"psysml:1380541e-fc30-40f5-9a60-edda9aa0065e\" xlink:show=\"new\" xlink:title=\"psysml:1380541e-fc30-40f5-9a60-edda9aa0065e\" xlink:type=\"simple\"><rect fill=\"#FFFFFF\" height=\"45.9375\" id=\"E4\" style=\"stroke: #383838; stroke-width: 1.5;\" width=\"70\" x=\"374\" y=\"100\"/><text fill=\"#000000\" font-family=\"sans-serif\" font-size=\"12\" font-style=\"italic\" lengthAdjust=\"spacingAndGlyphs\" textLength=\"68\" x=\"375\" y=\"116.1387\">«part  def»</text><text fill=\"#000000\" font-family=\"sans-serif\" font-size=\"12\" lengthAdjust=\"spacingAndGlyphs\" textLength=\"24\" x=\"397\" y=\"130.1074\">P12</text><line style=\"stroke: #383838; stroke-width: 1.5;\" x1=\"375\" x2=\"443\" y1=\"137.9375\" y2=\"137.9375\"/></a><!--MD5=[b9389687b975829384b498ac4b7476b2]\n",
       "class E8--><a href=\"psysml:4acbdff1-c8fe-48cb-afd1-a68daa112cad\" target=\"_top\" title=\"psysml:4acbdff1-c8fe-48cb-afd1-a68daa112cad\" xlink:actuate=\"onRequest\" xlink:href=\"psysml:4acbdff1-c8fe-48cb-afd1-a68daa112cad\" xlink:show=\"new\" xlink:title=\"psysml:4acbdff1-c8fe-48cb-afd1-a68daa112cad\" xlink:type=\"simple\"><rect fill=\"#FFFFFF\" height=\"45.9375\" id=\"E8\" style=\"stroke: #383838; stroke-width: 1.5;\" width=\"70\" x=\"252\" y=\"396\"/><text fill=\"#000000\" font-family=\"sans-serif\" font-size=\"12\" font-style=\"italic\" lengthAdjust=\"spacingAndGlyphs\" textLength=\"68\" x=\"253\" y=\"412.1387\">«part  def»</text><text fill=\"#000000\" font-family=\"sans-serif\" font-size=\"12\" lengthAdjust=\"spacingAndGlyphs\" textLength=\"32\" x=\"271\" y=\"426.1074\">P211</text><line style=\"stroke: #383838; stroke-width: 1.5;\" x1=\"253\" x2=\"321\" y1=\"433.9375\" y2=\"433.9375\"/></a><!--MD5=[b0060bfdb0500b904584095522b4da3c]\n",
       "link E2 to E8--><a href=\"psysml:4f20d9a0-229b-41ce-a3f9-ec650db8275f\" target=\"_top\" title=\"psysml:4f20d9a0-229b-41ce-a3f9-ec650db8275f\" xlink:actuate=\"onRequest\" xlink:href=\"psysml:4f20d9a0-229b-41ce-a3f9-ec650db8275f\" xlink:show=\"new\" xlink:title=\"psysml:4f20d9a0-229b-41ce-a3f9-ec650db8275f\" xlink:type=\"simple\"><path d=\"M239.5673,170.044 C239.9187,170.8643 240.2829,171.6796 240.6605,172.4884 C241.4156,174.106 242.2242,175.6975 243.0899,177.2503 C244.8213,180.3558 246.7813,183.3063 249,186 C253.8,191.83 259.79,187.73 264,194 C304.62,254.46 298.3,345.57 291.84,390.69 \" fill=\"none\" id=\"E2-&gt;E8\" style=\"stroke: #383838; stroke-width: 1.0; stroke-dasharray: 7.0,7.0;\"/><polygon fill=\"#383838\" points=\"291.1,395.69,296.3662,387.3673,291.8271,390.7431,288.4512,386.204,291.1,395.69\" style=\"stroke: #383838; stroke-width: 1.0;\"/><text fill=\"#000000\" font-family=\"sans-serif\" font-size=\"13\" lengthAdjust=\"spacingAndGlyphs\" textLength=\"58\" x=\"274\" y=\"207.0669\">«import»</text></a><!--MD5=[e3e28c1befcf002155aa15e1416b4315]\n",
       "link E2 to E6--><a href=\"psysml:682e8ea7-bcd5-404d-bf47-54c119ed8bb7\" target=\"_top\" title=\"psysml:682e8ea7-bcd5-404d-bf47-54c119ed8bb7\" xlink:actuate=\"onRequest\" xlink:href=\"psysml:682e8ea7-bcd5-404d-bf47-54c119ed8bb7\" xlink:show=\"new\" xlink:title=\"psysml:682e8ea7-bcd5-404d-bf47-54c119ed8bb7\" xlink:type=\"simple\"><path d=\"M221.7454,125.2359 C221.6297,125.2555 221.5129,125.2754 221.395,125.2955 C221.1593,125.3358 220.9193,125.3771 220.6752,125.4195 C220.1869,125.5042 219.6819,125.5933 219.1609,125.6868 C217.0769,126.0607 214.7359,126.5053 212.1769,127.0288 C201.9406,129.1225 188.215,132.4775 173.4875,137.615 C144.0325,147.89 110.57,165.295 93,194 C65.99,238.135 83.98,293.0875 109.2162,337.5175 C121.8344,359.7325 136.2641,379.3169 147.7861,393.6031 C150.6666,397.1747 153.3654,400.4151 155.8087,403.2827 C157.0304,404.7165 158.1881,406.0571 159.2728,407.2993 C159.8152,407.9204 160.3393,408.5169 160.8439,409.0882 \" fill=\"none\" id=\"E2-&gt;E6\" style=\"stroke: #383838; stroke-width: 1.0; stroke-dasharray: 7.0,7.0;\"/><polygon fill=\"#383838\" points=\"160.8439,409.0882,157.8829,399.695,157.5335,405.341,151.8875,404.9916,160.8439,409.0882\" style=\"stroke: #383838; stroke-width: 1.0;\"/><text fill=\"#000000\" font-family=\"sans-serif\" font-size=\"13\" lengthAdjust=\"spacingAndGlyphs\" textLength=\"65\" x=\"94\" y=\"207.0669\">«import»*</text></a><!--MD5=[e3d2a08a9c9236652057e8ed0cbc9b62]\n",
       "link E2 to E7--><a href=\"psysml:60c32f43-2902-493b-8362-f480edbb78ed\" target=\"_top\" title=\"psysml:60c32f43-2902-493b-8362-f480edbb78ed\" xlink:actuate=\"onRequest\" xlink:href=\"psysml:60c32f43-2902-493b-8362-f480edbb78ed\" xlink:show=\"new\" xlink:title=\"psysml:60c32f43-2902-493b-8362-f480edbb78ed\" xlink:type=\"simple\"><path d=\"M221.8807,130.2617 C221.7401,130.3761 221.5982,130.4918 221.4548,130.6091 C216.8678,134.36 210.8594,139.5688 204.5113,145.875 C191.815,158.4875 177.76,175.49 171,194 C168.41,201.1 166.18,205.18 171,211 C183.11,225.64 200.74,204.48 213,219 C227.045,235.63 228.2325,284.0975 225.8175,329.0338 C225.5156,334.6508 225.1575,340.2126 224.7611,345.6502 C224.662,347.0096 224.5605,348.3613 224.4569,349.7041 C224.4051,350.3755 224.3528,351.0446 224.3,351.7115 C224.2736,352.0449 224.2471,352.3777 224.2204,352.71 \" fill=\"none\" id=\"E2-&gt;E7\" style=\"stroke: #383838; stroke-width: 1.0; stroke-dasharray: 7.0,7.0;\"/><polygon fill=\"#383838\" points=\"224.2204,352.71,228.9272,344.0586,224.6202,347.726,220.9528,343.419,224.2204,352.71\" style=\"stroke: #383838; stroke-width: 1.0;\"/><text fill=\"#000000\" font-family=\"sans-serif\" font-size=\"13\" lengthAdjust=\"spacingAndGlyphs\" textLength=\"87\" x=\"172\" y=\"207.0669\">«import»*::**</text></a><!--MD5=[ca5a752d6098d8a44b3f88316e7452d1]\n",
       "link E3 to E8--><a href=\"psysml:37accf74-aaef-4298-a8d1-458e277c829e\" target=\"_top\" title=\"psysml:37accf74-aaef-4298-a8d1-458e277c829e\" xlink:actuate=\"onRequest\" xlink:href=\"psysml:37accf74-aaef-4298-a8d1-458e277c829e\" xlink:show=\"new\" xlink:title=\"psysml:37accf74-aaef-4298-a8d1-458e277c829e\" xlink:type=\"simple\"><path d=\"M321.59,146.07 C339.73,166.51 363.93,193.81 364,194 C366.68,201.06 368.76,205.13 364,211 C353.13,224.4 338.12,206.71 326,219 C285.31,260.27 280.82,330.75 282.81,375.81 \" fill=\"none\" id=\"E3-&gt;E8\" style=\"stroke: #383838; stroke-width: 1.0;\"/><polygon fill=\"#FFFFFF\" points=\"284.19,395.93,275.9039,377.4546,289.8709,376.4948,284.19,395.93\" style=\"stroke: #383838; stroke-width: 1.0;\"/><ellipse cx=\"277.5084\" cy=\"371.6309\" fill=\"#383838\" rx=\"2\" ry=\"2\" style=\"stroke: #383838; stroke-width: 1.0;\"/><ellipse cx=\"287.4849\" cy=\"370.9453\" fill=\"#383838\" rx=\"2\" ry=\"2\" style=\"stroke: #383838; stroke-width: 1.0;\"/></a><!--MD5=[15ebcb19ae302d9b601edb458606d402]\n",
       "link E5 to E2--><a href=\"psysml:a29f5286-6760-4cc8-8866-2ed3ee4f3eda\" target=\"_top\" title=\"psysml:a29f5286-6760-4cc8-8866-2ed3ee4f3eda\" xlink:actuate=\"onRequest\" xlink:href=\"psysml:a29f5286-6760-4cc8-8866-2ed3ee4f3eda\" xlink:show=\"new\" xlink:title=\"psysml:a29f5286-6760-4cc8-8866-2ed3ee4f3eda\" xlink:type=\"simple\"><path d=\"M377.9071,234.5987 C377.6837,234.254 377.4593,233.91 377.2338,233.5668 C376.3317,232.1941 375.413,230.8338 374.4773,229.4868 C372.6059,226.7928 370.6665,224.152 368.6567,221.572 C360.6175,211.2517 351.4513,201.9025 341,194 C324.63,181.62 264.96,198.91 249,186 C246.2863,183.805 243.9511,181.2325 241.9426,178.4061 C240.9384,176.9929 240.0159,175.5163 239.1685,173.9916 C238.7448,173.2292 238.3399,172.4549 237.953,171.6705 C237.7596,171.2782 237.5706,170.8835 237.3861,170.4865 C237.3399,170.3873 237.2941,170.2879 237.2485,170.1883 \" fill=\"none\" id=\"E5-&gt;E2\" style=\"stroke: #383838; stroke-width: 1.0; stroke-dasharray: 7.0,7.0;\"/><polygon fill=\"#383838\" points=\"237.2485,170.1883,237.3599,180.0366,239.3307,174.7341,244.6331,176.705,237.2485,170.1883\" style=\"stroke: #383838; stroke-width: 1.0;\"/><text fill=\"#000000\" font-family=\"sans-serif\" font-size=\"13\" lengthAdjust=\"spacingAndGlyphs\" textLength=\"65\" x=\"356\" y=\"207.0669\">«import»*</text></a><!--MD5=[d7bb3fb34add81b710575eb3799fa2ad]\n",
       "link E8 to E4--><a href=\"psysml:d1a96eaf-259a-4888-9f98-ae46b38eb818\" target=\"_top\" title=\"psysml:d1a96eaf-259a-4888-9f98-ae46b38eb818\" xlink:actuate=\"onRequest\" xlink:href=\"psysml:d1a96eaf-259a-4888-9f98-ae46b38eb818\" xlink:show=\"new\" xlink:title=\"psysml:d1a96eaf-259a-4888-9f98-ae46b38eb818\" xlink:type=\"simple\"><path d=\"M283.6,395.87 C278.58,354.03 274.69,263.54 326,219 C338.77,207.91 466.36,223.27 478,211 C493.94,194.2 479.72,174.01 460.15,157.31 \" fill=\"none\" id=\"E8-&gt;E4\" style=\"stroke: #383838; stroke-width: 1.0;\"/><polygon fill=\"none\" points=\"455.78,162.78,444.15,145.06,464.29,151.66,455.78,162.78\" style=\"stroke: #383838; stroke-width: 1.0;\"/></a><!--MD5=[e20079ec3762cfc64ffd5c0e64e8ec69]\n",
       "@startuml\r\n",
       "skinparam monochrome true\r\n",
       "skinparam classbackgroundcolor white\r\n",
       "skinparam shadowing false\r\n",
       "skinparam wrapWidth 300\r\n",
       "hide circle\r\n",
       "\r\n",
       "package \"ImportTest\" as E1  [[psysml:4ef55e29-a78c-4120-8a0e-706d60f3b916 ]]  {\r\n",
       "package \"Pkg1\" as E2  [[psysml:fc5e85ef-31d8-4451-b981-c90381fde50e ]]  {\r\n",
       "comp usage \"p11: P211 \" as E3  <<(T,blue) part>> [[psysml:fe6123c1-7336-461e-a67a-648132fed175 ]] {\r\n",
       "}\r\n",
       "comp def \"P12\" as E4  <<(T,blue) part  def>> [[psysml:1380541e-fc30-40f5-9a60-edda9aa0065e ]] {\r\n",
       "}\r\n",
       "}\r\n",
       "package \"Pkg2\" as E5  [[psysml:c270e78f-1935-46bf-a024-66cb4836716b ]]  {\r\n",
       "package \"Pkg21\" as E6  [[psysml:ed944fef-70b9-4524-9917-716ca36e9ac1 ]]  {\r\n",
       "package \"Pkg211\" as E7  [[psysml:9f58dbb8-6a8c-4281-a4ad-0fbab28478f4 ]]  {\r\n",
       "comp def \"P211\" as E8  <<(T,blue) part  def>> [[psysml:4acbdff1-c8fe-48cb-afd1-a68daa112cad ]] {\r\n",
       "}\r\n",
       "}\r\n",
       "}\r\n",
       "}\r\n",
       "}\r\n",
       "E2 ..> E8 [[psysml:4f20d9a0-229b-41ce-a3f9-ec650db8275f ]] : <<import>>\r\n",
       "E2 ..> E6 [[psysml:682e8ea7-bcd5-404d-bf47-54c119ed8bb7 ]] : <<import>>*\r\n",
       "E2 ..> E7 [[psysml:60c32f43-2902-493b-8362-f480edbb78ed ]] : <<import>>*::**\r\n",
       "E3 - -:|> E8 [[psysml:37accf74-aaef-4298-a8d1-458e277c829e ]] \r\n",
       "E5 ..> E2 [[psysml:a29f5286-6760-4cc8-8866-2ed3ee4f3eda ]] : <<import>>*\r\n",
       "E8 - -|> E4 [[psysml:d1a96eaf-259a-4888-9f98-ae46b38eb818 ]] \r\n",
       "@enduml\r\n",
       "\n",
       "PlantUML version 1.2020.13(Sat Jun 13 12:26:38 UTC 2020)\n",
       "(EPL source distribution)\n",
       "Java Runtime: OpenJDK Runtime Environment\n",
       "JVM: OpenJDK 64-Bit Server VM\n",
       "Default Encoding: UTF-8\n",
       "Language: en\n",
       "Country: null\n",
       "--></g></svg>"
      ]
     },
     "execution_count": 37,
     "metadata": {},
     "output_type": "execute_result"
    }
   ],
   "source": [
    "%viz --style=\"DEFAULT\" --view=\"Default\" \"ImportTest\""
   ]
  },
  {
   "cell_type": "code",
   "execution_count": 38,
   "id": "5f3ce85c",
   "metadata": {
    "execution": {
     "iopub.execute_input": "2022-02-18T10:47:00.360387Z",
     "iopub.status.busy": "2022-02-18T10:47:00.359978Z",
     "iopub.status.idle": "2022-02-18T10:47:00.395993Z",
     "shell.execute_reply": "2022-02-18T10:47:00.395576Z"
    }
   },
   "outputs": [
    {
     "data": {
      "image/svg+xml": [
       "<?xml version=\"1.0\" encoding=\"UTF-8\" standalone=\"no\"?><svg xmlns=\"http://www.w3.org/2000/svg\" xmlns:xlink=\"http://www.w3.org/1999/xlink\" contentScriptType=\"application/ecmascript\" contentStyleType=\"text/css\" height=\"590px\" preserveAspectRatio=\"none\" style=\"width:522px;height:590px;\" version=\"1.1\" viewBox=\"0 0 522 590\" width=\"522px\" zoomAndPan=\"magnify\"><defs/><g><!--MD5=[fbc87193dbaf4d95561dea2c320d4a47]\n",
       "cluster E1--><a href=\"psysml:4ef55e29-a78c-4120-8a0e-706d60f3b916\" target=\"_top\" title=\"psysml:4ef55e29-a78c-4120-8a0e-706d60f3b916\" xlink:actuate=\"onRequest\" xlink:href=\"psysml:4ef55e29-a78c-4120-8a0e-706d60f3b916\" xlink:show=\"new\" xlink:title=\"psysml:4ef55e29-a78c-4120-8a0e-706d60f3b916\" xlink:type=\"simple\"><polygon fill=\"#FFFFFF\" points=\"16,6,97,6,104,28.2969,500,28.2969,500,578,16,578,16,6\" style=\"stroke: #000000; stroke-width: 1.5;\"/><line style=\"stroke: #000000; stroke-width: 1.5;\" x1=\"16\" x2=\"104\" y1=\"28.2969\" y2=\"28.2969\"/><text fill=\"#000000\" font-family=\"sans-serif\" font-size=\"14\" font-weight=\"bold\" lengthAdjust=\"spacingAndGlyphs\" textLength=\"75\" x=\"20\" y=\"20.9951\">ImportTest</text></a><!--MD5=[e4f7fae6ed58524ba242bb0b0d3be6b7]\n",
       "cluster E2--><a href=\"psysml:fc5e85ef-31d8-4451-b981-c90381fde50e\" target=\"_top\" title=\"psysml:fc5e85ef-31d8-4451-b981-c90381fde50e\" xlink:actuate=\"onRequest\" xlink:href=\"psysml:fc5e85ef-31d8-4451-b981-c90381fde50e\" xlink:show=\"new\" xlink:title=\"psysml:fc5e85ef-31d8-4451-b981-c90381fde50e\" xlink:type=\"simple\"><polygon fill=\"#FFFFFF\" points=\"222,57,263,57,270,79.2969,468,79.2969,468,170,222,170,222,57\" style=\"stroke: #000000; stroke-width: 1.5;\"/><line style=\"stroke: #000000; stroke-width: 1.5;\" x1=\"222\" x2=\"270\" y1=\"79.2969\" y2=\"79.2969\"/><text fill=\"#000000\" font-family=\"sans-serif\" font-size=\"14\" font-weight=\"bold\" lengthAdjust=\"spacingAndGlyphs\" textLength=\"35\" x=\"226\" y=\"71.9951\">Pkg1</text></a><!--MD5=[de5ec2e2e8f62f467e546659f5068c88]\n",
       "cluster E5--><a href=\"psysml:c270e78f-1935-46bf-a024-66cb4836716b\" target=\"_top\" title=\"psysml:c270e78f-1935-46bf-a024-66cb4836716b\" xlink:actuate=\"onRequest\" xlink:href=\"psysml:c270e78f-1935-46bf-a024-66cb4836716b\" xlink:show=\"new\" xlink:title=\"psysml:c270e78f-1935-46bf-a024-66cb4836716b\" xlink:type=\"simple\"><polygon fill=\"#FFFFFF\" points=\"121,235,162,235,169,257.2969,434,257.2969,434,546,121,546,121,235\" style=\"stroke: #000000; stroke-width: 1.5;\"/><line style=\"stroke: #000000; stroke-width: 1.5;\" x1=\"121\" x2=\"169\" y1=\"257.2969\" y2=\"257.2969\"/><text fill=\"#000000\" font-family=\"sans-serif\" font-size=\"14\" font-weight=\"bold\" lengthAdjust=\"spacingAndGlyphs\" textLength=\"35\" x=\"125\" y=\"249.9951\">Pkg2</text></a><!--MD5=[14e3b0961a2654348d326746436168a1]\n",
       "cluster E6--><a href=\"psysml:ed944fef-70b9-4524-9917-716ca36e9ac1\" target=\"_top\" title=\"psysml:ed944fef-70b9-4524-9917-716ca36e9ac1\" xlink:actuate=\"onRequest\" xlink:href=\"psysml:ed944fef-70b9-4524-9917-716ca36e9ac1\" xlink:show=\"new\" xlink:title=\"psysml:ed944fef-70b9-4524-9917-716ca36e9ac1\" xlink:type=\"simple\"><polygon fill=\"#FFFFFF\" points=\"161,294,211,294,218,316.2969,386,316.2969,386,506,161,506,161,294\" style=\"stroke: #000000; stroke-width: 1.5;\"/><line style=\"stroke: #000000; stroke-width: 1.5;\" x1=\"161\" x2=\"218\" y1=\"316.2969\" y2=\"316.2969\"/><text fill=\"#000000\" font-family=\"sans-serif\" font-size=\"14\" font-weight=\"bold\" lengthAdjust=\"spacingAndGlyphs\" textLength=\"44\" x=\"165\" y=\"308.9951\">Pkg21</text></a><!--MD5=[168fadf3d0c3fd93dd5d6da1b1d7ab76]\n",
       "cluster E7--><a href=\"psysml:9f58dbb8-6a8c-4281-a4ad-0fbab28478f4\" target=\"_top\" title=\"psysml:9f58dbb8-6a8c-4281-a4ad-0fbab28478f4\" xlink:actuate=\"onRequest\" xlink:href=\"psysml:9f58dbb8-6a8c-4281-a4ad-0fbab28478f4\" xlink:show=\"new\" xlink:title=\"psysml:9f58dbb8-6a8c-4281-a4ad-0fbab28478f4\" xlink:type=\"simple\"><polygon fill=\"#FFFFFF\" points=\"209,353,268,353,275,375.2969,346,375.2969,346,466,209,466,209,353\" style=\"stroke: #000000; stroke-width: 1.5;\"/><line style=\"stroke: #000000; stroke-width: 1.5;\" x1=\"209\" x2=\"275\" y1=\"375.2969\" y2=\"375.2969\"/><text fill=\"#000000\" font-family=\"sans-serif\" font-size=\"14\" font-weight=\"bold\" lengthAdjust=\"spacingAndGlyphs\" textLength=\"53\" x=\"213\" y=\"367.9951\">Pkg211</text></a><!--MD5=[09b614a08d8cba4a07c9adeb5e0fee81]\n",
       "class E3--><a href=\"psysml:fe6123c1-7336-461e-a67a-648132fed175\" target=\"_top\" title=\"psysml:fe6123c1-7336-461e-a67a-648132fed175\" xlink:actuate=\"onRequest\" xlink:href=\"psysml:fe6123c1-7336-461e-a67a-648132fed175\" xlink:show=\"new\" xlink:title=\"psysml:fe6123c1-7336-461e-a67a-648132fed175\" xlink:type=\"simple\"><rect fill=\"#FFFFFF\" height=\"45.9375\" id=\"E3\" rx=\"10\" ry=\"10\" style=\"stroke: #383838; stroke-width: 1.5;\" width=\"74\" x=\"265\" y=\"100\"/><text fill=\"#000000\" font-family=\"sans-serif\" font-size=\"12\" font-style=\"italic\" lengthAdjust=\"spacingAndGlyphs\" textLength=\"40\" x=\"282\" y=\"116.1387\">«part»</text><text fill=\"#000000\" font-family=\"sans-serif\" font-size=\"12\" lengthAdjust=\"spacingAndGlyphs\" textLength=\"64\" x=\"268\" y=\"130.1074\">p11: P211</text><line style=\"stroke: #383838; stroke-width: 1.5;\" x1=\"266\" x2=\"338\" y1=\"137.9375\" y2=\"137.9375\"/></a><!--MD5=[ebbe1d658d1005bcc118a6aa81145e00]\n",
       "class E4--><a href=\"psysml:1380541e-fc30-40f5-9a60-edda9aa0065e\" target=\"_top\" title=\"psysml:1380541e-fc30-40f5-9a60-edda9aa0065e\" xlink:actuate=\"onRequest\" xlink:href=\"psysml:1380541e-fc30-40f5-9a60-edda9aa0065e\" xlink:show=\"new\" xlink:title=\"psysml:1380541e-fc30-40f5-9a60-edda9aa0065e\" xlink:type=\"simple\"><rect fill=\"#FFFFFF\" height=\"45.9375\" id=\"E4\" style=\"stroke: #383838; stroke-width: 1.5;\" width=\"70\" x=\"374\" y=\"100\"/><text fill=\"#000000\" font-family=\"sans-serif\" font-size=\"12\" font-style=\"italic\" lengthAdjust=\"spacingAndGlyphs\" textLength=\"68\" x=\"375\" y=\"116.1387\">«part  def»</text><text fill=\"#000000\" font-family=\"sans-serif\" font-size=\"12\" lengthAdjust=\"spacingAndGlyphs\" textLength=\"24\" x=\"397\" y=\"130.1074\">P12</text><line style=\"stroke: #383838; stroke-width: 1.5;\" x1=\"375\" x2=\"443\" y1=\"137.9375\" y2=\"137.9375\"/></a><!--MD5=[b9389687b975829384b498ac4b7476b2]\n",
       "class E8--><a href=\"psysml:4acbdff1-c8fe-48cb-afd1-a68daa112cad\" target=\"_top\" title=\"psysml:4acbdff1-c8fe-48cb-afd1-a68daa112cad\" xlink:actuate=\"onRequest\" xlink:href=\"psysml:4acbdff1-c8fe-48cb-afd1-a68daa112cad\" xlink:show=\"new\" xlink:title=\"psysml:4acbdff1-c8fe-48cb-afd1-a68daa112cad\" xlink:type=\"simple\"><rect fill=\"#FFFFFF\" height=\"45.9375\" id=\"E8\" style=\"stroke: #383838; stroke-width: 1.5;\" width=\"70\" x=\"252\" y=\"396\"/><text fill=\"#000000\" font-family=\"sans-serif\" font-size=\"12\" font-style=\"italic\" lengthAdjust=\"spacingAndGlyphs\" textLength=\"68\" x=\"253\" y=\"412.1387\">«part  def»</text><text fill=\"#000000\" font-family=\"sans-serif\" font-size=\"12\" lengthAdjust=\"spacingAndGlyphs\" textLength=\"32\" x=\"271\" y=\"426.1074\">P211</text><line style=\"stroke: #383838; stroke-width: 1.5;\" x1=\"253\" x2=\"321\" y1=\"433.9375\" y2=\"433.9375\"/></a><!--MD5=[b0060bfdb0500b904584095522b4da3c]\n",
       "link E2 to E8--><a href=\"psysml:4f20d9a0-229b-41ce-a3f9-ec650db8275f\" target=\"_top\" title=\"psysml:4f20d9a0-229b-41ce-a3f9-ec650db8275f\" xlink:actuate=\"onRequest\" xlink:href=\"psysml:4f20d9a0-229b-41ce-a3f9-ec650db8275f\" xlink:show=\"new\" xlink:title=\"psysml:4f20d9a0-229b-41ce-a3f9-ec650db8275f\" xlink:type=\"simple\"><path d=\"M239.5673,170.044 C239.9187,170.8643 240.2829,171.6796 240.6605,172.4884 C241.4156,174.106 242.2242,175.6975 243.0899,177.2503 C244.8213,180.3558 246.7813,183.3063 249,186 C253.8,191.83 259.79,187.73 264,194 C304.62,254.46 298.3,345.57 291.84,390.69 \" fill=\"none\" id=\"E2-&gt;E8\" style=\"stroke: #383838; stroke-width: 1.0; stroke-dasharray: 7.0,7.0;\"/><polygon fill=\"#383838\" points=\"291.1,395.69,296.3662,387.3673,291.8271,390.7431,288.4512,386.204,291.1,395.69\" style=\"stroke: #383838; stroke-width: 1.0;\"/><text fill=\"#000000\" font-family=\"sans-serif\" font-size=\"13\" lengthAdjust=\"spacingAndGlyphs\" textLength=\"58\" x=\"274\" y=\"207.0669\">«import»</text></a><!--MD5=[e3e28c1befcf002155aa15e1416b4315]\n",
       "link E2 to E6--><a href=\"psysml:682e8ea7-bcd5-404d-bf47-54c119ed8bb7\" target=\"_top\" title=\"psysml:682e8ea7-bcd5-404d-bf47-54c119ed8bb7\" xlink:actuate=\"onRequest\" xlink:href=\"psysml:682e8ea7-bcd5-404d-bf47-54c119ed8bb7\" xlink:show=\"new\" xlink:title=\"psysml:682e8ea7-bcd5-404d-bf47-54c119ed8bb7\" xlink:type=\"simple\"><path d=\"M221.7454,125.2359 C221.6297,125.2555 221.5129,125.2754 221.395,125.2955 C221.1593,125.3358 220.9193,125.3771 220.6752,125.4195 C220.1869,125.5042 219.6819,125.5933 219.1609,125.6868 C217.0769,126.0607 214.7359,126.5053 212.1769,127.0288 C201.9406,129.1225 188.215,132.4775 173.4875,137.615 C144.0325,147.89 110.57,165.295 93,194 C65.99,238.135 83.98,293.0875 109.2162,337.5175 C121.8344,359.7325 136.2641,379.3169 147.7861,393.6031 C150.6666,397.1747 153.3654,400.4151 155.8087,403.2827 C157.0304,404.7165 158.1881,406.0571 159.2728,407.2993 C159.8152,407.9204 160.3393,408.5169 160.8439,409.0882 \" fill=\"none\" id=\"E2-&gt;E6\" style=\"stroke: #383838; stroke-width: 1.0; stroke-dasharray: 7.0,7.0;\"/><polygon fill=\"#383838\" points=\"160.8439,409.0882,157.8829,399.695,157.5335,405.341,151.8875,404.9916,160.8439,409.0882\" style=\"stroke: #383838; stroke-width: 1.0;\"/><text fill=\"#000000\" font-family=\"sans-serif\" font-size=\"13\" lengthAdjust=\"spacingAndGlyphs\" textLength=\"65\" x=\"94\" y=\"207.0669\">«import»*</text></a><!--MD5=[e3d2a08a9c9236652057e8ed0cbc9b62]\n",
       "link E2 to E7--><a href=\"psysml:60c32f43-2902-493b-8362-f480edbb78ed\" target=\"_top\" title=\"psysml:60c32f43-2902-493b-8362-f480edbb78ed\" xlink:actuate=\"onRequest\" xlink:href=\"psysml:60c32f43-2902-493b-8362-f480edbb78ed\" xlink:show=\"new\" xlink:title=\"psysml:60c32f43-2902-493b-8362-f480edbb78ed\" xlink:type=\"simple\"><path d=\"M221.8807,130.2617 C221.7401,130.3761 221.5982,130.4918 221.4548,130.6091 C216.8678,134.36 210.8594,139.5688 204.5113,145.875 C191.815,158.4875 177.76,175.49 171,194 C168.41,201.1 166.18,205.18 171,211 C183.11,225.64 200.74,204.48 213,219 C227.045,235.63 228.2325,284.0975 225.8175,329.0338 C225.5156,334.6508 225.1575,340.2126 224.7611,345.6502 C224.662,347.0096 224.5605,348.3613 224.4569,349.7041 C224.4051,350.3755 224.3528,351.0446 224.3,351.7115 C224.2736,352.0449 224.2471,352.3777 224.2204,352.71 \" fill=\"none\" id=\"E2-&gt;E7\" style=\"stroke: #383838; stroke-width: 1.0; stroke-dasharray: 7.0,7.0;\"/><polygon fill=\"#383838\" points=\"224.2204,352.71,228.9272,344.0586,224.6202,347.726,220.9528,343.419,224.2204,352.71\" style=\"stroke: #383838; stroke-width: 1.0;\"/><text fill=\"#000000\" font-family=\"sans-serif\" font-size=\"13\" lengthAdjust=\"spacingAndGlyphs\" textLength=\"87\" x=\"172\" y=\"207.0669\">«import»*::**</text></a><!--MD5=[ca5a752d6098d8a44b3f88316e7452d1]\n",
       "link E3 to E8--><a href=\"psysml:37accf74-aaef-4298-a8d1-458e277c829e\" target=\"_top\" title=\"psysml:37accf74-aaef-4298-a8d1-458e277c829e\" xlink:actuate=\"onRequest\" xlink:href=\"psysml:37accf74-aaef-4298-a8d1-458e277c829e\" xlink:show=\"new\" xlink:title=\"psysml:37accf74-aaef-4298-a8d1-458e277c829e\" xlink:type=\"simple\"><path d=\"M321.59,146.07 C339.73,166.51 363.93,193.81 364,194 C366.68,201.06 368.76,205.13 364,211 C353.13,224.4 338.12,206.71 326,219 C285.31,260.27 280.82,330.75 282.81,375.81 \" fill=\"none\" id=\"E3-&gt;E8\" style=\"stroke: #383838; stroke-width: 1.0;\"/><polygon fill=\"#FFFFFF\" points=\"284.19,395.93,275.9039,377.4546,289.8709,376.4948,284.19,395.93\" style=\"stroke: #383838; stroke-width: 1.0;\"/><ellipse cx=\"277.5084\" cy=\"371.6309\" fill=\"#383838\" rx=\"2\" ry=\"2\" style=\"stroke: #383838; stroke-width: 1.0;\"/><ellipse cx=\"287.4849\" cy=\"370.9453\" fill=\"#383838\" rx=\"2\" ry=\"2\" style=\"stroke: #383838; stroke-width: 1.0;\"/></a><!--MD5=[15ebcb19ae302d9b601edb458606d402]\n",
       "link E5 to E2--><a href=\"psysml:a29f5286-6760-4cc8-8866-2ed3ee4f3eda\" target=\"_top\" title=\"psysml:a29f5286-6760-4cc8-8866-2ed3ee4f3eda\" xlink:actuate=\"onRequest\" xlink:href=\"psysml:a29f5286-6760-4cc8-8866-2ed3ee4f3eda\" xlink:show=\"new\" xlink:title=\"psysml:a29f5286-6760-4cc8-8866-2ed3ee4f3eda\" xlink:type=\"simple\"><path d=\"M377.9071,234.5987 C377.6837,234.254 377.4593,233.91 377.2338,233.5668 C376.3317,232.1941 375.413,230.8338 374.4773,229.4868 C372.6059,226.7928 370.6665,224.152 368.6567,221.572 C360.6175,211.2517 351.4513,201.9025 341,194 C324.63,181.62 264.96,198.91 249,186 C246.2863,183.805 243.9511,181.2325 241.9426,178.4061 C240.9384,176.9929 240.0159,175.5163 239.1685,173.9916 C238.7448,173.2292 238.3399,172.4549 237.953,171.6705 C237.7596,171.2782 237.5706,170.8835 237.3861,170.4865 C237.3399,170.3873 237.2941,170.2879 237.2485,170.1883 \" fill=\"none\" id=\"E5-&gt;E2\" style=\"stroke: #383838; stroke-width: 1.0; stroke-dasharray: 7.0,7.0;\"/><polygon fill=\"#383838\" points=\"237.2485,170.1883,237.3599,180.0366,239.3307,174.7341,244.6331,176.705,237.2485,170.1883\" style=\"stroke: #383838; stroke-width: 1.0;\"/><text fill=\"#000000\" font-family=\"sans-serif\" font-size=\"13\" lengthAdjust=\"spacingAndGlyphs\" textLength=\"65\" x=\"356\" y=\"207.0669\">«import»*</text></a><!--MD5=[d7bb3fb34add81b710575eb3799fa2ad]\n",
       "link E8 to E4--><a href=\"psysml:d1a96eaf-259a-4888-9f98-ae46b38eb818\" target=\"_top\" title=\"psysml:d1a96eaf-259a-4888-9f98-ae46b38eb818\" xlink:actuate=\"onRequest\" xlink:href=\"psysml:d1a96eaf-259a-4888-9f98-ae46b38eb818\" xlink:show=\"new\" xlink:title=\"psysml:d1a96eaf-259a-4888-9f98-ae46b38eb818\" xlink:type=\"simple\"><path d=\"M283.6,395.87 C278.58,354.03 274.69,263.54 326,219 C338.77,207.91 466.36,223.27 478,211 C493.94,194.2 479.72,174.01 460.15,157.31 \" fill=\"none\" id=\"E8-&gt;E4\" style=\"stroke: #383838; stroke-width: 1.0;\"/><polygon fill=\"none\" points=\"455.78,162.78,444.15,145.06,464.29,151.66,455.78,162.78\" style=\"stroke: #383838; stroke-width: 1.0;\"/></a><!--MD5=[e20079ec3762cfc64ffd5c0e64e8ec69]\n",
       "@startuml\r\n",
       "skinparam monochrome true\r\n",
       "skinparam classbackgroundcolor white\r\n",
       "skinparam shadowing false\r\n",
       "skinparam wrapWidth 300\r\n",
       "hide circle\r\n",
       "\r\n",
       "package \"ImportTest\" as E1  [[psysml:4ef55e29-a78c-4120-8a0e-706d60f3b916 ]]  {\r\n",
       "package \"Pkg1\" as E2  [[psysml:fc5e85ef-31d8-4451-b981-c90381fde50e ]]  {\r\n",
       "comp usage \"p11: P211 \" as E3  <<(T,blue) part>> [[psysml:fe6123c1-7336-461e-a67a-648132fed175 ]] {\r\n",
       "}\r\n",
       "comp def \"P12\" as E4  <<(T,blue) part  def>> [[psysml:1380541e-fc30-40f5-9a60-edda9aa0065e ]] {\r\n",
       "}\r\n",
       "}\r\n",
       "package \"Pkg2\" as E5  [[psysml:c270e78f-1935-46bf-a024-66cb4836716b ]]  {\r\n",
       "package \"Pkg21\" as E6  [[psysml:ed944fef-70b9-4524-9917-716ca36e9ac1 ]]  {\r\n",
       "package \"Pkg211\" as E7  [[psysml:9f58dbb8-6a8c-4281-a4ad-0fbab28478f4 ]]  {\r\n",
       "comp def \"P211\" as E8  <<(T,blue) part  def>> [[psysml:4acbdff1-c8fe-48cb-afd1-a68daa112cad ]] {\r\n",
       "}\r\n",
       "}\r\n",
       "}\r\n",
       "}\r\n",
       "}\r\n",
       "E2 ..> E8 [[psysml:4f20d9a0-229b-41ce-a3f9-ec650db8275f ]] : <<import>>\r\n",
       "E2 ..> E6 [[psysml:682e8ea7-bcd5-404d-bf47-54c119ed8bb7 ]] : <<import>>*\r\n",
       "E2 ..> E7 [[psysml:60c32f43-2902-493b-8362-f480edbb78ed ]] : <<import>>*::**\r\n",
       "E3 - -:|> E8 [[psysml:37accf74-aaef-4298-a8d1-458e277c829e ]] \r\n",
       "E5 ..> E2 [[psysml:a29f5286-6760-4cc8-8866-2ed3ee4f3eda ]] : <<import>>*\r\n",
       "E8 - -|> E4 [[psysml:d1a96eaf-259a-4888-9f98-ae46b38eb818 ]] \r\n",
       "@enduml\r\n",
       "\n",
       "PlantUML version 1.2020.13(Sat Jun 13 12:26:38 UTC 2020)\n",
       "(EPL source distribution)\n",
       "Java Runtime: OpenJDK Runtime Environment\n",
       "JVM: OpenJDK 64-Bit Server VM\n",
       "Default Encoding: UTF-8\n",
       "Language: en\n",
       "Country: null\n",
       "--></g></svg>"
      ]
     },
     "execution_count": 38,
     "metadata": {},
     "output_type": "execute_result"
    }
   ],
   "source": [
    "%viz --style=\"DEFAULT\" --view=\"Tree\" \"ImportTest\""
   ]
  },
  {
   "cell_type": "code",
   "execution_count": 39,
   "id": "0473f091",
   "metadata": {
    "execution": {
     "iopub.execute_input": "2022-02-18T10:47:00.445435Z",
     "iopub.status.busy": "2022-02-18T10:47:00.445034Z",
     "iopub.status.idle": "2022-02-18T10:47:00.449884Z",
     "shell.execute_reply": "2022-02-18T10:47:00.450173Z"
    }
   },
   "outputs": [
    {
     "data": {
      "image/svg+xml": [
       "<?xml version=\"1.0\" encoding=\"UTF-8\" standalone=\"no\"?><svg xmlns=\"http://www.w3.org/2000/svg\" xmlns:xlink=\"http://www.w3.org/1999/xlink\" contentScriptType=\"application/ecmascript\" contentStyleType=\"text/css\" height=\"12px\" preserveAspectRatio=\"none\" style=\"width:12px;height:12px;\" version=\"1.1\" viewBox=\"0 0 12 12\" width=\"12px\" zoomAndPan=\"magnify\"><defs/><g><!--MD5=[c5f280e076d0d61ccf4b0f27871bda1d]\n",
       "@startuml\r\n",
       "skinparam monochrome true\r\n",
       "skinparam classbackgroundcolor white\r\n",
       "skinparam shadowing false\r\n",
       "skinparam wrapWidth 300\r\n",
       "hide circle\r\n",
       "\r\n",
       "@enduml\r\n",
       "\n",
       "PlantUML version 1.2020.13(Sat Jun 13 12:26:38 UTC 2020)\n",
       "(EPL source distribution)\n",
       "Java Runtime: OpenJDK Runtime Environment\n",
       "JVM: OpenJDK 64-Bit Server VM\n",
       "Default Encoding: UTF-8\n",
       "Language: en\n",
       "Country: null\n",
       "--></g></svg>"
      ]
     },
     "execution_count": 39,
     "metadata": {},
     "output_type": "execute_result"
    }
   ],
   "source": [
    "%viz --style=\"DEFAULT\" --view=\"State\" \"ImportTest\""
   ]
  },
  {
   "cell_type": "code",
   "execution_count": 40,
   "id": "e4771837",
   "metadata": {
    "execution": {
     "iopub.execute_input": "2022-02-18T10:47:00.500309Z",
     "iopub.status.busy": "2022-02-18T10:47:00.499899Z",
     "iopub.status.idle": "2022-02-18T10:47:00.534747Z",
     "shell.execute_reply": "2022-02-18T10:47:00.534379Z"
    }
   },
   "outputs": [
    {
     "data": {
      "image/svg+xml": [
       "<?xml version=\"1.0\" encoding=\"UTF-8\" standalone=\"no\"?><svg xmlns=\"http://www.w3.org/2000/svg\" xmlns:xlink=\"http://www.w3.org/1999/xlink\" contentScriptType=\"application/ecmascript\" contentStyleType=\"text/css\" height=\"584px\" preserveAspectRatio=\"none\" style=\"width:515px;height:584px;\" version=\"1.1\" viewBox=\"0 0 515 584\" width=\"515px\" zoomAndPan=\"magnify\"><defs/><g><!--MD5=[fbc87193dbaf4d95561dea2c320d4a47]\n",
       "cluster E1--><a href=\"psysml:4ef55e29-a78c-4120-8a0e-706d60f3b916\" target=\"_top\" title=\"psysml:4ef55e29-a78c-4120-8a0e-706d60f3b916\" xlink:actuate=\"onRequest\" xlink:href=\"psysml:4ef55e29-a78c-4120-8a0e-706d60f3b916\" xlink:show=\"new\" xlink:title=\"psysml:4ef55e29-a78c-4120-8a0e-706d60f3b916\" xlink:type=\"simple\"><polygon fill=\"#FFFFFF\" points=\"16,6,97,6,104,28.2969,493,28.2969,493,572,16,572,16,6\" style=\"stroke: #000000; stroke-width: 1.5;\"/><line style=\"stroke: #000000; stroke-width: 1.5;\" x1=\"16\" x2=\"104\" y1=\"28.2969\" y2=\"28.2969\"/><text fill=\"#000000\" font-family=\"sans-serif\" font-size=\"14\" font-weight=\"bold\" lengthAdjust=\"spacingAndGlyphs\" textLength=\"75\" x=\"20\" y=\"20.9951\">ImportTest</text></a><!--MD5=[e4f7fae6ed58524ba242bb0b0d3be6b7]\n",
       "cluster E2--><a href=\"psysml:fc5e85ef-31d8-4451-b981-c90381fde50e\" target=\"_top\" title=\"psysml:fc5e85ef-31d8-4451-b981-c90381fde50e\" xlink:actuate=\"onRequest\" xlink:href=\"psysml:fc5e85ef-31d8-4451-b981-c90381fde50e\" xlink:show=\"new\" xlink:title=\"psysml:fc5e85ef-31d8-4451-b981-c90381fde50e\" xlink:type=\"simple\"><polygon fill=\"#FFFFFF\" points=\"209,57,250,57,257,79.2969,461,79.2969,461,167,209,167,209,57\" style=\"stroke: #000000; stroke-width: 1.5;\"/><line style=\"stroke: #000000; stroke-width: 1.5;\" x1=\"209\" x2=\"257\" y1=\"79.2969\" y2=\"79.2969\"/><text fill=\"#000000\" font-family=\"sans-serif\" font-size=\"14\" font-weight=\"bold\" lengthAdjust=\"spacingAndGlyphs\" textLength=\"35\" x=\"213\" y=\"71.9951\">Pkg1</text></a><!--MD5=[de5ec2e2e8f62f467e546659f5068c88]\n",
       "cluster E5--><a href=\"psysml:c270e78f-1935-46bf-a024-66cb4836716b\" target=\"_top\" title=\"psysml:c270e78f-1935-46bf-a024-66cb4836716b\" xlink:actuate=\"onRequest\" xlink:href=\"psysml:c270e78f-1935-46bf-a024-66cb4836716b\" xlink:show=\"new\" xlink:title=\"psysml:c270e78f-1935-46bf-a024-66cb4836716b\" xlink:type=\"simple\"><polygon fill=\"#FFFFFF\" points=\"93,232,134,232,141,254.2969,411,254.2969,411,540,93,540,93,232\" style=\"stroke: #000000; stroke-width: 1.5;\"/><line style=\"stroke: #000000; stroke-width: 1.5;\" x1=\"93\" x2=\"141\" y1=\"254.2969\" y2=\"254.2969\"/><text fill=\"#000000\" font-family=\"sans-serif\" font-size=\"14\" font-weight=\"bold\" lengthAdjust=\"spacingAndGlyphs\" textLength=\"35\" x=\"97\" y=\"246.9951\">Pkg2</text></a><!--MD5=[14e3b0961a2654348d326746436168a1]\n",
       "cluster E6--><a href=\"psysml:ed944fef-70b9-4524-9917-716ca36e9ac1\" target=\"_top\" title=\"psysml:ed944fef-70b9-4524-9917-716ca36e9ac1\" xlink:actuate=\"onRequest\" xlink:href=\"psysml:ed944fef-70b9-4524-9917-716ca36e9ac1\" xlink:show=\"new\" xlink:title=\"psysml:ed944fef-70b9-4524-9917-716ca36e9ac1\" xlink:type=\"simple\"><polygon fill=\"#FFFFFF\" points=\"133,291,183,291,190,313.2969,363,313.2969,363,500,133,500,133,291\" style=\"stroke: #000000; stroke-width: 1.5;\"/><line style=\"stroke: #000000; stroke-width: 1.5;\" x1=\"133\" x2=\"190\" y1=\"313.2969\" y2=\"313.2969\"/><text fill=\"#000000\" font-family=\"sans-serif\" font-size=\"14\" font-weight=\"bold\" lengthAdjust=\"spacingAndGlyphs\" textLength=\"44\" x=\"137\" y=\"305.9951\">Pkg21</text></a><!--MD5=[168fadf3d0c3fd93dd5d6da1b1d7ab76]\n",
       "cluster E7--><a href=\"psysml:9f58dbb8-6a8c-4281-a4ad-0fbab28478f4\" target=\"_top\" title=\"psysml:9f58dbb8-6a8c-4281-a4ad-0fbab28478f4\" xlink:actuate=\"onRequest\" xlink:href=\"psysml:9f58dbb8-6a8c-4281-a4ad-0fbab28478f4\" xlink:show=\"new\" xlink:title=\"psysml:9f58dbb8-6a8c-4281-a4ad-0fbab28478f4\" xlink:type=\"simple\"><polygon fill=\"#FFFFFF\" points=\"181,350,240,350,247,372.2969,323,372.2969,323,460,181,460,181,350\" style=\"stroke: #000000; stroke-width: 1.5;\"/><line style=\"stroke: #000000; stroke-width: 1.5;\" x1=\"181\" x2=\"247\" y1=\"372.2969\" y2=\"372.2969\"/><text fill=\"#000000\" font-family=\"sans-serif\" font-size=\"14\" font-weight=\"bold\" lengthAdjust=\"spacingAndGlyphs\" textLength=\"53\" x=\"185\" y=\"364.9951\">Pkg211</text></a><g id=\"E1.E2.E3\"><a href=\"psysml:fe6123c1-7336-461e-a67a-648132fed175\" target=\"_top\" title=\"psysml:fe6123c1-7336-461e-a67a-648132fed175\" xlink:actuate=\"onRequest\" xlink:href=\"psysml:fe6123c1-7336-461e-a67a-648132fed175\" xlink:show=\"new\" xlink:title=\"psysml:fe6123c1-7336-461e-a67a-648132fed175\" xlink:type=\"simple\"><rect fill=\"#FFFFFF\" height=\"40\" id=\"E3\" rx=\"10\" ry=\"10\" style=\"stroke: #383838; stroke-width: 1.5;\" width=\"75\" x=\"362.5\" y=\"101.5\"/><rect fill=\"#F8F8F8\" height=\"23.9688\" rx=\"10\" ry=\"10\" style=\"stroke: #F8F8F8; stroke-width: 1.5;\" width=\"75\" x=\"362.5\" y=\"101.5\"/><rect fill=\"#F8F8F8\" height=\"10\" style=\"stroke: #F8F8F8; stroke-width: 1.5;\" width=\"75\" x=\"362.5\" y=\"115.4688\"/><rect fill=\"none\" height=\"40\" id=\"E3\" rx=\"10\" ry=\"10\" style=\"stroke: #383838; stroke-width: 1.5;\" width=\"75\" x=\"362.5\" y=\"101.5\"/><text fill=\"#000000\" font-family=\"sans-serif\" font-size=\"12\" lengthAdjust=\"spacingAndGlyphs\" textLength=\"64\" x=\"368\" y=\"117.6387\">p11: P211</text></a></g><g id=\"E1.E2.E4\"><a href=\"psysml:1380541e-fc30-40f5-9a60-edda9aa0065e\" target=\"_top\" title=\"psysml:1380541e-fc30-40f5-9a60-edda9aa0065e\" xlink:actuate=\"onRequest\" xlink:href=\"psysml:1380541e-fc30-40f5-9a60-edda9aa0065e\" xlink:show=\"new\" xlink:title=\"psysml:1380541e-fc30-40f5-9a60-edda9aa0065e\" xlink:type=\"simple\"><rect fill=\"#FFFFFF\" height=\"42.9375\" id=\"E4\" style=\"stroke: #383838; stroke-width: 1.5;\" width=\"75\" x=\"252.5\" y=\"100\"/><rect fill=\"#F8F8F8\" height=\"37.9375\" style=\"stroke: #383838; stroke-width: 1.5;\" width=\"75\" x=\"252.5\" y=\"100\"/><text fill=\"#000000\" font-family=\"sans-serif\" font-size=\"12\" font-style=\"italic\" lengthAdjust=\"spacingAndGlyphs\" textLength=\"68\" x=\"256\" y=\"116.1387\">«part  def»</text><text fill=\"#000000\" font-family=\"sans-serif\" font-size=\"12\" lengthAdjust=\"spacingAndGlyphs\" textLength=\"24\" x=\"278\" y=\"130.1074\">P12</text></a></g><g id=\"E1.E5.E6.E7.E8\"><a href=\"psysml:4acbdff1-c8fe-48cb-afd1-a68daa112cad\" target=\"_top\" title=\"psysml:4acbdff1-c8fe-48cb-afd1-a68daa112cad\" xlink:actuate=\"onRequest\" xlink:href=\"psysml:4acbdff1-c8fe-48cb-afd1-a68daa112cad\" xlink:show=\"new\" xlink:title=\"psysml:4acbdff1-c8fe-48cb-afd1-a68daa112cad\" xlink:type=\"simple\"><rect fill=\"#FFFFFF\" height=\"42.9375\" id=\"E8\" style=\"stroke: #383838; stroke-width: 1.5;\" width=\"75\" x=\"224.5\" y=\"393\"/><rect fill=\"#F8F8F8\" height=\"37.9375\" style=\"stroke: #383838; stroke-width: 1.5;\" width=\"75\" x=\"224.5\" y=\"393\"/><text fill=\"#000000\" font-family=\"sans-serif\" font-size=\"12\" font-style=\"italic\" lengthAdjust=\"spacingAndGlyphs\" textLength=\"68\" x=\"228\" y=\"409.1387\">«part  def»</text><text fill=\"#000000\" font-family=\"sans-serif\" font-size=\"12\" lengthAdjust=\"spacingAndGlyphs\" textLength=\"32\" x=\"246\" y=\"423.1074\">P211</text></a></g><!--MD5=[b0060bfdb0500b904584095522b4da3c]\n",
       "link E2 to E8--><a href=\"psysml:4f20d9a0-229b-41ce-a3f9-ec650db8275f\" target=\"_top\" title=\"psysml:4f20d9a0-229b-41ce-a3f9-ec650db8275f\" xlink:actuate=\"onRequest\" xlink:href=\"psysml:4f20d9a0-229b-41ce-a3f9-ec650db8275f\" xlink:show=\"new\" xlink:title=\"psysml:4f20d9a0-229b-41ce-a3f9-ec650db8275f\" xlink:type=\"simple\"><path d=\"M226.0996,167.0404 C226.2817,167.4353 226.4674,167.8286 226.6569,168.2201 C227.0359,169.0031 227.4297,169.7788 227.8389,170.5455 C228.6575,172.0788 229.5378,173.5761 230.4846,175.0235 C232.3781,177.9183 234.5375,180.6138 237,183 C245.99,191.71 256.51,180.97 264,191 C307.73,249.57 285.73,343.1 271.27,387.93 \" fill=\"none\" id=\"E2-&gt;E8\" style=\"stroke: #383838; stroke-width: 1.0; stroke-dasharray: 7.0,7.0;\"/><polygon fill=\"#383838\" points=\"269.63,392.89,276.2378,385.5868,271.1897,388.1395,268.637,383.0913,269.63,392.89\" style=\"stroke: #383838; stroke-width: 1.0;\"/><text fill=\"#000000\" font-family=\"sans-serif\" font-size=\"13\" lengthAdjust=\"spacingAndGlyphs\" textLength=\"58\" x=\"274\" y=\"204.0669\">«import»</text></a><!--MD5=[e3e28c1befcf002155aa15e1416b4315]\n",
       "link E2 to E6--><a href=\"psysml:682e8ea7-bcd5-404d-bf47-54c119ed8bb7\" target=\"_top\" title=\"psysml:682e8ea7-bcd5-404d-bf47-54c119ed8bb7\" xlink:actuate=\"onRequest\" xlink:href=\"psysml:682e8ea7-bcd5-404d-bf47-54c119ed8bb7\" xlink:show=\"new\" xlink:title=\"psysml:682e8ea7-bcd5-404d-bf47-54c119ed8bb7\" xlink:type=\"simple\"><path d=\"M208.8595,124.0557 C208.7506,124.0788 208.6407,124.1021 208.5299,124.1258 C208.0867,124.2205 207.6284,124.3196 207.1556,124.4234 C205.264,124.8384 203.1395,125.3269 200.8172,125.8948 C191.5281,128.1666 179.0763,131.7094 165.7275,136.9063 C139.03,147.3 108.745,164.31 93,191 C67.7,233.885 78.9325,288.455 96.865,332.8188 C105.8313,355.0006 116.4725,374.6309 125.0597,388.9733 C127.2065,392.5589 129.2249,395.814 131.0567,398.6958 C131.5146,399.4162 131.9609,400.1134 132.3946,400.7865 C132.503,400.9548 132.6107,401.1216 132.7175,401.2869 \" fill=\"none\" id=\"E2-&gt;E6\" style=\"stroke: #383838; stroke-width: 1.0; stroke-dasharray: 7.0,7.0;\"/><polygon fill=\"#383838\" points=\"132.7175,401.2869,131.1908,391.557,130.0031,397.0878,124.4723,395.9001,132.7175,401.2869\" style=\"stroke: #383838; stroke-width: 1.0;\"/><text fill=\"#000000\" font-family=\"sans-serif\" font-size=\"13\" lengthAdjust=\"spacingAndGlyphs\" textLength=\"65\" x=\"94\" y=\"204.0669\">«import»*</text></a><!--MD5=[e3d2a08a9c9236652057e8ed0cbc9b62]\n",
       "link E2 to E7--><a href=\"psysml:60c32f43-2902-493b-8362-f480edbb78ed\" target=\"_top\" title=\"psysml:60c32f43-2902-493b-8362-f480edbb78ed\" xlink:actuate=\"onRequest\" xlink:href=\"psysml:60c32f43-2902-493b-8362-f480edbb78ed\" xlink:show=\"new\" xlink:title=\"psysml:60c32f43-2902-493b-8362-f480edbb78ed\" xlink:type=\"simple\"><path d=\"M208.9087,130.8599 C208.4267,131.3857 207.929,131.9334 207.4172,132.5019 C206.3938,133.639 205.3142,134.8598 204.1919,136.1571 C201.9473,138.7518 199.5316,141.6528 197.0512,144.8037 C187.13,157.4075 176.175,174.01 171,191 C168.8,198.23 167.21,201.47 171,208 C174.6,214.2 181.34,209.84 185,216 C207.065,253.155 208.38,301.58 204.025,341.18 C203.7528,343.655 203.4585,346.0955 203.1457,348.4967 C203.1066,348.7968 203.0672,349.0963 203.0275,349.3953 \" fill=\"none\" id=\"E2-&gt;E7\" style=\"stroke: #383838; stroke-width: 1.0; stroke-dasharray: 7.0,7.0;\"/><polygon fill=\"#383838\" points=\"203.0275,349.3953,208.1768,340.9997,203.6853,344.4387,200.2464,339.9472,203.0275,349.3953\" style=\"stroke: #383838; stroke-width: 1.0;\"/><text fill=\"#000000\" font-family=\"sans-serif\" font-size=\"13\" lengthAdjust=\"spacingAndGlyphs\" textLength=\"87\" x=\"172\" y=\"204.0669\">«import»*::**</text></a><!--MD5=[15ebcb19ae302d9b601edb458606d402]\n",
       "link E5 to E2--><a href=\"psysml:a29f5286-6760-4cc8-8866-2ed3ee4f3eda\" target=\"_top\" title=\"psysml:a29f5286-6760-4cc8-8866-2ed3ee4f3eda\" xlink:actuate=\"onRequest\" xlink:href=\"psysml:a29f5286-6760-4cc8-8866-2ed3ee4f3eda\" xlink:show=\"new\" xlink:title=\"psysml:a29f5286-6760-4cc8-8866-2ed3ee4f3eda\" xlink:type=\"simple\"><path d=\"M374.0816,231.8188 C373.8921,231.4743 373.7014,231.1305 373.5097,230.7874 C372.7425,229.4152 371.957,228.0548 371.1529,226.707 C369.5446,224.0116 367.8614,221.3671 366.1,218.7807 C359.0547,208.4352 350.7587,199.02 341,191 C323.09,176.28 255.25,197.29 237,183 C234.3,180.8863 231.9606,178.3973 229.9341,175.6551 C228.9209,174.284 227.9858,172.8496 227.123,171.367 C226.6917,170.6257 226.2783,169.8724 225.8823,169.109 C225.6843,168.7273 225.4906,168.3431 225.3012,167.9565 C225.2065,167.7633 225.1128,167.5694 225.0202,167.3751 C224.9739,167.2779 224.9278,167.1805 224.882,167.0831 \" fill=\"none\" id=\"E5-&gt;E2\" style=\"stroke: #383838; stroke-width: 1.0; stroke-dasharray: 7.0,7.0;\"/><polygon fill=\"#383838\" points=\"224.882,167.0831,225.0885,176.9298,227.0081,171.6086,232.3293,173.5281,224.882,167.0831\" style=\"stroke: #383838; stroke-width: 1.0;\"/><text fill=\"#000000\" font-family=\"sans-serif\" font-size=\"13\" lengthAdjust=\"spacingAndGlyphs\" textLength=\"65\" x=\"355\" y=\"204.0669\">«import»*</text></a><!--MD5=[d7bb3fb34add81b710575eb3799fa2ad]\n",
       "link E8 to E4--><a href=\"psysml:d1a96eaf-259a-4888-9f98-ae46b38eb818\" target=\"_top\" title=\"psysml:d1a96eaf-259a-4888-9f98-ae46b38eb818\" xlink:actuate=\"onRequest\" xlink:href=\"psysml:d1a96eaf-259a-4888-9f98-ae46b38eb818\" xlink:show=\"new\" xlink:title=\"psysml:d1a96eaf-259a-4888-9f98-ae46b38eb818\" xlink:type=\"simple\"><path d=\"M259.15,392.74 C254.81,351.69 251.92,260.28 304,216 C318.15,203.97 458.18,221.45 471,208 C476.21,202.53 476.17,196.51 471,191 C461.4,180.77 357.64,189.08 345,183 C333.67,177.55 323.59,168.63 315.26,159.29 \" fill=\"none\" id=\"E8-&gt;E4\" style=\"stroke: #383838; stroke-width: 1.0;\"/><polygon fill=\"none\" points=\"309.47,163.25,302.61,143.2,320.48,154.6,309.47,163.25\" style=\"stroke: #383838; stroke-width: 1.0;\"/></a><!--MD5=[efc6f77e9a07add68ae385f13d55e804]\n",
       "@startuml\r\n",
       "skinparam ranksep 10\r\n",
       "skinparam rectangle {\r\n",
       " backgroundColor<<block>> LightGreen\r\n",
       "}\r\n",
       "skinparam monochrome true\r\n",
       "skinparam classbackgroundcolor white\r\n",
       "skinparam shadowing false\r\n",
       "skinparam wrapWidth 300\r\n",
       "hide circle\r\n",
       "\r\n",
       "package \"ImportTest\" as E1  [[psysml:4ef55e29-a78c-4120-8a0e-706d60f3b916 ]]  {\r\n",
       "package \"Pkg1\" as E2  [[psysml:fc5e85ef-31d8-4451-b981-c90381fde50e ]]  {\r\n",
       "rec usage \"p11: P211\" as E3  [[psysml:fe6123c1-7336-461e-a67a-648132fed175 ]] {\r\n",
       "}\r\n",
       "rec def \"P12\" as E4  <<(T,blue) part  def>> [[psysml:1380541e-fc30-40f5-9a60-edda9aa0065e ]] {\r\n",
       "}\r\n",
       "}\r\n",
       "package \"Pkg2\" as E5  [[psysml:c270e78f-1935-46bf-a024-66cb4836716b ]]  {\r\n",
       "package \"Pkg21\" as E6  [[psysml:ed944fef-70b9-4524-9917-716ca36e9ac1 ]]  {\r\n",
       "package \"Pkg211\" as E7  [[psysml:9f58dbb8-6a8c-4281-a4ad-0fbab28478f4 ]]  {\r\n",
       "rec def \"P211\" as E8  <<(T,blue) part  def>> [[psysml:4acbdff1-c8fe-48cb-afd1-a68daa112cad ]] {\r\n",
       "}\r\n",
       "}\r\n",
       "}\r\n",
       "}\r\n",
       "}\r\n",
       "E2 ..> E8 [[psysml:4f20d9a0-229b-41ce-a3f9-ec650db8275f ]] : <<import>>\r\n",
       "E2 ..> E6 [[psysml:682e8ea7-bcd5-404d-bf47-54c119ed8bb7 ]] : <<import>>*\r\n",
       "E2 ..> E7 [[psysml:60c32f43-2902-493b-8362-f480edbb78ed ]] : <<import>>*::**\r\n",
       "E5 ..> E2 [[psysml:a29f5286-6760-4cc8-8866-2ed3ee4f3eda ]] : <<import>>*\r\n",
       "E8 - -|> E4 [[psysml:d1a96eaf-259a-4888-9f98-ae46b38eb818 ]] \r\n",
       "@enduml\r\n",
       "\n",
       "PlantUML version 1.2020.13(Sat Jun 13 12:26:38 UTC 2020)\n",
       "(EPL source distribution)\n",
       "Java Runtime: OpenJDK Runtime Environment\n",
       "JVM: OpenJDK 64-Bit Server VM\n",
       "Default Encoding: UTF-8\n",
       "Language: en\n",
       "Country: null\n",
       "--></g></svg>"
      ]
     },
     "execution_count": 40,
     "metadata": {},
     "output_type": "execute_result"
    }
   ],
   "source": [
    "%viz --style=\"DEFAULT\" --view=\"Interconnection\" \"ImportTest\""
   ]
  },
  {
   "cell_type": "code",
   "execution_count": 41,
   "id": "865d56fc",
   "metadata": {
    "execution": {
     "iopub.execute_input": "2022-02-18T10:47:00.584398Z",
     "iopub.status.busy": "2022-02-18T10:47:00.583977Z",
     "iopub.status.idle": "2022-02-18T10:47:00.589295Z",
     "shell.execute_reply": "2022-02-18T10:47:00.588967Z"
    }
   },
   "outputs": [
    {
     "data": {
      "image/svg+xml": [
       "<?xml version=\"1.0\" encoding=\"UTF-8\" standalone=\"no\"?><svg xmlns=\"http://www.w3.org/2000/svg\" xmlns:xlink=\"http://www.w3.org/1999/xlink\" contentScriptType=\"application/ecmascript\" contentStyleType=\"text/css\" height=\"12px\" preserveAspectRatio=\"none\" style=\"width:12px;height:12px;\" version=\"1.1\" viewBox=\"0 0 12 12\" width=\"12px\" zoomAndPan=\"magnify\"><defs/><g><!--MD5=[388f21188e31bfdd97050473b19af356]\n",
       "@startuml\r\n",
       "skinparam ranksep 8\r\n",
       "skinparam monochrome true\r\n",
       "skinparam classbackgroundcolor white\r\n",
       "skinparam shadowing false\r\n",
       "skinparam wrapWidth 300\r\n",
       "hide circle\r\n",
       "\r\n",
       "@enduml\r\n",
       "\n",
       "PlantUML version 1.2020.13(Sat Jun 13 12:26:38 UTC 2020)\n",
       "(EPL source distribution)\n",
       "Java Runtime: OpenJDK Runtime Environment\n",
       "JVM: OpenJDK 64-Bit Server VM\n",
       "Default Encoding: UTF-8\n",
       "Language: en\n",
       "Country: null\n",
       "--></g></svg>"
      ]
     },
     "execution_count": 41,
     "metadata": {},
     "output_type": "execute_result"
    }
   ],
   "source": [
    "%viz --style=\"DEFAULT\" --view=\"Action\" \"ImportTest\""
   ]
  },
  {
   "cell_type": "code",
   "execution_count": 42,
   "id": "3ee50f36",
   "metadata": {
    "execution": {
     "iopub.execute_input": "2022-02-18T10:47:00.639248Z",
     "iopub.status.busy": "2022-02-18T10:47:00.638851Z",
     "iopub.status.idle": "2022-02-18T10:47:00.643857Z",
     "shell.execute_reply": "2022-02-18T10:47:00.643531Z"
    }
   },
   "outputs": [
    {
     "data": {
      "image/svg+xml": [
       "<?xml version=\"1.0\" encoding=\"UTF-8\" standalone=\"no\"?><svg xmlns=\"http://www.w3.org/2000/svg\" xmlns:xlink=\"http://www.w3.org/1999/xlink\" contentScriptType=\"application/ecmascript\" contentStyleType=\"text/css\" height=\"12px\" preserveAspectRatio=\"none\" style=\"width:12px;height:12px;\" version=\"1.1\" viewBox=\"0 0 12 12\" width=\"12px\" zoomAndPan=\"magnify\"><defs/><g><!--MD5=[0b72472770326784bf6c2b53246e1e64]\n",
       "@startuml\r\n",
       "skinparam roundcorner 20\r\n",
       "skinparam BoxPadding 20\r\n",
       "skinparam SequenceBoxBackgroundColor #white\r\n",
       "skinparam style strictuml\r\n",
       "skinparam maxMessageSize 100\r\n",
       "skinparam monochrome true\r\n",
       "skinparam classbackgroundcolor white\r\n",
       "skinparam shadowing false\r\n",
       "skinparam wrapWidth 300\r\n",
       "hide circle\r\n",
       "\r\n",
       "@enduml\r\n",
       "\n",
       "PlantUML version 1.2020.13(Sat Jun 13 12:26:38 UTC 2020)\n",
       "(EPL source distribution)\n",
       "Java Runtime: OpenJDK Runtime Environment\n",
       "JVM: OpenJDK 64-Bit Server VM\n",
       "Default Encoding: UTF-8\n",
       "Language: en\n",
       "Country: null\n",
       "--></g></svg>"
      ]
     },
     "execution_count": 42,
     "metadata": {},
     "output_type": "execute_result"
    }
   ],
   "source": [
    "%viz --style=\"DEFAULT\" --view=\"Sequence\" \"ImportTest\""
   ]
  },
  {
   "cell_type": "code",
   "execution_count": 43,
   "id": "93ec86f3",
   "metadata": {
    "execution": {
     "iopub.execute_input": "2022-02-18T10:47:00.693848Z",
     "iopub.status.busy": "2022-02-18T10:47:00.693454Z",
     "iopub.status.idle": "2022-02-18T10:47:00.729191Z",
     "shell.execute_reply": "2022-02-18T10:47:00.728850Z"
    }
   },
   "outputs": [
    {
     "data": {
      "image/svg+xml": [
       "<?xml version=\"1.0\" encoding=\"UTF-8\" standalone=\"no\"?><svg xmlns=\"http://www.w3.org/2000/svg\" xmlns:xlink=\"http://www.w3.org/1999/xlink\" contentScriptType=\"application/ecmascript\" contentStyleType=\"text/css\" height=\"590px\" preserveAspectRatio=\"none\" style=\"width:522px;height:590px;\" version=\"1.1\" viewBox=\"0 0 522 590\" width=\"522px\" zoomAndPan=\"magnify\"><defs/><g><!--MD5=[fbc87193dbaf4d95561dea2c320d4a47]\n",
       "cluster E1--><a href=\"psysml:4ef55e29-a78c-4120-8a0e-706d60f3b916\" target=\"_top\" title=\"psysml:4ef55e29-a78c-4120-8a0e-706d60f3b916\" xlink:actuate=\"onRequest\" xlink:href=\"psysml:4ef55e29-a78c-4120-8a0e-706d60f3b916\" xlink:show=\"new\" xlink:title=\"psysml:4ef55e29-a78c-4120-8a0e-706d60f3b916\" xlink:type=\"simple\"><polygon fill=\"#FFFFFF\" points=\"16,6,97,6,104,28.2969,500,28.2969,500,578,16,578,16,6\" style=\"stroke: #000000; stroke-width: 1.5;\"/><line style=\"stroke: #000000; stroke-width: 1.5;\" x1=\"16\" x2=\"104\" y1=\"28.2969\" y2=\"28.2969\"/><text fill=\"#000000\" font-family=\"sans-serif\" font-size=\"14\" font-weight=\"bold\" lengthAdjust=\"spacingAndGlyphs\" textLength=\"75\" x=\"20\" y=\"20.9951\">ImportTest</text></a><!--MD5=[e4f7fae6ed58524ba242bb0b0d3be6b7]\n",
       "cluster E2--><a href=\"psysml:fc5e85ef-31d8-4451-b981-c90381fde50e\" target=\"_top\" title=\"psysml:fc5e85ef-31d8-4451-b981-c90381fde50e\" xlink:actuate=\"onRequest\" xlink:href=\"psysml:fc5e85ef-31d8-4451-b981-c90381fde50e\" xlink:show=\"new\" xlink:title=\"psysml:fc5e85ef-31d8-4451-b981-c90381fde50e\" xlink:type=\"simple\"><polygon fill=\"#FFFFFF\" points=\"222,57,263,57,270,79.2969,468,79.2969,468,170,222,170,222,57\" style=\"stroke: #000000; stroke-width: 1.5;\"/><line style=\"stroke: #000000; stroke-width: 1.5;\" x1=\"222\" x2=\"270\" y1=\"79.2969\" y2=\"79.2969\"/><text fill=\"#000000\" font-family=\"sans-serif\" font-size=\"14\" font-weight=\"bold\" lengthAdjust=\"spacingAndGlyphs\" textLength=\"35\" x=\"226\" y=\"71.9951\">Pkg1</text></a><!--MD5=[de5ec2e2e8f62f467e546659f5068c88]\n",
       "cluster E5--><a href=\"psysml:c270e78f-1935-46bf-a024-66cb4836716b\" target=\"_top\" title=\"psysml:c270e78f-1935-46bf-a024-66cb4836716b\" xlink:actuate=\"onRequest\" xlink:href=\"psysml:c270e78f-1935-46bf-a024-66cb4836716b\" xlink:show=\"new\" xlink:title=\"psysml:c270e78f-1935-46bf-a024-66cb4836716b\" xlink:type=\"simple\"><polygon fill=\"#FFFFFF\" points=\"121,235,162,235,169,257.2969,434,257.2969,434,546,121,546,121,235\" style=\"stroke: #000000; stroke-width: 1.5;\"/><line style=\"stroke: #000000; stroke-width: 1.5;\" x1=\"121\" x2=\"169\" y1=\"257.2969\" y2=\"257.2969\"/><text fill=\"#000000\" font-family=\"sans-serif\" font-size=\"14\" font-weight=\"bold\" lengthAdjust=\"spacingAndGlyphs\" textLength=\"35\" x=\"125\" y=\"249.9951\">Pkg2</text></a><!--MD5=[14e3b0961a2654348d326746436168a1]\n",
       "cluster E6--><a href=\"psysml:ed944fef-70b9-4524-9917-716ca36e9ac1\" target=\"_top\" title=\"psysml:ed944fef-70b9-4524-9917-716ca36e9ac1\" xlink:actuate=\"onRequest\" xlink:href=\"psysml:ed944fef-70b9-4524-9917-716ca36e9ac1\" xlink:show=\"new\" xlink:title=\"psysml:ed944fef-70b9-4524-9917-716ca36e9ac1\" xlink:type=\"simple\"><polygon fill=\"#FFFFFF\" points=\"161,294,211,294,218,316.2969,386,316.2969,386,506,161,506,161,294\" style=\"stroke: #000000; stroke-width: 1.5;\"/><line style=\"stroke: #000000; stroke-width: 1.5;\" x1=\"161\" x2=\"218\" y1=\"316.2969\" y2=\"316.2969\"/><text fill=\"#000000\" font-family=\"sans-serif\" font-size=\"14\" font-weight=\"bold\" lengthAdjust=\"spacingAndGlyphs\" textLength=\"44\" x=\"165\" y=\"308.9951\">Pkg21</text></a><!--MD5=[168fadf3d0c3fd93dd5d6da1b1d7ab76]\n",
       "cluster E7--><a href=\"psysml:9f58dbb8-6a8c-4281-a4ad-0fbab28478f4\" target=\"_top\" title=\"psysml:9f58dbb8-6a8c-4281-a4ad-0fbab28478f4\" xlink:actuate=\"onRequest\" xlink:href=\"psysml:9f58dbb8-6a8c-4281-a4ad-0fbab28478f4\" xlink:show=\"new\" xlink:title=\"psysml:9f58dbb8-6a8c-4281-a4ad-0fbab28478f4\" xlink:type=\"simple\"><polygon fill=\"#FFFFFF\" points=\"209,353,268,353,275,375.2969,346,375.2969,346,466,209,466,209,353\" style=\"stroke: #000000; stroke-width: 1.5;\"/><line style=\"stroke: #000000; stroke-width: 1.5;\" x1=\"209\" x2=\"275\" y1=\"375.2969\" y2=\"375.2969\"/><text fill=\"#000000\" font-family=\"sans-serif\" font-size=\"14\" font-weight=\"bold\" lengthAdjust=\"spacingAndGlyphs\" textLength=\"53\" x=\"213\" y=\"367.9951\">Pkg211</text></a><!--MD5=[09b614a08d8cba4a07c9adeb5e0fee81]\n",
       "class E3--><a href=\"psysml:fe6123c1-7336-461e-a67a-648132fed175\" target=\"_top\" title=\"psysml:fe6123c1-7336-461e-a67a-648132fed175\" xlink:actuate=\"onRequest\" xlink:href=\"psysml:fe6123c1-7336-461e-a67a-648132fed175\" xlink:show=\"new\" xlink:title=\"psysml:fe6123c1-7336-461e-a67a-648132fed175\" xlink:type=\"simple\"><rect fill=\"#FFFFFF\" height=\"45.9375\" id=\"E3\" rx=\"10\" ry=\"10\" style=\"stroke: #383838; stroke-width: 1.5;\" width=\"74\" x=\"265\" y=\"100\"/><text fill=\"#000000\" font-family=\"sans-serif\" font-size=\"12\" font-style=\"italic\" lengthAdjust=\"spacingAndGlyphs\" textLength=\"40\" x=\"282\" y=\"116.1387\">«part»</text><text fill=\"#000000\" font-family=\"sans-serif\" font-size=\"12\" lengthAdjust=\"spacingAndGlyphs\" textLength=\"64\" x=\"268\" y=\"130.1074\">p11: P211</text><line style=\"stroke: #383838; stroke-width: 1.5;\" x1=\"266\" x2=\"338\" y1=\"137.9375\" y2=\"137.9375\"/></a><!--MD5=[ebbe1d658d1005bcc118a6aa81145e00]\n",
       "class E4--><a href=\"psysml:1380541e-fc30-40f5-9a60-edda9aa0065e\" target=\"_top\" title=\"psysml:1380541e-fc30-40f5-9a60-edda9aa0065e\" xlink:actuate=\"onRequest\" xlink:href=\"psysml:1380541e-fc30-40f5-9a60-edda9aa0065e\" xlink:show=\"new\" xlink:title=\"psysml:1380541e-fc30-40f5-9a60-edda9aa0065e\" xlink:type=\"simple\"><rect fill=\"#FFFFFF\" height=\"45.9375\" id=\"E4\" style=\"stroke: #383838; stroke-width: 1.5;\" width=\"70\" x=\"374\" y=\"100\"/><text fill=\"#000000\" font-family=\"sans-serif\" font-size=\"12\" font-style=\"italic\" lengthAdjust=\"spacingAndGlyphs\" textLength=\"68\" x=\"375\" y=\"116.1387\">«part  def»</text><text fill=\"#000000\" font-family=\"sans-serif\" font-size=\"12\" lengthAdjust=\"spacingAndGlyphs\" textLength=\"24\" x=\"397\" y=\"130.1074\">P12</text><line style=\"stroke: #383838; stroke-width: 1.5;\" x1=\"375\" x2=\"443\" y1=\"137.9375\" y2=\"137.9375\"/></a><!--MD5=[b9389687b975829384b498ac4b7476b2]\n",
       "class E8--><a href=\"psysml:4acbdff1-c8fe-48cb-afd1-a68daa112cad\" target=\"_top\" title=\"psysml:4acbdff1-c8fe-48cb-afd1-a68daa112cad\" xlink:actuate=\"onRequest\" xlink:href=\"psysml:4acbdff1-c8fe-48cb-afd1-a68daa112cad\" xlink:show=\"new\" xlink:title=\"psysml:4acbdff1-c8fe-48cb-afd1-a68daa112cad\" xlink:type=\"simple\"><rect fill=\"#FFFFFF\" height=\"45.9375\" id=\"E8\" style=\"stroke: #383838; stroke-width: 1.5;\" width=\"70\" x=\"252\" y=\"396\"/><text fill=\"#000000\" font-family=\"sans-serif\" font-size=\"12\" font-style=\"italic\" lengthAdjust=\"spacingAndGlyphs\" textLength=\"68\" x=\"253\" y=\"412.1387\">«part  def»</text><text fill=\"#000000\" font-family=\"sans-serif\" font-size=\"12\" lengthAdjust=\"spacingAndGlyphs\" textLength=\"32\" x=\"271\" y=\"426.1074\">P211</text><line style=\"stroke: #383838; stroke-width: 1.5;\" x1=\"253\" x2=\"321\" y1=\"433.9375\" y2=\"433.9375\"/></a><!--MD5=[b0060bfdb0500b904584095522b4da3c]\n",
       "link E2 to E8--><a href=\"psysml:4f20d9a0-229b-41ce-a3f9-ec650db8275f\" target=\"_top\" title=\"psysml:4f20d9a0-229b-41ce-a3f9-ec650db8275f\" xlink:actuate=\"onRequest\" xlink:href=\"psysml:4f20d9a0-229b-41ce-a3f9-ec650db8275f\" xlink:show=\"new\" xlink:title=\"psysml:4f20d9a0-229b-41ce-a3f9-ec650db8275f\" xlink:type=\"simple\"><path d=\"M239.5673,170.044 C239.9187,170.8643 240.2829,171.6796 240.6605,172.4884 C241.4156,174.106 242.2242,175.6975 243.0899,177.2503 C244.8213,180.3558 246.7813,183.3063 249,186 C253.8,191.83 259.79,187.73 264,194 C304.62,254.46 298.3,345.57 291.84,390.69 \" fill=\"none\" id=\"E2-&gt;E8\" style=\"stroke: #383838; stroke-width: 1.0; stroke-dasharray: 7.0,7.0;\"/><polygon fill=\"#383838\" points=\"291.1,395.69,296.3662,387.3673,291.8271,390.7431,288.4512,386.204,291.1,395.69\" style=\"stroke: #383838; stroke-width: 1.0;\"/><text fill=\"#000000\" font-family=\"sans-serif\" font-size=\"13\" lengthAdjust=\"spacingAndGlyphs\" textLength=\"58\" x=\"274\" y=\"207.0669\">«import»</text></a><!--MD5=[e3e28c1befcf002155aa15e1416b4315]\n",
       "link E2 to E6--><a href=\"psysml:682e8ea7-bcd5-404d-bf47-54c119ed8bb7\" target=\"_top\" title=\"psysml:682e8ea7-bcd5-404d-bf47-54c119ed8bb7\" xlink:actuate=\"onRequest\" xlink:href=\"psysml:682e8ea7-bcd5-404d-bf47-54c119ed8bb7\" xlink:show=\"new\" xlink:title=\"psysml:682e8ea7-bcd5-404d-bf47-54c119ed8bb7\" xlink:type=\"simple\"><path d=\"M221.7454,125.2359 C221.6297,125.2555 221.5129,125.2754 221.395,125.2955 C221.1593,125.3358 220.9193,125.3771 220.6752,125.4195 C220.1869,125.5042 219.6819,125.5933 219.1609,125.6868 C217.0769,126.0607 214.7359,126.5053 212.1769,127.0288 C201.9406,129.1225 188.215,132.4775 173.4875,137.615 C144.0325,147.89 110.57,165.295 93,194 C65.99,238.135 83.98,293.0875 109.2162,337.5175 C121.8344,359.7325 136.2641,379.3169 147.7861,393.6031 C150.6666,397.1747 153.3654,400.4151 155.8087,403.2827 C157.0304,404.7165 158.1881,406.0571 159.2728,407.2993 C159.8152,407.9204 160.3393,408.5169 160.8439,409.0882 \" fill=\"none\" id=\"E2-&gt;E6\" style=\"stroke: #383838; stroke-width: 1.0; stroke-dasharray: 7.0,7.0;\"/><polygon fill=\"#383838\" points=\"160.8439,409.0882,157.8829,399.695,157.5335,405.341,151.8875,404.9916,160.8439,409.0882\" style=\"stroke: #383838; stroke-width: 1.0;\"/><text fill=\"#000000\" font-family=\"sans-serif\" font-size=\"13\" lengthAdjust=\"spacingAndGlyphs\" textLength=\"65\" x=\"94\" y=\"207.0669\">«import»*</text></a><!--MD5=[e3d2a08a9c9236652057e8ed0cbc9b62]\n",
       "link E2 to E7--><a href=\"psysml:60c32f43-2902-493b-8362-f480edbb78ed\" target=\"_top\" title=\"psysml:60c32f43-2902-493b-8362-f480edbb78ed\" xlink:actuate=\"onRequest\" xlink:href=\"psysml:60c32f43-2902-493b-8362-f480edbb78ed\" xlink:show=\"new\" xlink:title=\"psysml:60c32f43-2902-493b-8362-f480edbb78ed\" xlink:type=\"simple\"><path d=\"M221.8807,130.2617 C221.7401,130.3761 221.5982,130.4918 221.4548,130.6091 C216.8678,134.36 210.8594,139.5688 204.5113,145.875 C191.815,158.4875 177.76,175.49 171,194 C168.41,201.1 166.18,205.18 171,211 C183.11,225.64 200.74,204.48 213,219 C227.045,235.63 228.2325,284.0975 225.8175,329.0338 C225.5156,334.6508 225.1575,340.2126 224.7611,345.6502 C224.662,347.0096 224.5605,348.3613 224.4569,349.7041 C224.4051,350.3755 224.3528,351.0446 224.3,351.7115 C224.2736,352.0449 224.2471,352.3777 224.2204,352.71 \" fill=\"none\" id=\"E2-&gt;E7\" style=\"stroke: #383838; stroke-width: 1.0; stroke-dasharray: 7.0,7.0;\"/><polygon fill=\"#383838\" points=\"224.2204,352.71,228.9272,344.0586,224.6202,347.726,220.9528,343.419,224.2204,352.71\" style=\"stroke: #383838; stroke-width: 1.0;\"/><text fill=\"#000000\" font-family=\"sans-serif\" font-size=\"13\" lengthAdjust=\"spacingAndGlyphs\" textLength=\"87\" x=\"172\" y=\"207.0669\">«import»*::**</text></a><!--MD5=[ca5a752d6098d8a44b3f88316e7452d1]\n",
       "link E3 to E8--><a href=\"psysml:37accf74-aaef-4298-a8d1-458e277c829e\" target=\"_top\" title=\"psysml:37accf74-aaef-4298-a8d1-458e277c829e\" xlink:actuate=\"onRequest\" xlink:href=\"psysml:37accf74-aaef-4298-a8d1-458e277c829e\" xlink:show=\"new\" xlink:title=\"psysml:37accf74-aaef-4298-a8d1-458e277c829e\" xlink:type=\"simple\"><path d=\"M321.59,146.07 C339.73,166.51 363.93,193.81 364,194 C366.68,201.06 368.76,205.13 364,211 C353.13,224.4 338.12,206.71 326,219 C285.31,260.27 280.82,330.75 282.81,375.81 \" fill=\"none\" id=\"E3-&gt;E8\" style=\"stroke: #383838; stroke-width: 1.0;\"/><polygon fill=\"#FFFFFF\" points=\"284.19,395.93,275.9039,377.4546,289.8709,376.4948,284.19,395.93\" style=\"stroke: #383838; stroke-width: 1.0;\"/><ellipse cx=\"277.5084\" cy=\"371.6309\" fill=\"#383838\" rx=\"2\" ry=\"2\" style=\"stroke: #383838; stroke-width: 1.0;\"/><ellipse cx=\"287.4849\" cy=\"370.9453\" fill=\"#383838\" rx=\"2\" ry=\"2\" style=\"stroke: #383838; stroke-width: 1.0;\"/></a><!--MD5=[15ebcb19ae302d9b601edb458606d402]\n",
       "link E5 to E2--><a href=\"psysml:a29f5286-6760-4cc8-8866-2ed3ee4f3eda\" target=\"_top\" title=\"psysml:a29f5286-6760-4cc8-8866-2ed3ee4f3eda\" xlink:actuate=\"onRequest\" xlink:href=\"psysml:a29f5286-6760-4cc8-8866-2ed3ee4f3eda\" xlink:show=\"new\" xlink:title=\"psysml:a29f5286-6760-4cc8-8866-2ed3ee4f3eda\" xlink:type=\"simple\"><path d=\"M377.9071,234.5987 C377.6837,234.254 377.4593,233.91 377.2338,233.5668 C376.3317,232.1941 375.413,230.8338 374.4773,229.4868 C372.6059,226.7928 370.6665,224.152 368.6567,221.572 C360.6175,211.2517 351.4513,201.9025 341,194 C324.63,181.62 264.96,198.91 249,186 C246.2863,183.805 243.9511,181.2325 241.9426,178.4061 C240.9384,176.9929 240.0159,175.5163 239.1685,173.9916 C238.7448,173.2292 238.3399,172.4549 237.953,171.6705 C237.7596,171.2782 237.5706,170.8835 237.3861,170.4865 C237.3399,170.3873 237.2941,170.2879 237.2485,170.1883 \" fill=\"none\" id=\"E5-&gt;E2\" style=\"stroke: #383838; stroke-width: 1.0; stroke-dasharray: 7.0,7.0;\"/><polygon fill=\"#383838\" points=\"237.2485,170.1883,237.3599,180.0366,239.3307,174.7341,244.6331,176.705,237.2485,170.1883\" style=\"stroke: #383838; stroke-width: 1.0;\"/><text fill=\"#000000\" font-family=\"sans-serif\" font-size=\"13\" lengthAdjust=\"spacingAndGlyphs\" textLength=\"65\" x=\"356\" y=\"207.0669\">«import»*</text></a><!--MD5=[d7bb3fb34add81b710575eb3799fa2ad]\n",
       "link E8 to E4--><a href=\"psysml:d1a96eaf-259a-4888-9f98-ae46b38eb818\" target=\"_top\" title=\"psysml:d1a96eaf-259a-4888-9f98-ae46b38eb818\" xlink:actuate=\"onRequest\" xlink:href=\"psysml:d1a96eaf-259a-4888-9f98-ae46b38eb818\" xlink:show=\"new\" xlink:title=\"psysml:d1a96eaf-259a-4888-9f98-ae46b38eb818\" xlink:type=\"simple\"><path d=\"M283.6,395.87 C278.58,354.03 274.69,263.54 326,219 C338.77,207.91 466.36,223.27 478,211 C493.94,194.2 479.72,174.01 460.15,157.31 \" fill=\"none\" id=\"E8-&gt;E4\" style=\"stroke: #383838; stroke-width: 1.0;\"/><polygon fill=\"none\" points=\"455.78,162.78,444.15,145.06,464.29,151.66,455.78,162.78\" style=\"stroke: #383838; stroke-width: 1.0;\"/></a><!--MD5=[e20079ec3762cfc64ffd5c0e64e8ec69]\n",
       "@startuml\r\n",
       "skinparam monochrome true\r\n",
       "skinparam classbackgroundcolor white\r\n",
       "skinparam shadowing false\r\n",
       "skinparam wrapWidth 300\r\n",
       "hide circle\r\n",
       "\r\n",
       "package \"ImportTest\" as E1  [[psysml:4ef55e29-a78c-4120-8a0e-706d60f3b916 ]]  {\r\n",
       "package \"Pkg1\" as E2  [[psysml:fc5e85ef-31d8-4451-b981-c90381fde50e ]]  {\r\n",
       "comp usage \"p11: P211 \" as E3  <<(T,blue) part>> [[psysml:fe6123c1-7336-461e-a67a-648132fed175 ]] {\r\n",
       "}\r\n",
       "comp def \"P12\" as E4  <<(T,blue) part  def>> [[psysml:1380541e-fc30-40f5-9a60-edda9aa0065e ]] {\r\n",
       "}\r\n",
       "}\r\n",
       "package \"Pkg2\" as E5  [[psysml:c270e78f-1935-46bf-a024-66cb4836716b ]]  {\r\n",
       "package \"Pkg21\" as E6  [[psysml:ed944fef-70b9-4524-9917-716ca36e9ac1 ]]  {\r\n",
       "package \"Pkg211\" as E7  [[psysml:9f58dbb8-6a8c-4281-a4ad-0fbab28478f4 ]]  {\r\n",
       "comp def \"P211\" as E8  <<(T,blue) part  def>> [[psysml:4acbdff1-c8fe-48cb-afd1-a68daa112cad ]] {\r\n",
       "}\r\n",
       "}\r\n",
       "}\r\n",
       "}\r\n",
       "}\r\n",
       "E2 ..> E8 [[psysml:4f20d9a0-229b-41ce-a3f9-ec650db8275f ]] : <<import>>\r\n",
       "E2 ..> E6 [[psysml:682e8ea7-bcd5-404d-bf47-54c119ed8bb7 ]] : <<import>>*\r\n",
       "E2 ..> E7 [[psysml:60c32f43-2902-493b-8362-f480edbb78ed ]] : <<import>>*::**\r\n",
       "E3 - -:|> E8 [[psysml:37accf74-aaef-4298-a8d1-458e277c829e ]] \r\n",
       "E5 ..> E2 [[psysml:a29f5286-6760-4cc8-8866-2ed3ee4f3eda ]] : <<import>>*\r\n",
       "E8 - -|> E4 [[psysml:d1a96eaf-259a-4888-9f98-ae46b38eb818 ]] \r\n",
       "@enduml\r\n",
       "\n",
       "PlantUML version 1.2020.13(Sat Jun 13 12:26:38 UTC 2020)\n",
       "(EPL source distribution)\n",
       "Java Runtime: OpenJDK Runtime Environment\n",
       "JVM: OpenJDK 64-Bit Server VM\n",
       "Default Encoding: UTF-8\n",
       "Language: en\n",
       "Country: null\n",
       "--></g></svg>"
      ]
     },
     "execution_count": 43,
     "metadata": {},
     "output_type": "execute_result"
    }
   ],
   "source": [
    "%viz --style=\"DEFAULT\" --view=\"MIXED\" \"ImportTest\""
   ]
  },
  {
   "cell_type": "code",
   "execution_count": 44,
   "id": "994404c6",
   "metadata": {
    "execution": {
     "iopub.execute_input": "2022-02-18T10:47:00.779103Z",
     "iopub.status.busy": "2022-02-18T10:47:00.778709Z",
     "iopub.status.idle": "2022-02-18T10:47:00.814699Z",
     "shell.execute_reply": "2022-02-18T10:47:00.814354Z"
    }
   },
   "outputs": [
    {
     "data": {
      "image/svg+xml": [
       "<?xml version=\"1.0\" encoding=\"UTF-8\" standalone=\"no\"?><svg xmlns=\"http://www.w3.org/2000/svg\" xmlns:xlink=\"http://www.w3.org/1999/xlink\" contentScriptType=\"application/ecmascript\" contentStyleType=\"text/css\" height=\"590px\" preserveAspectRatio=\"none\" style=\"width:522px;height:590px;\" version=\"1.1\" viewBox=\"0 0 522 590\" width=\"522px\" zoomAndPan=\"magnify\"><defs/><g><!--MD5=[fbc87193dbaf4d95561dea2c320d4a47]\n",
       "cluster E1--><a href=\"psysml:4ef55e29-a78c-4120-8a0e-706d60f3b916\" target=\"_top\" title=\"psysml:4ef55e29-a78c-4120-8a0e-706d60f3b916\" xlink:actuate=\"onRequest\" xlink:href=\"psysml:4ef55e29-a78c-4120-8a0e-706d60f3b916\" xlink:show=\"new\" xlink:title=\"psysml:4ef55e29-a78c-4120-8a0e-706d60f3b916\" xlink:type=\"simple\"><polygon fill=\"#FFFFFF\" points=\"16,6,97,6,104,28.2969,500,28.2969,500,578,16,578,16,6\" style=\"stroke: #000000; stroke-width: 1.5;\"/><line style=\"stroke: #000000; stroke-width: 1.5;\" x1=\"16\" x2=\"104\" y1=\"28.2969\" y2=\"28.2969\"/><text fill=\"#000000\" font-family=\"sans-serif\" font-size=\"14\" font-weight=\"bold\" lengthAdjust=\"spacingAndGlyphs\" textLength=\"75\" x=\"20\" y=\"20.9951\">ImportTest</text></a><!--MD5=[e4f7fae6ed58524ba242bb0b0d3be6b7]\n",
       "cluster E2--><a href=\"psysml:fc5e85ef-31d8-4451-b981-c90381fde50e\" target=\"_top\" title=\"psysml:fc5e85ef-31d8-4451-b981-c90381fde50e\" xlink:actuate=\"onRequest\" xlink:href=\"psysml:fc5e85ef-31d8-4451-b981-c90381fde50e\" xlink:show=\"new\" xlink:title=\"psysml:fc5e85ef-31d8-4451-b981-c90381fde50e\" xlink:type=\"simple\"><polygon fill=\"#FFFFFF\" points=\"222,57,263,57,270,79.2969,468,79.2969,468,170,222,170,222,57\" style=\"stroke: #000000; stroke-width: 1.5;\"/><line style=\"stroke: #000000; stroke-width: 1.5;\" x1=\"222\" x2=\"270\" y1=\"79.2969\" y2=\"79.2969\"/><text fill=\"#000000\" font-family=\"sans-serif\" font-size=\"14\" font-weight=\"bold\" lengthAdjust=\"spacingAndGlyphs\" textLength=\"35\" x=\"226\" y=\"71.9951\">Pkg1</text></a><!--MD5=[de5ec2e2e8f62f467e546659f5068c88]\n",
       "cluster E5--><a href=\"psysml:c270e78f-1935-46bf-a024-66cb4836716b\" target=\"_top\" title=\"psysml:c270e78f-1935-46bf-a024-66cb4836716b\" xlink:actuate=\"onRequest\" xlink:href=\"psysml:c270e78f-1935-46bf-a024-66cb4836716b\" xlink:show=\"new\" xlink:title=\"psysml:c270e78f-1935-46bf-a024-66cb4836716b\" xlink:type=\"simple\"><polygon fill=\"#FFFFFF\" points=\"121,235,162,235,169,257.2969,434,257.2969,434,546,121,546,121,235\" style=\"stroke: #000000; stroke-width: 1.5;\"/><line style=\"stroke: #000000; stroke-width: 1.5;\" x1=\"121\" x2=\"169\" y1=\"257.2969\" y2=\"257.2969\"/><text fill=\"#000000\" font-family=\"sans-serif\" font-size=\"14\" font-weight=\"bold\" lengthAdjust=\"spacingAndGlyphs\" textLength=\"35\" x=\"125\" y=\"249.9951\">Pkg2</text></a><!--MD5=[14e3b0961a2654348d326746436168a1]\n",
       "cluster E6--><a href=\"psysml:ed944fef-70b9-4524-9917-716ca36e9ac1\" target=\"_top\" title=\"psysml:ed944fef-70b9-4524-9917-716ca36e9ac1\" xlink:actuate=\"onRequest\" xlink:href=\"psysml:ed944fef-70b9-4524-9917-716ca36e9ac1\" xlink:show=\"new\" xlink:title=\"psysml:ed944fef-70b9-4524-9917-716ca36e9ac1\" xlink:type=\"simple\"><polygon fill=\"#FFFFFF\" points=\"161,294,211,294,218,316.2969,386,316.2969,386,506,161,506,161,294\" style=\"stroke: #000000; stroke-width: 1.5;\"/><line style=\"stroke: #000000; stroke-width: 1.5;\" x1=\"161\" x2=\"218\" y1=\"316.2969\" y2=\"316.2969\"/><text fill=\"#000000\" font-family=\"sans-serif\" font-size=\"14\" font-weight=\"bold\" lengthAdjust=\"spacingAndGlyphs\" textLength=\"44\" x=\"165\" y=\"308.9951\">Pkg21</text></a><!--MD5=[168fadf3d0c3fd93dd5d6da1b1d7ab76]\n",
       "cluster E7--><a href=\"psysml:9f58dbb8-6a8c-4281-a4ad-0fbab28478f4\" target=\"_top\" title=\"psysml:9f58dbb8-6a8c-4281-a4ad-0fbab28478f4\" xlink:actuate=\"onRequest\" xlink:href=\"psysml:9f58dbb8-6a8c-4281-a4ad-0fbab28478f4\" xlink:show=\"new\" xlink:title=\"psysml:9f58dbb8-6a8c-4281-a4ad-0fbab28478f4\" xlink:type=\"simple\"><polygon fill=\"#FFFFFF\" points=\"209,353,268,353,275,375.2969,346,375.2969,346,466,209,466,209,353\" style=\"stroke: #000000; stroke-width: 1.5;\"/><line style=\"stroke: #000000; stroke-width: 1.5;\" x1=\"209\" x2=\"275\" y1=\"375.2969\" y2=\"375.2969\"/><text fill=\"#000000\" font-family=\"sans-serif\" font-size=\"14\" font-weight=\"bold\" lengthAdjust=\"spacingAndGlyphs\" textLength=\"53\" x=\"213\" y=\"367.9951\">Pkg211</text></a><!--MD5=[09b614a08d8cba4a07c9adeb5e0fee81]\n",
       "class E3--><a href=\"psysml:fe6123c1-7336-461e-a67a-648132fed175\" target=\"_top\" title=\"psysml:fe6123c1-7336-461e-a67a-648132fed175\" xlink:actuate=\"onRequest\" xlink:href=\"psysml:fe6123c1-7336-461e-a67a-648132fed175\" xlink:show=\"new\" xlink:title=\"psysml:fe6123c1-7336-461e-a67a-648132fed175\" xlink:type=\"simple\"><rect fill=\"#FFFFFF\" height=\"45.9375\" id=\"E3\" rx=\"10\" ry=\"10\" style=\"stroke: #383838; stroke-width: 1.5;\" width=\"74\" x=\"265\" y=\"100\"/><text fill=\"#000000\" font-family=\"sans-serif\" font-size=\"12\" font-style=\"italic\" lengthAdjust=\"spacingAndGlyphs\" textLength=\"40\" x=\"282\" y=\"116.1387\">«part»</text><text fill=\"#000000\" font-family=\"sans-serif\" font-size=\"12\" lengthAdjust=\"spacingAndGlyphs\" textLength=\"64\" x=\"268\" y=\"130.1074\">p11: P211</text><line style=\"stroke: #383838; stroke-width: 1.5;\" x1=\"266\" x2=\"338\" y1=\"137.9375\" y2=\"137.9375\"/></a><!--MD5=[ebbe1d658d1005bcc118a6aa81145e00]\n",
       "class E4--><a href=\"psysml:1380541e-fc30-40f5-9a60-edda9aa0065e\" target=\"_top\" title=\"psysml:1380541e-fc30-40f5-9a60-edda9aa0065e\" xlink:actuate=\"onRequest\" xlink:href=\"psysml:1380541e-fc30-40f5-9a60-edda9aa0065e\" xlink:show=\"new\" xlink:title=\"psysml:1380541e-fc30-40f5-9a60-edda9aa0065e\" xlink:type=\"simple\"><rect fill=\"#FFFFFF\" height=\"45.9375\" id=\"E4\" style=\"stroke: #383838; stroke-width: 1.5;\" width=\"70\" x=\"374\" y=\"100\"/><text fill=\"#000000\" font-family=\"sans-serif\" font-size=\"12\" font-style=\"italic\" lengthAdjust=\"spacingAndGlyphs\" textLength=\"68\" x=\"375\" y=\"116.1387\">«part  def»</text><text fill=\"#000000\" font-family=\"sans-serif\" font-size=\"12\" lengthAdjust=\"spacingAndGlyphs\" textLength=\"24\" x=\"397\" y=\"130.1074\">P12</text><line style=\"stroke: #383838; stroke-width: 1.5;\" x1=\"375\" x2=\"443\" y1=\"137.9375\" y2=\"137.9375\"/></a><!--MD5=[b9389687b975829384b498ac4b7476b2]\n",
       "class E8--><a href=\"psysml:4acbdff1-c8fe-48cb-afd1-a68daa112cad\" target=\"_top\" title=\"psysml:4acbdff1-c8fe-48cb-afd1-a68daa112cad\" xlink:actuate=\"onRequest\" xlink:href=\"psysml:4acbdff1-c8fe-48cb-afd1-a68daa112cad\" xlink:show=\"new\" xlink:title=\"psysml:4acbdff1-c8fe-48cb-afd1-a68daa112cad\" xlink:type=\"simple\"><rect fill=\"#FFFFFF\" height=\"45.9375\" id=\"E8\" style=\"stroke: #383838; stroke-width: 1.5;\" width=\"70\" x=\"252\" y=\"396\"/><text fill=\"#000000\" font-family=\"sans-serif\" font-size=\"12\" font-style=\"italic\" lengthAdjust=\"spacingAndGlyphs\" textLength=\"68\" x=\"253\" y=\"412.1387\">«part  def»</text><text fill=\"#000000\" font-family=\"sans-serif\" font-size=\"12\" lengthAdjust=\"spacingAndGlyphs\" textLength=\"32\" x=\"271\" y=\"426.1074\">P211</text><line style=\"stroke: #383838; stroke-width: 1.5;\" x1=\"253\" x2=\"321\" y1=\"433.9375\" y2=\"433.9375\"/></a><!--MD5=[b0060bfdb0500b904584095522b4da3c]\n",
       "link E2 to E8--><a href=\"psysml:4f20d9a0-229b-41ce-a3f9-ec650db8275f\" target=\"_top\" title=\"psysml:4f20d9a0-229b-41ce-a3f9-ec650db8275f\" xlink:actuate=\"onRequest\" xlink:href=\"psysml:4f20d9a0-229b-41ce-a3f9-ec650db8275f\" xlink:show=\"new\" xlink:title=\"psysml:4f20d9a0-229b-41ce-a3f9-ec650db8275f\" xlink:type=\"simple\"><path d=\"M239.5673,170.044 C239.9187,170.8643 240.2829,171.6796 240.6605,172.4884 C241.4156,174.106 242.2242,175.6975 243.0899,177.2503 C244.8213,180.3558 246.7813,183.3063 249,186 C253.8,191.83 259.79,187.73 264,194 C304.62,254.46 298.3,345.57 291.84,390.69 \" fill=\"none\" id=\"E2-&gt;E8\" style=\"stroke: #383838; stroke-width: 1.0; stroke-dasharray: 7.0,7.0;\"/><polygon fill=\"#383838\" points=\"291.1,395.69,296.3662,387.3673,291.8271,390.7431,288.4512,386.204,291.1,395.69\" style=\"stroke: #383838; stroke-width: 1.0;\"/><text fill=\"#000000\" font-family=\"sans-serif\" font-size=\"13\" lengthAdjust=\"spacingAndGlyphs\" textLength=\"58\" x=\"274\" y=\"207.0669\">«import»</text></a><!--MD5=[e3e28c1befcf002155aa15e1416b4315]\n",
       "link E2 to E6--><a href=\"psysml:682e8ea7-bcd5-404d-bf47-54c119ed8bb7\" target=\"_top\" title=\"psysml:682e8ea7-bcd5-404d-bf47-54c119ed8bb7\" xlink:actuate=\"onRequest\" xlink:href=\"psysml:682e8ea7-bcd5-404d-bf47-54c119ed8bb7\" xlink:show=\"new\" xlink:title=\"psysml:682e8ea7-bcd5-404d-bf47-54c119ed8bb7\" xlink:type=\"simple\"><path d=\"M221.7454,125.2359 C221.6297,125.2555 221.5129,125.2754 221.395,125.2955 C221.1593,125.3358 220.9193,125.3771 220.6752,125.4195 C220.1869,125.5042 219.6819,125.5933 219.1609,125.6868 C217.0769,126.0607 214.7359,126.5053 212.1769,127.0288 C201.9406,129.1225 188.215,132.4775 173.4875,137.615 C144.0325,147.89 110.57,165.295 93,194 C65.99,238.135 83.98,293.0875 109.2162,337.5175 C121.8344,359.7325 136.2641,379.3169 147.7861,393.6031 C150.6666,397.1747 153.3654,400.4151 155.8087,403.2827 C157.0304,404.7165 158.1881,406.0571 159.2728,407.2993 C159.8152,407.9204 160.3393,408.5169 160.8439,409.0882 \" fill=\"none\" id=\"E2-&gt;E6\" style=\"stroke: #383838; stroke-width: 1.0; stroke-dasharray: 7.0,7.0;\"/><polygon fill=\"#383838\" points=\"160.8439,409.0882,157.8829,399.695,157.5335,405.341,151.8875,404.9916,160.8439,409.0882\" style=\"stroke: #383838; stroke-width: 1.0;\"/><text fill=\"#000000\" font-family=\"sans-serif\" font-size=\"13\" lengthAdjust=\"spacingAndGlyphs\" textLength=\"65\" x=\"94\" y=\"207.0669\">«import»*</text></a><!--MD5=[e3d2a08a9c9236652057e8ed0cbc9b62]\n",
       "link E2 to E7--><a href=\"psysml:60c32f43-2902-493b-8362-f480edbb78ed\" target=\"_top\" title=\"psysml:60c32f43-2902-493b-8362-f480edbb78ed\" xlink:actuate=\"onRequest\" xlink:href=\"psysml:60c32f43-2902-493b-8362-f480edbb78ed\" xlink:show=\"new\" xlink:title=\"psysml:60c32f43-2902-493b-8362-f480edbb78ed\" xlink:type=\"simple\"><path d=\"M221.8807,130.2617 C221.7401,130.3761 221.5982,130.4918 221.4548,130.6091 C216.8678,134.36 210.8594,139.5688 204.5113,145.875 C191.815,158.4875 177.76,175.49 171,194 C168.41,201.1 166.18,205.18 171,211 C183.11,225.64 200.74,204.48 213,219 C227.045,235.63 228.2325,284.0975 225.8175,329.0338 C225.5156,334.6508 225.1575,340.2126 224.7611,345.6502 C224.662,347.0096 224.5605,348.3613 224.4569,349.7041 C224.4051,350.3755 224.3528,351.0446 224.3,351.7115 C224.2736,352.0449 224.2471,352.3777 224.2204,352.71 \" fill=\"none\" id=\"E2-&gt;E7\" style=\"stroke: #383838; stroke-width: 1.0; stroke-dasharray: 7.0,7.0;\"/><polygon fill=\"#383838\" points=\"224.2204,352.71,228.9272,344.0586,224.6202,347.726,220.9528,343.419,224.2204,352.71\" style=\"stroke: #383838; stroke-width: 1.0;\"/><text fill=\"#000000\" font-family=\"sans-serif\" font-size=\"13\" lengthAdjust=\"spacingAndGlyphs\" textLength=\"87\" x=\"172\" y=\"207.0669\">«import»*::**</text></a><!--MD5=[ca5a752d6098d8a44b3f88316e7452d1]\n",
       "link E3 to E8--><a href=\"psysml:37accf74-aaef-4298-a8d1-458e277c829e\" target=\"_top\" title=\"psysml:37accf74-aaef-4298-a8d1-458e277c829e\" xlink:actuate=\"onRequest\" xlink:href=\"psysml:37accf74-aaef-4298-a8d1-458e277c829e\" xlink:show=\"new\" xlink:title=\"psysml:37accf74-aaef-4298-a8d1-458e277c829e\" xlink:type=\"simple\"><path d=\"M321.59,146.07 C339.73,166.51 363.93,193.81 364,194 C366.68,201.06 368.76,205.13 364,211 C353.13,224.4 338.12,206.71 326,219 C285.31,260.27 280.82,330.75 282.81,375.81 \" fill=\"none\" id=\"E3-&gt;E8\" style=\"stroke: #383838; stroke-width: 1.0;\"/><polygon fill=\"#FFFFFF\" points=\"284.19,395.93,275.9039,377.4546,289.8709,376.4948,284.19,395.93\" style=\"stroke: #383838; stroke-width: 1.0;\"/><ellipse cx=\"277.5084\" cy=\"371.6309\" fill=\"#383838\" rx=\"2\" ry=\"2\" style=\"stroke: #383838; stroke-width: 1.0;\"/><ellipse cx=\"287.4849\" cy=\"370.9453\" fill=\"#383838\" rx=\"2\" ry=\"2\" style=\"stroke: #383838; stroke-width: 1.0;\"/></a><!--MD5=[15ebcb19ae302d9b601edb458606d402]\n",
       "link E5 to E2--><a href=\"psysml:a29f5286-6760-4cc8-8866-2ed3ee4f3eda\" target=\"_top\" title=\"psysml:a29f5286-6760-4cc8-8866-2ed3ee4f3eda\" xlink:actuate=\"onRequest\" xlink:href=\"psysml:a29f5286-6760-4cc8-8866-2ed3ee4f3eda\" xlink:show=\"new\" xlink:title=\"psysml:a29f5286-6760-4cc8-8866-2ed3ee4f3eda\" xlink:type=\"simple\"><path d=\"M377.9071,234.5987 C377.6837,234.254 377.4593,233.91 377.2338,233.5668 C376.3317,232.1941 375.413,230.8338 374.4773,229.4868 C372.6059,226.7928 370.6665,224.152 368.6567,221.572 C360.6175,211.2517 351.4513,201.9025 341,194 C324.63,181.62 264.96,198.91 249,186 C246.2863,183.805 243.9511,181.2325 241.9426,178.4061 C240.9384,176.9929 240.0159,175.5163 239.1685,173.9916 C238.7448,173.2292 238.3399,172.4549 237.953,171.6705 C237.7596,171.2782 237.5706,170.8835 237.3861,170.4865 C237.3399,170.3873 237.2941,170.2879 237.2485,170.1883 \" fill=\"none\" id=\"E5-&gt;E2\" style=\"stroke: #383838; stroke-width: 1.0; stroke-dasharray: 7.0,7.0;\"/><polygon fill=\"#383838\" points=\"237.2485,170.1883,237.3599,180.0366,239.3307,174.7341,244.6331,176.705,237.2485,170.1883\" style=\"stroke: #383838; stroke-width: 1.0;\"/><text fill=\"#000000\" font-family=\"sans-serif\" font-size=\"13\" lengthAdjust=\"spacingAndGlyphs\" textLength=\"65\" x=\"356\" y=\"207.0669\">«import»*</text></a><!--MD5=[d7bb3fb34add81b710575eb3799fa2ad]\n",
       "link E8 to E4--><a href=\"psysml:d1a96eaf-259a-4888-9f98-ae46b38eb818\" target=\"_top\" title=\"psysml:d1a96eaf-259a-4888-9f98-ae46b38eb818\" xlink:actuate=\"onRequest\" xlink:href=\"psysml:d1a96eaf-259a-4888-9f98-ae46b38eb818\" xlink:show=\"new\" xlink:title=\"psysml:d1a96eaf-259a-4888-9f98-ae46b38eb818\" xlink:type=\"simple\"><path d=\"M283.6,395.87 C278.58,354.03 274.69,263.54 326,219 C338.77,207.91 466.36,223.27 478,211 C493.94,194.2 479.72,174.01 460.15,157.31 \" fill=\"none\" id=\"E8-&gt;E4\" style=\"stroke: #383838; stroke-width: 1.0;\"/><polygon fill=\"none\" points=\"455.78,162.78,444.15,145.06,464.29,151.66,455.78,162.78\" style=\"stroke: #383838; stroke-width: 1.0;\"/></a><!--MD5=[64ba3a5ea5b7d1aabf76063e7f11c514]\n",
       "@startuml\r\n",
       "top to bottom direction\r\n",
       "skinparam monochrome true\r\n",
       "skinparam classbackgroundcolor white\r\n",
       "skinparam shadowing false\r\n",
       "skinparam wrapWidth 300\r\n",
       "hide circle\r\n",
       "\r\n",
       "package \"ImportTest\" as E1  [[psysml:4ef55e29-a78c-4120-8a0e-706d60f3b916 ]]  {\r\n",
       "package \"Pkg1\" as E2  [[psysml:fc5e85ef-31d8-4451-b981-c90381fde50e ]]  {\r\n",
       "comp usage \"p11: P211 \" as E3  <<(T,blue) part>> [[psysml:fe6123c1-7336-461e-a67a-648132fed175 ]] {\r\n",
       "}\r\n",
       "comp def \"P12\" as E4  <<(T,blue) part  def>> [[psysml:1380541e-fc30-40f5-9a60-edda9aa0065e ]] {\r\n",
       "}\r\n",
       "}\r\n",
       "package \"Pkg2\" as E5  [[psysml:c270e78f-1935-46bf-a024-66cb4836716b ]]  {\r\n",
       "package \"Pkg21\" as E6  [[psysml:ed944fef-70b9-4524-9917-716ca36e9ac1 ]]  {\r\n",
       "package \"Pkg211\" as E7  [[psysml:9f58dbb8-6a8c-4281-a4ad-0fbab28478f4 ]]  {\r\n",
       "comp def \"P211\" as E8  <<(T,blue) part  def>> [[psysml:4acbdff1-c8fe-48cb-afd1-a68daa112cad ]] {\r\n",
       "}\r\n",
       "}\r\n",
       "}\r\n",
       "}\r\n",
       "}\r\n",
       "E2 ..> E8 [[psysml:4f20d9a0-229b-41ce-a3f9-ec650db8275f ]] : <<import>>\r\n",
       "E2 ..> E6 [[psysml:682e8ea7-bcd5-404d-bf47-54c119ed8bb7 ]] : <<import>>*\r\n",
       "E2 ..> E7 [[psysml:60c32f43-2902-493b-8362-f480edbb78ed ]] : <<import>>*::**\r\n",
       "E3 - -:|> E8 [[psysml:37accf74-aaef-4298-a8d1-458e277c829e ]] \r\n",
       "E5 ..> E2 [[psysml:a29f5286-6760-4cc8-8866-2ed3ee4f3eda ]] : <<import>>*\r\n",
       "E8 - -|> E4 [[psysml:d1a96eaf-259a-4888-9f98-ae46b38eb818 ]] \r\n",
       "@enduml\r\n",
       "\n",
       "PlantUML version 1.2020.13(Sat Jun 13 12:26:38 UTC 2020)\n",
       "(EPL source distribution)\n",
       "Java Runtime: OpenJDK Runtime Environment\n",
       "JVM: OpenJDK 64-Bit Server VM\n",
       "Default Encoding: UTF-8\n",
       "Language: en\n",
       "Country: null\n",
       "--></g></svg>"
      ]
     },
     "execution_count": 44,
     "metadata": {},
     "output_type": "execute_result"
    }
   ],
   "source": [
    "%viz --style=\"TB\" --view=\"Default\" \"ImportTest\""
   ]
  },
  {
   "cell_type": "code",
   "execution_count": 45,
   "id": "cc8bbdbb",
   "metadata": {
    "execution": {
     "iopub.execute_input": "2022-02-18T10:47:00.864381Z",
     "iopub.status.busy": "2022-02-18T10:47:00.863975Z",
     "iopub.status.idle": "2022-02-18T10:47:00.899130Z",
     "shell.execute_reply": "2022-02-18T10:47:00.897833Z"
    }
   },
   "outputs": [
    {
     "data": {
      "image/svg+xml": [
       "<?xml version=\"1.0\" encoding=\"UTF-8\" standalone=\"no\"?><svg xmlns=\"http://www.w3.org/2000/svg\" xmlns:xlink=\"http://www.w3.org/1999/xlink\" contentScriptType=\"application/ecmascript\" contentStyleType=\"text/css\" height=\"590px\" preserveAspectRatio=\"none\" style=\"width:522px;height:590px;\" version=\"1.1\" viewBox=\"0 0 522 590\" width=\"522px\" zoomAndPan=\"magnify\"><defs/><g><!--MD5=[fbc87193dbaf4d95561dea2c320d4a47]\n",
       "cluster E1--><a href=\"psysml:4ef55e29-a78c-4120-8a0e-706d60f3b916\" target=\"_top\" title=\"psysml:4ef55e29-a78c-4120-8a0e-706d60f3b916\" xlink:actuate=\"onRequest\" xlink:href=\"psysml:4ef55e29-a78c-4120-8a0e-706d60f3b916\" xlink:show=\"new\" xlink:title=\"psysml:4ef55e29-a78c-4120-8a0e-706d60f3b916\" xlink:type=\"simple\"><polygon fill=\"#FFFFFF\" points=\"16,6,97,6,104,28.2969,500,28.2969,500,578,16,578,16,6\" style=\"stroke: #000000; stroke-width: 1.5;\"/><line style=\"stroke: #000000; stroke-width: 1.5;\" x1=\"16\" x2=\"104\" y1=\"28.2969\" y2=\"28.2969\"/><text fill=\"#000000\" font-family=\"sans-serif\" font-size=\"14\" font-weight=\"bold\" lengthAdjust=\"spacingAndGlyphs\" textLength=\"75\" x=\"20\" y=\"20.9951\">ImportTest</text></a><!--MD5=[e4f7fae6ed58524ba242bb0b0d3be6b7]\n",
       "cluster E2--><a href=\"psysml:fc5e85ef-31d8-4451-b981-c90381fde50e\" target=\"_top\" title=\"psysml:fc5e85ef-31d8-4451-b981-c90381fde50e\" xlink:actuate=\"onRequest\" xlink:href=\"psysml:fc5e85ef-31d8-4451-b981-c90381fde50e\" xlink:show=\"new\" xlink:title=\"psysml:fc5e85ef-31d8-4451-b981-c90381fde50e\" xlink:type=\"simple\"><polygon fill=\"#FFFFFF\" points=\"222,57,263,57,270,79.2969,468,79.2969,468,170,222,170,222,57\" style=\"stroke: #000000; stroke-width: 1.5;\"/><line style=\"stroke: #000000; stroke-width: 1.5;\" x1=\"222\" x2=\"270\" y1=\"79.2969\" y2=\"79.2969\"/><text fill=\"#000000\" font-family=\"sans-serif\" font-size=\"14\" font-weight=\"bold\" lengthAdjust=\"spacingAndGlyphs\" textLength=\"35\" x=\"226\" y=\"71.9951\">Pkg1</text></a><!--MD5=[de5ec2e2e8f62f467e546659f5068c88]\n",
       "cluster E5--><a href=\"psysml:c270e78f-1935-46bf-a024-66cb4836716b\" target=\"_top\" title=\"psysml:c270e78f-1935-46bf-a024-66cb4836716b\" xlink:actuate=\"onRequest\" xlink:href=\"psysml:c270e78f-1935-46bf-a024-66cb4836716b\" xlink:show=\"new\" xlink:title=\"psysml:c270e78f-1935-46bf-a024-66cb4836716b\" xlink:type=\"simple\"><polygon fill=\"#FFFFFF\" points=\"121,235,162,235,169,257.2969,434,257.2969,434,546,121,546,121,235\" style=\"stroke: #000000; stroke-width: 1.5;\"/><line style=\"stroke: #000000; stroke-width: 1.5;\" x1=\"121\" x2=\"169\" y1=\"257.2969\" y2=\"257.2969\"/><text fill=\"#000000\" font-family=\"sans-serif\" font-size=\"14\" font-weight=\"bold\" lengthAdjust=\"spacingAndGlyphs\" textLength=\"35\" x=\"125\" y=\"249.9951\">Pkg2</text></a><!--MD5=[14e3b0961a2654348d326746436168a1]\n",
       "cluster E6--><a href=\"psysml:ed944fef-70b9-4524-9917-716ca36e9ac1\" target=\"_top\" title=\"psysml:ed944fef-70b9-4524-9917-716ca36e9ac1\" xlink:actuate=\"onRequest\" xlink:href=\"psysml:ed944fef-70b9-4524-9917-716ca36e9ac1\" xlink:show=\"new\" xlink:title=\"psysml:ed944fef-70b9-4524-9917-716ca36e9ac1\" xlink:type=\"simple\"><polygon fill=\"#FFFFFF\" points=\"161,294,211,294,218,316.2969,386,316.2969,386,506,161,506,161,294\" style=\"stroke: #000000; stroke-width: 1.5;\"/><line style=\"stroke: #000000; stroke-width: 1.5;\" x1=\"161\" x2=\"218\" y1=\"316.2969\" y2=\"316.2969\"/><text fill=\"#000000\" font-family=\"sans-serif\" font-size=\"14\" font-weight=\"bold\" lengthAdjust=\"spacingAndGlyphs\" textLength=\"44\" x=\"165\" y=\"308.9951\">Pkg21</text></a><!--MD5=[168fadf3d0c3fd93dd5d6da1b1d7ab76]\n",
       "cluster E7--><a href=\"psysml:9f58dbb8-6a8c-4281-a4ad-0fbab28478f4\" target=\"_top\" title=\"psysml:9f58dbb8-6a8c-4281-a4ad-0fbab28478f4\" xlink:actuate=\"onRequest\" xlink:href=\"psysml:9f58dbb8-6a8c-4281-a4ad-0fbab28478f4\" xlink:show=\"new\" xlink:title=\"psysml:9f58dbb8-6a8c-4281-a4ad-0fbab28478f4\" xlink:type=\"simple\"><polygon fill=\"#FFFFFF\" points=\"209,353,268,353,275,375.2969,346,375.2969,346,466,209,466,209,353\" style=\"stroke: #000000; stroke-width: 1.5;\"/><line style=\"stroke: #000000; stroke-width: 1.5;\" x1=\"209\" x2=\"275\" y1=\"375.2969\" y2=\"375.2969\"/><text fill=\"#000000\" font-family=\"sans-serif\" font-size=\"14\" font-weight=\"bold\" lengthAdjust=\"spacingAndGlyphs\" textLength=\"53\" x=\"213\" y=\"367.9951\">Pkg211</text></a><!--MD5=[09b614a08d8cba4a07c9adeb5e0fee81]\n",
       "class E3--><a href=\"psysml:fe6123c1-7336-461e-a67a-648132fed175\" target=\"_top\" title=\"psysml:fe6123c1-7336-461e-a67a-648132fed175\" xlink:actuate=\"onRequest\" xlink:href=\"psysml:fe6123c1-7336-461e-a67a-648132fed175\" xlink:show=\"new\" xlink:title=\"psysml:fe6123c1-7336-461e-a67a-648132fed175\" xlink:type=\"simple\"><rect fill=\"#FFFFFF\" height=\"45.9375\" id=\"E3\" rx=\"10\" ry=\"10\" style=\"stroke: #383838; stroke-width: 1.5;\" width=\"74\" x=\"265\" y=\"100\"/><text fill=\"#000000\" font-family=\"sans-serif\" font-size=\"12\" font-style=\"italic\" lengthAdjust=\"spacingAndGlyphs\" textLength=\"40\" x=\"282\" y=\"116.1387\">«part»</text><text fill=\"#000000\" font-family=\"sans-serif\" font-size=\"12\" lengthAdjust=\"spacingAndGlyphs\" textLength=\"64\" x=\"268\" y=\"130.1074\">p11: P211</text><line style=\"stroke: #383838; stroke-width: 1.5;\" x1=\"266\" x2=\"338\" y1=\"137.9375\" y2=\"137.9375\"/></a><!--MD5=[ebbe1d658d1005bcc118a6aa81145e00]\n",
       "class E4--><a href=\"psysml:1380541e-fc30-40f5-9a60-edda9aa0065e\" target=\"_top\" title=\"psysml:1380541e-fc30-40f5-9a60-edda9aa0065e\" xlink:actuate=\"onRequest\" xlink:href=\"psysml:1380541e-fc30-40f5-9a60-edda9aa0065e\" xlink:show=\"new\" xlink:title=\"psysml:1380541e-fc30-40f5-9a60-edda9aa0065e\" xlink:type=\"simple\"><rect fill=\"#FFFFFF\" height=\"45.9375\" id=\"E4\" style=\"stroke: #383838; stroke-width: 1.5;\" width=\"70\" x=\"374\" y=\"100\"/><text fill=\"#000000\" font-family=\"sans-serif\" font-size=\"12\" font-style=\"italic\" lengthAdjust=\"spacingAndGlyphs\" textLength=\"68\" x=\"375\" y=\"116.1387\">«part  def»</text><text fill=\"#000000\" font-family=\"sans-serif\" font-size=\"12\" lengthAdjust=\"spacingAndGlyphs\" textLength=\"24\" x=\"397\" y=\"130.1074\">P12</text><line style=\"stroke: #383838; stroke-width: 1.5;\" x1=\"375\" x2=\"443\" y1=\"137.9375\" y2=\"137.9375\"/></a><!--MD5=[b9389687b975829384b498ac4b7476b2]\n",
       "class E8--><a href=\"psysml:4acbdff1-c8fe-48cb-afd1-a68daa112cad\" target=\"_top\" title=\"psysml:4acbdff1-c8fe-48cb-afd1-a68daa112cad\" xlink:actuate=\"onRequest\" xlink:href=\"psysml:4acbdff1-c8fe-48cb-afd1-a68daa112cad\" xlink:show=\"new\" xlink:title=\"psysml:4acbdff1-c8fe-48cb-afd1-a68daa112cad\" xlink:type=\"simple\"><rect fill=\"#FFFFFF\" height=\"45.9375\" id=\"E8\" style=\"stroke: #383838; stroke-width: 1.5;\" width=\"70\" x=\"252\" y=\"396\"/><text fill=\"#000000\" font-family=\"sans-serif\" font-size=\"12\" font-style=\"italic\" lengthAdjust=\"spacingAndGlyphs\" textLength=\"68\" x=\"253\" y=\"412.1387\">«part  def»</text><text fill=\"#000000\" font-family=\"sans-serif\" font-size=\"12\" lengthAdjust=\"spacingAndGlyphs\" textLength=\"32\" x=\"271\" y=\"426.1074\">P211</text><line style=\"stroke: #383838; stroke-width: 1.5;\" x1=\"253\" x2=\"321\" y1=\"433.9375\" y2=\"433.9375\"/></a><!--MD5=[b0060bfdb0500b904584095522b4da3c]\n",
       "link E2 to E8--><a href=\"psysml:4f20d9a0-229b-41ce-a3f9-ec650db8275f\" target=\"_top\" title=\"psysml:4f20d9a0-229b-41ce-a3f9-ec650db8275f\" xlink:actuate=\"onRequest\" xlink:href=\"psysml:4f20d9a0-229b-41ce-a3f9-ec650db8275f\" xlink:show=\"new\" xlink:title=\"psysml:4f20d9a0-229b-41ce-a3f9-ec650db8275f\" xlink:type=\"simple\"><path d=\"M239.5673,170.044 C239.9187,170.8643 240.2829,171.6796 240.6605,172.4884 C241.4156,174.106 242.2242,175.6975 243.0899,177.2503 C244.8213,180.3558 246.7813,183.3063 249,186 C253.8,191.83 259.79,187.73 264,194 C304.62,254.46 298.3,345.57 291.84,390.69 \" fill=\"none\" id=\"E2-&gt;E8\" style=\"stroke: #383838; stroke-width: 1.0; stroke-dasharray: 7.0,7.0;\"/><polygon fill=\"#383838\" points=\"291.1,395.69,296.3662,387.3673,291.8271,390.7431,288.4512,386.204,291.1,395.69\" style=\"stroke: #383838; stroke-width: 1.0;\"/><text fill=\"#000000\" font-family=\"sans-serif\" font-size=\"13\" lengthAdjust=\"spacingAndGlyphs\" textLength=\"58\" x=\"274\" y=\"207.0669\">«import»</text></a><!--MD5=[e3e28c1befcf002155aa15e1416b4315]\n",
       "link E2 to E6--><a href=\"psysml:682e8ea7-bcd5-404d-bf47-54c119ed8bb7\" target=\"_top\" title=\"psysml:682e8ea7-bcd5-404d-bf47-54c119ed8bb7\" xlink:actuate=\"onRequest\" xlink:href=\"psysml:682e8ea7-bcd5-404d-bf47-54c119ed8bb7\" xlink:show=\"new\" xlink:title=\"psysml:682e8ea7-bcd5-404d-bf47-54c119ed8bb7\" xlink:type=\"simple\"><path d=\"M221.7454,125.2359 C221.6297,125.2555 221.5129,125.2754 221.395,125.2955 C221.1593,125.3358 220.9193,125.3771 220.6752,125.4195 C220.1869,125.5042 219.6819,125.5933 219.1609,125.6868 C217.0769,126.0607 214.7359,126.5053 212.1769,127.0288 C201.9406,129.1225 188.215,132.4775 173.4875,137.615 C144.0325,147.89 110.57,165.295 93,194 C65.99,238.135 83.98,293.0875 109.2162,337.5175 C121.8344,359.7325 136.2641,379.3169 147.7861,393.6031 C150.6666,397.1747 153.3654,400.4151 155.8087,403.2827 C157.0304,404.7165 158.1881,406.0571 159.2728,407.2993 C159.8152,407.9204 160.3393,408.5169 160.8439,409.0882 \" fill=\"none\" id=\"E2-&gt;E6\" style=\"stroke: #383838; stroke-width: 1.0; stroke-dasharray: 7.0,7.0;\"/><polygon fill=\"#383838\" points=\"160.8439,409.0882,157.8829,399.695,157.5335,405.341,151.8875,404.9916,160.8439,409.0882\" style=\"stroke: #383838; stroke-width: 1.0;\"/><text fill=\"#000000\" font-family=\"sans-serif\" font-size=\"13\" lengthAdjust=\"spacingAndGlyphs\" textLength=\"65\" x=\"94\" y=\"207.0669\">«import»*</text></a><!--MD5=[e3d2a08a9c9236652057e8ed0cbc9b62]\n",
       "link E2 to E7--><a href=\"psysml:60c32f43-2902-493b-8362-f480edbb78ed\" target=\"_top\" title=\"psysml:60c32f43-2902-493b-8362-f480edbb78ed\" xlink:actuate=\"onRequest\" xlink:href=\"psysml:60c32f43-2902-493b-8362-f480edbb78ed\" xlink:show=\"new\" xlink:title=\"psysml:60c32f43-2902-493b-8362-f480edbb78ed\" xlink:type=\"simple\"><path d=\"M221.8807,130.2617 C221.7401,130.3761 221.5982,130.4918 221.4548,130.6091 C216.8678,134.36 210.8594,139.5688 204.5113,145.875 C191.815,158.4875 177.76,175.49 171,194 C168.41,201.1 166.18,205.18 171,211 C183.11,225.64 200.74,204.48 213,219 C227.045,235.63 228.2325,284.0975 225.8175,329.0338 C225.5156,334.6508 225.1575,340.2126 224.7611,345.6502 C224.662,347.0096 224.5605,348.3613 224.4569,349.7041 C224.4051,350.3755 224.3528,351.0446 224.3,351.7115 C224.2736,352.0449 224.2471,352.3777 224.2204,352.71 \" fill=\"none\" id=\"E2-&gt;E7\" style=\"stroke: #383838; stroke-width: 1.0; stroke-dasharray: 7.0,7.0;\"/><polygon fill=\"#383838\" points=\"224.2204,352.71,228.9272,344.0586,224.6202,347.726,220.9528,343.419,224.2204,352.71\" style=\"stroke: #383838; stroke-width: 1.0;\"/><text fill=\"#000000\" font-family=\"sans-serif\" font-size=\"13\" lengthAdjust=\"spacingAndGlyphs\" textLength=\"87\" x=\"172\" y=\"207.0669\">«import»*::**</text></a><!--MD5=[ca5a752d6098d8a44b3f88316e7452d1]\n",
       "link E3 to E8--><a href=\"psysml:37accf74-aaef-4298-a8d1-458e277c829e\" target=\"_top\" title=\"psysml:37accf74-aaef-4298-a8d1-458e277c829e\" xlink:actuate=\"onRequest\" xlink:href=\"psysml:37accf74-aaef-4298-a8d1-458e277c829e\" xlink:show=\"new\" xlink:title=\"psysml:37accf74-aaef-4298-a8d1-458e277c829e\" xlink:type=\"simple\"><path d=\"M321.59,146.07 C339.73,166.51 363.93,193.81 364,194 C366.68,201.06 368.76,205.13 364,211 C353.13,224.4 338.12,206.71 326,219 C285.31,260.27 280.82,330.75 282.81,375.81 \" fill=\"none\" id=\"E3-&gt;E8\" style=\"stroke: #383838; stroke-width: 1.0;\"/><polygon fill=\"#FFFFFF\" points=\"284.19,395.93,275.9039,377.4546,289.8709,376.4948,284.19,395.93\" style=\"stroke: #383838; stroke-width: 1.0;\"/><ellipse cx=\"277.5084\" cy=\"371.6309\" fill=\"#383838\" rx=\"2\" ry=\"2\" style=\"stroke: #383838; stroke-width: 1.0;\"/><ellipse cx=\"287.4849\" cy=\"370.9453\" fill=\"#383838\" rx=\"2\" ry=\"2\" style=\"stroke: #383838; stroke-width: 1.0;\"/></a><!--MD5=[15ebcb19ae302d9b601edb458606d402]\n",
       "link E5 to E2--><a href=\"psysml:a29f5286-6760-4cc8-8866-2ed3ee4f3eda\" target=\"_top\" title=\"psysml:a29f5286-6760-4cc8-8866-2ed3ee4f3eda\" xlink:actuate=\"onRequest\" xlink:href=\"psysml:a29f5286-6760-4cc8-8866-2ed3ee4f3eda\" xlink:show=\"new\" xlink:title=\"psysml:a29f5286-6760-4cc8-8866-2ed3ee4f3eda\" xlink:type=\"simple\"><path d=\"M377.9071,234.5987 C377.6837,234.254 377.4593,233.91 377.2338,233.5668 C376.3317,232.1941 375.413,230.8338 374.4773,229.4868 C372.6059,226.7928 370.6665,224.152 368.6567,221.572 C360.6175,211.2517 351.4513,201.9025 341,194 C324.63,181.62 264.96,198.91 249,186 C246.2863,183.805 243.9511,181.2325 241.9426,178.4061 C240.9384,176.9929 240.0159,175.5163 239.1685,173.9916 C238.7448,173.2292 238.3399,172.4549 237.953,171.6705 C237.7596,171.2782 237.5706,170.8835 237.3861,170.4865 C237.3399,170.3873 237.2941,170.2879 237.2485,170.1883 \" fill=\"none\" id=\"E5-&gt;E2\" style=\"stroke: #383838; stroke-width: 1.0; stroke-dasharray: 7.0,7.0;\"/><polygon fill=\"#383838\" points=\"237.2485,170.1883,237.3599,180.0366,239.3307,174.7341,244.6331,176.705,237.2485,170.1883\" style=\"stroke: #383838; stroke-width: 1.0;\"/><text fill=\"#000000\" font-family=\"sans-serif\" font-size=\"13\" lengthAdjust=\"spacingAndGlyphs\" textLength=\"65\" x=\"356\" y=\"207.0669\">«import»*</text></a><!--MD5=[d7bb3fb34add81b710575eb3799fa2ad]\n",
       "link E8 to E4--><a href=\"psysml:d1a96eaf-259a-4888-9f98-ae46b38eb818\" target=\"_top\" title=\"psysml:d1a96eaf-259a-4888-9f98-ae46b38eb818\" xlink:actuate=\"onRequest\" xlink:href=\"psysml:d1a96eaf-259a-4888-9f98-ae46b38eb818\" xlink:show=\"new\" xlink:title=\"psysml:d1a96eaf-259a-4888-9f98-ae46b38eb818\" xlink:type=\"simple\"><path d=\"M283.6,395.87 C278.58,354.03 274.69,263.54 326,219 C338.77,207.91 466.36,223.27 478,211 C493.94,194.2 479.72,174.01 460.15,157.31 \" fill=\"none\" id=\"E8-&gt;E4\" style=\"stroke: #383838; stroke-width: 1.0;\"/><polygon fill=\"none\" points=\"455.78,162.78,444.15,145.06,464.29,151.66,455.78,162.78\" style=\"stroke: #383838; stroke-width: 1.0;\"/></a><!--MD5=[64ba3a5ea5b7d1aabf76063e7f11c514]\n",
       "@startuml\r\n",
       "top to bottom direction\r\n",
       "skinparam monochrome true\r\n",
       "skinparam classbackgroundcolor white\r\n",
       "skinparam shadowing false\r\n",
       "skinparam wrapWidth 300\r\n",
       "hide circle\r\n",
       "\r\n",
       "package \"ImportTest\" as E1  [[psysml:4ef55e29-a78c-4120-8a0e-706d60f3b916 ]]  {\r\n",
       "package \"Pkg1\" as E2  [[psysml:fc5e85ef-31d8-4451-b981-c90381fde50e ]]  {\r\n",
       "comp usage \"p11: P211 \" as E3  <<(T,blue) part>> [[psysml:fe6123c1-7336-461e-a67a-648132fed175 ]] {\r\n",
       "}\r\n",
       "comp def \"P12\" as E4  <<(T,blue) part  def>> [[psysml:1380541e-fc30-40f5-9a60-edda9aa0065e ]] {\r\n",
       "}\r\n",
       "}\r\n",
       "package \"Pkg2\" as E5  [[psysml:c270e78f-1935-46bf-a024-66cb4836716b ]]  {\r\n",
       "package \"Pkg21\" as E6  [[psysml:ed944fef-70b9-4524-9917-716ca36e9ac1 ]]  {\r\n",
       "package \"Pkg211\" as E7  [[psysml:9f58dbb8-6a8c-4281-a4ad-0fbab28478f4 ]]  {\r\n",
       "comp def \"P211\" as E8  <<(T,blue) part  def>> [[psysml:4acbdff1-c8fe-48cb-afd1-a68daa112cad ]] {\r\n",
       "}\r\n",
       "}\r\n",
       "}\r\n",
       "}\r\n",
       "}\r\n",
       "E2 ..> E8 [[psysml:4f20d9a0-229b-41ce-a3f9-ec650db8275f ]] : <<import>>\r\n",
       "E2 ..> E6 [[psysml:682e8ea7-bcd5-404d-bf47-54c119ed8bb7 ]] : <<import>>*\r\n",
       "E2 ..> E7 [[psysml:60c32f43-2902-493b-8362-f480edbb78ed ]] : <<import>>*::**\r\n",
       "E3 - -:|> E8 [[psysml:37accf74-aaef-4298-a8d1-458e277c829e ]] \r\n",
       "E5 ..> E2 [[psysml:a29f5286-6760-4cc8-8866-2ed3ee4f3eda ]] : <<import>>*\r\n",
       "E8 - -|> E4 [[psysml:d1a96eaf-259a-4888-9f98-ae46b38eb818 ]] \r\n",
       "@enduml\r\n",
       "\n",
       "PlantUML version 1.2020.13(Sat Jun 13 12:26:38 UTC 2020)\n",
       "(EPL source distribution)\n",
       "Java Runtime: OpenJDK Runtime Environment\n",
       "JVM: OpenJDK 64-Bit Server VM\n",
       "Default Encoding: UTF-8\n",
       "Language: en\n",
       "Country: null\n",
       "--></g></svg>"
      ]
     },
     "execution_count": 45,
     "metadata": {},
     "output_type": "execute_result"
    }
   ],
   "source": [
    "%viz --style=\"TB\" --view=\"Tree\" \"ImportTest\""
   ]
  },
  {
   "cell_type": "code",
   "execution_count": 46,
   "id": "13664261",
   "metadata": {
    "execution": {
     "iopub.execute_input": "2022-02-18T10:47:00.948875Z",
     "iopub.status.busy": "2022-02-18T10:47:00.948458Z",
     "iopub.status.idle": "2022-02-18T10:47:00.952919Z",
     "shell.execute_reply": "2022-02-18T10:47:00.952571Z"
    }
   },
   "outputs": [
    {
     "data": {
      "image/svg+xml": [
       "<?xml version=\"1.0\" encoding=\"UTF-8\" standalone=\"no\"?><svg xmlns=\"http://www.w3.org/2000/svg\" xmlns:xlink=\"http://www.w3.org/1999/xlink\" contentScriptType=\"application/ecmascript\" contentStyleType=\"text/css\" height=\"12px\" preserveAspectRatio=\"none\" style=\"width:12px;height:12px;\" version=\"1.1\" viewBox=\"0 0 12 12\" width=\"12px\" zoomAndPan=\"magnify\"><defs/><g><!--MD5=[f4ee21bc66e489b5061b7c3e9601fdef]\n",
       "@startuml\r\n",
       "top to bottom direction\r\n",
       "skinparam monochrome true\r\n",
       "skinparam classbackgroundcolor white\r\n",
       "skinparam shadowing false\r\n",
       "skinparam wrapWidth 300\r\n",
       "hide circle\r\n",
       "\r\n",
       "@enduml\r\n",
       "\n",
       "PlantUML version 1.2020.13(Sat Jun 13 12:26:38 UTC 2020)\n",
       "(EPL source distribution)\n",
       "Java Runtime: OpenJDK Runtime Environment\n",
       "JVM: OpenJDK 64-Bit Server VM\n",
       "Default Encoding: UTF-8\n",
       "Language: en\n",
       "Country: null\n",
       "--></g></svg>"
      ]
     },
     "execution_count": 46,
     "metadata": {},
     "output_type": "execute_result"
    }
   ],
   "source": [
    "%viz --style=\"TB\" --view=\"State\" \"ImportTest\""
   ]
  },
  {
   "cell_type": "code",
   "execution_count": 47,
   "id": "422827ec",
   "metadata": {
    "execution": {
     "iopub.execute_input": "2022-02-18T10:47:01.002874Z",
     "iopub.status.busy": "2022-02-18T10:47:01.002454Z",
     "iopub.status.idle": "2022-02-18T10:47:01.035929Z",
     "shell.execute_reply": "2022-02-18T10:47:01.035582Z"
    }
   },
   "outputs": [
    {
     "data": {
      "image/svg+xml": [
       "<?xml version=\"1.0\" encoding=\"UTF-8\" standalone=\"no\"?><svg xmlns=\"http://www.w3.org/2000/svg\" xmlns:xlink=\"http://www.w3.org/1999/xlink\" contentScriptType=\"application/ecmascript\" contentStyleType=\"text/css\" height=\"584px\" preserveAspectRatio=\"none\" style=\"width:515px;height:584px;\" version=\"1.1\" viewBox=\"0 0 515 584\" width=\"515px\" zoomAndPan=\"magnify\"><defs/><g><!--MD5=[fbc87193dbaf4d95561dea2c320d4a47]\n",
       "cluster E1--><a href=\"psysml:4ef55e29-a78c-4120-8a0e-706d60f3b916\" target=\"_top\" title=\"psysml:4ef55e29-a78c-4120-8a0e-706d60f3b916\" xlink:actuate=\"onRequest\" xlink:href=\"psysml:4ef55e29-a78c-4120-8a0e-706d60f3b916\" xlink:show=\"new\" xlink:title=\"psysml:4ef55e29-a78c-4120-8a0e-706d60f3b916\" xlink:type=\"simple\"><polygon fill=\"#FFFFFF\" points=\"16,6,97,6,104,28.2969,493,28.2969,493,572,16,572,16,6\" style=\"stroke: #000000; stroke-width: 1.5;\"/><line style=\"stroke: #000000; stroke-width: 1.5;\" x1=\"16\" x2=\"104\" y1=\"28.2969\" y2=\"28.2969\"/><text fill=\"#000000\" font-family=\"sans-serif\" font-size=\"14\" font-weight=\"bold\" lengthAdjust=\"spacingAndGlyphs\" textLength=\"75\" x=\"20\" y=\"20.9951\">ImportTest</text></a><!--MD5=[e4f7fae6ed58524ba242bb0b0d3be6b7]\n",
       "cluster E2--><a href=\"psysml:fc5e85ef-31d8-4451-b981-c90381fde50e\" target=\"_top\" title=\"psysml:fc5e85ef-31d8-4451-b981-c90381fde50e\" xlink:actuate=\"onRequest\" xlink:href=\"psysml:fc5e85ef-31d8-4451-b981-c90381fde50e\" xlink:show=\"new\" xlink:title=\"psysml:fc5e85ef-31d8-4451-b981-c90381fde50e\" xlink:type=\"simple\"><polygon fill=\"#FFFFFF\" points=\"209,57,250,57,257,79.2969,461,79.2969,461,167,209,167,209,57\" style=\"stroke: #000000; stroke-width: 1.5;\"/><line style=\"stroke: #000000; stroke-width: 1.5;\" x1=\"209\" x2=\"257\" y1=\"79.2969\" y2=\"79.2969\"/><text fill=\"#000000\" font-family=\"sans-serif\" font-size=\"14\" font-weight=\"bold\" lengthAdjust=\"spacingAndGlyphs\" textLength=\"35\" x=\"213\" y=\"71.9951\">Pkg1</text></a><!--MD5=[de5ec2e2e8f62f467e546659f5068c88]\n",
       "cluster E5--><a href=\"psysml:c270e78f-1935-46bf-a024-66cb4836716b\" target=\"_top\" title=\"psysml:c270e78f-1935-46bf-a024-66cb4836716b\" xlink:actuate=\"onRequest\" xlink:href=\"psysml:c270e78f-1935-46bf-a024-66cb4836716b\" xlink:show=\"new\" xlink:title=\"psysml:c270e78f-1935-46bf-a024-66cb4836716b\" xlink:type=\"simple\"><polygon fill=\"#FFFFFF\" points=\"93,232,134,232,141,254.2969,411,254.2969,411,540,93,540,93,232\" style=\"stroke: #000000; stroke-width: 1.5;\"/><line style=\"stroke: #000000; stroke-width: 1.5;\" x1=\"93\" x2=\"141\" y1=\"254.2969\" y2=\"254.2969\"/><text fill=\"#000000\" font-family=\"sans-serif\" font-size=\"14\" font-weight=\"bold\" lengthAdjust=\"spacingAndGlyphs\" textLength=\"35\" x=\"97\" y=\"246.9951\">Pkg2</text></a><!--MD5=[14e3b0961a2654348d326746436168a1]\n",
       "cluster E6--><a href=\"psysml:ed944fef-70b9-4524-9917-716ca36e9ac1\" target=\"_top\" title=\"psysml:ed944fef-70b9-4524-9917-716ca36e9ac1\" xlink:actuate=\"onRequest\" xlink:href=\"psysml:ed944fef-70b9-4524-9917-716ca36e9ac1\" xlink:show=\"new\" xlink:title=\"psysml:ed944fef-70b9-4524-9917-716ca36e9ac1\" xlink:type=\"simple\"><polygon fill=\"#FFFFFF\" points=\"133,291,183,291,190,313.2969,363,313.2969,363,500,133,500,133,291\" style=\"stroke: #000000; stroke-width: 1.5;\"/><line style=\"stroke: #000000; stroke-width: 1.5;\" x1=\"133\" x2=\"190\" y1=\"313.2969\" y2=\"313.2969\"/><text fill=\"#000000\" font-family=\"sans-serif\" font-size=\"14\" font-weight=\"bold\" lengthAdjust=\"spacingAndGlyphs\" textLength=\"44\" x=\"137\" y=\"305.9951\">Pkg21</text></a><!--MD5=[168fadf3d0c3fd93dd5d6da1b1d7ab76]\n",
       "cluster E7--><a href=\"psysml:9f58dbb8-6a8c-4281-a4ad-0fbab28478f4\" target=\"_top\" title=\"psysml:9f58dbb8-6a8c-4281-a4ad-0fbab28478f4\" xlink:actuate=\"onRequest\" xlink:href=\"psysml:9f58dbb8-6a8c-4281-a4ad-0fbab28478f4\" xlink:show=\"new\" xlink:title=\"psysml:9f58dbb8-6a8c-4281-a4ad-0fbab28478f4\" xlink:type=\"simple\"><polygon fill=\"#FFFFFF\" points=\"181,350,240,350,247,372.2969,323,372.2969,323,460,181,460,181,350\" style=\"stroke: #000000; stroke-width: 1.5;\"/><line style=\"stroke: #000000; stroke-width: 1.5;\" x1=\"181\" x2=\"247\" y1=\"372.2969\" y2=\"372.2969\"/><text fill=\"#000000\" font-family=\"sans-serif\" font-size=\"14\" font-weight=\"bold\" lengthAdjust=\"spacingAndGlyphs\" textLength=\"53\" x=\"185\" y=\"364.9951\">Pkg211</text></a><g id=\"E1.E2.E3\"><a href=\"psysml:fe6123c1-7336-461e-a67a-648132fed175\" target=\"_top\" title=\"psysml:fe6123c1-7336-461e-a67a-648132fed175\" xlink:actuate=\"onRequest\" xlink:href=\"psysml:fe6123c1-7336-461e-a67a-648132fed175\" xlink:show=\"new\" xlink:title=\"psysml:fe6123c1-7336-461e-a67a-648132fed175\" xlink:type=\"simple\"><rect fill=\"#FFFFFF\" height=\"40\" id=\"E3\" rx=\"10\" ry=\"10\" style=\"stroke: #383838; stroke-width: 1.5;\" width=\"75\" x=\"362.5\" y=\"101.5\"/><rect fill=\"#F8F8F8\" height=\"23.9688\" rx=\"10\" ry=\"10\" style=\"stroke: #F8F8F8; stroke-width: 1.5;\" width=\"75\" x=\"362.5\" y=\"101.5\"/><rect fill=\"#F8F8F8\" height=\"10\" style=\"stroke: #F8F8F8; stroke-width: 1.5;\" width=\"75\" x=\"362.5\" y=\"115.4688\"/><rect fill=\"none\" height=\"40\" id=\"E3\" rx=\"10\" ry=\"10\" style=\"stroke: #383838; stroke-width: 1.5;\" width=\"75\" x=\"362.5\" y=\"101.5\"/><text fill=\"#000000\" font-family=\"sans-serif\" font-size=\"12\" lengthAdjust=\"spacingAndGlyphs\" textLength=\"64\" x=\"368\" y=\"117.6387\">p11: P211</text></a></g><g id=\"E1.E2.E4\"><a href=\"psysml:1380541e-fc30-40f5-9a60-edda9aa0065e\" target=\"_top\" title=\"psysml:1380541e-fc30-40f5-9a60-edda9aa0065e\" xlink:actuate=\"onRequest\" xlink:href=\"psysml:1380541e-fc30-40f5-9a60-edda9aa0065e\" xlink:show=\"new\" xlink:title=\"psysml:1380541e-fc30-40f5-9a60-edda9aa0065e\" xlink:type=\"simple\"><rect fill=\"#FFFFFF\" height=\"42.9375\" id=\"E4\" style=\"stroke: #383838; stroke-width: 1.5;\" width=\"75\" x=\"252.5\" y=\"100\"/><rect fill=\"#F8F8F8\" height=\"37.9375\" style=\"stroke: #383838; stroke-width: 1.5;\" width=\"75\" x=\"252.5\" y=\"100\"/><text fill=\"#000000\" font-family=\"sans-serif\" font-size=\"12\" font-style=\"italic\" lengthAdjust=\"spacingAndGlyphs\" textLength=\"68\" x=\"256\" y=\"116.1387\">«part  def»</text><text fill=\"#000000\" font-family=\"sans-serif\" font-size=\"12\" lengthAdjust=\"spacingAndGlyphs\" textLength=\"24\" x=\"278\" y=\"130.1074\">P12</text></a></g><g id=\"E1.E5.E6.E7.E8\"><a href=\"psysml:4acbdff1-c8fe-48cb-afd1-a68daa112cad\" target=\"_top\" title=\"psysml:4acbdff1-c8fe-48cb-afd1-a68daa112cad\" xlink:actuate=\"onRequest\" xlink:href=\"psysml:4acbdff1-c8fe-48cb-afd1-a68daa112cad\" xlink:show=\"new\" xlink:title=\"psysml:4acbdff1-c8fe-48cb-afd1-a68daa112cad\" xlink:type=\"simple\"><rect fill=\"#FFFFFF\" height=\"42.9375\" id=\"E8\" style=\"stroke: #383838; stroke-width: 1.5;\" width=\"75\" x=\"224.5\" y=\"393\"/><rect fill=\"#F8F8F8\" height=\"37.9375\" style=\"stroke: #383838; stroke-width: 1.5;\" width=\"75\" x=\"224.5\" y=\"393\"/><text fill=\"#000000\" font-family=\"sans-serif\" font-size=\"12\" font-style=\"italic\" lengthAdjust=\"spacingAndGlyphs\" textLength=\"68\" x=\"228\" y=\"409.1387\">«part  def»</text><text fill=\"#000000\" font-family=\"sans-serif\" font-size=\"12\" lengthAdjust=\"spacingAndGlyphs\" textLength=\"32\" x=\"246\" y=\"423.1074\">P211</text></a></g><!--MD5=[b0060bfdb0500b904584095522b4da3c]\n",
       "link E2 to E8--><a href=\"psysml:4f20d9a0-229b-41ce-a3f9-ec650db8275f\" target=\"_top\" title=\"psysml:4f20d9a0-229b-41ce-a3f9-ec650db8275f\" xlink:actuate=\"onRequest\" xlink:href=\"psysml:4f20d9a0-229b-41ce-a3f9-ec650db8275f\" xlink:show=\"new\" xlink:title=\"psysml:4f20d9a0-229b-41ce-a3f9-ec650db8275f\" xlink:type=\"simple\"><path d=\"M226.0996,167.0404 C226.2817,167.4353 226.4674,167.8286 226.6569,168.2201 C227.0359,169.0031 227.4297,169.7788 227.8389,170.5455 C228.6575,172.0788 229.5378,173.5761 230.4846,175.0235 C232.3781,177.9183 234.5375,180.6138 237,183 C245.99,191.71 256.51,180.97 264,191 C307.73,249.57 285.73,343.1 271.27,387.93 \" fill=\"none\" id=\"E2-&gt;E8\" style=\"stroke: #383838; stroke-width: 1.0; stroke-dasharray: 7.0,7.0;\"/><polygon fill=\"#383838\" points=\"269.63,392.89,276.2378,385.5868,271.1897,388.1395,268.637,383.0913,269.63,392.89\" style=\"stroke: #383838; stroke-width: 1.0;\"/><text fill=\"#000000\" font-family=\"sans-serif\" font-size=\"13\" lengthAdjust=\"spacingAndGlyphs\" textLength=\"58\" x=\"274\" y=\"204.0669\">«import»</text></a><!--MD5=[e3e28c1befcf002155aa15e1416b4315]\n",
       "link E2 to E6--><a href=\"psysml:682e8ea7-bcd5-404d-bf47-54c119ed8bb7\" target=\"_top\" title=\"psysml:682e8ea7-bcd5-404d-bf47-54c119ed8bb7\" xlink:actuate=\"onRequest\" xlink:href=\"psysml:682e8ea7-bcd5-404d-bf47-54c119ed8bb7\" xlink:show=\"new\" xlink:title=\"psysml:682e8ea7-bcd5-404d-bf47-54c119ed8bb7\" xlink:type=\"simple\"><path d=\"M208.8595,124.0557 C208.7506,124.0788 208.6407,124.1021 208.5299,124.1258 C208.0867,124.2205 207.6284,124.3196 207.1556,124.4234 C205.264,124.8384 203.1395,125.3269 200.8172,125.8948 C191.5281,128.1666 179.0763,131.7094 165.7275,136.9063 C139.03,147.3 108.745,164.31 93,191 C67.7,233.885 78.9325,288.455 96.865,332.8188 C105.8313,355.0006 116.4725,374.6309 125.0597,388.9733 C127.2065,392.5589 129.2249,395.814 131.0567,398.6958 C131.5146,399.4162 131.9609,400.1134 132.3946,400.7865 C132.503,400.9548 132.6107,401.1216 132.7175,401.2869 \" fill=\"none\" id=\"E2-&gt;E6\" style=\"stroke: #383838; stroke-width: 1.0; stroke-dasharray: 7.0,7.0;\"/><polygon fill=\"#383838\" points=\"132.7175,401.2869,131.1908,391.557,130.0031,397.0878,124.4723,395.9001,132.7175,401.2869\" style=\"stroke: #383838; stroke-width: 1.0;\"/><text fill=\"#000000\" font-family=\"sans-serif\" font-size=\"13\" lengthAdjust=\"spacingAndGlyphs\" textLength=\"65\" x=\"94\" y=\"204.0669\">«import»*</text></a><!--MD5=[e3d2a08a9c9236652057e8ed0cbc9b62]\n",
       "link E2 to E7--><a href=\"psysml:60c32f43-2902-493b-8362-f480edbb78ed\" target=\"_top\" title=\"psysml:60c32f43-2902-493b-8362-f480edbb78ed\" xlink:actuate=\"onRequest\" xlink:href=\"psysml:60c32f43-2902-493b-8362-f480edbb78ed\" xlink:show=\"new\" xlink:title=\"psysml:60c32f43-2902-493b-8362-f480edbb78ed\" xlink:type=\"simple\"><path d=\"M208.9087,130.8599 C208.4267,131.3857 207.929,131.9334 207.4172,132.5019 C206.3938,133.639 205.3142,134.8598 204.1919,136.1571 C201.9473,138.7518 199.5316,141.6528 197.0512,144.8037 C187.13,157.4075 176.175,174.01 171,191 C168.8,198.23 167.21,201.47 171,208 C174.6,214.2 181.34,209.84 185,216 C207.065,253.155 208.38,301.58 204.025,341.18 C203.7528,343.655 203.4585,346.0955 203.1457,348.4967 C203.1066,348.7968 203.0672,349.0963 203.0275,349.3953 \" fill=\"none\" id=\"E2-&gt;E7\" style=\"stroke: #383838; stroke-width: 1.0; stroke-dasharray: 7.0,7.0;\"/><polygon fill=\"#383838\" points=\"203.0275,349.3953,208.1768,340.9997,203.6853,344.4387,200.2464,339.9472,203.0275,349.3953\" style=\"stroke: #383838; stroke-width: 1.0;\"/><text fill=\"#000000\" font-family=\"sans-serif\" font-size=\"13\" lengthAdjust=\"spacingAndGlyphs\" textLength=\"87\" x=\"172\" y=\"204.0669\">«import»*::**</text></a><!--MD5=[15ebcb19ae302d9b601edb458606d402]\n",
       "link E5 to E2--><a href=\"psysml:a29f5286-6760-4cc8-8866-2ed3ee4f3eda\" target=\"_top\" title=\"psysml:a29f5286-6760-4cc8-8866-2ed3ee4f3eda\" xlink:actuate=\"onRequest\" xlink:href=\"psysml:a29f5286-6760-4cc8-8866-2ed3ee4f3eda\" xlink:show=\"new\" xlink:title=\"psysml:a29f5286-6760-4cc8-8866-2ed3ee4f3eda\" xlink:type=\"simple\"><path d=\"M374.0816,231.8188 C373.8921,231.4743 373.7014,231.1305 373.5097,230.7874 C372.7425,229.4152 371.957,228.0548 371.1529,226.707 C369.5446,224.0116 367.8614,221.3671 366.1,218.7807 C359.0547,208.4352 350.7587,199.02 341,191 C323.09,176.28 255.25,197.29 237,183 C234.3,180.8863 231.9606,178.3973 229.9341,175.6551 C228.9209,174.284 227.9858,172.8496 227.123,171.367 C226.6917,170.6257 226.2783,169.8724 225.8823,169.109 C225.6843,168.7273 225.4906,168.3431 225.3012,167.9565 C225.2065,167.7633 225.1128,167.5694 225.0202,167.3751 C224.9739,167.2779 224.9278,167.1805 224.882,167.0831 \" fill=\"none\" id=\"E5-&gt;E2\" style=\"stroke: #383838; stroke-width: 1.0; stroke-dasharray: 7.0,7.0;\"/><polygon fill=\"#383838\" points=\"224.882,167.0831,225.0885,176.9298,227.0081,171.6086,232.3293,173.5281,224.882,167.0831\" style=\"stroke: #383838; stroke-width: 1.0;\"/><text fill=\"#000000\" font-family=\"sans-serif\" font-size=\"13\" lengthAdjust=\"spacingAndGlyphs\" textLength=\"65\" x=\"355\" y=\"204.0669\">«import»*</text></a><!--MD5=[d7bb3fb34add81b710575eb3799fa2ad]\n",
       "link E8 to E4--><a href=\"psysml:d1a96eaf-259a-4888-9f98-ae46b38eb818\" target=\"_top\" title=\"psysml:d1a96eaf-259a-4888-9f98-ae46b38eb818\" xlink:actuate=\"onRequest\" xlink:href=\"psysml:d1a96eaf-259a-4888-9f98-ae46b38eb818\" xlink:show=\"new\" xlink:title=\"psysml:d1a96eaf-259a-4888-9f98-ae46b38eb818\" xlink:type=\"simple\"><path d=\"M259.15,392.74 C254.81,351.69 251.92,260.28 304,216 C318.15,203.97 458.18,221.45 471,208 C476.21,202.53 476.17,196.51 471,191 C461.4,180.77 357.64,189.08 345,183 C333.67,177.55 323.59,168.63 315.26,159.29 \" fill=\"none\" id=\"E8-&gt;E4\" style=\"stroke: #383838; stroke-width: 1.0;\"/><polygon fill=\"none\" points=\"309.47,163.25,302.61,143.2,320.48,154.6,309.47,163.25\" style=\"stroke: #383838; stroke-width: 1.0;\"/></a><!--MD5=[3e4ef8fe69b3962e3be02793f5348b87]\n",
       "@startuml\r\n",
       "skinparam ranksep 10\r\n",
       "skinparam rectangle {\r\n",
       " backgroundColor<<block>> LightGreen\r\n",
       "}\r\n",
       "top to bottom direction\r\n",
       "skinparam monochrome true\r\n",
       "skinparam classbackgroundcolor white\r\n",
       "skinparam shadowing false\r\n",
       "skinparam wrapWidth 300\r\n",
       "hide circle\r\n",
       "\r\n",
       "package \"ImportTest\" as E1  [[psysml:4ef55e29-a78c-4120-8a0e-706d60f3b916 ]]  {\r\n",
       "package \"Pkg1\" as E2  [[psysml:fc5e85ef-31d8-4451-b981-c90381fde50e ]]  {\r\n",
       "rec usage \"p11: P211\" as E3  [[psysml:fe6123c1-7336-461e-a67a-648132fed175 ]] {\r\n",
       "}\r\n",
       "rec def \"P12\" as E4  <<(T,blue) part  def>> [[psysml:1380541e-fc30-40f5-9a60-edda9aa0065e ]] {\r\n",
       "}\r\n",
       "}\r\n",
       "package \"Pkg2\" as E5  [[psysml:c270e78f-1935-46bf-a024-66cb4836716b ]]  {\r\n",
       "package \"Pkg21\" as E6  [[psysml:ed944fef-70b9-4524-9917-716ca36e9ac1 ]]  {\r\n",
       "package \"Pkg211\" as E7  [[psysml:9f58dbb8-6a8c-4281-a4ad-0fbab28478f4 ]]  {\r\n",
       "rec def \"P211\" as E8  <<(T,blue) part  def>> [[psysml:4acbdff1-c8fe-48cb-afd1-a68daa112cad ]] {\r\n",
       "}\r\n",
       "}\r\n",
       "}\r\n",
       "}\r\n",
       "}\r\n",
       "E2 ..> E8 [[psysml:4f20d9a0-229b-41ce-a3f9-ec650db8275f ]] : <<import>>\r\n",
       "E2 ..> E6 [[psysml:682e8ea7-bcd5-404d-bf47-54c119ed8bb7 ]] : <<import>>*\r\n",
       "E2 ..> E7 [[psysml:60c32f43-2902-493b-8362-f480edbb78ed ]] : <<import>>*::**\r\n",
       "E5 ..> E2 [[psysml:a29f5286-6760-4cc8-8866-2ed3ee4f3eda ]] : <<import>>*\r\n",
       "E8 - -|> E4 [[psysml:d1a96eaf-259a-4888-9f98-ae46b38eb818 ]] \r\n",
       "@enduml\r\n",
       "\n",
       "PlantUML version 1.2020.13(Sat Jun 13 12:26:38 UTC 2020)\n",
       "(EPL source distribution)\n",
       "Java Runtime: OpenJDK Runtime Environment\n",
       "JVM: OpenJDK 64-Bit Server VM\n",
       "Default Encoding: UTF-8\n",
       "Language: en\n",
       "Country: null\n",
       "--></g></svg>"
      ]
     },
     "execution_count": 47,
     "metadata": {},
     "output_type": "execute_result"
    }
   ],
   "source": [
    "%viz --style=\"TB\" --view=\"Interconnection\" \"ImportTest\""
   ]
  },
  {
   "cell_type": "code",
   "execution_count": 48,
   "id": "a6eee81c",
   "metadata": {
    "execution": {
     "iopub.execute_input": "2022-02-18T10:47:01.085587Z",
     "iopub.status.busy": "2022-02-18T10:47:01.085194Z",
     "iopub.status.idle": "2022-02-18T10:47:01.090222Z",
     "shell.execute_reply": "2022-02-18T10:47:01.089883Z"
    }
   },
   "outputs": [
    {
     "data": {
      "image/svg+xml": [
       "<?xml version=\"1.0\" encoding=\"UTF-8\" standalone=\"no\"?><svg xmlns=\"http://www.w3.org/2000/svg\" xmlns:xlink=\"http://www.w3.org/1999/xlink\" contentScriptType=\"application/ecmascript\" contentStyleType=\"text/css\" height=\"12px\" preserveAspectRatio=\"none\" style=\"width:12px;height:12px;\" version=\"1.1\" viewBox=\"0 0 12 12\" width=\"12px\" zoomAndPan=\"magnify\"><defs/><g><!--MD5=[06afc254b03ac5e9d9fb7773b07d0800]\n",
       "@startuml\r\n",
       "skinparam ranksep 8\r\n",
       "top to bottom direction\r\n",
       "skinparam monochrome true\r\n",
       "skinparam classbackgroundcolor white\r\n",
       "skinparam shadowing false\r\n",
       "skinparam wrapWidth 300\r\n",
       "hide circle\r\n",
       "\r\n",
       "@enduml\r\n",
       "\n",
       "PlantUML version 1.2020.13(Sat Jun 13 12:26:38 UTC 2020)\n",
       "(EPL source distribution)\n",
       "Java Runtime: OpenJDK Runtime Environment\n",
       "JVM: OpenJDK 64-Bit Server VM\n",
       "Default Encoding: UTF-8\n",
       "Language: en\n",
       "Country: null\n",
       "--></g></svg>"
      ]
     },
     "execution_count": 48,
     "metadata": {},
     "output_type": "execute_result"
    }
   ],
   "source": [
    "%viz --style=\"TB\" --view=\"Action\" \"ImportTest\""
   ]
  },
  {
   "cell_type": "code",
   "execution_count": 49,
   "id": "880858c0",
   "metadata": {
    "execution": {
     "iopub.execute_input": "2022-02-18T10:47:01.140391Z",
     "iopub.status.busy": "2022-02-18T10:47:01.139987Z",
     "iopub.status.idle": "2022-02-18T10:47:01.144893Z",
     "shell.execute_reply": "2022-02-18T10:47:01.145201Z"
    }
   },
   "outputs": [
    {
     "data": {
      "image/svg+xml": [
       "<?xml version=\"1.0\" encoding=\"UTF-8\" standalone=\"no\"?><svg xmlns=\"http://www.w3.org/2000/svg\" xmlns:xlink=\"http://www.w3.org/1999/xlink\" contentScriptType=\"application/ecmascript\" contentStyleType=\"text/css\" height=\"12px\" preserveAspectRatio=\"none\" style=\"width:12px;height:12px;\" version=\"1.1\" viewBox=\"0 0 12 12\" width=\"12px\" zoomAndPan=\"magnify\"><defs/><g><!--MD5=[e1ab0c84c44d2fef8bf5f140f2689906]\n",
       "@startuml\r\n",
       "skinparam roundcorner 20\r\n",
       "skinparam BoxPadding 20\r\n",
       "skinparam SequenceBoxBackgroundColor #white\r\n",
       "skinparam style strictuml\r\n",
       "skinparam maxMessageSize 100\r\n",
       "top to bottom direction\r\n",
       "skinparam monochrome true\r\n",
       "skinparam classbackgroundcolor white\r\n",
       "skinparam shadowing false\r\n",
       "skinparam wrapWidth 300\r\n",
       "hide circle\r\n",
       "\r\n",
       "@enduml\r\n",
       "\n",
       "PlantUML version 1.2020.13(Sat Jun 13 12:26:38 UTC 2020)\n",
       "(EPL source distribution)\n",
       "Java Runtime: OpenJDK Runtime Environment\n",
       "JVM: OpenJDK 64-Bit Server VM\n",
       "Default Encoding: UTF-8\n",
       "Language: en\n",
       "Country: null\n",
       "--></g></svg>"
      ]
     },
     "execution_count": 49,
     "metadata": {},
     "output_type": "execute_result"
    }
   ],
   "source": [
    "%viz --style=\"TB\" --view=\"Sequence\" \"ImportTest\""
   ]
  },
  {
   "cell_type": "code",
   "execution_count": 50,
   "id": "e48acaef",
   "metadata": {
    "execution": {
     "iopub.execute_input": "2022-02-18T10:47:01.195440Z",
     "iopub.status.busy": "2022-02-18T10:47:01.195047Z",
     "iopub.status.idle": "2022-02-18T10:47:01.228851Z",
     "shell.execute_reply": "2022-02-18T10:47:01.228474Z"
    }
   },
   "outputs": [
    {
     "data": {
      "image/svg+xml": [
       "<?xml version=\"1.0\" encoding=\"UTF-8\" standalone=\"no\"?><svg xmlns=\"http://www.w3.org/2000/svg\" xmlns:xlink=\"http://www.w3.org/1999/xlink\" contentScriptType=\"application/ecmascript\" contentStyleType=\"text/css\" height=\"590px\" preserveAspectRatio=\"none\" style=\"width:522px;height:590px;\" version=\"1.1\" viewBox=\"0 0 522 590\" width=\"522px\" zoomAndPan=\"magnify\"><defs/><g><!--MD5=[fbc87193dbaf4d95561dea2c320d4a47]\n",
       "cluster E1--><a href=\"psysml:4ef55e29-a78c-4120-8a0e-706d60f3b916\" target=\"_top\" title=\"psysml:4ef55e29-a78c-4120-8a0e-706d60f3b916\" xlink:actuate=\"onRequest\" xlink:href=\"psysml:4ef55e29-a78c-4120-8a0e-706d60f3b916\" xlink:show=\"new\" xlink:title=\"psysml:4ef55e29-a78c-4120-8a0e-706d60f3b916\" xlink:type=\"simple\"><polygon fill=\"#FFFFFF\" points=\"16,6,97,6,104,28.2969,500,28.2969,500,578,16,578,16,6\" style=\"stroke: #000000; stroke-width: 1.5;\"/><line style=\"stroke: #000000; stroke-width: 1.5;\" x1=\"16\" x2=\"104\" y1=\"28.2969\" y2=\"28.2969\"/><text fill=\"#000000\" font-family=\"sans-serif\" font-size=\"14\" font-weight=\"bold\" lengthAdjust=\"spacingAndGlyphs\" textLength=\"75\" x=\"20\" y=\"20.9951\">ImportTest</text></a><!--MD5=[e4f7fae6ed58524ba242bb0b0d3be6b7]\n",
       "cluster E2--><a href=\"psysml:fc5e85ef-31d8-4451-b981-c90381fde50e\" target=\"_top\" title=\"psysml:fc5e85ef-31d8-4451-b981-c90381fde50e\" xlink:actuate=\"onRequest\" xlink:href=\"psysml:fc5e85ef-31d8-4451-b981-c90381fde50e\" xlink:show=\"new\" xlink:title=\"psysml:fc5e85ef-31d8-4451-b981-c90381fde50e\" xlink:type=\"simple\"><polygon fill=\"#FFFFFF\" points=\"222,57,263,57,270,79.2969,468,79.2969,468,170,222,170,222,57\" style=\"stroke: #000000; stroke-width: 1.5;\"/><line style=\"stroke: #000000; stroke-width: 1.5;\" x1=\"222\" x2=\"270\" y1=\"79.2969\" y2=\"79.2969\"/><text fill=\"#000000\" font-family=\"sans-serif\" font-size=\"14\" font-weight=\"bold\" lengthAdjust=\"spacingAndGlyphs\" textLength=\"35\" x=\"226\" y=\"71.9951\">Pkg1</text></a><!--MD5=[de5ec2e2e8f62f467e546659f5068c88]\n",
       "cluster E5--><a href=\"psysml:c270e78f-1935-46bf-a024-66cb4836716b\" target=\"_top\" title=\"psysml:c270e78f-1935-46bf-a024-66cb4836716b\" xlink:actuate=\"onRequest\" xlink:href=\"psysml:c270e78f-1935-46bf-a024-66cb4836716b\" xlink:show=\"new\" xlink:title=\"psysml:c270e78f-1935-46bf-a024-66cb4836716b\" xlink:type=\"simple\"><polygon fill=\"#FFFFFF\" points=\"121,235,162,235,169,257.2969,434,257.2969,434,546,121,546,121,235\" style=\"stroke: #000000; stroke-width: 1.5;\"/><line style=\"stroke: #000000; stroke-width: 1.5;\" x1=\"121\" x2=\"169\" y1=\"257.2969\" y2=\"257.2969\"/><text fill=\"#000000\" font-family=\"sans-serif\" font-size=\"14\" font-weight=\"bold\" lengthAdjust=\"spacingAndGlyphs\" textLength=\"35\" x=\"125\" y=\"249.9951\">Pkg2</text></a><!--MD5=[14e3b0961a2654348d326746436168a1]\n",
       "cluster E6--><a href=\"psysml:ed944fef-70b9-4524-9917-716ca36e9ac1\" target=\"_top\" title=\"psysml:ed944fef-70b9-4524-9917-716ca36e9ac1\" xlink:actuate=\"onRequest\" xlink:href=\"psysml:ed944fef-70b9-4524-9917-716ca36e9ac1\" xlink:show=\"new\" xlink:title=\"psysml:ed944fef-70b9-4524-9917-716ca36e9ac1\" xlink:type=\"simple\"><polygon fill=\"#FFFFFF\" points=\"161,294,211,294,218,316.2969,386,316.2969,386,506,161,506,161,294\" style=\"stroke: #000000; stroke-width: 1.5;\"/><line style=\"stroke: #000000; stroke-width: 1.5;\" x1=\"161\" x2=\"218\" y1=\"316.2969\" y2=\"316.2969\"/><text fill=\"#000000\" font-family=\"sans-serif\" font-size=\"14\" font-weight=\"bold\" lengthAdjust=\"spacingAndGlyphs\" textLength=\"44\" x=\"165\" y=\"308.9951\">Pkg21</text></a><!--MD5=[168fadf3d0c3fd93dd5d6da1b1d7ab76]\n",
       "cluster E7--><a href=\"psysml:9f58dbb8-6a8c-4281-a4ad-0fbab28478f4\" target=\"_top\" title=\"psysml:9f58dbb8-6a8c-4281-a4ad-0fbab28478f4\" xlink:actuate=\"onRequest\" xlink:href=\"psysml:9f58dbb8-6a8c-4281-a4ad-0fbab28478f4\" xlink:show=\"new\" xlink:title=\"psysml:9f58dbb8-6a8c-4281-a4ad-0fbab28478f4\" xlink:type=\"simple\"><polygon fill=\"#FFFFFF\" points=\"209,353,268,353,275,375.2969,346,375.2969,346,466,209,466,209,353\" style=\"stroke: #000000; stroke-width: 1.5;\"/><line style=\"stroke: #000000; stroke-width: 1.5;\" x1=\"209\" x2=\"275\" y1=\"375.2969\" y2=\"375.2969\"/><text fill=\"#000000\" font-family=\"sans-serif\" font-size=\"14\" font-weight=\"bold\" lengthAdjust=\"spacingAndGlyphs\" textLength=\"53\" x=\"213\" y=\"367.9951\">Pkg211</text></a><!--MD5=[09b614a08d8cba4a07c9adeb5e0fee81]\n",
       "class E3--><a href=\"psysml:fe6123c1-7336-461e-a67a-648132fed175\" target=\"_top\" title=\"psysml:fe6123c1-7336-461e-a67a-648132fed175\" xlink:actuate=\"onRequest\" xlink:href=\"psysml:fe6123c1-7336-461e-a67a-648132fed175\" xlink:show=\"new\" xlink:title=\"psysml:fe6123c1-7336-461e-a67a-648132fed175\" xlink:type=\"simple\"><rect fill=\"#FFFFFF\" height=\"45.9375\" id=\"E3\" rx=\"10\" ry=\"10\" style=\"stroke: #383838; stroke-width: 1.5;\" width=\"74\" x=\"265\" y=\"100\"/><text fill=\"#000000\" font-family=\"sans-serif\" font-size=\"12\" font-style=\"italic\" lengthAdjust=\"spacingAndGlyphs\" textLength=\"40\" x=\"282\" y=\"116.1387\">«part»</text><text fill=\"#000000\" font-family=\"sans-serif\" font-size=\"12\" lengthAdjust=\"spacingAndGlyphs\" textLength=\"64\" x=\"268\" y=\"130.1074\">p11: P211</text><line style=\"stroke: #383838; stroke-width: 1.5;\" x1=\"266\" x2=\"338\" y1=\"137.9375\" y2=\"137.9375\"/></a><!--MD5=[ebbe1d658d1005bcc118a6aa81145e00]\n",
       "class E4--><a href=\"psysml:1380541e-fc30-40f5-9a60-edda9aa0065e\" target=\"_top\" title=\"psysml:1380541e-fc30-40f5-9a60-edda9aa0065e\" xlink:actuate=\"onRequest\" xlink:href=\"psysml:1380541e-fc30-40f5-9a60-edda9aa0065e\" xlink:show=\"new\" xlink:title=\"psysml:1380541e-fc30-40f5-9a60-edda9aa0065e\" xlink:type=\"simple\"><rect fill=\"#FFFFFF\" height=\"45.9375\" id=\"E4\" style=\"stroke: #383838; stroke-width: 1.5;\" width=\"70\" x=\"374\" y=\"100\"/><text fill=\"#000000\" font-family=\"sans-serif\" font-size=\"12\" font-style=\"italic\" lengthAdjust=\"spacingAndGlyphs\" textLength=\"68\" x=\"375\" y=\"116.1387\">«part  def»</text><text fill=\"#000000\" font-family=\"sans-serif\" font-size=\"12\" lengthAdjust=\"spacingAndGlyphs\" textLength=\"24\" x=\"397\" y=\"130.1074\">P12</text><line style=\"stroke: #383838; stroke-width: 1.5;\" x1=\"375\" x2=\"443\" y1=\"137.9375\" y2=\"137.9375\"/></a><!--MD5=[b9389687b975829384b498ac4b7476b2]\n",
       "class E8--><a href=\"psysml:4acbdff1-c8fe-48cb-afd1-a68daa112cad\" target=\"_top\" title=\"psysml:4acbdff1-c8fe-48cb-afd1-a68daa112cad\" xlink:actuate=\"onRequest\" xlink:href=\"psysml:4acbdff1-c8fe-48cb-afd1-a68daa112cad\" xlink:show=\"new\" xlink:title=\"psysml:4acbdff1-c8fe-48cb-afd1-a68daa112cad\" xlink:type=\"simple\"><rect fill=\"#FFFFFF\" height=\"45.9375\" id=\"E8\" style=\"stroke: #383838; stroke-width: 1.5;\" width=\"70\" x=\"252\" y=\"396\"/><text fill=\"#000000\" font-family=\"sans-serif\" font-size=\"12\" font-style=\"italic\" lengthAdjust=\"spacingAndGlyphs\" textLength=\"68\" x=\"253\" y=\"412.1387\">«part  def»</text><text fill=\"#000000\" font-family=\"sans-serif\" font-size=\"12\" lengthAdjust=\"spacingAndGlyphs\" textLength=\"32\" x=\"271\" y=\"426.1074\">P211</text><line style=\"stroke: #383838; stroke-width: 1.5;\" x1=\"253\" x2=\"321\" y1=\"433.9375\" y2=\"433.9375\"/></a><!--MD5=[b0060bfdb0500b904584095522b4da3c]\n",
       "link E2 to E8--><a href=\"psysml:4f20d9a0-229b-41ce-a3f9-ec650db8275f\" target=\"_top\" title=\"psysml:4f20d9a0-229b-41ce-a3f9-ec650db8275f\" xlink:actuate=\"onRequest\" xlink:href=\"psysml:4f20d9a0-229b-41ce-a3f9-ec650db8275f\" xlink:show=\"new\" xlink:title=\"psysml:4f20d9a0-229b-41ce-a3f9-ec650db8275f\" xlink:type=\"simple\"><path d=\"M239.5673,170.044 C239.9187,170.8643 240.2829,171.6796 240.6605,172.4884 C241.4156,174.106 242.2242,175.6975 243.0899,177.2503 C244.8213,180.3558 246.7813,183.3063 249,186 C253.8,191.83 259.79,187.73 264,194 C304.62,254.46 298.3,345.57 291.84,390.69 \" fill=\"none\" id=\"E2-&gt;E8\" style=\"stroke: #383838; stroke-width: 1.0; stroke-dasharray: 7.0,7.0;\"/><polygon fill=\"#383838\" points=\"291.1,395.69,296.3662,387.3673,291.8271,390.7431,288.4512,386.204,291.1,395.69\" style=\"stroke: #383838; stroke-width: 1.0;\"/><text fill=\"#000000\" font-family=\"sans-serif\" font-size=\"13\" lengthAdjust=\"spacingAndGlyphs\" textLength=\"58\" x=\"274\" y=\"207.0669\">«import»</text></a><!--MD5=[e3e28c1befcf002155aa15e1416b4315]\n",
       "link E2 to E6--><a href=\"psysml:682e8ea7-bcd5-404d-bf47-54c119ed8bb7\" target=\"_top\" title=\"psysml:682e8ea7-bcd5-404d-bf47-54c119ed8bb7\" xlink:actuate=\"onRequest\" xlink:href=\"psysml:682e8ea7-bcd5-404d-bf47-54c119ed8bb7\" xlink:show=\"new\" xlink:title=\"psysml:682e8ea7-bcd5-404d-bf47-54c119ed8bb7\" xlink:type=\"simple\"><path d=\"M221.7454,125.2359 C221.6297,125.2555 221.5129,125.2754 221.395,125.2955 C221.1593,125.3358 220.9193,125.3771 220.6752,125.4195 C220.1869,125.5042 219.6819,125.5933 219.1609,125.6868 C217.0769,126.0607 214.7359,126.5053 212.1769,127.0288 C201.9406,129.1225 188.215,132.4775 173.4875,137.615 C144.0325,147.89 110.57,165.295 93,194 C65.99,238.135 83.98,293.0875 109.2162,337.5175 C121.8344,359.7325 136.2641,379.3169 147.7861,393.6031 C150.6666,397.1747 153.3654,400.4151 155.8087,403.2827 C157.0304,404.7165 158.1881,406.0571 159.2728,407.2993 C159.8152,407.9204 160.3393,408.5169 160.8439,409.0882 \" fill=\"none\" id=\"E2-&gt;E6\" style=\"stroke: #383838; stroke-width: 1.0; stroke-dasharray: 7.0,7.0;\"/><polygon fill=\"#383838\" points=\"160.8439,409.0882,157.8829,399.695,157.5335,405.341,151.8875,404.9916,160.8439,409.0882\" style=\"stroke: #383838; stroke-width: 1.0;\"/><text fill=\"#000000\" font-family=\"sans-serif\" font-size=\"13\" lengthAdjust=\"spacingAndGlyphs\" textLength=\"65\" x=\"94\" y=\"207.0669\">«import»*</text></a><!--MD5=[e3d2a08a9c9236652057e8ed0cbc9b62]\n",
       "link E2 to E7--><a href=\"psysml:60c32f43-2902-493b-8362-f480edbb78ed\" target=\"_top\" title=\"psysml:60c32f43-2902-493b-8362-f480edbb78ed\" xlink:actuate=\"onRequest\" xlink:href=\"psysml:60c32f43-2902-493b-8362-f480edbb78ed\" xlink:show=\"new\" xlink:title=\"psysml:60c32f43-2902-493b-8362-f480edbb78ed\" xlink:type=\"simple\"><path d=\"M221.8807,130.2617 C221.7401,130.3761 221.5982,130.4918 221.4548,130.6091 C216.8678,134.36 210.8594,139.5688 204.5113,145.875 C191.815,158.4875 177.76,175.49 171,194 C168.41,201.1 166.18,205.18 171,211 C183.11,225.64 200.74,204.48 213,219 C227.045,235.63 228.2325,284.0975 225.8175,329.0338 C225.5156,334.6508 225.1575,340.2126 224.7611,345.6502 C224.662,347.0096 224.5605,348.3613 224.4569,349.7041 C224.4051,350.3755 224.3528,351.0446 224.3,351.7115 C224.2736,352.0449 224.2471,352.3777 224.2204,352.71 \" fill=\"none\" id=\"E2-&gt;E7\" style=\"stroke: #383838; stroke-width: 1.0; stroke-dasharray: 7.0,7.0;\"/><polygon fill=\"#383838\" points=\"224.2204,352.71,228.9272,344.0586,224.6202,347.726,220.9528,343.419,224.2204,352.71\" style=\"stroke: #383838; stroke-width: 1.0;\"/><text fill=\"#000000\" font-family=\"sans-serif\" font-size=\"13\" lengthAdjust=\"spacingAndGlyphs\" textLength=\"87\" x=\"172\" y=\"207.0669\">«import»*::**</text></a><!--MD5=[ca5a752d6098d8a44b3f88316e7452d1]\n",
       "link E3 to E8--><a href=\"psysml:37accf74-aaef-4298-a8d1-458e277c829e\" target=\"_top\" title=\"psysml:37accf74-aaef-4298-a8d1-458e277c829e\" xlink:actuate=\"onRequest\" xlink:href=\"psysml:37accf74-aaef-4298-a8d1-458e277c829e\" xlink:show=\"new\" xlink:title=\"psysml:37accf74-aaef-4298-a8d1-458e277c829e\" xlink:type=\"simple\"><path d=\"M321.59,146.07 C339.73,166.51 363.93,193.81 364,194 C366.68,201.06 368.76,205.13 364,211 C353.13,224.4 338.12,206.71 326,219 C285.31,260.27 280.82,330.75 282.81,375.81 \" fill=\"none\" id=\"E3-&gt;E8\" style=\"stroke: #383838; stroke-width: 1.0;\"/><polygon fill=\"#FFFFFF\" points=\"284.19,395.93,275.9039,377.4546,289.8709,376.4948,284.19,395.93\" style=\"stroke: #383838; stroke-width: 1.0;\"/><ellipse cx=\"277.5084\" cy=\"371.6309\" fill=\"#383838\" rx=\"2\" ry=\"2\" style=\"stroke: #383838; stroke-width: 1.0;\"/><ellipse cx=\"287.4849\" cy=\"370.9453\" fill=\"#383838\" rx=\"2\" ry=\"2\" style=\"stroke: #383838; stroke-width: 1.0;\"/></a><!--MD5=[15ebcb19ae302d9b601edb458606d402]\n",
       "link E5 to E2--><a href=\"psysml:a29f5286-6760-4cc8-8866-2ed3ee4f3eda\" target=\"_top\" title=\"psysml:a29f5286-6760-4cc8-8866-2ed3ee4f3eda\" xlink:actuate=\"onRequest\" xlink:href=\"psysml:a29f5286-6760-4cc8-8866-2ed3ee4f3eda\" xlink:show=\"new\" xlink:title=\"psysml:a29f5286-6760-4cc8-8866-2ed3ee4f3eda\" xlink:type=\"simple\"><path d=\"M377.9071,234.5987 C377.6837,234.254 377.4593,233.91 377.2338,233.5668 C376.3317,232.1941 375.413,230.8338 374.4773,229.4868 C372.6059,226.7928 370.6665,224.152 368.6567,221.572 C360.6175,211.2517 351.4513,201.9025 341,194 C324.63,181.62 264.96,198.91 249,186 C246.2863,183.805 243.9511,181.2325 241.9426,178.4061 C240.9384,176.9929 240.0159,175.5163 239.1685,173.9916 C238.7448,173.2292 238.3399,172.4549 237.953,171.6705 C237.7596,171.2782 237.5706,170.8835 237.3861,170.4865 C237.3399,170.3873 237.2941,170.2879 237.2485,170.1883 \" fill=\"none\" id=\"E5-&gt;E2\" style=\"stroke: #383838; stroke-width: 1.0; stroke-dasharray: 7.0,7.0;\"/><polygon fill=\"#383838\" points=\"237.2485,170.1883,237.3599,180.0366,239.3307,174.7341,244.6331,176.705,237.2485,170.1883\" style=\"stroke: #383838; stroke-width: 1.0;\"/><text fill=\"#000000\" font-family=\"sans-serif\" font-size=\"13\" lengthAdjust=\"spacingAndGlyphs\" textLength=\"65\" x=\"356\" y=\"207.0669\">«import»*</text></a><!--MD5=[d7bb3fb34add81b710575eb3799fa2ad]\n",
       "link E8 to E4--><a href=\"psysml:d1a96eaf-259a-4888-9f98-ae46b38eb818\" target=\"_top\" title=\"psysml:d1a96eaf-259a-4888-9f98-ae46b38eb818\" xlink:actuate=\"onRequest\" xlink:href=\"psysml:d1a96eaf-259a-4888-9f98-ae46b38eb818\" xlink:show=\"new\" xlink:title=\"psysml:d1a96eaf-259a-4888-9f98-ae46b38eb818\" xlink:type=\"simple\"><path d=\"M283.6,395.87 C278.58,354.03 274.69,263.54 326,219 C338.77,207.91 466.36,223.27 478,211 C493.94,194.2 479.72,174.01 460.15,157.31 \" fill=\"none\" id=\"E8-&gt;E4\" style=\"stroke: #383838; stroke-width: 1.0;\"/><polygon fill=\"none\" points=\"455.78,162.78,444.15,145.06,464.29,151.66,455.78,162.78\" style=\"stroke: #383838; stroke-width: 1.0;\"/></a><!--MD5=[64ba3a5ea5b7d1aabf76063e7f11c514]\n",
       "@startuml\r\n",
       "top to bottom direction\r\n",
       "skinparam monochrome true\r\n",
       "skinparam classbackgroundcolor white\r\n",
       "skinparam shadowing false\r\n",
       "skinparam wrapWidth 300\r\n",
       "hide circle\r\n",
       "\r\n",
       "package \"ImportTest\" as E1  [[psysml:4ef55e29-a78c-4120-8a0e-706d60f3b916 ]]  {\r\n",
       "package \"Pkg1\" as E2  [[psysml:fc5e85ef-31d8-4451-b981-c90381fde50e ]]  {\r\n",
       "comp usage \"p11: P211 \" as E3  <<(T,blue) part>> [[psysml:fe6123c1-7336-461e-a67a-648132fed175 ]] {\r\n",
       "}\r\n",
       "comp def \"P12\" as E4  <<(T,blue) part  def>> [[psysml:1380541e-fc30-40f5-9a60-edda9aa0065e ]] {\r\n",
       "}\r\n",
       "}\r\n",
       "package \"Pkg2\" as E5  [[psysml:c270e78f-1935-46bf-a024-66cb4836716b ]]  {\r\n",
       "package \"Pkg21\" as E6  [[psysml:ed944fef-70b9-4524-9917-716ca36e9ac1 ]]  {\r\n",
       "package \"Pkg211\" as E7  [[psysml:9f58dbb8-6a8c-4281-a4ad-0fbab28478f4 ]]  {\r\n",
       "comp def \"P211\" as E8  <<(T,blue) part  def>> [[psysml:4acbdff1-c8fe-48cb-afd1-a68daa112cad ]] {\r\n",
       "}\r\n",
       "}\r\n",
       "}\r\n",
       "}\r\n",
       "}\r\n",
       "E2 ..> E8 [[psysml:4f20d9a0-229b-41ce-a3f9-ec650db8275f ]] : <<import>>\r\n",
       "E2 ..> E6 [[psysml:682e8ea7-bcd5-404d-bf47-54c119ed8bb7 ]] : <<import>>*\r\n",
       "E2 ..> E7 [[psysml:60c32f43-2902-493b-8362-f480edbb78ed ]] : <<import>>*::**\r\n",
       "E3 - -:|> E8 [[psysml:37accf74-aaef-4298-a8d1-458e277c829e ]] \r\n",
       "E5 ..> E2 [[psysml:a29f5286-6760-4cc8-8866-2ed3ee4f3eda ]] : <<import>>*\r\n",
       "E8 - -|> E4 [[psysml:d1a96eaf-259a-4888-9f98-ae46b38eb818 ]] \r\n",
       "@enduml\r\n",
       "\n",
       "PlantUML version 1.2020.13(Sat Jun 13 12:26:38 UTC 2020)\n",
       "(EPL source distribution)\n",
       "Java Runtime: OpenJDK Runtime Environment\n",
       "JVM: OpenJDK 64-Bit Server VM\n",
       "Default Encoding: UTF-8\n",
       "Language: en\n",
       "Country: null\n",
       "--></g></svg>"
      ]
     },
     "execution_count": 50,
     "metadata": {},
     "output_type": "execute_result"
    }
   ],
   "source": [
    "%viz --style=\"TB\" --view=\"MIXED\" \"ImportTest\""
   ]
  },
  {
   "cell_type": "code",
   "execution_count": 51,
   "id": "260f9eb3",
   "metadata": {
    "execution": {
     "iopub.execute_input": "2022-02-18T10:47:01.278443Z",
     "iopub.status.busy": "2022-02-18T10:47:01.278018Z",
     "iopub.status.idle": "2022-02-18T10:47:01.313407Z",
     "shell.execute_reply": "2022-02-18T10:47:01.312877Z"
    }
   },
   "outputs": [
    {
     "data": {
      "image/svg+xml": [
       "<?xml version=\"1.0\" encoding=\"UTF-8\" standalone=\"no\"?><svg xmlns=\"http://www.w3.org/2000/svg\" xmlns:xlink=\"http://www.w3.org/1999/xlink\" contentScriptType=\"application/ecmascript\" contentStyleType=\"text/css\" height=\"590px\" preserveAspectRatio=\"none\" style=\"width:522px;height:590px;\" version=\"1.1\" viewBox=\"0 0 522 590\" width=\"522px\" zoomAndPan=\"magnify\"><defs/><g><!--MD5=[fbc87193dbaf4d95561dea2c320d4a47]\n",
       "cluster E1--><a href=\"psysml:4ef55e29-a78c-4120-8a0e-706d60f3b916\" target=\"_top\" title=\"psysml:4ef55e29-a78c-4120-8a0e-706d60f3b916\" xlink:actuate=\"onRequest\" xlink:href=\"psysml:4ef55e29-a78c-4120-8a0e-706d60f3b916\" xlink:show=\"new\" xlink:title=\"psysml:4ef55e29-a78c-4120-8a0e-706d60f3b916\" xlink:type=\"simple\"><polygon fill=\"#FFFFFF\" points=\"16,6,97,6,104,28.2969,500,28.2969,500,578,16,578,16,6\" style=\"stroke: #000000; stroke-width: 1.5;\"/><line style=\"stroke: #000000; stroke-width: 1.5;\" x1=\"16\" x2=\"104\" y1=\"28.2969\" y2=\"28.2969\"/><text fill=\"#000000\" font-family=\"sans-serif\" font-size=\"14\" font-weight=\"bold\" lengthAdjust=\"spacingAndGlyphs\" textLength=\"75\" x=\"20\" y=\"20.9951\">ImportTest</text></a><!--MD5=[e4f7fae6ed58524ba242bb0b0d3be6b7]\n",
       "cluster E2--><a href=\"psysml:fc5e85ef-31d8-4451-b981-c90381fde50e\" target=\"_top\" title=\"psysml:fc5e85ef-31d8-4451-b981-c90381fde50e\" xlink:actuate=\"onRequest\" xlink:href=\"psysml:fc5e85ef-31d8-4451-b981-c90381fde50e\" xlink:show=\"new\" xlink:title=\"psysml:fc5e85ef-31d8-4451-b981-c90381fde50e\" xlink:type=\"simple\"><polygon fill=\"#FFFFFF\" points=\"222,57,263,57,270,79.2969,468,79.2969,468,170,222,170,222,57\" style=\"stroke: #000000; stroke-width: 1.5;\"/><line style=\"stroke: #000000; stroke-width: 1.5;\" x1=\"222\" x2=\"270\" y1=\"79.2969\" y2=\"79.2969\"/><text fill=\"#000000\" font-family=\"sans-serif\" font-size=\"14\" font-weight=\"bold\" lengthAdjust=\"spacingAndGlyphs\" textLength=\"35\" x=\"226\" y=\"71.9951\">Pkg1</text></a><!--MD5=[de5ec2e2e8f62f467e546659f5068c88]\n",
       "cluster E5--><a href=\"psysml:c270e78f-1935-46bf-a024-66cb4836716b\" target=\"_top\" title=\"psysml:c270e78f-1935-46bf-a024-66cb4836716b\" xlink:actuate=\"onRequest\" xlink:href=\"psysml:c270e78f-1935-46bf-a024-66cb4836716b\" xlink:show=\"new\" xlink:title=\"psysml:c270e78f-1935-46bf-a024-66cb4836716b\" xlink:type=\"simple\"><polygon fill=\"#FFFFFF\" points=\"121,235,162,235,169,257.2969,434,257.2969,434,546,121,546,121,235\" style=\"stroke: #000000; stroke-width: 1.5;\"/><line style=\"stroke: #000000; stroke-width: 1.5;\" x1=\"121\" x2=\"169\" y1=\"257.2969\" y2=\"257.2969\"/><text fill=\"#000000\" font-family=\"sans-serif\" font-size=\"14\" font-weight=\"bold\" lengthAdjust=\"spacingAndGlyphs\" textLength=\"35\" x=\"125\" y=\"249.9951\">Pkg2</text></a><!--MD5=[14e3b0961a2654348d326746436168a1]\n",
       "cluster E6--><a href=\"psysml:ed944fef-70b9-4524-9917-716ca36e9ac1\" target=\"_top\" title=\"psysml:ed944fef-70b9-4524-9917-716ca36e9ac1\" xlink:actuate=\"onRequest\" xlink:href=\"psysml:ed944fef-70b9-4524-9917-716ca36e9ac1\" xlink:show=\"new\" xlink:title=\"psysml:ed944fef-70b9-4524-9917-716ca36e9ac1\" xlink:type=\"simple\"><polygon fill=\"#FFFFFF\" points=\"161,294,211,294,218,316.2969,386,316.2969,386,506,161,506,161,294\" style=\"stroke: #000000; stroke-width: 1.5;\"/><line style=\"stroke: #000000; stroke-width: 1.5;\" x1=\"161\" x2=\"218\" y1=\"316.2969\" y2=\"316.2969\"/><text fill=\"#000000\" font-family=\"sans-serif\" font-size=\"14\" font-weight=\"bold\" lengthAdjust=\"spacingAndGlyphs\" textLength=\"44\" x=\"165\" y=\"308.9951\">Pkg21</text></a><!--MD5=[168fadf3d0c3fd93dd5d6da1b1d7ab76]\n",
       "cluster E7--><a href=\"psysml:9f58dbb8-6a8c-4281-a4ad-0fbab28478f4\" target=\"_top\" title=\"psysml:9f58dbb8-6a8c-4281-a4ad-0fbab28478f4\" xlink:actuate=\"onRequest\" xlink:href=\"psysml:9f58dbb8-6a8c-4281-a4ad-0fbab28478f4\" xlink:show=\"new\" xlink:title=\"psysml:9f58dbb8-6a8c-4281-a4ad-0fbab28478f4\" xlink:type=\"simple\"><polygon fill=\"#FFFFFF\" points=\"209,353,268,353,275,375.2969,346,375.2969,346,466,209,466,209,353\" style=\"stroke: #000000; stroke-width: 1.5;\"/><line style=\"stroke: #000000; stroke-width: 1.5;\" x1=\"209\" x2=\"275\" y1=\"375.2969\" y2=\"375.2969\"/><text fill=\"#000000\" font-family=\"sans-serif\" font-size=\"14\" font-weight=\"bold\" lengthAdjust=\"spacingAndGlyphs\" textLength=\"53\" x=\"213\" y=\"367.9951\">Pkg211</text></a><!--MD5=[09b614a08d8cba4a07c9adeb5e0fee81]\n",
       "class E3--><a href=\"psysml:fe6123c1-7336-461e-a67a-648132fed175\" target=\"_top\" title=\"psysml:fe6123c1-7336-461e-a67a-648132fed175\" xlink:actuate=\"onRequest\" xlink:href=\"psysml:fe6123c1-7336-461e-a67a-648132fed175\" xlink:show=\"new\" xlink:title=\"psysml:fe6123c1-7336-461e-a67a-648132fed175\" xlink:type=\"simple\"><rect fill=\"#FFFFFF\" height=\"45.9375\" id=\"E3\" rx=\"10\" ry=\"10\" style=\"stroke: #383838; stroke-width: 1.5;\" width=\"74\" x=\"265\" y=\"100\"/><text fill=\"#000000\" font-family=\"sans-serif\" font-size=\"12\" font-style=\"italic\" lengthAdjust=\"spacingAndGlyphs\" textLength=\"40\" x=\"282\" y=\"116.1387\">«part»</text><text fill=\"#000000\" font-family=\"sans-serif\" font-size=\"12\" lengthAdjust=\"spacingAndGlyphs\" textLength=\"64\" x=\"268\" y=\"130.1074\">p11: P211</text><line style=\"stroke: #383838; stroke-width: 1.5;\" x1=\"266\" x2=\"338\" y1=\"137.9375\" y2=\"137.9375\"/></a><!--MD5=[ebbe1d658d1005bcc118a6aa81145e00]\n",
       "class E4--><a href=\"psysml:1380541e-fc30-40f5-9a60-edda9aa0065e\" target=\"_top\" title=\"psysml:1380541e-fc30-40f5-9a60-edda9aa0065e\" xlink:actuate=\"onRequest\" xlink:href=\"psysml:1380541e-fc30-40f5-9a60-edda9aa0065e\" xlink:show=\"new\" xlink:title=\"psysml:1380541e-fc30-40f5-9a60-edda9aa0065e\" xlink:type=\"simple\"><rect fill=\"#FFFFFF\" height=\"45.9375\" id=\"E4\" style=\"stroke: #383838; stroke-width: 1.5;\" width=\"70\" x=\"374\" y=\"100\"/><text fill=\"#000000\" font-family=\"sans-serif\" font-size=\"12\" font-style=\"italic\" lengthAdjust=\"spacingAndGlyphs\" textLength=\"68\" x=\"375\" y=\"116.1387\">«part  def»</text><text fill=\"#000000\" font-family=\"sans-serif\" font-size=\"12\" lengthAdjust=\"spacingAndGlyphs\" textLength=\"24\" x=\"397\" y=\"130.1074\">P12</text><line style=\"stroke: #383838; stroke-width: 1.5;\" x1=\"375\" x2=\"443\" y1=\"137.9375\" y2=\"137.9375\"/></a><!--MD5=[b9389687b975829384b498ac4b7476b2]\n",
       "class E8--><a href=\"psysml:4acbdff1-c8fe-48cb-afd1-a68daa112cad\" target=\"_top\" title=\"psysml:4acbdff1-c8fe-48cb-afd1-a68daa112cad\" xlink:actuate=\"onRequest\" xlink:href=\"psysml:4acbdff1-c8fe-48cb-afd1-a68daa112cad\" xlink:show=\"new\" xlink:title=\"psysml:4acbdff1-c8fe-48cb-afd1-a68daa112cad\" xlink:type=\"simple\"><rect fill=\"#FFFFFF\" height=\"45.9375\" id=\"E8\" style=\"stroke: #383838; stroke-width: 1.5;\" width=\"70\" x=\"252\" y=\"396\"/><text fill=\"#000000\" font-family=\"sans-serif\" font-size=\"12\" font-style=\"italic\" lengthAdjust=\"spacingAndGlyphs\" textLength=\"68\" x=\"253\" y=\"412.1387\">«part  def»</text><text fill=\"#000000\" font-family=\"sans-serif\" font-size=\"12\" lengthAdjust=\"spacingAndGlyphs\" textLength=\"32\" x=\"271\" y=\"426.1074\">P211</text><line style=\"stroke: #383838; stroke-width: 1.5;\" x1=\"253\" x2=\"321\" y1=\"433.9375\" y2=\"433.9375\"/></a><!--MD5=[b0060bfdb0500b904584095522b4da3c]\n",
       "link E2 to E8--><a href=\"psysml:4f20d9a0-229b-41ce-a3f9-ec650db8275f\" target=\"_top\" title=\"psysml:4f20d9a0-229b-41ce-a3f9-ec650db8275f\" xlink:actuate=\"onRequest\" xlink:href=\"psysml:4f20d9a0-229b-41ce-a3f9-ec650db8275f\" xlink:show=\"new\" xlink:title=\"psysml:4f20d9a0-229b-41ce-a3f9-ec650db8275f\" xlink:type=\"simple\"><path d=\"M258.5,170.8719 C258.5,171.2838 258.5,171.6975 258.5,172.1131 C258.5,172.9444 258.5,173.783 258.5,174.6287 C258.5,178.0118 258.5,181.5093 258.5,185.1049 C258.5,192.2959 258.5,199.8793 258.5,207.7241 C258.5,223.4138 258.5,240.1494 258.5,256.885 C258.5,323.8275 258.5,390.77 258.5,390.77 \" fill=\"none\" id=\"E2-&gt;E8\" style=\"stroke: #383838; stroke-width: 1.0; stroke-dasharray: 7.0,7.0;\"/><polygon fill=\"#383838\" points=\"258.5,395.77,262.5,386.77,258.5,390.77,254.5,386.77,258.5,395.77\" style=\"stroke: #383838; stroke-width: 1.0;\"/><text fill=\"#000000\" font-family=\"sans-serif\" font-size=\"13\" lengthAdjust=\"spacingAndGlyphs\" textLength=\"58\" x=\"304\" y=\"207.0669\">«import»</text></a><!--MD5=[e3e28c1befcf002155aa15e1416b4315]\n",
       "link E2 to E6--><a href=\"psysml:682e8ea7-bcd5-404d-bf47-54c119ed8bb7\" target=\"_top\" title=\"psysml:682e8ea7-bcd5-404d-bf47-54c119ed8bb7\" xlink:actuate=\"onRequest\" xlink:href=\"psysml:682e8ea7-bcd5-404d-bf47-54c119ed8bb7\" xlink:show=\"new\" xlink:title=\"psysml:682e8ea7-bcd5-404d-bf47-54c119ed8bb7\" xlink:type=\"simple\"><path d=\"M221.8499,123 C221.7697,123 221.6889,123 221.6078,123 C221.4454,123 221.2813,123 221.1154,123 C220.7835,123 220.4447,123 220.0992,123 C219.4083,123 218.6908,123 217.9502,123 C212.0247,123 204.6106,123 197.3588,123 C182.855,123 169,123 169,123 C169,123 169,193.5725 169,265.7988 C169,274.827 169,283.8812 169,292.8265 \" fill=\"none\" id=\"E2-&gt;E6\" style=\"stroke: #383838; stroke-width: 1.0; stroke-dasharray: 7.0,7.0;\"/><polygon fill=\"#383838\" points=\"169,292.8265,173,283.8265,169,287.8265,165,283.8265,169,292.8265\" style=\"stroke: #383838; stroke-width: 1.0;\"/><text fill=\"#000000\" font-family=\"sans-serif\" font-size=\"13\" lengthAdjust=\"spacingAndGlyphs\" textLength=\"65\" x=\"68\" y=\"207.0669\">«import»*</text></a><!--MD5=[e3d2a08a9c9236652057e8ed0cbc9b62]\n",
       "link E2 to E7--><a href=\"psysml:60c32f43-2902-493b-8362-f480edbb78ed\" target=\"_top\" title=\"psysml:60c32f43-2902-493b-8362-f480edbb78ed\" xlink:actuate=\"onRequest\" xlink:href=\"psysml:60c32f43-2902-493b-8362-f480edbb78ed\" xlink:show=\"new\" xlink:title=\"psysml:60c32f43-2902-493b-8362-f480edbb78ed\" xlink:type=\"simple\"><path d=\"M230,170.0237 C230,171.7278 230,173.4661 230,175.2364 C230,203.5616 230,240.0881 230,276.2013 C230,294.2578 230,312.211 230,328.984 C230,333.1773 230,337.2967 230,341.3256 C230,343.3401 230,345.3319 230,347.2989 C230,348.2824 230,349.2598 230,350.2307 C230,350.7161 230,351.1999 230,351.6821 C230,351.9232 230,352.1639 230,352.4042 \" fill=\"none\" id=\"E2-&gt;E7\" style=\"stroke: #383838; stroke-width: 1.0; stroke-dasharray: 7.0,7.0;\"/><polygon fill=\"#383838\" points=\"230,352.4042,234,343.4042,230,347.4042,226,343.4042,230,352.4042\" style=\"stroke: #383838; stroke-width: 1.0;\"/><text fill=\"#000000\" font-family=\"sans-serif\" font-size=\"13\" lengthAdjust=\"spacingAndGlyphs\" textLength=\"87\" x=\"175\" y=\"207.0669\">«import»*::**</text></a><!--MD5=[ca5a752d6098d8a44b3f88316e7452d1]\n",
       "link E3 to E8--><a href=\"psysml:37accf74-aaef-4298-a8d1-458e277c829e\" target=\"_top\" title=\"psysml:37accf74-aaef-4298-a8d1-458e277c829e\" xlink:actuate=\"onRequest\" xlink:href=\"psysml:37accf74-aaef-4298-a8d1-458e277c829e\" xlink:show=\"new\" xlink:title=\"psysml:37accf74-aaef-4298-a8d1-458e277c829e\" xlink:type=\"simple\"><path d=\"M293.5,146.23 C293.5,146.23 293.5,375.88 293.5,375.88 \" fill=\"none\" id=\"E3-&gt;E8\" style=\"stroke: #383838; stroke-width: 1.0;\"/><polygon fill=\"#FFFFFF\" points=\"293.5,395.88,286.5,376.88,300.5,376.88,293.5,395.88\" style=\"stroke: #383838; stroke-width: 1.0;\"/><ellipse cx=\"288.5\" cy=\"371.18\" fill=\"#383838\" rx=\"2\" ry=\"2\" style=\"stroke: #383838; stroke-width: 1.0;\"/><ellipse cx=\"298.5\" cy=\"371.18\" fill=\"#383838\" rx=\"2\" ry=\"2\" style=\"stroke: #383838; stroke-width: 1.0;\"/></a><!--MD5=[15ebcb19ae302d9b601edb458606d402]\n",
       "link E5 to E2--><a href=\"psysml:a29f5286-6760-4cc8-8866-2ed3ee4f3eda\" target=\"_top\" title=\"psysml:a29f5286-6760-4cc8-8866-2ed3ee4f3eda\" xlink:actuate=\"onRequest\" xlink:href=\"psysml:a29f5286-6760-4cc8-8866-2ed3ee4f3eda\" xlink:show=\"new\" xlink:title=\"psysml:a29f5286-6760-4cc8-8866-2ed3ee4f3eda\" xlink:type=\"simple\"><path d=\"M356.5,234.7237 C356.5,229.4786 356.5,224.2542 356.5,219.0708 C356.5,208.7041 356.5,198.502 356.5,188.6289 C356.5,183.6924 356.5,178.8381 356.5,174.0867 C356.5,172.8989 356.5,171.7175 356.5,170.5428 C356.5,170.3959 356.5,170.2492 356.5,170.1026 \" fill=\"none\" id=\"E5-&gt;E2\" style=\"stroke: #383838; stroke-width: 1.0; stroke-dasharray: 7.0,7.0;\"/><polygon fill=\"#383838\" points=\"356.5,170.1026,352.5,179.1026,356.5,175.1026,360.5,179.1026,356.5,170.1026\" style=\"stroke: #383838; stroke-width: 1.0;\"/><text fill=\"#000000\" font-family=\"sans-serif\" font-size=\"13\" lengthAdjust=\"spacingAndGlyphs\" textLength=\"65\" x=\"411\" y=\"207.0669\">«import»*</text></a><!--MD5=[d7bb3fb34add81b710575eb3799fa2ad]\n",
       "link E8 to E4--><a href=\"psysml:d1a96eaf-259a-4888-9f98-ae46b38eb818\" target=\"_top\" title=\"psysml:d1a96eaf-259a-4888-9f98-ae46b38eb818\" xlink:actuate=\"onRequest\" xlink:href=\"psysml:d1a96eaf-259a-4888-9f98-ae46b38eb818\" xlink:show=\"new\" xlink:title=\"psysml:d1a96eaf-259a-4888-9f98-ae46b38eb818\" xlink:type=\"simple\"><path d=\"M322.29,407 C355.28,407 399.5,407 399.5,407 C399.5,407 399.5,166.24 399.5,166.24 \" fill=\"none\" id=\"E8-&gt;E4\" style=\"stroke: #383838; stroke-width: 1.0;\"/><polygon fill=\"none\" points=\"392.5,166.24,399.5,146.24,406.5,166.24,392.5,166.24\" style=\"stroke: #383838; stroke-width: 1.0;\"/></a><!--MD5=[f89ccaaf97f3138bcf8f65b4e83e9e9f]\n",
       "@startuml\r\n",
       "skinparam linetype ortho\r\n",
       "skinparam monochrome true\r\n",
       "skinparam classbackgroundcolor white\r\n",
       "skinparam shadowing false\r\n",
       "skinparam wrapWidth 300\r\n",
       "hide circle\r\n",
       "\r\n",
       "package \"ImportTest\" as E1  [[psysml:4ef55e29-a78c-4120-8a0e-706d60f3b916 ]]  {\r\n",
       "package \"Pkg1\" as E2  [[psysml:fc5e85ef-31d8-4451-b981-c90381fde50e ]]  {\r\n",
       "comp usage \"p11: P211 \" as E3  <<(T,blue) part>> [[psysml:fe6123c1-7336-461e-a67a-648132fed175 ]] {\r\n",
       "}\r\n",
       "comp def \"P12\" as E4  <<(T,blue) part  def>> [[psysml:1380541e-fc30-40f5-9a60-edda9aa0065e ]] {\r\n",
       "}\r\n",
       "}\r\n",
       "package \"Pkg2\" as E5  [[psysml:c270e78f-1935-46bf-a024-66cb4836716b ]]  {\r\n",
       "package \"Pkg21\" as E6  [[psysml:ed944fef-70b9-4524-9917-716ca36e9ac1 ]]  {\r\n",
       "package \"Pkg211\" as E7  [[psysml:9f58dbb8-6a8c-4281-a4ad-0fbab28478f4 ]]  {\r\n",
       "comp def \"P211\" as E8  <<(T,blue) part  def>> [[psysml:4acbdff1-c8fe-48cb-afd1-a68daa112cad ]] {\r\n",
       "}\r\n",
       "}\r\n",
       "}\r\n",
       "}\r\n",
       "}\r\n",
       "E2 ..> E8 [[psysml:4f20d9a0-229b-41ce-a3f9-ec650db8275f ]] : <<import>>\r\n",
       "E2 ..> E6 [[psysml:682e8ea7-bcd5-404d-bf47-54c119ed8bb7 ]] : <<import>>*\r\n",
       "E2 ..> E7 [[psysml:60c32f43-2902-493b-8362-f480edbb78ed ]] : <<import>>*::**\r\n",
       "E3 - -:|> E8 [[psysml:37accf74-aaef-4298-a8d1-458e277c829e ]] \r\n",
       "E5 ..> E2 [[psysml:a29f5286-6760-4cc8-8866-2ed3ee4f3eda ]] : <<import>>*\r\n",
       "E8 - -|> E4 [[psysml:d1a96eaf-259a-4888-9f98-ae46b38eb818 ]] \r\n",
       "@enduml\r\n",
       "\n",
       "PlantUML version 1.2020.13(Sat Jun 13 12:26:38 UTC 2020)\n",
       "(EPL source distribution)\n",
       "Java Runtime: OpenJDK Runtime Environment\n",
       "JVM: OpenJDK 64-Bit Server VM\n",
       "Default Encoding: UTF-8\n",
       "Language: en\n",
       "Country: null\n",
       "--></g></svg>"
      ]
     },
     "execution_count": 51,
     "metadata": {},
     "output_type": "execute_result"
    }
   ],
   "source": [
    "%viz --style=\"ORTHOLINE\" --view=\"Default\" \"ImportTest\""
   ]
  },
  {
   "cell_type": "code",
   "execution_count": 52,
   "id": "15cfac05",
   "metadata": {
    "execution": {
     "iopub.execute_input": "2022-02-18T10:47:01.362660Z",
     "iopub.status.busy": "2022-02-18T10:47:01.362062Z",
     "iopub.status.idle": "2022-02-18T10:47:01.395193Z",
     "shell.execute_reply": "2022-02-18T10:47:01.394836Z"
    }
   },
   "outputs": [
    {
     "data": {
      "image/svg+xml": [
       "<?xml version=\"1.0\" encoding=\"UTF-8\" standalone=\"no\"?><svg xmlns=\"http://www.w3.org/2000/svg\" xmlns:xlink=\"http://www.w3.org/1999/xlink\" contentScriptType=\"application/ecmascript\" contentStyleType=\"text/css\" height=\"590px\" preserveAspectRatio=\"none\" style=\"width:522px;height:590px;\" version=\"1.1\" viewBox=\"0 0 522 590\" width=\"522px\" zoomAndPan=\"magnify\"><defs/><g><!--MD5=[fbc87193dbaf4d95561dea2c320d4a47]\n",
       "cluster E1--><a href=\"psysml:4ef55e29-a78c-4120-8a0e-706d60f3b916\" target=\"_top\" title=\"psysml:4ef55e29-a78c-4120-8a0e-706d60f3b916\" xlink:actuate=\"onRequest\" xlink:href=\"psysml:4ef55e29-a78c-4120-8a0e-706d60f3b916\" xlink:show=\"new\" xlink:title=\"psysml:4ef55e29-a78c-4120-8a0e-706d60f3b916\" xlink:type=\"simple\"><polygon fill=\"#FFFFFF\" points=\"16,6,97,6,104,28.2969,500,28.2969,500,578,16,578,16,6\" style=\"stroke: #000000; stroke-width: 1.5;\"/><line style=\"stroke: #000000; stroke-width: 1.5;\" x1=\"16\" x2=\"104\" y1=\"28.2969\" y2=\"28.2969\"/><text fill=\"#000000\" font-family=\"sans-serif\" font-size=\"14\" font-weight=\"bold\" lengthAdjust=\"spacingAndGlyphs\" textLength=\"75\" x=\"20\" y=\"20.9951\">ImportTest</text></a><!--MD5=[e4f7fae6ed58524ba242bb0b0d3be6b7]\n",
       "cluster E2--><a href=\"psysml:fc5e85ef-31d8-4451-b981-c90381fde50e\" target=\"_top\" title=\"psysml:fc5e85ef-31d8-4451-b981-c90381fde50e\" xlink:actuate=\"onRequest\" xlink:href=\"psysml:fc5e85ef-31d8-4451-b981-c90381fde50e\" xlink:show=\"new\" xlink:title=\"psysml:fc5e85ef-31d8-4451-b981-c90381fde50e\" xlink:type=\"simple\"><polygon fill=\"#FFFFFF\" points=\"222,57,263,57,270,79.2969,468,79.2969,468,170,222,170,222,57\" style=\"stroke: #000000; stroke-width: 1.5;\"/><line style=\"stroke: #000000; stroke-width: 1.5;\" x1=\"222\" x2=\"270\" y1=\"79.2969\" y2=\"79.2969\"/><text fill=\"#000000\" font-family=\"sans-serif\" font-size=\"14\" font-weight=\"bold\" lengthAdjust=\"spacingAndGlyphs\" textLength=\"35\" x=\"226\" y=\"71.9951\">Pkg1</text></a><!--MD5=[de5ec2e2e8f62f467e546659f5068c88]\n",
       "cluster E5--><a href=\"psysml:c270e78f-1935-46bf-a024-66cb4836716b\" target=\"_top\" title=\"psysml:c270e78f-1935-46bf-a024-66cb4836716b\" xlink:actuate=\"onRequest\" xlink:href=\"psysml:c270e78f-1935-46bf-a024-66cb4836716b\" xlink:show=\"new\" xlink:title=\"psysml:c270e78f-1935-46bf-a024-66cb4836716b\" xlink:type=\"simple\"><polygon fill=\"#FFFFFF\" points=\"121,235,162,235,169,257.2969,434,257.2969,434,546,121,546,121,235\" style=\"stroke: #000000; stroke-width: 1.5;\"/><line style=\"stroke: #000000; stroke-width: 1.5;\" x1=\"121\" x2=\"169\" y1=\"257.2969\" y2=\"257.2969\"/><text fill=\"#000000\" font-family=\"sans-serif\" font-size=\"14\" font-weight=\"bold\" lengthAdjust=\"spacingAndGlyphs\" textLength=\"35\" x=\"125\" y=\"249.9951\">Pkg2</text></a><!--MD5=[14e3b0961a2654348d326746436168a1]\n",
       "cluster E6--><a href=\"psysml:ed944fef-70b9-4524-9917-716ca36e9ac1\" target=\"_top\" title=\"psysml:ed944fef-70b9-4524-9917-716ca36e9ac1\" xlink:actuate=\"onRequest\" xlink:href=\"psysml:ed944fef-70b9-4524-9917-716ca36e9ac1\" xlink:show=\"new\" xlink:title=\"psysml:ed944fef-70b9-4524-9917-716ca36e9ac1\" xlink:type=\"simple\"><polygon fill=\"#FFFFFF\" points=\"161,294,211,294,218,316.2969,386,316.2969,386,506,161,506,161,294\" style=\"stroke: #000000; stroke-width: 1.5;\"/><line style=\"stroke: #000000; stroke-width: 1.5;\" x1=\"161\" x2=\"218\" y1=\"316.2969\" y2=\"316.2969\"/><text fill=\"#000000\" font-family=\"sans-serif\" font-size=\"14\" font-weight=\"bold\" lengthAdjust=\"spacingAndGlyphs\" textLength=\"44\" x=\"165\" y=\"308.9951\">Pkg21</text></a><!--MD5=[168fadf3d0c3fd93dd5d6da1b1d7ab76]\n",
       "cluster E7--><a href=\"psysml:9f58dbb8-6a8c-4281-a4ad-0fbab28478f4\" target=\"_top\" title=\"psysml:9f58dbb8-6a8c-4281-a4ad-0fbab28478f4\" xlink:actuate=\"onRequest\" xlink:href=\"psysml:9f58dbb8-6a8c-4281-a4ad-0fbab28478f4\" xlink:show=\"new\" xlink:title=\"psysml:9f58dbb8-6a8c-4281-a4ad-0fbab28478f4\" xlink:type=\"simple\"><polygon fill=\"#FFFFFF\" points=\"209,353,268,353,275,375.2969,346,375.2969,346,466,209,466,209,353\" style=\"stroke: #000000; stroke-width: 1.5;\"/><line style=\"stroke: #000000; stroke-width: 1.5;\" x1=\"209\" x2=\"275\" y1=\"375.2969\" y2=\"375.2969\"/><text fill=\"#000000\" font-family=\"sans-serif\" font-size=\"14\" font-weight=\"bold\" lengthAdjust=\"spacingAndGlyphs\" textLength=\"53\" x=\"213\" y=\"367.9951\">Pkg211</text></a><!--MD5=[09b614a08d8cba4a07c9adeb5e0fee81]\n",
       "class E3--><a href=\"psysml:fe6123c1-7336-461e-a67a-648132fed175\" target=\"_top\" title=\"psysml:fe6123c1-7336-461e-a67a-648132fed175\" xlink:actuate=\"onRequest\" xlink:href=\"psysml:fe6123c1-7336-461e-a67a-648132fed175\" xlink:show=\"new\" xlink:title=\"psysml:fe6123c1-7336-461e-a67a-648132fed175\" xlink:type=\"simple\"><rect fill=\"#FFFFFF\" height=\"45.9375\" id=\"E3\" rx=\"10\" ry=\"10\" style=\"stroke: #383838; stroke-width: 1.5;\" width=\"74\" x=\"265\" y=\"100\"/><text fill=\"#000000\" font-family=\"sans-serif\" font-size=\"12\" font-style=\"italic\" lengthAdjust=\"spacingAndGlyphs\" textLength=\"40\" x=\"282\" y=\"116.1387\">«part»</text><text fill=\"#000000\" font-family=\"sans-serif\" font-size=\"12\" lengthAdjust=\"spacingAndGlyphs\" textLength=\"64\" x=\"268\" y=\"130.1074\">p11: P211</text><line style=\"stroke: #383838; stroke-width: 1.5;\" x1=\"266\" x2=\"338\" y1=\"137.9375\" y2=\"137.9375\"/></a><!--MD5=[ebbe1d658d1005bcc118a6aa81145e00]\n",
       "class E4--><a href=\"psysml:1380541e-fc30-40f5-9a60-edda9aa0065e\" target=\"_top\" title=\"psysml:1380541e-fc30-40f5-9a60-edda9aa0065e\" xlink:actuate=\"onRequest\" xlink:href=\"psysml:1380541e-fc30-40f5-9a60-edda9aa0065e\" xlink:show=\"new\" xlink:title=\"psysml:1380541e-fc30-40f5-9a60-edda9aa0065e\" xlink:type=\"simple\"><rect fill=\"#FFFFFF\" height=\"45.9375\" id=\"E4\" style=\"stroke: #383838; stroke-width: 1.5;\" width=\"70\" x=\"374\" y=\"100\"/><text fill=\"#000000\" font-family=\"sans-serif\" font-size=\"12\" font-style=\"italic\" lengthAdjust=\"spacingAndGlyphs\" textLength=\"68\" x=\"375\" y=\"116.1387\">«part  def»</text><text fill=\"#000000\" font-family=\"sans-serif\" font-size=\"12\" lengthAdjust=\"spacingAndGlyphs\" textLength=\"24\" x=\"397\" y=\"130.1074\">P12</text><line style=\"stroke: #383838; stroke-width: 1.5;\" x1=\"375\" x2=\"443\" y1=\"137.9375\" y2=\"137.9375\"/></a><!--MD5=[b9389687b975829384b498ac4b7476b2]\n",
       "class E8--><a href=\"psysml:4acbdff1-c8fe-48cb-afd1-a68daa112cad\" target=\"_top\" title=\"psysml:4acbdff1-c8fe-48cb-afd1-a68daa112cad\" xlink:actuate=\"onRequest\" xlink:href=\"psysml:4acbdff1-c8fe-48cb-afd1-a68daa112cad\" xlink:show=\"new\" xlink:title=\"psysml:4acbdff1-c8fe-48cb-afd1-a68daa112cad\" xlink:type=\"simple\"><rect fill=\"#FFFFFF\" height=\"45.9375\" id=\"E8\" style=\"stroke: #383838; stroke-width: 1.5;\" width=\"70\" x=\"252\" y=\"396\"/><text fill=\"#000000\" font-family=\"sans-serif\" font-size=\"12\" font-style=\"italic\" lengthAdjust=\"spacingAndGlyphs\" textLength=\"68\" x=\"253\" y=\"412.1387\">«part  def»</text><text fill=\"#000000\" font-family=\"sans-serif\" font-size=\"12\" lengthAdjust=\"spacingAndGlyphs\" textLength=\"32\" x=\"271\" y=\"426.1074\">P211</text><line style=\"stroke: #383838; stroke-width: 1.5;\" x1=\"253\" x2=\"321\" y1=\"433.9375\" y2=\"433.9375\"/></a><!--MD5=[b0060bfdb0500b904584095522b4da3c]\n",
       "link E2 to E8--><a href=\"psysml:4f20d9a0-229b-41ce-a3f9-ec650db8275f\" target=\"_top\" title=\"psysml:4f20d9a0-229b-41ce-a3f9-ec650db8275f\" xlink:actuate=\"onRequest\" xlink:href=\"psysml:4f20d9a0-229b-41ce-a3f9-ec650db8275f\" xlink:show=\"new\" xlink:title=\"psysml:4f20d9a0-229b-41ce-a3f9-ec650db8275f\" xlink:type=\"simple\"><path d=\"M258.5,170.8719 C258.5,171.2838 258.5,171.6975 258.5,172.1131 C258.5,172.9444 258.5,173.783 258.5,174.6287 C258.5,178.0118 258.5,181.5093 258.5,185.1049 C258.5,192.2959 258.5,199.8793 258.5,207.7241 C258.5,223.4138 258.5,240.1494 258.5,256.885 C258.5,323.8275 258.5,390.77 258.5,390.77 \" fill=\"none\" id=\"E2-&gt;E8\" style=\"stroke: #383838; stroke-width: 1.0; stroke-dasharray: 7.0,7.0;\"/><polygon fill=\"#383838\" points=\"258.5,395.77,262.5,386.77,258.5,390.77,254.5,386.77,258.5,395.77\" style=\"stroke: #383838; stroke-width: 1.0;\"/><text fill=\"#000000\" font-family=\"sans-serif\" font-size=\"13\" lengthAdjust=\"spacingAndGlyphs\" textLength=\"58\" x=\"304\" y=\"207.0669\">«import»</text></a><!--MD5=[e3e28c1befcf002155aa15e1416b4315]\n",
       "link E2 to E6--><a href=\"psysml:682e8ea7-bcd5-404d-bf47-54c119ed8bb7\" target=\"_top\" title=\"psysml:682e8ea7-bcd5-404d-bf47-54c119ed8bb7\" xlink:actuate=\"onRequest\" xlink:href=\"psysml:682e8ea7-bcd5-404d-bf47-54c119ed8bb7\" xlink:show=\"new\" xlink:title=\"psysml:682e8ea7-bcd5-404d-bf47-54c119ed8bb7\" xlink:type=\"simple\"><path d=\"M221.8499,123 C221.7697,123 221.6889,123 221.6078,123 C221.4454,123 221.2813,123 221.1154,123 C220.7835,123 220.4447,123 220.0992,123 C219.4083,123 218.6908,123 217.9502,123 C212.0247,123 204.6106,123 197.3588,123 C182.855,123 169,123 169,123 C169,123 169,193.5725 169,265.7988 C169,274.827 169,283.8812 169,292.8265 \" fill=\"none\" id=\"E2-&gt;E6\" style=\"stroke: #383838; stroke-width: 1.0; stroke-dasharray: 7.0,7.0;\"/><polygon fill=\"#383838\" points=\"169,292.8265,173,283.8265,169,287.8265,165,283.8265,169,292.8265\" style=\"stroke: #383838; stroke-width: 1.0;\"/><text fill=\"#000000\" font-family=\"sans-serif\" font-size=\"13\" lengthAdjust=\"spacingAndGlyphs\" textLength=\"65\" x=\"68\" y=\"207.0669\">«import»*</text></a><!--MD5=[e3d2a08a9c9236652057e8ed0cbc9b62]\n",
       "link E2 to E7--><a href=\"psysml:60c32f43-2902-493b-8362-f480edbb78ed\" target=\"_top\" title=\"psysml:60c32f43-2902-493b-8362-f480edbb78ed\" xlink:actuate=\"onRequest\" xlink:href=\"psysml:60c32f43-2902-493b-8362-f480edbb78ed\" xlink:show=\"new\" xlink:title=\"psysml:60c32f43-2902-493b-8362-f480edbb78ed\" xlink:type=\"simple\"><path d=\"M230,170.0237 C230,171.7278 230,173.4661 230,175.2364 C230,203.5616 230,240.0881 230,276.2013 C230,294.2578 230,312.211 230,328.984 C230,333.1773 230,337.2967 230,341.3256 C230,343.3401 230,345.3319 230,347.2989 C230,348.2824 230,349.2598 230,350.2307 C230,350.7161 230,351.1999 230,351.6821 C230,351.9232 230,352.1639 230,352.4042 \" fill=\"none\" id=\"E2-&gt;E7\" style=\"stroke: #383838; stroke-width: 1.0; stroke-dasharray: 7.0,7.0;\"/><polygon fill=\"#383838\" points=\"230,352.4042,234,343.4042,230,347.4042,226,343.4042,230,352.4042\" style=\"stroke: #383838; stroke-width: 1.0;\"/><text fill=\"#000000\" font-family=\"sans-serif\" font-size=\"13\" lengthAdjust=\"spacingAndGlyphs\" textLength=\"87\" x=\"175\" y=\"207.0669\">«import»*::**</text></a><!--MD5=[ca5a752d6098d8a44b3f88316e7452d1]\n",
       "link E3 to E8--><a href=\"psysml:37accf74-aaef-4298-a8d1-458e277c829e\" target=\"_top\" title=\"psysml:37accf74-aaef-4298-a8d1-458e277c829e\" xlink:actuate=\"onRequest\" xlink:href=\"psysml:37accf74-aaef-4298-a8d1-458e277c829e\" xlink:show=\"new\" xlink:title=\"psysml:37accf74-aaef-4298-a8d1-458e277c829e\" xlink:type=\"simple\"><path d=\"M293.5,146.23 C293.5,146.23 293.5,375.88 293.5,375.88 \" fill=\"none\" id=\"E3-&gt;E8\" style=\"stroke: #383838; stroke-width: 1.0;\"/><polygon fill=\"#FFFFFF\" points=\"293.5,395.88,286.5,376.88,300.5,376.88,293.5,395.88\" style=\"stroke: #383838; stroke-width: 1.0;\"/><ellipse cx=\"288.5\" cy=\"371.18\" fill=\"#383838\" rx=\"2\" ry=\"2\" style=\"stroke: #383838; stroke-width: 1.0;\"/><ellipse cx=\"298.5\" cy=\"371.18\" fill=\"#383838\" rx=\"2\" ry=\"2\" style=\"stroke: #383838; stroke-width: 1.0;\"/></a><!--MD5=[15ebcb19ae302d9b601edb458606d402]\n",
       "link E5 to E2--><a href=\"psysml:a29f5286-6760-4cc8-8866-2ed3ee4f3eda\" target=\"_top\" title=\"psysml:a29f5286-6760-4cc8-8866-2ed3ee4f3eda\" xlink:actuate=\"onRequest\" xlink:href=\"psysml:a29f5286-6760-4cc8-8866-2ed3ee4f3eda\" xlink:show=\"new\" xlink:title=\"psysml:a29f5286-6760-4cc8-8866-2ed3ee4f3eda\" xlink:type=\"simple\"><path d=\"M356.5,234.7237 C356.5,229.4786 356.5,224.2542 356.5,219.0708 C356.5,208.7041 356.5,198.502 356.5,188.6289 C356.5,183.6924 356.5,178.8381 356.5,174.0867 C356.5,172.8989 356.5,171.7175 356.5,170.5428 C356.5,170.3959 356.5,170.2492 356.5,170.1026 \" fill=\"none\" id=\"E5-&gt;E2\" style=\"stroke: #383838; stroke-width: 1.0; stroke-dasharray: 7.0,7.0;\"/><polygon fill=\"#383838\" points=\"356.5,170.1026,352.5,179.1026,356.5,175.1026,360.5,179.1026,356.5,170.1026\" style=\"stroke: #383838; stroke-width: 1.0;\"/><text fill=\"#000000\" font-family=\"sans-serif\" font-size=\"13\" lengthAdjust=\"spacingAndGlyphs\" textLength=\"65\" x=\"411\" y=\"207.0669\">«import»*</text></a><!--MD5=[d7bb3fb34add81b710575eb3799fa2ad]\n",
       "link E8 to E4--><a href=\"psysml:d1a96eaf-259a-4888-9f98-ae46b38eb818\" target=\"_top\" title=\"psysml:d1a96eaf-259a-4888-9f98-ae46b38eb818\" xlink:actuate=\"onRequest\" xlink:href=\"psysml:d1a96eaf-259a-4888-9f98-ae46b38eb818\" xlink:show=\"new\" xlink:title=\"psysml:d1a96eaf-259a-4888-9f98-ae46b38eb818\" xlink:type=\"simple\"><path d=\"M322.29,407 C355.28,407 399.5,407 399.5,407 C399.5,407 399.5,166.24 399.5,166.24 \" fill=\"none\" id=\"E8-&gt;E4\" style=\"stroke: #383838; stroke-width: 1.0;\"/><polygon fill=\"none\" points=\"392.5,166.24,399.5,146.24,406.5,166.24,392.5,166.24\" style=\"stroke: #383838; stroke-width: 1.0;\"/></a><!--MD5=[f89ccaaf97f3138bcf8f65b4e83e9e9f]\n",
       "@startuml\r\n",
       "skinparam linetype ortho\r\n",
       "skinparam monochrome true\r\n",
       "skinparam classbackgroundcolor white\r\n",
       "skinparam shadowing false\r\n",
       "skinparam wrapWidth 300\r\n",
       "hide circle\r\n",
       "\r\n",
       "package \"ImportTest\" as E1  [[psysml:4ef55e29-a78c-4120-8a0e-706d60f3b916 ]]  {\r\n",
       "package \"Pkg1\" as E2  [[psysml:fc5e85ef-31d8-4451-b981-c90381fde50e ]]  {\r\n",
       "comp usage \"p11: P211 \" as E3  <<(T,blue) part>> [[psysml:fe6123c1-7336-461e-a67a-648132fed175 ]] {\r\n",
       "}\r\n",
       "comp def \"P12\" as E4  <<(T,blue) part  def>> [[psysml:1380541e-fc30-40f5-9a60-edda9aa0065e ]] {\r\n",
       "}\r\n",
       "}\r\n",
       "package \"Pkg2\" as E5  [[psysml:c270e78f-1935-46bf-a024-66cb4836716b ]]  {\r\n",
       "package \"Pkg21\" as E6  [[psysml:ed944fef-70b9-4524-9917-716ca36e9ac1 ]]  {\r\n",
       "package \"Pkg211\" as E7  [[psysml:9f58dbb8-6a8c-4281-a4ad-0fbab28478f4 ]]  {\r\n",
       "comp def \"P211\" as E8  <<(T,blue) part  def>> [[psysml:4acbdff1-c8fe-48cb-afd1-a68daa112cad ]] {\r\n",
       "}\r\n",
       "}\r\n",
       "}\r\n",
       "}\r\n",
       "}\r\n",
       "E2 ..> E8 [[psysml:4f20d9a0-229b-41ce-a3f9-ec650db8275f ]] : <<import>>\r\n",
       "E2 ..> E6 [[psysml:682e8ea7-bcd5-404d-bf47-54c119ed8bb7 ]] : <<import>>*\r\n",
       "E2 ..> E7 [[psysml:60c32f43-2902-493b-8362-f480edbb78ed ]] : <<import>>*::**\r\n",
       "E3 - -:|> E8 [[psysml:37accf74-aaef-4298-a8d1-458e277c829e ]] \r\n",
       "E5 ..> E2 [[psysml:a29f5286-6760-4cc8-8866-2ed3ee4f3eda ]] : <<import>>*\r\n",
       "E8 - -|> E4 [[psysml:d1a96eaf-259a-4888-9f98-ae46b38eb818 ]] \r\n",
       "@enduml\r\n",
       "\n",
       "PlantUML version 1.2020.13(Sat Jun 13 12:26:38 UTC 2020)\n",
       "(EPL source distribution)\n",
       "Java Runtime: OpenJDK Runtime Environment\n",
       "JVM: OpenJDK 64-Bit Server VM\n",
       "Default Encoding: UTF-8\n",
       "Language: en\n",
       "Country: null\n",
       "--></g></svg>"
      ]
     },
     "execution_count": 52,
     "metadata": {},
     "output_type": "execute_result"
    }
   ],
   "source": [
    "%viz --style=\"ORTHOLINE\" --view=\"Tree\" \"ImportTest\""
   ]
  },
  {
   "cell_type": "code",
   "execution_count": 53,
   "id": "ad31c8f5",
   "metadata": {
    "execution": {
     "iopub.execute_input": "2022-02-18T10:47:01.444770Z",
     "iopub.status.busy": "2022-02-18T10:47:01.444364Z",
     "iopub.status.idle": "2022-02-18T10:47:01.449416Z",
     "shell.execute_reply": "2022-02-18T10:47:01.449069Z"
    }
   },
   "outputs": [
    {
     "data": {
      "image/svg+xml": [
       "<?xml version=\"1.0\" encoding=\"UTF-8\" standalone=\"no\"?><svg xmlns=\"http://www.w3.org/2000/svg\" xmlns:xlink=\"http://www.w3.org/1999/xlink\" contentScriptType=\"application/ecmascript\" contentStyleType=\"text/css\" height=\"12px\" preserveAspectRatio=\"none\" style=\"width:12px;height:12px;\" version=\"1.1\" viewBox=\"0 0 12 12\" width=\"12px\" zoomAndPan=\"magnify\"><defs/><g><!--MD5=[97d6f38768b311333d388e66b2b27985]\n",
       "@startuml\r\n",
       "skinparam linetype ortho\r\n",
       "skinparam monochrome true\r\n",
       "skinparam classbackgroundcolor white\r\n",
       "skinparam shadowing false\r\n",
       "skinparam wrapWidth 300\r\n",
       "hide circle\r\n",
       "\r\n",
       "@enduml\r\n",
       "\n",
       "PlantUML version 1.2020.13(Sat Jun 13 12:26:38 UTC 2020)\n",
       "(EPL source distribution)\n",
       "Java Runtime: OpenJDK Runtime Environment\n",
       "JVM: OpenJDK 64-Bit Server VM\n",
       "Default Encoding: UTF-8\n",
       "Language: en\n",
       "Country: null\n",
       "--></g></svg>"
      ]
     },
     "execution_count": 53,
     "metadata": {},
     "output_type": "execute_result"
    }
   ],
   "source": [
    "%viz --style=\"ORTHOLINE\" --view=\"State\" \"ImportTest\""
   ]
  },
  {
   "cell_type": "code",
   "execution_count": 54,
   "id": "7372060b",
   "metadata": {
    "execution": {
     "iopub.execute_input": "2022-02-18T10:47:01.499293Z",
     "iopub.status.busy": "2022-02-18T10:47:01.498893Z",
     "iopub.status.idle": "2022-02-18T10:47:01.532189Z",
     "shell.execute_reply": "2022-02-18T10:47:01.530238Z"
    }
   },
   "outputs": [
    {
     "data": {
      "image/svg+xml": [
       "<?xml version=\"1.0\" encoding=\"UTF-8\" standalone=\"no\"?><svg xmlns=\"http://www.w3.org/2000/svg\" xmlns:xlink=\"http://www.w3.org/1999/xlink\" contentScriptType=\"application/ecmascript\" contentStyleType=\"text/css\" height=\"584px\" preserveAspectRatio=\"none\" style=\"width:515px;height:584px;\" version=\"1.1\" viewBox=\"0 0 515 584\" width=\"515px\" zoomAndPan=\"magnify\"><defs/><g><!--MD5=[fbc87193dbaf4d95561dea2c320d4a47]\n",
       "cluster E1--><a href=\"psysml:4ef55e29-a78c-4120-8a0e-706d60f3b916\" target=\"_top\" title=\"psysml:4ef55e29-a78c-4120-8a0e-706d60f3b916\" xlink:actuate=\"onRequest\" xlink:href=\"psysml:4ef55e29-a78c-4120-8a0e-706d60f3b916\" xlink:show=\"new\" xlink:title=\"psysml:4ef55e29-a78c-4120-8a0e-706d60f3b916\" xlink:type=\"simple\"><polygon fill=\"#FFFFFF\" points=\"16,6,97,6,104,28.2969,493,28.2969,493,572,16,572,16,6\" style=\"stroke: #000000; stroke-width: 1.5;\"/><line style=\"stroke: #000000; stroke-width: 1.5;\" x1=\"16\" x2=\"104\" y1=\"28.2969\" y2=\"28.2969\"/><text fill=\"#000000\" font-family=\"sans-serif\" font-size=\"14\" font-weight=\"bold\" lengthAdjust=\"spacingAndGlyphs\" textLength=\"75\" x=\"20\" y=\"20.9951\">ImportTest</text></a><!--MD5=[e4f7fae6ed58524ba242bb0b0d3be6b7]\n",
       "cluster E2--><a href=\"psysml:fc5e85ef-31d8-4451-b981-c90381fde50e\" target=\"_top\" title=\"psysml:fc5e85ef-31d8-4451-b981-c90381fde50e\" xlink:actuate=\"onRequest\" xlink:href=\"psysml:fc5e85ef-31d8-4451-b981-c90381fde50e\" xlink:show=\"new\" xlink:title=\"psysml:fc5e85ef-31d8-4451-b981-c90381fde50e\" xlink:type=\"simple\"><polygon fill=\"#FFFFFF\" points=\"209,57,250,57,257,79.2969,461,79.2969,461,167,209,167,209,57\" style=\"stroke: #000000; stroke-width: 1.5;\"/><line style=\"stroke: #000000; stroke-width: 1.5;\" x1=\"209\" x2=\"257\" y1=\"79.2969\" y2=\"79.2969\"/><text fill=\"#000000\" font-family=\"sans-serif\" font-size=\"14\" font-weight=\"bold\" lengthAdjust=\"spacingAndGlyphs\" textLength=\"35\" x=\"213\" y=\"71.9951\">Pkg1</text></a><!--MD5=[de5ec2e2e8f62f467e546659f5068c88]\n",
       "cluster E5--><a href=\"psysml:c270e78f-1935-46bf-a024-66cb4836716b\" target=\"_top\" title=\"psysml:c270e78f-1935-46bf-a024-66cb4836716b\" xlink:actuate=\"onRequest\" xlink:href=\"psysml:c270e78f-1935-46bf-a024-66cb4836716b\" xlink:show=\"new\" xlink:title=\"psysml:c270e78f-1935-46bf-a024-66cb4836716b\" xlink:type=\"simple\"><polygon fill=\"#FFFFFF\" points=\"93,232,134,232,141,254.2969,411,254.2969,411,540,93,540,93,232\" style=\"stroke: #000000; stroke-width: 1.5;\"/><line style=\"stroke: #000000; stroke-width: 1.5;\" x1=\"93\" x2=\"141\" y1=\"254.2969\" y2=\"254.2969\"/><text fill=\"#000000\" font-family=\"sans-serif\" font-size=\"14\" font-weight=\"bold\" lengthAdjust=\"spacingAndGlyphs\" textLength=\"35\" x=\"97\" y=\"246.9951\">Pkg2</text></a><!--MD5=[14e3b0961a2654348d326746436168a1]\n",
       "cluster E6--><a href=\"psysml:ed944fef-70b9-4524-9917-716ca36e9ac1\" target=\"_top\" title=\"psysml:ed944fef-70b9-4524-9917-716ca36e9ac1\" xlink:actuate=\"onRequest\" xlink:href=\"psysml:ed944fef-70b9-4524-9917-716ca36e9ac1\" xlink:show=\"new\" xlink:title=\"psysml:ed944fef-70b9-4524-9917-716ca36e9ac1\" xlink:type=\"simple\"><polygon fill=\"#FFFFFF\" points=\"133,291,183,291,190,313.2969,363,313.2969,363,500,133,500,133,291\" style=\"stroke: #000000; stroke-width: 1.5;\"/><line style=\"stroke: #000000; stroke-width: 1.5;\" x1=\"133\" x2=\"190\" y1=\"313.2969\" y2=\"313.2969\"/><text fill=\"#000000\" font-family=\"sans-serif\" font-size=\"14\" font-weight=\"bold\" lengthAdjust=\"spacingAndGlyphs\" textLength=\"44\" x=\"137\" y=\"305.9951\">Pkg21</text></a><!--MD5=[168fadf3d0c3fd93dd5d6da1b1d7ab76]\n",
       "cluster E7--><a href=\"psysml:9f58dbb8-6a8c-4281-a4ad-0fbab28478f4\" target=\"_top\" title=\"psysml:9f58dbb8-6a8c-4281-a4ad-0fbab28478f4\" xlink:actuate=\"onRequest\" xlink:href=\"psysml:9f58dbb8-6a8c-4281-a4ad-0fbab28478f4\" xlink:show=\"new\" xlink:title=\"psysml:9f58dbb8-6a8c-4281-a4ad-0fbab28478f4\" xlink:type=\"simple\"><polygon fill=\"#FFFFFF\" points=\"181,350,240,350,247,372.2969,323,372.2969,323,460,181,460,181,350\" style=\"stroke: #000000; stroke-width: 1.5;\"/><line style=\"stroke: #000000; stroke-width: 1.5;\" x1=\"181\" x2=\"247\" y1=\"372.2969\" y2=\"372.2969\"/><text fill=\"#000000\" font-family=\"sans-serif\" font-size=\"14\" font-weight=\"bold\" lengthAdjust=\"spacingAndGlyphs\" textLength=\"53\" x=\"185\" y=\"364.9951\">Pkg211</text></a><g id=\"E1.E2.E3\"><a href=\"psysml:fe6123c1-7336-461e-a67a-648132fed175\" target=\"_top\" title=\"psysml:fe6123c1-7336-461e-a67a-648132fed175\" xlink:actuate=\"onRequest\" xlink:href=\"psysml:fe6123c1-7336-461e-a67a-648132fed175\" xlink:show=\"new\" xlink:title=\"psysml:fe6123c1-7336-461e-a67a-648132fed175\" xlink:type=\"simple\"><rect fill=\"#FFFFFF\" height=\"40\" id=\"E3\" rx=\"10\" ry=\"10\" style=\"stroke: #383838; stroke-width: 1.5;\" width=\"75\" x=\"362.5\" y=\"101.5\"/><rect fill=\"#F8F8F8\" height=\"23.9688\" rx=\"10\" ry=\"10\" style=\"stroke: #F8F8F8; stroke-width: 1.5;\" width=\"75\" x=\"362.5\" y=\"101.5\"/><rect fill=\"#F8F8F8\" height=\"10\" style=\"stroke: #F8F8F8; stroke-width: 1.5;\" width=\"75\" x=\"362.5\" y=\"115.4688\"/><rect fill=\"none\" height=\"40\" id=\"E3\" rx=\"10\" ry=\"10\" style=\"stroke: #383838; stroke-width: 1.5;\" width=\"75\" x=\"362.5\" y=\"101.5\"/><text fill=\"#000000\" font-family=\"sans-serif\" font-size=\"12\" lengthAdjust=\"spacingAndGlyphs\" textLength=\"64\" x=\"368\" y=\"117.6387\">p11: P211</text></a></g><g id=\"E1.E2.E4\"><a href=\"psysml:1380541e-fc30-40f5-9a60-edda9aa0065e\" target=\"_top\" title=\"psysml:1380541e-fc30-40f5-9a60-edda9aa0065e\" xlink:actuate=\"onRequest\" xlink:href=\"psysml:1380541e-fc30-40f5-9a60-edda9aa0065e\" xlink:show=\"new\" xlink:title=\"psysml:1380541e-fc30-40f5-9a60-edda9aa0065e\" xlink:type=\"simple\"><rect fill=\"#FFFFFF\" height=\"42.9375\" id=\"E4\" style=\"stroke: #383838; stroke-width: 1.5;\" width=\"75\" x=\"252.5\" y=\"100\"/><rect fill=\"#F8F8F8\" height=\"37.9375\" style=\"stroke: #383838; stroke-width: 1.5;\" width=\"75\" x=\"252.5\" y=\"100\"/><text fill=\"#000000\" font-family=\"sans-serif\" font-size=\"12\" font-style=\"italic\" lengthAdjust=\"spacingAndGlyphs\" textLength=\"68\" x=\"256\" y=\"116.1387\">«part  def»</text><text fill=\"#000000\" font-family=\"sans-serif\" font-size=\"12\" lengthAdjust=\"spacingAndGlyphs\" textLength=\"24\" x=\"278\" y=\"130.1074\">P12</text></a></g><g id=\"E1.E5.E6.E7.E8\"><a href=\"psysml:4acbdff1-c8fe-48cb-afd1-a68daa112cad\" target=\"_top\" title=\"psysml:4acbdff1-c8fe-48cb-afd1-a68daa112cad\" xlink:actuate=\"onRequest\" xlink:href=\"psysml:4acbdff1-c8fe-48cb-afd1-a68daa112cad\" xlink:show=\"new\" xlink:title=\"psysml:4acbdff1-c8fe-48cb-afd1-a68daa112cad\" xlink:type=\"simple\"><rect fill=\"#FFFFFF\" height=\"42.9375\" id=\"E8\" style=\"stroke: #383838; stroke-width: 1.5;\" width=\"75\" x=\"224.5\" y=\"393\"/><rect fill=\"#F8F8F8\" height=\"37.9375\" style=\"stroke: #383838; stroke-width: 1.5;\" width=\"75\" x=\"224.5\" y=\"393\"/><text fill=\"#000000\" font-family=\"sans-serif\" font-size=\"12\" font-style=\"italic\" lengthAdjust=\"spacingAndGlyphs\" textLength=\"68\" x=\"228\" y=\"409.1387\">«part  def»</text><text fill=\"#000000\" font-family=\"sans-serif\" font-size=\"12\" lengthAdjust=\"spacingAndGlyphs\" textLength=\"32\" x=\"246\" y=\"423.1074\">P211</text></a></g><!--MD5=[b0060bfdb0500b904584095522b4da3c]\n",
       "link E2 to E8--><a href=\"psysml:4f20d9a0-229b-41ce-a3f9-ec650db8275f\" target=\"_top\" title=\"psysml:4f20d9a0-229b-41ce-a3f9-ec650db8275f\" xlink:actuate=\"onRequest\" xlink:href=\"psysml:4f20d9a0-229b-41ce-a3f9-ec650db8275f\" xlink:show=\"new\" xlink:title=\"psysml:4f20d9a0-229b-41ce-a3f9-ec650db8275f\" xlink:type=\"simple\"><path d=\"M238.5,167.1216 C238.5,167.5231 238.5,167.9266 238.5,168.3319 C238.5,169.9534 238.5,171.6053 238.5,173.2855 C238.5,176.6461 238.5,180.1204 238.5,183.692 C238.5,190.8353 238.5,198.3682 238.5,206.1609 C238.5,221.7463 238.5,238.3706 238.5,254.995 C238.5,321.4925 238.5,387.99 238.5,387.99 \" fill=\"none\" id=\"E2-&gt;E8\" style=\"stroke: #383838; stroke-width: 1.0; stroke-dasharray: 7.0,7.0;\"/><polygon fill=\"#383838\" points=\"238.5,392.99,242.5,383.99,238.5,387.99,234.5,383.99,238.5,392.99\" style=\"stroke: #383838; stroke-width: 1.0;\"/><text fill=\"#000000\" font-family=\"sans-serif\" font-size=\"13\" lengthAdjust=\"spacingAndGlyphs\" textLength=\"58\" x=\"304\" y=\"204.0669\">«import»</text></a><!--MD5=[e3e28c1befcf002155aa15e1416b4315]\n",
       "link E2 to E6--><a href=\"psysml:682e8ea7-bcd5-404d-bf47-54c119ed8bb7\" target=\"_top\" title=\"psysml:682e8ea7-bcd5-404d-bf47-54c119ed8bb7\" xlink:actuate=\"onRequest\" xlink:href=\"psysml:682e8ea7-bcd5-404d-bf47-54c119ed8bb7\" xlink:show=\"new\" xlink:title=\"psysml:682e8ea7-bcd5-404d-bf47-54c119ed8bb7\" xlink:type=\"simple\"><path d=\"M208.795,122 C208.7001,122 208.6046,122 208.5083,122 C208.3158,122 208.1207,122 207.9231,122 C207.5278,122 207.1222,122 206.707,122 C205.8766,122 205.0075,122 204.1041,122 C196.8769,122 187.4563,122 178.1075,122 C159.41,122 141,122 141,122 C141,122 141,191.7375 141,263.11 C141,272.0316 141,280.9787 141,289.8183 \" fill=\"none\" id=\"E2-&gt;E6\" style=\"stroke: #383838; stroke-width: 1.0; stroke-dasharray: 7.0,7.0;\"/><polygon fill=\"#383838\" points=\"141,289.8183,145,280.8183,141,284.8183,137,280.8183,141,289.8183\" style=\"stroke: #383838; stroke-width: 1.0;\"/><text fill=\"#000000\" font-family=\"sans-serif\" font-size=\"13\" lengthAdjust=\"spacingAndGlyphs\" textLength=\"65\" x=\"68\" y=\"204.0669\">«import»*</text></a><!--MD5=[e3d2a08a9c9236652057e8ed0cbc9b62]\n",
       "link E2 to E7--><a href=\"psysml:60c32f43-2902-493b-8362-f480edbb78ed\" target=\"_top\" title=\"psysml:60c32f43-2902-493b-8362-f480edbb78ed\" xlink:actuate=\"onRequest\" xlink:href=\"psysml:60c32f43-2902-493b-8362-f480edbb78ed\" xlink:show=\"new\" xlink:title=\"psysml:60c32f43-2902-493b-8362-f480edbb78ed\" xlink:type=\"simple\"><path d=\"M217,168.1307 C217,169.8204 217,171.544 217,173.2994 C217,201.385 217,237.6025 217,273.41 C217,291.3137 217,309.115 217,325.746 C217,334.0615 217,342.0845 217,349.6814 \" fill=\"none\" id=\"E2-&gt;E7\" style=\"stroke: #383838; stroke-width: 1.0; stroke-dasharray: 7.0,7.0;\"/><polygon fill=\"#383838\" points=\"217,349.6814,221,340.6814,217,344.6814,213,340.6814,217,349.6814\" style=\"stroke: #383838; stroke-width: 1.0;\"/><text fill=\"#000000\" font-family=\"sans-serif\" font-size=\"13\" lengthAdjust=\"spacingAndGlyphs\" textLength=\"87\" x=\"175\" y=\"204.0669\">«import»*::**</text></a><!--MD5=[15ebcb19ae302d9b601edb458606d402]\n",
       "link E5 to E2--><a href=\"psysml:a29f5286-6760-4cc8-8866-2ed3ee4f3eda\" target=\"_top\" title=\"psysml:a29f5286-6760-4cc8-8866-2ed3ee4f3eda\" xlink:actuate=\"onRequest\" xlink:href=\"psysml:a29f5286-6760-4cc8-8866-2ed3ee4f3eda\" xlink:show=\"new\" xlink:title=\"psysml:a29f5286-6760-4cc8-8866-2ed3ee4f3eda\" xlink:type=\"simple\"><path d=\"M345,230.9684 C345,230.3212 345,229.6744 345,229.028 C345,227.7351 345,226.4439 345,225.1545 C345,222.5758 345,220.0048 345,217.4438 C345,207.2002 345,197.1191 345,187.3633 C345,182.4854 345,177.6887 345,172.9937 C345,171.82 345,170.6526 345,169.4918 C345,168.9115 345,168.3328 345,167.7558 C345,167.6115 345,167.4674 345,167.3234 C345,167.2513 345,167.1793 345,167.1074 \" fill=\"none\" id=\"E5-&gt;E2\" style=\"stroke: #383838; stroke-width: 1.0; stroke-dasharray: 7.0,7.0;\"/><polygon fill=\"#383838\" points=\"345,167.1074,341,176.1074,345,172.1074,349,176.1074,345,167.1074\" style=\"stroke: #383838; stroke-width: 1.0;\"/><text fill=\"#000000\" font-family=\"sans-serif\" font-size=\"13\" lengthAdjust=\"spacingAndGlyphs\" textLength=\"65\" x=\"404\" y=\"204.0669\">«import»*</text></a><!--MD5=[d7bb3fb34add81b710575eb3799fa2ad]\n",
       "link E8 to E4--><a href=\"psysml:d1a96eaf-259a-4888-9f98-ae46b38eb818\" target=\"_top\" title=\"psysml:d1a96eaf-259a-4888-9f98-ae46b38eb818\" xlink:actuate=\"onRequest\" xlink:href=\"psysml:d1a96eaf-259a-4888-9f98-ae46b38eb818\" xlink:show=\"new\" xlink:title=\"psysml:d1a96eaf-259a-4888-9f98-ae46b38eb818\" xlink:type=\"simple\"><path d=\"M276,392.96 C276,392.96 276,163.08 276,163.08 \" fill=\"none\" id=\"E8-&gt;E4\" style=\"stroke: #383838; stroke-width: 1.0;\"/><polygon fill=\"none\" points=\"269,163.08,276,143.08,283,163.08,269,163.08\" style=\"stroke: #383838; stroke-width: 1.0;\"/></a><!--MD5=[eaf221fc310fc5f85a23c35f5c30c2d6]\n",
       "@startuml\r\n",
       "skinparam ranksep 10\r\n",
       "skinparam rectangle {\r\n",
       " backgroundColor<<block>> LightGreen\r\n",
       "}\r\n",
       "skinparam linetype ortho\r\n",
       "skinparam monochrome true\r\n",
       "skinparam classbackgroundcolor white\r\n",
       "skinparam shadowing false\r\n",
       "skinparam wrapWidth 300\r\n",
       "hide circle\r\n",
       "\r\n",
       "package \"ImportTest\" as E1  [[psysml:4ef55e29-a78c-4120-8a0e-706d60f3b916 ]]  {\r\n",
       "package \"Pkg1\" as E2  [[psysml:fc5e85ef-31d8-4451-b981-c90381fde50e ]]  {\r\n",
       "rec usage \"p11: P211\" as E3  [[psysml:fe6123c1-7336-461e-a67a-648132fed175 ]] {\r\n",
       "}\r\n",
       "rec def \"P12\" as E4  <<(T,blue) part  def>> [[psysml:1380541e-fc30-40f5-9a60-edda9aa0065e ]] {\r\n",
       "}\r\n",
       "}\r\n",
       "package \"Pkg2\" as E5  [[psysml:c270e78f-1935-46bf-a024-66cb4836716b ]]  {\r\n",
       "package \"Pkg21\" as E6  [[psysml:ed944fef-70b9-4524-9917-716ca36e9ac1 ]]  {\r\n",
       "package \"Pkg211\" as E7  [[psysml:9f58dbb8-6a8c-4281-a4ad-0fbab28478f4 ]]  {\r\n",
       "rec def \"P211\" as E8  <<(T,blue) part  def>> [[psysml:4acbdff1-c8fe-48cb-afd1-a68daa112cad ]] {\r\n",
       "}\r\n",
       "}\r\n",
       "}\r\n",
       "}\r\n",
       "}\r\n",
       "E2 ..> E8 [[psysml:4f20d9a0-229b-41ce-a3f9-ec650db8275f ]] : <<import>>\r\n",
       "E2 ..> E6 [[psysml:682e8ea7-bcd5-404d-bf47-54c119ed8bb7 ]] : <<import>>*\r\n",
       "E2 ..> E7 [[psysml:60c32f43-2902-493b-8362-f480edbb78ed ]] : <<import>>*::**\r\n",
       "E5 ..> E2 [[psysml:a29f5286-6760-4cc8-8866-2ed3ee4f3eda ]] : <<import>>*\r\n",
       "E8 - -|> E4 [[psysml:d1a96eaf-259a-4888-9f98-ae46b38eb818 ]] \r\n",
       "@enduml\r\n",
       "\n",
       "PlantUML version 1.2020.13(Sat Jun 13 12:26:38 UTC 2020)\n",
       "(EPL source distribution)\n",
       "Java Runtime: OpenJDK Runtime Environment\n",
       "JVM: OpenJDK 64-Bit Server VM\n",
       "Default Encoding: UTF-8\n",
       "Language: en\n",
       "Country: null\n",
       "--></g></svg>"
      ]
     },
     "execution_count": 54,
     "metadata": {},
     "output_type": "execute_result"
    }
   ],
   "source": [
    "%viz --style=\"ORTHOLINE\" --view=\"Interconnection\" \"ImportTest\""
   ]
  },
  {
   "cell_type": "code",
   "execution_count": 55,
   "id": "ab36c4e0",
   "metadata": {
    "execution": {
     "iopub.execute_input": "2022-02-18T10:47:01.580790Z",
     "iopub.status.busy": "2022-02-18T10:47:01.580392Z",
     "iopub.status.idle": "2022-02-18T10:47:01.584947Z",
     "shell.execute_reply": "2022-02-18T10:47:01.584619Z"
    }
   },
   "outputs": [
    {
     "data": {
      "image/svg+xml": [
       "<?xml version=\"1.0\" encoding=\"UTF-8\" standalone=\"no\"?><svg xmlns=\"http://www.w3.org/2000/svg\" xmlns:xlink=\"http://www.w3.org/1999/xlink\" contentScriptType=\"application/ecmascript\" contentStyleType=\"text/css\" height=\"12px\" preserveAspectRatio=\"none\" style=\"width:12px;height:12px;\" version=\"1.1\" viewBox=\"0 0 12 12\" width=\"12px\" zoomAndPan=\"magnify\"><defs/><g><!--MD5=[72934c63077099a26744516a776b4749]\n",
       "@startuml\r\n",
       "skinparam ranksep 8\r\n",
       "skinparam linetype ortho\r\n",
       "skinparam monochrome true\r\n",
       "skinparam classbackgroundcolor white\r\n",
       "skinparam shadowing false\r\n",
       "skinparam wrapWidth 300\r\n",
       "hide circle\r\n",
       "\r\n",
       "@enduml\r\n",
       "\n",
       "PlantUML version 1.2020.13(Sat Jun 13 12:26:38 UTC 2020)\n",
       "(EPL source distribution)\n",
       "Java Runtime: OpenJDK Runtime Environment\n",
       "JVM: OpenJDK 64-Bit Server VM\n",
       "Default Encoding: UTF-8\n",
       "Language: en\n",
       "Country: null\n",
       "--></g></svg>"
      ]
     },
     "execution_count": 55,
     "metadata": {},
     "output_type": "execute_result"
    }
   ],
   "source": [
    "%viz --style=\"ORTHOLINE\" --view=\"Action\" \"ImportTest\""
   ]
  },
  {
   "cell_type": "code",
   "execution_count": 56,
   "id": "5f1d2b08",
   "metadata": {
    "execution": {
     "iopub.execute_input": "2022-02-18T10:47:01.634824Z",
     "iopub.status.busy": "2022-02-18T10:47:01.634425Z",
     "iopub.status.idle": "2022-02-18T10:47:01.639024Z",
     "shell.execute_reply": "2022-02-18T10:47:01.638679Z"
    }
   },
   "outputs": [
    {
     "data": {
      "image/svg+xml": [
       "<?xml version=\"1.0\" encoding=\"UTF-8\" standalone=\"no\"?><svg xmlns=\"http://www.w3.org/2000/svg\" xmlns:xlink=\"http://www.w3.org/1999/xlink\" contentScriptType=\"application/ecmascript\" contentStyleType=\"text/css\" height=\"12px\" preserveAspectRatio=\"none\" style=\"width:12px;height:12px;\" version=\"1.1\" viewBox=\"0 0 12 12\" width=\"12px\" zoomAndPan=\"magnify\"><defs/><g><!--MD5=[30fc1de5121c5abddedd55b44417fde8]\n",
       "@startuml\r\n",
       "skinparam roundcorner 20\r\n",
       "skinparam BoxPadding 20\r\n",
       "skinparam SequenceBoxBackgroundColor #white\r\n",
       "skinparam style strictuml\r\n",
       "skinparam maxMessageSize 100\r\n",
       "skinparam linetype ortho\r\n",
       "skinparam monochrome true\r\n",
       "skinparam classbackgroundcolor white\r\n",
       "skinparam shadowing false\r\n",
       "skinparam wrapWidth 300\r\n",
       "hide circle\r\n",
       "\r\n",
       "@enduml\r\n",
       "\n",
       "PlantUML version 1.2020.13(Sat Jun 13 12:26:38 UTC 2020)\n",
       "(EPL source distribution)\n",
       "Java Runtime: OpenJDK Runtime Environment\n",
       "JVM: OpenJDK 64-Bit Server VM\n",
       "Default Encoding: UTF-8\n",
       "Language: en\n",
       "Country: null\n",
       "--></g></svg>"
      ]
     },
     "execution_count": 56,
     "metadata": {},
     "output_type": "execute_result"
    }
   ],
   "source": [
    "%viz --style=\"ORTHOLINE\" --view=\"Sequence\" \"ImportTest\""
   ]
  },
  {
   "cell_type": "code",
   "execution_count": 57,
   "id": "923f40fa",
   "metadata": {
    "execution": {
     "iopub.execute_input": "2022-02-18T10:47:01.688861Z",
     "iopub.status.busy": "2022-02-18T10:47:01.688467Z",
     "iopub.status.idle": "2022-02-18T10:47:01.721379Z",
     "shell.execute_reply": "2022-02-18T10:47:01.721003Z"
    }
   },
   "outputs": [
    {
     "data": {
      "image/svg+xml": [
       "<?xml version=\"1.0\" encoding=\"UTF-8\" standalone=\"no\"?><svg xmlns=\"http://www.w3.org/2000/svg\" xmlns:xlink=\"http://www.w3.org/1999/xlink\" contentScriptType=\"application/ecmascript\" contentStyleType=\"text/css\" height=\"590px\" preserveAspectRatio=\"none\" style=\"width:522px;height:590px;\" version=\"1.1\" viewBox=\"0 0 522 590\" width=\"522px\" zoomAndPan=\"magnify\"><defs/><g><!--MD5=[fbc87193dbaf4d95561dea2c320d4a47]\n",
       "cluster E1--><a href=\"psysml:4ef55e29-a78c-4120-8a0e-706d60f3b916\" target=\"_top\" title=\"psysml:4ef55e29-a78c-4120-8a0e-706d60f3b916\" xlink:actuate=\"onRequest\" xlink:href=\"psysml:4ef55e29-a78c-4120-8a0e-706d60f3b916\" xlink:show=\"new\" xlink:title=\"psysml:4ef55e29-a78c-4120-8a0e-706d60f3b916\" xlink:type=\"simple\"><polygon fill=\"#FFFFFF\" points=\"16,6,97,6,104,28.2969,500,28.2969,500,578,16,578,16,6\" style=\"stroke: #000000; stroke-width: 1.5;\"/><line style=\"stroke: #000000; stroke-width: 1.5;\" x1=\"16\" x2=\"104\" y1=\"28.2969\" y2=\"28.2969\"/><text fill=\"#000000\" font-family=\"sans-serif\" font-size=\"14\" font-weight=\"bold\" lengthAdjust=\"spacingAndGlyphs\" textLength=\"75\" x=\"20\" y=\"20.9951\">ImportTest</text></a><!--MD5=[e4f7fae6ed58524ba242bb0b0d3be6b7]\n",
       "cluster E2--><a href=\"psysml:fc5e85ef-31d8-4451-b981-c90381fde50e\" target=\"_top\" title=\"psysml:fc5e85ef-31d8-4451-b981-c90381fde50e\" xlink:actuate=\"onRequest\" xlink:href=\"psysml:fc5e85ef-31d8-4451-b981-c90381fde50e\" xlink:show=\"new\" xlink:title=\"psysml:fc5e85ef-31d8-4451-b981-c90381fde50e\" xlink:type=\"simple\"><polygon fill=\"#FFFFFF\" points=\"222,57,263,57,270,79.2969,468,79.2969,468,170,222,170,222,57\" style=\"stroke: #000000; stroke-width: 1.5;\"/><line style=\"stroke: #000000; stroke-width: 1.5;\" x1=\"222\" x2=\"270\" y1=\"79.2969\" y2=\"79.2969\"/><text fill=\"#000000\" font-family=\"sans-serif\" font-size=\"14\" font-weight=\"bold\" lengthAdjust=\"spacingAndGlyphs\" textLength=\"35\" x=\"226\" y=\"71.9951\">Pkg1</text></a><!--MD5=[de5ec2e2e8f62f467e546659f5068c88]\n",
       "cluster E5--><a href=\"psysml:c270e78f-1935-46bf-a024-66cb4836716b\" target=\"_top\" title=\"psysml:c270e78f-1935-46bf-a024-66cb4836716b\" xlink:actuate=\"onRequest\" xlink:href=\"psysml:c270e78f-1935-46bf-a024-66cb4836716b\" xlink:show=\"new\" xlink:title=\"psysml:c270e78f-1935-46bf-a024-66cb4836716b\" xlink:type=\"simple\"><polygon fill=\"#FFFFFF\" points=\"121,235,162,235,169,257.2969,434,257.2969,434,546,121,546,121,235\" style=\"stroke: #000000; stroke-width: 1.5;\"/><line style=\"stroke: #000000; stroke-width: 1.5;\" x1=\"121\" x2=\"169\" y1=\"257.2969\" y2=\"257.2969\"/><text fill=\"#000000\" font-family=\"sans-serif\" font-size=\"14\" font-weight=\"bold\" lengthAdjust=\"spacingAndGlyphs\" textLength=\"35\" x=\"125\" y=\"249.9951\">Pkg2</text></a><!--MD5=[14e3b0961a2654348d326746436168a1]\n",
       "cluster E6--><a href=\"psysml:ed944fef-70b9-4524-9917-716ca36e9ac1\" target=\"_top\" title=\"psysml:ed944fef-70b9-4524-9917-716ca36e9ac1\" xlink:actuate=\"onRequest\" xlink:href=\"psysml:ed944fef-70b9-4524-9917-716ca36e9ac1\" xlink:show=\"new\" xlink:title=\"psysml:ed944fef-70b9-4524-9917-716ca36e9ac1\" xlink:type=\"simple\"><polygon fill=\"#FFFFFF\" points=\"161,294,211,294,218,316.2969,386,316.2969,386,506,161,506,161,294\" style=\"stroke: #000000; stroke-width: 1.5;\"/><line style=\"stroke: #000000; stroke-width: 1.5;\" x1=\"161\" x2=\"218\" y1=\"316.2969\" y2=\"316.2969\"/><text fill=\"#000000\" font-family=\"sans-serif\" font-size=\"14\" font-weight=\"bold\" lengthAdjust=\"spacingAndGlyphs\" textLength=\"44\" x=\"165\" y=\"308.9951\">Pkg21</text></a><!--MD5=[168fadf3d0c3fd93dd5d6da1b1d7ab76]\n",
       "cluster E7--><a href=\"psysml:9f58dbb8-6a8c-4281-a4ad-0fbab28478f4\" target=\"_top\" title=\"psysml:9f58dbb8-6a8c-4281-a4ad-0fbab28478f4\" xlink:actuate=\"onRequest\" xlink:href=\"psysml:9f58dbb8-6a8c-4281-a4ad-0fbab28478f4\" xlink:show=\"new\" xlink:title=\"psysml:9f58dbb8-6a8c-4281-a4ad-0fbab28478f4\" xlink:type=\"simple\"><polygon fill=\"#FFFFFF\" points=\"209,353,268,353,275,375.2969,346,375.2969,346,466,209,466,209,353\" style=\"stroke: #000000; stroke-width: 1.5;\"/><line style=\"stroke: #000000; stroke-width: 1.5;\" x1=\"209\" x2=\"275\" y1=\"375.2969\" y2=\"375.2969\"/><text fill=\"#000000\" font-family=\"sans-serif\" font-size=\"14\" font-weight=\"bold\" lengthAdjust=\"spacingAndGlyphs\" textLength=\"53\" x=\"213\" y=\"367.9951\">Pkg211</text></a><!--MD5=[09b614a08d8cba4a07c9adeb5e0fee81]\n",
       "class E3--><a href=\"psysml:fe6123c1-7336-461e-a67a-648132fed175\" target=\"_top\" title=\"psysml:fe6123c1-7336-461e-a67a-648132fed175\" xlink:actuate=\"onRequest\" xlink:href=\"psysml:fe6123c1-7336-461e-a67a-648132fed175\" xlink:show=\"new\" xlink:title=\"psysml:fe6123c1-7336-461e-a67a-648132fed175\" xlink:type=\"simple\"><rect fill=\"#FFFFFF\" height=\"45.9375\" id=\"E3\" rx=\"10\" ry=\"10\" style=\"stroke: #383838; stroke-width: 1.5;\" width=\"74\" x=\"265\" y=\"100\"/><text fill=\"#000000\" font-family=\"sans-serif\" font-size=\"12\" font-style=\"italic\" lengthAdjust=\"spacingAndGlyphs\" textLength=\"40\" x=\"282\" y=\"116.1387\">«part»</text><text fill=\"#000000\" font-family=\"sans-serif\" font-size=\"12\" lengthAdjust=\"spacingAndGlyphs\" textLength=\"64\" x=\"268\" y=\"130.1074\">p11: P211</text><line style=\"stroke: #383838; stroke-width: 1.5;\" x1=\"266\" x2=\"338\" y1=\"137.9375\" y2=\"137.9375\"/></a><!--MD5=[ebbe1d658d1005bcc118a6aa81145e00]\n",
       "class E4--><a href=\"psysml:1380541e-fc30-40f5-9a60-edda9aa0065e\" target=\"_top\" title=\"psysml:1380541e-fc30-40f5-9a60-edda9aa0065e\" xlink:actuate=\"onRequest\" xlink:href=\"psysml:1380541e-fc30-40f5-9a60-edda9aa0065e\" xlink:show=\"new\" xlink:title=\"psysml:1380541e-fc30-40f5-9a60-edda9aa0065e\" xlink:type=\"simple\"><rect fill=\"#FFFFFF\" height=\"45.9375\" id=\"E4\" style=\"stroke: #383838; stroke-width: 1.5;\" width=\"70\" x=\"374\" y=\"100\"/><text fill=\"#000000\" font-family=\"sans-serif\" font-size=\"12\" font-style=\"italic\" lengthAdjust=\"spacingAndGlyphs\" textLength=\"68\" x=\"375\" y=\"116.1387\">«part  def»</text><text fill=\"#000000\" font-family=\"sans-serif\" font-size=\"12\" lengthAdjust=\"spacingAndGlyphs\" textLength=\"24\" x=\"397\" y=\"130.1074\">P12</text><line style=\"stroke: #383838; stroke-width: 1.5;\" x1=\"375\" x2=\"443\" y1=\"137.9375\" y2=\"137.9375\"/></a><!--MD5=[b9389687b975829384b498ac4b7476b2]\n",
       "class E8--><a href=\"psysml:4acbdff1-c8fe-48cb-afd1-a68daa112cad\" target=\"_top\" title=\"psysml:4acbdff1-c8fe-48cb-afd1-a68daa112cad\" xlink:actuate=\"onRequest\" xlink:href=\"psysml:4acbdff1-c8fe-48cb-afd1-a68daa112cad\" xlink:show=\"new\" xlink:title=\"psysml:4acbdff1-c8fe-48cb-afd1-a68daa112cad\" xlink:type=\"simple\"><rect fill=\"#FFFFFF\" height=\"45.9375\" id=\"E8\" style=\"stroke: #383838; stroke-width: 1.5;\" width=\"70\" x=\"252\" y=\"396\"/><text fill=\"#000000\" font-family=\"sans-serif\" font-size=\"12\" font-style=\"italic\" lengthAdjust=\"spacingAndGlyphs\" textLength=\"68\" x=\"253\" y=\"412.1387\">«part  def»</text><text fill=\"#000000\" font-family=\"sans-serif\" font-size=\"12\" lengthAdjust=\"spacingAndGlyphs\" textLength=\"32\" x=\"271\" y=\"426.1074\">P211</text><line style=\"stroke: #383838; stroke-width: 1.5;\" x1=\"253\" x2=\"321\" y1=\"433.9375\" y2=\"433.9375\"/></a><!--MD5=[b0060bfdb0500b904584095522b4da3c]\n",
       "link E2 to E8--><a href=\"psysml:4f20d9a0-229b-41ce-a3f9-ec650db8275f\" target=\"_top\" title=\"psysml:4f20d9a0-229b-41ce-a3f9-ec650db8275f\" xlink:actuate=\"onRequest\" xlink:href=\"psysml:4f20d9a0-229b-41ce-a3f9-ec650db8275f\" xlink:show=\"new\" xlink:title=\"psysml:4f20d9a0-229b-41ce-a3f9-ec650db8275f\" xlink:type=\"simple\"><path d=\"M258.5,170.8719 C258.5,171.2838 258.5,171.6975 258.5,172.1131 C258.5,172.9444 258.5,173.783 258.5,174.6287 C258.5,178.0118 258.5,181.5093 258.5,185.1049 C258.5,192.2959 258.5,199.8793 258.5,207.7241 C258.5,223.4138 258.5,240.1494 258.5,256.885 C258.5,323.8275 258.5,390.77 258.5,390.77 \" fill=\"none\" id=\"E2-&gt;E8\" style=\"stroke: #383838; stroke-width: 1.0; stroke-dasharray: 7.0,7.0;\"/><polygon fill=\"#383838\" points=\"258.5,395.77,262.5,386.77,258.5,390.77,254.5,386.77,258.5,395.77\" style=\"stroke: #383838; stroke-width: 1.0;\"/><text fill=\"#000000\" font-family=\"sans-serif\" font-size=\"13\" lengthAdjust=\"spacingAndGlyphs\" textLength=\"58\" x=\"304\" y=\"207.0669\">«import»</text></a><!--MD5=[e3e28c1befcf002155aa15e1416b4315]\n",
       "link E2 to E6--><a href=\"psysml:682e8ea7-bcd5-404d-bf47-54c119ed8bb7\" target=\"_top\" title=\"psysml:682e8ea7-bcd5-404d-bf47-54c119ed8bb7\" xlink:actuate=\"onRequest\" xlink:href=\"psysml:682e8ea7-bcd5-404d-bf47-54c119ed8bb7\" xlink:show=\"new\" xlink:title=\"psysml:682e8ea7-bcd5-404d-bf47-54c119ed8bb7\" xlink:type=\"simple\"><path d=\"M221.8499,123 C221.7697,123 221.6889,123 221.6078,123 C221.4454,123 221.2813,123 221.1154,123 C220.7835,123 220.4447,123 220.0992,123 C219.4083,123 218.6908,123 217.9502,123 C212.0247,123 204.6106,123 197.3588,123 C182.855,123 169,123 169,123 C169,123 169,193.5725 169,265.7988 C169,274.827 169,283.8812 169,292.8265 \" fill=\"none\" id=\"E2-&gt;E6\" style=\"stroke: #383838; stroke-width: 1.0; stroke-dasharray: 7.0,7.0;\"/><polygon fill=\"#383838\" points=\"169,292.8265,173,283.8265,169,287.8265,165,283.8265,169,292.8265\" style=\"stroke: #383838; stroke-width: 1.0;\"/><text fill=\"#000000\" font-family=\"sans-serif\" font-size=\"13\" lengthAdjust=\"spacingAndGlyphs\" textLength=\"65\" x=\"68\" y=\"207.0669\">«import»*</text></a><!--MD5=[e3d2a08a9c9236652057e8ed0cbc9b62]\n",
       "link E2 to E7--><a href=\"psysml:60c32f43-2902-493b-8362-f480edbb78ed\" target=\"_top\" title=\"psysml:60c32f43-2902-493b-8362-f480edbb78ed\" xlink:actuate=\"onRequest\" xlink:href=\"psysml:60c32f43-2902-493b-8362-f480edbb78ed\" xlink:show=\"new\" xlink:title=\"psysml:60c32f43-2902-493b-8362-f480edbb78ed\" xlink:type=\"simple\"><path d=\"M230,170.0237 C230,171.7278 230,173.4661 230,175.2364 C230,203.5616 230,240.0881 230,276.2013 C230,294.2578 230,312.211 230,328.984 C230,333.1773 230,337.2967 230,341.3256 C230,343.3401 230,345.3319 230,347.2989 C230,348.2824 230,349.2598 230,350.2307 C230,350.7161 230,351.1999 230,351.6821 C230,351.9232 230,352.1639 230,352.4042 \" fill=\"none\" id=\"E2-&gt;E7\" style=\"stroke: #383838; stroke-width: 1.0; stroke-dasharray: 7.0,7.0;\"/><polygon fill=\"#383838\" points=\"230,352.4042,234,343.4042,230,347.4042,226,343.4042,230,352.4042\" style=\"stroke: #383838; stroke-width: 1.0;\"/><text fill=\"#000000\" font-family=\"sans-serif\" font-size=\"13\" lengthAdjust=\"spacingAndGlyphs\" textLength=\"87\" x=\"175\" y=\"207.0669\">«import»*::**</text></a><!--MD5=[ca5a752d6098d8a44b3f88316e7452d1]\n",
       "link E3 to E8--><a href=\"psysml:37accf74-aaef-4298-a8d1-458e277c829e\" target=\"_top\" title=\"psysml:37accf74-aaef-4298-a8d1-458e277c829e\" xlink:actuate=\"onRequest\" xlink:href=\"psysml:37accf74-aaef-4298-a8d1-458e277c829e\" xlink:show=\"new\" xlink:title=\"psysml:37accf74-aaef-4298-a8d1-458e277c829e\" xlink:type=\"simple\"><path d=\"M293.5,146.23 C293.5,146.23 293.5,375.88 293.5,375.88 \" fill=\"none\" id=\"E3-&gt;E8\" style=\"stroke: #383838; stroke-width: 1.0;\"/><polygon fill=\"#FFFFFF\" points=\"293.5,395.88,286.5,376.88,300.5,376.88,293.5,395.88\" style=\"stroke: #383838; stroke-width: 1.0;\"/><ellipse cx=\"288.5\" cy=\"371.18\" fill=\"#383838\" rx=\"2\" ry=\"2\" style=\"stroke: #383838; stroke-width: 1.0;\"/><ellipse cx=\"298.5\" cy=\"371.18\" fill=\"#383838\" rx=\"2\" ry=\"2\" style=\"stroke: #383838; stroke-width: 1.0;\"/></a><!--MD5=[15ebcb19ae302d9b601edb458606d402]\n",
       "link E5 to E2--><a href=\"psysml:a29f5286-6760-4cc8-8866-2ed3ee4f3eda\" target=\"_top\" title=\"psysml:a29f5286-6760-4cc8-8866-2ed3ee4f3eda\" xlink:actuate=\"onRequest\" xlink:href=\"psysml:a29f5286-6760-4cc8-8866-2ed3ee4f3eda\" xlink:show=\"new\" xlink:title=\"psysml:a29f5286-6760-4cc8-8866-2ed3ee4f3eda\" xlink:type=\"simple\"><path d=\"M356.5,234.7237 C356.5,229.4786 356.5,224.2542 356.5,219.0708 C356.5,208.7041 356.5,198.502 356.5,188.6289 C356.5,183.6924 356.5,178.8381 356.5,174.0867 C356.5,172.8989 356.5,171.7175 356.5,170.5428 C356.5,170.3959 356.5,170.2492 356.5,170.1026 \" fill=\"none\" id=\"E5-&gt;E2\" style=\"stroke: #383838; stroke-width: 1.0; stroke-dasharray: 7.0,7.0;\"/><polygon fill=\"#383838\" points=\"356.5,170.1026,352.5,179.1026,356.5,175.1026,360.5,179.1026,356.5,170.1026\" style=\"stroke: #383838; stroke-width: 1.0;\"/><text fill=\"#000000\" font-family=\"sans-serif\" font-size=\"13\" lengthAdjust=\"spacingAndGlyphs\" textLength=\"65\" x=\"411\" y=\"207.0669\">«import»*</text></a><!--MD5=[d7bb3fb34add81b710575eb3799fa2ad]\n",
       "link E8 to E4--><a href=\"psysml:d1a96eaf-259a-4888-9f98-ae46b38eb818\" target=\"_top\" title=\"psysml:d1a96eaf-259a-4888-9f98-ae46b38eb818\" xlink:actuate=\"onRequest\" xlink:href=\"psysml:d1a96eaf-259a-4888-9f98-ae46b38eb818\" xlink:show=\"new\" xlink:title=\"psysml:d1a96eaf-259a-4888-9f98-ae46b38eb818\" xlink:type=\"simple\"><path d=\"M322.29,407 C355.28,407 399.5,407 399.5,407 C399.5,407 399.5,166.24 399.5,166.24 \" fill=\"none\" id=\"E8-&gt;E4\" style=\"stroke: #383838; stroke-width: 1.0;\"/><polygon fill=\"none\" points=\"392.5,166.24,399.5,146.24,406.5,166.24,392.5,166.24\" style=\"stroke: #383838; stroke-width: 1.0;\"/></a><!--MD5=[f89ccaaf97f3138bcf8f65b4e83e9e9f]\n",
       "@startuml\r\n",
       "skinparam linetype ortho\r\n",
       "skinparam monochrome true\r\n",
       "skinparam classbackgroundcolor white\r\n",
       "skinparam shadowing false\r\n",
       "skinparam wrapWidth 300\r\n",
       "hide circle\r\n",
       "\r\n",
       "package \"ImportTest\" as E1  [[psysml:4ef55e29-a78c-4120-8a0e-706d60f3b916 ]]  {\r\n",
       "package \"Pkg1\" as E2  [[psysml:fc5e85ef-31d8-4451-b981-c90381fde50e ]]  {\r\n",
       "comp usage \"p11: P211 \" as E3  <<(T,blue) part>> [[psysml:fe6123c1-7336-461e-a67a-648132fed175 ]] {\r\n",
       "}\r\n",
       "comp def \"P12\" as E4  <<(T,blue) part  def>> [[psysml:1380541e-fc30-40f5-9a60-edda9aa0065e ]] {\r\n",
       "}\r\n",
       "}\r\n",
       "package \"Pkg2\" as E5  [[psysml:c270e78f-1935-46bf-a024-66cb4836716b ]]  {\r\n",
       "package \"Pkg21\" as E6  [[psysml:ed944fef-70b9-4524-9917-716ca36e9ac1 ]]  {\r\n",
       "package \"Pkg211\" as E7  [[psysml:9f58dbb8-6a8c-4281-a4ad-0fbab28478f4 ]]  {\r\n",
       "comp def \"P211\" as E8  <<(T,blue) part  def>> [[psysml:4acbdff1-c8fe-48cb-afd1-a68daa112cad ]] {\r\n",
       "}\r\n",
       "}\r\n",
       "}\r\n",
       "}\r\n",
       "}\r\n",
       "E2 ..> E8 [[psysml:4f20d9a0-229b-41ce-a3f9-ec650db8275f ]] : <<import>>\r\n",
       "E2 ..> E6 [[psysml:682e8ea7-bcd5-404d-bf47-54c119ed8bb7 ]] : <<import>>*\r\n",
       "E2 ..> E7 [[psysml:60c32f43-2902-493b-8362-f480edbb78ed ]] : <<import>>*::**\r\n",
       "E3 - -:|> E8 [[psysml:37accf74-aaef-4298-a8d1-458e277c829e ]] \r\n",
       "E5 ..> E2 [[psysml:a29f5286-6760-4cc8-8866-2ed3ee4f3eda ]] : <<import>>*\r\n",
       "E8 - -|> E4 [[psysml:d1a96eaf-259a-4888-9f98-ae46b38eb818 ]] \r\n",
       "@enduml\r\n",
       "\n",
       "PlantUML version 1.2020.13(Sat Jun 13 12:26:38 UTC 2020)\n",
       "(EPL source distribution)\n",
       "Java Runtime: OpenJDK Runtime Environment\n",
       "JVM: OpenJDK 64-Bit Server VM\n",
       "Default Encoding: UTF-8\n",
       "Language: en\n",
       "Country: null\n",
       "--></g></svg>"
      ]
     },
     "execution_count": 57,
     "metadata": {},
     "output_type": "execute_result"
    }
   ],
   "source": [
    "%viz --style=\"ORTHOLINE\" --view=\"MIXED\" \"ImportTest\""
   ]
  }
 ],
 "metadata": {
  "kernelspec": {
   "display_name": "SysML",
   "language": "sysml",
   "name": "sysml"
  },
  "language_info": {
   "codemirror_mode": "sysml",
   "file_extension": ".sysml",
   "mimetype": "text/x-sysml",
   "name": "SysML",
   "pygments_lexer": "java",
   "version": "1.0.0"
  }
 },
 "nbformat": 4,
 "nbformat_minor": 5
}
