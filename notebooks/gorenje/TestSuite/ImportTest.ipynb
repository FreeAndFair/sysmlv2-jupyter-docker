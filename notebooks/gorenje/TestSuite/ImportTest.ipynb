{
 "cells": [
  {
   "cell_type": "markdown",
   "id": "755d19cf",
   "metadata": {},
   "source": [
    "# SysML v2 Test Suite\n",
    "\n",
    "This can notebook can be cleared using menu `Edit --> Clear All Outputs` and then all cells can be\n",
    "run using menu `Run --> Run All Cells`.\n",
    "\n",
    "**WARNING**: This file is generated, all modifications here will be ignored.\n"
   ]
  },
  {
   "cell_type": "markdown",
   "id": "3e1ace5b",
   "metadata": {},
   "source": [
    "## File: ../../sysml/src/examples/Simple Tests/ImportTest.sysml"
   ]
  },
  {
   "cell_type": "code",
   "execution_count": 1,
   "id": "248fe5b0",
   "metadata": {
    "execution": {
     "iopub.execute_input": "2024-12-16T14:16:18.899207Z",
     "iopub.status.busy": "2024-12-16T14:16:18.898777Z",
     "iopub.status.idle": "2024-12-16T14:16:19.122614Z",
     "shell.execute_reply": "2024-12-16T14:16:19.122163Z"
    }
   },
   "outputs": [
    {
     "data": {
      "text/plain": [
       "Package ImportTest (257ae3bb-e982-4f23-93ec-21786cef6fd4)\n"
      ]
     },
     "execution_count": 1,
     "metadata": {},
     "output_type": "execute_result"
    }
   ],
   "source": [
    "package ImportTest {\n",
    "    package Pkg1 {\n",
    "    \tprivate import Pkg2::Pkg21::Pkg211::P211;\n",
    "    \tprivate import Pkg2::Pkg21::*;\n",
    "    \tprivate import Pkg211::*::**;\n",
    "        part p11 : Pkg211::P211;\n",
    "        part def P12;\n",
    "    }\n",
    "\n",
    "    package Pkg2 {\n",
    "        private import Pkg1::*;\n",
    "        package Pkg21 {\n",
    "        \tpackage Pkg211 {\n",
    "        \t\tpart def P211 :> P12;\n",
    "        \t}\n",
    "        }\n",
    "    }\n",
    "}"
   ]
  },
  {
   "cell_type": "code",
   "execution_count": 2,
   "id": "f2c08022",
   "metadata": {
    "execution": {
     "iopub.execute_input": "2024-12-16T14:16:19.174886Z",
     "iopub.status.busy": "2024-12-16T14:16:19.174666Z",
     "iopub.status.idle": "2024-12-16T14:16:19.640354Z",
     "shell.execute_reply": "2024-12-16T14:16:19.639507Z"
    }
   },
   "outputs": [
    {
     "data": {
      "image/svg+xml": [
       "<?xml version=\"1.0\" encoding=\"UTF-8\" standalone=\"no\"?><svg xmlns=\"http://www.w3.org/2000/svg\" xmlns:xlink=\"http://www.w3.org/1999/xlink\" contentStyleType=\"text/css\" height=\"589px\" preserveAspectRatio=\"none\" style=\"width:517px;height:589px;background:#FFFFFF;\" version=\"1.1\" viewBox=\"0 0 517 589\" width=\"517px\" zoomAndPan=\"magnify\"><defs/><g><!--MD5=[fbc87193dbaf4d95561dea2c320d4a47]\n",
       "cluster E1--><g id=\"cluster_E1\"><a href=\"psysml:257ae3bb-e982-4f23-93ec-21786cef6fd4\" target=\"_top\" title=\"psysml:257ae3bb-e982-4f23-93ec-21786cef6fd4\" xlink:actuate=\"onRequest\" xlink:href=\"psysml:257ae3bb-e982-4f23-93ec-21786cef6fd4\" xlink:show=\"new\" xlink:title=\"psysml:257ae3bb-e982-4f23-93ec-21786cef6fd4\" xlink:type=\"simple\"><polygon fill=\"none\" points=\"16,6,101.375,6,108.375,28.2969,500,28.2969,500,582,16,582,16,6\" style=\"stroke:#000000;stroke-width:1.5;\"/><line style=\"stroke:#000000;stroke-width:1.5;\" x1=\"16\" x2=\"108.375\" y1=\"28.2969\" y2=\"28.2969\"/><text fill=\"#000000\" font-family=\"sans-serif\" font-size=\"14\" font-weight=\"bold\" lengthAdjust=\"spacing\" textLength=\"79.375\" x=\"20\" y=\"20.9951\">ImportTest</text></a></g><!--MD5=[e4f7fae6ed58524ba242bb0b0d3be6b7]\n",
       "cluster E2--><g id=\"cluster_E2\"><a href=\"psysml:d86f8a04-756e-41fe-890d-bee1afc1808f\" target=\"_top\" title=\"psysml:d86f8a04-756e-41fe-890d-bee1afc1808f\" xlink:actuate=\"onRequest\" xlink:href=\"psysml:d86f8a04-756e-41fe-890d-bee1afc1808f\" xlink:show=\"new\" xlink:title=\"psysml:d86f8a04-756e-41fe-890d-bee1afc1808f\" xlink:type=\"simple\"><polygon fill=\"none\" points=\"210,57,252.75,57,259.75,79.2969,468,79.2969,468,172,210,172,210,57\" style=\"stroke:#000000;stroke-width:1.5;\"/><line style=\"stroke:#000000;stroke-width:1.5;\" x1=\"210\" x2=\"259.75\" y1=\"79.2969\" y2=\"79.2969\"/><text fill=\"#000000\" font-family=\"sans-serif\" font-size=\"14\" font-weight=\"bold\" lengthAdjust=\"spacing\" textLength=\"36.75\" x=\"214\" y=\"71.9951\">Pkg1</text></a></g><!--MD5=[de5ec2e2e8f62f467e546659f5068c88]\n",
       "cluster E5--><g id=\"cluster_E5\"><a href=\"psysml:87b5aefc-a384-45d2-9563-354f132d05b6\" target=\"_top\" title=\"psysml:87b5aefc-a384-45d2-9563-354f132d05b6\" xlink:actuate=\"onRequest\" xlink:href=\"psysml:87b5aefc-a384-45d2-9563-354f132d05b6\" xlink:show=\"new\" xlink:title=\"psysml:87b5aefc-a384-45d2-9563-354f132d05b6\" xlink:type=\"simple\"><polygon fill=\"none\" points=\"121,237,163.75,237,170.75,259.2969,434,259.2969,434,550,121,550,121,237\" style=\"stroke:#000000;stroke-width:1.5;\"/><line style=\"stroke:#000000;stroke-width:1.5;\" x1=\"121\" x2=\"170.75\" y1=\"259.2969\" y2=\"259.2969\"/><text fill=\"#000000\" font-family=\"sans-serif\" font-size=\"14\" font-weight=\"bold\" lengthAdjust=\"spacing\" textLength=\"36.75\" x=\"125\" y=\"251.9951\">Pkg2</text></a></g><!--MD5=[14e3b0961a2654348d326746436168a1]\n",
       "cluster E6--><g id=\"cluster_E6\"><a href=\"psysml:74f758db-603d-4dff-97e1-05ce4d0c3ab8\" target=\"_top\" title=\"psysml:74f758db-603d-4dff-97e1-05ce4d0c3ab8\" xlink:actuate=\"onRequest\" xlink:href=\"psysml:74f758db-603d-4dff-97e1-05ce4d0c3ab8\" xlink:show=\"new\" xlink:title=\"psysml:74f758db-603d-4dff-97e1-05ce4d0c3ab8\" xlink:type=\"simple\"><polygon fill=\"none\" points=\"161,296,213.1875,296,220.1875,318.2969,386,318.2969,386,510,161,510,161,296\" style=\"stroke:#000000;stroke-width:1.5;\"/><line style=\"stroke:#000000;stroke-width:1.5;\" x1=\"161\" x2=\"220.1875\" y1=\"318.2969\" y2=\"318.2969\"/><text fill=\"#000000\" font-family=\"sans-serif\" font-size=\"14\" font-weight=\"bold\" lengthAdjust=\"spacing\" textLength=\"46.1875\" x=\"165\" y=\"310.9951\">Pkg21</text></a></g><!--MD5=[168fadf3d0c3fd93dd5d6da1b1d7ab76]\n",
       "cluster E7--><g id=\"cluster_E7\"><a href=\"psysml:c9292eea-a9ed-4d7d-b554-73a415b23d76\" target=\"_top\" title=\"psysml:c9292eea-a9ed-4d7d-b554-73a415b23d76\" xlink:actuate=\"onRequest\" xlink:href=\"psysml:c9292eea-a9ed-4d7d-b554-73a415b23d76\" xlink:show=\"new\" xlink:title=\"psysml:c9292eea-a9ed-4d7d-b554-73a415b23d76\" xlink:type=\"simple\"><polygon fill=\"none\" points=\"209,355,270.625,355,277.625,377.2969,346,377.2969,346,470,209,470,209,355\" style=\"stroke:#000000;stroke-width:1.5;\"/><line style=\"stroke:#000000;stroke-width:1.5;\" x1=\"209\" x2=\"277.625\" y1=\"377.2969\" y2=\"377.2969\"/><text fill=\"#000000\" font-family=\"sans-serif\" font-size=\"14\" font-weight=\"bold\" lengthAdjust=\"spacing\" textLength=\"55.625\" x=\"213\" y=\"369.9951\">Pkg211</text></a></g><!--MD5=[09b614a08d8cba4a07c9adeb5e0fee81]\n",
       "class E3--><a href=\"psysml:c9f16dae-c47d-4af9-8178-9fb29f2ca8fe\" target=\"_top\" title=\"psysml:c9f16dae-c47d-4af9-8178-9fb29f2ca8fe\" xlink:actuate=\"onRequest\" xlink:href=\"psysml:c9f16dae-c47d-4af9-8178-9fb29f2ca8fe\" xlink:show=\"new\" xlink:title=\"psysml:c9f16dae-c47d-4af9-8178-9fb29f2ca8fe\" xlink:type=\"simple\"><g id=\"elem_E3\"><rect fill=\"#FFFFFF\" height=\"48.2656\" id=\"E3\" rx=\"10\" ry=\"10\" style=\"stroke:#181818;stroke-width:0.5;\" width=\"86\" x=\"253\" y=\"100\"/><text fill=\"#000000\" font-family=\"sans-serif\" font-size=\"12\" font-style=\"italic\" lengthAdjust=\"spacing\" textLength=\"40\" x=\"276\" y=\"116.1387\">«part»</text><text fill=\"#000000\" font-family=\"sans-serif\" font-size=\"14\" lengthAdjust=\"spacing\" textLength=\"72\" x=\"256\" y=\"131.9639\">p11: P211</text><line style=\"stroke:#181818;stroke-width:0.5;\" x1=\"254\" x2=\"338\" y1=\"140.2656\" y2=\"140.2656\"/></g></a><!--MD5=[ebbe1d658d1005bcc118a6aa81145e00]\n",
       "class E4--><a href=\"psysml:5a85d6e7-c399-4e25-bc8b-7b1310ff596a\" target=\"_top\" title=\"psysml:5a85d6e7-c399-4e25-bc8b-7b1310ff596a\" xlink:actuate=\"onRequest\" xlink:href=\"psysml:5a85d6e7-c399-4e25-bc8b-7b1310ff596a\" xlink:show=\"new\" xlink:title=\"psysml:5a85d6e7-c399-4e25-bc8b-7b1310ff596a\" xlink:type=\"simple\"><g id=\"elem_E4\"><rect fill=\"#FFFFFF\" height=\"48.2656\" id=\"E4\" style=\"stroke:#181818;stroke-width:0.5;\" width=\"70\" x=\"374\" y=\"100\"/><text fill=\"#000000\" font-family=\"sans-serif\" font-size=\"12\" font-style=\"italic\" lengthAdjust=\"spacing\" textLength=\"68\" x=\"375\" y=\"116.1387\">«part  def»</text><text fill=\"#000000\" font-family=\"sans-serif\" font-size=\"14\" lengthAdjust=\"spacing\" textLength=\"27\" x=\"395.5\" y=\"131.9639\">P12</text><line style=\"stroke:#181818;stroke-width:0.5;\" x1=\"375\" x2=\"443\" y1=\"140.2656\" y2=\"140.2656\"/></g></a><!--MD5=[b9389687b975829384b498ac4b7476b2]\n",
       "class E8--><a href=\"psysml:60f2756c-cfe4-4496-b687-ff5dbf9a385d\" target=\"_top\" title=\"psysml:60f2756c-cfe4-4496-b687-ff5dbf9a385d\" xlink:actuate=\"onRequest\" xlink:href=\"psysml:60f2756c-cfe4-4496-b687-ff5dbf9a385d\" xlink:show=\"new\" xlink:title=\"psysml:60f2756c-cfe4-4496-b687-ff5dbf9a385d\" xlink:type=\"simple\"><g id=\"elem_E8\"><rect fill=\"#FFFFFF\" height=\"48.2656\" id=\"E8\" style=\"stroke:#181818;stroke-width:0.5;\" width=\"70\" x=\"252\" y=\"398\"/><text fill=\"#000000\" font-family=\"sans-serif\" font-size=\"12\" font-style=\"italic\" lengthAdjust=\"spacing\" textLength=\"68\" x=\"253\" y=\"414.1387\">«part  def»</text><text fill=\"#000000\" font-family=\"sans-serif\" font-size=\"14\" lengthAdjust=\"spacing\" textLength=\"36\" x=\"269\" y=\"429.9639\">P211</text><line style=\"stroke:#181818;stroke-width:0.5;\" x1=\"253\" x2=\"321\" y1=\"438.2656\" y2=\"438.2656\"/></g></a><!--MD5=[b0060bfdb0500b904584095522b4da3c]\n",
       "link E2 to E8--><g id=\"link_E2_E8\"><a href=\"psysml:7a09cf9a-4d44-4715-925a-a999429b18c6\" target=\"_top\" title=\"psysml:7a09cf9a-4d44-4715-925a-a999429b18c6\" xlink:actuate=\"onRequest\" xlink:href=\"psysml:7a09cf9a-4d44-4715-925a-a999429b18c6\" xlink:show=\"new\" xlink:title=\"psysml:7a09cf9a-4d44-4715-925a-a999429b18c6\" xlink:type=\"simple\"><path d=\"M226.4784,172.2619 C226.5244,172.3641 226.5707,172.4663 226.6172,172.5683 C226.9895,173.3846 227.3777,174.1934 227.7824,174.9929 C228.5919,176.5919 229.4675,178.1539 230.4147,179.6646 C232.3092,182.6861 234.49,185.5025 237,188 C245.87,196.83 256.01,186.37 264,196 C310.7,252.32 301.61,345.84 293.2,392.58 \" fill=\"none\" id=\"E2-to-E8\" style=\"stroke:#181818;stroke-width:1.0;stroke-dasharray:7.0,7.0;\"/><polygon fill=\"#181818\" points=\"292.23,397.77,297.8087,389.6535,293.1445,392.8543,289.9437,388.1902,292.23,397.77\" style=\"stroke:#181818;stroke-width:1.0;\"/><text fill=\"#000000\" font-family=\"sans-serif\" font-size=\"13\" lengthAdjust=\"spacing\" textLength=\"58\" x=\"275\" y=\"209.0669\">«import»</text></a></g><!--MD5=[e3e28c1befcf002155aa15e1416b4315]\n",
       "link E2 to E6--><g id=\"link_E2_E6\"><a href=\"psysml:4d48d5b8-8a2b-403b-a600-382befb1c751\" target=\"_top\" title=\"psysml:4d48d5b8-8a2b-403b-a600-382befb1c751\" xlink:actuate=\"onRequest\" xlink:href=\"psysml:4d48d5b8-8a2b-403b-a600-382befb1c751\" xlink:show=\"new\" xlink:title=\"psysml:4d48d5b8-8a2b-403b-a600-382befb1c751\" xlink:type=\"simple\"><path d=\"M209.7844,126.6885 C209.6745,126.7134 209.5637,126.7387 209.4519,126.7642 C209.0046,126.8663 208.5422,126.9732 208.065,127.085 C206.1563,127.532 204.0125,128.0567 201.6694,128.6645 C192.2969,131.0959 179.735,134.8581 166.2725,140.3037 C139.3475,151.195 108.82,168.82 93,196 C66.865,240.9 84.8675,296.1075 109.8912,340.5988 C122.4031,362.8444 136.6703,382.4109 148.0533,396.6705 C150.899,400.2354 153.5645,403.4685 155.9772,406.329 C157.1836,407.7592 158.3268,409.0962 159.3977,410.335 C159.9331,410.9543 160.4505,411.5491 160.9487,412.1186 \" fill=\"none\" id=\"E2-to-E6\" style=\"stroke:#181818;stroke-width:1.0;stroke-dasharray:7.0,7.0;\"/><polygon fill=\"#181818\" points=\"160.9487,412.1186,158.034,402.711,157.6568,408.3552,152.0125,407.9781,160.9487,412.1186\" style=\"stroke:#181818;stroke-width:1.0;\"/><text fill=\"#000000\" font-family=\"sans-serif\" font-size=\"13\" lengthAdjust=\"spacing\" textLength=\"65\" x=\"94\" y=\"209.0669\">«import»*</text></a></g><!--MD5=[e3d2a08a9c9236652057e8ed0cbc9b62]\n",
       "link E2 to E7--><g id=\"link_E2_E7\"><a href=\"psysml:435ffdce-fa99-42b8-aa7d-b79facf9bf9f\" target=\"_top\" title=\"psysml:435ffdce-fa99-42b8-aa7d-b79facf9bf9f\" xlink:actuate=\"onRequest\" xlink:href=\"psysml:435ffdce-fa99-42b8-aa7d-b79facf9bf9f\" xlink:show=\"new\" xlink:title=\"psysml:435ffdce-fa99-42b8-aa7d-b79facf9bf9f\" xlink:type=\"simple\"><path d=\"M209.9156,133.4819 C209.8545,133.5495 209.7932,133.6175 209.7316,133.6858 C209.239,134.2321 208.7304,134.801 208.2074,135.3916 C207.1616,136.5729 206.0584,137.8408 204.9115,139.188 C202.6178,141.8824 200.1494,144.8941 197.615,148.1638 C187.4775,161.2425 176.285,178.45 171,196 C168.82,203.23 166.18,207.18 171,213 C183.11,227.64 200.74,206.48 213,221 C227.115,237.715 228.305,286.425 225.8738,331.5863 C225.5698,337.2314 225.2094,342.8211 224.8105,348.2859 C224.7107,349.6522 224.6086,351.0106 224.5044,352.3601 C224.4522,353.0348 224.3996,353.7074 224.3464,354.3776 \" fill=\"none\" id=\"E2-to-E7\" style=\"stroke:#181818;stroke-width:1.0;stroke-dasharray:7.0,7.0;\"/><polygon fill=\"#181818\" points=\"224.3464,354.3776,229.0454,345.7219,224.7417,349.3932,221.0704,345.0895,224.3464,354.3776\" style=\"stroke:#181818;stroke-width:1.0;\"/><text fill=\"#000000\" font-family=\"sans-serif\" font-size=\"13\" lengthAdjust=\"spacing\" textLength=\"87\" x=\"172\" y=\"209.0669\">«import»*::**</text></a></g><!--MD5=[ca5a752d6098d8a44b3f88316e7452d1]\n",
       "link E3 to E8--><g id=\"link_E3_E8\"><a href=\"psysml:c2b3862a-e64c-4984-9133-ea986cde4555\" target=\"_top\" title=\"psysml:c2b3862a-e64c-4984-9133-ea986cde4555\" xlink:actuate=\"onRequest\" xlink:href=\"psysml:c2b3862a-e64c-4984-9133-ea986cde4555\" xlink:show=\"new\" xlink:title=\"psysml:c2b3862a-e64c-4984-9133-ea986cde4555\" xlink:type=\"simple\"><path d=\"M318.74,148.33 C338.26,168.43 363.38,194.46 364,196 C366.82,203.01 368.76,207.13 364,213 C353.13,226.4 338.11,208.71 326,221 C285.35,262.26 280.75,332.54 282.7,377.85 \" fill=\"none\" id=\"E3-to-E8\" style=\"stroke:#181818;stroke-width:1.0;\"/><polygon fill=\"#FFFFFF\" points=\"284.06,397.85,275.7871,379.3687,289.7548,378.4189,284.06,397.85\" style=\"stroke:#181818;stroke-width:1.0;\"/><ellipse cx=\"277.3957\" cy=\"373.5461\" fill=\"#181818\" rx=\"2\" ry=\"2\" style=\"stroke:#181818;stroke-width:1.0;\"/><ellipse cx=\"287.3727\" cy=\"372.8677\" fill=\"#181818\" rx=\"2\" ry=\"2\" style=\"stroke:#181818;stroke-width:1.0;\"/></a></g><!--MD5=[15ebcb19ae302d9b601edb458606d402]\n",
       "link E5 to E2--><g id=\"link_E5_E2\"><a href=\"psysml:2e43f05d-56e8-4995-94de-93836f9907a6\" target=\"_top\" title=\"psysml:2e43f05d-56e8-4995-94de-93836f9907a6\" xlink:actuate=\"onRequest\" xlink:href=\"psysml:2e43f05d-56e8-4995-94de-93836f9907a6\" xlink:show=\"new\" xlink:title=\"psysml:2e43f05d-56e8-4995-94de-93836f9907a6\" xlink:type=\"simple\"><path d=\"M378.9609,236.6531 C378.738,236.3074 378.5141,235.9625 378.2891,235.6183 C377.389,234.2417 376.472,232.8777 375.5377,231.5272 C373.669,228.8262 371.7312,226.1791 369.7216,223.5936 C361.6834,213.2516 352.4975,203.8938 342,196 C323.3,181.94 255.24,202.66 237,188 C234.24,185.7813 231.8698,183.1761 229.8356,180.3106 C228.8185,178.8779 227.8853,177.3801 227.0294,175.833 C226.6014,175.0595 226.1928,174.2736 225.8026,173.4773 C225.6075,173.0792 225.417,172.6785 225.231,172.2755 \" fill=\"none\" id=\"E5-to-E2\" style=\"stroke:#181818;stroke-width:1.0;stroke-dasharray:7.0,7.0;\"/><polygon fill=\"#181818\" points=\"225.231,172.2755,225.3696,182.1233,227.3258,176.8155,232.6337,178.7717,225.231,172.2755\" style=\"stroke:#181818;stroke-width:1.0;\"/><text fill=\"#000000\" font-family=\"sans-serif\" font-size=\"13\" lengthAdjust=\"spacing\" textLength=\"65\" x=\"357\" y=\"209.0669\">«import»*</text></a></g><!--MD5=[d7bb3fb34add81b710575eb3799fa2ad]\n",
       "link E8 to E4--><g id=\"link_E8_E4\"><a href=\"psysml:6ab4f965-70f0-4435-9c9c-0953ad10c713\" target=\"_top\" title=\"psysml:6ab4f965-70f0-4435-9c9c-0953ad10c713\" xlink:actuate=\"onRequest\" xlink:href=\"psysml:6ab4f965-70f0-4435-9c9c-0953ad10c713\" xlink:show=\"new\" xlink:title=\"psysml:6ab4f965-70f0-4435-9c9c-0953ad10c713\" xlink:type=\"simple\"><path d=\"M283.44,397.77 C278.41,355.31 274.86,265.44 326,221 C338.77,209.91 466.36,225.27 478,213 C494.05,196.08 479.84,175.66 460.24,158.75 \" fill=\"none\" id=\"E8-to-E4\" style=\"stroke:#181818;stroke-width:1.0;\"/><polygon fill=\"none\" points=\"455.75,164.13,444.23,146.35,464.32,153.06,455.75,164.13\" style=\"stroke:#181818;stroke-width:1.0;\"/></a></g><!--MD5=[076721ecca0fc17ae6a8d27b637d040c]\n",
       "@startuml\r\n",
       "skin sysmlbw\r\n",
       "skinparam monochrome true\r\n",
       "skinparam wrapWidth 300\r\n",
       "hide circle\r\n",
       " \r\n",
       "package \"ImportTest\" as E1  [[psysml:257ae3bb-e982-4f23-93ec-21786cef6fd4 ]]  {\r\n",
       "package \"Pkg1\" as E2  [[psysml:d86f8a04-756e-41fe-890d-bee1afc1808f ]]  {\r\n",
       "comp usage \"p11: P211  \" as E3  <<(T,blue) part>> [[psysml:c9f16dae-c47d-4af9-8178-9fb29f2ca8fe ]] {\r\n",
       "}\r\n",
       "comp def \"P12\" as E4  <<(T,blue) part  def>> [[psysml:5a85d6e7-c399-4e25-bc8b-7b1310ff596a ]] {\r\n",
       "}\r\n",
       "}\r\n",
       "package \"Pkg2\" as E5  [[psysml:87b5aefc-a384-45d2-9563-354f132d05b6 ]]  {\r\n",
       "package \"Pkg21\" as E6  [[psysml:74f758db-603d-4dff-97e1-05ce4d0c3ab8 ]]  {\r\n",
       "package \"Pkg211\" as E7  [[psysml:c9292eea-a9ed-4d7d-b554-73a415b23d76 ]]  {\r\n",
       "comp def \"P211\" as E8  <<(T,blue) part  def>> [[psysml:60f2756c-cfe4-4496-b687-ff5dbf9a385d ]] {\r\n",
       "}\r\n",
       "}\r\n",
       "}\r\n",
       "}\r\n",
       "}\r\n",
       "E2 ..> E8 [[psysml:7a09cf9a-4d44-4715-925a-a999429b18c6 ]] : <<import>>\r\n",
       "E2 ..> E6 [[psysml:4d48d5b8-8a2b-403b-a600-382befb1c751 ]] : <<import>>*\r\n",
       "E2 ..> E7 [[psysml:435ffdce-fa99-42b8-aa7d-b79facf9bf9f ]] : <<import>>*::**\r\n",
       "E3 - -:|> E8 [[psysml:c2b3862a-e64c-4984-9133-ea986cde4555 ]] \r\n",
       "E5 ..> E2 [[psysml:2e43f05d-56e8-4995-94de-93836f9907a6 ]] : <<import>>*\r\n",
       "E8 - -|> E4 [[psysml:6ab4f965-70f0-4435-9c9c-0953ad10c713 ]] \r\n",
       "@enduml\r\n",
       "\n",
       "PlantUML version 1.2022.7(Mon Aug 22 17:01:30 UTC 2022)\n",
       "(EPL source distribution)\n",
       "Java Runtime: OpenJDK Runtime Environment\n",
       "JVM: OpenJDK 64-Bit Server VM\n",
       "Default Encoding: UTF-8\n",
       "Language: en\n",
       "Country: null\n",
       "--></g></svg>"
      ]
     },
     "execution_count": 2,
     "metadata": {},
     "output_type": "execute_result"
    }
   ],
   "source": [
    "%viz --style=\"COMPTREE\" --view=\"Default\" \"ImportTest\""
   ]
  },
  {
   "cell_type": "code",
   "execution_count": 3,
   "id": "0b8acd42",
   "metadata": {
    "execution": {
     "iopub.execute_input": "2024-12-16T14:16:19.695572Z",
     "iopub.status.busy": "2024-12-16T14:16:19.695350Z",
     "iopub.status.idle": "2024-12-16T14:16:19.737870Z",
     "shell.execute_reply": "2024-12-16T14:16:19.737701Z"
    }
   },
   "outputs": [
    {
     "data": {
      "image/svg+xml": [
       "<?xml version=\"1.0\" encoding=\"UTF-8\" standalone=\"no\"?><svg xmlns=\"http://www.w3.org/2000/svg\" xmlns:xlink=\"http://www.w3.org/1999/xlink\" contentStyleType=\"text/css\" height=\"589px\" preserveAspectRatio=\"none\" style=\"width:517px;height:589px;background:#FFFFFF;\" version=\"1.1\" viewBox=\"0 0 517 589\" width=\"517px\" zoomAndPan=\"magnify\"><defs/><g><!--MD5=[fbc87193dbaf4d95561dea2c320d4a47]\n",
       "cluster E1--><g id=\"cluster_E1\"><a href=\"psysml:257ae3bb-e982-4f23-93ec-21786cef6fd4\" target=\"_top\" title=\"psysml:257ae3bb-e982-4f23-93ec-21786cef6fd4\" xlink:actuate=\"onRequest\" xlink:href=\"psysml:257ae3bb-e982-4f23-93ec-21786cef6fd4\" xlink:show=\"new\" xlink:title=\"psysml:257ae3bb-e982-4f23-93ec-21786cef6fd4\" xlink:type=\"simple\"><polygon fill=\"none\" points=\"16,6,101.375,6,108.375,28.2969,500,28.2969,500,582,16,582,16,6\" style=\"stroke:#000000;stroke-width:1.5;\"/><line style=\"stroke:#000000;stroke-width:1.5;\" x1=\"16\" x2=\"108.375\" y1=\"28.2969\" y2=\"28.2969\"/><text fill=\"#000000\" font-family=\"sans-serif\" font-size=\"14\" font-weight=\"bold\" lengthAdjust=\"spacing\" textLength=\"79.375\" x=\"20\" y=\"20.9951\">ImportTest</text></a></g><!--MD5=[e4f7fae6ed58524ba242bb0b0d3be6b7]\n",
       "cluster E2--><g id=\"cluster_E2\"><a href=\"psysml:d86f8a04-756e-41fe-890d-bee1afc1808f\" target=\"_top\" title=\"psysml:d86f8a04-756e-41fe-890d-bee1afc1808f\" xlink:actuate=\"onRequest\" xlink:href=\"psysml:d86f8a04-756e-41fe-890d-bee1afc1808f\" xlink:show=\"new\" xlink:title=\"psysml:d86f8a04-756e-41fe-890d-bee1afc1808f\" xlink:type=\"simple\"><polygon fill=\"none\" points=\"210,57,252.75,57,259.75,79.2969,468,79.2969,468,172,210,172,210,57\" style=\"stroke:#000000;stroke-width:1.5;\"/><line style=\"stroke:#000000;stroke-width:1.5;\" x1=\"210\" x2=\"259.75\" y1=\"79.2969\" y2=\"79.2969\"/><text fill=\"#000000\" font-family=\"sans-serif\" font-size=\"14\" font-weight=\"bold\" lengthAdjust=\"spacing\" textLength=\"36.75\" x=\"214\" y=\"71.9951\">Pkg1</text></a></g><!--MD5=[de5ec2e2e8f62f467e546659f5068c88]\n",
       "cluster E5--><g id=\"cluster_E5\"><a href=\"psysml:87b5aefc-a384-45d2-9563-354f132d05b6\" target=\"_top\" title=\"psysml:87b5aefc-a384-45d2-9563-354f132d05b6\" xlink:actuate=\"onRequest\" xlink:href=\"psysml:87b5aefc-a384-45d2-9563-354f132d05b6\" xlink:show=\"new\" xlink:title=\"psysml:87b5aefc-a384-45d2-9563-354f132d05b6\" xlink:type=\"simple\"><polygon fill=\"none\" points=\"121,237,163.75,237,170.75,259.2969,434,259.2969,434,550,121,550,121,237\" style=\"stroke:#000000;stroke-width:1.5;\"/><line style=\"stroke:#000000;stroke-width:1.5;\" x1=\"121\" x2=\"170.75\" y1=\"259.2969\" y2=\"259.2969\"/><text fill=\"#000000\" font-family=\"sans-serif\" font-size=\"14\" font-weight=\"bold\" lengthAdjust=\"spacing\" textLength=\"36.75\" x=\"125\" y=\"251.9951\">Pkg2</text></a></g><!--MD5=[14e3b0961a2654348d326746436168a1]\n",
       "cluster E6--><g id=\"cluster_E6\"><a href=\"psysml:74f758db-603d-4dff-97e1-05ce4d0c3ab8\" target=\"_top\" title=\"psysml:74f758db-603d-4dff-97e1-05ce4d0c3ab8\" xlink:actuate=\"onRequest\" xlink:href=\"psysml:74f758db-603d-4dff-97e1-05ce4d0c3ab8\" xlink:show=\"new\" xlink:title=\"psysml:74f758db-603d-4dff-97e1-05ce4d0c3ab8\" xlink:type=\"simple\"><polygon fill=\"none\" points=\"161,296,213.1875,296,220.1875,318.2969,386,318.2969,386,510,161,510,161,296\" style=\"stroke:#000000;stroke-width:1.5;\"/><line style=\"stroke:#000000;stroke-width:1.5;\" x1=\"161\" x2=\"220.1875\" y1=\"318.2969\" y2=\"318.2969\"/><text fill=\"#000000\" font-family=\"sans-serif\" font-size=\"14\" font-weight=\"bold\" lengthAdjust=\"spacing\" textLength=\"46.1875\" x=\"165\" y=\"310.9951\">Pkg21</text></a></g><!--MD5=[168fadf3d0c3fd93dd5d6da1b1d7ab76]\n",
       "cluster E7--><g id=\"cluster_E7\"><a href=\"psysml:c9292eea-a9ed-4d7d-b554-73a415b23d76\" target=\"_top\" title=\"psysml:c9292eea-a9ed-4d7d-b554-73a415b23d76\" xlink:actuate=\"onRequest\" xlink:href=\"psysml:c9292eea-a9ed-4d7d-b554-73a415b23d76\" xlink:show=\"new\" xlink:title=\"psysml:c9292eea-a9ed-4d7d-b554-73a415b23d76\" xlink:type=\"simple\"><polygon fill=\"none\" points=\"209,355,270.625,355,277.625,377.2969,346,377.2969,346,470,209,470,209,355\" style=\"stroke:#000000;stroke-width:1.5;\"/><line style=\"stroke:#000000;stroke-width:1.5;\" x1=\"209\" x2=\"277.625\" y1=\"377.2969\" y2=\"377.2969\"/><text fill=\"#000000\" font-family=\"sans-serif\" font-size=\"14\" font-weight=\"bold\" lengthAdjust=\"spacing\" textLength=\"55.625\" x=\"213\" y=\"369.9951\">Pkg211</text></a></g><!--MD5=[09b614a08d8cba4a07c9adeb5e0fee81]\n",
       "class E3--><a href=\"psysml:c9f16dae-c47d-4af9-8178-9fb29f2ca8fe\" target=\"_top\" title=\"psysml:c9f16dae-c47d-4af9-8178-9fb29f2ca8fe\" xlink:actuate=\"onRequest\" xlink:href=\"psysml:c9f16dae-c47d-4af9-8178-9fb29f2ca8fe\" xlink:show=\"new\" xlink:title=\"psysml:c9f16dae-c47d-4af9-8178-9fb29f2ca8fe\" xlink:type=\"simple\"><g id=\"elem_E3\"><rect fill=\"#FFFFFF\" height=\"48.2656\" id=\"E3\" rx=\"10\" ry=\"10\" style=\"stroke:#181818;stroke-width:0.5;\" width=\"86\" x=\"253\" y=\"100\"/><text fill=\"#000000\" font-family=\"sans-serif\" font-size=\"12\" font-style=\"italic\" lengthAdjust=\"spacing\" textLength=\"40\" x=\"276\" y=\"116.1387\">«part»</text><text fill=\"#000000\" font-family=\"sans-serif\" font-size=\"14\" lengthAdjust=\"spacing\" textLength=\"72\" x=\"256\" y=\"131.9639\">p11: P211</text><line style=\"stroke:#181818;stroke-width:0.5;\" x1=\"254\" x2=\"338\" y1=\"140.2656\" y2=\"140.2656\"/></g></a><!--MD5=[ebbe1d658d1005bcc118a6aa81145e00]\n",
       "class E4--><a href=\"psysml:5a85d6e7-c399-4e25-bc8b-7b1310ff596a\" target=\"_top\" title=\"psysml:5a85d6e7-c399-4e25-bc8b-7b1310ff596a\" xlink:actuate=\"onRequest\" xlink:href=\"psysml:5a85d6e7-c399-4e25-bc8b-7b1310ff596a\" xlink:show=\"new\" xlink:title=\"psysml:5a85d6e7-c399-4e25-bc8b-7b1310ff596a\" xlink:type=\"simple\"><g id=\"elem_E4\"><rect fill=\"#FFFFFF\" height=\"48.2656\" id=\"E4\" style=\"stroke:#181818;stroke-width:0.5;\" width=\"70\" x=\"374\" y=\"100\"/><text fill=\"#000000\" font-family=\"sans-serif\" font-size=\"12\" font-style=\"italic\" lengthAdjust=\"spacing\" textLength=\"68\" x=\"375\" y=\"116.1387\">«part  def»</text><text fill=\"#000000\" font-family=\"sans-serif\" font-size=\"14\" lengthAdjust=\"spacing\" textLength=\"27\" x=\"395.5\" y=\"131.9639\">P12</text><line style=\"stroke:#181818;stroke-width:0.5;\" x1=\"375\" x2=\"443\" y1=\"140.2656\" y2=\"140.2656\"/></g></a><!--MD5=[b9389687b975829384b498ac4b7476b2]\n",
       "class E8--><a href=\"psysml:60f2756c-cfe4-4496-b687-ff5dbf9a385d\" target=\"_top\" title=\"psysml:60f2756c-cfe4-4496-b687-ff5dbf9a385d\" xlink:actuate=\"onRequest\" xlink:href=\"psysml:60f2756c-cfe4-4496-b687-ff5dbf9a385d\" xlink:show=\"new\" xlink:title=\"psysml:60f2756c-cfe4-4496-b687-ff5dbf9a385d\" xlink:type=\"simple\"><g id=\"elem_E8\"><rect fill=\"#FFFFFF\" height=\"48.2656\" id=\"E8\" style=\"stroke:#181818;stroke-width:0.5;\" width=\"70\" x=\"252\" y=\"398\"/><text fill=\"#000000\" font-family=\"sans-serif\" font-size=\"12\" font-style=\"italic\" lengthAdjust=\"spacing\" textLength=\"68\" x=\"253\" y=\"414.1387\">«part  def»</text><text fill=\"#000000\" font-family=\"sans-serif\" font-size=\"14\" lengthAdjust=\"spacing\" textLength=\"36\" x=\"269\" y=\"429.9639\">P211</text><line style=\"stroke:#181818;stroke-width:0.5;\" x1=\"253\" x2=\"321\" y1=\"438.2656\" y2=\"438.2656\"/></g></a><!--MD5=[b0060bfdb0500b904584095522b4da3c]\n",
       "link E2 to E8--><g id=\"link_E2_E8\"><a href=\"psysml:7a09cf9a-4d44-4715-925a-a999429b18c6\" target=\"_top\" title=\"psysml:7a09cf9a-4d44-4715-925a-a999429b18c6\" xlink:actuate=\"onRequest\" xlink:href=\"psysml:7a09cf9a-4d44-4715-925a-a999429b18c6\" xlink:show=\"new\" xlink:title=\"psysml:7a09cf9a-4d44-4715-925a-a999429b18c6\" xlink:type=\"simple\"><path d=\"M226.4784,172.2619 C226.5244,172.3641 226.5707,172.4663 226.6172,172.5683 C226.9895,173.3846 227.3777,174.1934 227.7824,174.9929 C228.5919,176.5919 229.4675,178.1539 230.4147,179.6646 C232.3092,182.6861 234.49,185.5025 237,188 C245.87,196.83 256.01,186.37 264,196 C310.7,252.32 301.61,345.84 293.2,392.58 \" fill=\"none\" id=\"E2-to-E8\" style=\"stroke:#181818;stroke-width:1.0;stroke-dasharray:7.0,7.0;\"/><polygon fill=\"#181818\" points=\"292.23,397.77,297.8087,389.6535,293.1445,392.8543,289.9437,388.1902,292.23,397.77\" style=\"stroke:#181818;stroke-width:1.0;\"/><text fill=\"#000000\" font-family=\"sans-serif\" font-size=\"13\" lengthAdjust=\"spacing\" textLength=\"58\" x=\"275\" y=\"209.0669\">«import»</text></a></g><!--MD5=[e3e28c1befcf002155aa15e1416b4315]\n",
       "link E2 to E6--><g id=\"link_E2_E6\"><a href=\"psysml:4d48d5b8-8a2b-403b-a600-382befb1c751\" target=\"_top\" title=\"psysml:4d48d5b8-8a2b-403b-a600-382befb1c751\" xlink:actuate=\"onRequest\" xlink:href=\"psysml:4d48d5b8-8a2b-403b-a600-382befb1c751\" xlink:show=\"new\" xlink:title=\"psysml:4d48d5b8-8a2b-403b-a600-382befb1c751\" xlink:type=\"simple\"><path d=\"M209.7844,126.6885 C209.6745,126.7134 209.5637,126.7387 209.4519,126.7642 C209.0046,126.8663 208.5422,126.9732 208.065,127.085 C206.1563,127.532 204.0125,128.0567 201.6694,128.6645 C192.2969,131.0959 179.735,134.8581 166.2725,140.3037 C139.3475,151.195 108.82,168.82 93,196 C66.865,240.9 84.8675,296.1075 109.8912,340.5988 C122.4031,362.8444 136.6703,382.4109 148.0533,396.6705 C150.899,400.2354 153.5645,403.4685 155.9772,406.329 C157.1836,407.7592 158.3268,409.0962 159.3977,410.335 C159.9331,410.9543 160.4505,411.5491 160.9487,412.1186 \" fill=\"none\" id=\"E2-to-E6\" style=\"stroke:#181818;stroke-width:1.0;stroke-dasharray:7.0,7.0;\"/><polygon fill=\"#181818\" points=\"160.9487,412.1186,158.034,402.711,157.6568,408.3552,152.0125,407.9781,160.9487,412.1186\" style=\"stroke:#181818;stroke-width:1.0;\"/><text fill=\"#000000\" font-family=\"sans-serif\" font-size=\"13\" lengthAdjust=\"spacing\" textLength=\"65\" x=\"94\" y=\"209.0669\">«import»*</text></a></g><!--MD5=[e3d2a08a9c9236652057e8ed0cbc9b62]\n",
       "link E2 to E7--><g id=\"link_E2_E7\"><a href=\"psysml:435ffdce-fa99-42b8-aa7d-b79facf9bf9f\" target=\"_top\" title=\"psysml:435ffdce-fa99-42b8-aa7d-b79facf9bf9f\" xlink:actuate=\"onRequest\" xlink:href=\"psysml:435ffdce-fa99-42b8-aa7d-b79facf9bf9f\" xlink:show=\"new\" xlink:title=\"psysml:435ffdce-fa99-42b8-aa7d-b79facf9bf9f\" xlink:type=\"simple\"><path d=\"M209.9156,133.4819 C209.8545,133.5495 209.7932,133.6175 209.7316,133.6858 C209.239,134.2321 208.7304,134.801 208.2074,135.3916 C207.1616,136.5729 206.0584,137.8408 204.9115,139.188 C202.6178,141.8824 200.1494,144.8941 197.615,148.1638 C187.4775,161.2425 176.285,178.45 171,196 C168.82,203.23 166.18,207.18 171,213 C183.11,227.64 200.74,206.48 213,221 C227.115,237.715 228.305,286.425 225.8738,331.5863 C225.5698,337.2314 225.2094,342.8211 224.8105,348.2859 C224.7107,349.6522 224.6086,351.0106 224.5044,352.3601 C224.4522,353.0348 224.3996,353.7074 224.3464,354.3776 \" fill=\"none\" id=\"E2-to-E7\" style=\"stroke:#181818;stroke-width:1.0;stroke-dasharray:7.0,7.0;\"/><polygon fill=\"#181818\" points=\"224.3464,354.3776,229.0454,345.7219,224.7417,349.3932,221.0704,345.0895,224.3464,354.3776\" style=\"stroke:#181818;stroke-width:1.0;\"/><text fill=\"#000000\" font-family=\"sans-serif\" font-size=\"13\" lengthAdjust=\"spacing\" textLength=\"87\" x=\"172\" y=\"209.0669\">«import»*::**</text></a></g><!--MD5=[ca5a752d6098d8a44b3f88316e7452d1]\n",
       "link E3 to E8--><g id=\"link_E3_E8\"><a href=\"psysml:c2b3862a-e64c-4984-9133-ea986cde4555\" target=\"_top\" title=\"psysml:c2b3862a-e64c-4984-9133-ea986cde4555\" xlink:actuate=\"onRequest\" xlink:href=\"psysml:c2b3862a-e64c-4984-9133-ea986cde4555\" xlink:show=\"new\" xlink:title=\"psysml:c2b3862a-e64c-4984-9133-ea986cde4555\" xlink:type=\"simple\"><path d=\"M318.74,148.33 C338.26,168.43 363.38,194.46 364,196 C366.82,203.01 368.76,207.13 364,213 C353.13,226.4 338.11,208.71 326,221 C285.35,262.26 280.75,332.54 282.7,377.85 \" fill=\"none\" id=\"E3-to-E8\" style=\"stroke:#181818;stroke-width:1.0;\"/><polygon fill=\"#FFFFFF\" points=\"284.06,397.85,275.7871,379.3687,289.7548,378.4189,284.06,397.85\" style=\"stroke:#181818;stroke-width:1.0;\"/><ellipse cx=\"277.3957\" cy=\"373.5461\" fill=\"#181818\" rx=\"2\" ry=\"2\" style=\"stroke:#181818;stroke-width:1.0;\"/><ellipse cx=\"287.3727\" cy=\"372.8677\" fill=\"#181818\" rx=\"2\" ry=\"2\" style=\"stroke:#181818;stroke-width:1.0;\"/></a></g><!--MD5=[15ebcb19ae302d9b601edb458606d402]\n",
       "link E5 to E2--><g id=\"link_E5_E2\"><a href=\"psysml:2e43f05d-56e8-4995-94de-93836f9907a6\" target=\"_top\" title=\"psysml:2e43f05d-56e8-4995-94de-93836f9907a6\" xlink:actuate=\"onRequest\" xlink:href=\"psysml:2e43f05d-56e8-4995-94de-93836f9907a6\" xlink:show=\"new\" xlink:title=\"psysml:2e43f05d-56e8-4995-94de-93836f9907a6\" xlink:type=\"simple\"><path d=\"M378.9609,236.6531 C378.738,236.3074 378.5141,235.9625 378.2891,235.6183 C377.389,234.2417 376.472,232.8777 375.5377,231.5272 C373.669,228.8262 371.7312,226.1791 369.7216,223.5936 C361.6834,213.2516 352.4975,203.8938 342,196 C323.3,181.94 255.24,202.66 237,188 C234.24,185.7813 231.8698,183.1761 229.8356,180.3106 C228.8185,178.8779 227.8853,177.3801 227.0294,175.833 C226.6014,175.0595 226.1928,174.2736 225.8026,173.4773 C225.6075,173.0792 225.417,172.6785 225.231,172.2755 \" fill=\"none\" id=\"E5-to-E2\" style=\"stroke:#181818;stroke-width:1.0;stroke-dasharray:7.0,7.0;\"/><polygon fill=\"#181818\" points=\"225.231,172.2755,225.3696,182.1233,227.3258,176.8155,232.6337,178.7717,225.231,172.2755\" style=\"stroke:#181818;stroke-width:1.0;\"/><text fill=\"#000000\" font-family=\"sans-serif\" font-size=\"13\" lengthAdjust=\"spacing\" textLength=\"65\" x=\"357\" y=\"209.0669\">«import»*</text></a></g><!--MD5=[d7bb3fb34add81b710575eb3799fa2ad]\n",
       "link E8 to E4--><g id=\"link_E8_E4\"><a href=\"psysml:6ab4f965-70f0-4435-9c9c-0953ad10c713\" target=\"_top\" title=\"psysml:6ab4f965-70f0-4435-9c9c-0953ad10c713\" xlink:actuate=\"onRequest\" xlink:href=\"psysml:6ab4f965-70f0-4435-9c9c-0953ad10c713\" xlink:show=\"new\" xlink:title=\"psysml:6ab4f965-70f0-4435-9c9c-0953ad10c713\" xlink:type=\"simple\"><path d=\"M283.44,397.77 C278.41,355.31 274.86,265.44 326,221 C338.77,209.91 466.36,225.27 478,213 C494.05,196.08 479.84,175.66 460.24,158.75 \" fill=\"none\" id=\"E8-to-E4\" style=\"stroke:#181818;stroke-width:1.0;\"/><polygon fill=\"none\" points=\"455.75,164.13,444.23,146.35,464.32,153.06,455.75,164.13\" style=\"stroke:#181818;stroke-width:1.0;\"/></a></g><!--MD5=[076721ecca0fc17ae6a8d27b637d040c]\n",
       "@startuml\r\n",
       "skin sysmlbw\r\n",
       "skinparam monochrome true\r\n",
       "skinparam wrapWidth 300\r\n",
       "hide circle\r\n",
       " \r\n",
       "package \"ImportTest\" as E1  [[psysml:257ae3bb-e982-4f23-93ec-21786cef6fd4 ]]  {\r\n",
       "package \"Pkg1\" as E2  [[psysml:d86f8a04-756e-41fe-890d-bee1afc1808f ]]  {\r\n",
       "comp usage \"p11: P211  \" as E3  <<(T,blue) part>> [[psysml:c9f16dae-c47d-4af9-8178-9fb29f2ca8fe ]] {\r\n",
       "}\r\n",
       "comp def \"P12\" as E4  <<(T,blue) part  def>> [[psysml:5a85d6e7-c399-4e25-bc8b-7b1310ff596a ]] {\r\n",
       "}\r\n",
       "}\r\n",
       "package \"Pkg2\" as E5  [[psysml:87b5aefc-a384-45d2-9563-354f132d05b6 ]]  {\r\n",
       "package \"Pkg21\" as E6  [[psysml:74f758db-603d-4dff-97e1-05ce4d0c3ab8 ]]  {\r\n",
       "package \"Pkg211\" as E7  [[psysml:c9292eea-a9ed-4d7d-b554-73a415b23d76 ]]  {\r\n",
       "comp def \"P211\" as E8  <<(T,blue) part  def>> [[psysml:60f2756c-cfe4-4496-b687-ff5dbf9a385d ]] {\r\n",
       "}\r\n",
       "}\r\n",
       "}\r\n",
       "}\r\n",
       "}\r\n",
       "E2 ..> E8 [[psysml:7a09cf9a-4d44-4715-925a-a999429b18c6 ]] : <<import>>\r\n",
       "E2 ..> E6 [[psysml:4d48d5b8-8a2b-403b-a600-382befb1c751 ]] : <<import>>*\r\n",
       "E2 ..> E7 [[psysml:435ffdce-fa99-42b8-aa7d-b79facf9bf9f ]] : <<import>>*::**\r\n",
       "E3 - -:|> E8 [[psysml:c2b3862a-e64c-4984-9133-ea986cde4555 ]] \r\n",
       "E5 ..> E2 [[psysml:2e43f05d-56e8-4995-94de-93836f9907a6 ]] : <<import>>*\r\n",
       "E8 - -|> E4 [[psysml:6ab4f965-70f0-4435-9c9c-0953ad10c713 ]] \r\n",
       "@enduml\r\n",
       "\n",
       "PlantUML version 1.2022.7(Mon Aug 22 17:01:30 UTC 2022)\n",
       "(EPL source distribution)\n",
       "Java Runtime: OpenJDK Runtime Environment\n",
       "JVM: OpenJDK 64-Bit Server VM\n",
       "Default Encoding: UTF-8\n",
       "Language: en\n",
       "Country: null\n",
       "--></g></svg>"
      ]
     },
     "execution_count": 3,
     "metadata": {},
     "output_type": "execute_result"
    }
   ],
   "source": [
    "%viz --style=\"COMPTREE\" --view=\"Tree\" \"ImportTest\""
   ]
  },
  {
   "cell_type": "code",
   "execution_count": 4,
   "id": "d79e0f9f",
   "metadata": {
    "execution": {
     "iopub.execute_input": "2024-12-16T14:16:19.791325Z",
     "iopub.status.busy": "2024-12-16T14:16:19.791072Z",
     "iopub.status.idle": "2024-12-16T14:16:19.798070Z",
     "shell.execute_reply": "2024-12-16T14:16:19.797786Z"
    }
   },
   "outputs": [
    {
     "data": {
      "image/svg+xml": [
       "<?xml version=\"1.0\" encoding=\"UTF-8\" standalone=\"no\"?><svg xmlns=\"http://www.w3.org/2000/svg\" xmlns:xlink=\"http://www.w3.org/1999/xlink\" contentStyleType=\"text/css\" height=\"10px\" preserveAspectRatio=\"none\" style=\"width:10px;height:10px;background:#FFFFFF;\" version=\"1.1\" viewBox=\"0 0 10 10\" width=\"10px\" zoomAndPan=\"magnify\"><defs/><g><!--MD5=[ee07d3037018df61283447c7fdb4a44f]\n",
       "@startuml\r\n",
       "skin sysmlbw\r\n",
       "skinparam monochrome true\r\n",
       "skinparam wrapWidth 300\r\n",
       "hide circle\r\n",
       " \r\n",
       "@enduml\r\n",
       "\n",
       "PlantUML version 1.2022.7(Mon Aug 22 17:01:30 UTC 2022)\n",
       "(EPL source distribution)\n",
       "Java Runtime: OpenJDK Runtime Environment\n",
       "JVM: OpenJDK 64-Bit Server VM\n",
       "Default Encoding: UTF-8\n",
       "Language: en\n",
       "Country: null\n",
       "--></g></svg>"
      ]
     },
     "execution_count": 4,
     "metadata": {},
     "output_type": "execute_result"
    }
   ],
   "source": [
    "%viz --style=\"COMPTREE\" --view=\"State\" \"ImportTest\""
   ]
  },
  {
   "cell_type": "code",
   "execution_count": 5,
   "id": "3001a9da",
   "metadata": {
    "execution": {
     "iopub.execute_input": "2024-12-16T14:16:19.854696Z",
     "iopub.status.busy": "2024-12-16T14:16:19.854479Z",
     "iopub.status.idle": "2024-12-16T14:16:19.889731Z",
     "shell.execute_reply": "2024-12-16T14:16:19.889548Z"
    }
   },
   "outputs": [
    {
     "data": {
      "image/svg+xml": [
       "<?xml version=\"1.0\" encoding=\"UTF-8\" standalone=\"no\"?><svg xmlns=\"http://www.w3.org/2000/svg\" xmlns:xlink=\"http://www.w3.org/1999/xlink\" contentStyleType=\"text/css\" height=\"583px\" preserveAspectRatio=\"none\" style=\"width:517px;height:583px;background:#FFFFFF;\" version=\"1.1\" viewBox=\"0 0 517 583\" width=\"517px\" zoomAndPan=\"magnify\"><defs/><g><!--MD5=[fbc87193dbaf4d95561dea2c320d4a47]\n",
       "cluster E1--><g id=\"cluster_E1\"><a href=\"psysml:257ae3bb-e982-4f23-93ec-21786cef6fd4\" target=\"_top\" title=\"psysml:257ae3bb-e982-4f23-93ec-21786cef6fd4\" xlink:actuate=\"onRequest\" xlink:href=\"psysml:257ae3bb-e982-4f23-93ec-21786cef6fd4\" xlink:show=\"new\" xlink:title=\"psysml:257ae3bb-e982-4f23-93ec-21786cef6fd4\" xlink:type=\"simple\"><polygon fill=\"none\" points=\"16,6,101.375,6,108.375,28.2969,500,28.2969,500,576,16,576,16,6\" style=\"stroke:#000000;stroke-width:1.5;\"/><line style=\"stroke:#000000;stroke-width:1.5;\" x1=\"16\" x2=\"108.375\" y1=\"28.2969\" y2=\"28.2969\"/><text fill=\"#000000\" font-family=\"sans-serif\" font-size=\"14\" font-weight=\"bold\" lengthAdjust=\"spacing\" textLength=\"79.375\" x=\"20\" y=\"20.9951\">ImportTest</text></a></g><!--MD5=[e4f7fae6ed58524ba242bb0b0d3be6b7]\n",
       "cluster E2--><g id=\"cluster_E2\"><a href=\"psysml:d86f8a04-756e-41fe-890d-bee1afc1808f\" target=\"_top\" title=\"psysml:d86f8a04-756e-41fe-890d-bee1afc1808f\" xlink:actuate=\"onRequest\" xlink:href=\"psysml:d86f8a04-756e-41fe-890d-bee1afc1808f\" xlink:show=\"new\" xlink:title=\"psysml:d86f8a04-756e-41fe-890d-bee1afc1808f\" xlink:type=\"simple\"><polygon fill=\"none\" points=\"208,57,250.75,57,257.75,79.2969,468,79.2969,468,169,208,169,208,57\" style=\"stroke:#000000;stroke-width:1.5;\"/><line style=\"stroke:#000000;stroke-width:1.5;\" x1=\"208\" x2=\"257.75\" y1=\"79.2969\" y2=\"79.2969\"/><text fill=\"#000000\" font-family=\"sans-serif\" font-size=\"14\" font-weight=\"bold\" lengthAdjust=\"spacing\" textLength=\"36.75\" x=\"212\" y=\"71.9951\">Pkg1</text></a></g><!--MD5=[de5ec2e2e8f62f467e546659f5068c88]\n",
       "cluster E5--><g id=\"cluster_E5\"><a href=\"psysml:87b5aefc-a384-45d2-9563-354f132d05b6\" target=\"_top\" title=\"psysml:87b5aefc-a384-45d2-9563-354f132d05b6\" xlink:actuate=\"onRequest\" xlink:href=\"psysml:87b5aefc-a384-45d2-9563-354f132d05b6\" xlink:show=\"new\" xlink:title=\"psysml:87b5aefc-a384-45d2-9563-354f132d05b6\" xlink:type=\"simple\"><polygon fill=\"none\" points=\"117,234,159.75,234,166.75,256.2969,435,256.2969,435,544,117,544,117,234\" style=\"stroke:#000000;stroke-width:1.5;\"/><line style=\"stroke:#000000;stroke-width:1.5;\" x1=\"117\" x2=\"166.75\" y1=\"256.2969\" y2=\"256.2969\"/><text fill=\"#000000\" font-family=\"sans-serif\" font-size=\"14\" font-weight=\"bold\" lengthAdjust=\"spacing\" textLength=\"36.75\" x=\"121\" y=\"248.9951\">Pkg2</text></a></g><!--MD5=[14e3b0961a2654348d326746436168a1]\n",
       "cluster E6--><g id=\"cluster_E6\"><a href=\"psysml:74f758db-603d-4dff-97e1-05ce4d0c3ab8\" target=\"_top\" title=\"psysml:74f758db-603d-4dff-97e1-05ce4d0c3ab8\" xlink:actuate=\"onRequest\" xlink:href=\"psysml:74f758db-603d-4dff-97e1-05ce4d0c3ab8\" xlink:show=\"new\" xlink:title=\"psysml:74f758db-603d-4dff-97e1-05ce4d0c3ab8\" xlink:type=\"simple\"><polygon fill=\"none\" points=\"157,293,209.1875,293,216.1875,315.2969,387,315.2969,387,504,157,504,157,293\" style=\"stroke:#000000;stroke-width:1.5;\"/><line style=\"stroke:#000000;stroke-width:1.5;\" x1=\"157\" x2=\"216.1875\" y1=\"315.2969\" y2=\"315.2969\"/><text fill=\"#000000\" font-family=\"sans-serif\" font-size=\"14\" font-weight=\"bold\" lengthAdjust=\"spacing\" textLength=\"46.1875\" x=\"161\" y=\"307.9951\">Pkg21</text></a></g><!--MD5=[168fadf3d0c3fd93dd5d6da1b1d7ab76]\n",
       "cluster E7--><g id=\"cluster_E7\"><a href=\"psysml:c9292eea-a9ed-4d7d-b554-73a415b23d76\" target=\"_top\" title=\"psysml:c9292eea-a9ed-4d7d-b554-73a415b23d76\" xlink:actuate=\"onRequest\" xlink:href=\"psysml:c9292eea-a9ed-4d7d-b554-73a415b23d76\" xlink:show=\"new\" xlink:title=\"psysml:c9292eea-a9ed-4d7d-b554-73a415b23d76\" xlink:type=\"simple\"><polygon fill=\"none\" points=\"205,352,266.625,352,273.625,374.2969,347,374.2969,347,464,205,464,205,352\" style=\"stroke:#000000;stroke-width:1.5;\"/><line style=\"stroke:#000000;stroke-width:1.5;\" x1=\"205\" x2=\"273.625\" y1=\"374.2969\" y2=\"374.2969\"/><text fill=\"#000000\" font-family=\"sans-serif\" font-size=\"14\" font-weight=\"bold\" lengthAdjust=\"spacing\" textLength=\"55.625\" x=\"209\" y=\"366.9951\">Pkg211</text></a></g><g><a href=\"psysml:c9f16dae-c47d-4af9-8178-9fb29f2ca8fe\" target=\"_top\" title=\"psysml:c9f16dae-c47d-4af9-8178-9fb29f2ca8fe\" xlink:actuate=\"onRequest\" xlink:href=\"psysml:c9f16dae-c47d-4af9-8178-9fb29f2ca8fe\" xlink:show=\"new\" xlink:title=\"psysml:c9f16dae-c47d-4af9-8178-9fb29f2ca8fe\" xlink:type=\"simple\"><rect fill=\"#FFFFFF\" height=\"40\" id=\"E3\" rx=\"10\" ry=\"10\" style=\"stroke:#383838;stroke-width:1.5;\" width=\"83\" x=\"251.5\" y=\"102.5\"/><text fill=\"#000000\" font-family=\"sans-serif\" font-size=\"14\" lengthAdjust=\"spacing\" textLength=\"72\" x=\"257\" y=\"120.4951\">p11: P211</text></a></g><g><a href=\"psysml:5a85d6e7-c399-4e25-bc8b-7b1310ff596a\" target=\"_top\" title=\"psysml:5a85d6e7-c399-4e25-bc8b-7b1310ff596a\" xlink:actuate=\"onRequest\" xlink:href=\"psysml:5a85d6e7-c399-4e25-bc8b-7b1310ff596a\" xlink:show=\"new\" xlink:title=\"psysml:5a85d6e7-c399-4e25-bc8b-7b1310ff596a\" xlink:type=\"simple\"><rect fill=\"#FFFFFF\" height=\"45.2656\" id=\"E4\" style=\"stroke:#383838;stroke-width:1.5;\" width=\"75\" x=\"369.5\" y=\"100\"/><text fill=\"#000000\" font-family=\"sans-serif\" font-size=\"12\" font-style=\"italic\" lengthAdjust=\"spacing\" textLength=\"68\" x=\"373\" y=\"116.1387\">«part  def»</text><text fill=\"#000000\" font-family=\"sans-serif\" font-size=\"14\" lengthAdjust=\"spacing\" textLength=\"27\" x=\"393.5\" y=\"131.9639\">P12</text></a></g><g><a href=\"psysml:60f2756c-cfe4-4496-b687-ff5dbf9a385d\" target=\"_top\" title=\"psysml:60f2756c-cfe4-4496-b687-ff5dbf9a385d\" xlink:actuate=\"onRequest\" xlink:href=\"psysml:60f2756c-cfe4-4496-b687-ff5dbf9a385d\" xlink:show=\"new\" xlink:title=\"psysml:60f2756c-cfe4-4496-b687-ff5dbf9a385d\" xlink:type=\"simple\"><rect fill=\"#FFFFFF\" height=\"45.2656\" id=\"E8\" style=\"stroke:#383838;stroke-width:1.5;\" width=\"75\" x=\"248.5\" y=\"395\"/><text fill=\"#000000\" font-family=\"sans-serif\" font-size=\"12\" font-style=\"italic\" lengthAdjust=\"spacing\" textLength=\"68\" x=\"252\" y=\"411.1387\">«part  def»</text><text fill=\"#000000\" font-family=\"sans-serif\" font-size=\"14\" lengthAdjust=\"spacing\" textLength=\"36\" x=\"268\" y=\"426.9639\">P211</text></a></g><!--MD5=[b0060bfdb0500b904584095522b4da3c]\n",
       "link E2 to E8--><g id=\"link_E2_E8\"><a href=\"psysml:7a09cf9a-4d44-4715-925a-a999429b18c6\" target=\"_top\" title=\"psysml:7a09cf9a-4d44-4715-925a-a999429b18c6\" xlink:actuate=\"onRequest\" xlink:href=\"psysml:7a09cf9a-4d44-4715-925a-a999429b18c6\" xlink:show=\"new\" xlink:title=\"psysml:7a09cf9a-4d44-4715-925a-a999429b18c6\" xlink:type=\"simple\"><path d=\"M224.2853,169.1216 C224.3302,169.2216 224.3753,169.3216 224.4206,169.4214 C224.5113,169.6211 224.6029,169.8203 224.6956,170.019 C225.0661,170.814 225.4522,171.6014 225.8547,172.3795 C226.6596,173.9357 227.5296,175.4546 228.4701,176.9223 C230.3511,179.8575 232.5138,182.5875 235,185 C244.6,194.31 255.39,182.77 264,193 C311.28,249.14 300.92,343.57 292.13,389.62 \" fill=\"none\" id=\"E2-to-E8\" style=\"stroke:#181818;stroke-width:1.0;stroke-dasharray:7.0,7.0;\"/><polygon fill=\"#181818\" points=\"291.12,394.72,296.7668,386.6507,292.0759,389.8122,288.9144,385.1213,291.12,394.72\" style=\"stroke:#181818;stroke-width:1.0;\"/><text fill=\"#000000\" font-family=\"sans-serif\" font-size=\"13\" lengthAdjust=\"spacing\" textLength=\"58\" x=\"275\" y=\"206.0669\">«import»</text></a></g><!--MD5=[e3e28c1befcf002155aa15e1416b4315]\n",
       "link E2 to E6--><g id=\"link_E2_E6\"><a href=\"psysml:4d48d5b8-8a2b-403b-a600-382befb1c751\" target=\"_top\" title=\"psysml:4d48d5b8-8a2b-403b-a600-382befb1c751\" xlink:actuate=\"onRequest\" xlink:href=\"psysml:4d48d5b8-8a2b-403b-a600-382befb1c751\" xlink:show=\"new\" xlink:title=\"psysml:4d48d5b8-8a2b-403b-a600-382befb1c751\" xlink:type=\"simple\"><path d=\"M207.9177,125.1413 C207.8096,125.1655 207.7005,125.1901 207.5905,125.2149 C207.1505,125.3142 206.6956,125.4181 206.2261,125.5268 C204.3484,125.9616 202.2393,126.472 199.9341,127.0638 C190.7131,129.4306 178.3538,133.0975 165.1075,138.4175 C138.615,149.0575 108.575,166.31 93,193 C67.11,237.365 84.1475,292.2 108.1275,336.4513 C120.1175,358.5769 133.8431,378.0566 144.8063,392.2586 C147.547,395.8091 150.1152,399.0298 152.4403,401.8794 C153.6029,403.3043 154.7048,404.6364 155.7371,405.8706 C155.9952,406.1791 156.249,406.4816 156.4982,406.7778 C156.6228,406.9259 156.7463,407.0725 156.8687,407.2175 \" fill=\"none\" id=\"E2-to-E6\" style=\"stroke:#181818;stroke-width:1.0;stroke-dasharray:7.0,7.0;\"/><polygon fill=\"#181818\" points=\"156.8687,407.2175,154.1213,397.7596,153.6441,403.3963,148.0074,402.919,156.8687,407.2175\" style=\"stroke:#181818;stroke-width:1.0;\"/><text fill=\"#000000\" font-family=\"sans-serif\" font-size=\"13\" lengthAdjust=\"spacing\" textLength=\"65\" x=\"94\" y=\"206.0669\">«import»*</text></a></g><!--MD5=[e3d2a08a9c9236652057e8ed0cbc9b62]\n",
       "link E2 to E7--><g id=\"link_E2_E7\"><a href=\"psysml:435ffdce-fa99-42b8-aa7d-b79facf9bf9f\" target=\"_top\" title=\"psysml:435ffdce-fa99-42b8-aa7d-b79facf9bf9f\" xlink:actuate=\"onRequest\" xlink:href=\"psysml:435ffdce-fa99-42b8-aa7d-b79facf9bf9f\" xlink:show=\"new\" xlink:title=\"psysml:435ffdce-fa99-42b8-aa7d-b79facf9bf9f\" xlink:type=\"simple\"><path d=\"M207.8987,132.2409 C207.8392,132.3087 207.7795,132.3768 207.7196,132.4452 C207.5998,132.5821 207.479,132.7203 207.3573,132.86 C207.1139,133.1392 206.867,133.4238 206.6165,133.7137 C205.6148,134.8735 204.5583,136.1181 203.46,137.4401 C201.2633,140.0843 198.8994,143.0384 196.4725,146.2438 C186.765,159.065 176.05,175.905 171,193 C168.86,200.25 166.24,204.13 171,210 C181.87,223.4 197.99,204.71 209,218 C222.85,234.725 224.035,283.0725 221.6675,327.8625 C221.3716,333.4612 221.0201,339.0044 220.631,344.4233 C220.5337,345.778 220.434,347.1249 220.3323,348.4631 C220.2814,349.1321 220.2301,349.7989 220.1782,350.4634 C220.1523,350.7957 220.1262,351.1274 220.1,351.4584 \" fill=\"none\" id=\"E2-to-E7\" style=\"stroke:#181818;stroke-width:1.0;stroke-dasharray:7.0,7.0;\"/><polygon fill=\"#181818\" points=\"220.1,351.4584,224.7969,342.8016,220.4941,346.474,216.8217,342.1712,220.1,351.4584\" style=\"stroke:#181818;stroke-width:1.0;\"/><text fill=\"#000000\" font-family=\"sans-serif\" font-size=\"13\" lengthAdjust=\"spacing\" textLength=\"87\" x=\"172\" y=\"206.0669\">«import»*::**</text></a></g><!--MD5=[ca5a752d6098d8a44b3f88316e7452d1]\n",
       "link E3 to E8--><g id=\"link_E3_E8\"><a href=\"psysml:c2b3862a-e64c-4984-9133-ea986cde4555\" target=\"_top\" title=\"psysml:c2b3862a-e64c-4984-9133-ea986cde4555\" xlink:actuate=\"onRequest\" xlink:href=\"psysml:c2b3862a-e64c-4984-9133-ea986cde4555\" xlink:show=\"new\" xlink:title=\"psysml:c2b3862a-e64c-4984-9133-ea986cde4555\" xlink:type=\"simple\"><path d=\"M309.32,142.58 C320.65,155.29 336.46,171.99 352,185 C356.91,189.11 360.98,187.35 364,193 C367.57,199.66 368.73,204.11 364,210 C353.74,222.79 339.53,206.35 328,218 C287.1,259.32 281.48,329.87 282.65,374.79 \" fill=\"none\" id=\"E3-to-E8\" style=\"stroke:#181818;stroke-width:1.0;\"/><polygon fill=\"#FFFFFF\" points=\"283.67,394.81,275.7286,376.1838,289.7111,375.4837,283.67,394.81\" style=\"stroke:#181818;stroke-width:1.0;\"/><ellipse cx=\"277.441\" cy=\"370.3909\" fill=\"#181818\" rx=\"2\" ry=\"2\" style=\"stroke:#181818;stroke-width:1.0;\"/><ellipse cx=\"287.4285\" cy=\"369.8909\" fill=\"#181818\" rx=\"2\" ry=\"2\" style=\"stroke:#181818;stroke-width:1.0;\"/></a></g><!--MD5=[15ebcb19ae302d9b601edb458606d402]\n",
       "link E5 to E2--><g id=\"link_E5_E2\"><a href=\"psysml:2e43f05d-56e8-4995-94de-93836f9907a6\" target=\"_top\" title=\"psysml:2e43f05d-56e8-4995-94de-93836f9907a6\" xlink:actuate=\"onRequest\" xlink:href=\"psysml:2e43f05d-56e8-4995-94de-93836f9907a6\" xlink:show=\"new\" xlink:title=\"psysml:2e43f05d-56e8-4995-94de-93836f9907a6\" xlink:type=\"simple\"><path d=\"M378.9931,233.3213 C378.7693,232.9782 378.5445,232.6358 378.3186,232.2942 C377.4151,230.9279 376.4948,229.5741 375.5574,228.2337 C373.6826,225.5531 371.7396,222.9264 369.7256,220.361 C361.67,210.0995 352.4813,200.82 342,193 C322.89,178.74 253.65,199.86 235,185 C232.2913,182.8413 229.9598,180.3034 227.9541,177.51 C226.9513,176.1133 226.0298,174.6527 225.1833,173.1437 C224.7601,172.3892 224.3556,171.6225 223.969,170.8457 C223.7758,170.4573 223.587,170.0663 223.4025,169.673 C223.3103,169.4764 223.2192,169.2792 223.1292,169.0814 \" fill=\"none\" id=\"E5-to-E2\" style=\"stroke:#181818;stroke-width:1.0;stroke-dasharray:7.0,7.0;\"/><polygon fill=\"#181818\" points=\"223.1292,169.0814,223.2177,178.9299,225.2009,173.6321,230.4987,175.6152,223.1292,169.0814\" style=\"stroke:#181818;stroke-width:1.0;\"/><text fill=\"#000000\" font-family=\"sans-serif\" font-size=\"13\" lengthAdjust=\"spacing\" textLength=\"65\" x=\"361\" y=\"206.0669\">«import»*</text></a></g><!--MD5=[d7bb3fb34add81b710575eb3799fa2ad]\n",
       "link E8 to E4--><g id=\"link_E8_E4\"><a href=\"psysml:6ab4f965-70f0-4435-9c9c-0953ad10c713\" target=\"_top\" title=\"psysml:6ab4f965-70f0-4435-9c9c-0953ad10c713\" xlink:actuate=\"onRequest\" xlink:href=\"psysml:6ab4f965-70f0-4435-9c9c-0953ad10c713\" xlink:show=\"new\" xlink:title=\"psysml:6ab4f965-70f0-4435-9c9c-0953ad10c713\" xlink:type=\"simple\"><path d=\"M283.03,394.71 C278.72,353.05 276.21,262.31 328,218 C340.68,207.15 466.52,222.11 478,210 C493.85,193.29 479.79,173.5 460.13,157.08 \" fill=\"none\" id=\"E8-to-E4\" style=\"stroke:#181818;stroke-width:1.0;\"/><polygon fill=\"none\" points=\"455.83,162.6,444.02,145.01,464.22,151.39,455.83,162.6\" style=\"stroke:#181818;stroke-width:1.0;\"/></a></g><!--MD5=[a01d9198ffab507cf507981b2e1aabc4]\n",
       "@startuml\r\n",
       "skin sysmlbw\r\n",
       "skinparam monochrome true\r\n",
       "skinparam wrapWidth 300\r\n",
       "hide circle\r\n",
       " skinparam ranksep 10\r\n",
       "skinparam rectangle {\r\n",
       " backgroundColor<<block>> LightGreen\r\n",
       "}\r\n",
       "\r\n",
       "package \"ImportTest\" as E1  [[psysml:257ae3bb-e982-4f23-93ec-21786cef6fd4 ]]  {\r\n",
       "package \"Pkg1\" as E2  [[psysml:d86f8a04-756e-41fe-890d-bee1afc1808f ]]  {\r\n",
       "rec usage \"p11: P211\" as E3 [[psysml:c9f16dae-c47d-4af9-8178-9fb29f2ca8fe ]] {\r\n",
       "}\r\n",
       "rec def \"P12\" as E4  <<(T,blue) part  def>> [[psysml:5a85d6e7-c399-4e25-bc8b-7b1310ff596a ]] {\r\n",
       "}\r\n",
       "}\r\n",
       "package \"Pkg2\" as E5  [[psysml:87b5aefc-a384-45d2-9563-354f132d05b6 ]]  {\r\n",
       "package \"Pkg21\" as E6  [[psysml:74f758db-603d-4dff-97e1-05ce4d0c3ab8 ]]  {\r\n",
       "package \"Pkg211\" as E7  [[psysml:c9292eea-a9ed-4d7d-b554-73a415b23d76 ]]  {\r\n",
       "rec def \"P211\" as E8  <<(T,blue) part  def>> [[psysml:60f2756c-cfe4-4496-b687-ff5dbf9a385d ]] {\r\n",
       "}\r\n",
       "}\r\n",
       "}\r\n",
       "}\r\n",
       "}\r\n",
       "E2 ..> E8 [[psysml:7a09cf9a-4d44-4715-925a-a999429b18c6 ]] : <<import>>\r\n",
       "E2 ..> E6 [[psysml:4d48d5b8-8a2b-403b-a600-382befb1c751 ]] : <<import>>*\r\n",
       "E2 ..> E7 [[psysml:435ffdce-fa99-42b8-aa7d-b79facf9bf9f ]] : <<import>>*::**\r\n",
       "E3 - -:|> E8 [[psysml:c2b3862a-e64c-4984-9133-ea986cde4555 ]] \r\n",
       "E5 ..> E2 [[psysml:2e43f05d-56e8-4995-94de-93836f9907a6 ]] : <<import>>*\r\n",
       "E8 - -|> E4 [[psysml:6ab4f965-70f0-4435-9c9c-0953ad10c713 ]] \r\n",
       "@enduml\r\n",
       "\n",
       "PlantUML version 1.2022.7(Mon Aug 22 17:01:30 UTC 2022)\n",
       "(EPL source distribution)\n",
       "Java Runtime: OpenJDK Runtime Environment\n",
       "JVM: OpenJDK 64-Bit Server VM\n",
       "Default Encoding: UTF-8\n",
       "Language: en\n",
       "Country: null\n",
       "--></g></svg>"
      ]
     },
     "execution_count": 5,
     "metadata": {},
     "output_type": "execute_result"
    }
   ],
   "source": [
    "%viz --style=\"COMPTREE\" --view=\"Interconnection\" \"ImportTest\""
   ]
  },
  {
   "cell_type": "code",
   "execution_count": 6,
   "id": "3eb38d03",
   "metadata": {
    "execution": {
     "iopub.execute_input": "2024-12-16T14:16:19.945726Z",
     "iopub.status.busy": "2024-12-16T14:16:19.945495Z",
     "iopub.status.idle": "2024-12-16T14:16:19.952513Z",
     "shell.execute_reply": "2024-12-16T14:16:19.952180Z"
    }
   },
   "outputs": [
    {
     "data": {
      "image/svg+xml": [
       "<?xml version=\"1.0\" encoding=\"UTF-8\" standalone=\"no\"?><svg xmlns=\"http://www.w3.org/2000/svg\" xmlns:xlink=\"http://www.w3.org/1999/xlink\" contentStyleType=\"text/css\" height=\"10px\" preserveAspectRatio=\"none\" style=\"width:10px;height:10px;background:#FFFFFF;\" version=\"1.1\" viewBox=\"0 0 10 10\" width=\"10px\" zoomAndPan=\"magnify\"><defs/><g><!--MD5=[042b5323e4810735e2315f6f99dad39e]\n",
       "@startuml\r\n",
       "skin sysmlbw\r\n",
       "skinparam monochrome true\r\n",
       "skinparam wrapWidth 300\r\n",
       "hide circle\r\n",
       " skinparam ranksep 8\r\n",
       "\r\n",
       "@enduml\r\n",
       "\n",
       "PlantUML version 1.2022.7(Mon Aug 22 17:01:30 UTC 2022)\n",
       "(EPL source distribution)\n",
       "Java Runtime: OpenJDK Runtime Environment\n",
       "JVM: OpenJDK 64-Bit Server VM\n",
       "Default Encoding: UTF-8\n",
       "Language: en\n",
       "Country: null\n",
       "--></g></svg>"
      ]
     },
     "execution_count": 6,
     "metadata": {},
     "output_type": "execute_result"
    }
   ],
   "source": [
    "%viz --style=\"COMPTREE\" --view=\"Action\" \"ImportTest\""
   ]
  },
  {
   "cell_type": "code",
   "execution_count": 7,
   "id": "e7ef675c",
   "metadata": {
    "execution": {
     "iopub.execute_input": "2024-12-16T14:16:20.007944Z",
     "iopub.status.busy": "2024-12-16T14:16:20.007708Z",
     "iopub.status.idle": "2024-12-16T14:16:20.019847Z",
     "shell.execute_reply": "2024-12-16T14:16:20.019979Z"
    }
   },
   "outputs": [
    {
     "data": {
      "image/svg+xml": [
       "<?xml version=\"1.0\" encoding=\"UTF-8\" standalone=\"no\"?><svg xmlns=\"http://www.w3.org/2000/svg\" xmlns:xlink=\"http://www.w3.org/1999/xlink\" contentStyleType=\"text/css\" height=\"10px\" preserveAspectRatio=\"none\" style=\"width:10px;height:10px;background:#FFFFFF;\" version=\"1.1\" viewBox=\"0 0 10 10\" width=\"10px\" zoomAndPan=\"magnify\"><defs/><g><!--MD5=[f5e9abf0a6c8dccaf40d0172f495ca0b]\n",
       "@startuml\r\n",
       "skin sysmlbw\r\n",
       "skinparam monochrome true\r\n",
       "skinparam wrapWidth 300\r\n",
       "hide circle\r\n",
       " skinparam roundcorner 20\r\n",
       "skinparam BoxPadding 20\r\n",
       "skinparam SequenceBoxBackgroundColor #white\r\n",
       "skinparam style strictuml\r\n",
       "skinparam maxMessageSize 100\r\n",
       "\r\n",
       "@enduml\r\n",
       "\n",
       "PlantUML version 1.2022.7(Mon Aug 22 17:01:30 UTC 2022)\n",
       "(EPL source distribution)\n",
       "Java Runtime: OpenJDK Runtime Environment\n",
       "JVM: OpenJDK 64-Bit Server VM\n",
       "Default Encoding: UTF-8\n",
       "Language: en\n",
       "Country: null\n",
       "--></g></svg>"
      ]
     },
     "execution_count": 7,
     "metadata": {},
     "output_type": "execute_result"
    }
   ],
   "source": [
    "%viz --style=\"COMPTREE\" --view=\"Sequence\" \"ImportTest\""
   ]
  },
  {
   "cell_type": "code",
   "execution_count": 8,
   "id": "46fc2ceb",
   "metadata": {
    "execution": {
     "iopub.execute_input": "2024-12-16T14:16:20.075739Z",
     "iopub.status.busy": "2024-12-16T14:16:20.075496Z",
     "iopub.status.idle": "2024-12-16T14:16:20.105925Z",
     "shell.execute_reply": "2024-12-16T14:16:20.106057Z"
    }
   },
   "outputs": [
    {
     "data": {
      "image/svg+xml": [
       "<?xml version=\"1.0\" encoding=\"UTF-8\" standalone=\"no\"?><svg xmlns=\"http://www.w3.org/2000/svg\" xmlns:xlink=\"http://www.w3.org/1999/xlink\" contentStyleType=\"text/css\" height=\"589px\" preserveAspectRatio=\"none\" style=\"width:517px;height:589px;background:#FFFFFF;\" version=\"1.1\" viewBox=\"0 0 517 589\" width=\"517px\" zoomAndPan=\"magnify\"><defs/><g><!--MD5=[fbc87193dbaf4d95561dea2c320d4a47]\n",
       "cluster E1--><g id=\"cluster_E1\"><a href=\"psysml:257ae3bb-e982-4f23-93ec-21786cef6fd4\" target=\"_top\" title=\"psysml:257ae3bb-e982-4f23-93ec-21786cef6fd4\" xlink:actuate=\"onRequest\" xlink:href=\"psysml:257ae3bb-e982-4f23-93ec-21786cef6fd4\" xlink:show=\"new\" xlink:title=\"psysml:257ae3bb-e982-4f23-93ec-21786cef6fd4\" xlink:type=\"simple\"><polygon fill=\"none\" points=\"16,6,101.375,6,108.375,28.2969,500,28.2969,500,582,16,582,16,6\" style=\"stroke:#000000;stroke-width:1.5;\"/><line style=\"stroke:#000000;stroke-width:1.5;\" x1=\"16\" x2=\"108.375\" y1=\"28.2969\" y2=\"28.2969\"/><text fill=\"#000000\" font-family=\"sans-serif\" font-size=\"14\" font-weight=\"bold\" lengthAdjust=\"spacing\" textLength=\"79.375\" x=\"20\" y=\"20.9951\">ImportTest</text></a></g><!--MD5=[e4f7fae6ed58524ba242bb0b0d3be6b7]\n",
       "cluster E2--><g id=\"cluster_E2\"><a href=\"psysml:d86f8a04-756e-41fe-890d-bee1afc1808f\" target=\"_top\" title=\"psysml:d86f8a04-756e-41fe-890d-bee1afc1808f\" xlink:actuate=\"onRequest\" xlink:href=\"psysml:d86f8a04-756e-41fe-890d-bee1afc1808f\" xlink:show=\"new\" xlink:title=\"psysml:d86f8a04-756e-41fe-890d-bee1afc1808f\" xlink:type=\"simple\"><polygon fill=\"none\" points=\"210,57,252.75,57,259.75,79.2969,468,79.2969,468,172,210,172,210,57\" style=\"stroke:#000000;stroke-width:1.5;\"/><line style=\"stroke:#000000;stroke-width:1.5;\" x1=\"210\" x2=\"259.75\" y1=\"79.2969\" y2=\"79.2969\"/><text fill=\"#000000\" font-family=\"sans-serif\" font-size=\"14\" font-weight=\"bold\" lengthAdjust=\"spacing\" textLength=\"36.75\" x=\"214\" y=\"71.9951\">Pkg1</text></a></g><!--MD5=[de5ec2e2e8f62f467e546659f5068c88]\n",
       "cluster E5--><g id=\"cluster_E5\"><a href=\"psysml:87b5aefc-a384-45d2-9563-354f132d05b6\" target=\"_top\" title=\"psysml:87b5aefc-a384-45d2-9563-354f132d05b6\" xlink:actuate=\"onRequest\" xlink:href=\"psysml:87b5aefc-a384-45d2-9563-354f132d05b6\" xlink:show=\"new\" xlink:title=\"psysml:87b5aefc-a384-45d2-9563-354f132d05b6\" xlink:type=\"simple\"><polygon fill=\"none\" points=\"121,237,163.75,237,170.75,259.2969,434,259.2969,434,550,121,550,121,237\" style=\"stroke:#000000;stroke-width:1.5;\"/><line style=\"stroke:#000000;stroke-width:1.5;\" x1=\"121\" x2=\"170.75\" y1=\"259.2969\" y2=\"259.2969\"/><text fill=\"#000000\" font-family=\"sans-serif\" font-size=\"14\" font-weight=\"bold\" lengthAdjust=\"spacing\" textLength=\"36.75\" x=\"125\" y=\"251.9951\">Pkg2</text></a></g><!--MD5=[14e3b0961a2654348d326746436168a1]\n",
       "cluster E6--><g id=\"cluster_E6\"><a href=\"psysml:74f758db-603d-4dff-97e1-05ce4d0c3ab8\" target=\"_top\" title=\"psysml:74f758db-603d-4dff-97e1-05ce4d0c3ab8\" xlink:actuate=\"onRequest\" xlink:href=\"psysml:74f758db-603d-4dff-97e1-05ce4d0c3ab8\" xlink:show=\"new\" xlink:title=\"psysml:74f758db-603d-4dff-97e1-05ce4d0c3ab8\" xlink:type=\"simple\"><polygon fill=\"none\" points=\"161,296,213.1875,296,220.1875,318.2969,386,318.2969,386,510,161,510,161,296\" style=\"stroke:#000000;stroke-width:1.5;\"/><line style=\"stroke:#000000;stroke-width:1.5;\" x1=\"161\" x2=\"220.1875\" y1=\"318.2969\" y2=\"318.2969\"/><text fill=\"#000000\" font-family=\"sans-serif\" font-size=\"14\" font-weight=\"bold\" lengthAdjust=\"spacing\" textLength=\"46.1875\" x=\"165\" y=\"310.9951\">Pkg21</text></a></g><!--MD5=[168fadf3d0c3fd93dd5d6da1b1d7ab76]\n",
       "cluster E7--><g id=\"cluster_E7\"><a href=\"psysml:c9292eea-a9ed-4d7d-b554-73a415b23d76\" target=\"_top\" title=\"psysml:c9292eea-a9ed-4d7d-b554-73a415b23d76\" xlink:actuate=\"onRequest\" xlink:href=\"psysml:c9292eea-a9ed-4d7d-b554-73a415b23d76\" xlink:show=\"new\" xlink:title=\"psysml:c9292eea-a9ed-4d7d-b554-73a415b23d76\" xlink:type=\"simple\"><polygon fill=\"none\" points=\"209,355,270.625,355,277.625,377.2969,346,377.2969,346,470,209,470,209,355\" style=\"stroke:#000000;stroke-width:1.5;\"/><line style=\"stroke:#000000;stroke-width:1.5;\" x1=\"209\" x2=\"277.625\" y1=\"377.2969\" y2=\"377.2969\"/><text fill=\"#000000\" font-family=\"sans-serif\" font-size=\"14\" font-weight=\"bold\" lengthAdjust=\"spacing\" textLength=\"55.625\" x=\"213\" y=\"369.9951\">Pkg211</text></a></g><!--MD5=[09b614a08d8cba4a07c9adeb5e0fee81]\n",
       "class E3--><a href=\"psysml:c9f16dae-c47d-4af9-8178-9fb29f2ca8fe\" target=\"_top\" title=\"psysml:c9f16dae-c47d-4af9-8178-9fb29f2ca8fe\" xlink:actuate=\"onRequest\" xlink:href=\"psysml:c9f16dae-c47d-4af9-8178-9fb29f2ca8fe\" xlink:show=\"new\" xlink:title=\"psysml:c9f16dae-c47d-4af9-8178-9fb29f2ca8fe\" xlink:type=\"simple\"><g id=\"elem_E3\"><rect fill=\"#FFFFFF\" height=\"48.2656\" id=\"E3\" rx=\"10\" ry=\"10\" style=\"stroke:#181818;stroke-width:0.5;\" width=\"86\" x=\"253\" y=\"100\"/><text fill=\"#000000\" font-family=\"sans-serif\" font-size=\"12\" font-style=\"italic\" lengthAdjust=\"spacing\" textLength=\"40\" x=\"276\" y=\"116.1387\">«part»</text><text fill=\"#000000\" font-family=\"sans-serif\" font-size=\"14\" lengthAdjust=\"spacing\" textLength=\"72\" x=\"256\" y=\"131.9639\">p11: P211</text><line style=\"stroke:#181818;stroke-width:0.5;\" x1=\"254\" x2=\"338\" y1=\"140.2656\" y2=\"140.2656\"/></g></a><!--MD5=[ebbe1d658d1005bcc118a6aa81145e00]\n",
       "class E4--><a href=\"psysml:5a85d6e7-c399-4e25-bc8b-7b1310ff596a\" target=\"_top\" title=\"psysml:5a85d6e7-c399-4e25-bc8b-7b1310ff596a\" xlink:actuate=\"onRequest\" xlink:href=\"psysml:5a85d6e7-c399-4e25-bc8b-7b1310ff596a\" xlink:show=\"new\" xlink:title=\"psysml:5a85d6e7-c399-4e25-bc8b-7b1310ff596a\" xlink:type=\"simple\"><g id=\"elem_E4\"><rect fill=\"#FFFFFF\" height=\"48.2656\" id=\"E4\" style=\"stroke:#181818;stroke-width:0.5;\" width=\"70\" x=\"374\" y=\"100\"/><text fill=\"#000000\" font-family=\"sans-serif\" font-size=\"12\" font-style=\"italic\" lengthAdjust=\"spacing\" textLength=\"68\" x=\"375\" y=\"116.1387\">«part  def»</text><text fill=\"#000000\" font-family=\"sans-serif\" font-size=\"14\" lengthAdjust=\"spacing\" textLength=\"27\" x=\"395.5\" y=\"131.9639\">P12</text><line style=\"stroke:#181818;stroke-width:0.5;\" x1=\"375\" x2=\"443\" y1=\"140.2656\" y2=\"140.2656\"/></g></a><!--MD5=[b9389687b975829384b498ac4b7476b2]\n",
       "class E8--><a href=\"psysml:60f2756c-cfe4-4496-b687-ff5dbf9a385d\" target=\"_top\" title=\"psysml:60f2756c-cfe4-4496-b687-ff5dbf9a385d\" xlink:actuate=\"onRequest\" xlink:href=\"psysml:60f2756c-cfe4-4496-b687-ff5dbf9a385d\" xlink:show=\"new\" xlink:title=\"psysml:60f2756c-cfe4-4496-b687-ff5dbf9a385d\" xlink:type=\"simple\"><g id=\"elem_E8\"><rect fill=\"#FFFFFF\" height=\"48.2656\" id=\"E8\" style=\"stroke:#181818;stroke-width:0.5;\" width=\"70\" x=\"252\" y=\"398\"/><text fill=\"#000000\" font-family=\"sans-serif\" font-size=\"12\" font-style=\"italic\" lengthAdjust=\"spacing\" textLength=\"68\" x=\"253\" y=\"414.1387\">«part  def»</text><text fill=\"#000000\" font-family=\"sans-serif\" font-size=\"14\" lengthAdjust=\"spacing\" textLength=\"36\" x=\"269\" y=\"429.9639\">P211</text><line style=\"stroke:#181818;stroke-width:0.5;\" x1=\"253\" x2=\"321\" y1=\"438.2656\" y2=\"438.2656\"/></g></a><!--MD5=[b0060bfdb0500b904584095522b4da3c]\n",
       "link E2 to E8--><g id=\"link_E2_E8\"><a href=\"psysml:7a09cf9a-4d44-4715-925a-a999429b18c6\" target=\"_top\" title=\"psysml:7a09cf9a-4d44-4715-925a-a999429b18c6\" xlink:actuate=\"onRequest\" xlink:href=\"psysml:7a09cf9a-4d44-4715-925a-a999429b18c6\" xlink:show=\"new\" xlink:title=\"psysml:7a09cf9a-4d44-4715-925a-a999429b18c6\" xlink:type=\"simple\"><path d=\"M226.4784,172.2619 C226.5244,172.3641 226.5707,172.4663 226.6172,172.5683 C226.9895,173.3846 227.3777,174.1934 227.7824,174.9929 C228.5919,176.5919 229.4675,178.1539 230.4147,179.6646 C232.3092,182.6861 234.49,185.5025 237,188 C245.87,196.83 256.01,186.37 264,196 C310.7,252.32 301.61,345.84 293.2,392.58 \" fill=\"none\" id=\"E2-to-E8\" style=\"stroke:#181818;stroke-width:1.0;stroke-dasharray:7.0,7.0;\"/><polygon fill=\"#181818\" points=\"292.23,397.77,297.8087,389.6535,293.1445,392.8543,289.9437,388.1902,292.23,397.77\" style=\"stroke:#181818;stroke-width:1.0;\"/><text fill=\"#000000\" font-family=\"sans-serif\" font-size=\"13\" lengthAdjust=\"spacing\" textLength=\"58\" x=\"275\" y=\"209.0669\">«import»</text></a></g><!--MD5=[e3e28c1befcf002155aa15e1416b4315]\n",
       "link E2 to E6--><g id=\"link_E2_E6\"><a href=\"psysml:4d48d5b8-8a2b-403b-a600-382befb1c751\" target=\"_top\" title=\"psysml:4d48d5b8-8a2b-403b-a600-382befb1c751\" xlink:actuate=\"onRequest\" xlink:href=\"psysml:4d48d5b8-8a2b-403b-a600-382befb1c751\" xlink:show=\"new\" xlink:title=\"psysml:4d48d5b8-8a2b-403b-a600-382befb1c751\" xlink:type=\"simple\"><path d=\"M209.7844,126.6885 C209.6745,126.7134 209.5637,126.7387 209.4519,126.7642 C209.0046,126.8663 208.5422,126.9732 208.065,127.085 C206.1563,127.532 204.0125,128.0567 201.6694,128.6645 C192.2969,131.0959 179.735,134.8581 166.2725,140.3037 C139.3475,151.195 108.82,168.82 93,196 C66.865,240.9 84.8675,296.1075 109.8912,340.5988 C122.4031,362.8444 136.6703,382.4109 148.0533,396.6705 C150.899,400.2354 153.5645,403.4685 155.9772,406.329 C157.1836,407.7592 158.3268,409.0962 159.3977,410.335 C159.9331,410.9543 160.4505,411.5491 160.9487,412.1186 \" fill=\"none\" id=\"E2-to-E6\" style=\"stroke:#181818;stroke-width:1.0;stroke-dasharray:7.0,7.0;\"/><polygon fill=\"#181818\" points=\"160.9487,412.1186,158.034,402.711,157.6568,408.3552,152.0125,407.9781,160.9487,412.1186\" style=\"stroke:#181818;stroke-width:1.0;\"/><text fill=\"#000000\" font-family=\"sans-serif\" font-size=\"13\" lengthAdjust=\"spacing\" textLength=\"65\" x=\"94\" y=\"209.0669\">«import»*</text></a></g><!--MD5=[e3d2a08a9c9236652057e8ed0cbc9b62]\n",
       "link E2 to E7--><g id=\"link_E2_E7\"><a href=\"psysml:435ffdce-fa99-42b8-aa7d-b79facf9bf9f\" target=\"_top\" title=\"psysml:435ffdce-fa99-42b8-aa7d-b79facf9bf9f\" xlink:actuate=\"onRequest\" xlink:href=\"psysml:435ffdce-fa99-42b8-aa7d-b79facf9bf9f\" xlink:show=\"new\" xlink:title=\"psysml:435ffdce-fa99-42b8-aa7d-b79facf9bf9f\" xlink:type=\"simple\"><path d=\"M209.9156,133.4819 C209.8545,133.5495 209.7932,133.6175 209.7316,133.6858 C209.239,134.2321 208.7304,134.801 208.2074,135.3916 C207.1616,136.5729 206.0584,137.8408 204.9115,139.188 C202.6178,141.8824 200.1494,144.8941 197.615,148.1638 C187.4775,161.2425 176.285,178.45 171,196 C168.82,203.23 166.18,207.18 171,213 C183.11,227.64 200.74,206.48 213,221 C227.115,237.715 228.305,286.425 225.8738,331.5863 C225.5698,337.2314 225.2094,342.8211 224.8105,348.2859 C224.7107,349.6522 224.6086,351.0106 224.5044,352.3601 C224.4522,353.0348 224.3996,353.7074 224.3464,354.3776 \" fill=\"none\" id=\"E2-to-E7\" style=\"stroke:#181818;stroke-width:1.0;stroke-dasharray:7.0,7.0;\"/><polygon fill=\"#181818\" points=\"224.3464,354.3776,229.0454,345.7219,224.7417,349.3932,221.0704,345.0895,224.3464,354.3776\" style=\"stroke:#181818;stroke-width:1.0;\"/><text fill=\"#000000\" font-family=\"sans-serif\" font-size=\"13\" lengthAdjust=\"spacing\" textLength=\"87\" x=\"172\" y=\"209.0669\">«import»*::**</text></a></g><!--MD5=[ca5a752d6098d8a44b3f88316e7452d1]\n",
       "link E3 to E8--><g id=\"link_E3_E8\"><a href=\"psysml:c2b3862a-e64c-4984-9133-ea986cde4555\" target=\"_top\" title=\"psysml:c2b3862a-e64c-4984-9133-ea986cde4555\" xlink:actuate=\"onRequest\" xlink:href=\"psysml:c2b3862a-e64c-4984-9133-ea986cde4555\" xlink:show=\"new\" xlink:title=\"psysml:c2b3862a-e64c-4984-9133-ea986cde4555\" xlink:type=\"simple\"><path d=\"M318.74,148.33 C338.26,168.43 363.38,194.46 364,196 C366.82,203.01 368.76,207.13 364,213 C353.13,226.4 338.11,208.71 326,221 C285.35,262.26 280.75,332.54 282.7,377.85 \" fill=\"none\" id=\"E3-to-E8\" style=\"stroke:#181818;stroke-width:1.0;\"/><polygon fill=\"#FFFFFF\" points=\"284.06,397.85,275.7871,379.3687,289.7548,378.4189,284.06,397.85\" style=\"stroke:#181818;stroke-width:1.0;\"/><ellipse cx=\"277.3957\" cy=\"373.5461\" fill=\"#181818\" rx=\"2\" ry=\"2\" style=\"stroke:#181818;stroke-width:1.0;\"/><ellipse cx=\"287.3727\" cy=\"372.8677\" fill=\"#181818\" rx=\"2\" ry=\"2\" style=\"stroke:#181818;stroke-width:1.0;\"/></a></g><!--MD5=[15ebcb19ae302d9b601edb458606d402]\n",
       "link E5 to E2--><g id=\"link_E5_E2\"><a href=\"psysml:2e43f05d-56e8-4995-94de-93836f9907a6\" target=\"_top\" title=\"psysml:2e43f05d-56e8-4995-94de-93836f9907a6\" xlink:actuate=\"onRequest\" xlink:href=\"psysml:2e43f05d-56e8-4995-94de-93836f9907a6\" xlink:show=\"new\" xlink:title=\"psysml:2e43f05d-56e8-4995-94de-93836f9907a6\" xlink:type=\"simple\"><path d=\"M378.9609,236.6531 C378.738,236.3074 378.5141,235.9625 378.2891,235.6183 C377.389,234.2417 376.472,232.8777 375.5377,231.5272 C373.669,228.8262 371.7312,226.1791 369.7216,223.5936 C361.6834,213.2516 352.4975,203.8938 342,196 C323.3,181.94 255.24,202.66 237,188 C234.24,185.7813 231.8698,183.1761 229.8356,180.3106 C228.8185,178.8779 227.8853,177.3801 227.0294,175.833 C226.6014,175.0595 226.1928,174.2736 225.8026,173.4773 C225.6075,173.0792 225.417,172.6785 225.231,172.2755 \" fill=\"none\" id=\"E5-to-E2\" style=\"stroke:#181818;stroke-width:1.0;stroke-dasharray:7.0,7.0;\"/><polygon fill=\"#181818\" points=\"225.231,172.2755,225.3696,182.1233,227.3258,176.8155,232.6337,178.7717,225.231,172.2755\" style=\"stroke:#181818;stroke-width:1.0;\"/><text fill=\"#000000\" font-family=\"sans-serif\" font-size=\"13\" lengthAdjust=\"spacing\" textLength=\"65\" x=\"357\" y=\"209.0669\">«import»*</text></a></g><!--MD5=[d7bb3fb34add81b710575eb3799fa2ad]\n",
       "link E8 to E4--><g id=\"link_E8_E4\"><a href=\"psysml:6ab4f965-70f0-4435-9c9c-0953ad10c713\" target=\"_top\" title=\"psysml:6ab4f965-70f0-4435-9c9c-0953ad10c713\" xlink:actuate=\"onRequest\" xlink:href=\"psysml:6ab4f965-70f0-4435-9c9c-0953ad10c713\" xlink:show=\"new\" xlink:title=\"psysml:6ab4f965-70f0-4435-9c9c-0953ad10c713\" xlink:type=\"simple\"><path d=\"M283.44,397.77 C278.41,355.31 274.86,265.44 326,221 C338.77,209.91 466.36,225.27 478,213 C494.05,196.08 479.84,175.66 460.24,158.75 \" fill=\"none\" id=\"E8-to-E4\" style=\"stroke:#181818;stroke-width:1.0;\"/><polygon fill=\"none\" points=\"455.75,164.13,444.23,146.35,464.32,153.06,455.75,164.13\" style=\"stroke:#181818;stroke-width:1.0;\"/></a></g><!--MD5=[076721ecca0fc17ae6a8d27b637d040c]\n",
       "@startuml\r\n",
       "skin sysmlbw\r\n",
       "skinparam monochrome true\r\n",
       "skinparam wrapWidth 300\r\n",
       "hide circle\r\n",
       " \r\n",
       "package \"ImportTest\" as E1  [[psysml:257ae3bb-e982-4f23-93ec-21786cef6fd4 ]]  {\r\n",
       "package \"Pkg1\" as E2  [[psysml:d86f8a04-756e-41fe-890d-bee1afc1808f ]]  {\r\n",
       "comp usage \"p11: P211  \" as E3  <<(T,blue) part>> [[psysml:c9f16dae-c47d-4af9-8178-9fb29f2ca8fe ]] {\r\n",
       "}\r\n",
       "comp def \"P12\" as E4  <<(T,blue) part  def>> [[psysml:5a85d6e7-c399-4e25-bc8b-7b1310ff596a ]] {\r\n",
       "}\r\n",
       "}\r\n",
       "package \"Pkg2\" as E5  [[psysml:87b5aefc-a384-45d2-9563-354f132d05b6 ]]  {\r\n",
       "package \"Pkg21\" as E6  [[psysml:74f758db-603d-4dff-97e1-05ce4d0c3ab8 ]]  {\r\n",
       "package \"Pkg211\" as E7  [[psysml:c9292eea-a9ed-4d7d-b554-73a415b23d76 ]]  {\r\n",
       "comp def \"P211\" as E8  <<(T,blue) part  def>> [[psysml:60f2756c-cfe4-4496-b687-ff5dbf9a385d ]] {\r\n",
       "}\r\n",
       "}\r\n",
       "}\r\n",
       "}\r\n",
       "}\r\n",
       "E2 ..> E8 [[psysml:7a09cf9a-4d44-4715-925a-a999429b18c6 ]] : <<import>>\r\n",
       "E2 ..> E6 [[psysml:4d48d5b8-8a2b-403b-a600-382befb1c751 ]] : <<import>>*\r\n",
       "E2 ..> E7 [[psysml:435ffdce-fa99-42b8-aa7d-b79facf9bf9f ]] : <<import>>*::**\r\n",
       "E3 - -:|> E8 [[psysml:c2b3862a-e64c-4984-9133-ea986cde4555 ]] \r\n",
       "E5 ..> E2 [[psysml:2e43f05d-56e8-4995-94de-93836f9907a6 ]] : <<import>>*\r\n",
       "E8 - -|> E4 [[psysml:6ab4f965-70f0-4435-9c9c-0953ad10c713 ]] \r\n",
       "@enduml\r\n",
       "\n",
       "PlantUML version 1.2022.7(Mon Aug 22 17:01:30 UTC 2022)\n",
       "(EPL source distribution)\n",
       "Java Runtime: OpenJDK Runtime Environment\n",
       "JVM: OpenJDK 64-Bit Server VM\n",
       "Default Encoding: UTF-8\n",
       "Language: en\n",
       "Country: null\n",
       "--></g></svg>"
      ]
     },
     "execution_count": 8,
     "metadata": {},
     "output_type": "execute_result"
    }
   ],
   "source": [
    "%viz --style=\"COMPTREE\" --view=\"MIXED\" \"ImportTest\""
   ]
  },
  {
   "cell_type": "code",
   "execution_count": 9,
   "id": "62e6fbb2",
   "metadata": {
    "execution": {
     "iopub.execute_input": "2024-12-16T14:16:20.160229Z",
     "iopub.status.busy": "2024-12-16T14:16:20.159879Z",
     "iopub.status.idle": "2024-12-16T14:16:20.195325Z",
     "shell.execute_reply": "2024-12-16T14:16:20.195141Z"
    }
   },
   "outputs": [
    {
     "data": {
      "image/svg+xml": [
       "<?xml version=\"1.0\" encoding=\"UTF-8\" standalone=\"no\"?><svg xmlns=\"http://www.w3.org/2000/svg\" xmlns:xlink=\"http://www.w3.org/1999/xlink\" contentStyleType=\"text/css\" height=\"589px\" preserveAspectRatio=\"none\" style=\"width:517px;height:589px;background:#FFFFFF;\" version=\"1.1\" viewBox=\"0 0 517 589\" width=\"517px\" zoomAndPan=\"magnify\"><defs/><g><!--MD5=[fbc87193dbaf4d95561dea2c320d4a47]\n",
       "cluster E1--><g id=\"cluster_E1\"><a href=\"psysml:257ae3bb-e982-4f23-93ec-21786cef6fd4\" target=\"_top\" title=\"psysml:257ae3bb-e982-4f23-93ec-21786cef6fd4\" xlink:actuate=\"onRequest\" xlink:href=\"psysml:257ae3bb-e982-4f23-93ec-21786cef6fd4\" xlink:show=\"new\" xlink:title=\"psysml:257ae3bb-e982-4f23-93ec-21786cef6fd4\" xlink:type=\"simple\"><polygon fill=\"none\" points=\"16,6,101.375,6,108.375,28.2969,500,28.2969,500,582,16,582,16,6\" style=\"stroke:#000000;stroke-width:1.5;\"/><line style=\"stroke:#000000;stroke-width:1.5;\" x1=\"16\" x2=\"108.375\" y1=\"28.2969\" y2=\"28.2969\"/><text fill=\"#000000\" font-family=\"sans-serif\" font-size=\"14\" font-weight=\"bold\" lengthAdjust=\"spacing\" textLength=\"79.375\" x=\"20\" y=\"20.9951\">ImportTest</text></a></g><!--MD5=[e4f7fae6ed58524ba242bb0b0d3be6b7]\n",
       "cluster E2--><g id=\"cluster_E2\"><a href=\"psysml:d86f8a04-756e-41fe-890d-bee1afc1808f\" target=\"_top\" title=\"psysml:d86f8a04-756e-41fe-890d-bee1afc1808f\" xlink:actuate=\"onRequest\" xlink:href=\"psysml:d86f8a04-756e-41fe-890d-bee1afc1808f\" xlink:show=\"new\" xlink:title=\"psysml:d86f8a04-756e-41fe-890d-bee1afc1808f\" xlink:type=\"simple\"><polygon fill=\"none\" points=\"210,57,252.75,57,259.75,79.2969,468,79.2969,468,172,210,172,210,57\" style=\"stroke:#000000;stroke-width:1.5;\"/><line style=\"stroke:#000000;stroke-width:1.5;\" x1=\"210\" x2=\"259.75\" y1=\"79.2969\" y2=\"79.2969\"/><text fill=\"#000000\" font-family=\"sans-serif\" font-size=\"14\" font-weight=\"bold\" lengthAdjust=\"spacing\" textLength=\"36.75\" x=\"214\" y=\"71.9951\">Pkg1</text></a></g><!--MD5=[de5ec2e2e8f62f467e546659f5068c88]\n",
       "cluster E5--><g id=\"cluster_E5\"><a href=\"psysml:87b5aefc-a384-45d2-9563-354f132d05b6\" target=\"_top\" title=\"psysml:87b5aefc-a384-45d2-9563-354f132d05b6\" xlink:actuate=\"onRequest\" xlink:href=\"psysml:87b5aefc-a384-45d2-9563-354f132d05b6\" xlink:show=\"new\" xlink:title=\"psysml:87b5aefc-a384-45d2-9563-354f132d05b6\" xlink:type=\"simple\"><polygon fill=\"none\" points=\"121,237,163.75,237,170.75,259.2969,434,259.2969,434,550,121,550,121,237\" style=\"stroke:#000000;stroke-width:1.5;\"/><line style=\"stroke:#000000;stroke-width:1.5;\" x1=\"121\" x2=\"170.75\" y1=\"259.2969\" y2=\"259.2969\"/><text fill=\"#000000\" font-family=\"sans-serif\" font-size=\"14\" font-weight=\"bold\" lengthAdjust=\"spacing\" textLength=\"36.75\" x=\"125\" y=\"251.9951\">Pkg2</text></a></g><!--MD5=[14e3b0961a2654348d326746436168a1]\n",
       "cluster E6--><g id=\"cluster_E6\"><a href=\"psysml:74f758db-603d-4dff-97e1-05ce4d0c3ab8\" target=\"_top\" title=\"psysml:74f758db-603d-4dff-97e1-05ce4d0c3ab8\" xlink:actuate=\"onRequest\" xlink:href=\"psysml:74f758db-603d-4dff-97e1-05ce4d0c3ab8\" xlink:show=\"new\" xlink:title=\"psysml:74f758db-603d-4dff-97e1-05ce4d0c3ab8\" xlink:type=\"simple\"><polygon fill=\"none\" points=\"161,296,213.1875,296,220.1875,318.2969,386,318.2969,386,510,161,510,161,296\" style=\"stroke:#000000;stroke-width:1.5;\"/><line style=\"stroke:#000000;stroke-width:1.5;\" x1=\"161\" x2=\"220.1875\" y1=\"318.2969\" y2=\"318.2969\"/><text fill=\"#000000\" font-family=\"sans-serif\" font-size=\"14\" font-weight=\"bold\" lengthAdjust=\"spacing\" textLength=\"46.1875\" x=\"165\" y=\"310.9951\">Pkg21</text></a></g><!--MD5=[168fadf3d0c3fd93dd5d6da1b1d7ab76]\n",
       "cluster E7--><g id=\"cluster_E7\"><a href=\"psysml:c9292eea-a9ed-4d7d-b554-73a415b23d76\" target=\"_top\" title=\"psysml:c9292eea-a9ed-4d7d-b554-73a415b23d76\" xlink:actuate=\"onRequest\" xlink:href=\"psysml:c9292eea-a9ed-4d7d-b554-73a415b23d76\" xlink:show=\"new\" xlink:title=\"psysml:c9292eea-a9ed-4d7d-b554-73a415b23d76\" xlink:type=\"simple\"><polygon fill=\"none\" points=\"209,355,270.625,355,277.625,377.2969,346,377.2969,346,470,209,470,209,355\" style=\"stroke:#000000;stroke-width:1.5;\"/><line style=\"stroke:#000000;stroke-width:1.5;\" x1=\"209\" x2=\"277.625\" y1=\"377.2969\" y2=\"377.2969\"/><text fill=\"#000000\" font-family=\"sans-serif\" font-size=\"14\" font-weight=\"bold\" lengthAdjust=\"spacing\" textLength=\"55.625\" x=\"213\" y=\"369.9951\">Pkg211</text></a></g><!--MD5=[09b614a08d8cba4a07c9adeb5e0fee81]\n",
       "class E3--><a href=\"psysml:c9f16dae-c47d-4af9-8178-9fb29f2ca8fe\" target=\"_top\" title=\"psysml:c9f16dae-c47d-4af9-8178-9fb29f2ca8fe\" xlink:actuate=\"onRequest\" xlink:href=\"psysml:c9f16dae-c47d-4af9-8178-9fb29f2ca8fe\" xlink:show=\"new\" xlink:title=\"psysml:c9f16dae-c47d-4af9-8178-9fb29f2ca8fe\" xlink:type=\"simple\"><g id=\"elem_E3\"><rect fill=\"#FFFFFF\" height=\"48.2656\" id=\"E3\" rx=\"10\" ry=\"10\" style=\"stroke:#181818;stroke-width:0.5;\" width=\"86\" x=\"253\" y=\"100\"/><text fill=\"#000000\" font-family=\"sans-serif\" font-size=\"12\" font-style=\"italic\" lengthAdjust=\"spacing\" textLength=\"40\" x=\"276\" y=\"116.1387\">«part»</text><text fill=\"#000000\" font-family=\"sans-serif\" font-size=\"14\" lengthAdjust=\"spacing\" textLength=\"72\" x=\"256\" y=\"131.9639\">p11: P211</text><line style=\"stroke:#181818;stroke-width:0.5;\" x1=\"254\" x2=\"338\" y1=\"140.2656\" y2=\"140.2656\"/></g></a><!--MD5=[ebbe1d658d1005bcc118a6aa81145e00]\n",
       "class E4--><a href=\"psysml:5a85d6e7-c399-4e25-bc8b-7b1310ff596a\" target=\"_top\" title=\"psysml:5a85d6e7-c399-4e25-bc8b-7b1310ff596a\" xlink:actuate=\"onRequest\" xlink:href=\"psysml:5a85d6e7-c399-4e25-bc8b-7b1310ff596a\" xlink:show=\"new\" xlink:title=\"psysml:5a85d6e7-c399-4e25-bc8b-7b1310ff596a\" xlink:type=\"simple\"><g id=\"elem_E4\"><rect fill=\"#FFFFFF\" height=\"48.2656\" id=\"E4\" style=\"stroke:#181818;stroke-width:0.5;\" width=\"70\" x=\"374\" y=\"100\"/><text fill=\"#000000\" font-family=\"sans-serif\" font-size=\"12\" font-style=\"italic\" lengthAdjust=\"spacing\" textLength=\"68\" x=\"375\" y=\"116.1387\">«part  def»</text><text fill=\"#000000\" font-family=\"sans-serif\" font-size=\"14\" lengthAdjust=\"spacing\" textLength=\"27\" x=\"395.5\" y=\"131.9639\">P12</text><line style=\"stroke:#181818;stroke-width:0.5;\" x1=\"375\" x2=\"443\" y1=\"140.2656\" y2=\"140.2656\"/></g></a><!--MD5=[b9389687b975829384b498ac4b7476b2]\n",
       "class E8--><a href=\"psysml:60f2756c-cfe4-4496-b687-ff5dbf9a385d\" target=\"_top\" title=\"psysml:60f2756c-cfe4-4496-b687-ff5dbf9a385d\" xlink:actuate=\"onRequest\" xlink:href=\"psysml:60f2756c-cfe4-4496-b687-ff5dbf9a385d\" xlink:show=\"new\" xlink:title=\"psysml:60f2756c-cfe4-4496-b687-ff5dbf9a385d\" xlink:type=\"simple\"><g id=\"elem_E8\"><rect fill=\"#FFFFFF\" height=\"48.2656\" id=\"E8\" style=\"stroke:#181818;stroke-width:0.5;\" width=\"70\" x=\"252\" y=\"398\"/><text fill=\"#000000\" font-family=\"sans-serif\" font-size=\"12\" font-style=\"italic\" lengthAdjust=\"spacing\" textLength=\"68\" x=\"253\" y=\"414.1387\">«part  def»</text><text fill=\"#000000\" font-family=\"sans-serif\" font-size=\"14\" lengthAdjust=\"spacing\" textLength=\"36\" x=\"269\" y=\"429.9639\">P211</text><line style=\"stroke:#181818;stroke-width:0.5;\" x1=\"253\" x2=\"321\" y1=\"438.2656\" y2=\"438.2656\"/></g></a><!--MD5=[b0060bfdb0500b904584095522b4da3c]\n",
       "link E2 to E8--><g id=\"link_E2_E8\"><a href=\"psysml:7a09cf9a-4d44-4715-925a-a999429b18c6\" target=\"_top\" title=\"psysml:7a09cf9a-4d44-4715-925a-a999429b18c6\" xlink:actuate=\"onRequest\" xlink:href=\"psysml:7a09cf9a-4d44-4715-925a-a999429b18c6\" xlink:show=\"new\" xlink:title=\"psysml:7a09cf9a-4d44-4715-925a-a999429b18c6\" xlink:type=\"simple\"><path d=\"M232.2377,172.2086 C232.2699,172.3152 232.3019,172.4214 232.3339,172.5274 C232.4617,172.9512 232.5879,173.3697 232.7124,173.7825 C233.2104,175.4336 233.6806,176.993 234.1144,178.4313 C235.8494,184.1844 237,188 237,188 C237,188 264,196 264,196 C264,196 277.9,331.95 284.09,392.5 \" fill=\"none\" id=\"E2-to-E8\" style=\"stroke:#181818;stroke-width:1.0;stroke-dasharray:7.0,7.0;\"/><polygon fill=\"#181818\" points=\"284.63,397.77,287.7093,388.4149,284.1297,392.7951,279.7494,389.2155,284.63,397.77\" style=\"stroke:#181818;stroke-width:1.0;\"/><text fill=\"#000000\" font-family=\"sans-serif\" font-size=\"13\" lengthAdjust=\"spacing\" textLength=\"58\" x=\"266\" y=\"209.0669\">«import»</text></a></g><!--MD5=[e3e28c1befcf002155aa15e1416b4315]\n",
       "link E2 to E6--><g id=\"link_E2_E6\"><a href=\"psysml:4d48d5b8-8a2b-403b-a600-382befb1c751\" target=\"_top\" title=\"psysml:4d48d5b8-8a2b-403b-a600-382befb1c751\" xlink:actuate=\"onRequest\" xlink:href=\"psysml:4d48d5b8-8a2b-403b-a600-382befb1c751\" xlink:show=\"new\" xlink:title=\"psysml:4d48d5b8-8a2b-403b-a600-382befb1c751\" xlink:type=\"simple\"><path d=\"M209.8354,129.7501 C209.7107,129.8227 209.5847,129.896 209.4575,129.9701 C209.2031,130.1181 208.9438,130.269 208.6798,130.4227 C207.6236,131.0374 206.491,131.6966 205.2893,132.396 C202.8858,133.7949 200.2054,135.3549 197.3048,137.043 C185.7028,143.7953 170.5794,152.5969 155.5713,161.3313 C125.555,178.8 96,196 96,196 C96,196 96,213 96,213 C96,213 113.685,263.3875 131.6463,314.5625 C140.6269,340.15 149.6766,365.9344 156.6192,385.7156 C157.4871,388.1883 158.322,390.5671 159.1197,392.8401 C159.5186,393.9766 159.9081,395.0866 160.2879,396.1686 C160.4778,396.7096 160.6652,397.2436 160.8501,397.7704 \" fill=\"none\" id=\"E2-to-E6\" style=\"stroke:#181818;stroke-width:1.0;stroke-dasharray:7.0,7.0;\"/><polygon fill=\"#181818\" points=\"160.8501,397.7704,161.6439,387.9536,159.1943,393.0525,154.0953,390.6029,160.8501,397.7704\" style=\"stroke:#181818;stroke-width:1.0;\"/><text fill=\"#000000\" font-family=\"sans-serif\" font-size=\"13\" lengthAdjust=\"spacing\" textLength=\"65\" x=\"97\" y=\"209.0669\">«import»*</text></a></g><!--MD5=[e3d2a08a9c9236652057e8ed0cbc9b62]\n",
       "link E2 to E7--><g id=\"link_E2_E7\"><a href=\"psysml:435ffdce-fa99-42b8-aa7d-b79facf9bf9f\" target=\"_top\" title=\"psysml:435ffdce-fa99-42b8-aa7d-b79facf9bf9f\" xlink:actuate=\"onRequest\" xlink:href=\"psysml:435ffdce-fa99-42b8-aa7d-b79facf9bf9f\" xlink:show=\"new\" xlink:title=\"psysml:435ffdce-fa99-42b8-aa7d-b79facf9bf9f\" xlink:type=\"simple\"><path d=\"M209.8171,137.361 C209.7466,137.4675 209.6758,137.5745 209.6046,137.6819 C209.4623,137.8969 209.3187,138.1138 209.1739,138.3325 C208.8842,138.77 208.5896,139.215 208.2904,139.667 C207.6919,140.571 207.075,141.5028 206.4424,142.4584 C205.1772,144.3696 203.8491,146.3757 202.48,148.4438 C199.7418,152.5801 196.8397,156.9641 193.9488,161.3313 C182.385,178.8 171,196 171,196 C171,196 171,213 171,213 C171,213 213,221 213,221 C213,221 213.97,269.45 214.955,318.6575 C215.2013,330.9594 215.4484,343.3086 215.6816,354.96 \" fill=\"none\" id=\"E2-to-E7\" style=\"stroke:#181818;stroke-width:1.0;stroke-dasharray:7.0,7.0;\"/><polygon fill=\"#181818\" points=\"215.6816,354.96,219.5007,345.8817,215.5816,349.961,211.5023,346.0418,215.6816,354.96\" style=\"stroke:#181818;stroke-width:1.0;\"/><text fill=\"#000000\" font-family=\"sans-serif\" font-size=\"13\" lengthAdjust=\"spacing\" textLength=\"87\" x=\"172\" y=\"209.0669\">«import»*::**</text></a></g><!--MD5=[ca5a752d6098d8a44b3f88316e7452d1]\n",
       "link E3 to E8--><g id=\"link_E3_E8\"><a href=\"psysml:c2b3862a-e64c-4984-9133-ea986cde4555\" target=\"_top\" title=\"psysml:c2b3862a-e64c-4984-9133-ea986cde4555\" xlink:actuate=\"onRequest\" xlink:href=\"psysml:c2b3862a-e64c-4984-9133-ea986cde4555\" xlink:show=\"new\" xlink:title=\"psysml:c2b3862a-e64c-4984-9133-ea986cde4555\" xlink:type=\"simple\"><path d=\"M318.27,148.25 C338.1,168.95 364,196 364,196 C364,196 364,213 364,213 C364,213 326,221 326,221 C326,221 306.92,318.86 295.45,377.67 \" fill=\"none\" id=\"E3-to-E8\" style=\"stroke:#181818;stroke-width:1.0;\"/><polygon fill=\"#FFFFFF\" points=\"291.55,397.67,288.3169,377.6813,302.0579,380.3615,291.55,397.67\" style=\"stroke:#181818;stroke-width:1.0;\"/><ellipse cx=\"291.3711\" cy=\"372.4696\" fill=\"#181818\" rx=\"2\" ry=\"2\" style=\"stroke:#181818;stroke-width:1.0;\"/><ellipse cx=\"301.1862\" cy=\"374.3841\" fill=\"#181818\" rx=\"2\" ry=\"2\" style=\"stroke:#181818;stroke-width:1.0;\"/></a></g><!--MD5=[15ebcb19ae302d9b601edb458606d402]\n",
       "link E5 to E2--><g id=\"link_E5_E2\"><a href=\"psysml:2e43f05d-56e8-4995-94de-93836f9907a6\" target=\"_top\" title=\"psysml:2e43f05d-56e8-4995-94de-93836f9907a6\" xlink:actuate=\"onRequest\" xlink:href=\"psysml:2e43f05d-56e8-4995-94de-93836f9907a6\" xlink:show=\"new\" xlink:title=\"psysml:2e43f05d-56e8-4995-94de-93836f9907a6\" xlink:type=\"simple\"><path d=\"M349.5868,236.1277 C349.3055,235.4469 349.0266,234.7723 348.7504,234.104 C348.1979,232.7675 347.6559,231.4563 347.1252,230.1722 C338.6325,209.6263 333,196 333,196 C333,196 237,188 237,188 C237,188 235.8494,184.1844 234.1144,178.4313 C233.6806,176.993 233.2104,175.4336 232.7124,173.7825 C232.5879,173.3697 232.4617,172.9512 232.3339,172.5274 C232.3019,172.4214 232.2699,172.3152 232.2377,172.2086 \" fill=\"none\" id=\"E5-to-E2\" style=\"stroke:#181818;stroke-width:1.0;stroke-dasharray:7.0,7.0;\"/><polygon fill=\"#181818\" points=\"232.2377,172.2086,231.0068,181.9802,233.6814,176.9956,238.666,179.6703,232.2377,172.2086\" style=\"stroke:#181818;stroke-width:1.0;\"/><text fill=\"#000000\" font-family=\"sans-serif\" font-size=\"13\" lengthAdjust=\"spacing\" textLength=\"65\" x=\"340\" y=\"209.0669\">«import»*</text></a></g><!--MD5=[d7bb3fb34add81b710575eb3799fa2ad]\n",
       "link E8 to E4--><g id=\"link_E8_E4\"><a href=\"psysml:6ab4f965-70f0-4435-9c9c-0953ad10c713\" target=\"_top\" title=\"psysml:6ab4f965-70f0-4435-9c9c-0953ad10c713\" xlink:actuate=\"onRequest\" xlink:href=\"psysml:6ab4f965-70f0-4435-9c9c-0953ad10c713\" xlink:show=\"new\" xlink:title=\"psysml:6ab4f965-70f0-4435-9c9c-0953ad10c713\" xlink:type=\"simple\"><path d=\"M291.55,397.67 C301.84,344.91 326,221 326,221 C326,221 478,213 478,213 C478,213 478,196 478,196 C478,196 462.12,179.66 445.59,162.65 \" fill=\"none\" id=\"E8-to-E4\" style=\"stroke:#181818;stroke-width:1.0;\"/><polygon fill=\"none\" points=\"440.51,167.47,431.59,148.25,450.55,157.71,440.51,167.47\" style=\"stroke:#181818;stroke-width:1.0;\"/></a></g><!--MD5=[b2227d79d3c72036db9073eca9cdaf3c]\n",
       "@startuml\r\n",
       "skin sysmlbw\r\n",
       "skinparam monochrome true\r\n",
       "skinparam wrapWidth 300\r\n",
       "hide circle\r\n",
       "skinparam linetype polyline\r\n",
       "\r\n",
       "package \"ImportTest\" as E1  [[psysml:257ae3bb-e982-4f23-93ec-21786cef6fd4 ]]  {\r\n",
       "package \"Pkg1\" as E2  [[psysml:d86f8a04-756e-41fe-890d-bee1afc1808f ]]  {\r\n",
       "comp usage \"p11: P211  \" as E3  <<(T,blue) part>> [[psysml:c9f16dae-c47d-4af9-8178-9fb29f2ca8fe ]] {\r\n",
       "}\r\n",
       "comp def \"P12\" as E4  <<(T,blue) part  def>> [[psysml:5a85d6e7-c399-4e25-bc8b-7b1310ff596a ]] {\r\n",
       "}\r\n",
       "}\r\n",
       "package \"Pkg2\" as E5  [[psysml:87b5aefc-a384-45d2-9563-354f132d05b6 ]]  {\r\n",
       "package \"Pkg21\" as E6  [[psysml:74f758db-603d-4dff-97e1-05ce4d0c3ab8 ]]  {\r\n",
       "package \"Pkg211\" as E7  [[psysml:c9292eea-a9ed-4d7d-b554-73a415b23d76 ]]  {\r\n",
       "comp def \"P211\" as E8  <<(T,blue) part  def>> [[psysml:60f2756c-cfe4-4496-b687-ff5dbf9a385d ]] {\r\n",
       "}\r\n",
       "}\r\n",
       "}\r\n",
       "}\r\n",
       "}\r\n",
       "E2 ..> E8 [[psysml:7a09cf9a-4d44-4715-925a-a999429b18c6 ]] : <<import>>\r\n",
       "E2 ..> E6 [[psysml:4d48d5b8-8a2b-403b-a600-382befb1c751 ]] : <<import>>*\r\n",
       "E2 ..> E7 [[psysml:435ffdce-fa99-42b8-aa7d-b79facf9bf9f ]] : <<import>>*::**\r\n",
       "E3 - -:|> E8 [[psysml:c2b3862a-e64c-4984-9133-ea986cde4555 ]] \r\n",
       "E5 ..> E2 [[psysml:2e43f05d-56e8-4995-94de-93836f9907a6 ]] : <<import>>*\r\n",
       "E8 - -|> E4 [[psysml:6ab4f965-70f0-4435-9c9c-0953ad10c713 ]] \r\n",
       "@enduml\r\n",
       "\n",
       "PlantUML version 1.2022.7(Mon Aug 22 17:01:30 UTC 2022)\n",
       "(EPL source distribution)\n",
       "Java Runtime: OpenJDK Runtime Environment\n",
       "JVM: OpenJDK 64-Bit Server VM\n",
       "Default Encoding: UTF-8\n",
       "Language: en\n",
       "Country: null\n",
       "--></g></svg>"
      ]
     },
     "execution_count": 9,
     "metadata": {},
     "output_type": "execute_result"
    }
   ],
   "source": [
    "%viz --style=\"POLYLINE\" --view=\"Default\" \"ImportTest\""
   ]
  },
  {
   "cell_type": "code",
   "execution_count": 10,
   "id": "43b7c129",
   "metadata": {
    "execution": {
     "iopub.execute_input": "2024-12-16T14:16:20.247050Z",
     "iopub.status.busy": "2024-12-16T14:16:20.246830Z",
     "iopub.status.idle": "2024-12-16T14:16:20.279155Z",
     "shell.execute_reply": "2024-12-16T14:16:20.279294Z"
    }
   },
   "outputs": [
    {
     "data": {
      "image/svg+xml": [
       "<?xml version=\"1.0\" encoding=\"UTF-8\" standalone=\"no\"?><svg xmlns=\"http://www.w3.org/2000/svg\" xmlns:xlink=\"http://www.w3.org/1999/xlink\" contentStyleType=\"text/css\" height=\"589px\" preserveAspectRatio=\"none\" style=\"width:517px;height:589px;background:#FFFFFF;\" version=\"1.1\" viewBox=\"0 0 517 589\" width=\"517px\" zoomAndPan=\"magnify\"><defs/><g><!--MD5=[fbc87193dbaf4d95561dea2c320d4a47]\n",
       "cluster E1--><g id=\"cluster_E1\"><a href=\"psysml:257ae3bb-e982-4f23-93ec-21786cef6fd4\" target=\"_top\" title=\"psysml:257ae3bb-e982-4f23-93ec-21786cef6fd4\" xlink:actuate=\"onRequest\" xlink:href=\"psysml:257ae3bb-e982-4f23-93ec-21786cef6fd4\" xlink:show=\"new\" xlink:title=\"psysml:257ae3bb-e982-4f23-93ec-21786cef6fd4\" xlink:type=\"simple\"><polygon fill=\"none\" points=\"16,6,101.375,6,108.375,28.2969,500,28.2969,500,582,16,582,16,6\" style=\"stroke:#000000;stroke-width:1.5;\"/><line style=\"stroke:#000000;stroke-width:1.5;\" x1=\"16\" x2=\"108.375\" y1=\"28.2969\" y2=\"28.2969\"/><text fill=\"#000000\" font-family=\"sans-serif\" font-size=\"14\" font-weight=\"bold\" lengthAdjust=\"spacing\" textLength=\"79.375\" x=\"20\" y=\"20.9951\">ImportTest</text></a></g><!--MD5=[e4f7fae6ed58524ba242bb0b0d3be6b7]\n",
       "cluster E2--><g id=\"cluster_E2\"><a href=\"psysml:d86f8a04-756e-41fe-890d-bee1afc1808f\" target=\"_top\" title=\"psysml:d86f8a04-756e-41fe-890d-bee1afc1808f\" xlink:actuate=\"onRequest\" xlink:href=\"psysml:d86f8a04-756e-41fe-890d-bee1afc1808f\" xlink:show=\"new\" xlink:title=\"psysml:d86f8a04-756e-41fe-890d-bee1afc1808f\" xlink:type=\"simple\"><polygon fill=\"none\" points=\"210,57,252.75,57,259.75,79.2969,468,79.2969,468,172,210,172,210,57\" style=\"stroke:#000000;stroke-width:1.5;\"/><line style=\"stroke:#000000;stroke-width:1.5;\" x1=\"210\" x2=\"259.75\" y1=\"79.2969\" y2=\"79.2969\"/><text fill=\"#000000\" font-family=\"sans-serif\" font-size=\"14\" font-weight=\"bold\" lengthAdjust=\"spacing\" textLength=\"36.75\" x=\"214\" y=\"71.9951\">Pkg1</text></a></g><!--MD5=[de5ec2e2e8f62f467e546659f5068c88]\n",
       "cluster E5--><g id=\"cluster_E5\"><a href=\"psysml:87b5aefc-a384-45d2-9563-354f132d05b6\" target=\"_top\" title=\"psysml:87b5aefc-a384-45d2-9563-354f132d05b6\" xlink:actuate=\"onRequest\" xlink:href=\"psysml:87b5aefc-a384-45d2-9563-354f132d05b6\" xlink:show=\"new\" xlink:title=\"psysml:87b5aefc-a384-45d2-9563-354f132d05b6\" xlink:type=\"simple\"><polygon fill=\"none\" points=\"121,237,163.75,237,170.75,259.2969,434,259.2969,434,550,121,550,121,237\" style=\"stroke:#000000;stroke-width:1.5;\"/><line style=\"stroke:#000000;stroke-width:1.5;\" x1=\"121\" x2=\"170.75\" y1=\"259.2969\" y2=\"259.2969\"/><text fill=\"#000000\" font-family=\"sans-serif\" font-size=\"14\" font-weight=\"bold\" lengthAdjust=\"spacing\" textLength=\"36.75\" x=\"125\" y=\"251.9951\">Pkg2</text></a></g><!--MD5=[14e3b0961a2654348d326746436168a1]\n",
       "cluster E6--><g id=\"cluster_E6\"><a href=\"psysml:74f758db-603d-4dff-97e1-05ce4d0c3ab8\" target=\"_top\" title=\"psysml:74f758db-603d-4dff-97e1-05ce4d0c3ab8\" xlink:actuate=\"onRequest\" xlink:href=\"psysml:74f758db-603d-4dff-97e1-05ce4d0c3ab8\" xlink:show=\"new\" xlink:title=\"psysml:74f758db-603d-4dff-97e1-05ce4d0c3ab8\" xlink:type=\"simple\"><polygon fill=\"none\" points=\"161,296,213.1875,296,220.1875,318.2969,386,318.2969,386,510,161,510,161,296\" style=\"stroke:#000000;stroke-width:1.5;\"/><line style=\"stroke:#000000;stroke-width:1.5;\" x1=\"161\" x2=\"220.1875\" y1=\"318.2969\" y2=\"318.2969\"/><text fill=\"#000000\" font-family=\"sans-serif\" font-size=\"14\" font-weight=\"bold\" lengthAdjust=\"spacing\" textLength=\"46.1875\" x=\"165\" y=\"310.9951\">Pkg21</text></a></g><!--MD5=[168fadf3d0c3fd93dd5d6da1b1d7ab76]\n",
       "cluster E7--><g id=\"cluster_E7\"><a href=\"psysml:c9292eea-a9ed-4d7d-b554-73a415b23d76\" target=\"_top\" title=\"psysml:c9292eea-a9ed-4d7d-b554-73a415b23d76\" xlink:actuate=\"onRequest\" xlink:href=\"psysml:c9292eea-a9ed-4d7d-b554-73a415b23d76\" xlink:show=\"new\" xlink:title=\"psysml:c9292eea-a9ed-4d7d-b554-73a415b23d76\" xlink:type=\"simple\"><polygon fill=\"none\" points=\"209,355,270.625,355,277.625,377.2969,346,377.2969,346,470,209,470,209,355\" style=\"stroke:#000000;stroke-width:1.5;\"/><line style=\"stroke:#000000;stroke-width:1.5;\" x1=\"209\" x2=\"277.625\" y1=\"377.2969\" y2=\"377.2969\"/><text fill=\"#000000\" font-family=\"sans-serif\" font-size=\"14\" font-weight=\"bold\" lengthAdjust=\"spacing\" textLength=\"55.625\" x=\"213\" y=\"369.9951\">Pkg211</text></a></g><!--MD5=[09b614a08d8cba4a07c9adeb5e0fee81]\n",
       "class E3--><a href=\"psysml:c9f16dae-c47d-4af9-8178-9fb29f2ca8fe\" target=\"_top\" title=\"psysml:c9f16dae-c47d-4af9-8178-9fb29f2ca8fe\" xlink:actuate=\"onRequest\" xlink:href=\"psysml:c9f16dae-c47d-4af9-8178-9fb29f2ca8fe\" xlink:show=\"new\" xlink:title=\"psysml:c9f16dae-c47d-4af9-8178-9fb29f2ca8fe\" xlink:type=\"simple\"><g id=\"elem_E3\"><rect fill=\"#FFFFFF\" height=\"48.2656\" id=\"E3\" rx=\"10\" ry=\"10\" style=\"stroke:#181818;stroke-width:0.5;\" width=\"86\" x=\"253\" y=\"100\"/><text fill=\"#000000\" font-family=\"sans-serif\" font-size=\"12\" font-style=\"italic\" lengthAdjust=\"spacing\" textLength=\"40\" x=\"276\" y=\"116.1387\">«part»</text><text fill=\"#000000\" font-family=\"sans-serif\" font-size=\"14\" lengthAdjust=\"spacing\" textLength=\"72\" x=\"256\" y=\"131.9639\">p11: P211</text><line style=\"stroke:#181818;stroke-width:0.5;\" x1=\"254\" x2=\"338\" y1=\"140.2656\" y2=\"140.2656\"/></g></a><!--MD5=[ebbe1d658d1005bcc118a6aa81145e00]\n",
       "class E4--><a href=\"psysml:5a85d6e7-c399-4e25-bc8b-7b1310ff596a\" target=\"_top\" title=\"psysml:5a85d6e7-c399-4e25-bc8b-7b1310ff596a\" xlink:actuate=\"onRequest\" xlink:href=\"psysml:5a85d6e7-c399-4e25-bc8b-7b1310ff596a\" xlink:show=\"new\" xlink:title=\"psysml:5a85d6e7-c399-4e25-bc8b-7b1310ff596a\" xlink:type=\"simple\"><g id=\"elem_E4\"><rect fill=\"#FFFFFF\" height=\"48.2656\" id=\"E4\" style=\"stroke:#181818;stroke-width:0.5;\" width=\"70\" x=\"374\" y=\"100\"/><text fill=\"#000000\" font-family=\"sans-serif\" font-size=\"12\" font-style=\"italic\" lengthAdjust=\"spacing\" textLength=\"68\" x=\"375\" y=\"116.1387\">«part  def»</text><text fill=\"#000000\" font-family=\"sans-serif\" font-size=\"14\" lengthAdjust=\"spacing\" textLength=\"27\" x=\"395.5\" y=\"131.9639\">P12</text><line style=\"stroke:#181818;stroke-width:0.5;\" x1=\"375\" x2=\"443\" y1=\"140.2656\" y2=\"140.2656\"/></g></a><!--MD5=[b9389687b975829384b498ac4b7476b2]\n",
       "class E8--><a href=\"psysml:60f2756c-cfe4-4496-b687-ff5dbf9a385d\" target=\"_top\" title=\"psysml:60f2756c-cfe4-4496-b687-ff5dbf9a385d\" xlink:actuate=\"onRequest\" xlink:href=\"psysml:60f2756c-cfe4-4496-b687-ff5dbf9a385d\" xlink:show=\"new\" xlink:title=\"psysml:60f2756c-cfe4-4496-b687-ff5dbf9a385d\" xlink:type=\"simple\"><g id=\"elem_E8\"><rect fill=\"#FFFFFF\" height=\"48.2656\" id=\"E8\" style=\"stroke:#181818;stroke-width:0.5;\" width=\"70\" x=\"252\" y=\"398\"/><text fill=\"#000000\" font-family=\"sans-serif\" font-size=\"12\" font-style=\"italic\" lengthAdjust=\"spacing\" textLength=\"68\" x=\"253\" y=\"414.1387\">«part  def»</text><text fill=\"#000000\" font-family=\"sans-serif\" font-size=\"14\" lengthAdjust=\"spacing\" textLength=\"36\" x=\"269\" y=\"429.9639\">P211</text><line style=\"stroke:#181818;stroke-width:0.5;\" x1=\"253\" x2=\"321\" y1=\"438.2656\" y2=\"438.2656\"/></g></a><!--MD5=[b0060bfdb0500b904584095522b4da3c]\n",
       "link E2 to E8--><g id=\"link_E2_E8\"><a href=\"psysml:7a09cf9a-4d44-4715-925a-a999429b18c6\" target=\"_top\" title=\"psysml:7a09cf9a-4d44-4715-925a-a999429b18c6\" xlink:actuate=\"onRequest\" xlink:href=\"psysml:7a09cf9a-4d44-4715-925a-a999429b18c6\" xlink:show=\"new\" xlink:title=\"psysml:7a09cf9a-4d44-4715-925a-a999429b18c6\" xlink:type=\"simple\"><path d=\"M232.2377,172.2086 C232.2699,172.3152 232.3019,172.4214 232.3339,172.5274 C232.4617,172.9512 232.5879,173.3697 232.7124,173.7825 C233.2104,175.4336 233.6806,176.993 234.1144,178.4313 C235.8494,184.1844 237,188 237,188 C237,188 264,196 264,196 C264,196 277.9,331.95 284.09,392.5 \" fill=\"none\" id=\"E2-to-E8\" style=\"stroke:#181818;stroke-width:1.0;stroke-dasharray:7.0,7.0;\"/><polygon fill=\"#181818\" points=\"284.63,397.77,287.7093,388.4149,284.1297,392.7951,279.7494,389.2155,284.63,397.77\" style=\"stroke:#181818;stroke-width:1.0;\"/><text fill=\"#000000\" font-family=\"sans-serif\" font-size=\"13\" lengthAdjust=\"spacing\" textLength=\"58\" x=\"266\" y=\"209.0669\">«import»</text></a></g><!--MD5=[e3e28c1befcf002155aa15e1416b4315]\n",
       "link E2 to E6--><g id=\"link_E2_E6\"><a href=\"psysml:4d48d5b8-8a2b-403b-a600-382befb1c751\" target=\"_top\" title=\"psysml:4d48d5b8-8a2b-403b-a600-382befb1c751\" xlink:actuate=\"onRequest\" xlink:href=\"psysml:4d48d5b8-8a2b-403b-a600-382befb1c751\" xlink:show=\"new\" xlink:title=\"psysml:4d48d5b8-8a2b-403b-a600-382befb1c751\" xlink:type=\"simple\"><path d=\"M209.8354,129.7501 C209.7107,129.8227 209.5847,129.896 209.4575,129.9701 C209.2031,130.1181 208.9438,130.269 208.6798,130.4227 C207.6236,131.0374 206.491,131.6966 205.2893,132.396 C202.8858,133.7949 200.2054,135.3549 197.3048,137.043 C185.7028,143.7953 170.5794,152.5969 155.5713,161.3313 C125.555,178.8 96,196 96,196 C96,196 96,213 96,213 C96,213 113.685,263.3875 131.6463,314.5625 C140.6269,340.15 149.6766,365.9344 156.6192,385.7156 C157.4871,388.1883 158.322,390.5671 159.1197,392.8401 C159.5186,393.9766 159.9081,395.0866 160.2879,396.1686 C160.4778,396.7096 160.6652,397.2436 160.8501,397.7704 \" fill=\"none\" id=\"E2-to-E6\" style=\"stroke:#181818;stroke-width:1.0;stroke-dasharray:7.0,7.0;\"/><polygon fill=\"#181818\" points=\"160.8501,397.7704,161.6439,387.9536,159.1943,393.0525,154.0953,390.6029,160.8501,397.7704\" style=\"stroke:#181818;stroke-width:1.0;\"/><text fill=\"#000000\" font-family=\"sans-serif\" font-size=\"13\" lengthAdjust=\"spacing\" textLength=\"65\" x=\"97\" y=\"209.0669\">«import»*</text></a></g><!--MD5=[e3d2a08a9c9236652057e8ed0cbc9b62]\n",
       "link E2 to E7--><g id=\"link_E2_E7\"><a href=\"psysml:435ffdce-fa99-42b8-aa7d-b79facf9bf9f\" target=\"_top\" title=\"psysml:435ffdce-fa99-42b8-aa7d-b79facf9bf9f\" xlink:actuate=\"onRequest\" xlink:href=\"psysml:435ffdce-fa99-42b8-aa7d-b79facf9bf9f\" xlink:show=\"new\" xlink:title=\"psysml:435ffdce-fa99-42b8-aa7d-b79facf9bf9f\" xlink:type=\"simple\"><path d=\"M209.8171,137.361 C209.7466,137.4675 209.6758,137.5745 209.6046,137.6819 C209.4623,137.8969 209.3187,138.1138 209.1739,138.3325 C208.8842,138.77 208.5896,139.215 208.2904,139.667 C207.6919,140.571 207.075,141.5028 206.4424,142.4584 C205.1772,144.3696 203.8491,146.3757 202.48,148.4438 C199.7418,152.5801 196.8397,156.9641 193.9488,161.3313 C182.385,178.8 171,196 171,196 C171,196 171,213 171,213 C171,213 213,221 213,221 C213,221 213.97,269.45 214.955,318.6575 C215.2013,330.9594 215.4484,343.3086 215.6816,354.96 \" fill=\"none\" id=\"E2-to-E7\" style=\"stroke:#181818;stroke-width:1.0;stroke-dasharray:7.0,7.0;\"/><polygon fill=\"#181818\" points=\"215.6816,354.96,219.5007,345.8817,215.5816,349.961,211.5023,346.0418,215.6816,354.96\" style=\"stroke:#181818;stroke-width:1.0;\"/><text fill=\"#000000\" font-family=\"sans-serif\" font-size=\"13\" lengthAdjust=\"spacing\" textLength=\"87\" x=\"172\" y=\"209.0669\">«import»*::**</text></a></g><!--MD5=[ca5a752d6098d8a44b3f88316e7452d1]\n",
       "link E3 to E8--><g id=\"link_E3_E8\"><a href=\"psysml:c2b3862a-e64c-4984-9133-ea986cde4555\" target=\"_top\" title=\"psysml:c2b3862a-e64c-4984-9133-ea986cde4555\" xlink:actuate=\"onRequest\" xlink:href=\"psysml:c2b3862a-e64c-4984-9133-ea986cde4555\" xlink:show=\"new\" xlink:title=\"psysml:c2b3862a-e64c-4984-9133-ea986cde4555\" xlink:type=\"simple\"><path d=\"M318.27,148.25 C338.1,168.95 364,196 364,196 C364,196 364,213 364,213 C364,213 326,221 326,221 C326,221 306.92,318.86 295.45,377.67 \" fill=\"none\" id=\"E3-to-E8\" style=\"stroke:#181818;stroke-width:1.0;\"/><polygon fill=\"#FFFFFF\" points=\"291.55,397.67,288.3169,377.6813,302.0579,380.3615,291.55,397.67\" style=\"stroke:#181818;stroke-width:1.0;\"/><ellipse cx=\"291.3711\" cy=\"372.4696\" fill=\"#181818\" rx=\"2\" ry=\"2\" style=\"stroke:#181818;stroke-width:1.0;\"/><ellipse cx=\"301.1862\" cy=\"374.3841\" fill=\"#181818\" rx=\"2\" ry=\"2\" style=\"stroke:#181818;stroke-width:1.0;\"/></a></g><!--MD5=[15ebcb19ae302d9b601edb458606d402]\n",
       "link E5 to E2--><g id=\"link_E5_E2\"><a href=\"psysml:2e43f05d-56e8-4995-94de-93836f9907a6\" target=\"_top\" title=\"psysml:2e43f05d-56e8-4995-94de-93836f9907a6\" xlink:actuate=\"onRequest\" xlink:href=\"psysml:2e43f05d-56e8-4995-94de-93836f9907a6\" xlink:show=\"new\" xlink:title=\"psysml:2e43f05d-56e8-4995-94de-93836f9907a6\" xlink:type=\"simple\"><path d=\"M349.5868,236.1277 C349.3055,235.4469 349.0266,234.7723 348.7504,234.104 C348.1979,232.7675 347.6559,231.4563 347.1252,230.1722 C338.6325,209.6263 333,196 333,196 C333,196 237,188 237,188 C237,188 235.8494,184.1844 234.1144,178.4313 C233.6806,176.993 233.2104,175.4336 232.7124,173.7825 C232.5879,173.3697 232.4617,172.9512 232.3339,172.5274 C232.3019,172.4214 232.2699,172.3152 232.2377,172.2086 \" fill=\"none\" id=\"E5-to-E2\" style=\"stroke:#181818;stroke-width:1.0;stroke-dasharray:7.0,7.0;\"/><polygon fill=\"#181818\" points=\"232.2377,172.2086,231.0068,181.9802,233.6814,176.9956,238.666,179.6703,232.2377,172.2086\" style=\"stroke:#181818;stroke-width:1.0;\"/><text fill=\"#000000\" font-family=\"sans-serif\" font-size=\"13\" lengthAdjust=\"spacing\" textLength=\"65\" x=\"340\" y=\"209.0669\">«import»*</text></a></g><!--MD5=[d7bb3fb34add81b710575eb3799fa2ad]\n",
       "link E8 to E4--><g id=\"link_E8_E4\"><a href=\"psysml:6ab4f965-70f0-4435-9c9c-0953ad10c713\" target=\"_top\" title=\"psysml:6ab4f965-70f0-4435-9c9c-0953ad10c713\" xlink:actuate=\"onRequest\" xlink:href=\"psysml:6ab4f965-70f0-4435-9c9c-0953ad10c713\" xlink:show=\"new\" xlink:title=\"psysml:6ab4f965-70f0-4435-9c9c-0953ad10c713\" xlink:type=\"simple\"><path d=\"M291.55,397.67 C301.84,344.91 326,221 326,221 C326,221 478,213 478,213 C478,213 478,196 478,196 C478,196 462.12,179.66 445.59,162.65 \" fill=\"none\" id=\"E8-to-E4\" style=\"stroke:#181818;stroke-width:1.0;\"/><polygon fill=\"none\" points=\"440.51,167.47,431.59,148.25,450.55,157.71,440.51,167.47\" style=\"stroke:#181818;stroke-width:1.0;\"/></a></g><!--MD5=[b2227d79d3c72036db9073eca9cdaf3c]\n",
       "@startuml\r\n",
       "skin sysmlbw\r\n",
       "skinparam monochrome true\r\n",
       "skinparam wrapWidth 300\r\n",
       "hide circle\r\n",
       "skinparam linetype polyline\r\n",
       "\r\n",
       "package \"ImportTest\" as E1  [[psysml:257ae3bb-e982-4f23-93ec-21786cef6fd4 ]]  {\r\n",
       "package \"Pkg1\" as E2  [[psysml:d86f8a04-756e-41fe-890d-bee1afc1808f ]]  {\r\n",
       "comp usage \"p11: P211  \" as E3  <<(T,blue) part>> [[psysml:c9f16dae-c47d-4af9-8178-9fb29f2ca8fe ]] {\r\n",
       "}\r\n",
       "comp def \"P12\" as E4  <<(T,blue) part  def>> [[psysml:5a85d6e7-c399-4e25-bc8b-7b1310ff596a ]] {\r\n",
       "}\r\n",
       "}\r\n",
       "package \"Pkg2\" as E5  [[psysml:87b5aefc-a384-45d2-9563-354f132d05b6 ]]  {\r\n",
       "package \"Pkg21\" as E6  [[psysml:74f758db-603d-4dff-97e1-05ce4d0c3ab8 ]]  {\r\n",
       "package \"Pkg211\" as E7  [[psysml:c9292eea-a9ed-4d7d-b554-73a415b23d76 ]]  {\r\n",
       "comp def \"P211\" as E8  <<(T,blue) part  def>> [[psysml:60f2756c-cfe4-4496-b687-ff5dbf9a385d ]] {\r\n",
       "}\r\n",
       "}\r\n",
       "}\r\n",
       "}\r\n",
       "}\r\n",
       "E2 ..> E8 [[psysml:7a09cf9a-4d44-4715-925a-a999429b18c6 ]] : <<import>>\r\n",
       "E2 ..> E6 [[psysml:4d48d5b8-8a2b-403b-a600-382befb1c751 ]] : <<import>>*\r\n",
       "E2 ..> E7 [[psysml:435ffdce-fa99-42b8-aa7d-b79facf9bf9f ]] : <<import>>*::**\r\n",
       "E3 - -:|> E8 [[psysml:c2b3862a-e64c-4984-9133-ea986cde4555 ]] \r\n",
       "E5 ..> E2 [[psysml:2e43f05d-56e8-4995-94de-93836f9907a6 ]] : <<import>>*\r\n",
       "E8 - -|> E4 [[psysml:6ab4f965-70f0-4435-9c9c-0953ad10c713 ]] \r\n",
       "@enduml\r\n",
       "\n",
       "PlantUML version 1.2022.7(Mon Aug 22 17:01:30 UTC 2022)\n",
       "(EPL source distribution)\n",
       "Java Runtime: OpenJDK Runtime Environment\n",
       "JVM: OpenJDK 64-Bit Server VM\n",
       "Default Encoding: UTF-8\n",
       "Language: en\n",
       "Country: null\n",
       "--></g></svg>"
      ]
     },
     "execution_count": 10,
     "metadata": {},
     "output_type": "execute_result"
    }
   ],
   "source": [
    "%viz --style=\"POLYLINE\" --view=\"Tree\" \"ImportTest\""
   ]
  },
  {
   "cell_type": "code",
   "execution_count": 11,
   "id": "cb9fdd7c",
   "metadata": {
    "execution": {
     "iopub.execute_input": "2024-12-16T14:16:20.334854Z",
     "iopub.status.busy": "2024-12-16T14:16:20.334608Z",
     "iopub.status.idle": "2024-12-16T14:16:20.340837Z",
     "shell.execute_reply": "2024-12-16T14:16:20.340605Z"
    }
   },
   "outputs": [
    {
     "data": {
      "image/svg+xml": [
       "<?xml version=\"1.0\" encoding=\"UTF-8\" standalone=\"no\"?><svg xmlns=\"http://www.w3.org/2000/svg\" xmlns:xlink=\"http://www.w3.org/1999/xlink\" contentStyleType=\"text/css\" height=\"10px\" preserveAspectRatio=\"none\" style=\"width:10px;height:10px;background:#FFFFFF;\" version=\"1.1\" viewBox=\"0 0 10 10\" width=\"10px\" zoomAndPan=\"magnify\"><defs/><g><!--MD5=[20bed88d98f2aabbefdc8661420d403d]\n",
       "@startuml\r\n",
       "skin sysmlbw\r\n",
       "skinparam monochrome true\r\n",
       "skinparam wrapWidth 300\r\n",
       "hide circle\r\n",
       "skinparam linetype polyline\r\n",
       "\r\n",
       "@enduml\r\n",
       "\n",
       "PlantUML version 1.2022.7(Mon Aug 22 17:01:30 UTC 2022)\n",
       "(EPL source distribution)\n",
       "Java Runtime: OpenJDK Runtime Environment\n",
       "JVM: OpenJDK 64-Bit Server VM\n",
       "Default Encoding: UTF-8\n",
       "Language: en\n",
       "Country: null\n",
       "--></g></svg>"
      ]
     },
     "execution_count": 11,
     "metadata": {},
     "output_type": "execute_result"
    }
   ],
   "source": [
    "%viz --style=\"POLYLINE\" --view=\"State\" \"ImportTest\""
   ]
  },
  {
   "cell_type": "code",
   "execution_count": 12,
   "id": "14ff70ce",
   "metadata": {
    "execution": {
     "iopub.execute_input": "2024-12-16T14:16:20.393062Z",
     "iopub.status.busy": "2024-12-16T14:16:20.392858Z",
     "iopub.status.idle": "2024-12-16T14:16:20.420054Z",
     "shell.execute_reply": "2024-12-16T14:16:20.419232Z"
    }
   },
   "outputs": [
    {
     "data": {
      "image/svg+xml": [
       "<?xml version=\"1.0\" encoding=\"UTF-8\" standalone=\"no\"?><svg xmlns=\"http://www.w3.org/2000/svg\" xmlns:xlink=\"http://www.w3.org/1999/xlink\" contentStyleType=\"text/css\" height=\"583px\" preserveAspectRatio=\"none\" style=\"width:517px;height:583px;background:#FFFFFF;\" version=\"1.1\" viewBox=\"0 0 517 583\" width=\"517px\" zoomAndPan=\"magnify\"><defs/><g><!--MD5=[fbc87193dbaf4d95561dea2c320d4a47]\n",
       "cluster E1--><g id=\"cluster_E1\"><a href=\"psysml:257ae3bb-e982-4f23-93ec-21786cef6fd4\" target=\"_top\" title=\"psysml:257ae3bb-e982-4f23-93ec-21786cef6fd4\" xlink:actuate=\"onRequest\" xlink:href=\"psysml:257ae3bb-e982-4f23-93ec-21786cef6fd4\" xlink:show=\"new\" xlink:title=\"psysml:257ae3bb-e982-4f23-93ec-21786cef6fd4\" xlink:type=\"simple\"><polygon fill=\"none\" points=\"16,6,101.375,6,108.375,28.2969,500,28.2969,500,576,16,576,16,6\" style=\"stroke:#000000;stroke-width:1.5;\"/><line style=\"stroke:#000000;stroke-width:1.5;\" x1=\"16\" x2=\"108.375\" y1=\"28.2969\" y2=\"28.2969\"/><text fill=\"#000000\" font-family=\"sans-serif\" font-size=\"14\" font-weight=\"bold\" lengthAdjust=\"spacing\" textLength=\"79.375\" x=\"20\" y=\"20.9951\">ImportTest</text></a></g><!--MD5=[e4f7fae6ed58524ba242bb0b0d3be6b7]\n",
       "cluster E2--><g id=\"cluster_E2\"><a href=\"psysml:d86f8a04-756e-41fe-890d-bee1afc1808f\" target=\"_top\" title=\"psysml:d86f8a04-756e-41fe-890d-bee1afc1808f\" xlink:actuate=\"onRequest\" xlink:href=\"psysml:d86f8a04-756e-41fe-890d-bee1afc1808f\" xlink:show=\"new\" xlink:title=\"psysml:d86f8a04-756e-41fe-890d-bee1afc1808f\" xlink:type=\"simple\"><polygon fill=\"none\" points=\"208,57,250.75,57,257.75,79.2969,468,79.2969,468,169,208,169,208,57\" style=\"stroke:#000000;stroke-width:1.5;\"/><line style=\"stroke:#000000;stroke-width:1.5;\" x1=\"208\" x2=\"257.75\" y1=\"79.2969\" y2=\"79.2969\"/><text fill=\"#000000\" font-family=\"sans-serif\" font-size=\"14\" font-weight=\"bold\" lengthAdjust=\"spacing\" textLength=\"36.75\" x=\"212\" y=\"71.9951\">Pkg1</text></a></g><!--MD5=[de5ec2e2e8f62f467e546659f5068c88]\n",
       "cluster E5--><g id=\"cluster_E5\"><a href=\"psysml:87b5aefc-a384-45d2-9563-354f132d05b6\" target=\"_top\" title=\"psysml:87b5aefc-a384-45d2-9563-354f132d05b6\" xlink:actuate=\"onRequest\" xlink:href=\"psysml:87b5aefc-a384-45d2-9563-354f132d05b6\" xlink:show=\"new\" xlink:title=\"psysml:87b5aefc-a384-45d2-9563-354f132d05b6\" xlink:type=\"simple\"><polygon fill=\"none\" points=\"117,234,159.75,234,166.75,256.2969,435,256.2969,435,544,117,544,117,234\" style=\"stroke:#000000;stroke-width:1.5;\"/><line style=\"stroke:#000000;stroke-width:1.5;\" x1=\"117\" x2=\"166.75\" y1=\"256.2969\" y2=\"256.2969\"/><text fill=\"#000000\" font-family=\"sans-serif\" font-size=\"14\" font-weight=\"bold\" lengthAdjust=\"spacing\" textLength=\"36.75\" x=\"121\" y=\"248.9951\">Pkg2</text></a></g><!--MD5=[14e3b0961a2654348d326746436168a1]\n",
       "cluster E6--><g id=\"cluster_E6\"><a href=\"psysml:74f758db-603d-4dff-97e1-05ce4d0c3ab8\" target=\"_top\" title=\"psysml:74f758db-603d-4dff-97e1-05ce4d0c3ab8\" xlink:actuate=\"onRequest\" xlink:href=\"psysml:74f758db-603d-4dff-97e1-05ce4d0c3ab8\" xlink:show=\"new\" xlink:title=\"psysml:74f758db-603d-4dff-97e1-05ce4d0c3ab8\" xlink:type=\"simple\"><polygon fill=\"none\" points=\"157,293,209.1875,293,216.1875,315.2969,387,315.2969,387,504,157,504,157,293\" style=\"stroke:#000000;stroke-width:1.5;\"/><line style=\"stroke:#000000;stroke-width:1.5;\" x1=\"157\" x2=\"216.1875\" y1=\"315.2969\" y2=\"315.2969\"/><text fill=\"#000000\" font-family=\"sans-serif\" font-size=\"14\" font-weight=\"bold\" lengthAdjust=\"spacing\" textLength=\"46.1875\" x=\"161\" y=\"307.9951\">Pkg21</text></a></g><!--MD5=[168fadf3d0c3fd93dd5d6da1b1d7ab76]\n",
       "cluster E7--><g id=\"cluster_E7\"><a href=\"psysml:c9292eea-a9ed-4d7d-b554-73a415b23d76\" target=\"_top\" title=\"psysml:c9292eea-a9ed-4d7d-b554-73a415b23d76\" xlink:actuate=\"onRequest\" xlink:href=\"psysml:c9292eea-a9ed-4d7d-b554-73a415b23d76\" xlink:show=\"new\" xlink:title=\"psysml:c9292eea-a9ed-4d7d-b554-73a415b23d76\" xlink:type=\"simple\"><polygon fill=\"none\" points=\"205,352,266.625,352,273.625,374.2969,347,374.2969,347,464,205,464,205,352\" style=\"stroke:#000000;stroke-width:1.5;\"/><line style=\"stroke:#000000;stroke-width:1.5;\" x1=\"205\" x2=\"273.625\" y1=\"374.2969\" y2=\"374.2969\"/><text fill=\"#000000\" font-family=\"sans-serif\" font-size=\"14\" font-weight=\"bold\" lengthAdjust=\"spacing\" textLength=\"55.625\" x=\"209\" y=\"366.9951\">Pkg211</text></a></g><g><a href=\"psysml:c9f16dae-c47d-4af9-8178-9fb29f2ca8fe\" target=\"_top\" title=\"psysml:c9f16dae-c47d-4af9-8178-9fb29f2ca8fe\" xlink:actuate=\"onRequest\" xlink:href=\"psysml:c9f16dae-c47d-4af9-8178-9fb29f2ca8fe\" xlink:show=\"new\" xlink:title=\"psysml:c9f16dae-c47d-4af9-8178-9fb29f2ca8fe\" xlink:type=\"simple\"><rect fill=\"#FFFFFF\" height=\"40\" id=\"E3\" rx=\"10\" ry=\"10\" style=\"stroke:#383838;stroke-width:1.5;\" width=\"83\" x=\"251.5\" y=\"102.5\"/><text fill=\"#000000\" font-family=\"sans-serif\" font-size=\"14\" lengthAdjust=\"spacing\" textLength=\"72\" x=\"257\" y=\"120.4951\">p11: P211</text></a></g><g><a href=\"psysml:5a85d6e7-c399-4e25-bc8b-7b1310ff596a\" target=\"_top\" title=\"psysml:5a85d6e7-c399-4e25-bc8b-7b1310ff596a\" xlink:actuate=\"onRequest\" xlink:href=\"psysml:5a85d6e7-c399-4e25-bc8b-7b1310ff596a\" xlink:show=\"new\" xlink:title=\"psysml:5a85d6e7-c399-4e25-bc8b-7b1310ff596a\" xlink:type=\"simple\"><rect fill=\"#FFFFFF\" height=\"45.2656\" id=\"E4\" style=\"stroke:#383838;stroke-width:1.5;\" width=\"75\" x=\"369.5\" y=\"100\"/><text fill=\"#000000\" font-family=\"sans-serif\" font-size=\"12\" font-style=\"italic\" lengthAdjust=\"spacing\" textLength=\"68\" x=\"373\" y=\"116.1387\">«part  def»</text><text fill=\"#000000\" font-family=\"sans-serif\" font-size=\"14\" lengthAdjust=\"spacing\" textLength=\"27\" x=\"393.5\" y=\"131.9639\">P12</text></a></g><g><a href=\"psysml:60f2756c-cfe4-4496-b687-ff5dbf9a385d\" target=\"_top\" title=\"psysml:60f2756c-cfe4-4496-b687-ff5dbf9a385d\" xlink:actuate=\"onRequest\" xlink:href=\"psysml:60f2756c-cfe4-4496-b687-ff5dbf9a385d\" xlink:show=\"new\" xlink:title=\"psysml:60f2756c-cfe4-4496-b687-ff5dbf9a385d\" xlink:type=\"simple\"><rect fill=\"#FFFFFF\" height=\"45.2656\" id=\"E8\" style=\"stroke:#383838;stroke-width:1.5;\" width=\"75\" x=\"248.5\" y=\"395\"/><text fill=\"#000000\" font-family=\"sans-serif\" font-size=\"12\" font-style=\"italic\" lengthAdjust=\"spacing\" textLength=\"68\" x=\"252\" y=\"411.1387\">«part  def»</text><text fill=\"#000000\" font-family=\"sans-serif\" font-size=\"14\" lengthAdjust=\"spacing\" textLength=\"36\" x=\"268\" y=\"426.9639\">P211</text></a></g><!--MD5=[b0060bfdb0500b904584095522b4da3c]\n",
       "link E2 to E8--><g id=\"link_E2_E8\"><a href=\"psysml:7a09cf9a-4d44-4715-925a-a999429b18c6\" target=\"_top\" title=\"psysml:7a09cf9a-4d44-4715-925a-a999429b18c6\" xlink:actuate=\"onRequest\" xlink:href=\"psysml:7a09cf9a-4d44-4715-925a-a999429b18c6\" xlink:show=\"new\" xlink:title=\"psysml:7a09cf9a-4d44-4715-925a-a999429b18c6\" xlink:type=\"simple\"><path d=\"M230.141,169.2725 C230.2057,169.4819 230.27,169.69 230.3339,169.8969 C230.4617,170.3105 230.5879,170.7191 230.7124,171.122 C231.2104,172.7337 231.6806,174.2559 232.1144,175.6598 C233.8494,181.2756 235,185 235,185 C235,185 264,193 264,193 C264,193 277.49,330.03 283.34,389.5 \" fill=\"none\" id=\"E2-to-E8\" style=\"stroke:#181818;stroke-width:1.0;stroke-dasharray:7.0,7.0;\"/><polygon fill=\"#181818\" points=\"283.85,394.66,286.9559,385.3137,283.3638,389.6837,278.9938,386.0916,283.85,394.66\" style=\"stroke:#181818;stroke-width:1.0;\"/><text fill=\"#000000\" font-family=\"sans-serif\" font-size=\"13\" lengthAdjust=\"spacing\" textLength=\"58\" x=\"266\" y=\"206.0669\">«import»</text></a></g><!--MD5=[e3e28c1befcf002155aa15e1416b4315]\n",
       "link E2 to E6--><g id=\"link_E2_E6\"><a href=\"psysml:4d48d5b8-8a2b-403b-a600-382befb1c751\" target=\"_top\" title=\"psysml:4d48d5b8-8a2b-403b-a600-382befb1c751\" xlink:actuate=\"onRequest\" xlink:href=\"psysml:4d48d5b8-8a2b-403b-a600-382befb1c751\" xlink:show=\"new\" xlink:title=\"psysml:4d48d5b8-8a2b-403b-a600-382befb1c751\" xlink:type=\"simple\"><path d=\"M207.9677,128.1493 C207.845,128.2203 207.7211,128.2921 207.596,128.3646 C207.3457,128.5095 207.0907,128.6572 206.831,128.8076 C205.7921,129.4093 204.6782,130.0544 203.4961,130.739 C201.132,132.1082 198.4956,133.6352 195.6427,135.2875 C184.2309,141.8969 169.3556,150.5125 154.5938,159.0625 C125.07,176.1625 96,193 96,193 C96,193 96,210 96,210 C96,210 112.715,260.025 129.6913,310.8313 C138.1794,336.2344 146.7328,361.8328 153.2948,381.4711 C154.1151,383.9259 154.9042,386.2875 155.6582,388.544 C156.0352,389.6723 156.4035,390.7743 156.7624,391.8484 \" fill=\"none\" id=\"E2-to-E6\" style=\"stroke:#181818;stroke-width:1.0;stroke-dasharray:7.0,7.0;\"/><polygon fill=\"#181818\" points=\"156.7624,391.8484,157.7039,382.0447,155.1778,387.1062,150.1163,384.5801,156.7624,391.8484\" style=\"stroke:#181818;stroke-width:1.0;\"/><text fill=\"#000000\" font-family=\"sans-serif\" font-size=\"13\" lengthAdjust=\"spacing\" textLength=\"65\" x=\"97\" y=\"206.0669\">«import»*</text></a></g><!--MD5=[e3d2a08a9c9236652057e8ed0cbc9b62]\n",
       "link E2 to E7--><g id=\"link_E2_E7\"><a href=\"psysml:435ffdce-fa99-42b8-aa7d-b79facf9bf9f\" target=\"_top\" title=\"psysml:435ffdce-fa99-42b8-aa7d-b79facf9bf9f\" xlink:actuate=\"onRequest\" xlink:href=\"psysml:435ffdce-fa99-42b8-aa7d-b79facf9bf9f\" xlink:show=\"new\" xlink:title=\"psysml:435ffdce-fa99-42b8-aa7d-b79facf9bf9f\" xlink:type=\"simple\"><path d=\"M207.9604,135.9129 C207.8242,136.1233 207.6867,136.3356 207.5481,136.5498 C207.2707,136.978 206.9887,137.4136 206.7022,137.856 C206.1292,138.7408 205.5386,139.653 204.9329,140.5883 C203.7215,142.4591 202.45,144.4229 201.1392,146.4473 C198.5176,150.4961 195.7391,154.7875 192.9713,159.0625 C181.9,176.1625 171,193 171,193 C171,193 171,210 171,210 C171,210 209,218 209,218 C209,218 209.97,266.0875 210.955,314.9263 C211.2013,327.1359 211.4484,339.3926 211.6816,350.9565 \" fill=\"none\" id=\"E2-to-E7\" style=\"stroke:#181818;stroke-width:1.0;stroke-dasharray:7.0,7.0;\"/><polygon fill=\"#181818\" points=\"211.6816,350.9565,215.4994,341.8777,211.5808,345.9576,207.501,342.039,211.6816,350.9565\" style=\"stroke:#181818;stroke-width:1.0;\"/><text fill=\"#000000\" font-family=\"sans-serif\" font-size=\"13\" lengthAdjust=\"spacing\" textLength=\"87\" x=\"172\" y=\"206.0669\">«import»*::**</text></a></g><!--MD5=[ca5a752d6098d8a44b3f88316e7452d1]\n",
       "link E3 to E8--><g id=\"link_E3_E8\"><a href=\"psysml:c2b3862a-e64c-4984-9133-ea986cde4555\" target=\"_top\" title=\"psysml:c2b3862a-e64c-4984-9133-ea986cde4555\" xlink:actuate=\"onRequest\" xlink:href=\"psysml:c2b3862a-e64c-4984-9133-ea986cde4555\" xlink:show=\"new\" xlink:title=\"psysml:c2b3862a-e64c-4984-9133-ea986cde4555\" xlink:type=\"simple\"><path d=\"M311.34,142.62 C328.66,160.68 352,185 352,185 C352,185 364,193 364,193 C364,193 364,210 364,210 C364,210 328,218 328,218 C328,218 307.04,317.06 294.73,375.22 \" fill=\"none\" id=\"E3-to-E8\" style=\"stroke:#181818;stroke-width:1.0;\"/><polygon fill=\"#FFFFFF\" points=\"290.57,394.88,287.6594,374.8418,301.3555,377.7431,290.57,394.88\" style=\"stroke:#181818;stroke-width:1.0;\"/><ellipse cx=\"290.7972\" cy=\"369.68\" fill=\"#181818\" rx=\"2\" ry=\"2\" style=\"stroke:#181818;stroke-width:1.0;\"/><ellipse cx=\"300.5802\" cy=\"371.7524\" fill=\"#181818\" rx=\"2\" ry=\"2\" style=\"stroke:#181818;stroke-width:1.0;\"/></a></g><!--MD5=[15ebcb19ae302d9b601edb458606d402]\n",
       "link E5 to E2--><g id=\"link_E5_E2\"><a href=\"psysml:2e43f05d-56e8-4995-94de-93836f9907a6\" target=\"_top\" title=\"psysml:2e43f05d-56e8-4995-94de-93836f9907a6\" xlink:actuate=\"onRequest\" xlink:href=\"psysml:2e43f05d-56e8-4995-94de-93836f9907a6\" xlink:show=\"new\" xlink:title=\"psysml:2e43f05d-56e8-4995-94de-93836f9907a6\" xlink:type=\"simple\"><path d=\"M350.1939,233.8796 C350.0504,233.5384 349.9076,233.1988 349.7654,232.8607 C349.481,232.1845 349.1991,231.5143 348.9199,230.8505 C348.3615,229.5228 347.8137,228.2204 347.2772,226.9448 C338.6931,206.5356 333,193 333,193 C333,193 235,185 235,185 C235,185 233.8494,181.2756 232.1144,175.6598 C231.6806,174.2559 231.2104,172.7337 230.7124,171.122 C230.5879,170.7191 230.4617,170.3105 230.3339,169.8969 C230.27,169.69 230.2057,169.4819 230.141,169.2725 \" fill=\"none\" id=\"E5-to-E2\" style=\"stroke:#181818;stroke-width:1.0;stroke-dasharray:7.0,7.0;\"/><polygon fill=\"#181818\" points=\"230.141,169.2725,228.9759,179.0522,231.6169,174.0497,236.6194,176.6907,230.141,169.2725\" style=\"stroke:#181818;stroke-width:1.0;\"/><text fill=\"#000000\" font-family=\"sans-serif\" font-size=\"13\" lengthAdjust=\"spacing\" textLength=\"65\" x=\"340\" y=\"206.0669\">«import»*</text></a></g><!--MD5=[d7bb3fb34add81b710575eb3799fa2ad]\n",
       "link E8 to E4--><g id=\"link_E8_E4\"><a href=\"psysml:6ab4f965-70f0-4435-9c9c-0953ad10c713\" target=\"_top\" title=\"psysml:6ab4f965-70f0-4435-9c9c-0953ad10c713\" xlink:actuate=\"onRequest\" xlink:href=\"psysml:6ab4f965-70f0-4435-9c9c-0953ad10c713\" xlink:show=\"new\" xlink:title=\"psysml:6ab4f965-70f0-4435-9c9c-0953ad10c713\" xlink:type=\"simple\"><path d=\"M290.57,394.88 C301.46,343.43 328,218 328,218 C328,218 478,210 478,210 C478,210 478,193 478,193 C478,193 460.86,176.22 443.42,159.15 \" fill=\"none\" id=\"E8-to-E4\" style=\"stroke:#181818;stroke-width:1.0;\"/><polygon fill=\"none\" points=\"438.47,164.1,429.08,145.11,448.26,154.1,438.47,164.1\" style=\"stroke:#181818;stroke-width:1.0;\"/></a></g><!--MD5=[40cb3f3597bda0e3c0586d3d57b4b23a]\n",
       "@startuml\r\n",
       "skin sysmlbw\r\n",
       "skinparam monochrome true\r\n",
       "skinparam wrapWidth 300\r\n",
       "hide circle\r\n",
       "skinparam linetype polyline\r\n",
       "skinparam ranksep 10\r\n",
       "skinparam rectangle {\r\n",
       " backgroundColor<<block>> LightGreen\r\n",
       "}\r\n",
       "\r\n",
       "package \"ImportTest\" as E1  [[psysml:257ae3bb-e982-4f23-93ec-21786cef6fd4 ]]  {\r\n",
       "package \"Pkg1\" as E2  [[psysml:d86f8a04-756e-41fe-890d-bee1afc1808f ]]  {\r\n",
       "rec usage \"p11: P211\" as E3 [[psysml:c9f16dae-c47d-4af9-8178-9fb29f2ca8fe ]] {\r\n",
       "}\r\n",
       "rec def \"P12\" as E4  <<(T,blue) part  def>> [[psysml:5a85d6e7-c399-4e25-bc8b-7b1310ff596a ]] {\r\n",
       "}\r\n",
       "}\r\n",
       "package \"Pkg2\" as E5  [[psysml:87b5aefc-a384-45d2-9563-354f132d05b6 ]]  {\r\n",
       "package \"Pkg21\" as E6  [[psysml:74f758db-603d-4dff-97e1-05ce4d0c3ab8 ]]  {\r\n",
       "package \"Pkg211\" as E7  [[psysml:c9292eea-a9ed-4d7d-b554-73a415b23d76 ]]  {\r\n",
       "rec def \"P211\" as E8  <<(T,blue) part  def>> [[psysml:60f2756c-cfe4-4496-b687-ff5dbf9a385d ]] {\r\n",
       "}\r\n",
       "}\r\n",
       "}\r\n",
       "}\r\n",
       "}\r\n",
       "E2 ..> E8 [[psysml:7a09cf9a-4d44-4715-925a-a999429b18c6 ]] : <<import>>\r\n",
       "E2 ..> E6 [[psysml:4d48d5b8-8a2b-403b-a600-382befb1c751 ]] : <<import>>*\r\n",
       "E2 ..> E7 [[psysml:435ffdce-fa99-42b8-aa7d-b79facf9bf9f ]] : <<import>>*::**\r\n",
       "E3 - -:|> E8 [[psysml:c2b3862a-e64c-4984-9133-ea986cde4555 ]] \r\n",
       "E5 ..> E2 [[psysml:2e43f05d-56e8-4995-94de-93836f9907a6 ]] : <<import>>*\r\n",
       "E8 - -|> E4 [[psysml:6ab4f965-70f0-4435-9c9c-0953ad10c713 ]] \r\n",
       "@enduml\r\n",
       "\n",
       "PlantUML version 1.2022.7(Mon Aug 22 17:01:30 UTC 2022)\n",
       "(EPL source distribution)\n",
       "Java Runtime: OpenJDK Runtime Environment\n",
       "JVM: OpenJDK 64-Bit Server VM\n",
       "Default Encoding: UTF-8\n",
       "Language: en\n",
       "Country: null\n",
       "--></g></svg>"
      ]
     },
     "execution_count": 12,
     "metadata": {},
     "output_type": "execute_result"
    }
   ],
   "source": [
    "%viz --style=\"POLYLINE\" --view=\"Interconnection\" \"ImportTest\""
   ]
  },
  {
   "cell_type": "code",
   "execution_count": 13,
   "id": "0038e3de",
   "metadata": {
    "execution": {
     "iopub.execute_input": "2024-12-16T14:16:20.475734Z",
     "iopub.status.busy": "2024-12-16T14:16:20.475506Z",
     "iopub.status.idle": "2024-12-16T14:16:20.481638Z",
     "shell.execute_reply": "2024-12-16T14:16:20.481468Z"
    }
   },
   "outputs": [
    {
     "data": {
      "image/svg+xml": [
       "<?xml version=\"1.0\" encoding=\"UTF-8\" standalone=\"no\"?><svg xmlns=\"http://www.w3.org/2000/svg\" xmlns:xlink=\"http://www.w3.org/1999/xlink\" contentStyleType=\"text/css\" height=\"10px\" preserveAspectRatio=\"none\" style=\"width:10px;height:10px;background:#FFFFFF;\" version=\"1.1\" viewBox=\"0 0 10 10\" width=\"10px\" zoomAndPan=\"magnify\"><defs/><g><!--MD5=[ff8e7c24accf200c4355ceeab022c402]\n",
       "@startuml\r\n",
       "skin sysmlbw\r\n",
       "skinparam monochrome true\r\n",
       "skinparam wrapWidth 300\r\n",
       "hide circle\r\n",
       "skinparam linetype polyline\r\n",
       "skinparam ranksep 8\r\n",
       "\r\n",
       "@enduml\r\n",
       "\n",
       "PlantUML version 1.2022.7(Mon Aug 22 17:01:30 UTC 2022)\n",
       "(EPL source distribution)\n",
       "Java Runtime: OpenJDK Runtime Environment\n",
       "JVM: OpenJDK 64-Bit Server VM\n",
       "Default Encoding: UTF-8\n",
       "Language: en\n",
       "Country: null\n",
       "--></g></svg>"
      ]
     },
     "execution_count": 13,
     "metadata": {},
     "output_type": "execute_result"
    }
   ],
   "source": [
    "%viz --style=\"POLYLINE\" --view=\"Action\" \"ImportTest\""
   ]
  },
  {
   "cell_type": "code",
   "execution_count": 14,
   "id": "2c91a1d9",
   "metadata": {
    "execution": {
     "iopub.execute_input": "2024-12-16T14:16:20.533664Z",
     "iopub.status.busy": "2024-12-16T14:16:20.533438Z",
     "iopub.status.idle": "2024-12-16T14:16:20.541067Z",
     "shell.execute_reply": "2024-12-16T14:16:20.541212Z"
    }
   },
   "outputs": [
    {
     "data": {
      "image/svg+xml": [
       "<?xml version=\"1.0\" encoding=\"UTF-8\" standalone=\"no\"?><svg xmlns=\"http://www.w3.org/2000/svg\" xmlns:xlink=\"http://www.w3.org/1999/xlink\" contentStyleType=\"text/css\" height=\"10px\" preserveAspectRatio=\"none\" style=\"width:10px;height:10px;background:#FFFFFF;\" version=\"1.1\" viewBox=\"0 0 10 10\" width=\"10px\" zoomAndPan=\"magnify\"><defs/><g><!--MD5=[efefafbf36b45173e0355713d9054f90]\n",
       "@startuml\r\n",
       "skin sysmlbw\r\n",
       "skinparam monochrome true\r\n",
       "skinparam wrapWidth 300\r\n",
       "hide circle\r\n",
       "skinparam linetype polyline\r\n",
       "skinparam roundcorner 20\r\n",
       "skinparam BoxPadding 20\r\n",
       "skinparam SequenceBoxBackgroundColor #white\r\n",
       "skinparam style strictuml\r\n",
       "skinparam maxMessageSize 100\r\n",
       "\r\n",
       "@enduml\r\n",
       "\n",
       "PlantUML version 1.2022.7(Mon Aug 22 17:01:30 UTC 2022)\n",
       "(EPL source distribution)\n",
       "Java Runtime: OpenJDK Runtime Environment\n",
       "JVM: OpenJDK 64-Bit Server VM\n",
       "Default Encoding: UTF-8\n",
       "Language: en\n",
       "Country: null\n",
       "--></g></svg>"
      ]
     },
     "execution_count": 14,
     "metadata": {},
     "output_type": "execute_result"
    }
   ],
   "source": [
    "%viz --style=\"POLYLINE\" --view=\"Sequence\" \"ImportTest\""
   ]
  },
  {
   "cell_type": "code",
   "execution_count": 15,
   "id": "b16241d7",
   "metadata": {
    "execution": {
     "iopub.execute_input": "2024-12-16T14:16:20.594839Z",
     "iopub.status.busy": "2024-12-16T14:16:20.594591Z",
     "iopub.status.idle": "2024-12-16T14:16:20.619796Z",
     "shell.execute_reply": "2024-12-16T14:16:20.618984Z"
    }
   },
   "outputs": [
    {
     "data": {
      "image/svg+xml": [
       "<?xml version=\"1.0\" encoding=\"UTF-8\" standalone=\"no\"?><svg xmlns=\"http://www.w3.org/2000/svg\" xmlns:xlink=\"http://www.w3.org/1999/xlink\" contentStyleType=\"text/css\" height=\"589px\" preserveAspectRatio=\"none\" style=\"width:517px;height:589px;background:#FFFFFF;\" version=\"1.1\" viewBox=\"0 0 517 589\" width=\"517px\" zoomAndPan=\"magnify\"><defs/><g><!--MD5=[fbc87193dbaf4d95561dea2c320d4a47]\n",
       "cluster E1--><g id=\"cluster_E1\"><a href=\"psysml:257ae3bb-e982-4f23-93ec-21786cef6fd4\" target=\"_top\" title=\"psysml:257ae3bb-e982-4f23-93ec-21786cef6fd4\" xlink:actuate=\"onRequest\" xlink:href=\"psysml:257ae3bb-e982-4f23-93ec-21786cef6fd4\" xlink:show=\"new\" xlink:title=\"psysml:257ae3bb-e982-4f23-93ec-21786cef6fd4\" xlink:type=\"simple\"><polygon fill=\"none\" points=\"16,6,101.375,6,108.375,28.2969,500,28.2969,500,582,16,582,16,6\" style=\"stroke:#000000;stroke-width:1.5;\"/><line style=\"stroke:#000000;stroke-width:1.5;\" x1=\"16\" x2=\"108.375\" y1=\"28.2969\" y2=\"28.2969\"/><text fill=\"#000000\" font-family=\"sans-serif\" font-size=\"14\" font-weight=\"bold\" lengthAdjust=\"spacing\" textLength=\"79.375\" x=\"20\" y=\"20.9951\">ImportTest</text></a></g><!--MD5=[e4f7fae6ed58524ba242bb0b0d3be6b7]\n",
       "cluster E2--><g id=\"cluster_E2\"><a href=\"psysml:d86f8a04-756e-41fe-890d-bee1afc1808f\" target=\"_top\" title=\"psysml:d86f8a04-756e-41fe-890d-bee1afc1808f\" xlink:actuate=\"onRequest\" xlink:href=\"psysml:d86f8a04-756e-41fe-890d-bee1afc1808f\" xlink:show=\"new\" xlink:title=\"psysml:d86f8a04-756e-41fe-890d-bee1afc1808f\" xlink:type=\"simple\"><polygon fill=\"none\" points=\"210,57,252.75,57,259.75,79.2969,468,79.2969,468,172,210,172,210,57\" style=\"stroke:#000000;stroke-width:1.5;\"/><line style=\"stroke:#000000;stroke-width:1.5;\" x1=\"210\" x2=\"259.75\" y1=\"79.2969\" y2=\"79.2969\"/><text fill=\"#000000\" font-family=\"sans-serif\" font-size=\"14\" font-weight=\"bold\" lengthAdjust=\"spacing\" textLength=\"36.75\" x=\"214\" y=\"71.9951\">Pkg1</text></a></g><!--MD5=[de5ec2e2e8f62f467e546659f5068c88]\n",
       "cluster E5--><g id=\"cluster_E5\"><a href=\"psysml:87b5aefc-a384-45d2-9563-354f132d05b6\" target=\"_top\" title=\"psysml:87b5aefc-a384-45d2-9563-354f132d05b6\" xlink:actuate=\"onRequest\" xlink:href=\"psysml:87b5aefc-a384-45d2-9563-354f132d05b6\" xlink:show=\"new\" xlink:title=\"psysml:87b5aefc-a384-45d2-9563-354f132d05b6\" xlink:type=\"simple\"><polygon fill=\"none\" points=\"121,237,163.75,237,170.75,259.2969,434,259.2969,434,550,121,550,121,237\" style=\"stroke:#000000;stroke-width:1.5;\"/><line style=\"stroke:#000000;stroke-width:1.5;\" x1=\"121\" x2=\"170.75\" y1=\"259.2969\" y2=\"259.2969\"/><text fill=\"#000000\" font-family=\"sans-serif\" font-size=\"14\" font-weight=\"bold\" lengthAdjust=\"spacing\" textLength=\"36.75\" x=\"125\" y=\"251.9951\">Pkg2</text></a></g><!--MD5=[14e3b0961a2654348d326746436168a1]\n",
       "cluster E6--><g id=\"cluster_E6\"><a href=\"psysml:74f758db-603d-4dff-97e1-05ce4d0c3ab8\" target=\"_top\" title=\"psysml:74f758db-603d-4dff-97e1-05ce4d0c3ab8\" xlink:actuate=\"onRequest\" xlink:href=\"psysml:74f758db-603d-4dff-97e1-05ce4d0c3ab8\" xlink:show=\"new\" xlink:title=\"psysml:74f758db-603d-4dff-97e1-05ce4d0c3ab8\" xlink:type=\"simple\"><polygon fill=\"none\" points=\"161,296,213.1875,296,220.1875,318.2969,386,318.2969,386,510,161,510,161,296\" style=\"stroke:#000000;stroke-width:1.5;\"/><line style=\"stroke:#000000;stroke-width:1.5;\" x1=\"161\" x2=\"220.1875\" y1=\"318.2969\" y2=\"318.2969\"/><text fill=\"#000000\" font-family=\"sans-serif\" font-size=\"14\" font-weight=\"bold\" lengthAdjust=\"spacing\" textLength=\"46.1875\" x=\"165\" y=\"310.9951\">Pkg21</text></a></g><!--MD5=[168fadf3d0c3fd93dd5d6da1b1d7ab76]\n",
       "cluster E7--><g id=\"cluster_E7\"><a href=\"psysml:c9292eea-a9ed-4d7d-b554-73a415b23d76\" target=\"_top\" title=\"psysml:c9292eea-a9ed-4d7d-b554-73a415b23d76\" xlink:actuate=\"onRequest\" xlink:href=\"psysml:c9292eea-a9ed-4d7d-b554-73a415b23d76\" xlink:show=\"new\" xlink:title=\"psysml:c9292eea-a9ed-4d7d-b554-73a415b23d76\" xlink:type=\"simple\"><polygon fill=\"none\" points=\"209,355,270.625,355,277.625,377.2969,346,377.2969,346,470,209,470,209,355\" style=\"stroke:#000000;stroke-width:1.5;\"/><line style=\"stroke:#000000;stroke-width:1.5;\" x1=\"209\" x2=\"277.625\" y1=\"377.2969\" y2=\"377.2969\"/><text fill=\"#000000\" font-family=\"sans-serif\" font-size=\"14\" font-weight=\"bold\" lengthAdjust=\"spacing\" textLength=\"55.625\" x=\"213\" y=\"369.9951\">Pkg211</text></a></g><!--MD5=[09b614a08d8cba4a07c9adeb5e0fee81]\n",
       "class E3--><a href=\"psysml:c9f16dae-c47d-4af9-8178-9fb29f2ca8fe\" target=\"_top\" title=\"psysml:c9f16dae-c47d-4af9-8178-9fb29f2ca8fe\" xlink:actuate=\"onRequest\" xlink:href=\"psysml:c9f16dae-c47d-4af9-8178-9fb29f2ca8fe\" xlink:show=\"new\" xlink:title=\"psysml:c9f16dae-c47d-4af9-8178-9fb29f2ca8fe\" xlink:type=\"simple\"><g id=\"elem_E3\"><rect fill=\"#FFFFFF\" height=\"48.2656\" id=\"E3\" rx=\"10\" ry=\"10\" style=\"stroke:#181818;stroke-width:0.5;\" width=\"86\" x=\"253\" y=\"100\"/><text fill=\"#000000\" font-family=\"sans-serif\" font-size=\"12\" font-style=\"italic\" lengthAdjust=\"spacing\" textLength=\"40\" x=\"276\" y=\"116.1387\">«part»</text><text fill=\"#000000\" font-family=\"sans-serif\" font-size=\"14\" lengthAdjust=\"spacing\" textLength=\"72\" x=\"256\" y=\"131.9639\">p11: P211</text><line style=\"stroke:#181818;stroke-width:0.5;\" x1=\"254\" x2=\"338\" y1=\"140.2656\" y2=\"140.2656\"/></g></a><!--MD5=[ebbe1d658d1005bcc118a6aa81145e00]\n",
       "class E4--><a href=\"psysml:5a85d6e7-c399-4e25-bc8b-7b1310ff596a\" target=\"_top\" title=\"psysml:5a85d6e7-c399-4e25-bc8b-7b1310ff596a\" xlink:actuate=\"onRequest\" xlink:href=\"psysml:5a85d6e7-c399-4e25-bc8b-7b1310ff596a\" xlink:show=\"new\" xlink:title=\"psysml:5a85d6e7-c399-4e25-bc8b-7b1310ff596a\" xlink:type=\"simple\"><g id=\"elem_E4\"><rect fill=\"#FFFFFF\" height=\"48.2656\" id=\"E4\" style=\"stroke:#181818;stroke-width:0.5;\" width=\"70\" x=\"374\" y=\"100\"/><text fill=\"#000000\" font-family=\"sans-serif\" font-size=\"12\" font-style=\"italic\" lengthAdjust=\"spacing\" textLength=\"68\" x=\"375\" y=\"116.1387\">«part  def»</text><text fill=\"#000000\" font-family=\"sans-serif\" font-size=\"14\" lengthAdjust=\"spacing\" textLength=\"27\" x=\"395.5\" y=\"131.9639\">P12</text><line style=\"stroke:#181818;stroke-width:0.5;\" x1=\"375\" x2=\"443\" y1=\"140.2656\" y2=\"140.2656\"/></g></a><!--MD5=[b9389687b975829384b498ac4b7476b2]\n",
       "class E8--><a href=\"psysml:60f2756c-cfe4-4496-b687-ff5dbf9a385d\" target=\"_top\" title=\"psysml:60f2756c-cfe4-4496-b687-ff5dbf9a385d\" xlink:actuate=\"onRequest\" xlink:href=\"psysml:60f2756c-cfe4-4496-b687-ff5dbf9a385d\" xlink:show=\"new\" xlink:title=\"psysml:60f2756c-cfe4-4496-b687-ff5dbf9a385d\" xlink:type=\"simple\"><g id=\"elem_E8\"><rect fill=\"#FFFFFF\" height=\"48.2656\" id=\"E8\" style=\"stroke:#181818;stroke-width:0.5;\" width=\"70\" x=\"252\" y=\"398\"/><text fill=\"#000000\" font-family=\"sans-serif\" font-size=\"12\" font-style=\"italic\" lengthAdjust=\"spacing\" textLength=\"68\" x=\"253\" y=\"414.1387\">«part  def»</text><text fill=\"#000000\" font-family=\"sans-serif\" font-size=\"14\" lengthAdjust=\"spacing\" textLength=\"36\" x=\"269\" y=\"429.9639\">P211</text><line style=\"stroke:#181818;stroke-width:0.5;\" x1=\"253\" x2=\"321\" y1=\"438.2656\" y2=\"438.2656\"/></g></a><!--MD5=[b0060bfdb0500b904584095522b4da3c]\n",
       "link E2 to E8--><g id=\"link_E2_E8\"><a href=\"psysml:7a09cf9a-4d44-4715-925a-a999429b18c6\" target=\"_top\" title=\"psysml:7a09cf9a-4d44-4715-925a-a999429b18c6\" xlink:actuate=\"onRequest\" xlink:href=\"psysml:7a09cf9a-4d44-4715-925a-a999429b18c6\" xlink:show=\"new\" xlink:title=\"psysml:7a09cf9a-4d44-4715-925a-a999429b18c6\" xlink:type=\"simple\"><path d=\"M232.2377,172.2086 C232.2699,172.3152 232.3019,172.4214 232.3339,172.5274 C232.4617,172.9512 232.5879,173.3697 232.7124,173.7825 C233.2104,175.4336 233.6806,176.993 234.1144,178.4313 C235.8494,184.1844 237,188 237,188 C237,188 264,196 264,196 C264,196 277.9,331.95 284.09,392.5 \" fill=\"none\" id=\"E2-to-E8\" style=\"stroke:#181818;stroke-width:1.0;stroke-dasharray:7.0,7.0;\"/><polygon fill=\"#181818\" points=\"284.63,397.77,287.7093,388.4149,284.1297,392.7951,279.7494,389.2155,284.63,397.77\" style=\"stroke:#181818;stroke-width:1.0;\"/><text fill=\"#000000\" font-family=\"sans-serif\" font-size=\"13\" lengthAdjust=\"spacing\" textLength=\"58\" x=\"266\" y=\"209.0669\">«import»</text></a></g><!--MD5=[e3e28c1befcf002155aa15e1416b4315]\n",
       "link E2 to E6--><g id=\"link_E2_E6\"><a href=\"psysml:4d48d5b8-8a2b-403b-a600-382befb1c751\" target=\"_top\" title=\"psysml:4d48d5b8-8a2b-403b-a600-382befb1c751\" xlink:actuate=\"onRequest\" xlink:href=\"psysml:4d48d5b8-8a2b-403b-a600-382befb1c751\" xlink:show=\"new\" xlink:title=\"psysml:4d48d5b8-8a2b-403b-a600-382befb1c751\" xlink:type=\"simple\"><path d=\"M209.8354,129.7501 C209.7107,129.8227 209.5847,129.896 209.4575,129.9701 C209.2031,130.1181 208.9438,130.269 208.6798,130.4227 C207.6236,131.0374 206.491,131.6966 205.2893,132.396 C202.8858,133.7949 200.2054,135.3549 197.3048,137.043 C185.7028,143.7953 170.5794,152.5969 155.5713,161.3313 C125.555,178.8 96,196 96,196 C96,196 96,213 96,213 C96,213 113.685,263.3875 131.6463,314.5625 C140.6269,340.15 149.6766,365.9344 156.6192,385.7156 C157.4871,388.1883 158.322,390.5671 159.1197,392.8401 C159.5186,393.9766 159.9081,395.0866 160.2879,396.1686 C160.4778,396.7096 160.6652,397.2436 160.8501,397.7704 \" fill=\"none\" id=\"E2-to-E6\" style=\"stroke:#181818;stroke-width:1.0;stroke-dasharray:7.0,7.0;\"/><polygon fill=\"#181818\" points=\"160.8501,397.7704,161.6439,387.9536,159.1943,393.0525,154.0953,390.6029,160.8501,397.7704\" style=\"stroke:#181818;stroke-width:1.0;\"/><text fill=\"#000000\" font-family=\"sans-serif\" font-size=\"13\" lengthAdjust=\"spacing\" textLength=\"65\" x=\"97\" y=\"209.0669\">«import»*</text></a></g><!--MD5=[e3d2a08a9c9236652057e8ed0cbc9b62]\n",
       "link E2 to E7--><g id=\"link_E2_E7\"><a href=\"psysml:435ffdce-fa99-42b8-aa7d-b79facf9bf9f\" target=\"_top\" title=\"psysml:435ffdce-fa99-42b8-aa7d-b79facf9bf9f\" xlink:actuate=\"onRequest\" xlink:href=\"psysml:435ffdce-fa99-42b8-aa7d-b79facf9bf9f\" xlink:show=\"new\" xlink:title=\"psysml:435ffdce-fa99-42b8-aa7d-b79facf9bf9f\" xlink:type=\"simple\"><path d=\"M209.8171,137.361 C209.7466,137.4675 209.6758,137.5745 209.6046,137.6819 C209.4623,137.8969 209.3187,138.1138 209.1739,138.3325 C208.8842,138.77 208.5896,139.215 208.2904,139.667 C207.6919,140.571 207.075,141.5028 206.4424,142.4584 C205.1772,144.3696 203.8491,146.3757 202.48,148.4438 C199.7418,152.5801 196.8397,156.9641 193.9488,161.3313 C182.385,178.8 171,196 171,196 C171,196 171,213 171,213 C171,213 213,221 213,221 C213,221 213.97,269.45 214.955,318.6575 C215.2013,330.9594 215.4484,343.3086 215.6816,354.96 \" fill=\"none\" id=\"E2-to-E7\" style=\"stroke:#181818;stroke-width:1.0;stroke-dasharray:7.0,7.0;\"/><polygon fill=\"#181818\" points=\"215.6816,354.96,219.5007,345.8817,215.5816,349.961,211.5023,346.0418,215.6816,354.96\" style=\"stroke:#181818;stroke-width:1.0;\"/><text fill=\"#000000\" font-family=\"sans-serif\" font-size=\"13\" lengthAdjust=\"spacing\" textLength=\"87\" x=\"172\" y=\"209.0669\">«import»*::**</text></a></g><!--MD5=[ca5a752d6098d8a44b3f88316e7452d1]\n",
       "link E3 to E8--><g id=\"link_E3_E8\"><a href=\"psysml:c2b3862a-e64c-4984-9133-ea986cde4555\" target=\"_top\" title=\"psysml:c2b3862a-e64c-4984-9133-ea986cde4555\" xlink:actuate=\"onRequest\" xlink:href=\"psysml:c2b3862a-e64c-4984-9133-ea986cde4555\" xlink:show=\"new\" xlink:title=\"psysml:c2b3862a-e64c-4984-9133-ea986cde4555\" xlink:type=\"simple\"><path d=\"M318.27,148.25 C338.1,168.95 364,196 364,196 C364,196 364,213 364,213 C364,213 326,221 326,221 C326,221 306.92,318.86 295.45,377.67 \" fill=\"none\" id=\"E3-to-E8\" style=\"stroke:#181818;stroke-width:1.0;\"/><polygon fill=\"#FFFFFF\" points=\"291.55,397.67,288.3169,377.6813,302.0579,380.3615,291.55,397.67\" style=\"stroke:#181818;stroke-width:1.0;\"/><ellipse cx=\"291.3711\" cy=\"372.4696\" fill=\"#181818\" rx=\"2\" ry=\"2\" style=\"stroke:#181818;stroke-width:1.0;\"/><ellipse cx=\"301.1862\" cy=\"374.3841\" fill=\"#181818\" rx=\"2\" ry=\"2\" style=\"stroke:#181818;stroke-width:1.0;\"/></a></g><!--MD5=[15ebcb19ae302d9b601edb458606d402]\n",
       "link E5 to E2--><g id=\"link_E5_E2\"><a href=\"psysml:2e43f05d-56e8-4995-94de-93836f9907a6\" target=\"_top\" title=\"psysml:2e43f05d-56e8-4995-94de-93836f9907a6\" xlink:actuate=\"onRequest\" xlink:href=\"psysml:2e43f05d-56e8-4995-94de-93836f9907a6\" xlink:show=\"new\" xlink:title=\"psysml:2e43f05d-56e8-4995-94de-93836f9907a6\" xlink:type=\"simple\"><path d=\"M349.5868,236.1277 C349.3055,235.4469 349.0266,234.7723 348.7504,234.104 C348.1979,232.7675 347.6559,231.4563 347.1252,230.1722 C338.6325,209.6263 333,196 333,196 C333,196 237,188 237,188 C237,188 235.8494,184.1844 234.1144,178.4313 C233.6806,176.993 233.2104,175.4336 232.7124,173.7825 C232.5879,173.3697 232.4617,172.9512 232.3339,172.5274 C232.3019,172.4214 232.2699,172.3152 232.2377,172.2086 \" fill=\"none\" id=\"E5-to-E2\" style=\"stroke:#181818;stroke-width:1.0;stroke-dasharray:7.0,7.0;\"/><polygon fill=\"#181818\" points=\"232.2377,172.2086,231.0068,181.9802,233.6814,176.9956,238.666,179.6703,232.2377,172.2086\" style=\"stroke:#181818;stroke-width:1.0;\"/><text fill=\"#000000\" font-family=\"sans-serif\" font-size=\"13\" lengthAdjust=\"spacing\" textLength=\"65\" x=\"340\" y=\"209.0669\">«import»*</text></a></g><!--MD5=[d7bb3fb34add81b710575eb3799fa2ad]\n",
       "link E8 to E4--><g id=\"link_E8_E4\"><a href=\"psysml:6ab4f965-70f0-4435-9c9c-0953ad10c713\" target=\"_top\" title=\"psysml:6ab4f965-70f0-4435-9c9c-0953ad10c713\" xlink:actuate=\"onRequest\" xlink:href=\"psysml:6ab4f965-70f0-4435-9c9c-0953ad10c713\" xlink:show=\"new\" xlink:title=\"psysml:6ab4f965-70f0-4435-9c9c-0953ad10c713\" xlink:type=\"simple\"><path d=\"M291.55,397.67 C301.84,344.91 326,221 326,221 C326,221 478,213 478,213 C478,213 478,196 478,196 C478,196 462.12,179.66 445.59,162.65 \" fill=\"none\" id=\"E8-to-E4\" style=\"stroke:#181818;stroke-width:1.0;\"/><polygon fill=\"none\" points=\"440.51,167.47,431.59,148.25,450.55,157.71,440.51,167.47\" style=\"stroke:#181818;stroke-width:1.0;\"/></a></g><!--MD5=[b2227d79d3c72036db9073eca9cdaf3c]\n",
       "@startuml\r\n",
       "skin sysmlbw\r\n",
       "skinparam monochrome true\r\n",
       "skinparam wrapWidth 300\r\n",
       "hide circle\r\n",
       "skinparam linetype polyline\r\n",
       "\r\n",
       "package \"ImportTest\" as E1  [[psysml:257ae3bb-e982-4f23-93ec-21786cef6fd4 ]]  {\r\n",
       "package \"Pkg1\" as E2  [[psysml:d86f8a04-756e-41fe-890d-bee1afc1808f ]]  {\r\n",
       "comp usage \"p11: P211  \" as E3  <<(T,blue) part>> [[psysml:c9f16dae-c47d-4af9-8178-9fb29f2ca8fe ]] {\r\n",
       "}\r\n",
       "comp def \"P12\" as E4  <<(T,blue) part  def>> [[psysml:5a85d6e7-c399-4e25-bc8b-7b1310ff596a ]] {\r\n",
       "}\r\n",
       "}\r\n",
       "package \"Pkg2\" as E5  [[psysml:87b5aefc-a384-45d2-9563-354f132d05b6 ]]  {\r\n",
       "package \"Pkg21\" as E6  [[psysml:74f758db-603d-4dff-97e1-05ce4d0c3ab8 ]]  {\r\n",
       "package \"Pkg211\" as E7  [[psysml:c9292eea-a9ed-4d7d-b554-73a415b23d76 ]]  {\r\n",
       "comp def \"P211\" as E8  <<(T,blue) part  def>> [[psysml:60f2756c-cfe4-4496-b687-ff5dbf9a385d ]] {\r\n",
       "}\r\n",
       "}\r\n",
       "}\r\n",
       "}\r\n",
       "}\r\n",
       "E2 ..> E8 [[psysml:7a09cf9a-4d44-4715-925a-a999429b18c6 ]] : <<import>>\r\n",
       "E2 ..> E6 [[psysml:4d48d5b8-8a2b-403b-a600-382befb1c751 ]] : <<import>>*\r\n",
       "E2 ..> E7 [[psysml:435ffdce-fa99-42b8-aa7d-b79facf9bf9f ]] : <<import>>*::**\r\n",
       "E3 - -:|> E8 [[psysml:c2b3862a-e64c-4984-9133-ea986cde4555 ]] \r\n",
       "E5 ..> E2 [[psysml:2e43f05d-56e8-4995-94de-93836f9907a6 ]] : <<import>>*\r\n",
       "E8 - -|> E4 [[psysml:6ab4f965-70f0-4435-9c9c-0953ad10c713 ]] \r\n",
       "@enduml\r\n",
       "\n",
       "PlantUML version 1.2022.7(Mon Aug 22 17:01:30 UTC 2022)\n",
       "(EPL source distribution)\n",
       "Java Runtime: OpenJDK Runtime Environment\n",
       "JVM: OpenJDK 64-Bit Server VM\n",
       "Default Encoding: UTF-8\n",
       "Language: en\n",
       "Country: null\n",
       "--></g></svg>"
      ]
     },
     "execution_count": 15,
     "metadata": {},
     "output_type": "execute_result"
    }
   ],
   "source": [
    "%viz --style=\"POLYLINE\" --view=\"MIXED\" \"ImportTest\""
   ]
  },
  {
   "cell_type": "code",
   "execution_count": 16,
   "id": "aabf60f1",
   "metadata": {
    "execution": {
     "iopub.execute_input": "2024-12-16T14:16:20.675839Z",
     "iopub.status.busy": "2024-12-16T14:16:20.675598Z",
     "iopub.status.idle": "2024-12-16T14:16:20.699182Z",
     "shell.execute_reply": "2024-12-16T14:16:20.699000Z"
    }
   },
   "outputs": [
    {
     "data": {
      "image/svg+xml": [
       "<?xml version=\"1.0\" encoding=\"UTF-8\" standalone=\"no\"?><svg xmlns=\"http://www.w3.org/2000/svg\" xmlns:xlink=\"http://www.w3.org/1999/xlink\" contentStyleType=\"text/css\" height=\"444px\" preserveAspectRatio=\"none\" style=\"width:646px;height:444px;background:#FFFFFF;\" version=\"1.1\" viewBox=\"0 0 646 444\" width=\"646px\" zoomAndPan=\"magnify\"><defs/><g><!--MD5=[fbc87193dbaf4d95561dea2c320d4a47]\n",
       "cluster E1--><g id=\"cluster_E1\"><a href=\"psysml:257ae3bb-e982-4f23-93ec-21786cef6fd4\" target=\"_top\" title=\"psysml:257ae3bb-e982-4f23-93ec-21786cef6fd4\" xlink:actuate=\"onRequest\" xlink:href=\"psysml:257ae3bb-e982-4f23-93ec-21786cef6fd4\" xlink:show=\"new\" xlink:title=\"psysml:257ae3bb-e982-4f23-93ec-21786cef6fd4\" xlink:type=\"simple\"><polygon fill=\"none\" points=\"16,6,101.375,6,108.375,28.2969,629,28.2969,629,437,16,437,16,6\" style=\"stroke:#000000;stroke-width:1.5;\"/><line style=\"stroke:#000000;stroke-width:1.5;\" x1=\"16\" x2=\"108.375\" y1=\"28.2969\" y2=\"28.2969\"/><text fill=\"#000000\" font-family=\"sans-serif\" font-size=\"14\" font-weight=\"bold\" lengthAdjust=\"spacing\" textLength=\"79.375\" x=\"20\" y=\"20.9951\">ImportTest</text></a></g><!--MD5=[e4f7fae6ed58524ba242bb0b0d3be6b7]\n",
       "cluster E2--><g id=\"cluster_E2\"><a href=\"psysml:d86f8a04-756e-41fe-890d-bee1afc1808f\" target=\"_top\" title=\"psysml:d86f8a04-756e-41fe-890d-bee1afc1808f\" xlink:actuate=\"onRequest\" xlink:href=\"psysml:d86f8a04-756e-41fe-890d-bee1afc1808f\" xlink:show=\"new\" xlink:title=\"psysml:d86f8a04-756e-41fe-890d-bee1afc1808f\" xlink:type=\"simple\"><polygon fill=\"none\" points=\"48,81,90.75,81,97.75,103.2969,182,103.2969,182,298,48,298,48,81\" style=\"stroke:#000000;stroke-width:1.5;\"/><line style=\"stroke:#000000;stroke-width:1.5;\" x1=\"48\" x2=\"97.75\" y1=\"103.2969\" y2=\"103.2969\"/><text fill=\"#000000\" font-family=\"sans-serif\" font-size=\"14\" font-weight=\"bold\" lengthAdjust=\"spacing\" textLength=\"36.75\" x=\"52\" y=\"95.9951\">Pkg1</text></a></g><!--MD5=[de5ec2e2e8f62f467e546659f5068c88]\n",
       "cluster E5--><g id=\"cluster_E5\"><a href=\"psysml:87b5aefc-a384-45d2-9563-354f132d05b6\" target=\"_top\" title=\"psysml:87b5aefc-a384-45d2-9563-354f132d05b6\" xlink:actuate=\"onRequest\" xlink:href=\"psysml:87b5aefc-a384-45d2-9563-354f132d05b6\" xlink:show=\"new\" xlink:title=\"psysml:87b5aefc-a384-45d2-9563-354f132d05b6\" xlink:type=\"simple\"><polygon fill=\"none\" points=\"319,57,361.75,57,368.75,79.2969,597,79.2969,597,405,319,405,319,57\" style=\"stroke:#000000;stroke-width:1.5;\"/><line style=\"stroke:#000000;stroke-width:1.5;\" x1=\"319\" x2=\"368.75\" y1=\"79.2969\" y2=\"79.2969\"/><text fill=\"#000000\" font-family=\"sans-serif\" font-size=\"14\" font-weight=\"bold\" lengthAdjust=\"spacing\" textLength=\"36.75\" x=\"323\" y=\"71.9951\">Pkg2</text></a></g><!--MD5=[14e3b0961a2654348d326746436168a1]\n",
       "cluster E6--><g id=\"cluster_E6\"><a href=\"psysml:74f758db-603d-4dff-97e1-05ce4d0c3ab8\" target=\"_top\" title=\"psysml:74f758db-603d-4dff-97e1-05ce4d0c3ab8\" xlink:actuate=\"onRequest\" xlink:href=\"psysml:74f758db-603d-4dff-97e1-05ce4d0c3ab8\" xlink:show=\"new\" xlink:title=\"psysml:74f758db-603d-4dff-97e1-05ce4d0c3ab8\" xlink:type=\"simple\"><polygon fill=\"none\" points=\"359,124,411.1875,124,418.1875,146.2969,557,146.2969,557,365,359,365,359,124\" style=\"stroke:#000000;stroke-width:1.5;\"/><line style=\"stroke:#000000;stroke-width:1.5;\" x1=\"359\" x2=\"418.1875\" y1=\"146.2969\" y2=\"146.2969\"/><text fill=\"#000000\" font-family=\"sans-serif\" font-size=\"14\" font-weight=\"bold\" lengthAdjust=\"spacing\" textLength=\"46.1875\" x=\"363\" y=\"138.9951\">Pkg21</text></a></g><!--MD5=[168fadf3d0c3fd93dd5d6da1b1d7ab76]\n",
       "cluster E7--><g id=\"cluster_E7\"><a href=\"psysml:c9292eea-a9ed-4d7d-b554-73a415b23d76\" target=\"_top\" title=\"psysml:c9292eea-a9ed-4d7d-b554-73a415b23d76\" xlink:actuate=\"onRequest\" xlink:href=\"psysml:c9292eea-a9ed-4d7d-b554-73a415b23d76\" xlink:show=\"new\" xlink:title=\"psysml:c9292eea-a9ed-4d7d-b554-73a415b23d76\" xlink:type=\"simple\"><polygon fill=\"none\" points=\"399,183,460.625,183,467.625,205.2969,517,205.2969,517,317,399,317,399,183\" style=\"stroke:#000000;stroke-width:1.5;\"/><line style=\"stroke:#000000;stroke-width:1.5;\" x1=\"399\" x2=\"467.625\" y1=\"205.2969\" y2=\"205.2969\"/><text fill=\"#000000\" font-family=\"sans-serif\" font-size=\"14\" font-weight=\"bold\" lengthAdjust=\"spacing\" textLength=\"55.625\" x=\"403\" y=\"197.9951\">Pkg211</text></a></g><!--MD5=[09b614a08d8cba4a07c9adeb5e0fee81]\n",
       "class E3--><a href=\"psysml:c9f16dae-c47d-4af9-8178-9fb29f2ca8fe\" target=\"_top\" title=\"psysml:c9f16dae-c47d-4af9-8178-9fb29f2ca8fe\" xlink:actuate=\"onRequest\" xlink:href=\"psysml:c9f16dae-c47d-4af9-8178-9fb29f2ca8fe\" xlink:show=\"new\" xlink:title=\"psysml:c9f16dae-c47d-4af9-8178-9fb29f2ca8fe\" xlink:type=\"simple\"><g id=\"elem_E3\"><rect fill=\"#FFFFFF\" height=\"48.2656\" id=\"E3\" rx=\"10\" ry=\"10\" style=\"stroke:#181818;stroke-width:0.5;\" width=\"86\" x=\"72\" y=\"207\"/><text fill=\"#000000\" font-family=\"sans-serif\" font-size=\"12\" font-style=\"italic\" lengthAdjust=\"spacing\" textLength=\"40\" x=\"95\" y=\"223.1387\">«part»</text><text fill=\"#000000\" font-family=\"sans-serif\" font-size=\"14\" lengthAdjust=\"spacing\" textLength=\"72\" x=\"75\" y=\"238.9639\">p11: P211</text><line style=\"stroke:#181818;stroke-width:0.5;\" x1=\"73\" x2=\"157\" y1=\"247.2656\" y2=\"247.2656\"/></g></a><!--MD5=[ebbe1d658d1005bcc118a6aa81145e00]\n",
       "class E4--><a href=\"psysml:5a85d6e7-c399-4e25-bc8b-7b1310ff596a\" target=\"_top\" title=\"psysml:5a85d6e7-c399-4e25-bc8b-7b1310ff596a\" xlink:actuate=\"onRequest\" xlink:href=\"psysml:5a85d6e7-c399-4e25-bc8b-7b1310ff596a\" xlink:show=\"new\" xlink:title=\"psysml:5a85d6e7-c399-4e25-bc8b-7b1310ff596a\" xlink:type=\"simple\"><g id=\"elem_E4\"><rect fill=\"#FFFFFF\" height=\"48.2656\" id=\"E4\" style=\"stroke:#181818;stroke-width:0.5;\" width=\"70\" x=\"80\" y=\"124\"/><text fill=\"#000000\" font-family=\"sans-serif\" font-size=\"12\" font-style=\"italic\" lengthAdjust=\"spacing\" textLength=\"68\" x=\"81\" y=\"140.1387\">«part  def»</text><text fill=\"#000000\" font-family=\"sans-serif\" font-size=\"14\" lengthAdjust=\"spacing\" textLength=\"27\" x=\"101.5\" y=\"155.9639\">P12</text><line style=\"stroke:#181818;stroke-width:0.5;\" x1=\"81\" x2=\"149\" y1=\"164.2656\" y2=\"164.2656\"/></g></a><!--MD5=[b9389687b975829384b498ac4b7476b2]\n",
       "class E8--><a href=\"psysml:60f2756c-cfe4-4496-b687-ff5dbf9a385d\" target=\"_top\" title=\"psysml:60f2756c-cfe4-4496-b687-ff5dbf9a385d\" xlink:actuate=\"onRequest\" xlink:href=\"psysml:60f2756c-cfe4-4496-b687-ff5dbf9a385d\" xlink:show=\"new\" xlink:title=\"psysml:60f2756c-cfe4-4496-b687-ff5dbf9a385d\" xlink:type=\"simple\"><g id=\"elem_E8\"><rect fill=\"#FFFFFF\" height=\"48.2656\" id=\"E8\" style=\"stroke:#181818;stroke-width:0.5;\" width=\"70\" x=\"423\" y=\"226\"/><text fill=\"#000000\" font-family=\"sans-serif\" font-size=\"12\" font-style=\"italic\" lengthAdjust=\"spacing\" textLength=\"68\" x=\"424\" y=\"242.1387\">«part  def»</text><text fill=\"#000000\" font-family=\"sans-serif\" font-size=\"14\" lengthAdjust=\"spacing\" textLength=\"36\" x=\"440\" y=\"257.9639\">P211</text><line style=\"stroke:#181818;stroke-width:0.5;\" x1=\"424\" x2=\"492\" y1=\"266.2656\" y2=\"266.2656\"/></g></a><!--MD5=[b0060bfdb0500b904584095522b4da3c]\n",
       "link E2 to E8--><g id=\"link_E2_E8\"><a href=\"psysml:7a09cf9a-4d44-4715-925a-a999429b18c6\" target=\"_top\" title=\"psysml:7a09cf9a-4d44-4715-925a-a999429b18c6\" xlink:actuate=\"onRequest\" xlink:href=\"psysml:7a09cf9a-4d44-4715-925a-a999429b18c6\" xlink:show=\"new\" xlink:title=\"psysml:7a09cf9a-4d44-4715-925a-a999429b18c6\" xlink:type=\"simple\"><path d=\"M182.204,282.2334 C183.0471,282.1345 183.8958,282.0349 184.7498,281.9347 C186.4578,281.7344 188.1873,281.5315 189.937,281.3263 C203.9348,279.6843 219.2281,277.8903 235.1825,276.0188 C299,268.5325 373.395,259.805 417.77,254.6 \" fill=\"none\" id=\"E2-to-E8\" style=\"stroke:#181818;stroke-width:1.0;stroke-dasharray:7.0,7.0;\"/><polygon fill=\"#181818\" points=\"422.92,254,413.5138,251.0805,417.9543,254.585,414.4498,259.0256,422.92,254\" style=\"stroke:#181818;stroke-width:1.0;\"/><text fill=\"#000000\" font-family=\"sans-serif\" font-size=\"13\" lengthAdjust=\"spacing\" textLength=\"58\" x=\"221.5\" y=\"266.0669\">«import»</text></a></g><!--MD5=[e3e28c1befcf002155aa15e1416b4315]\n",
       "link E2 to E6--><g id=\"link_E2_E6\"><a href=\"psysml:4d48d5b8-8a2b-403b-a600-382befb1c751\" target=\"_top\" title=\"psysml:4d48d5b8-8a2b-403b-a600-382befb1c751\" xlink:actuate=\"onRequest\" xlink:href=\"psysml:4d48d5b8-8a2b-403b-a600-382befb1c751\" xlink:show=\"new\" xlink:title=\"psysml:4d48d5b8-8a2b-403b-a600-382befb1c751\" xlink:type=\"simple\"><path d=\"M127.4726,298.1572 C128.1892,298.6452 128.9347,299.1495 129.7076,299.6684 C131.2534,300.7062 132.9091,301.8024 134.6637,302.9443 C138.1728,305.2281 142.0775,307.6944 146.29,310.24 C163.14,320.4225 184.915,331.875 206,338 C232.4375,345.6825 261.0638,350.7344 289.2005,353.9852 C303.2688,355.6105 317.2148,356.7857 330.7036,357.6142 C337.448,358.0285 344.0781,358.3561 350.5521,358.61 C352.1706,358.6735 353.7793,358.7324 355.3777,358.7869 C356.1768,358.8141 356.9734,358.8402 357.7672,358.8653 C358.1642,358.8778 358.5604,358.8901 358.956,358.9021 \" fill=\"none\" id=\"E2-to-E6\" style=\"stroke:#181818;stroke-width:1.0;stroke-dasharray:7.0,7.0;\"/><polygon fill=\"#181818\" points=\"358.956,358.9021,350.0814,354.6311,353.9583,358.7505,349.8389,362.6274,358.956,358.9021\" style=\"stroke:#181818;stroke-width:1.0;\"/><text fill=\"#000000\" font-family=\"sans-serif\" font-size=\"13\" lengthAdjust=\"spacing\" textLength=\"65\" x=\"218\" y=\"334.0669\">«import»*</text></a></g><!--MD5=[e3d2a08a9c9236652057e8ed0cbc9b62]\n",
       "link E2 to E7--><g id=\"link_E2_E7\"><a href=\"psysml:435ffdce-fa99-42b8-aa7d-b79facf9bf9f\" target=\"_top\" title=\"psysml:435ffdce-fa99-42b8-aa7d-b79facf9bf9f\" xlink:actuate=\"onRequest\" xlink:href=\"psysml:435ffdce-fa99-42b8-aa7d-b79facf9bf9f\" xlink:show=\"new\" xlink:title=\"psysml:435ffdce-fa99-42b8-aa7d-b79facf9bf9f\" xlink:type=\"simple\"><path d=\"M143.0271,298.018 C143.1546,298.0527 143.2825,298.0875 143.4106,298.1224 C143.6669,298.192 143.9244,298.2619 144.1832,298.3319 C145.2182,298.6119 146.2727,298.8945 147.345,299.1788 C164.5025,303.7275 186.235,308.725 206,311 C219.635,312.57 280.6525,312.11 339.1075,311.2375 C353.7213,311.0194 368.1748,310.7755 381.6879,310.5311 C385.0662,310.47 388.3856,310.4088 391.6341,310.348 C393.2584,310.3177 394.8649,310.2874 396.4521,310.2572 C397.2457,310.2421 398.0345,310.2271 398.8183,310.2121 \" fill=\"none\" id=\"E2-to-E7\" style=\"stroke:#181818;stroke-width:1.0;stroke-dasharray:7.0,7.0;\"/><polygon fill=\"#181818\" points=\"398.8183,310.2121,389.7434,306.385,393.8193,310.3078,389.8965,314.3836,398.8183,310.2121\" style=\"stroke:#181818;stroke-width:1.0;\"/><text fill=\"#000000\" font-family=\"sans-serif\" font-size=\"13\" lengthAdjust=\"spacing\" textLength=\"87\" x=\"207\" y=\"307.0669\">«import»*::**</text></a></g><!--MD5=[ca5a752d6098d8a44b3f88316e7452d1]\n",
       "link E3 to E8--><g id=\"link_E3_E8\"><a href=\"psysml:c2b3862a-e64c-4984-9133-ea986cde4555\" target=\"_top\" title=\"psysml:c2b3862a-e64c-4984-9133-ea986cde4555\" xlink:actuate=\"onRequest\" xlink:href=\"psysml:c2b3862a-e64c-4984-9133-ea986cde4555\" xlink:show=\"new\" xlink:title=\"psysml:c2b3862a-e64c-4984-9133-ea986cde4555\" xlink:type=\"simple\"><path d=\"M158.35,230.36 C194.65,230.08 248.31,230.3 295,233 C331.01,235.09 371.36,239.31 402.78,243.03 \" fill=\"none\" id=\"E3-to-E8\" style=\"stroke:#181818;stroke-width:1.0;\"/><polygon fill=\"#FFFFFF\" points=\"422.94,245.49,403.2307,250.1317,404.9303,236.2352,422.94,245.49\" style=\"stroke:#181818;stroke-width:1.0;\"/><ellipse cx=\"397.8157\" cy=\"247.4545\" fill=\"#181818\" rx=\"2\" ry=\"2\" style=\"stroke:#181818;stroke-width:1.0;\"/><ellipse cx=\"399.0297\" cy=\"237.5285\" fill=\"#181818\" rx=\"2\" ry=\"2\" style=\"stroke:#181818;stroke-width:1.0;\"/></a></g><!--MD5=[15ebcb19ae302d9b601edb458606d402]\n",
       "link E5 to E2--><g id=\"link_E5_E2\"><a href=\"psysml:2e43f05d-56e8-4995-94de-93836f9907a6\" target=\"_top\" title=\"psysml:2e43f05d-56e8-4995-94de-93836f9907a6\" xlink:actuate=\"onRequest\" xlink:href=\"psysml:2e43f05d-56e8-4995-94de-93836f9907a6\" xlink:show=\"new\" xlink:title=\"psysml:2e43f05d-56e8-4995-94de-93836f9907a6\" xlink:type=\"simple\"><path d=\"M318.6818,148.8629 C304.9655,157.2094 291.1608,166.3443 277.7547,176.2577 C250.9425,196.0844 225.725,219.025 206,245 C198.69,254.63 206.85,262.76 198,271 C194.685,274.0875 190.9705,276.7058 187.0018,278.9232 C186.0096,279.4776 185.0015,280.0069 183.9799,280.5122 C183.469,280.7649 182.9548,281.0115 182.4374,281.2523 C182.3081,281.3125 182.1786,281.3724 182.0488,281.4319 \" fill=\"none\" id=\"E5-to-E2\" style=\"stroke:#181818;stroke-width:1.0;stroke-dasharray:7.0,7.0;\"/><polygon fill=\"#181818\" points=\"182.0488,281.4319,191.897,281.3174,186.594,279.3482,188.5632,274.0452,182.0488,281.4319\" style=\"stroke:#181818;stroke-width:1.0;\"/><text fill=\"#000000\" font-family=\"sans-serif\" font-size=\"13\" lengthAdjust=\"spacing\" textLength=\"65\" x=\"218\" y=\"165.0669\">«import»*</text></a></g><!--MD5=[d7bb3fb34add81b710575eb3799fa2ad]\n",
       "link E8 to E4--><g id=\"link_E8_E4\"><a href=\"psysml:6ab4f965-70f0-4435-9c9c-0953ad10c713\" target=\"_top\" title=\"psysml:6ab4f965-70f0-4435-9c9c-0953ad10c713\" xlink:actuate=\"onRequest\" xlink:href=\"psysml:6ab4f965-70f0-4435-9c9c-0953ad10c713\" xlink:show=\"new\" xlink:title=\"psysml:6ab4f965-70f0-4435-9c9c-0953ad10c713\" xlink:type=\"simple\"><path d=\"M422.81,254.37 C387.49,256.79 333.35,254.26 303,222 C282.45,200.16 317.03,175.34 295,155 C262.09,124.62 209.57,126.2 169.9,133.4 \" fill=\"none\" id=\"E8-to-E4\" style=\"stroke:#181818;stroke-width:1.0;\"/><polygon fill=\"none\" points=\"171.25,140.27,150.23,137.61,168.33,126.58,171.25,140.27\" style=\"stroke:#181818;stroke-width:1.0;\"/></a></g><!--MD5=[d6a1e8909c7cd9eb4b38e1e16afe8663]\n",
       "@startuml\r\n",
       "skin sysmlbw\r\n",
       "skinparam monochrome true\r\n",
       "skinparam wrapWidth 300\r\n",
       "hide circle\r\n",
       "left to right direction\r\n",
       "\r\n",
       "package \"ImportTest\" as E1  [[psysml:257ae3bb-e982-4f23-93ec-21786cef6fd4 ]]  {\r\n",
       "package \"Pkg1\" as E2  [[psysml:d86f8a04-756e-41fe-890d-bee1afc1808f ]]  {\r\n",
       "comp usage \"p11: P211  \" as E3  <<(T,blue) part>> [[psysml:c9f16dae-c47d-4af9-8178-9fb29f2ca8fe ]] {\r\n",
       "}\r\n",
       "comp def \"P12\" as E4  <<(T,blue) part  def>> [[psysml:5a85d6e7-c399-4e25-bc8b-7b1310ff596a ]] {\r\n",
       "}\r\n",
       "}\r\n",
       "package \"Pkg2\" as E5  [[psysml:87b5aefc-a384-45d2-9563-354f132d05b6 ]]  {\r\n",
       "package \"Pkg21\" as E6  [[psysml:74f758db-603d-4dff-97e1-05ce4d0c3ab8 ]]  {\r\n",
       "package \"Pkg211\" as E7  [[psysml:c9292eea-a9ed-4d7d-b554-73a415b23d76 ]]  {\r\n",
       "comp def \"P211\" as E8  <<(T,blue) part  def>> [[psysml:60f2756c-cfe4-4496-b687-ff5dbf9a385d ]] {\r\n",
       "}\r\n",
       "}\r\n",
       "}\r\n",
       "}\r\n",
       "}\r\n",
       "E2 ..> E8 [[psysml:7a09cf9a-4d44-4715-925a-a999429b18c6 ]] : <<import>>\r\n",
       "E2 ..> E6 [[psysml:4d48d5b8-8a2b-403b-a600-382befb1c751 ]] : <<import>>*\r\n",
       "E2 ..> E7 [[psysml:435ffdce-fa99-42b8-aa7d-b79facf9bf9f ]] : <<import>>*::**\r\n",
       "E3 - -:|> E8 [[psysml:c2b3862a-e64c-4984-9133-ea986cde4555 ]] \r\n",
       "E5 ..> E2 [[psysml:2e43f05d-56e8-4995-94de-93836f9907a6 ]] : <<import>>*\r\n",
       "E8 - -|> E4 [[psysml:6ab4f965-70f0-4435-9c9c-0953ad10c713 ]] \r\n",
       "@enduml\r\n",
       "\n",
       "PlantUML version 1.2022.7(Mon Aug 22 17:01:30 UTC 2022)\n",
       "(EPL source distribution)\n",
       "Java Runtime: OpenJDK Runtime Environment\n",
       "JVM: OpenJDK 64-Bit Server VM\n",
       "Default Encoding: UTF-8\n",
       "Language: en\n",
       "Country: null\n",
       "--></g></svg>"
      ]
     },
     "execution_count": 16,
     "metadata": {},
     "output_type": "execute_result"
    }
   ],
   "source": [
    "%viz --style=\"LR\" --view=\"Default\" \"ImportTest\""
   ]
  },
  {
   "cell_type": "code",
   "execution_count": 17,
   "id": "9bb4dcf2",
   "metadata": {
    "execution": {
     "iopub.execute_input": "2024-12-16T14:16:20.754673Z",
     "iopub.status.busy": "2024-12-16T14:16:20.754434Z",
     "iopub.status.idle": "2024-12-16T14:16:20.778787Z",
     "shell.execute_reply": "2024-12-16T14:16:20.779006Z"
    }
   },
   "outputs": [
    {
     "data": {
      "image/svg+xml": [
       "<?xml version=\"1.0\" encoding=\"UTF-8\" standalone=\"no\"?><svg xmlns=\"http://www.w3.org/2000/svg\" xmlns:xlink=\"http://www.w3.org/1999/xlink\" contentStyleType=\"text/css\" height=\"444px\" preserveAspectRatio=\"none\" style=\"width:646px;height:444px;background:#FFFFFF;\" version=\"1.1\" viewBox=\"0 0 646 444\" width=\"646px\" zoomAndPan=\"magnify\"><defs/><g><!--MD5=[fbc87193dbaf4d95561dea2c320d4a47]\n",
       "cluster E1--><g id=\"cluster_E1\"><a href=\"psysml:257ae3bb-e982-4f23-93ec-21786cef6fd4\" target=\"_top\" title=\"psysml:257ae3bb-e982-4f23-93ec-21786cef6fd4\" xlink:actuate=\"onRequest\" xlink:href=\"psysml:257ae3bb-e982-4f23-93ec-21786cef6fd4\" xlink:show=\"new\" xlink:title=\"psysml:257ae3bb-e982-4f23-93ec-21786cef6fd4\" xlink:type=\"simple\"><polygon fill=\"none\" points=\"16,6,101.375,6,108.375,28.2969,629,28.2969,629,437,16,437,16,6\" style=\"stroke:#000000;stroke-width:1.5;\"/><line style=\"stroke:#000000;stroke-width:1.5;\" x1=\"16\" x2=\"108.375\" y1=\"28.2969\" y2=\"28.2969\"/><text fill=\"#000000\" font-family=\"sans-serif\" font-size=\"14\" font-weight=\"bold\" lengthAdjust=\"spacing\" textLength=\"79.375\" x=\"20\" y=\"20.9951\">ImportTest</text></a></g><!--MD5=[e4f7fae6ed58524ba242bb0b0d3be6b7]\n",
       "cluster E2--><g id=\"cluster_E2\"><a href=\"psysml:d86f8a04-756e-41fe-890d-bee1afc1808f\" target=\"_top\" title=\"psysml:d86f8a04-756e-41fe-890d-bee1afc1808f\" xlink:actuate=\"onRequest\" xlink:href=\"psysml:d86f8a04-756e-41fe-890d-bee1afc1808f\" xlink:show=\"new\" xlink:title=\"psysml:d86f8a04-756e-41fe-890d-bee1afc1808f\" xlink:type=\"simple\"><polygon fill=\"none\" points=\"48,81,90.75,81,97.75,103.2969,182,103.2969,182,298,48,298,48,81\" style=\"stroke:#000000;stroke-width:1.5;\"/><line style=\"stroke:#000000;stroke-width:1.5;\" x1=\"48\" x2=\"97.75\" y1=\"103.2969\" y2=\"103.2969\"/><text fill=\"#000000\" font-family=\"sans-serif\" font-size=\"14\" font-weight=\"bold\" lengthAdjust=\"spacing\" textLength=\"36.75\" x=\"52\" y=\"95.9951\">Pkg1</text></a></g><!--MD5=[de5ec2e2e8f62f467e546659f5068c88]\n",
       "cluster E5--><g id=\"cluster_E5\"><a href=\"psysml:87b5aefc-a384-45d2-9563-354f132d05b6\" target=\"_top\" title=\"psysml:87b5aefc-a384-45d2-9563-354f132d05b6\" xlink:actuate=\"onRequest\" xlink:href=\"psysml:87b5aefc-a384-45d2-9563-354f132d05b6\" xlink:show=\"new\" xlink:title=\"psysml:87b5aefc-a384-45d2-9563-354f132d05b6\" xlink:type=\"simple\"><polygon fill=\"none\" points=\"319,57,361.75,57,368.75,79.2969,597,79.2969,597,405,319,405,319,57\" style=\"stroke:#000000;stroke-width:1.5;\"/><line style=\"stroke:#000000;stroke-width:1.5;\" x1=\"319\" x2=\"368.75\" y1=\"79.2969\" y2=\"79.2969\"/><text fill=\"#000000\" font-family=\"sans-serif\" font-size=\"14\" font-weight=\"bold\" lengthAdjust=\"spacing\" textLength=\"36.75\" x=\"323\" y=\"71.9951\">Pkg2</text></a></g><!--MD5=[14e3b0961a2654348d326746436168a1]\n",
       "cluster E6--><g id=\"cluster_E6\"><a href=\"psysml:74f758db-603d-4dff-97e1-05ce4d0c3ab8\" target=\"_top\" title=\"psysml:74f758db-603d-4dff-97e1-05ce4d0c3ab8\" xlink:actuate=\"onRequest\" xlink:href=\"psysml:74f758db-603d-4dff-97e1-05ce4d0c3ab8\" xlink:show=\"new\" xlink:title=\"psysml:74f758db-603d-4dff-97e1-05ce4d0c3ab8\" xlink:type=\"simple\"><polygon fill=\"none\" points=\"359,124,411.1875,124,418.1875,146.2969,557,146.2969,557,365,359,365,359,124\" style=\"stroke:#000000;stroke-width:1.5;\"/><line style=\"stroke:#000000;stroke-width:1.5;\" x1=\"359\" x2=\"418.1875\" y1=\"146.2969\" y2=\"146.2969\"/><text fill=\"#000000\" font-family=\"sans-serif\" font-size=\"14\" font-weight=\"bold\" lengthAdjust=\"spacing\" textLength=\"46.1875\" x=\"363\" y=\"138.9951\">Pkg21</text></a></g><!--MD5=[168fadf3d0c3fd93dd5d6da1b1d7ab76]\n",
       "cluster E7--><g id=\"cluster_E7\"><a href=\"psysml:c9292eea-a9ed-4d7d-b554-73a415b23d76\" target=\"_top\" title=\"psysml:c9292eea-a9ed-4d7d-b554-73a415b23d76\" xlink:actuate=\"onRequest\" xlink:href=\"psysml:c9292eea-a9ed-4d7d-b554-73a415b23d76\" xlink:show=\"new\" xlink:title=\"psysml:c9292eea-a9ed-4d7d-b554-73a415b23d76\" xlink:type=\"simple\"><polygon fill=\"none\" points=\"399,183,460.625,183,467.625,205.2969,517,205.2969,517,317,399,317,399,183\" style=\"stroke:#000000;stroke-width:1.5;\"/><line style=\"stroke:#000000;stroke-width:1.5;\" x1=\"399\" x2=\"467.625\" y1=\"205.2969\" y2=\"205.2969\"/><text fill=\"#000000\" font-family=\"sans-serif\" font-size=\"14\" font-weight=\"bold\" lengthAdjust=\"spacing\" textLength=\"55.625\" x=\"403\" y=\"197.9951\">Pkg211</text></a></g><!--MD5=[09b614a08d8cba4a07c9adeb5e0fee81]\n",
       "class E3--><a href=\"psysml:c9f16dae-c47d-4af9-8178-9fb29f2ca8fe\" target=\"_top\" title=\"psysml:c9f16dae-c47d-4af9-8178-9fb29f2ca8fe\" xlink:actuate=\"onRequest\" xlink:href=\"psysml:c9f16dae-c47d-4af9-8178-9fb29f2ca8fe\" xlink:show=\"new\" xlink:title=\"psysml:c9f16dae-c47d-4af9-8178-9fb29f2ca8fe\" xlink:type=\"simple\"><g id=\"elem_E3\"><rect fill=\"#FFFFFF\" height=\"48.2656\" id=\"E3\" rx=\"10\" ry=\"10\" style=\"stroke:#181818;stroke-width:0.5;\" width=\"86\" x=\"72\" y=\"207\"/><text fill=\"#000000\" font-family=\"sans-serif\" font-size=\"12\" font-style=\"italic\" lengthAdjust=\"spacing\" textLength=\"40\" x=\"95\" y=\"223.1387\">«part»</text><text fill=\"#000000\" font-family=\"sans-serif\" font-size=\"14\" lengthAdjust=\"spacing\" textLength=\"72\" x=\"75\" y=\"238.9639\">p11: P211</text><line style=\"stroke:#181818;stroke-width:0.5;\" x1=\"73\" x2=\"157\" y1=\"247.2656\" y2=\"247.2656\"/></g></a><!--MD5=[ebbe1d658d1005bcc118a6aa81145e00]\n",
       "class E4--><a href=\"psysml:5a85d6e7-c399-4e25-bc8b-7b1310ff596a\" target=\"_top\" title=\"psysml:5a85d6e7-c399-4e25-bc8b-7b1310ff596a\" xlink:actuate=\"onRequest\" xlink:href=\"psysml:5a85d6e7-c399-4e25-bc8b-7b1310ff596a\" xlink:show=\"new\" xlink:title=\"psysml:5a85d6e7-c399-4e25-bc8b-7b1310ff596a\" xlink:type=\"simple\"><g id=\"elem_E4\"><rect fill=\"#FFFFFF\" height=\"48.2656\" id=\"E4\" style=\"stroke:#181818;stroke-width:0.5;\" width=\"70\" x=\"80\" y=\"124\"/><text fill=\"#000000\" font-family=\"sans-serif\" font-size=\"12\" font-style=\"italic\" lengthAdjust=\"spacing\" textLength=\"68\" x=\"81\" y=\"140.1387\">«part  def»</text><text fill=\"#000000\" font-family=\"sans-serif\" font-size=\"14\" lengthAdjust=\"spacing\" textLength=\"27\" x=\"101.5\" y=\"155.9639\">P12</text><line style=\"stroke:#181818;stroke-width:0.5;\" x1=\"81\" x2=\"149\" y1=\"164.2656\" y2=\"164.2656\"/></g></a><!--MD5=[b9389687b975829384b498ac4b7476b2]\n",
       "class E8--><a href=\"psysml:60f2756c-cfe4-4496-b687-ff5dbf9a385d\" target=\"_top\" title=\"psysml:60f2756c-cfe4-4496-b687-ff5dbf9a385d\" xlink:actuate=\"onRequest\" xlink:href=\"psysml:60f2756c-cfe4-4496-b687-ff5dbf9a385d\" xlink:show=\"new\" xlink:title=\"psysml:60f2756c-cfe4-4496-b687-ff5dbf9a385d\" xlink:type=\"simple\"><g id=\"elem_E8\"><rect fill=\"#FFFFFF\" height=\"48.2656\" id=\"E8\" style=\"stroke:#181818;stroke-width:0.5;\" width=\"70\" x=\"423\" y=\"226\"/><text fill=\"#000000\" font-family=\"sans-serif\" font-size=\"12\" font-style=\"italic\" lengthAdjust=\"spacing\" textLength=\"68\" x=\"424\" y=\"242.1387\">«part  def»</text><text fill=\"#000000\" font-family=\"sans-serif\" font-size=\"14\" lengthAdjust=\"spacing\" textLength=\"36\" x=\"440\" y=\"257.9639\">P211</text><line style=\"stroke:#181818;stroke-width:0.5;\" x1=\"424\" x2=\"492\" y1=\"266.2656\" y2=\"266.2656\"/></g></a><!--MD5=[b0060bfdb0500b904584095522b4da3c]\n",
       "link E2 to E8--><g id=\"link_E2_E8\"><a href=\"psysml:7a09cf9a-4d44-4715-925a-a999429b18c6\" target=\"_top\" title=\"psysml:7a09cf9a-4d44-4715-925a-a999429b18c6\" xlink:actuate=\"onRequest\" xlink:href=\"psysml:7a09cf9a-4d44-4715-925a-a999429b18c6\" xlink:show=\"new\" xlink:title=\"psysml:7a09cf9a-4d44-4715-925a-a999429b18c6\" xlink:type=\"simple\"><path d=\"M182.204,282.2334 C183.0471,282.1345 183.8958,282.0349 184.7498,281.9347 C186.4578,281.7344 188.1873,281.5315 189.937,281.3263 C203.9348,279.6843 219.2281,277.8903 235.1825,276.0188 C299,268.5325 373.395,259.805 417.77,254.6 \" fill=\"none\" id=\"E2-to-E8\" style=\"stroke:#181818;stroke-width:1.0;stroke-dasharray:7.0,7.0;\"/><polygon fill=\"#181818\" points=\"422.92,254,413.5138,251.0805,417.9543,254.585,414.4498,259.0256,422.92,254\" style=\"stroke:#181818;stroke-width:1.0;\"/><text fill=\"#000000\" font-family=\"sans-serif\" font-size=\"13\" lengthAdjust=\"spacing\" textLength=\"58\" x=\"221.5\" y=\"266.0669\">«import»</text></a></g><!--MD5=[e3e28c1befcf002155aa15e1416b4315]\n",
       "link E2 to E6--><g id=\"link_E2_E6\"><a href=\"psysml:4d48d5b8-8a2b-403b-a600-382befb1c751\" target=\"_top\" title=\"psysml:4d48d5b8-8a2b-403b-a600-382befb1c751\" xlink:actuate=\"onRequest\" xlink:href=\"psysml:4d48d5b8-8a2b-403b-a600-382befb1c751\" xlink:show=\"new\" xlink:title=\"psysml:4d48d5b8-8a2b-403b-a600-382befb1c751\" xlink:type=\"simple\"><path d=\"M127.4726,298.1572 C128.1892,298.6452 128.9347,299.1495 129.7076,299.6684 C131.2534,300.7062 132.9091,301.8024 134.6637,302.9443 C138.1728,305.2281 142.0775,307.6944 146.29,310.24 C163.14,320.4225 184.915,331.875 206,338 C232.4375,345.6825 261.0638,350.7344 289.2005,353.9852 C303.2688,355.6105 317.2148,356.7857 330.7036,357.6142 C337.448,358.0285 344.0781,358.3561 350.5521,358.61 C352.1706,358.6735 353.7793,358.7324 355.3777,358.7869 C356.1768,358.8141 356.9734,358.8402 357.7672,358.8653 C358.1642,358.8778 358.5604,358.8901 358.956,358.9021 \" fill=\"none\" id=\"E2-to-E6\" style=\"stroke:#181818;stroke-width:1.0;stroke-dasharray:7.0,7.0;\"/><polygon fill=\"#181818\" points=\"358.956,358.9021,350.0814,354.6311,353.9583,358.7505,349.8389,362.6274,358.956,358.9021\" style=\"stroke:#181818;stroke-width:1.0;\"/><text fill=\"#000000\" font-family=\"sans-serif\" font-size=\"13\" lengthAdjust=\"spacing\" textLength=\"65\" x=\"218\" y=\"334.0669\">«import»*</text></a></g><!--MD5=[e3d2a08a9c9236652057e8ed0cbc9b62]\n",
       "link E2 to E7--><g id=\"link_E2_E7\"><a href=\"psysml:435ffdce-fa99-42b8-aa7d-b79facf9bf9f\" target=\"_top\" title=\"psysml:435ffdce-fa99-42b8-aa7d-b79facf9bf9f\" xlink:actuate=\"onRequest\" xlink:href=\"psysml:435ffdce-fa99-42b8-aa7d-b79facf9bf9f\" xlink:show=\"new\" xlink:title=\"psysml:435ffdce-fa99-42b8-aa7d-b79facf9bf9f\" xlink:type=\"simple\"><path d=\"M143.0271,298.018 C143.1546,298.0527 143.2825,298.0875 143.4106,298.1224 C143.6669,298.192 143.9244,298.2619 144.1832,298.3319 C145.2182,298.6119 146.2727,298.8945 147.345,299.1788 C164.5025,303.7275 186.235,308.725 206,311 C219.635,312.57 280.6525,312.11 339.1075,311.2375 C353.7213,311.0194 368.1748,310.7755 381.6879,310.5311 C385.0662,310.47 388.3856,310.4088 391.6341,310.348 C393.2584,310.3177 394.8649,310.2874 396.4521,310.2572 C397.2457,310.2421 398.0345,310.2271 398.8183,310.2121 \" fill=\"none\" id=\"E2-to-E7\" style=\"stroke:#181818;stroke-width:1.0;stroke-dasharray:7.0,7.0;\"/><polygon fill=\"#181818\" points=\"398.8183,310.2121,389.7434,306.385,393.8193,310.3078,389.8965,314.3836,398.8183,310.2121\" style=\"stroke:#181818;stroke-width:1.0;\"/><text fill=\"#000000\" font-family=\"sans-serif\" font-size=\"13\" lengthAdjust=\"spacing\" textLength=\"87\" x=\"207\" y=\"307.0669\">«import»*::**</text></a></g><!--MD5=[ca5a752d6098d8a44b3f88316e7452d1]\n",
       "link E3 to E8--><g id=\"link_E3_E8\"><a href=\"psysml:c2b3862a-e64c-4984-9133-ea986cde4555\" target=\"_top\" title=\"psysml:c2b3862a-e64c-4984-9133-ea986cde4555\" xlink:actuate=\"onRequest\" xlink:href=\"psysml:c2b3862a-e64c-4984-9133-ea986cde4555\" xlink:show=\"new\" xlink:title=\"psysml:c2b3862a-e64c-4984-9133-ea986cde4555\" xlink:type=\"simple\"><path d=\"M158.35,230.36 C194.65,230.08 248.31,230.3 295,233 C331.01,235.09 371.36,239.31 402.78,243.03 \" fill=\"none\" id=\"E3-to-E8\" style=\"stroke:#181818;stroke-width:1.0;\"/><polygon fill=\"#FFFFFF\" points=\"422.94,245.49,403.2307,250.1317,404.9303,236.2352,422.94,245.49\" style=\"stroke:#181818;stroke-width:1.0;\"/><ellipse cx=\"397.8157\" cy=\"247.4545\" fill=\"#181818\" rx=\"2\" ry=\"2\" style=\"stroke:#181818;stroke-width:1.0;\"/><ellipse cx=\"399.0297\" cy=\"237.5285\" fill=\"#181818\" rx=\"2\" ry=\"2\" style=\"stroke:#181818;stroke-width:1.0;\"/></a></g><!--MD5=[15ebcb19ae302d9b601edb458606d402]\n",
       "link E5 to E2--><g id=\"link_E5_E2\"><a href=\"psysml:2e43f05d-56e8-4995-94de-93836f9907a6\" target=\"_top\" title=\"psysml:2e43f05d-56e8-4995-94de-93836f9907a6\" xlink:actuate=\"onRequest\" xlink:href=\"psysml:2e43f05d-56e8-4995-94de-93836f9907a6\" xlink:show=\"new\" xlink:title=\"psysml:2e43f05d-56e8-4995-94de-93836f9907a6\" xlink:type=\"simple\"><path d=\"M318.6818,148.8629 C304.9655,157.2094 291.1608,166.3443 277.7547,176.2577 C250.9425,196.0844 225.725,219.025 206,245 C198.69,254.63 206.85,262.76 198,271 C194.685,274.0875 190.9705,276.7058 187.0018,278.9232 C186.0096,279.4776 185.0015,280.0069 183.9799,280.5122 C183.469,280.7649 182.9548,281.0115 182.4374,281.2523 C182.3081,281.3125 182.1786,281.3724 182.0488,281.4319 \" fill=\"none\" id=\"E5-to-E2\" style=\"stroke:#181818;stroke-width:1.0;stroke-dasharray:7.0,7.0;\"/><polygon fill=\"#181818\" points=\"182.0488,281.4319,191.897,281.3174,186.594,279.3482,188.5632,274.0452,182.0488,281.4319\" style=\"stroke:#181818;stroke-width:1.0;\"/><text fill=\"#000000\" font-family=\"sans-serif\" font-size=\"13\" lengthAdjust=\"spacing\" textLength=\"65\" x=\"218\" y=\"165.0669\">«import»*</text></a></g><!--MD5=[d7bb3fb34add81b710575eb3799fa2ad]\n",
       "link E8 to E4--><g id=\"link_E8_E4\"><a href=\"psysml:6ab4f965-70f0-4435-9c9c-0953ad10c713\" target=\"_top\" title=\"psysml:6ab4f965-70f0-4435-9c9c-0953ad10c713\" xlink:actuate=\"onRequest\" xlink:href=\"psysml:6ab4f965-70f0-4435-9c9c-0953ad10c713\" xlink:show=\"new\" xlink:title=\"psysml:6ab4f965-70f0-4435-9c9c-0953ad10c713\" xlink:type=\"simple\"><path d=\"M422.81,254.37 C387.49,256.79 333.35,254.26 303,222 C282.45,200.16 317.03,175.34 295,155 C262.09,124.62 209.57,126.2 169.9,133.4 \" fill=\"none\" id=\"E8-to-E4\" style=\"stroke:#181818;stroke-width:1.0;\"/><polygon fill=\"none\" points=\"171.25,140.27,150.23,137.61,168.33,126.58,171.25,140.27\" style=\"stroke:#181818;stroke-width:1.0;\"/></a></g><!--MD5=[d6a1e8909c7cd9eb4b38e1e16afe8663]\n",
       "@startuml\r\n",
       "skin sysmlbw\r\n",
       "skinparam monochrome true\r\n",
       "skinparam wrapWidth 300\r\n",
       "hide circle\r\n",
       "left to right direction\r\n",
       "\r\n",
       "package \"ImportTest\" as E1  [[psysml:257ae3bb-e982-4f23-93ec-21786cef6fd4 ]]  {\r\n",
       "package \"Pkg1\" as E2  [[psysml:d86f8a04-756e-41fe-890d-bee1afc1808f ]]  {\r\n",
       "comp usage \"p11: P211  \" as E3  <<(T,blue) part>> [[psysml:c9f16dae-c47d-4af9-8178-9fb29f2ca8fe ]] {\r\n",
       "}\r\n",
       "comp def \"P12\" as E4  <<(T,blue) part  def>> [[psysml:5a85d6e7-c399-4e25-bc8b-7b1310ff596a ]] {\r\n",
       "}\r\n",
       "}\r\n",
       "package \"Pkg2\" as E5  [[psysml:87b5aefc-a384-45d2-9563-354f132d05b6 ]]  {\r\n",
       "package \"Pkg21\" as E6  [[psysml:74f758db-603d-4dff-97e1-05ce4d0c3ab8 ]]  {\r\n",
       "package \"Pkg211\" as E7  [[psysml:c9292eea-a9ed-4d7d-b554-73a415b23d76 ]]  {\r\n",
       "comp def \"P211\" as E8  <<(T,blue) part  def>> [[psysml:60f2756c-cfe4-4496-b687-ff5dbf9a385d ]] {\r\n",
       "}\r\n",
       "}\r\n",
       "}\r\n",
       "}\r\n",
       "}\r\n",
       "E2 ..> E8 [[psysml:7a09cf9a-4d44-4715-925a-a999429b18c6 ]] : <<import>>\r\n",
       "E2 ..> E6 [[psysml:4d48d5b8-8a2b-403b-a600-382befb1c751 ]] : <<import>>*\r\n",
       "E2 ..> E7 [[psysml:435ffdce-fa99-42b8-aa7d-b79facf9bf9f ]] : <<import>>*::**\r\n",
       "E3 - -:|> E8 [[psysml:c2b3862a-e64c-4984-9133-ea986cde4555 ]] \r\n",
       "E5 ..> E2 [[psysml:2e43f05d-56e8-4995-94de-93836f9907a6 ]] : <<import>>*\r\n",
       "E8 - -|> E4 [[psysml:6ab4f965-70f0-4435-9c9c-0953ad10c713 ]] \r\n",
       "@enduml\r\n",
       "\n",
       "PlantUML version 1.2022.7(Mon Aug 22 17:01:30 UTC 2022)\n",
       "(EPL source distribution)\n",
       "Java Runtime: OpenJDK Runtime Environment\n",
       "JVM: OpenJDK 64-Bit Server VM\n",
       "Default Encoding: UTF-8\n",
       "Language: en\n",
       "Country: null\n",
       "--></g></svg>"
      ]
     },
     "execution_count": 17,
     "metadata": {},
     "output_type": "execute_result"
    }
   ],
   "source": [
    "%viz --style=\"LR\" --view=\"Tree\" \"ImportTest\""
   ]
  },
  {
   "cell_type": "code",
   "execution_count": 18,
   "id": "5b1f1753",
   "metadata": {
    "execution": {
     "iopub.execute_input": "2024-12-16T14:16:20.830117Z",
     "iopub.status.busy": "2024-12-16T14:16:20.829877Z",
     "iopub.status.idle": "2024-12-16T14:16:20.835735Z",
     "shell.execute_reply": "2024-12-16T14:16:20.835487Z"
    }
   },
   "outputs": [
    {
     "data": {
      "image/svg+xml": [
       "<?xml version=\"1.0\" encoding=\"UTF-8\" standalone=\"no\"?><svg xmlns=\"http://www.w3.org/2000/svg\" xmlns:xlink=\"http://www.w3.org/1999/xlink\" contentStyleType=\"text/css\" height=\"10px\" preserveAspectRatio=\"none\" style=\"width:10px;height:10px;background:#FFFFFF;\" version=\"1.1\" viewBox=\"0 0 10 10\" width=\"10px\" zoomAndPan=\"magnify\"><defs/><g><!--MD5=[fb420fbd7a91d32138f4344b927a323c]\n",
       "@startuml\r\n",
       "skin sysmlbw\r\n",
       "skinparam monochrome true\r\n",
       "skinparam wrapWidth 300\r\n",
       "hide circle\r\n",
       "left to right direction\r\n",
       "\r\n",
       "@enduml\r\n",
       "\n",
       "PlantUML version 1.2022.7(Mon Aug 22 17:01:30 UTC 2022)\n",
       "(EPL source distribution)\n",
       "Java Runtime: OpenJDK Runtime Environment\n",
       "JVM: OpenJDK 64-Bit Server VM\n",
       "Default Encoding: UTF-8\n",
       "Language: en\n",
       "Country: null\n",
       "--></g></svg>"
      ]
     },
     "execution_count": 18,
     "metadata": {},
     "output_type": "execute_result"
    }
   ],
   "source": [
    "%viz --style=\"LR\" --view=\"State\" \"ImportTest\""
   ]
  },
  {
   "cell_type": "code",
   "execution_count": 19,
   "id": "24ebb688",
   "metadata": {
    "execution": {
     "iopub.execute_input": "2024-12-16T14:16:20.888231Z",
     "iopub.status.busy": "2024-12-16T14:16:20.887958Z",
     "iopub.status.idle": "2024-12-16T14:16:20.915641Z",
     "shell.execute_reply": "2024-12-16T14:16:20.914773Z"
    }
   },
   "outputs": [
    {
     "data": {
      "image/svg+xml": [
       "<?xml version=\"1.0\" encoding=\"UTF-8\" standalone=\"no\"?><svg xmlns=\"http://www.w3.org/2000/svg\" xmlns:xlink=\"http://www.w3.org/1999/xlink\" contentStyleType=\"text/css\" height=\"442px\" preserveAspectRatio=\"none\" style=\"width:648px;height:442px;background:#FFFFFF;\" version=\"1.1\" viewBox=\"0 0 648 442\" width=\"648px\" zoomAndPan=\"magnify\"><defs/><g><!--MD5=[fbc87193dbaf4d95561dea2c320d4a47]\n",
       "cluster E1--><g id=\"cluster_E1\"><a href=\"psysml:257ae3bb-e982-4f23-93ec-21786cef6fd4\" target=\"_top\" title=\"psysml:257ae3bb-e982-4f23-93ec-21786cef6fd4\" xlink:actuate=\"onRequest\" xlink:href=\"psysml:257ae3bb-e982-4f23-93ec-21786cef6fd4\" xlink:show=\"new\" xlink:title=\"psysml:257ae3bb-e982-4f23-93ec-21786cef6fd4\" xlink:type=\"simple\"><polygon fill=\"none\" points=\"16,6,101.375,6,108.375,28.2969,631,28.2969,631,435,16,435,16,6\" style=\"stroke:#000000;stroke-width:1.5;\"/><line style=\"stroke:#000000;stroke-width:1.5;\" x1=\"16\" x2=\"108.375\" y1=\"28.2969\" y2=\"28.2969\"/><text fill=\"#000000\" font-family=\"sans-serif\" font-size=\"14\" font-weight=\"bold\" lengthAdjust=\"spacing\" textLength=\"79.375\" x=\"20\" y=\"20.9951\">ImportTest</text></a></g><!--MD5=[e4f7fae6ed58524ba242bb0b0d3be6b7]\n",
       "cluster E2--><g id=\"cluster_E2\"><a href=\"psysml:d86f8a04-756e-41fe-890d-bee1afc1808f\" target=\"_top\" title=\"psysml:d86f8a04-756e-41fe-890d-bee1afc1808f\" xlink:actuate=\"onRequest\" xlink:href=\"psysml:d86f8a04-756e-41fe-890d-bee1afc1808f\" xlink:show=\"new\" xlink:title=\"psysml:d86f8a04-756e-41fe-890d-bee1afc1808f\" xlink:type=\"simple\"><polygon fill=\"none\" points=\"48,85,90.75,85,97.75,107.2969,179,107.2969,179,292,48,292,48,85\" style=\"stroke:#000000;stroke-width:1.5;\"/><line style=\"stroke:#000000;stroke-width:1.5;\" x1=\"48\" x2=\"97.75\" y1=\"107.2969\" y2=\"107.2969\"/><text fill=\"#000000\" font-family=\"sans-serif\" font-size=\"14\" font-weight=\"bold\" lengthAdjust=\"spacing\" textLength=\"36.75\" x=\"52\" y=\"99.9951\">Pkg1</text></a></g><!--MD5=[de5ec2e2e8f62f467e546659f5068c88]\n",
       "cluster E5--><g id=\"cluster_E5\"><a href=\"psysml:87b5aefc-a384-45d2-9563-354f132d05b6\" target=\"_top\" title=\"psysml:87b5aefc-a384-45d2-9563-354f132d05b6\" xlink:actuate=\"onRequest\" xlink:href=\"psysml:87b5aefc-a384-45d2-9563-354f132d05b6\" xlink:show=\"new\" xlink:title=\"psysml:87b5aefc-a384-45d2-9563-354f132d05b6\" xlink:type=\"simple\"><polygon fill=\"none\" points=\"316,57,358.75,57,365.75,79.2969,599,79.2969,599,403,316,403,316,57\" style=\"stroke:#000000;stroke-width:1.5;\"/><line style=\"stroke:#000000;stroke-width:1.5;\" x1=\"316\" x2=\"365.75\" y1=\"79.2969\" y2=\"79.2969\"/><text fill=\"#000000\" font-family=\"sans-serif\" font-size=\"14\" font-weight=\"bold\" lengthAdjust=\"spacing\" textLength=\"36.75\" x=\"320\" y=\"71.9951\">Pkg2</text></a></g><!--MD5=[14e3b0961a2654348d326746436168a1]\n",
       "cluster E6--><g id=\"cluster_E6\"><a href=\"psysml:74f758db-603d-4dff-97e1-05ce4d0c3ab8\" target=\"_top\" title=\"psysml:74f758db-603d-4dff-97e1-05ce4d0c3ab8\" xlink:actuate=\"onRequest\" xlink:href=\"psysml:74f758db-603d-4dff-97e1-05ce4d0c3ab8\" xlink:show=\"new\" xlink:title=\"psysml:74f758db-603d-4dff-97e1-05ce4d0c3ab8\" xlink:type=\"simple\"><polygon fill=\"none\" points=\"356,124,408.1875,124,415.1875,146.2969,559,146.2969,559,363,356,363,356,124\" style=\"stroke:#000000;stroke-width:1.5;\"/><line style=\"stroke:#000000;stroke-width:1.5;\" x1=\"356\" x2=\"415.1875\" y1=\"146.2969\" y2=\"146.2969\"/><text fill=\"#000000\" font-family=\"sans-serif\" font-size=\"14\" font-weight=\"bold\" lengthAdjust=\"spacing\" textLength=\"46.1875\" x=\"360\" y=\"138.9951\">Pkg21</text></a></g><!--MD5=[168fadf3d0c3fd93dd5d6da1b1d7ab76]\n",
       "cluster E7--><g id=\"cluster_E7\"><a href=\"psysml:c9292eea-a9ed-4d7d-b554-73a415b23d76\" target=\"_top\" title=\"psysml:c9292eea-a9ed-4d7d-b554-73a415b23d76\" xlink:actuate=\"onRequest\" xlink:href=\"psysml:c9292eea-a9ed-4d7d-b554-73a415b23d76\" xlink:show=\"new\" xlink:title=\"psysml:c9292eea-a9ed-4d7d-b554-73a415b23d76\" xlink:type=\"simple\"><polygon fill=\"none\" points=\"396,183,457.625,183,464.625,205.2969,519,205.2969,519,315,396,315,396,183\" style=\"stroke:#000000;stroke-width:1.5;\"/><line style=\"stroke:#000000;stroke-width:1.5;\" x1=\"396\" x2=\"464.625\" y1=\"205.2969\" y2=\"205.2969\"/><text fill=\"#000000\" font-family=\"sans-serif\" font-size=\"14\" font-weight=\"bold\" lengthAdjust=\"spacing\" textLength=\"55.625\" x=\"400\" y=\"197.9951\">Pkg211</text></a></g><g><a href=\"psysml:c9f16dae-c47d-4af9-8178-9fb29f2ca8fe\" target=\"_top\" title=\"psysml:c9f16dae-c47d-4af9-8178-9fb29f2ca8fe\" xlink:actuate=\"onRequest\" xlink:href=\"psysml:c9f16dae-c47d-4af9-8178-9fb29f2ca8fe\" xlink:show=\"new\" xlink:title=\"psysml:c9f16dae-c47d-4af9-8178-9fb29f2ca8fe\" xlink:type=\"simple\"><rect fill=\"#FFFFFF\" height=\"40\" id=\"E3\" rx=\"10\" ry=\"10\" style=\"stroke:#383838;stroke-width:1.5;\" width=\"83\" x=\"72\" y=\"209\"/><text fill=\"#000000\" font-family=\"sans-serif\" font-size=\"14\" lengthAdjust=\"spacing\" textLength=\"72\" x=\"77.5\" y=\"226.9951\">p11: P211</text></a></g><g><a href=\"psysml:5a85d6e7-c399-4e25-bc8b-7b1310ff596a\" target=\"_top\" title=\"psysml:5a85d6e7-c399-4e25-bc8b-7b1310ff596a\" xlink:actuate=\"onRequest\" xlink:href=\"psysml:5a85d6e7-c399-4e25-bc8b-7b1310ff596a\" xlink:show=\"new\" xlink:title=\"psysml:5a85d6e7-c399-4e25-bc8b-7b1310ff596a\" xlink:type=\"simple\"><rect fill=\"#FFFFFF\" height=\"45.2656\" id=\"E4\" style=\"stroke:#383838;stroke-width:1.5;\" width=\"75\" x=\"76\" y=\"128.5\"/><text fill=\"#000000\" font-family=\"sans-serif\" font-size=\"12\" font-style=\"italic\" lengthAdjust=\"spacing\" textLength=\"68\" x=\"79.5\" y=\"144.6387\">«part  def»</text><text fill=\"#000000\" font-family=\"sans-serif\" font-size=\"14\" lengthAdjust=\"spacing\" textLength=\"27\" x=\"100\" y=\"160.4639\">P12</text></a></g><g><a href=\"psysml:60f2756c-cfe4-4496-b687-ff5dbf9a385d\" target=\"_top\" title=\"psysml:60f2756c-cfe4-4496-b687-ff5dbf9a385d\" xlink:actuate=\"onRequest\" xlink:href=\"psysml:60f2756c-cfe4-4496-b687-ff5dbf9a385d\" xlink:show=\"new\" xlink:title=\"psysml:60f2756c-cfe4-4496-b687-ff5dbf9a385d\" xlink:type=\"simple\"><rect fill=\"#FFFFFF\" height=\"45.2656\" id=\"E8\" style=\"stroke:#383838;stroke-width:1.5;\" width=\"75\" x=\"420\" y=\"226.5\"/><text fill=\"#000000\" font-family=\"sans-serif\" font-size=\"12\" font-style=\"italic\" lengthAdjust=\"spacing\" textLength=\"68\" x=\"423.5\" y=\"242.6387\">«part  def»</text><text fill=\"#000000\" font-family=\"sans-serif\" font-size=\"14\" lengthAdjust=\"spacing\" textLength=\"36\" x=\"439.5\" y=\"258.4639\">P211</text></a></g><!--MD5=[b0060bfdb0500b904584095522b4da3c]\n",
       "link E2 to E8--><g id=\"link_E2_E8\"><a href=\"psysml:7a09cf9a-4d44-4715-925a-a999429b18c6\" target=\"_top\" title=\"psysml:7a09cf9a-4d44-4715-925a-a999429b18c6\" xlink:actuate=\"onRequest\" xlink:href=\"psysml:7a09cf9a-4d44-4715-925a-a999429b18c6\" xlink:show=\"new\" xlink:title=\"psysml:7a09cf9a-4d44-4715-925a-a999429b18c6\" xlink:type=\"simple\"><path d=\"M179.9023,277.3044 C180.7361,277.2191 181.5755,277.1332 182.4201,277.0468 C184.1095,276.8739 185.8203,276.6989 187.5512,276.5218 C201.399,275.1048 216.5397,273.5556 232.3538,271.9375 C295.61,265.465 369.64,257.89 414.79,253.27 \" fill=\"none\" id=\"E2-to-E8\" style=\"stroke:#181818;stroke-width:1.0;stroke-dasharray:7.0,7.0;\"/><polygon fill=\"#181818\" points=\"419.78,252.76,410.4162,249.7073,414.8065,253.2745,411.2394,257.6649,419.78,252.76\" style=\"stroke:#181818;stroke-width:1.0;\"/><text fill=\"#000000\" font-family=\"sans-serif\" font-size=\"13\" lengthAdjust=\"spacing\" textLength=\"58\" x=\"218.5\" y=\"263.0669\">«import»</text></a></g><!--MD5=[e3e28c1befcf002155aa15e1416b4315]\n",
       "link E2 to E6--><g id=\"link_E2_E6\"><a href=\"psysml:4d48d5b8-8a2b-403b-a600-382befb1c751\" target=\"_top\" title=\"psysml:4d48d5b8-8a2b-403b-a600-382befb1c751\" xlink:actuate=\"onRequest\" xlink:href=\"psysml:4d48d5b8-8a2b-403b-a600-382befb1c751\" xlink:show=\"new\" xlink:title=\"psysml:4d48d5b8-8a2b-403b-a600-382befb1c751\" xlink:type=\"simple\"><path d=\"M124.337,292.0496 C124.4194,292.1143 124.5023,292.1793 124.5857,292.2446 C124.9191,292.5057 125.2597,292.7716 125.6074,293.042 C126.3028,293.5827 127.0264,294.1413 127.7771,294.7161 C129.2784,295.8657 130.8878,297.0798 132.595,298.3442 C136.0095,300.873 139.8153,303.6028 143.9312,306.4188 C160.395,317.6825 181.82,330.325 203,337 C229.5125,345.3525 258.3281,350.6844 286.7077,353.9764 C300.8974,355.6224 314.9782,356.7585 328.6075,357.5072 C335.4221,357.8815 342.1239,358.159 348.6701,358.355 C350.3066,358.404 351.9334,358.4479 353.5498,358.487 C354.358,358.5065 355.1637,358.5248 355.9666,358.5419 \" fill=\"none\" id=\"E2-to-E6\" style=\"stroke:#181818;stroke-width:1.0;stroke-dasharray:7.0,7.0;\"/><polygon fill=\"#181818\" points=\"355.9666,358.5419,347.0539,354.3509,350.9677,358.4353,346.8833,362.3491,355.9666,358.5419\" style=\"stroke:#181818;stroke-width:1.0;\"/><text fill=\"#000000\" font-family=\"sans-serif\" font-size=\"13\" lengthAdjust=\"spacing\" textLength=\"65\" x=\"215\" y=\"333.0669\">«import»*</text></a></g><!--MD5=[e3d2a08a9c9236652057e8ed0cbc9b62]\n",
       "link E2 to E7--><g id=\"link_E2_E7\"><a href=\"psysml:435ffdce-fa99-42b8-aa7d-b79facf9bf9f\" target=\"_top\" title=\"psysml:435ffdce-fa99-42b8-aa7d-b79facf9bf9f\" xlink:actuate=\"onRequest\" xlink:href=\"psysml:435ffdce-fa99-42b8-aa7d-b79facf9bf9f\" xlink:show=\"new\" xlink:title=\"psysml:435ffdce-fa99-42b8-aa7d-b79facf9bf9f\" xlink:type=\"simple\"><path d=\"M135.5146,292.0286 C135.7444,292.1105 135.9757,292.1927 136.2083,292.2753 C137.139,292.6055 138.092,292.9407 139.0659,293.28 C141.0137,293.9587 143.045,294.6537 145.1475,295.3575 C161.9675,300.9875 183.345,307.175 203,310 C216.725,311.975 278.35,311.28 337.3988,310.065 C352.1609,309.7613 366.7621,309.425 380.4136,309.0898 C383.8264,309.0061 387.1799,308.9223 390.4618,308.8392 C392.1027,308.7976 393.7257,308.7562 395.3292,308.715 \" fill=\"none\" id=\"E2-to-E7\" style=\"stroke:#181818;stroke-width:1.0;stroke-dasharray:7.0,7.0;\"/><polygon fill=\"#181818\" points=\"395.3292,308.715,386.2294,304.9475,390.3309,308.8435,386.4349,312.9449,395.3292,308.715\" style=\"stroke:#181818;stroke-width:1.0;\"/><text fill=\"#000000\" font-family=\"sans-serif\" font-size=\"13\" lengthAdjust=\"spacing\" textLength=\"87\" x=\"204\" y=\"306.0669\">«import»*::**</text></a></g><!--MD5=[ca5a752d6098d8a44b3f88316e7452d1]\n",
       "link E3 to E8--><g id=\"link_E3_E8\"><a href=\"psysml:c2b3862a-e64c-4984-9133-ea986cde4555\" target=\"_top\" title=\"psysml:c2b3862a-e64c-4984-9133-ea986cde4555\" xlink:actuate=\"onRequest\" xlink:href=\"psysml:c2b3862a-e64c-4984-9133-ea986cde4555\" xlink:show=\"new\" xlink:title=\"psysml:c2b3862a-e64c-4984-9133-ea986cde4555\" xlink:type=\"simple\"><path d=\"M155.07,228.69 C191.08,228.66 245.08,229.18 292,232 C328.03,234.16 368.35,238.3 400.05,241.95 \" fill=\"none\" id=\"E3-to-E8\" style=\"stroke:#181818;stroke-width:1.0;\"/><polygon fill=\"#FFFFFF\" points=\"419.99,244.32,400.2973,249.0315,401.9476,235.1291,419.99,244.32\" style=\"stroke:#181818;stroke-width:1.0;\"/><ellipse cx=\"394.8728\" cy=\"246.3736\" fill=\"#181818\" rx=\"2\" ry=\"2\" style=\"stroke:#181818;stroke-width:1.0;\"/><ellipse cx=\"396.0516\" cy=\"236.4433\" fill=\"#181818\" rx=\"2\" ry=\"2\" style=\"stroke:#181818;stroke-width:1.0;\"/></a></g><!--MD5=[15ebcb19ae302d9b601edb458606d402]\n",
       "link E5 to E2--><g id=\"link_E5_E2\"><a href=\"psysml:2e43f05d-56e8-4995-94de-93836f9907a6\" target=\"_top\" title=\"psysml:2e43f05d-56e8-4995-94de-93836f9907a6\" xlink:actuate=\"onRequest\" xlink:href=\"psysml:2e43f05d-56e8-4995-94de-93836f9907a6\" xlink:show=\"new\" xlink:title=\"psysml:2e43f05d-56e8-4995-94de-93836f9907a6\" xlink:type=\"simple\"><path d=\"M315.0531,149.1373 C314.1875,149.6553 313.3215,150.1762 312.4554,150.7002 C310.7231,151.7481 308.99,152.8082 307.2569,153.8803 C303.7907,156.0246 300.3249,158.2173 296.8669,160.4581 C289.9509,164.9397 283.0662,169.6141 276.2731,174.4802 C249.1006,193.9444 223.3925,216.475 203,242 C196.24,250.46 203.04,257.75 195,265 C191.695,267.9813 188.01,270.5191 184.0855,272.6771 C183.1044,273.2166 182.1083,273.7324 181.0994,274.2255 C180.595,274.472 180.0873,274.7128 179.5768,274.9481 C179.4491,275.0069 179.3213,275.0654 179.1933,275.1235 \" fill=\"none\" id=\"E5-to-E2\" style=\"stroke:#181818;stroke-width:1.0;stroke-dasharray:7.0,7.0;\"/><polygon fill=\"#181818\" points=\"179.1933,275.1235,189.0419,275.0443,183.7459,273.0561,185.734,267.7601,179.1933,275.1235\" style=\"stroke:#181818;stroke-width:1.0;\"/><text fill=\"#000000\" font-family=\"sans-serif\" font-size=\"13\" lengthAdjust=\"spacing\" textLength=\"65\" x=\"215\" y=\"163.0669\">«import»*</text></a></g><!--MD5=[d7bb3fb34add81b710575eb3799fa2ad]\n",
       "link E8 to E4--><g id=\"link_E8_E4\"><a href=\"psysml:6ab4f965-70f0-4435-9c9c-0953ad10c713\" target=\"_top\" title=\"psysml:6ab4f965-70f0-4435-9c9c-0953ad10c713\" xlink:actuate=\"onRequest\" xlink:href=\"psysml:6ab4f965-70f0-4435-9c9c-0953ad10c713\" xlink:show=\"new\" xlink:title=\"psysml:6ab4f965-70f0-4435-9c9c-0953ad10c713\" xlink:type=\"simple\"><path d=\"M419.83,253.92 C383.98,256.48 330.46,253.91 300,222 C280.21,201.26 313.11,177.39 292,158 C260.14,128.73 209.89,129.44 170.98,136.06 \" fill=\"none\" id=\"E8-to-E4\" style=\"stroke:#181818;stroke-width:1.0;\"/><polygon fill=\"none\" points=\"172.26,142.94,151.27,140.06,169.48,129.22,172.26,142.94\" style=\"stroke:#181818;stroke-width:1.0;\"/></a></g><!--MD5=[c02f2099afeab039ccb5dabe02a40e8c]\n",
       "@startuml\r\n",
       "skin sysmlbw\r\n",
       "skinparam monochrome true\r\n",
       "skinparam wrapWidth 300\r\n",
       "hide circle\r\n",
       "left to right direction\r\n",
       "skinparam ranksep 10\r\n",
       "skinparam rectangle {\r\n",
       " backgroundColor<<block>> LightGreen\r\n",
       "}\r\n",
       "\r\n",
       "package \"ImportTest\" as E1  [[psysml:257ae3bb-e982-4f23-93ec-21786cef6fd4 ]]  {\r\n",
       "package \"Pkg1\" as E2  [[psysml:d86f8a04-756e-41fe-890d-bee1afc1808f ]]  {\r\n",
       "rec usage \"p11: P211\" as E3 [[psysml:c9f16dae-c47d-4af9-8178-9fb29f2ca8fe ]] {\r\n",
       "}\r\n",
       "rec def \"P12\" as E4  <<(T,blue) part  def>> [[psysml:5a85d6e7-c399-4e25-bc8b-7b1310ff596a ]] {\r\n",
       "}\r\n",
       "}\r\n",
       "package \"Pkg2\" as E5  [[psysml:87b5aefc-a384-45d2-9563-354f132d05b6 ]]  {\r\n",
       "package \"Pkg21\" as E6  [[psysml:74f758db-603d-4dff-97e1-05ce4d0c3ab8 ]]  {\r\n",
       "package \"Pkg211\" as E7  [[psysml:c9292eea-a9ed-4d7d-b554-73a415b23d76 ]]  {\r\n",
       "rec def \"P211\" as E8  <<(T,blue) part  def>> [[psysml:60f2756c-cfe4-4496-b687-ff5dbf9a385d ]] {\r\n",
       "}\r\n",
       "}\r\n",
       "}\r\n",
       "}\r\n",
       "}\r\n",
       "E2 ..> E8 [[psysml:7a09cf9a-4d44-4715-925a-a999429b18c6 ]] : <<import>>\r\n",
       "E2 ..> E6 [[psysml:4d48d5b8-8a2b-403b-a600-382befb1c751 ]] : <<import>>*\r\n",
       "E2 ..> E7 [[psysml:435ffdce-fa99-42b8-aa7d-b79facf9bf9f ]] : <<import>>*::**\r\n",
       "E3 - -:|> E8 [[psysml:c2b3862a-e64c-4984-9133-ea986cde4555 ]] \r\n",
       "E5 ..> E2 [[psysml:2e43f05d-56e8-4995-94de-93836f9907a6 ]] : <<import>>*\r\n",
       "E8 - -|> E4 [[psysml:6ab4f965-70f0-4435-9c9c-0953ad10c713 ]] \r\n",
       "@enduml\r\n",
       "\n",
       "PlantUML version 1.2022.7(Mon Aug 22 17:01:30 UTC 2022)\n",
       "(EPL source distribution)\n",
       "Java Runtime: OpenJDK Runtime Environment\n",
       "JVM: OpenJDK 64-Bit Server VM\n",
       "Default Encoding: UTF-8\n",
       "Language: en\n",
       "Country: null\n",
       "--></g></svg>"
      ]
     },
     "execution_count": 19,
     "metadata": {},
     "output_type": "execute_result"
    }
   ],
   "source": [
    "%viz --style=\"LR\" --view=\"Interconnection\" \"ImportTest\""
   ]
  },
  {
   "cell_type": "code",
   "execution_count": 20,
   "id": "78bd31ee",
   "metadata": {
    "execution": {
     "iopub.execute_input": "2024-12-16T14:16:20.969298Z",
     "iopub.status.busy": "2024-12-16T14:16:20.969044Z",
     "iopub.status.idle": "2024-12-16T14:16:20.974022Z",
     "shell.execute_reply": "2024-12-16T14:16:20.973747Z"
    }
   },
   "outputs": [
    {
     "data": {
      "image/svg+xml": [
       "<?xml version=\"1.0\" encoding=\"UTF-8\" standalone=\"no\"?><svg xmlns=\"http://www.w3.org/2000/svg\" xmlns:xlink=\"http://www.w3.org/1999/xlink\" contentStyleType=\"text/css\" height=\"10px\" preserveAspectRatio=\"none\" style=\"width:10px;height:10px;background:#FFFFFF;\" version=\"1.1\" viewBox=\"0 0 10 10\" width=\"10px\" zoomAndPan=\"magnify\"><defs/><g><!--MD5=[a45826aa31d3f335355a0e6fe4d8f867]\n",
       "@startuml\r\n",
       "skin sysmlbw\r\n",
       "skinparam monochrome true\r\n",
       "skinparam wrapWidth 300\r\n",
       "hide circle\r\n",
       "left to right direction\r\n",
       "skinparam ranksep 8\r\n",
       "\r\n",
       "@enduml\r\n",
       "\n",
       "PlantUML version 1.2022.7(Mon Aug 22 17:01:30 UTC 2022)\n",
       "(EPL source distribution)\n",
       "Java Runtime: OpenJDK Runtime Environment\n",
       "JVM: OpenJDK 64-Bit Server VM\n",
       "Default Encoding: UTF-8\n",
       "Language: en\n",
       "Country: null\n",
       "--></g></svg>"
      ]
     },
     "execution_count": 20,
     "metadata": {},
     "output_type": "execute_result"
    }
   ],
   "source": [
    "%viz --style=\"LR\" --view=\"Action\" \"ImportTest\""
   ]
  },
  {
   "cell_type": "code",
   "execution_count": 21,
   "id": "26de8625",
   "metadata": {
    "execution": {
     "iopub.execute_input": "2024-12-16T14:16:21.024595Z",
     "iopub.status.busy": "2024-12-16T14:16:21.024366Z",
     "iopub.status.idle": "2024-12-16T14:16:21.029927Z",
     "shell.execute_reply": "2024-12-16T14:16:21.029755Z"
    }
   },
   "outputs": [
    {
     "data": {
      "image/svg+xml": [
       "<?xml version=\"1.0\" encoding=\"UTF-8\" standalone=\"no\"?><svg xmlns=\"http://www.w3.org/2000/svg\" xmlns:xlink=\"http://www.w3.org/1999/xlink\" contentStyleType=\"text/css\" height=\"10px\" preserveAspectRatio=\"none\" style=\"width:10px;height:10px;background:#FFFFFF;\" version=\"1.1\" viewBox=\"0 0 10 10\" width=\"10px\" zoomAndPan=\"magnify\"><defs/><g><!--MD5=[3d7abb46b795db4c9d99c7acf425de78]\n",
       "@startuml\r\n",
       "skin sysmlbw\r\n",
       "skinparam monochrome true\r\n",
       "skinparam wrapWidth 300\r\n",
       "hide circle\r\n",
       "left to right direction\r\n",
       "skinparam roundcorner 20\r\n",
       "skinparam BoxPadding 20\r\n",
       "skinparam SequenceBoxBackgroundColor #white\r\n",
       "skinparam style strictuml\r\n",
       "skinparam maxMessageSize 100\r\n",
       "\r\n",
       "@enduml\r\n",
       "\n",
       "PlantUML version 1.2022.7(Mon Aug 22 17:01:30 UTC 2022)\n",
       "(EPL source distribution)\n",
       "Java Runtime: OpenJDK Runtime Environment\n",
       "JVM: OpenJDK 64-Bit Server VM\n",
       "Default Encoding: UTF-8\n",
       "Language: en\n",
       "Country: null\n",
       "--></g></svg>"
      ]
     },
     "execution_count": 21,
     "metadata": {},
     "output_type": "execute_result"
    }
   ],
   "source": [
    "%viz --style=\"LR\" --view=\"Sequence\" \"ImportTest\""
   ]
  },
  {
   "cell_type": "code",
   "execution_count": 22,
   "id": "657cadbe",
   "metadata": {
    "execution": {
     "iopub.execute_input": "2024-12-16T14:16:21.086343Z",
     "iopub.status.busy": "2024-12-16T14:16:21.086003Z",
     "iopub.status.idle": "2024-12-16T14:16:21.115004Z",
     "shell.execute_reply": "2024-12-16T14:16:21.114816Z"
    }
   },
   "outputs": [
    {
     "data": {
      "image/svg+xml": [
       "<?xml version=\"1.0\" encoding=\"UTF-8\" standalone=\"no\"?><svg xmlns=\"http://www.w3.org/2000/svg\" xmlns:xlink=\"http://www.w3.org/1999/xlink\" contentStyleType=\"text/css\" height=\"444px\" preserveAspectRatio=\"none\" style=\"width:646px;height:444px;background:#FFFFFF;\" version=\"1.1\" viewBox=\"0 0 646 444\" width=\"646px\" zoomAndPan=\"magnify\"><defs/><g><!--MD5=[fbc87193dbaf4d95561dea2c320d4a47]\n",
       "cluster E1--><g id=\"cluster_E1\"><a href=\"psysml:257ae3bb-e982-4f23-93ec-21786cef6fd4\" target=\"_top\" title=\"psysml:257ae3bb-e982-4f23-93ec-21786cef6fd4\" xlink:actuate=\"onRequest\" xlink:href=\"psysml:257ae3bb-e982-4f23-93ec-21786cef6fd4\" xlink:show=\"new\" xlink:title=\"psysml:257ae3bb-e982-4f23-93ec-21786cef6fd4\" xlink:type=\"simple\"><polygon fill=\"none\" points=\"16,6,101.375,6,108.375,28.2969,629,28.2969,629,437,16,437,16,6\" style=\"stroke:#000000;stroke-width:1.5;\"/><line style=\"stroke:#000000;stroke-width:1.5;\" x1=\"16\" x2=\"108.375\" y1=\"28.2969\" y2=\"28.2969\"/><text fill=\"#000000\" font-family=\"sans-serif\" font-size=\"14\" font-weight=\"bold\" lengthAdjust=\"spacing\" textLength=\"79.375\" x=\"20\" y=\"20.9951\">ImportTest</text></a></g><!--MD5=[e4f7fae6ed58524ba242bb0b0d3be6b7]\n",
       "cluster E2--><g id=\"cluster_E2\"><a href=\"psysml:d86f8a04-756e-41fe-890d-bee1afc1808f\" target=\"_top\" title=\"psysml:d86f8a04-756e-41fe-890d-bee1afc1808f\" xlink:actuate=\"onRequest\" xlink:href=\"psysml:d86f8a04-756e-41fe-890d-bee1afc1808f\" xlink:show=\"new\" xlink:title=\"psysml:d86f8a04-756e-41fe-890d-bee1afc1808f\" xlink:type=\"simple\"><polygon fill=\"none\" points=\"48,81,90.75,81,97.75,103.2969,182,103.2969,182,298,48,298,48,81\" style=\"stroke:#000000;stroke-width:1.5;\"/><line style=\"stroke:#000000;stroke-width:1.5;\" x1=\"48\" x2=\"97.75\" y1=\"103.2969\" y2=\"103.2969\"/><text fill=\"#000000\" font-family=\"sans-serif\" font-size=\"14\" font-weight=\"bold\" lengthAdjust=\"spacing\" textLength=\"36.75\" x=\"52\" y=\"95.9951\">Pkg1</text></a></g><!--MD5=[de5ec2e2e8f62f467e546659f5068c88]\n",
       "cluster E5--><g id=\"cluster_E5\"><a href=\"psysml:87b5aefc-a384-45d2-9563-354f132d05b6\" target=\"_top\" title=\"psysml:87b5aefc-a384-45d2-9563-354f132d05b6\" xlink:actuate=\"onRequest\" xlink:href=\"psysml:87b5aefc-a384-45d2-9563-354f132d05b6\" xlink:show=\"new\" xlink:title=\"psysml:87b5aefc-a384-45d2-9563-354f132d05b6\" xlink:type=\"simple\"><polygon fill=\"none\" points=\"319,57,361.75,57,368.75,79.2969,597,79.2969,597,405,319,405,319,57\" style=\"stroke:#000000;stroke-width:1.5;\"/><line style=\"stroke:#000000;stroke-width:1.5;\" x1=\"319\" x2=\"368.75\" y1=\"79.2969\" y2=\"79.2969\"/><text fill=\"#000000\" font-family=\"sans-serif\" font-size=\"14\" font-weight=\"bold\" lengthAdjust=\"spacing\" textLength=\"36.75\" x=\"323\" y=\"71.9951\">Pkg2</text></a></g><!--MD5=[14e3b0961a2654348d326746436168a1]\n",
       "cluster E6--><g id=\"cluster_E6\"><a href=\"psysml:74f758db-603d-4dff-97e1-05ce4d0c3ab8\" target=\"_top\" title=\"psysml:74f758db-603d-4dff-97e1-05ce4d0c3ab8\" xlink:actuate=\"onRequest\" xlink:href=\"psysml:74f758db-603d-4dff-97e1-05ce4d0c3ab8\" xlink:show=\"new\" xlink:title=\"psysml:74f758db-603d-4dff-97e1-05ce4d0c3ab8\" xlink:type=\"simple\"><polygon fill=\"none\" points=\"359,124,411.1875,124,418.1875,146.2969,557,146.2969,557,365,359,365,359,124\" style=\"stroke:#000000;stroke-width:1.5;\"/><line style=\"stroke:#000000;stroke-width:1.5;\" x1=\"359\" x2=\"418.1875\" y1=\"146.2969\" y2=\"146.2969\"/><text fill=\"#000000\" font-family=\"sans-serif\" font-size=\"14\" font-weight=\"bold\" lengthAdjust=\"spacing\" textLength=\"46.1875\" x=\"363\" y=\"138.9951\">Pkg21</text></a></g><!--MD5=[168fadf3d0c3fd93dd5d6da1b1d7ab76]\n",
       "cluster E7--><g id=\"cluster_E7\"><a href=\"psysml:c9292eea-a9ed-4d7d-b554-73a415b23d76\" target=\"_top\" title=\"psysml:c9292eea-a9ed-4d7d-b554-73a415b23d76\" xlink:actuate=\"onRequest\" xlink:href=\"psysml:c9292eea-a9ed-4d7d-b554-73a415b23d76\" xlink:show=\"new\" xlink:title=\"psysml:c9292eea-a9ed-4d7d-b554-73a415b23d76\" xlink:type=\"simple\"><polygon fill=\"none\" points=\"399,183,460.625,183,467.625,205.2969,517,205.2969,517,317,399,317,399,183\" style=\"stroke:#000000;stroke-width:1.5;\"/><line style=\"stroke:#000000;stroke-width:1.5;\" x1=\"399\" x2=\"467.625\" y1=\"205.2969\" y2=\"205.2969\"/><text fill=\"#000000\" font-family=\"sans-serif\" font-size=\"14\" font-weight=\"bold\" lengthAdjust=\"spacing\" textLength=\"55.625\" x=\"403\" y=\"197.9951\">Pkg211</text></a></g><!--MD5=[09b614a08d8cba4a07c9adeb5e0fee81]\n",
       "class E3--><a href=\"psysml:c9f16dae-c47d-4af9-8178-9fb29f2ca8fe\" target=\"_top\" title=\"psysml:c9f16dae-c47d-4af9-8178-9fb29f2ca8fe\" xlink:actuate=\"onRequest\" xlink:href=\"psysml:c9f16dae-c47d-4af9-8178-9fb29f2ca8fe\" xlink:show=\"new\" xlink:title=\"psysml:c9f16dae-c47d-4af9-8178-9fb29f2ca8fe\" xlink:type=\"simple\"><g id=\"elem_E3\"><rect fill=\"#FFFFFF\" height=\"48.2656\" id=\"E3\" rx=\"10\" ry=\"10\" style=\"stroke:#181818;stroke-width:0.5;\" width=\"86\" x=\"72\" y=\"207\"/><text fill=\"#000000\" font-family=\"sans-serif\" font-size=\"12\" font-style=\"italic\" lengthAdjust=\"spacing\" textLength=\"40\" x=\"95\" y=\"223.1387\">«part»</text><text fill=\"#000000\" font-family=\"sans-serif\" font-size=\"14\" lengthAdjust=\"spacing\" textLength=\"72\" x=\"75\" y=\"238.9639\">p11: P211</text><line style=\"stroke:#181818;stroke-width:0.5;\" x1=\"73\" x2=\"157\" y1=\"247.2656\" y2=\"247.2656\"/></g></a><!--MD5=[ebbe1d658d1005bcc118a6aa81145e00]\n",
       "class E4--><a href=\"psysml:5a85d6e7-c399-4e25-bc8b-7b1310ff596a\" target=\"_top\" title=\"psysml:5a85d6e7-c399-4e25-bc8b-7b1310ff596a\" xlink:actuate=\"onRequest\" xlink:href=\"psysml:5a85d6e7-c399-4e25-bc8b-7b1310ff596a\" xlink:show=\"new\" xlink:title=\"psysml:5a85d6e7-c399-4e25-bc8b-7b1310ff596a\" xlink:type=\"simple\"><g id=\"elem_E4\"><rect fill=\"#FFFFFF\" height=\"48.2656\" id=\"E4\" style=\"stroke:#181818;stroke-width:0.5;\" width=\"70\" x=\"80\" y=\"124\"/><text fill=\"#000000\" font-family=\"sans-serif\" font-size=\"12\" font-style=\"italic\" lengthAdjust=\"spacing\" textLength=\"68\" x=\"81\" y=\"140.1387\">«part  def»</text><text fill=\"#000000\" font-family=\"sans-serif\" font-size=\"14\" lengthAdjust=\"spacing\" textLength=\"27\" x=\"101.5\" y=\"155.9639\">P12</text><line style=\"stroke:#181818;stroke-width:0.5;\" x1=\"81\" x2=\"149\" y1=\"164.2656\" y2=\"164.2656\"/></g></a><!--MD5=[b9389687b975829384b498ac4b7476b2]\n",
       "class E8--><a href=\"psysml:60f2756c-cfe4-4496-b687-ff5dbf9a385d\" target=\"_top\" title=\"psysml:60f2756c-cfe4-4496-b687-ff5dbf9a385d\" xlink:actuate=\"onRequest\" xlink:href=\"psysml:60f2756c-cfe4-4496-b687-ff5dbf9a385d\" xlink:show=\"new\" xlink:title=\"psysml:60f2756c-cfe4-4496-b687-ff5dbf9a385d\" xlink:type=\"simple\"><g id=\"elem_E8\"><rect fill=\"#FFFFFF\" height=\"48.2656\" id=\"E8\" style=\"stroke:#181818;stroke-width:0.5;\" width=\"70\" x=\"423\" y=\"226\"/><text fill=\"#000000\" font-family=\"sans-serif\" font-size=\"12\" font-style=\"italic\" lengthAdjust=\"spacing\" textLength=\"68\" x=\"424\" y=\"242.1387\">«part  def»</text><text fill=\"#000000\" font-family=\"sans-serif\" font-size=\"14\" lengthAdjust=\"spacing\" textLength=\"36\" x=\"440\" y=\"257.9639\">P211</text><line style=\"stroke:#181818;stroke-width:0.5;\" x1=\"424\" x2=\"492\" y1=\"266.2656\" y2=\"266.2656\"/></g></a><!--MD5=[b0060bfdb0500b904584095522b4da3c]\n",
       "link E2 to E8--><g id=\"link_E2_E8\"><a href=\"psysml:7a09cf9a-4d44-4715-925a-a999429b18c6\" target=\"_top\" title=\"psysml:7a09cf9a-4d44-4715-925a-a999429b18c6\" xlink:actuate=\"onRequest\" xlink:href=\"psysml:7a09cf9a-4d44-4715-925a-a999429b18c6\" xlink:show=\"new\" xlink:title=\"psysml:7a09cf9a-4d44-4715-925a-a999429b18c6\" xlink:type=\"simple\"><path d=\"M182.204,282.2334 C183.0471,282.1345 183.8958,282.0349 184.7498,281.9347 C186.4578,281.7344 188.1873,281.5315 189.937,281.3263 C203.9348,279.6843 219.2281,277.8903 235.1825,276.0188 C299,268.5325 373.395,259.805 417.77,254.6 \" fill=\"none\" id=\"E2-to-E8\" style=\"stroke:#181818;stroke-width:1.0;stroke-dasharray:7.0,7.0;\"/><polygon fill=\"#181818\" points=\"422.92,254,413.5138,251.0805,417.9543,254.585,414.4498,259.0256,422.92,254\" style=\"stroke:#181818;stroke-width:1.0;\"/><text fill=\"#000000\" font-family=\"sans-serif\" font-size=\"13\" lengthAdjust=\"spacing\" textLength=\"58\" x=\"221.5\" y=\"266.0669\">«import»</text></a></g><!--MD5=[e3e28c1befcf002155aa15e1416b4315]\n",
       "link E2 to E6--><g id=\"link_E2_E6\"><a href=\"psysml:4d48d5b8-8a2b-403b-a600-382befb1c751\" target=\"_top\" title=\"psysml:4d48d5b8-8a2b-403b-a600-382befb1c751\" xlink:actuate=\"onRequest\" xlink:href=\"psysml:4d48d5b8-8a2b-403b-a600-382befb1c751\" xlink:show=\"new\" xlink:title=\"psysml:4d48d5b8-8a2b-403b-a600-382befb1c751\" xlink:type=\"simple\"><path d=\"M127.4726,298.1572 C128.1892,298.6452 128.9347,299.1495 129.7076,299.6684 C131.2534,300.7062 132.9091,301.8024 134.6637,302.9443 C138.1728,305.2281 142.0775,307.6944 146.29,310.24 C163.14,320.4225 184.915,331.875 206,338 C232.4375,345.6825 261.0638,350.7344 289.2005,353.9852 C303.2688,355.6105 317.2148,356.7857 330.7036,357.6142 C337.448,358.0285 344.0781,358.3561 350.5521,358.61 C352.1706,358.6735 353.7793,358.7324 355.3777,358.7869 C356.1768,358.8141 356.9734,358.8402 357.7672,358.8653 C358.1642,358.8778 358.5604,358.8901 358.956,358.9021 \" fill=\"none\" id=\"E2-to-E6\" style=\"stroke:#181818;stroke-width:1.0;stroke-dasharray:7.0,7.0;\"/><polygon fill=\"#181818\" points=\"358.956,358.9021,350.0814,354.6311,353.9583,358.7505,349.8389,362.6274,358.956,358.9021\" style=\"stroke:#181818;stroke-width:1.0;\"/><text fill=\"#000000\" font-family=\"sans-serif\" font-size=\"13\" lengthAdjust=\"spacing\" textLength=\"65\" x=\"218\" y=\"334.0669\">«import»*</text></a></g><!--MD5=[e3d2a08a9c9236652057e8ed0cbc9b62]\n",
       "link E2 to E7--><g id=\"link_E2_E7\"><a href=\"psysml:435ffdce-fa99-42b8-aa7d-b79facf9bf9f\" target=\"_top\" title=\"psysml:435ffdce-fa99-42b8-aa7d-b79facf9bf9f\" xlink:actuate=\"onRequest\" xlink:href=\"psysml:435ffdce-fa99-42b8-aa7d-b79facf9bf9f\" xlink:show=\"new\" xlink:title=\"psysml:435ffdce-fa99-42b8-aa7d-b79facf9bf9f\" xlink:type=\"simple\"><path d=\"M143.0271,298.018 C143.1546,298.0527 143.2825,298.0875 143.4106,298.1224 C143.6669,298.192 143.9244,298.2619 144.1832,298.3319 C145.2182,298.6119 146.2727,298.8945 147.345,299.1788 C164.5025,303.7275 186.235,308.725 206,311 C219.635,312.57 280.6525,312.11 339.1075,311.2375 C353.7213,311.0194 368.1748,310.7755 381.6879,310.5311 C385.0662,310.47 388.3856,310.4088 391.6341,310.348 C393.2584,310.3177 394.8649,310.2874 396.4521,310.2572 C397.2457,310.2421 398.0345,310.2271 398.8183,310.2121 \" fill=\"none\" id=\"E2-to-E7\" style=\"stroke:#181818;stroke-width:1.0;stroke-dasharray:7.0,7.0;\"/><polygon fill=\"#181818\" points=\"398.8183,310.2121,389.7434,306.385,393.8193,310.3078,389.8965,314.3836,398.8183,310.2121\" style=\"stroke:#181818;stroke-width:1.0;\"/><text fill=\"#000000\" font-family=\"sans-serif\" font-size=\"13\" lengthAdjust=\"spacing\" textLength=\"87\" x=\"207\" y=\"307.0669\">«import»*::**</text></a></g><!--MD5=[ca5a752d6098d8a44b3f88316e7452d1]\n",
       "link E3 to E8--><g id=\"link_E3_E8\"><a href=\"psysml:c2b3862a-e64c-4984-9133-ea986cde4555\" target=\"_top\" title=\"psysml:c2b3862a-e64c-4984-9133-ea986cde4555\" xlink:actuate=\"onRequest\" xlink:href=\"psysml:c2b3862a-e64c-4984-9133-ea986cde4555\" xlink:show=\"new\" xlink:title=\"psysml:c2b3862a-e64c-4984-9133-ea986cde4555\" xlink:type=\"simple\"><path d=\"M158.35,230.36 C194.65,230.08 248.31,230.3 295,233 C331.01,235.09 371.36,239.31 402.78,243.03 \" fill=\"none\" id=\"E3-to-E8\" style=\"stroke:#181818;stroke-width:1.0;\"/><polygon fill=\"#FFFFFF\" points=\"422.94,245.49,403.2307,250.1317,404.9303,236.2352,422.94,245.49\" style=\"stroke:#181818;stroke-width:1.0;\"/><ellipse cx=\"397.8157\" cy=\"247.4545\" fill=\"#181818\" rx=\"2\" ry=\"2\" style=\"stroke:#181818;stroke-width:1.0;\"/><ellipse cx=\"399.0297\" cy=\"237.5285\" fill=\"#181818\" rx=\"2\" ry=\"2\" style=\"stroke:#181818;stroke-width:1.0;\"/></a></g><!--MD5=[15ebcb19ae302d9b601edb458606d402]\n",
       "link E5 to E2--><g id=\"link_E5_E2\"><a href=\"psysml:2e43f05d-56e8-4995-94de-93836f9907a6\" target=\"_top\" title=\"psysml:2e43f05d-56e8-4995-94de-93836f9907a6\" xlink:actuate=\"onRequest\" xlink:href=\"psysml:2e43f05d-56e8-4995-94de-93836f9907a6\" xlink:show=\"new\" xlink:title=\"psysml:2e43f05d-56e8-4995-94de-93836f9907a6\" xlink:type=\"simple\"><path d=\"M318.6818,148.8629 C304.9655,157.2094 291.1608,166.3443 277.7547,176.2577 C250.9425,196.0844 225.725,219.025 206,245 C198.69,254.63 206.85,262.76 198,271 C194.685,274.0875 190.9705,276.7058 187.0018,278.9232 C186.0096,279.4776 185.0015,280.0069 183.9799,280.5122 C183.469,280.7649 182.9548,281.0115 182.4374,281.2523 C182.3081,281.3125 182.1786,281.3724 182.0488,281.4319 \" fill=\"none\" id=\"E5-to-E2\" style=\"stroke:#181818;stroke-width:1.0;stroke-dasharray:7.0,7.0;\"/><polygon fill=\"#181818\" points=\"182.0488,281.4319,191.897,281.3174,186.594,279.3482,188.5632,274.0452,182.0488,281.4319\" style=\"stroke:#181818;stroke-width:1.0;\"/><text fill=\"#000000\" font-family=\"sans-serif\" font-size=\"13\" lengthAdjust=\"spacing\" textLength=\"65\" x=\"218\" y=\"165.0669\">«import»*</text></a></g><!--MD5=[d7bb3fb34add81b710575eb3799fa2ad]\n",
       "link E8 to E4--><g id=\"link_E8_E4\"><a href=\"psysml:6ab4f965-70f0-4435-9c9c-0953ad10c713\" target=\"_top\" title=\"psysml:6ab4f965-70f0-4435-9c9c-0953ad10c713\" xlink:actuate=\"onRequest\" xlink:href=\"psysml:6ab4f965-70f0-4435-9c9c-0953ad10c713\" xlink:show=\"new\" xlink:title=\"psysml:6ab4f965-70f0-4435-9c9c-0953ad10c713\" xlink:type=\"simple\"><path d=\"M422.81,254.37 C387.49,256.79 333.35,254.26 303,222 C282.45,200.16 317.03,175.34 295,155 C262.09,124.62 209.57,126.2 169.9,133.4 \" fill=\"none\" id=\"E8-to-E4\" style=\"stroke:#181818;stroke-width:1.0;\"/><polygon fill=\"none\" points=\"171.25,140.27,150.23,137.61,168.33,126.58,171.25,140.27\" style=\"stroke:#181818;stroke-width:1.0;\"/></a></g><!--MD5=[d6a1e8909c7cd9eb4b38e1e16afe8663]\n",
       "@startuml\r\n",
       "skin sysmlbw\r\n",
       "skinparam monochrome true\r\n",
       "skinparam wrapWidth 300\r\n",
       "hide circle\r\n",
       "left to right direction\r\n",
       "\r\n",
       "package \"ImportTest\" as E1  [[psysml:257ae3bb-e982-4f23-93ec-21786cef6fd4 ]]  {\r\n",
       "package \"Pkg1\" as E2  [[psysml:d86f8a04-756e-41fe-890d-bee1afc1808f ]]  {\r\n",
       "comp usage \"p11: P211  \" as E3  <<(T,blue) part>> [[psysml:c9f16dae-c47d-4af9-8178-9fb29f2ca8fe ]] {\r\n",
       "}\r\n",
       "comp def \"P12\" as E4  <<(T,blue) part  def>> [[psysml:5a85d6e7-c399-4e25-bc8b-7b1310ff596a ]] {\r\n",
       "}\r\n",
       "}\r\n",
       "package \"Pkg2\" as E5  [[psysml:87b5aefc-a384-45d2-9563-354f132d05b6 ]]  {\r\n",
       "package \"Pkg21\" as E6  [[psysml:74f758db-603d-4dff-97e1-05ce4d0c3ab8 ]]  {\r\n",
       "package \"Pkg211\" as E7  [[psysml:c9292eea-a9ed-4d7d-b554-73a415b23d76 ]]  {\r\n",
       "comp def \"P211\" as E8  <<(T,blue) part  def>> [[psysml:60f2756c-cfe4-4496-b687-ff5dbf9a385d ]] {\r\n",
       "}\r\n",
       "}\r\n",
       "}\r\n",
       "}\r\n",
       "}\r\n",
       "E2 ..> E8 [[psysml:7a09cf9a-4d44-4715-925a-a999429b18c6 ]] : <<import>>\r\n",
       "E2 ..> E6 [[psysml:4d48d5b8-8a2b-403b-a600-382befb1c751 ]] : <<import>>*\r\n",
       "E2 ..> E7 [[psysml:435ffdce-fa99-42b8-aa7d-b79facf9bf9f ]] : <<import>>*::**\r\n",
       "E3 - -:|> E8 [[psysml:c2b3862a-e64c-4984-9133-ea986cde4555 ]] \r\n",
       "E5 ..> E2 [[psysml:2e43f05d-56e8-4995-94de-93836f9907a6 ]] : <<import>>*\r\n",
       "E8 - -|> E4 [[psysml:6ab4f965-70f0-4435-9c9c-0953ad10c713 ]] \r\n",
       "@enduml\r\n",
       "\n",
       "PlantUML version 1.2022.7(Mon Aug 22 17:01:30 UTC 2022)\n",
       "(EPL source distribution)\n",
       "Java Runtime: OpenJDK Runtime Environment\n",
       "JVM: OpenJDK 64-Bit Server VM\n",
       "Default Encoding: UTF-8\n",
       "Language: en\n",
       "Country: null\n",
       "--></g></svg>"
      ]
     },
     "execution_count": 22,
     "metadata": {},
     "output_type": "execute_result"
    }
   ],
   "source": [
    "%viz --style=\"LR\" --view=\"MIXED\" \"ImportTest\""
   ]
  },
  {
   "cell_type": "code",
   "execution_count": 23,
   "id": "ac9d554a",
   "metadata": {
    "execution": {
     "iopub.execute_input": "2024-12-16T14:16:21.170843Z",
     "iopub.status.busy": "2024-12-16T14:16:21.170482Z",
     "iopub.status.idle": "2024-12-16T14:16:21.195742Z",
     "shell.execute_reply": "2024-12-16T14:16:21.194878Z"
    }
   },
   "outputs": [
    {
     "data": {
      "image/svg+xml": [
       "<?xml version=\"1.0\" encoding=\"UTF-8\" standalone=\"no\"?><svg xmlns=\"http://www.w3.org/2000/svg\" xmlns:xlink=\"http://www.w3.org/1999/xlink\" contentStyleType=\"text/css\" height=\"589px\" preserveAspectRatio=\"none\" style=\"width:517px;height:589px;background:#FFFFFF;\" version=\"1.1\" viewBox=\"0 0 517 589\" width=\"517px\" zoomAndPan=\"magnify\"><defs><filter height=\"300%\" id=\"fcux6foq505in\" width=\"300%\" x=\"-1\" y=\"-1\"><feGaussianBlur result=\"blurOut\" stdDeviation=\"2.0\"/><feColorMatrix in=\"blurOut\" result=\"blurOut2\" type=\"matrix\" values=\"0 0 0 0 0 0 0 0 0 0 0 0 0 0 0 0 0 0 .4 0\"/><feOffset dx=\"4.0\" dy=\"4.0\" in=\"blurOut2\" result=\"blurOut3\"/><feBlend in=\"SourceGraphic\" in2=\"blurOut3\" mode=\"normal\"/></filter></defs><g><!--MD5=[fbc87193dbaf4d95561dea2c320d4a47]\n",
       "cluster E1--><g id=\"cluster_E1\"><a href=\"psysml:257ae3bb-e982-4f23-93ec-21786cef6fd4\" target=\"_top\" title=\"psysml:257ae3bb-e982-4f23-93ec-21786cef6fd4\" xlink:actuate=\"onRequest\" xlink:href=\"psysml:257ae3bb-e982-4f23-93ec-21786cef6fd4\" xlink:show=\"new\" xlink:title=\"psysml:257ae3bb-e982-4f23-93ec-21786cef6fd4\" xlink:type=\"simple\"><polygon fill=\"none\" filter=\"url(#fcux6foq505in)\" points=\"16,6,101.375,6,108.375,28.2969,500,28.2969,500,582,16,582,16,6\" style=\"stroke:#000000;stroke-width:1.5;\"/><line style=\"stroke:#000000;stroke-width:1.5;\" x1=\"16\" x2=\"108.375\" y1=\"28.2969\" y2=\"28.2969\"/><text fill=\"#000000\" font-family=\"sans-serif\" font-size=\"14\" font-weight=\"bold\" lengthAdjust=\"spacing\" textLength=\"79.375\" x=\"20\" y=\"20.9951\">ImportTest</text></a></g><!--MD5=[e4f7fae6ed58524ba242bb0b0d3be6b7]\n",
       "cluster E2--><g id=\"cluster_E2\"><a href=\"psysml:d86f8a04-756e-41fe-890d-bee1afc1808f\" target=\"_top\" title=\"psysml:d86f8a04-756e-41fe-890d-bee1afc1808f\" xlink:actuate=\"onRequest\" xlink:href=\"psysml:d86f8a04-756e-41fe-890d-bee1afc1808f\" xlink:show=\"new\" xlink:title=\"psysml:d86f8a04-756e-41fe-890d-bee1afc1808f\" xlink:type=\"simple\"><polygon fill=\"none\" filter=\"url(#fcux6foq505in)\" points=\"210,57,252.75,57,259.75,79.2969,468,79.2969,468,172,210,172,210,57\" style=\"stroke:#000000;stroke-width:1.5;\"/><line style=\"stroke:#000000;stroke-width:1.5;\" x1=\"210\" x2=\"259.75\" y1=\"79.2969\" y2=\"79.2969\"/><text fill=\"#000000\" font-family=\"sans-serif\" font-size=\"14\" font-weight=\"bold\" lengthAdjust=\"spacing\" textLength=\"36.75\" x=\"214\" y=\"71.9951\">Pkg1</text></a></g><!--MD5=[de5ec2e2e8f62f467e546659f5068c88]\n",
       "cluster E5--><g id=\"cluster_E5\"><a href=\"psysml:87b5aefc-a384-45d2-9563-354f132d05b6\" target=\"_top\" title=\"psysml:87b5aefc-a384-45d2-9563-354f132d05b6\" xlink:actuate=\"onRequest\" xlink:href=\"psysml:87b5aefc-a384-45d2-9563-354f132d05b6\" xlink:show=\"new\" xlink:title=\"psysml:87b5aefc-a384-45d2-9563-354f132d05b6\" xlink:type=\"simple\"><polygon fill=\"none\" filter=\"url(#fcux6foq505in)\" points=\"121,237,163.75,237,170.75,259.2969,434,259.2969,434,550,121,550,121,237\" style=\"stroke:#000000;stroke-width:1.5;\"/><line style=\"stroke:#000000;stroke-width:1.5;\" x1=\"121\" x2=\"170.75\" y1=\"259.2969\" y2=\"259.2969\"/><text fill=\"#000000\" font-family=\"sans-serif\" font-size=\"14\" font-weight=\"bold\" lengthAdjust=\"spacing\" textLength=\"36.75\" x=\"125\" y=\"251.9951\">Pkg2</text></a></g><!--MD5=[14e3b0961a2654348d326746436168a1]\n",
       "cluster E6--><g id=\"cluster_E6\"><a href=\"psysml:74f758db-603d-4dff-97e1-05ce4d0c3ab8\" target=\"_top\" title=\"psysml:74f758db-603d-4dff-97e1-05ce4d0c3ab8\" xlink:actuate=\"onRequest\" xlink:href=\"psysml:74f758db-603d-4dff-97e1-05ce4d0c3ab8\" xlink:show=\"new\" xlink:title=\"psysml:74f758db-603d-4dff-97e1-05ce4d0c3ab8\" xlink:type=\"simple\"><polygon fill=\"none\" filter=\"url(#fcux6foq505in)\" points=\"161,296,213.1875,296,220.1875,318.2969,386,318.2969,386,510,161,510,161,296\" style=\"stroke:#000000;stroke-width:1.5;\"/><line style=\"stroke:#000000;stroke-width:1.5;\" x1=\"161\" x2=\"220.1875\" y1=\"318.2969\" y2=\"318.2969\"/><text fill=\"#000000\" font-family=\"sans-serif\" font-size=\"14\" font-weight=\"bold\" lengthAdjust=\"spacing\" textLength=\"46.1875\" x=\"165\" y=\"310.9951\">Pkg21</text></a></g><!--MD5=[168fadf3d0c3fd93dd5d6da1b1d7ab76]\n",
       "cluster E7--><g id=\"cluster_E7\"><a href=\"psysml:c9292eea-a9ed-4d7d-b554-73a415b23d76\" target=\"_top\" title=\"psysml:c9292eea-a9ed-4d7d-b554-73a415b23d76\" xlink:actuate=\"onRequest\" xlink:href=\"psysml:c9292eea-a9ed-4d7d-b554-73a415b23d76\" xlink:show=\"new\" xlink:title=\"psysml:c9292eea-a9ed-4d7d-b554-73a415b23d76\" xlink:type=\"simple\"><polygon fill=\"none\" filter=\"url(#fcux6foq505in)\" points=\"209,355,270.625,355,277.625,377.2969,346,377.2969,346,470,209,470,209,355\" style=\"stroke:#000000;stroke-width:1.5;\"/><line style=\"stroke:#000000;stroke-width:1.5;\" x1=\"209\" x2=\"277.625\" y1=\"377.2969\" y2=\"377.2969\"/><text fill=\"#000000\" font-family=\"sans-serif\" font-size=\"14\" font-weight=\"bold\" lengthAdjust=\"spacing\" textLength=\"55.625\" x=\"213\" y=\"369.9951\">Pkg211</text></a></g><!--MD5=[09b614a08d8cba4a07c9adeb5e0fee81]\n",
       "class E3--><a href=\"psysml:c9f16dae-c47d-4af9-8178-9fb29f2ca8fe\" target=\"_top\" title=\"psysml:c9f16dae-c47d-4af9-8178-9fb29f2ca8fe\" xlink:actuate=\"onRequest\" xlink:href=\"psysml:c9f16dae-c47d-4af9-8178-9fb29f2ca8fe\" xlink:show=\"new\" xlink:title=\"psysml:c9f16dae-c47d-4af9-8178-9fb29f2ca8fe\" xlink:type=\"simple\"><g id=\"elem_E3\"><rect fill=\"#FFFACD\" filter=\"url(#fcux6foq505in)\" height=\"48.2656\" id=\"E3\" rx=\"10\" ry=\"10\" style=\"stroke:#181818;stroke-width:0.5;\" width=\"86\" x=\"253\" y=\"100\"/><text fill=\"#000000\" font-family=\"sans-serif\" font-size=\"12\" font-style=\"italic\" lengthAdjust=\"spacing\" textLength=\"40\" x=\"276\" y=\"116.1387\">«part»</text><text fill=\"#000000\" font-family=\"sans-serif\" font-size=\"14\" lengthAdjust=\"spacing\" textLength=\"72\" x=\"256\" y=\"131.9639\">p11: P211</text><line style=\"stroke:#181818;stroke-width:0.5;\" x1=\"254\" x2=\"338\" y1=\"140.2656\" y2=\"140.2656\"/></g></a><!--MD5=[ebbe1d658d1005bcc118a6aa81145e00]\n",
       "class E4--><a href=\"psysml:5a85d6e7-c399-4e25-bc8b-7b1310ff596a\" target=\"_top\" title=\"psysml:5a85d6e7-c399-4e25-bc8b-7b1310ff596a\" xlink:actuate=\"onRequest\" xlink:href=\"psysml:5a85d6e7-c399-4e25-bc8b-7b1310ff596a\" xlink:show=\"new\" xlink:title=\"psysml:5a85d6e7-c399-4e25-bc8b-7b1310ff596a\" xlink:type=\"simple\"><g id=\"elem_E4\"><rect fill=\"#FFFACD\" filter=\"url(#fcux6foq505in)\" height=\"48.2656\" id=\"E4\" style=\"stroke:#181818;stroke-width:0.5;\" width=\"70\" x=\"374\" y=\"100\"/><text fill=\"#000000\" font-family=\"sans-serif\" font-size=\"12\" font-style=\"italic\" lengthAdjust=\"spacing\" textLength=\"68\" x=\"375\" y=\"116.1387\">«part  def»</text><text fill=\"#000000\" font-family=\"sans-serif\" font-size=\"14\" lengthAdjust=\"spacing\" textLength=\"27\" x=\"395.5\" y=\"131.9639\">P12</text><line style=\"stroke:#181818;stroke-width:0.5;\" x1=\"375\" x2=\"443\" y1=\"140.2656\" y2=\"140.2656\"/></g></a><!--MD5=[b9389687b975829384b498ac4b7476b2]\n",
       "class E8--><a href=\"psysml:60f2756c-cfe4-4496-b687-ff5dbf9a385d\" target=\"_top\" title=\"psysml:60f2756c-cfe4-4496-b687-ff5dbf9a385d\" xlink:actuate=\"onRequest\" xlink:href=\"psysml:60f2756c-cfe4-4496-b687-ff5dbf9a385d\" xlink:show=\"new\" xlink:title=\"psysml:60f2756c-cfe4-4496-b687-ff5dbf9a385d\" xlink:type=\"simple\"><g id=\"elem_E8\"><rect fill=\"#FFFACD\" filter=\"url(#fcux6foq505in)\" height=\"48.2656\" id=\"E8\" style=\"stroke:#181818;stroke-width:0.5;\" width=\"70\" x=\"252\" y=\"398\"/><text fill=\"#000000\" font-family=\"sans-serif\" font-size=\"12\" font-style=\"italic\" lengthAdjust=\"spacing\" textLength=\"68\" x=\"253\" y=\"414.1387\">«part  def»</text><text fill=\"#000000\" font-family=\"sans-serif\" font-size=\"14\" lengthAdjust=\"spacing\" textLength=\"36\" x=\"269\" y=\"429.9639\">P211</text><line style=\"stroke:#181818;stroke-width:0.5;\" x1=\"253\" x2=\"321\" y1=\"438.2656\" y2=\"438.2656\"/></g></a><!--MD5=[b0060bfdb0500b904584095522b4da3c]\n",
       "link E2 to E8--><g id=\"link_E2_E8\"><a href=\"psysml:7a09cf9a-4d44-4715-925a-a999429b18c6\" target=\"_top\" title=\"psysml:7a09cf9a-4d44-4715-925a-a999429b18c6\" xlink:actuate=\"onRequest\" xlink:href=\"psysml:7a09cf9a-4d44-4715-925a-a999429b18c6\" xlink:show=\"new\" xlink:title=\"psysml:7a09cf9a-4d44-4715-925a-a999429b18c6\" xlink:type=\"simple\"><path d=\"M226.4784,172.2619 C226.5244,172.3641 226.5707,172.4663 226.6172,172.5683 C226.9895,173.3846 227.3777,174.1934 227.7824,174.9929 C228.5919,176.5919 229.4675,178.1539 230.4147,179.6646 C232.3092,182.6861 234.49,185.5025 237,188 C245.87,196.83 256.01,186.37 264,196 C310.7,252.32 301.61,345.84 293.2,392.58 \" fill=\"none\" id=\"E2-to-E8\" style=\"stroke:#181818;stroke-width:1.0;stroke-dasharray:7.0,7.0;\"/><polygon fill=\"#181818\" points=\"292.23,397.77,297.8087,389.6535,293.1445,392.8543,289.9437,388.1902,292.23,397.77\" style=\"stroke:#181818;stroke-width:1.0;\"/><text fill=\"#000000\" font-family=\"sans-serif\" font-size=\"13\" lengthAdjust=\"spacing\" textLength=\"58\" x=\"275\" y=\"209.0669\">«import»</text></a></g><!--MD5=[e3e28c1befcf002155aa15e1416b4315]\n",
       "link E2 to E6--><g id=\"link_E2_E6\"><a href=\"psysml:4d48d5b8-8a2b-403b-a600-382befb1c751\" target=\"_top\" title=\"psysml:4d48d5b8-8a2b-403b-a600-382befb1c751\" xlink:actuate=\"onRequest\" xlink:href=\"psysml:4d48d5b8-8a2b-403b-a600-382befb1c751\" xlink:show=\"new\" xlink:title=\"psysml:4d48d5b8-8a2b-403b-a600-382befb1c751\" xlink:type=\"simple\"><path d=\"M209.7844,126.6885 C209.6745,126.7134 209.5637,126.7387 209.4519,126.7642 C209.0046,126.8663 208.5422,126.9732 208.065,127.085 C206.1563,127.532 204.0125,128.0567 201.6694,128.6645 C192.2969,131.0959 179.735,134.8581 166.2725,140.3037 C139.3475,151.195 108.82,168.82 93,196 C66.865,240.9 84.8675,296.1075 109.8912,340.5988 C122.4031,362.8444 136.6703,382.4109 148.0533,396.6705 C150.899,400.2354 153.5645,403.4685 155.9772,406.329 C157.1836,407.7592 158.3268,409.0962 159.3977,410.335 C159.9331,410.9543 160.4505,411.5491 160.9487,412.1186 \" fill=\"none\" id=\"E2-to-E6\" style=\"stroke:#181818;stroke-width:1.0;stroke-dasharray:7.0,7.0;\"/><polygon fill=\"#181818\" points=\"160.9487,412.1186,158.034,402.711,157.6568,408.3552,152.0125,407.9781,160.9487,412.1186\" style=\"stroke:#181818;stroke-width:1.0;\"/><text fill=\"#000000\" font-family=\"sans-serif\" font-size=\"13\" lengthAdjust=\"spacing\" textLength=\"65\" x=\"94\" y=\"209.0669\">«import»*</text></a></g><!--MD5=[e3d2a08a9c9236652057e8ed0cbc9b62]\n",
       "link E2 to E7--><g id=\"link_E2_E7\"><a href=\"psysml:435ffdce-fa99-42b8-aa7d-b79facf9bf9f\" target=\"_top\" title=\"psysml:435ffdce-fa99-42b8-aa7d-b79facf9bf9f\" xlink:actuate=\"onRequest\" xlink:href=\"psysml:435ffdce-fa99-42b8-aa7d-b79facf9bf9f\" xlink:show=\"new\" xlink:title=\"psysml:435ffdce-fa99-42b8-aa7d-b79facf9bf9f\" xlink:type=\"simple\"><path d=\"M209.9156,133.4819 C209.8545,133.5495 209.7932,133.6175 209.7316,133.6858 C209.239,134.2321 208.7304,134.801 208.2074,135.3916 C207.1616,136.5729 206.0584,137.8408 204.9115,139.188 C202.6178,141.8824 200.1494,144.8941 197.615,148.1638 C187.4775,161.2425 176.285,178.45 171,196 C168.82,203.23 166.18,207.18 171,213 C183.11,227.64 200.74,206.48 213,221 C227.115,237.715 228.305,286.425 225.8738,331.5863 C225.5698,337.2314 225.2094,342.8211 224.8105,348.2859 C224.7107,349.6522 224.6086,351.0106 224.5044,352.3601 C224.4522,353.0348 224.3996,353.7074 224.3464,354.3776 \" fill=\"none\" id=\"E2-to-E7\" style=\"stroke:#181818;stroke-width:1.0;stroke-dasharray:7.0,7.0;\"/><polygon fill=\"#181818\" points=\"224.3464,354.3776,229.0454,345.7219,224.7417,349.3932,221.0704,345.0895,224.3464,354.3776\" style=\"stroke:#181818;stroke-width:1.0;\"/><text fill=\"#000000\" font-family=\"sans-serif\" font-size=\"13\" lengthAdjust=\"spacing\" textLength=\"87\" x=\"172\" y=\"209.0669\">«import»*::**</text></a></g><!--MD5=[ca5a752d6098d8a44b3f88316e7452d1]\n",
       "link E3 to E8--><g id=\"link_E3_E8\"><a href=\"psysml:c2b3862a-e64c-4984-9133-ea986cde4555\" target=\"_top\" title=\"psysml:c2b3862a-e64c-4984-9133-ea986cde4555\" xlink:actuate=\"onRequest\" xlink:href=\"psysml:c2b3862a-e64c-4984-9133-ea986cde4555\" xlink:show=\"new\" xlink:title=\"psysml:c2b3862a-e64c-4984-9133-ea986cde4555\" xlink:type=\"simple\"><path d=\"M318.74,148.33 C338.26,168.43 363.38,194.46 364,196 C366.82,203.01 368.76,207.13 364,213 C353.13,226.4 338.11,208.71 326,221 C285.35,262.26 280.75,332.54 282.7,377.85 \" fill=\"none\" id=\"E3-to-E8\" style=\"stroke:#181818;stroke-width:1.0;\"/><polygon fill=\"#FFFFFF\" points=\"284.06,397.85,275.7871,379.3687,289.7548,378.4189,284.06,397.85\" style=\"stroke:#181818;stroke-width:1.0;\"/><ellipse cx=\"277.3957\" cy=\"373.5461\" fill=\"#181818\" rx=\"2\" ry=\"2\" style=\"stroke:#181818;stroke-width:1.0;\"/><ellipse cx=\"287.3727\" cy=\"372.8677\" fill=\"#181818\" rx=\"2\" ry=\"2\" style=\"stroke:#181818;stroke-width:1.0;\"/></a></g><!--MD5=[15ebcb19ae302d9b601edb458606d402]\n",
       "link E5 to E2--><g id=\"link_E5_E2\"><a href=\"psysml:2e43f05d-56e8-4995-94de-93836f9907a6\" target=\"_top\" title=\"psysml:2e43f05d-56e8-4995-94de-93836f9907a6\" xlink:actuate=\"onRequest\" xlink:href=\"psysml:2e43f05d-56e8-4995-94de-93836f9907a6\" xlink:show=\"new\" xlink:title=\"psysml:2e43f05d-56e8-4995-94de-93836f9907a6\" xlink:type=\"simple\"><path d=\"M378.9609,236.6531 C378.738,236.3074 378.5141,235.9625 378.2891,235.6183 C377.389,234.2417 376.472,232.8777 375.5377,231.5272 C373.669,228.8262 371.7312,226.1791 369.7216,223.5936 C361.6834,213.2516 352.4975,203.8938 342,196 C323.3,181.94 255.24,202.66 237,188 C234.24,185.7813 231.8698,183.1761 229.8356,180.3106 C228.8185,178.8779 227.8853,177.3801 227.0294,175.833 C226.6014,175.0595 226.1928,174.2736 225.8026,173.4773 C225.6075,173.0792 225.417,172.6785 225.231,172.2755 \" fill=\"none\" id=\"E5-to-E2\" style=\"stroke:#181818;stroke-width:1.0;stroke-dasharray:7.0,7.0;\"/><polygon fill=\"#181818\" points=\"225.231,172.2755,225.3696,182.1233,227.3258,176.8155,232.6337,178.7717,225.231,172.2755\" style=\"stroke:#181818;stroke-width:1.0;\"/><text fill=\"#000000\" font-family=\"sans-serif\" font-size=\"13\" lengthAdjust=\"spacing\" textLength=\"65\" x=\"357\" y=\"209.0669\">«import»*</text></a></g><!--MD5=[d7bb3fb34add81b710575eb3799fa2ad]\n",
       "link E8 to E4--><g id=\"link_E8_E4\"><a href=\"psysml:6ab4f965-70f0-4435-9c9c-0953ad10c713\" target=\"_top\" title=\"psysml:6ab4f965-70f0-4435-9c9c-0953ad10c713\" xlink:actuate=\"onRequest\" xlink:href=\"psysml:6ab4f965-70f0-4435-9c9c-0953ad10c713\" xlink:show=\"new\" xlink:title=\"psysml:6ab4f965-70f0-4435-9c9c-0953ad10c713\" xlink:type=\"simple\"><path d=\"M283.44,397.77 C278.41,355.31 274.86,265.44 326,221 C338.77,209.91 466.36,225.27 478,213 C494.05,196.08 479.84,175.66 460.24,158.75 \" fill=\"none\" id=\"E8-to-E4\" style=\"stroke:#181818;stroke-width:1.0;\"/><polygon fill=\"none\" points=\"455.75,164.13,444.23,146.35,464.32,153.06,455.75,164.13\" style=\"stroke:#181818;stroke-width:1.0;\"/></a></g><!--MD5=[32d64745663917a7e0774686630fb1f2]\n",
       "@startuml\r\n",
       "skin sysmlc\r\n",
       "skinparam wrapWidth 300\r\n",
       "hide circle\r\n",
       "\r\n",
       "package \"ImportTest\" as E1  [[psysml:257ae3bb-e982-4f23-93ec-21786cef6fd4 ]]  {\r\n",
       "package \"Pkg1\" as E2  [[psysml:d86f8a04-756e-41fe-890d-bee1afc1808f ]]  {\r\n",
       "comp usage \"p11: P211  \" as E3  <<(T,blue) part>> [[psysml:c9f16dae-c47d-4af9-8178-9fb29f2ca8fe ]] {\r\n",
       "}\r\n",
       "comp def \"P12\" as E4  <<(T,blue) part  def>> [[psysml:5a85d6e7-c399-4e25-bc8b-7b1310ff596a ]] {\r\n",
       "}\r\n",
       "}\r\n",
       "package \"Pkg2\" as E5  [[psysml:87b5aefc-a384-45d2-9563-354f132d05b6 ]]  {\r\n",
       "package \"Pkg21\" as E6  [[psysml:74f758db-603d-4dff-97e1-05ce4d0c3ab8 ]]  {\r\n",
       "package \"Pkg211\" as E7  [[psysml:c9292eea-a9ed-4d7d-b554-73a415b23d76 ]]  {\r\n",
       "comp def \"P211\" as E8  <<(T,blue) part  def>> [[psysml:60f2756c-cfe4-4496-b687-ff5dbf9a385d ]] {\r\n",
       "}\r\n",
       "}\r\n",
       "}\r\n",
       "}\r\n",
       "}\r\n",
       "E2 ..> E8 [[psysml:7a09cf9a-4d44-4715-925a-a999429b18c6 ]] : <<import>>\r\n",
       "E2 ..> E6 [[psysml:4d48d5b8-8a2b-403b-a600-382befb1c751 ]] : <<import>>*\r\n",
       "E2 ..> E7 [[psysml:435ffdce-fa99-42b8-aa7d-b79facf9bf9f ]] : <<import>>*::**\r\n",
       "E3 - -:|> E8 [[psysml:c2b3862a-e64c-4984-9133-ea986cde4555 ]] \r\n",
       "E5 ..> E2 [[psysml:2e43f05d-56e8-4995-94de-93836f9907a6 ]] : <<import>>*\r\n",
       "E8 - -|> E4 [[psysml:6ab4f965-70f0-4435-9c9c-0953ad10c713 ]] \r\n",
       "@enduml\r\n",
       "\n",
       "PlantUML version 1.2022.7(Mon Aug 22 17:01:30 UTC 2022)\n",
       "(EPL source distribution)\n",
       "Java Runtime: OpenJDK Runtime Environment\n",
       "JVM: OpenJDK 64-Bit Server VM\n",
       "Default Encoding: UTF-8\n",
       "Language: en\n",
       "Country: null\n",
       "--></g></svg>"
      ]
     },
     "execution_count": 23,
     "metadata": {},
     "output_type": "execute_result"
    }
   ],
   "source": [
    "%viz --style=\"STDCOLOR\" --view=\"Default\" \"ImportTest\""
   ]
  },
  {
   "cell_type": "code",
   "execution_count": 24,
   "id": "da22601f",
   "metadata": {
    "execution": {
     "iopub.execute_input": "2024-12-16T14:16:21.250594Z",
     "iopub.status.busy": "2024-12-16T14:16:21.250359Z",
     "iopub.status.idle": "2024-12-16T14:16:21.273233Z",
     "shell.execute_reply": "2024-12-16T14:16:21.273021Z"
    }
   },
   "outputs": [
    {
     "data": {
      "image/svg+xml": [
       "<?xml version=\"1.0\" encoding=\"UTF-8\" standalone=\"no\"?><svg xmlns=\"http://www.w3.org/2000/svg\" xmlns:xlink=\"http://www.w3.org/1999/xlink\" contentStyleType=\"text/css\" height=\"589px\" preserveAspectRatio=\"none\" style=\"width:517px;height:589px;background:#FFFFFF;\" version=\"1.1\" viewBox=\"0 0 517 589\" width=\"517px\" zoomAndPan=\"magnify\"><defs><filter height=\"300%\" id=\"fcux6foq505in\" width=\"300%\" x=\"-1\" y=\"-1\"><feGaussianBlur result=\"blurOut\" stdDeviation=\"2.0\"/><feColorMatrix in=\"blurOut\" result=\"blurOut2\" type=\"matrix\" values=\"0 0 0 0 0 0 0 0 0 0 0 0 0 0 0 0 0 0 .4 0\"/><feOffset dx=\"4.0\" dy=\"4.0\" in=\"blurOut2\" result=\"blurOut3\"/><feBlend in=\"SourceGraphic\" in2=\"blurOut3\" mode=\"normal\"/></filter></defs><g><!--MD5=[fbc87193dbaf4d95561dea2c320d4a47]\n",
       "cluster E1--><g id=\"cluster_E1\"><a href=\"psysml:257ae3bb-e982-4f23-93ec-21786cef6fd4\" target=\"_top\" title=\"psysml:257ae3bb-e982-4f23-93ec-21786cef6fd4\" xlink:actuate=\"onRequest\" xlink:href=\"psysml:257ae3bb-e982-4f23-93ec-21786cef6fd4\" xlink:show=\"new\" xlink:title=\"psysml:257ae3bb-e982-4f23-93ec-21786cef6fd4\" xlink:type=\"simple\"><polygon fill=\"none\" filter=\"url(#fcux6foq505in)\" points=\"16,6,101.375,6,108.375,28.2969,500,28.2969,500,582,16,582,16,6\" style=\"stroke:#000000;stroke-width:1.5;\"/><line style=\"stroke:#000000;stroke-width:1.5;\" x1=\"16\" x2=\"108.375\" y1=\"28.2969\" y2=\"28.2969\"/><text fill=\"#000000\" font-family=\"sans-serif\" font-size=\"14\" font-weight=\"bold\" lengthAdjust=\"spacing\" textLength=\"79.375\" x=\"20\" y=\"20.9951\">ImportTest</text></a></g><!--MD5=[e4f7fae6ed58524ba242bb0b0d3be6b7]\n",
       "cluster E2--><g id=\"cluster_E2\"><a href=\"psysml:d86f8a04-756e-41fe-890d-bee1afc1808f\" target=\"_top\" title=\"psysml:d86f8a04-756e-41fe-890d-bee1afc1808f\" xlink:actuate=\"onRequest\" xlink:href=\"psysml:d86f8a04-756e-41fe-890d-bee1afc1808f\" xlink:show=\"new\" xlink:title=\"psysml:d86f8a04-756e-41fe-890d-bee1afc1808f\" xlink:type=\"simple\"><polygon fill=\"none\" filter=\"url(#fcux6foq505in)\" points=\"210,57,252.75,57,259.75,79.2969,468,79.2969,468,172,210,172,210,57\" style=\"stroke:#000000;stroke-width:1.5;\"/><line style=\"stroke:#000000;stroke-width:1.5;\" x1=\"210\" x2=\"259.75\" y1=\"79.2969\" y2=\"79.2969\"/><text fill=\"#000000\" font-family=\"sans-serif\" font-size=\"14\" font-weight=\"bold\" lengthAdjust=\"spacing\" textLength=\"36.75\" x=\"214\" y=\"71.9951\">Pkg1</text></a></g><!--MD5=[de5ec2e2e8f62f467e546659f5068c88]\n",
       "cluster E5--><g id=\"cluster_E5\"><a href=\"psysml:87b5aefc-a384-45d2-9563-354f132d05b6\" target=\"_top\" title=\"psysml:87b5aefc-a384-45d2-9563-354f132d05b6\" xlink:actuate=\"onRequest\" xlink:href=\"psysml:87b5aefc-a384-45d2-9563-354f132d05b6\" xlink:show=\"new\" xlink:title=\"psysml:87b5aefc-a384-45d2-9563-354f132d05b6\" xlink:type=\"simple\"><polygon fill=\"none\" filter=\"url(#fcux6foq505in)\" points=\"121,237,163.75,237,170.75,259.2969,434,259.2969,434,550,121,550,121,237\" style=\"stroke:#000000;stroke-width:1.5;\"/><line style=\"stroke:#000000;stroke-width:1.5;\" x1=\"121\" x2=\"170.75\" y1=\"259.2969\" y2=\"259.2969\"/><text fill=\"#000000\" font-family=\"sans-serif\" font-size=\"14\" font-weight=\"bold\" lengthAdjust=\"spacing\" textLength=\"36.75\" x=\"125\" y=\"251.9951\">Pkg2</text></a></g><!--MD5=[14e3b0961a2654348d326746436168a1]\n",
       "cluster E6--><g id=\"cluster_E6\"><a href=\"psysml:74f758db-603d-4dff-97e1-05ce4d0c3ab8\" target=\"_top\" title=\"psysml:74f758db-603d-4dff-97e1-05ce4d0c3ab8\" xlink:actuate=\"onRequest\" xlink:href=\"psysml:74f758db-603d-4dff-97e1-05ce4d0c3ab8\" xlink:show=\"new\" xlink:title=\"psysml:74f758db-603d-4dff-97e1-05ce4d0c3ab8\" xlink:type=\"simple\"><polygon fill=\"none\" filter=\"url(#fcux6foq505in)\" points=\"161,296,213.1875,296,220.1875,318.2969,386,318.2969,386,510,161,510,161,296\" style=\"stroke:#000000;stroke-width:1.5;\"/><line style=\"stroke:#000000;stroke-width:1.5;\" x1=\"161\" x2=\"220.1875\" y1=\"318.2969\" y2=\"318.2969\"/><text fill=\"#000000\" font-family=\"sans-serif\" font-size=\"14\" font-weight=\"bold\" lengthAdjust=\"spacing\" textLength=\"46.1875\" x=\"165\" y=\"310.9951\">Pkg21</text></a></g><!--MD5=[168fadf3d0c3fd93dd5d6da1b1d7ab76]\n",
       "cluster E7--><g id=\"cluster_E7\"><a href=\"psysml:c9292eea-a9ed-4d7d-b554-73a415b23d76\" target=\"_top\" title=\"psysml:c9292eea-a9ed-4d7d-b554-73a415b23d76\" xlink:actuate=\"onRequest\" xlink:href=\"psysml:c9292eea-a9ed-4d7d-b554-73a415b23d76\" xlink:show=\"new\" xlink:title=\"psysml:c9292eea-a9ed-4d7d-b554-73a415b23d76\" xlink:type=\"simple\"><polygon fill=\"none\" filter=\"url(#fcux6foq505in)\" points=\"209,355,270.625,355,277.625,377.2969,346,377.2969,346,470,209,470,209,355\" style=\"stroke:#000000;stroke-width:1.5;\"/><line style=\"stroke:#000000;stroke-width:1.5;\" x1=\"209\" x2=\"277.625\" y1=\"377.2969\" y2=\"377.2969\"/><text fill=\"#000000\" font-family=\"sans-serif\" font-size=\"14\" font-weight=\"bold\" lengthAdjust=\"spacing\" textLength=\"55.625\" x=\"213\" y=\"369.9951\">Pkg211</text></a></g><!--MD5=[09b614a08d8cba4a07c9adeb5e0fee81]\n",
       "class E3--><a href=\"psysml:c9f16dae-c47d-4af9-8178-9fb29f2ca8fe\" target=\"_top\" title=\"psysml:c9f16dae-c47d-4af9-8178-9fb29f2ca8fe\" xlink:actuate=\"onRequest\" xlink:href=\"psysml:c9f16dae-c47d-4af9-8178-9fb29f2ca8fe\" xlink:show=\"new\" xlink:title=\"psysml:c9f16dae-c47d-4af9-8178-9fb29f2ca8fe\" xlink:type=\"simple\"><g id=\"elem_E3\"><rect fill=\"#FFFACD\" filter=\"url(#fcux6foq505in)\" height=\"48.2656\" id=\"E3\" rx=\"10\" ry=\"10\" style=\"stroke:#181818;stroke-width:0.5;\" width=\"86\" x=\"253\" y=\"100\"/><text fill=\"#000000\" font-family=\"sans-serif\" font-size=\"12\" font-style=\"italic\" lengthAdjust=\"spacing\" textLength=\"40\" x=\"276\" y=\"116.1387\">«part»</text><text fill=\"#000000\" font-family=\"sans-serif\" font-size=\"14\" lengthAdjust=\"spacing\" textLength=\"72\" x=\"256\" y=\"131.9639\">p11: P211</text><line style=\"stroke:#181818;stroke-width:0.5;\" x1=\"254\" x2=\"338\" y1=\"140.2656\" y2=\"140.2656\"/></g></a><!--MD5=[ebbe1d658d1005bcc118a6aa81145e00]\n",
       "class E4--><a href=\"psysml:5a85d6e7-c399-4e25-bc8b-7b1310ff596a\" target=\"_top\" title=\"psysml:5a85d6e7-c399-4e25-bc8b-7b1310ff596a\" xlink:actuate=\"onRequest\" xlink:href=\"psysml:5a85d6e7-c399-4e25-bc8b-7b1310ff596a\" xlink:show=\"new\" xlink:title=\"psysml:5a85d6e7-c399-4e25-bc8b-7b1310ff596a\" xlink:type=\"simple\"><g id=\"elem_E4\"><rect fill=\"#FFFACD\" filter=\"url(#fcux6foq505in)\" height=\"48.2656\" id=\"E4\" style=\"stroke:#181818;stroke-width:0.5;\" width=\"70\" x=\"374\" y=\"100\"/><text fill=\"#000000\" font-family=\"sans-serif\" font-size=\"12\" font-style=\"italic\" lengthAdjust=\"spacing\" textLength=\"68\" x=\"375\" y=\"116.1387\">«part  def»</text><text fill=\"#000000\" font-family=\"sans-serif\" font-size=\"14\" lengthAdjust=\"spacing\" textLength=\"27\" x=\"395.5\" y=\"131.9639\">P12</text><line style=\"stroke:#181818;stroke-width:0.5;\" x1=\"375\" x2=\"443\" y1=\"140.2656\" y2=\"140.2656\"/></g></a><!--MD5=[b9389687b975829384b498ac4b7476b2]\n",
       "class E8--><a href=\"psysml:60f2756c-cfe4-4496-b687-ff5dbf9a385d\" target=\"_top\" title=\"psysml:60f2756c-cfe4-4496-b687-ff5dbf9a385d\" xlink:actuate=\"onRequest\" xlink:href=\"psysml:60f2756c-cfe4-4496-b687-ff5dbf9a385d\" xlink:show=\"new\" xlink:title=\"psysml:60f2756c-cfe4-4496-b687-ff5dbf9a385d\" xlink:type=\"simple\"><g id=\"elem_E8\"><rect fill=\"#FFFACD\" filter=\"url(#fcux6foq505in)\" height=\"48.2656\" id=\"E8\" style=\"stroke:#181818;stroke-width:0.5;\" width=\"70\" x=\"252\" y=\"398\"/><text fill=\"#000000\" font-family=\"sans-serif\" font-size=\"12\" font-style=\"italic\" lengthAdjust=\"spacing\" textLength=\"68\" x=\"253\" y=\"414.1387\">«part  def»</text><text fill=\"#000000\" font-family=\"sans-serif\" font-size=\"14\" lengthAdjust=\"spacing\" textLength=\"36\" x=\"269\" y=\"429.9639\">P211</text><line style=\"stroke:#181818;stroke-width:0.5;\" x1=\"253\" x2=\"321\" y1=\"438.2656\" y2=\"438.2656\"/></g></a><!--MD5=[b0060bfdb0500b904584095522b4da3c]\n",
       "link E2 to E8--><g id=\"link_E2_E8\"><a href=\"psysml:7a09cf9a-4d44-4715-925a-a999429b18c6\" target=\"_top\" title=\"psysml:7a09cf9a-4d44-4715-925a-a999429b18c6\" xlink:actuate=\"onRequest\" xlink:href=\"psysml:7a09cf9a-4d44-4715-925a-a999429b18c6\" xlink:show=\"new\" xlink:title=\"psysml:7a09cf9a-4d44-4715-925a-a999429b18c6\" xlink:type=\"simple\"><path d=\"M226.4784,172.2619 C226.5244,172.3641 226.5707,172.4663 226.6172,172.5683 C226.9895,173.3846 227.3777,174.1934 227.7824,174.9929 C228.5919,176.5919 229.4675,178.1539 230.4147,179.6646 C232.3092,182.6861 234.49,185.5025 237,188 C245.87,196.83 256.01,186.37 264,196 C310.7,252.32 301.61,345.84 293.2,392.58 \" fill=\"none\" id=\"E2-to-E8\" style=\"stroke:#181818;stroke-width:1.0;stroke-dasharray:7.0,7.0;\"/><polygon fill=\"#181818\" points=\"292.23,397.77,297.8087,389.6535,293.1445,392.8543,289.9437,388.1902,292.23,397.77\" style=\"stroke:#181818;stroke-width:1.0;\"/><text fill=\"#000000\" font-family=\"sans-serif\" font-size=\"13\" lengthAdjust=\"spacing\" textLength=\"58\" x=\"275\" y=\"209.0669\">«import»</text></a></g><!--MD5=[e3e28c1befcf002155aa15e1416b4315]\n",
       "link E2 to E6--><g id=\"link_E2_E6\"><a href=\"psysml:4d48d5b8-8a2b-403b-a600-382befb1c751\" target=\"_top\" title=\"psysml:4d48d5b8-8a2b-403b-a600-382befb1c751\" xlink:actuate=\"onRequest\" xlink:href=\"psysml:4d48d5b8-8a2b-403b-a600-382befb1c751\" xlink:show=\"new\" xlink:title=\"psysml:4d48d5b8-8a2b-403b-a600-382befb1c751\" xlink:type=\"simple\"><path d=\"M209.7844,126.6885 C209.6745,126.7134 209.5637,126.7387 209.4519,126.7642 C209.0046,126.8663 208.5422,126.9732 208.065,127.085 C206.1563,127.532 204.0125,128.0567 201.6694,128.6645 C192.2969,131.0959 179.735,134.8581 166.2725,140.3037 C139.3475,151.195 108.82,168.82 93,196 C66.865,240.9 84.8675,296.1075 109.8912,340.5988 C122.4031,362.8444 136.6703,382.4109 148.0533,396.6705 C150.899,400.2354 153.5645,403.4685 155.9772,406.329 C157.1836,407.7592 158.3268,409.0962 159.3977,410.335 C159.9331,410.9543 160.4505,411.5491 160.9487,412.1186 \" fill=\"none\" id=\"E2-to-E6\" style=\"stroke:#181818;stroke-width:1.0;stroke-dasharray:7.0,7.0;\"/><polygon fill=\"#181818\" points=\"160.9487,412.1186,158.034,402.711,157.6568,408.3552,152.0125,407.9781,160.9487,412.1186\" style=\"stroke:#181818;stroke-width:1.0;\"/><text fill=\"#000000\" font-family=\"sans-serif\" font-size=\"13\" lengthAdjust=\"spacing\" textLength=\"65\" x=\"94\" y=\"209.0669\">«import»*</text></a></g><!--MD5=[e3d2a08a9c9236652057e8ed0cbc9b62]\n",
       "link E2 to E7--><g id=\"link_E2_E7\"><a href=\"psysml:435ffdce-fa99-42b8-aa7d-b79facf9bf9f\" target=\"_top\" title=\"psysml:435ffdce-fa99-42b8-aa7d-b79facf9bf9f\" xlink:actuate=\"onRequest\" xlink:href=\"psysml:435ffdce-fa99-42b8-aa7d-b79facf9bf9f\" xlink:show=\"new\" xlink:title=\"psysml:435ffdce-fa99-42b8-aa7d-b79facf9bf9f\" xlink:type=\"simple\"><path d=\"M209.9156,133.4819 C209.8545,133.5495 209.7932,133.6175 209.7316,133.6858 C209.239,134.2321 208.7304,134.801 208.2074,135.3916 C207.1616,136.5729 206.0584,137.8408 204.9115,139.188 C202.6178,141.8824 200.1494,144.8941 197.615,148.1638 C187.4775,161.2425 176.285,178.45 171,196 C168.82,203.23 166.18,207.18 171,213 C183.11,227.64 200.74,206.48 213,221 C227.115,237.715 228.305,286.425 225.8738,331.5863 C225.5698,337.2314 225.2094,342.8211 224.8105,348.2859 C224.7107,349.6522 224.6086,351.0106 224.5044,352.3601 C224.4522,353.0348 224.3996,353.7074 224.3464,354.3776 \" fill=\"none\" id=\"E2-to-E7\" style=\"stroke:#181818;stroke-width:1.0;stroke-dasharray:7.0,7.0;\"/><polygon fill=\"#181818\" points=\"224.3464,354.3776,229.0454,345.7219,224.7417,349.3932,221.0704,345.0895,224.3464,354.3776\" style=\"stroke:#181818;stroke-width:1.0;\"/><text fill=\"#000000\" font-family=\"sans-serif\" font-size=\"13\" lengthAdjust=\"spacing\" textLength=\"87\" x=\"172\" y=\"209.0669\">«import»*::**</text></a></g><!--MD5=[ca5a752d6098d8a44b3f88316e7452d1]\n",
       "link E3 to E8--><g id=\"link_E3_E8\"><a href=\"psysml:c2b3862a-e64c-4984-9133-ea986cde4555\" target=\"_top\" title=\"psysml:c2b3862a-e64c-4984-9133-ea986cde4555\" xlink:actuate=\"onRequest\" xlink:href=\"psysml:c2b3862a-e64c-4984-9133-ea986cde4555\" xlink:show=\"new\" xlink:title=\"psysml:c2b3862a-e64c-4984-9133-ea986cde4555\" xlink:type=\"simple\"><path d=\"M318.74,148.33 C338.26,168.43 363.38,194.46 364,196 C366.82,203.01 368.76,207.13 364,213 C353.13,226.4 338.11,208.71 326,221 C285.35,262.26 280.75,332.54 282.7,377.85 \" fill=\"none\" id=\"E3-to-E8\" style=\"stroke:#181818;stroke-width:1.0;\"/><polygon fill=\"#FFFFFF\" points=\"284.06,397.85,275.7871,379.3687,289.7548,378.4189,284.06,397.85\" style=\"stroke:#181818;stroke-width:1.0;\"/><ellipse cx=\"277.3957\" cy=\"373.5461\" fill=\"#181818\" rx=\"2\" ry=\"2\" style=\"stroke:#181818;stroke-width:1.0;\"/><ellipse cx=\"287.3727\" cy=\"372.8677\" fill=\"#181818\" rx=\"2\" ry=\"2\" style=\"stroke:#181818;stroke-width:1.0;\"/></a></g><!--MD5=[15ebcb19ae302d9b601edb458606d402]\n",
       "link E5 to E2--><g id=\"link_E5_E2\"><a href=\"psysml:2e43f05d-56e8-4995-94de-93836f9907a6\" target=\"_top\" title=\"psysml:2e43f05d-56e8-4995-94de-93836f9907a6\" xlink:actuate=\"onRequest\" xlink:href=\"psysml:2e43f05d-56e8-4995-94de-93836f9907a6\" xlink:show=\"new\" xlink:title=\"psysml:2e43f05d-56e8-4995-94de-93836f9907a6\" xlink:type=\"simple\"><path d=\"M378.9609,236.6531 C378.738,236.3074 378.5141,235.9625 378.2891,235.6183 C377.389,234.2417 376.472,232.8777 375.5377,231.5272 C373.669,228.8262 371.7312,226.1791 369.7216,223.5936 C361.6834,213.2516 352.4975,203.8938 342,196 C323.3,181.94 255.24,202.66 237,188 C234.24,185.7813 231.8698,183.1761 229.8356,180.3106 C228.8185,178.8779 227.8853,177.3801 227.0294,175.833 C226.6014,175.0595 226.1928,174.2736 225.8026,173.4773 C225.6075,173.0792 225.417,172.6785 225.231,172.2755 \" fill=\"none\" id=\"E5-to-E2\" style=\"stroke:#181818;stroke-width:1.0;stroke-dasharray:7.0,7.0;\"/><polygon fill=\"#181818\" points=\"225.231,172.2755,225.3696,182.1233,227.3258,176.8155,232.6337,178.7717,225.231,172.2755\" style=\"stroke:#181818;stroke-width:1.0;\"/><text fill=\"#000000\" font-family=\"sans-serif\" font-size=\"13\" lengthAdjust=\"spacing\" textLength=\"65\" x=\"357\" y=\"209.0669\">«import»*</text></a></g><!--MD5=[d7bb3fb34add81b710575eb3799fa2ad]\n",
       "link E8 to E4--><g id=\"link_E8_E4\"><a href=\"psysml:6ab4f965-70f0-4435-9c9c-0953ad10c713\" target=\"_top\" title=\"psysml:6ab4f965-70f0-4435-9c9c-0953ad10c713\" xlink:actuate=\"onRequest\" xlink:href=\"psysml:6ab4f965-70f0-4435-9c9c-0953ad10c713\" xlink:show=\"new\" xlink:title=\"psysml:6ab4f965-70f0-4435-9c9c-0953ad10c713\" xlink:type=\"simple\"><path d=\"M283.44,397.77 C278.41,355.31 274.86,265.44 326,221 C338.77,209.91 466.36,225.27 478,213 C494.05,196.08 479.84,175.66 460.24,158.75 \" fill=\"none\" id=\"E8-to-E4\" style=\"stroke:#181818;stroke-width:1.0;\"/><polygon fill=\"none\" points=\"455.75,164.13,444.23,146.35,464.32,153.06,455.75,164.13\" style=\"stroke:#181818;stroke-width:1.0;\"/></a></g><!--MD5=[32d64745663917a7e0774686630fb1f2]\n",
       "@startuml\r\n",
       "skin sysmlc\r\n",
       "skinparam wrapWidth 300\r\n",
       "hide circle\r\n",
       "\r\n",
       "package \"ImportTest\" as E1  [[psysml:257ae3bb-e982-4f23-93ec-21786cef6fd4 ]]  {\r\n",
       "package \"Pkg1\" as E2  [[psysml:d86f8a04-756e-41fe-890d-bee1afc1808f ]]  {\r\n",
       "comp usage \"p11: P211  \" as E3  <<(T,blue) part>> [[psysml:c9f16dae-c47d-4af9-8178-9fb29f2ca8fe ]] {\r\n",
       "}\r\n",
       "comp def \"P12\" as E4  <<(T,blue) part  def>> [[psysml:5a85d6e7-c399-4e25-bc8b-7b1310ff596a ]] {\r\n",
       "}\r\n",
       "}\r\n",
       "package \"Pkg2\" as E5  [[psysml:87b5aefc-a384-45d2-9563-354f132d05b6 ]]  {\r\n",
       "package \"Pkg21\" as E6  [[psysml:74f758db-603d-4dff-97e1-05ce4d0c3ab8 ]]  {\r\n",
       "package \"Pkg211\" as E7  [[psysml:c9292eea-a9ed-4d7d-b554-73a415b23d76 ]]  {\r\n",
       "comp def \"P211\" as E8  <<(T,blue) part  def>> [[psysml:60f2756c-cfe4-4496-b687-ff5dbf9a385d ]] {\r\n",
       "}\r\n",
       "}\r\n",
       "}\r\n",
       "}\r\n",
       "}\r\n",
       "E2 ..> E8 [[psysml:7a09cf9a-4d44-4715-925a-a999429b18c6 ]] : <<import>>\r\n",
       "E2 ..> E6 [[psysml:4d48d5b8-8a2b-403b-a600-382befb1c751 ]] : <<import>>*\r\n",
       "E2 ..> E7 [[psysml:435ffdce-fa99-42b8-aa7d-b79facf9bf9f ]] : <<import>>*::**\r\n",
       "E3 - -:|> E8 [[psysml:c2b3862a-e64c-4984-9133-ea986cde4555 ]] \r\n",
       "E5 ..> E2 [[psysml:2e43f05d-56e8-4995-94de-93836f9907a6 ]] : <<import>>*\r\n",
       "E8 - -|> E4 [[psysml:6ab4f965-70f0-4435-9c9c-0953ad10c713 ]] \r\n",
       "@enduml\r\n",
       "\n",
       "PlantUML version 1.2022.7(Mon Aug 22 17:01:30 UTC 2022)\n",
       "(EPL source distribution)\n",
       "Java Runtime: OpenJDK Runtime Environment\n",
       "JVM: OpenJDK 64-Bit Server VM\n",
       "Default Encoding: UTF-8\n",
       "Language: en\n",
       "Country: null\n",
       "--></g></svg>"
      ]
     },
     "execution_count": 24,
     "metadata": {},
     "output_type": "execute_result"
    }
   ],
   "source": [
    "%viz --style=\"STDCOLOR\" --view=\"Tree\" \"ImportTest\""
   ]
  },
  {
   "cell_type": "code",
   "execution_count": 25,
   "id": "2bcffb36",
   "metadata": {
    "execution": {
     "iopub.execute_input": "2024-12-16T14:16:21.329486Z",
     "iopub.status.busy": "2024-12-16T14:16:21.329238Z",
     "iopub.status.idle": "2024-12-16T14:16:21.335139Z",
     "shell.execute_reply": "2024-12-16T14:16:21.334947Z"
    }
   },
   "outputs": [
    {
     "data": {
      "image/svg+xml": [
       "<?xml version=\"1.0\" encoding=\"UTF-8\" standalone=\"no\"?><svg xmlns=\"http://www.w3.org/2000/svg\" xmlns:xlink=\"http://www.w3.org/1999/xlink\" contentStyleType=\"text/css\" height=\"10px\" preserveAspectRatio=\"none\" style=\"width:10px;height:10px;background:#FFFFFF;\" version=\"1.1\" viewBox=\"0 0 10 10\" width=\"10px\" zoomAndPan=\"magnify\"><defs/><g><!--MD5=[a1048f16c75022af837d4b7065e6f600]\n",
       "@startuml\r\n",
       "skin sysmlc\r\n",
       "skinparam wrapWidth 300\r\n",
       "hide circle\r\n",
       "\r\n",
       "@enduml\r\n",
       "\n",
       "PlantUML version 1.2022.7(Mon Aug 22 17:01:30 UTC 2022)\n",
       "(EPL source distribution)\n",
       "Java Runtime: OpenJDK Runtime Environment\n",
       "JVM: OpenJDK 64-Bit Server VM\n",
       "Default Encoding: UTF-8\n",
       "Language: en\n",
       "Country: null\n",
       "--></g></svg>"
      ]
     },
     "execution_count": 25,
     "metadata": {},
     "output_type": "execute_result"
    }
   ],
   "source": [
    "%viz --style=\"STDCOLOR\" --view=\"State\" \"ImportTest\""
   ]
  },
  {
   "cell_type": "code",
   "execution_count": 26,
   "id": "b0d5c0f8",
   "metadata": {
    "execution": {
     "iopub.execute_input": "2024-12-16T14:16:21.391765Z",
     "iopub.status.busy": "2024-12-16T14:16:21.391506Z",
     "iopub.status.idle": "2024-12-16T14:16:21.420840Z",
     "shell.execute_reply": "2024-12-16T14:16:21.419916Z"
    }
   },
   "outputs": [
    {
     "data": {
      "image/svg+xml": [
       "<?xml version=\"1.0\" encoding=\"UTF-8\" standalone=\"no\"?><svg xmlns=\"http://www.w3.org/2000/svg\" xmlns:xlink=\"http://www.w3.org/1999/xlink\" contentStyleType=\"text/css\" height=\"583px\" preserveAspectRatio=\"none\" style=\"width:517px;height:583px;background:#FFFFFF;\" version=\"1.1\" viewBox=\"0 0 517 583\" width=\"517px\" zoomAndPan=\"magnify\"><defs><filter height=\"300%\" id=\"f6aw9jy3z9pq9\" width=\"300%\" x=\"-1\" y=\"-1\"><feGaussianBlur result=\"blurOut\" stdDeviation=\"2.0\"/><feColorMatrix in=\"blurOut\" result=\"blurOut2\" type=\"matrix\" values=\"0 0 0 0 0 0 0 0 0 0 0 0 0 0 0 0 0 0 .4 0\"/><feOffset dx=\"4.0\" dy=\"4.0\" in=\"blurOut2\" result=\"blurOut3\"/><feBlend in=\"SourceGraphic\" in2=\"blurOut3\" mode=\"normal\"/></filter></defs><g><!--MD5=[fbc87193dbaf4d95561dea2c320d4a47]\n",
       "cluster E1--><g id=\"cluster_E1\"><a href=\"psysml:257ae3bb-e982-4f23-93ec-21786cef6fd4\" target=\"_top\" title=\"psysml:257ae3bb-e982-4f23-93ec-21786cef6fd4\" xlink:actuate=\"onRequest\" xlink:href=\"psysml:257ae3bb-e982-4f23-93ec-21786cef6fd4\" xlink:show=\"new\" xlink:title=\"psysml:257ae3bb-e982-4f23-93ec-21786cef6fd4\" xlink:type=\"simple\"><polygon fill=\"none\" filter=\"url(#f6aw9jy3z9pq9)\" points=\"16,6,101.375,6,108.375,28.2969,500,28.2969,500,576,16,576,16,6\" style=\"stroke:#000000;stroke-width:1.5;\"/><line style=\"stroke:#000000;stroke-width:1.5;\" x1=\"16\" x2=\"108.375\" y1=\"28.2969\" y2=\"28.2969\"/><text fill=\"#000000\" font-family=\"sans-serif\" font-size=\"14\" font-weight=\"bold\" lengthAdjust=\"spacing\" textLength=\"79.375\" x=\"20\" y=\"20.9951\">ImportTest</text></a></g><!--MD5=[e4f7fae6ed58524ba242bb0b0d3be6b7]\n",
       "cluster E2--><g id=\"cluster_E2\"><a href=\"psysml:d86f8a04-756e-41fe-890d-bee1afc1808f\" target=\"_top\" title=\"psysml:d86f8a04-756e-41fe-890d-bee1afc1808f\" xlink:actuate=\"onRequest\" xlink:href=\"psysml:d86f8a04-756e-41fe-890d-bee1afc1808f\" xlink:show=\"new\" xlink:title=\"psysml:d86f8a04-756e-41fe-890d-bee1afc1808f\" xlink:type=\"simple\"><polygon fill=\"none\" filter=\"url(#f6aw9jy3z9pq9)\" points=\"208,57,250.75,57,257.75,79.2969,468,79.2969,468,169,208,169,208,57\" style=\"stroke:#000000;stroke-width:1.5;\"/><line style=\"stroke:#000000;stroke-width:1.5;\" x1=\"208\" x2=\"257.75\" y1=\"79.2969\" y2=\"79.2969\"/><text fill=\"#000000\" font-family=\"sans-serif\" font-size=\"14\" font-weight=\"bold\" lengthAdjust=\"spacing\" textLength=\"36.75\" x=\"212\" y=\"71.9951\">Pkg1</text></a></g><!--MD5=[de5ec2e2e8f62f467e546659f5068c88]\n",
       "cluster E5--><g id=\"cluster_E5\"><a href=\"psysml:87b5aefc-a384-45d2-9563-354f132d05b6\" target=\"_top\" title=\"psysml:87b5aefc-a384-45d2-9563-354f132d05b6\" xlink:actuate=\"onRequest\" xlink:href=\"psysml:87b5aefc-a384-45d2-9563-354f132d05b6\" xlink:show=\"new\" xlink:title=\"psysml:87b5aefc-a384-45d2-9563-354f132d05b6\" xlink:type=\"simple\"><polygon fill=\"none\" filter=\"url(#f6aw9jy3z9pq9)\" points=\"117,234,159.75,234,166.75,256.2969,435,256.2969,435,544,117,544,117,234\" style=\"stroke:#000000;stroke-width:1.5;\"/><line style=\"stroke:#000000;stroke-width:1.5;\" x1=\"117\" x2=\"166.75\" y1=\"256.2969\" y2=\"256.2969\"/><text fill=\"#000000\" font-family=\"sans-serif\" font-size=\"14\" font-weight=\"bold\" lengthAdjust=\"spacing\" textLength=\"36.75\" x=\"121\" y=\"248.9951\">Pkg2</text></a></g><!--MD5=[14e3b0961a2654348d326746436168a1]\n",
       "cluster E6--><g id=\"cluster_E6\"><a href=\"psysml:74f758db-603d-4dff-97e1-05ce4d0c3ab8\" target=\"_top\" title=\"psysml:74f758db-603d-4dff-97e1-05ce4d0c3ab8\" xlink:actuate=\"onRequest\" xlink:href=\"psysml:74f758db-603d-4dff-97e1-05ce4d0c3ab8\" xlink:show=\"new\" xlink:title=\"psysml:74f758db-603d-4dff-97e1-05ce4d0c3ab8\" xlink:type=\"simple\"><polygon fill=\"none\" filter=\"url(#f6aw9jy3z9pq9)\" points=\"157,293,209.1875,293,216.1875,315.2969,387,315.2969,387,504,157,504,157,293\" style=\"stroke:#000000;stroke-width:1.5;\"/><line style=\"stroke:#000000;stroke-width:1.5;\" x1=\"157\" x2=\"216.1875\" y1=\"315.2969\" y2=\"315.2969\"/><text fill=\"#000000\" font-family=\"sans-serif\" font-size=\"14\" font-weight=\"bold\" lengthAdjust=\"spacing\" textLength=\"46.1875\" x=\"161\" y=\"307.9951\">Pkg21</text></a></g><!--MD5=[168fadf3d0c3fd93dd5d6da1b1d7ab76]\n",
       "cluster E7--><g id=\"cluster_E7\"><a href=\"psysml:c9292eea-a9ed-4d7d-b554-73a415b23d76\" target=\"_top\" title=\"psysml:c9292eea-a9ed-4d7d-b554-73a415b23d76\" xlink:actuate=\"onRequest\" xlink:href=\"psysml:c9292eea-a9ed-4d7d-b554-73a415b23d76\" xlink:show=\"new\" xlink:title=\"psysml:c9292eea-a9ed-4d7d-b554-73a415b23d76\" xlink:type=\"simple\"><polygon fill=\"none\" filter=\"url(#f6aw9jy3z9pq9)\" points=\"205,352,266.625,352,273.625,374.2969,347,374.2969,347,464,205,464,205,352\" style=\"stroke:#000000;stroke-width:1.5;\"/><line style=\"stroke:#000000;stroke-width:1.5;\" x1=\"205\" x2=\"273.625\" y1=\"374.2969\" y2=\"374.2969\"/><text fill=\"#000000\" font-family=\"sans-serif\" font-size=\"14\" font-weight=\"bold\" lengthAdjust=\"spacing\" textLength=\"55.625\" x=\"209\" y=\"366.9951\">Pkg211</text></a></g><g><a href=\"psysml:c9f16dae-c47d-4af9-8178-9fb29f2ca8fe\" target=\"_top\" title=\"psysml:c9f16dae-c47d-4af9-8178-9fb29f2ca8fe\" xlink:actuate=\"onRequest\" xlink:href=\"psysml:c9f16dae-c47d-4af9-8178-9fb29f2ca8fe\" xlink:show=\"new\" xlink:title=\"psysml:c9f16dae-c47d-4af9-8178-9fb29f2ca8fe\" xlink:type=\"simple\"><rect fill=\"#FFFACD\" filter=\"url(#f6aw9jy3z9pq9)\" height=\"40\" id=\"E3\" rx=\"10\" ry=\"10\" style=\"stroke:#A80036;stroke-width:1.5;\" width=\"83\" x=\"251.5\" y=\"102.5\"/><text fill=\"#000000\" font-family=\"sans-serif\" font-size=\"14\" lengthAdjust=\"spacing\" textLength=\"72\" x=\"257\" y=\"120.4951\">p11: P211</text></a></g><g><a href=\"psysml:5a85d6e7-c399-4e25-bc8b-7b1310ff596a\" target=\"_top\" title=\"psysml:5a85d6e7-c399-4e25-bc8b-7b1310ff596a\" xlink:actuate=\"onRequest\" xlink:href=\"psysml:5a85d6e7-c399-4e25-bc8b-7b1310ff596a\" xlink:show=\"new\" xlink:title=\"psysml:5a85d6e7-c399-4e25-bc8b-7b1310ff596a\" xlink:type=\"simple\"><rect fill=\"#FFFACD\" filter=\"url(#f6aw9jy3z9pq9)\" height=\"45.2656\" id=\"E4\" style=\"stroke:#A80036;stroke-width:1.5;\" width=\"75\" x=\"369.5\" y=\"100\"/><text fill=\"#000000\" font-family=\"sans-serif\" font-size=\"12\" font-style=\"italic\" lengthAdjust=\"spacing\" textLength=\"68\" x=\"373\" y=\"116.1387\">«part  def»</text><text fill=\"#000000\" font-family=\"sans-serif\" font-size=\"14\" lengthAdjust=\"spacing\" textLength=\"27\" x=\"393.5\" y=\"131.9639\">P12</text></a></g><g><a href=\"psysml:60f2756c-cfe4-4496-b687-ff5dbf9a385d\" target=\"_top\" title=\"psysml:60f2756c-cfe4-4496-b687-ff5dbf9a385d\" xlink:actuate=\"onRequest\" xlink:href=\"psysml:60f2756c-cfe4-4496-b687-ff5dbf9a385d\" xlink:show=\"new\" xlink:title=\"psysml:60f2756c-cfe4-4496-b687-ff5dbf9a385d\" xlink:type=\"simple\"><rect fill=\"#FFFACD\" filter=\"url(#f6aw9jy3z9pq9)\" height=\"45.2656\" id=\"E8\" style=\"stroke:#A80036;stroke-width:1.5;\" width=\"75\" x=\"248.5\" y=\"395\"/><text fill=\"#000000\" font-family=\"sans-serif\" font-size=\"12\" font-style=\"italic\" lengthAdjust=\"spacing\" textLength=\"68\" x=\"252\" y=\"411.1387\">«part  def»</text><text fill=\"#000000\" font-family=\"sans-serif\" font-size=\"14\" lengthAdjust=\"spacing\" textLength=\"36\" x=\"268\" y=\"426.9639\">P211</text></a></g><!--MD5=[b0060bfdb0500b904584095522b4da3c]\n",
       "link E2 to E8--><g id=\"link_E2_E8\"><a href=\"psysml:7a09cf9a-4d44-4715-925a-a999429b18c6\" target=\"_top\" title=\"psysml:7a09cf9a-4d44-4715-925a-a999429b18c6\" xlink:actuate=\"onRequest\" xlink:href=\"psysml:7a09cf9a-4d44-4715-925a-a999429b18c6\" xlink:show=\"new\" xlink:title=\"psysml:7a09cf9a-4d44-4715-925a-a999429b18c6\" xlink:type=\"simple\"><path d=\"M224.2853,169.1216 C224.3302,169.2216 224.3753,169.3216 224.4206,169.4214 C224.5113,169.6211 224.6029,169.8203 224.6956,170.019 C225.0661,170.814 225.4522,171.6014 225.8547,172.3795 C226.6596,173.9357 227.5296,175.4546 228.4701,176.9223 C230.3511,179.8575 232.5138,182.5875 235,185 C244.6,194.31 255.39,182.77 264,193 C311.28,249.14 300.92,343.57 292.13,389.62 \" fill=\"none\" id=\"E2-to-E8\" style=\"stroke:#181818;stroke-width:1.0;stroke-dasharray:7.0,7.0;\"/><polygon fill=\"#181818\" points=\"291.12,394.72,296.7668,386.6507,292.0759,389.8122,288.9144,385.1213,291.12,394.72\" style=\"stroke:#181818;stroke-width:1.0;\"/><text fill=\"#000000\" font-family=\"sans-serif\" font-size=\"13\" lengthAdjust=\"spacing\" textLength=\"58\" x=\"275\" y=\"206.0669\">«import»</text></a></g><!--MD5=[e3e28c1befcf002155aa15e1416b4315]\n",
       "link E2 to E6--><g id=\"link_E2_E6\"><a href=\"psysml:4d48d5b8-8a2b-403b-a600-382befb1c751\" target=\"_top\" title=\"psysml:4d48d5b8-8a2b-403b-a600-382befb1c751\" xlink:actuate=\"onRequest\" xlink:href=\"psysml:4d48d5b8-8a2b-403b-a600-382befb1c751\" xlink:show=\"new\" xlink:title=\"psysml:4d48d5b8-8a2b-403b-a600-382befb1c751\" xlink:type=\"simple\"><path d=\"M207.9177,125.1413 C207.8096,125.1655 207.7005,125.1901 207.5905,125.2149 C207.1505,125.3142 206.6956,125.4181 206.2261,125.5268 C204.3484,125.9616 202.2393,126.472 199.9341,127.0638 C190.7131,129.4306 178.3538,133.0975 165.1075,138.4175 C138.615,149.0575 108.575,166.31 93,193 C67.11,237.365 84.1475,292.2 108.1275,336.4513 C120.1175,358.5769 133.8431,378.0566 144.8063,392.2586 C147.547,395.8091 150.1152,399.0298 152.4403,401.8794 C153.6029,403.3043 154.7048,404.6364 155.7371,405.8706 C155.9952,406.1791 156.249,406.4816 156.4982,406.7778 C156.6228,406.9259 156.7463,407.0725 156.8687,407.2175 \" fill=\"none\" id=\"E2-to-E6\" style=\"stroke:#181818;stroke-width:1.0;stroke-dasharray:7.0,7.0;\"/><polygon fill=\"#181818\" points=\"156.8687,407.2175,154.1213,397.7596,153.6441,403.3963,148.0074,402.919,156.8687,407.2175\" style=\"stroke:#181818;stroke-width:1.0;\"/><text fill=\"#000000\" font-family=\"sans-serif\" font-size=\"13\" lengthAdjust=\"spacing\" textLength=\"65\" x=\"94\" y=\"206.0669\">«import»*</text></a></g><!--MD5=[e3d2a08a9c9236652057e8ed0cbc9b62]\n",
       "link E2 to E7--><g id=\"link_E2_E7\"><a href=\"psysml:435ffdce-fa99-42b8-aa7d-b79facf9bf9f\" target=\"_top\" title=\"psysml:435ffdce-fa99-42b8-aa7d-b79facf9bf9f\" xlink:actuate=\"onRequest\" xlink:href=\"psysml:435ffdce-fa99-42b8-aa7d-b79facf9bf9f\" xlink:show=\"new\" xlink:title=\"psysml:435ffdce-fa99-42b8-aa7d-b79facf9bf9f\" xlink:type=\"simple\"><path d=\"M207.8987,132.2409 C207.8392,132.3087 207.7795,132.3768 207.7196,132.4452 C207.5998,132.5821 207.479,132.7203 207.3573,132.86 C207.1139,133.1392 206.867,133.4238 206.6165,133.7137 C205.6148,134.8735 204.5583,136.1181 203.46,137.4401 C201.2633,140.0843 198.8994,143.0384 196.4725,146.2438 C186.765,159.065 176.05,175.905 171,193 C168.86,200.25 166.24,204.13 171,210 C181.87,223.4 197.99,204.71 209,218 C222.85,234.725 224.035,283.0725 221.6675,327.8625 C221.3716,333.4612 221.0201,339.0044 220.631,344.4233 C220.5337,345.778 220.434,347.1249 220.3323,348.4631 C220.2814,349.1321 220.2301,349.7989 220.1782,350.4634 C220.1523,350.7957 220.1262,351.1274 220.1,351.4584 \" fill=\"none\" id=\"E2-to-E7\" style=\"stroke:#181818;stroke-width:1.0;stroke-dasharray:7.0,7.0;\"/><polygon fill=\"#181818\" points=\"220.1,351.4584,224.7969,342.8016,220.4941,346.474,216.8217,342.1712,220.1,351.4584\" style=\"stroke:#181818;stroke-width:1.0;\"/><text fill=\"#000000\" font-family=\"sans-serif\" font-size=\"13\" lengthAdjust=\"spacing\" textLength=\"87\" x=\"172\" y=\"206.0669\">«import»*::**</text></a></g><!--MD5=[ca5a752d6098d8a44b3f88316e7452d1]\n",
       "link E3 to E8--><g id=\"link_E3_E8\"><a href=\"psysml:c2b3862a-e64c-4984-9133-ea986cde4555\" target=\"_top\" title=\"psysml:c2b3862a-e64c-4984-9133-ea986cde4555\" xlink:actuate=\"onRequest\" xlink:href=\"psysml:c2b3862a-e64c-4984-9133-ea986cde4555\" xlink:show=\"new\" xlink:title=\"psysml:c2b3862a-e64c-4984-9133-ea986cde4555\" xlink:type=\"simple\"><path d=\"M309.32,142.58 C320.65,155.29 336.46,171.99 352,185 C356.91,189.11 360.98,187.35 364,193 C367.57,199.66 368.73,204.11 364,210 C353.74,222.79 339.53,206.35 328,218 C287.1,259.32 281.48,329.87 282.65,374.79 \" fill=\"none\" id=\"E3-to-E8\" style=\"stroke:#181818;stroke-width:1.0;\"/><polygon fill=\"#FFFFFF\" points=\"283.67,394.81,275.7286,376.1838,289.7111,375.4837,283.67,394.81\" style=\"stroke:#181818;stroke-width:1.0;\"/><ellipse cx=\"277.441\" cy=\"370.3909\" fill=\"#181818\" rx=\"2\" ry=\"2\" style=\"stroke:#181818;stroke-width:1.0;\"/><ellipse cx=\"287.4285\" cy=\"369.8909\" fill=\"#181818\" rx=\"2\" ry=\"2\" style=\"stroke:#181818;stroke-width:1.0;\"/></a></g><!--MD5=[15ebcb19ae302d9b601edb458606d402]\n",
       "link E5 to E2--><g id=\"link_E5_E2\"><a href=\"psysml:2e43f05d-56e8-4995-94de-93836f9907a6\" target=\"_top\" title=\"psysml:2e43f05d-56e8-4995-94de-93836f9907a6\" xlink:actuate=\"onRequest\" xlink:href=\"psysml:2e43f05d-56e8-4995-94de-93836f9907a6\" xlink:show=\"new\" xlink:title=\"psysml:2e43f05d-56e8-4995-94de-93836f9907a6\" xlink:type=\"simple\"><path d=\"M378.9931,233.3213 C378.7693,232.9782 378.5445,232.6358 378.3186,232.2942 C377.4151,230.9279 376.4948,229.5741 375.5574,228.2337 C373.6826,225.5531 371.7396,222.9264 369.7256,220.361 C361.67,210.0995 352.4813,200.82 342,193 C322.89,178.74 253.65,199.86 235,185 C232.2913,182.8413 229.9598,180.3034 227.9541,177.51 C226.9513,176.1133 226.0298,174.6527 225.1833,173.1437 C224.7601,172.3892 224.3556,171.6225 223.969,170.8457 C223.7758,170.4573 223.587,170.0663 223.4025,169.673 C223.3103,169.4764 223.2192,169.2792 223.1292,169.0814 \" fill=\"none\" id=\"E5-to-E2\" style=\"stroke:#181818;stroke-width:1.0;stroke-dasharray:7.0,7.0;\"/><polygon fill=\"#181818\" points=\"223.1292,169.0814,223.2177,178.9299,225.2009,173.6321,230.4987,175.6152,223.1292,169.0814\" style=\"stroke:#181818;stroke-width:1.0;\"/><text fill=\"#000000\" font-family=\"sans-serif\" font-size=\"13\" lengthAdjust=\"spacing\" textLength=\"65\" x=\"361\" y=\"206.0669\">«import»*</text></a></g><!--MD5=[d7bb3fb34add81b710575eb3799fa2ad]\n",
       "link E8 to E4--><g id=\"link_E8_E4\"><a href=\"psysml:6ab4f965-70f0-4435-9c9c-0953ad10c713\" target=\"_top\" title=\"psysml:6ab4f965-70f0-4435-9c9c-0953ad10c713\" xlink:actuate=\"onRequest\" xlink:href=\"psysml:6ab4f965-70f0-4435-9c9c-0953ad10c713\" xlink:show=\"new\" xlink:title=\"psysml:6ab4f965-70f0-4435-9c9c-0953ad10c713\" xlink:type=\"simple\"><path d=\"M283.03,394.71 C278.72,353.05 276.21,262.31 328,218 C340.68,207.15 466.52,222.11 478,210 C493.85,193.29 479.79,173.5 460.13,157.08 \" fill=\"none\" id=\"E8-to-E4\" style=\"stroke:#181818;stroke-width:1.0;\"/><polygon fill=\"none\" points=\"455.83,162.6,444.02,145.01,464.22,151.39,455.83,162.6\" style=\"stroke:#181818;stroke-width:1.0;\"/></a></g><!--MD5=[0186528c234abe4b7a90db8d1c53a9e7]\n",
       "@startuml\r\n",
       "skin sysmlc\r\n",
       "skinparam wrapWidth 300\r\n",
       "hide circle\r\n",
       "skinparam ranksep 10\r\n",
       "skinparam rectangle {\r\n",
       " backgroundColor<<block>> LightGreen\r\n",
       "}\r\n",
       "\r\n",
       "package \"ImportTest\" as E1  [[psysml:257ae3bb-e982-4f23-93ec-21786cef6fd4 ]]  {\r\n",
       "package \"Pkg1\" as E2  [[psysml:d86f8a04-756e-41fe-890d-bee1afc1808f ]]  {\r\n",
       "rec usage \"p11: P211\" as E3 [[psysml:c9f16dae-c47d-4af9-8178-9fb29f2ca8fe ]] {\r\n",
       "}\r\n",
       "rec def \"P12\" as E4  <<(T,blue) part  def>> [[psysml:5a85d6e7-c399-4e25-bc8b-7b1310ff596a ]] {\r\n",
       "}\r\n",
       "}\r\n",
       "package \"Pkg2\" as E5  [[psysml:87b5aefc-a384-45d2-9563-354f132d05b6 ]]  {\r\n",
       "package \"Pkg21\" as E6  [[psysml:74f758db-603d-4dff-97e1-05ce4d0c3ab8 ]]  {\r\n",
       "package \"Pkg211\" as E7  [[psysml:c9292eea-a9ed-4d7d-b554-73a415b23d76 ]]  {\r\n",
       "rec def \"P211\" as E8  <<(T,blue) part  def>> [[psysml:60f2756c-cfe4-4496-b687-ff5dbf9a385d ]] {\r\n",
       "}\r\n",
       "}\r\n",
       "}\r\n",
       "}\r\n",
       "}\r\n",
       "E2 ..> E8 [[psysml:7a09cf9a-4d44-4715-925a-a999429b18c6 ]] : <<import>>\r\n",
       "E2 ..> E6 [[psysml:4d48d5b8-8a2b-403b-a600-382befb1c751 ]] : <<import>>*\r\n",
       "E2 ..> E7 [[psysml:435ffdce-fa99-42b8-aa7d-b79facf9bf9f ]] : <<import>>*::**\r\n",
       "E3 - -:|> E8 [[psysml:c2b3862a-e64c-4984-9133-ea986cde4555 ]] \r\n",
       "E5 ..> E2 [[psysml:2e43f05d-56e8-4995-94de-93836f9907a6 ]] : <<import>>*\r\n",
       "E8 - -|> E4 [[psysml:6ab4f965-70f0-4435-9c9c-0953ad10c713 ]] \r\n",
       "@enduml\r\n",
       "\n",
       "PlantUML version 1.2022.7(Mon Aug 22 17:01:30 UTC 2022)\n",
       "(EPL source distribution)\n",
       "Java Runtime: OpenJDK Runtime Environment\n",
       "JVM: OpenJDK 64-Bit Server VM\n",
       "Default Encoding: UTF-8\n",
       "Language: en\n",
       "Country: null\n",
       "--></g></svg>"
      ]
     },
     "execution_count": 26,
     "metadata": {},
     "output_type": "execute_result"
    }
   ],
   "source": [
    "%viz --style=\"STDCOLOR\" --view=\"Interconnection\" \"ImportTest\""
   ]
  },
  {
   "cell_type": "code",
   "execution_count": 27,
   "id": "ac6f7310",
   "metadata": {
    "execution": {
     "iopub.execute_input": "2024-12-16T14:16:21.471809Z",
     "iopub.status.busy": "2024-12-16T14:16:21.471584Z",
     "iopub.status.idle": "2024-12-16T14:16:21.477728Z",
     "shell.execute_reply": "2024-12-16T14:16:21.477554Z"
    }
   },
   "outputs": [
    {
     "data": {
      "image/svg+xml": [
       "<?xml version=\"1.0\" encoding=\"UTF-8\" standalone=\"no\"?><svg xmlns=\"http://www.w3.org/2000/svg\" xmlns:xlink=\"http://www.w3.org/1999/xlink\" contentStyleType=\"text/css\" height=\"10px\" preserveAspectRatio=\"none\" style=\"width:10px;height:10px;background:#FFFFFF;\" version=\"1.1\" viewBox=\"0 0 10 10\" width=\"10px\" zoomAndPan=\"magnify\"><defs/><g><!--MD5=[f1e15a62785563bad28e840d677c8e75]\n",
       "@startuml\r\n",
       "skin sysmlc\r\n",
       "skinparam wrapWidth 300\r\n",
       "hide circle\r\n",
       "skinparam ranksep 8\r\n",
       "\r\n",
       "@enduml\r\n",
       "\n",
       "PlantUML version 1.2022.7(Mon Aug 22 17:01:30 UTC 2022)\n",
       "(EPL source distribution)\n",
       "Java Runtime: OpenJDK Runtime Environment\n",
       "JVM: OpenJDK 64-Bit Server VM\n",
       "Default Encoding: UTF-8\n",
       "Language: en\n",
       "Country: null\n",
       "--></g></svg>"
      ]
     },
     "execution_count": 27,
     "metadata": {},
     "output_type": "execute_result"
    }
   ],
   "source": [
    "%viz --style=\"STDCOLOR\" --view=\"Action\" \"ImportTest\""
   ]
  },
  {
   "cell_type": "code",
   "execution_count": 28,
   "id": "68694f1f",
   "metadata": {
    "execution": {
     "iopub.execute_input": "2024-12-16T14:16:21.528713Z",
     "iopub.status.busy": "2024-12-16T14:16:21.528486Z",
     "iopub.status.idle": "2024-12-16T14:16:21.535624Z",
     "shell.execute_reply": "2024-12-16T14:16:21.535432Z"
    }
   },
   "outputs": [
    {
     "data": {
      "image/svg+xml": [
       "<?xml version=\"1.0\" encoding=\"UTF-8\" standalone=\"no\"?><svg xmlns=\"http://www.w3.org/2000/svg\" xmlns:xlink=\"http://www.w3.org/1999/xlink\" contentStyleType=\"text/css\" height=\"10px\" preserveAspectRatio=\"none\" style=\"width:10px;height:10px;background:#FFFFFF;\" version=\"1.1\" viewBox=\"0 0 10 10\" width=\"10px\" zoomAndPan=\"magnify\"><defs/><g><!--MD5=[e54413e611bf323face5c486cd3a32bb]\n",
       "@startuml\r\n",
       "skin sysmlc\r\n",
       "skinparam wrapWidth 300\r\n",
       "hide circle\r\n",
       "skinparam roundcorner 20\r\n",
       "skinparam BoxPadding 20\r\n",
       "skinparam SequenceBoxBackgroundColor #white\r\n",
       "skinparam style strictuml\r\n",
       "skinparam maxMessageSize 100\r\n",
       "\r\n",
       "@enduml\r\n",
       "\n",
       "PlantUML version 1.2022.7(Mon Aug 22 17:01:30 UTC 2022)\n",
       "(EPL source distribution)\n",
       "Java Runtime: OpenJDK Runtime Environment\n",
       "JVM: OpenJDK 64-Bit Server VM\n",
       "Default Encoding: UTF-8\n",
       "Language: en\n",
       "Country: null\n",
       "--></g></svg>"
      ]
     },
     "execution_count": 28,
     "metadata": {},
     "output_type": "execute_result"
    }
   ],
   "source": [
    "%viz --style=\"STDCOLOR\" --view=\"Sequence\" \"ImportTest\""
   ]
  },
  {
   "cell_type": "code",
   "execution_count": 29,
   "id": "5f764ea0",
   "metadata": {
    "execution": {
     "iopub.execute_input": "2024-12-16T14:16:21.586872Z",
     "iopub.status.busy": "2024-12-16T14:16:21.586653Z",
     "iopub.status.idle": "2024-12-16T14:16:21.610711Z",
     "shell.execute_reply": "2024-12-16T14:16:21.609884Z"
    }
   },
   "outputs": [
    {
     "data": {
      "image/svg+xml": [
       "<?xml version=\"1.0\" encoding=\"UTF-8\" standalone=\"no\"?><svg xmlns=\"http://www.w3.org/2000/svg\" xmlns:xlink=\"http://www.w3.org/1999/xlink\" contentStyleType=\"text/css\" height=\"589px\" preserveAspectRatio=\"none\" style=\"width:517px;height:589px;background:#FFFFFF;\" version=\"1.1\" viewBox=\"0 0 517 589\" width=\"517px\" zoomAndPan=\"magnify\"><defs><filter height=\"300%\" id=\"fcux6foq505in\" width=\"300%\" x=\"-1\" y=\"-1\"><feGaussianBlur result=\"blurOut\" stdDeviation=\"2.0\"/><feColorMatrix in=\"blurOut\" result=\"blurOut2\" type=\"matrix\" values=\"0 0 0 0 0 0 0 0 0 0 0 0 0 0 0 0 0 0 .4 0\"/><feOffset dx=\"4.0\" dy=\"4.0\" in=\"blurOut2\" result=\"blurOut3\"/><feBlend in=\"SourceGraphic\" in2=\"blurOut3\" mode=\"normal\"/></filter></defs><g><!--MD5=[fbc87193dbaf4d95561dea2c320d4a47]\n",
       "cluster E1--><g id=\"cluster_E1\"><a href=\"psysml:257ae3bb-e982-4f23-93ec-21786cef6fd4\" target=\"_top\" title=\"psysml:257ae3bb-e982-4f23-93ec-21786cef6fd4\" xlink:actuate=\"onRequest\" xlink:href=\"psysml:257ae3bb-e982-4f23-93ec-21786cef6fd4\" xlink:show=\"new\" xlink:title=\"psysml:257ae3bb-e982-4f23-93ec-21786cef6fd4\" xlink:type=\"simple\"><polygon fill=\"none\" filter=\"url(#fcux6foq505in)\" points=\"16,6,101.375,6,108.375,28.2969,500,28.2969,500,582,16,582,16,6\" style=\"stroke:#000000;stroke-width:1.5;\"/><line style=\"stroke:#000000;stroke-width:1.5;\" x1=\"16\" x2=\"108.375\" y1=\"28.2969\" y2=\"28.2969\"/><text fill=\"#000000\" font-family=\"sans-serif\" font-size=\"14\" font-weight=\"bold\" lengthAdjust=\"spacing\" textLength=\"79.375\" x=\"20\" y=\"20.9951\">ImportTest</text></a></g><!--MD5=[e4f7fae6ed58524ba242bb0b0d3be6b7]\n",
       "cluster E2--><g id=\"cluster_E2\"><a href=\"psysml:d86f8a04-756e-41fe-890d-bee1afc1808f\" target=\"_top\" title=\"psysml:d86f8a04-756e-41fe-890d-bee1afc1808f\" xlink:actuate=\"onRequest\" xlink:href=\"psysml:d86f8a04-756e-41fe-890d-bee1afc1808f\" xlink:show=\"new\" xlink:title=\"psysml:d86f8a04-756e-41fe-890d-bee1afc1808f\" xlink:type=\"simple\"><polygon fill=\"none\" filter=\"url(#fcux6foq505in)\" points=\"210,57,252.75,57,259.75,79.2969,468,79.2969,468,172,210,172,210,57\" style=\"stroke:#000000;stroke-width:1.5;\"/><line style=\"stroke:#000000;stroke-width:1.5;\" x1=\"210\" x2=\"259.75\" y1=\"79.2969\" y2=\"79.2969\"/><text fill=\"#000000\" font-family=\"sans-serif\" font-size=\"14\" font-weight=\"bold\" lengthAdjust=\"spacing\" textLength=\"36.75\" x=\"214\" y=\"71.9951\">Pkg1</text></a></g><!--MD5=[de5ec2e2e8f62f467e546659f5068c88]\n",
       "cluster E5--><g id=\"cluster_E5\"><a href=\"psysml:87b5aefc-a384-45d2-9563-354f132d05b6\" target=\"_top\" title=\"psysml:87b5aefc-a384-45d2-9563-354f132d05b6\" xlink:actuate=\"onRequest\" xlink:href=\"psysml:87b5aefc-a384-45d2-9563-354f132d05b6\" xlink:show=\"new\" xlink:title=\"psysml:87b5aefc-a384-45d2-9563-354f132d05b6\" xlink:type=\"simple\"><polygon fill=\"none\" filter=\"url(#fcux6foq505in)\" points=\"121,237,163.75,237,170.75,259.2969,434,259.2969,434,550,121,550,121,237\" style=\"stroke:#000000;stroke-width:1.5;\"/><line style=\"stroke:#000000;stroke-width:1.5;\" x1=\"121\" x2=\"170.75\" y1=\"259.2969\" y2=\"259.2969\"/><text fill=\"#000000\" font-family=\"sans-serif\" font-size=\"14\" font-weight=\"bold\" lengthAdjust=\"spacing\" textLength=\"36.75\" x=\"125\" y=\"251.9951\">Pkg2</text></a></g><!--MD5=[14e3b0961a2654348d326746436168a1]\n",
       "cluster E6--><g id=\"cluster_E6\"><a href=\"psysml:74f758db-603d-4dff-97e1-05ce4d0c3ab8\" target=\"_top\" title=\"psysml:74f758db-603d-4dff-97e1-05ce4d0c3ab8\" xlink:actuate=\"onRequest\" xlink:href=\"psysml:74f758db-603d-4dff-97e1-05ce4d0c3ab8\" xlink:show=\"new\" xlink:title=\"psysml:74f758db-603d-4dff-97e1-05ce4d0c3ab8\" xlink:type=\"simple\"><polygon fill=\"none\" filter=\"url(#fcux6foq505in)\" points=\"161,296,213.1875,296,220.1875,318.2969,386,318.2969,386,510,161,510,161,296\" style=\"stroke:#000000;stroke-width:1.5;\"/><line style=\"stroke:#000000;stroke-width:1.5;\" x1=\"161\" x2=\"220.1875\" y1=\"318.2969\" y2=\"318.2969\"/><text fill=\"#000000\" font-family=\"sans-serif\" font-size=\"14\" font-weight=\"bold\" lengthAdjust=\"spacing\" textLength=\"46.1875\" x=\"165\" y=\"310.9951\">Pkg21</text></a></g><!--MD5=[168fadf3d0c3fd93dd5d6da1b1d7ab76]\n",
       "cluster E7--><g id=\"cluster_E7\"><a href=\"psysml:c9292eea-a9ed-4d7d-b554-73a415b23d76\" target=\"_top\" title=\"psysml:c9292eea-a9ed-4d7d-b554-73a415b23d76\" xlink:actuate=\"onRequest\" xlink:href=\"psysml:c9292eea-a9ed-4d7d-b554-73a415b23d76\" xlink:show=\"new\" xlink:title=\"psysml:c9292eea-a9ed-4d7d-b554-73a415b23d76\" xlink:type=\"simple\"><polygon fill=\"none\" filter=\"url(#fcux6foq505in)\" points=\"209,355,270.625,355,277.625,377.2969,346,377.2969,346,470,209,470,209,355\" style=\"stroke:#000000;stroke-width:1.5;\"/><line style=\"stroke:#000000;stroke-width:1.5;\" x1=\"209\" x2=\"277.625\" y1=\"377.2969\" y2=\"377.2969\"/><text fill=\"#000000\" font-family=\"sans-serif\" font-size=\"14\" font-weight=\"bold\" lengthAdjust=\"spacing\" textLength=\"55.625\" x=\"213\" y=\"369.9951\">Pkg211</text></a></g><!--MD5=[09b614a08d8cba4a07c9adeb5e0fee81]\n",
       "class E3--><a href=\"psysml:c9f16dae-c47d-4af9-8178-9fb29f2ca8fe\" target=\"_top\" title=\"psysml:c9f16dae-c47d-4af9-8178-9fb29f2ca8fe\" xlink:actuate=\"onRequest\" xlink:href=\"psysml:c9f16dae-c47d-4af9-8178-9fb29f2ca8fe\" xlink:show=\"new\" xlink:title=\"psysml:c9f16dae-c47d-4af9-8178-9fb29f2ca8fe\" xlink:type=\"simple\"><g id=\"elem_E3\"><rect fill=\"#FFFACD\" filter=\"url(#fcux6foq505in)\" height=\"48.2656\" id=\"E3\" rx=\"10\" ry=\"10\" style=\"stroke:#181818;stroke-width:0.5;\" width=\"86\" x=\"253\" y=\"100\"/><text fill=\"#000000\" font-family=\"sans-serif\" font-size=\"12\" font-style=\"italic\" lengthAdjust=\"spacing\" textLength=\"40\" x=\"276\" y=\"116.1387\">«part»</text><text fill=\"#000000\" font-family=\"sans-serif\" font-size=\"14\" lengthAdjust=\"spacing\" textLength=\"72\" x=\"256\" y=\"131.9639\">p11: P211</text><line style=\"stroke:#181818;stroke-width:0.5;\" x1=\"254\" x2=\"338\" y1=\"140.2656\" y2=\"140.2656\"/></g></a><!--MD5=[ebbe1d658d1005bcc118a6aa81145e00]\n",
       "class E4--><a href=\"psysml:5a85d6e7-c399-4e25-bc8b-7b1310ff596a\" target=\"_top\" title=\"psysml:5a85d6e7-c399-4e25-bc8b-7b1310ff596a\" xlink:actuate=\"onRequest\" xlink:href=\"psysml:5a85d6e7-c399-4e25-bc8b-7b1310ff596a\" xlink:show=\"new\" xlink:title=\"psysml:5a85d6e7-c399-4e25-bc8b-7b1310ff596a\" xlink:type=\"simple\"><g id=\"elem_E4\"><rect fill=\"#FFFACD\" filter=\"url(#fcux6foq505in)\" height=\"48.2656\" id=\"E4\" style=\"stroke:#181818;stroke-width:0.5;\" width=\"70\" x=\"374\" y=\"100\"/><text fill=\"#000000\" font-family=\"sans-serif\" font-size=\"12\" font-style=\"italic\" lengthAdjust=\"spacing\" textLength=\"68\" x=\"375\" y=\"116.1387\">«part  def»</text><text fill=\"#000000\" font-family=\"sans-serif\" font-size=\"14\" lengthAdjust=\"spacing\" textLength=\"27\" x=\"395.5\" y=\"131.9639\">P12</text><line style=\"stroke:#181818;stroke-width:0.5;\" x1=\"375\" x2=\"443\" y1=\"140.2656\" y2=\"140.2656\"/></g></a><!--MD5=[b9389687b975829384b498ac4b7476b2]\n",
       "class E8--><a href=\"psysml:60f2756c-cfe4-4496-b687-ff5dbf9a385d\" target=\"_top\" title=\"psysml:60f2756c-cfe4-4496-b687-ff5dbf9a385d\" xlink:actuate=\"onRequest\" xlink:href=\"psysml:60f2756c-cfe4-4496-b687-ff5dbf9a385d\" xlink:show=\"new\" xlink:title=\"psysml:60f2756c-cfe4-4496-b687-ff5dbf9a385d\" xlink:type=\"simple\"><g id=\"elem_E8\"><rect fill=\"#FFFACD\" filter=\"url(#fcux6foq505in)\" height=\"48.2656\" id=\"E8\" style=\"stroke:#181818;stroke-width:0.5;\" width=\"70\" x=\"252\" y=\"398\"/><text fill=\"#000000\" font-family=\"sans-serif\" font-size=\"12\" font-style=\"italic\" lengthAdjust=\"spacing\" textLength=\"68\" x=\"253\" y=\"414.1387\">«part  def»</text><text fill=\"#000000\" font-family=\"sans-serif\" font-size=\"14\" lengthAdjust=\"spacing\" textLength=\"36\" x=\"269\" y=\"429.9639\">P211</text><line style=\"stroke:#181818;stroke-width:0.5;\" x1=\"253\" x2=\"321\" y1=\"438.2656\" y2=\"438.2656\"/></g></a><!--MD5=[b0060bfdb0500b904584095522b4da3c]\n",
       "link E2 to E8--><g id=\"link_E2_E8\"><a href=\"psysml:7a09cf9a-4d44-4715-925a-a999429b18c6\" target=\"_top\" title=\"psysml:7a09cf9a-4d44-4715-925a-a999429b18c6\" xlink:actuate=\"onRequest\" xlink:href=\"psysml:7a09cf9a-4d44-4715-925a-a999429b18c6\" xlink:show=\"new\" xlink:title=\"psysml:7a09cf9a-4d44-4715-925a-a999429b18c6\" xlink:type=\"simple\"><path d=\"M226.4784,172.2619 C226.5244,172.3641 226.5707,172.4663 226.6172,172.5683 C226.9895,173.3846 227.3777,174.1934 227.7824,174.9929 C228.5919,176.5919 229.4675,178.1539 230.4147,179.6646 C232.3092,182.6861 234.49,185.5025 237,188 C245.87,196.83 256.01,186.37 264,196 C310.7,252.32 301.61,345.84 293.2,392.58 \" fill=\"none\" id=\"E2-to-E8\" style=\"stroke:#181818;stroke-width:1.0;stroke-dasharray:7.0,7.0;\"/><polygon fill=\"#181818\" points=\"292.23,397.77,297.8087,389.6535,293.1445,392.8543,289.9437,388.1902,292.23,397.77\" style=\"stroke:#181818;stroke-width:1.0;\"/><text fill=\"#000000\" font-family=\"sans-serif\" font-size=\"13\" lengthAdjust=\"spacing\" textLength=\"58\" x=\"275\" y=\"209.0669\">«import»</text></a></g><!--MD5=[e3e28c1befcf002155aa15e1416b4315]\n",
       "link E2 to E6--><g id=\"link_E2_E6\"><a href=\"psysml:4d48d5b8-8a2b-403b-a600-382befb1c751\" target=\"_top\" title=\"psysml:4d48d5b8-8a2b-403b-a600-382befb1c751\" xlink:actuate=\"onRequest\" xlink:href=\"psysml:4d48d5b8-8a2b-403b-a600-382befb1c751\" xlink:show=\"new\" xlink:title=\"psysml:4d48d5b8-8a2b-403b-a600-382befb1c751\" xlink:type=\"simple\"><path d=\"M209.7844,126.6885 C209.6745,126.7134 209.5637,126.7387 209.4519,126.7642 C209.0046,126.8663 208.5422,126.9732 208.065,127.085 C206.1563,127.532 204.0125,128.0567 201.6694,128.6645 C192.2969,131.0959 179.735,134.8581 166.2725,140.3037 C139.3475,151.195 108.82,168.82 93,196 C66.865,240.9 84.8675,296.1075 109.8912,340.5988 C122.4031,362.8444 136.6703,382.4109 148.0533,396.6705 C150.899,400.2354 153.5645,403.4685 155.9772,406.329 C157.1836,407.7592 158.3268,409.0962 159.3977,410.335 C159.9331,410.9543 160.4505,411.5491 160.9487,412.1186 \" fill=\"none\" id=\"E2-to-E6\" style=\"stroke:#181818;stroke-width:1.0;stroke-dasharray:7.0,7.0;\"/><polygon fill=\"#181818\" points=\"160.9487,412.1186,158.034,402.711,157.6568,408.3552,152.0125,407.9781,160.9487,412.1186\" style=\"stroke:#181818;stroke-width:1.0;\"/><text fill=\"#000000\" font-family=\"sans-serif\" font-size=\"13\" lengthAdjust=\"spacing\" textLength=\"65\" x=\"94\" y=\"209.0669\">«import»*</text></a></g><!--MD5=[e3d2a08a9c9236652057e8ed0cbc9b62]\n",
       "link E2 to E7--><g id=\"link_E2_E7\"><a href=\"psysml:435ffdce-fa99-42b8-aa7d-b79facf9bf9f\" target=\"_top\" title=\"psysml:435ffdce-fa99-42b8-aa7d-b79facf9bf9f\" xlink:actuate=\"onRequest\" xlink:href=\"psysml:435ffdce-fa99-42b8-aa7d-b79facf9bf9f\" xlink:show=\"new\" xlink:title=\"psysml:435ffdce-fa99-42b8-aa7d-b79facf9bf9f\" xlink:type=\"simple\"><path d=\"M209.9156,133.4819 C209.8545,133.5495 209.7932,133.6175 209.7316,133.6858 C209.239,134.2321 208.7304,134.801 208.2074,135.3916 C207.1616,136.5729 206.0584,137.8408 204.9115,139.188 C202.6178,141.8824 200.1494,144.8941 197.615,148.1638 C187.4775,161.2425 176.285,178.45 171,196 C168.82,203.23 166.18,207.18 171,213 C183.11,227.64 200.74,206.48 213,221 C227.115,237.715 228.305,286.425 225.8738,331.5863 C225.5698,337.2314 225.2094,342.8211 224.8105,348.2859 C224.7107,349.6522 224.6086,351.0106 224.5044,352.3601 C224.4522,353.0348 224.3996,353.7074 224.3464,354.3776 \" fill=\"none\" id=\"E2-to-E7\" style=\"stroke:#181818;stroke-width:1.0;stroke-dasharray:7.0,7.0;\"/><polygon fill=\"#181818\" points=\"224.3464,354.3776,229.0454,345.7219,224.7417,349.3932,221.0704,345.0895,224.3464,354.3776\" style=\"stroke:#181818;stroke-width:1.0;\"/><text fill=\"#000000\" font-family=\"sans-serif\" font-size=\"13\" lengthAdjust=\"spacing\" textLength=\"87\" x=\"172\" y=\"209.0669\">«import»*::**</text></a></g><!--MD5=[ca5a752d6098d8a44b3f88316e7452d1]\n",
       "link E3 to E8--><g id=\"link_E3_E8\"><a href=\"psysml:c2b3862a-e64c-4984-9133-ea986cde4555\" target=\"_top\" title=\"psysml:c2b3862a-e64c-4984-9133-ea986cde4555\" xlink:actuate=\"onRequest\" xlink:href=\"psysml:c2b3862a-e64c-4984-9133-ea986cde4555\" xlink:show=\"new\" xlink:title=\"psysml:c2b3862a-e64c-4984-9133-ea986cde4555\" xlink:type=\"simple\"><path d=\"M318.74,148.33 C338.26,168.43 363.38,194.46 364,196 C366.82,203.01 368.76,207.13 364,213 C353.13,226.4 338.11,208.71 326,221 C285.35,262.26 280.75,332.54 282.7,377.85 \" fill=\"none\" id=\"E3-to-E8\" style=\"stroke:#181818;stroke-width:1.0;\"/><polygon fill=\"#FFFFFF\" points=\"284.06,397.85,275.7871,379.3687,289.7548,378.4189,284.06,397.85\" style=\"stroke:#181818;stroke-width:1.0;\"/><ellipse cx=\"277.3957\" cy=\"373.5461\" fill=\"#181818\" rx=\"2\" ry=\"2\" style=\"stroke:#181818;stroke-width:1.0;\"/><ellipse cx=\"287.3727\" cy=\"372.8677\" fill=\"#181818\" rx=\"2\" ry=\"2\" style=\"stroke:#181818;stroke-width:1.0;\"/></a></g><!--MD5=[15ebcb19ae302d9b601edb458606d402]\n",
       "link E5 to E2--><g id=\"link_E5_E2\"><a href=\"psysml:2e43f05d-56e8-4995-94de-93836f9907a6\" target=\"_top\" title=\"psysml:2e43f05d-56e8-4995-94de-93836f9907a6\" xlink:actuate=\"onRequest\" xlink:href=\"psysml:2e43f05d-56e8-4995-94de-93836f9907a6\" xlink:show=\"new\" xlink:title=\"psysml:2e43f05d-56e8-4995-94de-93836f9907a6\" xlink:type=\"simple\"><path d=\"M378.9609,236.6531 C378.738,236.3074 378.5141,235.9625 378.2891,235.6183 C377.389,234.2417 376.472,232.8777 375.5377,231.5272 C373.669,228.8262 371.7312,226.1791 369.7216,223.5936 C361.6834,213.2516 352.4975,203.8938 342,196 C323.3,181.94 255.24,202.66 237,188 C234.24,185.7813 231.8698,183.1761 229.8356,180.3106 C228.8185,178.8779 227.8853,177.3801 227.0294,175.833 C226.6014,175.0595 226.1928,174.2736 225.8026,173.4773 C225.6075,173.0792 225.417,172.6785 225.231,172.2755 \" fill=\"none\" id=\"E5-to-E2\" style=\"stroke:#181818;stroke-width:1.0;stroke-dasharray:7.0,7.0;\"/><polygon fill=\"#181818\" points=\"225.231,172.2755,225.3696,182.1233,227.3258,176.8155,232.6337,178.7717,225.231,172.2755\" style=\"stroke:#181818;stroke-width:1.0;\"/><text fill=\"#000000\" font-family=\"sans-serif\" font-size=\"13\" lengthAdjust=\"spacing\" textLength=\"65\" x=\"357\" y=\"209.0669\">«import»*</text></a></g><!--MD5=[d7bb3fb34add81b710575eb3799fa2ad]\n",
       "link E8 to E4--><g id=\"link_E8_E4\"><a href=\"psysml:6ab4f965-70f0-4435-9c9c-0953ad10c713\" target=\"_top\" title=\"psysml:6ab4f965-70f0-4435-9c9c-0953ad10c713\" xlink:actuate=\"onRequest\" xlink:href=\"psysml:6ab4f965-70f0-4435-9c9c-0953ad10c713\" xlink:show=\"new\" xlink:title=\"psysml:6ab4f965-70f0-4435-9c9c-0953ad10c713\" xlink:type=\"simple\"><path d=\"M283.44,397.77 C278.41,355.31 274.86,265.44 326,221 C338.77,209.91 466.36,225.27 478,213 C494.05,196.08 479.84,175.66 460.24,158.75 \" fill=\"none\" id=\"E8-to-E4\" style=\"stroke:#181818;stroke-width:1.0;\"/><polygon fill=\"none\" points=\"455.75,164.13,444.23,146.35,464.32,153.06,455.75,164.13\" style=\"stroke:#181818;stroke-width:1.0;\"/></a></g><!--MD5=[32d64745663917a7e0774686630fb1f2]\n",
       "@startuml\r\n",
       "skin sysmlc\r\n",
       "skinparam wrapWidth 300\r\n",
       "hide circle\r\n",
       "\r\n",
       "package \"ImportTest\" as E1  [[psysml:257ae3bb-e982-4f23-93ec-21786cef6fd4 ]]  {\r\n",
       "package \"Pkg1\" as E2  [[psysml:d86f8a04-756e-41fe-890d-bee1afc1808f ]]  {\r\n",
       "comp usage \"p11: P211  \" as E3  <<(T,blue) part>> [[psysml:c9f16dae-c47d-4af9-8178-9fb29f2ca8fe ]] {\r\n",
       "}\r\n",
       "comp def \"P12\" as E4  <<(T,blue) part  def>> [[psysml:5a85d6e7-c399-4e25-bc8b-7b1310ff596a ]] {\r\n",
       "}\r\n",
       "}\r\n",
       "package \"Pkg2\" as E5  [[psysml:87b5aefc-a384-45d2-9563-354f132d05b6 ]]  {\r\n",
       "package \"Pkg21\" as E6  [[psysml:74f758db-603d-4dff-97e1-05ce4d0c3ab8 ]]  {\r\n",
       "package \"Pkg211\" as E7  [[psysml:c9292eea-a9ed-4d7d-b554-73a415b23d76 ]]  {\r\n",
       "comp def \"P211\" as E8  <<(T,blue) part  def>> [[psysml:60f2756c-cfe4-4496-b687-ff5dbf9a385d ]] {\r\n",
       "}\r\n",
       "}\r\n",
       "}\r\n",
       "}\r\n",
       "}\r\n",
       "E2 ..> E8 [[psysml:7a09cf9a-4d44-4715-925a-a999429b18c6 ]] : <<import>>\r\n",
       "E2 ..> E6 [[psysml:4d48d5b8-8a2b-403b-a600-382befb1c751 ]] : <<import>>*\r\n",
       "E2 ..> E7 [[psysml:435ffdce-fa99-42b8-aa7d-b79facf9bf9f ]] : <<import>>*::**\r\n",
       "E3 - -:|> E8 [[psysml:c2b3862a-e64c-4984-9133-ea986cde4555 ]] \r\n",
       "E5 ..> E2 [[psysml:2e43f05d-56e8-4995-94de-93836f9907a6 ]] : <<import>>*\r\n",
       "E8 - -|> E4 [[psysml:6ab4f965-70f0-4435-9c9c-0953ad10c713 ]] \r\n",
       "@enduml\r\n",
       "\n",
       "PlantUML version 1.2022.7(Mon Aug 22 17:01:30 UTC 2022)\n",
       "(EPL source distribution)\n",
       "Java Runtime: OpenJDK Runtime Environment\n",
       "JVM: OpenJDK 64-Bit Server VM\n",
       "Default Encoding: UTF-8\n",
       "Language: en\n",
       "Country: null\n",
       "--></g></svg>"
      ]
     },
     "execution_count": 29,
     "metadata": {},
     "output_type": "execute_result"
    }
   ],
   "source": [
    "%viz --style=\"STDCOLOR\" --view=\"MIXED\" \"ImportTest\""
   ]
  },
  {
   "cell_type": "code",
   "execution_count": 30,
   "id": "8d193858",
   "metadata": {
    "execution": {
     "iopub.execute_input": "2024-12-16T14:16:21.666988Z",
     "iopub.status.busy": "2024-12-16T14:16:21.666766Z",
     "iopub.status.idle": "2024-12-16T14:16:21.800700Z",
     "shell.execute_reply": "2024-12-16T14:16:21.800531Z"
    }
   },
   "outputs": [
    {
     "data": {
      "image/svg+xml": [
       "<?xml version=\"1.0\" encoding=\"UTF-8\" standalone=\"no\"?><svg xmlns=\"http://www.w3.org/2000/svg\" xmlns:xlink=\"http://www.w3.org/1999/xlink\" contentStyleType=\"text/css\" height=\"581px\" preserveAspectRatio=\"none\" style=\"width:497px;height:581px;background:#FFFFFF;\" version=\"1.1\" viewBox=\"0 0 497 581\" width=\"497px\" zoomAndPan=\"magnify\"><defs/><g><!--MD5=[fbc87193dbaf4d95561dea2c320d4a47]\n",
       "cluster E1--><g id=\"cluster_E1\"><a href=\"psysml:257ae3bb-e982-4f23-93ec-21786cef6fd4\" target=\"_top\" title=\"psysml:257ae3bb-e982-4f23-93ec-21786cef6fd4\" xlink:actuate=\"onRequest\" xlink:href=\"psysml:257ae3bb-e982-4f23-93ec-21786cef6fd4\" xlink:show=\"new\" xlink:title=\"psysml:257ae3bb-e982-4f23-93ec-21786cef6fd4\" xlink:type=\"simple\"><path d=\"M8.5,6 L88.875,6 A3.75,3.75 0 0 1 91.375,8.5 L98.375,28.2969 L487.5,28.2969 A2.5,2.5 0 0 1 490,30.7969 L490,571.5 A2.5,2.5 0 0 1 487.5,574 L8.5,574 A2.5,2.5 0 0 1 6,571.5 L6,8.5 A2.5,2.5 0 0 1 8.5,6 \" fill=\"none\" style=\"stroke:#000000;stroke-width:1.5;\"/><line style=\"stroke:#000000;stroke-width:1.5;\" x1=\"6\" x2=\"98.375\" y1=\"28.2969\" y2=\"28.2969\"/><text fill=\"#000000\" font-family=\"sans-serif\" font-size=\"14\" font-weight=\"bold\" lengthAdjust=\"spacing\" textLength=\"79.375\" x=\"10\" y=\"20.9951\">ImportTest</text></a></g><!--MD5=[e4f7fae6ed58524ba242bb0b0d3be6b7]\n",
       "cluster E2--><g id=\"cluster_E2\"><a href=\"psysml:d86f8a04-756e-41fe-890d-bee1afc1808f\" target=\"_top\" title=\"psysml:d86f8a04-756e-41fe-890d-bee1afc1808f\" xlink:actuate=\"onRequest\" xlink:href=\"psysml:d86f8a04-756e-41fe-890d-bee1afc1808f\" xlink:show=\"new\" xlink:title=\"psysml:d86f8a04-756e-41fe-890d-bee1afc1808f\" xlink:type=\"simple\"><path d=\"M186.5,57 L224.25,57 A3.75,3.75 0 0 1 226.75,59.5 L233.75,79.2969 L455.5,79.2969 A2.5,2.5 0 0 1 458,81.7969 L458,169.5 A2.5,2.5 0 0 1 455.5,172 L186.5,172 A2.5,2.5 0 0 1 184,169.5 L184,59.5 A2.5,2.5 0 0 1 186.5,57 \" fill=\"none\" style=\"stroke:#000000;stroke-width:1.5;\"/><line style=\"stroke:#000000;stroke-width:1.5;\" x1=\"184\" x2=\"233.75\" y1=\"79.2969\" y2=\"79.2969\"/><text fill=\"#000000\" font-family=\"sans-serif\" font-size=\"14\" font-weight=\"bold\" lengthAdjust=\"spacing\" textLength=\"36.75\" x=\"188\" y=\"71.9951\">Pkg1</text></a></g><!--MD5=[de5ec2e2e8f62f467e546659f5068c88]\n",
       "cluster E5--><g id=\"cluster_E5\"><a href=\"psysml:87b5aefc-a384-45d2-9563-354f132d05b6\" target=\"_top\" title=\"psysml:87b5aefc-a384-45d2-9563-354f132d05b6\" xlink:actuate=\"onRequest\" xlink:href=\"psysml:87b5aefc-a384-45d2-9563-354f132d05b6\" xlink:show=\"new\" xlink:title=\"psysml:87b5aefc-a384-45d2-9563-354f132d05b6\" xlink:type=\"simple\"><path d=\"M114.5,237 L152.25,237 A3.75,3.75 0 0 1 154.75,239.5 L161.75,259.2969 L420.5,259.2969 A2.5,2.5 0 0 1 423,261.7969 L423,539.5 A2.5,2.5 0 0 1 420.5,542 L114.5,542 A2.5,2.5 0 0 1 112,539.5 L112,239.5 A2.5,2.5 0 0 1 114.5,237 \" fill=\"none\" style=\"stroke:#000000;stroke-width:1.5;\"/><line style=\"stroke:#000000;stroke-width:1.5;\" x1=\"112\" x2=\"161.75\" y1=\"259.2969\" y2=\"259.2969\"/><text fill=\"#000000\" font-family=\"sans-serif\" font-size=\"14\" font-weight=\"bold\" lengthAdjust=\"spacing\" textLength=\"36.75\" x=\"116\" y=\"251.9951\">Pkg2</text></a></g><!--MD5=[14e3b0961a2654348d326746436168a1]\n",
       "cluster E6--><g id=\"cluster_E6\"><a href=\"psysml:74f758db-603d-4dff-97e1-05ce4d0c3ab8\" target=\"_top\" title=\"psysml:74f758db-603d-4dff-97e1-05ce4d0c3ab8\" xlink:actuate=\"onRequest\" xlink:href=\"psysml:74f758db-603d-4dff-97e1-05ce4d0c3ab8\" xlink:show=\"new\" xlink:title=\"psysml:74f758db-603d-4dff-97e1-05ce4d0c3ab8\" xlink:type=\"simple\"><path d=\"M154.5,296 L201.6875,296 A3.75,3.75 0 0 1 204.1875,298.5 L211.1875,318.2969 L372.5,318.2969 A2.5,2.5 0 0 1 375,320.7969 L375,499.5 A2.5,2.5 0 0 1 372.5,502 L154.5,502 A2.5,2.5 0 0 1 152,499.5 L152,298.5 A2.5,2.5 0 0 1 154.5,296 \" fill=\"none\" style=\"stroke:#000000;stroke-width:1.5;\"/><line style=\"stroke:#000000;stroke-width:1.5;\" x1=\"152\" x2=\"211.1875\" y1=\"318.2969\" y2=\"318.2969\"/><text fill=\"#000000\" font-family=\"sans-serif\" font-size=\"14\" font-weight=\"bold\" lengthAdjust=\"spacing\" textLength=\"46.1875\" x=\"156\" y=\"310.9951\">Pkg21</text></a></g><!--MD5=[168fadf3d0c3fd93dd5d6da1b1d7ab76]\n",
       "cluster E7--><g id=\"cluster_E7\"><a href=\"psysml:c9292eea-a9ed-4d7d-b554-73a415b23d76\" target=\"_top\" title=\"psysml:c9292eea-a9ed-4d7d-b554-73a415b23d76\" xlink:actuate=\"onRequest\" xlink:href=\"psysml:c9292eea-a9ed-4d7d-b554-73a415b23d76\" xlink:show=\"new\" xlink:title=\"psysml:c9292eea-a9ed-4d7d-b554-73a415b23d76\" xlink:type=\"simple\"><path d=\"M202.5,355 L259.125,355 A3.75,3.75 0 0 1 261.625,357.5 L268.625,377.2969 L332.5,377.2969 A2.5,2.5 0 0 1 335,379.7969 L335,459.5 A2.5,2.5 0 0 1 332.5,462 L202.5,462 A2.5,2.5 0 0 1 200,459.5 L200,357.5 A2.5,2.5 0 0 1 202.5,355 \" fill=\"none\" style=\"stroke:#000000;stroke-width:1.5;\"/><line style=\"stroke:#000000;stroke-width:1.5;\" x1=\"200\" x2=\"268.625\" y1=\"377.2969\" y2=\"377.2969\"/><text fill=\"#000000\" font-family=\"sans-serif\" font-size=\"14\" font-weight=\"bold\" lengthAdjust=\"spacing\" textLength=\"55.625\" x=\"204\" y=\"369.9951\">Pkg211</text></a></g><!--MD5=[09b614a08d8cba4a07c9adeb5e0fee81]\n",
       "class E3--><a href=\"psysml:c9f16dae-c47d-4af9-8178-9fb29f2ca8fe\" target=\"_top\" title=\"psysml:c9f16dae-c47d-4af9-8178-9fb29f2ca8fe\" xlink:actuate=\"onRequest\" xlink:href=\"psysml:c9f16dae-c47d-4af9-8178-9fb29f2ca8fe\" xlink:show=\"new\" xlink:title=\"psysml:c9f16dae-c47d-4af9-8178-9fb29f2ca8fe\" xlink:type=\"simple\"><g id=\"elem_E3\"><rect fill=\"#F1F1F1\" height=\"48.2656\" id=\"E3\" rx=\"10\" ry=\"10\" style=\"stroke:#181818;stroke-width:0.5;\" width=\"112\" x=\"227\" y=\"100\"/><ellipse cx=\"242\" cy=\"120.1328\" fill=\"#32CD32\" rx=\"11\" ry=\"11\" style=\"stroke:#181818;stroke-width:1.0;\"/><path d=\"M238.8594,126.6328 L238.8594,114.4922 L242.8906,114.4922 Q244.9844,114.4922 246,115.4766 Q247.0156,116.4453 247.0156,118.2734 Q247.0156,119.4766 246.5781,120.3828 Q246.1563,121.2891 245.2031,121.8047 Q244.2656,122.3203 242.7344,122.3203 L241.2344,122.3203 L241.2344,126.6328 L238.8594,126.6328 Z M242.4844,120.2266 Q243.5313,120.2266 244.0469,119.7422 Q244.5781,119.2578 244.5781,118.3672 Q244.5781,117.4766 244.1406,117.0391 Q243.7188,116.5859 242.7969,116.5859 L241.2344,116.5859 L241.2344,120.2266 L242.4844,120.2266 Z \" fill=\"#000000\"/><text fill=\"#000000\" font-family=\"sans-serif\" font-size=\"12\" font-style=\"italic\" lengthAdjust=\"spacing\" textLength=\"40\" x=\"276\" y=\"116.1387\">«part»</text><text fill=\"#000000\" font-family=\"sans-serif\" font-size=\"14\" lengthAdjust=\"spacing\" textLength=\"72\" x=\"256\" y=\"131.9639\">p11: P211</text><line style=\"stroke:#181818;stroke-width:0.5;\" x1=\"228\" x2=\"338\" y1=\"140.2656\" y2=\"140.2656\"/></g></a><!--MD5=[ebbe1d658d1005bcc118a6aa81145e00]\n",
       "class E4--><a href=\"psysml:5a85d6e7-c399-4e25-bc8b-7b1310ff596a\" target=\"_top\" title=\"psysml:5a85d6e7-c399-4e25-bc8b-7b1310ff596a\" xlink:actuate=\"onRequest\" xlink:href=\"psysml:5a85d6e7-c399-4e25-bc8b-7b1310ff596a\" xlink:show=\"new\" xlink:title=\"psysml:5a85d6e7-c399-4e25-bc8b-7b1310ff596a\" xlink:type=\"simple\"><g id=\"elem_E4\"><rect fill=\"#F1F1F1\" height=\"40\" id=\"E4\" rx=\"2.5\" ry=\"2.5\" style=\"stroke:#181818;stroke-width:0.5;\" width=\"59\" x=\"374.5\" y=\"104\"/><ellipse cx=\"389.5\" cy=\"120\" fill=\"#008000\" rx=\"11\" ry=\"11\" style=\"stroke:#181818;stroke-width:1.0;\"/><path d=\"M386.3594,126.5 L386.3594,114.3594 L390.1563,114.3594 Q392.1563,114.3594 393.2031,115.0625 Q394.2656,115.7656 394.2656,117.3438 Q394.2656,118.4375 393.7656,119.1563 Q393.2813,119.875 392.4531,120.0625 L392.4531,120.1406 Q393.375,120.3594 393.9375,121.0313 Q394.5156,121.6875 394.5156,122.9531 Q394.5156,124.6094 393.4688,125.5625 Q392.4219,126.5 390.5625,126.5 L386.3594,126.5 Z M390.1406,119.1406 Q391.0313,119.1406 391.3906,118.8125 Q391.7656,118.4688 391.7656,117.7656 Q391.7656,117.0313 391.375,116.7188 Q390.9844,116.3906 390.0469,116.3906 L388.6563,116.3906 L388.6563,119.1406 L390.1406,119.1406 Z M390.3281,124.4844 Q391.2344,124.4844 391.5938,124.0469 Q391.9531,123.5938 391.9531,122.8125 Q391.9531,122.0313 391.5781,121.6406 Q391.2188,121.2344 390.2344,121.2344 L388.6563,121.2344 L388.6563,124.4844 L390.3281,124.4844 Z \" fill=\"#000000\"/><text fill=\"#000000\" font-family=\"sans-serif\" font-size=\"14\" lengthAdjust=\"spacing\" textLength=\"27\" x=\"403.5\" y=\"124.8467\">P12</text><line style=\"stroke:#181818;stroke-width:0.5;\" x1=\"375.5\" x2=\"432.5\" y1=\"136\" y2=\"136\"/></g></a><!--MD5=[b9389687b975829384b498ac4b7476b2]\n",
       "class E8--><a href=\"psysml:60f2756c-cfe4-4496-b687-ff5dbf9a385d\" target=\"_top\" title=\"psysml:60f2756c-cfe4-4496-b687-ff5dbf9a385d\" xlink:actuate=\"onRequest\" xlink:href=\"psysml:60f2756c-cfe4-4496-b687-ff5dbf9a385d\" xlink:show=\"new\" xlink:title=\"psysml:60f2756c-cfe4-4496-b687-ff5dbf9a385d\" xlink:type=\"simple\"><g id=\"elem_E8\"><rect fill=\"#F1F1F1\" height=\"40\" id=\"E8\" rx=\"2.5\" ry=\"2.5\" style=\"stroke:#181818;stroke-width:0.5;\" width=\"68\" x=\"243\" y=\"398\"/><ellipse cx=\"258\" cy=\"414\" fill=\"#008000\" rx=\"11\" ry=\"11\" style=\"stroke:#181818;stroke-width:1.0;\"/><path d=\"M254.8594,420.5 L254.8594,408.3594 L258.6563,408.3594 Q260.6563,408.3594 261.7031,409.0625 Q262.7656,409.7656 262.7656,411.3438 Q262.7656,412.4375 262.2656,413.1563 Q261.7813,413.875 260.9531,414.0625 L260.9531,414.1406 Q261.875,414.3594 262.4375,415.0313 Q263.0156,415.6875 263.0156,416.9531 Q263.0156,418.6094 261.9688,419.5625 Q260.9219,420.5 259.0625,420.5 L254.8594,420.5 Z M258.6406,413.1406 Q259.5313,413.1406 259.8906,412.8125 Q260.2656,412.4688 260.2656,411.7656 Q260.2656,411.0313 259.875,410.7188 Q259.4844,410.3906 258.5469,410.3906 L257.1563,410.3906 L257.1563,413.1406 L258.6406,413.1406 Z M258.8281,418.4844 Q259.7344,418.4844 260.0938,418.0469 Q260.4531,417.5938 260.4531,416.8125 Q260.4531,416.0313 260.0781,415.6406 Q259.7188,415.2344 258.7344,415.2344 L257.1563,415.2344 L257.1563,418.4844 L258.8281,418.4844 Z \" fill=\"#000000\"/><text fill=\"#000000\" font-family=\"sans-serif\" font-size=\"14\" lengthAdjust=\"spacing\" textLength=\"36\" x=\"272\" y=\"418.8467\">P211</text><line style=\"stroke:#181818;stroke-width:0.5;\" x1=\"244\" x2=\"310\" y1=\"430\" y2=\"430\"/></g></a><!--MD5=[b0060bfdb0500b904584095522b4da3c]\n",
       "link E2 to E8--><g id=\"link_E2_E8\"><a href=\"psysml:7a09cf9a-4d44-4715-925a-a999429b18c6\" target=\"_top\" title=\"psysml:7a09cf9a-4d44-4715-925a-a999429b18c6\" xlink:actuate=\"onRequest\" xlink:href=\"psysml:7a09cf9a-4d44-4715-925a-a999429b18c6\" xlink:show=\"new\" xlink:title=\"psysml:7a09cf9a-4d44-4715-925a-a999429b18c6\" xlink:type=\"simple\"><path d=\"M199.7841,172.0926 C199.8301,172.1942 199.8765,172.2957 199.9231,172.3971 C200.0163,172.5998 200.1105,172.8021 200.2058,173.0037 C200.5872,173.8104 200.9857,174.6083 201.4021,175.3954 C202.2351,176.9696 203.1398,178.5009 204.1223,179.9743 C206.0873,182.9211 208.3637,185.6363 211,188 C225.47,200.98 240.82,181.71 254,196 C304.25,250.46 292.04,347.63 282.81,392.74 \" fill=\"none\" id=\"E2-to-E8\" style=\"stroke:#181818;stroke-width:1.0;stroke-dasharray:7.0,7.0;\"/><polygon fill=\"#181818\" points=\"281.76,397.72,287.5283,389.7371,282.7901,392.8273,279.6999,388.089,281.76,397.72\" style=\"stroke:#181818;stroke-width:1.0;\"/><text fill=\"#000000\" font-family=\"sans-serif\" font-size=\"13\" lengthAdjust=\"spacing\" textLength=\"58\" x=\"265\" y=\"209.0669\">«import»</text></a></g><!--MD5=[e3e28c1befcf002155aa15e1416b4315]\n",
       "link E2 to E6--><g id=\"link_E2_E6\"><a href=\"psysml:4d48d5b8-8a2b-403b-a600-382befb1c751\" target=\"_top\" title=\"psysml:4d48d5b8-8a2b-403b-a600-382befb1c751\" xlink:actuate=\"onRequest\" xlink:href=\"psysml:4d48d5b8-8a2b-403b-a600-382befb1c751\" xlink:show=\"new\" xlink:title=\"psysml:4d48d5b8-8a2b-403b-a600-382befb1c751\" xlink:type=\"simple\"><path d=\"M183.9382,127.1266 C183.835,127.1562 183.7309,127.1861 183.6261,127.2163 C183.4163,127.2767 183.2032,127.3385 182.9867,127.4015 C181.2548,127.9056 179.3098,128.4925 177.1844,129.1652 C168.6825,131.8559 157.2925,135.9206 145.1,141.5638 C120.715,152.85 93.12,170.45 79,196 C54.095,241.065 73.3275,295.305 99.2825,338.7725 C112.26,360.5063 126.9181,379.5469 138.58,393.4009 C141.4955,396.8645 144.2237,400.0038 146.6915,402.78 C147.9255,404.1682 149.0943,405.4655 150.1889,406.6672 C150.7362,407.268 151.265,407.845 151.7741,408.3974 \" fill=\"none\" id=\"E2-to-E6\" style=\"stroke:#181818;stroke-width:1.0;stroke-dasharray:7.0,7.0;\"/><polygon fill=\"#181818\" points=\"151.7741,408.3974,148.6166,399.0684,148.3857,404.7205,142.7336,404.4897,151.7741,408.3974\" style=\"stroke:#181818;stroke-width:1.0;\"/><text fill=\"#000000\" font-family=\"sans-serif\" font-size=\"13\" lengthAdjust=\"spacing\" textLength=\"65\" x=\"80\" y=\"209.0669\">«import»*</text></a></g><!--MD5=[e3d2a08a9c9236652057e8ed0cbc9b62]\n",
       "link E2 to E7--><g id=\"link_E2_E7\"><a href=\"psysml:435ffdce-fa99-42b8-aa7d-b79facf9bf9f\" target=\"_top\" title=\"psysml:435ffdce-fa99-42b8-aa7d-b79facf9bf9f\" xlink:actuate=\"onRequest\" xlink:href=\"psysml:435ffdce-fa99-42b8-aa7d-b79facf9bf9f\" xlink:show=\"new\" xlink:title=\"psysml:435ffdce-fa99-42b8-aa7d-b79facf9bf9f\" xlink:type=\"simple\"><path d=\"M183.8365,133.7963 C183.2431,134.4787 182.6285,135.1946 181.9967,135.9417 C176.9422,141.9191 170.7844,149.8994 165.5338,158.7413 C155.0325,176.425 148.16,197.555 161,213 C173.42,227.95 191.42,206.18 204,221 C217.875,237.35 219.06,285.085 216.6863,329.35 C216.3895,334.8831 216.0372,340.362 215.6471,345.7186 C215.4521,348.3969 215.2476,351.0447 215.0359,353.6533 C215.0094,353.9794 214.9828,354.3049 214.9561,354.6297 \" fill=\"none\" id=\"E2-to-E7\" style=\"stroke:#181818;stroke-width:1.0;stroke-dasharray:7.0,7.0;\"/><polygon fill=\"#181818\" points=\"214.9561,354.6297,219.6795,345.9874,215.3655,349.6465,211.7064,345.3325,214.9561,354.6297\" style=\"stroke:#181818;stroke-width:1.0;\"/><text fill=\"#000000\" font-family=\"sans-serif\" font-size=\"13\" lengthAdjust=\"spacing\" textLength=\"87\" x=\"162\" y=\"209.0669\">«import»*::**</text></a></g><!--MD5=[ca5a752d6098d8a44b3f88316e7452d1]\n",
       "link E3 to E8--><g id=\"link_E3_E8\"><a href=\"psysml:c2b3862a-e64c-4984-9133-ea986cde4555\" target=\"_top\" title=\"psysml:c2b3862a-e64c-4984-9133-ea986cde4555\" xlink:actuate=\"onRequest\" xlink:href=\"psysml:c2b3862a-e64c-4984-9133-ea986cde4555\" xlink:show=\"new\" xlink:title=\"psysml:c2b3862a-e64c-4984-9133-ea986cde4555\" xlink:type=\"simple\"><path d=\"M315.79,148.08 C330.43,160.43 346.13,177 354,196 C356.89,202.98 358.78,207.15 354,213 C342.82,226.71 327.44,208.42 315,221 C274.22,262.22 270.51,333.27 272.84,377.55 \" fill=\"none\" id=\"E3-to-E8\" style=\"stroke:#181818;stroke-width:1.0;\"/><polygon fill=\"#FFFFFF\" points=\"274.41,397.71,265.9522,379.3126,279.9097,378.2228,274.41,397.71\" style=\"stroke:#181818;stroke-width:1.0;\"/><ellipse cx=\"267.5024\" cy=\"373.4742\" fill=\"#181818\" rx=\"2\" ry=\"2\" style=\"stroke:#181818;stroke-width:1.0;\"/><ellipse cx=\"277.4721\" cy=\"372.6957\" fill=\"#181818\" rx=\"2\" ry=\"2\" style=\"stroke:#181818;stroke-width:1.0;\"/></a></g><!--MD5=[15ebcb19ae302d9b601edb458606d402]\n",
       "link E5 to E2--><g id=\"link_E5_E2\"><a href=\"psysml:2e43f05d-56e8-4995-94de-93836f9907a6\" target=\"_top\" title=\"psysml:2e43f05d-56e8-4995-94de-93836f9907a6\" xlink:actuate=\"onRequest\" xlink:href=\"psysml:2e43f05d-56e8-4995-94de-93836f9907a6\" xlink:show=\"new\" xlink:title=\"psysml:2e43f05d-56e8-4995-94de-93836f9907a6\" xlink:type=\"simple\"><path d=\"M369.1567,236.7876 C368.7205,236.1068 368.2802,235.4291 367.8358,234.7544 C366.9468,233.4052 366.0411,232.0685 365.1183,230.7451 C363.2728,228.0985 361.3589,225.5056 359.3743,222.9738 C351.4359,212.8467 342.365,203.6975 332,196 C310.37,179.93 232.09,204.78 211,188 C208.2288,185.795 205.85,183.2002 203.8093,180.3422 C202.789,178.9133 201.8532,177.4185 200.9951,175.8739 C200.5661,175.1015 200.1564,174.3167 199.7654,173.5214 C199.5699,173.1237 199.379,172.7235 199.1927,172.3208 C199.1461,172.2201 199.0998,172.1193 199.0538,172.0184 \" fill=\"none\" id=\"E5-to-E2\" style=\"stroke:#181818;stroke-width:1.0;stroke-dasharray:7.0,7.0;\"/><polygon fill=\"#181818\" points=\"199.0538,172.0184,199.1469,181.8668,201.1276,176.568,206.4263,178.5487,199.0538,172.0184\" style=\"stroke:#181818;stroke-width:1.0;\"/><text fill=\"#000000\" font-family=\"sans-serif\" font-size=\"13\" lengthAdjust=\"spacing\" textLength=\"65\" x=\"351\" y=\"209.0669\">«import»*</text></a></g><!--MD5=[d7bb3fb34add81b710575eb3799fa2ad]\n",
       "link E8 to E4--><g id=\"link_E8_E4\"><a href=\"psysml:6ab4f965-70f0-4435-9c9c-0953ad10c713\" target=\"_top\" title=\"psysml:6ab4f965-70f0-4435-9c9c-0953ad10c713\" xlink:actuate=\"onRequest\" xlink:href=\"psysml:6ab4f965-70f0-4435-9c9c-0953ad10c713\" xlink:show=\"new\" xlink:title=\"psysml:6ab4f965-70f0-4435-9c9c-0953ad10c713\" xlink:type=\"simple\"><path d=\"M273.91,397.71 C268.75,357.72 263.47,265.81 315,221 C327.85,209.83 456.28,225.35 468,213 C484.4,195.72 469.12,174.12 449.39,156.64 \" fill=\"none\" id=\"E8-to-E4\" style=\"stroke:#181818;stroke-width:1.0;\"/><polygon fill=\"none\" points=\"444.76,161.9,433.51,143.94,453.5,150.97,444.76,161.9\" style=\"stroke:#181818;stroke-width:1.0;\"/></a></g><!--MD5=[6d14db8220a1aa0c33ce25af267a17ce]\n",
       "@startuml\r\n",
       " \r\n",
       "package \"ImportTest\" as E1  [[psysml:257ae3bb-e982-4f23-93ec-21786cef6fd4 ]]  {\r\n",
       "package \"Pkg1\" as E2  [[psysml:d86f8a04-756e-41fe-890d-bee1afc1808f ]]  {\r\n",
       "comp usage \"p11: P211  \" as E3  << << (P,limegreen) part>> [[psysml:c9f16dae-c47d-4af9-8178-9fb29f2ca8fe ]] {\r\n",
       "}\r\n",
       "comp def \"P12\" as E4  << << (B,green) >> [[psysml:5a85d6e7-c399-4e25-bc8b-7b1310ff596a ]] {\r\n",
       "}\r\n",
       "}\r\n",
       "package \"Pkg2\" as E5  [[psysml:87b5aefc-a384-45d2-9563-354f132d05b6 ]]  {\r\n",
       "package \"Pkg21\" as E6  [[psysml:74f758db-603d-4dff-97e1-05ce4d0c3ab8 ]]  {\r\n",
       "package \"Pkg211\" as E7  [[psysml:c9292eea-a9ed-4d7d-b554-73a415b23d76 ]]  {\r\n",
       "comp def \"P211\" as E8  << << (B,green) >> [[psysml:60f2756c-cfe4-4496-b687-ff5dbf9a385d ]] {\r\n",
       "}\r\n",
       "}\r\n",
       "}\r\n",
       "}\r\n",
       "}\r\n",
       "E2 ..> E8 [[psysml:7a09cf9a-4d44-4715-925a-a999429b18c6 ]] : <<import>>\r\n",
       "E2 ..> E6 [[psysml:4d48d5b8-8a2b-403b-a600-382befb1c751 ]] : <<import>>*\r\n",
       "E2 ..> E7 [[psysml:435ffdce-fa99-42b8-aa7d-b79facf9bf9f ]] : <<import>>*::**\r\n",
       "E3 - -:|> E8 [[psysml:c2b3862a-e64c-4984-9133-ea986cde4555 ]] \r\n",
       "E5 ..> E2 [[psysml:2e43f05d-56e8-4995-94de-93836f9907a6 ]] : <<import>>*\r\n",
       "E8 - -|> E4 [[psysml:6ab4f965-70f0-4435-9c9c-0953ad10c713 ]] \r\n",
       "@enduml\r\n",
       "\n",
       "PlantUML version 1.2022.7(Mon Aug 22 17:01:30 UTC 2022)\n",
       "(EPL source distribution)\n",
       "Java Runtime: OpenJDK Runtime Environment\n",
       "JVM: OpenJDK 64-Bit Server VM\n",
       "Default Encoding: UTF-8\n",
       "Language: en\n",
       "Country: null\n",
       "--></g></svg>"
      ]
     },
     "execution_count": 30,
     "metadata": {},
     "output_type": "execute_result"
    }
   ],
   "source": [
    "%viz --style=\"PLANTUML\" --view=\"Default\" \"ImportTest\""
   ]
  },
  {
   "cell_type": "code",
   "execution_count": 31,
   "id": "8d0b1344",
   "metadata": {
    "execution": {
     "iopub.execute_input": "2024-12-16T14:16:21.855679Z",
     "iopub.status.busy": "2024-12-16T14:16:21.855457Z",
     "iopub.status.idle": "2024-12-16T14:16:21.882575Z",
     "shell.execute_reply": "2024-12-16T14:16:21.882407Z"
    }
   },
   "outputs": [
    {
     "data": {
      "image/svg+xml": [
       "<?xml version=\"1.0\" encoding=\"UTF-8\" standalone=\"no\"?><svg xmlns=\"http://www.w3.org/2000/svg\" xmlns:xlink=\"http://www.w3.org/1999/xlink\" contentStyleType=\"text/css\" height=\"581px\" preserveAspectRatio=\"none\" style=\"width:497px;height:581px;background:#FFFFFF;\" version=\"1.1\" viewBox=\"0 0 497 581\" width=\"497px\" zoomAndPan=\"magnify\"><defs/><g><!--MD5=[fbc87193dbaf4d95561dea2c320d4a47]\n",
       "cluster E1--><g id=\"cluster_E1\"><a href=\"psysml:257ae3bb-e982-4f23-93ec-21786cef6fd4\" target=\"_top\" title=\"psysml:257ae3bb-e982-4f23-93ec-21786cef6fd4\" xlink:actuate=\"onRequest\" xlink:href=\"psysml:257ae3bb-e982-4f23-93ec-21786cef6fd4\" xlink:show=\"new\" xlink:title=\"psysml:257ae3bb-e982-4f23-93ec-21786cef6fd4\" xlink:type=\"simple\"><path d=\"M8.5,6 L88.875,6 A3.75,3.75 0 0 1 91.375,8.5 L98.375,28.2969 L487.5,28.2969 A2.5,2.5 0 0 1 490,30.7969 L490,571.5 A2.5,2.5 0 0 1 487.5,574 L8.5,574 A2.5,2.5 0 0 1 6,571.5 L6,8.5 A2.5,2.5 0 0 1 8.5,6 \" fill=\"none\" style=\"stroke:#000000;stroke-width:1.5;\"/><line style=\"stroke:#000000;stroke-width:1.5;\" x1=\"6\" x2=\"98.375\" y1=\"28.2969\" y2=\"28.2969\"/><text fill=\"#000000\" font-family=\"sans-serif\" font-size=\"14\" font-weight=\"bold\" lengthAdjust=\"spacing\" textLength=\"79.375\" x=\"10\" y=\"20.9951\">ImportTest</text></a></g><!--MD5=[e4f7fae6ed58524ba242bb0b0d3be6b7]\n",
       "cluster E2--><g id=\"cluster_E2\"><a href=\"psysml:d86f8a04-756e-41fe-890d-bee1afc1808f\" target=\"_top\" title=\"psysml:d86f8a04-756e-41fe-890d-bee1afc1808f\" xlink:actuate=\"onRequest\" xlink:href=\"psysml:d86f8a04-756e-41fe-890d-bee1afc1808f\" xlink:show=\"new\" xlink:title=\"psysml:d86f8a04-756e-41fe-890d-bee1afc1808f\" xlink:type=\"simple\"><path d=\"M186.5,57 L224.25,57 A3.75,3.75 0 0 1 226.75,59.5 L233.75,79.2969 L455.5,79.2969 A2.5,2.5 0 0 1 458,81.7969 L458,169.5 A2.5,2.5 0 0 1 455.5,172 L186.5,172 A2.5,2.5 0 0 1 184,169.5 L184,59.5 A2.5,2.5 0 0 1 186.5,57 \" fill=\"none\" style=\"stroke:#000000;stroke-width:1.5;\"/><line style=\"stroke:#000000;stroke-width:1.5;\" x1=\"184\" x2=\"233.75\" y1=\"79.2969\" y2=\"79.2969\"/><text fill=\"#000000\" font-family=\"sans-serif\" font-size=\"14\" font-weight=\"bold\" lengthAdjust=\"spacing\" textLength=\"36.75\" x=\"188\" y=\"71.9951\">Pkg1</text></a></g><!--MD5=[de5ec2e2e8f62f467e546659f5068c88]\n",
       "cluster E5--><g id=\"cluster_E5\"><a href=\"psysml:87b5aefc-a384-45d2-9563-354f132d05b6\" target=\"_top\" title=\"psysml:87b5aefc-a384-45d2-9563-354f132d05b6\" xlink:actuate=\"onRequest\" xlink:href=\"psysml:87b5aefc-a384-45d2-9563-354f132d05b6\" xlink:show=\"new\" xlink:title=\"psysml:87b5aefc-a384-45d2-9563-354f132d05b6\" xlink:type=\"simple\"><path d=\"M114.5,237 L152.25,237 A3.75,3.75 0 0 1 154.75,239.5 L161.75,259.2969 L420.5,259.2969 A2.5,2.5 0 0 1 423,261.7969 L423,539.5 A2.5,2.5 0 0 1 420.5,542 L114.5,542 A2.5,2.5 0 0 1 112,539.5 L112,239.5 A2.5,2.5 0 0 1 114.5,237 \" fill=\"none\" style=\"stroke:#000000;stroke-width:1.5;\"/><line style=\"stroke:#000000;stroke-width:1.5;\" x1=\"112\" x2=\"161.75\" y1=\"259.2969\" y2=\"259.2969\"/><text fill=\"#000000\" font-family=\"sans-serif\" font-size=\"14\" font-weight=\"bold\" lengthAdjust=\"spacing\" textLength=\"36.75\" x=\"116\" y=\"251.9951\">Pkg2</text></a></g><!--MD5=[14e3b0961a2654348d326746436168a1]\n",
       "cluster E6--><g id=\"cluster_E6\"><a href=\"psysml:74f758db-603d-4dff-97e1-05ce4d0c3ab8\" target=\"_top\" title=\"psysml:74f758db-603d-4dff-97e1-05ce4d0c3ab8\" xlink:actuate=\"onRequest\" xlink:href=\"psysml:74f758db-603d-4dff-97e1-05ce4d0c3ab8\" xlink:show=\"new\" xlink:title=\"psysml:74f758db-603d-4dff-97e1-05ce4d0c3ab8\" xlink:type=\"simple\"><path d=\"M154.5,296 L201.6875,296 A3.75,3.75 0 0 1 204.1875,298.5 L211.1875,318.2969 L372.5,318.2969 A2.5,2.5 0 0 1 375,320.7969 L375,499.5 A2.5,2.5 0 0 1 372.5,502 L154.5,502 A2.5,2.5 0 0 1 152,499.5 L152,298.5 A2.5,2.5 0 0 1 154.5,296 \" fill=\"none\" style=\"stroke:#000000;stroke-width:1.5;\"/><line style=\"stroke:#000000;stroke-width:1.5;\" x1=\"152\" x2=\"211.1875\" y1=\"318.2969\" y2=\"318.2969\"/><text fill=\"#000000\" font-family=\"sans-serif\" font-size=\"14\" font-weight=\"bold\" lengthAdjust=\"spacing\" textLength=\"46.1875\" x=\"156\" y=\"310.9951\">Pkg21</text></a></g><!--MD5=[168fadf3d0c3fd93dd5d6da1b1d7ab76]\n",
       "cluster E7--><g id=\"cluster_E7\"><a href=\"psysml:c9292eea-a9ed-4d7d-b554-73a415b23d76\" target=\"_top\" title=\"psysml:c9292eea-a9ed-4d7d-b554-73a415b23d76\" xlink:actuate=\"onRequest\" xlink:href=\"psysml:c9292eea-a9ed-4d7d-b554-73a415b23d76\" xlink:show=\"new\" xlink:title=\"psysml:c9292eea-a9ed-4d7d-b554-73a415b23d76\" xlink:type=\"simple\"><path d=\"M202.5,355 L259.125,355 A3.75,3.75 0 0 1 261.625,357.5 L268.625,377.2969 L332.5,377.2969 A2.5,2.5 0 0 1 335,379.7969 L335,459.5 A2.5,2.5 0 0 1 332.5,462 L202.5,462 A2.5,2.5 0 0 1 200,459.5 L200,357.5 A2.5,2.5 0 0 1 202.5,355 \" fill=\"none\" style=\"stroke:#000000;stroke-width:1.5;\"/><line style=\"stroke:#000000;stroke-width:1.5;\" x1=\"200\" x2=\"268.625\" y1=\"377.2969\" y2=\"377.2969\"/><text fill=\"#000000\" font-family=\"sans-serif\" font-size=\"14\" font-weight=\"bold\" lengthAdjust=\"spacing\" textLength=\"55.625\" x=\"204\" y=\"369.9951\">Pkg211</text></a></g><!--MD5=[09b614a08d8cba4a07c9adeb5e0fee81]\n",
       "class E3--><a href=\"psysml:c9f16dae-c47d-4af9-8178-9fb29f2ca8fe\" target=\"_top\" title=\"psysml:c9f16dae-c47d-4af9-8178-9fb29f2ca8fe\" xlink:actuate=\"onRequest\" xlink:href=\"psysml:c9f16dae-c47d-4af9-8178-9fb29f2ca8fe\" xlink:show=\"new\" xlink:title=\"psysml:c9f16dae-c47d-4af9-8178-9fb29f2ca8fe\" xlink:type=\"simple\"><g id=\"elem_E3\"><rect fill=\"#F1F1F1\" height=\"48.2656\" id=\"E3\" rx=\"10\" ry=\"10\" style=\"stroke:#181818;stroke-width:0.5;\" width=\"112\" x=\"227\" y=\"100\"/><ellipse cx=\"242\" cy=\"120.1328\" fill=\"#32CD32\" rx=\"11\" ry=\"11\" style=\"stroke:#181818;stroke-width:1.0;\"/><path d=\"M238.8594,126.6328 L238.8594,114.4922 L242.8906,114.4922 Q244.9844,114.4922 246,115.4766 Q247.0156,116.4453 247.0156,118.2734 Q247.0156,119.4766 246.5781,120.3828 Q246.1563,121.2891 245.2031,121.8047 Q244.2656,122.3203 242.7344,122.3203 L241.2344,122.3203 L241.2344,126.6328 L238.8594,126.6328 Z M242.4844,120.2266 Q243.5313,120.2266 244.0469,119.7422 Q244.5781,119.2578 244.5781,118.3672 Q244.5781,117.4766 244.1406,117.0391 Q243.7188,116.5859 242.7969,116.5859 L241.2344,116.5859 L241.2344,120.2266 L242.4844,120.2266 Z \" fill=\"#000000\"/><text fill=\"#000000\" font-family=\"sans-serif\" font-size=\"12\" font-style=\"italic\" lengthAdjust=\"spacing\" textLength=\"40\" x=\"276\" y=\"116.1387\">«part»</text><text fill=\"#000000\" font-family=\"sans-serif\" font-size=\"14\" lengthAdjust=\"spacing\" textLength=\"72\" x=\"256\" y=\"131.9639\">p11: P211</text><line style=\"stroke:#181818;stroke-width:0.5;\" x1=\"228\" x2=\"338\" y1=\"140.2656\" y2=\"140.2656\"/></g></a><!--MD5=[ebbe1d658d1005bcc118a6aa81145e00]\n",
       "class E4--><a href=\"psysml:5a85d6e7-c399-4e25-bc8b-7b1310ff596a\" target=\"_top\" title=\"psysml:5a85d6e7-c399-4e25-bc8b-7b1310ff596a\" xlink:actuate=\"onRequest\" xlink:href=\"psysml:5a85d6e7-c399-4e25-bc8b-7b1310ff596a\" xlink:show=\"new\" xlink:title=\"psysml:5a85d6e7-c399-4e25-bc8b-7b1310ff596a\" xlink:type=\"simple\"><g id=\"elem_E4\"><rect fill=\"#F1F1F1\" height=\"40\" id=\"E4\" rx=\"2.5\" ry=\"2.5\" style=\"stroke:#181818;stroke-width:0.5;\" width=\"59\" x=\"374.5\" y=\"104\"/><ellipse cx=\"389.5\" cy=\"120\" fill=\"#008000\" rx=\"11\" ry=\"11\" style=\"stroke:#181818;stroke-width:1.0;\"/><path d=\"M386.3594,126.5 L386.3594,114.3594 L390.1563,114.3594 Q392.1563,114.3594 393.2031,115.0625 Q394.2656,115.7656 394.2656,117.3438 Q394.2656,118.4375 393.7656,119.1563 Q393.2813,119.875 392.4531,120.0625 L392.4531,120.1406 Q393.375,120.3594 393.9375,121.0313 Q394.5156,121.6875 394.5156,122.9531 Q394.5156,124.6094 393.4688,125.5625 Q392.4219,126.5 390.5625,126.5 L386.3594,126.5 Z M390.1406,119.1406 Q391.0313,119.1406 391.3906,118.8125 Q391.7656,118.4688 391.7656,117.7656 Q391.7656,117.0313 391.375,116.7188 Q390.9844,116.3906 390.0469,116.3906 L388.6563,116.3906 L388.6563,119.1406 L390.1406,119.1406 Z M390.3281,124.4844 Q391.2344,124.4844 391.5938,124.0469 Q391.9531,123.5938 391.9531,122.8125 Q391.9531,122.0313 391.5781,121.6406 Q391.2188,121.2344 390.2344,121.2344 L388.6563,121.2344 L388.6563,124.4844 L390.3281,124.4844 Z \" fill=\"#000000\"/><text fill=\"#000000\" font-family=\"sans-serif\" font-size=\"14\" lengthAdjust=\"spacing\" textLength=\"27\" x=\"403.5\" y=\"124.8467\">P12</text><line style=\"stroke:#181818;stroke-width:0.5;\" x1=\"375.5\" x2=\"432.5\" y1=\"136\" y2=\"136\"/></g></a><!--MD5=[b9389687b975829384b498ac4b7476b2]\n",
       "class E8--><a href=\"psysml:60f2756c-cfe4-4496-b687-ff5dbf9a385d\" target=\"_top\" title=\"psysml:60f2756c-cfe4-4496-b687-ff5dbf9a385d\" xlink:actuate=\"onRequest\" xlink:href=\"psysml:60f2756c-cfe4-4496-b687-ff5dbf9a385d\" xlink:show=\"new\" xlink:title=\"psysml:60f2756c-cfe4-4496-b687-ff5dbf9a385d\" xlink:type=\"simple\"><g id=\"elem_E8\"><rect fill=\"#F1F1F1\" height=\"40\" id=\"E8\" rx=\"2.5\" ry=\"2.5\" style=\"stroke:#181818;stroke-width:0.5;\" width=\"68\" x=\"243\" y=\"398\"/><ellipse cx=\"258\" cy=\"414\" fill=\"#008000\" rx=\"11\" ry=\"11\" style=\"stroke:#181818;stroke-width:1.0;\"/><path d=\"M254.8594,420.5 L254.8594,408.3594 L258.6563,408.3594 Q260.6563,408.3594 261.7031,409.0625 Q262.7656,409.7656 262.7656,411.3438 Q262.7656,412.4375 262.2656,413.1563 Q261.7813,413.875 260.9531,414.0625 L260.9531,414.1406 Q261.875,414.3594 262.4375,415.0313 Q263.0156,415.6875 263.0156,416.9531 Q263.0156,418.6094 261.9688,419.5625 Q260.9219,420.5 259.0625,420.5 L254.8594,420.5 Z M258.6406,413.1406 Q259.5313,413.1406 259.8906,412.8125 Q260.2656,412.4688 260.2656,411.7656 Q260.2656,411.0313 259.875,410.7188 Q259.4844,410.3906 258.5469,410.3906 L257.1563,410.3906 L257.1563,413.1406 L258.6406,413.1406 Z M258.8281,418.4844 Q259.7344,418.4844 260.0938,418.0469 Q260.4531,417.5938 260.4531,416.8125 Q260.4531,416.0313 260.0781,415.6406 Q259.7188,415.2344 258.7344,415.2344 L257.1563,415.2344 L257.1563,418.4844 L258.8281,418.4844 Z \" fill=\"#000000\"/><text fill=\"#000000\" font-family=\"sans-serif\" font-size=\"14\" lengthAdjust=\"spacing\" textLength=\"36\" x=\"272\" y=\"418.8467\">P211</text><line style=\"stroke:#181818;stroke-width:0.5;\" x1=\"244\" x2=\"310\" y1=\"430\" y2=\"430\"/></g></a><!--MD5=[b0060bfdb0500b904584095522b4da3c]\n",
       "link E2 to E8--><g id=\"link_E2_E8\"><a href=\"psysml:7a09cf9a-4d44-4715-925a-a999429b18c6\" target=\"_top\" title=\"psysml:7a09cf9a-4d44-4715-925a-a999429b18c6\" xlink:actuate=\"onRequest\" xlink:href=\"psysml:7a09cf9a-4d44-4715-925a-a999429b18c6\" xlink:show=\"new\" xlink:title=\"psysml:7a09cf9a-4d44-4715-925a-a999429b18c6\" xlink:type=\"simple\"><path d=\"M199.7841,172.0926 C199.8301,172.1942 199.8765,172.2957 199.9231,172.3971 C200.0163,172.5998 200.1105,172.8021 200.2058,173.0037 C200.5872,173.8104 200.9857,174.6083 201.4021,175.3954 C202.2351,176.9696 203.1398,178.5009 204.1223,179.9743 C206.0873,182.9211 208.3637,185.6363 211,188 C225.47,200.98 240.82,181.71 254,196 C304.25,250.46 292.04,347.63 282.81,392.74 \" fill=\"none\" id=\"E2-to-E8\" style=\"stroke:#181818;stroke-width:1.0;stroke-dasharray:7.0,7.0;\"/><polygon fill=\"#181818\" points=\"281.76,397.72,287.5283,389.7371,282.7901,392.8273,279.6999,388.089,281.76,397.72\" style=\"stroke:#181818;stroke-width:1.0;\"/><text fill=\"#000000\" font-family=\"sans-serif\" font-size=\"13\" lengthAdjust=\"spacing\" textLength=\"58\" x=\"265\" y=\"209.0669\">«import»</text></a></g><!--MD5=[e3e28c1befcf002155aa15e1416b4315]\n",
       "link E2 to E6--><g id=\"link_E2_E6\"><a href=\"psysml:4d48d5b8-8a2b-403b-a600-382befb1c751\" target=\"_top\" title=\"psysml:4d48d5b8-8a2b-403b-a600-382befb1c751\" xlink:actuate=\"onRequest\" xlink:href=\"psysml:4d48d5b8-8a2b-403b-a600-382befb1c751\" xlink:show=\"new\" xlink:title=\"psysml:4d48d5b8-8a2b-403b-a600-382befb1c751\" xlink:type=\"simple\"><path d=\"M183.9382,127.1266 C183.835,127.1562 183.7309,127.1861 183.6261,127.2163 C183.4163,127.2767 183.2032,127.3385 182.9867,127.4015 C181.2548,127.9056 179.3098,128.4925 177.1844,129.1652 C168.6825,131.8559 157.2925,135.9206 145.1,141.5638 C120.715,152.85 93.12,170.45 79,196 C54.095,241.065 73.3275,295.305 99.2825,338.7725 C112.26,360.5063 126.9181,379.5469 138.58,393.4009 C141.4955,396.8645 144.2237,400.0038 146.6915,402.78 C147.9255,404.1682 149.0943,405.4655 150.1889,406.6672 C150.7362,407.268 151.265,407.845 151.7741,408.3974 \" fill=\"none\" id=\"E2-to-E6\" style=\"stroke:#181818;stroke-width:1.0;stroke-dasharray:7.0,7.0;\"/><polygon fill=\"#181818\" points=\"151.7741,408.3974,148.6166,399.0684,148.3857,404.7205,142.7336,404.4897,151.7741,408.3974\" style=\"stroke:#181818;stroke-width:1.0;\"/><text fill=\"#000000\" font-family=\"sans-serif\" font-size=\"13\" lengthAdjust=\"spacing\" textLength=\"65\" x=\"80\" y=\"209.0669\">«import»*</text></a></g><!--MD5=[e3d2a08a9c9236652057e8ed0cbc9b62]\n",
       "link E2 to E7--><g id=\"link_E2_E7\"><a href=\"psysml:435ffdce-fa99-42b8-aa7d-b79facf9bf9f\" target=\"_top\" title=\"psysml:435ffdce-fa99-42b8-aa7d-b79facf9bf9f\" xlink:actuate=\"onRequest\" xlink:href=\"psysml:435ffdce-fa99-42b8-aa7d-b79facf9bf9f\" xlink:show=\"new\" xlink:title=\"psysml:435ffdce-fa99-42b8-aa7d-b79facf9bf9f\" xlink:type=\"simple\"><path d=\"M183.8365,133.7963 C183.2431,134.4787 182.6285,135.1946 181.9967,135.9417 C176.9422,141.9191 170.7844,149.8994 165.5338,158.7413 C155.0325,176.425 148.16,197.555 161,213 C173.42,227.95 191.42,206.18 204,221 C217.875,237.35 219.06,285.085 216.6863,329.35 C216.3895,334.8831 216.0372,340.362 215.6471,345.7186 C215.4521,348.3969 215.2476,351.0447 215.0359,353.6533 C215.0094,353.9794 214.9828,354.3049 214.9561,354.6297 \" fill=\"none\" id=\"E2-to-E7\" style=\"stroke:#181818;stroke-width:1.0;stroke-dasharray:7.0,7.0;\"/><polygon fill=\"#181818\" points=\"214.9561,354.6297,219.6795,345.9874,215.3655,349.6465,211.7064,345.3325,214.9561,354.6297\" style=\"stroke:#181818;stroke-width:1.0;\"/><text fill=\"#000000\" font-family=\"sans-serif\" font-size=\"13\" lengthAdjust=\"spacing\" textLength=\"87\" x=\"162\" y=\"209.0669\">«import»*::**</text></a></g><!--MD5=[ca5a752d6098d8a44b3f88316e7452d1]\n",
       "link E3 to E8--><g id=\"link_E3_E8\"><a href=\"psysml:c2b3862a-e64c-4984-9133-ea986cde4555\" target=\"_top\" title=\"psysml:c2b3862a-e64c-4984-9133-ea986cde4555\" xlink:actuate=\"onRequest\" xlink:href=\"psysml:c2b3862a-e64c-4984-9133-ea986cde4555\" xlink:show=\"new\" xlink:title=\"psysml:c2b3862a-e64c-4984-9133-ea986cde4555\" xlink:type=\"simple\"><path d=\"M315.79,148.08 C330.43,160.43 346.13,177 354,196 C356.89,202.98 358.78,207.15 354,213 C342.82,226.71 327.44,208.42 315,221 C274.22,262.22 270.51,333.27 272.84,377.55 \" fill=\"none\" id=\"E3-to-E8\" style=\"stroke:#181818;stroke-width:1.0;\"/><polygon fill=\"#FFFFFF\" points=\"274.41,397.71,265.9522,379.3126,279.9097,378.2228,274.41,397.71\" style=\"stroke:#181818;stroke-width:1.0;\"/><ellipse cx=\"267.5024\" cy=\"373.4742\" fill=\"#181818\" rx=\"2\" ry=\"2\" style=\"stroke:#181818;stroke-width:1.0;\"/><ellipse cx=\"277.4721\" cy=\"372.6957\" fill=\"#181818\" rx=\"2\" ry=\"2\" style=\"stroke:#181818;stroke-width:1.0;\"/></a></g><!--MD5=[15ebcb19ae302d9b601edb458606d402]\n",
       "link E5 to E2--><g id=\"link_E5_E2\"><a href=\"psysml:2e43f05d-56e8-4995-94de-93836f9907a6\" target=\"_top\" title=\"psysml:2e43f05d-56e8-4995-94de-93836f9907a6\" xlink:actuate=\"onRequest\" xlink:href=\"psysml:2e43f05d-56e8-4995-94de-93836f9907a6\" xlink:show=\"new\" xlink:title=\"psysml:2e43f05d-56e8-4995-94de-93836f9907a6\" xlink:type=\"simple\"><path d=\"M369.1567,236.7876 C368.7205,236.1068 368.2802,235.4291 367.8358,234.7544 C366.9468,233.4052 366.0411,232.0685 365.1183,230.7451 C363.2728,228.0985 361.3589,225.5056 359.3743,222.9738 C351.4359,212.8467 342.365,203.6975 332,196 C310.37,179.93 232.09,204.78 211,188 C208.2288,185.795 205.85,183.2002 203.8093,180.3422 C202.789,178.9133 201.8532,177.4185 200.9951,175.8739 C200.5661,175.1015 200.1564,174.3167 199.7654,173.5214 C199.5699,173.1237 199.379,172.7235 199.1927,172.3208 C199.1461,172.2201 199.0998,172.1193 199.0538,172.0184 \" fill=\"none\" id=\"E5-to-E2\" style=\"stroke:#181818;stroke-width:1.0;stroke-dasharray:7.0,7.0;\"/><polygon fill=\"#181818\" points=\"199.0538,172.0184,199.1469,181.8668,201.1276,176.568,206.4263,178.5487,199.0538,172.0184\" style=\"stroke:#181818;stroke-width:1.0;\"/><text fill=\"#000000\" font-family=\"sans-serif\" font-size=\"13\" lengthAdjust=\"spacing\" textLength=\"65\" x=\"351\" y=\"209.0669\">«import»*</text></a></g><!--MD5=[d7bb3fb34add81b710575eb3799fa2ad]\n",
       "link E8 to E4--><g id=\"link_E8_E4\"><a href=\"psysml:6ab4f965-70f0-4435-9c9c-0953ad10c713\" target=\"_top\" title=\"psysml:6ab4f965-70f0-4435-9c9c-0953ad10c713\" xlink:actuate=\"onRequest\" xlink:href=\"psysml:6ab4f965-70f0-4435-9c9c-0953ad10c713\" xlink:show=\"new\" xlink:title=\"psysml:6ab4f965-70f0-4435-9c9c-0953ad10c713\" xlink:type=\"simple\"><path d=\"M273.91,397.71 C268.75,357.72 263.47,265.81 315,221 C327.85,209.83 456.28,225.35 468,213 C484.4,195.72 469.12,174.12 449.39,156.64 \" fill=\"none\" id=\"E8-to-E4\" style=\"stroke:#181818;stroke-width:1.0;\"/><polygon fill=\"none\" points=\"444.76,161.9,433.51,143.94,453.5,150.97,444.76,161.9\" style=\"stroke:#181818;stroke-width:1.0;\"/></a></g><!--MD5=[6d14db8220a1aa0c33ce25af267a17ce]\n",
       "@startuml\r\n",
       " \r\n",
       "package \"ImportTest\" as E1  [[psysml:257ae3bb-e982-4f23-93ec-21786cef6fd4 ]]  {\r\n",
       "package \"Pkg1\" as E2  [[psysml:d86f8a04-756e-41fe-890d-bee1afc1808f ]]  {\r\n",
       "comp usage \"p11: P211  \" as E3  << << (P,limegreen) part>> [[psysml:c9f16dae-c47d-4af9-8178-9fb29f2ca8fe ]] {\r\n",
       "}\r\n",
       "comp def \"P12\" as E4  << << (B,green) >> [[psysml:5a85d6e7-c399-4e25-bc8b-7b1310ff596a ]] {\r\n",
       "}\r\n",
       "}\r\n",
       "package \"Pkg2\" as E5  [[psysml:87b5aefc-a384-45d2-9563-354f132d05b6 ]]  {\r\n",
       "package \"Pkg21\" as E6  [[psysml:74f758db-603d-4dff-97e1-05ce4d0c3ab8 ]]  {\r\n",
       "package \"Pkg211\" as E7  [[psysml:c9292eea-a9ed-4d7d-b554-73a415b23d76 ]]  {\r\n",
       "comp def \"P211\" as E8  << << (B,green) >> [[psysml:60f2756c-cfe4-4496-b687-ff5dbf9a385d ]] {\r\n",
       "}\r\n",
       "}\r\n",
       "}\r\n",
       "}\r\n",
       "}\r\n",
       "E2 ..> E8 [[psysml:7a09cf9a-4d44-4715-925a-a999429b18c6 ]] : <<import>>\r\n",
       "E2 ..> E6 [[psysml:4d48d5b8-8a2b-403b-a600-382befb1c751 ]] : <<import>>*\r\n",
       "E2 ..> E7 [[psysml:435ffdce-fa99-42b8-aa7d-b79facf9bf9f ]] : <<import>>*::**\r\n",
       "E3 - -:|> E8 [[psysml:c2b3862a-e64c-4984-9133-ea986cde4555 ]] \r\n",
       "E5 ..> E2 [[psysml:2e43f05d-56e8-4995-94de-93836f9907a6 ]] : <<import>>*\r\n",
       "E8 - -|> E4 [[psysml:6ab4f965-70f0-4435-9c9c-0953ad10c713 ]] \r\n",
       "@enduml\r\n",
       "\n",
       "PlantUML version 1.2022.7(Mon Aug 22 17:01:30 UTC 2022)\n",
       "(EPL source distribution)\n",
       "Java Runtime: OpenJDK Runtime Environment\n",
       "JVM: OpenJDK 64-Bit Server VM\n",
       "Default Encoding: UTF-8\n",
       "Language: en\n",
       "Country: null\n",
       "--></g></svg>"
      ]
     },
     "execution_count": 31,
     "metadata": {},
     "output_type": "execute_result"
    }
   ],
   "source": [
    "%viz --style=\"PLANTUML\" --view=\"Tree\" \"ImportTest\""
   ]
  },
  {
   "cell_type": "code",
   "execution_count": 32,
   "id": "6c50b3b0",
   "metadata": {
    "execution": {
     "iopub.execute_input": "2024-12-16T14:16:21.938525Z",
     "iopub.status.busy": "2024-12-16T14:16:21.938303Z",
     "iopub.status.idle": "2024-12-16T14:16:21.978077Z",
     "shell.execute_reply": "2024-12-16T14:16:21.977889Z"
    }
   },
   "outputs": [
    {
     "data": {
      "image/svg+xml": [
       "<?xml version=\"1.0\" encoding=\"UTF-8\" standalone=\"no\"?><svg xmlns=\"http://www.w3.org/2000/svg\" xmlns:xlink=\"http://www.w3.org/1999/xlink\" contentStyleType=\"text/css\" height=\"389px\" preserveAspectRatio=\"none\" style=\"width:603px;height:389px;background:#000000;\" version=\"1.1\" viewBox=\"0 0 603 389\" width=\"603px\" zoomAndPan=\"magnify\"><defs/><g><rect fill=\"#1B0C25\" height=\"1\" style=\"stroke:#1B0C25;stroke-width:1.0;\" width=\"1\" x=\"0\" y=\"0\"/><rect fill=\"#FFFFFF\" height=\"226.6573\" style=\"stroke:#FFFFFF;stroke-width:1.0;\" width=\"602\" x=\"0\" y=\"0\"/><text fill=\"#000000\" font-family=\"sans-serif\" font-size=\"12\" font-weight=\"bold\" lengthAdjust=\"spacing\" textLength=\"145.75\" x=\"5\" y=\"16.1387\">Welcome to PlantUML!</text><text fill=\"#000000\" font-family=\"sans-serif\" font-size=\"12\" lengthAdjust=\"spacing\" textLength=\"4\" x=\"5\" y=\"30.1074\"> </text><text fill=\"#000000\" font-family=\"sans-serif\" font-size=\"12\" lengthAdjust=\"spacing\" textLength=\"283\" x=\"5\" y=\"44.0762\">You can start with a simple UML Diagram like:</text><text fill=\"#000000\" font-family=\"sans-serif\" font-size=\"12\" lengthAdjust=\"spacing\" textLength=\"4\" x=\"5\" y=\"58.0449\"> </text><text fill=\"#000000\" font-family=\"monospace\" font-size=\"12\" lengthAdjust=\"spacing\" textLength=\"119\" x=\"5\" y=\"73.7031\">Bob-&gt;Alice: Hello</text><text fill=\"#000000\" font-family=\"sans-serif\" font-size=\"12\" lengthAdjust=\"spacing\" textLength=\"4\" x=\"5\" y=\"88.3578\"> </text><text fill=\"#000000\" font-family=\"sans-serif\" font-size=\"12\" lengthAdjust=\"spacing\" textLength=\"14\" x=\"5\" y=\"102.3265\">Or</text><text fill=\"#000000\" font-family=\"sans-serif\" font-size=\"12\" lengthAdjust=\"spacing\" textLength=\"4\" x=\"5\" y=\"116.2953\"> </text><text fill=\"#000000\" font-family=\"monospace\" font-size=\"12\" lengthAdjust=\"spacing\" textLength=\"91\" x=\"5\" y=\"131.9535\">class Example</text><text fill=\"#000000\" font-family=\"sans-serif\" font-size=\"12\" lengthAdjust=\"spacing\" textLength=\"4\" x=\"5\" y=\"146.6082\"> </text><text fill=\"#000000\" font-family=\"sans-serif\" font-size=\"12\" lengthAdjust=\"spacing\" textLength=\"349\" x=\"5\" y=\"160.5769\">You will find more information about PlantUML syntax on</text><text fill=\"#000000\" font-family=\"sans-serif\" font-size=\"12\" lengthAdjust=\"spacing\" text-decoration=\"underline\" textLength=\"129\" x=\"358\" y=\"160.5769\">https://plantuml.com</text><text fill=\"#000000\" font-family=\"sans-serif\" font-size=\"12\" lengthAdjust=\"spacing\" textLength=\"4\" x=\"5\" y=\"174.5457\"> </text><text fill=\"#000000\" font-family=\"sans-serif\" font-size=\"12\" lengthAdjust=\"spacing\" textLength=\"299\" x=\"5\" y=\"188.5144\">(If you use this software, you accept its license)</text><text fill=\"#000000\" font-family=\"sans-serif\" font-size=\"12\" lengthAdjust=\"spacing\" textLength=\"108\" x=\"5\" y=\"204.8585\">(Details by typing</text><text fill=\"#000000\" font-family=\"monospace\" font-size=\"12\" lengthAdjust=\"spacing\" textLength=\"49\" x=\"117\" y=\"204.1726\">license</text><text fill=\"#000000\" font-family=\"sans-serif\" font-size=\"12\" lengthAdjust=\"spacing\" textLength=\"56\" x=\"170\" y=\"204.8585\">keyword)</text><text fill=\"#000000\" font-family=\"sans-serif\" font-size=\"12\" lengthAdjust=\"spacing\" textLength=\"4\" x=\"5\" y=\"218.8273\"> </text><image height=\"71\" width=\"80\" x=\"516\" xlink:href=\"data:image/png;base64,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\" y=\"6\"/><rect fill=\"#000000\" height=\"160.3594\" style=\"stroke:#000000;stroke-width:1.0;\" width=\"602\" x=\"0\" y=\"226.6573\"/><text fill=\"#33FF02\" font-family=\"sans-serif\" font-size=\"12\" font-style=\"italic\" font-weight=\"bold\" lengthAdjust=\"spacing\" textLength=\"123\" x=\"5\" y=\"243.6573\">PlantUML 1.2022.7</text><text fill=\"#33FF02\" font-family=\"sans-serif\" font-size=\"12\" font-style=\"italic\" font-weight=\"bold\" lengthAdjust=\"spacing\" textLength=\"4\" x=\"5\" y=\"257.6261\"> </text><text fill=\"#33FF02\" font-family=\"sans-serif\" font-size=\"12\" font-style=\"italic\" font-weight=\"bold\" lengthAdjust=\"spacing\" textLength=\"390\" x=\"5\" y=\"271.5948\">&lt;b&gt;This version of PlantUML is 846 days old, so you should</text><text fill=\"#33FF02\" font-family=\"sans-serif\" font-size=\"12\" font-style=\"italic\" font-weight=\"bold\" lengthAdjust=\"spacing\" textLength=\"398.875\" x=\"5\" y=\"285.5636\">&lt;b&gt;consider upgrading from https://plantuml.com/download</text><rect fill=\"#33FF02\" height=\"21.2969\" style=\"stroke:#33FF02;stroke-width:1.0;\" width=\"153.3125\" x=\"5\" y=\"295.5323\"/><text fill=\"#000000\" font-family=\"sans-serif\" font-size=\"14\" font-weight=\"bold\" lengthAdjust=\"spacing\" textLength=\"151.3125\" x=\"6\" y=\"310.5323\">[From string (line 2) ]</text><text fill=\"#33FF02\" font-family=\"sans-serif\" font-size=\"14\" font-weight=\"bold\" lengthAdjust=\"spacing\" textLength=\"4\" x=\"5\" y=\"330.8292\"> </text><text fill=\"#33FF02\" font-family=\"sans-serif\" font-size=\"14\" font-weight=\"bold\" lengthAdjust=\"spacing\" textLength=\"73.9375\" x=\"5\" y=\"347.1261\">@startuml</text><text fill=\"#33FF02\" font-family=\"sans-serif\" font-size=\"14\" font-weight=\"bold\" lengthAdjust=\"spacing\" text-decoration=\"wavy underline\" textLength=\"4\" x=\"5\" y=\"363.423\"> </text><text fill=\"#FF0000\" font-family=\"sans-serif\" font-size=\"14\" font-weight=\"bold\" lengthAdjust=\"spacing\" textLength=\"131\" x=\"9\" y=\"379.7198\">Empty description</text><!--MD5=[5b6570bdd48fecdb4121f0162c378f28]\n",
       "@startuml\r\n",
       " \r\n",
       "@enduml\r\n",
       "\n",
       "PlantUML version 1.2022.7(Mon Aug 22 17:01:30 UTC 2022)\n",
       "(EPL source distribution)\n",
       "Java Runtime: OpenJDK Runtime Environment\n",
       "JVM: OpenJDK 64-Bit Server VM\n",
       "Default Encoding: UTF-8\n",
       "Language: en\n",
       "Country: null\n",
       "--></g></svg>"
      ]
     },
     "execution_count": 32,
     "metadata": {},
     "output_type": "execute_result"
    }
   ],
   "source": [
    "%viz --style=\"PLANTUML\" --view=\"State\" \"ImportTest\""
   ]
  },
  {
   "cell_type": "code",
   "execution_count": 33,
   "id": "572e75a6",
   "metadata": {
    "execution": {
     "iopub.execute_input": "2024-12-16T14:16:22.033340Z",
     "iopub.status.busy": "2024-12-16T14:16:22.033085Z",
     "iopub.status.idle": "2024-12-16T14:16:22.060001Z",
     "shell.execute_reply": "2024-12-16T14:16:22.059159Z"
    }
   },
   "outputs": [
    {
     "data": {
      "image/svg+xml": [
       "<?xml version=\"1.0\" encoding=\"UTF-8\" standalone=\"no\"?><svg xmlns=\"http://www.w3.org/2000/svg\" xmlns:xlink=\"http://www.w3.org/1999/xlink\" contentStyleType=\"text/css\" height=\"573px\" preserveAspectRatio=\"none\" style=\"width:497px;height:573px;background:#FFFFFF;\" version=\"1.1\" viewBox=\"0 0 497 573\" width=\"497px\" zoomAndPan=\"magnify\"><defs/><g><!--MD5=[fbc87193dbaf4d95561dea2c320d4a47]\n",
       "cluster E1--><g id=\"cluster_E1\"><a href=\"psysml:257ae3bb-e982-4f23-93ec-21786cef6fd4\" target=\"_top\" title=\"psysml:257ae3bb-e982-4f23-93ec-21786cef6fd4\" xlink:actuate=\"onRequest\" xlink:href=\"psysml:257ae3bb-e982-4f23-93ec-21786cef6fd4\" xlink:show=\"new\" xlink:title=\"psysml:257ae3bb-e982-4f23-93ec-21786cef6fd4\" xlink:type=\"simple\"><path d=\"M8.5,6 L88.875,6 A3.75,3.75 0 0 1 91.375,8.5 L98.375,28.2969 L487.5,28.2969 A2.5,2.5 0 0 1 490,30.7969 L490,563.5 A2.5,2.5 0 0 1 487.5,566 L8.5,566 A2.5,2.5 0 0 1 6,563.5 L6,8.5 A2.5,2.5 0 0 1 8.5,6 \" fill=\"none\" style=\"stroke:#000000;stroke-width:1.5;\"/><line style=\"stroke:#000000;stroke-width:1.5;\" x1=\"6\" x2=\"98.375\" y1=\"28.2969\" y2=\"28.2969\"/><text fill=\"#000000\" font-family=\"sans-serif\" font-size=\"14\" font-weight=\"bold\" lengthAdjust=\"spacing\" textLength=\"79.375\" x=\"10\" y=\"20.9951\">ImportTest</text></a></g><!--MD5=[e4f7fae6ed58524ba242bb0b0d3be6b7]\n",
       "cluster E2--><g id=\"cluster_E2\"><a href=\"psysml:d86f8a04-756e-41fe-890d-bee1afc1808f\" target=\"_top\" title=\"psysml:d86f8a04-756e-41fe-890d-bee1afc1808f\" xlink:actuate=\"onRequest\" xlink:href=\"psysml:d86f8a04-756e-41fe-890d-bee1afc1808f\" xlink:show=\"new\" xlink:title=\"psysml:d86f8a04-756e-41fe-890d-bee1afc1808f\" xlink:type=\"simple\"><path d=\"M184.5,57 L222.25,57 A3.75,3.75 0 0 1 224.75,59.5 L231.75,79.2969 L455.5,79.2969 A2.5,2.5 0 0 1 458,81.7969 L458,161.5 A2.5,2.5 0 0 1 455.5,164 L184.5,164 A2.5,2.5 0 0 1 182,161.5 L182,59.5 A2.5,2.5 0 0 1 184.5,57 \" fill=\"none\" style=\"stroke:#000000;stroke-width:1.5;\"/><line style=\"stroke:#000000;stroke-width:1.5;\" x1=\"182\" x2=\"231.75\" y1=\"79.2969\" y2=\"79.2969\"/><text fill=\"#000000\" font-family=\"sans-serif\" font-size=\"14\" font-weight=\"bold\" lengthAdjust=\"spacing\" textLength=\"36.75\" x=\"186\" y=\"71.9951\">Pkg1</text></a></g><!--MD5=[de5ec2e2e8f62f467e546659f5068c88]\n",
       "cluster E5--><g id=\"cluster_E5\"><a href=\"psysml:87b5aefc-a384-45d2-9563-354f132d05b6\" target=\"_top\" title=\"psysml:87b5aefc-a384-45d2-9563-354f132d05b6\" xlink:actuate=\"onRequest\" xlink:href=\"psysml:87b5aefc-a384-45d2-9563-354f132d05b6\" xlink:show=\"new\" xlink:title=\"psysml:87b5aefc-a384-45d2-9563-354f132d05b6\" xlink:type=\"simple\"><path d=\"M110.5,229 L148.25,229 A3.75,3.75 0 0 1 150.75,231.5 L157.75,251.2969 L422.5,251.2969 A2.5,2.5 0 0 1 425,253.7969 L425,531.5 A2.5,2.5 0 0 1 422.5,534 L110.5,534 A2.5,2.5 0 0 1 108,531.5 L108,231.5 A2.5,2.5 0 0 1 110.5,229 \" fill=\"none\" style=\"stroke:#000000;stroke-width:1.5;\"/><line style=\"stroke:#000000;stroke-width:1.5;\" x1=\"108\" x2=\"157.75\" y1=\"251.2969\" y2=\"251.2969\"/><text fill=\"#000000\" font-family=\"sans-serif\" font-size=\"14\" font-weight=\"bold\" lengthAdjust=\"spacing\" textLength=\"36.75\" x=\"112\" y=\"243.9951\">Pkg2</text></a></g><!--MD5=[14e3b0961a2654348d326746436168a1]\n",
       "cluster E6--><g id=\"cluster_E6\"><a href=\"psysml:74f758db-603d-4dff-97e1-05ce4d0c3ab8\" target=\"_top\" title=\"psysml:74f758db-603d-4dff-97e1-05ce4d0c3ab8\" xlink:actuate=\"onRequest\" xlink:href=\"psysml:74f758db-603d-4dff-97e1-05ce4d0c3ab8\" xlink:show=\"new\" xlink:title=\"psysml:74f758db-603d-4dff-97e1-05ce4d0c3ab8\" xlink:type=\"simple\"><path d=\"M150.5,288 L197.6875,288 A3.75,3.75 0 0 1 200.1875,290.5 L207.1875,310.2969 L374.5,310.2969 A2.5,2.5 0 0 1 377,312.7969 L377,491.5 A2.5,2.5 0 0 1 374.5,494 L150.5,494 A2.5,2.5 0 0 1 148,491.5 L148,290.5 A2.5,2.5 0 0 1 150.5,288 \" fill=\"none\" style=\"stroke:#000000;stroke-width:1.5;\"/><line style=\"stroke:#000000;stroke-width:1.5;\" x1=\"148\" x2=\"207.1875\" y1=\"310.2969\" y2=\"310.2969\"/><text fill=\"#000000\" font-family=\"sans-serif\" font-size=\"14\" font-weight=\"bold\" lengthAdjust=\"spacing\" textLength=\"46.1875\" x=\"152\" y=\"302.9951\">Pkg21</text></a></g><!--MD5=[168fadf3d0c3fd93dd5d6da1b1d7ab76]\n",
       "cluster E7--><g id=\"cluster_E7\"><a href=\"psysml:c9292eea-a9ed-4d7d-b554-73a415b23d76\" target=\"_top\" title=\"psysml:c9292eea-a9ed-4d7d-b554-73a415b23d76\" xlink:actuate=\"onRequest\" xlink:href=\"psysml:c9292eea-a9ed-4d7d-b554-73a415b23d76\" xlink:show=\"new\" xlink:title=\"psysml:c9292eea-a9ed-4d7d-b554-73a415b23d76\" xlink:type=\"simple\"><path d=\"M198.5,347 L255.125,347 A3.75,3.75 0 0 1 257.625,349.5 L264.625,369.2969 L334.5,369.2969 A2.5,2.5 0 0 1 337,371.7969 L337,451.5 A2.5,2.5 0 0 1 334.5,454 L198.5,454 A2.5,2.5 0 0 1 196,451.5 L196,349.5 A2.5,2.5 0 0 1 198.5,347 \" fill=\"none\" style=\"stroke:#000000;stroke-width:1.5;\"/><line style=\"stroke:#000000;stroke-width:1.5;\" x1=\"196\" x2=\"264.625\" y1=\"369.2969\" y2=\"369.2969\"/><text fill=\"#000000\" font-family=\"sans-serif\" font-size=\"14\" font-weight=\"bold\" lengthAdjust=\"spacing\" textLength=\"55.625\" x=\"200\" y=\"361.9951\">Pkg211</text></a></g><g><a href=\"psysml:c9f16dae-c47d-4af9-8178-9fb29f2ca8fe\" target=\"_top\" title=\"psysml:c9f16dae-c47d-4af9-8178-9fb29f2ca8fe\" xlink:actuate=\"onRequest\" xlink:href=\"psysml:c9f16dae-c47d-4af9-8178-9fb29f2ca8fe\" xlink:show=\"new\" xlink:title=\"psysml:c9f16dae-c47d-4af9-8178-9fb29f2ca8fe\" xlink:type=\"simple\"><rect fill=\"#F1F1F1\" height=\"40\" id=\"E3\" rx=\"10\" ry=\"10\" style=\"stroke:#A80036;stroke-width:1.5;\" width=\"109\" x=\"225.5\" y=\"100\"/><ellipse cx=\"242.75\" cy=\"116\" fill=\"#F1F1F1\" rx=\"11\" ry=\"11\" style=\"stroke:#181818;stroke-width:1.0;\"/><path d=\"M242.8125,123.1719 Q240.7031,123.1719 239.6094,122.0469 Q238.5156,120.9219 238.5156,118.875 L238.5156,110.8594 L240.9844,110.8594 L240.9844,118.4375 Q240.9844,119.875 241.4375,120.4688 Q241.8906,121.0469 242.8438,121.0469 Q243.8594,121.0469 244.2813,120.4375 Q244.7188,119.8281 244.7188,118.4219 L244.7188,110.8594 L247.1875,110.8594 L247.1875,118.8594 Q247.1875,120.8438 246.0938,122.0156 Q245.0156,123.1719 242.8125,123.1719 Z \" fill=\"#000000\"/><text fill=\"#000000\" font-family=\"sans-serif\" font-size=\"14\" lengthAdjust=\"spacing\" textLength=\"72\" x=\"257.25\" y=\"120.8467\">p11: P211</text></a></g><g><a href=\"psysml:5a85d6e7-c399-4e25-bc8b-7b1310ff596a\" target=\"_top\" title=\"psysml:5a85d6e7-c399-4e25-bc8b-7b1310ff596a\" xlink:actuate=\"onRequest\" xlink:href=\"psysml:5a85d6e7-c399-4e25-bc8b-7b1310ff596a\" xlink:show=\"new\" xlink:title=\"psysml:5a85d6e7-c399-4e25-bc8b-7b1310ff596a\" xlink:type=\"simple\"><rect fill=\"#F1F1F1\" height=\"40\" id=\"E4\" style=\"stroke:#A80036;stroke-width:1.5;\" width=\"64\" x=\"370\" y=\"100\"/><ellipse cx=\"387.25\" cy=\"116\" fill=\"#008000\" rx=\"11\" ry=\"11\" style=\"stroke:#181818;stroke-width:1.0;\"/><path d=\"M384.1094,122.5 L384.1094,110.3594 L387.9063,110.3594 Q389.9063,110.3594 390.9531,111.0625 Q392.0156,111.7656 392.0156,113.3438 Q392.0156,114.4375 391.5156,115.1563 Q391.0313,115.875 390.2031,116.0625 L390.2031,116.1406 Q391.125,116.3594 391.6875,117.0313 Q392.2656,117.6875 392.2656,118.9531 Q392.2656,120.6094 391.2188,121.5625 Q390.1719,122.5 388.3125,122.5 L384.1094,122.5 Z M387.8906,115.1406 Q388.7813,115.1406 389.1406,114.8125 Q389.5156,114.4688 389.5156,113.7656 Q389.5156,113.0313 389.125,112.7188 Q388.7344,112.3906 387.7969,112.3906 L386.4063,112.3906 L386.4063,115.1406 L387.8906,115.1406 Z M388.0781,120.4844 Q388.9844,120.4844 389.3438,120.0469 Q389.7031,119.5938 389.7031,118.8125 Q389.7031,118.0313 389.3281,117.6406 Q388.9688,117.2344 387.9844,117.2344 L386.4063,117.2344 L386.4063,120.4844 L388.0781,120.4844 Z \" fill=\"#000000\"/><text fill=\"#000000\" font-family=\"sans-serif\" font-size=\"14\" lengthAdjust=\"spacing\" textLength=\"27\" x=\"401.75\" y=\"120.8467\">P12</text></a></g><g><a href=\"psysml:60f2756c-cfe4-4496-b687-ff5dbf9a385d\" target=\"_top\" title=\"psysml:60f2756c-cfe4-4496-b687-ff5dbf9a385d\" xlink:actuate=\"onRequest\" xlink:href=\"psysml:60f2756c-cfe4-4496-b687-ff5dbf9a385d\" xlink:show=\"new\" xlink:title=\"psysml:60f2756c-cfe4-4496-b687-ff5dbf9a385d\" xlink:type=\"simple\"><rect fill=\"#F1F1F1\" height=\"40\" id=\"E8\" style=\"stroke:#A80036;stroke-width:1.5;\" width=\"73\" x=\"239.5\" y=\"390\"/><ellipse cx=\"256.75\" cy=\"406\" fill=\"#008000\" rx=\"11\" ry=\"11\" style=\"stroke:#181818;stroke-width:1.0;\"/><path d=\"M253.6094,412.5 L253.6094,400.3594 L257.4063,400.3594 Q259.4063,400.3594 260.4531,401.0625 Q261.5156,401.7656 261.5156,403.3438 Q261.5156,404.4375 261.0156,405.1563 Q260.5313,405.875 259.7031,406.0625 L259.7031,406.1406 Q260.625,406.3594 261.1875,407.0313 Q261.7656,407.6875 261.7656,408.9531 Q261.7656,410.6094 260.7188,411.5625 Q259.6719,412.5 257.8125,412.5 L253.6094,412.5 Z M257.3906,405.1406 Q258.2813,405.1406 258.6406,404.8125 Q259.0156,404.4688 259.0156,403.7656 Q259.0156,403.0313 258.625,402.7188 Q258.2344,402.3906 257.2969,402.3906 L255.9063,402.3906 L255.9063,405.1406 L257.3906,405.1406 Z M257.5781,410.4844 Q258.4844,410.4844 258.8438,410.0469 Q259.2031,409.5938 259.2031,408.8125 Q259.2031,408.0313 258.8281,407.6406 Q258.4688,407.2344 257.4844,407.2344 L255.9063,407.2344 L255.9063,410.4844 L257.5781,410.4844 Z \" fill=\"#000000\"/><text fill=\"#000000\" font-family=\"sans-serif\" font-size=\"14\" lengthAdjust=\"spacing\" textLength=\"36\" x=\"271.25\" y=\"410.8467\">P211</text></a></g><!--MD5=[b0060bfdb0500b904584095522b4da3c]\n",
       "link E2 to E8--><g id=\"link_E2_E8\"><a href=\"psysml:7a09cf9a-4d44-4715-925a-a999429b18c6\" target=\"_top\" title=\"psysml:7a09cf9a-4d44-4715-925a-a999429b18c6\" xlink:actuate=\"onRequest\" xlink:href=\"psysml:7a09cf9a-4d44-4715-925a-a999429b18c6\" xlink:show=\"new\" xlink:title=\"psysml:7a09cf9a-4d44-4715-925a-a999429b18c6\" xlink:type=\"simple\"><path d=\"M197.6634,164.0232 C197.7066,164.1191 197.75,164.215 197.7936,164.3107 C197.8808,164.5021 197.9691,164.6931 198.0583,164.8837 C198.2367,165.2647 198.4189,165.6439 198.6052,166.0209 C198.9777,166.775 199.3662,167.5205 199.7713,168.2558 C200.5814,169.7263 201.4579,171.1558 202.4061,172.5301 C204.3027,175.2786 206.4862,177.8063 209,180 C224.3,193.36 240.2,173.1 254,188 C304.33,242.34 291.51,339.57 281.98,384.72 \" fill=\"none\" id=\"E2-to-E8\" style=\"stroke:#181818;stroke-width:1.0;stroke-dasharray:7.0,7.0;\"/><polygon fill=\"#181818\" points=\"280.9,389.7,286.7129,381.7495,281.9574,384.8131,278.8938,380.0576,280.9,389.7\" style=\"stroke:#181818;stroke-width:1.0;\"/><text fill=\"#000000\" font-family=\"sans-serif\" font-size=\"13\" lengthAdjust=\"spacing\" textLength=\"58\" x=\"265\" y=\"201.0669\">«import»</text></a></g><!--MD5=[e3e28c1befcf002155aa15e1416b4315]\n",
       "link E2 to E6--><g id=\"link_E2_E6\"><a href=\"psysml:4d48d5b8-8a2b-403b-a600-382befb1c751\" target=\"_top\" title=\"psysml:4d48d5b8-8a2b-403b-a600-382befb1c751\" xlink:actuate=\"onRequest\" xlink:href=\"psysml:4d48d5b8-8a2b-403b-a600-382befb1c751\" xlink:show=\"new\" xlink:title=\"psysml:4d48d5b8-8a2b-403b-a600-382befb1c751\" xlink:type=\"simple\"><path d=\"M181.7861,122.9849 C181.5804,123.0395 181.3713,123.0951 181.159,123.152 C179.4602,123.6071 177.5524,124.1384 175.4673,124.7497 C167.1272,127.195 155.9519,130.9213 143.9838,136.175 C120.0475,146.6825 92.94,163.3 79,188 C53.835,232.58 72.095,286.8125 97.13,330.3975 C109.6475,352.19 123.8587,371.3206 135.1825,385.2519 C138.0134,388.7347 140.6639,391.8925 143.0623,394.6858 C144.2615,396.0824 145.3977,397.3879 146.462,398.5972 C146.728,398.8996 146.9896,399.1959 147.2465,399.4862 C147.375,399.6313 147.5023,399.7749 147.6284,399.917 \" fill=\"none\" id=\"E2-to-E6\" style=\"stroke:#181818;stroke-width:1.0;stroke-dasharray:7.0,7.0;\"/><polygon fill=\"#181818\" points=\"147.6284,399.917,144.6447,390.5309,144.3089,396.1778,138.6621,395.842,147.6284,399.917\" style=\"stroke:#181818;stroke-width:1.0;\"/><text fill=\"#000000\" font-family=\"sans-serif\" font-size=\"13\" lengthAdjust=\"spacing\" textLength=\"65\" x=\"80\" y=\"201.0669\">«import»*</text></a></g><!--MD5=[e3d2a08a9c9236652057e8ed0cbc9b62]\n",
       "link E2 to E7--><g id=\"link_E2_E7\"><a href=\"psysml:435ffdce-fa99-42b8-aa7d-b79facf9bf9f\" target=\"_top\" title=\"psysml:435ffdce-fa99-42b8-aa7d-b79facf9bf9f\" xlink:actuate=\"onRequest\" xlink:href=\"psysml:435ffdce-fa99-42b8-aa7d-b79facf9bf9f\" xlink:show=\"new\" xlink:title=\"psysml:435ffdce-fa99-42b8-aa7d-b79facf9bf9f\" xlink:type=\"simple\"><path d=\"M181.9177,129.8654 C181.7761,130.0318 181.6333,130.2001 181.4894,130.3704 C181.2016,130.711 180.9093,131.0594 180.613,131.4152 C175.8716,137.1078 170.0969,144.7106 165.1762,153.1413 C155.335,170.0025 148.91,190.175 161,205 C172.18,218.71 188.68,199.4 200,213 C213.72,229.475 214.9025,277.2125 212.5662,321.4475 C212.2742,326.9769 211.9272,332.4515 211.5428,337.8035 C211.3506,340.4796 211.1491,343.1249 210.9404,345.7311 C210.9144,346.0569 210.8882,346.3821 210.8619,346.7066 \" fill=\"none\" id=\"E2-to-E7\" style=\"stroke:#181818;stroke-width:1.0;stroke-dasharray:7.0,7.0;\"/><polygon fill=\"#181818\" points=\"210.8619,346.7066,215.5758,338.0591,211.2658,341.7229,207.602,337.4129,210.8619,346.7066\" style=\"stroke:#181818;stroke-width:1.0;\"/><text fill=\"#000000\" font-family=\"sans-serif\" font-size=\"13\" lengthAdjust=\"spacing\" textLength=\"87\" x=\"162\" y=\"201.0669\">«import»*::**</text></a></g><!--MD5=[ca5a752d6098d8a44b3f88316e7452d1]\n",
       "link E3 to E8--><g id=\"link_E3_E8\"><a href=\"psysml:c2b3862a-e64c-4984-9133-ea986cde4555\" target=\"_top\" title=\"psysml:c2b3862a-e64c-4984-9133-ea986cde4555\" xlink:actuate=\"onRequest\" xlink:href=\"psysml:c2b3862a-e64c-4984-9133-ea986cde4555\" xlink:show=\"new\" xlink:title=\"psysml:c2b3862a-e64c-4984-9133-ea986cde4555\" xlink:type=\"simple\"><path d=\"M311.4,140.12 C327.37,151.76 345.22,168.2 354,188 C357.06,194.91 358.74,199.12 354,205 C343.43,218.09 328.86,201.06 317,213 C276.02,254.26 271.09,325.29 272.59,369.57 \" fill=\"none\" id=\"E3-to-E8\" style=\"stroke:#181818;stroke-width:1.0;\"/><polygon fill=\"#FFFFFF\" points=\"273.79,389.71,265.6755,371.1586,279.6508,370.3283,273.79,389.71\" style=\"stroke:#181818;stroke-width:1.0;\"/><ellipse cx=\"267.3339\" cy=\"365.35\" fill=\"#181818\" rx=\"2\" ry=\"2\" style=\"stroke:#181818;stroke-width:1.0;\"/><ellipse cx=\"277.3163\" cy=\"364.7569\" fill=\"#181818\" rx=\"2\" ry=\"2\" style=\"stroke:#181818;stroke-width:1.0;\"/></a></g><!--MD5=[15ebcb19ae302d9b601edb458606d402]\n",
       "link E5 to E2--><g id=\"link_E5_E2\"><a href=\"psysml:2e43f05d-56e8-4995-94de-93836f9907a6\" target=\"_top\" title=\"psysml:2e43f05d-56e8-4995-94de-93836f9907a6\" xlink:actuate=\"onRequest\" xlink:href=\"psysml:2e43f05d-56e8-4995-94de-93836f9907a6\" xlink:show=\"new\" xlink:title=\"psysml:2e43f05d-56e8-4995-94de-93836f9907a6\" xlink:type=\"simple\"><path d=\"M369.5119,228.7186 C369.0697,228.0384 368.6234,227.3613 368.1729,226.6873 C367.272,225.3392 366.3544,224.0037 365.42,222.6817 C363.551,220.0378 361.6144,217.4478 359.6075,214.9193 C351.5802,204.8052 342.43,195.6737 332,188 C309.94,171.77 230.6,196.84 209,180 C203.7375,175.8975 199.9094,170.3213 197.1295,164.2258 \" fill=\"none\" id=\"E5-to-E2\" style=\"stroke:#181818;stroke-width:1.0;stroke-dasharray:7.0,7.0;\"/><polygon fill=\"#181818\" points=\"197.1295,164.2258,197.2246,174.0742,199.2042,168.775,204.5034,170.7547,197.1295,164.2258\" style=\"stroke:#181818;stroke-width:1.0;\"/><text fill=\"#000000\" font-family=\"sans-serif\" font-size=\"13\" lengthAdjust=\"spacing\" textLength=\"65\" x=\"351\" y=\"201.0669\">«import»*</text></a></g><!--MD5=[d7bb3fb34add81b710575eb3799fa2ad]\n",
       "link E8 to E4--><g id=\"link_E8_E4\"><a href=\"psysml:6ab4f965-70f0-4435-9c9c-0953ad10c713\" target=\"_top\" title=\"psysml:6ab4f965-70f0-4435-9c9c-0953ad10c713\" xlink:actuate=\"onRequest\" xlink:href=\"psysml:6ab4f965-70f0-4435-9c9c-0953ad10c713\" xlink:show=\"new\" xlink:title=\"psysml:6ab4f965-70f0-4435-9c9c-0953ad10c713\" xlink:type=\"simple\"><path d=\"M273.28,389.97 C268.77,350.08 264.88,257.69 317,213 C329.76,202.06 456.44,217.19 468,205 C483.61,188.54 469.24,168.64 449.97,152.33 \" fill=\"none\" id=\"E8-to-E4\" style=\"stroke:#181818;stroke-width:1.0;\"/><polygon fill=\"none\" points=\"445.65,157.84,433.95,140.17,454.11,146.69,445.65,157.84\" style=\"stroke:#181818;stroke-width:1.0;\"/></a></g><!--MD5=[29c07c3ce9a3d00c348ef18928663ed0]\n",
       "@startuml\r\n",
       " skinparam ranksep 10\r\n",
       "skinparam rectangle {\r\n",
       " backgroundColor<<block>> LightGreen\r\n",
       "}\r\n",
       "\r\n",
       "package \"ImportTest\" as E1  [[psysml:257ae3bb-e982-4f23-93ec-21786cef6fd4 ]]  {\r\n",
       "package \"Pkg1\" as E2  [[psysml:d86f8a04-756e-41fe-890d-bee1afc1808f ]]  {\r\n",
       "rec usage \"p11: P211\" as E3 [[psysml:c9f16dae-c47d-4af9-8178-9fb29f2ca8fe ]] {\r\n",
       "}\r\n",
       "rec def \"P12\" as E4  << << (B,green) >> [[psysml:5a85d6e7-c399-4e25-bc8b-7b1310ff596a ]] {\r\n",
       "}\r\n",
       "}\r\n",
       "package \"Pkg2\" as E5  [[psysml:87b5aefc-a384-45d2-9563-354f132d05b6 ]]  {\r\n",
       "package \"Pkg21\" as E6  [[psysml:74f758db-603d-4dff-97e1-05ce4d0c3ab8 ]]  {\r\n",
       "package \"Pkg211\" as E7  [[psysml:c9292eea-a9ed-4d7d-b554-73a415b23d76 ]]  {\r\n",
       "rec def \"P211\" as E8  << << (B,green) >> [[psysml:60f2756c-cfe4-4496-b687-ff5dbf9a385d ]] {\r\n",
       "}\r\n",
       "}\r\n",
       "}\r\n",
       "}\r\n",
       "}\r\n",
       "E2 ..> E8 [[psysml:7a09cf9a-4d44-4715-925a-a999429b18c6 ]] : <<import>>\r\n",
       "E2 ..> E6 [[psysml:4d48d5b8-8a2b-403b-a600-382befb1c751 ]] : <<import>>*\r\n",
       "E2 ..> E7 [[psysml:435ffdce-fa99-42b8-aa7d-b79facf9bf9f ]] : <<import>>*::**\r\n",
       "E3 - -:|> E8 [[psysml:c2b3862a-e64c-4984-9133-ea986cde4555 ]] \r\n",
       "E5 ..> E2 [[psysml:2e43f05d-56e8-4995-94de-93836f9907a6 ]] : <<import>>*\r\n",
       "E8 - -|> E4 [[psysml:6ab4f965-70f0-4435-9c9c-0953ad10c713 ]] \r\n",
       "@enduml\r\n",
       "\n",
       "PlantUML version 1.2022.7(Mon Aug 22 17:01:30 UTC 2022)\n",
       "(EPL source distribution)\n",
       "Java Runtime: OpenJDK Runtime Environment\n",
       "JVM: OpenJDK 64-Bit Server VM\n",
       "Default Encoding: UTF-8\n",
       "Language: en\n",
       "Country: null\n",
       "--></g></svg>"
      ]
     },
     "execution_count": 33,
     "metadata": {},
     "output_type": "execute_result"
    }
   ],
   "source": [
    "%viz --style=\"PLANTUML\" --view=\"Interconnection\" \"ImportTest\""
   ]
  },
  {
   "cell_type": "code",
   "execution_count": 34,
   "id": "024e7822",
   "metadata": {
    "execution": {
     "iopub.execute_input": "2024-12-16T14:16:22.115298Z",
     "iopub.status.busy": "2024-12-16T14:16:22.115112Z",
     "iopub.status.idle": "2024-12-16T14:16:22.120894Z",
     "shell.execute_reply": "2024-12-16T14:16:22.120716Z"
    }
   },
   "outputs": [
    {
     "data": {
      "image/svg+xml": [
       "<?xml version=\"1.0\" encoding=\"UTF-8\" standalone=\"no\"?><svg xmlns=\"http://www.w3.org/2000/svg\" xmlns:xlink=\"http://www.w3.org/1999/xlink\" contentStyleType=\"text/css\" height=\"10px\" preserveAspectRatio=\"none\" style=\"width:10px;height:10px;background:#FFFFFF;\" version=\"1.1\" viewBox=\"0 0 10 10\" width=\"10px\" zoomAndPan=\"magnify\"><defs/><g><!--MD5=[5b85ed15c012f432344d03f88cdcf85b]\n",
       "@startuml\r\n",
       " skinparam ranksep 8\r\n",
       "\r\n",
       "@enduml\r\n",
       "\n",
       "PlantUML version 1.2022.7(Mon Aug 22 17:01:30 UTC 2022)\n",
       "(EPL source distribution)\n",
       "Java Runtime: OpenJDK Runtime Environment\n",
       "JVM: OpenJDK 64-Bit Server VM\n",
       "Default Encoding: UTF-8\n",
       "Language: en\n",
       "Country: null\n",
       "--></g></svg>"
      ]
     },
     "execution_count": 34,
     "metadata": {},
     "output_type": "execute_result"
    }
   ],
   "source": [
    "%viz --style=\"PLANTUML\" --view=\"Action\" \"ImportTest\""
   ]
  },
  {
   "cell_type": "code",
   "execution_count": 35,
   "id": "5eb10f4f",
   "metadata": {
    "execution": {
     "iopub.execute_input": "2024-12-16T14:16:22.173001Z",
     "iopub.status.busy": "2024-12-16T14:16:22.172769Z",
     "iopub.status.idle": "2024-12-16T14:16:22.179415Z",
     "shell.execute_reply": "2024-12-16T14:16:22.179264Z"
    }
   },
   "outputs": [
    {
     "data": {
      "image/svg+xml": [
       "<?xml version=\"1.0\" encoding=\"UTF-8\" standalone=\"no\"?><svg xmlns=\"http://www.w3.org/2000/svg\" xmlns:xlink=\"http://www.w3.org/1999/xlink\" contentStyleType=\"text/css\" height=\"10px\" preserveAspectRatio=\"none\" style=\"width:10px;height:10px;background:#FFFFFF;\" version=\"1.1\" viewBox=\"0 0 10 10\" width=\"10px\" zoomAndPan=\"magnify\"><defs/><g><!--MD5=[395e82ba475bd2e80052467b56fa0251]\n",
       "@startuml\r\n",
       " skinparam roundcorner 20\r\n",
       "skinparam BoxPadding 20\r\n",
       "skinparam SequenceBoxBackgroundColor #white\r\n",
       "skinparam style strictuml\r\n",
       "skinparam maxMessageSize 100\r\n",
       "\r\n",
       "@enduml\r\n",
       "\n",
       "PlantUML version 1.2022.7(Mon Aug 22 17:01:30 UTC 2022)\n",
       "(EPL source distribution)\n",
       "Java Runtime: OpenJDK Runtime Environment\n",
       "JVM: OpenJDK 64-Bit Server VM\n",
       "Default Encoding: UTF-8\n",
       "Language: en\n",
       "Country: null\n",
       "--></g></svg>"
      ]
     },
     "execution_count": 35,
     "metadata": {},
     "output_type": "execute_result"
    }
   ],
   "source": [
    "%viz --style=\"PLANTUML\" --view=\"Sequence\" \"ImportTest\""
   ]
  },
  {
   "cell_type": "code",
   "execution_count": 36,
   "id": "4a5f2304",
   "metadata": {
    "execution": {
     "iopub.execute_input": "2024-12-16T14:16:22.235412Z",
     "iopub.status.busy": "2024-12-16T14:16:22.235173Z",
     "iopub.status.idle": "2024-12-16T14:16:22.259561Z",
     "shell.execute_reply": "2024-12-16T14:16:22.258583Z"
    }
   },
   "outputs": [
    {
     "data": {
      "image/svg+xml": [
       "<?xml version=\"1.0\" encoding=\"UTF-8\" standalone=\"no\"?><svg xmlns=\"http://www.w3.org/2000/svg\" xmlns:xlink=\"http://www.w3.org/1999/xlink\" contentStyleType=\"text/css\" height=\"581px\" preserveAspectRatio=\"none\" style=\"width:497px;height:581px;background:#FFFFFF;\" version=\"1.1\" viewBox=\"0 0 497 581\" width=\"497px\" zoomAndPan=\"magnify\"><defs/><g><!--MD5=[fbc87193dbaf4d95561dea2c320d4a47]\n",
       "cluster E1--><g id=\"cluster_E1\"><a href=\"psysml:257ae3bb-e982-4f23-93ec-21786cef6fd4\" target=\"_top\" title=\"psysml:257ae3bb-e982-4f23-93ec-21786cef6fd4\" xlink:actuate=\"onRequest\" xlink:href=\"psysml:257ae3bb-e982-4f23-93ec-21786cef6fd4\" xlink:show=\"new\" xlink:title=\"psysml:257ae3bb-e982-4f23-93ec-21786cef6fd4\" xlink:type=\"simple\"><path d=\"M8.5,6 L88.875,6 A3.75,3.75 0 0 1 91.375,8.5 L98.375,28.2969 L487.5,28.2969 A2.5,2.5 0 0 1 490,30.7969 L490,571.5 A2.5,2.5 0 0 1 487.5,574 L8.5,574 A2.5,2.5 0 0 1 6,571.5 L6,8.5 A2.5,2.5 0 0 1 8.5,6 \" fill=\"none\" style=\"stroke:#000000;stroke-width:1.5;\"/><line style=\"stroke:#000000;stroke-width:1.5;\" x1=\"6\" x2=\"98.375\" y1=\"28.2969\" y2=\"28.2969\"/><text fill=\"#000000\" font-family=\"sans-serif\" font-size=\"14\" font-weight=\"bold\" lengthAdjust=\"spacing\" textLength=\"79.375\" x=\"10\" y=\"20.9951\">ImportTest</text></a></g><!--MD5=[e4f7fae6ed58524ba242bb0b0d3be6b7]\n",
       "cluster E2--><g id=\"cluster_E2\"><a href=\"psysml:d86f8a04-756e-41fe-890d-bee1afc1808f\" target=\"_top\" title=\"psysml:d86f8a04-756e-41fe-890d-bee1afc1808f\" xlink:actuate=\"onRequest\" xlink:href=\"psysml:d86f8a04-756e-41fe-890d-bee1afc1808f\" xlink:show=\"new\" xlink:title=\"psysml:d86f8a04-756e-41fe-890d-bee1afc1808f\" xlink:type=\"simple\"><path d=\"M186.5,57 L224.25,57 A3.75,3.75 0 0 1 226.75,59.5 L233.75,79.2969 L455.5,79.2969 A2.5,2.5 0 0 1 458,81.7969 L458,169.5 A2.5,2.5 0 0 1 455.5,172 L186.5,172 A2.5,2.5 0 0 1 184,169.5 L184,59.5 A2.5,2.5 0 0 1 186.5,57 \" fill=\"none\" style=\"stroke:#000000;stroke-width:1.5;\"/><line style=\"stroke:#000000;stroke-width:1.5;\" x1=\"184\" x2=\"233.75\" y1=\"79.2969\" y2=\"79.2969\"/><text fill=\"#000000\" font-family=\"sans-serif\" font-size=\"14\" font-weight=\"bold\" lengthAdjust=\"spacing\" textLength=\"36.75\" x=\"188\" y=\"71.9951\">Pkg1</text></a></g><!--MD5=[de5ec2e2e8f62f467e546659f5068c88]\n",
       "cluster E5--><g id=\"cluster_E5\"><a href=\"psysml:87b5aefc-a384-45d2-9563-354f132d05b6\" target=\"_top\" title=\"psysml:87b5aefc-a384-45d2-9563-354f132d05b6\" xlink:actuate=\"onRequest\" xlink:href=\"psysml:87b5aefc-a384-45d2-9563-354f132d05b6\" xlink:show=\"new\" xlink:title=\"psysml:87b5aefc-a384-45d2-9563-354f132d05b6\" xlink:type=\"simple\"><path d=\"M114.5,237 L152.25,237 A3.75,3.75 0 0 1 154.75,239.5 L161.75,259.2969 L420.5,259.2969 A2.5,2.5 0 0 1 423,261.7969 L423,539.5 A2.5,2.5 0 0 1 420.5,542 L114.5,542 A2.5,2.5 0 0 1 112,539.5 L112,239.5 A2.5,2.5 0 0 1 114.5,237 \" fill=\"none\" style=\"stroke:#000000;stroke-width:1.5;\"/><line style=\"stroke:#000000;stroke-width:1.5;\" x1=\"112\" x2=\"161.75\" y1=\"259.2969\" y2=\"259.2969\"/><text fill=\"#000000\" font-family=\"sans-serif\" font-size=\"14\" font-weight=\"bold\" lengthAdjust=\"spacing\" textLength=\"36.75\" x=\"116\" y=\"251.9951\">Pkg2</text></a></g><!--MD5=[14e3b0961a2654348d326746436168a1]\n",
       "cluster E6--><g id=\"cluster_E6\"><a href=\"psysml:74f758db-603d-4dff-97e1-05ce4d0c3ab8\" target=\"_top\" title=\"psysml:74f758db-603d-4dff-97e1-05ce4d0c3ab8\" xlink:actuate=\"onRequest\" xlink:href=\"psysml:74f758db-603d-4dff-97e1-05ce4d0c3ab8\" xlink:show=\"new\" xlink:title=\"psysml:74f758db-603d-4dff-97e1-05ce4d0c3ab8\" xlink:type=\"simple\"><path d=\"M154.5,296 L201.6875,296 A3.75,3.75 0 0 1 204.1875,298.5 L211.1875,318.2969 L372.5,318.2969 A2.5,2.5 0 0 1 375,320.7969 L375,499.5 A2.5,2.5 0 0 1 372.5,502 L154.5,502 A2.5,2.5 0 0 1 152,499.5 L152,298.5 A2.5,2.5 0 0 1 154.5,296 \" fill=\"none\" style=\"stroke:#000000;stroke-width:1.5;\"/><line style=\"stroke:#000000;stroke-width:1.5;\" x1=\"152\" x2=\"211.1875\" y1=\"318.2969\" y2=\"318.2969\"/><text fill=\"#000000\" font-family=\"sans-serif\" font-size=\"14\" font-weight=\"bold\" lengthAdjust=\"spacing\" textLength=\"46.1875\" x=\"156\" y=\"310.9951\">Pkg21</text></a></g><!--MD5=[168fadf3d0c3fd93dd5d6da1b1d7ab76]\n",
       "cluster E7--><g id=\"cluster_E7\"><a href=\"psysml:c9292eea-a9ed-4d7d-b554-73a415b23d76\" target=\"_top\" title=\"psysml:c9292eea-a9ed-4d7d-b554-73a415b23d76\" xlink:actuate=\"onRequest\" xlink:href=\"psysml:c9292eea-a9ed-4d7d-b554-73a415b23d76\" xlink:show=\"new\" xlink:title=\"psysml:c9292eea-a9ed-4d7d-b554-73a415b23d76\" xlink:type=\"simple\"><path d=\"M202.5,355 L259.125,355 A3.75,3.75 0 0 1 261.625,357.5 L268.625,377.2969 L332.5,377.2969 A2.5,2.5 0 0 1 335,379.7969 L335,459.5 A2.5,2.5 0 0 1 332.5,462 L202.5,462 A2.5,2.5 0 0 1 200,459.5 L200,357.5 A2.5,2.5 0 0 1 202.5,355 \" fill=\"none\" style=\"stroke:#000000;stroke-width:1.5;\"/><line style=\"stroke:#000000;stroke-width:1.5;\" x1=\"200\" x2=\"268.625\" y1=\"377.2969\" y2=\"377.2969\"/><text fill=\"#000000\" font-family=\"sans-serif\" font-size=\"14\" font-weight=\"bold\" lengthAdjust=\"spacing\" textLength=\"55.625\" x=\"204\" y=\"369.9951\">Pkg211</text></a></g><!--MD5=[09b614a08d8cba4a07c9adeb5e0fee81]\n",
       "class E3--><a href=\"psysml:c9f16dae-c47d-4af9-8178-9fb29f2ca8fe\" target=\"_top\" title=\"psysml:c9f16dae-c47d-4af9-8178-9fb29f2ca8fe\" xlink:actuate=\"onRequest\" xlink:href=\"psysml:c9f16dae-c47d-4af9-8178-9fb29f2ca8fe\" xlink:show=\"new\" xlink:title=\"psysml:c9f16dae-c47d-4af9-8178-9fb29f2ca8fe\" xlink:type=\"simple\"><g id=\"elem_E3\"><rect fill=\"#F1F1F1\" height=\"48.2656\" id=\"E3\" rx=\"10\" ry=\"10\" style=\"stroke:#181818;stroke-width:0.5;\" width=\"112\" x=\"227\" y=\"100\"/><ellipse cx=\"242\" cy=\"120.1328\" fill=\"#32CD32\" rx=\"11\" ry=\"11\" style=\"stroke:#181818;stroke-width:1.0;\"/><path d=\"M238.8594,126.6328 L238.8594,114.4922 L242.8906,114.4922 Q244.9844,114.4922 246,115.4766 Q247.0156,116.4453 247.0156,118.2734 Q247.0156,119.4766 246.5781,120.3828 Q246.1563,121.2891 245.2031,121.8047 Q244.2656,122.3203 242.7344,122.3203 L241.2344,122.3203 L241.2344,126.6328 L238.8594,126.6328 Z M242.4844,120.2266 Q243.5313,120.2266 244.0469,119.7422 Q244.5781,119.2578 244.5781,118.3672 Q244.5781,117.4766 244.1406,117.0391 Q243.7188,116.5859 242.7969,116.5859 L241.2344,116.5859 L241.2344,120.2266 L242.4844,120.2266 Z \" fill=\"#000000\"/><text fill=\"#000000\" font-family=\"sans-serif\" font-size=\"12\" font-style=\"italic\" lengthAdjust=\"spacing\" textLength=\"40\" x=\"276\" y=\"116.1387\">«part»</text><text fill=\"#000000\" font-family=\"sans-serif\" font-size=\"14\" lengthAdjust=\"spacing\" textLength=\"72\" x=\"256\" y=\"131.9639\">p11: P211</text><line style=\"stroke:#181818;stroke-width:0.5;\" x1=\"228\" x2=\"338\" y1=\"140.2656\" y2=\"140.2656\"/></g></a><!--MD5=[ebbe1d658d1005bcc118a6aa81145e00]\n",
       "class E4--><a href=\"psysml:5a85d6e7-c399-4e25-bc8b-7b1310ff596a\" target=\"_top\" title=\"psysml:5a85d6e7-c399-4e25-bc8b-7b1310ff596a\" xlink:actuate=\"onRequest\" xlink:href=\"psysml:5a85d6e7-c399-4e25-bc8b-7b1310ff596a\" xlink:show=\"new\" xlink:title=\"psysml:5a85d6e7-c399-4e25-bc8b-7b1310ff596a\" xlink:type=\"simple\"><g id=\"elem_E4\"><rect fill=\"#F1F1F1\" height=\"40\" id=\"E4\" rx=\"2.5\" ry=\"2.5\" style=\"stroke:#181818;stroke-width:0.5;\" width=\"59\" x=\"374.5\" y=\"104\"/><ellipse cx=\"389.5\" cy=\"120\" fill=\"#008000\" rx=\"11\" ry=\"11\" style=\"stroke:#181818;stroke-width:1.0;\"/><path d=\"M386.3594,126.5 L386.3594,114.3594 L390.1563,114.3594 Q392.1563,114.3594 393.2031,115.0625 Q394.2656,115.7656 394.2656,117.3438 Q394.2656,118.4375 393.7656,119.1563 Q393.2813,119.875 392.4531,120.0625 L392.4531,120.1406 Q393.375,120.3594 393.9375,121.0313 Q394.5156,121.6875 394.5156,122.9531 Q394.5156,124.6094 393.4688,125.5625 Q392.4219,126.5 390.5625,126.5 L386.3594,126.5 Z M390.1406,119.1406 Q391.0313,119.1406 391.3906,118.8125 Q391.7656,118.4688 391.7656,117.7656 Q391.7656,117.0313 391.375,116.7188 Q390.9844,116.3906 390.0469,116.3906 L388.6563,116.3906 L388.6563,119.1406 L390.1406,119.1406 Z M390.3281,124.4844 Q391.2344,124.4844 391.5938,124.0469 Q391.9531,123.5938 391.9531,122.8125 Q391.9531,122.0313 391.5781,121.6406 Q391.2188,121.2344 390.2344,121.2344 L388.6563,121.2344 L388.6563,124.4844 L390.3281,124.4844 Z \" fill=\"#000000\"/><text fill=\"#000000\" font-family=\"sans-serif\" font-size=\"14\" lengthAdjust=\"spacing\" textLength=\"27\" x=\"403.5\" y=\"124.8467\">P12</text><line style=\"stroke:#181818;stroke-width:0.5;\" x1=\"375.5\" x2=\"432.5\" y1=\"136\" y2=\"136\"/></g></a><!--MD5=[b9389687b975829384b498ac4b7476b2]\n",
       "class E8--><a href=\"psysml:60f2756c-cfe4-4496-b687-ff5dbf9a385d\" target=\"_top\" title=\"psysml:60f2756c-cfe4-4496-b687-ff5dbf9a385d\" xlink:actuate=\"onRequest\" xlink:href=\"psysml:60f2756c-cfe4-4496-b687-ff5dbf9a385d\" xlink:show=\"new\" xlink:title=\"psysml:60f2756c-cfe4-4496-b687-ff5dbf9a385d\" xlink:type=\"simple\"><g id=\"elem_E8\"><rect fill=\"#F1F1F1\" height=\"40\" id=\"E8\" rx=\"2.5\" ry=\"2.5\" style=\"stroke:#181818;stroke-width:0.5;\" width=\"68\" x=\"243\" y=\"398\"/><ellipse cx=\"258\" cy=\"414\" fill=\"#008000\" rx=\"11\" ry=\"11\" style=\"stroke:#181818;stroke-width:1.0;\"/><path d=\"M254.8594,420.5 L254.8594,408.3594 L258.6563,408.3594 Q260.6563,408.3594 261.7031,409.0625 Q262.7656,409.7656 262.7656,411.3438 Q262.7656,412.4375 262.2656,413.1563 Q261.7813,413.875 260.9531,414.0625 L260.9531,414.1406 Q261.875,414.3594 262.4375,415.0313 Q263.0156,415.6875 263.0156,416.9531 Q263.0156,418.6094 261.9688,419.5625 Q260.9219,420.5 259.0625,420.5 L254.8594,420.5 Z M258.6406,413.1406 Q259.5313,413.1406 259.8906,412.8125 Q260.2656,412.4688 260.2656,411.7656 Q260.2656,411.0313 259.875,410.7188 Q259.4844,410.3906 258.5469,410.3906 L257.1563,410.3906 L257.1563,413.1406 L258.6406,413.1406 Z M258.8281,418.4844 Q259.7344,418.4844 260.0938,418.0469 Q260.4531,417.5938 260.4531,416.8125 Q260.4531,416.0313 260.0781,415.6406 Q259.7188,415.2344 258.7344,415.2344 L257.1563,415.2344 L257.1563,418.4844 L258.8281,418.4844 Z \" fill=\"#000000\"/><text fill=\"#000000\" font-family=\"sans-serif\" font-size=\"14\" lengthAdjust=\"spacing\" textLength=\"36\" x=\"272\" y=\"418.8467\">P211</text><line style=\"stroke:#181818;stroke-width:0.5;\" x1=\"244\" x2=\"310\" y1=\"430\" y2=\"430\"/></g></a><!--MD5=[b0060bfdb0500b904584095522b4da3c]\n",
       "link E2 to E8--><g id=\"link_E2_E8\"><a href=\"psysml:7a09cf9a-4d44-4715-925a-a999429b18c6\" target=\"_top\" title=\"psysml:7a09cf9a-4d44-4715-925a-a999429b18c6\" xlink:actuate=\"onRequest\" xlink:href=\"psysml:7a09cf9a-4d44-4715-925a-a999429b18c6\" xlink:show=\"new\" xlink:title=\"psysml:7a09cf9a-4d44-4715-925a-a999429b18c6\" xlink:type=\"simple\"><path d=\"M199.7841,172.0926 C199.8301,172.1942 199.8765,172.2957 199.9231,172.3971 C200.0163,172.5998 200.1105,172.8021 200.2058,173.0037 C200.5872,173.8104 200.9857,174.6083 201.4021,175.3954 C202.2351,176.9696 203.1398,178.5009 204.1223,179.9743 C206.0873,182.9211 208.3637,185.6363 211,188 C225.47,200.98 240.82,181.71 254,196 C304.25,250.46 292.04,347.63 282.81,392.74 \" fill=\"none\" id=\"E2-to-E8\" style=\"stroke:#181818;stroke-width:1.0;stroke-dasharray:7.0,7.0;\"/><polygon fill=\"#181818\" points=\"281.76,397.72,287.5283,389.7371,282.7901,392.8273,279.6999,388.089,281.76,397.72\" style=\"stroke:#181818;stroke-width:1.0;\"/><text fill=\"#000000\" font-family=\"sans-serif\" font-size=\"13\" lengthAdjust=\"spacing\" textLength=\"58\" x=\"265\" y=\"209.0669\">«import»</text></a></g><!--MD5=[e3e28c1befcf002155aa15e1416b4315]\n",
       "link E2 to E6--><g id=\"link_E2_E6\"><a href=\"psysml:4d48d5b8-8a2b-403b-a600-382befb1c751\" target=\"_top\" title=\"psysml:4d48d5b8-8a2b-403b-a600-382befb1c751\" xlink:actuate=\"onRequest\" xlink:href=\"psysml:4d48d5b8-8a2b-403b-a600-382befb1c751\" xlink:show=\"new\" xlink:title=\"psysml:4d48d5b8-8a2b-403b-a600-382befb1c751\" xlink:type=\"simple\"><path d=\"M183.9382,127.1266 C183.835,127.1562 183.7309,127.1861 183.6261,127.2163 C183.4163,127.2767 183.2032,127.3385 182.9867,127.4015 C181.2548,127.9056 179.3098,128.4925 177.1844,129.1652 C168.6825,131.8559 157.2925,135.9206 145.1,141.5638 C120.715,152.85 93.12,170.45 79,196 C54.095,241.065 73.3275,295.305 99.2825,338.7725 C112.26,360.5063 126.9181,379.5469 138.58,393.4009 C141.4955,396.8645 144.2237,400.0038 146.6915,402.78 C147.9255,404.1682 149.0943,405.4655 150.1889,406.6672 C150.7362,407.268 151.265,407.845 151.7741,408.3974 \" fill=\"none\" id=\"E2-to-E6\" style=\"stroke:#181818;stroke-width:1.0;stroke-dasharray:7.0,7.0;\"/><polygon fill=\"#181818\" points=\"151.7741,408.3974,148.6166,399.0684,148.3857,404.7205,142.7336,404.4897,151.7741,408.3974\" style=\"stroke:#181818;stroke-width:1.0;\"/><text fill=\"#000000\" font-family=\"sans-serif\" font-size=\"13\" lengthAdjust=\"spacing\" textLength=\"65\" x=\"80\" y=\"209.0669\">«import»*</text></a></g><!--MD5=[e3d2a08a9c9236652057e8ed0cbc9b62]\n",
       "link E2 to E7--><g id=\"link_E2_E7\"><a href=\"psysml:435ffdce-fa99-42b8-aa7d-b79facf9bf9f\" target=\"_top\" title=\"psysml:435ffdce-fa99-42b8-aa7d-b79facf9bf9f\" xlink:actuate=\"onRequest\" xlink:href=\"psysml:435ffdce-fa99-42b8-aa7d-b79facf9bf9f\" xlink:show=\"new\" xlink:title=\"psysml:435ffdce-fa99-42b8-aa7d-b79facf9bf9f\" xlink:type=\"simple\"><path d=\"M183.8365,133.7963 C183.2431,134.4787 182.6285,135.1946 181.9967,135.9417 C176.9422,141.9191 170.7844,149.8994 165.5338,158.7413 C155.0325,176.425 148.16,197.555 161,213 C173.42,227.95 191.42,206.18 204,221 C217.875,237.35 219.06,285.085 216.6863,329.35 C216.3895,334.8831 216.0372,340.362 215.6471,345.7186 C215.4521,348.3969 215.2476,351.0447 215.0359,353.6533 C215.0094,353.9794 214.9828,354.3049 214.9561,354.6297 \" fill=\"none\" id=\"E2-to-E7\" style=\"stroke:#181818;stroke-width:1.0;stroke-dasharray:7.0,7.0;\"/><polygon fill=\"#181818\" points=\"214.9561,354.6297,219.6795,345.9874,215.3655,349.6465,211.7064,345.3325,214.9561,354.6297\" style=\"stroke:#181818;stroke-width:1.0;\"/><text fill=\"#000000\" font-family=\"sans-serif\" font-size=\"13\" lengthAdjust=\"spacing\" textLength=\"87\" x=\"162\" y=\"209.0669\">«import»*::**</text></a></g><!--MD5=[ca5a752d6098d8a44b3f88316e7452d1]\n",
       "link E3 to E8--><g id=\"link_E3_E8\"><a href=\"psysml:c2b3862a-e64c-4984-9133-ea986cde4555\" target=\"_top\" title=\"psysml:c2b3862a-e64c-4984-9133-ea986cde4555\" xlink:actuate=\"onRequest\" xlink:href=\"psysml:c2b3862a-e64c-4984-9133-ea986cde4555\" xlink:show=\"new\" xlink:title=\"psysml:c2b3862a-e64c-4984-9133-ea986cde4555\" xlink:type=\"simple\"><path d=\"M315.79,148.08 C330.43,160.43 346.13,177 354,196 C356.89,202.98 358.78,207.15 354,213 C342.82,226.71 327.44,208.42 315,221 C274.22,262.22 270.51,333.27 272.84,377.55 \" fill=\"none\" id=\"E3-to-E8\" style=\"stroke:#181818;stroke-width:1.0;\"/><polygon fill=\"#FFFFFF\" points=\"274.41,397.71,265.9522,379.3126,279.9097,378.2228,274.41,397.71\" style=\"stroke:#181818;stroke-width:1.0;\"/><ellipse cx=\"267.5024\" cy=\"373.4742\" fill=\"#181818\" rx=\"2\" ry=\"2\" style=\"stroke:#181818;stroke-width:1.0;\"/><ellipse cx=\"277.4721\" cy=\"372.6957\" fill=\"#181818\" rx=\"2\" ry=\"2\" style=\"stroke:#181818;stroke-width:1.0;\"/></a></g><!--MD5=[15ebcb19ae302d9b601edb458606d402]\n",
       "link E5 to E2--><g id=\"link_E5_E2\"><a href=\"psysml:2e43f05d-56e8-4995-94de-93836f9907a6\" target=\"_top\" title=\"psysml:2e43f05d-56e8-4995-94de-93836f9907a6\" xlink:actuate=\"onRequest\" xlink:href=\"psysml:2e43f05d-56e8-4995-94de-93836f9907a6\" xlink:show=\"new\" xlink:title=\"psysml:2e43f05d-56e8-4995-94de-93836f9907a6\" xlink:type=\"simple\"><path d=\"M369.1567,236.7876 C368.7205,236.1068 368.2802,235.4291 367.8358,234.7544 C366.9468,233.4052 366.0411,232.0685 365.1183,230.7451 C363.2728,228.0985 361.3589,225.5056 359.3743,222.9738 C351.4359,212.8467 342.365,203.6975 332,196 C310.37,179.93 232.09,204.78 211,188 C208.2288,185.795 205.85,183.2002 203.8093,180.3422 C202.789,178.9133 201.8532,177.4185 200.9951,175.8739 C200.5661,175.1015 200.1564,174.3167 199.7654,173.5214 C199.5699,173.1237 199.379,172.7235 199.1927,172.3208 C199.1461,172.2201 199.0998,172.1193 199.0538,172.0184 \" fill=\"none\" id=\"E5-to-E2\" style=\"stroke:#181818;stroke-width:1.0;stroke-dasharray:7.0,7.0;\"/><polygon fill=\"#181818\" points=\"199.0538,172.0184,199.1469,181.8668,201.1276,176.568,206.4263,178.5487,199.0538,172.0184\" style=\"stroke:#181818;stroke-width:1.0;\"/><text fill=\"#000000\" font-family=\"sans-serif\" font-size=\"13\" lengthAdjust=\"spacing\" textLength=\"65\" x=\"351\" y=\"209.0669\">«import»*</text></a></g><!--MD5=[d7bb3fb34add81b710575eb3799fa2ad]\n",
       "link E8 to E4--><g id=\"link_E8_E4\"><a href=\"psysml:6ab4f965-70f0-4435-9c9c-0953ad10c713\" target=\"_top\" title=\"psysml:6ab4f965-70f0-4435-9c9c-0953ad10c713\" xlink:actuate=\"onRequest\" xlink:href=\"psysml:6ab4f965-70f0-4435-9c9c-0953ad10c713\" xlink:show=\"new\" xlink:title=\"psysml:6ab4f965-70f0-4435-9c9c-0953ad10c713\" xlink:type=\"simple\"><path d=\"M273.91,397.71 C268.75,357.72 263.47,265.81 315,221 C327.85,209.83 456.28,225.35 468,213 C484.4,195.72 469.12,174.12 449.39,156.64 \" fill=\"none\" id=\"E8-to-E4\" style=\"stroke:#181818;stroke-width:1.0;\"/><polygon fill=\"none\" points=\"444.76,161.9,433.51,143.94,453.5,150.97,444.76,161.9\" style=\"stroke:#181818;stroke-width:1.0;\"/></a></g><!--MD5=[6d14db8220a1aa0c33ce25af267a17ce]\n",
       "@startuml\r\n",
       " \r\n",
       "package \"ImportTest\" as E1  [[psysml:257ae3bb-e982-4f23-93ec-21786cef6fd4 ]]  {\r\n",
       "package \"Pkg1\" as E2  [[psysml:d86f8a04-756e-41fe-890d-bee1afc1808f ]]  {\r\n",
       "comp usage \"p11: P211  \" as E3  << << (P,limegreen) part>> [[psysml:c9f16dae-c47d-4af9-8178-9fb29f2ca8fe ]] {\r\n",
       "}\r\n",
       "comp def \"P12\" as E4  << << (B,green) >> [[psysml:5a85d6e7-c399-4e25-bc8b-7b1310ff596a ]] {\r\n",
       "}\r\n",
       "}\r\n",
       "package \"Pkg2\" as E5  [[psysml:87b5aefc-a384-45d2-9563-354f132d05b6 ]]  {\r\n",
       "package \"Pkg21\" as E6  [[psysml:74f758db-603d-4dff-97e1-05ce4d0c3ab8 ]]  {\r\n",
       "package \"Pkg211\" as E7  [[psysml:c9292eea-a9ed-4d7d-b554-73a415b23d76 ]]  {\r\n",
       "comp def \"P211\" as E8  << << (B,green) >> [[psysml:60f2756c-cfe4-4496-b687-ff5dbf9a385d ]] {\r\n",
       "}\r\n",
       "}\r\n",
       "}\r\n",
       "}\r\n",
       "}\r\n",
       "E2 ..> E8 [[psysml:7a09cf9a-4d44-4715-925a-a999429b18c6 ]] : <<import>>\r\n",
       "E2 ..> E6 [[psysml:4d48d5b8-8a2b-403b-a600-382befb1c751 ]] : <<import>>*\r\n",
       "E2 ..> E7 [[psysml:435ffdce-fa99-42b8-aa7d-b79facf9bf9f ]] : <<import>>*::**\r\n",
       "E3 - -:|> E8 [[psysml:c2b3862a-e64c-4984-9133-ea986cde4555 ]] \r\n",
       "E5 ..> E2 [[psysml:2e43f05d-56e8-4995-94de-93836f9907a6 ]] : <<import>>*\r\n",
       "E8 - -|> E4 [[psysml:6ab4f965-70f0-4435-9c9c-0953ad10c713 ]] \r\n",
       "@enduml\r\n",
       "\n",
       "PlantUML version 1.2022.7(Mon Aug 22 17:01:30 UTC 2022)\n",
       "(EPL source distribution)\n",
       "Java Runtime: OpenJDK Runtime Environment\n",
       "JVM: OpenJDK 64-Bit Server VM\n",
       "Default Encoding: UTF-8\n",
       "Language: en\n",
       "Country: null\n",
       "--></g></svg>"
      ]
     },
     "execution_count": 36,
     "metadata": {},
     "output_type": "execute_result"
    }
   ],
   "source": [
    "%viz --style=\"PLANTUML\" --view=\"MIXED\" \"ImportTest\""
   ]
  },
  {
   "cell_type": "code",
   "execution_count": 37,
   "id": "dde81f7c",
   "metadata": {
    "execution": {
     "iopub.execute_input": "2024-12-16T14:16:22.315212Z",
     "iopub.status.busy": "2024-12-16T14:16:22.314897Z",
     "iopub.status.idle": "2024-12-16T14:16:22.335835Z",
     "shell.execute_reply": "2024-12-16T14:16:22.334807Z"
    }
   },
   "outputs": [
    {
     "data": {
      "image/svg+xml": [
       "<?xml version=\"1.0\" encoding=\"UTF-8\" standalone=\"no\"?><svg xmlns=\"http://www.w3.org/2000/svg\" xmlns:xlink=\"http://www.w3.org/1999/xlink\" contentStyleType=\"text/css\" height=\"589px\" preserveAspectRatio=\"none\" style=\"width:517px;height:589px;background:#FFFFFF;\" version=\"1.1\" viewBox=\"0 0 517 589\" width=\"517px\" zoomAndPan=\"magnify\"><defs/><g><!--MD5=[fbc87193dbaf4d95561dea2c320d4a47]\n",
       "cluster E1--><g id=\"cluster_E1\"><a href=\"psysml:257ae3bb-e982-4f23-93ec-21786cef6fd4\" target=\"_top\" title=\"psysml:257ae3bb-e982-4f23-93ec-21786cef6fd4\" xlink:actuate=\"onRequest\" xlink:href=\"psysml:257ae3bb-e982-4f23-93ec-21786cef6fd4\" xlink:show=\"new\" xlink:title=\"psysml:257ae3bb-e982-4f23-93ec-21786cef6fd4\" xlink:type=\"simple\"><polygon fill=\"none\" points=\"16,6,101.375,6,108.375,28.2969,500,28.2969,500,582,16,582,16,6\" style=\"stroke:#000000;stroke-width:1.5;\"/><line style=\"stroke:#000000;stroke-width:1.5;\" x1=\"16\" x2=\"108.375\" y1=\"28.2969\" y2=\"28.2969\"/><text fill=\"#000000\" font-family=\"sans-serif\" font-size=\"14\" font-weight=\"bold\" lengthAdjust=\"spacing\" textLength=\"79.375\" x=\"20\" y=\"20.9951\">ImportTest</text></a></g><!--MD5=[e4f7fae6ed58524ba242bb0b0d3be6b7]\n",
       "cluster E2--><g id=\"cluster_E2\"><a href=\"psysml:d86f8a04-756e-41fe-890d-bee1afc1808f\" target=\"_top\" title=\"psysml:d86f8a04-756e-41fe-890d-bee1afc1808f\" xlink:actuate=\"onRequest\" xlink:href=\"psysml:d86f8a04-756e-41fe-890d-bee1afc1808f\" xlink:show=\"new\" xlink:title=\"psysml:d86f8a04-756e-41fe-890d-bee1afc1808f\" xlink:type=\"simple\"><polygon fill=\"none\" points=\"210,57,252.75,57,259.75,79.2969,468,79.2969,468,172,210,172,210,57\" style=\"stroke:#000000;stroke-width:1.5;\"/><line style=\"stroke:#000000;stroke-width:1.5;\" x1=\"210\" x2=\"259.75\" y1=\"79.2969\" y2=\"79.2969\"/><text fill=\"#000000\" font-family=\"sans-serif\" font-size=\"14\" font-weight=\"bold\" lengthAdjust=\"spacing\" textLength=\"36.75\" x=\"214\" y=\"71.9951\">Pkg1</text></a></g><!--MD5=[de5ec2e2e8f62f467e546659f5068c88]\n",
       "cluster E5--><g id=\"cluster_E5\"><a href=\"psysml:87b5aefc-a384-45d2-9563-354f132d05b6\" target=\"_top\" title=\"psysml:87b5aefc-a384-45d2-9563-354f132d05b6\" xlink:actuate=\"onRequest\" xlink:href=\"psysml:87b5aefc-a384-45d2-9563-354f132d05b6\" xlink:show=\"new\" xlink:title=\"psysml:87b5aefc-a384-45d2-9563-354f132d05b6\" xlink:type=\"simple\"><polygon fill=\"none\" points=\"121,237,163.75,237,170.75,259.2969,434,259.2969,434,550,121,550,121,237\" style=\"stroke:#000000;stroke-width:1.5;\"/><line style=\"stroke:#000000;stroke-width:1.5;\" x1=\"121\" x2=\"170.75\" y1=\"259.2969\" y2=\"259.2969\"/><text fill=\"#000000\" font-family=\"sans-serif\" font-size=\"14\" font-weight=\"bold\" lengthAdjust=\"spacing\" textLength=\"36.75\" x=\"125\" y=\"251.9951\">Pkg2</text></a></g><!--MD5=[14e3b0961a2654348d326746436168a1]\n",
       "cluster E6--><g id=\"cluster_E6\"><a href=\"psysml:74f758db-603d-4dff-97e1-05ce4d0c3ab8\" target=\"_top\" title=\"psysml:74f758db-603d-4dff-97e1-05ce4d0c3ab8\" xlink:actuate=\"onRequest\" xlink:href=\"psysml:74f758db-603d-4dff-97e1-05ce4d0c3ab8\" xlink:show=\"new\" xlink:title=\"psysml:74f758db-603d-4dff-97e1-05ce4d0c3ab8\" xlink:type=\"simple\"><polygon fill=\"none\" points=\"161,296,213.1875,296,220.1875,318.2969,386,318.2969,386,510,161,510,161,296\" style=\"stroke:#000000;stroke-width:1.5;\"/><line style=\"stroke:#000000;stroke-width:1.5;\" x1=\"161\" x2=\"220.1875\" y1=\"318.2969\" y2=\"318.2969\"/><text fill=\"#000000\" font-family=\"sans-serif\" font-size=\"14\" font-weight=\"bold\" lengthAdjust=\"spacing\" textLength=\"46.1875\" x=\"165\" y=\"310.9951\">Pkg21</text></a></g><!--MD5=[168fadf3d0c3fd93dd5d6da1b1d7ab76]\n",
       "cluster E7--><g id=\"cluster_E7\"><a href=\"psysml:c9292eea-a9ed-4d7d-b554-73a415b23d76\" target=\"_top\" title=\"psysml:c9292eea-a9ed-4d7d-b554-73a415b23d76\" xlink:actuate=\"onRequest\" xlink:href=\"psysml:c9292eea-a9ed-4d7d-b554-73a415b23d76\" xlink:show=\"new\" xlink:title=\"psysml:c9292eea-a9ed-4d7d-b554-73a415b23d76\" xlink:type=\"simple\"><polygon fill=\"none\" points=\"209,355,270.625,355,277.625,377.2969,346,377.2969,346,470,209,470,209,355\" style=\"stroke:#000000;stroke-width:1.5;\"/><line style=\"stroke:#000000;stroke-width:1.5;\" x1=\"209\" x2=\"277.625\" y1=\"377.2969\" y2=\"377.2969\"/><text fill=\"#000000\" font-family=\"sans-serif\" font-size=\"14\" font-weight=\"bold\" lengthAdjust=\"spacing\" textLength=\"55.625\" x=\"213\" y=\"369.9951\">Pkg211</text></a></g><!--MD5=[09b614a08d8cba4a07c9adeb5e0fee81]\n",
       "class E3--><a href=\"psysml:c9f16dae-c47d-4af9-8178-9fb29f2ca8fe\" target=\"_top\" title=\"psysml:c9f16dae-c47d-4af9-8178-9fb29f2ca8fe\" xlink:actuate=\"onRequest\" xlink:href=\"psysml:c9f16dae-c47d-4af9-8178-9fb29f2ca8fe\" xlink:show=\"new\" xlink:title=\"psysml:c9f16dae-c47d-4af9-8178-9fb29f2ca8fe\" xlink:type=\"simple\"><g id=\"elem_E3\"><rect fill=\"#FFFFFF\" height=\"48.2656\" id=\"E3\" rx=\"10\" ry=\"10\" style=\"stroke:#181818;stroke-width:0.5;\" width=\"86\" x=\"253\" y=\"100\"/><text fill=\"#000000\" font-family=\"sans-serif\" font-size=\"12\" font-style=\"italic\" lengthAdjust=\"spacing\" textLength=\"40\" x=\"276\" y=\"116.1387\">«part»</text><text fill=\"#000000\" font-family=\"sans-serif\" font-size=\"14\" lengthAdjust=\"spacing\" textLength=\"72\" x=\"256\" y=\"131.9639\">p11: P211</text><line style=\"stroke:#181818;stroke-width:0.5;\" x1=\"254\" x2=\"338\" y1=\"140.2656\" y2=\"140.2656\"/></g></a><!--MD5=[ebbe1d658d1005bcc118a6aa81145e00]\n",
       "class E4--><a href=\"psysml:5a85d6e7-c399-4e25-bc8b-7b1310ff596a\" target=\"_top\" title=\"psysml:5a85d6e7-c399-4e25-bc8b-7b1310ff596a\" xlink:actuate=\"onRequest\" xlink:href=\"psysml:5a85d6e7-c399-4e25-bc8b-7b1310ff596a\" xlink:show=\"new\" xlink:title=\"psysml:5a85d6e7-c399-4e25-bc8b-7b1310ff596a\" xlink:type=\"simple\"><g id=\"elem_E4\"><rect fill=\"#FFFFFF\" height=\"48.2656\" id=\"E4\" style=\"stroke:#181818;stroke-width:0.5;\" width=\"70\" x=\"374\" y=\"100\"/><text fill=\"#000000\" font-family=\"sans-serif\" font-size=\"12\" font-style=\"italic\" lengthAdjust=\"spacing\" textLength=\"68\" x=\"375\" y=\"116.1387\">«part  def»</text><text fill=\"#000000\" font-family=\"sans-serif\" font-size=\"14\" lengthAdjust=\"spacing\" textLength=\"27\" x=\"395.5\" y=\"131.9639\">P12</text><line style=\"stroke:#181818;stroke-width:0.5;\" x1=\"375\" x2=\"443\" y1=\"140.2656\" y2=\"140.2656\"/></g></a><!--MD5=[b9389687b975829384b498ac4b7476b2]\n",
       "class E8--><a href=\"psysml:60f2756c-cfe4-4496-b687-ff5dbf9a385d\" target=\"_top\" title=\"psysml:60f2756c-cfe4-4496-b687-ff5dbf9a385d\" xlink:actuate=\"onRequest\" xlink:href=\"psysml:60f2756c-cfe4-4496-b687-ff5dbf9a385d\" xlink:show=\"new\" xlink:title=\"psysml:60f2756c-cfe4-4496-b687-ff5dbf9a385d\" xlink:type=\"simple\"><g id=\"elem_E8\"><rect fill=\"#FFFFFF\" height=\"48.2656\" id=\"E8\" style=\"stroke:#181818;stroke-width:0.5;\" width=\"70\" x=\"252\" y=\"398\"/><text fill=\"#000000\" font-family=\"sans-serif\" font-size=\"12\" font-style=\"italic\" lengthAdjust=\"spacing\" textLength=\"68\" x=\"253\" y=\"414.1387\">«part  def»</text><text fill=\"#000000\" font-family=\"sans-serif\" font-size=\"14\" lengthAdjust=\"spacing\" textLength=\"36\" x=\"269\" y=\"429.9639\">P211</text><line style=\"stroke:#181818;stroke-width:0.5;\" x1=\"253\" x2=\"321\" y1=\"438.2656\" y2=\"438.2656\"/></g></a><!--MD5=[b0060bfdb0500b904584095522b4da3c]\n",
       "link E2 to E8--><g id=\"link_E2_E8\"><a href=\"psysml:7a09cf9a-4d44-4715-925a-a999429b18c6\" target=\"_top\" title=\"psysml:7a09cf9a-4d44-4715-925a-a999429b18c6\" xlink:actuate=\"onRequest\" xlink:href=\"psysml:7a09cf9a-4d44-4715-925a-a999429b18c6\" xlink:show=\"new\" xlink:title=\"psysml:7a09cf9a-4d44-4715-925a-a999429b18c6\" xlink:type=\"simple\"><path d=\"M226.4784,172.2619 C226.5244,172.3641 226.5707,172.4663 226.6172,172.5683 C226.9895,173.3846 227.3777,174.1934 227.7824,174.9929 C228.5919,176.5919 229.4675,178.1539 230.4147,179.6646 C232.3092,182.6861 234.49,185.5025 237,188 C245.87,196.83 256.01,186.37 264,196 C310.7,252.32 301.61,345.84 293.2,392.58 \" fill=\"none\" id=\"E2-to-E8\" style=\"stroke:#181818;stroke-width:1.0;stroke-dasharray:7.0,7.0;\"/><polygon fill=\"#181818\" points=\"292.23,397.77,297.8087,389.6535,293.1445,392.8543,289.9437,388.1902,292.23,397.77\" style=\"stroke:#181818;stroke-width:1.0;\"/><text fill=\"#000000\" font-family=\"sans-serif\" font-size=\"13\" lengthAdjust=\"spacing\" textLength=\"58\" x=\"275\" y=\"209.0669\">«import»</text></a></g><!--MD5=[e3e28c1befcf002155aa15e1416b4315]\n",
       "link E2 to E6--><g id=\"link_E2_E6\"><a href=\"psysml:4d48d5b8-8a2b-403b-a600-382befb1c751\" target=\"_top\" title=\"psysml:4d48d5b8-8a2b-403b-a600-382befb1c751\" xlink:actuate=\"onRequest\" xlink:href=\"psysml:4d48d5b8-8a2b-403b-a600-382befb1c751\" xlink:show=\"new\" xlink:title=\"psysml:4d48d5b8-8a2b-403b-a600-382befb1c751\" xlink:type=\"simple\"><path d=\"M209.7844,126.6885 C209.6745,126.7134 209.5637,126.7387 209.4519,126.7642 C209.0046,126.8663 208.5422,126.9732 208.065,127.085 C206.1563,127.532 204.0125,128.0567 201.6694,128.6645 C192.2969,131.0959 179.735,134.8581 166.2725,140.3037 C139.3475,151.195 108.82,168.82 93,196 C66.865,240.9 84.8675,296.1075 109.8912,340.5988 C122.4031,362.8444 136.6703,382.4109 148.0533,396.6705 C150.899,400.2354 153.5645,403.4685 155.9772,406.329 C157.1836,407.7592 158.3268,409.0962 159.3977,410.335 C159.9331,410.9543 160.4505,411.5491 160.9487,412.1186 \" fill=\"none\" id=\"E2-to-E6\" style=\"stroke:#181818;stroke-width:1.0;stroke-dasharray:7.0,7.0;\"/><polygon fill=\"#181818\" points=\"160.9487,412.1186,158.034,402.711,157.6568,408.3552,152.0125,407.9781,160.9487,412.1186\" style=\"stroke:#181818;stroke-width:1.0;\"/><text fill=\"#000000\" font-family=\"sans-serif\" font-size=\"13\" lengthAdjust=\"spacing\" textLength=\"65\" x=\"94\" y=\"209.0669\">«import»*</text></a></g><!--MD5=[e3d2a08a9c9236652057e8ed0cbc9b62]\n",
       "link E2 to E7--><g id=\"link_E2_E7\"><a href=\"psysml:435ffdce-fa99-42b8-aa7d-b79facf9bf9f\" target=\"_top\" title=\"psysml:435ffdce-fa99-42b8-aa7d-b79facf9bf9f\" xlink:actuate=\"onRequest\" xlink:href=\"psysml:435ffdce-fa99-42b8-aa7d-b79facf9bf9f\" xlink:show=\"new\" xlink:title=\"psysml:435ffdce-fa99-42b8-aa7d-b79facf9bf9f\" xlink:type=\"simple\"><path d=\"M209.9156,133.4819 C209.8545,133.5495 209.7932,133.6175 209.7316,133.6858 C209.239,134.2321 208.7304,134.801 208.2074,135.3916 C207.1616,136.5729 206.0584,137.8408 204.9115,139.188 C202.6178,141.8824 200.1494,144.8941 197.615,148.1638 C187.4775,161.2425 176.285,178.45 171,196 C168.82,203.23 166.18,207.18 171,213 C183.11,227.64 200.74,206.48 213,221 C227.115,237.715 228.305,286.425 225.8738,331.5863 C225.5698,337.2314 225.2094,342.8211 224.8105,348.2859 C224.7107,349.6522 224.6086,351.0106 224.5044,352.3601 C224.4522,353.0348 224.3996,353.7074 224.3464,354.3776 \" fill=\"none\" id=\"E2-to-E7\" style=\"stroke:#181818;stroke-width:1.0;stroke-dasharray:7.0,7.0;\"/><polygon fill=\"#181818\" points=\"224.3464,354.3776,229.0454,345.7219,224.7417,349.3932,221.0704,345.0895,224.3464,354.3776\" style=\"stroke:#181818;stroke-width:1.0;\"/><text fill=\"#000000\" font-family=\"sans-serif\" font-size=\"13\" lengthAdjust=\"spacing\" textLength=\"87\" x=\"172\" y=\"209.0669\">«import»*::**</text></a></g><!--MD5=[ca5a752d6098d8a44b3f88316e7452d1]\n",
       "link E3 to E8--><g id=\"link_E3_E8\"><a href=\"psysml:c2b3862a-e64c-4984-9133-ea986cde4555\" target=\"_top\" title=\"psysml:c2b3862a-e64c-4984-9133-ea986cde4555\" xlink:actuate=\"onRequest\" xlink:href=\"psysml:c2b3862a-e64c-4984-9133-ea986cde4555\" xlink:show=\"new\" xlink:title=\"psysml:c2b3862a-e64c-4984-9133-ea986cde4555\" xlink:type=\"simple\"><path d=\"M318.74,148.33 C338.26,168.43 363.38,194.46 364,196 C366.82,203.01 368.76,207.13 364,213 C353.13,226.4 338.11,208.71 326,221 C285.35,262.26 280.75,332.54 282.7,377.85 \" fill=\"none\" id=\"E3-to-E8\" style=\"stroke:#181818;stroke-width:1.0;\"/><polygon fill=\"#FFFFFF\" points=\"284.06,397.85,275.7871,379.3687,289.7548,378.4189,284.06,397.85\" style=\"stroke:#181818;stroke-width:1.0;\"/><ellipse cx=\"277.3957\" cy=\"373.5461\" fill=\"#181818\" rx=\"2\" ry=\"2\" style=\"stroke:#181818;stroke-width:1.0;\"/><ellipse cx=\"287.3727\" cy=\"372.8677\" fill=\"#181818\" rx=\"2\" ry=\"2\" style=\"stroke:#181818;stroke-width:1.0;\"/></a></g><!--MD5=[15ebcb19ae302d9b601edb458606d402]\n",
       "link E5 to E2--><g id=\"link_E5_E2\"><a href=\"psysml:2e43f05d-56e8-4995-94de-93836f9907a6\" target=\"_top\" title=\"psysml:2e43f05d-56e8-4995-94de-93836f9907a6\" xlink:actuate=\"onRequest\" xlink:href=\"psysml:2e43f05d-56e8-4995-94de-93836f9907a6\" xlink:show=\"new\" xlink:title=\"psysml:2e43f05d-56e8-4995-94de-93836f9907a6\" xlink:type=\"simple\"><path d=\"M378.9609,236.6531 C378.738,236.3074 378.5141,235.9625 378.2891,235.6183 C377.389,234.2417 376.472,232.8777 375.5377,231.5272 C373.669,228.8262 371.7312,226.1791 369.7216,223.5936 C361.6834,213.2516 352.4975,203.8938 342,196 C323.3,181.94 255.24,202.66 237,188 C234.24,185.7813 231.8698,183.1761 229.8356,180.3106 C228.8185,178.8779 227.8853,177.3801 227.0294,175.833 C226.6014,175.0595 226.1928,174.2736 225.8026,173.4773 C225.6075,173.0792 225.417,172.6785 225.231,172.2755 \" fill=\"none\" id=\"E5-to-E2\" style=\"stroke:#181818;stroke-width:1.0;stroke-dasharray:7.0,7.0;\"/><polygon fill=\"#181818\" points=\"225.231,172.2755,225.3696,182.1233,227.3258,176.8155,232.6337,178.7717,225.231,172.2755\" style=\"stroke:#181818;stroke-width:1.0;\"/><text fill=\"#000000\" font-family=\"sans-serif\" font-size=\"13\" lengthAdjust=\"spacing\" textLength=\"65\" x=\"357\" y=\"209.0669\">«import»*</text></a></g><!--MD5=[d7bb3fb34add81b710575eb3799fa2ad]\n",
       "link E8 to E4--><g id=\"link_E8_E4\"><a href=\"psysml:6ab4f965-70f0-4435-9c9c-0953ad10c713\" target=\"_top\" title=\"psysml:6ab4f965-70f0-4435-9c9c-0953ad10c713\" xlink:actuate=\"onRequest\" xlink:href=\"psysml:6ab4f965-70f0-4435-9c9c-0953ad10c713\" xlink:show=\"new\" xlink:title=\"psysml:6ab4f965-70f0-4435-9c9c-0953ad10c713\" xlink:type=\"simple\"><path d=\"M283.44,397.77 C278.41,355.31 274.86,265.44 326,221 C338.77,209.91 466.36,225.27 478,213 C494.05,196.08 479.84,175.66 460.24,158.75 \" fill=\"none\" id=\"E8-to-E4\" style=\"stroke:#181818;stroke-width:1.0;\"/><polygon fill=\"none\" points=\"455.75,164.13,444.23,146.35,464.32,153.06,455.75,164.13\" style=\"stroke:#181818;stroke-width:1.0;\"/></a></g><!--MD5=[77fb692bdf405a6f01fe26511bd119f0]\n",
       "@startuml\r\n",
       "skin sysmlbw\r\n",
       "skinparam monochrome true\r\n",
       "skinparam wrapWidth 300\r\n",
       "hide circle\r\n",
       "\r\n",
       "package \"ImportTest\" as E1  [[psysml:257ae3bb-e982-4f23-93ec-21786cef6fd4 ]]  {\r\n",
       "package \"Pkg1\" as E2  [[psysml:d86f8a04-756e-41fe-890d-bee1afc1808f ]]  {\r\n",
       "comp usage \"p11: P211  \" as E3  <<(T,blue) part>> [[psysml:c9f16dae-c47d-4af9-8178-9fb29f2ca8fe ]] {\r\n",
       "}\r\n",
       "comp def \"P12\" as E4  <<(T,blue) part  def>> [[psysml:5a85d6e7-c399-4e25-bc8b-7b1310ff596a ]] {\r\n",
       "}\r\n",
       "}\r\n",
       "package \"Pkg2\" as E5  [[psysml:87b5aefc-a384-45d2-9563-354f132d05b6 ]]  {\r\n",
       "package \"Pkg21\" as E6  [[psysml:74f758db-603d-4dff-97e1-05ce4d0c3ab8 ]]  {\r\n",
       "package \"Pkg211\" as E7  [[psysml:c9292eea-a9ed-4d7d-b554-73a415b23d76 ]]  {\r\n",
       "comp def \"P211\" as E8  <<(T,blue) part  def>> [[psysml:60f2756c-cfe4-4496-b687-ff5dbf9a385d ]] {\r\n",
       "}\r\n",
       "}\r\n",
       "}\r\n",
       "}\r\n",
       "}\r\n",
       "E2 ..> E8 [[psysml:7a09cf9a-4d44-4715-925a-a999429b18c6 ]] : <<import>>\r\n",
       "E2 ..> E6 [[psysml:4d48d5b8-8a2b-403b-a600-382befb1c751 ]] : <<import>>*\r\n",
       "E2 ..> E7 [[psysml:435ffdce-fa99-42b8-aa7d-b79facf9bf9f ]] : <<import>>*::**\r\n",
       "E3 - -:|> E8 [[psysml:c2b3862a-e64c-4984-9133-ea986cde4555 ]] \r\n",
       "E5 ..> E2 [[psysml:2e43f05d-56e8-4995-94de-93836f9907a6 ]] : <<import>>*\r\n",
       "E8 - -|> E4 [[psysml:6ab4f965-70f0-4435-9c9c-0953ad10c713 ]] \r\n",
       "@enduml\r\n",
       "\n",
       "PlantUML version 1.2022.7(Mon Aug 22 17:01:30 UTC 2022)\n",
       "(EPL source distribution)\n",
       "Java Runtime: OpenJDK Runtime Environment\n",
       "JVM: OpenJDK 64-Bit Server VM\n",
       "Default Encoding: UTF-8\n",
       "Language: en\n",
       "Country: null\n",
       "--></g></svg>"
      ]
     },
     "execution_count": 37,
     "metadata": {},
     "output_type": "execute_result"
    }
   ],
   "source": [
    "%viz --style=\"DEFAULT\" --view=\"Default\" \"ImportTest\""
   ]
  },
  {
   "cell_type": "code",
   "execution_count": 38,
   "id": "00b0e608",
   "metadata": {
    "execution": {
     "iopub.execute_input": "2024-12-16T14:16:22.391634Z",
     "iopub.status.busy": "2024-12-16T14:16:22.391409Z",
     "iopub.status.idle": "2024-12-16T14:16:22.409558Z",
     "shell.execute_reply": "2024-12-16T14:16:22.408671Z"
    }
   },
   "outputs": [
    {
     "data": {
      "image/svg+xml": [
       "<?xml version=\"1.0\" encoding=\"UTF-8\" standalone=\"no\"?><svg xmlns=\"http://www.w3.org/2000/svg\" xmlns:xlink=\"http://www.w3.org/1999/xlink\" contentStyleType=\"text/css\" height=\"589px\" preserveAspectRatio=\"none\" style=\"width:517px;height:589px;background:#FFFFFF;\" version=\"1.1\" viewBox=\"0 0 517 589\" width=\"517px\" zoomAndPan=\"magnify\"><defs/><g><!--MD5=[fbc87193dbaf4d95561dea2c320d4a47]\n",
       "cluster E1--><g id=\"cluster_E1\"><a href=\"psysml:257ae3bb-e982-4f23-93ec-21786cef6fd4\" target=\"_top\" title=\"psysml:257ae3bb-e982-4f23-93ec-21786cef6fd4\" xlink:actuate=\"onRequest\" xlink:href=\"psysml:257ae3bb-e982-4f23-93ec-21786cef6fd4\" xlink:show=\"new\" xlink:title=\"psysml:257ae3bb-e982-4f23-93ec-21786cef6fd4\" xlink:type=\"simple\"><polygon fill=\"none\" points=\"16,6,101.375,6,108.375,28.2969,500,28.2969,500,582,16,582,16,6\" style=\"stroke:#000000;stroke-width:1.5;\"/><line style=\"stroke:#000000;stroke-width:1.5;\" x1=\"16\" x2=\"108.375\" y1=\"28.2969\" y2=\"28.2969\"/><text fill=\"#000000\" font-family=\"sans-serif\" font-size=\"14\" font-weight=\"bold\" lengthAdjust=\"spacing\" textLength=\"79.375\" x=\"20\" y=\"20.9951\">ImportTest</text></a></g><!--MD5=[e4f7fae6ed58524ba242bb0b0d3be6b7]\n",
       "cluster E2--><g id=\"cluster_E2\"><a href=\"psysml:d86f8a04-756e-41fe-890d-bee1afc1808f\" target=\"_top\" title=\"psysml:d86f8a04-756e-41fe-890d-bee1afc1808f\" xlink:actuate=\"onRequest\" xlink:href=\"psysml:d86f8a04-756e-41fe-890d-bee1afc1808f\" xlink:show=\"new\" xlink:title=\"psysml:d86f8a04-756e-41fe-890d-bee1afc1808f\" xlink:type=\"simple\"><polygon fill=\"none\" points=\"210,57,252.75,57,259.75,79.2969,468,79.2969,468,172,210,172,210,57\" style=\"stroke:#000000;stroke-width:1.5;\"/><line style=\"stroke:#000000;stroke-width:1.5;\" x1=\"210\" x2=\"259.75\" y1=\"79.2969\" y2=\"79.2969\"/><text fill=\"#000000\" font-family=\"sans-serif\" font-size=\"14\" font-weight=\"bold\" lengthAdjust=\"spacing\" textLength=\"36.75\" x=\"214\" y=\"71.9951\">Pkg1</text></a></g><!--MD5=[de5ec2e2e8f62f467e546659f5068c88]\n",
       "cluster E5--><g id=\"cluster_E5\"><a href=\"psysml:87b5aefc-a384-45d2-9563-354f132d05b6\" target=\"_top\" title=\"psysml:87b5aefc-a384-45d2-9563-354f132d05b6\" xlink:actuate=\"onRequest\" xlink:href=\"psysml:87b5aefc-a384-45d2-9563-354f132d05b6\" xlink:show=\"new\" xlink:title=\"psysml:87b5aefc-a384-45d2-9563-354f132d05b6\" xlink:type=\"simple\"><polygon fill=\"none\" points=\"121,237,163.75,237,170.75,259.2969,434,259.2969,434,550,121,550,121,237\" style=\"stroke:#000000;stroke-width:1.5;\"/><line style=\"stroke:#000000;stroke-width:1.5;\" x1=\"121\" x2=\"170.75\" y1=\"259.2969\" y2=\"259.2969\"/><text fill=\"#000000\" font-family=\"sans-serif\" font-size=\"14\" font-weight=\"bold\" lengthAdjust=\"spacing\" textLength=\"36.75\" x=\"125\" y=\"251.9951\">Pkg2</text></a></g><!--MD5=[14e3b0961a2654348d326746436168a1]\n",
       "cluster E6--><g id=\"cluster_E6\"><a href=\"psysml:74f758db-603d-4dff-97e1-05ce4d0c3ab8\" target=\"_top\" title=\"psysml:74f758db-603d-4dff-97e1-05ce4d0c3ab8\" xlink:actuate=\"onRequest\" xlink:href=\"psysml:74f758db-603d-4dff-97e1-05ce4d0c3ab8\" xlink:show=\"new\" xlink:title=\"psysml:74f758db-603d-4dff-97e1-05ce4d0c3ab8\" xlink:type=\"simple\"><polygon fill=\"none\" points=\"161,296,213.1875,296,220.1875,318.2969,386,318.2969,386,510,161,510,161,296\" style=\"stroke:#000000;stroke-width:1.5;\"/><line style=\"stroke:#000000;stroke-width:1.5;\" x1=\"161\" x2=\"220.1875\" y1=\"318.2969\" y2=\"318.2969\"/><text fill=\"#000000\" font-family=\"sans-serif\" font-size=\"14\" font-weight=\"bold\" lengthAdjust=\"spacing\" textLength=\"46.1875\" x=\"165\" y=\"310.9951\">Pkg21</text></a></g><!--MD5=[168fadf3d0c3fd93dd5d6da1b1d7ab76]\n",
       "cluster E7--><g id=\"cluster_E7\"><a href=\"psysml:c9292eea-a9ed-4d7d-b554-73a415b23d76\" target=\"_top\" title=\"psysml:c9292eea-a9ed-4d7d-b554-73a415b23d76\" xlink:actuate=\"onRequest\" xlink:href=\"psysml:c9292eea-a9ed-4d7d-b554-73a415b23d76\" xlink:show=\"new\" xlink:title=\"psysml:c9292eea-a9ed-4d7d-b554-73a415b23d76\" xlink:type=\"simple\"><polygon fill=\"none\" points=\"209,355,270.625,355,277.625,377.2969,346,377.2969,346,470,209,470,209,355\" style=\"stroke:#000000;stroke-width:1.5;\"/><line style=\"stroke:#000000;stroke-width:1.5;\" x1=\"209\" x2=\"277.625\" y1=\"377.2969\" y2=\"377.2969\"/><text fill=\"#000000\" font-family=\"sans-serif\" font-size=\"14\" font-weight=\"bold\" lengthAdjust=\"spacing\" textLength=\"55.625\" x=\"213\" y=\"369.9951\">Pkg211</text></a></g><!--MD5=[09b614a08d8cba4a07c9adeb5e0fee81]\n",
       "class E3--><a href=\"psysml:c9f16dae-c47d-4af9-8178-9fb29f2ca8fe\" target=\"_top\" title=\"psysml:c9f16dae-c47d-4af9-8178-9fb29f2ca8fe\" xlink:actuate=\"onRequest\" xlink:href=\"psysml:c9f16dae-c47d-4af9-8178-9fb29f2ca8fe\" xlink:show=\"new\" xlink:title=\"psysml:c9f16dae-c47d-4af9-8178-9fb29f2ca8fe\" xlink:type=\"simple\"><g id=\"elem_E3\"><rect fill=\"#FFFFFF\" height=\"48.2656\" id=\"E3\" rx=\"10\" ry=\"10\" style=\"stroke:#181818;stroke-width:0.5;\" width=\"86\" x=\"253\" y=\"100\"/><text fill=\"#000000\" font-family=\"sans-serif\" font-size=\"12\" font-style=\"italic\" lengthAdjust=\"spacing\" textLength=\"40\" x=\"276\" y=\"116.1387\">«part»</text><text fill=\"#000000\" font-family=\"sans-serif\" font-size=\"14\" lengthAdjust=\"spacing\" textLength=\"72\" x=\"256\" y=\"131.9639\">p11: P211</text><line style=\"stroke:#181818;stroke-width:0.5;\" x1=\"254\" x2=\"338\" y1=\"140.2656\" y2=\"140.2656\"/></g></a><!--MD5=[ebbe1d658d1005bcc118a6aa81145e00]\n",
       "class E4--><a href=\"psysml:5a85d6e7-c399-4e25-bc8b-7b1310ff596a\" target=\"_top\" title=\"psysml:5a85d6e7-c399-4e25-bc8b-7b1310ff596a\" xlink:actuate=\"onRequest\" xlink:href=\"psysml:5a85d6e7-c399-4e25-bc8b-7b1310ff596a\" xlink:show=\"new\" xlink:title=\"psysml:5a85d6e7-c399-4e25-bc8b-7b1310ff596a\" xlink:type=\"simple\"><g id=\"elem_E4\"><rect fill=\"#FFFFFF\" height=\"48.2656\" id=\"E4\" style=\"stroke:#181818;stroke-width:0.5;\" width=\"70\" x=\"374\" y=\"100\"/><text fill=\"#000000\" font-family=\"sans-serif\" font-size=\"12\" font-style=\"italic\" lengthAdjust=\"spacing\" textLength=\"68\" x=\"375\" y=\"116.1387\">«part  def»</text><text fill=\"#000000\" font-family=\"sans-serif\" font-size=\"14\" lengthAdjust=\"spacing\" textLength=\"27\" x=\"395.5\" y=\"131.9639\">P12</text><line style=\"stroke:#181818;stroke-width:0.5;\" x1=\"375\" x2=\"443\" y1=\"140.2656\" y2=\"140.2656\"/></g></a><!--MD5=[b9389687b975829384b498ac4b7476b2]\n",
       "class E8--><a href=\"psysml:60f2756c-cfe4-4496-b687-ff5dbf9a385d\" target=\"_top\" title=\"psysml:60f2756c-cfe4-4496-b687-ff5dbf9a385d\" xlink:actuate=\"onRequest\" xlink:href=\"psysml:60f2756c-cfe4-4496-b687-ff5dbf9a385d\" xlink:show=\"new\" xlink:title=\"psysml:60f2756c-cfe4-4496-b687-ff5dbf9a385d\" xlink:type=\"simple\"><g id=\"elem_E8\"><rect fill=\"#FFFFFF\" height=\"48.2656\" id=\"E8\" style=\"stroke:#181818;stroke-width:0.5;\" width=\"70\" x=\"252\" y=\"398\"/><text fill=\"#000000\" font-family=\"sans-serif\" font-size=\"12\" font-style=\"italic\" lengthAdjust=\"spacing\" textLength=\"68\" x=\"253\" y=\"414.1387\">«part  def»</text><text fill=\"#000000\" font-family=\"sans-serif\" font-size=\"14\" lengthAdjust=\"spacing\" textLength=\"36\" x=\"269\" y=\"429.9639\">P211</text><line style=\"stroke:#181818;stroke-width:0.5;\" x1=\"253\" x2=\"321\" y1=\"438.2656\" y2=\"438.2656\"/></g></a><!--MD5=[b0060bfdb0500b904584095522b4da3c]\n",
       "link E2 to E8--><g id=\"link_E2_E8\"><a href=\"psysml:7a09cf9a-4d44-4715-925a-a999429b18c6\" target=\"_top\" title=\"psysml:7a09cf9a-4d44-4715-925a-a999429b18c6\" xlink:actuate=\"onRequest\" xlink:href=\"psysml:7a09cf9a-4d44-4715-925a-a999429b18c6\" xlink:show=\"new\" xlink:title=\"psysml:7a09cf9a-4d44-4715-925a-a999429b18c6\" xlink:type=\"simple\"><path d=\"M226.4784,172.2619 C226.5244,172.3641 226.5707,172.4663 226.6172,172.5683 C226.9895,173.3846 227.3777,174.1934 227.7824,174.9929 C228.5919,176.5919 229.4675,178.1539 230.4147,179.6646 C232.3092,182.6861 234.49,185.5025 237,188 C245.87,196.83 256.01,186.37 264,196 C310.7,252.32 301.61,345.84 293.2,392.58 \" fill=\"none\" id=\"E2-to-E8\" style=\"stroke:#181818;stroke-width:1.0;stroke-dasharray:7.0,7.0;\"/><polygon fill=\"#181818\" points=\"292.23,397.77,297.8087,389.6535,293.1445,392.8543,289.9437,388.1902,292.23,397.77\" style=\"stroke:#181818;stroke-width:1.0;\"/><text fill=\"#000000\" font-family=\"sans-serif\" font-size=\"13\" lengthAdjust=\"spacing\" textLength=\"58\" x=\"275\" y=\"209.0669\">«import»</text></a></g><!--MD5=[e3e28c1befcf002155aa15e1416b4315]\n",
       "link E2 to E6--><g id=\"link_E2_E6\"><a href=\"psysml:4d48d5b8-8a2b-403b-a600-382befb1c751\" target=\"_top\" title=\"psysml:4d48d5b8-8a2b-403b-a600-382befb1c751\" xlink:actuate=\"onRequest\" xlink:href=\"psysml:4d48d5b8-8a2b-403b-a600-382befb1c751\" xlink:show=\"new\" xlink:title=\"psysml:4d48d5b8-8a2b-403b-a600-382befb1c751\" xlink:type=\"simple\"><path d=\"M209.7844,126.6885 C209.6745,126.7134 209.5637,126.7387 209.4519,126.7642 C209.0046,126.8663 208.5422,126.9732 208.065,127.085 C206.1563,127.532 204.0125,128.0567 201.6694,128.6645 C192.2969,131.0959 179.735,134.8581 166.2725,140.3037 C139.3475,151.195 108.82,168.82 93,196 C66.865,240.9 84.8675,296.1075 109.8912,340.5988 C122.4031,362.8444 136.6703,382.4109 148.0533,396.6705 C150.899,400.2354 153.5645,403.4685 155.9772,406.329 C157.1836,407.7592 158.3268,409.0962 159.3977,410.335 C159.9331,410.9543 160.4505,411.5491 160.9487,412.1186 \" fill=\"none\" id=\"E2-to-E6\" style=\"stroke:#181818;stroke-width:1.0;stroke-dasharray:7.0,7.0;\"/><polygon fill=\"#181818\" points=\"160.9487,412.1186,158.034,402.711,157.6568,408.3552,152.0125,407.9781,160.9487,412.1186\" style=\"stroke:#181818;stroke-width:1.0;\"/><text fill=\"#000000\" font-family=\"sans-serif\" font-size=\"13\" lengthAdjust=\"spacing\" textLength=\"65\" x=\"94\" y=\"209.0669\">«import»*</text></a></g><!--MD5=[e3d2a08a9c9236652057e8ed0cbc9b62]\n",
       "link E2 to E7--><g id=\"link_E2_E7\"><a href=\"psysml:435ffdce-fa99-42b8-aa7d-b79facf9bf9f\" target=\"_top\" title=\"psysml:435ffdce-fa99-42b8-aa7d-b79facf9bf9f\" xlink:actuate=\"onRequest\" xlink:href=\"psysml:435ffdce-fa99-42b8-aa7d-b79facf9bf9f\" xlink:show=\"new\" xlink:title=\"psysml:435ffdce-fa99-42b8-aa7d-b79facf9bf9f\" xlink:type=\"simple\"><path d=\"M209.9156,133.4819 C209.8545,133.5495 209.7932,133.6175 209.7316,133.6858 C209.239,134.2321 208.7304,134.801 208.2074,135.3916 C207.1616,136.5729 206.0584,137.8408 204.9115,139.188 C202.6178,141.8824 200.1494,144.8941 197.615,148.1638 C187.4775,161.2425 176.285,178.45 171,196 C168.82,203.23 166.18,207.18 171,213 C183.11,227.64 200.74,206.48 213,221 C227.115,237.715 228.305,286.425 225.8738,331.5863 C225.5698,337.2314 225.2094,342.8211 224.8105,348.2859 C224.7107,349.6522 224.6086,351.0106 224.5044,352.3601 C224.4522,353.0348 224.3996,353.7074 224.3464,354.3776 \" fill=\"none\" id=\"E2-to-E7\" style=\"stroke:#181818;stroke-width:1.0;stroke-dasharray:7.0,7.0;\"/><polygon fill=\"#181818\" points=\"224.3464,354.3776,229.0454,345.7219,224.7417,349.3932,221.0704,345.0895,224.3464,354.3776\" style=\"stroke:#181818;stroke-width:1.0;\"/><text fill=\"#000000\" font-family=\"sans-serif\" font-size=\"13\" lengthAdjust=\"spacing\" textLength=\"87\" x=\"172\" y=\"209.0669\">«import»*::**</text></a></g><!--MD5=[ca5a752d6098d8a44b3f88316e7452d1]\n",
       "link E3 to E8--><g id=\"link_E3_E8\"><a href=\"psysml:c2b3862a-e64c-4984-9133-ea986cde4555\" target=\"_top\" title=\"psysml:c2b3862a-e64c-4984-9133-ea986cde4555\" xlink:actuate=\"onRequest\" xlink:href=\"psysml:c2b3862a-e64c-4984-9133-ea986cde4555\" xlink:show=\"new\" xlink:title=\"psysml:c2b3862a-e64c-4984-9133-ea986cde4555\" xlink:type=\"simple\"><path d=\"M318.74,148.33 C338.26,168.43 363.38,194.46 364,196 C366.82,203.01 368.76,207.13 364,213 C353.13,226.4 338.11,208.71 326,221 C285.35,262.26 280.75,332.54 282.7,377.85 \" fill=\"none\" id=\"E3-to-E8\" style=\"stroke:#181818;stroke-width:1.0;\"/><polygon fill=\"#FFFFFF\" points=\"284.06,397.85,275.7871,379.3687,289.7548,378.4189,284.06,397.85\" style=\"stroke:#181818;stroke-width:1.0;\"/><ellipse cx=\"277.3957\" cy=\"373.5461\" fill=\"#181818\" rx=\"2\" ry=\"2\" style=\"stroke:#181818;stroke-width:1.0;\"/><ellipse cx=\"287.3727\" cy=\"372.8677\" fill=\"#181818\" rx=\"2\" ry=\"2\" style=\"stroke:#181818;stroke-width:1.0;\"/></a></g><!--MD5=[15ebcb19ae302d9b601edb458606d402]\n",
       "link E5 to E2--><g id=\"link_E5_E2\"><a href=\"psysml:2e43f05d-56e8-4995-94de-93836f9907a6\" target=\"_top\" title=\"psysml:2e43f05d-56e8-4995-94de-93836f9907a6\" xlink:actuate=\"onRequest\" xlink:href=\"psysml:2e43f05d-56e8-4995-94de-93836f9907a6\" xlink:show=\"new\" xlink:title=\"psysml:2e43f05d-56e8-4995-94de-93836f9907a6\" xlink:type=\"simple\"><path d=\"M378.9609,236.6531 C378.738,236.3074 378.5141,235.9625 378.2891,235.6183 C377.389,234.2417 376.472,232.8777 375.5377,231.5272 C373.669,228.8262 371.7312,226.1791 369.7216,223.5936 C361.6834,213.2516 352.4975,203.8938 342,196 C323.3,181.94 255.24,202.66 237,188 C234.24,185.7813 231.8698,183.1761 229.8356,180.3106 C228.8185,178.8779 227.8853,177.3801 227.0294,175.833 C226.6014,175.0595 226.1928,174.2736 225.8026,173.4773 C225.6075,173.0792 225.417,172.6785 225.231,172.2755 \" fill=\"none\" id=\"E5-to-E2\" style=\"stroke:#181818;stroke-width:1.0;stroke-dasharray:7.0,7.0;\"/><polygon fill=\"#181818\" points=\"225.231,172.2755,225.3696,182.1233,227.3258,176.8155,232.6337,178.7717,225.231,172.2755\" style=\"stroke:#181818;stroke-width:1.0;\"/><text fill=\"#000000\" font-family=\"sans-serif\" font-size=\"13\" lengthAdjust=\"spacing\" textLength=\"65\" x=\"357\" y=\"209.0669\">«import»*</text></a></g><!--MD5=[d7bb3fb34add81b710575eb3799fa2ad]\n",
       "link E8 to E4--><g id=\"link_E8_E4\"><a href=\"psysml:6ab4f965-70f0-4435-9c9c-0953ad10c713\" target=\"_top\" title=\"psysml:6ab4f965-70f0-4435-9c9c-0953ad10c713\" xlink:actuate=\"onRequest\" xlink:href=\"psysml:6ab4f965-70f0-4435-9c9c-0953ad10c713\" xlink:show=\"new\" xlink:title=\"psysml:6ab4f965-70f0-4435-9c9c-0953ad10c713\" xlink:type=\"simple\"><path d=\"M283.44,397.77 C278.41,355.31 274.86,265.44 326,221 C338.77,209.91 466.36,225.27 478,213 C494.05,196.08 479.84,175.66 460.24,158.75 \" fill=\"none\" id=\"E8-to-E4\" style=\"stroke:#181818;stroke-width:1.0;\"/><polygon fill=\"none\" points=\"455.75,164.13,444.23,146.35,464.32,153.06,455.75,164.13\" style=\"stroke:#181818;stroke-width:1.0;\"/></a></g><!--MD5=[77fb692bdf405a6f01fe26511bd119f0]\n",
       "@startuml\r\n",
       "skin sysmlbw\r\n",
       "skinparam monochrome true\r\n",
       "skinparam wrapWidth 300\r\n",
       "hide circle\r\n",
       "\r\n",
       "package \"ImportTest\" as E1  [[psysml:257ae3bb-e982-4f23-93ec-21786cef6fd4 ]]  {\r\n",
       "package \"Pkg1\" as E2  [[psysml:d86f8a04-756e-41fe-890d-bee1afc1808f ]]  {\r\n",
       "comp usage \"p11: P211  \" as E3  <<(T,blue) part>> [[psysml:c9f16dae-c47d-4af9-8178-9fb29f2ca8fe ]] {\r\n",
       "}\r\n",
       "comp def \"P12\" as E4  <<(T,blue) part  def>> [[psysml:5a85d6e7-c399-4e25-bc8b-7b1310ff596a ]] {\r\n",
       "}\r\n",
       "}\r\n",
       "package \"Pkg2\" as E5  [[psysml:87b5aefc-a384-45d2-9563-354f132d05b6 ]]  {\r\n",
       "package \"Pkg21\" as E6  [[psysml:74f758db-603d-4dff-97e1-05ce4d0c3ab8 ]]  {\r\n",
       "package \"Pkg211\" as E7  [[psysml:c9292eea-a9ed-4d7d-b554-73a415b23d76 ]]  {\r\n",
       "comp def \"P211\" as E8  <<(T,blue) part  def>> [[psysml:60f2756c-cfe4-4496-b687-ff5dbf9a385d ]] {\r\n",
       "}\r\n",
       "}\r\n",
       "}\r\n",
       "}\r\n",
       "}\r\n",
       "E2 ..> E8 [[psysml:7a09cf9a-4d44-4715-925a-a999429b18c6 ]] : <<import>>\r\n",
       "E2 ..> E6 [[psysml:4d48d5b8-8a2b-403b-a600-382befb1c751 ]] : <<import>>*\r\n",
       "E2 ..> E7 [[psysml:435ffdce-fa99-42b8-aa7d-b79facf9bf9f ]] : <<import>>*::**\r\n",
       "E3 - -:|> E8 [[psysml:c2b3862a-e64c-4984-9133-ea986cde4555 ]] \r\n",
       "E5 ..> E2 [[psysml:2e43f05d-56e8-4995-94de-93836f9907a6 ]] : <<import>>*\r\n",
       "E8 - -|> E4 [[psysml:6ab4f965-70f0-4435-9c9c-0953ad10c713 ]] \r\n",
       "@enduml\r\n",
       "\n",
       "PlantUML version 1.2022.7(Mon Aug 22 17:01:30 UTC 2022)\n",
       "(EPL source distribution)\n",
       "Java Runtime: OpenJDK Runtime Environment\n",
       "JVM: OpenJDK 64-Bit Server VM\n",
       "Default Encoding: UTF-8\n",
       "Language: en\n",
       "Country: null\n",
       "--></g></svg>"
      ]
     },
     "execution_count": 38,
     "metadata": {},
     "output_type": "execute_result"
    }
   ],
   "source": [
    "%viz --style=\"DEFAULT\" --view=\"Tree\" \"ImportTest\""
   ]
  },
  {
   "cell_type": "code",
   "execution_count": 39,
   "id": "fb7c0353",
   "metadata": {
    "execution": {
     "iopub.execute_input": "2024-12-16T14:16:22.461727Z",
     "iopub.status.busy": "2024-12-16T14:16:22.461509Z",
     "iopub.status.idle": "2024-12-16T14:16:22.466235Z",
     "shell.execute_reply": "2024-12-16T14:16:22.466375Z"
    }
   },
   "outputs": [
    {
     "data": {
      "image/svg+xml": [
       "<?xml version=\"1.0\" encoding=\"UTF-8\" standalone=\"no\"?><svg xmlns=\"http://www.w3.org/2000/svg\" xmlns:xlink=\"http://www.w3.org/1999/xlink\" contentStyleType=\"text/css\" height=\"10px\" preserveAspectRatio=\"none\" style=\"width:10px;height:10px;background:#FFFFFF;\" version=\"1.1\" viewBox=\"0 0 10 10\" width=\"10px\" zoomAndPan=\"magnify\"><defs/><g><!--MD5=[ac12e6954f3af68464267ee74ddf8a9f]\n",
       "@startuml\r\n",
       "skin sysmlbw\r\n",
       "skinparam monochrome true\r\n",
       "skinparam wrapWidth 300\r\n",
       "hide circle\r\n",
       "\r\n",
       "@enduml\r\n",
       "\n",
       "PlantUML version 1.2022.7(Mon Aug 22 17:01:30 UTC 2022)\n",
       "(EPL source distribution)\n",
       "Java Runtime: OpenJDK Runtime Environment\n",
       "JVM: OpenJDK 64-Bit Server VM\n",
       "Default Encoding: UTF-8\n",
       "Language: en\n",
       "Country: null\n",
       "--></g></svg>"
      ]
     },
     "execution_count": 39,
     "metadata": {},
     "output_type": "execute_result"
    }
   ],
   "source": [
    "%viz --style=\"DEFAULT\" --view=\"State\" \"ImportTest\""
   ]
  },
  {
   "cell_type": "code",
   "execution_count": 40,
   "id": "d2ecdc0e",
   "metadata": {
    "execution": {
     "iopub.execute_input": "2024-12-16T14:16:22.523693Z",
     "iopub.status.busy": "2024-12-16T14:16:22.523463Z",
     "iopub.status.idle": "2024-12-16T14:16:22.556772Z",
     "shell.execute_reply": "2024-12-16T14:16:22.555240Z"
    }
   },
   "outputs": [
    {
     "data": {
      "image/svg+xml": [
       "<?xml version=\"1.0\" encoding=\"UTF-8\" standalone=\"no\"?><svg xmlns=\"http://www.w3.org/2000/svg\" xmlns:xlink=\"http://www.w3.org/1999/xlink\" contentStyleType=\"text/css\" height=\"583px\" preserveAspectRatio=\"none\" style=\"width:517px;height:583px;background:#FFFFFF;\" version=\"1.1\" viewBox=\"0 0 517 583\" width=\"517px\" zoomAndPan=\"magnify\"><defs/><g><!--MD5=[fbc87193dbaf4d95561dea2c320d4a47]\n",
       "cluster E1--><g id=\"cluster_E1\"><a href=\"psysml:257ae3bb-e982-4f23-93ec-21786cef6fd4\" target=\"_top\" title=\"psysml:257ae3bb-e982-4f23-93ec-21786cef6fd4\" xlink:actuate=\"onRequest\" xlink:href=\"psysml:257ae3bb-e982-4f23-93ec-21786cef6fd4\" xlink:show=\"new\" xlink:title=\"psysml:257ae3bb-e982-4f23-93ec-21786cef6fd4\" xlink:type=\"simple\"><polygon fill=\"none\" points=\"16,6,101.375,6,108.375,28.2969,500,28.2969,500,576,16,576,16,6\" style=\"stroke:#000000;stroke-width:1.5;\"/><line style=\"stroke:#000000;stroke-width:1.5;\" x1=\"16\" x2=\"108.375\" y1=\"28.2969\" y2=\"28.2969\"/><text fill=\"#000000\" font-family=\"sans-serif\" font-size=\"14\" font-weight=\"bold\" lengthAdjust=\"spacing\" textLength=\"79.375\" x=\"20\" y=\"20.9951\">ImportTest</text></a></g><!--MD5=[e4f7fae6ed58524ba242bb0b0d3be6b7]\n",
       "cluster E2--><g id=\"cluster_E2\"><a href=\"psysml:d86f8a04-756e-41fe-890d-bee1afc1808f\" target=\"_top\" title=\"psysml:d86f8a04-756e-41fe-890d-bee1afc1808f\" xlink:actuate=\"onRequest\" xlink:href=\"psysml:d86f8a04-756e-41fe-890d-bee1afc1808f\" xlink:show=\"new\" xlink:title=\"psysml:d86f8a04-756e-41fe-890d-bee1afc1808f\" xlink:type=\"simple\"><polygon fill=\"none\" points=\"208,57,250.75,57,257.75,79.2969,468,79.2969,468,169,208,169,208,57\" style=\"stroke:#000000;stroke-width:1.5;\"/><line style=\"stroke:#000000;stroke-width:1.5;\" x1=\"208\" x2=\"257.75\" y1=\"79.2969\" y2=\"79.2969\"/><text fill=\"#000000\" font-family=\"sans-serif\" font-size=\"14\" font-weight=\"bold\" lengthAdjust=\"spacing\" textLength=\"36.75\" x=\"212\" y=\"71.9951\">Pkg1</text></a></g><!--MD5=[de5ec2e2e8f62f467e546659f5068c88]\n",
       "cluster E5--><g id=\"cluster_E5\"><a href=\"psysml:87b5aefc-a384-45d2-9563-354f132d05b6\" target=\"_top\" title=\"psysml:87b5aefc-a384-45d2-9563-354f132d05b6\" xlink:actuate=\"onRequest\" xlink:href=\"psysml:87b5aefc-a384-45d2-9563-354f132d05b6\" xlink:show=\"new\" xlink:title=\"psysml:87b5aefc-a384-45d2-9563-354f132d05b6\" xlink:type=\"simple\"><polygon fill=\"none\" points=\"117,234,159.75,234,166.75,256.2969,435,256.2969,435,544,117,544,117,234\" style=\"stroke:#000000;stroke-width:1.5;\"/><line style=\"stroke:#000000;stroke-width:1.5;\" x1=\"117\" x2=\"166.75\" y1=\"256.2969\" y2=\"256.2969\"/><text fill=\"#000000\" font-family=\"sans-serif\" font-size=\"14\" font-weight=\"bold\" lengthAdjust=\"spacing\" textLength=\"36.75\" x=\"121\" y=\"248.9951\">Pkg2</text></a></g><!--MD5=[14e3b0961a2654348d326746436168a1]\n",
       "cluster E6--><g id=\"cluster_E6\"><a href=\"psysml:74f758db-603d-4dff-97e1-05ce4d0c3ab8\" target=\"_top\" title=\"psysml:74f758db-603d-4dff-97e1-05ce4d0c3ab8\" xlink:actuate=\"onRequest\" xlink:href=\"psysml:74f758db-603d-4dff-97e1-05ce4d0c3ab8\" xlink:show=\"new\" xlink:title=\"psysml:74f758db-603d-4dff-97e1-05ce4d0c3ab8\" xlink:type=\"simple\"><polygon fill=\"none\" points=\"157,293,209.1875,293,216.1875,315.2969,387,315.2969,387,504,157,504,157,293\" style=\"stroke:#000000;stroke-width:1.5;\"/><line style=\"stroke:#000000;stroke-width:1.5;\" x1=\"157\" x2=\"216.1875\" y1=\"315.2969\" y2=\"315.2969\"/><text fill=\"#000000\" font-family=\"sans-serif\" font-size=\"14\" font-weight=\"bold\" lengthAdjust=\"spacing\" textLength=\"46.1875\" x=\"161\" y=\"307.9951\">Pkg21</text></a></g><!--MD5=[168fadf3d0c3fd93dd5d6da1b1d7ab76]\n",
       "cluster E7--><g id=\"cluster_E7\"><a href=\"psysml:c9292eea-a9ed-4d7d-b554-73a415b23d76\" target=\"_top\" title=\"psysml:c9292eea-a9ed-4d7d-b554-73a415b23d76\" xlink:actuate=\"onRequest\" xlink:href=\"psysml:c9292eea-a9ed-4d7d-b554-73a415b23d76\" xlink:show=\"new\" xlink:title=\"psysml:c9292eea-a9ed-4d7d-b554-73a415b23d76\" xlink:type=\"simple\"><polygon fill=\"none\" points=\"205,352,266.625,352,273.625,374.2969,347,374.2969,347,464,205,464,205,352\" style=\"stroke:#000000;stroke-width:1.5;\"/><line style=\"stroke:#000000;stroke-width:1.5;\" x1=\"205\" x2=\"273.625\" y1=\"374.2969\" y2=\"374.2969\"/><text fill=\"#000000\" font-family=\"sans-serif\" font-size=\"14\" font-weight=\"bold\" lengthAdjust=\"spacing\" textLength=\"55.625\" x=\"209\" y=\"366.9951\">Pkg211</text></a></g><g><a href=\"psysml:c9f16dae-c47d-4af9-8178-9fb29f2ca8fe\" target=\"_top\" title=\"psysml:c9f16dae-c47d-4af9-8178-9fb29f2ca8fe\" xlink:actuate=\"onRequest\" xlink:href=\"psysml:c9f16dae-c47d-4af9-8178-9fb29f2ca8fe\" xlink:show=\"new\" xlink:title=\"psysml:c9f16dae-c47d-4af9-8178-9fb29f2ca8fe\" xlink:type=\"simple\"><rect fill=\"#FFFFFF\" height=\"40\" id=\"E3\" rx=\"10\" ry=\"10\" style=\"stroke:#383838;stroke-width:1.5;\" width=\"83\" x=\"251.5\" y=\"102.5\"/><text fill=\"#000000\" font-family=\"sans-serif\" font-size=\"14\" lengthAdjust=\"spacing\" textLength=\"72\" x=\"257\" y=\"120.4951\">p11: P211</text></a></g><g><a href=\"psysml:5a85d6e7-c399-4e25-bc8b-7b1310ff596a\" target=\"_top\" title=\"psysml:5a85d6e7-c399-4e25-bc8b-7b1310ff596a\" xlink:actuate=\"onRequest\" xlink:href=\"psysml:5a85d6e7-c399-4e25-bc8b-7b1310ff596a\" xlink:show=\"new\" xlink:title=\"psysml:5a85d6e7-c399-4e25-bc8b-7b1310ff596a\" xlink:type=\"simple\"><rect fill=\"#FFFFFF\" height=\"45.2656\" id=\"E4\" style=\"stroke:#383838;stroke-width:1.5;\" width=\"75\" x=\"369.5\" y=\"100\"/><text fill=\"#000000\" font-family=\"sans-serif\" font-size=\"12\" font-style=\"italic\" lengthAdjust=\"spacing\" textLength=\"68\" x=\"373\" y=\"116.1387\">«part  def»</text><text fill=\"#000000\" font-family=\"sans-serif\" font-size=\"14\" lengthAdjust=\"spacing\" textLength=\"27\" x=\"393.5\" y=\"131.9639\">P12</text></a></g><g><a href=\"psysml:60f2756c-cfe4-4496-b687-ff5dbf9a385d\" target=\"_top\" title=\"psysml:60f2756c-cfe4-4496-b687-ff5dbf9a385d\" xlink:actuate=\"onRequest\" xlink:href=\"psysml:60f2756c-cfe4-4496-b687-ff5dbf9a385d\" xlink:show=\"new\" xlink:title=\"psysml:60f2756c-cfe4-4496-b687-ff5dbf9a385d\" xlink:type=\"simple\"><rect fill=\"#FFFFFF\" height=\"45.2656\" id=\"E8\" style=\"stroke:#383838;stroke-width:1.5;\" width=\"75\" x=\"248.5\" y=\"395\"/><text fill=\"#000000\" font-family=\"sans-serif\" font-size=\"12\" font-style=\"italic\" lengthAdjust=\"spacing\" textLength=\"68\" x=\"252\" y=\"411.1387\">«part  def»</text><text fill=\"#000000\" font-family=\"sans-serif\" font-size=\"14\" lengthAdjust=\"spacing\" textLength=\"36\" x=\"268\" y=\"426.9639\">P211</text></a></g><!--MD5=[b0060bfdb0500b904584095522b4da3c]\n",
       "link E2 to E8--><g id=\"link_E2_E8\"><a href=\"psysml:7a09cf9a-4d44-4715-925a-a999429b18c6\" target=\"_top\" title=\"psysml:7a09cf9a-4d44-4715-925a-a999429b18c6\" xlink:actuate=\"onRequest\" xlink:href=\"psysml:7a09cf9a-4d44-4715-925a-a999429b18c6\" xlink:show=\"new\" xlink:title=\"psysml:7a09cf9a-4d44-4715-925a-a999429b18c6\" xlink:type=\"simple\"><path d=\"M224.2853,169.1216 C224.3302,169.2216 224.3753,169.3216 224.4206,169.4214 C224.5113,169.6211 224.6029,169.8203 224.6956,170.019 C225.0661,170.814 225.4522,171.6014 225.8547,172.3795 C226.6596,173.9357 227.5296,175.4546 228.4701,176.9223 C230.3511,179.8575 232.5138,182.5875 235,185 C244.6,194.31 255.39,182.77 264,193 C311.28,249.14 300.92,343.57 292.13,389.62 \" fill=\"none\" id=\"E2-to-E8\" style=\"stroke:#181818;stroke-width:1.0;stroke-dasharray:7.0,7.0;\"/><polygon fill=\"#181818\" points=\"291.12,394.72,296.7668,386.6507,292.0759,389.8122,288.9144,385.1213,291.12,394.72\" style=\"stroke:#181818;stroke-width:1.0;\"/><text fill=\"#000000\" font-family=\"sans-serif\" font-size=\"13\" lengthAdjust=\"spacing\" textLength=\"58\" x=\"275\" y=\"206.0669\">«import»</text></a></g><!--MD5=[e3e28c1befcf002155aa15e1416b4315]\n",
       "link E2 to E6--><g id=\"link_E2_E6\"><a href=\"psysml:4d48d5b8-8a2b-403b-a600-382befb1c751\" target=\"_top\" title=\"psysml:4d48d5b8-8a2b-403b-a600-382befb1c751\" xlink:actuate=\"onRequest\" xlink:href=\"psysml:4d48d5b8-8a2b-403b-a600-382befb1c751\" xlink:show=\"new\" xlink:title=\"psysml:4d48d5b8-8a2b-403b-a600-382befb1c751\" xlink:type=\"simple\"><path d=\"M207.9177,125.1413 C207.8096,125.1655 207.7005,125.1901 207.5905,125.2149 C207.1505,125.3142 206.6956,125.4181 206.2261,125.5268 C204.3484,125.9616 202.2393,126.472 199.9341,127.0638 C190.7131,129.4306 178.3538,133.0975 165.1075,138.4175 C138.615,149.0575 108.575,166.31 93,193 C67.11,237.365 84.1475,292.2 108.1275,336.4513 C120.1175,358.5769 133.8431,378.0566 144.8063,392.2586 C147.547,395.8091 150.1152,399.0298 152.4403,401.8794 C153.6029,403.3043 154.7048,404.6364 155.7371,405.8706 C155.9952,406.1791 156.249,406.4816 156.4982,406.7778 C156.6228,406.9259 156.7463,407.0725 156.8687,407.2175 \" fill=\"none\" id=\"E2-to-E6\" style=\"stroke:#181818;stroke-width:1.0;stroke-dasharray:7.0,7.0;\"/><polygon fill=\"#181818\" points=\"156.8687,407.2175,154.1213,397.7596,153.6441,403.3963,148.0074,402.919,156.8687,407.2175\" style=\"stroke:#181818;stroke-width:1.0;\"/><text fill=\"#000000\" font-family=\"sans-serif\" font-size=\"13\" lengthAdjust=\"spacing\" textLength=\"65\" x=\"94\" y=\"206.0669\">«import»*</text></a></g><!--MD5=[e3d2a08a9c9236652057e8ed0cbc9b62]\n",
       "link E2 to E7--><g id=\"link_E2_E7\"><a href=\"psysml:435ffdce-fa99-42b8-aa7d-b79facf9bf9f\" target=\"_top\" title=\"psysml:435ffdce-fa99-42b8-aa7d-b79facf9bf9f\" xlink:actuate=\"onRequest\" xlink:href=\"psysml:435ffdce-fa99-42b8-aa7d-b79facf9bf9f\" xlink:show=\"new\" xlink:title=\"psysml:435ffdce-fa99-42b8-aa7d-b79facf9bf9f\" xlink:type=\"simple\"><path d=\"M207.8987,132.2409 C207.8392,132.3087 207.7795,132.3768 207.7196,132.4452 C207.5998,132.5821 207.479,132.7203 207.3573,132.86 C207.1139,133.1392 206.867,133.4238 206.6165,133.7137 C205.6148,134.8735 204.5583,136.1181 203.46,137.4401 C201.2633,140.0843 198.8994,143.0384 196.4725,146.2438 C186.765,159.065 176.05,175.905 171,193 C168.86,200.25 166.24,204.13 171,210 C181.87,223.4 197.99,204.71 209,218 C222.85,234.725 224.035,283.0725 221.6675,327.8625 C221.3716,333.4612 221.0201,339.0044 220.631,344.4233 C220.5337,345.778 220.434,347.1249 220.3323,348.4631 C220.2814,349.1321 220.2301,349.7989 220.1782,350.4634 C220.1523,350.7957 220.1262,351.1274 220.1,351.4584 \" fill=\"none\" id=\"E2-to-E7\" style=\"stroke:#181818;stroke-width:1.0;stroke-dasharray:7.0,7.0;\"/><polygon fill=\"#181818\" points=\"220.1,351.4584,224.7969,342.8016,220.4941,346.474,216.8217,342.1712,220.1,351.4584\" style=\"stroke:#181818;stroke-width:1.0;\"/><text fill=\"#000000\" font-family=\"sans-serif\" font-size=\"13\" lengthAdjust=\"spacing\" textLength=\"87\" x=\"172\" y=\"206.0669\">«import»*::**</text></a></g><!--MD5=[ca5a752d6098d8a44b3f88316e7452d1]\n",
       "link E3 to E8--><g id=\"link_E3_E8\"><a href=\"psysml:c2b3862a-e64c-4984-9133-ea986cde4555\" target=\"_top\" title=\"psysml:c2b3862a-e64c-4984-9133-ea986cde4555\" xlink:actuate=\"onRequest\" xlink:href=\"psysml:c2b3862a-e64c-4984-9133-ea986cde4555\" xlink:show=\"new\" xlink:title=\"psysml:c2b3862a-e64c-4984-9133-ea986cde4555\" xlink:type=\"simple\"><path d=\"M309.32,142.58 C320.65,155.29 336.46,171.99 352,185 C356.91,189.11 360.98,187.35 364,193 C367.57,199.66 368.73,204.11 364,210 C353.74,222.79 339.53,206.35 328,218 C287.1,259.32 281.48,329.87 282.65,374.79 \" fill=\"none\" id=\"E3-to-E8\" style=\"stroke:#181818;stroke-width:1.0;\"/><polygon fill=\"#FFFFFF\" points=\"283.67,394.81,275.7286,376.1838,289.7111,375.4837,283.67,394.81\" style=\"stroke:#181818;stroke-width:1.0;\"/><ellipse cx=\"277.441\" cy=\"370.3909\" fill=\"#181818\" rx=\"2\" ry=\"2\" style=\"stroke:#181818;stroke-width:1.0;\"/><ellipse cx=\"287.4285\" cy=\"369.8909\" fill=\"#181818\" rx=\"2\" ry=\"2\" style=\"stroke:#181818;stroke-width:1.0;\"/></a></g><!--MD5=[15ebcb19ae302d9b601edb458606d402]\n",
       "link E5 to E2--><g id=\"link_E5_E2\"><a href=\"psysml:2e43f05d-56e8-4995-94de-93836f9907a6\" target=\"_top\" title=\"psysml:2e43f05d-56e8-4995-94de-93836f9907a6\" xlink:actuate=\"onRequest\" xlink:href=\"psysml:2e43f05d-56e8-4995-94de-93836f9907a6\" xlink:show=\"new\" xlink:title=\"psysml:2e43f05d-56e8-4995-94de-93836f9907a6\" xlink:type=\"simple\"><path d=\"M378.9931,233.3213 C378.7693,232.9782 378.5445,232.6358 378.3186,232.2942 C377.4151,230.9279 376.4948,229.5741 375.5574,228.2337 C373.6826,225.5531 371.7396,222.9264 369.7256,220.361 C361.67,210.0995 352.4813,200.82 342,193 C322.89,178.74 253.65,199.86 235,185 C232.2913,182.8413 229.9598,180.3034 227.9541,177.51 C226.9513,176.1133 226.0298,174.6527 225.1833,173.1437 C224.7601,172.3892 224.3556,171.6225 223.969,170.8457 C223.7758,170.4573 223.587,170.0663 223.4025,169.673 C223.3103,169.4764 223.2192,169.2792 223.1292,169.0814 \" fill=\"none\" id=\"E5-to-E2\" style=\"stroke:#181818;stroke-width:1.0;stroke-dasharray:7.0,7.0;\"/><polygon fill=\"#181818\" points=\"223.1292,169.0814,223.2177,178.9299,225.2009,173.6321,230.4987,175.6152,223.1292,169.0814\" style=\"stroke:#181818;stroke-width:1.0;\"/><text fill=\"#000000\" font-family=\"sans-serif\" font-size=\"13\" lengthAdjust=\"spacing\" textLength=\"65\" x=\"361\" y=\"206.0669\">«import»*</text></a></g><!--MD5=[d7bb3fb34add81b710575eb3799fa2ad]\n",
       "link E8 to E4--><g id=\"link_E8_E4\"><a href=\"psysml:6ab4f965-70f0-4435-9c9c-0953ad10c713\" target=\"_top\" title=\"psysml:6ab4f965-70f0-4435-9c9c-0953ad10c713\" xlink:actuate=\"onRequest\" xlink:href=\"psysml:6ab4f965-70f0-4435-9c9c-0953ad10c713\" xlink:show=\"new\" xlink:title=\"psysml:6ab4f965-70f0-4435-9c9c-0953ad10c713\" xlink:type=\"simple\"><path d=\"M283.03,394.71 C278.72,353.05 276.21,262.31 328,218 C340.68,207.15 466.52,222.11 478,210 C493.85,193.29 479.79,173.5 460.13,157.08 \" fill=\"none\" id=\"E8-to-E4\" style=\"stroke:#181818;stroke-width:1.0;\"/><polygon fill=\"none\" points=\"455.83,162.6,444.02,145.01,464.22,151.39,455.83,162.6\" style=\"stroke:#181818;stroke-width:1.0;\"/></a></g><!--MD5=[562e0c0f0ced1103474b0fe44f055d14]\n",
       "@startuml\r\n",
       "skin sysmlbw\r\n",
       "skinparam monochrome true\r\n",
       "skinparam wrapWidth 300\r\n",
       "hide circle\r\n",
       "skinparam ranksep 10\r\n",
       "skinparam rectangle {\r\n",
       " backgroundColor<<block>> LightGreen\r\n",
       "}\r\n",
       "\r\n",
       "package \"ImportTest\" as E1  [[psysml:257ae3bb-e982-4f23-93ec-21786cef6fd4 ]]  {\r\n",
       "package \"Pkg1\" as E2  [[psysml:d86f8a04-756e-41fe-890d-bee1afc1808f ]]  {\r\n",
       "rec usage \"p11: P211\" as E3 [[psysml:c9f16dae-c47d-4af9-8178-9fb29f2ca8fe ]] {\r\n",
       "}\r\n",
       "rec def \"P12\" as E4  <<(T,blue) part  def>> [[psysml:5a85d6e7-c399-4e25-bc8b-7b1310ff596a ]] {\r\n",
       "}\r\n",
       "}\r\n",
       "package \"Pkg2\" as E5  [[psysml:87b5aefc-a384-45d2-9563-354f132d05b6 ]]  {\r\n",
       "package \"Pkg21\" as E6  [[psysml:74f758db-603d-4dff-97e1-05ce4d0c3ab8 ]]  {\r\n",
       "package \"Pkg211\" as E7  [[psysml:c9292eea-a9ed-4d7d-b554-73a415b23d76 ]]  {\r\n",
       "rec def \"P211\" as E8  <<(T,blue) part  def>> [[psysml:60f2756c-cfe4-4496-b687-ff5dbf9a385d ]] {\r\n",
       "}\r\n",
       "}\r\n",
       "}\r\n",
       "}\r\n",
       "}\r\n",
       "E2 ..> E8 [[psysml:7a09cf9a-4d44-4715-925a-a999429b18c6 ]] : <<import>>\r\n",
       "E2 ..> E6 [[psysml:4d48d5b8-8a2b-403b-a600-382befb1c751 ]] : <<import>>*\r\n",
       "E2 ..> E7 [[psysml:435ffdce-fa99-42b8-aa7d-b79facf9bf9f ]] : <<import>>*::**\r\n",
       "E3 - -:|> E8 [[psysml:c2b3862a-e64c-4984-9133-ea986cde4555 ]] \r\n",
       "E5 ..> E2 [[psysml:2e43f05d-56e8-4995-94de-93836f9907a6 ]] : <<import>>*\r\n",
       "E8 - -|> E4 [[psysml:6ab4f965-70f0-4435-9c9c-0953ad10c713 ]] \r\n",
       "@enduml\r\n",
       "\n",
       "PlantUML version 1.2022.7(Mon Aug 22 17:01:30 UTC 2022)\n",
       "(EPL source distribution)\n",
       "Java Runtime: OpenJDK Runtime Environment\n",
       "JVM: OpenJDK 64-Bit Server VM\n",
       "Default Encoding: UTF-8\n",
       "Language: en\n",
       "Country: null\n",
       "--></g></svg>"
      ]
     },
     "execution_count": 40,
     "metadata": {},
     "output_type": "execute_result"
    }
   ],
   "source": [
    "%viz --style=\"DEFAULT\" --view=\"Interconnection\" \"ImportTest\""
   ]
  },
  {
   "cell_type": "code",
   "execution_count": 41,
   "id": "be67b7d5",
   "metadata": {
    "execution": {
     "iopub.execute_input": "2024-12-16T14:16:22.611894Z",
     "iopub.status.busy": "2024-12-16T14:16:22.611657Z",
     "iopub.status.idle": "2024-12-16T14:16:22.615971Z",
     "shell.execute_reply": "2024-12-16T14:16:22.615791Z"
    }
   },
   "outputs": [
    {
     "data": {
      "image/svg+xml": [
       "<?xml version=\"1.0\" encoding=\"UTF-8\" standalone=\"no\"?><svg xmlns=\"http://www.w3.org/2000/svg\" xmlns:xlink=\"http://www.w3.org/1999/xlink\" contentStyleType=\"text/css\" height=\"10px\" preserveAspectRatio=\"none\" style=\"width:10px;height:10px;background:#FFFFFF;\" version=\"1.1\" viewBox=\"0 0 10 10\" width=\"10px\" zoomAndPan=\"magnify\"><defs/><g><!--MD5=[3d9597b1575ffc4802b0d6ba40297a8d]\n",
       "@startuml\r\n",
       "skin sysmlbw\r\n",
       "skinparam monochrome true\r\n",
       "skinparam wrapWidth 300\r\n",
       "hide circle\r\n",
       "skinparam ranksep 8\r\n",
       "\r\n",
       "@enduml\r\n",
       "\n",
       "PlantUML version 1.2022.7(Mon Aug 22 17:01:30 UTC 2022)\n",
       "(EPL source distribution)\n",
       "Java Runtime: OpenJDK Runtime Environment\n",
       "JVM: OpenJDK 64-Bit Server VM\n",
       "Default Encoding: UTF-8\n",
       "Language: en\n",
       "Country: null\n",
       "--></g></svg>"
      ]
     },
     "execution_count": 41,
     "metadata": {},
     "output_type": "execute_result"
    }
   ],
   "source": [
    "%viz --style=\"DEFAULT\" --view=\"Action\" \"ImportTest\""
   ]
  },
  {
   "cell_type": "code",
   "execution_count": 42,
   "id": "41dc6d00",
   "metadata": {
    "execution": {
     "iopub.execute_input": "2024-12-16T14:16:22.672283Z",
     "iopub.status.busy": "2024-12-16T14:16:22.672005Z",
     "iopub.status.idle": "2024-12-16T14:16:22.677023Z",
     "shell.execute_reply": "2024-12-16T14:16:22.676809Z"
    }
   },
   "outputs": [
    {
     "data": {
      "image/svg+xml": [
       "<?xml version=\"1.0\" encoding=\"UTF-8\" standalone=\"no\"?><svg xmlns=\"http://www.w3.org/2000/svg\" xmlns:xlink=\"http://www.w3.org/1999/xlink\" contentStyleType=\"text/css\" height=\"10px\" preserveAspectRatio=\"none\" style=\"width:10px;height:10px;background:#FFFFFF;\" version=\"1.1\" viewBox=\"0 0 10 10\" width=\"10px\" zoomAndPan=\"magnify\"><defs/><g><!--MD5=[075159388321915a295a256e9638f934]\n",
       "@startuml\r\n",
       "skin sysmlbw\r\n",
       "skinparam monochrome true\r\n",
       "skinparam wrapWidth 300\r\n",
       "hide circle\r\n",
       "skinparam roundcorner 20\r\n",
       "skinparam BoxPadding 20\r\n",
       "skinparam SequenceBoxBackgroundColor #white\r\n",
       "skinparam style strictuml\r\n",
       "skinparam maxMessageSize 100\r\n",
       "\r\n",
       "@enduml\r\n",
       "\n",
       "PlantUML version 1.2022.7(Mon Aug 22 17:01:30 UTC 2022)\n",
       "(EPL source distribution)\n",
       "Java Runtime: OpenJDK Runtime Environment\n",
       "JVM: OpenJDK 64-Bit Server VM\n",
       "Default Encoding: UTF-8\n",
       "Language: en\n",
       "Country: null\n",
       "--></g></svg>"
      ]
     },
     "execution_count": 42,
     "metadata": {},
     "output_type": "execute_result"
    }
   ],
   "source": [
    "%viz --style=\"DEFAULT\" --view=\"Sequence\" \"ImportTest\""
   ]
  },
  {
   "cell_type": "code",
   "execution_count": 43,
   "id": "eedf93eb",
   "metadata": {
    "execution": {
     "iopub.execute_input": "2024-12-16T14:16:22.733120Z",
     "iopub.status.busy": "2024-12-16T14:16:22.732886Z",
     "iopub.status.idle": "2024-12-16T14:16:22.752494Z",
     "shell.execute_reply": "2024-12-16T14:16:22.752297Z"
    }
   },
   "outputs": [
    {
     "data": {
      "image/svg+xml": [
       "<?xml version=\"1.0\" encoding=\"UTF-8\" standalone=\"no\"?><svg xmlns=\"http://www.w3.org/2000/svg\" xmlns:xlink=\"http://www.w3.org/1999/xlink\" contentStyleType=\"text/css\" height=\"589px\" preserveAspectRatio=\"none\" style=\"width:517px;height:589px;background:#FFFFFF;\" version=\"1.1\" viewBox=\"0 0 517 589\" width=\"517px\" zoomAndPan=\"magnify\"><defs/><g><!--MD5=[fbc87193dbaf4d95561dea2c320d4a47]\n",
       "cluster E1--><g id=\"cluster_E1\"><a href=\"psysml:257ae3bb-e982-4f23-93ec-21786cef6fd4\" target=\"_top\" title=\"psysml:257ae3bb-e982-4f23-93ec-21786cef6fd4\" xlink:actuate=\"onRequest\" xlink:href=\"psysml:257ae3bb-e982-4f23-93ec-21786cef6fd4\" xlink:show=\"new\" xlink:title=\"psysml:257ae3bb-e982-4f23-93ec-21786cef6fd4\" xlink:type=\"simple\"><polygon fill=\"none\" points=\"16,6,101.375,6,108.375,28.2969,500,28.2969,500,582,16,582,16,6\" style=\"stroke:#000000;stroke-width:1.5;\"/><line style=\"stroke:#000000;stroke-width:1.5;\" x1=\"16\" x2=\"108.375\" y1=\"28.2969\" y2=\"28.2969\"/><text fill=\"#000000\" font-family=\"sans-serif\" font-size=\"14\" font-weight=\"bold\" lengthAdjust=\"spacing\" textLength=\"79.375\" x=\"20\" y=\"20.9951\">ImportTest</text></a></g><!--MD5=[e4f7fae6ed58524ba242bb0b0d3be6b7]\n",
       "cluster E2--><g id=\"cluster_E2\"><a href=\"psysml:d86f8a04-756e-41fe-890d-bee1afc1808f\" target=\"_top\" title=\"psysml:d86f8a04-756e-41fe-890d-bee1afc1808f\" xlink:actuate=\"onRequest\" xlink:href=\"psysml:d86f8a04-756e-41fe-890d-bee1afc1808f\" xlink:show=\"new\" xlink:title=\"psysml:d86f8a04-756e-41fe-890d-bee1afc1808f\" xlink:type=\"simple\"><polygon fill=\"none\" points=\"210,57,252.75,57,259.75,79.2969,468,79.2969,468,172,210,172,210,57\" style=\"stroke:#000000;stroke-width:1.5;\"/><line style=\"stroke:#000000;stroke-width:1.5;\" x1=\"210\" x2=\"259.75\" y1=\"79.2969\" y2=\"79.2969\"/><text fill=\"#000000\" font-family=\"sans-serif\" font-size=\"14\" font-weight=\"bold\" lengthAdjust=\"spacing\" textLength=\"36.75\" x=\"214\" y=\"71.9951\">Pkg1</text></a></g><!--MD5=[de5ec2e2e8f62f467e546659f5068c88]\n",
       "cluster E5--><g id=\"cluster_E5\"><a href=\"psysml:87b5aefc-a384-45d2-9563-354f132d05b6\" target=\"_top\" title=\"psysml:87b5aefc-a384-45d2-9563-354f132d05b6\" xlink:actuate=\"onRequest\" xlink:href=\"psysml:87b5aefc-a384-45d2-9563-354f132d05b6\" xlink:show=\"new\" xlink:title=\"psysml:87b5aefc-a384-45d2-9563-354f132d05b6\" xlink:type=\"simple\"><polygon fill=\"none\" points=\"121,237,163.75,237,170.75,259.2969,434,259.2969,434,550,121,550,121,237\" style=\"stroke:#000000;stroke-width:1.5;\"/><line style=\"stroke:#000000;stroke-width:1.5;\" x1=\"121\" x2=\"170.75\" y1=\"259.2969\" y2=\"259.2969\"/><text fill=\"#000000\" font-family=\"sans-serif\" font-size=\"14\" font-weight=\"bold\" lengthAdjust=\"spacing\" textLength=\"36.75\" x=\"125\" y=\"251.9951\">Pkg2</text></a></g><!--MD5=[14e3b0961a2654348d326746436168a1]\n",
       "cluster E6--><g id=\"cluster_E6\"><a href=\"psysml:74f758db-603d-4dff-97e1-05ce4d0c3ab8\" target=\"_top\" title=\"psysml:74f758db-603d-4dff-97e1-05ce4d0c3ab8\" xlink:actuate=\"onRequest\" xlink:href=\"psysml:74f758db-603d-4dff-97e1-05ce4d0c3ab8\" xlink:show=\"new\" xlink:title=\"psysml:74f758db-603d-4dff-97e1-05ce4d0c3ab8\" xlink:type=\"simple\"><polygon fill=\"none\" points=\"161,296,213.1875,296,220.1875,318.2969,386,318.2969,386,510,161,510,161,296\" style=\"stroke:#000000;stroke-width:1.5;\"/><line style=\"stroke:#000000;stroke-width:1.5;\" x1=\"161\" x2=\"220.1875\" y1=\"318.2969\" y2=\"318.2969\"/><text fill=\"#000000\" font-family=\"sans-serif\" font-size=\"14\" font-weight=\"bold\" lengthAdjust=\"spacing\" textLength=\"46.1875\" x=\"165\" y=\"310.9951\">Pkg21</text></a></g><!--MD5=[168fadf3d0c3fd93dd5d6da1b1d7ab76]\n",
       "cluster E7--><g id=\"cluster_E7\"><a href=\"psysml:c9292eea-a9ed-4d7d-b554-73a415b23d76\" target=\"_top\" title=\"psysml:c9292eea-a9ed-4d7d-b554-73a415b23d76\" xlink:actuate=\"onRequest\" xlink:href=\"psysml:c9292eea-a9ed-4d7d-b554-73a415b23d76\" xlink:show=\"new\" xlink:title=\"psysml:c9292eea-a9ed-4d7d-b554-73a415b23d76\" xlink:type=\"simple\"><polygon fill=\"none\" points=\"209,355,270.625,355,277.625,377.2969,346,377.2969,346,470,209,470,209,355\" style=\"stroke:#000000;stroke-width:1.5;\"/><line style=\"stroke:#000000;stroke-width:1.5;\" x1=\"209\" x2=\"277.625\" y1=\"377.2969\" y2=\"377.2969\"/><text fill=\"#000000\" font-family=\"sans-serif\" font-size=\"14\" font-weight=\"bold\" lengthAdjust=\"spacing\" textLength=\"55.625\" x=\"213\" y=\"369.9951\">Pkg211</text></a></g><!--MD5=[09b614a08d8cba4a07c9adeb5e0fee81]\n",
       "class E3--><a href=\"psysml:c9f16dae-c47d-4af9-8178-9fb29f2ca8fe\" target=\"_top\" title=\"psysml:c9f16dae-c47d-4af9-8178-9fb29f2ca8fe\" xlink:actuate=\"onRequest\" xlink:href=\"psysml:c9f16dae-c47d-4af9-8178-9fb29f2ca8fe\" xlink:show=\"new\" xlink:title=\"psysml:c9f16dae-c47d-4af9-8178-9fb29f2ca8fe\" xlink:type=\"simple\"><g id=\"elem_E3\"><rect fill=\"#FFFFFF\" height=\"48.2656\" id=\"E3\" rx=\"10\" ry=\"10\" style=\"stroke:#181818;stroke-width:0.5;\" width=\"86\" x=\"253\" y=\"100\"/><text fill=\"#000000\" font-family=\"sans-serif\" font-size=\"12\" font-style=\"italic\" lengthAdjust=\"spacing\" textLength=\"40\" x=\"276\" y=\"116.1387\">«part»</text><text fill=\"#000000\" font-family=\"sans-serif\" font-size=\"14\" lengthAdjust=\"spacing\" textLength=\"72\" x=\"256\" y=\"131.9639\">p11: P211</text><line style=\"stroke:#181818;stroke-width:0.5;\" x1=\"254\" x2=\"338\" y1=\"140.2656\" y2=\"140.2656\"/></g></a><!--MD5=[ebbe1d658d1005bcc118a6aa81145e00]\n",
       "class E4--><a href=\"psysml:5a85d6e7-c399-4e25-bc8b-7b1310ff596a\" target=\"_top\" title=\"psysml:5a85d6e7-c399-4e25-bc8b-7b1310ff596a\" xlink:actuate=\"onRequest\" xlink:href=\"psysml:5a85d6e7-c399-4e25-bc8b-7b1310ff596a\" xlink:show=\"new\" xlink:title=\"psysml:5a85d6e7-c399-4e25-bc8b-7b1310ff596a\" xlink:type=\"simple\"><g id=\"elem_E4\"><rect fill=\"#FFFFFF\" height=\"48.2656\" id=\"E4\" style=\"stroke:#181818;stroke-width:0.5;\" width=\"70\" x=\"374\" y=\"100\"/><text fill=\"#000000\" font-family=\"sans-serif\" font-size=\"12\" font-style=\"italic\" lengthAdjust=\"spacing\" textLength=\"68\" x=\"375\" y=\"116.1387\">«part  def»</text><text fill=\"#000000\" font-family=\"sans-serif\" font-size=\"14\" lengthAdjust=\"spacing\" textLength=\"27\" x=\"395.5\" y=\"131.9639\">P12</text><line style=\"stroke:#181818;stroke-width:0.5;\" x1=\"375\" x2=\"443\" y1=\"140.2656\" y2=\"140.2656\"/></g></a><!--MD5=[b9389687b975829384b498ac4b7476b2]\n",
       "class E8--><a href=\"psysml:60f2756c-cfe4-4496-b687-ff5dbf9a385d\" target=\"_top\" title=\"psysml:60f2756c-cfe4-4496-b687-ff5dbf9a385d\" xlink:actuate=\"onRequest\" xlink:href=\"psysml:60f2756c-cfe4-4496-b687-ff5dbf9a385d\" xlink:show=\"new\" xlink:title=\"psysml:60f2756c-cfe4-4496-b687-ff5dbf9a385d\" xlink:type=\"simple\"><g id=\"elem_E8\"><rect fill=\"#FFFFFF\" height=\"48.2656\" id=\"E8\" style=\"stroke:#181818;stroke-width:0.5;\" width=\"70\" x=\"252\" y=\"398\"/><text fill=\"#000000\" font-family=\"sans-serif\" font-size=\"12\" font-style=\"italic\" lengthAdjust=\"spacing\" textLength=\"68\" x=\"253\" y=\"414.1387\">«part  def»</text><text fill=\"#000000\" font-family=\"sans-serif\" font-size=\"14\" lengthAdjust=\"spacing\" textLength=\"36\" x=\"269\" y=\"429.9639\">P211</text><line style=\"stroke:#181818;stroke-width:0.5;\" x1=\"253\" x2=\"321\" y1=\"438.2656\" y2=\"438.2656\"/></g></a><!--MD5=[b0060bfdb0500b904584095522b4da3c]\n",
       "link E2 to E8--><g id=\"link_E2_E8\"><a href=\"psysml:7a09cf9a-4d44-4715-925a-a999429b18c6\" target=\"_top\" title=\"psysml:7a09cf9a-4d44-4715-925a-a999429b18c6\" xlink:actuate=\"onRequest\" xlink:href=\"psysml:7a09cf9a-4d44-4715-925a-a999429b18c6\" xlink:show=\"new\" xlink:title=\"psysml:7a09cf9a-4d44-4715-925a-a999429b18c6\" xlink:type=\"simple\"><path d=\"M226.4784,172.2619 C226.5244,172.3641 226.5707,172.4663 226.6172,172.5683 C226.9895,173.3846 227.3777,174.1934 227.7824,174.9929 C228.5919,176.5919 229.4675,178.1539 230.4147,179.6646 C232.3092,182.6861 234.49,185.5025 237,188 C245.87,196.83 256.01,186.37 264,196 C310.7,252.32 301.61,345.84 293.2,392.58 \" fill=\"none\" id=\"E2-to-E8\" style=\"stroke:#181818;stroke-width:1.0;stroke-dasharray:7.0,7.0;\"/><polygon fill=\"#181818\" points=\"292.23,397.77,297.8087,389.6535,293.1445,392.8543,289.9437,388.1902,292.23,397.77\" style=\"stroke:#181818;stroke-width:1.0;\"/><text fill=\"#000000\" font-family=\"sans-serif\" font-size=\"13\" lengthAdjust=\"spacing\" textLength=\"58\" x=\"275\" y=\"209.0669\">«import»</text></a></g><!--MD5=[e3e28c1befcf002155aa15e1416b4315]\n",
       "link E2 to E6--><g id=\"link_E2_E6\"><a href=\"psysml:4d48d5b8-8a2b-403b-a600-382befb1c751\" target=\"_top\" title=\"psysml:4d48d5b8-8a2b-403b-a600-382befb1c751\" xlink:actuate=\"onRequest\" xlink:href=\"psysml:4d48d5b8-8a2b-403b-a600-382befb1c751\" xlink:show=\"new\" xlink:title=\"psysml:4d48d5b8-8a2b-403b-a600-382befb1c751\" xlink:type=\"simple\"><path d=\"M209.7844,126.6885 C209.6745,126.7134 209.5637,126.7387 209.4519,126.7642 C209.0046,126.8663 208.5422,126.9732 208.065,127.085 C206.1563,127.532 204.0125,128.0567 201.6694,128.6645 C192.2969,131.0959 179.735,134.8581 166.2725,140.3037 C139.3475,151.195 108.82,168.82 93,196 C66.865,240.9 84.8675,296.1075 109.8912,340.5988 C122.4031,362.8444 136.6703,382.4109 148.0533,396.6705 C150.899,400.2354 153.5645,403.4685 155.9772,406.329 C157.1836,407.7592 158.3268,409.0962 159.3977,410.335 C159.9331,410.9543 160.4505,411.5491 160.9487,412.1186 \" fill=\"none\" id=\"E2-to-E6\" style=\"stroke:#181818;stroke-width:1.0;stroke-dasharray:7.0,7.0;\"/><polygon fill=\"#181818\" points=\"160.9487,412.1186,158.034,402.711,157.6568,408.3552,152.0125,407.9781,160.9487,412.1186\" style=\"stroke:#181818;stroke-width:1.0;\"/><text fill=\"#000000\" font-family=\"sans-serif\" font-size=\"13\" lengthAdjust=\"spacing\" textLength=\"65\" x=\"94\" y=\"209.0669\">«import»*</text></a></g><!--MD5=[e3d2a08a9c9236652057e8ed0cbc9b62]\n",
       "link E2 to E7--><g id=\"link_E2_E7\"><a href=\"psysml:435ffdce-fa99-42b8-aa7d-b79facf9bf9f\" target=\"_top\" title=\"psysml:435ffdce-fa99-42b8-aa7d-b79facf9bf9f\" xlink:actuate=\"onRequest\" xlink:href=\"psysml:435ffdce-fa99-42b8-aa7d-b79facf9bf9f\" xlink:show=\"new\" xlink:title=\"psysml:435ffdce-fa99-42b8-aa7d-b79facf9bf9f\" xlink:type=\"simple\"><path d=\"M209.9156,133.4819 C209.8545,133.5495 209.7932,133.6175 209.7316,133.6858 C209.239,134.2321 208.7304,134.801 208.2074,135.3916 C207.1616,136.5729 206.0584,137.8408 204.9115,139.188 C202.6178,141.8824 200.1494,144.8941 197.615,148.1638 C187.4775,161.2425 176.285,178.45 171,196 C168.82,203.23 166.18,207.18 171,213 C183.11,227.64 200.74,206.48 213,221 C227.115,237.715 228.305,286.425 225.8738,331.5863 C225.5698,337.2314 225.2094,342.8211 224.8105,348.2859 C224.7107,349.6522 224.6086,351.0106 224.5044,352.3601 C224.4522,353.0348 224.3996,353.7074 224.3464,354.3776 \" fill=\"none\" id=\"E2-to-E7\" style=\"stroke:#181818;stroke-width:1.0;stroke-dasharray:7.0,7.0;\"/><polygon fill=\"#181818\" points=\"224.3464,354.3776,229.0454,345.7219,224.7417,349.3932,221.0704,345.0895,224.3464,354.3776\" style=\"stroke:#181818;stroke-width:1.0;\"/><text fill=\"#000000\" font-family=\"sans-serif\" font-size=\"13\" lengthAdjust=\"spacing\" textLength=\"87\" x=\"172\" y=\"209.0669\">«import»*::**</text></a></g><!--MD5=[ca5a752d6098d8a44b3f88316e7452d1]\n",
       "link E3 to E8--><g id=\"link_E3_E8\"><a href=\"psysml:c2b3862a-e64c-4984-9133-ea986cde4555\" target=\"_top\" title=\"psysml:c2b3862a-e64c-4984-9133-ea986cde4555\" xlink:actuate=\"onRequest\" xlink:href=\"psysml:c2b3862a-e64c-4984-9133-ea986cde4555\" xlink:show=\"new\" xlink:title=\"psysml:c2b3862a-e64c-4984-9133-ea986cde4555\" xlink:type=\"simple\"><path d=\"M318.74,148.33 C338.26,168.43 363.38,194.46 364,196 C366.82,203.01 368.76,207.13 364,213 C353.13,226.4 338.11,208.71 326,221 C285.35,262.26 280.75,332.54 282.7,377.85 \" fill=\"none\" id=\"E3-to-E8\" style=\"stroke:#181818;stroke-width:1.0;\"/><polygon fill=\"#FFFFFF\" points=\"284.06,397.85,275.7871,379.3687,289.7548,378.4189,284.06,397.85\" style=\"stroke:#181818;stroke-width:1.0;\"/><ellipse cx=\"277.3957\" cy=\"373.5461\" fill=\"#181818\" rx=\"2\" ry=\"2\" style=\"stroke:#181818;stroke-width:1.0;\"/><ellipse cx=\"287.3727\" cy=\"372.8677\" fill=\"#181818\" rx=\"2\" ry=\"2\" style=\"stroke:#181818;stroke-width:1.0;\"/></a></g><!--MD5=[15ebcb19ae302d9b601edb458606d402]\n",
       "link E5 to E2--><g id=\"link_E5_E2\"><a href=\"psysml:2e43f05d-56e8-4995-94de-93836f9907a6\" target=\"_top\" title=\"psysml:2e43f05d-56e8-4995-94de-93836f9907a6\" xlink:actuate=\"onRequest\" xlink:href=\"psysml:2e43f05d-56e8-4995-94de-93836f9907a6\" xlink:show=\"new\" xlink:title=\"psysml:2e43f05d-56e8-4995-94de-93836f9907a6\" xlink:type=\"simple\"><path d=\"M378.9609,236.6531 C378.738,236.3074 378.5141,235.9625 378.2891,235.6183 C377.389,234.2417 376.472,232.8777 375.5377,231.5272 C373.669,228.8262 371.7312,226.1791 369.7216,223.5936 C361.6834,213.2516 352.4975,203.8938 342,196 C323.3,181.94 255.24,202.66 237,188 C234.24,185.7813 231.8698,183.1761 229.8356,180.3106 C228.8185,178.8779 227.8853,177.3801 227.0294,175.833 C226.6014,175.0595 226.1928,174.2736 225.8026,173.4773 C225.6075,173.0792 225.417,172.6785 225.231,172.2755 \" fill=\"none\" id=\"E5-to-E2\" style=\"stroke:#181818;stroke-width:1.0;stroke-dasharray:7.0,7.0;\"/><polygon fill=\"#181818\" points=\"225.231,172.2755,225.3696,182.1233,227.3258,176.8155,232.6337,178.7717,225.231,172.2755\" style=\"stroke:#181818;stroke-width:1.0;\"/><text fill=\"#000000\" font-family=\"sans-serif\" font-size=\"13\" lengthAdjust=\"spacing\" textLength=\"65\" x=\"357\" y=\"209.0669\">«import»*</text></a></g><!--MD5=[d7bb3fb34add81b710575eb3799fa2ad]\n",
       "link E8 to E4--><g id=\"link_E8_E4\"><a href=\"psysml:6ab4f965-70f0-4435-9c9c-0953ad10c713\" target=\"_top\" title=\"psysml:6ab4f965-70f0-4435-9c9c-0953ad10c713\" xlink:actuate=\"onRequest\" xlink:href=\"psysml:6ab4f965-70f0-4435-9c9c-0953ad10c713\" xlink:show=\"new\" xlink:title=\"psysml:6ab4f965-70f0-4435-9c9c-0953ad10c713\" xlink:type=\"simple\"><path d=\"M283.44,397.77 C278.41,355.31 274.86,265.44 326,221 C338.77,209.91 466.36,225.27 478,213 C494.05,196.08 479.84,175.66 460.24,158.75 \" fill=\"none\" id=\"E8-to-E4\" style=\"stroke:#181818;stroke-width:1.0;\"/><polygon fill=\"none\" points=\"455.75,164.13,444.23,146.35,464.32,153.06,455.75,164.13\" style=\"stroke:#181818;stroke-width:1.0;\"/></a></g><!--MD5=[77fb692bdf405a6f01fe26511bd119f0]\n",
       "@startuml\r\n",
       "skin sysmlbw\r\n",
       "skinparam monochrome true\r\n",
       "skinparam wrapWidth 300\r\n",
       "hide circle\r\n",
       "\r\n",
       "package \"ImportTest\" as E1  [[psysml:257ae3bb-e982-4f23-93ec-21786cef6fd4 ]]  {\r\n",
       "package \"Pkg1\" as E2  [[psysml:d86f8a04-756e-41fe-890d-bee1afc1808f ]]  {\r\n",
       "comp usage \"p11: P211  \" as E3  <<(T,blue) part>> [[psysml:c9f16dae-c47d-4af9-8178-9fb29f2ca8fe ]] {\r\n",
       "}\r\n",
       "comp def \"P12\" as E4  <<(T,blue) part  def>> [[psysml:5a85d6e7-c399-4e25-bc8b-7b1310ff596a ]] {\r\n",
       "}\r\n",
       "}\r\n",
       "package \"Pkg2\" as E5  [[psysml:87b5aefc-a384-45d2-9563-354f132d05b6 ]]  {\r\n",
       "package \"Pkg21\" as E6  [[psysml:74f758db-603d-4dff-97e1-05ce4d0c3ab8 ]]  {\r\n",
       "package \"Pkg211\" as E7  [[psysml:c9292eea-a9ed-4d7d-b554-73a415b23d76 ]]  {\r\n",
       "comp def \"P211\" as E8  <<(T,blue) part  def>> [[psysml:60f2756c-cfe4-4496-b687-ff5dbf9a385d ]] {\r\n",
       "}\r\n",
       "}\r\n",
       "}\r\n",
       "}\r\n",
       "}\r\n",
       "E2 ..> E8 [[psysml:7a09cf9a-4d44-4715-925a-a999429b18c6 ]] : <<import>>\r\n",
       "E2 ..> E6 [[psysml:4d48d5b8-8a2b-403b-a600-382befb1c751 ]] : <<import>>*\r\n",
       "E2 ..> E7 [[psysml:435ffdce-fa99-42b8-aa7d-b79facf9bf9f ]] : <<import>>*::**\r\n",
       "E3 - -:|> E8 [[psysml:c2b3862a-e64c-4984-9133-ea986cde4555 ]] \r\n",
       "E5 ..> E2 [[psysml:2e43f05d-56e8-4995-94de-93836f9907a6 ]] : <<import>>*\r\n",
       "E8 - -|> E4 [[psysml:6ab4f965-70f0-4435-9c9c-0953ad10c713 ]] \r\n",
       "@enduml\r\n",
       "\n",
       "PlantUML version 1.2022.7(Mon Aug 22 17:01:30 UTC 2022)\n",
       "(EPL source distribution)\n",
       "Java Runtime: OpenJDK Runtime Environment\n",
       "JVM: OpenJDK 64-Bit Server VM\n",
       "Default Encoding: UTF-8\n",
       "Language: en\n",
       "Country: null\n",
       "--></g></svg>"
      ]
     },
     "execution_count": 43,
     "metadata": {},
     "output_type": "execute_result"
    }
   ],
   "source": [
    "%viz --style=\"DEFAULT\" --view=\"MIXED\" \"ImportTest\""
   ]
  },
  {
   "cell_type": "code",
   "execution_count": 44,
   "id": "3df591ba",
   "metadata": {
    "execution": {
     "iopub.execute_input": "2024-12-16T14:16:22.803286Z",
     "iopub.status.busy": "2024-12-16T14:16:22.803010Z",
     "iopub.status.idle": "2024-12-16T14:16:22.822787Z",
     "shell.execute_reply": "2024-12-16T14:16:22.821698Z"
    }
   },
   "outputs": [
    {
     "data": {
      "image/svg+xml": [
       "<?xml version=\"1.0\" encoding=\"UTF-8\" standalone=\"no\"?><svg xmlns=\"http://www.w3.org/2000/svg\" xmlns:xlink=\"http://www.w3.org/1999/xlink\" contentStyleType=\"text/css\" height=\"589px\" preserveAspectRatio=\"none\" style=\"width:517px;height:589px;background:#FFFFFF;\" version=\"1.1\" viewBox=\"0 0 517 589\" width=\"517px\" zoomAndPan=\"magnify\"><defs/><g><!--MD5=[fbc87193dbaf4d95561dea2c320d4a47]\n",
       "cluster E1--><g id=\"cluster_E1\"><a href=\"psysml:257ae3bb-e982-4f23-93ec-21786cef6fd4\" target=\"_top\" title=\"psysml:257ae3bb-e982-4f23-93ec-21786cef6fd4\" xlink:actuate=\"onRequest\" xlink:href=\"psysml:257ae3bb-e982-4f23-93ec-21786cef6fd4\" xlink:show=\"new\" xlink:title=\"psysml:257ae3bb-e982-4f23-93ec-21786cef6fd4\" xlink:type=\"simple\"><polygon fill=\"none\" points=\"16,6,101.375,6,108.375,28.2969,500,28.2969,500,582,16,582,16,6\" style=\"stroke:#000000;stroke-width:1.5;\"/><line style=\"stroke:#000000;stroke-width:1.5;\" x1=\"16\" x2=\"108.375\" y1=\"28.2969\" y2=\"28.2969\"/><text fill=\"#000000\" font-family=\"sans-serif\" font-size=\"14\" font-weight=\"bold\" lengthAdjust=\"spacing\" textLength=\"79.375\" x=\"20\" y=\"20.9951\">ImportTest</text></a></g><!--MD5=[e4f7fae6ed58524ba242bb0b0d3be6b7]\n",
       "cluster E2--><g id=\"cluster_E2\"><a href=\"psysml:d86f8a04-756e-41fe-890d-bee1afc1808f\" target=\"_top\" title=\"psysml:d86f8a04-756e-41fe-890d-bee1afc1808f\" xlink:actuate=\"onRequest\" xlink:href=\"psysml:d86f8a04-756e-41fe-890d-bee1afc1808f\" xlink:show=\"new\" xlink:title=\"psysml:d86f8a04-756e-41fe-890d-bee1afc1808f\" xlink:type=\"simple\"><polygon fill=\"none\" points=\"210,57,252.75,57,259.75,79.2969,468,79.2969,468,172,210,172,210,57\" style=\"stroke:#000000;stroke-width:1.5;\"/><line style=\"stroke:#000000;stroke-width:1.5;\" x1=\"210\" x2=\"259.75\" y1=\"79.2969\" y2=\"79.2969\"/><text fill=\"#000000\" font-family=\"sans-serif\" font-size=\"14\" font-weight=\"bold\" lengthAdjust=\"spacing\" textLength=\"36.75\" x=\"214\" y=\"71.9951\">Pkg1</text></a></g><!--MD5=[de5ec2e2e8f62f467e546659f5068c88]\n",
       "cluster E5--><g id=\"cluster_E5\"><a href=\"psysml:87b5aefc-a384-45d2-9563-354f132d05b6\" target=\"_top\" title=\"psysml:87b5aefc-a384-45d2-9563-354f132d05b6\" xlink:actuate=\"onRequest\" xlink:href=\"psysml:87b5aefc-a384-45d2-9563-354f132d05b6\" xlink:show=\"new\" xlink:title=\"psysml:87b5aefc-a384-45d2-9563-354f132d05b6\" xlink:type=\"simple\"><polygon fill=\"none\" points=\"121,237,163.75,237,170.75,259.2969,434,259.2969,434,550,121,550,121,237\" style=\"stroke:#000000;stroke-width:1.5;\"/><line style=\"stroke:#000000;stroke-width:1.5;\" x1=\"121\" x2=\"170.75\" y1=\"259.2969\" y2=\"259.2969\"/><text fill=\"#000000\" font-family=\"sans-serif\" font-size=\"14\" font-weight=\"bold\" lengthAdjust=\"spacing\" textLength=\"36.75\" x=\"125\" y=\"251.9951\">Pkg2</text></a></g><!--MD5=[14e3b0961a2654348d326746436168a1]\n",
       "cluster E6--><g id=\"cluster_E6\"><a href=\"psysml:74f758db-603d-4dff-97e1-05ce4d0c3ab8\" target=\"_top\" title=\"psysml:74f758db-603d-4dff-97e1-05ce4d0c3ab8\" xlink:actuate=\"onRequest\" xlink:href=\"psysml:74f758db-603d-4dff-97e1-05ce4d0c3ab8\" xlink:show=\"new\" xlink:title=\"psysml:74f758db-603d-4dff-97e1-05ce4d0c3ab8\" xlink:type=\"simple\"><polygon fill=\"none\" points=\"161,296,213.1875,296,220.1875,318.2969,386,318.2969,386,510,161,510,161,296\" style=\"stroke:#000000;stroke-width:1.5;\"/><line style=\"stroke:#000000;stroke-width:1.5;\" x1=\"161\" x2=\"220.1875\" y1=\"318.2969\" y2=\"318.2969\"/><text fill=\"#000000\" font-family=\"sans-serif\" font-size=\"14\" font-weight=\"bold\" lengthAdjust=\"spacing\" textLength=\"46.1875\" x=\"165\" y=\"310.9951\">Pkg21</text></a></g><!--MD5=[168fadf3d0c3fd93dd5d6da1b1d7ab76]\n",
       "cluster E7--><g id=\"cluster_E7\"><a href=\"psysml:c9292eea-a9ed-4d7d-b554-73a415b23d76\" target=\"_top\" title=\"psysml:c9292eea-a9ed-4d7d-b554-73a415b23d76\" xlink:actuate=\"onRequest\" xlink:href=\"psysml:c9292eea-a9ed-4d7d-b554-73a415b23d76\" xlink:show=\"new\" xlink:title=\"psysml:c9292eea-a9ed-4d7d-b554-73a415b23d76\" xlink:type=\"simple\"><polygon fill=\"none\" points=\"209,355,270.625,355,277.625,377.2969,346,377.2969,346,470,209,470,209,355\" style=\"stroke:#000000;stroke-width:1.5;\"/><line style=\"stroke:#000000;stroke-width:1.5;\" x1=\"209\" x2=\"277.625\" y1=\"377.2969\" y2=\"377.2969\"/><text fill=\"#000000\" font-family=\"sans-serif\" font-size=\"14\" font-weight=\"bold\" lengthAdjust=\"spacing\" textLength=\"55.625\" x=\"213\" y=\"369.9951\">Pkg211</text></a></g><!--MD5=[09b614a08d8cba4a07c9adeb5e0fee81]\n",
       "class E3--><a href=\"psysml:c9f16dae-c47d-4af9-8178-9fb29f2ca8fe\" target=\"_top\" title=\"psysml:c9f16dae-c47d-4af9-8178-9fb29f2ca8fe\" xlink:actuate=\"onRequest\" xlink:href=\"psysml:c9f16dae-c47d-4af9-8178-9fb29f2ca8fe\" xlink:show=\"new\" xlink:title=\"psysml:c9f16dae-c47d-4af9-8178-9fb29f2ca8fe\" xlink:type=\"simple\"><g id=\"elem_E3\"><rect fill=\"#FFFFFF\" height=\"48.2656\" id=\"E3\" rx=\"10\" ry=\"10\" style=\"stroke:#181818;stroke-width:0.5;\" width=\"86\" x=\"253\" y=\"100\"/><text fill=\"#000000\" font-family=\"sans-serif\" font-size=\"12\" font-style=\"italic\" lengthAdjust=\"spacing\" textLength=\"40\" x=\"276\" y=\"116.1387\">«part»</text><text fill=\"#000000\" font-family=\"sans-serif\" font-size=\"14\" lengthAdjust=\"spacing\" textLength=\"72\" x=\"256\" y=\"131.9639\">p11: P211</text><line style=\"stroke:#181818;stroke-width:0.5;\" x1=\"254\" x2=\"338\" y1=\"140.2656\" y2=\"140.2656\"/></g></a><!--MD5=[ebbe1d658d1005bcc118a6aa81145e00]\n",
       "class E4--><a href=\"psysml:5a85d6e7-c399-4e25-bc8b-7b1310ff596a\" target=\"_top\" title=\"psysml:5a85d6e7-c399-4e25-bc8b-7b1310ff596a\" xlink:actuate=\"onRequest\" xlink:href=\"psysml:5a85d6e7-c399-4e25-bc8b-7b1310ff596a\" xlink:show=\"new\" xlink:title=\"psysml:5a85d6e7-c399-4e25-bc8b-7b1310ff596a\" xlink:type=\"simple\"><g id=\"elem_E4\"><rect fill=\"#FFFFFF\" height=\"48.2656\" id=\"E4\" style=\"stroke:#181818;stroke-width:0.5;\" width=\"70\" x=\"374\" y=\"100\"/><text fill=\"#000000\" font-family=\"sans-serif\" font-size=\"12\" font-style=\"italic\" lengthAdjust=\"spacing\" textLength=\"68\" x=\"375\" y=\"116.1387\">«part  def»</text><text fill=\"#000000\" font-family=\"sans-serif\" font-size=\"14\" lengthAdjust=\"spacing\" textLength=\"27\" x=\"395.5\" y=\"131.9639\">P12</text><line style=\"stroke:#181818;stroke-width:0.5;\" x1=\"375\" x2=\"443\" y1=\"140.2656\" y2=\"140.2656\"/></g></a><!--MD5=[b9389687b975829384b498ac4b7476b2]\n",
       "class E8--><a href=\"psysml:60f2756c-cfe4-4496-b687-ff5dbf9a385d\" target=\"_top\" title=\"psysml:60f2756c-cfe4-4496-b687-ff5dbf9a385d\" xlink:actuate=\"onRequest\" xlink:href=\"psysml:60f2756c-cfe4-4496-b687-ff5dbf9a385d\" xlink:show=\"new\" xlink:title=\"psysml:60f2756c-cfe4-4496-b687-ff5dbf9a385d\" xlink:type=\"simple\"><g id=\"elem_E8\"><rect fill=\"#FFFFFF\" height=\"48.2656\" id=\"E8\" style=\"stroke:#181818;stroke-width:0.5;\" width=\"70\" x=\"252\" y=\"398\"/><text fill=\"#000000\" font-family=\"sans-serif\" font-size=\"12\" font-style=\"italic\" lengthAdjust=\"spacing\" textLength=\"68\" x=\"253\" y=\"414.1387\">«part  def»</text><text fill=\"#000000\" font-family=\"sans-serif\" font-size=\"14\" lengthAdjust=\"spacing\" textLength=\"36\" x=\"269\" y=\"429.9639\">P211</text><line style=\"stroke:#181818;stroke-width:0.5;\" x1=\"253\" x2=\"321\" y1=\"438.2656\" y2=\"438.2656\"/></g></a><!--MD5=[b0060bfdb0500b904584095522b4da3c]\n",
       "link E2 to E8--><g id=\"link_E2_E8\"><a href=\"psysml:7a09cf9a-4d44-4715-925a-a999429b18c6\" target=\"_top\" title=\"psysml:7a09cf9a-4d44-4715-925a-a999429b18c6\" xlink:actuate=\"onRequest\" xlink:href=\"psysml:7a09cf9a-4d44-4715-925a-a999429b18c6\" xlink:show=\"new\" xlink:title=\"psysml:7a09cf9a-4d44-4715-925a-a999429b18c6\" xlink:type=\"simple\"><path d=\"M226.4784,172.2619 C226.5244,172.3641 226.5707,172.4663 226.6172,172.5683 C226.9895,173.3846 227.3777,174.1934 227.7824,174.9929 C228.5919,176.5919 229.4675,178.1539 230.4147,179.6646 C232.3092,182.6861 234.49,185.5025 237,188 C245.87,196.83 256.01,186.37 264,196 C310.7,252.32 301.61,345.84 293.2,392.58 \" fill=\"none\" id=\"E2-to-E8\" style=\"stroke:#181818;stroke-width:1.0;stroke-dasharray:7.0,7.0;\"/><polygon fill=\"#181818\" points=\"292.23,397.77,297.8087,389.6535,293.1445,392.8543,289.9437,388.1902,292.23,397.77\" style=\"stroke:#181818;stroke-width:1.0;\"/><text fill=\"#000000\" font-family=\"sans-serif\" font-size=\"13\" lengthAdjust=\"spacing\" textLength=\"58\" x=\"275\" y=\"209.0669\">«import»</text></a></g><!--MD5=[e3e28c1befcf002155aa15e1416b4315]\n",
       "link E2 to E6--><g id=\"link_E2_E6\"><a href=\"psysml:4d48d5b8-8a2b-403b-a600-382befb1c751\" target=\"_top\" title=\"psysml:4d48d5b8-8a2b-403b-a600-382befb1c751\" xlink:actuate=\"onRequest\" xlink:href=\"psysml:4d48d5b8-8a2b-403b-a600-382befb1c751\" xlink:show=\"new\" xlink:title=\"psysml:4d48d5b8-8a2b-403b-a600-382befb1c751\" xlink:type=\"simple\"><path d=\"M209.7844,126.6885 C209.6745,126.7134 209.5637,126.7387 209.4519,126.7642 C209.0046,126.8663 208.5422,126.9732 208.065,127.085 C206.1563,127.532 204.0125,128.0567 201.6694,128.6645 C192.2969,131.0959 179.735,134.8581 166.2725,140.3037 C139.3475,151.195 108.82,168.82 93,196 C66.865,240.9 84.8675,296.1075 109.8912,340.5988 C122.4031,362.8444 136.6703,382.4109 148.0533,396.6705 C150.899,400.2354 153.5645,403.4685 155.9772,406.329 C157.1836,407.7592 158.3268,409.0962 159.3977,410.335 C159.9331,410.9543 160.4505,411.5491 160.9487,412.1186 \" fill=\"none\" id=\"E2-to-E6\" style=\"stroke:#181818;stroke-width:1.0;stroke-dasharray:7.0,7.0;\"/><polygon fill=\"#181818\" points=\"160.9487,412.1186,158.034,402.711,157.6568,408.3552,152.0125,407.9781,160.9487,412.1186\" style=\"stroke:#181818;stroke-width:1.0;\"/><text fill=\"#000000\" font-family=\"sans-serif\" font-size=\"13\" lengthAdjust=\"spacing\" textLength=\"65\" x=\"94\" y=\"209.0669\">«import»*</text></a></g><!--MD5=[e3d2a08a9c9236652057e8ed0cbc9b62]\n",
       "link E2 to E7--><g id=\"link_E2_E7\"><a href=\"psysml:435ffdce-fa99-42b8-aa7d-b79facf9bf9f\" target=\"_top\" title=\"psysml:435ffdce-fa99-42b8-aa7d-b79facf9bf9f\" xlink:actuate=\"onRequest\" xlink:href=\"psysml:435ffdce-fa99-42b8-aa7d-b79facf9bf9f\" xlink:show=\"new\" xlink:title=\"psysml:435ffdce-fa99-42b8-aa7d-b79facf9bf9f\" xlink:type=\"simple\"><path d=\"M209.9156,133.4819 C209.8545,133.5495 209.7932,133.6175 209.7316,133.6858 C209.239,134.2321 208.7304,134.801 208.2074,135.3916 C207.1616,136.5729 206.0584,137.8408 204.9115,139.188 C202.6178,141.8824 200.1494,144.8941 197.615,148.1638 C187.4775,161.2425 176.285,178.45 171,196 C168.82,203.23 166.18,207.18 171,213 C183.11,227.64 200.74,206.48 213,221 C227.115,237.715 228.305,286.425 225.8738,331.5863 C225.5698,337.2314 225.2094,342.8211 224.8105,348.2859 C224.7107,349.6522 224.6086,351.0106 224.5044,352.3601 C224.4522,353.0348 224.3996,353.7074 224.3464,354.3776 \" fill=\"none\" id=\"E2-to-E7\" style=\"stroke:#181818;stroke-width:1.0;stroke-dasharray:7.0,7.0;\"/><polygon fill=\"#181818\" points=\"224.3464,354.3776,229.0454,345.7219,224.7417,349.3932,221.0704,345.0895,224.3464,354.3776\" style=\"stroke:#181818;stroke-width:1.0;\"/><text fill=\"#000000\" font-family=\"sans-serif\" font-size=\"13\" lengthAdjust=\"spacing\" textLength=\"87\" x=\"172\" y=\"209.0669\">«import»*::**</text></a></g><!--MD5=[ca5a752d6098d8a44b3f88316e7452d1]\n",
       "link E3 to E8--><g id=\"link_E3_E8\"><a href=\"psysml:c2b3862a-e64c-4984-9133-ea986cde4555\" target=\"_top\" title=\"psysml:c2b3862a-e64c-4984-9133-ea986cde4555\" xlink:actuate=\"onRequest\" xlink:href=\"psysml:c2b3862a-e64c-4984-9133-ea986cde4555\" xlink:show=\"new\" xlink:title=\"psysml:c2b3862a-e64c-4984-9133-ea986cde4555\" xlink:type=\"simple\"><path d=\"M318.74,148.33 C338.26,168.43 363.38,194.46 364,196 C366.82,203.01 368.76,207.13 364,213 C353.13,226.4 338.11,208.71 326,221 C285.35,262.26 280.75,332.54 282.7,377.85 \" fill=\"none\" id=\"E3-to-E8\" style=\"stroke:#181818;stroke-width:1.0;\"/><polygon fill=\"#FFFFFF\" points=\"284.06,397.85,275.7871,379.3687,289.7548,378.4189,284.06,397.85\" style=\"stroke:#181818;stroke-width:1.0;\"/><ellipse cx=\"277.3957\" cy=\"373.5461\" fill=\"#181818\" rx=\"2\" ry=\"2\" style=\"stroke:#181818;stroke-width:1.0;\"/><ellipse cx=\"287.3727\" cy=\"372.8677\" fill=\"#181818\" rx=\"2\" ry=\"2\" style=\"stroke:#181818;stroke-width:1.0;\"/></a></g><!--MD5=[15ebcb19ae302d9b601edb458606d402]\n",
       "link E5 to E2--><g id=\"link_E5_E2\"><a href=\"psysml:2e43f05d-56e8-4995-94de-93836f9907a6\" target=\"_top\" title=\"psysml:2e43f05d-56e8-4995-94de-93836f9907a6\" xlink:actuate=\"onRequest\" xlink:href=\"psysml:2e43f05d-56e8-4995-94de-93836f9907a6\" xlink:show=\"new\" xlink:title=\"psysml:2e43f05d-56e8-4995-94de-93836f9907a6\" xlink:type=\"simple\"><path d=\"M378.9609,236.6531 C378.738,236.3074 378.5141,235.9625 378.2891,235.6183 C377.389,234.2417 376.472,232.8777 375.5377,231.5272 C373.669,228.8262 371.7312,226.1791 369.7216,223.5936 C361.6834,213.2516 352.4975,203.8938 342,196 C323.3,181.94 255.24,202.66 237,188 C234.24,185.7813 231.8698,183.1761 229.8356,180.3106 C228.8185,178.8779 227.8853,177.3801 227.0294,175.833 C226.6014,175.0595 226.1928,174.2736 225.8026,173.4773 C225.6075,173.0792 225.417,172.6785 225.231,172.2755 \" fill=\"none\" id=\"E5-to-E2\" style=\"stroke:#181818;stroke-width:1.0;stroke-dasharray:7.0,7.0;\"/><polygon fill=\"#181818\" points=\"225.231,172.2755,225.3696,182.1233,227.3258,176.8155,232.6337,178.7717,225.231,172.2755\" style=\"stroke:#181818;stroke-width:1.0;\"/><text fill=\"#000000\" font-family=\"sans-serif\" font-size=\"13\" lengthAdjust=\"spacing\" textLength=\"65\" x=\"357\" y=\"209.0669\">«import»*</text></a></g><!--MD5=[d7bb3fb34add81b710575eb3799fa2ad]\n",
       "link E8 to E4--><g id=\"link_E8_E4\"><a href=\"psysml:6ab4f965-70f0-4435-9c9c-0953ad10c713\" target=\"_top\" title=\"psysml:6ab4f965-70f0-4435-9c9c-0953ad10c713\" xlink:actuate=\"onRequest\" xlink:href=\"psysml:6ab4f965-70f0-4435-9c9c-0953ad10c713\" xlink:show=\"new\" xlink:title=\"psysml:6ab4f965-70f0-4435-9c9c-0953ad10c713\" xlink:type=\"simple\"><path d=\"M283.44,397.77 C278.41,355.31 274.86,265.44 326,221 C338.77,209.91 466.36,225.27 478,213 C494.05,196.08 479.84,175.66 460.24,158.75 \" fill=\"none\" id=\"E8-to-E4\" style=\"stroke:#181818;stroke-width:1.0;\"/><polygon fill=\"none\" points=\"455.75,164.13,444.23,146.35,464.32,153.06,455.75,164.13\" style=\"stroke:#181818;stroke-width:1.0;\"/></a></g><!--MD5=[b6ab65ee9915ff8711e1d81cef55fb9a]\n",
       "@startuml\r\n",
       "skin sysmlbw\r\n",
       "skinparam monochrome true\r\n",
       "skinparam wrapWidth 300\r\n",
       "hide circle\r\n",
       "top to bottom direction\r\n",
       "\r\n",
       "package \"ImportTest\" as E1  [[psysml:257ae3bb-e982-4f23-93ec-21786cef6fd4 ]]  {\r\n",
       "package \"Pkg1\" as E2  [[psysml:d86f8a04-756e-41fe-890d-bee1afc1808f ]]  {\r\n",
       "comp usage \"p11: P211  \" as E3  <<(T,blue) part>> [[psysml:c9f16dae-c47d-4af9-8178-9fb29f2ca8fe ]] {\r\n",
       "}\r\n",
       "comp def \"P12\" as E4  <<(T,blue) part  def>> [[psysml:5a85d6e7-c399-4e25-bc8b-7b1310ff596a ]] {\r\n",
       "}\r\n",
       "}\r\n",
       "package \"Pkg2\" as E5  [[psysml:87b5aefc-a384-45d2-9563-354f132d05b6 ]]  {\r\n",
       "package \"Pkg21\" as E6  [[psysml:74f758db-603d-4dff-97e1-05ce4d0c3ab8 ]]  {\r\n",
       "package \"Pkg211\" as E7  [[psysml:c9292eea-a9ed-4d7d-b554-73a415b23d76 ]]  {\r\n",
       "comp def \"P211\" as E8  <<(T,blue) part  def>> [[psysml:60f2756c-cfe4-4496-b687-ff5dbf9a385d ]] {\r\n",
       "}\r\n",
       "}\r\n",
       "}\r\n",
       "}\r\n",
       "}\r\n",
       "E2 ..> E8 [[psysml:7a09cf9a-4d44-4715-925a-a999429b18c6 ]] : <<import>>\r\n",
       "E2 ..> E6 [[psysml:4d48d5b8-8a2b-403b-a600-382befb1c751 ]] : <<import>>*\r\n",
       "E2 ..> E7 [[psysml:435ffdce-fa99-42b8-aa7d-b79facf9bf9f ]] : <<import>>*::**\r\n",
       "E3 - -:|> E8 [[psysml:c2b3862a-e64c-4984-9133-ea986cde4555 ]] \r\n",
       "E5 ..> E2 [[psysml:2e43f05d-56e8-4995-94de-93836f9907a6 ]] : <<import>>*\r\n",
       "E8 - -|> E4 [[psysml:6ab4f965-70f0-4435-9c9c-0953ad10c713 ]] \r\n",
       "@enduml\r\n",
       "\n",
       "PlantUML version 1.2022.7(Mon Aug 22 17:01:30 UTC 2022)\n",
       "(EPL source distribution)\n",
       "Java Runtime: OpenJDK Runtime Environment\n",
       "JVM: OpenJDK 64-Bit Server VM\n",
       "Default Encoding: UTF-8\n",
       "Language: en\n",
       "Country: null\n",
       "--></g></svg>"
      ]
     },
     "execution_count": 44,
     "metadata": {},
     "output_type": "execute_result"
    }
   ],
   "source": [
    "%viz --style=\"TB\" --view=\"Default\" \"ImportTest\""
   ]
  },
  {
   "cell_type": "code",
   "execution_count": 45,
   "id": "fc4f0877",
   "metadata": {
    "execution": {
     "iopub.execute_input": "2024-12-16T14:16:22.874302Z",
     "iopub.status.busy": "2024-12-16T14:16:22.874087Z",
     "iopub.status.idle": "2024-12-16T14:16:22.894576Z",
     "shell.execute_reply": "2024-12-16T14:16:22.893663Z"
    }
   },
   "outputs": [
    {
     "data": {
      "image/svg+xml": [
       "<?xml version=\"1.0\" encoding=\"UTF-8\" standalone=\"no\"?><svg xmlns=\"http://www.w3.org/2000/svg\" xmlns:xlink=\"http://www.w3.org/1999/xlink\" contentStyleType=\"text/css\" height=\"589px\" preserveAspectRatio=\"none\" style=\"width:517px;height:589px;background:#FFFFFF;\" version=\"1.1\" viewBox=\"0 0 517 589\" width=\"517px\" zoomAndPan=\"magnify\"><defs/><g><!--MD5=[fbc87193dbaf4d95561dea2c320d4a47]\n",
       "cluster E1--><g id=\"cluster_E1\"><a href=\"psysml:257ae3bb-e982-4f23-93ec-21786cef6fd4\" target=\"_top\" title=\"psysml:257ae3bb-e982-4f23-93ec-21786cef6fd4\" xlink:actuate=\"onRequest\" xlink:href=\"psysml:257ae3bb-e982-4f23-93ec-21786cef6fd4\" xlink:show=\"new\" xlink:title=\"psysml:257ae3bb-e982-4f23-93ec-21786cef6fd4\" xlink:type=\"simple\"><polygon fill=\"none\" points=\"16,6,101.375,6,108.375,28.2969,500,28.2969,500,582,16,582,16,6\" style=\"stroke:#000000;stroke-width:1.5;\"/><line style=\"stroke:#000000;stroke-width:1.5;\" x1=\"16\" x2=\"108.375\" y1=\"28.2969\" y2=\"28.2969\"/><text fill=\"#000000\" font-family=\"sans-serif\" font-size=\"14\" font-weight=\"bold\" lengthAdjust=\"spacing\" textLength=\"79.375\" x=\"20\" y=\"20.9951\">ImportTest</text></a></g><!--MD5=[e4f7fae6ed58524ba242bb0b0d3be6b7]\n",
       "cluster E2--><g id=\"cluster_E2\"><a href=\"psysml:d86f8a04-756e-41fe-890d-bee1afc1808f\" target=\"_top\" title=\"psysml:d86f8a04-756e-41fe-890d-bee1afc1808f\" xlink:actuate=\"onRequest\" xlink:href=\"psysml:d86f8a04-756e-41fe-890d-bee1afc1808f\" xlink:show=\"new\" xlink:title=\"psysml:d86f8a04-756e-41fe-890d-bee1afc1808f\" xlink:type=\"simple\"><polygon fill=\"none\" points=\"210,57,252.75,57,259.75,79.2969,468,79.2969,468,172,210,172,210,57\" style=\"stroke:#000000;stroke-width:1.5;\"/><line style=\"stroke:#000000;stroke-width:1.5;\" x1=\"210\" x2=\"259.75\" y1=\"79.2969\" y2=\"79.2969\"/><text fill=\"#000000\" font-family=\"sans-serif\" font-size=\"14\" font-weight=\"bold\" lengthAdjust=\"spacing\" textLength=\"36.75\" x=\"214\" y=\"71.9951\">Pkg1</text></a></g><!--MD5=[de5ec2e2e8f62f467e546659f5068c88]\n",
       "cluster E5--><g id=\"cluster_E5\"><a href=\"psysml:87b5aefc-a384-45d2-9563-354f132d05b6\" target=\"_top\" title=\"psysml:87b5aefc-a384-45d2-9563-354f132d05b6\" xlink:actuate=\"onRequest\" xlink:href=\"psysml:87b5aefc-a384-45d2-9563-354f132d05b6\" xlink:show=\"new\" xlink:title=\"psysml:87b5aefc-a384-45d2-9563-354f132d05b6\" xlink:type=\"simple\"><polygon fill=\"none\" points=\"121,237,163.75,237,170.75,259.2969,434,259.2969,434,550,121,550,121,237\" style=\"stroke:#000000;stroke-width:1.5;\"/><line style=\"stroke:#000000;stroke-width:1.5;\" x1=\"121\" x2=\"170.75\" y1=\"259.2969\" y2=\"259.2969\"/><text fill=\"#000000\" font-family=\"sans-serif\" font-size=\"14\" font-weight=\"bold\" lengthAdjust=\"spacing\" textLength=\"36.75\" x=\"125\" y=\"251.9951\">Pkg2</text></a></g><!--MD5=[14e3b0961a2654348d326746436168a1]\n",
       "cluster E6--><g id=\"cluster_E6\"><a href=\"psysml:74f758db-603d-4dff-97e1-05ce4d0c3ab8\" target=\"_top\" title=\"psysml:74f758db-603d-4dff-97e1-05ce4d0c3ab8\" xlink:actuate=\"onRequest\" xlink:href=\"psysml:74f758db-603d-4dff-97e1-05ce4d0c3ab8\" xlink:show=\"new\" xlink:title=\"psysml:74f758db-603d-4dff-97e1-05ce4d0c3ab8\" xlink:type=\"simple\"><polygon fill=\"none\" points=\"161,296,213.1875,296,220.1875,318.2969,386,318.2969,386,510,161,510,161,296\" style=\"stroke:#000000;stroke-width:1.5;\"/><line style=\"stroke:#000000;stroke-width:1.5;\" x1=\"161\" x2=\"220.1875\" y1=\"318.2969\" y2=\"318.2969\"/><text fill=\"#000000\" font-family=\"sans-serif\" font-size=\"14\" font-weight=\"bold\" lengthAdjust=\"spacing\" textLength=\"46.1875\" x=\"165\" y=\"310.9951\">Pkg21</text></a></g><!--MD5=[168fadf3d0c3fd93dd5d6da1b1d7ab76]\n",
       "cluster E7--><g id=\"cluster_E7\"><a href=\"psysml:c9292eea-a9ed-4d7d-b554-73a415b23d76\" target=\"_top\" title=\"psysml:c9292eea-a9ed-4d7d-b554-73a415b23d76\" xlink:actuate=\"onRequest\" xlink:href=\"psysml:c9292eea-a9ed-4d7d-b554-73a415b23d76\" xlink:show=\"new\" xlink:title=\"psysml:c9292eea-a9ed-4d7d-b554-73a415b23d76\" xlink:type=\"simple\"><polygon fill=\"none\" points=\"209,355,270.625,355,277.625,377.2969,346,377.2969,346,470,209,470,209,355\" style=\"stroke:#000000;stroke-width:1.5;\"/><line style=\"stroke:#000000;stroke-width:1.5;\" x1=\"209\" x2=\"277.625\" y1=\"377.2969\" y2=\"377.2969\"/><text fill=\"#000000\" font-family=\"sans-serif\" font-size=\"14\" font-weight=\"bold\" lengthAdjust=\"spacing\" textLength=\"55.625\" x=\"213\" y=\"369.9951\">Pkg211</text></a></g><!--MD5=[09b614a08d8cba4a07c9adeb5e0fee81]\n",
       "class E3--><a href=\"psysml:c9f16dae-c47d-4af9-8178-9fb29f2ca8fe\" target=\"_top\" title=\"psysml:c9f16dae-c47d-4af9-8178-9fb29f2ca8fe\" xlink:actuate=\"onRequest\" xlink:href=\"psysml:c9f16dae-c47d-4af9-8178-9fb29f2ca8fe\" xlink:show=\"new\" xlink:title=\"psysml:c9f16dae-c47d-4af9-8178-9fb29f2ca8fe\" xlink:type=\"simple\"><g id=\"elem_E3\"><rect fill=\"#FFFFFF\" height=\"48.2656\" id=\"E3\" rx=\"10\" ry=\"10\" style=\"stroke:#181818;stroke-width:0.5;\" width=\"86\" x=\"253\" y=\"100\"/><text fill=\"#000000\" font-family=\"sans-serif\" font-size=\"12\" font-style=\"italic\" lengthAdjust=\"spacing\" textLength=\"40\" x=\"276\" y=\"116.1387\">«part»</text><text fill=\"#000000\" font-family=\"sans-serif\" font-size=\"14\" lengthAdjust=\"spacing\" textLength=\"72\" x=\"256\" y=\"131.9639\">p11: P211</text><line style=\"stroke:#181818;stroke-width:0.5;\" x1=\"254\" x2=\"338\" y1=\"140.2656\" y2=\"140.2656\"/></g></a><!--MD5=[ebbe1d658d1005bcc118a6aa81145e00]\n",
       "class E4--><a href=\"psysml:5a85d6e7-c399-4e25-bc8b-7b1310ff596a\" target=\"_top\" title=\"psysml:5a85d6e7-c399-4e25-bc8b-7b1310ff596a\" xlink:actuate=\"onRequest\" xlink:href=\"psysml:5a85d6e7-c399-4e25-bc8b-7b1310ff596a\" xlink:show=\"new\" xlink:title=\"psysml:5a85d6e7-c399-4e25-bc8b-7b1310ff596a\" xlink:type=\"simple\"><g id=\"elem_E4\"><rect fill=\"#FFFFFF\" height=\"48.2656\" id=\"E4\" style=\"stroke:#181818;stroke-width:0.5;\" width=\"70\" x=\"374\" y=\"100\"/><text fill=\"#000000\" font-family=\"sans-serif\" font-size=\"12\" font-style=\"italic\" lengthAdjust=\"spacing\" textLength=\"68\" x=\"375\" y=\"116.1387\">«part  def»</text><text fill=\"#000000\" font-family=\"sans-serif\" font-size=\"14\" lengthAdjust=\"spacing\" textLength=\"27\" x=\"395.5\" y=\"131.9639\">P12</text><line style=\"stroke:#181818;stroke-width:0.5;\" x1=\"375\" x2=\"443\" y1=\"140.2656\" y2=\"140.2656\"/></g></a><!--MD5=[b9389687b975829384b498ac4b7476b2]\n",
       "class E8--><a href=\"psysml:60f2756c-cfe4-4496-b687-ff5dbf9a385d\" target=\"_top\" title=\"psysml:60f2756c-cfe4-4496-b687-ff5dbf9a385d\" xlink:actuate=\"onRequest\" xlink:href=\"psysml:60f2756c-cfe4-4496-b687-ff5dbf9a385d\" xlink:show=\"new\" xlink:title=\"psysml:60f2756c-cfe4-4496-b687-ff5dbf9a385d\" xlink:type=\"simple\"><g id=\"elem_E8\"><rect fill=\"#FFFFFF\" height=\"48.2656\" id=\"E8\" style=\"stroke:#181818;stroke-width:0.5;\" width=\"70\" x=\"252\" y=\"398\"/><text fill=\"#000000\" font-family=\"sans-serif\" font-size=\"12\" font-style=\"italic\" lengthAdjust=\"spacing\" textLength=\"68\" x=\"253\" y=\"414.1387\">«part  def»</text><text fill=\"#000000\" font-family=\"sans-serif\" font-size=\"14\" lengthAdjust=\"spacing\" textLength=\"36\" x=\"269\" y=\"429.9639\">P211</text><line style=\"stroke:#181818;stroke-width:0.5;\" x1=\"253\" x2=\"321\" y1=\"438.2656\" y2=\"438.2656\"/></g></a><!--MD5=[b0060bfdb0500b904584095522b4da3c]\n",
       "link E2 to E8--><g id=\"link_E2_E8\"><a href=\"psysml:7a09cf9a-4d44-4715-925a-a999429b18c6\" target=\"_top\" title=\"psysml:7a09cf9a-4d44-4715-925a-a999429b18c6\" xlink:actuate=\"onRequest\" xlink:href=\"psysml:7a09cf9a-4d44-4715-925a-a999429b18c6\" xlink:show=\"new\" xlink:title=\"psysml:7a09cf9a-4d44-4715-925a-a999429b18c6\" xlink:type=\"simple\"><path d=\"M226.4784,172.2619 C226.5244,172.3641 226.5707,172.4663 226.6172,172.5683 C226.9895,173.3846 227.3777,174.1934 227.7824,174.9929 C228.5919,176.5919 229.4675,178.1539 230.4147,179.6646 C232.3092,182.6861 234.49,185.5025 237,188 C245.87,196.83 256.01,186.37 264,196 C310.7,252.32 301.61,345.84 293.2,392.58 \" fill=\"none\" id=\"E2-to-E8\" style=\"stroke:#181818;stroke-width:1.0;stroke-dasharray:7.0,7.0;\"/><polygon fill=\"#181818\" points=\"292.23,397.77,297.8087,389.6535,293.1445,392.8543,289.9437,388.1902,292.23,397.77\" style=\"stroke:#181818;stroke-width:1.0;\"/><text fill=\"#000000\" font-family=\"sans-serif\" font-size=\"13\" lengthAdjust=\"spacing\" textLength=\"58\" x=\"275\" y=\"209.0669\">«import»</text></a></g><!--MD5=[e3e28c1befcf002155aa15e1416b4315]\n",
       "link E2 to E6--><g id=\"link_E2_E6\"><a href=\"psysml:4d48d5b8-8a2b-403b-a600-382befb1c751\" target=\"_top\" title=\"psysml:4d48d5b8-8a2b-403b-a600-382befb1c751\" xlink:actuate=\"onRequest\" xlink:href=\"psysml:4d48d5b8-8a2b-403b-a600-382befb1c751\" xlink:show=\"new\" xlink:title=\"psysml:4d48d5b8-8a2b-403b-a600-382befb1c751\" xlink:type=\"simple\"><path d=\"M209.7844,126.6885 C209.6745,126.7134 209.5637,126.7387 209.4519,126.7642 C209.0046,126.8663 208.5422,126.9732 208.065,127.085 C206.1563,127.532 204.0125,128.0567 201.6694,128.6645 C192.2969,131.0959 179.735,134.8581 166.2725,140.3037 C139.3475,151.195 108.82,168.82 93,196 C66.865,240.9 84.8675,296.1075 109.8912,340.5988 C122.4031,362.8444 136.6703,382.4109 148.0533,396.6705 C150.899,400.2354 153.5645,403.4685 155.9772,406.329 C157.1836,407.7592 158.3268,409.0962 159.3977,410.335 C159.9331,410.9543 160.4505,411.5491 160.9487,412.1186 \" fill=\"none\" id=\"E2-to-E6\" style=\"stroke:#181818;stroke-width:1.0;stroke-dasharray:7.0,7.0;\"/><polygon fill=\"#181818\" points=\"160.9487,412.1186,158.034,402.711,157.6568,408.3552,152.0125,407.9781,160.9487,412.1186\" style=\"stroke:#181818;stroke-width:1.0;\"/><text fill=\"#000000\" font-family=\"sans-serif\" font-size=\"13\" lengthAdjust=\"spacing\" textLength=\"65\" x=\"94\" y=\"209.0669\">«import»*</text></a></g><!--MD5=[e3d2a08a9c9236652057e8ed0cbc9b62]\n",
       "link E2 to E7--><g id=\"link_E2_E7\"><a href=\"psysml:435ffdce-fa99-42b8-aa7d-b79facf9bf9f\" target=\"_top\" title=\"psysml:435ffdce-fa99-42b8-aa7d-b79facf9bf9f\" xlink:actuate=\"onRequest\" xlink:href=\"psysml:435ffdce-fa99-42b8-aa7d-b79facf9bf9f\" xlink:show=\"new\" xlink:title=\"psysml:435ffdce-fa99-42b8-aa7d-b79facf9bf9f\" xlink:type=\"simple\"><path d=\"M209.9156,133.4819 C209.8545,133.5495 209.7932,133.6175 209.7316,133.6858 C209.239,134.2321 208.7304,134.801 208.2074,135.3916 C207.1616,136.5729 206.0584,137.8408 204.9115,139.188 C202.6178,141.8824 200.1494,144.8941 197.615,148.1638 C187.4775,161.2425 176.285,178.45 171,196 C168.82,203.23 166.18,207.18 171,213 C183.11,227.64 200.74,206.48 213,221 C227.115,237.715 228.305,286.425 225.8738,331.5863 C225.5698,337.2314 225.2094,342.8211 224.8105,348.2859 C224.7107,349.6522 224.6086,351.0106 224.5044,352.3601 C224.4522,353.0348 224.3996,353.7074 224.3464,354.3776 \" fill=\"none\" id=\"E2-to-E7\" style=\"stroke:#181818;stroke-width:1.0;stroke-dasharray:7.0,7.0;\"/><polygon fill=\"#181818\" points=\"224.3464,354.3776,229.0454,345.7219,224.7417,349.3932,221.0704,345.0895,224.3464,354.3776\" style=\"stroke:#181818;stroke-width:1.0;\"/><text fill=\"#000000\" font-family=\"sans-serif\" font-size=\"13\" lengthAdjust=\"spacing\" textLength=\"87\" x=\"172\" y=\"209.0669\">«import»*::**</text></a></g><!--MD5=[ca5a752d6098d8a44b3f88316e7452d1]\n",
       "link E3 to E8--><g id=\"link_E3_E8\"><a href=\"psysml:c2b3862a-e64c-4984-9133-ea986cde4555\" target=\"_top\" title=\"psysml:c2b3862a-e64c-4984-9133-ea986cde4555\" xlink:actuate=\"onRequest\" xlink:href=\"psysml:c2b3862a-e64c-4984-9133-ea986cde4555\" xlink:show=\"new\" xlink:title=\"psysml:c2b3862a-e64c-4984-9133-ea986cde4555\" xlink:type=\"simple\"><path d=\"M318.74,148.33 C338.26,168.43 363.38,194.46 364,196 C366.82,203.01 368.76,207.13 364,213 C353.13,226.4 338.11,208.71 326,221 C285.35,262.26 280.75,332.54 282.7,377.85 \" fill=\"none\" id=\"E3-to-E8\" style=\"stroke:#181818;stroke-width:1.0;\"/><polygon fill=\"#FFFFFF\" points=\"284.06,397.85,275.7871,379.3687,289.7548,378.4189,284.06,397.85\" style=\"stroke:#181818;stroke-width:1.0;\"/><ellipse cx=\"277.3957\" cy=\"373.5461\" fill=\"#181818\" rx=\"2\" ry=\"2\" style=\"stroke:#181818;stroke-width:1.0;\"/><ellipse cx=\"287.3727\" cy=\"372.8677\" fill=\"#181818\" rx=\"2\" ry=\"2\" style=\"stroke:#181818;stroke-width:1.0;\"/></a></g><!--MD5=[15ebcb19ae302d9b601edb458606d402]\n",
       "link E5 to E2--><g id=\"link_E5_E2\"><a href=\"psysml:2e43f05d-56e8-4995-94de-93836f9907a6\" target=\"_top\" title=\"psysml:2e43f05d-56e8-4995-94de-93836f9907a6\" xlink:actuate=\"onRequest\" xlink:href=\"psysml:2e43f05d-56e8-4995-94de-93836f9907a6\" xlink:show=\"new\" xlink:title=\"psysml:2e43f05d-56e8-4995-94de-93836f9907a6\" xlink:type=\"simple\"><path d=\"M378.9609,236.6531 C378.738,236.3074 378.5141,235.9625 378.2891,235.6183 C377.389,234.2417 376.472,232.8777 375.5377,231.5272 C373.669,228.8262 371.7312,226.1791 369.7216,223.5936 C361.6834,213.2516 352.4975,203.8938 342,196 C323.3,181.94 255.24,202.66 237,188 C234.24,185.7813 231.8698,183.1761 229.8356,180.3106 C228.8185,178.8779 227.8853,177.3801 227.0294,175.833 C226.6014,175.0595 226.1928,174.2736 225.8026,173.4773 C225.6075,173.0792 225.417,172.6785 225.231,172.2755 \" fill=\"none\" id=\"E5-to-E2\" style=\"stroke:#181818;stroke-width:1.0;stroke-dasharray:7.0,7.0;\"/><polygon fill=\"#181818\" points=\"225.231,172.2755,225.3696,182.1233,227.3258,176.8155,232.6337,178.7717,225.231,172.2755\" style=\"stroke:#181818;stroke-width:1.0;\"/><text fill=\"#000000\" font-family=\"sans-serif\" font-size=\"13\" lengthAdjust=\"spacing\" textLength=\"65\" x=\"357\" y=\"209.0669\">«import»*</text></a></g><!--MD5=[d7bb3fb34add81b710575eb3799fa2ad]\n",
       "link E8 to E4--><g id=\"link_E8_E4\"><a href=\"psysml:6ab4f965-70f0-4435-9c9c-0953ad10c713\" target=\"_top\" title=\"psysml:6ab4f965-70f0-4435-9c9c-0953ad10c713\" xlink:actuate=\"onRequest\" xlink:href=\"psysml:6ab4f965-70f0-4435-9c9c-0953ad10c713\" xlink:show=\"new\" xlink:title=\"psysml:6ab4f965-70f0-4435-9c9c-0953ad10c713\" xlink:type=\"simple\"><path d=\"M283.44,397.77 C278.41,355.31 274.86,265.44 326,221 C338.77,209.91 466.36,225.27 478,213 C494.05,196.08 479.84,175.66 460.24,158.75 \" fill=\"none\" id=\"E8-to-E4\" style=\"stroke:#181818;stroke-width:1.0;\"/><polygon fill=\"none\" points=\"455.75,164.13,444.23,146.35,464.32,153.06,455.75,164.13\" style=\"stroke:#181818;stroke-width:1.0;\"/></a></g><!--MD5=[b6ab65ee9915ff8711e1d81cef55fb9a]\n",
       "@startuml\r\n",
       "skin sysmlbw\r\n",
       "skinparam monochrome true\r\n",
       "skinparam wrapWidth 300\r\n",
       "hide circle\r\n",
       "top to bottom direction\r\n",
       "\r\n",
       "package \"ImportTest\" as E1  [[psysml:257ae3bb-e982-4f23-93ec-21786cef6fd4 ]]  {\r\n",
       "package \"Pkg1\" as E2  [[psysml:d86f8a04-756e-41fe-890d-bee1afc1808f ]]  {\r\n",
       "comp usage \"p11: P211  \" as E3  <<(T,blue) part>> [[psysml:c9f16dae-c47d-4af9-8178-9fb29f2ca8fe ]] {\r\n",
       "}\r\n",
       "comp def \"P12\" as E4  <<(T,blue) part  def>> [[psysml:5a85d6e7-c399-4e25-bc8b-7b1310ff596a ]] {\r\n",
       "}\r\n",
       "}\r\n",
       "package \"Pkg2\" as E5  [[psysml:87b5aefc-a384-45d2-9563-354f132d05b6 ]]  {\r\n",
       "package \"Pkg21\" as E6  [[psysml:74f758db-603d-4dff-97e1-05ce4d0c3ab8 ]]  {\r\n",
       "package \"Pkg211\" as E7  [[psysml:c9292eea-a9ed-4d7d-b554-73a415b23d76 ]]  {\r\n",
       "comp def \"P211\" as E8  <<(T,blue) part  def>> [[psysml:60f2756c-cfe4-4496-b687-ff5dbf9a385d ]] {\r\n",
       "}\r\n",
       "}\r\n",
       "}\r\n",
       "}\r\n",
       "}\r\n",
       "E2 ..> E8 [[psysml:7a09cf9a-4d44-4715-925a-a999429b18c6 ]] : <<import>>\r\n",
       "E2 ..> E6 [[psysml:4d48d5b8-8a2b-403b-a600-382befb1c751 ]] : <<import>>*\r\n",
       "E2 ..> E7 [[psysml:435ffdce-fa99-42b8-aa7d-b79facf9bf9f ]] : <<import>>*::**\r\n",
       "E3 - -:|> E8 [[psysml:c2b3862a-e64c-4984-9133-ea986cde4555 ]] \r\n",
       "E5 ..> E2 [[psysml:2e43f05d-56e8-4995-94de-93836f9907a6 ]] : <<import>>*\r\n",
       "E8 - -|> E4 [[psysml:6ab4f965-70f0-4435-9c9c-0953ad10c713 ]] \r\n",
       "@enduml\r\n",
       "\n",
       "PlantUML version 1.2022.7(Mon Aug 22 17:01:30 UTC 2022)\n",
       "(EPL source distribution)\n",
       "Java Runtime: OpenJDK Runtime Environment\n",
       "JVM: OpenJDK 64-Bit Server VM\n",
       "Default Encoding: UTF-8\n",
       "Language: en\n",
       "Country: null\n",
       "--></g></svg>"
      ]
     },
     "execution_count": 45,
     "metadata": {},
     "output_type": "execute_result"
    }
   ],
   "source": [
    "%viz --style=\"TB\" --view=\"Tree\" \"ImportTest\""
   ]
  },
  {
   "cell_type": "code",
   "execution_count": 46,
   "id": "6c96c3bc",
   "metadata": {
    "execution": {
     "iopub.execute_input": "2024-12-16T14:16:22.951457Z",
     "iopub.status.busy": "2024-12-16T14:16:22.951188Z",
     "iopub.status.idle": "2024-12-16T14:16:22.956813Z",
     "shell.execute_reply": "2024-12-16T14:16:22.956613Z"
    }
   },
   "outputs": [
    {
     "data": {
      "image/svg+xml": [
       "<?xml version=\"1.0\" encoding=\"UTF-8\" standalone=\"no\"?><svg xmlns=\"http://www.w3.org/2000/svg\" xmlns:xlink=\"http://www.w3.org/1999/xlink\" contentStyleType=\"text/css\" height=\"10px\" preserveAspectRatio=\"none\" style=\"width:10px;height:10px;background:#FFFFFF;\" version=\"1.1\" viewBox=\"0 0 10 10\" width=\"10px\" zoomAndPan=\"magnify\"><defs/><g><!--MD5=[457d54036ad86991b1ebb71db2c9a3b1]\n",
       "@startuml\r\n",
       "skin sysmlbw\r\n",
       "skinparam monochrome true\r\n",
       "skinparam wrapWidth 300\r\n",
       "hide circle\r\n",
       "top to bottom direction\r\n",
       "\r\n",
       "@enduml\r\n",
       "\n",
       "PlantUML version 1.2022.7(Mon Aug 22 17:01:30 UTC 2022)\n",
       "(EPL source distribution)\n",
       "Java Runtime: OpenJDK Runtime Environment\n",
       "JVM: OpenJDK 64-Bit Server VM\n",
       "Default Encoding: UTF-8\n",
       "Language: en\n",
       "Country: null\n",
       "--></g></svg>"
      ]
     },
     "execution_count": 46,
     "metadata": {},
     "output_type": "execute_result"
    }
   ],
   "source": [
    "%viz --style=\"TB\" --view=\"State\" \"ImportTest\""
   ]
  },
  {
   "cell_type": "code",
   "execution_count": 47,
   "id": "6557eb49",
   "metadata": {
    "execution": {
     "iopub.execute_input": "2024-12-16T14:16:23.012829Z",
     "iopub.status.busy": "2024-12-16T14:16:23.012608Z",
     "iopub.status.idle": "2024-12-16T14:16:23.031971Z",
     "shell.execute_reply": "2024-12-16T14:16:23.030912Z"
    }
   },
   "outputs": [
    {
     "data": {
      "image/svg+xml": [
       "<?xml version=\"1.0\" encoding=\"UTF-8\" standalone=\"no\"?><svg xmlns=\"http://www.w3.org/2000/svg\" xmlns:xlink=\"http://www.w3.org/1999/xlink\" contentStyleType=\"text/css\" height=\"583px\" preserveAspectRatio=\"none\" style=\"width:517px;height:583px;background:#FFFFFF;\" version=\"1.1\" viewBox=\"0 0 517 583\" width=\"517px\" zoomAndPan=\"magnify\"><defs/><g><!--MD5=[fbc87193dbaf4d95561dea2c320d4a47]\n",
       "cluster E1--><g id=\"cluster_E1\"><a href=\"psysml:257ae3bb-e982-4f23-93ec-21786cef6fd4\" target=\"_top\" title=\"psysml:257ae3bb-e982-4f23-93ec-21786cef6fd4\" xlink:actuate=\"onRequest\" xlink:href=\"psysml:257ae3bb-e982-4f23-93ec-21786cef6fd4\" xlink:show=\"new\" xlink:title=\"psysml:257ae3bb-e982-4f23-93ec-21786cef6fd4\" xlink:type=\"simple\"><polygon fill=\"none\" points=\"16,6,101.375,6,108.375,28.2969,500,28.2969,500,576,16,576,16,6\" style=\"stroke:#000000;stroke-width:1.5;\"/><line style=\"stroke:#000000;stroke-width:1.5;\" x1=\"16\" x2=\"108.375\" y1=\"28.2969\" y2=\"28.2969\"/><text fill=\"#000000\" font-family=\"sans-serif\" font-size=\"14\" font-weight=\"bold\" lengthAdjust=\"spacing\" textLength=\"79.375\" x=\"20\" y=\"20.9951\">ImportTest</text></a></g><!--MD5=[e4f7fae6ed58524ba242bb0b0d3be6b7]\n",
       "cluster E2--><g id=\"cluster_E2\"><a href=\"psysml:d86f8a04-756e-41fe-890d-bee1afc1808f\" target=\"_top\" title=\"psysml:d86f8a04-756e-41fe-890d-bee1afc1808f\" xlink:actuate=\"onRequest\" xlink:href=\"psysml:d86f8a04-756e-41fe-890d-bee1afc1808f\" xlink:show=\"new\" xlink:title=\"psysml:d86f8a04-756e-41fe-890d-bee1afc1808f\" xlink:type=\"simple\"><polygon fill=\"none\" points=\"208,57,250.75,57,257.75,79.2969,468,79.2969,468,169,208,169,208,57\" style=\"stroke:#000000;stroke-width:1.5;\"/><line style=\"stroke:#000000;stroke-width:1.5;\" x1=\"208\" x2=\"257.75\" y1=\"79.2969\" y2=\"79.2969\"/><text fill=\"#000000\" font-family=\"sans-serif\" font-size=\"14\" font-weight=\"bold\" lengthAdjust=\"spacing\" textLength=\"36.75\" x=\"212\" y=\"71.9951\">Pkg1</text></a></g><!--MD5=[de5ec2e2e8f62f467e546659f5068c88]\n",
       "cluster E5--><g id=\"cluster_E5\"><a href=\"psysml:87b5aefc-a384-45d2-9563-354f132d05b6\" target=\"_top\" title=\"psysml:87b5aefc-a384-45d2-9563-354f132d05b6\" xlink:actuate=\"onRequest\" xlink:href=\"psysml:87b5aefc-a384-45d2-9563-354f132d05b6\" xlink:show=\"new\" xlink:title=\"psysml:87b5aefc-a384-45d2-9563-354f132d05b6\" xlink:type=\"simple\"><polygon fill=\"none\" points=\"117,234,159.75,234,166.75,256.2969,435,256.2969,435,544,117,544,117,234\" style=\"stroke:#000000;stroke-width:1.5;\"/><line style=\"stroke:#000000;stroke-width:1.5;\" x1=\"117\" x2=\"166.75\" y1=\"256.2969\" y2=\"256.2969\"/><text fill=\"#000000\" font-family=\"sans-serif\" font-size=\"14\" font-weight=\"bold\" lengthAdjust=\"spacing\" textLength=\"36.75\" x=\"121\" y=\"248.9951\">Pkg2</text></a></g><!--MD5=[14e3b0961a2654348d326746436168a1]\n",
       "cluster E6--><g id=\"cluster_E6\"><a href=\"psysml:74f758db-603d-4dff-97e1-05ce4d0c3ab8\" target=\"_top\" title=\"psysml:74f758db-603d-4dff-97e1-05ce4d0c3ab8\" xlink:actuate=\"onRequest\" xlink:href=\"psysml:74f758db-603d-4dff-97e1-05ce4d0c3ab8\" xlink:show=\"new\" xlink:title=\"psysml:74f758db-603d-4dff-97e1-05ce4d0c3ab8\" xlink:type=\"simple\"><polygon fill=\"none\" points=\"157,293,209.1875,293,216.1875,315.2969,387,315.2969,387,504,157,504,157,293\" style=\"stroke:#000000;stroke-width:1.5;\"/><line style=\"stroke:#000000;stroke-width:1.5;\" x1=\"157\" x2=\"216.1875\" y1=\"315.2969\" y2=\"315.2969\"/><text fill=\"#000000\" font-family=\"sans-serif\" font-size=\"14\" font-weight=\"bold\" lengthAdjust=\"spacing\" textLength=\"46.1875\" x=\"161\" y=\"307.9951\">Pkg21</text></a></g><!--MD5=[168fadf3d0c3fd93dd5d6da1b1d7ab76]\n",
       "cluster E7--><g id=\"cluster_E7\"><a href=\"psysml:c9292eea-a9ed-4d7d-b554-73a415b23d76\" target=\"_top\" title=\"psysml:c9292eea-a9ed-4d7d-b554-73a415b23d76\" xlink:actuate=\"onRequest\" xlink:href=\"psysml:c9292eea-a9ed-4d7d-b554-73a415b23d76\" xlink:show=\"new\" xlink:title=\"psysml:c9292eea-a9ed-4d7d-b554-73a415b23d76\" xlink:type=\"simple\"><polygon fill=\"none\" points=\"205,352,266.625,352,273.625,374.2969,347,374.2969,347,464,205,464,205,352\" style=\"stroke:#000000;stroke-width:1.5;\"/><line style=\"stroke:#000000;stroke-width:1.5;\" x1=\"205\" x2=\"273.625\" y1=\"374.2969\" y2=\"374.2969\"/><text fill=\"#000000\" font-family=\"sans-serif\" font-size=\"14\" font-weight=\"bold\" lengthAdjust=\"spacing\" textLength=\"55.625\" x=\"209\" y=\"366.9951\">Pkg211</text></a></g><g><a href=\"psysml:c9f16dae-c47d-4af9-8178-9fb29f2ca8fe\" target=\"_top\" title=\"psysml:c9f16dae-c47d-4af9-8178-9fb29f2ca8fe\" xlink:actuate=\"onRequest\" xlink:href=\"psysml:c9f16dae-c47d-4af9-8178-9fb29f2ca8fe\" xlink:show=\"new\" xlink:title=\"psysml:c9f16dae-c47d-4af9-8178-9fb29f2ca8fe\" xlink:type=\"simple\"><rect fill=\"#FFFFFF\" height=\"40\" id=\"E3\" rx=\"10\" ry=\"10\" style=\"stroke:#383838;stroke-width:1.5;\" width=\"83\" x=\"251.5\" y=\"102.5\"/><text fill=\"#000000\" font-family=\"sans-serif\" font-size=\"14\" lengthAdjust=\"spacing\" textLength=\"72\" x=\"257\" y=\"120.4951\">p11: P211</text></a></g><g><a href=\"psysml:5a85d6e7-c399-4e25-bc8b-7b1310ff596a\" target=\"_top\" title=\"psysml:5a85d6e7-c399-4e25-bc8b-7b1310ff596a\" xlink:actuate=\"onRequest\" xlink:href=\"psysml:5a85d6e7-c399-4e25-bc8b-7b1310ff596a\" xlink:show=\"new\" xlink:title=\"psysml:5a85d6e7-c399-4e25-bc8b-7b1310ff596a\" xlink:type=\"simple\"><rect fill=\"#FFFFFF\" height=\"45.2656\" id=\"E4\" style=\"stroke:#383838;stroke-width:1.5;\" width=\"75\" x=\"369.5\" y=\"100\"/><text fill=\"#000000\" font-family=\"sans-serif\" font-size=\"12\" font-style=\"italic\" lengthAdjust=\"spacing\" textLength=\"68\" x=\"373\" y=\"116.1387\">«part  def»</text><text fill=\"#000000\" font-family=\"sans-serif\" font-size=\"14\" lengthAdjust=\"spacing\" textLength=\"27\" x=\"393.5\" y=\"131.9639\">P12</text></a></g><g><a href=\"psysml:60f2756c-cfe4-4496-b687-ff5dbf9a385d\" target=\"_top\" title=\"psysml:60f2756c-cfe4-4496-b687-ff5dbf9a385d\" xlink:actuate=\"onRequest\" xlink:href=\"psysml:60f2756c-cfe4-4496-b687-ff5dbf9a385d\" xlink:show=\"new\" xlink:title=\"psysml:60f2756c-cfe4-4496-b687-ff5dbf9a385d\" xlink:type=\"simple\"><rect fill=\"#FFFFFF\" height=\"45.2656\" id=\"E8\" style=\"stroke:#383838;stroke-width:1.5;\" width=\"75\" x=\"248.5\" y=\"395\"/><text fill=\"#000000\" font-family=\"sans-serif\" font-size=\"12\" font-style=\"italic\" lengthAdjust=\"spacing\" textLength=\"68\" x=\"252\" y=\"411.1387\">«part  def»</text><text fill=\"#000000\" font-family=\"sans-serif\" font-size=\"14\" lengthAdjust=\"spacing\" textLength=\"36\" x=\"268\" y=\"426.9639\">P211</text></a></g><!--MD5=[b0060bfdb0500b904584095522b4da3c]\n",
       "link E2 to E8--><g id=\"link_E2_E8\"><a href=\"psysml:7a09cf9a-4d44-4715-925a-a999429b18c6\" target=\"_top\" title=\"psysml:7a09cf9a-4d44-4715-925a-a999429b18c6\" xlink:actuate=\"onRequest\" xlink:href=\"psysml:7a09cf9a-4d44-4715-925a-a999429b18c6\" xlink:show=\"new\" xlink:title=\"psysml:7a09cf9a-4d44-4715-925a-a999429b18c6\" xlink:type=\"simple\"><path d=\"M224.2853,169.1216 C224.3302,169.2216 224.3753,169.3216 224.4206,169.4214 C224.5113,169.6211 224.6029,169.8203 224.6956,170.019 C225.0661,170.814 225.4522,171.6014 225.8547,172.3795 C226.6596,173.9357 227.5296,175.4546 228.4701,176.9223 C230.3511,179.8575 232.5138,182.5875 235,185 C244.6,194.31 255.39,182.77 264,193 C311.28,249.14 300.92,343.57 292.13,389.62 \" fill=\"none\" id=\"E2-to-E8\" style=\"stroke:#181818;stroke-width:1.0;stroke-dasharray:7.0,7.0;\"/><polygon fill=\"#181818\" points=\"291.12,394.72,296.7668,386.6507,292.0759,389.8122,288.9144,385.1213,291.12,394.72\" style=\"stroke:#181818;stroke-width:1.0;\"/><text fill=\"#000000\" font-family=\"sans-serif\" font-size=\"13\" lengthAdjust=\"spacing\" textLength=\"58\" x=\"275\" y=\"206.0669\">«import»</text></a></g><!--MD5=[e3e28c1befcf002155aa15e1416b4315]\n",
       "link E2 to E6--><g id=\"link_E2_E6\"><a href=\"psysml:4d48d5b8-8a2b-403b-a600-382befb1c751\" target=\"_top\" title=\"psysml:4d48d5b8-8a2b-403b-a600-382befb1c751\" xlink:actuate=\"onRequest\" xlink:href=\"psysml:4d48d5b8-8a2b-403b-a600-382befb1c751\" xlink:show=\"new\" xlink:title=\"psysml:4d48d5b8-8a2b-403b-a600-382befb1c751\" xlink:type=\"simple\"><path d=\"M207.9177,125.1413 C207.8096,125.1655 207.7005,125.1901 207.5905,125.2149 C207.1505,125.3142 206.6956,125.4181 206.2261,125.5268 C204.3484,125.9616 202.2393,126.472 199.9341,127.0638 C190.7131,129.4306 178.3538,133.0975 165.1075,138.4175 C138.615,149.0575 108.575,166.31 93,193 C67.11,237.365 84.1475,292.2 108.1275,336.4513 C120.1175,358.5769 133.8431,378.0566 144.8063,392.2586 C147.547,395.8091 150.1152,399.0298 152.4403,401.8794 C153.6029,403.3043 154.7048,404.6364 155.7371,405.8706 C155.9952,406.1791 156.249,406.4816 156.4982,406.7778 C156.6228,406.9259 156.7463,407.0725 156.8687,407.2175 \" fill=\"none\" id=\"E2-to-E6\" style=\"stroke:#181818;stroke-width:1.0;stroke-dasharray:7.0,7.0;\"/><polygon fill=\"#181818\" points=\"156.8687,407.2175,154.1213,397.7596,153.6441,403.3963,148.0074,402.919,156.8687,407.2175\" style=\"stroke:#181818;stroke-width:1.0;\"/><text fill=\"#000000\" font-family=\"sans-serif\" font-size=\"13\" lengthAdjust=\"spacing\" textLength=\"65\" x=\"94\" y=\"206.0669\">«import»*</text></a></g><!--MD5=[e3d2a08a9c9236652057e8ed0cbc9b62]\n",
       "link E2 to E7--><g id=\"link_E2_E7\"><a href=\"psysml:435ffdce-fa99-42b8-aa7d-b79facf9bf9f\" target=\"_top\" title=\"psysml:435ffdce-fa99-42b8-aa7d-b79facf9bf9f\" xlink:actuate=\"onRequest\" xlink:href=\"psysml:435ffdce-fa99-42b8-aa7d-b79facf9bf9f\" xlink:show=\"new\" xlink:title=\"psysml:435ffdce-fa99-42b8-aa7d-b79facf9bf9f\" xlink:type=\"simple\"><path d=\"M207.8987,132.2409 C207.8392,132.3087 207.7795,132.3768 207.7196,132.4452 C207.5998,132.5821 207.479,132.7203 207.3573,132.86 C207.1139,133.1392 206.867,133.4238 206.6165,133.7137 C205.6148,134.8735 204.5583,136.1181 203.46,137.4401 C201.2633,140.0843 198.8994,143.0384 196.4725,146.2438 C186.765,159.065 176.05,175.905 171,193 C168.86,200.25 166.24,204.13 171,210 C181.87,223.4 197.99,204.71 209,218 C222.85,234.725 224.035,283.0725 221.6675,327.8625 C221.3716,333.4612 221.0201,339.0044 220.631,344.4233 C220.5337,345.778 220.434,347.1249 220.3323,348.4631 C220.2814,349.1321 220.2301,349.7989 220.1782,350.4634 C220.1523,350.7957 220.1262,351.1274 220.1,351.4584 \" fill=\"none\" id=\"E2-to-E7\" style=\"stroke:#181818;stroke-width:1.0;stroke-dasharray:7.0,7.0;\"/><polygon fill=\"#181818\" points=\"220.1,351.4584,224.7969,342.8016,220.4941,346.474,216.8217,342.1712,220.1,351.4584\" style=\"stroke:#181818;stroke-width:1.0;\"/><text fill=\"#000000\" font-family=\"sans-serif\" font-size=\"13\" lengthAdjust=\"spacing\" textLength=\"87\" x=\"172\" y=\"206.0669\">«import»*::**</text></a></g><!--MD5=[ca5a752d6098d8a44b3f88316e7452d1]\n",
       "link E3 to E8--><g id=\"link_E3_E8\"><a href=\"psysml:c2b3862a-e64c-4984-9133-ea986cde4555\" target=\"_top\" title=\"psysml:c2b3862a-e64c-4984-9133-ea986cde4555\" xlink:actuate=\"onRequest\" xlink:href=\"psysml:c2b3862a-e64c-4984-9133-ea986cde4555\" xlink:show=\"new\" xlink:title=\"psysml:c2b3862a-e64c-4984-9133-ea986cde4555\" xlink:type=\"simple\"><path d=\"M309.32,142.58 C320.65,155.29 336.46,171.99 352,185 C356.91,189.11 360.98,187.35 364,193 C367.57,199.66 368.73,204.11 364,210 C353.74,222.79 339.53,206.35 328,218 C287.1,259.32 281.48,329.87 282.65,374.79 \" fill=\"none\" id=\"E3-to-E8\" style=\"stroke:#181818;stroke-width:1.0;\"/><polygon fill=\"#FFFFFF\" points=\"283.67,394.81,275.7286,376.1838,289.7111,375.4837,283.67,394.81\" style=\"stroke:#181818;stroke-width:1.0;\"/><ellipse cx=\"277.441\" cy=\"370.3909\" fill=\"#181818\" rx=\"2\" ry=\"2\" style=\"stroke:#181818;stroke-width:1.0;\"/><ellipse cx=\"287.4285\" cy=\"369.8909\" fill=\"#181818\" rx=\"2\" ry=\"2\" style=\"stroke:#181818;stroke-width:1.0;\"/></a></g><!--MD5=[15ebcb19ae302d9b601edb458606d402]\n",
       "link E5 to E2--><g id=\"link_E5_E2\"><a href=\"psysml:2e43f05d-56e8-4995-94de-93836f9907a6\" target=\"_top\" title=\"psysml:2e43f05d-56e8-4995-94de-93836f9907a6\" xlink:actuate=\"onRequest\" xlink:href=\"psysml:2e43f05d-56e8-4995-94de-93836f9907a6\" xlink:show=\"new\" xlink:title=\"psysml:2e43f05d-56e8-4995-94de-93836f9907a6\" xlink:type=\"simple\"><path d=\"M378.9931,233.3213 C378.7693,232.9782 378.5445,232.6358 378.3186,232.2942 C377.4151,230.9279 376.4948,229.5741 375.5574,228.2337 C373.6826,225.5531 371.7396,222.9264 369.7256,220.361 C361.67,210.0995 352.4813,200.82 342,193 C322.89,178.74 253.65,199.86 235,185 C232.2913,182.8413 229.9598,180.3034 227.9541,177.51 C226.9513,176.1133 226.0298,174.6527 225.1833,173.1437 C224.7601,172.3892 224.3556,171.6225 223.969,170.8457 C223.7758,170.4573 223.587,170.0663 223.4025,169.673 C223.3103,169.4764 223.2192,169.2792 223.1292,169.0814 \" fill=\"none\" id=\"E5-to-E2\" style=\"stroke:#181818;stroke-width:1.0;stroke-dasharray:7.0,7.0;\"/><polygon fill=\"#181818\" points=\"223.1292,169.0814,223.2177,178.9299,225.2009,173.6321,230.4987,175.6152,223.1292,169.0814\" style=\"stroke:#181818;stroke-width:1.0;\"/><text fill=\"#000000\" font-family=\"sans-serif\" font-size=\"13\" lengthAdjust=\"spacing\" textLength=\"65\" x=\"361\" y=\"206.0669\">«import»*</text></a></g><!--MD5=[d7bb3fb34add81b710575eb3799fa2ad]\n",
       "link E8 to E4--><g id=\"link_E8_E4\"><a href=\"psysml:6ab4f965-70f0-4435-9c9c-0953ad10c713\" target=\"_top\" title=\"psysml:6ab4f965-70f0-4435-9c9c-0953ad10c713\" xlink:actuate=\"onRequest\" xlink:href=\"psysml:6ab4f965-70f0-4435-9c9c-0953ad10c713\" xlink:show=\"new\" xlink:title=\"psysml:6ab4f965-70f0-4435-9c9c-0953ad10c713\" xlink:type=\"simple\"><path d=\"M283.03,394.71 C278.72,353.05 276.21,262.31 328,218 C340.68,207.15 466.52,222.11 478,210 C493.85,193.29 479.79,173.5 460.13,157.08 \" fill=\"none\" id=\"E8-to-E4\" style=\"stroke:#181818;stroke-width:1.0;\"/><polygon fill=\"none\" points=\"455.83,162.6,444.02,145.01,464.22,151.39,455.83,162.6\" style=\"stroke:#181818;stroke-width:1.0;\"/></a></g><!--MD5=[9dcb018e5e134c08957e4d0208fbfec9]\n",
       "@startuml\r\n",
       "skin sysmlbw\r\n",
       "skinparam monochrome true\r\n",
       "skinparam wrapWidth 300\r\n",
       "hide circle\r\n",
       "top to bottom direction\r\n",
       "skinparam ranksep 10\r\n",
       "skinparam rectangle {\r\n",
       " backgroundColor<<block>> LightGreen\r\n",
       "}\r\n",
       "\r\n",
       "package \"ImportTest\" as E1  [[psysml:257ae3bb-e982-4f23-93ec-21786cef6fd4 ]]  {\r\n",
       "package \"Pkg1\" as E2  [[psysml:d86f8a04-756e-41fe-890d-bee1afc1808f ]]  {\r\n",
       "rec usage \"p11: P211\" as E3 [[psysml:c9f16dae-c47d-4af9-8178-9fb29f2ca8fe ]] {\r\n",
       "}\r\n",
       "rec def \"P12\" as E4  <<(T,blue) part  def>> [[psysml:5a85d6e7-c399-4e25-bc8b-7b1310ff596a ]] {\r\n",
       "}\r\n",
       "}\r\n",
       "package \"Pkg2\" as E5  [[psysml:87b5aefc-a384-45d2-9563-354f132d05b6 ]]  {\r\n",
       "package \"Pkg21\" as E6  [[psysml:74f758db-603d-4dff-97e1-05ce4d0c3ab8 ]]  {\r\n",
       "package \"Pkg211\" as E7  [[psysml:c9292eea-a9ed-4d7d-b554-73a415b23d76 ]]  {\r\n",
       "rec def \"P211\" as E8  <<(T,blue) part  def>> [[psysml:60f2756c-cfe4-4496-b687-ff5dbf9a385d ]] {\r\n",
       "}\r\n",
       "}\r\n",
       "}\r\n",
       "}\r\n",
       "}\r\n",
       "E2 ..> E8 [[psysml:7a09cf9a-4d44-4715-925a-a999429b18c6 ]] : <<import>>\r\n",
       "E2 ..> E6 [[psysml:4d48d5b8-8a2b-403b-a600-382befb1c751 ]] : <<import>>*\r\n",
       "E2 ..> E7 [[psysml:435ffdce-fa99-42b8-aa7d-b79facf9bf9f ]] : <<import>>*::**\r\n",
       "E3 - -:|> E8 [[psysml:c2b3862a-e64c-4984-9133-ea986cde4555 ]] \r\n",
       "E5 ..> E2 [[psysml:2e43f05d-56e8-4995-94de-93836f9907a6 ]] : <<import>>*\r\n",
       "E8 - -|> E4 [[psysml:6ab4f965-70f0-4435-9c9c-0953ad10c713 ]] \r\n",
       "@enduml\r\n",
       "\n",
       "PlantUML version 1.2022.7(Mon Aug 22 17:01:30 UTC 2022)\n",
       "(EPL source distribution)\n",
       "Java Runtime: OpenJDK Runtime Environment\n",
       "JVM: OpenJDK 64-Bit Server VM\n",
       "Default Encoding: UTF-8\n",
       "Language: en\n",
       "Country: null\n",
       "--></g></svg>"
      ]
     },
     "execution_count": 47,
     "metadata": {},
     "output_type": "execute_result"
    }
   ],
   "source": [
    "%viz --style=\"TB\" --view=\"Interconnection\" \"ImportTest\""
   ]
  },
  {
   "cell_type": "code",
   "execution_count": 48,
   "id": "6d001cb8",
   "metadata": {
    "execution": {
     "iopub.execute_input": "2024-12-16T14:16:23.084767Z",
     "iopub.status.busy": "2024-12-16T14:16:23.084499Z",
     "iopub.status.idle": "2024-12-16T14:16:23.090569Z",
     "shell.execute_reply": "2024-12-16T14:16:23.090413Z"
    }
   },
   "outputs": [
    {
     "data": {
      "image/svg+xml": [
       "<?xml version=\"1.0\" encoding=\"UTF-8\" standalone=\"no\"?><svg xmlns=\"http://www.w3.org/2000/svg\" xmlns:xlink=\"http://www.w3.org/1999/xlink\" contentStyleType=\"text/css\" height=\"10px\" preserveAspectRatio=\"none\" style=\"width:10px;height:10px;background:#FFFFFF;\" version=\"1.1\" viewBox=\"0 0 10 10\" width=\"10px\" zoomAndPan=\"magnify\"><defs/><g><!--MD5=[c8dde5d066d102a500cd081cce1d9948]\n",
       "@startuml\r\n",
       "skin sysmlbw\r\n",
       "skinparam monochrome true\r\n",
       "skinparam wrapWidth 300\r\n",
       "hide circle\r\n",
       "top to bottom direction\r\n",
       "skinparam ranksep 8\r\n",
       "\r\n",
       "@enduml\r\n",
       "\n",
       "PlantUML version 1.2022.7(Mon Aug 22 17:01:30 UTC 2022)\n",
       "(EPL source distribution)\n",
       "Java Runtime: OpenJDK Runtime Environment\n",
       "JVM: OpenJDK 64-Bit Server VM\n",
       "Default Encoding: UTF-8\n",
       "Language: en\n",
       "Country: null\n",
       "--></g></svg>"
      ]
     },
     "execution_count": 48,
     "metadata": {},
     "output_type": "execute_result"
    }
   ],
   "source": [
    "%viz --style=\"TB\" --view=\"Action\" \"ImportTest\""
   ]
  },
  {
   "cell_type": "code",
   "execution_count": 49,
   "id": "f0aa971c",
   "metadata": {
    "execution": {
     "iopub.execute_input": "2024-12-16T14:16:23.143140Z",
     "iopub.status.busy": "2024-12-16T14:16:23.142879Z",
     "iopub.status.idle": "2024-12-16T14:16:23.148146Z",
     "shell.execute_reply": "2024-12-16T14:16:23.147946Z"
    }
   },
   "outputs": [
    {
     "data": {
      "image/svg+xml": [
       "<?xml version=\"1.0\" encoding=\"UTF-8\" standalone=\"no\"?><svg xmlns=\"http://www.w3.org/2000/svg\" xmlns:xlink=\"http://www.w3.org/1999/xlink\" contentStyleType=\"text/css\" height=\"10px\" preserveAspectRatio=\"none\" style=\"width:10px;height:10px;background:#FFFFFF;\" version=\"1.1\" viewBox=\"0 0 10 10\" width=\"10px\" zoomAndPan=\"magnify\"><defs/><g><!--MD5=[228a58293b408a2cee091b1559da5a28]\n",
       "@startuml\r\n",
       "skin sysmlbw\r\n",
       "skinparam monochrome true\r\n",
       "skinparam wrapWidth 300\r\n",
       "hide circle\r\n",
       "top to bottom direction\r\n",
       "skinparam roundcorner 20\r\n",
       "skinparam BoxPadding 20\r\n",
       "skinparam SequenceBoxBackgroundColor #white\r\n",
       "skinparam style strictuml\r\n",
       "skinparam maxMessageSize 100\r\n",
       "\r\n",
       "@enduml\r\n",
       "\n",
       "PlantUML version 1.2022.7(Mon Aug 22 17:01:30 UTC 2022)\n",
       "(EPL source distribution)\n",
       "Java Runtime: OpenJDK Runtime Environment\n",
       "JVM: OpenJDK 64-Bit Server VM\n",
       "Default Encoding: UTF-8\n",
       "Language: en\n",
       "Country: null\n",
       "--></g></svg>"
      ]
     },
     "execution_count": 49,
     "metadata": {},
     "output_type": "execute_result"
    }
   ],
   "source": [
    "%viz --style=\"TB\" --view=\"Sequence\" \"ImportTest\""
   ]
  },
  {
   "cell_type": "code",
   "execution_count": 50,
   "id": "054df7a1",
   "metadata": {
    "execution": {
     "iopub.execute_input": "2024-12-16T14:16:23.201060Z",
     "iopub.status.busy": "2024-12-16T14:16:23.200794Z",
     "iopub.status.idle": "2024-12-16T14:16:23.218598Z",
     "shell.execute_reply": "2024-12-16T14:16:23.217704Z"
    }
   },
   "outputs": [
    {
     "data": {
      "image/svg+xml": [
       "<?xml version=\"1.0\" encoding=\"UTF-8\" standalone=\"no\"?><svg xmlns=\"http://www.w3.org/2000/svg\" xmlns:xlink=\"http://www.w3.org/1999/xlink\" contentStyleType=\"text/css\" height=\"589px\" preserveAspectRatio=\"none\" style=\"width:517px;height:589px;background:#FFFFFF;\" version=\"1.1\" viewBox=\"0 0 517 589\" width=\"517px\" zoomAndPan=\"magnify\"><defs/><g><!--MD5=[fbc87193dbaf4d95561dea2c320d4a47]\n",
       "cluster E1--><g id=\"cluster_E1\"><a href=\"psysml:257ae3bb-e982-4f23-93ec-21786cef6fd4\" target=\"_top\" title=\"psysml:257ae3bb-e982-4f23-93ec-21786cef6fd4\" xlink:actuate=\"onRequest\" xlink:href=\"psysml:257ae3bb-e982-4f23-93ec-21786cef6fd4\" xlink:show=\"new\" xlink:title=\"psysml:257ae3bb-e982-4f23-93ec-21786cef6fd4\" xlink:type=\"simple\"><polygon fill=\"none\" points=\"16,6,101.375,6,108.375,28.2969,500,28.2969,500,582,16,582,16,6\" style=\"stroke:#000000;stroke-width:1.5;\"/><line style=\"stroke:#000000;stroke-width:1.5;\" x1=\"16\" x2=\"108.375\" y1=\"28.2969\" y2=\"28.2969\"/><text fill=\"#000000\" font-family=\"sans-serif\" font-size=\"14\" font-weight=\"bold\" lengthAdjust=\"spacing\" textLength=\"79.375\" x=\"20\" y=\"20.9951\">ImportTest</text></a></g><!--MD5=[e4f7fae6ed58524ba242bb0b0d3be6b7]\n",
       "cluster E2--><g id=\"cluster_E2\"><a href=\"psysml:d86f8a04-756e-41fe-890d-bee1afc1808f\" target=\"_top\" title=\"psysml:d86f8a04-756e-41fe-890d-bee1afc1808f\" xlink:actuate=\"onRequest\" xlink:href=\"psysml:d86f8a04-756e-41fe-890d-bee1afc1808f\" xlink:show=\"new\" xlink:title=\"psysml:d86f8a04-756e-41fe-890d-bee1afc1808f\" xlink:type=\"simple\"><polygon fill=\"none\" points=\"210,57,252.75,57,259.75,79.2969,468,79.2969,468,172,210,172,210,57\" style=\"stroke:#000000;stroke-width:1.5;\"/><line style=\"stroke:#000000;stroke-width:1.5;\" x1=\"210\" x2=\"259.75\" y1=\"79.2969\" y2=\"79.2969\"/><text fill=\"#000000\" font-family=\"sans-serif\" font-size=\"14\" font-weight=\"bold\" lengthAdjust=\"spacing\" textLength=\"36.75\" x=\"214\" y=\"71.9951\">Pkg1</text></a></g><!--MD5=[de5ec2e2e8f62f467e546659f5068c88]\n",
       "cluster E5--><g id=\"cluster_E5\"><a href=\"psysml:87b5aefc-a384-45d2-9563-354f132d05b6\" target=\"_top\" title=\"psysml:87b5aefc-a384-45d2-9563-354f132d05b6\" xlink:actuate=\"onRequest\" xlink:href=\"psysml:87b5aefc-a384-45d2-9563-354f132d05b6\" xlink:show=\"new\" xlink:title=\"psysml:87b5aefc-a384-45d2-9563-354f132d05b6\" xlink:type=\"simple\"><polygon fill=\"none\" points=\"121,237,163.75,237,170.75,259.2969,434,259.2969,434,550,121,550,121,237\" style=\"stroke:#000000;stroke-width:1.5;\"/><line style=\"stroke:#000000;stroke-width:1.5;\" x1=\"121\" x2=\"170.75\" y1=\"259.2969\" y2=\"259.2969\"/><text fill=\"#000000\" font-family=\"sans-serif\" font-size=\"14\" font-weight=\"bold\" lengthAdjust=\"spacing\" textLength=\"36.75\" x=\"125\" y=\"251.9951\">Pkg2</text></a></g><!--MD5=[14e3b0961a2654348d326746436168a1]\n",
       "cluster E6--><g id=\"cluster_E6\"><a href=\"psysml:74f758db-603d-4dff-97e1-05ce4d0c3ab8\" target=\"_top\" title=\"psysml:74f758db-603d-4dff-97e1-05ce4d0c3ab8\" xlink:actuate=\"onRequest\" xlink:href=\"psysml:74f758db-603d-4dff-97e1-05ce4d0c3ab8\" xlink:show=\"new\" xlink:title=\"psysml:74f758db-603d-4dff-97e1-05ce4d0c3ab8\" xlink:type=\"simple\"><polygon fill=\"none\" points=\"161,296,213.1875,296,220.1875,318.2969,386,318.2969,386,510,161,510,161,296\" style=\"stroke:#000000;stroke-width:1.5;\"/><line style=\"stroke:#000000;stroke-width:1.5;\" x1=\"161\" x2=\"220.1875\" y1=\"318.2969\" y2=\"318.2969\"/><text fill=\"#000000\" font-family=\"sans-serif\" font-size=\"14\" font-weight=\"bold\" lengthAdjust=\"spacing\" textLength=\"46.1875\" x=\"165\" y=\"310.9951\">Pkg21</text></a></g><!--MD5=[168fadf3d0c3fd93dd5d6da1b1d7ab76]\n",
       "cluster E7--><g id=\"cluster_E7\"><a href=\"psysml:c9292eea-a9ed-4d7d-b554-73a415b23d76\" target=\"_top\" title=\"psysml:c9292eea-a9ed-4d7d-b554-73a415b23d76\" xlink:actuate=\"onRequest\" xlink:href=\"psysml:c9292eea-a9ed-4d7d-b554-73a415b23d76\" xlink:show=\"new\" xlink:title=\"psysml:c9292eea-a9ed-4d7d-b554-73a415b23d76\" xlink:type=\"simple\"><polygon fill=\"none\" points=\"209,355,270.625,355,277.625,377.2969,346,377.2969,346,470,209,470,209,355\" style=\"stroke:#000000;stroke-width:1.5;\"/><line style=\"stroke:#000000;stroke-width:1.5;\" x1=\"209\" x2=\"277.625\" y1=\"377.2969\" y2=\"377.2969\"/><text fill=\"#000000\" font-family=\"sans-serif\" font-size=\"14\" font-weight=\"bold\" lengthAdjust=\"spacing\" textLength=\"55.625\" x=\"213\" y=\"369.9951\">Pkg211</text></a></g><!--MD5=[09b614a08d8cba4a07c9adeb5e0fee81]\n",
       "class E3--><a href=\"psysml:c9f16dae-c47d-4af9-8178-9fb29f2ca8fe\" target=\"_top\" title=\"psysml:c9f16dae-c47d-4af9-8178-9fb29f2ca8fe\" xlink:actuate=\"onRequest\" xlink:href=\"psysml:c9f16dae-c47d-4af9-8178-9fb29f2ca8fe\" xlink:show=\"new\" xlink:title=\"psysml:c9f16dae-c47d-4af9-8178-9fb29f2ca8fe\" xlink:type=\"simple\"><g id=\"elem_E3\"><rect fill=\"#FFFFFF\" height=\"48.2656\" id=\"E3\" rx=\"10\" ry=\"10\" style=\"stroke:#181818;stroke-width:0.5;\" width=\"86\" x=\"253\" y=\"100\"/><text fill=\"#000000\" font-family=\"sans-serif\" font-size=\"12\" font-style=\"italic\" lengthAdjust=\"spacing\" textLength=\"40\" x=\"276\" y=\"116.1387\">«part»</text><text fill=\"#000000\" font-family=\"sans-serif\" font-size=\"14\" lengthAdjust=\"spacing\" textLength=\"72\" x=\"256\" y=\"131.9639\">p11: P211</text><line style=\"stroke:#181818;stroke-width:0.5;\" x1=\"254\" x2=\"338\" y1=\"140.2656\" y2=\"140.2656\"/></g></a><!--MD5=[ebbe1d658d1005bcc118a6aa81145e00]\n",
       "class E4--><a href=\"psysml:5a85d6e7-c399-4e25-bc8b-7b1310ff596a\" target=\"_top\" title=\"psysml:5a85d6e7-c399-4e25-bc8b-7b1310ff596a\" xlink:actuate=\"onRequest\" xlink:href=\"psysml:5a85d6e7-c399-4e25-bc8b-7b1310ff596a\" xlink:show=\"new\" xlink:title=\"psysml:5a85d6e7-c399-4e25-bc8b-7b1310ff596a\" xlink:type=\"simple\"><g id=\"elem_E4\"><rect fill=\"#FFFFFF\" height=\"48.2656\" id=\"E4\" style=\"stroke:#181818;stroke-width:0.5;\" width=\"70\" x=\"374\" y=\"100\"/><text fill=\"#000000\" font-family=\"sans-serif\" font-size=\"12\" font-style=\"italic\" lengthAdjust=\"spacing\" textLength=\"68\" x=\"375\" y=\"116.1387\">«part  def»</text><text fill=\"#000000\" font-family=\"sans-serif\" font-size=\"14\" lengthAdjust=\"spacing\" textLength=\"27\" x=\"395.5\" y=\"131.9639\">P12</text><line style=\"stroke:#181818;stroke-width:0.5;\" x1=\"375\" x2=\"443\" y1=\"140.2656\" y2=\"140.2656\"/></g></a><!--MD5=[b9389687b975829384b498ac4b7476b2]\n",
       "class E8--><a href=\"psysml:60f2756c-cfe4-4496-b687-ff5dbf9a385d\" target=\"_top\" title=\"psysml:60f2756c-cfe4-4496-b687-ff5dbf9a385d\" xlink:actuate=\"onRequest\" xlink:href=\"psysml:60f2756c-cfe4-4496-b687-ff5dbf9a385d\" xlink:show=\"new\" xlink:title=\"psysml:60f2756c-cfe4-4496-b687-ff5dbf9a385d\" xlink:type=\"simple\"><g id=\"elem_E8\"><rect fill=\"#FFFFFF\" height=\"48.2656\" id=\"E8\" style=\"stroke:#181818;stroke-width:0.5;\" width=\"70\" x=\"252\" y=\"398\"/><text fill=\"#000000\" font-family=\"sans-serif\" font-size=\"12\" font-style=\"italic\" lengthAdjust=\"spacing\" textLength=\"68\" x=\"253\" y=\"414.1387\">«part  def»</text><text fill=\"#000000\" font-family=\"sans-serif\" font-size=\"14\" lengthAdjust=\"spacing\" textLength=\"36\" x=\"269\" y=\"429.9639\">P211</text><line style=\"stroke:#181818;stroke-width:0.5;\" x1=\"253\" x2=\"321\" y1=\"438.2656\" y2=\"438.2656\"/></g></a><!--MD5=[b0060bfdb0500b904584095522b4da3c]\n",
       "link E2 to E8--><g id=\"link_E2_E8\"><a href=\"psysml:7a09cf9a-4d44-4715-925a-a999429b18c6\" target=\"_top\" title=\"psysml:7a09cf9a-4d44-4715-925a-a999429b18c6\" xlink:actuate=\"onRequest\" xlink:href=\"psysml:7a09cf9a-4d44-4715-925a-a999429b18c6\" xlink:show=\"new\" xlink:title=\"psysml:7a09cf9a-4d44-4715-925a-a999429b18c6\" xlink:type=\"simple\"><path d=\"M226.4784,172.2619 C226.5244,172.3641 226.5707,172.4663 226.6172,172.5683 C226.9895,173.3846 227.3777,174.1934 227.7824,174.9929 C228.5919,176.5919 229.4675,178.1539 230.4147,179.6646 C232.3092,182.6861 234.49,185.5025 237,188 C245.87,196.83 256.01,186.37 264,196 C310.7,252.32 301.61,345.84 293.2,392.58 \" fill=\"none\" id=\"E2-to-E8\" style=\"stroke:#181818;stroke-width:1.0;stroke-dasharray:7.0,7.0;\"/><polygon fill=\"#181818\" points=\"292.23,397.77,297.8087,389.6535,293.1445,392.8543,289.9437,388.1902,292.23,397.77\" style=\"stroke:#181818;stroke-width:1.0;\"/><text fill=\"#000000\" font-family=\"sans-serif\" font-size=\"13\" lengthAdjust=\"spacing\" textLength=\"58\" x=\"275\" y=\"209.0669\">«import»</text></a></g><!--MD5=[e3e28c1befcf002155aa15e1416b4315]\n",
       "link E2 to E6--><g id=\"link_E2_E6\"><a href=\"psysml:4d48d5b8-8a2b-403b-a600-382befb1c751\" target=\"_top\" title=\"psysml:4d48d5b8-8a2b-403b-a600-382befb1c751\" xlink:actuate=\"onRequest\" xlink:href=\"psysml:4d48d5b8-8a2b-403b-a600-382befb1c751\" xlink:show=\"new\" xlink:title=\"psysml:4d48d5b8-8a2b-403b-a600-382befb1c751\" xlink:type=\"simple\"><path d=\"M209.7844,126.6885 C209.6745,126.7134 209.5637,126.7387 209.4519,126.7642 C209.0046,126.8663 208.5422,126.9732 208.065,127.085 C206.1563,127.532 204.0125,128.0567 201.6694,128.6645 C192.2969,131.0959 179.735,134.8581 166.2725,140.3037 C139.3475,151.195 108.82,168.82 93,196 C66.865,240.9 84.8675,296.1075 109.8912,340.5988 C122.4031,362.8444 136.6703,382.4109 148.0533,396.6705 C150.899,400.2354 153.5645,403.4685 155.9772,406.329 C157.1836,407.7592 158.3268,409.0962 159.3977,410.335 C159.9331,410.9543 160.4505,411.5491 160.9487,412.1186 \" fill=\"none\" id=\"E2-to-E6\" style=\"stroke:#181818;stroke-width:1.0;stroke-dasharray:7.0,7.0;\"/><polygon fill=\"#181818\" points=\"160.9487,412.1186,158.034,402.711,157.6568,408.3552,152.0125,407.9781,160.9487,412.1186\" style=\"stroke:#181818;stroke-width:1.0;\"/><text fill=\"#000000\" font-family=\"sans-serif\" font-size=\"13\" lengthAdjust=\"spacing\" textLength=\"65\" x=\"94\" y=\"209.0669\">«import»*</text></a></g><!--MD5=[e3d2a08a9c9236652057e8ed0cbc9b62]\n",
       "link E2 to E7--><g id=\"link_E2_E7\"><a href=\"psysml:435ffdce-fa99-42b8-aa7d-b79facf9bf9f\" target=\"_top\" title=\"psysml:435ffdce-fa99-42b8-aa7d-b79facf9bf9f\" xlink:actuate=\"onRequest\" xlink:href=\"psysml:435ffdce-fa99-42b8-aa7d-b79facf9bf9f\" xlink:show=\"new\" xlink:title=\"psysml:435ffdce-fa99-42b8-aa7d-b79facf9bf9f\" xlink:type=\"simple\"><path d=\"M209.9156,133.4819 C209.8545,133.5495 209.7932,133.6175 209.7316,133.6858 C209.239,134.2321 208.7304,134.801 208.2074,135.3916 C207.1616,136.5729 206.0584,137.8408 204.9115,139.188 C202.6178,141.8824 200.1494,144.8941 197.615,148.1638 C187.4775,161.2425 176.285,178.45 171,196 C168.82,203.23 166.18,207.18 171,213 C183.11,227.64 200.74,206.48 213,221 C227.115,237.715 228.305,286.425 225.8738,331.5863 C225.5698,337.2314 225.2094,342.8211 224.8105,348.2859 C224.7107,349.6522 224.6086,351.0106 224.5044,352.3601 C224.4522,353.0348 224.3996,353.7074 224.3464,354.3776 \" fill=\"none\" id=\"E2-to-E7\" style=\"stroke:#181818;stroke-width:1.0;stroke-dasharray:7.0,7.0;\"/><polygon fill=\"#181818\" points=\"224.3464,354.3776,229.0454,345.7219,224.7417,349.3932,221.0704,345.0895,224.3464,354.3776\" style=\"stroke:#181818;stroke-width:1.0;\"/><text fill=\"#000000\" font-family=\"sans-serif\" font-size=\"13\" lengthAdjust=\"spacing\" textLength=\"87\" x=\"172\" y=\"209.0669\">«import»*::**</text></a></g><!--MD5=[ca5a752d6098d8a44b3f88316e7452d1]\n",
       "link E3 to E8--><g id=\"link_E3_E8\"><a href=\"psysml:c2b3862a-e64c-4984-9133-ea986cde4555\" target=\"_top\" title=\"psysml:c2b3862a-e64c-4984-9133-ea986cde4555\" xlink:actuate=\"onRequest\" xlink:href=\"psysml:c2b3862a-e64c-4984-9133-ea986cde4555\" xlink:show=\"new\" xlink:title=\"psysml:c2b3862a-e64c-4984-9133-ea986cde4555\" xlink:type=\"simple\"><path d=\"M318.74,148.33 C338.26,168.43 363.38,194.46 364,196 C366.82,203.01 368.76,207.13 364,213 C353.13,226.4 338.11,208.71 326,221 C285.35,262.26 280.75,332.54 282.7,377.85 \" fill=\"none\" id=\"E3-to-E8\" style=\"stroke:#181818;stroke-width:1.0;\"/><polygon fill=\"#FFFFFF\" points=\"284.06,397.85,275.7871,379.3687,289.7548,378.4189,284.06,397.85\" style=\"stroke:#181818;stroke-width:1.0;\"/><ellipse cx=\"277.3957\" cy=\"373.5461\" fill=\"#181818\" rx=\"2\" ry=\"2\" style=\"stroke:#181818;stroke-width:1.0;\"/><ellipse cx=\"287.3727\" cy=\"372.8677\" fill=\"#181818\" rx=\"2\" ry=\"2\" style=\"stroke:#181818;stroke-width:1.0;\"/></a></g><!--MD5=[15ebcb19ae302d9b601edb458606d402]\n",
       "link E5 to E2--><g id=\"link_E5_E2\"><a href=\"psysml:2e43f05d-56e8-4995-94de-93836f9907a6\" target=\"_top\" title=\"psysml:2e43f05d-56e8-4995-94de-93836f9907a6\" xlink:actuate=\"onRequest\" xlink:href=\"psysml:2e43f05d-56e8-4995-94de-93836f9907a6\" xlink:show=\"new\" xlink:title=\"psysml:2e43f05d-56e8-4995-94de-93836f9907a6\" xlink:type=\"simple\"><path d=\"M378.9609,236.6531 C378.738,236.3074 378.5141,235.9625 378.2891,235.6183 C377.389,234.2417 376.472,232.8777 375.5377,231.5272 C373.669,228.8262 371.7312,226.1791 369.7216,223.5936 C361.6834,213.2516 352.4975,203.8938 342,196 C323.3,181.94 255.24,202.66 237,188 C234.24,185.7813 231.8698,183.1761 229.8356,180.3106 C228.8185,178.8779 227.8853,177.3801 227.0294,175.833 C226.6014,175.0595 226.1928,174.2736 225.8026,173.4773 C225.6075,173.0792 225.417,172.6785 225.231,172.2755 \" fill=\"none\" id=\"E5-to-E2\" style=\"stroke:#181818;stroke-width:1.0;stroke-dasharray:7.0,7.0;\"/><polygon fill=\"#181818\" points=\"225.231,172.2755,225.3696,182.1233,227.3258,176.8155,232.6337,178.7717,225.231,172.2755\" style=\"stroke:#181818;stroke-width:1.0;\"/><text fill=\"#000000\" font-family=\"sans-serif\" font-size=\"13\" lengthAdjust=\"spacing\" textLength=\"65\" x=\"357\" y=\"209.0669\">«import»*</text></a></g><!--MD5=[d7bb3fb34add81b710575eb3799fa2ad]\n",
       "link E8 to E4--><g id=\"link_E8_E4\"><a href=\"psysml:6ab4f965-70f0-4435-9c9c-0953ad10c713\" target=\"_top\" title=\"psysml:6ab4f965-70f0-4435-9c9c-0953ad10c713\" xlink:actuate=\"onRequest\" xlink:href=\"psysml:6ab4f965-70f0-4435-9c9c-0953ad10c713\" xlink:show=\"new\" xlink:title=\"psysml:6ab4f965-70f0-4435-9c9c-0953ad10c713\" xlink:type=\"simple\"><path d=\"M283.44,397.77 C278.41,355.31 274.86,265.44 326,221 C338.77,209.91 466.36,225.27 478,213 C494.05,196.08 479.84,175.66 460.24,158.75 \" fill=\"none\" id=\"E8-to-E4\" style=\"stroke:#181818;stroke-width:1.0;\"/><polygon fill=\"none\" points=\"455.75,164.13,444.23,146.35,464.32,153.06,455.75,164.13\" style=\"stroke:#181818;stroke-width:1.0;\"/></a></g><!--MD5=[b6ab65ee9915ff8711e1d81cef55fb9a]\n",
       "@startuml\r\n",
       "skin sysmlbw\r\n",
       "skinparam monochrome true\r\n",
       "skinparam wrapWidth 300\r\n",
       "hide circle\r\n",
       "top to bottom direction\r\n",
       "\r\n",
       "package \"ImportTest\" as E1  [[psysml:257ae3bb-e982-4f23-93ec-21786cef6fd4 ]]  {\r\n",
       "package \"Pkg1\" as E2  [[psysml:d86f8a04-756e-41fe-890d-bee1afc1808f ]]  {\r\n",
       "comp usage \"p11: P211  \" as E3  <<(T,blue) part>> [[psysml:c9f16dae-c47d-4af9-8178-9fb29f2ca8fe ]] {\r\n",
       "}\r\n",
       "comp def \"P12\" as E4  <<(T,blue) part  def>> [[psysml:5a85d6e7-c399-4e25-bc8b-7b1310ff596a ]] {\r\n",
       "}\r\n",
       "}\r\n",
       "package \"Pkg2\" as E5  [[psysml:87b5aefc-a384-45d2-9563-354f132d05b6 ]]  {\r\n",
       "package \"Pkg21\" as E6  [[psysml:74f758db-603d-4dff-97e1-05ce4d0c3ab8 ]]  {\r\n",
       "package \"Pkg211\" as E7  [[psysml:c9292eea-a9ed-4d7d-b554-73a415b23d76 ]]  {\r\n",
       "comp def \"P211\" as E8  <<(T,blue) part  def>> [[psysml:60f2756c-cfe4-4496-b687-ff5dbf9a385d ]] {\r\n",
       "}\r\n",
       "}\r\n",
       "}\r\n",
       "}\r\n",
       "}\r\n",
       "E2 ..> E8 [[psysml:7a09cf9a-4d44-4715-925a-a999429b18c6 ]] : <<import>>\r\n",
       "E2 ..> E6 [[psysml:4d48d5b8-8a2b-403b-a600-382befb1c751 ]] : <<import>>*\r\n",
       "E2 ..> E7 [[psysml:435ffdce-fa99-42b8-aa7d-b79facf9bf9f ]] : <<import>>*::**\r\n",
       "E3 - -:|> E8 [[psysml:c2b3862a-e64c-4984-9133-ea986cde4555 ]] \r\n",
       "E5 ..> E2 [[psysml:2e43f05d-56e8-4995-94de-93836f9907a6 ]] : <<import>>*\r\n",
       "E8 - -|> E4 [[psysml:6ab4f965-70f0-4435-9c9c-0953ad10c713 ]] \r\n",
       "@enduml\r\n",
       "\n",
       "PlantUML version 1.2022.7(Mon Aug 22 17:01:30 UTC 2022)\n",
       "(EPL source distribution)\n",
       "Java Runtime: OpenJDK Runtime Environment\n",
       "JVM: OpenJDK 64-Bit Server VM\n",
       "Default Encoding: UTF-8\n",
       "Language: en\n",
       "Country: null\n",
       "--></g></svg>"
      ]
     },
     "execution_count": 50,
     "metadata": {},
     "output_type": "execute_result"
    }
   ],
   "source": [
    "%viz --style=\"TB\" --view=\"MIXED\" \"ImportTest\""
   ]
  },
  {
   "cell_type": "code",
   "execution_count": 51,
   "id": "af2bd375",
   "metadata": {
    "execution": {
     "iopub.execute_input": "2024-12-16T14:16:23.269744Z",
     "iopub.status.busy": "2024-12-16T14:16:23.269475Z",
     "iopub.status.idle": "2024-12-16T14:16:23.288750Z",
     "shell.execute_reply": "2024-12-16T14:16:23.287731Z"
    }
   },
   "outputs": [
    {
     "data": {
      "image/svg+xml": [
       "<?xml version=\"1.0\" encoding=\"UTF-8\" standalone=\"no\"?><svg xmlns=\"http://www.w3.org/2000/svg\" xmlns:xlink=\"http://www.w3.org/1999/xlink\" contentStyleType=\"text/css\" height=\"564px\" preserveAspectRatio=\"none\" style=\"width:427px;height:564px;background:#FFFFFF;\" version=\"1.1\" viewBox=\"0 0 427 564\" width=\"427px\" zoomAndPan=\"magnify\"><defs/><g><!--MD5=[fbc87193dbaf4d95561dea2c320d4a47]\n",
       "cluster E1--><g id=\"cluster_E1\"><a href=\"psysml:257ae3bb-e982-4f23-93ec-21786cef6fd4\" target=\"_top\" title=\"psysml:257ae3bb-e982-4f23-93ec-21786cef6fd4\" xlink:actuate=\"onRequest\" xlink:href=\"psysml:257ae3bb-e982-4f23-93ec-21786cef6fd4\" xlink:show=\"new\" xlink:title=\"psysml:257ae3bb-e982-4f23-93ec-21786cef6fd4\" xlink:type=\"simple\"><polygon fill=\"none\" points=\"33,6,118.375,6,125.375,28.2969,410,28.2969,410,557,33,557,33,6\" style=\"stroke:#000000;stroke-width:1.5;\"/><line style=\"stroke:#000000;stroke-width:1.5;\" x1=\"33\" x2=\"125.375\" y1=\"28.2969\" y2=\"28.2969\"/><text fill=\"#000000\" font-family=\"sans-serif\" font-size=\"14\" font-weight=\"bold\" lengthAdjust=\"spacing\" textLength=\"79.375\" x=\"37\" y=\"20.9951\">ImportTest</text></a></g><!--MD5=[e4f7fae6ed58524ba242bb0b0d3be6b7]\n",
       "cluster E2--><g id=\"cluster_E2\"><a href=\"psysml:d86f8a04-756e-41fe-890d-bee1afc1808f\" target=\"_top\" title=\"psysml:d86f8a04-756e-41fe-890d-bee1afc1808f\" xlink:actuate=\"onRequest\" xlink:href=\"psysml:d86f8a04-756e-41fe-890d-bee1afc1808f\" xlink:show=\"new\" xlink:title=\"psysml:d86f8a04-756e-41fe-890d-bee1afc1808f\" xlink:type=\"simple\"><polygon fill=\"none\" points=\"116,57,158.75,57,165.75,79.2969,374,79.2969,374,172,116,172,116,57\" style=\"stroke:#000000;stroke-width:1.5;\"/><line style=\"stroke:#000000;stroke-width:1.5;\" x1=\"116\" x2=\"165.75\" y1=\"79.2969\" y2=\"79.2969\"/><text fill=\"#000000\" font-family=\"sans-serif\" font-size=\"14\" font-weight=\"bold\" lengthAdjust=\"spacing\" textLength=\"36.75\" x=\"120\" y=\"71.9951\">Pkg1</text></a></g><!--MD5=[de5ec2e2e8f62f467e546659f5068c88]\n",
       "cluster E5--><g id=\"cluster_E5\"><a href=\"psysml:87b5aefc-a384-45d2-9563-354f132d05b6\" target=\"_top\" title=\"psysml:87b5aefc-a384-45d2-9563-354f132d05b6\" xlink:actuate=\"onRequest\" xlink:href=\"psysml:87b5aefc-a384-45d2-9563-354f132d05b6\" xlink:show=\"new\" xlink:title=\"psysml:87b5aefc-a384-45d2-9563-354f132d05b6\" xlink:type=\"simple\"><polygon fill=\"none\" points=\"65,212,107.75,212,114.75,234.2969,378,234.2969,378,525,65,525,65,212\" style=\"stroke:#000000;stroke-width:1.5;\"/><line style=\"stroke:#000000;stroke-width:1.5;\" x1=\"65\" x2=\"114.75\" y1=\"234.2969\" y2=\"234.2969\"/><text fill=\"#000000\" font-family=\"sans-serif\" font-size=\"14\" font-weight=\"bold\" lengthAdjust=\"spacing\" textLength=\"36.75\" x=\"69\" y=\"226.9951\">Pkg2</text></a></g><!--MD5=[14e3b0961a2654348d326746436168a1]\n",
       "cluster E6--><g id=\"cluster_E6\"><a href=\"psysml:74f758db-603d-4dff-97e1-05ce4d0c3ab8\" target=\"_top\" title=\"psysml:74f758db-603d-4dff-97e1-05ce4d0c3ab8\" xlink:actuate=\"onRequest\" xlink:href=\"psysml:74f758db-603d-4dff-97e1-05ce4d0c3ab8\" xlink:show=\"new\" xlink:title=\"psysml:74f758db-603d-4dff-97e1-05ce4d0c3ab8\" xlink:type=\"simple\"><polygon fill=\"none\" points=\"113,271,165.1875,271,172.1875,293.2969,338,293.2969,338,485,113,485,113,271\" style=\"stroke:#000000;stroke-width:1.5;\"/><line style=\"stroke:#000000;stroke-width:1.5;\" x1=\"113\" x2=\"172.1875\" y1=\"293.2969\" y2=\"293.2969\"/><text fill=\"#000000\" font-family=\"sans-serif\" font-size=\"14\" font-weight=\"bold\" lengthAdjust=\"spacing\" textLength=\"46.1875\" x=\"117\" y=\"285.9951\">Pkg21</text></a></g><!--MD5=[168fadf3d0c3fd93dd5d6da1b1d7ab76]\n",
       "cluster E7--><g id=\"cluster_E7\"><a href=\"psysml:c9292eea-a9ed-4d7d-b554-73a415b23d76\" target=\"_top\" title=\"psysml:c9292eea-a9ed-4d7d-b554-73a415b23d76\" xlink:actuate=\"onRequest\" xlink:href=\"psysml:c9292eea-a9ed-4d7d-b554-73a415b23d76\" xlink:show=\"new\" xlink:title=\"psysml:c9292eea-a9ed-4d7d-b554-73a415b23d76\" xlink:type=\"simple\"><polygon fill=\"none\" points=\"161,330,222.625,330,229.625,352.2969,298,352.2969,298,445,161,445,161,330\" style=\"stroke:#000000;stroke-width:1.5;\"/><line style=\"stroke:#000000;stroke-width:1.5;\" x1=\"161\" x2=\"229.625\" y1=\"352.2969\" y2=\"352.2969\"/><text fill=\"#000000\" font-family=\"sans-serif\" font-size=\"14\" font-weight=\"bold\" lengthAdjust=\"spacing\" textLength=\"55.625\" x=\"165\" y=\"344.9951\">Pkg211</text></a></g><!--MD5=[09b614a08d8cba4a07c9adeb5e0fee81]\n",
       "class E3--><a href=\"psysml:c9f16dae-c47d-4af9-8178-9fb29f2ca8fe\" target=\"_top\" title=\"psysml:c9f16dae-c47d-4af9-8178-9fb29f2ca8fe\" xlink:actuate=\"onRequest\" xlink:href=\"psysml:c9f16dae-c47d-4af9-8178-9fb29f2ca8fe\" xlink:show=\"new\" xlink:title=\"psysml:c9f16dae-c47d-4af9-8178-9fb29f2ca8fe\" xlink:type=\"simple\"><g id=\"elem_E3\"><rect fill=\"#FFFFFF\" height=\"48.2656\" id=\"E3\" rx=\"10\" ry=\"10\" style=\"stroke:#181818;stroke-width:0.5;\" width=\"86\" x=\"264\" y=\"100\"/><text fill=\"#000000\" font-family=\"sans-serif\" font-size=\"12\" font-style=\"italic\" lengthAdjust=\"spacing\" textLength=\"40\" x=\"287\" y=\"116.1387\">«part»</text><text fill=\"#000000\" font-family=\"sans-serif\" font-size=\"14\" lengthAdjust=\"spacing\" textLength=\"72\" x=\"267\" y=\"131.9639\">p11: P211</text><line style=\"stroke:#181818;stroke-width:0.5;\" x1=\"265\" x2=\"349\" y1=\"140.2656\" y2=\"140.2656\"/></g></a><!--MD5=[ebbe1d658d1005bcc118a6aa81145e00]\n",
       "class E4--><a href=\"psysml:5a85d6e7-c399-4e25-bc8b-7b1310ff596a\" target=\"_top\" title=\"psysml:5a85d6e7-c399-4e25-bc8b-7b1310ff596a\" xlink:actuate=\"onRequest\" xlink:href=\"psysml:5a85d6e7-c399-4e25-bc8b-7b1310ff596a\" xlink:show=\"new\" xlink:title=\"psysml:5a85d6e7-c399-4e25-bc8b-7b1310ff596a\" xlink:type=\"simple\"><g id=\"elem_E4\"><rect fill=\"#FFFFFF\" height=\"48.2656\" id=\"E4\" style=\"stroke:#181818;stroke-width:0.5;\" width=\"70\" x=\"159\" y=\"100\"/><text fill=\"#000000\" font-family=\"sans-serif\" font-size=\"12\" font-style=\"italic\" lengthAdjust=\"spacing\" textLength=\"68\" x=\"160\" y=\"116.1387\">«part  def»</text><text fill=\"#000000\" font-family=\"sans-serif\" font-size=\"14\" lengthAdjust=\"spacing\" textLength=\"27\" x=\"180.5\" y=\"131.9639\">P12</text><line style=\"stroke:#181818;stroke-width:0.5;\" x1=\"160\" x2=\"228\" y1=\"140.2656\" y2=\"140.2656\"/></g></a><!--MD5=[b9389687b975829384b498ac4b7476b2]\n",
       "class E8--><a href=\"psysml:60f2756c-cfe4-4496-b687-ff5dbf9a385d\" target=\"_top\" title=\"psysml:60f2756c-cfe4-4496-b687-ff5dbf9a385d\" xlink:actuate=\"onRequest\" xlink:href=\"psysml:60f2756c-cfe4-4496-b687-ff5dbf9a385d\" xlink:show=\"new\" xlink:title=\"psysml:60f2756c-cfe4-4496-b687-ff5dbf9a385d\" xlink:type=\"simple\"><g id=\"elem_E8\"><rect fill=\"#FFFFFF\" height=\"48.2656\" id=\"E8\" style=\"stroke:#181818;stroke-width:0.5;\" width=\"70\" x=\"204\" y=\"373\"/><text fill=\"#000000\" font-family=\"sans-serif\" font-size=\"12\" font-style=\"italic\" lengthAdjust=\"spacing\" textLength=\"68\" x=\"205\" y=\"389.1387\">«part  def»</text><text fill=\"#000000\" font-family=\"sans-serif\" font-size=\"14\" lengthAdjust=\"spacing\" textLength=\"36\" x=\"221\" y=\"404.9639\">P211</text><line style=\"stroke:#181818;stroke-width:0.5;\" x1=\"205\" x2=\"273\" y1=\"413.2656\" y2=\"413.2656\"/></g></a><!--MD5=[b0060bfdb0500b904584095522b4da3c]\n",
       "link E2 to E8--><g id=\"link_E2_E8\"><a href=\"psysml:7a09cf9a-4d44-4715-925a-a999429b18c6\" target=\"_top\" title=\"psysml:7a09cf9a-4d44-4715-925a-a999429b18c6\" xlink:actuate=\"onRequest\" xlink:href=\"psysml:7a09cf9a-4d44-4715-925a-a999429b18c6\" xlink:show=\"new\" xlink:title=\"psysml:7a09cf9a-4d44-4715-925a-a999429b18c6\" xlink:type=\"simple\"><path d=\"M246.5,172.4321 C246.5,189.1787 246.5,207.0419 246.5,224.905 C246.5,296.3575 246.5,367.81 246.5,367.81 \" fill=\"none\" id=\"E2-to-E8\" style=\"stroke:#181818;stroke-width:1.0;stroke-dasharray:7.0,7.0;\"/><polygon fill=\"#181818\" points=\"246.5,372.81,250.5,363.81,246.5,367.81,242.5,363.81,246.5,372.81\" style=\"stroke:#181818;stroke-width:1.0;\"/><text fill=\"#000000\" font-family=\"sans-serif\" font-size=\"13\" lengthAdjust=\"spacing\" textLength=\"58\" x=\"217.5\" y=\"155.9569\">«import»</text></a></g><!--MD5=[e3e28c1befcf002155aa15e1416b4315]\n",
       "link E2 to E6--><g id=\"link_E2_E6\"><a href=\"psysml:4d48d5b8-8a2b-403b-a600-382befb1c751\" target=\"_top\" title=\"psysml:4d48d5b8-8a2b-403b-a600-382befb1c751\" xlink:actuate=\"onRequest\" xlink:href=\"psysml:4d48d5b8-8a2b-403b-a600-382befb1c751\" xlink:show=\"new\" xlink:title=\"psysml:4d48d5b8-8a2b-403b-a600-382befb1c751\" xlink:type=\"simple\"><path d=\"M124,172.3517 C124,198.5722 124,232.3844 124,265.8138 C124,266.8584 124,267.9027 124,268.9464 C124,269.4682 124,269.9899 124,270.5114 \" fill=\"none\" id=\"E2-to-E6\" style=\"stroke:#181818;stroke-width:1.0;stroke-dasharray:7.0,7.0;\"/><polygon fill=\"#181818\" points=\"124,270.5114,128,261.5114,124,265.5114,120,261.5114,124,270.5114\" style=\"stroke:#181818;stroke-width:1.0;\"/><text fill=\"#000000\" font-family=\"sans-serif\" font-size=\"13\" lengthAdjust=\"spacing\" textLength=\"65\" x=\"58\" y=\"258.7269\">«import»*</text></a></g><!--MD5=[e3d2a08a9c9236652057e8ed0cbc9b62]\n",
       "link E2 to E7--><g id=\"link_E2_E7\"><a href=\"psysml:435ffdce-fa99-42b8-aa7d-b79facf9bf9f\" target=\"_top\" title=\"psysml:435ffdce-fa99-42b8-aa7d-b79facf9bf9f\" xlink:actuate=\"onRequest\" xlink:href=\"psysml:435ffdce-fa99-42b8-aa7d-b79facf9bf9f\" xlink:show=\"new\" xlink:title=\"psysml:435ffdce-fa99-42b8-aa7d-b79facf9bf9f\" xlink:type=\"simple\"><path d=\"M142,172.8069 C142,173.2268 142,173.6487 142,174.0724 C142,174.9199 142,175.7749 142,176.6371 C142,180.0863 142,183.6521 142,187.3179 C142,194.6494 142,202.3809 142,210.3789 C142,226.375 142,243.4375 142,260.5 C142,328.75 142,397 142,397 C142,397 147.5425,397 153.605,397 C155.1206,397 156.6688,397 158.1709,397 C158.922,397 159.6616,397 160.3798,397 C160.5594,397 160.7376,397 160.9144,397 \" fill=\"none\" id=\"E2-to-E7\" style=\"stroke:#181818;stroke-width:1.0;stroke-dasharray:7.0,7.0;\"/><polygon fill=\"#181818\" points=\"160.9144,397,151.9144,393,155.9144,397,151.9144,401,160.9144,397\" style=\"stroke:#181818;stroke-width:1.0;\"/><text fill=\"#000000\" font-family=\"sans-serif\" font-size=\"13\" lengthAdjust=\"spacing\" textLength=\"87\" x=\"54\" y=\"277.9569\">«import»*::**</text></a></g><!--MD5=[ca5a752d6098d8a44b3f88316e7452d1]\n",
       "link E3 to E8--><g id=\"link_E3_E8\"><a href=\"psysml:c2b3862a-e64c-4984-9133-ea986cde4555\" target=\"_top\" title=\"psysml:c2b3862a-e64c-4984-9133-ea986cde4555\" xlink:actuate=\"onRequest\" xlink:href=\"psysml:c2b3862a-e64c-4984-9133-ea986cde4555\" xlink:show=\"new\" xlink:title=\"psysml:c2b3862a-e64c-4984-9133-ea986cde4555\" xlink:type=\"simple\"><path d=\"M269,148.23 C269,148.23 269,352.83 269,352.83 \" fill=\"none\" id=\"E3-to-E8\" style=\"stroke:#181818;stroke-width:1.0;\"/><polygon fill=\"#FFFFFF\" points=\"269,372.83,262,353.83,276,353.83,269,372.83\" style=\"stroke:#181818;stroke-width:1.0;\"/><ellipse cx=\"264\" cy=\"348.13\" fill=\"#181818\" rx=\"2\" ry=\"2\" style=\"stroke:#181818;stroke-width:1.0;\"/><ellipse cx=\"274\" cy=\"348.13\" fill=\"#181818\" rx=\"2\" ry=\"2\" style=\"stroke:#181818;stroke-width:1.0;\"/></a></g><!--MD5=[15ebcb19ae302d9b601edb458606d402]\n",
       "link E5 to E2--><g id=\"link_E5_E2\"><a href=\"psysml:2e43f05d-56e8-4995-94de-93836f9907a6\" target=\"_top\" title=\"psysml:2e43f05d-56e8-4995-94de-93836f9907a6\" xlink:actuate=\"onRequest\" xlink:href=\"psysml:2e43f05d-56e8-4995-94de-93836f9907a6\" xlink:show=\"new\" xlink:title=\"psysml:2e43f05d-56e8-4995-94de-93836f9907a6\" xlink:type=\"simple\"><path d=\"M73,211.3989 C73,210.9094 73,210.4209 73,209.9333 C73,208.9582 73,207.9871 73,207.0203 C73,191.5507 73,177.1698 73,164.8705 C73,140.2719 73,124 73,124 C73,124 84.205,124 96.1113,124 C102.0644,124 108.1928,124 113.1836,124 C113.8074,124 114.4135,124 114.9992,124 C115.2921,124 115.5799,124 115.8623,124 \" fill=\"none\" id=\"E5-to-E2\" style=\"stroke:#181818;stroke-width:1.0;stroke-dasharray:7.0,7.0;\"/><polygon fill=\"#181818\" points=\"115.8623,124,106.8623,120,110.8623,124,106.8623,128,115.8623,124\" style=\"stroke:#181818;stroke-width:1.0;\"/><text fill=\"#000000\" font-family=\"sans-serif\" font-size=\"13\" lengthAdjust=\"spacing\" textLength=\"65\" x=\"7\" y=\"231.1269\">«import»*</text></a></g><!--MD5=[d7bb3fb34add81b710575eb3799fa2ad]\n",
       "link E8 to E4--><g id=\"link_E8_E4\"><a href=\"psysml:6ab4f965-70f0-4435-9c9c-0953ad10c713\" target=\"_top\" title=\"psysml:6ab4f965-70f0-4435-9c9c-0953ad10c713\" xlink:actuate=\"onRequest\" xlink:href=\"psysml:6ab4f965-70f0-4435-9c9c-0953ad10c713\" xlink:show=\"new\" xlink:title=\"psysml:6ab4f965-70f0-4435-9c9c-0953ad10c713\" xlink:type=\"simple\"><path d=\"M216.5,372.77 C216.5,372.77 216.5,168.17 216.5,168.17 \" fill=\"none\" id=\"E8-to-E4\" style=\"stroke:#181818;stroke-width:1.0;\"/><polygon fill=\"none\" points=\"209.5,168.17,216.5,148.17,223.5,168.17,209.5,168.17\" style=\"stroke:#181818;stroke-width:1.0;\"/></a></g><!--MD5=[543383e77a5fd05332aa8d099e9be9ff]\n",
       "@startuml\r\n",
       "skin sysmlbw\r\n",
       "skinparam monochrome true\r\n",
       "skinparam wrapWidth 300\r\n",
       "hide circle\r\n",
       "skinparam linetype ortho\r\n",
       "\r\n",
       "package \"ImportTest\" as E1  [[psysml:257ae3bb-e982-4f23-93ec-21786cef6fd4 ]]  {\r\n",
       "package \"Pkg1\" as E2  [[psysml:d86f8a04-756e-41fe-890d-bee1afc1808f ]]  {\r\n",
       "comp usage \"p11: P211  \" as E3  <<(T,blue) part>> [[psysml:c9f16dae-c47d-4af9-8178-9fb29f2ca8fe ]] {\r\n",
       "}\r\n",
       "comp def \"P12\" as E4  <<(T,blue) part  def>> [[psysml:5a85d6e7-c399-4e25-bc8b-7b1310ff596a ]] {\r\n",
       "}\r\n",
       "}\r\n",
       "package \"Pkg2\" as E5  [[psysml:87b5aefc-a384-45d2-9563-354f132d05b6 ]]  {\r\n",
       "package \"Pkg21\" as E6  [[psysml:74f758db-603d-4dff-97e1-05ce4d0c3ab8 ]]  {\r\n",
       "package \"Pkg211\" as E7  [[psysml:c9292eea-a9ed-4d7d-b554-73a415b23d76 ]]  {\r\n",
       "comp def \"P211\" as E8  <<(T,blue) part  def>> [[psysml:60f2756c-cfe4-4496-b687-ff5dbf9a385d ]] {\r\n",
       "}\r\n",
       "}\r\n",
       "}\r\n",
       "}\r\n",
       "}\r\n",
       "E2 ..> E8 [[psysml:7a09cf9a-4d44-4715-925a-a999429b18c6 ]] : <<import>>\r\n",
       "E2 ..> E6 [[psysml:4d48d5b8-8a2b-403b-a600-382befb1c751 ]] : <<import>>*\r\n",
       "E2 ..> E7 [[psysml:435ffdce-fa99-42b8-aa7d-b79facf9bf9f ]] : <<import>>*::**\r\n",
       "E3 - -:|> E8 [[psysml:c2b3862a-e64c-4984-9133-ea986cde4555 ]] \r\n",
       "E5 ..> E2 [[psysml:2e43f05d-56e8-4995-94de-93836f9907a6 ]] : <<import>>*\r\n",
       "E8 - -|> E4 [[psysml:6ab4f965-70f0-4435-9c9c-0953ad10c713 ]] \r\n",
       "@enduml\r\n",
       "\n",
       "PlantUML version 1.2022.7(Mon Aug 22 17:01:30 UTC 2022)\n",
       "(EPL source distribution)\n",
       "Java Runtime: OpenJDK Runtime Environment\n",
       "JVM: OpenJDK 64-Bit Server VM\n",
       "Default Encoding: UTF-8\n",
       "Language: en\n",
       "Country: null\n",
       "--></g></svg>"
      ]
     },
     "execution_count": 51,
     "metadata": {},
     "output_type": "execute_result"
    }
   ],
   "source": [
    "%viz --style=\"ORTHOLINE\" --view=\"Default\" \"ImportTest\""
   ]
  },
  {
   "cell_type": "code",
   "execution_count": 52,
   "id": "1c95d818",
   "metadata": {
    "execution": {
     "iopub.execute_input": "2024-12-16T14:16:23.339312Z",
     "iopub.status.busy": "2024-12-16T14:16:23.339047Z",
     "iopub.status.idle": "2024-12-16T14:16:23.357197Z",
     "shell.execute_reply": "2024-12-16T14:16:23.356268Z"
    }
   },
   "outputs": [
    {
     "data": {
      "image/svg+xml": [
       "<?xml version=\"1.0\" encoding=\"UTF-8\" standalone=\"no\"?><svg xmlns=\"http://www.w3.org/2000/svg\" xmlns:xlink=\"http://www.w3.org/1999/xlink\" contentStyleType=\"text/css\" height=\"564px\" preserveAspectRatio=\"none\" style=\"width:427px;height:564px;background:#FFFFFF;\" version=\"1.1\" viewBox=\"0 0 427 564\" width=\"427px\" zoomAndPan=\"magnify\"><defs/><g><!--MD5=[fbc87193dbaf4d95561dea2c320d4a47]\n",
       "cluster E1--><g id=\"cluster_E1\"><a href=\"psysml:257ae3bb-e982-4f23-93ec-21786cef6fd4\" target=\"_top\" title=\"psysml:257ae3bb-e982-4f23-93ec-21786cef6fd4\" xlink:actuate=\"onRequest\" xlink:href=\"psysml:257ae3bb-e982-4f23-93ec-21786cef6fd4\" xlink:show=\"new\" xlink:title=\"psysml:257ae3bb-e982-4f23-93ec-21786cef6fd4\" xlink:type=\"simple\"><polygon fill=\"none\" points=\"33,6,118.375,6,125.375,28.2969,410,28.2969,410,557,33,557,33,6\" style=\"stroke:#000000;stroke-width:1.5;\"/><line style=\"stroke:#000000;stroke-width:1.5;\" x1=\"33\" x2=\"125.375\" y1=\"28.2969\" y2=\"28.2969\"/><text fill=\"#000000\" font-family=\"sans-serif\" font-size=\"14\" font-weight=\"bold\" lengthAdjust=\"spacing\" textLength=\"79.375\" x=\"37\" y=\"20.9951\">ImportTest</text></a></g><!--MD5=[e4f7fae6ed58524ba242bb0b0d3be6b7]\n",
       "cluster E2--><g id=\"cluster_E2\"><a href=\"psysml:d86f8a04-756e-41fe-890d-bee1afc1808f\" target=\"_top\" title=\"psysml:d86f8a04-756e-41fe-890d-bee1afc1808f\" xlink:actuate=\"onRequest\" xlink:href=\"psysml:d86f8a04-756e-41fe-890d-bee1afc1808f\" xlink:show=\"new\" xlink:title=\"psysml:d86f8a04-756e-41fe-890d-bee1afc1808f\" xlink:type=\"simple\"><polygon fill=\"none\" points=\"116,57,158.75,57,165.75,79.2969,374,79.2969,374,172,116,172,116,57\" style=\"stroke:#000000;stroke-width:1.5;\"/><line style=\"stroke:#000000;stroke-width:1.5;\" x1=\"116\" x2=\"165.75\" y1=\"79.2969\" y2=\"79.2969\"/><text fill=\"#000000\" font-family=\"sans-serif\" font-size=\"14\" font-weight=\"bold\" lengthAdjust=\"spacing\" textLength=\"36.75\" x=\"120\" y=\"71.9951\">Pkg1</text></a></g><!--MD5=[de5ec2e2e8f62f467e546659f5068c88]\n",
       "cluster E5--><g id=\"cluster_E5\"><a href=\"psysml:87b5aefc-a384-45d2-9563-354f132d05b6\" target=\"_top\" title=\"psysml:87b5aefc-a384-45d2-9563-354f132d05b6\" xlink:actuate=\"onRequest\" xlink:href=\"psysml:87b5aefc-a384-45d2-9563-354f132d05b6\" xlink:show=\"new\" xlink:title=\"psysml:87b5aefc-a384-45d2-9563-354f132d05b6\" xlink:type=\"simple\"><polygon fill=\"none\" points=\"65,212,107.75,212,114.75,234.2969,378,234.2969,378,525,65,525,65,212\" style=\"stroke:#000000;stroke-width:1.5;\"/><line style=\"stroke:#000000;stroke-width:1.5;\" x1=\"65\" x2=\"114.75\" y1=\"234.2969\" y2=\"234.2969\"/><text fill=\"#000000\" font-family=\"sans-serif\" font-size=\"14\" font-weight=\"bold\" lengthAdjust=\"spacing\" textLength=\"36.75\" x=\"69\" y=\"226.9951\">Pkg2</text></a></g><!--MD5=[14e3b0961a2654348d326746436168a1]\n",
       "cluster E6--><g id=\"cluster_E6\"><a href=\"psysml:74f758db-603d-4dff-97e1-05ce4d0c3ab8\" target=\"_top\" title=\"psysml:74f758db-603d-4dff-97e1-05ce4d0c3ab8\" xlink:actuate=\"onRequest\" xlink:href=\"psysml:74f758db-603d-4dff-97e1-05ce4d0c3ab8\" xlink:show=\"new\" xlink:title=\"psysml:74f758db-603d-4dff-97e1-05ce4d0c3ab8\" xlink:type=\"simple\"><polygon fill=\"none\" points=\"113,271,165.1875,271,172.1875,293.2969,338,293.2969,338,485,113,485,113,271\" style=\"stroke:#000000;stroke-width:1.5;\"/><line style=\"stroke:#000000;stroke-width:1.5;\" x1=\"113\" x2=\"172.1875\" y1=\"293.2969\" y2=\"293.2969\"/><text fill=\"#000000\" font-family=\"sans-serif\" font-size=\"14\" font-weight=\"bold\" lengthAdjust=\"spacing\" textLength=\"46.1875\" x=\"117\" y=\"285.9951\">Pkg21</text></a></g><!--MD5=[168fadf3d0c3fd93dd5d6da1b1d7ab76]\n",
       "cluster E7--><g id=\"cluster_E7\"><a href=\"psysml:c9292eea-a9ed-4d7d-b554-73a415b23d76\" target=\"_top\" title=\"psysml:c9292eea-a9ed-4d7d-b554-73a415b23d76\" xlink:actuate=\"onRequest\" xlink:href=\"psysml:c9292eea-a9ed-4d7d-b554-73a415b23d76\" xlink:show=\"new\" xlink:title=\"psysml:c9292eea-a9ed-4d7d-b554-73a415b23d76\" xlink:type=\"simple\"><polygon fill=\"none\" points=\"161,330,222.625,330,229.625,352.2969,298,352.2969,298,445,161,445,161,330\" style=\"stroke:#000000;stroke-width:1.5;\"/><line style=\"stroke:#000000;stroke-width:1.5;\" x1=\"161\" x2=\"229.625\" y1=\"352.2969\" y2=\"352.2969\"/><text fill=\"#000000\" font-family=\"sans-serif\" font-size=\"14\" font-weight=\"bold\" lengthAdjust=\"spacing\" textLength=\"55.625\" x=\"165\" y=\"344.9951\">Pkg211</text></a></g><!--MD5=[09b614a08d8cba4a07c9adeb5e0fee81]\n",
       "class E3--><a href=\"psysml:c9f16dae-c47d-4af9-8178-9fb29f2ca8fe\" target=\"_top\" title=\"psysml:c9f16dae-c47d-4af9-8178-9fb29f2ca8fe\" xlink:actuate=\"onRequest\" xlink:href=\"psysml:c9f16dae-c47d-4af9-8178-9fb29f2ca8fe\" xlink:show=\"new\" xlink:title=\"psysml:c9f16dae-c47d-4af9-8178-9fb29f2ca8fe\" xlink:type=\"simple\"><g id=\"elem_E3\"><rect fill=\"#FFFFFF\" height=\"48.2656\" id=\"E3\" rx=\"10\" ry=\"10\" style=\"stroke:#181818;stroke-width:0.5;\" width=\"86\" x=\"264\" y=\"100\"/><text fill=\"#000000\" font-family=\"sans-serif\" font-size=\"12\" font-style=\"italic\" lengthAdjust=\"spacing\" textLength=\"40\" x=\"287\" y=\"116.1387\">«part»</text><text fill=\"#000000\" font-family=\"sans-serif\" font-size=\"14\" lengthAdjust=\"spacing\" textLength=\"72\" x=\"267\" y=\"131.9639\">p11: P211</text><line style=\"stroke:#181818;stroke-width:0.5;\" x1=\"265\" x2=\"349\" y1=\"140.2656\" y2=\"140.2656\"/></g></a><!--MD5=[ebbe1d658d1005bcc118a6aa81145e00]\n",
       "class E4--><a href=\"psysml:5a85d6e7-c399-4e25-bc8b-7b1310ff596a\" target=\"_top\" title=\"psysml:5a85d6e7-c399-4e25-bc8b-7b1310ff596a\" xlink:actuate=\"onRequest\" xlink:href=\"psysml:5a85d6e7-c399-4e25-bc8b-7b1310ff596a\" xlink:show=\"new\" xlink:title=\"psysml:5a85d6e7-c399-4e25-bc8b-7b1310ff596a\" xlink:type=\"simple\"><g id=\"elem_E4\"><rect fill=\"#FFFFFF\" height=\"48.2656\" id=\"E4\" style=\"stroke:#181818;stroke-width:0.5;\" width=\"70\" x=\"159\" y=\"100\"/><text fill=\"#000000\" font-family=\"sans-serif\" font-size=\"12\" font-style=\"italic\" lengthAdjust=\"spacing\" textLength=\"68\" x=\"160\" y=\"116.1387\">«part  def»</text><text fill=\"#000000\" font-family=\"sans-serif\" font-size=\"14\" lengthAdjust=\"spacing\" textLength=\"27\" x=\"180.5\" y=\"131.9639\">P12</text><line style=\"stroke:#181818;stroke-width:0.5;\" x1=\"160\" x2=\"228\" y1=\"140.2656\" y2=\"140.2656\"/></g></a><!--MD5=[b9389687b975829384b498ac4b7476b2]\n",
       "class E8--><a href=\"psysml:60f2756c-cfe4-4496-b687-ff5dbf9a385d\" target=\"_top\" title=\"psysml:60f2756c-cfe4-4496-b687-ff5dbf9a385d\" xlink:actuate=\"onRequest\" xlink:href=\"psysml:60f2756c-cfe4-4496-b687-ff5dbf9a385d\" xlink:show=\"new\" xlink:title=\"psysml:60f2756c-cfe4-4496-b687-ff5dbf9a385d\" xlink:type=\"simple\"><g id=\"elem_E8\"><rect fill=\"#FFFFFF\" height=\"48.2656\" id=\"E8\" style=\"stroke:#181818;stroke-width:0.5;\" width=\"70\" x=\"204\" y=\"373\"/><text fill=\"#000000\" font-family=\"sans-serif\" font-size=\"12\" font-style=\"italic\" lengthAdjust=\"spacing\" textLength=\"68\" x=\"205\" y=\"389.1387\">«part  def»</text><text fill=\"#000000\" font-family=\"sans-serif\" font-size=\"14\" lengthAdjust=\"spacing\" textLength=\"36\" x=\"221\" y=\"404.9639\">P211</text><line style=\"stroke:#181818;stroke-width:0.5;\" x1=\"205\" x2=\"273\" y1=\"413.2656\" y2=\"413.2656\"/></g></a><!--MD5=[b0060bfdb0500b904584095522b4da3c]\n",
       "link E2 to E8--><g id=\"link_E2_E8\"><a href=\"psysml:7a09cf9a-4d44-4715-925a-a999429b18c6\" target=\"_top\" title=\"psysml:7a09cf9a-4d44-4715-925a-a999429b18c6\" xlink:actuate=\"onRequest\" xlink:href=\"psysml:7a09cf9a-4d44-4715-925a-a999429b18c6\" xlink:show=\"new\" xlink:title=\"psysml:7a09cf9a-4d44-4715-925a-a999429b18c6\" xlink:type=\"simple\"><path d=\"M246.5,172.4321 C246.5,189.1787 246.5,207.0419 246.5,224.905 C246.5,296.3575 246.5,367.81 246.5,367.81 \" fill=\"none\" id=\"E2-to-E8\" style=\"stroke:#181818;stroke-width:1.0;stroke-dasharray:7.0,7.0;\"/><polygon fill=\"#181818\" points=\"246.5,372.81,250.5,363.81,246.5,367.81,242.5,363.81,246.5,372.81\" style=\"stroke:#181818;stroke-width:1.0;\"/><text fill=\"#000000\" font-family=\"sans-serif\" font-size=\"13\" lengthAdjust=\"spacing\" textLength=\"58\" x=\"217.5\" y=\"155.9569\">«import»</text></a></g><!--MD5=[e3e28c1befcf002155aa15e1416b4315]\n",
       "link E2 to E6--><g id=\"link_E2_E6\"><a href=\"psysml:4d48d5b8-8a2b-403b-a600-382befb1c751\" target=\"_top\" title=\"psysml:4d48d5b8-8a2b-403b-a600-382befb1c751\" xlink:actuate=\"onRequest\" xlink:href=\"psysml:4d48d5b8-8a2b-403b-a600-382befb1c751\" xlink:show=\"new\" xlink:title=\"psysml:4d48d5b8-8a2b-403b-a600-382befb1c751\" xlink:type=\"simple\"><path d=\"M124,172.3517 C124,198.5722 124,232.3844 124,265.8138 C124,266.8584 124,267.9027 124,268.9464 C124,269.4682 124,269.9899 124,270.5114 \" fill=\"none\" id=\"E2-to-E6\" style=\"stroke:#181818;stroke-width:1.0;stroke-dasharray:7.0,7.0;\"/><polygon fill=\"#181818\" points=\"124,270.5114,128,261.5114,124,265.5114,120,261.5114,124,270.5114\" style=\"stroke:#181818;stroke-width:1.0;\"/><text fill=\"#000000\" font-family=\"sans-serif\" font-size=\"13\" lengthAdjust=\"spacing\" textLength=\"65\" x=\"58\" y=\"258.7269\">«import»*</text></a></g><!--MD5=[e3d2a08a9c9236652057e8ed0cbc9b62]\n",
       "link E2 to E7--><g id=\"link_E2_E7\"><a href=\"psysml:435ffdce-fa99-42b8-aa7d-b79facf9bf9f\" target=\"_top\" title=\"psysml:435ffdce-fa99-42b8-aa7d-b79facf9bf9f\" xlink:actuate=\"onRequest\" xlink:href=\"psysml:435ffdce-fa99-42b8-aa7d-b79facf9bf9f\" xlink:show=\"new\" xlink:title=\"psysml:435ffdce-fa99-42b8-aa7d-b79facf9bf9f\" xlink:type=\"simple\"><path d=\"M142,172.8069 C142,173.2268 142,173.6487 142,174.0724 C142,174.9199 142,175.7749 142,176.6371 C142,180.0863 142,183.6521 142,187.3179 C142,194.6494 142,202.3809 142,210.3789 C142,226.375 142,243.4375 142,260.5 C142,328.75 142,397 142,397 C142,397 147.5425,397 153.605,397 C155.1206,397 156.6688,397 158.1709,397 C158.922,397 159.6616,397 160.3798,397 C160.5594,397 160.7376,397 160.9144,397 \" fill=\"none\" id=\"E2-to-E7\" style=\"stroke:#181818;stroke-width:1.0;stroke-dasharray:7.0,7.0;\"/><polygon fill=\"#181818\" points=\"160.9144,397,151.9144,393,155.9144,397,151.9144,401,160.9144,397\" style=\"stroke:#181818;stroke-width:1.0;\"/><text fill=\"#000000\" font-family=\"sans-serif\" font-size=\"13\" lengthAdjust=\"spacing\" textLength=\"87\" x=\"54\" y=\"277.9569\">«import»*::**</text></a></g><!--MD5=[ca5a752d6098d8a44b3f88316e7452d1]\n",
       "link E3 to E8--><g id=\"link_E3_E8\"><a href=\"psysml:c2b3862a-e64c-4984-9133-ea986cde4555\" target=\"_top\" title=\"psysml:c2b3862a-e64c-4984-9133-ea986cde4555\" xlink:actuate=\"onRequest\" xlink:href=\"psysml:c2b3862a-e64c-4984-9133-ea986cde4555\" xlink:show=\"new\" xlink:title=\"psysml:c2b3862a-e64c-4984-9133-ea986cde4555\" xlink:type=\"simple\"><path d=\"M269,148.23 C269,148.23 269,352.83 269,352.83 \" fill=\"none\" id=\"E3-to-E8\" style=\"stroke:#181818;stroke-width:1.0;\"/><polygon fill=\"#FFFFFF\" points=\"269,372.83,262,353.83,276,353.83,269,372.83\" style=\"stroke:#181818;stroke-width:1.0;\"/><ellipse cx=\"264\" cy=\"348.13\" fill=\"#181818\" rx=\"2\" ry=\"2\" style=\"stroke:#181818;stroke-width:1.0;\"/><ellipse cx=\"274\" cy=\"348.13\" fill=\"#181818\" rx=\"2\" ry=\"2\" style=\"stroke:#181818;stroke-width:1.0;\"/></a></g><!--MD5=[15ebcb19ae302d9b601edb458606d402]\n",
       "link E5 to E2--><g id=\"link_E5_E2\"><a href=\"psysml:2e43f05d-56e8-4995-94de-93836f9907a6\" target=\"_top\" title=\"psysml:2e43f05d-56e8-4995-94de-93836f9907a6\" xlink:actuate=\"onRequest\" xlink:href=\"psysml:2e43f05d-56e8-4995-94de-93836f9907a6\" xlink:show=\"new\" xlink:title=\"psysml:2e43f05d-56e8-4995-94de-93836f9907a6\" xlink:type=\"simple\"><path d=\"M73,211.3989 C73,210.9094 73,210.4209 73,209.9333 C73,208.9582 73,207.9871 73,207.0203 C73,191.5507 73,177.1698 73,164.8705 C73,140.2719 73,124 73,124 C73,124 84.205,124 96.1113,124 C102.0644,124 108.1928,124 113.1836,124 C113.8074,124 114.4135,124 114.9992,124 C115.2921,124 115.5799,124 115.8623,124 \" fill=\"none\" id=\"E5-to-E2\" style=\"stroke:#181818;stroke-width:1.0;stroke-dasharray:7.0,7.0;\"/><polygon fill=\"#181818\" points=\"115.8623,124,106.8623,120,110.8623,124,106.8623,128,115.8623,124\" style=\"stroke:#181818;stroke-width:1.0;\"/><text fill=\"#000000\" font-family=\"sans-serif\" font-size=\"13\" lengthAdjust=\"spacing\" textLength=\"65\" x=\"7\" y=\"231.1269\">«import»*</text></a></g><!--MD5=[d7bb3fb34add81b710575eb3799fa2ad]\n",
       "link E8 to E4--><g id=\"link_E8_E4\"><a href=\"psysml:6ab4f965-70f0-4435-9c9c-0953ad10c713\" target=\"_top\" title=\"psysml:6ab4f965-70f0-4435-9c9c-0953ad10c713\" xlink:actuate=\"onRequest\" xlink:href=\"psysml:6ab4f965-70f0-4435-9c9c-0953ad10c713\" xlink:show=\"new\" xlink:title=\"psysml:6ab4f965-70f0-4435-9c9c-0953ad10c713\" xlink:type=\"simple\"><path d=\"M216.5,372.77 C216.5,372.77 216.5,168.17 216.5,168.17 \" fill=\"none\" id=\"E8-to-E4\" style=\"stroke:#181818;stroke-width:1.0;\"/><polygon fill=\"none\" points=\"209.5,168.17,216.5,148.17,223.5,168.17,209.5,168.17\" style=\"stroke:#181818;stroke-width:1.0;\"/></a></g><!--MD5=[543383e77a5fd05332aa8d099e9be9ff]\n",
       "@startuml\r\n",
       "skin sysmlbw\r\n",
       "skinparam monochrome true\r\n",
       "skinparam wrapWidth 300\r\n",
       "hide circle\r\n",
       "skinparam linetype ortho\r\n",
       "\r\n",
       "package \"ImportTest\" as E1  [[psysml:257ae3bb-e982-4f23-93ec-21786cef6fd4 ]]  {\r\n",
       "package \"Pkg1\" as E2  [[psysml:d86f8a04-756e-41fe-890d-bee1afc1808f ]]  {\r\n",
       "comp usage \"p11: P211  \" as E3  <<(T,blue) part>> [[psysml:c9f16dae-c47d-4af9-8178-9fb29f2ca8fe ]] {\r\n",
       "}\r\n",
       "comp def \"P12\" as E4  <<(T,blue) part  def>> [[psysml:5a85d6e7-c399-4e25-bc8b-7b1310ff596a ]] {\r\n",
       "}\r\n",
       "}\r\n",
       "package \"Pkg2\" as E5  [[psysml:87b5aefc-a384-45d2-9563-354f132d05b6 ]]  {\r\n",
       "package \"Pkg21\" as E6  [[psysml:74f758db-603d-4dff-97e1-05ce4d0c3ab8 ]]  {\r\n",
       "package \"Pkg211\" as E7  [[psysml:c9292eea-a9ed-4d7d-b554-73a415b23d76 ]]  {\r\n",
       "comp def \"P211\" as E8  <<(T,blue) part  def>> [[psysml:60f2756c-cfe4-4496-b687-ff5dbf9a385d ]] {\r\n",
       "}\r\n",
       "}\r\n",
       "}\r\n",
       "}\r\n",
       "}\r\n",
       "E2 ..> E8 [[psysml:7a09cf9a-4d44-4715-925a-a999429b18c6 ]] : <<import>>\r\n",
       "E2 ..> E6 [[psysml:4d48d5b8-8a2b-403b-a600-382befb1c751 ]] : <<import>>*\r\n",
       "E2 ..> E7 [[psysml:435ffdce-fa99-42b8-aa7d-b79facf9bf9f ]] : <<import>>*::**\r\n",
       "E3 - -:|> E8 [[psysml:c2b3862a-e64c-4984-9133-ea986cde4555 ]] \r\n",
       "E5 ..> E2 [[psysml:2e43f05d-56e8-4995-94de-93836f9907a6 ]] : <<import>>*\r\n",
       "E8 - -|> E4 [[psysml:6ab4f965-70f0-4435-9c9c-0953ad10c713 ]] \r\n",
       "@enduml\r\n",
       "\n",
       "PlantUML version 1.2022.7(Mon Aug 22 17:01:30 UTC 2022)\n",
       "(EPL source distribution)\n",
       "Java Runtime: OpenJDK Runtime Environment\n",
       "JVM: OpenJDK 64-Bit Server VM\n",
       "Default Encoding: UTF-8\n",
       "Language: en\n",
       "Country: null\n",
       "--></g></svg>"
      ]
     },
     "execution_count": 52,
     "metadata": {},
     "output_type": "execute_result"
    }
   ],
   "source": [
    "%viz --style=\"ORTHOLINE\" --view=\"Tree\" \"ImportTest\""
   ]
  },
  {
   "cell_type": "code",
   "execution_count": 53,
   "id": "76d06105",
   "metadata": {
    "execution": {
     "iopub.execute_input": "2024-12-16T14:16:23.410402Z",
     "iopub.status.busy": "2024-12-16T14:16:23.410167Z",
     "iopub.status.idle": "2024-12-16T14:16:23.415131Z",
     "shell.execute_reply": "2024-12-16T14:16:23.414930Z"
    }
   },
   "outputs": [
    {
     "data": {
      "image/svg+xml": [
       "<?xml version=\"1.0\" encoding=\"UTF-8\" standalone=\"no\"?><svg xmlns=\"http://www.w3.org/2000/svg\" xmlns:xlink=\"http://www.w3.org/1999/xlink\" contentStyleType=\"text/css\" height=\"10px\" preserveAspectRatio=\"none\" style=\"width:10px;height:10px;background:#FFFFFF;\" version=\"1.1\" viewBox=\"0 0 10 10\" width=\"10px\" zoomAndPan=\"magnify\"><defs/><g><!--MD5=[db5337d1ba6fd3a35e07e04988169323]\n",
       "@startuml\r\n",
       "skin sysmlbw\r\n",
       "skinparam monochrome true\r\n",
       "skinparam wrapWidth 300\r\n",
       "hide circle\r\n",
       "skinparam linetype ortho\r\n",
       "\r\n",
       "@enduml\r\n",
       "\n",
       "PlantUML version 1.2022.7(Mon Aug 22 17:01:30 UTC 2022)\n",
       "(EPL source distribution)\n",
       "Java Runtime: OpenJDK Runtime Environment\n",
       "JVM: OpenJDK 64-Bit Server VM\n",
       "Default Encoding: UTF-8\n",
       "Language: en\n",
       "Country: null\n",
       "--></g></svg>"
      ]
     },
     "execution_count": 53,
     "metadata": {},
     "output_type": "execute_result"
    }
   ],
   "source": [
    "%viz --style=\"ORTHOLINE\" --view=\"State\" \"ImportTest\""
   ]
  },
  {
   "cell_type": "code",
   "execution_count": 54,
   "id": "fcfb9cff",
   "metadata": {
    "execution": {
     "iopub.execute_input": "2024-12-16T14:16:23.471196Z",
     "iopub.status.busy": "2024-12-16T14:16:23.470905Z",
     "iopub.status.idle": "2024-12-16T14:16:23.486540Z",
     "shell.execute_reply": "2024-12-16T14:16:23.485684Z"
    }
   },
   "outputs": [
    {
     "data": {
      "image/svg+xml": [
       "<?xml version=\"1.0\" encoding=\"UTF-8\" standalone=\"no\"?><svg xmlns=\"http://www.w3.org/2000/svg\" xmlns:xlink=\"http://www.w3.org/1999/xlink\" contentStyleType=\"text/css\" height=\"558px\" preserveAspectRatio=\"none\" style=\"width:432px;height:558px;background:#FFFFFF;\" version=\"1.1\" viewBox=\"0 0 432 558\" width=\"432px\" zoomAndPan=\"magnify\"><defs/><g><!--MD5=[fbc87193dbaf4d95561dea2c320d4a47]\n",
       "cluster E1--><g id=\"cluster_E1\"><a href=\"psysml:257ae3bb-e982-4f23-93ec-21786cef6fd4\" target=\"_top\" title=\"psysml:257ae3bb-e982-4f23-93ec-21786cef6fd4\" xlink:actuate=\"onRequest\" xlink:href=\"psysml:257ae3bb-e982-4f23-93ec-21786cef6fd4\" xlink:show=\"new\" xlink:title=\"psysml:257ae3bb-e982-4f23-93ec-21786cef6fd4\" xlink:type=\"simple\"><polygon fill=\"none\" points=\"33,6,118.375,6,125.375,28.2969,415,28.2969,415,551,33,551,33,6\" style=\"stroke:#000000;stroke-width:1.5;\"/><line style=\"stroke:#000000;stroke-width:1.5;\" x1=\"33\" x2=\"125.375\" y1=\"28.2969\" y2=\"28.2969\"/><text fill=\"#000000\" font-family=\"sans-serif\" font-size=\"14\" font-weight=\"bold\" lengthAdjust=\"spacing\" textLength=\"79.375\" x=\"37\" y=\"20.9951\">ImportTest</text></a></g><!--MD5=[e4f7fae6ed58524ba242bb0b0d3be6b7]\n",
       "cluster E2--><g id=\"cluster_E2\"><a href=\"psysml:d86f8a04-756e-41fe-890d-bee1afc1808f\" target=\"_top\" title=\"psysml:d86f8a04-756e-41fe-890d-bee1afc1808f\" xlink:actuate=\"onRequest\" xlink:href=\"psysml:d86f8a04-756e-41fe-890d-bee1afc1808f\" xlink:show=\"new\" xlink:title=\"psysml:d86f8a04-756e-41fe-890d-bee1afc1808f\" xlink:type=\"simple\"><polygon fill=\"none\" points=\"117,57,159.75,57,166.75,79.2969,378,79.2969,378,169,117,169,117,57\" style=\"stroke:#000000;stroke-width:1.5;\"/><line style=\"stroke:#000000;stroke-width:1.5;\" x1=\"117\" x2=\"166.75\" y1=\"79.2969\" y2=\"79.2969\"/><text fill=\"#000000\" font-family=\"sans-serif\" font-size=\"14\" font-weight=\"bold\" lengthAdjust=\"spacing\" textLength=\"36.75\" x=\"121\" y=\"71.9951\">Pkg1</text></a></g><!--MD5=[de5ec2e2e8f62f467e546659f5068c88]\n",
       "cluster E5--><g id=\"cluster_E5\"><a href=\"psysml:87b5aefc-a384-45d2-9563-354f132d05b6\" target=\"_top\" title=\"psysml:87b5aefc-a384-45d2-9563-354f132d05b6\" xlink:actuate=\"onRequest\" xlink:href=\"psysml:87b5aefc-a384-45d2-9563-354f132d05b6\" xlink:show=\"new\" xlink:title=\"psysml:87b5aefc-a384-45d2-9563-354f132d05b6\" xlink:type=\"simple\"><polygon fill=\"none\" points=\"65,209,107.75,209,114.75,231.2969,383,231.2969,383,519,65,519,65,209\" style=\"stroke:#000000;stroke-width:1.5;\"/><line style=\"stroke:#000000;stroke-width:1.5;\" x1=\"65\" x2=\"114.75\" y1=\"231.2969\" y2=\"231.2969\"/><text fill=\"#000000\" font-family=\"sans-serif\" font-size=\"14\" font-weight=\"bold\" lengthAdjust=\"spacing\" textLength=\"36.75\" x=\"69\" y=\"223.9951\">Pkg2</text></a></g><!--MD5=[14e3b0961a2654348d326746436168a1]\n",
       "cluster E6--><g id=\"cluster_E6\"><a href=\"psysml:74f758db-603d-4dff-97e1-05ce4d0c3ab8\" target=\"_top\" title=\"psysml:74f758db-603d-4dff-97e1-05ce4d0c3ab8\" xlink:actuate=\"onRequest\" xlink:href=\"psysml:74f758db-603d-4dff-97e1-05ce4d0c3ab8\" xlink:show=\"new\" xlink:title=\"psysml:74f758db-603d-4dff-97e1-05ce4d0c3ab8\" xlink:type=\"simple\"><polygon fill=\"none\" points=\"113,268,165.1875,268,172.1875,290.2969,343,290.2969,343,479,113,479,113,268\" style=\"stroke:#000000;stroke-width:1.5;\"/><line style=\"stroke:#000000;stroke-width:1.5;\" x1=\"113\" x2=\"172.1875\" y1=\"290.2969\" y2=\"290.2969\"/><text fill=\"#000000\" font-family=\"sans-serif\" font-size=\"14\" font-weight=\"bold\" lengthAdjust=\"spacing\" textLength=\"46.1875\" x=\"117\" y=\"282.9951\">Pkg21</text></a></g><!--MD5=[168fadf3d0c3fd93dd5d6da1b1d7ab76]\n",
       "cluster E7--><g id=\"cluster_E7\"><a href=\"psysml:c9292eea-a9ed-4d7d-b554-73a415b23d76\" target=\"_top\" title=\"psysml:c9292eea-a9ed-4d7d-b554-73a415b23d76\" xlink:actuate=\"onRequest\" xlink:href=\"psysml:c9292eea-a9ed-4d7d-b554-73a415b23d76\" xlink:show=\"new\" xlink:title=\"psysml:c9292eea-a9ed-4d7d-b554-73a415b23d76\" xlink:type=\"simple\"><polygon fill=\"none\" points=\"161,327,222.625,327,229.625,349.2969,303,349.2969,303,439,161,439,161,327\" style=\"stroke:#000000;stroke-width:1.5;\"/><line style=\"stroke:#000000;stroke-width:1.5;\" x1=\"161\" x2=\"229.625\" y1=\"349.2969\" y2=\"349.2969\"/><text fill=\"#000000\" font-family=\"sans-serif\" font-size=\"14\" font-weight=\"bold\" lengthAdjust=\"spacing\" textLength=\"55.625\" x=\"165\" y=\"341.9951\">Pkg211</text></a></g><g><a href=\"psysml:c9f16dae-c47d-4af9-8178-9fb29f2ca8fe\" target=\"_top\" title=\"psysml:c9f16dae-c47d-4af9-8178-9fb29f2ca8fe\" xlink:actuate=\"onRequest\" xlink:href=\"psysml:c9f16dae-c47d-4af9-8178-9fb29f2ca8fe\" xlink:show=\"new\" xlink:title=\"psysml:c9f16dae-c47d-4af9-8178-9fb29f2ca8fe\" xlink:type=\"simple\"><rect fill=\"#FFFFFF\" height=\"40\" id=\"E3\" rx=\"10\" ry=\"10\" style=\"stroke:#383838;stroke-width:1.5;\" width=\"83\" x=\"270.5\" y=\"102.5\"/><text fill=\"#000000\" font-family=\"sans-serif\" font-size=\"14\" lengthAdjust=\"spacing\" textLength=\"72\" x=\"276\" y=\"120.4951\">p11: P211</text></a></g><g><a href=\"psysml:5a85d6e7-c399-4e25-bc8b-7b1310ff596a\" target=\"_top\" title=\"psysml:5a85d6e7-c399-4e25-bc8b-7b1310ff596a\" xlink:actuate=\"onRequest\" xlink:href=\"psysml:5a85d6e7-c399-4e25-bc8b-7b1310ff596a\" xlink:show=\"new\" xlink:title=\"psysml:5a85d6e7-c399-4e25-bc8b-7b1310ff596a\" xlink:type=\"simple\"><rect fill=\"#FFFFFF\" height=\"45.2656\" id=\"E4\" style=\"stroke:#383838;stroke-width:1.5;\" width=\"75\" x=\"160.5\" y=\"100\"/><text fill=\"#000000\" font-family=\"sans-serif\" font-size=\"12\" font-style=\"italic\" lengthAdjust=\"spacing\" textLength=\"68\" x=\"164\" y=\"116.1387\">«part  def»</text><text fill=\"#000000\" font-family=\"sans-serif\" font-size=\"14\" lengthAdjust=\"spacing\" textLength=\"27\" x=\"184.5\" y=\"131.9639\">P12</text></a></g><g><a href=\"psysml:60f2756c-cfe4-4496-b687-ff5dbf9a385d\" target=\"_top\" title=\"psysml:60f2756c-cfe4-4496-b687-ff5dbf9a385d\" xlink:actuate=\"onRequest\" xlink:href=\"psysml:60f2756c-cfe4-4496-b687-ff5dbf9a385d\" xlink:show=\"new\" xlink:title=\"psysml:60f2756c-cfe4-4496-b687-ff5dbf9a385d\" xlink:type=\"simple\"><rect fill=\"#FFFFFF\" height=\"45.2656\" id=\"E8\" style=\"stroke:#383838;stroke-width:1.5;\" width=\"75\" x=\"204.5\" y=\"370\"/><text fill=\"#000000\" font-family=\"sans-serif\" font-size=\"12\" font-style=\"italic\" lengthAdjust=\"spacing\" textLength=\"68\" x=\"208\" y=\"386.1387\">«part  def»</text><text fill=\"#000000\" font-family=\"sans-serif\" font-size=\"14\" lengthAdjust=\"spacing\" textLength=\"36\" x=\"224\" y=\"401.9639\">P211</text></a></g><!--MD5=[b0060bfdb0500b904584095522b4da3c]\n",
       "link E2 to E8--><g id=\"link_E2_E8\"><a href=\"psysml:7a09cf9a-4d44-4715-925a-a999429b18c6\" target=\"_top\" title=\"psysml:7a09cf9a-4d44-4715-925a-a999429b18c6\" xlink:actuate=\"onRequest\" xlink:href=\"psysml:7a09cf9a-4d44-4715-925a-a999429b18c6\" xlink:show=\"new\" xlink:title=\"psysml:7a09cf9a-4d44-4715-925a-a999429b18c6\" xlink:type=\"simple\"><path d=\"M253,169.9668 C253,170.4827 253,170.9996 253,171.5177 C253,188.095 253,205.7775 253,223.46 C253,294.19 253,364.92 253,364.92 \" fill=\"none\" id=\"E2-to-E8\" style=\"stroke:#181818;stroke-width:1.0;stroke-dasharray:7.0,7.0;\"/><polygon fill=\"#181818\" points=\"253,369.92,257,360.92,253,364.92,249,360.92,253,369.92\" style=\"stroke:#181818;stroke-width:1.0;\"/><text fill=\"#000000\" font-family=\"sans-serif\" font-size=\"13\" lengthAdjust=\"spacing\" textLength=\"58\" x=\"239\" y=\"152.5069\">«import»</text></a></g><!--MD5=[e3e28c1befcf002155aa15e1416b4315]\n",
       "link E2 to E6--><g id=\"link_E2_E6\"><a href=\"psysml:4d48d5b8-8a2b-403b-a600-382befb1c751\" target=\"_top\" title=\"psysml:4d48d5b8-8a2b-403b-a600-382befb1c751\" xlink:actuate=\"onRequest\" xlink:href=\"psysml:4d48d5b8-8a2b-403b-a600-382befb1c751\" xlink:show=\"new\" xlink:title=\"psysml:4d48d5b8-8a2b-403b-a600-382befb1c751\" xlink:type=\"simple\"><path d=\"M125,169.0295 C125,169.4303 125,169.8329 125,170.2373 C125,196.1222 125,229.5019 125,262.5037 C125,263.5351 125,264.566 125,265.5963 C125,266.1115 125,266.6265 125,267.1413 C125,267.3988 125,267.6561 125,267.9134 \" fill=\"none\" id=\"E2-to-E6\" style=\"stroke:#181818;stroke-width:1.0;stroke-dasharray:7.0,7.0;\"/><polygon fill=\"#181818\" points=\"125,267.9134,129,258.9134,125,262.9134,121,258.9134,125,267.9134\" style=\"stroke:#181818;stroke-width:1.0;\"/><text fill=\"#000000\" font-family=\"sans-serif\" font-size=\"13\" lengthAdjust=\"spacing\" textLength=\"65\" x=\"59\" y=\"255.9469\">«import»*</text></a></g><!--MD5=[e3d2a08a9c9236652057e8ed0cbc9b62]\n",
       "link E2 to E7--><g id=\"link_E2_E7\"><a href=\"psysml:435ffdce-fa99-42b8-aa7d-b79facf9bf9f\" target=\"_top\" title=\"psysml:435ffdce-fa99-42b8-aa7d-b79facf9bf9f\" xlink:actuate=\"onRequest\" xlink:href=\"psysml:435ffdce-fa99-42b8-aa7d-b79facf9bf9f\" xlink:show=\"new\" xlink:title=\"psysml:435ffdce-fa99-42b8-aa7d-b79facf9bf9f\" xlink:type=\"simple\"><path d=\"M143.25,170.0304 C143.25,171.6763 143.25,173.3531 143.25,175.0587 C143.25,178.47 143.25,181.9966 143.25,185.6221 C143.25,192.873 143.25,200.5195 143.25,208.4297 C143.25,224.25 143.25,241.125 143.25,258 C143.25,325.5 143.25,393 143.25,393 C143.25,393 149.2925,393 155.5238,393 C157.0816,393 158.6512,393 160.1411,393 C160.3274,393 160.5124,393 160.6959,393 C160.7877,393 160.8791,393 160.9702,393 \" fill=\"none\" id=\"E2-to-E7\" style=\"stroke:#181818;stroke-width:1.0;stroke-dasharray:7.0,7.0;\"/><polygon fill=\"#181818\" points=\"160.9702,393,151.9702,389,155.9702,393,151.9702,397,160.9702,393\" style=\"stroke:#181818;stroke-width:1.0;\"/><text fill=\"#000000\" font-family=\"sans-serif\" font-size=\"13\" lengthAdjust=\"spacing\" textLength=\"87\" x=\"55.25\" y=\"274.8069\">«import»*::**</text></a></g><!--MD5=[ca5a752d6098d8a44b3f88316e7452d1]\n",
       "link E3 to E8--><g id=\"link_E3_E8\"><a href=\"psysml:c2b3862a-e64c-4984-9133-ea986cde4555\" target=\"_top\" title=\"psysml:c2b3862a-e64c-4984-9133-ea986cde4555\" xlink:actuate=\"onRequest\" xlink:href=\"psysml:c2b3862a-e64c-4984-9133-ea986cde4555\" xlink:show=\"new\" xlink:title=\"psysml:c2b3862a-e64c-4984-9133-ea986cde4555\" xlink:type=\"simple\"><path d=\"M275,142.79 C275,142.79 275,349.7 275,349.7 \" fill=\"none\" id=\"E3-to-E8\" style=\"stroke:#181818;stroke-width:1.0;\"/><polygon fill=\"#FFFFFF\" points=\"275,369.7,268,350.7,282,350.7,275,369.7\" style=\"stroke:#181818;stroke-width:1.0;\"/><ellipse cx=\"270\" cy=\"345\" fill=\"#181818\" rx=\"2\" ry=\"2\" style=\"stroke:#181818;stroke-width:1.0;\"/><ellipse cx=\"280\" cy=\"345\" fill=\"#181818\" rx=\"2\" ry=\"2\" style=\"stroke:#181818;stroke-width:1.0;\"/></a></g><!--MD5=[15ebcb19ae302d9b601edb458606d402]\n",
       "link E5 to E2--><g id=\"link_E5_E2\"><a href=\"psysml:2e43f05d-56e8-4995-94de-93836f9907a6\" target=\"_top\" title=\"psysml:2e43f05d-56e8-4995-94de-93836f9907a6\" xlink:actuate=\"onRequest\" xlink:href=\"psysml:2e43f05d-56e8-4995-94de-93836f9907a6\" xlink:show=\"new\" xlink:title=\"psysml:2e43f05d-56e8-4995-94de-93836f9907a6\" xlink:type=\"simple\"><path d=\"M73,207.8334 C73,206.8708 73,205.9121 73,204.9577 C73,189.6863 73,175.4894 73,163.3475 C73,139.0638 73,123 73,123 C73,123 85.2,123 97.7813,123 C104.0719,123 110.4578,123 115.4617,123 C115.7745,123 116.0818,123 116.3834,123 C116.5342,123 116.6835,123 116.8314,123 \" fill=\"none\" id=\"E5-to-E2\" style=\"stroke:#181818;stroke-width:1.0;stroke-dasharray:7.0,7.0;\"/><polygon fill=\"#181818\" points=\"116.8314,123,107.8314,119,111.8314,123,107.8314,127,116.8314,123\" style=\"stroke:#181818;stroke-width:1.0;\"/><text fill=\"#000000\" font-family=\"sans-serif\" font-size=\"13\" lengthAdjust=\"spacing\" textLength=\"65\" x=\"7\" y=\"227.6769\">«import»*</text></a></g><!--MD5=[d7bb3fb34add81b710575eb3799fa2ad]\n",
       "link E8 to E4--><g id=\"link_E8_E4\"><a href=\"psysml:6ab4f965-70f0-4435-9c9c-0953ad10c713\" target=\"_top\" title=\"psysml:6ab4f965-70f0-4435-9c9c-0953ad10c713\" xlink:actuate=\"onRequest\" xlink:href=\"psysml:6ab4f965-70f0-4435-9c9c-0953ad10c713\" xlink:show=\"new\" xlink:title=\"psysml:6ab4f965-70f0-4435-9c9c-0953ad10c713\" xlink:type=\"simple\"><path d=\"M220,369.94 C220,369.94 220,165.18 220,165.18 \" fill=\"none\" id=\"E8-to-E4\" style=\"stroke:#181818;stroke-width:1.0;\"/><polygon fill=\"none\" points=\"213,165.18,220,145.18,227,165.18,213,165.18\" style=\"stroke:#181818;stroke-width:1.0;\"/></a></g><!--MD5=[9ea93548ebbbe7510d279e44783541ac]\n",
       "@startuml\r\n",
       "skin sysmlbw\r\n",
       "skinparam monochrome true\r\n",
       "skinparam wrapWidth 300\r\n",
       "hide circle\r\n",
       "skinparam linetype ortho\r\n",
       "skinparam ranksep 10\r\n",
       "skinparam rectangle {\r\n",
       " backgroundColor<<block>> LightGreen\r\n",
       "}\r\n",
       "\r\n",
       "package \"ImportTest\" as E1  [[psysml:257ae3bb-e982-4f23-93ec-21786cef6fd4 ]]  {\r\n",
       "package \"Pkg1\" as E2  [[psysml:d86f8a04-756e-41fe-890d-bee1afc1808f ]]  {\r\n",
       "rec usage \"p11: P211\" as E3 [[psysml:c9f16dae-c47d-4af9-8178-9fb29f2ca8fe ]] {\r\n",
       "}\r\n",
       "rec def \"P12\" as E4  <<(T,blue) part  def>> [[psysml:5a85d6e7-c399-4e25-bc8b-7b1310ff596a ]] {\r\n",
       "}\r\n",
       "}\r\n",
       "package \"Pkg2\" as E5  [[psysml:87b5aefc-a384-45d2-9563-354f132d05b6 ]]  {\r\n",
       "package \"Pkg21\" as E6  [[psysml:74f758db-603d-4dff-97e1-05ce4d0c3ab8 ]]  {\r\n",
       "package \"Pkg211\" as E7  [[psysml:c9292eea-a9ed-4d7d-b554-73a415b23d76 ]]  {\r\n",
       "rec def \"P211\" as E8  <<(T,blue) part  def>> [[psysml:60f2756c-cfe4-4496-b687-ff5dbf9a385d ]] {\r\n",
       "}\r\n",
       "}\r\n",
       "}\r\n",
       "}\r\n",
       "}\r\n",
       "E2 ..> E8 [[psysml:7a09cf9a-4d44-4715-925a-a999429b18c6 ]] : <<import>>\r\n",
       "E2 ..> E6 [[psysml:4d48d5b8-8a2b-403b-a600-382befb1c751 ]] : <<import>>*\r\n",
       "E2 ..> E7 [[psysml:435ffdce-fa99-42b8-aa7d-b79facf9bf9f ]] : <<import>>*::**\r\n",
       "E3 - -:|> E8 [[psysml:c2b3862a-e64c-4984-9133-ea986cde4555 ]] \r\n",
       "E5 ..> E2 [[psysml:2e43f05d-56e8-4995-94de-93836f9907a6 ]] : <<import>>*\r\n",
       "E8 - -|> E4 [[psysml:6ab4f965-70f0-4435-9c9c-0953ad10c713 ]] \r\n",
       "@enduml\r\n",
       "\n",
       "PlantUML version 1.2022.7(Mon Aug 22 17:01:30 UTC 2022)\n",
       "(EPL source distribution)\n",
       "Java Runtime: OpenJDK Runtime Environment\n",
       "JVM: OpenJDK 64-Bit Server VM\n",
       "Default Encoding: UTF-8\n",
       "Language: en\n",
       "Country: null\n",
       "--></g></svg>"
      ]
     },
     "execution_count": 54,
     "metadata": {},
     "output_type": "execute_result"
    }
   ],
   "source": [
    "%viz --style=\"ORTHOLINE\" --view=\"Interconnection\" \"ImportTest\""
   ]
  },
  {
   "cell_type": "code",
   "execution_count": 55,
   "id": "26403821",
   "metadata": {
    "execution": {
     "iopub.execute_input": "2024-12-16T14:16:23.540504Z",
     "iopub.status.busy": "2024-12-16T14:16:23.540276Z",
     "iopub.status.idle": "2024-12-16T14:16:23.544523Z",
     "shell.execute_reply": "2024-12-16T14:16:23.544344Z"
    }
   },
   "outputs": [
    {
     "data": {
      "image/svg+xml": [
       "<?xml version=\"1.0\" encoding=\"UTF-8\" standalone=\"no\"?><svg xmlns=\"http://www.w3.org/2000/svg\" xmlns:xlink=\"http://www.w3.org/1999/xlink\" contentStyleType=\"text/css\" height=\"10px\" preserveAspectRatio=\"none\" style=\"width:10px;height:10px;background:#FFFFFF;\" version=\"1.1\" viewBox=\"0 0 10 10\" width=\"10px\" zoomAndPan=\"magnify\"><defs/><g><!--MD5=[13654d10b9e2b79db36f00fd31e63fb2]\n",
       "@startuml\r\n",
       "skin sysmlbw\r\n",
       "skinparam monochrome true\r\n",
       "skinparam wrapWidth 300\r\n",
       "hide circle\r\n",
       "skinparam linetype ortho\r\n",
       "skinparam ranksep 8\r\n",
       "\r\n",
       "@enduml\r\n",
       "\n",
       "PlantUML version 1.2022.7(Mon Aug 22 17:01:30 UTC 2022)\n",
       "(EPL source distribution)\n",
       "Java Runtime: OpenJDK Runtime Environment\n",
       "JVM: OpenJDK 64-Bit Server VM\n",
       "Default Encoding: UTF-8\n",
       "Language: en\n",
       "Country: null\n",
       "--></g></svg>"
      ]
     },
     "execution_count": 55,
     "metadata": {},
     "output_type": "execute_result"
    }
   ],
   "source": [
    "%viz --style=\"ORTHOLINE\" --view=\"Action\" \"ImportTest\""
   ]
  },
  {
   "cell_type": "code",
   "execution_count": 56,
   "id": "3193f567",
   "metadata": {
    "execution": {
     "iopub.execute_input": "2024-12-16T14:16:23.595678Z",
     "iopub.status.busy": "2024-12-16T14:16:23.595360Z",
     "iopub.status.idle": "2024-12-16T14:16:23.600115Z",
     "shell.execute_reply": "2024-12-16T14:16:23.599938Z"
    }
   },
   "outputs": [
    {
     "data": {
      "image/svg+xml": [
       "<?xml version=\"1.0\" encoding=\"UTF-8\" standalone=\"no\"?><svg xmlns=\"http://www.w3.org/2000/svg\" xmlns:xlink=\"http://www.w3.org/1999/xlink\" contentStyleType=\"text/css\" height=\"10px\" preserveAspectRatio=\"none\" style=\"width:10px;height:10px;background:#FFFFFF;\" version=\"1.1\" viewBox=\"0 0 10 10\" width=\"10px\" zoomAndPan=\"magnify\"><defs/><g><!--MD5=[5b6eb85285460e34b0e63326afe72cc5]\n",
       "@startuml\r\n",
       "skin sysmlbw\r\n",
       "skinparam monochrome true\r\n",
       "skinparam wrapWidth 300\r\n",
       "hide circle\r\n",
       "skinparam linetype ortho\r\n",
       "skinparam roundcorner 20\r\n",
       "skinparam BoxPadding 20\r\n",
       "skinparam SequenceBoxBackgroundColor #white\r\n",
       "skinparam style strictuml\r\n",
       "skinparam maxMessageSize 100\r\n",
       "\r\n",
       "@enduml\r\n",
       "\n",
       "PlantUML version 1.2022.7(Mon Aug 22 17:01:30 UTC 2022)\n",
       "(EPL source distribution)\n",
       "Java Runtime: OpenJDK Runtime Environment\n",
       "JVM: OpenJDK 64-Bit Server VM\n",
       "Default Encoding: UTF-8\n",
       "Language: en\n",
       "Country: null\n",
       "--></g></svg>"
      ]
     },
     "execution_count": 56,
     "metadata": {},
     "output_type": "execute_result"
    }
   ],
   "source": [
    "%viz --style=\"ORTHOLINE\" --view=\"Sequence\" \"ImportTest\""
   ]
  },
  {
   "cell_type": "code",
   "execution_count": 57,
   "id": "82b34dca",
   "metadata": {
    "execution": {
     "iopub.execute_input": "2024-12-16T14:16:23.655769Z",
     "iopub.status.busy": "2024-12-16T14:16:23.655558Z",
     "iopub.status.idle": "2024-12-16T14:16:23.674651Z",
     "shell.execute_reply": "2024-12-16T14:16:23.673589Z"
    }
   },
   "outputs": [
    {
     "data": {
      "image/svg+xml": [
       "<?xml version=\"1.0\" encoding=\"UTF-8\" standalone=\"no\"?><svg xmlns=\"http://www.w3.org/2000/svg\" xmlns:xlink=\"http://www.w3.org/1999/xlink\" contentStyleType=\"text/css\" height=\"564px\" preserveAspectRatio=\"none\" style=\"width:427px;height:564px;background:#FFFFFF;\" version=\"1.1\" viewBox=\"0 0 427 564\" width=\"427px\" zoomAndPan=\"magnify\"><defs/><g><!--MD5=[fbc87193dbaf4d95561dea2c320d4a47]\n",
       "cluster E1--><g id=\"cluster_E1\"><a href=\"psysml:257ae3bb-e982-4f23-93ec-21786cef6fd4\" target=\"_top\" title=\"psysml:257ae3bb-e982-4f23-93ec-21786cef6fd4\" xlink:actuate=\"onRequest\" xlink:href=\"psysml:257ae3bb-e982-4f23-93ec-21786cef6fd4\" xlink:show=\"new\" xlink:title=\"psysml:257ae3bb-e982-4f23-93ec-21786cef6fd4\" xlink:type=\"simple\"><polygon fill=\"none\" points=\"33,6,118.375,6,125.375,28.2969,410,28.2969,410,557,33,557,33,6\" style=\"stroke:#000000;stroke-width:1.5;\"/><line style=\"stroke:#000000;stroke-width:1.5;\" x1=\"33\" x2=\"125.375\" y1=\"28.2969\" y2=\"28.2969\"/><text fill=\"#000000\" font-family=\"sans-serif\" font-size=\"14\" font-weight=\"bold\" lengthAdjust=\"spacing\" textLength=\"79.375\" x=\"37\" y=\"20.9951\">ImportTest</text></a></g><!--MD5=[e4f7fae6ed58524ba242bb0b0d3be6b7]\n",
       "cluster E2--><g id=\"cluster_E2\"><a href=\"psysml:d86f8a04-756e-41fe-890d-bee1afc1808f\" target=\"_top\" title=\"psysml:d86f8a04-756e-41fe-890d-bee1afc1808f\" xlink:actuate=\"onRequest\" xlink:href=\"psysml:d86f8a04-756e-41fe-890d-bee1afc1808f\" xlink:show=\"new\" xlink:title=\"psysml:d86f8a04-756e-41fe-890d-bee1afc1808f\" xlink:type=\"simple\"><polygon fill=\"none\" points=\"116,57,158.75,57,165.75,79.2969,374,79.2969,374,172,116,172,116,57\" style=\"stroke:#000000;stroke-width:1.5;\"/><line style=\"stroke:#000000;stroke-width:1.5;\" x1=\"116\" x2=\"165.75\" y1=\"79.2969\" y2=\"79.2969\"/><text fill=\"#000000\" font-family=\"sans-serif\" font-size=\"14\" font-weight=\"bold\" lengthAdjust=\"spacing\" textLength=\"36.75\" x=\"120\" y=\"71.9951\">Pkg1</text></a></g><!--MD5=[de5ec2e2e8f62f467e546659f5068c88]\n",
       "cluster E5--><g id=\"cluster_E5\"><a href=\"psysml:87b5aefc-a384-45d2-9563-354f132d05b6\" target=\"_top\" title=\"psysml:87b5aefc-a384-45d2-9563-354f132d05b6\" xlink:actuate=\"onRequest\" xlink:href=\"psysml:87b5aefc-a384-45d2-9563-354f132d05b6\" xlink:show=\"new\" xlink:title=\"psysml:87b5aefc-a384-45d2-9563-354f132d05b6\" xlink:type=\"simple\"><polygon fill=\"none\" points=\"65,212,107.75,212,114.75,234.2969,378,234.2969,378,525,65,525,65,212\" style=\"stroke:#000000;stroke-width:1.5;\"/><line style=\"stroke:#000000;stroke-width:1.5;\" x1=\"65\" x2=\"114.75\" y1=\"234.2969\" y2=\"234.2969\"/><text fill=\"#000000\" font-family=\"sans-serif\" font-size=\"14\" font-weight=\"bold\" lengthAdjust=\"spacing\" textLength=\"36.75\" x=\"69\" y=\"226.9951\">Pkg2</text></a></g><!--MD5=[14e3b0961a2654348d326746436168a1]\n",
       "cluster E6--><g id=\"cluster_E6\"><a href=\"psysml:74f758db-603d-4dff-97e1-05ce4d0c3ab8\" target=\"_top\" title=\"psysml:74f758db-603d-4dff-97e1-05ce4d0c3ab8\" xlink:actuate=\"onRequest\" xlink:href=\"psysml:74f758db-603d-4dff-97e1-05ce4d0c3ab8\" xlink:show=\"new\" xlink:title=\"psysml:74f758db-603d-4dff-97e1-05ce4d0c3ab8\" xlink:type=\"simple\"><polygon fill=\"none\" points=\"113,271,165.1875,271,172.1875,293.2969,338,293.2969,338,485,113,485,113,271\" style=\"stroke:#000000;stroke-width:1.5;\"/><line style=\"stroke:#000000;stroke-width:1.5;\" x1=\"113\" x2=\"172.1875\" y1=\"293.2969\" y2=\"293.2969\"/><text fill=\"#000000\" font-family=\"sans-serif\" font-size=\"14\" font-weight=\"bold\" lengthAdjust=\"spacing\" textLength=\"46.1875\" x=\"117\" y=\"285.9951\">Pkg21</text></a></g><!--MD5=[168fadf3d0c3fd93dd5d6da1b1d7ab76]\n",
       "cluster E7--><g id=\"cluster_E7\"><a href=\"psysml:c9292eea-a9ed-4d7d-b554-73a415b23d76\" target=\"_top\" title=\"psysml:c9292eea-a9ed-4d7d-b554-73a415b23d76\" xlink:actuate=\"onRequest\" xlink:href=\"psysml:c9292eea-a9ed-4d7d-b554-73a415b23d76\" xlink:show=\"new\" xlink:title=\"psysml:c9292eea-a9ed-4d7d-b554-73a415b23d76\" xlink:type=\"simple\"><polygon fill=\"none\" points=\"161,330,222.625,330,229.625,352.2969,298,352.2969,298,445,161,445,161,330\" style=\"stroke:#000000;stroke-width:1.5;\"/><line style=\"stroke:#000000;stroke-width:1.5;\" x1=\"161\" x2=\"229.625\" y1=\"352.2969\" y2=\"352.2969\"/><text fill=\"#000000\" font-family=\"sans-serif\" font-size=\"14\" font-weight=\"bold\" lengthAdjust=\"spacing\" textLength=\"55.625\" x=\"165\" y=\"344.9951\">Pkg211</text></a></g><!--MD5=[09b614a08d8cba4a07c9adeb5e0fee81]\n",
       "class E3--><a href=\"psysml:c9f16dae-c47d-4af9-8178-9fb29f2ca8fe\" target=\"_top\" title=\"psysml:c9f16dae-c47d-4af9-8178-9fb29f2ca8fe\" xlink:actuate=\"onRequest\" xlink:href=\"psysml:c9f16dae-c47d-4af9-8178-9fb29f2ca8fe\" xlink:show=\"new\" xlink:title=\"psysml:c9f16dae-c47d-4af9-8178-9fb29f2ca8fe\" xlink:type=\"simple\"><g id=\"elem_E3\"><rect fill=\"#FFFFFF\" height=\"48.2656\" id=\"E3\" rx=\"10\" ry=\"10\" style=\"stroke:#181818;stroke-width:0.5;\" width=\"86\" x=\"264\" y=\"100\"/><text fill=\"#000000\" font-family=\"sans-serif\" font-size=\"12\" font-style=\"italic\" lengthAdjust=\"spacing\" textLength=\"40\" x=\"287\" y=\"116.1387\">«part»</text><text fill=\"#000000\" font-family=\"sans-serif\" font-size=\"14\" lengthAdjust=\"spacing\" textLength=\"72\" x=\"267\" y=\"131.9639\">p11: P211</text><line style=\"stroke:#181818;stroke-width:0.5;\" x1=\"265\" x2=\"349\" y1=\"140.2656\" y2=\"140.2656\"/></g></a><!--MD5=[ebbe1d658d1005bcc118a6aa81145e00]\n",
       "class E4--><a href=\"psysml:5a85d6e7-c399-4e25-bc8b-7b1310ff596a\" target=\"_top\" title=\"psysml:5a85d6e7-c399-4e25-bc8b-7b1310ff596a\" xlink:actuate=\"onRequest\" xlink:href=\"psysml:5a85d6e7-c399-4e25-bc8b-7b1310ff596a\" xlink:show=\"new\" xlink:title=\"psysml:5a85d6e7-c399-4e25-bc8b-7b1310ff596a\" xlink:type=\"simple\"><g id=\"elem_E4\"><rect fill=\"#FFFFFF\" height=\"48.2656\" id=\"E4\" style=\"stroke:#181818;stroke-width:0.5;\" width=\"70\" x=\"159\" y=\"100\"/><text fill=\"#000000\" font-family=\"sans-serif\" font-size=\"12\" font-style=\"italic\" lengthAdjust=\"spacing\" textLength=\"68\" x=\"160\" y=\"116.1387\">«part  def»</text><text fill=\"#000000\" font-family=\"sans-serif\" font-size=\"14\" lengthAdjust=\"spacing\" textLength=\"27\" x=\"180.5\" y=\"131.9639\">P12</text><line style=\"stroke:#181818;stroke-width:0.5;\" x1=\"160\" x2=\"228\" y1=\"140.2656\" y2=\"140.2656\"/></g></a><!--MD5=[b9389687b975829384b498ac4b7476b2]\n",
       "class E8--><a href=\"psysml:60f2756c-cfe4-4496-b687-ff5dbf9a385d\" target=\"_top\" title=\"psysml:60f2756c-cfe4-4496-b687-ff5dbf9a385d\" xlink:actuate=\"onRequest\" xlink:href=\"psysml:60f2756c-cfe4-4496-b687-ff5dbf9a385d\" xlink:show=\"new\" xlink:title=\"psysml:60f2756c-cfe4-4496-b687-ff5dbf9a385d\" xlink:type=\"simple\"><g id=\"elem_E8\"><rect fill=\"#FFFFFF\" height=\"48.2656\" id=\"E8\" style=\"stroke:#181818;stroke-width:0.5;\" width=\"70\" x=\"204\" y=\"373\"/><text fill=\"#000000\" font-family=\"sans-serif\" font-size=\"12\" font-style=\"italic\" lengthAdjust=\"spacing\" textLength=\"68\" x=\"205\" y=\"389.1387\">«part  def»</text><text fill=\"#000000\" font-family=\"sans-serif\" font-size=\"14\" lengthAdjust=\"spacing\" textLength=\"36\" x=\"221\" y=\"404.9639\">P211</text><line style=\"stroke:#181818;stroke-width:0.5;\" x1=\"205\" x2=\"273\" y1=\"413.2656\" y2=\"413.2656\"/></g></a><!--MD5=[b0060bfdb0500b904584095522b4da3c]\n",
       "link E2 to E8--><g id=\"link_E2_E8\"><a href=\"psysml:7a09cf9a-4d44-4715-925a-a999429b18c6\" target=\"_top\" title=\"psysml:7a09cf9a-4d44-4715-925a-a999429b18c6\" xlink:actuate=\"onRequest\" xlink:href=\"psysml:7a09cf9a-4d44-4715-925a-a999429b18c6\" xlink:show=\"new\" xlink:title=\"psysml:7a09cf9a-4d44-4715-925a-a999429b18c6\" xlink:type=\"simple\"><path d=\"M246.5,172.4321 C246.5,189.1787 246.5,207.0419 246.5,224.905 C246.5,296.3575 246.5,367.81 246.5,367.81 \" fill=\"none\" id=\"E2-to-E8\" style=\"stroke:#181818;stroke-width:1.0;stroke-dasharray:7.0,7.0;\"/><polygon fill=\"#181818\" points=\"246.5,372.81,250.5,363.81,246.5,367.81,242.5,363.81,246.5,372.81\" style=\"stroke:#181818;stroke-width:1.0;\"/><text fill=\"#000000\" font-family=\"sans-serif\" font-size=\"13\" lengthAdjust=\"spacing\" textLength=\"58\" x=\"217.5\" y=\"155.9569\">«import»</text></a></g><!--MD5=[e3e28c1befcf002155aa15e1416b4315]\n",
       "link E2 to E6--><g id=\"link_E2_E6\"><a href=\"psysml:4d48d5b8-8a2b-403b-a600-382befb1c751\" target=\"_top\" title=\"psysml:4d48d5b8-8a2b-403b-a600-382befb1c751\" xlink:actuate=\"onRequest\" xlink:href=\"psysml:4d48d5b8-8a2b-403b-a600-382befb1c751\" xlink:show=\"new\" xlink:title=\"psysml:4d48d5b8-8a2b-403b-a600-382befb1c751\" xlink:type=\"simple\"><path d=\"M124,172.3517 C124,198.5722 124,232.3844 124,265.8138 C124,266.8584 124,267.9027 124,268.9464 C124,269.4682 124,269.9899 124,270.5114 \" fill=\"none\" id=\"E2-to-E6\" style=\"stroke:#181818;stroke-width:1.0;stroke-dasharray:7.0,7.0;\"/><polygon fill=\"#181818\" points=\"124,270.5114,128,261.5114,124,265.5114,120,261.5114,124,270.5114\" style=\"stroke:#181818;stroke-width:1.0;\"/><text fill=\"#000000\" font-family=\"sans-serif\" font-size=\"13\" lengthAdjust=\"spacing\" textLength=\"65\" x=\"58\" y=\"258.7269\">«import»*</text></a></g><!--MD5=[e3d2a08a9c9236652057e8ed0cbc9b62]\n",
       "link E2 to E7--><g id=\"link_E2_E7\"><a href=\"psysml:435ffdce-fa99-42b8-aa7d-b79facf9bf9f\" target=\"_top\" title=\"psysml:435ffdce-fa99-42b8-aa7d-b79facf9bf9f\" xlink:actuate=\"onRequest\" xlink:href=\"psysml:435ffdce-fa99-42b8-aa7d-b79facf9bf9f\" xlink:show=\"new\" xlink:title=\"psysml:435ffdce-fa99-42b8-aa7d-b79facf9bf9f\" xlink:type=\"simple\"><path d=\"M142,172.8069 C142,173.2268 142,173.6487 142,174.0724 C142,174.9199 142,175.7749 142,176.6371 C142,180.0863 142,183.6521 142,187.3179 C142,194.6494 142,202.3809 142,210.3789 C142,226.375 142,243.4375 142,260.5 C142,328.75 142,397 142,397 C142,397 147.5425,397 153.605,397 C155.1206,397 156.6688,397 158.1709,397 C158.922,397 159.6616,397 160.3798,397 C160.5594,397 160.7376,397 160.9144,397 \" fill=\"none\" id=\"E2-to-E7\" style=\"stroke:#181818;stroke-width:1.0;stroke-dasharray:7.0,7.0;\"/><polygon fill=\"#181818\" points=\"160.9144,397,151.9144,393,155.9144,397,151.9144,401,160.9144,397\" style=\"stroke:#181818;stroke-width:1.0;\"/><text fill=\"#000000\" font-family=\"sans-serif\" font-size=\"13\" lengthAdjust=\"spacing\" textLength=\"87\" x=\"54\" y=\"277.9569\">«import»*::**</text></a></g><!--MD5=[ca5a752d6098d8a44b3f88316e7452d1]\n",
       "link E3 to E8--><g id=\"link_E3_E8\"><a href=\"psysml:c2b3862a-e64c-4984-9133-ea986cde4555\" target=\"_top\" title=\"psysml:c2b3862a-e64c-4984-9133-ea986cde4555\" xlink:actuate=\"onRequest\" xlink:href=\"psysml:c2b3862a-e64c-4984-9133-ea986cde4555\" xlink:show=\"new\" xlink:title=\"psysml:c2b3862a-e64c-4984-9133-ea986cde4555\" xlink:type=\"simple\"><path d=\"M269,148.23 C269,148.23 269,352.83 269,352.83 \" fill=\"none\" id=\"E3-to-E8\" style=\"stroke:#181818;stroke-width:1.0;\"/><polygon fill=\"#FFFFFF\" points=\"269,372.83,262,353.83,276,353.83,269,372.83\" style=\"stroke:#181818;stroke-width:1.0;\"/><ellipse cx=\"264\" cy=\"348.13\" fill=\"#181818\" rx=\"2\" ry=\"2\" style=\"stroke:#181818;stroke-width:1.0;\"/><ellipse cx=\"274\" cy=\"348.13\" fill=\"#181818\" rx=\"2\" ry=\"2\" style=\"stroke:#181818;stroke-width:1.0;\"/></a></g><!--MD5=[15ebcb19ae302d9b601edb458606d402]\n",
       "link E5 to E2--><g id=\"link_E5_E2\"><a href=\"psysml:2e43f05d-56e8-4995-94de-93836f9907a6\" target=\"_top\" title=\"psysml:2e43f05d-56e8-4995-94de-93836f9907a6\" xlink:actuate=\"onRequest\" xlink:href=\"psysml:2e43f05d-56e8-4995-94de-93836f9907a6\" xlink:show=\"new\" xlink:title=\"psysml:2e43f05d-56e8-4995-94de-93836f9907a6\" xlink:type=\"simple\"><path d=\"M73,211.3989 C73,210.9094 73,210.4209 73,209.9333 C73,208.9582 73,207.9871 73,207.0203 C73,191.5507 73,177.1698 73,164.8705 C73,140.2719 73,124 73,124 C73,124 84.205,124 96.1113,124 C102.0644,124 108.1928,124 113.1836,124 C113.8074,124 114.4135,124 114.9992,124 C115.2921,124 115.5799,124 115.8623,124 \" fill=\"none\" id=\"E5-to-E2\" style=\"stroke:#181818;stroke-width:1.0;stroke-dasharray:7.0,7.0;\"/><polygon fill=\"#181818\" points=\"115.8623,124,106.8623,120,110.8623,124,106.8623,128,115.8623,124\" style=\"stroke:#181818;stroke-width:1.0;\"/><text fill=\"#000000\" font-family=\"sans-serif\" font-size=\"13\" lengthAdjust=\"spacing\" textLength=\"65\" x=\"7\" y=\"231.1269\">«import»*</text></a></g><!--MD5=[d7bb3fb34add81b710575eb3799fa2ad]\n",
       "link E8 to E4--><g id=\"link_E8_E4\"><a href=\"psysml:6ab4f965-70f0-4435-9c9c-0953ad10c713\" target=\"_top\" title=\"psysml:6ab4f965-70f0-4435-9c9c-0953ad10c713\" xlink:actuate=\"onRequest\" xlink:href=\"psysml:6ab4f965-70f0-4435-9c9c-0953ad10c713\" xlink:show=\"new\" xlink:title=\"psysml:6ab4f965-70f0-4435-9c9c-0953ad10c713\" xlink:type=\"simple\"><path d=\"M216.5,372.77 C216.5,372.77 216.5,168.17 216.5,168.17 \" fill=\"none\" id=\"E8-to-E4\" style=\"stroke:#181818;stroke-width:1.0;\"/><polygon fill=\"none\" points=\"209.5,168.17,216.5,148.17,223.5,168.17,209.5,168.17\" style=\"stroke:#181818;stroke-width:1.0;\"/></a></g><!--MD5=[543383e77a5fd05332aa8d099e9be9ff]\n",
       "@startuml\r\n",
       "skin sysmlbw\r\n",
       "skinparam monochrome true\r\n",
       "skinparam wrapWidth 300\r\n",
       "hide circle\r\n",
       "skinparam linetype ortho\r\n",
       "\r\n",
       "package \"ImportTest\" as E1  [[psysml:257ae3bb-e982-4f23-93ec-21786cef6fd4 ]]  {\r\n",
       "package \"Pkg1\" as E2  [[psysml:d86f8a04-756e-41fe-890d-bee1afc1808f ]]  {\r\n",
       "comp usage \"p11: P211  \" as E3  <<(T,blue) part>> [[psysml:c9f16dae-c47d-4af9-8178-9fb29f2ca8fe ]] {\r\n",
       "}\r\n",
       "comp def \"P12\" as E4  <<(T,blue) part  def>> [[psysml:5a85d6e7-c399-4e25-bc8b-7b1310ff596a ]] {\r\n",
       "}\r\n",
       "}\r\n",
       "package \"Pkg2\" as E5  [[psysml:87b5aefc-a384-45d2-9563-354f132d05b6 ]]  {\r\n",
       "package \"Pkg21\" as E6  [[psysml:74f758db-603d-4dff-97e1-05ce4d0c3ab8 ]]  {\r\n",
       "package \"Pkg211\" as E7  [[psysml:c9292eea-a9ed-4d7d-b554-73a415b23d76 ]]  {\r\n",
       "comp def \"P211\" as E8  <<(T,blue) part  def>> [[psysml:60f2756c-cfe4-4496-b687-ff5dbf9a385d ]] {\r\n",
       "}\r\n",
       "}\r\n",
       "}\r\n",
       "}\r\n",
       "}\r\n",
       "E2 ..> E8 [[psysml:7a09cf9a-4d44-4715-925a-a999429b18c6 ]] : <<import>>\r\n",
       "E2 ..> E6 [[psysml:4d48d5b8-8a2b-403b-a600-382befb1c751 ]] : <<import>>*\r\n",
       "E2 ..> E7 [[psysml:435ffdce-fa99-42b8-aa7d-b79facf9bf9f ]] : <<import>>*::**\r\n",
       "E3 - -:|> E8 [[psysml:c2b3862a-e64c-4984-9133-ea986cde4555 ]] \r\n",
       "E5 ..> E2 [[psysml:2e43f05d-56e8-4995-94de-93836f9907a6 ]] : <<import>>*\r\n",
       "E8 - -|> E4 [[psysml:6ab4f965-70f0-4435-9c9c-0953ad10c713 ]] \r\n",
       "@enduml\r\n",
       "\n",
       "PlantUML version 1.2022.7(Mon Aug 22 17:01:30 UTC 2022)\n",
       "(EPL source distribution)\n",
       "Java Runtime: OpenJDK Runtime Environment\n",
       "JVM: OpenJDK 64-Bit Server VM\n",
       "Default Encoding: UTF-8\n",
       "Language: en\n",
       "Country: null\n",
       "--></g></svg>"
      ]
     },
     "execution_count": 57,
     "metadata": {},
     "output_type": "execute_result"
    }
   ],
   "source": [
    "%viz --style=\"ORTHOLINE\" --view=\"MIXED\" \"ImportTest\""
   ]
  }
 ],
 "metadata": {
  "kernelspec": {
   "display_name": "SysML",
   "language": "sysml",
   "name": "sysml"
  },
  "language_info": {
   "codemirror_mode": "sysml",
   "file_extension": ".sysml",
   "mimetype": "text/x-sysml",
   "name": "SysML",
   "pygments_lexer": "java",
   "version": "1.0.0"
  }
 },
 "nbformat": 4,
 "nbformat_minor": 5
}
