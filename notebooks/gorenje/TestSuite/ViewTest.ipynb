{
 "cells": [
  {
   "cell_type": "markdown",
   "id": "regular-mustang",
   "metadata": {},
   "source": [
    "# SysML v2 Test Suite\n",
    "\n",
    "This can notebook can be cleared using menu `Edit --> Clear All Outputs` and then all cells can be\n",
    "run using menu `Run --> Run All Cells`.\n",
    "\n",
    "**WARNING**: This file is generated, all modifications here will be ignored.\n"
   ]
  },
  {
   "cell_type": "markdown",
   "id": "identical-plane",
   "metadata": {},
   "source": [
    "## File: ../../sysml/src/examples/Simple Tests/ViewTest.sysml"
   ]
  },
  {
   "cell_type": "code",
   "execution_count": 1,
   "id": "organizational-throw",
   "metadata": {
    "execution": {
     "iopub.execute_input": "2021-03-24T16:32:09.755899Z",
     "iopub.status.busy": "2021-03-24T16:32:09.755427Z",
     "iopub.status.idle": "2021-03-24T16:32:10.011281Z",
     "shell.execute_reply": "2021-03-24T16:32:10.010838Z"
    }
   },
   "outputs": [
    {
     "data": {
      "text/plain": [
       "Package ViewTest (51b95ead-791f-4413-aed7-63b1184dc7f8)\n"
      ]
     },
     "execution_count": 1,
     "metadata": {},
     "output_type": "execute_result"
    }
   ],
   "source": [
    "package ViewTest {\n",
    "\tpackage P;\n",
    "\t\n",
    "\tviewpoint def VP;\n",
    "\trendering def R;\n",
    "\t\n",
    "\tview def V {\n",
    "\t\tviewpoint vp: VP;\n",
    "\t\trendering r: R[0..1]; \n",
    "\t\t\n",
    "\t\tview v: V[0..*] {\n",
    "\t\t\texpose P::*;\n",
    "\t\t\trendering r1;\n",
    "\t\t}\n",
    "\t}\n",
    "\n",
    "}"
   ]
  },
  {
   "cell_type": "code",
   "execution_count": 2,
   "id": "prompt-louis",
   "metadata": {
    "execution": {
     "iopub.execute_input": "2021-03-24T16:32:10.062875Z",
     "iopub.status.busy": "2021-03-24T16:32:10.062401Z",
     "iopub.status.idle": "2021-03-24T16:32:10.676224Z",
     "shell.execute_reply": "2021-03-24T16:32:10.676641Z"
    }
   },
   "outputs": [
    {
     "data": {
      "image/svg+xml": [
       "<?xml version=\"1.0\" encoding=\"UTF-8\" standalone=\"no\"?><svg xmlns=\"http://www.w3.org/2000/svg\" xmlns:xlink=\"http://www.w3.org/1999/xlink\" contentScriptType=\"application/ecmascript\" contentStyleType=\"text/css\" height=\"334px\" preserveAspectRatio=\"none\" style=\"width:417px;height:334px;\" version=\"1.1\" viewBox=\"0 0 417 334\" width=\"417px\" zoomAndPan=\"magnify\"><defs/><g><!--MD5=[fbc87193dbaf4d95561dea2c320d4a47]\n",
       "cluster E1--><a href=\"psysml:fb02ed11-6398-4cea-b135-53d0cca9c478\" target=\"_top\" title=\"psysml:fb02ed11-6398-4cea-b135-53d0cca9c478\" xlink:actuate=\"onRequest\" xlink:href=\"psysml:fb02ed11-6398-4cea-b135-53d0cca9c478\" xlink:show=\"new\" xlink:title=\"psysml:fb02ed11-6398-4cea-b135-53d0cca9c478\" xlink:type=\"simple\"><polygon fill=\"#FFFFFF\" points=\"16,6,96,6,103,28.2969,395,28.2969,395,322,16,322,16,6\" style=\"stroke: #000000; stroke-width: 1.5;\"/><line style=\"stroke: #000000; stroke-width: 1.5;\" x1=\"16\" x2=\"103\" y1=\"28.2969\" y2=\"28.2969\"/><text fill=\"#000000\" font-family=\"sans-serif\" font-size=\"14\" font-weight=\"bold\" lengthAdjust=\"spacingAndGlyphs\" textLength=\"74\" x=\"20\" y=\"20.9951\">ViewTest</text></a><!--MD5=[09b614a08d8cba4a07c9adeb5e0fee81]\n",
       "class E3--><a href=\"psysml:436e526f-0cc5-474d-8f19-4580d940df20\" target=\"_top\" title=\"psysml:436e526f-0cc5-474d-8f19-4580d940df20\" xlink:actuate=\"onRequest\" xlink:href=\"psysml:436e526f-0cc5-474d-8f19-4580d940df20\" xlink:show=\"new\" xlink:title=\"psysml:436e526f-0cc5-474d-8f19-4580d940df20\" xlink:type=\"simple\"><rect fill=\"#FFFFFF\" height=\"45.9375\" id=\"E3\" style=\"stroke: #383838; stroke-width: 1.5;\" width=\"98\" x=\"32\" y=\"260\"/><text fill=\"#000000\" font-family=\"sans-serif\" font-size=\"12\" font-style=\"italic\" lengthAdjust=\"spacingAndGlyphs\" textLength=\"96\" x=\"33\" y=\"276.1387\">«viewpoint def»</text><text fill=\"#000000\" font-family=\"sans-serif\" font-size=\"12\" lengthAdjust=\"spacingAndGlyphs\" textLength=\"16\" x=\"73\" y=\"290.1074\">VP</text><line style=\"stroke: #383838; stroke-width: 1.5;\" x1=\"33\" x2=\"129\" y1=\"297.9375\" y2=\"297.9375\"/></a><!--MD5=[ebbe1d658d1005bcc118a6aa81145e00]\n",
       "class E4--><a href=\"psysml:053dc08e-a8e7-4770-acc6-30068883d6d6\" target=\"_top\" title=\"psysml:053dc08e-a8e7-4770-acc6-30068883d6d6\" xlink:actuate=\"onRequest\" xlink:href=\"psysml:053dc08e-a8e7-4770-acc6-30068883d6d6\" xlink:show=\"new\" xlink:title=\"psysml:053dc08e-a8e7-4770-acc6-30068883d6d6\" xlink:type=\"simple\"><rect fill=\"#FFFFFF\" height=\"45.9375\" id=\"E4\" style=\"stroke: #383838; stroke-width: 1.5;\" width=\"101\" x=\"165.5\" y=\"260\"/><text fill=\"#000000\" font-family=\"sans-serif\" font-size=\"12\" font-style=\"italic\" lengthAdjust=\"spacingAndGlyphs\" textLength=\"99\" x=\"166.5\" y=\"276.1387\">«rendering def»</text><text fill=\"#000000\" font-family=\"sans-serif\" font-size=\"12\" lengthAdjust=\"spacingAndGlyphs\" textLength=\"8\" x=\"212\" y=\"290.1074\">R</text><line style=\"stroke: #383838; stroke-width: 1.5;\" x1=\"166.5\" x2=\"265.5\" y1=\"297.9375\" y2=\"297.9375\"/></a><!--MD5=[270fce915f116d4de14055a7c1d9a0f3]\n",
       "class E5--><a href=\"psysml:2fa1d21f-0378-4832-ab0e-3c490c491fc9\" target=\"_top\" title=\"psysml:2fa1d21f-0378-4832-ab0e-3c490c491fc9\" xlink:actuate=\"onRequest\" xlink:href=\"psysml:2fa1d21f-0378-4832-ab0e-3c490c491fc9\" xlink:show=\"new\" xlink:title=\"psysml:2fa1d21f-0378-4832-ab0e-3c490c491fc9\" xlink:type=\"simple\"><rect fill=\"#FFFFFF\" height=\"45.9375\" id=\"E5\" style=\"stroke: #383838; stroke-width: 1.5;\" width=\"66\" x=\"230\" y=\"44.5\"/><text fill=\"#000000\" font-family=\"sans-serif\" font-size=\"12\" font-style=\"italic\" lengthAdjust=\"spacingAndGlyphs\" textLength=\"64\" x=\"231\" y=\"60.6387\">«view def»</text><text fill=\"#000000\" font-family=\"sans-serif\" font-size=\"12\" lengthAdjust=\"spacingAndGlyphs\" textLength=\"8\" x=\"259\" y=\"74.6074\">V</text><line style=\"stroke: #383838; stroke-width: 1.5;\" x1=\"231\" x2=\"295\" y1=\"82.4375\" y2=\"82.4375\"/></a><!--MD5=[60a26617385b1d2d0262a64233df1f8d]\n",
       "class E6--><a href=\"psysml:b39da276-6b98-4aad-85bf-f9ecfc55683d\" target=\"_top\" title=\"psysml:b39da276-6b98-4aad-85bf-f9ecfc55683d\" xlink:actuate=\"onRequest\" xlink:href=\"psysml:b39da276-6b98-4aad-85bf-f9ecfc55683d\" xlink:show=\"new\" xlink:title=\"psysml:b39da276-6b98-4aad-85bf-f9ecfc55683d\" xlink:type=\"simple\"><rect fill=\"#FFFFFF\" height=\"45.9375\" id=\"E6\" rx=\"10\" ry=\"10\" style=\"stroke: #383838; stroke-width: 1.5;\" width=\"74\" x=\"56\" y=\"154\"/><text fill=\"#000000\" font-family=\"sans-serif\" font-size=\"12\" font-style=\"italic\" lengthAdjust=\"spacingAndGlyphs\" textLength=\"72\" x=\"57\" y=\"170.1387\">«viewpoint»</text><text fill=\"#000000\" font-family=\"sans-serif\" font-size=\"12\" lengthAdjust=\"spacingAndGlyphs\" textLength=\"38\" x=\"74\" y=\"184.1074\">vp: VP</text><line style=\"stroke: #383838; stroke-width: 1.5;\" x1=\"57\" x2=\"129\" y1=\"191.9375\" y2=\"191.9375\"/></a><!--MD5=[2156ba9850f5573cc1fc38a6a4b2f02b]\n",
       "class E7--><a href=\"psysml:5db0ac38-23f9-426f-a666-7fa33ad35708\" target=\"_top\" title=\"psysml:5db0ac38-23f9-426f-a666-7fa33ad35708\" xlink:actuate=\"onRequest\" xlink:href=\"psysml:5db0ac38-23f9-426f-a666-7fa33ad35708\" xlink:show=\"new\" xlink:title=\"psysml:5db0ac38-23f9-426f-a666-7fa33ad35708\" xlink:type=\"simple\"><rect fill=\"#FFFFFF\" height=\"45.9375\" id=\"E7\" rx=\"10\" ry=\"10\" style=\"stroke: #383838; stroke-width: 1.5;\" width=\"77\" x=\"177.5\" y=\"154\"/><text fill=\"#000000\" font-family=\"sans-serif\" font-size=\"12\" font-style=\"italic\" lengthAdjust=\"spacingAndGlyphs\" textLength=\"75\" x=\"178.5\" y=\"170.1387\">«rendering»</text><text fill=\"#000000\" font-family=\"sans-serif\" font-size=\"12\" lengthAdjust=\"spacingAndGlyphs\" textLength=\"21\" x=\"205.5\" y=\"184.1074\">r: R</text><line style=\"stroke: #383838; stroke-width: 1.5;\" x1=\"178.5\" x2=\"253.5\" y1=\"191.9375\" y2=\"191.9375\"/></a><!--MD5=[b9389687b975829384b498ac4b7476b2]\n",
       "class E8--><a href=\"psysml:96dfc0dc-2946-48da-b50d-9c346f08b52f\" target=\"_top\" title=\"psysml:96dfc0dc-2946-48da-b50d-9c346f08b52f\" xlink:actuate=\"onRequest\" xlink:href=\"psysml:96dfc0dc-2946-48da-b50d-9c346f08b52f\" xlink:show=\"new\" xlink:title=\"psysml:96dfc0dc-2946-48da-b50d-9c346f08b52f\" xlink:type=\"simple\"><rect fill=\"#FFFFFF\" height=\"45.9375\" id=\"E8\" rx=\"10\" ry=\"10\" style=\"stroke: #383838; stroke-width: 1.5;\" width=\"42\" x=\"290\" y=\"154\"/><text fill=\"#000000\" font-family=\"sans-serif\" font-size=\"12\" font-style=\"italic\" lengthAdjust=\"spacingAndGlyphs\" textLength=\"40\" x=\"291\" y=\"170.1387\">«view»</text><text fill=\"#000000\" font-family=\"sans-serif\" font-size=\"12\" lengthAdjust=\"spacingAndGlyphs\" textLength=\"22\" x=\"300\" y=\"184.1074\">v: V</text><line style=\"stroke: #383838; stroke-width: 1.5;\" x1=\"291\" x2=\"331\" y1=\"191.9375\" y2=\"191.9375\"/></a><!--MD5=[fd4143e9d270a159db93a4ea2a975926]\n",
       "class E9--><a href=\"psysml:fc5eb428-4a03-41d1-992b-aff2a13d3fb9\" target=\"_top\" title=\"psysml:fc5eb428-4a03-41d1-992b-aff2a13d3fb9\" xlink:actuate=\"onRequest\" xlink:href=\"psysml:fc5eb428-4a03-41d1-992b-aff2a13d3fb9\" xlink:show=\"new\" xlink:title=\"psysml:fc5eb428-4a03-41d1-992b-aff2a13d3fb9\" xlink:type=\"simple\"><rect fill=\"#FFFFFF\" height=\"45.9375\" id=\"E9\" rx=\"10\" ry=\"10\" style=\"stroke: #383838; stroke-width: 1.5;\" width=\"77\" x=\"301.5\" y=\"260\"/><text fill=\"#000000\" font-family=\"sans-serif\" font-size=\"12\" font-style=\"italic\" lengthAdjust=\"spacingAndGlyphs\" textLength=\"75\" x=\"302.5\" y=\"276.1387\">«rendering»</text><text fill=\"#000000\" font-family=\"sans-serif\" font-size=\"12\" lengthAdjust=\"spacingAndGlyphs\" textLength=\"13\" x=\"333.5\" y=\"290.1074\">r1</text><line style=\"stroke: #383838; stroke-width: 1.5;\" x1=\"302.5\" x2=\"377.5\" y1=\"297.9375\" y2=\"297.9375\"/></a><a href=\"psysml:6d9f5c34-02db-4c22-b8ae-ed1a072d5ac7\" target=\"_top\" title=\"psysml:6d9f5c34-02db-4c22-b8ae-ed1a072d5ac7\" xlink:actuate=\"onRequest\" xlink:href=\"psysml:6d9f5c34-02db-4c22-b8ae-ed1a072d5ac7\" xlink:show=\"new\" xlink:title=\"psysml:6d9f5c34-02db-4c22-b8ae-ed1a072d5ac7\" xlink:type=\"simple\"><polygon fill=\"#FFFFFF\" points=\"122,41,138,41,145,63.2969,152,63.2969,152,93.5938,122,93.5938,122,41\" style=\"stroke: #000000; stroke-width: 1.5;\"/><line style=\"stroke: #000000; stroke-width: 1.5;\" x1=\"122\" x2=\"145\" y1=\"63.2969\" y2=\"63.2969\"/><text fill=\"#000000\" font-family=\"sans-serif\" font-size=\"14\" font-weight=\"bold\" lengthAdjust=\"spacingAndGlyphs\" textLength=\"10\" x=\"126\" y=\"55.9951\">P</text></a><!--MD5=[85d356282659285ab4b2cfe2f634dd2b]\n",
       "reverse link E5 to E6--><a href=\"psysml:b39da276-6b98-4aad-85bf-f9ecfc55683d\" target=\"_top\" title=\"psysml:b39da276-6b98-4aad-85bf-f9ecfc55683d\" xlink:actuate=\"onRequest\" xlink:href=\"psysml:b39da276-6b98-4aad-85bf-f9ecfc55683d\" xlink:show=\"new\" xlink:title=\"psysml:b39da276-6b98-4aad-85bf-f9ecfc55683d\" xlink:type=\"simple\"><path d=\"M218.61,96.57 C190.28,114.48 154.1,137.36 127.85,153.96 \" fill=\"none\" id=\"E5&lt;-E6\" style=\"stroke: #383838; stroke-width: 1.0;\"/><polygon fill=\"#383838\" points=\"229.82,89.48,222.6111,89.2999,219.6723,95.8849,226.8811,96.0651,229.82,89.48\" style=\"stroke: #383838; stroke-width: 1.0;\"/></a><!--MD5=[a717450b82c80b9240a525fa862496af]\n",
       "link E6 to E3--><a href=\"psysml:7b3d769f-4c56-4413-aa9f-0104e9507d6b\" target=\"_top\" title=\"psysml:7b3d769f-4c56-4413-aa9f-0104e9507d6b\" xlink:actuate=\"onRequest\" xlink:href=\"psysml:7b3d769f-4c56-4413-aa9f-0104e9507d6b\" xlink:show=\"new\" xlink:title=\"psysml:7b3d769f-4c56-4413-aa9f-0104e9507d6b\" xlink:type=\"simple\"><path d=\"M90.46,200.06 C89.12,211.64 87.44,226.23 85.86,239.87 \" fill=\"none\" id=\"E6-&gt;E3\" style=\"stroke: #383838; stroke-width: 1.0;\"/><polygon fill=\"#FFFFFF\" points=\"83.54,259.98,78.757,240.3046,92.6653,241.9044,83.54,259.98\" style=\"stroke: #383838; stroke-width: 1.0;\"/><ellipse cx=\"81.3953\" cy=\"234.8704\" fill=\"#383838\" rx=\"2\" ry=\"2\" style=\"stroke: #383838; stroke-width: 1.0;\"/><ellipse cx=\"91.3298\" cy=\"236.0132\" fill=\"#383838\" rx=\"2\" ry=\"2\" style=\"stroke: #383838; stroke-width: 1.0;\"/></a><!--MD5=[6bdd27f9905911a7e892a3dc65cf6b7c]\n",
       "link E7 to E4--><a href=\"psysml:f768404d-501b-4614-8ab9-e2515f32fafd\" target=\"_top\" title=\"psysml:f768404d-501b-4614-8ab9-e2515f32fafd\" xlink:actuate=\"onRequest\" xlink:href=\"psysml:f768404d-501b-4614-8ab9-e2515f32fafd\" xlink:show=\"new\" xlink:title=\"psysml:f768404d-501b-4614-8ab9-e2515f32fafd\" xlink:type=\"simple\"><path d=\"M216,200.06 C216,211.64 216,226.23 216,239.87 \" fill=\"none\" id=\"E7-&gt;E4\" style=\"stroke: #383838; stroke-width: 1.0;\"/><polygon fill=\"#FFFFFF\" points=\"216,259.98,209,240.98,223,240.98,216,259.98\" style=\"stroke: #383838; stroke-width: 1.0;\"/><ellipse cx=\"211\" cy=\"235.28\" fill=\"#383838\" rx=\"2\" ry=\"2\" style=\"stroke: #383838; stroke-width: 1.0;\"/><ellipse cx=\"221\" cy=\"235.28\" fill=\"#383838\" rx=\"2\" ry=\"2\" style=\"stroke: #383838; stroke-width: 1.0;\"/></a><!--MD5=[452b418e7f8a40397a49b8c0a78acc5b]\n",
       "reverse link E5 to E7--><a href=\"psysml:5db0ac38-23f9-426f-a666-7fa33ad35708\" target=\"_top\" title=\"psysml:5db0ac38-23f9-426f-a666-7fa33ad35708\" xlink:actuate=\"onRequest\" xlink:href=\"psysml:5db0ac38-23f9-426f-a666-7fa33ad35708\" xlink:show=\"new\" xlink:title=\"psysml:5db0ac38-23f9-426f-a666-7fa33ad35708\" xlink:type=\"simple\"><path d=\"M248.1,102.57 C240.81,119.26 232.23,138.89 225.77,153.65 \" fill=\"none\" id=\"E5&lt;-E7\" style=\"stroke: #383838; stroke-width: 1.0;\"/><polygon fill=\"#383838\" points=\"253.38,90.51,247.31,94.4029,248.5688,101.5033,254.6388,97.6104,253.38,90.51\" style=\"stroke: #383838; stroke-width: 1.0;\"/><text fill=\"#000000\" font-family=\"sans-serif\" font-size=\"13\" lengthAdjust=\"spacingAndGlyphs\" textLength=\"24\" x=\"201.1986\" y=\"142.8366\">0..1</text></a><!--MD5=[1ccb2481ffa92f8d51a74ee30c51832a]\n",
       "link E8 to E5--><a href=\"psysml:2ecacd66-b174-4fa5-a1f0-5f98a8e6e629\" target=\"_top\" title=\"psysml:2ecacd66-b174-4fa5-a1f0-5f98a8e6e629\" xlink:actuate=\"onRequest\" xlink:href=\"psysml:2ecacd66-b174-4fa5-a1f0-5f98a8e6e629\" xlink:show=\"new\" xlink:title=\"psysml:2ecacd66-b174-4fa5-a1f0-5f98a8e6e629\" xlink:type=\"simple\"><path d=\"M312.22,153.65 C308.53,140.48 301.55,123.44 293.74,108.07 \" fill=\"none\" id=\"E8-&gt;E5\" style=\"stroke: #383838; stroke-width: 1.0;\"/><polygon fill=\"#FFFFFF\" points=\"283.97,90.51,299.3209,103.7142,287.0851,110.5174,283.97,90.51\" style=\"stroke: #383838; stroke-width: 1.0;\"/><ellipse cx=\"300.3428\" cy=\"109.6678\" fill=\"#383838\" rx=\"2\" ry=\"2\" style=\"stroke: #383838; stroke-width: 1.0;\"/><ellipse cx=\"291.6029\" cy=\"114.5273\" fill=\"#383838\" rx=\"2\" ry=\"2\" style=\"stroke: #383838; stroke-width: 1.0;\"/></a><!--MD5=[827760032d119d06bbc92f75530fd7ae]\n",
       "reverse link E5 to E8--><a href=\"psysml:96dfc0dc-2946-48da-b50d-9c346f08b52f\" target=\"_top\" title=\"psysml:96dfc0dc-2946-48da-b50d-9c346f08b52f\" xlink:actuate=\"onRequest\" xlink:href=\"psysml:96dfc0dc-2946-48da-b50d-9c346f08b52f\" xlink:show=\"new\" xlink:title=\"psysml:96dfc0dc-2946-48da-b50d-9c346f08b52f\" xlink:type=\"simple\"><path d=\"M266.44,103.07 C272.49,119.65 281.62,139.03 290.44,153.65 \" fill=\"none\" id=\"E5&lt;-E8\" style=\"stroke: #383838; stroke-width: 1.0;\"/><polygon fill=\"#383838\" points=\"262.31,90.51,260.3836,97.459,266.0572,101.9099,267.9836,94.9609,262.31,90.51\" style=\"stroke: #383838; stroke-width: 1.0;\"/><text fill=\"#000000\" font-family=\"sans-serif\" font-size=\"13\" lengthAdjust=\"spacingAndGlyphs\" textLength=\"7\" x=\"277.2746\" y=\"142.8366\">*</text></a><!--MD5=[22f5b4bae7e060dce8a1c8021efdb95b]\n",
       "reverse link E8 to E9--><a href=\"psysml:fc5eb428-4a03-41d1-992b-aff2a13d3fb9\" target=\"_top\" title=\"psysml:fc5eb428-4a03-41d1-992b-aff2a13d3fb9\" xlink:actuate=\"onRequest\" xlink:href=\"psysml:fc5eb428-4a03-41d1-992b-aff2a13d3fb9\" xlink:show=\"new\" xlink:title=\"psysml:fc5eb428-4a03-41d1-992b-aff2a13d3fb9\" xlink:type=\"simple\"><path d=\"M320.75,212.96 C325.08,228.51 330.05,246.33 333.86,259.98 \" fill=\"none\" id=\"E8&lt;-E9\" style=\"stroke: #383838; stroke-width: 1.0;\"/><polygon fill=\"#383838\" points=\"317.15,200.06,314.9066,206.9133,320.3699,211.6199,322.6133,204.7667,317.15,200.06\" style=\"stroke: #383838; stroke-width: 1.0;\"/></a><!--MD5=[f5d7b67cf751ac27523f1ef050b35705]\n",
       "@startuml\r\n",
       " skinparam monochrome true\r\n",
       "skinparam classbackgroundcolor white\r\n",
       "skinparam shadowing false\r\n",
       "skinparam wrapWidth 300\r\n",
       "hide circle\r\n",
       "\r\n",
       "package \"ViewTest\" as E1  [[psysml:fb02ed11-6398-4cea-b135-53d0cca9c478 ]]  {\r\n",
       "package \"P\" as E2  [[psysml:6d9f5c34-02db-4c22-b8ae-ed1a072d5ac7 ]]  {\r\n",
       "}\r\n",
       "comp def \"VP\" as E3  <<(T,blue)viewpoint def>> [[psysml:436e526f-0cc5-474d-8f19-4580d940df20 ]] {\r\n",
       "}\r\n",
       "comp def \"R\" as E4  <<(T,blue)rendering def>> [[psysml:053dc08e-a8e7-4770-acc6-30068883d6d6 ]] {\r\n",
       "}\r\n",
       "comp def \"V\" as E5  <<(T,blue)view def>> [[psysml:2fa1d21f-0378-4832-ab0e-3c490c491fc9 ]] {\r\n",
       "}\r\n",
       "comp usage \"vp: VP\" as E6  <<(T,blue)viewpoint>> [[psysml:b39da276-6b98-4aad-85bf-f9ecfc55683d ]] {\r\n",
       "}\r\n",
       "comp usage \"r: R\" as E7  <<(T,blue)rendering>> [[psysml:5db0ac38-23f9-426f-a666-7fa33ad35708 ]] {\r\n",
       "}\r\n",
       "comp usage \"v: V\" as E8  <<(T,blue)view>> [[psysml:96dfc0dc-2946-48da-b50d-9c346f08b52f ]] {\r\n",
       "}\r\n",
       "comp usage \"r1\" as E9  <<(T,blue)rendering>> [[psysml:fc5eb428-4a03-41d1-992b-aff2a13d3fb9 ]] {\r\n",
       "}\r\n",
       "E5 *- - E6 [[psysml:b39da276-6b98-4aad-85bf-f9ecfc55683d ]] \r\n",
       "E6 - -:|> E3 [[psysml:7b3d769f-4c56-4413-aa9f-0104e9507d6b ]] \r\n",
       "E7 - -:|> E4 [[psysml:f768404d-501b-4614-8ab9-e2515f32fafd ]] \r\n",
       "E5 *- - \"0..1\"E7 [[psysml:5db0ac38-23f9-426f-a666-7fa33ad35708 ]] \r\n",
       "E8 - -:|> E5 [[psysml:2ecacd66-b174-4fa5-a1f0-5f98a8e6e629 ]] \r\n",
       "E5 *- - \"*\"E8 [[psysml:96dfc0dc-2946-48da-b50d-9c346f08b52f ]] \r\n",
       "E8 *- - E9 [[psysml:fc5eb428-4a03-41d1-992b-aff2a13d3fb9 ]] \r\n",
       "}\r\n",
       "@enduml\r\n",
       "\n",
       "PlantUML version 1.2020.13(Sat Jun 13 12:26:38 UTC 2020)\n",
       "(EPL source distribution)\n",
       "Java Runtime: OpenJDK Runtime Environment\n",
       "JVM: OpenJDK 64-Bit Server VM\n",
       "Default Encoding: UTF-8\n",
       "Language: en\n",
       "Country: null\n",
       "--></g></svg>"
      ]
     },
     "execution_count": 2,
     "metadata": {},
     "output_type": "execute_result"
    }
   ],
   "source": [
    "%viz --style=\"COMPTREE\" --view=\"Default\" \"ViewTest\""
   ]
  },
  {
   "cell_type": "code",
   "execution_count": 3,
   "id": "composed-sussex",
   "metadata": {
    "execution": {
     "iopub.execute_input": "2021-03-24T16:32:10.726649Z",
     "iopub.status.busy": "2021-03-24T16:32:10.726078Z",
     "iopub.status.idle": "2021-03-24T16:32:10.802644Z",
     "shell.execute_reply": "2021-03-24T16:32:10.803030Z"
    }
   },
   "outputs": [
    {
     "data": {
      "image/svg+xml": [
       "<?xml version=\"1.0\" encoding=\"UTF-8\" standalone=\"no\"?><svg xmlns=\"http://www.w3.org/2000/svg\" xmlns:xlink=\"http://www.w3.org/1999/xlink\" contentScriptType=\"application/ecmascript\" contentStyleType=\"text/css\" height=\"334px\" preserveAspectRatio=\"none\" style=\"width:417px;height:334px;\" version=\"1.1\" viewBox=\"0 0 417 334\" width=\"417px\" zoomAndPan=\"magnify\"><defs/><g><!--MD5=[fbc87193dbaf4d95561dea2c320d4a47]\n",
       "cluster E1--><a href=\"psysml:fb02ed11-6398-4cea-b135-53d0cca9c478\" target=\"_top\" title=\"psysml:fb02ed11-6398-4cea-b135-53d0cca9c478\" xlink:actuate=\"onRequest\" xlink:href=\"psysml:fb02ed11-6398-4cea-b135-53d0cca9c478\" xlink:show=\"new\" xlink:title=\"psysml:fb02ed11-6398-4cea-b135-53d0cca9c478\" xlink:type=\"simple\"><polygon fill=\"#FFFFFF\" points=\"16,6,96,6,103,28.2969,395,28.2969,395,322,16,322,16,6\" style=\"stroke: #000000; stroke-width: 1.5;\"/><line style=\"stroke: #000000; stroke-width: 1.5;\" x1=\"16\" x2=\"103\" y1=\"28.2969\" y2=\"28.2969\"/><text fill=\"#000000\" font-family=\"sans-serif\" font-size=\"14\" font-weight=\"bold\" lengthAdjust=\"spacingAndGlyphs\" textLength=\"74\" x=\"20\" y=\"20.9951\">ViewTest</text></a><!--MD5=[09b614a08d8cba4a07c9adeb5e0fee81]\n",
       "class E3--><a href=\"psysml:436e526f-0cc5-474d-8f19-4580d940df20\" target=\"_top\" title=\"psysml:436e526f-0cc5-474d-8f19-4580d940df20\" xlink:actuate=\"onRequest\" xlink:href=\"psysml:436e526f-0cc5-474d-8f19-4580d940df20\" xlink:show=\"new\" xlink:title=\"psysml:436e526f-0cc5-474d-8f19-4580d940df20\" xlink:type=\"simple\"><rect fill=\"#FFFFFF\" height=\"45.9375\" id=\"E3\" style=\"stroke: #383838; stroke-width: 1.5;\" width=\"98\" x=\"32\" y=\"260\"/><text fill=\"#000000\" font-family=\"sans-serif\" font-size=\"12\" font-style=\"italic\" lengthAdjust=\"spacingAndGlyphs\" textLength=\"96\" x=\"33\" y=\"276.1387\">«viewpoint def»</text><text fill=\"#000000\" font-family=\"sans-serif\" font-size=\"12\" lengthAdjust=\"spacingAndGlyphs\" textLength=\"16\" x=\"73\" y=\"290.1074\">VP</text><line style=\"stroke: #383838; stroke-width: 1.5;\" x1=\"33\" x2=\"129\" y1=\"297.9375\" y2=\"297.9375\"/></a><!--MD5=[ebbe1d658d1005bcc118a6aa81145e00]\n",
       "class E4--><a href=\"psysml:053dc08e-a8e7-4770-acc6-30068883d6d6\" target=\"_top\" title=\"psysml:053dc08e-a8e7-4770-acc6-30068883d6d6\" xlink:actuate=\"onRequest\" xlink:href=\"psysml:053dc08e-a8e7-4770-acc6-30068883d6d6\" xlink:show=\"new\" xlink:title=\"psysml:053dc08e-a8e7-4770-acc6-30068883d6d6\" xlink:type=\"simple\"><rect fill=\"#FFFFFF\" height=\"45.9375\" id=\"E4\" style=\"stroke: #383838; stroke-width: 1.5;\" width=\"101\" x=\"165.5\" y=\"260\"/><text fill=\"#000000\" font-family=\"sans-serif\" font-size=\"12\" font-style=\"italic\" lengthAdjust=\"spacingAndGlyphs\" textLength=\"99\" x=\"166.5\" y=\"276.1387\">«rendering def»</text><text fill=\"#000000\" font-family=\"sans-serif\" font-size=\"12\" lengthAdjust=\"spacingAndGlyphs\" textLength=\"8\" x=\"212\" y=\"290.1074\">R</text><line style=\"stroke: #383838; stroke-width: 1.5;\" x1=\"166.5\" x2=\"265.5\" y1=\"297.9375\" y2=\"297.9375\"/></a><!--MD5=[270fce915f116d4de14055a7c1d9a0f3]\n",
       "class E5--><a href=\"psysml:2fa1d21f-0378-4832-ab0e-3c490c491fc9\" target=\"_top\" title=\"psysml:2fa1d21f-0378-4832-ab0e-3c490c491fc9\" xlink:actuate=\"onRequest\" xlink:href=\"psysml:2fa1d21f-0378-4832-ab0e-3c490c491fc9\" xlink:show=\"new\" xlink:title=\"psysml:2fa1d21f-0378-4832-ab0e-3c490c491fc9\" xlink:type=\"simple\"><rect fill=\"#FFFFFF\" height=\"45.9375\" id=\"E5\" style=\"stroke: #383838; stroke-width: 1.5;\" width=\"66\" x=\"230\" y=\"44.5\"/><text fill=\"#000000\" font-family=\"sans-serif\" font-size=\"12\" font-style=\"italic\" lengthAdjust=\"spacingAndGlyphs\" textLength=\"64\" x=\"231\" y=\"60.6387\">«view def»</text><text fill=\"#000000\" font-family=\"sans-serif\" font-size=\"12\" lengthAdjust=\"spacingAndGlyphs\" textLength=\"8\" x=\"259\" y=\"74.6074\">V</text><line style=\"stroke: #383838; stroke-width: 1.5;\" x1=\"231\" x2=\"295\" y1=\"82.4375\" y2=\"82.4375\"/></a><!--MD5=[60a26617385b1d2d0262a64233df1f8d]\n",
       "class E6--><a href=\"psysml:b39da276-6b98-4aad-85bf-f9ecfc55683d\" target=\"_top\" title=\"psysml:b39da276-6b98-4aad-85bf-f9ecfc55683d\" xlink:actuate=\"onRequest\" xlink:href=\"psysml:b39da276-6b98-4aad-85bf-f9ecfc55683d\" xlink:show=\"new\" xlink:title=\"psysml:b39da276-6b98-4aad-85bf-f9ecfc55683d\" xlink:type=\"simple\"><rect fill=\"#FFFFFF\" height=\"45.9375\" id=\"E6\" rx=\"10\" ry=\"10\" style=\"stroke: #383838; stroke-width: 1.5;\" width=\"74\" x=\"56\" y=\"154\"/><text fill=\"#000000\" font-family=\"sans-serif\" font-size=\"12\" font-style=\"italic\" lengthAdjust=\"spacingAndGlyphs\" textLength=\"72\" x=\"57\" y=\"170.1387\">«viewpoint»</text><text fill=\"#000000\" font-family=\"sans-serif\" font-size=\"12\" lengthAdjust=\"spacingAndGlyphs\" textLength=\"38\" x=\"74\" y=\"184.1074\">vp: VP</text><line style=\"stroke: #383838; stroke-width: 1.5;\" x1=\"57\" x2=\"129\" y1=\"191.9375\" y2=\"191.9375\"/></a><!--MD5=[2156ba9850f5573cc1fc38a6a4b2f02b]\n",
       "class E7--><a href=\"psysml:5db0ac38-23f9-426f-a666-7fa33ad35708\" target=\"_top\" title=\"psysml:5db0ac38-23f9-426f-a666-7fa33ad35708\" xlink:actuate=\"onRequest\" xlink:href=\"psysml:5db0ac38-23f9-426f-a666-7fa33ad35708\" xlink:show=\"new\" xlink:title=\"psysml:5db0ac38-23f9-426f-a666-7fa33ad35708\" xlink:type=\"simple\"><rect fill=\"#FFFFFF\" height=\"45.9375\" id=\"E7\" rx=\"10\" ry=\"10\" style=\"stroke: #383838; stroke-width: 1.5;\" width=\"77\" x=\"177.5\" y=\"154\"/><text fill=\"#000000\" font-family=\"sans-serif\" font-size=\"12\" font-style=\"italic\" lengthAdjust=\"spacingAndGlyphs\" textLength=\"75\" x=\"178.5\" y=\"170.1387\">«rendering»</text><text fill=\"#000000\" font-family=\"sans-serif\" font-size=\"12\" lengthAdjust=\"spacingAndGlyphs\" textLength=\"21\" x=\"205.5\" y=\"184.1074\">r: R</text><line style=\"stroke: #383838; stroke-width: 1.5;\" x1=\"178.5\" x2=\"253.5\" y1=\"191.9375\" y2=\"191.9375\"/></a><!--MD5=[b9389687b975829384b498ac4b7476b2]\n",
       "class E8--><a href=\"psysml:96dfc0dc-2946-48da-b50d-9c346f08b52f\" target=\"_top\" title=\"psysml:96dfc0dc-2946-48da-b50d-9c346f08b52f\" xlink:actuate=\"onRequest\" xlink:href=\"psysml:96dfc0dc-2946-48da-b50d-9c346f08b52f\" xlink:show=\"new\" xlink:title=\"psysml:96dfc0dc-2946-48da-b50d-9c346f08b52f\" xlink:type=\"simple\"><rect fill=\"#FFFFFF\" height=\"45.9375\" id=\"E8\" rx=\"10\" ry=\"10\" style=\"stroke: #383838; stroke-width: 1.5;\" width=\"42\" x=\"290\" y=\"154\"/><text fill=\"#000000\" font-family=\"sans-serif\" font-size=\"12\" font-style=\"italic\" lengthAdjust=\"spacingAndGlyphs\" textLength=\"40\" x=\"291\" y=\"170.1387\">«view»</text><text fill=\"#000000\" font-family=\"sans-serif\" font-size=\"12\" lengthAdjust=\"spacingAndGlyphs\" textLength=\"22\" x=\"300\" y=\"184.1074\">v: V</text><line style=\"stroke: #383838; stroke-width: 1.5;\" x1=\"291\" x2=\"331\" y1=\"191.9375\" y2=\"191.9375\"/></a><!--MD5=[fd4143e9d270a159db93a4ea2a975926]\n",
       "class E9--><a href=\"psysml:fc5eb428-4a03-41d1-992b-aff2a13d3fb9\" target=\"_top\" title=\"psysml:fc5eb428-4a03-41d1-992b-aff2a13d3fb9\" xlink:actuate=\"onRequest\" xlink:href=\"psysml:fc5eb428-4a03-41d1-992b-aff2a13d3fb9\" xlink:show=\"new\" xlink:title=\"psysml:fc5eb428-4a03-41d1-992b-aff2a13d3fb9\" xlink:type=\"simple\"><rect fill=\"#FFFFFF\" height=\"45.9375\" id=\"E9\" rx=\"10\" ry=\"10\" style=\"stroke: #383838; stroke-width: 1.5;\" width=\"77\" x=\"301.5\" y=\"260\"/><text fill=\"#000000\" font-family=\"sans-serif\" font-size=\"12\" font-style=\"italic\" lengthAdjust=\"spacingAndGlyphs\" textLength=\"75\" x=\"302.5\" y=\"276.1387\">«rendering»</text><text fill=\"#000000\" font-family=\"sans-serif\" font-size=\"12\" lengthAdjust=\"spacingAndGlyphs\" textLength=\"13\" x=\"333.5\" y=\"290.1074\">r1</text><line style=\"stroke: #383838; stroke-width: 1.5;\" x1=\"302.5\" x2=\"377.5\" y1=\"297.9375\" y2=\"297.9375\"/></a><a href=\"psysml:6d9f5c34-02db-4c22-b8ae-ed1a072d5ac7\" target=\"_top\" title=\"psysml:6d9f5c34-02db-4c22-b8ae-ed1a072d5ac7\" xlink:actuate=\"onRequest\" xlink:href=\"psysml:6d9f5c34-02db-4c22-b8ae-ed1a072d5ac7\" xlink:show=\"new\" xlink:title=\"psysml:6d9f5c34-02db-4c22-b8ae-ed1a072d5ac7\" xlink:type=\"simple\"><polygon fill=\"#FFFFFF\" points=\"122,41,138,41,145,63.2969,152,63.2969,152,93.5938,122,93.5938,122,41\" style=\"stroke: #000000; stroke-width: 1.5;\"/><line style=\"stroke: #000000; stroke-width: 1.5;\" x1=\"122\" x2=\"145\" y1=\"63.2969\" y2=\"63.2969\"/><text fill=\"#000000\" font-family=\"sans-serif\" font-size=\"14\" font-weight=\"bold\" lengthAdjust=\"spacingAndGlyphs\" textLength=\"10\" x=\"126\" y=\"55.9951\">P</text></a><!--MD5=[85d356282659285ab4b2cfe2f634dd2b]\n",
       "reverse link E5 to E6--><a href=\"psysml:b39da276-6b98-4aad-85bf-f9ecfc55683d\" target=\"_top\" title=\"psysml:b39da276-6b98-4aad-85bf-f9ecfc55683d\" xlink:actuate=\"onRequest\" xlink:href=\"psysml:b39da276-6b98-4aad-85bf-f9ecfc55683d\" xlink:show=\"new\" xlink:title=\"psysml:b39da276-6b98-4aad-85bf-f9ecfc55683d\" xlink:type=\"simple\"><path d=\"M218.61,96.57 C190.28,114.48 154.1,137.36 127.85,153.96 \" fill=\"none\" id=\"E5&lt;-E6\" style=\"stroke: #383838; stroke-width: 1.0;\"/><polygon fill=\"#383838\" points=\"229.82,89.48,222.6111,89.2999,219.6723,95.8849,226.8811,96.0651,229.82,89.48\" style=\"stroke: #383838; stroke-width: 1.0;\"/></a><!--MD5=[a717450b82c80b9240a525fa862496af]\n",
       "link E6 to E3--><a href=\"psysml:7b3d769f-4c56-4413-aa9f-0104e9507d6b\" target=\"_top\" title=\"psysml:7b3d769f-4c56-4413-aa9f-0104e9507d6b\" xlink:actuate=\"onRequest\" xlink:href=\"psysml:7b3d769f-4c56-4413-aa9f-0104e9507d6b\" xlink:show=\"new\" xlink:title=\"psysml:7b3d769f-4c56-4413-aa9f-0104e9507d6b\" xlink:type=\"simple\"><path d=\"M90.46,200.06 C89.12,211.64 87.44,226.23 85.86,239.87 \" fill=\"none\" id=\"E6-&gt;E3\" style=\"stroke: #383838; stroke-width: 1.0;\"/><polygon fill=\"#FFFFFF\" points=\"83.54,259.98,78.757,240.3046,92.6653,241.9044,83.54,259.98\" style=\"stroke: #383838; stroke-width: 1.0;\"/><ellipse cx=\"81.3953\" cy=\"234.8704\" fill=\"#383838\" rx=\"2\" ry=\"2\" style=\"stroke: #383838; stroke-width: 1.0;\"/><ellipse cx=\"91.3298\" cy=\"236.0132\" fill=\"#383838\" rx=\"2\" ry=\"2\" style=\"stroke: #383838; stroke-width: 1.0;\"/></a><!--MD5=[6bdd27f9905911a7e892a3dc65cf6b7c]\n",
       "link E7 to E4--><a href=\"psysml:f768404d-501b-4614-8ab9-e2515f32fafd\" target=\"_top\" title=\"psysml:f768404d-501b-4614-8ab9-e2515f32fafd\" xlink:actuate=\"onRequest\" xlink:href=\"psysml:f768404d-501b-4614-8ab9-e2515f32fafd\" xlink:show=\"new\" xlink:title=\"psysml:f768404d-501b-4614-8ab9-e2515f32fafd\" xlink:type=\"simple\"><path d=\"M216,200.06 C216,211.64 216,226.23 216,239.87 \" fill=\"none\" id=\"E7-&gt;E4\" style=\"stroke: #383838; stroke-width: 1.0;\"/><polygon fill=\"#FFFFFF\" points=\"216,259.98,209,240.98,223,240.98,216,259.98\" style=\"stroke: #383838; stroke-width: 1.0;\"/><ellipse cx=\"211\" cy=\"235.28\" fill=\"#383838\" rx=\"2\" ry=\"2\" style=\"stroke: #383838; stroke-width: 1.0;\"/><ellipse cx=\"221\" cy=\"235.28\" fill=\"#383838\" rx=\"2\" ry=\"2\" style=\"stroke: #383838; stroke-width: 1.0;\"/></a><!--MD5=[452b418e7f8a40397a49b8c0a78acc5b]\n",
       "reverse link E5 to E7--><a href=\"psysml:5db0ac38-23f9-426f-a666-7fa33ad35708\" target=\"_top\" title=\"psysml:5db0ac38-23f9-426f-a666-7fa33ad35708\" xlink:actuate=\"onRequest\" xlink:href=\"psysml:5db0ac38-23f9-426f-a666-7fa33ad35708\" xlink:show=\"new\" xlink:title=\"psysml:5db0ac38-23f9-426f-a666-7fa33ad35708\" xlink:type=\"simple\"><path d=\"M248.1,102.57 C240.81,119.26 232.23,138.89 225.77,153.65 \" fill=\"none\" id=\"E5&lt;-E7\" style=\"stroke: #383838; stroke-width: 1.0;\"/><polygon fill=\"#383838\" points=\"253.38,90.51,247.31,94.4029,248.5688,101.5033,254.6388,97.6104,253.38,90.51\" style=\"stroke: #383838; stroke-width: 1.0;\"/><text fill=\"#000000\" font-family=\"sans-serif\" font-size=\"13\" lengthAdjust=\"spacingAndGlyphs\" textLength=\"24\" x=\"201.1986\" y=\"142.8366\">0..1</text></a><!--MD5=[1ccb2481ffa92f8d51a74ee30c51832a]\n",
       "link E8 to E5--><a href=\"psysml:2ecacd66-b174-4fa5-a1f0-5f98a8e6e629\" target=\"_top\" title=\"psysml:2ecacd66-b174-4fa5-a1f0-5f98a8e6e629\" xlink:actuate=\"onRequest\" xlink:href=\"psysml:2ecacd66-b174-4fa5-a1f0-5f98a8e6e629\" xlink:show=\"new\" xlink:title=\"psysml:2ecacd66-b174-4fa5-a1f0-5f98a8e6e629\" xlink:type=\"simple\"><path d=\"M312.22,153.65 C308.53,140.48 301.55,123.44 293.74,108.07 \" fill=\"none\" id=\"E8-&gt;E5\" style=\"stroke: #383838; stroke-width: 1.0;\"/><polygon fill=\"#FFFFFF\" points=\"283.97,90.51,299.3209,103.7142,287.0851,110.5174,283.97,90.51\" style=\"stroke: #383838; stroke-width: 1.0;\"/><ellipse cx=\"300.3428\" cy=\"109.6678\" fill=\"#383838\" rx=\"2\" ry=\"2\" style=\"stroke: #383838; stroke-width: 1.0;\"/><ellipse cx=\"291.6029\" cy=\"114.5273\" fill=\"#383838\" rx=\"2\" ry=\"2\" style=\"stroke: #383838; stroke-width: 1.0;\"/></a><!--MD5=[827760032d119d06bbc92f75530fd7ae]\n",
       "reverse link E5 to E8--><a href=\"psysml:96dfc0dc-2946-48da-b50d-9c346f08b52f\" target=\"_top\" title=\"psysml:96dfc0dc-2946-48da-b50d-9c346f08b52f\" xlink:actuate=\"onRequest\" xlink:href=\"psysml:96dfc0dc-2946-48da-b50d-9c346f08b52f\" xlink:show=\"new\" xlink:title=\"psysml:96dfc0dc-2946-48da-b50d-9c346f08b52f\" xlink:type=\"simple\"><path d=\"M266.44,103.07 C272.49,119.65 281.62,139.03 290.44,153.65 \" fill=\"none\" id=\"E5&lt;-E8\" style=\"stroke: #383838; stroke-width: 1.0;\"/><polygon fill=\"#383838\" points=\"262.31,90.51,260.3836,97.459,266.0572,101.9099,267.9836,94.9609,262.31,90.51\" style=\"stroke: #383838; stroke-width: 1.0;\"/><text fill=\"#000000\" font-family=\"sans-serif\" font-size=\"13\" lengthAdjust=\"spacingAndGlyphs\" textLength=\"7\" x=\"277.2746\" y=\"142.8366\">*</text></a><!--MD5=[22f5b4bae7e060dce8a1c8021efdb95b]\n",
       "reverse link E8 to E9--><a href=\"psysml:fc5eb428-4a03-41d1-992b-aff2a13d3fb9\" target=\"_top\" title=\"psysml:fc5eb428-4a03-41d1-992b-aff2a13d3fb9\" xlink:actuate=\"onRequest\" xlink:href=\"psysml:fc5eb428-4a03-41d1-992b-aff2a13d3fb9\" xlink:show=\"new\" xlink:title=\"psysml:fc5eb428-4a03-41d1-992b-aff2a13d3fb9\" xlink:type=\"simple\"><path d=\"M320.75,212.96 C325.08,228.51 330.05,246.33 333.86,259.98 \" fill=\"none\" id=\"E8&lt;-E9\" style=\"stroke: #383838; stroke-width: 1.0;\"/><polygon fill=\"#383838\" points=\"317.15,200.06,314.9066,206.9133,320.3699,211.6199,322.6133,204.7667,317.15,200.06\" style=\"stroke: #383838; stroke-width: 1.0;\"/></a><!--MD5=[f5d7b67cf751ac27523f1ef050b35705]\n",
       "@startuml\r\n",
       " skinparam monochrome true\r\n",
       "skinparam classbackgroundcolor white\r\n",
       "skinparam shadowing false\r\n",
       "skinparam wrapWidth 300\r\n",
       "hide circle\r\n",
       "\r\n",
       "package \"ViewTest\" as E1  [[psysml:fb02ed11-6398-4cea-b135-53d0cca9c478 ]]  {\r\n",
       "package \"P\" as E2  [[psysml:6d9f5c34-02db-4c22-b8ae-ed1a072d5ac7 ]]  {\r\n",
       "}\r\n",
       "comp def \"VP\" as E3  <<(T,blue)viewpoint def>> [[psysml:436e526f-0cc5-474d-8f19-4580d940df20 ]] {\r\n",
       "}\r\n",
       "comp def \"R\" as E4  <<(T,blue)rendering def>> [[psysml:053dc08e-a8e7-4770-acc6-30068883d6d6 ]] {\r\n",
       "}\r\n",
       "comp def \"V\" as E5  <<(T,blue)view def>> [[psysml:2fa1d21f-0378-4832-ab0e-3c490c491fc9 ]] {\r\n",
       "}\r\n",
       "comp usage \"vp: VP\" as E6  <<(T,blue)viewpoint>> [[psysml:b39da276-6b98-4aad-85bf-f9ecfc55683d ]] {\r\n",
       "}\r\n",
       "comp usage \"r: R\" as E7  <<(T,blue)rendering>> [[psysml:5db0ac38-23f9-426f-a666-7fa33ad35708 ]] {\r\n",
       "}\r\n",
       "comp usage \"v: V\" as E8  <<(T,blue)view>> [[psysml:96dfc0dc-2946-48da-b50d-9c346f08b52f ]] {\r\n",
       "}\r\n",
       "comp usage \"r1\" as E9  <<(T,blue)rendering>> [[psysml:fc5eb428-4a03-41d1-992b-aff2a13d3fb9 ]] {\r\n",
       "}\r\n",
       "E5 *- - E6 [[psysml:b39da276-6b98-4aad-85bf-f9ecfc55683d ]] \r\n",
       "E6 - -:|> E3 [[psysml:7b3d769f-4c56-4413-aa9f-0104e9507d6b ]] \r\n",
       "E7 - -:|> E4 [[psysml:f768404d-501b-4614-8ab9-e2515f32fafd ]] \r\n",
       "E5 *- - \"0..1\"E7 [[psysml:5db0ac38-23f9-426f-a666-7fa33ad35708 ]] \r\n",
       "E8 - -:|> E5 [[psysml:2ecacd66-b174-4fa5-a1f0-5f98a8e6e629 ]] \r\n",
       "E5 *- - \"*\"E8 [[psysml:96dfc0dc-2946-48da-b50d-9c346f08b52f ]] \r\n",
       "E8 *- - E9 [[psysml:fc5eb428-4a03-41d1-992b-aff2a13d3fb9 ]] \r\n",
       "}\r\n",
       "@enduml\r\n",
       "\n",
       "PlantUML version 1.2020.13(Sat Jun 13 12:26:38 UTC 2020)\n",
       "(EPL source distribution)\n",
       "Java Runtime: OpenJDK Runtime Environment\n",
       "JVM: OpenJDK 64-Bit Server VM\n",
       "Default Encoding: UTF-8\n",
       "Language: en\n",
       "Country: null\n",
       "--></g></svg>"
      ]
     },
     "execution_count": 3,
     "metadata": {},
     "output_type": "execute_result"
    }
   ],
   "source": [
    "%viz --style=\"COMPTREE\" --view=\"Tree\" \"ViewTest\""
   ]
  },
  {
   "cell_type": "code",
   "execution_count": 4,
   "id": "unsigned-mailman",
   "metadata": {
    "execution": {
     "iopub.execute_input": "2021-03-24T16:32:10.853620Z",
     "iopub.status.busy": "2021-03-24T16:32:10.853030Z",
     "iopub.status.idle": "2021-03-24T16:32:10.861806Z",
     "shell.execute_reply": "2021-03-24T16:32:10.861416Z"
    }
   },
   "outputs": [
    {
     "data": {
      "image/svg+xml": [
       "<?xml version=\"1.0\" encoding=\"UTF-8\" standalone=\"no\"?><svg xmlns=\"http://www.w3.org/2000/svg\" xmlns:xlink=\"http://www.w3.org/1999/xlink\" contentScriptType=\"application/ecmascript\" contentStyleType=\"text/css\" height=\"12px\" preserveAspectRatio=\"none\" style=\"width:12px;height:12px;\" version=\"1.1\" viewBox=\"0 0 12 12\" width=\"12px\" zoomAndPan=\"magnify\"><defs/><g><!--MD5=[f19188ef49e11757b5c46753f95d9edc]\n",
       "@startuml\r\n",
       " skinparam monochrome true\r\n",
       "skinparam classbackgroundcolor white\r\n",
       "skinparam shadowing false\r\n",
       "skinparam wrapWidth 300\r\n",
       "hide circle\r\n",
       "\r\n",
       "@enduml\r\n",
       "\n",
       "PlantUML version 1.2020.13(Sat Jun 13 12:26:38 UTC 2020)\n",
       "(EPL source distribution)\n",
       "Java Runtime: OpenJDK Runtime Environment\n",
       "JVM: OpenJDK 64-Bit Server VM\n",
       "Default Encoding: UTF-8\n",
       "Language: en\n",
       "Country: null\n",
       "--></g></svg>"
      ]
     },
     "execution_count": 4,
     "metadata": {},
     "output_type": "execute_result"
    }
   ],
   "source": [
    "%viz --style=\"COMPTREE\" --view=\"State\" \"ViewTest\""
   ]
  },
  {
   "cell_type": "code",
   "execution_count": 5,
   "id": "scenic-enemy",
   "metadata": {
    "execution": {
     "iopub.execute_input": "2021-03-24T16:32:10.912892Z",
     "iopub.status.busy": "2021-03-24T16:32:10.912260Z",
     "iopub.status.idle": "2021-03-24T16:32:10.972402Z",
     "shell.execute_reply": "2021-03-24T16:32:10.972836Z"
    }
   },
   "outputs": [
    {
     "data": {
      "image/svg+xml": [
       "<?xml version=\"1.0\" encoding=\"UTF-8\" standalone=\"no\"?><svg xmlns=\"http://www.w3.org/2000/svg\" xmlns:xlink=\"http://www.w3.org/1999/xlink\" contentScriptType=\"application/ecmascript\" contentStyleType=\"text/css\" height=\"313px\" preserveAspectRatio=\"none\" style=\"width:568px;height:313px;\" version=\"1.1\" viewBox=\"0 0 568 313\" width=\"568px\" zoomAndPan=\"magnify\"><defs/><g><!--MD5=[fbc87193dbaf4d95561dea2c320d4a47]\n",
       "cluster E1--><a href=\"psysml:fb02ed11-6398-4cea-b135-53d0cca9c478\" target=\"_top\" title=\"psysml:fb02ed11-6398-4cea-b135-53d0cca9c478\" xlink:actuate=\"onRequest\" xlink:href=\"psysml:fb02ed11-6398-4cea-b135-53d0cca9c478\" xlink:show=\"new\" xlink:title=\"psysml:fb02ed11-6398-4cea-b135-53d0cca9c478\" xlink:type=\"simple\"><polygon fill=\"#FFFFFF\" points=\"16,6,96,6,103,28.2969,546,28.2969,546,301,16,301,16,6\" style=\"stroke: #000000; stroke-width: 1.5;\"/><line style=\"stroke: #000000; stroke-width: 1.5;\" x1=\"16\" x2=\"103\" y1=\"28.2969\" y2=\"28.2969\"/><text fill=\"#000000\" font-family=\"sans-serif\" font-size=\"14\" font-weight=\"bold\" lengthAdjust=\"spacingAndGlyphs\" textLength=\"74\" x=\"20\" y=\"20.9951\">ViewTest</text></a><!--MD5=[de5ec2e2e8f62f467e546659f5068c88]\n",
       "cluster E5--><a href=\"psysml:2fa1d21f-0378-4832-ab0e-3c490c491fc9\" target=\"_top\" title=\"psysml:2fa1d21f-0378-4832-ab0e-3c490c491fc9\" xlink:actuate=\"onRequest\" xlink:href=\"psysml:2fa1d21f-0378-4832-ab0e-3c490c491fc9\" xlink:show=\"new\" xlink:title=\"psysml:2fa1d21f-0378-4832-ab0e-3c490c491fc9\" xlink:type=\"simple\"><rect fill=\"#FFFFFF\" height=\"174\" id=\"E5\" style=\"stroke: #383838; stroke-width: 1.5;\" width=\"300\" x=\"222\" y=\"49\"/><rect fill=\"#F8F8F8\" height=\"37.9375\" style=\"stroke: #383838; stroke-width: 1.5;\" width=\"300\" x=\"222\" y=\"49\"/><text fill=\"#000000\" font-family=\"sans-serif\" font-size=\"12\" font-style=\"italic\" lengthAdjust=\"spacingAndGlyphs\" textLength=\"64\" x=\"340\" y=\"65.1387\">«view def»</text><text fill=\"#000000\" font-family=\"sans-serif\" font-size=\"12\" lengthAdjust=\"spacingAndGlyphs\" textLength=\"8\" x=\"368\" y=\"79.1074\">V</text></a><!--MD5=[55dfccfc6c49c2d10cd1bd2211a6c90c]\n",
       "cluster E8--><a href=\"psysml:96dfc0dc-2946-48da-b50d-9c346f08b52f\" target=\"_top\" title=\"psysml:96dfc0dc-2946-48da-b50d-9c346f08b52f\" xlink:actuate=\"onRequest\" xlink:href=\"psysml:96dfc0dc-2946-48da-b50d-9c346f08b52f\" xlink:show=\"new\" xlink:title=\"psysml:96dfc0dc-2946-48da-b50d-9c346f08b52f\" xlink:type=\"simple\"><rect fill=\"#FFFFFF\" height=\"91\" id=\"E8\" rx=\"10\" ry=\"10\" style=\"stroke: #383838; stroke-width: 1.5;\" width=\"82\" x=\"416\" y=\"108\"/><rect fill=\"#F8F8F8\" height=\"23.9688\" rx=\"10\" ry=\"10\" style=\"stroke: #F8F8F8; stroke-width: 1.5;\" width=\"82\" x=\"416\" y=\"108\"/><rect fill=\"#F8F8F8\" height=\"10\" style=\"stroke: #F8F8F8; stroke-width: 1.5;\" width=\"82\" x=\"416\" y=\"121.9688\"/><rect fill=\"none\" height=\"91\" id=\"E8\" rx=\"10\" ry=\"10\" style=\"stroke: #383838; stroke-width: 1.5;\" width=\"82\" x=\"416\" y=\"108\"/><text fill=\"#000000\" font-family=\"sans-serif\" font-size=\"12\" lengthAdjust=\"spacingAndGlyphs\" textLength=\"22\" x=\"446\" y=\"124.1387\">v: V</text><line style=\"stroke: #383838; stroke-width: 1.0;\" x1=\"416\" x2=\"498\" y1=\"131.9688\" y2=\"131.9688\"/></a><!--MD5=[09b614a08d8cba4a07c9adeb5e0fee81]\n",
       "class E3--><a href=\"psysml:436e526f-0cc5-474d-8f19-4580d940df20\" target=\"_top\" title=\"psysml:436e526f-0cc5-474d-8f19-4580d940df20\" xlink:actuate=\"onRequest\" xlink:href=\"psysml:436e526f-0cc5-474d-8f19-4580d940df20\" xlink:show=\"new\" xlink:title=\"psysml:436e526f-0cc5-474d-8f19-4580d940df20\" xlink:type=\"simple\"><rect fill=\"#FFFFFF\" height=\"45.9375\" id=\"E3\" style=\"stroke: #383838; stroke-width: 1.5;\" width=\"98\" x=\"311\" y=\"239\"/><text fill=\"#000000\" font-family=\"sans-serif\" font-size=\"12\" font-style=\"italic\" lengthAdjust=\"spacingAndGlyphs\" textLength=\"96\" x=\"312\" y=\"255.1387\">«viewpoint def»</text><text fill=\"#000000\" font-family=\"sans-serif\" font-size=\"12\" lengthAdjust=\"spacingAndGlyphs\" textLength=\"16\" x=\"352\" y=\"269.1074\">VP</text><line style=\"stroke: #383838; stroke-width: 1.5;\" x1=\"312\" x2=\"408\" y1=\"276.9375\" y2=\"276.9375\"/></a><a href=\"psysml:6d9f5c34-02db-4c22-b8ae-ed1a072d5ac7\" target=\"_top\" title=\"psysml:6d9f5c34-02db-4c22-b8ae-ed1a072d5ac7\" xlink:actuate=\"onRequest\" xlink:href=\"psysml:6d9f5c34-02db-4c22-b8ae-ed1a072d5ac7\" xlink:show=\"new\" xlink:title=\"psysml:6d9f5c34-02db-4c22-b8ae-ed1a072d5ac7\" xlink:type=\"simple\"><polygon fill=\"#FFFFFF\" points=\"173,136.5,189,136.5,196,158.7969,203,158.7969,203,189.0938,173,189.0938,173,136.5\" style=\"stroke: #000000; stroke-width: 1.5;\"/><line style=\"stroke: #000000; stroke-width: 1.5;\" x1=\"173\" x2=\"196\" y1=\"158.7969\" y2=\"158.7969\"/><text fill=\"#000000\" font-family=\"sans-serif\" font-size=\"14\" font-weight=\"bold\" lengthAdjust=\"spacingAndGlyphs\" textLength=\"10\" x=\"177\" y=\"151.4951\">P</text></a><g id=\"E1.E4\"><a href=\"psysml:053dc08e-a8e7-4770-acc6-30068883d6d6\" target=\"_top\" title=\"psysml:053dc08e-a8e7-4770-acc6-30068883d6d6\" xlink:actuate=\"onRequest\" xlink:href=\"psysml:053dc08e-a8e7-4770-acc6-30068883d6d6\" xlink:show=\"new\" xlink:title=\"psysml:053dc08e-a8e7-4770-acc6-30068883d6d6\" xlink:type=\"simple\"><rect fill=\"#FFFFFF\" height=\"42.9375\" id=\"E4\" style=\"stroke: #383838; stroke-width: 1.5;\" width=\"106\" x=\"32\" y=\"141.5\"/><rect fill=\"#F8F8F8\" height=\"37.9375\" style=\"stroke: #383838; stroke-width: 1.5;\" width=\"106\" x=\"32\" y=\"141.5\"/><text fill=\"#000000\" font-family=\"sans-serif\" font-size=\"12\" font-style=\"italic\" lengthAdjust=\"spacingAndGlyphs\" textLength=\"99\" x=\"35.5\" y=\"157.6387\">«rendering def»</text><text fill=\"#000000\" font-family=\"sans-serif\" font-size=\"12\" lengthAdjust=\"spacingAndGlyphs\" textLength=\"8\" x=\"81\" y=\"171.6074\">R</text></a></g><!--MD5=[60a26617385b1d2d0262a64233df1f8d]\n",
       "class E6--><a href=\"psysml:b39da276-6b98-4aad-85bf-f9ecfc55683d\" target=\"_top\" title=\"psysml:b39da276-6b98-4aad-85bf-f9ecfc55683d\" xlink:actuate=\"onRequest\" xlink:href=\"psysml:b39da276-6b98-4aad-85bf-f9ecfc55683d\" xlink:show=\"new\" xlink:title=\"psysml:b39da276-6b98-4aad-85bf-f9ecfc55683d\" xlink:type=\"simple\"><rect fill=\"#FFFFFF\" height=\"45.9375\" id=\"E6\" rx=\"10\" ry=\"10\" style=\"stroke: #383838; stroke-width: 1.5;\" width=\"74\" x=\"323\" y=\"140\"/><text fill=\"#000000\" font-family=\"sans-serif\" font-size=\"12\" font-style=\"italic\" lengthAdjust=\"spacingAndGlyphs\" textLength=\"72\" x=\"324\" y=\"156.1387\">«viewpoint»</text><text fill=\"#000000\" font-family=\"sans-serif\" font-size=\"12\" lengthAdjust=\"spacingAndGlyphs\" textLength=\"38\" x=\"341\" y=\"170.1074\">vp: VP</text><line style=\"stroke: #383838; stroke-width: 1.5;\" x1=\"324\" x2=\"396\" y1=\"177.9375\" y2=\"177.9375\"/></a><g id=\"E1.E5.E7\"><a href=\"psysml:5db0ac38-23f9-426f-a666-7fa33ad35708\" target=\"_top\" title=\"psysml:5db0ac38-23f9-426f-a666-7fa33ad35708\" xlink:actuate=\"onRequest\" xlink:href=\"psysml:5db0ac38-23f9-426f-a666-7fa33ad35708\" xlink:show=\"new\" xlink:title=\"psysml:5db0ac38-23f9-426f-a666-7fa33ad35708\" xlink:type=\"simple\"><rect fill=\"#FFFFFF\" height=\"40\" id=\"E7\" rx=\"10\" ry=\"10\" style=\"stroke: #383838; stroke-width: 1.5;\" width=\"50\" x=\"238\" y=\"143\"/><rect fill=\"#F8F8F8\" height=\"23.9688\" rx=\"10\" ry=\"10\" style=\"stroke: #F8F8F8; stroke-width: 1.5;\" width=\"50\" x=\"238\" y=\"143\"/><rect fill=\"#F8F8F8\" height=\"10\" style=\"stroke: #F8F8F8; stroke-width: 1.5;\" width=\"50\" x=\"238\" y=\"156.9688\"/><rect fill=\"none\" height=\"40\" id=\"E7\" rx=\"10\" ry=\"10\" style=\"stroke: #383838; stroke-width: 1.5;\" width=\"50\" x=\"238\" y=\"143\"/><text fill=\"#000000\" font-family=\"sans-serif\" font-size=\"12\" lengthAdjust=\"spacingAndGlyphs\" textLength=\"21\" x=\"252.5\" y=\"159.1387\">r: R</text></a></g><g id=\"E1.E5.E8.E9\"><a href=\"psysml:fc5eb428-4a03-41d1-992b-aff2a13d3fb9\" target=\"_top\" title=\"psysml:fc5eb428-4a03-41d1-992b-aff2a13d3fb9\" xlink:actuate=\"onRequest\" xlink:href=\"psysml:fc5eb428-4a03-41d1-992b-aff2a13d3fb9\" xlink:show=\"new\" xlink:title=\"psysml:fc5eb428-4a03-41d1-992b-aff2a13d3fb9\" xlink:type=\"simple\"><rect fill=\"#FFFFFF\" height=\"40\" id=\"E9\" rx=\"10\" ry=\"10\" style=\"stroke: #383838; stroke-width: 1.5;\" width=\"50\" x=\"432\" y=\"143\"/><rect fill=\"#F8F8F8\" height=\"23.9688\" rx=\"10\" ry=\"10\" style=\"stroke: #F8F8F8; stroke-width: 1.5;\" width=\"50\" x=\"432\" y=\"143\"/><rect fill=\"#F8F8F8\" height=\"10\" style=\"stroke: #F8F8F8; stroke-width: 1.5;\" width=\"50\" x=\"432\" y=\"156.9688\"/><rect fill=\"none\" height=\"40\" id=\"E9\" rx=\"10\" ry=\"10\" style=\"stroke: #383838; stroke-width: 1.5;\" width=\"50\" x=\"432\" y=\"143\"/><text fill=\"#000000\" font-family=\"sans-serif\" font-size=\"12\" lengthAdjust=\"spacingAndGlyphs\" textLength=\"13\" x=\"450.5\" y=\"159.1387\">r1</text></a></g><!--MD5=[a717450b82c80b9240a525fa862496af]\n",
       "link E6 to E3--><a href=\"psysml:7b3d769f-4c56-4413-aa9f-0104e9507d6b\" target=\"_top\" title=\"psysml:7b3d769f-4c56-4413-aa9f-0104e9507d6b\" xlink:actuate=\"onRequest\" xlink:href=\"psysml:7b3d769f-4c56-4413-aa9f-0104e9507d6b\" xlink:show=\"new\" xlink:title=\"psysml:7b3d769f-4c56-4413-aa9f-0104e9507d6b\" xlink:type=\"simple\"><path d=\"M360,186.01 C360,195.62 360,207.22 360,218.4 \" fill=\"none\" id=\"E6-&gt;E3\" style=\"stroke: #383838; stroke-width: 1.0;\"/><polygon fill=\"#FFFFFF\" points=\"360,238.74,353,219.74,367,219.74,360,238.74\" style=\"stroke: #383838; stroke-width: 1.0;\"/><ellipse cx=\"355\" cy=\"214.04\" fill=\"#383838\" rx=\"2\" ry=\"2\" style=\"stroke: #383838; stroke-width: 1.0;\"/><ellipse cx=\"365\" cy=\"214.04\" fill=\"#383838\" rx=\"2\" ry=\"2\" style=\"stroke: #383838; stroke-width: 1.0;\"/></a><!--MD5=[2a592c6c3a4b0c16a3effdfa5b51ce72]\n",
       "@startuml\r\n",
       "skinparam ranksep 10\r\n",
       "skinparam rectangle {\r\n",
       " backgroundColor<<block>> LightGreen\r\n",
       "}\r\n",
       " skinparam monochrome true\r\n",
       "skinparam classbackgroundcolor white\r\n",
       "skinparam shadowing false\r\n",
       "skinparam wrapWidth 300\r\n",
       "hide circle\r\n",
       "\r\n",
       "package \"ViewTest\" as E1  [[psysml:fb02ed11-6398-4cea-b135-53d0cca9c478 ]]  {\r\n",
       "package \"P\" as E2  [[psysml:6d9f5c34-02db-4c22-b8ae-ed1a072d5ac7 ]]  {\r\n",
       "}\r\n",
       "comp def \"VP\" as E3  <<(T,blue)viewpoint def>> [[psysml:436e526f-0cc5-474d-8f19-4580d940df20 ]] {\r\n",
       "}\r\n",
       "rec def \"R\" as E4  <<(T,blue)rendering def>> [[psysml:053dc08e-a8e7-4770-acc6-30068883d6d6 ]] {\r\n",
       "}\r\n",
       "rec def \"V\" as E5  <<(T,blue)view def>> [[psysml:2fa1d21f-0378-4832-ab0e-3c490c491fc9 ]] {\r\n",
       "comp usage \"vp: VP\" as E6  <<(T,blue)viewpoint>> [[psysml:b39da276-6b98-4aad-85bf-f9ecfc55683d ]] {\r\n",
       "}\r\n",
       "rec usage \"r: R\" as E7  [[psysml:5db0ac38-23f9-426f-a666-7fa33ad35708 ]] {\r\n",
       "}\r\n",
       "rec usage \"v: V\" as E8  [[psysml:96dfc0dc-2946-48da-b50d-9c346f08b52f ]] {\r\n",
       "rec usage \"r1\" as E9  [[psysml:fc5eb428-4a03-41d1-992b-aff2a13d3fb9 ]] {\r\n",
       "}\r\n",
       "}\r\n",
       "}\r\n",
       "E6 - -:|> E3 [[psysml:7b3d769f-4c56-4413-aa9f-0104e9507d6b ]] \r\n",
       "}\r\n",
       "@enduml\r\n",
       "\n",
       "PlantUML version 1.2020.13(Sat Jun 13 12:26:38 UTC 2020)\n",
       "(EPL source distribution)\n",
       "Java Runtime: OpenJDK Runtime Environment\n",
       "JVM: OpenJDK 64-Bit Server VM\n",
       "Default Encoding: UTF-8\n",
       "Language: en\n",
       "Country: null\n",
       "--></g></svg>"
      ]
     },
     "execution_count": 5,
     "metadata": {},
     "output_type": "execute_result"
    }
   ],
   "source": [
    "%viz --style=\"COMPTREE\" --view=\"Interconnection\" \"ViewTest\""
   ]
  },
  {
   "cell_type": "code",
   "execution_count": 6,
   "id": "literary-tolerance",
   "metadata": {
    "execution": {
     "iopub.execute_input": "2021-03-24T16:32:11.023965Z",
     "iopub.status.busy": "2021-03-24T16:32:11.023553Z",
     "iopub.status.idle": "2021-03-24T16:32:11.033789Z",
     "shell.execute_reply": "2021-03-24T16:32:11.034414Z"
    }
   },
   "outputs": [
    {
     "data": {
      "image/svg+xml": [
       "<?xml version=\"1.0\" encoding=\"UTF-8\" standalone=\"no\"?><svg xmlns=\"http://www.w3.org/2000/svg\" xmlns:xlink=\"http://www.w3.org/1999/xlink\" contentScriptType=\"application/ecmascript\" contentStyleType=\"text/css\" height=\"12px\" preserveAspectRatio=\"none\" style=\"width:12px;height:12px;\" version=\"1.1\" viewBox=\"0 0 12 12\" width=\"12px\" zoomAndPan=\"magnify\"><defs/><g><!--MD5=[655b888544ca4751ea36af1068543f84]\n",
       "@startuml\r\n",
       "skinparam ranksep 8\r\n",
       " skinparam monochrome true\r\n",
       "skinparam classbackgroundcolor white\r\n",
       "skinparam shadowing false\r\n",
       "skinparam wrapWidth 300\r\n",
       "hide circle\r\n",
       "\r\n",
       "@enduml\r\n",
       "\n",
       "PlantUML version 1.2020.13(Sat Jun 13 12:26:38 UTC 2020)\n",
       "(EPL source distribution)\n",
       "Java Runtime: OpenJDK Runtime Environment\n",
       "JVM: OpenJDK 64-Bit Server VM\n",
       "Default Encoding: UTF-8\n",
       "Language: en\n",
       "Country: null\n",
       "--></g></svg>"
      ]
     },
     "execution_count": 6,
     "metadata": {},
     "output_type": "execute_result"
    }
   ],
   "source": [
    "%viz --style=\"COMPTREE\" --view=\"Action\" \"ViewTest\""
   ]
  },
  {
   "cell_type": "code",
   "execution_count": 7,
   "id": "generic-trace",
   "metadata": {
    "execution": {
     "iopub.execute_input": "2021-03-24T16:32:11.085654Z",
     "iopub.status.busy": "2021-03-24T16:32:11.084971Z",
     "iopub.status.idle": "2021-03-24T16:32:11.146840Z",
     "shell.execute_reply": "2021-03-24T16:32:11.147182Z"
    }
   },
   "outputs": [
    {
     "data": {
      "image/svg+xml": [
       "<?xml version=\"1.0\" encoding=\"UTF-8\" standalone=\"no\"?><svg xmlns=\"http://www.w3.org/2000/svg\" xmlns:xlink=\"http://www.w3.org/1999/xlink\" contentScriptType=\"application/ecmascript\" contentStyleType=\"text/css\" height=\"334px\" preserveAspectRatio=\"none\" style=\"width:417px;height:334px;\" version=\"1.1\" viewBox=\"0 0 417 334\" width=\"417px\" zoomAndPan=\"magnify\"><defs/><g><!--MD5=[fbc87193dbaf4d95561dea2c320d4a47]\n",
       "cluster E1--><a href=\"psysml:fb02ed11-6398-4cea-b135-53d0cca9c478\" target=\"_top\" title=\"psysml:fb02ed11-6398-4cea-b135-53d0cca9c478\" xlink:actuate=\"onRequest\" xlink:href=\"psysml:fb02ed11-6398-4cea-b135-53d0cca9c478\" xlink:show=\"new\" xlink:title=\"psysml:fb02ed11-6398-4cea-b135-53d0cca9c478\" xlink:type=\"simple\"><polygon fill=\"#FFFFFF\" points=\"16,6,96,6,103,28.2969,395,28.2969,395,322,16,322,16,6\" style=\"stroke: #000000; stroke-width: 1.5;\"/><line style=\"stroke: #000000; stroke-width: 1.5;\" x1=\"16\" x2=\"103\" y1=\"28.2969\" y2=\"28.2969\"/><text fill=\"#000000\" font-family=\"sans-serif\" font-size=\"14\" font-weight=\"bold\" lengthAdjust=\"spacingAndGlyphs\" textLength=\"74\" x=\"20\" y=\"20.9951\">ViewTest</text></a><!--MD5=[09b614a08d8cba4a07c9adeb5e0fee81]\n",
       "class E3--><a href=\"psysml:436e526f-0cc5-474d-8f19-4580d940df20\" target=\"_top\" title=\"psysml:436e526f-0cc5-474d-8f19-4580d940df20\" xlink:actuate=\"onRequest\" xlink:href=\"psysml:436e526f-0cc5-474d-8f19-4580d940df20\" xlink:show=\"new\" xlink:title=\"psysml:436e526f-0cc5-474d-8f19-4580d940df20\" xlink:type=\"simple\"><rect fill=\"#FFFFFF\" height=\"45.9375\" id=\"E3\" style=\"stroke: #383838; stroke-width: 1.5;\" width=\"98\" x=\"32\" y=\"260\"/><text fill=\"#000000\" font-family=\"sans-serif\" font-size=\"12\" font-style=\"italic\" lengthAdjust=\"spacingAndGlyphs\" textLength=\"96\" x=\"33\" y=\"276.1387\">«viewpoint def»</text><text fill=\"#000000\" font-family=\"sans-serif\" font-size=\"12\" lengthAdjust=\"spacingAndGlyphs\" textLength=\"16\" x=\"73\" y=\"290.1074\">VP</text><line style=\"stroke: #383838; stroke-width: 1.5;\" x1=\"33\" x2=\"129\" y1=\"297.9375\" y2=\"297.9375\"/></a><!--MD5=[ebbe1d658d1005bcc118a6aa81145e00]\n",
       "class E4--><a href=\"psysml:053dc08e-a8e7-4770-acc6-30068883d6d6\" target=\"_top\" title=\"psysml:053dc08e-a8e7-4770-acc6-30068883d6d6\" xlink:actuate=\"onRequest\" xlink:href=\"psysml:053dc08e-a8e7-4770-acc6-30068883d6d6\" xlink:show=\"new\" xlink:title=\"psysml:053dc08e-a8e7-4770-acc6-30068883d6d6\" xlink:type=\"simple\"><rect fill=\"#FFFFFF\" height=\"45.9375\" id=\"E4\" style=\"stroke: #383838; stroke-width: 1.5;\" width=\"101\" x=\"165.5\" y=\"260\"/><text fill=\"#000000\" font-family=\"sans-serif\" font-size=\"12\" font-style=\"italic\" lengthAdjust=\"spacingAndGlyphs\" textLength=\"99\" x=\"166.5\" y=\"276.1387\">«rendering def»</text><text fill=\"#000000\" font-family=\"sans-serif\" font-size=\"12\" lengthAdjust=\"spacingAndGlyphs\" textLength=\"8\" x=\"212\" y=\"290.1074\">R</text><line style=\"stroke: #383838; stroke-width: 1.5;\" x1=\"166.5\" x2=\"265.5\" y1=\"297.9375\" y2=\"297.9375\"/></a><!--MD5=[270fce915f116d4de14055a7c1d9a0f3]\n",
       "class E5--><a href=\"psysml:2fa1d21f-0378-4832-ab0e-3c490c491fc9\" target=\"_top\" title=\"psysml:2fa1d21f-0378-4832-ab0e-3c490c491fc9\" xlink:actuate=\"onRequest\" xlink:href=\"psysml:2fa1d21f-0378-4832-ab0e-3c490c491fc9\" xlink:show=\"new\" xlink:title=\"psysml:2fa1d21f-0378-4832-ab0e-3c490c491fc9\" xlink:type=\"simple\"><rect fill=\"#FFFFFF\" height=\"45.9375\" id=\"E5\" style=\"stroke: #383838; stroke-width: 1.5;\" width=\"66\" x=\"230\" y=\"44.5\"/><text fill=\"#000000\" font-family=\"sans-serif\" font-size=\"12\" font-style=\"italic\" lengthAdjust=\"spacingAndGlyphs\" textLength=\"64\" x=\"231\" y=\"60.6387\">«view def»</text><text fill=\"#000000\" font-family=\"sans-serif\" font-size=\"12\" lengthAdjust=\"spacingAndGlyphs\" textLength=\"8\" x=\"259\" y=\"74.6074\">V</text><line style=\"stroke: #383838; stroke-width: 1.5;\" x1=\"231\" x2=\"295\" y1=\"82.4375\" y2=\"82.4375\"/></a><!--MD5=[60a26617385b1d2d0262a64233df1f8d]\n",
       "class E6--><a href=\"psysml:b39da276-6b98-4aad-85bf-f9ecfc55683d\" target=\"_top\" title=\"psysml:b39da276-6b98-4aad-85bf-f9ecfc55683d\" xlink:actuate=\"onRequest\" xlink:href=\"psysml:b39da276-6b98-4aad-85bf-f9ecfc55683d\" xlink:show=\"new\" xlink:title=\"psysml:b39da276-6b98-4aad-85bf-f9ecfc55683d\" xlink:type=\"simple\"><rect fill=\"#FFFFFF\" height=\"45.9375\" id=\"E6\" rx=\"10\" ry=\"10\" style=\"stroke: #383838; stroke-width: 1.5;\" width=\"74\" x=\"56\" y=\"154\"/><text fill=\"#000000\" font-family=\"sans-serif\" font-size=\"12\" font-style=\"italic\" lengthAdjust=\"spacingAndGlyphs\" textLength=\"72\" x=\"57\" y=\"170.1387\">«viewpoint»</text><text fill=\"#000000\" font-family=\"sans-serif\" font-size=\"12\" lengthAdjust=\"spacingAndGlyphs\" textLength=\"38\" x=\"74\" y=\"184.1074\">vp: VP</text><line style=\"stroke: #383838; stroke-width: 1.5;\" x1=\"57\" x2=\"129\" y1=\"191.9375\" y2=\"191.9375\"/></a><!--MD5=[2156ba9850f5573cc1fc38a6a4b2f02b]\n",
       "class E7--><a href=\"psysml:5db0ac38-23f9-426f-a666-7fa33ad35708\" target=\"_top\" title=\"psysml:5db0ac38-23f9-426f-a666-7fa33ad35708\" xlink:actuate=\"onRequest\" xlink:href=\"psysml:5db0ac38-23f9-426f-a666-7fa33ad35708\" xlink:show=\"new\" xlink:title=\"psysml:5db0ac38-23f9-426f-a666-7fa33ad35708\" xlink:type=\"simple\"><rect fill=\"#FFFFFF\" height=\"45.9375\" id=\"E7\" rx=\"10\" ry=\"10\" style=\"stroke: #383838; stroke-width: 1.5;\" width=\"77\" x=\"177.5\" y=\"154\"/><text fill=\"#000000\" font-family=\"sans-serif\" font-size=\"12\" font-style=\"italic\" lengthAdjust=\"spacingAndGlyphs\" textLength=\"75\" x=\"178.5\" y=\"170.1387\">«rendering»</text><text fill=\"#000000\" font-family=\"sans-serif\" font-size=\"12\" lengthAdjust=\"spacingAndGlyphs\" textLength=\"21\" x=\"205.5\" y=\"184.1074\">r: R</text><line style=\"stroke: #383838; stroke-width: 1.5;\" x1=\"178.5\" x2=\"253.5\" y1=\"191.9375\" y2=\"191.9375\"/></a><!--MD5=[b9389687b975829384b498ac4b7476b2]\n",
       "class E8--><a href=\"psysml:96dfc0dc-2946-48da-b50d-9c346f08b52f\" target=\"_top\" title=\"psysml:96dfc0dc-2946-48da-b50d-9c346f08b52f\" xlink:actuate=\"onRequest\" xlink:href=\"psysml:96dfc0dc-2946-48da-b50d-9c346f08b52f\" xlink:show=\"new\" xlink:title=\"psysml:96dfc0dc-2946-48da-b50d-9c346f08b52f\" xlink:type=\"simple\"><rect fill=\"#FFFFFF\" height=\"45.9375\" id=\"E8\" rx=\"10\" ry=\"10\" style=\"stroke: #383838; stroke-width: 1.5;\" width=\"42\" x=\"290\" y=\"154\"/><text fill=\"#000000\" font-family=\"sans-serif\" font-size=\"12\" font-style=\"italic\" lengthAdjust=\"spacingAndGlyphs\" textLength=\"40\" x=\"291\" y=\"170.1387\">«view»</text><text fill=\"#000000\" font-family=\"sans-serif\" font-size=\"12\" lengthAdjust=\"spacingAndGlyphs\" textLength=\"22\" x=\"300\" y=\"184.1074\">v: V</text><line style=\"stroke: #383838; stroke-width: 1.5;\" x1=\"291\" x2=\"331\" y1=\"191.9375\" y2=\"191.9375\"/></a><!--MD5=[fd4143e9d270a159db93a4ea2a975926]\n",
       "class E9--><a href=\"psysml:fc5eb428-4a03-41d1-992b-aff2a13d3fb9\" target=\"_top\" title=\"psysml:fc5eb428-4a03-41d1-992b-aff2a13d3fb9\" xlink:actuate=\"onRequest\" xlink:href=\"psysml:fc5eb428-4a03-41d1-992b-aff2a13d3fb9\" xlink:show=\"new\" xlink:title=\"psysml:fc5eb428-4a03-41d1-992b-aff2a13d3fb9\" xlink:type=\"simple\"><rect fill=\"#FFFFFF\" height=\"45.9375\" id=\"E9\" rx=\"10\" ry=\"10\" style=\"stroke: #383838; stroke-width: 1.5;\" width=\"77\" x=\"301.5\" y=\"260\"/><text fill=\"#000000\" font-family=\"sans-serif\" font-size=\"12\" font-style=\"italic\" lengthAdjust=\"spacingAndGlyphs\" textLength=\"75\" x=\"302.5\" y=\"276.1387\">«rendering»</text><text fill=\"#000000\" font-family=\"sans-serif\" font-size=\"12\" lengthAdjust=\"spacingAndGlyphs\" textLength=\"13\" x=\"333.5\" y=\"290.1074\">r1</text><line style=\"stroke: #383838; stroke-width: 1.5;\" x1=\"302.5\" x2=\"377.5\" y1=\"297.9375\" y2=\"297.9375\"/></a><a href=\"psysml:6d9f5c34-02db-4c22-b8ae-ed1a072d5ac7\" target=\"_top\" title=\"psysml:6d9f5c34-02db-4c22-b8ae-ed1a072d5ac7\" xlink:actuate=\"onRequest\" xlink:href=\"psysml:6d9f5c34-02db-4c22-b8ae-ed1a072d5ac7\" xlink:show=\"new\" xlink:title=\"psysml:6d9f5c34-02db-4c22-b8ae-ed1a072d5ac7\" xlink:type=\"simple\"><polygon fill=\"#FFFFFF\" points=\"122,41,138,41,145,63.2969,152,63.2969,152,93.5938,122,93.5938,122,41\" style=\"stroke: #000000; stroke-width: 1.5;\"/><line style=\"stroke: #000000; stroke-width: 1.5;\" x1=\"122\" x2=\"145\" y1=\"63.2969\" y2=\"63.2969\"/><text fill=\"#000000\" font-family=\"sans-serif\" font-size=\"14\" font-weight=\"bold\" lengthAdjust=\"spacingAndGlyphs\" textLength=\"10\" x=\"126\" y=\"55.9951\">P</text></a><!--MD5=[85d356282659285ab4b2cfe2f634dd2b]\n",
       "reverse link E5 to E6--><a href=\"psysml:b39da276-6b98-4aad-85bf-f9ecfc55683d\" target=\"_top\" title=\"psysml:b39da276-6b98-4aad-85bf-f9ecfc55683d\" xlink:actuate=\"onRequest\" xlink:href=\"psysml:b39da276-6b98-4aad-85bf-f9ecfc55683d\" xlink:show=\"new\" xlink:title=\"psysml:b39da276-6b98-4aad-85bf-f9ecfc55683d\" xlink:type=\"simple\"><path d=\"M218.61,96.57 C190.28,114.48 154.1,137.36 127.85,153.96 \" fill=\"none\" id=\"E5&lt;-E6\" style=\"stroke: #383838; stroke-width: 1.0;\"/><polygon fill=\"#383838\" points=\"229.82,89.48,222.6111,89.2999,219.6723,95.8849,226.8811,96.0651,229.82,89.48\" style=\"stroke: #383838; stroke-width: 1.0;\"/></a><!--MD5=[a717450b82c80b9240a525fa862496af]\n",
       "link E6 to E3--><a href=\"psysml:7b3d769f-4c56-4413-aa9f-0104e9507d6b\" target=\"_top\" title=\"psysml:7b3d769f-4c56-4413-aa9f-0104e9507d6b\" xlink:actuate=\"onRequest\" xlink:href=\"psysml:7b3d769f-4c56-4413-aa9f-0104e9507d6b\" xlink:show=\"new\" xlink:title=\"psysml:7b3d769f-4c56-4413-aa9f-0104e9507d6b\" xlink:type=\"simple\"><path d=\"M90.46,200.06 C89.12,211.64 87.44,226.23 85.86,239.87 \" fill=\"none\" id=\"E6-&gt;E3\" style=\"stroke: #383838; stroke-width: 1.0;\"/><polygon fill=\"#FFFFFF\" points=\"83.54,259.98,78.757,240.3046,92.6653,241.9044,83.54,259.98\" style=\"stroke: #383838; stroke-width: 1.0;\"/><ellipse cx=\"81.3953\" cy=\"234.8704\" fill=\"#383838\" rx=\"2\" ry=\"2\" style=\"stroke: #383838; stroke-width: 1.0;\"/><ellipse cx=\"91.3298\" cy=\"236.0132\" fill=\"#383838\" rx=\"2\" ry=\"2\" style=\"stroke: #383838; stroke-width: 1.0;\"/></a><!--MD5=[6bdd27f9905911a7e892a3dc65cf6b7c]\n",
       "link E7 to E4--><a href=\"psysml:f768404d-501b-4614-8ab9-e2515f32fafd\" target=\"_top\" title=\"psysml:f768404d-501b-4614-8ab9-e2515f32fafd\" xlink:actuate=\"onRequest\" xlink:href=\"psysml:f768404d-501b-4614-8ab9-e2515f32fafd\" xlink:show=\"new\" xlink:title=\"psysml:f768404d-501b-4614-8ab9-e2515f32fafd\" xlink:type=\"simple\"><path d=\"M216,200.06 C216,211.64 216,226.23 216,239.87 \" fill=\"none\" id=\"E7-&gt;E4\" style=\"stroke: #383838; stroke-width: 1.0;\"/><polygon fill=\"#FFFFFF\" points=\"216,259.98,209,240.98,223,240.98,216,259.98\" style=\"stroke: #383838; stroke-width: 1.0;\"/><ellipse cx=\"211\" cy=\"235.28\" fill=\"#383838\" rx=\"2\" ry=\"2\" style=\"stroke: #383838; stroke-width: 1.0;\"/><ellipse cx=\"221\" cy=\"235.28\" fill=\"#383838\" rx=\"2\" ry=\"2\" style=\"stroke: #383838; stroke-width: 1.0;\"/></a><!--MD5=[452b418e7f8a40397a49b8c0a78acc5b]\n",
       "reverse link E5 to E7--><a href=\"psysml:5db0ac38-23f9-426f-a666-7fa33ad35708\" target=\"_top\" title=\"psysml:5db0ac38-23f9-426f-a666-7fa33ad35708\" xlink:actuate=\"onRequest\" xlink:href=\"psysml:5db0ac38-23f9-426f-a666-7fa33ad35708\" xlink:show=\"new\" xlink:title=\"psysml:5db0ac38-23f9-426f-a666-7fa33ad35708\" xlink:type=\"simple\"><path d=\"M248.1,102.57 C240.81,119.26 232.23,138.89 225.77,153.65 \" fill=\"none\" id=\"E5&lt;-E7\" style=\"stroke: #383838; stroke-width: 1.0;\"/><polygon fill=\"#383838\" points=\"253.38,90.51,247.31,94.4029,248.5688,101.5033,254.6388,97.6104,253.38,90.51\" style=\"stroke: #383838; stroke-width: 1.0;\"/><text fill=\"#000000\" font-family=\"sans-serif\" font-size=\"13\" lengthAdjust=\"spacingAndGlyphs\" textLength=\"24\" x=\"201.1986\" y=\"142.8366\">0..1</text></a><!--MD5=[1ccb2481ffa92f8d51a74ee30c51832a]\n",
       "link E8 to E5--><a href=\"psysml:2ecacd66-b174-4fa5-a1f0-5f98a8e6e629\" target=\"_top\" title=\"psysml:2ecacd66-b174-4fa5-a1f0-5f98a8e6e629\" xlink:actuate=\"onRequest\" xlink:href=\"psysml:2ecacd66-b174-4fa5-a1f0-5f98a8e6e629\" xlink:show=\"new\" xlink:title=\"psysml:2ecacd66-b174-4fa5-a1f0-5f98a8e6e629\" xlink:type=\"simple\"><path d=\"M312.22,153.65 C308.53,140.48 301.55,123.44 293.74,108.07 \" fill=\"none\" id=\"E8-&gt;E5\" style=\"stroke: #383838; stroke-width: 1.0;\"/><polygon fill=\"#FFFFFF\" points=\"283.97,90.51,299.3209,103.7142,287.0851,110.5174,283.97,90.51\" style=\"stroke: #383838; stroke-width: 1.0;\"/><ellipse cx=\"300.3428\" cy=\"109.6678\" fill=\"#383838\" rx=\"2\" ry=\"2\" style=\"stroke: #383838; stroke-width: 1.0;\"/><ellipse cx=\"291.6029\" cy=\"114.5273\" fill=\"#383838\" rx=\"2\" ry=\"2\" style=\"stroke: #383838; stroke-width: 1.0;\"/></a><!--MD5=[827760032d119d06bbc92f75530fd7ae]\n",
       "reverse link E5 to E8--><a href=\"psysml:96dfc0dc-2946-48da-b50d-9c346f08b52f\" target=\"_top\" title=\"psysml:96dfc0dc-2946-48da-b50d-9c346f08b52f\" xlink:actuate=\"onRequest\" xlink:href=\"psysml:96dfc0dc-2946-48da-b50d-9c346f08b52f\" xlink:show=\"new\" xlink:title=\"psysml:96dfc0dc-2946-48da-b50d-9c346f08b52f\" xlink:type=\"simple\"><path d=\"M266.44,103.07 C272.49,119.65 281.62,139.03 290.44,153.65 \" fill=\"none\" id=\"E5&lt;-E8\" style=\"stroke: #383838; stroke-width: 1.0;\"/><polygon fill=\"#383838\" points=\"262.31,90.51,260.3836,97.459,266.0572,101.9099,267.9836,94.9609,262.31,90.51\" style=\"stroke: #383838; stroke-width: 1.0;\"/><text fill=\"#000000\" font-family=\"sans-serif\" font-size=\"13\" lengthAdjust=\"spacingAndGlyphs\" textLength=\"7\" x=\"277.2746\" y=\"142.8366\">*</text></a><!--MD5=[22f5b4bae7e060dce8a1c8021efdb95b]\n",
       "reverse link E8 to E9--><a href=\"psysml:fc5eb428-4a03-41d1-992b-aff2a13d3fb9\" target=\"_top\" title=\"psysml:fc5eb428-4a03-41d1-992b-aff2a13d3fb9\" xlink:actuate=\"onRequest\" xlink:href=\"psysml:fc5eb428-4a03-41d1-992b-aff2a13d3fb9\" xlink:show=\"new\" xlink:title=\"psysml:fc5eb428-4a03-41d1-992b-aff2a13d3fb9\" xlink:type=\"simple\"><path d=\"M320.75,212.96 C325.08,228.51 330.05,246.33 333.86,259.98 \" fill=\"none\" id=\"E8&lt;-E9\" style=\"stroke: #383838; stroke-width: 1.0;\"/><polygon fill=\"#383838\" points=\"317.15,200.06,314.9066,206.9133,320.3699,211.6199,322.6133,204.7667,317.15,200.06\" style=\"stroke: #383838; stroke-width: 1.0;\"/></a><!--MD5=[f5d7b67cf751ac27523f1ef050b35705]\n",
       "@startuml\r\n",
       " skinparam monochrome true\r\n",
       "skinparam classbackgroundcolor white\r\n",
       "skinparam shadowing false\r\n",
       "skinparam wrapWidth 300\r\n",
       "hide circle\r\n",
       "\r\n",
       "package \"ViewTest\" as E1  [[psysml:fb02ed11-6398-4cea-b135-53d0cca9c478 ]]  {\r\n",
       "package \"P\" as E2  [[psysml:6d9f5c34-02db-4c22-b8ae-ed1a072d5ac7 ]]  {\r\n",
       "}\r\n",
       "comp def \"VP\" as E3  <<(T,blue)viewpoint def>> [[psysml:436e526f-0cc5-474d-8f19-4580d940df20 ]] {\r\n",
       "}\r\n",
       "comp def \"R\" as E4  <<(T,blue)rendering def>> [[psysml:053dc08e-a8e7-4770-acc6-30068883d6d6 ]] {\r\n",
       "}\r\n",
       "comp def \"V\" as E5  <<(T,blue)view def>> [[psysml:2fa1d21f-0378-4832-ab0e-3c490c491fc9 ]] {\r\n",
       "}\r\n",
       "comp usage \"vp: VP\" as E6  <<(T,blue)viewpoint>> [[psysml:b39da276-6b98-4aad-85bf-f9ecfc55683d ]] {\r\n",
       "}\r\n",
       "comp usage \"r: R\" as E7  <<(T,blue)rendering>> [[psysml:5db0ac38-23f9-426f-a666-7fa33ad35708 ]] {\r\n",
       "}\r\n",
       "comp usage \"v: V\" as E8  <<(T,blue)view>> [[psysml:96dfc0dc-2946-48da-b50d-9c346f08b52f ]] {\r\n",
       "}\r\n",
       "comp usage \"r1\" as E9  <<(T,blue)rendering>> [[psysml:fc5eb428-4a03-41d1-992b-aff2a13d3fb9 ]] {\r\n",
       "}\r\n",
       "E5 *- - E6 [[psysml:b39da276-6b98-4aad-85bf-f9ecfc55683d ]] \r\n",
       "E6 - -:|> E3 [[psysml:7b3d769f-4c56-4413-aa9f-0104e9507d6b ]] \r\n",
       "E7 - -:|> E4 [[psysml:f768404d-501b-4614-8ab9-e2515f32fafd ]] \r\n",
       "E5 *- - \"0..1\"E7 [[psysml:5db0ac38-23f9-426f-a666-7fa33ad35708 ]] \r\n",
       "E8 - -:|> E5 [[psysml:2ecacd66-b174-4fa5-a1f0-5f98a8e6e629 ]] \r\n",
       "E5 *- - \"*\"E8 [[psysml:96dfc0dc-2946-48da-b50d-9c346f08b52f ]] \r\n",
       "E8 *- - E9 [[psysml:fc5eb428-4a03-41d1-992b-aff2a13d3fb9 ]] \r\n",
       "}\r\n",
       "@enduml\r\n",
       "\n",
       "PlantUML version 1.2020.13(Sat Jun 13 12:26:38 UTC 2020)\n",
       "(EPL source distribution)\n",
       "Java Runtime: OpenJDK Runtime Environment\n",
       "JVM: OpenJDK 64-Bit Server VM\n",
       "Default Encoding: UTF-8\n",
       "Language: en\n",
       "Country: null\n",
       "--></g></svg>"
      ]
     },
     "execution_count": 7,
     "metadata": {},
     "output_type": "execute_result"
    }
   ],
   "source": [
    "%viz --style=\"COMPTREE\" --view=\"Sequence\" \"ViewTest\""
   ]
  },
  {
   "cell_type": "code",
   "execution_count": 8,
   "id": "grave-charger",
   "metadata": {
    "execution": {
     "iopub.execute_input": "2021-03-24T16:32:11.197123Z",
     "iopub.status.busy": "2021-03-24T16:32:11.196751Z",
     "iopub.status.idle": "2021-03-24T16:32:11.250660Z",
     "shell.execute_reply": "2021-03-24T16:32:11.249209Z"
    }
   },
   "outputs": [
    {
     "data": {
      "image/svg+xml": [
       "<?xml version=\"1.0\" encoding=\"UTF-8\" standalone=\"no\"?><svg xmlns=\"http://www.w3.org/2000/svg\" xmlns:xlink=\"http://www.w3.org/1999/xlink\" contentScriptType=\"application/ecmascript\" contentStyleType=\"text/css\" height=\"334px\" preserveAspectRatio=\"none\" style=\"width:417px;height:334px;\" version=\"1.1\" viewBox=\"0 0 417 334\" width=\"417px\" zoomAndPan=\"magnify\"><defs/><g><!--MD5=[fbc87193dbaf4d95561dea2c320d4a47]\n",
       "cluster E1--><a href=\"psysml:fb02ed11-6398-4cea-b135-53d0cca9c478\" target=\"_top\" title=\"psysml:fb02ed11-6398-4cea-b135-53d0cca9c478\" xlink:actuate=\"onRequest\" xlink:href=\"psysml:fb02ed11-6398-4cea-b135-53d0cca9c478\" xlink:show=\"new\" xlink:title=\"psysml:fb02ed11-6398-4cea-b135-53d0cca9c478\" xlink:type=\"simple\"><polygon fill=\"#FFFFFF\" points=\"16,6,96,6,103,28.2969,395,28.2969,395,322,16,322,16,6\" style=\"stroke: #000000; stroke-width: 1.5;\"/><line style=\"stroke: #000000; stroke-width: 1.5;\" x1=\"16\" x2=\"103\" y1=\"28.2969\" y2=\"28.2969\"/><text fill=\"#000000\" font-family=\"sans-serif\" font-size=\"14\" font-weight=\"bold\" lengthAdjust=\"spacingAndGlyphs\" textLength=\"74\" x=\"20\" y=\"20.9951\">ViewTest</text></a><!--MD5=[09b614a08d8cba4a07c9adeb5e0fee81]\n",
       "class E3--><a href=\"psysml:436e526f-0cc5-474d-8f19-4580d940df20\" target=\"_top\" title=\"psysml:436e526f-0cc5-474d-8f19-4580d940df20\" xlink:actuate=\"onRequest\" xlink:href=\"psysml:436e526f-0cc5-474d-8f19-4580d940df20\" xlink:show=\"new\" xlink:title=\"psysml:436e526f-0cc5-474d-8f19-4580d940df20\" xlink:type=\"simple\"><rect fill=\"#FFFFFF\" height=\"45.9375\" id=\"E3\" style=\"stroke: #383838; stroke-width: 1.5;\" width=\"98\" x=\"32\" y=\"260\"/><text fill=\"#000000\" font-family=\"sans-serif\" font-size=\"12\" font-style=\"italic\" lengthAdjust=\"spacingAndGlyphs\" textLength=\"96\" x=\"33\" y=\"276.1387\">«viewpoint def»</text><text fill=\"#000000\" font-family=\"sans-serif\" font-size=\"12\" lengthAdjust=\"spacingAndGlyphs\" textLength=\"16\" x=\"73\" y=\"290.1074\">VP</text><line style=\"stroke: #383838; stroke-width: 1.5;\" x1=\"33\" x2=\"129\" y1=\"297.9375\" y2=\"297.9375\"/></a><!--MD5=[ebbe1d658d1005bcc118a6aa81145e00]\n",
       "class E4--><a href=\"psysml:053dc08e-a8e7-4770-acc6-30068883d6d6\" target=\"_top\" title=\"psysml:053dc08e-a8e7-4770-acc6-30068883d6d6\" xlink:actuate=\"onRequest\" xlink:href=\"psysml:053dc08e-a8e7-4770-acc6-30068883d6d6\" xlink:show=\"new\" xlink:title=\"psysml:053dc08e-a8e7-4770-acc6-30068883d6d6\" xlink:type=\"simple\"><rect fill=\"#FFFFFF\" height=\"45.9375\" id=\"E4\" style=\"stroke: #383838; stroke-width: 1.5;\" width=\"101\" x=\"165.5\" y=\"260\"/><text fill=\"#000000\" font-family=\"sans-serif\" font-size=\"12\" font-style=\"italic\" lengthAdjust=\"spacingAndGlyphs\" textLength=\"99\" x=\"166.5\" y=\"276.1387\">«rendering def»</text><text fill=\"#000000\" font-family=\"sans-serif\" font-size=\"12\" lengthAdjust=\"spacingAndGlyphs\" textLength=\"8\" x=\"212\" y=\"290.1074\">R</text><line style=\"stroke: #383838; stroke-width: 1.5;\" x1=\"166.5\" x2=\"265.5\" y1=\"297.9375\" y2=\"297.9375\"/></a><!--MD5=[270fce915f116d4de14055a7c1d9a0f3]\n",
       "class E5--><a href=\"psysml:2fa1d21f-0378-4832-ab0e-3c490c491fc9\" target=\"_top\" title=\"psysml:2fa1d21f-0378-4832-ab0e-3c490c491fc9\" xlink:actuate=\"onRequest\" xlink:href=\"psysml:2fa1d21f-0378-4832-ab0e-3c490c491fc9\" xlink:show=\"new\" xlink:title=\"psysml:2fa1d21f-0378-4832-ab0e-3c490c491fc9\" xlink:type=\"simple\"><rect fill=\"#FFFFFF\" height=\"45.9375\" id=\"E5\" style=\"stroke: #383838; stroke-width: 1.5;\" width=\"66\" x=\"230\" y=\"44.5\"/><text fill=\"#000000\" font-family=\"sans-serif\" font-size=\"12\" font-style=\"italic\" lengthAdjust=\"spacingAndGlyphs\" textLength=\"64\" x=\"231\" y=\"60.6387\">«view def»</text><text fill=\"#000000\" font-family=\"sans-serif\" font-size=\"12\" lengthAdjust=\"spacingAndGlyphs\" textLength=\"8\" x=\"259\" y=\"74.6074\">V</text><line style=\"stroke: #383838; stroke-width: 1.5;\" x1=\"231\" x2=\"295\" y1=\"82.4375\" y2=\"82.4375\"/></a><!--MD5=[60a26617385b1d2d0262a64233df1f8d]\n",
       "class E6--><a href=\"psysml:b39da276-6b98-4aad-85bf-f9ecfc55683d\" target=\"_top\" title=\"psysml:b39da276-6b98-4aad-85bf-f9ecfc55683d\" xlink:actuate=\"onRequest\" xlink:href=\"psysml:b39da276-6b98-4aad-85bf-f9ecfc55683d\" xlink:show=\"new\" xlink:title=\"psysml:b39da276-6b98-4aad-85bf-f9ecfc55683d\" xlink:type=\"simple\"><rect fill=\"#FFFFFF\" height=\"45.9375\" id=\"E6\" rx=\"10\" ry=\"10\" style=\"stroke: #383838; stroke-width: 1.5;\" width=\"74\" x=\"56\" y=\"154\"/><text fill=\"#000000\" font-family=\"sans-serif\" font-size=\"12\" font-style=\"italic\" lengthAdjust=\"spacingAndGlyphs\" textLength=\"72\" x=\"57\" y=\"170.1387\">«viewpoint»</text><text fill=\"#000000\" font-family=\"sans-serif\" font-size=\"12\" lengthAdjust=\"spacingAndGlyphs\" textLength=\"38\" x=\"74\" y=\"184.1074\">vp: VP</text><line style=\"stroke: #383838; stroke-width: 1.5;\" x1=\"57\" x2=\"129\" y1=\"191.9375\" y2=\"191.9375\"/></a><!--MD5=[2156ba9850f5573cc1fc38a6a4b2f02b]\n",
       "class E7--><a href=\"psysml:5db0ac38-23f9-426f-a666-7fa33ad35708\" target=\"_top\" title=\"psysml:5db0ac38-23f9-426f-a666-7fa33ad35708\" xlink:actuate=\"onRequest\" xlink:href=\"psysml:5db0ac38-23f9-426f-a666-7fa33ad35708\" xlink:show=\"new\" xlink:title=\"psysml:5db0ac38-23f9-426f-a666-7fa33ad35708\" xlink:type=\"simple\"><rect fill=\"#FFFFFF\" height=\"45.9375\" id=\"E7\" rx=\"10\" ry=\"10\" style=\"stroke: #383838; stroke-width: 1.5;\" width=\"77\" x=\"177.5\" y=\"154\"/><text fill=\"#000000\" font-family=\"sans-serif\" font-size=\"12\" font-style=\"italic\" lengthAdjust=\"spacingAndGlyphs\" textLength=\"75\" x=\"178.5\" y=\"170.1387\">«rendering»</text><text fill=\"#000000\" font-family=\"sans-serif\" font-size=\"12\" lengthAdjust=\"spacingAndGlyphs\" textLength=\"21\" x=\"205.5\" y=\"184.1074\">r: R</text><line style=\"stroke: #383838; stroke-width: 1.5;\" x1=\"178.5\" x2=\"253.5\" y1=\"191.9375\" y2=\"191.9375\"/></a><!--MD5=[b9389687b975829384b498ac4b7476b2]\n",
       "class E8--><a href=\"psysml:96dfc0dc-2946-48da-b50d-9c346f08b52f\" target=\"_top\" title=\"psysml:96dfc0dc-2946-48da-b50d-9c346f08b52f\" xlink:actuate=\"onRequest\" xlink:href=\"psysml:96dfc0dc-2946-48da-b50d-9c346f08b52f\" xlink:show=\"new\" xlink:title=\"psysml:96dfc0dc-2946-48da-b50d-9c346f08b52f\" xlink:type=\"simple\"><rect fill=\"#FFFFFF\" height=\"45.9375\" id=\"E8\" rx=\"10\" ry=\"10\" style=\"stroke: #383838; stroke-width: 1.5;\" width=\"42\" x=\"290\" y=\"154\"/><text fill=\"#000000\" font-family=\"sans-serif\" font-size=\"12\" font-style=\"italic\" lengthAdjust=\"spacingAndGlyphs\" textLength=\"40\" x=\"291\" y=\"170.1387\">«view»</text><text fill=\"#000000\" font-family=\"sans-serif\" font-size=\"12\" lengthAdjust=\"spacingAndGlyphs\" textLength=\"22\" x=\"300\" y=\"184.1074\">v: V</text><line style=\"stroke: #383838; stroke-width: 1.5;\" x1=\"291\" x2=\"331\" y1=\"191.9375\" y2=\"191.9375\"/></a><!--MD5=[fd4143e9d270a159db93a4ea2a975926]\n",
       "class E9--><a href=\"psysml:fc5eb428-4a03-41d1-992b-aff2a13d3fb9\" target=\"_top\" title=\"psysml:fc5eb428-4a03-41d1-992b-aff2a13d3fb9\" xlink:actuate=\"onRequest\" xlink:href=\"psysml:fc5eb428-4a03-41d1-992b-aff2a13d3fb9\" xlink:show=\"new\" xlink:title=\"psysml:fc5eb428-4a03-41d1-992b-aff2a13d3fb9\" xlink:type=\"simple\"><rect fill=\"#FFFFFF\" height=\"45.9375\" id=\"E9\" rx=\"10\" ry=\"10\" style=\"stroke: #383838; stroke-width: 1.5;\" width=\"77\" x=\"301.5\" y=\"260\"/><text fill=\"#000000\" font-family=\"sans-serif\" font-size=\"12\" font-style=\"italic\" lengthAdjust=\"spacingAndGlyphs\" textLength=\"75\" x=\"302.5\" y=\"276.1387\">«rendering»</text><text fill=\"#000000\" font-family=\"sans-serif\" font-size=\"12\" lengthAdjust=\"spacingAndGlyphs\" textLength=\"13\" x=\"333.5\" y=\"290.1074\">r1</text><line style=\"stroke: #383838; stroke-width: 1.5;\" x1=\"302.5\" x2=\"377.5\" y1=\"297.9375\" y2=\"297.9375\"/></a><a href=\"psysml:6d9f5c34-02db-4c22-b8ae-ed1a072d5ac7\" target=\"_top\" title=\"psysml:6d9f5c34-02db-4c22-b8ae-ed1a072d5ac7\" xlink:actuate=\"onRequest\" xlink:href=\"psysml:6d9f5c34-02db-4c22-b8ae-ed1a072d5ac7\" xlink:show=\"new\" xlink:title=\"psysml:6d9f5c34-02db-4c22-b8ae-ed1a072d5ac7\" xlink:type=\"simple\"><polygon fill=\"#FFFFFF\" points=\"122,41,138,41,145,63.2969,152,63.2969,152,93.5938,122,93.5938,122,41\" style=\"stroke: #000000; stroke-width: 1.5;\"/><line style=\"stroke: #000000; stroke-width: 1.5;\" x1=\"122\" x2=\"145\" y1=\"63.2969\" y2=\"63.2969\"/><text fill=\"#000000\" font-family=\"sans-serif\" font-size=\"14\" font-weight=\"bold\" lengthAdjust=\"spacingAndGlyphs\" textLength=\"10\" x=\"126\" y=\"55.9951\">P</text></a><!--MD5=[85d356282659285ab4b2cfe2f634dd2b]\n",
       "reverse link E5 to E6--><a href=\"psysml:b39da276-6b98-4aad-85bf-f9ecfc55683d\" target=\"_top\" title=\"psysml:b39da276-6b98-4aad-85bf-f9ecfc55683d\" xlink:actuate=\"onRequest\" xlink:href=\"psysml:b39da276-6b98-4aad-85bf-f9ecfc55683d\" xlink:show=\"new\" xlink:title=\"psysml:b39da276-6b98-4aad-85bf-f9ecfc55683d\" xlink:type=\"simple\"><path d=\"M218.61,96.57 C190.28,114.48 154.1,137.36 127.85,153.96 \" fill=\"none\" id=\"E5&lt;-E6\" style=\"stroke: #383838; stroke-width: 1.0;\"/><polygon fill=\"#383838\" points=\"229.82,89.48,222.6111,89.2999,219.6723,95.8849,226.8811,96.0651,229.82,89.48\" style=\"stroke: #383838; stroke-width: 1.0;\"/></a><!--MD5=[a717450b82c80b9240a525fa862496af]\n",
       "link E6 to E3--><a href=\"psysml:7b3d769f-4c56-4413-aa9f-0104e9507d6b\" target=\"_top\" title=\"psysml:7b3d769f-4c56-4413-aa9f-0104e9507d6b\" xlink:actuate=\"onRequest\" xlink:href=\"psysml:7b3d769f-4c56-4413-aa9f-0104e9507d6b\" xlink:show=\"new\" xlink:title=\"psysml:7b3d769f-4c56-4413-aa9f-0104e9507d6b\" xlink:type=\"simple\"><path d=\"M90.46,200.06 C89.12,211.64 87.44,226.23 85.86,239.87 \" fill=\"none\" id=\"E6-&gt;E3\" style=\"stroke: #383838; stroke-width: 1.0;\"/><polygon fill=\"#FFFFFF\" points=\"83.54,259.98,78.757,240.3046,92.6653,241.9044,83.54,259.98\" style=\"stroke: #383838; stroke-width: 1.0;\"/><ellipse cx=\"81.3953\" cy=\"234.8704\" fill=\"#383838\" rx=\"2\" ry=\"2\" style=\"stroke: #383838; stroke-width: 1.0;\"/><ellipse cx=\"91.3298\" cy=\"236.0132\" fill=\"#383838\" rx=\"2\" ry=\"2\" style=\"stroke: #383838; stroke-width: 1.0;\"/></a><!--MD5=[6bdd27f9905911a7e892a3dc65cf6b7c]\n",
       "link E7 to E4--><a href=\"psysml:f768404d-501b-4614-8ab9-e2515f32fafd\" target=\"_top\" title=\"psysml:f768404d-501b-4614-8ab9-e2515f32fafd\" xlink:actuate=\"onRequest\" xlink:href=\"psysml:f768404d-501b-4614-8ab9-e2515f32fafd\" xlink:show=\"new\" xlink:title=\"psysml:f768404d-501b-4614-8ab9-e2515f32fafd\" xlink:type=\"simple\"><path d=\"M216,200.06 C216,211.64 216,226.23 216,239.87 \" fill=\"none\" id=\"E7-&gt;E4\" style=\"stroke: #383838; stroke-width: 1.0;\"/><polygon fill=\"#FFFFFF\" points=\"216,259.98,209,240.98,223,240.98,216,259.98\" style=\"stroke: #383838; stroke-width: 1.0;\"/><ellipse cx=\"211\" cy=\"235.28\" fill=\"#383838\" rx=\"2\" ry=\"2\" style=\"stroke: #383838; stroke-width: 1.0;\"/><ellipse cx=\"221\" cy=\"235.28\" fill=\"#383838\" rx=\"2\" ry=\"2\" style=\"stroke: #383838; stroke-width: 1.0;\"/></a><!--MD5=[452b418e7f8a40397a49b8c0a78acc5b]\n",
       "reverse link E5 to E7--><a href=\"psysml:5db0ac38-23f9-426f-a666-7fa33ad35708\" target=\"_top\" title=\"psysml:5db0ac38-23f9-426f-a666-7fa33ad35708\" xlink:actuate=\"onRequest\" xlink:href=\"psysml:5db0ac38-23f9-426f-a666-7fa33ad35708\" xlink:show=\"new\" xlink:title=\"psysml:5db0ac38-23f9-426f-a666-7fa33ad35708\" xlink:type=\"simple\"><path d=\"M248.1,102.57 C240.81,119.26 232.23,138.89 225.77,153.65 \" fill=\"none\" id=\"E5&lt;-E7\" style=\"stroke: #383838; stroke-width: 1.0;\"/><polygon fill=\"#383838\" points=\"253.38,90.51,247.31,94.4029,248.5688,101.5033,254.6388,97.6104,253.38,90.51\" style=\"stroke: #383838; stroke-width: 1.0;\"/><text fill=\"#000000\" font-family=\"sans-serif\" font-size=\"13\" lengthAdjust=\"spacingAndGlyphs\" textLength=\"24\" x=\"201.1986\" y=\"142.8366\">0..1</text></a><!--MD5=[1ccb2481ffa92f8d51a74ee30c51832a]\n",
       "link E8 to E5--><a href=\"psysml:2ecacd66-b174-4fa5-a1f0-5f98a8e6e629\" target=\"_top\" title=\"psysml:2ecacd66-b174-4fa5-a1f0-5f98a8e6e629\" xlink:actuate=\"onRequest\" xlink:href=\"psysml:2ecacd66-b174-4fa5-a1f0-5f98a8e6e629\" xlink:show=\"new\" xlink:title=\"psysml:2ecacd66-b174-4fa5-a1f0-5f98a8e6e629\" xlink:type=\"simple\"><path d=\"M312.22,153.65 C308.53,140.48 301.55,123.44 293.74,108.07 \" fill=\"none\" id=\"E8-&gt;E5\" style=\"stroke: #383838; stroke-width: 1.0;\"/><polygon fill=\"#FFFFFF\" points=\"283.97,90.51,299.3209,103.7142,287.0851,110.5174,283.97,90.51\" style=\"stroke: #383838; stroke-width: 1.0;\"/><ellipse cx=\"300.3428\" cy=\"109.6678\" fill=\"#383838\" rx=\"2\" ry=\"2\" style=\"stroke: #383838; stroke-width: 1.0;\"/><ellipse cx=\"291.6029\" cy=\"114.5273\" fill=\"#383838\" rx=\"2\" ry=\"2\" style=\"stroke: #383838; stroke-width: 1.0;\"/></a><!--MD5=[827760032d119d06bbc92f75530fd7ae]\n",
       "reverse link E5 to E8--><a href=\"psysml:96dfc0dc-2946-48da-b50d-9c346f08b52f\" target=\"_top\" title=\"psysml:96dfc0dc-2946-48da-b50d-9c346f08b52f\" xlink:actuate=\"onRequest\" xlink:href=\"psysml:96dfc0dc-2946-48da-b50d-9c346f08b52f\" xlink:show=\"new\" xlink:title=\"psysml:96dfc0dc-2946-48da-b50d-9c346f08b52f\" xlink:type=\"simple\"><path d=\"M266.44,103.07 C272.49,119.65 281.62,139.03 290.44,153.65 \" fill=\"none\" id=\"E5&lt;-E8\" style=\"stroke: #383838; stroke-width: 1.0;\"/><polygon fill=\"#383838\" points=\"262.31,90.51,260.3836,97.459,266.0572,101.9099,267.9836,94.9609,262.31,90.51\" style=\"stroke: #383838; stroke-width: 1.0;\"/><text fill=\"#000000\" font-family=\"sans-serif\" font-size=\"13\" lengthAdjust=\"spacingAndGlyphs\" textLength=\"7\" x=\"277.2746\" y=\"142.8366\">*</text></a><!--MD5=[22f5b4bae7e060dce8a1c8021efdb95b]\n",
       "reverse link E8 to E9--><a href=\"psysml:fc5eb428-4a03-41d1-992b-aff2a13d3fb9\" target=\"_top\" title=\"psysml:fc5eb428-4a03-41d1-992b-aff2a13d3fb9\" xlink:actuate=\"onRequest\" xlink:href=\"psysml:fc5eb428-4a03-41d1-992b-aff2a13d3fb9\" xlink:show=\"new\" xlink:title=\"psysml:fc5eb428-4a03-41d1-992b-aff2a13d3fb9\" xlink:type=\"simple\"><path d=\"M320.75,212.96 C325.08,228.51 330.05,246.33 333.86,259.98 \" fill=\"none\" id=\"E8&lt;-E9\" style=\"stroke: #383838; stroke-width: 1.0;\"/><polygon fill=\"#383838\" points=\"317.15,200.06,314.9066,206.9133,320.3699,211.6199,322.6133,204.7667,317.15,200.06\" style=\"stroke: #383838; stroke-width: 1.0;\"/></a><!--MD5=[f5d7b67cf751ac27523f1ef050b35705]\n",
       "@startuml\r\n",
       " skinparam monochrome true\r\n",
       "skinparam classbackgroundcolor white\r\n",
       "skinparam shadowing false\r\n",
       "skinparam wrapWidth 300\r\n",
       "hide circle\r\n",
       "\r\n",
       "package \"ViewTest\" as E1  [[psysml:fb02ed11-6398-4cea-b135-53d0cca9c478 ]]  {\r\n",
       "package \"P\" as E2  [[psysml:6d9f5c34-02db-4c22-b8ae-ed1a072d5ac7 ]]  {\r\n",
       "}\r\n",
       "comp def \"VP\" as E3  <<(T,blue)viewpoint def>> [[psysml:436e526f-0cc5-474d-8f19-4580d940df20 ]] {\r\n",
       "}\r\n",
       "comp def \"R\" as E4  <<(T,blue)rendering def>> [[psysml:053dc08e-a8e7-4770-acc6-30068883d6d6 ]] {\r\n",
       "}\r\n",
       "comp def \"V\" as E5  <<(T,blue)view def>> [[psysml:2fa1d21f-0378-4832-ab0e-3c490c491fc9 ]] {\r\n",
       "}\r\n",
       "comp usage \"vp: VP\" as E6  <<(T,blue)viewpoint>> [[psysml:b39da276-6b98-4aad-85bf-f9ecfc55683d ]] {\r\n",
       "}\r\n",
       "comp usage \"r: R\" as E7  <<(T,blue)rendering>> [[psysml:5db0ac38-23f9-426f-a666-7fa33ad35708 ]] {\r\n",
       "}\r\n",
       "comp usage \"v: V\" as E8  <<(T,blue)view>> [[psysml:96dfc0dc-2946-48da-b50d-9c346f08b52f ]] {\r\n",
       "}\r\n",
       "comp usage \"r1\" as E9  <<(T,blue)rendering>> [[psysml:fc5eb428-4a03-41d1-992b-aff2a13d3fb9 ]] {\r\n",
       "}\r\n",
       "E5 *- - E6 [[psysml:b39da276-6b98-4aad-85bf-f9ecfc55683d ]] \r\n",
       "E6 - -:|> E3 [[psysml:7b3d769f-4c56-4413-aa9f-0104e9507d6b ]] \r\n",
       "E7 - -:|> E4 [[psysml:f768404d-501b-4614-8ab9-e2515f32fafd ]] \r\n",
       "E5 *- - \"0..1\"E7 [[psysml:5db0ac38-23f9-426f-a666-7fa33ad35708 ]] \r\n",
       "E8 - -:|> E5 [[psysml:2ecacd66-b174-4fa5-a1f0-5f98a8e6e629 ]] \r\n",
       "E5 *- - \"*\"E8 [[psysml:96dfc0dc-2946-48da-b50d-9c346f08b52f ]] \r\n",
       "E8 *- - E9 [[psysml:fc5eb428-4a03-41d1-992b-aff2a13d3fb9 ]] \r\n",
       "}\r\n",
       "@enduml\r\n",
       "\n",
       "PlantUML version 1.2020.13(Sat Jun 13 12:26:38 UTC 2020)\n",
       "(EPL source distribution)\n",
       "Java Runtime: OpenJDK Runtime Environment\n",
       "JVM: OpenJDK 64-Bit Server VM\n",
       "Default Encoding: UTF-8\n",
       "Language: en\n",
       "Country: null\n",
       "--></g></svg>"
      ]
     },
     "execution_count": 8,
     "metadata": {},
     "output_type": "execute_result"
    }
   ],
   "source": [
    "%viz --style=\"COMPTREE\" --view=\"MIXED\" \"ViewTest\""
   ]
  },
  {
   "cell_type": "code",
   "execution_count": 9,
   "id": "leading-gross",
   "metadata": {
    "execution": {
     "iopub.execute_input": "2021-03-24T16:32:11.303579Z",
     "iopub.status.busy": "2021-03-24T16:32:11.302972Z",
     "iopub.status.idle": "2021-03-24T16:32:11.382850Z",
     "shell.execute_reply": "2021-03-24T16:32:11.380975Z"
    }
   },
   "outputs": [
    {
     "data": {
      "image/svg+xml": [
       "<?xml version=\"1.0\" encoding=\"UTF-8\" standalone=\"no\"?><svg xmlns=\"http://www.w3.org/2000/svg\" xmlns:xlink=\"http://www.w3.org/1999/xlink\" contentScriptType=\"application/ecmascript\" contentStyleType=\"text/css\" height=\"334px\" preserveAspectRatio=\"none\" style=\"width:417px;height:334px;\" version=\"1.1\" viewBox=\"0 0 417 334\" width=\"417px\" zoomAndPan=\"magnify\"><defs/><g><!--MD5=[fbc87193dbaf4d95561dea2c320d4a47]\n",
       "cluster E1--><a href=\"psysml:fb02ed11-6398-4cea-b135-53d0cca9c478\" target=\"_top\" title=\"psysml:fb02ed11-6398-4cea-b135-53d0cca9c478\" xlink:actuate=\"onRequest\" xlink:href=\"psysml:fb02ed11-6398-4cea-b135-53d0cca9c478\" xlink:show=\"new\" xlink:title=\"psysml:fb02ed11-6398-4cea-b135-53d0cca9c478\" xlink:type=\"simple\"><polygon fill=\"#FFFFFF\" points=\"16,6,96,6,103,28.2969,395,28.2969,395,322,16,322,16,6\" style=\"stroke: #000000; stroke-width: 1.5;\"/><line style=\"stroke: #000000; stroke-width: 1.5;\" x1=\"16\" x2=\"103\" y1=\"28.2969\" y2=\"28.2969\"/><text fill=\"#000000\" font-family=\"sans-serif\" font-size=\"14\" font-weight=\"bold\" lengthAdjust=\"spacingAndGlyphs\" textLength=\"74\" x=\"20\" y=\"20.9951\">ViewTest</text></a><!--MD5=[09b614a08d8cba4a07c9adeb5e0fee81]\n",
       "class E3--><a href=\"psysml:436e526f-0cc5-474d-8f19-4580d940df20\" target=\"_top\" title=\"psysml:436e526f-0cc5-474d-8f19-4580d940df20\" xlink:actuate=\"onRequest\" xlink:href=\"psysml:436e526f-0cc5-474d-8f19-4580d940df20\" xlink:show=\"new\" xlink:title=\"psysml:436e526f-0cc5-474d-8f19-4580d940df20\" xlink:type=\"simple\"><rect fill=\"#FFFFFF\" height=\"45.9375\" id=\"E3\" style=\"stroke: #383838; stroke-width: 1.5;\" width=\"98\" x=\"32\" y=\"260\"/><text fill=\"#000000\" font-family=\"sans-serif\" font-size=\"12\" font-style=\"italic\" lengthAdjust=\"spacingAndGlyphs\" textLength=\"96\" x=\"33\" y=\"276.1387\">«viewpoint def»</text><text fill=\"#000000\" font-family=\"sans-serif\" font-size=\"12\" lengthAdjust=\"spacingAndGlyphs\" textLength=\"16\" x=\"73\" y=\"290.1074\">VP</text><line style=\"stroke: #383838; stroke-width: 1.5;\" x1=\"33\" x2=\"129\" y1=\"297.9375\" y2=\"297.9375\"/></a><!--MD5=[ebbe1d658d1005bcc118a6aa81145e00]\n",
       "class E4--><a href=\"psysml:053dc08e-a8e7-4770-acc6-30068883d6d6\" target=\"_top\" title=\"psysml:053dc08e-a8e7-4770-acc6-30068883d6d6\" xlink:actuate=\"onRequest\" xlink:href=\"psysml:053dc08e-a8e7-4770-acc6-30068883d6d6\" xlink:show=\"new\" xlink:title=\"psysml:053dc08e-a8e7-4770-acc6-30068883d6d6\" xlink:type=\"simple\"><rect fill=\"#FFFFFF\" height=\"45.9375\" id=\"E4\" style=\"stroke: #383838; stroke-width: 1.5;\" width=\"101\" x=\"165.5\" y=\"260\"/><text fill=\"#000000\" font-family=\"sans-serif\" font-size=\"12\" font-style=\"italic\" lengthAdjust=\"spacingAndGlyphs\" textLength=\"99\" x=\"166.5\" y=\"276.1387\">«rendering def»</text><text fill=\"#000000\" font-family=\"sans-serif\" font-size=\"12\" lengthAdjust=\"spacingAndGlyphs\" textLength=\"8\" x=\"212\" y=\"290.1074\">R</text><line style=\"stroke: #383838; stroke-width: 1.5;\" x1=\"166.5\" x2=\"265.5\" y1=\"297.9375\" y2=\"297.9375\"/></a><!--MD5=[270fce915f116d4de14055a7c1d9a0f3]\n",
       "class E5--><a href=\"psysml:2fa1d21f-0378-4832-ab0e-3c490c491fc9\" target=\"_top\" title=\"psysml:2fa1d21f-0378-4832-ab0e-3c490c491fc9\" xlink:actuate=\"onRequest\" xlink:href=\"psysml:2fa1d21f-0378-4832-ab0e-3c490c491fc9\" xlink:show=\"new\" xlink:title=\"psysml:2fa1d21f-0378-4832-ab0e-3c490c491fc9\" xlink:type=\"simple\"><rect fill=\"#FFFFFF\" height=\"45.9375\" id=\"E5\" style=\"stroke: #383838; stroke-width: 1.5;\" width=\"66\" x=\"230\" y=\"44.5\"/><text fill=\"#000000\" font-family=\"sans-serif\" font-size=\"12\" font-style=\"italic\" lengthAdjust=\"spacingAndGlyphs\" textLength=\"64\" x=\"231\" y=\"60.6387\">«view def»</text><text fill=\"#000000\" font-family=\"sans-serif\" font-size=\"12\" lengthAdjust=\"spacingAndGlyphs\" textLength=\"8\" x=\"259\" y=\"74.6074\">V</text><line style=\"stroke: #383838; stroke-width: 1.5;\" x1=\"231\" x2=\"295\" y1=\"82.4375\" y2=\"82.4375\"/></a><!--MD5=[60a26617385b1d2d0262a64233df1f8d]\n",
       "class E6--><a href=\"psysml:b39da276-6b98-4aad-85bf-f9ecfc55683d\" target=\"_top\" title=\"psysml:b39da276-6b98-4aad-85bf-f9ecfc55683d\" xlink:actuate=\"onRequest\" xlink:href=\"psysml:b39da276-6b98-4aad-85bf-f9ecfc55683d\" xlink:show=\"new\" xlink:title=\"psysml:b39da276-6b98-4aad-85bf-f9ecfc55683d\" xlink:type=\"simple\"><rect fill=\"#FFFFFF\" height=\"45.9375\" id=\"E6\" rx=\"10\" ry=\"10\" style=\"stroke: #383838; stroke-width: 1.5;\" width=\"74\" x=\"56\" y=\"154\"/><text fill=\"#000000\" font-family=\"sans-serif\" font-size=\"12\" font-style=\"italic\" lengthAdjust=\"spacingAndGlyphs\" textLength=\"72\" x=\"57\" y=\"170.1387\">«viewpoint»</text><text fill=\"#000000\" font-family=\"sans-serif\" font-size=\"12\" lengthAdjust=\"spacingAndGlyphs\" textLength=\"38\" x=\"74\" y=\"184.1074\">vp: VP</text><line style=\"stroke: #383838; stroke-width: 1.5;\" x1=\"57\" x2=\"129\" y1=\"191.9375\" y2=\"191.9375\"/></a><!--MD5=[2156ba9850f5573cc1fc38a6a4b2f02b]\n",
       "class E7--><a href=\"psysml:5db0ac38-23f9-426f-a666-7fa33ad35708\" target=\"_top\" title=\"psysml:5db0ac38-23f9-426f-a666-7fa33ad35708\" xlink:actuate=\"onRequest\" xlink:href=\"psysml:5db0ac38-23f9-426f-a666-7fa33ad35708\" xlink:show=\"new\" xlink:title=\"psysml:5db0ac38-23f9-426f-a666-7fa33ad35708\" xlink:type=\"simple\"><rect fill=\"#FFFFFF\" height=\"45.9375\" id=\"E7\" rx=\"10\" ry=\"10\" style=\"stroke: #383838; stroke-width: 1.5;\" width=\"77\" x=\"177.5\" y=\"154\"/><text fill=\"#000000\" font-family=\"sans-serif\" font-size=\"12\" font-style=\"italic\" lengthAdjust=\"spacingAndGlyphs\" textLength=\"75\" x=\"178.5\" y=\"170.1387\">«rendering»</text><text fill=\"#000000\" font-family=\"sans-serif\" font-size=\"12\" lengthAdjust=\"spacingAndGlyphs\" textLength=\"21\" x=\"205.5\" y=\"184.1074\">r: R</text><line style=\"stroke: #383838; stroke-width: 1.5;\" x1=\"178.5\" x2=\"253.5\" y1=\"191.9375\" y2=\"191.9375\"/></a><!--MD5=[b9389687b975829384b498ac4b7476b2]\n",
       "class E8--><a href=\"psysml:96dfc0dc-2946-48da-b50d-9c346f08b52f\" target=\"_top\" title=\"psysml:96dfc0dc-2946-48da-b50d-9c346f08b52f\" xlink:actuate=\"onRequest\" xlink:href=\"psysml:96dfc0dc-2946-48da-b50d-9c346f08b52f\" xlink:show=\"new\" xlink:title=\"psysml:96dfc0dc-2946-48da-b50d-9c346f08b52f\" xlink:type=\"simple\"><rect fill=\"#FFFFFF\" height=\"45.9375\" id=\"E8\" rx=\"10\" ry=\"10\" style=\"stroke: #383838; stroke-width: 1.5;\" width=\"42\" x=\"290\" y=\"154\"/><text fill=\"#000000\" font-family=\"sans-serif\" font-size=\"12\" font-style=\"italic\" lengthAdjust=\"spacingAndGlyphs\" textLength=\"40\" x=\"291\" y=\"170.1387\">«view»</text><text fill=\"#000000\" font-family=\"sans-serif\" font-size=\"12\" lengthAdjust=\"spacingAndGlyphs\" textLength=\"22\" x=\"300\" y=\"184.1074\">v: V</text><line style=\"stroke: #383838; stroke-width: 1.5;\" x1=\"291\" x2=\"331\" y1=\"191.9375\" y2=\"191.9375\"/></a><!--MD5=[fd4143e9d270a159db93a4ea2a975926]\n",
       "class E9--><a href=\"psysml:fc5eb428-4a03-41d1-992b-aff2a13d3fb9\" target=\"_top\" title=\"psysml:fc5eb428-4a03-41d1-992b-aff2a13d3fb9\" xlink:actuate=\"onRequest\" xlink:href=\"psysml:fc5eb428-4a03-41d1-992b-aff2a13d3fb9\" xlink:show=\"new\" xlink:title=\"psysml:fc5eb428-4a03-41d1-992b-aff2a13d3fb9\" xlink:type=\"simple\"><rect fill=\"#FFFFFF\" height=\"45.9375\" id=\"E9\" rx=\"10\" ry=\"10\" style=\"stroke: #383838; stroke-width: 1.5;\" width=\"77\" x=\"301.5\" y=\"260\"/><text fill=\"#000000\" font-family=\"sans-serif\" font-size=\"12\" font-style=\"italic\" lengthAdjust=\"spacingAndGlyphs\" textLength=\"75\" x=\"302.5\" y=\"276.1387\">«rendering»</text><text fill=\"#000000\" font-family=\"sans-serif\" font-size=\"12\" lengthAdjust=\"spacingAndGlyphs\" textLength=\"13\" x=\"333.5\" y=\"290.1074\">r1</text><line style=\"stroke: #383838; stroke-width: 1.5;\" x1=\"302.5\" x2=\"377.5\" y1=\"297.9375\" y2=\"297.9375\"/></a><a href=\"psysml:6d9f5c34-02db-4c22-b8ae-ed1a072d5ac7\" target=\"_top\" title=\"psysml:6d9f5c34-02db-4c22-b8ae-ed1a072d5ac7\" xlink:actuate=\"onRequest\" xlink:href=\"psysml:6d9f5c34-02db-4c22-b8ae-ed1a072d5ac7\" xlink:show=\"new\" xlink:title=\"psysml:6d9f5c34-02db-4c22-b8ae-ed1a072d5ac7\" xlink:type=\"simple\"><polygon fill=\"#FFFFFF\" points=\"122,41,138,41,145,63.2969,152,63.2969,152,93.5938,122,93.5938,122,41\" style=\"stroke: #000000; stroke-width: 1.5;\"/><line style=\"stroke: #000000; stroke-width: 1.5;\" x1=\"122\" x2=\"145\" y1=\"63.2969\" y2=\"63.2969\"/><text fill=\"#000000\" font-family=\"sans-serif\" font-size=\"14\" font-weight=\"bold\" lengthAdjust=\"spacingAndGlyphs\" textLength=\"10\" x=\"126\" y=\"55.9951\">P</text></a><!--MD5=[85d356282659285ab4b2cfe2f634dd2b]\n",
       "reverse link E5 to E6--><a href=\"psysml:b39da276-6b98-4aad-85bf-f9ecfc55683d\" target=\"_top\" title=\"psysml:b39da276-6b98-4aad-85bf-f9ecfc55683d\" xlink:actuate=\"onRequest\" xlink:href=\"psysml:b39da276-6b98-4aad-85bf-f9ecfc55683d\" xlink:show=\"new\" xlink:title=\"psysml:b39da276-6b98-4aad-85bf-f9ecfc55683d\" xlink:type=\"simple\"><path d=\"M218.61,96.57 C190.28,114.48 154.1,137.36 127.85,153.96 \" fill=\"none\" id=\"E5&lt;-E6\" style=\"stroke: #383838; stroke-width: 1.0;\"/><polygon fill=\"#383838\" points=\"229.82,89.48,222.6111,89.2999,219.6723,95.8849,226.8811,96.0651,229.82,89.48\" style=\"stroke: #383838; stroke-width: 1.0;\"/></a><!--MD5=[a717450b82c80b9240a525fa862496af]\n",
       "link E6 to E3--><a href=\"psysml:7b3d769f-4c56-4413-aa9f-0104e9507d6b\" target=\"_top\" title=\"psysml:7b3d769f-4c56-4413-aa9f-0104e9507d6b\" xlink:actuate=\"onRequest\" xlink:href=\"psysml:7b3d769f-4c56-4413-aa9f-0104e9507d6b\" xlink:show=\"new\" xlink:title=\"psysml:7b3d769f-4c56-4413-aa9f-0104e9507d6b\" xlink:type=\"simple\"><path d=\"M90.46,200.06 C89.12,211.64 87.44,226.23 85.86,239.87 \" fill=\"none\" id=\"E6-&gt;E3\" style=\"stroke: #383838; stroke-width: 1.0;\"/><polygon fill=\"#FFFFFF\" points=\"83.54,259.98,78.757,240.3046,92.6653,241.9044,83.54,259.98\" style=\"stroke: #383838; stroke-width: 1.0;\"/><ellipse cx=\"81.3953\" cy=\"234.8704\" fill=\"#383838\" rx=\"2\" ry=\"2\" style=\"stroke: #383838; stroke-width: 1.0;\"/><ellipse cx=\"91.3298\" cy=\"236.0132\" fill=\"#383838\" rx=\"2\" ry=\"2\" style=\"stroke: #383838; stroke-width: 1.0;\"/></a><!--MD5=[6bdd27f9905911a7e892a3dc65cf6b7c]\n",
       "link E7 to E4--><a href=\"psysml:f768404d-501b-4614-8ab9-e2515f32fafd\" target=\"_top\" title=\"psysml:f768404d-501b-4614-8ab9-e2515f32fafd\" xlink:actuate=\"onRequest\" xlink:href=\"psysml:f768404d-501b-4614-8ab9-e2515f32fafd\" xlink:show=\"new\" xlink:title=\"psysml:f768404d-501b-4614-8ab9-e2515f32fafd\" xlink:type=\"simple\"><path d=\"M216,200.06 C216,211.64 216,226.23 216,239.87 \" fill=\"none\" id=\"E7-&gt;E4\" style=\"stroke: #383838; stroke-width: 1.0;\"/><polygon fill=\"#FFFFFF\" points=\"216,259.98,209,240.98,223,240.98,216,259.98\" style=\"stroke: #383838; stroke-width: 1.0;\"/><ellipse cx=\"211\" cy=\"235.28\" fill=\"#383838\" rx=\"2\" ry=\"2\" style=\"stroke: #383838; stroke-width: 1.0;\"/><ellipse cx=\"221\" cy=\"235.28\" fill=\"#383838\" rx=\"2\" ry=\"2\" style=\"stroke: #383838; stroke-width: 1.0;\"/></a><!--MD5=[452b418e7f8a40397a49b8c0a78acc5b]\n",
       "reverse link E5 to E7--><a href=\"psysml:5db0ac38-23f9-426f-a666-7fa33ad35708\" target=\"_top\" title=\"psysml:5db0ac38-23f9-426f-a666-7fa33ad35708\" xlink:actuate=\"onRequest\" xlink:href=\"psysml:5db0ac38-23f9-426f-a666-7fa33ad35708\" xlink:show=\"new\" xlink:title=\"psysml:5db0ac38-23f9-426f-a666-7fa33ad35708\" xlink:type=\"simple\"><path d=\"M248.1,102.57 C240.81,119.26 232.23,138.89 225.77,153.65 \" fill=\"none\" id=\"E5&lt;-E7\" style=\"stroke: #383838; stroke-width: 1.0;\"/><polygon fill=\"#383838\" points=\"253.38,90.51,247.31,94.4029,248.5688,101.5033,254.6388,97.6104,253.38,90.51\" style=\"stroke: #383838; stroke-width: 1.0;\"/><text fill=\"#000000\" font-family=\"sans-serif\" font-size=\"13\" lengthAdjust=\"spacingAndGlyphs\" textLength=\"24\" x=\"201.1986\" y=\"142.8366\">0..1</text></a><!--MD5=[1ccb2481ffa92f8d51a74ee30c51832a]\n",
       "link E8 to E5--><a href=\"psysml:2ecacd66-b174-4fa5-a1f0-5f98a8e6e629\" target=\"_top\" title=\"psysml:2ecacd66-b174-4fa5-a1f0-5f98a8e6e629\" xlink:actuate=\"onRequest\" xlink:href=\"psysml:2ecacd66-b174-4fa5-a1f0-5f98a8e6e629\" xlink:show=\"new\" xlink:title=\"psysml:2ecacd66-b174-4fa5-a1f0-5f98a8e6e629\" xlink:type=\"simple\"><path d=\"M312.22,153.65 C308.53,140.48 301.55,123.44 293.74,108.07 \" fill=\"none\" id=\"E8-&gt;E5\" style=\"stroke: #383838; stroke-width: 1.0;\"/><polygon fill=\"#FFFFFF\" points=\"283.97,90.51,299.3209,103.7142,287.0851,110.5174,283.97,90.51\" style=\"stroke: #383838; stroke-width: 1.0;\"/><ellipse cx=\"300.3428\" cy=\"109.6678\" fill=\"#383838\" rx=\"2\" ry=\"2\" style=\"stroke: #383838; stroke-width: 1.0;\"/><ellipse cx=\"291.6029\" cy=\"114.5273\" fill=\"#383838\" rx=\"2\" ry=\"2\" style=\"stroke: #383838; stroke-width: 1.0;\"/></a><!--MD5=[827760032d119d06bbc92f75530fd7ae]\n",
       "reverse link E5 to E8--><a href=\"psysml:96dfc0dc-2946-48da-b50d-9c346f08b52f\" target=\"_top\" title=\"psysml:96dfc0dc-2946-48da-b50d-9c346f08b52f\" xlink:actuate=\"onRequest\" xlink:href=\"psysml:96dfc0dc-2946-48da-b50d-9c346f08b52f\" xlink:show=\"new\" xlink:title=\"psysml:96dfc0dc-2946-48da-b50d-9c346f08b52f\" xlink:type=\"simple\"><path d=\"M266.44,103.07 C272.49,119.65 281.62,139.03 290.44,153.65 \" fill=\"none\" id=\"E5&lt;-E8\" style=\"stroke: #383838; stroke-width: 1.0;\"/><polygon fill=\"#383838\" points=\"262.31,90.51,260.3836,97.459,266.0572,101.9099,267.9836,94.9609,262.31,90.51\" style=\"stroke: #383838; stroke-width: 1.0;\"/><text fill=\"#000000\" font-family=\"sans-serif\" font-size=\"13\" lengthAdjust=\"spacingAndGlyphs\" textLength=\"7\" x=\"277.2746\" y=\"142.8366\">*</text></a><!--MD5=[22f5b4bae7e060dce8a1c8021efdb95b]\n",
       "reverse link E8 to E9--><a href=\"psysml:fc5eb428-4a03-41d1-992b-aff2a13d3fb9\" target=\"_top\" title=\"psysml:fc5eb428-4a03-41d1-992b-aff2a13d3fb9\" xlink:actuate=\"onRequest\" xlink:href=\"psysml:fc5eb428-4a03-41d1-992b-aff2a13d3fb9\" xlink:show=\"new\" xlink:title=\"psysml:fc5eb428-4a03-41d1-992b-aff2a13d3fb9\" xlink:type=\"simple\"><path d=\"M320.75,212.96 C325.08,228.51 330.05,246.33 333.86,259.98 \" fill=\"none\" id=\"E8&lt;-E9\" style=\"stroke: #383838; stroke-width: 1.0;\"/><polygon fill=\"#383838\" points=\"317.15,200.06,314.9066,206.9133,320.3699,211.6199,322.6133,204.7667,317.15,200.06\" style=\"stroke: #383838; stroke-width: 1.0;\"/></a><!--MD5=[e0b69aa9f6d5e26a6fa5cca5418a4734]\n",
       "@startuml\r\n",
       "skinparam linetype polyline\r\n",
       "skinparam monochrome true\r\n",
       "skinparam classbackgroundcolor white\r\n",
       "skinparam shadowing false\r\n",
       "skinparam wrapWidth 300\r\n",
       "hide circle\r\n",
       "\r\n",
       "package \"ViewTest\" as E1  [[psysml:fb02ed11-6398-4cea-b135-53d0cca9c478 ]]  {\r\n",
       "package \"P\" as E2  [[psysml:6d9f5c34-02db-4c22-b8ae-ed1a072d5ac7 ]]  {\r\n",
       "}\r\n",
       "comp def \"VP\" as E3  <<(T,blue)viewpoint def>> [[psysml:436e526f-0cc5-474d-8f19-4580d940df20 ]] {\r\n",
       "}\r\n",
       "comp def \"R\" as E4  <<(T,blue)rendering def>> [[psysml:053dc08e-a8e7-4770-acc6-30068883d6d6 ]] {\r\n",
       "}\r\n",
       "comp def \"V\" as E5  <<(T,blue)view def>> [[psysml:2fa1d21f-0378-4832-ab0e-3c490c491fc9 ]] {\r\n",
       "}\r\n",
       "comp usage \"vp: VP\" as E6  <<(T,blue)viewpoint>> [[psysml:b39da276-6b98-4aad-85bf-f9ecfc55683d ]] {\r\n",
       "}\r\n",
       "comp usage \"r: R\" as E7  <<(T,blue)rendering>> [[psysml:5db0ac38-23f9-426f-a666-7fa33ad35708 ]] {\r\n",
       "}\r\n",
       "comp usage \"v: V\" as E8  <<(T,blue)view>> [[psysml:96dfc0dc-2946-48da-b50d-9c346f08b52f ]] {\r\n",
       "}\r\n",
       "comp usage \"r1\" as E9  <<(T,blue)rendering>> [[psysml:fc5eb428-4a03-41d1-992b-aff2a13d3fb9 ]] {\r\n",
       "}\r\n",
       "E5 *- - E6 [[psysml:b39da276-6b98-4aad-85bf-f9ecfc55683d ]] \r\n",
       "E6 - -:|> E3 [[psysml:7b3d769f-4c56-4413-aa9f-0104e9507d6b ]] \r\n",
       "E7 - -:|> E4 [[psysml:f768404d-501b-4614-8ab9-e2515f32fafd ]] \r\n",
       "E5 *- - \"0..1\"E7 [[psysml:5db0ac38-23f9-426f-a666-7fa33ad35708 ]] \r\n",
       "E8 - -:|> E5 [[psysml:2ecacd66-b174-4fa5-a1f0-5f98a8e6e629 ]] \r\n",
       "E5 *- - \"*\"E8 [[psysml:96dfc0dc-2946-48da-b50d-9c346f08b52f ]] \r\n",
       "E8 *- - E9 [[psysml:fc5eb428-4a03-41d1-992b-aff2a13d3fb9 ]] \r\n",
       "}\r\n",
       "@enduml\r\n",
       "\n",
       "PlantUML version 1.2020.13(Sat Jun 13 12:26:38 UTC 2020)\n",
       "(EPL source distribution)\n",
       "Java Runtime: OpenJDK Runtime Environment\n",
       "JVM: OpenJDK 64-Bit Server VM\n",
       "Default Encoding: UTF-8\n",
       "Language: en\n",
       "Country: null\n",
       "--></g></svg>"
      ]
     },
     "execution_count": 9,
     "metadata": {},
     "output_type": "execute_result"
    }
   ],
   "source": [
    "%viz --style=\"POLYLINE\" --view=\"Default\" \"ViewTest\""
   ]
  },
  {
   "cell_type": "code",
   "execution_count": 10,
   "id": "former-swift",
   "metadata": {
    "execution": {
     "iopub.execute_input": "2021-03-24T16:32:11.433287Z",
     "iopub.status.busy": "2021-03-24T16:32:11.432851Z",
     "iopub.status.idle": "2021-03-24T16:32:11.481737Z",
     "shell.execute_reply": "2021-03-24T16:32:11.482053Z"
    }
   },
   "outputs": [
    {
     "data": {
      "image/svg+xml": [
       "<?xml version=\"1.0\" encoding=\"UTF-8\" standalone=\"no\"?><svg xmlns=\"http://www.w3.org/2000/svg\" xmlns:xlink=\"http://www.w3.org/1999/xlink\" contentScriptType=\"application/ecmascript\" contentStyleType=\"text/css\" height=\"334px\" preserveAspectRatio=\"none\" style=\"width:417px;height:334px;\" version=\"1.1\" viewBox=\"0 0 417 334\" width=\"417px\" zoomAndPan=\"magnify\"><defs/><g><!--MD5=[fbc87193dbaf4d95561dea2c320d4a47]\n",
       "cluster E1--><a href=\"psysml:fb02ed11-6398-4cea-b135-53d0cca9c478\" target=\"_top\" title=\"psysml:fb02ed11-6398-4cea-b135-53d0cca9c478\" xlink:actuate=\"onRequest\" xlink:href=\"psysml:fb02ed11-6398-4cea-b135-53d0cca9c478\" xlink:show=\"new\" xlink:title=\"psysml:fb02ed11-6398-4cea-b135-53d0cca9c478\" xlink:type=\"simple\"><polygon fill=\"#FFFFFF\" points=\"16,6,96,6,103,28.2969,395,28.2969,395,322,16,322,16,6\" style=\"stroke: #000000; stroke-width: 1.5;\"/><line style=\"stroke: #000000; stroke-width: 1.5;\" x1=\"16\" x2=\"103\" y1=\"28.2969\" y2=\"28.2969\"/><text fill=\"#000000\" font-family=\"sans-serif\" font-size=\"14\" font-weight=\"bold\" lengthAdjust=\"spacingAndGlyphs\" textLength=\"74\" x=\"20\" y=\"20.9951\">ViewTest</text></a><!--MD5=[09b614a08d8cba4a07c9adeb5e0fee81]\n",
       "class E3--><a href=\"psysml:436e526f-0cc5-474d-8f19-4580d940df20\" target=\"_top\" title=\"psysml:436e526f-0cc5-474d-8f19-4580d940df20\" xlink:actuate=\"onRequest\" xlink:href=\"psysml:436e526f-0cc5-474d-8f19-4580d940df20\" xlink:show=\"new\" xlink:title=\"psysml:436e526f-0cc5-474d-8f19-4580d940df20\" xlink:type=\"simple\"><rect fill=\"#FFFFFF\" height=\"45.9375\" id=\"E3\" style=\"stroke: #383838; stroke-width: 1.5;\" width=\"98\" x=\"32\" y=\"260\"/><text fill=\"#000000\" font-family=\"sans-serif\" font-size=\"12\" font-style=\"italic\" lengthAdjust=\"spacingAndGlyphs\" textLength=\"96\" x=\"33\" y=\"276.1387\">«viewpoint def»</text><text fill=\"#000000\" font-family=\"sans-serif\" font-size=\"12\" lengthAdjust=\"spacingAndGlyphs\" textLength=\"16\" x=\"73\" y=\"290.1074\">VP</text><line style=\"stroke: #383838; stroke-width: 1.5;\" x1=\"33\" x2=\"129\" y1=\"297.9375\" y2=\"297.9375\"/></a><!--MD5=[ebbe1d658d1005bcc118a6aa81145e00]\n",
       "class E4--><a href=\"psysml:053dc08e-a8e7-4770-acc6-30068883d6d6\" target=\"_top\" title=\"psysml:053dc08e-a8e7-4770-acc6-30068883d6d6\" xlink:actuate=\"onRequest\" xlink:href=\"psysml:053dc08e-a8e7-4770-acc6-30068883d6d6\" xlink:show=\"new\" xlink:title=\"psysml:053dc08e-a8e7-4770-acc6-30068883d6d6\" xlink:type=\"simple\"><rect fill=\"#FFFFFF\" height=\"45.9375\" id=\"E4\" style=\"stroke: #383838; stroke-width: 1.5;\" width=\"101\" x=\"165.5\" y=\"260\"/><text fill=\"#000000\" font-family=\"sans-serif\" font-size=\"12\" font-style=\"italic\" lengthAdjust=\"spacingAndGlyphs\" textLength=\"99\" x=\"166.5\" y=\"276.1387\">«rendering def»</text><text fill=\"#000000\" font-family=\"sans-serif\" font-size=\"12\" lengthAdjust=\"spacingAndGlyphs\" textLength=\"8\" x=\"212\" y=\"290.1074\">R</text><line style=\"stroke: #383838; stroke-width: 1.5;\" x1=\"166.5\" x2=\"265.5\" y1=\"297.9375\" y2=\"297.9375\"/></a><!--MD5=[270fce915f116d4de14055a7c1d9a0f3]\n",
       "class E5--><a href=\"psysml:2fa1d21f-0378-4832-ab0e-3c490c491fc9\" target=\"_top\" title=\"psysml:2fa1d21f-0378-4832-ab0e-3c490c491fc9\" xlink:actuate=\"onRequest\" xlink:href=\"psysml:2fa1d21f-0378-4832-ab0e-3c490c491fc9\" xlink:show=\"new\" xlink:title=\"psysml:2fa1d21f-0378-4832-ab0e-3c490c491fc9\" xlink:type=\"simple\"><rect fill=\"#FFFFFF\" height=\"45.9375\" id=\"E5\" style=\"stroke: #383838; stroke-width: 1.5;\" width=\"66\" x=\"230\" y=\"44.5\"/><text fill=\"#000000\" font-family=\"sans-serif\" font-size=\"12\" font-style=\"italic\" lengthAdjust=\"spacingAndGlyphs\" textLength=\"64\" x=\"231\" y=\"60.6387\">«view def»</text><text fill=\"#000000\" font-family=\"sans-serif\" font-size=\"12\" lengthAdjust=\"spacingAndGlyphs\" textLength=\"8\" x=\"259\" y=\"74.6074\">V</text><line style=\"stroke: #383838; stroke-width: 1.5;\" x1=\"231\" x2=\"295\" y1=\"82.4375\" y2=\"82.4375\"/></a><!--MD5=[60a26617385b1d2d0262a64233df1f8d]\n",
       "class E6--><a href=\"psysml:b39da276-6b98-4aad-85bf-f9ecfc55683d\" target=\"_top\" title=\"psysml:b39da276-6b98-4aad-85bf-f9ecfc55683d\" xlink:actuate=\"onRequest\" xlink:href=\"psysml:b39da276-6b98-4aad-85bf-f9ecfc55683d\" xlink:show=\"new\" xlink:title=\"psysml:b39da276-6b98-4aad-85bf-f9ecfc55683d\" xlink:type=\"simple\"><rect fill=\"#FFFFFF\" height=\"45.9375\" id=\"E6\" rx=\"10\" ry=\"10\" style=\"stroke: #383838; stroke-width: 1.5;\" width=\"74\" x=\"56\" y=\"154\"/><text fill=\"#000000\" font-family=\"sans-serif\" font-size=\"12\" font-style=\"italic\" lengthAdjust=\"spacingAndGlyphs\" textLength=\"72\" x=\"57\" y=\"170.1387\">«viewpoint»</text><text fill=\"#000000\" font-family=\"sans-serif\" font-size=\"12\" lengthAdjust=\"spacingAndGlyphs\" textLength=\"38\" x=\"74\" y=\"184.1074\">vp: VP</text><line style=\"stroke: #383838; stroke-width: 1.5;\" x1=\"57\" x2=\"129\" y1=\"191.9375\" y2=\"191.9375\"/></a><!--MD5=[2156ba9850f5573cc1fc38a6a4b2f02b]\n",
       "class E7--><a href=\"psysml:5db0ac38-23f9-426f-a666-7fa33ad35708\" target=\"_top\" title=\"psysml:5db0ac38-23f9-426f-a666-7fa33ad35708\" xlink:actuate=\"onRequest\" xlink:href=\"psysml:5db0ac38-23f9-426f-a666-7fa33ad35708\" xlink:show=\"new\" xlink:title=\"psysml:5db0ac38-23f9-426f-a666-7fa33ad35708\" xlink:type=\"simple\"><rect fill=\"#FFFFFF\" height=\"45.9375\" id=\"E7\" rx=\"10\" ry=\"10\" style=\"stroke: #383838; stroke-width: 1.5;\" width=\"77\" x=\"177.5\" y=\"154\"/><text fill=\"#000000\" font-family=\"sans-serif\" font-size=\"12\" font-style=\"italic\" lengthAdjust=\"spacingAndGlyphs\" textLength=\"75\" x=\"178.5\" y=\"170.1387\">«rendering»</text><text fill=\"#000000\" font-family=\"sans-serif\" font-size=\"12\" lengthAdjust=\"spacingAndGlyphs\" textLength=\"21\" x=\"205.5\" y=\"184.1074\">r: R</text><line style=\"stroke: #383838; stroke-width: 1.5;\" x1=\"178.5\" x2=\"253.5\" y1=\"191.9375\" y2=\"191.9375\"/></a><!--MD5=[b9389687b975829384b498ac4b7476b2]\n",
       "class E8--><a href=\"psysml:96dfc0dc-2946-48da-b50d-9c346f08b52f\" target=\"_top\" title=\"psysml:96dfc0dc-2946-48da-b50d-9c346f08b52f\" xlink:actuate=\"onRequest\" xlink:href=\"psysml:96dfc0dc-2946-48da-b50d-9c346f08b52f\" xlink:show=\"new\" xlink:title=\"psysml:96dfc0dc-2946-48da-b50d-9c346f08b52f\" xlink:type=\"simple\"><rect fill=\"#FFFFFF\" height=\"45.9375\" id=\"E8\" rx=\"10\" ry=\"10\" style=\"stroke: #383838; stroke-width: 1.5;\" width=\"42\" x=\"290\" y=\"154\"/><text fill=\"#000000\" font-family=\"sans-serif\" font-size=\"12\" font-style=\"italic\" lengthAdjust=\"spacingAndGlyphs\" textLength=\"40\" x=\"291\" y=\"170.1387\">«view»</text><text fill=\"#000000\" font-family=\"sans-serif\" font-size=\"12\" lengthAdjust=\"spacingAndGlyphs\" textLength=\"22\" x=\"300\" y=\"184.1074\">v: V</text><line style=\"stroke: #383838; stroke-width: 1.5;\" x1=\"291\" x2=\"331\" y1=\"191.9375\" y2=\"191.9375\"/></a><!--MD5=[fd4143e9d270a159db93a4ea2a975926]\n",
       "class E9--><a href=\"psysml:fc5eb428-4a03-41d1-992b-aff2a13d3fb9\" target=\"_top\" title=\"psysml:fc5eb428-4a03-41d1-992b-aff2a13d3fb9\" xlink:actuate=\"onRequest\" xlink:href=\"psysml:fc5eb428-4a03-41d1-992b-aff2a13d3fb9\" xlink:show=\"new\" xlink:title=\"psysml:fc5eb428-4a03-41d1-992b-aff2a13d3fb9\" xlink:type=\"simple\"><rect fill=\"#FFFFFF\" height=\"45.9375\" id=\"E9\" rx=\"10\" ry=\"10\" style=\"stroke: #383838; stroke-width: 1.5;\" width=\"77\" x=\"301.5\" y=\"260\"/><text fill=\"#000000\" font-family=\"sans-serif\" font-size=\"12\" font-style=\"italic\" lengthAdjust=\"spacingAndGlyphs\" textLength=\"75\" x=\"302.5\" y=\"276.1387\">«rendering»</text><text fill=\"#000000\" font-family=\"sans-serif\" font-size=\"12\" lengthAdjust=\"spacingAndGlyphs\" textLength=\"13\" x=\"333.5\" y=\"290.1074\">r1</text><line style=\"stroke: #383838; stroke-width: 1.5;\" x1=\"302.5\" x2=\"377.5\" y1=\"297.9375\" y2=\"297.9375\"/></a><a href=\"psysml:6d9f5c34-02db-4c22-b8ae-ed1a072d5ac7\" target=\"_top\" title=\"psysml:6d9f5c34-02db-4c22-b8ae-ed1a072d5ac7\" xlink:actuate=\"onRequest\" xlink:href=\"psysml:6d9f5c34-02db-4c22-b8ae-ed1a072d5ac7\" xlink:show=\"new\" xlink:title=\"psysml:6d9f5c34-02db-4c22-b8ae-ed1a072d5ac7\" xlink:type=\"simple\"><polygon fill=\"#FFFFFF\" points=\"122,41,138,41,145,63.2969,152,63.2969,152,93.5938,122,93.5938,122,41\" style=\"stroke: #000000; stroke-width: 1.5;\"/><line style=\"stroke: #000000; stroke-width: 1.5;\" x1=\"122\" x2=\"145\" y1=\"63.2969\" y2=\"63.2969\"/><text fill=\"#000000\" font-family=\"sans-serif\" font-size=\"14\" font-weight=\"bold\" lengthAdjust=\"spacingAndGlyphs\" textLength=\"10\" x=\"126\" y=\"55.9951\">P</text></a><!--MD5=[85d356282659285ab4b2cfe2f634dd2b]\n",
       "reverse link E5 to E6--><a href=\"psysml:b39da276-6b98-4aad-85bf-f9ecfc55683d\" target=\"_top\" title=\"psysml:b39da276-6b98-4aad-85bf-f9ecfc55683d\" xlink:actuate=\"onRequest\" xlink:href=\"psysml:b39da276-6b98-4aad-85bf-f9ecfc55683d\" xlink:show=\"new\" xlink:title=\"psysml:b39da276-6b98-4aad-85bf-f9ecfc55683d\" xlink:type=\"simple\"><path d=\"M218.61,96.57 C190.28,114.48 154.1,137.36 127.85,153.96 \" fill=\"none\" id=\"E5&lt;-E6\" style=\"stroke: #383838; stroke-width: 1.0;\"/><polygon fill=\"#383838\" points=\"229.82,89.48,222.6111,89.2999,219.6723,95.8849,226.8811,96.0651,229.82,89.48\" style=\"stroke: #383838; stroke-width: 1.0;\"/></a><!--MD5=[a717450b82c80b9240a525fa862496af]\n",
       "link E6 to E3--><a href=\"psysml:7b3d769f-4c56-4413-aa9f-0104e9507d6b\" target=\"_top\" title=\"psysml:7b3d769f-4c56-4413-aa9f-0104e9507d6b\" xlink:actuate=\"onRequest\" xlink:href=\"psysml:7b3d769f-4c56-4413-aa9f-0104e9507d6b\" xlink:show=\"new\" xlink:title=\"psysml:7b3d769f-4c56-4413-aa9f-0104e9507d6b\" xlink:type=\"simple\"><path d=\"M90.46,200.06 C89.12,211.64 87.44,226.23 85.86,239.87 \" fill=\"none\" id=\"E6-&gt;E3\" style=\"stroke: #383838; stroke-width: 1.0;\"/><polygon fill=\"#FFFFFF\" points=\"83.54,259.98,78.757,240.3046,92.6653,241.9044,83.54,259.98\" style=\"stroke: #383838; stroke-width: 1.0;\"/><ellipse cx=\"81.3953\" cy=\"234.8704\" fill=\"#383838\" rx=\"2\" ry=\"2\" style=\"stroke: #383838; stroke-width: 1.0;\"/><ellipse cx=\"91.3298\" cy=\"236.0132\" fill=\"#383838\" rx=\"2\" ry=\"2\" style=\"stroke: #383838; stroke-width: 1.0;\"/></a><!--MD5=[6bdd27f9905911a7e892a3dc65cf6b7c]\n",
       "link E7 to E4--><a href=\"psysml:f768404d-501b-4614-8ab9-e2515f32fafd\" target=\"_top\" title=\"psysml:f768404d-501b-4614-8ab9-e2515f32fafd\" xlink:actuate=\"onRequest\" xlink:href=\"psysml:f768404d-501b-4614-8ab9-e2515f32fafd\" xlink:show=\"new\" xlink:title=\"psysml:f768404d-501b-4614-8ab9-e2515f32fafd\" xlink:type=\"simple\"><path d=\"M216,200.06 C216,211.64 216,226.23 216,239.87 \" fill=\"none\" id=\"E7-&gt;E4\" style=\"stroke: #383838; stroke-width: 1.0;\"/><polygon fill=\"#FFFFFF\" points=\"216,259.98,209,240.98,223,240.98,216,259.98\" style=\"stroke: #383838; stroke-width: 1.0;\"/><ellipse cx=\"211\" cy=\"235.28\" fill=\"#383838\" rx=\"2\" ry=\"2\" style=\"stroke: #383838; stroke-width: 1.0;\"/><ellipse cx=\"221\" cy=\"235.28\" fill=\"#383838\" rx=\"2\" ry=\"2\" style=\"stroke: #383838; stroke-width: 1.0;\"/></a><!--MD5=[452b418e7f8a40397a49b8c0a78acc5b]\n",
       "reverse link E5 to E7--><a href=\"psysml:5db0ac38-23f9-426f-a666-7fa33ad35708\" target=\"_top\" title=\"psysml:5db0ac38-23f9-426f-a666-7fa33ad35708\" xlink:actuate=\"onRequest\" xlink:href=\"psysml:5db0ac38-23f9-426f-a666-7fa33ad35708\" xlink:show=\"new\" xlink:title=\"psysml:5db0ac38-23f9-426f-a666-7fa33ad35708\" xlink:type=\"simple\"><path d=\"M248.1,102.57 C240.81,119.26 232.23,138.89 225.77,153.65 \" fill=\"none\" id=\"E5&lt;-E7\" style=\"stroke: #383838; stroke-width: 1.0;\"/><polygon fill=\"#383838\" points=\"253.38,90.51,247.31,94.4029,248.5688,101.5033,254.6388,97.6104,253.38,90.51\" style=\"stroke: #383838; stroke-width: 1.0;\"/><text fill=\"#000000\" font-family=\"sans-serif\" font-size=\"13\" lengthAdjust=\"spacingAndGlyphs\" textLength=\"24\" x=\"201.1986\" y=\"142.8366\">0..1</text></a><!--MD5=[1ccb2481ffa92f8d51a74ee30c51832a]\n",
       "link E8 to E5--><a href=\"psysml:2ecacd66-b174-4fa5-a1f0-5f98a8e6e629\" target=\"_top\" title=\"psysml:2ecacd66-b174-4fa5-a1f0-5f98a8e6e629\" xlink:actuate=\"onRequest\" xlink:href=\"psysml:2ecacd66-b174-4fa5-a1f0-5f98a8e6e629\" xlink:show=\"new\" xlink:title=\"psysml:2ecacd66-b174-4fa5-a1f0-5f98a8e6e629\" xlink:type=\"simple\"><path d=\"M312.22,153.65 C308.53,140.48 301.55,123.44 293.74,108.07 \" fill=\"none\" id=\"E8-&gt;E5\" style=\"stroke: #383838; stroke-width: 1.0;\"/><polygon fill=\"#FFFFFF\" points=\"283.97,90.51,299.3209,103.7142,287.0851,110.5174,283.97,90.51\" style=\"stroke: #383838; stroke-width: 1.0;\"/><ellipse cx=\"300.3428\" cy=\"109.6678\" fill=\"#383838\" rx=\"2\" ry=\"2\" style=\"stroke: #383838; stroke-width: 1.0;\"/><ellipse cx=\"291.6029\" cy=\"114.5273\" fill=\"#383838\" rx=\"2\" ry=\"2\" style=\"stroke: #383838; stroke-width: 1.0;\"/></a><!--MD5=[827760032d119d06bbc92f75530fd7ae]\n",
       "reverse link E5 to E8--><a href=\"psysml:96dfc0dc-2946-48da-b50d-9c346f08b52f\" target=\"_top\" title=\"psysml:96dfc0dc-2946-48da-b50d-9c346f08b52f\" xlink:actuate=\"onRequest\" xlink:href=\"psysml:96dfc0dc-2946-48da-b50d-9c346f08b52f\" xlink:show=\"new\" xlink:title=\"psysml:96dfc0dc-2946-48da-b50d-9c346f08b52f\" xlink:type=\"simple\"><path d=\"M266.44,103.07 C272.49,119.65 281.62,139.03 290.44,153.65 \" fill=\"none\" id=\"E5&lt;-E8\" style=\"stroke: #383838; stroke-width: 1.0;\"/><polygon fill=\"#383838\" points=\"262.31,90.51,260.3836,97.459,266.0572,101.9099,267.9836,94.9609,262.31,90.51\" style=\"stroke: #383838; stroke-width: 1.0;\"/><text fill=\"#000000\" font-family=\"sans-serif\" font-size=\"13\" lengthAdjust=\"spacingAndGlyphs\" textLength=\"7\" x=\"277.2746\" y=\"142.8366\">*</text></a><!--MD5=[22f5b4bae7e060dce8a1c8021efdb95b]\n",
       "reverse link E8 to E9--><a href=\"psysml:fc5eb428-4a03-41d1-992b-aff2a13d3fb9\" target=\"_top\" title=\"psysml:fc5eb428-4a03-41d1-992b-aff2a13d3fb9\" xlink:actuate=\"onRequest\" xlink:href=\"psysml:fc5eb428-4a03-41d1-992b-aff2a13d3fb9\" xlink:show=\"new\" xlink:title=\"psysml:fc5eb428-4a03-41d1-992b-aff2a13d3fb9\" xlink:type=\"simple\"><path d=\"M320.75,212.96 C325.08,228.51 330.05,246.33 333.86,259.98 \" fill=\"none\" id=\"E8&lt;-E9\" style=\"stroke: #383838; stroke-width: 1.0;\"/><polygon fill=\"#383838\" points=\"317.15,200.06,314.9066,206.9133,320.3699,211.6199,322.6133,204.7667,317.15,200.06\" style=\"stroke: #383838; stroke-width: 1.0;\"/></a><!--MD5=[e0b69aa9f6d5e26a6fa5cca5418a4734]\n",
       "@startuml\r\n",
       "skinparam linetype polyline\r\n",
       "skinparam monochrome true\r\n",
       "skinparam classbackgroundcolor white\r\n",
       "skinparam shadowing false\r\n",
       "skinparam wrapWidth 300\r\n",
       "hide circle\r\n",
       "\r\n",
       "package \"ViewTest\" as E1  [[psysml:fb02ed11-6398-4cea-b135-53d0cca9c478 ]]  {\r\n",
       "package \"P\" as E2  [[psysml:6d9f5c34-02db-4c22-b8ae-ed1a072d5ac7 ]]  {\r\n",
       "}\r\n",
       "comp def \"VP\" as E3  <<(T,blue)viewpoint def>> [[psysml:436e526f-0cc5-474d-8f19-4580d940df20 ]] {\r\n",
       "}\r\n",
       "comp def \"R\" as E4  <<(T,blue)rendering def>> [[psysml:053dc08e-a8e7-4770-acc6-30068883d6d6 ]] {\r\n",
       "}\r\n",
       "comp def \"V\" as E5  <<(T,blue)view def>> [[psysml:2fa1d21f-0378-4832-ab0e-3c490c491fc9 ]] {\r\n",
       "}\r\n",
       "comp usage \"vp: VP\" as E6  <<(T,blue)viewpoint>> [[psysml:b39da276-6b98-4aad-85bf-f9ecfc55683d ]] {\r\n",
       "}\r\n",
       "comp usage \"r: R\" as E7  <<(T,blue)rendering>> [[psysml:5db0ac38-23f9-426f-a666-7fa33ad35708 ]] {\r\n",
       "}\r\n",
       "comp usage \"v: V\" as E8  <<(T,blue)view>> [[psysml:96dfc0dc-2946-48da-b50d-9c346f08b52f ]] {\r\n",
       "}\r\n",
       "comp usage \"r1\" as E9  <<(T,blue)rendering>> [[psysml:fc5eb428-4a03-41d1-992b-aff2a13d3fb9 ]] {\r\n",
       "}\r\n",
       "E5 *- - E6 [[psysml:b39da276-6b98-4aad-85bf-f9ecfc55683d ]] \r\n",
       "E6 - -:|> E3 [[psysml:7b3d769f-4c56-4413-aa9f-0104e9507d6b ]] \r\n",
       "E7 - -:|> E4 [[psysml:f768404d-501b-4614-8ab9-e2515f32fafd ]] \r\n",
       "E5 *- - \"0..1\"E7 [[psysml:5db0ac38-23f9-426f-a666-7fa33ad35708 ]] \r\n",
       "E8 - -:|> E5 [[psysml:2ecacd66-b174-4fa5-a1f0-5f98a8e6e629 ]] \r\n",
       "E5 *- - \"*\"E8 [[psysml:96dfc0dc-2946-48da-b50d-9c346f08b52f ]] \r\n",
       "E8 *- - E9 [[psysml:fc5eb428-4a03-41d1-992b-aff2a13d3fb9 ]] \r\n",
       "}\r\n",
       "@enduml\r\n",
       "\n",
       "PlantUML version 1.2020.13(Sat Jun 13 12:26:38 UTC 2020)\n",
       "(EPL source distribution)\n",
       "Java Runtime: OpenJDK Runtime Environment\n",
       "JVM: OpenJDK 64-Bit Server VM\n",
       "Default Encoding: UTF-8\n",
       "Language: en\n",
       "Country: null\n",
       "--></g></svg>"
      ]
     },
     "execution_count": 10,
     "metadata": {},
     "output_type": "execute_result"
    }
   ],
   "source": [
    "%viz --style=\"POLYLINE\" --view=\"Tree\" \"ViewTest\""
   ]
  },
  {
   "cell_type": "code",
   "execution_count": 11,
   "id": "changing-signal",
   "metadata": {
    "execution": {
     "iopub.execute_input": "2021-03-24T16:32:11.532195Z",
     "iopub.status.busy": "2021-03-24T16:32:11.531861Z",
     "iopub.status.idle": "2021-03-24T16:32:11.538351Z",
     "shell.execute_reply": "2021-03-24T16:32:11.538700Z"
    }
   },
   "outputs": [
    {
     "data": {
      "image/svg+xml": [
       "<?xml version=\"1.0\" encoding=\"UTF-8\" standalone=\"no\"?><svg xmlns=\"http://www.w3.org/2000/svg\" xmlns:xlink=\"http://www.w3.org/1999/xlink\" contentScriptType=\"application/ecmascript\" contentStyleType=\"text/css\" height=\"12px\" preserveAspectRatio=\"none\" style=\"width:12px;height:12px;\" version=\"1.1\" viewBox=\"0 0 12 12\" width=\"12px\" zoomAndPan=\"magnify\"><defs/><g><!--MD5=[896ac0e7a515d8dd7765a661cb4ee08b]\n",
       "@startuml\r\n",
       "skinparam linetype polyline\r\n",
       "skinparam monochrome true\r\n",
       "skinparam classbackgroundcolor white\r\n",
       "skinparam shadowing false\r\n",
       "skinparam wrapWidth 300\r\n",
       "hide circle\r\n",
       "\r\n",
       "@enduml\r\n",
       "\n",
       "PlantUML version 1.2020.13(Sat Jun 13 12:26:38 UTC 2020)\n",
       "(EPL source distribution)\n",
       "Java Runtime: OpenJDK Runtime Environment\n",
       "JVM: OpenJDK 64-Bit Server VM\n",
       "Default Encoding: UTF-8\n",
       "Language: en\n",
       "Country: null\n",
       "--></g></svg>"
      ]
     },
     "execution_count": 11,
     "metadata": {},
     "output_type": "execute_result"
    }
   ],
   "source": [
    "%viz --style=\"POLYLINE\" --view=\"State\" \"ViewTest\""
   ]
  },
  {
   "cell_type": "code",
   "execution_count": 12,
   "id": "other-kruger",
   "metadata": {
    "execution": {
     "iopub.execute_input": "2021-03-24T16:32:11.590374Z",
     "iopub.status.busy": "2021-03-24T16:32:11.589832Z",
     "iopub.status.idle": "2021-03-24T16:32:11.636263Z",
     "shell.execute_reply": "2021-03-24T16:32:11.635968Z"
    }
   },
   "outputs": [
    {
     "data": {
      "image/svg+xml": [
       "<?xml version=\"1.0\" encoding=\"UTF-8\" standalone=\"no\"?><svg xmlns=\"http://www.w3.org/2000/svg\" xmlns:xlink=\"http://www.w3.org/1999/xlink\" contentScriptType=\"application/ecmascript\" contentStyleType=\"text/css\" height=\"313px\" preserveAspectRatio=\"none\" style=\"width:568px;height:313px;\" version=\"1.1\" viewBox=\"0 0 568 313\" width=\"568px\" zoomAndPan=\"magnify\"><defs/><g><!--MD5=[fbc87193dbaf4d95561dea2c320d4a47]\n",
       "cluster E1--><a href=\"psysml:fb02ed11-6398-4cea-b135-53d0cca9c478\" target=\"_top\" title=\"psysml:fb02ed11-6398-4cea-b135-53d0cca9c478\" xlink:actuate=\"onRequest\" xlink:href=\"psysml:fb02ed11-6398-4cea-b135-53d0cca9c478\" xlink:show=\"new\" xlink:title=\"psysml:fb02ed11-6398-4cea-b135-53d0cca9c478\" xlink:type=\"simple\"><polygon fill=\"#FFFFFF\" points=\"16,6,96,6,103,28.2969,546,28.2969,546,301,16,301,16,6\" style=\"stroke: #000000; stroke-width: 1.5;\"/><line style=\"stroke: #000000; stroke-width: 1.5;\" x1=\"16\" x2=\"103\" y1=\"28.2969\" y2=\"28.2969\"/><text fill=\"#000000\" font-family=\"sans-serif\" font-size=\"14\" font-weight=\"bold\" lengthAdjust=\"spacingAndGlyphs\" textLength=\"74\" x=\"20\" y=\"20.9951\">ViewTest</text></a><!--MD5=[de5ec2e2e8f62f467e546659f5068c88]\n",
       "cluster E5--><a href=\"psysml:2fa1d21f-0378-4832-ab0e-3c490c491fc9\" target=\"_top\" title=\"psysml:2fa1d21f-0378-4832-ab0e-3c490c491fc9\" xlink:actuate=\"onRequest\" xlink:href=\"psysml:2fa1d21f-0378-4832-ab0e-3c490c491fc9\" xlink:show=\"new\" xlink:title=\"psysml:2fa1d21f-0378-4832-ab0e-3c490c491fc9\" xlink:type=\"simple\"><rect fill=\"#FFFFFF\" height=\"174\" id=\"E5\" style=\"stroke: #383838; stroke-width: 1.5;\" width=\"300\" x=\"222\" y=\"49\"/><rect fill=\"#F8F8F8\" height=\"37.9375\" style=\"stroke: #383838; stroke-width: 1.5;\" width=\"300\" x=\"222\" y=\"49\"/><text fill=\"#000000\" font-family=\"sans-serif\" font-size=\"12\" font-style=\"italic\" lengthAdjust=\"spacingAndGlyphs\" textLength=\"64\" x=\"340\" y=\"65.1387\">«view def»</text><text fill=\"#000000\" font-family=\"sans-serif\" font-size=\"12\" lengthAdjust=\"spacingAndGlyphs\" textLength=\"8\" x=\"368\" y=\"79.1074\">V</text></a><!--MD5=[55dfccfc6c49c2d10cd1bd2211a6c90c]\n",
       "cluster E8--><a href=\"psysml:96dfc0dc-2946-48da-b50d-9c346f08b52f\" target=\"_top\" title=\"psysml:96dfc0dc-2946-48da-b50d-9c346f08b52f\" xlink:actuate=\"onRequest\" xlink:href=\"psysml:96dfc0dc-2946-48da-b50d-9c346f08b52f\" xlink:show=\"new\" xlink:title=\"psysml:96dfc0dc-2946-48da-b50d-9c346f08b52f\" xlink:type=\"simple\"><rect fill=\"#FFFFFF\" height=\"91\" id=\"E8\" rx=\"10\" ry=\"10\" style=\"stroke: #383838; stroke-width: 1.5;\" width=\"82\" x=\"416\" y=\"108\"/><rect fill=\"#F8F8F8\" height=\"23.9688\" rx=\"10\" ry=\"10\" style=\"stroke: #F8F8F8; stroke-width: 1.5;\" width=\"82\" x=\"416\" y=\"108\"/><rect fill=\"#F8F8F8\" height=\"10\" style=\"stroke: #F8F8F8; stroke-width: 1.5;\" width=\"82\" x=\"416\" y=\"121.9688\"/><rect fill=\"none\" height=\"91\" id=\"E8\" rx=\"10\" ry=\"10\" style=\"stroke: #383838; stroke-width: 1.5;\" width=\"82\" x=\"416\" y=\"108\"/><text fill=\"#000000\" font-family=\"sans-serif\" font-size=\"12\" lengthAdjust=\"spacingAndGlyphs\" textLength=\"22\" x=\"446\" y=\"124.1387\">v: V</text><line style=\"stroke: #383838; stroke-width: 1.0;\" x1=\"416\" x2=\"498\" y1=\"131.9688\" y2=\"131.9688\"/></a><!--MD5=[09b614a08d8cba4a07c9adeb5e0fee81]\n",
       "class E3--><a href=\"psysml:436e526f-0cc5-474d-8f19-4580d940df20\" target=\"_top\" title=\"psysml:436e526f-0cc5-474d-8f19-4580d940df20\" xlink:actuate=\"onRequest\" xlink:href=\"psysml:436e526f-0cc5-474d-8f19-4580d940df20\" xlink:show=\"new\" xlink:title=\"psysml:436e526f-0cc5-474d-8f19-4580d940df20\" xlink:type=\"simple\"><rect fill=\"#FFFFFF\" height=\"45.9375\" id=\"E3\" style=\"stroke: #383838; stroke-width: 1.5;\" width=\"98\" x=\"311\" y=\"239\"/><text fill=\"#000000\" font-family=\"sans-serif\" font-size=\"12\" font-style=\"italic\" lengthAdjust=\"spacingAndGlyphs\" textLength=\"96\" x=\"312\" y=\"255.1387\">«viewpoint def»</text><text fill=\"#000000\" font-family=\"sans-serif\" font-size=\"12\" lengthAdjust=\"spacingAndGlyphs\" textLength=\"16\" x=\"352\" y=\"269.1074\">VP</text><line style=\"stroke: #383838; stroke-width: 1.5;\" x1=\"312\" x2=\"408\" y1=\"276.9375\" y2=\"276.9375\"/></a><a href=\"psysml:6d9f5c34-02db-4c22-b8ae-ed1a072d5ac7\" target=\"_top\" title=\"psysml:6d9f5c34-02db-4c22-b8ae-ed1a072d5ac7\" xlink:actuate=\"onRequest\" xlink:href=\"psysml:6d9f5c34-02db-4c22-b8ae-ed1a072d5ac7\" xlink:show=\"new\" xlink:title=\"psysml:6d9f5c34-02db-4c22-b8ae-ed1a072d5ac7\" xlink:type=\"simple\"><polygon fill=\"#FFFFFF\" points=\"173,136.5,189,136.5,196,158.7969,203,158.7969,203,189.0938,173,189.0938,173,136.5\" style=\"stroke: #000000; stroke-width: 1.5;\"/><line style=\"stroke: #000000; stroke-width: 1.5;\" x1=\"173\" x2=\"196\" y1=\"158.7969\" y2=\"158.7969\"/><text fill=\"#000000\" font-family=\"sans-serif\" font-size=\"14\" font-weight=\"bold\" lengthAdjust=\"spacingAndGlyphs\" textLength=\"10\" x=\"177\" y=\"151.4951\">P</text></a><g id=\"E1.E4\"><a href=\"psysml:053dc08e-a8e7-4770-acc6-30068883d6d6\" target=\"_top\" title=\"psysml:053dc08e-a8e7-4770-acc6-30068883d6d6\" xlink:actuate=\"onRequest\" xlink:href=\"psysml:053dc08e-a8e7-4770-acc6-30068883d6d6\" xlink:show=\"new\" xlink:title=\"psysml:053dc08e-a8e7-4770-acc6-30068883d6d6\" xlink:type=\"simple\"><rect fill=\"#FFFFFF\" height=\"42.9375\" id=\"E4\" style=\"stroke: #383838; stroke-width: 1.5;\" width=\"106\" x=\"32\" y=\"141.5\"/><rect fill=\"#F8F8F8\" height=\"37.9375\" style=\"stroke: #383838; stroke-width: 1.5;\" width=\"106\" x=\"32\" y=\"141.5\"/><text fill=\"#000000\" font-family=\"sans-serif\" font-size=\"12\" font-style=\"italic\" lengthAdjust=\"spacingAndGlyphs\" textLength=\"99\" x=\"35.5\" y=\"157.6387\">«rendering def»</text><text fill=\"#000000\" font-family=\"sans-serif\" font-size=\"12\" lengthAdjust=\"spacingAndGlyphs\" textLength=\"8\" x=\"81\" y=\"171.6074\">R</text></a></g><!--MD5=[60a26617385b1d2d0262a64233df1f8d]\n",
       "class E6--><a href=\"psysml:b39da276-6b98-4aad-85bf-f9ecfc55683d\" target=\"_top\" title=\"psysml:b39da276-6b98-4aad-85bf-f9ecfc55683d\" xlink:actuate=\"onRequest\" xlink:href=\"psysml:b39da276-6b98-4aad-85bf-f9ecfc55683d\" xlink:show=\"new\" xlink:title=\"psysml:b39da276-6b98-4aad-85bf-f9ecfc55683d\" xlink:type=\"simple\"><rect fill=\"#FFFFFF\" height=\"45.9375\" id=\"E6\" rx=\"10\" ry=\"10\" style=\"stroke: #383838; stroke-width: 1.5;\" width=\"74\" x=\"323\" y=\"140\"/><text fill=\"#000000\" font-family=\"sans-serif\" font-size=\"12\" font-style=\"italic\" lengthAdjust=\"spacingAndGlyphs\" textLength=\"72\" x=\"324\" y=\"156.1387\">«viewpoint»</text><text fill=\"#000000\" font-family=\"sans-serif\" font-size=\"12\" lengthAdjust=\"spacingAndGlyphs\" textLength=\"38\" x=\"341\" y=\"170.1074\">vp: VP</text><line style=\"stroke: #383838; stroke-width: 1.5;\" x1=\"324\" x2=\"396\" y1=\"177.9375\" y2=\"177.9375\"/></a><g id=\"E1.E5.E7\"><a href=\"psysml:5db0ac38-23f9-426f-a666-7fa33ad35708\" target=\"_top\" title=\"psysml:5db0ac38-23f9-426f-a666-7fa33ad35708\" xlink:actuate=\"onRequest\" xlink:href=\"psysml:5db0ac38-23f9-426f-a666-7fa33ad35708\" xlink:show=\"new\" xlink:title=\"psysml:5db0ac38-23f9-426f-a666-7fa33ad35708\" xlink:type=\"simple\"><rect fill=\"#FFFFFF\" height=\"40\" id=\"E7\" rx=\"10\" ry=\"10\" style=\"stroke: #383838; stroke-width: 1.5;\" width=\"50\" x=\"238\" y=\"143\"/><rect fill=\"#F8F8F8\" height=\"23.9688\" rx=\"10\" ry=\"10\" style=\"stroke: #F8F8F8; stroke-width: 1.5;\" width=\"50\" x=\"238\" y=\"143\"/><rect fill=\"#F8F8F8\" height=\"10\" style=\"stroke: #F8F8F8; stroke-width: 1.5;\" width=\"50\" x=\"238\" y=\"156.9688\"/><rect fill=\"none\" height=\"40\" id=\"E7\" rx=\"10\" ry=\"10\" style=\"stroke: #383838; stroke-width: 1.5;\" width=\"50\" x=\"238\" y=\"143\"/><text fill=\"#000000\" font-family=\"sans-serif\" font-size=\"12\" lengthAdjust=\"spacingAndGlyphs\" textLength=\"21\" x=\"252.5\" y=\"159.1387\">r: R</text></a></g><g id=\"E1.E5.E8.E9\"><a href=\"psysml:fc5eb428-4a03-41d1-992b-aff2a13d3fb9\" target=\"_top\" title=\"psysml:fc5eb428-4a03-41d1-992b-aff2a13d3fb9\" xlink:actuate=\"onRequest\" xlink:href=\"psysml:fc5eb428-4a03-41d1-992b-aff2a13d3fb9\" xlink:show=\"new\" xlink:title=\"psysml:fc5eb428-4a03-41d1-992b-aff2a13d3fb9\" xlink:type=\"simple\"><rect fill=\"#FFFFFF\" height=\"40\" id=\"E9\" rx=\"10\" ry=\"10\" style=\"stroke: #383838; stroke-width: 1.5;\" width=\"50\" x=\"432\" y=\"143\"/><rect fill=\"#F8F8F8\" height=\"23.9688\" rx=\"10\" ry=\"10\" style=\"stroke: #F8F8F8; stroke-width: 1.5;\" width=\"50\" x=\"432\" y=\"143\"/><rect fill=\"#F8F8F8\" height=\"10\" style=\"stroke: #F8F8F8; stroke-width: 1.5;\" width=\"50\" x=\"432\" y=\"156.9688\"/><rect fill=\"none\" height=\"40\" id=\"E9\" rx=\"10\" ry=\"10\" style=\"stroke: #383838; stroke-width: 1.5;\" width=\"50\" x=\"432\" y=\"143\"/><text fill=\"#000000\" font-family=\"sans-serif\" font-size=\"12\" lengthAdjust=\"spacingAndGlyphs\" textLength=\"13\" x=\"450.5\" y=\"159.1387\">r1</text></a></g><!--MD5=[a717450b82c80b9240a525fa862496af]\n",
       "link E6 to E3--><a href=\"psysml:7b3d769f-4c56-4413-aa9f-0104e9507d6b\" target=\"_top\" title=\"psysml:7b3d769f-4c56-4413-aa9f-0104e9507d6b\" xlink:actuate=\"onRequest\" xlink:href=\"psysml:7b3d769f-4c56-4413-aa9f-0104e9507d6b\" xlink:show=\"new\" xlink:title=\"psysml:7b3d769f-4c56-4413-aa9f-0104e9507d6b\" xlink:type=\"simple\"><path d=\"M360,186.01 C360,195.62 360,207.22 360,218.4 \" fill=\"none\" id=\"E6-&gt;E3\" style=\"stroke: #383838; stroke-width: 1.0;\"/><polygon fill=\"#FFFFFF\" points=\"360,238.74,353,219.74,367,219.74,360,238.74\" style=\"stroke: #383838; stroke-width: 1.0;\"/><ellipse cx=\"355\" cy=\"214.04\" fill=\"#383838\" rx=\"2\" ry=\"2\" style=\"stroke: #383838; stroke-width: 1.0;\"/><ellipse cx=\"365\" cy=\"214.04\" fill=\"#383838\" rx=\"2\" ry=\"2\" style=\"stroke: #383838; stroke-width: 1.0;\"/></a><!--MD5=[0d06504e722baf6f6242b896d2ef7600]\n",
       "@startuml\r\n",
       "skinparam ranksep 10\r\n",
       "skinparam rectangle {\r\n",
       " backgroundColor<<block>> LightGreen\r\n",
       "}\r\n",
       "skinparam linetype polyline\r\n",
       "skinparam monochrome true\r\n",
       "skinparam classbackgroundcolor white\r\n",
       "skinparam shadowing false\r\n",
       "skinparam wrapWidth 300\r\n",
       "hide circle\r\n",
       "\r\n",
       "package \"ViewTest\" as E1  [[psysml:fb02ed11-6398-4cea-b135-53d0cca9c478 ]]  {\r\n",
       "package \"P\" as E2  [[psysml:6d9f5c34-02db-4c22-b8ae-ed1a072d5ac7 ]]  {\r\n",
       "}\r\n",
       "comp def \"VP\" as E3  <<(T,blue)viewpoint def>> [[psysml:436e526f-0cc5-474d-8f19-4580d940df20 ]] {\r\n",
       "}\r\n",
       "rec def \"R\" as E4  <<(T,blue)rendering def>> [[psysml:053dc08e-a8e7-4770-acc6-30068883d6d6 ]] {\r\n",
       "}\r\n",
       "rec def \"V\" as E5  <<(T,blue)view def>> [[psysml:2fa1d21f-0378-4832-ab0e-3c490c491fc9 ]] {\r\n",
       "comp usage \"vp: VP\" as E6  <<(T,blue)viewpoint>> [[psysml:b39da276-6b98-4aad-85bf-f9ecfc55683d ]] {\r\n",
       "}\r\n",
       "rec usage \"r: R\" as E7  [[psysml:5db0ac38-23f9-426f-a666-7fa33ad35708 ]] {\r\n",
       "}\r\n",
       "rec usage \"v: V\" as E8  [[psysml:96dfc0dc-2946-48da-b50d-9c346f08b52f ]] {\r\n",
       "rec usage \"r1\" as E9  [[psysml:fc5eb428-4a03-41d1-992b-aff2a13d3fb9 ]] {\r\n",
       "}\r\n",
       "}\r\n",
       "}\r\n",
       "E6 - -:|> E3 [[psysml:7b3d769f-4c56-4413-aa9f-0104e9507d6b ]] \r\n",
       "}\r\n",
       "@enduml\r\n",
       "\n",
       "PlantUML version 1.2020.13(Sat Jun 13 12:26:38 UTC 2020)\n",
       "(EPL source distribution)\n",
       "Java Runtime: OpenJDK Runtime Environment\n",
       "JVM: OpenJDK 64-Bit Server VM\n",
       "Default Encoding: UTF-8\n",
       "Language: en\n",
       "Country: null\n",
       "--></g></svg>"
      ]
     },
     "execution_count": 12,
     "metadata": {},
     "output_type": "execute_result"
    }
   ],
   "source": [
    "%viz --style=\"POLYLINE\" --view=\"Interconnection\" \"ViewTest\""
   ]
  },
  {
   "cell_type": "code",
   "execution_count": 13,
   "id": "banned-violin",
   "metadata": {
    "execution": {
     "iopub.execute_input": "2021-03-24T16:32:11.688165Z",
     "iopub.status.busy": "2021-03-24T16:32:11.687247Z",
     "iopub.status.idle": "2021-03-24T16:32:11.694698Z",
     "shell.execute_reply": "2021-03-24T16:32:11.694344Z"
    }
   },
   "outputs": [
    {
     "data": {
      "image/svg+xml": [
       "<?xml version=\"1.0\" encoding=\"UTF-8\" standalone=\"no\"?><svg xmlns=\"http://www.w3.org/2000/svg\" xmlns:xlink=\"http://www.w3.org/1999/xlink\" contentScriptType=\"application/ecmascript\" contentStyleType=\"text/css\" height=\"12px\" preserveAspectRatio=\"none\" style=\"width:12px;height:12px;\" version=\"1.1\" viewBox=\"0 0 12 12\" width=\"12px\" zoomAndPan=\"magnify\"><defs/><g><!--MD5=[97bbf32f66ccd50cbc40d92ea8f5a65e]\n",
       "@startuml\r\n",
       "skinparam ranksep 8\r\n",
       "skinparam linetype polyline\r\n",
       "skinparam monochrome true\r\n",
       "skinparam classbackgroundcolor white\r\n",
       "skinparam shadowing false\r\n",
       "skinparam wrapWidth 300\r\n",
       "hide circle\r\n",
       "\r\n",
       "@enduml\r\n",
       "\n",
       "PlantUML version 1.2020.13(Sat Jun 13 12:26:38 UTC 2020)\n",
       "(EPL source distribution)\n",
       "Java Runtime: OpenJDK Runtime Environment\n",
       "JVM: OpenJDK 64-Bit Server VM\n",
       "Default Encoding: UTF-8\n",
       "Language: en\n",
       "Country: null\n",
       "--></g></svg>"
      ]
     },
     "execution_count": 13,
     "metadata": {},
     "output_type": "execute_result"
    }
   ],
   "source": [
    "%viz --style=\"POLYLINE\" --view=\"Action\" \"ViewTest\""
   ]
  },
  {
   "cell_type": "code",
   "execution_count": 14,
   "id": "rough-soundtrack",
   "metadata": {
    "execution": {
     "iopub.execute_input": "2021-03-24T16:32:11.745684Z",
     "iopub.status.busy": "2021-03-24T16:32:11.745197Z",
     "iopub.status.idle": "2021-03-24T16:32:11.790608Z",
     "shell.execute_reply": "2021-03-24T16:32:11.789060Z"
    }
   },
   "outputs": [
    {
     "data": {
      "image/svg+xml": [
       "<?xml version=\"1.0\" encoding=\"UTF-8\" standalone=\"no\"?><svg xmlns=\"http://www.w3.org/2000/svg\" xmlns:xlink=\"http://www.w3.org/1999/xlink\" contentScriptType=\"application/ecmascript\" contentStyleType=\"text/css\" height=\"334px\" preserveAspectRatio=\"none\" style=\"width:417px;height:334px;\" version=\"1.1\" viewBox=\"0 0 417 334\" width=\"417px\" zoomAndPan=\"magnify\"><defs/><g><!--MD5=[fbc87193dbaf4d95561dea2c320d4a47]\n",
       "cluster E1--><a href=\"psysml:fb02ed11-6398-4cea-b135-53d0cca9c478\" target=\"_top\" title=\"psysml:fb02ed11-6398-4cea-b135-53d0cca9c478\" xlink:actuate=\"onRequest\" xlink:href=\"psysml:fb02ed11-6398-4cea-b135-53d0cca9c478\" xlink:show=\"new\" xlink:title=\"psysml:fb02ed11-6398-4cea-b135-53d0cca9c478\" xlink:type=\"simple\"><polygon fill=\"#FFFFFF\" points=\"16,6,96,6,103,28.2969,395,28.2969,395,322,16,322,16,6\" style=\"stroke: #000000; stroke-width: 1.5;\"/><line style=\"stroke: #000000; stroke-width: 1.5;\" x1=\"16\" x2=\"103\" y1=\"28.2969\" y2=\"28.2969\"/><text fill=\"#000000\" font-family=\"sans-serif\" font-size=\"14\" font-weight=\"bold\" lengthAdjust=\"spacingAndGlyphs\" textLength=\"74\" x=\"20\" y=\"20.9951\">ViewTest</text></a><!--MD5=[09b614a08d8cba4a07c9adeb5e0fee81]\n",
       "class E3--><a href=\"psysml:436e526f-0cc5-474d-8f19-4580d940df20\" target=\"_top\" title=\"psysml:436e526f-0cc5-474d-8f19-4580d940df20\" xlink:actuate=\"onRequest\" xlink:href=\"psysml:436e526f-0cc5-474d-8f19-4580d940df20\" xlink:show=\"new\" xlink:title=\"psysml:436e526f-0cc5-474d-8f19-4580d940df20\" xlink:type=\"simple\"><rect fill=\"#FFFFFF\" height=\"45.9375\" id=\"E3\" style=\"stroke: #383838; stroke-width: 1.5;\" width=\"98\" x=\"32\" y=\"260\"/><text fill=\"#000000\" font-family=\"sans-serif\" font-size=\"12\" font-style=\"italic\" lengthAdjust=\"spacingAndGlyphs\" textLength=\"96\" x=\"33\" y=\"276.1387\">«viewpoint def»</text><text fill=\"#000000\" font-family=\"sans-serif\" font-size=\"12\" lengthAdjust=\"spacingAndGlyphs\" textLength=\"16\" x=\"73\" y=\"290.1074\">VP</text><line style=\"stroke: #383838; stroke-width: 1.5;\" x1=\"33\" x2=\"129\" y1=\"297.9375\" y2=\"297.9375\"/></a><!--MD5=[ebbe1d658d1005bcc118a6aa81145e00]\n",
       "class E4--><a href=\"psysml:053dc08e-a8e7-4770-acc6-30068883d6d6\" target=\"_top\" title=\"psysml:053dc08e-a8e7-4770-acc6-30068883d6d6\" xlink:actuate=\"onRequest\" xlink:href=\"psysml:053dc08e-a8e7-4770-acc6-30068883d6d6\" xlink:show=\"new\" xlink:title=\"psysml:053dc08e-a8e7-4770-acc6-30068883d6d6\" xlink:type=\"simple\"><rect fill=\"#FFFFFF\" height=\"45.9375\" id=\"E4\" style=\"stroke: #383838; stroke-width: 1.5;\" width=\"101\" x=\"165.5\" y=\"260\"/><text fill=\"#000000\" font-family=\"sans-serif\" font-size=\"12\" font-style=\"italic\" lengthAdjust=\"spacingAndGlyphs\" textLength=\"99\" x=\"166.5\" y=\"276.1387\">«rendering def»</text><text fill=\"#000000\" font-family=\"sans-serif\" font-size=\"12\" lengthAdjust=\"spacingAndGlyphs\" textLength=\"8\" x=\"212\" y=\"290.1074\">R</text><line style=\"stroke: #383838; stroke-width: 1.5;\" x1=\"166.5\" x2=\"265.5\" y1=\"297.9375\" y2=\"297.9375\"/></a><!--MD5=[270fce915f116d4de14055a7c1d9a0f3]\n",
       "class E5--><a href=\"psysml:2fa1d21f-0378-4832-ab0e-3c490c491fc9\" target=\"_top\" title=\"psysml:2fa1d21f-0378-4832-ab0e-3c490c491fc9\" xlink:actuate=\"onRequest\" xlink:href=\"psysml:2fa1d21f-0378-4832-ab0e-3c490c491fc9\" xlink:show=\"new\" xlink:title=\"psysml:2fa1d21f-0378-4832-ab0e-3c490c491fc9\" xlink:type=\"simple\"><rect fill=\"#FFFFFF\" height=\"45.9375\" id=\"E5\" style=\"stroke: #383838; stroke-width: 1.5;\" width=\"66\" x=\"230\" y=\"44.5\"/><text fill=\"#000000\" font-family=\"sans-serif\" font-size=\"12\" font-style=\"italic\" lengthAdjust=\"spacingAndGlyphs\" textLength=\"64\" x=\"231\" y=\"60.6387\">«view def»</text><text fill=\"#000000\" font-family=\"sans-serif\" font-size=\"12\" lengthAdjust=\"spacingAndGlyphs\" textLength=\"8\" x=\"259\" y=\"74.6074\">V</text><line style=\"stroke: #383838; stroke-width: 1.5;\" x1=\"231\" x2=\"295\" y1=\"82.4375\" y2=\"82.4375\"/></a><!--MD5=[60a26617385b1d2d0262a64233df1f8d]\n",
       "class E6--><a href=\"psysml:b39da276-6b98-4aad-85bf-f9ecfc55683d\" target=\"_top\" title=\"psysml:b39da276-6b98-4aad-85bf-f9ecfc55683d\" xlink:actuate=\"onRequest\" xlink:href=\"psysml:b39da276-6b98-4aad-85bf-f9ecfc55683d\" xlink:show=\"new\" xlink:title=\"psysml:b39da276-6b98-4aad-85bf-f9ecfc55683d\" xlink:type=\"simple\"><rect fill=\"#FFFFFF\" height=\"45.9375\" id=\"E6\" rx=\"10\" ry=\"10\" style=\"stroke: #383838; stroke-width: 1.5;\" width=\"74\" x=\"56\" y=\"154\"/><text fill=\"#000000\" font-family=\"sans-serif\" font-size=\"12\" font-style=\"italic\" lengthAdjust=\"spacingAndGlyphs\" textLength=\"72\" x=\"57\" y=\"170.1387\">«viewpoint»</text><text fill=\"#000000\" font-family=\"sans-serif\" font-size=\"12\" lengthAdjust=\"spacingAndGlyphs\" textLength=\"38\" x=\"74\" y=\"184.1074\">vp: VP</text><line style=\"stroke: #383838; stroke-width: 1.5;\" x1=\"57\" x2=\"129\" y1=\"191.9375\" y2=\"191.9375\"/></a><!--MD5=[2156ba9850f5573cc1fc38a6a4b2f02b]\n",
       "class E7--><a href=\"psysml:5db0ac38-23f9-426f-a666-7fa33ad35708\" target=\"_top\" title=\"psysml:5db0ac38-23f9-426f-a666-7fa33ad35708\" xlink:actuate=\"onRequest\" xlink:href=\"psysml:5db0ac38-23f9-426f-a666-7fa33ad35708\" xlink:show=\"new\" xlink:title=\"psysml:5db0ac38-23f9-426f-a666-7fa33ad35708\" xlink:type=\"simple\"><rect fill=\"#FFFFFF\" height=\"45.9375\" id=\"E7\" rx=\"10\" ry=\"10\" style=\"stroke: #383838; stroke-width: 1.5;\" width=\"77\" x=\"177.5\" y=\"154\"/><text fill=\"#000000\" font-family=\"sans-serif\" font-size=\"12\" font-style=\"italic\" lengthAdjust=\"spacingAndGlyphs\" textLength=\"75\" x=\"178.5\" y=\"170.1387\">«rendering»</text><text fill=\"#000000\" font-family=\"sans-serif\" font-size=\"12\" lengthAdjust=\"spacingAndGlyphs\" textLength=\"21\" x=\"205.5\" y=\"184.1074\">r: R</text><line style=\"stroke: #383838; stroke-width: 1.5;\" x1=\"178.5\" x2=\"253.5\" y1=\"191.9375\" y2=\"191.9375\"/></a><!--MD5=[b9389687b975829384b498ac4b7476b2]\n",
       "class E8--><a href=\"psysml:96dfc0dc-2946-48da-b50d-9c346f08b52f\" target=\"_top\" title=\"psysml:96dfc0dc-2946-48da-b50d-9c346f08b52f\" xlink:actuate=\"onRequest\" xlink:href=\"psysml:96dfc0dc-2946-48da-b50d-9c346f08b52f\" xlink:show=\"new\" xlink:title=\"psysml:96dfc0dc-2946-48da-b50d-9c346f08b52f\" xlink:type=\"simple\"><rect fill=\"#FFFFFF\" height=\"45.9375\" id=\"E8\" rx=\"10\" ry=\"10\" style=\"stroke: #383838; stroke-width: 1.5;\" width=\"42\" x=\"290\" y=\"154\"/><text fill=\"#000000\" font-family=\"sans-serif\" font-size=\"12\" font-style=\"italic\" lengthAdjust=\"spacingAndGlyphs\" textLength=\"40\" x=\"291\" y=\"170.1387\">«view»</text><text fill=\"#000000\" font-family=\"sans-serif\" font-size=\"12\" lengthAdjust=\"spacingAndGlyphs\" textLength=\"22\" x=\"300\" y=\"184.1074\">v: V</text><line style=\"stroke: #383838; stroke-width: 1.5;\" x1=\"291\" x2=\"331\" y1=\"191.9375\" y2=\"191.9375\"/></a><!--MD5=[fd4143e9d270a159db93a4ea2a975926]\n",
       "class E9--><a href=\"psysml:fc5eb428-4a03-41d1-992b-aff2a13d3fb9\" target=\"_top\" title=\"psysml:fc5eb428-4a03-41d1-992b-aff2a13d3fb9\" xlink:actuate=\"onRequest\" xlink:href=\"psysml:fc5eb428-4a03-41d1-992b-aff2a13d3fb9\" xlink:show=\"new\" xlink:title=\"psysml:fc5eb428-4a03-41d1-992b-aff2a13d3fb9\" xlink:type=\"simple\"><rect fill=\"#FFFFFF\" height=\"45.9375\" id=\"E9\" rx=\"10\" ry=\"10\" style=\"stroke: #383838; stroke-width: 1.5;\" width=\"77\" x=\"301.5\" y=\"260\"/><text fill=\"#000000\" font-family=\"sans-serif\" font-size=\"12\" font-style=\"italic\" lengthAdjust=\"spacingAndGlyphs\" textLength=\"75\" x=\"302.5\" y=\"276.1387\">«rendering»</text><text fill=\"#000000\" font-family=\"sans-serif\" font-size=\"12\" lengthAdjust=\"spacingAndGlyphs\" textLength=\"13\" x=\"333.5\" y=\"290.1074\">r1</text><line style=\"stroke: #383838; stroke-width: 1.5;\" x1=\"302.5\" x2=\"377.5\" y1=\"297.9375\" y2=\"297.9375\"/></a><a href=\"psysml:6d9f5c34-02db-4c22-b8ae-ed1a072d5ac7\" target=\"_top\" title=\"psysml:6d9f5c34-02db-4c22-b8ae-ed1a072d5ac7\" xlink:actuate=\"onRequest\" xlink:href=\"psysml:6d9f5c34-02db-4c22-b8ae-ed1a072d5ac7\" xlink:show=\"new\" xlink:title=\"psysml:6d9f5c34-02db-4c22-b8ae-ed1a072d5ac7\" xlink:type=\"simple\"><polygon fill=\"#FFFFFF\" points=\"122,41,138,41,145,63.2969,152,63.2969,152,93.5938,122,93.5938,122,41\" style=\"stroke: #000000; stroke-width: 1.5;\"/><line style=\"stroke: #000000; stroke-width: 1.5;\" x1=\"122\" x2=\"145\" y1=\"63.2969\" y2=\"63.2969\"/><text fill=\"#000000\" font-family=\"sans-serif\" font-size=\"14\" font-weight=\"bold\" lengthAdjust=\"spacingAndGlyphs\" textLength=\"10\" x=\"126\" y=\"55.9951\">P</text></a><!--MD5=[85d356282659285ab4b2cfe2f634dd2b]\n",
       "reverse link E5 to E6--><a href=\"psysml:b39da276-6b98-4aad-85bf-f9ecfc55683d\" target=\"_top\" title=\"psysml:b39da276-6b98-4aad-85bf-f9ecfc55683d\" xlink:actuate=\"onRequest\" xlink:href=\"psysml:b39da276-6b98-4aad-85bf-f9ecfc55683d\" xlink:show=\"new\" xlink:title=\"psysml:b39da276-6b98-4aad-85bf-f9ecfc55683d\" xlink:type=\"simple\"><path d=\"M218.61,96.57 C190.28,114.48 154.1,137.36 127.85,153.96 \" fill=\"none\" id=\"E5&lt;-E6\" style=\"stroke: #383838; stroke-width: 1.0;\"/><polygon fill=\"#383838\" points=\"229.82,89.48,222.6111,89.2999,219.6723,95.8849,226.8811,96.0651,229.82,89.48\" style=\"stroke: #383838; stroke-width: 1.0;\"/></a><!--MD5=[a717450b82c80b9240a525fa862496af]\n",
       "link E6 to E3--><a href=\"psysml:7b3d769f-4c56-4413-aa9f-0104e9507d6b\" target=\"_top\" title=\"psysml:7b3d769f-4c56-4413-aa9f-0104e9507d6b\" xlink:actuate=\"onRequest\" xlink:href=\"psysml:7b3d769f-4c56-4413-aa9f-0104e9507d6b\" xlink:show=\"new\" xlink:title=\"psysml:7b3d769f-4c56-4413-aa9f-0104e9507d6b\" xlink:type=\"simple\"><path d=\"M90.46,200.06 C89.12,211.64 87.44,226.23 85.86,239.87 \" fill=\"none\" id=\"E6-&gt;E3\" style=\"stroke: #383838; stroke-width: 1.0;\"/><polygon fill=\"#FFFFFF\" points=\"83.54,259.98,78.757,240.3046,92.6653,241.9044,83.54,259.98\" style=\"stroke: #383838; stroke-width: 1.0;\"/><ellipse cx=\"81.3953\" cy=\"234.8704\" fill=\"#383838\" rx=\"2\" ry=\"2\" style=\"stroke: #383838; stroke-width: 1.0;\"/><ellipse cx=\"91.3298\" cy=\"236.0132\" fill=\"#383838\" rx=\"2\" ry=\"2\" style=\"stroke: #383838; stroke-width: 1.0;\"/></a><!--MD5=[6bdd27f9905911a7e892a3dc65cf6b7c]\n",
       "link E7 to E4--><a href=\"psysml:f768404d-501b-4614-8ab9-e2515f32fafd\" target=\"_top\" title=\"psysml:f768404d-501b-4614-8ab9-e2515f32fafd\" xlink:actuate=\"onRequest\" xlink:href=\"psysml:f768404d-501b-4614-8ab9-e2515f32fafd\" xlink:show=\"new\" xlink:title=\"psysml:f768404d-501b-4614-8ab9-e2515f32fafd\" xlink:type=\"simple\"><path d=\"M216,200.06 C216,211.64 216,226.23 216,239.87 \" fill=\"none\" id=\"E7-&gt;E4\" style=\"stroke: #383838; stroke-width: 1.0;\"/><polygon fill=\"#FFFFFF\" points=\"216,259.98,209,240.98,223,240.98,216,259.98\" style=\"stroke: #383838; stroke-width: 1.0;\"/><ellipse cx=\"211\" cy=\"235.28\" fill=\"#383838\" rx=\"2\" ry=\"2\" style=\"stroke: #383838; stroke-width: 1.0;\"/><ellipse cx=\"221\" cy=\"235.28\" fill=\"#383838\" rx=\"2\" ry=\"2\" style=\"stroke: #383838; stroke-width: 1.0;\"/></a><!--MD5=[452b418e7f8a40397a49b8c0a78acc5b]\n",
       "reverse link E5 to E7--><a href=\"psysml:5db0ac38-23f9-426f-a666-7fa33ad35708\" target=\"_top\" title=\"psysml:5db0ac38-23f9-426f-a666-7fa33ad35708\" xlink:actuate=\"onRequest\" xlink:href=\"psysml:5db0ac38-23f9-426f-a666-7fa33ad35708\" xlink:show=\"new\" xlink:title=\"psysml:5db0ac38-23f9-426f-a666-7fa33ad35708\" xlink:type=\"simple\"><path d=\"M248.1,102.57 C240.81,119.26 232.23,138.89 225.77,153.65 \" fill=\"none\" id=\"E5&lt;-E7\" style=\"stroke: #383838; stroke-width: 1.0;\"/><polygon fill=\"#383838\" points=\"253.38,90.51,247.31,94.4029,248.5688,101.5033,254.6388,97.6104,253.38,90.51\" style=\"stroke: #383838; stroke-width: 1.0;\"/><text fill=\"#000000\" font-family=\"sans-serif\" font-size=\"13\" lengthAdjust=\"spacingAndGlyphs\" textLength=\"24\" x=\"201.1986\" y=\"142.8366\">0..1</text></a><!--MD5=[1ccb2481ffa92f8d51a74ee30c51832a]\n",
       "link E8 to E5--><a href=\"psysml:2ecacd66-b174-4fa5-a1f0-5f98a8e6e629\" target=\"_top\" title=\"psysml:2ecacd66-b174-4fa5-a1f0-5f98a8e6e629\" xlink:actuate=\"onRequest\" xlink:href=\"psysml:2ecacd66-b174-4fa5-a1f0-5f98a8e6e629\" xlink:show=\"new\" xlink:title=\"psysml:2ecacd66-b174-4fa5-a1f0-5f98a8e6e629\" xlink:type=\"simple\"><path d=\"M312.22,153.65 C308.53,140.48 301.55,123.44 293.74,108.07 \" fill=\"none\" id=\"E8-&gt;E5\" style=\"stroke: #383838; stroke-width: 1.0;\"/><polygon fill=\"#FFFFFF\" points=\"283.97,90.51,299.3209,103.7142,287.0851,110.5174,283.97,90.51\" style=\"stroke: #383838; stroke-width: 1.0;\"/><ellipse cx=\"300.3428\" cy=\"109.6678\" fill=\"#383838\" rx=\"2\" ry=\"2\" style=\"stroke: #383838; stroke-width: 1.0;\"/><ellipse cx=\"291.6029\" cy=\"114.5273\" fill=\"#383838\" rx=\"2\" ry=\"2\" style=\"stroke: #383838; stroke-width: 1.0;\"/></a><!--MD5=[827760032d119d06bbc92f75530fd7ae]\n",
       "reverse link E5 to E8--><a href=\"psysml:96dfc0dc-2946-48da-b50d-9c346f08b52f\" target=\"_top\" title=\"psysml:96dfc0dc-2946-48da-b50d-9c346f08b52f\" xlink:actuate=\"onRequest\" xlink:href=\"psysml:96dfc0dc-2946-48da-b50d-9c346f08b52f\" xlink:show=\"new\" xlink:title=\"psysml:96dfc0dc-2946-48da-b50d-9c346f08b52f\" xlink:type=\"simple\"><path d=\"M266.44,103.07 C272.49,119.65 281.62,139.03 290.44,153.65 \" fill=\"none\" id=\"E5&lt;-E8\" style=\"stroke: #383838; stroke-width: 1.0;\"/><polygon fill=\"#383838\" points=\"262.31,90.51,260.3836,97.459,266.0572,101.9099,267.9836,94.9609,262.31,90.51\" style=\"stroke: #383838; stroke-width: 1.0;\"/><text fill=\"#000000\" font-family=\"sans-serif\" font-size=\"13\" lengthAdjust=\"spacingAndGlyphs\" textLength=\"7\" x=\"277.2746\" y=\"142.8366\">*</text></a><!--MD5=[22f5b4bae7e060dce8a1c8021efdb95b]\n",
       "reverse link E8 to E9--><a href=\"psysml:fc5eb428-4a03-41d1-992b-aff2a13d3fb9\" target=\"_top\" title=\"psysml:fc5eb428-4a03-41d1-992b-aff2a13d3fb9\" xlink:actuate=\"onRequest\" xlink:href=\"psysml:fc5eb428-4a03-41d1-992b-aff2a13d3fb9\" xlink:show=\"new\" xlink:title=\"psysml:fc5eb428-4a03-41d1-992b-aff2a13d3fb9\" xlink:type=\"simple\"><path d=\"M320.75,212.96 C325.08,228.51 330.05,246.33 333.86,259.98 \" fill=\"none\" id=\"E8&lt;-E9\" style=\"stroke: #383838; stroke-width: 1.0;\"/><polygon fill=\"#383838\" points=\"317.15,200.06,314.9066,206.9133,320.3699,211.6199,322.6133,204.7667,317.15,200.06\" style=\"stroke: #383838; stroke-width: 1.0;\"/></a><!--MD5=[e0b69aa9f6d5e26a6fa5cca5418a4734]\n",
       "@startuml\r\n",
       "skinparam linetype polyline\r\n",
       "skinparam monochrome true\r\n",
       "skinparam classbackgroundcolor white\r\n",
       "skinparam shadowing false\r\n",
       "skinparam wrapWidth 300\r\n",
       "hide circle\r\n",
       "\r\n",
       "package \"ViewTest\" as E1  [[psysml:fb02ed11-6398-4cea-b135-53d0cca9c478 ]]  {\r\n",
       "package \"P\" as E2  [[psysml:6d9f5c34-02db-4c22-b8ae-ed1a072d5ac7 ]]  {\r\n",
       "}\r\n",
       "comp def \"VP\" as E3  <<(T,blue)viewpoint def>> [[psysml:436e526f-0cc5-474d-8f19-4580d940df20 ]] {\r\n",
       "}\r\n",
       "comp def \"R\" as E4  <<(T,blue)rendering def>> [[psysml:053dc08e-a8e7-4770-acc6-30068883d6d6 ]] {\r\n",
       "}\r\n",
       "comp def \"V\" as E5  <<(T,blue)view def>> [[psysml:2fa1d21f-0378-4832-ab0e-3c490c491fc9 ]] {\r\n",
       "}\r\n",
       "comp usage \"vp: VP\" as E6  <<(T,blue)viewpoint>> [[psysml:b39da276-6b98-4aad-85bf-f9ecfc55683d ]] {\r\n",
       "}\r\n",
       "comp usage \"r: R\" as E7  <<(T,blue)rendering>> [[psysml:5db0ac38-23f9-426f-a666-7fa33ad35708 ]] {\r\n",
       "}\r\n",
       "comp usage \"v: V\" as E8  <<(T,blue)view>> [[psysml:96dfc0dc-2946-48da-b50d-9c346f08b52f ]] {\r\n",
       "}\r\n",
       "comp usage \"r1\" as E9  <<(T,blue)rendering>> [[psysml:fc5eb428-4a03-41d1-992b-aff2a13d3fb9 ]] {\r\n",
       "}\r\n",
       "E5 *- - E6 [[psysml:b39da276-6b98-4aad-85bf-f9ecfc55683d ]] \r\n",
       "E6 - -:|> E3 [[psysml:7b3d769f-4c56-4413-aa9f-0104e9507d6b ]] \r\n",
       "E7 - -:|> E4 [[psysml:f768404d-501b-4614-8ab9-e2515f32fafd ]] \r\n",
       "E5 *- - \"0..1\"E7 [[psysml:5db0ac38-23f9-426f-a666-7fa33ad35708 ]] \r\n",
       "E8 - -:|> E5 [[psysml:2ecacd66-b174-4fa5-a1f0-5f98a8e6e629 ]] \r\n",
       "E5 *- - \"*\"E8 [[psysml:96dfc0dc-2946-48da-b50d-9c346f08b52f ]] \r\n",
       "E8 *- - E9 [[psysml:fc5eb428-4a03-41d1-992b-aff2a13d3fb9 ]] \r\n",
       "}\r\n",
       "@enduml\r\n",
       "\n",
       "PlantUML version 1.2020.13(Sat Jun 13 12:26:38 UTC 2020)\n",
       "(EPL source distribution)\n",
       "Java Runtime: OpenJDK Runtime Environment\n",
       "JVM: OpenJDK 64-Bit Server VM\n",
       "Default Encoding: UTF-8\n",
       "Language: en\n",
       "Country: null\n",
       "--></g></svg>"
      ]
     },
     "execution_count": 14,
     "metadata": {},
     "output_type": "execute_result"
    }
   ],
   "source": [
    "%viz --style=\"POLYLINE\" --view=\"Sequence\" \"ViewTest\""
   ]
  },
  {
   "cell_type": "code",
   "execution_count": 15,
   "id": "italian-device",
   "metadata": {
    "execution": {
     "iopub.execute_input": "2021-03-24T16:32:11.841896Z",
     "iopub.status.busy": "2021-03-24T16:32:11.841106Z",
     "iopub.status.idle": "2021-03-24T16:32:11.882234Z",
     "shell.execute_reply": "2021-03-24T16:32:11.880610Z"
    }
   },
   "outputs": [
    {
     "data": {
      "image/svg+xml": [
       "<?xml version=\"1.0\" encoding=\"UTF-8\" standalone=\"no\"?><svg xmlns=\"http://www.w3.org/2000/svg\" xmlns:xlink=\"http://www.w3.org/1999/xlink\" contentScriptType=\"application/ecmascript\" contentStyleType=\"text/css\" height=\"334px\" preserveAspectRatio=\"none\" style=\"width:417px;height:334px;\" version=\"1.1\" viewBox=\"0 0 417 334\" width=\"417px\" zoomAndPan=\"magnify\"><defs/><g><!--MD5=[fbc87193dbaf4d95561dea2c320d4a47]\n",
       "cluster E1--><a href=\"psysml:fb02ed11-6398-4cea-b135-53d0cca9c478\" target=\"_top\" title=\"psysml:fb02ed11-6398-4cea-b135-53d0cca9c478\" xlink:actuate=\"onRequest\" xlink:href=\"psysml:fb02ed11-6398-4cea-b135-53d0cca9c478\" xlink:show=\"new\" xlink:title=\"psysml:fb02ed11-6398-4cea-b135-53d0cca9c478\" xlink:type=\"simple\"><polygon fill=\"#FFFFFF\" points=\"16,6,96,6,103,28.2969,395,28.2969,395,322,16,322,16,6\" style=\"stroke: #000000; stroke-width: 1.5;\"/><line style=\"stroke: #000000; stroke-width: 1.5;\" x1=\"16\" x2=\"103\" y1=\"28.2969\" y2=\"28.2969\"/><text fill=\"#000000\" font-family=\"sans-serif\" font-size=\"14\" font-weight=\"bold\" lengthAdjust=\"spacingAndGlyphs\" textLength=\"74\" x=\"20\" y=\"20.9951\">ViewTest</text></a><!--MD5=[09b614a08d8cba4a07c9adeb5e0fee81]\n",
       "class E3--><a href=\"psysml:436e526f-0cc5-474d-8f19-4580d940df20\" target=\"_top\" title=\"psysml:436e526f-0cc5-474d-8f19-4580d940df20\" xlink:actuate=\"onRequest\" xlink:href=\"psysml:436e526f-0cc5-474d-8f19-4580d940df20\" xlink:show=\"new\" xlink:title=\"psysml:436e526f-0cc5-474d-8f19-4580d940df20\" xlink:type=\"simple\"><rect fill=\"#FFFFFF\" height=\"45.9375\" id=\"E3\" style=\"stroke: #383838; stroke-width: 1.5;\" width=\"98\" x=\"32\" y=\"260\"/><text fill=\"#000000\" font-family=\"sans-serif\" font-size=\"12\" font-style=\"italic\" lengthAdjust=\"spacingAndGlyphs\" textLength=\"96\" x=\"33\" y=\"276.1387\">«viewpoint def»</text><text fill=\"#000000\" font-family=\"sans-serif\" font-size=\"12\" lengthAdjust=\"spacingAndGlyphs\" textLength=\"16\" x=\"73\" y=\"290.1074\">VP</text><line style=\"stroke: #383838; stroke-width: 1.5;\" x1=\"33\" x2=\"129\" y1=\"297.9375\" y2=\"297.9375\"/></a><!--MD5=[ebbe1d658d1005bcc118a6aa81145e00]\n",
       "class E4--><a href=\"psysml:053dc08e-a8e7-4770-acc6-30068883d6d6\" target=\"_top\" title=\"psysml:053dc08e-a8e7-4770-acc6-30068883d6d6\" xlink:actuate=\"onRequest\" xlink:href=\"psysml:053dc08e-a8e7-4770-acc6-30068883d6d6\" xlink:show=\"new\" xlink:title=\"psysml:053dc08e-a8e7-4770-acc6-30068883d6d6\" xlink:type=\"simple\"><rect fill=\"#FFFFFF\" height=\"45.9375\" id=\"E4\" style=\"stroke: #383838; stroke-width: 1.5;\" width=\"101\" x=\"165.5\" y=\"260\"/><text fill=\"#000000\" font-family=\"sans-serif\" font-size=\"12\" font-style=\"italic\" lengthAdjust=\"spacingAndGlyphs\" textLength=\"99\" x=\"166.5\" y=\"276.1387\">«rendering def»</text><text fill=\"#000000\" font-family=\"sans-serif\" font-size=\"12\" lengthAdjust=\"spacingAndGlyphs\" textLength=\"8\" x=\"212\" y=\"290.1074\">R</text><line style=\"stroke: #383838; stroke-width: 1.5;\" x1=\"166.5\" x2=\"265.5\" y1=\"297.9375\" y2=\"297.9375\"/></a><!--MD5=[270fce915f116d4de14055a7c1d9a0f3]\n",
       "class E5--><a href=\"psysml:2fa1d21f-0378-4832-ab0e-3c490c491fc9\" target=\"_top\" title=\"psysml:2fa1d21f-0378-4832-ab0e-3c490c491fc9\" xlink:actuate=\"onRequest\" xlink:href=\"psysml:2fa1d21f-0378-4832-ab0e-3c490c491fc9\" xlink:show=\"new\" xlink:title=\"psysml:2fa1d21f-0378-4832-ab0e-3c490c491fc9\" xlink:type=\"simple\"><rect fill=\"#FFFFFF\" height=\"45.9375\" id=\"E5\" style=\"stroke: #383838; stroke-width: 1.5;\" width=\"66\" x=\"230\" y=\"44.5\"/><text fill=\"#000000\" font-family=\"sans-serif\" font-size=\"12\" font-style=\"italic\" lengthAdjust=\"spacingAndGlyphs\" textLength=\"64\" x=\"231\" y=\"60.6387\">«view def»</text><text fill=\"#000000\" font-family=\"sans-serif\" font-size=\"12\" lengthAdjust=\"spacingAndGlyphs\" textLength=\"8\" x=\"259\" y=\"74.6074\">V</text><line style=\"stroke: #383838; stroke-width: 1.5;\" x1=\"231\" x2=\"295\" y1=\"82.4375\" y2=\"82.4375\"/></a><!--MD5=[60a26617385b1d2d0262a64233df1f8d]\n",
       "class E6--><a href=\"psysml:b39da276-6b98-4aad-85bf-f9ecfc55683d\" target=\"_top\" title=\"psysml:b39da276-6b98-4aad-85bf-f9ecfc55683d\" xlink:actuate=\"onRequest\" xlink:href=\"psysml:b39da276-6b98-4aad-85bf-f9ecfc55683d\" xlink:show=\"new\" xlink:title=\"psysml:b39da276-6b98-4aad-85bf-f9ecfc55683d\" xlink:type=\"simple\"><rect fill=\"#FFFFFF\" height=\"45.9375\" id=\"E6\" rx=\"10\" ry=\"10\" style=\"stroke: #383838; stroke-width: 1.5;\" width=\"74\" x=\"56\" y=\"154\"/><text fill=\"#000000\" font-family=\"sans-serif\" font-size=\"12\" font-style=\"italic\" lengthAdjust=\"spacingAndGlyphs\" textLength=\"72\" x=\"57\" y=\"170.1387\">«viewpoint»</text><text fill=\"#000000\" font-family=\"sans-serif\" font-size=\"12\" lengthAdjust=\"spacingAndGlyphs\" textLength=\"38\" x=\"74\" y=\"184.1074\">vp: VP</text><line style=\"stroke: #383838; stroke-width: 1.5;\" x1=\"57\" x2=\"129\" y1=\"191.9375\" y2=\"191.9375\"/></a><!--MD5=[2156ba9850f5573cc1fc38a6a4b2f02b]\n",
       "class E7--><a href=\"psysml:5db0ac38-23f9-426f-a666-7fa33ad35708\" target=\"_top\" title=\"psysml:5db0ac38-23f9-426f-a666-7fa33ad35708\" xlink:actuate=\"onRequest\" xlink:href=\"psysml:5db0ac38-23f9-426f-a666-7fa33ad35708\" xlink:show=\"new\" xlink:title=\"psysml:5db0ac38-23f9-426f-a666-7fa33ad35708\" xlink:type=\"simple\"><rect fill=\"#FFFFFF\" height=\"45.9375\" id=\"E7\" rx=\"10\" ry=\"10\" style=\"stroke: #383838; stroke-width: 1.5;\" width=\"77\" x=\"177.5\" y=\"154\"/><text fill=\"#000000\" font-family=\"sans-serif\" font-size=\"12\" font-style=\"italic\" lengthAdjust=\"spacingAndGlyphs\" textLength=\"75\" x=\"178.5\" y=\"170.1387\">«rendering»</text><text fill=\"#000000\" font-family=\"sans-serif\" font-size=\"12\" lengthAdjust=\"spacingAndGlyphs\" textLength=\"21\" x=\"205.5\" y=\"184.1074\">r: R</text><line style=\"stroke: #383838; stroke-width: 1.5;\" x1=\"178.5\" x2=\"253.5\" y1=\"191.9375\" y2=\"191.9375\"/></a><!--MD5=[b9389687b975829384b498ac4b7476b2]\n",
       "class E8--><a href=\"psysml:96dfc0dc-2946-48da-b50d-9c346f08b52f\" target=\"_top\" title=\"psysml:96dfc0dc-2946-48da-b50d-9c346f08b52f\" xlink:actuate=\"onRequest\" xlink:href=\"psysml:96dfc0dc-2946-48da-b50d-9c346f08b52f\" xlink:show=\"new\" xlink:title=\"psysml:96dfc0dc-2946-48da-b50d-9c346f08b52f\" xlink:type=\"simple\"><rect fill=\"#FFFFFF\" height=\"45.9375\" id=\"E8\" rx=\"10\" ry=\"10\" style=\"stroke: #383838; stroke-width: 1.5;\" width=\"42\" x=\"290\" y=\"154\"/><text fill=\"#000000\" font-family=\"sans-serif\" font-size=\"12\" font-style=\"italic\" lengthAdjust=\"spacingAndGlyphs\" textLength=\"40\" x=\"291\" y=\"170.1387\">«view»</text><text fill=\"#000000\" font-family=\"sans-serif\" font-size=\"12\" lengthAdjust=\"spacingAndGlyphs\" textLength=\"22\" x=\"300\" y=\"184.1074\">v: V</text><line style=\"stroke: #383838; stroke-width: 1.5;\" x1=\"291\" x2=\"331\" y1=\"191.9375\" y2=\"191.9375\"/></a><!--MD5=[fd4143e9d270a159db93a4ea2a975926]\n",
       "class E9--><a href=\"psysml:fc5eb428-4a03-41d1-992b-aff2a13d3fb9\" target=\"_top\" title=\"psysml:fc5eb428-4a03-41d1-992b-aff2a13d3fb9\" xlink:actuate=\"onRequest\" xlink:href=\"psysml:fc5eb428-4a03-41d1-992b-aff2a13d3fb9\" xlink:show=\"new\" xlink:title=\"psysml:fc5eb428-4a03-41d1-992b-aff2a13d3fb9\" xlink:type=\"simple\"><rect fill=\"#FFFFFF\" height=\"45.9375\" id=\"E9\" rx=\"10\" ry=\"10\" style=\"stroke: #383838; stroke-width: 1.5;\" width=\"77\" x=\"301.5\" y=\"260\"/><text fill=\"#000000\" font-family=\"sans-serif\" font-size=\"12\" font-style=\"italic\" lengthAdjust=\"spacingAndGlyphs\" textLength=\"75\" x=\"302.5\" y=\"276.1387\">«rendering»</text><text fill=\"#000000\" font-family=\"sans-serif\" font-size=\"12\" lengthAdjust=\"spacingAndGlyphs\" textLength=\"13\" x=\"333.5\" y=\"290.1074\">r1</text><line style=\"stroke: #383838; stroke-width: 1.5;\" x1=\"302.5\" x2=\"377.5\" y1=\"297.9375\" y2=\"297.9375\"/></a><a href=\"psysml:6d9f5c34-02db-4c22-b8ae-ed1a072d5ac7\" target=\"_top\" title=\"psysml:6d9f5c34-02db-4c22-b8ae-ed1a072d5ac7\" xlink:actuate=\"onRequest\" xlink:href=\"psysml:6d9f5c34-02db-4c22-b8ae-ed1a072d5ac7\" xlink:show=\"new\" xlink:title=\"psysml:6d9f5c34-02db-4c22-b8ae-ed1a072d5ac7\" xlink:type=\"simple\"><polygon fill=\"#FFFFFF\" points=\"122,41,138,41,145,63.2969,152,63.2969,152,93.5938,122,93.5938,122,41\" style=\"stroke: #000000; stroke-width: 1.5;\"/><line style=\"stroke: #000000; stroke-width: 1.5;\" x1=\"122\" x2=\"145\" y1=\"63.2969\" y2=\"63.2969\"/><text fill=\"#000000\" font-family=\"sans-serif\" font-size=\"14\" font-weight=\"bold\" lengthAdjust=\"spacingAndGlyphs\" textLength=\"10\" x=\"126\" y=\"55.9951\">P</text></a><!--MD5=[85d356282659285ab4b2cfe2f634dd2b]\n",
       "reverse link E5 to E6--><a href=\"psysml:b39da276-6b98-4aad-85bf-f9ecfc55683d\" target=\"_top\" title=\"psysml:b39da276-6b98-4aad-85bf-f9ecfc55683d\" xlink:actuate=\"onRequest\" xlink:href=\"psysml:b39da276-6b98-4aad-85bf-f9ecfc55683d\" xlink:show=\"new\" xlink:title=\"psysml:b39da276-6b98-4aad-85bf-f9ecfc55683d\" xlink:type=\"simple\"><path d=\"M218.61,96.57 C190.28,114.48 154.1,137.36 127.85,153.96 \" fill=\"none\" id=\"E5&lt;-E6\" style=\"stroke: #383838; stroke-width: 1.0;\"/><polygon fill=\"#383838\" points=\"229.82,89.48,222.6111,89.2999,219.6723,95.8849,226.8811,96.0651,229.82,89.48\" style=\"stroke: #383838; stroke-width: 1.0;\"/></a><!--MD5=[a717450b82c80b9240a525fa862496af]\n",
       "link E6 to E3--><a href=\"psysml:7b3d769f-4c56-4413-aa9f-0104e9507d6b\" target=\"_top\" title=\"psysml:7b3d769f-4c56-4413-aa9f-0104e9507d6b\" xlink:actuate=\"onRequest\" xlink:href=\"psysml:7b3d769f-4c56-4413-aa9f-0104e9507d6b\" xlink:show=\"new\" xlink:title=\"psysml:7b3d769f-4c56-4413-aa9f-0104e9507d6b\" xlink:type=\"simple\"><path d=\"M90.46,200.06 C89.12,211.64 87.44,226.23 85.86,239.87 \" fill=\"none\" id=\"E6-&gt;E3\" style=\"stroke: #383838; stroke-width: 1.0;\"/><polygon fill=\"#FFFFFF\" points=\"83.54,259.98,78.757,240.3046,92.6653,241.9044,83.54,259.98\" style=\"stroke: #383838; stroke-width: 1.0;\"/><ellipse cx=\"81.3953\" cy=\"234.8704\" fill=\"#383838\" rx=\"2\" ry=\"2\" style=\"stroke: #383838; stroke-width: 1.0;\"/><ellipse cx=\"91.3298\" cy=\"236.0132\" fill=\"#383838\" rx=\"2\" ry=\"2\" style=\"stroke: #383838; stroke-width: 1.0;\"/></a><!--MD5=[6bdd27f9905911a7e892a3dc65cf6b7c]\n",
       "link E7 to E4--><a href=\"psysml:f768404d-501b-4614-8ab9-e2515f32fafd\" target=\"_top\" title=\"psysml:f768404d-501b-4614-8ab9-e2515f32fafd\" xlink:actuate=\"onRequest\" xlink:href=\"psysml:f768404d-501b-4614-8ab9-e2515f32fafd\" xlink:show=\"new\" xlink:title=\"psysml:f768404d-501b-4614-8ab9-e2515f32fafd\" xlink:type=\"simple\"><path d=\"M216,200.06 C216,211.64 216,226.23 216,239.87 \" fill=\"none\" id=\"E7-&gt;E4\" style=\"stroke: #383838; stroke-width: 1.0;\"/><polygon fill=\"#FFFFFF\" points=\"216,259.98,209,240.98,223,240.98,216,259.98\" style=\"stroke: #383838; stroke-width: 1.0;\"/><ellipse cx=\"211\" cy=\"235.28\" fill=\"#383838\" rx=\"2\" ry=\"2\" style=\"stroke: #383838; stroke-width: 1.0;\"/><ellipse cx=\"221\" cy=\"235.28\" fill=\"#383838\" rx=\"2\" ry=\"2\" style=\"stroke: #383838; stroke-width: 1.0;\"/></a><!--MD5=[452b418e7f8a40397a49b8c0a78acc5b]\n",
       "reverse link E5 to E7--><a href=\"psysml:5db0ac38-23f9-426f-a666-7fa33ad35708\" target=\"_top\" title=\"psysml:5db0ac38-23f9-426f-a666-7fa33ad35708\" xlink:actuate=\"onRequest\" xlink:href=\"psysml:5db0ac38-23f9-426f-a666-7fa33ad35708\" xlink:show=\"new\" xlink:title=\"psysml:5db0ac38-23f9-426f-a666-7fa33ad35708\" xlink:type=\"simple\"><path d=\"M248.1,102.57 C240.81,119.26 232.23,138.89 225.77,153.65 \" fill=\"none\" id=\"E5&lt;-E7\" style=\"stroke: #383838; stroke-width: 1.0;\"/><polygon fill=\"#383838\" points=\"253.38,90.51,247.31,94.4029,248.5688,101.5033,254.6388,97.6104,253.38,90.51\" style=\"stroke: #383838; stroke-width: 1.0;\"/><text fill=\"#000000\" font-family=\"sans-serif\" font-size=\"13\" lengthAdjust=\"spacingAndGlyphs\" textLength=\"24\" x=\"201.1986\" y=\"142.8366\">0..1</text></a><!--MD5=[1ccb2481ffa92f8d51a74ee30c51832a]\n",
       "link E8 to E5--><a href=\"psysml:2ecacd66-b174-4fa5-a1f0-5f98a8e6e629\" target=\"_top\" title=\"psysml:2ecacd66-b174-4fa5-a1f0-5f98a8e6e629\" xlink:actuate=\"onRequest\" xlink:href=\"psysml:2ecacd66-b174-4fa5-a1f0-5f98a8e6e629\" xlink:show=\"new\" xlink:title=\"psysml:2ecacd66-b174-4fa5-a1f0-5f98a8e6e629\" xlink:type=\"simple\"><path d=\"M312.22,153.65 C308.53,140.48 301.55,123.44 293.74,108.07 \" fill=\"none\" id=\"E8-&gt;E5\" style=\"stroke: #383838; stroke-width: 1.0;\"/><polygon fill=\"#FFFFFF\" points=\"283.97,90.51,299.3209,103.7142,287.0851,110.5174,283.97,90.51\" style=\"stroke: #383838; stroke-width: 1.0;\"/><ellipse cx=\"300.3428\" cy=\"109.6678\" fill=\"#383838\" rx=\"2\" ry=\"2\" style=\"stroke: #383838; stroke-width: 1.0;\"/><ellipse cx=\"291.6029\" cy=\"114.5273\" fill=\"#383838\" rx=\"2\" ry=\"2\" style=\"stroke: #383838; stroke-width: 1.0;\"/></a><!--MD5=[827760032d119d06bbc92f75530fd7ae]\n",
       "reverse link E5 to E8--><a href=\"psysml:96dfc0dc-2946-48da-b50d-9c346f08b52f\" target=\"_top\" title=\"psysml:96dfc0dc-2946-48da-b50d-9c346f08b52f\" xlink:actuate=\"onRequest\" xlink:href=\"psysml:96dfc0dc-2946-48da-b50d-9c346f08b52f\" xlink:show=\"new\" xlink:title=\"psysml:96dfc0dc-2946-48da-b50d-9c346f08b52f\" xlink:type=\"simple\"><path d=\"M266.44,103.07 C272.49,119.65 281.62,139.03 290.44,153.65 \" fill=\"none\" id=\"E5&lt;-E8\" style=\"stroke: #383838; stroke-width: 1.0;\"/><polygon fill=\"#383838\" points=\"262.31,90.51,260.3836,97.459,266.0572,101.9099,267.9836,94.9609,262.31,90.51\" style=\"stroke: #383838; stroke-width: 1.0;\"/><text fill=\"#000000\" font-family=\"sans-serif\" font-size=\"13\" lengthAdjust=\"spacingAndGlyphs\" textLength=\"7\" x=\"277.2746\" y=\"142.8366\">*</text></a><!--MD5=[22f5b4bae7e060dce8a1c8021efdb95b]\n",
       "reverse link E8 to E9--><a href=\"psysml:fc5eb428-4a03-41d1-992b-aff2a13d3fb9\" target=\"_top\" title=\"psysml:fc5eb428-4a03-41d1-992b-aff2a13d3fb9\" xlink:actuate=\"onRequest\" xlink:href=\"psysml:fc5eb428-4a03-41d1-992b-aff2a13d3fb9\" xlink:show=\"new\" xlink:title=\"psysml:fc5eb428-4a03-41d1-992b-aff2a13d3fb9\" xlink:type=\"simple\"><path d=\"M320.75,212.96 C325.08,228.51 330.05,246.33 333.86,259.98 \" fill=\"none\" id=\"E8&lt;-E9\" style=\"stroke: #383838; stroke-width: 1.0;\"/><polygon fill=\"#383838\" points=\"317.15,200.06,314.9066,206.9133,320.3699,211.6199,322.6133,204.7667,317.15,200.06\" style=\"stroke: #383838; stroke-width: 1.0;\"/></a><!--MD5=[e0b69aa9f6d5e26a6fa5cca5418a4734]\n",
       "@startuml\r\n",
       "skinparam linetype polyline\r\n",
       "skinparam monochrome true\r\n",
       "skinparam classbackgroundcolor white\r\n",
       "skinparam shadowing false\r\n",
       "skinparam wrapWidth 300\r\n",
       "hide circle\r\n",
       "\r\n",
       "package \"ViewTest\" as E1  [[psysml:fb02ed11-6398-4cea-b135-53d0cca9c478 ]]  {\r\n",
       "package \"P\" as E2  [[psysml:6d9f5c34-02db-4c22-b8ae-ed1a072d5ac7 ]]  {\r\n",
       "}\r\n",
       "comp def \"VP\" as E3  <<(T,blue)viewpoint def>> [[psysml:436e526f-0cc5-474d-8f19-4580d940df20 ]] {\r\n",
       "}\r\n",
       "comp def \"R\" as E4  <<(T,blue)rendering def>> [[psysml:053dc08e-a8e7-4770-acc6-30068883d6d6 ]] {\r\n",
       "}\r\n",
       "comp def \"V\" as E5  <<(T,blue)view def>> [[psysml:2fa1d21f-0378-4832-ab0e-3c490c491fc9 ]] {\r\n",
       "}\r\n",
       "comp usage \"vp: VP\" as E6  <<(T,blue)viewpoint>> [[psysml:b39da276-6b98-4aad-85bf-f9ecfc55683d ]] {\r\n",
       "}\r\n",
       "comp usage \"r: R\" as E7  <<(T,blue)rendering>> [[psysml:5db0ac38-23f9-426f-a666-7fa33ad35708 ]] {\r\n",
       "}\r\n",
       "comp usage \"v: V\" as E8  <<(T,blue)view>> [[psysml:96dfc0dc-2946-48da-b50d-9c346f08b52f ]] {\r\n",
       "}\r\n",
       "comp usage \"r1\" as E9  <<(T,blue)rendering>> [[psysml:fc5eb428-4a03-41d1-992b-aff2a13d3fb9 ]] {\r\n",
       "}\r\n",
       "E5 *- - E6 [[psysml:b39da276-6b98-4aad-85bf-f9ecfc55683d ]] \r\n",
       "E6 - -:|> E3 [[psysml:7b3d769f-4c56-4413-aa9f-0104e9507d6b ]] \r\n",
       "E7 - -:|> E4 [[psysml:f768404d-501b-4614-8ab9-e2515f32fafd ]] \r\n",
       "E5 *- - \"0..1\"E7 [[psysml:5db0ac38-23f9-426f-a666-7fa33ad35708 ]] \r\n",
       "E8 - -:|> E5 [[psysml:2ecacd66-b174-4fa5-a1f0-5f98a8e6e629 ]] \r\n",
       "E5 *- - \"*\"E8 [[psysml:96dfc0dc-2946-48da-b50d-9c346f08b52f ]] \r\n",
       "E8 *- - E9 [[psysml:fc5eb428-4a03-41d1-992b-aff2a13d3fb9 ]] \r\n",
       "}\r\n",
       "@enduml\r\n",
       "\n",
       "PlantUML version 1.2020.13(Sat Jun 13 12:26:38 UTC 2020)\n",
       "(EPL source distribution)\n",
       "Java Runtime: OpenJDK Runtime Environment\n",
       "JVM: OpenJDK 64-Bit Server VM\n",
       "Default Encoding: UTF-8\n",
       "Language: en\n",
       "Country: null\n",
       "--></g></svg>"
      ]
     },
     "execution_count": 15,
     "metadata": {},
     "output_type": "execute_result"
    }
   ],
   "source": [
    "%viz --style=\"POLYLINE\" --view=\"MIXED\" \"ViewTest\""
   ]
  },
  {
   "cell_type": "code",
   "execution_count": 16,
   "id": "unlike-galaxy",
   "metadata": {
    "execution": {
     "iopub.execute_input": "2021-03-24T16:32:11.931955Z",
     "iopub.status.busy": "2021-03-24T16:32:11.931613Z",
     "iopub.status.idle": "2021-03-24T16:32:11.981451Z",
     "shell.execute_reply": "2021-03-24T16:32:11.979717Z"
    }
   },
   "outputs": [
    {
     "data": {
      "image/svg+xml": [
       "<?xml version=\"1.0\" encoding=\"UTF-8\" standalone=\"no\"?><svg xmlns=\"http://www.w3.org/2000/svg\" xmlns:xlink=\"http://www.w3.org/1999/xlink\" contentScriptType=\"application/ecmascript\" contentStyleType=\"text/css\" height=\"277px\" preserveAspectRatio=\"none\" style=\"width:434px;height:277px;\" version=\"1.1\" viewBox=\"0 0 434 277\" width=\"434px\" zoomAndPan=\"magnify\"><defs/><g><!--MD5=[fbc87193dbaf4d95561dea2c320d4a47]\n",
       "cluster E1--><a href=\"psysml:fb02ed11-6398-4cea-b135-53d0cca9c478\" target=\"_top\" title=\"psysml:fb02ed11-6398-4cea-b135-53d0cca9c478\" xlink:actuate=\"onRequest\" xlink:href=\"psysml:fb02ed11-6398-4cea-b135-53d0cca9c478\" xlink:show=\"new\" xlink:title=\"psysml:fb02ed11-6398-4cea-b135-53d0cca9c478\" xlink:type=\"simple\"><polygon fill=\"#FFFFFF\" points=\"16,6,96,6,103,28.2969,412,28.2969,412,265,16,265,16,6\" style=\"stroke: #000000; stroke-width: 1.5;\"/><line style=\"stroke: #000000; stroke-width: 1.5;\" x1=\"16\" x2=\"103\" y1=\"28.2969\" y2=\"28.2969\"/><text fill=\"#000000\" font-family=\"sans-serif\" font-size=\"14\" font-weight=\"bold\" lengthAdjust=\"spacingAndGlyphs\" textLength=\"74\" x=\"20\" y=\"20.9951\">ViewTest</text></a><!--MD5=[09b614a08d8cba4a07c9adeb5e0fee81]\n",
       "class E3--><a href=\"psysml:436e526f-0cc5-474d-8f19-4580d940df20\" target=\"_top\" title=\"psysml:436e526f-0cc5-474d-8f19-4580d940df20\" xlink:actuate=\"onRequest\" xlink:href=\"psysml:436e526f-0cc5-474d-8f19-4580d940df20\" xlink:show=\"new\" xlink:title=\"psysml:436e526f-0cc5-474d-8f19-4580d940df20\" xlink:type=\"simple\"><rect fill=\"#FFFFFF\" height=\"45.9375\" id=\"E3\" style=\"stroke: #383838; stroke-width: 1.5;\" width=\"98\" x=\"296.5\" y=\"203\"/><text fill=\"#000000\" font-family=\"sans-serif\" font-size=\"12\" font-style=\"italic\" lengthAdjust=\"spacingAndGlyphs\" textLength=\"96\" x=\"297.5\" y=\"219.1387\">«viewpoint def»</text><text fill=\"#000000\" font-family=\"sans-serif\" font-size=\"12\" lengthAdjust=\"spacingAndGlyphs\" textLength=\"16\" x=\"337.5\" y=\"233.1074\">VP</text><line style=\"stroke: #383838; stroke-width: 1.5;\" x1=\"297.5\" x2=\"393.5\" y1=\"240.9375\" y2=\"240.9375\"/></a><!--MD5=[ebbe1d658d1005bcc118a6aa81145e00]\n",
       "class E4--><a href=\"psysml:053dc08e-a8e7-4770-acc6-30068883d6d6\" target=\"_top\" title=\"psysml:053dc08e-a8e7-4770-acc6-30068883d6d6\" xlink:actuate=\"onRequest\" xlink:href=\"psysml:053dc08e-a8e7-4770-acc6-30068883d6d6\" xlink:show=\"new\" xlink:title=\"psysml:053dc08e-a8e7-4770-acc6-30068883d6d6\" xlink:type=\"simple\"><rect fill=\"#FFFFFF\" height=\"45.9375\" id=\"E4\" style=\"stroke: #383838; stroke-width: 1.5;\" width=\"101\" x=\"295\" y=\"122\"/><text fill=\"#000000\" font-family=\"sans-serif\" font-size=\"12\" font-style=\"italic\" lengthAdjust=\"spacingAndGlyphs\" textLength=\"99\" x=\"296\" y=\"138.1387\">«rendering def»</text><text fill=\"#000000\" font-family=\"sans-serif\" font-size=\"12\" lengthAdjust=\"spacingAndGlyphs\" textLength=\"8\" x=\"341.5\" y=\"152.1074\">R</text><line style=\"stroke: #383838; stroke-width: 1.5;\" x1=\"296\" x2=\"395\" y1=\"159.9375\" y2=\"159.9375\"/></a><!--MD5=[270fce915f116d4de14055a7c1d9a0f3]\n",
       "class E5--><a href=\"psysml:2fa1d21f-0378-4832-ab0e-3c490c491fc9\" target=\"_top\" title=\"psysml:2fa1d21f-0378-4832-ab0e-3c490c491fc9\" xlink:actuate=\"onRequest\" xlink:href=\"psysml:2fa1d21f-0378-4832-ab0e-3c490c491fc9\" xlink:show=\"new\" xlink:title=\"psysml:2fa1d21f-0378-4832-ab0e-3c490c491fc9\" xlink:type=\"simple\"><rect fill=\"#FFFFFF\" height=\"45.9375\" id=\"E5\" style=\"stroke: #383838; stroke-width: 1.5;\" width=\"66\" x=\"32\" y=\"60\"/><text fill=\"#000000\" font-family=\"sans-serif\" font-size=\"12\" font-style=\"italic\" lengthAdjust=\"spacingAndGlyphs\" textLength=\"64\" x=\"33\" y=\"76.1387\">«view def»</text><text fill=\"#000000\" font-family=\"sans-serif\" font-size=\"12\" lengthAdjust=\"spacingAndGlyphs\" textLength=\"8\" x=\"61\" y=\"90.1074\">V</text><line style=\"stroke: #383838; stroke-width: 1.5;\" x1=\"33\" x2=\"97\" y1=\"97.9375\" y2=\"97.9375\"/></a><!--MD5=[60a26617385b1d2d0262a64233df1f8d]\n",
       "class E6--><a href=\"psysml:b39da276-6b98-4aad-85bf-f9ecfc55683d\" target=\"_top\" title=\"psysml:b39da276-6b98-4aad-85bf-f9ecfc55683d\" xlink:actuate=\"onRequest\" xlink:href=\"psysml:b39da276-6b98-4aad-85bf-f9ecfc55683d\" xlink:show=\"new\" xlink:title=\"psysml:b39da276-6b98-4aad-85bf-f9ecfc55683d\" xlink:type=\"simple\"><rect fill=\"#FFFFFF\" height=\"45.9375\" id=\"E6\" rx=\"10\" ry=\"10\" style=\"stroke: #383838; stroke-width: 1.5;\" width=\"74\" x=\"159.5\" y=\"203\"/><text fill=\"#000000\" font-family=\"sans-serif\" font-size=\"12\" font-style=\"italic\" lengthAdjust=\"spacingAndGlyphs\" textLength=\"72\" x=\"160.5\" y=\"219.1387\">«viewpoint»</text><text fill=\"#000000\" font-family=\"sans-serif\" font-size=\"12\" lengthAdjust=\"spacingAndGlyphs\" textLength=\"38\" x=\"177.5\" y=\"233.1074\">vp: VP</text><line style=\"stroke: #383838; stroke-width: 1.5;\" x1=\"160.5\" x2=\"232.5\" y1=\"240.9375\" y2=\"240.9375\"/></a><!--MD5=[2156ba9850f5573cc1fc38a6a4b2f02b]\n",
       "class E7--><a href=\"psysml:5db0ac38-23f9-426f-a666-7fa33ad35708\" target=\"_top\" title=\"psysml:5db0ac38-23f9-426f-a666-7fa33ad35708\" xlink:actuate=\"onRequest\" xlink:href=\"psysml:5db0ac38-23f9-426f-a666-7fa33ad35708\" xlink:show=\"new\" xlink:title=\"psysml:5db0ac38-23f9-426f-a666-7fa33ad35708\" xlink:type=\"simple\"><rect fill=\"#FFFFFF\" height=\"45.9375\" id=\"E7\" rx=\"10\" ry=\"10\" style=\"stroke: #383838; stroke-width: 1.5;\" width=\"77\" x=\"158\" y=\"122\"/><text fill=\"#000000\" font-family=\"sans-serif\" font-size=\"12\" font-style=\"italic\" lengthAdjust=\"spacingAndGlyphs\" textLength=\"75\" x=\"159\" y=\"138.1387\">«rendering»</text><text fill=\"#000000\" font-family=\"sans-serif\" font-size=\"12\" lengthAdjust=\"spacingAndGlyphs\" textLength=\"21\" x=\"186\" y=\"152.1074\">r: R</text><line style=\"stroke: #383838; stroke-width: 1.5;\" x1=\"159\" x2=\"234\" y1=\"159.9375\" y2=\"159.9375\"/></a><!--MD5=[b9389687b975829384b498ac4b7476b2]\n",
       "class E8--><a href=\"psysml:96dfc0dc-2946-48da-b50d-9c346f08b52f\" target=\"_top\" title=\"psysml:96dfc0dc-2946-48da-b50d-9c346f08b52f\" xlink:actuate=\"onRequest\" xlink:href=\"psysml:96dfc0dc-2946-48da-b50d-9c346f08b52f\" xlink:show=\"new\" xlink:title=\"psysml:96dfc0dc-2946-48da-b50d-9c346f08b52f\" xlink:type=\"simple\"><rect fill=\"#FFFFFF\" height=\"45.9375\" id=\"E8\" rx=\"10\" ry=\"10\" style=\"stroke: #383838; stroke-width: 1.5;\" width=\"42\" x=\"175.5\" y=\"41\"/><text fill=\"#000000\" font-family=\"sans-serif\" font-size=\"12\" font-style=\"italic\" lengthAdjust=\"spacingAndGlyphs\" textLength=\"40\" x=\"176.5\" y=\"57.1387\">«view»</text><text fill=\"#000000\" font-family=\"sans-serif\" font-size=\"12\" lengthAdjust=\"spacingAndGlyphs\" textLength=\"22\" x=\"185.5\" y=\"71.1074\">v: V</text><line style=\"stroke: #383838; stroke-width: 1.5;\" x1=\"176.5\" x2=\"216.5\" y1=\"78.9375\" y2=\"78.9375\"/></a><!--MD5=[fd4143e9d270a159db93a4ea2a975926]\n",
       "class E9--><a href=\"psysml:fc5eb428-4a03-41d1-992b-aff2a13d3fb9\" target=\"_top\" title=\"psysml:fc5eb428-4a03-41d1-992b-aff2a13d3fb9\" xlink:actuate=\"onRequest\" xlink:href=\"psysml:fc5eb428-4a03-41d1-992b-aff2a13d3fb9\" xlink:show=\"new\" xlink:title=\"psysml:fc5eb428-4a03-41d1-992b-aff2a13d3fb9\" xlink:type=\"simple\"><rect fill=\"#FFFFFF\" height=\"45.9375\" id=\"E9\" rx=\"10\" ry=\"10\" style=\"stroke: #383838; stroke-width: 1.5;\" width=\"77\" x=\"307\" y=\"41\"/><text fill=\"#000000\" font-family=\"sans-serif\" font-size=\"12\" font-style=\"italic\" lengthAdjust=\"spacingAndGlyphs\" textLength=\"75\" x=\"308\" y=\"57.1387\">«rendering»</text><text fill=\"#000000\" font-family=\"sans-serif\" font-size=\"12\" lengthAdjust=\"spacingAndGlyphs\" textLength=\"13\" x=\"339\" y=\"71.1074\">r1</text><line style=\"stroke: #383838; stroke-width: 1.5;\" x1=\"308\" x2=\"383\" y1=\"78.9375\" y2=\"78.9375\"/></a><a href=\"psysml:6d9f5c34-02db-4c22-b8ae-ed1a072d5ac7\" target=\"_top\" title=\"psysml:6d9f5c34-02db-4c22-b8ae-ed1a072d5ac7\" xlink:actuate=\"onRequest\" xlink:href=\"psysml:6d9f5c34-02db-4c22-b8ae-ed1a072d5ac7\" xlink:show=\"new\" xlink:title=\"psysml:6d9f5c34-02db-4c22-b8ae-ed1a072d5ac7\" xlink:type=\"simple\"><polygon fill=\"#FFFFFF\" points=\"50,159.5,66,159.5,73,181.7969,80,181.7969,80,212.0938,50,212.0938,50,159.5\" style=\"stroke: #000000; stroke-width: 1.5;\"/><line style=\"stroke: #000000; stroke-width: 1.5;\" x1=\"50\" x2=\"73\" y1=\"181.7969\" y2=\"181.7969\"/><text fill=\"#000000\" font-family=\"sans-serif\" font-size=\"14\" font-weight=\"bold\" lengthAdjust=\"spacingAndGlyphs\" textLength=\"10\" x=\"54\" y=\"174.4951\">P</text></a><!--MD5=[85d356282659285ab4b2cfe2f634dd2b]\n",
       "reverse link E5 to E6--><a href=\"psysml:b39da276-6b98-4aad-85bf-f9ecfc55683d\" target=\"_top\" title=\"psysml:b39da276-6b98-4aad-85bf-f9ecfc55683d\" xlink:actuate=\"onRequest\" xlink:href=\"psysml:b39da276-6b98-4aad-85bf-f9ecfc55683d\" xlink:show=\"new\" xlink:title=\"psysml:b39da276-6b98-4aad-85bf-f9ecfc55683d\" xlink:type=\"simple\"><path d=\"M95.16,116.05 C113.15,136.34 136.77,162.8 158,186 C163.01,191.48 168.45,197.33 173.59,202.82 \" fill=\"none\" id=\"E5&lt;-E6\" style=\"stroke: #383838; stroke-width: 1.0;\"/><polygon fill=\"#383838\" points=\"86.31,106.05,87.2929,113.1938,94.2652,115.0342,93.2823,107.8904,86.31,106.05\" style=\"stroke: #383838; stroke-width: 1.0;\"/></a><!--MD5=[a717450b82c80b9240a525fa862496af]\n",
       "link E6 to E3--><a href=\"psysml:7b3d769f-4c56-4413-aa9f-0104e9507d6b\" target=\"_top\" title=\"psysml:7b3d769f-4c56-4413-aa9f-0104e9507d6b\" xlink:actuate=\"onRequest\" xlink:href=\"psysml:7b3d769f-4c56-4413-aa9f-0104e9507d6b\" xlink:show=\"new\" xlink:title=\"psysml:7b3d769f-4c56-4413-aa9f-0104e9507d6b\" xlink:type=\"simple\"><path d=\"M233.84,226 C246.67,226 261.54,226 276.15,226 \" fill=\"none\" id=\"E6-&gt;E3\" style=\"stroke: #383838; stroke-width: 1.0;\"/><polygon fill=\"#FFFFFF\" points=\"296.38,226,277.38,233,277.38,219,296.38,226\" style=\"stroke: #383838; stroke-width: 1.0;\"/><ellipse cx=\"271.68\" cy=\"231\" fill=\"#383838\" rx=\"2\" ry=\"2\" style=\"stroke: #383838; stroke-width: 1.0;\"/><ellipse cx=\"271.68\" cy=\"221\" fill=\"#383838\" rx=\"2\" ry=\"2\" style=\"stroke: #383838; stroke-width: 1.0;\"/></a><!--MD5=[6bdd27f9905911a7e892a3dc65cf6b7c]\n",
       "link E7 to E4--><a href=\"psysml:f768404d-501b-4614-8ab9-e2515f32fafd\" target=\"_top\" title=\"psysml:f768404d-501b-4614-8ab9-e2515f32fafd\" xlink:actuate=\"onRequest\" xlink:href=\"psysml:f768404d-501b-4614-8ab9-e2515f32fafd\" xlink:show=\"new\" xlink:title=\"psysml:f768404d-501b-4614-8ab9-e2515f32fafd\" xlink:type=\"simple\"><path d=\"M235.36,145 C247.39,145 261.1,145 274.65,145 \" fill=\"none\" id=\"E7-&gt;E4\" style=\"stroke: #383838; stroke-width: 1.0;\"/><polygon fill=\"#FFFFFF\" points=\"294.85,145,275.85,152,275.85,138,294.85,145\" style=\"stroke: #383838; stroke-width: 1.0;\"/><ellipse cx=\"270.15\" cy=\"150\" fill=\"#383838\" rx=\"2\" ry=\"2\" style=\"stroke: #383838; stroke-width: 1.0;\"/><ellipse cx=\"270.15\" cy=\"140\" fill=\"#383838\" rx=\"2\" ry=\"2\" style=\"stroke: #383838; stroke-width: 1.0;\"/></a><!--MD5=[452b418e7f8a40397a49b8c0a78acc5b]\n",
       "reverse link E5 to E7--><a href=\"psysml:5db0ac38-23f9-426f-a666-7fa33ad35708\" target=\"_top\" title=\"psysml:5db0ac38-23f9-426f-a666-7fa33ad35708\" xlink:actuate=\"onRequest\" xlink:href=\"psysml:5db0ac38-23f9-426f-a666-7fa33ad35708\" xlink:show=\"new\" xlink:title=\"psysml:5db0ac38-23f9-426f-a666-7fa33ad35708\" xlink:type=\"simple\"><path d=\"M110.02,104.08 C125.57,111.52 142.91,119.82 157.88,126.99 \" fill=\"none\" id=\"E5&lt;-E7\" style=\"stroke: #383838; stroke-width: 1.0;\"/><polygon fill=\"#383838\" points=\"98.01,98.33,101.6919,104.5303,108.8314,103.5163,105.1495,97.316,98.01,98.33\" style=\"stroke: #383838; stroke-width: 1.0;\"/><text fill=\"#000000\" font-family=\"sans-serif\" font-size=\"13\" lengthAdjust=\"spacingAndGlyphs\" textLength=\"24\" x=\"126.1288\" y=\"137.4625\">0..1</text></a><!--MD5=[1ccb2481ffa92f8d51a74ee30c51832a]\n",
       "link E8 to E5--><a href=\"psysml:2ecacd66-b174-4fa5-a1f0-5f98a8e6e629\" target=\"_top\" title=\"psysml:2ecacd66-b174-4fa5-a1f0-5f98a8e6e629\" xlink:actuate=\"onRequest\" xlink:href=\"psysml:2ecacd66-b174-4fa5-a1f0-5f98a8e6e629\" xlink:show=\"new\" xlink:title=\"psysml:2ecacd66-b174-4fa5-a1f0-5f98a8e6e629\" xlink:type=\"simple\"><path d=\"M175.15,56.84 C159.72,56.26 137.8,58.44 117.65,62.17 \" fill=\"none\" id=\"E8-&gt;E5\" style=\"stroke: #383838; stroke-width: 1.0;\"/><polygon fill=\"#FFFFFF\" points=\"98.01,66.47,115.0695,55.5625,118.0684,69.2376,98.01,66.47\" style=\"stroke: #383838; stroke-width: 1.0;\"/><ellipse cx=\"121.0656\" cy=\"56.2951\" fill=\"#383838\" rx=\"2\" ry=\"2\" style=\"stroke: #383838; stroke-width: 1.0;\"/><ellipse cx=\"123.2077\" cy=\"66.063\" fill=\"#383838\" rx=\"2\" ry=\"2\" style=\"stroke: #383838; stroke-width: 1.0;\"/></a><!--MD5=[827760032d119d06bbc92f75530fd7ae]\n",
       "reverse link E5 to E8--><a href=\"psysml:96dfc0dc-2946-48da-b50d-9c346f08b52f\" target=\"_top\" title=\"psysml:96dfc0dc-2946-48da-b50d-9c346f08b52f\" xlink:actuate=\"onRequest\" xlink:href=\"psysml:96dfc0dc-2946-48da-b50d-9c346f08b52f\" xlink:show=\"new\" xlink:title=\"psysml:96dfc0dc-2946-48da-b50d-9c346f08b52f\" xlink:type=\"simple\"><path d=\"M111.07,88.6 C132.9,86.63 158.02,82.06 175.15,76.57 \" fill=\"none\" id=\"E5&lt;-E8\" style=\"stroke: #383838; stroke-width: 1.0;\"/><polygon fill=\"#383838\" points=\"98.01,89.48,104.2646,93.0688,109.983,88.6756,103.7284,85.0868,98.01,89.48\" style=\"stroke: #383838; stroke-width: 1.0;\"/><text fill=\"#000000\" font-family=\"sans-serif\" font-size=\"13\" lengthAdjust=\"spacingAndGlyphs\" textLength=\"7\" x=\"160.5397\" y=\"94.8132\">*</text></a><!--MD5=[22f5b4bae7e060dce8a1c8021efdb95b]\n",
       "reverse link E8 to E9--><a href=\"psysml:fc5eb428-4a03-41d1-992b-aff2a13d3fb9\" target=\"_top\" title=\"psysml:fc5eb428-4a03-41d1-992b-aff2a13d3fb9\" xlink:actuate=\"onRequest\" xlink:href=\"psysml:fc5eb428-4a03-41d1-992b-aff2a13d3fb9\" xlink:show=\"new\" xlink:title=\"psysml:fc5eb428-4a03-41d1-992b-aff2a13d3fb9\" xlink:type=\"simple\"><path d=\"M230.63,64 C253.25,64 283.25,64 306.78,64 \" fill=\"none\" id=\"E8&lt;-E9\" style=\"stroke: #383838; stroke-width: 1.0;\"/><polygon fill=\"#383838\" points=\"217.63,64,223.63,68,229.63,64,223.63,60,217.63,64\" style=\"stroke: #383838; stroke-width: 1.0;\"/></a><!--MD5=[2ea1d40ae59f242fb54e15121bbbffdb]\n",
       "@startuml\r\n",
       "left to right direction\r\n",
       "skinparam monochrome true\r\n",
       "skinparam classbackgroundcolor white\r\n",
       "skinparam shadowing false\r\n",
       "skinparam wrapWidth 300\r\n",
       "hide circle\r\n",
       "\r\n",
       "package \"ViewTest\" as E1  [[psysml:fb02ed11-6398-4cea-b135-53d0cca9c478 ]]  {\r\n",
       "package \"P\" as E2  [[psysml:6d9f5c34-02db-4c22-b8ae-ed1a072d5ac7 ]]  {\r\n",
       "}\r\n",
       "comp def \"VP\" as E3  <<(T,blue)viewpoint def>> [[psysml:436e526f-0cc5-474d-8f19-4580d940df20 ]] {\r\n",
       "}\r\n",
       "comp def \"R\" as E4  <<(T,blue)rendering def>> [[psysml:053dc08e-a8e7-4770-acc6-30068883d6d6 ]] {\r\n",
       "}\r\n",
       "comp def \"V\" as E5  <<(T,blue)view def>> [[psysml:2fa1d21f-0378-4832-ab0e-3c490c491fc9 ]] {\r\n",
       "}\r\n",
       "comp usage \"vp: VP\" as E6  <<(T,blue)viewpoint>> [[psysml:b39da276-6b98-4aad-85bf-f9ecfc55683d ]] {\r\n",
       "}\r\n",
       "comp usage \"r: R\" as E7  <<(T,blue)rendering>> [[psysml:5db0ac38-23f9-426f-a666-7fa33ad35708 ]] {\r\n",
       "}\r\n",
       "comp usage \"v: V\" as E8  <<(T,blue)view>> [[psysml:96dfc0dc-2946-48da-b50d-9c346f08b52f ]] {\r\n",
       "}\r\n",
       "comp usage \"r1\" as E9  <<(T,blue)rendering>> [[psysml:fc5eb428-4a03-41d1-992b-aff2a13d3fb9 ]] {\r\n",
       "}\r\n",
       "E5 *- - E6 [[psysml:b39da276-6b98-4aad-85bf-f9ecfc55683d ]] \r\n",
       "E6 - -:|> E3 [[psysml:7b3d769f-4c56-4413-aa9f-0104e9507d6b ]] \r\n",
       "E7 - -:|> E4 [[psysml:f768404d-501b-4614-8ab9-e2515f32fafd ]] \r\n",
       "E5 *- - \"0..1\"E7 [[psysml:5db0ac38-23f9-426f-a666-7fa33ad35708 ]] \r\n",
       "E8 - -:|> E5 [[psysml:2ecacd66-b174-4fa5-a1f0-5f98a8e6e629 ]] \r\n",
       "E5 *- - \"*\"E8 [[psysml:96dfc0dc-2946-48da-b50d-9c346f08b52f ]] \r\n",
       "E8 *- - E9 [[psysml:fc5eb428-4a03-41d1-992b-aff2a13d3fb9 ]] \r\n",
       "}\r\n",
       "@enduml\r\n",
       "\n",
       "PlantUML version 1.2020.13(Sat Jun 13 12:26:38 UTC 2020)\n",
       "(EPL source distribution)\n",
       "Java Runtime: OpenJDK Runtime Environment\n",
       "JVM: OpenJDK 64-Bit Server VM\n",
       "Default Encoding: UTF-8\n",
       "Language: en\n",
       "Country: null\n",
       "--></g></svg>"
      ]
     },
     "execution_count": 16,
     "metadata": {},
     "output_type": "execute_result"
    }
   ],
   "source": [
    "%viz --style=\"LR\" --view=\"Default\" \"ViewTest\""
   ]
  },
  {
   "cell_type": "code",
   "execution_count": 17,
   "id": "suited-pickup",
   "metadata": {
    "execution": {
     "iopub.execute_input": "2021-03-24T16:32:12.031112Z",
     "iopub.status.busy": "2021-03-24T16:32:12.030732Z",
     "iopub.status.idle": "2021-03-24T16:32:12.067744Z",
     "shell.execute_reply": "2021-03-24T16:32:12.068114Z"
    }
   },
   "outputs": [
    {
     "data": {
      "image/svg+xml": [
       "<?xml version=\"1.0\" encoding=\"UTF-8\" standalone=\"no\"?><svg xmlns=\"http://www.w3.org/2000/svg\" xmlns:xlink=\"http://www.w3.org/1999/xlink\" contentScriptType=\"application/ecmascript\" contentStyleType=\"text/css\" height=\"277px\" preserveAspectRatio=\"none\" style=\"width:434px;height:277px;\" version=\"1.1\" viewBox=\"0 0 434 277\" width=\"434px\" zoomAndPan=\"magnify\"><defs/><g><!--MD5=[fbc87193dbaf4d95561dea2c320d4a47]\n",
       "cluster E1--><a href=\"psysml:fb02ed11-6398-4cea-b135-53d0cca9c478\" target=\"_top\" title=\"psysml:fb02ed11-6398-4cea-b135-53d0cca9c478\" xlink:actuate=\"onRequest\" xlink:href=\"psysml:fb02ed11-6398-4cea-b135-53d0cca9c478\" xlink:show=\"new\" xlink:title=\"psysml:fb02ed11-6398-4cea-b135-53d0cca9c478\" xlink:type=\"simple\"><polygon fill=\"#FFFFFF\" points=\"16,6,96,6,103,28.2969,412,28.2969,412,265,16,265,16,6\" style=\"stroke: #000000; stroke-width: 1.5;\"/><line style=\"stroke: #000000; stroke-width: 1.5;\" x1=\"16\" x2=\"103\" y1=\"28.2969\" y2=\"28.2969\"/><text fill=\"#000000\" font-family=\"sans-serif\" font-size=\"14\" font-weight=\"bold\" lengthAdjust=\"spacingAndGlyphs\" textLength=\"74\" x=\"20\" y=\"20.9951\">ViewTest</text></a><!--MD5=[09b614a08d8cba4a07c9adeb5e0fee81]\n",
       "class E3--><a href=\"psysml:436e526f-0cc5-474d-8f19-4580d940df20\" target=\"_top\" title=\"psysml:436e526f-0cc5-474d-8f19-4580d940df20\" xlink:actuate=\"onRequest\" xlink:href=\"psysml:436e526f-0cc5-474d-8f19-4580d940df20\" xlink:show=\"new\" xlink:title=\"psysml:436e526f-0cc5-474d-8f19-4580d940df20\" xlink:type=\"simple\"><rect fill=\"#FFFFFF\" height=\"45.9375\" id=\"E3\" style=\"stroke: #383838; stroke-width: 1.5;\" width=\"98\" x=\"296.5\" y=\"203\"/><text fill=\"#000000\" font-family=\"sans-serif\" font-size=\"12\" font-style=\"italic\" lengthAdjust=\"spacingAndGlyphs\" textLength=\"96\" x=\"297.5\" y=\"219.1387\">«viewpoint def»</text><text fill=\"#000000\" font-family=\"sans-serif\" font-size=\"12\" lengthAdjust=\"spacingAndGlyphs\" textLength=\"16\" x=\"337.5\" y=\"233.1074\">VP</text><line style=\"stroke: #383838; stroke-width: 1.5;\" x1=\"297.5\" x2=\"393.5\" y1=\"240.9375\" y2=\"240.9375\"/></a><!--MD5=[ebbe1d658d1005bcc118a6aa81145e00]\n",
       "class E4--><a href=\"psysml:053dc08e-a8e7-4770-acc6-30068883d6d6\" target=\"_top\" title=\"psysml:053dc08e-a8e7-4770-acc6-30068883d6d6\" xlink:actuate=\"onRequest\" xlink:href=\"psysml:053dc08e-a8e7-4770-acc6-30068883d6d6\" xlink:show=\"new\" xlink:title=\"psysml:053dc08e-a8e7-4770-acc6-30068883d6d6\" xlink:type=\"simple\"><rect fill=\"#FFFFFF\" height=\"45.9375\" id=\"E4\" style=\"stroke: #383838; stroke-width: 1.5;\" width=\"101\" x=\"295\" y=\"122\"/><text fill=\"#000000\" font-family=\"sans-serif\" font-size=\"12\" font-style=\"italic\" lengthAdjust=\"spacingAndGlyphs\" textLength=\"99\" x=\"296\" y=\"138.1387\">«rendering def»</text><text fill=\"#000000\" font-family=\"sans-serif\" font-size=\"12\" lengthAdjust=\"spacingAndGlyphs\" textLength=\"8\" x=\"341.5\" y=\"152.1074\">R</text><line style=\"stroke: #383838; stroke-width: 1.5;\" x1=\"296\" x2=\"395\" y1=\"159.9375\" y2=\"159.9375\"/></a><!--MD5=[270fce915f116d4de14055a7c1d9a0f3]\n",
       "class E5--><a href=\"psysml:2fa1d21f-0378-4832-ab0e-3c490c491fc9\" target=\"_top\" title=\"psysml:2fa1d21f-0378-4832-ab0e-3c490c491fc9\" xlink:actuate=\"onRequest\" xlink:href=\"psysml:2fa1d21f-0378-4832-ab0e-3c490c491fc9\" xlink:show=\"new\" xlink:title=\"psysml:2fa1d21f-0378-4832-ab0e-3c490c491fc9\" xlink:type=\"simple\"><rect fill=\"#FFFFFF\" height=\"45.9375\" id=\"E5\" style=\"stroke: #383838; stroke-width: 1.5;\" width=\"66\" x=\"32\" y=\"60\"/><text fill=\"#000000\" font-family=\"sans-serif\" font-size=\"12\" font-style=\"italic\" lengthAdjust=\"spacingAndGlyphs\" textLength=\"64\" x=\"33\" y=\"76.1387\">«view def»</text><text fill=\"#000000\" font-family=\"sans-serif\" font-size=\"12\" lengthAdjust=\"spacingAndGlyphs\" textLength=\"8\" x=\"61\" y=\"90.1074\">V</text><line style=\"stroke: #383838; stroke-width: 1.5;\" x1=\"33\" x2=\"97\" y1=\"97.9375\" y2=\"97.9375\"/></a><!--MD5=[60a26617385b1d2d0262a64233df1f8d]\n",
       "class E6--><a href=\"psysml:b39da276-6b98-4aad-85bf-f9ecfc55683d\" target=\"_top\" title=\"psysml:b39da276-6b98-4aad-85bf-f9ecfc55683d\" xlink:actuate=\"onRequest\" xlink:href=\"psysml:b39da276-6b98-4aad-85bf-f9ecfc55683d\" xlink:show=\"new\" xlink:title=\"psysml:b39da276-6b98-4aad-85bf-f9ecfc55683d\" xlink:type=\"simple\"><rect fill=\"#FFFFFF\" height=\"45.9375\" id=\"E6\" rx=\"10\" ry=\"10\" style=\"stroke: #383838; stroke-width: 1.5;\" width=\"74\" x=\"159.5\" y=\"203\"/><text fill=\"#000000\" font-family=\"sans-serif\" font-size=\"12\" font-style=\"italic\" lengthAdjust=\"spacingAndGlyphs\" textLength=\"72\" x=\"160.5\" y=\"219.1387\">«viewpoint»</text><text fill=\"#000000\" font-family=\"sans-serif\" font-size=\"12\" lengthAdjust=\"spacingAndGlyphs\" textLength=\"38\" x=\"177.5\" y=\"233.1074\">vp: VP</text><line style=\"stroke: #383838; stroke-width: 1.5;\" x1=\"160.5\" x2=\"232.5\" y1=\"240.9375\" y2=\"240.9375\"/></a><!--MD5=[2156ba9850f5573cc1fc38a6a4b2f02b]\n",
       "class E7--><a href=\"psysml:5db0ac38-23f9-426f-a666-7fa33ad35708\" target=\"_top\" title=\"psysml:5db0ac38-23f9-426f-a666-7fa33ad35708\" xlink:actuate=\"onRequest\" xlink:href=\"psysml:5db0ac38-23f9-426f-a666-7fa33ad35708\" xlink:show=\"new\" xlink:title=\"psysml:5db0ac38-23f9-426f-a666-7fa33ad35708\" xlink:type=\"simple\"><rect fill=\"#FFFFFF\" height=\"45.9375\" id=\"E7\" rx=\"10\" ry=\"10\" style=\"stroke: #383838; stroke-width: 1.5;\" width=\"77\" x=\"158\" y=\"122\"/><text fill=\"#000000\" font-family=\"sans-serif\" font-size=\"12\" font-style=\"italic\" lengthAdjust=\"spacingAndGlyphs\" textLength=\"75\" x=\"159\" y=\"138.1387\">«rendering»</text><text fill=\"#000000\" font-family=\"sans-serif\" font-size=\"12\" lengthAdjust=\"spacingAndGlyphs\" textLength=\"21\" x=\"186\" y=\"152.1074\">r: R</text><line style=\"stroke: #383838; stroke-width: 1.5;\" x1=\"159\" x2=\"234\" y1=\"159.9375\" y2=\"159.9375\"/></a><!--MD5=[b9389687b975829384b498ac4b7476b2]\n",
       "class E8--><a href=\"psysml:96dfc0dc-2946-48da-b50d-9c346f08b52f\" target=\"_top\" title=\"psysml:96dfc0dc-2946-48da-b50d-9c346f08b52f\" xlink:actuate=\"onRequest\" xlink:href=\"psysml:96dfc0dc-2946-48da-b50d-9c346f08b52f\" xlink:show=\"new\" xlink:title=\"psysml:96dfc0dc-2946-48da-b50d-9c346f08b52f\" xlink:type=\"simple\"><rect fill=\"#FFFFFF\" height=\"45.9375\" id=\"E8\" rx=\"10\" ry=\"10\" style=\"stroke: #383838; stroke-width: 1.5;\" width=\"42\" x=\"175.5\" y=\"41\"/><text fill=\"#000000\" font-family=\"sans-serif\" font-size=\"12\" font-style=\"italic\" lengthAdjust=\"spacingAndGlyphs\" textLength=\"40\" x=\"176.5\" y=\"57.1387\">«view»</text><text fill=\"#000000\" font-family=\"sans-serif\" font-size=\"12\" lengthAdjust=\"spacingAndGlyphs\" textLength=\"22\" x=\"185.5\" y=\"71.1074\">v: V</text><line style=\"stroke: #383838; stroke-width: 1.5;\" x1=\"176.5\" x2=\"216.5\" y1=\"78.9375\" y2=\"78.9375\"/></a><!--MD5=[fd4143e9d270a159db93a4ea2a975926]\n",
       "class E9--><a href=\"psysml:fc5eb428-4a03-41d1-992b-aff2a13d3fb9\" target=\"_top\" title=\"psysml:fc5eb428-4a03-41d1-992b-aff2a13d3fb9\" xlink:actuate=\"onRequest\" xlink:href=\"psysml:fc5eb428-4a03-41d1-992b-aff2a13d3fb9\" xlink:show=\"new\" xlink:title=\"psysml:fc5eb428-4a03-41d1-992b-aff2a13d3fb9\" xlink:type=\"simple\"><rect fill=\"#FFFFFF\" height=\"45.9375\" id=\"E9\" rx=\"10\" ry=\"10\" style=\"stroke: #383838; stroke-width: 1.5;\" width=\"77\" x=\"307\" y=\"41\"/><text fill=\"#000000\" font-family=\"sans-serif\" font-size=\"12\" font-style=\"italic\" lengthAdjust=\"spacingAndGlyphs\" textLength=\"75\" x=\"308\" y=\"57.1387\">«rendering»</text><text fill=\"#000000\" font-family=\"sans-serif\" font-size=\"12\" lengthAdjust=\"spacingAndGlyphs\" textLength=\"13\" x=\"339\" y=\"71.1074\">r1</text><line style=\"stroke: #383838; stroke-width: 1.5;\" x1=\"308\" x2=\"383\" y1=\"78.9375\" y2=\"78.9375\"/></a><a href=\"psysml:6d9f5c34-02db-4c22-b8ae-ed1a072d5ac7\" target=\"_top\" title=\"psysml:6d9f5c34-02db-4c22-b8ae-ed1a072d5ac7\" xlink:actuate=\"onRequest\" xlink:href=\"psysml:6d9f5c34-02db-4c22-b8ae-ed1a072d5ac7\" xlink:show=\"new\" xlink:title=\"psysml:6d9f5c34-02db-4c22-b8ae-ed1a072d5ac7\" xlink:type=\"simple\"><polygon fill=\"#FFFFFF\" points=\"50,159.5,66,159.5,73,181.7969,80,181.7969,80,212.0938,50,212.0938,50,159.5\" style=\"stroke: #000000; stroke-width: 1.5;\"/><line style=\"stroke: #000000; stroke-width: 1.5;\" x1=\"50\" x2=\"73\" y1=\"181.7969\" y2=\"181.7969\"/><text fill=\"#000000\" font-family=\"sans-serif\" font-size=\"14\" font-weight=\"bold\" lengthAdjust=\"spacingAndGlyphs\" textLength=\"10\" x=\"54\" y=\"174.4951\">P</text></a><!--MD5=[85d356282659285ab4b2cfe2f634dd2b]\n",
       "reverse link E5 to E6--><a href=\"psysml:b39da276-6b98-4aad-85bf-f9ecfc55683d\" target=\"_top\" title=\"psysml:b39da276-6b98-4aad-85bf-f9ecfc55683d\" xlink:actuate=\"onRequest\" xlink:href=\"psysml:b39da276-6b98-4aad-85bf-f9ecfc55683d\" xlink:show=\"new\" xlink:title=\"psysml:b39da276-6b98-4aad-85bf-f9ecfc55683d\" xlink:type=\"simple\"><path d=\"M95.16,116.05 C113.15,136.34 136.77,162.8 158,186 C163.01,191.48 168.45,197.33 173.59,202.82 \" fill=\"none\" id=\"E5&lt;-E6\" style=\"stroke: #383838; stroke-width: 1.0;\"/><polygon fill=\"#383838\" points=\"86.31,106.05,87.2929,113.1938,94.2652,115.0342,93.2823,107.8904,86.31,106.05\" style=\"stroke: #383838; stroke-width: 1.0;\"/></a><!--MD5=[a717450b82c80b9240a525fa862496af]\n",
       "link E6 to E3--><a href=\"psysml:7b3d769f-4c56-4413-aa9f-0104e9507d6b\" target=\"_top\" title=\"psysml:7b3d769f-4c56-4413-aa9f-0104e9507d6b\" xlink:actuate=\"onRequest\" xlink:href=\"psysml:7b3d769f-4c56-4413-aa9f-0104e9507d6b\" xlink:show=\"new\" xlink:title=\"psysml:7b3d769f-4c56-4413-aa9f-0104e9507d6b\" xlink:type=\"simple\"><path d=\"M233.84,226 C246.67,226 261.54,226 276.15,226 \" fill=\"none\" id=\"E6-&gt;E3\" style=\"stroke: #383838; stroke-width: 1.0;\"/><polygon fill=\"#FFFFFF\" points=\"296.38,226,277.38,233,277.38,219,296.38,226\" style=\"stroke: #383838; stroke-width: 1.0;\"/><ellipse cx=\"271.68\" cy=\"231\" fill=\"#383838\" rx=\"2\" ry=\"2\" style=\"stroke: #383838; stroke-width: 1.0;\"/><ellipse cx=\"271.68\" cy=\"221\" fill=\"#383838\" rx=\"2\" ry=\"2\" style=\"stroke: #383838; stroke-width: 1.0;\"/></a><!--MD5=[6bdd27f9905911a7e892a3dc65cf6b7c]\n",
       "link E7 to E4--><a href=\"psysml:f768404d-501b-4614-8ab9-e2515f32fafd\" target=\"_top\" title=\"psysml:f768404d-501b-4614-8ab9-e2515f32fafd\" xlink:actuate=\"onRequest\" xlink:href=\"psysml:f768404d-501b-4614-8ab9-e2515f32fafd\" xlink:show=\"new\" xlink:title=\"psysml:f768404d-501b-4614-8ab9-e2515f32fafd\" xlink:type=\"simple\"><path d=\"M235.36,145 C247.39,145 261.1,145 274.65,145 \" fill=\"none\" id=\"E7-&gt;E4\" style=\"stroke: #383838; stroke-width: 1.0;\"/><polygon fill=\"#FFFFFF\" points=\"294.85,145,275.85,152,275.85,138,294.85,145\" style=\"stroke: #383838; stroke-width: 1.0;\"/><ellipse cx=\"270.15\" cy=\"150\" fill=\"#383838\" rx=\"2\" ry=\"2\" style=\"stroke: #383838; stroke-width: 1.0;\"/><ellipse cx=\"270.15\" cy=\"140\" fill=\"#383838\" rx=\"2\" ry=\"2\" style=\"stroke: #383838; stroke-width: 1.0;\"/></a><!--MD5=[452b418e7f8a40397a49b8c0a78acc5b]\n",
       "reverse link E5 to E7--><a href=\"psysml:5db0ac38-23f9-426f-a666-7fa33ad35708\" target=\"_top\" title=\"psysml:5db0ac38-23f9-426f-a666-7fa33ad35708\" xlink:actuate=\"onRequest\" xlink:href=\"psysml:5db0ac38-23f9-426f-a666-7fa33ad35708\" xlink:show=\"new\" xlink:title=\"psysml:5db0ac38-23f9-426f-a666-7fa33ad35708\" xlink:type=\"simple\"><path d=\"M110.02,104.08 C125.57,111.52 142.91,119.82 157.88,126.99 \" fill=\"none\" id=\"E5&lt;-E7\" style=\"stroke: #383838; stroke-width: 1.0;\"/><polygon fill=\"#383838\" points=\"98.01,98.33,101.6919,104.5303,108.8314,103.5163,105.1495,97.316,98.01,98.33\" style=\"stroke: #383838; stroke-width: 1.0;\"/><text fill=\"#000000\" font-family=\"sans-serif\" font-size=\"13\" lengthAdjust=\"spacingAndGlyphs\" textLength=\"24\" x=\"126.1288\" y=\"137.4625\">0..1</text></a><!--MD5=[1ccb2481ffa92f8d51a74ee30c51832a]\n",
       "link E8 to E5--><a href=\"psysml:2ecacd66-b174-4fa5-a1f0-5f98a8e6e629\" target=\"_top\" title=\"psysml:2ecacd66-b174-4fa5-a1f0-5f98a8e6e629\" xlink:actuate=\"onRequest\" xlink:href=\"psysml:2ecacd66-b174-4fa5-a1f0-5f98a8e6e629\" xlink:show=\"new\" xlink:title=\"psysml:2ecacd66-b174-4fa5-a1f0-5f98a8e6e629\" xlink:type=\"simple\"><path d=\"M175.15,56.84 C159.72,56.26 137.8,58.44 117.65,62.17 \" fill=\"none\" id=\"E8-&gt;E5\" style=\"stroke: #383838; stroke-width: 1.0;\"/><polygon fill=\"#FFFFFF\" points=\"98.01,66.47,115.0695,55.5625,118.0684,69.2376,98.01,66.47\" style=\"stroke: #383838; stroke-width: 1.0;\"/><ellipse cx=\"121.0656\" cy=\"56.2951\" fill=\"#383838\" rx=\"2\" ry=\"2\" style=\"stroke: #383838; stroke-width: 1.0;\"/><ellipse cx=\"123.2077\" cy=\"66.063\" fill=\"#383838\" rx=\"2\" ry=\"2\" style=\"stroke: #383838; stroke-width: 1.0;\"/></a><!--MD5=[827760032d119d06bbc92f75530fd7ae]\n",
       "reverse link E5 to E8--><a href=\"psysml:96dfc0dc-2946-48da-b50d-9c346f08b52f\" target=\"_top\" title=\"psysml:96dfc0dc-2946-48da-b50d-9c346f08b52f\" xlink:actuate=\"onRequest\" xlink:href=\"psysml:96dfc0dc-2946-48da-b50d-9c346f08b52f\" xlink:show=\"new\" xlink:title=\"psysml:96dfc0dc-2946-48da-b50d-9c346f08b52f\" xlink:type=\"simple\"><path d=\"M111.07,88.6 C132.9,86.63 158.02,82.06 175.15,76.57 \" fill=\"none\" id=\"E5&lt;-E8\" style=\"stroke: #383838; stroke-width: 1.0;\"/><polygon fill=\"#383838\" points=\"98.01,89.48,104.2646,93.0688,109.983,88.6756,103.7284,85.0868,98.01,89.48\" style=\"stroke: #383838; stroke-width: 1.0;\"/><text fill=\"#000000\" font-family=\"sans-serif\" font-size=\"13\" lengthAdjust=\"spacingAndGlyphs\" textLength=\"7\" x=\"160.5397\" y=\"94.8132\">*</text></a><!--MD5=[22f5b4bae7e060dce8a1c8021efdb95b]\n",
       "reverse link E8 to E9--><a href=\"psysml:fc5eb428-4a03-41d1-992b-aff2a13d3fb9\" target=\"_top\" title=\"psysml:fc5eb428-4a03-41d1-992b-aff2a13d3fb9\" xlink:actuate=\"onRequest\" xlink:href=\"psysml:fc5eb428-4a03-41d1-992b-aff2a13d3fb9\" xlink:show=\"new\" xlink:title=\"psysml:fc5eb428-4a03-41d1-992b-aff2a13d3fb9\" xlink:type=\"simple\"><path d=\"M230.63,64 C253.25,64 283.25,64 306.78,64 \" fill=\"none\" id=\"E8&lt;-E9\" style=\"stroke: #383838; stroke-width: 1.0;\"/><polygon fill=\"#383838\" points=\"217.63,64,223.63,68,229.63,64,223.63,60,217.63,64\" style=\"stroke: #383838; stroke-width: 1.0;\"/></a><!--MD5=[2ea1d40ae59f242fb54e15121bbbffdb]\n",
       "@startuml\r\n",
       "left to right direction\r\n",
       "skinparam monochrome true\r\n",
       "skinparam classbackgroundcolor white\r\n",
       "skinparam shadowing false\r\n",
       "skinparam wrapWidth 300\r\n",
       "hide circle\r\n",
       "\r\n",
       "package \"ViewTest\" as E1  [[psysml:fb02ed11-6398-4cea-b135-53d0cca9c478 ]]  {\r\n",
       "package \"P\" as E2  [[psysml:6d9f5c34-02db-4c22-b8ae-ed1a072d5ac7 ]]  {\r\n",
       "}\r\n",
       "comp def \"VP\" as E3  <<(T,blue)viewpoint def>> [[psysml:436e526f-0cc5-474d-8f19-4580d940df20 ]] {\r\n",
       "}\r\n",
       "comp def \"R\" as E4  <<(T,blue)rendering def>> [[psysml:053dc08e-a8e7-4770-acc6-30068883d6d6 ]] {\r\n",
       "}\r\n",
       "comp def \"V\" as E5  <<(T,blue)view def>> [[psysml:2fa1d21f-0378-4832-ab0e-3c490c491fc9 ]] {\r\n",
       "}\r\n",
       "comp usage \"vp: VP\" as E6  <<(T,blue)viewpoint>> [[psysml:b39da276-6b98-4aad-85bf-f9ecfc55683d ]] {\r\n",
       "}\r\n",
       "comp usage \"r: R\" as E7  <<(T,blue)rendering>> [[psysml:5db0ac38-23f9-426f-a666-7fa33ad35708 ]] {\r\n",
       "}\r\n",
       "comp usage \"v: V\" as E8  <<(T,blue)view>> [[psysml:96dfc0dc-2946-48da-b50d-9c346f08b52f ]] {\r\n",
       "}\r\n",
       "comp usage \"r1\" as E9  <<(T,blue)rendering>> [[psysml:fc5eb428-4a03-41d1-992b-aff2a13d3fb9 ]] {\r\n",
       "}\r\n",
       "E5 *- - E6 [[psysml:b39da276-6b98-4aad-85bf-f9ecfc55683d ]] \r\n",
       "E6 - -:|> E3 [[psysml:7b3d769f-4c56-4413-aa9f-0104e9507d6b ]] \r\n",
       "E7 - -:|> E4 [[psysml:f768404d-501b-4614-8ab9-e2515f32fafd ]] \r\n",
       "E5 *- - \"0..1\"E7 [[psysml:5db0ac38-23f9-426f-a666-7fa33ad35708 ]] \r\n",
       "E8 - -:|> E5 [[psysml:2ecacd66-b174-4fa5-a1f0-5f98a8e6e629 ]] \r\n",
       "E5 *- - \"*\"E8 [[psysml:96dfc0dc-2946-48da-b50d-9c346f08b52f ]] \r\n",
       "E8 *- - E9 [[psysml:fc5eb428-4a03-41d1-992b-aff2a13d3fb9 ]] \r\n",
       "}\r\n",
       "@enduml\r\n",
       "\n",
       "PlantUML version 1.2020.13(Sat Jun 13 12:26:38 UTC 2020)\n",
       "(EPL source distribution)\n",
       "Java Runtime: OpenJDK Runtime Environment\n",
       "JVM: OpenJDK 64-Bit Server VM\n",
       "Default Encoding: UTF-8\n",
       "Language: en\n",
       "Country: null\n",
       "--></g></svg>"
      ]
     },
     "execution_count": 17,
     "metadata": {},
     "output_type": "execute_result"
    }
   ],
   "source": [
    "%viz --style=\"LR\" --view=\"Tree\" \"ViewTest\""
   ]
  },
  {
   "cell_type": "code",
   "execution_count": 18,
   "id": "sudden-soundtrack",
   "metadata": {
    "execution": {
     "iopub.execute_input": "2021-03-24T16:32:12.118843Z",
     "iopub.status.busy": "2021-03-24T16:32:12.118436Z",
     "iopub.status.idle": "2021-03-24T16:32:12.123057Z",
     "shell.execute_reply": "2021-03-24T16:32:12.122732Z"
    }
   },
   "outputs": [
    {
     "data": {
      "image/svg+xml": [
       "<?xml version=\"1.0\" encoding=\"UTF-8\" standalone=\"no\"?><svg xmlns=\"http://www.w3.org/2000/svg\" xmlns:xlink=\"http://www.w3.org/1999/xlink\" contentScriptType=\"application/ecmascript\" contentStyleType=\"text/css\" height=\"12px\" preserveAspectRatio=\"none\" style=\"width:12px;height:12px;\" version=\"1.1\" viewBox=\"0 0 12 12\" width=\"12px\" zoomAndPan=\"magnify\"><defs/><g><!--MD5=[19d285c9d72a204eba4e2cd117d745e8]\n",
       "@startuml\r\n",
       "left to right direction\r\n",
       "skinparam monochrome true\r\n",
       "skinparam classbackgroundcolor white\r\n",
       "skinparam shadowing false\r\n",
       "skinparam wrapWidth 300\r\n",
       "hide circle\r\n",
       "\r\n",
       "@enduml\r\n",
       "\n",
       "PlantUML version 1.2020.13(Sat Jun 13 12:26:38 UTC 2020)\n",
       "(EPL source distribution)\n",
       "Java Runtime: OpenJDK Runtime Environment\n",
       "JVM: OpenJDK 64-Bit Server VM\n",
       "Default Encoding: UTF-8\n",
       "Language: en\n",
       "Country: null\n",
       "--></g></svg>"
      ]
     },
     "execution_count": 18,
     "metadata": {},
     "output_type": "execute_result"
    }
   ],
   "source": [
    "%viz --style=\"LR\" --view=\"State\" \"ViewTest\""
   ]
  },
  {
   "cell_type": "code",
   "execution_count": 19,
   "id": "ahead-burner",
   "metadata": {
    "execution": {
     "iopub.execute_input": "2021-03-24T16:32:12.174483Z",
     "iopub.status.busy": "2021-03-24T16:32:12.173822Z",
     "iopub.status.idle": "2021-03-24T16:32:12.212209Z",
     "shell.execute_reply": "2021-03-24T16:32:12.210808Z"
    }
   },
   "outputs": [
    {
     "data": {
      "image/svg+xml": [
       "<?xml version=\"1.0\" encoding=\"UTF-8\" standalone=\"no\"?><svg xmlns=\"http://www.w3.org/2000/svg\" xmlns:xlink=\"http://www.w3.org/1999/xlink\" contentScriptType=\"application/ecmascript\" contentStyleType=\"text/css\" height=\"534px\" preserveAspectRatio=\"none\" style=\"width:322px;height:534px;\" version=\"1.1\" viewBox=\"0 0 322 534\" width=\"322px\" zoomAndPan=\"magnify\"><defs/><g><!--MD5=[fbc87193dbaf4d95561dea2c320d4a47]\n",
       "cluster E1--><a href=\"psysml:fb02ed11-6398-4cea-b135-53d0cca9c478\" target=\"_top\" title=\"psysml:fb02ed11-6398-4cea-b135-53d0cca9c478\" xlink:actuate=\"onRequest\" xlink:href=\"psysml:fb02ed11-6398-4cea-b135-53d0cca9c478\" xlink:show=\"new\" xlink:title=\"psysml:fb02ed11-6398-4cea-b135-53d0cca9c478\" xlink:type=\"simple\"><polygon fill=\"#FFFFFF\" points=\"16,6,96,6,103,28.2969,300,28.2969,300,522,16,522,16,6\" style=\"stroke: #000000; stroke-width: 1.5;\"/><line style=\"stroke: #000000; stroke-width: 1.5;\" x1=\"16\" x2=\"103\" y1=\"28.2969\" y2=\"28.2969\"/><text fill=\"#000000\" font-family=\"sans-serif\" font-size=\"14\" font-weight=\"bold\" lengthAdjust=\"spacingAndGlyphs\" textLength=\"74\" x=\"20\" y=\"20.9951\">ViewTest</text></a><!--MD5=[de5ec2e2e8f62f467e546659f5068c88]\n",
       "cluster E5--><a href=\"psysml:2fa1d21f-0378-4832-ab0e-3c490c491fc9\" target=\"_top\" title=\"psysml:2fa1d21f-0378-4832-ab0e-3c490c491fc9\" xlink:actuate=\"onRequest\" xlink:href=\"psysml:2fa1d21f-0378-4832-ab0e-3c490c491fc9\" xlink:show=\"new\" xlink:title=\"psysml:2fa1d21f-0378-4832-ab0e-3c490c491fc9\" xlink:type=\"simple\"><rect fill=\"#FFFFFF\" height=\"306\" id=\"E5\" style=\"stroke: #383838; stroke-width: 1.5;\" width=\"130\" x=\"40\" y=\"49\"/><rect fill=\"#F8F8F8\" height=\"37.9375\" style=\"stroke: #383838; stroke-width: 1.5;\" width=\"130\" x=\"40\" y=\"49\"/><text fill=\"#000000\" font-family=\"sans-serif\" font-size=\"12\" font-style=\"italic\" lengthAdjust=\"spacingAndGlyphs\" textLength=\"64\" x=\"73\" y=\"65.1387\">«view def»</text><text fill=\"#000000\" font-family=\"sans-serif\" font-size=\"12\" lengthAdjust=\"spacingAndGlyphs\" textLength=\"8\" x=\"101\" y=\"79.1074\">V</text></a><!--MD5=[55dfccfc6c49c2d10cd1bd2211a6c90c]\n",
       "cluster E8--><a href=\"psysml:96dfc0dc-2946-48da-b50d-9c346f08b52f\" target=\"_top\" title=\"psysml:96dfc0dc-2946-48da-b50d-9c346f08b52f\" xlink:actuate=\"onRequest\" xlink:href=\"psysml:96dfc0dc-2946-48da-b50d-9c346f08b52f\" xlink:show=\"new\" xlink:title=\"psysml:96dfc0dc-2946-48da-b50d-9c346f08b52f\" xlink:type=\"simple\"><rect fill=\"#FFFFFF\" height=\"91\" id=\"E8\" rx=\"10\" ry=\"10\" style=\"stroke: #383838; stroke-width: 1.5;\" width=\"82\" x=\"64\" y=\"108\"/><rect fill=\"#F8F8F8\" height=\"23.9688\" rx=\"10\" ry=\"10\" style=\"stroke: #F8F8F8; stroke-width: 1.5;\" width=\"82\" x=\"64\" y=\"108\"/><rect fill=\"#F8F8F8\" height=\"10\" style=\"stroke: #F8F8F8; stroke-width: 1.5;\" width=\"82\" x=\"64\" y=\"121.9688\"/><rect fill=\"none\" height=\"91\" id=\"E8\" rx=\"10\" ry=\"10\" style=\"stroke: #383838; stroke-width: 1.5;\" width=\"82\" x=\"64\" y=\"108\"/><text fill=\"#000000\" font-family=\"sans-serif\" font-size=\"12\" lengthAdjust=\"spacingAndGlyphs\" textLength=\"22\" x=\"94\" y=\"124.1387\">v: V</text><line style=\"stroke: #383838; stroke-width: 1.0;\" x1=\"64\" x2=\"146\" y1=\"131.9688\" y2=\"131.9688\"/></a><!--MD5=[09b614a08d8cba4a07c9adeb5e0fee81]\n",
       "class E3--><a href=\"psysml:436e526f-0cc5-474d-8f19-4580d940df20\" target=\"_top\" title=\"psysml:436e526f-0cc5-474d-8f19-4580d940df20\" xlink:actuate=\"onRequest\" xlink:href=\"psysml:436e526f-0cc5-474d-8f19-4580d940df20\" xlink:show=\"new\" xlink:title=\"psysml:436e526f-0cc5-474d-8f19-4580d940df20\" xlink:type=\"simple\"><rect fill=\"#FFFFFF\" height=\"45.9375\" id=\"E3\" style=\"stroke: #383838; stroke-width: 1.5;\" width=\"98\" x=\"186\" y=\"218\"/><text fill=\"#000000\" font-family=\"sans-serif\" font-size=\"12\" font-style=\"italic\" lengthAdjust=\"spacingAndGlyphs\" textLength=\"96\" x=\"187\" y=\"234.1387\">«viewpoint def»</text><text fill=\"#000000\" font-family=\"sans-serif\" font-size=\"12\" lengthAdjust=\"spacingAndGlyphs\" textLength=\"16\" x=\"227\" y=\"248.1074\">VP</text><line style=\"stroke: #383838; stroke-width: 1.5;\" x1=\"187\" x2=\"283\" y1=\"255.9375\" y2=\"255.9375\"/></a><a href=\"psysml:6d9f5c34-02db-4c22-b8ae-ed1a072d5ac7\" target=\"_top\" title=\"psysml:6d9f5c34-02db-4c22-b8ae-ed1a072d5ac7\" xlink:actuate=\"onRequest\" xlink:href=\"psysml:6d9f5c34-02db-4c22-b8ae-ed1a072d5ac7\" xlink:show=\"new\" xlink:title=\"psysml:6d9f5c34-02db-4c22-b8ae-ed1a072d5ac7\" xlink:type=\"simple\"><polygon fill=\"#FFFFFF\" points=\"90,374.5,106,374.5,113,396.7969,120,396.7969,120,427.0938,90,427.0938,90,374.5\" style=\"stroke: #000000; stroke-width: 1.5;\"/><line style=\"stroke: #000000; stroke-width: 1.5;\" x1=\"90\" x2=\"113\" y1=\"396.7969\" y2=\"396.7969\"/><text fill=\"#000000\" font-family=\"sans-serif\" font-size=\"14\" font-weight=\"bold\" lengthAdjust=\"spacingAndGlyphs\" textLength=\"10\" x=\"94\" y=\"389.4951\">P</text></a><g id=\"E1.E4\"><a href=\"psysml:053dc08e-a8e7-4770-acc6-30068883d6d6\" target=\"_top\" title=\"psysml:053dc08e-a8e7-4770-acc6-30068883d6d6\" xlink:actuate=\"onRequest\" xlink:href=\"psysml:053dc08e-a8e7-4770-acc6-30068883d6d6\" xlink:show=\"new\" xlink:title=\"psysml:053dc08e-a8e7-4770-acc6-30068883d6d6\" xlink:type=\"simple\"><rect fill=\"#FFFFFF\" height=\"42.9375\" id=\"E4\" style=\"stroke: #383838; stroke-width: 1.5;\" width=\"106\" x=\"52\" y=\"462.5\"/><rect fill=\"#F8F8F8\" height=\"37.9375\" style=\"stroke: #383838; stroke-width: 1.5;\" width=\"106\" x=\"52\" y=\"462.5\"/><text fill=\"#000000\" font-family=\"sans-serif\" font-size=\"12\" font-style=\"italic\" lengthAdjust=\"spacingAndGlyphs\" textLength=\"99\" x=\"55.5\" y=\"478.6387\">«rendering def»</text><text fill=\"#000000\" font-family=\"sans-serif\" font-size=\"12\" lengthAdjust=\"spacingAndGlyphs\" textLength=\"8\" x=\"101\" y=\"492.6074\">R</text></a></g><!--MD5=[60a26617385b1d2d0262a64233df1f8d]\n",
       "class E6--><a href=\"psysml:b39da276-6b98-4aad-85bf-f9ecfc55683d\" target=\"_top\" title=\"psysml:b39da276-6b98-4aad-85bf-f9ecfc55683d\" xlink:actuate=\"onRequest\" xlink:href=\"psysml:b39da276-6b98-4aad-85bf-f9ecfc55683d\" xlink:show=\"new\" xlink:title=\"psysml:b39da276-6b98-4aad-85bf-f9ecfc55683d\" xlink:type=\"simple\"><rect fill=\"#FFFFFF\" height=\"45.9375\" id=\"E6\" rx=\"10\" ry=\"10\" style=\"stroke: #383838; stroke-width: 1.5;\" width=\"74\" x=\"68\" y=\"218\"/><text fill=\"#000000\" font-family=\"sans-serif\" font-size=\"12\" font-style=\"italic\" lengthAdjust=\"spacingAndGlyphs\" textLength=\"72\" x=\"69\" y=\"234.1387\">«viewpoint»</text><text fill=\"#000000\" font-family=\"sans-serif\" font-size=\"12\" lengthAdjust=\"spacingAndGlyphs\" textLength=\"38\" x=\"86\" y=\"248.1074\">vp: VP</text><line style=\"stroke: #383838; stroke-width: 1.5;\" x1=\"69\" x2=\"141\" y1=\"255.9375\" y2=\"255.9375\"/></a><g id=\"E1.E5.E7\"><a href=\"psysml:5db0ac38-23f9-426f-a666-7fa33ad35708\" target=\"_top\" title=\"psysml:5db0ac38-23f9-426f-a666-7fa33ad35708\" xlink:actuate=\"onRequest\" xlink:href=\"psysml:5db0ac38-23f9-426f-a666-7fa33ad35708\" xlink:show=\"new\" xlink:title=\"psysml:5db0ac38-23f9-426f-a666-7fa33ad35708\" xlink:type=\"simple\"><rect fill=\"#FFFFFF\" height=\"40\" id=\"E7\" rx=\"10\" ry=\"10\" style=\"stroke: #383838; stroke-width: 1.5;\" width=\"50\" x=\"80\" y=\"299\"/><rect fill=\"#F8F8F8\" height=\"23.9688\" rx=\"10\" ry=\"10\" style=\"stroke: #F8F8F8; stroke-width: 1.5;\" width=\"50\" x=\"80\" y=\"299\"/><rect fill=\"#F8F8F8\" height=\"10\" style=\"stroke: #F8F8F8; stroke-width: 1.5;\" width=\"50\" x=\"80\" y=\"312.9688\"/><rect fill=\"none\" height=\"40\" id=\"E7\" rx=\"10\" ry=\"10\" style=\"stroke: #383838; stroke-width: 1.5;\" width=\"50\" x=\"80\" y=\"299\"/><text fill=\"#000000\" font-family=\"sans-serif\" font-size=\"12\" lengthAdjust=\"spacingAndGlyphs\" textLength=\"21\" x=\"94.5\" y=\"315.1387\">r: R</text></a></g><g id=\"E1.E5.E8.E9\"><a href=\"psysml:fc5eb428-4a03-41d1-992b-aff2a13d3fb9\" target=\"_top\" title=\"psysml:fc5eb428-4a03-41d1-992b-aff2a13d3fb9\" xlink:actuate=\"onRequest\" xlink:href=\"psysml:fc5eb428-4a03-41d1-992b-aff2a13d3fb9\" xlink:show=\"new\" xlink:title=\"psysml:fc5eb428-4a03-41d1-992b-aff2a13d3fb9\" xlink:type=\"simple\"><rect fill=\"#FFFFFF\" height=\"40\" id=\"E9\" rx=\"10\" ry=\"10\" style=\"stroke: #383838; stroke-width: 1.5;\" width=\"50\" x=\"80\" y=\"143\"/><rect fill=\"#F8F8F8\" height=\"23.9688\" rx=\"10\" ry=\"10\" style=\"stroke: #F8F8F8; stroke-width: 1.5;\" width=\"50\" x=\"80\" y=\"143\"/><rect fill=\"#F8F8F8\" height=\"10\" style=\"stroke: #F8F8F8; stroke-width: 1.5;\" width=\"50\" x=\"80\" y=\"156.9688\"/><rect fill=\"none\" height=\"40\" id=\"E9\" rx=\"10\" ry=\"10\" style=\"stroke: #383838; stroke-width: 1.5;\" width=\"50\" x=\"80\" y=\"143\"/><text fill=\"#000000\" font-family=\"sans-serif\" font-size=\"12\" lengthAdjust=\"spacingAndGlyphs\" textLength=\"13\" x=\"98.5\" y=\"159.1387\">r1</text></a></g><!--MD5=[a717450b82c80b9240a525fa862496af]\n",
       "link E6 to E3--><a href=\"psysml:7b3d769f-4c56-4413-aa9f-0104e9507d6b\" target=\"_top\" title=\"psysml:7b3d769f-4c56-4413-aa9f-0104e9507d6b\" xlink:actuate=\"onRequest\" xlink:href=\"psysml:7b3d769f-4c56-4413-aa9f-0104e9507d6b\" xlink:show=\"new\" xlink:title=\"psysml:7b3d769f-4c56-4413-aa9f-0104e9507d6b\" xlink:type=\"simple\"><path d=\"M142.34,241 C149.59,241 157.43,241 165.36,241 \" fill=\"none\" id=\"E6-&gt;E3\" style=\"stroke: #383838; stroke-width: 1.0;\"/><polygon fill=\"#FFFFFF\" points=\"185.61,241,166.61,248,166.61,234,185.61,241\" style=\"stroke: #383838; stroke-width: 1.0;\"/><ellipse cx=\"160.91\" cy=\"246\" fill=\"#383838\" rx=\"2\" ry=\"2\" style=\"stroke: #383838; stroke-width: 1.0;\"/><ellipse cx=\"160.91\" cy=\"236\" fill=\"#383838\" rx=\"2\" ry=\"2\" style=\"stroke: #383838; stroke-width: 1.0;\"/></a><!--MD5=[0ec28fa5c63faf9127827f87b59a27f7]\n",
       "@startuml\r\n",
       "skinparam ranksep 10\r\n",
       "skinparam rectangle {\r\n",
       " backgroundColor<<block>> LightGreen\r\n",
       "}\r\n",
       "left to right direction\r\n",
       "skinparam monochrome true\r\n",
       "skinparam classbackgroundcolor white\r\n",
       "skinparam shadowing false\r\n",
       "skinparam wrapWidth 300\r\n",
       "hide circle\r\n",
       "\r\n",
       "package \"ViewTest\" as E1  [[psysml:fb02ed11-6398-4cea-b135-53d0cca9c478 ]]  {\r\n",
       "package \"P\" as E2  [[psysml:6d9f5c34-02db-4c22-b8ae-ed1a072d5ac7 ]]  {\r\n",
       "}\r\n",
       "comp def \"VP\" as E3  <<(T,blue)viewpoint def>> [[psysml:436e526f-0cc5-474d-8f19-4580d940df20 ]] {\r\n",
       "}\r\n",
       "rec def \"R\" as E4  <<(T,blue)rendering def>> [[psysml:053dc08e-a8e7-4770-acc6-30068883d6d6 ]] {\r\n",
       "}\r\n",
       "rec def \"V\" as E5  <<(T,blue)view def>> [[psysml:2fa1d21f-0378-4832-ab0e-3c490c491fc9 ]] {\r\n",
       "comp usage \"vp: VP\" as E6  <<(T,blue)viewpoint>> [[psysml:b39da276-6b98-4aad-85bf-f9ecfc55683d ]] {\r\n",
       "}\r\n",
       "rec usage \"r: R\" as E7  [[psysml:5db0ac38-23f9-426f-a666-7fa33ad35708 ]] {\r\n",
       "}\r\n",
       "rec usage \"v: V\" as E8  [[psysml:96dfc0dc-2946-48da-b50d-9c346f08b52f ]] {\r\n",
       "rec usage \"r1\" as E9  [[psysml:fc5eb428-4a03-41d1-992b-aff2a13d3fb9 ]] {\r\n",
       "}\r\n",
       "}\r\n",
       "}\r\n",
       "E6 - -:|> E3 [[psysml:7b3d769f-4c56-4413-aa9f-0104e9507d6b ]] \r\n",
       "}\r\n",
       "@enduml\r\n",
       "\n",
       "PlantUML version 1.2020.13(Sat Jun 13 12:26:38 UTC 2020)\n",
       "(EPL source distribution)\n",
       "Java Runtime: OpenJDK Runtime Environment\n",
       "JVM: OpenJDK 64-Bit Server VM\n",
       "Default Encoding: UTF-8\n",
       "Language: en\n",
       "Country: null\n",
       "--></g></svg>"
      ]
     },
     "execution_count": 19,
     "metadata": {},
     "output_type": "execute_result"
    }
   ],
   "source": [
    "%viz --style=\"LR\" --view=\"Interconnection\" \"ViewTest\""
   ]
  },
  {
   "cell_type": "code",
   "execution_count": 20,
   "id": "severe-service",
   "metadata": {
    "execution": {
     "iopub.execute_input": "2021-03-24T16:32:12.262088Z",
     "iopub.status.busy": "2021-03-24T16:32:12.261591Z",
     "iopub.status.idle": "2021-03-24T16:32:12.267386Z",
     "shell.execute_reply": "2021-03-24T16:32:12.267762Z"
    }
   },
   "outputs": [
    {
     "data": {
      "image/svg+xml": [
       "<?xml version=\"1.0\" encoding=\"UTF-8\" standalone=\"no\"?><svg xmlns=\"http://www.w3.org/2000/svg\" xmlns:xlink=\"http://www.w3.org/1999/xlink\" contentScriptType=\"application/ecmascript\" contentStyleType=\"text/css\" height=\"12px\" preserveAspectRatio=\"none\" style=\"width:12px;height:12px;\" version=\"1.1\" viewBox=\"0 0 12 12\" width=\"12px\" zoomAndPan=\"magnify\"><defs/><g><!--MD5=[7aeb398939421629f6affaa4a1a7b125]\n",
       "@startuml\r\n",
       "skinparam ranksep 8\r\n",
       "left to right direction\r\n",
       "skinparam monochrome true\r\n",
       "skinparam classbackgroundcolor white\r\n",
       "skinparam shadowing false\r\n",
       "skinparam wrapWidth 300\r\n",
       "hide circle\r\n",
       "\r\n",
       "@enduml\r\n",
       "\n",
       "PlantUML version 1.2020.13(Sat Jun 13 12:26:38 UTC 2020)\n",
       "(EPL source distribution)\n",
       "Java Runtime: OpenJDK Runtime Environment\n",
       "JVM: OpenJDK 64-Bit Server VM\n",
       "Default Encoding: UTF-8\n",
       "Language: en\n",
       "Country: null\n",
       "--></g></svg>"
      ]
     },
     "execution_count": 20,
     "metadata": {},
     "output_type": "execute_result"
    }
   ],
   "source": [
    "%viz --style=\"LR\" --view=\"Action\" \"ViewTest\""
   ]
  },
  {
   "cell_type": "code",
   "execution_count": 21,
   "id": "superb-introduction",
   "metadata": {
    "execution": {
     "iopub.execute_input": "2021-03-24T16:32:12.319695Z",
     "iopub.status.busy": "2021-03-24T16:32:12.319102Z",
     "iopub.status.idle": "2021-03-24T16:32:12.361462Z",
     "shell.execute_reply": "2021-03-24T16:32:12.361115Z"
    }
   },
   "outputs": [
    {
     "data": {
      "image/svg+xml": [
       "<?xml version=\"1.0\" encoding=\"UTF-8\" standalone=\"no\"?><svg xmlns=\"http://www.w3.org/2000/svg\" xmlns:xlink=\"http://www.w3.org/1999/xlink\" contentScriptType=\"application/ecmascript\" contentStyleType=\"text/css\" height=\"277px\" preserveAspectRatio=\"none\" style=\"width:434px;height:277px;\" version=\"1.1\" viewBox=\"0 0 434 277\" width=\"434px\" zoomAndPan=\"magnify\"><defs/><g><!--MD5=[fbc87193dbaf4d95561dea2c320d4a47]\n",
       "cluster E1--><a href=\"psysml:fb02ed11-6398-4cea-b135-53d0cca9c478\" target=\"_top\" title=\"psysml:fb02ed11-6398-4cea-b135-53d0cca9c478\" xlink:actuate=\"onRequest\" xlink:href=\"psysml:fb02ed11-6398-4cea-b135-53d0cca9c478\" xlink:show=\"new\" xlink:title=\"psysml:fb02ed11-6398-4cea-b135-53d0cca9c478\" xlink:type=\"simple\"><polygon fill=\"#FFFFFF\" points=\"16,6,96,6,103,28.2969,412,28.2969,412,265,16,265,16,6\" style=\"stroke: #000000; stroke-width: 1.5;\"/><line style=\"stroke: #000000; stroke-width: 1.5;\" x1=\"16\" x2=\"103\" y1=\"28.2969\" y2=\"28.2969\"/><text fill=\"#000000\" font-family=\"sans-serif\" font-size=\"14\" font-weight=\"bold\" lengthAdjust=\"spacingAndGlyphs\" textLength=\"74\" x=\"20\" y=\"20.9951\">ViewTest</text></a><!--MD5=[09b614a08d8cba4a07c9adeb5e0fee81]\n",
       "class E3--><a href=\"psysml:436e526f-0cc5-474d-8f19-4580d940df20\" target=\"_top\" title=\"psysml:436e526f-0cc5-474d-8f19-4580d940df20\" xlink:actuate=\"onRequest\" xlink:href=\"psysml:436e526f-0cc5-474d-8f19-4580d940df20\" xlink:show=\"new\" xlink:title=\"psysml:436e526f-0cc5-474d-8f19-4580d940df20\" xlink:type=\"simple\"><rect fill=\"#FFFFFF\" height=\"45.9375\" id=\"E3\" style=\"stroke: #383838; stroke-width: 1.5;\" width=\"98\" x=\"296.5\" y=\"203\"/><text fill=\"#000000\" font-family=\"sans-serif\" font-size=\"12\" font-style=\"italic\" lengthAdjust=\"spacingAndGlyphs\" textLength=\"96\" x=\"297.5\" y=\"219.1387\">«viewpoint def»</text><text fill=\"#000000\" font-family=\"sans-serif\" font-size=\"12\" lengthAdjust=\"spacingAndGlyphs\" textLength=\"16\" x=\"337.5\" y=\"233.1074\">VP</text><line style=\"stroke: #383838; stroke-width: 1.5;\" x1=\"297.5\" x2=\"393.5\" y1=\"240.9375\" y2=\"240.9375\"/></a><!--MD5=[ebbe1d658d1005bcc118a6aa81145e00]\n",
       "class E4--><a href=\"psysml:053dc08e-a8e7-4770-acc6-30068883d6d6\" target=\"_top\" title=\"psysml:053dc08e-a8e7-4770-acc6-30068883d6d6\" xlink:actuate=\"onRequest\" xlink:href=\"psysml:053dc08e-a8e7-4770-acc6-30068883d6d6\" xlink:show=\"new\" xlink:title=\"psysml:053dc08e-a8e7-4770-acc6-30068883d6d6\" xlink:type=\"simple\"><rect fill=\"#FFFFFF\" height=\"45.9375\" id=\"E4\" style=\"stroke: #383838; stroke-width: 1.5;\" width=\"101\" x=\"295\" y=\"122\"/><text fill=\"#000000\" font-family=\"sans-serif\" font-size=\"12\" font-style=\"italic\" lengthAdjust=\"spacingAndGlyphs\" textLength=\"99\" x=\"296\" y=\"138.1387\">«rendering def»</text><text fill=\"#000000\" font-family=\"sans-serif\" font-size=\"12\" lengthAdjust=\"spacingAndGlyphs\" textLength=\"8\" x=\"341.5\" y=\"152.1074\">R</text><line style=\"stroke: #383838; stroke-width: 1.5;\" x1=\"296\" x2=\"395\" y1=\"159.9375\" y2=\"159.9375\"/></a><!--MD5=[270fce915f116d4de14055a7c1d9a0f3]\n",
       "class E5--><a href=\"psysml:2fa1d21f-0378-4832-ab0e-3c490c491fc9\" target=\"_top\" title=\"psysml:2fa1d21f-0378-4832-ab0e-3c490c491fc9\" xlink:actuate=\"onRequest\" xlink:href=\"psysml:2fa1d21f-0378-4832-ab0e-3c490c491fc9\" xlink:show=\"new\" xlink:title=\"psysml:2fa1d21f-0378-4832-ab0e-3c490c491fc9\" xlink:type=\"simple\"><rect fill=\"#FFFFFF\" height=\"45.9375\" id=\"E5\" style=\"stroke: #383838; stroke-width: 1.5;\" width=\"66\" x=\"32\" y=\"60\"/><text fill=\"#000000\" font-family=\"sans-serif\" font-size=\"12\" font-style=\"italic\" lengthAdjust=\"spacingAndGlyphs\" textLength=\"64\" x=\"33\" y=\"76.1387\">«view def»</text><text fill=\"#000000\" font-family=\"sans-serif\" font-size=\"12\" lengthAdjust=\"spacingAndGlyphs\" textLength=\"8\" x=\"61\" y=\"90.1074\">V</text><line style=\"stroke: #383838; stroke-width: 1.5;\" x1=\"33\" x2=\"97\" y1=\"97.9375\" y2=\"97.9375\"/></a><!--MD5=[60a26617385b1d2d0262a64233df1f8d]\n",
       "class E6--><a href=\"psysml:b39da276-6b98-4aad-85bf-f9ecfc55683d\" target=\"_top\" title=\"psysml:b39da276-6b98-4aad-85bf-f9ecfc55683d\" xlink:actuate=\"onRequest\" xlink:href=\"psysml:b39da276-6b98-4aad-85bf-f9ecfc55683d\" xlink:show=\"new\" xlink:title=\"psysml:b39da276-6b98-4aad-85bf-f9ecfc55683d\" xlink:type=\"simple\"><rect fill=\"#FFFFFF\" height=\"45.9375\" id=\"E6\" rx=\"10\" ry=\"10\" style=\"stroke: #383838; stroke-width: 1.5;\" width=\"74\" x=\"159.5\" y=\"203\"/><text fill=\"#000000\" font-family=\"sans-serif\" font-size=\"12\" font-style=\"italic\" lengthAdjust=\"spacingAndGlyphs\" textLength=\"72\" x=\"160.5\" y=\"219.1387\">«viewpoint»</text><text fill=\"#000000\" font-family=\"sans-serif\" font-size=\"12\" lengthAdjust=\"spacingAndGlyphs\" textLength=\"38\" x=\"177.5\" y=\"233.1074\">vp: VP</text><line style=\"stroke: #383838; stroke-width: 1.5;\" x1=\"160.5\" x2=\"232.5\" y1=\"240.9375\" y2=\"240.9375\"/></a><!--MD5=[2156ba9850f5573cc1fc38a6a4b2f02b]\n",
       "class E7--><a href=\"psysml:5db0ac38-23f9-426f-a666-7fa33ad35708\" target=\"_top\" title=\"psysml:5db0ac38-23f9-426f-a666-7fa33ad35708\" xlink:actuate=\"onRequest\" xlink:href=\"psysml:5db0ac38-23f9-426f-a666-7fa33ad35708\" xlink:show=\"new\" xlink:title=\"psysml:5db0ac38-23f9-426f-a666-7fa33ad35708\" xlink:type=\"simple\"><rect fill=\"#FFFFFF\" height=\"45.9375\" id=\"E7\" rx=\"10\" ry=\"10\" style=\"stroke: #383838; stroke-width: 1.5;\" width=\"77\" x=\"158\" y=\"122\"/><text fill=\"#000000\" font-family=\"sans-serif\" font-size=\"12\" font-style=\"italic\" lengthAdjust=\"spacingAndGlyphs\" textLength=\"75\" x=\"159\" y=\"138.1387\">«rendering»</text><text fill=\"#000000\" font-family=\"sans-serif\" font-size=\"12\" lengthAdjust=\"spacingAndGlyphs\" textLength=\"21\" x=\"186\" y=\"152.1074\">r: R</text><line style=\"stroke: #383838; stroke-width: 1.5;\" x1=\"159\" x2=\"234\" y1=\"159.9375\" y2=\"159.9375\"/></a><!--MD5=[b9389687b975829384b498ac4b7476b2]\n",
       "class E8--><a href=\"psysml:96dfc0dc-2946-48da-b50d-9c346f08b52f\" target=\"_top\" title=\"psysml:96dfc0dc-2946-48da-b50d-9c346f08b52f\" xlink:actuate=\"onRequest\" xlink:href=\"psysml:96dfc0dc-2946-48da-b50d-9c346f08b52f\" xlink:show=\"new\" xlink:title=\"psysml:96dfc0dc-2946-48da-b50d-9c346f08b52f\" xlink:type=\"simple\"><rect fill=\"#FFFFFF\" height=\"45.9375\" id=\"E8\" rx=\"10\" ry=\"10\" style=\"stroke: #383838; stroke-width: 1.5;\" width=\"42\" x=\"175.5\" y=\"41\"/><text fill=\"#000000\" font-family=\"sans-serif\" font-size=\"12\" font-style=\"italic\" lengthAdjust=\"spacingAndGlyphs\" textLength=\"40\" x=\"176.5\" y=\"57.1387\">«view»</text><text fill=\"#000000\" font-family=\"sans-serif\" font-size=\"12\" lengthAdjust=\"spacingAndGlyphs\" textLength=\"22\" x=\"185.5\" y=\"71.1074\">v: V</text><line style=\"stroke: #383838; stroke-width: 1.5;\" x1=\"176.5\" x2=\"216.5\" y1=\"78.9375\" y2=\"78.9375\"/></a><!--MD5=[fd4143e9d270a159db93a4ea2a975926]\n",
       "class E9--><a href=\"psysml:fc5eb428-4a03-41d1-992b-aff2a13d3fb9\" target=\"_top\" title=\"psysml:fc5eb428-4a03-41d1-992b-aff2a13d3fb9\" xlink:actuate=\"onRequest\" xlink:href=\"psysml:fc5eb428-4a03-41d1-992b-aff2a13d3fb9\" xlink:show=\"new\" xlink:title=\"psysml:fc5eb428-4a03-41d1-992b-aff2a13d3fb9\" xlink:type=\"simple\"><rect fill=\"#FFFFFF\" height=\"45.9375\" id=\"E9\" rx=\"10\" ry=\"10\" style=\"stroke: #383838; stroke-width: 1.5;\" width=\"77\" x=\"307\" y=\"41\"/><text fill=\"#000000\" font-family=\"sans-serif\" font-size=\"12\" font-style=\"italic\" lengthAdjust=\"spacingAndGlyphs\" textLength=\"75\" x=\"308\" y=\"57.1387\">«rendering»</text><text fill=\"#000000\" font-family=\"sans-serif\" font-size=\"12\" lengthAdjust=\"spacingAndGlyphs\" textLength=\"13\" x=\"339\" y=\"71.1074\">r1</text><line style=\"stroke: #383838; stroke-width: 1.5;\" x1=\"308\" x2=\"383\" y1=\"78.9375\" y2=\"78.9375\"/></a><a href=\"psysml:6d9f5c34-02db-4c22-b8ae-ed1a072d5ac7\" target=\"_top\" title=\"psysml:6d9f5c34-02db-4c22-b8ae-ed1a072d5ac7\" xlink:actuate=\"onRequest\" xlink:href=\"psysml:6d9f5c34-02db-4c22-b8ae-ed1a072d5ac7\" xlink:show=\"new\" xlink:title=\"psysml:6d9f5c34-02db-4c22-b8ae-ed1a072d5ac7\" xlink:type=\"simple\"><polygon fill=\"#FFFFFF\" points=\"50,159.5,66,159.5,73,181.7969,80,181.7969,80,212.0938,50,212.0938,50,159.5\" style=\"stroke: #000000; stroke-width: 1.5;\"/><line style=\"stroke: #000000; stroke-width: 1.5;\" x1=\"50\" x2=\"73\" y1=\"181.7969\" y2=\"181.7969\"/><text fill=\"#000000\" font-family=\"sans-serif\" font-size=\"14\" font-weight=\"bold\" lengthAdjust=\"spacingAndGlyphs\" textLength=\"10\" x=\"54\" y=\"174.4951\">P</text></a><!--MD5=[85d356282659285ab4b2cfe2f634dd2b]\n",
       "reverse link E5 to E6--><a href=\"psysml:b39da276-6b98-4aad-85bf-f9ecfc55683d\" target=\"_top\" title=\"psysml:b39da276-6b98-4aad-85bf-f9ecfc55683d\" xlink:actuate=\"onRequest\" xlink:href=\"psysml:b39da276-6b98-4aad-85bf-f9ecfc55683d\" xlink:show=\"new\" xlink:title=\"psysml:b39da276-6b98-4aad-85bf-f9ecfc55683d\" xlink:type=\"simple\"><path d=\"M95.16,116.05 C113.15,136.34 136.77,162.8 158,186 C163.01,191.48 168.45,197.33 173.59,202.82 \" fill=\"none\" id=\"E5&lt;-E6\" style=\"stroke: #383838; stroke-width: 1.0;\"/><polygon fill=\"#383838\" points=\"86.31,106.05,87.2929,113.1938,94.2652,115.0342,93.2823,107.8904,86.31,106.05\" style=\"stroke: #383838; stroke-width: 1.0;\"/></a><!--MD5=[a717450b82c80b9240a525fa862496af]\n",
       "link E6 to E3--><a href=\"psysml:7b3d769f-4c56-4413-aa9f-0104e9507d6b\" target=\"_top\" title=\"psysml:7b3d769f-4c56-4413-aa9f-0104e9507d6b\" xlink:actuate=\"onRequest\" xlink:href=\"psysml:7b3d769f-4c56-4413-aa9f-0104e9507d6b\" xlink:show=\"new\" xlink:title=\"psysml:7b3d769f-4c56-4413-aa9f-0104e9507d6b\" xlink:type=\"simple\"><path d=\"M233.84,226 C246.67,226 261.54,226 276.15,226 \" fill=\"none\" id=\"E6-&gt;E3\" style=\"stroke: #383838; stroke-width: 1.0;\"/><polygon fill=\"#FFFFFF\" points=\"296.38,226,277.38,233,277.38,219,296.38,226\" style=\"stroke: #383838; stroke-width: 1.0;\"/><ellipse cx=\"271.68\" cy=\"231\" fill=\"#383838\" rx=\"2\" ry=\"2\" style=\"stroke: #383838; stroke-width: 1.0;\"/><ellipse cx=\"271.68\" cy=\"221\" fill=\"#383838\" rx=\"2\" ry=\"2\" style=\"stroke: #383838; stroke-width: 1.0;\"/></a><!--MD5=[6bdd27f9905911a7e892a3dc65cf6b7c]\n",
       "link E7 to E4--><a href=\"psysml:f768404d-501b-4614-8ab9-e2515f32fafd\" target=\"_top\" title=\"psysml:f768404d-501b-4614-8ab9-e2515f32fafd\" xlink:actuate=\"onRequest\" xlink:href=\"psysml:f768404d-501b-4614-8ab9-e2515f32fafd\" xlink:show=\"new\" xlink:title=\"psysml:f768404d-501b-4614-8ab9-e2515f32fafd\" xlink:type=\"simple\"><path d=\"M235.36,145 C247.39,145 261.1,145 274.65,145 \" fill=\"none\" id=\"E7-&gt;E4\" style=\"stroke: #383838; stroke-width: 1.0;\"/><polygon fill=\"#FFFFFF\" points=\"294.85,145,275.85,152,275.85,138,294.85,145\" style=\"stroke: #383838; stroke-width: 1.0;\"/><ellipse cx=\"270.15\" cy=\"150\" fill=\"#383838\" rx=\"2\" ry=\"2\" style=\"stroke: #383838; stroke-width: 1.0;\"/><ellipse cx=\"270.15\" cy=\"140\" fill=\"#383838\" rx=\"2\" ry=\"2\" style=\"stroke: #383838; stroke-width: 1.0;\"/></a><!--MD5=[452b418e7f8a40397a49b8c0a78acc5b]\n",
       "reverse link E5 to E7--><a href=\"psysml:5db0ac38-23f9-426f-a666-7fa33ad35708\" target=\"_top\" title=\"psysml:5db0ac38-23f9-426f-a666-7fa33ad35708\" xlink:actuate=\"onRequest\" xlink:href=\"psysml:5db0ac38-23f9-426f-a666-7fa33ad35708\" xlink:show=\"new\" xlink:title=\"psysml:5db0ac38-23f9-426f-a666-7fa33ad35708\" xlink:type=\"simple\"><path d=\"M110.02,104.08 C125.57,111.52 142.91,119.82 157.88,126.99 \" fill=\"none\" id=\"E5&lt;-E7\" style=\"stroke: #383838; stroke-width: 1.0;\"/><polygon fill=\"#383838\" points=\"98.01,98.33,101.6919,104.5303,108.8314,103.5163,105.1495,97.316,98.01,98.33\" style=\"stroke: #383838; stroke-width: 1.0;\"/><text fill=\"#000000\" font-family=\"sans-serif\" font-size=\"13\" lengthAdjust=\"spacingAndGlyphs\" textLength=\"24\" x=\"126.1288\" y=\"137.4625\">0..1</text></a><!--MD5=[1ccb2481ffa92f8d51a74ee30c51832a]\n",
       "link E8 to E5--><a href=\"psysml:2ecacd66-b174-4fa5-a1f0-5f98a8e6e629\" target=\"_top\" title=\"psysml:2ecacd66-b174-4fa5-a1f0-5f98a8e6e629\" xlink:actuate=\"onRequest\" xlink:href=\"psysml:2ecacd66-b174-4fa5-a1f0-5f98a8e6e629\" xlink:show=\"new\" xlink:title=\"psysml:2ecacd66-b174-4fa5-a1f0-5f98a8e6e629\" xlink:type=\"simple\"><path d=\"M175.15,56.84 C159.72,56.26 137.8,58.44 117.65,62.17 \" fill=\"none\" id=\"E8-&gt;E5\" style=\"stroke: #383838; stroke-width: 1.0;\"/><polygon fill=\"#FFFFFF\" points=\"98.01,66.47,115.0695,55.5625,118.0684,69.2376,98.01,66.47\" style=\"stroke: #383838; stroke-width: 1.0;\"/><ellipse cx=\"121.0656\" cy=\"56.2951\" fill=\"#383838\" rx=\"2\" ry=\"2\" style=\"stroke: #383838; stroke-width: 1.0;\"/><ellipse cx=\"123.2077\" cy=\"66.063\" fill=\"#383838\" rx=\"2\" ry=\"2\" style=\"stroke: #383838; stroke-width: 1.0;\"/></a><!--MD5=[827760032d119d06bbc92f75530fd7ae]\n",
       "reverse link E5 to E8--><a href=\"psysml:96dfc0dc-2946-48da-b50d-9c346f08b52f\" target=\"_top\" title=\"psysml:96dfc0dc-2946-48da-b50d-9c346f08b52f\" xlink:actuate=\"onRequest\" xlink:href=\"psysml:96dfc0dc-2946-48da-b50d-9c346f08b52f\" xlink:show=\"new\" xlink:title=\"psysml:96dfc0dc-2946-48da-b50d-9c346f08b52f\" xlink:type=\"simple\"><path d=\"M111.07,88.6 C132.9,86.63 158.02,82.06 175.15,76.57 \" fill=\"none\" id=\"E5&lt;-E8\" style=\"stroke: #383838; stroke-width: 1.0;\"/><polygon fill=\"#383838\" points=\"98.01,89.48,104.2646,93.0688,109.983,88.6756,103.7284,85.0868,98.01,89.48\" style=\"stroke: #383838; stroke-width: 1.0;\"/><text fill=\"#000000\" font-family=\"sans-serif\" font-size=\"13\" lengthAdjust=\"spacingAndGlyphs\" textLength=\"7\" x=\"160.5397\" y=\"94.8132\">*</text></a><!--MD5=[22f5b4bae7e060dce8a1c8021efdb95b]\n",
       "reverse link E8 to E9--><a href=\"psysml:fc5eb428-4a03-41d1-992b-aff2a13d3fb9\" target=\"_top\" title=\"psysml:fc5eb428-4a03-41d1-992b-aff2a13d3fb9\" xlink:actuate=\"onRequest\" xlink:href=\"psysml:fc5eb428-4a03-41d1-992b-aff2a13d3fb9\" xlink:show=\"new\" xlink:title=\"psysml:fc5eb428-4a03-41d1-992b-aff2a13d3fb9\" xlink:type=\"simple\"><path d=\"M230.63,64 C253.25,64 283.25,64 306.78,64 \" fill=\"none\" id=\"E8&lt;-E9\" style=\"stroke: #383838; stroke-width: 1.0;\"/><polygon fill=\"#383838\" points=\"217.63,64,223.63,68,229.63,64,223.63,60,217.63,64\" style=\"stroke: #383838; stroke-width: 1.0;\"/></a><!--MD5=[2ea1d40ae59f242fb54e15121bbbffdb]\n",
       "@startuml\r\n",
       "left to right direction\r\n",
       "skinparam monochrome true\r\n",
       "skinparam classbackgroundcolor white\r\n",
       "skinparam shadowing false\r\n",
       "skinparam wrapWidth 300\r\n",
       "hide circle\r\n",
       "\r\n",
       "package \"ViewTest\" as E1  [[psysml:fb02ed11-6398-4cea-b135-53d0cca9c478 ]]  {\r\n",
       "package \"P\" as E2  [[psysml:6d9f5c34-02db-4c22-b8ae-ed1a072d5ac7 ]]  {\r\n",
       "}\r\n",
       "comp def \"VP\" as E3  <<(T,blue)viewpoint def>> [[psysml:436e526f-0cc5-474d-8f19-4580d940df20 ]] {\r\n",
       "}\r\n",
       "comp def \"R\" as E4  <<(T,blue)rendering def>> [[psysml:053dc08e-a8e7-4770-acc6-30068883d6d6 ]] {\r\n",
       "}\r\n",
       "comp def \"V\" as E5  <<(T,blue)view def>> [[psysml:2fa1d21f-0378-4832-ab0e-3c490c491fc9 ]] {\r\n",
       "}\r\n",
       "comp usage \"vp: VP\" as E6  <<(T,blue)viewpoint>> [[psysml:b39da276-6b98-4aad-85bf-f9ecfc55683d ]] {\r\n",
       "}\r\n",
       "comp usage \"r: R\" as E7  <<(T,blue)rendering>> [[psysml:5db0ac38-23f9-426f-a666-7fa33ad35708 ]] {\r\n",
       "}\r\n",
       "comp usage \"v: V\" as E8  <<(T,blue)view>> [[psysml:96dfc0dc-2946-48da-b50d-9c346f08b52f ]] {\r\n",
       "}\r\n",
       "comp usage \"r1\" as E9  <<(T,blue)rendering>> [[psysml:fc5eb428-4a03-41d1-992b-aff2a13d3fb9 ]] {\r\n",
       "}\r\n",
       "E5 *- - E6 [[psysml:b39da276-6b98-4aad-85bf-f9ecfc55683d ]] \r\n",
       "E6 - -:|> E3 [[psysml:7b3d769f-4c56-4413-aa9f-0104e9507d6b ]] \r\n",
       "E7 - -:|> E4 [[psysml:f768404d-501b-4614-8ab9-e2515f32fafd ]] \r\n",
       "E5 *- - \"0..1\"E7 [[psysml:5db0ac38-23f9-426f-a666-7fa33ad35708 ]] \r\n",
       "E8 - -:|> E5 [[psysml:2ecacd66-b174-4fa5-a1f0-5f98a8e6e629 ]] \r\n",
       "E5 *- - \"*\"E8 [[psysml:96dfc0dc-2946-48da-b50d-9c346f08b52f ]] \r\n",
       "E8 *- - E9 [[psysml:fc5eb428-4a03-41d1-992b-aff2a13d3fb9 ]] \r\n",
       "}\r\n",
       "@enduml\r\n",
       "\n",
       "PlantUML version 1.2020.13(Sat Jun 13 12:26:38 UTC 2020)\n",
       "(EPL source distribution)\n",
       "Java Runtime: OpenJDK Runtime Environment\n",
       "JVM: OpenJDK 64-Bit Server VM\n",
       "Default Encoding: UTF-8\n",
       "Language: en\n",
       "Country: null\n",
       "--></g></svg>"
      ]
     },
     "execution_count": 21,
     "metadata": {},
     "output_type": "execute_result"
    }
   ],
   "source": [
    "%viz --style=\"LR\" --view=\"Sequence\" \"ViewTest\""
   ]
  },
  {
   "cell_type": "code",
   "execution_count": 22,
   "id": "funky-habitat",
   "metadata": {
    "execution": {
     "iopub.execute_input": "2021-03-24T16:32:12.411759Z",
     "iopub.status.busy": "2021-03-24T16:32:12.411345Z",
     "iopub.status.idle": "2021-03-24T16:32:12.446204Z",
     "shell.execute_reply": "2021-03-24T16:32:12.446641Z"
    }
   },
   "outputs": [
    {
     "data": {
      "image/svg+xml": [
       "<?xml version=\"1.0\" encoding=\"UTF-8\" standalone=\"no\"?><svg xmlns=\"http://www.w3.org/2000/svg\" xmlns:xlink=\"http://www.w3.org/1999/xlink\" contentScriptType=\"application/ecmascript\" contentStyleType=\"text/css\" height=\"277px\" preserveAspectRatio=\"none\" style=\"width:434px;height:277px;\" version=\"1.1\" viewBox=\"0 0 434 277\" width=\"434px\" zoomAndPan=\"magnify\"><defs/><g><!--MD5=[fbc87193dbaf4d95561dea2c320d4a47]\n",
       "cluster E1--><a href=\"psysml:fb02ed11-6398-4cea-b135-53d0cca9c478\" target=\"_top\" title=\"psysml:fb02ed11-6398-4cea-b135-53d0cca9c478\" xlink:actuate=\"onRequest\" xlink:href=\"psysml:fb02ed11-6398-4cea-b135-53d0cca9c478\" xlink:show=\"new\" xlink:title=\"psysml:fb02ed11-6398-4cea-b135-53d0cca9c478\" xlink:type=\"simple\"><polygon fill=\"#FFFFFF\" points=\"16,6,96,6,103,28.2969,412,28.2969,412,265,16,265,16,6\" style=\"stroke: #000000; stroke-width: 1.5;\"/><line style=\"stroke: #000000; stroke-width: 1.5;\" x1=\"16\" x2=\"103\" y1=\"28.2969\" y2=\"28.2969\"/><text fill=\"#000000\" font-family=\"sans-serif\" font-size=\"14\" font-weight=\"bold\" lengthAdjust=\"spacingAndGlyphs\" textLength=\"74\" x=\"20\" y=\"20.9951\">ViewTest</text></a><!--MD5=[09b614a08d8cba4a07c9adeb5e0fee81]\n",
       "class E3--><a href=\"psysml:436e526f-0cc5-474d-8f19-4580d940df20\" target=\"_top\" title=\"psysml:436e526f-0cc5-474d-8f19-4580d940df20\" xlink:actuate=\"onRequest\" xlink:href=\"psysml:436e526f-0cc5-474d-8f19-4580d940df20\" xlink:show=\"new\" xlink:title=\"psysml:436e526f-0cc5-474d-8f19-4580d940df20\" xlink:type=\"simple\"><rect fill=\"#FFFFFF\" height=\"45.9375\" id=\"E3\" style=\"stroke: #383838; stroke-width: 1.5;\" width=\"98\" x=\"296.5\" y=\"203\"/><text fill=\"#000000\" font-family=\"sans-serif\" font-size=\"12\" font-style=\"italic\" lengthAdjust=\"spacingAndGlyphs\" textLength=\"96\" x=\"297.5\" y=\"219.1387\">«viewpoint def»</text><text fill=\"#000000\" font-family=\"sans-serif\" font-size=\"12\" lengthAdjust=\"spacingAndGlyphs\" textLength=\"16\" x=\"337.5\" y=\"233.1074\">VP</text><line style=\"stroke: #383838; stroke-width: 1.5;\" x1=\"297.5\" x2=\"393.5\" y1=\"240.9375\" y2=\"240.9375\"/></a><!--MD5=[ebbe1d658d1005bcc118a6aa81145e00]\n",
       "class E4--><a href=\"psysml:053dc08e-a8e7-4770-acc6-30068883d6d6\" target=\"_top\" title=\"psysml:053dc08e-a8e7-4770-acc6-30068883d6d6\" xlink:actuate=\"onRequest\" xlink:href=\"psysml:053dc08e-a8e7-4770-acc6-30068883d6d6\" xlink:show=\"new\" xlink:title=\"psysml:053dc08e-a8e7-4770-acc6-30068883d6d6\" xlink:type=\"simple\"><rect fill=\"#FFFFFF\" height=\"45.9375\" id=\"E4\" style=\"stroke: #383838; stroke-width: 1.5;\" width=\"101\" x=\"295\" y=\"122\"/><text fill=\"#000000\" font-family=\"sans-serif\" font-size=\"12\" font-style=\"italic\" lengthAdjust=\"spacingAndGlyphs\" textLength=\"99\" x=\"296\" y=\"138.1387\">«rendering def»</text><text fill=\"#000000\" font-family=\"sans-serif\" font-size=\"12\" lengthAdjust=\"spacingAndGlyphs\" textLength=\"8\" x=\"341.5\" y=\"152.1074\">R</text><line style=\"stroke: #383838; stroke-width: 1.5;\" x1=\"296\" x2=\"395\" y1=\"159.9375\" y2=\"159.9375\"/></a><!--MD5=[270fce915f116d4de14055a7c1d9a0f3]\n",
       "class E5--><a href=\"psysml:2fa1d21f-0378-4832-ab0e-3c490c491fc9\" target=\"_top\" title=\"psysml:2fa1d21f-0378-4832-ab0e-3c490c491fc9\" xlink:actuate=\"onRequest\" xlink:href=\"psysml:2fa1d21f-0378-4832-ab0e-3c490c491fc9\" xlink:show=\"new\" xlink:title=\"psysml:2fa1d21f-0378-4832-ab0e-3c490c491fc9\" xlink:type=\"simple\"><rect fill=\"#FFFFFF\" height=\"45.9375\" id=\"E5\" style=\"stroke: #383838; stroke-width: 1.5;\" width=\"66\" x=\"32\" y=\"60\"/><text fill=\"#000000\" font-family=\"sans-serif\" font-size=\"12\" font-style=\"italic\" lengthAdjust=\"spacingAndGlyphs\" textLength=\"64\" x=\"33\" y=\"76.1387\">«view def»</text><text fill=\"#000000\" font-family=\"sans-serif\" font-size=\"12\" lengthAdjust=\"spacingAndGlyphs\" textLength=\"8\" x=\"61\" y=\"90.1074\">V</text><line style=\"stroke: #383838; stroke-width: 1.5;\" x1=\"33\" x2=\"97\" y1=\"97.9375\" y2=\"97.9375\"/></a><!--MD5=[60a26617385b1d2d0262a64233df1f8d]\n",
       "class E6--><a href=\"psysml:b39da276-6b98-4aad-85bf-f9ecfc55683d\" target=\"_top\" title=\"psysml:b39da276-6b98-4aad-85bf-f9ecfc55683d\" xlink:actuate=\"onRequest\" xlink:href=\"psysml:b39da276-6b98-4aad-85bf-f9ecfc55683d\" xlink:show=\"new\" xlink:title=\"psysml:b39da276-6b98-4aad-85bf-f9ecfc55683d\" xlink:type=\"simple\"><rect fill=\"#FFFFFF\" height=\"45.9375\" id=\"E6\" rx=\"10\" ry=\"10\" style=\"stroke: #383838; stroke-width: 1.5;\" width=\"74\" x=\"159.5\" y=\"203\"/><text fill=\"#000000\" font-family=\"sans-serif\" font-size=\"12\" font-style=\"italic\" lengthAdjust=\"spacingAndGlyphs\" textLength=\"72\" x=\"160.5\" y=\"219.1387\">«viewpoint»</text><text fill=\"#000000\" font-family=\"sans-serif\" font-size=\"12\" lengthAdjust=\"spacingAndGlyphs\" textLength=\"38\" x=\"177.5\" y=\"233.1074\">vp: VP</text><line style=\"stroke: #383838; stroke-width: 1.5;\" x1=\"160.5\" x2=\"232.5\" y1=\"240.9375\" y2=\"240.9375\"/></a><!--MD5=[2156ba9850f5573cc1fc38a6a4b2f02b]\n",
       "class E7--><a href=\"psysml:5db0ac38-23f9-426f-a666-7fa33ad35708\" target=\"_top\" title=\"psysml:5db0ac38-23f9-426f-a666-7fa33ad35708\" xlink:actuate=\"onRequest\" xlink:href=\"psysml:5db0ac38-23f9-426f-a666-7fa33ad35708\" xlink:show=\"new\" xlink:title=\"psysml:5db0ac38-23f9-426f-a666-7fa33ad35708\" xlink:type=\"simple\"><rect fill=\"#FFFFFF\" height=\"45.9375\" id=\"E7\" rx=\"10\" ry=\"10\" style=\"stroke: #383838; stroke-width: 1.5;\" width=\"77\" x=\"158\" y=\"122\"/><text fill=\"#000000\" font-family=\"sans-serif\" font-size=\"12\" font-style=\"italic\" lengthAdjust=\"spacingAndGlyphs\" textLength=\"75\" x=\"159\" y=\"138.1387\">«rendering»</text><text fill=\"#000000\" font-family=\"sans-serif\" font-size=\"12\" lengthAdjust=\"spacingAndGlyphs\" textLength=\"21\" x=\"186\" y=\"152.1074\">r: R</text><line style=\"stroke: #383838; stroke-width: 1.5;\" x1=\"159\" x2=\"234\" y1=\"159.9375\" y2=\"159.9375\"/></a><!--MD5=[b9389687b975829384b498ac4b7476b2]\n",
       "class E8--><a href=\"psysml:96dfc0dc-2946-48da-b50d-9c346f08b52f\" target=\"_top\" title=\"psysml:96dfc0dc-2946-48da-b50d-9c346f08b52f\" xlink:actuate=\"onRequest\" xlink:href=\"psysml:96dfc0dc-2946-48da-b50d-9c346f08b52f\" xlink:show=\"new\" xlink:title=\"psysml:96dfc0dc-2946-48da-b50d-9c346f08b52f\" xlink:type=\"simple\"><rect fill=\"#FFFFFF\" height=\"45.9375\" id=\"E8\" rx=\"10\" ry=\"10\" style=\"stroke: #383838; stroke-width: 1.5;\" width=\"42\" x=\"175.5\" y=\"41\"/><text fill=\"#000000\" font-family=\"sans-serif\" font-size=\"12\" font-style=\"italic\" lengthAdjust=\"spacingAndGlyphs\" textLength=\"40\" x=\"176.5\" y=\"57.1387\">«view»</text><text fill=\"#000000\" font-family=\"sans-serif\" font-size=\"12\" lengthAdjust=\"spacingAndGlyphs\" textLength=\"22\" x=\"185.5\" y=\"71.1074\">v: V</text><line style=\"stroke: #383838; stroke-width: 1.5;\" x1=\"176.5\" x2=\"216.5\" y1=\"78.9375\" y2=\"78.9375\"/></a><!--MD5=[fd4143e9d270a159db93a4ea2a975926]\n",
       "class E9--><a href=\"psysml:fc5eb428-4a03-41d1-992b-aff2a13d3fb9\" target=\"_top\" title=\"psysml:fc5eb428-4a03-41d1-992b-aff2a13d3fb9\" xlink:actuate=\"onRequest\" xlink:href=\"psysml:fc5eb428-4a03-41d1-992b-aff2a13d3fb9\" xlink:show=\"new\" xlink:title=\"psysml:fc5eb428-4a03-41d1-992b-aff2a13d3fb9\" xlink:type=\"simple\"><rect fill=\"#FFFFFF\" height=\"45.9375\" id=\"E9\" rx=\"10\" ry=\"10\" style=\"stroke: #383838; stroke-width: 1.5;\" width=\"77\" x=\"307\" y=\"41\"/><text fill=\"#000000\" font-family=\"sans-serif\" font-size=\"12\" font-style=\"italic\" lengthAdjust=\"spacingAndGlyphs\" textLength=\"75\" x=\"308\" y=\"57.1387\">«rendering»</text><text fill=\"#000000\" font-family=\"sans-serif\" font-size=\"12\" lengthAdjust=\"spacingAndGlyphs\" textLength=\"13\" x=\"339\" y=\"71.1074\">r1</text><line style=\"stroke: #383838; stroke-width: 1.5;\" x1=\"308\" x2=\"383\" y1=\"78.9375\" y2=\"78.9375\"/></a><a href=\"psysml:6d9f5c34-02db-4c22-b8ae-ed1a072d5ac7\" target=\"_top\" title=\"psysml:6d9f5c34-02db-4c22-b8ae-ed1a072d5ac7\" xlink:actuate=\"onRequest\" xlink:href=\"psysml:6d9f5c34-02db-4c22-b8ae-ed1a072d5ac7\" xlink:show=\"new\" xlink:title=\"psysml:6d9f5c34-02db-4c22-b8ae-ed1a072d5ac7\" xlink:type=\"simple\"><polygon fill=\"#FFFFFF\" points=\"50,159.5,66,159.5,73,181.7969,80,181.7969,80,212.0938,50,212.0938,50,159.5\" style=\"stroke: #000000; stroke-width: 1.5;\"/><line style=\"stroke: #000000; stroke-width: 1.5;\" x1=\"50\" x2=\"73\" y1=\"181.7969\" y2=\"181.7969\"/><text fill=\"#000000\" font-family=\"sans-serif\" font-size=\"14\" font-weight=\"bold\" lengthAdjust=\"spacingAndGlyphs\" textLength=\"10\" x=\"54\" y=\"174.4951\">P</text></a><!--MD5=[85d356282659285ab4b2cfe2f634dd2b]\n",
       "reverse link E5 to E6--><a href=\"psysml:b39da276-6b98-4aad-85bf-f9ecfc55683d\" target=\"_top\" title=\"psysml:b39da276-6b98-4aad-85bf-f9ecfc55683d\" xlink:actuate=\"onRequest\" xlink:href=\"psysml:b39da276-6b98-4aad-85bf-f9ecfc55683d\" xlink:show=\"new\" xlink:title=\"psysml:b39da276-6b98-4aad-85bf-f9ecfc55683d\" xlink:type=\"simple\"><path d=\"M95.16,116.05 C113.15,136.34 136.77,162.8 158,186 C163.01,191.48 168.45,197.33 173.59,202.82 \" fill=\"none\" id=\"E5&lt;-E6\" style=\"stroke: #383838; stroke-width: 1.0;\"/><polygon fill=\"#383838\" points=\"86.31,106.05,87.2929,113.1938,94.2652,115.0342,93.2823,107.8904,86.31,106.05\" style=\"stroke: #383838; stroke-width: 1.0;\"/></a><!--MD5=[a717450b82c80b9240a525fa862496af]\n",
       "link E6 to E3--><a href=\"psysml:7b3d769f-4c56-4413-aa9f-0104e9507d6b\" target=\"_top\" title=\"psysml:7b3d769f-4c56-4413-aa9f-0104e9507d6b\" xlink:actuate=\"onRequest\" xlink:href=\"psysml:7b3d769f-4c56-4413-aa9f-0104e9507d6b\" xlink:show=\"new\" xlink:title=\"psysml:7b3d769f-4c56-4413-aa9f-0104e9507d6b\" xlink:type=\"simple\"><path d=\"M233.84,226 C246.67,226 261.54,226 276.15,226 \" fill=\"none\" id=\"E6-&gt;E3\" style=\"stroke: #383838; stroke-width: 1.0;\"/><polygon fill=\"#FFFFFF\" points=\"296.38,226,277.38,233,277.38,219,296.38,226\" style=\"stroke: #383838; stroke-width: 1.0;\"/><ellipse cx=\"271.68\" cy=\"231\" fill=\"#383838\" rx=\"2\" ry=\"2\" style=\"stroke: #383838; stroke-width: 1.0;\"/><ellipse cx=\"271.68\" cy=\"221\" fill=\"#383838\" rx=\"2\" ry=\"2\" style=\"stroke: #383838; stroke-width: 1.0;\"/></a><!--MD5=[6bdd27f9905911a7e892a3dc65cf6b7c]\n",
       "link E7 to E4--><a href=\"psysml:f768404d-501b-4614-8ab9-e2515f32fafd\" target=\"_top\" title=\"psysml:f768404d-501b-4614-8ab9-e2515f32fafd\" xlink:actuate=\"onRequest\" xlink:href=\"psysml:f768404d-501b-4614-8ab9-e2515f32fafd\" xlink:show=\"new\" xlink:title=\"psysml:f768404d-501b-4614-8ab9-e2515f32fafd\" xlink:type=\"simple\"><path d=\"M235.36,145 C247.39,145 261.1,145 274.65,145 \" fill=\"none\" id=\"E7-&gt;E4\" style=\"stroke: #383838; stroke-width: 1.0;\"/><polygon fill=\"#FFFFFF\" points=\"294.85,145,275.85,152,275.85,138,294.85,145\" style=\"stroke: #383838; stroke-width: 1.0;\"/><ellipse cx=\"270.15\" cy=\"150\" fill=\"#383838\" rx=\"2\" ry=\"2\" style=\"stroke: #383838; stroke-width: 1.0;\"/><ellipse cx=\"270.15\" cy=\"140\" fill=\"#383838\" rx=\"2\" ry=\"2\" style=\"stroke: #383838; stroke-width: 1.0;\"/></a><!--MD5=[452b418e7f8a40397a49b8c0a78acc5b]\n",
       "reverse link E5 to E7--><a href=\"psysml:5db0ac38-23f9-426f-a666-7fa33ad35708\" target=\"_top\" title=\"psysml:5db0ac38-23f9-426f-a666-7fa33ad35708\" xlink:actuate=\"onRequest\" xlink:href=\"psysml:5db0ac38-23f9-426f-a666-7fa33ad35708\" xlink:show=\"new\" xlink:title=\"psysml:5db0ac38-23f9-426f-a666-7fa33ad35708\" xlink:type=\"simple\"><path d=\"M110.02,104.08 C125.57,111.52 142.91,119.82 157.88,126.99 \" fill=\"none\" id=\"E5&lt;-E7\" style=\"stroke: #383838; stroke-width: 1.0;\"/><polygon fill=\"#383838\" points=\"98.01,98.33,101.6919,104.5303,108.8314,103.5163,105.1495,97.316,98.01,98.33\" style=\"stroke: #383838; stroke-width: 1.0;\"/><text fill=\"#000000\" font-family=\"sans-serif\" font-size=\"13\" lengthAdjust=\"spacingAndGlyphs\" textLength=\"24\" x=\"126.1288\" y=\"137.4625\">0..1</text></a><!--MD5=[1ccb2481ffa92f8d51a74ee30c51832a]\n",
       "link E8 to E5--><a href=\"psysml:2ecacd66-b174-4fa5-a1f0-5f98a8e6e629\" target=\"_top\" title=\"psysml:2ecacd66-b174-4fa5-a1f0-5f98a8e6e629\" xlink:actuate=\"onRequest\" xlink:href=\"psysml:2ecacd66-b174-4fa5-a1f0-5f98a8e6e629\" xlink:show=\"new\" xlink:title=\"psysml:2ecacd66-b174-4fa5-a1f0-5f98a8e6e629\" xlink:type=\"simple\"><path d=\"M175.15,56.84 C159.72,56.26 137.8,58.44 117.65,62.17 \" fill=\"none\" id=\"E8-&gt;E5\" style=\"stroke: #383838; stroke-width: 1.0;\"/><polygon fill=\"#FFFFFF\" points=\"98.01,66.47,115.0695,55.5625,118.0684,69.2376,98.01,66.47\" style=\"stroke: #383838; stroke-width: 1.0;\"/><ellipse cx=\"121.0656\" cy=\"56.2951\" fill=\"#383838\" rx=\"2\" ry=\"2\" style=\"stroke: #383838; stroke-width: 1.0;\"/><ellipse cx=\"123.2077\" cy=\"66.063\" fill=\"#383838\" rx=\"2\" ry=\"2\" style=\"stroke: #383838; stroke-width: 1.0;\"/></a><!--MD5=[827760032d119d06bbc92f75530fd7ae]\n",
       "reverse link E5 to E8--><a href=\"psysml:96dfc0dc-2946-48da-b50d-9c346f08b52f\" target=\"_top\" title=\"psysml:96dfc0dc-2946-48da-b50d-9c346f08b52f\" xlink:actuate=\"onRequest\" xlink:href=\"psysml:96dfc0dc-2946-48da-b50d-9c346f08b52f\" xlink:show=\"new\" xlink:title=\"psysml:96dfc0dc-2946-48da-b50d-9c346f08b52f\" xlink:type=\"simple\"><path d=\"M111.07,88.6 C132.9,86.63 158.02,82.06 175.15,76.57 \" fill=\"none\" id=\"E5&lt;-E8\" style=\"stroke: #383838; stroke-width: 1.0;\"/><polygon fill=\"#383838\" points=\"98.01,89.48,104.2646,93.0688,109.983,88.6756,103.7284,85.0868,98.01,89.48\" style=\"stroke: #383838; stroke-width: 1.0;\"/><text fill=\"#000000\" font-family=\"sans-serif\" font-size=\"13\" lengthAdjust=\"spacingAndGlyphs\" textLength=\"7\" x=\"160.5397\" y=\"94.8132\">*</text></a><!--MD5=[22f5b4bae7e060dce8a1c8021efdb95b]\n",
       "reverse link E8 to E9--><a href=\"psysml:fc5eb428-4a03-41d1-992b-aff2a13d3fb9\" target=\"_top\" title=\"psysml:fc5eb428-4a03-41d1-992b-aff2a13d3fb9\" xlink:actuate=\"onRequest\" xlink:href=\"psysml:fc5eb428-4a03-41d1-992b-aff2a13d3fb9\" xlink:show=\"new\" xlink:title=\"psysml:fc5eb428-4a03-41d1-992b-aff2a13d3fb9\" xlink:type=\"simple\"><path d=\"M230.63,64 C253.25,64 283.25,64 306.78,64 \" fill=\"none\" id=\"E8&lt;-E9\" style=\"stroke: #383838; stroke-width: 1.0;\"/><polygon fill=\"#383838\" points=\"217.63,64,223.63,68,229.63,64,223.63,60,217.63,64\" style=\"stroke: #383838; stroke-width: 1.0;\"/></a><!--MD5=[2ea1d40ae59f242fb54e15121bbbffdb]\n",
       "@startuml\r\n",
       "left to right direction\r\n",
       "skinparam monochrome true\r\n",
       "skinparam classbackgroundcolor white\r\n",
       "skinparam shadowing false\r\n",
       "skinparam wrapWidth 300\r\n",
       "hide circle\r\n",
       "\r\n",
       "package \"ViewTest\" as E1  [[psysml:fb02ed11-6398-4cea-b135-53d0cca9c478 ]]  {\r\n",
       "package \"P\" as E2  [[psysml:6d9f5c34-02db-4c22-b8ae-ed1a072d5ac7 ]]  {\r\n",
       "}\r\n",
       "comp def \"VP\" as E3  <<(T,blue)viewpoint def>> [[psysml:436e526f-0cc5-474d-8f19-4580d940df20 ]] {\r\n",
       "}\r\n",
       "comp def \"R\" as E4  <<(T,blue)rendering def>> [[psysml:053dc08e-a8e7-4770-acc6-30068883d6d6 ]] {\r\n",
       "}\r\n",
       "comp def \"V\" as E5  <<(T,blue)view def>> [[psysml:2fa1d21f-0378-4832-ab0e-3c490c491fc9 ]] {\r\n",
       "}\r\n",
       "comp usage \"vp: VP\" as E6  <<(T,blue)viewpoint>> [[psysml:b39da276-6b98-4aad-85bf-f9ecfc55683d ]] {\r\n",
       "}\r\n",
       "comp usage \"r: R\" as E7  <<(T,blue)rendering>> [[psysml:5db0ac38-23f9-426f-a666-7fa33ad35708 ]] {\r\n",
       "}\r\n",
       "comp usage \"v: V\" as E8  <<(T,blue)view>> [[psysml:96dfc0dc-2946-48da-b50d-9c346f08b52f ]] {\r\n",
       "}\r\n",
       "comp usage \"r1\" as E9  <<(T,blue)rendering>> [[psysml:fc5eb428-4a03-41d1-992b-aff2a13d3fb9 ]] {\r\n",
       "}\r\n",
       "E5 *- - E6 [[psysml:b39da276-6b98-4aad-85bf-f9ecfc55683d ]] \r\n",
       "E6 - -:|> E3 [[psysml:7b3d769f-4c56-4413-aa9f-0104e9507d6b ]] \r\n",
       "E7 - -:|> E4 [[psysml:f768404d-501b-4614-8ab9-e2515f32fafd ]] \r\n",
       "E5 *- - \"0..1\"E7 [[psysml:5db0ac38-23f9-426f-a666-7fa33ad35708 ]] \r\n",
       "E8 - -:|> E5 [[psysml:2ecacd66-b174-4fa5-a1f0-5f98a8e6e629 ]] \r\n",
       "E5 *- - \"*\"E8 [[psysml:96dfc0dc-2946-48da-b50d-9c346f08b52f ]] \r\n",
       "E8 *- - E9 [[psysml:fc5eb428-4a03-41d1-992b-aff2a13d3fb9 ]] \r\n",
       "}\r\n",
       "@enduml\r\n",
       "\n",
       "PlantUML version 1.2020.13(Sat Jun 13 12:26:38 UTC 2020)\n",
       "(EPL source distribution)\n",
       "Java Runtime: OpenJDK Runtime Environment\n",
       "JVM: OpenJDK 64-Bit Server VM\n",
       "Default Encoding: UTF-8\n",
       "Language: en\n",
       "Country: null\n",
       "--></g></svg>"
      ]
     },
     "execution_count": 22,
     "metadata": {},
     "output_type": "execute_result"
    }
   ],
   "source": [
    "%viz --style=\"LR\" --view=\"MIXED\" \"ViewTest\""
   ]
  },
  {
   "cell_type": "code",
   "execution_count": 23,
   "id": "material-steering",
   "metadata": {
    "execution": {
     "iopub.execute_input": "2021-03-24T16:32:12.497273Z",
     "iopub.status.busy": "2021-03-24T16:32:12.496831Z",
     "iopub.status.idle": "2021-03-24T16:32:12.536638Z",
     "shell.execute_reply": "2021-03-24T16:32:12.535076Z"
    }
   },
   "outputs": [
    {
     "data": {
      "image/svg+xml": [
       "<?xml version=\"1.0\" encoding=\"UTF-8\" standalone=\"no\"?><svg xmlns=\"http://www.w3.org/2000/svg\" xmlns:xlink=\"http://www.w3.org/1999/xlink\" contentScriptType=\"application/ecmascript\" contentStyleType=\"text/css\" height=\"334px\" preserveAspectRatio=\"none\" style=\"width:417px;height:334px;\" version=\"1.1\" viewBox=\"0 0 417 334\" width=\"417px\" zoomAndPan=\"magnify\"><defs><filter height=\"300%\" id=\"fni1o8uxfyttl\" width=\"300%\" x=\"-1\" y=\"-1\"><feGaussianBlur result=\"blurOut\" stdDeviation=\"2.0\"/><feColorMatrix in=\"blurOut\" result=\"blurOut2\" type=\"matrix\" values=\"0 0 0 0 0 0 0 0 0 0 0 0 0 0 0 0 0 0 .4 0\"/><feOffset dx=\"4.0\" dy=\"4.0\" in=\"blurOut2\" result=\"blurOut3\"/><feBlend in=\"SourceGraphic\" in2=\"blurOut3\" mode=\"normal\"/></filter></defs><g><!--MD5=[fbc87193dbaf4d95561dea2c320d4a47]\n",
       "cluster E1--><a href=\"psysml:fb02ed11-6398-4cea-b135-53d0cca9c478\" target=\"_top\" title=\"psysml:fb02ed11-6398-4cea-b135-53d0cca9c478\" xlink:actuate=\"onRequest\" xlink:href=\"psysml:fb02ed11-6398-4cea-b135-53d0cca9c478\" xlink:show=\"new\" xlink:title=\"psysml:fb02ed11-6398-4cea-b135-53d0cca9c478\" xlink:type=\"simple\"><polygon fill=\"#FFFFFF\" filter=\"url(#fni1o8uxfyttl)\" points=\"16,6,96,6,103,28.2969,395,28.2969,395,322,16,322,16,6\" style=\"stroke: #000000; stroke-width: 1.5;\"/><line style=\"stroke: #000000; stroke-width: 1.5;\" x1=\"16\" x2=\"103\" y1=\"28.2969\" y2=\"28.2969\"/><text fill=\"#000000\" font-family=\"sans-serif\" font-size=\"14\" font-weight=\"bold\" lengthAdjust=\"spacingAndGlyphs\" textLength=\"74\" x=\"20\" y=\"20.9951\">ViewTest</text></a><!--MD5=[09b614a08d8cba4a07c9adeb5e0fee81]\n",
       "class E3--><a href=\"psysml:436e526f-0cc5-474d-8f19-4580d940df20\" target=\"_top\" title=\"psysml:436e526f-0cc5-474d-8f19-4580d940df20\" xlink:actuate=\"onRequest\" xlink:href=\"psysml:436e526f-0cc5-474d-8f19-4580d940df20\" xlink:show=\"new\" xlink:title=\"psysml:436e526f-0cc5-474d-8f19-4580d940df20\" xlink:type=\"simple\"><rect fill=\"#FEFECE\" filter=\"url(#fni1o8uxfyttl)\" height=\"45.9375\" id=\"E3\" style=\"stroke: #A80036; stroke-width: 1.5;\" width=\"98\" x=\"32\" y=\"260\"/><text fill=\"#000000\" font-family=\"sans-serif\" font-size=\"12\" font-style=\"italic\" lengthAdjust=\"spacingAndGlyphs\" textLength=\"96\" x=\"33\" y=\"276.1387\">«viewpoint def»</text><text fill=\"#000000\" font-family=\"sans-serif\" font-size=\"12\" lengthAdjust=\"spacingAndGlyphs\" textLength=\"16\" x=\"73\" y=\"290.1074\">VP</text><line style=\"stroke: #A80036; stroke-width: 1.5;\" x1=\"33\" x2=\"129\" y1=\"297.9375\" y2=\"297.9375\"/></a><!--MD5=[ebbe1d658d1005bcc118a6aa81145e00]\n",
       "class E4--><a href=\"psysml:053dc08e-a8e7-4770-acc6-30068883d6d6\" target=\"_top\" title=\"psysml:053dc08e-a8e7-4770-acc6-30068883d6d6\" xlink:actuate=\"onRequest\" xlink:href=\"psysml:053dc08e-a8e7-4770-acc6-30068883d6d6\" xlink:show=\"new\" xlink:title=\"psysml:053dc08e-a8e7-4770-acc6-30068883d6d6\" xlink:type=\"simple\"><rect fill=\"#FEFECE\" filter=\"url(#fni1o8uxfyttl)\" height=\"45.9375\" id=\"E4\" style=\"stroke: #A80036; stroke-width: 1.5;\" width=\"101\" x=\"165.5\" y=\"260\"/><text fill=\"#000000\" font-family=\"sans-serif\" font-size=\"12\" font-style=\"italic\" lengthAdjust=\"spacingAndGlyphs\" textLength=\"99\" x=\"166.5\" y=\"276.1387\">«rendering def»</text><text fill=\"#000000\" font-family=\"sans-serif\" font-size=\"12\" lengthAdjust=\"spacingAndGlyphs\" textLength=\"8\" x=\"212\" y=\"290.1074\">R</text><line style=\"stroke: #A80036; stroke-width: 1.5;\" x1=\"166.5\" x2=\"265.5\" y1=\"297.9375\" y2=\"297.9375\"/></a><!--MD5=[270fce915f116d4de14055a7c1d9a0f3]\n",
       "class E5--><a href=\"psysml:2fa1d21f-0378-4832-ab0e-3c490c491fc9\" target=\"_top\" title=\"psysml:2fa1d21f-0378-4832-ab0e-3c490c491fc9\" xlink:actuate=\"onRequest\" xlink:href=\"psysml:2fa1d21f-0378-4832-ab0e-3c490c491fc9\" xlink:show=\"new\" xlink:title=\"psysml:2fa1d21f-0378-4832-ab0e-3c490c491fc9\" xlink:type=\"simple\"><rect fill=\"#FEFECE\" filter=\"url(#fni1o8uxfyttl)\" height=\"45.9375\" id=\"E5\" style=\"stroke: #A80036; stroke-width: 1.5;\" width=\"66\" x=\"230\" y=\"44.5\"/><text fill=\"#000000\" font-family=\"sans-serif\" font-size=\"12\" font-style=\"italic\" lengthAdjust=\"spacingAndGlyphs\" textLength=\"64\" x=\"231\" y=\"60.6387\">«view def»</text><text fill=\"#000000\" font-family=\"sans-serif\" font-size=\"12\" lengthAdjust=\"spacingAndGlyphs\" textLength=\"8\" x=\"259\" y=\"74.6074\">V</text><line style=\"stroke: #A80036; stroke-width: 1.5;\" x1=\"231\" x2=\"295\" y1=\"82.4375\" y2=\"82.4375\"/></a><!--MD5=[60a26617385b1d2d0262a64233df1f8d]\n",
       "class E6--><a href=\"psysml:b39da276-6b98-4aad-85bf-f9ecfc55683d\" target=\"_top\" title=\"psysml:b39da276-6b98-4aad-85bf-f9ecfc55683d\" xlink:actuate=\"onRequest\" xlink:href=\"psysml:b39da276-6b98-4aad-85bf-f9ecfc55683d\" xlink:show=\"new\" xlink:title=\"psysml:b39da276-6b98-4aad-85bf-f9ecfc55683d\" xlink:type=\"simple\"><rect fill=\"#FEFECE\" filter=\"url(#fni1o8uxfyttl)\" height=\"45.9375\" id=\"E6\" rx=\"10\" ry=\"10\" style=\"stroke: #A80036; stroke-width: 1.5;\" width=\"74\" x=\"56\" y=\"154\"/><text fill=\"#000000\" font-family=\"sans-serif\" font-size=\"12\" font-style=\"italic\" lengthAdjust=\"spacingAndGlyphs\" textLength=\"72\" x=\"57\" y=\"170.1387\">«viewpoint»</text><text fill=\"#000000\" font-family=\"sans-serif\" font-size=\"12\" lengthAdjust=\"spacingAndGlyphs\" textLength=\"38\" x=\"74\" y=\"184.1074\">vp: VP</text><line style=\"stroke: #A80036; stroke-width: 1.5;\" x1=\"57\" x2=\"129\" y1=\"191.9375\" y2=\"191.9375\"/></a><!--MD5=[2156ba9850f5573cc1fc38a6a4b2f02b]\n",
       "class E7--><a href=\"psysml:5db0ac38-23f9-426f-a666-7fa33ad35708\" target=\"_top\" title=\"psysml:5db0ac38-23f9-426f-a666-7fa33ad35708\" xlink:actuate=\"onRequest\" xlink:href=\"psysml:5db0ac38-23f9-426f-a666-7fa33ad35708\" xlink:show=\"new\" xlink:title=\"psysml:5db0ac38-23f9-426f-a666-7fa33ad35708\" xlink:type=\"simple\"><rect fill=\"#FEFECE\" filter=\"url(#fni1o8uxfyttl)\" height=\"45.9375\" id=\"E7\" rx=\"10\" ry=\"10\" style=\"stroke: #A80036; stroke-width: 1.5;\" width=\"77\" x=\"177.5\" y=\"154\"/><text fill=\"#000000\" font-family=\"sans-serif\" font-size=\"12\" font-style=\"italic\" lengthAdjust=\"spacingAndGlyphs\" textLength=\"75\" x=\"178.5\" y=\"170.1387\">«rendering»</text><text fill=\"#000000\" font-family=\"sans-serif\" font-size=\"12\" lengthAdjust=\"spacingAndGlyphs\" textLength=\"21\" x=\"205.5\" y=\"184.1074\">r: R</text><line style=\"stroke: #A80036; stroke-width: 1.5;\" x1=\"178.5\" x2=\"253.5\" y1=\"191.9375\" y2=\"191.9375\"/></a><!--MD5=[b9389687b975829384b498ac4b7476b2]\n",
       "class E8--><a href=\"psysml:96dfc0dc-2946-48da-b50d-9c346f08b52f\" target=\"_top\" title=\"psysml:96dfc0dc-2946-48da-b50d-9c346f08b52f\" xlink:actuate=\"onRequest\" xlink:href=\"psysml:96dfc0dc-2946-48da-b50d-9c346f08b52f\" xlink:show=\"new\" xlink:title=\"psysml:96dfc0dc-2946-48da-b50d-9c346f08b52f\" xlink:type=\"simple\"><rect fill=\"#FEFECE\" filter=\"url(#fni1o8uxfyttl)\" height=\"45.9375\" id=\"E8\" rx=\"10\" ry=\"10\" style=\"stroke: #A80036; stroke-width: 1.5;\" width=\"42\" x=\"290\" y=\"154\"/><text fill=\"#000000\" font-family=\"sans-serif\" font-size=\"12\" font-style=\"italic\" lengthAdjust=\"spacingAndGlyphs\" textLength=\"40\" x=\"291\" y=\"170.1387\">«view»</text><text fill=\"#000000\" font-family=\"sans-serif\" font-size=\"12\" lengthAdjust=\"spacingAndGlyphs\" textLength=\"22\" x=\"300\" y=\"184.1074\">v: V</text><line style=\"stroke: #A80036; stroke-width: 1.5;\" x1=\"291\" x2=\"331\" y1=\"191.9375\" y2=\"191.9375\"/></a><!--MD5=[fd4143e9d270a159db93a4ea2a975926]\n",
       "class E9--><a href=\"psysml:fc5eb428-4a03-41d1-992b-aff2a13d3fb9\" target=\"_top\" title=\"psysml:fc5eb428-4a03-41d1-992b-aff2a13d3fb9\" xlink:actuate=\"onRequest\" xlink:href=\"psysml:fc5eb428-4a03-41d1-992b-aff2a13d3fb9\" xlink:show=\"new\" xlink:title=\"psysml:fc5eb428-4a03-41d1-992b-aff2a13d3fb9\" xlink:type=\"simple\"><rect fill=\"#FEFECE\" filter=\"url(#fni1o8uxfyttl)\" height=\"45.9375\" id=\"E9\" rx=\"10\" ry=\"10\" style=\"stroke: #A80036; stroke-width: 1.5;\" width=\"77\" x=\"301.5\" y=\"260\"/><text fill=\"#000000\" font-family=\"sans-serif\" font-size=\"12\" font-style=\"italic\" lengthAdjust=\"spacingAndGlyphs\" textLength=\"75\" x=\"302.5\" y=\"276.1387\">«rendering»</text><text fill=\"#000000\" font-family=\"sans-serif\" font-size=\"12\" lengthAdjust=\"spacingAndGlyphs\" textLength=\"13\" x=\"333.5\" y=\"290.1074\">r1</text><line style=\"stroke: #A80036; stroke-width: 1.5;\" x1=\"302.5\" x2=\"377.5\" y1=\"297.9375\" y2=\"297.9375\"/></a><a href=\"psysml:6d9f5c34-02db-4c22-b8ae-ed1a072d5ac7\" target=\"_top\" title=\"psysml:6d9f5c34-02db-4c22-b8ae-ed1a072d5ac7\" xlink:actuate=\"onRequest\" xlink:href=\"psysml:6d9f5c34-02db-4c22-b8ae-ed1a072d5ac7\" xlink:show=\"new\" xlink:title=\"psysml:6d9f5c34-02db-4c22-b8ae-ed1a072d5ac7\" xlink:type=\"simple\"><polygon fill=\"#FFFFFF\" filter=\"url(#fni1o8uxfyttl)\" points=\"122,41,138,41,145,63.2969,152,63.2969,152,93.5938,122,93.5938,122,41\" style=\"stroke: #000000; stroke-width: 1.5;\"/><line style=\"stroke: #000000; stroke-width: 1.5;\" x1=\"122\" x2=\"145\" y1=\"63.2969\" y2=\"63.2969\"/><text fill=\"#000000\" font-family=\"sans-serif\" font-size=\"14\" font-weight=\"bold\" lengthAdjust=\"spacingAndGlyphs\" textLength=\"10\" x=\"126\" y=\"55.9951\">P</text></a><!--MD5=[85d356282659285ab4b2cfe2f634dd2b]\n",
       "reverse link E5 to E6--><a href=\"psysml:b39da276-6b98-4aad-85bf-f9ecfc55683d\" target=\"_top\" title=\"psysml:b39da276-6b98-4aad-85bf-f9ecfc55683d\" xlink:actuate=\"onRequest\" xlink:href=\"psysml:b39da276-6b98-4aad-85bf-f9ecfc55683d\" xlink:show=\"new\" xlink:title=\"psysml:b39da276-6b98-4aad-85bf-f9ecfc55683d\" xlink:type=\"simple\"><path d=\"M218.61,96.57 C190.28,114.48 154.1,137.36 127.85,153.96 \" fill=\"none\" id=\"E5&lt;-E6\" style=\"stroke: #A80036; stroke-width: 1.0;\"/><polygon fill=\"#A80036\" points=\"229.82,89.48,222.6111,89.2999,219.6723,95.8849,226.8811,96.0651,229.82,89.48\" style=\"stroke: #A80036; stroke-width: 1.0;\"/></a><!--MD5=[a717450b82c80b9240a525fa862496af]\n",
       "link E6 to E3--><a href=\"psysml:7b3d769f-4c56-4413-aa9f-0104e9507d6b\" target=\"_top\" title=\"psysml:7b3d769f-4c56-4413-aa9f-0104e9507d6b\" xlink:actuate=\"onRequest\" xlink:href=\"psysml:7b3d769f-4c56-4413-aa9f-0104e9507d6b\" xlink:show=\"new\" xlink:title=\"psysml:7b3d769f-4c56-4413-aa9f-0104e9507d6b\" xlink:type=\"simple\"><path d=\"M90.46,200.06 C89.12,211.64 87.44,226.23 85.86,239.87 \" fill=\"none\" id=\"E6-&gt;E3\" style=\"stroke: #A80036; stroke-width: 1.0;\"/><polygon fill=\"#FFFFFF\" points=\"83.54,259.98,78.757,240.3046,92.6653,241.9044,83.54,259.98\" style=\"stroke: #A80036; stroke-width: 1.0;\"/><ellipse cx=\"81.3953\" cy=\"234.8704\" fill=\"#A80036\" rx=\"2\" ry=\"2\" style=\"stroke: #A80036; stroke-width: 1.0;\"/><ellipse cx=\"91.3298\" cy=\"236.0132\" fill=\"#A80036\" rx=\"2\" ry=\"2\" style=\"stroke: #A80036; stroke-width: 1.0;\"/></a><!--MD5=[6bdd27f9905911a7e892a3dc65cf6b7c]\n",
       "link E7 to E4--><a href=\"psysml:f768404d-501b-4614-8ab9-e2515f32fafd\" target=\"_top\" title=\"psysml:f768404d-501b-4614-8ab9-e2515f32fafd\" xlink:actuate=\"onRequest\" xlink:href=\"psysml:f768404d-501b-4614-8ab9-e2515f32fafd\" xlink:show=\"new\" xlink:title=\"psysml:f768404d-501b-4614-8ab9-e2515f32fafd\" xlink:type=\"simple\"><path d=\"M216,200.06 C216,211.64 216,226.23 216,239.87 \" fill=\"none\" id=\"E7-&gt;E4\" style=\"stroke: #A80036; stroke-width: 1.0;\"/><polygon fill=\"#FFFFFF\" points=\"216,259.98,209,240.98,223,240.98,216,259.98\" style=\"stroke: #A80036; stroke-width: 1.0;\"/><ellipse cx=\"211\" cy=\"235.28\" fill=\"#A80036\" rx=\"2\" ry=\"2\" style=\"stroke: #A80036; stroke-width: 1.0;\"/><ellipse cx=\"221\" cy=\"235.28\" fill=\"#A80036\" rx=\"2\" ry=\"2\" style=\"stroke: #A80036; stroke-width: 1.0;\"/></a><!--MD5=[452b418e7f8a40397a49b8c0a78acc5b]\n",
       "reverse link E5 to E7--><a href=\"psysml:5db0ac38-23f9-426f-a666-7fa33ad35708\" target=\"_top\" title=\"psysml:5db0ac38-23f9-426f-a666-7fa33ad35708\" xlink:actuate=\"onRequest\" xlink:href=\"psysml:5db0ac38-23f9-426f-a666-7fa33ad35708\" xlink:show=\"new\" xlink:title=\"psysml:5db0ac38-23f9-426f-a666-7fa33ad35708\" xlink:type=\"simple\"><path d=\"M248.1,102.57 C240.81,119.26 232.23,138.89 225.77,153.65 \" fill=\"none\" id=\"E5&lt;-E7\" style=\"stroke: #A80036; stroke-width: 1.0;\"/><polygon fill=\"#A80036\" points=\"253.38,90.51,247.31,94.4029,248.5688,101.5033,254.6388,97.6104,253.38,90.51\" style=\"stroke: #A80036; stroke-width: 1.0;\"/><text fill=\"#000000\" font-family=\"sans-serif\" font-size=\"13\" lengthAdjust=\"spacingAndGlyphs\" textLength=\"24\" x=\"201.1986\" y=\"142.8366\">0..1</text></a><!--MD5=[1ccb2481ffa92f8d51a74ee30c51832a]\n",
       "link E8 to E5--><a href=\"psysml:2ecacd66-b174-4fa5-a1f0-5f98a8e6e629\" target=\"_top\" title=\"psysml:2ecacd66-b174-4fa5-a1f0-5f98a8e6e629\" xlink:actuate=\"onRequest\" xlink:href=\"psysml:2ecacd66-b174-4fa5-a1f0-5f98a8e6e629\" xlink:show=\"new\" xlink:title=\"psysml:2ecacd66-b174-4fa5-a1f0-5f98a8e6e629\" xlink:type=\"simple\"><path d=\"M312.22,153.65 C308.53,140.48 301.55,123.44 293.74,108.07 \" fill=\"none\" id=\"E8-&gt;E5\" style=\"stroke: #A80036; stroke-width: 1.0;\"/><polygon fill=\"#FFFFFF\" points=\"283.97,90.51,299.3209,103.7142,287.0851,110.5174,283.97,90.51\" style=\"stroke: #A80036; stroke-width: 1.0;\"/><ellipse cx=\"300.3428\" cy=\"109.6678\" fill=\"#A80036\" rx=\"2\" ry=\"2\" style=\"stroke: #A80036; stroke-width: 1.0;\"/><ellipse cx=\"291.6029\" cy=\"114.5273\" fill=\"#A80036\" rx=\"2\" ry=\"2\" style=\"stroke: #A80036; stroke-width: 1.0;\"/></a><!--MD5=[827760032d119d06bbc92f75530fd7ae]\n",
       "reverse link E5 to E8--><a href=\"psysml:96dfc0dc-2946-48da-b50d-9c346f08b52f\" target=\"_top\" title=\"psysml:96dfc0dc-2946-48da-b50d-9c346f08b52f\" xlink:actuate=\"onRequest\" xlink:href=\"psysml:96dfc0dc-2946-48da-b50d-9c346f08b52f\" xlink:show=\"new\" xlink:title=\"psysml:96dfc0dc-2946-48da-b50d-9c346f08b52f\" xlink:type=\"simple\"><path d=\"M266.44,103.07 C272.49,119.65 281.62,139.03 290.44,153.65 \" fill=\"none\" id=\"E5&lt;-E8\" style=\"stroke: #A80036; stroke-width: 1.0;\"/><polygon fill=\"#A80036\" points=\"262.31,90.51,260.3836,97.459,266.0572,101.9099,267.9836,94.9609,262.31,90.51\" style=\"stroke: #A80036; stroke-width: 1.0;\"/><text fill=\"#000000\" font-family=\"sans-serif\" font-size=\"13\" lengthAdjust=\"spacingAndGlyphs\" textLength=\"7\" x=\"277.2746\" y=\"142.8366\">*</text></a><!--MD5=[22f5b4bae7e060dce8a1c8021efdb95b]\n",
       "reverse link E8 to E9--><a href=\"psysml:fc5eb428-4a03-41d1-992b-aff2a13d3fb9\" target=\"_top\" title=\"psysml:fc5eb428-4a03-41d1-992b-aff2a13d3fb9\" xlink:actuate=\"onRequest\" xlink:href=\"psysml:fc5eb428-4a03-41d1-992b-aff2a13d3fb9\" xlink:show=\"new\" xlink:title=\"psysml:fc5eb428-4a03-41d1-992b-aff2a13d3fb9\" xlink:type=\"simple\"><path d=\"M320.75,212.96 C325.08,228.51 330.05,246.33 333.86,259.98 \" fill=\"none\" id=\"E8&lt;-E9\" style=\"stroke: #A80036; stroke-width: 1.0;\"/><polygon fill=\"#A80036\" points=\"317.15,200.06,314.9066,206.9133,320.3699,211.6199,322.6133,204.7667,317.15,200.06\" style=\"stroke: #A80036; stroke-width: 1.0;\"/></a><!--MD5=[3ea09a25e27a3707cff58461ed6d6361]\n",
       "@startuml\r\n",
       "skinparam wrapWidth 300\r\n",
       "hide circle\r\n",
       "\r\n",
       "package \"ViewTest\" as E1  [[psysml:fb02ed11-6398-4cea-b135-53d0cca9c478 ]]  {\r\n",
       "package \"P\" as E2  [[psysml:6d9f5c34-02db-4c22-b8ae-ed1a072d5ac7 ]]  {\r\n",
       "}\r\n",
       "comp def \"VP\" as E3  <<(T,blue)viewpoint def>> [[psysml:436e526f-0cc5-474d-8f19-4580d940df20 ]] {\r\n",
       "}\r\n",
       "comp def \"R\" as E4  <<(T,blue)rendering def>> [[psysml:053dc08e-a8e7-4770-acc6-30068883d6d6 ]] {\r\n",
       "}\r\n",
       "comp def \"V\" as E5  <<(T,blue)view def>> [[psysml:2fa1d21f-0378-4832-ab0e-3c490c491fc9 ]] {\r\n",
       "}\r\n",
       "comp usage \"vp: VP\" as E6  <<(T,blue)viewpoint>> [[psysml:b39da276-6b98-4aad-85bf-f9ecfc55683d ]] {\r\n",
       "}\r\n",
       "comp usage \"r: R\" as E7  <<(T,blue)rendering>> [[psysml:5db0ac38-23f9-426f-a666-7fa33ad35708 ]] {\r\n",
       "}\r\n",
       "comp usage \"v: V\" as E8  <<(T,blue)view>> [[psysml:96dfc0dc-2946-48da-b50d-9c346f08b52f ]] {\r\n",
       "}\r\n",
       "comp usage \"r1\" as E9  <<(T,blue)rendering>> [[psysml:fc5eb428-4a03-41d1-992b-aff2a13d3fb9 ]] {\r\n",
       "}\r\n",
       "E5 *- - E6 [[psysml:b39da276-6b98-4aad-85bf-f9ecfc55683d ]] \r\n",
       "E6 - -:|> E3 [[psysml:7b3d769f-4c56-4413-aa9f-0104e9507d6b ]] \r\n",
       "E7 - -:|> E4 [[psysml:f768404d-501b-4614-8ab9-e2515f32fafd ]] \r\n",
       "E5 *- - \"0..1\"E7 [[psysml:5db0ac38-23f9-426f-a666-7fa33ad35708 ]] \r\n",
       "E8 - -:|> E5 [[psysml:2ecacd66-b174-4fa5-a1f0-5f98a8e6e629 ]] \r\n",
       "E5 *- - \"*\"E8 [[psysml:96dfc0dc-2946-48da-b50d-9c346f08b52f ]] \r\n",
       "E8 *- - E9 [[psysml:fc5eb428-4a03-41d1-992b-aff2a13d3fb9 ]] \r\n",
       "}\r\n",
       "@enduml\r\n",
       "\n",
       "PlantUML version 1.2020.13(Sat Jun 13 12:26:38 UTC 2020)\n",
       "(EPL source distribution)\n",
       "Java Runtime: OpenJDK Runtime Environment\n",
       "JVM: OpenJDK 64-Bit Server VM\n",
       "Default Encoding: UTF-8\n",
       "Language: en\n",
       "Country: null\n",
       "--></g></svg>"
      ]
     },
     "execution_count": 23,
     "metadata": {},
     "output_type": "execute_result"
    }
   ],
   "source": [
    "%viz --style=\"STDCOLOR\" --view=\"Default\" \"ViewTest\""
   ]
  },
  {
   "cell_type": "code",
   "execution_count": 24,
   "id": "martial-stanford",
   "metadata": {
    "execution": {
     "iopub.execute_input": "2021-03-24T16:32:12.589256Z",
     "iopub.status.busy": "2021-03-24T16:32:12.588711Z",
     "iopub.status.idle": "2021-03-24T16:32:12.627537Z",
     "shell.execute_reply": "2021-03-24T16:32:12.625637Z"
    }
   },
   "outputs": [
    {
     "data": {
      "image/svg+xml": [
       "<?xml version=\"1.0\" encoding=\"UTF-8\" standalone=\"no\"?><svg xmlns=\"http://www.w3.org/2000/svg\" xmlns:xlink=\"http://www.w3.org/1999/xlink\" contentScriptType=\"application/ecmascript\" contentStyleType=\"text/css\" height=\"334px\" preserveAspectRatio=\"none\" style=\"width:417px;height:334px;\" version=\"1.1\" viewBox=\"0 0 417 334\" width=\"417px\" zoomAndPan=\"magnify\"><defs><filter height=\"300%\" id=\"fni1o8uxfyttl\" width=\"300%\" x=\"-1\" y=\"-1\"><feGaussianBlur result=\"blurOut\" stdDeviation=\"2.0\"/><feColorMatrix in=\"blurOut\" result=\"blurOut2\" type=\"matrix\" values=\"0 0 0 0 0 0 0 0 0 0 0 0 0 0 0 0 0 0 .4 0\"/><feOffset dx=\"4.0\" dy=\"4.0\" in=\"blurOut2\" result=\"blurOut3\"/><feBlend in=\"SourceGraphic\" in2=\"blurOut3\" mode=\"normal\"/></filter></defs><g><!--MD5=[fbc87193dbaf4d95561dea2c320d4a47]\n",
       "cluster E1--><a href=\"psysml:fb02ed11-6398-4cea-b135-53d0cca9c478\" target=\"_top\" title=\"psysml:fb02ed11-6398-4cea-b135-53d0cca9c478\" xlink:actuate=\"onRequest\" xlink:href=\"psysml:fb02ed11-6398-4cea-b135-53d0cca9c478\" xlink:show=\"new\" xlink:title=\"psysml:fb02ed11-6398-4cea-b135-53d0cca9c478\" xlink:type=\"simple\"><polygon fill=\"#FFFFFF\" filter=\"url(#fni1o8uxfyttl)\" points=\"16,6,96,6,103,28.2969,395,28.2969,395,322,16,322,16,6\" style=\"stroke: #000000; stroke-width: 1.5;\"/><line style=\"stroke: #000000; stroke-width: 1.5;\" x1=\"16\" x2=\"103\" y1=\"28.2969\" y2=\"28.2969\"/><text fill=\"#000000\" font-family=\"sans-serif\" font-size=\"14\" font-weight=\"bold\" lengthAdjust=\"spacingAndGlyphs\" textLength=\"74\" x=\"20\" y=\"20.9951\">ViewTest</text></a><!--MD5=[09b614a08d8cba4a07c9adeb5e0fee81]\n",
       "class E3--><a href=\"psysml:436e526f-0cc5-474d-8f19-4580d940df20\" target=\"_top\" title=\"psysml:436e526f-0cc5-474d-8f19-4580d940df20\" xlink:actuate=\"onRequest\" xlink:href=\"psysml:436e526f-0cc5-474d-8f19-4580d940df20\" xlink:show=\"new\" xlink:title=\"psysml:436e526f-0cc5-474d-8f19-4580d940df20\" xlink:type=\"simple\"><rect fill=\"#FEFECE\" filter=\"url(#fni1o8uxfyttl)\" height=\"45.9375\" id=\"E3\" style=\"stroke: #A80036; stroke-width: 1.5;\" width=\"98\" x=\"32\" y=\"260\"/><text fill=\"#000000\" font-family=\"sans-serif\" font-size=\"12\" font-style=\"italic\" lengthAdjust=\"spacingAndGlyphs\" textLength=\"96\" x=\"33\" y=\"276.1387\">«viewpoint def»</text><text fill=\"#000000\" font-family=\"sans-serif\" font-size=\"12\" lengthAdjust=\"spacingAndGlyphs\" textLength=\"16\" x=\"73\" y=\"290.1074\">VP</text><line style=\"stroke: #A80036; stroke-width: 1.5;\" x1=\"33\" x2=\"129\" y1=\"297.9375\" y2=\"297.9375\"/></a><!--MD5=[ebbe1d658d1005bcc118a6aa81145e00]\n",
       "class E4--><a href=\"psysml:053dc08e-a8e7-4770-acc6-30068883d6d6\" target=\"_top\" title=\"psysml:053dc08e-a8e7-4770-acc6-30068883d6d6\" xlink:actuate=\"onRequest\" xlink:href=\"psysml:053dc08e-a8e7-4770-acc6-30068883d6d6\" xlink:show=\"new\" xlink:title=\"psysml:053dc08e-a8e7-4770-acc6-30068883d6d6\" xlink:type=\"simple\"><rect fill=\"#FEFECE\" filter=\"url(#fni1o8uxfyttl)\" height=\"45.9375\" id=\"E4\" style=\"stroke: #A80036; stroke-width: 1.5;\" width=\"101\" x=\"165.5\" y=\"260\"/><text fill=\"#000000\" font-family=\"sans-serif\" font-size=\"12\" font-style=\"italic\" lengthAdjust=\"spacingAndGlyphs\" textLength=\"99\" x=\"166.5\" y=\"276.1387\">«rendering def»</text><text fill=\"#000000\" font-family=\"sans-serif\" font-size=\"12\" lengthAdjust=\"spacingAndGlyphs\" textLength=\"8\" x=\"212\" y=\"290.1074\">R</text><line style=\"stroke: #A80036; stroke-width: 1.5;\" x1=\"166.5\" x2=\"265.5\" y1=\"297.9375\" y2=\"297.9375\"/></a><!--MD5=[270fce915f116d4de14055a7c1d9a0f3]\n",
       "class E5--><a href=\"psysml:2fa1d21f-0378-4832-ab0e-3c490c491fc9\" target=\"_top\" title=\"psysml:2fa1d21f-0378-4832-ab0e-3c490c491fc9\" xlink:actuate=\"onRequest\" xlink:href=\"psysml:2fa1d21f-0378-4832-ab0e-3c490c491fc9\" xlink:show=\"new\" xlink:title=\"psysml:2fa1d21f-0378-4832-ab0e-3c490c491fc9\" xlink:type=\"simple\"><rect fill=\"#FEFECE\" filter=\"url(#fni1o8uxfyttl)\" height=\"45.9375\" id=\"E5\" style=\"stroke: #A80036; stroke-width: 1.5;\" width=\"66\" x=\"230\" y=\"44.5\"/><text fill=\"#000000\" font-family=\"sans-serif\" font-size=\"12\" font-style=\"italic\" lengthAdjust=\"spacingAndGlyphs\" textLength=\"64\" x=\"231\" y=\"60.6387\">«view def»</text><text fill=\"#000000\" font-family=\"sans-serif\" font-size=\"12\" lengthAdjust=\"spacingAndGlyphs\" textLength=\"8\" x=\"259\" y=\"74.6074\">V</text><line style=\"stroke: #A80036; stroke-width: 1.5;\" x1=\"231\" x2=\"295\" y1=\"82.4375\" y2=\"82.4375\"/></a><!--MD5=[60a26617385b1d2d0262a64233df1f8d]\n",
       "class E6--><a href=\"psysml:b39da276-6b98-4aad-85bf-f9ecfc55683d\" target=\"_top\" title=\"psysml:b39da276-6b98-4aad-85bf-f9ecfc55683d\" xlink:actuate=\"onRequest\" xlink:href=\"psysml:b39da276-6b98-4aad-85bf-f9ecfc55683d\" xlink:show=\"new\" xlink:title=\"psysml:b39da276-6b98-4aad-85bf-f9ecfc55683d\" xlink:type=\"simple\"><rect fill=\"#FEFECE\" filter=\"url(#fni1o8uxfyttl)\" height=\"45.9375\" id=\"E6\" rx=\"10\" ry=\"10\" style=\"stroke: #A80036; stroke-width: 1.5;\" width=\"74\" x=\"56\" y=\"154\"/><text fill=\"#000000\" font-family=\"sans-serif\" font-size=\"12\" font-style=\"italic\" lengthAdjust=\"spacingAndGlyphs\" textLength=\"72\" x=\"57\" y=\"170.1387\">«viewpoint»</text><text fill=\"#000000\" font-family=\"sans-serif\" font-size=\"12\" lengthAdjust=\"spacingAndGlyphs\" textLength=\"38\" x=\"74\" y=\"184.1074\">vp: VP</text><line style=\"stroke: #A80036; stroke-width: 1.5;\" x1=\"57\" x2=\"129\" y1=\"191.9375\" y2=\"191.9375\"/></a><!--MD5=[2156ba9850f5573cc1fc38a6a4b2f02b]\n",
       "class E7--><a href=\"psysml:5db0ac38-23f9-426f-a666-7fa33ad35708\" target=\"_top\" title=\"psysml:5db0ac38-23f9-426f-a666-7fa33ad35708\" xlink:actuate=\"onRequest\" xlink:href=\"psysml:5db0ac38-23f9-426f-a666-7fa33ad35708\" xlink:show=\"new\" xlink:title=\"psysml:5db0ac38-23f9-426f-a666-7fa33ad35708\" xlink:type=\"simple\"><rect fill=\"#FEFECE\" filter=\"url(#fni1o8uxfyttl)\" height=\"45.9375\" id=\"E7\" rx=\"10\" ry=\"10\" style=\"stroke: #A80036; stroke-width: 1.5;\" width=\"77\" x=\"177.5\" y=\"154\"/><text fill=\"#000000\" font-family=\"sans-serif\" font-size=\"12\" font-style=\"italic\" lengthAdjust=\"spacingAndGlyphs\" textLength=\"75\" x=\"178.5\" y=\"170.1387\">«rendering»</text><text fill=\"#000000\" font-family=\"sans-serif\" font-size=\"12\" lengthAdjust=\"spacingAndGlyphs\" textLength=\"21\" x=\"205.5\" y=\"184.1074\">r: R</text><line style=\"stroke: #A80036; stroke-width: 1.5;\" x1=\"178.5\" x2=\"253.5\" y1=\"191.9375\" y2=\"191.9375\"/></a><!--MD5=[b9389687b975829384b498ac4b7476b2]\n",
       "class E8--><a href=\"psysml:96dfc0dc-2946-48da-b50d-9c346f08b52f\" target=\"_top\" title=\"psysml:96dfc0dc-2946-48da-b50d-9c346f08b52f\" xlink:actuate=\"onRequest\" xlink:href=\"psysml:96dfc0dc-2946-48da-b50d-9c346f08b52f\" xlink:show=\"new\" xlink:title=\"psysml:96dfc0dc-2946-48da-b50d-9c346f08b52f\" xlink:type=\"simple\"><rect fill=\"#FEFECE\" filter=\"url(#fni1o8uxfyttl)\" height=\"45.9375\" id=\"E8\" rx=\"10\" ry=\"10\" style=\"stroke: #A80036; stroke-width: 1.5;\" width=\"42\" x=\"290\" y=\"154\"/><text fill=\"#000000\" font-family=\"sans-serif\" font-size=\"12\" font-style=\"italic\" lengthAdjust=\"spacingAndGlyphs\" textLength=\"40\" x=\"291\" y=\"170.1387\">«view»</text><text fill=\"#000000\" font-family=\"sans-serif\" font-size=\"12\" lengthAdjust=\"spacingAndGlyphs\" textLength=\"22\" x=\"300\" y=\"184.1074\">v: V</text><line style=\"stroke: #A80036; stroke-width: 1.5;\" x1=\"291\" x2=\"331\" y1=\"191.9375\" y2=\"191.9375\"/></a><!--MD5=[fd4143e9d270a159db93a4ea2a975926]\n",
       "class E9--><a href=\"psysml:fc5eb428-4a03-41d1-992b-aff2a13d3fb9\" target=\"_top\" title=\"psysml:fc5eb428-4a03-41d1-992b-aff2a13d3fb9\" xlink:actuate=\"onRequest\" xlink:href=\"psysml:fc5eb428-4a03-41d1-992b-aff2a13d3fb9\" xlink:show=\"new\" xlink:title=\"psysml:fc5eb428-4a03-41d1-992b-aff2a13d3fb9\" xlink:type=\"simple\"><rect fill=\"#FEFECE\" filter=\"url(#fni1o8uxfyttl)\" height=\"45.9375\" id=\"E9\" rx=\"10\" ry=\"10\" style=\"stroke: #A80036; stroke-width: 1.5;\" width=\"77\" x=\"301.5\" y=\"260\"/><text fill=\"#000000\" font-family=\"sans-serif\" font-size=\"12\" font-style=\"italic\" lengthAdjust=\"spacingAndGlyphs\" textLength=\"75\" x=\"302.5\" y=\"276.1387\">«rendering»</text><text fill=\"#000000\" font-family=\"sans-serif\" font-size=\"12\" lengthAdjust=\"spacingAndGlyphs\" textLength=\"13\" x=\"333.5\" y=\"290.1074\">r1</text><line style=\"stroke: #A80036; stroke-width: 1.5;\" x1=\"302.5\" x2=\"377.5\" y1=\"297.9375\" y2=\"297.9375\"/></a><a href=\"psysml:6d9f5c34-02db-4c22-b8ae-ed1a072d5ac7\" target=\"_top\" title=\"psysml:6d9f5c34-02db-4c22-b8ae-ed1a072d5ac7\" xlink:actuate=\"onRequest\" xlink:href=\"psysml:6d9f5c34-02db-4c22-b8ae-ed1a072d5ac7\" xlink:show=\"new\" xlink:title=\"psysml:6d9f5c34-02db-4c22-b8ae-ed1a072d5ac7\" xlink:type=\"simple\"><polygon fill=\"#FFFFFF\" filter=\"url(#fni1o8uxfyttl)\" points=\"122,41,138,41,145,63.2969,152,63.2969,152,93.5938,122,93.5938,122,41\" style=\"stroke: #000000; stroke-width: 1.5;\"/><line style=\"stroke: #000000; stroke-width: 1.5;\" x1=\"122\" x2=\"145\" y1=\"63.2969\" y2=\"63.2969\"/><text fill=\"#000000\" font-family=\"sans-serif\" font-size=\"14\" font-weight=\"bold\" lengthAdjust=\"spacingAndGlyphs\" textLength=\"10\" x=\"126\" y=\"55.9951\">P</text></a><!--MD5=[85d356282659285ab4b2cfe2f634dd2b]\n",
       "reverse link E5 to E6--><a href=\"psysml:b39da276-6b98-4aad-85bf-f9ecfc55683d\" target=\"_top\" title=\"psysml:b39da276-6b98-4aad-85bf-f9ecfc55683d\" xlink:actuate=\"onRequest\" xlink:href=\"psysml:b39da276-6b98-4aad-85bf-f9ecfc55683d\" xlink:show=\"new\" xlink:title=\"psysml:b39da276-6b98-4aad-85bf-f9ecfc55683d\" xlink:type=\"simple\"><path d=\"M218.61,96.57 C190.28,114.48 154.1,137.36 127.85,153.96 \" fill=\"none\" id=\"E5&lt;-E6\" style=\"stroke: #A80036; stroke-width: 1.0;\"/><polygon fill=\"#A80036\" points=\"229.82,89.48,222.6111,89.2999,219.6723,95.8849,226.8811,96.0651,229.82,89.48\" style=\"stroke: #A80036; stroke-width: 1.0;\"/></a><!--MD5=[a717450b82c80b9240a525fa862496af]\n",
       "link E6 to E3--><a href=\"psysml:7b3d769f-4c56-4413-aa9f-0104e9507d6b\" target=\"_top\" title=\"psysml:7b3d769f-4c56-4413-aa9f-0104e9507d6b\" xlink:actuate=\"onRequest\" xlink:href=\"psysml:7b3d769f-4c56-4413-aa9f-0104e9507d6b\" xlink:show=\"new\" xlink:title=\"psysml:7b3d769f-4c56-4413-aa9f-0104e9507d6b\" xlink:type=\"simple\"><path d=\"M90.46,200.06 C89.12,211.64 87.44,226.23 85.86,239.87 \" fill=\"none\" id=\"E6-&gt;E3\" style=\"stroke: #A80036; stroke-width: 1.0;\"/><polygon fill=\"#FFFFFF\" points=\"83.54,259.98,78.757,240.3046,92.6653,241.9044,83.54,259.98\" style=\"stroke: #A80036; stroke-width: 1.0;\"/><ellipse cx=\"81.3953\" cy=\"234.8704\" fill=\"#A80036\" rx=\"2\" ry=\"2\" style=\"stroke: #A80036; stroke-width: 1.0;\"/><ellipse cx=\"91.3298\" cy=\"236.0132\" fill=\"#A80036\" rx=\"2\" ry=\"2\" style=\"stroke: #A80036; stroke-width: 1.0;\"/></a><!--MD5=[6bdd27f9905911a7e892a3dc65cf6b7c]\n",
       "link E7 to E4--><a href=\"psysml:f768404d-501b-4614-8ab9-e2515f32fafd\" target=\"_top\" title=\"psysml:f768404d-501b-4614-8ab9-e2515f32fafd\" xlink:actuate=\"onRequest\" xlink:href=\"psysml:f768404d-501b-4614-8ab9-e2515f32fafd\" xlink:show=\"new\" xlink:title=\"psysml:f768404d-501b-4614-8ab9-e2515f32fafd\" xlink:type=\"simple\"><path d=\"M216,200.06 C216,211.64 216,226.23 216,239.87 \" fill=\"none\" id=\"E7-&gt;E4\" style=\"stroke: #A80036; stroke-width: 1.0;\"/><polygon fill=\"#FFFFFF\" points=\"216,259.98,209,240.98,223,240.98,216,259.98\" style=\"stroke: #A80036; stroke-width: 1.0;\"/><ellipse cx=\"211\" cy=\"235.28\" fill=\"#A80036\" rx=\"2\" ry=\"2\" style=\"stroke: #A80036; stroke-width: 1.0;\"/><ellipse cx=\"221\" cy=\"235.28\" fill=\"#A80036\" rx=\"2\" ry=\"2\" style=\"stroke: #A80036; stroke-width: 1.0;\"/></a><!--MD5=[452b418e7f8a40397a49b8c0a78acc5b]\n",
       "reverse link E5 to E7--><a href=\"psysml:5db0ac38-23f9-426f-a666-7fa33ad35708\" target=\"_top\" title=\"psysml:5db0ac38-23f9-426f-a666-7fa33ad35708\" xlink:actuate=\"onRequest\" xlink:href=\"psysml:5db0ac38-23f9-426f-a666-7fa33ad35708\" xlink:show=\"new\" xlink:title=\"psysml:5db0ac38-23f9-426f-a666-7fa33ad35708\" xlink:type=\"simple\"><path d=\"M248.1,102.57 C240.81,119.26 232.23,138.89 225.77,153.65 \" fill=\"none\" id=\"E5&lt;-E7\" style=\"stroke: #A80036; stroke-width: 1.0;\"/><polygon fill=\"#A80036\" points=\"253.38,90.51,247.31,94.4029,248.5688,101.5033,254.6388,97.6104,253.38,90.51\" style=\"stroke: #A80036; stroke-width: 1.0;\"/><text fill=\"#000000\" font-family=\"sans-serif\" font-size=\"13\" lengthAdjust=\"spacingAndGlyphs\" textLength=\"24\" x=\"201.1986\" y=\"142.8366\">0..1</text></a><!--MD5=[1ccb2481ffa92f8d51a74ee30c51832a]\n",
       "link E8 to E5--><a href=\"psysml:2ecacd66-b174-4fa5-a1f0-5f98a8e6e629\" target=\"_top\" title=\"psysml:2ecacd66-b174-4fa5-a1f0-5f98a8e6e629\" xlink:actuate=\"onRequest\" xlink:href=\"psysml:2ecacd66-b174-4fa5-a1f0-5f98a8e6e629\" xlink:show=\"new\" xlink:title=\"psysml:2ecacd66-b174-4fa5-a1f0-5f98a8e6e629\" xlink:type=\"simple\"><path d=\"M312.22,153.65 C308.53,140.48 301.55,123.44 293.74,108.07 \" fill=\"none\" id=\"E8-&gt;E5\" style=\"stroke: #A80036; stroke-width: 1.0;\"/><polygon fill=\"#FFFFFF\" points=\"283.97,90.51,299.3209,103.7142,287.0851,110.5174,283.97,90.51\" style=\"stroke: #A80036; stroke-width: 1.0;\"/><ellipse cx=\"300.3428\" cy=\"109.6678\" fill=\"#A80036\" rx=\"2\" ry=\"2\" style=\"stroke: #A80036; stroke-width: 1.0;\"/><ellipse cx=\"291.6029\" cy=\"114.5273\" fill=\"#A80036\" rx=\"2\" ry=\"2\" style=\"stroke: #A80036; stroke-width: 1.0;\"/></a><!--MD5=[827760032d119d06bbc92f75530fd7ae]\n",
       "reverse link E5 to E8--><a href=\"psysml:96dfc0dc-2946-48da-b50d-9c346f08b52f\" target=\"_top\" title=\"psysml:96dfc0dc-2946-48da-b50d-9c346f08b52f\" xlink:actuate=\"onRequest\" xlink:href=\"psysml:96dfc0dc-2946-48da-b50d-9c346f08b52f\" xlink:show=\"new\" xlink:title=\"psysml:96dfc0dc-2946-48da-b50d-9c346f08b52f\" xlink:type=\"simple\"><path d=\"M266.44,103.07 C272.49,119.65 281.62,139.03 290.44,153.65 \" fill=\"none\" id=\"E5&lt;-E8\" style=\"stroke: #A80036; stroke-width: 1.0;\"/><polygon fill=\"#A80036\" points=\"262.31,90.51,260.3836,97.459,266.0572,101.9099,267.9836,94.9609,262.31,90.51\" style=\"stroke: #A80036; stroke-width: 1.0;\"/><text fill=\"#000000\" font-family=\"sans-serif\" font-size=\"13\" lengthAdjust=\"spacingAndGlyphs\" textLength=\"7\" x=\"277.2746\" y=\"142.8366\">*</text></a><!--MD5=[22f5b4bae7e060dce8a1c8021efdb95b]\n",
       "reverse link E8 to E9--><a href=\"psysml:fc5eb428-4a03-41d1-992b-aff2a13d3fb9\" target=\"_top\" title=\"psysml:fc5eb428-4a03-41d1-992b-aff2a13d3fb9\" xlink:actuate=\"onRequest\" xlink:href=\"psysml:fc5eb428-4a03-41d1-992b-aff2a13d3fb9\" xlink:show=\"new\" xlink:title=\"psysml:fc5eb428-4a03-41d1-992b-aff2a13d3fb9\" xlink:type=\"simple\"><path d=\"M320.75,212.96 C325.08,228.51 330.05,246.33 333.86,259.98 \" fill=\"none\" id=\"E8&lt;-E9\" style=\"stroke: #A80036; stroke-width: 1.0;\"/><polygon fill=\"#A80036\" points=\"317.15,200.06,314.9066,206.9133,320.3699,211.6199,322.6133,204.7667,317.15,200.06\" style=\"stroke: #A80036; stroke-width: 1.0;\"/></a><!--MD5=[3ea09a25e27a3707cff58461ed6d6361]\n",
       "@startuml\r\n",
       "skinparam wrapWidth 300\r\n",
       "hide circle\r\n",
       "\r\n",
       "package \"ViewTest\" as E1  [[psysml:fb02ed11-6398-4cea-b135-53d0cca9c478 ]]  {\r\n",
       "package \"P\" as E2  [[psysml:6d9f5c34-02db-4c22-b8ae-ed1a072d5ac7 ]]  {\r\n",
       "}\r\n",
       "comp def \"VP\" as E3  <<(T,blue)viewpoint def>> [[psysml:436e526f-0cc5-474d-8f19-4580d940df20 ]] {\r\n",
       "}\r\n",
       "comp def \"R\" as E4  <<(T,blue)rendering def>> [[psysml:053dc08e-a8e7-4770-acc6-30068883d6d6 ]] {\r\n",
       "}\r\n",
       "comp def \"V\" as E5  <<(T,blue)view def>> [[psysml:2fa1d21f-0378-4832-ab0e-3c490c491fc9 ]] {\r\n",
       "}\r\n",
       "comp usage \"vp: VP\" as E6  <<(T,blue)viewpoint>> [[psysml:b39da276-6b98-4aad-85bf-f9ecfc55683d ]] {\r\n",
       "}\r\n",
       "comp usage \"r: R\" as E7  <<(T,blue)rendering>> [[psysml:5db0ac38-23f9-426f-a666-7fa33ad35708 ]] {\r\n",
       "}\r\n",
       "comp usage \"v: V\" as E8  <<(T,blue)view>> [[psysml:96dfc0dc-2946-48da-b50d-9c346f08b52f ]] {\r\n",
       "}\r\n",
       "comp usage \"r1\" as E9  <<(T,blue)rendering>> [[psysml:fc5eb428-4a03-41d1-992b-aff2a13d3fb9 ]] {\r\n",
       "}\r\n",
       "E5 *- - E6 [[psysml:b39da276-6b98-4aad-85bf-f9ecfc55683d ]] \r\n",
       "E6 - -:|> E3 [[psysml:7b3d769f-4c56-4413-aa9f-0104e9507d6b ]] \r\n",
       "E7 - -:|> E4 [[psysml:f768404d-501b-4614-8ab9-e2515f32fafd ]] \r\n",
       "E5 *- - \"0..1\"E7 [[psysml:5db0ac38-23f9-426f-a666-7fa33ad35708 ]] \r\n",
       "E8 - -:|> E5 [[psysml:2ecacd66-b174-4fa5-a1f0-5f98a8e6e629 ]] \r\n",
       "E5 *- - \"*\"E8 [[psysml:96dfc0dc-2946-48da-b50d-9c346f08b52f ]] \r\n",
       "E8 *- - E9 [[psysml:fc5eb428-4a03-41d1-992b-aff2a13d3fb9 ]] \r\n",
       "}\r\n",
       "@enduml\r\n",
       "\n",
       "PlantUML version 1.2020.13(Sat Jun 13 12:26:38 UTC 2020)\n",
       "(EPL source distribution)\n",
       "Java Runtime: OpenJDK Runtime Environment\n",
       "JVM: OpenJDK 64-Bit Server VM\n",
       "Default Encoding: UTF-8\n",
       "Language: en\n",
       "Country: null\n",
       "--></g></svg>"
      ]
     },
     "execution_count": 24,
     "metadata": {},
     "output_type": "execute_result"
    }
   ],
   "source": [
    "%viz --style=\"STDCOLOR\" --view=\"Tree\" \"ViewTest\""
   ]
  },
  {
   "cell_type": "code",
   "execution_count": 25,
   "id": "forced-pressure",
   "metadata": {
    "execution": {
     "iopub.execute_input": "2021-03-24T16:32:12.677525Z",
     "iopub.status.busy": "2021-03-24T16:32:12.677040Z",
     "iopub.status.idle": "2021-03-24T16:32:12.681372Z",
     "shell.execute_reply": "2021-03-24T16:32:12.681724Z"
    }
   },
   "outputs": [
    {
     "data": {
      "image/svg+xml": [
       "<?xml version=\"1.0\" encoding=\"UTF-8\" standalone=\"no\"?><svg xmlns=\"http://www.w3.org/2000/svg\" xmlns:xlink=\"http://www.w3.org/1999/xlink\" contentScriptType=\"application/ecmascript\" contentStyleType=\"text/css\" height=\"12px\" preserveAspectRatio=\"none\" style=\"width:12px;height:12px;\" version=\"1.1\" viewBox=\"0 0 12 12\" width=\"12px\" zoomAndPan=\"magnify\"><defs/><g><!--MD5=[aeeef50f102b80d730deb6443d14f702]\n",
       "@startuml\r\n",
       "skinparam wrapWidth 300\r\n",
       "hide circle\r\n",
       "\r\n",
       "@enduml\r\n",
       "\n",
       "PlantUML version 1.2020.13(Sat Jun 13 12:26:38 UTC 2020)\n",
       "(EPL source distribution)\n",
       "Java Runtime: OpenJDK Runtime Environment\n",
       "JVM: OpenJDK 64-Bit Server VM\n",
       "Default Encoding: UTF-8\n",
       "Language: en\n",
       "Country: null\n",
       "--></g></svg>"
      ]
     },
     "execution_count": 25,
     "metadata": {},
     "output_type": "execute_result"
    }
   ],
   "source": [
    "%viz --style=\"STDCOLOR\" --view=\"State\" \"ViewTest\""
   ]
  },
  {
   "cell_type": "code",
   "execution_count": 26,
   "id": "floppy-obligation",
   "metadata": {
    "execution": {
     "iopub.execute_input": "2021-03-24T16:32:12.734066Z",
     "iopub.status.busy": "2021-03-24T16:32:12.733254Z",
     "iopub.status.idle": "2021-03-24T16:32:12.766729Z",
     "shell.execute_reply": "2021-03-24T16:32:12.765391Z"
    }
   },
   "outputs": [
    {
     "data": {
      "image/svg+xml": [
       "<?xml version=\"1.0\" encoding=\"UTF-8\" standalone=\"no\"?><svg xmlns=\"http://www.w3.org/2000/svg\" xmlns:xlink=\"http://www.w3.org/1999/xlink\" contentScriptType=\"application/ecmascript\" contentStyleType=\"text/css\" height=\"313px\" preserveAspectRatio=\"none\" style=\"width:568px;height:313px;\" version=\"1.1\" viewBox=\"0 0 568 313\" width=\"568px\" zoomAndPan=\"magnify\"><defs><filter height=\"300%\" id=\"fk65681lb6wsm\" width=\"300%\" x=\"-1\" y=\"-1\"><feGaussianBlur result=\"blurOut\" stdDeviation=\"2.0\"/><feColorMatrix in=\"blurOut\" result=\"blurOut2\" type=\"matrix\" values=\"0 0 0 0 0 0 0 0 0 0 0 0 0 0 0 0 0 0 .4 0\"/><feOffset dx=\"4.0\" dy=\"4.0\" in=\"blurOut2\" result=\"blurOut3\"/><feBlend in=\"SourceGraphic\" in2=\"blurOut3\" mode=\"normal\"/></filter></defs><g><!--MD5=[fbc87193dbaf4d95561dea2c320d4a47]\n",
       "cluster E1--><a href=\"psysml:fb02ed11-6398-4cea-b135-53d0cca9c478\" target=\"_top\" title=\"psysml:fb02ed11-6398-4cea-b135-53d0cca9c478\" xlink:actuate=\"onRequest\" xlink:href=\"psysml:fb02ed11-6398-4cea-b135-53d0cca9c478\" xlink:show=\"new\" xlink:title=\"psysml:fb02ed11-6398-4cea-b135-53d0cca9c478\" xlink:type=\"simple\"><polygon fill=\"#FFFFFF\" filter=\"url(#fk65681lb6wsm)\" points=\"16,6,96,6,103,28.2969,546,28.2969,546,301,16,301,16,6\" style=\"stroke: #000000; stroke-width: 1.5;\"/><line style=\"stroke: #000000; stroke-width: 1.5;\" x1=\"16\" x2=\"103\" y1=\"28.2969\" y2=\"28.2969\"/><text fill=\"#000000\" font-family=\"sans-serif\" font-size=\"14\" font-weight=\"bold\" lengthAdjust=\"spacingAndGlyphs\" textLength=\"74\" x=\"20\" y=\"20.9951\">ViewTest</text></a><!--MD5=[de5ec2e2e8f62f467e546659f5068c88]\n",
       "cluster E5--><a href=\"psysml:2fa1d21f-0378-4832-ab0e-3c490c491fc9\" target=\"_top\" title=\"psysml:2fa1d21f-0378-4832-ab0e-3c490c491fc9\" xlink:actuate=\"onRequest\" xlink:href=\"psysml:2fa1d21f-0378-4832-ab0e-3c490c491fc9\" xlink:show=\"new\" xlink:title=\"psysml:2fa1d21f-0378-4832-ab0e-3c490c491fc9\" xlink:type=\"simple\"><rect fill=\"#FFFFFF\" filter=\"url(#fk65681lb6wsm)\" height=\"174\" id=\"E5\" style=\"stroke: #A80036; stroke-width: 1.5;\" width=\"300\" x=\"222\" y=\"49\"/><rect fill=\"#FEFECE\" height=\"37.9375\" style=\"stroke: #A80036; stroke-width: 1.5;\" width=\"300\" x=\"222\" y=\"49\"/><text fill=\"#000000\" font-family=\"sans-serif\" font-size=\"12\" font-style=\"italic\" lengthAdjust=\"spacingAndGlyphs\" textLength=\"64\" x=\"340\" y=\"65.1387\">«view def»</text><text fill=\"#000000\" font-family=\"sans-serif\" font-size=\"12\" lengthAdjust=\"spacingAndGlyphs\" textLength=\"8\" x=\"368\" y=\"79.1074\">V</text></a><!--MD5=[55dfccfc6c49c2d10cd1bd2211a6c90c]\n",
       "cluster E8--><a href=\"psysml:96dfc0dc-2946-48da-b50d-9c346f08b52f\" target=\"_top\" title=\"psysml:96dfc0dc-2946-48da-b50d-9c346f08b52f\" xlink:actuate=\"onRequest\" xlink:href=\"psysml:96dfc0dc-2946-48da-b50d-9c346f08b52f\" xlink:show=\"new\" xlink:title=\"psysml:96dfc0dc-2946-48da-b50d-9c346f08b52f\" xlink:type=\"simple\"><rect fill=\"#FFFFFF\" filter=\"url(#fk65681lb6wsm)\" height=\"91\" id=\"E8\" rx=\"10\" ry=\"10\" style=\"stroke: #A80036; stroke-width: 1.5;\" width=\"82\" x=\"416\" y=\"108\"/><rect fill=\"#FEFECE\" height=\"23.9688\" rx=\"10\" ry=\"10\" style=\"stroke: #FEFECE; stroke-width: 1.5;\" width=\"82\" x=\"416\" y=\"108\"/><rect fill=\"#FEFECE\" height=\"10\" style=\"stroke: #FEFECE; stroke-width: 1.5;\" width=\"82\" x=\"416\" y=\"121.9688\"/><rect fill=\"none\" height=\"91\" id=\"E8\" rx=\"10\" ry=\"10\" style=\"stroke: #A80036; stroke-width: 1.5;\" width=\"82\" x=\"416\" y=\"108\"/><text fill=\"#000000\" font-family=\"sans-serif\" font-size=\"12\" lengthAdjust=\"spacingAndGlyphs\" textLength=\"22\" x=\"446\" y=\"124.1387\">v: V</text><line style=\"stroke: #A80036; stroke-width: 1.0;\" x1=\"416\" x2=\"498\" y1=\"131.9688\" y2=\"131.9688\"/></a><!--MD5=[09b614a08d8cba4a07c9adeb5e0fee81]\n",
       "class E3--><a href=\"psysml:436e526f-0cc5-474d-8f19-4580d940df20\" target=\"_top\" title=\"psysml:436e526f-0cc5-474d-8f19-4580d940df20\" xlink:actuate=\"onRequest\" xlink:href=\"psysml:436e526f-0cc5-474d-8f19-4580d940df20\" xlink:show=\"new\" xlink:title=\"psysml:436e526f-0cc5-474d-8f19-4580d940df20\" xlink:type=\"simple\"><rect fill=\"#FEFECE\" filter=\"url(#fk65681lb6wsm)\" height=\"45.9375\" id=\"E3\" style=\"stroke: #A80036; stroke-width: 1.5;\" width=\"98\" x=\"311\" y=\"239\"/><text fill=\"#000000\" font-family=\"sans-serif\" font-size=\"12\" font-style=\"italic\" lengthAdjust=\"spacingAndGlyphs\" textLength=\"96\" x=\"312\" y=\"255.1387\">«viewpoint def»</text><text fill=\"#000000\" font-family=\"sans-serif\" font-size=\"12\" lengthAdjust=\"spacingAndGlyphs\" textLength=\"16\" x=\"352\" y=\"269.1074\">VP</text><line style=\"stroke: #A80036; stroke-width: 1.5;\" x1=\"312\" x2=\"408\" y1=\"276.9375\" y2=\"276.9375\"/></a><a href=\"psysml:6d9f5c34-02db-4c22-b8ae-ed1a072d5ac7\" target=\"_top\" title=\"psysml:6d9f5c34-02db-4c22-b8ae-ed1a072d5ac7\" xlink:actuate=\"onRequest\" xlink:href=\"psysml:6d9f5c34-02db-4c22-b8ae-ed1a072d5ac7\" xlink:show=\"new\" xlink:title=\"psysml:6d9f5c34-02db-4c22-b8ae-ed1a072d5ac7\" xlink:type=\"simple\"><polygon fill=\"#FFFFFF\" filter=\"url(#fk65681lb6wsm)\" points=\"173,136.5,189,136.5,196,158.7969,203,158.7969,203,189.0938,173,189.0938,173,136.5\" style=\"stroke: #000000; stroke-width: 1.5;\"/><line style=\"stroke: #000000; stroke-width: 1.5;\" x1=\"173\" x2=\"196\" y1=\"158.7969\" y2=\"158.7969\"/><text fill=\"#000000\" font-family=\"sans-serif\" font-size=\"14\" font-weight=\"bold\" lengthAdjust=\"spacingAndGlyphs\" textLength=\"10\" x=\"177\" y=\"151.4951\">P</text></a><g id=\"E1.E4\"><a href=\"psysml:053dc08e-a8e7-4770-acc6-30068883d6d6\" target=\"_top\" title=\"psysml:053dc08e-a8e7-4770-acc6-30068883d6d6\" xlink:actuate=\"onRequest\" xlink:href=\"psysml:053dc08e-a8e7-4770-acc6-30068883d6d6\" xlink:show=\"new\" xlink:title=\"psysml:053dc08e-a8e7-4770-acc6-30068883d6d6\" xlink:type=\"simple\"><rect fill=\"#FEFECE\" filter=\"url(#fk65681lb6wsm)\" height=\"42.9375\" id=\"E4\" style=\"stroke: #A80036; stroke-width: 1.5;\" width=\"106\" x=\"32\" y=\"141.5\"/><text fill=\"#000000\" font-family=\"sans-serif\" font-size=\"12\" font-style=\"italic\" lengthAdjust=\"spacingAndGlyphs\" textLength=\"99\" x=\"35.5\" y=\"157.6387\">«rendering def»</text><text fill=\"#000000\" font-family=\"sans-serif\" font-size=\"12\" lengthAdjust=\"spacingAndGlyphs\" textLength=\"8\" x=\"81\" y=\"171.6074\">R</text></a></g><!--MD5=[60a26617385b1d2d0262a64233df1f8d]\n",
       "class E6--><a href=\"psysml:b39da276-6b98-4aad-85bf-f9ecfc55683d\" target=\"_top\" title=\"psysml:b39da276-6b98-4aad-85bf-f9ecfc55683d\" xlink:actuate=\"onRequest\" xlink:href=\"psysml:b39da276-6b98-4aad-85bf-f9ecfc55683d\" xlink:show=\"new\" xlink:title=\"psysml:b39da276-6b98-4aad-85bf-f9ecfc55683d\" xlink:type=\"simple\"><rect fill=\"#FEFECE\" filter=\"url(#fk65681lb6wsm)\" height=\"45.9375\" id=\"E6\" rx=\"10\" ry=\"10\" style=\"stroke: #A80036; stroke-width: 1.5;\" width=\"74\" x=\"323\" y=\"140\"/><text fill=\"#000000\" font-family=\"sans-serif\" font-size=\"12\" font-style=\"italic\" lengthAdjust=\"spacingAndGlyphs\" textLength=\"72\" x=\"324\" y=\"156.1387\">«viewpoint»</text><text fill=\"#000000\" font-family=\"sans-serif\" font-size=\"12\" lengthAdjust=\"spacingAndGlyphs\" textLength=\"38\" x=\"341\" y=\"170.1074\">vp: VP</text><line style=\"stroke: #A80036; stroke-width: 1.5;\" x1=\"324\" x2=\"396\" y1=\"177.9375\" y2=\"177.9375\"/></a><g id=\"E1.E5.E7\"><a href=\"psysml:5db0ac38-23f9-426f-a666-7fa33ad35708\" target=\"_top\" title=\"psysml:5db0ac38-23f9-426f-a666-7fa33ad35708\" xlink:actuate=\"onRequest\" xlink:href=\"psysml:5db0ac38-23f9-426f-a666-7fa33ad35708\" xlink:show=\"new\" xlink:title=\"psysml:5db0ac38-23f9-426f-a666-7fa33ad35708\" xlink:type=\"simple\"><rect fill=\"#FEFECE\" filter=\"url(#fk65681lb6wsm)\" height=\"40\" id=\"E7\" rx=\"10\" ry=\"10\" style=\"stroke: #A80036; stroke-width: 1.5;\" width=\"50\" x=\"238\" y=\"143\"/><text fill=\"#000000\" font-family=\"sans-serif\" font-size=\"12\" lengthAdjust=\"spacingAndGlyphs\" textLength=\"21\" x=\"252.5\" y=\"159.1387\">r: R</text></a></g><g id=\"E1.E5.E8.E9\"><a href=\"psysml:fc5eb428-4a03-41d1-992b-aff2a13d3fb9\" target=\"_top\" title=\"psysml:fc5eb428-4a03-41d1-992b-aff2a13d3fb9\" xlink:actuate=\"onRequest\" xlink:href=\"psysml:fc5eb428-4a03-41d1-992b-aff2a13d3fb9\" xlink:show=\"new\" xlink:title=\"psysml:fc5eb428-4a03-41d1-992b-aff2a13d3fb9\" xlink:type=\"simple\"><rect fill=\"#FEFECE\" filter=\"url(#fk65681lb6wsm)\" height=\"40\" id=\"E9\" rx=\"10\" ry=\"10\" style=\"stroke: #A80036; stroke-width: 1.5;\" width=\"50\" x=\"432\" y=\"143\"/><text fill=\"#000000\" font-family=\"sans-serif\" font-size=\"12\" lengthAdjust=\"spacingAndGlyphs\" textLength=\"13\" x=\"450.5\" y=\"159.1387\">r1</text></a></g><!--MD5=[a717450b82c80b9240a525fa862496af]\n",
       "link E6 to E3--><a href=\"psysml:7b3d769f-4c56-4413-aa9f-0104e9507d6b\" target=\"_top\" title=\"psysml:7b3d769f-4c56-4413-aa9f-0104e9507d6b\" xlink:actuate=\"onRequest\" xlink:href=\"psysml:7b3d769f-4c56-4413-aa9f-0104e9507d6b\" xlink:show=\"new\" xlink:title=\"psysml:7b3d769f-4c56-4413-aa9f-0104e9507d6b\" xlink:type=\"simple\"><path d=\"M360,186.01 C360,195.62 360,207.22 360,218.4 \" fill=\"none\" id=\"E6-&gt;E3\" style=\"stroke: #A80036; stroke-width: 1.0;\"/><polygon fill=\"#FFFFFF\" points=\"360,238.74,353,219.74,367,219.74,360,238.74\" style=\"stroke: #A80036; stroke-width: 1.0;\"/><ellipse cx=\"355\" cy=\"214.04\" fill=\"#A80036\" rx=\"2\" ry=\"2\" style=\"stroke: #A80036; stroke-width: 1.0;\"/><ellipse cx=\"365\" cy=\"214.04\" fill=\"#A80036\" rx=\"2\" ry=\"2\" style=\"stroke: #A80036; stroke-width: 1.0;\"/></a><!--MD5=[bf179d5634454a327bfb72b97dafeec5]\n",
       "@startuml\r\n",
       "skinparam ranksep 10\r\n",
       "skinparam rectangle {\r\n",
       " backgroundColor<<block>> LightGreen\r\n",
       "}\r\n",
       "skinparam wrapWidth 300\r\n",
       "hide circle\r\n",
       "\r\n",
       "package \"ViewTest\" as E1  [[psysml:fb02ed11-6398-4cea-b135-53d0cca9c478 ]]  {\r\n",
       "package \"P\" as E2  [[psysml:6d9f5c34-02db-4c22-b8ae-ed1a072d5ac7 ]]  {\r\n",
       "}\r\n",
       "comp def \"VP\" as E3  <<(T,blue)viewpoint def>> [[psysml:436e526f-0cc5-474d-8f19-4580d940df20 ]] {\r\n",
       "}\r\n",
       "rec def \"R\" as E4  <<(T,blue)rendering def>> [[psysml:053dc08e-a8e7-4770-acc6-30068883d6d6 ]] {\r\n",
       "}\r\n",
       "rec def \"V\" as E5  <<(T,blue)view def>> [[psysml:2fa1d21f-0378-4832-ab0e-3c490c491fc9 ]] {\r\n",
       "comp usage \"vp: VP\" as E6  <<(T,blue)viewpoint>> [[psysml:b39da276-6b98-4aad-85bf-f9ecfc55683d ]] {\r\n",
       "}\r\n",
       "rec usage \"r: R\" as E7  [[psysml:5db0ac38-23f9-426f-a666-7fa33ad35708 ]] {\r\n",
       "}\r\n",
       "rec usage \"v: V\" as E8  [[psysml:96dfc0dc-2946-48da-b50d-9c346f08b52f ]] {\r\n",
       "rec usage \"r1\" as E9  [[psysml:fc5eb428-4a03-41d1-992b-aff2a13d3fb9 ]] {\r\n",
       "}\r\n",
       "}\r\n",
       "}\r\n",
       "E6 - -:|> E3 [[psysml:7b3d769f-4c56-4413-aa9f-0104e9507d6b ]] \r\n",
       "}\r\n",
       "@enduml\r\n",
       "\n",
       "PlantUML version 1.2020.13(Sat Jun 13 12:26:38 UTC 2020)\n",
       "(EPL source distribution)\n",
       "Java Runtime: OpenJDK Runtime Environment\n",
       "JVM: OpenJDK 64-Bit Server VM\n",
       "Default Encoding: UTF-8\n",
       "Language: en\n",
       "Country: null\n",
       "--></g></svg>"
      ]
     },
     "execution_count": 26,
     "metadata": {},
     "output_type": "execute_result"
    }
   ],
   "source": [
    "%viz --style=\"STDCOLOR\" --view=\"Interconnection\" \"ViewTest\""
   ]
  },
  {
   "cell_type": "code",
   "execution_count": 27,
   "id": "christian-strip",
   "metadata": {
    "execution": {
     "iopub.execute_input": "2021-03-24T16:32:12.819414Z",
     "iopub.status.busy": "2021-03-24T16:32:12.818006Z",
     "iopub.status.idle": "2021-03-24T16:32:12.823897Z",
     "shell.execute_reply": "2021-03-24T16:32:12.823514Z"
    }
   },
   "outputs": [
    {
     "data": {
      "image/svg+xml": [
       "<?xml version=\"1.0\" encoding=\"UTF-8\" standalone=\"no\"?><svg xmlns=\"http://www.w3.org/2000/svg\" xmlns:xlink=\"http://www.w3.org/1999/xlink\" contentScriptType=\"application/ecmascript\" contentStyleType=\"text/css\" height=\"12px\" preserveAspectRatio=\"none\" style=\"width:12px;height:12px;\" version=\"1.1\" viewBox=\"0 0 12 12\" width=\"12px\" zoomAndPan=\"magnify\"><defs/><g><!--MD5=[9863325348a96a77dacc89509d8ee65e]\n",
       "@startuml\r\n",
       "skinparam ranksep 8\r\n",
       "skinparam wrapWidth 300\r\n",
       "hide circle\r\n",
       "\r\n",
       "@enduml\r\n",
       "\n",
       "PlantUML version 1.2020.13(Sat Jun 13 12:26:38 UTC 2020)\n",
       "(EPL source distribution)\n",
       "Java Runtime: OpenJDK Runtime Environment\n",
       "JVM: OpenJDK 64-Bit Server VM\n",
       "Default Encoding: UTF-8\n",
       "Language: en\n",
       "Country: null\n",
       "--></g></svg>"
      ]
     },
     "execution_count": 27,
     "metadata": {},
     "output_type": "execute_result"
    }
   ],
   "source": [
    "%viz --style=\"STDCOLOR\" --view=\"Action\" \"ViewTest\""
   ]
  },
  {
   "cell_type": "code",
   "execution_count": 28,
   "id": "respected-glucose",
   "metadata": {
    "execution": {
     "iopub.execute_input": "2021-03-24T16:32:12.876120Z",
     "iopub.status.busy": "2021-03-24T16:32:12.875463Z",
     "iopub.status.idle": "2021-03-24T16:32:12.911365Z",
     "shell.execute_reply": "2021-03-24T16:32:12.911750Z"
    }
   },
   "outputs": [
    {
     "data": {
      "image/svg+xml": [
       "<?xml version=\"1.0\" encoding=\"UTF-8\" standalone=\"no\"?><svg xmlns=\"http://www.w3.org/2000/svg\" xmlns:xlink=\"http://www.w3.org/1999/xlink\" contentScriptType=\"application/ecmascript\" contentStyleType=\"text/css\" height=\"334px\" preserveAspectRatio=\"none\" style=\"width:417px;height:334px;\" version=\"1.1\" viewBox=\"0 0 417 334\" width=\"417px\" zoomAndPan=\"magnify\"><defs><filter height=\"300%\" id=\"fni1o8uxfyttl\" width=\"300%\" x=\"-1\" y=\"-1\"><feGaussianBlur result=\"blurOut\" stdDeviation=\"2.0\"/><feColorMatrix in=\"blurOut\" result=\"blurOut2\" type=\"matrix\" values=\"0 0 0 0 0 0 0 0 0 0 0 0 0 0 0 0 0 0 .4 0\"/><feOffset dx=\"4.0\" dy=\"4.0\" in=\"blurOut2\" result=\"blurOut3\"/><feBlend in=\"SourceGraphic\" in2=\"blurOut3\" mode=\"normal\"/></filter></defs><g><!--MD5=[fbc87193dbaf4d95561dea2c320d4a47]\n",
       "cluster E1--><a href=\"psysml:fb02ed11-6398-4cea-b135-53d0cca9c478\" target=\"_top\" title=\"psysml:fb02ed11-6398-4cea-b135-53d0cca9c478\" xlink:actuate=\"onRequest\" xlink:href=\"psysml:fb02ed11-6398-4cea-b135-53d0cca9c478\" xlink:show=\"new\" xlink:title=\"psysml:fb02ed11-6398-4cea-b135-53d0cca9c478\" xlink:type=\"simple\"><polygon fill=\"#FFFFFF\" filter=\"url(#fni1o8uxfyttl)\" points=\"16,6,96,6,103,28.2969,395,28.2969,395,322,16,322,16,6\" style=\"stroke: #000000; stroke-width: 1.5;\"/><line style=\"stroke: #000000; stroke-width: 1.5;\" x1=\"16\" x2=\"103\" y1=\"28.2969\" y2=\"28.2969\"/><text fill=\"#000000\" font-family=\"sans-serif\" font-size=\"14\" font-weight=\"bold\" lengthAdjust=\"spacingAndGlyphs\" textLength=\"74\" x=\"20\" y=\"20.9951\">ViewTest</text></a><!--MD5=[09b614a08d8cba4a07c9adeb5e0fee81]\n",
       "class E3--><a href=\"psysml:436e526f-0cc5-474d-8f19-4580d940df20\" target=\"_top\" title=\"psysml:436e526f-0cc5-474d-8f19-4580d940df20\" xlink:actuate=\"onRequest\" xlink:href=\"psysml:436e526f-0cc5-474d-8f19-4580d940df20\" xlink:show=\"new\" xlink:title=\"psysml:436e526f-0cc5-474d-8f19-4580d940df20\" xlink:type=\"simple\"><rect fill=\"#FEFECE\" filter=\"url(#fni1o8uxfyttl)\" height=\"45.9375\" id=\"E3\" style=\"stroke: #A80036; stroke-width: 1.5;\" width=\"98\" x=\"32\" y=\"260\"/><text fill=\"#000000\" font-family=\"sans-serif\" font-size=\"12\" font-style=\"italic\" lengthAdjust=\"spacingAndGlyphs\" textLength=\"96\" x=\"33\" y=\"276.1387\">«viewpoint def»</text><text fill=\"#000000\" font-family=\"sans-serif\" font-size=\"12\" lengthAdjust=\"spacingAndGlyphs\" textLength=\"16\" x=\"73\" y=\"290.1074\">VP</text><line style=\"stroke: #A80036; stroke-width: 1.5;\" x1=\"33\" x2=\"129\" y1=\"297.9375\" y2=\"297.9375\"/></a><!--MD5=[ebbe1d658d1005bcc118a6aa81145e00]\n",
       "class E4--><a href=\"psysml:053dc08e-a8e7-4770-acc6-30068883d6d6\" target=\"_top\" title=\"psysml:053dc08e-a8e7-4770-acc6-30068883d6d6\" xlink:actuate=\"onRequest\" xlink:href=\"psysml:053dc08e-a8e7-4770-acc6-30068883d6d6\" xlink:show=\"new\" xlink:title=\"psysml:053dc08e-a8e7-4770-acc6-30068883d6d6\" xlink:type=\"simple\"><rect fill=\"#FEFECE\" filter=\"url(#fni1o8uxfyttl)\" height=\"45.9375\" id=\"E4\" style=\"stroke: #A80036; stroke-width: 1.5;\" width=\"101\" x=\"165.5\" y=\"260\"/><text fill=\"#000000\" font-family=\"sans-serif\" font-size=\"12\" font-style=\"italic\" lengthAdjust=\"spacingAndGlyphs\" textLength=\"99\" x=\"166.5\" y=\"276.1387\">«rendering def»</text><text fill=\"#000000\" font-family=\"sans-serif\" font-size=\"12\" lengthAdjust=\"spacingAndGlyphs\" textLength=\"8\" x=\"212\" y=\"290.1074\">R</text><line style=\"stroke: #A80036; stroke-width: 1.5;\" x1=\"166.5\" x2=\"265.5\" y1=\"297.9375\" y2=\"297.9375\"/></a><!--MD5=[270fce915f116d4de14055a7c1d9a0f3]\n",
       "class E5--><a href=\"psysml:2fa1d21f-0378-4832-ab0e-3c490c491fc9\" target=\"_top\" title=\"psysml:2fa1d21f-0378-4832-ab0e-3c490c491fc9\" xlink:actuate=\"onRequest\" xlink:href=\"psysml:2fa1d21f-0378-4832-ab0e-3c490c491fc9\" xlink:show=\"new\" xlink:title=\"psysml:2fa1d21f-0378-4832-ab0e-3c490c491fc9\" xlink:type=\"simple\"><rect fill=\"#FEFECE\" filter=\"url(#fni1o8uxfyttl)\" height=\"45.9375\" id=\"E5\" style=\"stroke: #A80036; stroke-width: 1.5;\" width=\"66\" x=\"230\" y=\"44.5\"/><text fill=\"#000000\" font-family=\"sans-serif\" font-size=\"12\" font-style=\"italic\" lengthAdjust=\"spacingAndGlyphs\" textLength=\"64\" x=\"231\" y=\"60.6387\">«view def»</text><text fill=\"#000000\" font-family=\"sans-serif\" font-size=\"12\" lengthAdjust=\"spacingAndGlyphs\" textLength=\"8\" x=\"259\" y=\"74.6074\">V</text><line style=\"stroke: #A80036; stroke-width: 1.5;\" x1=\"231\" x2=\"295\" y1=\"82.4375\" y2=\"82.4375\"/></a><!--MD5=[60a26617385b1d2d0262a64233df1f8d]\n",
       "class E6--><a href=\"psysml:b39da276-6b98-4aad-85bf-f9ecfc55683d\" target=\"_top\" title=\"psysml:b39da276-6b98-4aad-85bf-f9ecfc55683d\" xlink:actuate=\"onRequest\" xlink:href=\"psysml:b39da276-6b98-4aad-85bf-f9ecfc55683d\" xlink:show=\"new\" xlink:title=\"psysml:b39da276-6b98-4aad-85bf-f9ecfc55683d\" xlink:type=\"simple\"><rect fill=\"#FEFECE\" filter=\"url(#fni1o8uxfyttl)\" height=\"45.9375\" id=\"E6\" rx=\"10\" ry=\"10\" style=\"stroke: #A80036; stroke-width: 1.5;\" width=\"74\" x=\"56\" y=\"154\"/><text fill=\"#000000\" font-family=\"sans-serif\" font-size=\"12\" font-style=\"italic\" lengthAdjust=\"spacingAndGlyphs\" textLength=\"72\" x=\"57\" y=\"170.1387\">«viewpoint»</text><text fill=\"#000000\" font-family=\"sans-serif\" font-size=\"12\" lengthAdjust=\"spacingAndGlyphs\" textLength=\"38\" x=\"74\" y=\"184.1074\">vp: VP</text><line style=\"stroke: #A80036; stroke-width: 1.5;\" x1=\"57\" x2=\"129\" y1=\"191.9375\" y2=\"191.9375\"/></a><!--MD5=[2156ba9850f5573cc1fc38a6a4b2f02b]\n",
       "class E7--><a href=\"psysml:5db0ac38-23f9-426f-a666-7fa33ad35708\" target=\"_top\" title=\"psysml:5db0ac38-23f9-426f-a666-7fa33ad35708\" xlink:actuate=\"onRequest\" xlink:href=\"psysml:5db0ac38-23f9-426f-a666-7fa33ad35708\" xlink:show=\"new\" xlink:title=\"psysml:5db0ac38-23f9-426f-a666-7fa33ad35708\" xlink:type=\"simple\"><rect fill=\"#FEFECE\" filter=\"url(#fni1o8uxfyttl)\" height=\"45.9375\" id=\"E7\" rx=\"10\" ry=\"10\" style=\"stroke: #A80036; stroke-width: 1.5;\" width=\"77\" x=\"177.5\" y=\"154\"/><text fill=\"#000000\" font-family=\"sans-serif\" font-size=\"12\" font-style=\"italic\" lengthAdjust=\"spacingAndGlyphs\" textLength=\"75\" x=\"178.5\" y=\"170.1387\">«rendering»</text><text fill=\"#000000\" font-family=\"sans-serif\" font-size=\"12\" lengthAdjust=\"spacingAndGlyphs\" textLength=\"21\" x=\"205.5\" y=\"184.1074\">r: R</text><line style=\"stroke: #A80036; stroke-width: 1.5;\" x1=\"178.5\" x2=\"253.5\" y1=\"191.9375\" y2=\"191.9375\"/></a><!--MD5=[b9389687b975829384b498ac4b7476b2]\n",
       "class E8--><a href=\"psysml:96dfc0dc-2946-48da-b50d-9c346f08b52f\" target=\"_top\" title=\"psysml:96dfc0dc-2946-48da-b50d-9c346f08b52f\" xlink:actuate=\"onRequest\" xlink:href=\"psysml:96dfc0dc-2946-48da-b50d-9c346f08b52f\" xlink:show=\"new\" xlink:title=\"psysml:96dfc0dc-2946-48da-b50d-9c346f08b52f\" xlink:type=\"simple\"><rect fill=\"#FEFECE\" filter=\"url(#fni1o8uxfyttl)\" height=\"45.9375\" id=\"E8\" rx=\"10\" ry=\"10\" style=\"stroke: #A80036; stroke-width: 1.5;\" width=\"42\" x=\"290\" y=\"154\"/><text fill=\"#000000\" font-family=\"sans-serif\" font-size=\"12\" font-style=\"italic\" lengthAdjust=\"spacingAndGlyphs\" textLength=\"40\" x=\"291\" y=\"170.1387\">«view»</text><text fill=\"#000000\" font-family=\"sans-serif\" font-size=\"12\" lengthAdjust=\"spacingAndGlyphs\" textLength=\"22\" x=\"300\" y=\"184.1074\">v: V</text><line style=\"stroke: #A80036; stroke-width: 1.5;\" x1=\"291\" x2=\"331\" y1=\"191.9375\" y2=\"191.9375\"/></a><!--MD5=[fd4143e9d270a159db93a4ea2a975926]\n",
       "class E9--><a href=\"psysml:fc5eb428-4a03-41d1-992b-aff2a13d3fb9\" target=\"_top\" title=\"psysml:fc5eb428-4a03-41d1-992b-aff2a13d3fb9\" xlink:actuate=\"onRequest\" xlink:href=\"psysml:fc5eb428-4a03-41d1-992b-aff2a13d3fb9\" xlink:show=\"new\" xlink:title=\"psysml:fc5eb428-4a03-41d1-992b-aff2a13d3fb9\" xlink:type=\"simple\"><rect fill=\"#FEFECE\" filter=\"url(#fni1o8uxfyttl)\" height=\"45.9375\" id=\"E9\" rx=\"10\" ry=\"10\" style=\"stroke: #A80036; stroke-width: 1.5;\" width=\"77\" x=\"301.5\" y=\"260\"/><text fill=\"#000000\" font-family=\"sans-serif\" font-size=\"12\" font-style=\"italic\" lengthAdjust=\"spacingAndGlyphs\" textLength=\"75\" x=\"302.5\" y=\"276.1387\">«rendering»</text><text fill=\"#000000\" font-family=\"sans-serif\" font-size=\"12\" lengthAdjust=\"spacingAndGlyphs\" textLength=\"13\" x=\"333.5\" y=\"290.1074\">r1</text><line style=\"stroke: #A80036; stroke-width: 1.5;\" x1=\"302.5\" x2=\"377.5\" y1=\"297.9375\" y2=\"297.9375\"/></a><a href=\"psysml:6d9f5c34-02db-4c22-b8ae-ed1a072d5ac7\" target=\"_top\" title=\"psysml:6d9f5c34-02db-4c22-b8ae-ed1a072d5ac7\" xlink:actuate=\"onRequest\" xlink:href=\"psysml:6d9f5c34-02db-4c22-b8ae-ed1a072d5ac7\" xlink:show=\"new\" xlink:title=\"psysml:6d9f5c34-02db-4c22-b8ae-ed1a072d5ac7\" xlink:type=\"simple\"><polygon fill=\"#FFFFFF\" filter=\"url(#fni1o8uxfyttl)\" points=\"122,41,138,41,145,63.2969,152,63.2969,152,93.5938,122,93.5938,122,41\" style=\"stroke: #000000; stroke-width: 1.5;\"/><line style=\"stroke: #000000; stroke-width: 1.5;\" x1=\"122\" x2=\"145\" y1=\"63.2969\" y2=\"63.2969\"/><text fill=\"#000000\" font-family=\"sans-serif\" font-size=\"14\" font-weight=\"bold\" lengthAdjust=\"spacingAndGlyphs\" textLength=\"10\" x=\"126\" y=\"55.9951\">P</text></a><!--MD5=[85d356282659285ab4b2cfe2f634dd2b]\n",
       "reverse link E5 to E6--><a href=\"psysml:b39da276-6b98-4aad-85bf-f9ecfc55683d\" target=\"_top\" title=\"psysml:b39da276-6b98-4aad-85bf-f9ecfc55683d\" xlink:actuate=\"onRequest\" xlink:href=\"psysml:b39da276-6b98-4aad-85bf-f9ecfc55683d\" xlink:show=\"new\" xlink:title=\"psysml:b39da276-6b98-4aad-85bf-f9ecfc55683d\" xlink:type=\"simple\"><path d=\"M218.61,96.57 C190.28,114.48 154.1,137.36 127.85,153.96 \" fill=\"none\" id=\"E5&lt;-E6\" style=\"stroke: #A80036; stroke-width: 1.0;\"/><polygon fill=\"#A80036\" points=\"229.82,89.48,222.6111,89.2999,219.6723,95.8849,226.8811,96.0651,229.82,89.48\" style=\"stroke: #A80036; stroke-width: 1.0;\"/></a><!--MD5=[a717450b82c80b9240a525fa862496af]\n",
       "link E6 to E3--><a href=\"psysml:7b3d769f-4c56-4413-aa9f-0104e9507d6b\" target=\"_top\" title=\"psysml:7b3d769f-4c56-4413-aa9f-0104e9507d6b\" xlink:actuate=\"onRequest\" xlink:href=\"psysml:7b3d769f-4c56-4413-aa9f-0104e9507d6b\" xlink:show=\"new\" xlink:title=\"psysml:7b3d769f-4c56-4413-aa9f-0104e9507d6b\" xlink:type=\"simple\"><path d=\"M90.46,200.06 C89.12,211.64 87.44,226.23 85.86,239.87 \" fill=\"none\" id=\"E6-&gt;E3\" style=\"stroke: #A80036; stroke-width: 1.0;\"/><polygon fill=\"#FFFFFF\" points=\"83.54,259.98,78.757,240.3046,92.6653,241.9044,83.54,259.98\" style=\"stroke: #A80036; stroke-width: 1.0;\"/><ellipse cx=\"81.3953\" cy=\"234.8704\" fill=\"#A80036\" rx=\"2\" ry=\"2\" style=\"stroke: #A80036; stroke-width: 1.0;\"/><ellipse cx=\"91.3298\" cy=\"236.0132\" fill=\"#A80036\" rx=\"2\" ry=\"2\" style=\"stroke: #A80036; stroke-width: 1.0;\"/></a><!--MD5=[6bdd27f9905911a7e892a3dc65cf6b7c]\n",
       "link E7 to E4--><a href=\"psysml:f768404d-501b-4614-8ab9-e2515f32fafd\" target=\"_top\" title=\"psysml:f768404d-501b-4614-8ab9-e2515f32fafd\" xlink:actuate=\"onRequest\" xlink:href=\"psysml:f768404d-501b-4614-8ab9-e2515f32fafd\" xlink:show=\"new\" xlink:title=\"psysml:f768404d-501b-4614-8ab9-e2515f32fafd\" xlink:type=\"simple\"><path d=\"M216,200.06 C216,211.64 216,226.23 216,239.87 \" fill=\"none\" id=\"E7-&gt;E4\" style=\"stroke: #A80036; stroke-width: 1.0;\"/><polygon fill=\"#FFFFFF\" points=\"216,259.98,209,240.98,223,240.98,216,259.98\" style=\"stroke: #A80036; stroke-width: 1.0;\"/><ellipse cx=\"211\" cy=\"235.28\" fill=\"#A80036\" rx=\"2\" ry=\"2\" style=\"stroke: #A80036; stroke-width: 1.0;\"/><ellipse cx=\"221\" cy=\"235.28\" fill=\"#A80036\" rx=\"2\" ry=\"2\" style=\"stroke: #A80036; stroke-width: 1.0;\"/></a><!--MD5=[452b418e7f8a40397a49b8c0a78acc5b]\n",
       "reverse link E5 to E7--><a href=\"psysml:5db0ac38-23f9-426f-a666-7fa33ad35708\" target=\"_top\" title=\"psysml:5db0ac38-23f9-426f-a666-7fa33ad35708\" xlink:actuate=\"onRequest\" xlink:href=\"psysml:5db0ac38-23f9-426f-a666-7fa33ad35708\" xlink:show=\"new\" xlink:title=\"psysml:5db0ac38-23f9-426f-a666-7fa33ad35708\" xlink:type=\"simple\"><path d=\"M248.1,102.57 C240.81,119.26 232.23,138.89 225.77,153.65 \" fill=\"none\" id=\"E5&lt;-E7\" style=\"stroke: #A80036; stroke-width: 1.0;\"/><polygon fill=\"#A80036\" points=\"253.38,90.51,247.31,94.4029,248.5688,101.5033,254.6388,97.6104,253.38,90.51\" style=\"stroke: #A80036; stroke-width: 1.0;\"/><text fill=\"#000000\" font-family=\"sans-serif\" font-size=\"13\" lengthAdjust=\"spacingAndGlyphs\" textLength=\"24\" x=\"201.1986\" y=\"142.8366\">0..1</text></a><!--MD5=[1ccb2481ffa92f8d51a74ee30c51832a]\n",
       "link E8 to E5--><a href=\"psysml:2ecacd66-b174-4fa5-a1f0-5f98a8e6e629\" target=\"_top\" title=\"psysml:2ecacd66-b174-4fa5-a1f0-5f98a8e6e629\" xlink:actuate=\"onRequest\" xlink:href=\"psysml:2ecacd66-b174-4fa5-a1f0-5f98a8e6e629\" xlink:show=\"new\" xlink:title=\"psysml:2ecacd66-b174-4fa5-a1f0-5f98a8e6e629\" xlink:type=\"simple\"><path d=\"M312.22,153.65 C308.53,140.48 301.55,123.44 293.74,108.07 \" fill=\"none\" id=\"E8-&gt;E5\" style=\"stroke: #A80036; stroke-width: 1.0;\"/><polygon fill=\"#FFFFFF\" points=\"283.97,90.51,299.3209,103.7142,287.0851,110.5174,283.97,90.51\" style=\"stroke: #A80036; stroke-width: 1.0;\"/><ellipse cx=\"300.3428\" cy=\"109.6678\" fill=\"#A80036\" rx=\"2\" ry=\"2\" style=\"stroke: #A80036; stroke-width: 1.0;\"/><ellipse cx=\"291.6029\" cy=\"114.5273\" fill=\"#A80036\" rx=\"2\" ry=\"2\" style=\"stroke: #A80036; stroke-width: 1.0;\"/></a><!--MD5=[827760032d119d06bbc92f75530fd7ae]\n",
       "reverse link E5 to E8--><a href=\"psysml:96dfc0dc-2946-48da-b50d-9c346f08b52f\" target=\"_top\" title=\"psysml:96dfc0dc-2946-48da-b50d-9c346f08b52f\" xlink:actuate=\"onRequest\" xlink:href=\"psysml:96dfc0dc-2946-48da-b50d-9c346f08b52f\" xlink:show=\"new\" xlink:title=\"psysml:96dfc0dc-2946-48da-b50d-9c346f08b52f\" xlink:type=\"simple\"><path d=\"M266.44,103.07 C272.49,119.65 281.62,139.03 290.44,153.65 \" fill=\"none\" id=\"E5&lt;-E8\" style=\"stroke: #A80036; stroke-width: 1.0;\"/><polygon fill=\"#A80036\" points=\"262.31,90.51,260.3836,97.459,266.0572,101.9099,267.9836,94.9609,262.31,90.51\" style=\"stroke: #A80036; stroke-width: 1.0;\"/><text fill=\"#000000\" font-family=\"sans-serif\" font-size=\"13\" lengthAdjust=\"spacingAndGlyphs\" textLength=\"7\" x=\"277.2746\" y=\"142.8366\">*</text></a><!--MD5=[22f5b4bae7e060dce8a1c8021efdb95b]\n",
       "reverse link E8 to E9--><a href=\"psysml:fc5eb428-4a03-41d1-992b-aff2a13d3fb9\" target=\"_top\" title=\"psysml:fc5eb428-4a03-41d1-992b-aff2a13d3fb9\" xlink:actuate=\"onRequest\" xlink:href=\"psysml:fc5eb428-4a03-41d1-992b-aff2a13d3fb9\" xlink:show=\"new\" xlink:title=\"psysml:fc5eb428-4a03-41d1-992b-aff2a13d3fb9\" xlink:type=\"simple\"><path d=\"M320.75,212.96 C325.08,228.51 330.05,246.33 333.86,259.98 \" fill=\"none\" id=\"E8&lt;-E9\" style=\"stroke: #A80036; stroke-width: 1.0;\"/><polygon fill=\"#A80036\" points=\"317.15,200.06,314.9066,206.9133,320.3699,211.6199,322.6133,204.7667,317.15,200.06\" style=\"stroke: #A80036; stroke-width: 1.0;\"/></a><!--MD5=[3ea09a25e27a3707cff58461ed6d6361]\n",
       "@startuml\r\n",
       "skinparam wrapWidth 300\r\n",
       "hide circle\r\n",
       "\r\n",
       "package \"ViewTest\" as E1  [[psysml:fb02ed11-6398-4cea-b135-53d0cca9c478 ]]  {\r\n",
       "package \"P\" as E2  [[psysml:6d9f5c34-02db-4c22-b8ae-ed1a072d5ac7 ]]  {\r\n",
       "}\r\n",
       "comp def \"VP\" as E3  <<(T,blue)viewpoint def>> [[psysml:436e526f-0cc5-474d-8f19-4580d940df20 ]] {\r\n",
       "}\r\n",
       "comp def \"R\" as E4  <<(T,blue)rendering def>> [[psysml:053dc08e-a8e7-4770-acc6-30068883d6d6 ]] {\r\n",
       "}\r\n",
       "comp def \"V\" as E5  <<(T,blue)view def>> [[psysml:2fa1d21f-0378-4832-ab0e-3c490c491fc9 ]] {\r\n",
       "}\r\n",
       "comp usage \"vp: VP\" as E6  <<(T,blue)viewpoint>> [[psysml:b39da276-6b98-4aad-85bf-f9ecfc55683d ]] {\r\n",
       "}\r\n",
       "comp usage \"r: R\" as E7  <<(T,blue)rendering>> [[psysml:5db0ac38-23f9-426f-a666-7fa33ad35708 ]] {\r\n",
       "}\r\n",
       "comp usage \"v: V\" as E8  <<(T,blue)view>> [[psysml:96dfc0dc-2946-48da-b50d-9c346f08b52f ]] {\r\n",
       "}\r\n",
       "comp usage \"r1\" as E9  <<(T,blue)rendering>> [[psysml:fc5eb428-4a03-41d1-992b-aff2a13d3fb9 ]] {\r\n",
       "}\r\n",
       "E5 *- - E6 [[psysml:b39da276-6b98-4aad-85bf-f9ecfc55683d ]] \r\n",
       "E6 - -:|> E3 [[psysml:7b3d769f-4c56-4413-aa9f-0104e9507d6b ]] \r\n",
       "E7 - -:|> E4 [[psysml:f768404d-501b-4614-8ab9-e2515f32fafd ]] \r\n",
       "E5 *- - \"0..1\"E7 [[psysml:5db0ac38-23f9-426f-a666-7fa33ad35708 ]] \r\n",
       "E8 - -:|> E5 [[psysml:2ecacd66-b174-4fa5-a1f0-5f98a8e6e629 ]] \r\n",
       "E5 *- - \"*\"E8 [[psysml:96dfc0dc-2946-48da-b50d-9c346f08b52f ]] \r\n",
       "E8 *- - E9 [[psysml:fc5eb428-4a03-41d1-992b-aff2a13d3fb9 ]] \r\n",
       "}\r\n",
       "@enduml\r\n",
       "\n",
       "PlantUML version 1.2020.13(Sat Jun 13 12:26:38 UTC 2020)\n",
       "(EPL source distribution)\n",
       "Java Runtime: OpenJDK Runtime Environment\n",
       "JVM: OpenJDK 64-Bit Server VM\n",
       "Default Encoding: UTF-8\n",
       "Language: en\n",
       "Country: null\n",
       "--></g></svg>"
      ]
     },
     "execution_count": 28,
     "metadata": {},
     "output_type": "execute_result"
    }
   ],
   "source": [
    "%viz --style=\"STDCOLOR\" --view=\"Sequence\" \"ViewTest\""
   ]
  },
  {
   "cell_type": "code",
   "execution_count": 29,
   "id": "skilled-difference",
   "metadata": {
    "execution": {
     "iopub.execute_input": "2021-03-24T16:32:12.962407Z",
     "iopub.status.busy": "2021-03-24T16:32:12.961937Z",
     "iopub.status.idle": "2021-03-24T16:32:12.998981Z",
     "shell.execute_reply": "2021-03-24T16:32:12.997394Z"
    }
   },
   "outputs": [
    {
     "data": {
      "image/svg+xml": [
       "<?xml version=\"1.0\" encoding=\"UTF-8\" standalone=\"no\"?><svg xmlns=\"http://www.w3.org/2000/svg\" xmlns:xlink=\"http://www.w3.org/1999/xlink\" contentScriptType=\"application/ecmascript\" contentStyleType=\"text/css\" height=\"334px\" preserveAspectRatio=\"none\" style=\"width:417px;height:334px;\" version=\"1.1\" viewBox=\"0 0 417 334\" width=\"417px\" zoomAndPan=\"magnify\"><defs><filter height=\"300%\" id=\"fni1o8uxfyttl\" width=\"300%\" x=\"-1\" y=\"-1\"><feGaussianBlur result=\"blurOut\" stdDeviation=\"2.0\"/><feColorMatrix in=\"blurOut\" result=\"blurOut2\" type=\"matrix\" values=\"0 0 0 0 0 0 0 0 0 0 0 0 0 0 0 0 0 0 .4 0\"/><feOffset dx=\"4.0\" dy=\"4.0\" in=\"blurOut2\" result=\"blurOut3\"/><feBlend in=\"SourceGraphic\" in2=\"blurOut3\" mode=\"normal\"/></filter></defs><g><!--MD5=[fbc87193dbaf4d95561dea2c320d4a47]\n",
       "cluster E1--><a href=\"psysml:fb02ed11-6398-4cea-b135-53d0cca9c478\" target=\"_top\" title=\"psysml:fb02ed11-6398-4cea-b135-53d0cca9c478\" xlink:actuate=\"onRequest\" xlink:href=\"psysml:fb02ed11-6398-4cea-b135-53d0cca9c478\" xlink:show=\"new\" xlink:title=\"psysml:fb02ed11-6398-4cea-b135-53d0cca9c478\" xlink:type=\"simple\"><polygon fill=\"#FFFFFF\" filter=\"url(#fni1o8uxfyttl)\" points=\"16,6,96,6,103,28.2969,395,28.2969,395,322,16,322,16,6\" style=\"stroke: #000000; stroke-width: 1.5;\"/><line style=\"stroke: #000000; stroke-width: 1.5;\" x1=\"16\" x2=\"103\" y1=\"28.2969\" y2=\"28.2969\"/><text fill=\"#000000\" font-family=\"sans-serif\" font-size=\"14\" font-weight=\"bold\" lengthAdjust=\"spacingAndGlyphs\" textLength=\"74\" x=\"20\" y=\"20.9951\">ViewTest</text></a><!--MD5=[09b614a08d8cba4a07c9adeb5e0fee81]\n",
       "class E3--><a href=\"psysml:436e526f-0cc5-474d-8f19-4580d940df20\" target=\"_top\" title=\"psysml:436e526f-0cc5-474d-8f19-4580d940df20\" xlink:actuate=\"onRequest\" xlink:href=\"psysml:436e526f-0cc5-474d-8f19-4580d940df20\" xlink:show=\"new\" xlink:title=\"psysml:436e526f-0cc5-474d-8f19-4580d940df20\" xlink:type=\"simple\"><rect fill=\"#FEFECE\" filter=\"url(#fni1o8uxfyttl)\" height=\"45.9375\" id=\"E3\" style=\"stroke: #A80036; stroke-width: 1.5;\" width=\"98\" x=\"32\" y=\"260\"/><text fill=\"#000000\" font-family=\"sans-serif\" font-size=\"12\" font-style=\"italic\" lengthAdjust=\"spacingAndGlyphs\" textLength=\"96\" x=\"33\" y=\"276.1387\">«viewpoint def»</text><text fill=\"#000000\" font-family=\"sans-serif\" font-size=\"12\" lengthAdjust=\"spacingAndGlyphs\" textLength=\"16\" x=\"73\" y=\"290.1074\">VP</text><line style=\"stroke: #A80036; stroke-width: 1.5;\" x1=\"33\" x2=\"129\" y1=\"297.9375\" y2=\"297.9375\"/></a><!--MD5=[ebbe1d658d1005bcc118a6aa81145e00]\n",
       "class E4--><a href=\"psysml:053dc08e-a8e7-4770-acc6-30068883d6d6\" target=\"_top\" title=\"psysml:053dc08e-a8e7-4770-acc6-30068883d6d6\" xlink:actuate=\"onRequest\" xlink:href=\"psysml:053dc08e-a8e7-4770-acc6-30068883d6d6\" xlink:show=\"new\" xlink:title=\"psysml:053dc08e-a8e7-4770-acc6-30068883d6d6\" xlink:type=\"simple\"><rect fill=\"#FEFECE\" filter=\"url(#fni1o8uxfyttl)\" height=\"45.9375\" id=\"E4\" style=\"stroke: #A80036; stroke-width: 1.5;\" width=\"101\" x=\"165.5\" y=\"260\"/><text fill=\"#000000\" font-family=\"sans-serif\" font-size=\"12\" font-style=\"italic\" lengthAdjust=\"spacingAndGlyphs\" textLength=\"99\" x=\"166.5\" y=\"276.1387\">«rendering def»</text><text fill=\"#000000\" font-family=\"sans-serif\" font-size=\"12\" lengthAdjust=\"spacingAndGlyphs\" textLength=\"8\" x=\"212\" y=\"290.1074\">R</text><line style=\"stroke: #A80036; stroke-width: 1.5;\" x1=\"166.5\" x2=\"265.5\" y1=\"297.9375\" y2=\"297.9375\"/></a><!--MD5=[270fce915f116d4de14055a7c1d9a0f3]\n",
       "class E5--><a href=\"psysml:2fa1d21f-0378-4832-ab0e-3c490c491fc9\" target=\"_top\" title=\"psysml:2fa1d21f-0378-4832-ab0e-3c490c491fc9\" xlink:actuate=\"onRequest\" xlink:href=\"psysml:2fa1d21f-0378-4832-ab0e-3c490c491fc9\" xlink:show=\"new\" xlink:title=\"psysml:2fa1d21f-0378-4832-ab0e-3c490c491fc9\" xlink:type=\"simple\"><rect fill=\"#FEFECE\" filter=\"url(#fni1o8uxfyttl)\" height=\"45.9375\" id=\"E5\" style=\"stroke: #A80036; stroke-width: 1.5;\" width=\"66\" x=\"230\" y=\"44.5\"/><text fill=\"#000000\" font-family=\"sans-serif\" font-size=\"12\" font-style=\"italic\" lengthAdjust=\"spacingAndGlyphs\" textLength=\"64\" x=\"231\" y=\"60.6387\">«view def»</text><text fill=\"#000000\" font-family=\"sans-serif\" font-size=\"12\" lengthAdjust=\"spacingAndGlyphs\" textLength=\"8\" x=\"259\" y=\"74.6074\">V</text><line style=\"stroke: #A80036; stroke-width: 1.5;\" x1=\"231\" x2=\"295\" y1=\"82.4375\" y2=\"82.4375\"/></a><!--MD5=[60a26617385b1d2d0262a64233df1f8d]\n",
       "class E6--><a href=\"psysml:b39da276-6b98-4aad-85bf-f9ecfc55683d\" target=\"_top\" title=\"psysml:b39da276-6b98-4aad-85bf-f9ecfc55683d\" xlink:actuate=\"onRequest\" xlink:href=\"psysml:b39da276-6b98-4aad-85bf-f9ecfc55683d\" xlink:show=\"new\" xlink:title=\"psysml:b39da276-6b98-4aad-85bf-f9ecfc55683d\" xlink:type=\"simple\"><rect fill=\"#FEFECE\" filter=\"url(#fni1o8uxfyttl)\" height=\"45.9375\" id=\"E6\" rx=\"10\" ry=\"10\" style=\"stroke: #A80036; stroke-width: 1.5;\" width=\"74\" x=\"56\" y=\"154\"/><text fill=\"#000000\" font-family=\"sans-serif\" font-size=\"12\" font-style=\"italic\" lengthAdjust=\"spacingAndGlyphs\" textLength=\"72\" x=\"57\" y=\"170.1387\">«viewpoint»</text><text fill=\"#000000\" font-family=\"sans-serif\" font-size=\"12\" lengthAdjust=\"spacingAndGlyphs\" textLength=\"38\" x=\"74\" y=\"184.1074\">vp: VP</text><line style=\"stroke: #A80036; stroke-width: 1.5;\" x1=\"57\" x2=\"129\" y1=\"191.9375\" y2=\"191.9375\"/></a><!--MD5=[2156ba9850f5573cc1fc38a6a4b2f02b]\n",
       "class E7--><a href=\"psysml:5db0ac38-23f9-426f-a666-7fa33ad35708\" target=\"_top\" title=\"psysml:5db0ac38-23f9-426f-a666-7fa33ad35708\" xlink:actuate=\"onRequest\" xlink:href=\"psysml:5db0ac38-23f9-426f-a666-7fa33ad35708\" xlink:show=\"new\" xlink:title=\"psysml:5db0ac38-23f9-426f-a666-7fa33ad35708\" xlink:type=\"simple\"><rect fill=\"#FEFECE\" filter=\"url(#fni1o8uxfyttl)\" height=\"45.9375\" id=\"E7\" rx=\"10\" ry=\"10\" style=\"stroke: #A80036; stroke-width: 1.5;\" width=\"77\" x=\"177.5\" y=\"154\"/><text fill=\"#000000\" font-family=\"sans-serif\" font-size=\"12\" font-style=\"italic\" lengthAdjust=\"spacingAndGlyphs\" textLength=\"75\" x=\"178.5\" y=\"170.1387\">«rendering»</text><text fill=\"#000000\" font-family=\"sans-serif\" font-size=\"12\" lengthAdjust=\"spacingAndGlyphs\" textLength=\"21\" x=\"205.5\" y=\"184.1074\">r: R</text><line style=\"stroke: #A80036; stroke-width: 1.5;\" x1=\"178.5\" x2=\"253.5\" y1=\"191.9375\" y2=\"191.9375\"/></a><!--MD5=[b9389687b975829384b498ac4b7476b2]\n",
       "class E8--><a href=\"psysml:96dfc0dc-2946-48da-b50d-9c346f08b52f\" target=\"_top\" title=\"psysml:96dfc0dc-2946-48da-b50d-9c346f08b52f\" xlink:actuate=\"onRequest\" xlink:href=\"psysml:96dfc0dc-2946-48da-b50d-9c346f08b52f\" xlink:show=\"new\" xlink:title=\"psysml:96dfc0dc-2946-48da-b50d-9c346f08b52f\" xlink:type=\"simple\"><rect fill=\"#FEFECE\" filter=\"url(#fni1o8uxfyttl)\" height=\"45.9375\" id=\"E8\" rx=\"10\" ry=\"10\" style=\"stroke: #A80036; stroke-width: 1.5;\" width=\"42\" x=\"290\" y=\"154\"/><text fill=\"#000000\" font-family=\"sans-serif\" font-size=\"12\" font-style=\"italic\" lengthAdjust=\"spacingAndGlyphs\" textLength=\"40\" x=\"291\" y=\"170.1387\">«view»</text><text fill=\"#000000\" font-family=\"sans-serif\" font-size=\"12\" lengthAdjust=\"spacingAndGlyphs\" textLength=\"22\" x=\"300\" y=\"184.1074\">v: V</text><line style=\"stroke: #A80036; stroke-width: 1.5;\" x1=\"291\" x2=\"331\" y1=\"191.9375\" y2=\"191.9375\"/></a><!--MD5=[fd4143e9d270a159db93a4ea2a975926]\n",
       "class E9--><a href=\"psysml:fc5eb428-4a03-41d1-992b-aff2a13d3fb9\" target=\"_top\" title=\"psysml:fc5eb428-4a03-41d1-992b-aff2a13d3fb9\" xlink:actuate=\"onRequest\" xlink:href=\"psysml:fc5eb428-4a03-41d1-992b-aff2a13d3fb9\" xlink:show=\"new\" xlink:title=\"psysml:fc5eb428-4a03-41d1-992b-aff2a13d3fb9\" xlink:type=\"simple\"><rect fill=\"#FEFECE\" filter=\"url(#fni1o8uxfyttl)\" height=\"45.9375\" id=\"E9\" rx=\"10\" ry=\"10\" style=\"stroke: #A80036; stroke-width: 1.5;\" width=\"77\" x=\"301.5\" y=\"260\"/><text fill=\"#000000\" font-family=\"sans-serif\" font-size=\"12\" font-style=\"italic\" lengthAdjust=\"spacingAndGlyphs\" textLength=\"75\" x=\"302.5\" y=\"276.1387\">«rendering»</text><text fill=\"#000000\" font-family=\"sans-serif\" font-size=\"12\" lengthAdjust=\"spacingAndGlyphs\" textLength=\"13\" x=\"333.5\" y=\"290.1074\">r1</text><line style=\"stroke: #A80036; stroke-width: 1.5;\" x1=\"302.5\" x2=\"377.5\" y1=\"297.9375\" y2=\"297.9375\"/></a><a href=\"psysml:6d9f5c34-02db-4c22-b8ae-ed1a072d5ac7\" target=\"_top\" title=\"psysml:6d9f5c34-02db-4c22-b8ae-ed1a072d5ac7\" xlink:actuate=\"onRequest\" xlink:href=\"psysml:6d9f5c34-02db-4c22-b8ae-ed1a072d5ac7\" xlink:show=\"new\" xlink:title=\"psysml:6d9f5c34-02db-4c22-b8ae-ed1a072d5ac7\" xlink:type=\"simple\"><polygon fill=\"#FFFFFF\" filter=\"url(#fni1o8uxfyttl)\" points=\"122,41,138,41,145,63.2969,152,63.2969,152,93.5938,122,93.5938,122,41\" style=\"stroke: #000000; stroke-width: 1.5;\"/><line style=\"stroke: #000000; stroke-width: 1.5;\" x1=\"122\" x2=\"145\" y1=\"63.2969\" y2=\"63.2969\"/><text fill=\"#000000\" font-family=\"sans-serif\" font-size=\"14\" font-weight=\"bold\" lengthAdjust=\"spacingAndGlyphs\" textLength=\"10\" x=\"126\" y=\"55.9951\">P</text></a><!--MD5=[85d356282659285ab4b2cfe2f634dd2b]\n",
       "reverse link E5 to E6--><a href=\"psysml:b39da276-6b98-4aad-85bf-f9ecfc55683d\" target=\"_top\" title=\"psysml:b39da276-6b98-4aad-85bf-f9ecfc55683d\" xlink:actuate=\"onRequest\" xlink:href=\"psysml:b39da276-6b98-4aad-85bf-f9ecfc55683d\" xlink:show=\"new\" xlink:title=\"psysml:b39da276-6b98-4aad-85bf-f9ecfc55683d\" xlink:type=\"simple\"><path d=\"M218.61,96.57 C190.28,114.48 154.1,137.36 127.85,153.96 \" fill=\"none\" id=\"E5&lt;-E6\" style=\"stroke: #A80036; stroke-width: 1.0;\"/><polygon fill=\"#A80036\" points=\"229.82,89.48,222.6111,89.2999,219.6723,95.8849,226.8811,96.0651,229.82,89.48\" style=\"stroke: #A80036; stroke-width: 1.0;\"/></a><!--MD5=[a717450b82c80b9240a525fa862496af]\n",
       "link E6 to E3--><a href=\"psysml:7b3d769f-4c56-4413-aa9f-0104e9507d6b\" target=\"_top\" title=\"psysml:7b3d769f-4c56-4413-aa9f-0104e9507d6b\" xlink:actuate=\"onRequest\" xlink:href=\"psysml:7b3d769f-4c56-4413-aa9f-0104e9507d6b\" xlink:show=\"new\" xlink:title=\"psysml:7b3d769f-4c56-4413-aa9f-0104e9507d6b\" xlink:type=\"simple\"><path d=\"M90.46,200.06 C89.12,211.64 87.44,226.23 85.86,239.87 \" fill=\"none\" id=\"E6-&gt;E3\" style=\"stroke: #A80036; stroke-width: 1.0;\"/><polygon fill=\"#FFFFFF\" points=\"83.54,259.98,78.757,240.3046,92.6653,241.9044,83.54,259.98\" style=\"stroke: #A80036; stroke-width: 1.0;\"/><ellipse cx=\"81.3953\" cy=\"234.8704\" fill=\"#A80036\" rx=\"2\" ry=\"2\" style=\"stroke: #A80036; stroke-width: 1.0;\"/><ellipse cx=\"91.3298\" cy=\"236.0132\" fill=\"#A80036\" rx=\"2\" ry=\"2\" style=\"stroke: #A80036; stroke-width: 1.0;\"/></a><!--MD5=[6bdd27f9905911a7e892a3dc65cf6b7c]\n",
       "link E7 to E4--><a href=\"psysml:f768404d-501b-4614-8ab9-e2515f32fafd\" target=\"_top\" title=\"psysml:f768404d-501b-4614-8ab9-e2515f32fafd\" xlink:actuate=\"onRequest\" xlink:href=\"psysml:f768404d-501b-4614-8ab9-e2515f32fafd\" xlink:show=\"new\" xlink:title=\"psysml:f768404d-501b-4614-8ab9-e2515f32fafd\" xlink:type=\"simple\"><path d=\"M216,200.06 C216,211.64 216,226.23 216,239.87 \" fill=\"none\" id=\"E7-&gt;E4\" style=\"stroke: #A80036; stroke-width: 1.0;\"/><polygon fill=\"#FFFFFF\" points=\"216,259.98,209,240.98,223,240.98,216,259.98\" style=\"stroke: #A80036; stroke-width: 1.0;\"/><ellipse cx=\"211\" cy=\"235.28\" fill=\"#A80036\" rx=\"2\" ry=\"2\" style=\"stroke: #A80036; stroke-width: 1.0;\"/><ellipse cx=\"221\" cy=\"235.28\" fill=\"#A80036\" rx=\"2\" ry=\"2\" style=\"stroke: #A80036; stroke-width: 1.0;\"/></a><!--MD5=[452b418e7f8a40397a49b8c0a78acc5b]\n",
       "reverse link E5 to E7--><a href=\"psysml:5db0ac38-23f9-426f-a666-7fa33ad35708\" target=\"_top\" title=\"psysml:5db0ac38-23f9-426f-a666-7fa33ad35708\" xlink:actuate=\"onRequest\" xlink:href=\"psysml:5db0ac38-23f9-426f-a666-7fa33ad35708\" xlink:show=\"new\" xlink:title=\"psysml:5db0ac38-23f9-426f-a666-7fa33ad35708\" xlink:type=\"simple\"><path d=\"M248.1,102.57 C240.81,119.26 232.23,138.89 225.77,153.65 \" fill=\"none\" id=\"E5&lt;-E7\" style=\"stroke: #A80036; stroke-width: 1.0;\"/><polygon fill=\"#A80036\" points=\"253.38,90.51,247.31,94.4029,248.5688,101.5033,254.6388,97.6104,253.38,90.51\" style=\"stroke: #A80036; stroke-width: 1.0;\"/><text fill=\"#000000\" font-family=\"sans-serif\" font-size=\"13\" lengthAdjust=\"spacingAndGlyphs\" textLength=\"24\" x=\"201.1986\" y=\"142.8366\">0..1</text></a><!--MD5=[1ccb2481ffa92f8d51a74ee30c51832a]\n",
       "link E8 to E5--><a href=\"psysml:2ecacd66-b174-4fa5-a1f0-5f98a8e6e629\" target=\"_top\" title=\"psysml:2ecacd66-b174-4fa5-a1f0-5f98a8e6e629\" xlink:actuate=\"onRequest\" xlink:href=\"psysml:2ecacd66-b174-4fa5-a1f0-5f98a8e6e629\" xlink:show=\"new\" xlink:title=\"psysml:2ecacd66-b174-4fa5-a1f0-5f98a8e6e629\" xlink:type=\"simple\"><path d=\"M312.22,153.65 C308.53,140.48 301.55,123.44 293.74,108.07 \" fill=\"none\" id=\"E8-&gt;E5\" style=\"stroke: #A80036; stroke-width: 1.0;\"/><polygon fill=\"#FFFFFF\" points=\"283.97,90.51,299.3209,103.7142,287.0851,110.5174,283.97,90.51\" style=\"stroke: #A80036; stroke-width: 1.0;\"/><ellipse cx=\"300.3428\" cy=\"109.6678\" fill=\"#A80036\" rx=\"2\" ry=\"2\" style=\"stroke: #A80036; stroke-width: 1.0;\"/><ellipse cx=\"291.6029\" cy=\"114.5273\" fill=\"#A80036\" rx=\"2\" ry=\"2\" style=\"stroke: #A80036; stroke-width: 1.0;\"/></a><!--MD5=[827760032d119d06bbc92f75530fd7ae]\n",
       "reverse link E5 to E8--><a href=\"psysml:96dfc0dc-2946-48da-b50d-9c346f08b52f\" target=\"_top\" title=\"psysml:96dfc0dc-2946-48da-b50d-9c346f08b52f\" xlink:actuate=\"onRequest\" xlink:href=\"psysml:96dfc0dc-2946-48da-b50d-9c346f08b52f\" xlink:show=\"new\" xlink:title=\"psysml:96dfc0dc-2946-48da-b50d-9c346f08b52f\" xlink:type=\"simple\"><path d=\"M266.44,103.07 C272.49,119.65 281.62,139.03 290.44,153.65 \" fill=\"none\" id=\"E5&lt;-E8\" style=\"stroke: #A80036; stroke-width: 1.0;\"/><polygon fill=\"#A80036\" points=\"262.31,90.51,260.3836,97.459,266.0572,101.9099,267.9836,94.9609,262.31,90.51\" style=\"stroke: #A80036; stroke-width: 1.0;\"/><text fill=\"#000000\" font-family=\"sans-serif\" font-size=\"13\" lengthAdjust=\"spacingAndGlyphs\" textLength=\"7\" x=\"277.2746\" y=\"142.8366\">*</text></a><!--MD5=[22f5b4bae7e060dce8a1c8021efdb95b]\n",
       "reverse link E8 to E9--><a href=\"psysml:fc5eb428-4a03-41d1-992b-aff2a13d3fb9\" target=\"_top\" title=\"psysml:fc5eb428-4a03-41d1-992b-aff2a13d3fb9\" xlink:actuate=\"onRequest\" xlink:href=\"psysml:fc5eb428-4a03-41d1-992b-aff2a13d3fb9\" xlink:show=\"new\" xlink:title=\"psysml:fc5eb428-4a03-41d1-992b-aff2a13d3fb9\" xlink:type=\"simple\"><path d=\"M320.75,212.96 C325.08,228.51 330.05,246.33 333.86,259.98 \" fill=\"none\" id=\"E8&lt;-E9\" style=\"stroke: #A80036; stroke-width: 1.0;\"/><polygon fill=\"#A80036\" points=\"317.15,200.06,314.9066,206.9133,320.3699,211.6199,322.6133,204.7667,317.15,200.06\" style=\"stroke: #A80036; stroke-width: 1.0;\"/></a><!--MD5=[3ea09a25e27a3707cff58461ed6d6361]\n",
       "@startuml\r\n",
       "skinparam wrapWidth 300\r\n",
       "hide circle\r\n",
       "\r\n",
       "package \"ViewTest\" as E1  [[psysml:fb02ed11-6398-4cea-b135-53d0cca9c478 ]]  {\r\n",
       "package \"P\" as E2  [[psysml:6d9f5c34-02db-4c22-b8ae-ed1a072d5ac7 ]]  {\r\n",
       "}\r\n",
       "comp def \"VP\" as E3  <<(T,blue)viewpoint def>> [[psysml:436e526f-0cc5-474d-8f19-4580d940df20 ]] {\r\n",
       "}\r\n",
       "comp def \"R\" as E4  <<(T,blue)rendering def>> [[psysml:053dc08e-a8e7-4770-acc6-30068883d6d6 ]] {\r\n",
       "}\r\n",
       "comp def \"V\" as E5  <<(T,blue)view def>> [[psysml:2fa1d21f-0378-4832-ab0e-3c490c491fc9 ]] {\r\n",
       "}\r\n",
       "comp usage \"vp: VP\" as E6  <<(T,blue)viewpoint>> [[psysml:b39da276-6b98-4aad-85bf-f9ecfc55683d ]] {\r\n",
       "}\r\n",
       "comp usage \"r: R\" as E7  <<(T,blue)rendering>> [[psysml:5db0ac38-23f9-426f-a666-7fa33ad35708 ]] {\r\n",
       "}\r\n",
       "comp usage \"v: V\" as E8  <<(T,blue)view>> [[psysml:96dfc0dc-2946-48da-b50d-9c346f08b52f ]] {\r\n",
       "}\r\n",
       "comp usage \"r1\" as E9  <<(T,blue)rendering>> [[psysml:fc5eb428-4a03-41d1-992b-aff2a13d3fb9 ]] {\r\n",
       "}\r\n",
       "E5 *- - E6 [[psysml:b39da276-6b98-4aad-85bf-f9ecfc55683d ]] \r\n",
       "E6 - -:|> E3 [[psysml:7b3d769f-4c56-4413-aa9f-0104e9507d6b ]] \r\n",
       "E7 - -:|> E4 [[psysml:f768404d-501b-4614-8ab9-e2515f32fafd ]] \r\n",
       "E5 *- - \"0..1\"E7 [[psysml:5db0ac38-23f9-426f-a666-7fa33ad35708 ]] \r\n",
       "E8 - -:|> E5 [[psysml:2ecacd66-b174-4fa5-a1f0-5f98a8e6e629 ]] \r\n",
       "E5 *- - \"*\"E8 [[psysml:96dfc0dc-2946-48da-b50d-9c346f08b52f ]] \r\n",
       "E8 *- - E9 [[psysml:fc5eb428-4a03-41d1-992b-aff2a13d3fb9 ]] \r\n",
       "}\r\n",
       "@enduml\r\n",
       "\n",
       "PlantUML version 1.2020.13(Sat Jun 13 12:26:38 UTC 2020)\n",
       "(EPL source distribution)\n",
       "Java Runtime: OpenJDK Runtime Environment\n",
       "JVM: OpenJDK 64-Bit Server VM\n",
       "Default Encoding: UTF-8\n",
       "Language: en\n",
       "Country: null\n",
       "--></g></svg>"
      ]
     },
     "execution_count": 29,
     "metadata": {},
     "output_type": "execute_result"
    }
   ],
   "source": [
    "%viz --style=\"STDCOLOR\" --view=\"MIXED\" \"ViewTest\""
   ]
  },
  {
   "cell_type": "code",
   "execution_count": 30,
   "id": "hindu-treatment",
   "metadata": {
    "execution": {
     "iopub.execute_input": "2021-03-24T16:32:13.048701Z",
     "iopub.status.busy": "2021-03-24T16:32:13.048328Z",
     "iopub.status.idle": "2021-03-24T16:32:13.106843Z",
     "shell.execute_reply": "2021-03-24T16:32:13.107202Z"
    }
   },
   "outputs": [
    {
     "data": {
      "image/svg+xml": [
       "<?xml version=\"1.0\" encoding=\"UTF-8\" standalone=\"no\"?><svg xmlns=\"http://www.w3.org/2000/svg\" xmlns:xlink=\"http://www.w3.org/1999/xlink\" contentScriptType=\"application/ecmascript\" contentStyleType=\"text/css\" height=\"334px\" preserveAspectRatio=\"none\" style=\"width:376px;height:334px;\" version=\"1.1\" viewBox=\"0 0 376 334\" width=\"376px\" zoomAndPan=\"magnify\"><defs><filter height=\"300%\" id=\"f168b532cpthwi\" width=\"300%\" x=\"-1\" y=\"-1\"><feGaussianBlur result=\"blurOut\" stdDeviation=\"2.0\"/><feColorMatrix in=\"blurOut\" result=\"blurOut2\" type=\"matrix\" values=\"0 0 0 0 0 0 0 0 0 0 0 0 0 0 0 0 0 0 .4 0\"/><feOffset dx=\"4.0\" dy=\"4.0\" in=\"blurOut2\" result=\"blurOut3\"/><feBlend in=\"SourceGraphic\" in2=\"blurOut3\" mode=\"normal\"/></filter></defs><g><!--MD5=[fbc87193dbaf4d95561dea2c320d4a47]\n",
       "cluster E1--><a href=\"psysml:fb02ed11-6398-4cea-b135-53d0cca9c478\" target=\"_top\" title=\"psysml:fb02ed11-6398-4cea-b135-53d0cca9c478\" xlink:actuate=\"onRequest\" xlink:href=\"psysml:fb02ed11-6398-4cea-b135-53d0cca9c478\" xlink:show=\"new\" xlink:title=\"psysml:fb02ed11-6398-4cea-b135-53d0cca9c478\" xlink:type=\"simple\"><polygon fill=\"#FFFFFF\" filter=\"url(#f168b532cpthwi)\" points=\"16,6,96,6,103,28.2969,354,28.2969,354,322,16,322,16,6\" style=\"stroke: #000000; stroke-width: 1.5;\"/><line style=\"stroke: #000000; stroke-width: 1.5;\" x1=\"16\" x2=\"103\" y1=\"28.2969\" y2=\"28.2969\"/><text fill=\"#000000\" font-family=\"sans-serif\" font-size=\"14\" font-weight=\"bold\" lengthAdjust=\"spacingAndGlyphs\" textLength=\"74\" x=\"20\" y=\"20.9951\">ViewTest</text></a><!--MD5=[09b614a08d8cba4a07c9adeb5e0fee81]\n",
       "class E3--><a href=\"psysml:436e526f-0cc5-474d-8f19-4580d940df20\" target=\"_top\" title=\"psysml:436e526f-0cc5-474d-8f19-4580d940df20\" xlink:actuate=\"onRequest\" xlink:href=\"psysml:436e526f-0cc5-474d-8f19-4580d940df20\" xlink:show=\"new\" xlink:title=\"psysml:436e526f-0cc5-474d-8f19-4580d940df20\" xlink:type=\"simple\"><rect fill=\"#FEFECE\" filter=\"url(#f168b532cpthwi)\" height=\"45.9375\" id=\"E3\" style=\"stroke: #A80036; stroke-width: 1.5;\" width=\"124\" x=\"32\" y=\"260\"/><ellipse cx=\"47\" cy=\"278.9688\" fill=\"#A52A2A\" rx=\"11\" ry=\"11\" style=\"stroke: #A80036; stroke-width: 1.0;\"/><path d=\"M46.5938,274.7813 L46.5938,282.7656 L47.25,282.7656 Q48.6875,282.7656 49.2969,281.8594 Q49.9219,280.9375 49.9219,278.7656 Q49.9219,276.5938 49.2969,275.6875 Q48.6875,274.7813 47.25,274.7813 L46.5938,274.7813 Z M44.1406,272.5781 L46.7656,272.5781 Q49.7969,272.5781 51.125,274.0313 Q52.4688,275.4688 52.4688,278.7656 Q52.4688,282.0625 51.125,283.5156 Q49.7969,284.9688 46.7656,284.9688 L44.1406,284.9688 L44.1406,272.5781 Z \"/><text fill=\"#000000\" font-family=\"sans-serif\" font-size=\"12\" font-style=\"italic\" lengthAdjust=\"spacingAndGlyphs\" textLength=\"96\" x=\"59\" y=\"276.1387\">«viewpoint def»</text><text fill=\"#000000\" font-family=\"sans-serif\" font-size=\"12\" lengthAdjust=\"spacingAndGlyphs\" textLength=\"16\" x=\"99\" y=\"290.1074\">VP</text><line style=\"stroke: #A80036; stroke-width: 1.5;\" x1=\"33\" x2=\"155\" y1=\"297.9375\" y2=\"297.9375\"/></a><!--MD5=[ebbe1d658d1005bcc118a6aa81145e00]\n",
       "class E4--><a href=\"psysml:053dc08e-a8e7-4770-acc6-30068883d6d6\" target=\"_top\" title=\"psysml:053dc08e-a8e7-4770-acc6-30068883d6d6\" xlink:actuate=\"onRequest\" xlink:href=\"psysml:053dc08e-a8e7-4770-acc6-30068883d6d6\" xlink:show=\"new\" xlink:title=\"psysml:053dc08e-a8e7-4770-acc6-30068883d6d6\" xlink:type=\"simple\"><rect fill=\"#FEFECE\" filter=\"url(#f168b532cpthwi)\" height=\"40\" id=\"E4\" style=\"stroke: #A80036; stroke-width: 1.5;\" width=\"40\" x=\"191\" y=\"263\"/><ellipse cx=\"206\" cy=\"279\" fill=\"#008000\" rx=\"11\" ry=\"11\" style=\"stroke: #A80036; stroke-width: 1.0;\"/><path d=\"M204.9063,279.375 L204.9063,283.0469 L206.5313,283.0469 Q207.7031,283.0469 208.1719,282.6563 Q208.6406,282.25 208.6406,281.25 Q208.6406,280.25 208.1406,279.8125 Q207.6563,279.375 206.5313,279.375 L204.9063,279.375 Z M204.9063,274.5469 L204.9063,277.4219 L206.5313,277.4219 Q207.4531,277.4219 207.8438,277.0938 Q208.25,276.75 208.25,276 Q208.25,275.2344 207.8438,274.8906 Q207.4375,274.5469 206.5313,274.5469 L204.9063,274.5469 Z M202.5313,272.5938 L206.5313,272.5938 Q208.5938,272.5938 209.6406,273.375 Q210.6875,274.1563 210.6875,275.7188 Q210.6875,276.9219 210.0625,277.5938 Q209.4531,278.2656 208.2656,278.375 Q209.6875,278.5156 210.4063,279.3281 Q211.125,280.1406 211.125,281.5938 Q211.125,283.3906 210.0469,284.2031 Q208.9688,285 206.5313,285 L202.5313,285 L202.5313,272.5938 Z \"/><text fill=\"#000000\" font-family=\"sans-serif\" font-size=\"12\" lengthAdjust=\"spacingAndGlyphs\" textLength=\"8\" x=\"220\" y=\"283.1543\">R</text><line style=\"stroke: #A80036; stroke-width: 1.5;\" x1=\"192\" x2=\"230\" y1=\"295\" y2=\"295\"/></a><!--MD5=[270fce915f116d4de14055a7c1d9a0f3]\n",
       "class E5--><a href=\"psysml:2fa1d21f-0378-4832-ab0e-3c490c491fc9\" target=\"_top\" title=\"psysml:2fa1d21f-0378-4832-ab0e-3c490c491fc9\" xlink:actuate=\"onRequest\" xlink:href=\"psysml:2fa1d21f-0378-4832-ab0e-3c490c491fc9\" xlink:show=\"new\" xlink:title=\"psysml:2fa1d21f-0378-4832-ab0e-3c490c491fc9\" xlink:type=\"simple\"><rect fill=\"#FEFECE\" filter=\"url(#f168b532cpthwi)\" height=\"40\" id=\"E5\" style=\"stroke: #A80036; stroke-width: 1.5;\" width=\"40\" x=\"232\" y=\"47.5\"/><ellipse cx=\"247\" cy=\"63.5\" fill=\"#008000\" rx=\"11\" ry=\"11\" style=\"stroke: #A80036; stroke-width: 1.0;\"/><path d=\"M245.9063,63.875 L245.9063,67.5469 L247.5313,67.5469 Q248.7031,67.5469 249.1719,67.1563 Q249.6406,66.75 249.6406,65.75 Q249.6406,64.75 249.1406,64.3125 Q248.6563,63.875 247.5313,63.875 L245.9063,63.875 Z M245.9063,59.0469 L245.9063,61.9219 L247.5313,61.9219 Q248.4531,61.9219 248.8438,61.5938 Q249.25,61.25 249.25,60.5 Q249.25,59.7344 248.8438,59.3906 Q248.4375,59.0469 247.5313,59.0469 L245.9063,59.0469 Z M243.5313,57.0938 L247.5313,57.0938 Q249.5938,57.0938 250.6406,57.875 Q251.6875,58.6563 251.6875,60.2188 Q251.6875,61.4219 251.0625,62.0938 Q250.4531,62.7656 249.2656,62.875 Q250.6875,63.0156 251.4063,63.8281 Q252.125,64.6406 252.125,66.0938 Q252.125,67.8906 251.0469,68.7031 Q249.9688,69.5 247.5313,69.5 L243.5313,69.5 L243.5313,57.0938 Z \"/><text fill=\"#000000\" font-family=\"sans-serif\" font-size=\"12\" lengthAdjust=\"spacingAndGlyphs\" textLength=\"8\" x=\"261\" y=\"67.6543\">V</text><line style=\"stroke: #A80036; stroke-width: 1.5;\" x1=\"233\" x2=\"271\" y1=\"79.5\" y2=\"79.5\"/></a><!--MD5=[60a26617385b1d2d0262a64233df1f8d]\n",
       "class E6--><a href=\"psysml:b39da276-6b98-4aad-85bf-f9ecfc55683d\" target=\"_top\" title=\"psysml:b39da276-6b98-4aad-85bf-f9ecfc55683d\" xlink:actuate=\"onRequest\" xlink:href=\"psysml:b39da276-6b98-4aad-85bf-f9ecfc55683d\" xlink:show=\"new\" xlink:title=\"psysml:b39da276-6b98-4aad-85bf-f9ecfc55683d\" xlink:type=\"simple\"><rect fill=\"#FEFECE\" filter=\"url(#f168b532cpthwi)\" height=\"45.9375\" id=\"E6\" rx=\"10\" ry=\"10\" style=\"stroke: #A80036; stroke-width: 1.5;\" width=\"100\" x=\"32\" y=\"154\"/><ellipse cx=\"47\" cy=\"172.9688\" fill=\"#FFA500\" rx=\"11\" ry=\"11\" style=\"stroke: #A80036; stroke-width: 1.0;\"/><path d=\"M42.875,174.8906 L42.875,167.0781 L45.3281,167.0781 L45.3281,175.5156 Q45.3281,176.4375 45.7969,176.9688 Q46.2813,177.5 47.1094,177.5 Q47.9531,177.5 48.4219,176.9688 Q48.8906,176.4375 48.8906,175.5156 L48.8906,167.0781 L51.3438,167.0781 L51.3438,174.8906 Q51.3438,177.4219 50.3438,178.5625 Q49.3438,179.7031 47.1094,179.7031 Q44.8906,179.7031 43.875,178.5625 Q42.875,177.4219 42.875,174.8906 Z \"/><text fill=\"#000000\" font-family=\"sans-serif\" font-size=\"12\" font-style=\"italic\" lengthAdjust=\"spacingAndGlyphs\" textLength=\"72\" x=\"59\" y=\"170.1387\">«viewpoint»</text><text fill=\"#000000\" font-family=\"sans-serif\" font-size=\"12\" lengthAdjust=\"spacingAndGlyphs\" textLength=\"38\" x=\"76\" y=\"184.1074\">vp: VP</text><line style=\"stroke: #A80036; stroke-width: 1.5;\" x1=\"33\" x2=\"131\" y1=\"191.9375\" y2=\"191.9375\"/></a><!--MD5=[2156ba9850f5573cc1fc38a6a4b2f02b]\n",
       "class E7--><a href=\"psysml:5db0ac38-23f9-426f-a666-7fa33ad35708\" target=\"_top\" title=\"psysml:5db0ac38-23f9-426f-a666-7fa33ad35708\" xlink:actuate=\"onRequest\" xlink:href=\"psysml:5db0ac38-23f9-426f-a666-7fa33ad35708\" xlink:show=\"new\" xlink:title=\"psysml:5db0ac38-23f9-426f-a666-7fa33ad35708\" xlink:type=\"simple\"><rect fill=\"#FEFECE\" filter=\"url(#f168b532cpthwi)\" height=\"45.9375\" id=\"E7\" rx=\"10\" ry=\"10\" style=\"stroke: #A80036; stroke-width: 1.5;\" width=\"68\" x=\"167\" y=\"154\"/><ellipse cx=\"182\" cy=\"172.9688\" fill=\"#32CD32\" rx=\"11\" ry=\"11\" style=\"stroke: #A80036; stroke-width: 1.0;\"/><path d=\"M181.7969,168.6406 L181.7969,172.2656 L182.7969,172.2656 Q184,172.2656 184.4844,171.8594 Q184.9688,171.4531 184.9688,170.4531 Q184.9688,169.4531 184.4844,169.0469 Q184,168.6406 182.7969,168.6406 L181.7969,168.6406 Z M179.3438,166.5781 L182.7031,166.5781 Q185.2656,166.5781 186.3906,167.5 Q187.5156,168.4063 187.5156,170.4531 Q187.5156,172.5 186.3906,173.4219 Q185.2656,174.3281 182.7031,174.3281 L181.7969,174.3281 L181.7969,178.9688 L179.3438,178.9688 L179.3438,166.5781 Z \"/><text fill=\"#000000\" font-family=\"sans-serif\" font-size=\"12\" font-style=\"italic\" lengthAdjust=\"spacingAndGlyphs\" textLength=\"40\" x=\"194\" y=\"170.1387\">«part»</text><text fill=\"#000000\" font-family=\"sans-serif\" font-size=\"12\" lengthAdjust=\"spacingAndGlyphs\" textLength=\"21\" x=\"203.5\" y=\"184.1074\">r: R</text><line style=\"stroke: #A80036; stroke-width: 1.5;\" x1=\"168\" x2=\"234\" y1=\"191.9375\" y2=\"191.9375\"/></a><!--MD5=[b9389687b975829384b498ac4b7476b2]\n",
       "class E8--><a href=\"psysml:96dfc0dc-2946-48da-b50d-9c346f08b52f\" target=\"_top\" title=\"psysml:96dfc0dc-2946-48da-b50d-9c346f08b52f\" xlink:actuate=\"onRequest\" xlink:href=\"psysml:96dfc0dc-2946-48da-b50d-9c346f08b52f\" xlink:show=\"new\" xlink:title=\"psysml:96dfc0dc-2946-48da-b50d-9c346f08b52f\" xlink:type=\"simple\"><rect fill=\"#FEFECE\" filter=\"url(#f168b532cpthwi)\" height=\"45.9375\" id=\"E8\" rx=\"10\" ry=\"10\" style=\"stroke: #A80036; stroke-width: 1.5;\" width=\"68\" x=\"270\" y=\"154\"/><ellipse cx=\"285\" cy=\"172.9688\" fill=\"#32CD32\" rx=\"11\" ry=\"11\" style=\"stroke: #A80036; stroke-width: 1.0;\"/><path d=\"M284.7969,168.6406 L284.7969,172.2656 L285.7969,172.2656 Q287,172.2656 287.4844,171.8594 Q287.9688,171.4531 287.9688,170.4531 Q287.9688,169.4531 287.4844,169.0469 Q287,168.6406 285.7969,168.6406 L284.7969,168.6406 Z M282.3438,166.5781 L285.7031,166.5781 Q288.2656,166.5781 289.3906,167.5 Q290.5156,168.4063 290.5156,170.4531 Q290.5156,172.5 289.3906,173.4219 Q288.2656,174.3281 285.7031,174.3281 L284.7969,174.3281 L284.7969,178.9688 L282.3438,178.9688 L282.3438,166.5781 Z \"/><text fill=\"#000000\" font-family=\"sans-serif\" font-size=\"12\" font-style=\"italic\" lengthAdjust=\"spacingAndGlyphs\" textLength=\"40\" x=\"297\" y=\"170.1387\">«part»</text><text fill=\"#000000\" font-family=\"sans-serif\" font-size=\"12\" lengthAdjust=\"spacingAndGlyphs\" textLength=\"22\" x=\"306\" y=\"184.1074\">v: V</text><line style=\"stroke: #A80036; stroke-width: 1.5;\" x1=\"271\" x2=\"337\" y1=\"191.9375\" y2=\"191.9375\"/></a><!--MD5=[fd4143e9d270a159db93a4ea2a975926]\n",
       "class E9--><a href=\"psysml:fc5eb428-4a03-41d1-992b-aff2a13d3fb9\" target=\"_top\" title=\"psysml:fc5eb428-4a03-41d1-992b-aff2a13d3fb9\" xlink:actuate=\"onRequest\" xlink:href=\"psysml:fc5eb428-4a03-41d1-992b-aff2a13d3fb9\" xlink:show=\"new\" xlink:title=\"psysml:fc5eb428-4a03-41d1-992b-aff2a13d3fb9\" xlink:type=\"simple\"><rect fill=\"#FEFECE\" filter=\"url(#f168b532cpthwi)\" height=\"45.9375\" id=\"E9\" rx=\"10\" ry=\"10\" style=\"stroke: #A80036; stroke-width: 1.5;\" width=\"68\" x=\"270\" y=\"260\"/><ellipse cx=\"285\" cy=\"278.9688\" fill=\"#32CD32\" rx=\"11\" ry=\"11\" style=\"stroke: #A80036; stroke-width: 1.0;\"/><path d=\"M284.7969,274.6406 L284.7969,278.2656 L285.7969,278.2656 Q287,278.2656 287.4844,277.8594 Q287.9688,277.4531 287.9688,276.4531 Q287.9688,275.4531 287.4844,275.0469 Q287,274.6406 285.7969,274.6406 L284.7969,274.6406 Z M282.3438,272.5781 L285.7031,272.5781 Q288.2656,272.5781 289.3906,273.5 Q290.5156,274.4063 290.5156,276.4531 Q290.5156,278.5 289.3906,279.4219 Q288.2656,280.3281 285.7031,280.3281 L284.7969,280.3281 L284.7969,284.9688 L282.3438,284.9688 L282.3438,272.5781 Z \"/><text fill=\"#000000\" font-family=\"sans-serif\" font-size=\"12\" font-style=\"italic\" lengthAdjust=\"spacingAndGlyphs\" textLength=\"40\" x=\"297\" y=\"276.1387\">«part»</text><text fill=\"#000000\" font-family=\"sans-serif\" font-size=\"12\" lengthAdjust=\"spacingAndGlyphs\" textLength=\"13\" x=\"310.5\" y=\"290.1074\">r1</text><line style=\"stroke: #A80036; stroke-width: 1.5;\" x1=\"271\" x2=\"337\" y1=\"297.9375\" y2=\"297.9375\"/></a><a href=\"psysml:6d9f5c34-02db-4c22-b8ae-ed1a072d5ac7\" target=\"_top\" title=\"psysml:6d9f5c34-02db-4c22-b8ae-ed1a072d5ac7\" xlink:actuate=\"onRequest\" xlink:href=\"psysml:6d9f5c34-02db-4c22-b8ae-ed1a072d5ac7\" xlink:show=\"new\" xlink:title=\"psysml:6d9f5c34-02db-4c22-b8ae-ed1a072d5ac7\" xlink:type=\"simple\"><polygon fill=\"#FFFFFF\" filter=\"url(#f168b532cpthwi)\" points=\"125,41,141,41,148,63.2969,155,63.2969,155,93.5938,125,93.5938,125,41\" style=\"stroke: #000000; stroke-width: 1.5;\"/><line style=\"stroke: #000000; stroke-width: 1.5;\" x1=\"125\" x2=\"148\" y1=\"63.2969\" y2=\"63.2969\"/><text fill=\"#000000\" font-family=\"sans-serif\" font-size=\"14\" font-weight=\"bold\" lengthAdjust=\"spacingAndGlyphs\" textLength=\"10\" x=\"129\" y=\"55.9951\">P</text></a><!--MD5=[85d356282659285ab4b2cfe2f634dd2b]\n",
       "reverse link E5 to E6--><a href=\"psysml:b39da276-6b98-4aad-85bf-f9ecfc55683d\" target=\"_top\" title=\"psysml:b39da276-6b98-4aad-85bf-f9ecfc55683d\" xlink:actuate=\"onRequest\" xlink:href=\"psysml:b39da276-6b98-4aad-85bf-f9ecfc55683d\" xlink:show=\"new\" xlink:title=\"psysml:b39da276-6b98-4aad-85bf-f9ecfc55683d\" xlink:type=\"simple\"><path d=\"M220.58,88.37 C191.18,106.96 147.35,134.67 116.89,153.94 \" fill=\"none\" id=\"E5&lt;-E6\" style=\"stroke: #A80036; stroke-width: 1.0;\"/><polygon fill=\"#A80036\" points=\"231.83,81.25,224.6209,81.0808,221.692,87.6703,228.9011,87.8395,231.83,81.25\" style=\"stroke: #A80036; stroke-width: 1.0;\"/></a><!--MD5=[a717450b82c80b9240a525fa862496af]\n",
       "link E6 to E3--><a href=\"psysml:7b3d769f-4c56-4413-aa9f-0104e9507d6b\" target=\"_top\" title=\"psysml:7b3d769f-4c56-4413-aa9f-0104e9507d6b\" xlink:actuate=\"onRequest\" xlink:href=\"psysml:7b3d769f-4c56-4413-aa9f-0104e9507d6b\" xlink:show=\"new\" xlink:title=\"psysml:7b3d769f-4c56-4413-aa9f-0104e9507d6b\" xlink:type=\"simple\"><path d=\"M84.54,200.06 C85.88,211.64 87.56,226.23 89.14,239.87 \" fill=\"none\" id=\"E6-&gt;E3\" style=\"stroke: #A80036; stroke-width: 1.0;\"/><polygon fill=\"#FFFFFF\" points=\"91.46,259.98,82.3347,241.9044,96.243,240.3046,91.46,259.98\" style=\"stroke: #A80036; stroke-width: 1.0;\"/><ellipse cx=\"83.6702\" cy=\"236.0132\" fill=\"#A80036\" rx=\"2\" ry=\"2\" style=\"stroke: #A80036; stroke-width: 1.0;\"/><ellipse cx=\"93.6047\" cy=\"234.8704\" fill=\"#A80036\" rx=\"2\" ry=\"2\" style=\"stroke: #A80036; stroke-width: 1.0;\"/></a><!--MD5=[6bdd27f9905911a7e892a3dc65cf6b7c]\n",
       "link E7 to E4--><a href=\"psysml:f768404d-501b-4614-8ab9-e2515f32fafd\" target=\"_top\" title=\"psysml:f768404d-501b-4614-8ab9-e2515f32fafd\" xlink:actuate=\"onRequest\" xlink:href=\"psysml:f768404d-501b-4614-8ab9-e2515f32fafd\" xlink:show=\"new\" xlink:title=\"psysml:f768404d-501b-4614-8ab9-e2515f32fafd\" xlink:type=\"simple\"><path d=\"M203.12,200.06 C204.32,212.48 205.84,228.37 207.23,242.84 \" fill=\"none\" id=\"E7-&gt;E4\" style=\"stroke: #A80036; stroke-width: 1.0;\"/><polygon fill=\"#FFFFFF\" points=\"209.15,262.77,200.3629,244.5276,214.2985,243.187,209.15,262.77\" style=\"stroke: #A80036; stroke-width: 1.0;\"/><ellipse cx=\"201.8079\" cy=\"238.6623\" fill=\"#A80036\" rx=\"2\" ry=\"2\" style=\"stroke: #A80036; stroke-width: 1.0;\"/><ellipse cx=\"211.7619\" cy=\"237.7047\" fill=\"#A80036\" rx=\"2\" ry=\"2\" style=\"stroke: #A80036; stroke-width: 1.0;\"/></a><!--MD5=[452b418e7f8a40397a49b8c0a78acc5b]\n",
       "reverse link E5 to E7--><a href=\"psysml:5db0ac38-23f9-426f-a666-7fa33ad35708\" target=\"_top\" title=\"psysml:5db0ac38-23f9-426f-a666-7fa33ad35708\" xlink:actuate=\"onRequest\" xlink:href=\"psysml:5db0ac38-23f9-426f-a666-7fa33ad35708\" xlink:show=\"new\" xlink:title=\"psysml:5db0ac38-23f9-426f-a666-7fa33ad35708\" xlink:type=\"simple\"><path d=\"M237.26,99.58 C228.99,116.99 218.89,138.3 211.45,153.98 \" fill=\"none\" id=\"E5&lt;-E7\" style=\"stroke: #A80036; stroke-width: 1.0;\"/><polygon fill=\"#A80036\" points=\"242.88,87.72,236.6942,91.4262,237.7362,98.5616,243.922,94.8554,242.88,87.72\" style=\"stroke: #A80036; stroke-width: 1.0;\"/><text fill=\"#000000\" font-family=\"sans-serif\" font-size=\"13\" lengthAdjust=\"spacingAndGlyphs\" textLength=\"24\" x=\"187.0334\" y=\"142.8709\">0..1</text></a><!--MD5=[1ccb2481ffa92f8d51a74ee30c51832a]\n",
       "link E8 to E5--><a href=\"psysml:2ecacd66-b174-4fa5-a1f0-5f98a8e6e629\" target=\"_top\" title=\"psysml:2ecacd66-b174-4fa5-a1f0-5f98a8e6e629\" xlink:actuate=\"onRequest\" xlink:href=\"psysml:2ecacd66-b174-4fa5-a1f0-5f98a8e6e629\" xlink:show=\"new\" xlink:title=\"psysml:2ecacd66-b174-4fa5-a1f0-5f98a8e6e629\" xlink:type=\"simple\"><path d=\"M304.49,153.98 C300.07,139.89 291.63,121.28 282.53,105.01 \" fill=\"none\" id=\"E8-&gt;E5\" style=\"stroke: #A80036; stroke-width: 1.0;\"/><polygon fill=\"#FFFFFF\" points=\"271.93,87.72,287.8284,100.2596,275.8928,107.5769,271.93,87.72\" style=\"stroke: #A80036; stroke-width: 1.0;\"/><ellipse cx=\"289.1025\" cy=\"106.1644\" fill=\"#A80036\" rx=\"2\" ry=\"2\" style=\"stroke: #A80036; stroke-width: 1.0;\"/><ellipse cx=\"280.5771\" cy=\"111.391\" fill=\"#A80036\" rx=\"2\" ry=\"2\" style=\"stroke: #A80036; stroke-width: 1.0;\"/></a><!--MD5=[827760032d119d06bbc92f75530fd7ae]\n",
       "reverse link E5 to E8--><a href=\"psysml:96dfc0dc-2946-48da-b50d-9c346f08b52f\" target=\"_top\" title=\"psysml:96dfc0dc-2946-48da-b50d-9c346f08b52f\" xlink:actuate=\"onRequest\" xlink:href=\"psysml:96dfc0dc-2946-48da-b50d-9c346f08b52f\" xlink:show=\"new\" xlink:title=\"psysml:96dfc0dc-2946-48da-b50d-9c346f08b52f\" xlink:type=\"simple\"><path d=\"M255.55,100.09 C262.24,117.41 272.82,138.45 282.83,153.98 \" fill=\"none\" id=\"E5&lt;-E8\" style=\"stroke: #A80036; stroke-width: 1.0;\"/><polygon fill=\"#A80036\" points=\"251.26,87.72,249.4475,94.6996,255.193,99.0572,257.0056,92.0776,251.26,87.72\" style=\"stroke: #A80036; stroke-width: 1.0;\"/><text fill=\"#000000\" font-family=\"sans-serif\" font-size=\"13\" lengthAdjust=\"spacingAndGlyphs\" textLength=\"7\" x=\"269.1999\" y=\"142.8709\">*</text></a><!--MD5=[22f5b4bae7e060dce8a1c8021efdb95b]\n",
       "reverse link E8 to E9--><a href=\"psysml:fc5eb428-4a03-41d1-992b-aff2a13d3fb9\" target=\"_top\" title=\"psysml:fc5eb428-4a03-41d1-992b-aff2a13d3fb9\" xlink:actuate=\"onRequest\" xlink:href=\"psysml:fc5eb428-4a03-41d1-992b-aff2a13d3fb9\" xlink:show=\"new\" xlink:title=\"psysml:fc5eb428-4a03-41d1-992b-aff2a13d3fb9\" xlink:type=\"simple\"><path d=\"M304,213.44 C304,228.87 304,246.47 304,259.98 \" fill=\"none\" id=\"E8&lt;-E9\" style=\"stroke: #A80036; stroke-width: 1.0;\"/><polygon fill=\"#A80036\" points=\"304,200.06,300,206.06,304,212.06,308,206.06,304,200.06\" style=\"stroke: #A80036; stroke-width: 1.0;\"/></a><!--MD5=[e8e32db2720d79fb64bde81f7515cc55]\n",
       "@startuml\r\n",
       " \r\n",
       "package \"ViewTest\" as E1  [[psysml:fb02ed11-6398-4cea-b135-53d0cca9c478 ]]  {\r\n",
       "package \"P\" as E2  [[psysml:6d9f5c34-02db-4c22-b8ae-ed1a072d5ac7 ]]  {\r\n",
       "}\r\n",
       "comp def \"VP\" as E3  <<(D,brown)viewpoint def>> [[psysml:436e526f-0cc5-474d-8f19-4580d940df20 ]] {\r\n",
       "}\r\n",
       "comp def \"R\" as E4  << (B,green) >> [[psysml:053dc08e-a8e7-4770-acc6-30068883d6d6 ]] {\r\n",
       "}\r\n",
       "comp def \"V\" as E5  << (B,green) >> [[psysml:2fa1d21f-0378-4832-ab0e-3c490c491fc9 ]] {\r\n",
       "}\r\n",
       "comp usage \"vp: VP\" as E6  <<(U,orange)viewpoint>> [[psysml:b39da276-6b98-4aad-85bf-f9ecfc55683d ]] {\r\n",
       "}\r\n",
       "comp usage \"r: R\" as E7  << (P,limegreen) part>> [[psysml:5db0ac38-23f9-426f-a666-7fa33ad35708 ]] {\r\n",
       "}\r\n",
       "comp usage \"v: V\" as E8  << (P,limegreen) part>> [[psysml:96dfc0dc-2946-48da-b50d-9c346f08b52f ]] {\r\n",
       "}\r\n",
       "comp usage \"r1\" as E9  << (P,limegreen) part>> [[psysml:fc5eb428-4a03-41d1-992b-aff2a13d3fb9 ]] {\r\n",
       "}\r\n",
       "E5 *- - E6 [[psysml:b39da276-6b98-4aad-85bf-f9ecfc55683d ]] \r\n",
       "E6 - -:|> E3 [[psysml:7b3d769f-4c56-4413-aa9f-0104e9507d6b ]] \r\n",
       "E7 - -:|> E4 [[psysml:f768404d-501b-4614-8ab9-e2515f32fafd ]] \r\n",
       "E5 *- - \"0..1\"E7 [[psysml:5db0ac38-23f9-426f-a666-7fa33ad35708 ]] \r\n",
       "E8 - -:|> E5 [[psysml:2ecacd66-b174-4fa5-a1f0-5f98a8e6e629 ]] \r\n",
       "E5 *- - \"*\"E8 [[psysml:96dfc0dc-2946-48da-b50d-9c346f08b52f ]] \r\n",
       "E8 *- - E9 [[psysml:fc5eb428-4a03-41d1-992b-aff2a13d3fb9 ]] \r\n",
       "}\r\n",
       "@enduml\r\n",
       "\n",
       "PlantUML version 1.2020.13(Sat Jun 13 12:26:38 UTC 2020)\n",
       "(EPL source distribution)\n",
       "Java Runtime: OpenJDK Runtime Environment\n",
       "JVM: OpenJDK 64-Bit Server VM\n",
       "Default Encoding: UTF-8\n",
       "Language: en\n",
       "Country: null\n",
       "--></g></svg>"
      ]
     },
     "execution_count": 30,
     "metadata": {},
     "output_type": "execute_result"
    }
   ],
   "source": [
    "%viz --style=\"PLANTUML\" --view=\"Default\" \"ViewTest\""
   ]
  },
  {
   "cell_type": "code",
   "execution_count": 31,
   "id": "piano-august",
   "metadata": {
    "execution": {
     "iopub.execute_input": "2021-03-24T16:32:13.157547Z",
     "iopub.status.busy": "2021-03-24T16:32:13.157055Z",
     "iopub.status.idle": "2021-03-24T16:32:13.197488Z",
     "shell.execute_reply": "2021-03-24T16:32:13.195934Z"
    }
   },
   "outputs": [
    {
     "data": {
      "image/svg+xml": [
       "<?xml version=\"1.0\" encoding=\"UTF-8\" standalone=\"no\"?><svg xmlns=\"http://www.w3.org/2000/svg\" xmlns:xlink=\"http://www.w3.org/1999/xlink\" contentScriptType=\"application/ecmascript\" contentStyleType=\"text/css\" height=\"334px\" preserveAspectRatio=\"none\" style=\"width:376px;height:334px;\" version=\"1.1\" viewBox=\"0 0 376 334\" width=\"376px\" zoomAndPan=\"magnify\"><defs><filter height=\"300%\" id=\"f168b532cpthwi\" width=\"300%\" x=\"-1\" y=\"-1\"><feGaussianBlur result=\"blurOut\" stdDeviation=\"2.0\"/><feColorMatrix in=\"blurOut\" result=\"blurOut2\" type=\"matrix\" values=\"0 0 0 0 0 0 0 0 0 0 0 0 0 0 0 0 0 0 .4 0\"/><feOffset dx=\"4.0\" dy=\"4.0\" in=\"blurOut2\" result=\"blurOut3\"/><feBlend in=\"SourceGraphic\" in2=\"blurOut3\" mode=\"normal\"/></filter></defs><g><!--MD5=[fbc87193dbaf4d95561dea2c320d4a47]\n",
       "cluster E1--><a href=\"psysml:fb02ed11-6398-4cea-b135-53d0cca9c478\" target=\"_top\" title=\"psysml:fb02ed11-6398-4cea-b135-53d0cca9c478\" xlink:actuate=\"onRequest\" xlink:href=\"psysml:fb02ed11-6398-4cea-b135-53d0cca9c478\" xlink:show=\"new\" xlink:title=\"psysml:fb02ed11-6398-4cea-b135-53d0cca9c478\" xlink:type=\"simple\"><polygon fill=\"#FFFFFF\" filter=\"url(#f168b532cpthwi)\" points=\"16,6,96,6,103,28.2969,354,28.2969,354,322,16,322,16,6\" style=\"stroke: #000000; stroke-width: 1.5;\"/><line style=\"stroke: #000000; stroke-width: 1.5;\" x1=\"16\" x2=\"103\" y1=\"28.2969\" y2=\"28.2969\"/><text fill=\"#000000\" font-family=\"sans-serif\" font-size=\"14\" font-weight=\"bold\" lengthAdjust=\"spacingAndGlyphs\" textLength=\"74\" x=\"20\" y=\"20.9951\">ViewTest</text></a><!--MD5=[09b614a08d8cba4a07c9adeb5e0fee81]\n",
       "class E3--><a href=\"psysml:436e526f-0cc5-474d-8f19-4580d940df20\" target=\"_top\" title=\"psysml:436e526f-0cc5-474d-8f19-4580d940df20\" xlink:actuate=\"onRequest\" xlink:href=\"psysml:436e526f-0cc5-474d-8f19-4580d940df20\" xlink:show=\"new\" xlink:title=\"psysml:436e526f-0cc5-474d-8f19-4580d940df20\" xlink:type=\"simple\"><rect fill=\"#FEFECE\" filter=\"url(#f168b532cpthwi)\" height=\"45.9375\" id=\"E3\" style=\"stroke: #A80036; stroke-width: 1.5;\" width=\"124\" x=\"32\" y=\"260\"/><ellipse cx=\"47\" cy=\"278.9688\" fill=\"#A52A2A\" rx=\"11\" ry=\"11\" style=\"stroke: #A80036; stroke-width: 1.0;\"/><path d=\"M46.5938,274.7813 L46.5938,282.7656 L47.25,282.7656 Q48.6875,282.7656 49.2969,281.8594 Q49.9219,280.9375 49.9219,278.7656 Q49.9219,276.5938 49.2969,275.6875 Q48.6875,274.7813 47.25,274.7813 L46.5938,274.7813 Z M44.1406,272.5781 L46.7656,272.5781 Q49.7969,272.5781 51.125,274.0313 Q52.4688,275.4688 52.4688,278.7656 Q52.4688,282.0625 51.125,283.5156 Q49.7969,284.9688 46.7656,284.9688 L44.1406,284.9688 L44.1406,272.5781 Z \"/><text fill=\"#000000\" font-family=\"sans-serif\" font-size=\"12\" font-style=\"italic\" lengthAdjust=\"spacingAndGlyphs\" textLength=\"96\" x=\"59\" y=\"276.1387\">«viewpoint def»</text><text fill=\"#000000\" font-family=\"sans-serif\" font-size=\"12\" lengthAdjust=\"spacingAndGlyphs\" textLength=\"16\" x=\"99\" y=\"290.1074\">VP</text><line style=\"stroke: #A80036; stroke-width: 1.5;\" x1=\"33\" x2=\"155\" y1=\"297.9375\" y2=\"297.9375\"/></a><!--MD5=[ebbe1d658d1005bcc118a6aa81145e00]\n",
       "class E4--><a href=\"psysml:053dc08e-a8e7-4770-acc6-30068883d6d6\" target=\"_top\" title=\"psysml:053dc08e-a8e7-4770-acc6-30068883d6d6\" xlink:actuate=\"onRequest\" xlink:href=\"psysml:053dc08e-a8e7-4770-acc6-30068883d6d6\" xlink:show=\"new\" xlink:title=\"psysml:053dc08e-a8e7-4770-acc6-30068883d6d6\" xlink:type=\"simple\"><rect fill=\"#FEFECE\" filter=\"url(#f168b532cpthwi)\" height=\"40\" id=\"E4\" style=\"stroke: #A80036; stroke-width: 1.5;\" width=\"40\" x=\"191\" y=\"263\"/><ellipse cx=\"206\" cy=\"279\" fill=\"#008000\" rx=\"11\" ry=\"11\" style=\"stroke: #A80036; stroke-width: 1.0;\"/><path d=\"M204.9063,279.375 L204.9063,283.0469 L206.5313,283.0469 Q207.7031,283.0469 208.1719,282.6563 Q208.6406,282.25 208.6406,281.25 Q208.6406,280.25 208.1406,279.8125 Q207.6563,279.375 206.5313,279.375 L204.9063,279.375 Z M204.9063,274.5469 L204.9063,277.4219 L206.5313,277.4219 Q207.4531,277.4219 207.8438,277.0938 Q208.25,276.75 208.25,276 Q208.25,275.2344 207.8438,274.8906 Q207.4375,274.5469 206.5313,274.5469 L204.9063,274.5469 Z M202.5313,272.5938 L206.5313,272.5938 Q208.5938,272.5938 209.6406,273.375 Q210.6875,274.1563 210.6875,275.7188 Q210.6875,276.9219 210.0625,277.5938 Q209.4531,278.2656 208.2656,278.375 Q209.6875,278.5156 210.4063,279.3281 Q211.125,280.1406 211.125,281.5938 Q211.125,283.3906 210.0469,284.2031 Q208.9688,285 206.5313,285 L202.5313,285 L202.5313,272.5938 Z \"/><text fill=\"#000000\" font-family=\"sans-serif\" font-size=\"12\" lengthAdjust=\"spacingAndGlyphs\" textLength=\"8\" x=\"220\" y=\"283.1543\">R</text><line style=\"stroke: #A80036; stroke-width: 1.5;\" x1=\"192\" x2=\"230\" y1=\"295\" y2=\"295\"/></a><!--MD5=[270fce915f116d4de14055a7c1d9a0f3]\n",
       "class E5--><a href=\"psysml:2fa1d21f-0378-4832-ab0e-3c490c491fc9\" target=\"_top\" title=\"psysml:2fa1d21f-0378-4832-ab0e-3c490c491fc9\" xlink:actuate=\"onRequest\" xlink:href=\"psysml:2fa1d21f-0378-4832-ab0e-3c490c491fc9\" xlink:show=\"new\" xlink:title=\"psysml:2fa1d21f-0378-4832-ab0e-3c490c491fc9\" xlink:type=\"simple\"><rect fill=\"#FEFECE\" filter=\"url(#f168b532cpthwi)\" height=\"40\" id=\"E5\" style=\"stroke: #A80036; stroke-width: 1.5;\" width=\"40\" x=\"232\" y=\"47.5\"/><ellipse cx=\"247\" cy=\"63.5\" fill=\"#008000\" rx=\"11\" ry=\"11\" style=\"stroke: #A80036; stroke-width: 1.0;\"/><path d=\"M245.9063,63.875 L245.9063,67.5469 L247.5313,67.5469 Q248.7031,67.5469 249.1719,67.1563 Q249.6406,66.75 249.6406,65.75 Q249.6406,64.75 249.1406,64.3125 Q248.6563,63.875 247.5313,63.875 L245.9063,63.875 Z M245.9063,59.0469 L245.9063,61.9219 L247.5313,61.9219 Q248.4531,61.9219 248.8438,61.5938 Q249.25,61.25 249.25,60.5 Q249.25,59.7344 248.8438,59.3906 Q248.4375,59.0469 247.5313,59.0469 L245.9063,59.0469 Z M243.5313,57.0938 L247.5313,57.0938 Q249.5938,57.0938 250.6406,57.875 Q251.6875,58.6563 251.6875,60.2188 Q251.6875,61.4219 251.0625,62.0938 Q250.4531,62.7656 249.2656,62.875 Q250.6875,63.0156 251.4063,63.8281 Q252.125,64.6406 252.125,66.0938 Q252.125,67.8906 251.0469,68.7031 Q249.9688,69.5 247.5313,69.5 L243.5313,69.5 L243.5313,57.0938 Z \"/><text fill=\"#000000\" font-family=\"sans-serif\" font-size=\"12\" lengthAdjust=\"spacingAndGlyphs\" textLength=\"8\" x=\"261\" y=\"67.6543\">V</text><line style=\"stroke: #A80036; stroke-width: 1.5;\" x1=\"233\" x2=\"271\" y1=\"79.5\" y2=\"79.5\"/></a><!--MD5=[60a26617385b1d2d0262a64233df1f8d]\n",
       "class E6--><a href=\"psysml:b39da276-6b98-4aad-85bf-f9ecfc55683d\" target=\"_top\" title=\"psysml:b39da276-6b98-4aad-85bf-f9ecfc55683d\" xlink:actuate=\"onRequest\" xlink:href=\"psysml:b39da276-6b98-4aad-85bf-f9ecfc55683d\" xlink:show=\"new\" xlink:title=\"psysml:b39da276-6b98-4aad-85bf-f9ecfc55683d\" xlink:type=\"simple\"><rect fill=\"#FEFECE\" filter=\"url(#f168b532cpthwi)\" height=\"45.9375\" id=\"E6\" rx=\"10\" ry=\"10\" style=\"stroke: #A80036; stroke-width: 1.5;\" width=\"100\" x=\"32\" y=\"154\"/><ellipse cx=\"47\" cy=\"172.9688\" fill=\"#FFA500\" rx=\"11\" ry=\"11\" style=\"stroke: #A80036; stroke-width: 1.0;\"/><path d=\"M42.875,174.8906 L42.875,167.0781 L45.3281,167.0781 L45.3281,175.5156 Q45.3281,176.4375 45.7969,176.9688 Q46.2813,177.5 47.1094,177.5 Q47.9531,177.5 48.4219,176.9688 Q48.8906,176.4375 48.8906,175.5156 L48.8906,167.0781 L51.3438,167.0781 L51.3438,174.8906 Q51.3438,177.4219 50.3438,178.5625 Q49.3438,179.7031 47.1094,179.7031 Q44.8906,179.7031 43.875,178.5625 Q42.875,177.4219 42.875,174.8906 Z \"/><text fill=\"#000000\" font-family=\"sans-serif\" font-size=\"12\" font-style=\"italic\" lengthAdjust=\"spacingAndGlyphs\" textLength=\"72\" x=\"59\" y=\"170.1387\">«viewpoint»</text><text fill=\"#000000\" font-family=\"sans-serif\" font-size=\"12\" lengthAdjust=\"spacingAndGlyphs\" textLength=\"38\" x=\"76\" y=\"184.1074\">vp: VP</text><line style=\"stroke: #A80036; stroke-width: 1.5;\" x1=\"33\" x2=\"131\" y1=\"191.9375\" y2=\"191.9375\"/></a><!--MD5=[2156ba9850f5573cc1fc38a6a4b2f02b]\n",
       "class E7--><a href=\"psysml:5db0ac38-23f9-426f-a666-7fa33ad35708\" target=\"_top\" title=\"psysml:5db0ac38-23f9-426f-a666-7fa33ad35708\" xlink:actuate=\"onRequest\" xlink:href=\"psysml:5db0ac38-23f9-426f-a666-7fa33ad35708\" xlink:show=\"new\" xlink:title=\"psysml:5db0ac38-23f9-426f-a666-7fa33ad35708\" xlink:type=\"simple\"><rect fill=\"#FEFECE\" filter=\"url(#f168b532cpthwi)\" height=\"45.9375\" id=\"E7\" rx=\"10\" ry=\"10\" style=\"stroke: #A80036; stroke-width: 1.5;\" width=\"68\" x=\"167\" y=\"154\"/><ellipse cx=\"182\" cy=\"172.9688\" fill=\"#32CD32\" rx=\"11\" ry=\"11\" style=\"stroke: #A80036; stroke-width: 1.0;\"/><path d=\"M181.7969,168.6406 L181.7969,172.2656 L182.7969,172.2656 Q184,172.2656 184.4844,171.8594 Q184.9688,171.4531 184.9688,170.4531 Q184.9688,169.4531 184.4844,169.0469 Q184,168.6406 182.7969,168.6406 L181.7969,168.6406 Z M179.3438,166.5781 L182.7031,166.5781 Q185.2656,166.5781 186.3906,167.5 Q187.5156,168.4063 187.5156,170.4531 Q187.5156,172.5 186.3906,173.4219 Q185.2656,174.3281 182.7031,174.3281 L181.7969,174.3281 L181.7969,178.9688 L179.3438,178.9688 L179.3438,166.5781 Z \"/><text fill=\"#000000\" font-family=\"sans-serif\" font-size=\"12\" font-style=\"italic\" lengthAdjust=\"spacingAndGlyphs\" textLength=\"40\" x=\"194\" y=\"170.1387\">«part»</text><text fill=\"#000000\" font-family=\"sans-serif\" font-size=\"12\" lengthAdjust=\"spacingAndGlyphs\" textLength=\"21\" x=\"203.5\" y=\"184.1074\">r: R</text><line style=\"stroke: #A80036; stroke-width: 1.5;\" x1=\"168\" x2=\"234\" y1=\"191.9375\" y2=\"191.9375\"/></a><!--MD5=[b9389687b975829384b498ac4b7476b2]\n",
       "class E8--><a href=\"psysml:96dfc0dc-2946-48da-b50d-9c346f08b52f\" target=\"_top\" title=\"psysml:96dfc0dc-2946-48da-b50d-9c346f08b52f\" xlink:actuate=\"onRequest\" xlink:href=\"psysml:96dfc0dc-2946-48da-b50d-9c346f08b52f\" xlink:show=\"new\" xlink:title=\"psysml:96dfc0dc-2946-48da-b50d-9c346f08b52f\" xlink:type=\"simple\"><rect fill=\"#FEFECE\" filter=\"url(#f168b532cpthwi)\" height=\"45.9375\" id=\"E8\" rx=\"10\" ry=\"10\" style=\"stroke: #A80036; stroke-width: 1.5;\" width=\"68\" x=\"270\" y=\"154\"/><ellipse cx=\"285\" cy=\"172.9688\" fill=\"#32CD32\" rx=\"11\" ry=\"11\" style=\"stroke: #A80036; stroke-width: 1.0;\"/><path d=\"M284.7969,168.6406 L284.7969,172.2656 L285.7969,172.2656 Q287,172.2656 287.4844,171.8594 Q287.9688,171.4531 287.9688,170.4531 Q287.9688,169.4531 287.4844,169.0469 Q287,168.6406 285.7969,168.6406 L284.7969,168.6406 Z M282.3438,166.5781 L285.7031,166.5781 Q288.2656,166.5781 289.3906,167.5 Q290.5156,168.4063 290.5156,170.4531 Q290.5156,172.5 289.3906,173.4219 Q288.2656,174.3281 285.7031,174.3281 L284.7969,174.3281 L284.7969,178.9688 L282.3438,178.9688 L282.3438,166.5781 Z \"/><text fill=\"#000000\" font-family=\"sans-serif\" font-size=\"12\" font-style=\"italic\" lengthAdjust=\"spacingAndGlyphs\" textLength=\"40\" x=\"297\" y=\"170.1387\">«part»</text><text fill=\"#000000\" font-family=\"sans-serif\" font-size=\"12\" lengthAdjust=\"spacingAndGlyphs\" textLength=\"22\" x=\"306\" y=\"184.1074\">v: V</text><line style=\"stroke: #A80036; stroke-width: 1.5;\" x1=\"271\" x2=\"337\" y1=\"191.9375\" y2=\"191.9375\"/></a><!--MD5=[fd4143e9d270a159db93a4ea2a975926]\n",
       "class E9--><a href=\"psysml:fc5eb428-4a03-41d1-992b-aff2a13d3fb9\" target=\"_top\" title=\"psysml:fc5eb428-4a03-41d1-992b-aff2a13d3fb9\" xlink:actuate=\"onRequest\" xlink:href=\"psysml:fc5eb428-4a03-41d1-992b-aff2a13d3fb9\" xlink:show=\"new\" xlink:title=\"psysml:fc5eb428-4a03-41d1-992b-aff2a13d3fb9\" xlink:type=\"simple\"><rect fill=\"#FEFECE\" filter=\"url(#f168b532cpthwi)\" height=\"45.9375\" id=\"E9\" rx=\"10\" ry=\"10\" style=\"stroke: #A80036; stroke-width: 1.5;\" width=\"68\" x=\"270\" y=\"260\"/><ellipse cx=\"285\" cy=\"278.9688\" fill=\"#32CD32\" rx=\"11\" ry=\"11\" style=\"stroke: #A80036; stroke-width: 1.0;\"/><path d=\"M284.7969,274.6406 L284.7969,278.2656 L285.7969,278.2656 Q287,278.2656 287.4844,277.8594 Q287.9688,277.4531 287.9688,276.4531 Q287.9688,275.4531 287.4844,275.0469 Q287,274.6406 285.7969,274.6406 L284.7969,274.6406 Z M282.3438,272.5781 L285.7031,272.5781 Q288.2656,272.5781 289.3906,273.5 Q290.5156,274.4063 290.5156,276.4531 Q290.5156,278.5 289.3906,279.4219 Q288.2656,280.3281 285.7031,280.3281 L284.7969,280.3281 L284.7969,284.9688 L282.3438,284.9688 L282.3438,272.5781 Z \"/><text fill=\"#000000\" font-family=\"sans-serif\" font-size=\"12\" font-style=\"italic\" lengthAdjust=\"spacingAndGlyphs\" textLength=\"40\" x=\"297\" y=\"276.1387\">«part»</text><text fill=\"#000000\" font-family=\"sans-serif\" font-size=\"12\" lengthAdjust=\"spacingAndGlyphs\" textLength=\"13\" x=\"310.5\" y=\"290.1074\">r1</text><line style=\"stroke: #A80036; stroke-width: 1.5;\" x1=\"271\" x2=\"337\" y1=\"297.9375\" y2=\"297.9375\"/></a><a href=\"psysml:6d9f5c34-02db-4c22-b8ae-ed1a072d5ac7\" target=\"_top\" title=\"psysml:6d9f5c34-02db-4c22-b8ae-ed1a072d5ac7\" xlink:actuate=\"onRequest\" xlink:href=\"psysml:6d9f5c34-02db-4c22-b8ae-ed1a072d5ac7\" xlink:show=\"new\" xlink:title=\"psysml:6d9f5c34-02db-4c22-b8ae-ed1a072d5ac7\" xlink:type=\"simple\"><polygon fill=\"#FFFFFF\" filter=\"url(#f168b532cpthwi)\" points=\"125,41,141,41,148,63.2969,155,63.2969,155,93.5938,125,93.5938,125,41\" style=\"stroke: #000000; stroke-width: 1.5;\"/><line style=\"stroke: #000000; stroke-width: 1.5;\" x1=\"125\" x2=\"148\" y1=\"63.2969\" y2=\"63.2969\"/><text fill=\"#000000\" font-family=\"sans-serif\" font-size=\"14\" font-weight=\"bold\" lengthAdjust=\"spacingAndGlyphs\" textLength=\"10\" x=\"129\" y=\"55.9951\">P</text></a><!--MD5=[85d356282659285ab4b2cfe2f634dd2b]\n",
       "reverse link E5 to E6--><a href=\"psysml:b39da276-6b98-4aad-85bf-f9ecfc55683d\" target=\"_top\" title=\"psysml:b39da276-6b98-4aad-85bf-f9ecfc55683d\" xlink:actuate=\"onRequest\" xlink:href=\"psysml:b39da276-6b98-4aad-85bf-f9ecfc55683d\" xlink:show=\"new\" xlink:title=\"psysml:b39da276-6b98-4aad-85bf-f9ecfc55683d\" xlink:type=\"simple\"><path d=\"M220.58,88.37 C191.18,106.96 147.35,134.67 116.89,153.94 \" fill=\"none\" id=\"E5&lt;-E6\" style=\"stroke: #A80036; stroke-width: 1.0;\"/><polygon fill=\"#A80036\" points=\"231.83,81.25,224.6209,81.0808,221.692,87.6703,228.9011,87.8395,231.83,81.25\" style=\"stroke: #A80036; stroke-width: 1.0;\"/></a><!--MD5=[a717450b82c80b9240a525fa862496af]\n",
       "link E6 to E3--><a href=\"psysml:7b3d769f-4c56-4413-aa9f-0104e9507d6b\" target=\"_top\" title=\"psysml:7b3d769f-4c56-4413-aa9f-0104e9507d6b\" xlink:actuate=\"onRequest\" xlink:href=\"psysml:7b3d769f-4c56-4413-aa9f-0104e9507d6b\" xlink:show=\"new\" xlink:title=\"psysml:7b3d769f-4c56-4413-aa9f-0104e9507d6b\" xlink:type=\"simple\"><path d=\"M84.54,200.06 C85.88,211.64 87.56,226.23 89.14,239.87 \" fill=\"none\" id=\"E6-&gt;E3\" style=\"stroke: #A80036; stroke-width: 1.0;\"/><polygon fill=\"#FFFFFF\" points=\"91.46,259.98,82.3347,241.9044,96.243,240.3046,91.46,259.98\" style=\"stroke: #A80036; stroke-width: 1.0;\"/><ellipse cx=\"83.6702\" cy=\"236.0132\" fill=\"#A80036\" rx=\"2\" ry=\"2\" style=\"stroke: #A80036; stroke-width: 1.0;\"/><ellipse cx=\"93.6047\" cy=\"234.8704\" fill=\"#A80036\" rx=\"2\" ry=\"2\" style=\"stroke: #A80036; stroke-width: 1.0;\"/></a><!--MD5=[6bdd27f9905911a7e892a3dc65cf6b7c]\n",
       "link E7 to E4--><a href=\"psysml:f768404d-501b-4614-8ab9-e2515f32fafd\" target=\"_top\" title=\"psysml:f768404d-501b-4614-8ab9-e2515f32fafd\" xlink:actuate=\"onRequest\" xlink:href=\"psysml:f768404d-501b-4614-8ab9-e2515f32fafd\" xlink:show=\"new\" xlink:title=\"psysml:f768404d-501b-4614-8ab9-e2515f32fafd\" xlink:type=\"simple\"><path d=\"M203.12,200.06 C204.32,212.48 205.84,228.37 207.23,242.84 \" fill=\"none\" id=\"E7-&gt;E4\" style=\"stroke: #A80036; stroke-width: 1.0;\"/><polygon fill=\"#FFFFFF\" points=\"209.15,262.77,200.3629,244.5276,214.2985,243.187,209.15,262.77\" style=\"stroke: #A80036; stroke-width: 1.0;\"/><ellipse cx=\"201.8079\" cy=\"238.6623\" fill=\"#A80036\" rx=\"2\" ry=\"2\" style=\"stroke: #A80036; stroke-width: 1.0;\"/><ellipse cx=\"211.7619\" cy=\"237.7047\" fill=\"#A80036\" rx=\"2\" ry=\"2\" style=\"stroke: #A80036; stroke-width: 1.0;\"/></a><!--MD5=[452b418e7f8a40397a49b8c0a78acc5b]\n",
       "reverse link E5 to E7--><a href=\"psysml:5db0ac38-23f9-426f-a666-7fa33ad35708\" target=\"_top\" title=\"psysml:5db0ac38-23f9-426f-a666-7fa33ad35708\" xlink:actuate=\"onRequest\" xlink:href=\"psysml:5db0ac38-23f9-426f-a666-7fa33ad35708\" xlink:show=\"new\" xlink:title=\"psysml:5db0ac38-23f9-426f-a666-7fa33ad35708\" xlink:type=\"simple\"><path d=\"M237.26,99.58 C228.99,116.99 218.89,138.3 211.45,153.98 \" fill=\"none\" id=\"E5&lt;-E7\" style=\"stroke: #A80036; stroke-width: 1.0;\"/><polygon fill=\"#A80036\" points=\"242.88,87.72,236.6942,91.4262,237.7362,98.5616,243.922,94.8554,242.88,87.72\" style=\"stroke: #A80036; stroke-width: 1.0;\"/><text fill=\"#000000\" font-family=\"sans-serif\" font-size=\"13\" lengthAdjust=\"spacingAndGlyphs\" textLength=\"24\" x=\"187.0334\" y=\"142.8709\">0..1</text></a><!--MD5=[1ccb2481ffa92f8d51a74ee30c51832a]\n",
       "link E8 to E5--><a href=\"psysml:2ecacd66-b174-4fa5-a1f0-5f98a8e6e629\" target=\"_top\" title=\"psysml:2ecacd66-b174-4fa5-a1f0-5f98a8e6e629\" xlink:actuate=\"onRequest\" xlink:href=\"psysml:2ecacd66-b174-4fa5-a1f0-5f98a8e6e629\" xlink:show=\"new\" xlink:title=\"psysml:2ecacd66-b174-4fa5-a1f0-5f98a8e6e629\" xlink:type=\"simple\"><path d=\"M304.49,153.98 C300.07,139.89 291.63,121.28 282.53,105.01 \" fill=\"none\" id=\"E8-&gt;E5\" style=\"stroke: #A80036; stroke-width: 1.0;\"/><polygon fill=\"#FFFFFF\" points=\"271.93,87.72,287.8284,100.2596,275.8928,107.5769,271.93,87.72\" style=\"stroke: #A80036; stroke-width: 1.0;\"/><ellipse cx=\"289.1025\" cy=\"106.1644\" fill=\"#A80036\" rx=\"2\" ry=\"2\" style=\"stroke: #A80036; stroke-width: 1.0;\"/><ellipse cx=\"280.5771\" cy=\"111.391\" fill=\"#A80036\" rx=\"2\" ry=\"2\" style=\"stroke: #A80036; stroke-width: 1.0;\"/></a><!--MD5=[827760032d119d06bbc92f75530fd7ae]\n",
       "reverse link E5 to E8--><a href=\"psysml:96dfc0dc-2946-48da-b50d-9c346f08b52f\" target=\"_top\" title=\"psysml:96dfc0dc-2946-48da-b50d-9c346f08b52f\" xlink:actuate=\"onRequest\" xlink:href=\"psysml:96dfc0dc-2946-48da-b50d-9c346f08b52f\" xlink:show=\"new\" xlink:title=\"psysml:96dfc0dc-2946-48da-b50d-9c346f08b52f\" xlink:type=\"simple\"><path d=\"M255.55,100.09 C262.24,117.41 272.82,138.45 282.83,153.98 \" fill=\"none\" id=\"E5&lt;-E8\" style=\"stroke: #A80036; stroke-width: 1.0;\"/><polygon fill=\"#A80036\" points=\"251.26,87.72,249.4475,94.6996,255.193,99.0572,257.0056,92.0776,251.26,87.72\" style=\"stroke: #A80036; stroke-width: 1.0;\"/><text fill=\"#000000\" font-family=\"sans-serif\" font-size=\"13\" lengthAdjust=\"spacingAndGlyphs\" textLength=\"7\" x=\"269.1999\" y=\"142.8709\">*</text></a><!--MD5=[22f5b4bae7e060dce8a1c8021efdb95b]\n",
       "reverse link E8 to E9--><a href=\"psysml:fc5eb428-4a03-41d1-992b-aff2a13d3fb9\" target=\"_top\" title=\"psysml:fc5eb428-4a03-41d1-992b-aff2a13d3fb9\" xlink:actuate=\"onRequest\" xlink:href=\"psysml:fc5eb428-4a03-41d1-992b-aff2a13d3fb9\" xlink:show=\"new\" xlink:title=\"psysml:fc5eb428-4a03-41d1-992b-aff2a13d3fb9\" xlink:type=\"simple\"><path d=\"M304,213.44 C304,228.87 304,246.47 304,259.98 \" fill=\"none\" id=\"E8&lt;-E9\" style=\"stroke: #A80036; stroke-width: 1.0;\"/><polygon fill=\"#A80036\" points=\"304,200.06,300,206.06,304,212.06,308,206.06,304,200.06\" style=\"stroke: #A80036; stroke-width: 1.0;\"/></a><!--MD5=[e8e32db2720d79fb64bde81f7515cc55]\n",
       "@startuml\r\n",
       " \r\n",
       "package \"ViewTest\" as E1  [[psysml:fb02ed11-6398-4cea-b135-53d0cca9c478 ]]  {\r\n",
       "package \"P\" as E2  [[psysml:6d9f5c34-02db-4c22-b8ae-ed1a072d5ac7 ]]  {\r\n",
       "}\r\n",
       "comp def \"VP\" as E3  <<(D,brown)viewpoint def>> [[psysml:436e526f-0cc5-474d-8f19-4580d940df20 ]] {\r\n",
       "}\r\n",
       "comp def \"R\" as E4  << (B,green) >> [[psysml:053dc08e-a8e7-4770-acc6-30068883d6d6 ]] {\r\n",
       "}\r\n",
       "comp def \"V\" as E5  << (B,green) >> [[psysml:2fa1d21f-0378-4832-ab0e-3c490c491fc9 ]] {\r\n",
       "}\r\n",
       "comp usage \"vp: VP\" as E6  <<(U,orange)viewpoint>> [[psysml:b39da276-6b98-4aad-85bf-f9ecfc55683d ]] {\r\n",
       "}\r\n",
       "comp usage \"r: R\" as E7  << (P,limegreen) part>> [[psysml:5db0ac38-23f9-426f-a666-7fa33ad35708 ]] {\r\n",
       "}\r\n",
       "comp usage \"v: V\" as E8  << (P,limegreen) part>> [[psysml:96dfc0dc-2946-48da-b50d-9c346f08b52f ]] {\r\n",
       "}\r\n",
       "comp usage \"r1\" as E9  << (P,limegreen) part>> [[psysml:fc5eb428-4a03-41d1-992b-aff2a13d3fb9 ]] {\r\n",
       "}\r\n",
       "E5 *- - E6 [[psysml:b39da276-6b98-4aad-85bf-f9ecfc55683d ]] \r\n",
       "E6 - -:|> E3 [[psysml:7b3d769f-4c56-4413-aa9f-0104e9507d6b ]] \r\n",
       "E7 - -:|> E4 [[psysml:f768404d-501b-4614-8ab9-e2515f32fafd ]] \r\n",
       "E5 *- - \"0..1\"E7 [[psysml:5db0ac38-23f9-426f-a666-7fa33ad35708 ]] \r\n",
       "E8 - -:|> E5 [[psysml:2ecacd66-b174-4fa5-a1f0-5f98a8e6e629 ]] \r\n",
       "E5 *- - \"*\"E8 [[psysml:96dfc0dc-2946-48da-b50d-9c346f08b52f ]] \r\n",
       "E8 *- - E9 [[psysml:fc5eb428-4a03-41d1-992b-aff2a13d3fb9 ]] \r\n",
       "}\r\n",
       "@enduml\r\n",
       "\n",
       "PlantUML version 1.2020.13(Sat Jun 13 12:26:38 UTC 2020)\n",
       "(EPL source distribution)\n",
       "Java Runtime: OpenJDK Runtime Environment\n",
       "JVM: OpenJDK 64-Bit Server VM\n",
       "Default Encoding: UTF-8\n",
       "Language: en\n",
       "Country: null\n",
       "--></g></svg>"
      ]
     },
     "execution_count": 31,
     "metadata": {},
     "output_type": "execute_result"
    }
   ],
   "source": [
    "%viz --style=\"PLANTUML\" --view=\"Tree\" \"ViewTest\""
   ]
  },
  {
   "cell_type": "code",
   "execution_count": 32,
   "id": "demonstrated-passage",
   "metadata": {
    "execution": {
     "iopub.execute_input": "2021-03-24T16:32:13.248267Z",
     "iopub.status.busy": "2021-03-24T16:32:13.247540Z",
     "iopub.status.idle": "2021-03-24T16:32:13.329849Z",
     "shell.execute_reply": "2021-03-24T16:32:13.328683Z"
    }
   },
   "outputs": [
    {
     "data": {
      "image/svg+xml": [
       "<?xml version=\"1.0\" encoding=\"UTF-8\" standalone=\"no\"?><svg xmlns=\"http://www.w3.org/2000/svg\" xmlns:xlink=\"http://www.w3.org/1999/xlink\" contentScriptType=\"application/ecmascript\" contentStyleType=\"text/css\" height=\"303px\" preserveAspectRatio=\"none\" style=\"width:603px;height:303px;background:#000000;\" version=\"1.1\" viewBox=\"0 0 603 303\" width=\"603px\" zoomAndPan=\"magnify\"><defs/><g><rect fill=\"#13020D\" height=\"1\" style=\"stroke: #13020D; stroke-width: 1.0;\" width=\"1\" x=\"0\" y=\"0\"/><rect fill=\"#FFFFFF\" height=\"205.5625\" style=\"stroke: #FFFFFF; stroke-width: 1.0;\" width=\"602\" x=\"0\" y=\"0\"/><text fill=\"#000000\" font-family=\"sans-serif\" font-size=\"12\" font-weight=\"bold\" lengthAdjust=\"spacingAndGlyphs\" textLength=\"159\" x=\"5\" y=\"16.1387\">Welcome to PlantUML!</text><text fill=\"#000000\" font-family=\"sans-serif\" font-size=\"12\" lengthAdjust=\"spacingAndGlyphs\" textLength=\"0\" x=\"9\" y=\"30.1074\"/><text fill=\"#000000\" font-family=\"sans-serif\" font-size=\"12\" lengthAdjust=\"spacingAndGlyphs\" textLength=\"293\" x=\"5\" y=\"44.0762\">If you use this software, you accept its license.</text><text fill=\"#000000\" font-family=\"sans-serif\" font-size=\"12\" lengthAdjust=\"spacingAndGlyphs\" textLength=\"107\" x=\"5\" y=\"58.0449\">(details by typing</text><text fill=\"#000000\" font-family=\"monospace\" font-size=\"12\" lengthAdjust=\"spacingAndGlyphs\" textLength=\"49\" x=\"116\" y=\"58.0449\">license</text><text fill=\"#000000\" font-family=\"sans-serif\" font-size=\"12\" lengthAdjust=\"spacingAndGlyphs\" textLength=\"56\" x=\"169\" y=\"58.0449\">keyword)</text><text fill=\"#000000\" font-family=\"sans-serif\" font-size=\"12\" lengthAdjust=\"spacingAndGlyphs\" textLength=\"0\" x=\"9\" y=\"72.0137\"/><text fill=\"#000000\" font-family=\"sans-serif\" font-size=\"12\" lengthAdjust=\"spacingAndGlyphs\" textLength=\"283\" x=\"5\" y=\"85.9824\">You can start with a simple UML Diagram like:</text><text fill=\"#000000\" font-family=\"sans-serif\" font-size=\"12\" lengthAdjust=\"spacingAndGlyphs\" textLength=\"0\" x=\"9\" y=\"99.9512\"/><text fill=\"#000000\" font-family=\"monospace\" font-size=\"12\" lengthAdjust=\"spacingAndGlyphs\" textLength=\"119\" x=\"5\" y=\"113.9199\">Bob-&gt;Alice: Hello</text><text fill=\"#000000\" font-family=\"sans-serif\" font-size=\"12\" lengthAdjust=\"spacingAndGlyphs\" textLength=\"0\" x=\"9\" y=\"127.8887\"/><text fill=\"#000000\" font-family=\"sans-serif\" font-size=\"12\" lengthAdjust=\"spacingAndGlyphs\" textLength=\"14\" x=\"5\" y=\"141.8574\">Or</text><text fill=\"#000000\" font-family=\"sans-serif\" font-size=\"12\" lengthAdjust=\"spacingAndGlyphs\" textLength=\"0\" x=\"9\" y=\"155.8262\"/><text fill=\"#000000\" font-family=\"monospace\" font-size=\"12\" lengthAdjust=\"spacingAndGlyphs\" textLength=\"91\" x=\"5\" y=\"169.7949\">class Example</text><text fill=\"#000000\" font-family=\"sans-serif\" font-size=\"12\" lengthAdjust=\"spacingAndGlyphs\" textLength=\"0\" x=\"9\" y=\"183.7637\"/><text fill=\"#000000\" font-family=\"sans-serif\" font-size=\"12\" lengthAdjust=\"spacingAndGlyphs\" textLength=\"349\" x=\"5\" y=\"197.7324\">You will find more information about PlantUML syntax on</text><text fill=\"#000000\" font-family=\"sans-serif\" font-size=\"12\" lengthAdjust=\"spacingAndGlyphs\" text-decoration=\"underline\" textLength=\"129\" x=\"358\" y=\"197.7324\">https://plantuml.com</text><image height=\"71\" width=\"80\" x=\"516\" xlink:href=\"data:image/png;base64,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\" y=\"6\"/><rect fill=\"#000000\" height=\"96.4844\" style=\"stroke: #000000; stroke-width: 1.0;\" width=\"602\" x=\"0\" y=\"205.5625\"/><rect fill=\"#33FF02\" height=\"21.2969\" style=\"stroke: #33FF02; stroke-width: 1.0;\" width=\"170\" x=\"5\" y=\"210.5625\"/><text fill=\"#000000\" font-family=\"sans-serif\" font-size=\"14\" font-weight=\"bold\" lengthAdjust=\"spacingAndGlyphs\" textLength=\"168\" x=\"6\" y=\"225.5625\">[From string (line 2) ]</text><text fill=\"#33FF02\" font-family=\"sans-serif\" font-size=\"14\" font-weight=\"bold\" lengthAdjust=\"spacingAndGlyphs\" textLength=\"0\" x=\"10\" y=\"245.8594\"/><text fill=\"#33FF02\" font-family=\"sans-serif\" font-size=\"14\" font-weight=\"bold\" lengthAdjust=\"spacingAndGlyphs\" textLength=\"79\" x=\"5\" y=\"262.1563\">@startuml</text><text fill=\"#33FF02\" font-family=\"sans-serif\" font-size=\"14\" font-weight=\"bold\" lengthAdjust=\"spacingAndGlyphs\" textLength=\"0\" x=\"10\" y=\"278.4531\"/><text fill=\"#FF0000\" font-family=\"sans-serif\" font-size=\"14\" font-weight=\"bold\" lengthAdjust=\"spacingAndGlyphs\" textLength=\"142\" x=\"10\" y=\"294.75\">Empty description</text><!--MD5=[f59edd8218d337f74d0c332fc6737304]\n",
       "@startuml\r\n",
       " \r\n",
       "@enduml\r\n",
       "\n",
       "PlantUML version 1.2020.13(Sat Jun 13 12:26:38 UTC 2020)\n",
       "(EPL source distribution)\n",
       "Java Runtime: OpenJDK Runtime Environment\n",
       "JVM: OpenJDK 64-Bit Server VM\n",
       "Default Encoding: UTF-8\n",
       "Language: en\n",
       "Country: null\n",
       "--></g></svg>"
      ]
     },
     "execution_count": 32,
     "metadata": {},
     "output_type": "execute_result"
    }
   ],
   "source": [
    "%viz --style=\"PLANTUML\" --view=\"State\" \"ViewTest\""
   ]
  },
  {
   "cell_type": "code",
   "execution_count": 33,
   "id": "handmade-symbol",
   "metadata": {
    "execution": {
     "iopub.execute_input": "2021-03-24T16:32:13.380881Z",
     "iopub.status.busy": "2021-03-24T16:32:13.380301Z",
     "iopub.status.idle": "2021-03-24T16:32:13.412113Z",
     "shell.execute_reply": "2021-03-24T16:32:13.410825Z"
    }
   },
   "outputs": [
    {
     "data": {
      "image/svg+xml": [
       "<?xml version=\"1.0\" encoding=\"UTF-8\" standalone=\"no\"?><svg xmlns=\"http://www.w3.org/2000/svg\" xmlns:xlink=\"http://www.w3.org/1999/xlink\" contentScriptType=\"application/ecmascript\" contentStyleType=\"text/css\" height=\"297px\" preserveAspectRatio=\"none\" style=\"width:546px;height:297px;\" version=\"1.1\" viewBox=\"0 0 546 297\" width=\"546px\" zoomAndPan=\"magnify\"><defs><filter height=\"300%\" id=\"f188dsllgysbz1\" width=\"300%\" x=\"-1\" y=\"-1\"><feGaussianBlur result=\"blurOut\" stdDeviation=\"2.0\"/><feColorMatrix in=\"blurOut\" result=\"blurOut2\" type=\"matrix\" values=\"0 0 0 0 0 0 0 0 0 0 0 0 0 0 0 0 0 0 .4 0\"/><feOffset dx=\"4.0\" dy=\"4.0\" in=\"blurOut2\" result=\"blurOut3\"/><feBlend in=\"SourceGraphic\" in2=\"blurOut3\" mode=\"normal\"/></filter></defs><g><!--MD5=[fbc87193dbaf4d95561dea2c320d4a47]\n",
       "cluster E1--><a href=\"psysml:fb02ed11-6398-4cea-b135-53d0cca9c478\" target=\"_top\" title=\"psysml:fb02ed11-6398-4cea-b135-53d0cca9c478\" xlink:actuate=\"onRequest\" xlink:href=\"psysml:fb02ed11-6398-4cea-b135-53d0cca9c478\" xlink:show=\"new\" xlink:title=\"psysml:fb02ed11-6398-4cea-b135-53d0cca9c478\" xlink:type=\"simple\"><polygon fill=\"#FFFFFF\" filter=\"url(#f188dsllgysbz1)\" points=\"16,6,96,6,103,28.2969,524,28.2969,524,285,16,285,16,6\" style=\"stroke: #000000; stroke-width: 1.5;\"/><line style=\"stroke: #000000; stroke-width: 1.5;\" x1=\"16\" x2=\"103\" y1=\"28.2969\" y2=\"28.2969\"/><text fill=\"#000000\" font-family=\"sans-serif\" font-size=\"14\" font-weight=\"bold\" lengthAdjust=\"spacingAndGlyphs\" textLength=\"74\" x=\"20\" y=\"20.9951\">ViewTest</text></a><!--MD5=[de5ec2e2e8f62f467e546659f5068c88]\n",
       "cluster E5--><a href=\"psysml:2fa1d21f-0378-4832-ab0e-3c490c491fc9\" target=\"_top\" title=\"psysml:2fa1d21f-0378-4832-ab0e-3c490c491fc9\" xlink:actuate=\"onRequest\" xlink:href=\"psysml:2fa1d21f-0378-4832-ab0e-3c490c491fc9\" xlink:show=\"new\" xlink:title=\"psysml:2fa1d21f-0378-4832-ab0e-3c490c491fc9\" xlink:type=\"simple\"><rect fill=\"#FFFFFF\" filter=\"url(#f188dsllgysbz1)\" height=\"158\" id=\"E5\" style=\"stroke: #A80036; stroke-width: 1.5;\" width=\"334\" x=\"166\" y=\"49\"/><rect fill=\"#FEFECE\" height=\"23.9688\" style=\"stroke: #A80036; stroke-width: 1.5;\" width=\"334\" x=\"166\" y=\"49\"/><text fill=\"#000000\" font-family=\"sans-serif\" font-size=\"12\" lengthAdjust=\"spacingAndGlyphs\" textLength=\"8\" x=\"329\" y=\"65.1387\">V</text></a><!--MD5=[55dfccfc6c49c2d10cd1bd2211a6c90c]\n",
       "cluster E8--><a href=\"psysml:96dfc0dc-2946-48da-b50d-9c346f08b52f\" target=\"_top\" title=\"psysml:96dfc0dc-2946-48da-b50d-9c346f08b52f\" xlink:actuate=\"onRequest\" xlink:href=\"psysml:96dfc0dc-2946-48da-b50d-9c346f08b52f\" xlink:show=\"new\" xlink:title=\"psysml:96dfc0dc-2946-48da-b50d-9c346f08b52f\" xlink:type=\"simple\"><rect fill=\"#FFFFFF\" filter=\"url(#f188dsllgysbz1)\" height=\"91\" id=\"E8\" rx=\"10\" ry=\"10\" style=\"stroke: #A80036; stroke-width: 1.5;\" width=\"82\" x=\"394\" y=\"92\"/><rect fill=\"#FEFECE\" height=\"23.9688\" rx=\"10\" ry=\"10\" style=\"stroke: #FEFECE; stroke-width: 1.5;\" width=\"82\" x=\"394\" y=\"92\"/><rect fill=\"#FEFECE\" height=\"10\" style=\"stroke: #FEFECE; stroke-width: 1.5;\" width=\"82\" x=\"394\" y=\"105.9688\"/><rect fill=\"none\" height=\"91\" id=\"E8\" rx=\"10\" ry=\"10\" style=\"stroke: #A80036; stroke-width: 1.5;\" width=\"82\" x=\"394\" y=\"92\"/><text fill=\"#000000\" font-family=\"sans-serif\" font-size=\"12\" lengthAdjust=\"spacingAndGlyphs\" textLength=\"22\" x=\"424\" y=\"108.1387\">v: V</text><line style=\"stroke: #A80036; stroke-width: 1.0;\" x1=\"394\" x2=\"476\" y1=\"115.9688\" y2=\"115.9688\"/></a><!--MD5=[09b614a08d8cba4a07c9adeb5e0fee81]\n",
       "class E3--><a href=\"psysml:436e526f-0cc5-474d-8f19-4580d940df20\" target=\"_top\" title=\"psysml:436e526f-0cc5-474d-8f19-4580d940df20\" xlink:actuate=\"onRequest\" xlink:href=\"psysml:436e526f-0cc5-474d-8f19-4580d940df20\" xlink:show=\"new\" xlink:title=\"psysml:436e526f-0cc5-474d-8f19-4580d940df20\" xlink:type=\"simple\"><rect fill=\"#FEFECE\" filter=\"url(#f188dsllgysbz1)\" height=\"45.9375\" id=\"E3\" style=\"stroke: #A80036; stroke-width: 1.5;\" width=\"124\" x=\"263\" y=\"223\"/><ellipse cx=\"278\" cy=\"241.9688\" fill=\"#A52A2A\" rx=\"11\" ry=\"11\" style=\"stroke: #A80036; stroke-width: 1.0;\"/><path d=\"M277.5938,237.7813 L277.5938,245.7656 L278.25,245.7656 Q279.6875,245.7656 280.2969,244.8594 Q280.9219,243.9375 280.9219,241.7656 Q280.9219,239.5938 280.2969,238.6875 Q279.6875,237.7813 278.25,237.7813 L277.5938,237.7813 Z M275.1406,235.5781 L277.7656,235.5781 Q280.7969,235.5781 282.125,237.0313 Q283.4688,238.4688 283.4688,241.7656 Q283.4688,245.0625 282.125,246.5156 Q280.7969,247.9688 277.7656,247.9688 L275.1406,247.9688 L275.1406,235.5781 Z \"/><text fill=\"#000000\" font-family=\"sans-serif\" font-size=\"12\" font-style=\"italic\" lengthAdjust=\"spacingAndGlyphs\" textLength=\"96\" x=\"290\" y=\"239.1387\">«viewpoint def»</text><text fill=\"#000000\" font-family=\"sans-serif\" font-size=\"12\" lengthAdjust=\"spacingAndGlyphs\" textLength=\"16\" x=\"330\" y=\"253.1074\">VP</text><line style=\"stroke: #A80036; stroke-width: 1.5;\" x1=\"264\" x2=\"386\" y1=\"260.9375\" y2=\"260.9375\"/></a><a href=\"psysml:6d9f5c34-02db-4c22-b8ae-ed1a072d5ac7\" target=\"_top\" title=\"psysml:6d9f5c34-02db-4c22-b8ae-ed1a072d5ac7\" xlink:actuate=\"onRequest\" xlink:href=\"psysml:6d9f5c34-02db-4c22-b8ae-ed1a072d5ac7\" xlink:show=\"new\" xlink:title=\"psysml:6d9f5c34-02db-4c22-b8ae-ed1a072d5ac7\" xlink:type=\"simple\"><polygon fill=\"#FFFFFF\" filter=\"url(#f188dsllgysbz1)\" points=\"117,120.5,133,120.5,140,142.7969,147,142.7969,147,173.0938,117,173.0938,117,120.5\" style=\"stroke: #000000; stroke-width: 1.5;\"/><line style=\"stroke: #000000; stroke-width: 1.5;\" x1=\"117\" x2=\"140\" y1=\"142.7969\" y2=\"142.7969\"/><text fill=\"#000000\" font-family=\"sans-serif\" font-size=\"14\" font-weight=\"bold\" lengthAdjust=\"spacingAndGlyphs\" textLength=\"10\" x=\"121\" y=\"135.4951\">P</text></a><g id=\"E1.E4\"><a href=\"psysml:053dc08e-a8e7-4770-acc6-30068883d6d6\" target=\"_top\" title=\"psysml:053dc08e-a8e7-4770-acc6-30068883d6d6\" xlink:actuate=\"onRequest\" xlink:href=\"psysml:053dc08e-a8e7-4770-acc6-30068883d6d6\" xlink:show=\"new\" xlink:title=\"psysml:053dc08e-a8e7-4770-acc6-30068883d6d6\" xlink:type=\"simple\"><rect fill=\"#FEFECE\" filter=\"url(#f188dsllgysbz1)\" height=\"40\" id=\"E4\" style=\"stroke: #A80036; stroke-width: 1.5;\" width=\"50\" x=\"32\" y=\"127\"/><ellipse cx=\"51.5\" cy=\"143\" fill=\"#008000\" rx=\"11\" ry=\"11\" style=\"stroke: #A80036; stroke-width: 1.0;\"/><path d=\"M50.4063,143.375 L50.4063,147.0469 L52.0313,147.0469 Q53.2031,147.0469 53.6719,146.6563 Q54.1406,146.25 54.1406,145.25 Q54.1406,144.25 53.6406,143.8125 Q53.1563,143.375 52.0313,143.375 L50.4063,143.375 Z M50.4063,138.5469 L50.4063,141.4219 L52.0313,141.4219 Q52.9531,141.4219 53.3438,141.0938 Q53.75,140.75 53.75,140 Q53.75,139.2344 53.3438,138.8906 Q52.9375,138.5469 52.0313,138.5469 L50.4063,138.5469 Z M48.0313,136.5938 L52.0313,136.5938 Q54.0938,136.5938 55.1406,137.375 Q56.1875,138.1563 56.1875,139.7188 Q56.1875,140.9219 55.5625,141.5938 Q54.9531,142.2656 53.7656,142.375 Q55.1875,142.5156 55.9063,143.3281 Q56.625,144.1406 56.625,145.5938 Q56.625,147.3906 55.5469,148.2031 Q54.4688,149 52.0313,149 L48.0313,149 L48.0313,136.5938 Z \"/><text fill=\"#000000\" font-family=\"sans-serif\" font-size=\"12\" lengthAdjust=\"spacingAndGlyphs\" textLength=\"8\" x=\"66.5\" y=\"147.1543\">R</text></a></g><!--MD5=[60a26617385b1d2d0262a64233df1f8d]\n",
       "class E6--><a href=\"psysml:b39da276-6b98-4aad-85bf-f9ecfc55683d\" target=\"_top\" title=\"psysml:b39da276-6b98-4aad-85bf-f9ecfc55683d\" xlink:actuate=\"onRequest\" xlink:href=\"psysml:b39da276-6b98-4aad-85bf-f9ecfc55683d\" xlink:show=\"new\" xlink:title=\"psysml:b39da276-6b98-4aad-85bf-f9ecfc55683d\" xlink:type=\"simple\"><rect fill=\"#FEFECE\" filter=\"url(#f188dsllgysbz1)\" height=\"45.9375\" id=\"E6\" rx=\"10\" ry=\"10\" style=\"stroke: #A80036; stroke-width: 1.5;\" width=\"100\" x=\"275\" y=\"124\"/><ellipse cx=\"290\" cy=\"142.9688\" fill=\"#FFA500\" rx=\"11\" ry=\"11\" style=\"stroke: #A80036; stroke-width: 1.0;\"/><path d=\"M285.875,144.8906 L285.875,137.0781 L288.3281,137.0781 L288.3281,145.5156 Q288.3281,146.4375 288.7969,146.9688 Q289.2813,147.5 290.1094,147.5 Q290.9531,147.5 291.4219,146.9688 Q291.8906,146.4375 291.8906,145.5156 L291.8906,137.0781 L294.3438,137.0781 L294.3438,144.8906 Q294.3438,147.4219 293.3438,148.5625 Q292.3438,149.7031 290.1094,149.7031 Q287.8906,149.7031 286.875,148.5625 Q285.875,147.4219 285.875,144.8906 Z \"/><text fill=\"#000000\" font-family=\"sans-serif\" font-size=\"12\" font-style=\"italic\" lengthAdjust=\"spacingAndGlyphs\" textLength=\"72\" x=\"302\" y=\"140.1387\">«viewpoint»</text><text fill=\"#000000\" font-family=\"sans-serif\" font-size=\"12\" lengthAdjust=\"spacingAndGlyphs\" textLength=\"38\" x=\"319\" y=\"154.1074\">vp: VP</text><line style=\"stroke: #A80036; stroke-width: 1.5;\" x1=\"276\" x2=\"374\" y1=\"161.9375\" y2=\"161.9375\"/></a><g id=\"E1.E5.E7\"><a href=\"psysml:5db0ac38-23f9-426f-a666-7fa33ad35708\" target=\"_top\" title=\"psysml:5db0ac38-23f9-426f-a666-7fa33ad35708\" xlink:actuate=\"onRequest\" xlink:href=\"psysml:5db0ac38-23f9-426f-a666-7fa33ad35708\" xlink:show=\"new\" xlink:title=\"psysml:5db0ac38-23f9-426f-a666-7fa33ad35708\" xlink:type=\"simple\"><rect fill=\"#FEFECE\" filter=\"url(#f188dsllgysbz1)\" height=\"40\" id=\"E7\" rx=\"10\" ry=\"10\" style=\"stroke: #A80036; stroke-width: 1.5;\" width=\"58\" x=\"182\" y=\"127\"/><ellipse cx=\"199.25\" cy=\"143\" fill=\"#B6DBBB\" rx=\"11\" ry=\"11\" style=\"stroke: #A80036; stroke-width: 1.0;\"/><path d=\"M195.125,144.9219 L195.125,137.1094 L197.5781,137.1094 L197.5781,145.5469 Q197.5781,146.4688 198.0469,147 Q198.5313,147.5313 199.3594,147.5313 Q200.2031,147.5313 200.6719,147 Q201.1406,146.4688 201.1406,145.5469 L201.1406,137.1094 L203.5938,137.1094 L203.5938,144.9219 Q203.5938,147.4531 202.5938,148.5938 Q201.5938,149.7344 199.3594,149.7344 Q197.1406,149.7344 196.125,148.5938 Q195.125,147.4531 195.125,144.9219 Z \"/><text fill=\"#000000\" font-family=\"sans-serif\" font-size=\"12\" lengthAdjust=\"spacingAndGlyphs\" textLength=\"21\" x=\"213.75\" y=\"147.1543\">r: R</text></a></g><g id=\"E1.E5.E8.E9\"><a href=\"psysml:fc5eb428-4a03-41d1-992b-aff2a13d3fb9\" target=\"_top\" title=\"psysml:fc5eb428-4a03-41d1-992b-aff2a13d3fb9\" xlink:actuate=\"onRequest\" xlink:href=\"psysml:fc5eb428-4a03-41d1-992b-aff2a13d3fb9\" xlink:show=\"new\" xlink:title=\"psysml:fc5eb428-4a03-41d1-992b-aff2a13d3fb9\" xlink:type=\"simple\"><rect fill=\"#FEFECE\" filter=\"url(#f188dsllgysbz1)\" height=\"40\" id=\"E9\" rx=\"10\" ry=\"10\" style=\"stroke: #A80036; stroke-width: 1.5;\" width=\"50\" x=\"410\" y=\"127\"/><ellipse cx=\"427.25\" cy=\"143\" fill=\"#B6DBBB\" rx=\"11\" ry=\"11\" style=\"stroke: #A80036; stroke-width: 1.0;\"/><path d=\"M423.125,144.9219 L423.125,137.1094 L425.5781,137.1094 L425.5781,145.5469 Q425.5781,146.4688 426.0469,147 Q426.5313,147.5313 427.3594,147.5313 Q428.2031,147.5313 428.6719,147 Q429.1406,146.4688 429.1406,145.5469 L429.1406,137.1094 L431.5938,137.1094 L431.5938,144.9219 Q431.5938,147.4531 430.5938,148.5938 Q429.5938,149.7344 427.3594,149.7344 Q425.1406,149.7344 424.125,148.5938 Q423.125,147.4531 423.125,144.9219 Z \"/><text fill=\"#000000\" font-family=\"sans-serif\" font-size=\"12\" lengthAdjust=\"spacingAndGlyphs\" textLength=\"13\" x=\"441.75\" y=\"147.1543\">r1</text></a></g><!--MD5=[a717450b82c80b9240a525fa862496af]\n",
       "link E6 to E3--><a href=\"psysml:7b3d769f-4c56-4413-aa9f-0104e9507d6b\" target=\"_top\" title=\"psysml:7b3d769f-4c56-4413-aa9f-0104e9507d6b\" xlink:actuate=\"onRequest\" xlink:href=\"psysml:7b3d769f-4c56-4413-aa9f-0104e9507d6b\" xlink:show=\"new\" xlink:title=\"psysml:7b3d769f-4c56-4413-aa9f-0104e9507d6b\" xlink:type=\"simple\"><path d=\"M325,170.01 C325,179.62 325,191.22 325,202.4 \" fill=\"none\" id=\"E6-&gt;E3\" style=\"stroke: #A80036; stroke-width: 1.0;\"/><polygon fill=\"#FFFFFF\" points=\"325,222.74,318,203.74,332,203.74,325,222.74\" style=\"stroke: #A80036; stroke-width: 1.0;\"/><ellipse cx=\"320\" cy=\"198.04\" fill=\"#A80036\" rx=\"2\" ry=\"2\" style=\"stroke: #A80036; stroke-width: 1.0;\"/><ellipse cx=\"330\" cy=\"198.04\" fill=\"#A80036\" rx=\"2\" ry=\"2\" style=\"stroke: #A80036; stroke-width: 1.0;\"/></a><!--MD5=[dfe333059ac4c2936defe83d55666470]\n",
       "@startuml\r\n",
       "skinparam ranksep 10\r\n",
       "skinparam rectangle {\r\n",
       " backgroundColor<<block>> LightGreen\r\n",
       "}\r\n",
       " \r\n",
       "package \"ViewTest\" as E1  [[psysml:fb02ed11-6398-4cea-b135-53d0cca9c478 ]]  {\r\n",
       "package \"P\" as E2  [[psysml:6d9f5c34-02db-4c22-b8ae-ed1a072d5ac7 ]]  {\r\n",
       "}\r\n",
       "comp def \"VP\" as E3  <<(D,brown)viewpoint def>> [[psysml:436e526f-0cc5-474d-8f19-4580d940df20 ]] {\r\n",
       "}\r\n",
       "rec def \"R\" as E4  << (B,green) >> [[psysml:053dc08e-a8e7-4770-acc6-30068883d6d6 ]] {\r\n",
       "}\r\n",
       "rec def \"V\" as E5  << (B,green) >> [[psysml:2fa1d21f-0378-4832-ab0e-3c490c491fc9 ]] {\r\n",
       "comp usage \"vp: VP\" as E6  <<(U,orange)viewpoint>> [[psysml:b39da276-6b98-4aad-85bf-f9ecfc55683d ]] {\r\n",
       "}\r\n",
       "rec usage \"r: R\" as E7  [[psysml:5db0ac38-23f9-426f-a666-7fa33ad35708 ]] {\r\n",
       "}\r\n",
       "rec usage \"v: V\" as E8  [[psysml:96dfc0dc-2946-48da-b50d-9c346f08b52f ]] {\r\n",
       "rec usage \"r1\" as E9  [[psysml:fc5eb428-4a03-41d1-992b-aff2a13d3fb9 ]] {\r\n",
       "}\r\n",
       "}\r\n",
       "}\r\n",
       "E6 - -:|> E3 [[psysml:7b3d769f-4c56-4413-aa9f-0104e9507d6b ]] \r\n",
       "}\r\n",
       "@enduml\r\n",
       "\n",
       "PlantUML version 1.2020.13(Sat Jun 13 12:26:38 UTC 2020)\n",
       "(EPL source distribution)\n",
       "Java Runtime: OpenJDK Runtime Environment\n",
       "JVM: OpenJDK 64-Bit Server VM\n",
       "Default Encoding: UTF-8\n",
       "Language: en\n",
       "Country: null\n",
       "--></g></svg>"
      ]
     },
     "execution_count": 33,
     "metadata": {},
     "output_type": "execute_result"
    }
   ],
   "source": [
    "%viz --style=\"PLANTUML\" --view=\"Interconnection\" \"ViewTest\""
   ]
  },
  {
   "cell_type": "code",
   "execution_count": 34,
   "id": "august-coral",
   "metadata": {
    "execution": {
     "iopub.execute_input": "2021-03-24T16:32:13.462632Z",
     "iopub.status.busy": "2021-03-24T16:32:13.461905Z",
     "iopub.status.idle": "2021-03-24T16:32:13.466064Z",
     "shell.execute_reply": "2021-03-24T16:32:13.466384Z"
    }
   },
   "outputs": [
    {
     "data": {
      "image/svg+xml": [
       "<?xml version=\"1.0\" encoding=\"UTF-8\" standalone=\"no\"?><svg xmlns=\"http://www.w3.org/2000/svg\" xmlns:xlink=\"http://www.w3.org/1999/xlink\" contentScriptType=\"application/ecmascript\" contentStyleType=\"text/css\" height=\"12px\" preserveAspectRatio=\"none\" style=\"width:12px;height:12px;\" version=\"1.1\" viewBox=\"0 0 12 12\" width=\"12px\" zoomAndPan=\"magnify\"><defs/><g><!--MD5=[6a4cb978cab31700e1ce5529f947a75d]\n",
       "@startuml\r\n",
       "skinparam ranksep 8\r\n",
       " \r\n",
       "@enduml\r\n",
       "\n",
       "PlantUML version 1.2020.13(Sat Jun 13 12:26:38 UTC 2020)\n",
       "(EPL source distribution)\n",
       "Java Runtime: OpenJDK Runtime Environment\n",
       "JVM: OpenJDK 64-Bit Server VM\n",
       "Default Encoding: UTF-8\n",
       "Language: en\n",
       "Country: null\n",
       "--></g></svg>"
      ]
     },
     "execution_count": 34,
     "metadata": {},
     "output_type": "execute_result"
    }
   ],
   "source": [
    "%viz --style=\"PLANTUML\" --view=\"Action\" \"ViewTest\""
   ]
  },
  {
   "cell_type": "code",
   "execution_count": 35,
   "id": "partial-prime",
   "metadata": {
    "execution": {
     "iopub.execute_input": "2021-03-24T16:32:13.517601Z",
     "iopub.status.busy": "2021-03-24T16:32:13.517121Z",
     "iopub.status.idle": "2021-03-24T16:32:13.562078Z",
     "shell.execute_reply": "2021-03-24T16:32:13.560478Z"
    }
   },
   "outputs": [
    {
     "data": {
      "image/svg+xml": [
       "<?xml version=\"1.0\" encoding=\"UTF-8\" standalone=\"no\"?><svg xmlns=\"http://www.w3.org/2000/svg\" xmlns:xlink=\"http://www.w3.org/1999/xlink\" contentScriptType=\"application/ecmascript\" contentStyleType=\"text/css\" height=\"334px\" preserveAspectRatio=\"none\" style=\"width:376px;height:334px;\" version=\"1.1\" viewBox=\"0 0 376 334\" width=\"376px\" zoomAndPan=\"magnify\"><defs><filter height=\"300%\" id=\"f168b532cpthwi\" width=\"300%\" x=\"-1\" y=\"-1\"><feGaussianBlur result=\"blurOut\" stdDeviation=\"2.0\"/><feColorMatrix in=\"blurOut\" result=\"blurOut2\" type=\"matrix\" values=\"0 0 0 0 0 0 0 0 0 0 0 0 0 0 0 0 0 0 .4 0\"/><feOffset dx=\"4.0\" dy=\"4.0\" in=\"blurOut2\" result=\"blurOut3\"/><feBlend in=\"SourceGraphic\" in2=\"blurOut3\" mode=\"normal\"/></filter></defs><g><!--MD5=[fbc87193dbaf4d95561dea2c320d4a47]\n",
       "cluster E1--><a href=\"psysml:fb02ed11-6398-4cea-b135-53d0cca9c478\" target=\"_top\" title=\"psysml:fb02ed11-6398-4cea-b135-53d0cca9c478\" xlink:actuate=\"onRequest\" xlink:href=\"psysml:fb02ed11-6398-4cea-b135-53d0cca9c478\" xlink:show=\"new\" xlink:title=\"psysml:fb02ed11-6398-4cea-b135-53d0cca9c478\" xlink:type=\"simple\"><polygon fill=\"#FFFFFF\" filter=\"url(#f168b532cpthwi)\" points=\"16,6,96,6,103,28.2969,354,28.2969,354,322,16,322,16,6\" style=\"stroke: #000000; stroke-width: 1.5;\"/><line style=\"stroke: #000000; stroke-width: 1.5;\" x1=\"16\" x2=\"103\" y1=\"28.2969\" y2=\"28.2969\"/><text fill=\"#000000\" font-family=\"sans-serif\" font-size=\"14\" font-weight=\"bold\" lengthAdjust=\"spacingAndGlyphs\" textLength=\"74\" x=\"20\" y=\"20.9951\">ViewTest</text></a><!--MD5=[09b614a08d8cba4a07c9adeb5e0fee81]\n",
       "class E3--><a href=\"psysml:436e526f-0cc5-474d-8f19-4580d940df20\" target=\"_top\" title=\"psysml:436e526f-0cc5-474d-8f19-4580d940df20\" xlink:actuate=\"onRequest\" xlink:href=\"psysml:436e526f-0cc5-474d-8f19-4580d940df20\" xlink:show=\"new\" xlink:title=\"psysml:436e526f-0cc5-474d-8f19-4580d940df20\" xlink:type=\"simple\"><rect fill=\"#FEFECE\" filter=\"url(#f168b532cpthwi)\" height=\"45.9375\" id=\"E3\" style=\"stroke: #A80036; stroke-width: 1.5;\" width=\"124\" x=\"32\" y=\"260\"/><ellipse cx=\"47\" cy=\"278.9688\" fill=\"#A52A2A\" rx=\"11\" ry=\"11\" style=\"stroke: #A80036; stroke-width: 1.0;\"/><path d=\"M46.5938,274.7813 L46.5938,282.7656 L47.25,282.7656 Q48.6875,282.7656 49.2969,281.8594 Q49.9219,280.9375 49.9219,278.7656 Q49.9219,276.5938 49.2969,275.6875 Q48.6875,274.7813 47.25,274.7813 L46.5938,274.7813 Z M44.1406,272.5781 L46.7656,272.5781 Q49.7969,272.5781 51.125,274.0313 Q52.4688,275.4688 52.4688,278.7656 Q52.4688,282.0625 51.125,283.5156 Q49.7969,284.9688 46.7656,284.9688 L44.1406,284.9688 L44.1406,272.5781 Z \"/><text fill=\"#000000\" font-family=\"sans-serif\" font-size=\"12\" font-style=\"italic\" lengthAdjust=\"spacingAndGlyphs\" textLength=\"96\" x=\"59\" y=\"276.1387\">«viewpoint def»</text><text fill=\"#000000\" font-family=\"sans-serif\" font-size=\"12\" lengthAdjust=\"spacingAndGlyphs\" textLength=\"16\" x=\"99\" y=\"290.1074\">VP</text><line style=\"stroke: #A80036; stroke-width: 1.5;\" x1=\"33\" x2=\"155\" y1=\"297.9375\" y2=\"297.9375\"/></a><!--MD5=[ebbe1d658d1005bcc118a6aa81145e00]\n",
       "class E4--><a href=\"psysml:053dc08e-a8e7-4770-acc6-30068883d6d6\" target=\"_top\" title=\"psysml:053dc08e-a8e7-4770-acc6-30068883d6d6\" xlink:actuate=\"onRequest\" xlink:href=\"psysml:053dc08e-a8e7-4770-acc6-30068883d6d6\" xlink:show=\"new\" xlink:title=\"psysml:053dc08e-a8e7-4770-acc6-30068883d6d6\" xlink:type=\"simple\"><rect fill=\"#FEFECE\" filter=\"url(#f168b532cpthwi)\" height=\"40\" id=\"E4\" style=\"stroke: #A80036; stroke-width: 1.5;\" width=\"40\" x=\"191\" y=\"263\"/><ellipse cx=\"206\" cy=\"279\" fill=\"#008000\" rx=\"11\" ry=\"11\" style=\"stroke: #A80036; stroke-width: 1.0;\"/><path d=\"M204.9063,279.375 L204.9063,283.0469 L206.5313,283.0469 Q207.7031,283.0469 208.1719,282.6563 Q208.6406,282.25 208.6406,281.25 Q208.6406,280.25 208.1406,279.8125 Q207.6563,279.375 206.5313,279.375 L204.9063,279.375 Z M204.9063,274.5469 L204.9063,277.4219 L206.5313,277.4219 Q207.4531,277.4219 207.8438,277.0938 Q208.25,276.75 208.25,276 Q208.25,275.2344 207.8438,274.8906 Q207.4375,274.5469 206.5313,274.5469 L204.9063,274.5469 Z M202.5313,272.5938 L206.5313,272.5938 Q208.5938,272.5938 209.6406,273.375 Q210.6875,274.1563 210.6875,275.7188 Q210.6875,276.9219 210.0625,277.5938 Q209.4531,278.2656 208.2656,278.375 Q209.6875,278.5156 210.4063,279.3281 Q211.125,280.1406 211.125,281.5938 Q211.125,283.3906 210.0469,284.2031 Q208.9688,285 206.5313,285 L202.5313,285 L202.5313,272.5938 Z \"/><text fill=\"#000000\" font-family=\"sans-serif\" font-size=\"12\" lengthAdjust=\"spacingAndGlyphs\" textLength=\"8\" x=\"220\" y=\"283.1543\">R</text><line style=\"stroke: #A80036; stroke-width: 1.5;\" x1=\"192\" x2=\"230\" y1=\"295\" y2=\"295\"/></a><!--MD5=[270fce915f116d4de14055a7c1d9a0f3]\n",
       "class E5--><a href=\"psysml:2fa1d21f-0378-4832-ab0e-3c490c491fc9\" target=\"_top\" title=\"psysml:2fa1d21f-0378-4832-ab0e-3c490c491fc9\" xlink:actuate=\"onRequest\" xlink:href=\"psysml:2fa1d21f-0378-4832-ab0e-3c490c491fc9\" xlink:show=\"new\" xlink:title=\"psysml:2fa1d21f-0378-4832-ab0e-3c490c491fc9\" xlink:type=\"simple\"><rect fill=\"#FEFECE\" filter=\"url(#f168b532cpthwi)\" height=\"40\" id=\"E5\" style=\"stroke: #A80036; stroke-width: 1.5;\" width=\"40\" x=\"232\" y=\"47.5\"/><ellipse cx=\"247\" cy=\"63.5\" fill=\"#008000\" rx=\"11\" ry=\"11\" style=\"stroke: #A80036; stroke-width: 1.0;\"/><path d=\"M245.9063,63.875 L245.9063,67.5469 L247.5313,67.5469 Q248.7031,67.5469 249.1719,67.1563 Q249.6406,66.75 249.6406,65.75 Q249.6406,64.75 249.1406,64.3125 Q248.6563,63.875 247.5313,63.875 L245.9063,63.875 Z M245.9063,59.0469 L245.9063,61.9219 L247.5313,61.9219 Q248.4531,61.9219 248.8438,61.5938 Q249.25,61.25 249.25,60.5 Q249.25,59.7344 248.8438,59.3906 Q248.4375,59.0469 247.5313,59.0469 L245.9063,59.0469 Z M243.5313,57.0938 L247.5313,57.0938 Q249.5938,57.0938 250.6406,57.875 Q251.6875,58.6563 251.6875,60.2188 Q251.6875,61.4219 251.0625,62.0938 Q250.4531,62.7656 249.2656,62.875 Q250.6875,63.0156 251.4063,63.8281 Q252.125,64.6406 252.125,66.0938 Q252.125,67.8906 251.0469,68.7031 Q249.9688,69.5 247.5313,69.5 L243.5313,69.5 L243.5313,57.0938 Z \"/><text fill=\"#000000\" font-family=\"sans-serif\" font-size=\"12\" lengthAdjust=\"spacingAndGlyphs\" textLength=\"8\" x=\"261\" y=\"67.6543\">V</text><line style=\"stroke: #A80036; stroke-width: 1.5;\" x1=\"233\" x2=\"271\" y1=\"79.5\" y2=\"79.5\"/></a><!--MD5=[60a26617385b1d2d0262a64233df1f8d]\n",
       "class E6--><a href=\"psysml:b39da276-6b98-4aad-85bf-f9ecfc55683d\" target=\"_top\" title=\"psysml:b39da276-6b98-4aad-85bf-f9ecfc55683d\" xlink:actuate=\"onRequest\" xlink:href=\"psysml:b39da276-6b98-4aad-85bf-f9ecfc55683d\" xlink:show=\"new\" xlink:title=\"psysml:b39da276-6b98-4aad-85bf-f9ecfc55683d\" xlink:type=\"simple\"><rect fill=\"#FEFECE\" filter=\"url(#f168b532cpthwi)\" height=\"45.9375\" id=\"E6\" rx=\"10\" ry=\"10\" style=\"stroke: #A80036; stroke-width: 1.5;\" width=\"100\" x=\"32\" y=\"154\"/><ellipse cx=\"47\" cy=\"172.9688\" fill=\"#FFA500\" rx=\"11\" ry=\"11\" style=\"stroke: #A80036; stroke-width: 1.0;\"/><path d=\"M42.875,174.8906 L42.875,167.0781 L45.3281,167.0781 L45.3281,175.5156 Q45.3281,176.4375 45.7969,176.9688 Q46.2813,177.5 47.1094,177.5 Q47.9531,177.5 48.4219,176.9688 Q48.8906,176.4375 48.8906,175.5156 L48.8906,167.0781 L51.3438,167.0781 L51.3438,174.8906 Q51.3438,177.4219 50.3438,178.5625 Q49.3438,179.7031 47.1094,179.7031 Q44.8906,179.7031 43.875,178.5625 Q42.875,177.4219 42.875,174.8906 Z \"/><text fill=\"#000000\" font-family=\"sans-serif\" font-size=\"12\" font-style=\"italic\" lengthAdjust=\"spacingAndGlyphs\" textLength=\"72\" x=\"59\" y=\"170.1387\">«viewpoint»</text><text fill=\"#000000\" font-family=\"sans-serif\" font-size=\"12\" lengthAdjust=\"spacingAndGlyphs\" textLength=\"38\" x=\"76\" y=\"184.1074\">vp: VP</text><line style=\"stroke: #A80036; stroke-width: 1.5;\" x1=\"33\" x2=\"131\" y1=\"191.9375\" y2=\"191.9375\"/></a><!--MD5=[2156ba9850f5573cc1fc38a6a4b2f02b]\n",
       "class E7--><a href=\"psysml:5db0ac38-23f9-426f-a666-7fa33ad35708\" target=\"_top\" title=\"psysml:5db0ac38-23f9-426f-a666-7fa33ad35708\" xlink:actuate=\"onRequest\" xlink:href=\"psysml:5db0ac38-23f9-426f-a666-7fa33ad35708\" xlink:show=\"new\" xlink:title=\"psysml:5db0ac38-23f9-426f-a666-7fa33ad35708\" xlink:type=\"simple\"><rect fill=\"#FEFECE\" filter=\"url(#f168b532cpthwi)\" height=\"45.9375\" id=\"E7\" rx=\"10\" ry=\"10\" style=\"stroke: #A80036; stroke-width: 1.5;\" width=\"68\" x=\"167\" y=\"154\"/><ellipse cx=\"182\" cy=\"172.9688\" fill=\"#32CD32\" rx=\"11\" ry=\"11\" style=\"stroke: #A80036; stroke-width: 1.0;\"/><path d=\"M181.7969,168.6406 L181.7969,172.2656 L182.7969,172.2656 Q184,172.2656 184.4844,171.8594 Q184.9688,171.4531 184.9688,170.4531 Q184.9688,169.4531 184.4844,169.0469 Q184,168.6406 182.7969,168.6406 L181.7969,168.6406 Z M179.3438,166.5781 L182.7031,166.5781 Q185.2656,166.5781 186.3906,167.5 Q187.5156,168.4063 187.5156,170.4531 Q187.5156,172.5 186.3906,173.4219 Q185.2656,174.3281 182.7031,174.3281 L181.7969,174.3281 L181.7969,178.9688 L179.3438,178.9688 L179.3438,166.5781 Z \"/><text fill=\"#000000\" font-family=\"sans-serif\" font-size=\"12\" font-style=\"italic\" lengthAdjust=\"spacingAndGlyphs\" textLength=\"40\" x=\"194\" y=\"170.1387\">«part»</text><text fill=\"#000000\" font-family=\"sans-serif\" font-size=\"12\" lengthAdjust=\"spacingAndGlyphs\" textLength=\"21\" x=\"203.5\" y=\"184.1074\">r: R</text><line style=\"stroke: #A80036; stroke-width: 1.5;\" x1=\"168\" x2=\"234\" y1=\"191.9375\" y2=\"191.9375\"/></a><!--MD5=[b9389687b975829384b498ac4b7476b2]\n",
       "class E8--><a href=\"psysml:96dfc0dc-2946-48da-b50d-9c346f08b52f\" target=\"_top\" title=\"psysml:96dfc0dc-2946-48da-b50d-9c346f08b52f\" xlink:actuate=\"onRequest\" xlink:href=\"psysml:96dfc0dc-2946-48da-b50d-9c346f08b52f\" xlink:show=\"new\" xlink:title=\"psysml:96dfc0dc-2946-48da-b50d-9c346f08b52f\" xlink:type=\"simple\"><rect fill=\"#FEFECE\" filter=\"url(#f168b532cpthwi)\" height=\"45.9375\" id=\"E8\" rx=\"10\" ry=\"10\" style=\"stroke: #A80036; stroke-width: 1.5;\" width=\"68\" x=\"270\" y=\"154\"/><ellipse cx=\"285\" cy=\"172.9688\" fill=\"#32CD32\" rx=\"11\" ry=\"11\" style=\"stroke: #A80036; stroke-width: 1.0;\"/><path d=\"M284.7969,168.6406 L284.7969,172.2656 L285.7969,172.2656 Q287,172.2656 287.4844,171.8594 Q287.9688,171.4531 287.9688,170.4531 Q287.9688,169.4531 287.4844,169.0469 Q287,168.6406 285.7969,168.6406 L284.7969,168.6406 Z M282.3438,166.5781 L285.7031,166.5781 Q288.2656,166.5781 289.3906,167.5 Q290.5156,168.4063 290.5156,170.4531 Q290.5156,172.5 289.3906,173.4219 Q288.2656,174.3281 285.7031,174.3281 L284.7969,174.3281 L284.7969,178.9688 L282.3438,178.9688 L282.3438,166.5781 Z \"/><text fill=\"#000000\" font-family=\"sans-serif\" font-size=\"12\" font-style=\"italic\" lengthAdjust=\"spacingAndGlyphs\" textLength=\"40\" x=\"297\" y=\"170.1387\">«part»</text><text fill=\"#000000\" font-family=\"sans-serif\" font-size=\"12\" lengthAdjust=\"spacingAndGlyphs\" textLength=\"22\" x=\"306\" y=\"184.1074\">v: V</text><line style=\"stroke: #A80036; stroke-width: 1.5;\" x1=\"271\" x2=\"337\" y1=\"191.9375\" y2=\"191.9375\"/></a><!--MD5=[fd4143e9d270a159db93a4ea2a975926]\n",
       "class E9--><a href=\"psysml:fc5eb428-4a03-41d1-992b-aff2a13d3fb9\" target=\"_top\" title=\"psysml:fc5eb428-4a03-41d1-992b-aff2a13d3fb9\" xlink:actuate=\"onRequest\" xlink:href=\"psysml:fc5eb428-4a03-41d1-992b-aff2a13d3fb9\" xlink:show=\"new\" xlink:title=\"psysml:fc5eb428-4a03-41d1-992b-aff2a13d3fb9\" xlink:type=\"simple\"><rect fill=\"#FEFECE\" filter=\"url(#f168b532cpthwi)\" height=\"45.9375\" id=\"E9\" rx=\"10\" ry=\"10\" style=\"stroke: #A80036; stroke-width: 1.5;\" width=\"68\" x=\"270\" y=\"260\"/><ellipse cx=\"285\" cy=\"278.9688\" fill=\"#32CD32\" rx=\"11\" ry=\"11\" style=\"stroke: #A80036; stroke-width: 1.0;\"/><path d=\"M284.7969,274.6406 L284.7969,278.2656 L285.7969,278.2656 Q287,278.2656 287.4844,277.8594 Q287.9688,277.4531 287.9688,276.4531 Q287.9688,275.4531 287.4844,275.0469 Q287,274.6406 285.7969,274.6406 L284.7969,274.6406 Z M282.3438,272.5781 L285.7031,272.5781 Q288.2656,272.5781 289.3906,273.5 Q290.5156,274.4063 290.5156,276.4531 Q290.5156,278.5 289.3906,279.4219 Q288.2656,280.3281 285.7031,280.3281 L284.7969,280.3281 L284.7969,284.9688 L282.3438,284.9688 L282.3438,272.5781 Z \"/><text fill=\"#000000\" font-family=\"sans-serif\" font-size=\"12\" font-style=\"italic\" lengthAdjust=\"spacingAndGlyphs\" textLength=\"40\" x=\"297\" y=\"276.1387\">«part»</text><text fill=\"#000000\" font-family=\"sans-serif\" font-size=\"12\" lengthAdjust=\"spacingAndGlyphs\" textLength=\"13\" x=\"310.5\" y=\"290.1074\">r1</text><line style=\"stroke: #A80036; stroke-width: 1.5;\" x1=\"271\" x2=\"337\" y1=\"297.9375\" y2=\"297.9375\"/></a><a href=\"psysml:6d9f5c34-02db-4c22-b8ae-ed1a072d5ac7\" target=\"_top\" title=\"psysml:6d9f5c34-02db-4c22-b8ae-ed1a072d5ac7\" xlink:actuate=\"onRequest\" xlink:href=\"psysml:6d9f5c34-02db-4c22-b8ae-ed1a072d5ac7\" xlink:show=\"new\" xlink:title=\"psysml:6d9f5c34-02db-4c22-b8ae-ed1a072d5ac7\" xlink:type=\"simple\"><polygon fill=\"#FFFFFF\" filter=\"url(#f168b532cpthwi)\" points=\"125,41,141,41,148,63.2969,155,63.2969,155,93.5938,125,93.5938,125,41\" style=\"stroke: #000000; stroke-width: 1.5;\"/><line style=\"stroke: #000000; stroke-width: 1.5;\" x1=\"125\" x2=\"148\" y1=\"63.2969\" y2=\"63.2969\"/><text fill=\"#000000\" font-family=\"sans-serif\" font-size=\"14\" font-weight=\"bold\" lengthAdjust=\"spacingAndGlyphs\" textLength=\"10\" x=\"129\" y=\"55.9951\">P</text></a><!--MD5=[85d356282659285ab4b2cfe2f634dd2b]\n",
       "reverse link E5 to E6--><a href=\"psysml:b39da276-6b98-4aad-85bf-f9ecfc55683d\" target=\"_top\" title=\"psysml:b39da276-6b98-4aad-85bf-f9ecfc55683d\" xlink:actuate=\"onRequest\" xlink:href=\"psysml:b39da276-6b98-4aad-85bf-f9ecfc55683d\" xlink:show=\"new\" xlink:title=\"psysml:b39da276-6b98-4aad-85bf-f9ecfc55683d\" xlink:type=\"simple\"><path d=\"M220.58,88.37 C191.18,106.96 147.35,134.67 116.89,153.94 \" fill=\"none\" id=\"E5&lt;-E6\" style=\"stroke: #A80036; stroke-width: 1.0;\"/><polygon fill=\"#A80036\" points=\"231.83,81.25,224.6209,81.0808,221.692,87.6703,228.9011,87.8395,231.83,81.25\" style=\"stroke: #A80036; stroke-width: 1.0;\"/></a><!--MD5=[a717450b82c80b9240a525fa862496af]\n",
       "link E6 to E3--><a href=\"psysml:7b3d769f-4c56-4413-aa9f-0104e9507d6b\" target=\"_top\" title=\"psysml:7b3d769f-4c56-4413-aa9f-0104e9507d6b\" xlink:actuate=\"onRequest\" xlink:href=\"psysml:7b3d769f-4c56-4413-aa9f-0104e9507d6b\" xlink:show=\"new\" xlink:title=\"psysml:7b3d769f-4c56-4413-aa9f-0104e9507d6b\" xlink:type=\"simple\"><path d=\"M84.54,200.06 C85.88,211.64 87.56,226.23 89.14,239.87 \" fill=\"none\" id=\"E6-&gt;E3\" style=\"stroke: #A80036; stroke-width: 1.0;\"/><polygon fill=\"#FFFFFF\" points=\"91.46,259.98,82.3347,241.9044,96.243,240.3046,91.46,259.98\" style=\"stroke: #A80036; stroke-width: 1.0;\"/><ellipse cx=\"83.6702\" cy=\"236.0132\" fill=\"#A80036\" rx=\"2\" ry=\"2\" style=\"stroke: #A80036; stroke-width: 1.0;\"/><ellipse cx=\"93.6047\" cy=\"234.8704\" fill=\"#A80036\" rx=\"2\" ry=\"2\" style=\"stroke: #A80036; stroke-width: 1.0;\"/></a><!--MD5=[6bdd27f9905911a7e892a3dc65cf6b7c]\n",
       "link E7 to E4--><a href=\"psysml:f768404d-501b-4614-8ab9-e2515f32fafd\" target=\"_top\" title=\"psysml:f768404d-501b-4614-8ab9-e2515f32fafd\" xlink:actuate=\"onRequest\" xlink:href=\"psysml:f768404d-501b-4614-8ab9-e2515f32fafd\" xlink:show=\"new\" xlink:title=\"psysml:f768404d-501b-4614-8ab9-e2515f32fafd\" xlink:type=\"simple\"><path d=\"M203.12,200.06 C204.32,212.48 205.84,228.37 207.23,242.84 \" fill=\"none\" id=\"E7-&gt;E4\" style=\"stroke: #A80036; stroke-width: 1.0;\"/><polygon fill=\"#FFFFFF\" points=\"209.15,262.77,200.3629,244.5276,214.2985,243.187,209.15,262.77\" style=\"stroke: #A80036; stroke-width: 1.0;\"/><ellipse cx=\"201.8079\" cy=\"238.6623\" fill=\"#A80036\" rx=\"2\" ry=\"2\" style=\"stroke: #A80036; stroke-width: 1.0;\"/><ellipse cx=\"211.7619\" cy=\"237.7047\" fill=\"#A80036\" rx=\"2\" ry=\"2\" style=\"stroke: #A80036; stroke-width: 1.0;\"/></a><!--MD5=[452b418e7f8a40397a49b8c0a78acc5b]\n",
       "reverse link E5 to E7--><a href=\"psysml:5db0ac38-23f9-426f-a666-7fa33ad35708\" target=\"_top\" title=\"psysml:5db0ac38-23f9-426f-a666-7fa33ad35708\" xlink:actuate=\"onRequest\" xlink:href=\"psysml:5db0ac38-23f9-426f-a666-7fa33ad35708\" xlink:show=\"new\" xlink:title=\"psysml:5db0ac38-23f9-426f-a666-7fa33ad35708\" xlink:type=\"simple\"><path d=\"M237.26,99.58 C228.99,116.99 218.89,138.3 211.45,153.98 \" fill=\"none\" id=\"E5&lt;-E7\" style=\"stroke: #A80036; stroke-width: 1.0;\"/><polygon fill=\"#A80036\" points=\"242.88,87.72,236.6942,91.4262,237.7362,98.5616,243.922,94.8554,242.88,87.72\" style=\"stroke: #A80036; stroke-width: 1.0;\"/><text fill=\"#000000\" font-family=\"sans-serif\" font-size=\"13\" lengthAdjust=\"spacingAndGlyphs\" textLength=\"24\" x=\"187.0334\" y=\"142.8709\">0..1</text></a><!--MD5=[1ccb2481ffa92f8d51a74ee30c51832a]\n",
       "link E8 to E5--><a href=\"psysml:2ecacd66-b174-4fa5-a1f0-5f98a8e6e629\" target=\"_top\" title=\"psysml:2ecacd66-b174-4fa5-a1f0-5f98a8e6e629\" xlink:actuate=\"onRequest\" xlink:href=\"psysml:2ecacd66-b174-4fa5-a1f0-5f98a8e6e629\" xlink:show=\"new\" xlink:title=\"psysml:2ecacd66-b174-4fa5-a1f0-5f98a8e6e629\" xlink:type=\"simple\"><path d=\"M304.49,153.98 C300.07,139.89 291.63,121.28 282.53,105.01 \" fill=\"none\" id=\"E8-&gt;E5\" style=\"stroke: #A80036; stroke-width: 1.0;\"/><polygon fill=\"#FFFFFF\" points=\"271.93,87.72,287.8284,100.2596,275.8928,107.5769,271.93,87.72\" style=\"stroke: #A80036; stroke-width: 1.0;\"/><ellipse cx=\"289.1025\" cy=\"106.1644\" fill=\"#A80036\" rx=\"2\" ry=\"2\" style=\"stroke: #A80036; stroke-width: 1.0;\"/><ellipse cx=\"280.5771\" cy=\"111.391\" fill=\"#A80036\" rx=\"2\" ry=\"2\" style=\"stroke: #A80036; stroke-width: 1.0;\"/></a><!--MD5=[827760032d119d06bbc92f75530fd7ae]\n",
       "reverse link E5 to E8--><a href=\"psysml:96dfc0dc-2946-48da-b50d-9c346f08b52f\" target=\"_top\" title=\"psysml:96dfc0dc-2946-48da-b50d-9c346f08b52f\" xlink:actuate=\"onRequest\" xlink:href=\"psysml:96dfc0dc-2946-48da-b50d-9c346f08b52f\" xlink:show=\"new\" xlink:title=\"psysml:96dfc0dc-2946-48da-b50d-9c346f08b52f\" xlink:type=\"simple\"><path d=\"M255.55,100.09 C262.24,117.41 272.82,138.45 282.83,153.98 \" fill=\"none\" id=\"E5&lt;-E8\" style=\"stroke: #A80036; stroke-width: 1.0;\"/><polygon fill=\"#A80036\" points=\"251.26,87.72,249.4475,94.6996,255.193,99.0572,257.0056,92.0776,251.26,87.72\" style=\"stroke: #A80036; stroke-width: 1.0;\"/><text fill=\"#000000\" font-family=\"sans-serif\" font-size=\"13\" lengthAdjust=\"spacingAndGlyphs\" textLength=\"7\" x=\"269.1999\" y=\"142.8709\">*</text></a><!--MD5=[22f5b4bae7e060dce8a1c8021efdb95b]\n",
       "reverse link E8 to E9--><a href=\"psysml:fc5eb428-4a03-41d1-992b-aff2a13d3fb9\" target=\"_top\" title=\"psysml:fc5eb428-4a03-41d1-992b-aff2a13d3fb9\" xlink:actuate=\"onRequest\" xlink:href=\"psysml:fc5eb428-4a03-41d1-992b-aff2a13d3fb9\" xlink:show=\"new\" xlink:title=\"psysml:fc5eb428-4a03-41d1-992b-aff2a13d3fb9\" xlink:type=\"simple\"><path d=\"M304,213.44 C304,228.87 304,246.47 304,259.98 \" fill=\"none\" id=\"E8&lt;-E9\" style=\"stroke: #A80036; stroke-width: 1.0;\"/><polygon fill=\"#A80036\" points=\"304,200.06,300,206.06,304,212.06,308,206.06,304,200.06\" style=\"stroke: #A80036; stroke-width: 1.0;\"/></a><!--MD5=[e8e32db2720d79fb64bde81f7515cc55]\n",
       "@startuml\r\n",
       " \r\n",
       "package \"ViewTest\" as E1  [[psysml:fb02ed11-6398-4cea-b135-53d0cca9c478 ]]  {\r\n",
       "package \"P\" as E2  [[psysml:6d9f5c34-02db-4c22-b8ae-ed1a072d5ac7 ]]  {\r\n",
       "}\r\n",
       "comp def \"VP\" as E3  <<(D,brown)viewpoint def>> [[psysml:436e526f-0cc5-474d-8f19-4580d940df20 ]] {\r\n",
       "}\r\n",
       "comp def \"R\" as E4  << (B,green) >> [[psysml:053dc08e-a8e7-4770-acc6-30068883d6d6 ]] {\r\n",
       "}\r\n",
       "comp def \"V\" as E5  << (B,green) >> [[psysml:2fa1d21f-0378-4832-ab0e-3c490c491fc9 ]] {\r\n",
       "}\r\n",
       "comp usage \"vp: VP\" as E6  <<(U,orange)viewpoint>> [[psysml:b39da276-6b98-4aad-85bf-f9ecfc55683d ]] {\r\n",
       "}\r\n",
       "comp usage \"r: R\" as E7  << (P,limegreen) part>> [[psysml:5db0ac38-23f9-426f-a666-7fa33ad35708 ]] {\r\n",
       "}\r\n",
       "comp usage \"v: V\" as E8  << (P,limegreen) part>> [[psysml:96dfc0dc-2946-48da-b50d-9c346f08b52f ]] {\r\n",
       "}\r\n",
       "comp usage \"r1\" as E9  << (P,limegreen) part>> [[psysml:fc5eb428-4a03-41d1-992b-aff2a13d3fb9 ]] {\r\n",
       "}\r\n",
       "E5 *- - E6 [[psysml:b39da276-6b98-4aad-85bf-f9ecfc55683d ]] \r\n",
       "E6 - -:|> E3 [[psysml:7b3d769f-4c56-4413-aa9f-0104e9507d6b ]] \r\n",
       "E7 - -:|> E4 [[psysml:f768404d-501b-4614-8ab9-e2515f32fafd ]] \r\n",
       "E5 *- - \"0..1\"E7 [[psysml:5db0ac38-23f9-426f-a666-7fa33ad35708 ]] \r\n",
       "E8 - -:|> E5 [[psysml:2ecacd66-b174-4fa5-a1f0-5f98a8e6e629 ]] \r\n",
       "E5 *- - \"*\"E8 [[psysml:96dfc0dc-2946-48da-b50d-9c346f08b52f ]] \r\n",
       "E8 *- - E9 [[psysml:fc5eb428-4a03-41d1-992b-aff2a13d3fb9 ]] \r\n",
       "}\r\n",
       "@enduml\r\n",
       "\n",
       "PlantUML version 1.2020.13(Sat Jun 13 12:26:38 UTC 2020)\n",
       "(EPL source distribution)\n",
       "Java Runtime: OpenJDK Runtime Environment\n",
       "JVM: OpenJDK 64-Bit Server VM\n",
       "Default Encoding: UTF-8\n",
       "Language: en\n",
       "Country: null\n",
       "--></g></svg>"
      ]
     },
     "execution_count": 35,
     "metadata": {},
     "output_type": "execute_result"
    }
   ],
   "source": [
    "%viz --style=\"PLANTUML\" --view=\"Sequence\" \"ViewTest\""
   ]
  },
  {
   "cell_type": "code",
   "execution_count": 36,
   "id": "subjective-sixth",
   "metadata": {
    "execution": {
     "iopub.execute_input": "2021-03-24T16:32:13.612505Z",
     "iopub.status.busy": "2021-03-24T16:32:13.611930Z",
     "iopub.status.idle": "2021-03-24T16:32:13.673655Z",
     "shell.execute_reply": "2021-03-24T16:32:13.671591Z"
    }
   },
   "outputs": [
    {
     "data": {
      "image/svg+xml": [
       "<?xml version=\"1.0\" encoding=\"UTF-8\" standalone=\"no\"?><svg xmlns=\"http://www.w3.org/2000/svg\" xmlns:xlink=\"http://www.w3.org/1999/xlink\" contentScriptType=\"application/ecmascript\" contentStyleType=\"text/css\" height=\"334px\" preserveAspectRatio=\"none\" style=\"width:376px;height:334px;\" version=\"1.1\" viewBox=\"0 0 376 334\" width=\"376px\" zoomAndPan=\"magnify\"><defs><filter height=\"300%\" id=\"f168b532cpthwi\" width=\"300%\" x=\"-1\" y=\"-1\"><feGaussianBlur result=\"blurOut\" stdDeviation=\"2.0\"/><feColorMatrix in=\"blurOut\" result=\"blurOut2\" type=\"matrix\" values=\"0 0 0 0 0 0 0 0 0 0 0 0 0 0 0 0 0 0 .4 0\"/><feOffset dx=\"4.0\" dy=\"4.0\" in=\"blurOut2\" result=\"blurOut3\"/><feBlend in=\"SourceGraphic\" in2=\"blurOut3\" mode=\"normal\"/></filter></defs><g><!--MD5=[fbc87193dbaf4d95561dea2c320d4a47]\n",
       "cluster E1--><a href=\"psysml:fb02ed11-6398-4cea-b135-53d0cca9c478\" target=\"_top\" title=\"psysml:fb02ed11-6398-4cea-b135-53d0cca9c478\" xlink:actuate=\"onRequest\" xlink:href=\"psysml:fb02ed11-6398-4cea-b135-53d0cca9c478\" xlink:show=\"new\" xlink:title=\"psysml:fb02ed11-6398-4cea-b135-53d0cca9c478\" xlink:type=\"simple\"><polygon fill=\"#FFFFFF\" filter=\"url(#f168b532cpthwi)\" points=\"16,6,96,6,103,28.2969,354,28.2969,354,322,16,322,16,6\" style=\"stroke: #000000; stroke-width: 1.5;\"/><line style=\"stroke: #000000; stroke-width: 1.5;\" x1=\"16\" x2=\"103\" y1=\"28.2969\" y2=\"28.2969\"/><text fill=\"#000000\" font-family=\"sans-serif\" font-size=\"14\" font-weight=\"bold\" lengthAdjust=\"spacingAndGlyphs\" textLength=\"74\" x=\"20\" y=\"20.9951\">ViewTest</text></a><!--MD5=[09b614a08d8cba4a07c9adeb5e0fee81]\n",
       "class E3--><a href=\"psysml:436e526f-0cc5-474d-8f19-4580d940df20\" target=\"_top\" title=\"psysml:436e526f-0cc5-474d-8f19-4580d940df20\" xlink:actuate=\"onRequest\" xlink:href=\"psysml:436e526f-0cc5-474d-8f19-4580d940df20\" xlink:show=\"new\" xlink:title=\"psysml:436e526f-0cc5-474d-8f19-4580d940df20\" xlink:type=\"simple\"><rect fill=\"#FEFECE\" filter=\"url(#f168b532cpthwi)\" height=\"45.9375\" id=\"E3\" style=\"stroke: #A80036; stroke-width: 1.5;\" width=\"124\" x=\"32\" y=\"260\"/><ellipse cx=\"47\" cy=\"278.9688\" fill=\"#A52A2A\" rx=\"11\" ry=\"11\" style=\"stroke: #A80036; stroke-width: 1.0;\"/><path d=\"M46.5938,274.7813 L46.5938,282.7656 L47.25,282.7656 Q48.6875,282.7656 49.2969,281.8594 Q49.9219,280.9375 49.9219,278.7656 Q49.9219,276.5938 49.2969,275.6875 Q48.6875,274.7813 47.25,274.7813 L46.5938,274.7813 Z M44.1406,272.5781 L46.7656,272.5781 Q49.7969,272.5781 51.125,274.0313 Q52.4688,275.4688 52.4688,278.7656 Q52.4688,282.0625 51.125,283.5156 Q49.7969,284.9688 46.7656,284.9688 L44.1406,284.9688 L44.1406,272.5781 Z \"/><text fill=\"#000000\" font-family=\"sans-serif\" font-size=\"12\" font-style=\"italic\" lengthAdjust=\"spacingAndGlyphs\" textLength=\"96\" x=\"59\" y=\"276.1387\">«viewpoint def»</text><text fill=\"#000000\" font-family=\"sans-serif\" font-size=\"12\" lengthAdjust=\"spacingAndGlyphs\" textLength=\"16\" x=\"99\" y=\"290.1074\">VP</text><line style=\"stroke: #A80036; stroke-width: 1.5;\" x1=\"33\" x2=\"155\" y1=\"297.9375\" y2=\"297.9375\"/></a><!--MD5=[ebbe1d658d1005bcc118a6aa81145e00]\n",
       "class E4--><a href=\"psysml:053dc08e-a8e7-4770-acc6-30068883d6d6\" target=\"_top\" title=\"psysml:053dc08e-a8e7-4770-acc6-30068883d6d6\" xlink:actuate=\"onRequest\" xlink:href=\"psysml:053dc08e-a8e7-4770-acc6-30068883d6d6\" xlink:show=\"new\" xlink:title=\"psysml:053dc08e-a8e7-4770-acc6-30068883d6d6\" xlink:type=\"simple\"><rect fill=\"#FEFECE\" filter=\"url(#f168b532cpthwi)\" height=\"40\" id=\"E4\" style=\"stroke: #A80036; stroke-width: 1.5;\" width=\"40\" x=\"191\" y=\"263\"/><ellipse cx=\"206\" cy=\"279\" fill=\"#008000\" rx=\"11\" ry=\"11\" style=\"stroke: #A80036; stroke-width: 1.0;\"/><path d=\"M204.9063,279.375 L204.9063,283.0469 L206.5313,283.0469 Q207.7031,283.0469 208.1719,282.6563 Q208.6406,282.25 208.6406,281.25 Q208.6406,280.25 208.1406,279.8125 Q207.6563,279.375 206.5313,279.375 L204.9063,279.375 Z M204.9063,274.5469 L204.9063,277.4219 L206.5313,277.4219 Q207.4531,277.4219 207.8438,277.0938 Q208.25,276.75 208.25,276 Q208.25,275.2344 207.8438,274.8906 Q207.4375,274.5469 206.5313,274.5469 L204.9063,274.5469 Z M202.5313,272.5938 L206.5313,272.5938 Q208.5938,272.5938 209.6406,273.375 Q210.6875,274.1563 210.6875,275.7188 Q210.6875,276.9219 210.0625,277.5938 Q209.4531,278.2656 208.2656,278.375 Q209.6875,278.5156 210.4063,279.3281 Q211.125,280.1406 211.125,281.5938 Q211.125,283.3906 210.0469,284.2031 Q208.9688,285 206.5313,285 L202.5313,285 L202.5313,272.5938 Z \"/><text fill=\"#000000\" font-family=\"sans-serif\" font-size=\"12\" lengthAdjust=\"spacingAndGlyphs\" textLength=\"8\" x=\"220\" y=\"283.1543\">R</text><line style=\"stroke: #A80036; stroke-width: 1.5;\" x1=\"192\" x2=\"230\" y1=\"295\" y2=\"295\"/></a><!--MD5=[270fce915f116d4de14055a7c1d9a0f3]\n",
       "class E5--><a href=\"psysml:2fa1d21f-0378-4832-ab0e-3c490c491fc9\" target=\"_top\" title=\"psysml:2fa1d21f-0378-4832-ab0e-3c490c491fc9\" xlink:actuate=\"onRequest\" xlink:href=\"psysml:2fa1d21f-0378-4832-ab0e-3c490c491fc9\" xlink:show=\"new\" xlink:title=\"psysml:2fa1d21f-0378-4832-ab0e-3c490c491fc9\" xlink:type=\"simple\"><rect fill=\"#FEFECE\" filter=\"url(#f168b532cpthwi)\" height=\"40\" id=\"E5\" style=\"stroke: #A80036; stroke-width: 1.5;\" width=\"40\" x=\"232\" y=\"47.5\"/><ellipse cx=\"247\" cy=\"63.5\" fill=\"#008000\" rx=\"11\" ry=\"11\" style=\"stroke: #A80036; stroke-width: 1.0;\"/><path d=\"M245.9063,63.875 L245.9063,67.5469 L247.5313,67.5469 Q248.7031,67.5469 249.1719,67.1563 Q249.6406,66.75 249.6406,65.75 Q249.6406,64.75 249.1406,64.3125 Q248.6563,63.875 247.5313,63.875 L245.9063,63.875 Z M245.9063,59.0469 L245.9063,61.9219 L247.5313,61.9219 Q248.4531,61.9219 248.8438,61.5938 Q249.25,61.25 249.25,60.5 Q249.25,59.7344 248.8438,59.3906 Q248.4375,59.0469 247.5313,59.0469 L245.9063,59.0469 Z M243.5313,57.0938 L247.5313,57.0938 Q249.5938,57.0938 250.6406,57.875 Q251.6875,58.6563 251.6875,60.2188 Q251.6875,61.4219 251.0625,62.0938 Q250.4531,62.7656 249.2656,62.875 Q250.6875,63.0156 251.4063,63.8281 Q252.125,64.6406 252.125,66.0938 Q252.125,67.8906 251.0469,68.7031 Q249.9688,69.5 247.5313,69.5 L243.5313,69.5 L243.5313,57.0938 Z \"/><text fill=\"#000000\" font-family=\"sans-serif\" font-size=\"12\" lengthAdjust=\"spacingAndGlyphs\" textLength=\"8\" x=\"261\" y=\"67.6543\">V</text><line style=\"stroke: #A80036; stroke-width: 1.5;\" x1=\"233\" x2=\"271\" y1=\"79.5\" y2=\"79.5\"/></a><!--MD5=[60a26617385b1d2d0262a64233df1f8d]\n",
       "class E6--><a href=\"psysml:b39da276-6b98-4aad-85bf-f9ecfc55683d\" target=\"_top\" title=\"psysml:b39da276-6b98-4aad-85bf-f9ecfc55683d\" xlink:actuate=\"onRequest\" xlink:href=\"psysml:b39da276-6b98-4aad-85bf-f9ecfc55683d\" xlink:show=\"new\" xlink:title=\"psysml:b39da276-6b98-4aad-85bf-f9ecfc55683d\" xlink:type=\"simple\"><rect fill=\"#FEFECE\" filter=\"url(#f168b532cpthwi)\" height=\"45.9375\" id=\"E6\" rx=\"10\" ry=\"10\" style=\"stroke: #A80036; stroke-width: 1.5;\" width=\"100\" x=\"32\" y=\"154\"/><ellipse cx=\"47\" cy=\"172.9688\" fill=\"#FFA500\" rx=\"11\" ry=\"11\" style=\"stroke: #A80036; stroke-width: 1.0;\"/><path d=\"M42.875,174.8906 L42.875,167.0781 L45.3281,167.0781 L45.3281,175.5156 Q45.3281,176.4375 45.7969,176.9688 Q46.2813,177.5 47.1094,177.5 Q47.9531,177.5 48.4219,176.9688 Q48.8906,176.4375 48.8906,175.5156 L48.8906,167.0781 L51.3438,167.0781 L51.3438,174.8906 Q51.3438,177.4219 50.3438,178.5625 Q49.3438,179.7031 47.1094,179.7031 Q44.8906,179.7031 43.875,178.5625 Q42.875,177.4219 42.875,174.8906 Z \"/><text fill=\"#000000\" font-family=\"sans-serif\" font-size=\"12\" font-style=\"italic\" lengthAdjust=\"spacingAndGlyphs\" textLength=\"72\" x=\"59\" y=\"170.1387\">«viewpoint»</text><text fill=\"#000000\" font-family=\"sans-serif\" font-size=\"12\" lengthAdjust=\"spacingAndGlyphs\" textLength=\"38\" x=\"76\" y=\"184.1074\">vp: VP</text><line style=\"stroke: #A80036; stroke-width: 1.5;\" x1=\"33\" x2=\"131\" y1=\"191.9375\" y2=\"191.9375\"/></a><!--MD5=[2156ba9850f5573cc1fc38a6a4b2f02b]\n",
       "class E7--><a href=\"psysml:5db0ac38-23f9-426f-a666-7fa33ad35708\" target=\"_top\" title=\"psysml:5db0ac38-23f9-426f-a666-7fa33ad35708\" xlink:actuate=\"onRequest\" xlink:href=\"psysml:5db0ac38-23f9-426f-a666-7fa33ad35708\" xlink:show=\"new\" xlink:title=\"psysml:5db0ac38-23f9-426f-a666-7fa33ad35708\" xlink:type=\"simple\"><rect fill=\"#FEFECE\" filter=\"url(#f168b532cpthwi)\" height=\"45.9375\" id=\"E7\" rx=\"10\" ry=\"10\" style=\"stroke: #A80036; stroke-width: 1.5;\" width=\"68\" x=\"167\" y=\"154\"/><ellipse cx=\"182\" cy=\"172.9688\" fill=\"#32CD32\" rx=\"11\" ry=\"11\" style=\"stroke: #A80036; stroke-width: 1.0;\"/><path d=\"M181.7969,168.6406 L181.7969,172.2656 L182.7969,172.2656 Q184,172.2656 184.4844,171.8594 Q184.9688,171.4531 184.9688,170.4531 Q184.9688,169.4531 184.4844,169.0469 Q184,168.6406 182.7969,168.6406 L181.7969,168.6406 Z M179.3438,166.5781 L182.7031,166.5781 Q185.2656,166.5781 186.3906,167.5 Q187.5156,168.4063 187.5156,170.4531 Q187.5156,172.5 186.3906,173.4219 Q185.2656,174.3281 182.7031,174.3281 L181.7969,174.3281 L181.7969,178.9688 L179.3438,178.9688 L179.3438,166.5781 Z \"/><text fill=\"#000000\" font-family=\"sans-serif\" font-size=\"12\" font-style=\"italic\" lengthAdjust=\"spacingAndGlyphs\" textLength=\"40\" x=\"194\" y=\"170.1387\">«part»</text><text fill=\"#000000\" font-family=\"sans-serif\" font-size=\"12\" lengthAdjust=\"spacingAndGlyphs\" textLength=\"21\" x=\"203.5\" y=\"184.1074\">r: R</text><line style=\"stroke: #A80036; stroke-width: 1.5;\" x1=\"168\" x2=\"234\" y1=\"191.9375\" y2=\"191.9375\"/></a><!--MD5=[b9389687b975829384b498ac4b7476b2]\n",
       "class E8--><a href=\"psysml:96dfc0dc-2946-48da-b50d-9c346f08b52f\" target=\"_top\" title=\"psysml:96dfc0dc-2946-48da-b50d-9c346f08b52f\" xlink:actuate=\"onRequest\" xlink:href=\"psysml:96dfc0dc-2946-48da-b50d-9c346f08b52f\" xlink:show=\"new\" xlink:title=\"psysml:96dfc0dc-2946-48da-b50d-9c346f08b52f\" xlink:type=\"simple\"><rect fill=\"#FEFECE\" filter=\"url(#f168b532cpthwi)\" height=\"45.9375\" id=\"E8\" rx=\"10\" ry=\"10\" style=\"stroke: #A80036; stroke-width: 1.5;\" width=\"68\" x=\"270\" y=\"154\"/><ellipse cx=\"285\" cy=\"172.9688\" fill=\"#32CD32\" rx=\"11\" ry=\"11\" style=\"stroke: #A80036; stroke-width: 1.0;\"/><path d=\"M284.7969,168.6406 L284.7969,172.2656 L285.7969,172.2656 Q287,172.2656 287.4844,171.8594 Q287.9688,171.4531 287.9688,170.4531 Q287.9688,169.4531 287.4844,169.0469 Q287,168.6406 285.7969,168.6406 L284.7969,168.6406 Z M282.3438,166.5781 L285.7031,166.5781 Q288.2656,166.5781 289.3906,167.5 Q290.5156,168.4063 290.5156,170.4531 Q290.5156,172.5 289.3906,173.4219 Q288.2656,174.3281 285.7031,174.3281 L284.7969,174.3281 L284.7969,178.9688 L282.3438,178.9688 L282.3438,166.5781 Z \"/><text fill=\"#000000\" font-family=\"sans-serif\" font-size=\"12\" font-style=\"italic\" lengthAdjust=\"spacingAndGlyphs\" textLength=\"40\" x=\"297\" y=\"170.1387\">«part»</text><text fill=\"#000000\" font-family=\"sans-serif\" font-size=\"12\" lengthAdjust=\"spacingAndGlyphs\" textLength=\"22\" x=\"306\" y=\"184.1074\">v: V</text><line style=\"stroke: #A80036; stroke-width: 1.5;\" x1=\"271\" x2=\"337\" y1=\"191.9375\" y2=\"191.9375\"/></a><!--MD5=[fd4143e9d270a159db93a4ea2a975926]\n",
       "class E9--><a href=\"psysml:fc5eb428-4a03-41d1-992b-aff2a13d3fb9\" target=\"_top\" title=\"psysml:fc5eb428-4a03-41d1-992b-aff2a13d3fb9\" xlink:actuate=\"onRequest\" xlink:href=\"psysml:fc5eb428-4a03-41d1-992b-aff2a13d3fb9\" xlink:show=\"new\" xlink:title=\"psysml:fc5eb428-4a03-41d1-992b-aff2a13d3fb9\" xlink:type=\"simple\"><rect fill=\"#FEFECE\" filter=\"url(#f168b532cpthwi)\" height=\"45.9375\" id=\"E9\" rx=\"10\" ry=\"10\" style=\"stroke: #A80036; stroke-width: 1.5;\" width=\"68\" x=\"270\" y=\"260\"/><ellipse cx=\"285\" cy=\"278.9688\" fill=\"#32CD32\" rx=\"11\" ry=\"11\" style=\"stroke: #A80036; stroke-width: 1.0;\"/><path d=\"M284.7969,274.6406 L284.7969,278.2656 L285.7969,278.2656 Q287,278.2656 287.4844,277.8594 Q287.9688,277.4531 287.9688,276.4531 Q287.9688,275.4531 287.4844,275.0469 Q287,274.6406 285.7969,274.6406 L284.7969,274.6406 Z M282.3438,272.5781 L285.7031,272.5781 Q288.2656,272.5781 289.3906,273.5 Q290.5156,274.4063 290.5156,276.4531 Q290.5156,278.5 289.3906,279.4219 Q288.2656,280.3281 285.7031,280.3281 L284.7969,280.3281 L284.7969,284.9688 L282.3438,284.9688 L282.3438,272.5781 Z \"/><text fill=\"#000000\" font-family=\"sans-serif\" font-size=\"12\" font-style=\"italic\" lengthAdjust=\"spacingAndGlyphs\" textLength=\"40\" x=\"297\" y=\"276.1387\">«part»</text><text fill=\"#000000\" font-family=\"sans-serif\" font-size=\"12\" lengthAdjust=\"spacingAndGlyphs\" textLength=\"13\" x=\"310.5\" y=\"290.1074\">r1</text><line style=\"stroke: #A80036; stroke-width: 1.5;\" x1=\"271\" x2=\"337\" y1=\"297.9375\" y2=\"297.9375\"/></a><a href=\"psysml:6d9f5c34-02db-4c22-b8ae-ed1a072d5ac7\" target=\"_top\" title=\"psysml:6d9f5c34-02db-4c22-b8ae-ed1a072d5ac7\" xlink:actuate=\"onRequest\" xlink:href=\"psysml:6d9f5c34-02db-4c22-b8ae-ed1a072d5ac7\" xlink:show=\"new\" xlink:title=\"psysml:6d9f5c34-02db-4c22-b8ae-ed1a072d5ac7\" xlink:type=\"simple\"><polygon fill=\"#FFFFFF\" filter=\"url(#f168b532cpthwi)\" points=\"125,41,141,41,148,63.2969,155,63.2969,155,93.5938,125,93.5938,125,41\" style=\"stroke: #000000; stroke-width: 1.5;\"/><line style=\"stroke: #000000; stroke-width: 1.5;\" x1=\"125\" x2=\"148\" y1=\"63.2969\" y2=\"63.2969\"/><text fill=\"#000000\" font-family=\"sans-serif\" font-size=\"14\" font-weight=\"bold\" lengthAdjust=\"spacingAndGlyphs\" textLength=\"10\" x=\"129\" y=\"55.9951\">P</text></a><!--MD5=[85d356282659285ab4b2cfe2f634dd2b]\n",
       "reverse link E5 to E6--><a href=\"psysml:b39da276-6b98-4aad-85bf-f9ecfc55683d\" target=\"_top\" title=\"psysml:b39da276-6b98-4aad-85bf-f9ecfc55683d\" xlink:actuate=\"onRequest\" xlink:href=\"psysml:b39da276-6b98-4aad-85bf-f9ecfc55683d\" xlink:show=\"new\" xlink:title=\"psysml:b39da276-6b98-4aad-85bf-f9ecfc55683d\" xlink:type=\"simple\"><path d=\"M220.58,88.37 C191.18,106.96 147.35,134.67 116.89,153.94 \" fill=\"none\" id=\"E5&lt;-E6\" style=\"stroke: #A80036; stroke-width: 1.0;\"/><polygon fill=\"#A80036\" points=\"231.83,81.25,224.6209,81.0808,221.692,87.6703,228.9011,87.8395,231.83,81.25\" style=\"stroke: #A80036; stroke-width: 1.0;\"/></a><!--MD5=[a717450b82c80b9240a525fa862496af]\n",
       "link E6 to E3--><a href=\"psysml:7b3d769f-4c56-4413-aa9f-0104e9507d6b\" target=\"_top\" title=\"psysml:7b3d769f-4c56-4413-aa9f-0104e9507d6b\" xlink:actuate=\"onRequest\" xlink:href=\"psysml:7b3d769f-4c56-4413-aa9f-0104e9507d6b\" xlink:show=\"new\" xlink:title=\"psysml:7b3d769f-4c56-4413-aa9f-0104e9507d6b\" xlink:type=\"simple\"><path d=\"M84.54,200.06 C85.88,211.64 87.56,226.23 89.14,239.87 \" fill=\"none\" id=\"E6-&gt;E3\" style=\"stroke: #A80036; stroke-width: 1.0;\"/><polygon fill=\"#FFFFFF\" points=\"91.46,259.98,82.3347,241.9044,96.243,240.3046,91.46,259.98\" style=\"stroke: #A80036; stroke-width: 1.0;\"/><ellipse cx=\"83.6702\" cy=\"236.0132\" fill=\"#A80036\" rx=\"2\" ry=\"2\" style=\"stroke: #A80036; stroke-width: 1.0;\"/><ellipse cx=\"93.6047\" cy=\"234.8704\" fill=\"#A80036\" rx=\"2\" ry=\"2\" style=\"stroke: #A80036; stroke-width: 1.0;\"/></a><!--MD5=[6bdd27f9905911a7e892a3dc65cf6b7c]\n",
       "link E7 to E4--><a href=\"psysml:f768404d-501b-4614-8ab9-e2515f32fafd\" target=\"_top\" title=\"psysml:f768404d-501b-4614-8ab9-e2515f32fafd\" xlink:actuate=\"onRequest\" xlink:href=\"psysml:f768404d-501b-4614-8ab9-e2515f32fafd\" xlink:show=\"new\" xlink:title=\"psysml:f768404d-501b-4614-8ab9-e2515f32fafd\" xlink:type=\"simple\"><path d=\"M203.12,200.06 C204.32,212.48 205.84,228.37 207.23,242.84 \" fill=\"none\" id=\"E7-&gt;E4\" style=\"stroke: #A80036; stroke-width: 1.0;\"/><polygon fill=\"#FFFFFF\" points=\"209.15,262.77,200.3629,244.5276,214.2985,243.187,209.15,262.77\" style=\"stroke: #A80036; stroke-width: 1.0;\"/><ellipse cx=\"201.8079\" cy=\"238.6623\" fill=\"#A80036\" rx=\"2\" ry=\"2\" style=\"stroke: #A80036; stroke-width: 1.0;\"/><ellipse cx=\"211.7619\" cy=\"237.7047\" fill=\"#A80036\" rx=\"2\" ry=\"2\" style=\"stroke: #A80036; stroke-width: 1.0;\"/></a><!--MD5=[452b418e7f8a40397a49b8c0a78acc5b]\n",
       "reverse link E5 to E7--><a href=\"psysml:5db0ac38-23f9-426f-a666-7fa33ad35708\" target=\"_top\" title=\"psysml:5db0ac38-23f9-426f-a666-7fa33ad35708\" xlink:actuate=\"onRequest\" xlink:href=\"psysml:5db0ac38-23f9-426f-a666-7fa33ad35708\" xlink:show=\"new\" xlink:title=\"psysml:5db0ac38-23f9-426f-a666-7fa33ad35708\" xlink:type=\"simple\"><path d=\"M237.26,99.58 C228.99,116.99 218.89,138.3 211.45,153.98 \" fill=\"none\" id=\"E5&lt;-E7\" style=\"stroke: #A80036; stroke-width: 1.0;\"/><polygon fill=\"#A80036\" points=\"242.88,87.72,236.6942,91.4262,237.7362,98.5616,243.922,94.8554,242.88,87.72\" style=\"stroke: #A80036; stroke-width: 1.0;\"/><text fill=\"#000000\" font-family=\"sans-serif\" font-size=\"13\" lengthAdjust=\"spacingAndGlyphs\" textLength=\"24\" x=\"187.0334\" y=\"142.8709\">0..1</text></a><!--MD5=[1ccb2481ffa92f8d51a74ee30c51832a]\n",
       "link E8 to E5--><a href=\"psysml:2ecacd66-b174-4fa5-a1f0-5f98a8e6e629\" target=\"_top\" title=\"psysml:2ecacd66-b174-4fa5-a1f0-5f98a8e6e629\" xlink:actuate=\"onRequest\" xlink:href=\"psysml:2ecacd66-b174-4fa5-a1f0-5f98a8e6e629\" xlink:show=\"new\" xlink:title=\"psysml:2ecacd66-b174-4fa5-a1f0-5f98a8e6e629\" xlink:type=\"simple\"><path d=\"M304.49,153.98 C300.07,139.89 291.63,121.28 282.53,105.01 \" fill=\"none\" id=\"E8-&gt;E5\" style=\"stroke: #A80036; stroke-width: 1.0;\"/><polygon fill=\"#FFFFFF\" points=\"271.93,87.72,287.8284,100.2596,275.8928,107.5769,271.93,87.72\" style=\"stroke: #A80036; stroke-width: 1.0;\"/><ellipse cx=\"289.1025\" cy=\"106.1644\" fill=\"#A80036\" rx=\"2\" ry=\"2\" style=\"stroke: #A80036; stroke-width: 1.0;\"/><ellipse cx=\"280.5771\" cy=\"111.391\" fill=\"#A80036\" rx=\"2\" ry=\"2\" style=\"stroke: #A80036; stroke-width: 1.0;\"/></a><!--MD5=[827760032d119d06bbc92f75530fd7ae]\n",
       "reverse link E5 to E8--><a href=\"psysml:96dfc0dc-2946-48da-b50d-9c346f08b52f\" target=\"_top\" title=\"psysml:96dfc0dc-2946-48da-b50d-9c346f08b52f\" xlink:actuate=\"onRequest\" xlink:href=\"psysml:96dfc0dc-2946-48da-b50d-9c346f08b52f\" xlink:show=\"new\" xlink:title=\"psysml:96dfc0dc-2946-48da-b50d-9c346f08b52f\" xlink:type=\"simple\"><path d=\"M255.55,100.09 C262.24,117.41 272.82,138.45 282.83,153.98 \" fill=\"none\" id=\"E5&lt;-E8\" style=\"stroke: #A80036; stroke-width: 1.0;\"/><polygon fill=\"#A80036\" points=\"251.26,87.72,249.4475,94.6996,255.193,99.0572,257.0056,92.0776,251.26,87.72\" style=\"stroke: #A80036; stroke-width: 1.0;\"/><text fill=\"#000000\" font-family=\"sans-serif\" font-size=\"13\" lengthAdjust=\"spacingAndGlyphs\" textLength=\"7\" x=\"269.1999\" y=\"142.8709\">*</text></a><!--MD5=[22f5b4bae7e060dce8a1c8021efdb95b]\n",
       "reverse link E8 to E9--><a href=\"psysml:fc5eb428-4a03-41d1-992b-aff2a13d3fb9\" target=\"_top\" title=\"psysml:fc5eb428-4a03-41d1-992b-aff2a13d3fb9\" xlink:actuate=\"onRequest\" xlink:href=\"psysml:fc5eb428-4a03-41d1-992b-aff2a13d3fb9\" xlink:show=\"new\" xlink:title=\"psysml:fc5eb428-4a03-41d1-992b-aff2a13d3fb9\" xlink:type=\"simple\"><path d=\"M304,213.44 C304,228.87 304,246.47 304,259.98 \" fill=\"none\" id=\"E8&lt;-E9\" style=\"stroke: #A80036; stroke-width: 1.0;\"/><polygon fill=\"#A80036\" points=\"304,200.06,300,206.06,304,212.06,308,206.06,304,200.06\" style=\"stroke: #A80036; stroke-width: 1.0;\"/></a><!--MD5=[e8e32db2720d79fb64bde81f7515cc55]\n",
       "@startuml\r\n",
       " \r\n",
       "package \"ViewTest\" as E1  [[psysml:fb02ed11-6398-4cea-b135-53d0cca9c478 ]]  {\r\n",
       "package \"P\" as E2  [[psysml:6d9f5c34-02db-4c22-b8ae-ed1a072d5ac7 ]]  {\r\n",
       "}\r\n",
       "comp def \"VP\" as E3  <<(D,brown)viewpoint def>> [[psysml:436e526f-0cc5-474d-8f19-4580d940df20 ]] {\r\n",
       "}\r\n",
       "comp def \"R\" as E4  << (B,green) >> [[psysml:053dc08e-a8e7-4770-acc6-30068883d6d6 ]] {\r\n",
       "}\r\n",
       "comp def \"V\" as E5  << (B,green) >> [[psysml:2fa1d21f-0378-4832-ab0e-3c490c491fc9 ]] {\r\n",
       "}\r\n",
       "comp usage \"vp: VP\" as E6  <<(U,orange)viewpoint>> [[psysml:b39da276-6b98-4aad-85bf-f9ecfc55683d ]] {\r\n",
       "}\r\n",
       "comp usage \"r: R\" as E7  << (P,limegreen) part>> [[psysml:5db0ac38-23f9-426f-a666-7fa33ad35708 ]] {\r\n",
       "}\r\n",
       "comp usage \"v: V\" as E8  << (P,limegreen) part>> [[psysml:96dfc0dc-2946-48da-b50d-9c346f08b52f ]] {\r\n",
       "}\r\n",
       "comp usage \"r1\" as E9  << (P,limegreen) part>> [[psysml:fc5eb428-4a03-41d1-992b-aff2a13d3fb9 ]] {\r\n",
       "}\r\n",
       "E5 *- - E6 [[psysml:b39da276-6b98-4aad-85bf-f9ecfc55683d ]] \r\n",
       "E6 - -:|> E3 [[psysml:7b3d769f-4c56-4413-aa9f-0104e9507d6b ]] \r\n",
       "E7 - -:|> E4 [[psysml:f768404d-501b-4614-8ab9-e2515f32fafd ]] \r\n",
       "E5 *- - \"0..1\"E7 [[psysml:5db0ac38-23f9-426f-a666-7fa33ad35708 ]] \r\n",
       "E8 - -:|> E5 [[psysml:2ecacd66-b174-4fa5-a1f0-5f98a8e6e629 ]] \r\n",
       "E5 *- - \"*\"E8 [[psysml:96dfc0dc-2946-48da-b50d-9c346f08b52f ]] \r\n",
       "E8 *- - E9 [[psysml:fc5eb428-4a03-41d1-992b-aff2a13d3fb9 ]] \r\n",
       "}\r\n",
       "@enduml\r\n",
       "\n",
       "PlantUML version 1.2020.13(Sat Jun 13 12:26:38 UTC 2020)\n",
       "(EPL source distribution)\n",
       "Java Runtime: OpenJDK Runtime Environment\n",
       "JVM: OpenJDK 64-Bit Server VM\n",
       "Default Encoding: UTF-8\n",
       "Language: en\n",
       "Country: null\n",
       "--></g></svg>"
      ]
     },
     "execution_count": 36,
     "metadata": {},
     "output_type": "execute_result"
    }
   ],
   "source": [
    "%viz --style=\"PLANTUML\" --view=\"MIXED\" \"ViewTest\""
   ]
  },
  {
   "cell_type": "code",
   "execution_count": 37,
   "id": "banned-psychology",
   "metadata": {
    "execution": {
     "iopub.execute_input": "2021-03-24T16:32:13.725050Z",
     "iopub.status.busy": "2021-03-24T16:32:13.724565Z",
     "iopub.status.idle": "2021-03-24T16:32:13.761532Z",
     "shell.execute_reply": "2021-03-24T16:32:13.759744Z"
    }
   },
   "outputs": [
    {
     "data": {
      "image/svg+xml": [
       "<?xml version=\"1.0\" encoding=\"UTF-8\" standalone=\"no\"?><svg xmlns=\"http://www.w3.org/2000/svg\" xmlns:xlink=\"http://www.w3.org/1999/xlink\" contentScriptType=\"application/ecmascript\" contentStyleType=\"text/css\" height=\"334px\" preserveAspectRatio=\"none\" style=\"width:417px;height:334px;\" version=\"1.1\" viewBox=\"0 0 417 334\" width=\"417px\" zoomAndPan=\"magnify\"><defs/><g><!--MD5=[fbc87193dbaf4d95561dea2c320d4a47]\n",
       "cluster E1--><a href=\"psysml:fb02ed11-6398-4cea-b135-53d0cca9c478\" target=\"_top\" title=\"psysml:fb02ed11-6398-4cea-b135-53d0cca9c478\" xlink:actuate=\"onRequest\" xlink:href=\"psysml:fb02ed11-6398-4cea-b135-53d0cca9c478\" xlink:show=\"new\" xlink:title=\"psysml:fb02ed11-6398-4cea-b135-53d0cca9c478\" xlink:type=\"simple\"><polygon fill=\"#FFFFFF\" points=\"16,6,96,6,103,28.2969,395,28.2969,395,322,16,322,16,6\" style=\"stroke: #000000; stroke-width: 1.5;\"/><line style=\"stroke: #000000; stroke-width: 1.5;\" x1=\"16\" x2=\"103\" y1=\"28.2969\" y2=\"28.2969\"/><text fill=\"#000000\" font-family=\"sans-serif\" font-size=\"14\" font-weight=\"bold\" lengthAdjust=\"spacingAndGlyphs\" textLength=\"74\" x=\"20\" y=\"20.9951\">ViewTest</text></a><!--MD5=[09b614a08d8cba4a07c9adeb5e0fee81]\n",
       "class E3--><a href=\"psysml:436e526f-0cc5-474d-8f19-4580d940df20\" target=\"_top\" title=\"psysml:436e526f-0cc5-474d-8f19-4580d940df20\" xlink:actuate=\"onRequest\" xlink:href=\"psysml:436e526f-0cc5-474d-8f19-4580d940df20\" xlink:show=\"new\" xlink:title=\"psysml:436e526f-0cc5-474d-8f19-4580d940df20\" xlink:type=\"simple\"><rect fill=\"#FFFFFF\" height=\"45.9375\" id=\"E3\" style=\"stroke: #383838; stroke-width: 1.5;\" width=\"98\" x=\"32\" y=\"260\"/><text fill=\"#000000\" font-family=\"sans-serif\" font-size=\"12\" font-style=\"italic\" lengthAdjust=\"spacingAndGlyphs\" textLength=\"96\" x=\"33\" y=\"276.1387\">«viewpoint def»</text><text fill=\"#000000\" font-family=\"sans-serif\" font-size=\"12\" lengthAdjust=\"spacingAndGlyphs\" textLength=\"16\" x=\"73\" y=\"290.1074\">VP</text><line style=\"stroke: #383838; stroke-width: 1.5;\" x1=\"33\" x2=\"129\" y1=\"297.9375\" y2=\"297.9375\"/></a><!--MD5=[ebbe1d658d1005bcc118a6aa81145e00]\n",
       "class E4--><a href=\"psysml:053dc08e-a8e7-4770-acc6-30068883d6d6\" target=\"_top\" title=\"psysml:053dc08e-a8e7-4770-acc6-30068883d6d6\" xlink:actuate=\"onRequest\" xlink:href=\"psysml:053dc08e-a8e7-4770-acc6-30068883d6d6\" xlink:show=\"new\" xlink:title=\"psysml:053dc08e-a8e7-4770-acc6-30068883d6d6\" xlink:type=\"simple\"><rect fill=\"#FFFFFF\" height=\"45.9375\" id=\"E4\" style=\"stroke: #383838; stroke-width: 1.5;\" width=\"101\" x=\"165.5\" y=\"260\"/><text fill=\"#000000\" font-family=\"sans-serif\" font-size=\"12\" font-style=\"italic\" lengthAdjust=\"spacingAndGlyphs\" textLength=\"99\" x=\"166.5\" y=\"276.1387\">«rendering def»</text><text fill=\"#000000\" font-family=\"sans-serif\" font-size=\"12\" lengthAdjust=\"spacingAndGlyphs\" textLength=\"8\" x=\"212\" y=\"290.1074\">R</text><line style=\"stroke: #383838; stroke-width: 1.5;\" x1=\"166.5\" x2=\"265.5\" y1=\"297.9375\" y2=\"297.9375\"/></a><!--MD5=[270fce915f116d4de14055a7c1d9a0f3]\n",
       "class E5--><a href=\"psysml:2fa1d21f-0378-4832-ab0e-3c490c491fc9\" target=\"_top\" title=\"psysml:2fa1d21f-0378-4832-ab0e-3c490c491fc9\" xlink:actuate=\"onRequest\" xlink:href=\"psysml:2fa1d21f-0378-4832-ab0e-3c490c491fc9\" xlink:show=\"new\" xlink:title=\"psysml:2fa1d21f-0378-4832-ab0e-3c490c491fc9\" xlink:type=\"simple\"><rect fill=\"#FFFFFF\" height=\"45.9375\" id=\"E5\" style=\"stroke: #383838; stroke-width: 1.5;\" width=\"66\" x=\"230\" y=\"44.5\"/><text fill=\"#000000\" font-family=\"sans-serif\" font-size=\"12\" font-style=\"italic\" lengthAdjust=\"spacingAndGlyphs\" textLength=\"64\" x=\"231\" y=\"60.6387\">«view def»</text><text fill=\"#000000\" font-family=\"sans-serif\" font-size=\"12\" lengthAdjust=\"spacingAndGlyphs\" textLength=\"8\" x=\"259\" y=\"74.6074\">V</text><line style=\"stroke: #383838; stroke-width: 1.5;\" x1=\"231\" x2=\"295\" y1=\"82.4375\" y2=\"82.4375\"/></a><!--MD5=[60a26617385b1d2d0262a64233df1f8d]\n",
       "class E6--><a href=\"psysml:b39da276-6b98-4aad-85bf-f9ecfc55683d\" target=\"_top\" title=\"psysml:b39da276-6b98-4aad-85bf-f9ecfc55683d\" xlink:actuate=\"onRequest\" xlink:href=\"psysml:b39da276-6b98-4aad-85bf-f9ecfc55683d\" xlink:show=\"new\" xlink:title=\"psysml:b39da276-6b98-4aad-85bf-f9ecfc55683d\" xlink:type=\"simple\"><rect fill=\"#FFFFFF\" height=\"45.9375\" id=\"E6\" rx=\"10\" ry=\"10\" style=\"stroke: #383838; stroke-width: 1.5;\" width=\"74\" x=\"56\" y=\"154\"/><text fill=\"#000000\" font-family=\"sans-serif\" font-size=\"12\" font-style=\"italic\" lengthAdjust=\"spacingAndGlyphs\" textLength=\"72\" x=\"57\" y=\"170.1387\">«viewpoint»</text><text fill=\"#000000\" font-family=\"sans-serif\" font-size=\"12\" lengthAdjust=\"spacingAndGlyphs\" textLength=\"38\" x=\"74\" y=\"184.1074\">vp: VP</text><line style=\"stroke: #383838; stroke-width: 1.5;\" x1=\"57\" x2=\"129\" y1=\"191.9375\" y2=\"191.9375\"/></a><!--MD5=[2156ba9850f5573cc1fc38a6a4b2f02b]\n",
       "class E7--><a href=\"psysml:5db0ac38-23f9-426f-a666-7fa33ad35708\" target=\"_top\" title=\"psysml:5db0ac38-23f9-426f-a666-7fa33ad35708\" xlink:actuate=\"onRequest\" xlink:href=\"psysml:5db0ac38-23f9-426f-a666-7fa33ad35708\" xlink:show=\"new\" xlink:title=\"psysml:5db0ac38-23f9-426f-a666-7fa33ad35708\" xlink:type=\"simple\"><rect fill=\"#FFFFFF\" height=\"45.9375\" id=\"E7\" rx=\"10\" ry=\"10\" style=\"stroke: #383838; stroke-width: 1.5;\" width=\"77\" x=\"177.5\" y=\"154\"/><text fill=\"#000000\" font-family=\"sans-serif\" font-size=\"12\" font-style=\"italic\" lengthAdjust=\"spacingAndGlyphs\" textLength=\"75\" x=\"178.5\" y=\"170.1387\">«rendering»</text><text fill=\"#000000\" font-family=\"sans-serif\" font-size=\"12\" lengthAdjust=\"spacingAndGlyphs\" textLength=\"21\" x=\"205.5\" y=\"184.1074\">r: R</text><line style=\"stroke: #383838; stroke-width: 1.5;\" x1=\"178.5\" x2=\"253.5\" y1=\"191.9375\" y2=\"191.9375\"/></a><!--MD5=[b9389687b975829384b498ac4b7476b2]\n",
       "class E8--><a href=\"psysml:96dfc0dc-2946-48da-b50d-9c346f08b52f\" target=\"_top\" title=\"psysml:96dfc0dc-2946-48da-b50d-9c346f08b52f\" xlink:actuate=\"onRequest\" xlink:href=\"psysml:96dfc0dc-2946-48da-b50d-9c346f08b52f\" xlink:show=\"new\" xlink:title=\"psysml:96dfc0dc-2946-48da-b50d-9c346f08b52f\" xlink:type=\"simple\"><rect fill=\"#FFFFFF\" height=\"45.9375\" id=\"E8\" rx=\"10\" ry=\"10\" style=\"stroke: #383838; stroke-width: 1.5;\" width=\"42\" x=\"290\" y=\"154\"/><text fill=\"#000000\" font-family=\"sans-serif\" font-size=\"12\" font-style=\"italic\" lengthAdjust=\"spacingAndGlyphs\" textLength=\"40\" x=\"291\" y=\"170.1387\">«view»</text><text fill=\"#000000\" font-family=\"sans-serif\" font-size=\"12\" lengthAdjust=\"spacingAndGlyphs\" textLength=\"22\" x=\"300\" y=\"184.1074\">v: V</text><line style=\"stroke: #383838; stroke-width: 1.5;\" x1=\"291\" x2=\"331\" y1=\"191.9375\" y2=\"191.9375\"/></a><!--MD5=[fd4143e9d270a159db93a4ea2a975926]\n",
       "class E9--><a href=\"psysml:fc5eb428-4a03-41d1-992b-aff2a13d3fb9\" target=\"_top\" title=\"psysml:fc5eb428-4a03-41d1-992b-aff2a13d3fb9\" xlink:actuate=\"onRequest\" xlink:href=\"psysml:fc5eb428-4a03-41d1-992b-aff2a13d3fb9\" xlink:show=\"new\" xlink:title=\"psysml:fc5eb428-4a03-41d1-992b-aff2a13d3fb9\" xlink:type=\"simple\"><rect fill=\"#FFFFFF\" height=\"45.9375\" id=\"E9\" rx=\"10\" ry=\"10\" style=\"stroke: #383838; stroke-width: 1.5;\" width=\"77\" x=\"301.5\" y=\"260\"/><text fill=\"#000000\" font-family=\"sans-serif\" font-size=\"12\" font-style=\"italic\" lengthAdjust=\"spacingAndGlyphs\" textLength=\"75\" x=\"302.5\" y=\"276.1387\">«rendering»</text><text fill=\"#000000\" font-family=\"sans-serif\" font-size=\"12\" lengthAdjust=\"spacingAndGlyphs\" textLength=\"13\" x=\"333.5\" y=\"290.1074\">r1</text><line style=\"stroke: #383838; stroke-width: 1.5;\" x1=\"302.5\" x2=\"377.5\" y1=\"297.9375\" y2=\"297.9375\"/></a><a href=\"psysml:6d9f5c34-02db-4c22-b8ae-ed1a072d5ac7\" target=\"_top\" title=\"psysml:6d9f5c34-02db-4c22-b8ae-ed1a072d5ac7\" xlink:actuate=\"onRequest\" xlink:href=\"psysml:6d9f5c34-02db-4c22-b8ae-ed1a072d5ac7\" xlink:show=\"new\" xlink:title=\"psysml:6d9f5c34-02db-4c22-b8ae-ed1a072d5ac7\" xlink:type=\"simple\"><polygon fill=\"#FFFFFF\" points=\"122,41,138,41,145,63.2969,152,63.2969,152,93.5938,122,93.5938,122,41\" style=\"stroke: #000000; stroke-width: 1.5;\"/><line style=\"stroke: #000000; stroke-width: 1.5;\" x1=\"122\" x2=\"145\" y1=\"63.2969\" y2=\"63.2969\"/><text fill=\"#000000\" font-family=\"sans-serif\" font-size=\"14\" font-weight=\"bold\" lengthAdjust=\"spacingAndGlyphs\" textLength=\"10\" x=\"126\" y=\"55.9951\">P</text></a><!--MD5=[85d356282659285ab4b2cfe2f634dd2b]\n",
       "reverse link E5 to E6--><a href=\"psysml:b39da276-6b98-4aad-85bf-f9ecfc55683d\" target=\"_top\" title=\"psysml:b39da276-6b98-4aad-85bf-f9ecfc55683d\" xlink:actuate=\"onRequest\" xlink:href=\"psysml:b39da276-6b98-4aad-85bf-f9ecfc55683d\" xlink:show=\"new\" xlink:title=\"psysml:b39da276-6b98-4aad-85bf-f9ecfc55683d\" xlink:type=\"simple\"><path d=\"M218.61,96.57 C190.28,114.48 154.1,137.36 127.85,153.96 \" fill=\"none\" id=\"E5&lt;-E6\" style=\"stroke: #383838; stroke-width: 1.0;\"/><polygon fill=\"#383838\" points=\"229.82,89.48,222.6111,89.2999,219.6723,95.8849,226.8811,96.0651,229.82,89.48\" style=\"stroke: #383838; stroke-width: 1.0;\"/></a><!--MD5=[a717450b82c80b9240a525fa862496af]\n",
       "link E6 to E3--><a href=\"psysml:7b3d769f-4c56-4413-aa9f-0104e9507d6b\" target=\"_top\" title=\"psysml:7b3d769f-4c56-4413-aa9f-0104e9507d6b\" xlink:actuate=\"onRequest\" xlink:href=\"psysml:7b3d769f-4c56-4413-aa9f-0104e9507d6b\" xlink:show=\"new\" xlink:title=\"psysml:7b3d769f-4c56-4413-aa9f-0104e9507d6b\" xlink:type=\"simple\"><path d=\"M90.46,200.06 C89.12,211.64 87.44,226.23 85.86,239.87 \" fill=\"none\" id=\"E6-&gt;E3\" style=\"stroke: #383838; stroke-width: 1.0;\"/><polygon fill=\"#FFFFFF\" points=\"83.54,259.98,78.757,240.3046,92.6653,241.9044,83.54,259.98\" style=\"stroke: #383838; stroke-width: 1.0;\"/><ellipse cx=\"81.3953\" cy=\"234.8704\" fill=\"#383838\" rx=\"2\" ry=\"2\" style=\"stroke: #383838; stroke-width: 1.0;\"/><ellipse cx=\"91.3298\" cy=\"236.0132\" fill=\"#383838\" rx=\"2\" ry=\"2\" style=\"stroke: #383838; stroke-width: 1.0;\"/></a><!--MD5=[6bdd27f9905911a7e892a3dc65cf6b7c]\n",
       "link E7 to E4--><a href=\"psysml:f768404d-501b-4614-8ab9-e2515f32fafd\" target=\"_top\" title=\"psysml:f768404d-501b-4614-8ab9-e2515f32fafd\" xlink:actuate=\"onRequest\" xlink:href=\"psysml:f768404d-501b-4614-8ab9-e2515f32fafd\" xlink:show=\"new\" xlink:title=\"psysml:f768404d-501b-4614-8ab9-e2515f32fafd\" xlink:type=\"simple\"><path d=\"M216,200.06 C216,211.64 216,226.23 216,239.87 \" fill=\"none\" id=\"E7-&gt;E4\" style=\"stroke: #383838; stroke-width: 1.0;\"/><polygon fill=\"#FFFFFF\" points=\"216,259.98,209,240.98,223,240.98,216,259.98\" style=\"stroke: #383838; stroke-width: 1.0;\"/><ellipse cx=\"211\" cy=\"235.28\" fill=\"#383838\" rx=\"2\" ry=\"2\" style=\"stroke: #383838; stroke-width: 1.0;\"/><ellipse cx=\"221\" cy=\"235.28\" fill=\"#383838\" rx=\"2\" ry=\"2\" style=\"stroke: #383838; stroke-width: 1.0;\"/></a><!--MD5=[452b418e7f8a40397a49b8c0a78acc5b]\n",
       "reverse link E5 to E7--><a href=\"psysml:5db0ac38-23f9-426f-a666-7fa33ad35708\" target=\"_top\" title=\"psysml:5db0ac38-23f9-426f-a666-7fa33ad35708\" xlink:actuate=\"onRequest\" xlink:href=\"psysml:5db0ac38-23f9-426f-a666-7fa33ad35708\" xlink:show=\"new\" xlink:title=\"psysml:5db0ac38-23f9-426f-a666-7fa33ad35708\" xlink:type=\"simple\"><path d=\"M248.1,102.57 C240.81,119.26 232.23,138.89 225.77,153.65 \" fill=\"none\" id=\"E5&lt;-E7\" style=\"stroke: #383838; stroke-width: 1.0;\"/><polygon fill=\"#383838\" points=\"253.38,90.51,247.31,94.4029,248.5688,101.5033,254.6388,97.6104,253.38,90.51\" style=\"stroke: #383838; stroke-width: 1.0;\"/><text fill=\"#000000\" font-family=\"sans-serif\" font-size=\"13\" lengthAdjust=\"spacingAndGlyphs\" textLength=\"24\" x=\"201.1986\" y=\"142.8366\">0..1</text></a><!--MD5=[1ccb2481ffa92f8d51a74ee30c51832a]\n",
       "link E8 to E5--><a href=\"psysml:2ecacd66-b174-4fa5-a1f0-5f98a8e6e629\" target=\"_top\" title=\"psysml:2ecacd66-b174-4fa5-a1f0-5f98a8e6e629\" xlink:actuate=\"onRequest\" xlink:href=\"psysml:2ecacd66-b174-4fa5-a1f0-5f98a8e6e629\" xlink:show=\"new\" xlink:title=\"psysml:2ecacd66-b174-4fa5-a1f0-5f98a8e6e629\" xlink:type=\"simple\"><path d=\"M312.22,153.65 C308.53,140.48 301.55,123.44 293.74,108.07 \" fill=\"none\" id=\"E8-&gt;E5\" style=\"stroke: #383838; stroke-width: 1.0;\"/><polygon fill=\"#FFFFFF\" points=\"283.97,90.51,299.3209,103.7142,287.0851,110.5174,283.97,90.51\" style=\"stroke: #383838; stroke-width: 1.0;\"/><ellipse cx=\"300.3428\" cy=\"109.6678\" fill=\"#383838\" rx=\"2\" ry=\"2\" style=\"stroke: #383838; stroke-width: 1.0;\"/><ellipse cx=\"291.6029\" cy=\"114.5273\" fill=\"#383838\" rx=\"2\" ry=\"2\" style=\"stroke: #383838; stroke-width: 1.0;\"/></a><!--MD5=[827760032d119d06bbc92f75530fd7ae]\n",
       "reverse link E5 to E8--><a href=\"psysml:96dfc0dc-2946-48da-b50d-9c346f08b52f\" target=\"_top\" title=\"psysml:96dfc0dc-2946-48da-b50d-9c346f08b52f\" xlink:actuate=\"onRequest\" xlink:href=\"psysml:96dfc0dc-2946-48da-b50d-9c346f08b52f\" xlink:show=\"new\" xlink:title=\"psysml:96dfc0dc-2946-48da-b50d-9c346f08b52f\" xlink:type=\"simple\"><path d=\"M266.44,103.07 C272.49,119.65 281.62,139.03 290.44,153.65 \" fill=\"none\" id=\"E5&lt;-E8\" style=\"stroke: #383838; stroke-width: 1.0;\"/><polygon fill=\"#383838\" points=\"262.31,90.51,260.3836,97.459,266.0572,101.9099,267.9836,94.9609,262.31,90.51\" style=\"stroke: #383838; stroke-width: 1.0;\"/><text fill=\"#000000\" font-family=\"sans-serif\" font-size=\"13\" lengthAdjust=\"spacingAndGlyphs\" textLength=\"7\" x=\"277.2746\" y=\"142.8366\">*</text></a><!--MD5=[22f5b4bae7e060dce8a1c8021efdb95b]\n",
       "reverse link E8 to E9--><a href=\"psysml:fc5eb428-4a03-41d1-992b-aff2a13d3fb9\" target=\"_top\" title=\"psysml:fc5eb428-4a03-41d1-992b-aff2a13d3fb9\" xlink:actuate=\"onRequest\" xlink:href=\"psysml:fc5eb428-4a03-41d1-992b-aff2a13d3fb9\" xlink:show=\"new\" xlink:title=\"psysml:fc5eb428-4a03-41d1-992b-aff2a13d3fb9\" xlink:type=\"simple\"><path d=\"M320.75,212.96 C325.08,228.51 330.05,246.33 333.86,259.98 \" fill=\"none\" id=\"E8&lt;-E9\" style=\"stroke: #383838; stroke-width: 1.0;\"/><polygon fill=\"#383838\" points=\"317.15,200.06,314.9066,206.9133,320.3699,211.6199,322.6133,204.7667,317.15,200.06\" style=\"stroke: #383838; stroke-width: 1.0;\"/></a><!--MD5=[23d6fe38090e5603e8ab6475ded2af13]\n",
       "@startuml\r\n",
       "skinparam monochrome true\r\n",
       "skinparam classbackgroundcolor white\r\n",
       "skinparam shadowing false\r\n",
       "skinparam wrapWidth 300\r\n",
       "hide circle\r\n",
       "\r\n",
       "package \"ViewTest\" as E1  [[psysml:fb02ed11-6398-4cea-b135-53d0cca9c478 ]]  {\r\n",
       "package \"P\" as E2  [[psysml:6d9f5c34-02db-4c22-b8ae-ed1a072d5ac7 ]]  {\r\n",
       "}\r\n",
       "comp def \"VP\" as E3  <<(T,blue)viewpoint def>> [[psysml:436e526f-0cc5-474d-8f19-4580d940df20 ]] {\r\n",
       "}\r\n",
       "comp def \"R\" as E4  <<(T,blue)rendering def>> [[psysml:053dc08e-a8e7-4770-acc6-30068883d6d6 ]] {\r\n",
       "}\r\n",
       "comp def \"V\" as E5  <<(T,blue)view def>> [[psysml:2fa1d21f-0378-4832-ab0e-3c490c491fc9 ]] {\r\n",
       "}\r\n",
       "comp usage \"vp: VP\" as E6  <<(T,blue)viewpoint>> [[psysml:b39da276-6b98-4aad-85bf-f9ecfc55683d ]] {\r\n",
       "}\r\n",
       "comp usage \"r: R\" as E7  <<(T,blue)rendering>> [[psysml:5db0ac38-23f9-426f-a666-7fa33ad35708 ]] {\r\n",
       "}\r\n",
       "comp usage \"v: V\" as E8  <<(T,blue)view>> [[psysml:96dfc0dc-2946-48da-b50d-9c346f08b52f ]] {\r\n",
       "}\r\n",
       "comp usage \"r1\" as E9  <<(T,blue)rendering>> [[psysml:fc5eb428-4a03-41d1-992b-aff2a13d3fb9 ]] {\r\n",
       "}\r\n",
       "E5 *- - E6 [[psysml:b39da276-6b98-4aad-85bf-f9ecfc55683d ]] \r\n",
       "E6 - -:|> E3 [[psysml:7b3d769f-4c56-4413-aa9f-0104e9507d6b ]] \r\n",
       "E7 - -:|> E4 [[psysml:f768404d-501b-4614-8ab9-e2515f32fafd ]] \r\n",
       "E5 *- - \"0..1\"E7 [[psysml:5db0ac38-23f9-426f-a666-7fa33ad35708 ]] \r\n",
       "E8 - -:|> E5 [[psysml:2ecacd66-b174-4fa5-a1f0-5f98a8e6e629 ]] \r\n",
       "E5 *- - \"*\"E8 [[psysml:96dfc0dc-2946-48da-b50d-9c346f08b52f ]] \r\n",
       "E8 *- - E9 [[psysml:fc5eb428-4a03-41d1-992b-aff2a13d3fb9 ]] \r\n",
       "}\r\n",
       "@enduml\r\n",
       "\n",
       "PlantUML version 1.2020.13(Sat Jun 13 12:26:38 UTC 2020)\n",
       "(EPL source distribution)\n",
       "Java Runtime: OpenJDK Runtime Environment\n",
       "JVM: OpenJDK 64-Bit Server VM\n",
       "Default Encoding: UTF-8\n",
       "Language: en\n",
       "Country: null\n",
       "--></g></svg>"
      ]
     },
     "execution_count": 37,
     "metadata": {},
     "output_type": "execute_result"
    }
   ],
   "source": [
    "%viz --style=\"DEFAULT\" --view=\"Default\" \"ViewTest\""
   ]
  },
  {
   "cell_type": "code",
   "execution_count": 38,
   "id": "treated-nudist",
   "metadata": {
    "execution": {
     "iopub.execute_input": "2021-03-24T16:32:13.812380Z",
     "iopub.status.busy": "2021-03-24T16:32:13.811848Z",
     "iopub.status.idle": "2021-03-24T16:32:13.845080Z",
     "shell.execute_reply": "2021-03-24T16:32:13.843410Z"
    }
   },
   "outputs": [
    {
     "data": {
      "image/svg+xml": [
       "<?xml version=\"1.0\" encoding=\"UTF-8\" standalone=\"no\"?><svg xmlns=\"http://www.w3.org/2000/svg\" xmlns:xlink=\"http://www.w3.org/1999/xlink\" contentScriptType=\"application/ecmascript\" contentStyleType=\"text/css\" height=\"334px\" preserveAspectRatio=\"none\" style=\"width:417px;height:334px;\" version=\"1.1\" viewBox=\"0 0 417 334\" width=\"417px\" zoomAndPan=\"magnify\"><defs/><g><!--MD5=[fbc87193dbaf4d95561dea2c320d4a47]\n",
       "cluster E1--><a href=\"psysml:fb02ed11-6398-4cea-b135-53d0cca9c478\" target=\"_top\" title=\"psysml:fb02ed11-6398-4cea-b135-53d0cca9c478\" xlink:actuate=\"onRequest\" xlink:href=\"psysml:fb02ed11-6398-4cea-b135-53d0cca9c478\" xlink:show=\"new\" xlink:title=\"psysml:fb02ed11-6398-4cea-b135-53d0cca9c478\" xlink:type=\"simple\"><polygon fill=\"#FFFFFF\" points=\"16,6,96,6,103,28.2969,395,28.2969,395,322,16,322,16,6\" style=\"stroke: #000000; stroke-width: 1.5;\"/><line style=\"stroke: #000000; stroke-width: 1.5;\" x1=\"16\" x2=\"103\" y1=\"28.2969\" y2=\"28.2969\"/><text fill=\"#000000\" font-family=\"sans-serif\" font-size=\"14\" font-weight=\"bold\" lengthAdjust=\"spacingAndGlyphs\" textLength=\"74\" x=\"20\" y=\"20.9951\">ViewTest</text></a><!--MD5=[09b614a08d8cba4a07c9adeb5e0fee81]\n",
       "class E3--><a href=\"psysml:436e526f-0cc5-474d-8f19-4580d940df20\" target=\"_top\" title=\"psysml:436e526f-0cc5-474d-8f19-4580d940df20\" xlink:actuate=\"onRequest\" xlink:href=\"psysml:436e526f-0cc5-474d-8f19-4580d940df20\" xlink:show=\"new\" xlink:title=\"psysml:436e526f-0cc5-474d-8f19-4580d940df20\" xlink:type=\"simple\"><rect fill=\"#FFFFFF\" height=\"45.9375\" id=\"E3\" style=\"stroke: #383838; stroke-width: 1.5;\" width=\"98\" x=\"32\" y=\"260\"/><text fill=\"#000000\" font-family=\"sans-serif\" font-size=\"12\" font-style=\"italic\" lengthAdjust=\"spacingAndGlyphs\" textLength=\"96\" x=\"33\" y=\"276.1387\">«viewpoint def»</text><text fill=\"#000000\" font-family=\"sans-serif\" font-size=\"12\" lengthAdjust=\"spacingAndGlyphs\" textLength=\"16\" x=\"73\" y=\"290.1074\">VP</text><line style=\"stroke: #383838; stroke-width: 1.5;\" x1=\"33\" x2=\"129\" y1=\"297.9375\" y2=\"297.9375\"/></a><!--MD5=[ebbe1d658d1005bcc118a6aa81145e00]\n",
       "class E4--><a href=\"psysml:053dc08e-a8e7-4770-acc6-30068883d6d6\" target=\"_top\" title=\"psysml:053dc08e-a8e7-4770-acc6-30068883d6d6\" xlink:actuate=\"onRequest\" xlink:href=\"psysml:053dc08e-a8e7-4770-acc6-30068883d6d6\" xlink:show=\"new\" xlink:title=\"psysml:053dc08e-a8e7-4770-acc6-30068883d6d6\" xlink:type=\"simple\"><rect fill=\"#FFFFFF\" height=\"45.9375\" id=\"E4\" style=\"stroke: #383838; stroke-width: 1.5;\" width=\"101\" x=\"165.5\" y=\"260\"/><text fill=\"#000000\" font-family=\"sans-serif\" font-size=\"12\" font-style=\"italic\" lengthAdjust=\"spacingAndGlyphs\" textLength=\"99\" x=\"166.5\" y=\"276.1387\">«rendering def»</text><text fill=\"#000000\" font-family=\"sans-serif\" font-size=\"12\" lengthAdjust=\"spacingAndGlyphs\" textLength=\"8\" x=\"212\" y=\"290.1074\">R</text><line style=\"stroke: #383838; stroke-width: 1.5;\" x1=\"166.5\" x2=\"265.5\" y1=\"297.9375\" y2=\"297.9375\"/></a><!--MD5=[270fce915f116d4de14055a7c1d9a0f3]\n",
       "class E5--><a href=\"psysml:2fa1d21f-0378-4832-ab0e-3c490c491fc9\" target=\"_top\" title=\"psysml:2fa1d21f-0378-4832-ab0e-3c490c491fc9\" xlink:actuate=\"onRequest\" xlink:href=\"psysml:2fa1d21f-0378-4832-ab0e-3c490c491fc9\" xlink:show=\"new\" xlink:title=\"psysml:2fa1d21f-0378-4832-ab0e-3c490c491fc9\" xlink:type=\"simple\"><rect fill=\"#FFFFFF\" height=\"45.9375\" id=\"E5\" style=\"stroke: #383838; stroke-width: 1.5;\" width=\"66\" x=\"230\" y=\"44.5\"/><text fill=\"#000000\" font-family=\"sans-serif\" font-size=\"12\" font-style=\"italic\" lengthAdjust=\"spacingAndGlyphs\" textLength=\"64\" x=\"231\" y=\"60.6387\">«view def»</text><text fill=\"#000000\" font-family=\"sans-serif\" font-size=\"12\" lengthAdjust=\"spacingAndGlyphs\" textLength=\"8\" x=\"259\" y=\"74.6074\">V</text><line style=\"stroke: #383838; stroke-width: 1.5;\" x1=\"231\" x2=\"295\" y1=\"82.4375\" y2=\"82.4375\"/></a><!--MD5=[60a26617385b1d2d0262a64233df1f8d]\n",
       "class E6--><a href=\"psysml:b39da276-6b98-4aad-85bf-f9ecfc55683d\" target=\"_top\" title=\"psysml:b39da276-6b98-4aad-85bf-f9ecfc55683d\" xlink:actuate=\"onRequest\" xlink:href=\"psysml:b39da276-6b98-4aad-85bf-f9ecfc55683d\" xlink:show=\"new\" xlink:title=\"psysml:b39da276-6b98-4aad-85bf-f9ecfc55683d\" xlink:type=\"simple\"><rect fill=\"#FFFFFF\" height=\"45.9375\" id=\"E6\" rx=\"10\" ry=\"10\" style=\"stroke: #383838; stroke-width: 1.5;\" width=\"74\" x=\"56\" y=\"154\"/><text fill=\"#000000\" font-family=\"sans-serif\" font-size=\"12\" font-style=\"italic\" lengthAdjust=\"spacingAndGlyphs\" textLength=\"72\" x=\"57\" y=\"170.1387\">«viewpoint»</text><text fill=\"#000000\" font-family=\"sans-serif\" font-size=\"12\" lengthAdjust=\"spacingAndGlyphs\" textLength=\"38\" x=\"74\" y=\"184.1074\">vp: VP</text><line style=\"stroke: #383838; stroke-width: 1.5;\" x1=\"57\" x2=\"129\" y1=\"191.9375\" y2=\"191.9375\"/></a><!--MD5=[2156ba9850f5573cc1fc38a6a4b2f02b]\n",
       "class E7--><a href=\"psysml:5db0ac38-23f9-426f-a666-7fa33ad35708\" target=\"_top\" title=\"psysml:5db0ac38-23f9-426f-a666-7fa33ad35708\" xlink:actuate=\"onRequest\" xlink:href=\"psysml:5db0ac38-23f9-426f-a666-7fa33ad35708\" xlink:show=\"new\" xlink:title=\"psysml:5db0ac38-23f9-426f-a666-7fa33ad35708\" xlink:type=\"simple\"><rect fill=\"#FFFFFF\" height=\"45.9375\" id=\"E7\" rx=\"10\" ry=\"10\" style=\"stroke: #383838; stroke-width: 1.5;\" width=\"77\" x=\"177.5\" y=\"154\"/><text fill=\"#000000\" font-family=\"sans-serif\" font-size=\"12\" font-style=\"italic\" lengthAdjust=\"spacingAndGlyphs\" textLength=\"75\" x=\"178.5\" y=\"170.1387\">«rendering»</text><text fill=\"#000000\" font-family=\"sans-serif\" font-size=\"12\" lengthAdjust=\"spacingAndGlyphs\" textLength=\"21\" x=\"205.5\" y=\"184.1074\">r: R</text><line style=\"stroke: #383838; stroke-width: 1.5;\" x1=\"178.5\" x2=\"253.5\" y1=\"191.9375\" y2=\"191.9375\"/></a><!--MD5=[b9389687b975829384b498ac4b7476b2]\n",
       "class E8--><a href=\"psysml:96dfc0dc-2946-48da-b50d-9c346f08b52f\" target=\"_top\" title=\"psysml:96dfc0dc-2946-48da-b50d-9c346f08b52f\" xlink:actuate=\"onRequest\" xlink:href=\"psysml:96dfc0dc-2946-48da-b50d-9c346f08b52f\" xlink:show=\"new\" xlink:title=\"psysml:96dfc0dc-2946-48da-b50d-9c346f08b52f\" xlink:type=\"simple\"><rect fill=\"#FFFFFF\" height=\"45.9375\" id=\"E8\" rx=\"10\" ry=\"10\" style=\"stroke: #383838; stroke-width: 1.5;\" width=\"42\" x=\"290\" y=\"154\"/><text fill=\"#000000\" font-family=\"sans-serif\" font-size=\"12\" font-style=\"italic\" lengthAdjust=\"spacingAndGlyphs\" textLength=\"40\" x=\"291\" y=\"170.1387\">«view»</text><text fill=\"#000000\" font-family=\"sans-serif\" font-size=\"12\" lengthAdjust=\"spacingAndGlyphs\" textLength=\"22\" x=\"300\" y=\"184.1074\">v: V</text><line style=\"stroke: #383838; stroke-width: 1.5;\" x1=\"291\" x2=\"331\" y1=\"191.9375\" y2=\"191.9375\"/></a><!--MD5=[fd4143e9d270a159db93a4ea2a975926]\n",
       "class E9--><a href=\"psysml:fc5eb428-4a03-41d1-992b-aff2a13d3fb9\" target=\"_top\" title=\"psysml:fc5eb428-4a03-41d1-992b-aff2a13d3fb9\" xlink:actuate=\"onRequest\" xlink:href=\"psysml:fc5eb428-4a03-41d1-992b-aff2a13d3fb9\" xlink:show=\"new\" xlink:title=\"psysml:fc5eb428-4a03-41d1-992b-aff2a13d3fb9\" xlink:type=\"simple\"><rect fill=\"#FFFFFF\" height=\"45.9375\" id=\"E9\" rx=\"10\" ry=\"10\" style=\"stroke: #383838; stroke-width: 1.5;\" width=\"77\" x=\"301.5\" y=\"260\"/><text fill=\"#000000\" font-family=\"sans-serif\" font-size=\"12\" font-style=\"italic\" lengthAdjust=\"spacingAndGlyphs\" textLength=\"75\" x=\"302.5\" y=\"276.1387\">«rendering»</text><text fill=\"#000000\" font-family=\"sans-serif\" font-size=\"12\" lengthAdjust=\"spacingAndGlyphs\" textLength=\"13\" x=\"333.5\" y=\"290.1074\">r1</text><line style=\"stroke: #383838; stroke-width: 1.5;\" x1=\"302.5\" x2=\"377.5\" y1=\"297.9375\" y2=\"297.9375\"/></a><a href=\"psysml:6d9f5c34-02db-4c22-b8ae-ed1a072d5ac7\" target=\"_top\" title=\"psysml:6d9f5c34-02db-4c22-b8ae-ed1a072d5ac7\" xlink:actuate=\"onRequest\" xlink:href=\"psysml:6d9f5c34-02db-4c22-b8ae-ed1a072d5ac7\" xlink:show=\"new\" xlink:title=\"psysml:6d9f5c34-02db-4c22-b8ae-ed1a072d5ac7\" xlink:type=\"simple\"><polygon fill=\"#FFFFFF\" points=\"122,41,138,41,145,63.2969,152,63.2969,152,93.5938,122,93.5938,122,41\" style=\"stroke: #000000; stroke-width: 1.5;\"/><line style=\"stroke: #000000; stroke-width: 1.5;\" x1=\"122\" x2=\"145\" y1=\"63.2969\" y2=\"63.2969\"/><text fill=\"#000000\" font-family=\"sans-serif\" font-size=\"14\" font-weight=\"bold\" lengthAdjust=\"spacingAndGlyphs\" textLength=\"10\" x=\"126\" y=\"55.9951\">P</text></a><!--MD5=[85d356282659285ab4b2cfe2f634dd2b]\n",
       "reverse link E5 to E6--><a href=\"psysml:b39da276-6b98-4aad-85bf-f9ecfc55683d\" target=\"_top\" title=\"psysml:b39da276-6b98-4aad-85bf-f9ecfc55683d\" xlink:actuate=\"onRequest\" xlink:href=\"psysml:b39da276-6b98-4aad-85bf-f9ecfc55683d\" xlink:show=\"new\" xlink:title=\"psysml:b39da276-6b98-4aad-85bf-f9ecfc55683d\" xlink:type=\"simple\"><path d=\"M218.61,96.57 C190.28,114.48 154.1,137.36 127.85,153.96 \" fill=\"none\" id=\"E5&lt;-E6\" style=\"stroke: #383838; stroke-width: 1.0;\"/><polygon fill=\"#383838\" points=\"229.82,89.48,222.6111,89.2999,219.6723,95.8849,226.8811,96.0651,229.82,89.48\" style=\"stroke: #383838; stroke-width: 1.0;\"/></a><!--MD5=[a717450b82c80b9240a525fa862496af]\n",
       "link E6 to E3--><a href=\"psysml:7b3d769f-4c56-4413-aa9f-0104e9507d6b\" target=\"_top\" title=\"psysml:7b3d769f-4c56-4413-aa9f-0104e9507d6b\" xlink:actuate=\"onRequest\" xlink:href=\"psysml:7b3d769f-4c56-4413-aa9f-0104e9507d6b\" xlink:show=\"new\" xlink:title=\"psysml:7b3d769f-4c56-4413-aa9f-0104e9507d6b\" xlink:type=\"simple\"><path d=\"M90.46,200.06 C89.12,211.64 87.44,226.23 85.86,239.87 \" fill=\"none\" id=\"E6-&gt;E3\" style=\"stroke: #383838; stroke-width: 1.0;\"/><polygon fill=\"#FFFFFF\" points=\"83.54,259.98,78.757,240.3046,92.6653,241.9044,83.54,259.98\" style=\"stroke: #383838; stroke-width: 1.0;\"/><ellipse cx=\"81.3953\" cy=\"234.8704\" fill=\"#383838\" rx=\"2\" ry=\"2\" style=\"stroke: #383838; stroke-width: 1.0;\"/><ellipse cx=\"91.3298\" cy=\"236.0132\" fill=\"#383838\" rx=\"2\" ry=\"2\" style=\"stroke: #383838; stroke-width: 1.0;\"/></a><!--MD5=[6bdd27f9905911a7e892a3dc65cf6b7c]\n",
       "link E7 to E4--><a href=\"psysml:f768404d-501b-4614-8ab9-e2515f32fafd\" target=\"_top\" title=\"psysml:f768404d-501b-4614-8ab9-e2515f32fafd\" xlink:actuate=\"onRequest\" xlink:href=\"psysml:f768404d-501b-4614-8ab9-e2515f32fafd\" xlink:show=\"new\" xlink:title=\"psysml:f768404d-501b-4614-8ab9-e2515f32fafd\" xlink:type=\"simple\"><path d=\"M216,200.06 C216,211.64 216,226.23 216,239.87 \" fill=\"none\" id=\"E7-&gt;E4\" style=\"stroke: #383838; stroke-width: 1.0;\"/><polygon fill=\"#FFFFFF\" points=\"216,259.98,209,240.98,223,240.98,216,259.98\" style=\"stroke: #383838; stroke-width: 1.0;\"/><ellipse cx=\"211\" cy=\"235.28\" fill=\"#383838\" rx=\"2\" ry=\"2\" style=\"stroke: #383838; stroke-width: 1.0;\"/><ellipse cx=\"221\" cy=\"235.28\" fill=\"#383838\" rx=\"2\" ry=\"2\" style=\"stroke: #383838; stroke-width: 1.0;\"/></a><!--MD5=[452b418e7f8a40397a49b8c0a78acc5b]\n",
       "reverse link E5 to E7--><a href=\"psysml:5db0ac38-23f9-426f-a666-7fa33ad35708\" target=\"_top\" title=\"psysml:5db0ac38-23f9-426f-a666-7fa33ad35708\" xlink:actuate=\"onRequest\" xlink:href=\"psysml:5db0ac38-23f9-426f-a666-7fa33ad35708\" xlink:show=\"new\" xlink:title=\"psysml:5db0ac38-23f9-426f-a666-7fa33ad35708\" xlink:type=\"simple\"><path d=\"M248.1,102.57 C240.81,119.26 232.23,138.89 225.77,153.65 \" fill=\"none\" id=\"E5&lt;-E7\" style=\"stroke: #383838; stroke-width: 1.0;\"/><polygon fill=\"#383838\" points=\"253.38,90.51,247.31,94.4029,248.5688,101.5033,254.6388,97.6104,253.38,90.51\" style=\"stroke: #383838; stroke-width: 1.0;\"/><text fill=\"#000000\" font-family=\"sans-serif\" font-size=\"13\" lengthAdjust=\"spacingAndGlyphs\" textLength=\"24\" x=\"201.1986\" y=\"142.8366\">0..1</text></a><!--MD5=[1ccb2481ffa92f8d51a74ee30c51832a]\n",
       "link E8 to E5--><a href=\"psysml:2ecacd66-b174-4fa5-a1f0-5f98a8e6e629\" target=\"_top\" title=\"psysml:2ecacd66-b174-4fa5-a1f0-5f98a8e6e629\" xlink:actuate=\"onRequest\" xlink:href=\"psysml:2ecacd66-b174-4fa5-a1f0-5f98a8e6e629\" xlink:show=\"new\" xlink:title=\"psysml:2ecacd66-b174-4fa5-a1f0-5f98a8e6e629\" xlink:type=\"simple\"><path d=\"M312.22,153.65 C308.53,140.48 301.55,123.44 293.74,108.07 \" fill=\"none\" id=\"E8-&gt;E5\" style=\"stroke: #383838; stroke-width: 1.0;\"/><polygon fill=\"#FFFFFF\" points=\"283.97,90.51,299.3209,103.7142,287.0851,110.5174,283.97,90.51\" style=\"stroke: #383838; stroke-width: 1.0;\"/><ellipse cx=\"300.3428\" cy=\"109.6678\" fill=\"#383838\" rx=\"2\" ry=\"2\" style=\"stroke: #383838; stroke-width: 1.0;\"/><ellipse cx=\"291.6029\" cy=\"114.5273\" fill=\"#383838\" rx=\"2\" ry=\"2\" style=\"stroke: #383838; stroke-width: 1.0;\"/></a><!--MD5=[827760032d119d06bbc92f75530fd7ae]\n",
       "reverse link E5 to E8--><a href=\"psysml:96dfc0dc-2946-48da-b50d-9c346f08b52f\" target=\"_top\" title=\"psysml:96dfc0dc-2946-48da-b50d-9c346f08b52f\" xlink:actuate=\"onRequest\" xlink:href=\"psysml:96dfc0dc-2946-48da-b50d-9c346f08b52f\" xlink:show=\"new\" xlink:title=\"psysml:96dfc0dc-2946-48da-b50d-9c346f08b52f\" xlink:type=\"simple\"><path d=\"M266.44,103.07 C272.49,119.65 281.62,139.03 290.44,153.65 \" fill=\"none\" id=\"E5&lt;-E8\" style=\"stroke: #383838; stroke-width: 1.0;\"/><polygon fill=\"#383838\" points=\"262.31,90.51,260.3836,97.459,266.0572,101.9099,267.9836,94.9609,262.31,90.51\" style=\"stroke: #383838; stroke-width: 1.0;\"/><text fill=\"#000000\" font-family=\"sans-serif\" font-size=\"13\" lengthAdjust=\"spacingAndGlyphs\" textLength=\"7\" x=\"277.2746\" y=\"142.8366\">*</text></a><!--MD5=[22f5b4bae7e060dce8a1c8021efdb95b]\n",
       "reverse link E8 to E9--><a href=\"psysml:fc5eb428-4a03-41d1-992b-aff2a13d3fb9\" target=\"_top\" title=\"psysml:fc5eb428-4a03-41d1-992b-aff2a13d3fb9\" xlink:actuate=\"onRequest\" xlink:href=\"psysml:fc5eb428-4a03-41d1-992b-aff2a13d3fb9\" xlink:show=\"new\" xlink:title=\"psysml:fc5eb428-4a03-41d1-992b-aff2a13d3fb9\" xlink:type=\"simple\"><path d=\"M320.75,212.96 C325.08,228.51 330.05,246.33 333.86,259.98 \" fill=\"none\" id=\"E8&lt;-E9\" style=\"stroke: #383838; stroke-width: 1.0;\"/><polygon fill=\"#383838\" points=\"317.15,200.06,314.9066,206.9133,320.3699,211.6199,322.6133,204.7667,317.15,200.06\" style=\"stroke: #383838; stroke-width: 1.0;\"/></a><!--MD5=[23d6fe38090e5603e8ab6475ded2af13]\n",
       "@startuml\r\n",
       "skinparam monochrome true\r\n",
       "skinparam classbackgroundcolor white\r\n",
       "skinparam shadowing false\r\n",
       "skinparam wrapWidth 300\r\n",
       "hide circle\r\n",
       "\r\n",
       "package \"ViewTest\" as E1  [[psysml:fb02ed11-6398-4cea-b135-53d0cca9c478 ]]  {\r\n",
       "package \"P\" as E2  [[psysml:6d9f5c34-02db-4c22-b8ae-ed1a072d5ac7 ]]  {\r\n",
       "}\r\n",
       "comp def \"VP\" as E3  <<(T,blue)viewpoint def>> [[psysml:436e526f-0cc5-474d-8f19-4580d940df20 ]] {\r\n",
       "}\r\n",
       "comp def \"R\" as E4  <<(T,blue)rendering def>> [[psysml:053dc08e-a8e7-4770-acc6-30068883d6d6 ]] {\r\n",
       "}\r\n",
       "comp def \"V\" as E5  <<(T,blue)view def>> [[psysml:2fa1d21f-0378-4832-ab0e-3c490c491fc9 ]] {\r\n",
       "}\r\n",
       "comp usage \"vp: VP\" as E6  <<(T,blue)viewpoint>> [[psysml:b39da276-6b98-4aad-85bf-f9ecfc55683d ]] {\r\n",
       "}\r\n",
       "comp usage \"r: R\" as E7  <<(T,blue)rendering>> [[psysml:5db0ac38-23f9-426f-a666-7fa33ad35708 ]] {\r\n",
       "}\r\n",
       "comp usage \"v: V\" as E8  <<(T,blue)view>> [[psysml:96dfc0dc-2946-48da-b50d-9c346f08b52f ]] {\r\n",
       "}\r\n",
       "comp usage \"r1\" as E9  <<(T,blue)rendering>> [[psysml:fc5eb428-4a03-41d1-992b-aff2a13d3fb9 ]] {\r\n",
       "}\r\n",
       "E5 *- - E6 [[psysml:b39da276-6b98-4aad-85bf-f9ecfc55683d ]] \r\n",
       "E6 - -:|> E3 [[psysml:7b3d769f-4c56-4413-aa9f-0104e9507d6b ]] \r\n",
       "E7 - -:|> E4 [[psysml:f768404d-501b-4614-8ab9-e2515f32fafd ]] \r\n",
       "E5 *- - \"0..1\"E7 [[psysml:5db0ac38-23f9-426f-a666-7fa33ad35708 ]] \r\n",
       "E8 - -:|> E5 [[psysml:2ecacd66-b174-4fa5-a1f0-5f98a8e6e629 ]] \r\n",
       "E5 *- - \"*\"E8 [[psysml:96dfc0dc-2946-48da-b50d-9c346f08b52f ]] \r\n",
       "E8 *- - E9 [[psysml:fc5eb428-4a03-41d1-992b-aff2a13d3fb9 ]] \r\n",
       "}\r\n",
       "@enduml\r\n",
       "\n",
       "PlantUML version 1.2020.13(Sat Jun 13 12:26:38 UTC 2020)\n",
       "(EPL source distribution)\n",
       "Java Runtime: OpenJDK Runtime Environment\n",
       "JVM: OpenJDK 64-Bit Server VM\n",
       "Default Encoding: UTF-8\n",
       "Language: en\n",
       "Country: null\n",
       "--></g></svg>"
      ]
     },
     "execution_count": 38,
     "metadata": {},
     "output_type": "execute_result"
    }
   ],
   "source": [
    "%viz --style=\"DEFAULT\" --view=\"Tree\" \"ViewTest\""
   ]
  },
  {
   "cell_type": "code",
   "execution_count": 39,
   "id": "moved-fireplace",
   "metadata": {
    "execution": {
     "iopub.execute_input": "2021-03-24T16:32:13.896005Z",
     "iopub.status.busy": "2021-03-24T16:32:13.895446Z",
     "iopub.status.idle": "2021-03-24T16:32:13.900452Z",
     "shell.execute_reply": "2021-03-24T16:32:13.900131Z"
    }
   },
   "outputs": [
    {
     "data": {
      "image/svg+xml": [
       "<?xml version=\"1.0\" encoding=\"UTF-8\" standalone=\"no\"?><svg xmlns=\"http://www.w3.org/2000/svg\" xmlns:xlink=\"http://www.w3.org/1999/xlink\" contentScriptType=\"application/ecmascript\" contentStyleType=\"text/css\" height=\"12px\" preserveAspectRatio=\"none\" style=\"width:12px;height:12px;\" version=\"1.1\" viewBox=\"0 0 12 12\" width=\"12px\" zoomAndPan=\"magnify\"><defs/><g><!--MD5=[c5f280e076d0d61ccf4b0f27871bda1d]\n",
       "@startuml\r\n",
       "skinparam monochrome true\r\n",
       "skinparam classbackgroundcolor white\r\n",
       "skinparam shadowing false\r\n",
       "skinparam wrapWidth 300\r\n",
       "hide circle\r\n",
       "\r\n",
       "@enduml\r\n",
       "\n",
       "PlantUML version 1.2020.13(Sat Jun 13 12:26:38 UTC 2020)\n",
       "(EPL source distribution)\n",
       "Java Runtime: OpenJDK Runtime Environment\n",
       "JVM: OpenJDK 64-Bit Server VM\n",
       "Default Encoding: UTF-8\n",
       "Language: en\n",
       "Country: null\n",
       "--></g></svg>"
      ]
     },
     "execution_count": 39,
     "metadata": {},
     "output_type": "execute_result"
    }
   ],
   "source": [
    "%viz --style=\"DEFAULT\" --view=\"State\" \"ViewTest\""
   ]
  },
  {
   "cell_type": "code",
   "execution_count": 40,
   "id": "consistent-homework",
   "metadata": {
    "execution": {
     "iopub.execute_input": "2021-03-24T16:32:13.951896Z",
     "iopub.status.busy": "2021-03-24T16:32:13.951374Z",
     "iopub.status.idle": "2021-03-24T16:32:13.981910Z",
     "shell.execute_reply": "2021-03-24T16:32:13.980727Z"
    }
   },
   "outputs": [
    {
     "data": {
      "image/svg+xml": [
       "<?xml version=\"1.0\" encoding=\"UTF-8\" standalone=\"no\"?><svg xmlns=\"http://www.w3.org/2000/svg\" xmlns:xlink=\"http://www.w3.org/1999/xlink\" contentScriptType=\"application/ecmascript\" contentStyleType=\"text/css\" height=\"313px\" preserveAspectRatio=\"none\" style=\"width:568px;height:313px;\" version=\"1.1\" viewBox=\"0 0 568 313\" width=\"568px\" zoomAndPan=\"magnify\"><defs/><g><!--MD5=[fbc87193dbaf4d95561dea2c320d4a47]\n",
       "cluster E1--><a href=\"psysml:fb02ed11-6398-4cea-b135-53d0cca9c478\" target=\"_top\" title=\"psysml:fb02ed11-6398-4cea-b135-53d0cca9c478\" xlink:actuate=\"onRequest\" xlink:href=\"psysml:fb02ed11-6398-4cea-b135-53d0cca9c478\" xlink:show=\"new\" xlink:title=\"psysml:fb02ed11-6398-4cea-b135-53d0cca9c478\" xlink:type=\"simple\"><polygon fill=\"#FFFFFF\" points=\"16,6,96,6,103,28.2969,546,28.2969,546,301,16,301,16,6\" style=\"stroke: #000000; stroke-width: 1.5;\"/><line style=\"stroke: #000000; stroke-width: 1.5;\" x1=\"16\" x2=\"103\" y1=\"28.2969\" y2=\"28.2969\"/><text fill=\"#000000\" font-family=\"sans-serif\" font-size=\"14\" font-weight=\"bold\" lengthAdjust=\"spacingAndGlyphs\" textLength=\"74\" x=\"20\" y=\"20.9951\">ViewTest</text></a><!--MD5=[de5ec2e2e8f62f467e546659f5068c88]\n",
       "cluster E5--><a href=\"psysml:2fa1d21f-0378-4832-ab0e-3c490c491fc9\" target=\"_top\" title=\"psysml:2fa1d21f-0378-4832-ab0e-3c490c491fc9\" xlink:actuate=\"onRequest\" xlink:href=\"psysml:2fa1d21f-0378-4832-ab0e-3c490c491fc9\" xlink:show=\"new\" xlink:title=\"psysml:2fa1d21f-0378-4832-ab0e-3c490c491fc9\" xlink:type=\"simple\"><rect fill=\"#FFFFFF\" height=\"174\" id=\"E5\" style=\"stroke: #383838; stroke-width: 1.5;\" width=\"300\" x=\"222\" y=\"49\"/><rect fill=\"#F8F8F8\" height=\"37.9375\" style=\"stroke: #383838; stroke-width: 1.5;\" width=\"300\" x=\"222\" y=\"49\"/><text fill=\"#000000\" font-family=\"sans-serif\" font-size=\"12\" font-style=\"italic\" lengthAdjust=\"spacingAndGlyphs\" textLength=\"64\" x=\"340\" y=\"65.1387\">«view def»</text><text fill=\"#000000\" font-family=\"sans-serif\" font-size=\"12\" lengthAdjust=\"spacingAndGlyphs\" textLength=\"8\" x=\"368\" y=\"79.1074\">V</text></a><!--MD5=[55dfccfc6c49c2d10cd1bd2211a6c90c]\n",
       "cluster E8--><a href=\"psysml:96dfc0dc-2946-48da-b50d-9c346f08b52f\" target=\"_top\" title=\"psysml:96dfc0dc-2946-48da-b50d-9c346f08b52f\" xlink:actuate=\"onRequest\" xlink:href=\"psysml:96dfc0dc-2946-48da-b50d-9c346f08b52f\" xlink:show=\"new\" xlink:title=\"psysml:96dfc0dc-2946-48da-b50d-9c346f08b52f\" xlink:type=\"simple\"><rect fill=\"#FFFFFF\" height=\"91\" id=\"E8\" rx=\"10\" ry=\"10\" style=\"stroke: #383838; stroke-width: 1.5;\" width=\"82\" x=\"416\" y=\"108\"/><rect fill=\"#F8F8F8\" height=\"23.9688\" rx=\"10\" ry=\"10\" style=\"stroke: #F8F8F8; stroke-width: 1.5;\" width=\"82\" x=\"416\" y=\"108\"/><rect fill=\"#F8F8F8\" height=\"10\" style=\"stroke: #F8F8F8; stroke-width: 1.5;\" width=\"82\" x=\"416\" y=\"121.9688\"/><rect fill=\"none\" height=\"91\" id=\"E8\" rx=\"10\" ry=\"10\" style=\"stroke: #383838; stroke-width: 1.5;\" width=\"82\" x=\"416\" y=\"108\"/><text fill=\"#000000\" font-family=\"sans-serif\" font-size=\"12\" lengthAdjust=\"spacingAndGlyphs\" textLength=\"22\" x=\"446\" y=\"124.1387\">v: V</text><line style=\"stroke: #383838; stroke-width: 1.0;\" x1=\"416\" x2=\"498\" y1=\"131.9688\" y2=\"131.9688\"/></a><!--MD5=[09b614a08d8cba4a07c9adeb5e0fee81]\n",
       "class E3--><a href=\"psysml:436e526f-0cc5-474d-8f19-4580d940df20\" target=\"_top\" title=\"psysml:436e526f-0cc5-474d-8f19-4580d940df20\" xlink:actuate=\"onRequest\" xlink:href=\"psysml:436e526f-0cc5-474d-8f19-4580d940df20\" xlink:show=\"new\" xlink:title=\"psysml:436e526f-0cc5-474d-8f19-4580d940df20\" xlink:type=\"simple\"><rect fill=\"#FFFFFF\" height=\"45.9375\" id=\"E3\" style=\"stroke: #383838; stroke-width: 1.5;\" width=\"98\" x=\"311\" y=\"239\"/><text fill=\"#000000\" font-family=\"sans-serif\" font-size=\"12\" font-style=\"italic\" lengthAdjust=\"spacingAndGlyphs\" textLength=\"96\" x=\"312\" y=\"255.1387\">«viewpoint def»</text><text fill=\"#000000\" font-family=\"sans-serif\" font-size=\"12\" lengthAdjust=\"spacingAndGlyphs\" textLength=\"16\" x=\"352\" y=\"269.1074\">VP</text><line style=\"stroke: #383838; stroke-width: 1.5;\" x1=\"312\" x2=\"408\" y1=\"276.9375\" y2=\"276.9375\"/></a><a href=\"psysml:6d9f5c34-02db-4c22-b8ae-ed1a072d5ac7\" target=\"_top\" title=\"psysml:6d9f5c34-02db-4c22-b8ae-ed1a072d5ac7\" xlink:actuate=\"onRequest\" xlink:href=\"psysml:6d9f5c34-02db-4c22-b8ae-ed1a072d5ac7\" xlink:show=\"new\" xlink:title=\"psysml:6d9f5c34-02db-4c22-b8ae-ed1a072d5ac7\" xlink:type=\"simple\"><polygon fill=\"#FFFFFF\" points=\"173,136.5,189,136.5,196,158.7969,203,158.7969,203,189.0938,173,189.0938,173,136.5\" style=\"stroke: #000000; stroke-width: 1.5;\"/><line style=\"stroke: #000000; stroke-width: 1.5;\" x1=\"173\" x2=\"196\" y1=\"158.7969\" y2=\"158.7969\"/><text fill=\"#000000\" font-family=\"sans-serif\" font-size=\"14\" font-weight=\"bold\" lengthAdjust=\"spacingAndGlyphs\" textLength=\"10\" x=\"177\" y=\"151.4951\">P</text></a><g id=\"E1.E4\"><a href=\"psysml:053dc08e-a8e7-4770-acc6-30068883d6d6\" target=\"_top\" title=\"psysml:053dc08e-a8e7-4770-acc6-30068883d6d6\" xlink:actuate=\"onRequest\" xlink:href=\"psysml:053dc08e-a8e7-4770-acc6-30068883d6d6\" xlink:show=\"new\" xlink:title=\"psysml:053dc08e-a8e7-4770-acc6-30068883d6d6\" xlink:type=\"simple\"><rect fill=\"#FFFFFF\" height=\"42.9375\" id=\"E4\" style=\"stroke: #383838; stroke-width: 1.5;\" width=\"106\" x=\"32\" y=\"141.5\"/><rect fill=\"#F8F8F8\" height=\"37.9375\" style=\"stroke: #383838; stroke-width: 1.5;\" width=\"106\" x=\"32\" y=\"141.5\"/><text fill=\"#000000\" font-family=\"sans-serif\" font-size=\"12\" font-style=\"italic\" lengthAdjust=\"spacingAndGlyphs\" textLength=\"99\" x=\"35.5\" y=\"157.6387\">«rendering def»</text><text fill=\"#000000\" font-family=\"sans-serif\" font-size=\"12\" lengthAdjust=\"spacingAndGlyphs\" textLength=\"8\" x=\"81\" y=\"171.6074\">R</text></a></g><!--MD5=[60a26617385b1d2d0262a64233df1f8d]\n",
       "class E6--><a href=\"psysml:b39da276-6b98-4aad-85bf-f9ecfc55683d\" target=\"_top\" title=\"psysml:b39da276-6b98-4aad-85bf-f9ecfc55683d\" xlink:actuate=\"onRequest\" xlink:href=\"psysml:b39da276-6b98-4aad-85bf-f9ecfc55683d\" xlink:show=\"new\" xlink:title=\"psysml:b39da276-6b98-4aad-85bf-f9ecfc55683d\" xlink:type=\"simple\"><rect fill=\"#FFFFFF\" height=\"45.9375\" id=\"E6\" rx=\"10\" ry=\"10\" style=\"stroke: #383838; stroke-width: 1.5;\" width=\"74\" x=\"323\" y=\"140\"/><text fill=\"#000000\" font-family=\"sans-serif\" font-size=\"12\" font-style=\"italic\" lengthAdjust=\"spacingAndGlyphs\" textLength=\"72\" x=\"324\" y=\"156.1387\">«viewpoint»</text><text fill=\"#000000\" font-family=\"sans-serif\" font-size=\"12\" lengthAdjust=\"spacingAndGlyphs\" textLength=\"38\" x=\"341\" y=\"170.1074\">vp: VP</text><line style=\"stroke: #383838; stroke-width: 1.5;\" x1=\"324\" x2=\"396\" y1=\"177.9375\" y2=\"177.9375\"/></a><g id=\"E1.E5.E7\"><a href=\"psysml:5db0ac38-23f9-426f-a666-7fa33ad35708\" target=\"_top\" title=\"psysml:5db0ac38-23f9-426f-a666-7fa33ad35708\" xlink:actuate=\"onRequest\" xlink:href=\"psysml:5db0ac38-23f9-426f-a666-7fa33ad35708\" xlink:show=\"new\" xlink:title=\"psysml:5db0ac38-23f9-426f-a666-7fa33ad35708\" xlink:type=\"simple\"><rect fill=\"#FFFFFF\" height=\"40\" id=\"E7\" rx=\"10\" ry=\"10\" style=\"stroke: #383838; stroke-width: 1.5;\" width=\"50\" x=\"238\" y=\"143\"/><rect fill=\"#F8F8F8\" height=\"23.9688\" rx=\"10\" ry=\"10\" style=\"stroke: #F8F8F8; stroke-width: 1.5;\" width=\"50\" x=\"238\" y=\"143\"/><rect fill=\"#F8F8F8\" height=\"10\" style=\"stroke: #F8F8F8; stroke-width: 1.5;\" width=\"50\" x=\"238\" y=\"156.9688\"/><rect fill=\"none\" height=\"40\" id=\"E7\" rx=\"10\" ry=\"10\" style=\"stroke: #383838; stroke-width: 1.5;\" width=\"50\" x=\"238\" y=\"143\"/><text fill=\"#000000\" font-family=\"sans-serif\" font-size=\"12\" lengthAdjust=\"spacingAndGlyphs\" textLength=\"21\" x=\"252.5\" y=\"159.1387\">r: R</text></a></g><g id=\"E1.E5.E8.E9\"><a href=\"psysml:fc5eb428-4a03-41d1-992b-aff2a13d3fb9\" target=\"_top\" title=\"psysml:fc5eb428-4a03-41d1-992b-aff2a13d3fb9\" xlink:actuate=\"onRequest\" xlink:href=\"psysml:fc5eb428-4a03-41d1-992b-aff2a13d3fb9\" xlink:show=\"new\" xlink:title=\"psysml:fc5eb428-4a03-41d1-992b-aff2a13d3fb9\" xlink:type=\"simple\"><rect fill=\"#FFFFFF\" height=\"40\" id=\"E9\" rx=\"10\" ry=\"10\" style=\"stroke: #383838; stroke-width: 1.5;\" width=\"50\" x=\"432\" y=\"143\"/><rect fill=\"#F8F8F8\" height=\"23.9688\" rx=\"10\" ry=\"10\" style=\"stroke: #F8F8F8; stroke-width: 1.5;\" width=\"50\" x=\"432\" y=\"143\"/><rect fill=\"#F8F8F8\" height=\"10\" style=\"stroke: #F8F8F8; stroke-width: 1.5;\" width=\"50\" x=\"432\" y=\"156.9688\"/><rect fill=\"none\" height=\"40\" id=\"E9\" rx=\"10\" ry=\"10\" style=\"stroke: #383838; stroke-width: 1.5;\" width=\"50\" x=\"432\" y=\"143\"/><text fill=\"#000000\" font-family=\"sans-serif\" font-size=\"12\" lengthAdjust=\"spacingAndGlyphs\" textLength=\"13\" x=\"450.5\" y=\"159.1387\">r1</text></a></g><!--MD5=[a717450b82c80b9240a525fa862496af]\n",
       "link E6 to E3--><a href=\"psysml:7b3d769f-4c56-4413-aa9f-0104e9507d6b\" target=\"_top\" title=\"psysml:7b3d769f-4c56-4413-aa9f-0104e9507d6b\" xlink:actuate=\"onRequest\" xlink:href=\"psysml:7b3d769f-4c56-4413-aa9f-0104e9507d6b\" xlink:show=\"new\" xlink:title=\"psysml:7b3d769f-4c56-4413-aa9f-0104e9507d6b\" xlink:type=\"simple\"><path d=\"M360,186.01 C360,195.62 360,207.22 360,218.4 \" fill=\"none\" id=\"E6-&gt;E3\" style=\"stroke: #383838; stroke-width: 1.0;\"/><polygon fill=\"#FFFFFF\" points=\"360,238.74,353,219.74,367,219.74,360,238.74\" style=\"stroke: #383838; stroke-width: 1.0;\"/><ellipse cx=\"355\" cy=\"214.04\" fill=\"#383838\" rx=\"2\" ry=\"2\" style=\"stroke: #383838; stroke-width: 1.0;\"/><ellipse cx=\"365\" cy=\"214.04\" fill=\"#383838\" rx=\"2\" ry=\"2\" style=\"stroke: #383838; stroke-width: 1.0;\"/></a><!--MD5=[8945ada4c1ff59485599ac84830b5215]\n",
       "@startuml\r\n",
       "skinparam ranksep 10\r\n",
       "skinparam rectangle {\r\n",
       " backgroundColor<<block>> LightGreen\r\n",
       "}\r\n",
       "skinparam monochrome true\r\n",
       "skinparam classbackgroundcolor white\r\n",
       "skinparam shadowing false\r\n",
       "skinparam wrapWidth 300\r\n",
       "hide circle\r\n",
       "\r\n",
       "package \"ViewTest\" as E1  [[psysml:fb02ed11-6398-4cea-b135-53d0cca9c478 ]]  {\r\n",
       "package \"P\" as E2  [[psysml:6d9f5c34-02db-4c22-b8ae-ed1a072d5ac7 ]]  {\r\n",
       "}\r\n",
       "comp def \"VP\" as E3  <<(T,blue)viewpoint def>> [[psysml:436e526f-0cc5-474d-8f19-4580d940df20 ]] {\r\n",
       "}\r\n",
       "rec def \"R\" as E4  <<(T,blue)rendering def>> [[psysml:053dc08e-a8e7-4770-acc6-30068883d6d6 ]] {\r\n",
       "}\r\n",
       "rec def \"V\" as E5  <<(T,blue)view def>> [[psysml:2fa1d21f-0378-4832-ab0e-3c490c491fc9 ]] {\r\n",
       "comp usage \"vp: VP\" as E6  <<(T,blue)viewpoint>> [[psysml:b39da276-6b98-4aad-85bf-f9ecfc55683d ]] {\r\n",
       "}\r\n",
       "rec usage \"r: R\" as E7  [[psysml:5db0ac38-23f9-426f-a666-7fa33ad35708 ]] {\r\n",
       "}\r\n",
       "rec usage \"v: V\" as E8  [[psysml:96dfc0dc-2946-48da-b50d-9c346f08b52f ]] {\r\n",
       "rec usage \"r1\" as E9  [[psysml:fc5eb428-4a03-41d1-992b-aff2a13d3fb9 ]] {\r\n",
       "}\r\n",
       "}\r\n",
       "}\r\n",
       "E6 - -:|> E3 [[psysml:7b3d769f-4c56-4413-aa9f-0104e9507d6b ]] \r\n",
       "}\r\n",
       "@enduml\r\n",
       "\n",
       "PlantUML version 1.2020.13(Sat Jun 13 12:26:38 UTC 2020)\n",
       "(EPL source distribution)\n",
       "Java Runtime: OpenJDK Runtime Environment\n",
       "JVM: OpenJDK 64-Bit Server VM\n",
       "Default Encoding: UTF-8\n",
       "Language: en\n",
       "Country: null\n",
       "--></g></svg>"
      ]
     },
     "execution_count": 40,
     "metadata": {},
     "output_type": "execute_result"
    }
   ],
   "source": [
    "%viz --style=\"DEFAULT\" --view=\"Interconnection\" \"ViewTest\""
   ]
  },
  {
   "cell_type": "code",
   "execution_count": 41,
   "id": "suburban-relay",
   "metadata": {
    "execution": {
     "iopub.execute_input": "2021-03-24T16:32:14.034161Z",
     "iopub.status.busy": "2021-03-24T16:32:14.033451Z",
     "iopub.status.idle": "2021-03-24T16:32:14.038585Z",
     "shell.execute_reply": "2021-03-24T16:32:14.038231Z"
    }
   },
   "outputs": [
    {
     "data": {
      "image/svg+xml": [
       "<?xml version=\"1.0\" encoding=\"UTF-8\" standalone=\"no\"?><svg xmlns=\"http://www.w3.org/2000/svg\" xmlns:xlink=\"http://www.w3.org/1999/xlink\" contentScriptType=\"application/ecmascript\" contentStyleType=\"text/css\" height=\"12px\" preserveAspectRatio=\"none\" style=\"width:12px;height:12px;\" version=\"1.1\" viewBox=\"0 0 12 12\" width=\"12px\" zoomAndPan=\"magnify\"><defs/><g><!--MD5=[388f21188e31bfdd97050473b19af356]\n",
       "@startuml\r\n",
       "skinparam ranksep 8\r\n",
       "skinparam monochrome true\r\n",
       "skinparam classbackgroundcolor white\r\n",
       "skinparam shadowing false\r\n",
       "skinparam wrapWidth 300\r\n",
       "hide circle\r\n",
       "\r\n",
       "@enduml\r\n",
       "\n",
       "PlantUML version 1.2020.13(Sat Jun 13 12:26:38 UTC 2020)\n",
       "(EPL source distribution)\n",
       "Java Runtime: OpenJDK Runtime Environment\n",
       "JVM: OpenJDK 64-Bit Server VM\n",
       "Default Encoding: UTF-8\n",
       "Language: en\n",
       "Country: null\n",
       "--></g></svg>"
      ]
     },
     "execution_count": 41,
     "metadata": {},
     "output_type": "execute_result"
    }
   ],
   "source": [
    "%viz --style=\"DEFAULT\" --view=\"Action\" \"ViewTest\""
   ]
  },
  {
   "cell_type": "code",
   "execution_count": 42,
   "id": "peaceful-jordan",
   "metadata": {
    "execution": {
     "iopub.execute_input": "2021-03-24T16:32:14.090864Z",
     "iopub.status.busy": "2021-03-24T16:32:14.089980Z",
     "iopub.status.idle": "2021-03-24T16:32:14.122204Z",
     "shell.execute_reply": "2021-03-24T16:32:14.120838Z"
    }
   },
   "outputs": [
    {
     "data": {
      "image/svg+xml": [
       "<?xml version=\"1.0\" encoding=\"UTF-8\" standalone=\"no\"?><svg xmlns=\"http://www.w3.org/2000/svg\" xmlns:xlink=\"http://www.w3.org/1999/xlink\" contentScriptType=\"application/ecmascript\" contentStyleType=\"text/css\" height=\"334px\" preserveAspectRatio=\"none\" style=\"width:417px;height:334px;\" version=\"1.1\" viewBox=\"0 0 417 334\" width=\"417px\" zoomAndPan=\"magnify\"><defs/><g><!--MD5=[fbc87193dbaf4d95561dea2c320d4a47]\n",
       "cluster E1--><a href=\"psysml:fb02ed11-6398-4cea-b135-53d0cca9c478\" target=\"_top\" title=\"psysml:fb02ed11-6398-4cea-b135-53d0cca9c478\" xlink:actuate=\"onRequest\" xlink:href=\"psysml:fb02ed11-6398-4cea-b135-53d0cca9c478\" xlink:show=\"new\" xlink:title=\"psysml:fb02ed11-6398-4cea-b135-53d0cca9c478\" xlink:type=\"simple\"><polygon fill=\"#FFFFFF\" points=\"16,6,96,6,103,28.2969,395,28.2969,395,322,16,322,16,6\" style=\"stroke: #000000; stroke-width: 1.5;\"/><line style=\"stroke: #000000; stroke-width: 1.5;\" x1=\"16\" x2=\"103\" y1=\"28.2969\" y2=\"28.2969\"/><text fill=\"#000000\" font-family=\"sans-serif\" font-size=\"14\" font-weight=\"bold\" lengthAdjust=\"spacingAndGlyphs\" textLength=\"74\" x=\"20\" y=\"20.9951\">ViewTest</text></a><!--MD5=[09b614a08d8cba4a07c9adeb5e0fee81]\n",
       "class E3--><a href=\"psysml:436e526f-0cc5-474d-8f19-4580d940df20\" target=\"_top\" title=\"psysml:436e526f-0cc5-474d-8f19-4580d940df20\" xlink:actuate=\"onRequest\" xlink:href=\"psysml:436e526f-0cc5-474d-8f19-4580d940df20\" xlink:show=\"new\" xlink:title=\"psysml:436e526f-0cc5-474d-8f19-4580d940df20\" xlink:type=\"simple\"><rect fill=\"#FFFFFF\" height=\"45.9375\" id=\"E3\" style=\"stroke: #383838; stroke-width: 1.5;\" width=\"98\" x=\"32\" y=\"260\"/><text fill=\"#000000\" font-family=\"sans-serif\" font-size=\"12\" font-style=\"italic\" lengthAdjust=\"spacingAndGlyphs\" textLength=\"96\" x=\"33\" y=\"276.1387\">«viewpoint def»</text><text fill=\"#000000\" font-family=\"sans-serif\" font-size=\"12\" lengthAdjust=\"spacingAndGlyphs\" textLength=\"16\" x=\"73\" y=\"290.1074\">VP</text><line style=\"stroke: #383838; stroke-width: 1.5;\" x1=\"33\" x2=\"129\" y1=\"297.9375\" y2=\"297.9375\"/></a><!--MD5=[ebbe1d658d1005bcc118a6aa81145e00]\n",
       "class E4--><a href=\"psysml:053dc08e-a8e7-4770-acc6-30068883d6d6\" target=\"_top\" title=\"psysml:053dc08e-a8e7-4770-acc6-30068883d6d6\" xlink:actuate=\"onRequest\" xlink:href=\"psysml:053dc08e-a8e7-4770-acc6-30068883d6d6\" xlink:show=\"new\" xlink:title=\"psysml:053dc08e-a8e7-4770-acc6-30068883d6d6\" xlink:type=\"simple\"><rect fill=\"#FFFFFF\" height=\"45.9375\" id=\"E4\" style=\"stroke: #383838; stroke-width: 1.5;\" width=\"101\" x=\"165.5\" y=\"260\"/><text fill=\"#000000\" font-family=\"sans-serif\" font-size=\"12\" font-style=\"italic\" lengthAdjust=\"spacingAndGlyphs\" textLength=\"99\" x=\"166.5\" y=\"276.1387\">«rendering def»</text><text fill=\"#000000\" font-family=\"sans-serif\" font-size=\"12\" lengthAdjust=\"spacingAndGlyphs\" textLength=\"8\" x=\"212\" y=\"290.1074\">R</text><line style=\"stroke: #383838; stroke-width: 1.5;\" x1=\"166.5\" x2=\"265.5\" y1=\"297.9375\" y2=\"297.9375\"/></a><!--MD5=[270fce915f116d4de14055a7c1d9a0f3]\n",
       "class E5--><a href=\"psysml:2fa1d21f-0378-4832-ab0e-3c490c491fc9\" target=\"_top\" title=\"psysml:2fa1d21f-0378-4832-ab0e-3c490c491fc9\" xlink:actuate=\"onRequest\" xlink:href=\"psysml:2fa1d21f-0378-4832-ab0e-3c490c491fc9\" xlink:show=\"new\" xlink:title=\"psysml:2fa1d21f-0378-4832-ab0e-3c490c491fc9\" xlink:type=\"simple\"><rect fill=\"#FFFFFF\" height=\"45.9375\" id=\"E5\" style=\"stroke: #383838; stroke-width: 1.5;\" width=\"66\" x=\"230\" y=\"44.5\"/><text fill=\"#000000\" font-family=\"sans-serif\" font-size=\"12\" font-style=\"italic\" lengthAdjust=\"spacingAndGlyphs\" textLength=\"64\" x=\"231\" y=\"60.6387\">«view def»</text><text fill=\"#000000\" font-family=\"sans-serif\" font-size=\"12\" lengthAdjust=\"spacingAndGlyphs\" textLength=\"8\" x=\"259\" y=\"74.6074\">V</text><line style=\"stroke: #383838; stroke-width: 1.5;\" x1=\"231\" x2=\"295\" y1=\"82.4375\" y2=\"82.4375\"/></a><!--MD5=[60a26617385b1d2d0262a64233df1f8d]\n",
       "class E6--><a href=\"psysml:b39da276-6b98-4aad-85bf-f9ecfc55683d\" target=\"_top\" title=\"psysml:b39da276-6b98-4aad-85bf-f9ecfc55683d\" xlink:actuate=\"onRequest\" xlink:href=\"psysml:b39da276-6b98-4aad-85bf-f9ecfc55683d\" xlink:show=\"new\" xlink:title=\"psysml:b39da276-6b98-4aad-85bf-f9ecfc55683d\" xlink:type=\"simple\"><rect fill=\"#FFFFFF\" height=\"45.9375\" id=\"E6\" rx=\"10\" ry=\"10\" style=\"stroke: #383838; stroke-width: 1.5;\" width=\"74\" x=\"56\" y=\"154\"/><text fill=\"#000000\" font-family=\"sans-serif\" font-size=\"12\" font-style=\"italic\" lengthAdjust=\"spacingAndGlyphs\" textLength=\"72\" x=\"57\" y=\"170.1387\">«viewpoint»</text><text fill=\"#000000\" font-family=\"sans-serif\" font-size=\"12\" lengthAdjust=\"spacingAndGlyphs\" textLength=\"38\" x=\"74\" y=\"184.1074\">vp: VP</text><line style=\"stroke: #383838; stroke-width: 1.5;\" x1=\"57\" x2=\"129\" y1=\"191.9375\" y2=\"191.9375\"/></a><!--MD5=[2156ba9850f5573cc1fc38a6a4b2f02b]\n",
       "class E7--><a href=\"psysml:5db0ac38-23f9-426f-a666-7fa33ad35708\" target=\"_top\" title=\"psysml:5db0ac38-23f9-426f-a666-7fa33ad35708\" xlink:actuate=\"onRequest\" xlink:href=\"psysml:5db0ac38-23f9-426f-a666-7fa33ad35708\" xlink:show=\"new\" xlink:title=\"psysml:5db0ac38-23f9-426f-a666-7fa33ad35708\" xlink:type=\"simple\"><rect fill=\"#FFFFFF\" height=\"45.9375\" id=\"E7\" rx=\"10\" ry=\"10\" style=\"stroke: #383838; stroke-width: 1.5;\" width=\"77\" x=\"177.5\" y=\"154\"/><text fill=\"#000000\" font-family=\"sans-serif\" font-size=\"12\" font-style=\"italic\" lengthAdjust=\"spacingAndGlyphs\" textLength=\"75\" x=\"178.5\" y=\"170.1387\">«rendering»</text><text fill=\"#000000\" font-family=\"sans-serif\" font-size=\"12\" lengthAdjust=\"spacingAndGlyphs\" textLength=\"21\" x=\"205.5\" y=\"184.1074\">r: R</text><line style=\"stroke: #383838; stroke-width: 1.5;\" x1=\"178.5\" x2=\"253.5\" y1=\"191.9375\" y2=\"191.9375\"/></a><!--MD5=[b9389687b975829384b498ac4b7476b2]\n",
       "class E8--><a href=\"psysml:96dfc0dc-2946-48da-b50d-9c346f08b52f\" target=\"_top\" title=\"psysml:96dfc0dc-2946-48da-b50d-9c346f08b52f\" xlink:actuate=\"onRequest\" xlink:href=\"psysml:96dfc0dc-2946-48da-b50d-9c346f08b52f\" xlink:show=\"new\" xlink:title=\"psysml:96dfc0dc-2946-48da-b50d-9c346f08b52f\" xlink:type=\"simple\"><rect fill=\"#FFFFFF\" height=\"45.9375\" id=\"E8\" rx=\"10\" ry=\"10\" style=\"stroke: #383838; stroke-width: 1.5;\" width=\"42\" x=\"290\" y=\"154\"/><text fill=\"#000000\" font-family=\"sans-serif\" font-size=\"12\" font-style=\"italic\" lengthAdjust=\"spacingAndGlyphs\" textLength=\"40\" x=\"291\" y=\"170.1387\">«view»</text><text fill=\"#000000\" font-family=\"sans-serif\" font-size=\"12\" lengthAdjust=\"spacingAndGlyphs\" textLength=\"22\" x=\"300\" y=\"184.1074\">v: V</text><line style=\"stroke: #383838; stroke-width: 1.5;\" x1=\"291\" x2=\"331\" y1=\"191.9375\" y2=\"191.9375\"/></a><!--MD5=[fd4143e9d270a159db93a4ea2a975926]\n",
       "class E9--><a href=\"psysml:fc5eb428-4a03-41d1-992b-aff2a13d3fb9\" target=\"_top\" title=\"psysml:fc5eb428-4a03-41d1-992b-aff2a13d3fb9\" xlink:actuate=\"onRequest\" xlink:href=\"psysml:fc5eb428-4a03-41d1-992b-aff2a13d3fb9\" xlink:show=\"new\" xlink:title=\"psysml:fc5eb428-4a03-41d1-992b-aff2a13d3fb9\" xlink:type=\"simple\"><rect fill=\"#FFFFFF\" height=\"45.9375\" id=\"E9\" rx=\"10\" ry=\"10\" style=\"stroke: #383838; stroke-width: 1.5;\" width=\"77\" x=\"301.5\" y=\"260\"/><text fill=\"#000000\" font-family=\"sans-serif\" font-size=\"12\" font-style=\"italic\" lengthAdjust=\"spacingAndGlyphs\" textLength=\"75\" x=\"302.5\" y=\"276.1387\">«rendering»</text><text fill=\"#000000\" font-family=\"sans-serif\" font-size=\"12\" lengthAdjust=\"spacingAndGlyphs\" textLength=\"13\" x=\"333.5\" y=\"290.1074\">r1</text><line style=\"stroke: #383838; stroke-width: 1.5;\" x1=\"302.5\" x2=\"377.5\" y1=\"297.9375\" y2=\"297.9375\"/></a><a href=\"psysml:6d9f5c34-02db-4c22-b8ae-ed1a072d5ac7\" target=\"_top\" title=\"psysml:6d9f5c34-02db-4c22-b8ae-ed1a072d5ac7\" xlink:actuate=\"onRequest\" xlink:href=\"psysml:6d9f5c34-02db-4c22-b8ae-ed1a072d5ac7\" xlink:show=\"new\" xlink:title=\"psysml:6d9f5c34-02db-4c22-b8ae-ed1a072d5ac7\" xlink:type=\"simple\"><polygon fill=\"#FFFFFF\" points=\"122,41,138,41,145,63.2969,152,63.2969,152,93.5938,122,93.5938,122,41\" style=\"stroke: #000000; stroke-width: 1.5;\"/><line style=\"stroke: #000000; stroke-width: 1.5;\" x1=\"122\" x2=\"145\" y1=\"63.2969\" y2=\"63.2969\"/><text fill=\"#000000\" font-family=\"sans-serif\" font-size=\"14\" font-weight=\"bold\" lengthAdjust=\"spacingAndGlyphs\" textLength=\"10\" x=\"126\" y=\"55.9951\">P</text></a><!--MD5=[85d356282659285ab4b2cfe2f634dd2b]\n",
       "reverse link E5 to E6--><a href=\"psysml:b39da276-6b98-4aad-85bf-f9ecfc55683d\" target=\"_top\" title=\"psysml:b39da276-6b98-4aad-85bf-f9ecfc55683d\" xlink:actuate=\"onRequest\" xlink:href=\"psysml:b39da276-6b98-4aad-85bf-f9ecfc55683d\" xlink:show=\"new\" xlink:title=\"psysml:b39da276-6b98-4aad-85bf-f9ecfc55683d\" xlink:type=\"simple\"><path d=\"M218.61,96.57 C190.28,114.48 154.1,137.36 127.85,153.96 \" fill=\"none\" id=\"E5&lt;-E6\" style=\"stroke: #383838; stroke-width: 1.0;\"/><polygon fill=\"#383838\" points=\"229.82,89.48,222.6111,89.2999,219.6723,95.8849,226.8811,96.0651,229.82,89.48\" style=\"stroke: #383838; stroke-width: 1.0;\"/></a><!--MD5=[a717450b82c80b9240a525fa862496af]\n",
       "link E6 to E3--><a href=\"psysml:7b3d769f-4c56-4413-aa9f-0104e9507d6b\" target=\"_top\" title=\"psysml:7b3d769f-4c56-4413-aa9f-0104e9507d6b\" xlink:actuate=\"onRequest\" xlink:href=\"psysml:7b3d769f-4c56-4413-aa9f-0104e9507d6b\" xlink:show=\"new\" xlink:title=\"psysml:7b3d769f-4c56-4413-aa9f-0104e9507d6b\" xlink:type=\"simple\"><path d=\"M90.46,200.06 C89.12,211.64 87.44,226.23 85.86,239.87 \" fill=\"none\" id=\"E6-&gt;E3\" style=\"stroke: #383838; stroke-width: 1.0;\"/><polygon fill=\"#FFFFFF\" points=\"83.54,259.98,78.757,240.3046,92.6653,241.9044,83.54,259.98\" style=\"stroke: #383838; stroke-width: 1.0;\"/><ellipse cx=\"81.3953\" cy=\"234.8704\" fill=\"#383838\" rx=\"2\" ry=\"2\" style=\"stroke: #383838; stroke-width: 1.0;\"/><ellipse cx=\"91.3298\" cy=\"236.0132\" fill=\"#383838\" rx=\"2\" ry=\"2\" style=\"stroke: #383838; stroke-width: 1.0;\"/></a><!--MD5=[6bdd27f9905911a7e892a3dc65cf6b7c]\n",
       "link E7 to E4--><a href=\"psysml:f768404d-501b-4614-8ab9-e2515f32fafd\" target=\"_top\" title=\"psysml:f768404d-501b-4614-8ab9-e2515f32fafd\" xlink:actuate=\"onRequest\" xlink:href=\"psysml:f768404d-501b-4614-8ab9-e2515f32fafd\" xlink:show=\"new\" xlink:title=\"psysml:f768404d-501b-4614-8ab9-e2515f32fafd\" xlink:type=\"simple\"><path d=\"M216,200.06 C216,211.64 216,226.23 216,239.87 \" fill=\"none\" id=\"E7-&gt;E4\" style=\"stroke: #383838; stroke-width: 1.0;\"/><polygon fill=\"#FFFFFF\" points=\"216,259.98,209,240.98,223,240.98,216,259.98\" style=\"stroke: #383838; stroke-width: 1.0;\"/><ellipse cx=\"211\" cy=\"235.28\" fill=\"#383838\" rx=\"2\" ry=\"2\" style=\"stroke: #383838; stroke-width: 1.0;\"/><ellipse cx=\"221\" cy=\"235.28\" fill=\"#383838\" rx=\"2\" ry=\"2\" style=\"stroke: #383838; stroke-width: 1.0;\"/></a><!--MD5=[452b418e7f8a40397a49b8c0a78acc5b]\n",
       "reverse link E5 to E7--><a href=\"psysml:5db0ac38-23f9-426f-a666-7fa33ad35708\" target=\"_top\" title=\"psysml:5db0ac38-23f9-426f-a666-7fa33ad35708\" xlink:actuate=\"onRequest\" xlink:href=\"psysml:5db0ac38-23f9-426f-a666-7fa33ad35708\" xlink:show=\"new\" xlink:title=\"psysml:5db0ac38-23f9-426f-a666-7fa33ad35708\" xlink:type=\"simple\"><path d=\"M248.1,102.57 C240.81,119.26 232.23,138.89 225.77,153.65 \" fill=\"none\" id=\"E5&lt;-E7\" style=\"stroke: #383838; stroke-width: 1.0;\"/><polygon fill=\"#383838\" points=\"253.38,90.51,247.31,94.4029,248.5688,101.5033,254.6388,97.6104,253.38,90.51\" style=\"stroke: #383838; stroke-width: 1.0;\"/><text fill=\"#000000\" font-family=\"sans-serif\" font-size=\"13\" lengthAdjust=\"spacingAndGlyphs\" textLength=\"24\" x=\"201.1986\" y=\"142.8366\">0..1</text></a><!--MD5=[1ccb2481ffa92f8d51a74ee30c51832a]\n",
       "link E8 to E5--><a href=\"psysml:2ecacd66-b174-4fa5-a1f0-5f98a8e6e629\" target=\"_top\" title=\"psysml:2ecacd66-b174-4fa5-a1f0-5f98a8e6e629\" xlink:actuate=\"onRequest\" xlink:href=\"psysml:2ecacd66-b174-4fa5-a1f0-5f98a8e6e629\" xlink:show=\"new\" xlink:title=\"psysml:2ecacd66-b174-4fa5-a1f0-5f98a8e6e629\" xlink:type=\"simple\"><path d=\"M312.22,153.65 C308.53,140.48 301.55,123.44 293.74,108.07 \" fill=\"none\" id=\"E8-&gt;E5\" style=\"stroke: #383838; stroke-width: 1.0;\"/><polygon fill=\"#FFFFFF\" points=\"283.97,90.51,299.3209,103.7142,287.0851,110.5174,283.97,90.51\" style=\"stroke: #383838; stroke-width: 1.0;\"/><ellipse cx=\"300.3428\" cy=\"109.6678\" fill=\"#383838\" rx=\"2\" ry=\"2\" style=\"stroke: #383838; stroke-width: 1.0;\"/><ellipse cx=\"291.6029\" cy=\"114.5273\" fill=\"#383838\" rx=\"2\" ry=\"2\" style=\"stroke: #383838; stroke-width: 1.0;\"/></a><!--MD5=[827760032d119d06bbc92f75530fd7ae]\n",
       "reverse link E5 to E8--><a href=\"psysml:96dfc0dc-2946-48da-b50d-9c346f08b52f\" target=\"_top\" title=\"psysml:96dfc0dc-2946-48da-b50d-9c346f08b52f\" xlink:actuate=\"onRequest\" xlink:href=\"psysml:96dfc0dc-2946-48da-b50d-9c346f08b52f\" xlink:show=\"new\" xlink:title=\"psysml:96dfc0dc-2946-48da-b50d-9c346f08b52f\" xlink:type=\"simple\"><path d=\"M266.44,103.07 C272.49,119.65 281.62,139.03 290.44,153.65 \" fill=\"none\" id=\"E5&lt;-E8\" style=\"stroke: #383838; stroke-width: 1.0;\"/><polygon fill=\"#383838\" points=\"262.31,90.51,260.3836,97.459,266.0572,101.9099,267.9836,94.9609,262.31,90.51\" style=\"stroke: #383838; stroke-width: 1.0;\"/><text fill=\"#000000\" font-family=\"sans-serif\" font-size=\"13\" lengthAdjust=\"spacingAndGlyphs\" textLength=\"7\" x=\"277.2746\" y=\"142.8366\">*</text></a><!--MD5=[22f5b4bae7e060dce8a1c8021efdb95b]\n",
       "reverse link E8 to E9--><a href=\"psysml:fc5eb428-4a03-41d1-992b-aff2a13d3fb9\" target=\"_top\" title=\"psysml:fc5eb428-4a03-41d1-992b-aff2a13d3fb9\" xlink:actuate=\"onRequest\" xlink:href=\"psysml:fc5eb428-4a03-41d1-992b-aff2a13d3fb9\" xlink:show=\"new\" xlink:title=\"psysml:fc5eb428-4a03-41d1-992b-aff2a13d3fb9\" xlink:type=\"simple\"><path d=\"M320.75,212.96 C325.08,228.51 330.05,246.33 333.86,259.98 \" fill=\"none\" id=\"E8&lt;-E9\" style=\"stroke: #383838; stroke-width: 1.0;\"/><polygon fill=\"#383838\" points=\"317.15,200.06,314.9066,206.9133,320.3699,211.6199,322.6133,204.7667,317.15,200.06\" style=\"stroke: #383838; stroke-width: 1.0;\"/></a><!--MD5=[23d6fe38090e5603e8ab6475ded2af13]\n",
       "@startuml\r\n",
       "skinparam monochrome true\r\n",
       "skinparam classbackgroundcolor white\r\n",
       "skinparam shadowing false\r\n",
       "skinparam wrapWidth 300\r\n",
       "hide circle\r\n",
       "\r\n",
       "package \"ViewTest\" as E1  [[psysml:fb02ed11-6398-4cea-b135-53d0cca9c478 ]]  {\r\n",
       "package \"P\" as E2  [[psysml:6d9f5c34-02db-4c22-b8ae-ed1a072d5ac7 ]]  {\r\n",
       "}\r\n",
       "comp def \"VP\" as E3  <<(T,blue)viewpoint def>> [[psysml:436e526f-0cc5-474d-8f19-4580d940df20 ]] {\r\n",
       "}\r\n",
       "comp def \"R\" as E4  <<(T,blue)rendering def>> [[psysml:053dc08e-a8e7-4770-acc6-30068883d6d6 ]] {\r\n",
       "}\r\n",
       "comp def \"V\" as E5  <<(T,blue)view def>> [[psysml:2fa1d21f-0378-4832-ab0e-3c490c491fc9 ]] {\r\n",
       "}\r\n",
       "comp usage \"vp: VP\" as E6  <<(T,blue)viewpoint>> [[psysml:b39da276-6b98-4aad-85bf-f9ecfc55683d ]] {\r\n",
       "}\r\n",
       "comp usage \"r: R\" as E7  <<(T,blue)rendering>> [[psysml:5db0ac38-23f9-426f-a666-7fa33ad35708 ]] {\r\n",
       "}\r\n",
       "comp usage \"v: V\" as E8  <<(T,blue)view>> [[psysml:96dfc0dc-2946-48da-b50d-9c346f08b52f ]] {\r\n",
       "}\r\n",
       "comp usage \"r1\" as E9  <<(T,blue)rendering>> [[psysml:fc5eb428-4a03-41d1-992b-aff2a13d3fb9 ]] {\r\n",
       "}\r\n",
       "E5 *- - E6 [[psysml:b39da276-6b98-4aad-85bf-f9ecfc55683d ]] \r\n",
       "E6 - -:|> E3 [[psysml:7b3d769f-4c56-4413-aa9f-0104e9507d6b ]] \r\n",
       "E7 - -:|> E4 [[psysml:f768404d-501b-4614-8ab9-e2515f32fafd ]] \r\n",
       "E5 *- - \"0..1\"E7 [[psysml:5db0ac38-23f9-426f-a666-7fa33ad35708 ]] \r\n",
       "E8 - -:|> E5 [[psysml:2ecacd66-b174-4fa5-a1f0-5f98a8e6e629 ]] \r\n",
       "E5 *- - \"*\"E8 [[psysml:96dfc0dc-2946-48da-b50d-9c346f08b52f ]] \r\n",
       "E8 *- - E9 [[psysml:fc5eb428-4a03-41d1-992b-aff2a13d3fb9 ]] \r\n",
       "}\r\n",
       "@enduml\r\n",
       "\n",
       "PlantUML version 1.2020.13(Sat Jun 13 12:26:38 UTC 2020)\n",
       "(EPL source distribution)\n",
       "Java Runtime: OpenJDK Runtime Environment\n",
       "JVM: OpenJDK 64-Bit Server VM\n",
       "Default Encoding: UTF-8\n",
       "Language: en\n",
       "Country: null\n",
       "--></g></svg>"
      ]
     },
     "execution_count": 42,
     "metadata": {},
     "output_type": "execute_result"
    }
   ],
   "source": [
    "%viz --style=\"DEFAULT\" --view=\"Sequence\" \"ViewTest\""
   ]
  },
  {
   "cell_type": "code",
   "execution_count": 43,
   "id": "foster-aging",
   "metadata": {
    "execution": {
     "iopub.execute_input": "2021-03-24T16:32:14.173417Z",
     "iopub.status.busy": "2021-03-24T16:32:14.172822Z",
     "iopub.status.idle": "2021-03-24T16:32:14.207004Z",
     "shell.execute_reply": "2021-03-24T16:32:14.205517Z"
    }
   },
   "outputs": [
    {
     "data": {
      "image/svg+xml": [
       "<?xml version=\"1.0\" encoding=\"UTF-8\" standalone=\"no\"?><svg xmlns=\"http://www.w3.org/2000/svg\" xmlns:xlink=\"http://www.w3.org/1999/xlink\" contentScriptType=\"application/ecmascript\" contentStyleType=\"text/css\" height=\"334px\" preserveAspectRatio=\"none\" style=\"width:417px;height:334px;\" version=\"1.1\" viewBox=\"0 0 417 334\" width=\"417px\" zoomAndPan=\"magnify\"><defs/><g><!--MD5=[fbc87193dbaf4d95561dea2c320d4a47]\n",
       "cluster E1--><a href=\"psysml:fb02ed11-6398-4cea-b135-53d0cca9c478\" target=\"_top\" title=\"psysml:fb02ed11-6398-4cea-b135-53d0cca9c478\" xlink:actuate=\"onRequest\" xlink:href=\"psysml:fb02ed11-6398-4cea-b135-53d0cca9c478\" xlink:show=\"new\" xlink:title=\"psysml:fb02ed11-6398-4cea-b135-53d0cca9c478\" xlink:type=\"simple\"><polygon fill=\"#FFFFFF\" points=\"16,6,96,6,103,28.2969,395,28.2969,395,322,16,322,16,6\" style=\"stroke: #000000; stroke-width: 1.5;\"/><line style=\"stroke: #000000; stroke-width: 1.5;\" x1=\"16\" x2=\"103\" y1=\"28.2969\" y2=\"28.2969\"/><text fill=\"#000000\" font-family=\"sans-serif\" font-size=\"14\" font-weight=\"bold\" lengthAdjust=\"spacingAndGlyphs\" textLength=\"74\" x=\"20\" y=\"20.9951\">ViewTest</text></a><!--MD5=[09b614a08d8cba4a07c9adeb5e0fee81]\n",
       "class E3--><a href=\"psysml:436e526f-0cc5-474d-8f19-4580d940df20\" target=\"_top\" title=\"psysml:436e526f-0cc5-474d-8f19-4580d940df20\" xlink:actuate=\"onRequest\" xlink:href=\"psysml:436e526f-0cc5-474d-8f19-4580d940df20\" xlink:show=\"new\" xlink:title=\"psysml:436e526f-0cc5-474d-8f19-4580d940df20\" xlink:type=\"simple\"><rect fill=\"#FFFFFF\" height=\"45.9375\" id=\"E3\" style=\"stroke: #383838; stroke-width: 1.5;\" width=\"98\" x=\"32\" y=\"260\"/><text fill=\"#000000\" font-family=\"sans-serif\" font-size=\"12\" font-style=\"italic\" lengthAdjust=\"spacingAndGlyphs\" textLength=\"96\" x=\"33\" y=\"276.1387\">«viewpoint def»</text><text fill=\"#000000\" font-family=\"sans-serif\" font-size=\"12\" lengthAdjust=\"spacingAndGlyphs\" textLength=\"16\" x=\"73\" y=\"290.1074\">VP</text><line style=\"stroke: #383838; stroke-width: 1.5;\" x1=\"33\" x2=\"129\" y1=\"297.9375\" y2=\"297.9375\"/></a><!--MD5=[ebbe1d658d1005bcc118a6aa81145e00]\n",
       "class E4--><a href=\"psysml:053dc08e-a8e7-4770-acc6-30068883d6d6\" target=\"_top\" title=\"psysml:053dc08e-a8e7-4770-acc6-30068883d6d6\" xlink:actuate=\"onRequest\" xlink:href=\"psysml:053dc08e-a8e7-4770-acc6-30068883d6d6\" xlink:show=\"new\" xlink:title=\"psysml:053dc08e-a8e7-4770-acc6-30068883d6d6\" xlink:type=\"simple\"><rect fill=\"#FFFFFF\" height=\"45.9375\" id=\"E4\" style=\"stroke: #383838; stroke-width: 1.5;\" width=\"101\" x=\"165.5\" y=\"260\"/><text fill=\"#000000\" font-family=\"sans-serif\" font-size=\"12\" font-style=\"italic\" lengthAdjust=\"spacingAndGlyphs\" textLength=\"99\" x=\"166.5\" y=\"276.1387\">«rendering def»</text><text fill=\"#000000\" font-family=\"sans-serif\" font-size=\"12\" lengthAdjust=\"spacingAndGlyphs\" textLength=\"8\" x=\"212\" y=\"290.1074\">R</text><line style=\"stroke: #383838; stroke-width: 1.5;\" x1=\"166.5\" x2=\"265.5\" y1=\"297.9375\" y2=\"297.9375\"/></a><!--MD5=[270fce915f116d4de14055a7c1d9a0f3]\n",
       "class E5--><a href=\"psysml:2fa1d21f-0378-4832-ab0e-3c490c491fc9\" target=\"_top\" title=\"psysml:2fa1d21f-0378-4832-ab0e-3c490c491fc9\" xlink:actuate=\"onRequest\" xlink:href=\"psysml:2fa1d21f-0378-4832-ab0e-3c490c491fc9\" xlink:show=\"new\" xlink:title=\"psysml:2fa1d21f-0378-4832-ab0e-3c490c491fc9\" xlink:type=\"simple\"><rect fill=\"#FFFFFF\" height=\"45.9375\" id=\"E5\" style=\"stroke: #383838; stroke-width: 1.5;\" width=\"66\" x=\"230\" y=\"44.5\"/><text fill=\"#000000\" font-family=\"sans-serif\" font-size=\"12\" font-style=\"italic\" lengthAdjust=\"spacingAndGlyphs\" textLength=\"64\" x=\"231\" y=\"60.6387\">«view def»</text><text fill=\"#000000\" font-family=\"sans-serif\" font-size=\"12\" lengthAdjust=\"spacingAndGlyphs\" textLength=\"8\" x=\"259\" y=\"74.6074\">V</text><line style=\"stroke: #383838; stroke-width: 1.5;\" x1=\"231\" x2=\"295\" y1=\"82.4375\" y2=\"82.4375\"/></a><!--MD5=[60a26617385b1d2d0262a64233df1f8d]\n",
       "class E6--><a href=\"psysml:b39da276-6b98-4aad-85bf-f9ecfc55683d\" target=\"_top\" title=\"psysml:b39da276-6b98-4aad-85bf-f9ecfc55683d\" xlink:actuate=\"onRequest\" xlink:href=\"psysml:b39da276-6b98-4aad-85bf-f9ecfc55683d\" xlink:show=\"new\" xlink:title=\"psysml:b39da276-6b98-4aad-85bf-f9ecfc55683d\" xlink:type=\"simple\"><rect fill=\"#FFFFFF\" height=\"45.9375\" id=\"E6\" rx=\"10\" ry=\"10\" style=\"stroke: #383838; stroke-width: 1.5;\" width=\"74\" x=\"56\" y=\"154\"/><text fill=\"#000000\" font-family=\"sans-serif\" font-size=\"12\" font-style=\"italic\" lengthAdjust=\"spacingAndGlyphs\" textLength=\"72\" x=\"57\" y=\"170.1387\">«viewpoint»</text><text fill=\"#000000\" font-family=\"sans-serif\" font-size=\"12\" lengthAdjust=\"spacingAndGlyphs\" textLength=\"38\" x=\"74\" y=\"184.1074\">vp: VP</text><line style=\"stroke: #383838; stroke-width: 1.5;\" x1=\"57\" x2=\"129\" y1=\"191.9375\" y2=\"191.9375\"/></a><!--MD5=[2156ba9850f5573cc1fc38a6a4b2f02b]\n",
       "class E7--><a href=\"psysml:5db0ac38-23f9-426f-a666-7fa33ad35708\" target=\"_top\" title=\"psysml:5db0ac38-23f9-426f-a666-7fa33ad35708\" xlink:actuate=\"onRequest\" xlink:href=\"psysml:5db0ac38-23f9-426f-a666-7fa33ad35708\" xlink:show=\"new\" xlink:title=\"psysml:5db0ac38-23f9-426f-a666-7fa33ad35708\" xlink:type=\"simple\"><rect fill=\"#FFFFFF\" height=\"45.9375\" id=\"E7\" rx=\"10\" ry=\"10\" style=\"stroke: #383838; stroke-width: 1.5;\" width=\"77\" x=\"177.5\" y=\"154\"/><text fill=\"#000000\" font-family=\"sans-serif\" font-size=\"12\" font-style=\"italic\" lengthAdjust=\"spacingAndGlyphs\" textLength=\"75\" x=\"178.5\" y=\"170.1387\">«rendering»</text><text fill=\"#000000\" font-family=\"sans-serif\" font-size=\"12\" lengthAdjust=\"spacingAndGlyphs\" textLength=\"21\" x=\"205.5\" y=\"184.1074\">r: R</text><line style=\"stroke: #383838; stroke-width: 1.5;\" x1=\"178.5\" x2=\"253.5\" y1=\"191.9375\" y2=\"191.9375\"/></a><!--MD5=[b9389687b975829384b498ac4b7476b2]\n",
       "class E8--><a href=\"psysml:96dfc0dc-2946-48da-b50d-9c346f08b52f\" target=\"_top\" title=\"psysml:96dfc0dc-2946-48da-b50d-9c346f08b52f\" xlink:actuate=\"onRequest\" xlink:href=\"psysml:96dfc0dc-2946-48da-b50d-9c346f08b52f\" xlink:show=\"new\" xlink:title=\"psysml:96dfc0dc-2946-48da-b50d-9c346f08b52f\" xlink:type=\"simple\"><rect fill=\"#FFFFFF\" height=\"45.9375\" id=\"E8\" rx=\"10\" ry=\"10\" style=\"stroke: #383838; stroke-width: 1.5;\" width=\"42\" x=\"290\" y=\"154\"/><text fill=\"#000000\" font-family=\"sans-serif\" font-size=\"12\" font-style=\"italic\" lengthAdjust=\"spacingAndGlyphs\" textLength=\"40\" x=\"291\" y=\"170.1387\">«view»</text><text fill=\"#000000\" font-family=\"sans-serif\" font-size=\"12\" lengthAdjust=\"spacingAndGlyphs\" textLength=\"22\" x=\"300\" y=\"184.1074\">v: V</text><line style=\"stroke: #383838; stroke-width: 1.5;\" x1=\"291\" x2=\"331\" y1=\"191.9375\" y2=\"191.9375\"/></a><!--MD5=[fd4143e9d270a159db93a4ea2a975926]\n",
       "class E9--><a href=\"psysml:fc5eb428-4a03-41d1-992b-aff2a13d3fb9\" target=\"_top\" title=\"psysml:fc5eb428-4a03-41d1-992b-aff2a13d3fb9\" xlink:actuate=\"onRequest\" xlink:href=\"psysml:fc5eb428-4a03-41d1-992b-aff2a13d3fb9\" xlink:show=\"new\" xlink:title=\"psysml:fc5eb428-4a03-41d1-992b-aff2a13d3fb9\" xlink:type=\"simple\"><rect fill=\"#FFFFFF\" height=\"45.9375\" id=\"E9\" rx=\"10\" ry=\"10\" style=\"stroke: #383838; stroke-width: 1.5;\" width=\"77\" x=\"301.5\" y=\"260\"/><text fill=\"#000000\" font-family=\"sans-serif\" font-size=\"12\" font-style=\"italic\" lengthAdjust=\"spacingAndGlyphs\" textLength=\"75\" x=\"302.5\" y=\"276.1387\">«rendering»</text><text fill=\"#000000\" font-family=\"sans-serif\" font-size=\"12\" lengthAdjust=\"spacingAndGlyphs\" textLength=\"13\" x=\"333.5\" y=\"290.1074\">r1</text><line style=\"stroke: #383838; stroke-width: 1.5;\" x1=\"302.5\" x2=\"377.5\" y1=\"297.9375\" y2=\"297.9375\"/></a><a href=\"psysml:6d9f5c34-02db-4c22-b8ae-ed1a072d5ac7\" target=\"_top\" title=\"psysml:6d9f5c34-02db-4c22-b8ae-ed1a072d5ac7\" xlink:actuate=\"onRequest\" xlink:href=\"psysml:6d9f5c34-02db-4c22-b8ae-ed1a072d5ac7\" xlink:show=\"new\" xlink:title=\"psysml:6d9f5c34-02db-4c22-b8ae-ed1a072d5ac7\" xlink:type=\"simple\"><polygon fill=\"#FFFFFF\" points=\"122,41,138,41,145,63.2969,152,63.2969,152,93.5938,122,93.5938,122,41\" style=\"stroke: #000000; stroke-width: 1.5;\"/><line style=\"stroke: #000000; stroke-width: 1.5;\" x1=\"122\" x2=\"145\" y1=\"63.2969\" y2=\"63.2969\"/><text fill=\"#000000\" font-family=\"sans-serif\" font-size=\"14\" font-weight=\"bold\" lengthAdjust=\"spacingAndGlyphs\" textLength=\"10\" x=\"126\" y=\"55.9951\">P</text></a><!--MD5=[85d356282659285ab4b2cfe2f634dd2b]\n",
       "reverse link E5 to E6--><a href=\"psysml:b39da276-6b98-4aad-85bf-f9ecfc55683d\" target=\"_top\" title=\"psysml:b39da276-6b98-4aad-85bf-f9ecfc55683d\" xlink:actuate=\"onRequest\" xlink:href=\"psysml:b39da276-6b98-4aad-85bf-f9ecfc55683d\" xlink:show=\"new\" xlink:title=\"psysml:b39da276-6b98-4aad-85bf-f9ecfc55683d\" xlink:type=\"simple\"><path d=\"M218.61,96.57 C190.28,114.48 154.1,137.36 127.85,153.96 \" fill=\"none\" id=\"E5&lt;-E6\" style=\"stroke: #383838; stroke-width: 1.0;\"/><polygon fill=\"#383838\" points=\"229.82,89.48,222.6111,89.2999,219.6723,95.8849,226.8811,96.0651,229.82,89.48\" style=\"stroke: #383838; stroke-width: 1.0;\"/></a><!--MD5=[a717450b82c80b9240a525fa862496af]\n",
       "link E6 to E3--><a href=\"psysml:7b3d769f-4c56-4413-aa9f-0104e9507d6b\" target=\"_top\" title=\"psysml:7b3d769f-4c56-4413-aa9f-0104e9507d6b\" xlink:actuate=\"onRequest\" xlink:href=\"psysml:7b3d769f-4c56-4413-aa9f-0104e9507d6b\" xlink:show=\"new\" xlink:title=\"psysml:7b3d769f-4c56-4413-aa9f-0104e9507d6b\" xlink:type=\"simple\"><path d=\"M90.46,200.06 C89.12,211.64 87.44,226.23 85.86,239.87 \" fill=\"none\" id=\"E6-&gt;E3\" style=\"stroke: #383838; stroke-width: 1.0;\"/><polygon fill=\"#FFFFFF\" points=\"83.54,259.98,78.757,240.3046,92.6653,241.9044,83.54,259.98\" style=\"stroke: #383838; stroke-width: 1.0;\"/><ellipse cx=\"81.3953\" cy=\"234.8704\" fill=\"#383838\" rx=\"2\" ry=\"2\" style=\"stroke: #383838; stroke-width: 1.0;\"/><ellipse cx=\"91.3298\" cy=\"236.0132\" fill=\"#383838\" rx=\"2\" ry=\"2\" style=\"stroke: #383838; stroke-width: 1.0;\"/></a><!--MD5=[6bdd27f9905911a7e892a3dc65cf6b7c]\n",
       "link E7 to E4--><a href=\"psysml:f768404d-501b-4614-8ab9-e2515f32fafd\" target=\"_top\" title=\"psysml:f768404d-501b-4614-8ab9-e2515f32fafd\" xlink:actuate=\"onRequest\" xlink:href=\"psysml:f768404d-501b-4614-8ab9-e2515f32fafd\" xlink:show=\"new\" xlink:title=\"psysml:f768404d-501b-4614-8ab9-e2515f32fafd\" xlink:type=\"simple\"><path d=\"M216,200.06 C216,211.64 216,226.23 216,239.87 \" fill=\"none\" id=\"E7-&gt;E4\" style=\"stroke: #383838; stroke-width: 1.0;\"/><polygon fill=\"#FFFFFF\" points=\"216,259.98,209,240.98,223,240.98,216,259.98\" style=\"stroke: #383838; stroke-width: 1.0;\"/><ellipse cx=\"211\" cy=\"235.28\" fill=\"#383838\" rx=\"2\" ry=\"2\" style=\"stroke: #383838; stroke-width: 1.0;\"/><ellipse cx=\"221\" cy=\"235.28\" fill=\"#383838\" rx=\"2\" ry=\"2\" style=\"stroke: #383838; stroke-width: 1.0;\"/></a><!--MD5=[452b418e7f8a40397a49b8c0a78acc5b]\n",
       "reverse link E5 to E7--><a href=\"psysml:5db0ac38-23f9-426f-a666-7fa33ad35708\" target=\"_top\" title=\"psysml:5db0ac38-23f9-426f-a666-7fa33ad35708\" xlink:actuate=\"onRequest\" xlink:href=\"psysml:5db0ac38-23f9-426f-a666-7fa33ad35708\" xlink:show=\"new\" xlink:title=\"psysml:5db0ac38-23f9-426f-a666-7fa33ad35708\" xlink:type=\"simple\"><path d=\"M248.1,102.57 C240.81,119.26 232.23,138.89 225.77,153.65 \" fill=\"none\" id=\"E5&lt;-E7\" style=\"stroke: #383838; stroke-width: 1.0;\"/><polygon fill=\"#383838\" points=\"253.38,90.51,247.31,94.4029,248.5688,101.5033,254.6388,97.6104,253.38,90.51\" style=\"stroke: #383838; stroke-width: 1.0;\"/><text fill=\"#000000\" font-family=\"sans-serif\" font-size=\"13\" lengthAdjust=\"spacingAndGlyphs\" textLength=\"24\" x=\"201.1986\" y=\"142.8366\">0..1</text></a><!--MD5=[1ccb2481ffa92f8d51a74ee30c51832a]\n",
       "link E8 to E5--><a href=\"psysml:2ecacd66-b174-4fa5-a1f0-5f98a8e6e629\" target=\"_top\" title=\"psysml:2ecacd66-b174-4fa5-a1f0-5f98a8e6e629\" xlink:actuate=\"onRequest\" xlink:href=\"psysml:2ecacd66-b174-4fa5-a1f0-5f98a8e6e629\" xlink:show=\"new\" xlink:title=\"psysml:2ecacd66-b174-4fa5-a1f0-5f98a8e6e629\" xlink:type=\"simple\"><path d=\"M312.22,153.65 C308.53,140.48 301.55,123.44 293.74,108.07 \" fill=\"none\" id=\"E8-&gt;E5\" style=\"stroke: #383838; stroke-width: 1.0;\"/><polygon fill=\"#FFFFFF\" points=\"283.97,90.51,299.3209,103.7142,287.0851,110.5174,283.97,90.51\" style=\"stroke: #383838; stroke-width: 1.0;\"/><ellipse cx=\"300.3428\" cy=\"109.6678\" fill=\"#383838\" rx=\"2\" ry=\"2\" style=\"stroke: #383838; stroke-width: 1.0;\"/><ellipse cx=\"291.6029\" cy=\"114.5273\" fill=\"#383838\" rx=\"2\" ry=\"2\" style=\"stroke: #383838; stroke-width: 1.0;\"/></a><!--MD5=[827760032d119d06bbc92f75530fd7ae]\n",
       "reverse link E5 to E8--><a href=\"psysml:96dfc0dc-2946-48da-b50d-9c346f08b52f\" target=\"_top\" title=\"psysml:96dfc0dc-2946-48da-b50d-9c346f08b52f\" xlink:actuate=\"onRequest\" xlink:href=\"psysml:96dfc0dc-2946-48da-b50d-9c346f08b52f\" xlink:show=\"new\" xlink:title=\"psysml:96dfc0dc-2946-48da-b50d-9c346f08b52f\" xlink:type=\"simple\"><path d=\"M266.44,103.07 C272.49,119.65 281.62,139.03 290.44,153.65 \" fill=\"none\" id=\"E5&lt;-E8\" style=\"stroke: #383838; stroke-width: 1.0;\"/><polygon fill=\"#383838\" points=\"262.31,90.51,260.3836,97.459,266.0572,101.9099,267.9836,94.9609,262.31,90.51\" style=\"stroke: #383838; stroke-width: 1.0;\"/><text fill=\"#000000\" font-family=\"sans-serif\" font-size=\"13\" lengthAdjust=\"spacingAndGlyphs\" textLength=\"7\" x=\"277.2746\" y=\"142.8366\">*</text></a><!--MD5=[22f5b4bae7e060dce8a1c8021efdb95b]\n",
       "reverse link E8 to E9--><a href=\"psysml:fc5eb428-4a03-41d1-992b-aff2a13d3fb9\" target=\"_top\" title=\"psysml:fc5eb428-4a03-41d1-992b-aff2a13d3fb9\" xlink:actuate=\"onRequest\" xlink:href=\"psysml:fc5eb428-4a03-41d1-992b-aff2a13d3fb9\" xlink:show=\"new\" xlink:title=\"psysml:fc5eb428-4a03-41d1-992b-aff2a13d3fb9\" xlink:type=\"simple\"><path d=\"M320.75,212.96 C325.08,228.51 330.05,246.33 333.86,259.98 \" fill=\"none\" id=\"E8&lt;-E9\" style=\"stroke: #383838; stroke-width: 1.0;\"/><polygon fill=\"#383838\" points=\"317.15,200.06,314.9066,206.9133,320.3699,211.6199,322.6133,204.7667,317.15,200.06\" style=\"stroke: #383838; stroke-width: 1.0;\"/></a><!--MD5=[23d6fe38090e5603e8ab6475ded2af13]\n",
       "@startuml\r\n",
       "skinparam monochrome true\r\n",
       "skinparam classbackgroundcolor white\r\n",
       "skinparam shadowing false\r\n",
       "skinparam wrapWidth 300\r\n",
       "hide circle\r\n",
       "\r\n",
       "package \"ViewTest\" as E1  [[psysml:fb02ed11-6398-4cea-b135-53d0cca9c478 ]]  {\r\n",
       "package \"P\" as E2  [[psysml:6d9f5c34-02db-4c22-b8ae-ed1a072d5ac7 ]]  {\r\n",
       "}\r\n",
       "comp def \"VP\" as E3  <<(T,blue)viewpoint def>> [[psysml:436e526f-0cc5-474d-8f19-4580d940df20 ]] {\r\n",
       "}\r\n",
       "comp def \"R\" as E4  <<(T,blue)rendering def>> [[psysml:053dc08e-a8e7-4770-acc6-30068883d6d6 ]] {\r\n",
       "}\r\n",
       "comp def \"V\" as E5  <<(T,blue)view def>> [[psysml:2fa1d21f-0378-4832-ab0e-3c490c491fc9 ]] {\r\n",
       "}\r\n",
       "comp usage \"vp: VP\" as E6  <<(T,blue)viewpoint>> [[psysml:b39da276-6b98-4aad-85bf-f9ecfc55683d ]] {\r\n",
       "}\r\n",
       "comp usage \"r: R\" as E7  <<(T,blue)rendering>> [[psysml:5db0ac38-23f9-426f-a666-7fa33ad35708 ]] {\r\n",
       "}\r\n",
       "comp usage \"v: V\" as E8  <<(T,blue)view>> [[psysml:96dfc0dc-2946-48da-b50d-9c346f08b52f ]] {\r\n",
       "}\r\n",
       "comp usage \"r1\" as E9  <<(T,blue)rendering>> [[psysml:fc5eb428-4a03-41d1-992b-aff2a13d3fb9 ]] {\r\n",
       "}\r\n",
       "E5 *- - E6 [[psysml:b39da276-6b98-4aad-85bf-f9ecfc55683d ]] \r\n",
       "E6 - -:|> E3 [[psysml:7b3d769f-4c56-4413-aa9f-0104e9507d6b ]] \r\n",
       "E7 - -:|> E4 [[psysml:f768404d-501b-4614-8ab9-e2515f32fafd ]] \r\n",
       "E5 *- - \"0..1\"E7 [[psysml:5db0ac38-23f9-426f-a666-7fa33ad35708 ]] \r\n",
       "E8 - -:|> E5 [[psysml:2ecacd66-b174-4fa5-a1f0-5f98a8e6e629 ]] \r\n",
       "E5 *- - \"*\"E8 [[psysml:96dfc0dc-2946-48da-b50d-9c346f08b52f ]] \r\n",
       "E8 *- - E9 [[psysml:fc5eb428-4a03-41d1-992b-aff2a13d3fb9 ]] \r\n",
       "}\r\n",
       "@enduml\r\n",
       "\n",
       "PlantUML version 1.2020.13(Sat Jun 13 12:26:38 UTC 2020)\n",
       "(EPL source distribution)\n",
       "Java Runtime: OpenJDK Runtime Environment\n",
       "JVM: OpenJDK 64-Bit Server VM\n",
       "Default Encoding: UTF-8\n",
       "Language: en\n",
       "Country: null\n",
       "--></g></svg>"
      ]
     },
     "execution_count": 43,
     "metadata": {},
     "output_type": "execute_result"
    }
   ],
   "source": [
    "%viz --style=\"DEFAULT\" --view=\"MIXED\" \"ViewTest\""
   ]
  },
  {
   "cell_type": "code",
   "execution_count": 44,
   "id": "incorporated-casting",
   "metadata": {
    "execution": {
     "iopub.execute_input": "2021-03-24T16:32:14.257264Z",
     "iopub.status.busy": "2021-03-24T16:32:14.256812Z",
     "iopub.status.idle": "2021-03-24T16:32:14.296099Z",
     "shell.execute_reply": "2021-03-24T16:32:14.294428Z"
    }
   },
   "outputs": [
    {
     "data": {
      "image/svg+xml": [
       "<?xml version=\"1.0\" encoding=\"UTF-8\" standalone=\"no\"?><svg xmlns=\"http://www.w3.org/2000/svg\" xmlns:xlink=\"http://www.w3.org/1999/xlink\" contentScriptType=\"application/ecmascript\" contentStyleType=\"text/css\" height=\"334px\" preserveAspectRatio=\"none\" style=\"width:417px;height:334px;\" version=\"1.1\" viewBox=\"0 0 417 334\" width=\"417px\" zoomAndPan=\"magnify\"><defs/><g><!--MD5=[fbc87193dbaf4d95561dea2c320d4a47]\n",
       "cluster E1--><a href=\"psysml:fb02ed11-6398-4cea-b135-53d0cca9c478\" target=\"_top\" title=\"psysml:fb02ed11-6398-4cea-b135-53d0cca9c478\" xlink:actuate=\"onRequest\" xlink:href=\"psysml:fb02ed11-6398-4cea-b135-53d0cca9c478\" xlink:show=\"new\" xlink:title=\"psysml:fb02ed11-6398-4cea-b135-53d0cca9c478\" xlink:type=\"simple\"><polygon fill=\"#FFFFFF\" points=\"16,6,96,6,103,28.2969,395,28.2969,395,322,16,322,16,6\" style=\"stroke: #000000; stroke-width: 1.5;\"/><line style=\"stroke: #000000; stroke-width: 1.5;\" x1=\"16\" x2=\"103\" y1=\"28.2969\" y2=\"28.2969\"/><text fill=\"#000000\" font-family=\"sans-serif\" font-size=\"14\" font-weight=\"bold\" lengthAdjust=\"spacingAndGlyphs\" textLength=\"74\" x=\"20\" y=\"20.9951\">ViewTest</text></a><!--MD5=[09b614a08d8cba4a07c9adeb5e0fee81]\n",
       "class E3--><a href=\"psysml:436e526f-0cc5-474d-8f19-4580d940df20\" target=\"_top\" title=\"psysml:436e526f-0cc5-474d-8f19-4580d940df20\" xlink:actuate=\"onRequest\" xlink:href=\"psysml:436e526f-0cc5-474d-8f19-4580d940df20\" xlink:show=\"new\" xlink:title=\"psysml:436e526f-0cc5-474d-8f19-4580d940df20\" xlink:type=\"simple\"><rect fill=\"#FFFFFF\" height=\"45.9375\" id=\"E3\" style=\"stroke: #383838; stroke-width: 1.5;\" width=\"98\" x=\"32\" y=\"260\"/><text fill=\"#000000\" font-family=\"sans-serif\" font-size=\"12\" font-style=\"italic\" lengthAdjust=\"spacingAndGlyphs\" textLength=\"96\" x=\"33\" y=\"276.1387\">«viewpoint def»</text><text fill=\"#000000\" font-family=\"sans-serif\" font-size=\"12\" lengthAdjust=\"spacingAndGlyphs\" textLength=\"16\" x=\"73\" y=\"290.1074\">VP</text><line style=\"stroke: #383838; stroke-width: 1.5;\" x1=\"33\" x2=\"129\" y1=\"297.9375\" y2=\"297.9375\"/></a><!--MD5=[ebbe1d658d1005bcc118a6aa81145e00]\n",
       "class E4--><a href=\"psysml:053dc08e-a8e7-4770-acc6-30068883d6d6\" target=\"_top\" title=\"psysml:053dc08e-a8e7-4770-acc6-30068883d6d6\" xlink:actuate=\"onRequest\" xlink:href=\"psysml:053dc08e-a8e7-4770-acc6-30068883d6d6\" xlink:show=\"new\" xlink:title=\"psysml:053dc08e-a8e7-4770-acc6-30068883d6d6\" xlink:type=\"simple\"><rect fill=\"#FFFFFF\" height=\"45.9375\" id=\"E4\" style=\"stroke: #383838; stroke-width: 1.5;\" width=\"101\" x=\"165.5\" y=\"260\"/><text fill=\"#000000\" font-family=\"sans-serif\" font-size=\"12\" font-style=\"italic\" lengthAdjust=\"spacingAndGlyphs\" textLength=\"99\" x=\"166.5\" y=\"276.1387\">«rendering def»</text><text fill=\"#000000\" font-family=\"sans-serif\" font-size=\"12\" lengthAdjust=\"spacingAndGlyphs\" textLength=\"8\" x=\"212\" y=\"290.1074\">R</text><line style=\"stroke: #383838; stroke-width: 1.5;\" x1=\"166.5\" x2=\"265.5\" y1=\"297.9375\" y2=\"297.9375\"/></a><!--MD5=[270fce915f116d4de14055a7c1d9a0f3]\n",
       "class E5--><a href=\"psysml:2fa1d21f-0378-4832-ab0e-3c490c491fc9\" target=\"_top\" title=\"psysml:2fa1d21f-0378-4832-ab0e-3c490c491fc9\" xlink:actuate=\"onRequest\" xlink:href=\"psysml:2fa1d21f-0378-4832-ab0e-3c490c491fc9\" xlink:show=\"new\" xlink:title=\"psysml:2fa1d21f-0378-4832-ab0e-3c490c491fc9\" xlink:type=\"simple\"><rect fill=\"#FFFFFF\" height=\"45.9375\" id=\"E5\" style=\"stroke: #383838; stroke-width: 1.5;\" width=\"66\" x=\"230\" y=\"44.5\"/><text fill=\"#000000\" font-family=\"sans-serif\" font-size=\"12\" font-style=\"italic\" lengthAdjust=\"spacingAndGlyphs\" textLength=\"64\" x=\"231\" y=\"60.6387\">«view def»</text><text fill=\"#000000\" font-family=\"sans-serif\" font-size=\"12\" lengthAdjust=\"spacingAndGlyphs\" textLength=\"8\" x=\"259\" y=\"74.6074\">V</text><line style=\"stroke: #383838; stroke-width: 1.5;\" x1=\"231\" x2=\"295\" y1=\"82.4375\" y2=\"82.4375\"/></a><!--MD5=[60a26617385b1d2d0262a64233df1f8d]\n",
       "class E6--><a href=\"psysml:b39da276-6b98-4aad-85bf-f9ecfc55683d\" target=\"_top\" title=\"psysml:b39da276-6b98-4aad-85bf-f9ecfc55683d\" xlink:actuate=\"onRequest\" xlink:href=\"psysml:b39da276-6b98-4aad-85bf-f9ecfc55683d\" xlink:show=\"new\" xlink:title=\"psysml:b39da276-6b98-4aad-85bf-f9ecfc55683d\" xlink:type=\"simple\"><rect fill=\"#FFFFFF\" height=\"45.9375\" id=\"E6\" rx=\"10\" ry=\"10\" style=\"stroke: #383838; stroke-width: 1.5;\" width=\"74\" x=\"56\" y=\"154\"/><text fill=\"#000000\" font-family=\"sans-serif\" font-size=\"12\" font-style=\"italic\" lengthAdjust=\"spacingAndGlyphs\" textLength=\"72\" x=\"57\" y=\"170.1387\">«viewpoint»</text><text fill=\"#000000\" font-family=\"sans-serif\" font-size=\"12\" lengthAdjust=\"spacingAndGlyphs\" textLength=\"38\" x=\"74\" y=\"184.1074\">vp: VP</text><line style=\"stroke: #383838; stroke-width: 1.5;\" x1=\"57\" x2=\"129\" y1=\"191.9375\" y2=\"191.9375\"/></a><!--MD5=[2156ba9850f5573cc1fc38a6a4b2f02b]\n",
       "class E7--><a href=\"psysml:5db0ac38-23f9-426f-a666-7fa33ad35708\" target=\"_top\" title=\"psysml:5db0ac38-23f9-426f-a666-7fa33ad35708\" xlink:actuate=\"onRequest\" xlink:href=\"psysml:5db0ac38-23f9-426f-a666-7fa33ad35708\" xlink:show=\"new\" xlink:title=\"psysml:5db0ac38-23f9-426f-a666-7fa33ad35708\" xlink:type=\"simple\"><rect fill=\"#FFFFFF\" height=\"45.9375\" id=\"E7\" rx=\"10\" ry=\"10\" style=\"stroke: #383838; stroke-width: 1.5;\" width=\"77\" x=\"177.5\" y=\"154\"/><text fill=\"#000000\" font-family=\"sans-serif\" font-size=\"12\" font-style=\"italic\" lengthAdjust=\"spacingAndGlyphs\" textLength=\"75\" x=\"178.5\" y=\"170.1387\">«rendering»</text><text fill=\"#000000\" font-family=\"sans-serif\" font-size=\"12\" lengthAdjust=\"spacingAndGlyphs\" textLength=\"21\" x=\"205.5\" y=\"184.1074\">r: R</text><line style=\"stroke: #383838; stroke-width: 1.5;\" x1=\"178.5\" x2=\"253.5\" y1=\"191.9375\" y2=\"191.9375\"/></a><!--MD5=[b9389687b975829384b498ac4b7476b2]\n",
       "class E8--><a href=\"psysml:96dfc0dc-2946-48da-b50d-9c346f08b52f\" target=\"_top\" title=\"psysml:96dfc0dc-2946-48da-b50d-9c346f08b52f\" xlink:actuate=\"onRequest\" xlink:href=\"psysml:96dfc0dc-2946-48da-b50d-9c346f08b52f\" xlink:show=\"new\" xlink:title=\"psysml:96dfc0dc-2946-48da-b50d-9c346f08b52f\" xlink:type=\"simple\"><rect fill=\"#FFFFFF\" height=\"45.9375\" id=\"E8\" rx=\"10\" ry=\"10\" style=\"stroke: #383838; stroke-width: 1.5;\" width=\"42\" x=\"290\" y=\"154\"/><text fill=\"#000000\" font-family=\"sans-serif\" font-size=\"12\" font-style=\"italic\" lengthAdjust=\"spacingAndGlyphs\" textLength=\"40\" x=\"291\" y=\"170.1387\">«view»</text><text fill=\"#000000\" font-family=\"sans-serif\" font-size=\"12\" lengthAdjust=\"spacingAndGlyphs\" textLength=\"22\" x=\"300\" y=\"184.1074\">v: V</text><line style=\"stroke: #383838; stroke-width: 1.5;\" x1=\"291\" x2=\"331\" y1=\"191.9375\" y2=\"191.9375\"/></a><!--MD5=[fd4143e9d270a159db93a4ea2a975926]\n",
       "class E9--><a href=\"psysml:fc5eb428-4a03-41d1-992b-aff2a13d3fb9\" target=\"_top\" title=\"psysml:fc5eb428-4a03-41d1-992b-aff2a13d3fb9\" xlink:actuate=\"onRequest\" xlink:href=\"psysml:fc5eb428-4a03-41d1-992b-aff2a13d3fb9\" xlink:show=\"new\" xlink:title=\"psysml:fc5eb428-4a03-41d1-992b-aff2a13d3fb9\" xlink:type=\"simple\"><rect fill=\"#FFFFFF\" height=\"45.9375\" id=\"E9\" rx=\"10\" ry=\"10\" style=\"stroke: #383838; stroke-width: 1.5;\" width=\"77\" x=\"301.5\" y=\"260\"/><text fill=\"#000000\" font-family=\"sans-serif\" font-size=\"12\" font-style=\"italic\" lengthAdjust=\"spacingAndGlyphs\" textLength=\"75\" x=\"302.5\" y=\"276.1387\">«rendering»</text><text fill=\"#000000\" font-family=\"sans-serif\" font-size=\"12\" lengthAdjust=\"spacingAndGlyphs\" textLength=\"13\" x=\"333.5\" y=\"290.1074\">r1</text><line style=\"stroke: #383838; stroke-width: 1.5;\" x1=\"302.5\" x2=\"377.5\" y1=\"297.9375\" y2=\"297.9375\"/></a><a href=\"psysml:6d9f5c34-02db-4c22-b8ae-ed1a072d5ac7\" target=\"_top\" title=\"psysml:6d9f5c34-02db-4c22-b8ae-ed1a072d5ac7\" xlink:actuate=\"onRequest\" xlink:href=\"psysml:6d9f5c34-02db-4c22-b8ae-ed1a072d5ac7\" xlink:show=\"new\" xlink:title=\"psysml:6d9f5c34-02db-4c22-b8ae-ed1a072d5ac7\" xlink:type=\"simple\"><polygon fill=\"#FFFFFF\" points=\"122,41,138,41,145,63.2969,152,63.2969,152,93.5938,122,93.5938,122,41\" style=\"stroke: #000000; stroke-width: 1.5;\"/><line style=\"stroke: #000000; stroke-width: 1.5;\" x1=\"122\" x2=\"145\" y1=\"63.2969\" y2=\"63.2969\"/><text fill=\"#000000\" font-family=\"sans-serif\" font-size=\"14\" font-weight=\"bold\" lengthAdjust=\"spacingAndGlyphs\" textLength=\"10\" x=\"126\" y=\"55.9951\">P</text></a><!--MD5=[85d356282659285ab4b2cfe2f634dd2b]\n",
       "reverse link E5 to E6--><a href=\"psysml:b39da276-6b98-4aad-85bf-f9ecfc55683d\" target=\"_top\" title=\"psysml:b39da276-6b98-4aad-85bf-f9ecfc55683d\" xlink:actuate=\"onRequest\" xlink:href=\"psysml:b39da276-6b98-4aad-85bf-f9ecfc55683d\" xlink:show=\"new\" xlink:title=\"psysml:b39da276-6b98-4aad-85bf-f9ecfc55683d\" xlink:type=\"simple\"><path d=\"M218.61,96.57 C190.28,114.48 154.1,137.36 127.85,153.96 \" fill=\"none\" id=\"E5&lt;-E6\" style=\"stroke: #383838; stroke-width: 1.0;\"/><polygon fill=\"#383838\" points=\"229.82,89.48,222.6111,89.2999,219.6723,95.8849,226.8811,96.0651,229.82,89.48\" style=\"stroke: #383838; stroke-width: 1.0;\"/></a><!--MD5=[a717450b82c80b9240a525fa862496af]\n",
       "link E6 to E3--><a href=\"psysml:7b3d769f-4c56-4413-aa9f-0104e9507d6b\" target=\"_top\" title=\"psysml:7b3d769f-4c56-4413-aa9f-0104e9507d6b\" xlink:actuate=\"onRequest\" xlink:href=\"psysml:7b3d769f-4c56-4413-aa9f-0104e9507d6b\" xlink:show=\"new\" xlink:title=\"psysml:7b3d769f-4c56-4413-aa9f-0104e9507d6b\" xlink:type=\"simple\"><path d=\"M90.46,200.06 C89.12,211.64 87.44,226.23 85.86,239.87 \" fill=\"none\" id=\"E6-&gt;E3\" style=\"stroke: #383838; stroke-width: 1.0;\"/><polygon fill=\"#FFFFFF\" points=\"83.54,259.98,78.757,240.3046,92.6653,241.9044,83.54,259.98\" style=\"stroke: #383838; stroke-width: 1.0;\"/><ellipse cx=\"81.3953\" cy=\"234.8704\" fill=\"#383838\" rx=\"2\" ry=\"2\" style=\"stroke: #383838; stroke-width: 1.0;\"/><ellipse cx=\"91.3298\" cy=\"236.0132\" fill=\"#383838\" rx=\"2\" ry=\"2\" style=\"stroke: #383838; stroke-width: 1.0;\"/></a><!--MD5=[6bdd27f9905911a7e892a3dc65cf6b7c]\n",
       "link E7 to E4--><a href=\"psysml:f768404d-501b-4614-8ab9-e2515f32fafd\" target=\"_top\" title=\"psysml:f768404d-501b-4614-8ab9-e2515f32fafd\" xlink:actuate=\"onRequest\" xlink:href=\"psysml:f768404d-501b-4614-8ab9-e2515f32fafd\" xlink:show=\"new\" xlink:title=\"psysml:f768404d-501b-4614-8ab9-e2515f32fafd\" xlink:type=\"simple\"><path d=\"M216,200.06 C216,211.64 216,226.23 216,239.87 \" fill=\"none\" id=\"E7-&gt;E4\" style=\"stroke: #383838; stroke-width: 1.0;\"/><polygon fill=\"#FFFFFF\" points=\"216,259.98,209,240.98,223,240.98,216,259.98\" style=\"stroke: #383838; stroke-width: 1.0;\"/><ellipse cx=\"211\" cy=\"235.28\" fill=\"#383838\" rx=\"2\" ry=\"2\" style=\"stroke: #383838; stroke-width: 1.0;\"/><ellipse cx=\"221\" cy=\"235.28\" fill=\"#383838\" rx=\"2\" ry=\"2\" style=\"stroke: #383838; stroke-width: 1.0;\"/></a><!--MD5=[452b418e7f8a40397a49b8c0a78acc5b]\n",
       "reverse link E5 to E7--><a href=\"psysml:5db0ac38-23f9-426f-a666-7fa33ad35708\" target=\"_top\" title=\"psysml:5db0ac38-23f9-426f-a666-7fa33ad35708\" xlink:actuate=\"onRequest\" xlink:href=\"psysml:5db0ac38-23f9-426f-a666-7fa33ad35708\" xlink:show=\"new\" xlink:title=\"psysml:5db0ac38-23f9-426f-a666-7fa33ad35708\" xlink:type=\"simple\"><path d=\"M248.1,102.57 C240.81,119.26 232.23,138.89 225.77,153.65 \" fill=\"none\" id=\"E5&lt;-E7\" style=\"stroke: #383838; stroke-width: 1.0;\"/><polygon fill=\"#383838\" points=\"253.38,90.51,247.31,94.4029,248.5688,101.5033,254.6388,97.6104,253.38,90.51\" style=\"stroke: #383838; stroke-width: 1.0;\"/><text fill=\"#000000\" font-family=\"sans-serif\" font-size=\"13\" lengthAdjust=\"spacingAndGlyphs\" textLength=\"24\" x=\"201.1986\" y=\"142.8366\">0..1</text></a><!--MD5=[1ccb2481ffa92f8d51a74ee30c51832a]\n",
       "link E8 to E5--><a href=\"psysml:2ecacd66-b174-4fa5-a1f0-5f98a8e6e629\" target=\"_top\" title=\"psysml:2ecacd66-b174-4fa5-a1f0-5f98a8e6e629\" xlink:actuate=\"onRequest\" xlink:href=\"psysml:2ecacd66-b174-4fa5-a1f0-5f98a8e6e629\" xlink:show=\"new\" xlink:title=\"psysml:2ecacd66-b174-4fa5-a1f0-5f98a8e6e629\" xlink:type=\"simple\"><path d=\"M312.22,153.65 C308.53,140.48 301.55,123.44 293.74,108.07 \" fill=\"none\" id=\"E8-&gt;E5\" style=\"stroke: #383838; stroke-width: 1.0;\"/><polygon fill=\"#FFFFFF\" points=\"283.97,90.51,299.3209,103.7142,287.0851,110.5174,283.97,90.51\" style=\"stroke: #383838; stroke-width: 1.0;\"/><ellipse cx=\"300.3428\" cy=\"109.6678\" fill=\"#383838\" rx=\"2\" ry=\"2\" style=\"stroke: #383838; stroke-width: 1.0;\"/><ellipse cx=\"291.6029\" cy=\"114.5273\" fill=\"#383838\" rx=\"2\" ry=\"2\" style=\"stroke: #383838; stroke-width: 1.0;\"/></a><!--MD5=[827760032d119d06bbc92f75530fd7ae]\n",
       "reverse link E5 to E8--><a href=\"psysml:96dfc0dc-2946-48da-b50d-9c346f08b52f\" target=\"_top\" title=\"psysml:96dfc0dc-2946-48da-b50d-9c346f08b52f\" xlink:actuate=\"onRequest\" xlink:href=\"psysml:96dfc0dc-2946-48da-b50d-9c346f08b52f\" xlink:show=\"new\" xlink:title=\"psysml:96dfc0dc-2946-48da-b50d-9c346f08b52f\" xlink:type=\"simple\"><path d=\"M266.44,103.07 C272.49,119.65 281.62,139.03 290.44,153.65 \" fill=\"none\" id=\"E5&lt;-E8\" style=\"stroke: #383838; stroke-width: 1.0;\"/><polygon fill=\"#383838\" points=\"262.31,90.51,260.3836,97.459,266.0572,101.9099,267.9836,94.9609,262.31,90.51\" style=\"stroke: #383838; stroke-width: 1.0;\"/><text fill=\"#000000\" font-family=\"sans-serif\" font-size=\"13\" lengthAdjust=\"spacingAndGlyphs\" textLength=\"7\" x=\"277.2746\" y=\"142.8366\">*</text></a><!--MD5=[22f5b4bae7e060dce8a1c8021efdb95b]\n",
       "reverse link E8 to E9--><a href=\"psysml:fc5eb428-4a03-41d1-992b-aff2a13d3fb9\" target=\"_top\" title=\"psysml:fc5eb428-4a03-41d1-992b-aff2a13d3fb9\" xlink:actuate=\"onRequest\" xlink:href=\"psysml:fc5eb428-4a03-41d1-992b-aff2a13d3fb9\" xlink:show=\"new\" xlink:title=\"psysml:fc5eb428-4a03-41d1-992b-aff2a13d3fb9\" xlink:type=\"simple\"><path d=\"M320.75,212.96 C325.08,228.51 330.05,246.33 333.86,259.98 \" fill=\"none\" id=\"E8&lt;-E9\" style=\"stroke: #383838; stroke-width: 1.0;\"/><polygon fill=\"#383838\" points=\"317.15,200.06,314.9066,206.9133,320.3699,211.6199,322.6133,204.7667,317.15,200.06\" style=\"stroke: #383838; stroke-width: 1.0;\"/></a><!--MD5=[2a00718e2b28f05c509ac83dc89d48a7]\n",
       "@startuml\r\n",
       "top to bottom direction\r\n",
       "skinparam monochrome true\r\n",
       "skinparam classbackgroundcolor white\r\n",
       "skinparam shadowing false\r\n",
       "skinparam wrapWidth 300\r\n",
       "hide circle\r\n",
       "\r\n",
       "package \"ViewTest\" as E1  [[psysml:fb02ed11-6398-4cea-b135-53d0cca9c478 ]]  {\r\n",
       "package \"P\" as E2  [[psysml:6d9f5c34-02db-4c22-b8ae-ed1a072d5ac7 ]]  {\r\n",
       "}\r\n",
       "comp def \"VP\" as E3  <<(T,blue)viewpoint def>> [[psysml:436e526f-0cc5-474d-8f19-4580d940df20 ]] {\r\n",
       "}\r\n",
       "comp def \"R\" as E4  <<(T,blue)rendering def>> [[psysml:053dc08e-a8e7-4770-acc6-30068883d6d6 ]] {\r\n",
       "}\r\n",
       "comp def \"V\" as E5  <<(T,blue)view def>> [[psysml:2fa1d21f-0378-4832-ab0e-3c490c491fc9 ]] {\r\n",
       "}\r\n",
       "comp usage \"vp: VP\" as E6  <<(T,blue)viewpoint>> [[psysml:b39da276-6b98-4aad-85bf-f9ecfc55683d ]] {\r\n",
       "}\r\n",
       "comp usage \"r: R\" as E7  <<(T,blue)rendering>> [[psysml:5db0ac38-23f9-426f-a666-7fa33ad35708 ]] {\r\n",
       "}\r\n",
       "comp usage \"v: V\" as E8  <<(T,blue)view>> [[psysml:96dfc0dc-2946-48da-b50d-9c346f08b52f ]] {\r\n",
       "}\r\n",
       "comp usage \"r1\" as E9  <<(T,blue)rendering>> [[psysml:fc5eb428-4a03-41d1-992b-aff2a13d3fb9 ]] {\r\n",
       "}\r\n",
       "E5 *- - E6 [[psysml:b39da276-6b98-4aad-85bf-f9ecfc55683d ]] \r\n",
       "E6 - -:|> E3 [[psysml:7b3d769f-4c56-4413-aa9f-0104e9507d6b ]] \r\n",
       "E7 - -:|> E4 [[psysml:f768404d-501b-4614-8ab9-e2515f32fafd ]] \r\n",
       "E5 *- - \"0..1\"E7 [[psysml:5db0ac38-23f9-426f-a666-7fa33ad35708 ]] \r\n",
       "E8 - -:|> E5 [[psysml:2ecacd66-b174-4fa5-a1f0-5f98a8e6e629 ]] \r\n",
       "E5 *- - \"*\"E8 [[psysml:96dfc0dc-2946-48da-b50d-9c346f08b52f ]] \r\n",
       "E8 *- - E9 [[psysml:fc5eb428-4a03-41d1-992b-aff2a13d3fb9 ]] \r\n",
       "}\r\n",
       "@enduml\r\n",
       "\n",
       "PlantUML version 1.2020.13(Sat Jun 13 12:26:38 UTC 2020)\n",
       "(EPL source distribution)\n",
       "Java Runtime: OpenJDK Runtime Environment\n",
       "JVM: OpenJDK 64-Bit Server VM\n",
       "Default Encoding: UTF-8\n",
       "Language: en\n",
       "Country: null\n",
       "--></g></svg>"
      ]
     },
     "execution_count": 44,
     "metadata": {},
     "output_type": "execute_result"
    }
   ],
   "source": [
    "%viz --style=\"TB\" --view=\"Default\" \"ViewTest\""
   ]
  },
  {
   "cell_type": "code",
   "execution_count": 45,
   "id": "cosmetic-portsmouth",
   "metadata": {
    "execution": {
     "iopub.execute_input": "2021-03-24T16:32:14.347226Z",
     "iopub.status.busy": "2021-03-24T16:32:14.346733Z",
     "iopub.status.idle": "2021-03-24T16:32:14.381274Z",
     "shell.execute_reply": "2021-03-24T16:32:14.379770Z"
    }
   },
   "outputs": [
    {
     "data": {
      "image/svg+xml": [
       "<?xml version=\"1.0\" encoding=\"UTF-8\" standalone=\"no\"?><svg xmlns=\"http://www.w3.org/2000/svg\" xmlns:xlink=\"http://www.w3.org/1999/xlink\" contentScriptType=\"application/ecmascript\" contentStyleType=\"text/css\" height=\"334px\" preserveAspectRatio=\"none\" style=\"width:417px;height:334px;\" version=\"1.1\" viewBox=\"0 0 417 334\" width=\"417px\" zoomAndPan=\"magnify\"><defs/><g><!--MD5=[fbc87193dbaf4d95561dea2c320d4a47]\n",
       "cluster E1--><a href=\"psysml:fb02ed11-6398-4cea-b135-53d0cca9c478\" target=\"_top\" title=\"psysml:fb02ed11-6398-4cea-b135-53d0cca9c478\" xlink:actuate=\"onRequest\" xlink:href=\"psysml:fb02ed11-6398-4cea-b135-53d0cca9c478\" xlink:show=\"new\" xlink:title=\"psysml:fb02ed11-6398-4cea-b135-53d0cca9c478\" xlink:type=\"simple\"><polygon fill=\"#FFFFFF\" points=\"16,6,96,6,103,28.2969,395,28.2969,395,322,16,322,16,6\" style=\"stroke: #000000; stroke-width: 1.5;\"/><line style=\"stroke: #000000; stroke-width: 1.5;\" x1=\"16\" x2=\"103\" y1=\"28.2969\" y2=\"28.2969\"/><text fill=\"#000000\" font-family=\"sans-serif\" font-size=\"14\" font-weight=\"bold\" lengthAdjust=\"spacingAndGlyphs\" textLength=\"74\" x=\"20\" y=\"20.9951\">ViewTest</text></a><!--MD5=[09b614a08d8cba4a07c9adeb5e0fee81]\n",
       "class E3--><a href=\"psysml:436e526f-0cc5-474d-8f19-4580d940df20\" target=\"_top\" title=\"psysml:436e526f-0cc5-474d-8f19-4580d940df20\" xlink:actuate=\"onRequest\" xlink:href=\"psysml:436e526f-0cc5-474d-8f19-4580d940df20\" xlink:show=\"new\" xlink:title=\"psysml:436e526f-0cc5-474d-8f19-4580d940df20\" xlink:type=\"simple\"><rect fill=\"#FFFFFF\" height=\"45.9375\" id=\"E3\" style=\"stroke: #383838; stroke-width: 1.5;\" width=\"98\" x=\"32\" y=\"260\"/><text fill=\"#000000\" font-family=\"sans-serif\" font-size=\"12\" font-style=\"italic\" lengthAdjust=\"spacingAndGlyphs\" textLength=\"96\" x=\"33\" y=\"276.1387\">«viewpoint def»</text><text fill=\"#000000\" font-family=\"sans-serif\" font-size=\"12\" lengthAdjust=\"spacingAndGlyphs\" textLength=\"16\" x=\"73\" y=\"290.1074\">VP</text><line style=\"stroke: #383838; stroke-width: 1.5;\" x1=\"33\" x2=\"129\" y1=\"297.9375\" y2=\"297.9375\"/></a><!--MD5=[ebbe1d658d1005bcc118a6aa81145e00]\n",
       "class E4--><a href=\"psysml:053dc08e-a8e7-4770-acc6-30068883d6d6\" target=\"_top\" title=\"psysml:053dc08e-a8e7-4770-acc6-30068883d6d6\" xlink:actuate=\"onRequest\" xlink:href=\"psysml:053dc08e-a8e7-4770-acc6-30068883d6d6\" xlink:show=\"new\" xlink:title=\"psysml:053dc08e-a8e7-4770-acc6-30068883d6d6\" xlink:type=\"simple\"><rect fill=\"#FFFFFF\" height=\"45.9375\" id=\"E4\" style=\"stroke: #383838; stroke-width: 1.5;\" width=\"101\" x=\"165.5\" y=\"260\"/><text fill=\"#000000\" font-family=\"sans-serif\" font-size=\"12\" font-style=\"italic\" lengthAdjust=\"spacingAndGlyphs\" textLength=\"99\" x=\"166.5\" y=\"276.1387\">«rendering def»</text><text fill=\"#000000\" font-family=\"sans-serif\" font-size=\"12\" lengthAdjust=\"spacingAndGlyphs\" textLength=\"8\" x=\"212\" y=\"290.1074\">R</text><line style=\"stroke: #383838; stroke-width: 1.5;\" x1=\"166.5\" x2=\"265.5\" y1=\"297.9375\" y2=\"297.9375\"/></a><!--MD5=[270fce915f116d4de14055a7c1d9a0f3]\n",
       "class E5--><a href=\"psysml:2fa1d21f-0378-4832-ab0e-3c490c491fc9\" target=\"_top\" title=\"psysml:2fa1d21f-0378-4832-ab0e-3c490c491fc9\" xlink:actuate=\"onRequest\" xlink:href=\"psysml:2fa1d21f-0378-4832-ab0e-3c490c491fc9\" xlink:show=\"new\" xlink:title=\"psysml:2fa1d21f-0378-4832-ab0e-3c490c491fc9\" xlink:type=\"simple\"><rect fill=\"#FFFFFF\" height=\"45.9375\" id=\"E5\" style=\"stroke: #383838; stroke-width: 1.5;\" width=\"66\" x=\"230\" y=\"44.5\"/><text fill=\"#000000\" font-family=\"sans-serif\" font-size=\"12\" font-style=\"italic\" lengthAdjust=\"spacingAndGlyphs\" textLength=\"64\" x=\"231\" y=\"60.6387\">«view def»</text><text fill=\"#000000\" font-family=\"sans-serif\" font-size=\"12\" lengthAdjust=\"spacingAndGlyphs\" textLength=\"8\" x=\"259\" y=\"74.6074\">V</text><line style=\"stroke: #383838; stroke-width: 1.5;\" x1=\"231\" x2=\"295\" y1=\"82.4375\" y2=\"82.4375\"/></a><!--MD5=[60a26617385b1d2d0262a64233df1f8d]\n",
       "class E6--><a href=\"psysml:b39da276-6b98-4aad-85bf-f9ecfc55683d\" target=\"_top\" title=\"psysml:b39da276-6b98-4aad-85bf-f9ecfc55683d\" xlink:actuate=\"onRequest\" xlink:href=\"psysml:b39da276-6b98-4aad-85bf-f9ecfc55683d\" xlink:show=\"new\" xlink:title=\"psysml:b39da276-6b98-4aad-85bf-f9ecfc55683d\" xlink:type=\"simple\"><rect fill=\"#FFFFFF\" height=\"45.9375\" id=\"E6\" rx=\"10\" ry=\"10\" style=\"stroke: #383838; stroke-width: 1.5;\" width=\"74\" x=\"56\" y=\"154\"/><text fill=\"#000000\" font-family=\"sans-serif\" font-size=\"12\" font-style=\"italic\" lengthAdjust=\"spacingAndGlyphs\" textLength=\"72\" x=\"57\" y=\"170.1387\">«viewpoint»</text><text fill=\"#000000\" font-family=\"sans-serif\" font-size=\"12\" lengthAdjust=\"spacingAndGlyphs\" textLength=\"38\" x=\"74\" y=\"184.1074\">vp: VP</text><line style=\"stroke: #383838; stroke-width: 1.5;\" x1=\"57\" x2=\"129\" y1=\"191.9375\" y2=\"191.9375\"/></a><!--MD5=[2156ba9850f5573cc1fc38a6a4b2f02b]\n",
       "class E7--><a href=\"psysml:5db0ac38-23f9-426f-a666-7fa33ad35708\" target=\"_top\" title=\"psysml:5db0ac38-23f9-426f-a666-7fa33ad35708\" xlink:actuate=\"onRequest\" xlink:href=\"psysml:5db0ac38-23f9-426f-a666-7fa33ad35708\" xlink:show=\"new\" xlink:title=\"psysml:5db0ac38-23f9-426f-a666-7fa33ad35708\" xlink:type=\"simple\"><rect fill=\"#FFFFFF\" height=\"45.9375\" id=\"E7\" rx=\"10\" ry=\"10\" style=\"stroke: #383838; stroke-width: 1.5;\" width=\"77\" x=\"177.5\" y=\"154\"/><text fill=\"#000000\" font-family=\"sans-serif\" font-size=\"12\" font-style=\"italic\" lengthAdjust=\"spacingAndGlyphs\" textLength=\"75\" x=\"178.5\" y=\"170.1387\">«rendering»</text><text fill=\"#000000\" font-family=\"sans-serif\" font-size=\"12\" lengthAdjust=\"spacingAndGlyphs\" textLength=\"21\" x=\"205.5\" y=\"184.1074\">r: R</text><line style=\"stroke: #383838; stroke-width: 1.5;\" x1=\"178.5\" x2=\"253.5\" y1=\"191.9375\" y2=\"191.9375\"/></a><!--MD5=[b9389687b975829384b498ac4b7476b2]\n",
       "class E8--><a href=\"psysml:96dfc0dc-2946-48da-b50d-9c346f08b52f\" target=\"_top\" title=\"psysml:96dfc0dc-2946-48da-b50d-9c346f08b52f\" xlink:actuate=\"onRequest\" xlink:href=\"psysml:96dfc0dc-2946-48da-b50d-9c346f08b52f\" xlink:show=\"new\" xlink:title=\"psysml:96dfc0dc-2946-48da-b50d-9c346f08b52f\" xlink:type=\"simple\"><rect fill=\"#FFFFFF\" height=\"45.9375\" id=\"E8\" rx=\"10\" ry=\"10\" style=\"stroke: #383838; stroke-width: 1.5;\" width=\"42\" x=\"290\" y=\"154\"/><text fill=\"#000000\" font-family=\"sans-serif\" font-size=\"12\" font-style=\"italic\" lengthAdjust=\"spacingAndGlyphs\" textLength=\"40\" x=\"291\" y=\"170.1387\">«view»</text><text fill=\"#000000\" font-family=\"sans-serif\" font-size=\"12\" lengthAdjust=\"spacingAndGlyphs\" textLength=\"22\" x=\"300\" y=\"184.1074\">v: V</text><line style=\"stroke: #383838; stroke-width: 1.5;\" x1=\"291\" x2=\"331\" y1=\"191.9375\" y2=\"191.9375\"/></a><!--MD5=[fd4143e9d270a159db93a4ea2a975926]\n",
       "class E9--><a href=\"psysml:fc5eb428-4a03-41d1-992b-aff2a13d3fb9\" target=\"_top\" title=\"psysml:fc5eb428-4a03-41d1-992b-aff2a13d3fb9\" xlink:actuate=\"onRequest\" xlink:href=\"psysml:fc5eb428-4a03-41d1-992b-aff2a13d3fb9\" xlink:show=\"new\" xlink:title=\"psysml:fc5eb428-4a03-41d1-992b-aff2a13d3fb9\" xlink:type=\"simple\"><rect fill=\"#FFFFFF\" height=\"45.9375\" id=\"E9\" rx=\"10\" ry=\"10\" style=\"stroke: #383838; stroke-width: 1.5;\" width=\"77\" x=\"301.5\" y=\"260\"/><text fill=\"#000000\" font-family=\"sans-serif\" font-size=\"12\" font-style=\"italic\" lengthAdjust=\"spacingAndGlyphs\" textLength=\"75\" x=\"302.5\" y=\"276.1387\">«rendering»</text><text fill=\"#000000\" font-family=\"sans-serif\" font-size=\"12\" lengthAdjust=\"spacingAndGlyphs\" textLength=\"13\" x=\"333.5\" y=\"290.1074\">r1</text><line style=\"stroke: #383838; stroke-width: 1.5;\" x1=\"302.5\" x2=\"377.5\" y1=\"297.9375\" y2=\"297.9375\"/></a><a href=\"psysml:6d9f5c34-02db-4c22-b8ae-ed1a072d5ac7\" target=\"_top\" title=\"psysml:6d9f5c34-02db-4c22-b8ae-ed1a072d5ac7\" xlink:actuate=\"onRequest\" xlink:href=\"psysml:6d9f5c34-02db-4c22-b8ae-ed1a072d5ac7\" xlink:show=\"new\" xlink:title=\"psysml:6d9f5c34-02db-4c22-b8ae-ed1a072d5ac7\" xlink:type=\"simple\"><polygon fill=\"#FFFFFF\" points=\"122,41,138,41,145,63.2969,152,63.2969,152,93.5938,122,93.5938,122,41\" style=\"stroke: #000000; stroke-width: 1.5;\"/><line style=\"stroke: #000000; stroke-width: 1.5;\" x1=\"122\" x2=\"145\" y1=\"63.2969\" y2=\"63.2969\"/><text fill=\"#000000\" font-family=\"sans-serif\" font-size=\"14\" font-weight=\"bold\" lengthAdjust=\"spacingAndGlyphs\" textLength=\"10\" x=\"126\" y=\"55.9951\">P</text></a><!--MD5=[85d356282659285ab4b2cfe2f634dd2b]\n",
       "reverse link E5 to E6--><a href=\"psysml:b39da276-6b98-4aad-85bf-f9ecfc55683d\" target=\"_top\" title=\"psysml:b39da276-6b98-4aad-85bf-f9ecfc55683d\" xlink:actuate=\"onRequest\" xlink:href=\"psysml:b39da276-6b98-4aad-85bf-f9ecfc55683d\" xlink:show=\"new\" xlink:title=\"psysml:b39da276-6b98-4aad-85bf-f9ecfc55683d\" xlink:type=\"simple\"><path d=\"M218.61,96.57 C190.28,114.48 154.1,137.36 127.85,153.96 \" fill=\"none\" id=\"E5&lt;-E6\" style=\"stroke: #383838; stroke-width: 1.0;\"/><polygon fill=\"#383838\" points=\"229.82,89.48,222.6111,89.2999,219.6723,95.8849,226.8811,96.0651,229.82,89.48\" style=\"stroke: #383838; stroke-width: 1.0;\"/></a><!--MD5=[a717450b82c80b9240a525fa862496af]\n",
       "link E6 to E3--><a href=\"psysml:7b3d769f-4c56-4413-aa9f-0104e9507d6b\" target=\"_top\" title=\"psysml:7b3d769f-4c56-4413-aa9f-0104e9507d6b\" xlink:actuate=\"onRequest\" xlink:href=\"psysml:7b3d769f-4c56-4413-aa9f-0104e9507d6b\" xlink:show=\"new\" xlink:title=\"psysml:7b3d769f-4c56-4413-aa9f-0104e9507d6b\" xlink:type=\"simple\"><path d=\"M90.46,200.06 C89.12,211.64 87.44,226.23 85.86,239.87 \" fill=\"none\" id=\"E6-&gt;E3\" style=\"stroke: #383838; stroke-width: 1.0;\"/><polygon fill=\"#FFFFFF\" points=\"83.54,259.98,78.757,240.3046,92.6653,241.9044,83.54,259.98\" style=\"stroke: #383838; stroke-width: 1.0;\"/><ellipse cx=\"81.3953\" cy=\"234.8704\" fill=\"#383838\" rx=\"2\" ry=\"2\" style=\"stroke: #383838; stroke-width: 1.0;\"/><ellipse cx=\"91.3298\" cy=\"236.0132\" fill=\"#383838\" rx=\"2\" ry=\"2\" style=\"stroke: #383838; stroke-width: 1.0;\"/></a><!--MD5=[6bdd27f9905911a7e892a3dc65cf6b7c]\n",
       "link E7 to E4--><a href=\"psysml:f768404d-501b-4614-8ab9-e2515f32fafd\" target=\"_top\" title=\"psysml:f768404d-501b-4614-8ab9-e2515f32fafd\" xlink:actuate=\"onRequest\" xlink:href=\"psysml:f768404d-501b-4614-8ab9-e2515f32fafd\" xlink:show=\"new\" xlink:title=\"psysml:f768404d-501b-4614-8ab9-e2515f32fafd\" xlink:type=\"simple\"><path d=\"M216,200.06 C216,211.64 216,226.23 216,239.87 \" fill=\"none\" id=\"E7-&gt;E4\" style=\"stroke: #383838; stroke-width: 1.0;\"/><polygon fill=\"#FFFFFF\" points=\"216,259.98,209,240.98,223,240.98,216,259.98\" style=\"stroke: #383838; stroke-width: 1.0;\"/><ellipse cx=\"211\" cy=\"235.28\" fill=\"#383838\" rx=\"2\" ry=\"2\" style=\"stroke: #383838; stroke-width: 1.0;\"/><ellipse cx=\"221\" cy=\"235.28\" fill=\"#383838\" rx=\"2\" ry=\"2\" style=\"stroke: #383838; stroke-width: 1.0;\"/></a><!--MD5=[452b418e7f8a40397a49b8c0a78acc5b]\n",
       "reverse link E5 to E7--><a href=\"psysml:5db0ac38-23f9-426f-a666-7fa33ad35708\" target=\"_top\" title=\"psysml:5db0ac38-23f9-426f-a666-7fa33ad35708\" xlink:actuate=\"onRequest\" xlink:href=\"psysml:5db0ac38-23f9-426f-a666-7fa33ad35708\" xlink:show=\"new\" xlink:title=\"psysml:5db0ac38-23f9-426f-a666-7fa33ad35708\" xlink:type=\"simple\"><path d=\"M248.1,102.57 C240.81,119.26 232.23,138.89 225.77,153.65 \" fill=\"none\" id=\"E5&lt;-E7\" style=\"stroke: #383838; stroke-width: 1.0;\"/><polygon fill=\"#383838\" points=\"253.38,90.51,247.31,94.4029,248.5688,101.5033,254.6388,97.6104,253.38,90.51\" style=\"stroke: #383838; stroke-width: 1.0;\"/><text fill=\"#000000\" font-family=\"sans-serif\" font-size=\"13\" lengthAdjust=\"spacingAndGlyphs\" textLength=\"24\" x=\"201.1986\" y=\"142.8366\">0..1</text></a><!--MD5=[1ccb2481ffa92f8d51a74ee30c51832a]\n",
       "link E8 to E5--><a href=\"psysml:2ecacd66-b174-4fa5-a1f0-5f98a8e6e629\" target=\"_top\" title=\"psysml:2ecacd66-b174-4fa5-a1f0-5f98a8e6e629\" xlink:actuate=\"onRequest\" xlink:href=\"psysml:2ecacd66-b174-4fa5-a1f0-5f98a8e6e629\" xlink:show=\"new\" xlink:title=\"psysml:2ecacd66-b174-4fa5-a1f0-5f98a8e6e629\" xlink:type=\"simple\"><path d=\"M312.22,153.65 C308.53,140.48 301.55,123.44 293.74,108.07 \" fill=\"none\" id=\"E8-&gt;E5\" style=\"stroke: #383838; stroke-width: 1.0;\"/><polygon fill=\"#FFFFFF\" points=\"283.97,90.51,299.3209,103.7142,287.0851,110.5174,283.97,90.51\" style=\"stroke: #383838; stroke-width: 1.0;\"/><ellipse cx=\"300.3428\" cy=\"109.6678\" fill=\"#383838\" rx=\"2\" ry=\"2\" style=\"stroke: #383838; stroke-width: 1.0;\"/><ellipse cx=\"291.6029\" cy=\"114.5273\" fill=\"#383838\" rx=\"2\" ry=\"2\" style=\"stroke: #383838; stroke-width: 1.0;\"/></a><!--MD5=[827760032d119d06bbc92f75530fd7ae]\n",
       "reverse link E5 to E8--><a href=\"psysml:96dfc0dc-2946-48da-b50d-9c346f08b52f\" target=\"_top\" title=\"psysml:96dfc0dc-2946-48da-b50d-9c346f08b52f\" xlink:actuate=\"onRequest\" xlink:href=\"psysml:96dfc0dc-2946-48da-b50d-9c346f08b52f\" xlink:show=\"new\" xlink:title=\"psysml:96dfc0dc-2946-48da-b50d-9c346f08b52f\" xlink:type=\"simple\"><path d=\"M266.44,103.07 C272.49,119.65 281.62,139.03 290.44,153.65 \" fill=\"none\" id=\"E5&lt;-E8\" style=\"stroke: #383838; stroke-width: 1.0;\"/><polygon fill=\"#383838\" points=\"262.31,90.51,260.3836,97.459,266.0572,101.9099,267.9836,94.9609,262.31,90.51\" style=\"stroke: #383838; stroke-width: 1.0;\"/><text fill=\"#000000\" font-family=\"sans-serif\" font-size=\"13\" lengthAdjust=\"spacingAndGlyphs\" textLength=\"7\" x=\"277.2746\" y=\"142.8366\">*</text></a><!--MD5=[22f5b4bae7e060dce8a1c8021efdb95b]\n",
       "reverse link E8 to E9--><a href=\"psysml:fc5eb428-4a03-41d1-992b-aff2a13d3fb9\" target=\"_top\" title=\"psysml:fc5eb428-4a03-41d1-992b-aff2a13d3fb9\" xlink:actuate=\"onRequest\" xlink:href=\"psysml:fc5eb428-4a03-41d1-992b-aff2a13d3fb9\" xlink:show=\"new\" xlink:title=\"psysml:fc5eb428-4a03-41d1-992b-aff2a13d3fb9\" xlink:type=\"simple\"><path d=\"M320.75,212.96 C325.08,228.51 330.05,246.33 333.86,259.98 \" fill=\"none\" id=\"E8&lt;-E9\" style=\"stroke: #383838; stroke-width: 1.0;\"/><polygon fill=\"#383838\" points=\"317.15,200.06,314.9066,206.9133,320.3699,211.6199,322.6133,204.7667,317.15,200.06\" style=\"stroke: #383838; stroke-width: 1.0;\"/></a><!--MD5=[2a00718e2b28f05c509ac83dc89d48a7]\n",
       "@startuml\r\n",
       "top to bottom direction\r\n",
       "skinparam monochrome true\r\n",
       "skinparam classbackgroundcolor white\r\n",
       "skinparam shadowing false\r\n",
       "skinparam wrapWidth 300\r\n",
       "hide circle\r\n",
       "\r\n",
       "package \"ViewTest\" as E1  [[psysml:fb02ed11-6398-4cea-b135-53d0cca9c478 ]]  {\r\n",
       "package \"P\" as E2  [[psysml:6d9f5c34-02db-4c22-b8ae-ed1a072d5ac7 ]]  {\r\n",
       "}\r\n",
       "comp def \"VP\" as E3  <<(T,blue)viewpoint def>> [[psysml:436e526f-0cc5-474d-8f19-4580d940df20 ]] {\r\n",
       "}\r\n",
       "comp def \"R\" as E4  <<(T,blue)rendering def>> [[psysml:053dc08e-a8e7-4770-acc6-30068883d6d6 ]] {\r\n",
       "}\r\n",
       "comp def \"V\" as E5  <<(T,blue)view def>> [[psysml:2fa1d21f-0378-4832-ab0e-3c490c491fc9 ]] {\r\n",
       "}\r\n",
       "comp usage \"vp: VP\" as E6  <<(T,blue)viewpoint>> [[psysml:b39da276-6b98-4aad-85bf-f9ecfc55683d ]] {\r\n",
       "}\r\n",
       "comp usage \"r: R\" as E7  <<(T,blue)rendering>> [[psysml:5db0ac38-23f9-426f-a666-7fa33ad35708 ]] {\r\n",
       "}\r\n",
       "comp usage \"v: V\" as E8  <<(T,blue)view>> [[psysml:96dfc0dc-2946-48da-b50d-9c346f08b52f ]] {\r\n",
       "}\r\n",
       "comp usage \"r1\" as E9  <<(T,blue)rendering>> [[psysml:fc5eb428-4a03-41d1-992b-aff2a13d3fb9 ]] {\r\n",
       "}\r\n",
       "E5 *- - E6 [[psysml:b39da276-6b98-4aad-85bf-f9ecfc55683d ]] \r\n",
       "E6 - -:|> E3 [[psysml:7b3d769f-4c56-4413-aa9f-0104e9507d6b ]] \r\n",
       "E7 - -:|> E4 [[psysml:f768404d-501b-4614-8ab9-e2515f32fafd ]] \r\n",
       "E5 *- - \"0..1\"E7 [[psysml:5db0ac38-23f9-426f-a666-7fa33ad35708 ]] \r\n",
       "E8 - -:|> E5 [[psysml:2ecacd66-b174-4fa5-a1f0-5f98a8e6e629 ]] \r\n",
       "E5 *- - \"*\"E8 [[psysml:96dfc0dc-2946-48da-b50d-9c346f08b52f ]] \r\n",
       "E8 *- - E9 [[psysml:fc5eb428-4a03-41d1-992b-aff2a13d3fb9 ]] \r\n",
       "}\r\n",
       "@enduml\r\n",
       "\n",
       "PlantUML version 1.2020.13(Sat Jun 13 12:26:38 UTC 2020)\n",
       "(EPL source distribution)\n",
       "Java Runtime: OpenJDK Runtime Environment\n",
       "JVM: OpenJDK 64-Bit Server VM\n",
       "Default Encoding: UTF-8\n",
       "Language: en\n",
       "Country: null\n",
       "--></g></svg>"
      ]
     },
     "execution_count": 45,
     "metadata": {},
     "output_type": "execute_result"
    }
   ],
   "source": [
    "%viz --style=\"TB\" --view=\"Tree\" \"ViewTest\""
   ]
  },
  {
   "cell_type": "code",
   "execution_count": 46,
   "id": "level-border",
   "metadata": {
    "execution": {
     "iopub.execute_input": "2021-03-24T16:32:14.431236Z",
     "iopub.status.busy": "2021-03-24T16:32:14.430900Z",
     "iopub.status.idle": "2021-03-24T16:32:14.436510Z",
     "shell.execute_reply": "2021-03-24T16:32:14.436228Z"
    }
   },
   "outputs": [
    {
     "data": {
      "image/svg+xml": [
       "<?xml version=\"1.0\" encoding=\"UTF-8\" standalone=\"no\"?><svg xmlns=\"http://www.w3.org/2000/svg\" xmlns:xlink=\"http://www.w3.org/1999/xlink\" contentScriptType=\"application/ecmascript\" contentStyleType=\"text/css\" height=\"12px\" preserveAspectRatio=\"none\" style=\"width:12px;height:12px;\" version=\"1.1\" viewBox=\"0 0 12 12\" width=\"12px\" zoomAndPan=\"magnify\"><defs/><g><!--MD5=[f4ee21bc66e489b5061b7c3e9601fdef]\n",
       "@startuml\r\n",
       "top to bottom direction\r\n",
       "skinparam monochrome true\r\n",
       "skinparam classbackgroundcolor white\r\n",
       "skinparam shadowing false\r\n",
       "skinparam wrapWidth 300\r\n",
       "hide circle\r\n",
       "\r\n",
       "@enduml\r\n",
       "\n",
       "PlantUML version 1.2020.13(Sat Jun 13 12:26:38 UTC 2020)\n",
       "(EPL source distribution)\n",
       "Java Runtime: OpenJDK Runtime Environment\n",
       "JVM: OpenJDK 64-Bit Server VM\n",
       "Default Encoding: UTF-8\n",
       "Language: en\n",
       "Country: null\n",
       "--></g></svg>"
      ]
     },
     "execution_count": 46,
     "metadata": {},
     "output_type": "execute_result"
    }
   ],
   "source": [
    "%viz --style=\"TB\" --view=\"State\" \"ViewTest\""
   ]
  },
  {
   "cell_type": "code",
   "execution_count": 47,
   "id": "posted-child",
   "metadata": {
    "execution": {
     "iopub.execute_input": "2021-03-24T16:32:14.486933Z",
     "iopub.status.busy": "2021-03-24T16:32:14.486516Z",
     "iopub.status.idle": "2021-03-24T16:32:14.515064Z",
     "shell.execute_reply": "2021-03-24T16:32:14.513857Z"
    }
   },
   "outputs": [
    {
     "data": {
      "image/svg+xml": [
       "<?xml version=\"1.0\" encoding=\"UTF-8\" standalone=\"no\"?><svg xmlns=\"http://www.w3.org/2000/svg\" xmlns:xlink=\"http://www.w3.org/1999/xlink\" contentScriptType=\"application/ecmascript\" contentStyleType=\"text/css\" height=\"313px\" preserveAspectRatio=\"none\" style=\"width:568px;height:313px;\" version=\"1.1\" viewBox=\"0 0 568 313\" width=\"568px\" zoomAndPan=\"magnify\"><defs/><g><!--MD5=[fbc87193dbaf4d95561dea2c320d4a47]\n",
       "cluster E1--><a href=\"psysml:fb02ed11-6398-4cea-b135-53d0cca9c478\" target=\"_top\" title=\"psysml:fb02ed11-6398-4cea-b135-53d0cca9c478\" xlink:actuate=\"onRequest\" xlink:href=\"psysml:fb02ed11-6398-4cea-b135-53d0cca9c478\" xlink:show=\"new\" xlink:title=\"psysml:fb02ed11-6398-4cea-b135-53d0cca9c478\" xlink:type=\"simple\"><polygon fill=\"#FFFFFF\" points=\"16,6,96,6,103,28.2969,546,28.2969,546,301,16,301,16,6\" style=\"stroke: #000000; stroke-width: 1.5;\"/><line style=\"stroke: #000000; stroke-width: 1.5;\" x1=\"16\" x2=\"103\" y1=\"28.2969\" y2=\"28.2969\"/><text fill=\"#000000\" font-family=\"sans-serif\" font-size=\"14\" font-weight=\"bold\" lengthAdjust=\"spacingAndGlyphs\" textLength=\"74\" x=\"20\" y=\"20.9951\">ViewTest</text></a><!--MD5=[de5ec2e2e8f62f467e546659f5068c88]\n",
       "cluster E5--><a href=\"psysml:2fa1d21f-0378-4832-ab0e-3c490c491fc9\" target=\"_top\" title=\"psysml:2fa1d21f-0378-4832-ab0e-3c490c491fc9\" xlink:actuate=\"onRequest\" xlink:href=\"psysml:2fa1d21f-0378-4832-ab0e-3c490c491fc9\" xlink:show=\"new\" xlink:title=\"psysml:2fa1d21f-0378-4832-ab0e-3c490c491fc9\" xlink:type=\"simple\"><rect fill=\"#FFFFFF\" height=\"174\" id=\"E5\" style=\"stroke: #383838; stroke-width: 1.5;\" width=\"300\" x=\"222\" y=\"49\"/><rect fill=\"#F8F8F8\" height=\"37.9375\" style=\"stroke: #383838; stroke-width: 1.5;\" width=\"300\" x=\"222\" y=\"49\"/><text fill=\"#000000\" font-family=\"sans-serif\" font-size=\"12\" font-style=\"italic\" lengthAdjust=\"spacingAndGlyphs\" textLength=\"64\" x=\"340\" y=\"65.1387\">«view def»</text><text fill=\"#000000\" font-family=\"sans-serif\" font-size=\"12\" lengthAdjust=\"spacingAndGlyphs\" textLength=\"8\" x=\"368\" y=\"79.1074\">V</text></a><!--MD5=[55dfccfc6c49c2d10cd1bd2211a6c90c]\n",
       "cluster E8--><a href=\"psysml:96dfc0dc-2946-48da-b50d-9c346f08b52f\" target=\"_top\" title=\"psysml:96dfc0dc-2946-48da-b50d-9c346f08b52f\" xlink:actuate=\"onRequest\" xlink:href=\"psysml:96dfc0dc-2946-48da-b50d-9c346f08b52f\" xlink:show=\"new\" xlink:title=\"psysml:96dfc0dc-2946-48da-b50d-9c346f08b52f\" xlink:type=\"simple\"><rect fill=\"#FFFFFF\" height=\"91\" id=\"E8\" rx=\"10\" ry=\"10\" style=\"stroke: #383838; stroke-width: 1.5;\" width=\"82\" x=\"416\" y=\"108\"/><rect fill=\"#F8F8F8\" height=\"23.9688\" rx=\"10\" ry=\"10\" style=\"stroke: #F8F8F8; stroke-width: 1.5;\" width=\"82\" x=\"416\" y=\"108\"/><rect fill=\"#F8F8F8\" height=\"10\" style=\"stroke: #F8F8F8; stroke-width: 1.5;\" width=\"82\" x=\"416\" y=\"121.9688\"/><rect fill=\"none\" height=\"91\" id=\"E8\" rx=\"10\" ry=\"10\" style=\"stroke: #383838; stroke-width: 1.5;\" width=\"82\" x=\"416\" y=\"108\"/><text fill=\"#000000\" font-family=\"sans-serif\" font-size=\"12\" lengthAdjust=\"spacingAndGlyphs\" textLength=\"22\" x=\"446\" y=\"124.1387\">v: V</text><line style=\"stroke: #383838; stroke-width: 1.0;\" x1=\"416\" x2=\"498\" y1=\"131.9688\" y2=\"131.9688\"/></a><!--MD5=[09b614a08d8cba4a07c9adeb5e0fee81]\n",
       "class E3--><a href=\"psysml:436e526f-0cc5-474d-8f19-4580d940df20\" target=\"_top\" title=\"psysml:436e526f-0cc5-474d-8f19-4580d940df20\" xlink:actuate=\"onRequest\" xlink:href=\"psysml:436e526f-0cc5-474d-8f19-4580d940df20\" xlink:show=\"new\" xlink:title=\"psysml:436e526f-0cc5-474d-8f19-4580d940df20\" xlink:type=\"simple\"><rect fill=\"#FFFFFF\" height=\"45.9375\" id=\"E3\" style=\"stroke: #383838; stroke-width: 1.5;\" width=\"98\" x=\"311\" y=\"239\"/><text fill=\"#000000\" font-family=\"sans-serif\" font-size=\"12\" font-style=\"italic\" lengthAdjust=\"spacingAndGlyphs\" textLength=\"96\" x=\"312\" y=\"255.1387\">«viewpoint def»</text><text fill=\"#000000\" font-family=\"sans-serif\" font-size=\"12\" lengthAdjust=\"spacingAndGlyphs\" textLength=\"16\" x=\"352\" y=\"269.1074\">VP</text><line style=\"stroke: #383838; stroke-width: 1.5;\" x1=\"312\" x2=\"408\" y1=\"276.9375\" y2=\"276.9375\"/></a><a href=\"psysml:6d9f5c34-02db-4c22-b8ae-ed1a072d5ac7\" target=\"_top\" title=\"psysml:6d9f5c34-02db-4c22-b8ae-ed1a072d5ac7\" xlink:actuate=\"onRequest\" xlink:href=\"psysml:6d9f5c34-02db-4c22-b8ae-ed1a072d5ac7\" xlink:show=\"new\" xlink:title=\"psysml:6d9f5c34-02db-4c22-b8ae-ed1a072d5ac7\" xlink:type=\"simple\"><polygon fill=\"#FFFFFF\" points=\"173,136.5,189,136.5,196,158.7969,203,158.7969,203,189.0938,173,189.0938,173,136.5\" style=\"stroke: #000000; stroke-width: 1.5;\"/><line style=\"stroke: #000000; stroke-width: 1.5;\" x1=\"173\" x2=\"196\" y1=\"158.7969\" y2=\"158.7969\"/><text fill=\"#000000\" font-family=\"sans-serif\" font-size=\"14\" font-weight=\"bold\" lengthAdjust=\"spacingAndGlyphs\" textLength=\"10\" x=\"177\" y=\"151.4951\">P</text></a><g id=\"E1.E4\"><a href=\"psysml:053dc08e-a8e7-4770-acc6-30068883d6d6\" target=\"_top\" title=\"psysml:053dc08e-a8e7-4770-acc6-30068883d6d6\" xlink:actuate=\"onRequest\" xlink:href=\"psysml:053dc08e-a8e7-4770-acc6-30068883d6d6\" xlink:show=\"new\" xlink:title=\"psysml:053dc08e-a8e7-4770-acc6-30068883d6d6\" xlink:type=\"simple\"><rect fill=\"#FFFFFF\" height=\"42.9375\" id=\"E4\" style=\"stroke: #383838; stroke-width: 1.5;\" width=\"106\" x=\"32\" y=\"141.5\"/><rect fill=\"#F8F8F8\" height=\"37.9375\" style=\"stroke: #383838; stroke-width: 1.5;\" width=\"106\" x=\"32\" y=\"141.5\"/><text fill=\"#000000\" font-family=\"sans-serif\" font-size=\"12\" font-style=\"italic\" lengthAdjust=\"spacingAndGlyphs\" textLength=\"99\" x=\"35.5\" y=\"157.6387\">«rendering def»</text><text fill=\"#000000\" font-family=\"sans-serif\" font-size=\"12\" lengthAdjust=\"spacingAndGlyphs\" textLength=\"8\" x=\"81\" y=\"171.6074\">R</text></a></g><!--MD5=[60a26617385b1d2d0262a64233df1f8d]\n",
       "class E6--><a href=\"psysml:b39da276-6b98-4aad-85bf-f9ecfc55683d\" target=\"_top\" title=\"psysml:b39da276-6b98-4aad-85bf-f9ecfc55683d\" xlink:actuate=\"onRequest\" xlink:href=\"psysml:b39da276-6b98-4aad-85bf-f9ecfc55683d\" xlink:show=\"new\" xlink:title=\"psysml:b39da276-6b98-4aad-85bf-f9ecfc55683d\" xlink:type=\"simple\"><rect fill=\"#FFFFFF\" height=\"45.9375\" id=\"E6\" rx=\"10\" ry=\"10\" style=\"stroke: #383838; stroke-width: 1.5;\" width=\"74\" x=\"323\" y=\"140\"/><text fill=\"#000000\" font-family=\"sans-serif\" font-size=\"12\" font-style=\"italic\" lengthAdjust=\"spacingAndGlyphs\" textLength=\"72\" x=\"324\" y=\"156.1387\">«viewpoint»</text><text fill=\"#000000\" font-family=\"sans-serif\" font-size=\"12\" lengthAdjust=\"spacingAndGlyphs\" textLength=\"38\" x=\"341\" y=\"170.1074\">vp: VP</text><line style=\"stroke: #383838; stroke-width: 1.5;\" x1=\"324\" x2=\"396\" y1=\"177.9375\" y2=\"177.9375\"/></a><g id=\"E1.E5.E7\"><a href=\"psysml:5db0ac38-23f9-426f-a666-7fa33ad35708\" target=\"_top\" title=\"psysml:5db0ac38-23f9-426f-a666-7fa33ad35708\" xlink:actuate=\"onRequest\" xlink:href=\"psysml:5db0ac38-23f9-426f-a666-7fa33ad35708\" xlink:show=\"new\" xlink:title=\"psysml:5db0ac38-23f9-426f-a666-7fa33ad35708\" xlink:type=\"simple\"><rect fill=\"#FFFFFF\" height=\"40\" id=\"E7\" rx=\"10\" ry=\"10\" style=\"stroke: #383838; stroke-width: 1.5;\" width=\"50\" x=\"238\" y=\"143\"/><rect fill=\"#F8F8F8\" height=\"23.9688\" rx=\"10\" ry=\"10\" style=\"stroke: #F8F8F8; stroke-width: 1.5;\" width=\"50\" x=\"238\" y=\"143\"/><rect fill=\"#F8F8F8\" height=\"10\" style=\"stroke: #F8F8F8; stroke-width: 1.5;\" width=\"50\" x=\"238\" y=\"156.9688\"/><rect fill=\"none\" height=\"40\" id=\"E7\" rx=\"10\" ry=\"10\" style=\"stroke: #383838; stroke-width: 1.5;\" width=\"50\" x=\"238\" y=\"143\"/><text fill=\"#000000\" font-family=\"sans-serif\" font-size=\"12\" lengthAdjust=\"spacingAndGlyphs\" textLength=\"21\" x=\"252.5\" y=\"159.1387\">r: R</text></a></g><g id=\"E1.E5.E8.E9\"><a href=\"psysml:fc5eb428-4a03-41d1-992b-aff2a13d3fb9\" target=\"_top\" title=\"psysml:fc5eb428-4a03-41d1-992b-aff2a13d3fb9\" xlink:actuate=\"onRequest\" xlink:href=\"psysml:fc5eb428-4a03-41d1-992b-aff2a13d3fb9\" xlink:show=\"new\" xlink:title=\"psysml:fc5eb428-4a03-41d1-992b-aff2a13d3fb9\" xlink:type=\"simple\"><rect fill=\"#FFFFFF\" height=\"40\" id=\"E9\" rx=\"10\" ry=\"10\" style=\"stroke: #383838; stroke-width: 1.5;\" width=\"50\" x=\"432\" y=\"143\"/><rect fill=\"#F8F8F8\" height=\"23.9688\" rx=\"10\" ry=\"10\" style=\"stroke: #F8F8F8; stroke-width: 1.5;\" width=\"50\" x=\"432\" y=\"143\"/><rect fill=\"#F8F8F8\" height=\"10\" style=\"stroke: #F8F8F8; stroke-width: 1.5;\" width=\"50\" x=\"432\" y=\"156.9688\"/><rect fill=\"none\" height=\"40\" id=\"E9\" rx=\"10\" ry=\"10\" style=\"stroke: #383838; stroke-width: 1.5;\" width=\"50\" x=\"432\" y=\"143\"/><text fill=\"#000000\" font-family=\"sans-serif\" font-size=\"12\" lengthAdjust=\"spacingAndGlyphs\" textLength=\"13\" x=\"450.5\" y=\"159.1387\">r1</text></a></g><!--MD5=[a717450b82c80b9240a525fa862496af]\n",
       "link E6 to E3--><a href=\"psysml:7b3d769f-4c56-4413-aa9f-0104e9507d6b\" target=\"_top\" title=\"psysml:7b3d769f-4c56-4413-aa9f-0104e9507d6b\" xlink:actuate=\"onRequest\" xlink:href=\"psysml:7b3d769f-4c56-4413-aa9f-0104e9507d6b\" xlink:show=\"new\" xlink:title=\"psysml:7b3d769f-4c56-4413-aa9f-0104e9507d6b\" xlink:type=\"simple\"><path d=\"M360,186.01 C360,195.62 360,207.22 360,218.4 \" fill=\"none\" id=\"E6-&gt;E3\" style=\"stroke: #383838; stroke-width: 1.0;\"/><polygon fill=\"#FFFFFF\" points=\"360,238.74,353,219.74,367,219.74,360,238.74\" style=\"stroke: #383838; stroke-width: 1.0;\"/><ellipse cx=\"355\" cy=\"214.04\" fill=\"#383838\" rx=\"2\" ry=\"2\" style=\"stroke: #383838; stroke-width: 1.0;\"/><ellipse cx=\"365\" cy=\"214.04\" fill=\"#383838\" rx=\"2\" ry=\"2\" style=\"stroke: #383838; stroke-width: 1.0;\"/></a><!--MD5=[38a0abd66bbe77e601f163a042800213]\n",
       "@startuml\r\n",
       "skinparam ranksep 10\r\n",
       "skinparam rectangle {\r\n",
       " backgroundColor<<block>> LightGreen\r\n",
       "}\r\n",
       "top to bottom direction\r\n",
       "skinparam monochrome true\r\n",
       "skinparam classbackgroundcolor white\r\n",
       "skinparam shadowing false\r\n",
       "skinparam wrapWidth 300\r\n",
       "hide circle\r\n",
       "\r\n",
       "package \"ViewTest\" as E1  [[psysml:fb02ed11-6398-4cea-b135-53d0cca9c478 ]]  {\r\n",
       "package \"P\" as E2  [[psysml:6d9f5c34-02db-4c22-b8ae-ed1a072d5ac7 ]]  {\r\n",
       "}\r\n",
       "comp def \"VP\" as E3  <<(T,blue)viewpoint def>> [[psysml:436e526f-0cc5-474d-8f19-4580d940df20 ]] {\r\n",
       "}\r\n",
       "rec def \"R\" as E4  <<(T,blue)rendering def>> [[psysml:053dc08e-a8e7-4770-acc6-30068883d6d6 ]] {\r\n",
       "}\r\n",
       "rec def \"V\" as E5  <<(T,blue)view def>> [[psysml:2fa1d21f-0378-4832-ab0e-3c490c491fc9 ]] {\r\n",
       "comp usage \"vp: VP\" as E6  <<(T,blue)viewpoint>> [[psysml:b39da276-6b98-4aad-85bf-f9ecfc55683d ]] {\r\n",
       "}\r\n",
       "rec usage \"r: R\" as E7  [[psysml:5db0ac38-23f9-426f-a666-7fa33ad35708 ]] {\r\n",
       "}\r\n",
       "rec usage \"v: V\" as E8  [[psysml:96dfc0dc-2946-48da-b50d-9c346f08b52f ]] {\r\n",
       "rec usage \"r1\" as E9  [[psysml:fc5eb428-4a03-41d1-992b-aff2a13d3fb9 ]] {\r\n",
       "}\r\n",
       "}\r\n",
       "}\r\n",
       "E6 - -:|> E3 [[psysml:7b3d769f-4c56-4413-aa9f-0104e9507d6b ]] \r\n",
       "}\r\n",
       "@enduml\r\n",
       "\n",
       "PlantUML version 1.2020.13(Sat Jun 13 12:26:38 UTC 2020)\n",
       "(EPL source distribution)\n",
       "Java Runtime: OpenJDK Runtime Environment\n",
       "JVM: OpenJDK 64-Bit Server VM\n",
       "Default Encoding: UTF-8\n",
       "Language: en\n",
       "Country: null\n",
       "--></g></svg>"
      ]
     },
     "execution_count": 47,
     "metadata": {},
     "output_type": "execute_result"
    }
   ],
   "source": [
    "%viz --style=\"TB\" --view=\"Interconnection\" \"ViewTest\""
   ]
  },
  {
   "cell_type": "code",
   "execution_count": 48,
   "id": "public-appearance",
   "metadata": {
    "execution": {
     "iopub.execute_input": "2021-03-24T16:32:14.566432Z",
     "iopub.status.busy": "2021-03-24T16:32:14.565894Z",
     "iopub.status.idle": "2021-03-24T16:32:14.571909Z",
     "shell.execute_reply": "2021-03-24T16:32:14.571512Z"
    }
   },
   "outputs": [
    {
     "data": {
      "image/svg+xml": [
       "<?xml version=\"1.0\" encoding=\"UTF-8\" standalone=\"no\"?><svg xmlns=\"http://www.w3.org/2000/svg\" xmlns:xlink=\"http://www.w3.org/1999/xlink\" contentScriptType=\"application/ecmascript\" contentStyleType=\"text/css\" height=\"12px\" preserveAspectRatio=\"none\" style=\"width:12px;height:12px;\" version=\"1.1\" viewBox=\"0 0 12 12\" width=\"12px\" zoomAndPan=\"magnify\"><defs/><g><!--MD5=[06afc254b03ac5e9d9fb7773b07d0800]\n",
       "@startuml\r\n",
       "skinparam ranksep 8\r\n",
       "top to bottom direction\r\n",
       "skinparam monochrome true\r\n",
       "skinparam classbackgroundcolor white\r\n",
       "skinparam shadowing false\r\n",
       "skinparam wrapWidth 300\r\n",
       "hide circle\r\n",
       "\r\n",
       "@enduml\r\n",
       "\n",
       "PlantUML version 1.2020.13(Sat Jun 13 12:26:38 UTC 2020)\n",
       "(EPL source distribution)\n",
       "Java Runtime: OpenJDK Runtime Environment\n",
       "JVM: OpenJDK 64-Bit Server VM\n",
       "Default Encoding: UTF-8\n",
       "Language: en\n",
       "Country: null\n",
       "--></g></svg>"
      ]
     },
     "execution_count": 48,
     "metadata": {},
     "output_type": "execute_result"
    }
   ],
   "source": [
    "%viz --style=\"TB\" --view=\"Action\" \"ViewTest\""
   ]
  },
  {
   "cell_type": "code",
   "execution_count": 49,
   "id": "atmospheric-bench",
   "metadata": {
    "execution": {
     "iopub.execute_input": "2021-03-24T16:32:14.623748Z",
     "iopub.status.busy": "2021-03-24T16:32:14.623170Z",
     "iopub.status.idle": "2021-03-24T16:32:14.655587Z",
     "shell.execute_reply": "2021-03-24T16:32:14.654212Z"
    }
   },
   "outputs": [
    {
     "data": {
      "image/svg+xml": [
       "<?xml version=\"1.0\" encoding=\"UTF-8\" standalone=\"no\"?><svg xmlns=\"http://www.w3.org/2000/svg\" xmlns:xlink=\"http://www.w3.org/1999/xlink\" contentScriptType=\"application/ecmascript\" contentStyleType=\"text/css\" height=\"334px\" preserveAspectRatio=\"none\" style=\"width:417px;height:334px;\" version=\"1.1\" viewBox=\"0 0 417 334\" width=\"417px\" zoomAndPan=\"magnify\"><defs/><g><!--MD5=[fbc87193dbaf4d95561dea2c320d4a47]\n",
       "cluster E1--><a href=\"psysml:fb02ed11-6398-4cea-b135-53d0cca9c478\" target=\"_top\" title=\"psysml:fb02ed11-6398-4cea-b135-53d0cca9c478\" xlink:actuate=\"onRequest\" xlink:href=\"psysml:fb02ed11-6398-4cea-b135-53d0cca9c478\" xlink:show=\"new\" xlink:title=\"psysml:fb02ed11-6398-4cea-b135-53d0cca9c478\" xlink:type=\"simple\"><polygon fill=\"#FFFFFF\" points=\"16,6,96,6,103,28.2969,395,28.2969,395,322,16,322,16,6\" style=\"stroke: #000000; stroke-width: 1.5;\"/><line style=\"stroke: #000000; stroke-width: 1.5;\" x1=\"16\" x2=\"103\" y1=\"28.2969\" y2=\"28.2969\"/><text fill=\"#000000\" font-family=\"sans-serif\" font-size=\"14\" font-weight=\"bold\" lengthAdjust=\"spacingAndGlyphs\" textLength=\"74\" x=\"20\" y=\"20.9951\">ViewTest</text></a><!--MD5=[09b614a08d8cba4a07c9adeb5e0fee81]\n",
       "class E3--><a href=\"psysml:436e526f-0cc5-474d-8f19-4580d940df20\" target=\"_top\" title=\"psysml:436e526f-0cc5-474d-8f19-4580d940df20\" xlink:actuate=\"onRequest\" xlink:href=\"psysml:436e526f-0cc5-474d-8f19-4580d940df20\" xlink:show=\"new\" xlink:title=\"psysml:436e526f-0cc5-474d-8f19-4580d940df20\" xlink:type=\"simple\"><rect fill=\"#FFFFFF\" height=\"45.9375\" id=\"E3\" style=\"stroke: #383838; stroke-width: 1.5;\" width=\"98\" x=\"32\" y=\"260\"/><text fill=\"#000000\" font-family=\"sans-serif\" font-size=\"12\" font-style=\"italic\" lengthAdjust=\"spacingAndGlyphs\" textLength=\"96\" x=\"33\" y=\"276.1387\">«viewpoint def»</text><text fill=\"#000000\" font-family=\"sans-serif\" font-size=\"12\" lengthAdjust=\"spacingAndGlyphs\" textLength=\"16\" x=\"73\" y=\"290.1074\">VP</text><line style=\"stroke: #383838; stroke-width: 1.5;\" x1=\"33\" x2=\"129\" y1=\"297.9375\" y2=\"297.9375\"/></a><!--MD5=[ebbe1d658d1005bcc118a6aa81145e00]\n",
       "class E4--><a href=\"psysml:053dc08e-a8e7-4770-acc6-30068883d6d6\" target=\"_top\" title=\"psysml:053dc08e-a8e7-4770-acc6-30068883d6d6\" xlink:actuate=\"onRequest\" xlink:href=\"psysml:053dc08e-a8e7-4770-acc6-30068883d6d6\" xlink:show=\"new\" xlink:title=\"psysml:053dc08e-a8e7-4770-acc6-30068883d6d6\" xlink:type=\"simple\"><rect fill=\"#FFFFFF\" height=\"45.9375\" id=\"E4\" style=\"stroke: #383838; stroke-width: 1.5;\" width=\"101\" x=\"165.5\" y=\"260\"/><text fill=\"#000000\" font-family=\"sans-serif\" font-size=\"12\" font-style=\"italic\" lengthAdjust=\"spacingAndGlyphs\" textLength=\"99\" x=\"166.5\" y=\"276.1387\">«rendering def»</text><text fill=\"#000000\" font-family=\"sans-serif\" font-size=\"12\" lengthAdjust=\"spacingAndGlyphs\" textLength=\"8\" x=\"212\" y=\"290.1074\">R</text><line style=\"stroke: #383838; stroke-width: 1.5;\" x1=\"166.5\" x2=\"265.5\" y1=\"297.9375\" y2=\"297.9375\"/></a><!--MD5=[270fce915f116d4de14055a7c1d9a0f3]\n",
       "class E5--><a href=\"psysml:2fa1d21f-0378-4832-ab0e-3c490c491fc9\" target=\"_top\" title=\"psysml:2fa1d21f-0378-4832-ab0e-3c490c491fc9\" xlink:actuate=\"onRequest\" xlink:href=\"psysml:2fa1d21f-0378-4832-ab0e-3c490c491fc9\" xlink:show=\"new\" xlink:title=\"psysml:2fa1d21f-0378-4832-ab0e-3c490c491fc9\" xlink:type=\"simple\"><rect fill=\"#FFFFFF\" height=\"45.9375\" id=\"E5\" style=\"stroke: #383838; stroke-width: 1.5;\" width=\"66\" x=\"230\" y=\"44.5\"/><text fill=\"#000000\" font-family=\"sans-serif\" font-size=\"12\" font-style=\"italic\" lengthAdjust=\"spacingAndGlyphs\" textLength=\"64\" x=\"231\" y=\"60.6387\">«view def»</text><text fill=\"#000000\" font-family=\"sans-serif\" font-size=\"12\" lengthAdjust=\"spacingAndGlyphs\" textLength=\"8\" x=\"259\" y=\"74.6074\">V</text><line style=\"stroke: #383838; stroke-width: 1.5;\" x1=\"231\" x2=\"295\" y1=\"82.4375\" y2=\"82.4375\"/></a><!--MD5=[60a26617385b1d2d0262a64233df1f8d]\n",
       "class E6--><a href=\"psysml:b39da276-6b98-4aad-85bf-f9ecfc55683d\" target=\"_top\" title=\"psysml:b39da276-6b98-4aad-85bf-f9ecfc55683d\" xlink:actuate=\"onRequest\" xlink:href=\"psysml:b39da276-6b98-4aad-85bf-f9ecfc55683d\" xlink:show=\"new\" xlink:title=\"psysml:b39da276-6b98-4aad-85bf-f9ecfc55683d\" xlink:type=\"simple\"><rect fill=\"#FFFFFF\" height=\"45.9375\" id=\"E6\" rx=\"10\" ry=\"10\" style=\"stroke: #383838; stroke-width: 1.5;\" width=\"74\" x=\"56\" y=\"154\"/><text fill=\"#000000\" font-family=\"sans-serif\" font-size=\"12\" font-style=\"italic\" lengthAdjust=\"spacingAndGlyphs\" textLength=\"72\" x=\"57\" y=\"170.1387\">«viewpoint»</text><text fill=\"#000000\" font-family=\"sans-serif\" font-size=\"12\" lengthAdjust=\"spacingAndGlyphs\" textLength=\"38\" x=\"74\" y=\"184.1074\">vp: VP</text><line style=\"stroke: #383838; stroke-width: 1.5;\" x1=\"57\" x2=\"129\" y1=\"191.9375\" y2=\"191.9375\"/></a><!--MD5=[2156ba9850f5573cc1fc38a6a4b2f02b]\n",
       "class E7--><a href=\"psysml:5db0ac38-23f9-426f-a666-7fa33ad35708\" target=\"_top\" title=\"psysml:5db0ac38-23f9-426f-a666-7fa33ad35708\" xlink:actuate=\"onRequest\" xlink:href=\"psysml:5db0ac38-23f9-426f-a666-7fa33ad35708\" xlink:show=\"new\" xlink:title=\"psysml:5db0ac38-23f9-426f-a666-7fa33ad35708\" xlink:type=\"simple\"><rect fill=\"#FFFFFF\" height=\"45.9375\" id=\"E7\" rx=\"10\" ry=\"10\" style=\"stroke: #383838; stroke-width: 1.5;\" width=\"77\" x=\"177.5\" y=\"154\"/><text fill=\"#000000\" font-family=\"sans-serif\" font-size=\"12\" font-style=\"italic\" lengthAdjust=\"spacingAndGlyphs\" textLength=\"75\" x=\"178.5\" y=\"170.1387\">«rendering»</text><text fill=\"#000000\" font-family=\"sans-serif\" font-size=\"12\" lengthAdjust=\"spacingAndGlyphs\" textLength=\"21\" x=\"205.5\" y=\"184.1074\">r: R</text><line style=\"stroke: #383838; stroke-width: 1.5;\" x1=\"178.5\" x2=\"253.5\" y1=\"191.9375\" y2=\"191.9375\"/></a><!--MD5=[b9389687b975829384b498ac4b7476b2]\n",
       "class E8--><a href=\"psysml:96dfc0dc-2946-48da-b50d-9c346f08b52f\" target=\"_top\" title=\"psysml:96dfc0dc-2946-48da-b50d-9c346f08b52f\" xlink:actuate=\"onRequest\" xlink:href=\"psysml:96dfc0dc-2946-48da-b50d-9c346f08b52f\" xlink:show=\"new\" xlink:title=\"psysml:96dfc0dc-2946-48da-b50d-9c346f08b52f\" xlink:type=\"simple\"><rect fill=\"#FFFFFF\" height=\"45.9375\" id=\"E8\" rx=\"10\" ry=\"10\" style=\"stroke: #383838; stroke-width: 1.5;\" width=\"42\" x=\"290\" y=\"154\"/><text fill=\"#000000\" font-family=\"sans-serif\" font-size=\"12\" font-style=\"italic\" lengthAdjust=\"spacingAndGlyphs\" textLength=\"40\" x=\"291\" y=\"170.1387\">«view»</text><text fill=\"#000000\" font-family=\"sans-serif\" font-size=\"12\" lengthAdjust=\"spacingAndGlyphs\" textLength=\"22\" x=\"300\" y=\"184.1074\">v: V</text><line style=\"stroke: #383838; stroke-width: 1.5;\" x1=\"291\" x2=\"331\" y1=\"191.9375\" y2=\"191.9375\"/></a><!--MD5=[fd4143e9d270a159db93a4ea2a975926]\n",
       "class E9--><a href=\"psysml:fc5eb428-4a03-41d1-992b-aff2a13d3fb9\" target=\"_top\" title=\"psysml:fc5eb428-4a03-41d1-992b-aff2a13d3fb9\" xlink:actuate=\"onRequest\" xlink:href=\"psysml:fc5eb428-4a03-41d1-992b-aff2a13d3fb9\" xlink:show=\"new\" xlink:title=\"psysml:fc5eb428-4a03-41d1-992b-aff2a13d3fb9\" xlink:type=\"simple\"><rect fill=\"#FFFFFF\" height=\"45.9375\" id=\"E9\" rx=\"10\" ry=\"10\" style=\"stroke: #383838; stroke-width: 1.5;\" width=\"77\" x=\"301.5\" y=\"260\"/><text fill=\"#000000\" font-family=\"sans-serif\" font-size=\"12\" font-style=\"italic\" lengthAdjust=\"spacingAndGlyphs\" textLength=\"75\" x=\"302.5\" y=\"276.1387\">«rendering»</text><text fill=\"#000000\" font-family=\"sans-serif\" font-size=\"12\" lengthAdjust=\"spacingAndGlyphs\" textLength=\"13\" x=\"333.5\" y=\"290.1074\">r1</text><line style=\"stroke: #383838; stroke-width: 1.5;\" x1=\"302.5\" x2=\"377.5\" y1=\"297.9375\" y2=\"297.9375\"/></a><a href=\"psysml:6d9f5c34-02db-4c22-b8ae-ed1a072d5ac7\" target=\"_top\" title=\"psysml:6d9f5c34-02db-4c22-b8ae-ed1a072d5ac7\" xlink:actuate=\"onRequest\" xlink:href=\"psysml:6d9f5c34-02db-4c22-b8ae-ed1a072d5ac7\" xlink:show=\"new\" xlink:title=\"psysml:6d9f5c34-02db-4c22-b8ae-ed1a072d5ac7\" xlink:type=\"simple\"><polygon fill=\"#FFFFFF\" points=\"122,41,138,41,145,63.2969,152,63.2969,152,93.5938,122,93.5938,122,41\" style=\"stroke: #000000; stroke-width: 1.5;\"/><line style=\"stroke: #000000; stroke-width: 1.5;\" x1=\"122\" x2=\"145\" y1=\"63.2969\" y2=\"63.2969\"/><text fill=\"#000000\" font-family=\"sans-serif\" font-size=\"14\" font-weight=\"bold\" lengthAdjust=\"spacingAndGlyphs\" textLength=\"10\" x=\"126\" y=\"55.9951\">P</text></a><!--MD5=[85d356282659285ab4b2cfe2f634dd2b]\n",
       "reverse link E5 to E6--><a href=\"psysml:b39da276-6b98-4aad-85bf-f9ecfc55683d\" target=\"_top\" title=\"psysml:b39da276-6b98-4aad-85bf-f9ecfc55683d\" xlink:actuate=\"onRequest\" xlink:href=\"psysml:b39da276-6b98-4aad-85bf-f9ecfc55683d\" xlink:show=\"new\" xlink:title=\"psysml:b39da276-6b98-4aad-85bf-f9ecfc55683d\" xlink:type=\"simple\"><path d=\"M218.61,96.57 C190.28,114.48 154.1,137.36 127.85,153.96 \" fill=\"none\" id=\"E5&lt;-E6\" style=\"stroke: #383838; stroke-width: 1.0;\"/><polygon fill=\"#383838\" points=\"229.82,89.48,222.6111,89.2999,219.6723,95.8849,226.8811,96.0651,229.82,89.48\" style=\"stroke: #383838; stroke-width: 1.0;\"/></a><!--MD5=[a717450b82c80b9240a525fa862496af]\n",
       "link E6 to E3--><a href=\"psysml:7b3d769f-4c56-4413-aa9f-0104e9507d6b\" target=\"_top\" title=\"psysml:7b3d769f-4c56-4413-aa9f-0104e9507d6b\" xlink:actuate=\"onRequest\" xlink:href=\"psysml:7b3d769f-4c56-4413-aa9f-0104e9507d6b\" xlink:show=\"new\" xlink:title=\"psysml:7b3d769f-4c56-4413-aa9f-0104e9507d6b\" xlink:type=\"simple\"><path d=\"M90.46,200.06 C89.12,211.64 87.44,226.23 85.86,239.87 \" fill=\"none\" id=\"E6-&gt;E3\" style=\"stroke: #383838; stroke-width: 1.0;\"/><polygon fill=\"#FFFFFF\" points=\"83.54,259.98,78.757,240.3046,92.6653,241.9044,83.54,259.98\" style=\"stroke: #383838; stroke-width: 1.0;\"/><ellipse cx=\"81.3953\" cy=\"234.8704\" fill=\"#383838\" rx=\"2\" ry=\"2\" style=\"stroke: #383838; stroke-width: 1.0;\"/><ellipse cx=\"91.3298\" cy=\"236.0132\" fill=\"#383838\" rx=\"2\" ry=\"2\" style=\"stroke: #383838; stroke-width: 1.0;\"/></a><!--MD5=[6bdd27f9905911a7e892a3dc65cf6b7c]\n",
       "link E7 to E4--><a href=\"psysml:f768404d-501b-4614-8ab9-e2515f32fafd\" target=\"_top\" title=\"psysml:f768404d-501b-4614-8ab9-e2515f32fafd\" xlink:actuate=\"onRequest\" xlink:href=\"psysml:f768404d-501b-4614-8ab9-e2515f32fafd\" xlink:show=\"new\" xlink:title=\"psysml:f768404d-501b-4614-8ab9-e2515f32fafd\" xlink:type=\"simple\"><path d=\"M216,200.06 C216,211.64 216,226.23 216,239.87 \" fill=\"none\" id=\"E7-&gt;E4\" style=\"stroke: #383838; stroke-width: 1.0;\"/><polygon fill=\"#FFFFFF\" points=\"216,259.98,209,240.98,223,240.98,216,259.98\" style=\"stroke: #383838; stroke-width: 1.0;\"/><ellipse cx=\"211\" cy=\"235.28\" fill=\"#383838\" rx=\"2\" ry=\"2\" style=\"stroke: #383838; stroke-width: 1.0;\"/><ellipse cx=\"221\" cy=\"235.28\" fill=\"#383838\" rx=\"2\" ry=\"2\" style=\"stroke: #383838; stroke-width: 1.0;\"/></a><!--MD5=[452b418e7f8a40397a49b8c0a78acc5b]\n",
       "reverse link E5 to E7--><a href=\"psysml:5db0ac38-23f9-426f-a666-7fa33ad35708\" target=\"_top\" title=\"psysml:5db0ac38-23f9-426f-a666-7fa33ad35708\" xlink:actuate=\"onRequest\" xlink:href=\"psysml:5db0ac38-23f9-426f-a666-7fa33ad35708\" xlink:show=\"new\" xlink:title=\"psysml:5db0ac38-23f9-426f-a666-7fa33ad35708\" xlink:type=\"simple\"><path d=\"M248.1,102.57 C240.81,119.26 232.23,138.89 225.77,153.65 \" fill=\"none\" id=\"E5&lt;-E7\" style=\"stroke: #383838; stroke-width: 1.0;\"/><polygon fill=\"#383838\" points=\"253.38,90.51,247.31,94.4029,248.5688,101.5033,254.6388,97.6104,253.38,90.51\" style=\"stroke: #383838; stroke-width: 1.0;\"/><text fill=\"#000000\" font-family=\"sans-serif\" font-size=\"13\" lengthAdjust=\"spacingAndGlyphs\" textLength=\"24\" x=\"201.1986\" y=\"142.8366\">0..1</text></a><!--MD5=[1ccb2481ffa92f8d51a74ee30c51832a]\n",
       "link E8 to E5--><a href=\"psysml:2ecacd66-b174-4fa5-a1f0-5f98a8e6e629\" target=\"_top\" title=\"psysml:2ecacd66-b174-4fa5-a1f0-5f98a8e6e629\" xlink:actuate=\"onRequest\" xlink:href=\"psysml:2ecacd66-b174-4fa5-a1f0-5f98a8e6e629\" xlink:show=\"new\" xlink:title=\"psysml:2ecacd66-b174-4fa5-a1f0-5f98a8e6e629\" xlink:type=\"simple\"><path d=\"M312.22,153.65 C308.53,140.48 301.55,123.44 293.74,108.07 \" fill=\"none\" id=\"E8-&gt;E5\" style=\"stroke: #383838; stroke-width: 1.0;\"/><polygon fill=\"#FFFFFF\" points=\"283.97,90.51,299.3209,103.7142,287.0851,110.5174,283.97,90.51\" style=\"stroke: #383838; stroke-width: 1.0;\"/><ellipse cx=\"300.3428\" cy=\"109.6678\" fill=\"#383838\" rx=\"2\" ry=\"2\" style=\"stroke: #383838; stroke-width: 1.0;\"/><ellipse cx=\"291.6029\" cy=\"114.5273\" fill=\"#383838\" rx=\"2\" ry=\"2\" style=\"stroke: #383838; stroke-width: 1.0;\"/></a><!--MD5=[827760032d119d06bbc92f75530fd7ae]\n",
       "reverse link E5 to E8--><a href=\"psysml:96dfc0dc-2946-48da-b50d-9c346f08b52f\" target=\"_top\" title=\"psysml:96dfc0dc-2946-48da-b50d-9c346f08b52f\" xlink:actuate=\"onRequest\" xlink:href=\"psysml:96dfc0dc-2946-48da-b50d-9c346f08b52f\" xlink:show=\"new\" xlink:title=\"psysml:96dfc0dc-2946-48da-b50d-9c346f08b52f\" xlink:type=\"simple\"><path d=\"M266.44,103.07 C272.49,119.65 281.62,139.03 290.44,153.65 \" fill=\"none\" id=\"E5&lt;-E8\" style=\"stroke: #383838; stroke-width: 1.0;\"/><polygon fill=\"#383838\" points=\"262.31,90.51,260.3836,97.459,266.0572,101.9099,267.9836,94.9609,262.31,90.51\" style=\"stroke: #383838; stroke-width: 1.0;\"/><text fill=\"#000000\" font-family=\"sans-serif\" font-size=\"13\" lengthAdjust=\"spacingAndGlyphs\" textLength=\"7\" x=\"277.2746\" y=\"142.8366\">*</text></a><!--MD5=[22f5b4bae7e060dce8a1c8021efdb95b]\n",
       "reverse link E8 to E9--><a href=\"psysml:fc5eb428-4a03-41d1-992b-aff2a13d3fb9\" target=\"_top\" title=\"psysml:fc5eb428-4a03-41d1-992b-aff2a13d3fb9\" xlink:actuate=\"onRequest\" xlink:href=\"psysml:fc5eb428-4a03-41d1-992b-aff2a13d3fb9\" xlink:show=\"new\" xlink:title=\"psysml:fc5eb428-4a03-41d1-992b-aff2a13d3fb9\" xlink:type=\"simple\"><path d=\"M320.75,212.96 C325.08,228.51 330.05,246.33 333.86,259.98 \" fill=\"none\" id=\"E8&lt;-E9\" style=\"stroke: #383838; stroke-width: 1.0;\"/><polygon fill=\"#383838\" points=\"317.15,200.06,314.9066,206.9133,320.3699,211.6199,322.6133,204.7667,317.15,200.06\" style=\"stroke: #383838; stroke-width: 1.0;\"/></a><!--MD5=[2a00718e2b28f05c509ac83dc89d48a7]\n",
       "@startuml\r\n",
       "top to bottom direction\r\n",
       "skinparam monochrome true\r\n",
       "skinparam classbackgroundcolor white\r\n",
       "skinparam shadowing false\r\n",
       "skinparam wrapWidth 300\r\n",
       "hide circle\r\n",
       "\r\n",
       "package \"ViewTest\" as E1  [[psysml:fb02ed11-6398-4cea-b135-53d0cca9c478 ]]  {\r\n",
       "package \"P\" as E2  [[psysml:6d9f5c34-02db-4c22-b8ae-ed1a072d5ac7 ]]  {\r\n",
       "}\r\n",
       "comp def \"VP\" as E3  <<(T,blue)viewpoint def>> [[psysml:436e526f-0cc5-474d-8f19-4580d940df20 ]] {\r\n",
       "}\r\n",
       "comp def \"R\" as E4  <<(T,blue)rendering def>> [[psysml:053dc08e-a8e7-4770-acc6-30068883d6d6 ]] {\r\n",
       "}\r\n",
       "comp def \"V\" as E5  <<(T,blue)view def>> [[psysml:2fa1d21f-0378-4832-ab0e-3c490c491fc9 ]] {\r\n",
       "}\r\n",
       "comp usage \"vp: VP\" as E6  <<(T,blue)viewpoint>> [[psysml:b39da276-6b98-4aad-85bf-f9ecfc55683d ]] {\r\n",
       "}\r\n",
       "comp usage \"r: R\" as E7  <<(T,blue)rendering>> [[psysml:5db0ac38-23f9-426f-a666-7fa33ad35708 ]] {\r\n",
       "}\r\n",
       "comp usage \"v: V\" as E8  <<(T,blue)view>> [[psysml:96dfc0dc-2946-48da-b50d-9c346f08b52f ]] {\r\n",
       "}\r\n",
       "comp usage \"r1\" as E9  <<(T,blue)rendering>> [[psysml:fc5eb428-4a03-41d1-992b-aff2a13d3fb9 ]] {\r\n",
       "}\r\n",
       "E5 *- - E6 [[psysml:b39da276-6b98-4aad-85bf-f9ecfc55683d ]] \r\n",
       "E6 - -:|> E3 [[psysml:7b3d769f-4c56-4413-aa9f-0104e9507d6b ]] \r\n",
       "E7 - -:|> E4 [[psysml:f768404d-501b-4614-8ab9-e2515f32fafd ]] \r\n",
       "E5 *- - \"0..1\"E7 [[psysml:5db0ac38-23f9-426f-a666-7fa33ad35708 ]] \r\n",
       "E8 - -:|> E5 [[psysml:2ecacd66-b174-4fa5-a1f0-5f98a8e6e629 ]] \r\n",
       "E5 *- - \"*\"E8 [[psysml:96dfc0dc-2946-48da-b50d-9c346f08b52f ]] \r\n",
       "E8 *- - E9 [[psysml:fc5eb428-4a03-41d1-992b-aff2a13d3fb9 ]] \r\n",
       "}\r\n",
       "@enduml\r\n",
       "\n",
       "PlantUML version 1.2020.13(Sat Jun 13 12:26:38 UTC 2020)\n",
       "(EPL source distribution)\n",
       "Java Runtime: OpenJDK Runtime Environment\n",
       "JVM: OpenJDK 64-Bit Server VM\n",
       "Default Encoding: UTF-8\n",
       "Language: en\n",
       "Country: null\n",
       "--></g></svg>"
      ]
     },
     "execution_count": 49,
     "metadata": {},
     "output_type": "execute_result"
    }
   ],
   "source": [
    "%viz --style=\"TB\" --view=\"Sequence\" \"ViewTest\""
   ]
  },
  {
   "cell_type": "code",
   "execution_count": 50,
   "id": "advised-constitutional",
   "metadata": {
    "execution": {
     "iopub.execute_input": "2021-03-24T16:32:14.705929Z",
     "iopub.status.busy": "2021-03-24T16:32:14.705343Z",
     "iopub.status.idle": "2021-03-24T16:32:14.737186Z",
     "shell.execute_reply": "2021-03-24T16:32:14.735892Z"
    }
   },
   "outputs": [
    {
     "data": {
      "image/svg+xml": [
       "<?xml version=\"1.0\" encoding=\"UTF-8\" standalone=\"no\"?><svg xmlns=\"http://www.w3.org/2000/svg\" xmlns:xlink=\"http://www.w3.org/1999/xlink\" contentScriptType=\"application/ecmascript\" contentStyleType=\"text/css\" height=\"334px\" preserveAspectRatio=\"none\" style=\"width:417px;height:334px;\" version=\"1.1\" viewBox=\"0 0 417 334\" width=\"417px\" zoomAndPan=\"magnify\"><defs/><g><!--MD5=[fbc87193dbaf4d95561dea2c320d4a47]\n",
       "cluster E1--><a href=\"psysml:fb02ed11-6398-4cea-b135-53d0cca9c478\" target=\"_top\" title=\"psysml:fb02ed11-6398-4cea-b135-53d0cca9c478\" xlink:actuate=\"onRequest\" xlink:href=\"psysml:fb02ed11-6398-4cea-b135-53d0cca9c478\" xlink:show=\"new\" xlink:title=\"psysml:fb02ed11-6398-4cea-b135-53d0cca9c478\" xlink:type=\"simple\"><polygon fill=\"#FFFFFF\" points=\"16,6,96,6,103,28.2969,395,28.2969,395,322,16,322,16,6\" style=\"stroke: #000000; stroke-width: 1.5;\"/><line style=\"stroke: #000000; stroke-width: 1.5;\" x1=\"16\" x2=\"103\" y1=\"28.2969\" y2=\"28.2969\"/><text fill=\"#000000\" font-family=\"sans-serif\" font-size=\"14\" font-weight=\"bold\" lengthAdjust=\"spacingAndGlyphs\" textLength=\"74\" x=\"20\" y=\"20.9951\">ViewTest</text></a><!--MD5=[09b614a08d8cba4a07c9adeb5e0fee81]\n",
       "class E3--><a href=\"psysml:436e526f-0cc5-474d-8f19-4580d940df20\" target=\"_top\" title=\"psysml:436e526f-0cc5-474d-8f19-4580d940df20\" xlink:actuate=\"onRequest\" xlink:href=\"psysml:436e526f-0cc5-474d-8f19-4580d940df20\" xlink:show=\"new\" xlink:title=\"psysml:436e526f-0cc5-474d-8f19-4580d940df20\" xlink:type=\"simple\"><rect fill=\"#FFFFFF\" height=\"45.9375\" id=\"E3\" style=\"stroke: #383838; stroke-width: 1.5;\" width=\"98\" x=\"32\" y=\"260\"/><text fill=\"#000000\" font-family=\"sans-serif\" font-size=\"12\" font-style=\"italic\" lengthAdjust=\"spacingAndGlyphs\" textLength=\"96\" x=\"33\" y=\"276.1387\">«viewpoint def»</text><text fill=\"#000000\" font-family=\"sans-serif\" font-size=\"12\" lengthAdjust=\"spacingAndGlyphs\" textLength=\"16\" x=\"73\" y=\"290.1074\">VP</text><line style=\"stroke: #383838; stroke-width: 1.5;\" x1=\"33\" x2=\"129\" y1=\"297.9375\" y2=\"297.9375\"/></a><!--MD5=[ebbe1d658d1005bcc118a6aa81145e00]\n",
       "class E4--><a href=\"psysml:053dc08e-a8e7-4770-acc6-30068883d6d6\" target=\"_top\" title=\"psysml:053dc08e-a8e7-4770-acc6-30068883d6d6\" xlink:actuate=\"onRequest\" xlink:href=\"psysml:053dc08e-a8e7-4770-acc6-30068883d6d6\" xlink:show=\"new\" xlink:title=\"psysml:053dc08e-a8e7-4770-acc6-30068883d6d6\" xlink:type=\"simple\"><rect fill=\"#FFFFFF\" height=\"45.9375\" id=\"E4\" style=\"stroke: #383838; stroke-width: 1.5;\" width=\"101\" x=\"165.5\" y=\"260\"/><text fill=\"#000000\" font-family=\"sans-serif\" font-size=\"12\" font-style=\"italic\" lengthAdjust=\"spacingAndGlyphs\" textLength=\"99\" x=\"166.5\" y=\"276.1387\">«rendering def»</text><text fill=\"#000000\" font-family=\"sans-serif\" font-size=\"12\" lengthAdjust=\"spacingAndGlyphs\" textLength=\"8\" x=\"212\" y=\"290.1074\">R</text><line style=\"stroke: #383838; stroke-width: 1.5;\" x1=\"166.5\" x2=\"265.5\" y1=\"297.9375\" y2=\"297.9375\"/></a><!--MD5=[270fce915f116d4de14055a7c1d9a0f3]\n",
       "class E5--><a href=\"psysml:2fa1d21f-0378-4832-ab0e-3c490c491fc9\" target=\"_top\" title=\"psysml:2fa1d21f-0378-4832-ab0e-3c490c491fc9\" xlink:actuate=\"onRequest\" xlink:href=\"psysml:2fa1d21f-0378-4832-ab0e-3c490c491fc9\" xlink:show=\"new\" xlink:title=\"psysml:2fa1d21f-0378-4832-ab0e-3c490c491fc9\" xlink:type=\"simple\"><rect fill=\"#FFFFFF\" height=\"45.9375\" id=\"E5\" style=\"stroke: #383838; stroke-width: 1.5;\" width=\"66\" x=\"230\" y=\"44.5\"/><text fill=\"#000000\" font-family=\"sans-serif\" font-size=\"12\" font-style=\"italic\" lengthAdjust=\"spacingAndGlyphs\" textLength=\"64\" x=\"231\" y=\"60.6387\">«view def»</text><text fill=\"#000000\" font-family=\"sans-serif\" font-size=\"12\" lengthAdjust=\"spacingAndGlyphs\" textLength=\"8\" x=\"259\" y=\"74.6074\">V</text><line style=\"stroke: #383838; stroke-width: 1.5;\" x1=\"231\" x2=\"295\" y1=\"82.4375\" y2=\"82.4375\"/></a><!--MD5=[60a26617385b1d2d0262a64233df1f8d]\n",
       "class E6--><a href=\"psysml:b39da276-6b98-4aad-85bf-f9ecfc55683d\" target=\"_top\" title=\"psysml:b39da276-6b98-4aad-85bf-f9ecfc55683d\" xlink:actuate=\"onRequest\" xlink:href=\"psysml:b39da276-6b98-4aad-85bf-f9ecfc55683d\" xlink:show=\"new\" xlink:title=\"psysml:b39da276-6b98-4aad-85bf-f9ecfc55683d\" xlink:type=\"simple\"><rect fill=\"#FFFFFF\" height=\"45.9375\" id=\"E6\" rx=\"10\" ry=\"10\" style=\"stroke: #383838; stroke-width: 1.5;\" width=\"74\" x=\"56\" y=\"154\"/><text fill=\"#000000\" font-family=\"sans-serif\" font-size=\"12\" font-style=\"italic\" lengthAdjust=\"spacingAndGlyphs\" textLength=\"72\" x=\"57\" y=\"170.1387\">«viewpoint»</text><text fill=\"#000000\" font-family=\"sans-serif\" font-size=\"12\" lengthAdjust=\"spacingAndGlyphs\" textLength=\"38\" x=\"74\" y=\"184.1074\">vp: VP</text><line style=\"stroke: #383838; stroke-width: 1.5;\" x1=\"57\" x2=\"129\" y1=\"191.9375\" y2=\"191.9375\"/></a><!--MD5=[2156ba9850f5573cc1fc38a6a4b2f02b]\n",
       "class E7--><a href=\"psysml:5db0ac38-23f9-426f-a666-7fa33ad35708\" target=\"_top\" title=\"psysml:5db0ac38-23f9-426f-a666-7fa33ad35708\" xlink:actuate=\"onRequest\" xlink:href=\"psysml:5db0ac38-23f9-426f-a666-7fa33ad35708\" xlink:show=\"new\" xlink:title=\"psysml:5db0ac38-23f9-426f-a666-7fa33ad35708\" xlink:type=\"simple\"><rect fill=\"#FFFFFF\" height=\"45.9375\" id=\"E7\" rx=\"10\" ry=\"10\" style=\"stroke: #383838; stroke-width: 1.5;\" width=\"77\" x=\"177.5\" y=\"154\"/><text fill=\"#000000\" font-family=\"sans-serif\" font-size=\"12\" font-style=\"italic\" lengthAdjust=\"spacingAndGlyphs\" textLength=\"75\" x=\"178.5\" y=\"170.1387\">«rendering»</text><text fill=\"#000000\" font-family=\"sans-serif\" font-size=\"12\" lengthAdjust=\"spacingAndGlyphs\" textLength=\"21\" x=\"205.5\" y=\"184.1074\">r: R</text><line style=\"stroke: #383838; stroke-width: 1.5;\" x1=\"178.5\" x2=\"253.5\" y1=\"191.9375\" y2=\"191.9375\"/></a><!--MD5=[b9389687b975829384b498ac4b7476b2]\n",
       "class E8--><a href=\"psysml:96dfc0dc-2946-48da-b50d-9c346f08b52f\" target=\"_top\" title=\"psysml:96dfc0dc-2946-48da-b50d-9c346f08b52f\" xlink:actuate=\"onRequest\" xlink:href=\"psysml:96dfc0dc-2946-48da-b50d-9c346f08b52f\" xlink:show=\"new\" xlink:title=\"psysml:96dfc0dc-2946-48da-b50d-9c346f08b52f\" xlink:type=\"simple\"><rect fill=\"#FFFFFF\" height=\"45.9375\" id=\"E8\" rx=\"10\" ry=\"10\" style=\"stroke: #383838; stroke-width: 1.5;\" width=\"42\" x=\"290\" y=\"154\"/><text fill=\"#000000\" font-family=\"sans-serif\" font-size=\"12\" font-style=\"italic\" lengthAdjust=\"spacingAndGlyphs\" textLength=\"40\" x=\"291\" y=\"170.1387\">«view»</text><text fill=\"#000000\" font-family=\"sans-serif\" font-size=\"12\" lengthAdjust=\"spacingAndGlyphs\" textLength=\"22\" x=\"300\" y=\"184.1074\">v: V</text><line style=\"stroke: #383838; stroke-width: 1.5;\" x1=\"291\" x2=\"331\" y1=\"191.9375\" y2=\"191.9375\"/></a><!--MD5=[fd4143e9d270a159db93a4ea2a975926]\n",
       "class E9--><a href=\"psysml:fc5eb428-4a03-41d1-992b-aff2a13d3fb9\" target=\"_top\" title=\"psysml:fc5eb428-4a03-41d1-992b-aff2a13d3fb9\" xlink:actuate=\"onRequest\" xlink:href=\"psysml:fc5eb428-4a03-41d1-992b-aff2a13d3fb9\" xlink:show=\"new\" xlink:title=\"psysml:fc5eb428-4a03-41d1-992b-aff2a13d3fb9\" xlink:type=\"simple\"><rect fill=\"#FFFFFF\" height=\"45.9375\" id=\"E9\" rx=\"10\" ry=\"10\" style=\"stroke: #383838; stroke-width: 1.5;\" width=\"77\" x=\"301.5\" y=\"260\"/><text fill=\"#000000\" font-family=\"sans-serif\" font-size=\"12\" font-style=\"italic\" lengthAdjust=\"spacingAndGlyphs\" textLength=\"75\" x=\"302.5\" y=\"276.1387\">«rendering»</text><text fill=\"#000000\" font-family=\"sans-serif\" font-size=\"12\" lengthAdjust=\"spacingAndGlyphs\" textLength=\"13\" x=\"333.5\" y=\"290.1074\">r1</text><line style=\"stroke: #383838; stroke-width: 1.5;\" x1=\"302.5\" x2=\"377.5\" y1=\"297.9375\" y2=\"297.9375\"/></a><a href=\"psysml:6d9f5c34-02db-4c22-b8ae-ed1a072d5ac7\" target=\"_top\" title=\"psysml:6d9f5c34-02db-4c22-b8ae-ed1a072d5ac7\" xlink:actuate=\"onRequest\" xlink:href=\"psysml:6d9f5c34-02db-4c22-b8ae-ed1a072d5ac7\" xlink:show=\"new\" xlink:title=\"psysml:6d9f5c34-02db-4c22-b8ae-ed1a072d5ac7\" xlink:type=\"simple\"><polygon fill=\"#FFFFFF\" points=\"122,41,138,41,145,63.2969,152,63.2969,152,93.5938,122,93.5938,122,41\" style=\"stroke: #000000; stroke-width: 1.5;\"/><line style=\"stroke: #000000; stroke-width: 1.5;\" x1=\"122\" x2=\"145\" y1=\"63.2969\" y2=\"63.2969\"/><text fill=\"#000000\" font-family=\"sans-serif\" font-size=\"14\" font-weight=\"bold\" lengthAdjust=\"spacingAndGlyphs\" textLength=\"10\" x=\"126\" y=\"55.9951\">P</text></a><!--MD5=[85d356282659285ab4b2cfe2f634dd2b]\n",
       "reverse link E5 to E6--><a href=\"psysml:b39da276-6b98-4aad-85bf-f9ecfc55683d\" target=\"_top\" title=\"psysml:b39da276-6b98-4aad-85bf-f9ecfc55683d\" xlink:actuate=\"onRequest\" xlink:href=\"psysml:b39da276-6b98-4aad-85bf-f9ecfc55683d\" xlink:show=\"new\" xlink:title=\"psysml:b39da276-6b98-4aad-85bf-f9ecfc55683d\" xlink:type=\"simple\"><path d=\"M218.61,96.57 C190.28,114.48 154.1,137.36 127.85,153.96 \" fill=\"none\" id=\"E5&lt;-E6\" style=\"stroke: #383838; stroke-width: 1.0;\"/><polygon fill=\"#383838\" points=\"229.82,89.48,222.6111,89.2999,219.6723,95.8849,226.8811,96.0651,229.82,89.48\" style=\"stroke: #383838; stroke-width: 1.0;\"/></a><!--MD5=[a717450b82c80b9240a525fa862496af]\n",
       "link E6 to E3--><a href=\"psysml:7b3d769f-4c56-4413-aa9f-0104e9507d6b\" target=\"_top\" title=\"psysml:7b3d769f-4c56-4413-aa9f-0104e9507d6b\" xlink:actuate=\"onRequest\" xlink:href=\"psysml:7b3d769f-4c56-4413-aa9f-0104e9507d6b\" xlink:show=\"new\" xlink:title=\"psysml:7b3d769f-4c56-4413-aa9f-0104e9507d6b\" xlink:type=\"simple\"><path d=\"M90.46,200.06 C89.12,211.64 87.44,226.23 85.86,239.87 \" fill=\"none\" id=\"E6-&gt;E3\" style=\"stroke: #383838; stroke-width: 1.0;\"/><polygon fill=\"#FFFFFF\" points=\"83.54,259.98,78.757,240.3046,92.6653,241.9044,83.54,259.98\" style=\"stroke: #383838; stroke-width: 1.0;\"/><ellipse cx=\"81.3953\" cy=\"234.8704\" fill=\"#383838\" rx=\"2\" ry=\"2\" style=\"stroke: #383838; stroke-width: 1.0;\"/><ellipse cx=\"91.3298\" cy=\"236.0132\" fill=\"#383838\" rx=\"2\" ry=\"2\" style=\"stroke: #383838; stroke-width: 1.0;\"/></a><!--MD5=[6bdd27f9905911a7e892a3dc65cf6b7c]\n",
       "link E7 to E4--><a href=\"psysml:f768404d-501b-4614-8ab9-e2515f32fafd\" target=\"_top\" title=\"psysml:f768404d-501b-4614-8ab9-e2515f32fafd\" xlink:actuate=\"onRequest\" xlink:href=\"psysml:f768404d-501b-4614-8ab9-e2515f32fafd\" xlink:show=\"new\" xlink:title=\"psysml:f768404d-501b-4614-8ab9-e2515f32fafd\" xlink:type=\"simple\"><path d=\"M216,200.06 C216,211.64 216,226.23 216,239.87 \" fill=\"none\" id=\"E7-&gt;E4\" style=\"stroke: #383838; stroke-width: 1.0;\"/><polygon fill=\"#FFFFFF\" points=\"216,259.98,209,240.98,223,240.98,216,259.98\" style=\"stroke: #383838; stroke-width: 1.0;\"/><ellipse cx=\"211\" cy=\"235.28\" fill=\"#383838\" rx=\"2\" ry=\"2\" style=\"stroke: #383838; stroke-width: 1.0;\"/><ellipse cx=\"221\" cy=\"235.28\" fill=\"#383838\" rx=\"2\" ry=\"2\" style=\"stroke: #383838; stroke-width: 1.0;\"/></a><!--MD5=[452b418e7f8a40397a49b8c0a78acc5b]\n",
       "reverse link E5 to E7--><a href=\"psysml:5db0ac38-23f9-426f-a666-7fa33ad35708\" target=\"_top\" title=\"psysml:5db0ac38-23f9-426f-a666-7fa33ad35708\" xlink:actuate=\"onRequest\" xlink:href=\"psysml:5db0ac38-23f9-426f-a666-7fa33ad35708\" xlink:show=\"new\" xlink:title=\"psysml:5db0ac38-23f9-426f-a666-7fa33ad35708\" xlink:type=\"simple\"><path d=\"M248.1,102.57 C240.81,119.26 232.23,138.89 225.77,153.65 \" fill=\"none\" id=\"E5&lt;-E7\" style=\"stroke: #383838; stroke-width: 1.0;\"/><polygon fill=\"#383838\" points=\"253.38,90.51,247.31,94.4029,248.5688,101.5033,254.6388,97.6104,253.38,90.51\" style=\"stroke: #383838; stroke-width: 1.0;\"/><text fill=\"#000000\" font-family=\"sans-serif\" font-size=\"13\" lengthAdjust=\"spacingAndGlyphs\" textLength=\"24\" x=\"201.1986\" y=\"142.8366\">0..1</text></a><!--MD5=[1ccb2481ffa92f8d51a74ee30c51832a]\n",
       "link E8 to E5--><a href=\"psysml:2ecacd66-b174-4fa5-a1f0-5f98a8e6e629\" target=\"_top\" title=\"psysml:2ecacd66-b174-4fa5-a1f0-5f98a8e6e629\" xlink:actuate=\"onRequest\" xlink:href=\"psysml:2ecacd66-b174-4fa5-a1f0-5f98a8e6e629\" xlink:show=\"new\" xlink:title=\"psysml:2ecacd66-b174-4fa5-a1f0-5f98a8e6e629\" xlink:type=\"simple\"><path d=\"M312.22,153.65 C308.53,140.48 301.55,123.44 293.74,108.07 \" fill=\"none\" id=\"E8-&gt;E5\" style=\"stroke: #383838; stroke-width: 1.0;\"/><polygon fill=\"#FFFFFF\" points=\"283.97,90.51,299.3209,103.7142,287.0851,110.5174,283.97,90.51\" style=\"stroke: #383838; stroke-width: 1.0;\"/><ellipse cx=\"300.3428\" cy=\"109.6678\" fill=\"#383838\" rx=\"2\" ry=\"2\" style=\"stroke: #383838; stroke-width: 1.0;\"/><ellipse cx=\"291.6029\" cy=\"114.5273\" fill=\"#383838\" rx=\"2\" ry=\"2\" style=\"stroke: #383838; stroke-width: 1.0;\"/></a><!--MD5=[827760032d119d06bbc92f75530fd7ae]\n",
       "reverse link E5 to E8--><a href=\"psysml:96dfc0dc-2946-48da-b50d-9c346f08b52f\" target=\"_top\" title=\"psysml:96dfc0dc-2946-48da-b50d-9c346f08b52f\" xlink:actuate=\"onRequest\" xlink:href=\"psysml:96dfc0dc-2946-48da-b50d-9c346f08b52f\" xlink:show=\"new\" xlink:title=\"psysml:96dfc0dc-2946-48da-b50d-9c346f08b52f\" xlink:type=\"simple\"><path d=\"M266.44,103.07 C272.49,119.65 281.62,139.03 290.44,153.65 \" fill=\"none\" id=\"E5&lt;-E8\" style=\"stroke: #383838; stroke-width: 1.0;\"/><polygon fill=\"#383838\" points=\"262.31,90.51,260.3836,97.459,266.0572,101.9099,267.9836,94.9609,262.31,90.51\" style=\"stroke: #383838; stroke-width: 1.0;\"/><text fill=\"#000000\" font-family=\"sans-serif\" font-size=\"13\" lengthAdjust=\"spacingAndGlyphs\" textLength=\"7\" x=\"277.2746\" y=\"142.8366\">*</text></a><!--MD5=[22f5b4bae7e060dce8a1c8021efdb95b]\n",
       "reverse link E8 to E9--><a href=\"psysml:fc5eb428-4a03-41d1-992b-aff2a13d3fb9\" target=\"_top\" title=\"psysml:fc5eb428-4a03-41d1-992b-aff2a13d3fb9\" xlink:actuate=\"onRequest\" xlink:href=\"psysml:fc5eb428-4a03-41d1-992b-aff2a13d3fb9\" xlink:show=\"new\" xlink:title=\"psysml:fc5eb428-4a03-41d1-992b-aff2a13d3fb9\" xlink:type=\"simple\"><path d=\"M320.75,212.96 C325.08,228.51 330.05,246.33 333.86,259.98 \" fill=\"none\" id=\"E8&lt;-E9\" style=\"stroke: #383838; stroke-width: 1.0;\"/><polygon fill=\"#383838\" points=\"317.15,200.06,314.9066,206.9133,320.3699,211.6199,322.6133,204.7667,317.15,200.06\" style=\"stroke: #383838; stroke-width: 1.0;\"/></a><!--MD5=[2a00718e2b28f05c509ac83dc89d48a7]\n",
       "@startuml\r\n",
       "top to bottom direction\r\n",
       "skinparam monochrome true\r\n",
       "skinparam classbackgroundcolor white\r\n",
       "skinparam shadowing false\r\n",
       "skinparam wrapWidth 300\r\n",
       "hide circle\r\n",
       "\r\n",
       "package \"ViewTest\" as E1  [[psysml:fb02ed11-6398-4cea-b135-53d0cca9c478 ]]  {\r\n",
       "package \"P\" as E2  [[psysml:6d9f5c34-02db-4c22-b8ae-ed1a072d5ac7 ]]  {\r\n",
       "}\r\n",
       "comp def \"VP\" as E3  <<(T,blue)viewpoint def>> [[psysml:436e526f-0cc5-474d-8f19-4580d940df20 ]] {\r\n",
       "}\r\n",
       "comp def \"R\" as E4  <<(T,blue)rendering def>> [[psysml:053dc08e-a8e7-4770-acc6-30068883d6d6 ]] {\r\n",
       "}\r\n",
       "comp def \"V\" as E5  <<(T,blue)view def>> [[psysml:2fa1d21f-0378-4832-ab0e-3c490c491fc9 ]] {\r\n",
       "}\r\n",
       "comp usage \"vp: VP\" as E6  <<(T,blue)viewpoint>> [[psysml:b39da276-6b98-4aad-85bf-f9ecfc55683d ]] {\r\n",
       "}\r\n",
       "comp usage \"r: R\" as E7  <<(T,blue)rendering>> [[psysml:5db0ac38-23f9-426f-a666-7fa33ad35708 ]] {\r\n",
       "}\r\n",
       "comp usage \"v: V\" as E8  <<(T,blue)view>> [[psysml:96dfc0dc-2946-48da-b50d-9c346f08b52f ]] {\r\n",
       "}\r\n",
       "comp usage \"r1\" as E9  <<(T,blue)rendering>> [[psysml:fc5eb428-4a03-41d1-992b-aff2a13d3fb9 ]] {\r\n",
       "}\r\n",
       "E5 *- - E6 [[psysml:b39da276-6b98-4aad-85bf-f9ecfc55683d ]] \r\n",
       "E6 - -:|> E3 [[psysml:7b3d769f-4c56-4413-aa9f-0104e9507d6b ]] \r\n",
       "E7 - -:|> E4 [[psysml:f768404d-501b-4614-8ab9-e2515f32fafd ]] \r\n",
       "E5 *- - \"0..1\"E7 [[psysml:5db0ac38-23f9-426f-a666-7fa33ad35708 ]] \r\n",
       "E8 - -:|> E5 [[psysml:2ecacd66-b174-4fa5-a1f0-5f98a8e6e629 ]] \r\n",
       "E5 *- - \"*\"E8 [[psysml:96dfc0dc-2946-48da-b50d-9c346f08b52f ]] \r\n",
       "E8 *- - E9 [[psysml:fc5eb428-4a03-41d1-992b-aff2a13d3fb9 ]] \r\n",
       "}\r\n",
       "@enduml\r\n",
       "\n",
       "PlantUML version 1.2020.13(Sat Jun 13 12:26:38 UTC 2020)\n",
       "(EPL source distribution)\n",
       "Java Runtime: OpenJDK Runtime Environment\n",
       "JVM: OpenJDK 64-Bit Server VM\n",
       "Default Encoding: UTF-8\n",
       "Language: en\n",
       "Country: null\n",
       "--></g></svg>"
      ]
     },
     "execution_count": 50,
     "metadata": {},
     "output_type": "execute_result"
    }
   ],
   "source": [
    "%viz --style=\"TB\" --view=\"MIXED\" \"ViewTest\""
   ]
  },
  {
   "cell_type": "code",
   "execution_count": 51,
   "id": "liquid-latter",
   "metadata": {
    "execution": {
     "iopub.execute_input": "2021-03-24T16:32:14.787623Z",
     "iopub.status.busy": "2021-03-24T16:32:14.787184Z",
     "iopub.status.idle": "2021-03-24T16:32:14.820840Z",
     "shell.execute_reply": "2021-03-24T16:32:14.819374Z"
    }
   },
   "outputs": [
    {
     "data": {
      "image/svg+xml": [
       "<?xml version=\"1.0\" encoding=\"UTF-8\" standalone=\"no\"?><svg xmlns=\"http://www.w3.org/2000/svg\" xmlns:xlink=\"http://www.w3.org/1999/xlink\" contentScriptType=\"application/ecmascript\" contentStyleType=\"text/css\" height=\"334px\" preserveAspectRatio=\"none\" style=\"width:417px;height:334px;\" version=\"1.1\" viewBox=\"0 0 417 334\" width=\"417px\" zoomAndPan=\"magnify\"><defs/><g><!--MD5=[fbc87193dbaf4d95561dea2c320d4a47]\n",
       "cluster E1--><a href=\"psysml:fb02ed11-6398-4cea-b135-53d0cca9c478\" target=\"_top\" title=\"psysml:fb02ed11-6398-4cea-b135-53d0cca9c478\" xlink:actuate=\"onRequest\" xlink:href=\"psysml:fb02ed11-6398-4cea-b135-53d0cca9c478\" xlink:show=\"new\" xlink:title=\"psysml:fb02ed11-6398-4cea-b135-53d0cca9c478\" xlink:type=\"simple\"><polygon fill=\"#FFFFFF\" points=\"16,6,96,6,103,28.2969,395,28.2969,395,322,16,322,16,6\" style=\"stroke: #000000; stroke-width: 1.5;\"/><line style=\"stroke: #000000; stroke-width: 1.5;\" x1=\"16\" x2=\"103\" y1=\"28.2969\" y2=\"28.2969\"/><text fill=\"#000000\" font-family=\"sans-serif\" font-size=\"14\" font-weight=\"bold\" lengthAdjust=\"spacingAndGlyphs\" textLength=\"74\" x=\"20\" y=\"20.9951\">ViewTest</text></a><!--MD5=[09b614a08d8cba4a07c9adeb5e0fee81]\n",
       "class E3--><a href=\"psysml:436e526f-0cc5-474d-8f19-4580d940df20\" target=\"_top\" title=\"psysml:436e526f-0cc5-474d-8f19-4580d940df20\" xlink:actuate=\"onRequest\" xlink:href=\"psysml:436e526f-0cc5-474d-8f19-4580d940df20\" xlink:show=\"new\" xlink:title=\"psysml:436e526f-0cc5-474d-8f19-4580d940df20\" xlink:type=\"simple\"><rect fill=\"#FFFFFF\" height=\"45.9375\" id=\"E3\" style=\"stroke: #383838; stroke-width: 1.5;\" width=\"98\" x=\"32\" y=\"260\"/><text fill=\"#000000\" font-family=\"sans-serif\" font-size=\"12\" font-style=\"italic\" lengthAdjust=\"spacingAndGlyphs\" textLength=\"96\" x=\"33\" y=\"276.1387\">«viewpoint def»</text><text fill=\"#000000\" font-family=\"sans-serif\" font-size=\"12\" lengthAdjust=\"spacingAndGlyphs\" textLength=\"16\" x=\"73\" y=\"290.1074\">VP</text><line style=\"stroke: #383838; stroke-width: 1.5;\" x1=\"33\" x2=\"129\" y1=\"297.9375\" y2=\"297.9375\"/></a><!--MD5=[ebbe1d658d1005bcc118a6aa81145e00]\n",
       "class E4--><a href=\"psysml:053dc08e-a8e7-4770-acc6-30068883d6d6\" target=\"_top\" title=\"psysml:053dc08e-a8e7-4770-acc6-30068883d6d6\" xlink:actuate=\"onRequest\" xlink:href=\"psysml:053dc08e-a8e7-4770-acc6-30068883d6d6\" xlink:show=\"new\" xlink:title=\"psysml:053dc08e-a8e7-4770-acc6-30068883d6d6\" xlink:type=\"simple\"><rect fill=\"#FFFFFF\" height=\"45.9375\" id=\"E4\" style=\"stroke: #383838; stroke-width: 1.5;\" width=\"101\" x=\"165.5\" y=\"260\"/><text fill=\"#000000\" font-family=\"sans-serif\" font-size=\"12\" font-style=\"italic\" lengthAdjust=\"spacingAndGlyphs\" textLength=\"99\" x=\"166.5\" y=\"276.1387\">«rendering def»</text><text fill=\"#000000\" font-family=\"sans-serif\" font-size=\"12\" lengthAdjust=\"spacingAndGlyphs\" textLength=\"8\" x=\"212\" y=\"290.1074\">R</text><line style=\"stroke: #383838; stroke-width: 1.5;\" x1=\"166.5\" x2=\"265.5\" y1=\"297.9375\" y2=\"297.9375\"/></a><!--MD5=[270fce915f116d4de14055a7c1d9a0f3]\n",
       "class E5--><a href=\"psysml:2fa1d21f-0378-4832-ab0e-3c490c491fc9\" target=\"_top\" title=\"psysml:2fa1d21f-0378-4832-ab0e-3c490c491fc9\" xlink:actuate=\"onRequest\" xlink:href=\"psysml:2fa1d21f-0378-4832-ab0e-3c490c491fc9\" xlink:show=\"new\" xlink:title=\"psysml:2fa1d21f-0378-4832-ab0e-3c490c491fc9\" xlink:type=\"simple\"><rect fill=\"#FFFFFF\" height=\"45.9375\" id=\"E5\" style=\"stroke: #383838; stroke-width: 1.5;\" width=\"66\" x=\"230\" y=\"44.5\"/><text fill=\"#000000\" font-family=\"sans-serif\" font-size=\"12\" font-style=\"italic\" lengthAdjust=\"spacingAndGlyphs\" textLength=\"64\" x=\"231\" y=\"60.6387\">«view def»</text><text fill=\"#000000\" font-family=\"sans-serif\" font-size=\"12\" lengthAdjust=\"spacingAndGlyphs\" textLength=\"8\" x=\"259\" y=\"74.6074\">V</text><line style=\"stroke: #383838; stroke-width: 1.5;\" x1=\"231\" x2=\"295\" y1=\"82.4375\" y2=\"82.4375\"/></a><!--MD5=[60a26617385b1d2d0262a64233df1f8d]\n",
       "class E6--><a href=\"psysml:b39da276-6b98-4aad-85bf-f9ecfc55683d\" target=\"_top\" title=\"psysml:b39da276-6b98-4aad-85bf-f9ecfc55683d\" xlink:actuate=\"onRequest\" xlink:href=\"psysml:b39da276-6b98-4aad-85bf-f9ecfc55683d\" xlink:show=\"new\" xlink:title=\"psysml:b39da276-6b98-4aad-85bf-f9ecfc55683d\" xlink:type=\"simple\"><rect fill=\"#FFFFFF\" height=\"45.9375\" id=\"E6\" rx=\"10\" ry=\"10\" style=\"stroke: #383838; stroke-width: 1.5;\" width=\"74\" x=\"56\" y=\"154\"/><text fill=\"#000000\" font-family=\"sans-serif\" font-size=\"12\" font-style=\"italic\" lengthAdjust=\"spacingAndGlyphs\" textLength=\"72\" x=\"57\" y=\"170.1387\">«viewpoint»</text><text fill=\"#000000\" font-family=\"sans-serif\" font-size=\"12\" lengthAdjust=\"spacingAndGlyphs\" textLength=\"38\" x=\"74\" y=\"184.1074\">vp: VP</text><line style=\"stroke: #383838; stroke-width: 1.5;\" x1=\"57\" x2=\"129\" y1=\"191.9375\" y2=\"191.9375\"/></a><!--MD5=[2156ba9850f5573cc1fc38a6a4b2f02b]\n",
       "class E7--><a href=\"psysml:5db0ac38-23f9-426f-a666-7fa33ad35708\" target=\"_top\" title=\"psysml:5db0ac38-23f9-426f-a666-7fa33ad35708\" xlink:actuate=\"onRequest\" xlink:href=\"psysml:5db0ac38-23f9-426f-a666-7fa33ad35708\" xlink:show=\"new\" xlink:title=\"psysml:5db0ac38-23f9-426f-a666-7fa33ad35708\" xlink:type=\"simple\"><rect fill=\"#FFFFFF\" height=\"45.9375\" id=\"E7\" rx=\"10\" ry=\"10\" style=\"stroke: #383838; stroke-width: 1.5;\" width=\"77\" x=\"177.5\" y=\"154\"/><text fill=\"#000000\" font-family=\"sans-serif\" font-size=\"12\" font-style=\"italic\" lengthAdjust=\"spacingAndGlyphs\" textLength=\"75\" x=\"178.5\" y=\"170.1387\">«rendering»</text><text fill=\"#000000\" font-family=\"sans-serif\" font-size=\"12\" lengthAdjust=\"spacingAndGlyphs\" textLength=\"21\" x=\"205.5\" y=\"184.1074\">r: R</text><line style=\"stroke: #383838; stroke-width: 1.5;\" x1=\"178.5\" x2=\"253.5\" y1=\"191.9375\" y2=\"191.9375\"/></a><!--MD5=[b9389687b975829384b498ac4b7476b2]\n",
       "class E8--><a href=\"psysml:96dfc0dc-2946-48da-b50d-9c346f08b52f\" target=\"_top\" title=\"psysml:96dfc0dc-2946-48da-b50d-9c346f08b52f\" xlink:actuate=\"onRequest\" xlink:href=\"psysml:96dfc0dc-2946-48da-b50d-9c346f08b52f\" xlink:show=\"new\" xlink:title=\"psysml:96dfc0dc-2946-48da-b50d-9c346f08b52f\" xlink:type=\"simple\"><rect fill=\"#FFFFFF\" height=\"45.9375\" id=\"E8\" rx=\"10\" ry=\"10\" style=\"stroke: #383838; stroke-width: 1.5;\" width=\"42\" x=\"290\" y=\"154\"/><text fill=\"#000000\" font-family=\"sans-serif\" font-size=\"12\" font-style=\"italic\" lengthAdjust=\"spacingAndGlyphs\" textLength=\"40\" x=\"291\" y=\"170.1387\">«view»</text><text fill=\"#000000\" font-family=\"sans-serif\" font-size=\"12\" lengthAdjust=\"spacingAndGlyphs\" textLength=\"22\" x=\"300\" y=\"184.1074\">v: V</text><line style=\"stroke: #383838; stroke-width: 1.5;\" x1=\"291\" x2=\"331\" y1=\"191.9375\" y2=\"191.9375\"/></a><!--MD5=[fd4143e9d270a159db93a4ea2a975926]\n",
       "class E9--><a href=\"psysml:fc5eb428-4a03-41d1-992b-aff2a13d3fb9\" target=\"_top\" title=\"psysml:fc5eb428-4a03-41d1-992b-aff2a13d3fb9\" xlink:actuate=\"onRequest\" xlink:href=\"psysml:fc5eb428-4a03-41d1-992b-aff2a13d3fb9\" xlink:show=\"new\" xlink:title=\"psysml:fc5eb428-4a03-41d1-992b-aff2a13d3fb9\" xlink:type=\"simple\"><rect fill=\"#FFFFFF\" height=\"45.9375\" id=\"E9\" rx=\"10\" ry=\"10\" style=\"stroke: #383838; stroke-width: 1.5;\" width=\"77\" x=\"301.5\" y=\"260\"/><text fill=\"#000000\" font-family=\"sans-serif\" font-size=\"12\" font-style=\"italic\" lengthAdjust=\"spacingAndGlyphs\" textLength=\"75\" x=\"302.5\" y=\"276.1387\">«rendering»</text><text fill=\"#000000\" font-family=\"sans-serif\" font-size=\"12\" lengthAdjust=\"spacingAndGlyphs\" textLength=\"13\" x=\"333.5\" y=\"290.1074\">r1</text><line style=\"stroke: #383838; stroke-width: 1.5;\" x1=\"302.5\" x2=\"377.5\" y1=\"297.9375\" y2=\"297.9375\"/></a><a href=\"psysml:6d9f5c34-02db-4c22-b8ae-ed1a072d5ac7\" target=\"_top\" title=\"psysml:6d9f5c34-02db-4c22-b8ae-ed1a072d5ac7\" xlink:actuate=\"onRequest\" xlink:href=\"psysml:6d9f5c34-02db-4c22-b8ae-ed1a072d5ac7\" xlink:show=\"new\" xlink:title=\"psysml:6d9f5c34-02db-4c22-b8ae-ed1a072d5ac7\" xlink:type=\"simple\"><polygon fill=\"#FFFFFF\" points=\"122,41,138,41,145,63.2969,152,63.2969,152,93.5938,122,93.5938,122,41\" style=\"stroke: #000000; stroke-width: 1.5;\"/><line style=\"stroke: #000000; stroke-width: 1.5;\" x1=\"122\" x2=\"145\" y1=\"63.2969\" y2=\"63.2969\"/><text fill=\"#000000\" font-family=\"sans-serif\" font-size=\"14\" font-weight=\"bold\" lengthAdjust=\"spacingAndGlyphs\" textLength=\"10\" x=\"126\" y=\"55.9951\">P</text></a><!--MD5=[85d356282659285ab4b2cfe2f634dd2b]\n",
       "reverse link E5 to E6--><a href=\"psysml:b39da276-6b98-4aad-85bf-f9ecfc55683d\" target=\"_top\" title=\"psysml:b39da276-6b98-4aad-85bf-f9ecfc55683d\" xlink:actuate=\"onRequest\" xlink:href=\"psysml:b39da276-6b98-4aad-85bf-f9ecfc55683d\" xlink:show=\"new\" xlink:title=\"psysml:b39da276-6b98-4aad-85bf-f9ecfc55683d\" xlink:type=\"simple\"><path d=\"M238.17,103.81 C238.17,103.81 238.17,124 238.17,124 C238.17,124 141,124 141,124 C141,124 141,173.74 141,176.85 \" fill=\"none\" id=\"E5&lt;-E6\" style=\"stroke: #383838; stroke-width: 1.0;\"/><polygon fill=\"#383838\" points=\"238.17,90.81,234.17,96.81,238.17,102.81,242.17,96.81,238.17,90.81\" style=\"stroke: #383838; stroke-width: 1.0;\"/></a><!--MD5=[a717450b82c80b9240a525fa862496af]\n",
       "link E6 to E3--><a href=\"psysml:7b3d769f-4c56-4413-aa9f-0104e9507d6b\" target=\"_top\" title=\"psysml:7b3d769f-4c56-4413-aa9f-0104e9507d6b\" xlink:actuate=\"onRequest\" xlink:href=\"psysml:7b3d769f-4c56-4413-aa9f-0104e9507d6b\" xlink:show=\"new\" xlink:title=\"psysml:7b3d769f-4c56-4413-aa9f-0104e9507d6b\" xlink:type=\"simple\"><path d=\"M93,200 C93,200 93,239.68 93,239.68 \" fill=\"none\" id=\"E6-&gt;E3\" style=\"stroke: #383838; stroke-width: 1.0;\"/><polygon fill=\"#FFFFFF\" points=\"93,259.68,86,240.68,100,240.68,93,259.68\" style=\"stroke: #383838; stroke-width: 1.0;\"/><ellipse cx=\"88\" cy=\"234.98\" fill=\"#383838\" rx=\"2\" ry=\"2\" style=\"stroke: #383838; stroke-width: 1.0;\"/><ellipse cx=\"98\" cy=\"234.98\" fill=\"#383838\" rx=\"2\" ry=\"2\" style=\"stroke: #383838; stroke-width: 1.0;\"/></a><!--MD5=[6bdd27f9905911a7e892a3dc65cf6b7c]\n",
       "link E7 to E4--><a href=\"psysml:f768404d-501b-4614-8ab9-e2515f32fafd\" target=\"_top\" title=\"psysml:f768404d-501b-4614-8ab9-e2515f32fafd\" xlink:actuate=\"onRequest\" xlink:href=\"psysml:f768404d-501b-4614-8ab9-e2515f32fafd\" xlink:show=\"new\" xlink:title=\"psysml:f768404d-501b-4614-8ab9-e2515f32fafd\" xlink:type=\"simple\"><path d=\"M216,200 C216,200 216,239.68 216,239.68 \" fill=\"none\" id=\"E7-&gt;E4\" style=\"stroke: #383838; stroke-width: 1.0;\"/><polygon fill=\"#FFFFFF\" points=\"216,259.68,209,240.68,223,240.68,216,259.68\" style=\"stroke: #383838; stroke-width: 1.0;\"/><ellipse cx=\"211\" cy=\"234.98\" fill=\"#383838\" rx=\"2\" ry=\"2\" style=\"stroke: #383838; stroke-width: 1.0;\"/><ellipse cx=\"221\" cy=\"234.98\" fill=\"#383838\" rx=\"2\" ry=\"2\" style=\"stroke: #383838; stroke-width: 1.0;\"/></a><!--MD5=[452b418e7f8a40397a49b8c0a78acc5b]\n",
       "reverse link E5 to E7--><a href=\"psysml:5db0ac38-23f9-426f-a666-7fa33ad35708\" target=\"_top\" title=\"psysml:5db0ac38-23f9-426f-a666-7fa33ad35708\" xlink:actuate=\"onRequest\" xlink:href=\"psysml:5db0ac38-23f9-426f-a666-7fa33ad35708\" xlink:show=\"new\" xlink:title=\"psysml:5db0ac38-23f9-426f-a666-7fa33ad35708\" xlink:type=\"simple\"><path d=\"M246.33,103.72 C246.33,103.72 246.33,153.81 246.33,153.81 \" fill=\"none\" id=\"E5&lt;-E7\" style=\"stroke: #383838; stroke-width: 1.0;\"/><polygon fill=\"#383838\" points=\"246.33,90.72,242.33,96.72,246.33,102.72,250.33,96.72,246.33,90.72\" style=\"stroke: #383838; stroke-width: 1.0;\"/><text fill=\"#000000\" font-family=\"sans-serif\" font-size=\"13\" lengthAdjust=\"spacingAndGlyphs\" textLength=\"24\" x=\"227.0271\" y=\"143.0376\">0..1</text></a><!--MD5=[1ccb2481ffa92f8d51a74ee30c51832a]\n",
       "link E8 to E5--><a href=\"psysml:2ecacd66-b174-4fa5-a1f0-5f98a8e6e629\" target=\"_top\" title=\"psysml:2ecacd66-b174-4fa5-a1f0-5f98a8e6e629\" xlink:actuate=\"onRequest\" xlink:href=\"psysml:2ecacd66-b174-4fa5-a1f0-5f98a8e6e629\" xlink:show=\"new\" xlink:title=\"psysml:2ecacd66-b174-4fa5-a1f0-5f98a8e6e629\" xlink:type=\"simple\"><path d=\"M289.74,170 C285.42,170 282.17,170 282.17,170 C282.17,170 282.17,110.5 282.17,110.5 \" fill=\"none\" id=\"E8-&gt;E5\" style=\"stroke: #383838; stroke-width: 1.0;\"/><polygon fill=\"#FFFFFF\" points=\"282.17,90.5,289.17,109.5,275.17,109.5,282.17,90.5\" style=\"stroke: #383838; stroke-width: 1.0;\"/><ellipse cx=\"287.17\" cy=\"115.2\" fill=\"#383838\" rx=\"2\" ry=\"2\" style=\"stroke: #383838; stroke-width: 1.0;\"/><ellipse cx=\"277.17\" cy=\"115.2\" fill=\"#383838\" rx=\"2\" ry=\"2\" style=\"stroke: #383838; stroke-width: 1.0;\"/></a><!--MD5=[827760032d119d06bbc92f75530fd7ae]\n",
       "reverse link E5 to E8--><a href=\"psysml:96dfc0dc-2946-48da-b50d-9c346f08b52f\" target=\"_top\" title=\"psysml:96dfc0dc-2946-48da-b50d-9c346f08b52f\" xlink:actuate=\"onRequest\" xlink:href=\"psysml:96dfc0dc-2946-48da-b50d-9c346f08b52f\" xlink:show=\"new\" xlink:title=\"psysml:96dfc0dc-2946-48da-b50d-9c346f08b52f\" xlink:type=\"simple\"><path d=\"M274.33,103.71 C274.33,103.71 274.33,185 274.33,185 C274.33,185 281.6,185 289.67,185 \" fill=\"none\" id=\"E5&lt;-E8\" style=\"stroke: #383838; stroke-width: 1.0;\"/><polygon fill=\"#383838\" points=\"274.33,90.71,270.33,96.71,274.33,102.71,278.33,96.71,274.33,90.71\" style=\"stroke: #383838; stroke-width: 1.0;\"/><text fill=\"#000000\" font-family=\"sans-serif\" font-size=\"13\" lengthAdjust=\"spacingAndGlyphs\" textLength=\"7\" x=\"275.0658\" y=\"182.2499\">*</text></a><!--MD5=[22f5b4bae7e060dce8a1c8021efdb95b]\n",
       "reverse link E8 to E9--><a href=\"psysml:fc5eb428-4a03-41d1-992b-aff2a13d3fb9\" target=\"_top\" title=\"psysml:fc5eb428-4a03-41d1-992b-aff2a13d3fb9\" xlink:actuate=\"onRequest\" xlink:href=\"psysml:fc5eb428-4a03-41d1-992b-aff2a13d3fb9\" xlink:show=\"new\" xlink:title=\"psysml:fc5eb428-4a03-41d1-992b-aff2a13d3fb9\" xlink:type=\"simple\"><path d=\"M316.75,213 C316.75,213 316.75,259.68 316.75,259.68 \" fill=\"none\" id=\"E8&lt;-E9\" style=\"stroke: #383838; stroke-width: 1.0;\"/><polygon fill=\"#383838\" points=\"316.75,200,312.75,206,316.75,212,320.75,206,316.75,200\" style=\"stroke: #383838; stroke-width: 1.0;\"/></a><!--MD5=[87475888eb2a3273004c156b84036b2a]\n",
       "@startuml\r\n",
       "skinparam linetype ortho\r\n",
       "skinparam monochrome true\r\n",
       "skinparam classbackgroundcolor white\r\n",
       "skinparam shadowing false\r\n",
       "skinparam wrapWidth 300\r\n",
       "hide circle\r\n",
       "\r\n",
       "package \"ViewTest\" as E1  [[psysml:fb02ed11-6398-4cea-b135-53d0cca9c478 ]]  {\r\n",
       "package \"P\" as E2  [[psysml:6d9f5c34-02db-4c22-b8ae-ed1a072d5ac7 ]]  {\r\n",
       "}\r\n",
       "comp def \"VP\" as E3  <<(T,blue)viewpoint def>> [[psysml:436e526f-0cc5-474d-8f19-4580d940df20 ]] {\r\n",
       "}\r\n",
       "comp def \"R\" as E4  <<(T,blue)rendering def>> [[psysml:053dc08e-a8e7-4770-acc6-30068883d6d6 ]] {\r\n",
       "}\r\n",
       "comp def \"V\" as E5  <<(T,blue)view def>> [[psysml:2fa1d21f-0378-4832-ab0e-3c490c491fc9 ]] {\r\n",
       "}\r\n",
       "comp usage \"vp: VP\" as E6  <<(T,blue)viewpoint>> [[psysml:b39da276-6b98-4aad-85bf-f9ecfc55683d ]] {\r\n",
       "}\r\n",
       "comp usage \"r: R\" as E7  <<(T,blue)rendering>> [[psysml:5db0ac38-23f9-426f-a666-7fa33ad35708 ]] {\r\n",
       "}\r\n",
       "comp usage \"v: V\" as E8  <<(T,blue)view>> [[psysml:96dfc0dc-2946-48da-b50d-9c346f08b52f ]] {\r\n",
       "}\r\n",
       "comp usage \"r1\" as E9  <<(T,blue)rendering>> [[psysml:fc5eb428-4a03-41d1-992b-aff2a13d3fb9 ]] {\r\n",
       "}\r\n",
       "E5 *- - E6 [[psysml:b39da276-6b98-4aad-85bf-f9ecfc55683d ]] \r\n",
       "E6 - -:|> E3 [[psysml:7b3d769f-4c56-4413-aa9f-0104e9507d6b ]] \r\n",
       "E7 - -:|> E4 [[psysml:f768404d-501b-4614-8ab9-e2515f32fafd ]] \r\n",
       "E5 *- - \"0..1\"E7 [[psysml:5db0ac38-23f9-426f-a666-7fa33ad35708 ]] \r\n",
       "E8 - -:|> E5 [[psysml:2ecacd66-b174-4fa5-a1f0-5f98a8e6e629 ]] \r\n",
       "E5 *- - \"*\"E8 [[psysml:96dfc0dc-2946-48da-b50d-9c346f08b52f ]] \r\n",
       "E8 *- - E9 [[psysml:fc5eb428-4a03-41d1-992b-aff2a13d3fb9 ]] \r\n",
       "}\r\n",
       "@enduml\r\n",
       "\n",
       "PlantUML version 1.2020.13(Sat Jun 13 12:26:38 UTC 2020)\n",
       "(EPL source distribution)\n",
       "Java Runtime: OpenJDK Runtime Environment\n",
       "JVM: OpenJDK 64-Bit Server VM\n",
       "Default Encoding: UTF-8\n",
       "Language: en\n",
       "Country: null\n",
       "--></g></svg>"
      ]
     },
     "execution_count": 51,
     "metadata": {},
     "output_type": "execute_result"
    }
   ],
   "source": [
    "%viz --style=\"ORTHOLINE\" --view=\"Default\" \"ViewTest\""
   ]
  },
  {
   "cell_type": "code",
   "execution_count": 52,
   "id": "further-cream",
   "metadata": {
    "execution": {
     "iopub.execute_input": "2021-03-24T16:32:14.871487Z",
     "iopub.status.busy": "2021-03-24T16:32:14.871078Z",
     "iopub.status.idle": "2021-03-24T16:32:14.901558Z",
     "shell.execute_reply": "2021-03-24T16:32:14.900167Z"
    }
   },
   "outputs": [
    {
     "data": {
      "image/svg+xml": [
       "<?xml version=\"1.0\" encoding=\"UTF-8\" standalone=\"no\"?><svg xmlns=\"http://www.w3.org/2000/svg\" xmlns:xlink=\"http://www.w3.org/1999/xlink\" contentScriptType=\"application/ecmascript\" contentStyleType=\"text/css\" height=\"334px\" preserveAspectRatio=\"none\" style=\"width:417px;height:334px;\" version=\"1.1\" viewBox=\"0 0 417 334\" width=\"417px\" zoomAndPan=\"magnify\"><defs/><g><!--MD5=[fbc87193dbaf4d95561dea2c320d4a47]\n",
       "cluster E1--><a href=\"psysml:fb02ed11-6398-4cea-b135-53d0cca9c478\" target=\"_top\" title=\"psysml:fb02ed11-6398-4cea-b135-53d0cca9c478\" xlink:actuate=\"onRequest\" xlink:href=\"psysml:fb02ed11-6398-4cea-b135-53d0cca9c478\" xlink:show=\"new\" xlink:title=\"psysml:fb02ed11-6398-4cea-b135-53d0cca9c478\" xlink:type=\"simple\"><polygon fill=\"#FFFFFF\" points=\"16,6,96,6,103,28.2969,395,28.2969,395,322,16,322,16,6\" style=\"stroke: #000000; stroke-width: 1.5;\"/><line style=\"stroke: #000000; stroke-width: 1.5;\" x1=\"16\" x2=\"103\" y1=\"28.2969\" y2=\"28.2969\"/><text fill=\"#000000\" font-family=\"sans-serif\" font-size=\"14\" font-weight=\"bold\" lengthAdjust=\"spacingAndGlyphs\" textLength=\"74\" x=\"20\" y=\"20.9951\">ViewTest</text></a><!--MD5=[09b614a08d8cba4a07c9adeb5e0fee81]\n",
       "class E3--><a href=\"psysml:436e526f-0cc5-474d-8f19-4580d940df20\" target=\"_top\" title=\"psysml:436e526f-0cc5-474d-8f19-4580d940df20\" xlink:actuate=\"onRequest\" xlink:href=\"psysml:436e526f-0cc5-474d-8f19-4580d940df20\" xlink:show=\"new\" xlink:title=\"psysml:436e526f-0cc5-474d-8f19-4580d940df20\" xlink:type=\"simple\"><rect fill=\"#FFFFFF\" height=\"45.9375\" id=\"E3\" style=\"stroke: #383838; stroke-width: 1.5;\" width=\"98\" x=\"32\" y=\"260\"/><text fill=\"#000000\" font-family=\"sans-serif\" font-size=\"12\" font-style=\"italic\" lengthAdjust=\"spacingAndGlyphs\" textLength=\"96\" x=\"33\" y=\"276.1387\">«viewpoint def»</text><text fill=\"#000000\" font-family=\"sans-serif\" font-size=\"12\" lengthAdjust=\"spacingAndGlyphs\" textLength=\"16\" x=\"73\" y=\"290.1074\">VP</text><line style=\"stroke: #383838; stroke-width: 1.5;\" x1=\"33\" x2=\"129\" y1=\"297.9375\" y2=\"297.9375\"/></a><!--MD5=[ebbe1d658d1005bcc118a6aa81145e00]\n",
       "class E4--><a href=\"psysml:053dc08e-a8e7-4770-acc6-30068883d6d6\" target=\"_top\" title=\"psysml:053dc08e-a8e7-4770-acc6-30068883d6d6\" xlink:actuate=\"onRequest\" xlink:href=\"psysml:053dc08e-a8e7-4770-acc6-30068883d6d6\" xlink:show=\"new\" xlink:title=\"psysml:053dc08e-a8e7-4770-acc6-30068883d6d6\" xlink:type=\"simple\"><rect fill=\"#FFFFFF\" height=\"45.9375\" id=\"E4\" style=\"stroke: #383838; stroke-width: 1.5;\" width=\"101\" x=\"165.5\" y=\"260\"/><text fill=\"#000000\" font-family=\"sans-serif\" font-size=\"12\" font-style=\"italic\" lengthAdjust=\"spacingAndGlyphs\" textLength=\"99\" x=\"166.5\" y=\"276.1387\">«rendering def»</text><text fill=\"#000000\" font-family=\"sans-serif\" font-size=\"12\" lengthAdjust=\"spacingAndGlyphs\" textLength=\"8\" x=\"212\" y=\"290.1074\">R</text><line style=\"stroke: #383838; stroke-width: 1.5;\" x1=\"166.5\" x2=\"265.5\" y1=\"297.9375\" y2=\"297.9375\"/></a><!--MD5=[270fce915f116d4de14055a7c1d9a0f3]\n",
       "class E5--><a href=\"psysml:2fa1d21f-0378-4832-ab0e-3c490c491fc9\" target=\"_top\" title=\"psysml:2fa1d21f-0378-4832-ab0e-3c490c491fc9\" xlink:actuate=\"onRequest\" xlink:href=\"psysml:2fa1d21f-0378-4832-ab0e-3c490c491fc9\" xlink:show=\"new\" xlink:title=\"psysml:2fa1d21f-0378-4832-ab0e-3c490c491fc9\" xlink:type=\"simple\"><rect fill=\"#FFFFFF\" height=\"45.9375\" id=\"E5\" style=\"stroke: #383838; stroke-width: 1.5;\" width=\"66\" x=\"230\" y=\"44.5\"/><text fill=\"#000000\" font-family=\"sans-serif\" font-size=\"12\" font-style=\"italic\" lengthAdjust=\"spacingAndGlyphs\" textLength=\"64\" x=\"231\" y=\"60.6387\">«view def»</text><text fill=\"#000000\" font-family=\"sans-serif\" font-size=\"12\" lengthAdjust=\"spacingAndGlyphs\" textLength=\"8\" x=\"259\" y=\"74.6074\">V</text><line style=\"stroke: #383838; stroke-width: 1.5;\" x1=\"231\" x2=\"295\" y1=\"82.4375\" y2=\"82.4375\"/></a><!--MD5=[60a26617385b1d2d0262a64233df1f8d]\n",
       "class E6--><a href=\"psysml:b39da276-6b98-4aad-85bf-f9ecfc55683d\" target=\"_top\" title=\"psysml:b39da276-6b98-4aad-85bf-f9ecfc55683d\" xlink:actuate=\"onRequest\" xlink:href=\"psysml:b39da276-6b98-4aad-85bf-f9ecfc55683d\" xlink:show=\"new\" xlink:title=\"psysml:b39da276-6b98-4aad-85bf-f9ecfc55683d\" xlink:type=\"simple\"><rect fill=\"#FFFFFF\" height=\"45.9375\" id=\"E6\" rx=\"10\" ry=\"10\" style=\"stroke: #383838; stroke-width: 1.5;\" width=\"74\" x=\"56\" y=\"154\"/><text fill=\"#000000\" font-family=\"sans-serif\" font-size=\"12\" font-style=\"italic\" lengthAdjust=\"spacingAndGlyphs\" textLength=\"72\" x=\"57\" y=\"170.1387\">«viewpoint»</text><text fill=\"#000000\" font-family=\"sans-serif\" font-size=\"12\" lengthAdjust=\"spacingAndGlyphs\" textLength=\"38\" x=\"74\" y=\"184.1074\">vp: VP</text><line style=\"stroke: #383838; stroke-width: 1.5;\" x1=\"57\" x2=\"129\" y1=\"191.9375\" y2=\"191.9375\"/></a><!--MD5=[2156ba9850f5573cc1fc38a6a4b2f02b]\n",
       "class E7--><a href=\"psysml:5db0ac38-23f9-426f-a666-7fa33ad35708\" target=\"_top\" title=\"psysml:5db0ac38-23f9-426f-a666-7fa33ad35708\" xlink:actuate=\"onRequest\" xlink:href=\"psysml:5db0ac38-23f9-426f-a666-7fa33ad35708\" xlink:show=\"new\" xlink:title=\"psysml:5db0ac38-23f9-426f-a666-7fa33ad35708\" xlink:type=\"simple\"><rect fill=\"#FFFFFF\" height=\"45.9375\" id=\"E7\" rx=\"10\" ry=\"10\" style=\"stroke: #383838; stroke-width: 1.5;\" width=\"77\" x=\"177.5\" y=\"154\"/><text fill=\"#000000\" font-family=\"sans-serif\" font-size=\"12\" font-style=\"italic\" lengthAdjust=\"spacingAndGlyphs\" textLength=\"75\" x=\"178.5\" y=\"170.1387\">«rendering»</text><text fill=\"#000000\" font-family=\"sans-serif\" font-size=\"12\" lengthAdjust=\"spacingAndGlyphs\" textLength=\"21\" x=\"205.5\" y=\"184.1074\">r: R</text><line style=\"stroke: #383838; stroke-width: 1.5;\" x1=\"178.5\" x2=\"253.5\" y1=\"191.9375\" y2=\"191.9375\"/></a><!--MD5=[b9389687b975829384b498ac4b7476b2]\n",
       "class E8--><a href=\"psysml:96dfc0dc-2946-48da-b50d-9c346f08b52f\" target=\"_top\" title=\"psysml:96dfc0dc-2946-48da-b50d-9c346f08b52f\" xlink:actuate=\"onRequest\" xlink:href=\"psysml:96dfc0dc-2946-48da-b50d-9c346f08b52f\" xlink:show=\"new\" xlink:title=\"psysml:96dfc0dc-2946-48da-b50d-9c346f08b52f\" xlink:type=\"simple\"><rect fill=\"#FFFFFF\" height=\"45.9375\" id=\"E8\" rx=\"10\" ry=\"10\" style=\"stroke: #383838; stroke-width: 1.5;\" width=\"42\" x=\"290\" y=\"154\"/><text fill=\"#000000\" font-family=\"sans-serif\" font-size=\"12\" font-style=\"italic\" lengthAdjust=\"spacingAndGlyphs\" textLength=\"40\" x=\"291\" y=\"170.1387\">«view»</text><text fill=\"#000000\" font-family=\"sans-serif\" font-size=\"12\" lengthAdjust=\"spacingAndGlyphs\" textLength=\"22\" x=\"300\" y=\"184.1074\">v: V</text><line style=\"stroke: #383838; stroke-width: 1.5;\" x1=\"291\" x2=\"331\" y1=\"191.9375\" y2=\"191.9375\"/></a><!--MD5=[fd4143e9d270a159db93a4ea2a975926]\n",
       "class E9--><a href=\"psysml:fc5eb428-4a03-41d1-992b-aff2a13d3fb9\" target=\"_top\" title=\"psysml:fc5eb428-4a03-41d1-992b-aff2a13d3fb9\" xlink:actuate=\"onRequest\" xlink:href=\"psysml:fc5eb428-4a03-41d1-992b-aff2a13d3fb9\" xlink:show=\"new\" xlink:title=\"psysml:fc5eb428-4a03-41d1-992b-aff2a13d3fb9\" xlink:type=\"simple\"><rect fill=\"#FFFFFF\" height=\"45.9375\" id=\"E9\" rx=\"10\" ry=\"10\" style=\"stroke: #383838; stroke-width: 1.5;\" width=\"77\" x=\"301.5\" y=\"260\"/><text fill=\"#000000\" font-family=\"sans-serif\" font-size=\"12\" font-style=\"italic\" lengthAdjust=\"spacingAndGlyphs\" textLength=\"75\" x=\"302.5\" y=\"276.1387\">«rendering»</text><text fill=\"#000000\" font-family=\"sans-serif\" font-size=\"12\" lengthAdjust=\"spacingAndGlyphs\" textLength=\"13\" x=\"333.5\" y=\"290.1074\">r1</text><line style=\"stroke: #383838; stroke-width: 1.5;\" x1=\"302.5\" x2=\"377.5\" y1=\"297.9375\" y2=\"297.9375\"/></a><a href=\"psysml:6d9f5c34-02db-4c22-b8ae-ed1a072d5ac7\" target=\"_top\" title=\"psysml:6d9f5c34-02db-4c22-b8ae-ed1a072d5ac7\" xlink:actuate=\"onRequest\" xlink:href=\"psysml:6d9f5c34-02db-4c22-b8ae-ed1a072d5ac7\" xlink:show=\"new\" xlink:title=\"psysml:6d9f5c34-02db-4c22-b8ae-ed1a072d5ac7\" xlink:type=\"simple\"><polygon fill=\"#FFFFFF\" points=\"122,41,138,41,145,63.2969,152,63.2969,152,93.5938,122,93.5938,122,41\" style=\"stroke: #000000; stroke-width: 1.5;\"/><line style=\"stroke: #000000; stroke-width: 1.5;\" x1=\"122\" x2=\"145\" y1=\"63.2969\" y2=\"63.2969\"/><text fill=\"#000000\" font-family=\"sans-serif\" font-size=\"14\" font-weight=\"bold\" lengthAdjust=\"spacingAndGlyphs\" textLength=\"10\" x=\"126\" y=\"55.9951\">P</text></a><!--MD5=[85d356282659285ab4b2cfe2f634dd2b]\n",
       "reverse link E5 to E6--><a href=\"psysml:b39da276-6b98-4aad-85bf-f9ecfc55683d\" target=\"_top\" title=\"psysml:b39da276-6b98-4aad-85bf-f9ecfc55683d\" xlink:actuate=\"onRequest\" xlink:href=\"psysml:b39da276-6b98-4aad-85bf-f9ecfc55683d\" xlink:show=\"new\" xlink:title=\"psysml:b39da276-6b98-4aad-85bf-f9ecfc55683d\" xlink:type=\"simple\"><path d=\"M238.17,103.81 C238.17,103.81 238.17,124 238.17,124 C238.17,124 141,124 141,124 C141,124 141,173.74 141,176.85 \" fill=\"none\" id=\"E5&lt;-E6\" style=\"stroke: #383838; stroke-width: 1.0;\"/><polygon fill=\"#383838\" points=\"238.17,90.81,234.17,96.81,238.17,102.81,242.17,96.81,238.17,90.81\" style=\"stroke: #383838; stroke-width: 1.0;\"/></a><!--MD5=[a717450b82c80b9240a525fa862496af]\n",
       "link E6 to E3--><a href=\"psysml:7b3d769f-4c56-4413-aa9f-0104e9507d6b\" target=\"_top\" title=\"psysml:7b3d769f-4c56-4413-aa9f-0104e9507d6b\" xlink:actuate=\"onRequest\" xlink:href=\"psysml:7b3d769f-4c56-4413-aa9f-0104e9507d6b\" xlink:show=\"new\" xlink:title=\"psysml:7b3d769f-4c56-4413-aa9f-0104e9507d6b\" xlink:type=\"simple\"><path d=\"M93,200 C93,200 93,239.68 93,239.68 \" fill=\"none\" id=\"E6-&gt;E3\" style=\"stroke: #383838; stroke-width: 1.0;\"/><polygon fill=\"#FFFFFF\" points=\"93,259.68,86,240.68,100,240.68,93,259.68\" style=\"stroke: #383838; stroke-width: 1.0;\"/><ellipse cx=\"88\" cy=\"234.98\" fill=\"#383838\" rx=\"2\" ry=\"2\" style=\"stroke: #383838; stroke-width: 1.0;\"/><ellipse cx=\"98\" cy=\"234.98\" fill=\"#383838\" rx=\"2\" ry=\"2\" style=\"stroke: #383838; stroke-width: 1.0;\"/></a><!--MD5=[6bdd27f9905911a7e892a3dc65cf6b7c]\n",
       "link E7 to E4--><a href=\"psysml:f768404d-501b-4614-8ab9-e2515f32fafd\" target=\"_top\" title=\"psysml:f768404d-501b-4614-8ab9-e2515f32fafd\" xlink:actuate=\"onRequest\" xlink:href=\"psysml:f768404d-501b-4614-8ab9-e2515f32fafd\" xlink:show=\"new\" xlink:title=\"psysml:f768404d-501b-4614-8ab9-e2515f32fafd\" xlink:type=\"simple\"><path d=\"M216,200 C216,200 216,239.68 216,239.68 \" fill=\"none\" id=\"E7-&gt;E4\" style=\"stroke: #383838; stroke-width: 1.0;\"/><polygon fill=\"#FFFFFF\" points=\"216,259.68,209,240.68,223,240.68,216,259.68\" style=\"stroke: #383838; stroke-width: 1.0;\"/><ellipse cx=\"211\" cy=\"234.98\" fill=\"#383838\" rx=\"2\" ry=\"2\" style=\"stroke: #383838; stroke-width: 1.0;\"/><ellipse cx=\"221\" cy=\"234.98\" fill=\"#383838\" rx=\"2\" ry=\"2\" style=\"stroke: #383838; stroke-width: 1.0;\"/></a><!--MD5=[452b418e7f8a40397a49b8c0a78acc5b]\n",
       "reverse link E5 to E7--><a href=\"psysml:5db0ac38-23f9-426f-a666-7fa33ad35708\" target=\"_top\" title=\"psysml:5db0ac38-23f9-426f-a666-7fa33ad35708\" xlink:actuate=\"onRequest\" xlink:href=\"psysml:5db0ac38-23f9-426f-a666-7fa33ad35708\" xlink:show=\"new\" xlink:title=\"psysml:5db0ac38-23f9-426f-a666-7fa33ad35708\" xlink:type=\"simple\"><path d=\"M246.33,103.72 C246.33,103.72 246.33,153.81 246.33,153.81 \" fill=\"none\" id=\"E5&lt;-E7\" style=\"stroke: #383838; stroke-width: 1.0;\"/><polygon fill=\"#383838\" points=\"246.33,90.72,242.33,96.72,246.33,102.72,250.33,96.72,246.33,90.72\" style=\"stroke: #383838; stroke-width: 1.0;\"/><text fill=\"#000000\" font-family=\"sans-serif\" font-size=\"13\" lengthAdjust=\"spacingAndGlyphs\" textLength=\"24\" x=\"227.0271\" y=\"143.0376\">0..1</text></a><!--MD5=[1ccb2481ffa92f8d51a74ee30c51832a]\n",
       "link E8 to E5--><a href=\"psysml:2ecacd66-b174-4fa5-a1f0-5f98a8e6e629\" target=\"_top\" title=\"psysml:2ecacd66-b174-4fa5-a1f0-5f98a8e6e629\" xlink:actuate=\"onRequest\" xlink:href=\"psysml:2ecacd66-b174-4fa5-a1f0-5f98a8e6e629\" xlink:show=\"new\" xlink:title=\"psysml:2ecacd66-b174-4fa5-a1f0-5f98a8e6e629\" xlink:type=\"simple\"><path d=\"M289.74,170 C285.42,170 282.17,170 282.17,170 C282.17,170 282.17,110.5 282.17,110.5 \" fill=\"none\" id=\"E8-&gt;E5\" style=\"stroke: #383838; stroke-width: 1.0;\"/><polygon fill=\"#FFFFFF\" points=\"282.17,90.5,289.17,109.5,275.17,109.5,282.17,90.5\" style=\"stroke: #383838; stroke-width: 1.0;\"/><ellipse cx=\"287.17\" cy=\"115.2\" fill=\"#383838\" rx=\"2\" ry=\"2\" style=\"stroke: #383838; stroke-width: 1.0;\"/><ellipse cx=\"277.17\" cy=\"115.2\" fill=\"#383838\" rx=\"2\" ry=\"2\" style=\"stroke: #383838; stroke-width: 1.0;\"/></a><!--MD5=[827760032d119d06bbc92f75530fd7ae]\n",
       "reverse link E5 to E8--><a href=\"psysml:96dfc0dc-2946-48da-b50d-9c346f08b52f\" target=\"_top\" title=\"psysml:96dfc0dc-2946-48da-b50d-9c346f08b52f\" xlink:actuate=\"onRequest\" xlink:href=\"psysml:96dfc0dc-2946-48da-b50d-9c346f08b52f\" xlink:show=\"new\" xlink:title=\"psysml:96dfc0dc-2946-48da-b50d-9c346f08b52f\" xlink:type=\"simple\"><path d=\"M274.33,103.71 C274.33,103.71 274.33,185 274.33,185 C274.33,185 281.6,185 289.67,185 \" fill=\"none\" id=\"E5&lt;-E8\" style=\"stroke: #383838; stroke-width: 1.0;\"/><polygon fill=\"#383838\" points=\"274.33,90.71,270.33,96.71,274.33,102.71,278.33,96.71,274.33,90.71\" style=\"stroke: #383838; stroke-width: 1.0;\"/><text fill=\"#000000\" font-family=\"sans-serif\" font-size=\"13\" lengthAdjust=\"spacingAndGlyphs\" textLength=\"7\" x=\"275.0658\" y=\"182.2499\">*</text></a><!--MD5=[22f5b4bae7e060dce8a1c8021efdb95b]\n",
       "reverse link E8 to E9--><a href=\"psysml:fc5eb428-4a03-41d1-992b-aff2a13d3fb9\" target=\"_top\" title=\"psysml:fc5eb428-4a03-41d1-992b-aff2a13d3fb9\" xlink:actuate=\"onRequest\" xlink:href=\"psysml:fc5eb428-4a03-41d1-992b-aff2a13d3fb9\" xlink:show=\"new\" xlink:title=\"psysml:fc5eb428-4a03-41d1-992b-aff2a13d3fb9\" xlink:type=\"simple\"><path d=\"M316.75,213 C316.75,213 316.75,259.68 316.75,259.68 \" fill=\"none\" id=\"E8&lt;-E9\" style=\"stroke: #383838; stroke-width: 1.0;\"/><polygon fill=\"#383838\" points=\"316.75,200,312.75,206,316.75,212,320.75,206,316.75,200\" style=\"stroke: #383838; stroke-width: 1.0;\"/></a><!--MD5=[87475888eb2a3273004c156b84036b2a]\n",
       "@startuml\r\n",
       "skinparam linetype ortho\r\n",
       "skinparam monochrome true\r\n",
       "skinparam classbackgroundcolor white\r\n",
       "skinparam shadowing false\r\n",
       "skinparam wrapWidth 300\r\n",
       "hide circle\r\n",
       "\r\n",
       "package \"ViewTest\" as E1  [[psysml:fb02ed11-6398-4cea-b135-53d0cca9c478 ]]  {\r\n",
       "package \"P\" as E2  [[psysml:6d9f5c34-02db-4c22-b8ae-ed1a072d5ac7 ]]  {\r\n",
       "}\r\n",
       "comp def \"VP\" as E3  <<(T,blue)viewpoint def>> [[psysml:436e526f-0cc5-474d-8f19-4580d940df20 ]] {\r\n",
       "}\r\n",
       "comp def \"R\" as E4  <<(T,blue)rendering def>> [[psysml:053dc08e-a8e7-4770-acc6-30068883d6d6 ]] {\r\n",
       "}\r\n",
       "comp def \"V\" as E5  <<(T,blue)view def>> [[psysml:2fa1d21f-0378-4832-ab0e-3c490c491fc9 ]] {\r\n",
       "}\r\n",
       "comp usage \"vp: VP\" as E6  <<(T,blue)viewpoint>> [[psysml:b39da276-6b98-4aad-85bf-f9ecfc55683d ]] {\r\n",
       "}\r\n",
       "comp usage \"r: R\" as E7  <<(T,blue)rendering>> [[psysml:5db0ac38-23f9-426f-a666-7fa33ad35708 ]] {\r\n",
       "}\r\n",
       "comp usage \"v: V\" as E8  <<(T,blue)view>> [[psysml:96dfc0dc-2946-48da-b50d-9c346f08b52f ]] {\r\n",
       "}\r\n",
       "comp usage \"r1\" as E9  <<(T,blue)rendering>> [[psysml:fc5eb428-4a03-41d1-992b-aff2a13d3fb9 ]] {\r\n",
       "}\r\n",
       "E5 *- - E6 [[psysml:b39da276-6b98-4aad-85bf-f9ecfc55683d ]] \r\n",
       "E6 - -:|> E3 [[psysml:7b3d769f-4c56-4413-aa9f-0104e9507d6b ]] \r\n",
       "E7 - -:|> E4 [[psysml:f768404d-501b-4614-8ab9-e2515f32fafd ]] \r\n",
       "E5 *- - \"0..1\"E7 [[psysml:5db0ac38-23f9-426f-a666-7fa33ad35708 ]] \r\n",
       "E8 - -:|> E5 [[psysml:2ecacd66-b174-4fa5-a1f0-5f98a8e6e629 ]] \r\n",
       "E5 *- - \"*\"E8 [[psysml:96dfc0dc-2946-48da-b50d-9c346f08b52f ]] \r\n",
       "E8 *- - E9 [[psysml:fc5eb428-4a03-41d1-992b-aff2a13d3fb9 ]] \r\n",
       "}\r\n",
       "@enduml\r\n",
       "\n",
       "PlantUML version 1.2020.13(Sat Jun 13 12:26:38 UTC 2020)\n",
       "(EPL source distribution)\n",
       "Java Runtime: OpenJDK Runtime Environment\n",
       "JVM: OpenJDK 64-Bit Server VM\n",
       "Default Encoding: UTF-8\n",
       "Language: en\n",
       "Country: null\n",
       "--></g></svg>"
      ]
     },
     "execution_count": 52,
     "metadata": {},
     "output_type": "execute_result"
    }
   ],
   "source": [
    "%viz --style=\"ORTHOLINE\" --view=\"Tree\" \"ViewTest\""
   ]
  },
  {
   "cell_type": "code",
   "execution_count": 53,
   "id": "unique-israeli",
   "metadata": {
    "execution": {
     "iopub.execute_input": "2021-03-24T16:32:14.951904Z",
     "iopub.status.busy": "2021-03-24T16:32:14.951392Z",
     "iopub.status.idle": "2021-03-24T16:32:14.955702Z",
     "shell.execute_reply": "2021-03-24T16:32:14.955376Z"
    }
   },
   "outputs": [
    {
     "data": {
      "image/svg+xml": [
       "<?xml version=\"1.0\" encoding=\"UTF-8\" standalone=\"no\"?><svg xmlns=\"http://www.w3.org/2000/svg\" xmlns:xlink=\"http://www.w3.org/1999/xlink\" contentScriptType=\"application/ecmascript\" contentStyleType=\"text/css\" height=\"12px\" preserveAspectRatio=\"none\" style=\"width:12px;height:12px;\" version=\"1.1\" viewBox=\"0 0 12 12\" width=\"12px\" zoomAndPan=\"magnify\"><defs/><g><!--MD5=[97d6f38768b311333d388e66b2b27985]\n",
       "@startuml\r\n",
       "skinparam linetype ortho\r\n",
       "skinparam monochrome true\r\n",
       "skinparam classbackgroundcolor white\r\n",
       "skinparam shadowing false\r\n",
       "skinparam wrapWidth 300\r\n",
       "hide circle\r\n",
       "\r\n",
       "@enduml\r\n",
       "\n",
       "PlantUML version 1.2020.13(Sat Jun 13 12:26:38 UTC 2020)\n",
       "(EPL source distribution)\n",
       "Java Runtime: OpenJDK Runtime Environment\n",
       "JVM: OpenJDK 64-Bit Server VM\n",
       "Default Encoding: UTF-8\n",
       "Language: en\n",
       "Country: null\n",
       "--></g></svg>"
      ]
     },
     "execution_count": 53,
     "metadata": {},
     "output_type": "execute_result"
    }
   ],
   "source": [
    "%viz --style=\"ORTHOLINE\" --view=\"State\" \"ViewTest\""
   ]
  },
  {
   "cell_type": "code",
   "execution_count": 54,
   "id": "accessible-murder",
   "metadata": {
    "execution": {
     "iopub.execute_input": "2021-03-24T16:32:15.006416Z",
     "iopub.status.busy": "2021-03-24T16:32:15.006086Z",
     "iopub.status.idle": "2021-03-24T16:32:15.035634Z",
     "shell.execute_reply": "2021-03-24T16:32:15.034341Z"
    }
   },
   "outputs": [
    {
     "data": {
      "image/svg+xml": [
       "<?xml version=\"1.0\" encoding=\"UTF-8\" standalone=\"no\"?><svg xmlns=\"http://www.w3.org/2000/svg\" xmlns:xlink=\"http://www.w3.org/1999/xlink\" contentScriptType=\"application/ecmascript\" contentStyleType=\"text/css\" height=\"313px\" preserveAspectRatio=\"none\" style=\"width:568px;height:313px;\" version=\"1.1\" viewBox=\"0 0 568 313\" width=\"568px\" zoomAndPan=\"magnify\"><defs/><g><!--MD5=[fbc87193dbaf4d95561dea2c320d4a47]\n",
       "cluster E1--><a href=\"psysml:fb02ed11-6398-4cea-b135-53d0cca9c478\" target=\"_top\" title=\"psysml:fb02ed11-6398-4cea-b135-53d0cca9c478\" xlink:actuate=\"onRequest\" xlink:href=\"psysml:fb02ed11-6398-4cea-b135-53d0cca9c478\" xlink:show=\"new\" xlink:title=\"psysml:fb02ed11-6398-4cea-b135-53d0cca9c478\" xlink:type=\"simple\"><polygon fill=\"#FFFFFF\" points=\"16,6,96,6,103,28.2969,546,28.2969,546,301,16,301,16,6\" style=\"stroke: #000000; stroke-width: 1.5;\"/><line style=\"stroke: #000000; stroke-width: 1.5;\" x1=\"16\" x2=\"103\" y1=\"28.2969\" y2=\"28.2969\"/><text fill=\"#000000\" font-family=\"sans-serif\" font-size=\"14\" font-weight=\"bold\" lengthAdjust=\"spacingAndGlyphs\" textLength=\"74\" x=\"20\" y=\"20.9951\">ViewTest</text></a><!--MD5=[de5ec2e2e8f62f467e546659f5068c88]\n",
       "cluster E5--><a href=\"psysml:2fa1d21f-0378-4832-ab0e-3c490c491fc9\" target=\"_top\" title=\"psysml:2fa1d21f-0378-4832-ab0e-3c490c491fc9\" xlink:actuate=\"onRequest\" xlink:href=\"psysml:2fa1d21f-0378-4832-ab0e-3c490c491fc9\" xlink:show=\"new\" xlink:title=\"psysml:2fa1d21f-0378-4832-ab0e-3c490c491fc9\" xlink:type=\"simple\"><rect fill=\"#FFFFFF\" height=\"174\" id=\"E5\" style=\"stroke: #383838; stroke-width: 1.5;\" width=\"300\" x=\"222\" y=\"49\"/><rect fill=\"#F8F8F8\" height=\"37.9375\" style=\"stroke: #383838; stroke-width: 1.5;\" width=\"300\" x=\"222\" y=\"49\"/><text fill=\"#000000\" font-family=\"sans-serif\" font-size=\"12\" font-style=\"italic\" lengthAdjust=\"spacingAndGlyphs\" textLength=\"64\" x=\"340\" y=\"65.1387\">«view def»</text><text fill=\"#000000\" font-family=\"sans-serif\" font-size=\"12\" lengthAdjust=\"spacingAndGlyphs\" textLength=\"8\" x=\"368\" y=\"79.1074\">V</text></a><!--MD5=[55dfccfc6c49c2d10cd1bd2211a6c90c]\n",
       "cluster E8--><a href=\"psysml:96dfc0dc-2946-48da-b50d-9c346f08b52f\" target=\"_top\" title=\"psysml:96dfc0dc-2946-48da-b50d-9c346f08b52f\" xlink:actuate=\"onRequest\" xlink:href=\"psysml:96dfc0dc-2946-48da-b50d-9c346f08b52f\" xlink:show=\"new\" xlink:title=\"psysml:96dfc0dc-2946-48da-b50d-9c346f08b52f\" xlink:type=\"simple\"><rect fill=\"#FFFFFF\" height=\"91\" id=\"E8\" rx=\"10\" ry=\"10\" style=\"stroke: #383838; stroke-width: 1.5;\" width=\"82\" x=\"416\" y=\"108\"/><rect fill=\"#F8F8F8\" height=\"23.9688\" rx=\"10\" ry=\"10\" style=\"stroke: #F8F8F8; stroke-width: 1.5;\" width=\"82\" x=\"416\" y=\"108\"/><rect fill=\"#F8F8F8\" height=\"10\" style=\"stroke: #F8F8F8; stroke-width: 1.5;\" width=\"82\" x=\"416\" y=\"121.9688\"/><rect fill=\"none\" height=\"91\" id=\"E8\" rx=\"10\" ry=\"10\" style=\"stroke: #383838; stroke-width: 1.5;\" width=\"82\" x=\"416\" y=\"108\"/><text fill=\"#000000\" font-family=\"sans-serif\" font-size=\"12\" lengthAdjust=\"spacingAndGlyphs\" textLength=\"22\" x=\"446\" y=\"124.1387\">v: V</text><line style=\"stroke: #383838; stroke-width: 1.0;\" x1=\"416\" x2=\"498\" y1=\"131.9688\" y2=\"131.9688\"/></a><!--MD5=[09b614a08d8cba4a07c9adeb5e0fee81]\n",
       "class E3--><a href=\"psysml:436e526f-0cc5-474d-8f19-4580d940df20\" target=\"_top\" title=\"psysml:436e526f-0cc5-474d-8f19-4580d940df20\" xlink:actuate=\"onRequest\" xlink:href=\"psysml:436e526f-0cc5-474d-8f19-4580d940df20\" xlink:show=\"new\" xlink:title=\"psysml:436e526f-0cc5-474d-8f19-4580d940df20\" xlink:type=\"simple\"><rect fill=\"#FFFFFF\" height=\"45.9375\" id=\"E3\" style=\"stroke: #383838; stroke-width: 1.5;\" width=\"98\" x=\"311\" y=\"239\"/><text fill=\"#000000\" font-family=\"sans-serif\" font-size=\"12\" font-style=\"italic\" lengthAdjust=\"spacingAndGlyphs\" textLength=\"96\" x=\"312\" y=\"255.1387\">«viewpoint def»</text><text fill=\"#000000\" font-family=\"sans-serif\" font-size=\"12\" lengthAdjust=\"spacingAndGlyphs\" textLength=\"16\" x=\"352\" y=\"269.1074\">VP</text><line style=\"stroke: #383838; stroke-width: 1.5;\" x1=\"312\" x2=\"408\" y1=\"276.9375\" y2=\"276.9375\"/></a><a href=\"psysml:6d9f5c34-02db-4c22-b8ae-ed1a072d5ac7\" target=\"_top\" title=\"psysml:6d9f5c34-02db-4c22-b8ae-ed1a072d5ac7\" xlink:actuate=\"onRequest\" xlink:href=\"psysml:6d9f5c34-02db-4c22-b8ae-ed1a072d5ac7\" xlink:show=\"new\" xlink:title=\"psysml:6d9f5c34-02db-4c22-b8ae-ed1a072d5ac7\" xlink:type=\"simple\"><polygon fill=\"#FFFFFF\" points=\"173,136.5,189,136.5,196,158.7969,203,158.7969,203,189.0938,173,189.0938,173,136.5\" style=\"stroke: #000000; stroke-width: 1.5;\"/><line style=\"stroke: #000000; stroke-width: 1.5;\" x1=\"173\" x2=\"196\" y1=\"158.7969\" y2=\"158.7969\"/><text fill=\"#000000\" font-family=\"sans-serif\" font-size=\"14\" font-weight=\"bold\" lengthAdjust=\"spacingAndGlyphs\" textLength=\"10\" x=\"177\" y=\"151.4951\">P</text></a><g id=\"E1.E4\"><a href=\"psysml:053dc08e-a8e7-4770-acc6-30068883d6d6\" target=\"_top\" title=\"psysml:053dc08e-a8e7-4770-acc6-30068883d6d6\" xlink:actuate=\"onRequest\" xlink:href=\"psysml:053dc08e-a8e7-4770-acc6-30068883d6d6\" xlink:show=\"new\" xlink:title=\"psysml:053dc08e-a8e7-4770-acc6-30068883d6d6\" xlink:type=\"simple\"><rect fill=\"#FFFFFF\" height=\"42.9375\" id=\"E4\" style=\"stroke: #383838; stroke-width: 1.5;\" width=\"106\" x=\"32\" y=\"141.5\"/><rect fill=\"#F8F8F8\" height=\"37.9375\" style=\"stroke: #383838; stroke-width: 1.5;\" width=\"106\" x=\"32\" y=\"141.5\"/><text fill=\"#000000\" font-family=\"sans-serif\" font-size=\"12\" font-style=\"italic\" lengthAdjust=\"spacingAndGlyphs\" textLength=\"99\" x=\"35.5\" y=\"157.6387\">«rendering def»</text><text fill=\"#000000\" font-family=\"sans-serif\" font-size=\"12\" lengthAdjust=\"spacingAndGlyphs\" textLength=\"8\" x=\"81\" y=\"171.6074\">R</text></a></g><!--MD5=[60a26617385b1d2d0262a64233df1f8d]\n",
       "class E6--><a href=\"psysml:b39da276-6b98-4aad-85bf-f9ecfc55683d\" target=\"_top\" title=\"psysml:b39da276-6b98-4aad-85bf-f9ecfc55683d\" xlink:actuate=\"onRequest\" xlink:href=\"psysml:b39da276-6b98-4aad-85bf-f9ecfc55683d\" xlink:show=\"new\" xlink:title=\"psysml:b39da276-6b98-4aad-85bf-f9ecfc55683d\" xlink:type=\"simple\"><rect fill=\"#FFFFFF\" height=\"45.9375\" id=\"E6\" rx=\"10\" ry=\"10\" style=\"stroke: #383838; stroke-width: 1.5;\" width=\"74\" x=\"323\" y=\"140\"/><text fill=\"#000000\" font-family=\"sans-serif\" font-size=\"12\" font-style=\"italic\" lengthAdjust=\"spacingAndGlyphs\" textLength=\"72\" x=\"324\" y=\"156.1387\">«viewpoint»</text><text fill=\"#000000\" font-family=\"sans-serif\" font-size=\"12\" lengthAdjust=\"spacingAndGlyphs\" textLength=\"38\" x=\"341\" y=\"170.1074\">vp: VP</text><line style=\"stroke: #383838; stroke-width: 1.5;\" x1=\"324\" x2=\"396\" y1=\"177.9375\" y2=\"177.9375\"/></a><g id=\"E1.E5.E7\"><a href=\"psysml:5db0ac38-23f9-426f-a666-7fa33ad35708\" target=\"_top\" title=\"psysml:5db0ac38-23f9-426f-a666-7fa33ad35708\" xlink:actuate=\"onRequest\" xlink:href=\"psysml:5db0ac38-23f9-426f-a666-7fa33ad35708\" xlink:show=\"new\" xlink:title=\"psysml:5db0ac38-23f9-426f-a666-7fa33ad35708\" xlink:type=\"simple\"><rect fill=\"#FFFFFF\" height=\"40\" id=\"E7\" rx=\"10\" ry=\"10\" style=\"stroke: #383838; stroke-width: 1.5;\" width=\"50\" x=\"238\" y=\"143\"/><rect fill=\"#F8F8F8\" height=\"23.9688\" rx=\"10\" ry=\"10\" style=\"stroke: #F8F8F8; stroke-width: 1.5;\" width=\"50\" x=\"238\" y=\"143\"/><rect fill=\"#F8F8F8\" height=\"10\" style=\"stroke: #F8F8F8; stroke-width: 1.5;\" width=\"50\" x=\"238\" y=\"156.9688\"/><rect fill=\"none\" height=\"40\" id=\"E7\" rx=\"10\" ry=\"10\" style=\"stroke: #383838; stroke-width: 1.5;\" width=\"50\" x=\"238\" y=\"143\"/><text fill=\"#000000\" font-family=\"sans-serif\" font-size=\"12\" lengthAdjust=\"spacingAndGlyphs\" textLength=\"21\" x=\"252.5\" y=\"159.1387\">r: R</text></a></g><g id=\"E1.E5.E8.E9\"><a href=\"psysml:fc5eb428-4a03-41d1-992b-aff2a13d3fb9\" target=\"_top\" title=\"psysml:fc5eb428-4a03-41d1-992b-aff2a13d3fb9\" xlink:actuate=\"onRequest\" xlink:href=\"psysml:fc5eb428-4a03-41d1-992b-aff2a13d3fb9\" xlink:show=\"new\" xlink:title=\"psysml:fc5eb428-4a03-41d1-992b-aff2a13d3fb9\" xlink:type=\"simple\"><rect fill=\"#FFFFFF\" height=\"40\" id=\"E9\" rx=\"10\" ry=\"10\" style=\"stroke: #383838; stroke-width: 1.5;\" width=\"50\" x=\"432\" y=\"143\"/><rect fill=\"#F8F8F8\" height=\"23.9688\" rx=\"10\" ry=\"10\" style=\"stroke: #F8F8F8; stroke-width: 1.5;\" width=\"50\" x=\"432\" y=\"143\"/><rect fill=\"#F8F8F8\" height=\"10\" style=\"stroke: #F8F8F8; stroke-width: 1.5;\" width=\"50\" x=\"432\" y=\"156.9688\"/><rect fill=\"none\" height=\"40\" id=\"E9\" rx=\"10\" ry=\"10\" style=\"stroke: #383838; stroke-width: 1.5;\" width=\"50\" x=\"432\" y=\"143\"/><text fill=\"#000000\" font-family=\"sans-serif\" font-size=\"12\" lengthAdjust=\"spacingAndGlyphs\" textLength=\"13\" x=\"450.5\" y=\"159.1387\">r1</text></a></g><!--MD5=[a717450b82c80b9240a525fa862496af]\n",
       "link E6 to E3--><a href=\"psysml:7b3d769f-4c56-4413-aa9f-0104e9507d6b\" target=\"_top\" title=\"psysml:7b3d769f-4c56-4413-aa9f-0104e9507d6b\" xlink:actuate=\"onRequest\" xlink:href=\"psysml:7b3d769f-4c56-4413-aa9f-0104e9507d6b\" xlink:show=\"new\" xlink:title=\"psysml:7b3d769f-4c56-4413-aa9f-0104e9507d6b\" xlink:type=\"simple\"><path d=\"M360,186.21 C360,186.21 360,218.93 360,218.93 \" fill=\"none\" id=\"E6-&gt;E3\" style=\"stroke: #383838; stroke-width: 1.0;\"/><polygon fill=\"#FFFFFF\" points=\"360,238.93,353,219.93,367,219.93,360,238.93\" style=\"stroke: #383838; stroke-width: 1.0;\"/><ellipse cx=\"355\" cy=\"214.23\" fill=\"#383838\" rx=\"2\" ry=\"2\" style=\"stroke: #383838; stroke-width: 1.0;\"/><ellipse cx=\"365\" cy=\"214.23\" fill=\"#383838\" rx=\"2\" ry=\"2\" style=\"stroke: #383838; stroke-width: 1.0;\"/></a><!--MD5=[b00156c845daa87a0c1777212a1e90e6]\n",
       "@startuml\r\n",
       "skinparam ranksep 10\r\n",
       "skinparam rectangle {\r\n",
       " backgroundColor<<block>> LightGreen\r\n",
       "}\r\n",
       "skinparam linetype ortho\r\n",
       "skinparam monochrome true\r\n",
       "skinparam classbackgroundcolor white\r\n",
       "skinparam shadowing false\r\n",
       "skinparam wrapWidth 300\r\n",
       "hide circle\r\n",
       "\r\n",
       "package \"ViewTest\" as E1  [[psysml:fb02ed11-6398-4cea-b135-53d0cca9c478 ]]  {\r\n",
       "package \"P\" as E2  [[psysml:6d9f5c34-02db-4c22-b8ae-ed1a072d5ac7 ]]  {\r\n",
       "}\r\n",
       "comp def \"VP\" as E3  <<(T,blue)viewpoint def>> [[psysml:436e526f-0cc5-474d-8f19-4580d940df20 ]] {\r\n",
       "}\r\n",
       "rec def \"R\" as E4  <<(T,blue)rendering def>> [[psysml:053dc08e-a8e7-4770-acc6-30068883d6d6 ]] {\r\n",
       "}\r\n",
       "rec def \"V\" as E5  <<(T,blue)view def>> [[psysml:2fa1d21f-0378-4832-ab0e-3c490c491fc9 ]] {\r\n",
       "comp usage \"vp: VP\" as E6  <<(T,blue)viewpoint>> [[psysml:b39da276-6b98-4aad-85bf-f9ecfc55683d ]] {\r\n",
       "}\r\n",
       "rec usage \"r: R\" as E7  [[psysml:5db0ac38-23f9-426f-a666-7fa33ad35708 ]] {\r\n",
       "}\r\n",
       "rec usage \"v: V\" as E8  [[psysml:96dfc0dc-2946-48da-b50d-9c346f08b52f ]] {\r\n",
       "rec usage \"r1\" as E9  [[psysml:fc5eb428-4a03-41d1-992b-aff2a13d3fb9 ]] {\r\n",
       "}\r\n",
       "}\r\n",
       "}\r\n",
       "E6 - -:|> E3 [[psysml:7b3d769f-4c56-4413-aa9f-0104e9507d6b ]] \r\n",
       "}\r\n",
       "@enduml\r\n",
       "\n",
       "PlantUML version 1.2020.13(Sat Jun 13 12:26:38 UTC 2020)\n",
       "(EPL source distribution)\n",
       "Java Runtime: OpenJDK Runtime Environment\n",
       "JVM: OpenJDK 64-Bit Server VM\n",
       "Default Encoding: UTF-8\n",
       "Language: en\n",
       "Country: null\n",
       "--></g></svg>"
      ]
     },
     "execution_count": 54,
     "metadata": {},
     "output_type": "execute_result"
    }
   ],
   "source": [
    "%viz --style=\"ORTHOLINE\" --view=\"Interconnection\" \"ViewTest\""
   ]
  },
  {
   "cell_type": "code",
   "execution_count": 55,
   "id": "devoted-cisco",
   "metadata": {
    "execution": {
     "iopub.execute_input": "2021-03-24T16:32:15.087490Z",
     "iopub.status.busy": "2021-03-24T16:32:15.086920Z",
     "iopub.status.idle": "2021-03-24T16:32:15.092231Z",
     "shell.execute_reply": "2021-03-24T16:32:15.091887Z"
    }
   },
   "outputs": [
    {
     "data": {
      "image/svg+xml": [
       "<?xml version=\"1.0\" encoding=\"UTF-8\" standalone=\"no\"?><svg xmlns=\"http://www.w3.org/2000/svg\" xmlns:xlink=\"http://www.w3.org/1999/xlink\" contentScriptType=\"application/ecmascript\" contentStyleType=\"text/css\" height=\"12px\" preserveAspectRatio=\"none\" style=\"width:12px;height:12px;\" version=\"1.1\" viewBox=\"0 0 12 12\" width=\"12px\" zoomAndPan=\"magnify\"><defs/><g><!--MD5=[72934c63077099a26744516a776b4749]\n",
       "@startuml\r\n",
       "skinparam ranksep 8\r\n",
       "skinparam linetype ortho\r\n",
       "skinparam monochrome true\r\n",
       "skinparam classbackgroundcolor white\r\n",
       "skinparam shadowing false\r\n",
       "skinparam wrapWidth 300\r\n",
       "hide circle\r\n",
       "\r\n",
       "@enduml\r\n",
       "\n",
       "PlantUML version 1.2020.13(Sat Jun 13 12:26:38 UTC 2020)\n",
       "(EPL source distribution)\n",
       "Java Runtime: OpenJDK Runtime Environment\n",
       "JVM: OpenJDK 64-Bit Server VM\n",
       "Default Encoding: UTF-8\n",
       "Language: en\n",
       "Country: null\n",
       "--></g></svg>"
      ]
     },
     "execution_count": 55,
     "metadata": {},
     "output_type": "execute_result"
    }
   ],
   "source": [
    "%viz --style=\"ORTHOLINE\" --view=\"Action\" \"ViewTest\""
   ]
  },
  {
   "cell_type": "code",
   "execution_count": 56,
   "id": "inner-cutting",
   "metadata": {
    "execution": {
     "iopub.execute_input": "2021-03-24T16:32:15.144173Z",
     "iopub.status.busy": "2021-03-24T16:32:15.143439Z",
     "iopub.status.idle": "2021-03-24T16:32:15.175404Z",
     "shell.execute_reply": "2021-03-24T16:32:15.174093Z"
    }
   },
   "outputs": [
    {
     "data": {
      "image/svg+xml": [
       "<?xml version=\"1.0\" encoding=\"UTF-8\" standalone=\"no\"?><svg xmlns=\"http://www.w3.org/2000/svg\" xmlns:xlink=\"http://www.w3.org/1999/xlink\" contentScriptType=\"application/ecmascript\" contentStyleType=\"text/css\" height=\"334px\" preserveAspectRatio=\"none\" style=\"width:417px;height:334px;\" version=\"1.1\" viewBox=\"0 0 417 334\" width=\"417px\" zoomAndPan=\"magnify\"><defs/><g><!--MD5=[fbc87193dbaf4d95561dea2c320d4a47]\n",
       "cluster E1--><a href=\"psysml:fb02ed11-6398-4cea-b135-53d0cca9c478\" target=\"_top\" title=\"psysml:fb02ed11-6398-4cea-b135-53d0cca9c478\" xlink:actuate=\"onRequest\" xlink:href=\"psysml:fb02ed11-6398-4cea-b135-53d0cca9c478\" xlink:show=\"new\" xlink:title=\"psysml:fb02ed11-6398-4cea-b135-53d0cca9c478\" xlink:type=\"simple\"><polygon fill=\"#FFFFFF\" points=\"16,6,96,6,103,28.2969,395,28.2969,395,322,16,322,16,6\" style=\"stroke: #000000; stroke-width: 1.5;\"/><line style=\"stroke: #000000; stroke-width: 1.5;\" x1=\"16\" x2=\"103\" y1=\"28.2969\" y2=\"28.2969\"/><text fill=\"#000000\" font-family=\"sans-serif\" font-size=\"14\" font-weight=\"bold\" lengthAdjust=\"spacingAndGlyphs\" textLength=\"74\" x=\"20\" y=\"20.9951\">ViewTest</text></a><!--MD5=[09b614a08d8cba4a07c9adeb5e0fee81]\n",
       "class E3--><a href=\"psysml:436e526f-0cc5-474d-8f19-4580d940df20\" target=\"_top\" title=\"psysml:436e526f-0cc5-474d-8f19-4580d940df20\" xlink:actuate=\"onRequest\" xlink:href=\"psysml:436e526f-0cc5-474d-8f19-4580d940df20\" xlink:show=\"new\" xlink:title=\"psysml:436e526f-0cc5-474d-8f19-4580d940df20\" xlink:type=\"simple\"><rect fill=\"#FFFFFF\" height=\"45.9375\" id=\"E3\" style=\"stroke: #383838; stroke-width: 1.5;\" width=\"98\" x=\"32\" y=\"260\"/><text fill=\"#000000\" font-family=\"sans-serif\" font-size=\"12\" font-style=\"italic\" lengthAdjust=\"spacingAndGlyphs\" textLength=\"96\" x=\"33\" y=\"276.1387\">«viewpoint def»</text><text fill=\"#000000\" font-family=\"sans-serif\" font-size=\"12\" lengthAdjust=\"spacingAndGlyphs\" textLength=\"16\" x=\"73\" y=\"290.1074\">VP</text><line style=\"stroke: #383838; stroke-width: 1.5;\" x1=\"33\" x2=\"129\" y1=\"297.9375\" y2=\"297.9375\"/></a><!--MD5=[ebbe1d658d1005bcc118a6aa81145e00]\n",
       "class E4--><a href=\"psysml:053dc08e-a8e7-4770-acc6-30068883d6d6\" target=\"_top\" title=\"psysml:053dc08e-a8e7-4770-acc6-30068883d6d6\" xlink:actuate=\"onRequest\" xlink:href=\"psysml:053dc08e-a8e7-4770-acc6-30068883d6d6\" xlink:show=\"new\" xlink:title=\"psysml:053dc08e-a8e7-4770-acc6-30068883d6d6\" xlink:type=\"simple\"><rect fill=\"#FFFFFF\" height=\"45.9375\" id=\"E4\" style=\"stroke: #383838; stroke-width: 1.5;\" width=\"101\" x=\"165.5\" y=\"260\"/><text fill=\"#000000\" font-family=\"sans-serif\" font-size=\"12\" font-style=\"italic\" lengthAdjust=\"spacingAndGlyphs\" textLength=\"99\" x=\"166.5\" y=\"276.1387\">«rendering def»</text><text fill=\"#000000\" font-family=\"sans-serif\" font-size=\"12\" lengthAdjust=\"spacingAndGlyphs\" textLength=\"8\" x=\"212\" y=\"290.1074\">R</text><line style=\"stroke: #383838; stroke-width: 1.5;\" x1=\"166.5\" x2=\"265.5\" y1=\"297.9375\" y2=\"297.9375\"/></a><!--MD5=[270fce915f116d4de14055a7c1d9a0f3]\n",
       "class E5--><a href=\"psysml:2fa1d21f-0378-4832-ab0e-3c490c491fc9\" target=\"_top\" title=\"psysml:2fa1d21f-0378-4832-ab0e-3c490c491fc9\" xlink:actuate=\"onRequest\" xlink:href=\"psysml:2fa1d21f-0378-4832-ab0e-3c490c491fc9\" xlink:show=\"new\" xlink:title=\"psysml:2fa1d21f-0378-4832-ab0e-3c490c491fc9\" xlink:type=\"simple\"><rect fill=\"#FFFFFF\" height=\"45.9375\" id=\"E5\" style=\"stroke: #383838; stroke-width: 1.5;\" width=\"66\" x=\"230\" y=\"44.5\"/><text fill=\"#000000\" font-family=\"sans-serif\" font-size=\"12\" font-style=\"italic\" lengthAdjust=\"spacingAndGlyphs\" textLength=\"64\" x=\"231\" y=\"60.6387\">«view def»</text><text fill=\"#000000\" font-family=\"sans-serif\" font-size=\"12\" lengthAdjust=\"spacingAndGlyphs\" textLength=\"8\" x=\"259\" y=\"74.6074\">V</text><line style=\"stroke: #383838; stroke-width: 1.5;\" x1=\"231\" x2=\"295\" y1=\"82.4375\" y2=\"82.4375\"/></a><!--MD5=[60a26617385b1d2d0262a64233df1f8d]\n",
       "class E6--><a href=\"psysml:b39da276-6b98-4aad-85bf-f9ecfc55683d\" target=\"_top\" title=\"psysml:b39da276-6b98-4aad-85bf-f9ecfc55683d\" xlink:actuate=\"onRequest\" xlink:href=\"psysml:b39da276-6b98-4aad-85bf-f9ecfc55683d\" xlink:show=\"new\" xlink:title=\"psysml:b39da276-6b98-4aad-85bf-f9ecfc55683d\" xlink:type=\"simple\"><rect fill=\"#FFFFFF\" height=\"45.9375\" id=\"E6\" rx=\"10\" ry=\"10\" style=\"stroke: #383838; stroke-width: 1.5;\" width=\"74\" x=\"56\" y=\"154\"/><text fill=\"#000000\" font-family=\"sans-serif\" font-size=\"12\" font-style=\"italic\" lengthAdjust=\"spacingAndGlyphs\" textLength=\"72\" x=\"57\" y=\"170.1387\">«viewpoint»</text><text fill=\"#000000\" font-family=\"sans-serif\" font-size=\"12\" lengthAdjust=\"spacingAndGlyphs\" textLength=\"38\" x=\"74\" y=\"184.1074\">vp: VP</text><line style=\"stroke: #383838; stroke-width: 1.5;\" x1=\"57\" x2=\"129\" y1=\"191.9375\" y2=\"191.9375\"/></a><!--MD5=[2156ba9850f5573cc1fc38a6a4b2f02b]\n",
       "class E7--><a href=\"psysml:5db0ac38-23f9-426f-a666-7fa33ad35708\" target=\"_top\" title=\"psysml:5db0ac38-23f9-426f-a666-7fa33ad35708\" xlink:actuate=\"onRequest\" xlink:href=\"psysml:5db0ac38-23f9-426f-a666-7fa33ad35708\" xlink:show=\"new\" xlink:title=\"psysml:5db0ac38-23f9-426f-a666-7fa33ad35708\" xlink:type=\"simple\"><rect fill=\"#FFFFFF\" height=\"45.9375\" id=\"E7\" rx=\"10\" ry=\"10\" style=\"stroke: #383838; stroke-width: 1.5;\" width=\"77\" x=\"177.5\" y=\"154\"/><text fill=\"#000000\" font-family=\"sans-serif\" font-size=\"12\" font-style=\"italic\" lengthAdjust=\"spacingAndGlyphs\" textLength=\"75\" x=\"178.5\" y=\"170.1387\">«rendering»</text><text fill=\"#000000\" font-family=\"sans-serif\" font-size=\"12\" lengthAdjust=\"spacingAndGlyphs\" textLength=\"21\" x=\"205.5\" y=\"184.1074\">r: R</text><line style=\"stroke: #383838; stroke-width: 1.5;\" x1=\"178.5\" x2=\"253.5\" y1=\"191.9375\" y2=\"191.9375\"/></a><!--MD5=[b9389687b975829384b498ac4b7476b2]\n",
       "class E8--><a href=\"psysml:96dfc0dc-2946-48da-b50d-9c346f08b52f\" target=\"_top\" title=\"psysml:96dfc0dc-2946-48da-b50d-9c346f08b52f\" xlink:actuate=\"onRequest\" xlink:href=\"psysml:96dfc0dc-2946-48da-b50d-9c346f08b52f\" xlink:show=\"new\" xlink:title=\"psysml:96dfc0dc-2946-48da-b50d-9c346f08b52f\" xlink:type=\"simple\"><rect fill=\"#FFFFFF\" height=\"45.9375\" id=\"E8\" rx=\"10\" ry=\"10\" style=\"stroke: #383838; stroke-width: 1.5;\" width=\"42\" x=\"290\" y=\"154\"/><text fill=\"#000000\" font-family=\"sans-serif\" font-size=\"12\" font-style=\"italic\" lengthAdjust=\"spacingAndGlyphs\" textLength=\"40\" x=\"291\" y=\"170.1387\">«view»</text><text fill=\"#000000\" font-family=\"sans-serif\" font-size=\"12\" lengthAdjust=\"spacingAndGlyphs\" textLength=\"22\" x=\"300\" y=\"184.1074\">v: V</text><line style=\"stroke: #383838; stroke-width: 1.5;\" x1=\"291\" x2=\"331\" y1=\"191.9375\" y2=\"191.9375\"/></a><!--MD5=[fd4143e9d270a159db93a4ea2a975926]\n",
       "class E9--><a href=\"psysml:fc5eb428-4a03-41d1-992b-aff2a13d3fb9\" target=\"_top\" title=\"psysml:fc5eb428-4a03-41d1-992b-aff2a13d3fb9\" xlink:actuate=\"onRequest\" xlink:href=\"psysml:fc5eb428-4a03-41d1-992b-aff2a13d3fb9\" xlink:show=\"new\" xlink:title=\"psysml:fc5eb428-4a03-41d1-992b-aff2a13d3fb9\" xlink:type=\"simple\"><rect fill=\"#FFFFFF\" height=\"45.9375\" id=\"E9\" rx=\"10\" ry=\"10\" style=\"stroke: #383838; stroke-width: 1.5;\" width=\"77\" x=\"301.5\" y=\"260\"/><text fill=\"#000000\" font-family=\"sans-serif\" font-size=\"12\" font-style=\"italic\" lengthAdjust=\"spacingAndGlyphs\" textLength=\"75\" x=\"302.5\" y=\"276.1387\">«rendering»</text><text fill=\"#000000\" font-family=\"sans-serif\" font-size=\"12\" lengthAdjust=\"spacingAndGlyphs\" textLength=\"13\" x=\"333.5\" y=\"290.1074\">r1</text><line style=\"stroke: #383838; stroke-width: 1.5;\" x1=\"302.5\" x2=\"377.5\" y1=\"297.9375\" y2=\"297.9375\"/></a><a href=\"psysml:6d9f5c34-02db-4c22-b8ae-ed1a072d5ac7\" target=\"_top\" title=\"psysml:6d9f5c34-02db-4c22-b8ae-ed1a072d5ac7\" xlink:actuate=\"onRequest\" xlink:href=\"psysml:6d9f5c34-02db-4c22-b8ae-ed1a072d5ac7\" xlink:show=\"new\" xlink:title=\"psysml:6d9f5c34-02db-4c22-b8ae-ed1a072d5ac7\" xlink:type=\"simple\"><polygon fill=\"#FFFFFF\" points=\"122,41,138,41,145,63.2969,152,63.2969,152,93.5938,122,93.5938,122,41\" style=\"stroke: #000000; stroke-width: 1.5;\"/><line style=\"stroke: #000000; stroke-width: 1.5;\" x1=\"122\" x2=\"145\" y1=\"63.2969\" y2=\"63.2969\"/><text fill=\"#000000\" font-family=\"sans-serif\" font-size=\"14\" font-weight=\"bold\" lengthAdjust=\"spacingAndGlyphs\" textLength=\"10\" x=\"126\" y=\"55.9951\">P</text></a><!--MD5=[85d356282659285ab4b2cfe2f634dd2b]\n",
       "reverse link E5 to E6--><a href=\"psysml:b39da276-6b98-4aad-85bf-f9ecfc55683d\" target=\"_top\" title=\"psysml:b39da276-6b98-4aad-85bf-f9ecfc55683d\" xlink:actuate=\"onRequest\" xlink:href=\"psysml:b39da276-6b98-4aad-85bf-f9ecfc55683d\" xlink:show=\"new\" xlink:title=\"psysml:b39da276-6b98-4aad-85bf-f9ecfc55683d\" xlink:type=\"simple\"><path d=\"M238.17,103.81 C238.17,103.81 238.17,124 238.17,124 C238.17,124 141,124 141,124 C141,124 141,173.74 141,176.85 \" fill=\"none\" id=\"E5&lt;-E6\" style=\"stroke: #383838; stroke-width: 1.0;\"/><polygon fill=\"#383838\" points=\"238.17,90.81,234.17,96.81,238.17,102.81,242.17,96.81,238.17,90.81\" style=\"stroke: #383838; stroke-width: 1.0;\"/></a><!--MD5=[a717450b82c80b9240a525fa862496af]\n",
       "link E6 to E3--><a href=\"psysml:7b3d769f-4c56-4413-aa9f-0104e9507d6b\" target=\"_top\" title=\"psysml:7b3d769f-4c56-4413-aa9f-0104e9507d6b\" xlink:actuate=\"onRequest\" xlink:href=\"psysml:7b3d769f-4c56-4413-aa9f-0104e9507d6b\" xlink:show=\"new\" xlink:title=\"psysml:7b3d769f-4c56-4413-aa9f-0104e9507d6b\" xlink:type=\"simple\"><path d=\"M93,200 C93,200 93,239.68 93,239.68 \" fill=\"none\" id=\"E6-&gt;E3\" style=\"stroke: #383838; stroke-width: 1.0;\"/><polygon fill=\"#FFFFFF\" points=\"93,259.68,86,240.68,100,240.68,93,259.68\" style=\"stroke: #383838; stroke-width: 1.0;\"/><ellipse cx=\"88\" cy=\"234.98\" fill=\"#383838\" rx=\"2\" ry=\"2\" style=\"stroke: #383838; stroke-width: 1.0;\"/><ellipse cx=\"98\" cy=\"234.98\" fill=\"#383838\" rx=\"2\" ry=\"2\" style=\"stroke: #383838; stroke-width: 1.0;\"/></a><!--MD5=[6bdd27f9905911a7e892a3dc65cf6b7c]\n",
       "link E7 to E4--><a href=\"psysml:f768404d-501b-4614-8ab9-e2515f32fafd\" target=\"_top\" title=\"psysml:f768404d-501b-4614-8ab9-e2515f32fafd\" xlink:actuate=\"onRequest\" xlink:href=\"psysml:f768404d-501b-4614-8ab9-e2515f32fafd\" xlink:show=\"new\" xlink:title=\"psysml:f768404d-501b-4614-8ab9-e2515f32fafd\" xlink:type=\"simple\"><path d=\"M216,200 C216,200 216,239.68 216,239.68 \" fill=\"none\" id=\"E7-&gt;E4\" style=\"stroke: #383838; stroke-width: 1.0;\"/><polygon fill=\"#FFFFFF\" points=\"216,259.68,209,240.68,223,240.68,216,259.68\" style=\"stroke: #383838; stroke-width: 1.0;\"/><ellipse cx=\"211\" cy=\"234.98\" fill=\"#383838\" rx=\"2\" ry=\"2\" style=\"stroke: #383838; stroke-width: 1.0;\"/><ellipse cx=\"221\" cy=\"234.98\" fill=\"#383838\" rx=\"2\" ry=\"2\" style=\"stroke: #383838; stroke-width: 1.0;\"/></a><!--MD5=[452b418e7f8a40397a49b8c0a78acc5b]\n",
       "reverse link E5 to E7--><a href=\"psysml:5db0ac38-23f9-426f-a666-7fa33ad35708\" target=\"_top\" title=\"psysml:5db0ac38-23f9-426f-a666-7fa33ad35708\" xlink:actuate=\"onRequest\" xlink:href=\"psysml:5db0ac38-23f9-426f-a666-7fa33ad35708\" xlink:show=\"new\" xlink:title=\"psysml:5db0ac38-23f9-426f-a666-7fa33ad35708\" xlink:type=\"simple\"><path d=\"M246.33,103.72 C246.33,103.72 246.33,153.81 246.33,153.81 \" fill=\"none\" id=\"E5&lt;-E7\" style=\"stroke: #383838; stroke-width: 1.0;\"/><polygon fill=\"#383838\" points=\"246.33,90.72,242.33,96.72,246.33,102.72,250.33,96.72,246.33,90.72\" style=\"stroke: #383838; stroke-width: 1.0;\"/><text fill=\"#000000\" font-family=\"sans-serif\" font-size=\"13\" lengthAdjust=\"spacingAndGlyphs\" textLength=\"24\" x=\"227.0271\" y=\"143.0376\">0..1</text></a><!--MD5=[1ccb2481ffa92f8d51a74ee30c51832a]\n",
       "link E8 to E5--><a href=\"psysml:2ecacd66-b174-4fa5-a1f0-5f98a8e6e629\" target=\"_top\" title=\"psysml:2ecacd66-b174-4fa5-a1f0-5f98a8e6e629\" xlink:actuate=\"onRequest\" xlink:href=\"psysml:2ecacd66-b174-4fa5-a1f0-5f98a8e6e629\" xlink:show=\"new\" xlink:title=\"psysml:2ecacd66-b174-4fa5-a1f0-5f98a8e6e629\" xlink:type=\"simple\"><path d=\"M289.74,170 C285.42,170 282.17,170 282.17,170 C282.17,170 282.17,110.5 282.17,110.5 \" fill=\"none\" id=\"E8-&gt;E5\" style=\"stroke: #383838; stroke-width: 1.0;\"/><polygon fill=\"#FFFFFF\" points=\"282.17,90.5,289.17,109.5,275.17,109.5,282.17,90.5\" style=\"stroke: #383838; stroke-width: 1.0;\"/><ellipse cx=\"287.17\" cy=\"115.2\" fill=\"#383838\" rx=\"2\" ry=\"2\" style=\"stroke: #383838; stroke-width: 1.0;\"/><ellipse cx=\"277.17\" cy=\"115.2\" fill=\"#383838\" rx=\"2\" ry=\"2\" style=\"stroke: #383838; stroke-width: 1.0;\"/></a><!--MD5=[827760032d119d06bbc92f75530fd7ae]\n",
       "reverse link E5 to E8--><a href=\"psysml:96dfc0dc-2946-48da-b50d-9c346f08b52f\" target=\"_top\" title=\"psysml:96dfc0dc-2946-48da-b50d-9c346f08b52f\" xlink:actuate=\"onRequest\" xlink:href=\"psysml:96dfc0dc-2946-48da-b50d-9c346f08b52f\" xlink:show=\"new\" xlink:title=\"psysml:96dfc0dc-2946-48da-b50d-9c346f08b52f\" xlink:type=\"simple\"><path d=\"M274.33,103.71 C274.33,103.71 274.33,185 274.33,185 C274.33,185 281.6,185 289.67,185 \" fill=\"none\" id=\"E5&lt;-E8\" style=\"stroke: #383838; stroke-width: 1.0;\"/><polygon fill=\"#383838\" points=\"274.33,90.71,270.33,96.71,274.33,102.71,278.33,96.71,274.33,90.71\" style=\"stroke: #383838; stroke-width: 1.0;\"/><text fill=\"#000000\" font-family=\"sans-serif\" font-size=\"13\" lengthAdjust=\"spacingAndGlyphs\" textLength=\"7\" x=\"275.0658\" y=\"182.2499\">*</text></a><!--MD5=[22f5b4bae7e060dce8a1c8021efdb95b]\n",
       "reverse link E8 to E9--><a href=\"psysml:fc5eb428-4a03-41d1-992b-aff2a13d3fb9\" target=\"_top\" title=\"psysml:fc5eb428-4a03-41d1-992b-aff2a13d3fb9\" xlink:actuate=\"onRequest\" xlink:href=\"psysml:fc5eb428-4a03-41d1-992b-aff2a13d3fb9\" xlink:show=\"new\" xlink:title=\"psysml:fc5eb428-4a03-41d1-992b-aff2a13d3fb9\" xlink:type=\"simple\"><path d=\"M316.75,213 C316.75,213 316.75,259.68 316.75,259.68 \" fill=\"none\" id=\"E8&lt;-E9\" style=\"stroke: #383838; stroke-width: 1.0;\"/><polygon fill=\"#383838\" points=\"316.75,200,312.75,206,316.75,212,320.75,206,316.75,200\" style=\"stroke: #383838; stroke-width: 1.0;\"/></a><!--MD5=[87475888eb2a3273004c156b84036b2a]\n",
       "@startuml\r\n",
       "skinparam linetype ortho\r\n",
       "skinparam monochrome true\r\n",
       "skinparam classbackgroundcolor white\r\n",
       "skinparam shadowing false\r\n",
       "skinparam wrapWidth 300\r\n",
       "hide circle\r\n",
       "\r\n",
       "package \"ViewTest\" as E1  [[psysml:fb02ed11-6398-4cea-b135-53d0cca9c478 ]]  {\r\n",
       "package \"P\" as E2  [[psysml:6d9f5c34-02db-4c22-b8ae-ed1a072d5ac7 ]]  {\r\n",
       "}\r\n",
       "comp def \"VP\" as E3  <<(T,blue)viewpoint def>> [[psysml:436e526f-0cc5-474d-8f19-4580d940df20 ]] {\r\n",
       "}\r\n",
       "comp def \"R\" as E4  <<(T,blue)rendering def>> [[psysml:053dc08e-a8e7-4770-acc6-30068883d6d6 ]] {\r\n",
       "}\r\n",
       "comp def \"V\" as E5  <<(T,blue)view def>> [[psysml:2fa1d21f-0378-4832-ab0e-3c490c491fc9 ]] {\r\n",
       "}\r\n",
       "comp usage \"vp: VP\" as E6  <<(T,blue)viewpoint>> [[psysml:b39da276-6b98-4aad-85bf-f9ecfc55683d ]] {\r\n",
       "}\r\n",
       "comp usage \"r: R\" as E7  <<(T,blue)rendering>> [[psysml:5db0ac38-23f9-426f-a666-7fa33ad35708 ]] {\r\n",
       "}\r\n",
       "comp usage \"v: V\" as E8  <<(T,blue)view>> [[psysml:96dfc0dc-2946-48da-b50d-9c346f08b52f ]] {\r\n",
       "}\r\n",
       "comp usage \"r1\" as E9  <<(T,blue)rendering>> [[psysml:fc5eb428-4a03-41d1-992b-aff2a13d3fb9 ]] {\r\n",
       "}\r\n",
       "E5 *- - E6 [[psysml:b39da276-6b98-4aad-85bf-f9ecfc55683d ]] \r\n",
       "E6 - -:|> E3 [[psysml:7b3d769f-4c56-4413-aa9f-0104e9507d6b ]] \r\n",
       "E7 - -:|> E4 [[psysml:f768404d-501b-4614-8ab9-e2515f32fafd ]] \r\n",
       "E5 *- - \"0..1\"E7 [[psysml:5db0ac38-23f9-426f-a666-7fa33ad35708 ]] \r\n",
       "E8 - -:|> E5 [[psysml:2ecacd66-b174-4fa5-a1f0-5f98a8e6e629 ]] \r\n",
       "E5 *- - \"*\"E8 [[psysml:96dfc0dc-2946-48da-b50d-9c346f08b52f ]] \r\n",
       "E8 *- - E9 [[psysml:fc5eb428-4a03-41d1-992b-aff2a13d3fb9 ]] \r\n",
       "}\r\n",
       "@enduml\r\n",
       "\n",
       "PlantUML version 1.2020.13(Sat Jun 13 12:26:38 UTC 2020)\n",
       "(EPL source distribution)\n",
       "Java Runtime: OpenJDK Runtime Environment\n",
       "JVM: OpenJDK 64-Bit Server VM\n",
       "Default Encoding: UTF-8\n",
       "Language: en\n",
       "Country: null\n",
       "--></g></svg>"
      ]
     },
     "execution_count": 56,
     "metadata": {},
     "output_type": "execute_result"
    }
   ],
   "source": [
    "%viz --style=\"ORTHOLINE\" --view=\"Sequence\" \"ViewTest\""
   ]
  },
  {
   "cell_type": "code",
   "execution_count": 57,
   "id": "sufficient-tunisia",
   "metadata": {
    "execution": {
     "iopub.execute_input": "2021-03-24T16:32:15.227310Z",
     "iopub.status.busy": "2021-03-24T16:32:15.226534Z",
     "iopub.status.idle": "2021-03-24T16:32:15.258707Z",
     "shell.execute_reply": "2021-03-24T16:32:15.258390Z"
    }
   },
   "outputs": [
    {
     "data": {
      "image/svg+xml": [
       "<?xml version=\"1.0\" encoding=\"UTF-8\" standalone=\"no\"?><svg xmlns=\"http://www.w3.org/2000/svg\" xmlns:xlink=\"http://www.w3.org/1999/xlink\" contentScriptType=\"application/ecmascript\" contentStyleType=\"text/css\" height=\"334px\" preserveAspectRatio=\"none\" style=\"width:417px;height:334px;\" version=\"1.1\" viewBox=\"0 0 417 334\" width=\"417px\" zoomAndPan=\"magnify\"><defs/><g><!--MD5=[fbc87193dbaf4d95561dea2c320d4a47]\n",
       "cluster E1--><a href=\"psysml:fb02ed11-6398-4cea-b135-53d0cca9c478\" target=\"_top\" title=\"psysml:fb02ed11-6398-4cea-b135-53d0cca9c478\" xlink:actuate=\"onRequest\" xlink:href=\"psysml:fb02ed11-6398-4cea-b135-53d0cca9c478\" xlink:show=\"new\" xlink:title=\"psysml:fb02ed11-6398-4cea-b135-53d0cca9c478\" xlink:type=\"simple\"><polygon fill=\"#FFFFFF\" points=\"16,6,96,6,103,28.2969,395,28.2969,395,322,16,322,16,6\" style=\"stroke: #000000; stroke-width: 1.5;\"/><line style=\"stroke: #000000; stroke-width: 1.5;\" x1=\"16\" x2=\"103\" y1=\"28.2969\" y2=\"28.2969\"/><text fill=\"#000000\" font-family=\"sans-serif\" font-size=\"14\" font-weight=\"bold\" lengthAdjust=\"spacingAndGlyphs\" textLength=\"74\" x=\"20\" y=\"20.9951\">ViewTest</text></a><!--MD5=[09b614a08d8cba4a07c9adeb5e0fee81]\n",
       "class E3--><a href=\"psysml:436e526f-0cc5-474d-8f19-4580d940df20\" target=\"_top\" title=\"psysml:436e526f-0cc5-474d-8f19-4580d940df20\" xlink:actuate=\"onRequest\" xlink:href=\"psysml:436e526f-0cc5-474d-8f19-4580d940df20\" xlink:show=\"new\" xlink:title=\"psysml:436e526f-0cc5-474d-8f19-4580d940df20\" xlink:type=\"simple\"><rect fill=\"#FFFFFF\" height=\"45.9375\" id=\"E3\" style=\"stroke: #383838; stroke-width: 1.5;\" width=\"98\" x=\"32\" y=\"260\"/><text fill=\"#000000\" font-family=\"sans-serif\" font-size=\"12\" font-style=\"italic\" lengthAdjust=\"spacingAndGlyphs\" textLength=\"96\" x=\"33\" y=\"276.1387\">«viewpoint def»</text><text fill=\"#000000\" font-family=\"sans-serif\" font-size=\"12\" lengthAdjust=\"spacingAndGlyphs\" textLength=\"16\" x=\"73\" y=\"290.1074\">VP</text><line style=\"stroke: #383838; stroke-width: 1.5;\" x1=\"33\" x2=\"129\" y1=\"297.9375\" y2=\"297.9375\"/></a><!--MD5=[ebbe1d658d1005bcc118a6aa81145e00]\n",
       "class E4--><a href=\"psysml:053dc08e-a8e7-4770-acc6-30068883d6d6\" target=\"_top\" title=\"psysml:053dc08e-a8e7-4770-acc6-30068883d6d6\" xlink:actuate=\"onRequest\" xlink:href=\"psysml:053dc08e-a8e7-4770-acc6-30068883d6d6\" xlink:show=\"new\" xlink:title=\"psysml:053dc08e-a8e7-4770-acc6-30068883d6d6\" xlink:type=\"simple\"><rect fill=\"#FFFFFF\" height=\"45.9375\" id=\"E4\" style=\"stroke: #383838; stroke-width: 1.5;\" width=\"101\" x=\"165.5\" y=\"260\"/><text fill=\"#000000\" font-family=\"sans-serif\" font-size=\"12\" font-style=\"italic\" lengthAdjust=\"spacingAndGlyphs\" textLength=\"99\" x=\"166.5\" y=\"276.1387\">«rendering def»</text><text fill=\"#000000\" font-family=\"sans-serif\" font-size=\"12\" lengthAdjust=\"spacingAndGlyphs\" textLength=\"8\" x=\"212\" y=\"290.1074\">R</text><line style=\"stroke: #383838; stroke-width: 1.5;\" x1=\"166.5\" x2=\"265.5\" y1=\"297.9375\" y2=\"297.9375\"/></a><!--MD5=[270fce915f116d4de14055a7c1d9a0f3]\n",
       "class E5--><a href=\"psysml:2fa1d21f-0378-4832-ab0e-3c490c491fc9\" target=\"_top\" title=\"psysml:2fa1d21f-0378-4832-ab0e-3c490c491fc9\" xlink:actuate=\"onRequest\" xlink:href=\"psysml:2fa1d21f-0378-4832-ab0e-3c490c491fc9\" xlink:show=\"new\" xlink:title=\"psysml:2fa1d21f-0378-4832-ab0e-3c490c491fc9\" xlink:type=\"simple\"><rect fill=\"#FFFFFF\" height=\"45.9375\" id=\"E5\" style=\"stroke: #383838; stroke-width: 1.5;\" width=\"66\" x=\"230\" y=\"44.5\"/><text fill=\"#000000\" font-family=\"sans-serif\" font-size=\"12\" font-style=\"italic\" lengthAdjust=\"spacingAndGlyphs\" textLength=\"64\" x=\"231\" y=\"60.6387\">«view def»</text><text fill=\"#000000\" font-family=\"sans-serif\" font-size=\"12\" lengthAdjust=\"spacingAndGlyphs\" textLength=\"8\" x=\"259\" y=\"74.6074\">V</text><line style=\"stroke: #383838; stroke-width: 1.5;\" x1=\"231\" x2=\"295\" y1=\"82.4375\" y2=\"82.4375\"/></a><!--MD5=[60a26617385b1d2d0262a64233df1f8d]\n",
       "class E6--><a href=\"psysml:b39da276-6b98-4aad-85bf-f9ecfc55683d\" target=\"_top\" title=\"psysml:b39da276-6b98-4aad-85bf-f9ecfc55683d\" xlink:actuate=\"onRequest\" xlink:href=\"psysml:b39da276-6b98-4aad-85bf-f9ecfc55683d\" xlink:show=\"new\" xlink:title=\"psysml:b39da276-6b98-4aad-85bf-f9ecfc55683d\" xlink:type=\"simple\"><rect fill=\"#FFFFFF\" height=\"45.9375\" id=\"E6\" rx=\"10\" ry=\"10\" style=\"stroke: #383838; stroke-width: 1.5;\" width=\"74\" x=\"56\" y=\"154\"/><text fill=\"#000000\" font-family=\"sans-serif\" font-size=\"12\" font-style=\"italic\" lengthAdjust=\"spacingAndGlyphs\" textLength=\"72\" x=\"57\" y=\"170.1387\">«viewpoint»</text><text fill=\"#000000\" font-family=\"sans-serif\" font-size=\"12\" lengthAdjust=\"spacingAndGlyphs\" textLength=\"38\" x=\"74\" y=\"184.1074\">vp: VP</text><line style=\"stroke: #383838; stroke-width: 1.5;\" x1=\"57\" x2=\"129\" y1=\"191.9375\" y2=\"191.9375\"/></a><!--MD5=[2156ba9850f5573cc1fc38a6a4b2f02b]\n",
       "class E7--><a href=\"psysml:5db0ac38-23f9-426f-a666-7fa33ad35708\" target=\"_top\" title=\"psysml:5db0ac38-23f9-426f-a666-7fa33ad35708\" xlink:actuate=\"onRequest\" xlink:href=\"psysml:5db0ac38-23f9-426f-a666-7fa33ad35708\" xlink:show=\"new\" xlink:title=\"psysml:5db0ac38-23f9-426f-a666-7fa33ad35708\" xlink:type=\"simple\"><rect fill=\"#FFFFFF\" height=\"45.9375\" id=\"E7\" rx=\"10\" ry=\"10\" style=\"stroke: #383838; stroke-width: 1.5;\" width=\"77\" x=\"177.5\" y=\"154\"/><text fill=\"#000000\" font-family=\"sans-serif\" font-size=\"12\" font-style=\"italic\" lengthAdjust=\"spacingAndGlyphs\" textLength=\"75\" x=\"178.5\" y=\"170.1387\">«rendering»</text><text fill=\"#000000\" font-family=\"sans-serif\" font-size=\"12\" lengthAdjust=\"spacingAndGlyphs\" textLength=\"21\" x=\"205.5\" y=\"184.1074\">r: R</text><line style=\"stroke: #383838; stroke-width: 1.5;\" x1=\"178.5\" x2=\"253.5\" y1=\"191.9375\" y2=\"191.9375\"/></a><!--MD5=[b9389687b975829384b498ac4b7476b2]\n",
       "class E8--><a href=\"psysml:96dfc0dc-2946-48da-b50d-9c346f08b52f\" target=\"_top\" title=\"psysml:96dfc0dc-2946-48da-b50d-9c346f08b52f\" xlink:actuate=\"onRequest\" xlink:href=\"psysml:96dfc0dc-2946-48da-b50d-9c346f08b52f\" xlink:show=\"new\" xlink:title=\"psysml:96dfc0dc-2946-48da-b50d-9c346f08b52f\" xlink:type=\"simple\"><rect fill=\"#FFFFFF\" height=\"45.9375\" id=\"E8\" rx=\"10\" ry=\"10\" style=\"stroke: #383838; stroke-width: 1.5;\" width=\"42\" x=\"290\" y=\"154\"/><text fill=\"#000000\" font-family=\"sans-serif\" font-size=\"12\" font-style=\"italic\" lengthAdjust=\"spacingAndGlyphs\" textLength=\"40\" x=\"291\" y=\"170.1387\">«view»</text><text fill=\"#000000\" font-family=\"sans-serif\" font-size=\"12\" lengthAdjust=\"spacingAndGlyphs\" textLength=\"22\" x=\"300\" y=\"184.1074\">v: V</text><line style=\"stroke: #383838; stroke-width: 1.5;\" x1=\"291\" x2=\"331\" y1=\"191.9375\" y2=\"191.9375\"/></a><!--MD5=[fd4143e9d270a159db93a4ea2a975926]\n",
       "class E9--><a href=\"psysml:fc5eb428-4a03-41d1-992b-aff2a13d3fb9\" target=\"_top\" title=\"psysml:fc5eb428-4a03-41d1-992b-aff2a13d3fb9\" xlink:actuate=\"onRequest\" xlink:href=\"psysml:fc5eb428-4a03-41d1-992b-aff2a13d3fb9\" xlink:show=\"new\" xlink:title=\"psysml:fc5eb428-4a03-41d1-992b-aff2a13d3fb9\" xlink:type=\"simple\"><rect fill=\"#FFFFFF\" height=\"45.9375\" id=\"E9\" rx=\"10\" ry=\"10\" style=\"stroke: #383838; stroke-width: 1.5;\" width=\"77\" x=\"301.5\" y=\"260\"/><text fill=\"#000000\" font-family=\"sans-serif\" font-size=\"12\" font-style=\"italic\" lengthAdjust=\"spacingAndGlyphs\" textLength=\"75\" x=\"302.5\" y=\"276.1387\">«rendering»</text><text fill=\"#000000\" font-family=\"sans-serif\" font-size=\"12\" lengthAdjust=\"spacingAndGlyphs\" textLength=\"13\" x=\"333.5\" y=\"290.1074\">r1</text><line style=\"stroke: #383838; stroke-width: 1.5;\" x1=\"302.5\" x2=\"377.5\" y1=\"297.9375\" y2=\"297.9375\"/></a><a href=\"psysml:6d9f5c34-02db-4c22-b8ae-ed1a072d5ac7\" target=\"_top\" title=\"psysml:6d9f5c34-02db-4c22-b8ae-ed1a072d5ac7\" xlink:actuate=\"onRequest\" xlink:href=\"psysml:6d9f5c34-02db-4c22-b8ae-ed1a072d5ac7\" xlink:show=\"new\" xlink:title=\"psysml:6d9f5c34-02db-4c22-b8ae-ed1a072d5ac7\" xlink:type=\"simple\"><polygon fill=\"#FFFFFF\" points=\"122,41,138,41,145,63.2969,152,63.2969,152,93.5938,122,93.5938,122,41\" style=\"stroke: #000000; stroke-width: 1.5;\"/><line style=\"stroke: #000000; stroke-width: 1.5;\" x1=\"122\" x2=\"145\" y1=\"63.2969\" y2=\"63.2969\"/><text fill=\"#000000\" font-family=\"sans-serif\" font-size=\"14\" font-weight=\"bold\" lengthAdjust=\"spacingAndGlyphs\" textLength=\"10\" x=\"126\" y=\"55.9951\">P</text></a><!--MD5=[85d356282659285ab4b2cfe2f634dd2b]\n",
       "reverse link E5 to E6--><a href=\"psysml:b39da276-6b98-4aad-85bf-f9ecfc55683d\" target=\"_top\" title=\"psysml:b39da276-6b98-4aad-85bf-f9ecfc55683d\" xlink:actuate=\"onRequest\" xlink:href=\"psysml:b39da276-6b98-4aad-85bf-f9ecfc55683d\" xlink:show=\"new\" xlink:title=\"psysml:b39da276-6b98-4aad-85bf-f9ecfc55683d\" xlink:type=\"simple\"><path d=\"M238.17,103.81 C238.17,103.81 238.17,124 238.17,124 C238.17,124 141,124 141,124 C141,124 141,173.74 141,176.85 \" fill=\"none\" id=\"E5&lt;-E6\" style=\"stroke: #383838; stroke-width: 1.0;\"/><polygon fill=\"#383838\" points=\"238.17,90.81,234.17,96.81,238.17,102.81,242.17,96.81,238.17,90.81\" style=\"stroke: #383838; stroke-width: 1.0;\"/></a><!--MD5=[a717450b82c80b9240a525fa862496af]\n",
       "link E6 to E3--><a href=\"psysml:7b3d769f-4c56-4413-aa9f-0104e9507d6b\" target=\"_top\" title=\"psysml:7b3d769f-4c56-4413-aa9f-0104e9507d6b\" xlink:actuate=\"onRequest\" xlink:href=\"psysml:7b3d769f-4c56-4413-aa9f-0104e9507d6b\" xlink:show=\"new\" xlink:title=\"psysml:7b3d769f-4c56-4413-aa9f-0104e9507d6b\" xlink:type=\"simple\"><path d=\"M93,200 C93,200 93,239.68 93,239.68 \" fill=\"none\" id=\"E6-&gt;E3\" style=\"stroke: #383838; stroke-width: 1.0;\"/><polygon fill=\"#FFFFFF\" points=\"93,259.68,86,240.68,100,240.68,93,259.68\" style=\"stroke: #383838; stroke-width: 1.0;\"/><ellipse cx=\"88\" cy=\"234.98\" fill=\"#383838\" rx=\"2\" ry=\"2\" style=\"stroke: #383838; stroke-width: 1.0;\"/><ellipse cx=\"98\" cy=\"234.98\" fill=\"#383838\" rx=\"2\" ry=\"2\" style=\"stroke: #383838; stroke-width: 1.0;\"/></a><!--MD5=[6bdd27f9905911a7e892a3dc65cf6b7c]\n",
       "link E7 to E4--><a href=\"psysml:f768404d-501b-4614-8ab9-e2515f32fafd\" target=\"_top\" title=\"psysml:f768404d-501b-4614-8ab9-e2515f32fafd\" xlink:actuate=\"onRequest\" xlink:href=\"psysml:f768404d-501b-4614-8ab9-e2515f32fafd\" xlink:show=\"new\" xlink:title=\"psysml:f768404d-501b-4614-8ab9-e2515f32fafd\" xlink:type=\"simple\"><path d=\"M216,200 C216,200 216,239.68 216,239.68 \" fill=\"none\" id=\"E7-&gt;E4\" style=\"stroke: #383838; stroke-width: 1.0;\"/><polygon fill=\"#FFFFFF\" points=\"216,259.68,209,240.68,223,240.68,216,259.68\" style=\"stroke: #383838; stroke-width: 1.0;\"/><ellipse cx=\"211\" cy=\"234.98\" fill=\"#383838\" rx=\"2\" ry=\"2\" style=\"stroke: #383838; stroke-width: 1.0;\"/><ellipse cx=\"221\" cy=\"234.98\" fill=\"#383838\" rx=\"2\" ry=\"2\" style=\"stroke: #383838; stroke-width: 1.0;\"/></a><!--MD5=[452b418e7f8a40397a49b8c0a78acc5b]\n",
       "reverse link E5 to E7--><a href=\"psysml:5db0ac38-23f9-426f-a666-7fa33ad35708\" target=\"_top\" title=\"psysml:5db0ac38-23f9-426f-a666-7fa33ad35708\" xlink:actuate=\"onRequest\" xlink:href=\"psysml:5db0ac38-23f9-426f-a666-7fa33ad35708\" xlink:show=\"new\" xlink:title=\"psysml:5db0ac38-23f9-426f-a666-7fa33ad35708\" xlink:type=\"simple\"><path d=\"M246.33,103.72 C246.33,103.72 246.33,153.81 246.33,153.81 \" fill=\"none\" id=\"E5&lt;-E7\" style=\"stroke: #383838; stroke-width: 1.0;\"/><polygon fill=\"#383838\" points=\"246.33,90.72,242.33,96.72,246.33,102.72,250.33,96.72,246.33,90.72\" style=\"stroke: #383838; stroke-width: 1.0;\"/><text fill=\"#000000\" font-family=\"sans-serif\" font-size=\"13\" lengthAdjust=\"spacingAndGlyphs\" textLength=\"24\" x=\"227.0271\" y=\"143.0376\">0..1</text></a><!--MD5=[1ccb2481ffa92f8d51a74ee30c51832a]\n",
       "link E8 to E5--><a href=\"psysml:2ecacd66-b174-4fa5-a1f0-5f98a8e6e629\" target=\"_top\" title=\"psysml:2ecacd66-b174-4fa5-a1f0-5f98a8e6e629\" xlink:actuate=\"onRequest\" xlink:href=\"psysml:2ecacd66-b174-4fa5-a1f0-5f98a8e6e629\" xlink:show=\"new\" xlink:title=\"psysml:2ecacd66-b174-4fa5-a1f0-5f98a8e6e629\" xlink:type=\"simple\"><path d=\"M289.74,170 C285.42,170 282.17,170 282.17,170 C282.17,170 282.17,110.5 282.17,110.5 \" fill=\"none\" id=\"E8-&gt;E5\" style=\"stroke: #383838; stroke-width: 1.0;\"/><polygon fill=\"#FFFFFF\" points=\"282.17,90.5,289.17,109.5,275.17,109.5,282.17,90.5\" style=\"stroke: #383838; stroke-width: 1.0;\"/><ellipse cx=\"287.17\" cy=\"115.2\" fill=\"#383838\" rx=\"2\" ry=\"2\" style=\"stroke: #383838; stroke-width: 1.0;\"/><ellipse cx=\"277.17\" cy=\"115.2\" fill=\"#383838\" rx=\"2\" ry=\"2\" style=\"stroke: #383838; stroke-width: 1.0;\"/></a><!--MD5=[827760032d119d06bbc92f75530fd7ae]\n",
       "reverse link E5 to E8--><a href=\"psysml:96dfc0dc-2946-48da-b50d-9c346f08b52f\" target=\"_top\" title=\"psysml:96dfc0dc-2946-48da-b50d-9c346f08b52f\" xlink:actuate=\"onRequest\" xlink:href=\"psysml:96dfc0dc-2946-48da-b50d-9c346f08b52f\" xlink:show=\"new\" xlink:title=\"psysml:96dfc0dc-2946-48da-b50d-9c346f08b52f\" xlink:type=\"simple\"><path d=\"M274.33,103.71 C274.33,103.71 274.33,185 274.33,185 C274.33,185 281.6,185 289.67,185 \" fill=\"none\" id=\"E5&lt;-E8\" style=\"stroke: #383838; stroke-width: 1.0;\"/><polygon fill=\"#383838\" points=\"274.33,90.71,270.33,96.71,274.33,102.71,278.33,96.71,274.33,90.71\" style=\"stroke: #383838; stroke-width: 1.0;\"/><text fill=\"#000000\" font-family=\"sans-serif\" font-size=\"13\" lengthAdjust=\"spacingAndGlyphs\" textLength=\"7\" x=\"275.0658\" y=\"182.2499\">*</text></a><!--MD5=[22f5b4bae7e060dce8a1c8021efdb95b]\n",
       "reverse link E8 to E9--><a href=\"psysml:fc5eb428-4a03-41d1-992b-aff2a13d3fb9\" target=\"_top\" title=\"psysml:fc5eb428-4a03-41d1-992b-aff2a13d3fb9\" xlink:actuate=\"onRequest\" xlink:href=\"psysml:fc5eb428-4a03-41d1-992b-aff2a13d3fb9\" xlink:show=\"new\" xlink:title=\"psysml:fc5eb428-4a03-41d1-992b-aff2a13d3fb9\" xlink:type=\"simple\"><path d=\"M316.75,213 C316.75,213 316.75,259.68 316.75,259.68 \" fill=\"none\" id=\"E8&lt;-E9\" style=\"stroke: #383838; stroke-width: 1.0;\"/><polygon fill=\"#383838\" points=\"316.75,200,312.75,206,316.75,212,320.75,206,316.75,200\" style=\"stroke: #383838; stroke-width: 1.0;\"/></a><!--MD5=[87475888eb2a3273004c156b84036b2a]\n",
       "@startuml\r\n",
       "skinparam linetype ortho\r\n",
       "skinparam monochrome true\r\n",
       "skinparam classbackgroundcolor white\r\n",
       "skinparam shadowing false\r\n",
       "skinparam wrapWidth 300\r\n",
       "hide circle\r\n",
       "\r\n",
       "package \"ViewTest\" as E1  [[psysml:fb02ed11-6398-4cea-b135-53d0cca9c478 ]]  {\r\n",
       "package \"P\" as E2  [[psysml:6d9f5c34-02db-4c22-b8ae-ed1a072d5ac7 ]]  {\r\n",
       "}\r\n",
       "comp def \"VP\" as E3  <<(T,blue)viewpoint def>> [[psysml:436e526f-0cc5-474d-8f19-4580d940df20 ]] {\r\n",
       "}\r\n",
       "comp def \"R\" as E4  <<(T,blue)rendering def>> [[psysml:053dc08e-a8e7-4770-acc6-30068883d6d6 ]] {\r\n",
       "}\r\n",
       "comp def \"V\" as E5  <<(T,blue)view def>> [[psysml:2fa1d21f-0378-4832-ab0e-3c490c491fc9 ]] {\r\n",
       "}\r\n",
       "comp usage \"vp: VP\" as E6  <<(T,blue)viewpoint>> [[psysml:b39da276-6b98-4aad-85bf-f9ecfc55683d ]] {\r\n",
       "}\r\n",
       "comp usage \"r: R\" as E7  <<(T,blue)rendering>> [[psysml:5db0ac38-23f9-426f-a666-7fa33ad35708 ]] {\r\n",
       "}\r\n",
       "comp usage \"v: V\" as E8  <<(T,blue)view>> [[psysml:96dfc0dc-2946-48da-b50d-9c346f08b52f ]] {\r\n",
       "}\r\n",
       "comp usage \"r1\" as E9  <<(T,blue)rendering>> [[psysml:fc5eb428-4a03-41d1-992b-aff2a13d3fb9 ]] {\r\n",
       "}\r\n",
       "E5 *- - E6 [[psysml:b39da276-6b98-4aad-85bf-f9ecfc55683d ]] \r\n",
       "E6 - -:|> E3 [[psysml:7b3d769f-4c56-4413-aa9f-0104e9507d6b ]] \r\n",
       "E7 - -:|> E4 [[psysml:f768404d-501b-4614-8ab9-e2515f32fafd ]] \r\n",
       "E5 *- - \"0..1\"E7 [[psysml:5db0ac38-23f9-426f-a666-7fa33ad35708 ]] \r\n",
       "E8 - -:|> E5 [[psysml:2ecacd66-b174-4fa5-a1f0-5f98a8e6e629 ]] \r\n",
       "E5 *- - \"*\"E8 [[psysml:96dfc0dc-2946-48da-b50d-9c346f08b52f ]] \r\n",
       "E8 *- - E9 [[psysml:fc5eb428-4a03-41d1-992b-aff2a13d3fb9 ]] \r\n",
       "}\r\n",
       "@enduml\r\n",
       "\n",
       "PlantUML version 1.2020.13(Sat Jun 13 12:26:38 UTC 2020)\n",
       "(EPL source distribution)\n",
       "Java Runtime: OpenJDK Runtime Environment\n",
       "JVM: OpenJDK 64-Bit Server VM\n",
       "Default Encoding: UTF-8\n",
       "Language: en\n",
       "Country: null\n",
       "--></g></svg>"
      ]
     },
     "execution_count": 57,
     "metadata": {},
     "output_type": "execute_result"
    }
   ],
   "source": [
    "%viz --style=\"ORTHOLINE\" --view=\"MIXED\" \"ViewTest\""
   ]
  }
 ],
 "metadata": {
  "kernelspec": {
   "display_name": "SysML",
   "language": "sysml",
   "name": "sysml"
  },
  "language_info": {
   "codemirror_mode": "sysml",
   "file_extension": ".sysml",
   "mimetype": "text/x-sysml",
   "name": "SysML",
   "pygments_lexer": "java",
   "version": "1.0.0"
  }
 },
 "nbformat": 4,
 "nbformat_minor": 5
}
