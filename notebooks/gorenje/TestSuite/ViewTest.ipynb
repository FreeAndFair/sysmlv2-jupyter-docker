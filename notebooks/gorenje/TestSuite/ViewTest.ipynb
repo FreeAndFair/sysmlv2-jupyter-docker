{
 "cells": [
  {
   "cell_type": "markdown",
   "id": "widespread-taxation",
   "metadata": {},
   "source": [
    "# SysML v2 Test Suite\n",
    "\n",
    "This can notebook can be cleared using menu `Edit --> Clear All Outputs` and then all cells can be\n",
    "run using menu `Run --> Run All Cells`.\n",
    "\n",
    "**WARNING**: This file is generated, all modifications here will be ignored.\n"
   ]
  },
  {
   "cell_type": "markdown",
   "id": "front-shield",
   "metadata": {},
   "source": [
    "## File: ../../sysml/src/examples/Simple Tests/ViewTest.sysml"
   ]
  },
  {
   "cell_type": "code",
   "execution_count": 1,
   "id": "future-superintendent",
   "metadata": {
    "execution": {
     "iopub.execute_input": "2021-03-25T15:09:58.410415Z",
     "iopub.status.busy": "2021-03-25T15:09:58.406358Z",
     "iopub.status.idle": "2021-03-25T15:09:58.692443Z",
     "shell.execute_reply": "2021-03-25T15:09:58.691888Z"
    }
   },
   "outputs": [
    {
     "data": {
      "text/plain": [
       "Package ViewTest (3473e62a-9887-4b5f-b38d-87d093277042)\n"
      ]
     },
     "execution_count": 1,
     "metadata": {},
     "output_type": "execute_result"
    }
   ],
   "source": [
    "package ViewTest {\n",
    "\tpackage P;\n",
    "\t\n",
    "\tviewpoint def VP;\n",
    "\trendering def R;\n",
    "\t\n",
    "\tview def V {\n",
    "\t\tviewpoint vp: VP;\n",
    "\t\trendering r: R[0..1]; \n",
    "\t\t\n",
    "\t\tview v: V[0..*] {\n",
    "\t\t\texpose P::*;\n",
    "\t\t\trendering r1;\n",
    "\t\t}\n",
    "\t}\n",
    "\n",
    "}"
   ]
  },
  {
   "cell_type": "code",
   "execution_count": 2,
   "id": "inclusive-finish",
   "metadata": {
    "execution": {
     "iopub.execute_input": "2021-03-25T15:09:58.744911Z",
     "iopub.status.busy": "2021-03-25T15:09:58.744147Z",
     "iopub.status.idle": "2021-03-25T15:09:59.598953Z",
     "shell.execute_reply": "2021-03-25T15:09:59.599502Z"
    }
   },
   "outputs": [
    {
     "data": {
      "image/svg+xml": [
       "<?xml version=\"1.0\" encoding=\"UTF-8\" standalone=\"no\"?><svg xmlns=\"http://www.w3.org/2000/svg\" xmlns:xlink=\"http://www.w3.org/1999/xlink\" contentScriptType=\"application/ecmascript\" contentStyleType=\"text/css\" height=\"334px\" preserveAspectRatio=\"none\" style=\"width:495px;height:334px;\" version=\"1.1\" viewBox=\"0 0 495 334\" width=\"495px\" zoomAndPan=\"magnify\"><defs><filter height=\"300%\" id=\"f1djxxmrj360p0\" width=\"300%\" x=\"-1\" y=\"-1\"><feGaussianBlur result=\"blurOut\" stdDeviation=\"2.0\"/><feColorMatrix in=\"blurOut\" result=\"blurOut2\" type=\"matrix\" values=\"0 0 0 0 0 0 0 0 0 0 0 0 0 0 0 0 0 0 .4 0\"/><feOffset dx=\"4.0\" dy=\"4.0\" in=\"blurOut2\" result=\"blurOut3\"/><feBlend in=\"SourceGraphic\" in2=\"blurOut3\" mode=\"normal\"/></filter></defs><g><!--MD5=[fbc87193dbaf4d95561dea2c320d4a47]\n",
       "cluster E1--><a href=\"psysml:68a4efc3-4169-49c4-b08f-98091c4bc0be\" target=\"_top\" title=\"psysml:68a4efc3-4169-49c4-b08f-98091c4bc0be\" xlink:actuate=\"onRequest\" xlink:href=\"psysml:68a4efc3-4169-49c4-b08f-98091c4bc0be\" xlink:show=\"new\" xlink:title=\"psysml:68a4efc3-4169-49c4-b08f-98091c4bc0be\" xlink:type=\"simple\"><polygon fill=\"#FFFFFF\" filter=\"url(#f1djxxmrj360p0)\" points=\"16,6,96,6,103,28.2969,473,28.2969,473,322,16,322,16,6\" style=\"stroke: #000000; stroke-width: 1.5;\"/><line style=\"stroke: #000000; stroke-width: 1.5;\" x1=\"16\" x2=\"103\" y1=\"28.2969\" y2=\"28.2969\"/><text fill=\"#000000\" font-family=\"sans-serif\" font-size=\"14\" font-weight=\"bold\" lengthAdjust=\"spacingAndGlyphs\" textLength=\"74\" x=\"20\" y=\"20.9951\">ViewTest</text></a><!--MD5=[09b614a08d8cba4a07c9adeb5e0fee81]\n",
       "class E3--><a href=\"psysml:0e16ef0b-675e-475c-a6ab-030697702310\" target=\"_top\" title=\"psysml:0e16ef0b-675e-475c-a6ab-030697702310\" xlink:actuate=\"onRequest\" xlink:href=\"psysml:0e16ef0b-675e-475c-a6ab-030697702310\" xlink:show=\"new\" xlink:title=\"psysml:0e16ef0b-675e-475c-a6ab-030697702310\" xlink:type=\"simple\"><rect fill=\"#FEFECE\" filter=\"url(#f1djxxmrj360p0)\" height=\"45.9375\" id=\"E3\" style=\"stroke: #A80036; stroke-width: 1.5;\" width=\"124\" x=\"32\" y=\"260\"/><ellipse cx=\"47\" cy=\"278.9688\" fill=\"#0000FF\" rx=\"11\" ry=\"11\" style=\"stroke: #A80036; stroke-width: 1.0;\"/><path d=\"M47.8438,285.7188 L45.3906,285.7188 L45.3906,275.4688 L42.25,275.4688 L42.25,273.3281 L50.9844,273.3281 L50.9844,275.4688 L47.8438,275.4688 L47.8438,285.7188 Z \"/><text fill=\"#000000\" font-family=\"sans-serif\" font-size=\"12\" font-style=\"italic\" lengthAdjust=\"spacingAndGlyphs\" textLength=\"96\" x=\"59\" y=\"276.1387\">«viewpoint def»</text><text fill=\"#000000\" font-family=\"sans-serif\" font-size=\"12\" lengthAdjust=\"spacingAndGlyphs\" textLength=\"16\" x=\"99\" y=\"290.1074\">VP</text><line style=\"stroke: #A80036; stroke-width: 1.5;\" x1=\"33\" x2=\"155\" y1=\"297.9375\" y2=\"297.9375\"/></a><!--MD5=[ebbe1d658d1005bcc118a6aa81145e00]\n",
       "class E4--><a href=\"psysml:80b9aeea-925b-4b3a-8c84-ce381a5e60ed\" target=\"_top\" title=\"psysml:80b9aeea-925b-4b3a-8c84-ce381a5e60ed\" xlink:actuate=\"onRequest\" xlink:href=\"psysml:80b9aeea-925b-4b3a-8c84-ce381a5e60ed\" xlink:show=\"new\" xlink:title=\"psysml:80b9aeea-925b-4b3a-8c84-ce381a5e60ed\" xlink:type=\"simple\"><rect fill=\"#FEFECE\" filter=\"url(#f1djxxmrj360p0)\" height=\"45.9375\" id=\"E4\" style=\"stroke: #A80036; stroke-width: 1.5;\" width=\"127\" x=\"191.5\" y=\"260\"/><ellipse cx=\"206.5\" cy=\"278.9688\" fill=\"#0000FF\" rx=\"11\" ry=\"11\" style=\"stroke: #A80036; stroke-width: 1.0;\"/><path d=\"M207.3438,285.7188 L204.8906,285.7188 L204.8906,275.4688 L201.75,275.4688 L201.75,273.3281 L210.4844,273.3281 L210.4844,275.4688 L207.3438,275.4688 L207.3438,285.7188 Z \"/><text fill=\"#000000\" font-family=\"sans-serif\" font-size=\"12\" font-style=\"italic\" lengthAdjust=\"spacingAndGlyphs\" textLength=\"99\" x=\"218.5\" y=\"276.1387\">«rendering def»</text><text fill=\"#000000\" font-family=\"sans-serif\" font-size=\"12\" lengthAdjust=\"spacingAndGlyphs\" textLength=\"8\" x=\"264\" y=\"290.1074\">R</text><line style=\"stroke: #A80036; stroke-width: 1.5;\" x1=\"192.5\" x2=\"317.5\" y1=\"297.9375\" y2=\"297.9375\"/></a><!--MD5=[270fce915f116d4de14055a7c1d9a0f3]\n",
       "class E5--><a href=\"psysml:fa67c82a-cf4c-4211-8405-b886e7fced61\" target=\"_top\" title=\"psysml:fa67c82a-cf4c-4211-8405-b886e7fced61\" xlink:actuate=\"onRequest\" xlink:href=\"psysml:fa67c82a-cf4c-4211-8405-b886e7fced61\" xlink:show=\"new\" xlink:title=\"psysml:fa67c82a-cf4c-4211-8405-b886e7fced61\" xlink:type=\"simple\"><rect fill=\"#FEFECE\" filter=\"url(#f1djxxmrj360p0)\" height=\"45.9375\" id=\"E5\" style=\"stroke: #A80036; stroke-width: 1.5;\" width=\"92\" x=\"269\" y=\"44.5\"/><ellipse cx=\"284\" cy=\"63.4688\" fill=\"#0000FF\" rx=\"11\" ry=\"11\" style=\"stroke: #A80036; stroke-width: 1.0;\"/><path d=\"M284.8438,70.2188 L282.3906,70.2188 L282.3906,59.9688 L279.25,59.9688 L279.25,57.8281 L287.9844,57.8281 L287.9844,59.9688 L284.8438,59.9688 L284.8438,70.2188 Z \"/><text fill=\"#000000\" font-family=\"sans-serif\" font-size=\"12\" font-style=\"italic\" lengthAdjust=\"spacingAndGlyphs\" textLength=\"64\" x=\"296\" y=\"60.6387\">«view def»</text><text fill=\"#000000\" font-family=\"sans-serif\" font-size=\"12\" lengthAdjust=\"spacingAndGlyphs\" textLength=\"8\" x=\"324\" y=\"74.6074\">V</text><line style=\"stroke: #A80036; stroke-width: 1.5;\" x1=\"270\" x2=\"360\" y1=\"82.4375\" y2=\"82.4375\"/></a><!--MD5=[60a26617385b1d2d0262a64233df1f8d]\n",
       "class E6--><a href=\"psysml:edb93869-3e30-4330-ae7d-f0dbadb8ae6e\" target=\"_top\" title=\"psysml:edb93869-3e30-4330-ae7d-f0dbadb8ae6e\" xlink:actuate=\"onRequest\" xlink:href=\"psysml:edb93869-3e30-4330-ae7d-f0dbadb8ae6e\" xlink:show=\"new\" xlink:title=\"psysml:edb93869-3e30-4330-ae7d-f0dbadb8ae6e\" xlink:type=\"simple\"><rect fill=\"#FEFECE\" filter=\"url(#f1djxxmrj360p0)\" height=\"45.9375\" id=\"E6\" rx=\"10\" ry=\"10\" style=\"stroke: #A80036; stroke-width: 1.5;\" width=\"100\" x=\"56\" y=\"154\"/><ellipse cx=\"71\" cy=\"172.9688\" fill=\"#0000FF\" rx=\"11\" ry=\"11\" style=\"stroke: #A80036; stroke-width: 1.0;\"/><path d=\"M71.8438,179.7188 L69.3906,179.7188 L69.3906,169.4688 L66.25,169.4688 L66.25,167.3281 L74.9844,167.3281 L74.9844,169.4688 L71.8438,169.4688 L71.8438,179.7188 Z \"/><text fill=\"#000000\" font-family=\"sans-serif\" font-size=\"12\" font-style=\"italic\" lengthAdjust=\"spacingAndGlyphs\" textLength=\"72\" x=\"83\" y=\"170.1387\">«viewpoint»</text><text fill=\"#000000\" font-family=\"sans-serif\" font-size=\"12\" lengthAdjust=\"spacingAndGlyphs\" textLength=\"38\" x=\"100\" y=\"184.1074\">vp: VP</text><line style=\"stroke: #A80036; stroke-width: 1.5;\" x1=\"57\" x2=\"155\" y1=\"191.9375\" y2=\"191.9375\"/></a><!--MD5=[2156ba9850f5573cc1fc38a6a4b2f02b]\n",
       "class E7--><a href=\"psysml:d3ad1959-ed24-48c6-b8cb-3101ea5444ce\" target=\"_top\" title=\"psysml:d3ad1959-ed24-48c6-b8cb-3101ea5444ce\" xlink:actuate=\"onRequest\" xlink:href=\"psysml:d3ad1959-ed24-48c6-b8cb-3101ea5444ce\" xlink:show=\"new\" xlink:title=\"psysml:d3ad1959-ed24-48c6-b8cb-3101ea5444ce\" xlink:type=\"simple\"><rect fill=\"#FEFECE\" filter=\"url(#f1djxxmrj360p0)\" height=\"45.9375\" id=\"E7\" rx=\"10\" ry=\"10\" style=\"stroke: #A80036; stroke-width: 1.5;\" width=\"103\" x=\"203.5\" y=\"154\"/><ellipse cx=\"218.5\" cy=\"172.9688\" fill=\"#0000FF\" rx=\"11\" ry=\"11\" style=\"stroke: #A80036; stroke-width: 1.0;\"/><path d=\"M219.3438,179.7188 L216.8906,179.7188 L216.8906,169.4688 L213.75,169.4688 L213.75,167.3281 L222.4844,167.3281 L222.4844,169.4688 L219.3438,169.4688 L219.3438,179.7188 Z \"/><text fill=\"#000000\" font-family=\"sans-serif\" font-size=\"12\" font-style=\"italic\" lengthAdjust=\"spacingAndGlyphs\" textLength=\"75\" x=\"230.5\" y=\"170.1387\">«rendering»</text><text fill=\"#000000\" font-family=\"sans-serif\" font-size=\"12\" lengthAdjust=\"spacingAndGlyphs\" textLength=\"21\" x=\"257.5\" y=\"184.1074\">r: R</text><line style=\"stroke: #A80036; stroke-width: 1.5;\" x1=\"204.5\" x2=\"305.5\" y1=\"191.9375\" y2=\"191.9375\"/></a><!--MD5=[b9389687b975829384b498ac4b7476b2]\n",
       "class E8--><a href=\"psysml:c79df832-858d-4f87-b041-227cc7f695ce\" target=\"_top\" title=\"psysml:c79df832-858d-4f87-b041-227cc7f695ce\" xlink:actuate=\"onRequest\" xlink:href=\"psysml:c79df832-858d-4f87-b041-227cc7f695ce\" xlink:show=\"new\" xlink:title=\"psysml:c79df832-858d-4f87-b041-227cc7f695ce\" xlink:type=\"simple\"><rect fill=\"#FEFECE\" filter=\"url(#f1djxxmrj360p0)\" height=\"45.9375\" id=\"E8\" rx=\"10\" ry=\"10\" style=\"stroke: #A80036; stroke-width: 1.5;\" width=\"68\" x=\"342\" y=\"154\"/><ellipse cx=\"357\" cy=\"172.9688\" fill=\"#0000FF\" rx=\"11\" ry=\"11\" style=\"stroke: #A80036; stroke-width: 1.0;\"/><path d=\"M357.8438,179.7188 L355.3906,179.7188 L355.3906,169.4688 L352.25,169.4688 L352.25,167.3281 L360.9844,167.3281 L360.9844,169.4688 L357.8438,169.4688 L357.8438,179.7188 Z \"/><text fill=\"#000000\" font-family=\"sans-serif\" font-size=\"12\" font-style=\"italic\" lengthAdjust=\"spacingAndGlyphs\" textLength=\"40\" x=\"369\" y=\"170.1387\">«view»</text><text fill=\"#000000\" font-family=\"sans-serif\" font-size=\"12\" lengthAdjust=\"spacingAndGlyphs\" textLength=\"22\" x=\"378\" y=\"184.1074\">v: V</text><line style=\"stroke: #A80036; stroke-width: 1.5;\" x1=\"343\" x2=\"409\" y1=\"191.9375\" y2=\"191.9375\"/></a><!--MD5=[fd4143e9d270a159db93a4ea2a975926]\n",
       "class E9--><a href=\"psysml:599cc28e-37a4-4871-97e7-8713776fcf23\" target=\"_top\" title=\"psysml:599cc28e-37a4-4871-97e7-8713776fcf23\" xlink:actuate=\"onRequest\" xlink:href=\"psysml:599cc28e-37a4-4871-97e7-8713776fcf23\" xlink:show=\"new\" xlink:title=\"psysml:599cc28e-37a4-4871-97e7-8713776fcf23\" xlink:type=\"simple\"><rect fill=\"#FEFECE\" filter=\"url(#f1djxxmrj360p0)\" height=\"45.9375\" id=\"E9\" rx=\"10\" ry=\"10\" style=\"stroke: #A80036; stroke-width: 1.5;\" width=\"103\" x=\"353.5\" y=\"260\"/><ellipse cx=\"368.5\" cy=\"278.9688\" fill=\"#0000FF\" rx=\"11\" ry=\"11\" style=\"stroke: #A80036; stroke-width: 1.0;\"/><path d=\"M369.3438,285.7188 L366.8906,285.7188 L366.8906,275.4688 L363.75,275.4688 L363.75,273.3281 L372.4844,273.3281 L372.4844,275.4688 L369.3438,275.4688 L369.3438,285.7188 Z \"/><text fill=\"#000000\" font-family=\"sans-serif\" font-size=\"12\" font-style=\"italic\" lengthAdjust=\"spacingAndGlyphs\" textLength=\"75\" x=\"380.5\" y=\"276.1387\">«rendering»</text><text fill=\"#000000\" font-family=\"sans-serif\" font-size=\"12\" lengthAdjust=\"spacingAndGlyphs\" textLength=\"13\" x=\"411.5\" y=\"290.1074\">r1</text><line style=\"stroke: #A80036; stroke-width: 1.5;\" x1=\"354.5\" x2=\"455.5\" y1=\"297.9375\" y2=\"297.9375\"/></a><a href=\"psysml:d8eb8e98-9fc5-4554-bb79-0a7fb3af234b\" target=\"_top\" title=\"psysml:d8eb8e98-9fc5-4554-bb79-0a7fb3af234b\" xlink:actuate=\"onRequest\" xlink:href=\"psysml:d8eb8e98-9fc5-4554-bb79-0a7fb3af234b\" xlink:show=\"new\" xlink:title=\"psysml:d8eb8e98-9fc5-4554-bb79-0a7fb3af234b\" xlink:type=\"simple\"><polygon fill=\"#FFFFFF\" filter=\"url(#f1djxxmrj360p0)\" points=\"148,41,164,41,171,63.2969,178,63.2969,178,93.5938,148,93.5938,148,41\" style=\"stroke: #000000; stroke-width: 1.5;\"/><line style=\"stroke: #000000; stroke-width: 1.5;\" x1=\"148\" x2=\"171\" y1=\"63.2969\" y2=\"63.2969\"/><text fill=\"#000000\" font-family=\"sans-serif\" font-size=\"14\" font-weight=\"bold\" lengthAdjust=\"spacingAndGlyphs\" textLength=\"10\" x=\"152\" y=\"55.9951\">P</text></a><!--MD5=[85d356282659285ab4b2cfe2f634dd2b]\n",
       "reverse link E5 to E6--><a href=\"psysml:edb93869-3e30-4330-ae7d-f0dbadb8ae6e\" target=\"_top\" title=\"psysml:edb93869-3e30-4330-ae7d-f0dbadb8ae6e\" xlink:actuate=\"onRequest\" xlink:href=\"psysml:edb93869-3e30-4330-ae7d-f0dbadb8ae6e\" xlink:show=\"new\" xlink:title=\"psysml:edb93869-3e30-4330-ae7d-f0dbadb8ae6e\" xlink:type=\"simple\"><path d=\"M260.36,96.61 C225.64,114.46 181.33,137.25 149.1,153.83 \" fill=\"none\" id=\"E5&lt;-E6\" style=\"stroke: #A80036; stroke-width: 1.0;\"/><polygon fill=\"#A80036\" points=\"272.2,90.51,265.0353,89.6929,261.5255,95.9922,268.6901,96.8093,272.2,90.51\" style=\"stroke: #A80036; stroke-width: 1.0;\"/></a><!--MD5=[a717450b82c80b9240a525fa862496af]\n",
       "link E6 to E3--><a href=\"psysml:678c28b1-b825-4869-b6db-341a5ef18df5\" target=\"_top\" title=\"psysml:678c28b1-b825-4869-b6db-341a5ef18df5\" xlink:actuate=\"onRequest\" xlink:href=\"psysml:678c28b1-b825-4869-b6db-341a5ef18df5\" xlink:show=\"new\" xlink:title=\"psysml:678c28b1-b825-4869-b6db-341a5ef18df5\" xlink:type=\"simple\"><path d=\"M103.46,200.06 C102.12,211.64 100.44,226.23 98.86,239.87 \" fill=\"none\" id=\"E6-&gt;E3\" style=\"stroke: #A80036; stroke-width: 1.0;\"/><polygon fill=\"#FFFFFF\" points=\"96.54,259.98,91.757,240.3046,105.6653,241.9044,96.54,259.98\" style=\"stroke: #A80036; stroke-width: 1.0;\"/><ellipse cx=\"94.3953\" cy=\"234.8704\" fill=\"#A80036\" rx=\"2\" ry=\"2\" style=\"stroke: #A80036; stroke-width: 1.0;\"/><ellipse cx=\"104.3298\" cy=\"236.0132\" fill=\"#A80036\" rx=\"2\" ry=\"2\" style=\"stroke: #A80036; stroke-width: 1.0;\"/></a><!--MD5=[6bdd27f9905911a7e892a3dc65cf6b7c]\n",
       "link E7 to E4--><a href=\"psysml:e01b0a28-1744-4d35-a29d-a960e4229aec\" target=\"_top\" title=\"psysml:e01b0a28-1744-4d35-a29d-a960e4229aec\" xlink:actuate=\"onRequest\" xlink:href=\"psysml:e01b0a28-1744-4d35-a29d-a960e4229aec\" xlink:show=\"new\" xlink:title=\"psysml:e01b0a28-1744-4d35-a29d-a960e4229aec\" xlink:type=\"simple\"><path d=\"M255,200.06 C255,211.64 255,226.23 255,239.87 \" fill=\"none\" id=\"E7-&gt;E4\" style=\"stroke: #A80036; stroke-width: 1.0;\"/><polygon fill=\"#FFFFFF\" points=\"255,259.98,248,240.98,262,240.98,255,259.98\" style=\"stroke: #A80036; stroke-width: 1.0;\"/><ellipse cx=\"250\" cy=\"235.28\" fill=\"#A80036\" rx=\"2\" ry=\"2\" style=\"stroke: #A80036; stroke-width: 1.0;\"/><ellipse cx=\"260\" cy=\"235.28\" fill=\"#A80036\" rx=\"2\" ry=\"2\" style=\"stroke: #A80036; stroke-width: 1.0;\"/></a><!--MD5=[452b418e7f8a40397a49b8c0a78acc5b]\n",
       "reverse link E5 to E7--><a href=\"psysml:d3ad1959-ed24-48c6-b8cb-3101ea5444ce\" target=\"_top\" title=\"psysml:d3ad1959-ed24-48c6-b8cb-3101ea5444ce\" xlink:actuate=\"onRequest\" xlink:href=\"psysml:d3ad1959-ed24-48c6-b8cb-3101ea5444ce\" xlink:show=\"new\" xlink:title=\"psysml:d3ad1959-ed24-48c6-b8cb-3101ea5444ce\" xlink:type=\"simple\"><path d=\"M296.26,102.08 C286.88,118.88 275.8,138.74 267.48,153.65 \" fill=\"none\" id=\"E5&lt;-E7\" style=\"stroke: #A80036; stroke-width: 1.0;\"/><polygon fill=\"#A80036\" points=\"302.71,90.51,296.2953,93.8042,296.8689,100.9924,303.2836,97.6983,302.71,90.51\" style=\"stroke: #A80036; stroke-width: 1.0;\"/><text fill=\"#000000\" font-family=\"sans-serif\" font-size=\"13\" lengthAdjust=\"spacingAndGlyphs\" textLength=\"24\" x=\"243.603\" y=\"142.8366\">0..1</text></a><!--MD5=[1ccb2481ffa92f8d51a74ee30c51832a]\n",
       "link E8 to E5--><a href=\"psysml:3896f3dd-ac25-48cd-93fb-dac3b3d02068\" target=\"_top\" title=\"psysml:3896f3dd-ac25-48cd-93fb-dac3b3d02068\" xlink:actuate=\"onRequest\" xlink:href=\"psysml:3896f3dd-ac25-48cd-93fb-dac3b3d02068\" xlink:show=\"new\" xlink:title=\"psysml:3896f3dd-ac25-48cd-93fb-dac3b3d02068\" xlink:type=\"simple\"><path d=\"M374.51,153.65 C369.12,140.19 359.79,122.69 349.89,107.05 \" fill=\"none\" id=\"E8-&gt;E5\" style=\"stroke: #A80036; stroke-width: 1.0;\"/><polygon fill=\"#FFFFFF\" points=\"338.63,90.51,355.111,102.2734,343.5398,110.1542,338.63,90.51\" style=\"stroke: #A80036; stroke-width: 1.0;\"/><ellipse cx=\"356.6666\" cy=\"108.1103\" fill=\"#A80036\" rx=\"2\" ry=\"2\" style=\"stroke: #A80036; stroke-width: 1.0;\"/><ellipse cx=\"348.4014\" cy=\"113.7395\" fill=\"#A80036\" rx=\"2\" ry=\"2\" style=\"stroke: #A80036; stroke-width: 1.0;\"/></a><!--MD5=[827760032d119d06bbc92f75530fd7ae]\n",
       "reverse link E5 to E8--><a href=\"psysml:c79df832-858d-4f87-b041-227cc7f695ce\" target=\"_top\" title=\"psysml:c79df832-858d-4f87-b041-227cc7f695ce\" xlink:actuate=\"onRequest\" xlink:href=\"psysml:c79df832-858d-4f87-b041-227cc7f695ce\" xlink:show=\"new\" xlink:title=\"psysml:c79df832-858d-4f87-b041-227cc7f695ce\" xlink:type=\"simple\"><path d=\"M322.38,102.57 C330.44,119.26 342.04,138.89 352.74,153.65 \" fill=\"none\" id=\"E5&lt;-E8\" style=\"stroke: #A80036; stroke-width: 1.0;\"/><polygon fill=\"#A80036\" points=\"316.97,90.51,315.7809,97.6224,321.8889,101.4555,323.078,94.3431,316.97,90.51\" style=\"stroke: #A80036; stroke-width: 1.0;\"/><text fill=\"#000000\" font-family=\"sans-serif\" font-size=\"13\" lengthAdjust=\"spacingAndGlyphs\" textLength=\"7\" x=\"338.8828\" y=\"142.8366\">*</text></a><!--MD5=[22f5b4bae7e060dce8a1c8021efdb95b]\n",
       "reverse link E8 to E9--><a href=\"psysml:599cc28e-37a4-4871-97e7-8713776fcf23\" target=\"_top\" title=\"psysml:599cc28e-37a4-4871-97e7-8713776fcf23\" xlink:actuate=\"onRequest\" xlink:href=\"psysml:599cc28e-37a4-4871-97e7-8713776fcf23\" xlink:show=\"new\" xlink:title=\"psysml:599cc28e-37a4-4871-97e7-8713776fcf23\" xlink:type=\"simple\"><path d=\"M385.75,212.96 C390.08,228.51 395.05,246.33 398.86,259.98 \" fill=\"none\" id=\"E8&lt;-E9\" style=\"stroke: #A80036; stroke-width: 1.0;\"/><polygon fill=\"#A80036\" points=\"382.15,200.06,379.9066,206.9133,385.3699,211.6199,387.6133,204.7667,382.15,200.06\" style=\"stroke: #A80036; stroke-width: 1.0;\"/></a><!--MD5=[ddf0367bdc0fc41a4ae1489c26b91848]\n",
       "@startuml\r\n",
       " \r\n",
       "package \"ViewTest\" as E1  [[psysml:68a4efc3-4169-49c4-b08f-98091c4bc0be ]]  {\r\n",
       "package \"P\" as E2  [[psysml:d8eb8e98-9fc5-4554-bb79-0a7fb3af234b ]]  {\r\n",
       "}\r\n",
       "comp def \"VP\" as E3  <<(T,blue)viewpoint def>> [[psysml:0e16ef0b-675e-475c-a6ab-030697702310 ]] {\r\n",
       "}\r\n",
       "comp def \"R\" as E4  <<(T,blue)rendering def>> [[psysml:80b9aeea-925b-4b3a-8c84-ce381a5e60ed ]] {\r\n",
       "}\r\n",
       "comp def \"V\" as E5  <<(T,blue)view def>> [[psysml:fa67c82a-cf4c-4211-8405-b886e7fced61 ]] {\r\n",
       "}\r\n",
       "comp usage \"vp: VP\" as E6  <<(T,blue)viewpoint>> [[psysml:edb93869-3e30-4330-ae7d-f0dbadb8ae6e ]] {\r\n",
       "}\r\n",
       "comp usage \"r: R\" as E7  <<(T,blue)rendering>> [[psysml:d3ad1959-ed24-48c6-b8cb-3101ea5444ce ]] {\r\n",
       "}\r\n",
       "comp usage \"v: V\" as E8  <<(T,blue)view>> [[psysml:c79df832-858d-4f87-b041-227cc7f695ce ]] {\r\n",
       "}\r\n",
       "comp usage \"r1\" as E9  <<(T,blue)rendering>> [[psysml:599cc28e-37a4-4871-97e7-8713776fcf23 ]] {\r\n",
       "}\r\n",
       "E5 *- - E6 [[psysml:edb93869-3e30-4330-ae7d-f0dbadb8ae6e ]] \r\n",
       "E6 - -:|> E3 [[psysml:678c28b1-b825-4869-b6db-341a5ef18df5 ]] \r\n",
       "E7 - -:|> E4 [[psysml:e01b0a28-1744-4d35-a29d-a960e4229aec ]] \r\n",
       "E5 *- - \"0..1\"E7 [[psysml:d3ad1959-ed24-48c6-b8cb-3101ea5444ce ]] \r\n",
       "E8 - -:|> E5 [[psysml:3896f3dd-ac25-48cd-93fb-dac3b3d02068 ]] \r\n",
       "E5 *- - \"*\"E8 [[psysml:c79df832-858d-4f87-b041-227cc7f695ce ]] \r\n",
       "E8 *- - E9 [[psysml:599cc28e-37a4-4871-97e7-8713776fcf23 ]] \r\n",
       "}\r\n",
       "@enduml\r\n",
       "\n",
       "PlantUML version 1.2020.13(Sat Jun 13 12:26:38 UTC 2020)\n",
       "(EPL source distribution)\n",
       "Java Runtime: OpenJDK Runtime Environment\n",
       "JVM: OpenJDK 64-Bit Server VM\n",
       "Default Encoding: UTF-8\n",
       "Language: en\n",
       "Country: null\n",
       "--></g></svg>"
      ]
     },
     "execution_count": 2,
     "metadata": {},
     "output_type": "execute_result"
    }
   ],
   "source": [
    "%viz --style=\"COMPTREE\" --view=\"Default\" \"ViewTest\""
   ]
  },
  {
   "cell_type": "code",
   "execution_count": 3,
   "id": "artificial-judge",
   "metadata": {
    "execution": {
     "iopub.execute_input": "2021-03-25T15:09:59.650137Z",
     "iopub.status.busy": "2021-03-25T15:09:59.649737Z",
     "iopub.status.idle": "2021-03-25T15:09:59.793225Z",
     "shell.execute_reply": "2021-03-25T15:09:59.793663Z"
    }
   },
   "outputs": [
    {
     "data": {
      "image/svg+xml": [
       "<?xml version=\"1.0\" encoding=\"UTF-8\" standalone=\"no\"?><svg xmlns=\"http://www.w3.org/2000/svg\" xmlns:xlink=\"http://www.w3.org/1999/xlink\" contentScriptType=\"application/ecmascript\" contentStyleType=\"text/css\" height=\"334px\" preserveAspectRatio=\"none\" style=\"width:495px;height:334px;\" version=\"1.1\" viewBox=\"0 0 495 334\" width=\"495px\" zoomAndPan=\"magnify\"><defs><filter height=\"300%\" id=\"f1djxxmrj360p0\" width=\"300%\" x=\"-1\" y=\"-1\"><feGaussianBlur result=\"blurOut\" stdDeviation=\"2.0\"/><feColorMatrix in=\"blurOut\" result=\"blurOut2\" type=\"matrix\" values=\"0 0 0 0 0 0 0 0 0 0 0 0 0 0 0 0 0 0 .4 0\"/><feOffset dx=\"4.0\" dy=\"4.0\" in=\"blurOut2\" result=\"blurOut3\"/><feBlend in=\"SourceGraphic\" in2=\"blurOut3\" mode=\"normal\"/></filter></defs><g><!--MD5=[fbc87193dbaf4d95561dea2c320d4a47]\n",
       "cluster E1--><a href=\"psysml:68a4efc3-4169-49c4-b08f-98091c4bc0be\" target=\"_top\" title=\"psysml:68a4efc3-4169-49c4-b08f-98091c4bc0be\" xlink:actuate=\"onRequest\" xlink:href=\"psysml:68a4efc3-4169-49c4-b08f-98091c4bc0be\" xlink:show=\"new\" xlink:title=\"psysml:68a4efc3-4169-49c4-b08f-98091c4bc0be\" xlink:type=\"simple\"><polygon fill=\"#FFFFFF\" filter=\"url(#f1djxxmrj360p0)\" points=\"16,6,96,6,103,28.2969,473,28.2969,473,322,16,322,16,6\" style=\"stroke: #000000; stroke-width: 1.5;\"/><line style=\"stroke: #000000; stroke-width: 1.5;\" x1=\"16\" x2=\"103\" y1=\"28.2969\" y2=\"28.2969\"/><text fill=\"#000000\" font-family=\"sans-serif\" font-size=\"14\" font-weight=\"bold\" lengthAdjust=\"spacingAndGlyphs\" textLength=\"74\" x=\"20\" y=\"20.9951\">ViewTest</text></a><!--MD5=[09b614a08d8cba4a07c9adeb5e0fee81]\n",
       "class E3--><a href=\"psysml:0e16ef0b-675e-475c-a6ab-030697702310\" target=\"_top\" title=\"psysml:0e16ef0b-675e-475c-a6ab-030697702310\" xlink:actuate=\"onRequest\" xlink:href=\"psysml:0e16ef0b-675e-475c-a6ab-030697702310\" xlink:show=\"new\" xlink:title=\"psysml:0e16ef0b-675e-475c-a6ab-030697702310\" xlink:type=\"simple\"><rect fill=\"#FEFECE\" filter=\"url(#f1djxxmrj360p0)\" height=\"45.9375\" id=\"E3\" style=\"stroke: #A80036; stroke-width: 1.5;\" width=\"124\" x=\"32\" y=\"260\"/><ellipse cx=\"47\" cy=\"278.9688\" fill=\"#0000FF\" rx=\"11\" ry=\"11\" style=\"stroke: #A80036; stroke-width: 1.0;\"/><path d=\"M47.8438,285.7188 L45.3906,285.7188 L45.3906,275.4688 L42.25,275.4688 L42.25,273.3281 L50.9844,273.3281 L50.9844,275.4688 L47.8438,275.4688 L47.8438,285.7188 Z \"/><text fill=\"#000000\" font-family=\"sans-serif\" font-size=\"12\" font-style=\"italic\" lengthAdjust=\"spacingAndGlyphs\" textLength=\"96\" x=\"59\" y=\"276.1387\">«viewpoint def»</text><text fill=\"#000000\" font-family=\"sans-serif\" font-size=\"12\" lengthAdjust=\"spacingAndGlyphs\" textLength=\"16\" x=\"99\" y=\"290.1074\">VP</text><line style=\"stroke: #A80036; stroke-width: 1.5;\" x1=\"33\" x2=\"155\" y1=\"297.9375\" y2=\"297.9375\"/></a><!--MD5=[ebbe1d658d1005bcc118a6aa81145e00]\n",
       "class E4--><a href=\"psysml:80b9aeea-925b-4b3a-8c84-ce381a5e60ed\" target=\"_top\" title=\"psysml:80b9aeea-925b-4b3a-8c84-ce381a5e60ed\" xlink:actuate=\"onRequest\" xlink:href=\"psysml:80b9aeea-925b-4b3a-8c84-ce381a5e60ed\" xlink:show=\"new\" xlink:title=\"psysml:80b9aeea-925b-4b3a-8c84-ce381a5e60ed\" xlink:type=\"simple\"><rect fill=\"#FEFECE\" filter=\"url(#f1djxxmrj360p0)\" height=\"45.9375\" id=\"E4\" style=\"stroke: #A80036; stroke-width: 1.5;\" width=\"127\" x=\"191.5\" y=\"260\"/><ellipse cx=\"206.5\" cy=\"278.9688\" fill=\"#0000FF\" rx=\"11\" ry=\"11\" style=\"stroke: #A80036; stroke-width: 1.0;\"/><path d=\"M207.3438,285.7188 L204.8906,285.7188 L204.8906,275.4688 L201.75,275.4688 L201.75,273.3281 L210.4844,273.3281 L210.4844,275.4688 L207.3438,275.4688 L207.3438,285.7188 Z \"/><text fill=\"#000000\" font-family=\"sans-serif\" font-size=\"12\" font-style=\"italic\" lengthAdjust=\"spacingAndGlyphs\" textLength=\"99\" x=\"218.5\" y=\"276.1387\">«rendering def»</text><text fill=\"#000000\" font-family=\"sans-serif\" font-size=\"12\" lengthAdjust=\"spacingAndGlyphs\" textLength=\"8\" x=\"264\" y=\"290.1074\">R</text><line style=\"stroke: #A80036; stroke-width: 1.5;\" x1=\"192.5\" x2=\"317.5\" y1=\"297.9375\" y2=\"297.9375\"/></a><!--MD5=[270fce915f116d4de14055a7c1d9a0f3]\n",
       "class E5--><a href=\"psysml:fa67c82a-cf4c-4211-8405-b886e7fced61\" target=\"_top\" title=\"psysml:fa67c82a-cf4c-4211-8405-b886e7fced61\" xlink:actuate=\"onRequest\" xlink:href=\"psysml:fa67c82a-cf4c-4211-8405-b886e7fced61\" xlink:show=\"new\" xlink:title=\"psysml:fa67c82a-cf4c-4211-8405-b886e7fced61\" xlink:type=\"simple\"><rect fill=\"#FEFECE\" filter=\"url(#f1djxxmrj360p0)\" height=\"45.9375\" id=\"E5\" style=\"stroke: #A80036; stroke-width: 1.5;\" width=\"92\" x=\"269\" y=\"44.5\"/><ellipse cx=\"284\" cy=\"63.4688\" fill=\"#0000FF\" rx=\"11\" ry=\"11\" style=\"stroke: #A80036; stroke-width: 1.0;\"/><path d=\"M284.8438,70.2188 L282.3906,70.2188 L282.3906,59.9688 L279.25,59.9688 L279.25,57.8281 L287.9844,57.8281 L287.9844,59.9688 L284.8438,59.9688 L284.8438,70.2188 Z \"/><text fill=\"#000000\" font-family=\"sans-serif\" font-size=\"12\" font-style=\"italic\" lengthAdjust=\"spacingAndGlyphs\" textLength=\"64\" x=\"296\" y=\"60.6387\">«view def»</text><text fill=\"#000000\" font-family=\"sans-serif\" font-size=\"12\" lengthAdjust=\"spacingAndGlyphs\" textLength=\"8\" x=\"324\" y=\"74.6074\">V</text><line style=\"stroke: #A80036; stroke-width: 1.5;\" x1=\"270\" x2=\"360\" y1=\"82.4375\" y2=\"82.4375\"/></a><!--MD5=[60a26617385b1d2d0262a64233df1f8d]\n",
       "class E6--><a href=\"psysml:edb93869-3e30-4330-ae7d-f0dbadb8ae6e\" target=\"_top\" title=\"psysml:edb93869-3e30-4330-ae7d-f0dbadb8ae6e\" xlink:actuate=\"onRequest\" xlink:href=\"psysml:edb93869-3e30-4330-ae7d-f0dbadb8ae6e\" xlink:show=\"new\" xlink:title=\"psysml:edb93869-3e30-4330-ae7d-f0dbadb8ae6e\" xlink:type=\"simple\"><rect fill=\"#FEFECE\" filter=\"url(#f1djxxmrj360p0)\" height=\"45.9375\" id=\"E6\" rx=\"10\" ry=\"10\" style=\"stroke: #A80036; stroke-width: 1.5;\" width=\"100\" x=\"56\" y=\"154\"/><ellipse cx=\"71\" cy=\"172.9688\" fill=\"#0000FF\" rx=\"11\" ry=\"11\" style=\"stroke: #A80036; stroke-width: 1.0;\"/><path d=\"M71.8438,179.7188 L69.3906,179.7188 L69.3906,169.4688 L66.25,169.4688 L66.25,167.3281 L74.9844,167.3281 L74.9844,169.4688 L71.8438,169.4688 L71.8438,179.7188 Z \"/><text fill=\"#000000\" font-family=\"sans-serif\" font-size=\"12\" font-style=\"italic\" lengthAdjust=\"spacingAndGlyphs\" textLength=\"72\" x=\"83\" y=\"170.1387\">«viewpoint»</text><text fill=\"#000000\" font-family=\"sans-serif\" font-size=\"12\" lengthAdjust=\"spacingAndGlyphs\" textLength=\"38\" x=\"100\" y=\"184.1074\">vp: VP</text><line style=\"stroke: #A80036; stroke-width: 1.5;\" x1=\"57\" x2=\"155\" y1=\"191.9375\" y2=\"191.9375\"/></a><!--MD5=[2156ba9850f5573cc1fc38a6a4b2f02b]\n",
       "class E7--><a href=\"psysml:d3ad1959-ed24-48c6-b8cb-3101ea5444ce\" target=\"_top\" title=\"psysml:d3ad1959-ed24-48c6-b8cb-3101ea5444ce\" xlink:actuate=\"onRequest\" xlink:href=\"psysml:d3ad1959-ed24-48c6-b8cb-3101ea5444ce\" xlink:show=\"new\" xlink:title=\"psysml:d3ad1959-ed24-48c6-b8cb-3101ea5444ce\" xlink:type=\"simple\"><rect fill=\"#FEFECE\" filter=\"url(#f1djxxmrj360p0)\" height=\"45.9375\" id=\"E7\" rx=\"10\" ry=\"10\" style=\"stroke: #A80036; stroke-width: 1.5;\" width=\"103\" x=\"203.5\" y=\"154\"/><ellipse cx=\"218.5\" cy=\"172.9688\" fill=\"#0000FF\" rx=\"11\" ry=\"11\" style=\"stroke: #A80036; stroke-width: 1.0;\"/><path d=\"M219.3438,179.7188 L216.8906,179.7188 L216.8906,169.4688 L213.75,169.4688 L213.75,167.3281 L222.4844,167.3281 L222.4844,169.4688 L219.3438,169.4688 L219.3438,179.7188 Z \"/><text fill=\"#000000\" font-family=\"sans-serif\" font-size=\"12\" font-style=\"italic\" lengthAdjust=\"spacingAndGlyphs\" textLength=\"75\" x=\"230.5\" y=\"170.1387\">«rendering»</text><text fill=\"#000000\" font-family=\"sans-serif\" font-size=\"12\" lengthAdjust=\"spacingAndGlyphs\" textLength=\"21\" x=\"257.5\" y=\"184.1074\">r: R</text><line style=\"stroke: #A80036; stroke-width: 1.5;\" x1=\"204.5\" x2=\"305.5\" y1=\"191.9375\" y2=\"191.9375\"/></a><!--MD5=[b9389687b975829384b498ac4b7476b2]\n",
       "class E8--><a href=\"psysml:c79df832-858d-4f87-b041-227cc7f695ce\" target=\"_top\" title=\"psysml:c79df832-858d-4f87-b041-227cc7f695ce\" xlink:actuate=\"onRequest\" xlink:href=\"psysml:c79df832-858d-4f87-b041-227cc7f695ce\" xlink:show=\"new\" xlink:title=\"psysml:c79df832-858d-4f87-b041-227cc7f695ce\" xlink:type=\"simple\"><rect fill=\"#FEFECE\" filter=\"url(#f1djxxmrj360p0)\" height=\"45.9375\" id=\"E8\" rx=\"10\" ry=\"10\" style=\"stroke: #A80036; stroke-width: 1.5;\" width=\"68\" x=\"342\" y=\"154\"/><ellipse cx=\"357\" cy=\"172.9688\" fill=\"#0000FF\" rx=\"11\" ry=\"11\" style=\"stroke: #A80036; stroke-width: 1.0;\"/><path d=\"M357.8438,179.7188 L355.3906,179.7188 L355.3906,169.4688 L352.25,169.4688 L352.25,167.3281 L360.9844,167.3281 L360.9844,169.4688 L357.8438,169.4688 L357.8438,179.7188 Z \"/><text fill=\"#000000\" font-family=\"sans-serif\" font-size=\"12\" font-style=\"italic\" lengthAdjust=\"spacingAndGlyphs\" textLength=\"40\" x=\"369\" y=\"170.1387\">«view»</text><text fill=\"#000000\" font-family=\"sans-serif\" font-size=\"12\" lengthAdjust=\"spacingAndGlyphs\" textLength=\"22\" x=\"378\" y=\"184.1074\">v: V</text><line style=\"stroke: #A80036; stroke-width: 1.5;\" x1=\"343\" x2=\"409\" y1=\"191.9375\" y2=\"191.9375\"/></a><!--MD5=[fd4143e9d270a159db93a4ea2a975926]\n",
       "class E9--><a href=\"psysml:599cc28e-37a4-4871-97e7-8713776fcf23\" target=\"_top\" title=\"psysml:599cc28e-37a4-4871-97e7-8713776fcf23\" xlink:actuate=\"onRequest\" xlink:href=\"psysml:599cc28e-37a4-4871-97e7-8713776fcf23\" xlink:show=\"new\" xlink:title=\"psysml:599cc28e-37a4-4871-97e7-8713776fcf23\" xlink:type=\"simple\"><rect fill=\"#FEFECE\" filter=\"url(#f1djxxmrj360p0)\" height=\"45.9375\" id=\"E9\" rx=\"10\" ry=\"10\" style=\"stroke: #A80036; stroke-width: 1.5;\" width=\"103\" x=\"353.5\" y=\"260\"/><ellipse cx=\"368.5\" cy=\"278.9688\" fill=\"#0000FF\" rx=\"11\" ry=\"11\" style=\"stroke: #A80036; stroke-width: 1.0;\"/><path d=\"M369.3438,285.7188 L366.8906,285.7188 L366.8906,275.4688 L363.75,275.4688 L363.75,273.3281 L372.4844,273.3281 L372.4844,275.4688 L369.3438,275.4688 L369.3438,285.7188 Z \"/><text fill=\"#000000\" font-family=\"sans-serif\" font-size=\"12\" font-style=\"italic\" lengthAdjust=\"spacingAndGlyphs\" textLength=\"75\" x=\"380.5\" y=\"276.1387\">«rendering»</text><text fill=\"#000000\" font-family=\"sans-serif\" font-size=\"12\" lengthAdjust=\"spacingAndGlyphs\" textLength=\"13\" x=\"411.5\" y=\"290.1074\">r1</text><line style=\"stroke: #A80036; stroke-width: 1.5;\" x1=\"354.5\" x2=\"455.5\" y1=\"297.9375\" y2=\"297.9375\"/></a><a href=\"psysml:d8eb8e98-9fc5-4554-bb79-0a7fb3af234b\" target=\"_top\" title=\"psysml:d8eb8e98-9fc5-4554-bb79-0a7fb3af234b\" xlink:actuate=\"onRequest\" xlink:href=\"psysml:d8eb8e98-9fc5-4554-bb79-0a7fb3af234b\" xlink:show=\"new\" xlink:title=\"psysml:d8eb8e98-9fc5-4554-bb79-0a7fb3af234b\" xlink:type=\"simple\"><polygon fill=\"#FFFFFF\" filter=\"url(#f1djxxmrj360p0)\" points=\"148,41,164,41,171,63.2969,178,63.2969,178,93.5938,148,93.5938,148,41\" style=\"stroke: #000000; stroke-width: 1.5;\"/><line style=\"stroke: #000000; stroke-width: 1.5;\" x1=\"148\" x2=\"171\" y1=\"63.2969\" y2=\"63.2969\"/><text fill=\"#000000\" font-family=\"sans-serif\" font-size=\"14\" font-weight=\"bold\" lengthAdjust=\"spacingAndGlyphs\" textLength=\"10\" x=\"152\" y=\"55.9951\">P</text></a><!--MD5=[85d356282659285ab4b2cfe2f634dd2b]\n",
       "reverse link E5 to E6--><a href=\"psysml:edb93869-3e30-4330-ae7d-f0dbadb8ae6e\" target=\"_top\" title=\"psysml:edb93869-3e30-4330-ae7d-f0dbadb8ae6e\" xlink:actuate=\"onRequest\" xlink:href=\"psysml:edb93869-3e30-4330-ae7d-f0dbadb8ae6e\" xlink:show=\"new\" xlink:title=\"psysml:edb93869-3e30-4330-ae7d-f0dbadb8ae6e\" xlink:type=\"simple\"><path d=\"M260.36,96.61 C225.64,114.46 181.33,137.25 149.1,153.83 \" fill=\"none\" id=\"E5&lt;-E6\" style=\"stroke: #A80036; stroke-width: 1.0;\"/><polygon fill=\"#A80036\" points=\"272.2,90.51,265.0353,89.6929,261.5255,95.9922,268.6901,96.8093,272.2,90.51\" style=\"stroke: #A80036; stroke-width: 1.0;\"/></a><!--MD5=[a717450b82c80b9240a525fa862496af]\n",
       "link E6 to E3--><a href=\"psysml:678c28b1-b825-4869-b6db-341a5ef18df5\" target=\"_top\" title=\"psysml:678c28b1-b825-4869-b6db-341a5ef18df5\" xlink:actuate=\"onRequest\" xlink:href=\"psysml:678c28b1-b825-4869-b6db-341a5ef18df5\" xlink:show=\"new\" xlink:title=\"psysml:678c28b1-b825-4869-b6db-341a5ef18df5\" xlink:type=\"simple\"><path d=\"M103.46,200.06 C102.12,211.64 100.44,226.23 98.86,239.87 \" fill=\"none\" id=\"E6-&gt;E3\" style=\"stroke: #A80036; stroke-width: 1.0;\"/><polygon fill=\"#FFFFFF\" points=\"96.54,259.98,91.757,240.3046,105.6653,241.9044,96.54,259.98\" style=\"stroke: #A80036; stroke-width: 1.0;\"/><ellipse cx=\"94.3953\" cy=\"234.8704\" fill=\"#A80036\" rx=\"2\" ry=\"2\" style=\"stroke: #A80036; stroke-width: 1.0;\"/><ellipse cx=\"104.3298\" cy=\"236.0132\" fill=\"#A80036\" rx=\"2\" ry=\"2\" style=\"stroke: #A80036; stroke-width: 1.0;\"/></a><!--MD5=[6bdd27f9905911a7e892a3dc65cf6b7c]\n",
       "link E7 to E4--><a href=\"psysml:e01b0a28-1744-4d35-a29d-a960e4229aec\" target=\"_top\" title=\"psysml:e01b0a28-1744-4d35-a29d-a960e4229aec\" xlink:actuate=\"onRequest\" xlink:href=\"psysml:e01b0a28-1744-4d35-a29d-a960e4229aec\" xlink:show=\"new\" xlink:title=\"psysml:e01b0a28-1744-4d35-a29d-a960e4229aec\" xlink:type=\"simple\"><path d=\"M255,200.06 C255,211.64 255,226.23 255,239.87 \" fill=\"none\" id=\"E7-&gt;E4\" style=\"stroke: #A80036; stroke-width: 1.0;\"/><polygon fill=\"#FFFFFF\" points=\"255,259.98,248,240.98,262,240.98,255,259.98\" style=\"stroke: #A80036; stroke-width: 1.0;\"/><ellipse cx=\"250\" cy=\"235.28\" fill=\"#A80036\" rx=\"2\" ry=\"2\" style=\"stroke: #A80036; stroke-width: 1.0;\"/><ellipse cx=\"260\" cy=\"235.28\" fill=\"#A80036\" rx=\"2\" ry=\"2\" style=\"stroke: #A80036; stroke-width: 1.0;\"/></a><!--MD5=[452b418e7f8a40397a49b8c0a78acc5b]\n",
       "reverse link E5 to E7--><a href=\"psysml:d3ad1959-ed24-48c6-b8cb-3101ea5444ce\" target=\"_top\" title=\"psysml:d3ad1959-ed24-48c6-b8cb-3101ea5444ce\" xlink:actuate=\"onRequest\" xlink:href=\"psysml:d3ad1959-ed24-48c6-b8cb-3101ea5444ce\" xlink:show=\"new\" xlink:title=\"psysml:d3ad1959-ed24-48c6-b8cb-3101ea5444ce\" xlink:type=\"simple\"><path d=\"M296.26,102.08 C286.88,118.88 275.8,138.74 267.48,153.65 \" fill=\"none\" id=\"E5&lt;-E7\" style=\"stroke: #A80036; stroke-width: 1.0;\"/><polygon fill=\"#A80036\" points=\"302.71,90.51,296.2953,93.8042,296.8689,100.9924,303.2836,97.6983,302.71,90.51\" style=\"stroke: #A80036; stroke-width: 1.0;\"/><text fill=\"#000000\" font-family=\"sans-serif\" font-size=\"13\" lengthAdjust=\"spacingAndGlyphs\" textLength=\"24\" x=\"243.603\" y=\"142.8366\">0..1</text></a><!--MD5=[1ccb2481ffa92f8d51a74ee30c51832a]\n",
       "link E8 to E5--><a href=\"psysml:3896f3dd-ac25-48cd-93fb-dac3b3d02068\" target=\"_top\" title=\"psysml:3896f3dd-ac25-48cd-93fb-dac3b3d02068\" xlink:actuate=\"onRequest\" xlink:href=\"psysml:3896f3dd-ac25-48cd-93fb-dac3b3d02068\" xlink:show=\"new\" xlink:title=\"psysml:3896f3dd-ac25-48cd-93fb-dac3b3d02068\" xlink:type=\"simple\"><path d=\"M374.51,153.65 C369.12,140.19 359.79,122.69 349.89,107.05 \" fill=\"none\" id=\"E8-&gt;E5\" style=\"stroke: #A80036; stroke-width: 1.0;\"/><polygon fill=\"#FFFFFF\" points=\"338.63,90.51,355.111,102.2734,343.5398,110.1542,338.63,90.51\" style=\"stroke: #A80036; stroke-width: 1.0;\"/><ellipse cx=\"356.6666\" cy=\"108.1103\" fill=\"#A80036\" rx=\"2\" ry=\"2\" style=\"stroke: #A80036; stroke-width: 1.0;\"/><ellipse cx=\"348.4014\" cy=\"113.7395\" fill=\"#A80036\" rx=\"2\" ry=\"2\" style=\"stroke: #A80036; stroke-width: 1.0;\"/></a><!--MD5=[827760032d119d06bbc92f75530fd7ae]\n",
       "reverse link E5 to E8--><a href=\"psysml:c79df832-858d-4f87-b041-227cc7f695ce\" target=\"_top\" title=\"psysml:c79df832-858d-4f87-b041-227cc7f695ce\" xlink:actuate=\"onRequest\" xlink:href=\"psysml:c79df832-858d-4f87-b041-227cc7f695ce\" xlink:show=\"new\" xlink:title=\"psysml:c79df832-858d-4f87-b041-227cc7f695ce\" xlink:type=\"simple\"><path d=\"M322.38,102.57 C330.44,119.26 342.04,138.89 352.74,153.65 \" fill=\"none\" id=\"E5&lt;-E8\" style=\"stroke: #A80036; stroke-width: 1.0;\"/><polygon fill=\"#A80036\" points=\"316.97,90.51,315.7809,97.6224,321.8889,101.4555,323.078,94.3431,316.97,90.51\" style=\"stroke: #A80036; stroke-width: 1.0;\"/><text fill=\"#000000\" font-family=\"sans-serif\" font-size=\"13\" lengthAdjust=\"spacingAndGlyphs\" textLength=\"7\" x=\"338.8828\" y=\"142.8366\">*</text></a><!--MD5=[22f5b4bae7e060dce8a1c8021efdb95b]\n",
       "reverse link E8 to E9--><a href=\"psysml:599cc28e-37a4-4871-97e7-8713776fcf23\" target=\"_top\" title=\"psysml:599cc28e-37a4-4871-97e7-8713776fcf23\" xlink:actuate=\"onRequest\" xlink:href=\"psysml:599cc28e-37a4-4871-97e7-8713776fcf23\" xlink:show=\"new\" xlink:title=\"psysml:599cc28e-37a4-4871-97e7-8713776fcf23\" xlink:type=\"simple\"><path d=\"M385.75,212.96 C390.08,228.51 395.05,246.33 398.86,259.98 \" fill=\"none\" id=\"E8&lt;-E9\" style=\"stroke: #A80036; stroke-width: 1.0;\"/><polygon fill=\"#A80036\" points=\"382.15,200.06,379.9066,206.9133,385.3699,211.6199,387.6133,204.7667,382.15,200.06\" style=\"stroke: #A80036; stroke-width: 1.0;\"/></a><!--MD5=[ddf0367bdc0fc41a4ae1489c26b91848]\n",
       "@startuml\r\n",
       " \r\n",
       "package \"ViewTest\" as E1  [[psysml:68a4efc3-4169-49c4-b08f-98091c4bc0be ]]  {\r\n",
       "package \"P\" as E2  [[psysml:d8eb8e98-9fc5-4554-bb79-0a7fb3af234b ]]  {\r\n",
       "}\r\n",
       "comp def \"VP\" as E3  <<(T,blue)viewpoint def>> [[psysml:0e16ef0b-675e-475c-a6ab-030697702310 ]] {\r\n",
       "}\r\n",
       "comp def \"R\" as E4  <<(T,blue)rendering def>> [[psysml:80b9aeea-925b-4b3a-8c84-ce381a5e60ed ]] {\r\n",
       "}\r\n",
       "comp def \"V\" as E5  <<(T,blue)view def>> [[psysml:fa67c82a-cf4c-4211-8405-b886e7fced61 ]] {\r\n",
       "}\r\n",
       "comp usage \"vp: VP\" as E6  <<(T,blue)viewpoint>> [[psysml:edb93869-3e30-4330-ae7d-f0dbadb8ae6e ]] {\r\n",
       "}\r\n",
       "comp usage \"r: R\" as E7  <<(T,blue)rendering>> [[psysml:d3ad1959-ed24-48c6-b8cb-3101ea5444ce ]] {\r\n",
       "}\r\n",
       "comp usage \"v: V\" as E8  <<(T,blue)view>> [[psysml:c79df832-858d-4f87-b041-227cc7f695ce ]] {\r\n",
       "}\r\n",
       "comp usage \"r1\" as E9  <<(T,blue)rendering>> [[psysml:599cc28e-37a4-4871-97e7-8713776fcf23 ]] {\r\n",
       "}\r\n",
       "E5 *- - E6 [[psysml:edb93869-3e30-4330-ae7d-f0dbadb8ae6e ]] \r\n",
       "E6 - -:|> E3 [[psysml:678c28b1-b825-4869-b6db-341a5ef18df5 ]] \r\n",
       "E7 - -:|> E4 [[psysml:e01b0a28-1744-4d35-a29d-a960e4229aec ]] \r\n",
       "E5 *- - \"0..1\"E7 [[psysml:d3ad1959-ed24-48c6-b8cb-3101ea5444ce ]] \r\n",
       "E8 - -:|> E5 [[psysml:3896f3dd-ac25-48cd-93fb-dac3b3d02068 ]] \r\n",
       "E5 *- - \"*\"E8 [[psysml:c79df832-858d-4f87-b041-227cc7f695ce ]] \r\n",
       "E8 *- - E9 [[psysml:599cc28e-37a4-4871-97e7-8713776fcf23 ]] \r\n",
       "}\r\n",
       "@enduml\r\n",
       "\n",
       "PlantUML version 1.2020.13(Sat Jun 13 12:26:38 UTC 2020)\n",
       "(EPL source distribution)\n",
       "Java Runtime: OpenJDK Runtime Environment\n",
       "JVM: OpenJDK 64-Bit Server VM\n",
       "Default Encoding: UTF-8\n",
       "Language: en\n",
       "Country: null\n",
       "--></g></svg>"
      ]
     },
     "execution_count": 3,
     "metadata": {},
     "output_type": "execute_result"
    }
   ],
   "source": [
    "%viz --style=\"COMPTREE\" --view=\"Tree\" \"ViewTest\""
   ]
  },
  {
   "cell_type": "code",
   "execution_count": 4,
   "id": "utility-amsterdam",
   "metadata": {
    "execution": {
     "iopub.execute_input": "2021-03-25T15:09:59.844826Z",
     "iopub.status.busy": "2021-03-25T15:09:59.844080Z",
     "iopub.status.idle": "2021-03-25T15:10:00.768376Z",
     "shell.execute_reply": "2021-03-25T15:10:00.766226Z"
    }
   },
   "outputs": [
    {
     "data": {
      "image/svg+xml": [
       "<?xml version=\"1.0\" encoding=\"UTF-8\" standalone=\"no\"?><svg xmlns=\"http://www.w3.org/2000/svg\" xmlns:xlink=\"http://www.w3.org/1999/xlink\" contentScriptType=\"application/ecmascript\" contentStyleType=\"text/css\" height=\"303px\" preserveAspectRatio=\"none\" style=\"width:603px;height:303px;background:#000000;\" version=\"1.1\" viewBox=\"0 0 603 303\" width=\"603px\" zoomAndPan=\"magnify\"><defs/><g><rect fill=\"#0F251A\" height=\"1\" style=\"stroke: #0F251A; stroke-width: 1.0;\" width=\"1\" x=\"0\" y=\"0\"/><rect fill=\"#FFFFFF\" height=\"205.5625\" style=\"stroke: #FFFFFF; stroke-width: 1.0;\" width=\"602\" x=\"0\" y=\"0\"/><text fill=\"#000000\" font-family=\"sans-serif\" font-size=\"12\" font-weight=\"bold\" lengthAdjust=\"spacingAndGlyphs\" textLength=\"159\" x=\"5\" y=\"16.1387\">Welcome to PlantUML!</text><text fill=\"#000000\" font-family=\"sans-serif\" font-size=\"12\" lengthAdjust=\"spacingAndGlyphs\" textLength=\"0\" x=\"9\" y=\"30.1074\"/><text fill=\"#000000\" font-family=\"sans-serif\" font-size=\"12\" lengthAdjust=\"spacingAndGlyphs\" textLength=\"293\" x=\"5\" y=\"44.0762\">If you use this software, you accept its license.</text><text fill=\"#000000\" font-family=\"sans-serif\" font-size=\"12\" lengthAdjust=\"spacingAndGlyphs\" textLength=\"107\" x=\"5\" y=\"58.0449\">(details by typing</text><text fill=\"#000000\" font-family=\"monospace\" font-size=\"12\" lengthAdjust=\"spacingAndGlyphs\" textLength=\"49\" x=\"116\" y=\"58.0449\">license</text><text fill=\"#000000\" font-family=\"sans-serif\" font-size=\"12\" lengthAdjust=\"spacingAndGlyphs\" textLength=\"56\" x=\"169\" y=\"58.0449\">keyword)</text><text fill=\"#000000\" font-family=\"sans-serif\" font-size=\"12\" lengthAdjust=\"spacingAndGlyphs\" textLength=\"0\" x=\"9\" y=\"72.0137\"/><text fill=\"#000000\" font-family=\"sans-serif\" font-size=\"12\" lengthAdjust=\"spacingAndGlyphs\" textLength=\"283\" x=\"5\" y=\"85.9824\">You can start with a simple UML Diagram like:</text><text fill=\"#000000\" font-family=\"sans-serif\" font-size=\"12\" lengthAdjust=\"spacingAndGlyphs\" textLength=\"0\" x=\"9\" y=\"99.9512\"/><text fill=\"#000000\" font-family=\"monospace\" font-size=\"12\" lengthAdjust=\"spacingAndGlyphs\" textLength=\"119\" x=\"5\" y=\"113.9199\">Bob-&gt;Alice: Hello</text><text fill=\"#000000\" font-family=\"sans-serif\" font-size=\"12\" lengthAdjust=\"spacingAndGlyphs\" textLength=\"0\" x=\"9\" y=\"127.8887\"/><text fill=\"#000000\" font-family=\"sans-serif\" font-size=\"12\" lengthAdjust=\"spacingAndGlyphs\" textLength=\"14\" x=\"5\" y=\"141.8574\">Or</text><text fill=\"#000000\" font-family=\"sans-serif\" font-size=\"12\" lengthAdjust=\"spacingAndGlyphs\" textLength=\"0\" x=\"9\" y=\"155.8262\"/><text fill=\"#000000\" font-family=\"monospace\" font-size=\"12\" lengthAdjust=\"spacingAndGlyphs\" textLength=\"91\" x=\"5\" y=\"169.7949\">class Example</text><text fill=\"#000000\" font-family=\"sans-serif\" font-size=\"12\" lengthAdjust=\"spacingAndGlyphs\" textLength=\"0\" x=\"9\" y=\"183.7637\"/><text fill=\"#000000\" font-family=\"sans-serif\" font-size=\"12\" lengthAdjust=\"spacingAndGlyphs\" textLength=\"349\" x=\"5\" y=\"197.7324\">You will find more information about PlantUML syntax on</text><text fill=\"#000000\" font-family=\"sans-serif\" font-size=\"12\" lengthAdjust=\"spacingAndGlyphs\" text-decoration=\"underline\" textLength=\"129\" x=\"358\" y=\"197.7324\">https://plantuml.com</text><image height=\"71\" width=\"80\" x=\"516\" xlink:href=\"data:image/png;base64,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\" y=\"6\"/><rect fill=\"#000000\" height=\"96.4844\" style=\"stroke: #000000; stroke-width: 1.0;\" width=\"602\" x=\"0\" y=\"205.5625\"/><rect fill=\"#33FF02\" height=\"21.2969\" style=\"stroke: #33FF02; stroke-width: 1.0;\" width=\"170\" x=\"5\" y=\"210.5625\"/><text fill=\"#000000\" font-family=\"sans-serif\" font-size=\"14\" font-weight=\"bold\" lengthAdjust=\"spacingAndGlyphs\" textLength=\"168\" x=\"6\" y=\"225.5625\">[From string (line 2) ]</text><text fill=\"#33FF02\" font-family=\"sans-serif\" font-size=\"14\" font-weight=\"bold\" lengthAdjust=\"spacingAndGlyphs\" textLength=\"0\" x=\"10\" y=\"245.8594\"/><text fill=\"#33FF02\" font-family=\"sans-serif\" font-size=\"14\" font-weight=\"bold\" lengthAdjust=\"spacingAndGlyphs\" textLength=\"79\" x=\"5\" y=\"262.1563\">@startuml</text><text fill=\"#33FF02\" font-family=\"sans-serif\" font-size=\"14\" font-weight=\"bold\" lengthAdjust=\"spacingAndGlyphs\" textLength=\"0\" x=\"10\" y=\"278.4531\"/><text fill=\"#FF0000\" font-family=\"sans-serif\" font-size=\"14\" font-weight=\"bold\" lengthAdjust=\"spacingAndGlyphs\" textLength=\"142\" x=\"10\" y=\"294.75\">Empty description</text><!--MD5=[f59edd8218d337f74d0c332fc6737304]\n",
       "@startuml\r\n",
       " \r\n",
       "@enduml\r\n",
       "\n",
       "PlantUML version 1.2020.13(Sat Jun 13 12:26:38 UTC 2020)\n",
       "(EPL source distribution)\n",
       "Java Runtime: OpenJDK Runtime Environment\n",
       "JVM: OpenJDK 64-Bit Server VM\n",
       "Default Encoding: UTF-8\n",
       "Language: en\n",
       "Country: null\n",
       "--></g></svg>"
      ]
     },
     "execution_count": 4,
     "metadata": {},
     "output_type": "execute_result"
    }
   ],
   "source": [
    "%viz --style=\"COMPTREE\" --view=\"State\" \"ViewTest\""
   ]
  },
  {
   "cell_type": "code",
   "execution_count": 5,
   "id": "opening-editing",
   "metadata": {
    "execution": {
     "iopub.execute_input": "2021-03-25T15:10:00.783518Z",
     "iopub.status.busy": "2021-03-25T15:10:00.782193Z",
     "iopub.status.idle": "2021-03-25T15:10:00.956291Z",
     "shell.execute_reply": "2021-03-25T15:10:00.955568Z"
    }
   },
   "outputs": [
    {
     "data": {
      "image/svg+xml": [
       "<?xml version=\"1.0\" encoding=\"UTF-8\" standalone=\"no\"?><svg xmlns=\"http://www.w3.org/2000/svg\" xmlns:xlink=\"http://www.w3.org/1999/xlink\" contentScriptType=\"application/ecmascript\" contentStyleType=\"text/css\" height=\"278px\" preserveAspectRatio=\"none\" style=\"width:864px;height:278px;\" version=\"1.1\" viewBox=\"0 0 864 278\" width=\"864px\" zoomAndPan=\"magnify\"><defs><filter height=\"300%\" id=\"f1g4hj3w5yqrx6\" width=\"300%\" x=\"-1\" y=\"-1\"><feGaussianBlur result=\"blurOut\" stdDeviation=\"2.0\"/><feColorMatrix in=\"blurOut\" result=\"blurOut2\" type=\"matrix\" values=\"0 0 0 0 0 0 0 0 0 0 0 0 0 0 0 0 0 0 .4 0\"/><feOffset dx=\"4.0\" dy=\"4.0\" in=\"blurOut2\" result=\"blurOut3\"/><feBlend in=\"SourceGraphic\" in2=\"blurOut3\" mode=\"normal\"/></filter></defs><g><!--MD5=[fbc87193dbaf4d95561dea2c320d4a47]\n",
       "cluster E1--><a href=\"psysml:68a4efc3-4169-49c4-b08f-98091c4bc0be\" target=\"_top\" title=\"psysml:68a4efc3-4169-49c4-b08f-98091c4bc0be\" xlink:actuate=\"onRequest\" xlink:href=\"psysml:68a4efc3-4169-49c4-b08f-98091c4bc0be\" xlink:show=\"new\" xlink:title=\"psysml:68a4efc3-4169-49c4-b08f-98091c4bc0be\" xlink:type=\"simple\"><polygon fill=\"#FFFFFF\" filter=\"url(#f1g4hj3w5yqrx6)\" points=\"16,6,96,6,103,28.2969,842,28.2969,842,266,16,266,16,6\" style=\"stroke: #000000; stroke-width: 1.5;\"/><line style=\"stroke: #000000; stroke-width: 1.5;\" x1=\"16\" x2=\"103\" y1=\"28.2969\" y2=\"28.2969\"/><text fill=\"#000000\" font-family=\"sans-serif\" font-size=\"14\" font-weight=\"bold\" lengthAdjust=\"spacingAndGlyphs\" textLength=\"74\" x=\"20\" y=\"20.9951\">ViewTest</text></a><!--MD5=[de5ec2e2e8f62f467e546659f5068c88]\n",
       "cluster E5--><a href=\"psysml:fa67c82a-cf4c-4211-8405-b886e7fced61\" target=\"_top\" title=\"psysml:fa67c82a-cf4c-4211-8405-b886e7fced61\" xlink:actuate=\"onRequest\" xlink:href=\"psysml:fa67c82a-cf4c-4211-8405-b886e7fced61\" xlink:show=\"new\" xlink:title=\"psysml:fa67c82a-cf4c-4211-8405-b886e7fced61\" xlink:type=\"simple\"><rect fill=\"#FFFFFF\" filter=\"url(#f1g4hj3w5yqrx6)\" height=\"193\" id=\"E5\" style=\"stroke: #A80036; stroke-width: 1.5;\" width=\"363\" x=\"455\" y=\"49\"/><rect fill=\"#FEFECE\" height=\"37.9375\" style=\"stroke: #A80036; stroke-width: 1.5;\" width=\"363\" x=\"455\" y=\"49\"/><text fill=\"#000000\" font-family=\"sans-serif\" font-size=\"12\" font-style=\"italic\" lengthAdjust=\"spacingAndGlyphs\" textLength=\"64\" x=\"604.5\" y=\"65.1387\">«view def»</text><text fill=\"#000000\" font-family=\"sans-serif\" font-size=\"12\" lengthAdjust=\"spacingAndGlyphs\" textLength=\"8\" x=\"632.5\" y=\"79.1074\">V</text></a><!--MD5=[14e3b0961a2654348d326746436168a1]\n",
       "cluster E6--><a href=\"psysml:edb93869-3e30-4330-ae7d-f0dbadb8ae6e\" target=\"_top\" title=\"psysml:edb93869-3e30-4330-ae7d-f0dbadb8ae6e\" xlink:actuate=\"onRequest\" xlink:href=\"psysml:edb93869-3e30-4330-ae7d-f0dbadb8ae6e\" xlink:show=\"new\" xlink:title=\"psysml:edb93869-3e30-4330-ae7d-f0dbadb8ae6e\" xlink:type=\"simple\"><rect fill=\"#FFFFFF\" filter=\"url(#f1g4hj3w5yqrx6)\" height=\"110\" id=\"E6\" rx=\"10\" ry=\"10\" style=\"stroke: #A80036; stroke-width: 1.5;\" width=\"140\" x=\"654\" y=\"108\"/><rect fill=\"#FEFECE\" height=\"37.9375\" rx=\"10\" ry=\"10\" style=\"stroke: #FEFECE; stroke-width: 1.5;\" width=\"140\" x=\"654\" y=\"108\"/><rect fill=\"#FEFECE\" height=\"10\" style=\"stroke: #FEFECE; stroke-width: 1.5;\" width=\"140\" x=\"654\" y=\"135.9375\"/><rect fill=\"none\" height=\"110\" id=\"E6\" rx=\"10\" ry=\"10\" style=\"stroke: #A80036; stroke-width: 1.5;\" width=\"140\" x=\"654\" y=\"108\"/><text fill=\"#000000\" font-family=\"sans-serif\" font-size=\"12\" font-style=\"italic\" lengthAdjust=\"spacingAndGlyphs\" textLength=\"72\" x=\"688\" y=\"124.1387\">«viewpoint»</text><text fill=\"#000000\" font-family=\"sans-serif\" font-size=\"12\" lengthAdjust=\"spacingAndGlyphs\" textLength=\"38\" x=\"705\" y=\"138.1074\">vp: VP</text><line style=\"stroke: #A80036; stroke-width: 1.0;\" x1=\"654\" x2=\"794\" y1=\"145.9375\" y2=\"145.9375\"/></a><!--MD5=[7f149f147074ac12df2cb0a7728a5fb0]\n",
       "cluster E9--><a href=\"psysml:c79df832-858d-4f87-b041-227cc7f695ce\" target=\"_top\" title=\"psysml:c79df832-858d-4f87-b041-227cc7f695ce\" xlink:actuate=\"onRequest\" xlink:href=\"psysml:c79df832-858d-4f87-b041-227cc7f695ce\" xlink:show=\"new\" xlink:title=\"psysml:c79df832-858d-4f87-b041-227cc7f695ce\" xlink:type=\"simple\"><rect fill=\"#FFFFFF\" filter=\"url(#f1g4hj3w5yqrx6)\" height=\"91\" id=\"E9\" rx=\"10\" ry=\"10\" style=\"stroke: #A80036; stroke-width: 1.5;\" width=\"82\" x=\"548\" y=\"125.5\"/><rect fill=\"#FEFECE\" height=\"23.9688\" rx=\"10\" ry=\"10\" style=\"stroke: #FEFECE; stroke-width: 1.5;\" width=\"82\" x=\"548\" y=\"125.5\"/><rect fill=\"#FEFECE\" height=\"10\" style=\"stroke: #FEFECE; stroke-width: 1.5;\" width=\"82\" x=\"548\" y=\"139.4688\"/><rect fill=\"none\" height=\"91\" id=\"E9\" rx=\"10\" ry=\"10\" style=\"stroke: #A80036; stroke-width: 1.5;\" width=\"82\" x=\"548\" y=\"125.5\"/><text fill=\"#000000\" font-family=\"sans-serif\" font-size=\"12\" lengthAdjust=\"spacingAndGlyphs\" textLength=\"22\" x=\"578\" y=\"141.6387\">v: V</text><line style=\"stroke: #A80036; stroke-width: 1.0;\" x1=\"548\" x2=\"630\" y1=\"149.4688\" y2=\"149.4688\"/></a><!--MD5=[09b614a08d8cba4a07c9adeb5e0fee81]\n",
       "class E3--><a href=\"psysml:0e16ef0b-675e-475c-a6ab-030697702310\" target=\"_top\" title=\"psysml:0e16ef0b-675e-475c-a6ab-030697702310\" xlink:actuate=\"onRequest\" xlink:href=\"psysml:0e16ef0b-675e-475c-a6ab-030697702310\" xlink:show=\"new\" xlink:title=\"psysml:0e16ef0b-675e-475c-a6ab-030697702310\" xlink:type=\"simple\"><rect fill=\"#FEFECE\" filter=\"url(#f1g4hj3w5yqrx6)\" height=\"53.9375\" id=\"E3\" style=\"stroke: #A80036; stroke-width: 1.5;\" width=\"172\" x=\"264\" y=\"153.5\"/><ellipse cx=\"279\" cy=\"172.4688\" fill=\"#ADD1B2\" rx=\"11\" ry=\"11\" style=\"stroke: #A80036; stroke-width: 1.0;\"/><path d=\"M281.9688,178.1094 Q281.3906,178.4063 280.75,178.5469 Q280.1094,178.7031 279.4063,178.7031 Q276.9063,178.7031 275.5781,177.0625 Q274.2656,175.4063 274.2656,172.2813 Q274.2656,169.1563 275.5781,167.5 Q276.9063,165.8438 279.4063,165.8438 Q280.1094,165.8438 280.75,166 Q281.4063,166.1563 281.9688,166.4531 L281.9688,169.1719 Q281.3438,168.5938 280.75,168.3281 Q280.1563,168.0469 279.5313,168.0469 Q278.1875,168.0469 277.5,169.125 Q276.8125,170.1875 276.8125,172.2813 Q276.8125,174.375 277.5,175.4531 Q278.1875,176.5156 279.5313,176.5156 Q280.1563,176.5156 280.75,176.25 Q281.3438,175.9688 281.9688,175.3906 L281.9688,178.1094 Z \"/><text fill=\"#000000\" font-family=\"sans-serif\" font-size=\"12\" font-style=\"italic\" lengthAdjust=\"spacingAndGlyphs\" textLength=\"144\" x=\"291\" y=\"169.6387\">«(T,blue)viewpoint def»</text><text fill=\"#000000\" font-family=\"sans-serif\" font-size=\"12\" lengthAdjust=\"spacingAndGlyphs\" textLength=\"16\" x=\"355\" y=\"183.6074\">VP</text><line style=\"stroke: #A80036; stroke-width: 1.5;\" x1=\"265\" x2=\"435\" y1=\"191.4375\" y2=\"191.4375\"/><line style=\"stroke: #A80036; stroke-width: 1.5;\" x1=\"265\" x2=\"435\" y1=\"199.4375\" y2=\"199.4375\"/></a><a href=\"psysml:d8eb8e98-9fc5-4554-bb79-0a7fb3af234b\" target=\"_top\" title=\"psysml:d8eb8e98-9fc5-4554-bb79-0a7fb3af234b\" xlink:actuate=\"onRequest\" xlink:href=\"psysml:d8eb8e98-9fc5-4554-bb79-0a7fb3af234b\" xlink:show=\"new\" xlink:title=\"psysml:d8eb8e98-9fc5-4554-bb79-0a7fb3af234b\" xlink:type=\"simple\"><polygon fill=\"#FFFFFF\" filter=\"url(#f1g4hj3w5yqrx6)\" points=\"199,154,215,154,222,176.2969,229,176.2969,229,206.5938,199,206.5938,199,154\" style=\"stroke: #000000; stroke-width: 1.5;\"/><line style=\"stroke: #000000; stroke-width: 1.5;\" x1=\"199\" x2=\"222\" y1=\"176.2969\" y2=\"176.2969\"/><text fill=\"#000000\" font-family=\"sans-serif\" font-size=\"14\" font-weight=\"bold\" lengthAdjust=\"spacingAndGlyphs\" textLength=\"10\" x=\"203\" y=\"168.9951\">P</text></a><g id=\"E1.E4\"><a href=\"psysml:80b9aeea-925b-4b3a-8c84-ce381a5e60ed\" target=\"_top\" title=\"psysml:80b9aeea-925b-4b3a-8c84-ce381a5e60ed\" xlink:actuate=\"onRequest\" xlink:href=\"psysml:80b9aeea-925b-4b3a-8c84-ce381a5e60ed\" xlink:show=\"new\" xlink:title=\"psysml:80b9aeea-925b-4b3a-8c84-ce381a5e60ed\" xlink:type=\"simple\"><rect fill=\"#FEFECE\" filter=\"url(#f1g4hj3w5yqrx6)\" height=\"42.9375\" id=\"E4\" style=\"stroke: #A80036; stroke-width: 1.5;\" width=\"132\" x=\"32\" y=\"159\"/><ellipse cx=\"49.25\" cy=\"177.9688\" fill=\"#0000FF\" rx=\"11\" ry=\"11\" style=\"stroke: #A80036; stroke-width: 1.0;\"/><path d=\"M50.0938,184.7188 L47.6406,184.7188 L47.6406,174.4688 L44.5,174.4688 L44.5,172.3281 L53.2344,172.3281 L53.2344,174.4688 L50.0938,174.4688 L50.0938,184.7188 Z \"/><text fill=\"#000000\" font-family=\"sans-serif\" font-size=\"12\" font-style=\"italic\" lengthAdjust=\"spacingAndGlyphs\" textLength=\"99\" x=\"61.75\" y=\"175.1387\">«rendering def»</text><text fill=\"#000000\" font-family=\"sans-serif\" font-size=\"12\" lengthAdjust=\"spacingAndGlyphs\" textLength=\"8\" x=\"107.25\" y=\"189.1074\">R</text></a></g><g id=\"E1.E5.E6.E7\"><a href=\"psysml:df90ec85-1f95-42f9-8740-37e2136842a3\" target=\"_top\" title=\"psysml:df90ec85-1f95-42f9-8740-37e2136842a3\" xlink:actuate=\"onRequest\" xlink:href=\"psysml:df90ec85-1f95-42f9-8740-37e2136842a3\" xlink:show=\"new\" xlink:title=\"psysml:df90ec85-1f95-42f9-8740-37e2136842a3\" xlink:type=\"simple\"><rect fill=\"#FEFECE\" filter=\"url(#f1g4hj3w5yqrx6)\" height=\"42.9375\" id=\"E7\" rx=\"10\" ry=\"10\" style=\"stroke: #A80036; stroke-width: 1.5;\" width=\"108\" x=\"670\" y=\"159\"/><ellipse cx=\"687.25\" cy=\"177.9688\" fill=\"#0000FF\" rx=\"11\" ry=\"11\" style=\"stroke: #A80036; stroke-width: 1.0;\"/><path d=\"M688.0938,184.7188 L685.6406,184.7188 L685.6406,174.4688 L682.5,174.4688 L682.5,172.3281 L691.2344,172.3281 L691.2344,174.4688 L688.0938,174.4688 L688.0938,184.7188 Z \"/><text fill=\"#000000\" font-family=\"sans-serif\" font-size=\"12\" font-style=\"italic\" lengthAdjust=\"spacingAndGlyphs\" textLength=\"75\" x=\"699.75\" y=\"175.1387\">«reference»</text><text fill=\"#000000\" font-family=\"sans-serif\" font-size=\"12\" lengthAdjust=\"spacingAndGlyphs\" textLength=\"26\" x=\"724.25\" y=\"189.1074\">subj</text></a></g><g id=\"E1.E5.E8\"><a href=\"psysml:d3ad1959-ed24-48c6-b8cb-3101ea5444ce\" target=\"_top\" title=\"psysml:d3ad1959-ed24-48c6-b8cb-3101ea5444ce\" xlink:actuate=\"onRequest\" xlink:href=\"psysml:d3ad1959-ed24-48c6-b8cb-3101ea5444ce\" xlink:show=\"new\" xlink:title=\"psysml:d3ad1959-ed24-48c6-b8cb-3101ea5444ce\" xlink:type=\"simple\"><rect fill=\"#FEFECE\" filter=\"url(#f1g4hj3w5yqrx6)\" height=\"40\" id=\"E8\" rx=\"10\" ry=\"10\" style=\"stroke: #A80036; stroke-width: 1.5;\" width=\"58\" x=\"471\" y=\"160.5\"/><ellipse cx=\"488.25\" cy=\"176.5\" fill=\"#B6DBBB\" rx=\"11\" ry=\"11\" style=\"stroke: #A80036; stroke-width: 1.0;\"/><path d=\"M484.125,178.4219 L484.125,170.6094 L486.5781,170.6094 L486.5781,179.0469 Q486.5781,179.9688 487.0469,180.5 Q487.5313,181.0313 488.3594,181.0313 Q489.2031,181.0313 489.6719,180.5 Q490.1406,179.9688 490.1406,179.0469 L490.1406,170.6094 L492.5938,170.6094 L492.5938,178.4219 Q492.5938,180.9531 491.5938,182.0938 Q490.5938,183.2344 488.3594,183.2344 Q486.1406,183.2344 485.125,182.0938 Q484.125,180.9531 484.125,178.4219 Z \"/><text fill=\"#000000\" font-family=\"sans-serif\" font-size=\"12\" lengthAdjust=\"spacingAndGlyphs\" textLength=\"21\" x=\"502.75\" y=\"180.6543\">r: R</text></a></g><g id=\"E1.E5.E9.E10\"><a href=\"psysml:599cc28e-37a4-4871-97e7-8713776fcf23\" target=\"_top\" title=\"psysml:599cc28e-37a4-4871-97e7-8713776fcf23\" xlink:actuate=\"onRequest\" xlink:href=\"psysml:599cc28e-37a4-4871-97e7-8713776fcf23\" xlink:show=\"new\" xlink:title=\"psysml:599cc28e-37a4-4871-97e7-8713776fcf23\" xlink:type=\"simple\"><rect fill=\"#FEFECE\" filter=\"url(#f1g4hj3w5yqrx6)\" height=\"40\" id=\"E10\" rx=\"10\" ry=\"10\" style=\"stroke: #A80036; stroke-width: 1.5;\" width=\"50\" x=\"564\" y=\"160.5\"/><ellipse cx=\"581.25\" cy=\"176.5\" fill=\"#B6DBBB\" rx=\"11\" ry=\"11\" style=\"stroke: #A80036; stroke-width: 1.0;\"/><path d=\"M577.125,178.4219 L577.125,170.6094 L579.5781,170.6094 L579.5781,179.0469 Q579.5781,179.9688 580.0469,180.5 Q580.5313,181.0313 581.3594,181.0313 Q582.2031,181.0313 582.6719,180.5 Q583.1406,179.9688 583.1406,179.0469 L583.1406,170.6094 L585.5938,170.6094 L585.5938,178.4219 Q585.5938,180.9531 584.5938,182.0938 Q583.5938,183.2344 581.3594,183.2344 Q579.1406,183.2344 578.125,182.0938 Q577.125,180.9531 577.125,178.4219 Z \"/><text fill=\"#000000\" font-family=\"sans-serif\" font-size=\"12\" lengthAdjust=\"spacingAndGlyphs\" textLength=\"13\" x=\"595.75\" y=\"180.6543\">r1</text></a></g><!--MD5=[9d57ada2efeea12e922b2d98ce2126f0]\n",
       "@startuml\r\n",
       "skinparam ranksep 8\r\n",
       "skinparam rectangle {\r\n",
       " backgroundColor<<block>> LightGreen\r\n",
       "}\r\n",
       " \r\n",
       "package \"ViewTest\" as E1  [[psysml:68a4efc3-4169-49c4-b08f-98091c4bc0be ]]  {\r\n",
       "package \"P\" as E2  [[psysml:d8eb8e98-9fc5-4554-bb79-0a7fb3af234b ]]  {\r\n",
       "}\r\n",
       "def \"VP\" as E3  <<(T,blue)viewpoint def>> [[psysml:0e16ef0b-675e-475c-a6ab-030697702310 ]] \r\n",
       "rec def \"R\" as E4  <<(T,blue)rendering def>> [[psysml:80b9aeea-925b-4b3a-8c84-ce381a5e60ed ]] {\r\n",
       "}\r\n",
       "rec def \"V\" as E5  <<(T,blue)view def>> [[psysml:fa67c82a-cf4c-4211-8405-b886e7fced61 ]] {\r\n",
       "rec usage \"vp: VP\" as E6  <<(T,blue)viewpoint>> [[psysml:edb93869-3e30-4330-ae7d-f0dbadb8ae6e ]] {\r\n",
       "rec usage \"subj\" as E7  <<(T,blue)reference>> [[psysml:df90ec85-1f95-42f9-8740-37e2136842a3 ]] {\r\n",
       "}\r\n",
       "}\r\n",
       "rec usage \"r: R\" as E8  [[psysml:d3ad1959-ed24-48c6-b8cb-3101ea5444ce ]] {\r\n",
       "}\r\n",
       "rec usage \"v: V\" as E9  [[psysml:c79df832-858d-4f87-b041-227cc7f695ce ]] {\r\n",
       "rec usage \"r1\" as E10  [[psysml:599cc28e-37a4-4871-97e7-8713776fcf23 ]] {\r\n",
       "}\r\n",
       "}\r\n",
       "}\r\n",
       "}\r\n",
       "@enduml\r\n",
       "\n",
       "PlantUML version 1.2020.13(Sat Jun 13 12:26:38 UTC 2020)\n",
       "(EPL source distribution)\n",
       "Java Runtime: OpenJDK Runtime Environment\n",
       "JVM: OpenJDK 64-Bit Server VM\n",
       "Default Encoding: UTF-8\n",
       "Language: en\n",
       "Country: null\n",
       "--></g></svg>"
      ]
     },
     "execution_count": 5,
     "metadata": {},
     "output_type": "execute_result"
    }
   ],
   "source": [
    "%viz --style=\"COMPTREE\" --view=\"Interconnection\" \"ViewTest\""
   ]
  },
  {
   "cell_type": "code",
   "execution_count": 6,
   "id": "reported-project",
   "metadata": {
    "execution": {
     "iopub.execute_input": "2021-03-25T15:10:01.006667Z",
     "iopub.status.busy": "2021-03-25T15:10:01.006197Z",
     "iopub.status.idle": "2021-03-25T15:10:01.014241Z",
     "shell.execute_reply": "2021-03-25T15:10:01.013520Z"
    }
   },
   "outputs": [
    {
     "data": {
      "image/svg+xml": [
       "<?xml version=\"1.0\" encoding=\"UTF-8\" standalone=\"no\"?><svg xmlns=\"http://www.w3.org/2000/svg\" xmlns:xlink=\"http://www.w3.org/1999/xlink\" contentScriptType=\"application/ecmascript\" contentStyleType=\"text/css\" height=\"12px\" preserveAspectRatio=\"none\" style=\"width:12px;height:12px;\" version=\"1.1\" viewBox=\"0 0 12 12\" width=\"12px\" zoomAndPan=\"magnify\"><defs/><g><!--MD5=[6a4cb978cab31700e1ce5529f947a75d]\n",
       "@startuml\r\n",
       "skinparam ranksep 8\r\n",
       " \r\n",
       "@enduml\r\n",
       "\n",
       "PlantUML version 1.2020.13(Sat Jun 13 12:26:38 UTC 2020)\n",
       "(EPL source distribution)\n",
       "Java Runtime: OpenJDK Runtime Environment\n",
       "JVM: OpenJDK 64-Bit Server VM\n",
       "Default Encoding: UTF-8\n",
       "Language: en\n",
       "Country: null\n",
       "--></g></svg>"
      ]
     },
     "execution_count": 6,
     "metadata": {},
     "output_type": "execute_result"
    }
   ],
   "source": [
    "%viz --style=\"COMPTREE\" --view=\"Action\" \"ViewTest\""
   ]
  },
  {
   "cell_type": "code",
   "execution_count": 7,
   "id": "specified-stone",
   "metadata": {
    "execution": {
     "iopub.execute_input": "2021-03-25T15:10:01.066203Z",
     "iopub.status.busy": "2021-03-25T15:10:01.065357Z",
     "iopub.status.idle": "2021-03-25T15:10:01.177700Z",
     "shell.execute_reply": "2021-03-25T15:10:01.176140Z"
    }
   },
   "outputs": [
    {
     "data": {
      "image/svg+xml": [
       "<?xml version=\"1.0\" encoding=\"UTF-8\" standalone=\"no\"?><svg xmlns=\"http://www.w3.org/2000/svg\" xmlns:xlink=\"http://www.w3.org/1999/xlink\" contentScriptType=\"application/ecmascript\" contentStyleType=\"text/css\" height=\"334px\" preserveAspectRatio=\"none\" style=\"width:495px;height:334px;\" version=\"1.1\" viewBox=\"0 0 495 334\" width=\"495px\" zoomAndPan=\"magnify\"><defs><filter height=\"300%\" id=\"f1djxxmrj360p0\" width=\"300%\" x=\"-1\" y=\"-1\"><feGaussianBlur result=\"blurOut\" stdDeviation=\"2.0\"/><feColorMatrix in=\"blurOut\" result=\"blurOut2\" type=\"matrix\" values=\"0 0 0 0 0 0 0 0 0 0 0 0 0 0 0 0 0 0 .4 0\"/><feOffset dx=\"4.0\" dy=\"4.0\" in=\"blurOut2\" result=\"blurOut3\"/><feBlend in=\"SourceGraphic\" in2=\"blurOut3\" mode=\"normal\"/></filter></defs><g><!--MD5=[fbc87193dbaf4d95561dea2c320d4a47]\n",
       "cluster E1--><a href=\"psysml:68a4efc3-4169-49c4-b08f-98091c4bc0be\" target=\"_top\" title=\"psysml:68a4efc3-4169-49c4-b08f-98091c4bc0be\" xlink:actuate=\"onRequest\" xlink:href=\"psysml:68a4efc3-4169-49c4-b08f-98091c4bc0be\" xlink:show=\"new\" xlink:title=\"psysml:68a4efc3-4169-49c4-b08f-98091c4bc0be\" xlink:type=\"simple\"><polygon fill=\"#FFFFFF\" filter=\"url(#f1djxxmrj360p0)\" points=\"16,6,96,6,103,28.2969,473,28.2969,473,322,16,322,16,6\" style=\"stroke: #000000; stroke-width: 1.5;\"/><line style=\"stroke: #000000; stroke-width: 1.5;\" x1=\"16\" x2=\"103\" y1=\"28.2969\" y2=\"28.2969\"/><text fill=\"#000000\" font-family=\"sans-serif\" font-size=\"14\" font-weight=\"bold\" lengthAdjust=\"spacingAndGlyphs\" textLength=\"74\" x=\"20\" y=\"20.9951\">ViewTest</text></a><!--MD5=[09b614a08d8cba4a07c9adeb5e0fee81]\n",
       "class E3--><a href=\"psysml:0e16ef0b-675e-475c-a6ab-030697702310\" target=\"_top\" title=\"psysml:0e16ef0b-675e-475c-a6ab-030697702310\" xlink:actuate=\"onRequest\" xlink:href=\"psysml:0e16ef0b-675e-475c-a6ab-030697702310\" xlink:show=\"new\" xlink:title=\"psysml:0e16ef0b-675e-475c-a6ab-030697702310\" xlink:type=\"simple\"><rect fill=\"#FEFECE\" filter=\"url(#f1djxxmrj360p0)\" height=\"45.9375\" id=\"E3\" style=\"stroke: #A80036; stroke-width: 1.5;\" width=\"124\" x=\"32\" y=\"260\"/><ellipse cx=\"47\" cy=\"278.9688\" fill=\"#0000FF\" rx=\"11\" ry=\"11\" style=\"stroke: #A80036; stroke-width: 1.0;\"/><path d=\"M47.8438,285.7188 L45.3906,285.7188 L45.3906,275.4688 L42.25,275.4688 L42.25,273.3281 L50.9844,273.3281 L50.9844,275.4688 L47.8438,275.4688 L47.8438,285.7188 Z \"/><text fill=\"#000000\" font-family=\"sans-serif\" font-size=\"12\" font-style=\"italic\" lengthAdjust=\"spacingAndGlyphs\" textLength=\"96\" x=\"59\" y=\"276.1387\">«viewpoint def»</text><text fill=\"#000000\" font-family=\"sans-serif\" font-size=\"12\" lengthAdjust=\"spacingAndGlyphs\" textLength=\"16\" x=\"99\" y=\"290.1074\">VP</text><line style=\"stroke: #A80036; stroke-width: 1.5;\" x1=\"33\" x2=\"155\" y1=\"297.9375\" y2=\"297.9375\"/></a><!--MD5=[ebbe1d658d1005bcc118a6aa81145e00]\n",
       "class E4--><a href=\"psysml:80b9aeea-925b-4b3a-8c84-ce381a5e60ed\" target=\"_top\" title=\"psysml:80b9aeea-925b-4b3a-8c84-ce381a5e60ed\" xlink:actuate=\"onRequest\" xlink:href=\"psysml:80b9aeea-925b-4b3a-8c84-ce381a5e60ed\" xlink:show=\"new\" xlink:title=\"psysml:80b9aeea-925b-4b3a-8c84-ce381a5e60ed\" xlink:type=\"simple\"><rect fill=\"#FEFECE\" filter=\"url(#f1djxxmrj360p0)\" height=\"45.9375\" id=\"E4\" style=\"stroke: #A80036; stroke-width: 1.5;\" width=\"127\" x=\"191.5\" y=\"260\"/><ellipse cx=\"206.5\" cy=\"278.9688\" fill=\"#0000FF\" rx=\"11\" ry=\"11\" style=\"stroke: #A80036; stroke-width: 1.0;\"/><path d=\"M207.3438,285.7188 L204.8906,285.7188 L204.8906,275.4688 L201.75,275.4688 L201.75,273.3281 L210.4844,273.3281 L210.4844,275.4688 L207.3438,275.4688 L207.3438,285.7188 Z \"/><text fill=\"#000000\" font-family=\"sans-serif\" font-size=\"12\" font-style=\"italic\" lengthAdjust=\"spacingAndGlyphs\" textLength=\"99\" x=\"218.5\" y=\"276.1387\">«rendering def»</text><text fill=\"#000000\" font-family=\"sans-serif\" font-size=\"12\" lengthAdjust=\"spacingAndGlyphs\" textLength=\"8\" x=\"264\" y=\"290.1074\">R</text><line style=\"stroke: #A80036; stroke-width: 1.5;\" x1=\"192.5\" x2=\"317.5\" y1=\"297.9375\" y2=\"297.9375\"/></a><!--MD5=[270fce915f116d4de14055a7c1d9a0f3]\n",
       "class E5--><a href=\"psysml:fa67c82a-cf4c-4211-8405-b886e7fced61\" target=\"_top\" title=\"psysml:fa67c82a-cf4c-4211-8405-b886e7fced61\" xlink:actuate=\"onRequest\" xlink:href=\"psysml:fa67c82a-cf4c-4211-8405-b886e7fced61\" xlink:show=\"new\" xlink:title=\"psysml:fa67c82a-cf4c-4211-8405-b886e7fced61\" xlink:type=\"simple\"><rect fill=\"#FEFECE\" filter=\"url(#f1djxxmrj360p0)\" height=\"45.9375\" id=\"E5\" style=\"stroke: #A80036; stroke-width: 1.5;\" width=\"92\" x=\"269\" y=\"44.5\"/><ellipse cx=\"284\" cy=\"63.4688\" fill=\"#0000FF\" rx=\"11\" ry=\"11\" style=\"stroke: #A80036; stroke-width: 1.0;\"/><path d=\"M284.8438,70.2188 L282.3906,70.2188 L282.3906,59.9688 L279.25,59.9688 L279.25,57.8281 L287.9844,57.8281 L287.9844,59.9688 L284.8438,59.9688 L284.8438,70.2188 Z \"/><text fill=\"#000000\" font-family=\"sans-serif\" font-size=\"12\" font-style=\"italic\" lengthAdjust=\"spacingAndGlyphs\" textLength=\"64\" x=\"296\" y=\"60.6387\">«view def»</text><text fill=\"#000000\" font-family=\"sans-serif\" font-size=\"12\" lengthAdjust=\"spacingAndGlyphs\" textLength=\"8\" x=\"324\" y=\"74.6074\">V</text><line style=\"stroke: #A80036; stroke-width: 1.5;\" x1=\"270\" x2=\"360\" y1=\"82.4375\" y2=\"82.4375\"/></a><!--MD5=[60a26617385b1d2d0262a64233df1f8d]\n",
       "class E6--><a href=\"psysml:edb93869-3e30-4330-ae7d-f0dbadb8ae6e\" target=\"_top\" title=\"psysml:edb93869-3e30-4330-ae7d-f0dbadb8ae6e\" xlink:actuate=\"onRequest\" xlink:href=\"psysml:edb93869-3e30-4330-ae7d-f0dbadb8ae6e\" xlink:show=\"new\" xlink:title=\"psysml:edb93869-3e30-4330-ae7d-f0dbadb8ae6e\" xlink:type=\"simple\"><rect fill=\"#FEFECE\" filter=\"url(#f1djxxmrj360p0)\" height=\"45.9375\" id=\"E6\" rx=\"10\" ry=\"10\" style=\"stroke: #A80036; stroke-width: 1.5;\" width=\"100\" x=\"56\" y=\"154\"/><ellipse cx=\"71\" cy=\"172.9688\" fill=\"#0000FF\" rx=\"11\" ry=\"11\" style=\"stroke: #A80036; stroke-width: 1.0;\"/><path d=\"M71.8438,179.7188 L69.3906,179.7188 L69.3906,169.4688 L66.25,169.4688 L66.25,167.3281 L74.9844,167.3281 L74.9844,169.4688 L71.8438,169.4688 L71.8438,179.7188 Z \"/><text fill=\"#000000\" font-family=\"sans-serif\" font-size=\"12\" font-style=\"italic\" lengthAdjust=\"spacingAndGlyphs\" textLength=\"72\" x=\"83\" y=\"170.1387\">«viewpoint»</text><text fill=\"#000000\" font-family=\"sans-serif\" font-size=\"12\" lengthAdjust=\"spacingAndGlyphs\" textLength=\"38\" x=\"100\" y=\"184.1074\">vp: VP</text><line style=\"stroke: #A80036; stroke-width: 1.5;\" x1=\"57\" x2=\"155\" y1=\"191.9375\" y2=\"191.9375\"/></a><!--MD5=[2156ba9850f5573cc1fc38a6a4b2f02b]\n",
       "class E7--><a href=\"psysml:d3ad1959-ed24-48c6-b8cb-3101ea5444ce\" target=\"_top\" title=\"psysml:d3ad1959-ed24-48c6-b8cb-3101ea5444ce\" xlink:actuate=\"onRequest\" xlink:href=\"psysml:d3ad1959-ed24-48c6-b8cb-3101ea5444ce\" xlink:show=\"new\" xlink:title=\"psysml:d3ad1959-ed24-48c6-b8cb-3101ea5444ce\" xlink:type=\"simple\"><rect fill=\"#FEFECE\" filter=\"url(#f1djxxmrj360p0)\" height=\"45.9375\" id=\"E7\" rx=\"10\" ry=\"10\" style=\"stroke: #A80036; stroke-width: 1.5;\" width=\"103\" x=\"203.5\" y=\"154\"/><ellipse cx=\"218.5\" cy=\"172.9688\" fill=\"#0000FF\" rx=\"11\" ry=\"11\" style=\"stroke: #A80036; stroke-width: 1.0;\"/><path d=\"M219.3438,179.7188 L216.8906,179.7188 L216.8906,169.4688 L213.75,169.4688 L213.75,167.3281 L222.4844,167.3281 L222.4844,169.4688 L219.3438,169.4688 L219.3438,179.7188 Z \"/><text fill=\"#000000\" font-family=\"sans-serif\" font-size=\"12\" font-style=\"italic\" lengthAdjust=\"spacingAndGlyphs\" textLength=\"75\" x=\"230.5\" y=\"170.1387\">«rendering»</text><text fill=\"#000000\" font-family=\"sans-serif\" font-size=\"12\" lengthAdjust=\"spacingAndGlyphs\" textLength=\"21\" x=\"257.5\" y=\"184.1074\">r: R</text><line style=\"stroke: #A80036; stroke-width: 1.5;\" x1=\"204.5\" x2=\"305.5\" y1=\"191.9375\" y2=\"191.9375\"/></a><!--MD5=[b9389687b975829384b498ac4b7476b2]\n",
       "class E8--><a href=\"psysml:c79df832-858d-4f87-b041-227cc7f695ce\" target=\"_top\" title=\"psysml:c79df832-858d-4f87-b041-227cc7f695ce\" xlink:actuate=\"onRequest\" xlink:href=\"psysml:c79df832-858d-4f87-b041-227cc7f695ce\" xlink:show=\"new\" xlink:title=\"psysml:c79df832-858d-4f87-b041-227cc7f695ce\" xlink:type=\"simple\"><rect fill=\"#FEFECE\" filter=\"url(#f1djxxmrj360p0)\" height=\"45.9375\" id=\"E8\" rx=\"10\" ry=\"10\" style=\"stroke: #A80036; stroke-width: 1.5;\" width=\"68\" x=\"342\" y=\"154\"/><ellipse cx=\"357\" cy=\"172.9688\" fill=\"#0000FF\" rx=\"11\" ry=\"11\" style=\"stroke: #A80036; stroke-width: 1.0;\"/><path d=\"M357.8438,179.7188 L355.3906,179.7188 L355.3906,169.4688 L352.25,169.4688 L352.25,167.3281 L360.9844,167.3281 L360.9844,169.4688 L357.8438,169.4688 L357.8438,179.7188 Z \"/><text fill=\"#000000\" font-family=\"sans-serif\" font-size=\"12\" font-style=\"italic\" lengthAdjust=\"spacingAndGlyphs\" textLength=\"40\" x=\"369\" y=\"170.1387\">«view»</text><text fill=\"#000000\" font-family=\"sans-serif\" font-size=\"12\" lengthAdjust=\"spacingAndGlyphs\" textLength=\"22\" x=\"378\" y=\"184.1074\">v: V</text><line style=\"stroke: #A80036; stroke-width: 1.5;\" x1=\"343\" x2=\"409\" y1=\"191.9375\" y2=\"191.9375\"/></a><!--MD5=[fd4143e9d270a159db93a4ea2a975926]\n",
       "class E9--><a href=\"psysml:599cc28e-37a4-4871-97e7-8713776fcf23\" target=\"_top\" title=\"psysml:599cc28e-37a4-4871-97e7-8713776fcf23\" xlink:actuate=\"onRequest\" xlink:href=\"psysml:599cc28e-37a4-4871-97e7-8713776fcf23\" xlink:show=\"new\" xlink:title=\"psysml:599cc28e-37a4-4871-97e7-8713776fcf23\" xlink:type=\"simple\"><rect fill=\"#FEFECE\" filter=\"url(#f1djxxmrj360p0)\" height=\"45.9375\" id=\"E9\" rx=\"10\" ry=\"10\" style=\"stroke: #A80036; stroke-width: 1.5;\" width=\"103\" x=\"353.5\" y=\"260\"/><ellipse cx=\"368.5\" cy=\"278.9688\" fill=\"#0000FF\" rx=\"11\" ry=\"11\" style=\"stroke: #A80036; stroke-width: 1.0;\"/><path d=\"M369.3438,285.7188 L366.8906,285.7188 L366.8906,275.4688 L363.75,275.4688 L363.75,273.3281 L372.4844,273.3281 L372.4844,275.4688 L369.3438,275.4688 L369.3438,285.7188 Z \"/><text fill=\"#000000\" font-family=\"sans-serif\" font-size=\"12\" font-style=\"italic\" lengthAdjust=\"spacingAndGlyphs\" textLength=\"75\" x=\"380.5\" y=\"276.1387\">«rendering»</text><text fill=\"#000000\" font-family=\"sans-serif\" font-size=\"12\" lengthAdjust=\"spacingAndGlyphs\" textLength=\"13\" x=\"411.5\" y=\"290.1074\">r1</text><line style=\"stroke: #A80036; stroke-width: 1.5;\" x1=\"354.5\" x2=\"455.5\" y1=\"297.9375\" y2=\"297.9375\"/></a><a href=\"psysml:d8eb8e98-9fc5-4554-bb79-0a7fb3af234b\" target=\"_top\" title=\"psysml:d8eb8e98-9fc5-4554-bb79-0a7fb3af234b\" xlink:actuate=\"onRequest\" xlink:href=\"psysml:d8eb8e98-9fc5-4554-bb79-0a7fb3af234b\" xlink:show=\"new\" xlink:title=\"psysml:d8eb8e98-9fc5-4554-bb79-0a7fb3af234b\" xlink:type=\"simple\"><polygon fill=\"#FFFFFF\" filter=\"url(#f1djxxmrj360p0)\" points=\"148,41,164,41,171,63.2969,178,63.2969,178,93.5938,148,93.5938,148,41\" style=\"stroke: #000000; stroke-width: 1.5;\"/><line style=\"stroke: #000000; stroke-width: 1.5;\" x1=\"148\" x2=\"171\" y1=\"63.2969\" y2=\"63.2969\"/><text fill=\"#000000\" font-family=\"sans-serif\" font-size=\"14\" font-weight=\"bold\" lengthAdjust=\"spacingAndGlyphs\" textLength=\"10\" x=\"152\" y=\"55.9951\">P</text></a><!--MD5=[85d356282659285ab4b2cfe2f634dd2b]\n",
       "reverse link E5 to E6--><a href=\"psysml:edb93869-3e30-4330-ae7d-f0dbadb8ae6e\" target=\"_top\" title=\"psysml:edb93869-3e30-4330-ae7d-f0dbadb8ae6e\" xlink:actuate=\"onRequest\" xlink:href=\"psysml:edb93869-3e30-4330-ae7d-f0dbadb8ae6e\" xlink:show=\"new\" xlink:title=\"psysml:edb93869-3e30-4330-ae7d-f0dbadb8ae6e\" xlink:type=\"simple\"><path d=\"M260.36,96.61 C225.64,114.46 181.33,137.25 149.1,153.83 \" fill=\"none\" id=\"E5&lt;-E6\" style=\"stroke: #A80036; stroke-width: 1.0;\"/><polygon fill=\"#A80036\" points=\"272.2,90.51,265.0353,89.6929,261.5255,95.9922,268.6901,96.8093,272.2,90.51\" style=\"stroke: #A80036; stroke-width: 1.0;\"/></a><!--MD5=[a717450b82c80b9240a525fa862496af]\n",
       "link E6 to E3--><a href=\"psysml:678c28b1-b825-4869-b6db-341a5ef18df5\" target=\"_top\" title=\"psysml:678c28b1-b825-4869-b6db-341a5ef18df5\" xlink:actuate=\"onRequest\" xlink:href=\"psysml:678c28b1-b825-4869-b6db-341a5ef18df5\" xlink:show=\"new\" xlink:title=\"psysml:678c28b1-b825-4869-b6db-341a5ef18df5\" xlink:type=\"simple\"><path d=\"M103.46,200.06 C102.12,211.64 100.44,226.23 98.86,239.87 \" fill=\"none\" id=\"E6-&gt;E3\" style=\"stroke: #A80036; stroke-width: 1.0;\"/><polygon fill=\"#FFFFFF\" points=\"96.54,259.98,91.757,240.3046,105.6653,241.9044,96.54,259.98\" style=\"stroke: #A80036; stroke-width: 1.0;\"/><ellipse cx=\"94.3953\" cy=\"234.8704\" fill=\"#A80036\" rx=\"2\" ry=\"2\" style=\"stroke: #A80036; stroke-width: 1.0;\"/><ellipse cx=\"104.3298\" cy=\"236.0132\" fill=\"#A80036\" rx=\"2\" ry=\"2\" style=\"stroke: #A80036; stroke-width: 1.0;\"/></a><!--MD5=[6bdd27f9905911a7e892a3dc65cf6b7c]\n",
       "link E7 to E4--><a href=\"psysml:e01b0a28-1744-4d35-a29d-a960e4229aec\" target=\"_top\" title=\"psysml:e01b0a28-1744-4d35-a29d-a960e4229aec\" xlink:actuate=\"onRequest\" xlink:href=\"psysml:e01b0a28-1744-4d35-a29d-a960e4229aec\" xlink:show=\"new\" xlink:title=\"psysml:e01b0a28-1744-4d35-a29d-a960e4229aec\" xlink:type=\"simple\"><path d=\"M255,200.06 C255,211.64 255,226.23 255,239.87 \" fill=\"none\" id=\"E7-&gt;E4\" style=\"stroke: #A80036; stroke-width: 1.0;\"/><polygon fill=\"#FFFFFF\" points=\"255,259.98,248,240.98,262,240.98,255,259.98\" style=\"stroke: #A80036; stroke-width: 1.0;\"/><ellipse cx=\"250\" cy=\"235.28\" fill=\"#A80036\" rx=\"2\" ry=\"2\" style=\"stroke: #A80036; stroke-width: 1.0;\"/><ellipse cx=\"260\" cy=\"235.28\" fill=\"#A80036\" rx=\"2\" ry=\"2\" style=\"stroke: #A80036; stroke-width: 1.0;\"/></a><!--MD5=[452b418e7f8a40397a49b8c0a78acc5b]\n",
       "reverse link E5 to E7--><a href=\"psysml:d3ad1959-ed24-48c6-b8cb-3101ea5444ce\" target=\"_top\" title=\"psysml:d3ad1959-ed24-48c6-b8cb-3101ea5444ce\" xlink:actuate=\"onRequest\" xlink:href=\"psysml:d3ad1959-ed24-48c6-b8cb-3101ea5444ce\" xlink:show=\"new\" xlink:title=\"psysml:d3ad1959-ed24-48c6-b8cb-3101ea5444ce\" xlink:type=\"simple\"><path d=\"M296.26,102.08 C286.88,118.88 275.8,138.74 267.48,153.65 \" fill=\"none\" id=\"E5&lt;-E7\" style=\"stroke: #A80036; stroke-width: 1.0;\"/><polygon fill=\"#A80036\" points=\"302.71,90.51,296.2953,93.8042,296.8689,100.9924,303.2836,97.6983,302.71,90.51\" style=\"stroke: #A80036; stroke-width: 1.0;\"/><text fill=\"#000000\" font-family=\"sans-serif\" font-size=\"13\" lengthAdjust=\"spacingAndGlyphs\" textLength=\"24\" x=\"243.603\" y=\"142.8366\">0..1</text></a><!--MD5=[1ccb2481ffa92f8d51a74ee30c51832a]\n",
       "link E8 to E5--><a href=\"psysml:3896f3dd-ac25-48cd-93fb-dac3b3d02068\" target=\"_top\" title=\"psysml:3896f3dd-ac25-48cd-93fb-dac3b3d02068\" xlink:actuate=\"onRequest\" xlink:href=\"psysml:3896f3dd-ac25-48cd-93fb-dac3b3d02068\" xlink:show=\"new\" xlink:title=\"psysml:3896f3dd-ac25-48cd-93fb-dac3b3d02068\" xlink:type=\"simple\"><path d=\"M374.51,153.65 C369.12,140.19 359.79,122.69 349.89,107.05 \" fill=\"none\" id=\"E8-&gt;E5\" style=\"stroke: #A80036; stroke-width: 1.0;\"/><polygon fill=\"#FFFFFF\" points=\"338.63,90.51,355.111,102.2734,343.5398,110.1542,338.63,90.51\" style=\"stroke: #A80036; stroke-width: 1.0;\"/><ellipse cx=\"356.6666\" cy=\"108.1103\" fill=\"#A80036\" rx=\"2\" ry=\"2\" style=\"stroke: #A80036; stroke-width: 1.0;\"/><ellipse cx=\"348.4014\" cy=\"113.7395\" fill=\"#A80036\" rx=\"2\" ry=\"2\" style=\"stroke: #A80036; stroke-width: 1.0;\"/></a><!--MD5=[827760032d119d06bbc92f75530fd7ae]\n",
       "reverse link E5 to E8--><a href=\"psysml:c79df832-858d-4f87-b041-227cc7f695ce\" target=\"_top\" title=\"psysml:c79df832-858d-4f87-b041-227cc7f695ce\" xlink:actuate=\"onRequest\" xlink:href=\"psysml:c79df832-858d-4f87-b041-227cc7f695ce\" xlink:show=\"new\" xlink:title=\"psysml:c79df832-858d-4f87-b041-227cc7f695ce\" xlink:type=\"simple\"><path d=\"M322.38,102.57 C330.44,119.26 342.04,138.89 352.74,153.65 \" fill=\"none\" id=\"E5&lt;-E8\" style=\"stroke: #A80036; stroke-width: 1.0;\"/><polygon fill=\"#A80036\" points=\"316.97,90.51,315.7809,97.6224,321.8889,101.4555,323.078,94.3431,316.97,90.51\" style=\"stroke: #A80036; stroke-width: 1.0;\"/><text fill=\"#000000\" font-family=\"sans-serif\" font-size=\"13\" lengthAdjust=\"spacingAndGlyphs\" textLength=\"7\" x=\"338.8828\" y=\"142.8366\">*</text></a><!--MD5=[22f5b4bae7e060dce8a1c8021efdb95b]\n",
       "reverse link E8 to E9--><a href=\"psysml:599cc28e-37a4-4871-97e7-8713776fcf23\" target=\"_top\" title=\"psysml:599cc28e-37a4-4871-97e7-8713776fcf23\" xlink:actuate=\"onRequest\" xlink:href=\"psysml:599cc28e-37a4-4871-97e7-8713776fcf23\" xlink:show=\"new\" xlink:title=\"psysml:599cc28e-37a4-4871-97e7-8713776fcf23\" xlink:type=\"simple\"><path d=\"M385.75,212.96 C390.08,228.51 395.05,246.33 398.86,259.98 \" fill=\"none\" id=\"E8&lt;-E9\" style=\"stroke: #A80036; stroke-width: 1.0;\"/><polygon fill=\"#A80036\" points=\"382.15,200.06,379.9066,206.9133,385.3699,211.6199,387.6133,204.7667,382.15,200.06\" style=\"stroke: #A80036; stroke-width: 1.0;\"/></a><!--MD5=[ddf0367bdc0fc41a4ae1489c26b91848]\n",
       "@startuml\r\n",
       " \r\n",
       "package \"ViewTest\" as E1  [[psysml:68a4efc3-4169-49c4-b08f-98091c4bc0be ]]  {\r\n",
       "package \"P\" as E2  [[psysml:d8eb8e98-9fc5-4554-bb79-0a7fb3af234b ]]  {\r\n",
       "}\r\n",
       "comp def \"VP\" as E3  <<(T,blue)viewpoint def>> [[psysml:0e16ef0b-675e-475c-a6ab-030697702310 ]] {\r\n",
       "}\r\n",
       "comp def \"R\" as E4  <<(T,blue)rendering def>> [[psysml:80b9aeea-925b-4b3a-8c84-ce381a5e60ed ]] {\r\n",
       "}\r\n",
       "comp def \"V\" as E5  <<(T,blue)view def>> [[psysml:fa67c82a-cf4c-4211-8405-b886e7fced61 ]] {\r\n",
       "}\r\n",
       "comp usage \"vp: VP\" as E6  <<(T,blue)viewpoint>> [[psysml:edb93869-3e30-4330-ae7d-f0dbadb8ae6e ]] {\r\n",
       "}\r\n",
       "comp usage \"r: R\" as E7  <<(T,blue)rendering>> [[psysml:d3ad1959-ed24-48c6-b8cb-3101ea5444ce ]] {\r\n",
       "}\r\n",
       "comp usage \"v: V\" as E8  <<(T,blue)view>> [[psysml:c79df832-858d-4f87-b041-227cc7f695ce ]] {\r\n",
       "}\r\n",
       "comp usage \"r1\" as E9  <<(T,blue)rendering>> [[psysml:599cc28e-37a4-4871-97e7-8713776fcf23 ]] {\r\n",
       "}\r\n",
       "E5 *- - E6 [[psysml:edb93869-3e30-4330-ae7d-f0dbadb8ae6e ]] \r\n",
       "E6 - -:|> E3 [[psysml:678c28b1-b825-4869-b6db-341a5ef18df5 ]] \r\n",
       "E7 - -:|> E4 [[psysml:e01b0a28-1744-4d35-a29d-a960e4229aec ]] \r\n",
       "E5 *- - \"0..1\"E7 [[psysml:d3ad1959-ed24-48c6-b8cb-3101ea5444ce ]] \r\n",
       "E8 - -:|> E5 [[psysml:3896f3dd-ac25-48cd-93fb-dac3b3d02068 ]] \r\n",
       "E5 *- - \"*\"E8 [[psysml:c79df832-858d-4f87-b041-227cc7f695ce ]] \r\n",
       "E8 *- - E9 [[psysml:599cc28e-37a4-4871-97e7-8713776fcf23 ]] \r\n",
       "}\r\n",
       "@enduml\r\n",
       "\n",
       "PlantUML version 1.2020.13(Sat Jun 13 12:26:38 UTC 2020)\n",
       "(EPL source distribution)\n",
       "Java Runtime: OpenJDK Runtime Environment\n",
       "JVM: OpenJDK 64-Bit Server VM\n",
       "Default Encoding: UTF-8\n",
       "Language: en\n",
       "Country: null\n",
       "--></g></svg>"
      ]
     },
     "execution_count": 7,
     "metadata": {},
     "output_type": "execute_result"
    }
   ],
   "source": [
    "%viz --style=\"COMPTREE\" --view=\"Sequence\" \"ViewTest\""
   ]
  },
  {
   "cell_type": "code",
   "execution_count": 8,
   "id": "raised-universal",
   "metadata": {
    "execution": {
     "iopub.execute_input": "2021-03-25T15:10:01.227646Z",
     "iopub.status.busy": "2021-03-25T15:10:01.227180Z",
     "iopub.status.idle": "2021-03-25T15:10:01.354922Z",
     "shell.execute_reply": "2021-03-25T15:10:01.353437Z"
    }
   },
   "outputs": [
    {
     "data": {
      "image/svg+xml": [
       "<?xml version=\"1.0\" encoding=\"UTF-8\" standalone=\"no\"?><svg xmlns=\"http://www.w3.org/2000/svg\" xmlns:xlink=\"http://www.w3.org/1999/xlink\" contentScriptType=\"application/ecmascript\" contentStyleType=\"text/css\" height=\"334px\" preserveAspectRatio=\"none\" style=\"width:495px;height:334px;\" version=\"1.1\" viewBox=\"0 0 495 334\" width=\"495px\" zoomAndPan=\"magnify\"><defs><filter height=\"300%\" id=\"f1djxxmrj360p0\" width=\"300%\" x=\"-1\" y=\"-1\"><feGaussianBlur result=\"blurOut\" stdDeviation=\"2.0\"/><feColorMatrix in=\"blurOut\" result=\"blurOut2\" type=\"matrix\" values=\"0 0 0 0 0 0 0 0 0 0 0 0 0 0 0 0 0 0 .4 0\"/><feOffset dx=\"4.0\" dy=\"4.0\" in=\"blurOut2\" result=\"blurOut3\"/><feBlend in=\"SourceGraphic\" in2=\"blurOut3\" mode=\"normal\"/></filter></defs><g><!--MD5=[fbc87193dbaf4d95561dea2c320d4a47]\n",
       "cluster E1--><a href=\"psysml:68a4efc3-4169-49c4-b08f-98091c4bc0be\" target=\"_top\" title=\"psysml:68a4efc3-4169-49c4-b08f-98091c4bc0be\" xlink:actuate=\"onRequest\" xlink:href=\"psysml:68a4efc3-4169-49c4-b08f-98091c4bc0be\" xlink:show=\"new\" xlink:title=\"psysml:68a4efc3-4169-49c4-b08f-98091c4bc0be\" xlink:type=\"simple\"><polygon fill=\"#FFFFFF\" filter=\"url(#f1djxxmrj360p0)\" points=\"16,6,96,6,103,28.2969,473,28.2969,473,322,16,322,16,6\" style=\"stroke: #000000; stroke-width: 1.5;\"/><line style=\"stroke: #000000; stroke-width: 1.5;\" x1=\"16\" x2=\"103\" y1=\"28.2969\" y2=\"28.2969\"/><text fill=\"#000000\" font-family=\"sans-serif\" font-size=\"14\" font-weight=\"bold\" lengthAdjust=\"spacingAndGlyphs\" textLength=\"74\" x=\"20\" y=\"20.9951\">ViewTest</text></a><!--MD5=[09b614a08d8cba4a07c9adeb5e0fee81]\n",
       "class E3--><a href=\"psysml:0e16ef0b-675e-475c-a6ab-030697702310\" target=\"_top\" title=\"psysml:0e16ef0b-675e-475c-a6ab-030697702310\" xlink:actuate=\"onRequest\" xlink:href=\"psysml:0e16ef0b-675e-475c-a6ab-030697702310\" xlink:show=\"new\" xlink:title=\"psysml:0e16ef0b-675e-475c-a6ab-030697702310\" xlink:type=\"simple\"><rect fill=\"#FEFECE\" filter=\"url(#f1djxxmrj360p0)\" height=\"45.9375\" id=\"E3\" style=\"stroke: #A80036; stroke-width: 1.5;\" width=\"124\" x=\"32\" y=\"260\"/><ellipse cx=\"47\" cy=\"278.9688\" fill=\"#0000FF\" rx=\"11\" ry=\"11\" style=\"stroke: #A80036; stroke-width: 1.0;\"/><path d=\"M47.8438,285.7188 L45.3906,285.7188 L45.3906,275.4688 L42.25,275.4688 L42.25,273.3281 L50.9844,273.3281 L50.9844,275.4688 L47.8438,275.4688 L47.8438,285.7188 Z \"/><text fill=\"#000000\" font-family=\"sans-serif\" font-size=\"12\" font-style=\"italic\" lengthAdjust=\"spacingAndGlyphs\" textLength=\"96\" x=\"59\" y=\"276.1387\">«viewpoint def»</text><text fill=\"#000000\" font-family=\"sans-serif\" font-size=\"12\" lengthAdjust=\"spacingAndGlyphs\" textLength=\"16\" x=\"99\" y=\"290.1074\">VP</text><line style=\"stroke: #A80036; stroke-width: 1.5;\" x1=\"33\" x2=\"155\" y1=\"297.9375\" y2=\"297.9375\"/></a><!--MD5=[ebbe1d658d1005bcc118a6aa81145e00]\n",
       "class E4--><a href=\"psysml:80b9aeea-925b-4b3a-8c84-ce381a5e60ed\" target=\"_top\" title=\"psysml:80b9aeea-925b-4b3a-8c84-ce381a5e60ed\" xlink:actuate=\"onRequest\" xlink:href=\"psysml:80b9aeea-925b-4b3a-8c84-ce381a5e60ed\" xlink:show=\"new\" xlink:title=\"psysml:80b9aeea-925b-4b3a-8c84-ce381a5e60ed\" xlink:type=\"simple\"><rect fill=\"#FEFECE\" filter=\"url(#f1djxxmrj360p0)\" height=\"45.9375\" id=\"E4\" style=\"stroke: #A80036; stroke-width: 1.5;\" width=\"127\" x=\"191.5\" y=\"260\"/><ellipse cx=\"206.5\" cy=\"278.9688\" fill=\"#0000FF\" rx=\"11\" ry=\"11\" style=\"stroke: #A80036; stroke-width: 1.0;\"/><path d=\"M207.3438,285.7188 L204.8906,285.7188 L204.8906,275.4688 L201.75,275.4688 L201.75,273.3281 L210.4844,273.3281 L210.4844,275.4688 L207.3438,275.4688 L207.3438,285.7188 Z \"/><text fill=\"#000000\" font-family=\"sans-serif\" font-size=\"12\" font-style=\"italic\" lengthAdjust=\"spacingAndGlyphs\" textLength=\"99\" x=\"218.5\" y=\"276.1387\">«rendering def»</text><text fill=\"#000000\" font-family=\"sans-serif\" font-size=\"12\" lengthAdjust=\"spacingAndGlyphs\" textLength=\"8\" x=\"264\" y=\"290.1074\">R</text><line style=\"stroke: #A80036; stroke-width: 1.5;\" x1=\"192.5\" x2=\"317.5\" y1=\"297.9375\" y2=\"297.9375\"/></a><!--MD5=[270fce915f116d4de14055a7c1d9a0f3]\n",
       "class E5--><a href=\"psysml:fa67c82a-cf4c-4211-8405-b886e7fced61\" target=\"_top\" title=\"psysml:fa67c82a-cf4c-4211-8405-b886e7fced61\" xlink:actuate=\"onRequest\" xlink:href=\"psysml:fa67c82a-cf4c-4211-8405-b886e7fced61\" xlink:show=\"new\" xlink:title=\"psysml:fa67c82a-cf4c-4211-8405-b886e7fced61\" xlink:type=\"simple\"><rect fill=\"#FEFECE\" filter=\"url(#f1djxxmrj360p0)\" height=\"45.9375\" id=\"E5\" style=\"stroke: #A80036; stroke-width: 1.5;\" width=\"92\" x=\"269\" y=\"44.5\"/><ellipse cx=\"284\" cy=\"63.4688\" fill=\"#0000FF\" rx=\"11\" ry=\"11\" style=\"stroke: #A80036; stroke-width: 1.0;\"/><path d=\"M284.8438,70.2188 L282.3906,70.2188 L282.3906,59.9688 L279.25,59.9688 L279.25,57.8281 L287.9844,57.8281 L287.9844,59.9688 L284.8438,59.9688 L284.8438,70.2188 Z \"/><text fill=\"#000000\" font-family=\"sans-serif\" font-size=\"12\" font-style=\"italic\" lengthAdjust=\"spacingAndGlyphs\" textLength=\"64\" x=\"296\" y=\"60.6387\">«view def»</text><text fill=\"#000000\" font-family=\"sans-serif\" font-size=\"12\" lengthAdjust=\"spacingAndGlyphs\" textLength=\"8\" x=\"324\" y=\"74.6074\">V</text><line style=\"stroke: #A80036; stroke-width: 1.5;\" x1=\"270\" x2=\"360\" y1=\"82.4375\" y2=\"82.4375\"/></a><!--MD5=[60a26617385b1d2d0262a64233df1f8d]\n",
       "class E6--><a href=\"psysml:edb93869-3e30-4330-ae7d-f0dbadb8ae6e\" target=\"_top\" title=\"psysml:edb93869-3e30-4330-ae7d-f0dbadb8ae6e\" xlink:actuate=\"onRequest\" xlink:href=\"psysml:edb93869-3e30-4330-ae7d-f0dbadb8ae6e\" xlink:show=\"new\" xlink:title=\"psysml:edb93869-3e30-4330-ae7d-f0dbadb8ae6e\" xlink:type=\"simple\"><rect fill=\"#FEFECE\" filter=\"url(#f1djxxmrj360p0)\" height=\"45.9375\" id=\"E6\" rx=\"10\" ry=\"10\" style=\"stroke: #A80036; stroke-width: 1.5;\" width=\"100\" x=\"56\" y=\"154\"/><ellipse cx=\"71\" cy=\"172.9688\" fill=\"#0000FF\" rx=\"11\" ry=\"11\" style=\"stroke: #A80036; stroke-width: 1.0;\"/><path d=\"M71.8438,179.7188 L69.3906,179.7188 L69.3906,169.4688 L66.25,169.4688 L66.25,167.3281 L74.9844,167.3281 L74.9844,169.4688 L71.8438,169.4688 L71.8438,179.7188 Z \"/><text fill=\"#000000\" font-family=\"sans-serif\" font-size=\"12\" font-style=\"italic\" lengthAdjust=\"spacingAndGlyphs\" textLength=\"72\" x=\"83\" y=\"170.1387\">«viewpoint»</text><text fill=\"#000000\" font-family=\"sans-serif\" font-size=\"12\" lengthAdjust=\"spacingAndGlyphs\" textLength=\"38\" x=\"100\" y=\"184.1074\">vp: VP</text><line style=\"stroke: #A80036; stroke-width: 1.5;\" x1=\"57\" x2=\"155\" y1=\"191.9375\" y2=\"191.9375\"/></a><!--MD5=[2156ba9850f5573cc1fc38a6a4b2f02b]\n",
       "class E7--><a href=\"psysml:d3ad1959-ed24-48c6-b8cb-3101ea5444ce\" target=\"_top\" title=\"psysml:d3ad1959-ed24-48c6-b8cb-3101ea5444ce\" xlink:actuate=\"onRequest\" xlink:href=\"psysml:d3ad1959-ed24-48c6-b8cb-3101ea5444ce\" xlink:show=\"new\" xlink:title=\"psysml:d3ad1959-ed24-48c6-b8cb-3101ea5444ce\" xlink:type=\"simple\"><rect fill=\"#FEFECE\" filter=\"url(#f1djxxmrj360p0)\" height=\"45.9375\" id=\"E7\" rx=\"10\" ry=\"10\" style=\"stroke: #A80036; stroke-width: 1.5;\" width=\"103\" x=\"203.5\" y=\"154\"/><ellipse cx=\"218.5\" cy=\"172.9688\" fill=\"#0000FF\" rx=\"11\" ry=\"11\" style=\"stroke: #A80036; stroke-width: 1.0;\"/><path d=\"M219.3438,179.7188 L216.8906,179.7188 L216.8906,169.4688 L213.75,169.4688 L213.75,167.3281 L222.4844,167.3281 L222.4844,169.4688 L219.3438,169.4688 L219.3438,179.7188 Z \"/><text fill=\"#000000\" font-family=\"sans-serif\" font-size=\"12\" font-style=\"italic\" lengthAdjust=\"spacingAndGlyphs\" textLength=\"75\" x=\"230.5\" y=\"170.1387\">«rendering»</text><text fill=\"#000000\" font-family=\"sans-serif\" font-size=\"12\" lengthAdjust=\"spacingAndGlyphs\" textLength=\"21\" x=\"257.5\" y=\"184.1074\">r: R</text><line style=\"stroke: #A80036; stroke-width: 1.5;\" x1=\"204.5\" x2=\"305.5\" y1=\"191.9375\" y2=\"191.9375\"/></a><!--MD5=[b9389687b975829384b498ac4b7476b2]\n",
       "class E8--><a href=\"psysml:c79df832-858d-4f87-b041-227cc7f695ce\" target=\"_top\" title=\"psysml:c79df832-858d-4f87-b041-227cc7f695ce\" xlink:actuate=\"onRequest\" xlink:href=\"psysml:c79df832-858d-4f87-b041-227cc7f695ce\" xlink:show=\"new\" xlink:title=\"psysml:c79df832-858d-4f87-b041-227cc7f695ce\" xlink:type=\"simple\"><rect fill=\"#FEFECE\" filter=\"url(#f1djxxmrj360p0)\" height=\"45.9375\" id=\"E8\" rx=\"10\" ry=\"10\" style=\"stroke: #A80036; stroke-width: 1.5;\" width=\"68\" x=\"342\" y=\"154\"/><ellipse cx=\"357\" cy=\"172.9688\" fill=\"#0000FF\" rx=\"11\" ry=\"11\" style=\"stroke: #A80036; stroke-width: 1.0;\"/><path d=\"M357.8438,179.7188 L355.3906,179.7188 L355.3906,169.4688 L352.25,169.4688 L352.25,167.3281 L360.9844,167.3281 L360.9844,169.4688 L357.8438,169.4688 L357.8438,179.7188 Z \"/><text fill=\"#000000\" font-family=\"sans-serif\" font-size=\"12\" font-style=\"italic\" lengthAdjust=\"spacingAndGlyphs\" textLength=\"40\" x=\"369\" y=\"170.1387\">«view»</text><text fill=\"#000000\" font-family=\"sans-serif\" font-size=\"12\" lengthAdjust=\"spacingAndGlyphs\" textLength=\"22\" x=\"378\" y=\"184.1074\">v: V</text><line style=\"stroke: #A80036; stroke-width: 1.5;\" x1=\"343\" x2=\"409\" y1=\"191.9375\" y2=\"191.9375\"/></a><!--MD5=[fd4143e9d270a159db93a4ea2a975926]\n",
       "class E9--><a href=\"psysml:599cc28e-37a4-4871-97e7-8713776fcf23\" target=\"_top\" title=\"psysml:599cc28e-37a4-4871-97e7-8713776fcf23\" xlink:actuate=\"onRequest\" xlink:href=\"psysml:599cc28e-37a4-4871-97e7-8713776fcf23\" xlink:show=\"new\" xlink:title=\"psysml:599cc28e-37a4-4871-97e7-8713776fcf23\" xlink:type=\"simple\"><rect fill=\"#FEFECE\" filter=\"url(#f1djxxmrj360p0)\" height=\"45.9375\" id=\"E9\" rx=\"10\" ry=\"10\" style=\"stroke: #A80036; stroke-width: 1.5;\" width=\"103\" x=\"353.5\" y=\"260\"/><ellipse cx=\"368.5\" cy=\"278.9688\" fill=\"#0000FF\" rx=\"11\" ry=\"11\" style=\"stroke: #A80036; stroke-width: 1.0;\"/><path d=\"M369.3438,285.7188 L366.8906,285.7188 L366.8906,275.4688 L363.75,275.4688 L363.75,273.3281 L372.4844,273.3281 L372.4844,275.4688 L369.3438,275.4688 L369.3438,285.7188 Z \"/><text fill=\"#000000\" font-family=\"sans-serif\" font-size=\"12\" font-style=\"italic\" lengthAdjust=\"spacingAndGlyphs\" textLength=\"75\" x=\"380.5\" y=\"276.1387\">«rendering»</text><text fill=\"#000000\" font-family=\"sans-serif\" font-size=\"12\" lengthAdjust=\"spacingAndGlyphs\" textLength=\"13\" x=\"411.5\" y=\"290.1074\">r1</text><line style=\"stroke: #A80036; stroke-width: 1.5;\" x1=\"354.5\" x2=\"455.5\" y1=\"297.9375\" y2=\"297.9375\"/></a><a href=\"psysml:d8eb8e98-9fc5-4554-bb79-0a7fb3af234b\" target=\"_top\" title=\"psysml:d8eb8e98-9fc5-4554-bb79-0a7fb3af234b\" xlink:actuate=\"onRequest\" xlink:href=\"psysml:d8eb8e98-9fc5-4554-bb79-0a7fb3af234b\" xlink:show=\"new\" xlink:title=\"psysml:d8eb8e98-9fc5-4554-bb79-0a7fb3af234b\" xlink:type=\"simple\"><polygon fill=\"#FFFFFF\" filter=\"url(#f1djxxmrj360p0)\" points=\"148,41,164,41,171,63.2969,178,63.2969,178,93.5938,148,93.5938,148,41\" style=\"stroke: #000000; stroke-width: 1.5;\"/><line style=\"stroke: #000000; stroke-width: 1.5;\" x1=\"148\" x2=\"171\" y1=\"63.2969\" y2=\"63.2969\"/><text fill=\"#000000\" font-family=\"sans-serif\" font-size=\"14\" font-weight=\"bold\" lengthAdjust=\"spacingAndGlyphs\" textLength=\"10\" x=\"152\" y=\"55.9951\">P</text></a><!--MD5=[85d356282659285ab4b2cfe2f634dd2b]\n",
       "reverse link E5 to E6--><a href=\"psysml:edb93869-3e30-4330-ae7d-f0dbadb8ae6e\" target=\"_top\" title=\"psysml:edb93869-3e30-4330-ae7d-f0dbadb8ae6e\" xlink:actuate=\"onRequest\" xlink:href=\"psysml:edb93869-3e30-4330-ae7d-f0dbadb8ae6e\" xlink:show=\"new\" xlink:title=\"psysml:edb93869-3e30-4330-ae7d-f0dbadb8ae6e\" xlink:type=\"simple\"><path d=\"M260.36,96.61 C225.64,114.46 181.33,137.25 149.1,153.83 \" fill=\"none\" id=\"E5&lt;-E6\" style=\"stroke: #A80036; stroke-width: 1.0;\"/><polygon fill=\"#A80036\" points=\"272.2,90.51,265.0353,89.6929,261.5255,95.9922,268.6901,96.8093,272.2,90.51\" style=\"stroke: #A80036; stroke-width: 1.0;\"/></a><!--MD5=[a717450b82c80b9240a525fa862496af]\n",
       "link E6 to E3--><a href=\"psysml:678c28b1-b825-4869-b6db-341a5ef18df5\" target=\"_top\" title=\"psysml:678c28b1-b825-4869-b6db-341a5ef18df5\" xlink:actuate=\"onRequest\" xlink:href=\"psysml:678c28b1-b825-4869-b6db-341a5ef18df5\" xlink:show=\"new\" xlink:title=\"psysml:678c28b1-b825-4869-b6db-341a5ef18df5\" xlink:type=\"simple\"><path d=\"M103.46,200.06 C102.12,211.64 100.44,226.23 98.86,239.87 \" fill=\"none\" id=\"E6-&gt;E3\" style=\"stroke: #A80036; stroke-width: 1.0;\"/><polygon fill=\"#FFFFFF\" points=\"96.54,259.98,91.757,240.3046,105.6653,241.9044,96.54,259.98\" style=\"stroke: #A80036; stroke-width: 1.0;\"/><ellipse cx=\"94.3953\" cy=\"234.8704\" fill=\"#A80036\" rx=\"2\" ry=\"2\" style=\"stroke: #A80036; stroke-width: 1.0;\"/><ellipse cx=\"104.3298\" cy=\"236.0132\" fill=\"#A80036\" rx=\"2\" ry=\"2\" style=\"stroke: #A80036; stroke-width: 1.0;\"/></a><!--MD5=[6bdd27f9905911a7e892a3dc65cf6b7c]\n",
       "link E7 to E4--><a href=\"psysml:e01b0a28-1744-4d35-a29d-a960e4229aec\" target=\"_top\" title=\"psysml:e01b0a28-1744-4d35-a29d-a960e4229aec\" xlink:actuate=\"onRequest\" xlink:href=\"psysml:e01b0a28-1744-4d35-a29d-a960e4229aec\" xlink:show=\"new\" xlink:title=\"psysml:e01b0a28-1744-4d35-a29d-a960e4229aec\" xlink:type=\"simple\"><path d=\"M255,200.06 C255,211.64 255,226.23 255,239.87 \" fill=\"none\" id=\"E7-&gt;E4\" style=\"stroke: #A80036; stroke-width: 1.0;\"/><polygon fill=\"#FFFFFF\" points=\"255,259.98,248,240.98,262,240.98,255,259.98\" style=\"stroke: #A80036; stroke-width: 1.0;\"/><ellipse cx=\"250\" cy=\"235.28\" fill=\"#A80036\" rx=\"2\" ry=\"2\" style=\"stroke: #A80036; stroke-width: 1.0;\"/><ellipse cx=\"260\" cy=\"235.28\" fill=\"#A80036\" rx=\"2\" ry=\"2\" style=\"stroke: #A80036; stroke-width: 1.0;\"/></a><!--MD5=[452b418e7f8a40397a49b8c0a78acc5b]\n",
       "reverse link E5 to E7--><a href=\"psysml:d3ad1959-ed24-48c6-b8cb-3101ea5444ce\" target=\"_top\" title=\"psysml:d3ad1959-ed24-48c6-b8cb-3101ea5444ce\" xlink:actuate=\"onRequest\" xlink:href=\"psysml:d3ad1959-ed24-48c6-b8cb-3101ea5444ce\" xlink:show=\"new\" xlink:title=\"psysml:d3ad1959-ed24-48c6-b8cb-3101ea5444ce\" xlink:type=\"simple\"><path d=\"M296.26,102.08 C286.88,118.88 275.8,138.74 267.48,153.65 \" fill=\"none\" id=\"E5&lt;-E7\" style=\"stroke: #A80036; stroke-width: 1.0;\"/><polygon fill=\"#A80036\" points=\"302.71,90.51,296.2953,93.8042,296.8689,100.9924,303.2836,97.6983,302.71,90.51\" style=\"stroke: #A80036; stroke-width: 1.0;\"/><text fill=\"#000000\" font-family=\"sans-serif\" font-size=\"13\" lengthAdjust=\"spacingAndGlyphs\" textLength=\"24\" x=\"243.603\" y=\"142.8366\">0..1</text></a><!--MD5=[1ccb2481ffa92f8d51a74ee30c51832a]\n",
       "link E8 to E5--><a href=\"psysml:3896f3dd-ac25-48cd-93fb-dac3b3d02068\" target=\"_top\" title=\"psysml:3896f3dd-ac25-48cd-93fb-dac3b3d02068\" xlink:actuate=\"onRequest\" xlink:href=\"psysml:3896f3dd-ac25-48cd-93fb-dac3b3d02068\" xlink:show=\"new\" xlink:title=\"psysml:3896f3dd-ac25-48cd-93fb-dac3b3d02068\" xlink:type=\"simple\"><path d=\"M374.51,153.65 C369.12,140.19 359.79,122.69 349.89,107.05 \" fill=\"none\" id=\"E8-&gt;E5\" style=\"stroke: #A80036; stroke-width: 1.0;\"/><polygon fill=\"#FFFFFF\" points=\"338.63,90.51,355.111,102.2734,343.5398,110.1542,338.63,90.51\" style=\"stroke: #A80036; stroke-width: 1.0;\"/><ellipse cx=\"356.6666\" cy=\"108.1103\" fill=\"#A80036\" rx=\"2\" ry=\"2\" style=\"stroke: #A80036; stroke-width: 1.0;\"/><ellipse cx=\"348.4014\" cy=\"113.7395\" fill=\"#A80036\" rx=\"2\" ry=\"2\" style=\"stroke: #A80036; stroke-width: 1.0;\"/></a><!--MD5=[827760032d119d06bbc92f75530fd7ae]\n",
       "reverse link E5 to E8--><a href=\"psysml:c79df832-858d-4f87-b041-227cc7f695ce\" target=\"_top\" title=\"psysml:c79df832-858d-4f87-b041-227cc7f695ce\" xlink:actuate=\"onRequest\" xlink:href=\"psysml:c79df832-858d-4f87-b041-227cc7f695ce\" xlink:show=\"new\" xlink:title=\"psysml:c79df832-858d-4f87-b041-227cc7f695ce\" xlink:type=\"simple\"><path d=\"M322.38,102.57 C330.44,119.26 342.04,138.89 352.74,153.65 \" fill=\"none\" id=\"E5&lt;-E8\" style=\"stroke: #A80036; stroke-width: 1.0;\"/><polygon fill=\"#A80036\" points=\"316.97,90.51,315.7809,97.6224,321.8889,101.4555,323.078,94.3431,316.97,90.51\" style=\"stroke: #A80036; stroke-width: 1.0;\"/><text fill=\"#000000\" font-family=\"sans-serif\" font-size=\"13\" lengthAdjust=\"spacingAndGlyphs\" textLength=\"7\" x=\"338.8828\" y=\"142.8366\">*</text></a><!--MD5=[22f5b4bae7e060dce8a1c8021efdb95b]\n",
       "reverse link E8 to E9--><a href=\"psysml:599cc28e-37a4-4871-97e7-8713776fcf23\" target=\"_top\" title=\"psysml:599cc28e-37a4-4871-97e7-8713776fcf23\" xlink:actuate=\"onRequest\" xlink:href=\"psysml:599cc28e-37a4-4871-97e7-8713776fcf23\" xlink:show=\"new\" xlink:title=\"psysml:599cc28e-37a4-4871-97e7-8713776fcf23\" xlink:type=\"simple\"><path d=\"M385.75,212.96 C390.08,228.51 395.05,246.33 398.86,259.98 \" fill=\"none\" id=\"E8&lt;-E9\" style=\"stroke: #A80036; stroke-width: 1.0;\"/><polygon fill=\"#A80036\" points=\"382.15,200.06,379.9066,206.9133,385.3699,211.6199,387.6133,204.7667,382.15,200.06\" style=\"stroke: #A80036; stroke-width: 1.0;\"/></a><!--MD5=[ddf0367bdc0fc41a4ae1489c26b91848]\n",
       "@startuml\r\n",
       " \r\n",
       "package \"ViewTest\" as E1  [[psysml:68a4efc3-4169-49c4-b08f-98091c4bc0be ]]  {\r\n",
       "package \"P\" as E2  [[psysml:d8eb8e98-9fc5-4554-bb79-0a7fb3af234b ]]  {\r\n",
       "}\r\n",
       "comp def \"VP\" as E3  <<(T,blue)viewpoint def>> [[psysml:0e16ef0b-675e-475c-a6ab-030697702310 ]] {\r\n",
       "}\r\n",
       "comp def \"R\" as E4  <<(T,blue)rendering def>> [[psysml:80b9aeea-925b-4b3a-8c84-ce381a5e60ed ]] {\r\n",
       "}\r\n",
       "comp def \"V\" as E5  <<(T,blue)view def>> [[psysml:fa67c82a-cf4c-4211-8405-b886e7fced61 ]] {\r\n",
       "}\r\n",
       "comp usage \"vp: VP\" as E6  <<(T,blue)viewpoint>> [[psysml:edb93869-3e30-4330-ae7d-f0dbadb8ae6e ]] {\r\n",
       "}\r\n",
       "comp usage \"r: R\" as E7  <<(T,blue)rendering>> [[psysml:d3ad1959-ed24-48c6-b8cb-3101ea5444ce ]] {\r\n",
       "}\r\n",
       "comp usage \"v: V\" as E8  <<(T,blue)view>> [[psysml:c79df832-858d-4f87-b041-227cc7f695ce ]] {\r\n",
       "}\r\n",
       "comp usage \"r1\" as E9  <<(T,blue)rendering>> [[psysml:599cc28e-37a4-4871-97e7-8713776fcf23 ]] {\r\n",
       "}\r\n",
       "E5 *- - E6 [[psysml:edb93869-3e30-4330-ae7d-f0dbadb8ae6e ]] \r\n",
       "E6 - -:|> E3 [[psysml:678c28b1-b825-4869-b6db-341a5ef18df5 ]] \r\n",
       "E7 - -:|> E4 [[psysml:e01b0a28-1744-4d35-a29d-a960e4229aec ]] \r\n",
       "E5 *- - \"0..1\"E7 [[psysml:d3ad1959-ed24-48c6-b8cb-3101ea5444ce ]] \r\n",
       "E8 - -:|> E5 [[psysml:3896f3dd-ac25-48cd-93fb-dac3b3d02068 ]] \r\n",
       "E5 *- - \"*\"E8 [[psysml:c79df832-858d-4f87-b041-227cc7f695ce ]] \r\n",
       "E8 *- - E9 [[psysml:599cc28e-37a4-4871-97e7-8713776fcf23 ]] \r\n",
       "}\r\n",
       "@enduml\r\n",
       "\n",
       "PlantUML version 1.2020.13(Sat Jun 13 12:26:38 UTC 2020)\n",
       "(EPL source distribution)\n",
       "Java Runtime: OpenJDK Runtime Environment\n",
       "JVM: OpenJDK 64-Bit Server VM\n",
       "Default Encoding: UTF-8\n",
       "Language: en\n",
       "Country: null\n",
       "--></g></svg>"
      ]
     },
     "execution_count": 8,
     "metadata": {},
     "output_type": "execute_result"
    }
   ],
   "source": [
    "%viz --style=\"COMPTREE\" --view=\"MIXED\" \"ViewTest\""
   ]
  },
  {
   "cell_type": "code",
   "execution_count": 9,
   "id": "unsigned-territory",
   "metadata": {
    "execution": {
     "iopub.execute_input": "2021-03-25T15:10:01.404117Z",
     "iopub.status.busy": "2021-03-25T15:10:01.403720Z",
     "iopub.status.idle": "2021-03-25T15:10:01.536805Z",
     "shell.execute_reply": "2021-03-25T15:10:01.535666Z"
    }
   },
   "outputs": [
    {
     "data": {
      "image/svg+xml": [
       "<?xml version=\"1.0\" encoding=\"UTF-8\" standalone=\"no\"?><svg xmlns=\"http://www.w3.org/2000/svg\" xmlns:xlink=\"http://www.w3.org/1999/xlink\" contentScriptType=\"application/ecmascript\" contentStyleType=\"text/css\" height=\"334px\" preserveAspectRatio=\"none\" style=\"width:417px;height:334px;\" version=\"1.1\" viewBox=\"0 0 417 334\" width=\"417px\" zoomAndPan=\"magnify\"><defs/><g><!--MD5=[fbc87193dbaf4d95561dea2c320d4a47]\n",
       "cluster E1--><a href=\"psysml:68a4efc3-4169-49c4-b08f-98091c4bc0be\" target=\"_top\" title=\"psysml:68a4efc3-4169-49c4-b08f-98091c4bc0be\" xlink:actuate=\"onRequest\" xlink:href=\"psysml:68a4efc3-4169-49c4-b08f-98091c4bc0be\" xlink:show=\"new\" xlink:title=\"psysml:68a4efc3-4169-49c4-b08f-98091c4bc0be\" xlink:type=\"simple\"><polygon fill=\"#FFFFFF\" points=\"16,6,96,6,103,28.2969,395,28.2969,395,322,16,322,16,6\" style=\"stroke: #000000; stroke-width: 1.5;\"/><line style=\"stroke: #000000; stroke-width: 1.5;\" x1=\"16\" x2=\"103\" y1=\"28.2969\" y2=\"28.2969\"/><text fill=\"#000000\" font-family=\"sans-serif\" font-size=\"14\" font-weight=\"bold\" lengthAdjust=\"spacingAndGlyphs\" textLength=\"74\" x=\"20\" y=\"20.9951\">ViewTest</text></a><!--MD5=[09b614a08d8cba4a07c9adeb5e0fee81]\n",
       "class E3--><a href=\"psysml:0e16ef0b-675e-475c-a6ab-030697702310\" target=\"_top\" title=\"psysml:0e16ef0b-675e-475c-a6ab-030697702310\" xlink:actuate=\"onRequest\" xlink:href=\"psysml:0e16ef0b-675e-475c-a6ab-030697702310\" xlink:show=\"new\" xlink:title=\"psysml:0e16ef0b-675e-475c-a6ab-030697702310\" xlink:type=\"simple\"><rect fill=\"#FFFFFF\" height=\"45.9375\" id=\"E3\" style=\"stroke: #383838; stroke-width: 1.5;\" width=\"98\" x=\"32\" y=\"260\"/><text fill=\"#000000\" font-family=\"sans-serif\" font-size=\"12\" font-style=\"italic\" lengthAdjust=\"spacingAndGlyphs\" textLength=\"96\" x=\"33\" y=\"276.1387\">«viewpoint def»</text><text fill=\"#000000\" font-family=\"sans-serif\" font-size=\"12\" lengthAdjust=\"spacingAndGlyphs\" textLength=\"16\" x=\"73\" y=\"290.1074\">VP</text><line style=\"stroke: #383838; stroke-width: 1.5;\" x1=\"33\" x2=\"129\" y1=\"297.9375\" y2=\"297.9375\"/></a><!--MD5=[ebbe1d658d1005bcc118a6aa81145e00]\n",
       "class E4--><a href=\"psysml:80b9aeea-925b-4b3a-8c84-ce381a5e60ed\" target=\"_top\" title=\"psysml:80b9aeea-925b-4b3a-8c84-ce381a5e60ed\" xlink:actuate=\"onRequest\" xlink:href=\"psysml:80b9aeea-925b-4b3a-8c84-ce381a5e60ed\" xlink:show=\"new\" xlink:title=\"psysml:80b9aeea-925b-4b3a-8c84-ce381a5e60ed\" xlink:type=\"simple\"><rect fill=\"#FFFFFF\" height=\"45.9375\" id=\"E4\" style=\"stroke: #383838; stroke-width: 1.5;\" width=\"101\" x=\"165.5\" y=\"260\"/><text fill=\"#000000\" font-family=\"sans-serif\" font-size=\"12\" font-style=\"italic\" lengthAdjust=\"spacingAndGlyphs\" textLength=\"99\" x=\"166.5\" y=\"276.1387\">«rendering def»</text><text fill=\"#000000\" font-family=\"sans-serif\" font-size=\"12\" lengthAdjust=\"spacingAndGlyphs\" textLength=\"8\" x=\"212\" y=\"290.1074\">R</text><line style=\"stroke: #383838; stroke-width: 1.5;\" x1=\"166.5\" x2=\"265.5\" y1=\"297.9375\" y2=\"297.9375\"/></a><!--MD5=[270fce915f116d4de14055a7c1d9a0f3]\n",
       "class E5--><a href=\"psysml:fa67c82a-cf4c-4211-8405-b886e7fced61\" target=\"_top\" title=\"psysml:fa67c82a-cf4c-4211-8405-b886e7fced61\" xlink:actuate=\"onRequest\" xlink:href=\"psysml:fa67c82a-cf4c-4211-8405-b886e7fced61\" xlink:show=\"new\" xlink:title=\"psysml:fa67c82a-cf4c-4211-8405-b886e7fced61\" xlink:type=\"simple\"><rect fill=\"#FFFFFF\" height=\"45.9375\" id=\"E5\" style=\"stroke: #383838; stroke-width: 1.5;\" width=\"66\" x=\"230\" y=\"44.5\"/><text fill=\"#000000\" font-family=\"sans-serif\" font-size=\"12\" font-style=\"italic\" lengthAdjust=\"spacingAndGlyphs\" textLength=\"64\" x=\"231\" y=\"60.6387\">«view def»</text><text fill=\"#000000\" font-family=\"sans-serif\" font-size=\"12\" lengthAdjust=\"spacingAndGlyphs\" textLength=\"8\" x=\"259\" y=\"74.6074\">V</text><line style=\"stroke: #383838; stroke-width: 1.5;\" x1=\"231\" x2=\"295\" y1=\"82.4375\" y2=\"82.4375\"/></a><!--MD5=[60a26617385b1d2d0262a64233df1f8d]\n",
       "class E6--><a href=\"psysml:edb93869-3e30-4330-ae7d-f0dbadb8ae6e\" target=\"_top\" title=\"psysml:edb93869-3e30-4330-ae7d-f0dbadb8ae6e\" xlink:actuate=\"onRequest\" xlink:href=\"psysml:edb93869-3e30-4330-ae7d-f0dbadb8ae6e\" xlink:show=\"new\" xlink:title=\"psysml:edb93869-3e30-4330-ae7d-f0dbadb8ae6e\" xlink:type=\"simple\"><rect fill=\"#FFFFFF\" height=\"45.9375\" id=\"E6\" rx=\"10\" ry=\"10\" style=\"stroke: #383838; stroke-width: 1.5;\" width=\"74\" x=\"56\" y=\"154\"/><text fill=\"#000000\" font-family=\"sans-serif\" font-size=\"12\" font-style=\"italic\" lengthAdjust=\"spacingAndGlyphs\" textLength=\"72\" x=\"57\" y=\"170.1387\">«viewpoint»</text><text fill=\"#000000\" font-family=\"sans-serif\" font-size=\"12\" lengthAdjust=\"spacingAndGlyphs\" textLength=\"38\" x=\"74\" y=\"184.1074\">vp: VP</text><line style=\"stroke: #383838; stroke-width: 1.5;\" x1=\"57\" x2=\"129\" y1=\"191.9375\" y2=\"191.9375\"/></a><!--MD5=[2156ba9850f5573cc1fc38a6a4b2f02b]\n",
       "class E7--><a href=\"psysml:d3ad1959-ed24-48c6-b8cb-3101ea5444ce\" target=\"_top\" title=\"psysml:d3ad1959-ed24-48c6-b8cb-3101ea5444ce\" xlink:actuate=\"onRequest\" xlink:href=\"psysml:d3ad1959-ed24-48c6-b8cb-3101ea5444ce\" xlink:show=\"new\" xlink:title=\"psysml:d3ad1959-ed24-48c6-b8cb-3101ea5444ce\" xlink:type=\"simple\"><rect fill=\"#FFFFFF\" height=\"45.9375\" id=\"E7\" rx=\"10\" ry=\"10\" style=\"stroke: #383838; stroke-width: 1.5;\" width=\"77\" x=\"177.5\" y=\"154\"/><text fill=\"#000000\" font-family=\"sans-serif\" font-size=\"12\" font-style=\"italic\" lengthAdjust=\"spacingAndGlyphs\" textLength=\"75\" x=\"178.5\" y=\"170.1387\">«rendering»</text><text fill=\"#000000\" font-family=\"sans-serif\" font-size=\"12\" lengthAdjust=\"spacingAndGlyphs\" textLength=\"21\" x=\"205.5\" y=\"184.1074\">r: R</text><line style=\"stroke: #383838; stroke-width: 1.5;\" x1=\"178.5\" x2=\"253.5\" y1=\"191.9375\" y2=\"191.9375\"/></a><!--MD5=[b9389687b975829384b498ac4b7476b2]\n",
       "class E8--><a href=\"psysml:c79df832-858d-4f87-b041-227cc7f695ce\" target=\"_top\" title=\"psysml:c79df832-858d-4f87-b041-227cc7f695ce\" xlink:actuate=\"onRequest\" xlink:href=\"psysml:c79df832-858d-4f87-b041-227cc7f695ce\" xlink:show=\"new\" xlink:title=\"psysml:c79df832-858d-4f87-b041-227cc7f695ce\" xlink:type=\"simple\"><rect fill=\"#FFFFFF\" height=\"45.9375\" id=\"E8\" rx=\"10\" ry=\"10\" style=\"stroke: #383838; stroke-width: 1.5;\" width=\"42\" x=\"290\" y=\"154\"/><text fill=\"#000000\" font-family=\"sans-serif\" font-size=\"12\" font-style=\"italic\" lengthAdjust=\"spacingAndGlyphs\" textLength=\"40\" x=\"291\" y=\"170.1387\">«view»</text><text fill=\"#000000\" font-family=\"sans-serif\" font-size=\"12\" lengthAdjust=\"spacingAndGlyphs\" textLength=\"22\" x=\"300\" y=\"184.1074\">v: V</text><line style=\"stroke: #383838; stroke-width: 1.5;\" x1=\"291\" x2=\"331\" y1=\"191.9375\" y2=\"191.9375\"/></a><!--MD5=[fd4143e9d270a159db93a4ea2a975926]\n",
       "class E9--><a href=\"psysml:599cc28e-37a4-4871-97e7-8713776fcf23\" target=\"_top\" title=\"psysml:599cc28e-37a4-4871-97e7-8713776fcf23\" xlink:actuate=\"onRequest\" xlink:href=\"psysml:599cc28e-37a4-4871-97e7-8713776fcf23\" xlink:show=\"new\" xlink:title=\"psysml:599cc28e-37a4-4871-97e7-8713776fcf23\" xlink:type=\"simple\"><rect fill=\"#FFFFFF\" height=\"45.9375\" id=\"E9\" rx=\"10\" ry=\"10\" style=\"stroke: #383838; stroke-width: 1.5;\" width=\"77\" x=\"301.5\" y=\"260\"/><text fill=\"#000000\" font-family=\"sans-serif\" font-size=\"12\" font-style=\"italic\" lengthAdjust=\"spacingAndGlyphs\" textLength=\"75\" x=\"302.5\" y=\"276.1387\">«rendering»</text><text fill=\"#000000\" font-family=\"sans-serif\" font-size=\"12\" lengthAdjust=\"spacingAndGlyphs\" textLength=\"13\" x=\"333.5\" y=\"290.1074\">r1</text><line style=\"stroke: #383838; stroke-width: 1.5;\" x1=\"302.5\" x2=\"377.5\" y1=\"297.9375\" y2=\"297.9375\"/></a><a href=\"psysml:d8eb8e98-9fc5-4554-bb79-0a7fb3af234b\" target=\"_top\" title=\"psysml:d8eb8e98-9fc5-4554-bb79-0a7fb3af234b\" xlink:actuate=\"onRequest\" xlink:href=\"psysml:d8eb8e98-9fc5-4554-bb79-0a7fb3af234b\" xlink:show=\"new\" xlink:title=\"psysml:d8eb8e98-9fc5-4554-bb79-0a7fb3af234b\" xlink:type=\"simple\"><polygon fill=\"#FFFFFF\" points=\"122,41,138,41,145,63.2969,152,63.2969,152,93.5938,122,93.5938,122,41\" style=\"stroke: #000000; stroke-width: 1.5;\"/><line style=\"stroke: #000000; stroke-width: 1.5;\" x1=\"122\" x2=\"145\" y1=\"63.2969\" y2=\"63.2969\"/><text fill=\"#000000\" font-family=\"sans-serif\" font-size=\"14\" font-weight=\"bold\" lengthAdjust=\"spacingAndGlyphs\" textLength=\"10\" x=\"126\" y=\"55.9951\">P</text></a><!--MD5=[85d356282659285ab4b2cfe2f634dd2b]\n",
       "reverse link E5 to E6--><a href=\"psysml:edb93869-3e30-4330-ae7d-f0dbadb8ae6e\" target=\"_top\" title=\"psysml:edb93869-3e30-4330-ae7d-f0dbadb8ae6e\" xlink:actuate=\"onRequest\" xlink:href=\"psysml:edb93869-3e30-4330-ae7d-f0dbadb8ae6e\" xlink:show=\"new\" xlink:title=\"psysml:edb93869-3e30-4330-ae7d-f0dbadb8ae6e\" xlink:type=\"simple\"><path d=\"M218.61,96.57 C190.28,114.48 154.1,137.36 127.85,153.96 \" fill=\"none\" id=\"E5&lt;-E6\" style=\"stroke: #383838; stroke-width: 1.0;\"/><polygon fill=\"#383838\" points=\"229.82,89.48,222.6111,89.2999,219.6723,95.8849,226.8811,96.0651,229.82,89.48\" style=\"stroke: #383838; stroke-width: 1.0;\"/></a><!--MD5=[a717450b82c80b9240a525fa862496af]\n",
       "link E6 to E3--><a href=\"psysml:678c28b1-b825-4869-b6db-341a5ef18df5\" target=\"_top\" title=\"psysml:678c28b1-b825-4869-b6db-341a5ef18df5\" xlink:actuate=\"onRequest\" xlink:href=\"psysml:678c28b1-b825-4869-b6db-341a5ef18df5\" xlink:show=\"new\" xlink:title=\"psysml:678c28b1-b825-4869-b6db-341a5ef18df5\" xlink:type=\"simple\"><path d=\"M90.46,200.06 C89.12,211.64 87.44,226.23 85.86,239.87 \" fill=\"none\" id=\"E6-&gt;E3\" style=\"stroke: #383838; stroke-width: 1.0;\"/><polygon fill=\"#FFFFFF\" points=\"83.54,259.98,78.757,240.3046,92.6653,241.9044,83.54,259.98\" style=\"stroke: #383838; stroke-width: 1.0;\"/><ellipse cx=\"81.3953\" cy=\"234.8704\" fill=\"#383838\" rx=\"2\" ry=\"2\" style=\"stroke: #383838; stroke-width: 1.0;\"/><ellipse cx=\"91.3298\" cy=\"236.0132\" fill=\"#383838\" rx=\"2\" ry=\"2\" style=\"stroke: #383838; stroke-width: 1.0;\"/></a><!--MD5=[6bdd27f9905911a7e892a3dc65cf6b7c]\n",
       "link E7 to E4--><a href=\"psysml:e01b0a28-1744-4d35-a29d-a960e4229aec\" target=\"_top\" title=\"psysml:e01b0a28-1744-4d35-a29d-a960e4229aec\" xlink:actuate=\"onRequest\" xlink:href=\"psysml:e01b0a28-1744-4d35-a29d-a960e4229aec\" xlink:show=\"new\" xlink:title=\"psysml:e01b0a28-1744-4d35-a29d-a960e4229aec\" xlink:type=\"simple\"><path d=\"M216,200.06 C216,211.64 216,226.23 216,239.87 \" fill=\"none\" id=\"E7-&gt;E4\" style=\"stroke: #383838; stroke-width: 1.0;\"/><polygon fill=\"#FFFFFF\" points=\"216,259.98,209,240.98,223,240.98,216,259.98\" style=\"stroke: #383838; stroke-width: 1.0;\"/><ellipse cx=\"211\" cy=\"235.28\" fill=\"#383838\" rx=\"2\" ry=\"2\" style=\"stroke: #383838; stroke-width: 1.0;\"/><ellipse cx=\"221\" cy=\"235.28\" fill=\"#383838\" rx=\"2\" ry=\"2\" style=\"stroke: #383838; stroke-width: 1.0;\"/></a><!--MD5=[452b418e7f8a40397a49b8c0a78acc5b]\n",
       "reverse link E5 to E7--><a href=\"psysml:d3ad1959-ed24-48c6-b8cb-3101ea5444ce\" target=\"_top\" title=\"psysml:d3ad1959-ed24-48c6-b8cb-3101ea5444ce\" xlink:actuate=\"onRequest\" xlink:href=\"psysml:d3ad1959-ed24-48c6-b8cb-3101ea5444ce\" xlink:show=\"new\" xlink:title=\"psysml:d3ad1959-ed24-48c6-b8cb-3101ea5444ce\" xlink:type=\"simple\"><path d=\"M248.1,102.57 C240.81,119.26 232.23,138.89 225.77,153.65 \" fill=\"none\" id=\"E5&lt;-E7\" style=\"stroke: #383838; stroke-width: 1.0;\"/><polygon fill=\"#383838\" points=\"253.38,90.51,247.31,94.4029,248.5688,101.5033,254.6388,97.6104,253.38,90.51\" style=\"stroke: #383838; stroke-width: 1.0;\"/><text fill=\"#000000\" font-family=\"sans-serif\" font-size=\"13\" lengthAdjust=\"spacingAndGlyphs\" textLength=\"24\" x=\"201.1986\" y=\"142.8366\">0..1</text></a><!--MD5=[1ccb2481ffa92f8d51a74ee30c51832a]\n",
       "link E8 to E5--><a href=\"psysml:3896f3dd-ac25-48cd-93fb-dac3b3d02068\" target=\"_top\" title=\"psysml:3896f3dd-ac25-48cd-93fb-dac3b3d02068\" xlink:actuate=\"onRequest\" xlink:href=\"psysml:3896f3dd-ac25-48cd-93fb-dac3b3d02068\" xlink:show=\"new\" xlink:title=\"psysml:3896f3dd-ac25-48cd-93fb-dac3b3d02068\" xlink:type=\"simple\"><path d=\"M312.22,153.65 C308.53,140.48 301.55,123.44 293.74,108.07 \" fill=\"none\" id=\"E8-&gt;E5\" style=\"stroke: #383838; stroke-width: 1.0;\"/><polygon fill=\"#FFFFFF\" points=\"283.97,90.51,299.3209,103.7142,287.0851,110.5174,283.97,90.51\" style=\"stroke: #383838; stroke-width: 1.0;\"/><ellipse cx=\"300.3428\" cy=\"109.6678\" fill=\"#383838\" rx=\"2\" ry=\"2\" style=\"stroke: #383838; stroke-width: 1.0;\"/><ellipse cx=\"291.6029\" cy=\"114.5273\" fill=\"#383838\" rx=\"2\" ry=\"2\" style=\"stroke: #383838; stroke-width: 1.0;\"/></a><!--MD5=[827760032d119d06bbc92f75530fd7ae]\n",
       "reverse link E5 to E8--><a href=\"psysml:c79df832-858d-4f87-b041-227cc7f695ce\" target=\"_top\" title=\"psysml:c79df832-858d-4f87-b041-227cc7f695ce\" xlink:actuate=\"onRequest\" xlink:href=\"psysml:c79df832-858d-4f87-b041-227cc7f695ce\" xlink:show=\"new\" xlink:title=\"psysml:c79df832-858d-4f87-b041-227cc7f695ce\" xlink:type=\"simple\"><path d=\"M266.44,103.07 C272.49,119.65 281.62,139.03 290.44,153.65 \" fill=\"none\" id=\"E5&lt;-E8\" style=\"stroke: #383838; stroke-width: 1.0;\"/><polygon fill=\"#383838\" points=\"262.31,90.51,260.3836,97.459,266.0572,101.9099,267.9836,94.9609,262.31,90.51\" style=\"stroke: #383838; stroke-width: 1.0;\"/><text fill=\"#000000\" font-family=\"sans-serif\" font-size=\"13\" lengthAdjust=\"spacingAndGlyphs\" textLength=\"7\" x=\"277.2746\" y=\"142.8366\">*</text></a><!--MD5=[22f5b4bae7e060dce8a1c8021efdb95b]\n",
       "reverse link E8 to E9--><a href=\"psysml:599cc28e-37a4-4871-97e7-8713776fcf23\" target=\"_top\" title=\"psysml:599cc28e-37a4-4871-97e7-8713776fcf23\" xlink:actuate=\"onRequest\" xlink:href=\"psysml:599cc28e-37a4-4871-97e7-8713776fcf23\" xlink:show=\"new\" xlink:title=\"psysml:599cc28e-37a4-4871-97e7-8713776fcf23\" xlink:type=\"simple\"><path d=\"M320.75,212.96 C325.08,228.51 330.05,246.33 333.86,259.98 \" fill=\"none\" id=\"E8&lt;-E9\" style=\"stroke: #383838; stroke-width: 1.0;\"/><polygon fill=\"#383838\" points=\"317.15,200.06,314.9066,206.9133,320.3699,211.6199,322.6133,204.7667,317.15,200.06\" style=\"stroke: #383838; stroke-width: 1.0;\"/></a><!--MD5=[7069b58386811865075fe248e5ff933c]\n",
       "@startuml\r\n",
       "skinparam linetype polyline\r\n",
       "skinparam monochrome true\r\n",
       "skinparam classbackgroundcolor white\r\n",
       "skinparam shadowing false\r\n",
       "skinparam wrapWidth 300\r\n",
       "hide circle\r\n",
       "\r\n",
       "package \"ViewTest\" as E1  [[psysml:68a4efc3-4169-49c4-b08f-98091c4bc0be ]]  {\r\n",
       "package \"P\" as E2  [[psysml:d8eb8e98-9fc5-4554-bb79-0a7fb3af234b ]]  {\r\n",
       "}\r\n",
       "comp def \"VP\" as E3  <<(T,blue)viewpoint def>> [[psysml:0e16ef0b-675e-475c-a6ab-030697702310 ]] {\r\n",
       "}\r\n",
       "comp def \"R\" as E4  <<(T,blue)rendering def>> [[psysml:80b9aeea-925b-4b3a-8c84-ce381a5e60ed ]] {\r\n",
       "}\r\n",
       "comp def \"V\" as E5  <<(T,blue)view def>> [[psysml:fa67c82a-cf4c-4211-8405-b886e7fced61 ]] {\r\n",
       "}\r\n",
       "comp usage \"vp: VP\" as E6  <<(T,blue)viewpoint>> [[psysml:edb93869-3e30-4330-ae7d-f0dbadb8ae6e ]] {\r\n",
       "}\r\n",
       "comp usage \"r: R\" as E7  <<(T,blue)rendering>> [[psysml:d3ad1959-ed24-48c6-b8cb-3101ea5444ce ]] {\r\n",
       "}\r\n",
       "comp usage \"v: V\" as E8  <<(T,blue)view>> [[psysml:c79df832-858d-4f87-b041-227cc7f695ce ]] {\r\n",
       "}\r\n",
       "comp usage \"r1\" as E9  <<(T,blue)rendering>> [[psysml:599cc28e-37a4-4871-97e7-8713776fcf23 ]] {\r\n",
       "}\r\n",
       "E5 *- - E6 [[psysml:edb93869-3e30-4330-ae7d-f0dbadb8ae6e ]] \r\n",
       "E6 - -:|> E3 [[psysml:678c28b1-b825-4869-b6db-341a5ef18df5 ]] \r\n",
       "E7 - -:|> E4 [[psysml:e01b0a28-1744-4d35-a29d-a960e4229aec ]] \r\n",
       "E5 *- - \"0..1\"E7 [[psysml:d3ad1959-ed24-48c6-b8cb-3101ea5444ce ]] \r\n",
       "E8 - -:|> E5 [[psysml:3896f3dd-ac25-48cd-93fb-dac3b3d02068 ]] \r\n",
       "E5 *- - \"*\"E8 [[psysml:c79df832-858d-4f87-b041-227cc7f695ce ]] \r\n",
       "E8 *- - E9 [[psysml:599cc28e-37a4-4871-97e7-8713776fcf23 ]] \r\n",
       "}\r\n",
       "@enduml\r\n",
       "\n",
       "PlantUML version 1.2020.13(Sat Jun 13 12:26:38 UTC 2020)\n",
       "(EPL source distribution)\n",
       "Java Runtime: OpenJDK Runtime Environment\n",
       "JVM: OpenJDK 64-Bit Server VM\n",
       "Default Encoding: UTF-8\n",
       "Language: en\n",
       "Country: null\n",
       "--></g></svg>"
      ]
     },
     "execution_count": 9,
     "metadata": {},
     "output_type": "execute_result"
    }
   ],
   "source": [
    "%viz --style=\"POLYLINE\" --view=\"Default\" \"ViewTest\""
   ]
  },
  {
   "cell_type": "code",
   "execution_count": 10,
   "id": "cultural-british",
   "metadata": {
    "execution": {
     "iopub.execute_input": "2021-03-25T15:10:01.586554Z",
     "iopub.status.busy": "2021-03-25T15:10:01.586045Z",
     "iopub.status.idle": "2021-03-25T15:10:01.694396Z",
     "shell.execute_reply": "2021-03-25T15:10:01.692951Z"
    }
   },
   "outputs": [
    {
     "data": {
      "image/svg+xml": [
       "<?xml version=\"1.0\" encoding=\"UTF-8\" standalone=\"no\"?><svg xmlns=\"http://www.w3.org/2000/svg\" xmlns:xlink=\"http://www.w3.org/1999/xlink\" contentScriptType=\"application/ecmascript\" contentStyleType=\"text/css\" height=\"334px\" preserveAspectRatio=\"none\" style=\"width:417px;height:334px;\" version=\"1.1\" viewBox=\"0 0 417 334\" width=\"417px\" zoomAndPan=\"magnify\"><defs/><g><!--MD5=[fbc87193dbaf4d95561dea2c320d4a47]\n",
       "cluster E1--><a href=\"psysml:68a4efc3-4169-49c4-b08f-98091c4bc0be\" target=\"_top\" title=\"psysml:68a4efc3-4169-49c4-b08f-98091c4bc0be\" xlink:actuate=\"onRequest\" xlink:href=\"psysml:68a4efc3-4169-49c4-b08f-98091c4bc0be\" xlink:show=\"new\" xlink:title=\"psysml:68a4efc3-4169-49c4-b08f-98091c4bc0be\" xlink:type=\"simple\"><polygon fill=\"#FFFFFF\" points=\"16,6,96,6,103,28.2969,395,28.2969,395,322,16,322,16,6\" style=\"stroke: #000000; stroke-width: 1.5;\"/><line style=\"stroke: #000000; stroke-width: 1.5;\" x1=\"16\" x2=\"103\" y1=\"28.2969\" y2=\"28.2969\"/><text fill=\"#000000\" font-family=\"sans-serif\" font-size=\"14\" font-weight=\"bold\" lengthAdjust=\"spacingAndGlyphs\" textLength=\"74\" x=\"20\" y=\"20.9951\">ViewTest</text></a><!--MD5=[09b614a08d8cba4a07c9adeb5e0fee81]\n",
       "class E3--><a href=\"psysml:0e16ef0b-675e-475c-a6ab-030697702310\" target=\"_top\" title=\"psysml:0e16ef0b-675e-475c-a6ab-030697702310\" xlink:actuate=\"onRequest\" xlink:href=\"psysml:0e16ef0b-675e-475c-a6ab-030697702310\" xlink:show=\"new\" xlink:title=\"psysml:0e16ef0b-675e-475c-a6ab-030697702310\" xlink:type=\"simple\"><rect fill=\"#FFFFFF\" height=\"45.9375\" id=\"E3\" style=\"stroke: #383838; stroke-width: 1.5;\" width=\"98\" x=\"32\" y=\"260\"/><text fill=\"#000000\" font-family=\"sans-serif\" font-size=\"12\" font-style=\"italic\" lengthAdjust=\"spacingAndGlyphs\" textLength=\"96\" x=\"33\" y=\"276.1387\">«viewpoint def»</text><text fill=\"#000000\" font-family=\"sans-serif\" font-size=\"12\" lengthAdjust=\"spacingAndGlyphs\" textLength=\"16\" x=\"73\" y=\"290.1074\">VP</text><line style=\"stroke: #383838; stroke-width: 1.5;\" x1=\"33\" x2=\"129\" y1=\"297.9375\" y2=\"297.9375\"/></a><!--MD5=[ebbe1d658d1005bcc118a6aa81145e00]\n",
       "class E4--><a href=\"psysml:80b9aeea-925b-4b3a-8c84-ce381a5e60ed\" target=\"_top\" title=\"psysml:80b9aeea-925b-4b3a-8c84-ce381a5e60ed\" xlink:actuate=\"onRequest\" xlink:href=\"psysml:80b9aeea-925b-4b3a-8c84-ce381a5e60ed\" xlink:show=\"new\" xlink:title=\"psysml:80b9aeea-925b-4b3a-8c84-ce381a5e60ed\" xlink:type=\"simple\"><rect fill=\"#FFFFFF\" height=\"45.9375\" id=\"E4\" style=\"stroke: #383838; stroke-width: 1.5;\" width=\"101\" x=\"165.5\" y=\"260\"/><text fill=\"#000000\" font-family=\"sans-serif\" font-size=\"12\" font-style=\"italic\" lengthAdjust=\"spacingAndGlyphs\" textLength=\"99\" x=\"166.5\" y=\"276.1387\">«rendering def»</text><text fill=\"#000000\" font-family=\"sans-serif\" font-size=\"12\" lengthAdjust=\"spacingAndGlyphs\" textLength=\"8\" x=\"212\" y=\"290.1074\">R</text><line style=\"stroke: #383838; stroke-width: 1.5;\" x1=\"166.5\" x2=\"265.5\" y1=\"297.9375\" y2=\"297.9375\"/></a><!--MD5=[270fce915f116d4de14055a7c1d9a0f3]\n",
       "class E5--><a href=\"psysml:fa67c82a-cf4c-4211-8405-b886e7fced61\" target=\"_top\" title=\"psysml:fa67c82a-cf4c-4211-8405-b886e7fced61\" xlink:actuate=\"onRequest\" xlink:href=\"psysml:fa67c82a-cf4c-4211-8405-b886e7fced61\" xlink:show=\"new\" xlink:title=\"psysml:fa67c82a-cf4c-4211-8405-b886e7fced61\" xlink:type=\"simple\"><rect fill=\"#FFFFFF\" height=\"45.9375\" id=\"E5\" style=\"stroke: #383838; stroke-width: 1.5;\" width=\"66\" x=\"230\" y=\"44.5\"/><text fill=\"#000000\" font-family=\"sans-serif\" font-size=\"12\" font-style=\"italic\" lengthAdjust=\"spacingAndGlyphs\" textLength=\"64\" x=\"231\" y=\"60.6387\">«view def»</text><text fill=\"#000000\" font-family=\"sans-serif\" font-size=\"12\" lengthAdjust=\"spacingAndGlyphs\" textLength=\"8\" x=\"259\" y=\"74.6074\">V</text><line style=\"stroke: #383838; stroke-width: 1.5;\" x1=\"231\" x2=\"295\" y1=\"82.4375\" y2=\"82.4375\"/></a><!--MD5=[60a26617385b1d2d0262a64233df1f8d]\n",
       "class E6--><a href=\"psysml:edb93869-3e30-4330-ae7d-f0dbadb8ae6e\" target=\"_top\" title=\"psysml:edb93869-3e30-4330-ae7d-f0dbadb8ae6e\" xlink:actuate=\"onRequest\" xlink:href=\"psysml:edb93869-3e30-4330-ae7d-f0dbadb8ae6e\" xlink:show=\"new\" xlink:title=\"psysml:edb93869-3e30-4330-ae7d-f0dbadb8ae6e\" xlink:type=\"simple\"><rect fill=\"#FFFFFF\" height=\"45.9375\" id=\"E6\" rx=\"10\" ry=\"10\" style=\"stroke: #383838; stroke-width: 1.5;\" width=\"74\" x=\"56\" y=\"154\"/><text fill=\"#000000\" font-family=\"sans-serif\" font-size=\"12\" font-style=\"italic\" lengthAdjust=\"spacingAndGlyphs\" textLength=\"72\" x=\"57\" y=\"170.1387\">«viewpoint»</text><text fill=\"#000000\" font-family=\"sans-serif\" font-size=\"12\" lengthAdjust=\"spacingAndGlyphs\" textLength=\"38\" x=\"74\" y=\"184.1074\">vp: VP</text><line style=\"stroke: #383838; stroke-width: 1.5;\" x1=\"57\" x2=\"129\" y1=\"191.9375\" y2=\"191.9375\"/></a><!--MD5=[2156ba9850f5573cc1fc38a6a4b2f02b]\n",
       "class E7--><a href=\"psysml:d3ad1959-ed24-48c6-b8cb-3101ea5444ce\" target=\"_top\" title=\"psysml:d3ad1959-ed24-48c6-b8cb-3101ea5444ce\" xlink:actuate=\"onRequest\" xlink:href=\"psysml:d3ad1959-ed24-48c6-b8cb-3101ea5444ce\" xlink:show=\"new\" xlink:title=\"psysml:d3ad1959-ed24-48c6-b8cb-3101ea5444ce\" xlink:type=\"simple\"><rect fill=\"#FFFFFF\" height=\"45.9375\" id=\"E7\" rx=\"10\" ry=\"10\" style=\"stroke: #383838; stroke-width: 1.5;\" width=\"77\" x=\"177.5\" y=\"154\"/><text fill=\"#000000\" font-family=\"sans-serif\" font-size=\"12\" font-style=\"italic\" lengthAdjust=\"spacingAndGlyphs\" textLength=\"75\" x=\"178.5\" y=\"170.1387\">«rendering»</text><text fill=\"#000000\" font-family=\"sans-serif\" font-size=\"12\" lengthAdjust=\"spacingAndGlyphs\" textLength=\"21\" x=\"205.5\" y=\"184.1074\">r: R</text><line style=\"stroke: #383838; stroke-width: 1.5;\" x1=\"178.5\" x2=\"253.5\" y1=\"191.9375\" y2=\"191.9375\"/></a><!--MD5=[b9389687b975829384b498ac4b7476b2]\n",
       "class E8--><a href=\"psysml:c79df832-858d-4f87-b041-227cc7f695ce\" target=\"_top\" title=\"psysml:c79df832-858d-4f87-b041-227cc7f695ce\" xlink:actuate=\"onRequest\" xlink:href=\"psysml:c79df832-858d-4f87-b041-227cc7f695ce\" xlink:show=\"new\" xlink:title=\"psysml:c79df832-858d-4f87-b041-227cc7f695ce\" xlink:type=\"simple\"><rect fill=\"#FFFFFF\" height=\"45.9375\" id=\"E8\" rx=\"10\" ry=\"10\" style=\"stroke: #383838; stroke-width: 1.5;\" width=\"42\" x=\"290\" y=\"154\"/><text fill=\"#000000\" font-family=\"sans-serif\" font-size=\"12\" font-style=\"italic\" lengthAdjust=\"spacingAndGlyphs\" textLength=\"40\" x=\"291\" y=\"170.1387\">«view»</text><text fill=\"#000000\" font-family=\"sans-serif\" font-size=\"12\" lengthAdjust=\"spacingAndGlyphs\" textLength=\"22\" x=\"300\" y=\"184.1074\">v: V</text><line style=\"stroke: #383838; stroke-width: 1.5;\" x1=\"291\" x2=\"331\" y1=\"191.9375\" y2=\"191.9375\"/></a><!--MD5=[fd4143e9d270a159db93a4ea2a975926]\n",
       "class E9--><a href=\"psysml:599cc28e-37a4-4871-97e7-8713776fcf23\" target=\"_top\" title=\"psysml:599cc28e-37a4-4871-97e7-8713776fcf23\" xlink:actuate=\"onRequest\" xlink:href=\"psysml:599cc28e-37a4-4871-97e7-8713776fcf23\" xlink:show=\"new\" xlink:title=\"psysml:599cc28e-37a4-4871-97e7-8713776fcf23\" xlink:type=\"simple\"><rect fill=\"#FFFFFF\" height=\"45.9375\" id=\"E9\" rx=\"10\" ry=\"10\" style=\"stroke: #383838; stroke-width: 1.5;\" width=\"77\" x=\"301.5\" y=\"260\"/><text fill=\"#000000\" font-family=\"sans-serif\" font-size=\"12\" font-style=\"italic\" lengthAdjust=\"spacingAndGlyphs\" textLength=\"75\" x=\"302.5\" y=\"276.1387\">«rendering»</text><text fill=\"#000000\" font-family=\"sans-serif\" font-size=\"12\" lengthAdjust=\"spacingAndGlyphs\" textLength=\"13\" x=\"333.5\" y=\"290.1074\">r1</text><line style=\"stroke: #383838; stroke-width: 1.5;\" x1=\"302.5\" x2=\"377.5\" y1=\"297.9375\" y2=\"297.9375\"/></a><a href=\"psysml:d8eb8e98-9fc5-4554-bb79-0a7fb3af234b\" target=\"_top\" title=\"psysml:d8eb8e98-9fc5-4554-bb79-0a7fb3af234b\" xlink:actuate=\"onRequest\" xlink:href=\"psysml:d8eb8e98-9fc5-4554-bb79-0a7fb3af234b\" xlink:show=\"new\" xlink:title=\"psysml:d8eb8e98-9fc5-4554-bb79-0a7fb3af234b\" xlink:type=\"simple\"><polygon fill=\"#FFFFFF\" points=\"122,41,138,41,145,63.2969,152,63.2969,152,93.5938,122,93.5938,122,41\" style=\"stroke: #000000; stroke-width: 1.5;\"/><line style=\"stroke: #000000; stroke-width: 1.5;\" x1=\"122\" x2=\"145\" y1=\"63.2969\" y2=\"63.2969\"/><text fill=\"#000000\" font-family=\"sans-serif\" font-size=\"14\" font-weight=\"bold\" lengthAdjust=\"spacingAndGlyphs\" textLength=\"10\" x=\"126\" y=\"55.9951\">P</text></a><!--MD5=[85d356282659285ab4b2cfe2f634dd2b]\n",
       "reverse link E5 to E6--><a href=\"psysml:edb93869-3e30-4330-ae7d-f0dbadb8ae6e\" target=\"_top\" title=\"psysml:edb93869-3e30-4330-ae7d-f0dbadb8ae6e\" xlink:actuate=\"onRequest\" xlink:href=\"psysml:edb93869-3e30-4330-ae7d-f0dbadb8ae6e\" xlink:show=\"new\" xlink:title=\"psysml:edb93869-3e30-4330-ae7d-f0dbadb8ae6e\" xlink:type=\"simple\"><path d=\"M218.61,96.57 C190.28,114.48 154.1,137.36 127.85,153.96 \" fill=\"none\" id=\"E5&lt;-E6\" style=\"stroke: #383838; stroke-width: 1.0;\"/><polygon fill=\"#383838\" points=\"229.82,89.48,222.6111,89.2999,219.6723,95.8849,226.8811,96.0651,229.82,89.48\" style=\"stroke: #383838; stroke-width: 1.0;\"/></a><!--MD5=[a717450b82c80b9240a525fa862496af]\n",
       "link E6 to E3--><a href=\"psysml:678c28b1-b825-4869-b6db-341a5ef18df5\" target=\"_top\" title=\"psysml:678c28b1-b825-4869-b6db-341a5ef18df5\" xlink:actuate=\"onRequest\" xlink:href=\"psysml:678c28b1-b825-4869-b6db-341a5ef18df5\" xlink:show=\"new\" xlink:title=\"psysml:678c28b1-b825-4869-b6db-341a5ef18df5\" xlink:type=\"simple\"><path d=\"M90.46,200.06 C89.12,211.64 87.44,226.23 85.86,239.87 \" fill=\"none\" id=\"E6-&gt;E3\" style=\"stroke: #383838; stroke-width: 1.0;\"/><polygon fill=\"#FFFFFF\" points=\"83.54,259.98,78.757,240.3046,92.6653,241.9044,83.54,259.98\" style=\"stroke: #383838; stroke-width: 1.0;\"/><ellipse cx=\"81.3953\" cy=\"234.8704\" fill=\"#383838\" rx=\"2\" ry=\"2\" style=\"stroke: #383838; stroke-width: 1.0;\"/><ellipse cx=\"91.3298\" cy=\"236.0132\" fill=\"#383838\" rx=\"2\" ry=\"2\" style=\"stroke: #383838; stroke-width: 1.0;\"/></a><!--MD5=[6bdd27f9905911a7e892a3dc65cf6b7c]\n",
       "link E7 to E4--><a href=\"psysml:e01b0a28-1744-4d35-a29d-a960e4229aec\" target=\"_top\" title=\"psysml:e01b0a28-1744-4d35-a29d-a960e4229aec\" xlink:actuate=\"onRequest\" xlink:href=\"psysml:e01b0a28-1744-4d35-a29d-a960e4229aec\" xlink:show=\"new\" xlink:title=\"psysml:e01b0a28-1744-4d35-a29d-a960e4229aec\" xlink:type=\"simple\"><path d=\"M216,200.06 C216,211.64 216,226.23 216,239.87 \" fill=\"none\" id=\"E7-&gt;E4\" style=\"stroke: #383838; stroke-width: 1.0;\"/><polygon fill=\"#FFFFFF\" points=\"216,259.98,209,240.98,223,240.98,216,259.98\" style=\"stroke: #383838; stroke-width: 1.0;\"/><ellipse cx=\"211\" cy=\"235.28\" fill=\"#383838\" rx=\"2\" ry=\"2\" style=\"stroke: #383838; stroke-width: 1.0;\"/><ellipse cx=\"221\" cy=\"235.28\" fill=\"#383838\" rx=\"2\" ry=\"2\" style=\"stroke: #383838; stroke-width: 1.0;\"/></a><!--MD5=[452b418e7f8a40397a49b8c0a78acc5b]\n",
       "reverse link E5 to E7--><a href=\"psysml:d3ad1959-ed24-48c6-b8cb-3101ea5444ce\" target=\"_top\" title=\"psysml:d3ad1959-ed24-48c6-b8cb-3101ea5444ce\" xlink:actuate=\"onRequest\" xlink:href=\"psysml:d3ad1959-ed24-48c6-b8cb-3101ea5444ce\" xlink:show=\"new\" xlink:title=\"psysml:d3ad1959-ed24-48c6-b8cb-3101ea5444ce\" xlink:type=\"simple\"><path d=\"M248.1,102.57 C240.81,119.26 232.23,138.89 225.77,153.65 \" fill=\"none\" id=\"E5&lt;-E7\" style=\"stroke: #383838; stroke-width: 1.0;\"/><polygon fill=\"#383838\" points=\"253.38,90.51,247.31,94.4029,248.5688,101.5033,254.6388,97.6104,253.38,90.51\" style=\"stroke: #383838; stroke-width: 1.0;\"/><text fill=\"#000000\" font-family=\"sans-serif\" font-size=\"13\" lengthAdjust=\"spacingAndGlyphs\" textLength=\"24\" x=\"201.1986\" y=\"142.8366\">0..1</text></a><!--MD5=[1ccb2481ffa92f8d51a74ee30c51832a]\n",
       "link E8 to E5--><a href=\"psysml:3896f3dd-ac25-48cd-93fb-dac3b3d02068\" target=\"_top\" title=\"psysml:3896f3dd-ac25-48cd-93fb-dac3b3d02068\" xlink:actuate=\"onRequest\" xlink:href=\"psysml:3896f3dd-ac25-48cd-93fb-dac3b3d02068\" xlink:show=\"new\" xlink:title=\"psysml:3896f3dd-ac25-48cd-93fb-dac3b3d02068\" xlink:type=\"simple\"><path d=\"M312.22,153.65 C308.53,140.48 301.55,123.44 293.74,108.07 \" fill=\"none\" id=\"E8-&gt;E5\" style=\"stroke: #383838; stroke-width: 1.0;\"/><polygon fill=\"#FFFFFF\" points=\"283.97,90.51,299.3209,103.7142,287.0851,110.5174,283.97,90.51\" style=\"stroke: #383838; stroke-width: 1.0;\"/><ellipse cx=\"300.3428\" cy=\"109.6678\" fill=\"#383838\" rx=\"2\" ry=\"2\" style=\"stroke: #383838; stroke-width: 1.0;\"/><ellipse cx=\"291.6029\" cy=\"114.5273\" fill=\"#383838\" rx=\"2\" ry=\"2\" style=\"stroke: #383838; stroke-width: 1.0;\"/></a><!--MD5=[827760032d119d06bbc92f75530fd7ae]\n",
       "reverse link E5 to E8--><a href=\"psysml:c79df832-858d-4f87-b041-227cc7f695ce\" target=\"_top\" title=\"psysml:c79df832-858d-4f87-b041-227cc7f695ce\" xlink:actuate=\"onRequest\" xlink:href=\"psysml:c79df832-858d-4f87-b041-227cc7f695ce\" xlink:show=\"new\" xlink:title=\"psysml:c79df832-858d-4f87-b041-227cc7f695ce\" xlink:type=\"simple\"><path d=\"M266.44,103.07 C272.49,119.65 281.62,139.03 290.44,153.65 \" fill=\"none\" id=\"E5&lt;-E8\" style=\"stroke: #383838; stroke-width: 1.0;\"/><polygon fill=\"#383838\" points=\"262.31,90.51,260.3836,97.459,266.0572,101.9099,267.9836,94.9609,262.31,90.51\" style=\"stroke: #383838; stroke-width: 1.0;\"/><text fill=\"#000000\" font-family=\"sans-serif\" font-size=\"13\" lengthAdjust=\"spacingAndGlyphs\" textLength=\"7\" x=\"277.2746\" y=\"142.8366\">*</text></a><!--MD5=[22f5b4bae7e060dce8a1c8021efdb95b]\n",
       "reverse link E8 to E9--><a href=\"psysml:599cc28e-37a4-4871-97e7-8713776fcf23\" target=\"_top\" title=\"psysml:599cc28e-37a4-4871-97e7-8713776fcf23\" xlink:actuate=\"onRequest\" xlink:href=\"psysml:599cc28e-37a4-4871-97e7-8713776fcf23\" xlink:show=\"new\" xlink:title=\"psysml:599cc28e-37a4-4871-97e7-8713776fcf23\" xlink:type=\"simple\"><path d=\"M320.75,212.96 C325.08,228.51 330.05,246.33 333.86,259.98 \" fill=\"none\" id=\"E8&lt;-E9\" style=\"stroke: #383838; stroke-width: 1.0;\"/><polygon fill=\"#383838\" points=\"317.15,200.06,314.9066,206.9133,320.3699,211.6199,322.6133,204.7667,317.15,200.06\" style=\"stroke: #383838; stroke-width: 1.0;\"/></a><!--MD5=[7069b58386811865075fe248e5ff933c]\n",
       "@startuml\r\n",
       "skinparam linetype polyline\r\n",
       "skinparam monochrome true\r\n",
       "skinparam classbackgroundcolor white\r\n",
       "skinparam shadowing false\r\n",
       "skinparam wrapWidth 300\r\n",
       "hide circle\r\n",
       "\r\n",
       "package \"ViewTest\" as E1  [[psysml:68a4efc3-4169-49c4-b08f-98091c4bc0be ]]  {\r\n",
       "package \"P\" as E2  [[psysml:d8eb8e98-9fc5-4554-bb79-0a7fb3af234b ]]  {\r\n",
       "}\r\n",
       "comp def \"VP\" as E3  <<(T,blue)viewpoint def>> [[psysml:0e16ef0b-675e-475c-a6ab-030697702310 ]] {\r\n",
       "}\r\n",
       "comp def \"R\" as E4  <<(T,blue)rendering def>> [[psysml:80b9aeea-925b-4b3a-8c84-ce381a5e60ed ]] {\r\n",
       "}\r\n",
       "comp def \"V\" as E5  <<(T,blue)view def>> [[psysml:fa67c82a-cf4c-4211-8405-b886e7fced61 ]] {\r\n",
       "}\r\n",
       "comp usage \"vp: VP\" as E6  <<(T,blue)viewpoint>> [[psysml:edb93869-3e30-4330-ae7d-f0dbadb8ae6e ]] {\r\n",
       "}\r\n",
       "comp usage \"r: R\" as E7  <<(T,blue)rendering>> [[psysml:d3ad1959-ed24-48c6-b8cb-3101ea5444ce ]] {\r\n",
       "}\r\n",
       "comp usage \"v: V\" as E8  <<(T,blue)view>> [[psysml:c79df832-858d-4f87-b041-227cc7f695ce ]] {\r\n",
       "}\r\n",
       "comp usage \"r1\" as E9  <<(T,blue)rendering>> [[psysml:599cc28e-37a4-4871-97e7-8713776fcf23 ]] {\r\n",
       "}\r\n",
       "E5 *- - E6 [[psysml:edb93869-3e30-4330-ae7d-f0dbadb8ae6e ]] \r\n",
       "E6 - -:|> E3 [[psysml:678c28b1-b825-4869-b6db-341a5ef18df5 ]] \r\n",
       "E7 - -:|> E4 [[psysml:e01b0a28-1744-4d35-a29d-a960e4229aec ]] \r\n",
       "E5 *- - \"0..1\"E7 [[psysml:d3ad1959-ed24-48c6-b8cb-3101ea5444ce ]] \r\n",
       "E8 - -:|> E5 [[psysml:3896f3dd-ac25-48cd-93fb-dac3b3d02068 ]] \r\n",
       "E5 *- - \"*\"E8 [[psysml:c79df832-858d-4f87-b041-227cc7f695ce ]] \r\n",
       "E8 *- - E9 [[psysml:599cc28e-37a4-4871-97e7-8713776fcf23 ]] \r\n",
       "}\r\n",
       "@enduml\r\n",
       "\n",
       "PlantUML version 1.2020.13(Sat Jun 13 12:26:38 UTC 2020)\n",
       "(EPL source distribution)\n",
       "Java Runtime: OpenJDK Runtime Environment\n",
       "JVM: OpenJDK 64-Bit Server VM\n",
       "Default Encoding: UTF-8\n",
       "Language: en\n",
       "Country: null\n",
       "--></g></svg>"
      ]
     },
     "execution_count": 10,
     "metadata": {},
     "output_type": "execute_result"
    }
   ],
   "source": [
    "%viz --style=\"POLYLINE\" --view=\"Tree\" \"ViewTest\""
   ]
  },
  {
   "cell_type": "code",
   "execution_count": 11,
   "id": "solar-health",
   "metadata": {
    "execution": {
     "iopub.execute_input": "2021-03-25T15:10:01.746215Z",
     "iopub.status.busy": "2021-03-25T15:10:01.744897Z",
     "iopub.status.idle": "2021-03-25T15:10:01.759142Z",
     "shell.execute_reply": "2021-03-25T15:10:01.756867Z"
    }
   },
   "outputs": [
    {
     "data": {
      "image/svg+xml": [
       "<?xml version=\"1.0\" encoding=\"UTF-8\" standalone=\"no\"?><svg xmlns=\"http://www.w3.org/2000/svg\" xmlns:xlink=\"http://www.w3.org/1999/xlink\" contentScriptType=\"application/ecmascript\" contentStyleType=\"text/css\" height=\"12px\" preserveAspectRatio=\"none\" style=\"width:12px;height:12px;\" version=\"1.1\" viewBox=\"0 0 12 12\" width=\"12px\" zoomAndPan=\"magnify\"><defs/><g><!--MD5=[896ac0e7a515d8dd7765a661cb4ee08b]\n",
       "@startuml\r\n",
       "skinparam linetype polyline\r\n",
       "skinparam monochrome true\r\n",
       "skinparam classbackgroundcolor white\r\n",
       "skinparam shadowing false\r\n",
       "skinparam wrapWidth 300\r\n",
       "hide circle\r\n",
       "\r\n",
       "@enduml\r\n",
       "\n",
       "PlantUML version 1.2020.13(Sat Jun 13 12:26:38 UTC 2020)\n",
       "(EPL source distribution)\n",
       "Java Runtime: OpenJDK Runtime Environment\n",
       "JVM: OpenJDK 64-Bit Server VM\n",
       "Default Encoding: UTF-8\n",
       "Language: en\n",
       "Country: null\n",
       "--></g></svg>"
      ]
     },
     "execution_count": 11,
     "metadata": {},
     "output_type": "execute_result"
    }
   ],
   "source": [
    "%viz --style=\"POLYLINE\" --view=\"State\" \"ViewTest\""
   ]
  },
  {
   "cell_type": "code",
   "execution_count": 12,
   "id": "concrete-frame",
   "metadata": {
    "execution": {
     "iopub.execute_input": "2021-03-25T15:10:01.816089Z",
     "iopub.status.busy": "2021-03-25T15:10:01.814524Z",
     "iopub.status.idle": "2021-03-25T15:10:01.957828Z",
     "shell.execute_reply": "2021-03-25T15:10:01.958300Z"
    }
   },
   "outputs": [
    {
     "data": {
      "image/svg+xml": [
       "<?xml version=\"1.0\" encoding=\"UTF-8\" standalone=\"no\"?><svg xmlns=\"http://www.w3.org/2000/svg\" xmlns:xlink=\"http://www.w3.org/1999/xlink\" contentScriptType=\"application/ecmascript\" contentStyleType=\"text/css\" height=\"278px\" preserveAspectRatio=\"none\" style=\"width:778px;height:278px;\" version=\"1.1\" viewBox=\"0 0 778 278\" width=\"778px\" zoomAndPan=\"magnify\"><defs/><g><!--MD5=[fbc87193dbaf4d95561dea2c320d4a47]\n",
       "cluster E1--><a href=\"psysml:68a4efc3-4169-49c4-b08f-98091c4bc0be\" target=\"_top\" title=\"psysml:68a4efc3-4169-49c4-b08f-98091c4bc0be\" xlink:actuate=\"onRequest\" xlink:href=\"psysml:68a4efc3-4169-49c4-b08f-98091c4bc0be\" xlink:show=\"new\" xlink:title=\"psysml:68a4efc3-4169-49c4-b08f-98091c4bc0be\" xlink:type=\"simple\"><polygon fill=\"#FFFFFF\" points=\"16,6,96,6,103,28.2969,756,28.2969,756,266,16,266,16,6\" style=\"stroke: #000000; stroke-width: 1.5;\"/><line style=\"stroke: #000000; stroke-width: 1.5;\" x1=\"16\" x2=\"103\" y1=\"28.2969\" y2=\"28.2969\"/><text fill=\"#000000\" font-family=\"sans-serif\" font-size=\"14\" font-weight=\"bold\" lengthAdjust=\"spacingAndGlyphs\" textLength=\"74\" x=\"20\" y=\"20.9951\">ViewTest</text></a><!--MD5=[de5ec2e2e8f62f467e546659f5068c88]\n",
       "cluster E5--><a href=\"psysml:fa67c82a-cf4c-4211-8405-b886e7fced61\" target=\"_top\" title=\"psysml:fa67c82a-cf4c-4211-8405-b886e7fced61\" xlink:actuate=\"onRequest\" xlink:href=\"psysml:fa67c82a-cf4c-4211-8405-b886e7fced61\" xlink:show=\"new\" xlink:title=\"psysml:fa67c82a-cf4c-4211-8405-b886e7fced61\" xlink:type=\"simple\"><rect fill=\"#FFFFFF\" height=\"193\" id=\"E5\" style=\"stroke: #383838; stroke-width: 1.5;\" width=\"329\" x=\"403\" y=\"49\"/><rect fill=\"#F8F8F8\" height=\"37.9375\" style=\"stroke: #383838; stroke-width: 1.5;\" width=\"329\" x=\"403\" y=\"49\"/><text fill=\"#000000\" font-family=\"sans-serif\" font-size=\"12\" font-style=\"italic\" lengthAdjust=\"spacingAndGlyphs\" textLength=\"64\" x=\"535.5\" y=\"65.1387\">«view def»</text><text fill=\"#000000\" font-family=\"sans-serif\" font-size=\"12\" lengthAdjust=\"spacingAndGlyphs\" textLength=\"8\" x=\"563.5\" y=\"79.1074\">V</text></a><!--MD5=[14e3b0961a2654348d326746436168a1]\n",
       "cluster E6--><a href=\"psysml:edb93869-3e30-4330-ae7d-f0dbadb8ae6e\" target=\"_top\" title=\"psysml:edb93869-3e30-4330-ae7d-f0dbadb8ae6e\" xlink:actuate=\"onRequest\" xlink:href=\"psysml:edb93869-3e30-4330-ae7d-f0dbadb8ae6e\" xlink:show=\"new\" xlink:title=\"psysml:edb93869-3e30-4330-ae7d-f0dbadb8ae6e\" xlink:type=\"simple\"><rect fill=\"#FFFFFF\" height=\"110\" id=\"E6\" rx=\"10\" ry=\"10\" style=\"stroke: #383838; stroke-width: 1.5;\" width=\"114\" x=\"594\" y=\"108\"/><rect fill=\"#F8F8F8\" height=\"37.9375\" rx=\"10\" ry=\"10\" style=\"stroke: #F8F8F8; stroke-width: 1.5;\" width=\"114\" x=\"594\" y=\"108\"/><rect fill=\"#F8F8F8\" height=\"10\" style=\"stroke: #F8F8F8; stroke-width: 1.5;\" width=\"114\" x=\"594\" y=\"135.9375\"/><rect fill=\"none\" height=\"110\" id=\"E6\" rx=\"10\" ry=\"10\" style=\"stroke: #383838; stroke-width: 1.5;\" width=\"114\" x=\"594\" y=\"108\"/><text fill=\"#000000\" font-family=\"sans-serif\" font-size=\"12\" font-style=\"italic\" lengthAdjust=\"spacingAndGlyphs\" textLength=\"72\" x=\"615\" y=\"124.1387\">«viewpoint»</text><text fill=\"#000000\" font-family=\"sans-serif\" font-size=\"12\" lengthAdjust=\"spacingAndGlyphs\" textLength=\"38\" x=\"632\" y=\"138.1074\">vp: VP</text><line style=\"stroke: #383838; stroke-width: 1.0;\" x1=\"594\" x2=\"708\" y1=\"145.9375\" y2=\"145.9375\"/></a><!--MD5=[7f149f147074ac12df2cb0a7728a5fb0]\n",
       "cluster E9--><a href=\"psysml:c79df832-858d-4f87-b041-227cc7f695ce\" target=\"_top\" title=\"psysml:c79df832-858d-4f87-b041-227cc7f695ce\" xlink:actuate=\"onRequest\" xlink:href=\"psysml:c79df832-858d-4f87-b041-227cc7f695ce\" xlink:show=\"new\" xlink:title=\"psysml:c79df832-858d-4f87-b041-227cc7f695ce\" xlink:type=\"simple\"><rect fill=\"#FFFFFF\" height=\"91\" id=\"E9\" rx=\"10\" ry=\"10\" style=\"stroke: #383838; stroke-width: 1.5;\" width=\"82\" x=\"488\" y=\"125.5\"/><rect fill=\"#F8F8F8\" height=\"23.9688\" rx=\"10\" ry=\"10\" style=\"stroke: #F8F8F8; stroke-width: 1.5;\" width=\"82\" x=\"488\" y=\"125.5\"/><rect fill=\"#F8F8F8\" height=\"10\" style=\"stroke: #F8F8F8; stroke-width: 1.5;\" width=\"82\" x=\"488\" y=\"139.4688\"/><rect fill=\"none\" height=\"91\" id=\"E9\" rx=\"10\" ry=\"10\" style=\"stroke: #383838; stroke-width: 1.5;\" width=\"82\" x=\"488\" y=\"125.5\"/><text fill=\"#000000\" font-family=\"sans-serif\" font-size=\"12\" lengthAdjust=\"spacingAndGlyphs\" textLength=\"22\" x=\"518\" y=\"141.6387\">v: V</text><line style=\"stroke: #383838; stroke-width: 1.0;\" x1=\"488\" x2=\"570\" y1=\"149.4688\" y2=\"149.4688\"/></a><!--MD5=[09b614a08d8cba4a07c9adeb5e0fee81]\n",
       "class E3--><a href=\"psysml:0e16ef0b-675e-475c-a6ab-030697702310\" target=\"_top\" title=\"psysml:0e16ef0b-675e-475c-a6ab-030697702310\" xlink:actuate=\"onRequest\" xlink:href=\"psysml:0e16ef0b-675e-475c-a6ab-030697702310\" xlink:show=\"new\" xlink:title=\"psysml:0e16ef0b-675e-475c-a6ab-030697702310\" xlink:type=\"simple\"><rect fill=\"#FFFFFF\" height=\"53.9375\" id=\"E3\" style=\"stroke: #383838; stroke-width: 1.5;\" width=\"146\" x=\"238\" y=\"153.5\"/><text fill=\"#000000\" font-family=\"sans-serif\" font-size=\"12\" font-style=\"italic\" lengthAdjust=\"spacingAndGlyphs\" textLength=\"144\" x=\"239\" y=\"169.6387\">«(T,blue)viewpoint def»</text><text fill=\"#000000\" font-family=\"sans-serif\" font-size=\"12\" lengthAdjust=\"spacingAndGlyphs\" textLength=\"16\" x=\"303\" y=\"183.6074\">VP</text><line style=\"stroke: #383838; stroke-width: 1.5;\" x1=\"239\" x2=\"383\" y1=\"191.4375\" y2=\"191.4375\"/><line style=\"stroke: #383838; stroke-width: 1.5;\" x1=\"239\" x2=\"383\" y1=\"199.4375\" y2=\"199.4375\"/></a><a href=\"psysml:d8eb8e98-9fc5-4554-bb79-0a7fb3af234b\" target=\"_top\" title=\"psysml:d8eb8e98-9fc5-4554-bb79-0a7fb3af234b\" xlink:actuate=\"onRequest\" xlink:href=\"psysml:d8eb8e98-9fc5-4554-bb79-0a7fb3af234b\" xlink:show=\"new\" xlink:title=\"psysml:d8eb8e98-9fc5-4554-bb79-0a7fb3af234b\" xlink:type=\"simple\"><polygon fill=\"#FFFFFF\" points=\"173,154,189,154,196,176.2969,203,176.2969,203,206.5938,173,206.5938,173,154\" style=\"stroke: #000000; stroke-width: 1.5;\"/><line style=\"stroke: #000000; stroke-width: 1.5;\" x1=\"173\" x2=\"196\" y1=\"176.2969\" y2=\"176.2969\"/><text fill=\"#000000\" font-family=\"sans-serif\" font-size=\"14\" font-weight=\"bold\" lengthAdjust=\"spacingAndGlyphs\" textLength=\"10\" x=\"177\" y=\"168.9951\">P</text></a><g id=\"E1.E4\"><a href=\"psysml:80b9aeea-925b-4b3a-8c84-ce381a5e60ed\" target=\"_top\" title=\"psysml:80b9aeea-925b-4b3a-8c84-ce381a5e60ed\" xlink:actuate=\"onRequest\" xlink:href=\"psysml:80b9aeea-925b-4b3a-8c84-ce381a5e60ed\" xlink:show=\"new\" xlink:title=\"psysml:80b9aeea-925b-4b3a-8c84-ce381a5e60ed\" xlink:type=\"simple\"><rect fill=\"#FFFFFF\" height=\"42.9375\" id=\"E4\" style=\"stroke: #383838; stroke-width: 1.5;\" width=\"106\" x=\"32\" y=\"159\"/><rect fill=\"#F8F8F8\" height=\"37.9375\" style=\"stroke: #383838; stroke-width: 1.5;\" width=\"106\" x=\"32\" y=\"159\"/><text fill=\"#000000\" font-family=\"sans-serif\" font-size=\"12\" font-style=\"italic\" lengthAdjust=\"spacingAndGlyphs\" textLength=\"99\" x=\"35.5\" y=\"175.1387\">«rendering def»</text><text fill=\"#000000\" font-family=\"sans-serif\" font-size=\"12\" lengthAdjust=\"spacingAndGlyphs\" textLength=\"8\" x=\"81\" y=\"189.1074\">R</text></a></g><g id=\"E1.E5.E6.E7\"><a href=\"psysml:df90ec85-1f95-42f9-8740-37e2136842a3\" target=\"_top\" title=\"psysml:df90ec85-1f95-42f9-8740-37e2136842a3\" xlink:actuate=\"onRequest\" xlink:href=\"psysml:df90ec85-1f95-42f9-8740-37e2136842a3\" xlink:show=\"new\" xlink:title=\"psysml:df90ec85-1f95-42f9-8740-37e2136842a3\" xlink:type=\"simple\"><rect fill=\"#FFFFFF\" height=\"42.9375\" id=\"E7\" rx=\"10\" ry=\"10\" style=\"stroke: #383838; stroke-width: 1.5;\" width=\"82\" x=\"610\" y=\"159\"/><rect fill=\"#F8F8F8\" height=\"37.9375\" rx=\"10\" ry=\"10\" style=\"stroke: #F8F8F8; stroke-width: 1.5;\" width=\"82\" x=\"610\" y=\"159\"/><rect fill=\"#F8F8F8\" height=\"10\" style=\"stroke: #F8F8F8; stroke-width: 1.5;\" width=\"82\" x=\"610\" y=\"186.9375\"/><rect fill=\"none\" height=\"42.9375\" id=\"E7\" rx=\"10\" ry=\"10\" style=\"stroke: #383838; stroke-width: 1.5;\" width=\"82\" x=\"610\" y=\"159\"/><text fill=\"#000000\" font-family=\"sans-serif\" font-size=\"12\" font-style=\"italic\" lengthAdjust=\"spacingAndGlyphs\" textLength=\"75\" x=\"613.5\" y=\"175.1387\">«reference»</text><text fill=\"#000000\" font-family=\"sans-serif\" font-size=\"12\" lengthAdjust=\"spacingAndGlyphs\" textLength=\"26\" x=\"638\" y=\"189.1074\">subj</text></a></g><g id=\"E1.E5.E8\"><a href=\"psysml:d3ad1959-ed24-48c6-b8cb-3101ea5444ce\" target=\"_top\" title=\"psysml:d3ad1959-ed24-48c6-b8cb-3101ea5444ce\" xlink:actuate=\"onRequest\" xlink:href=\"psysml:d3ad1959-ed24-48c6-b8cb-3101ea5444ce\" xlink:show=\"new\" xlink:title=\"psysml:d3ad1959-ed24-48c6-b8cb-3101ea5444ce\" xlink:type=\"simple\"><rect fill=\"#FFFFFF\" height=\"40\" id=\"E8\" rx=\"10\" ry=\"10\" style=\"stroke: #383838; stroke-width: 1.5;\" width=\"50\" x=\"419\" y=\"160.5\"/><rect fill=\"#F8F8F8\" height=\"23.9688\" rx=\"10\" ry=\"10\" style=\"stroke: #F8F8F8; stroke-width: 1.5;\" width=\"50\" x=\"419\" y=\"160.5\"/><rect fill=\"#F8F8F8\" height=\"10\" style=\"stroke: #F8F8F8; stroke-width: 1.5;\" width=\"50\" x=\"419\" y=\"174.4688\"/><rect fill=\"none\" height=\"40\" id=\"E8\" rx=\"10\" ry=\"10\" style=\"stroke: #383838; stroke-width: 1.5;\" width=\"50\" x=\"419\" y=\"160.5\"/><text fill=\"#000000\" font-family=\"sans-serif\" font-size=\"12\" lengthAdjust=\"spacingAndGlyphs\" textLength=\"21\" x=\"433.5\" y=\"176.6387\">r: R</text></a></g><g id=\"E1.E5.E9.E10\"><a href=\"psysml:599cc28e-37a4-4871-97e7-8713776fcf23\" target=\"_top\" title=\"psysml:599cc28e-37a4-4871-97e7-8713776fcf23\" xlink:actuate=\"onRequest\" xlink:href=\"psysml:599cc28e-37a4-4871-97e7-8713776fcf23\" xlink:show=\"new\" xlink:title=\"psysml:599cc28e-37a4-4871-97e7-8713776fcf23\" xlink:type=\"simple\"><rect fill=\"#FFFFFF\" height=\"40\" id=\"E10\" rx=\"10\" ry=\"10\" style=\"stroke: #383838; stroke-width: 1.5;\" width=\"50\" x=\"504\" y=\"160.5\"/><rect fill=\"#F8F8F8\" height=\"23.9688\" rx=\"10\" ry=\"10\" style=\"stroke: #F8F8F8; stroke-width: 1.5;\" width=\"50\" x=\"504\" y=\"160.5\"/><rect fill=\"#F8F8F8\" height=\"10\" style=\"stroke: #F8F8F8; stroke-width: 1.5;\" width=\"50\" x=\"504\" y=\"174.4688\"/><rect fill=\"none\" height=\"40\" id=\"E10\" rx=\"10\" ry=\"10\" style=\"stroke: #383838; stroke-width: 1.5;\" width=\"50\" x=\"504\" y=\"160.5\"/><text fill=\"#000000\" font-family=\"sans-serif\" font-size=\"12\" lengthAdjust=\"spacingAndGlyphs\" textLength=\"13\" x=\"522.5\" y=\"176.6387\">r1</text></a></g><!--MD5=[1ac8d049f2bd43bcb3142bbabeaaf49d]\n",
       "@startuml\r\n",
       "skinparam ranksep 8\r\n",
       "skinparam rectangle {\r\n",
       " backgroundColor<<block>> LightGreen\r\n",
       "}\r\n",
       "skinparam linetype polyline\r\n",
       "skinparam monochrome true\r\n",
       "skinparam classbackgroundcolor white\r\n",
       "skinparam shadowing false\r\n",
       "skinparam wrapWidth 300\r\n",
       "hide circle\r\n",
       "\r\n",
       "package \"ViewTest\" as E1  [[psysml:68a4efc3-4169-49c4-b08f-98091c4bc0be ]]  {\r\n",
       "package \"P\" as E2  [[psysml:d8eb8e98-9fc5-4554-bb79-0a7fb3af234b ]]  {\r\n",
       "}\r\n",
       "def \"VP\" as E3  <<(T,blue)viewpoint def>> [[psysml:0e16ef0b-675e-475c-a6ab-030697702310 ]] \r\n",
       "rec def \"R\" as E4  <<(T,blue)rendering def>> [[psysml:80b9aeea-925b-4b3a-8c84-ce381a5e60ed ]] {\r\n",
       "}\r\n",
       "rec def \"V\" as E5  <<(T,blue)view def>> [[psysml:fa67c82a-cf4c-4211-8405-b886e7fced61 ]] {\r\n",
       "rec usage \"vp: VP\" as E6  <<(T,blue)viewpoint>> [[psysml:edb93869-3e30-4330-ae7d-f0dbadb8ae6e ]] {\r\n",
       "rec usage \"subj\" as E7  <<(T,blue)reference>> [[psysml:df90ec85-1f95-42f9-8740-37e2136842a3 ]] {\r\n",
       "}\r\n",
       "}\r\n",
       "rec usage \"r: R\" as E8  [[psysml:d3ad1959-ed24-48c6-b8cb-3101ea5444ce ]] {\r\n",
       "}\r\n",
       "rec usage \"v: V\" as E9  [[psysml:c79df832-858d-4f87-b041-227cc7f695ce ]] {\r\n",
       "rec usage \"r1\" as E10  [[psysml:599cc28e-37a4-4871-97e7-8713776fcf23 ]] {\r\n",
       "}\r\n",
       "}\r\n",
       "}\r\n",
       "}\r\n",
       "@enduml\r\n",
       "\n",
       "PlantUML version 1.2020.13(Sat Jun 13 12:26:38 UTC 2020)\n",
       "(EPL source distribution)\n",
       "Java Runtime: OpenJDK Runtime Environment\n",
       "JVM: OpenJDK 64-Bit Server VM\n",
       "Default Encoding: UTF-8\n",
       "Language: en\n",
       "Country: null\n",
       "--></g></svg>"
      ]
     },
     "execution_count": 12,
     "metadata": {},
     "output_type": "execute_result"
    }
   ],
   "source": [
    "%viz --style=\"POLYLINE\" --view=\"Interconnection\" \"ViewTest\""
   ]
  },
  {
   "cell_type": "code",
   "execution_count": 13,
   "id": "answering-carbon",
   "metadata": {
    "execution": {
     "iopub.execute_input": "2021-03-25T15:10:02.009313Z",
     "iopub.status.busy": "2021-03-25T15:10:02.008699Z",
     "iopub.status.idle": "2021-03-25T15:10:02.017623Z",
     "shell.execute_reply": "2021-03-25T15:10:02.018041Z"
    }
   },
   "outputs": [
    {
     "data": {
      "image/svg+xml": [
       "<?xml version=\"1.0\" encoding=\"UTF-8\" standalone=\"no\"?><svg xmlns=\"http://www.w3.org/2000/svg\" xmlns:xlink=\"http://www.w3.org/1999/xlink\" contentScriptType=\"application/ecmascript\" contentStyleType=\"text/css\" height=\"12px\" preserveAspectRatio=\"none\" style=\"width:12px;height:12px;\" version=\"1.1\" viewBox=\"0 0 12 12\" width=\"12px\" zoomAndPan=\"magnify\"><defs/><g><!--MD5=[97bbf32f66ccd50cbc40d92ea8f5a65e]\n",
       "@startuml\r\n",
       "skinparam ranksep 8\r\n",
       "skinparam linetype polyline\r\n",
       "skinparam monochrome true\r\n",
       "skinparam classbackgroundcolor white\r\n",
       "skinparam shadowing false\r\n",
       "skinparam wrapWidth 300\r\n",
       "hide circle\r\n",
       "\r\n",
       "@enduml\r\n",
       "\n",
       "PlantUML version 1.2020.13(Sat Jun 13 12:26:38 UTC 2020)\n",
       "(EPL source distribution)\n",
       "Java Runtime: OpenJDK Runtime Environment\n",
       "JVM: OpenJDK 64-Bit Server VM\n",
       "Default Encoding: UTF-8\n",
       "Language: en\n",
       "Country: null\n",
       "--></g></svg>"
      ]
     },
     "execution_count": 13,
     "metadata": {},
     "output_type": "execute_result"
    }
   ],
   "source": [
    "%viz --style=\"POLYLINE\" --view=\"Action\" \"ViewTest\""
   ]
  },
  {
   "cell_type": "code",
   "execution_count": 14,
   "id": "modern-bridal",
   "metadata": {
    "execution": {
     "iopub.execute_input": "2021-03-25T15:10:02.071173Z",
     "iopub.status.busy": "2021-03-25T15:10:02.070011Z",
     "iopub.status.idle": "2021-03-25T15:10:02.191776Z",
     "shell.execute_reply": "2021-03-25T15:10:02.190079Z"
    }
   },
   "outputs": [
    {
     "data": {
      "image/svg+xml": [
       "<?xml version=\"1.0\" encoding=\"UTF-8\" standalone=\"no\"?><svg xmlns=\"http://www.w3.org/2000/svg\" xmlns:xlink=\"http://www.w3.org/1999/xlink\" contentScriptType=\"application/ecmascript\" contentStyleType=\"text/css\" height=\"334px\" preserveAspectRatio=\"none\" style=\"width:417px;height:334px;\" version=\"1.1\" viewBox=\"0 0 417 334\" width=\"417px\" zoomAndPan=\"magnify\"><defs/><g><!--MD5=[fbc87193dbaf4d95561dea2c320d4a47]\n",
       "cluster E1--><a href=\"psysml:68a4efc3-4169-49c4-b08f-98091c4bc0be\" target=\"_top\" title=\"psysml:68a4efc3-4169-49c4-b08f-98091c4bc0be\" xlink:actuate=\"onRequest\" xlink:href=\"psysml:68a4efc3-4169-49c4-b08f-98091c4bc0be\" xlink:show=\"new\" xlink:title=\"psysml:68a4efc3-4169-49c4-b08f-98091c4bc0be\" xlink:type=\"simple\"><polygon fill=\"#FFFFFF\" points=\"16,6,96,6,103,28.2969,395,28.2969,395,322,16,322,16,6\" style=\"stroke: #000000; stroke-width: 1.5;\"/><line style=\"stroke: #000000; stroke-width: 1.5;\" x1=\"16\" x2=\"103\" y1=\"28.2969\" y2=\"28.2969\"/><text fill=\"#000000\" font-family=\"sans-serif\" font-size=\"14\" font-weight=\"bold\" lengthAdjust=\"spacingAndGlyphs\" textLength=\"74\" x=\"20\" y=\"20.9951\">ViewTest</text></a><!--MD5=[09b614a08d8cba4a07c9adeb5e0fee81]\n",
       "class E3--><a href=\"psysml:0e16ef0b-675e-475c-a6ab-030697702310\" target=\"_top\" title=\"psysml:0e16ef0b-675e-475c-a6ab-030697702310\" xlink:actuate=\"onRequest\" xlink:href=\"psysml:0e16ef0b-675e-475c-a6ab-030697702310\" xlink:show=\"new\" xlink:title=\"psysml:0e16ef0b-675e-475c-a6ab-030697702310\" xlink:type=\"simple\"><rect fill=\"#FFFFFF\" height=\"45.9375\" id=\"E3\" style=\"stroke: #383838; stroke-width: 1.5;\" width=\"98\" x=\"32\" y=\"260\"/><text fill=\"#000000\" font-family=\"sans-serif\" font-size=\"12\" font-style=\"italic\" lengthAdjust=\"spacingAndGlyphs\" textLength=\"96\" x=\"33\" y=\"276.1387\">«viewpoint def»</text><text fill=\"#000000\" font-family=\"sans-serif\" font-size=\"12\" lengthAdjust=\"spacingAndGlyphs\" textLength=\"16\" x=\"73\" y=\"290.1074\">VP</text><line style=\"stroke: #383838; stroke-width: 1.5;\" x1=\"33\" x2=\"129\" y1=\"297.9375\" y2=\"297.9375\"/></a><!--MD5=[ebbe1d658d1005bcc118a6aa81145e00]\n",
       "class E4--><a href=\"psysml:80b9aeea-925b-4b3a-8c84-ce381a5e60ed\" target=\"_top\" title=\"psysml:80b9aeea-925b-4b3a-8c84-ce381a5e60ed\" xlink:actuate=\"onRequest\" xlink:href=\"psysml:80b9aeea-925b-4b3a-8c84-ce381a5e60ed\" xlink:show=\"new\" xlink:title=\"psysml:80b9aeea-925b-4b3a-8c84-ce381a5e60ed\" xlink:type=\"simple\"><rect fill=\"#FFFFFF\" height=\"45.9375\" id=\"E4\" style=\"stroke: #383838; stroke-width: 1.5;\" width=\"101\" x=\"165.5\" y=\"260\"/><text fill=\"#000000\" font-family=\"sans-serif\" font-size=\"12\" font-style=\"italic\" lengthAdjust=\"spacingAndGlyphs\" textLength=\"99\" x=\"166.5\" y=\"276.1387\">«rendering def»</text><text fill=\"#000000\" font-family=\"sans-serif\" font-size=\"12\" lengthAdjust=\"spacingAndGlyphs\" textLength=\"8\" x=\"212\" y=\"290.1074\">R</text><line style=\"stroke: #383838; stroke-width: 1.5;\" x1=\"166.5\" x2=\"265.5\" y1=\"297.9375\" y2=\"297.9375\"/></a><!--MD5=[270fce915f116d4de14055a7c1d9a0f3]\n",
       "class E5--><a href=\"psysml:fa67c82a-cf4c-4211-8405-b886e7fced61\" target=\"_top\" title=\"psysml:fa67c82a-cf4c-4211-8405-b886e7fced61\" xlink:actuate=\"onRequest\" xlink:href=\"psysml:fa67c82a-cf4c-4211-8405-b886e7fced61\" xlink:show=\"new\" xlink:title=\"psysml:fa67c82a-cf4c-4211-8405-b886e7fced61\" xlink:type=\"simple\"><rect fill=\"#FFFFFF\" height=\"45.9375\" id=\"E5\" style=\"stroke: #383838; stroke-width: 1.5;\" width=\"66\" x=\"230\" y=\"44.5\"/><text fill=\"#000000\" font-family=\"sans-serif\" font-size=\"12\" font-style=\"italic\" lengthAdjust=\"spacingAndGlyphs\" textLength=\"64\" x=\"231\" y=\"60.6387\">«view def»</text><text fill=\"#000000\" font-family=\"sans-serif\" font-size=\"12\" lengthAdjust=\"spacingAndGlyphs\" textLength=\"8\" x=\"259\" y=\"74.6074\">V</text><line style=\"stroke: #383838; stroke-width: 1.5;\" x1=\"231\" x2=\"295\" y1=\"82.4375\" y2=\"82.4375\"/></a><!--MD5=[60a26617385b1d2d0262a64233df1f8d]\n",
       "class E6--><a href=\"psysml:edb93869-3e30-4330-ae7d-f0dbadb8ae6e\" target=\"_top\" title=\"psysml:edb93869-3e30-4330-ae7d-f0dbadb8ae6e\" xlink:actuate=\"onRequest\" xlink:href=\"psysml:edb93869-3e30-4330-ae7d-f0dbadb8ae6e\" xlink:show=\"new\" xlink:title=\"psysml:edb93869-3e30-4330-ae7d-f0dbadb8ae6e\" xlink:type=\"simple\"><rect fill=\"#FFFFFF\" height=\"45.9375\" id=\"E6\" rx=\"10\" ry=\"10\" style=\"stroke: #383838; stroke-width: 1.5;\" width=\"74\" x=\"56\" y=\"154\"/><text fill=\"#000000\" font-family=\"sans-serif\" font-size=\"12\" font-style=\"italic\" lengthAdjust=\"spacingAndGlyphs\" textLength=\"72\" x=\"57\" y=\"170.1387\">«viewpoint»</text><text fill=\"#000000\" font-family=\"sans-serif\" font-size=\"12\" lengthAdjust=\"spacingAndGlyphs\" textLength=\"38\" x=\"74\" y=\"184.1074\">vp: VP</text><line style=\"stroke: #383838; stroke-width: 1.5;\" x1=\"57\" x2=\"129\" y1=\"191.9375\" y2=\"191.9375\"/></a><!--MD5=[2156ba9850f5573cc1fc38a6a4b2f02b]\n",
       "class E7--><a href=\"psysml:d3ad1959-ed24-48c6-b8cb-3101ea5444ce\" target=\"_top\" title=\"psysml:d3ad1959-ed24-48c6-b8cb-3101ea5444ce\" xlink:actuate=\"onRequest\" xlink:href=\"psysml:d3ad1959-ed24-48c6-b8cb-3101ea5444ce\" xlink:show=\"new\" xlink:title=\"psysml:d3ad1959-ed24-48c6-b8cb-3101ea5444ce\" xlink:type=\"simple\"><rect fill=\"#FFFFFF\" height=\"45.9375\" id=\"E7\" rx=\"10\" ry=\"10\" style=\"stroke: #383838; stroke-width: 1.5;\" width=\"77\" x=\"177.5\" y=\"154\"/><text fill=\"#000000\" font-family=\"sans-serif\" font-size=\"12\" font-style=\"italic\" lengthAdjust=\"spacingAndGlyphs\" textLength=\"75\" x=\"178.5\" y=\"170.1387\">«rendering»</text><text fill=\"#000000\" font-family=\"sans-serif\" font-size=\"12\" lengthAdjust=\"spacingAndGlyphs\" textLength=\"21\" x=\"205.5\" y=\"184.1074\">r: R</text><line style=\"stroke: #383838; stroke-width: 1.5;\" x1=\"178.5\" x2=\"253.5\" y1=\"191.9375\" y2=\"191.9375\"/></a><!--MD5=[b9389687b975829384b498ac4b7476b2]\n",
       "class E8--><a href=\"psysml:c79df832-858d-4f87-b041-227cc7f695ce\" target=\"_top\" title=\"psysml:c79df832-858d-4f87-b041-227cc7f695ce\" xlink:actuate=\"onRequest\" xlink:href=\"psysml:c79df832-858d-4f87-b041-227cc7f695ce\" xlink:show=\"new\" xlink:title=\"psysml:c79df832-858d-4f87-b041-227cc7f695ce\" xlink:type=\"simple\"><rect fill=\"#FFFFFF\" height=\"45.9375\" id=\"E8\" rx=\"10\" ry=\"10\" style=\"stroke: #383838; stroke-width: 1.5;\" width=\"42\" x=\"290\" y=\"154\"/><text fill=\"#000000\" font-family=\"sans-serif\" font-size=\"12\" font-style=\"italic\" lengthAdjust=\"spacingAndGlyphs\" textLength=\"40\" x=\"291\" y=\"170.1387\">«view»</text><text fill=\"#000000\" font-family=\"sans-serif\" font-size=\"12\" lengthAdjust=\"spacingAndGlyphs\" textLength=\"22\" x=\"300\" y=\"184.1074\">v: V</text><line style=\"stroke: #383838; stroke-width: 1.5;\" x1=\"291\" x2=\"331\" y1=\"191.9375\" y2=\"191.9375\"/></a><!--MD5=[fd4143e9d270a159db93a4ea2a975926]\n",
       "class E9--><a href=\"psysml:599cc28e-37a4-4871-97e7-8713776fcf23\" target=\"_top\" title=\"psysml:599cc28e-37a4-4871-97e7-8713776fcf23\" xlink:actuate=\"onRequest\" xlink:href=\"psysml:599cc28e-37a4-4871-97e7-8713776fcf23\" xlink:show=\"new\" xlink:title=\"psysml:599cc28e-37a4-4871-97e7-8713776fcf23\" xlink:type=\"simple\"><rect fill=\"#FFFFFF\" height=\"45.9375\" id=\"E9\" rx=\"10\" ry=\"10\" style=\"stroke: #383838; stroke-width: 1.5;\" width=\"77\" x=\"301.5\" y=\"260\"/><text fill=\"#000000\" font-family=\"sans-serif\" font-size=\"12\" font-style=\"italic\" lengthAdjust=\"spacingAndGlyphs\" textLength=\"75\" x=\"302.5\" y=\"276.1387\">«rendering»</text><text fill=\"#000000\" font-family=\"sans-serif\" font-size=\"12\" lengthAdjust=\"spacingAndGlyphs\" textLength=\"13\" x=\"333.5\" y=\"290.1074\">r1</text><line style=\"stroke: #383838; stroke-width: 1.5;\" x1=\"302.5\" x2=\"377.5\" y1=\"297.9375\" y2=\"297.9375\"/></a><a href=\"psysml:d8eb8e98-9fc5-4554-bb79-0a7fb3af234b\" target=\"_top\" title=\"psysml:d8eb8e98-9fc5-4554-bb79-0a7fb3af234b\" xlink:actuate=\"onRequest\" xlink:href=\"psysml:d8eb8e98-9fc5-4554-bb79-0a7fb3af234b\" xlink:show=\"new\" xlink:title=\"psysml:d8eb8e98-9fc5-4554-bb79-0a7fb3af234b\" xlink:type=\"simple\"><polygon fill=\"#FFFFFF\" points=\"122,41,138,41,145,63.2969,152,63.2969,152,93.5938,122,93.5938,122,41\" style=\"stroke: #000000; stroke-width: 1.5;\"/><line style=\"stroke: #000000; stroke-width: 1.5;\" x1=\"122\" x2=\"145\" y1=\"63.2969\" y2=\"63.2969\"/><text fill=\"#000000\" font-family=\"sans-serif\" font-size=\"14\" font-weight=\"bold\" lengthAdjust=\"spacingAndGlyphs\" textLength=\"10\" x=\"126\" y=\"55.9951\">P</text></a><!--MD5=[85d356282659285ab4b2cfe2f634dd2b]\n",
       "reverse link E5 to E6--><a href=\"psysml:edb93869-3e30-4330-ae7d-f0dbadb8ae6e\" target=\"_top\" title=\"psysml:edb93869-3e30-4330-ae7d-f0dbadb8ae6e\" xlink:actuate=\"onRequest\" xlink:href=\"psysml:edb93869-3e30-4330-ae7d-f0dbadb8ae6e\" xlink:show=\"new\" xlink:title=\"psysml:edb93869-3e30-4330-ae7d-f0dbadb8ae6e\" xlink:type=\"simple\"><path d=\"M218.61,96.57 C190.28,114.48 154.1,137.36 127.85,153.96 \" fill=\"none\" id=\"E5&lt;-E6\" style=\"stroke: #383838; stroke-width: 1.0;\"/><polygon fill=\"#383838\" points=\"229.82,89.48,222.6111,89.2999,219.6723,95.8849,226.8811,96.0651,229.82,89.48\" style=\"stroke: #383838; stroke-width: 1.0;\"/></a><!--MD5=[a717450b82c80b9240a525fa862496af]\n",
       "link E6 to E3--><a href=\"psysml:678c28b1-b825-4869-b6db-341a5ef18df5\" target=\"_top\" title=\"psysml:678c28b1-b825-4869-b6db-341a5ef18df5\" xlink:actuate=\"onRequest\" xlink:href=\"psysml:678c28b1-b825-4869-b6db-341a5ef18df5\" xlink:show=\"new\" xlink:title=\"psysml:678c28b1-b825-4869-b6db-341a5ef18df5\" xlink:type=\"simple\"><path d=\"M90.46,200.06 C89.12,211.64 87.44,226.23 85.86,239.87 \" fill=\"none\" id=\"E6-&gt;E3\" style=\"stroke: #383838; stroke-width: 1.0;\"/><polygon fill=\"#FFFFFF\" points=\"83.54,259.98,78.757,240.3046,92.6653,241.9044,83.54,259.98\" style=\"stroke: #383838; stroke-width: 1.0;\"/><ellipse cx=\"81.3953\" cy=\"234.8704\" fill=\"#383838\" rx=\"2\" ry=\"2\" style=\"stroke: #383838; stroke-width: 1.0;\"/><ellipse cx=\"91.3298\" cy=\"236.0132\" fill=\"#383838\" rx=\"2\" ry=\"2\" style=\"stroke: #383838; stroke-width: 1.0;\"/></a><!--MD5=[6bdd27f9905911a7e892a3dc65cf6b7c]\n",
       "link E7 to E4--><a href=\"psysml:e01b0a28-1744-4d35-a29d-a960e4229aec\" target=\"_top\" title=\"psysml:e01b0a28-1744-4d35-a29d-a960e4229aec\" xlink:actuate=\"onRequest\" xlink:href=\"psysml:e01b0a28-1744-4d35-a29d-a960e4229aec\" xlink:show=\"new\" xlink:title=\"psysml:e01b0a28-1744-4d35-a29d-a960e4229aec\" xlink:type=\"simple\"><path d=\"M216,200.06 C216,211.64 216,226.23 216,239.87 \" fill=\"none\" id=\"E7-&gt;E4\" style=\"stroke: #383838; stroke-width: 1.0;\"/><polygon fill=\"#FFFFFF\" points=\"216,259.98,209,240.98,223,240.98,216,259.98\" style=\"stroke: #383838; stroke-width: 1.0;\"/><ellipse cx=\"211\" cy=\"235.28\" fill=\"#383838\" rx=\"2\" ry=\"2\" style=\"stroke: #383838; stroke-width: 1.0;\"/><ellipse cx=\"221\" cy=\"235.28\" fill=\"#383838\" rx=\"2\" ry=\"2\" style=\"stroke: #383838; stroke-width: 1.0;\"/></a><!--MD5=[452b418e7f8a40397a49b8c0a78acc5b]\n",
       "reverse link E5 to E7--><a href=\"psysml:d3ad1959-ed24-48c6-b8cb-3101ea5444ce\" target=\"_top\" title=\"psysml:d3ad1959-ed24-48c6-b8cb-3101ea5444ce\" xlink:actuate=\"onRequest\" xlink:href=\"psysml:d3ad1959-ed24-48c6-b8cb-3101ea5444ce\" xlink:show=\"new\" xlink:title=\"psysml:d3ad1959-ed24-48c6-b8cb-3101ea5444ce\" xlink:type=\"simple\"><path d=\"M248.1,102.57 C240.81,119.26 232.23,138.89 225.77,153.65 \" fill=\"none\" id=\"E5&lt;-E7\" style=\"stroke: #383838; stroke-width: 1.0;\"/><polygon fill=\"#383838\" points=\"253.38,90.51,247.31,94.4029,248.5688,101.5033,254.6388,97.6104,253.38,90.51\" style=\"stroke: #383838; stroke-width: 1.0;\"/><text fill=\"#000000\" font-family=\"sans-serif\" font-size=\"13\" lengthAdjust=\"spacingAndGlyphs\" textLength=\"24\" x=\"201.1986\" y=\"142.8366\">0..1</text></a><!--MD5=[1ccb2481ffa92f8d51a74ee30c51832a]\n",
       "link E8 to E5--><a href=\"psysml:3896f3dd-ac25-48cd-93fb-dac3b3d02068\" target=\"_top\" title=\"psysml:3896f3dd-ac25-48cd-93fb-dac3b3d02068\" xlink:actuate=\"onRequest\" xlink:href=\"psysml:3896f3dd-ac25-48cd-93fb-dac3b3d02068\" xlink:show=\"new\" xlink:title=\"psysml:3896f3dd-ac25-48cd-93fb-dac3b3d02068\" xlink:type=\"simple\"><path d=\"M312.22,153.65 C308.53,140.48 301.55,123.44 293.74,108.07 \" fill=\"none\" id=\"E8-&gt;E5\" style=\"stroke: #383838; stroke-width: 1.0;\"/><polygon fill=\"#FFFFFF\" points=\"283.97,90.51,299.3209,103.7142,287.0851,110.5174,283.97,90.51\" style=\"stroke: #383838; stroke-width: 1.0;\"/><ellipse cx=\"300.3428\" cy=\"109.6678\" fill=\"#383838\" rx=\"2\" ry=\"2\" style=\"stroke: #383838; stroke-width: 1.0;\"/><ellipse cx=\"291.6029\" cy=\"114.5273\" fill=\"#383838\" rx=\"2\" ry=\"2\" style=\"stroke: #383838; stroke-width: 1.0;\"/></a><!--MD5=[827760032d119d06bbc92f75530fd7ae]\n",
       "reverse link E5 to E8--><a href=\"psysml:c79df832-858d-4f87-b041-227cc7f695ce\" target=\"_top\" title=\"psysml:c79df832-858d-4f87-b041-227cc7f695ce\" xlink:actuate=\"onRequest\" xlink:href=\"psysml:c79df832-858d-4f87-b041-227cc7f695ce\" xlink:show=\"new\" xlink:title=\"psysml:c79df832-858d-4f87-b041-227cc7f695ce\" xlink:type=\"simple\"><path d=\"M266.44,103.07 C272.49,119.65 281.62,139.03 290.44,153.65 \" fill=\"none\" id=\"E5&lt;-E8\" style=\"stroke: #383838; stroke-width: 1.0;\"/><polygon fill=\"#383838\" points=\"262.31,90.51,260.3836,97.459,266.0572,101.9099,267.9836,94.9609,262.31,90.51\" style=\"stroke: #383838; stroke-width: 1.0;\"/><text fill=\"#000000\" font-family=\"sans-serif\" font-size=\"13\" lengthAdjust=\"spacingAndGlyphs\" textLength=\"7\" x=\"277.2746\" y=\"142.8366\">*</text></a><!--MD5=[22f5b4bae7e060dce8a1c8021efdb95b]\n",
       "reverse link E8 to E9--><a href=\"psysml:599cc28e-37a4-4871-97e7-8713776fcf23\" target=\"_top\" title=\"psysml:599cc28e-37a4-4871-97e7-8713776fcf23\" xlink:actuate=\"onRequest\" xlink:href=\"psysml:599cc28e-37a4-4871-97e7-8713776fcf23\" xlink:show=\"new\" xlink:title=\"psysml:599cc28e-37a4-4871-97e7-8713776fcf23\" xlink:type=\"simple\"><path d=\"M320.75,212.96 C325.08,228.51 330.05,246.33 333.86,259.98 \" fill=\"none\" id=\"E8&lt;-E9\" style=\"stroke: #383838; stroke-width: 1.0;\"/><polygon fill=\"#383838\" points=\"317.15,200.06,314.9066,206.9133,320.3699,211.6199,322.6133,204.7667,317.15,200.06\" style=\"stroke: #383838; stroke-width: 1.0;\"/></a><!--MD5=[7069b58386811865075fe248e5ff933c]\n",
       "@startuml\r\n",
       "skinparam linetype polyline\r\n",
       "skinparam monochrome true\r\n",
       "skinparam classbackgroundcolor white\r\n",
       "skinparam shadowing false\r\n",
       "skinparam wrapWidth 300\r\n",
       "hide circle\r\n",
       "\r\n",
       "package \"ViewTest\" as E1  [[psysml:68a4efc3-4169-49c4-b08f-98091c4bc0be ]]  {\r\n",
       "package \"P\" as E2  [[psysml:d8eb8e98-9fc5-4554-bb79-0a7fb3af234b ]]  {\r\n",
       "}\r\n",
       "comp def \"VP\" as E3  <<(T,blue)viewpoint def>> [[psysml:0e16ef0b-675e-475c-a6ab-030697702310 ]] {\r\n",
       "}\r\n",
       "comp def \"R\" as E4  <<(T,blue)rendering def>> [[psysml:80b9aeea-925b-4b3a-8c84-ce381a5e60ed ]] {\r\n",
       "}\r\n",
       "comp def \"V\" as E5  <<(T,blue)view def>> [[psysml:fa67c82a-cf4c-4211-8405-b886e7fced61 ]] {\r\n",
       "}\r\n",
       "comp usage \"vp: VP\" as E6  <<(T,blue)viewpoint>> [[psysml:edb93869-3e30-4330-ae7d-f0dbadb8ae6e ]] {\r\n",
       "}\r\n",
       "comp usage \"r: R\" as E7  <<(T,blue)rendering>> [[psysml:d3ad1959-ed24-48c6-b8cb-3101ea5444ce ]] {\r\n",
       "}\r\n",
       "comp usage \"v: V\" as E8  <<(T,blue)view>> [[psysml:c79df832-858d-4f87-b041-227cc7f695ce ]] {\r\n",
       "}\r\n",
       "comp usage \"r1\" as E9  <<(T,blue)rendering>> [[psysml:599cc28e-37a4-4871-97e7-8713776fcf23 ]] {\r\n",
       "}\r\n",
       "E5 *- - E6 [[psysml:edb93869-3e30-4330-ae7d-f0dbadb8ae6e ]] \r\n",
       "E6 - -:|> E3 [[psysml:678c28b1-b825-4869-b6db-341a5ef18df5 ]] \r\n",
       "E7 - -:|> E4 [[psysml:e01b0a28-1744-4d35-a29d-a960e4229aec ]] \r\n",
       "E5 *- - \"0..1\"E7 [[psysml:d3ad1959-ed24-48c6-b8cb-3101ea5444ce ]] \r\n",
       "E8 - -:|> E5 [[psysml:3896f3dd-ac25-48cd-93fb-dac3b3d02068 ]] \r\n",
       "E5 *- - \"*\"E8 [[psysml:c79df832-858d-4f87-b041-227cc7f695ce ]] \r\n",
       "E8 *- - E9 [[psysml:599cc28e-37a4-4871-97e7-8713776fcf23 ]] \r\n",
       "}\r\n",
       "@enduml\r\n",
       "\n",
       "PlantUML version 1.2020.13(Sat Jun 13 12:26:38 UTC 2020)\n",
       "(EPL source distribution)\n",
       "Java Runtime: OpenJDK Runtime Environment\n",
       "JVM: OpenJDK 64-Bit Server VM\n",
       "Default Encoding: UTF-8\n",
       "Language: en\n",
       "Country: null\n",
       "--></g></svg>"
      ]
     },
     "execution_count": 14,
     "metadata": {},
     "output_type": "execute_result"
    }
   ],
   "source": [
    "%viz --style=\"POLYLINE\" --view=\"Sequence\" \"ViewTest\""
   ]
  },
  {
   "cell_type": "code",
   "execution_count": 15,
   "id": "italian-theorem",
   "metadata": {
    "execution": {
     "iopub.execute_input": "2021-03-25T15:10:02.243494Z",
     "iopub.status.busy": "2021-03-25T15:10:02.242439Z",
     "iopub.status.idle": "2021-03-25T15:10:02.352875Z",
     "shell.execute_reply": "2021-03-25T15:10:02.353251Z"
    }
   },
   "outputs": [
    {
     "data": {
      "image/svg+xml": [
       "<?xml version=\"1.0\" encoding=\"UTF-8\" standalone=\"no\"?><svg xmlns=\"http://www.w3.org/2000/svg\" xmlns:xlink=\"http://www.w3.org/1999/xlink\" contentScriptType=\"application/ecmascript\" contentStyleType=\"text/css\" height=\"334px\" preserveAspectRatio=\"none\" style=\"width:417px;height:334px;\" version=\"1.1\" viewBox=\"0 0 417 334\" width=\"417px\" zoomAndPan=\"magnify\"><defs/><g><!--MD5=[fbc87193dbaf4d95561dea2c320d4a47]\n",
       "cluster E1--><a href=\"psysml:68a4efc3-4169-49c4-b08f-98091c4bc0be\" target=\"_top\" title=\"psysml:68a4efc3-4169-49c4-b08f-98091c4bc0be\" xlink:actuate=\"onRequest\" xlink:href=\"psysml:68a4efc3-4169-49c4-b08f-98091c4bc0be\" xlink:show=\"new\" xlink:title=\"psysml:68a4efc3-4169-49c4-b08f-98091c4bc0be\" xlink:type=\"simple\"><polygon fill=\"#FFFFFF\" points=\"16,6,96,6,103,28.2969,395,28.2969,395,322,16,322,16,6\" style=\"stroke: #000000; stroke-width: 1.5;\"/><line style=\"stroke: #000000; stroke-width: 1.5;\" x1=\"16\" x2=\"103\" y1=\"28.2969\" y2=\"28.2969\"/><text fill=\"#000000\" font-family=\"sans-serif\" font-size=\"14\" font-weight=\"bold\" lengthAdjust=\"spacingAndGlyphs\" textLength=\"74\" x=\"20\" y=\"20.9951\">ViewTest</text></a><!--MD5=[09b614a08d8cba4a07c9adeb5e0fee81]\n",
       "class E3--><a href=\"psysml:0e16ef0b-675e-475c-a6ab-030697702310\" target=\"_top\" title=\"psysml:0e16ef0b-675e-475c-a6ab-030697702310\" xlink:actuate=\"onRequest\" xlink:href=\"psysml:0e16ef0b-675e-475c-a6ab-030697702310\" xlink:show=\"new\" xlink:title=\"psysml:0e16ef0b-675e-475c-a6ab-030697702310\" xlink:type=\"simple\"><rect fill=\"#FFFFFF\" height=\"45.9375\" id=\"E3\" style=\"stroke: #383838; stroke-width: 1.5;\" width=\"98\" x=\"32\" y=\"260\"/><text fill=\"#000000\" font-family=\"sans-serif\" font-size=\"12\" font-style=\"italic\" lengthAdjust=\"spacingAndGlyphs\" textLength=\"96\" x=\"33\" y=\"276.1387\">«viewpoint def»</text><text fill=\"#000000\" font-family=\"sans-serif\" font-size=\"12\" lengthAdjust=\"spacingAndGlyphs\" textLength=\"16\" x=\"73\" y=\"290.1074\">VP</text><line style=\"stroke: #383838; stroke-width: 1.5;\" x1=\"33\" x2=\"129\" y1=\"297.9375\" y2=\"297.9375\"/></a><!--MD5=[ebbe1d658d1005bcc118a6aa81145e00]\n",
       "class E4--><a href=\"psysml:80b9aeea-925b-4b3a-8c84-ce381a5e60ed\" target=\"_top\" title=\"psysml:80b9aeea-925b-4b3a-8c84-ce381a5e60ed\" xlink:actuate=\"onRequest\" xlink:href=\"psysml:80b9aeea-925b-4b3a-8c84-ce381a5e60ed\" xlink:show=\"new\" xlink:title=\"psysml:80b9aeea-925b-4b3a-8c84-ce381a5e60ed\" xlink:type=\"simple\"><rect fill=\"#FFFFFF\" height=\"45.9375\" id=\"E4\" style=\"stroke: #383838; stroke-width: 1.5;\" width=\"101\" x=\"165.5\" y=\"260\"/><text fill=\"#000000\" font-family=\"sans-serif\" font-size=\"12\" font-style=\"italic\" lengthAdjust=\"spacingAndGlyphs\" textLength=\"99\" x=\"166.5\" y=\"276.1387\">«rendering def»</text><text fill=\"#000000\" font-family=\"sans-serif\" font-size=\"12\" lengthAdjust=\"spacingAndGlyphs\" textLength=\"8\" x=\"212\" y=\"290.1074\">R</text><line style=\"stroke: #383838; stroke-width: 1.5;\" x1=\"166.5\" x2=\"265.5\" y1=\"297.9375\" y2=\"297.9375\"/></a><!--MD5=[270fce915f116d4de14055a7c1d9a0f3]\n",
       "class E5--><a href=\"psysml:fa67c82a-cf4c-4211-8405-b886e7fced61\" target=\"_top\" title=\"psysml:fa67c82a-cf4c-4211-8405-b886e7fced61\" xlink:actuate=\"onRequest\" xlink:href=\"psysml:fa67c82a-cf4c-4211-8405-b886e7fced61\" xlink:show=\"new\" xlink:title=\"psysml:fa67c82a-cf4c-4211-8405-b886e7fced61\" xlink:type=\"simple\"><rect fill=\"#FFFFFF\" height=\"45.9375\" id=\"E5\" style=\"stroke: #383838; stroke-width: 1.5;\" width=\"66\" x=\"230\" y=\"44.5\"/><text fill=\"#000000\" font-family=\"sans-serif\" font-size=\"12\" font-style=\"italic\" lengthAdjust=\"spacingAndGlyphs\" textLength=\"64\" x=\"231\" y=\"60.6387\">«view def»</text><text fill=\"#000000\" font-family=\"sans-serif\" font-size=\"12\" lengthAdjust=\"spacingAndGlyphs\" textLength=\"8\" x=\"259\" y=\"74.6074\">V</text><line style=\"stroke: #383838; stroke-width: 1.5;\" x1=\"231\" x2=\"295\" y1=\"82.4375\" y2=\"82.4375\"/></a><!--MD5=[60a26617385b1d2d0262a64233df1f8d]\n",
       "class E6--><a href=\"psysml:edb93869-3e30-4330-ae7d-f0dbadb8ae6e\" target=\"_top\" title=\"psysml:edb93869-3e30-4330-ae7d-f0dbadb8ae6e\" xlink:actuate=\"onRequest\" xlink:href=\"psysml:edb93869-3e30-4330-ae7d-f0dbadb8ae6e\" xlink:show=\"new\" xlink:title=\"psysml:edb93869-3e30-4330-ae7d-f0dbadb8ae6e\" xlink:type=\"simple\"><rect fill=\"#FFFFFF\" height=\"45.9375\" id=\"E6\" rx=\"10\" ry=\"10\" style=\"stroke: #383838; stroke-width: 1.5;\" width=\"74\" x=\"56\" y=\"154\"/><text fill=\"#000000\" font-family=\"sans-serif\" font-size=\"12\" font-style=\"italic\" lengthAdjust=\"spacingAndGlyphs\" textLength=\"72\" x=\"57\" y=\"170.1387\">«viewpoint»</text><text fill=\"#000000\" font-family=\"sans-serif\" font-size=\"12\" lengthAdjust=\"spacingAndGlyphs\" textLength=\"38\" x=\"74\" y=\"184.1074\">vp: VP</text><line style=\"stroke: #383838; stroke-width: 1.5;\" x1=\"57\" x2=\"129\" y1=\"191.9375\" y2=\"191.9375\"/></a><!--MD5=[2156ba9850f5573cc1fc38a6a4b2f02b]\n",
       "class E7--><a href=\"psysml:d3ad1959-ed24-48c6-b8cb-3101ea5444ce\" target=\"_top\" title=\"psysml:d3ad1959-ed24-48c6-b8cb-3101ea5444ce\" xlink:actuate=\"onRequest\" xlink:href=\"psysml:d3ad1959-ed24-48c6-b8cb-3101ea5444ce\" xlink:show=\"new\" xlink:title=\"psysml:d3ad1959-ed24-48c6-b8cb-3101ea5444ce\" xlink:type=\"simple\"><rect fill=\"#FFFFFF\" height=\"45.9375\" id=\"E7\" rx=\"10\" ry=\"10\" style=\"stroke: #383838; stroke-width: 1.5;\" width=\"77\" x=\"177.5\" y=\"154\"/><text fill=\"#000000\" font-family=\"sans-serif\" font-size=\"12\" font-style=\"italic\" lengthAdjust=\"spacingAndGlyphs\" textLength=\"75\" x=\"178.5\" y=\"170.1387\">«rendering»</text><text fill=\"#000000\" font-family=\"sans-serif\" font-size=\"12\" lengthAdjust=\"spacingAndGlyphs\" textLength=\"21\" x=\"205.5\" y=\"184.1074\">r: R</text><line style=\"stroke: #383838; stroke-width: 1.5;\" x1=\"178.5\" x2=\"253.5\" y1=\"191.9375\" y2=\"191.9375\"/></a><!--MD5=[b9389687b975829384b498ac4b7476b2]\n",
       "class E8--><a href=\"psysml:c79df832-858d-4f87-b041-227cc7f695ce\" target=\"_top\" title=\"psysml:c79df832-858d-4f87-b041-227cc7f695ce\" xlink:actuate=\"onRequest\" xlink:href=\"psysml:c79df832-858d-4f87-b041-227cc7f695ce\" xlink:show=\"new\" xlink:title=\"psysml:c79df832-858d-4f87-b041-227cc7f695ce\" xlink:type=\"simple\"><rect fill=\"#FFFFFF\" height=\"45.9375\" id=\"E8\" rx=\"10\" ry=\"10\" style=\"stroke: #383838; stroke-width: 1.5;\" width=\"42\" x=\"290\" y=\"154\"/><text fill=\"#000000\" font-family=\"sans-serif\" font-size=\"12\" font-style=\"italic\" lengthAdjust=\"spacingAndGlyphs\" textLength=\"40\" x=\"291\" y=\"170.1387\">«view»</text><text fill=\"#000000\" font-family=\"sans-serif\" font-size=\"12\" lengthAdjust=\"spacingAndGlyphs\" textLength=\"22\" x=\"300\" y=\"184.1074\">v: V</text><line style=\"stroke: #383838; stroke-width: 1.5;\" x1=\"291\" x2=\"331\" y1=\"191.9375\" y2=\"191.9375\"/></a><!--MD5=[fd4143e9d270a159db93a4ea2a975926]\n",
       "class E9--><a href=\"psysml:599cc28e-37a4-4871-97e7-8713776fcf23\" target=\"_top\" title=\"psysml:599cc28e-37a4-4871-97e7-8713776fcf23\" xlink:actuate=\"onRequest\" xlink:href=\"psysml:599cc28e-37a4-4871-97e7-8713776fcf23\" xlink:show=\"new\" xlink:title=\"psysml:599cc28e-37a4-4871-97e7-8713776fcf23\" xlink:type=\"simple\"><rect fill=\"#FFFFFF\" height=\"45.9375\" id=\"E9\" rx=\"10\" ry=\"10\" style=\"stroke: #383838; stroke-width: 1.5;\" width=\"77\" x=\"301.5\" y=\"260\"/><text fill=\"#000000\" font-family=\"sans-serif\" font-size=\"12\" font-style=\"italic\" lengthAdjust=\"spacingAndGlyphs\" textLength=\"75\" x=\"302.5\" y=\"276.1387\">«rendering»</text><text fill=\"#000000\" font-family=\"sans-serif\" font-size=\"12\" lengthAdjust=\"spacingAndGlyphs\" textLength=\"13\" x=\"333.5\" y=\"290.1074\">r1</text><line style=\"stroke: #383838; stroke-width: 1.5;\" x1=\"302.5\" x2=\"377.5\" y1=\"297.9375\" y2=\"297.9375\"/></a><a href=\"psysml:d8eb8e98-9fc5-4554-bb79-0a7fb3af234b\" target=\"_top\" title=\"psysml:d8eb8e98-9fc5-4554-bb79-0a7fb3af234b\" xlink:actuate=\"onRequest\" xlink:href=\"psysml:d8eb8e98-9fc5-4554-bb79-0a7fb3af234b\" xlink:show=\"new\" xlink:title=\"psysml:d8eb8e98-9fc5-4554-bb79-0a7fb3af234b\" xlink:type=\"simple\"><polygon fill=\"#FFFFFF\" points=\"122,41,138,41,145,63.2969,152,63.2969,152,93.5938,122,93.5938,122,41\" style=\"stroke: #000000; stroke-width: 1.5;\"/><line style=\"stroke: #000000; stroke-width: 1.5;\" x1=\"122\" x2=\"145\" y1=\"63.2969\" y2=\"63.2969\"/><text fill=\"#000000\" font-family=\"sans-serif\" font-size=\"14\" font-weight=\"bold\" lengthAdjust=\"spacingAndGlyphs\" textLength=\"10\" x=\"126\" y=\"55.9951\">P</text></a><!--MD5=[85d356282659285ab4b2cfe2f634dd2b]\n",
       "reverse link E5 to E6--><a href=\"psysml:edb93869-3e30-4330-ae7d-f0dbadb8ae6e\" target=\"_top\" title=\"psysml:edb93869-3e30-4330-ae7d-f0dbadb8ae6e\" xlink:actuate=\"onRequest\" xlink:href=\"psysml:edb93869-3e30-4330-ae7d-f0dbadb8ae6e\" xlink:show=\"new\" xlink:title=\"psysml:edb93869-3e30-4330-ae7d-f0dbadb8ae6e\" xlink:type=\"simple\"><path d=\"M218.61,96.57 C190.28,114.48 154.1,137.36 127.85,153.96 \" fill=\"none\" id=\"E5&lt;-E6\" style=\"stroke: #383838; stroke-width: 1.0;\"/><polygon fill=\"#383838\" points=\"229.82,89.48,222.6111,89.2999,219.6723,95.8849,226.8811,96.0651,229.82,89.48\" style=\"stroke: #383838; stroke-width: 1.0;\"/></a><!--MD5=[a717450b82c80b9240a525fa862496af]\n",
       "link E6 to E3--><a href=\"psysml:678c28b1-b825-4869-b6db-341a5ef18df5\" target=\"_top\" title=\"psysml:678c28b1-b825-4869-b6db-341a5ef18df5\" xlink:actuate=\"onRequest\" xlink:href=\"psysml:678c28b1-b825-4869-b6db-341a5ef18df5\" xlink:show=\"new\" xlink:title=\"psysml:678c28b1-b825-4869-b6db-341a5ef18df5\" xlink:type=\"simple\"><path d=\"M90.46,200.06 C89.12,211.64 87.44,226.23 85.86,239.87 \" fill=\"none\" id=\"E6-&gt;E3\" style=\"stroke: #383838; stroke-width: 1.0;\"/><polygon fill=\"#FFFFFF\" points=\"83.54,259.98,78.757,240.3046,92.6653,241.9044,83.54,259.98\" style=\"stroke: #383838; stroke-width: 1.0;\"/><ellipse cx=\"81.3953\" cy=\"234.8704\" fill=\"#383838\" rx=\"2\" ry=\"2\" style=\"stroke: #383838; stroke-width: 1.0;\"/><ellipse cx=\"91.3298\" cy=\"236.0132\" fill=\"#383838\" rx=\"2\" ry=\"2\" style=\"stroke: #383838; stroke-width: 1.0;\"/></a><!--MD5=[6bdd27f9905911a7e892a3dc65cf6b7c]\n",
       "link E7 to E4--><a href=\"psysml:e01b0a28-1744-4d35-a29d-a960e4229aec\" target=\"_top\" title=\"psysml:e01b0a28-1744-4d35-a29d-a960e4229aec\" xlink:actuate=\"onRequest\" xlink:href=\"psysml:e01b0a28-1744-4d35-a29d-a960e4229aec\" xlink:show=\"new\" xlink:title=\"psysml:e01b0a28-1744-4d35-a29d-a960e4229aec\" xlink:type=\"simple\"><path d=\"M216,200.06 C216,211.64 216,226.23 216,239.87 \" fill=\"none\" id=\"E7-&gt;E4\" style=\"stroke: #383838; stroke-width: 1.0;\"/><polygon fill=\"#FFFFFF\" points=\"216,259.98,209,240.98,223,240.98,216,259.98\" style=\"stroke: #383838; stroke-width: 1.0;\"/><ellipse cx=\"211\" cy=\"235.28\" fill=\"#383838\" rx=\"2\" ry=\"2\" style=\"stroke: #383838; stroke-width: 1.0;\"/><ellipse cx=\"221\" cy=\"235.28\" fill=\"#383838\" rx=\"2\" ry=\"2\" style=\"stroke: #383838; stroke-width: 1.0;\"/></a><!--MD5=[452b418e7f8a40397a49b8c0a78acc5b]\n",
       "reverse link E5 to E7--><a href=\"psysml:d3ad1959-ed24-48c6-b8cb-3101ea5444ce\" target=\"_top\" title=\"psysml:d3ad1959-ed24-48c6-b8cb-3101ea5444ce\" xlink:actuate=\"onRequest\" xlink:href=\"psysml:d3ad1959-ed24-48c6-b8cb-3101ea5444ce\" xlink:show=\"new\" xlink:title=\"psysml:d3ad1959-ed24-48c6-b8cb-3101ea5444ce\" xlink:type=\"simple\"><path d=\"M248.1,102.57 C240.81,119.26 232.23,138.89 225.77,153.65 \" fill=\"none\" id=\"E5&lt;-E7\" style=\"stroke: #383838; stroke-width: 1.0;\"/><polygon fill=\"#383838\" points=\"253.38,90.51,247.31,94.4029,248.5688,101.5033,254.6388,97.6104,253.38,90.51\" style=\"stroke: #383838; stroke-width: 1.0;\"/><text fill=\"#000000\" font-family=\"sans-serif\" font-size=\"13\" lengthAdjust=\"spacingAndGlyphs\" textLength=\"24\" x=\"201.1986\" y=\"142.8366\">0..1</text></a><!--MD5=[1ccb2481ffa92f8d51a74ee30c51832a]\n",
       "link E8 to E5--><a href=\"psysml:3896f3dd-ac25-48cd-93fb-dac3b3d02068\" target=\"_top\" title=\"psysml:3896f3dd-ac25-48cd-93fb-dac3b3d02068\" xlink:actuate=\"onRequest\" xlink:href=\"psysml:3896f3dd-ac25-48cd-93fb-dac3b3d02068\" xlink:show=\"new\" xlink:title=\"psysml:3896f3dd-ac25-48cd-93fb-dac3b3d02068\" xlink:type=\"simple\"><path d=\"M312.22,153.65 C308.53,140.48 301.55,123.44 293.74,108.07 \" fill=\"none\" id=\"E8-&gt;E5\" style=\"stroke: #383838; stroke-width: 1.0;\"/><polygon fill=\"#FFFFFF\" points=\"283.97,90.51,299.3209,103.7142,287.0851,110.5174,283.97,90.51\" style=\"stroke: #383838; stroke-width: 1.0;\"/><ellipse cx=\"300.3428\" cy=\"109.6678\" fill=\"#383838\" rx=\"2\" ry=\"2\" style=\"stroke: #383838; stroke-width: 1.0;\"/><ellipse cx=\"291.6029\" cy=\"114.5273\" fill=\"#383838\" rx=\"2\" ry=\"2\" style=\"stroke: #383838; stroke-width: 1.0;\"/></a><!--MD5=[827760032d119d06bbc92f75530fd7ae]\n",
       "reverse link E5 to E8--><a href=\"psysml:c79df832-858d-4f87-b041-227cc7f695ce\" target=\"_top\" title=\"psysml:c79df832-858d-4f87-b041-227cc7f695ce\" xlink:actuate=\"onRequest\" xlink:href=\"psysml:c79df832-858d-4f87-b041-227cc7f695ce\" xlink:show=\"new\" xlink:title=\"psysml:c79df832-858d-4f87-b041-227cc7f695ce\" xlink:type=\"simple\"><path d=\"M266.44,103.07 C272.49,119.65 281.62,139.03 290.44,153.65 \" fill=\"none\" id=\"E5&lt;-E8\" style=\"stroke: #383838; stroke-width: 1.0;\"/><polygon fill=\"#383838\" points=\"262.31,90.51,260.3836,97.459,266.0572,101.9099,267.9836,94.9609,262.31,90.51\" style=\"stroke: #383838; stroke-width: 1.0;\"/><text fill=\"#000000\" font-family=\"sans-serif\" font-size=\"13\" lengthAdjust=\"spacingAndGlyphs\" textLength=\"7\" x=\"277.2746\" y=\"142.8366\">*</text></a><!--MD5=[22f5b4bae7e060dce8a1c8021efdb95b]\n",
       "reverse link E8 to E9--><a href=\"psysml:599cc28e-37a4-4871-97e7-8713776fcf23\" target=\"_top\" title=\"psysml:599cc28e-37a4-4871-97e7-8713776fcf23\" xlink:actuate=\"onRequest\" xlink:href=\"psysml:599cc28e-37a4-4871-97e7-8713776fcf23\" xlink:show=\"new\" xlink:title=\"psysml:599cc28e-37a4-4871-97e7-8713776fcf23\" xlink:type=\"simple\"><path d=\"M320.75,212.96 C325.08,228.51 330.05,246.33 333.86,259.98 \" fill=\"none\" id=\"E8&lt;-E9\" style=\"stroke: #383838; stroke-width: 1.0;\"/><polygon fill=\"#383838\" points=\"317.15,200.06,314.9066,206.9133,320.3699,211.6199,322.6133,204.7667,317.15,200.06\" style=\"stroke: #383838; stroke-width: 1.0;\"/></a><!--MD5=[7069b58386811865075fe248e5ff933c]\n",
       "@startuml\r\n",
       "skinparam linetype polyline\r\n",
       "skinparam monochrome true\r\n",
       "skinparam classbackgroundcolor white\r\n",
       "skinparam shadowing false\r\n",
       "skinparam wrapWidth 300\r\n",
       "hide circle\r\n",
       "\r\n",
       "package \"ViewTest\" as E1  [[psysml:68a4efc3-4169-49c4-b08f-98091c4bc0be ]]  {\r\n",
       "package \"P\" as E2  [[psysml:d8eb8e98-9fc5-4554-bb79-0a7fb3af234b ]]  {\r\n",
       "}\r\n",
       "comp def \"VP\" as E3  <<(T,blue)viewpoint def>> [[psysml:0e16ef0b-675e-475c-a6ab-030697702310 ]] {\r\n",
       "}\r\n",
       "comp def \"R\" as E4  <<(T,blue)rendering def>> [[psysml:80b9aeea-925b-4b3a-8c84-ce381a5e60ed ]] {\r\n",
       "}\r\n",
       "comp def \"V\" as E5  <<(T,blue)view def>> [[psysml:fa67c82a-cf4c-4211-8405-b886e7fced61 ]] {\r\n",
       "}\r\n",
       "comp usage \"vp: VP\" as E6  <<(T,blue)viewpoint>> [[psysml:edb93869-3e30-4330-ae7d-f0dbadb8ae6e ]] {\r\n",
       "}\r\n",
       "comp usage \"r: R\" as E7  <<(T,blue)rendering>> [[psysml:d3ad1959-ed24-48c6-b8cb-3101ea5444ce ]] {\r\n",
       "}\r\n",
       "comp usage \"v: V\" as E8  <<(T,blue)view>> [[psysml:c79df832-858d-4f87-b041-227cc7f695ce ]] {\r\n",
       "}\r\n",
       "comp usage \"r1\" as E9  <<(T,blue)rendering>> [[psysml:599cc28e-37a4-4871-97e7-8713776fcf23 ]] {\r\n",
       "}\r\n",
       "E5 *- - E6 [[psysml:edb93869-3e30-4330-ae7d-f0dbadb8ae6e ]] \r\n",
       "E6 - -:|> E3 [[psysml:678c28b1-b825-4869-b6db-341a5ef18df5 ]] \r\n",
       "E7 - -:|> E4 [[psysml:e01b0a28-1744-4d35-a29d-a960e4229aec ]] \r\n",
       "E5 *- - \"0..1\"E7 [[psysml:d3ad1959-ed24-48c6-b8cb-3101ea5444ce ]] \r\n",
       "E8 - -:|> E5 [[psysml:3896f3dd-ac25-48cd-93fb-dac3b3d02068 ]] \r\n",
       "E5 *- - \"*\"E8 [[psysml:c79df832-858d-4f87-b041-227cc7f695ce ]] \r\n",
       "E8 *- - E9 [[psysml:599cc28e-37a4-4871-97e7-8713776fcf23 ]] \r\n",
       "}\r\n",
       "@enduml\r\n",
       "\n",
       "PlantUML version 1.2020.13(Sat Jun 13 12:26:38 UTC 2020)\n",
       "(EPL source distribution)\n",
       "Java Runtime: OpenJDK Runtime Environment\n",
       "JVM: OpenJDK 64-Bit Server VM\n",
       "Default Encoding: UTF-8\n",
       "Language: en\n",
       "Country: null\n",
       "--></g></svg>"
      ]
     },
     "execution_count": 15,
     "metadata": {},
     "output_type": "execute_result"
    }
   ],
   "source": [
    "%viz --style=\"POLYLINE\" --view=\"MIXED\" \"ViewTest\""
   ]
  },
  {
   "cell_type": "code",
   "execution_count": 16,
   "id": "controlled-unknown",
   "metadata": {
    "execution": {
     "iopub.execute_input": "2021-03-25T15:10:02.405715Z",
     "iopub.status.busy": "2021-03-25T15:10:02.404750Z",
     "iopub.status.idle": "2021-03-25T15:10:02.505855Z",
     "shell.execute_reply": "2021-03-25T15:10:02.503684Z"
    }
   },
   "outputs": [
    {
     "data": {
      "image/svg+xml": [
       "<?xml version=\"1.0\" encoding=\"UTF-8\" standalone=\"no\"?><svg xmlns=\"http://www.w3.org/2000/svg\" xmlns:xlink=\"http://www.w3.org/1999/xlink\" contentScriptType=\"application/ecmascript\" contentStyleType=\"text/css\" height=\"277px\" preserveAspectRatio=\"none\" style=\"width:434px;height:277px;\" version=\"1.1\" viewBox=\"0 0 434 277\" width=\"434px\" zoomAndPan=\"magnify\"><defs/><g><!--MD5=[fbc87193dbaf4d95561dea2c320d4a47]\n",
       "cluster E1--><a href=\"psysml:68a4efc3-4169-49c4-b08f-98091c4bc0be\" target=\"_top\" title=\"psysml:68a4efc3-4169-49c4-b08f-98091c4bc0be\" xlink:actuate=\"onRequest\" xlink:href=\"psysml:68a4efc3-4169-49c4-b08f-98091c4bc0be\" xlink:show=\"new\" xlink:title=\"psysml:68a4efc3-4169-49c4-b08f-98091c4bc0be\" xlink:type=\"simple\"><polygon fill=\"#FFFFFF\" points=\"16,6,96,6,103,28.2969,412,28.2969,412,265,16,265,16,6\" style=\"stroke: #000000; stroke-width: 1.5;\"/><line style=\"stroke: #000000; stroke-width: 1.5;\" x1=\"16\" x2=\"103\" y1=\"28.2969\" y2=\"28.2969\"/><text fill=\"#000000\" font-family=\"sans-serif\" font-size=\"14\" font-weight=\"bold\" lengthAdjust=\"spacingAndGlyphs\" textLength=\"74\" x=\"20\" y=\"20.9951\">ViewTest</text></a><!--MD5=[09b614a08d8cba4a07c9adeb5e0fee81]\n",
       "class E3--><a href=\"psysml:0e16ef0b-675e-475c-a6ab-030697702310\" target=\"_top\" title=\"psysml:0e16ef0b-675e-475c-a6ab-030697702310\" xlink:actuate=\"onRequest\" xlink:href=\"psysml:0e16ef0b-675e-475c-a6ab-030697702310\" xlink:show=\"new\" xlink:title=\"psysml:0e16ef0b-675e-475c-a6ab-030697702310\" xlink:type=\"simple\"><rect fill=\"#FFFFFF\" height=\"45.9375\" id=\"E3\" style=\"stroke: #383838; stroke-width: 1.5;\" width=\"98\" x=\"296.5\" y=\"203\"/><text fill=\"#000000\" font-family=\"sans-serif\" font-size=\"12\" font-style=\"italic\" lengthAdjust=\"spacingAndGlyphs\" textLength=\"96\" x=\"297.5\" y=\"219.1387\">«viewpoint def»</text><text fill=\"#000000\" font-family=\"sans-serif\" font-size=\"12\" lengthAdjust=\"spacingAndGlyphs\" textLength=\"16\" x=\"337.5\" y=\"233.1074\">VP</text><line style=\"stroke: #383838; stroke-width: 1.5;\" x1=\"297.5\" x2=\"393.5\" y1=\"240.9375\" y2=\"240.9375\"/></a><!--MD5=[ebbe1d658d1005bcc118a6aa81145e00]\n",
       "class E4--><a href=\"psysml:80b9aeea-925b-4b3a-8c84-ce381a5e60ed\" target=\"_top\" title=\"psysml:80b9aeea-925b-4b3a-8c84-ce381a5e60ed\" xlink:actuate=\"onRequest\" xlink:href=\"psysml:80b9aeea-925b-4b3a-8c84-ce381a5e60ed\" xlink:show=\"new\" xlink:title=\"psysml:80b9aeea-925b-4b3a-8c84-ce381a5e60ed\" xlink:type=\"simple\"><rect fill=\"#FFFFFF\" height=\"45.9375\" id=\"E4\" style=\"stroke: #383838; stroke-width: 1.5;\" width=\"101\" x=\"295\" y=\"122\"/><text fill=\"#000000\" font-family=\"sans-serif\" font-size=\"12\" font-style=\"italic\" lengthAdjust=\"spacingAndGlyphs\" textLength=\"99\" x=\"296\" y=\"138.1387\">«rendering def»</text><text fill=\"#000000\" font-family=\"sans-serif\" font-size=\"12\" lengthAdjust=\"spacingAndGlyphs\" textLength=\"8\" x=\"341.5\" y=\"152.1074\">R</text><line style=\"stroke: #383838; stroke-width: 1.5;\" x1=\"296\" x2=\"395\" y1=\"159.9375\" y2=\"159.9375\"/></a><!--MD5=[270fce915f116d4de14055a7c1d9a0f3]\n",
       "class E5--><a href=\"psysml:fa67c82a-cf4c-4211-8405-b886e7fced61\" target=\"_top\" title=\"psysml:fa67c82a-cf4c-4211-8405-b886e7fced61\" xlink:actuate=\"onRequest\" xlink:href=\"psysml:fa67c82a-cf4c-4211-8405-b886e7fced61\" xlink:show=\"new\" xlink:title=\"psysml:fa67c82a-cf4c-4211-8405-b886e7fced61\" xlink:type=\"simple\"><rect fill=\"#FFFFFF\" height=\"45.9375\" id=\"E5\" style=\"stroke: #383838; stroke-width: 1.5;\" width=\"66\" x=\"32\" y=\"60\"/><text fill=\"#000000\" font-family=\"sans-serif\" font-size=\"12\" font-style=\"italic\" lengthAdjust=\"spacingAndGlyphs\" textLength=\"64\" x=\"33\" y=\"76.1387\">«view def»</text><text fill=\"#000000\" font-family=\"sans-serif\" font-size=\"12\" lengthAdjust=\"spacingAndGlyphs\" textLength=\"8\" x=\"61\" y=\"90.1074\">V</text><line style=\"stroke: #383838; stroke-width: 1.5;\" x1=\"33\" x2=\"97\" y1=\"97.9375\" y2=\"97.9375\"/></a><!--MD5=[60a26617385b1d2d0262a64233df1f8d]\n",
       "class E6--><a href=\"psysml:edb93869-3e30-4330-ae7d-f0dbadb8ae6e\" target=\"_top\" title=\"psysml:edb93869-3e30-4330-ae7d-f0dbadb8ae6e\" xlink:actuate=\"onRequest\" xlink:href=\"psysml:edb93869-3e30-4330-ae7d-f0dbadb8ae6e\" xlink:show=\"new\" xlink:title=\"psysml:edb93869-3e30-4330-ae7d-f0dbadb8ae6e\" xlink:type=\"simple\"><rect fill=\"#FFFFFF\" height=\"45.9375\" id=\"E6\" rx=\"10\" ry=\"10\" style=\"stroke: #383838; stroke-width: 1.5;\" width=\"74\" x=\"159.5\" y=\"203\"/><text fill=\"#000000\" font-family=\"sans-serif\" font-size=\"12\" font-style=\"italic\" lengthAdjust=\"spacingAndGlyphs\" textLength=\"72\" x=\"160.5\" y=\"219.1387\">«viewpoint»</text><text fill=\"#000000\" font-family=\"sans-serif\" font-size=\"12\" lengthAdjust=\"spacingAndGlyphs\" textLength=\"38\" x=\"177.5\" y=\"233.1074\">vp: VP</text><line style=\"stroke: #383838; stroke-width: 1.5;\" x1=\"160.5\" x2=\"232.5\" y1=\"240.9375\" y2=\"240.9375\"/></a><!--MD5=[2156ba9850f5573cc1fc38a6a4b2f02b]\n",
       "class E7--><a href=\"psysml:d3ad1959-ed24-48c6-b8cb-3101ea5444ce\" target=\"_top\" title=\"psysml:d3ad1959-ed24-48c6-b8cb-3101ea5444ce\" xlink:actuate=\"onRequest\" xlink:href=\"psysml:d3ad1959-ed24-48c6-b8cb-3101ea5444ce\" xlink:show=\"new\" xlink:title=\"psysml:d3ad1959-ed24-48c6-b8cb-3101ea5444ce\" xlink:type=\"simple\"><rect fill=\"#FFFFFF\" height=\"45.9375\" id=\"E7\" rx=\"10\" ry=\"10\" style=\"stroke: #383838; stroke-width: 1.5;\" width=\"77\" x=\"158\" y=\"122\"/><text fill=\"#000000\" font-family=\"sans-serif\" font-size=\"12\" font-style=\"italic\" lengthAdjust=\"spacingAndGlyphs\" textLength=\"75\" x=\"159\" y=\"138.1387\">«rendering»</text><text fill=\"#000000\" font-family=\"sans-serif\" font-size=\"12\" lengthAdjust=\"spacingAndGlyphs\" textLength=\"21\" x=\"186\" y=\"152.1074\">r: R</text><line style=\"stroke: #383838; stroke-width: 1.5;\" x1=\"159\" x2=\"234\" y1=\"159.9375\" y2=\"159.9375\"/></a><!--MD5=[b9389687b975829384b498ac4b7476b2]\n",
       "class E8--><a href=\"psysml:c79df832-858d-4f87-b041-227cc7f695ce\" target=\"_top\" title=\"psysml:c79df832-858d-4f87-b041-227cc7f695ce\" xlink:actuate=\"onRequest\" xlink:href=\"psysml:c79df832-858d-4f87-b041-227cc7f695ce\" xlink:show=\"new\" xlink:title=\"psysml:c79df832-858d-4f87-b041-227cc7f695ce\" xlink:type=\"simple\"><rect fill=\"#FFFFFF\" height=\"45.9375\" id=\"E8\" rx=\"10\" ry=\"10\" style=\"stroke: #383838; stroke-width: 1.5;\" width=\"42\" x=\"175.5\" y=\"41\"/><text fill=\"#000000\" font-family=\"sans-serif\" font-size=\"12\" font-style=\"italic\" lengthAdjust=\"spacingAndGlyphs\" textLength=\"40\" x=\"176.5\" y=\"57.1387\">«view»</text><text fill=\"#000000\" font-family=\"sans-serif\" font-size=\"12\" lengthAdjust=\"spacingAndGlyphs\" textLength=\"22\" x=\"185.5\" y=\"71.1074\">v: V</text><line style=\"stroke: #383838; stroke-width: 1.5;\" x1=\"176.5\" x2=\"216.5\" y1=\"78.9375\" y2=\"78.9375\"/></a><!--MD5=[fd4143e9d270a159db93a4ea2a975926]\n",
       "class E9--><a href=\"psysml:599cc28e-37a4-4871-97e7-8713776fcf23\" target=\"_top\" title=\"psysml:599cc28e-37a4-4871-97e7-8713776fcf23\" xlink:actuate=\"onRequest\" xlink:href=\"psysml:599cc28e-37a4-4871-97e7-8713776fcf23\" xlink:show=\"new\" xlink:title=\"psysml:599cc28e-37a4-4871-97e7-8713776fcf23\" xlink:type=\"simple\"><rect fill=\"#FFFFFF\" height=\"45.9375\" id=\"E9\" rx=\"10\" ry=\"10\" style=\"stroke: #383838; stroke-width: 1.5;\" width=\"77\" x=\"307\" y=\"41\"/><text fill=\"#000000\" font-family=\"sans-serif\" font-size=\"12\" font-style=\"italic\" lengthAdjust=\"spacingAndGlyphs\" textLength=\"75\" x=\"308\" y=\"57.1387\">«rendering»</text><text fill=\"#000000\" font-family=\"sans-serif\" font-size=\"12\" lengthAdjust=\"spacingAndGlyphs\" textLength=\"13\" x=\"339\" y=\"71.1074\">r1</text><line style=\"stroke: #383838; stroke-width: 1.5;\" x1=\"308\" x2=\"383\" y1=\"78.9375\" y2=\"78.9375\"/></a><a href=\"psysml:d8eb8e98-9fc5-4554-bb79-0a7fb3af234b\" target=\"_top\" title=\"psysml:d8eb8e98-9fc5-4554-bb79-0a7fb3af234b\" xlink:actuate=\"onRequest\" xlink:href=\"psysml:d8eb8e98-9fc5-4554-bb79-0a7fb3af234b\" xlink:show=\"new\" xlink:title=\"psysml:d8eb8e98-9fc5-4554-bb79-0a7fb3af234b\" xlink:type=\"simple\"><polygon fill=\"#FFFFFF\" points=\"50,159.5,66,159.5,73,181.7969,80,181.7969,80,212.0938,50,212.0938,50,159.5\" style=\"stroke: #000000; stroke-width: 1.5;\"/><line style=\"stroke: #000000; stroke-width: 1.5;\" x1=\"50\" x2=\"73\" y1=\"181.7969\" y2=\"181.7969\"/><text fill=\"#000000\" font-family=\"sans-serif\" font-size=\"14\" font-weight=\"bold\" lengthAdjust=\"spacingAndGlyphs\" textLength=\"10\" x=\"54\" y=\"174.4951\">P</text></a><!--MD5=[85d356282659285ab4b2cfe2f634dd2b]\n",
       "reverse link E5 to E6--><a href=\"psysml:edb93869-3e30-4330-ae7d-f0dbadb8ae6e\" target=\"_top\" title=\"psysml:edb93869-3e30-4330-ae7d-f0dbadb8ae6e\" xlink:actuate=\"onRequest\" xlink:href=\"psysml:edb93869-3e30-4330-ae7d-f0dbadb8ae6e\" xlink:show=\"new\" xlink:title=\"psysml:edb93869-3e30-4330-ae7d-f0dbadb8ae6e\" xlink:type=\"simple\"><path d=\"M95.16,116.05 C113.15,136.34 136.77,162.8 158,186 C163.01,191.48 168.45,197.33 173.59,202.82 \" fill=\"none\" id=\"E5&lt;-E6\" style=\"stroke: #383838; stroke-width: 1.0;\"/><polygon fill=\"#383838\" points=\"86.31,106.05,87.2929,113.1938,94.2652,115.0342,93.2823,107.8904,86.31,106.05\" style=\"stroke: #383838; stroke-width: 1.0;\"/></a><!--MD5=[a717450b82c80b9240a525fa862496af]\n",
       "link E6 to E3--><a href=\"psysml:678c28b1-b825-4869-b6db-341a5ef18df5\" target=\"_top\" title=\"psysml:678c28b1-b825-4869-b6db-341a5ef18df5\" xlink:actuate=\"onRequest\" xlink:href=\"psysml:678c28b1-b825-4869-b6db-341a5ef18df5\" xlink:show=\"new\" xlink:title=\"psysml:678c28b1-b825-4869-b6db-341a5ef18df5\" xlink:type=\"simple\"><path d=\"M233.84,226 C246.67,226 261.54,226 276.15,226 \" fill=\"none\" id=\"E6-&gt;E3\" style=\"stroke: #383838; stroke-width: 1.0;\"/><polygon fill=\"#FFFFFF\" points=\"296.38,226,277.38,233,277.38,219,296.38,226\" style=\"stroke: #383838; stroke-width: 1.0;\"/><ellipse cx=\"271.68\" cy=\"231\" fill=\"#383838\" rx=\"2\" ry=\"2\" style=\"stroke: #383838; stroke-width: 1.0;\"/><ellipse cx=\"271.68\" cy=\"221\" fill=\"#383838\" rx=\"2\" ry=\"2\" style=\"stroke: #383838; stroke-width: 1.0;\"/></a><!--MD5=[6bdd27f9905911a7e892a3dc65cf6b7c]\n",
       "link E7 to E4--><a href=\"psysml:e01b0a28-1744-4d35-a29d-a960e4229aec\" target=\"_top\" title=\"psysml:e01b0a28-1744-4d35-a29d-a960e4229aec\" xlink:actuate=\"onRequest\" xlink:href=\"psysml:e01b0a28-1744-4d35-a29d-a960e4229aec\" xlink:show=\"new\" xlink:title=\"psysml:e01b0a28-1744-4d35-a29d-a960e4229aec\" xlink:type=\"simple\"><path d=\"M235.36,145 C247.39,145 261.1,145 274.65,145 \" fill=\"none\" id=\"E7-&gt;E4\" style=\"stroke: #383838; stroke-width: 1.0;\"/><polygon fill=\"#FFFFFF\" points=\"294.85,145,275.85,152,275.85,138,294.85,145\" style=\"stroke: #383838; stroke-width: 1.0;\"/><ellipse cx=\"270.15\" cy=\"150\" fill=\"#383838\" rx=\"2\" ry=\"2\" style=\"stroke: #383838; stroke-width: 1.0;\"/><ellipse cx=\"270.15\" cy=\"140\" fill=\"#383838\" rx=\"2\" ry=\"2\" style=\"stroke: #383838; stroke-width: 1.0;\"/></a><!--MD5=[452b418e7f8a40397a49b8c0a78acc5b]\n",
       "reverse link E5 to E7--><a href=\"psysml:d3ad1959-ed24-48c6-b8cb-3101ea5444ce\" target=\"_top\" title=\"psysml:d3ad1959-ed24-48c6-b8cb-3101ea5444ce\" xlink:actuate=\"onRequest\" xlink:href=\"psysml:d3ad1959-ed24-48c6-b8cb-3101ea5444ce\" xlink:show=\"new\" xlink:title=\"psysml:d3ad1959-ed24-48c6-b8cb-3101ea5444ce\" xlink:type=\"simple\"><path d=\"M110.02,104.08 C125.57,111.52 142.91,119.82 157.88,126.99 \" fill=\"none\" id=\"E5&lt;-E7\" style=\"stroke: #383838; stroke-width: 1.0;\"/><polygon fill=\"#383838\" points=\"98.01,98.33,101.6919,104.5303,108.8314,103.5163,105.1495,97.316,98.01,98.33\" style=\"stroke: #383838; stroke-width: 1.0;\"/><text fill=\"#000000\" font-family=\"sans-serif\" font-size=\"13\" lengthAdjust=\"spacingAndGlyphs\" textLength=\"24\" x=\"126.1288\" y=\"137.4625\">0..1</text></a><!--MD5=[1ccb2481ffa92f8d51a74ee30c51832a]\n",
       "link E8 to E5--><a href=\"psysml:3896f3dd-ac25-48cd-93fb-dac3b3d02068\" target=\"_top\" title=\"psysml:3896f3dd-ac25-48cd-93fb-dac3b3d02068\" xlink:actuate=\"onRequest\" xlink:href=\"psysml:3896f3dd-ac25-48cd-93fb-dac3b3d02068\" xlink:show=\"new\" xlink:title=\"psysml:3896f3dd-ac25-48cd-93fb-dac3b3d02068\" xlink:type=\"simple\"><path d=\"M175.15,56.84 C159.72,56.26 137.8,58.44 117.65,62.17 \" fill=\"none\" id=\"E8-&gt;E5\" style=\"stroke: #383838; stroke-width: 1.0;\"/><polygon fill=\"#FFFFFF\" points=\"98.01,66.47,115.0695,55.5625,118.0684,69.2376,98.01,66.47\" style=\"stroke: #383838; stroke-width: 1.0;\"/><ellipse cx=\"121.0656\" cy=\"56.2951\" fill=\"#383838\" rx=\"2\" ry=\"2\" style=\"stroke: #383838; stroke-width: 1.0;\"/><ellipse cx=\"123.2077\" cy=\"66.063\" fill=\"#383838\" rx=\"2\" ry=\"2\" style=\"stroke: #383838; stroke-width: 1.0;\"/></a><!--MD5=[827760032d119d06bbc92f75530fd7ae]\n",
       "reverse link E5 to E8--><a href=\"psysml:c79df832-858d-4f87-b041-227cc7f695ce\" target=\"_top\" title=\"psysml:c79df832-858d-4f87-b041-227cc7f695ce\" xlink:actuate=\"onRequest\" xlink:href=\"psysml:c79df832-858d-4f87-b041-227cc7f695ce\" xlink:show=\"new\" xlink:title=\"psysml:c79df832-858d-4f87-b041-227cc7f695ce\" xlink:type=\"simple\"><path d=\"M111.07,88.6 C132.9,86.63 158.02,82.06 175.15,76.57 \" fill=\"none\" id=\"E5&lt;-E8\" style=\"stroke: #383838; stroke-width: 1.0;\"/><polygon fill=\"#383838\" points=\"98.01,89.48,104.2646,93.0688,109.983,88.6756,103.7284,85.0868,98.01,89.48\" style=\"stroke: #383838; stroke-width: 1.0;\"/><text fill=\"#000000\" font-family=\"sans-serif\" font-size=\"13\" lengthAdjust=\"spacingAndGlyphs\" textLength=\"7\" x=\"160.5397\" y=\"94.8132\">*</text></a><!--MD5=[22f5b4bae7e060dce8a1c8021efdb95b]\n",
       "reverse link E8 to E9--><a href=\"psysml:599cc28e-37a4-4871-97e7-8713776fcf23\" target=\"_top\" title=\"psysml:599cc28e-37a4-4871-97e7-8713776fcf23\" xlink:actuate=\"onRequest\" xlink:href=\"psysml:599cc28e-37a4-4871-97e7-8713776fcf23\" xlink:show=\"new\" xlink:title=\"psysml:599cc28e-37a4-4871-97e7-8713776fcf23\" xlink:type=\"simple\"><path d=\"M230.63,64 C253.25,64 283.25,64 306.78,64 \" fill=\"none\" id=\"E8&lt;-E9\" style=\"stroke: #383838; stroke-width: 1.0;\"/><polygon fill=\"#383838\" points=\"217.63,64,223.63,68,229.63,64,223.63,60,217.63,64\" style=\"stroke: #383838; stroke-width: 1.0;\"/></a><!--MD5=[6f368f226695bd6318d4c52f684c35d1]\n",
       "@startuml\r\n",
       "left to right direction\r\n",
       "skinparam monochrome true\r\n",
       "skinparam classbackgroundcolor white\r\n",
       "skinparam shadowing false\r\n",
       "skinparam wrapWidth 300\r\n",
       "hide circle\r\n",
       "\r\n",
       "package \"ViewTest\" as E1  [[psysml:68a4efc3-4169-49c4-b08f-98091c4bc0be ]]  {\r\n",
       "package \"P\" as E2  [[psysml:d8eb8e98-9fc5-4554-bb79-0a7fb3af234b ]]  {\r\n",
       "}\r\n",
       "comp def \"VP\" as E3  <<(T,blue)viewpoint def>> [[psysml:0e16ef0b-675e-475c-a6ab-030697702310 ]] {\r\n",
       "}\r\n",
       "comp def \"R\" as E4  <<(T,blue)rendering def>> [[psysml:80b9aeea-925b-4b3a-8c84-ce381a5e60ed ]] {\r\n",
       "}\r\n",
       "comp def \"V\" as E5  <<(T,blue)view def>> [[psysml:fa67c82a-cf4c-4211-8405-b886e7fced61 ]] {\r\n",
       "}\r\n",
       "comp usage \"vp: VP\" as E6  <<(T,blue)viewpoint>> [[psysml:edb93869-3e30-4330-ae7d-f0dbadb8ae6e ]] {\r\n",
       "}\r\n",
       "comp usage \"r: R\" as E7  <<(T,blue)rendering>> [[psysml:d3ad1959-ed24-48c6-b8cb-3101ea5444ce ]] {\r\n",
       "}\r\n",
       "comp usage \"v: V\" as E8  <<(T,blue)view>> [[psysml:c79df832-858d-4f87-b041-227cc7f695ce ]] {\r\n",
       "}\r\n",
       "comp usage \"r1\" as E9  <<(T,blue)rendering>> [[psysml:599cc28e-37a4-4871-97e7-8713776fcf23 ]] {\r\n",
       "}\r\n",
       "E5 *- - E6 [[psysml:edb93869-3e30-4330-ae7d-f0dbadb8ae6e ]] \r\n",
       "E6 - -:|> E3 [[psysml:678c28b1-b825-4869-b6db-341a5ef18df5 ]] \r\n",
       "E7 - -:|> E4 [[psysml:e01b0a28-1744-4d35-a29d-a960e4229aec ]] \r\n",
       "E5 *- - \"0..1\"E7 [[psysml:d3ad1959-ed24-48c6-b8cb-3101ea5444ce ]] \r\n",
       "E8 - -:|> E5 [[psysml:3896f3dd-ac25-48cd-93fb-dac3b3d02068 ]] \r\n",
       "E5 *- - \"*\"E8 [[psysml:c79df832-858d-4f87-b041-227cc7f695ce ]] \r\n",
       "E8 *- - E9 [[psysml:599cc28e-37a4-4871-97e7-8713776fcf23 ]] \r\n",
       "}\r\n",
       "@enduml\r\n",
       "\n",
       "PlantUML version 1.2020.13(Sat Jun 13 12:26:38 UTC 2020)\n",
       "(EPL source distribution)\n",
       "Java Runtime: OpenJDK Runtime Environment\n",
       "JVM: OpenJDK 64-Bit Server VM\n",
       "Default Encoding: UTF-8\n",
       "Language: en\n",
       "Country: null\n",
       "--></g></svg>"
      ]
     },
     "execution_count": 16,
     "metadata": {},
     "output_type": "execute_result"
    }
   ],
   "source": [
    "%viz --style=\"LR\" --view=\"Default\" \"ViewTest\""
   ]
  },
  {
   "cell_type": "code",
   "execution_count": 17,
   "id": "physical-bicycle",
   "metadata": {
    "execution": {
     "iopub.execute_input": "2021-03-25T15:10:02.555257Z",
     "iopub.status.busy": "2021-03-25T15:10:02.554834Z",
     "iopub.status.idle": "2021-03-25T15:10:02.668407Z",
     "shell.execute_reply": "2021-03-25T15:10:02.668874Z"
    }
   },
   "outputs": [
    {
     "data": {
      "image/svg+xml": [
       "<?xml version=\"1.0\" encoding=\"UTF-8\" standalone=\"no\"?><svg xmlns=\"http://www.w3.org/2000/svg\" xmlns:xlink=\"http://www.w3.org/1999/xlink\" contentScriptType=\"application/ecmascript\" contentStyleType=\"text/css\" height=\"277px\" preserveAspectRatio=\"none\" style=\"width:434px;height:277px;\" version=\"1.1\" viewBox=\"0 0 434 277\" width=\"434px\" zoomAndPan=\"magnify\"><defs/><g><!--MD5=[fbc87193dbaf4d95561dea2c320d4a47]\n",
       "cluster E1--><a href=\"psysml:68a4efc3-4169-49c4-b08f-98091c4bc0be\" target=\"_top\" title=\"psysml:68a4efc3-4169-49c4-b08f-98091c4bc0be\" xlink:actuate=\"onRequest\" xlink:href=\"psysml:68a4efc3-4169-49c4-b08f-98091c4bc0be\" xlink:show=\"new\" xlink:title=\"psysml:68a4efc3-4169-49c4-b08f-98091c4bc0be\" xlink:type=\"simple\"><polygon fill=\"#FFFFFF\" points=\"16,6,96,6,103,28.2969,412,28.2969,412,265,16,265,16,6\" style=\"stroke: #000000; stroke-width: 1.5;\"/><line style=\"stroke: #000000; stroke-width: 1.5;\" x1=\"16\" x2=\"103\" y1=\"28.2969\" y2=\"28.2969\"/><text fill=\"#000000\" font-family=\"sans-serif\" font-size=\"14\" font-weight=\"bold\" lengthAdjust=\"spacingAndGlyphs\" textLength=\"74\" x=\"20\" y=\"20.9951\">ViewTest</text></a><!--MD5=[09b614a08d8cba4a07c9adeb5e0fee81]\n",
       "class E3--><a href=\"psysml:0e16ef0b-675e-475c-a6ab-030697702310\" target=\"_top\" title=\"psysml:0e16ef0b-675e-475c-a6ab-030697702310\" xlink:actuate=\"onRequest\" xlink:href=\"psysml:0e16ef0b-675e-475c-a6ab-030697702310\" xlink:show=\"new\" xlink:title=\"psysml:0e16ef0b-675e-475c-a6ab-030697702310\" xlink:type=\"simple\"><rect fill=\"#FFFFFF\" height=\"45.9375\" id=\"E3\" style=\"stroke: #383838; stroke-width: 1.5;\" width=\"98\" x=\"296.5\" y=\"203\"/><text fill=\"#000000\" font-family=\"sans-serif\" font-size=\"12\" font-style=\"italic\" lengthAdjust=\"spacingAndGlyphs\" textLength=\"96\" x=\"297.5\" y=\"219.1387\">«viewpoint def»</text><text fill=\"#000000\" font-family=\"sans-serif\" font-size=\"12\" lengthAdjust=\"spacingAndGlyphs\" textLength=\"16\" x=\"337.5\" y=\"233.1074\">VP</text><line style=\"stroke: #383838; stroke-width: 1.5;\" x1=\"297.5\" x2=\"393.5\" y1=\"240.9375\" y2=\"240.9375\"/></a><!--MD5=[ebbe1d658d1005bcc118a6aa81145e00]\n",
       "class E4--><a href=\"psysml:80b9aeea-925b-4b3a-8c84-ce381a5e60ed\" target=\"_top\" title=\"psysml:80b9aeea-925b-4b3a-8c84-ce381a5e60ed\" xlink:actuate=\"onRequest\" xlink:href=\"psysml:80b9aeea-925b-4b3a-8c84-ce381a5e60ed\" xlink:show=\"new\" xlink:title=\"psysml:80b9aeea-925b-4b3a-8c84-ce381a5e60ed\" xlink:type=\"simple\"><rect fill=\"#FFFFFF\" height=\"45.9375\" id=\"E4\" style=\"stroke: #383838; stroke-width: 1.5;\" width=\"101\" x=\"295\" y=\"122\"/><text fill=\"#000000\" font-family=\"sans-serif\" font-size=\"12\" font-style=\"italic\" lengthAdjust=\"spacingAndGlyphs\" textLength=\"99\" x=\"296\" y=\"138.1387\">«rendering def»</text><text fill=\"#000000\" font-family=\"sans-serif\" font-size=\"12\" lengthAdjust=\"spacingAndGlyphs\" textLength=\"8\" x=\"341.5\" y=\"152.1074\">R</text><line style=\"stroke: #383838; stroke-width: 1.5;\" x1=\"296\" x2=\"395\" y1=\"159.9375\" y2=\"159.9375\"/></a><!--MD5=[270fce915f116d4de14055a7c1d9a0f3]\n",
       "class E5--><a href=\"psysml:fa67c82a-cf4c-4211-8405-b886e7fced61\" target=\"_top\" title=\"psysml:fa67c82a-cf4c-4211-8405-b886e7fced61\" xlink:actuate=\"onRequest\" xlink:href=\"psysml:fa67c82a-cf4c-4211-8405-b886e7fced61\" xlink:show=\"new\" xlink:title=\"psysml:fa67c82a-cf4c-4211-8405-b886e7fced61\" xlink:type=\"simple\"><rect fill=\"#FFFFFF\" height=\"45.9375\" id=\"E5\" style=\"stroke: #383838; stroke-width: 1.5;\" width=\"66\" x=\"32\" y=\"60\"/><text fill=\"#000000\" font-family=\"sans-serif\" font-size=\"12\" font-style=\"italic\" lengthAdjust=\"spacingAndGlyphs\" textLength=\"64\" x=\"33\" y=\"76.1387\">«view def»</text><text fill=\"#000000\" font-family=\"sans-serif\" font-size=\"12\" lengthAdjust=\"spacingAndGlyphs\" textLength=\"8\" x=\"61\" y=\"90.1074\">V</text><line style=\"stroke: #383838; stroke-width: 1.5;\" x1=\"33\" x2=\"97\" y1=\"97.9375\" y2=\"97.9375\"/></a><!--MD5=[60a26617385b1d2d0262a64233df1f8d]\n",
       "class E6--><a href=\"psysml:edb93869-3e30-4330-ae7d-f0dbadb8ae6e\" target=\"_top\" title=\"psysml:edb93869-3e30-4330-ae7d-f0dbadb8ae6e\" xlink:actuate=\"onRequest\" xlink:href=\"psysml:edb93869-3e30-4330-ae7d-f0dbadb8ae6e\" xlink:show=\"new\" xlink:title=\"psysml:edb93869-3e30-4330-ae7d-f0dbadb8ae6e\" xlink:type=\"simple\"><rect fill=\"#FFFFFF\" height=\"45.9375\" id=\"E6\" rx=\"10\" ry=\"10\" style=\"stroke: #383838; stroke-width: 1.5;\" width=\"74\" x=\"159.5\" y=\"203\"/><text fill=\"#000000\" font-family=\"sans-serif\" font-size=\"12\" font-style=\"italic\" lengthAdjust=\"spacingAndGlyphs\" textLength=\"72\" x=\"160.5\" y=\"219.1387\">«viewpoint»</text><text fill=\"#000000\" font-family=\"sans-serif\" font-size=\"12\" lengthAdjust=\"spacingAndGlyphs\" textLength=\"38\" x=\"177.5\" y=\"233.1074\">vp: VP</text><line style=\"stroke: #383838; stroke-width: 1.5;\" x1=\"160.5\" x2=\"232.5\" y1=\"240.9375\" y2=\"240.9375\"/></a><!--MD5=[2156ba9850f5573cc1fc38a6a4b2f02b]\n",
       "class E7--><a href=\"psysml:d3ad1959-ed24-48c6-b8cb-3101ea5444ce\" target=\"_top\" title=\"psysml:d3ad1959-ed24-48c6-b8cb-3101ea5444ce\" xlink:actuate=\"onRequest\" xlink:href=\"psysml:d3ad1959-ed24-48c6-b8cb-3101ea5444ce\" xlink:show=\"new\" xlink:title=\"psysml:d3ad1959-ed24-48c6-b8cb-3101ea5444ce\" xlink:type=\"simple\"><rect fill=\"#FFFFFF\" height=\"45.9375\" id=\"E7\" rx=\"10\" ry=\"10\" style=\"stroke: #383838; stroke-width: 1.5;\" width=\"77\" x=\"158\" y=\"122\"/><text fill=\"#000000\" font-family=\"sans-serif\" font-size=\"12\" font-style=\"italic\" lengthAdjust=\"spacingAndGlyphs\" textLength=\"75\" x=\"159\" y=\"138.1387\">«rendering»</text><text fill=\"#000000\" font-family=\"sans-serif\" font-size=\"12\" lengthAdjust=\"spacingAndGlyphs\" textLength=\"21\" x=\"186\" y=\"152.1074\">r: R</text><line style=\"stroke: #383838; stroke-width: 1.5;\" x1=\"159\" x2=\"234\" y1=\"159.9375\" y2=\"159.9375\"/></a><!--MD5=[b9389687b975829384b498ac4b7476b2]\n",
       "class E8--><a href=\"psysml:c79df832-858d-4f87-b041-227cc7f695ce\" target=\"_top\" title=\"psysml:c79df832-858d-4f87-b041-227cc7f695ce\" xlink:actuate=\"onRequest\" xlink:href=\"psysml:c79df832-858d-4f87-b041-227cc7f695ce\" xlink:show=\"new\" xlink:title=\"psysml:c79df832-858d-4f87-b041-227cc7f695ce\" xlink:type=\"simple\"><rect fill=\"#FFFFFF\" height=\"45.9375\" id=\"E8\" rx=\"10\" ry=\"10\" style=\"stroke: #383838; stroke-width: 1.5;\" width=\"42\" x=\"175.5\" y=\"41\"/><text fill=\"#000000\" font-family=\"sans-serif\" font-size=\"12\" font-style=\"italic\" lengthAdjust=\"spacingAndGlyphs\" textLength=\"40\" x=\"176.5\" y=\"57.1387\">«view»</text><text fill=\"#000000\" font-family=\"sans-serif\" font-size=\"12\" lengthAdjust=\"spacingAndGlyphs\" textLength=\"22\" x=\"185.5\" y=\"71.1074\">v: V</text><line style=\"stroke: #383838; stroke-width: 1.5;\" x1=\"176.5\" x2=\"216.5\" y1=\"78.9375\" y2=\"78.9375\"/></a><!--MD5=[fd4143e9d270a159db93a4ea2a975926]\n",
       "class E9--><a href=\"psysml:599cc28e-37a4-4871-97e7-8713776fcf23\" target=\"_top\" title=\"psysml:599cc28e-37a4-4871-97e7-8713776fcf23\" xlink:actuate=\"onRequest\" xlink:href=\"psysml:599cc28e-37a4-4871-97e7-8713776fcf23\" xlink:show=\"new\" xlink:title=\"psysml:599cc28e-37a4-4871-97e7-8713776fcf23\" xlink:type=\"simple\"><rect fill=\"#FFFFFF\" height=\"45.9375\" id=\"E9\" rx=\"10\" ry=\"10\" style=\"stroke: #383838; stroke-width: 1.5;\" width=\"77\" x=\"307\" y=\"41\"/><text fill=\"#000000\" font-family=\"sans-serif\" font-size=\"12\" font-style=\"italic\" lengthAdjust=\"spacingAndGlyphs\" textLength=\"75\" x=\"308\" y=\"57.1387\">«rendering»</text><text fill=\"#000000\" font-family=\"sans-serif\" font-size=\"12\" lengthAdjust=\"spacingAndGlyphs\" textLength=\"13\" x=\"339\" y=\"71.1074\">r1</text><line style=\"stroke: #383838; stroke-width: 1.5;\" x1=\"308\" x2=\"383\" y1=\"78.9375\" y2=\"78.9375\"/></a><a href=\"psysml:d8eb8e98-9fc5-4554-bb79-0a7fb3af234b\" target=\"_top\" title=\"psysml:d8eb8e98-9fc5-4554-bb79-0a7fb3af234b\" xlink:actuate=\"onRequest\" xlink:href=\"psysml:d8eb8e98-9fc5-4554-bb79-0a7fb3af234b\" xlink:show=\"new\" xlink:title=\"psysml:d8eb8e98-9fc5-4554-bb79-0a7fb3af234b\" xlink:type=\"simple\"><polygon fill=\"#FFFFFF\" points=\"50,159.5,66,159.5,73,181.7969,80,181.7969,80,212.0938,50,212.0938,50,159.5\" style=\"stroke: #000000; stroke-width: 1.5;\"/><line style=\"stroke: #000000; stroke-width: 1.5;\" x1=\"50\" x2=\"73\" y1=\"181.7969\" y2=\"181.7969\"/><text fill=\"#000000\" font-family=\"sans-serif\" font-size=\"14\" font-weight=\"bold\" lengthAdjust=\"spacingAndGlyphs\" textLength=\"10\" x=\"54\" y=\"174.4951\">P</text></a><!--MD5=[85d356282659285ab4b2cfe2f634dd2b]\n",
       "reverse link E5 to E6--><a href=\"psysml:edb93869-3e30-4330-ae7d-f0dbadb8ae6e\" target=\"_top\" title=\"psysml:edb93869-3e30-4330-ae7d-f0dbadb8ae6e\" xlink:actuate=\"onRequest\" xlink:href=\"psysml:edb93869-3e30-4330-ae7d-f0dbadb8ae6e\" xlink:show=\"new\" xlink:title=\"psysml:edb93869-3e30-4330-ae7d-f0dbadb8ae6e\" xlink:type=\"simple\"><path d=\"M95.16,116.05 C113.15,136.34 136.77,162.8 158,186 C163.01,191.48 168.45,197.33 173.59,202.82 \" fill=\"none\" id=\"E5&lt;-E6\" style=\"stroke: #383838; stroke-width: 1.0;\"/><polygon fill=\"#383838\" points=\"86.31,106.05,87.2929,113.1938,94.2652,115.0342,93.2823,107.8904,86.31,106.05\" style=\"stroke: #383838; stroke-width: 1.0;\"/></a><!--MD5=[a717450b82c80b9240a525fa862496af]\n",
       "link E6 to E3--><a href=\"psysml:678c28b1-b825-4869-b6db-341a5ef18df5\" target=\"_top\" title=\"psysml:678c28b1-b825-4869-b6db-341a5ef18df5\" xlink:actuate=\"onRequest\" xlink:href=\"psysml:678c28b1-b825-4869-b6db-341a5ef18df5\" xlink:show=\"new\" xlink:title=\"psysml:678c28b1-b825-4869-b6db-341a5ef18df5\" xlink:type=\"simple\"><path d=\"M233.84,226 C246.67,226 261.54,226 276.15,226 \" fill=\"none\" id=\"E6-&gt;E3\" style=\"stroke: #383838; stroke-width: 1.0;\"/><polygon fill=\"#FFFFFF\" points=\"296.38,226,277.38,233,277.38,219,296.38,226\" style=\"stroke: #383838; stroke-width: 1.0;\"/><ellipse cx=\"271.68\" cy=\"231\" fill=\"#383838\" rx=\"2\" ry=\"2\" style=\"stroke: #383838; stroke-width: 1.0;\"/><ellipse cx=\"271.68\" cy=\"221\" fill=\"#383838\" rx=\"2\" ry=\"2\" style=\"stroke: #383838; stroke-width: 1.0;\"/></a><!--MD5=[6bdd27f9905911a7e892a3dc65cf6b7c]\n",
       "link E7 to E4--><a href=\"psysml:e01b0a28-1744-4d35-a29d-a960e4229aec\" target=\"_top\" title=\"psysml:e01b0a28-1744-4d35-a29d-a960e4229aec\" xlink:actuate=\"onRequest\" xlink:href=\"psysml:e01b0a28-1744-4d35-a29d-a960e4229aec\" xlink:show=\"new\" xlink:title=\"psysml:e01b0a28-1744-4d35-a29d-a960e4229aec\" xlink:type=\"simple\"><path d=\"M235.36,145 C247.39,145 261.1,145 274.65,145 \" fill=\"none\" id=\"E7-&gt;E4\" style=\"stroke: #383838; stroke-width: 1.0;\"/><polygon fill=\"#FFFFFF\" points=\"294.85,145,275.85,152,275.85,138,294.85,145\" style=\"stroke: #383838; stroke-width: 1.0;\"/><ellipse cx=\"270.15\" cy=\"150\" fill=\"#383838\" rx=\"2\" ry=\"2\" style=\"stroke: #383838; stroke-width: 1.0;\"/><ellipse cx=\"270.15\" cy=\"140\" fill=\"#383838\" rx=\"2\" ry=\"2\" style=\"stroke: #383838; stroke-width: 1.0;\"/></a><!--MD5=[452b418e7f8a40397a49b8c0a78acc5b]\n",
       "reverse link E5 to E7--><a href=\"psysml:d3ad1959-ed24-48c6-b8cb-3101ea5444ce\" target=\"_top\" title=\"psysml:d3ad1959-ed24-48c6-b8cb-3101ea5444ce\" xlink:actuate=\"onRequest\" xlink:href=\"psysml:d3ad1959-ed24-48c6-b8cb-3101ea5444ce\" xlink:show=\"new\" xlink:title=\"psysml:d3ad1959-ed24-48c6-b8cb-3101ea5444ce\" xlink:type=\"simple\"><path d=\"M110.02,104.08 C125.57,111.52 142.91,119.82 157.88,126.99 \" fill=\"none\" id=\"E5&lt;-E7\" style=\"stroke: #383838; stroke-width: 1.0;\"/><polygon fill=\"#383838\" points=\"98.01,98.33,101.6919,104.5303,108.8314,103.5163,105.1495,97.316,98.01,98.33\" style=\"stroke: #383838; stroke-width: 1.0;\"/><text fill=\"#000000\" font-family=\"sans-serif\" font-size=\"13\" lengthAdjust=\"spacingAndGlyphs\" textLength=\"24\" x=\"126.1288\" y=\"137.4625\">0..1</text></a><!--MD5=[1ccb2481ffa92f8d51a74ee30c51832a]\n",
       "link E8 to E5--><a href=\"psysml:3896f3dd-ac25-48cd-93fb-dac3b3d02068\" target=\"_top\" title=\"psysml:3896f3dd-ac25-48cd-93fb-dac3b3d02068\" xlink:actuate=\"onRequest\" xlink:href=\"psysml:3896f3dd-ac25-48cd-93fb-dac3b3d02068\" xlink:show=\"new\" xlink:title=\"psysml:3896f3dd-ac25-48cd-93fb-dac3b3d02068\" xlink:type=\"simple\"><path d=\"M175.15,56.84 C159.72,56.26 137.8,58.44 117.65,62.17 \" fill=\"none\" id=\"E8-&gt;E5\" style=\"stroke: #383838; stroke-width: 1.0;\"/><polygon fill=\"#FFFFFF\" points=\"98.01,66.47,115.0695,55.5625,118.0684,69.2376,98.01,66.47\" style=\"stroke: #383838; stroke-width: 1.0;\"/><ellipse cx=\"121.0656\" cy=\"56.2951\" fill=\"#383838\" rx=\"2\" ry=\"2\" style=\"stroke: #383838; stroke-width: 1.0;\"/><ellipse cx=\"123.2077\" cy=\"66.063\" fill=\"#383838\" rx=\"2\" ry=\"2\" style=\"stroke: #383838; stroke-width: 1.0;\"/></a><!--MD5=[827760032d119d06bbc92f75530fd7ae]\n",
       "reverse link E5 to E8--><a href=\"psysml:c79df832-858d-4f87-b041-227cc7f695ce\" target=\"_top\" title=\"psysml:c79df832-858d-4f87-b041-227cc7f695ce\" xlink:actuate=\"onRequest\" xlink:href=\"psysml:c79df832-858d-4f87-b041-227cc7f695ce\" xlink:show=\"new\" xlink:title=\"psysml:c79df832-858d-4f87-b041-227cc7f695ce\" xlink:type=\"simple\"><path d=\"M111.07,88.6 C132.9,86.63 158.02,82.06 175.15,76.57 \" fill=\"none\" id=\"E5&lt;-E8\" style=\"stroke: #383838; stroke-width: 1.0;\"/><polygon fill=\"#383838\" points=\"98.01,89.48,104.2646,93.0688,109.983,88.6756,103.7284,85.0868,98.01,89.48\" style=\"stroke: #383838; stroke-width: 1.0;\"/><text fill=\"#000000\" font-family=\"sans-serif\" font-size=\"13\" lengthAdjust=\"spacingAndGlyphs\" textLength=\"7\" x=\"160.5397\" y=\"94.8132\">*</text></a><!--MD5=[22f5b4bae7e060dce8a1c8021efdb95b]\n",
       "reverse link E8 to E9--><a href=\"psysml:599cc28e-37a4-4871-97e7-8713776fcf23\" target=\"_top\" title=\"psysml:599cc28e-37a4-4871-97e7-8713776fcf23\" xlink:actuate=\"onRequest\" xlink:href=\"psysml:599cc28e-37a4-4871-97e7-8713776fcf23\" xlink:show=\"new\" xlink:title=\"psysml:599cc28e-37a4-4871-97e7-8713776fcf23\" xlink:type=\"simple\"><path d=\"M230.63,64 C253.25,64 283.25,64 306.78,64 \" fill=\"none\" id=\"E8&lt;-E9\" style=\"stroke: #383838; stroke-width: 1.0;\"/><polygon fill=\"#383838\" points=\"217.63,64,223.63,68,229.63,64,223.63,60,217.63,64\" style=\"stroke: #383838; stroke-width: 1.0;\"/></a><!--MD5=[6f368f226695bd6318d4c52f684c35d1]\n",
       "@startuml\r\n",
       "left to right direction\r\n",
       "skinparam monochrome true\r\n",
       "skinparam classbackgroundcolor white\r\n",
       "skinparam shadowing false\r\n",
       "skinparam wrapWidth 300\r\n",
       "hide circle\r\n",
       "\r\n",
       "package \"ViewTest\" as E1  [[psysml:68a4efc3-4169-49c4-b08f-98091c4bc0be ]]  {\r\n",
       "package \"P\" as E2  [[psysml:d8eb8e98-9fc5-4554-bb79-0a7fb3af234b ]]  {\r\n",
       "}\r\n",
       "comp def \"VP\" as E3  <<(T,blue)viewpoint def>> [[psysml:0e16ef0b-675e-475c-a6ab-030697702310 ]] {\r\n",
       "}\r\n",
       "comp def \"R\" as E4  <<(T,blue)rendering def>> [[psysml:80b9aeea-925b-4b3a-8c84-ce381a5e60ed ]] {\r\n",
       "}\r\n",
       "comp def \"V\" as E5  <<(T,blue)view def>> [[psysml:fa67c82a-cf4c-4211-8405-b886e7fced61 ]] {\r\n",
       "}\r\n",
       "comp usage \"vp: VP\" as E6  <<(T,blue)viewpoint>> [[psysml:edb93869-3e30-4330-ae7d-f0dbadb8ae6e ]] {\r\n",
       "}\r\n",
       "comp usage \"r: R\" as E7  <<(T,blue)rendering>> [[psysml:d3ad1959-ed24-48c6-b8cb-3101ea5444ce ]] {\r\n",
       "}\r\n",
       "comp usage \"v: V\" as E8  <<(T,blue)view>> [[psysml:c79df832-858d-4f87-b041-227cc7f695ce ]] {\r\n",
       "}\r\n",
       "comp usage \"r1\" as E9  <<(T,blue)rendering>> [[psysml:599cc28e-37a4-4871-97e7-8713776fcf23 ]] {\r\n",
       "}\r\n",
       "E5 *- - E6 [[psysml:edb93869-3e30-4330-ae7d-f0dbadb8ae6e ]] \r\n",
       "E6 - -:|> E3 [[psysml:678c28b1-b825-4869-b6db-341a5ef18df5 ]] \r\n",
       "E7 - -:|> E4 [[psysml:e01b0a28-1744-4d35-a29d-a960e4229aec ]] \r\n",
       "E5 *- - \"0..1\"E7 [[psysml:d3ad1959-ed24-48c6-b8cb-3101ea5444ce ]] \r\n",
       "E8 - -:|> E5 [[psysml:3896f3dd-ac25-48cd-93fb-dac3b3d02068 ]] \r\n",
       "E5 *- - \"*\"E8 [[psysml:c79df832-858d-4f87-b041-227cc7f695ce ]] \r\n",
       "E8 *- - E9 [[psysml:599cc28e-37a4-4871-97e7-8713776fcf23 ]] \r\n",
       "}\r\n",
       "@enduml\r\n",
       "\n",
       "PlantUML version 1.2020.13(Sat Jun 13 12:26:38 UTC 2020)\n",
       "(EPL source distribution)\n",
       "Java Runtime: OpenJDK Runtime Environment\n",
       "JVM: OpenJDK 64-Bit Server VM\n",
       "Default Encoding: UTF-8\n",
       "Language: en\n",
       "Country: null\n",
       "--></g></svg>"
      ]
     },
     "execution_count": 17,
     "metadata": {},
     "output_type": "execute_result"
    }
   ],
   "source": [
    "%viz --style=\"LR\" --view=\"Tree\" \"ViewTest\""
   ]
  },
  {
   "cell_type": "code",
   "execution_count": 18,
   "id": "demanding-scroll",
   "metadata": {
    "execution": {
     "iopub.execute_input": "2021-03-25T15:10:02.718959Z",
     "iopub.status.busy": "2021-03-25T15:10:02.718499Z",
     "iopub.status.idle": "2021-03-25T15:10:02.725470Z",
     "shell.execute_reply": "2021-03-25T15:10:02.725103Z"
    }
   },
   "outputs": [
    {
     "data": {
      "image/svg+xml": [
       "<?xml version=\"1.0\" encoding=\"UTF-8\" standalone=\"no\"?><svg xmlns=\"http://www.w3.org/2000/svg\" xmlns:xlink=\"http://www.w3.org/1999/xlink\" contentScriptType=\"application/ecmascript\" contentStyleType=\"text/css\" height=\"12px\" preserveAspectRatio=\"none\" style=\"width:12px;height:12px;\" version=\"1.1\" viewBox=\"0 0 12 12\" width=\"12px\" zoomAndPan=\"magnify\"><defs/><g><!--MD5=[19d285c9d72a204eba4e2cd117d745e8]\n",
       "@startuml\r\n",
       "left to right direction\r\n",
       "skinparam monochrome true\r\n",
       "skinparam classbackgroundcolor white\r\n",
       "skinparam shadowing false\r\n",
       "skinparam wrapWidth 300\r\n",
       "hide circle\r\n",
       "\r\n",
       "@enduml\r\n",
       "\n",
       "PlantUML version 1.2020.13(Sat Jun 13 12:26:38 UTC 2020)\n",
       "(EPL source distribution)\n",
       "Java Runtime: OpenJDK Runtime Environment\n",
       "JVM: OpenJDK 64-Bit Server VM\n",
       "Default Encoding: UTF-8\n",
       "Language: en\n",
       "Country: null\n",
       "--></g></svg>"
      ]
     },
     "execution_count": 18,
     "metadata": {},
     "output_type": "execute_result"
    }
   ],
   "source": [
    "%viz --style=\"LR\" --view=\"State\" \"ViewTest\""
   ]
  },
  {
   "cell_type": "code",
   "execution_count": 19,
   "id": "consolidated-boards",
   "metadata": {
    "execution": {
     "iopub.execute_input": "2021-03-25T15:10:02.778592Z",
     "iopub.status.busy": "2021-03-25T15:10:02.778012Z",
     "iopub.status.idle": "2021-03-25T15:10:02.915822Z",
     "shell.execute_reply": "2021-03-25T15:10:02.914439Z"
    }
   },
   "outputs": [
    {
     "data": {
      "image/svg+xml": [
       "<?xml version=\"1.0\" encoding=\"UTF-8\" standalone=\"no\"?><svg xmlns=\"http://www.w3.org/2000/svg\" xmlns:xlink=\"http://www.w3.org/1999/xlink\" contentScriptType=\"application/ecmascript\" contentStyleType=\"text/css\" height=\"677px\" preserveAspectRatio=\"none\" style=\"width:248px;height:677px;\" version=\"1.1\" viewBox=\"0 0 248 677\" width=\"248px\" zoomAndPan=\"magnify\"><defs/><g><!--MD5=[fbc87193dbaf4d95561dea2c320d4a47]\n",
       "cluster E1--><a href=\"psysml:68a4efc3-4169-49c4-b08f-98091c4bc0be\" target=\"_top\" title=\"psysml:68a4efc3-4169-49c4-b08f-98091c4bc0be\" xlink:actuate=\"onRequest\" xlink:href=\"psysml:68a4efc3-4169-49c4-b08f-98091c4bc0be\" xlink:show=\"new\" xlink:title=\"psysml:68a4efc3-4169-49c4-b08f-98091c4bc0be\" xlink:type=\"simple\"><polygon fill=\"#FFFFFF\" points=\"16,6,96,6,103,28.2969,226,28.2969,226,665,16,665,16,6\" style=\"stroke: #000000; stroke-width: 1.5;\"/><line style=\"stroke: #000000; stroke-width: 1.5;\" x1=\"16\" x2=\"103\" y1=\"28.2969\" y2=\"28.2969\"/><text fill=\"#000000\" font-family=\"sans-serif\" font-size=\"14\" font-weight=\"bold\" lengthAdjust=\"spacingAndGlyphs\" textLength=\"74\" x=\"20\" y=\"20.9951\">ViewTest</text></a><!--MD5=[de5ec2e2e8f62f467e546659f5068c88]\n",
       "cluster E5--><a href=\"psysml:fa67c82a-cf4c-4211-8405-b886e7fced61\" target=\"_top\" title=\"psysml:fa67c82a-cf4c-4211-8405-b886e7fced61\" xlink:actuate=\"onRequest\" xlink:href=\"psysml:fa67c82a-cf4c-4211-8405-b886e7fced61\" xlink:show=\"new\" xlink:title=\"psysml:fa67c82a-cf4c-4211-8405-b886e7fced61\" xlink:type=\"simple\"><rect fill=\"#FFFFFF\" height=\"360\" id=\"E5\" style=\"stroke: #383838; stroke-width: 1.5;\" width=\"162\" x=\"40\" y=\"49\"/><rect fill=\"#F8F8F8\" height=\"37.9375\" style=\"stroke: #383838; stroke-width: 1.5;\" width=\"162\" x=\"40\" y=\"49\"/><text fill=\"#000000\" font-family=\"sans-serif\" font-size=\"12\" font-style=\"italic\" lengthAdjust=\"spacingAndGlyphs\" textLength=\"64\" x=\"89\" y=\"65.1387\">«view def»</text><text fill=\"#000000\" font-family=\"sans-serif\" font-size=\"12\" lengthAdjust=\"spacingAndGlyphs\" textLength=\"8\" x=\"117\" y=\"79.1074\">V</text></a><!--MD5=[14e3b0961a2654348d326746436168a1]\n",
       "cluster E6--><a href=\"psysml:edb93869-3e30-4330-ae7d-f0dbadb8ae6e\" target=\"_top\" title=\"psysml:edb93869-3e30-4330-ae7d-f0dbadb8ae6e\" xlink:actuate=\"onRequest\" xlink:href=\"psysml:edb93869-3e30-4330-ae7d-f0dbadb8ae6e\" xlink:show=\"new\" xlink:title=\"psysml:edb93869-3e30-4330-ae7d-f0dbadb8ae6e\" xlink:type=\"simple\"><rect fill=\"#FFFFFF\" height=\"111\" id=\"E6\" rx=\"10\" ry=\"10\" style=\"stroke: #383838; stroke-width: 1.5;\" width=\"114\" x=\"64\" y=\"108\"/><rect fill=\"#F8F8F8\" height=\"37.9375\" rx=\"10\" ry=\"10\" style=\"stroke: #F8F8F8; stroke-width: 1.5;\" width=\"114\" x=\"64\" y=\"108\"/><rect fill=\"#F8F8F8\" height=\"10\" style=\"stroke: #F8F8F8; stroke-width: 1.5;\" width=\"114\" x=\"64\" y=\"135.9375\"/><rect fill=\"none\" height=\"111\" id=\"E6\" rx=\"10\" ry=\"10\" style=\"stroke: #383838; stroke-width: 1.5;\" width=\"114\" x=\"64\" y=\"108\"/><text fill=\"#000000\" font-family=\"sans-serif\" font-size=\"12\" font-style=\"italic\" lengthAdjust=\"spacingAndGlyphs\" textLength=\"72\" x=\"85\" y=\"124.1387\">«viewpoint»</text><text fill=\"#000000\" font-family=\"sans-serif\" font-size=\"12\" lengthAdjust=\"spacingAndGlyphs\" textLength=\"38\" x=\"102\" y=\"138.1074\">vp: VP</text><line style=\"stroke: #383838; stroke-width: 1.0;\" x1=\"64\" x2=\"178\" y1=\"145.9375\" y2=\"145.9375\"/></a><!--MD5=[7f149f147074ac12df2cb0a7728a5fb0]\n",
       "cluster E9--><a href=\"psysml:c79df832-858d-4f87-b041-227cc7f695ce\" target=\"_top\" title=\"psysml:c79df832-858d-4f87-b041-227cc7f695ce\" xlink:actuate=\"onRequest\" xlink:href=\"psysml:c79df832-858d-4f87-b041-227cc7f695ce\" xlink:show=\"new\" xlink:title=\"psysml:c79df832-858d-4f87-b041-227cc7f695ce\" xlink:type=\"simple\"><rect fill=\"#FFFFFF\" height=\"91\" id=\"E9\" rx=\"10\" ry=\"10\" style=\"stroke: #383838; stroke-width: 1.5;\" width=\"82\" x=\"80\" y=\"243\"/><rect fill=\"#F8F8F8\" height=\"23.9688\" rx=\"10\" ry=\"10\" style=\"stroke: #F8F8F8; stroke-width: 1.5;\" width=\"82\" x=\"80\" y=\"243\"/><rect fill=\"#F8F8F8\" height=\"10\" style=\"stroke: #F8F8F8; stroke-width: 1.5;\" width=\"82\" x=\"80\" y=\"256.9688\"/><rect fill=\"none\" height=\"91\" id=\"E9\" rx=\"10\" ry=\"10\" style=\"stroke: #383838; stroke-width: 1.5;\" width=\"82\" x=\"80\" y=\"243\"/><text fill=\"#000000\" font-family=\"sans-serif\" font-size=\"12\" lengthAdjust=\"spacingAndGlyphs\" textLength=\"22\" x=\"110\" y=\"259.1387\">v: V</text><line style=\"stroke: #383838; stroke-width: 1.0;\" x1=\"80\" x2=\"162\" y1=\"266.9688\" y2=\"266.9688\"/></a><!--MD5=[09b614a08d8cba4a07c9adeb5e0fee81]\n",
       "class E3--><a href=\"psysml:0e16ef0b-675e-475c-a6ab-030697702310\" target=\"_top\" title=\"psysml:0e16ef0b-675e-475c-a6ab-030697702310\" xlink:actuate=\"onRequest\" xlink:href=\"psysml:0e16ef0b-675e-475c-a6ab-030697702310\" xlink:show=\"new\" xlink:title=\"psysml:0e16ef0b-675e-475c-a6ab-030697702310\" xlink:type=\"simple\"><rect fill=\"#FFFFFF\" height=\"53.9375\" id=\"E3\" style=\"stroke: #383838; stroke-width: 1.5;\" width=\"146\" x=\"48\" y=\"428\"/><text fill=\"#000000\" font-family=\"sans-serif\" font-size=\"12\" font-style=\"italic\" lengthAdjust=\"spacingAndGlyphs\" textLength=\"144\" x=\"49\" y=\"444.1387\">«(T,blue)viewpoint def»</text><text fill=\"#000000\" font-family=\"sans-serif\" font-size=\"12\" lengthAdjust=\"spacingAndGlyphs\" textLength=\"16\" x=\"113\" y=\"458.1074\">VP</text><line style=\"stroke: #383838; stroke-width: 1.5;\" x1=\"49\" x2=\"193\" y1=\"465.9375\" y2=\"465.9375\"/><line style=\"stroke: #383838; stroke-width: 1.5;\" x1=\"49\" x2=\"193\" y1=\"473.9375\" y2=\"473.9375\"/></a><a href=\"psysml:d8eb8e98-9fc5-4554-bb79-0a7fb3af234b\" target=\"_top\" title=\"psysml:d8eb8e98-9fc5-4554-bb79-0a7fb3af234b\" xlink:actuate=\"onRequest\" xlink:href=\"psysml:d8eb8e98-9fc5-4554-bb79-0a7fb3af234b\" xlink:show=\"new\" xlink:title=\"psysml:d8eb8e98-9fc5-4554-bb79-0a7fb3af234b\" xlink:type=\"simple\"><polygon fill=\"#FFFFFF\" points=\"106,517.5,122,517.5,129,539.7969,136,539.7969,136,570.0938,106,570.0938,106,517.5\" style=\"stroke: #000000; stroke-width: 1.5;\"/><line style=\"stroke: #000000; stroke-width: 1.5;\" x1=\"106\" x2=\"129\" y1=\"539.7969\" y2=\"539.7969\"/><text fill=\"#000000\" font-family=\"sans-serif\" font-size=\"14\" font-weight=\"bold\" lengthAdjust=\"spacingAndGlyphs\" textLength=\"10\" x=\"110\" y=\"532.4951\">P</text></a><g id=\"E1.E4\"><a href=\"psysml:80b9aeea-925b-4b3a-8c84-ce381a5e60ed\" target=\"_top\" title=\"psysml:80b9aeea-925b-4b3a-8c84-ce381a5e60ed\" xlink:actuate=\"onRequest\" xlink:href=\"psysml:80b9aeea-925b-4b3a-8c84-ce381a5e60ed\" xlink:show=\"new\" xlink:title=\"psysml:80b9aeea-925b-4b3a-8c84-ce381a5e60ed\" xlink:type=\"simple\"><rect fill=\"#FFFFFF\" height=\"42.9375\" id=\"E4\" style=\"stroke: #383838; stroke-width: 1.5;\" width=\"106\" x=\"68\" y=\"605.5\"/><rect fill=\"#F8F8F8\" height=\"37.9375\" style=\"stroke: #383838; stroke-width: 1.5;\" width=\"106\" x=\"68\" y=\"605.5\"/><text fill=\"#000000\" font-family=\"sans-serif\" font-size=\"12\" font-style=\"italic\" lengthAdjust=\"spacingAndGlyphs\" textLength=\"99\" x=\"71.5\" y=\"621.6387\">«rendering def»</text><text fill=\"#000000\" font-family=\"sans-serif\" font-size=\"12\" lengthAdjust=\"spacingAndGlyphs\" textLength=\"8\" x=\"117\" y=\"635.6074\">R</text></a></g><g id=\"E1.E5.E6.E7\"><a href=\"psysml:df90ec85-1f95-42f9-8740-37e2136842a3\" target=\"_top\" title=\"psysml:df90ec85-1f95-42f9-8740-37e2136842a3\" xlink:actuate=\"onRequest\" xlink:href=\"psysml:df90ec85-1f95-42f9-8740-37e2136842a3\" xlink:show=\"new\" xlink:title=\"psysml:df90ec85-1f95-42f9-8740-37e2136842a3\" xlink:type=\"simple\"><rect fill=\"#FFFFFF\" height=\"42.9375\" id=\"E7\" rx=\"10\" ry=\"10\" style=\"stroke: #383838; stroke-width: 1.5;\" width=\"82\" x=\"80\" y=\"159.5\"/><rect fill=\"#F8F8F8\" height=\"37.9375\" rx=\"10\" ry=\"10\" style=\"stroke: #F8F8F8; stroke-width: 1.5;\" width=\"82\" x=\"80\" y=\"159.5\"/><rect fill=\"#F8F8F8\" height=\"10\" style=\"stroke: #F8F8F8; stroke-width: 1.5;\" width=\"82\" x=\"80\" y=\"187.4375\"/><rect fill=\"none\" height=\"42.9375\" id=\"E7\" rx=\"10\" ry=\"10\" style=\"stroke: #383838; stroke-width: 1.5;\" width=\"82\" x=\"80\" y=\"159.5\"/><text fill=\"#000000\" font-family=\"sans-serif\" font-size=\"12\" font-style=\"italic\" lengthAdjust=\"spacingAndGlyphs\" textLength=\"75\" x=\"83.5\" y=\"175.6387\">«reference»</text><text fill=\"#000000\" font-family=\"sans-serif\" font-size=\"12\" lengthAdjust=\"spacingAndGlyphs\" textLength=\"26\" x=\"108\" y=\"189.6074\">subj</text></a></g><g id=\"E1.E5.E8\"><a href=\"psysml:d3ad1959-ed24-48c6-b8cb-3101ea5444ce\" target=\"_top\" title=\"psysml:d3ad1959-ed24-48c6-b8cb-3101ea5444ce\" xlink:actuate=\"onRequest\" xlink:href=\"psysml:d3ad1959-ed24-48c6-b8cb-3101ea5444ce\" xlink:show=\"new\" xlink:title=\"psysml:d3ad1959-ed24-48c6-b8cb-3101ea5444ce\" xlink:type=\"simple\"><rect fill=\"#FFFFFF\" height=\"40\" id=\"E8\" rx=\"10\" ry=\"10\" style=\"stroke: #383838; stroke-width: 1.5;\" width=\"50\" x=\"96\" y=\"353\"/><rect fill=\"#F8F8F8\" height=\"23.9688\" rx=\"10\" ry=\"10\" style=\"stroke: #F8F8F8; stroke-width: 1.5;\" width=\"50\" x=\"96\" y=\"353\"/><rect fill=\"#F8F8F8\" height=\"10\" style=\"stroke: #F8F8F8; stroke-width: 1.5;\" width=\"50\" x=\"96\" y=\"366.9688\"/><rect fill=\"none\" height=\"40\" id=\"E8\" rx=\"10\" ry=\"10\" style=\"stroke: #383838; stroke-width: 1.5;\" width=\"50\" x=\"96\" y=\"353\"/><text fill=\"#000000\" font-family=\"sans-serif\" font-size=\"12\" lengthAdjust=\"spacingAndGlyphs\" textLength=\"21\" x=\"110.5\" y=\"369.1387\">r: R</text></a></g><g id=\"E1.E5.E9.E10\"><a href=\"psysml:599cc28e-37a4-4871-97e7-8713776fcf23\" target=\"_top\" title=\"psysml:599cc28e-37a4-4871-97e7-8713776fcf23\" xlink:actuate=\"onRequest\" xlink:href=\"psysml:599cc28e-37a4-4871-97e7-8713776fcf23\" xlink:show=\"new\" xlink:title=\"psysml:599cc28e-37a4-4871-97e7-8713776fcf23\" xlink:type=\"simple\"><rect fill=\"#FFFFFF\" height=\"40\" id=\"E10\" rx=\"10\" ry=\"10\" style=\"stroke: #383838; stroke-width: 1.5;\" width=\"50\" x=\"96\" y=\"278\"/><rect fill=\"#F8F8F8\" height=\"23.9688\" rx=\"10\" ry=\"10\" style=\"stroke: #F8F8F8; stroke-width: 1.5;\" width=\"50\" x=\"96\" y=\"278\"/><rect fill=\"#F8F8F8\" height=\"10\" style=\"stroke: #F8F8F8; stroke-width: 1.5;\" width=\"50\" x=\"96\" y=\"291.9688\"/><rect fill=\"none\" height=\"40\" id=\"E10\" rx=\"10\" ry=\"10\" style=\"stroke: #383838; stroke-width: 1.5;\" width=\"50\" x=\"96\" y=\"278\"/><text fill=\"#000000\" font-family=\"sans-serif\" font-size=\"12\" lengthAdjust=\"spacingAndGlyphs\" textLength=\"13\" x=\"114.5\" y=\"294.1387\">r1</text></a></g><!--MD5=[300a4ab852a07ed4c48d091b0fed9f94]\n",
       "@startuml\r\n",
       "skinparam ranksep 8\r\n",
       "skinparam rectangle {\r\n",
       " backgroundColor<<block>> LightGreen\r\n",
       "}\r\n",
       "left to right direction\r\n",
       "skinparam monochrome true\r\n",
       "skinparam classbackgroundcolor white\r\n",
       "skinparam shadowing false\r\n",
       "skinparam wrapWidth 300\r\n",
       "hide circle\r\n",
       "\r\n",
       "package \"ViewTest\" as E1  [[psysml:68a4efc3-4169-49c4-b08f-98091c4bc0be ]]  {\r\n",
       "package \"P\" as E2  [[psysml:d8eb8e98-9fc5-4554-bb79-0a7fb3af234b ]]  {\r\n",
       "}\r\n",
       "def \"VP\" as E3  <<(T,blue)viewpoint def>> [[psysml:0e16ef0b-675e-475c-a6ab-030697702310 ]] \r\n",
       "rec def \"R\" as E4  <<(T,blue)rendering def>> [[psysml:80b9aeea-925b-4b3a-8c84-ce381a5e60ed ]] {\r\n",
       "}\r\n",
       "rec def \"V\" as E5  <<(T,blue)view def>> [[psysml:fa67c82a-cf4c-4211-8405-b886e7fced61 ]] {\r\n",
       "rec usage \"vp: VP\" as E6  <<(T,blue)viewpoint>> [[psysml:edb93869-3e30-4330-ae7d-f0dbadb8ae6e ]] {\r\n",
       "rec usage \"subj\" as E7  <<(T,blue)reference>> [[psysml:df90ec85-1f95-42f9-8740-37e2136842a3 ]] {\r\n",
       "}\r\n",
       "}\r\n",
       "rec usage \"r: R\" as E8  [[psysml:d3ad1959-ed24-48c6-b8cb-3101ea5444ce ]] {\r\n",
       "}\r\n",
       "rec usage \"v: V\" as E9  [[psysml:c79df832-858d-4f87-b041-227cc7f695ce ]] {\r\n",
       "rec usage \"r1\" as E10  [[psysml:599cc28e-37a4-4871-97e7-8713776fcf23 ]] {\r\n",
       "}\r\n",
       "}\r\n",
       "}\r\n",
       "}\r\n",
       "@enduml\r\n",
       "\n",
       "PlantUML version 1.2020.13(Sat Jun 13 12:26:38 UTC 2020)\n",
       "(EPL source distribution)\n",
       "Java Runtime: OpenJDK Runtime Environment\n",
       "JVM: OpenJDK 64-Bit Server VM\n",
       "Default Encoding: UTF-8\n",
       "Language: en\n",
       "Country: null\n",
       "--></g></svg>"
      ]
     },
     "execution_count": 19,
     "metadata": {},
     "output_type": "execute_result"
    }
   ],
   "source": [
    "%viz --style=\"LR\" --view=\"Interconnection\" \"ViewTest\""
   ]
  },
  {
   "cell_type": "code",
   "execution_count": 20,
   "id": "continuous-holocaust",
   "metadata": {
    "execution": {
     "iopub.execute_input": "2021-03-25T15:10:02.967183Z",
     "iopub.status.busy": "2021-03-25T15:10:02.966641Z",
     "iopub.status.idle": "2021-03-25T15:10:02.973479Z",
     "shell.execute_reply": "2021-03-25T15:10:02.973835Z"
    }
   },
   "outputs": [
    {
     "data": {
      "image/svg+xml": [
       "<?xml version=\"1.0\" encoding=\"UTF-8\" standalone=\"no\"?><svg xmlns=\"http://www.w3.org/2000/svg\" xmlns:xlink=\"http://www.w3.org/1999/xlink\" contentScriptType=\"application/ecmascript\" contentStyleType=\"text/css\" height=\"12px\" preserveAspectRatio=\"none\" style=\"width:12px;height:12px;\" version=\"1.1\" viewBox=\"0 0 12 12\" width=\"12px\" zoomAndPan=\"magnify\"><defs/><g><!--MD5=[7aeb398939421629f6affaa4a1a7b125]\n",
       "@startuml\r\n",
       "skinparam ranksep 8\r\n",
       "left to right direction\r\n",
       "skinparam monochrome true\r\n",
       "skinparam classbackgroundcolor white\r\n",
       "skinparam shadowing false\r\n",
       "skinparam wrapWidth 300\r\n",
       "hide circle\r\n",
       "\r\n",
       "@enduml\r\n",
       "\n",
       "PlantUML version 1.2020.13(Sat Jun 13 12:26:38 UTC 2020)\n",
       "(EPL source distribution)\n",
       "Java Runtime: OpenJDK Runtime Environment\n",
       "JVM: OpenJDK 64-Bit Server VM\n",
       "Default Encoding: UTF-8\n",
       "Language: en\n",
       "Country: null\n",
       "--></g></svg>"
      ]
     },
     "execution_count": 20,
     "metadata": {},
     "output_type": "execute_result"
    }
   ],
   "source": [
    "%viz --style=\"LR\" --view=\"Action\" \"ViewTest\""
   ]
  },
  {
   "cell_type": "code",
   "execution_count": 21,
   "id": "internal-trailer",
   "metadata": {
    "execution": {
     "iopub.execute_input": "2021-03-25T15:10:03.026835Z",
     "iopub.status.busy": "2021-03-25T15:10:03.026081Z",
     "iopub.status.idle": "2021-03-25T15:10:03.130790Z",
     "shell.execute_reply": "2021-03-25T15:10:03.129216Z"
    }
   },
   "outputs": [
    {
     "data": {
      "image/svg+xml": [
       "<?xml version=\"1.0\" encoding=\"UTF-8\" standalone=\"no\"?><svg xmlns=\"http://www.w3.org/2000/svg\" xmlns:xlink=\"http://www.w3.org/1999/xlink\" contentScriptType=\"application/ecmascript\" contentStyleType=\"text/css\" height=\"277px\" preserveAspectRatio=\"none\" style=\"width:434px;height:277px;\" version=\"1.1\" viewBox=\"0 0 434 277\" width=\"434px\" zoomAndPan=\"magnify\"><defs/><g><!--MD5=[fbc87193dbaf4d95561dea2c320d4a47]\n",
       "cluster E1--><a href=\"psysml:68a4efc3-4169-49c4-b08f-98091c4bc0be\" target=\"_top\" title=\"psysml:68a4efc3-4169-49c4-b08f-98091c4bc0be\" xlink:actuate=\"onRequest\" xlink:href=\"psysml:68a4efc3-4169-49c4-b08f-98091c4bc0be\" xlink:show=\"new\" xlink:title=\"psysml:68a4efc3-4169-49c4-b08f-98091c4bc0be\" xlink:type=\"simple\"><polygon fill=\"#FFFFFF\" points=\"16,6,96,6,103,28.2969,412,28.2969,412,265,16,265,16,6\" style=\"stroke: #000000; stroke-width: 1.5;\"/><line style=\"stroke: #000000; stroke-width: 1.5;\" x1=\"16\" x2=\"103\" y1=\"28.2969\" y2=\"28.2969\"/><text fill=\"#000000\" font-family=\"sans-serif\" font-size=\"14\" font-weight=\"bold\" lengthAdjust=\"spacingAndGlyphs\" textLength=\"74\" x=\"20\" y=\"20.9951\">ViewTest</text></a><!--MD5=[09b614a08d8cba4a07c9adeb5e0fee81]\n",
       "class E3--><a href=\"psysml:0e16ef0b-675e-475c-a6ab-030697702310\" target=\"_top\" title=\"psysml:0e16ef0b-675e-475c-a6ab-030697702310\" xlink:actuate=\"onRequest\" xlink:href=\"psysml:0e16ef0b-675e-475c-a6ab-030697702310\" xlink:show=\"new\" xlink:title=\"psysml:0e16ef0b-675e-475c-a6ab-030697702310\" xlink:type=\"simple\"><rect fill=\"#FFFFFF\" height=\"45.9375\" id=\"E3\" style=\"stroke: #383838; stroke-width: 1.5;\" width=\"98\" x=\"296.5\" y=\"203\"/><text fill=\"#000000\" font-family=\"sans-serif\" font-size=\"12\" font-style=\"italic\" lengthAdjust=\"spacingAndGlyphs\" textLength=\"96\" x=\"297.5\" y=\"219.1387\">«viewpoint def»</text><text fill=\"#000000\" font-family=\"sans-serif\" font-size=\"12\" lengthAdjust=\"spacingAndGlyphs\" textLength=\"16\" x=\"337.5\" y=\"233.1074\">VP</text><line style=\"stroke: #383838; stroke-width: 1.5;\" x1=\"297.5\" x2=\"393.5\" y1=\"240.9375\" y2=\"240.9375\"/></a><!--MD5=[ebbe1d658d1005bcc118a6aa81145e00]\n",
       "class E4--><a href=\"psysml:80b9aeea-925b-4b3a-8c84-ce381a5e60ed\" target=\"_top\" title=\"psysml:80b9aeea-925b-4b3a-8c84-ce381a5e60ed\" xlink:actuate=\"onRequest\" xlink:href=\"psysml:80b9aeea-925b-4b3a-8c84-ce381a5e60ed\" xlink:show=\"new\" xlink:title=\"psysml:80b9aeea-925b-4b3a-8c84-ce381a5e60ed\" xlink:type=\"simple\"><rect fill=\"#FFFFFF\" height=\"45.9375\" id=\"E4\" style=\"stroke: #383838; stroke-width: 1.5;\" width=\"101\" x=\"295\" y=\"122\"/><text fill=\"#000000\" font-family=\"sans-serif\" font-size=\"12\" font-style=\"italic\" lengthAdjust=\"spacingAndGlyphs\" textLength=\"99\" x=\"296\" y=\"138.1387\">«rendering def»</text><text fill=\"#000000\" font-family=\"sans-serif\" font-size=\"12\" lengthAdjust=\"spacingAndGlyphs\" textLength=\"8\" x=\"341.5\" y=\"152.1074\">R</text><line style=\"stroke: #383838; stroke-width: 1.5;\" x1=\"296\" x2=\"395\" y1=\"159.9375\" y2=\"159.9375\"/></a><!--MD5=[270fce915f116d4de14055a7c1d9a0f3]\n",
       "class E5--><a href=\"psysml:fa67c82a-cf4c-4211-8405-b886e7fced61\" target=\"_top\" title=\"psysml:fa67c82a-cf4c-4211-8405-b886e7fced61\" xlink:actuate=\"onRequest\" xlink:href=\"psysml:fa67c82a-cf4c-4211-8405-b886e7fced61\" xlink:show=\"new\" xlink:title=\"psysml:fa67c82a-cf4c-4211-8405-b886e7fced61\" xlink:type=\"simple\"><rect fill=\"#FFFFFF\" height=\"45.9375\" id=\"E5\" style=\"stroke: #383838; stroke-width: 1.5;\" width=\"66\" x=\"32\" y=\"60\"/><text fill=\"#000000\" font-family=\"sans-serif\" font-size=\"12\" font-style=\"italic\" lengthAdjust=\"spacingAndGlyphs\" textLength=\"64\" x=\"33\" y=\"76.1387\">«view def»</text><text fill=\"#000000\" font-family=\"sans-serif\" font-size=\"12\" lengthAdjust=\"spacingAndGlyphs\" textLength=\"8\" x=\"61\" y=\"90.1074\">V</text><line style=\"stroke: #383838; stroke-width: 1.5;\" x1=\"33\" x2=\"97\" y1=\"97.9375\" y2=\"97.9375\"/></a><!--MD5=[60a26617385b1d2d0262a64233df1f8d]\n",
       "class E6--><a href=\"psysml:edb93869-3e30-4330-ae7d-f0dbadb8ae6e\" target=\"_top\" title=\"psysml:edb93869-3e30-4330-ae7d-f0dbadb8ae6e\" xlink:actuate=\"onRequest\" xlink:href=\"psysml:edb93869-3e30-4330-ae7d-f0dbadb8ae6e\" xlink:show=\"new\" xlink:title=\"psysml:edb93869-3e30-4330-ae7d-f0dbadb8ae6e\" xlink:type=\"simple\"><rect fill=\"#FFFFFF\" height=\"45.9375\" id=\"E6\" rx=\"10\" ry=\"10\" style=\"stroke: #383838; stroke-width: 1.5;\" width=\"74\" x=\"159.5\" y=\"203\"/><text fill=\"#000000\" font-family=\"sans-serif\" font-size=\"12\" font-style=\"italic\" lengthAdjust=\"spacingAndGlyphs\" textLength=\"72\" x=\"160.5\" y=\"219.1387\">«viewpoint»</text><text fill=\"#000000\" font-family=\"sans-serif\" font-size=\"12\" lengthAdjust=\"spacingAndGlyphs\" textLength=\"38\" x=\"177.5\" y=\"233.1074\">vp: VP</text><line style=\"stroke: #383838; stroke-width: 1.5;\" x1=\"160.5\" x2=\"232.5\" y1=\"240.9375\" y2=\"240.9375\"/></a><!--MD5=[2156ba9850f5573cc1fc38a6a4b2f02b]\n",
       "class E7--><a href=\"psysml:d3ad1959-ed24-48c6-b8cb-3101ea5444ce\" target=\"_top\" title=\"psysml:d3ad1959-ed24-48c6-b8cb-3101ea5444ce\" xlink:actuate=\"onRequest\" xlink:href=\"psysml:d3ad1959-ed24-48c6-b8cb-3101ea5444ce\" xlink:show=\"new\" xlink:title=\"psysml:d3ad1959-ed24-48c6-b8cb-3101ea5444ce\" xlink:type=\"simple\"><rect fill=\"#FFFFFF\" height=\"45.9375\" id=\"E7\" rx=\"10\" ry=\"10\" style=\"stroke: #383838; stroke-width: 1.5;\" width=\"77\" x=\"158\" y=\"122\"/><text fill=\"#000000\" font-family=\"sans-serif\" font-size=\"12\" font-style=\"italic\" lengthAdjust=\"spacingAndGlyphs\" textLength=\"75\" x=\"159\" y=\"138.1387\">«rendering»</text><text fill=\"#000000\" font-family=\"sans-serif\" font-size=\"12\" lengthAdjust=\"spacingAndGlyphs\" textLength=\"21\" x=\"186\" y=\"152.1074\">r: R</text><line style=\"stroke: #383838; stroke-width: 1.5;\" x1=\"159\" x2=\"234\" y1=\"159.9375\" y2=\"159.9375\"/></a><!--MD5=[b9389687b975829384b498ac4b7476b2]\n",
       "class E8--><a href=\"psysml:c79df832-858d-4f87-b041-227cc7f695ce\" target=\"_top\" title=\"psysml:c79df832-858d-4f87-b041-227cc7f695ce\" xlink:actuate=\"onRequest\" xlink:href=\"psysml:c79df832-858d-4f87-b041-227cc7f695ce\" xlink:show=\"new\" xlink:title=\"psysml:c79df832-858d-4f87-b041-227cc7f695ce\" xlink:type=\"simple\"><rect fill=\"#FFFFFF\" height=\"45.9375\" id=\"E8\" rx=\"10\" ry=\"10\" style=\"stroke: #383838; stroke-width: 1.5;\" width=\"42\" x=\"175.5\" y=\"41\"/><text fill=\"#000000\" font-family=\"sans-serif\" font-size=\"12\" font-style=\"italic\" lengthAdjust=\"spacingAndGlyphs\" textLength=\"40\" x=\"176.5\" y=\"57.1387\">«view»</text><text fill=\"#000000\" font-family=\"sans-serif\" font-size=\"12\" lengthAdjust=\"spacingAndGlyphs\" textLength=\"22\" x=\"185.5\" y=\"71.1074\">v: V</text><line style=\"stroke: #383838; stroke-width: 1.5;\" x1=\"176.5\" x2=\"216.5\" y1=\"78.9375\" y2=\"78.9375\"/></a><!--MD5=[fd4143e9d270a159db93a4ea2a975926]\n",
       "class E9--><a href=\"psysml:599cc28e-37a4-4871-97e7-8713776fcf23\" target=\"_top\" title=\"psysml:599cc28e-37a4-4871-97e7-8713776fcf23\" xlink:actuate=\"onRequest\" xlink:href=\"psysml:599cc28e-37a4-4871-97e7-8713776fcf23\" xlink:show=\"new\" xlink:title=\"psysml:599cc28e-37a4-4871-97e7-8713776fcf23\" xlink:type=\"simple\"><rect fill=\"#FFFFFF\" height=\"45.9375\" id=\"E9\" rx=\"10\" ry=\"10\" style=\"stroke: #383838; stroke-width: 1.5;\" width=\"77\" x=\"307\" y=\"41\"/><text fill=\"#000000\" font-family=\"sans-serif\" font-size=\"12\" font-style=\"italic\" lengthAdjust=\"spacingAndGlyphs\" textLength=\"75\" x=\"308\" y=\"57.1387\">«rendering»</text><text fill=\"#000000\" font-family=\"sans-serif\" font-size=\"12\" lengthAdjust=\"spacingAndGlyphs\" textLength=\"13\" x=\"339\" y=\"71.1074\">r1</text><line style=\"stroke: #383838; stroke-width: 1.5;\" x1=\"308\" x2=\"383\" y1=\"78.9375\" y2=\"78.9375\"/></a><a href=\"psysml:d8eb8e98-9fc5-4554-bb79-0a7fb3af234b\" target=\"_top\" title=\"psysml:d8eb8e98-9fc5-4554-bb79-0a7fb3af234b\" xlink:actuate=\"onRequest\" xlink:href=\"psysml:d8eb8e98-9fc5-4554-bb79-0a7fb3af234b\" xlink:show=\"new\" xlink:title=\"psysml:d8eb8e98-9fc5-4554-bb79-0a7fb3af234b\" xlink:type=\"simple\"><polygon fill=\"#FFFFFF\" points=\"50,159.5,66,159.5,73,181.7969,80,181.7969,80,212.0938,50,212.0938,50,159.5\" style=\"stroke: #000000; stroke-width: 1.5;\"/><line style=\"stroke: #000000; stroke-width: 1.5;\" x1=\"50\" x2=\"73\" y1=\"181.7969\" y2=\"181.7969\"/><text fill=\"#000000\" font-family=\"sans-serif\" font-size=\"14\" font-weight=\"bold\" lengthAdjust=\"spacingAndGlyphs\" textLength=\"10\" x=\"54\" y=\"174.4951\">P</text></a><!--MD5=[85d356282659285ab4b2cfe2f634dd2b]\n",
       "reverse link E5 to E6--><a href=\"psysml:edb93869-3e30-4330-ae7d-f0dbadb8ae6e\" target=\"_top\" title=\"psysml:edb93869-3e30-4330-ae7d-f0dbadb8ae6e\" xlink:actuate=\"onRequest\" xlink:href=\"psysml:edb93869-3e30-4330-ae7d-f0dbadb8ae6e\" xlink:show=\"new\" xlink:title=\"psysml:edb93869-3e30-4330-ae7d-f0dbadb8ae6e\" xlink:type=\"simple\"><path d=\"M95.16,116.05 C113.15,136.34 136.77,162.8 158,186 C163.01,191.48 168.45,197.33 173.59,202.82 \" fill=\"none\" id=\"E5&lt;-E6\" style=\"stroke: #383838; stroke-width: 1.0;\"/><polygon fill=\"#383838\" points=\"86.31,106.05,87.2929,113.1938,94.2652,115.0342,93.2823,107.8904,86.31,106.05\" style=\"stroke: #383838; stroke-width: 1.0;\"/></a><!--MD5=[a717450b82c80b9240a525fa862496af]\n",
       "link E6 to E3--><a href=\"psysml:678c28b1-b825-4869-b6db-341a5ef18df5\" target=\"_top\" title=\"psysml:678c28b1-b825-4869-b6db-341a5ef18df5\" xlink:actuate=\"onRequest\" xlink:href=\"psysml:678c28b1-b825-4869-b6db-341a5ef18df5\" xlink:show=\"new\" xlink:title=\"psysml:678c28b1-b825-4869-b6db-341a5ef18df5\" xlink:type=\"simple\"><path d=\"M233.84,226 C246.67,226 261.54,226 276.15,226 \" fill=\"none\" id=\"E6-&gt;E3\" style=\"stroke: #383838; stroke-width: 1.0;\"/><polygon fill=\"#FFFFFF\" points=\"296.38,226,277.38,233,277.38,219,296.38,226\" style=\"stroke: #383838; stroke-width: 1.0;\"/><ellipse cx=\"271.68\" cy=\"231\" fill=\"#383838\" rx=\"2\" ry=\"2\" style=\"stroke: #383838; stroke-width: 1.0;\"/><ellipse cx=\"271.68\" cy=\"221\" fill=\"#383838\" rx=\"2\" ry=\"2\" style=\"stroke: #383838; stroke-width: 1.0;\"/></a><!--MD5=[6bdd27f9905911a7e892a3dc65cf6b7c]\n",
       "link E7 to E4--><a href=\"psysml:e01b0a28-1744-4d35-a29d-a960e4229aec\" target=\"_top\" title=\"psysml:e01b0a28-1744-4d35-a29d-a960e4229aec\" xlink:actuate=\"onRequest\" xlink:href=\"psysml:e01b0a28-1744-4d35-a29d-a960e4229aec\" xlink:show=\"new\" xlink:title=\"psysml:e01b0a28-1744-4d35-a29d-a960e4229aec\" xlink:type=\"simple\"><path d=\"M235.36,145 C247.39,145 261.1,145 274.65,145 \" fill=\"none\" id=\"E7-&gt;E4\" style=\"stroke: #383838; stroke-width: 1.0;\"/><polygon fill=\"#FFFFFF\" points=\"294.85,145,275.85,152,275.85,138,294.85,145\" style=\"stroke: #383838; stroke-width: 1.0;\"/><ellipse cx=\"270.15\" cy=\"150\" fill=\"#383838\" rx=\"2\" ry=\"2\" style=\"stroke: #383838; stroke-width: 1.0;\"/><ellipse cx=\"270.15\" cy=\"140\" fill=\"#383838\" rx=\"2\" ry=\"2\" style=\"stroke: #383838; stroke-width: 1.0;\"/></a><!--MD5=[452b418e7f8a40397a49b8c0a78acc5b]\n",
       "reverse link E5 to E7--><a href=\"psysml:d3ad1959-ed24-48c6-b8cb-3101ea5444ce\" target=\"_top\" title=\"psysml:d3ad1959-ed24-48c6-b8cb-3101ea5444ce\" xlink:actuate=\"onRequest\" xlink:href=\"psysml:d3ad1959-ed24-48c6-b8cb-3101ea5444ce\" xlink:show=\"new\" xlink:title=\"psysml:d3ad1959-ed24-48c6-b8cb-3101ea5444ce\" xlink:type=\"simple\"><path d=\"M110.02,104.08 C125.57,111.52 142.91,119.82 157.88,126.99 \" fill=\"none\" id=\"E5&lt;-E7\" style=\"stroke: #383838; stroke-width: 1.0;\"/><polygon fill=\"#383838\" points=\"98.01,98.33,101.6919,104.5303,108.8314,103.5163,105.1495,97.316,98.01,98.33\" style=\"stroke: #383838; stroke-width: 1.0;\"/><text fill=\"#000000\" font-family=\"sans-serif\" font-size=\"13\" lengthAdjust=\"spacingAndGlyphs\" textLength=\"24\" x=\"126.1288\" y=\"137.4625\">0..1</text></a><!--MD5=[1ccb2481ffa92f8d51a74ee30c51832a]\n",
       "link E8 to E5--><a href=\"psysml:3896f3dd-ac25-48cd-93fb-dac3b3d02068\" target=\"_top\" title=\"psysml:3896f3dd-ac25-48cd-93fb-dac3b3d02068\" xlink:actuate=\"onRequest\" xlink:href=\"psysml:3896f3dd-ac25-48cd-93fb-dac3b3d02068\" xlink:show=\"new\" xlink:title=\"psysml:3896f3dd-ac25-48cd-93fb-dac3b3d02068\" xlink:type=\"simple\"><path d=\"M175.15,56.84 C159.72,56.26 137.8,58.44 117.65,62.17 \" fill=\"none\" id=\"E8-&gt;E5\" style=\"stroke: #383838; stroke-width: 1.0;\"/><polygon fill=\"#FFFFFF\" points=\"98.01,66.47,115.0695,55.5625,118.0684,69.2376,98.01,66.47\" style=\"stroke: #383838; stroke-width: 1.0;\"/><ellipse cx=\"121.0656\" cy=\"56.2951\" fill=\"#383838\" rx=\"2\" ry=\"2\" style=\"stroke: #383838; stroke-width: 1.0;\"/><ellipse cx=\"123.2077\" cy=\"66.063\" fill=\"#383838\" rx=\"2\" ry=\"2\" style=\"stroke: #383838; stroke-width: 1.0;\"/></a><!--MD5=[827760032d119d06bbc92f75530fd7ae]\n",
       "reverse link E5 to E8--><a href=\"psysml:c79df832-858d-4f87-b041-227cc7f695ce\" target=\"_top\" title=\"psysml:c79df832-858d-4f87-b041-227cc7f695ce\" xlink:actuate=\"onRequest\" xlink:href=\"psysml:c79df832-858d-4f87-b041-227cc7f695ce\" xlink:show=\"new\" xlink:title=\"psysml:c79df832-858d-4f87-b041-227cc7f695ce\" xlink:type=\"simple\"><path d=\"M111.07,88.6 C132.9,86.63 158.02,82.06 175.15,76.57 \" fill=\"none\" id=\"E5&lt;-E8\" style=\"stroke: #383838; stroke-width: 1.0;\"/><polygon fill=\"#383838\" points=\"98.01,89.48,104.2646,93.0688,109.983,88.6756,103.7284,85.0868,98.01,89.48\" style=\"stroke: #383838; stroke-width: 1.0;\"/><text fill=\"#000000\" font-family=\"sans-serif\" font-size=\"13\" lengthAdjust=\"spacingAndGlyphs\" textLength=\"7\" x=\"160.5397\" y=\"94.8132\">*</text></a><!--MD5=[22f5b4bae7e060dce8a1c8021efdb95b]\n",
       "reverse link E8 to E9--><a href=\"psysml:599cc28e-37a4-4871-97e7-8713776fcf23\" target=\"_top\" title=\"psysml:599cc28e-37a4-4871-97e7-8713776fcf23\" xlink:actuate=\"onRequest\" xlink:href=\"psysml:599cc28e-37a4-4871-97e7-8713776fcf23\" xlink:show=\"new\" xlink:title=\"psysml:599cc28e-37a4-4871-97e7-8713776fcf23\" xlink:type=\"simple\"><path d=\"M230.63,64 C253.25,64 283.25,64 306.78,64 \" fill=\"none\" id=\"E8&lt;-E9\" style=\"stroke: #383838; stroke-width: 1.0;\"/><polygon fill=\"#383838\" points=\"217.63,64,223.63,68,229.63,64,223.63,60,217.63,64\" style=\"stroke: #383838; stroke-width: 1.0;\"/></a><!--MD5=[6f368f226695bd6318d4c52f684c35d1]\n",
       "@startuml\r\n",
       "left to right direction\r\n",
       "skinparam monochrome true\r\n",
       "skinparam classbackgroundcolor white\r\n",
       "skinparam shadowing false\r\n",
       "skinparam wrapWidth 300\r\n",
       "hide circle\r\n",
       "\r\n",
       "package \"ViewTest\" as E1  [[psysml:68a4efc3-4169-49c4-b08f-98091c4bc0be ]]  {\r\n",
       "package \"P\" as E2  [[psysml:d8eb8e98-9fc5-4554-bb79-0a7fb3af234b ]]  {\r\n",
       "}\r\n",
       "comp def \"VP\" as E3  <<(T,blue)viewpoint def>> [[psysml:0e16ef0b-675e-475c-a6ab-030697702310 ]] {\r\n",
       "}\r\n",
       "comp def \"R\" as E4  <<(T,blue)rendering def>> [[psysml:80b9aeea-925b-4b3a-8c84-ce381a5e60ed ]] {\r\n",
       "}\r\n",
       "comp def \"V\" as E5  <<(T,blue)view def>> [[psysml:fa67c82a-cf4c-4211-8405-b886e7fced61 ]] {\r\n",
       "}\r\n",
       "comp usage \"vp: VP\" as E6  <<(T,blue)viewpoint>> [[psysml:edb93869-3e30-4330-ae7d-f0dbadb8ae6e ]] {\r\n",
       "}\r\n",
       "comp usage \"r: R\" as E7  <<(T,blue)rendering>> [[psysml:d3ad1959-ed24-48c6-b8cb-3101ea5444ce ]] {\r\n",
       "}\r\n",
       "comp usage \"v: V\" as E8  <<(T,blue)view>> [[psysml:c79df832-858d-4f87-b041-227cc7f695ce ]] {\r\n",
       "}\r\n",
       "comp usage \"r1\" as E9  <<(T,blue)rendering>> [[psysml:599cc28e-37a4-4871-97e7-8713776fcf23 ]] {\r\n",
       "}\r\n",
       "E5 *- - E6 [[psysml:edb93869-3e30-4330-ae7d-f0dbadb8ae6e ]] \r\n",
       "E6 - -:|> E3 [[psysml:678c28b1-b825-4869-b6db-341a5ef18df5 ]] \r\n",
       "E7 - -:|> E4 [[psysml:e01b0a28-1744-4d35-a29d-a960e4229aec ]] \r\n",
       "E5 *- - \"0..1\"E7 [[psysml:d3ad1959-ed24-48c6-b8cb-3101ea5444ce ]] \r\n",
       "E8 - -:|> E5 [[psysml:3896f3dd-ac25-48cd-93fb-dac3b3d02068 ]] \r\n",
       "E5 *- - \"*\"E8 [[psysml:c79df832-858d-4f87-b041-227cc7f695ce ]] \r\n",
       "E8 *- - E9 [[psysml:599cc28e-37a4-4871-97e7-8713776fcf23 ]] \r\n",
       "}\r\n",
       "@enduml\r\n",
       "\n",
       "PlantUML version 1.2020.13(Sat Jun 13 12:26:38 UTC 2020)\n",
       "(EPL source distribution)\n",
       "Java Runtime: OpenJDK Runtime Environment\n",
       "JVM: OpenJDK 64-Bit Server VM\n",
       "Default Encoding: UTF-8\n",
       "Language: en\n",
       "Country: null\n",
       "--></g></svg>"
      ]
     },
     "execution_count": 21,
     "metadata": {},
     "output_type": "execute_result"
    }
   ],
   "source": [
    "%viz --style=\"LR\" --view=\"Sequence\" \"ViewTest\""
   ]
  },
  {
   "cell_type": "code",
   "execution_count": 22,
   "id": "disturbed-assets",
   "metadata": {
    "execution": {
     "iopub.execute_input": "2021-03-25T15:10:03.184136Z",
     "iopub.status.busy": "2021-03-25T15:10:03.183350Z",
     "iopub.status.idle": "2021-03-25T15:10:03.288577Z",
     "shell.execute_reply": "2021-03-25T15:10:03.286805Z"
    }
   },
   "outputs": [
    {
     "data": {
      "image/svg+xml": [
       "<?xml version=\"1.0\" encoding=\"UTF-8\" standalone=\"no\"?><svg xmlns=\"http://www.w3.org/2000/svg\" xmlns:xlink=\"http://www.w3.org/1999/xlink\" contentScriptType=\"application/ecmascript\" contentStyleType=\"text/css\" height=\"277px\" preserveAspectRatio=\"none\" style=\"width:434px;height:277px;\" version=\"1.1\" viewBox=\"0 0 434 277\" width=\"434px\" zoomAndPan=\"magnify\"><defs/><g><!--MD5=[fbc87193dbaf4d95561dea2c320d4a47]\n",
       "cluster E1--><a href=\"psysml:68a4efc3-4169-49c4-b08f-98091c4bc0be\" target=\"_top\" title=\"psysml:68a4efc3-4169-49c4-b08f-98091c4bc0be\" xlink:actuate=\"onRequest\" xlink:href=\"psysml:68a4efc3-4169-49c4-b08f-98091c4bc0be\" xlink:show=\"new\" xlink:title=\"psysml:68a4efc3-4169-49c4-b08f-98091c4bc0be\" xlink:type=\"simple\"><polygon fill=\"#FFFFFF\" points=\"16,6,96,6,103,28.2969,412,28.2969,412,265,16,265,16,6\" style=\"stroke: #000000; stroke-width: 1.5;\"/><line style=\"stroke: #000000; stroke-width: 1.5;\" x1=\"16\" x2=\"103\" y1=\"28.2969\" y2=\"28.2969\"/><text fill=\"#000000\" font-family=\"sans-serif\" font-size=\"14\" font-weight=\"bold\" lengthAdjust=\"spacingAndGlyphs\" textLength=\"74\" x=\"20\" y=\"20.9951\">ViewTest</text></a><!--MD5=[09b614a08d8cba4a07c9adeb5e0fee81]\n",
       "class E3--><a href=\"psysml:0e16ef0b-675e-475c-a6ab-030697702310\" target=\"_top\" title=\"psysml:0e16ef0b-675e-475c-a6ab-030697702310\" xlink:actuate=\"onRequest\" xlink:href=\"psysml:0e16ef0b-675e-475c-a6ab-030697702310\" xlink:show=\"new\" xlink:title=\"psysml:0e16ef0b-675e-475c-a6ab-030697702310\" xlink:type=\"simple\"><rect fill=\"#FFFFFF\" height=\"45.9375\" id=\"E3\" style=\"stroke: #383838; stroke-width: 1.5;\" width=\"98\" x=\"296.5\" y=\"203\"/><text fill=\"#000000\" font-family=\"sans-serif\" font-size=\"12\" font-style=\"italic\" lengthAdjust=\"spacingAndGlyphs\" textLength=\"96\" x=\"297.5\" y=\"219.1387\">«viewpoint def»</text><text fill=\"#000000\" font-family=\"sans-serif\" font-size=\"12\" lengthAdjust=\"spacingAndGlyphs\" textLength=\"16\" x=\"337.5\" y=\"233.1074\">VP</text><line style=\"stroke: #383838; stroke-width: 1.5;\" x1=\"297.5\" x2=\"393.5\" y1=\"240.9375\" y2=\"240.9375\"/></a><!--MD5=[ebbe1d658d1005bcc118a6aa81145e00]\n",
       "class E4--><a href=\"psysml:80b9aeea-925b-4b3a-8c84-ce381a5e60ed\" target=\"_top\" title=\"psysml:80b9aeea-925b-4b3a-8c84-ce381a5e60ed\" xlink:actuate=\"onRequest\" xlink:href=\"psysml:80b9aeea-925b-4b3a-8c84-ce381a5e60ed\" xlink:show=\"new\" xlink:title=\"psysml:80b9aeea-925b-4b3a-8c84-ce381a5e60ed\" xlink:type=\"simple\"><rect fill=\"#FFFFFF\" height=\"45.9375\" id=\"E4\" style=\"stroke: #383838; stroke-width: 1.5;\" width=\"101\" x=\"295\" y=\"122\"/><text fill=\"#000000\" font-family=\"sans-serif\" font-size=\"12\" font-style=\"italic\" lengthAdjust=\"spacingAndGlyphs\" textLength=\"99\" x=\"296\" y=\"138.1387\">«rendering def»</text><text fill=\"#000000\" font-family=\"sans-serif\" font-size=\"12\" lengthAdjust=\"spacingAndGlyphs\" textLength=\"8\" x=\"341.5\" y=\"152.1074\">R</text><line style=\"stroke: #383838; stroke-width: 1.5;\" x1=\"296\" x2=\"395\" y1=\"159.9375\" y2=\"159.9375\"/></a><!--MD5=[270fce915f116d4de14055a7c1d9a0f3]\n",
       "class E5--><a href=\"psysml:fa67c82a-cf4c-4211-8405-b886e7fced61\" target=\"_top\" title=\"psysml:fa67c82a-cf4c-4211-8405-b886e7fced61\" xlink:actuate=\"onRequest\" xlink:href=\"psysml:fa67c82a-cf4c-4211-8405-b886e7fced61\" xlink:show=\"new\" xlink:title=\"psysml:fa67c82a-cf4c-4211-8405-b886e7fced61\" xlink:type=\"simple\"><rect fill=\"#FFFFFF\" height=\"45.9375\" id=\"E5\" style=\"stroke: #383838; stroke-width: 1.5;\" width=\"66\" x=\"32\" y=\"60\"/><text fill=\"#000000\" font-family=\"sans-serif\" font-size=\"12\" font-style=\"italic\" lengthAdjust=\"spacingAndGlyphs\" textLength=\"64\" x=\"33\" y=\"76.1387\">«view def»</text><text fill=\"#000000\" font-family=\"sans-serif\" font-size=\"12\" lengthAdjust=\"spacingAndGlyphs\" textLength=\"8\" x=\"61\" y=\"90.1074\">V</text><line style=\"stroke: #383838; stroke-width: 1.5;\" x1=\"33\" x2=\"97\" y1=\"97.9375\" y2=\"97.9375\"/></a><!--MD5=[60a26617385b1d2d0262a64233df1f8d]\n",
       "class E6--><a href=\"psysml:edb93869-3e30-4330-ae7d-f0dbadb8ae6e\" target=\"_top\" title=\"psysml:edb93869-3e30-4330-ae7d-f0dbadb8ae6e\" xlink:actuate=\"onRequest\" xlink:href=\"psysml:edb93869-3e30-4330-ae7d-f0dbadb8ae6e\" xlink:show=\"new\" xlink:title=\"psysml:edb93869-3e30-4330-ae7d-f0dbadb8ae6e\" xlink:type=\"simple\"><rect fill=\"#FFFFFF\" height=\"45.9375\" id=\"E6\" rx=\"10\" ry=\"10\" style=\"stroke: #383838; stroke-width: 1.5;\" width=\"74\" x=\"159.5\" y=\"203\"/><text fill=\"#000000\" font-family=\"sans-serif\" font-size=\"12\" font-style=\"italic\" lengthAdjust=\"spacingAndGlyphs\" textLength=\"72\" x=\"160.5\" y=\"219.1387\">«viewpoint»</text><text fill=\"#000000\" font-family=\"sans-serif\" font-size=\"12\" lengthAdjust=\"spacingAndGlyphs\" textLength=\"38\" x=\"177.5\" y=\"233.1074\">vp: VP</text><line style=\"stroke: #383838; stroke-width: 1.5;\" x1=\"160.5\" x2=\"232.5\" y1=\"240.9375\" y2=\"240.9375\"/></a><!--MD5=[2156ba9850f5573cc1fc38a6a4b2f02b]\n",
       "class E7--><a href=\"psysml:d3ad1959-ed24-48c6-b8cb-3101ea5444ce\" target=\"_top\" title=\"psysml:d3ad1959-ed24-48c6-b8cb-3101ea5444ce\" xlink:actuate=\"onRequest\" xlink:href=\"psysml:d3ad1959-ed24-48c6-b8cb-3101ea5444ce\" xlink:show=\"new\" xlink:title=\"psysml:d3ad1959-ed24-48c6-b8cb-3101ea5444ce\" xlink:type=\"simple\"><rect fill=\"#FFFFFF\" height=\"45.9375\" id=\"E7\" rx=\"10\" ry=\"10\" style=\"stroke: #383838; stroke-width: 1.5;\" width=\"77\" x=\"158\" y=\"122\"/><text fill=\"#000000\" font-family=\"sans-serif\" font-size=\"12\" font-style=\"italic\" lengthAdjust=\"spacingAndGlyphs\" textLength=\"75\" x=\"159\" y=\"138.1387\">«rendering»</text><text fill=\"#000000\" font-family=\"sans-serif\" font-size=\"12\" lengthAdjust=\"spacingAndGlyphs\" textLength=\"21\" x=\"186\" y=\"152.1074\">r: R</text><line style=\"stroke: #383838; stroke-width: 1.5;\" x1=\"159\" x2=\"234\" y1=\"159.9375\" y2=\"159.9375\"/></a><!--MD5=[b9389687b975829384b498ac4b7476b2]\n",
       "class E8--><a href=\"psysml:c79df832-858d-4f87-b041-227cc7f695ce\" target=\"_top\" title=\"psysml:c79df832-858d-4f87-b041-227cc7f695ce\" xlink:actuate=\"onRequest\" xlink:href=\"psysml:c79df832-858d-4f87-b041-227cc7f695ce\" xlink:show=\"new\" xlink:title=\"psysml:c79df832-858d-4f87-b041-227cc7f695ce\" xlink:type=\"simple\"><rect fill=\"#FFFFFF\" height=\"45.9375\" id=\"E8\" rx=\"10\" ry=\"10\" style=\"stroke: #383838; stroke-width: 1.5;\" width=\"42\" x=\"175.5\" y=\"41\"/><text fill=\"#000000\" font-family=\"sans-serif\" font-size=\"12\" font-style=\"italic\" lengthAdjust=\"spacingAndGlyphs\" textLength=\"40\" x=\"176.5\" y=\"57.1387\">«view»</text><text fill=\"#000000\" font-family=\"sans-serif\" font-size=\"12\" lengthAdjust=\"spacingAndGlyphs\" textLength=\"22\" x=\"185.5\" y=\"71.1074\">v: V</text><line style=\"stroke: #383838; stroke-width: 1.5;\" x1=\"176.5\" x2=\"216.5\" y1=\"78.9375\" y2=\"78.9375\"/></a><!--MD5=[fd4143e9d270a159db93a4ea2a975926]\n",
       "class E9--><a href=\"psysml:599cc28e-37a4-4871-97e7-8713776fcf23\" target=\"_top\" title=\"psysml:599cc28e-37a4-4871-97e7-8713776fcf23\" xlink:actuate=\"onRequest\" xlink:href=\"psysml:599cc28e-37a4-4871-97e7-8713776fcf23\" xlink:show=\"new\" xlink:title=\"psysml:599cc28e-37a4-4871-97e7-8713776fcf23\" xlink:type=\"simple\"><rect fill=\"#FFFFFF\" height=\"45.9375\" id=\"E9\" rx=\"10\" ry=\"10\" style=\"stroke: #383838; stroke-width: 1.5;\" width=\"77\" x=\"307\" y=\"41\"/><text fill=\"#000000\" font-family=\"sans-serif\" font-size=\"12\" font-style=\"italic\" lengthAdjust=\"spacingAndGlyphs\" textLength=\"75\" x=\"308\" y=\"57.1387\">«rendering»</text><text fill=\"#000000\" font-family=\"sans-serif\" font-size=\"12\" lengthAdjust=\"spacingAndGlyphs\" textLength=\"13\" x=\"339\" y=\"71.1074\">r1</text><line style=\"stroke: #383838; stroke-width: 1.5;\" x1=\"308\" x2=\"383\" y1=\"78.9375\" y2=\"78.9375\"/></a><a href=\"psysml:d8eb8e98-9fc5-4554-bb79-0a7fb3af234b\" target=\"_top\" title=\"psysml:d8eb8e98-9fc5-4554-bb79-0a7fb3af234b\" xlink:actuate=\"onRequest\" xlink:href=\"psysml:d8eb8e98-9fc5-4554-bb79-0a7fb3af234b\" xlink:show=\"new\" xlink:title=\"psysml:d8eb8e98-9fc5-4554-bb79-0a7fb3af234b\" xlink:type=\"simple\"><polygon fill=\"#FFFFFF\" points=\"50,159.5,66,159.5,73,181.7969,80,181.7969,80,212.0938,50,212.0938,50,159.5\" style=\"stroke: #000000; stroke-width: 1.5;\"/><line style=\"stroke: #000000; stroke-width: 1.5;\" x1=\"50\" x2=\"73\" y1=\"181.7969\" y2=\"181.7969\"/><text fill=\"#000000\" font-family=\"sans-serif\" font-size=\"14\" font-weight=\"bold\" lengthAdjust=\"spacingAndGlyphs\" textLength=\"10\" x=\"54\" y=\"174.4951\">P</text></a><!--MD5=[85d356282659285ab4b2cfe2f634dd2b]\n",
       "reverse link E5 to E6--><a href=\"psysml:edb93869-3e30-4330-ae7d-f0dbadb8ae6e\" target=\"_top\" title=\"psysml:edb93869-3e30-4330-ae7d-f0dbadb8ae6e\" xlink:actuate=\"onRequest\" xlink:href=\"psysml:edb93869-3e30-4330-ae7d-f0dbadb8ae6e\" xlink:show=\"new\" xlink:title=\"psysml:edb93869-3e30-4330-ae7d-f0dbadb8ae6e\" xlink:type=\"simple\"><path d=\"M95.16,116.05 C113.15,136.34 136.77,162.8 158,186 C163.01,191.48 168.45,197.33 173.59,202.82 \" fill=\"none\" id=\"E5&lt;-E6\" style=\"stroke: #383838; stroke-width: 1.0;\"/><polygon fill=\"#383838\" points=\"86.31,106.05,87.2929,113.1938,94.2652,115.0342,93.2823,107.8904,86.31,106.05\" style=\"stroke: #383838; stroke-width: 1.0;\"/></a><!--MD5=[a717450b82c80b9240a525fa862496af]\n",
       "link E6 to E3--><a href=\"psysml:678c28b1-b825-4869-b6db-341a5ef18df5\" target=\"_top\" title=\"psysml:678c28b1-b825-4869-b6db-341a5ef18df5\" xlink:actuate=\"onRequest\" xlink:href=\"psysml:678c28b1-b825-4869-b6db-341a5ef18df5\" xlink:show=\"new\" xlink:title=\"psysml:678c28b1-b825-4869-b6db-341a5ef18df5\" xlink:type=\"simple\"><path d=\"M233.84,226 C246.67,226 261.54,226 276.15,226 \" fill=\"none\" id=\"E6-&gt;E3\" style=\"stroke: #383838; stroke-width: 1.0;\"/><polygon fill=\"#FFFFFF\" points=\"296.38,226,277.38,233,277.38,219,296.38,226\" style=\"stroke: #383838; stroke-width: 1.0;\"/><ellipse cx=\"271.68\" cy=\"231\" fill=\"#383838\" rx=\"2\" ry=\"2\" style=\"stroke: #383838; stroke-width: 1.0;\"/><ellipse cx=\"271.68\" cy=\"221\" fill=\"#383838\" rx=\"2\" ry=\"2\" style=\"stroke: #383838; stroke-width: 1.0;\"/></a><!--MD5=[6bdd27f9905911a7e892a3dc65cf6b7c]\n",
       "link E7 to E4--><a href=\"psysml:e01b0a28-1744-4d35-a29d-a960e4229aec\" target=\"_top\" title=\"psysml:e01b0a28-1744-4d35-a29d-a960e4229aec\" xlink:actuate=\"onRequest\" xlink:href=\"psysml:e01b0a28-1744-4d35-a29d-a960e4229aec\" xlink:show=\"new\" xlink:title=\"psysml:e01b0a28-1744-4d35-a29d-a960e4229aec\" xlink:type=\"simple\"><path d=\"M235.36,145 C247.39,145 261.1,145 274.65,145 \" fill=\"none\" id=\"E7-&gt;E4\" style=\"stroke: #383838; stroke-width: 1.0;\"/><polygon fill=\"#FFFFFF\" points=\"294.85,145,275.85,152,275.85,138,294.85,145\" style=\"stroke: #383838; stroke-width: 1.0;\"/><ellipse cx=\"270.15\" cy=\"150\" fill=\"#383838\" rx=\"2\" ry=\"2\" style=\"stroke: #383838; stroke-width: 1.0;\"/><ellipse cx=\"270.15\" cy=\"140\" fill=\"#383838\" rx=\"2\" ry=\"2\" style=\"stroke: #383838; stroke-width: 1.0;\"/></a><!--MD5=[452b418e7f8a40397a49b8c0a78acc5b]\n",
       "reverse link E5 to E7--><a href=\"psysml:d3ad1959-ed24-48c6-b8cb-3101ea5444ce\" target=\"_top\" title=\"psysml:d3ad1959-ed24-48c6-b8cb-3101ea5444ce\" xlink:actuate=\"onRequest\" xlink:href=\"psysml:d3ad1959-ed24-48c6-b8cb-3101ea5444ce\" xlink:show=\"new\" xlink:title=\"psysml:d3ad1959-ed24-48c6-b8cb-3101ea5444ce\" xlink:type=\"simple\"><path d=\"M110.02,104.08 C125.57,111.52 142.91,119.82 157.88,126.99 \" fill=\"none\" id=\"E5&lt;-E7\" style=\"stroke: #383838; stroke-width: 1.0;\"/><polygon fill=\"#383838\" points=\"98.01,98.33,101.6919,104.5303,108.8314,103.5163,105.1495,97.316,98.01,98.33\" style=\"stroke: #383838; stroke-width: 1.0;\"/><text fill=\"#000000\" font-family=\"sans-serif\" font-size=\"13\" lengthAdjust=\"spacingAndGlyphs\" textLength=\"24\" x=\"126.1288\" y=\"137.4625\">0..1</text></a><!--MD5=[1ccb2481ffa92f8d51a74ee30c51832a]\n",
       "link E8 to E5--><a href=\"psysml:3896f3dd-ac25-48cd-93fb-dac3b3d02068\" target=\"_top\" title=\"psysml:3896f3dd-ac25-48cd-93fb-dac3b3d02068\" xlink:actuate=\"onRequest\" xlink:href=\"psysml:3896f3dd-ac25-48cd-93fb-dac3b3d02068\" xlink:show=\"new\" xlink:title=\"psysml:3896f3dd-ac25-48cd-93fb-dac3b3d02068\" xlink:type=\"simple\"><path d=\"M175.15,56.84 C159.72,56.26 137.8,58.44 117.65,62.17 \" fill=\"none\" id=\"E8-&gt;E5\" style=\"stroke: #383838; stroke-width: 1.0;\"/><polygon fill=\"#FFFFFF\" points=\"98.01,66.47,115.0695,55.5625,118.0684,69.2376,98.01,66.47\" style=\"stroke: #383838; stroke-width: 1.0;\"/><ellipse cx=\"121.0656\" cy=\"56.2951\" fill=\"#383838\" rx=\"2\" ry=\"2\" style=\"stroke: #383838; stroke-width: 1.0;\"/><ellipse cx=\"123.2077\" cy=\"66.063\" fill=\"#383838\" rx=\"2\" ry=\"2\" style=\"stroke: #383838; stroke-width: 1.0;\"/></a><!--MD5=[827760032d119d06bbc92f75530fd7ae]\n",
       "reverse link E5 to E8--><a href=\"psysml:c79df832-858d-4f87-b041-227cc7f695ce\" target=\"_top\" title=\"psysml:c79df832-858d-4f87-b041-227cc7f695ce\" xlink:actuate=\"onRequest\" xlink:href=\"psysml:c79df832-858d-4f87-b041-227cc7f695ce\" xlink:show=\"new\" xlink:title=\"psysml:c79df832-858d-4f87-b041-227cc7f695ce\" xlink:type=\"simple\"><path d=\"M111.07,88.6 C132.9,86.63 158.02,82.06 175.15,76.57 \" fill=\"none\" id=\"E5&lt;-E8\" style=\"stroke: #383838; stroke-width: 1.0;\"/><polygon fill=\"#383838\" points=\"98.01,89.48,104.2646,93.0688,109.983,88.6756,103.7284,85.0868,98.01,89.48\" style=\"stroke: #383838; stroke-width: 1.0;\"/><text fill=\"#000000\" font-family=\"sans-serif\" font-size=\"13\" lengthAdjust=\"spacingAndGlyphs\" textLength=\"7\" x=\"160.5397\" y=\"94.8132\">*</text></a><!--MD5=[22f5b4bae7e060dce8a1c8021efdb95b]\n",
       "reverse link E8 to E9--><a href=\"psysml:599cc28e-37a4-4871-97e7-8713776fcf23\" target=\"_top\" title=\"psysml:599cc28e-37a4-4871-97e7-8713776fcf23\" xlink:actuate=\"onRequest\" xlink:href=\"psysml:599cc28e-37a4-4871-97e7-8713776fcf23\" xlink:show=\"new\" xlink:title=\"psysml:599cc28e-37a4-4871-97e7-8713776fcf23\" xlink:type=\"simple\"><path d=\"M230.63,64 C253.25,64 283.25,64 306.78,64 \" fill=\"none\" id=\"E8&lt;-E9\" style=\"stroke: #383838; stroke-width: 1.0;\"/><polygon fill=\"#383838\" points=\"217.63,64,223.63,68,229.63,64,223.63,60,217.63,64\" style=\"stroke: #383838; stroke-width: 1.0;\"/></a><!--MD5=[6f368f226695bd6318d4c52f684c35d1]\n",
       "@startuml\r\n",
       "left to right direction\r\n",
       "skinparam monochrome true\r\n",
       "skinparam classbackgroundcolor white\r\n",
       "skinparam shadowing false\r\n",
       "skinparam wrapWidth 300\r\n",
       "hide circle\r\n",
       "\r\n",
       "package \"ViewTest\" as E1  [[psysml:68a4efc3-4169-49c4-b08f-98091c4bc0be ]]  {\r\n",
       "package \"P\" as E2  [[psysml:d8eb8e98-9fc5-4554-bb79-0a7fb3af234b ]]  {\r\n",
       "}\r\n",
       "comp def \"VP\" as E3  <<(T,blue)viewpoint def>> [[psysml:0e16ef0b-675e-475c-a6ab-030697702310 ]] {\r\n",
       "}\r\n",
       "comp def \"R\" as E4  <<(T,blue)rendering def>> [[psysml:80b9aeea-925b-4b3a-8c84-ce381a5e60ed ]] {\r\n",
       "}\r\n",
       "comp def \"V\" as E5  <<(T,blue)view def>> [[psysml:fa67c82a-cf4c-4211-8405-b886e7fced61 ]] {\r\n",
       "}\r\n",
       "comp usage \"vp: VP\" as E6  <<(T,blue)viewpoint>> [[psysml:edb93869-3e30-4330-ae7d-f0dbadb8ae6e ]] {\r\n",
       "}\r\n",
       "comp usage \"r: R\" as E7  <<(T,blue)rendering>> [[psysml:d3ad1959-ed24-48c6-b8cb-3101ea5444ce ]] {\r\n",
       "}\r\n",
       "comp usage \"v: V\" as E8  <<(T,blue)view>> [[psysml:c79df832-858d-4f87-b041-227cc7f695ce ]] {\r\n",
       "}\r\n",
       "comp usage \"r1\" as E9  <<(T,blue)rendering>> [[psysml:599cc28e-37a4-4871-97e7-8713776fcf23 ]] {\r\n",
       "}\r\n",
       "E5 *- - E6 [[psysml:edb93869-3e30-4330-ae7d-f0dbadb8ae6e ]] \r\n",
       "E6 - -:|> E3 [[psysml:678c28b1-b825-4869-b6db-341a5ef18df5 ]] \r\n",
       "E7 - -:|> E4 [[psysml:e01b0a28-1744-4d35-a29d-a960e4229aec ]] \r\n",
       "E5 *- - \"0..1\"E7 [[psysml:d3ad1959-ed24-48c6-b8cb-3101ea5444ce ]] \r\n",
       "E8 - -:|> E5 [[psysml:3896f3dd-ac25-48cd-93fb-dac3b3d02068 ]] \r\n",
       "E5 *- - \"*\"E8 [[psysml:c79df832-858d-4f87-b041-227cc7f695ce ]] \r\n",
       "E8 *- - E9 [[psysml:599cc28e-37a4-4871-97e7-8713776fcf23 ]] \r\n",
       "}\r\n",
       "@enduml\r\n",
       "\n",
       "PlantUML version 1.2020.13(Sat Jun 13 12:26:38 UTC 2020)\n",
       "(EPL source distribution)\n",
       "Java Runtime: OpenJDK Runtime Environment\n",
       "JVM: OpenJDK 64-Bit Server VM\n",
       "Default Encoding: UTF-8\n",
       "Language: en\n",
       "Country: null\n",
       "--></g></svg>"
      ]
     },
     "execution_count": 22,
     "metadata": {},
     "output_type": "execute_result"
    }
   ],
   "source": [
    "%viz --style=\"LR\" --view=\"MIXED\" \"ViewTest\""
   ]
  },
  {
   "cell_type": "code",
   "execution_count": 23,
   "id": "sweet-panic",
   "metadata": {
    "execution": {
     "iopub.execute_input": "2021-03-25T15:10:03.338568Z",
     "iopub.status.busy": "2021-03-25T15:10:03.338141Z",
     "iopub.status.idle": "2021-03-25T15:10:03.437954Z",
     "shell.execute_reply": "2021-03-25T15:10:03.437620Z"
    }
   },
   "outputs": [
    {
     "data": {
      "image/svg+xml": [
       "<?xml version=\"1.0\" encoding=\"UTF-8\" standalone=\"no\"?><svg xmlns=\"http://www.w3.org/2000/svg\" xmlns:xlink=\"http://www.w3.org/1999/xlink\" contentScriptType=\"application/ecmascript\" contentStyleType=\"text/css\" height=\"334px\" preserveAspectRatio=\"none\" style=\"width:417px;height:334px;\" version=\"1.1\" viewBox=\"0 0 417 334\" width=\"417px\" zoomAndPan=\"magnify\"><defs><filter height=\"300%\" id=\"f1n6px93onqu8p\" width=\"300%\" x=\"-1\" y=\"-1\"><feGaussianBlur result=\"blurOut\" stdDeviation=\"2.0\"/><feColorMatrix in=\"blurOut\" result=\"blurOut2\" type=\"matrix\" values=\"0 0 0 0 0 0 0 0 0 0 0 0 0 0 0 0 0 0 .4 0\"/><feOffset dx=\"4.0\" dy=\"4.0\" in=\"blurOut2\" result=\"blurOut3\"/><feBlend in=\"SourceGraphic\" in2=\"blurOut3\" mode=\"normal\"/></filter></defs><g><!--MD5=[fbc87193dbaf4d95561dea2c320d4a47]\n",
       "cluster E1--><a href=\"psysml:68a4efc3-4169-49c4-b08f-98091c4bc0be\" target=\"_top\" title=\"psysml:68a4efc3-4169-49c4-b08f-98091c4bc0be\" xlink:actuate=\"onRequest\" xlink:href=\"psysml:68a4efc3-4169-49c4-b08f-98091c4bc0be\" xlink:show=\"new\" xlink:title=\"psysml:68a4efc3-4169-49c4-b08f-98091c4bc0be\" xlink:type=\"simple\"><polygon fill=\"#FFFFFF\" filter=\"url(#f1n6px93onqu8p)\" points=\"16,6,96,6,103,28.2969,395,28.2969,395,322,16,322,16,6\" style=\"stroke: #000000; stroke-width: 1.5;\"/><line style=\"stroke: #000000; stroke-width: 1.5;\" x1=\"16\" x2=\"103\" y1=\"28.2969\" y2=\"28.2969\"/><text fill=\"#000000\" font-family=\"sans-serif\" font-size=\"14\" font-weight=\"bold\" lengthAdjust=\"spacingAndGlyphs\" textLength=\"74\" x=\"20\" y=\"20.9951\">ViewTest</text></a><!--MD5=[09b614a08d8cba4a07c9adeb5e0fee81]\n",
       "class E3--><a href=\"psysml:0e16ef0b-675e-475c-a6ab-030697702310\" target=\"_top\" title=\"psysml:0e16ef0b-675e-475c-a6ab-030697702310\" xlink:actuate=\"onRequest\" xlink:href=\"psysml:0e16ef0b-675e-475c-a6ab-030697702310\" xlink:show=\"new\" xlink:title=\"psysml:0e16ef0b-675e-475c-a6ab-030697702310\" xlink:type=\"simple\"><rect fill=\"#FEFECE\" filter=\"url(#f1n6px93onqu8p)\" height=\"45.9375\" id=\"E3\" style=\"stroke: #A80036; stroke-width: 1.5;\" width=\"98\" x=\"32\" y=\"260\"/><text fill=\"#000000\" font-family=\"sans-serif\" font-size=\"12\" font-style=\"italic\" lengthAdjust=\"spacingAndGlyphs\" textLength=\"96\" x=\"33\" y=\"276.1387\">«viewpoint def»</text><text fill=\"#000000\" font-family=\"sans-serif\" font-size=\"12\" lengthAdjust=\"spacingAndGlyphs\" textLength=\"16\" x=\"73\" y=\"290.1074\">VP</text><line style=\"stroke: #A80036; stroke-width: 1.5;\" x1=\"33\" x2=\"129\" y1=\"297.9375\" y2=\"297.9375\"/></a><!--MD5=[ebbe1d658d1005bcc118a6aa81145e00]\n",
       "class E4--><a href=\"psysml:80b9aeea-925b-4b3a-8c84-ce381a5e60ed\" target=\"_top\" title=\"psysml:80b9aeea-925b-4b3a-8c84-ce381a5e60ed\" xlink:actuate=\"onRequest\" xlink:href=\"psysml:80b9aeea-925b-4b3a-8c84-ce381a5e60ed\" xlink:show=\"new\" xlink:title=\"psysml:80b9aeea-925b-4b3a-8c84-ce381a5e60ed\" xlink:type=\"simple\"><rect fill=\"#FEFECE\" filter=\"url(#f1n6px93onqu8p)\" height=\"45.9375\" id=\"E4\" style=\"stroke: #A80036; stroke-width: 1.5;\" width=\"101\" x=\"165.5\" y=\"260\"/><text fill=\"#000000\" font-family=\"sans-serif\" font-size=\"12\" font-style=\"italic\" lengthAdjust=\"spacingAndGlyphs\" textLength=\"99\" x=\"166.5\" y=\"276.1387\">«rendering def»</text><text fill=\"#000000\" font-family=\"sans-serif\" font-size=\"12\" lengthAdjust=\"spacingAndGlyphs\" textLength=\"8\" x=\"212\" y=\"290.1074\">R</text><line style=\"stroke: #A80036; stroke-width: 1.5;\" x1=\"166.5\" x2=\"265.5\" y1=\"297.9375\" y2=\"297.9375\"/></a><!--MD5=[270fce915f116d4de14055a7c1d9a0f3]\n",
       "class E5--><a href=\"psysml:fa67c82a-cf4c-4211-8405-b886e7fced61\" target=\"_top\" title=\"psysml:fa67c82a-cf4c-4211-8405-b886e7fced61\" xlink:actuate=\"onRequest\" xlink:href=\"psysml:fa67c82a-cf4c-4211-8405-b886e7fced61\" xlink:show=\"new\" xlink:title=\"psysml:fa67c82a-cf4c-4211-8405-b886e7fced61\" xlink:type=\"simple\"><rect fill=\"#FEFECE\" filter=\"url(#f1n6px93onqu8p)\" height=\"45.9375\" id=\"E5\" style=\"stroke: #A80036; stroke-width: 1.5;\" width=\"66\" x=\"230\" y=\"44.5\"/><text fill=\"#000000\" font-family=\"sans-serif\" font-size=\"12\" font-style=\"italic\" lengthAdjust=\"spacingAndGlyphs\" textLength=\"64\" x=\"231\" y=\"60.6387\">«view def»</text><text fill=\"#000000\" font-family=\"sans-serif\" font-size=\"12\" lengthAdjust=\"spacingAndGlyphs\" textLength=\"8\" x=\"259\" y=\"74.6074\">V</text><line style=\"stroke: #A80036; stroke-width: 1.5;\" x1=\"231\" x2=\"295\" y1=\"82.4375\" y2=\"82.4375\"/></a><!--MD5=[60a26617385b1d2d0262a64233df1f8d]\n",
       "class E6--><a href=\"psysml:edb93869-3e30-4330-ae7d-f0dbadb8ae6e\" target=\"_top\" title=\"psysml:edb93869-3e30-4330-ae7d-f0dbadb8ae6e\" xlink:actuate=\"onRequest\" xlink:href=\"psysml:edb93869-3e30-4330-ae7d-f0dbadb8ae6e\" xlink:show=\"new\" xlink:title=\"psysml:edb93869-3e30-4330-ae7d-f0dbadb8ae6e\" xlink:type=\"simple\"><rect fill=\"#FEFECE\" filter=\"url(#f1n6px93onqu8p)\" height=\"45.9375\" id=\"E6\" rx=\"10\" ry=\"10\" style=\"stroke: #A80036; stroke-width: 1.5;\" width=\"74\" x=\"56\" y=\"154\"/><text fill=\"#000000\" font-family=\"sans-serif\" font-size=\"12\" font-style=\"italic\" lengthAdjust=\"spacingAndGlyphs\" textLength=\"72\" x=\"57\" y=\"170.1387\">«viewpoint»</text><text fill=\"#000000\" font-family=\"sans-serif\" font-size=\"12\" lengthAdjust=\"spacingAndGlyphs\" textLength=\"38\" x=\"74\" y=\"184.1074\">vp: VP</text><line style=\"stroke: #A80036; stroke-width: 1.5;\" x1=\"57\" x2=\"129\" y1=\"191.9375\" y2=\"191.9375\"/></a><!--MD5=[2156ba9850f5573cc1fc38a6a4b2f02b]\n",
       "class E7--><a href=\"psysml:d3ad1959-ed24-48c6-b8cb-3101ea5444ce\" target=\"_top\" title=\"psysml:d3ad1959-ed24-48c6-b8cb-3101ea5444ce\" xlink:actuate=\"onRequest\" xlink:href=\"psysml:d3ad1959-ed24-48c6-b8cb-3101ea5444ce\" xlink:show=\"new\" xlink:title=\"psysml:d3ad1959-ed24-48c6-b8cb-3101ea5444ce\" xlink:type=\"simple\"><rect fill=\"#FEFECE\" filter=\"url(#f1n6px93onqu8p)\" height=\"45.9375\" id=\"E7\" rx=\"10\" ry=\"10\" style=\"stroke: #A80036; stroke-width: 1.5;\" width=\"77\" x=\"177.5\" y=\"154\"/><text fill=\"#000000\" font-family=\"sans-serif\" font-size=\"12\" font-style=\"italic\" lengthAdjust=\"spacingAndGlyphs\" textLength=\"75\" x=\"178.5\" y=\"170.1387\">«rendering»</text><text fill=\"#000000\" font-family=\"sans-serif\" font-size=\"12\" lengthAdjust=\"spacingAndGlyphs\" textLength=\"21\" x=\"205.5\" y=\"184.1074\">r: R</text><line style=\"stroke: #A80036; stroke-width: 1.5;\" x1=\"178.5\" x2=\"253.5\" y1=\"191.9375\" y2=\"191.9375\"/></a><!--MD5=[b9389687b975829384b498ac4b7476b2]\n",
       "class E8--><a href=\"psysml:c79df832-858d-4f87-b041-227cc7f695ce\" target=\"_top\" title=\"psysml:c79df832-858d-4f87-b041-227cc7f695ce\" xlink:actuate=\"onRequest\" xlink:href=\"psysml:c79df832-858d-4f87-b041-227cc7f695ce\" xlink:show=\"new\" xlink:title=\"psysml:c79df832-858d-4f87-b041-227cc7f695ce\" xlink:type=\"simple\"><rect fill=\"#FEFECE\" filter=\"url(#f1n6px93onqu8p)\" height=\"45.9375\" id=\"E8\" rx=\"10\" ry=\"10\" style=\"stroke: #A80036; stroke-width: 1.5;\" width=\"42\" x=\"290\" y=\"154\"/><text fill=\"#000000\" font-family=\"sans-serif\" font-size=\"12\" font-style=\"italic\" lengthAdjust=\"spacingAndGlyphs\" textLength=\"40\" x=\"291\" y=\"170.1387\">«view»</text><text fill=\"#000000\" font-family=\"sans-serif\" font-size=\"12\" lengthAdjust=\"spacingAndGlyphs\" textLength=\"22\" x=\"300\" y=\"184.1074\">v: V</text><line style=\"stroke: #A80036; stroke-width: 1.5;\" x1=\"291\" x2=\"331\" y1=\"191.9375\" y2=\"191.9375\"/></a><!--MD5=[fd4143e9d270a159db93a4ea2a975926]\n",
       "class E9--><a href=\"psysml:599cc28e-37a4-4871-97e7-8713776fcf23\" target=\"_top\" title=\"psysml:599cc28e-37a4-4871-97e7-8713776fcf23\" xlink:actuate=\"onRequest\" xlink:href=\"psysml:599cc28e-37a4-4871-97e7-8713776fcf23\" xlink:show=\"new\" xlink:title=\"psysml:599cc28e-37a4-4871-97e7-8713776fcf23\" xlink:type=\"simple\"><rect fill=\"#FEFECE\" filter=\"url(#f1n6px93onqu8p)\" height=\"45.9375\" id=\"E9\" rx=\"10\" ry=\"10\" style=\"stroke: #A80036; stroke-width: 1.5;\" width=\"77\" x=\"301.5\" y=\"260\"/><text fill=\"#000000\" font-family=\"sans-serif\" font-size=\"12\" font-style=\"italic\" lengthAdjust=\"spacingAndGlyphs\" textLength=\"75\" x=\"302.5\" y=\"276.1387\">«rendering»</text><text fill=\"#000000\" font-family=\"sans-serif\" font-size=\"12\" lengthAdjust=\"spacingAndGlyphs\" textLength=\"13\" x=\"333.5\" y=\"290.1074\">r1</text><line style=\"stroke: #A80036; stroke-width: 1.5;\" x1=\"302.5\" x2=\"377.5\" y1=\"297.9375\" y2=\"297.9375\"/></a><a href=\"psysml:d8eb8e98-9fc5-4554-bb79-0a7fb3af234b\" target=\"_top\" title=\"psysml:d8eb8e98-9fc5-4554-bb79-0a7fb3af234b\" xlink:actuate=\"onRequest\" xlink:href=\"psysml:d8eb8e98-9fc5-4554-bb79-0a7fb3af234b\" xlink:show=\"new\" xlink:title=\"psysml:d8eb8e98-9fc5-4554-bb79-0a7fb3af234b\" xlink:type=\"simple\"><polygon fill=\"#FFFFFF\" filter=\"url(#f1n6px93onqu8p)\" points=\"122,41,138,41,145,63.2969,152,63.2969,152,93.5938,122,93.5938,122,41\" style=\"stroke: #000000; stroke-width: 1.5;\"/><line style=\"stroke: #000000; stroke-width: 1.5;\" x1=\"122\" x2=\"145\" y1=\"63.2969\" y2=\"63.2969\"/><text fill=\"#000000\" font-family=\"sans-serif\" font-size=\"14\" font-weight=\"bold\" lengthAdjust=\"spacingAndGlyphs\" textLength=\"10\" x=\"126\" y=\"55.9951\">P</text></a><!--MD5=[85d356282659285ab4b2cfe2f634dd2b]\n",
       "reverse link E5 to E6--><a href=\"psysml:edb93869-3e30-4330-ae7d-f0dbadb8ae6e\" target=\"_top\" title=\"psysml:edb93869-3e30-4330-ae7d-f0dbadb8ae6e\" xlink:actuate=\"onRequest\" xlink:href=\"psysml:edb93869-3e30-4330-ae7d-f0dbadb8ae6e\" xlink:show=\"new\" xlink:title=\"psysml:edb93869-3e30-4330-ae7d-f0dbadb8ae6e\" xlink:type=\"simple\"><path d=\"M218.61,96.57 C190.28,114.48 154.1,137.36 127.85,153.96 \" fill=\"none\" id=\"E5&lt;-E6\" style=\"stroke: #A80036; stroke-width: 1.0;\"/><polygon fill=\"#A80036\" points=\"229.82,89.48,222.6111,89.2999,219.6723,95.8849,226.8811,96.0651,229.82,89.48\" style=\"stroke: #A80036; stroke-width: 1.0;\"/></a><!--MD5=[a717450b82c80b9240a525fa862496af]\n",
       "link E6 to E3--><a href=\"psysml:678c28b1-b825-4869-b6db-341a5ef18df5\" target=\"_top\" title=\"psysml:678c28b1-b825-4869-b6db-341a5ef18df5\" xlink:actuate=\"onRequest\" xlink:href=\"psysml:678c28b1-b825-4869-b6db-341a5ef18df5\" xlink:show=\"new\" xlink:title=\"psysml:678c28b1-b825-4869-b6db-341a5ef18df5\" xlink:type=\"simple\"><path d=\"M90.46,200.06 C89.12,211.64 87.44,226.23 85.86,239.87 \" fill=\"none\" id=\"E6-&gt;E3\" style=\"stroke: #A80036; stroke-width: 1.0;\"/><polygon fill=\"#FFFFFF\" points=\"83.54,259.98,78.757,240.3046,92.6653,241.9044,83.54,259.98\" style=\"stroke: #A80036; stroke-width: 1.0;\"/><ellipse cx=\"81.3953\" cy=\"234.8704\" fill=\"#A80036\" rx=\"2\" ry=\"2\" style=\"stroke: #A80036; stroke-width: 1.0;\"/><ellipse cx=\"91.3298\" cy=\"236.0132\" fill=\"#A80036\" rx=\"2\" ry=\"2\" style=\"stroke: #A80036; stroke-width: 1.0;\"/></a><!--MD5=[6bdd27f9905911a7e892a3dc65cf6b7c]\n",
       "link E7 to E4--><a href=\"psysml:e01b0a28-1744-4d35-a29d-a960e4229aec\" target=\"_top\" title=\"psysml:e01b0a28-1744-4d35-a29d-a960e4229aec\" xlink:actuate=\"onRequest\" xlink:href=\"psysml:e01b0a28-1744-4d35-a29d-a960e4229aec\" xlink:show=\"new\" xlink:title=\"psysml:e01b0a28-1744-4d35-a29d-a960e4229aec\" xlink:type=\"simple\"><path d=\"M216,200.06 C216,211.64 216,226.23 216,239.87 \" fill=\"none\" id=\"E7-&gt;E4\" style=\"stroke: #A80036; stroke-width: 1.0;\"/><polygon fill=\"#FFFFFF\" points=\"216,259.98,209,240.98,223,240.98,216,259.98\" style=\"stroke: #A80036; stroke-width: 1.0;\"/><ellipse cx=\"211\" cy=\"235.28\" fill=\"#A80036\" rx=\"2\" ry=\"2\" style=\"stroke: #A80036; stroke-width: 1.0;\"/><ellipse cx=\"221\" cy=\"235.28\" fill=\"#A80036\" rx=\"2\" ry=\"2\" style=\"stroke: #A80036; stroke-width: 1.0;\"/></a><!--MD5=[452b418e7f8a40397a49b8c0a78acc5b]\n",
       "reverse link E5 to E7--><a href=\"psysml:d3ad1959-ed24-48c6-b8cb-3101ea5444ce\" target=\"_top\" title=\"psysml:d3ad1959-ed24-48c6-b8cb-3101ea5444ce\" xlink:actuate=\"onRequest\" xlink:href=\"psysml:d3ad1959-ed24-48c6-b8cb-3101ea5444ce\" xlink:show=\"new\" xlink:title=\"psysml:d3ad1959-ed24-48c6-b8cb-3101ea5444ce\" xlink:type=\"simple\"><path d=\"M248.1,102.57 C240.81,119.26 232.23,138.89 225.77,153.65 \" fill=\"none\" id=\"E5&lt;-E7\" style=\"stroke: #A80036; stroke-width: 1.0;\"/><polygon fill=\"#A80036\" points=\"253.38,90.51,247.31,94.4029,248.5688,101.5033,254.6388,97.6104,253.38,90.51\" style=\"stroke: #A80036; stroke-width: 1.0;\"/><text fill=\"#000000\" font-family=\"sans-serif\" font-size=\"13\" lengthAdjust=\"spacingAndGlyphs\" textLength=\"24\" x=\"201.1986\" y=\"142.8366\">0..1</text></a><!--MD5=[1ccb2481ffa92f8d51a74ee30c51832a]\n",
       "link E8 to E5--><a href=\"psysml:3896f3dd-ac25-48cd-93fb-dac3b3d02068\" target=\"_top\" title=\"psysml:3896f3dd-ac25-48cd-93fb-dac3b3d02068\" xlink:actuate=\"onRequest\" xlink:href=\"psysml:3896f3dd-ac25-48cd-93fb-dac3b3d02068\" xlink:show=\"new\" xlink:title=\"psysml:3896f3dd-ac25-48cd-93fb-dac3b3d02068\" xlink:type=\"simple\"><path d=\"M312.22,153.65 C308.53,140.48 301.55,123.44 293.74,108.07 \" fill=\"none\" id=\"E8-&gt;E5\" style=\"stroke: #A80036; stroke-width: 1.0;\"/><polygon fill=\"#FFFFFF\" points=\"283.97,90.51,299.3209,103.7142,287.0851,110.5174,283.97,90.51\" style=\"stroke: #A80036; stroke-width: 1.0;\"/><ellipse cx=\"300.3428\" cy=\"109.6678\" fill=\"#A80036\" rx=\"2\" ry=\"2\" style=\"stroke: #A80036; stroke-width: 1.0;\"/><ellipse cx=\"291.6029\" cy=\"114.5273\" fill=\"#A80036\" rx=\"2\" ry=\"2\" style=\"stroke: #A80036; stroke-width: 1.0;\"/></a><!--MD5=[827760032d119d06bbc92f75530fd7ae]\n",
       "reverse link E5 to E8--><a href=\"psysml:c79df832-858d-4f87-b041-227cc7f695ce\" target=\"_top\" title=\"psysml:c79df832-858d-4f87-b041-227cc7f695ce\" xlink:actuate=\"onRequest\" xlink:href=\"psysml:c79df832-858d-4f87-b041-227cc7f695ce\" xlink:show=\"new\" xlink:title=\"psysml:c79df832-858d-4f87-b041-227cc7f695ce\" xlink:type=\"simple\"><path d=\"M266.44,103.07 C272.49,119.65 281.62,139.03 290.44,153.65 \" fill=\"none\" id=\"E5&lt;-E8\" style=\"stroke: #A80036; stroke-width: 1.0;\"/><polygon fill=\"#A80036\" points=\"262.31,90.51,260.3836,97.459,266.0572,101.9099,267.9836,94.9609,262.31,90.51\" style=\"stroke: #A80036; stroke-width: 1.0;\"/><text fill=\"#000000\" font-family=\"sans-serif\" font-size=\"13\" lengthAdjust=\"spacingAndGlyphs\" textLength=\"7\" x=\"277.2746\" y=\"142.8366\">*</text></a><!--MD5=[22f5b4bae7e060dce8a1c8021efdb95b]\n",
       "reverse link E8 to E9--><a href=\"psysml:599cc28e-37a4-4871-97e7-8713776fcf23\" target=\"_top\" title=\"psysml:599cc28e-37a4-4871-97e7-8713776fcf23\" xlink:actuate=\"onRequest\" xlink:href=\"psysml:599cc28e-37a4-4871-97e7-8713776fcf23\" xlink:show=\"new\" xlink:title=\"psysml:599cc28e-37a4-4871-97e7-8713776fcf23\" xlink:type=\"simple\"><path d=\"M320.75,212.96 C325.08,228.51 330.05,246.33 333.86,259.98 \" fill=\"none\" id=\"E8&lt;-E9\" style=\"stroke: #A80036; stroke-width: 1.0;\"/><polygon fill=\"#A80036\" points=\"317.15,200.06,314.9066,206.9133,320.3699,211.6199,322.6133,204.7667,317.15,200.06\" style=\"stroke: #A80036; stroke-width: 1.0;\"/></a><!--MD5=[3272d9e13cc172b6ca55ac35860d6983]\n",
       "@startuml\r\n",
       "skinparam wrapWidth 300\r\n",
       "hide circle\r\n",
       "\r\n",
       "package \"ViewTest\" as E1  [[psysml:68a4efc3-4169-49c4-b08f-98091c4bc0be ]]  {\r\n",
       "package \"P\" as E2  [[psysml:d8eb8e98-9fc5-4554-bb79-0a7fb3af234b ]]  {\r\n",
       "}\r\n",
       "comp def \"VP\" as E3  <<(T,blue)viewpoint def>> [[psysml:0e16ef0b-675e-475c-a6ab-030697702310 ]] {\r\n",
       "}\r\n",
       "comp def \"R\" as E4  <<(T,blue)rendering def>> [[psysml:80b9aeea-925b-4b3a-8c84-ce381a5e60ed ]] {\r\n",
       "}\r\n",
       "comp def \"V\" as E5  <<(T,blue)view def>> [[psysml:fa67c82a-cf4c-4211-8405-b886e7fced61 ]] {\r\n",
       "}\r\n",
       "comp usage \"vp: VP\" as E6  <<(T,blue)viewpoint>> [[psysml:edb93869-3e30-4330-ae7d-f0dbadb8ae6e ]] {\r\n",
       "}\r\n",
       "comp usage \"r: R\" as E7  <<(T,blue)rendering>> [[psysml:d3ad1959-ed24-48c6-b8cb-3101ea5444ce ]] {\r\n",
       "}\r\n",
       "comp usage \"v: V\" as E8  <<(T,blue)view>> [[psysml:c79df832-858d-4f87-b041-227cc7f695ce ]] {\r\n",
       "}\r\n",
       "comp usage \"r1\" as E9  <<(T,blue)rendering>> [[psysml:599cc28e-37a4-4871-97e7-8713776fcf23 ]] {\r\n",
       "}\r\n",
       "E5 *- - E6 [[psysml:edb93869-3e30-4330-ae7d-f0dbadb8ae6e ]] \r\n",
       "E6 - -:|> E3 [[psysml:678c28b1-b825-4869-b6db-341a5ef18df5 ]] \r\n",
       "E7 - -:|> E4 [[psysml:e01b0a28-1744-4d35-a29d-a960e4229aec ]] \r\n",
       "E5 *- - \"0..1\"E7 [[psysml:d3ad1959-ed24-48c6-b8cb-3101ea5444ce ]] \r\n",
       "E8 - -:|> E5 [[psysml:3896f3dd-ac25-48cd-93fb-dac3b3d02068 ]] \r\n",
       "E5 *- - \"*\"E8 [[psysml:c79df832-858d-4f87-b041-227cc7f695ce ]] \r\n",
       "E8 *- - E9 [[psysml:599cc28e-37a4-4871-97e7-8713776fcf23 ]] \r\n",
       "}\r\n",
       "@enduml\r\n",
       "\n",
       "PlantUML version 1.2020.13(Sat Jun 13 12:26:38 UTC 2020)\n",
       "(EPL source distribution)\n",
       "Java Runtime: OpenJDK Runtime Environment\n",
       "JVM: OpenJDK 64-Bit Server VM\n",
       "Default Encoding: UTF-8\n",
       "Language: en\n",
       "Country: null\n",
       "--></g></svg>"
      ]
     },
     "execution_count": 23,
     "metadata": {},
     "output_type": "execute_result"
    }
   ],
   "source": [
    "%viz --style=\"STDCOLOR\" --view=\"Default\" \"ViewTest\""
   ]
  },
  {
   "cell_type": "code",
   "execution_count": 24,
   "id": "filled-halloween",
   "metadata": {
    "execution": {
     "iopub.execute_input": "2021-03-25T15:10:03.488520Z",
     "iopub.status.busy": "2021-03-25T15:10:03.487941Z",
     "iopub.status.idle": "2021-03-25T15:10:03.589179Z",
     "shell.execute_reply": "2021-03-25T15:10:03.587616Z"
    }
   },
   "outputs": [
    {
     "data": {
      "image/svg+xml": [
       "<?xml version=\"1.0\" encoding=\"UTF-8\" standalone=\"no\"?><svg xmlns=\"http://www.w3.org/2000/svg\" xmlns:xlink=\"http://www.w3.org/1999/xlink\" contentScriptType=\"application/ecmascript\" contentStyleType=\"text/css\" height=\"334px\" preserveAspectRatio=\"none\" style=\"width:417px;height:334px;\" version=\"1.1\" viewBox=\"0 0 417 334\" width=\"417px\" zoomAndPan=\"magnify\"><defs><filter height=\"300%\" id=\"f1n6px93onqu8p\" width=\"300%\" x=\"-1\" y=\"-1\"><feGaussianBlur result=\"blurOut\" stdDeviation=\"2.0\"/><feColorMatrix in=\"blurOut\" result=\"blurOut2\" type=\"matrix\" values=\"0 0 0 0 0 0 0 0 0 0 0 0 0 0 0 0 0 0 .4 0\"/><feOffset dx=\"4.0\" dy=\"4.0\" in=\"blurOut2\" result=\"blurOut3\"/><feBlend in=\"SourceGraphic\" in2=\"blurOut3\" mode=\"normal\"/></filter></defs><g><!--MD5=[fbc87193dbaf4d95561dea2c320d4a47]\n",
       "cluster E1--><a href=\"psysml:68a4efc3-4169-49c4-b08f-98091c4bc0be\" target=\"_top\" title=\"psysml:68a4efc3-4169-49c4-b08f-98091c4bc0be\" xlink:actuate=\"onRequest\" xlink:href=\"psysml:68a4efc3-4169-49c4-b08f-98091c4bc0be\" xlink:show=\"new\" xlink:title=\"psysml:68a4efc3-4169-49c4-b08f-98091c4bc0be\" xlink:type=\"simple\"><polygon fill=\"#FFFFFF\" filter=\"url(#f1n6px93onqu8p)\" points=\"16,6,96,6,103,28.2969,395,28.2969,395,322,16,322,16,6\" style=\"stroke: #000000; stroke-width: 1.5;\"/><line style=\"stroke: #000000; stroke-width: 1.5;\" x1=\"16\" x2=\"103\" y1=\"28.2969\" y2=\"28.2969\"/><text fill=\"#000000\" font-family=\"sans-serif\" font-size=\"14\" font-weight=\"bold\" lengthAdjust=\"spacingAndGlyphs\" textLength=\"74\" x=\"20\" y=\"20.9951\">ViewTest</text></a><!--MD5=[09b614a08d8cba4a07c9adeb5e0fee81]\n",
       "class E3--><a href=\"psysml:0e16ef0b-675e-475c-a6ab-030697702310\" target=\"_top\" title=\"psysml:0e16ef0b-675e-475c-a6ab-030697702310\" xlink:actuate=\"onRequest\" xlink:href=\"psysml:0e16ef0b-675e-475c-a6ab-030697702310\" xlink:show=\"new\" xlink:title=\"psysml:0e16ef0b-675e-475c-a6ab-030697702310\" xlink:type=\"simple\"><rect fill=\"#FEFECE\" filter=\"url(#f1n6px93onqu8p)\" height=\"45.9375\" id=\"E3\" style=\"stroke: #A80036; stroke-width: 1.5;\" width=\"98\" x=\"32\" y=\"260\"/><text fill=\"#000000\" font-family=\"sans-serif\" font-size=\"12\" font-style=\"italic\" lengthAdjust=\"spacingAndGlyphs\" textLength=\"96\" x=\"33\" y=\"276.1387\">«viewpoint def»</text><text fill=\"#000000\" font-family=\"sans-serif\" font-size=\"12\" lengthAdjust=\"spacingAndGlyphs\" textLength=\"16\" x=\"73\" y=\"290.1074\">VP</text><line style=\"stroke: #A80036; stroke-width: 1.5;\" x1=\"33\" x2=\"129\" y1=\"297.9375\" y2=\"297.9375\"/></a><!--MD5=[ebbe1d658d1005bcc118a6aa81145e00]\n",
       "class E4--><a href=\"psysml:80b9aeea-925b-4b3a-8c84-ce381a5e60ed\" target=\"_top\" title=\"psysml:80b9aeea-925b-4b3a-8c84-ce381a5e60ed\" xlink:actuate=\"onRequest\" xlink:href=\"psysml:80b9aeea-925b-4b3a-8c84-ce381a5e60ed\" xlink:show=\"new\" xlink:title=\"psysml:80b9aeea-925b-4b3a-8c84-ce381a5e60ed\" xlink:type=\"simple\"><rect fill=\"#FEFECE\" filter=\"url(#f1n6px93onqu8p)\" height=\"45.9375\" id=\"E4\" style=\"stroke: #A80036; stroke-width: 1.5;\" width=\"101\" x=\"165.5\" y=\"260\"/><text fill=\"#000000\" font-family=\"sans-serif\" font-size=\"12\" font-style=\"italic\" lengthAdjust=\"spacingAndGlyphs\" textLength=\"99\" x=\"166.5\" y=\"276.1387\">«rendering def»</text><text fill=\"#000000\" font-family=\"sans-serif\" font-size=\"12\" lengthAdjust=\"spacingAndGlyphs\" textLength=\"8\" x=\"212\" y=\"290.1074\">R</text><line style=\"stroke: #A80036; stroke-width: 1.5;\" x1=\"166.5\" x2=\"265.5\" y1=\"297.9375\" y2=\"297.9375\"/></a><!--MD5=[270fce915f116d4de14055a7c1d9a0f3]\n",
       "class E5--><a href=\"psysml:fa67c82a-cf4c-4211-8405-b886e7fced61\" target=\"_top\" title=\"psysml:fa67c82a-cf4c-4211-8405-b886e7fced61\" xlink:actuate=\"onRequest\" xlink:href=\"psysml:fa67c82a-cf4c-4211-8405-b886e7fced61\" xlink:show=\"new\" xlink:title=\"psysml:fa67c82a-cf4c-4211-8405-b886e7fced61\" xlink:type=\"simple\"><rect fill=\"#FEFECE\" filter=\"url(#f1n6px93onqu8p)\" height=\"45.9375\" id=\"E5\" style=\"stroke: #A80036; stroke-width: 1.5;\" width=\"66\" x=\"230\" y=\"44.5\"/><text fill=\"#000000\" font-family=\"sans-serif\" font-size=\"12\" font-style=\"italic\" lengthAdjust=\"spacingAndGlyphs\" textLength=\"64\" x=\"231\" y=\"60.6387\">«view def»</text><text fill=\"#000000\" font-family=\"sans-serif\" font-size=\"12\" lengthAdjust=\"spacingAndGlyphs\" textLength=\"8\" x=\"259\" y=\"74.6074\">V</text><line style=\"stroke: #A80036; stroke-width: 1.5;\" x1=\"231\" x2=\"295\" y1=\"82.4375\" y2=\"82.4375\"/></a><!--MD5=[60a26617385b1d2d0262a64233df1f8d]\n",
       "class E6--><a href=\"psysml:edb93869-3e30-4330-ae7d-f0dbadb8ae6e\" target=\"_top\" title=\"psysml:edb93869-3e30-4330-ae7d-f0dbadb8ae6e\" xlink:actuate=\"onRequest\" xlink:href=\"psysml:edb93869-3e30-4330-ae7d-f0dbadb8ae6e\" xlink:show=\"new\" xlink:title=\"psysml:edb93869-3e30-4330-ae7d-f0dbadb8ae6e\" xlink:type=\"simple\"><rect fill=\"#FEFECE\" filter=\"url(#f1n6px93onqu8p)\" height=\"45.9375\" id=\"E6\" rx=\"10\" ry=\"10\" style=\"stroke: #A80036; stroke-width: 1.5;\" width=\"74\" x=\"56\" y=\"154\"/><text fill=\"#000000\" font-family=\"sans-serif\" font-size=\"12\" font-style=\"italic\" lengthAdjust=\"spacingAndGlyphs\" textLength=\"72\" x=\"57\" y=\"170.1387\">«viewpoint»</text><text fill=\"#000000\" font-family=\"sans-serif\" font-size=\"12\" lengthAdjust=\"spacingAndGlyphs\" textLength=\"38\" x=\"74\" y=\"184.1074\">vp: VP</text><line style=\"stroke: #A80036; stroke-width: 1.5;\" x1=\"57\" x2=\"129\" y1=\"191.9375\" y2=\"191.9375\"/></a><!--MD5=[2156ba9850f5573cc1fc38a6a4b2f02b]\n",
       "class E7--><a href=\"psysml:d3ad1959-ed24-48c6-b8cb-3101ea5444ce\" target=\"_top\" title=\"psysml:d3ad1959-ed24-48c6-b8cb-3101ea5444ce\" xlink:actuate=\"onRequest\" xlink:href=\"psysml:d3ad1959-ed24-48c6-b8cb-3101ea5444ce\" xlink:show=\"new\" xlink:title=\"psysml:d3ad1959-ed24-48c6-b8cb-3101ea5444ce\" xlink:type=\"simple\"><rect fill=\"#FEFECE\" filter=\"url(#f1n6px93onqu8p)\" height=\"45.9375\" id=\"E7\" rx=\"10\" ry=\"10\" style=\"stroke: #A80036; stroke-width: 1.5;\" width=\"77\" x=\"177.5\" y=\"154\"/><text fill=\"#000000\" font-family=\"sans-serif\" font-size=\"12\" font-style=\"italic\" lengthAdjust=\"spacingAndGlyphs\" textLength=\"75\" x=\"178.5\" y=\"170.1387\">«rendering»</text><text fill=\"#000000\" font-family=\"sans-serif\" font-size=\"12\" lengthAdjust=\"spacingAndGlyphs\" textLength=\"21\" x=\"205.5\" y=\"184.1074\">r: R</text><line style=\"stroke: #A80036; stroke-width: 1.5;\" x1=\"178.5\" x2=\"253.5\" y1=\"191.9375\" y2=\"191.9375\"/></a><!--MD5=[b9389687b975829384b498ac4b7476b2]\n",
       "class E8--><a href=\"psysml:c79df832-858d-4f87-b041-227cc7f695ce\" target=\"_top\" title=\"psysml:c79df832-858d-4f87-b041-227cc7f695ce\" xlink:actuate=\"onRequest\" xlink:href=\"psysml:c79df832-858d-4f87-b041-227cc7f695ce\" xlink:show=\"new\" xlink:title=\"psysml:c79df832-858d-4f87-b041-227cc7f695ce\" xlink:type=\"simple\"><rect fill=\"#FEFECE\" filter=\"url(#f1n6px93onqu8p)\" height=\"45.9375\" id=\"E8\" rx=\"10\" ry=\"10\" style=\"stroke: #A80036; stroke-width: 1.5;\" width=\"42\" x=\"290\" y=\"154\"/><text fill=\"#000000\" font-family=\"sans-serif\" font-size=\"12\" font-style=\"italic\" lengthAdjust=\"spacingAndGlyphs\" textLength=\"40\" x=\"291\" y=\"170.1387\">«view»</text><text fill=\"#000000\" font-family=\"sans-serif\" font-size=\"12\" lengthAdjust=\"spacingAndGlyphs\" textLength=\"22\" x=\"300\" y=\"184.1074\">v: V</text><line style=\"stroke: #A80036; stroke-width: 1.5;\" x1=\"291\" x2=\"331\" y1=\"191.9375\" y2=\"191.9375\"/></a><!--MD5=[fd4143e9d270a159db93a4ea2a975926]\n",
       "class E9--><a href=\"psysml:599cc28e-37a4-4871-97e7-8713776fcf23\" target=\"_top\" title=\"psysml:599cc28e-37a4-4871-97e7-8713776fcf23\" xlink:actuate=\"onRequest\" xlink:href=\"psysml:599cc28e-37a4-4871-97e7-8713776fcf23\" xlink:show=\"new\" xlink:title=\"psysml:599cc28e-37a4-4871-97e7-8713776fcf23\" xlink:type=\"simple\"><rect fill=\"#FEFECE\" filter=\"url(#f1n6px93onqu8p)\" height=\"45.9375\" id=\"E9\" rx=\"10\" ry=\"10\" style=\"stroke: #A80036; stroke-width: 1.5;\" width=\"77\" x=\"301.5\" y=\"260\"/><text fill=\"#000000\" font-family=\"sans-serif\" font-size=\"12\" font-style=\"italic\" lengthAdjust=\"spacingAndGlyphs\" textLength=\"75\" x=\"302.5\" y=\"276.1387\">«rendering»</text><text fill=\"#000000\" font-family=\"sans-serif\" font-size=\"12\" lengthAdjust=\"spacingAndGlyphs\" textLength=\"13\" x=\"333.5\" y=\"290.1074\">r1</text><line style=\"stroke: #A80036; stroke-width: 1.5;\" x1=\"302.5\" x2=\"377.5\" y1=\"297.9375\" y2=\"297.9375\"/></a><a href=\"psysml:d8eb8e98-9fc5-4554-bb79-0a7fb3af234b\" target=\"_top\" title=\"psysml:d8eb8e98-9fc5-4554-bb79-0a7fb3af234b\" xlink:actuate=\"onRequest\" xlink:href=\"psysml:d8eb8e98-9fc5-4554-bb79-0a7fb3af234b\" xlink:show=\"new\" xlink:title=\"psysml:d8eb8e98-9fc5-4554-bb79-0a7fb3af234b\" xlink:type=\"simple\"><polygon fill=\"#FFFFFF\" filter=\"url(#f1n6px93onqu8p)\" points=\"122,41,138,41,145,63.2969,152,63.2969,152,93.5938,122,93.5938,122,41\" style=\"stroke: #000000; stroke-width: 1.5;\"/><line style=\"stroke: #000000; stroke-width: 1.5;\" x1=\"122\" x2=\"145\" y1=\"63.2969\" y2=\"63.2969\"/><text fill=\"#000000\" font-family=\"sans-serif\" font-size=\"14\" font-weight=\"bold\" lengthAdjust=\"spacingAndGlyphs\" textLength=\"10\" x=\"126\" y=\"55.9951\">P</text></a><!--MD5=[85d356282659285ab4b2cfe2f634dd2b]\n",
       "reverse link E5 to E6--><a href=\"psysml:edb93869-3e30-4330-ae7d-f0dbadb8ae6e\" target=\"_top\" title=\"psysml:edb93869-3e30-4330-ae7d-f0dbadb8ae6e\" xlink:actuate=\"onRequest\" xlink:href=\"psysml:edb93869-3e30-4330-ae7d-f0dbadb8ae6e\" xlink:show=\"new\" xlink:title=\"psysml:edb93869-3e30-4330-ae7d-f0dbadb8ae6e\" xlink:type=\"simple\"><path d=\"M218.61,96.57 C190.28,114.48 154.1,137.36 127.85,153.96 \" fill=\"none\" id=\"E5&lt;-E6\" style=\"stroke: #A80036; stroke-width: 1.0;\"/><polygon fill=\"#A80036\" points=\"229.82,89.48,222.6111,89.2999,219.6723,95.8849,226.8811,96.0651,229.82,89.48\" style=\"stroke: #A80036; stroke-width: 1.0;\"/></a><!--MD5=[a717450b82c80b9240a525fa862496af]\n",
       "link E6 to E3--><a href=\"psysml:678c28b1-b825-4869-b6db-341a5ef18df5\" target=\"_top\" title=\"psysml:678c28b1-b825-4869-b6db-341a5ef18df5\" xlink:actuate=\"onRequest\" xlink:href=\"psysml:678c28b1-b825-4869-b6db-341a5ef18df5\" xlink:show=\"new\" xlink:title=\"psysml:678c28b1-b825-4869-b6db-341a5ef18df5\" xlink:type=\"simple\"><path d=\"M90.46,200.06 C89.12,211.64 87.44,226.23 85.86,239.87 \" fill=\"none\" id=\"E6-&gt;E3\" style=\"stroke: #A80036; stroke-width: 1.0;\"/><polygon fill=\"#FFFFFF\" points=\"83.54,259.98,78.757,240.3046,92.6653,241.9044,83.54,259.98\" style=\"stroke: #A80036; stroke-width: 1.0;\"/><ellipse cx=\"81.3953\" cy=\"234.8704\" fill=\"#A80036\" rx=\"2\" ry=\"2\" style=\"stroke: #A80036; stroke-width: 1.0;\"/><ellipse cx=\"91.3298\" cy=\"236.0132\" fill=\"#A80036\" rx=\"2\" ry=\"2\" style=\"stroke: #A80036; stroke-width: 1.0;\"/></a><!--MD5=[6bdd27f9905911a7e892a3dc65cf6b7c]\n",
       "link E7 to E4--><a href=\"psysml:e01b0a28-1744-4d35-a29d-a960e4229aec\" target=\"_top\" title=\"psysml:e01b0a28-1744-4d35-a29d-a960e4229aec\" xlink:actuate=\"onRequest\" xlink:href=\"psysml:e01b0a28-1744-4d35-a29d-a960e4229aec\" xlink:show=\"new\" xlink:title=\"psysml:e01b0a28-1744-4d35-a29d-a960e4229aec\" xlink:type=\"simple\"><path d=\"M216,200.06 C216,211.64 216,226.23 216,239.87 \" fill=\"none\" id=\"E7-&gt;E4\" style=\"stroke: #A80036; stroke-width: 1.0;\"/><polygon fill=\"#FFFFFF\" points=\"216,259.98,209,240.98,223,240.98,216,259.98\" style=\"stroke: #A80036; stroke-width: 1.0;\"/><ellipse cx=\"211\" cy=\"235.28\" fill=\"#A80036\" rx=\"2\" ry=\"2\" style=\"stroke: #A80036; stroke-width: 1.0;\"/><ellipse cx=\"221\" cy=\"235.28\" fill=\"#A80036\" rx=\"2\" ry=\"2\" style=\"stroke: #A80036; stroke-width: 1.0;\"/></a><!--MD5=[452b418e7f8a40397a49b8c0a78acc5b]\n",
       "reverse link E5 to E7--><a href=\"psysml:d3ad1959-ed24-48c6-b8cb-3101ea5444ce\" target=\"_top\" title=\"psysml:d3ad1959-ed24-48c6-b8cb-3101ea5444ce\" xlink:actuate=\"onRequest\" xlink:href=\"psysml:d3ad1959-ed24-48c6-b8cb-3101ea5444ce\" xlink:show=\"new\" xlink:title=\"psysml:d3ad1959-ed24-48c6-b8cb-3101ea5444ce\" xlink:type=\"simple\"><path d=\"M248.1,102.57 C240.81,119.26 232.23,138.89 225.77,153.65 \" fill=\"none\" id=\"E5&lt;-E7\" style=\"stroke: #A80036; stroke-width: 1.0;\"/><polygon fill=\"#A80036\" points=\"253.38,90.51,247.31,94.4029,248.5688,101.5033,254.6388,97.6104,253.38,90.51\" style=\"stroke: #A80036; stroke-width: 1.0;\"/><text fill=\"#000000\" font-family=\"sans-serif\" font-size=\"13\" lengthAdjust=\"spacingAndGlyphs\" textLength=\"24\" x=\"201.1986\" y=\"142.8366\">0..1</text></a><!--MD5=[1ccb2481ffa92f8d51a74ee30c51832a]\n",
       "link E8 to E5--><a href=\"psysml:3896f3dd-ac25-48cd-93fb-dac3b3d02068\" target=\"_top\" title=\"psysml:3896f3dd-ac25-48cd-93fb-dac3b3d02068\" xlink:actuate=\"onRequest\" xlink:href=\"psysml:3896f3dd-ac25-48cd-93fb-dac3b3d02068\" xlink:show=\"new\" xlink:title=\"psysml:3896f3dd-ac25-48cd-93fb-dac3b3d02068\" xlink:type=\"simple\"><path d=\"M312.22,153.65 C308.53,140.48 301.55,123.44 293.74,108.07 \" fill=\"none\" id=\"E8-&gt;E5\" style=\"stroke: #A80036; stroke-width: 1.0;\"/><polygon fill=\"#FFFFFF\" points=\"283.97,90.51,299.3209,103.7142,287.0851,110.5174,283.97,90.51\" style=\"stroke: #A80036; stroke-width: 1.0;\"/><ellipse cx=\"300.3428\" cy=\"109.6678\" fill=\"#A80036\" rx=\"2\" ry=\"2\" style=\"stroke: #A80036; stroke-width: 1.0;\"/><ellipse cx=\"291.6029\" cy=\"114.5273\" fill=\"#A80036\" rx=\"2\" ry=\"2\" style=\"stroke: #A80036; stroke-width: 1.0;\"/></a><!--MD5=[827760032d119d06bbc92f75530fd7ae]\n",
       "reverse link E5 to E8--><a href=\"psysml:c79df832-858d-4f87-b041-227cc7f695ce\" target=\"_top\" title=\"psysml:c79df832-858d-4f87-b041-227cc7f695ce\" xlink:actuate=\"onRequest\" xlink:href=\"psysml:c79df832-858d-4f87-b041-227cc7f695ce\" xlink:show=\"new\" xlink:title=\"psysml:c79df832-858d-4f87-b041-227cc7f695ce\" xlink:type=\"simple\"><path d=\"M266.44,103.07 C272.49,119.65 281.62,139.03 290.44,153.65 \" fill=\"none\" id=\"E5&lt;-E8\" style=\"stroke: #A80036; stroke-width: 1.0;\"/><polygon fill=\"#A80036\" points=\"262.31,90.51,260.3836,97.459,266.0572,101.9099,267.9836,94.9609,262.31,90.51\" style=\"stroke: #A80036; stroke-width: 1.0;\"/><text fill=\"#000000\" font-family=\"sans-serif\" font-size=\"13\" lengthAdjust=\"spacingAndGlyphs\" textLength=\"7\" x=\"277.2746\" y=\"142.8366\">*</text></a><!--MD5=[22f5b4bae7e060dce8a1c8021efdb95b]\n",
       "reverse link E8 to E9--><a href=\"psysml:599cc28e-37a4-4871-97e7-8713776fcf23\" target=\"_top\" title=\"psysml:599cc28e-37a4-4871-97e7-8713776fcf23\" xlink:actuate=\"onRequest\" xlink:href=\"psysml:599cc28e-37a4-4871-97e7-8713776fcf23\" xlink:show=\"new\" xlink:title=\"psysml:599cc28e-37a4-4871-97e7-8713776fcf23\" xlink:type=\"simple\"><path d=\"M320.75,212.96 C325.08,228.51 330.05,246.33 333.86,259.98 \" fill=\"none\" id=\"E8&lt;-E9\" style=\"stroke: #A80036; stroke-width: 1.0;\"/><polygon fill=\"#A80036\" points=\"317.15,200.06,314.9066,206.9133,320.3699,211.6199,322.6133,204.7667,317.15,200.06\" style=\"stroke: #A80036; stroke-width: 1.0;\"/></a><!--MD5=[3272d9e13cc172b6ca55ac35860d6983]\n",
       "@startuml\r\n",
       "skinparam wrapWidth 300\r\n",
       "hide circle\r\n",
       "\r\n",
       "package \"ViewTest\" as E1  [[psysml:68a4efc3-4169-49c4-b08f-98091c4bc0be ]]  {\r\n",
       "package \"P\" as E2  [[psysml:d8eb8e98-9fc5-4554-bb79-0a7fb3af234b ]]  {\r\n",
       "}\r\n",
       "comp def \"VP\" as E3  <<(T,blue)viewpoint def>> [[psysml:0e16ef0b-675e-475c-a6ab-030697702310 ]] {\r\n",
       "}\r\n",
       "comp def \"R\" as E4  <<(T,blue)rendering def>> [[psysml:80b9aeea-925b-4b3a-8c84-ce381a5e60ed ]] {\r\n",
       "}\r\n",
       "comp def \"V\" as E5  <<(T,blue)view def>> [[psysml:fa67c82a-cf4c-4211-8405-b886e7fced61 ]] {\r\n",
       "}\r\n",
       "comp usage \"vp: VP\" as E6  <<(T,blue)viewpoint>> [[psysml:edb93869-3e30-4330-ae7d-f0dbadb8ae6e ]] {\r\n",
       "}\r\n",
       "comp usage \"r: R\" as E7  <<(T,blue)rendering>> [[psysml:d3ad1959-ed24-48c6-b8cb-3101ea5444ce ]] {\r\n",
       "}\r\n",
       "comp usage \"v: V\" as E8  <<(T,blue)view>> [[psysml:c79df832-858d-4f87-b041-227cc7f695ce ]] {\r\n",
       "}\r\n",
       "comp usage \"r1\" as E9  <<(T,blue)rendering>> [[psysml:599cc28e-37a4-4871-97e7-8713776fcf23 ]] {\r\n",
       "}\r\n",
       "E5 *- - E6 [[psysml:edb93869-3e30-4330-ae7d-f0dbadb8ae6e ]] \r\n",
       "E6 - -:|> E3 [[psysml:678c28b1-b825-4869-b6db-341a5ef18df5 ]] \r\n",
       "E7 - -:|> E4 [[psysml:e01b0a28-1744-4d35-a29d-a960e4229aec ]] \r\n",
       "E5 *- - \"0..1\"E7 [[psysml:d3ad1959-ed24-48c6-b8cb-3101ea5444ce ]] \r\n",
       "E8 - -:|> E5 [[psysml:3896f3dd-ac25-48cd-93fb-dac3b3d02068 ]] \r\n",
       "E5 *- - \"*\"E8 [[psysml:c79df832-858d-4f87-b041-227cc7f695ce ]] \r\n",
       "E8 *- - E9 [[psysml:599cc28e-37a4-4871-97e7-8713776fcf23 ]] \r\n",
       "}\r\n",
       "@enduml\r\n",
       "\n",
       "PlantUML version 1.2020.13(Sat Jun 13 12:26:38 UTC 2020)\n",
       "(EPL source distribution)\n",
       "Java Runtime: OpenJDK Runtime Environment\n",
       "JVM: OpenJDK 64-Bit Server VM\n",
       "Default Encoding: UTF-8\n",
       "Language: en\n",
       "Country: null\n",
       "--></g></svg>"
      ]
     },
     "execution_count": 24,
     "metadata": {},
     "output_type": "execute_result"
    }
   ],
   "source": [
    "%viz --style=\"STDCOLOR\" --view=\"Tree\" \"ViewTest\""
   ]
  },
  {
   "cell_type": "code",
   "execution_count": 25,
   "id": "incorrect-jordan",
   "metadata": {
    "execution": {
     "iopub.execute_input": "2021-03-25T15:10:03.639034Z",
     "iopub.status.busy": "2021-03-25T15:10:03.638619Z",
     "iopub.status.idle": "2021-03-25T15:10:03.643871Z",
     "shell.execute_reply": "2021-03-25T15:10:03.644306Z"
    }
   },
   "outputs": [
    {
     "data": {
      "image/svg+xml": [
       "<?xml version=\"1.0\" encoding=\"UTF-8\" standalone=\"no\"?><svg xmlns=\"http://www.w3.org/2000/svg\" xmlns:xlink=\"http://www.w3.org/1999/xlink\" contentScriptType=\"application/ecmascript\" contentStyleType=\"text/css\" height=\"12px\" preserveAspectRatio=\"none\" style=\"width:12px;height:12px;\" version=\"1.1\" viewBox=\"0 0 12 12\" width=\"12px\" zoomAndPan=\"magnify\"><defs/><g><!--MD5=[aeeef50f102b80d730deb6443d14f702]\n",
       "@startuml\r\n",
       "skinparam wrapWidth 300\r\n",
       "hide circle\r\n",
       "\r\n",
       "@enduml\r\n",
       "\n",
       "PlantUML version 1.2020.13(Sat Jun 13 12:26:38 UTC 2020)\n",
       "(EPL source distribution)\n",
       "Java Runtime: OpenJDK Runtime Environment\n",
       "JVM: OpenJDK 64-Bit Server VM\n",
       "Default Encoding: UTF-8\n",
       "Language: en\n",
       "Country: null\n",
       "--></g></svg>"
      ]
     },
     "execution_count": 25,
     "metadata": {},
     "output_type": "execute_result"
    }
   ],
   "source": [
    "%viz --style=\"STDCOLOR\" --view=\"State\" \"ViewTest\""
   ]
  },
  {
   "cell_type": "code",
   "execution_count": 26,
   "id": "supposed-cowboy",
   "metadata": {
    "execution": {
     "iopub.execute_input": "2021-03-25T15:10:03.695600Z",
     "iopub.status.busy": "2021-03-25T15:10:03.694971Z",
     "iopub.status.idle": "2021-03-25T15:10:03.833588Z",
     "shell.execute_reply": "2021-03-25T15:10:03.834010Z"
    }
   },
   "outputs": [
    {
     "data": {
      "image/svg+xml": [
       "<?xml version=\"1.0\" encoding=\"UTF-8\" standalone=\"no\"?><svg xmlns=\"http://www.w3.org/2000/svg\" xmlns:xlink=\"http://www.w3.org/1999/xlink\" contentScriptType=\"application/ecmascript\" contentStyleType=\"text/css\" height=\"278px\" preserveAspectRatio=\"none\" style=\"width:778px;height:278px;\" version=\"1.1\" viewBox=\"0 0 778 278\" width=\"778px\" zoomAndPan=\"magnify\"><defs><filter height=\"300%\" id=\"fcncc12qwikt7\" width=\"300%\" x=\"-1\" y=\"-1\"><feGaussianBlur result=\"blurOut\" stdDeviation=\"2.0\"/><feColorMatrix in=\"blurOut\" result=\"blurOut2\" type=\"matrix\" values=\"0 0 0 0 0 0 0 0 0 0 0 0 0 0 0 0 0 0 .4 0\"/><feOffset dx=\"4.0\" dy=\"4.0\" in=\"blurOut2\" result=\"blurOut3\"/><feBlend in=\"SourceGraphic\" in2=\"blurOut3\" mode=\"normal\"/></filter></defs><g><!--MD5=[fbc87193dbaf4d95561dea2c320d4a47]\n",
       "cluster E1--><a href=\"psysml:68a4efc3-4169-49c4-b08f-98091c4bc0be\" target=\"_top\" title=\"psysml:68a4efc3-4169-49c4-b08f-98091c4bc0be\" xlink:actuate=\"onRequest\" xlink:href=\"psysml:68a4efc3-4169-49c4-b08f-98091c4bc0be\" xlink:show=\"new\" xlink:title=\"psysml:68a4efc3-4169-49c4-b08f-98091c4bc0be\" xlink:type=\"simple\"><polygon fill=\"#FFFFFF\" filter=\"url(#fcncc12qwikt7)\" points=\"16,6,96,6,103,28.2969,756,28.2969,756,266,16,266,16,6\" style=\"stroke: #000000; stroke-width: 1.5;\"/><line style=\"stroke: #000000; stroke-width: 1.5;\" x1=\"16\" x2=\"103\" y1=\"28.2969\" y2=\"28.2969\"/><text fill=\"#000000\" font-family=\"sans-serif\" font-size=\"14\" font-weight=\"bold\" lengthAdjust=\"spacingAndGlyphs\" textLength=\"74\" x=\"20\" y=\"20.9951\">ViewTest</text></a><!--MD5=[de5ec2e2e8f62f467e546659f5068c88]\n",
       "cluster E5--><a href=\"psysml:fa67c82a-cf4c-4211-8405-b886e7fced61\" target=\"_top\" title=\"psysml:fa67c82a-cf4c-4211-8405-b886e7fced61\" xlink:actuate=\"onRequest\" xlink:href=\"psysml:fa67c82a-cf4c-4211-8405-b886e7fced61\" xlink:show=\"new\" xlink:title=\"psysml:fa67c82a-cf4c-4211-8405-b886e7fced61\" xlink:type=\"simple\"><rect fill=\"#FFFFFF\" filter=\"url(#fcncc12qwikt7)\" height=\"193\" id=\"E5\" style=\"stroke: #A80036; stroke-width: 1.5;\" width=\"329\" x=\"403\" y=\"49\"/><rect fill=\"#FEFECE\" height=\"37.9375\" style=\"stroke: #A80036; stroke-width: 1.5;\" width=\"329\" x=\"403\" y=\"49\"/><text fill=\"#000000\" font-family=\"sans-serif\" font-size=\"12\" font-style=\"italic\" lengthAdjust=\"spacingAndGlyphs\" textLength=\"64\" x=\"535.5\" y=\"65.1387\">«view def»</text><text fill=\"#000000\" font-family=\"sans-serif\" font-size=\"12\" lengthAdjust=\"spacingAndGlyphs\" textLength=\"8\" x=\"563.5\" y=\"79.1074\">V</text></a><!--MD5=[14e3b0961a2654348d326746436168a1]\n",
       "cluster E6--><a href=\"psysml:edb93869-3e30-4330-ae7d-f0dbadb8ae6e\" target=\"_top\" title=\"psysml:edb93869-3e30-4330-ae7d-f0dbadb8ae6e\" xlink:actuate=\"onRequest\" xlink:href=\"psysml:edb93869-3e30-4330-ae7d-f0dbadb8ae6e\" xlink:show=\"new\" xlink:title=\"psysml:edb93869-3e30-4330-ae7d-f0dbadb8ae6e\" xlink:type=\"simple\"><rect fill=\"#FFFFFF\" filter=\"url(#fcncc12qwikt7)\" height=\"110\" id=\"E6\" rx=\"10\" ry=\"10\" style=\"stroke: #A80036; stroke-width: 1.5;\" width=\"114\" x=\"594\" y=\"108\"/><rect fill=\"#FEFECE\" height=\"37.9375\" rx=\"10\" ry=\"10\" style=\"stroke: #FEFECE; stroke-width: 1.5;\" width=\"114\" x=\"594\" y=\"108\"/><rect fill=\"#FEFECE\" height=\"10\" style=\"stroke: #FEFECE; stroke-width: 1.5;\" width=\"114\" x=\"594\" y=\"135.9375\"/><rect fill=\"none\" height=\"110\" id=\"E6\" rx=\"10\" ry=\"10\" style=\"stroke: #A80036; stroke-width: 1.5;\" width=\"114\" x=\"594\" y=\"108\"/><text fill=\"#000000\" font-family=\"sans-serif\" font-size=\"12\" font-style=\"italic\" lengthAdjust=\"spacingAndGlyphs\" textLength=\"72\" x=\"615\" y=\"124.1387\">«viewpoint»</text><text fill=\"#000000\" font-family=\"sans-serif\" font-size=\"12\" lengthAdjust=\"spacingAndGlyphs\" textLength=\"38\" x=\"632\" y=\"138.1074\">vp: VP</text><line style=\"stroke: #A80036; stroke-width: 1.0;\" x1=\"594\" x2=\"708\" y1=\"145.9375\" y2=\"145.9375\"/></a><!--MD5=[7f149f147074ac12df2cb0a7728a5fb0]\n",
       "cluster E9--><a href=\"psysml:c79df832-858d-4f87-b041-227cc7f695ce\" target=\"_top\" title=\"psysml:c79df832-858d-4f87-b041-227cc7f695ce\" xlink:actuate=\"onRequest\" xlink:href=\"psysml:c79df832-858d-4f87-b041-227cc7f695ce\" xlink:show=\"new\" xlink:title=\"psysml:c79df832-858d-4f87-b041-227cc7f695ce\" xlink:type=\"simple\"><rect fill=\"#FFFFFF\" filter=\"url(#fcncc12qwikt7)\" height=\"91\" id=\"E9\" rx=\"10\" ry=\"10\" style=\"stroke: #A80036; stroke-width: 1.5;\" width=\"82\" x=\"488\" y=\"125.5\"/><rect fill=\"#FEFECE\" height=\"23.9688\" rx=\"10\" ry=\"10\" style=\"stroke: #FEFECE; stroke-width: 1.5;\" width=\"82\" x=\"488\" y=\"125.5\"/><rect fill=\"#FEFECE\" height=\"10\" style=\"stroke: #FEFECE; stroke-width: 1.5;\" width=\"82\" x=\"488\" y=\"139.4688\"/><rect fill=\"none\" height=\"91\" id=\"E9\" rx=\"10\" ry=\"10\" style=\"stroke: #A80036; stroke-width: 1.5;\" width=\"82\" x=\"488\" y=\"125.5\"/><text fill=\"#000000\" font-family=\"sans-serif\" font-size=\"12\" lengthAdjust=\"spacingAndGlyphs\" textLength=\"22\" x=\"518\" y=\"141.6387\">v: V</text><line style=\"stroke: #A80036; stroke-width: 1.0;\" x1=\"488\" x2=\"570\" y1=\"149.4688\" y2=\"149.4688\"/></a><!--MD5=[09b614a08d8cba4a07c9adeb5e0fee81]\n",
       "class E3--><a href=\"psysml:0e16ef0b-675e-475c-a6ab-030697702310\" target=\"_top\" title=\"psysml:0e16ef0b-675e-475c-a6ab-030697702310\" xlink:actuate=\"onRequest\" xlink:href=\"psysml:0e16ef0b-675e-475c-a6ab-030697702310\" xlink:show=\"new\" xlink:title=\"psysml:0e16ef0b-675e-475c-a6ab-030697702310\" xlink:type=\"simple\"><rect fill=\"#FEFECE\" filter=\"url(#fcncc12qwikt7)\" height=\"53.9375\" id=\"E3\" style=\"stroke: #A80036; stroke-width: 1.5;\" width=\"146\" x=\"238\" y=\"153.5\"/><text fill=\"#000000\" font-family=\"sans-serif\" font-size=\"12\" font-style=\"italic\" lengthAdjust=\"spacingAndGlyphs\" textLength=\"144\" x=\"239\" y=\"169.6387\">«(T,blue)viewpoint def»</text><text fill=\"#000000\" font-family=\"sans-serif\" font-size=\"12\" lengthAdjust=\"spacingAndGlyphs\" textLength=\"16\" x=\"303\" y=\"183.6074\">VP</text><line style=\"stroke: #A80036; stroke-width: 1.5;\" x1=\"239\" x2=\"383\" y1=\"191.4375\" y2=\"191.4375\"/><line style=\"stroke: #A80036; stroke-width: 1.5;\" x1=\"239\" x2=\"383\" y1=\"199.4375\" y2=\"199.4375\"/></a><a href=\"psysml:d8eb8e98-9fc5-4554-bb79-0a7fb3af234b\" target=\"_top\" title=\"psysml:d8eb8e98-9fc5-4554-bb79-0a7fb3af234b\" xlink:actuate=\"onRequest\" xlink:href=\"psysml:d8eb8e98-9fc5-4554-bb79-0a7fb3af234b\" xlink:show=\"new\" xlink:title=\"psysml:d8eb8e98-9fc5-4554-bb79-0a7fb3af234b\" xlink:type=\"simple\"><polygon fill=\"#FFFFFF\" filter=\"url(#fcncc12qwikt7)\" points=\"173,154,189,154,196,176.2969,203,176.2969,203,206.5938,173,206.5938,173,154\" style=\"stroke: #000000; stroke-width: 1.5;\"/><line style=\"stroke: #000000; stroke-width: 1.5;\" x1=\"173\" x2=\"196\" y1=\"176.2969\" y2=\"176.2969\"/><text fill=\"#000000\" font-family=\"sans-serif\" font-size=\"14\" font-weight=\"bold\" lengthAdjust=\"spacingAndGlyphs\" textLength=\"10\" x=\"177\" y=\"168.9951\">P</text></a><g id=\"E1.E4\"><a href=\"psysml:80b9aeea-925b-4b3a-8c84-ce381a5e60ed\" target=\"_top\" title=\"psysml:80b9aeea-925b-4b3a-8c84-ce381a5e60ed\" xlink:actuate=\"onRequest\" xlink:href=\"psysml:80b9aeea-925b-4b3a-8c84-ce381a5e60ed\" xlink:show=\"new\" xlink:title=\"psysml:80b9aeea-925b-4b3a-8c84-ce381a5e60ed\" xlink:type=\"simple\"><rect fill=\"#FEFECE\" filter=\"url(#fcncc12qwikt7)\" height=\"42.9375\" id=\"E4\" style=\"stroke: #A80036; stroke-width: 1.5;\" width=\"106\" x=\"32\" y=\"159\"/><text fill=\"#000000\" font-family=\"sans-serif\" font-size=\"12\" font-style=\"italic\" lengthAdjust=\"spacingAndGlyphs\" textLength=\"99\" x=\"35.5\" y=\"175.1387\">«rendering def»</text><text fill=\"#000000\" font-family=\"sans-serif\" font-size=\"12\" lengthAdjust=\"spacingAndGlyphs\" textLength=\"8\" x=\"81\" y=\"189.1074\">R</text></a></g><g id=\"E1.E5.E6.E7\"><a href=\"psysml:df90ec85-1f95-42f9-8740-37e2136842a3\" target=\"_top\" title=\"psysml:df90ec85-1f95-42f9-8740-37e2136842a3\" xlink:actuate=\"onRequest\" xlink:href=\"psysml:df90ec85-1f95-42f9-8740-37e2136842a3\" xlink:show=\"new\" xlink:title=\"psysml:df90ec85-1f95-42f9-8740-37e2136842a3\" xlink:type=\"simple\"><rect fill=\"#FEFECE\" filter=\"url(#fcncc12qwikt7)\" height=\"42.9375\" id=\"E7\" rx=\"10\" ry=\"10\" style=\"stroke: #A80036; stroke-width: 1.5;\" width=\"82\" x=\"610\" y=\"159\"/><text fill=\"#000000\" font-family=\"sans-serif\" font-size=\"12\" font-style=\"italic\" lengthAdjust=\"spacingAndGlyphs\" textLength=\"75\" x=\"613.5\" y=\"175.1387\">«reference»</text><text fill=\"#000000\" font-family=\"sans-serif\" font-size=\"12\" lengthAdjust=\"spacingAndGlyphs\" textLength=\"26\" x=\"638\" y=\"189.1074\">subj</text></a></g><g id=\"E1.E5.E8\"><a href=\"psysml:d3ad1959-ed24-48c6-b8cb-3101ea5444ce\" target=\"_top\" title=\"psysml:d3ad1959-ed24-48c6-b8cb-3101ea5444ce\" xlink:actuate=\"onRequest\" xlink:href=\"psysml:d3ad1959-ed24-48c6-b8cb-3101ea5444ce\" xlink:show=\"new\" xlink:title=\"psysml:d3ad1959-ed24-48c6-b8cb-3101ea5444ce\" xlink:type=\"simple\"><rect fill=\"#FEFECE\" filter=\"url(#fcncc12qwikt7)\" height=\"40\" id=\"E8\" rx=\"10\" ry=\"10\" style=\"stroke: #A80036; stroke-width: 1.5;\" width=\"50\" x=\"419\" y=\"160.5\"/><text fill=\"#000000\" font-family=\"sans-serif\" font-size=\"12\" lengthAdjust=\"spacingAndGlyphs\" textLength=\"21\" x=\"433.5\" y=\"176.6387\">r: R</text></a></g><g id=\"E1.E5.E9.E10\"><a href=\"psysml:599cc28e-37a4-4871-97e7-8713776fcf23\" target=\"_top\" title=\"psysml:599cc28e-37a4-4871-97e7-8713776fcf23\" xlink:actuate=\"onRequest\" xlink:href=\"psysml:599cc28e-37a4-4871-97e7-8713776fcf23\" xlink:show=\"new\" xlink:title=\"psysml:599cc28e-37a4-4871-97e7-8713776fcf23\" xlink:type=\"simple\"><rect fill=\"#FEFECE\" filter=\"url(#fcncc12qwikt7)\" height=\"40\" id=\"E10\" rx=\"10\" ry=\"10\" style=\"stroke: #A80036; stroke-width: 1.5;\" width=\"50\" x=\"504\" y=\"160.5\"/><text fill=\"#000000\" font-family=\"sans-serif\" font-size=\"12\" lengthAdjust=\"spacingAndGlyphs\" textLength=\"13\" x=\"522.5\" y=\"176.6387\">r1</text></a></g><!--MD5=[3077868d8196a6e1e1f6d4091d7fad03]\n",
       "@startuml\r\n",
       "skinparam ranksep 8\r\n",
       "skinparam rectangle {\r\n",
       " backgroundColor<<block>> LightGreen\r\n",
       "}\r\n",
       "skinparam wrapWidth 300\r\n",
       "hide circle\r\n",
       "\r\n",
       "package \"ViewTest\" as E1  [[psysml:68a4efc3-4169-49c4-b08f-98091c4bc0be ]]  {\r\n",
       "package \"P\" as E2  [[psysml:d8eb8e98-9fc5-4554-bb79-0a7fb3af234b ]]  {\r\n",
       "}\r\n",
       "def \"VP\" as E3  <<(T,blue)viewpoint def>> [[psysml:0e16ef0b-675e-475c-a6ab-030697702310 ]] \r\n",
       "rec def \"R\" as E4  <<(T,blue)rendering def>> [[psysml:80b9aeea-925b-4b3a-8c84-ce381a5e60ed ]] {\r\n",
       "}\r\n",
       "rec def \"V\" as E5  <<(T,blue)view def>> [[psysml:fa67c82a-cf4c-4211-8405-b886e7fced61 ]] {\r\n",
       "rec usage \"vp: VP\" as E6  <<(T,blue)viewpoint>> [[psysml:edb93869-3e30-4330-ae7d-f0dbadb8ae6e ]] {\r\n",
       "rec usage \"subj\" as E7  <<(T,blue)reference>> [[psysml:df90ec85-1f95-42f9-8740-37e2136842a3 ]] {\r\n",
       "}\r\n",
       "}\r\n",
       "rec usage \"r: R\" as E8  [[psysml:d3ad1959-ed24-48c6-b8cb-3101ea5444ce ]] {\r\n",
       "}\r\n",
       "rec usage \"v: V\" as E9  [[psysml:c79df832-858d-4f87-b041-227cc7f695ce ]] {\r\n",
       "rec usage \"r1\" as E10  [[psysml:599cc28e-37a4-4871-97e7-8713776fcf23 ]] {\r\n",
       "}\r\n",
       "}\r\n",
       "}\r\n",
       "}\r\n",
       "@enduml\r\n",
       "\n",
       "PlantUML version 1.2020.13(Sat Jun 13 12:26:38 UTC 2020)\n",
       "(EPL source distribution)\n",
       "Java Runtime: OpenJDK Runtime Environment\n",
       "JVM: OpenJDK 64-Bit Server VM\n",
       "Default Encoding: UTF-8\n",
       "Language: en\n",
       "Country: null\n",
       "--></g></svg>"
      ]
     },
     "execution_count": 26,
     "metadata": {},
     "output_type": "execute_result"
    }
   ],
   "source": [
    "%viz --style=\"STDCOLOR\" --view=\"Interconnection\" \"ViewTest\""
   ]
  },
  {
   "cell_type": "code",
   "execution_count": 27,
   "id": "immediate-tokyo",
   "metadata": {
    "execution": {
     "iopub.execute_input": "2021-03-25T15:10:03.884715Z",
     "iopub.status.busy": "2021-03-25T15:10:03.883953Z",
     "iopub.status.idle": "2021-03-25T15:10:03.891696Z",
     "shell.execute_reply": "2021-03-25T15:10:03.891280Z"
    }
   },
   "outputs": [
    {
     "data": {
      "image/svg+xml": [
       "<?xml version=\"1.0\" encoding=\"UTF-8\" standalone=\"no\"?><svg xmlns=\"http://www.w3.org/2000/svg\" xmlns:xlink=\"http://www.w3.org/1999/xlink\" contentScriptType=\"application/ecmascript\" contentStyleType=\"text/css\" height=\"12px\" preserveAspectRatio=\"none\" style=\"width:12px;height:12px;\" version=\"1.1\" viewBox=\"0 0 12 12\" width=\"12px\" zoomAndPan=\"magnify\"><defs/><g><!--MD5=[9863325348a96a77dacc89509d8ee65e]\n",
       "@startuml\r\n",
       "skinparam ranksep 8\r\n",
       "skinparam wrapWidth 300\r\n",
       "hide circle\r\n",
       "\r\n",
       "@enduml\r\n",
       "\n",
       "PlantUML version 1.2020.13(Sat Jun 13 12:26:38 UTC 2020)\n",
       "(EPL source distribution)\n",
       "Java Runtime: OpenJDK Runtime Environment\n",
       "JVM: OpenJDK 64-Bit Server VM\n",
       "Default Encoding: UTF-8\n",
       "Language: en\n",
       "Country: null\n",
       "--></g></svg>"
      ]
     },
     "execution_count": 27,
     "metadata": {},
     "output_type": "execute_result"
    }
   ],
   "source": [
    "%viz --style=\"STDCOLOR\" --view=\"Action\" \"ViewTest\""
   ]
  },
  {
   "cell_type": "code",
   "execution_count": 28,
   "id": "wound-spyware",
   "metadata": {
    "execution": {
     "iopub.execute_input": "2021-03-25T15:10:03.943096Z",
     "iopub.status.busy": "2021-03-25T15:10:03.942440Z",
     "iopub.status.idle": "2021-03-25T15:10:04.042776Z",
     "shell.execute_reply": "2021-03-25T15:10:04.040962Z"
    }
   },
   "outputs": [
    {
     "data": {
      "image/svg+xml": [
       "<?xml version=\"1.0\" encoding=\"UTF-8\" standalone=\"no\"?><svg xmlns=\"http://www.w3.org/2000/svg\" xmlns:xlink=\"http://www.w3.org/1999/xlink\" contentScriptType=\"application/ecmascript\" contentStyleType=\"text/css\" height=\"334px\" preserveAspectRatio=\"none\" style=\"width:417px;height:334px;\" version=\"1.1\" viewBox=\"0 0 417 334\" width=\"417px\" zoomAndPan=\"magnify\"><defs><filter height=\"300%\" id=\"f1n6px93onqu8p\" width=\"300%\" x=\"-1\" y=\"-1\"><feGaussianBlur result=\"blurOut\" stdDeviation=\"2.0\"/><feColorMatrix in=\"blurOut\" result=\"blurOut2\" type=\"matrix\" values=\"0 0 0 0 0 0 0 0 0 0 0 0 0 0 0 0 0 0 .4 0\"/><feOffset dx=\"4.0\" dy=\"4.0\" in=\"blurOut2\" result=\"blurOut3\"/><feBlend in=\"SourceGraphic\" in2=\"blurOut3\" mode=\"normal\"/></filter></defs><g><!--MD5=[fbc87193dbaf4d95561dea2c320d4a47]\n",
       "cluster E1--><a href=\"psysml:68a4efc3-4169-49c4-b08f-98091c4bc0be\" target=\"_top\" title=\"psysml:68a4efc3-4169-49c4-b08f-98091c4bc0be\" xlink:actuate=\"onRequest\" xlink:href=\"psysml:68a4efc3-4169-49c4-b08f-98091c4bc0be\" xlink:show=\"new\" xlink:title=\"psysml:68a4efc3-4169-49c4-b08f-98091c4bc0be\" xlink:type=\"simple\"><polygon fill=\"#FFFFFF\" filter=\"url(#f1n6px93onqu8p)\" points=\"16,6,96,6,103,28.2969,395,28.2969,395,322,16,322,16,6\" style=\"stroke: #000000; stroke-width: 1.5;\"/><line style=\"stroke: #000000; stroke-width: 1.5;\" x1=\"16\" x2=\"103\" y1=\"28.2969\" y2=\"28.2969\"/><text fill=\"#000000\" font-family=\"sans-serif\" font-size=\"14\" font-weight=\"bold\" lengthAdjust=\"spacingAndGlyphs\" textLength=\"74\" x=\"20\" y=\"20.9951\">ViewTest</text></a><!--MD5=[09b614a08d8cba4a07c9adeb5e0fee81]\n",
       "class E3--><a href=\"psysml:0e16ef0b-675e-475c-a6ab-030697702310\" target=\"_top\" title=\"psysml:0e16ef0b-675e-475c-a6ab-030697702310\" xlink:actuate=\"onRequest\" xlink:href=\"psysml:0e16ef0b-675e-475c-a6ab-030697702310\" xlink:show=\"new\" xlink:title=\"psysml:0e16ef0b-675e-475c-a6ab-030697702310\" xlink:type=\"simple\"><rect fill=\"#FEFECE\" filter=\"url(#f1n6px93onqu8p)\" height=\"45.9375\" id=\"E3\" style=\"stroke: #A80036; stroke-width: 1.5;\" width=\"98\" x=\"32\" y=\"260\"/><text fill=\"#000000\" font-family=\"sans-serif\" font-size=\"12\" font-style=\"italic\" lengthAdjust=\"spacingAndGlyphs\" textLength=\"96\" x=\"33\" y=\"276.1387\">«viewpoint def»</text><text fill=\"#000000\" font-family=\"sans-serif\" font-size=\"12\" lengthAdjust=\"spacingAndGlyphs\" textLength=\"16\" x=\"73\" y=\"290.1074\">VP</text><line style=\"stroke: #A80036; stroke-width: 1.5;\" x1=\"33\" x2=\"129\" y1=\"297.9375\" y2=\"297.9375\"/></a><!--MD5=[ebbe1d658d1005bcc118a6aa81145e00]\n",
       "class E4--><a href=\"psysml:80b9aeea-925b-4b3a-8c84-ce381a5e60ed\" target=\"_top\" title=\"psysml:80b9aeea-925b-4b3a-8c84-ce381a5e60ed\" xlink:actuate=\"onRequest\" xlink:href=\"psysml:80b9aeea-925b-4b3a-8c84-ce381a5e60ed\" xlink:show=\"new\" xlink:title=\"psysml:80b9aeea-925b-4b3a-8c84-ce381a5e60ed\" xlink:type=\"simple\"><rect fill=\"#FEFECE\" filter=\"url(#f1n6px93onqu8p)\" height=\"45.9375\" id=\"E4\" style=\"stroke: #A80036; stroke-width: 1.5;\" width=\"101\" x=\"165.5\" y=\"260\"/><text fill=\"#000000\" font-family=\"sans-serif\" font-size=\"12\" font-style=\"italic\" lengthAdjust=\"spacingAndGlyphs\" textLength=\"99\" x=\"166.5\" y=\"276.1387\">«rendering def»</text><text fill=\"#000000\" font-family=\"sans-serif\" font-size=\"12\" lengthAdjust=\"spacingAndGlyphs\" textLength=\"8\" x=\"212\" y=\"290.1074\">R</text><line style=\"stroke: #A80036; stroke-width: 1.5;\" x1=\"166.5\" x2=\"265.5\" y1=\"297.9375\" y2=\"297.9375\"/></a><!--MD5=[270fce915f116d4de14055a7c1d9a0f3]\n",
       "class E5--><a href=\"psysml:fa67c82a-cf4c-4211-8405-b886e7fced61\" target=\"_top\" title=\"psysml:fa67c82a-cf4c-4211-8405-b886e7fced61\" xlink:actuate=\"onRequest\" xlink:href=\"psysml:fa67c82a-cf4c-4211-8405-b886e7fced61\" xlink:show=\"new\" xlink:title=\"psysml:fa67c82a-cf4c-4211-8405-b886e7fced61\" xlink:type=\"simple\"><rect fill=\"#FEFECE\" filter=\"url(#f1n6px93onqu8p)\" height=\"45.9375\" id=\"E5\" style=\"stroke: #A80036; stroke-width: 1.5;\" width=\"66\" x=\"230\" y=\"44.5\"/><text fill=\"#000000\" font-family=\"sans-serif\" font-size=\"12\" font-style=\"italic\" lengthAdjust=\"spacingAndGlyphs\" textLength=\"64\" x=\"231\" y=\"60.6387\">«view def»</text><text fill=\"#000000\" font-family=\"sans-serif\" font-size=\"12\" lengthAdjust=\"spacingAndGlyphs\" textLength=\"8\" x=\"259\" y=\"74.6074\">V</text><line style=\"stroke: #A80036; stroke-width: 1.5;\" x1=\"231\" x2=\"295\" y1=\"82.4375\" y2=\"82.4375\"/></a><!--MD5=[60a26617385b1d2d0262a64233df1f8d]\n",
       "class E6--><a href=\"psysml:edb93869-3e30-4330-ae7d-f0dbadb8ae6e\" target=\"_top\" title=\"psysml:edb93869-3e30-4330-ae7d-f0dbadb8ae6e\" xlink:actuate=\"onRequest\" xlink:href=\"psysml:edb93869-3e30-4330-ae7d-f0dbadb8ae6e\" xlink:show=\"new\" xlink:title=\"psysml:edb93869-3e30-4330-ae7d-f0dbadb8ae6e\" xlink:type=\"simple\"><rect fill=\"#FEFECE\" filter=\"url(#f1n6px93onqu8p)\" height=\"45.9375\" id=\"E6\" rx=\"10\" ry=\"10\" style=\"stroke: #A80036; stroke-width: 1.5;\" width=\"74\" x=\"56\" y=\"154\"/><text fill=\"#000000\" font-family=\"sans-serif\" font-size=\"12\" font-style=\"italic\" lengthAdjust=\"spacingAndGlyphs\" textLength=\"72\" x=\"57\" y=\"170.1387\">«viewpoint»</text><text fill=\"#000000\" font-family=\"sans-serif\" font-size=\"12\" lengthAdjust=\"spacingAndGlyphs\" textLength=\"38\" x=\"74\" y=\"184.1074\">vp: VP</text><line style=\"stroke: #A80036; stroke-width: 1.5;\" x1=\"57\" x2=\"129\" y1=\"191.9375\" y2=\"191.9375\"/></a><!--MD5=[2156ba9850f5573cc1fc38a6a4b2f02b]\n",
       "class E7--><a href=\"psysml:d3ad1959-ed24-48c6-b8cb-3101ea5444ce\" target=\"_top\" title=\"psysml:d3ad1959-ed24-48c6-b8cb-3101ea5444ce\" xlink:actuate=\"onRequest\" xlink:href=\"psysml:d3ad1959-ed24-48c6-b8cb-3101ea5444ce\" xlink:show=\"new\" xlink:title=\"psysml:d3ad1959-ed24-48c6-b8cb-3101ea5444ce\" xlink:type=\"simple\"><rect fill=\"#FEFECE\" filter=\"url(#f1n6px93onqu8p)\" height=\"45.9375\" id=\"E7\" rx=\"10\" ry=\"10\" style=\"stroke: #A80036; stroke-width: 1.5;\" width=\"77\" x=\"177.5\" y=\"154\"/><text fill=\"#000000\" font-family=\"sans-serif\" font-size=\"12\" font-style=\"italic\" lengthAdjust=\"spacingAndGlyphs\" textLength=\"75\" x=\"178.5\" y=\"170.1387\">«rendering»</text><text fill=\"#000000\" font-family=\"sans-serif\" font-size=\"12\" lengthAdjust=\"spacingAndGlyphs\" textLength=\"21\" x=\"205.5\" y=\"184.1074\">r: R</text><line style=\"stroke: #A80036; stroke-width: 1.5;\" x1=\"178.5\" x2=\"253.5\" y1=\"191.9375\" y2=\"191.9375\"/></a><!--MD5=[b9389687b975829384b498ac4b7476b2]\n",
       "class E8--><a href=\"psysml:c79df832-858d-4f87-b041-227cc7f695ce\" target=\"_top\" title=\"psysml:c79df832-858d-4f87-b041-227cc7f695ce\" xlink:actuate=\"onRequest\" xlink:href=\"psysml:c79df832-858d-4f87-b041-227cc7f695ce\" xlink:show=\"new\" xlink:title=\"psysml:c79df832-858d-4f87-b041-227cc7f695ce\" xlink:type=\"simple\"><rect fill=\"#FEFECE\" filter=\"url(#f1n6px93onqu8p)\" height=\"45.9375\" id=\"E8\" rx=\"10\" ry=\"10\" style=\"stroke: #A80036; stroke-width: 1.5;\" width=\"42\" x=\"290\" y=\"154\"/><text fill=\"#000000\" font-family=\"sans-serif\" font-size=\"12\" font-style=\"italic\" lengthAdjust=\"spacingAndGlyphs\" textLength=\"40\" x=\"291\" y=\"170.1387\">«view»</text><text fill=\"#000000\" font-family=\"sans-serif\" font-size=\"12\" lengthAdjust=\"spacingAndGlyphs\" textLength=\"22\" x=\"300\" y=\"184.1074\">v: V</text><line style=\"stroke: #A80036; stroke-width: 1.5;\" x1=\"291\" x2=\"331\" y1=\"191.9375\" y2=\"191.9375\"/></a><!--MD5=[fd4143e9d270a159db93a4ea2a975926]\n",
       "class E9--><a href=\"psysml:599cc28e-37a4-4871-97e7-8713776fcf23\" target=\"_top\" title=\"psysml:599cc28e-37a4-4871-97e7-8713776fcf23\" xlink:actuate=\"onRequest\" xlink:href=\"psysml:599cc28e-37a4-4871-97e7-8713776fcf23\" xlink:show=\"new\" xlink:title=\"psysml:599cc28e-37a4-4871-97e7-8713776fcf23\" xlink:type=\"simple\"><rect fill=\"#FEFECE\" filter=\"url(#f1n6px93onqu8p)\" height=\"45.9375\" id=\"E9\" rx=\"10\" ry=\"10\" style=\"stroke: #A80036; stroke-width: 1.5;\" width=\"77\" x=\"301.5\" y=\"260\"/><text fill=\"#000000\" font-family=\"sans-serif\" font-size=\"12\" font-style=\"italic\" lengthAdjust=\"spacingAndGlyphs\" textLength=\"75\" x=\"302.5\" y=\"276.1387\">«rendering»</text><text fill=\"#000000\" font-family=\"sans-serif\" font-size=\"12\" lengthAdjust=\"spacingAndGlyphs\" textLength=\"13\" x=\"333.5\" y=\"290.1074\">r1</text><line style=\"stroke: #A80036; stroke-width: 1.5;\" x1=\"302.5\" x2=\"377.5\" y1=\"297.9375\" y2=\"297.9375\"/></a><a href=\"psysml:d8eb8e98-9fc5-4554-bb79-0a7fb3af234b\" target=\"_top\" title=\"psysml:d8eb8e98-9fc5-4554-bb79-0a7fb3af234b\" xlink:actuate=\"onRequest\" xlink:href=\"psysml:d8eb8e98-9fc5-4554-bb79-0a7fb3af234b\" xlink:show=\"new\" xlink:title=\"psysml:d8eb8e98-9fc5-4554-bb79-0a7fb3af234b\" xlink:type=\"simple\"><polygon fill=\"#FFFFFF\" filter=\"url(#f1n6px93onqu8p)\" points=\"122,41,138,41,145,63.2969,152,63.2969,152,93.5938,122,93.5938,122,41\" style=\"stroke: #000000; stroke-width: 1.5;\"/><line style=\"stroke: #000000; stroke-width: 1.5;\" x1=\"122\" x2=\"145\" y1=\"63.2969\" y2=\"63.2969\"/><text fill=\"#000000\" font-family=\"sans-serif\" font-size=\"14\" font-weight=\"bold\" lengthAdjust=\"spacingAndGlyphs\" textLength=\"10\" x=\"126\" y=\"55.9951\">P</text></a><!--MD5=[85d356282659285ab4b2cfe2f634dd2b]\n",
       "reverse link E5 to E6--><a href=\"psysml:edb93869-3e30-4330-ae7d-f0dbadb8ae6e\" target=\"_top\" title=\"psysml:edb93869-3e30-4330-ae7d-f0dbadb8ae6e\" xlink:actuate=\"onRequest\" xlink:href=\"psysml:edb93869-3e30-4330-ae7d-f0dbadb8ae6e\" xlink:show=\"new\" xlink:title=\"psysml:edb93869-3e30-4330-ae7d-f0dbadb8ae6e\" xlink:type=\"simple\"><path d=\"M218.61,96.57 C190.28,114.48 154.1,137.36 127.85,153.96 \" fill=\"none\" id=\"E5&lt;-E6\" style=\"stroke: #A80036; stroke-width: 1.0;\"/><polygon fill=\"#A80036\" points=\"229.82,89.48,222.6111,89.2999,219.6723,95.8849,226.8811,96.0651,229.82,89.48\" style=\"stroke: #A80036; stroke-width: 1.0;\"/></a><!--MD5=[a717450b82c80b9240a525fa862496af]\n",
       "link E6 to E3--><a href=\"psysml:678c28b1-b825-4869-b6db-341a5ef18df5\" target=\"_top\" title=\"psysml:678c28b1-b825-4869-b6db-341a5ef18df5\" xlink:actuate=\"onRequest\" xlink:href=\"psysml:678c28b1-b825-4869-b6db-341a5ef18df5\" xlink:show=\"new\" xlink:title=\"psysml:678c28b1-b825-4869-b6db-341a5ef18df5\" xlink:type=\"simple\"><path d=\"M90.46,200.06 C89.12,211.64 87.44,226.23 85.86,239.87 \" fill=\"none\" id=\"E6-&gt;E3\" style=\"stroke: #A80036; stroke-width: 1.0;\"/><polygon fill=\"#FFFFFF\" points=\"83.54,259.98,78.757,240.3046,92.6653,241.9044,83.54,259.98\" style=\"stroke: #A80036; stroke-width: 1.0;\"/><ellipse cx=\"81.3953\" cy=\"234.8704\" fill=\"#A80036\" rx=\"2\" ry=\"2\" style=\"stroke: #A80036; stroke-width: 1.0;\"/><ellipse cx=\"91.3298\" cy=\"236.0132\" fill=\"#A80036\" rx=\"2\" ry=\"2\" style=\"stroke: #A80036; stroke-width: 1.0;\"/></a><!--MD5=[6bdd27f9905911a7e892a3dc65cf6b7c]\n",
       "link E7 to E4--><a href=\"psysml:e01b0a28-1744-4d35-a29d-a960e4229aec\" target=\"_top\" title=\"psysml:e01b0a28-1744-4d35-a29d-a960e4229aec\" xlink:actuate=\"onRequest\" xlink:href=\"psysml:e01b0a28-1744-4d35-a29d-a960e4229aec\" xlink:show=\"new\" xlink:title=\"psysml:e01b0a28-1744-4d35-a29d-a960e4229aec\" xlink:type=\"simple\"><path d=\"M216,200.06 C216,211.64 216,226.23 216,239.87 \" fill=\"none\" id=\"E7-&gt;E4\" style=\"stroke: #A80036; stroke-width: 1.0;\"/><polygon fill=\"#FFFFFF\" points=\"216,259.98,209,240.98,223,240.98,216,259.98\" style=\"stroke: #A80036; stroke-width: 1.0;\"/><ellipse cx=\"211\" cy=\"235.28\" fill=\"#A80036\" rx=\"2\" ry=\"2\" style=\"stroke: #A80036; stroke-width: 1.0;\"/><ellipse cx=\"221\" cy=\"235.28\" fill=\"#A80036\" rx=\"2\" ry=\"2\" style=\"stroke: #A80036; stroke-width: 1.0;\"/></a><!--MD5=[452b418e7f8a40397a49b8c0a78acc5b]\n",
       "reverse link E5 to E7--><a href=\"psysml:d3ad1959-ed24-48c6-b8cb-3101ea5444ce\" target=\"_top\" title=\"psysml:d3ad1959-ed24-48c6-b8cb-3101ea5444ce\" xlink:actuate=\"onRequest\" xlink:href=\"psysml:d3ad1959-ed24-48c6-b8cb-3101ea5444ce\" xlink:show=\"new\" xlink:title=\"psysml:d3ad1959-ed24-48c6-b8cb-3101ea5444ce\" xlink:type=\"simple\"><path d=\"M248.1,102.57 C240.81,119.26 232.23,138.89 225.77,153.65 \" fill=\"none\" id=\"E5&lt;-E7\" style=\"stroke: #A80036; stroke-width: 1.0;\"/><polygon fill=\"#A80036\" points=\"253.38,90.51,247.31,94.4029,248.5688,101.5033,254.6388,97.6104,253.38,90.51\" style=\"stroke: #A80036; stroke-width: 1.0;\"/><text fill=\"#000000\" font-family=\"sans-serif\" font-size=\"13\" lengthAdjust=\"spacingAndGlyphs\" textLength=\"24\" x=\"201.1986\" y=\"142.8366\">0..1</text></a><!--MD5=[1ccb2481ffa92f8d51a74ee30c51832a]\n",
       "link E8 to E5--><a href=\"psysml:3896f3dd-ac25-48cd-93fb-dac3b3d02068\" target=\"_top\" title=\"psysml:3896f3dd-ac25-48cd-93fb-dac3b3d02068\" xlink:actuate=\"onRequest\" xlink:href=\"psysml:3896f3dd-ac25-48cd-93fb-dac3b3d02068\" xlink:show=\"new\" xlink:title=\"psysml:3896f3dd-ac25-48cd-93fb-dac3b3d02068\" xlink:type=\"simple\"><path d=\"M312.22,153.65 C308.53,140.48 301.55,123.44 293.74,108.07 \" fill=\"none\" id=\"E8-&gt;E5\" style=\"stroke: #A80036; stroke-width: 1.0;\"/><polygon fill=\"#FFFFFF\" points=\"283.97,90.51,299.3209,103.7142,287.0851,110.5174,283.97,90.51\" style=\"stroke: #A80036; stroke-width: 1.0;\"/><ellipse cx=\"300.3428\" cy=\"109.6678\" fill=\"#A80036\" rx=\"2\" ry=\"2\" style=\"stroke: #A80036; stroke-width: 1.0;\"/><ellipse cx=\"291.6029\" cy=\"114.5273\" fill=\"#A80036\" rx=\"2\" ry=\"2\" style=\"stroke: #A80036; stroke-width: 1.0;\"/></a><!--MD5=[827760032d119d06bbc92f75530fd7ae]\n",
       "reverse link E5 to E8--><a href=\"psysml:c79df832-858d-4f87-b041-227cc7f695ce\" target=\"_top\" title=\"psysml:c79df832-858d-4f87-b041-227cc7f695ce\" xlink:actuate=\"onRequest\" xlink:href=\"psysml:c79df832-858d-4f87-b041-227cc7f695ce\" xlink:show=\"new\" xlink:title=\"psysml:c79df832-858d-4f87-b041-227cc7f695ce\" xlink:type=\"simple\"><path d=\"M266.44,103.07 C272.49,119.65 281.62,139.03 290.44,153.65 \" fill=\"none\" id=\"E5&lt;-E8\" style=\"stroke: #A80036; stroke-width: 1.0;\"/><polygon fill=\"#A80036\" points=\"262.31,90.51,260.3836,97.459,266.0572,101.9099,267.9836,94.9609,262.31,90.51\" style=\"stroke: #A80036; stroke-width: 1.0;\"/><text fill=\"#000000\" font-family=\"sans-serif\" font-size=\"13\" lengthAdjust=\"spacingAndGlyphs\" textLength=\"7\" x=\"277.2746\" y=\"142.8366\">*</text></a><!--MD5=[22f5b4bae7e060dce8a1c8021efdb95b]\n",
       "reverse link E8 to E9--><a href=\"psysml:599cc28e-37a4-4871-97e7-8713776fcf23\" target=\"_top\" title=\"psysml:599cc28e-37a4-4871-97e7-8713776fcf23\" xlink:actuate=\"onRequest\" xlink:href=\"psysml:599cc28e-37a4-4871-97e7-8713776fcf23\" xlink:show=\"new\" xlink:title=\"psysml:599cc28e-37a4-4871-97e7-8713776fcf23\" xlink:type=\"simple\"><path d=\"M320.75,212.96 C325.08,228.51 330.05,246.33 333.86,259.98 \" fill=\"none\" id=\"E8&lt;-E9\" style=\"stroke: #A80036; stroke-width: 1.0;\"/><polygon fill=\"#A80036\" points=\"317.15,200.06,314.9066,206.9133,320.3699,211.6199,322.6133,204.7667,317.15,200.06\" style=\"stroke: #A80036; stroke-width: 1.0;\"/></a><!--MD5=[3272d9e13cc172b6ca55ac35860d6983]\n",
       "@startuml\r\n",
       "skinparam wrapWidth 300\r\n",
       "hide circle\r\n",
       "\r\n",
       "package \"ViewTest\" as E1  [[psysml:68a4efc3-4169-49c4-b08f-98091c4bc0be ]]  {\r\n",
       "package \"P\" as E2  [[psysml:d8eb8e98-9fc5-4554-bb79-0a7fb3af234b ]]  {\r\n",
       "}\r\n",
       "comp def \"VP\" as E3  <<(T,blue)viewpoint def>> [[psysml:0e16ef0b-675e-475c-a6ab-030697702310 ]] {\r\n",
       "}\r\n",
       "comp def \"R\" as E4  <<(T,blue)rendering def>> [[psysml:80b9aeea-925b-4b3a-8c84-ce381a5e60ed ]] {\r\n",
       "}\r\n",
       "comp def \"V\" as E5  <<(T,blue)view def>> [[psysml:fa67c82a-cf4c-4211-8405-b886e7fced61 ]] {\r\n",
       "}\r\n",
       "comp usage \"vp: VP\" as E6  <<(T,blue)viewpoint>> [[psysml:edb93869-3e30-4330-ae7d-f0dbadb8ae6e ]] {\r\n",
       "}\r\n",
       "comp usage \"r: R\" as E7  <<(T,blue)rendering>> [[psysml:d3ad1959-ed24-48c6-b8cb-3101ea5444ce ]] {\r\n",
       "}\r\n",
       "comp usage \"v: V\" as E8  <<(T,blue)view>> [[psysml:c79df832-858d-4f87-b041-227cc7f695ce ]] {\r\n",
       "}\r\n",
       "comp usage \"r1\" as E9  <<(T,blue)rendering>> [[psysml:599cc28e-37a4-4871-97e7-8713776fcf23 ]] {\r\n",
       "}\r\n",
       "E5 *- - E6 [[psysml:edb93869-3e30-4330-ae7d-f0dbadb8ae6e ]] \r\n",
       "E6 - -:|> E3 [[psysml:678c28b1-b825-4869-b6db-341a5ef18df5 ]] \r\n",
       "E7 - -:|> E4 [[psysml:e01b0a28-1744-4d35-a29d-a960e4229aec ]] \r\n",
       "E5 *- - \"0..1\"E7 [[psysml:d3ad1959-ed24-48c6-b8cb-3101ea5444ce ]] \r\n",
       "E8 - -:|> E5 [[psysml:3896f3dd-ac25-48cd-93fb-dac3b3d02068 ]] \r\n",
       "E5 *- - \"*\"E8 [[psysml:c79df832-858d-4f87-b041-227cc7f695ce ]] \r\n",
       "E8 *- - E9 [[psysml:599cc28e-37a4-4871-97e7-8713776fcf23 ]] \r\n",
       "}\r\n",
       "@enduml\r\n",
       "\n",
       "PlantUML version 1.2020.13(Sat Jun 13 12:26:38 UTC 2020)\n",
       "(EPL source distribution)\n",
       "Java Runtime: OpenJDK Runtime Environment\n",
       "JVM: OpenJDK 64-Bit Server VM\n",
       "Default Encoding: UTF-8\n",
       "Language: en\n",
       "Country: null\n",
       "--></g></svg>"
      ]
     },
     "execution_count": 28,
     "metadata": {},
     "output_type": "execute_result"
    }
   ],
   "source": [
    "%viz --style=\"STDCOLOR\" --view=\"Sequence\" \"ViewTest\""
   ]
  },
  {
   "cell_type": "code",
   "execution_count": 29,
   "id": "acoustic-subscriber",
   "metadata": {
    "execution": {
     "iopub.execute_input": "2021-03-25T15:10:04.092805Z",
     "iopub.status.busy": "2021-03-25T15:10:04.092371Z",
     "iopub.status.idle": "2021-03-25T15:10:04.187350Z",
     "shell.execute_reply": "2021-03-25T15:10:04.185202Z"
    }
   },
   "outputs": [
    {
     "data": {
      "image/svg+xml": [
       "<?xml version=\"1.0\" encoding=\"UTF-8\" standalone=\"no\"?><svg xmlns=\"http://www.w3.org/2000/svg\" xmlns:xlink=\"http://www.w3.org/1999/xlink\" contentScriptType=\"application/ecmascript\" contentStyleType=\"text/css\" height=\"334px\" preserveAspectRatio=\"none\" style=\"width:417px;height:334px;\" version=\"1.1\" viewBox=\"0 0 417 334\" width=\"417px\" zoomAndPan=\"magnify\"><defs><filter height=\"300%\" id=\"f1n6px93onqu8p\" width=\"300%\" x=\"-1\" y=\"-1\"><feGaussianBlur result=\"blurOut\" stdDeviation=\"2.0\"/><feColorMatrix in=\"blurOut\" result=\"blurOut2\" type=\"matrix\" values=\"0 0 0 0 0 0 0 0 0 0 0 0 0 0 0 0 0 0 .4 0\"/><feOffset dx=\"4.0\" dy=\"4.0\" in=\"blurOut2\" result=\"blurOut3\"/><feBlend in=\"SourceGraphic\" in2=\"blurOut3\" mode=\"normal\"/></filter></defs><g><!--MD5=[fbc87193dbaf4d95561dea2c320d4a47]\n",
       "cluster E1--><a href=\"psysml:68a4efc3-4169-49c4-b08f-98091c4bc0be\" target=\"_top\" title=\"psysml:68a4efc3-4169-49c4-b08f-98091c4bc0be\" xlink:actuate=\"onRequest\" xlink:href=\"psysml:68a4efc3-4169-49c4-b08f-98091c4bc0be\" xlink:show=\"new\" xlink:title=\"psysml:68a4efc3-4169-49c4-b08f-98091c4bc0be\" xlink:type=\"simple\"><polygon fill=\"#FFFFFF\" filter=\"url(#f1n6px93onqu8p)\" points=\"16,6,96,6,103,28.2969,395,28.2969,395,322,16,322,16,6\" style=\"stroke: #000000; stroke-width: 1.5;\"/><line style=\"stroke: #000000; stroke-width: 1.5;\" x1=\"16\" x2=\"103\" y1=\"28.2969\" y2=\"28.2969\"/><text fill=\"#000000\" font-family=\"sans-serif\" font-size=\"14\" font-weight=\"bold\" lengthAdjust=\"spacingAndGlyphs\" textLength=\"74\" x=\"20\" y=\"20.9951\">ViewTest</text></a><!--MD5=[09b614a08d8cba4a07c9adeb5e0fee81]\n",
       "class E3--><a href=\"psysml:0e16ef0b-675e-475c-a6ab-030697702310\" target=\"_top\" title=\"psysml:0e16ef0b-675e-475c-a6ab-030697702310\" xlink:actuate=\"onRequest\" xlink:href=\"psysml:0e16ef0b-675e-475c-a6ab-030697702310\" xlink:show=\"new\" xlink:title=\"psysml:0e16ef0b-675e-475c-a6ab-030697702310\" xlink:type=\"simple\"><rect fill=\"#FEFECE\" filter=\"url(#f1n6px93onqu8p)\" height=\"45.9375\" id=\"E3\" style=\"stroke: #A80036; stroke-width: 1.5;\" width=\"98\" x=\"32\" y=\"260\"/><text fill=\"#000000\" font-family=\"sans-serif\" font-size=\"12\" font-style=\"italic\" lengthAdjust=\"spacingAndGlyphs\" textLength=\"96\" x=\"33\" y=\"276.1387\">«viewpoint def»</text><text fill=\"#000000\" font-family=\"sans-serif\" font-size=\"12\" lengthAdjust=\"spacingAndGlyphs\" textLength=\"16\" x=\"73\" y=\"290.1074\">VP</text><line style=\"stroke: #A80036; stroke-width: 1.5;\" x1=\"33\" x2=\"129\" y1=\"297.9375\" y2=\"297.9375\"/></a><!--MD5=[ebbe1d658d1005bcc118a6aa81145e00]\n",
       "class E4--><a href=\"psysml:80b9aeea-925b-4b3a-8c84-ce381a5e60ed\" target=\"_top\" title=\"psysml:80b9aeea-925b-4b3a-8c84-ce381a5e60ed\" xlink:actuate=\"onRequest\" xlink:href=\"psysml:80b9aeea-925b-4b3a-8c84-ce381a5e60ed\" xlink:show=\"new\" xlink:title=\"psysml:80b9aeea-925b-4b3a-8c84-ce381a5e60ed\" xlink:type=\"simple\"><rect fill=\"#FEFECE\" filter=\"url(#f1n6px93onqu8p)\" height=\"45.9375\" id=\"E4\" style=\"stroke: #A80036; stroke-width: 1.5;\" width=\"101\" x=\"165.5\" y=\"260\"/><text fill=\"#000000\" font-family=\"sans-serif\" font-size=\"12\" font-style=\"italic\" lengthAdjust=\"spacingAndGlyphs\" textLength=\"99\" x=\"166.5\" y=\"276.1387\">«rendering def»</text><text fill=\"#000000\" font-family=\"sans-serif\" font-size=\"12\" lengthAdjust=\"spacingAndGlyphs\" textLength=\"8\" x=\"212\" y=\"290.1074\">R</text><line style=\"stroke: #A80036; stroke-width: 1.5;\" x1=\"166.5\" x2=\"265.5\" y1=\"297.9375\" y2=\"297.9375\"/></a><!--MD5=[270fce915f116d4de14055a7c1d9a0f3]\n",
       "class E5--><a href=\"psysml:fa67c82a-cf4c-4211-8405-b886e7fced61\" target=\"_top\" title=\"psysml:fa67c82a-cf4c-4211-8405-b886e7fced61\" xlink:actuate=\"onRequest\" xlink:href=\"psysml:fa67c82a-cf4c-4211-8405-b886e7fced61\" xlink:show=\"new\" xlink:title=\"psysml:fa67c82a-cf4c-4211-8405-b886e7fced61\" xlink:type=\"simple\"><rect fill=\"#FEFECE\" filter=\"url(#f1n6px93onqu8p)\" height=\"45.9375\" id=\"E5\" style=\"stroke: #A80036; stroke-width: 1.5;\" width=\"66\" x=\"230\" y=\"44.5\"/><text fill=\"#000000\" font-family=\"sans-serif\" font-size=\"12\" font-style=\"italic\" lengthAdjust=\"spacingAndGlyphs\" textLength=\"64\" x=\"231\" y=\"60.6387\">«view def»</text><text fill=\"#000000\" font-family=\"sans-serif\" font-size=\"12\" lengthAdjust=\"spacingAndGlyphs\" textLength=\"8\" x=\"259\" y=\"74.6074\">V</text><line style=\"stroke: #A80036; stroke-width: 1.5;\" x1=\"231\" x2=\"295\" y1=\"82.4375\" y2=\"82.4375\"/></a><!--MD5=[60a26617385b1d2d0262a64233df1f8d]\n",
       "class E6--><a href=\"psysml:edb93869-3e30-4330-ae7d-f0dbadb8ae6e\" target=\"_top\" title=\"psysml:edb93869-3e30-4330-ae7d-f0dbadb8ae6e\" xlink:actuate=\"onRequest\" xlink:href=\"psysml:edb93869-3e30-4330-ae7d-f0dbadb8ae6e\" xlink:show=\"new\" xlink:title=\"psysml:edb93869-3e30-4330-ae7d-f0dbadb8ae6e\" xlink:type=\"simple\"><rect fill=\"#FEFECE\" filter=\"url(#f1n6px93onqu8p)\" height=\"45.9375\" id=\"E6\" rx=\"10\" ry=\"10\" style=\"stroke: #A80036; stroke-width: 1.5;\" width=\"74\" x=\"56\" y=\"154\"/><text fill=\"#000000\" font-family=\"sans-serif\" font-size=\"12\" font-style=\"italic\" lengthAdjust=\"spacingAndGlyphs\" textLength=\"72\" x=\"57\" y=\"170.1387\">«viewpoint»</text><text fill=\"#000000\" font-family=\"sans-serif\" font-size=\"12\" lengthAdjust=\"spacingAndGlyphs\" textLength=\"38\" x=\"74\" y=\"184.1074\">vp: VP</text><line style=\"stroke: #A80036; stroke-width: 1.5;\" x1=\"57\" x2=\"129\" y1=\"191.9375\" y2=\"191.9375\"/></a><!--MD5=[2156ba9850f5573cc1fc38a6a4b2f02b]\n",
       "class E7--><a href=\"psysml:d3ad1959-ed24-48c6-b8cb-3101ea5444ce\" target=\"_top\" title=\"psysml:d3ad1959-ed24-48c6-b8cb-3101ea5444ce\" xlink:actuate=\"onRequest\" xlink:href=\"psysml:d3ad1959-ed24-48c6-b8cb-3101ea5444ce\" xlink:show=\"new\" xlink:title=\"psysml:d3ad1959-ed24-48c6-b8cb-3101ea5444ce\" xlink:type=\"simple\"><rect fill=\"#FEFECE\" filter=\"url(#f1n6px93onqu8p)\" height=\"45.9375\" id=\"E7\" rx=\"10\" ry=\"10\" style=\"stroke: #A80036; stroke-width: 1.5;\" width=\"77\" x=\"177.5\" y=\"154\"/><text fill=\"#000000\" font-family=\"sans-serif\" font-size=\"12\" font-style=\"italic\" lengthAdjust=\"spacingAndGlyphs\" textLength=\"75\" x=\"178.5\" y=\"170.1387\">«rendering»</text><text fill=\"#000000\" font-family=\"sans-serif\" font-size=\"12\" lengthAdjust=\"spacingAndGlyphs\" textLength=\"21\" x=\"205.5\" y=\"184.1074\">r: R</text><line style=\"stroke: #A80036; stroke-width: 1.5;\" x1=\"178.5\" x2=\"253.5\" y1=\"191.9375\" y2=\"191.9375\"/></a><!--MD5=[b9389687b975829384b498ac4b7476b2]\n",
       "class E8--><a href=\"psysml:c79df832-858d-4f87-b041-227cc7f695ce\" target=\"_top\" title=\"psysml:c79df832-858d-4f87-b041-227cc7f695ce\" xlink:actuate=\"onRequest\" xlink:href=\"psysml:c79df832-858d-4f87-b041-227cc7f695ce\" xlink:show=\"new\" xlink:title=\"psysml:c79df832-858d-4f87-b041-227cc7f695ce\" xlink:type=\"simple\"><rect fill=\"#FEFECE\" filter=\"url(#f1n6px93onqu8p)\" height=\"45.9375\" id=\"E8\" rx=\"10\" ry=\"10\" style=\"stroke: #A80036; stroke-width: 1.5;\" width=\"42\" x=\"290\" y=\"154\"/><text fill=\"#000000\" font-family=\"sans-serif\" font-size=\"12\" font-style=\"italic\" lengthAdjust=\"spacingAndGlyphs\" textLength=\"40\" x=\"291\" y=\"170.1387\">«view»</text><text fill=\"#000000\" font-family=\"sans-serif\" font-size=\"12\" lengthAdjust=\"spacingAndGlyphs\" textLength=\"22\" x=\"300\" y=\"184.1074\">v: V</text><line style=\"stroke: #A80036; stroke-width: 1.5;\" x1=\"291\" x2=\"331\" y1=\"191.9375\" y2=\"191.9375\"/></a><!--MD5=[fd4143e9d270a159db93a4ea2a975926]\n",
       "class E9--><a href=\"psysml:599cc28e-37a4-4871-97e7-8713776fcf23\" target=\"_top\" title=\"psysml:599cc28e-37a4-4871-97e7-8713776fcf23\" xlink:actuate=\"onRequest\" xlink:href=\"psysml:599cc28e-37a4-4871-97e7-8713776fcf23\" xlink:show=\"new\" xlink:title=\"psysml:599cc28e-37a4-4871-97e7-8713776fcf23\" xlink:type=\"simple\"><rect fill=\"#FEFECE\" filter=\"url(#f1n6px93onqu8p)\" height=\"45.9375\" id=\"E9\" rx=\"10\" ry=\"10\" style=\"stroke: #A80036; stroke-width: 1.5;\" width=\"77\" x=\"301.5\" y=\"260\"/><text fill=\"#000000\" font-family=\"sans-serif\" font-size=\"12\" font-style=\"italic\" lengthAdjust=\"spacingAndGlyphs\" textLength=\"75\" x=\"302.5\" y=\"276.1387\">«rendering»</text><text fill=\"#000000\" font-family=\"sans-serif\" font-size=\"12\" lengthAdjust=\"spacingAndGlyphs\" textLength=\"13\" x=\"333.5\" y=\"290.1074\">r1</text><line style=\"stroke: #A80036; stroke-width: 1.5;\" x1=\"302.5\" x2=\"377.5\" y1=\"297.9375\" y2=\"297.9375\"/></a><a href=\"psysml:d8eb8e98-9fc5-4554-bb79-0a7fb3af234b\" target=\"_top\" title=\"psysml:d8eb8e98-9fc5-4554-bb79-0a7fb3af234b\" xlink:actuate=\"onRequest\" xlink:href=\"psysml:d8eb8e98-9fc5-4554-bb79-0a7fb3af234b\" xlink:show=\"new\" xlink:title=\"psysml:d8eb8e98-9fc5-4554-bb79-0a7fb3af234b\" xlink:type=\"simple\"><polygon fill=\"#FFFFFF\" filter=\"url(#f1n6px93onqu8p)\" points=\"122,41,138,41,145,63.2969,152,63.2969,152,93.5938,122,93.5938,122,41\" style=\"stroke: #000000; stroke-width: 1.5;\"/><line style=\"stroke: #000000; stroke-width: 1.5;\" x1=\"122\" x2=\"145\" y1=\"63.2969\" y2=\"63.2969\"/><text fill=\"#000000\" font-family=\"sans-serif\" font-size=\"14\" font-weight=\"bold\" lengthAdjust=\"spacingAndGlyphs\" textLength=\"10\" x=\"126\" y=\"55.9951\">P</text></a><!--MD5=[85d356282659285ab4b2cfe2f634dd2b]\n",
       "reverse link E5 to E6--><a href=\"psysml:edb93869-3e30-4330-ae7d-f0dbadb8ae6e\" target=\"_top\" title=\"psysml:edb93869-3e30-4330-ae7d-f0dbadb8ae6e\" xlink:actuate=\"onRequest\" xlink:href=\"psysml:edb93869-3e30-4330-ae7d-f0dbadb8ae6e\" xlink:show=\"new\" xlink:title=\"psysml:edb93869-3e30-4330-ae7d-f0dbadb8ae6e\" xlink:type=\"simple\"><path d=\"M218.61,96.57 C190.28,114.48 154.1,137.36 127.85,153.96 \" fill=\"none\" id=\"E5&lt;-E6\" style=\"stroke: #A80036; stroke-width: 1.0;\"/><polygon fill=\"#A80036\" points=\"229.82,89.48,222.6111,89.2999,219.6723,95.8849,226.8811,96.0651,229.82,89.48\" style=\"stroke: #A80036; stroke-width: 1.0;\"/></a><!--MD5=[a717450b82c80b9240a525fa862496af]\n",
       "link E6 to E3--><a href=\"psysml:678c28b1-b825-4869-b6db-341a5ef18df5\" target=\"_top\" title=\"psysml:678c28b1-b825-4869-b6db-341a5ef18df5\" xlink:actuate=\"onRequest\" xlink:href=\"psysml:678c28b1-b825-4869-b6db-341a5ef18df5\" xlink:show=\"new\" xlink:title=\"psysml:678c28b1-b825-4869-b6db-341a5ef18df5\" xlink:type=\"simple\"><path d=\"M90.46,200.06 C89.12,211.64 87.44,226.23 85.86,239.87 \" fill=\"none\" id=\"E6-&gt;E3\" style=\"stroke: #A80036; stroke-width: 1.0;\"/><polygon fill=\"#FFFFFF\" points=\"83.54,259.98,78.757,240.3046,92.6653,241.9044,83.54,259.98\" style=\"stroke: #A80036; stroke-width: 1.0;\"/><ellipse cx=\"81.3953\" cy=\"234.8704\" fill=\"#A80036\" rx=\"2\" ry=\"2\" style=\"stroke: #A80036; stroke-width: 1.0;\"/><ellipse cx=\"91.3298\" cy=\"236.0132\" fill=\"#A80036\" rx=\"2\" ry=\"2\" style=\"stroke: #A80036; stroke-width: 1.0;\"/></a><!--MD5=[6bdd27f9905911a7e892a3dc65cf6b7c]\n",
       "link E7 to E4--><a href=\"psysml:e01b0a28-1744-4d35-a29d-a960e4229aec\" target=\"_top\" title=\"psysml:e01b0a28-1744-4d35-a29d-a960e4229aec\" xlink:actuate=\"onRequest\" xlink:href=\"psysml:e01b0a28-1744-4d35-a29d-a960e4229aec\" xlink:show=\"new\" xlink:title=\"psysml:e01b0a28-1744-4d35-a29d-a960e4229aec\" xlink:type=\"simple\"><path d=\"M216,200.06 C216,211.64 216,226.23 216,239.87 \" fill=\"none\" id=\"E7-&gt;E4\" style=\"stroke: #A80036; stroke-width: 1.0;\"/><polygon fill=\"#FFFFFF\" points=\"216,259.98,209,240.98,223,240.98,216,259.98\" style=\"stroke: #A80036; stroke-width: 1.0;\"/><ellipse cx=\"211\" cy=\"235.28\" fill=\"#A80036\" rx=\"2\" ry=\"2\" style=\"stroke: #A80036; stroke-width: 1.0;\"/><ellipse cx=\"221\" cy=\"235.28\" fill=\"#A80036\" rx=\"2\" ry=\"2\" style=\"stroke: #A80036; stroke-width: 1.0;\"/></a><!--MD5=[452b418e7f8a40397a49b8c0a78acc5b]\n",
       "reverse link E5 to E7--><a href=\"psysml:d3ad1959-ed24-48c6-b8cb-3101ea5444ce\" target=\"_top\" title=\"psysml:d3ad1959-ed24-48c6-b8cb-3101ea5444ce\" xlink:actuate=\"onRequest\" xlink:href=\"psysml:d3ad1959-ed24-48c6-b8cb-3101ea5444ce\" xlink:show=\"new\" xlink:title=\"psysml:d3ad1959-ed24-48c6-b8cb-3101ea5444ce\" xlink:type=\"simple\"><path d=\"M248.1,102.57 C240.81,119.26 232.23,138.89 225.77,153.65 \" fill=\"none\" id=\"E5&lt;-E7\" style=\"stroke: #A80036; stroke-width: 1.0;\"/><polygon fill=\"#A80036\" points=\"253.38,90.51,247.31,94.4029,248.5688,101.5033,254.6388,97.6104,253.38,90.51\" style=\"stroke: #A80036; stroke-width: 1.0;\"/><text fill=\"#000000\" font-family=\"sans-serif\" font-size=\"13\" lengthAdjust=\"spacingAndGlyphs\" textLength=\"24\" x=\"201.1986\" y=\"142.8366\">0..1</text></a><!--MD5=[1ccb2481ffa92f8d51a74ee30c51832a]\n",
       "link E8 to E5--><a href=\"psysml:3896f3dd-ac25-48cd-93fb-dac3b3d02068\" target=\"_top\" title=\"psysml:3896f3dd-ac25-48cd-93fb-dac3b3d02068\" xlink:actuate=\"onRequest\" xlink:href=\"psysml:3896f3dd-ac25-48cd-93fb-dac3b3d02068\" xlink:show=\"new\" xlink:title=\"psysml:3896f3dd-ac25-48cd-93fb-dac3b3d02068\" xlink:type=\"simple\"><path d=\"M312.22,153.65 C308.53,140.48 301.55,123.44 293.74,108.07 \" fill=\"none\" id=\"E8-&gt;E5\" style=\"stroke: #A80036; stroke-width: 1.0;\"/><polygon fill=\"#FFFFFF\" points=\"283.97,90.51,299.3209,103.7142,287.0851,110.5174,283.97,90.51\" style=\"stroke: #A80036; stroke-width: 1.0;\"/><ellipse cx=\"300.3428\" cy=\"109.6678\" fill=\"#A80036\" rx=\"2\" ry=\"2\" style=\"stroke: #A80036; stroke-width: 1.0;\"/><ellipse cx=\"291.6029\" cy=\"114.5273\" fill=\"#A80036\" rx=\"2\" ry=\"2\" style=\"stroke: #A80036; stroke-width: 1.0;\"/></a><!--MD5=[827760032d119d06bbc92f75530fd7ae]\n",
       "reverse link E5 to E8--><a href=\"psysml:c79df832-858d-4f87-b041-227cc7f695ce\" target=\"_top\" title=\"psysml:c79df832-858d-4f87-b041-227cc7f695ce\" xlink:actuate=\"onRequest\" xlink:href=\"psysml:c79df832-858d-4f87-b041-227cc7f695ce\" xlink:show=\"new\" xlink:title=\"psysml:c79df832-858d-4f87-b041-227cc7f695ce\" xlink:type=\"simple\"><path d=\"M266.44,103.07 C272.49,119.65 281.62,139.03 290.44,153.65 \" fill=\"none\" id=\"E5&lt;-E8\" style=\"stroke: #A80036; stroke-width: 1.0;\"/><polygon fill=\"#A80036\" points=\"262.31,90.51,260.3836,97.459,266.0572,101.9099,267.9836,94.9609,262.31,90.51\" style=\"stroke: #A80036; stroke-width: 1.0;\"/><text fill=\"#000000\" font-family=\"sans-serif\" font-size=\"13\" lengthAdjust=\"spacingAndGlyphs\" textLength=\"7\" x=\"277.2746\" y=\"142.8366\">*</text></a><!--MD5=[22f5b4bae7e060dce8a1c8021efdb95b]\n",
       "reverse link E8 to E9--><a href=\"psysml:599cc28e-37a4-4871-97e7-8713776fcf23\" target=\"_top\" title=\"psysml:599cc28e-37a4-4871-97e7-8713776fcf23\" xlink:actuate=\"onRequest\" xlink:href=\"psysml:599cc28e-37a4-4871-97e7-8713776fcf23\" xlink:show=\"new\" xlink:title=\"psysml:599cc28e-37a4-4871-97e7-8713776fcf23\" xlink:type=\"simple\"><path d=\"M320.75,212.96 C325.08,228.51 330.05,246.33 333.86,259.98 \" fill=\"none\" id=\"E8&lt;-E9\" style=\"stroke: #A80036; stroke-width: 1.0;\"/><polygon fill=\"#A80036\" points=\"317.15,200.06,314.9066,206.9133,320.3699,211.6199,322.6133,204.7667,317.15,200.06\" style=\"stroke: #A80036; stroke-width: 1.0;\"/></a><!--MD5=[3272d9e13cc172b6ca55ac35860d6983]\n",
       "@startuml\r\n",
       "skinparam wrapWidth 300\r\n",
       "hide circle\r\n",
       "\r\n",
       "package \"ViewTest\" as E1  [[psysml:68a4efc3-4169-49c4-b08f-98091c4bc0be ]]  {\r\n",
       "package \"P\" as E2  [[psysml:d8eb8e98-9fc5-4554-bb79-0a7fb3af234b ]]  {\r\n",
       "}\r\n",
       "comp def \"VP\" as E3  <<(T,blue)viewpoint def>> [[psysml:0e16ef0b-675e-475c-a6ab-030697702310 ]] {\r\n",
       "}\r\n",
       "comp def \"R\" as E4  <<(T,blue)rendering def>> [[psysml:80b9aeea-925b-4b3a-8c84-ce381a5e60ed ]] {\r\n",
       "}\r\n",
       "comp def \"V\" as E5  <<(T,blue)view def>> [[psysml:fa67c82a-cf4c-4211-8405-b886e7fced61 ]] {\r\n",
       "}\r\n",
       "comp usage \"vp: VP\" as E6  <<(T,blue)viewpoint>> [[psysml:edb93869-3e30-4330-ae7d-f0dbadb8ae6e ]] {\r\n",
       "}\r\n",
       "comp usage \"r: R\" as E7  <<(T,blue)rendering>> [[psysml:d3ad1959-ed24-48c6-b8cb-3101ea5444ce ]] {\r\n",
       "}\r\n",
       "comp usage \"v: V\" as E8  <<(T,blue)view>> [[psysml:c79df832-858d-4f87-b041-227cc7f695ce ]] {\r\n",
       "}\r\n",
       "comp usage \"r1\" as E9  <<(T,blue)rendering>> [[psysml:599cc28e-37a4-4871-97e7-8713776fcf23 ]] {\r\n",
       "}\r\n",
       "E5 *- - E6 [[psysml:edb93869-3e30-4330-ae7d-f0dbadb8ae6e ]] \r\n",
       "E6 - -:|> E3 [[psysml:678c28b1-b825-4869-b6db-341a5ef18df5 ]] \r\n",
       "E7 - -:|> E4 [[psysml:e01b0a28-1744-4d35-a29d-a960e4229aec ]] \r\n",
       "E5 *- - \"0..1\"E7 [[psysml:d3ad1959-ed24-48c6-b8cb-3101ea5444ce ]] \r\n",
       "E8 - -:|> E5 [[psysml:3896f3dd-ac25-48cd-93fb-dac3b3d02068 ]] \r\n",
       "E5 *- - \"*\"E8 [[psysml:c79df832-858d-4f87-b041-227cc7f695ce ]] \r\n",
       "E8 *- - E9 [[psysml:599cc28e-37a4-4871-97e7-8713776fcf23 ]] \r\n",
       "}\r\n",
       "@enduml\r\n",
       "\n",
       "PlantUML version 1.2020.13(Sat Jun 13 12:26:38 UTC 2020)\n",
       "(EPL source distribution)\n",
       "Java Runtime: OpenJDK Runtime Environment\n",
       "JVM: OpenJDK 64-Bit Server VM\n",
       "Default Encoding: UTF-8\n",
       "Language: en\n",
       "Country: null\n",
       "--></g></svg>"
      ]
     },
     "execution_count": 29,
     "metadata": {},
     "output_type": "execute_result"
    }
   ],
   "source": [
    "%viz --style=\"STDCOLOR\" --view=\"MIXED\" \"ViewTest\""
   ]
  },
  {
   "cell_type": "code",
   "execution_count": 30,
   "id": "sustained-batch",
   "metadata": {
    "execution": {
     "iopub.execute_input": "2021-03-25T15:10:04.238041Z",
     "iopub.status.busy": "2021-03-25T15:10:04.237243Z",
     "iopub.status.idle": "2021-03-25T15:10:04.320954Z",
     "shell.execute_reply": "2021-03-25T15:10:04.320586Z"
    }
   },
   "outputs": [
    {
     "data": {
      "image/svg+xml": [
       "<?xml version=\"1.0\" encoding=\"UTF-8\" standalone=\"no\"?><svg xmlns=\"http://www.w3.org/2000/svg\" xmlns:xlink=\"http://www.w3.org/1999/xlink\" contentScriptType=\"application/ecmascript\" contentStyleType=\"text/css\" height=\"334px\" preserveAspectRatio=\"none\" style=\"width:376px;height:334px;\" version=\"1.1\" viewBox=\"0 0 376 334\" width=\"376px\" zoomAndPan=\"magnify\"><defs><filter height=\"300%\" id=\"f1wv6m0zp6h750\" width=\"300%\" x=\"-1\" y=\"-1\"><feGaussianBlur result=\"blurOut\" stdDeviation=\"2.0\"/><feColorMatrix in=\"blurOut\" result=\"blurOut2\" type=\"matrix\" values=\"0 0 0 0 0 0 0 0 0 0 0 0 0 0 0 0 0 0 .4 0\"/><feOffset dx=\"4.0\" dy=\"4.0\" in=\"blurOut2\" result=\"blurOut3\"/><feBlend in=\"SourceGraphic\" in2=\"blurOut3\" mode=\"normal\"/></filter></defs><g><!--MD5=[fbc87193dbaf4d95561dea2c320d4a47]\n",
       "cluster E1--><a href=\"psysml:68a4efc3-4169-49c4-b08f-98091c4bc0be\" target=\"_top\" title=\"psysml:68a4efc3-4169-49c4-b08f-98091c4bc0be\" xlink:actuate=\"onRequest\" xlink:href=\"psysml:68a4efc3-4169-49c4-b08f-98091c4bc0be\" xlink:show=\"new\" xlink:title=\"psysml:68a4efc3-4169-49c4-b08f-98091c4bc0be\" xlink:type=\"simple\"><polygon fill=\"#FFFFFF\" filter=\"url(#f1wv6m0zp6h750)\" points=\"16,6,96,6,103,28.2969,354,28.2969,354,322,16,322,16,6\" style=\"stroke: #000000; stroke-width: 1.5;\"/><line style=\"stroke: #000000; stroke-width: 1.5;\" x1=\"16\" x2=\"103\" y1=\"28.2969\" y2=\"28.2969\"/><text fill=\"#000000\" font-family=\"sans-serif\" font-size=\"14\" font-weight=\"bold\" lengthAdjust=\"spacingAndGlyphs\" textLength=\"74\" x=\"20\" y=\"20.9951\">ViewTest</text></a><!--MD5=[09b614a08d8cba4a07c9adeb5e0fee81]\n",
       "class E3--><a href=\"psysml:0e16ef0b-675e-475c-a6ab-030697702310\" target=\"_top\" title=\"psysml:0e16ef0b-675e-475c-a6ab-030697702310\" xlink:actuate=\"onRequest\" xlink:href=\"psysml:0e16ef0b-675e-475c-a6ab-030697702310\" xlink:show=\"new\" xlink:title=\"psysml:0e16ef0b-675e-475c-a6ab-030697702310\" xlink:type=\"simple\"><rect fill=\"#FEFECE\" filter=\"url(#f1wv6m0zp6h750)\" height=\"45.9375\" id=\"E3\" style=\"stroke: #A80036; stroke-width: 1.5;\" width=\"124\" x=\"32\" y=\"260\"/><ellipse cx=\"47\" cy=\"278.9688\" fill=\"#A52A2A\" rx=\"11\" ry=\"11\" style=\"stroke: #A80036; stroke-width: 1.0;\"/><path d=\"M46.5938,274.7813 L46.5938,282.7656 L47.25,282.7656 Q48.6875,282.7656 49.2969,281.8594 Q49.9219,280.9375 49.9219,278.7656 Q49.9219,276.5938 49.2969,275.6875 Q48.6875,274.7813 47.25,274.7813 L46.5938,274.7813 Z M44.1406,272.5781 L46.7656,272.5781 Q49.7969,272.5781 51.125,274.0313 Q52.4688,275.4688 52.4688,278.7656 Q52.4688,282.0625 51.125,283.5156 Q49.7969,284.9688 46.7656,284.9688 L44.1406,284.9688 L44.1406,272.5781 Z \"/><text fill=\"#000000\" font-family=\"sans-serif\" font-size=\"12\" font-style=\"italic\" lengthAdjust=\"spacingAndGlyphs\" textLength=\"96\" x=\"59\" y=\"276.1387\">«viewpoint def»</text><text fill=\"#000000\" font-family=\"sans-serif\" font-size=\"12\" lengthAdjust=\"spacingAndGlyphs\" textLength=\"16\" x=\"99\" y=\"290.1074\">VP</text><line style=\"stroke: #A80036; stroke-width: 1.5;\" x1=\"33\" x2=\"155\" y1=\"297.9375\" y2=\"297.9375\"/></a><!--MD5=[ebbe1d658d1005bcc118a6aa81145e00]\n",
       "class E4--><a href=\"psysml:80b9aeea-925b-4b3a-8c84-ce381a5e60ed\" target=\"_top\" title=\"psysml:80b9aeea-925b-4b3a-8c84-ce381a5e60ed\" xlink:actuate=\"onRequest\" xlink:href=\"psysml:80b9aeea-925b-4b3a-8c84-ce381a5e60ed\" xlink:show=\"new\" xlink:title=\"psysml:80b9aeea-925b-4b3a-8c84-ce381a5e60ed\" xlink:type=\"simple\"><rect fill=\"#FEFECE\" filter=\"url(#f1wv6m0zp6h750)\" height=\"40\" id=\"E4\" style=\"stroke: #A80036; stroke-width: 1.5;\" width=\"40\" x=\"191\" y=\"263\"/><ellipse cx=\"206\" cy=\"279\" fill=\"#008000\" rx=\"11\" ry=\"11\" style=\"stroke: #A80036; stroke-width: 1.0;\"/><path d=\"M204.9063,279.375 L204.9063,283.0469 L206.5313,283.0469 Q207.7031,283.0469 208.1719,282.6563 Q208.6406,282.25 208.6406,281.25 Q208.6406,280.25 208.1406,279.8125 Q207.6563,279.375 206.5313,279.375 L204.9063,279.375 Z M204.9063,274.5469 L204.9063,277.4219 L206.5313,277.4219 Q207.4531,277.4219 207.8438,277.0938 Q208.25,276.75 208.25,276 Q208.25,275.2344 207.8438,274.8906 Q207.4375,274.5469 206.5313,274.5469 L204.9063,274.5469 Z M202.5313,272.5938 L206.5313,272.5938 Q208.5938,272.5938 209.6406,273.375 Q210.6875,274.1563 210.6875,275.7188 Q210.6875,276.9219 210.0625,277.5938 Q209.4531,278.2656 208.2656,278.375 Q209.6875,278.5156 210.4063,279.3281 Q211.125,280.1406 211.125,281.5938 Q211.125,283.3906 210.0469,284.2031 Q208.9688,285 206.5313,285 L202.5313,285 L202.5313,272.5938 Z \"/><text fill=\"#000000\" font-family=\"sans-serif\" font-size=\"12\" lengthAdjust=\"spacingAndGlyphs\" textLength=\"8\" x=\"220\" y=\"283.1543\">R</text><line style=\"stroke: #A80036; stroke-width: 1.5;\" x1=\"192\" x2=\"230\" y1=\"295\" y2=\"295\"/></a><!--MD5=[270fce915f116d4de14055a7c1d9a0f3]\n",
       "class E5--><a href=\"psysml:fa67c82a-cf4c-4211-8405-b886e7fced61\" target=\"_top\" title=\"psysml:fa67c82a-cf4c-4211-8405-b886e7fced61\" xlink:actuate=\"onRequest\" xlink:href=\"psysml:fa67c82a-cf4c-4211-8405-b886e7fced61\" xlink:show=\"new\" xlink:title=\"psysml:fa67c82a-cf4c-4211-8405-b886e7fced61\" xlink:type=\"simple\"><rect fill=\"#FEFECE\" filter=\"url(#f1wv6m0zp6h750)\" height=\"40\" id=\"E5\" style=\"stroke: #A80036; stroke-width: 1.5;\" width=\"40\" x=\"232\" y=\"47.5\"/><ellipse cx=\"247\" cy=\"63.5\" fill=\"#008000\" rx=\"11\" ry=\"11\" style=\"stroke: #A80036; stroke-width: 1.0;\"/><path d=\"M245.9063,63.875 L245.9063,67.5469 L247.5313,67.5469 Q248.7031,67.5469 249.1719,67.1563 Q249.6406,66.75 249.6406,65.75 Q249.6406,64.75 249.1406,64.3125 Q248.6563,63.875 247.5313,63.875 L245.9063,63.875 Z M245.9063,59.0469 L245.9063,61.9219 L247.5313,61.9219 Q248.4531,61.9219 248.8438,61.5938 Q249.25,61.25 249.25,60.5 Q249.25,59.7344 248.8438,59.3906 Q248.4375,59.0469 247.5313,59.0469 L245.9063,59.0469 Z M243.5313,57.0938 L247.5313,57.0938 Q249.5938,57.0938 250.6406,57.875 Q251.6875,58.6563 251.6875,60.2188 Q251.6875,61.4219 251.0625,62.0938 Q250.4531,62.7656 249.2656,62.875 Q250.6875,63.0156 251.4063,63.8281 Q252.125,64.6406 252.125,66.0938 Q252.125,67.8906 251.0469,68.7031 Q249.9688,69.5 247.5313,69.5 L243.5313,69.5 L243.5313,57.0938 Z \"/><text fill=\"#000000\" font-family=\"sans-serif\" font-size=\"12\" lengthAdjust=\"spacingAndGlyphs\" textLength=\"8\" x=\"261\" y=\"67.6543\">V</text><line style=\"stroke: #A80036; stroke-width: 1.5;\" x1=\"233\" x2=\"271\" y1=\"79.5\" y2=\"79.5\"/></a><!--MD5=[60a26617385b1d2d0262a64233df1f8d]\n",
       "class E6--><a href=\"psysml:edb93869-3e30-4330-ae7d-f0dbadb8ae6e\" target=\"_top\" title=\"psysml:edb93869-3e30-4330-ae7d-f0dbadb8ae6e\" xlink:actuate=\"onRequest\" xlink:href=\"psysml:edb93869-3e30-4330-ae7d-f0dbadb8ae6e\" xlink:show=\"new\" xlink:title=\"psysml:edb93869-3e30-4330-ae7d-f0dbadb8ae6e\" xlink:type=\"simple\"><rect fill=\"#FEFECE\" filter=\"url(#f1wv6m0zp6h750)\" height=\"45.9375\" id=\"E6\" rx=\"10\" ry=\"10\" style=\"stroke: #A80036; stroke-width: 1.5;\" width=\"100\" x=\"32\" y=\"154\"/><ellipse cx=\"47\" cy=\"172.9688\" fill=\"#FFA500\" rx=\"11\" ry=\"11\" style=\"stroke: #A80036; stroke-width: 1.0;\"/><path d=\"M42.875,174.8906 L42.875,167.0781 L45.3281,167.0781 L45.3281,175.5156 Q45.3281,176.4375 45.7969,176.9688 Q46.2813,177.5 47.1094,177.5 Q47.9531,177.5 48.4219,176.9688 Q48.8906,176.4375 48.8906,175.5156 L48.8906,167.0781 L51.3438,167.0781 L51.3438,174.8906 Q51.3438,177.4219 50.3438,178.5625 Q49.3438,179.7031 47.1094,179.7031 Q44.8906,179.7031 43.875,178.5625 Q42.875,177.4219 42.875,174.8906 Z \"/><text fill=\"#000000\" font-family=\"sans-serif\" font-size=\"12\" font-style=\"italic\" lengthAdjust=\"spacingAndGlyphs\" textLength=\"72\" x=\"59\" y=\"170.1387\">«viewpoint»</text><text fill=\"#000000\" font-family=\"sans-serif\" font-size=\"12\" lengthAdjust=\"spacingAndGlyphs\" textLength=\"38\" x=\"76\" y=\"184.1074\">vp: VP</text><line style=\"stroke: #A80036; stroke-width: 1.5;\" x1=\"33\" x2=\"131\" y1=\"191.9375\" y2=\"191.9375\"/></a><!--MD5=[2156ba9850f5573cc1fc38a6a4b2f02b]\n",
       "class E7--><a href=\"psysml:d3ad1959-ed24-48c6-b8cb-3101ea5444ce\" target=\"_top\" title=\"psysml:d3ad1959-ed24-48c6-b8cb-3101ea5444ce\" xlink:actuate=\"onRequest\" xlink:href=\"psysml:d3ad1959-ed24-48c6-b8cb-3101ea5444ce\" xlink:show=\"new\" xlink:title=\"psysml:d3ad1959-ed24-48c6-b8cb-3101ea5444ce\" xlink:type=\"simple\"><rect fill=\"#FEFECE\" filter=\"url(#f1wv6m0zp6h750)\" height=\"45.9375\" id=\"E7\" rx=\"10\" ry=\"10\" style=\"stroke: #A80036; stroke-width: 1.5;\" width=\"68\" x=\"167\" y=\"154\"/><ellipse cx=\"182\" cy=\"172.9688\" fill=\"#32CD32\" rx=\"11\" ry=\"11\" style=\"stroke: #A80036; stroke-width: 1.0;\"/><path d=\"M181.7969,168.6406 L181.7969,172.2656 L182.7969,172.2656 Q184,172.2656 184.4844,171.8594 Q184.9688,171.4531 184.9688,170.4531 Q184.9688,169.4531 184.4844,169.0469 Q184,168.6406 182.7969,168.6406 L181.7969,168.6406 Z M179.3438,166.5781 L182.7031,166.5781 Q185.2656,166.5781 186.3906,167.5 Q187.5156,168.4063 187.5156,170.4531 Q187.5156,172.5 186.3906,173.4219 Q185.2656,174.3281 182.7031,174.3281 L181.7969,174.3281 L181.7969,178.9688 L179.3438,178.9688 L179.3438,166.5781 Z \"/><text fill=\"#000000\" font-family=\"sans-serif\" font-size=\"12\" font-style=\"italic\" lengthAdjust=\"spacingAndGlyphs\" textLength=\"40\" x=\"194\" y=\"170.1387\">«part»</text><text fill=\"#000000\" font-family=\"sans-serif\" font-size=\"12\" lengthAdjust=\"spacingAndGlyphs\" textLength=\"21\" x=\"203.5\" y=\"184.1074\">r: R</text><line style=\"stroke: #A80036; stroke-width: 1.5;\" x1=\"168\" x2=\"234\" y1=\"191.9375\" y2=\"191.9375\"/></a><!--MD5=[b9389687b975829384b498ac4b7476b2]\n",
       "class E8--><a href=\"psysml:c79df832-858d-4f87-b041-227cc7f695ce\" target=\"_top\" title=\"psysml:c79df832-858d-4f87-b041-227cc7f695ce\" xlink:actuate=\"onRequest\" xlink:href=\"psysml:c79df832-858d-4f87-b041-227cc7f695ce\" xlink:show=\"new\" xlink:title=\"psysml:c79df832-858d-4f87-b041-227cc7f695ce\" xlink:type=\"simple\"><rect fill=\"#FEFECE\" filter=\"url(#f1wv6m0zp6h750)\" height=\"45.9375\" id=\"E8\" rx=\"10\" ry=\"10\" style=\"stroke: #A80036; stroke-width: 1.5;\" width=\"68\" x=\"270\" y=\"154\"/><ellipse cx=\"285\" cy=\"172.9688\" fill=\"#32CD32\" rx=\"11\" ry=\"11\" style=\"stroke: #A80036; stroke-width: 1.0;\"/><path d=\"M284.7969,168.6406 L284.7969,172.2656 L285.7969,172.2656 Q287,172.2656 287.4844,171.8594 Q287.9688,171.4531 287.9688,170.4531 Q287.9688,169.4531 287.4844,169.0469 Q287,168.6406 285.7969,168.6406 L284.7969,168.6406 Z M282.3438,166.5781 L285.7031,166.5781 Q288.2656,166.5781 289.3906,167.5 Q290.5156,168.4063 290.5156,170.4531 Q290.5156,172.5 289.3906,173.4219 Q288.2656,174.3281 285.7031,174.3281 L284.7969,174.3281 L284.7969,178.9688 L282.3438,178.9688 L282.3438,166.5781 Z \"/><text fill=\"#000000\" font-family=\"sans-serif\" font-size=\"12\" font-style=\"italic\" lengthAdjust=\"spacingAndGlyphs\" textLength=\"40\" x=\"297\" y=\"170.1387\">«part»</text><text fill=\"#000000\" font-family=\"sans-serif\" font-size=\"12\" lengthAdjust=\"spacingAndGlyphs\" textLength=\"22\" x=\"306\" y=\"184.1074\">v: V</text><line style=\"stroke: #A80036; stroke-width: 1.5;\" x1=\"271\" x2=\"337\" y1=\"191.9375\" y2=\"191.9375\"/></a><!--MD5=[fd4143e9d270a159db93a4ea2a975926]\n",
       "class E9--><a href=\"psysml:599cc28e-37a4-4871-97e7-8713776fcf23\" target=\"_top\" title=\"psysml:599cc28e-37a4-4871-97e7-8713776fcf23\" xlink:actuate=\"onRequest\" xlink:href=\"psysml:599cc28e-37a4-4871-97e7-8713776fcf23\" xlink:show=\"new\" xlink:title=\"psysml:599cc28e-37a4-4871-97e7-8713776fcf23\" xlink:type=\"simple\"><rect fill=\"#FEFECE\" filter=\"url(#f1wv6m0zp6h750)\" height=\"45.9375\" id=\"E9\" rx=\"10\" ry=\"10\" style=\"stroke: #A80036; stroke-width: 1.5;\" width=\"68\" x=\"270\" y=\"260\"/><ellipse cx=\"285\" cy=\"278.9688\" fill=\"#32CD32\" rx=\"11\" ry=\"11\" style=\"stroke: #A80036; stroke-width: 1.0;\"/><path d=\"M284.7969,274.6406 L284.7969,278.2656 L285.7969,278.2656 Q287,278.2656 287.4844,277.8594 Q287.9688,277.4531 287.9688,276.4531 Q287.9688,275.4531 287.4844,275.0469 Q287,274.6406 285.7969,274.6406 L284.7969,274.6406 Z M282.3438,272.5781 L285.7031,272.5781 Q288.2656,272.5781 289.3906,273.5 Q290.5156,274.4063 290.5156,276.4531 Q290.5156,278.5 289.3906,279.4219 Q288.2656,280.3281 285.7031,280.3281 L284.7969,280.3281 L284.7969,284.9688 L282.3438,284.9688 L282.3438,272.5781 Z \"/><text fill=\"#000000\" font-family=\"sans-serif\" font-size=\"12\" font-style=\"italic\" lengthAdjust=\"spacingAndGlyphs\" textLength=\"40\" x=\"297\" y=\"276.1387\">«part»</text><text fill=\"#000000\" font-family=\"sans-serif\" font-size=\"12\" lengthAdjust=\"spacingAndGlyphs\" textLength=\"13\" x=\"310.5\" y=\"290.1074\">r1</text><line style=\"stroke: #A80036; stroke-width: 1.5;\" x1=\"271\" x2=\"337\" y1=\"297.9375\" y2=\"297.9375\"/></a><a href=\"psysml:d8eb8e98-9fc5-4554-bb79-0a7fb3af234b\" target=\"_top\" title=\"psysml:d8eb8e98-9fc5-4554-bb79-0a7fb3af234b\" xlink:actuate=\"onRequest\" xlink:href=\"psysml:d8eb8e98-9fc5-4554-bb79-0a7fb3af234b\" xlink:show=\"new\" xlink:title=\"psysml:d8eb8e98-9fc5-4554-bb79-0a7fb3af234b\" xlink:type=\"simple\"><polygon fill=\"#FFFFFF\" filter=\"url(#f1wv6m0zp6h750)\" points=\"125,41,141,41,148,63.2969,155,63.2969,155,93.5938,125,93.5938,125,41\" style=\"stroke: #000000; stroke-width: 1.5;\"/><line style=\"stroke: #000000; stroke-width: 1.5;\" x1=\"125\" x2=\"148\" y1=\"63.2969\" y2=\"63.2969\"/><text fill=\"#000000\" font-family=\"sans-serif\" font-size=\"14\" font-weight=\"bold\" lengthAdjust=\"spacingAndGlyphs\" textLength=\"10\" x=\"129\" y=\"55.9951\">P</text></a><!--MD5=[85d356282659285ab4b2cfe2f634dd2b]\n",
       "reverse link E5 to E6--><a href=\"psysml:edb93869-3e30-4330-ae7d-f0dbadb8ae6e\" target=\"_top\" title=\"psysml:edb93869-3e30-4330-ae7d-f0dbadb8ae6e\" xlink:actuate=\"onRequest\" xlink:href=\"psysml:edb93869-3e30-4330-ae7d-f0dbadb8ae6e\" xlink:show=\"new\" xlink:title=\"psysml:edb93869-3e30-4330-ae7d-f0dbadb8ae6e\" xlink:type=\"simple\"><path d=\"M220.58,88.37 C191.18,106.96 147.35,134.67 116.89,153.94 \" fill=\"none\" id=\"E5&lt;-E6\" style=\"stroke: #A80036; stroke-width: 1.0;\"/><polygon fill=\"#A80036\" points=\"231.83,81.25,224.6209,81.0808,221.692,87.6703,228.9011,87.8395,231.83,81.25\" style=\"stroke: #A80036; stroke-width: 1.0;\"/></a><!--MD5=[a717450b82c80b9240a525fa862496af]\n",
       "link E6 to E3--><a href=\"psysml:678c28b1-b825-4869-b6db-341a5ef18df5\" target=\"_top\" title=\"psysml:678c28b1-b825-4869-b6db-341a5ef18df5\" xlink:actuate=\"onRequest\" xlink:href=\"psysml:678c28b1-b825-4869-b6db-341a5ef18df5\" xlink:show=\"new\" xlink:title=\"psysml:678c28b1-b825-4869-b6db-341a5ef18df5\" xlink:type=\"simple\"><path d=\"M84.54,200.06 C85.88,211.64 87.56,226.23 89.14,239.87 \" fill=\"none\" id=\"E6-&gt;E3\" style=\"stroke: #A80036; stroke-width: 1.0;\"/><polygon fill=\"#FFFFFF\" points=\"91.46,259.98,82.3347,241.9044,96.243,240.3046,91.46,259.98\" style=\"stroke: #A80036; stroke-width: 1.0;\"/><ellipse cx=\"83.6702\" cy=\"236.0132\" fill=\"#A80036\" rx=\"2\" ry=\"2\" style=\"stroke: #A80036; stroke-width: 1.0;\"/><ellipse cx=\"93.6047\" cy=\"234.8704\" fill=\"#A80036\" rx=\"2\" ry=\"2\" style=\"stroke: #A80036; stroke-width: 1.0;\"/></a><!--MD5=[6bdd27f9905911a7e892a3dc65cf6b7c]\n",
       "link E7 to E4--><a href=\"psysml:e01b0a28-1744-4d35-a29d-a960e4229aec\" target=\"_top\" title=\"psysml:e01b0a28-1744-4d35-a29d-a960e4229aec\" xlink:actuate=\"onRequest\" xlink:href=\"psysml:e01b0a28-1744-4d35-a29d-a960e4229aec\" xlink:show=\"new\" xlink:title=\"psysml:e01b0a28-1744-4d35-a29d-a960e4229aec\" xlink:type=\"simple\"><path d=\"M203.12,200.06 C204.32,212.48 205.84,228.37 207.23,242.84 \" fill=\"none\" id=\"E7-&gt;E4\" style=\"stroke: #A80036; stroke-width: 1.0;\"/><polygon fill=\"#FFFFFF\" points=\"209.15,262.77,200.3629,244.5276,214.2985,243.187,209.15,262.77\" style=\"stroke: #A80036; stroke-width: 1.0;\"/><ellipse cx=\"201.8079\" cy=\"238.6623\" fill=\"#A80036\" rx=\"2\" ry=\"2\" style=\"stroke: #A80036; stroke-width: 1.0;\"/><ellipse cx=\"211.7619\" cy=\"237.7047\" fill=\"#A80036\" rx=\"2\" ry=\"2\" style=\"stroke: #A80036; stroke-width: 1.0;\"/></a><!--MD5=[452b418e7f8a40397a49b8c0a78acc5b]\n",
       "reverse link E5 to E7--><a href=\"psysml:d3ad1959-ed24-48c6-b8cb-3101ea5444ce\" target=\"_top\" title=\"psysml:d3ad1959-ed24-48c6-b8cb-3101ea5444ce\" xlink:actuate=\"onRequest\" xlink:href=\"psysml:d3ad1959-ed24-48c6-b8cb-3101ea5444ce\" xlink:show=\"new\" xlink:title=\"psysml:d3ad1959-ed24-48c6-b8cb-3101ea5444ce\" xlink:type=\"simple\"><path d=\"M237.26,99.58 C228.99,116.99 218.89,138.3 211.45,153.98 \" fill=\"none\" id=\"E5&lt;-E7\" style=\"stroke: #A80036; stroke-width: 1.0;\"/><polygon fill=\"#A80036\" points=\"242.88,87.72,236.6942,91.4262,237.7362,98.5616,243.922,94.8554,242.88,87.72\" style=\"stroke: #A80036; stroke-width: 1.0;\"/><text fill=\"#000000\" font-family=\"sans-serif\" font-size=\"13\" lengthAdjust=\"spacingAndGlyphs\" textLength=\"24\" x=\"187.0334\" y=\"142.8709\">0..1</text></a><!--MD5=[1ccb2481ffa92f8d51a74ee30c51832a]\n",
       "link E8 to E5--><a href=\"psysml:3896f3dd-ac25-48cd-93fb-dac3b3d02068\" target=\"_top\" title=\"psysml:3896f3dd-ac25-48cd-93fb-dac3b3d02068\" xlink:actuate=\"onRequest\" xlink:href=\"psysml:3896f3dd-ac25-48cd-93fb-dac3b3d02068\" xlink:show=\"new\" xlink:title=\"psysml:3896f3dd-ac25-48cd-93fb-dac3b3d02068\" xlink:type=\"simple\"><path d=\"M304.49,153.98 C300.07,139.89 291.63,121.28 282.53,105.01 \" fill=\"none\" id=\"E8-&gt;E5\" style=\"stroke: #A80036; stroke-width: 1.0;\"/><polygon fill=\"#FFFFFF\" points=\"271.93,87.72,287.8284,100.2596,275.8928,107.5769,271.93,87.72\" style=\"stroke: #A80036; stroke-width: 1.0;\"/><ellipse cx=\"289.1025\" cy=\"106.1644\" fill=\"#A80036\" rx=\"2\" ry=\"2\" style=\"stroke: #A80036; stroke-width: 1.0;\"/><ellipse cx=\"280.5771\" cy=\"111.391\" fill=\"#A80036\" rx=\"2\" ry=\"2\" style=\"stroke: #A80036; stroke-width: 1.0;\"/></a><!--MD5=[827760032d119d06bbc92f75530fd7ae]\n",
       "reverse link E5 to E8--><a href=\"psysml:c79df832-858d-4f87-b041-227cc7f695ce\" target=\"_top\" title=\"psysml:c79df832-858d-4f87-b041-227cc7f695ce\" xlink:actuate=\"onRequest\" xlink:href=\"psysml:c79df832-858d-4f87-b041-227cc7f695ce\" xlink:show=\"new\" xlink:title=\"psysml:c79df832-858d-4f87-b041-227cc7f695ce\" xlink:type=\"simple\"><path d=\"M255.55,100.09 C262.24,117.41 272.82,138.45 282.83,153.98 \" fill=\"none\" id=\"E5&lt;-E8\" style=\"stroke: #A80036; stroke-width: 1.0;\"/><polygon fill=\"#A80036\" points=\"251.26,87.72,249.4475,94.6996,255.193,99.0572,257.0056,92.0776,251.26,87.72\" style=\"stroke: #A80036; stroke-width: 1.0;\"/><text fill=\"#000000\" font-family=\"sans-serif\" font-size=\"13\" lengthAdjust=\"spacingAndGlyphs\" textLength=\"7\" x=\"269.1999\" y=\"142.8709\">*</text></a><!--MD5=[22f5b4bae7e060dce8a1c8021efdb95b]\n",
       "reverse link E8 to E9--><a href=\"psysml:599cc28e-37a4-4871-97e7-8713776fcf23\" target=\"_top\" title=\"psysml:599cc28e-37a4-4871-97e7-8713776fcf23\" xlink:actuate=\"onRequest\" xlink:href=\"psysml:599cc28e-37a4-4871-97e7-8713776fcf23\" xlink:show=\"new\" xlink:title=\"psysml:599cc28e-37a4-4871-97e7-8713776fcf23\" xlink:type=\"simple\"><path d=\"M304,213.44 C304,228.87 304,246.47 304,259.98 \" fill=\"none\" id=\"E8&lt;-E9\" style=\"stroke: #A80036; stroke-width: 1.0;\"/><polygon fill=\"#A80036\" points=\"304,200.06,300,206.06,304,212.06,308,206.06,304,200.06\" style=\"stroke: #A80036; stroke-width: 1.0;\"/></a><!--MD5=[c679940c5ac5bec0c9f0cc46eb8c39c3]\n",
       "@startuml\r\n",
       " \r\n",
       "package \"ViewTest\" as E1  [[psysml:68a4efc3-4169-49c4-b08f-98091c4bc0be ]]  {\r\n",
       "package \"P\" as E2  [[psysml:d8eb8e98-9fc5-4554-bb79-0a7fb3af234b ]]  {\r\n",
       "}\r\n",
       "comp def \"VP\" as E3  <<(D,brown)viewpoint def>> [[psysml:0e16ef0b-675e-475c-a6ab-030697702310 ]] {\r\n",
       "}\r\n",
       "comp def \"R\" as E4  << (B,green) >> [[psysml:80b9aeea-925b-4b3a-8c84-ce381a5e60ed ]] {\r\n",
       "}\r\n",
       "comp def \"V\" as E5  << (B,green) >> [[psysml:fa67c82a-cf4c-4211-8405-b886e7fced61 ]] {\r\n",
       "}\r\n",
       "comp usage \"vp: VP\" as E6  <<(U,orange)viewpoint>> [[psysml:edb93869-3e30-4330-ae7d-f0dbadb8ae6e ]] {\r\n",
       "}\r\n",
       "comp usage \"r: R\" as E7  << (P,limegreen) part>> [[psysml:d3ad1959-ed24-48c6-b8cb-3101ea5444ce ]] {\r\n",
       "}\r\n",
       "comp usage \"v: V\" as E8  << (P,limegreen) part>> [[psysml:c79df832-858d-4f87-b041-227cc7f695ce ]] {\r\n",
       "}\r\n",
       "comp usage \"r1\" as E9  << (P,limegreen) part>> [[psysml:599cc28e-37a4-4871-97e7-8713776fcf23 ]] {\r\n",
       "}\r\n",
       "E5 *- - E6 [[psysml:edb93869-3e30-4330-ae7d-f0dbadb8ae6e ]] \r\n",
       "E6 - -:|> E3 [[psysml:678c28b1-b825-4869-b6db-341a5ef18df5 ]] \r\n",
       "E7 - -:|> E4 [[psysml:e01b0a28-1744-4d35-a29d-a960e4229aec ]] \r\n",
       "E5 *- - \"0..1\"E7 [[psysml:d3ad1959-ed24-48c6-b8cb-3101ea5444ce ]] \r\n",
       "E8 - -:|> E5 [[psysml:3896f3dd-ac25-48cd-93fb-dac3b3d02068 ]] \r\n",
       "E5 *- - \"*\"E8 [[psysml:c79df832-858d-4f87-b041-227cc7f695ce ]] \r\n",
       "E8 *- - E9 [[psysml:599cc28e-37a4-4871-97e7-8713776fcf23 ]] \r\n",
       "}\r\n",
       "@enduml\r\n",
       "\n",
       "PlantUML version 1.2020.13(Sat Jun 13 12:26:38 UTC 2020)\n",
       "(EPL source distribution)\n",
       "Java Runtime: OpenJDK Runtime Environment\n",
       "JVM: OpenJDK 64-Bit Server VM\n",
       "Default Encoding: UTF-8\n",
       "Language: en\n",
       "Country: null\n",
       "--></g></svg>"
      ]
     },
     "execution_count": 30,
     "metadata": {},
     "output_type": "execute_result"
    }
   ],
   "source": [
    "%viz --style=\"PLANTUML\" --view=\"Default\" \"ViewTest\""
   ]
  },
  {
   "cell_type": "code",
   "execution_count": 31,
   "id": "colored-fence",
   "metadata": {
    "execution": {
     "iopub.execute_input": "2021-03-25T15:10:04.372032Z",
     "iopub.status.busy": "2021-03-25T15:10:04.371596Z",
     "iopub.status.idle": "2021-03-25T15:10:04.454271Z",
     "shell.execute_reply": "2021-03-25T15:10:04.452286Z"
    }
   },
   "outputs": [
    {
     "data": {
      "image/svg+xml": [
       "<?xml version=\"1.0\" encoding=\"UTF-8\" standalone=\"no\"?><svg xmlns=\"http://www.w3.org/2000/svg\" xmlns:xlink=\"http://www.w3.org/1999/xlink\" contentScriptType=\"application/ecmascript\" contentStyleType=\"text/css\" height=\"334px\" preserveAspectRatio=\"none\" style=\"width:376px;height:334px;\" version=\"1.1\" viewBox=\"0 0 376 334\" width=\"376px\" zoomAndPan=\"magnify\"><defs><filter height=\"300%\" id=\"f1wv6m0zp6h750\" width=\"300%\" x=\"-1\" y=\"-1\"><feGaussianBlur result=\"blurOut\" stdDeviation=\"2.0\"/><feColorMatrix in=\"blurOut\" result=\"blurOut2\" type=\"matrix\" values=\"0 0 0 0 0 0 0 0 0 0 0 0 0 0 0 0 0 0 .4 0\"/><feOffset dx=\"4.0\" dy=\"4.0\" in=\"blurOut2\" result=\"blurOut3\"/><feBlend in=\"SourceGraphic\" in2=\"blurOut3\" mode=\"normal\"/></filter></defs><g><!--MD5=[fbc87193dbaf4d95561dea2c320d4a47]\n",
       "cluster E1--><a href=\"psysml:68a4efc3-4169-49c4-b08f-98091c4bc0be\" target=\"_top\" title=\"psysml:68a4efc3-4169-49c4-b08f-98091c4bc0be\" xlink:actuate=\"onRequest\" xlink:href=\"psysml:68a4efc3-4169-49c4-b08f-98091c4bc0be\" xlink:show=\"new\" xlink:title=\"psysml:68a4efc3-4169-49c4-b08f-98091c4bc0be\" xlink:type=\"simple\"><polygon fill=\"#FFFFFF\" filter=\"url(#f1wv6m0zp6h750)\" points=\"16,6,96,6,103,28.2969,354,28.2969,354,322,16,322,16,6\" style=\"stroke: #000000; stroke-width: 1.5;\"/><line style=\"stroke: #000000; stroke-width: 1.5;\" x1=\"16\" x2=\"103\" y1=\"28.2969\" y2=\"28.2969\"/><text fill=\"#000000\" font-family=\"sans-serif\" font-size=\"14\" font-weight=\"bold\" lengthAdjust=\"spacingAndGlyphs\" textLength=\"74\" x=\"20\" y=\"20.9951\">ViewTest</text></a><!--MD5=[09b614a08d8cba4a07c9adeb5e0fee81]\n",
       "class E3--><a href=\"psysml:0e16ef0b-675e-475c-a6ab-030697702310\" target=\"_top\" title=\"psysml:0e16ef0b-675e-475c-a6ab-030697702310\" xlink:actuate=\"onRequest\" xlink:href=\"psysml:0e16ef0b-675e-475c-a6ab-030697702310\" xlink:show=\"new\" xlink:title=\"psysml:0e16ef0b-675e-475c-a6ab-030697702310\" xlink:type=\"simple\"><rect fill=\"#FEFECE\" filter=\"url(#f1wv6m0zp6h750)\" height=\"45.9375\" id=\"E3\" style=\"stroke: #A80036; stroke-width: 1.5;\" width=\"124\" x=\"32\" y=\"260\"/><ellipse cx=\"47\" cy=\"278.9688\" fill=\"#A52A2A\" rx=\"11\" ry=\"11\" style=\"stroke: #A80036; stroke-width: 1.0;\"/><path d=\"M46.5938,274.7813 L46.5938,282.7656 L47.25,282.7656 Q48.6875,282.7656 49.2969,281.8594 Q49.9219,280.9375 49.9219,278.7656 Q49.9219,276.5938 49.2969,275.6875 Q48.6875,274.7813 47.25,274.7813 L46.5938,274.7813 Z M44.1406,272.5781 L46.7656,272.5781 Q49.7969,272.5781 51.125,274.0313 Q52.4688,275.4688 52.4688,278.7656 Q52.4688,282.0625 51.125,283.5156 Q49.7969,284.9688 46.7656,284.9688 L44.1406,284.9688 L44.1406,272.5781 Z \"/><text fill=\"#000000\" font-family=\"sans-serif\" font-size=\"12\" font-style=\"italic\" lengthAdjust=\"spacingAndGlyphs\" textLength=\"96\" x=\"59\" y=\"276.1387\">«viewpoint def»</text><text fill=\"#000000\" font-family=\"sans-serif\" font-size=\"12\" lengthAdjust=\"spacingAndGlyphs\" textLength=\"16\" x=\"99\" y=\"290.1074\">VP</text><line style=\"stroke: #A80036; stroke-width: 1.5;\" x1=\"33\" x2=\"155\" y1=\"297.9375\" y2=\"297.9375\"/></a><!--MD5=[ebbe1d658d1005bcc118a6aa81145e00]\n",
       "class E4--><a href=\"psysml:80b9aeea-925b-4b3a-8c84-ce381a5e60ed\" target=\"_top\" title=\"psysml:80b9aeea-925b-4b3a-8c84-ce381a5e60ed\" xlink:actuate=\"onRequest\" xlink:href=\"psysml:80b9aeea-925b-4b3a-8c84-ce381a5e60ed\" xlink:show=\"new\" xlink:title=\"psysml:80b9aeea-925b-4b3a-8c84-ce381a5e60ed\" xlink:type=\"simple\"><rect fill=\"#FEFECE\" filter=\"url(#f1wv6m0zp6h750)\" height=\"40\" id=\"E4\" style=\"stroke: #A80036; stroke-width: 1.5;\" width=\"40\" x=\"191\" y=\"263\"/><ellipse cx=\"206\" cy=\"279\" fill=\"#008000\" rx=\"11\" ry=\"11\" style=\"stroke: #A80036; stroke-width: 1.0;\"/><path d=\"M204.9063,279.375 L204.9063,283.0469 L206.5313,283.0469 Q207.7031,283.0469 208.1719,282.6563 Q208.6406,282.25 208.6406,281.25 Q208.6406,280.25 208.1406,279.8125 Q207.6563,279.375 206.5313,279.375 L204.9063,279.375 Z M204.9063,274.5469 L204.9063,277.4219 L206.5313,277.4219 Q207.4531,277.4219 207.8438,277.0938 Q208.25,276.75 208.25,276 Q208.25,275.2344 207.8438,274.8906 Q207.4375,274.5469 206.5313,274.5469 L204.9063,274.5469 Z M202.5313,272.5938 L206.5313,272.5938 Q208.5938,272.5938 209.6406,273.375 Q210.6875,274.1563 210.6875,275.7188 Q210.6875,276.9219 210.0625,277.5938 Q209.4531,278.2656 208.2656,278.375 Q209.6875,278.5156 210.4063,279.3281 Q211.125,280.1406 211.125,281.5938 Q211.125,283.3906 210.0469,284.2031 Q208.9688,285 206.5313,285 L202.5313,285 L202.5313,272.5938 Z \"/><text fill=\"#000000\" font-family=\"sans-serif\" font-size=\"12\" lengthAdjust=\"spacingAndGlyphs\" textLength=\"8\" x=\"220\" y=\"283.1543\">R</text><line style=\"stroke: #A80036; stroke-width: 1.5;\" x1=\"192\" x2=\"230\" y1=\"295\" y2=\"295\"/></a><!--MD5=[270fce915f116d4de14055a7c1d9a0f3]\n",
       "class E5--><a href=\"psysml:fa67c82a-cf4c-4211-8405-b886e7fced61\" target=\"_top\" title=\"psysml:fa67c82a-cf4c-4211-8405-b886e7fced61\" xlink:actuate=\"onRequest\" xlink:href=\"psysml:fa67c82a-cf4c-4211-8405-b886e7fced61\" xlink:show=\"new\" xlink:title=\"psysml:fa67c82a-cf4c-4211-8405-b886e7fced61\" xlink:type=\"simple\"><rect fill=\"#FEFECE\" filter=\"url(#f1wv6m0zp6h750)\" height=\"40\" id=\"E5\" style=\"stroke: #A80036; stroke-width: 1.5;\" width=\"40\" x=\"232\" y=\"47.5\"/><ellipse cx=\"247\" cy=\"63.5\" fill=\"#008000\" rx=\"11\" ry=\"11\" style=\"stroke: #A80036; stroke-width: 1.0;\"/><path d=\"M245.9063,63.875 L245.9063,67.5469 L247.5313,67.5469 Q248.7031,67.5469 249.1719,67.1563 Q249.6406,66.75 249.6406,65.75 Q249.6406,64.75 249.1406,64.3125 Q248.6563,63.875 247.5313,63.875 L245.9063,63.875 Z M245.9063,59.0469 L245.9063,61.9219 L247.5313,61.9219 Q248.4531,61.9219 248.8438,61.5938 Q249.25,61.25 249.25,60.5 Q249.25,59.7344 248.8438,59.3906 Q248.4375,59.0469 247.5313,59.0469 L245.9063,59.0469 Z M243.5313,57.0938 L247.5313,57.0938 Q249.5938,57.0938 250.6406,57.875 Q251.6875,58.6563 251.6875,60.2188 Q251.6875,61.4219 251.0625,62.0938 Q250.4531,62.7656 249.2656,62.875 Q250.6875,63.0156 251.4063,63.8281 Q252.125,64.6406 252.125,66.0938 Q252.125,67.8906 251.0469,68.7031 Q249.9688,69.5 247.5313,69.5 L243.5313,69.5 L243.5313,57.0938 Z \"/><text fill=\"#000000\" font-family=\"sans-serif\" font-size=\"12\" lengthAdjust=\"spacingAndGlyphs\" textLength=\"8\" x=\"261\" y=\"67.6543\">V</text><line style=\"stroke: #A80036; stroke-width: 1.5;\" x1=\"233\" x2=\"271\" y1=\"79.5\" y2=\"79.5\"/></a><!--MD5=[60a26617385b1d2d0262a64233df1f8d]\n",
       "class E6--><a href=\"psysml:edb93869-3e30-4330-ae7d-f0dbadb8ae6e\" target=\"_top\" title=\"psysml:edb93869-3e30-4330-ae7d-f0dbadb8ae6e\" xlink:actuate=\"onRequest\" xlink:href=\"psysml:edb93869-3e30-4330-ae7d-f0dbadb8ae6e\" xlink:show=\"new\" xlink:title=\"psysml:edb93869-3e30-4330-ae7d-f0dbadb8ae6e\" xlink:type=\"simple\"><rect fill=\"#FEFECE\" filter=\"url(#f1wv6m0zp6h750)\" height=\"45.9375\" id=\"E6\" rx=\"10\" ry=\"10\" style=\"stroke: #A80036; stroke-width: 1.5;\" width=\"100\" x=\"32\" y=\"154\"/><ellipse cx=\"47\" cy=\"172.9688\" fill=\"#FFA500\" rx=\"11\" ry=\"11\" style=\"stroke: #A80036; stroke-width: 1.0;\"/><path d=\"M42.875,174.8906 L42.875,167.0781 L45.3281,167.0781 L45.3281,175.5156 Q45.3281,176.4375 45.7969,176.9688 Q46.2813,177.5 47.1094,177.5 Q47.9531,177.5 48.4219,176.9688 Q48.8906,176.4375 48.8906,175.5156 L48.8906,167.0781 L51.3438,167.0781 L51.3438,174.8906 Q51.3438,177.4219 50.3438,178.5625 Q49.3438,179.7031 47.1094,179.7031 Q44.8906,179.7031 43.875,178.5625 Q42.875,177.4219 42.875,174.8906 Z \"/><text fill=\"#000000\" font-family=\"sans-serif\" font-size=\"12\" font-style=\"italic\" lengthAdjust=\"spacingAndGlyphs\" textLength=\"72\" x=\"59\" y=\"170.1387\">«viewpoint»</text><text fill=\"#000000\" font-family=\"sans-serif\" font-size=\"12\" lengthAdjust=\"spacingAndGlyphs\" textLength=\"38\" x=\"76\" y=\"184.1074\">vp: VP</text><line style=\"stroke: #A80036; stroke-width: 1.5;\" x1=\"33\" x2=\"131\" y1=\"191.9375\" y2=\"191.9375\"/></a><!--MD5=[2156ba9850f5573cc1fc38a6a4b2f02b]\n",
       "class E7--><a href=\"psysml:d3ad1959-ed24-48c6-b8cb-3101ea5444ce\" target=\"_top\" title=\"psysml:d3ad1959-ed24-48c6-b8cb-3101ea5444ce\" xlink:actuate=\"onRequest\" xlink:href=\"psysml:d3ad1959-ed24-48c6-b8cb-3101ea5444ce\" xlink:show=\"new\" xlink:title=\"psysml:d3ad1959-ed24-48c6-b8cb-3101ea5444ce\" xlink:type=\"simple\"><rect fill=\"#FEFECE\" filter=\"url(#f1wv6m0zp6h750)\" height=\"45.9375\" id=\"E7\" rx=\"10\" ry=\"10\" style=\"stroke: #A80036; stroke-width: 1.5;\" width=\"68\" x=\"167\" y=\"154\"/><ellipse cx=\"182\" cy=\"172.9688\" fill=\"#32CD32\" rx=\"11\" ry=\"11\" style=\"stroke: #A80036; stroke-width: 1.0;\"/><path d=\"M181.7969,168.6406 L181.7969,172.2656 L182.7969,172.2656 Q184,172.2656 184.4844,171.8594 Q184.9688,171.4531 184.9688,170.4531 Q184.9688,169.4531 184.4844,169.0469 Q184,168.6406 182.7969,168.6406 L181.7969,168.6406 Z M179.3438,166.5781 L182.7031,166.5781 Q185.2656,166.5781 186.3906,167.5 Q187.5156,168.4063 187.5156,170.4531 Q187.5156,172.5 186.3906,173.4219 Q185.2656,174.3281 182.7031,174.3281 L181.7969,174.3281 L181.7969,178.9688 L179.3438,178.9688 L179.3438,166.5781 Z \"/><text fill=\"#000000\" font-family=\"sans-serif\" font-size=\"12\" font-style=\"italic\" lengthAdjust=\"spacingAndGlyphs\" textLength=\"40\" x=\"194\" y=\"170.1387\">«part»</text><text fill=\"#000000\" font-family=\"sans-serif\" font-size=\"12\" lengthAdjust=\"spacingAndGlyphs\" textLength=\"21\" x=\"203.5\" y=\"184.1074\">r: R</text><line style=\"stroke: #A80036; stroke-width: 1.5;\" x1=\"168\" x2=\"234\" y1=\"191.9375\" y2=\"191.9375\"/></a><!--MD5=[b9389687b975829384b498ac4b7476b2]\n",
       "class E8--><a href=\"psysml:c79df832-858d-4f87-b041-227cc7f695ce\" target=\"_top\" title=\"psysml:c79df832-858d-4f87-b041-227cc7f695ce\" xlink:actuate=\"onRequest\" xlink:href=\"psysml:c79df832-858d-4f87-b041-227cc7f695ce\" xlink:show=\"new\" xlink:title=\"psysml:c79df832-858d-4f87-b041-227cc7f695ce\" xlink:type=\"simple\"><rect fill=\"#FEFECE\" filter=\"url(#f1wv6m0zp6h750)\" height=\"45.9375\" id=\"E8\" rx=\"10\" ry=\"10\" style=\"stroke: #A80036; stroke-width: 1.5;\" width=\"68\" x=\"270\" y=\"154\"/><ellipse cx=\"285\" cy=\"172.9688\" fill=\"#32CD32\" rx=\"11\" ry=\"11\" style=\"stroke: #A80036; stroke-width: 1.0;\"/><path d=\"M284.7969,168.6406 L284.7969,172.2656 L285.7969,172.2656 Q287,172.2656 287.4844,171.8594 Q287.9688,171.4531 287.9688,170.4531 Q287.9688,169.4531 287.4844,169.0469 Q287,168.6406 285.7969,168.6406 L284.7969,168.6406 Z M282.3438,166.5781 L285.7031,166.5781 Q288.2656,166.5781 289.3906,167.5 Q290.5156,168.4063 290.5156,170.4531 Q290.5156,172.5 289.3906,173.4219 Q288.2656,174.3281 285.7031,174.3281 L284.7969,174.3281 L284.7969,178.9688 L282.3438,178.9688 L282.3438,166.5781 Z \"/><text fill=\"#000000\" font-family=\"sans-serif\" font-size=\"12\" font-style=\"italic\" lengthAdjust=\"spacingAndGlyphs\" textLength=\"40\" x=\"297\" y=\"170.1387\">«part»</text><text fill=\"#000000\" font-family=\"sans-serif\" font-size=\"12\" lengthAdjust=\"spacingAndGlyphs\" textLength=\"22\" x=\"306\" y=\"184.1074\">v: V</text><line style=\"stroke: #A80036; stroke-width: 1.5;\" x1=\"271\" x2=\"337\" y1=\"191.9375\" y2=\"191.9375\"/></a><!--MD5=[fd4143e9d270a159db93a4ea2a975926]\n",
       "class E9--><a href=\"psysml:599cc28e-37a4-4871-97e7-8713776fcf23\" target=\"_top\" title=\"psysml:599cc28e-37a4-4871-97e7-8713776fcf23\" xlink:actuate=\"onRequest\" xlink:href=\"psysml:599cc28e-37a4-4871-97e7-8713776fcf23\" xlink:show=\"new\" xlink:title=\"psysml:599cc28e-37a4-4871-97e7-8713776fcf23\" xlink:type=\"simple\"><rect fill=\"#FEFECE\" filter=\"url(#f1wv6m0zp6h750)\" height=\"45.9375\" id=\"E9\" rx=\"10\" ry=\"10\" style=\"stroke: #A80036; stroke-width: 1.5;\" width=\"68\" x=\"270\" y=\"260\"/><ellipse cx=\"285\" cy=\"278.9688\" fill=\"#32CD32\" rx=\"11\" ry=\"11\" style=\"stroke: #A80036; stroke-width: 1.0;\"/><path d=\"M284.7969,274.6406 L284.7969,278.2656 L285.7969,278.2656 Q287,278.2656 287.4844,277.8594 Q287.9688,277.4531 287.9688,276.4531 Q287.9688,275.4531 287.4844,275.0469 Q287,274.6406 285.7969,274.6406 L284.7969,274.6406 Z M282.3438,272.5781 L285.7031,272.5781 Q288.2656,272.5781 289.3906,273.5 Q290.5156,274.4063 290.5156,276.4531 Q290.5156,278.5 289.3906,279.4219 Q288.2656,280.3281 285.7031,280.3281 L284.7969,280.3281 L284.7969,284.9688 L282.3438,284.9688 L282.3438,272.5781 Z \"/><text fill=\"#000000\" font-family=\"sans-serif\" font-size=\"12\" font-style=\"italic\" lengthAdjust=\"spacingAndGlyphs\" textLength=\"40\" x=\"297\" y=\"276.1387\">«part»</text><text fill=\"#000000\" font-family=\"sans-serif\" font-size=\"12\" lengthAdjust=\"spacingAndGlyphs\" textLength=\"13\" x=\"310.5\" y=\"290.1074\">r1</text><line style=\"stroke: #A80036; stroke-width: 1.5;\" x1=\"271\" x2=\"337\" y1=\"297.9375\" y2=\"297.9375\"/></a><a href=\"psysml:d8eb8e98-9fc5-4554-bb79-0a7fb3af234b\" target=\"_top\" title=\"psysml:d8eb8e98-9fc5-4554-bb79-0a7fb3af234b\" xlink:actuate=\"onRequest\" xlink:href=\"psysml:d8eb8e98-9fc5-4554-bb79-0a7fb3af234b\" xlink:show=\"new\" xlink:title=\"psysml:d8eb8e98-9fc5-4554-bb79-0a7fb3af234b\" xlink:type=\"simple\"><polygon fill=\"#FFFFFF\" filter=\"url(#f1wv6m0zp6h750)\" points=\"125,41,141,41,148,63.2969,155,63.2969,155,93.5938,125,93.5938,125,41\" style=\"stroke: #000000; stroke-width: 1.5;\"/><line style=\"stroke: #000000; stroke-width: 1.5;\" x1=\"125\" x2=\"148\" y1=\"63.2969\" y2=\"63.2969\"/><text fill=\"#000000\" font-family=\"sans-serif\" font-size=\"14\" font-weight=\"bold\" lengthAdjust=\"spacingAndGlyphs\" textLength=\"10\" x=\"129\" y=\"55.9951\">P</text></a><!--MD5=[85d356282659285ab4b2cfe2f634dd2b]\n",
       "reverse link E5 to E6--><a href=\"psysml:edb93869-3e30-4330-ae7d-f0dbadb8ae6e\" target=\"_top\" title=\"psysml:edb93869-3e30-4330-ae7d-f0dbadb8ae6e\" xlink:actuate=\"onRequest\" xlink:href=\"psysml:edb93869-3e30-4330-ae7d-f0dbadb8ae6e\" xlink:show=\"new\" xlink:title=\"psysml:edb93869-3e30-4330-ae7d-f0dbadb8ae6e\" xlink:type=\"simple\"><path d=\"M220.58,88.37 C191.18,106.96 147.35,134.67 116.89,153.94 \" fill=\"none\" id=\"E5&lt;-E6\" style=\"stroke: #A80036; stroke-width: 1.0;\"/><polygon fill=\"#A80036\" points=\"231.83,81.25,224.6209,81.0808,221.692,87.6703,228.9011,87.8395,231.83,81.25\" style=\"stroke: #A80036; stroke-width: 1.0;\"/></a><!--MD5=[a717450b82c80b9240a525fa862496af]\n",
       "link E6 to E3--><a href=\"psysml:678c28b1-b825-4869-b6db-341a5ef18df5\" target=\"_top\" title=\"psysml:678c28b1-b825-4869-b6db-341a5ef18df5\" xlink:actuate=\"onRequest\" xlink:href=\"psysml:678c28b1-b825-4869-b6db-341a5ef18df5\" xlink:show=\"new\" xlink:title=\"psysml:678c28b1-b825-4869-b6db-341a5ef18df5\" xlink:type=\"simple\"><path d=\"M84.54,200.06 C85.88,211.64 87.56,226.23 89.14,239.87 \" fill=\"none\" id=\"E6-&gt;E3\" style=\"stroke: #A80036; stroke-width: 1.0;\"/><polygon fill=\"#FFFFFF\" points=\"91.46,259.98,82.3347,241.9044,96.243,240.3046,91.46,259.98\" style=\"stroke: #A80036; stroke-width: 1.0;\"/><ellipse cx=\"83.6702\" cy=\"236.0132\" fill=\"#A80036\" rx=\"2\" ry=\"2\" style=\"stroke: #A80036; stroke-width: 1.0;\"/><ellipse cx=\"93.6047\" cy=\"234.8704\" fill=\"#A80036\" rx=\"2\" ry=\"2\" style=\"stroke: #A80036; stroke-width: 1.0;\"/></a><!--MD5=[6bdd27f9905911a7e892a3dc65cf6b7c]\n",
       "link E7 to E4--><a href=\"psysml:e01b0a28-1744-4d35-a29d-a960e4229aec\" target=\"_top\" title=\"psysml:e01b0a28-1744-4d35-a29d-a960e4229aec\" xlink:actuate=\"onRequest\" xlink:href=\"psysml:e01b0a28-1744-4d35-a29d-a960e4229aec\" xlink:show=\"new\" xlink:title=\"psysml:e01b0a28-1744-4d35-a29d-a960e4229aec\" xlink:type=\"simple\"><path d=\"M203.12,200.06 C204.32,212.48 205.84,228.37 207.23,242.84 \" fill=\"none\" id=\"E7-&gt;E4\" style=\"stroke: #A80036; stroke-width: 1.0;\"/><polygon fill=\"#FFFFFF\" points=\"209.15,262.77,200.3629,244.5276,214.2985,243.187,209.15,262.77\" style=\"stroke: #A80036; stroke-width: 1.0;\"/><ellipse cx=\"201.8079\" cy=\"238.6623\" fill=\"#A80036\" rx=\"2\" ry=\"2\" style=\"stroke: #A80036; stroke-width: 1.0;\"/><ellipse cx=\"211.7619\" cy=\"237.7047\" fill=\"#A80036\" rx=\"2\" ry=\"2\" style=\"stroke: #A80036; stroke-width: 1.0;\"/></a><!--MD5=[452b418e7f8a40397a49b8c0a78acc5b]\n",
       "reverse link E5 to E7--><a href=\"psysml:d3ad1959-ed24-48c6-b8cb-3101ea5444ce\" target=\"_top\" title=\"psysml:d3ad1959-ed24-48c6-b8cb-3101ea5444ce\" xlink:actuate=\"onRequest\" xlink:href=\"psysml:d3ad1959-ed24-48c6-b8cb-3101ea5444ce\" xlink:show=\"new\" xlink:title=\"psysml:d3ad1959-ed24-48c6-b8cb-3101ea5444ce\" xlink:type=\"simple\"><path d=\"M237.26,99.58 C228.99,116.99 218.89,138.3 211.45,153.98 \" fill=\"none\" id=\"E5&lt;-E7\" style=\"stroke: #A80036; stroke-width: 1.0;\"/><polygon fill=\"#A80036\" points=\"242.88,87.72,236.6942,91.4262,237.7362,98.5616,243.922,94.8554,242.88,87.72\" style=\"stroke: #A80036; stroke-width: 1.0;\"/><text fill=\"#000000\" font-family=\"sans-serif\" font-size=\"13\" lengthAdjust=\"spacingAndGlyphs\" textLength=\"24\" x=\"187.0334\" y=\"142.8709\">0..1</text></a><!--MD5=[1ccb2481ffa92f8d51a74ee30c51832a]\n",
       "link E8 to E5--><a href=\"psysml:3896f3dd-ac25-48cd-93fb-dac3b3d02068\" target=\"_top\" title=\"psysml:3896f3dd-ac25-48cd-93fb-dac3b3d02068\" xlink:actuate=\"onRequest\" xlink:href=\"psysml:3896f3dd-ac25-48cd-93fb-dac3b3d02068\" xlink:show=\"new\" xlink:title=\"psysml:3896f3dd-ac25-48cd-93fb-dac3b3d02068\" xlink:type=\"simple\"><path d=\"M304.49,153.98 C300.07,139.89 291.63,121.28 282.53,105.01 \" fill=\"none\" id=\"E8-&gt;E5\" style=\"stroke: #A80036; stroke-width: 1.0;\"/><polygon fill=\"#FFFFFF\" points=\"271.93,87.72,287.8284,100.2596,275.8928,107.5769,271.93,87.72\" style=\"stroke: #A80036; stroke-width: 1.0;\"/><ellipse cx=\"289.1025\" cy=\"106.1644\" fill=\"#A80036\" rx=\"2\" ry=\"2\" style=\"stroke: #A80036; stroke-width: 1.0;\"/><ellipse cx=\"280.5771\" cy=\"111.391\" fill=\"#A80036\" rx=\"2\" ry=\"2\" style=\"stroke: #A80036; stroke-width: 1.0;\"/></a><!--MD5=[827760032d119d06bbc92f75530fd7ae]\n",
       "reverse link E5 to E8--><a href=\"psysml:c79df832-858d-4f87-b041-227cc7f695ce\" target=\"_top\" title=\"psysml:c79df832-858d-4f87-b041-227cc7f695ce\" xlink:actuate=\"onRequest\" xlink:href=\"psysml:c79df832-858d-4f87-b041-227cc7f695ce\" xlink:show=\"new\" xlink:title=\"psysml:c79df832-858d-4f87-b041-227cc7f695ce\" xlink:type=\"simple\"><path d=\"M255.55,100.09 C262.24,117.41 272.82,138.45 282.83,153.98 \" fill=\"none\" id=\"E5&lt;-E8\" style=\"stroke: #A80036; stroke-width: 1.0;\"/><polygon fill=\"#A80036\" points=\"251.26,87.72,249.4475,94.6996,255.193,99.0572,257.0056,92.0776,251.26,87.72\" style=\"stroke: #A80036; stroke-width: 1.0;\"/><text fill=\"#000000\" font-family=\"sans-serif\" font-size=\"13\" lengthAdjust=\"spacingAndGlyphs\" textLength=\"7\" x=\"269.1999\" y=\"142.8709\">*</text></a><!--MD5=[22f5b4bae7e060dce8a1c8021efdb95b]\n",
       "reverse link E8 to E9--><a href=\"psysml:599cc28e-37a4-4871-97e7-8713776fcf23\" target=\"_top\" title=\"psysml:599cc28e-37a4-4871-97e7-8713776fcf23\" xlink:actuate=\"onRequest\" xlink:href=\"psysml:599cc28e-37a4-4871-97e7-8713776fcf23\" xlink:show=\"new\" xlink:title=\"psysml:599cc28e-37a4-4871-97e7-8713776fcf23\" xlink:type=\"simple\"><path d=\"M304,213.44 C304,228.87 304,246.47 304,259.98 \" fill=\"none\" id=\"E8&lt;-E9\" style=\"stroke: #A80036; stroke-width: 1.0;\"/><polygon fill=\"#A80036\" points=\"304,200.06,300,206.06,304,212.06,308,206.06,304,200.06\" style=\"stroke: #A80036; stroke-width: 1.0;\"/></a><!--MD5=[c679940c5ac5bec0c9f0cc46eb8c39c3]\n",
       "@startuml\r\n",
       " \r\n",
       "package \"ViewTest\" as E1  [[psysml:68a4efc3-4169-49c4-b08f-98091c4bc0be ]]  {\r\n",
       "package \"P\" as E2  [[psysml:d8eb8e98-9fc5-4554-bb79-0a7fb3af234b ]]  {\r\n",
       "}\r\n",
       "comp def \"VP\" as E3  <<(D,brown)viewpoint def>> [[psysml:0e16ef0b-675e-475c-a6ab-030697702310 ]] {\r\n",
       "}\r\n",
       "comp def \"R\" as E4  << (B,green) >> [[psysml:80b9aeea-925b-4b3a-8c84-ce381a5e60ed ]] {\r\n",
       "}\r\n",
       "comp def \"V\" as E5  << (B,green) >> [[psysml:fa67c82a-cf4c-4211-8405-b886e7fced61 ]] {\r\n",
       "}\r\n",
       "comp usage \"vp: VP\" as E6  <<(U,orange)viewpoint>> [[psysml:edb93869-3e30-4330-ae7d-f0dbadb8ae6e ]] {\r\n",
       "}\r\n",
       "comp usage \"r: R\" as E7  << (P,limegreen) part>> [[psysml:d3ad1959-ed24-48c6-b8cb-3101ea5444ce ]] {\r\n",
       "}\r\n",
       "comp usage \"v: V\" as E8  << (P,limegreen) part>> [[psysml:c79df832-858d-4f87-b041-227cc7f695ce ]] {\r\n",
       "}\r\n",
       "comp usage \"r1\" as E9  << (P,limegreen) part>> [[psysml:599cc28e-37a4-4871-97e7-8713776fcf23 ]] {\r\n",
       "}\r\n",
       "E5 *- - E6 [[psysml:edb93869-3e30-4330-ae7d-f0dbadb8ae6e ]] \r\n",
       "E6 - -:|> E3 [[psysml:678c28b1-b825-4869-b6db-341a5ef18df5 ]] \r\n",
       "E7 - -:|> E4 [[psysml:e01b0a28-1744-4d35-a29d-a960e4229aec ]] \r\n",
       "E5 *- - \"0..1\"E7 [[psysml:d3ad1959-ed24-48c6-b8cb-3101ea5444ce ]] \r\n",
       "E8 - -:|> E5 [[psysml:3896f3dd-ac25-48cd-93fb-dac3b3d02068 ]] \r\n",
       "E5 *- - \"*\"E8 [[psysml:c79df832-858d-4f87-b041-227cc7f695ce ]] \r\n",
       "E8 *- - E9 [[psysml:599cc28e-37a4-4871-97e7-8713776fcf23 ]] \r\n",
       "}\r\n",
       "@enduml\r\n",
       "\n",
       "PlantUML version 1.2020.13(Sat Jun 13 12:26:38 UTC 2020)\n",
       "(EPL source distribution)\n",
       "Java Runtime: OpenJDK Runtime Environment\n",
       "JVM: OpenJDK 64-Bit Server VM\n",
       "Default Encoding: UTF-8\n",
       "Language: en\n",
       "Country: null\n",
       "--></g></svg>"
      ]
     },
     "execution_count": 31,
     "metadata": {},
     "output_type": "execute_result"
    }
   ],
   "source": [
    "%viz --style=\"PLANTUML\" --view=\"Tree\" \"ViewTest\""
   ]
  },
  {
   "cell_type": "code",
   "execution_count": 32,
   "id": "arabic-stupid",
   "metadata": {
    "execution": {
     "iopub.execute_input": "2021-03-25T15:10:04.505224Z",
     "iopub.status.busy": "2021-03-25T15:10:04.504518Z",
     "iopub.status.idle": "2021-03-25T15:10:05.348734Z",
     "shell.execute_reply": "2021-03-25T15:10:05.349130Z"
    }
   },
   "outputs": [
    {
     "data": {
      "image/svg+xml": [
       "<?xml version=\"1.0\" encoding=\"UTF-8\" standalone=\"no\"?><svg xmlns=\"http://www.w3.org/2000/svg\" xmlns:xlink=\"http://www.w3.org/1999/xlink\" contentScriptType=\"application/ecmascript\" contentStyleType=\"text/css\" height=\"303px\" preserveAspectRatio=\"none\" style=\"width:603px;height:303px;background:#000000;\" version=\"1.1\" viewBox=\"0 0 603 303\" width=\"603px\" zoomAndPan=\"magnify\"><defs/><g><rect fill=\"#052415\" height=\"1\" style=\"stroke: #052415; stroke-width: 1.0;\" width=\"1\" x=\"0\" y=\"0\"/><rect fill=\"#FFFFFF\" height=\"205.5625\" style=\"stroke: #FFFFFF; stroke-width: 1.0;\" width=\"602\" x=\"0\" y=\"0\"/><text fill=\"#000000\" font-family=\"sans-serif\" font-size=\"12\" font-weight=\"bold\" lengthAdjust=\"spacingAndGlyphs\" textLength=\"159\" x=\"5\" y=\"16.1387\">Welcome to PlantUML!</text><text fill=\"#000000\" font-family=\"sans-serif\" font-size=\"12\" lengthAdjust=\"spacingAndGlyphs\" textLength=\"0\" x=\"9\" y=\"30.1074\"/><text fill=\"#000000\" font-family=\"sans-serif\" font-size=\"12\" lengthAdjust=\"spacingAndGlyphs\" textLength=\"293\" x=\"5\" y=\"44.0762\">If you use this software, you accept its license.</text><text fill=\"#000000\" font-family=\"sans-serif\" font-size=\"12\" lengthAdjust=\"spacingAndGlyphs\" textLength=\"107\" x=\"5\" y=\"58.0449\">(details by typing</text><text fill=\"#000000\" font-family=\"monospace\" font-size=\"12\" lengthAdjust=\"spacingAndGlyphs\" textLength=\"49\" x=\"116\" y=\"58.0449\">license</text><text fill=\"#000000\" font-family=\"sans-serif\" font-size=\"12\" lengthAdjust=\"spacingAndGlyphs\" textLength=\"56\" x=\"169\" y=\"58.0449\">keyword)</text><text fill=\"#000000\" font-family=\"sans-serif\" font-size=\"12\" lengthAdjust=\"spacingAndGlyphs\" textLength=\"0\" x=\"9\" y=\"72.0137\"/><text fill=\"#000000\" font-family=\"sans-serif\" font-size=\"12\" lengthAdjust=\"spacingAndGlyphs\" textLength=\"283\" x=\"5\" y=\"85.9824\">You can start with a simple UML Diagram like:</text><text fill=\"#000000\" font-family=\"sans-serif\" font-size=\"12\" lengthAdjust=\"spacingAndGlyphs\" textLength=\"0\" x=\"9\" y=\"99.9512\"/><text fill=\"#000000\" font-family=\"monospace\" font-size=\"12\" lengthAdjust=\"spacingAndGlyphs\" textLength=\"119\" x=\"5\" y=\"113.9199\">Bob-&gt;Alice: Hello</text><text fill=\"#000000\" font-family=\"sans-serif\" font-size=\"12\" lengthAdjust=\"spacingAndGlyphs\" textLength=\"0\" x=\"9\" y=\"127.8887\"/><text fill=\"#000000\" font-family=\"sans-serif\" font-size=\"12\" lengthAdjust=\"spacingAndGlyphs\" textLength=\"14\" x=\"5\" y=\"141.8574\">Or</text><text fill=\"#000000\" font-family=\"sans-serif\" font-size=\"12\" lengthAdjust=\"spacingAndGlyphs\" textLength=\"0\" x=\"9\" y=\"155.8262\"/><text fill=\"#000000\" font-family=\"monospace\" font-size=\"12\" lengthAdjust=\"spacingAndGlyphs\" textLength=\"91\" x=\"5\" y=\"169.7949\">class Example</text><text fill=\"#000000\" font-family=\"sans-serif\" font-size=\"12\" lengthAdjust=\"spacingAndGlyphs\" textLength=\"0\" x=\"9\" y=\"183.7637\"/><text fill=\"#000000\" font-family=\"sans-serif\" font-size=\"12\" lengthAdjust=\"spacingAndGlyphs\" textLength=\"349\" x=\"5\" y=\"197.7324\">You will find more information about PlantUML syntax on</text><text fill=\"#000000\" font-family=\"sans-serif\" font-size=\"12\" lengthAdjust=\"spacingAndGlyphs\" text-decoration=\"underline\" textLength=\"129\" x=\"358\" y=\"197.7324\">https://plantuml.com</text><image height=\"71\" width=\"80\" x=\"516\" xlink:href=\"data:image/png;base64,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\" y=\"6\"/><rect fill=\"#000000\" height=\"96.4844\" style=\"stroke: #000000; stroke-width: 1.0;\" width=\"602\" x=\"0\" y=\"205.5625\"/><rect fill=\"#33FF02\" height=\"21.2969\" style=\"stroke: #33FF02; stroke-width: 1.0;\" width=\"170\" x=\"5\" y=\"210.5625\"/><text fill=\"#000000\" font-family=\"sans-serif\" font-size=\"14\" font-weight=\"bold\" lengthAdjust=\"spacingAndGlyphs\" textLength=\"168\" x=\"6\" y=\"225.5625\">[From string (line 2) ]</text><text fill=\"#33FF02\" font-family=\"sans-serif\" font-size=\"14\" font-weight=\"bold\" lengthAdjust=\"spacingAndGlyphs\" textLength=\"0\" x=\"10\" y=\"245.8594\"/><text fill=\"#33FF02\" font-family=\"sans-serif\" font-size=\"14\" font-weight=\"bold\" lengthAdjust=\"spacingAndGlyphs\" textLength=\"79\" x=\"5\" y=\"262.1563\">@startuml</text><text fill=\"#33FF02\" font-family=\"sans-serif\" font-size=\"14\" font-weight=\"bold\" lengthAdjust=\"spacingAndGlyphs\" textLength=\"0\" x=\"10\" y=\"278.4531\"/><text fill=\"#FF0000\" font-family=\"sans-serif\" font-size=\"14\" font-weight=\"bold\" lengthAdjust=\"spacingAndGlyphs\" textLength=\"142\" x=\"10\" y=\"294.75\">Empty description</text><!--MD5=[f59edd8218d337f74d0c332fc6737304]\n",
       "@startuml\r\n",
       " \r\n",
       "@enduml\r\n",
       "\n",
       "PlantUML version 1.2020.13(Sat Jun 13 12:26:38 UTC 2020)\n",
       "(EPL source distribution)\n",
       "Java Runtime: OpenJDK Runtime Environment\n",
       "JVM: OpenJDK 64-Bit Server VM\n",
       "Default Encoding: UTF-8\n",
       "Language: en\n",
       "Country: null\n",
       "--></g></svg>"
      ]
     },
     "execution_count": 32,
     "metadata": {},
     "output_type": "execute_result"
    }
   ],
   "source": [
    "%viz --style=\"PLANTUML\" --view=\"State\" \"ViewTest\""
   ]
  },
  {
   "cell_type": "code",
   "execution_count": 33,
   "id": "white-lobby",
   "metadata": {
    "execution": {
     "iopub.execute_input": "2021-03-25T15:10:05.400520Z",
     "iopub.status.busy": "2021-03-25T15:10:05.400009Z",
     "iopub.status.idle": "2021-03-25T15:10:05.506365Z",
     "shell.execute_reply": "2021-03-25T15:10:05.504891Z"
    }
   },
   "outputs": [
    {
     "data": {
      "image/svg+xml": [
       "<?xml version=\"1.0\" encoding=\"UTF-8\" standalone=\"no\"?><svg xmlns=\"http://www.w3.org/2000/svg\" xmlns:xlink=\"http://www.w3.org/1999/xlink\" contentScriptType=\"application/ecmascript\" contentStyleType=\"text/css\" height=\"262px\" preserveAspectRatio=\"none\" style=\"width:795px;height:262px;\" version=\"1.1\" viewBox=\"0 0 795 262\" width=\"795px\" zoomAndPan=\"magnify\"><defs><filter height=\"300%\" id=\"fjestk7q6nokd\" width=\"300%\" x=\"-1\" y=\"-1\"><feGaussianBlur result=\"blurOut\" stdDeviation=\"2.0\"/><feColorMatrix in=\"blurOut\" result=\"blurOut2\" type=\"matrix\" values=\"0 0 0 0 0 0 0 0 0 0 0 0 0 0 0 0 0 0 .4 0\"/><feOffset dx=\"4.0\" dy=\"4.0\" in=\"blurOut2\" result=\"blurOut3\"/><feBlend in=\"SourceGraphic\" in2=\"blurOut3\" mode=\"normal\"/></filter></defs><g><!--MD5=[fbc87193dbaf4d95561dea2c320d4a47]\n",
       "cluster E1--><a href=\"psysml:68a4efc3-4169-49c4-b08f-98091c4bc0be\" target=\"_top\" title=\"psysml:68a4efc3-4169-49c4-b08f-98091c4bc0be\" xlink:actuate=\"onRequest\" xlink:href=\"psysml:68a4efc3-4169-49c4-b08f-98091c4bc0be\" xlink:show=\"new\" xlink:title=\"psysml:68a4efc3-4169-49c4-b08f-98091c4bc0be\" xlink:type=\"simple\"><polygon fill=\"#FFFFFF\" filter=\"url(#fjestk7q6nokd)\" points=\"16,6,96,6,103,28.2969,773,28.2969,773,250,16,250,16,6\" style=\"stroke: #000000; stroke-width: 1.5;\"/><line style=\"stroke: #000000; stroke-width: 1.5;\" x1=\"16\" x2=\"103\" y1=\"28.2969\" y2=\"28.2969\"/><text fill=\"#000000\" font-family=\"sans-serif\" font-size=\"14\" font-weight=\"bold\" lengthAdjust=\"spacingAndGlyphs\" textLength=\"74\" x=\"20\" y=\"20.9951\">ViewTest</text></a><!--MD5=[de5ec2e2e8f62f467e546659f5068c88]\n",
       "cluster E5--><a href=\"psysml:fa67c82a-cf4c-4211-8405-b886e7fced61\" target=\"_top\" title=\"psysml:fa67c82a-cf4c-4211-8405-b886e7fced61\" xlink:actuate=\"onRequest\" xlink:href=\"psysml:fa67c82a-cf4c-4211-8405-b886e7fced61\" xlink:show=\"new\" xlink:title=\"psysml:fa67c82a-cf4c-4211-8405-b886e7fced61\" xlink:type=\"simple\"><rect fill=\"#FFFFFF\" filter=\"url(#fjestk7q6nokd)\" height=\"177\" id=\"E5\" style=\"stroke: #A80036; stroke-width: 1.5;\" width=\"363\" x=\"386\" y=\"49\"/><rect fill=\"#FEFECE\" height=\"23.9688\" style=\"stroke: #A80036; stroke-width: 1.5;\" width=\"363\" x=\"386\" y=\"49\"/><text fill=\"#000000\" font-family=\"sans-serif\" font-size=\"12\" lengthAdjust=\"spacingAndGlyphs\" textLength=\"8\" x=\"563.5\" y=\"65.1387\">V</text></a><!--MD5=[14e3b0961a2654348d326746436168a1]\n",
       "cluster E6--><a href=\"psysml:edb93869-3e30-4330-ae7d-f0dbadb8ae6e\" target=\"_top\" title=\"psysml:edb93869-3e30-4330-ae7d-f0dbadb8ae6e\" xlink:actuate=\"onRequest\" xlink:href=\"psysml:edb93869-3e30-4330-ae7d-f0dbadb8ae6e\" xlink:show=\"new\" xlink:title=\"psysml:edb93869-3e30-4330-ae7d-f0dbadb8ae6e\" xlink:type=\"simple\"><rect fill=\"#FFFFFF\" filter=\"url(#fjestk7q6nokd)\" height=\"110\" id=\"E6\" rx=\"10\" ry=\"10\" style=\"stroke: #A80036; stroke-width: 1.5;\" width=\"140\" x=\"585\" y=\"92\"/><rect fill=\"#FEFECE\" height=\"37.9375\" rx=\"10\" ry=\"10\" style=\"stroke: #FEFECE; stroke-width: 1.5;\" width=\"140\" x=\"585\" y=\"92\"/><rect fill=\"#FEFECE\" height=\"10\" style=\"stroke: #FEFECE; stroke-width: 1.5;\" width=\"140\" x=\"585\" y=\"119.9375\"/><rect fill=\"none\" height=\"110\" id=\"E6\" rx=\"10\" ry=\"10\" style=\"stroke: #A80036; stroke-width: 1.5;\" width=\"140\" x=\"585\" y=\"92\"/><text fill=\"#000000\" font-family=\"sans-serif\" font-size=\"12\" font-style=\"italic\" lengthAdjust=\"spacingAndGlyphs\" textLength=\"72\" x=\"619\" y=\"108.1387\">«viewpoint»</text><text fill=\"#000000\" font-family=\"sans-serif\" font-size=\"12\" lengthAdjust=\"spacingAndGlyphs\" textLength=\"38\" x=\"636\" y=\"122.1074\">vp: VP</text><line style=\"stroke: #A80036; stroke-width: 1.0;\" x1=\"585\" x2=\"725\" y1=\"129.9375\" y2=\"129.9375\"/></a><!--MD5=[7f149f147074ac12df2cb0a7728a5fb0]\n",
       "cluster E9--><a href=\"psysml:c79df832-858d-4f87-b041-227cc7f695ce\" target=\"_top\" title=\"psysml:c79df832-858d-4f87-b041-227cc7f695ce\" xlink:actuate=\"onRequest\" xlink:href=\"psysml:c79df832-858d-4f87-b041-227cc7f695ce\" xlink:show=\"new\" xlink:title=\"psysml:c79df832-858d-4f87-b041-227cc7f695ce\" xlink:type=\"simple\"><rect fill=\"#FFFFFF\" filter=\"url(#fjestk7q6nokd)\" height=\"91\" id=\"E9\" rx=\"10\" ry=\"10\" style=\"stroke: #A80036; stroke-width: 1.5;\" width=\"82\" x=\"479\" y=\"109.5\"/><rect fill=\"#FEFECE\" height=\"23.9688\" rx=\"10\" ry=\"10\" style=\"stroke: #FEFECE; stroke-width: 1.5;\" width=\"82\" x=\"479\" y=\"109.5\"/><rect fill=\"#FEFECE\" height=\"10\" style=\"stroke: #FEFECE; stroke-width: 1.5;\" width=\"82\" x=\"479\" y=\"123.4688\"/><rect fill=\"none\" height=\"91\" id=\"E9\" rx=\"10\" ry=\"10\" style=\"stroke: #A80036; stroke-width: 1.5;\" width=\"82\" x=\"479\" y=\"109.5\"/><text fill=\"#000000\" font-family=\"sans-serif\" font-size=\"12\" lengthAdjust=\"spacingAndGlyphs\" textLength=\"22\" x=\"509\" y=\"125.6387\">v: V</text><line style=\"stroke: #A80036; stroke-width: 1.0;\" x1=\"479\" x2=\"561\" y1=\"133.4688\" y2=\"133.4688\"/></a><!--MD5=[09b614a08d8cba4a07c9adeb5e0fee81]\n",
       "class E3--><a href=\"psysml:0e16ef0b-675e-475c-a6ab-030697702310\" target=\"_top\" title=\"psysml:0e16ef0b-675e-475c-a6ab-030697702310\" xlink:actuate=\"onRequest\" xlink:href=\"psysml:0e16ef0b-675e-475c-a6ab-030697702310\" xlink:show=\"new\" xlink:title=\"psysml:0e16ef0b-675e-475c-a6ab-030697702310\" xlink:type=\"simple\"><rect fill=\"#FEFECE\" filter=\"url(#fjestk7q6nokd)\" height=\"53.9375\" id=\"E3\" style=\"stroke: #A80036; stroke-width: 1.5;\" width=\"185\" x=\"182.5\" y=\"137.5\"/><ellipse cx=\"197.5\" cy=\"156.4688\" fill=\"#ADD1B2\" rx=\"11\" ry=\"11\" style=\"stroke: #A80036; stroke-width: 1.0;\"/><path d=\"M200.4688,162.1094 Q199.8906,162.4063 199.25,162.5469 Q198.6094,162.7031 197.9063,162.7031 Q195.4063,162.7031 194.0781,161.0625 Q192.7656,159.4063 192.7656,156.2813 Q192.7656,153.1563 194.0781,151.5 Q195.4063,149.8438 197.9063,149.8438 Q198.6094,149.8438 199.25,150 Q199.9063,150.1563 200.4688,150.4531 L200.4688,153.1719 Q199.8438,152.5938 199.25,152.3281 Q198.6563,152.0469 198.0313,152.0469 Q196.6875,152.0469 196,153.125 Q195.3125,154.1875 195.3125,156.2813 Q195.3125,158.375 196,159.4531 Q196.6875,160.5156 198.0313,160.5156 Q198.6563,160.5156 199.25,160.25 Q199.8438,159.9688 200.4688,159.3906 L200.4688,162.1094 Z \"/><text fill=\"#000000\" font-family=\"sans-serif\" font-size=\"12\" font-style=\"italic\" lengthAdjust=\"spacingAndGlyphs\" textLength=\"157\" x=\"209.5\" y=\"153.6387\">«(D,brown)viewpoint def»</text><text fill=\"#000000\" font-family=\"sans-serif\" font-size=\"12\" lengthAdjust=\"spacingAndGlyphs\" textLength=\"16\" x=\"280\" y=\"167.6074\">VP</text><line style=\"stroke: #A80036; stroke-width: 1.5;\" x1=\"183.5\" x2=\"366.5\" y1=\"175.4375\" y2=\"175.4375\"/><line style=\"stroke: #A80036; stroke-width: 1.5;\" x1=\"183.5\" x2=\"366.5\" y1=\"183.4375\" y2=\"183.4375\"/></a><a href=\"psysml:d8eb8e98-9fc5-4554-bb79-0a7fb3af234b\" target=\"_top\" title=\"psysml:d8eb8e98-9fc5-4554-bb79-0a7fb3af234b\" xlink:actuate=\"onRequest\" xlink:href=\"psysml:d8eb8e98-9fc5-4554-bb79-0a7fb3af234b\" xlink:show=\"new\" xlink:title=\"psysml:d8eb8e98-9fc5-4554-bb79-0a7fb3af234b\" xlink:type=\"simple\"><polygon fill=\"#FFFFFF\" filter=\"url(#fjestk7q6nokd)\" points=\"117,138,133,138,140,160.2969,147,160.2969,147,190.5938,117,190.5938,117,138\" style=\"stroke: #000000; stroke-width: 1.5;\"/><line style=\"stroke: #000000; stroke-width: 1.5;\" x1=\"117\" x2=\"140\" y1=\"160.2969\" y2=\"160.2969\"/><text fill=\"#000000\" font-family=\"sans-serif\" font-size=\"14\" font-weight=\"bold\" lengthAdjust=\"spacingAndGlyphs\" textLength=\"10\" x=\"121\" y=\"152.9951\">P</text></a><g id=\"E1.E4\"><a href=\"psysml:80b9aeea-925b-4b3a-8c84-ce381a5e60ed\" target=\"_top\" title=\"psysml:80b9aeea-925b-4b3a-8c84-ce381a5e60ed\" xlink:actuate=\"onRequest\" xlink:href=\"psysml:80b9aeea-925b-4b3a-8c84-ce381a5e60ed\" xlink:show=\"new\" xlink:title=\"psysml:80b9aeea-925b-4b3a-8c84-ce381a5e60ed\" xlink:type=\"simple\"><rect fill=\"#FEFECE\" filter=\"url(#fjestk7q6nokd)\" height=\"40\" id=\"E4\" style=\"stroke: #A80036; stroke-width: 1.5;\" width=\"50\" x=\"32\" y=\"144.5\"/><ellipse cx=\"51.5\" cy=\"160.5\" fill=\"#008000\" rx=\"11\" ry=\"11\" style=\"stroke: #A80036; stroke-width: 1.0;\"/><path d=\"M50.4063,160.875 L50.4063,164.5469 L52.0313,164.5469 Q53.2031,164.5469 53.6719,164.1563 Q54.1406,163.75 54.1406,162.75 Q54.1406,161.75 53.6406,161.3125 Q53.1563,160.875 52.0313,160.875 L50.4063,160.875 Z M50.4063,156.0469 L50.4063,158.9219 L52.0313,158.9219 Q52.9531,158.9219 53.3438,158.5938 Q53.75,158.25 53.75,157.5 Q53.75,156.7344 53.3438,156.3906 Q52.9375,156.0469 52.0313,156.0469 L50.4063,156.0469 Z M48.0313,154.0938 L52.0313,154.0938 Q54.0938,154.0938 55.1406,154.875 Q56.1875,155.6563 56.1875,157.2188 Q56.1875,158.4219 55.5625,159.0938 Q54.9531,159.7656 53.7656,159.875 Q55.1875,160.0156 55.9063,160.8281 Q56.625,161.6406 56.625,163.0938 Q56.625,164.8906 55.5469,165.7031 Q54.4688,166.5 52.0313,166.5 L48.0313,166.5 L48.0313,154.0938 Z \"/><text fill=\"#000000\" font-family=\"sans-serif\" font-size=\"12\" lengthAdjust=\"spacingAndGlyphs\" textLength=\"8\" x=\"66.5\" y=\"164.6543\">R</text></a></g><g id=\"E1.E5.E6.E7\"><a href=\"psysml:df90ec85-1f95-42f9-8740-37e2136842a3\" target=\"_top\" title=\"psysml:df90ec85-1f95-42f9-8740-37e2136842a3\" xlink:actuate=\"onRequest\" xlink:href=\"psysml:df90ec85-1f95-42f9-8740-37e2136842a3\" xlink:show=\"new\" xlink:title=\"psysml:df90ec85-1f95-42f9-8740-37e2136842a3\" xlink:type=\"simple\"><rect fill=\"#FEFECE\" filter=\"url(#fjestk7q6nokd)\" height=\"42.9375\" id=\"E7\" rx=\"10\" ry=\"10\" style=\"stroke: #A80036; stroke-width: 1.5;\" width=\"108\" x=\"601\" y=\"143\"/><ellipse cx=\"618.25\" cy=\"161.9688\" fill=\"#FFA500\" rx=\"11\" ry=\"11\" style=\"stroke: #A80036; stroke-width: 1.0;\"/><path d=\"M614.125,163.8906 L614.125,156.0781 L616.5781,156.0781 L616.5781,164.5156 Q616.5781,165.4375 617.0469,165.9688 Q617.5313,166.5 618.3594,166.5 Q619.2031,166.5 619.6719,165.9688 Q620.1406,165.4375 620.1406,164.5156 L620.1406,156.0781 L622.5938,156.0781 L622.5938,163.8906 Q622.5938,166.4219 621.5938,167.5625 Q620.5938,168.7031 618.3594,168.7031 Q616.1406,168.7031 615.125,167.5625 Q614.125,166.4219 614.125,163.8906 Z \"/><text fill=\"#000000\" font-family=\"sans-serif\" font-size=\"12\" font-style=\"italic\" lengthAdjust=\"spacingAndGlyphs\" textLength=\"75\" x=\"630.75\" y=\"159.1387\">«reference»</text><text fill=\"#000000\" font-family=\"sans-serif\" font-size=\"12\" lengthAdjust=\"spacingAndGlyphs\" textLength=\"26\" x=\"655.25\" y=\"173.1074\">subj</text></a></g><g id=\"E1.E5.E8\"><a href=\"psysml:d3ad1959-ed24-48c6-b8cb-3101ea5444ce\" target=\"_top\" title=\"psysml:d3ad1959-ed24-48c6-b8cb-3101ea5444ce\" xlink:actuate=\"onRequest\" xlink:href=\"psysml:d3ad1959-ed24-48c6-b8cb-3101ea5444ce\" xlink:show=\"new\" xlink:title=\"psysml:d3ad1959-ed24-48c6-b8cb-3101ea5444ce\" xlink:type=\"simple\"><rect fill=\"#FEFECE\" filter=\"url(#fjestk7q6nokd)\" height=\"40\" id=\"E8\" rx=\"10\" ry=\"10\" style=\"stroke: #A80036; stroke-width: 1.5;\" width=\"58\" x=\"402\" y=\"144.5\"/><ellipse cx=\"419.25\" cy=\"160.5\" fill=\"#B6DBBB\" rx=\"11\" ry=\"11\" style=\"stroke: #A80036; stroke-width: 1.0;\"/><path d=\"M415.125,162.4219 L415.125,154.6094 L417.5781,154.6094 L417.5781,163.0469 Q417.5781,163.9688 418.0469,164.5 Q418.5313,165.0313 419.3594,165.0313 Q420.2031,165.0313 420.6719,164.5 Q421.1406,163.9688 421.1406,163.0469 L421.1406,154.6094 L423.5938,154.6094 L423.5938,162.4219 Q423.5938,164.9531 422.5938,166.0938 Q421.5938,167.2344 419.3594,167.2344 Q417.1406,167.2344 416.125,166.0938 Q415.125,164.9531 415.125,162.4219 Z \"/><text fill=\"#000000\" font-family=\"sans-serif\" font-size=\"12\" lengthAdjust=\"spacingAndGlyphs\" textLength=\"21\" x=\"433.75\" y=\"164.6543\">r: R</text></a></g><g id=\"E1.E5.E9.E10\"><a href=\"psysml:599cc28e-37a4-4871-97e7-8713776fcf23\" target=\"_top\" title=\"psysml:599cc28e-37a4-4871-97e7-8713776fcf23\" xlink:actuate=\"onRequest\" xlink:href=\"psysml:599cc28e-37a4-4871-97e7-8713776fcf23\" xlink:show=\"new\" xlink:title=\"psysml:599cc28e-37a4-4871-97e7-8713776fcf23\" xlink:type=\"simple\"><rect fill=\"#FEFECE\" filter=\"url(#fjestk7q6nokd)\" height=\"40\" id=\"E10\" rx=\"10\" ry=\"10\" style=\"stroke: #A80036; stroke-width: 1.5;\" width=\"50\" x=\"495\" y=\"144.5\"/><ellipse cx=\"512.25\" cy=\"160.5\" fill=\"#B6DBBB\" rx=\"11\" ry=\"11\" style=\"stroke: #A80036; stroke-width: 1.0;\"/><path d=\"M508.125,162.4219 L508.125,154.6094 L510.5781,154.6094 L510.5781,163.0469 Q510.5781,163.9688 511.0469,164.5 Q511.5313,165.0313 512.3594,165.0313 Q513.2031,165.0313 513.6719,164.5 Q514.1406,163.9688 514.1406,163.0469 L514.1406,154.6094 L516.5938,154.6094 L516.5938,162.4219 Q516.5938,164.9531 515.5938,166.0938 Q514.5938,167.2344 512.3594,167.2344 Q510.1406,167.2344 509.125,166.0938 Q508.125,164.9531 508.125,162.4219 Z \"/><text fill=\"#000000\" font-family=\"sans-serif\" font-size=\"12\" lengthAdjust=\"spacingAndGlyphs\" textLength=\"13\" x=\"526.75\" y=\"164.6543\">r1</text></a></g><!--MD5=[f776edc8471c2a6c683510a17dae1d23]\n",
       "@startuml\r\n",
       "skinparam ranksep 8\r\n",
       "skinparam rectangle {\r\n",
       " backgroundColor<<block>> LightGreen\r\n",
       "}\r\n",
       " \r\n",
       "package \"ViewTest\" as E1  [[psysml:68a4efc3-4169-49c4-b08f-98091c4bc0be ]]  {\r\n",
       "package \"P\" as E2  [[psysml:d8eb8e98-9fc5-4554-bb79-0a7fb3af234b ]]  {\r\n",
       "}\r\n",
       "def \"VP\" as E3  <<(D,brown)viewpoint def>> [[psysml:0e16ef0b-675e-475c-a6ab-030697702310 ]] \r\n",
       "rec def \"R\" as E4  << (B,green) >> [[psysml:80b9aeea-925b-4b3a-8c84-ce381a5e60ed ]] {\r\n",
       "}\r\n",
       "rec def \"V\" as E5  << (B,green) >> [[psysml:fa67c82a-cf4c-4211-8405-b886e7fced61 ]] {\r\n",
       "rec usage \"vp: VP\" as E6  <<(U,orange)viewpoint>> [[psysml:edb93869-3e30-4330-ae7d-f0dbadb8ae6e ]] {\r\n",
       "rec usage \"subj\" as E7  <<(U,orange)reference>> [[psysml:df90ec85-1f95-42f9-8740-37e2136842a3 ]] {\r\n",
       "}\r\n",
       "}\r\n",
       "rec usage \"r: R\" as E8  [[psysml:d3ad1959-ed24-48c6-b8cb-3101ea5444ce ]] {\r\n",
       "}\r\n",
       "rec usage \"v: V\" as E9  [[psysml:c79df832-858d-4f87-b041-227cc7f695ce ]] {\r\n",
       "rec usage \"r1\" as E10  [[psysml:599cc28e-37a4-4871-97e7-8713776fcf23 ]] {\r\n",
       "}\r\n",
       "}\r\n",
       "}\r\n",
       "}\r\n",
       "@enduml\r\n",
       "\n",
       "PlantUML version 1.2020.13(Sat Jun 13 12:26:38 UTC 2020)\n",
       "(EPL source distribution)\n",
       "Java Runtime: OpenJDK Runtime Environment\n",
       "JVM: OpenJDK 64-Bit Server VM\n",
       "Default Encoding: UTF-8\n",
       "Language: en\n",
       "Country: null\n",
       "--></g></svg>"
      ]
     },
     "execution_count": 33,
     "metadata": {},
     "output_type": "execute_result"
    }
   ],
   "source": [
    "%viz --style=\"PLANTUML\" --view=\"Interconnection\" \"ViewTest\""
   ]
  },
  {
   "cell_type": "code",
   "execution_count": 34,
   "id": "premier-champagne",
   "metadata": {
    "execution": {
     "iopub.execute_input": "2021-03-25T15:10:05.557083Z",
     "iopub.status.busy": "2021-03-25T15:10:05.556418Z",
     "iopub.status.idle": "2021-03-25T15:10:05.561855Z",
     "shell.execute_reply": "2021-03-25T15:10:05.561521Z"
    }
   },
   "outputs": [
    {
     "data": {
      "image/svg+xml": [
       "<?xml version=\"1.0\" encoding=\"UTF-8\" standalone=\"no\"?><svg xmlns=\"http://www.w3.org/2000/svg\" xmlns:xlink=\"http://www.w3.org/1999/xlink\" contentScriptType=\"application/ecmascript\" contentStyleType=\"text/css\" height=\"12px\" preserveAspectRatio=\"none\" style=\"width:12px;height:12px;\" version=\"1.1\" viewBox=\"0 0 12 12\" width=\"12px\" zoomAndPan=\"magnify\"><defs/><g><!--MD5=[6a4cb978cab31700e1ce5529f947a75d]\n",
       "@startuml\r\n",
       "skinparam ranksep 8\r\n",
       " \r\n",
       "@enduml\r\n",
       "\n",
       "PlantUML version 1.2020.13(Sat Jun 13 12:26:38 UTC 2020)\n",
       "(EPL source distribution)\n",
       "Java Runtime: OpenJDK Runtime Environment\n",
       "JVM: OpenJDK 64-Bit Server VM\n",
       "Default Encoding: UTF-8\n",
       "Language: en\n",
       "Country: null\n",
       "--></g></svg>"
      ]
     },
     "execution_count": 34,
     "metadata": {},
     "output_type": "execute_result"
    }
   ],
   "source": [
    "%viz --style=\"PLANTUML\" --view=\"Action\" \"ViewTest\""
   ]
  },
  {
   "cell_type": "code",
   "execution_count": 35,
   "id": "medieval-ideal",
   "metadata": {
    "execution": {
     "iopub.execute_input": "2021-03-25T15:10:05.614056Z",
     "iopub.status.busy": "2021-03-25T15:10:05.613207Z",
     "iopub.status.idle": "2021-03-25T15:10:05.692981Z",
     "shell.execute_reply": "2021-03-25T15:10:05.692577Z"
    }
   },
   "outputs": [
    {
     "data": {
      "image/svg+xml": [
       "<?xml version=\"1.0\" encoding=\"UTF-8\" standalone=\"no\"?><svg xmlns=\"http://www.w3.org/2000/svg\" xmlns:xlink=\"http://www.w3.org/1999/xlink\" contentScriptType=\"application/ecmascript\" contentStyleType=\"text/css\" height=\"334px\" preserveAspectRatio=\"none\" style=\"width:376px;height:334px;\" version=\"1.1\" viewBox=\"0 0 376 334\" width=\"376px\" zoomAndPan=\"magnify\"><defs><filter height=\"300%\" id=\"f1wv6m0zp6h750\" width=\"300%\" x=\"-1\" y=\"-1\"><feGaussianBlur result=\"blurOut\" stdDeviation=\"2.0\"/><feColorMatrix in=\"blurOut\" result=\"blurOut2\" type=\"matrix\" values=\"0 0 0 0 0 0 0 0 0 0 0 0 0 0 0 0 0 0 .4 0\"/><feOffset dx=\"4.0\" dy=\"4.0\" in=\"blurOut2\" result=\"blurOut3\"/><feBlend in=\"SourceGraphic\" in2=\"blurOut3\" mode=\"normal\"/></filter></defs><g><!--MD5=[fbc87193dbaf4d95561dea2c320d4a47]\n",
       "cluster E1--><a href=\"psysml:68a4efc3-4169-49c4-b08f-98091c4bc0be\" target=\"_top\" title=\"psysml:68a4efc3-4169-49c4-b08f-98091c4bc0be\" xlink:actuate=\"onRequest\" xlink:href=\"psysml:68a4efc3-4169-49c4-b08f-98091c4bc0be\" xlink:show=\"new\" xlink:title=\"psysml:68a4efc3-4169-49c4-b08f-98091c4bc0be\" xlink:type=\"simple\"><polygon fill=\"#FFFFFF\" filter=\"url(#f1wv6m0zp6h750)\" points=\"16,6,96,6,103,28.2969,354,28.2969,354,322,16,322,16,6\" style=\"stroke: #000000; stroke-width: 1.5;\"/><line style=\"stroke: #000000; stroke-width: 1.5;\" x1=\"16\" x2=\"103\" y1=\"28.2969\" y2=\"28.2969\"/><text fill=\"#000000\" font-family=\"sans-serif\" font-size=\"14\" font-weight=\"bold\" lengthAdjust=\"spacingAndGlyphs\" textLength=\"74\" x=\"20\" y=\"20.9951\">ViewTest</text></a><!--MD5=[09b614a08d8cba4a07c9adeb5e0fee81]\n",
       "class E3--><a href=\"psysml:0e16ef0b-675e-475c-a6ab-030697702310\" target=\"_top\" title=\"psysml:0e16ef0b-675e-475c-a6ab-030697702310\" xlink:actuate=\"onRequest\" xlink:href=\"psysml:0e16ef0b-675e-475c-a6ab-030697702310\" xlink:show=\"new\" xlink:title=\"psysml:0e16ef0b-675e-475c-a6ab-030697702310\" xlink:type=\"simple\"><rect fill=\"#FEFECE\" filter=\"url(#f1wv6m0zp6h750)\" height=\"45.9375\" id=\"E3\" style=\"stroke: #A80036; stroke-width: 1.5;\" width=\"124\" x=\"32\" y=\"260\"/><ellipse cx=\"47\" cy=\"278.9688\" fill=\"#A52A2A\" rx=\"11\" ry=\"11\" style=\"stroke: #A80036; stroke-width: 1.0;\"/><path d=\"M46.5938,274.7813 L46.5938,282.7656 L47.25,282.7656 Q48.6875,282.7656 49.2969,281.8594 Q49.9219,280.9375 49.9219,278.7656 Q49.9219,276.5938 49.2969,275.6875 Q48.6875,274.7813 47.25,274.7813 L46.5938,274.7813 Z M44.1406,272.5781 L46.7656,272.5781 Q49.7969,272.5781 51.125,274.0313 Q52.4688,275.4688 52.4688,278.7656 Q52.4688,282.0625 51.125,283.5156 Q49.7969,284.9688 46.7656,284.9688 L44.1406,284.9688 L44.1406,272.5781 Z \"/><text fill=\"#000000\" font-family=\"sans-serif\" font-size=\"12\" font-style=\"italic\" lengthAdjust=\"spacingAndGlyphs\" textLength=\"96\" x=\"59\" y=\"276.1387\">«viewpoint def»</text><text fill=\"#000000\" font-family=\"sans-serif\" font-size=\"12\" lengthAdjust=\"spacingAndGlyphs\" textLength=\"16\" x=\"99\" y=\"290.1074\">VP</text><line style=\"stroke: #A80036; stroke-width: 1.5;\" x1=\"33\" x2=\"155\" y1=\"297.9375\" y2=\"297.9375\"/></a><!--MD5=[ebbe1d658d1005bcc118a6aa81145e00]\n",
       "class E4--><a href=\"psysml:80b9aeea-925b-4b3a-8c84-ce381a5e60ed\" target=\"_top\" title=\"psysml:80b9aeea-925b-4b3a-8c84-ce381a5e60ed\" xlink:actuate=\"onRequest\" xlink:href=\"psysml:80b9aeea-925b-4b3a-8c84-ce381a5e60ed\" xlink:show=\"new\" xlink:title=\"psysml:80b9aeea-925b-4b3a-8c84-ce381a5e60ed\" xlink:type=\"simple\"><rect fill=\"#FEFECE\" filter=\"url(#f1wv6m0zp6h750)\" height=\"40\" id=\"E4\" style=\"stroke: #A80036; stroke-width: 1.5;\" width=\"40\" x=\"191\" y=\"263\"/><ellipse cx=\"206\" cy=\"279\" fill=\"#008000\" rx=\"11\" ry=\"11\" style=\"stroke: #A80036; stroke-width: 1.0;\"/><path d=\"M204.9063,279.375 L204.9063,283.0469 L206.5313,283.0469 Q207.7031,283.0469 208.1719,282.6563 Q208.6406,282.25 208.6406,281.25 Q208.6406,280.25 208.1406,279.8125 Q207.6563,279.375 206.5313,279.375 L204.9063,279.375 Z M204.9063,274.5469 L204.9063,277.4219 L206.5313,277.4219 Q207.4531,277.4219 207.8438,277.0938 Q208.25,276.75 208.25,276 Q208.25,275.2344 207.8438,274.8906 Q207.4375,274.5469 206.5313,274.5469 L204.9063,274.5469 Z M202.5313,272.5938 L206.5313,272.5938 Q208.5938,272.5938 209.6406,273.375 Q210.6875,274.1563 210.6875,275.7188 Q210.6875,276.9219 210.0625,277.5938 Q209.4531,278.2656 208.2656,278.375 Q209.6875,278.5156 210.4063,279.3281 Q211.125,280.1406 211.125,281.5938 Q211.125,283.3906 210.0469,284.2031 Q208.9688,285 206.5313,285 L202.5313,285 L202.5313,272.5938 Z \"/><text fill=\"#000000\" font-family=\"sans-serif\" font-size=\"12\" lengthAdjust=\"spacingAndGlyphs\" textLength=\"8\" x=\"220\" y=\"283.1543\">R</text><line style=\"stroke: #A80036; stroke-width: 1.5;\" x1=\"192\" x2=\"230\" y1=\"295\" y2=\"295\"/></a><!--MD5=[270fce915f116d4de14055a7c1d9a0f3]\n",
       "class E5--><a href=\"psysml:fa67c82a-cf4c-4211-8405-b886e7fced61\" target=\"_top\" title=\"psysml:fa67c82a-cf4c-4211-8405-b886e7fced61\" xlink:actuate=\"onRequest\" xlink:href=\"psysml:fa67c82a-cf4c-4211-8405-b886e7fced61\" xlink:show=\"new\" xlink:title=\"psysml:fa67c82a-cf4c-4211-8405-b886e7fced61\" xlink:type=\"simple\"><rect fill=\"#FEFECE\" filter=\"url(#f1wv6m0zp6h750)\" height=\"40\" id=\"E5\" style=\"stroke: #A80036; stroke-width: 1.5;\" width=\"40\" x=\"232\" y=\"47.5\"/><ellipse cx=\"247\" cy=\"63.5\" fill=\"#008000\" rx=\"11\" ry=\"11\" style=\"stroke: #A80036; stroke-width: 1.0;\"/><path d=\"M245.9063,63.875 L245.9063,67.5469 L247.5313,67.5469 Q248.7031,67.5469 249.1719,67.1563 Q249.6406,66.75 249.6406,65.75 Q249.6406,64.75 249.1406,64.3125 Q248.6563,63.875 247.5313,63.875 L245.9063,63.875 Z M245.9063,59.0469 L245.9063,61.9219 L247.5313,61.9219 Q248.4531,61.9219 248.8438,61.5938 Q249.25,61.25 249.25,60.5 Q249.25,59.7344 248.8438,59.3906 Q248.4375,59.0469 247.5313,59.0469 L245.9063,59.0469 Z M243.5313,57.0938 L247.5313,57.0938 Q249.5938,57.0938 250.6406,57.875 Q251.6875,58.6563 251.6875,60.2188 Q251.6875,61.4219 251.0625,62.0938 Q250.4531,62.7656 249.2656,62.875 Q250.6875,63.0156 251.4063,63.8281 Q252.125,64.6406 252.125,66.0938 Q252.125,67.8906 251.0469,68.7031 Q249.9688,69.5 247.5313,69.5 L243.5313,69.5 L243.5313,57.0938 Z \"/><text fill=\"#000000\" font-family=\"sans-serif\" font-size=\"12\" lengthAdjust=\"spacingAndGlyphs\" textLength=\"8\" x=\"261\" y=\"67.6543\">V</text><line style=\"stroke: #A80036; stroke-width: 1.5;\" x1=\"233\" x2=\"271\" y1=\"79.5\" y2=\"79.5\"/></a><!--MD5=[60a26617385b1d2d0262a64233df1f8d]\n",
       "class E6--><a href=\"psysml:edb93869-3e30-4330-ae7d-f0dbadb8ae6e\" target=\"_top\" title=\"psysml:edb93869-3e30-4330-ae7d-f0dbadb8ae6e\" xlink:actuate=\"onRequest\" xlink:href=\"psysml:edb93869-3e30-4330-ae7d-f0dbadb8ae6e\" xlink:show=\"new\" xlink:title=\"psysml:edb93869-3e30-4330-ae7d-f0dbadb8ae6e\" xlink:type=\"simple\"><rect fill=\"#FEFECE\" filter=\"url(#f1wv6m0zp6h750)\" height=\"45.9375\" id=\"E6\" rx=\"10\" ry=\"10\" style=\"stroke: #A80036; stroke-width: 1.5;\" width=\"100\" x=\"32\" y=\"154\"/><ellipse cx=\"47\" cy=\"172.9688\" fill=\"#FFA500\" rx=\"11\" ry=\"11\" style=\"stroke: #A80036; stroke-width: 1.0;\"/><path d=\"M42.875,174.8906 L42.875,167.0781 L45.3281,167.0781 L45.3281,175.5156 Q45.3281,176.4375 45.7969,176.9688 Q46.2813,177.5 47.1094,177.5 Q47.9531,177.5 48.4219,176.9688 Q48.8906,176.4375 48.8906,175.5156 L48.8906,167.0781 L51.3438,167.0781 L51.3438,174.8906 Q51.3438,177.4219 50.3438,178.5625 Q49.3438,179.7031 47.1094,179.7031 Q44.8906,179.7031 43.875,178.5625 Q42.875,177.4219 42.875,174.8906 Z \"/><text fill=\"#000000\" font-family=\"sans-serif\" font-size=\"12\" font-style=\"italic\" lengthAdjust=\"spacingAndGlyphs\" textLength=\"72\" x=\"59\" y=\"170.1387\">«viewpoint»</text><text fill=\"#000000\" font-family=\"sans-serif\" font-size=\"12\" lengthAdjust=\"spacingAndGlyphs\" textLength=\"38\" x=\"76\" y=\"184.1074\">vp: VP</text><line style=\"stroke: #A80036; stroke-width: 1.5;\" x1=\"33\" x2=\"131\" y1=\"191.9375\" y2=\"191.9375\"/></a><!--MD5=[2156ba9850f5573cc1fc38a6a4b2f02b]\n",
       "class E7--><a href=\"psysml:d3ad1959-ed24-48c6-b8cb-3101ea5444ce\" target=\"_top\" title=\"psysml:d3ad1959-ed24-48c6-b8cb-3101ea5444ce\" xlink:actuate=\"onRequest\" xlink:href=\"psysml:d3ad1959-ed24-48c6-b8cb-3101ea5444ce\" xlink:show=\"new\" xlink:title=\"psysml:d3ad1959-ed24-48c6-b8cb-3101ea5444ce\" xlink:type=\"simple\"><rect fill=\"#FEFECE\" filter=\"url(#f1wv6m0zp6h750)\" height=\"45.9375\" id=\"E7\" rx=\"10\" ry=\"10\" style=\"stroke: #A80036; stroke-width: 1.5;\" width=\"68\" x=\"167\" y=\"154\"/><ellipse cx=\"182\" cy=\"172.9688\" fill=\"#32CD32\" rx=\"11\" ry=\"11\" style=\"stroke: #A80036; stroke-width: 1.0;\"/><path d=\"M181.7969,168.6406 L181.7969,172.2656 L182.7969,172.2656 Q184,172.2656 184.4844,171.8594 Q184.9688,171.4531 184.9688,170.4531 Q184.9688,169.4531 184.4844,169.0469 Q184,168.6406 182.7969,168.6406 L181.7969,168.6406 Z M179.3438,166.5781 L182.7031,166.5781 Q185.2656,166.5781 186.3906,167.5 Q187.5156,168.4063 187.5156,170.4531 Q187.5156,172.5 186.3906,173.4219 Q185.2656,174.3281 182.7031,174.3281 L181.7969,174.3281 L181.7969,178.9688 L179.3438,178.9688 L179.3438,166.5781 Z \"/><text fill=\"#000000\" font-family=\"sans-serif\" font-size=\"12\" font-style=\"italic\" lengthAdjust=\"spacingAndGlyphs\" textLength=\"40\" x=\"194\" y=\"170.1387\">«part»</text><text fill=\"#000000\" font-family=\"sans-serif\" font-size=\"12\" lengthAdjust=\"spacingAndGlyphs\" textLength=\"21\" x=\"203.5\" y=\"184.1074\">r: R</text><line style=\"stroke: #A80036; stroke-width: 1.5;\" x1=\"168\" x2=\"234\" y1=\"191.9375\" y2=\"191.9375\"/></a><!--MD5=[b9389687b975829384b498ac4b7476b2]\n",
       "class E8--><a href=\"psysml:c79df832-858d-4f87-b041-227cc7f695ce\" target=\"_top\" title=\"psysml:c79df832-858d-4f87-b041-227cc7f695ce\" xlink:actuate=\"onRequest\" xlink:href=\"psysml:c79df832-858d-4f87-b041-227cc7f695ce\" xlink:show=\"new\" xlink:title=\"psysml:c79df832-858d-4f87-b041-227cc7f695ce\" xlink:type=\"simple\"><rect fill=\"#FEFECE\" filter=\"url(#f1wv6m0zp6h750)\" height=\"45.9375\" id=\"E8\" rx=\"10\" ry=\"10\" style=\"stroke: #A80036; stroke-width: 1.5;\" width=\"68\" x=\"270\" y=\"154\"/><ellipse cx=\"285\" cy=\"172.9688\" fill=\"#32CD32\" rx=\"11\" ry=\"11\" style=\"stroke: #A80036; stroke-width: 1.0;\"/><path d=\"M284.7969,168.6406 L284.7969,172.2656 L285.7969,172.2656 Q287,172.2656 287.4844,171.8594 Q287.9688,171.4531 287.9688,170.4531 Q287.9688,169.4531 287.4844,169.0469 Q287,168.6406 285.7969,168.6406 L284.7969,168.6406 Z M282.3438,166.5781 L285.7031,166.5781 Q288.2656,166.5781 289.3906,167.5 Q290.5156,168.4063 290.5156,170.4531 Q290.5156,172.5 289.3906,173.4219 Q288.2656,174.3281 285.7031,174.3281 L284.7969,174.3281 L284.7969,178.9688 L282.3438,178.9688 L282.3438,166.5781 Z \"/><text fill=\"#000000\" font-family=\"sans-serif\" font-size=\"12\" font-style=\"italic\" lengthAdjust=\"spacingAndGlyphs\" textLength=\"40\" x=\"297\" y=\"170.1387\">«part»</text><text fill=\"#000000\" font-family=\"sans-serif\" font-size=\"12\" lengthAdjust=\"spacingAndGlyphs\" textLength=\"22\" x=\"306\" y=\"184.1074\">v: V</text><line style=\"stroke: #A80036; stroke-width: 1.5;\" x1=\"271\" x2=\"337\" y1=\"191.9375\" y2=\"191.9375\"/></a><!--MD5=[fd4143e9d270a159db93a4ea2a975926]\n",
       "class E9--><a href=\"psysml:599cc28e-37a4-4871-97e7-8713776fcf23\" target=\"_top\" title=\"psysml:599cc28e-37a4-4871-97e7-8713776fcf23\" xlink:actuate=\"onRequest\" xlink:href=\"psysml:599cc28e-37a4-4871-97e7-8713776fcf23\" xlink:show=\"new\" xlink:title=\"psysml:599cc28e-37a4-4871-97e7-8713776fcf23\" xlink:type=\"simple\"><rect fill=\"#FEFECE\" filter=\"url(#f1wv6m0zp6h750)\" height=\"45.9375\" id=\"E9\" rx=\"10\" ry=\"10\" style=\"stroke: #A80036; stroke-width: 1.5;\" width=\"68\" x=\"270\" y=\"260\"/><ellipse cx=\"285\" cy=\"278.9688\" fill=\"#32CD32\" rx=\"11\" ry=\"11\" style=\"stroke: #A80036; stroke-width: 1.0;\"/><path d=\"M284.7969,274.6406 L284.7969,278.2656 L285.7969,278.2656 Q287,278.2656 287.4844,277.8594 Q287.9688,277.4531 287.9688,276.4531 Q287.9688,275.4531 287.4844,275.0469 Q287,274.6406 285.7969,274.6406 L284.7969,274.6406 Z M282.3438,272.5781 L285.7031,272.5781 Q288.2656,272.5781 289.3906,273.5 Q290.5156,274.4063 290.5156,276.4531 Q290.5156,278.5 289.3906,279.4219 Q288.2656,280.3281 285.7031,280.3281 L284.7969,280.3281 L284.7969,284.9688 L282.3438,284.9688 L282.3438,272.5781 Z \"/><text fill=\"#000000\" font-family=\"sans-serif\" font-size=\"12\" font-style=\"italic\" lengthAdjust=\"spacingAndGlyphs\" textLength=\"40\" x=\"297\" y=\"276.1387\">«part»</text><text fill=\"#000000\" font-family=\"sans-serif\" font-size=\"12\" lengthAdjust=\"spacingAndGlyphs\" textLength=\"13\" x=\"310.5\" y=\"290.1074\">r1</text><line style=\"stroke: #A80036; stroke-width: 1.5;\" x1=\"271\" x2=\"337\" y1=\"297.9375\" y2=\"297.9375\"/></a><a href=\"psysml:d8eb8e98-9fc5-4554-bb79-0a7fb3af234b\" target=\"_top\" title=\"psysml:d8eb8e98-9fc5-4554-bb79-0a7fb3af234b\" xlink:actuate=\"onRequest\" xlink:href=\"psysml:d8eb8e98-9fc5-4554-bb79-0a7fb3af234b\" xlink:show=\"new\" xlink:title=\"psysml:d8eb8e98-9fc5-4554-bb79-0a7fb3af234b\" xlink:type=\"simple\"><polygon fill=\"#FFFFFF\" filter=\"url(#f1wv6m0zp6h750)\" points=\"125,41,141,41,148,63.2969,155,63.2969,155,93.5938,125,93.5938,125,41\" style=\"stroke: #000000; stroke-width: 1.5;\"/><line style=\"stroke: #000000; stroke-width: 1.5;\" x1=\"125\" x2=\"148\" y1=\"63.2969\" y2=\"63.2969\"/><text fill=\"#000000\" font-family=\"sans-serif\" font-size=\"14\" font-weight=\"bold\" lengthAdjust=\"spacingAndGlyphs\" textLength=\"10\" x=\"129\" y=\"55.9951\">P</text></a><!--MD5=[85d356282659285ab4b2cfe2f634dd2b]\n",
       "reverse link E5 to E6--><a href=\"psysml:edb93869-3e30-4330-ae7d-f0dbadb8ae6e\" target=\"_top\" title=\"psysml:edb93869-3e30-4330-ae7d-f0dbadb8ae6e\" xlink:actuate=\"onRequest\" xlink:href=\"psysml:edb93869-3e30-4330-ae7d-f0dbadb8ae6e\" xlink:show=\"new\" xlink:title=\"psysml:edb93869-3e30-4330-ae7d-f0dbadb8ae6e\" xlink:type=\"simple\"><path d=\"M220.58,88.37 C191.18,106.96 147.35,134.67 116.89,153.94 \" fill=\"none\" id=\"E5&lt;-E6\" style=\"stroke: #A80036; stroke-width: 1.0;\"/><polygon fill=\"#A80036\" points=\"231.83,81.25,224.6209,81.0808,221.692,87.6703,228.9011,87.8395,231.83,81.25\" style=\"stroke: #A80036; stroke-width: 1.0;\"/></a><!--MD5=[a717450b82c80b9240a525fa862496af]\n",
       "link E6 to E3--><a href=\"psysml:678c28b1-b825-4869-b6db-341a5ef18df5\" target=\"_top\" title=\"psysml:678c28b1-b825-4869-b6db-341a5ef18df5\" xlink:actuate=\"onRequest\" xlink:href=\"psysml:678c28b1-b825-4869-b6db-341a5ef18df5\" xlink:show=\"new\" xlink:title=\"psysml:678c28b1-b825-4869-b6db-341a5ef18df5\" xlink:type=\"simple\"><path d=\"M84.54,200.06 C85.88,211.64 87.56,226.23 89.14,239.87 \" fill=\"none\" id=\"E6-&gt;E3\" style=\"stroke: #A80036; stroke-width: 1.0;\"/><polygon fill=\"#FFFFFF\" points=\"91.46,259.98,82.3347,241.9044,96.243,240.3046,91.46,259.98\" style=\"stroke: #A80036; stroke-width: 1.0;\"/><ellipse cx=\"83.6702\" cy=\"236.0132\" fill=\"#A80036\" rx=\"2\" ry=\"2\" style=\"stroke: #A80036; stroke-width: 1.0;\"/><ellipse cx=\"93.6047\" cy=\"234.8704\" fill=\"#A80036\" rx=\"2\" ry=\"2\" style=\"stroke: #A80036; stroke-width: 1.0;\"/></a><!--MD5=[6bdd27f9905911a7e892a3dc65cf6b7c]\n",
       "link E7 to E4--><a href=\"psysml:e01b0a28-1744-4d35-a29d-a960e4229aec\" target=\"_top\" title=\"psysml:e01b0a28-1744-4d35-a29d-a960e4229aec\" xlink:actuate=\"onRequest\" xlink:href=\"psysml:e01b0a28-1744-4d35-a29d-a960e4229aec\" xlink:show=\"new\" xlink:title=\"psysml:e01b0a28-1744-4d35-a29d-a960e4229aec\" xlink:type=\"simple\"><path d=\"M203.12,200.06 C204.32,212.48 205.84,228.37 207.23,242.84 \" fill=\"none\" id=\"E7-&gt;E4\" style=\"stroke: #A80036; stroke-width: 1.0;\"/><polygon fill=\"#FFFFFF\" points=\"209.15,262.77,200.3629,244.5276,214.2985,243.187,209.15,262.77\" style=\"stroke: #A80036; stroke-width: 1.0;\"/><ellipse cx=\"201.8079\" cy=\"238.6623\" fill=\"#A80036\" rx=\"2\" ry=\"2\" style=\"stroke: #A80036; stroke-width: 1.0;\"/><ellipse cx=\"211.7619\" cy=\"237.7047\" fill=\"#A80036\" rx=\"2\" ry=\"2\" style=\"stroke: #A80036; stroke-width: 1.0;\"/></a><!--MD5=[452b418e7f8a40397a49b8c0a78acc5b]\n",
       "reverse link E5 to E7--><a href=\"psysml:d3ad1959-ed24-48c6-b8cb-3101ea5444ce\" target=\"_top\" title=\"psysml:d3ad1959-ed24-48c6-b8cb-3101ea5444ce\" xlink:actuate=\"onRequest\" xlink:href=\"psysml:d3ad1959-ed24-48c6-b8cb-3101ea5444ce\" xlink:show=\"new\" xlink:title=\"psysml:d3ad1959-ed24-48c6-b8cb-3101ea5444ce\" xlink:type=\"simple\"><path d=\"M237.26,99.58 C228.99,116.99 218.89,138.3 211.45,153.98 \" fill=\"none\" id=\"E5&lt;-E7\" style=\"stroke: #A80036; stroke-width: 1.0;\"/><polygon fill=\"#A80036\" points=\"242.88,87.72,236.6942,91.4262,237.7362,98.5616,243.922,94.8554,242.88,87.72\" style=\"stroke: #A80036; stroke-width: 1.0;\"/><text fill=\"#000000\" font-family=\"sans-serif\" font-size=\"13\" lengthAdjust=\"spacingAndGlyphs\" textLength=\"24\" x=\"187.0334\" y=\"142.8709\">0..1</text></a><!--MD5=[1ccb2481ffa92f8d51a74ee30c51832a]\n",
       "link E8 to E5--><a href=\"psysml:3896f3dd-ac25-48cd-93fb-dac3b3d02068\" target=\"_top\" title=\"psysml:3896f3dd-ac25-48cd-93fb-dac3b3d02068\" xlink:actuate=\"onRequest\" xlink:href=\"psysml:3896f3dd-ac25-48cd-93fb-dac3b3d02068\" xlink:show=\"new\" xlink:title=\"psysml:3896f3dd-ac25-48cd-93fb-dac3b3d02068\" xlink:type=\"simple\"><path d=\"M304.49,153.98 C300.07,139.89 291.63,121.28 282.53,105.01 \" fill=\"none\" id=\"E8-&gt;E5\" style=\"stroke: #A80036; stroke-width: 1.0;\"/><polygon fill=\"#FFFFFF\" points=\"271.93,87.72,287.8284,100.2596,275.8928,107.5769,271.93,87.72\" style=\"stroke: #A80036; stroke-width: 1.0;\"/><ellipse cx=\"289.1025\" cy=\"106.1644\" fill=\"#A80036\" rx=\"2\" ry=\"2\" style=\"stroke: #A80036; stroke-width: 1.0;\"/><ellipse cx=\"280.5771\" cy=\"111.391\" fill=\"#A80036\" rx=\"2\" ry=\"2\" style=\"stroke: #A80036; stroke-width: 1.0;\"/></a><!--MD5=[827760032d119d06bbc92f75530fd7ae]\n",
       "reverse link E5 to E8--><a href=\"psysml:c79df832-858d-4f87-b041-227cc7f695ce\" target=\"_top\" title=\"psysml:c79df832-858d-4f87-b041-227cc7f695ce\" xlink:actuate=\"onRequest\" xlink:href=\"psysml:c79df832-858d-4f87-b041-227cc7f695ce\" xlink:show=\"new\" xlink:title=\"psysml:c79df832-858d-4f87-b041-227cc7f695ce\" xlink:type=\"simple\"><path d=\"M255.55,100.09 C262.24,117.41 272.82,138.45 282.83,153.98 \" fill=\"none\" id=\"E5&lt;-E8\" style=\"stroke: #A80036; stroke-width: 1.0;\"/><polygon fill=\"#A80036\" points=\"251.26,87.72,249.4475,94.6996,255.193,99.0572,257.0056,92.0776,251.26,87.72\" style=\"stroke: #A80036; stroke-width: 1.0;\"/><text fill=\"#000000\" font-family=\"sans-serif\" font-size=\"13\" lengthAdjust=\"spacingAndGlyphs\" textLength=\"7\" x=\"269.1999\" y=\"142.8709\">*</text></a><!--MD5=[22f5b4bae7e060dce8a1c8021efdb95b]\n",
       "reverse link E8 to E9--><a href=\"psysml:599cc28e-37a4-4871-97e7-8713776fcf23\" target=\"_top\" title=\"psysml:599cc28e-37a4-4871-97e7-8713776fcf23\" xlink:actuate=\"onRequest\" xlink:href=\"psysml:599cc28e-37a4-4871-97e7-8713776fcf23\" xlink:show=\"new\" xlink:title=\"psysml:599cc28e-37a4-4871-97e7-8713776fcf23\" xlink:type=\"simple\"><path d=\"M304,213.44 C304,228.87 304,246.47 304,259.98 \" fill=\"none\" id=\"E8&lt;-E9\" style=\"stroke: #A80036; stroke-width: 1.0;\"/><polygon fill=\"#A80036\" points=\"304,200.06,300,206.06,304,212.06,308,206.06,304,200.06\" style=\"stroke: #A80036; stroke-width: 1.0;\"/></a><!--MD5=[c679940c5ac5bec0c9f0cc46eb8c39c3]\n",
       "@startuml\r\n",
       " \r\n",
       "package \"ViewTest\" as E1  [[psysml:68a4efc3-4169-49c4-b08f-98091c4bc0be ]]  {\r\n",
       "package \"P\" as E2  [[psysml:d8eb8e98-9fc5-4554-bb79-0a7fb3af234b ]]  {\r\n",
       "}\r\n",
       "comp def \"VP\" as E3  <<(D,brown)viewpoint def>> [[psysml:0e16ef0b-675e-475c-a6ab-030697702310 ]] {\r\n",
       "}\r\n",
       "comp def \"R\" as E4  << (B,green) >> [[psysml:80b9aeea-925b-4b3a-8c84-ce381a5e60ed ]] {\r\n",
       "}\r\n",
       "comp def \"V\" as E5  << (B,green) >> [[psysml:fa67c82a-cf4c-4211-8405-b886e7fced61 ]] {\r\n",
       "}\r\n",
       "comp usage \"vp: VP\" as E6  <<(U,orange)viewpoint>> [[psysml:edb93869-3e30-4330-ae7d-f0dbadb8ae6e ]] {\r\n",
       "}\r\n",
       "comp usage \"r: R\" as E7  << (P,limegreen) part>> [[psysml:d3ad1959-ed24-48c6-b8cb-3101ea5444ce ]] {\r\n",
       "}\r\n",
       "comp usage \"v: V\" as E8  << (P,limegreen) part>> [[psysml:c79df832-858d-4f87-b041-227cc7f695ce ]] {\r\n",
       "}\r\n",
       "comp usage \"r1\" as E9  << (P,limegreen) part>> [[psysml:599cc28e-37a4-4871-97e7-8713776fcf23 ]] {\r\n",
       "}\r\n",
       "E5 *- - E6 [[psysml:edb93869-3e30-4330-ae7d-f0dbadb8ae6e ]] \r\n",
       "E6 - -:|> E3 [[psysml:678c28b1-b825-4869-b6db-341a5ef18df5 ]] \r\n",
       "E7 - -:|> E4 [[psysml:e01b0a28-1744-4d35-a29d-a960e4229aec ]] \r\n",
       "E5 *- - \"0..1\"E7 [[psysml:d3ad1959-ed24-48c6-b8cb-3101ea5444ce ]] \r\n",
       "E8 - -:|> E5 [[psysml:3896f3dd-ac25-48cd-93fb-dac3b3d02068 ]] \r\n",
       "E5 *- - \"*\"E8 [[psysml:c79df832-858d-4f87-b041-227cc7f695ce ]] \r\n",
       "E8 *- - E9 [[psysml:599cc28e-37a4-4871-97e7-8713776fcf23 ]] \r\n",
       "}\r\n",
       "@enduml\r\n",
       "\n",
       "PlantUML version 1.2020.13(Sat Jun 13 12:26:38 UTC 2020)\n",
       "(EPL source distribution)\n",
       "Java Runtime: OpenJDK Runtime Environment\n",
       "JVM: OpenJDK 64-Bit Server VM\n",
       "Default Encoding: UTF-8\n",
       "Language: en\n",
       "Country: null\n",
       "--></g></svg>"
      ]
     },
     "execution_count": 35,
     "metadata": {},
     "output_type": "execute_result"
    }
   ],
   "source": [
    "%viz --style=\"PLANTUML\" --view=\"Sequence\" \"ViewTest\""
   ]
  },
  {
   "cell_type": "code",
   "execution_count": 36,
   "id": "involved-alert",
   "metadata": {
    "execution": {
     "iopub.execute_input": "2021-03-25T15:10:05.743055Z",
     "iopub.status.busy": "2021-03-25T15:10:05.742635Z",
     "iopub.status.idle": "2021-03-25T15:10:05.818703Z",
     "shell.execute_reply": "2021-03-25T15:10:05.817185Z"
    }
   },
   "outputs": [
    {
     "data": {
      "image/svg+xml": [
       "<?xml version=\"1.0\" encoding=\"UTF-8\" standalone=\"no\"?><svg xmlns=\"http://www.w3.org/2000/svg\" xmlns:xlink=\"http://www.w3.org/1999/xlink\" contentScriptType=\"application/ecmascript\" contentStyleType=\"text/css\" height=\"334px\" preserveAspectRatio=\"none\" style=\"width:376px;height:334px;\" version=\"1.1\" viewBox=\"0 0 376 334\" width=\"376px\" zoomAndPan=\"magnify\"><defs><filter height=\"300%\" id=\"f1wv6m0zp6h750\" width=\"300%\" x=\"-1\" y=\"-1\"><feGaussianBlur result=\"blurOut\" stdDeviation=\"2.0\"/><feColorMatrix in=\"blurOut\" result=\"blurOut2\" type=\"matrix\" values=\"0 0 0 0 0 0 0 0 0 0 0 0 0 0 0 0 0 0 .4 0\"/><feOffset dx=\"4.0\" dy=\"4.0\" in=\"blurOut2\" result=\"blurOut3\"/><feBlend in=\"SourceGraphic\" in2=\"blurOut3\" mode=\"normal\"/></filter></defs><g><!--MD5=[fbc87193dbaf4d95561dea2c320d4a47]\n",
       "cluster E1--><a href=\"psysml:68a4efc3-4169-49c4-b08f-98091c4bc0be\" target=\"_top\" title=\"psysml:68a4efc3-4169-49c4-b08f-98091c4bc0be\" xlink:actuate=\"onRequest\" xlink:href=\"psysml:68a4efc3-4169-49c4-b08f-98091c4bc0be\" xlink:show=\"new\" xlink:title=\"psysml:68a4efc3-4169-49c4-b08f-98091c4bc0be\" xlink:type=\"simple\"><polygon fill=\"#FFFFFF\" filter=\"url(#f1wv6m0zp6h750)\" points=\"16,6,96,6,103,28.2969,354,28.2969,354,322,16,322,16,6\" style=\"stroke: #000000; stroke-width: 1.5;\"/><line style=\"stroke: #000000; stroke-width: 1.5;\" x1=\"16\" x2=\"103\" y1=\"28.2969\" y2=\"28.2969\"/><text fill=\"#000000\" font-family=\"sans-serif\" font-size=\"14\" font-weight=\"bold\" lengthAdjust=\"spacingAndGlyphs\" textLength=\"74\" x=\"20\" y=\"20.9951\">ViewTest</text></a><!--MD5=[09b614a08d8cba4a07c9adeb5e0fee81]\n",
       "class E3--><a href=\"psysml:0e16ef0b-675e-475c-a6ab-030697702310\" target=\"_top\" title=\"psysml:0e16ef0b-675e-475c-a6ab-030697702310\" xlink:actuate=\"onRequest\" xlink:href=\"psysml:0e16ef0b-675e-475c-a6ab-030697702310\" xlink:show=\"new\" xlink:title=\"psysml:0e16ef0b-675e-475c-a6ab-030697702310\" xlink:type=\"simple\"><rect fill=\"#FEFECE\" filter=\"url(#f1wv6m0zp6h750)\" height=\"45.9375\" id=\"E3\" style=\"stroke: #A80036; stroke-width: 1.5;\" width=\"124\" x=\"32\" y=\"260\"/><ellipse cx=\"47\" cy=\"278.9688\" fill=\"#A52A2A\" rx=\"11\" ry=\"11\" style=\"stroke: #A80036; stroke-width: 1.0;\"/><path d=\"M46.5938,274.7813 L46.5938,282.7656 L47.25,282.7656 Q48.6875,282.7656 49.2969,281.8594 Q49.9219,280.9375 49.9219,278.7656 Q49.9219,276.5938 49.2969,275.6875 Q48.6875,274.7813 47.25,274.7813 L46.5938,274.7813 Z M44.1406,272.5781 L46.7656,272.5781 Q49.7969,272.5781 51.125,274.0313 Q52.4688,275.4688 52.4688,278.7656 Q52.4688,282.0625 51.125,283.5156 Q49.7969,284.9688 46.7656,284.9688 L44.1406,284.9688 L44.1406,272.5781 Z \"/><text fill=\"#000000\" font-family=\"sans-serif\" font-size=\"12\" font-style=\"italic\" lengthAdjust=\"spacingAndGlyphs\" textLength=\"96\" x=\"59\" y=\"276.1387\">«viewpoint def»</text><text fill=\"#000000\" font-family=\"sans-serif\" font-size=\"12\" lengthAdjust=\"spacingAndGlyphs\" textLength=\"16\" x=\"99\" y=\"290.1074\">VP</text><line style=\"stroke: #A80036; stroke-width: 1.5;\" x1=\"33\" x2=\"155\" y1=\"297.9375\" y2=\"297.9375\"/></a><!--MD5=[ebbe1d658d1005bcc118a6aa81145e00]\n",
       "class E4--><a href=\"psysml:80b9aeea-925b-4b3a-8c84-ce381a5e60ed\" target=\"_top\" title=\"psysml:80b9aeea-925b-4b3a-8c84-ce381a5e60ed\" xlink:actuate=\"onRequest\" xlink:href=\"psysml:80b9aeea-925b-4b3a-8c84-ce381a5e60ed\" xlink:show=\"new\" xlink:title=\"psysml:80b9aeea-925b-4b3a-8c84-ce381a5e60ed\" xlink:type=\"simple\"><rect fill=\"#FEFECE\" filter=\"url(#f1wv6m0zp6h750)\" height=\"40\" id=\"E4\" style=\"stroke: #A80036; stroke-width: 1.5;\" width=\"40\" x=\"191\" y=\"263\"/><ellipse cx=\"206\" cy=\"279\" fill=\"#008000\" rx=\"11\" ry=\"11\" style=\"stroke: #A80036; stroke-width: 1.0;\"/><path d=\"M204.9063,279.375 L204.9063,283.0469 L206.5313,283.0469 Q207.7031,283.0469 208.1719,282.6563 Q208.6406,282.25 208.6406,281.25 Q208.6406,280.25 208.1406,279.8125 Q207.6563,279.375 206.5313,279.375 L204.9063,279.375 Z M204.9063,274.5469 L204.9063,277.4219 L206.5313,277.4219 Q207.4531,277.4219 207.8438,277.0938 Q208.25,276.75 208.25,276 Q208.25,275.2344 207.8438,274.8906 Q207.4375,274.5469 206.5313,274.5469 L204.9063,274.5469 Z M202.5313,272.5938 L206.5313,272.5938 Q208.5938,272.5938 209.6406,273.375 Q210.6875,274.1563 210.6875,275.7188 Q210.6875,276.9219 210.0625,277.5938 Q209.4531,278.2656 208.2656,278.375 Q209.6875,278.5156 210.4063,279.3281 Q211.125,280.1406 211.125,281.5938 Q211.125,283.3906 210.0469,284.2031 Q208.9688,285 206.5313,285 L202.5313,285 L202.5313,272.5938 Z \"/><text fill=\"#000000\" font-family=\"sans-serif\" font-size=\"12\" lengthAdjust=\"spacingAndGlyphs\" textLength=\"8\" x=\"220\" y=\"283.1543\">R</text><line style=\"stroke: #A80036; stroke-width: 1.5;\" x1=\"192\" x2=\"230\" y1=\"295\" y2=\"295\"/></a><!--MD5=[270fce915f116d4de14055a7c1d9a0f3]\n",
       "class E5--><a href=\"psysml:fa67c82a-cf4c-4211-8405-b886e7fced61\" target=\"_top\" title=\"psysml:fa67c82a-cf4c-4211-8405-b886e7fced61\" xlink:actuate=\"onRequest\" xlink:href=\"psysml:fa67c82a-cf4c-4211-8405-b886e7fced61\" xlink:show=\"new\" xlink:title=\"psysml:fa67c82a-cf4c-4211-8405-b886e7fced61\" xlink:type=\"simple\"><rect fill=\"#FEFECE\" filter=\"url(#f1wv6m0zp6h750)\" height=\"40\" id=\"E5\" style=\"stroke: #A80036; stroke-width: 1.5;\" width=\"40\" x=\"232\" y=\"47.5\"/><ellipse cx=\"247\" cy=\"63.5\" fill=\"#008000\" rx=\"11\" ry=\"11\" style=\"stroke: #A80036; stroke-width: 1.0;\"/><path d=\"M245.9063,63.875 L245.9063,67.5469 L247.5313,67.5469 Q248.7031,67.5469 249.1719,67.1563 Q249.6406,66.75 249.6406,65.75 Q249.6406,64.75 249.1406,64.3125 Q248.6563,63.875 247.5313,63.875 L245.9063,63.875 Z M245.9063,59.0469 L245.9063,61.9219 L247.5313,61.9219 Q248.4531,61.9219 248.8438,61.5938 Q249.25,61.25 249.25,60.5 Q249.25,59.7344 248.8438,59.3906 Q248.4375,59.0469 247.5313,59.0469 L245.9063,59.0469 Z M243.5313,57.0938 L247.5313,57.0938 Q249.5938,57.0938 250.6406,57.875 Q251.6875,58.6563 251.6875,60.2188 Q251.6875,61.4219 251.0625,62.0938 Q250.4531,62.7656 249.2656,62.875 Q250.6875,63.0156 251.4063,63.8281 Q252.125,64.6406 252.125,66.0938 Q252.125,67.8906 251.0469,68.7031 Q249.9688,69.5 247.5313,69.5 L243.5313,69.5 L243.5313,57.0938 Z \"/><text fill=\"#000000\" font-family=\"sans-serif\" font-size=\"12\" lengthAdjust=\"spacingAndGlyphs\" textLength=\"8\" x=\"261\" y=\"67.6543\">V</text><line style=\"stroke: #A80036; stroke-width: 1.5;\" x1=\"233\" x2=\"271\" y1=\"79.5\" y2=\"79.5\"/></a><!--MD5=[60a26617385b1d2d0262a64233df1f8d]\n",
       "class E6--><a href=\"psysml:edb93869-3e30-4330-ae7d-f0dbadb8ae6e\" target=\"_top\" title=\"psysml:edb93869-3e30-4330-ae7d-f0dbadb8ae6e\" xlink:actuate=\"onRequest\" xlink:href=\"psysml:edb93869-3e30-4330-ae7d-f0dbadb8ae6e\" xlink:show=\"new\" xlink:title=\"psysml:edb93869-3e30-4330-ae7d-f0dbadb8ae6e\" xlink:type=\"simple\"><rect fill=\"#FEFECE\" filter=\"url(#f1wv6m0zp6h750)\" height=\"45.9375\" id=\"E6\" rx=\"10\" ry=\"10\" style=\"stroke: #A80036; stroke-width: 1.5;\" width=\"100\" x=\"32\" y=\"154\"/><ellipse cx=\"47\" cy=\"172.9688\" fill=\"#FFA500\" rx=\"11\" ry=\"11\" style=\"stroke: #A80036; stroke-width: 1.0;\"/><path d=\"M42.875,174.8906 L42.875,167.0781 L45.3281,167.0781 L45.3281,175.5156 Q45.3281,176.4375 45.7969,176.9688 Q46.2813,177.5 47.1094,177.5 Q47.9531,177.5 48.4219,176.9688 Q48.8906,176.4375 48.8906,175.5156 L48.8906,167.0781 L51.3438,167.0781 L51.3438,174.8906 Q51.3438,177.4219 50.3438,178.5625 Q49.3438,179.7031 47.1094,179.7031 Q44.8906,179.7031 43.875,178.5625 Q42.875,177.4219 42.875,174.8906 Z \"/><text fill=\"#000000\" font-family=\"sans-serif\" font-size=\"12\" font-style=\"italic\" lengthAdjust=\"spacingAndGlyphs\" textLength=\"72\" x=\"59\" y=\"170.1387\">«viewpoint»</text><text fill=\"#000000\" font-family=\"sans-serif\" font-size=\"12\" lengthAdjust=\"spacingAndGlyphs\" textLength=\"38\" x=\"76\" y=\"184.1074\">vp: VP</text><line style=\"stroke: #A80036; stroke-width: 1.5;\" x1=\"33\" x2=\"131\" y1=\"191.9375\" y2=\"191.9375\"/></a><!--MD5=[2156ba9850f5573cc1fc38a6a4b2f02b]\n",
       "class E7--><a href=\"psysml:d3ad1959-ed24-48c6-b8cb-3101ea5444ce\" target=\"_top\" title=\"psysml:d3ad1959-ed24-48c6-b8cb-3101ea5444ce\" xlink:actuate=\"onRequest\" xlink:href=\"psysml:d3ad1959-ed24-48c6-b8cb-3101ea5444ce\" xlink:show=\"new\" xlink:title=\"psysml:d3ad1959-ed24-48c6-b8cb-3101ea5444ce\" xlink:type=\"simple\"><rect fill=\"#FEFECE\" filter=\"url(#f1wv6m0zp6h750)\" height=\"45.9375\" id=\"E7\" rx=\"10\" ry=\"10\" style=\"stroke: #A80036; stroke-width: 1.5;\" width=\"68\" x=\"167\" y=\"154\"/><ellipse cx=\"182\" cy=\"172.9688\" fill=\"#32CD32\" rx=\"11\" ry=\"11\" style=\"stroke: #A80036; stroke-width: 1.0;\"/><path d=\"M181.7969,168.6406 L181.7969,172.2656 L182.7969,172.2656 Q184,172.2656 184.4844,171.8594 Q184.9688,171.4531 184.9688,170.4531 Q184.9688,169.4531 184.4844,169.0469 Q184,168.6406 182.7969,168.6406 L181.7969,168.6406 Z M179.3438,166.5781 L182.7031,166.5781 Q185.2656,166.5781 186.3906,167.5 Q187.5156,168.4063 187.5156,170.4531 Q187.5156,172.5 186.3906,173.4219 Q185.2656,174.3281 182.7031,174.3281 L181.7969,174.3281 L181.7969,178.9688 L179.3438,178.9688 L179.3438,166.5781 Z \"/><text fill=\"#000000\" font-family=\"sans-serif\" font-size=\"12\" font-style=\"italic\" lengthAdjust=\"spacingAndGlyphs\" textLength=\"40\" x=\"194\" y=\"170.1387\">«part»</text><text fill=\"#000000\" font-family=\"sans-serif\" font-size=\"12\" lengthAdjust=\"spacingAndGlyphs\" textLength=\"21\" x=\"203.5\" y=\"184.1074\">r: R</text><line style=\"stroke: #A80036; stroke-width: 1.5;\" x1=\"168\" x2=\"234\" y1=\"191.9375\" y2=\"191.9375\"/></a><!--MD5=[b9389687b975829384b498ac4b7476b2]\n",
       "class E8--><a href=\"psysml:c79df832-858d-4f87-b041-227cc7f695ce\" target=\"_top\" title=\"psysml:c79df832-858d-4f87-b041-227cc7f695ce\" xlink:actuate=\"onRequest\" xlink:href=\"psysml:c79df832-858d-4f87-b041-227cc7f695ce\" xlink:show=\"new\" xlink:title=\"psysml:c79df832-858d-4f87-b041-227cc7f695ce\" xlink:type=\"simple\"><rect fill=\"#FEFECE\" filter=\"url(#f1wv6m0zp6h750)\" height=\"45.9375\" id=\"E8\" rx=\"10\" ry=\"10\" style=\"stroke: #A80036; stroke-width: 1.5;\" width=\"68\" x=\"270\" y=\"154\"/><ellipse cx=\"285\" cy=\"172.9688\" fill=\"#32CD32\" rx=\"11\" ry=\"11\" style=\"stroke: #A80036; stroke-width: 1.0;\"/><path d=\"M284.7969,168.6406 L284.7969,172.2656 L285.7969,172.2656 Q287,172.2656 287.4844,171.8594 Q287.9688,171.4531 287.9688,170.4531 Q287.9688,169.4531 287.4844,169.0469 Q287,168.6406 285.7969,168.6406 L284.7969,168.6406 Z M282.3438,166.5781 L285.7031,166.5781 Q288.2656,166.5781 289.3906,167.5 Q290.5156,168.4063 290.5156,170.4531 Q290.5156,172.5 289.3906,173.4219 Q288.2656,174.3281 285.7031,174.3281 L284.7969,174.3281 L284.7969,178.9688 L282.3438,178.9688 L282.3438,166.5781 Z \"/><text fill=\"#000000\" font-family=\"sans-serif\" font-size=\"12\" font-style=\"italic\" lengthAdjust=\"spacingAndGlyphs\" textLength=\"40\" x=\"297\" y=\"170.1387\">«part»</text><text fill=\"#000000\" font-family=\"sans-serif\" font-size=\"12\" lengthAdjust=\"spacingAndGlyphs\" textLength=\"22\" x=\"306\" y=\"184.1074\">v: V</text><line style=\"stroke: #A80036; stroke-width: 1.5;\" x1=\"271\" x2=\"337\" y1=\"191.9375\" y2=\"191.9375\"/></a><!--MD5=[fd4143e9d270a159db93a4ea2a975926]\n",
       "class E9--><a href=\"psysml:599cc28e-37a4-4871-97e7-8713776fcf23\" target=\"_top\" title=\"psysml:599cc28e-37a4-4871-97e7-8713776fcf23\" xlink:actuate=\"onRequest\" xlink:href=\"psysml:599cc28e-37a4-4871-97e7-8713776fcf23\" xlink:show=\"new\" xlink:title=\"psysml:599cc28e-37a4-4871-97e7-8713776fcf23\" xlink:type=\"simple\"><rect fill=\"#FEFECE\" filter=\"url(#f1wv6m0zp6h750)\" height=\"45.9375\" id=\"E9\" rx=\"10\" ry=\"10\" style=\"stroke: #A80036; stroke-width: 1.5;\" width=\"68\" x=\"270\" y=\"260\"/><ellipse cx=\"285\" cy=\"278.9688\" fill=\"#32CD32\" rx=\"11\" ry=\"11\" style=\"stroke: #A80036; stroke-width: 1.0;\"/><path d=\"M284.7969,274.6406 L284.7969,278.2656 L285.7969,278.2656 Q287,278.2656 287.4844,277.8594 Q287.9688,277.4531 287.9688,276.4531 Q287.9688,275.4531 287.4844,275.0469 Q287,274.6406 285.7969,274.6406 L284.7969,274.6406 Z M282.3438,272.5781 L285.7031,272.5781 Q288.2656,272.5781 289.3906,273.5 Q290.5156,274.4063 290.5156,276.4531 Q290.5156,278.5 289.3906,279.4219 Q288.2656,280.3281 285.7031,280.3281 L284.7969,280.3281 L284.7969,284.9688 L282.3438,284.9688 L282.3438,272.5781 Z \"/><text fill=\"#000000\" font-family=\"sans-serif\" font-size=\"12\" font-style=\"italic\" lengthAdjust=\"spacingAndGlyphs\" textLength=\"40\" x=\"297\" y=\"276.1387\">«part»</text><text fill=\"#000000\" font-family=\"sans-serif\" font-size=\"12\" lengthAdjust=\"spacingAndGlyphs\" textLength=\"13\" x=\"310.5\" y=\"290.1074\">r1</text><line style=\"stroke: #A80036; stroke-width: 1.5;\" x1=\"271\" x2=\"337\" y1=\"297.9375\" y2=\"297.9375\"/></a><a href=\"psysml:d8eb8e98-9fc5-4554-bb79-0a7fb3af234b\" target=\"_top\" title=\"psysml:d8eb8e98-9fc5-4554-bb79-0a7fb3af234b\" xlink:actuate=\"onRequest\" xlink:href=\"psysml:d8eb8e98-9fc5-4554-bb79-0a7fb3af234b\" xlink:show=\"new\" xlink:title=\"psysml:d8eb8e98-9fc5-4554-bb79-0a7fb3af234b\" xlink:type=\"simple\"><polygon fill=\"#FFFFFF\" filter=\"url(#f1wv6m0zp6h750)\" points=\"125,41,141,41,148,63.2969,155,63.2969,155,93.5938,125,93.5938,125,41\" style=\"stroke: #000000; stroke-width: 1.5;\"/><line style=\"stroke: #000000; stroke-width: 1.5;\" x1=\"125\" x2=\"148\" y1=\"63.2969\" y2=\"63.2969\"/><text fill=\"#000000\" font-family=\"sans-serif\" font-size=\"14\" font-weight=\"bold\" lengthAdjust=\"spacingAndGlyphs\" textLength=\"10\" x=\"129\" y=\"55.9951\">P</text></a><!--MD5=[85d356282659285ab4b2cfe2f634dd2b]\n",
       "reverse link E5 to E6--><a href=\"psysml:edb93869-3e30-4330-ae7d-f0dbadb8ae6e\" target=\"_top\" title=\"psysml:edb93869-3e30-4330-ae7d-f0dbadb8ae6e\" xlink:actuate=\"onRequest\" xlink:href=\"psysml:edb93869-3e30-4330-ae7d-f0dbadb8ae6e\" xlink:show=\"new\" xlink:title=\"psysml:edb93869-3e30-4330-ae7d-f0dbadb8ae6e\" xlink:type=\"simple\"><path d=\"M220.58,88.37 C191.18,106.96 147.35,134.67 116.89,153.94 \" fill=\"none\" id=\"E5&lt;-E6\" style=\"stroke: #A80036; stroke-width: 1.0;\"/><polygon fill=\"#A80036\" points=\"231.83,81.25,224.6209,81.0808,221.692,87.6703,228.9011,87.8395,231.83,81.25\" style=\"stroke: #A80036; stroke-width: 1.0;\"/></a><!--MD5=[a717450b82c80b9240a525fa862496af]\n",
       "link E6 to E3--><a href=\"psysml:678c28b1-b825-4869-b6db-341a5ef18df5\" target=\"_top\" title=\"psysml:678c28b1-b825-4869-b6db-341a5ef18df5\" xlink:actuate=\"onRequest\" xlink:href=\"psysml:678c28b1-b825-4869-b6db-341a5ef18df5\" xlink:show=\"new\" xlink:title=\"psysml:678c28b1-b825-4869-b6db-341a5ef18df5\" xlink:type=\"simple\"><path d=\"M84.54,200.06 C85.88,211.64 87.56,226.23 89.14,239.87 \" fill=\"none\" id=\"E6-&gt;E3\" style=\"stroke: #A80036; stroke-width: 1.0;\"/><polygon fill=\"#FFFFFF\" points=\"91.46,259.98,82.3347,241.9044,96.243,240.3046,91.46,259.98\" style=\"stroke: #A80036; stroke-width: 1.0;\"/><ellipse cx=\"83.6702\" cy=\"236.0132\" fill=\"#A80036\" rx=\"2\" ry=\"2\" style=\"stroke: #A80036; stroke-width: 1.0;\"/><ellipse cx=\"93.6047\" cy=\"234.8704\" fill=\"#A80036\" rx=\"2\" ry=\"2\" style=\"stroke: #A80036; stroke-width: 1.0;\"/></a><!--MD5=[6bdd27f9905911a7e892a3dc65cf6b7c]\n",
       "link E7 to E4--><a href=\"psysml:e01b0a28-1744-4d35-a29d-a960e4229aec\" target=\"_top\" title=\"psysml:e01b0a28-1744-4d35-a29d-a960e4229aec\" xlink:actuate=\"onRequest\" xlink:href=\"psysml:e01b0a28-1744-4d35-a29d-a960e4229aec\" xlink:show=\"new\" xlink:title=\"psysml:e01b0a28-1744-4d35-a29d-a960e4229aec\" xlink:type=\"simple\"><path d=\"M203.12,200.06 C204.32,212.48 205.84,228.37 207.23,242.84 \" fill=\"none\" id=\"E7-&gt;E4\" style=\"stroke: #A80036; stroke-width: 1.0;\"/><polygon fill=\"#FFFFFF\" points=\"209.15,262.77,200.3629,244.5276,214.2985,243.187,209.15,262.77\" style=\"stroke: #A80036; stroke-width: 1.0;\"/><ellipse cx=\"201.8079\" cy=\"238.6623\" fill=\"#A80036\" rx=\"2\" ry=\"2\" style=\"stroke: #A80036; stroke-width: 1.0;\"/><ellipse cx=\"211.7619\" cy=\"237.7047\" fill=\"#A80036\" rx=\"2\" ry=\"2\" style=\"stroke: #A80036; stroke-width: 1.0;\"/></a><!--MD5=[452b418e7f8a40397a49b8c0a78acc5b]\n",
       "reverse link E5 to E7--><a href=\"psysml:d3ad1959-ed24-48c6-b8cb-3101ea5444ce\" target=\"_top\" title=\"psysml:d3ad1959-ed24-48c6-b8cb-3101ea5444ce\" xlink:actuate=\"onRequest\" xlink:href=\"psysml:d3ad1959-ed24-48c6-b8cb-3101ea5444ce\" xlink:show=\"new\" xlink:title=\"psysml:d3ad1959-ed24-48c6-b8cb-3101ea5444ce\" xlink:type=\"simple\"><path d=\"M237.26,99.58 C228.99,116.99 218.89,138.3 211.45,153.98 \" fill=\"none\" id=\"E5&lt;-E7\" style=\"stroke: #A80036; stroke-width: 1.0;\"/><polygon fill=\"#A80036\" points=\"242.88,87.72,236.6942,91.4262,237.7362,98.5616,243.922,94.8554,242.88,87.72\" style=\"stroke: #A80036; stroke-width: 1.0;\"/><text fill=\"#000000\" font-family=\"sans-serif\" font-size=\"13\" lengthAdjust=\"spacingAndGlyphs\" textLength=\"24\" x=\"187.0334\" y=\"142.8709\">0..1</text></a><!--MD5=[1ccb2481ffa92f8d51a74ee30c51832a]\n",
       "link E8 to E5--><a href=\"psysml:3896f3dd-ac25-48cd-93fb-dac3b3d02068\" target=\"_top\" title=\"psysml:3896f3dd-ac25-48cd-93fb-dac3b3d02068\" xlink:actuate=\"onRequest\" xlink:href=\"psysml:3896f3dd-ac25-48cd-93fb-dac3b3d02068\" xlink:show=\"new\" xlink:title=\"psysml:3896f3dd-ac25-48cd-93fb-dac3b3d02068\" xlink:type=\"simple\"><path d=\"M304.49,153.98 C300.07,139.89 291.63,121.28 282.53,105.01 \" fill=\"none\" id=\"E8-&gt;E5\" style=\"stroke: #A80036; stroke-width: 1.0;\"/><polygon fill=\"#FFFFFF\" points=\"271.93,87.72,287.8284,100.2596,275.8928,107.5769,271.93,87.72\" style=\"stroke: #A80036; stroke-width: 1.0;\"/><ellipse cx=\"289.1025\" cy=\"106.1644\" fill=\"#A80036\" rx=\"2\" ry=\"2\" style=\"stroke: #A80036; stroke-width: 1.0;\"/><ellipse cx=\"280.5771\" cy=\"111.391\" fill=\"#A80036\" rx=\"2\" ry=\"2\" style=\"stroke: #A80036; stroke-width: 1.0;\"/></a><!--MD5=[827760032d119d06bbc92f75530fd7ae]\n",
       "reverse link E5 to E8--><a href=\"psysml:c79df832-858d-4f87-b041-227cc7f695ce\" target=\"_top\" title=\"psysml:c79df832-858d-4f87-b041-227cc7f695ce\" xlink:actuate=\"onRequest\" xlink:href=\"psysml:c79df832-858d-4f87-b041-227cc7f695ce\" xlink:show=\"new\" xlink:title=\"psysml:c79df832-858d-4f87-b041-227cc7f695ce\" xlink:type=\"simple\"><path d=\"M255.55,100.09 C262.24,117.41 272.82,138.45 282.83,153.98 \" fill=\"none\" id=\"E5&lt;-E8\" style=\"stroke: #A80036; stroke-width: 1.0;\"/><polygon fill=\"#A80036\" points=\"251.26,87.72,249.4475,94.6996,255.193,99.0572,257.0056,92.0776,251.26,87.72\" style=\"stroke: #A80036; stroke-width: 1.0;\"/><text fill=\"#000000\" font-family=\"sans-serif\" font-size=\"13\" lengthAdjust=\"spacingAndGlyphs\" textLength=\"7\" x=\"269.1999\" y=\"142.8709\">*</text></a><!--MD5=[22f5b4bae7e060dce8a1c8021efdb95b]\n",
       "reverse link E8 to E9--><a href=\"psysml:599cc28e-37a4-4871-97e7-8713776fcf23\" target=\"_top\" title=\"psysml:599cc28e-37a4-4871-97e7-8713776fcf23\" xlink:actuate=\"onRequest\" xlink:href=\"psysml:599cc28e-37a4-4871-97e7-8713776fcf23\" xlink:show=\"new\" xlink:title=\"psysml:599cc28e-37a4-4871-97e7-8713776fcf23\" xlink:type=\"simple\"><path d=\"M304,213.44 C304,228.87 304,246.47 304,259.98 \" fill=\"none\" id=\"E8&lt;-E9\" style=\"stroke: #A80036; stroke-width: 1.0;\"/><polygon fill=\"#A80036\" points=\"304,200.06,300,206.06,304,212.06,308,206.06,304,200.06\" style=\"stroke: #A80036; stroke-width: 1.0;\"/></a><!--MD5=[c679940c5ac5bec0c9f0cc46eb8c39c3]\n",
       "@startuml\r\n",
       " \r\n",
       "package \"ViewTest\" as E1  [[psysml:68a4efc3-4169-49c4-b08f-98091c4bc0be ]]  {\r\n",
       "package \"P\" as E2  [[psysml:d8eb8e98-9fc5-4554-bb79-0a7fb3af234b ]]  {\r\n",
       "}\r\n",
       "comp def \"VP\" as E3  <<(D,brown)viewpoint def>> [[psysml:0e16ef0b-675e-475c-a6ab-030697702310 ]] {\r\n",
       "}\r\n",
       "comp def \"R\" as E4  << (B,green) >> [[psysml:80b9aeea-925b-4b3a-8c84-ce381a5e60ed ]] {\r\n",
       "}\r\n",
       "comp def \"V\" as E5  << (B,green) >> [[psysml:fa67c82a-cf4c-4211-8405-b886e7fced61 ]] {\r\n",
       "}\r\n",
       "comp usage \"vp: VP\" as E6  <<(U,orange)viewpoint>> [[psysml:edb93869-3e30-4330-ae7d-f0dbadb8ae6e ]] {\r\n",
       "}\r\n",
       "comp usage \"r: R\" as E7  << (P,limegreen) part>> [[psysml:d3ad1959-ed24-48c6-b8cb-3101ea5444ce ]] {\r\n",
       "}\r\n",
       "comp usage \"v: V\" as E8  << (P,limegreen) part>> [[psysml:c79df832-858d-4f87-b041-227cc7f695ce ]] {\r\n",
       "}\r\n",
       "comp usage \"r1\" as E9  << (P,limegreen) part>> [[psysml:599cc28e-37a4-4871-97e7-8713776fcf23 ]] {\r\n",
       "}\r\n",
       "E5 *- - E6 [[psysml:edb93869-3e30-4330-ae7d-f0dbadb8ae6e ]] \r\n",
       "E6 - -:|> E3 [[psysml:678c28b1-b825-4869-b6db-341a5ef18df5 ]] \r\n",
       "E7 - -:|> E4 [[psysml:e01b0a28-1744-4d35-a29d-a960e4229aec ]] \r\n",
       "E5 *- - \"0..1\"E7 [[psysml:d3ad1959-ed24-48c6-b8cb-3101ea5444ce ]] \r\n",
       "E8 - -:|> E5 [[psysml:3896f3dd-ac25-48cd-93fb-dac3b3d02068 ]] \r\n",
       "E5 *- - \"*\"E8 [[psysml:c79df832-858d-4f87-b041-227cc7f695ce ]] \r\n",
       "E8 *- - E9 [[psysml:599cc28e-37a4-4871-97e7-8713776fcf23 ]] \r\n",
       "}\r\n",
       "@enduml\r\n",
       "\n",
       "PlantUML version 1.2020.13(Sat Jun 13 12:26:38 UTC 2020)\n",
       "(EPL source distribution)\n",
       "Java Runtime: OpenJDK Runtime Environment\n",
       "JVM: OpenJDK 64-Bit Server VM\n",
       "Default Encoding: UTF-8\n",
       "Language: en\n",
       "Country: null\n",
       "--></g></svg>"
      ]
     },
     "execution_count": 36,
     "metadata": {},
     "output_type": "execute_result"
    }
   ],
   "source": [
    "%viz --style=\"PLANTUML\" --view=\"MIXED\" \"ViewTest\""
   ]
  },
  {
   "cell_type": "code",
   "execution_count": 37,
   "id": "italian-casting",
   "metadata": {
    "execution": {
     "iopub.execute_input": "2021-03-25T15:10:05.869369Z",
     "iopub.status.busy": "2021-03-25T15:10:05.868476Z",
     "iopub.status.idle": "2021-03-25T15:10:05.963708Z",
     "shell.execute_reply": "2021-03-25T15:10:05.962015Z"
    }
   },
   "outputs": [
    {
     "data": {
      "image/svg+xml": [
       "<?xml version=\"1.0\" encoding=\"UTF-8\" standalone=\"no\"?><svg xmlns=\"http://www.w3.org/2000/svg\" xmlns:xlink=\"http://www.w3.org/1999/xlink\" contentScriptType=\"application/ecmascript\" contentStyleType=\"text/css\" height=\"334px\" preserveAspectRatio=\"none\" style=\"width:417px;height:334px;\" version=\"1.1\" viewBox=\"0 0 417 334\" width=\"417px\" zoomAndPan=\"magnify\"><defs/><g><!--MD5=[fbc87193dbaf4d95561dea2c320d4a47]\n",
       "cluster E1--><a href=\"psysml:68a4efc3-4169-49c4-b08f-98091c4bc0be\" target=\"_top\" title=\"psysml:68a4efc3-4169-49c4-b08f-98091c4bc0be\" xlink:actuate=\"onRequest\" xlink:href=\"psysml:68a4efc3-4169-49c4-b08f-98091c4bc0be\" xlink:show=\"new\" xlink:title=\"psysml:68a4efc3-4169-49c4-b08f-98091c4bc0be\" xlink:type=\"simple\"><polygon fill=\"#FFFFFF\" points=\"16,6,96,6,103,28.2969,395,28.2969,395,322,16,322,16,6\" style=\"stroke: #000000; stroke-width: 1.5;\"/><line style=\"stroke: #000000; stroke-width: 1.5;\" x1=\"16\" x2=\"103\" y1=\"28.2969\" y2=\"28.2969\"/><text fill=\"#000000\" font-family=\"sans-serif\" font-size=\"14\" font-weight=\"bold\" lengthAdjust=\"spacingAndGlyphs\" textLength=\"74\" x=\"20\" y=\"20.9951\">ViewTest</text></a><!--MD5=[09b614a08d8cba4a07c9adeb5e0fee81]\n",
       "class E3--><a href=\"psysml:0e16ef0b-675e-475c-a6ab-030697702310\" target=\"_top\" title=\"psysml:0e16ef0b-675e-475c-a6ab-030697702310\" xlink:actuate=\"onRequest\" xlink:href=\"psysml:0e16ef0b-675e-475c-a6ab-030697702310\" xlink:show=\"new\" xlink:title=\"psysml:0e16ef0b-675e-475c-a6ab-030697702310\" xlink:type=\"simple\"><rect fill=\"#FFFFFF\" height=\"45.9375\" id=\"E3\" style=\"stroke: #383838; stroke-width: 1.5;\" width=\"98\" x=\"32\" y=\"260\"/><text fill=\"#000000\" font-family=\"sans-serif\" font-size=\"12\" font-style=\"italic\" lengthAdjust=\"spacingAndGlyphs\" textLength=\"96\" x=\"33\" y=\"276.1387\">«viewpoint def»</text><text fill=\"#000000\" font-family=\"sans-serif\" font-size=\"12\" lengthAdjust=\"spacingAndGlyphs\" textLength=\"16\" x=\"73\" y=\"290.1074\">VP</text><line style=\"stroke: #383838; stroke-width: 1.5;\" x1=\"33\" x2=\"129\" y1=\"297.9375\" y2=\"297.9375\"/></a><!--MD5=[ebbe1d658d1005bcc118a6aa81145e00]\n",
       "class E4--><a href=\"psysml:80b9aeea-925b-4b3a-8c84-ce381a5e60ed\" target=\"_top\" title=\"psysml:80b9aeea-925b-4b3a-8c84-ce381a5e60ed\" xlink:actuate=\"onRequest\" xlink:href=\"psysml:80b9aeea-925b-4b3a-8c84-ce381a5e60ed\" xlink:show=\"new\" xlink:title=\"psysml:80b9aeea-925b-4b3a-8c84-ce381a5e60ed\" xlink:type=\"simple\"><rect fill=\"#FFFFFF\" height=\"45.9375\" id=\"E4\" style=\"stroke: #383838; stroke-width: 1.5;\" width=\"101\" x=\"165.5\" y=\"260\"/><text fill=\"#000000\" font-family=\"sans-serif\" font-size=\"12\" font-style=\"italic\" lengthAdjust=\"spacingAndGlyphs\" textLength=\"99\" x=\"166.5\" y=\"276.1387\">«rendering def»</text><text fill=\"#000000\" font-family=\"sans-serif\" font-size=\"12\" lengthAdjust=\"spacingAndGlyphs\" textLength=\"8\" x=\"212\" y=\"290.1074\">R</text><line style=\"stroke: #383838; stroke-width: 1.5;\" x1=\"166.5\" x2=\"265.5\" y1=\"297.9375\" y2=\"297.9375\"/></a><!--MD5=[270fce915f116d4de14055a7c1d9a0f3]\n",
       "class E5--><a href=\"psysml:fa67c82a-cf4c-4211-8405-b886e7fced61\" target=\"_top\" title=\"psysml:fa67c82a-cf4c-4211-8405-b886e7fced61\" xlink:actuate=\"onRequest\" xlink:href=\"psysml:fa67c82a-cf4c-4211-8405-b886e7fced61\" xlink:show=\"new\" xlink:title=\"psysml:fa67c82a-cf4c-4211-8405-b886e7fced61\" xlink:type=\"simple\"><rect fill=\"#FFFFFF\" height=\"45.9375\" id=\"E5\" style=\"stroke: #383838; stroke-width: 1.5;\" width=\"66\" x=\"230\" y=\"44.5\"/><text fill=\"#000000\" font-family=\"sans-serif\" font-size=\"12\" font-style=\"italic\" lengthAdjust=\"spacingAndGlyphs\" textLength=\"64\" x=\"231\" y=\"60.6387\">«view def»</text><text fill=\"#000000\" font-family=\"sans-serif\" font-size=\"12\" lengthAdjust=\"spacingAndGlyphs\" textLength=\"8\" x=\"259\" y=\"74.6074\">V</text><line style=\"stroke: #383838; stroke-width: 1.5;\" x1=\"231\" x2=\"295\" y1=\"82.4375\" y2=\"82.4375\"/></a><!--MD5=[60a26617385b1d2d0262a64233df1f8d]\n",
       "class E6--><a href=\"psysml:edb93869-3e30-4330-ae7d-f0dbadb8ae6e\" target=\"_top\" title=\"psysml:edb93869-3e30-4330-ae7d-f0dbadb8ae6e\" xlink:actuate=\"onRequest\" xlink:href=\"psysml:edb93869-3e30-4330-ae7d-f0dbadb8ae6e\" xlink:show=\"new\" xlink:title=\"psysml:edb93869-3e30-4330-ae7d-f0dbadb8ae6e\" xlink:type=\"simple\"><rect fill=\"#FFFFFF\" height=\"45.9375\" id=\"E6\" rx=\"10\" ry=\"10\" style=\"stroke: #383838; stroke-width: 1.5;\" width=\"74\" x=\"56\" y=\"154\"/><text fill=\"#000000\" font-family=\"sans-serif\" font-size=\"12\" font-style=\"italic\" lengthAdjust=\"spacingAndGlyphs\" textLength=\"72\" x=\"57\" y=\"170.1387\">«viewpoint»</text><text fill=\"#000000\" font-family=\"sans-serif\" font-size=\"12\" lengthAdjust=\"spacingAndGlyphs\" textLength=\"38\" x=\"74\" y=\"184.1074\">vp: VP</text><line style=\"stroke: #383838; stroke-width: 1.5;\" x1=\"57\" x2=\"129\" y1=\"191.9375\" y2=\"191.9375\"/></a><!--MD5=[2156ba9850f5573cc1fc38a6a4b2f02b]\n",
       "class E7--><a href=\"psysml:d3ad1959-ed24-48c6-b8cb-3101ea5444ce\" target=\"_top\" title=\"psysml:d3ad1959-ed24-48c6-b8cb-3101ea5444ce\" xlink:actuate=\"onRequest\" xlink:href=\"psysml:d3ad1959-ed24-48c6-b8cb-3101ea5444ce\" xlink:show=\"new\" xlink:title=\"psysml:d3ad1959-ed24-48c6-b8cb-3101ea5444ce\" xlink:type=\"simple\"><rect fill=\"#FFFFFF\" height=\"45.9375\" id=\"E7\" rx=\"10\" ry=\"10\" style=\"stroke: #383838; stroke-width: 1.5;\" width=\"77\" x=\"177.5\" y=\"154\"/><text fill=\"#000000\" font-family=\"sans-serif\" font-size=\"12\" font-style=\"italic\" lengthAdjust=\"spacingAndGlyphs\" textLength=\"75\" x=\"178.5\" y=\"170.1387\">«rendering»</text><text fill=\"#000000\" font-family=\"sans-serif\" font-size=\"12\" lengthAdjust=\"spacingAndGlyphs\" textLength=\"21\" x=\"205.5\" y=\"184.1074\">r: R</text><line style=\"stroke: #383838; stroke-width: 1.5;\" x1=\"178.5\" x2=\"253.5\" y1=\"191.9375\" y2=\"191.9375\"/></a><!--MD5=[b9389687b975829384b498ac4b7476b2]\n",
       "class E8--><a href=\"psysml:c79df832-858d-4f87-b041-227cc7f695ce\" target=\"_top\" title=\"psysml:c79df832-858d-4f87-b041-227cc7f695ce\" xlink:actuate=\"onRequest\" xlink:href=\"psysml:c79df832-858d-4f87-b041-227cc7f695ce\" xlink:show=\"new\" xlink:title=\"psysml:c79df832-858d-4f87-b041-227cc7f695ce\" xlink:type=\"simple\"><rect fill=\"#FFFFFF\" height=\"45.9375\" id=\"E8\" rx=\"10\" ry=\"10\" style=\"stroke: #383838; stroke-width: 1.5;\" width=\"42\" x=\"290\" y=\"154\"/><text fill=\"#000000\" font-family=\"sans-serif\" font-size=\"12\" font-style=\"italic\" lengthAdjust=\"spacingAndGlyphs\" textLength=\"40\" x=\"291\" y=\"170.1387\">«view»</text><text fill=\"#000000\" font-family=\"sans-serif\" font-size=\"12\" lengthAdjust=\"spacingAndGlyphs\" textLength=\"22\" x=\"300\" y=\"184.1074\">v: V</text><line style=\"stroke: #383838; stroke-width: 1.5;\" x1=\"291\" x2=\"331\" y1=\"191.9375\" y2=\"191.9375\"/></a><!--MD5=[fd4143e9d270a159db93a4ea2a975926]\n",
       "class E9--><a href=\"psysml:599cc28e-37a4-4871-97e7-8713776fcf23\" target=\"_top\" title=\"psysml:599cc28e-37a4-4871-97e7-8713776fcf23\" xlink:actuate=\"onRequest\" xlink:href=\"psysml:599cc28e-37a4-4871-97e7-8713776fcf23\" xlink:show=\"new\" xlink:title=\"psysml:599cc28e-37a4-4871-97e7-8713776fcf23\" xlink:type=\"simple\"><rect fill=\"#FFFFFF\" height=\"45.9375\" id=\"E9\" rx=\"10\" ry=\"10\" style=\"stroke: #383838; stroke-width: 1.5;\" width=\"77\" x=\"301.5\" y=\"260\"/><text fill=\"#000000\" font-family=\"sans-serif\" font-size=\"12\" font-style=\"italic\" lengthAdjust=\"spacingAndGlyphs\" textLength=\"75\" x=\"302.5\" y=\"276.1387\">«rendering»</text><text fill=\"#000000\" font-family=\"sans-serif\" font-size=\"12\" lengthAdjust=\"spacingAndGlyphs\" textLength=\"13\" x=\"333.5\" y=\"290.1074\">r1</text><line style=\"stroke: #383838; stroke-width: 1.5;\" x1=\"302.5\" x2=\"377.5\" y1=\"297.9375\" y2=\"297.9375\"/></a><a href=\"psysml:d8eb8e98-9fc5-4554-bb79-0a7fb3af234b\" target=\"_top\" title=\"psysml:d8eb8e98-9fc5-4554-bb79-0a7fb3af234b\" xlink:actuate=\"onRequest\" xlink:href=\"psysml:d8eb8e98-9fc5-4554-bb79-0a7fb3af234b\" xlink:show=\"new\" xlink:title=\"psysml:d8eb8e98-9fc5-4554-bb79-0a7fb3af234b\" xlink:type=\"simple\"><polygon fill=\"#FFFFFF\" points=\"122,41,138,41,145,63.2969,152,63.2969,152,93.5938,122,93.5938,122,41\" style=\"stroke: #000000; stroke-width: 1.5;\"/><line style=\"stroke: #000000; stroke-width: 1.5;\" x1=\"122\" x2=\"145\" y1=\"63.2969\" y2=\"63.2969\"/><text fill=\"#000000\" font-family=\"sans-serif\" font-size=\"14\" font-weight=\"bold\" lengthAdjust=\"spacingAndGlyphs\" textLength=\"10\" x=\"126\" y=\"55.9951\">P</text></a><!--MD5=[85d356282659285ab4b2cfe2f634dd2b]\n",
       "reverse link E5 to E6--><a href=\"psysml:edb93869-3e30-4330-ae7d-f0dbadb8ae6e\" target=\"_top\" title=\"psysml:edb93869-3e30-4330-ae7d-f0dbadb8ae6e\" xlink:actuate=\"onRequest\" xlink:href=\"psysml:edb93869-3e30-4330-ae7d-f0dbadb8ae6e\" xlink:show=\"new\" xlink:title=\"psysml:edb93869-3e30-4330-ae7d-f0dbadb8ae6e\" xlink:type=\"simple\"><path d=\"M218.61,96.57 C190.28,114.48 154.1,137.36 127.85,153.96 \" fill=\"none\" id=\"E5&lt;-E6\" style=\"stroke: #383838; stroke-width: 1.0;\"/><polygon fill=\"#383838\" points=\"229.82,89.48,222.6111,89.2999,219.6723,95.8849,226.8811,96.0651,229.82,89.48\" style=\"stroke: #383838; stroke-width: 1.0;\"/></a><!--MD5=[a717450b82c80b9240a525fa862496af]\n",
       "link E6 to E3--><a href=\"psysml:678c28b1-b825-4869-b6db-341a5ef18df5\" target=\"_top\" title=\"psysml:678c28b1-b825-4869-b6db-341a5ef18df5\" xlink:actuate=\"onRequest\" xlink:href=\"psysml:678c28b1-b825-4869-b6db-341a5ef18df5\" xlink:show=\"new\" xlink:title=\"psysml:678c28b1-b825-4869-b6db-341a5ef18df5\" xlink:type=\"simple\"><path d=\"M90.46,200.06 C89.12,211.64 87.44,226.23 85.86,239.87 \" fill=\"none\" id=\"E6-&gt;E3\" style=\"stroke: #383838; stroke-width: 1.0;\"/><polygon fill=\"#FFFFFF\" points=\"83.54,259.98,78.757,240.3046,92.6653,241.9044,83.54,259.98\" style=\"stroke: #383838; stroke-width: 1.0;\"/><ellipse cx=\"81.3953\" cy=\"234.8704\" fill=\"#383838\" rx=\"2\" ry=\"2\" style=\"stroke: #383838; stroke-width: 1.0;\"/><ellipse cx=\"91.3298\" cy=\"236.0132\" fill=\"#383838\" rx=\"2\" ry=\"2\" style=\"stroke: #383838; stroke-width: 1.0;\"/></a><!--MD5=[6bdd27f9905911a7e892a3dc65cf6b7c]\n",
       "link E7 to E4--><a href=\"psysml:e01b0a28-1744-4d35-a29d-a960e4229aec\" target=\"_top\" title=\"psysml:e01b0a28-1744-4d35-a29d-a960e4229aec\" xlink:actuate=\"onRequest\" xlink:href=\"psysml:e01b0a28-1744-4d35-a29d-a960e4229aec\" xlink:show=\"new\" xlink:title=\"psysml:e01b0a28-1744-4d35-a29d-a960e4229aec\" xlink:type=\"simple\"><path d=\"M216,200.06 C216,211.64 216,226.23 216,239.87 \" fill=\"none\" id=\"E7-&gt;E4\" style=\"stroke: #383838; stroke-width: 1.0;\"/><polygon fill=\"#FFFFFF\" points=\"216,259.98,209,240.98,223,240.98,216,259.98\" style=\"stroke: #383838; stroke-width: 1.0;\"/><ellipse cx=\"211\" cy=\"235.28\" fill=\"#383838\" rx=\"2\" ry=\"2\" style=\"stroke: #383838; stroke-width: 1.0;\"/><ellipse cx=\"221\" cy=\"235.28\" fill=\"#383838\" rx=\"2\" ry=\"2\" style=\"stroke: #383838; stroke-width: 1.0;\"/></a><!--MD5=[452b418e7f8a40397a49b8c0a78acc5b]\n",
       "reverse link E5 to E7--><a href=\"psysml:d3ad1959-ed24-48c6-b8cb-3101ea5444ce\" target=\"_top\" title=\"psysml:d3ad1959-ed24-48c6-b8cb-3101ea5444ce\" xlink:actuate=\"onRequest\" xlink:href=\"psysml:d3ad1959-ed24-48c6-b8cb-3101ea5444ce\" xlink:show=\"new\" xlink:title=\"psysml:d3ad1959-ed24-48c6-b8cb-3101ea5444ce\" xlink:type=\"simple\"><path d=\"M248.1,102.57 C240.81,119.26 232.23,138.89 225.77,153.65 \" fill=\"none\" id=\"E5&lt;-E7\" style=\"stroke: #383838; stroke-width: 1.0;\"/><polygon fill=\"#383838\" points=\"253.38,90.51,247.31,94.4029,248.5688,101.5033,254.6388,97.6104,253.38,90.51\" style=\"stroke: #383838; stroke-width: 1.0;\"/><text fill=\"#000000\" font-family=\"sans-serif\" font-size=\"13\" lengthAdjust=\"spacingAndGlyphs\" textLength=\"24\" x=\"201.1986\" y=\"142.8366\">0..1</text></a><!--MD5=[1ccb2481ffa92f8d51a74ee30c51832a]\n",
       "link E8 to E5--><a href=\"psysml:3896f3dd-ac25-48cd-93fb-dac3b3d02068\" target=\"_top\" title=\"psysml:3896f3dd-ac25-48cd-93fb-dac3b3d02068\" xlink:actuate=\"onRequest\" xlink:href=\"psysml:3896f3dd-ac25-48cd-93fb-dac3b3d02068\" xlink:show=\"new\" xlink:title=\"psysml:3896f3dd-ac25-48cd-93fb-dac3b3d02068\" xlink:type=\"simple\"><path d=\"M312.22,153.65 C308.53,140.48 301.55,123.44 293.74,108.07 \" fill=\"none\" id=\"E8-&gt;E5\" style=\"stroke: #383838; stroke-width: 1.0;\"/><polygon fill=\"#FFFFFF\" points=\"283.97,90.51,299.3209,103.7142,287.0851,110.5174,283.97,90.51\" style=\"stroke: #383838; stroke-width: 1.0;\"/><ellipse cx=\"300.3428\" cy=\"109.6678\" fill=\"#383838\" rx=\"2\" ry=\"2\" style=\"stroke: #383838; stroke-width: 1.0;\"/><ellipse cx=\"291.6029\" cy=\"114.5273\" fill=\"#383838\" rx=\"2\" ry=\"2\" style=\"stroke: #383838; stroke-width: 1.0;\"/></a><!--MD5=[827760032d119d06bbc92f75530fd7ae]\n",
       "reverse link E5 to E8--><a href=\"psysml:c79df832-858d-4f87-b041-227cc7f695ce\" target=\"_top\" title=\"psysml:c79df832-858d-4f87-b041-227cc7f695ce\" xlink:actuate=\"onRequest\" xlink:href=\"psysml:c79df832-858d-4f87-b041-227cc7f695ce\" xlink:show=\"new\" xlink:title=\"psysml:c79df832-858d-4f87-b041-227cc7f695ce\" xlink:type=\"simple\"><path d=\"M266.44,103.07 C272.49,119.65 281.62,139.03 290.44,153.65 \" fill=\"none\" id=\"E5&lt;-E8\" style=\"stroke: #383838; stroke-width: 1.0;\"/><polygon fill=\"#383838\" points=\"262.31,90.51,260.3836,97.459,266.0572,101.9099,267.9836,94.9609,262.31,90.51\" style=\"stroke: #383838; stroke-width: 1.0;\"/><text fill=\"#000000\" font-family=\"sans-serif\" font-size=\"13\" lengthAdjust=\"spacingAndGlyphs\" textLength=\"7\" x=\"277.2746\" y=\"142.8366\">*</text></a><!--MD5=[22f5b4bae7e060dce8a1c8021efdb95b]\n",
       "reverse link E8 to E9--><a href=\"psysml:599cc28e-37a4-4871-97e7-8713776fcf23\" target=\"_top\" title=\"psysml:599cc28e-37a4-4871-97e7-8713776fcf23\" xlink:actuate=\"onRequest\" xlink:href=\"psysml:599cc28e-37a4-4871-97e7-8713776fcf23\" xlink:show=\"new\" xlink:title=\"psysml:599cc28e-37a4-4871-97e7-8713776fcf23\" xlink:type=\"simple\"><path d=\"M320.75,212.96 C325.08,228.51 330.05,246.33 333.86,259.98 \" fill=\"none\" id=\"E8&lt;-E9\" style=\"stroke: #383838; stroke-width: 1.0;\"/><polygon fill=\"#383838\" points=\"317.15,200.06,314.9066,206.9133,320.3699,211.6199,322.6133,204.7667,317.15,200.06\" style=\"stroke: #383838; stroke-width: 1.0;\"/></a><!--MD5=[ee7400195824704f49189a7d12a388a7]\n",
       "@startuml\r\n",
       "skinparam monochrome true\r\n",
       "skinparam classbackgroundcolor white\r\n",
       "skinparam shadowing false\r\n",
       "skinparam wrapWidth 300\r\n",
       "hide circle\r\n",
       "\r\n",
       "package \"ViewTest\" as E1  [[psysml:68a4efc3-4169-49c4-b08f-98091c4bc0be ]]  {\r\n",
       "package \"P\" as E2  [[psysml:d8eb8e98-9fc5-4554-bb79-0a7fb3af234b ]]  {\r\n",
       "}\r\n",
       "comp def \"VP\" as E3  <<(T,blue)viewpoint def>> [[psysml:0e16ef0b-675e-475c-a6ab-030697702310 ]] {\r\n",
       "}\r\n",
       "comp def \"R\" as E4  <<(T,blue)rendering def>> [[psysml:80b9aeea-925b-4b3a-8c84-ce381a5e60ed ]] {\r\n",
       "}\r\n",
       "comp def \"V\" as E5  <<(T,blue)view def>> [[psysml:fa67c82a-cf4c-4211-8405-b886e7fced61 ]] {\r\n",
       "}\r\n",
       "comp usage \"vp: VP\" as E6  <<(T,blue)viewpoint>> [[psysml:edb93869-3e30-4330-ae7d-f0dbadb8ae6e ]] {\r\n",
       "}\r\n",
       "comp usage \"r: R\" as E7  <<(T,blue)rendering>> [[psysml:d3ad1959-ed24-48c6-b8cb-3101ea5444ce ]] {\r\n",
       "}\r\n",
       "comp usage \"v: V\" as E8  <<(T,blue)view>> [[psysml:c79df832-858d-4f87-b041-227cc7f695ce ]] {\r\n",
       "}\r\n",
       "comp usage \"r1\" as E9  <<(T,blue)rendering>> [[psysml:599cc28e-37a4-4871-97e7-8713776fcf23 ]] {\r\n",
       "}\r\n",
       "E5 *- - E6 [[psysml:edb93869-3e30-4330-ae7d-f0dbadb8ae6e ]] \r\n",
       "E6 - -:|> E3 [[psysml:678c28b1-b825-4869-b6db-341a5ef18df5 ]] \r\n",
       "E7 - -:|> E4 [[psysml:e01b0a28-1744-4d35-a29d-a960e4229aec ]] \r\n",
       "E5 *- - \"0..1\"E7 [[psysml:d3ad1959-ed24-48c6-b8cb-3101ea5444ce ]] \r\n",
       "E8 - -:|> E5 [[psysml:3896f3dd-ac25-48cd-93fb-dac3b3d02068 ]] \r\n",
       "E5 *- - \"*\"E8 [[psysml:c79df832-858d-4f87-b041-227cc7f695ce ]] \r\n",
       "E8 *- - E9 [[psysml:599cc28e-37a4-4871-97e7-8713776fcf23 ]] \r\n",
       "}\r\n",
       "@enduml\r\n",
       "\n",
       "PlantUML version 1.2020.13(Sat Jun 13 12:26:38 UTC 2020)\n",
       "(EPL source distribution)\n",
       "Java Runtime: OpenJDK Runtime Environment\n",
       "JVM: OpenJDK 64-Bit Server VM\n",
       "Default Encoding: UTF-8\n",
       "Language: en\n",
       "Country: null\n",
       "--></g></svg>"
      ]
     },
     "execution_count": 37,
     "metadata": {},
     "output_type": "execute_result"
    }
   ],
   "source": [
    "%viz --style=\"DEFAULT\" --view=\"Default\" \"ViewTest\""
   ]
  },
  {
   "cell_type": "code",
   "execution_count": 38,
   "id": "elegant-footage",
   "metadata": {
    "execution": {
     "iopub.execute_input": "2021-03-25T15:10:06.014773Z",
     "iopub.status.busy": "2021-03-25T15:10:06.014234Z",
     "iopub.status.idle": "2021-03-25T15:10:06.111974Z",
     "shell.execute_reply": "2021-03-25T15:10:06.110353Z"
    }
   },
   "outputs": [
    {
     "data": {
      "image/svg+xml": [
       "<?xml version=\"1.0\" encoding=\"UTF-8\" standalone=\"no\"?><svg xmlns=\"http://www.w3.org/2000/svg\" xmlns:xlink=\"http://www.w3.org/1999/xlink\" contentScriptType=\"application/ecmascript\" contentStyleType=\"text/css\" height=\"334px\" preserveAspectRatio=\"none\" style=\"width:417px;height:334px;\" version=\"1.1\" viewBox=\"0 0 417 334\" width=\"417px\" zoomAndPan=\"magnify\"><defs/><g><!--MD5=[fbc87193dbaf4d95561dea2c320d4a47]\n",
       "cluster E1--><a href=\"psysml:68a4efc3-4169-49c4-b08f-98091c4bc0be\" target=\"_top\" title=\"psysml:68a4efc3-4169-49c4-b08f-98091c4bc0be\" xlink:actuate=\"onRequest\" xlink:href=\"psysml:68a4efc3-4169-49c4-b08f-98091c4bc0be\" xlink:show=\"new\" xlink:title=\"psysml:68a4efc3-4169-49c4-b08f-98091c4bc0be\" xlink:type=\"simple\"><polygon fill=\"#FFFFFF\" points=\"16,6,96,6,103,28.2969,395,28.2969,395,322,16,322,16,6\" style=\"stroke: #000000; stroke-width: 1.5;\"/><line style=\"stroke: #000000; stroke-width: 1.5;\" x1=\"16\" x2=\"103\" y1=\"28.2969\" y2=\"28.2969\"/><text fill=\"#000000\" font-family=\"sans-serif\" font-size=\"14\" font-weight=\"bold\" lengthAdjust=\"spacingAndGlyphs\" textLength=\"74\" x=\"20\" y=\"20.9951\">ViewTest</text></a><!--MD5=[09b614a08d8cba4a07c9adeb5e0fee81]\n",
       "class E3--><a href=\"psysml:0e16ef0b-675e-475c-a6ab-030697702310\" target=\"_top\" title=\"psysml:0e16ef0b-675e-475c-a6ab-030697702310\" xlink:actuate=\"onRequest\" xlink:href=\"psysml:0e16ef0b-675e-475c-a6ab-030697702310\" xlink:show=\"new\" xlink:title=\"psysml:0e16ef0b-675e-475c-a6ab-030697702310\" xlink:type=\"simple\"><rect fill=\"#FFFFFF\" height=\"45.9375\" id=\"E3\" style=\"stroke: #383838; stroke-width: 1.5;\" width=\"98\" x=\"32\" y=\"260\"/><text fill=\"#000000\" font-family=\"sans-serif\" font-size=\"12\" font-style=\"italic\" lengthAdjust=\"spacingAndGlyphs\" textLength=\"96\" x=\"33\" y=\"276.1387\">«viewpoint def»</text><text fill=\"#000000\" font-family=\"sans-serif\" font-size=\"12\" lengthAdjust=\"spacingAndGlyphs\" textLength=\"16\" x=\"73\" y=\"290.1074\">VP</text><line style=\"stroke: #383838; stroke-width: 1.5;\" x1=\"33\" x2=\"129\" y1=\"297.9375\" y2=\"297.9375\"/></a><!--MD5=[ebbe1d658d1005bcc118a6aa81145e00]\n",
       "class E4--><a href=\"psysml:80b9aeea-925b-4b3a-8c84-ce381a5e60ed\" target=\"_top\" title=\"psysml:80b9aeea-925b-4b3a-8c84-ce381a5e60ed\" xlink:actuate=\"onRequest\" xlink:href=\"psysml:80b9aeea-925b-4b3a-8c84-ce381a5e60ed\" xlink:show=\"new\" xlink:title=\"psysml:80b9aeea-925b-4b3a-8c84-ce381a5e60ed\" xlink:type=\"simple\"><rect fill=\"#FFFFFF\" height=\"45.9375\" id=\"E4\" style=\"stroke: #383838; stroke-width: 1.5;\" width=\"101\" x=\"165.5\" y=\"260\"/><text fill=\"#000000\" font-family=\"sans-serif\" font-size=\"12\" font-style=\"italic\" lengthAdjust=\"spacingAndGlyphs\" textLength=\"99\" x=\"166.5\" y=\"276.1387\">«rendering def»</text><text fill=\"#000000\" font-family=\"sans-serif\" font-size=\"12\" lengthAdjust=\"spacingAndGlyphs\" textLength=\"8\" x=\"212\" y=\"290.1074\">R</text><line style=\"stroke: #383838; stroke-width: 1.5;\" x1=\"166.5\" x2=\"265.5\" y1=\"297.9375\" y2=\"297.9375\"/></a><!--MD5=[270fce915f116d4de14055a7c1d9a0f3]\n",
       "class E5--><a href=\"psysml:fa67c82a-cf4c-4211-8405-b886e7fced61\" target=\"_top\" title=\"psysml:fa67c82a-cf4c-4211-8405-b886e7fced61\" xlink:actuate=\"onRequest\" xlink:href=\"psysml:fa67c82a-cf4c-4211-8405-b886e7fced61\" xlink:show=\"new\" xlink:title=\"psysml:fa67c82a-cf4c-4211-8405-b886e7fced61\" xlink:type=\"simple\"><rect fill=\"#FFFFFF\" height=\"45.9375\" id=\"E5\" style=\"stroke: #383838; stroke-width: 1.5;\" width=\"66\" x=\"230\" y=\"44.5\"/><text fill=\"#000000\" font-family=\"sans-serif\" font-size=\"12\" font-style=\"italic\" lengthAdjust=\"spacingAndGlyphs\" textLength=\"64\" x=\"231\" y=\"60.6387\">«view def»</text><text fill=\"#000000\" font-family=\"sans-serif\" font-size=\"12\" lengthAdjust=\"spacingAndGlyphs\" textLength=\"8\" x=\"259\" y=\"74.6074\">V</text><line style=\"stroke: #383838; stroke-width: 1.5;\" x1=\"231\" x2=\"295\" y1=\"82.4375\" y2=\"82.4375\"/></a><!--MD5=[60a26617385b1d2d0262a64233df1f8d]\n",
       "class E6--><a href=\"psysml:edb93869-3e30-4330-ae7d-f0dbadb8ae6e\" target=\"_top\" title=\"psysml:edb93869-3e30-4330-ae7d-f0dbadb8ae6e\" xlink:actuate=\"onRequest\" xlink:href=\"psysml:edb93869-3e30-4330-ae7d-f0dbadb8ae6e\" xlink:show=\"new\" xlink:title=\"psysml:edb93869-3e30-4330-ae7d-f0dbadb8ae6e\" xlink:type=\"simple\"><rect fill=\"#FFFFFF\" height=\"45.9375\" id=\"E6\" rx=\"10\" ry=\"10\" style=\"stroke: #383838; stroke-width: 1.5;\" width=\"74\" x=\"56\" y=\"154\"/><text fill=\"#000000\" font-family=\"sans-serif\" font-size=\"12\" font-style=\"italic\" lengthAdjust=\"spacingAndGlyphs\" textLength=\"72\" x=\"57\" y=\"170.1387\">«viewpoint»</text><text fill=\"#000000\" font-family=\"sans-serif\" font-size=\"12\" lengthAdjust=\"spacingAndGlyphs\" textLength=\"38\" x=\"74\" y=\"184.1074\">vp: VP</text><line style=\"stroke: #383838; stroke-width: 1.5;\" x1=\"57\" x2=\"129\" y1=\"191.9375\" y2=\"191.9375\"/></a><!--MD5=[2156ba9850f5573cc1fc38a6a4b2f02b]\n",
       "class E7--><a href=\"psysml:d3ad1959-ed24-48c6-b8cb-3101ea5444ce\" target=\"_top\" title=\"psysml:d3ad1959-ed24-48c6-b8cb-3101ea5444ce\" xlink:actuate=\"onRequest\" xlink:href=\"psysml:d3ad1959-ed24-48c6-b8cb-3101ea5444ce\" xlink:show=\"new\" xlink:title=\"psysml:d3ad1959-ed24-48c6-b8cb-3101ea5444ce\" xlink:type=\"simple\"><rect fill=\"#FFFFFF\" height=\"45.9375\" id=\"E7\" rx=\"10\" ry=\"10\" style=\"stroke: #383838; stroke-width: 1.5;\" width=\"77\" x=\"177.5\" y=\"154\"/><text fill=\"#000000\" font-family=\"sans-serif\" font-size=\"12\" font-style=\"italic\" lengthAdjust=\"spacingAndGlyphs\" textLength=\"75\" x=\"178.5\" y=\"170.1387\">«rendering»</text><text fill=\"#000000\" font-family=\"sans-serif\" font-size=\"12\" lengthAdjust=\"spacingAndGlyphs\" textLength=\"21\" x=\"205.5\" y=\"184.1074\">r: R</text><line style=\"stroke: #383838; stroke-width: 1.5;\" x1=\"178.5\" x2=\"253.5\" y1=\"191.9375\" y2=\"191.9375\"/></a><!--MD5=[b9389687b975829384b498ac4b7476b2]\n",
       "class E8--><a href=\"psysml:c79df832-858d-4f87-b041-227cc7f695ce\" target=\"_top\" title=\"psysml:c79df832-858d-4f87-b041-227cc7f695ce\" xlink:actuate=\"onRequest\" xlink:href=\"psysml:c79df832-858d-4f87-b041-227cc7f695ce\" xlink:show=\"new\" xlink:title=\"psysml:c79df832-858d-4f87-b041-227cc7f695ce\" xlink:type=\"simple\"><rect fill=\"#FFFFFF\" height=\"45.9375\" id=\"E8\" rx=\"10\" ry=\"10\" style=\"stroke: #383838; stroke-width: 1.5;\" width=\"42\" x=\"290\" y=\"154\"/><text fill=\"#000000\" font-family=\"sans-serif\" font-size=\"12\" font-style=\"italic\" lengthAdjust=\"spacingAndGlyphs\" textLength=\"40\" x=\"291\" y=\"170.1387\">«view»</text><text fill=\"#000000\" font-family=\"sans-serif\" font-size=\"12\" lengthAdjust=\"spacingAndGlyphs\" textLength=\"22\" x=\"300\" y=\"184.1074\">v: V</text><line style=\"stroke: #383838; stroke-width: 1.5;\" x1=\"291\" x2=\"331\" y1=\"191.9375\" y2=\"191.9375\"/></a><!--MD5=[fd4143e9d270a159db93a4ea2a975926]\n",
       "class E9--><a href=\"psysml:599cc28e-37a4-4871-97e7-8713776fcf23\" target=\"_top\" title=\"psysml:599cc28e-37a4-4871-97e7-8713776fcf23\" xlink:actuate=\"onRequest\" xlink:href=\"psysml:599cc28e-37a4-4871-97e7-8713776fcf23\" xlink:show=\"new\" xlink:title=\"psysml:599cc28e-37a4-4871-97e7-8713776fcf23\" xlink:type=\"simple\"><rect fill=\"#FFFFFF\" height=\"45.9375\" id=\"E9\" rx=\"10\" ry=\"10\" style=\"stroke: #383838; stroke-width: 1.5;\" width=\"77\" x=\"301.5\" y=\"260\"/><text fill=\"#000000\" font-family=\"sans-serif\" font-size=\"12\" font-style=\"italic\" lengthAdjust=\"spacingAndGlyphs\" textLength=\"75\" x=\"302.5\" y=\"276.1387\">«rendering»</text><text fill=\"#000000\" font-family=\"sans-serif\" font-size=\"12\" lengthAdjust=\"spacingAndGlyphs\" textLength=\"13\" x=\"333.5\" y=\"290.1074\">r1</text><line style=\"stroke: #383838; stroke-width: 1.5;\" x1=\"302.5\" x2=\"377.5\" y1=\"297.9375\" y2=\"297.9375\"/></a><a href=\"psysml:d8eb8e98-9fc5-4554-bb79-0a7fb3af234b\" target=\"_top\" title=\"psysml:d8eb8e98-9fc5-4554-bb79-0a7fb3af234b\" xlink:actuate=\"onRequest\" xlink:href=\"psysml:d8eb8e98-9fc5-4554-bb79-0a7fb3af234b\" xlink:show=\"new\" xlink:title=\"psysml:d8eb8e98-9fc5-4554-bb79-0a7fb3af234b\" xlink:type=\"simple\"><polygon fill=\"#FFFFFF\" points=\"122,41,138,41,145,63.2969,152,63.2969,152,93.5938,122,93.5938,122,41\" style=\"stroke: #000000; stroke-width: 1.5;\"/><line style=\"stroke: #000000; stroke-width: 1.5;\" x1=\"122\" x2=\"145\" y1=\"63.2969\" y2=\"63.2969\"/><text fill=\"#000000\" font-family=\"sans-serif\" font-size=\"14\" font-weight=\"bold\" lengthAdjust=\"spacingAndGlyphs\" textLength=\"10\" x=\"126\" y=\"55.9951\">P</text></a><!--MD5=[85d356282659285ab4b2cfe2f634dd2b]\n",
       "reverse link E5 to E6--><a href=\"psysml:edb93869-3e30-4330-ae7d-f0dbadb8ae6e\" target=\"_top\" title=\"psysml:edb93869-3e30-4330-ae7d-f0dbadb8ae6e\" xlink:actuate=\"onRequest\" xlink:href=\"psysml:edb93869-3e30-4330-ae7d-f0dbadb8ae6e\" xlink:show=\"new\" xlink:title=\"psysml:edb93869-3e30-4330-ae7d-f0dbadb8ae6e\" xlink:type=\"simple\"><path d=\"M218.61,96.57 C190.28,114.48 154.1,137.36 127.85,153.96 \" fill=\"none\" id=\"E5&lt;-E6\" style=\"stroke: #383838; stroke-width: 1.0;\"/><polygon fill=\"#383838\" points=\"229.82,89.48,222.6111,89.2999,219.6723,95.8849,226.8811,96.0651,229.82,89.48\" style=\"stroke: #383838; stroke-width: 1.0;\"/></a><!--MD5=[a717450b82c80b9240a525fa862496af]\n",
       "link E6 to E3--><a href=\"psysml:678c28b1-b825-4869-b6db-341a5ef18df5\" target=\"_top\" title=\"psysml:678c28b1-b825-4869-b6db-341a5ef18df5\" xlink:actuate=\"onRequest\" xlink:href=\"psysml:678c28b1-b825-4869-b6db-341a5ef18df5\" xlink:show=\"new\" xlink:title=\"psysml:678c28b1-b825-4869-b6db-341a5ef18df5\" xlink:type=\"simple\"><path d=\"M90.46,200.06 C89.12,211.64 87.44,226.23 85.86,239.87 \" fill=\"none\" id=\"E6-&gt;E3\" style=\"stroke: #383838; stroke-width: 1.0;\"/><polygon fill=\"#FFFFFF\" points=\"83.54,259.98,78.757,240.3046,92.6653,241.9044,83.54,259.98\" style=\"stroke: #383838; stroke-width: 1.0;\"/><ellipse cx=\"81.3953\" cy=\"234.8704\" fill=\"#383838\" rx=\"2\" ry=\"2\" style=\"stroke: #383838; stroke-width: 1.0;\"/><ellipse cx=\"91.3298\" cy=\"236.0132\" fill=\"#383838\" rx=\"2\" ry=\"2\" style=\"stroke: #383838; stroke-width: 1.0;\"/></a><!--MD5=[6bdd27f9905911a7e892a3dc65cf6b7c]\n",
       "link E7 to E4--><a href=\"psysml:e01b0a28-1744-4d35-a29d-a960e4229aec\" target=\"_top\" title=\"psysml:e01b0a28-1744-4d35-a29d-a960e4229aec\" xlink:actuate=\"onRequest\" xlink:href=\"psysml:e01b0a28-1744-4d35-a29d-a960e4229aec\" xlink:show=\"new\" xlink:title=\"psysml:e01b0a28-1744-4d35-a29d-a960e4229aec\" xlink:type=\"simple\"><path d=\"M216,200.06 C216,211.64 216,226.23 216,239.87 \" fill=\"none\" id=\"E7-&gt;E4\" style=\"stroke: #383838; stroke-width: 1.0;\"/><polygon fill=\"#FFFFFF\" points=\"216,259.98,209,240.98,223,240.98,216,259.98\" style=\"stroke: #383838; stroke-width: 1.0;\"/><ellipse cx=\"211\" cy=\"235.28\" fill=\"#383838\" rx=\"2\" ry=\"2\" style=\"stroke: #383838; stroke-width: 1.0;\"/><ellipse cx=\"221\" cy=\"235.28\" fill=\"#383838\" rx=\"2\" ry=\"2\" style=\"stroke: #383838; stroke-width: 1.0;\"/></a><!--MD5=[452b418e7f8a40397a49b8c0a78acc5b]\n",
       "reverse link E5 to E7--><a href=\"psysml:d3ad1959-ed24-48c6-b8cb-3101ea5444ce\" target=\"_top\" title=\"psysml:d3ad1959-ed24-48c6-b8cb-3101ea5444ce\" xlink:actuate=\"onRequest\" xlink:href=\"psysml:d3ad1959-ed24-48c6-b8cb-3101ea5444ce\" xlink:show=\"new\" xlink:title=\"psysml:d3ad1959-ed24-48c6-b8cb-3101ea5444ce\" xlink:type=\"simple\"><path d=\"M248.1,102.57 C240.81,119.26 232.23,138.89 225.77,153.65 \" fill=\"none\" id=\"E5&lt;-E7\" style=\"stroke: #383838; stroke-width: 1.0;\"/><polygon fill=\"#383838\" points=\"253.38,90.51,247.31,94.4029,248.5688,101.5033,254.6388,97.6104,253.38,90.51\" style=\"stroke: #383838; stroke-width: 1.0;\"/><text fill=\"#000000\" font-family=\"sans-serif\" font-size=\"13\" lengthAdjust=\"spacingAndGlyphs\" textLength=\"24\" x=\"201.1986\" y=\"142.8366\">0..1</text></a><!--MD5=[1ccb2481ffa92f8d51a74ee30c51832a]\n",
       "link E8 to E5--><a href=\"psysml:3896f3dd-ac25-48cd-93fb-dac3b3d02068\" target=\"_top\" title=\"psysml:3896f3dd-ac25-48cd-93fb-dac3b3d02068\" xlink:actuate=\"onRequest\" xlink:href=\"psysml:3896f3dd-ac25-48cd-93fb-dac3b3d02068\" xlink:show=\"new\" xlink:title=\"psysml:3896f3dd-ac25-48cd-93fb-dac3b3d02068\" xlink:type=\"simple\"><path d=\"M312.22,153.65 C308.53,140.48 301.55,123.44 293.74,108.07 \" fill=\"none\" id=\"E8-&gt;E5\" style=\"stroke: #383838; stroke-width: 1.0;\"/><polygon fill=\"#FFFFFF\" points=\"283.97,90.51,299.3209,103.7142,287.0851,110.5174,283.97,90.51\" style=\"stroke: #383838; stroke-width: 1.0;\"/><ellipse cx=\"300.3428\" cy=\"109.6678\" fill=\"#383838\" rx=\"2\" ry=\"2\" style=\"stroke: #383838; stroke-width: 1.0;\"/><ellipse cx=\"291.6029\" cy=\"114.5273\" fill=\"#383838\" rx=\"2\" ry=\"2\" style=\"stroke: #383838; stroke-width: 1.0;\"/></a><!--MD5=[827760032d119d06bbc92f75530fd7ae]\n",
       "reverse link E5 to E8--><a href=\"psysml:c79df832-858d-4f87-b041-227cc7f695ce\" target=\"_top\" title=\"psysml:c79df832-858d-4f87-b041-227cc7f695ce\" xlink:actuate=\"onRequest\" xlink:href=\"psysml:c79df832-858d-4f87-b041-227cc7f695ce\" xlink:show=\"new\" xlink:title=\"psysml:c79df832-858d-4f87-b041-227cc7f695ce\" xlink:type=\"simple\"><path d=\"M266.44,103.07 C272.49,119.65 281.62,139.03 290.44,153.65 \" fill=\"none\" id=\"E5&lt;-E8\" style=\"stroke: #383838; stroke-width: 1.0;\"/><polygon fill=\"#383838\" points=\"262.31,90.51,260.3836,97.459,266.0572,101.9099,267.9836,94.9609,262.31,90.51\" style=\"stroke: #383838; stroke-width: 1.0;\"/><text fill=\"#000000\" font-family=\"sans-serif\" font-size=\"13\" lengthAdjust=\"spacingAndGlyphs\" textLength=\"7\" x=\"277.2746\" y=\"142.8366\">*</text></a><!--MD5=[22f5b4bae7e060dce8a1c8021efdb95b]\n",
       "reverse link E8 to E9--><a href=\"psysml:599cc28e-37a4-4871-97e7-8713776fcf23\" target=\"_top\" title=\"psysml:599cc28e-37a4-4871-97e7-8713776fcf23\" xlink:actuate=\"onRequest\" xlink:href=\"psysml:599cc28e-37a4-4871-97e7-8713776fcf23\" xlink:show=\"new\" xlink:title=\"psysml:599cc28e-37a4-4871-97e7-8713776fcf23\" xlink:type=\"simple\"><path d=\"M320.75,212.96 C325.08,228.51 330.05,246.33 333.86,259.98 \" fill=\"none\" id=\"E8&lt;-E9\" style=\"stroke: #383838; stroke-width: 1.0;\"/><polygon fill=\"#383838\" points=\"317.15,200.06,314.9066,206.9133,320.3699,211.6199,322.6133,204.7667,317.15,200.06\" style=\"stroke: #383838; stroke-width: 1.0;\"/></a><!--MD5=[ee7400195824704f49189a7d12a388a7]\n",
       "@startuml\r\n",
       "skinparam monochrome true\r\n",
       "skinparam classbackgroundcolor white\r\n",
       "skinparam shadowing false\r\n",
       "skinparam wrapWidth 300\r\n",
       "hide circle\r\n",
       "\r\n",
       "package \"ViewTest\" as E1  [[psysml:68a4efc3-4169-49c4-b08f-98091c4bc0be ]]  {\r\n",
       "package \"P\" as E2  [[psysml:d8eb8e98-9fc5-4554-bb79-0a7fb3af234b ]]  {\r\n",
       "}\r\n",
       "comp def \"VP\" as E3  <<(T,blue)viewpoint def>> [[psysml:0e16ef0b-675e-475c-a6ab-030697702310 ]] {\r\n",
       "}\r\n",
       "comp def \"R\" as E4  <<(T,blue)rendering def>> [[psysml:80b9aeea-925b-4b3a-8c84-ce381a5e60ed ]] {\r\n",
       "}\r\n",
       "comp def \"V\" as E5  <<(T,blue)view def>> [[psysml:fa67c82a-cf4c-4211-8405-b886e7fced61 ]] {\r\n",
       "}\r\n",
       "comp usage \"vp: VP\" as E6  <<(T,blue)viewpoint>> [[psysml:edb93869-3e30-4330-ae7d-f0dbadb8ae6e ]] {\r\n",
       "}\r\n",
       "comp usage \"r: R\" as E7  <<(T,blue)rendering>> [[psysml:d3ad1959-ed24-48c6-b8cb-3101ea5444ce ]] {\r\n",
       "}\r\n",
       "comp usage \"v: V\" as E8  <<(T,blue)view>> [[psysml:c79df832-858d-4f87-b041-227cc7f695ce ]] {\r\n",
       "}\r\n",
       "comp usage \"r1\" as E9  <<(T,blue)rendering>> [[psysml:599cc28e-37a4-4871-97e7-8713776fcf23 ]] {\r\n",
       "}\r\n",
       "E5 *- - E6 [[psysml:edb93869-3e30-4330-ae7d-f0dbadb8ae6e ]] \r\n",
       "E6 - -:|> E3 [[psysml:678c28b1-b825-4869-b6db-341a5ef18df5 ]] \r\n",
       "E7 - -:|> E4 [[psysml:e01b0a28-1744-4d35-a29d-a960e4229aec ]] \r\n",
       "E5 *- - \"0..1\"E7 [[psysml:d3ad1959-ed24-48c6-b8cb-3101ea5444ce ]] \r\n",
       "E8 - -:|> E5 [[psysml:3896f3dd-ac25-48cd-93fb-dac3b3d02068 ]] \r\n",
       "E5 *- - \"*\"E8 [[psysml:c79df832-858d-4f87-b041-227cc7f695ce ]] \r\n",
       "E8 *- - E9 [[psysml:599cc28e-37a4-4871-97e7-8713776fcf23 ]] \r\n",
       "}\r\n",
       "@enduml\r\n",
       "\n",
       "PlantUML version 1.2020.13(Sat Jun 13 12:26:38 UTC 2020)\n",
       "(EPL source distribution)\n",
       "Java Runtime: OpenJDK Runtime Environment\n",
       "JVM: OpenJDK 64-Bit Server VM\n",
       "Default Encoding: UTF-8\n",
       "Language: en\n",
       "Country: null\n",
       "--></g></svg>"
      ]
     },
     "execution_count": 38,
     "metadata": {},
     "output_type": "execute_result"
    }
   ],
   "source": [
    "%viz --style=\"DEFAULT\" --view=\"Tree\" \"ViewTest\""
   ]
  },
  {
   "cell_type": "code",
   "execution_count": 39,
   "id": "union-worship",
   "metadata": {
    "execution": {
     "iopub.execute_input": "2021-03-25T15:10:06.161353Z",
     "iopub.status.busy": "2021-03-25T15:10:06.160905Z",
     "iopub.status.idle": "2021-03-25T15:10:06.167808Z",
     "shell.execute_reply": "2021-03-25T15:10:06.167412Z"
    }
   },
   "outputs": [
    {
     "data": {
      "image/svg+xml": [
       "<?xml version=\"1.0\" encoding=\"UTF-8\" standalone=\"no\"?><svg xmlns=\"http://www.w3.org/2000/svg\" xmlns:xlink=\"http://www.w3.org/1999/xlink\" contentScriptType=\"application/ecmascript\" contentStyleType=\"text/css\" height=\"12px\" preserveAspectRatio=\"none\" style=\"width:12px;height:12px;\" version=\"1.1\" viewBox=\"0 0 12 12\" width=\"12px\" zoomAndPan=\"magnify\"><defs/><g><!--MD5=[c5f280e076d0d61ccf4b0f27871bda1d]\n",
       "@startuml\r\n",
       "skinparam monochrome true\r\n",
       "skinparam classbackgroundcolor white\r\n",
       "skinparam shadowing false\r\n",
       "skinparam wrapWidth 300\r\n",
       "hide circle\r\n",
       "\r\n",
       "@enduml\r\n",
       "\n",
       "PlantUML version 1.2020.13(Sat Jun 13 12:26:38 UTC 2020)\n",
       "(EPL source distribution)\n",
       "Java Runtime: OpenJDK Runtime Environment\n",
       "JVM: OpenJDK 64-Bit Server VM\n",
       "Default Encoding: UTF-8\n",
       "Language: en\n",
       "Country: null\n",
       "--></g></svg>"
      ]
     },
     "execution_count": 39,
     "metadata": {},
     "output_type": "execute_result"
    }
   ],
   "source": [
    "%viz --style=\"DEFAULT\" --view=\"State\" \"ViewTest\""
   ]
  },
  {
   "cell_type": "code",
   "execution_count": 40,
   "id": "combined-performer",
   "metadata": {
    "execution": {
     "iopub.execute_input": "2021-03-25T15:10:06.218237Z",
     "iopub.status.busy": "2021-03-25T15:10:06.217800Z",
     "iopub.status.idle": "2021-03-25T15:10:06.349004Z",
     "shell.execute_reply": "2021-03-25T15:10:06.348452Z"
    }
   },
   "outputs": [
    {
     "data": {
      "image/svg+xml": [
       "<?xml version=\"1.0\" encoding=\"UTF-8\" standalone=\"no\"?><svg xmlns=\"http://www.w3.org/2000/svg\" xmlns:xlink=\"http://www.w3.org/1999/xlink\" contentScriptType=\"application/ecmascript\" contentStyleType=\"text/css\" height=\"278px\" preserveAspectRatio=\"none\" style=\"width:778px;height:278px;\" version=\"1.1\" viewBox=\"0 0 778 278\" width=\"778px\" zoomAndPan=\"magnify\"><defs/><g><!--MD5=[fbc87193dbaf4d95561dea2c320d4a47]\n",
       "cluster E1--><a href=\"psysml:68a4efc3-4169-49c4-b08f-98091c4bc0be\" target=\"_top\" title=\"psysml:68a4efc3-4169-49c4-b08f-98091c4bc0be\" xlink:actuate=\"onRequest\" xlink:href=\"psysml:68a4efc3-4169-49c4-b08f-98091c4bc0be\" xlink:show=\"new\" xlink:title=\"psysml:68a4efc3-4169-49c4-b08f-98091c4bc0be\" xlink:type=\"simple\"><polygon fill=\"#FFFFFF\" points=\"16,6,96,6,103,28.2969,756,28.2969,756,266,16,266,16,6\" style=\"stroke: #000000; stroke-width: 1.5;\"/><line style=\"stroke: #000000; stroke-width: 1.5;\" x1=\"16\" x2=\"103\" y1=\"28.2969\" y2=\"28.2969\"/><text fill=\"#000000\" font-family=\"sans-serif\" font-size=\"14\" font-weight=\"bold\" lengthAdjust=\"spacingAndGlyphs\" textLength=\"74\" x=\"20\" y=\"20.9951\">ViewTest</text></a><!--MD5=[de5ec2e2e8f62f467e546659f5068c88]\n",
       "cluster E5--><a href=\"psysml:fa67c82a-cf4c-4211-8405-b886e7fced61\" target=\"_top\" title=\"psysml:fa67c82a-cf4c-4211-8405-b886e7fced61\" xlink:actuate=\"onRequest\" xlink:href=\"psysml:fa67c82a-cf4c-4211-8405-b886e7fced61\" xlink:show=\"new\" xlink:title=\"psysml:fa67c82a-cf4c-4211-8405-b886e7fced61\" xlink:type=\"simple\"><rect fill=\"#FFFFFF\" height=\"193\" id=\"E5\" style=\"stroke: #383838; stroke-width: 1.5;\" width=\"329\" x=\"403\" y=\"49\"/><rect fill=\"#F8F8F8\" height=\"37.9375\" style=\"stroke: #383838; stroke-width: 1.5;\" width=\"329\" x=\"403\" y=\"49\"/><text fill=\"#000000\" font-family=\"sans-serif\" font-size=\"12\" font-style=\"italic\" lengthAdjust=\"spacingAndGlyphs\" textLength=\"64\" x=\"535.5\" y=\"65.1387\">«view def»</text><text fill=\"#000000\" font-family=\"sans-serif\" font-size=\"12\" lengthAdjust=\"spacingAndGlyphs\" textLength=\"8\" x=\"563.5\" y=\"79.1074\">V</text></a><!--MD5=[14e3b0961a2654348d326746436168a1]\n",
       "cluster E6--><a href=\"psysml:edb93869-3e30-4330-ae7d-f0dbadb8ae6e\" target=\"_top\" title=\"psysml:edb93869-3e30-4330-ae7d-f0dbadb8ae6e\" xlink:actuate=\"onRequest\" xlink:href=\"psysml:edb93869-3e30-4330-ae7d-f0dbadb8ae6e\" xlink:show=\"new\" xlink:title=\"psysml:edb93869-3e30-4330-ae7d-f0dbadb8ae6e\" xlink:type=\"simple\"><rect fill=\"#FFFFFF\" height=\"110\" id=\"E6\" rx=\"10\" ry=\"10\" style=\"stroke: #383838; stroke-width: 1.5;\" width=\"114\" x=\"594\" y=\"108\"/><rect fill=\"#F8F8F8\" height=\"37.9375\" rx=\"10\" ry=\"10\" style=\"stroke: #F8F8F8; stroke-width: 1.5;\" width=\"114\" x=\"594\" y=\"108\"/><rect fill=\"#F8F8F8\" height=\"10\" style=\"stroke: #F8F8F8; stroke-width: 1.5;\" width=\"114\" x=\"594\" y=\"135.9375\"/><rect fill=\"none\" height=\"110\" id=\"E6\" rx=\"10\" ry=\"10\" style=\"stroke: #383838; stroke-width: 1.5;\" width=\"114\" x=\"594\" y=\"108\"/><text fill=\"#000000\" font-family=\"sans-serif\" font-size=\"12\" font-style=\"italic\" lengthAdjust=\"spacingAndGlyphs\" textLength=\"72\" x=\"615\" y=\"124.1387\">«viewpoint»</text><text fill=\"#000000\" font-family=\"sans-serif\" font-size=\"12\" lengthAdjust=\"spacingAndGlyphs\" textLength=\"38\" x=\"632\" y=\"138.1074\">vp: VP</text><line style=\"stroke: #383838; stroke-width: 1.0;\" x1=\"594\" x2=\"708\" y1=\"145.9375\" y2=\"145.9375\"/></a><!--MD5=[7f149f147074ac12df2cb0a7728a5fb0]\n",
       "cluster E9--><a href=\"psysml:c79df832-858d-4f87-b041-227cc7f695ce\" target=\"_top\" title=\"psysml:c79df832-858d-4f87-b041-227cc7f695ce\" xlink:actuate=\"onRequest\" xlink:href=\"psysml:c79df832-858d-4f87-b041-227cc7f695ce\" xlink:show=\"new\" xlink:title=\"psysml:c79df832-858d-4f87-b041-227cc7f695ce\" xlink:type=\"simple\"><rect fill=\"#FFFFFF\" height=\"91\" id=\"E9\" rx=\"10\" ry=\"10\" style=\"stroke: #383838; stroke-width: 1.5;\" width=\"82\" x=\"488\" y=\"125.5\"/><rect fill=\"#F8F8F8\" height=\"23.9688\" rx=\"10\" ry=\"10\" style=\"stroke: #F8F8F8; stroke-width: 1.5;\" width=\"82\" x=\"488\" y=\"125.5\"/><rect fill=\"#F8F8F8\" height=\"10\" style=\"stroke: #F8F8F8; stroke-width: 1.5;\" width=\"82\" x=\"488\" y=\"139.4688\"/><rect fill=\"none\" height=\"91\" id=\"E9\" rx=\"10\" ry=\"10\" style=\"stroke: #383838; stroke-width: 1.5;\" width=\"82\" x=\"488\" y=\"125.5\"/><text fill=\"#000000\" font-family=\"sans-serif\" font-size=\"12\" lengthAdjust=\"spacingAndGlyphs\" textLength=\"22\" x=\"518\" y=\"141.6387\">v: V</text><line style=\"stroke: #383838; stroke-width: 1.0;\" x1=\"488\" x2=\"570\" y1=\"149.4688\" y2=\"149.4688\"/></a><!--MD5=[09b614a08d8cba4a07c9adeb5e0fee81]\n",
       "class E3--><a href=\"psysml:0e16ef0b-675e-475c-a6ab-030697702310\" target=\"_top\" title=\"psysml:0e16ef0b-675e-475c-a6ab-030697702310\" xlink:actuate=\"onRequest\" xlink:href=\"psysml:0e16ef0b-675e-475c-a6ab-030697702310\" xlink:show=\"new\" xlink:title=\"psysml:0e16ef0b-675e-475c-a6ab-030697702310\" xlink:type=\"simple\"><rect fill=\"#FFFFFF\" height=\"53.9375\" id=\"E3\" style=\"stroke: #383838; stroke-width: 1.5;\" width=\"146\" x=\"238\" y=\"153.5\"/><text fill=\"#000000\" font-family=\"sans-serif\" font-size=\"12\" font-style=\"italic\" lengthAdjust=\"spacingAndGlyphs\" textLength=\"144\" x=\"239\" y=\"169.6387\">«(T,blue)viewpoint def»</text><text fill=\"#000000\" font-family=\"sans-serif\" font-size=\"12\" lengthAdjust=\"spacingAndGlyphs\" textLength=\"16\" x=\"303\" y=\"183.6074\">VP</text><line style=\"stroke: #383838; stroke-width: 1.5;\" x1=\"239\" x2=\"383\" y1=\"191.4375\" y2=\"191.4375\"/><line style=\"stroke: #383838; stroke-width: 1.5;\" x1=\"239\" x2=\"383\" y1=\"199.4375\" y2=\"199.4375\"/></a><a href=\"psysml:d8eb8e98-9fc5-4554-bb79-0a7fb3af234b\" target=\"_top\" title=\"psysml:d8eb8e98-9fc5-4554-bb79-0a7fb3af234b\" xlink:actuate=\"onRequest\" xlink:href=\"psysml:d8eb8e98-9fc5-4554-bb79-0a7fb3af234b\" xlink:show=\"new\" xlink:title=\"psysml:d8eb8e98-9fc5-4554-bb79-0a7fb3af234b\" xlink:type=\"simple\"><polygon fill=\"#FFFFFF\" points=\"173,154,189,154,196,176.2969,203,176.2969,203,206.5938,173,206.5938,173,154\" style=\"stroke: #000000; stroke-width: 1.5;\"/><line style=\"stroke: #000000; stroke-width: 1.5;\" x1=\"173\" x2=\"196\" y1=\"176.2969\" y2=\"176.2969\"/><text fill=\"#000000\" font-family=\"sans-serif\" font-size=\"14\" font-weight=\"bold\" lengthAdjust=\"spacingAndGlyphs\" textLength=\"10\" x=\"177\" y=\"168.9951\">P</text></a><g id=\"E1.E4\"><a href=\"psysml:80b9aeea-925b-4b3a-8c84-ce381a5e60ed\" target=\"_top\" title=\"psysml:80b9aeea-925b-4b3a-8c84-ce381a5e60ed\" xlink:actuate=\"onRequest\" xlink:href=\"psysml:80b9aeea-925b-4b3a-8c84-ce381a5e60ed\" xlink:show=\"new\" xlink:title=\"psysml:80b9aeea-925b-4b3a-8c84-ce381a5e60ed\" xlink:type=\"simple\"><rect fill=\"#FFFFFF\" height=\"42.9375\" id=\"E4\" style=\"stroke: #383838; stroke-width: 1.5;\" width=\"106\" x=\"32\" y=\"159\"/><rect fill=\"#F8F8F8\" height=\"37.9375\" style=\"stroke: #383838; stroke-width: 1.5;\" width=\"106\" x=\"32\" y=\"159\"/><text fill=\"#000000\" font-family=\"sans-serif\" font-size=\"12\" font-style=\"italic\" lengthAdjust=\"spacingAndGlyphs\" textLength=\"99\" x=\"35.5\" y=\"175.1387\">«rendering def»</text><text fill=\"#000000\" font-family=\"sans-serif\" font-size=\"12\" lengthAdjust=\"spacingAndGlyphs\" textLength=\"8\" x=\"81\" y=\"189.1074\">R</text></a></g><g id=\"E1.E5.E6.E7\"><a href=\"psysml:df90ec85-1f95-42f9-8740-37e2136842a3\" target=\"_top\" title=\"psysml:df90ec85-1f95-42f9-8740-37e2136842a3\" xlink:actuate=\"onRequest\" xlink:href=\"psysml:df90ec85-1f95-42f9-8740-37e2136842a3\" xlink:show=\"new\" xlink:title=\"psysml:df90ec85-1f95-42f9-8740-37e2136842a3\" xlink:type=\"simple\"><rect fill=\"#FFFFFF\" height=\"42.9375\" id=\"E7\" rx=\"10\" ry=\"10\" style=\"stroke: #383838; stroke-width: 1.5;\" width=\"82\" x=\"610\" y=\"159\"/><rect fill=\"#F8F8F8\" height=\"37.9375\" rx=\"10\" ry=\"10\" style=\"stroke: #F8F8F8; stroke-width: 1.5;\" width=\"82\" x=\"610\" y=\"159\"/><rect fill=\"#F8F8F8\" height=\"10\" style=\"stroke: #F8F8F8; stroke-width: 1.5;\" width=\"82\" x=\"610\" y=\"186.9375\"/><rect fill=\"none\" height=\"42.9375\" id=\"E7\" rx=\"10\" ry=\"10\" style=\"stroke: #383838; stroke-width: 1.5;\" width=\"82\" x=\"610\" y=\"159\"/><text fill=\"#000000\" font-family=\"sans-serif\" font-size=\"12\" font-style=\"italic\" lengthAdjust=\"spacingAndGlyphs\" textLength=\"75\" x=\"613.5\" y=\"175.1387\">«reference»</text><text fill=\"#000000\" font-family=\"sans-serif\" font-size=\"12\" lengthAdjust=\"spacingAndGlyphs\" textLength=\"26\" x=\"638\" y=\"189.1074\">subj</text></a></g><g id=\"E1.E5.E8\"><a href=\"psysml:d3ad1959-ed24-48c6-b8cb-3101ea5444ce\" target=\"_top\" title=\"psysml:d3ad1959-ed24-48c6-b8cb-3101ea5444ce\" xlink:actuate=\"onRequest\" xlink:href=\"psysml:d3ad1959-ed24-48c6-b8cb-3101ea5444ce\" xlink:show=\"new\" xlink:title=\"psysml:d3ad1959-ed24-48c6-b8cb-3101ea5444ce\" xlink:type=\"simple\"><rect fill=\"#FFFFFF\" height=\"40\" id=\"E8\" rx=\"10\" ry=\"10\" style=\"stroke: #383838; stroke-width: 1.5;\" width=\"50\" x=\"419\" y=\"160.5\"/><rect fill=\"#F8F8F8\" height=\"23.9688\" rx=\"10\" ry=\"10\" style=\"stroke: #F8F8F8; stroke-width: 1.5;\" width=\"50\" x=\"419\" y=\"160.5\"/><rect fill=\"#F8F8F8\" height=\"10\" style=\"stroke: #F8F8F8; stroke-width: 1.5;\" width=\"50\" x=\"419\" y=\"174.4688\"/><rect fill=\"none\" height=\"40\" id=\"E8\" rx=\"10\" ry=\"10\" style=\"stroke: #383838; stroke-width: 1.5;\" width=\"50\" x=\"419\" y=\"160.5\"/><text fill=\"#000000\" font-family=\"sans-serif\" font-size=\"12\" lengthAdjust=\"spacingAndGlyphs\" textLength=\"21\" x=\"433.5\" y=\"176.6387\">r: R</text></a></g><g id=\"E1.E5.E9.E10\"><a href=\"psysml:599cc28e-37a4-4871-97e7-8713776fcf23\" target=\"_top\" title=\"psysml:599cc28e-37a4-4871-97e7-8713776fcf23\" xlink:actuate=\"onRequest\" xlink:href=\"psysml:599cc28e-37a4-4871-97e7-8713776fcf23\" xlink:show=\"new\" xlink:title=\"psysml:599cc28e-37a4-4871-97e7-8713776fcf23\" xlink:type=\"simple\"><rect fill=\"#FFFFFF\" height=\"40\" id=\"E10\" rx=\"10\" ry=\"10\" style=\"stroke: #383838; stroke-width: 1.5;\" width=\"50\" x=\"504\" y=\"160.5\"/><rect fill=\"#F8F8F8\" height=\"23.9688\" rx=\"10\" ry=\"10\" style=\"stroke: #F8F8F8; stroke-width: 1.5;\" width=\"50\" x=\"504\" y=\"160.5\"/><rect fill=\"#F8F8F8\" height=\"10\" style=\"stroke: #F8F8F8; stroke-width: 1.5;\" width=\"50\" x=\"504\" y=\"174.4688\"/><rect fill=\"none\" height=\"40\" id=\"E10\" rx=\"10\" ry=\"10\" style=\"stroke: #383838; stroke-width: 1.5;\" width=\"50\" x=\"504\" y=\"160.5\"/><text fill=\"#000000\" font-family=\"sans-serif\" font-size=\"12\" lengthAdjust=\"spacingAndGlyphs\" textLength=\"13\" x=\"522.5\" y=\"176.6387\">r1</text></a></g><!--MD5=[e1641a921ebe58960668ddb4a0b73968]\n",
       "@startuml\r\n",
       "skinparam ranksep 8\r\n",
       "skinparam rectangle {\r\n",
       " backgroundColor<<block>> LightGreen\r\n",
       "}\r\n",
       "skinparam monochrome true\r\n",
       "skinparam classbackgroundcolor white\r\n",
       "skinparam shadowing false\r\n",
       "skinparam wrapWidth 300\r\n",
       "hide circle\r\n",
       "\r\n",
       "package \"ViewTest\" as E1  [[psysml:68a4efc3-4169-49c4-b08f-98091c4bc0be ]]  {\r\n",
       "package \"P\" as E2  [[psysml:d8eb8e98-9fc5-4554-bb79-0a7fb3af234b ]]  {\r\n",
       "}\r\n",
       "def \"VP\" as E3  <<(T,blue)viewpoint def>> [[psysml:0e16ef0b-675e-475c-a6ab-030697702310 ]] \r\n",
       "rec def \"R\" as E4  <<(T,blue)rendering def>> [[psysml:80b9aeea-925b-4b3a-8c84-ce381a5e60ed ]] {\r\n",
       "}\r\n",
       "rec def \"V\" as E5  <<(T,blue)view def>> [[psysml:fa67c82a-cf4c-4211-8405-b886e7fced61 ]] {\r\n",
       "rec usage \"vp: VP\" as E6  <<(T,blue)viewpoint>> [[psysml:edb93869-3e30-4330-ae7d-f0dbadb8ae6e ]] {\r\n",
       "rec usage \"subj\" as E7  <<(T,blue)reference>> [[psysml:df90ec85-1f95-42f9-8740-37e2136842a3 ]] {\r\n",
       "}\r\n",
       "}\r\n",
       "rec usage \"r: R\" as E8  [[psysml:d3ad1959-ed24-48c6-b8cb-3101ea5444ce ]] {\r\n",
       "}\r\n",
       "rec usage \"v: V\" as E9  [[psysml:c79df832-858d-4f87-b041-227cc7f695ce ]] {\r\n",
       "rec usage \"r1\" as E10  [[psysml:599cc28e-37a4-4871-97e7-8713776fcf23 ]] {\r\n",
       "}\r\n",
       "}\r\n",
       "}\r\n",
       "}\r\n",
       "@enduml\r\n",
       "\n",
       "PlantUML version 1.2020.13(Sat Jun 13 12:26:38 UTC 2020)\n",
       "(EPL source distribution)\n",
       "Java Runtime: OpenJDK Runtime Environment\n",
       "JVM: OpenJDK 64-Bit Server VM\n",
       "Default Encoding: UTF-8\n",
       "Language: en\n",
       "Country: null\n",
       "--></g></svg>"
      ]
     },
     "execution_count": 40,
     "metadata": {},
     "output_type": "execute_result"
    }
   ],
   "source": [
    "%viz --style=\"DEFAULT\" --view=\"Interconnection\" \"ViewTest\""
   ]
  },
  {
   "cell_type": "code",
   "execution_count": 41,
   "id": "unlikely-centre",
   "metadata": {
    "execution": {
     "iopub.execute_input": "2021-03-25T15:10:06.398068Z",
     "iopub.status.busy": "2021-03-25T15:10:06.397660Z",
     "iopub.status.idle": "2021-03-25T15:10:06.404934Z",
     "shell.execute_reply": "2021-03-25T15:10:06.405306Z"
    }
   },
   "outputs": [
    {
     "data": {
      "image/svg+xml": [
       "<?xml version=\"1.0\" encoding=\"UTF-8\" standalone=\"no\"?><svg xmlns=\"http://www.w3.org/2000/svg\" xmlns:xlink=\"http://www.w3.org/1999/xlink\" contentScriptType=\"application/ecmascript\" contentStyleType=\"text/css\" height=\"12px\" preserveAspectRatio=\"none\" style=\"width:12px;height:12px;\" version=\"1.1\" viewBox=\"0 0 12 12\" width=\"12px\" zoomAndPan=\"magnify\"><defs/><g><!--MD5=[388f21188e31bfdd97050473b19af356]\n",
       "@startuml\r\n",
       "skinparam ranksep 8\r\n",
       "skinparam monochrome true\r\n",
       "skinparam classbackgroundcolor white\r\n",
       "skinparam shadowing false\r\n",
       "skinparam wrapWidth 300\r\n",
       "hide circle\r\n",
       "\r\n",
       "@enduml\r\n",
       "\n",
       "PlantUML version 1.2020.13(Sat Jun 13 12:26:38 UTC 2020)\n",
       "(EPL source distribution)\n",
       "Java Runtime: OpenJDK Runtime Environment\n",
       "JVM: OpenJDK 64-Bit Server VM\n",
       "Default Encoding: UTF-8\n",
       "Language: en\n",
       "Country: null\n",
       "--></g></svg>"
      ]
     },
     "execution_count": 41,
     "metadata": {},
     "output_type": "execute_result"
    }
   ],
   "source": [
    "%viz --style=\"DEFAULT\" --view=\"Action\" \"ViewTest\""
   ]
  },
  {
   "cell_type": "code",
   "execution_count": 42,
   "id": "obvious-houston",
   "metadata": {
    "execution": {
     "iopub.execute_input": "2021-03-25T15:10:06.457486Z",
     "iopub.status.busy": "2021-03-25T15:10:06.456717Z",
     "iopub.status.idle": "2021-03-25T15:10:06.561600Z",
     "shell.execute_reply": "2021-03-25T15:10:06.559763Z"
    }
   },
   "outputs": [
    {
     "data": {
      "image/svg+xml": [
       "<?xml version=\"1.0\" encoding=\"UTF-8\" standalone=\"no\"?><svg xmlns=\"http://www.w3.org/2000/svg\" xmlns:xlink=\"http://www.w3.org/1999/xlink\" contentScriptType=\"application/ecmascript\" contentStyleType=\"text/css\" height=\"334px\" preserveAspectRatio=\"none\" style=\"width:417px;height:334px;\" version=\"1.1\" viewBox=\"0 0 417 334\" width=\"417px\" zoomAndPan=\"magnify\"><defs/><g><!--MD5=[fbc87193dbaf4d95561dea2c320d4a47]\n",
       "cluster E1--><a href=\"psysml:68a4efc3-4169-49c4-b08f-98091c4bc0be\" target=\"_top\" title=\"psysml:68a4efc3-4169-49c4-b08f-98091c4bc0be\" xlink:actuate=\"onRequest\" xlink:href=\"psysml:68a4efc3-4169-49c4-b08f-98091c4bc0be\" xlink:show=\"new\" xlink:title=\"psysml:68a4efc3-4169-49c4-b08f-98091c4bc0be\" xlink:type=\"simple\"><polygon fill=\"#FFFFFF\" points=\"16,6,96,6,103,28.2969,395,28.2969,395,322,16,322,16,6\" style=\"stroke: #000000; stroke-width: 1.5;\"/><line style=\"stroke: #000000; stroke-width: 1.5;\" x1=\"16\" x2=\"103\" y1=\"28.2969\" y2=\"28.2969\"/><text fill=\"#000000\" font-family=\"sans-serif\" font-size=\"14\" font-weight=\"bold\" lengthAdjust=\"spacingAndGlyphs\" textLength=\"74\" x=\"20\" y=\"20.9951\">ViewTest</text></a><!--MD5=[09b614a08d8cba4a07c9adeb5e0fee81]\n",
       "class E3--><a href=\"psysml:0e16ef0b-675e-475c-a6ab-030697702310\" target=\"_top\" title=\"psysml:0e16ef0b-675e-475c-a6ab-030697702310\" xlink:actuate=\"onRequest\" xlink:href=\"psysml:0e16ef0b-675e-475c-a6ab-030697702310\" xlink:show=\"new\" xlink:title=\"psysml:0e16ef0b-675e-475c-a6ab-030697702310\" xlink:type=\"simple\"><rect fill=\"#FFFFFF\" height=\"45.9375\" id=\"E3\" style=\"stroke: #383838; stroke-width: 1.5;\" width=\"98\" x=\"32\" y=\"260\"/><text fill=\"#000000\" font-family=\"sans-serif\" font-size=\"12\" font-style=\"italic\" lengthAdjust=\"spacingAndGlyphs\" textLength=\"96\" x=\"33\" y=\"276.1387\">«viewpoint def»</text><text fill=\"#000000\" font-family=\"sans-serif\" font-size=\"12\" lengthAdjust=\"spacingAndGlyphs\" textLength=\"16\" x=\"73\" y=\"290.1074\">VP</text><line style=\"stroke: #383838; stroke-width: 1.5;\" x1=\"33\" x2=\"129\" y1=\"297.9375\" y2=\"297.9375\"/></a><!--MD5=[ebbe1d658d1005bcc118a6aa81145e00]\n",
       "class E4--><a href=\"psysml:80b9aeea-925b-4b3a-8c84-ce381a5e60ed\" target=\"_top\" title=\"psysml:80b9aeea-925b-4b3a-8c84-ce381a5e60ed\" xlink:actuate=\"onRequest\" xlink:href=\"psysml:80b9aeea-925b-4b3a-8c84-ce381a5e60ed\" xlink:show=\"new\" xlink:title=\"psysml:80b9aeea-925b-4b3a-8c84-ce381a5e60ed\" xlink:type=\"simple\"><rect fill=\"#FFFFFF\" height=\"45.9375\" id=\"E4\" style=\"stroke: #383838; stroke-width: 1.5;\" width=\"101\" x=\"165.5\" y=\"260\"/><text fill=\"#000000\" font-family=\"sans-serif\" font-size=\"12\" font-style=\"italic\" lengthAdjust=\"spacingAndGlyphs\" textLength=\"99\" x=\"166.5\" y=\"276.1387\">«rendering def»</text><text fill=\"#000000\" font-family=\"sans-serif\" font-size=\"12\" lengthAdjust=\"spacingAndGlyphs\" textLength=\"8\" x=\"212\" y=\"290.1074\">R</text><line style=\"stroke: #383838; stroke-width: 1.5;\" x1=\"166.5\" x2=\"265.5\" y1=\"297.9375\" y2=\"297.9375\"/></a><!--MD5=[270fce915f116d4de14055a7c1d9a0f3]\n",
       "class E5--><a href=\"psysml:fa67c82a-cf4c-4211-8405-b886e7fced61\" target=\"_top\" title=\"psysml:fa67c82a-cf4c-4211-8405-b886e7fced61\" xlink:actuate=\"onRequest\" xlink:href=\"psysml:fa67c82a-cf4c-4211-8405-b886e7fced61\" xlink:show=\"new\" xlink:title=\"psysml:fa67c82a-cf4c-4211-8405-b886e7fced61\" xlink:type=\"simple\"><rect fill=\"#FFFFFF\" height=\"45.9375\" id=\"E5\" style=\"stroke: #383838; stroke-width: 1.5;\" width=\"66\" x=\"230\" y=\"44.5\"/><text fill=\"#000000\" font-family=\"sans-serif\" font-size=\"12\" font-style=\"italic\" lengthAdjust=\"spacingAndGlyphs\" textLength=\"64\" x=\"231\" y=\"60.6387\">«view def»</text><text fill=\"#000000\" font-family=\"sans-serif\" font-size=\"12\" lengthAdjust=\"spacingAndGlyphs\" textLength=\"8\" x=\"259\" y=\"74.6074\">V</text><line style=\"stroke: #383838; stroke-width: 1.5;\" x1=\"231\" x2=\"295\" y1=\"82.4375\" y2=\"82.4375\"/></a><!--MD5=[60a26617385b1d2d0262a64233df1f8d]\n",
       "class E6--><a href=\"psysml:edb93869-3e30-4330-ae7d-f0dbadb8ae6e\" target=\"_top\" title=\"psysml:edb93869-3e30-4330-ae7d-f0dbadb8ae6e\" xlink:actuate=\"onRequest\" xlink:href=\"psysml:edb93869-3e30-4330-ae7d-f0dbadb8ae6e\" xlink:show=\"new\" xlink:title=\"psysml:edb93869-3e30-4330-ae7d-f0dbadb8ae6e\" xlink:type=\"simple\"><rect fill=\"#FFFFFF\" height=\"45.9375\" id=\"E6\" rx=\"10\" ry=\"10\" style=\"stroke: #383838; stroke-width: 1.5;\" width=\"74\" x=\"56\" y=\"154\"/><text fill=\"#000000\" font-family=\"sans-serif\" font-size=\"12\" font-style=\"italic\" lengthAdjust=\"spacingAndGlyphs\" textLength=\"72\" x=\"57\" y=\"170.1387\">«viewpoint»</text><text fill=\"#000000\" font-family=\"sans-serif\" font-size=\"12\" lengthAdjust=\"spacingAndGlyphs\" textLength=\"38\" x=\"74\" y=\"184.1074\">vp: VP</text><line style=\"stroke: #383838; stroke-width: 1.5;\" x1=\"57\" x2=\"129\" y1=\"191.9375\" y2=\"191.9375\"/></a><!--MD5=[2156ba9850f5573cc1fc38a6a4b2f02b]\n",
       "class E7--><a href=\"psysml:d3ad1959-ed24-48c6-b8cb-3101ea5444ce\" target=\"_top\" title=\"psysml:d3ad1959-ed24-48c6-b8cb-3101ea5444ce\" xlink:actuate=\"onRequest\" xlink:href=\"psysml:d3ad1959-ed24-48c6-b8cb-3101ea5444ce\" xlink:show=\"new\" xlink:title=\"psysml:d3ad1959-ed24-48c6-b8cb-3101ea5444ce\" xlink:type=\"simple\"><rect fill=\"#FFFFFF\" height=\"45.9375\" id=\"E7\" rx=\"10\" ry=\"10\" style=\"stroke: #383838; stroke-width: 1.5;\" width=\"77\" x=\"177.5\" y=\"154\"/><text fill=\"#000000\" font-family=\"sans-serif\" font-size=\"12\" font-style=\"italic\" lengthAdjust=\"spacingAndGlyphs\" textLength=\"75\" x=\"178.5\" y=\"170.1387\">«rendering»</text><text fill=\"#000000\" font-family=\"sans-serif\" font-size=\"12\" lengthAdjust=\"spacingAndGlyphs\" textLength=\"21\" x=\"205.5\" y=\"184.1074\">r: R</text><line style=\"stroke: #383838; stroke-width: 1.5;\" x1=\"178.5\" x2=\"253.5\" y1=\"191.9375\" y2=\"191.9375\"/></a><!--MD5=[b9389687b975829384b498ac4b7476b2]\n",
       "class E8--><a href=\"psysml:c79df832-858d-4f87-b041-227cc7f695ce\" target=\"_top\" title=\"psysml:c79df832-858d-4f87-b041-227cc7f695ce\" xlink:actuate=\"onRequest\" xlink:href=\"psysml:c79df832-858d-4f87-b041-227cc7f695ce\" xlink:show=\"new\" xlink:title=\"psysml:c79df832-858d-4f87-b041-227cc7f695ce\" xlink:type=\"simple\"><rect fill=\"#FFFFFF\" height=\"45.9375\" id=\"E8\" rx=\"10\" ry=\"10\" style=\"stroke: #383838; stroke-width: 1.5;\" width=\"42\" x=\"290\" y=\"154\"/><text fill=\"#000000\" font-family=\"sans-serif\" font-size=\"12\" font-style=\"italic\" lengthAdjust=\"spacingAndGlyphs\" textLength=\"40\" x=\"291\" y=\"170.1387\">«view»</text><text fill=\"#000000\" font-family=\"sans-serif\" font-size=\"12\" lengthAdjust=\"spacingAndGlyphs\" textLength=\"22\" x=\"300\" y=\"184.1074\">v: V</text><line style=\"stroke: #383838; stroke-width: 1.5;\" x1=\"291\" x2=\"331\" y1=\"191.9375\" y2=\"191.9375\"/></a><!--MD5=[fd4143e9d270a159db93a4ea2a975926]\n",
       "class E9--><a href=\"psysml:599cc28e-37a4-4871-97e7-8713776fcf23\" target=\"_top\" title=\"psysml:599cc28e-37a4-4871-97e7-8713776fcf23\" xlink:actuate=\"onRequest\" xlink:href=\"psysml:599cc28e-37a4-4871-97e7-8713776fcf23\" xlink:show=\"new\" xlink:title=\"psysml:599cc28e-37a4-4871-97e7-8713776fcf23\" xlink:type=\"simple\"><rect fill=\"#FFFFFF\" height=\"45.9375\" id=\"E9\" rx=\"10\" ry=\"10\" style=\"stroke: #383838; stroke-width: 1.5;\" width=\"77\" x=\"301.5\" y=\"260\"/><text fill=\"#000000\" font-family=\"sans-serif\" font-size=\"12\" font-style=\"italic\" lengthAdjust=\"spacingAndGlyphs\" textLength=\"75\" x=\"302.5\" y=\"276.1387\">«rendering»</text><text fill=\"#000000\" font-family=\"sans-serif\" font-size=\"12\" lengthAdjust=\"spacingAndGlyphs\" textLength=\"13\" x=\"333.5\" y=\"290.1074\">r1</text><line style=\"stroke: #383838; stroke-width: 1.5;\" x1=\"302.5\" x2=\"377.5\" y1=\"297.9375\" y2=\"297.9375\"/></a><a href=\"psysml:d8eb8e98-9fc5-4554-bb79-0a7fb3af234b\" target=\"_top\" title=\"psysml:d8eb8e98-9fc5-4554-bb79-0a7fb3af234b\" xlink:actuate=\"onRequest\" xlink:href=\"psysml:d8eb8e98-9fc5-4554-bb79-0a7fb3af234b\" xlink:show=\"new\" xlink:title=\"psysml:d8eb8e98-9fc5-4554-bb79-0a7fb3af234b\" xlink:type=\"simple\"><polygon fill=\"#FFFFFF\" points=\"122,41,138,41,145,63.2969,152,63.2969,152,93.5938,122,93.5938,122,41\" style=\"stroke: #000000; stroke-width: 1.5;\"/><line style=\"stroke: #000000; stroke-width: 1.5;\" x1=\"122\" x2=\"145\" y1=\"63.2969\" y2=\"63.2969\"/><text fill=\"#000000\" font-family=\"sans-serif\" font-size=\"14\" font-weight=\"bold\" lengthAdjust=\"spacingAndGlyphs\" textLength=\"10\" x=\"126\" y=\"55.9951\">P</text></a><!--MD5=[85d356282659285ab4b2cfe2f634dd2b]\n",
       "reverse link E5 to E6--><a href=\"psysml:edb93869-3e30-4330-ae7d-f0dbadb8ae6e\" target=\"_top\" title=\"psysml:edb93869-3e30-4330-ae7d-f0dbadb8ae6e\" xlink:actuate=\"onRequest\" xlink:href=\"psysml:edb93869-3e30-4330-ae7d-f0dbadb8ae6e\" xlink:show=\"new\" xlink:title=\"psysml:edb93869-3e30-4330-ae7d-f0dbadb8ae6e\" xlink:type=\"simple\"><path d=\"M218.61,96.57 C190.28,114.48 154.1,137.36 127.85,153.96 \" fill=\"none\" id=\"E5&lt;-E6\" style=\"stroke: #383838; stroke-width: 1.0;\"/><polygon fill=\"#383838\" points=\"229.82,89.48,222.6111,89.2999,219.6723,95.8849,226.8811,96.0651,229.82,89.48\" style=\"stroke: #383838; stroke-width: 1.0;\"/></a><!--MD5=[a717450b82c80b9240a525fa862496af]\n",
       "link E6 to E3--><a href=\"psysml:678c28b1-b825-4869-b6db-341a5ef18df5\" target=\"_top\" title=\"psysml:678c28b1-b825-4869-b6db-341a5ef18df5\" xlink:actuate=\"onRequest\" xlink:href=\"psysml:678c28b1-b825-4869-b6db-341a5ef18df5\" xlink:show=\"new\" xlink:title=\"psysml:678c28b1-b825-4869-b6db-341a5ef18df5\" xlink:type=\"simple\"><path d=\"M90.46,200.06 C89.12,211.64 87.44,226.23 85.86,239.87 \" fill=\"none\" id=\"E6-&gt;E3\" style=\"stroke: #383838; stroke-width: 1.0;\"/><polygon fill=\"#FFFFFF\" points=\"83.54,259.98,78.757,240.3046,92.6653,241.9044,83.54,259.98\" style=\"stroke: #383838; stroke-width: 1.0;\"/><ellipse cx=\"81.3953\" cy=\"234.8704\" fill=\"#383838\" rx=\"2\" ry=\"2\" style=\"stroke: #383838; stroke-width: 1.0;\"/><ellipse cx=\"91.3298\" cy=\"236.0132\" fill=\"#383838\" rx=\"2\" ry=\"2\" style=\"stroke: #383838; stroke-width: 1.0;\"/></a><!--MD5=[6bdd27f9905911a7e892a3dc65cf6b7c]\n",
       "link E7 to E4--><a href=\"psysml:e01b0a28-1744-4d35-a29d-a960e4229aec\" target=\"_top\" title=\"psysml:e01b0a28-1744-4d35-a29d-a960e4229aec\" xlink:actuate=\"onRequest\" xlink:href=\"psysml:e01b0a28-1744-4d35-a29d-a960e4229aec\" xlink:show=\"new\" xlink:title=\"psysml:e01b0a28-1744-4d35-a29d-a960e4229aec\" xlink:type=\"simple\"><path d=\"M216,200.06 C216,211.64 216,226.23 216,239.87 \" fill=\"none\" id=\"E7-&gt;E4\" style=\"stroke: #383838; stroke-width: 1.0;\"/><polygon fill=\"#FFFFFF\" points=\"216,259.98,209,240.98,223,240.98,216,259.98\" style=\"stroke: #383838; stroke-width: 1.0;\"/><ellipse cx=\"211\" cy=\"235.28\" fill=\"#383838\" rx=\"2\" ry=\"2\" style=\"stroke: #383838; stroke-width: 1.0;\"/><ellipse cx=\"221\" cy=\"235.28\" fill=\"#383838\" rx=\"2\" ry=\"2\" style=\"stroke: #383838; stroke-width: 1.0;\"/></a><!--MD5=[452b418e7f8a40397a49b8c0a78acc5b]\n",
       "reverse link E5 to E7--><a href=\"psysml:d3ad1959-ed24-48c6-b8cb-3101ea5444ce\" target=\"_top\" title=\"psysml:d3ad1959-ed24-48c6-b8cb-3101ea5444ce\" xlink:actuate=\"onRequest\" xlink:href=\"psysml:d3ad1959-ed24-48c6-b8cb-3101ea5444ce\" xlink:show=\"new\" xlink:title=\"psysml:d3ad1959-ed24-48c6-b8cb-3101ea5444ce\" xlink:type=\"simple\"><path d=\"M248.1,102.57 C240.81,119.26 232.23,138.89 225.77,153.65 \" fill=\"none\" id=\"E5&lt;-E7\" style=\"stroke: #383838; stroke-width: 1.0;\"/><polygon fill=\"#383838\" points=\"253.38,90.51,247.31,94.4029,248.5688,101.5033,254.6388,97.6104,253.38,90.51\" style=\"stroke: #383838; stroke-width: 1.0;\"/><text fill=\"#000000\" font-family=\"sans-serif\" font-size=\"13\" lengthAdjust=\"spacingAndGlyphs\" textLength=\"24\" x=\"201.1986\" y=\"142.8366\">0..1</text></a><!--MD5=[1ccb2481ffa92f8d51a74ee30c51832a]\n",
       "link E8 to E5--><a href=\"psysml:3896f3dd-ac25-48cd-93fb-dac3b3d02068\" target=\"_top\" title=\"psysml:3896f3dd-ac25-48cd-93fb-dac3b3d02068\" xlink:actuate=\"onRequest\" xlink:href=\"psysml:3896f3dd-ac25-48cd-93fb-dac3b3d02068\" xlink:show=\"new\" xlink:title=\"psysml:3896f3dd-ac25-48cd-93fb-dac3b3d02068\" xlink:type=\"simple\"><path d=\"M312.22,153.65 C308.53,140.48 301.55,123.44 293.74,108.07 \" fill=\"none\" id=\"E8-&gt;E5\" style=\"stroke: #383838; stroke-width: 1.0;\"/><polygon fill=\"#FFFFFF\" points=\"283.97,90.51,299.3209,103.7142,287.0851,110.5174,283.97,90.51\" style=\"stroke: #383838; stroke-width: 1.0;\"/><ellipse cx=\"300.3428\" cy=\"109.6678\" fill=\"#383838\" rx=\"2\" ry=\"2\" style=\"stroke: #383838; stroke-width: 1.0;\"/><ellipse cx=\"291.6029\" cy=\"114.5273\" fill=\"#383838\" rx=\"2\" ry=\"2\" style=\"stroke: #383838; stroke-width: 1.0;\"/></a><!--MD5=[827760032d119d06bbc92f75530fd7ae]\n",
       "reverse link E5 to E8--><a href=\"psysml:c79df832-858d-4f87-b041-227cc7f695ce\" target=\"_top\" title=\"psysml:c79df832-858d-4f87-b041-227cc7f695ce\" xlink:actuate=\"onRequest\" xlink:href=\"psysml:c79df832-858d-4f87-b041-227cc7f695ce\" xlink:show=\"new\" xlink:title=\"psysml:c79df832-858d-4f87-b041-227cc7f695ce\" xlink:type=\"simple\"><path d=\"M266.44,103.07 C272.49,119.65 281.62,139.03 290.44,153.65 \" fill=\"none\" id=\"E5&lt;-E8\" style=\"stroke: #383838; stroke-width: 1.0;\"/><polygon fill=\"#383838\" points=\"262.31,90.51,260.3836,97.459,266.0572,101.9099,267.9836,94.9609,262.31,90.51\" style=\"stroke: #383838; stroke-width: 1.0;\"/><text fill=\"#000000\" font-family=\"sans-serif\" font-size=\"13\" lengthAdjust=\"spacingAndGlyphs\" textLength=\"7\" x=\"277.2746\" y=\"142.8366\">*</text></a><!--MD5=[22f5b4bae7e060dce8a1c8021efdb95b]\n",
       "reverse link E8 to E9--><a href=\"psysml:599cc28e-37a4-4871-97e7-8713776fcf23\" target=\"_top\" title=\"psysml:599cc28e-37a4-4871-97e7-8713776fcf23\" xlink:actuate=\"onRequest\" xlink:href=\"psysml:599cc28e-37a4-4871-97e7-8713776fcf23\" xlink:show=\"new\" xlink:title=\"psysml:599cc28e-37a4-4871-97e7-8713776fcf23\" xlink:type=\"simple\"><path d=\"M320.75,212.96 C325.08,228.51 330.05,246.33 333.86,259.98 \" fill=\"none\" id=\"E8&lt;-E9\" style=\"stroke: #383838; stroke-width: 1.0;\"/><polygon fill=\"#383838\" points=\"317.15,200.06,314.9066,206.9133,320.3699,211.6199,322.6133,204.7667,317.15,200.06\" style=\"stroke: #383838; stroke-width: 1.0;\"/></a><!--MD5=[ee7400195824704f49189a7d12a388a7]\n",
       "@startuml\r\n",
       "skinparam monochrome true\r\n",
       "skinparam classbackgroundcolor white\r\n",
       "skinparam shadowing false\r\n",
       "skinparam wrapWidth 300\r\n",
       "hide circle\r\n",
       "\r\n",
       "package \"ViewTest\" as E1  [[psysml:68a4efc3-4169-49c4-b08f-98091c4bc0be ]]  {\r\n",
       "package \"P\" as E2  [[psysml:d8eb8e98-9fc5-4554-bb79-0a7fb3af234b ]]  {\r\n",
       "}\r\n",
       "comp def \"VP\" as E3  <<(T,blue)viewpoint def>> [[psysml:0e16ef0b-675e-475c-a6ab-030697702310 ]] {\r\n",
       "}\r\n",
       "comp def \"R\" as E4  <<(T,blue)rendering def>> [[psysml:80b9aeea-925b-4b3a-8c84-ce381a5e60ed ]] {\r\n",
       "}\r\n",
       "comp def \"V\" as E5  <<(T,blue)view def>> [[psysml:fa67c82a-cf4c-4211-8405-b886e7fced61 ]] {\r\n",
       "}\r\n",
       "comp usage \"vp: VP\" as E6  <<(T,blue)viewpoint>> [[psysml:edb93869-3e30-4330-ae7d-f0dbadb8ae6e ]] {\r\n",
       "}\r\n",
       "comp usage \"r: R\" as E7  <<(T,blue)rendering>> [[psysml:d3ad1959-ed24-48c6-b8cb-3101ea5444ce ]] {\r\n",
       "}\r\n",
       "comp usage \"v: V\" as E8  <<(T,blue)view>> [[psysml:c79df832-858d-4f87-b041-227cc7f695ce ]] {\r\n",
       "}\r\n",
       "comp usage \"r1\" as E9  <<(T,blue)rendering>> [[psysml:599cc28e-37a4-4871-97e7-8713776fcf23 ]] {\r\n",
       "}\r\n",
       "E5 *- - E6 [[psysml:edb93869-3e30-4330-ae7d-f0dbadb8ae6e ]] \r\n",
       "E6 - -:|> E3 [[psysml:678c28b1-b825-4869-b6db-341a5ef18df5 ]] \r\n",
       "E7 - -:|> E4 [[psysml:e01b0a28-1744-4d35-a29d-a960e4229aec ]] \r\n",
       "E5 *- - \"0..1\"E7 [[psysml:d3ad1959-ed24-48c6-b8cb-3101ea5444ce ]] \r\n",
       "E8 - -:|> E5 [[psysml:3896f3dd-ac25-48cd-93fb-dac3b3d02068 ]] \r\n",
       "E5 *- - \"*\"E8 [[psysml:c79df832-858d-4f87-b041-227cc7f695ce ]] \r\n",
       "E8 *- - E9 [[psysml:599cc28e-37a4-4871-97e7-8713776fcf23 ]] \r\n",
       "}\r\n",
       "@enduml\r\n",
       "\n",
       "PlantUML version 1.2020.13(Sat Jun 13 12:26:38 UTC 2020)\n",
       "(EPL source distribution)\n",
       "Java Runtime: OpenJDK Runtime Environment\n",
       "JVM: OpenJDK 64-Bit Server VM\n",
       "Default Encoding: UTF-8\n",
       "Language: en\n",
       "Country: null\n",
       "--></g></svg>"
      ]
     },
     "execution_count": 42,
     "metadata": {},
     "output_type": "execute_result"
    }
   ],
   "source": [
    "%viz --style=\"DEFAULT\" --view=\"Sequence\" \"ViewTest\""
   ]
  },
  {
   "cell_type": "code",
   "execution_count": 43,
   "id": "least-sculpture",
   "metadata": {
    "execution": {
     "iopub.execute_input": "2021-03-25T15:10:06.613181Z",
     "iopub.status.busy": "2021-03-25T15:10:06.612642Z",
     "iopub.status.idle": "2021-03-25T15:10:06.706583Z",
     "shell.execute_reply": "2021-03-25T15:10:06.705039Z"
    }
   },
   "outputs": [
    {
     "data": {
      "image/svg+xml": [
       "<?xml version=\"1.0\" encoding=\"UTF-8\" standalone=\"no\"?><svg xmlns=\"http://www.w3.org/2000/svg\" xmlns:xlink=\"http://www.w3.org/1999/xlink\" contentScriptType=\"application/ecmascript\" contentStyleType=\"text/css\" height=\"334px\" preserveAspectRatio=\"none\" style=\"width:417px;height:334px;\" version=\"1.1\" viewBox=\"0 0 417 334\" width=\"417px\" zoomAndPan=\"magnify\"><defs/><g><!--MD5=[fbc87193dbaf4d95561dea2c320d4a47]\n",
       "cluster E1--><a href=\"psysml:68a4efc3-4169-49c4-b08f-98091c4bc0be\" target=\"_top\" title=\"psysml:68a4efc3-4169-49c4-b08f-98091c4bc0be\" xlink:actuate=\"onRequest\" xlink:href=\"psysml:68a4efc3-4169-49c4-b08f-98091c4bc0be\" xlink:show=\"new\" xlink:title=\"psysml:68a4efc3-4169-49c4-b08f-98091c4bc0be\" xlink:type=\"simple\"><polygon fill=\"#FFFFFF\" points=\"16,6,96,6,103,28.2969,395,28.2969,395,322,16,322,16,6\" style=\"stroke: #000000; stroke-width: 1.5;\"/><line style=\"stroke: #000000; stroke-width: 1.5;\" x1=\"16\" x2=\"103\" y1=\"28.2969\" y2=\"28.2969\"/><text fill=\"#000000\" font-family=\"sans-serif\" font-size=\"14\" font-weight=\"bold\" lengthAdjust=\"spacingAndGlyphs\" textLength=\"74\" x=\"20\" y=\"20.9951\">ViewTest</text></a><!--MD5=[09b614a08d8cba4a07c9adeb5e0fee81]\n",
       "class E3--><a href=\"psysml:0e16ef0b-675e-475c-a6ab-030697702310\" target=\"_top\" title=\"psysml:0e16ef0b-675e-475c-a6ab-030697702310\" xlink:actuate=\"onRequest\" xlink:href=\"psysml:0e16ef0b-675e-475c-a6ab-030697702310\" xlink:show=\"new\" xlink:title=\"psysml:0e16ef0b-675e-475c-a6ab-030697702310\" xlink:type=\"simple\"><rect fill=\"#FFFFFF\" height=\"45.9375\" id=\"E3\" style=\"stroke: #383838; stroke-width: 1.5;\" width=\"98\" x=\"32\" y=\"260\"/><text fill=\"#000000\" font-family=\"sans-serif\" font-size=\"12\" font-style=\"italic\" lengthAdjust=\"spacingAndGlyphs\" textLength=\"96\" x=\"33\" y=\"276.1387\">«viewpoint def»</text><text fill=\"#000000\" font-family=\"sans-serif\" font-size=\"12\" lengthAdjust=\"spacingAndGlyphs\" textLength=\"16\" x=\"73\" y=\"290.1074\">VP</text><line style=\"stroke: #383838; stroke-width: 1.5;\" x1=\"33\" x2=\"129\" y1=\"297.9375\" y2=\"297.9375\"/></a><!--MD5=[ebbe1d658d1005bcc118a6aa81145e00]\n",
       "class E4--><a href=\"psysml:80b9aeea-925b-4b3a-8c84-ce381a5e60ed\" target=\"_top\" title=\"psysml:80b9aeea-925b-4b3a-8c84-ce381a5e60ed\" xlink:actuate=\"onRequest\" xlink:href=\"psysml:80b9aeea-925b-4b3a-8c84-ce381a5e60ed\" xlink:show=\"new\" xlink:title=\"psysml:80b9aeea-925b-4b3a-8c84-ce381a5e60ed\" xlink:type=\"simple\"><rect fill=\"#FFFFFF\" height=\"45.9375\" id=\"E4\" style=\"stroke: #383838; stroke-width: 1.5;\" width=\"101\" x=\"165.5\" y=\"260\"/><text fill=\"#000000\" font-family=\"sans-serif\" font-size=\"12\" font-style=\"italic\" lengthAdjust=\"spacingAndGlyphs\" textLength=\"99\" x=\"166.5\" y=\"276.1387\">«rendering def»</text><text fill=\"#000000\" font-family=\"sans-serif\" font-size=\"12\" lengthAdjust=\"spacingAndGlyphs\" textLength=\"8\" x=\"212\" y=\"290.1074\">R</text><line style=\"stroke: #383838; stroke-width: 1.5;\" x1=\"166.5\" x2=\"265.5\" y1=\"297.9375\" y2=\"297.9375\"/></a><!--MD5=[270fce915f116d4de14055a7c1d9a0f3]\n",
       "class E5--><a href=\"psysml:fa67c82a-cf4c-4211-8405-b886e7fced61\" target=\"_top\" title=\"psysml:fa67c82a-cf4c-4211-8405-b886e7fced61\" xlink:actuate=\"onRequest\" xlink:href=\"psysml:fa67c82a-cf4c-4211-8405-b886e7fced61\" xlink:show=\"new\" xlink:title=\"psysml:fa67c82a-cf4c-4211-8405-b886e7fced61\" xlink:type=\"simple\"><rect fill=\"#FFFFFF\" height=\"45.9375\" id=\"E5\" style=\"stroke: #383838; stroke-width: 1.5;\" width=\"66\" x=\"230\" y=\"44.5\"/><text fill=\"#000000\" font-family=\"sans-serif\" font-size=\"12\" font-style=\"italic\" lengthAdjust=\"spacingAndGlyphs\" textLength=\"64\" x=\"231\" y=\"60.6387\">«view def»</text><text fill=\"#000000\" font-family=\"sans-serif\" font-size=\"12\" lengthAdjust=\"spacingAndGlyphs\" textLength=\"8\" x=\"259\" y=\"74.6074\">V</text><line style=\"stroke: #383838; stroke-width: 1.5;\" x1=\"231\" x2=\"295\" y1=\"82.4375\" y2=\"82.4375\"/></a><!--MD5=[60a26617385b1d2d0262a64233df1f8d]\n",
       "class E6--><a href=\"psysml:edb93869-3e30-4330-ae7d-f0dbadb8ae6e\" target=\"_top\" title=\"psysml:edb93869-3e30-4330-ae7d-f0dbadb8ae6e\" xlink:actuate=\"onRequest\" xlink:href=\"psysml:edb93869-3e30-4330-ae7d-f0dbadb8ae6e\" xlink:show=\"new\" xlink:title=\"psysml:edb93869-3e30-4330-ae7d-f0dbadb8ae6e\" xlink:type=\"simple\"><rect fill=\"#FFFFFF\" height=\"45.9375\" id=\"E6\" rx=\"10\" ry=\"10\" style=\"stroke: #383838; stroke-width: 1.5;\" width=\"74\" x=\"56\" y=\"154\"/><text fill=\"#000000\" font-family=\"sans-serif\" font-size=\"12\" font-style=\"italic\" lengthAdjust=\"spacingAndGlyphs\" textLength=\"72\" x=\"57\" y=\"170.1387\">«viewpoint»</text><text fill=\"#000000\" font-family=\"sans-serif\" font-size=\"12\" lengthAdjust=\"spacingAndGlyphs\" textLength=\"38\" x=\"74\" y=\"184.1074\">vp: VP</text><line style=\"stroke: #383838; stroke-width: 1.5;\" x1=\"57\" x2=\"129\" y1=\"191.9375\" y2=\"191.9375\"/></a><!--MD5=[2156ba9850f5573cc1fc38a6a4b2f02b]\n",
       "class E7--><a href=\"psysml:d3ad1959-ed24-48c6-b8cb-3101ea5444ce\" target=\"_top\" title=\"psysml:d3ad1959-ed24-48c6-b8cb-3101ea5444ce\" xlink:actuate=\"onRequest\" xlink:href=\"psysml:d3ad1959-ed24-48c6-b8cb-3101ea5444ce\" xlink:show=\"new\" xlink:title=\"psysml:d3ad1959-ed24-48c6-b8cb-3101ea5444ce\" xlink:type=\"simple\"><rect fill=\"#FFFFFF\" height=\"45.9375\" id=\"E7\" rx=\"10\" ry=\"10\" style=\"stroke: #383838; stroke-width: 1.5;\" width=\"77\" x=\"177.5\" y=\"154\"/><text fill=\"#000000\" font-family=\"sans-serif\" font-size=\"12\" font-style=\"italic\" lengthAdjust=\"spacingAndGlyphs\" textLength=\"75\" x=\"178.5\" y=\"170.1387\">«rendering»</text><text fill=\"#000000\" font-family=\"sans-serif\" font-size=\"12\" lengthAdjust=\"spacingAndGlyphs\" textLength=\"21\" x=\"205.5\" y=\"184.1074\">r: R</text><line style=\"stroke: #383838; stroke-width: 1.5;\" x1=\"178.5\" x2=\"253.5\" y1=\"191.9375\" y2=\"191.9375\"/></a><!--MD5=[b9389687b975829384b498ac4b7476b2]\n",
       "class E8--><a href=\"psysml:c79df832-858d-4f87-b041-227cc7f695ce\" target=\"_top\" title=\"psysml:c79df832-858d-4f87-b041-227cc7f695ce\" xlink:actuate=\"onRequest\" xlink:href=\"psysml:c79df832-858d-4f87-b041-227cc7f695ce\" xlink:show=\"new\" xlink:title=\"psysml:c79df832-858d-4f87-b041-227cc7f695ce\" xlink:type=\"simple\"><rect fill=\"#FFFFFF\" height=\"45.9375\" id=\"E8\" rx=\"10\" ry=\"10\" style=\"stroke: #383838; stroke-width: 1.5;\" width=\"42\" x=\"290\" y=\"154\"/><text fill=\"#000000\" font-family=\"sans-serif\" font-size=\"12\" font-style=\"italic\" lengthAdjust=\"spacingAndGlyphs\" textLength=\"40\" x=\"291\" y=\"170.1387\">«view»</text><text fill=\"#000000\" font-family=\"sans-serif\" font-size=\"12\" lengthAdjust=\"spacingAndGlyphs\" textLength=\"22\" x=\"300\" y=\"184.1074\">v: V</text><line style=\"stroke: #383838; stroke-width: 1.5;\" x1=\"291\" x2=\"331\" y1=\"191.9375\" y2=\"191.9375\"/></a><!--MD5=[fd4143e9d270a159db93a4ea2a975926]\n",
       "class E9--><a href=\"psysml:599cc28e-37a4-4871-97e7-8713776fcf23\" target=\"_top\" title=\"psysml:599cc28e-37a4-4871-97e7-8713776fcf23\" xlink:actuate=\"onRequest\" xlink:href=\"psysml:599cc28e-37a4-4871-97e7-8713776fcf23\" xlink:show=\"new\" xlink:title=\"psysml:599cc28e-37a4-4871-97e7-8713776fcf23\" xlink:type=\"simple\"><rect fill=\"#FFFFFF\" height=\"45.9375\" id=\"E9\" rx=\"10\" ry=\"10\" style=\"stroke: #383838; stroke-width: 1.5;\" width=\"77\" x=\"301.5\" y=\"260\"/><text fill=\"#000000\" font-family=\"sans-serif\" font-size=\"12\" font-style=\"italic\" lengthAdjust=\"spacingAndGlyphs\" textLength=\"75\" x=\"302.5\" y=\"276.1387\">«rendering»</text><text fill=\"#000000\" font-family=\"sans-serif\" font-size=\"12\" lengthAdjust=\"spacingAndGlyphs\" textLength=\"13\" x=\"333.5\" y=\"290.1074\">r1</text><line style=\"stroke: #383838; stroke-width: 1.5;\" x1=\"302.5\" x2=\"377.5\" y1=\"297.9375\" y2=\"297.9375\"/></a><a href=\"psysml:d8eb8e98-9fc5-4554-bb79-0a7fb3af234b\" target=\"_top\" title=\"psysml:d8eb8e98-9fc5-4554-bb79-0a7fb3af234b\" xlink:actuate=\"onRequest\" xlink:href=\"psysml:d8eb8e98-9fc5-4554-bb79-0a7fb3af234b\" xlink:show=\"new\" xlink:title=\"psysml:d8eb8e98-9fc5-4554-bb79-0a7fb3af234b\" xlink:type=\"simple\"><polygon fill=\"#FFFFFF\" points=\"122,41,138,41,145,63.2969,152,63.2969,152,93.5938,122,93.5938,122,41\" style=\"stroke: #000000; stroke-width: 1.5;\"/><line style=\"stroke: #000000; stroke-width: 1.5;\" x1=\"122\" x2=\"145\" y1=\"63.2969\" y2=\"63.2969\"/><text fill=\"#000000\" font-family=\"sans-serif\" font-size=\"14\" font-weight=\"bold\" lengthAdjust=\"spacingAndGlyphs\" textLength=\"10\" x=\"126\" y=\"55.9951\">P</text></a><!--MD5=[85d356282659285ab4b2cfe2f634dd2b]\n",
       "reverse link E5 to E6--><a href=\"psysml:edb93869-3e30-4330-ae7d-f0dbadb8ae6e\" target=\"_top\" title=\"psysml:edb93869-3e30-4330-ae7d-f0dbadb8ae6e\" xlink:actuate=\"onRequest\" xlink:href=\"psysml:edb93869-3e30-4330-ae7d-f0dbadb8ae6e\" xlink:show=\"new\" xlink:title=\"psysml:edb93869-3e30-4330-ae7d-f0dbadb8ae6e\" xlink:type=\"simple\"><path d=\"M218.61,96.57 C190.28,114.48 154.1,137.36 127.85,153.96 \" fill=\"none\" id=\"E5&lt;-E6\" style=\"stroke: #383838; stroke-width: 1.0;\"/><polygon fill=\"#383838\" points=\"229.82,89.48,222.6111,89.2999,219.6723,95.8849,226.8811,96.0651,229.82,89.48\" style=\"stroke: #383838; stroke-width: 1.0;\"/></a><!--MD5=[a717450b82c80b9240a525fa862496af]\n",
       "link E6 to E3--><a href=\"psysml:678c28b1-b825-4869-b6db-341a5ef18df5\" target=\"_top\" title=\"psysml:678c28b1-b825-4869-b6db-341a5ef18df5\" xlink:actuate=\"onRequest\" xlink:href=\"psysml:678c28b1-b825-4869-b6db-341a5ef18df5\" xlink:show=\"new\" xlink:title=\"psysml:678c28b1-b825-4869-b6db-341a5ef18df5\" xlink:type=\"simple\"><path d=\"M90.46,200.06 C89.12,211.64 87.44,226.23 85.86,239.87 \" fill=\"none\" id=\"E6-&gt;E3\" style=\"stroke: #383838; stroke-width: 1.0;\"/><polygon fill=\"#FFFFFF\" points=\"83.54,259.98,78.757,240.3046,92.6653,241.9044,83.54,259.98\" style=\"stroke: #383838; stroke-width: 1.0;\"/><ellipse cx=\"81.3953\" cy=\"234.8704\" fill=\"#383838\" rx=\"2\" ry=\"2\" style=\"stroke: #383838; stroke-width: 1.0;\"/><ellipse cx=\"91.3298\" cy=\"236.0132\" fill=\"#383838\" rx=\"2\" ry=\"2\" style=\"stroke: #383838; stroke-width: 1.0;\"/></a><!--MD5=[6bdd27f9905911a7e892a3dc65cf6b7c]\n",
       "link E7 to E4--><a href=\"psysml:e01b0a28-1744-4d35-a29d-a960e4229aec\" target=\"_top\" title=\"psysml:e01b0a28-1744-4d35-a29d-a960e4229aec\" xlink:actuate=\"onRequest\" xlink:href=\"psysml:e01b0a28-1744-4d35-a29d-a960e4229aec\" xlink:show=\"new\" xlink:title=\"psysml:e01b0a28-1744-4d35-a29d-a960e4229aec\" xlink:type=\"simple\"><path d=\"M216,200.06 C216,211.64 216,226.23 216,239.87 \" fill=\"none\" id=\"E7-&gt;E4\" style=\"stroke: #383838; stroke-width: 1.0;\"/><polygon fill=\"#FFFFFF\" points=\"216,259.98,209,240.98,223,240.98,216,259.98\" style=\"stroke: #383838; stroke-width: 1.0;\"/><ellipse cx=\"211\" cy=\"235.28\" fill=\"#383838\" rx=\"2\" ry=\"2\" style=\"stroke: #383838; stroke-width: 1.0;\"/><ellipse cx=\"221\" cy=\"235.28\" fill=\"#383838\" rx=\"2\" ry=\"2\" style=\"stroke: #383838; stroke-width: 1.0;\"/></a><!--MD5=[452b418e7f8a40397a49b8c0a78acc5b]\n",
       "reverse link E5 to E7--><a href=\"psysml:d3ad1959-ed24-48c6-b8cb-3101ea5444ce\" target=\"_top\" title=\"psysml:d3ad1959-ed24-48c6-b8cb-3101ea5444ce\" xlink:actuate=\"onRequest\" xlink:href=\"psysml:d3ad1959-ed24-48c6-b8cb-3101ea5444ce\" xlink:show=\"new\" xlink:title=\"psysml:d3ad1959-ed24-48c6-b8cb-3101ea5444ce\" xlink:type=\"simple\"><path d=\"M248.1,102.57 C240.81,119.26 232.23,138.89 225.77,153.65 \" fill=\"none\" id=\"E5&lt;-E7\" style=\"stroke: #383838; stroke-width: 1.0;\"/><polygon fill=\"#383838\" points=\"253.38,90.51,247.31,94.4029,248.5688,101.5033,254.6388,97.6104,253.38,90.51\" style=\"stroke: #383838; stroke-width: 1.0;\"/><text fill=\"#000000\" font-family=\"sans-serif\" font-size=\"13\" lengthAdjust=\"spacingAndGlyphs\" textLength=\"24\" x=\"201.1986\" y=\"142.8366\">0..1</text></a><!--MD5=[1ccb2481ffa92f8d51a74ee30c51832a]\n",
       "link E8 to E5--><a href=\"psysml:3896f3dd-ac25-48cd-93fb-dac3b3d02068\" target=\"_top\" title=\"psysml:3896f3dd-ac25-48cd-93fb-dac3b3d02068\" xlink:actuate=\"onRequest\" xlink:href=\"psysml:3896f3dd-ac25-48cd-93fb-dac3b3d02068\" xlink:show=\"new\" xlink:title=\"psysml:3896f3dd-ac25-48cd-93fb-dac3b3d02068\" xlink:type=\"simple\"><path d=\"M312.22,153.65 C308.53,140.48 301.55,123.44 293.74,108.07 \" fill=\"none\" id=\"E8-&gt;E5\" style=\"stroke: #383838; stroke-width: 1.0;\"/><polygon fill=\"#FFFFFF\" points=\"283.97,90.51,299.3209,103.7142,287.0851,110.5174,283.97,90.51\" style=\"stroke: #383838; stroke-width: 1.0;\"/><ellipse cx=\"300.3428\" cy=\"109.6678\" fill=\"#383838\" rx=\"2\" ry=\"2\" style=\"stroke: #383838; stroke-width: 1.0;\"/><ellipse cx=\"291.6029\" cy=\"114.5273\" fill=\"#383838\" rx=\"2\" ry=\"2\" style=\"stroke: #383838; stroke-width: 1.0;\"/></a><!--MD5=[827760032d119d06bbc92f75530fd7ae]\n",
       "reverse link E5 to E8--><a href=\"psysml:c79df832-858d-4f87-b041-227cc7f695ce\" target=\"_top\" title=\"psysml:c79df832-858d-4f87-b041-227cc7f695ce\" xlink:actuate=\"onRequest\" xlink:href=\"psysml:c79df832-858d-4f87-b041-227cc7f695ce\" xlink:show=\"new\" xlink:title=\"psysml:c79df832-858d-4f87-b041-227cc7f695ce\" xlink:type=\"simple\"><path d=\"M266.44,103.07 C272.49,119.65 281.62,139.03 290.44,153.65 \" fill=\"none\" id=\"E5&lt;-E8\" style=\"stroke: #383838; stroke-width: 1.0;\"/><polygon fill=\"#383838\" points=\"262.31,90.51,260.3836,97.459,266.0572,101.9099,267.9836,94.9609,262.31,90.51\" style=\"stroke: #383838; stroke-width: 1.0;\"/><text fill=\"#000000\" font-family=\"sans-serif\" font-size=\"13\" lengthAdjust=\"spacingAndGlyphs\" textLength=\"7\" x=\"277.2746\" y=\"142.8366\">*</text></a><!--MD5=[22f5b4bae7e060dce8a1c8021efdb95b]\n",
       "reverse link E8 to E9--><a href=\"psysml:599cc28e-37a4-4871-97e7-8713776fcf23\" target=\"_top\" title=\"psysml:599cc28e-37a4-4871-97e7-8713776fcf23\" xlink:actuate=\"onRequest\" xlink:href=\"psysml:599cc28e-37a4-4871-97e7-8713776fcf23\" xlink:show=\"new\" xlink:title=\"psysml:599cc28e-37a4-4871-97e7-8713776fcf23\" xlink:type=\"simple\"><path d=\"M320.75,212.96 C325.08,228.51 330.05,246.33 333.86,259.98 \" fill=\"none\" id=\"E8&lt;-E9\" style=\"stroke: #383838; stroke-width: 1.0;\"/><polygon fill=\"#383838\" points=\"317.15,200.06,314.9066,206.9133,320.3699,211.6199,322.6133,204.7667,317.15,200.06\" style=\"stroke: #383838; stroke-width: 1.0;\"/></a><!--MD5=[ee7400195824704f49189a7d12a388a7]\n",
       "@startuml\r\n",
       "skinparam monochrome true\r\n",
       "skinparam classbackgroundcolor white\r\n",
       "skinparam shadowing false\r\n",
       "skinparam wrapWidth 300\r\n",
       "hide circle\r\n",
       "\r\n",
       "package \"ViewTest\" as E1  [[psysml:68a4efc3-4169-49c4-b08f-98091c4bc0be ]]  {\r\n",
       "package \"P\" as E2  [[psysml:d8eb8e98-9fc5-4554-bb79-0a7fb3af234b ]]  {\r\n",
       "}\r\n",
       "comp def \"VP\" as E3  <<(T,blue)viewpoint def>> [[psysml:0e16ef0b-675e-475c-a6ab-030697702310 ]] {\r\n",
       "}\r\n",
       "comp def \"R\" as E4  <<(T,blue)rendering def>> [[psysml:80b9aeea-925b-4b3a-8c84-ce381a5e60ed ]] {\r\n",
       "}\r\n",
       "comp def \"V\" as E5  <<(T,blue)view def>> [[psysml:fa67c82a-cf4c-4211-8405-b886e7fced61 ]] {\r\n",
       "}\r\n",
       "comp usage \"vp: VP\" as E6  <<(T,blue)viewpoint>> [[psysml:edb93869-3e30-4330-ae7d-f0dbadb8ae6e ]] {\r\n",
       "}\r\n",
       "comp usage \"r: R\" as E7  <<(T,blue)rendering>> [[psysml:d3ad1959-ed24-48c6-b8cb-3101ea5444ce ]] {\r\n",
       "}\r\n",
       "comp usage \"v: V\" as E8  <<(T,blue)view>> [[psysml:c79df832-858d-4f87-b041-227cc7f695ce ]] {\r\n",
       "}\r\n",
       "comp usage \"r1\" as E9  <<(T,blue)rendering>> [[psysml:599cc28e-37a4-4871-97e7-8713776fcf23 ]] {\r\n",
       "}\r\n",
       "E5 *- - E6 [[psysml:edb93869-3e30-4330-ae7d-f0dbadb8ae6e ]] \r\n",
       "E6 - -:|> E3 [[psysml:678c28b1-b825-4869-b6db-341a5ef18df5 ]] \r\n",
       "E7 - -:|> E4 [[psysml:e01b0a28-1744-4d35-a29d-a960e4229aec ]] \r\n",
       "E5 *- - \"0..1\"E7 [[psysml:d3ad1959-ed24-48c6-b8cb-3101ea5444ce ]] \r\n",
       "E8 - -:|> E5 [[psysml:3896f3dd-ac25-48cd-93fb-dac3b3d02068 ]] \r\n",
       "E5 *- - \"*\"E8 [[psysml:c79df832-858d-4f87-b041-227cc7f695ce ]] \r\n",
       "E8 *- - E9 [[psysml:599cc28e-37a4-4871-97e7-8713776fcf23 ]] \r\n",
       "}\r\n",
       "@enduml\r\n",
       "\n",
       "PlantUML version 1.2020.13(Sat Jun 13 12:26:38 UTC 2020)\n",
       "(EPL source distribution)\n",
       "Java Runtime: OpenJDK Runtime Environment\n",
       "JVM: OpenJDK 64-Bit Server VM\n",
       "Default Encoding: UTF-8\n",
       "Language: en\n",
       "Country: null\n",
       "--></g></svg>"
      ]
     },
     "execution_count": 43,
     "metadata": {},
     "output_type": "execute_result"
    }
   ],
   "source": [
    "%viz --style=\"DEFAULT\" --view=\"MIXED\" \"ViewTest\""
   ]
  },
  {
   "cell_type": "code",
   "execution_count": 44,
   "id": "mobile-grain",
   "metadata": {
    "execution": {
     "iopub.execute_input": "2021-03-25T15:10:06.756445Z",
     "iopub.status.busy": "2021-03-25T15:10:06.755896Z",
     "iopub.status.idle": "2021-03-25T15:10:06.848765Z",
     "shell.execute_reply": "2021-03-25T15:10:06.849159Z"
    }
   },
   "outputs": [
    {
     "data": {
      "image/svg+xml": [
       "<?xml version=\"1.0\" encoding=\"UTF-8\" standalone=\"no\"?><svg xmlns=\"http://www.w3.org/2000/svg\" xmlns:xlink=\"http://www.w3.org/1999/xlink\" contentScriptType=\"application/ecmascript\" contentStyleType=\"text/css\" height=\"334px\" preserveAspectRatio=\"none\" style=\"width:417px;height:334px;\" version=\"1.1\" viewBox=\"0 0 417 334\" width=\"417px\" zoomAndPan=\"magnify\"><defs/><g><!--MD5=[fbc87193dbaf4d95561dea2c320d4a47]\n",
       "cluster E1--><a href=\"psysml:68a4efc3-4169-49c4-b08f-98091c4bc0be\" target=\"_top\" title=\"psysml:68a4efc3-4169-49c4-b08f-98091c4bc0be\" xlink:actuate=\"onRequest\" xlink:href=\"psysml:68a4efc3-4169-49c4-b08f-98091c4bc0be\" xlink:show=\"new\" xlink:title=\"psysml:68a4efc3-4169-49c4-b08f-98091c4bc0be\" xlink:type=\"simple\"><polygon fill=\"#FFFFFF\" points=\"16,6,96,6,103,28.2969,395,28.2969,395,322,16,322,16,6\" style=\"stroke: #000000; stroke-width: 1.5;\"/><line style=\"stroke: #000000; stroke-width: 1.5;\" x1=\"16\" x2=\"103\" y1=\"28.2969\" y2=\"28.2969\"/><text fill=\"#000000\" font-family=\"sans-serif\" font-size=\"14\" font-weight=\"bold\" lengthAdjust=\"spacingAndGlyphs\" textLength=\"74\" x=\"20\" y=\"20.9951\">ViewTest</text></a><!--MD5=[09b614a08d8cba4a07c9adeb5e0fee81]\n",
       "class E3--><a href=\"psysml:0e16ef0b-675e-475c-a6ab-030697702310\" target=\"_top\" title=\"psysml:0e16ef0b-675e-475c-a6ab-030697702310\" xlink:actuate=\"onRequest\" xlink:href=\"psysml:0e16ef0b-675e-475c-a6ab-030697702310\" xlink:show=\"new\" xlink:title=\"psysml:0e16ef0b-675e-475c-a6ab-030697702310\" xlink:type=\"simple\"><rect fill=\"#FFFFFF\" height=\"45.9375\" id=\"E3\" style=\"stroke: #383838; stroke-width: 1.5;\" width=\"98\" x=\"32\" y=\"260\"/><text fill=\"#000000\" font-family=\"sans-serif\" font-size=\"12\" font-style=\"italic\" lengthAdjust=\"spacingAndGlyphs\" textLength=\"96\" x=\"33\" y=\"276.1387\">«viewpoint def»</text><text fill=\"#000000\" font-family=\"sans-serif\" font-size=\"12\" lengthAdjust=\"spacingAndGlyphs\" textLength=\"16\" x=\"73\" y=\"290.1074\">VP</text><line style=\"stroke: #383838; stroke-width: 1.5;\" x1=\"33\" x2=\"129\" y1=\"297.9375\" y2=\"297.9375\"/></a><!--MD5=[ebbe1d658d1005bcc118a6aa81145e00]\n",
       "class E4--><a href=\"psysml:80b9aeea-925b-4b3a-8c84-ce381a5e60ed\" target=\"_top\" title=\"psysml:80b9aeea-925b-4b3a-8c84-ce381a5e60ed\" xlink:actuate=\"onRequest\" xlink:href=\"psysml:80b9aeea-925b-4b3a-8c84-ce381a5e60ed\" xlink:show=\"new\" xlink:title=\"psysml:80b9aeea-925b-4b3a-8c84-ce381a5e60ed\" xlink:type=\"simple\"><rect fill=\"#FFFFFF\" height=\"45.9375\" id=\"E4\" style=\"stroke: #383838; stroke-width: 1.5;\" width=\"101\" x=\"165.5\" y=\"260\"/><text fill=\"#000000\" font-family=\"sans-serif\" font-size=\"12\" font-style=\"italic\" lengthAdjust=\"spacingAndGlyphs\" textLength=\"99\" x=\"166.5\" y=\"276.1387\">«rendering def»</text><text fill=\"#000000\" font-family=\"sans-serif\" font-size=\"12\" lengthAdjust=\"spacingAndGlyphs\" textLength=\"8\" x=\"212\" y=\"290.1074\">R</text><line style=\"stroke: #383838; stroke-width: 1.5;\" x1=\"166.5\" x2=\"265.5\" y1=\"297.9375\" y2=\"297.9375\"/></a><!--MD5=[270fce915f116d4de14055a7c1d9a0f3]\n",
       "class E5--><a href=\"psysml:fa67c82a-cf4c-4211-8405-b886e7fced61\" target=\"_top\" title=\"psysml:fa67c82a-cf4c-4211-8405-b886e7fced61\" xlink:actuate=\"onRequest\" xlink:href=\"psysml:fa67c82a-cf4c-4211-8405-b886e7fced61\" xlink:show=\"new\" xlink:title=\"psysml:fa67c82a-cf4c-4211-8405-b886e7fced61\" xlink:type=\"simple\"><rect fill=\"#FFFFFF\" height=\"45.9375\" id=\"E5\" style=\"stroke: #383838; stroke-width: 1.5;\" width=\"66\" x=\"230\" y=\"44.5\"/><text fill=\"#000000\" font-family=\"sans-serif\" font-size=\"12\" font-style=\"italic\" lengthAdjust=\"spacingAndGlyphs\" textLength=\"64\" x=\"231\" y=\"60.6387\">«view def»</text><text fill=\"#000000\" font-family=\"sans-serif\" font-size=\"12\" lengthAdjust=\"spacingAndGlyphs\" textLength=\"8\" x=\"259\" y=\"74.6074\">V</text><line style=\"stroke: #383838; stroke-width: 1.5;\" x1=\"231\" x2=\"295\" y1=\"82.4375\" y2=\"82.4375\"/></a><!--MD5=[60a26617385b1d2d0262a64233df1f8d]\n",
       "class E6--><a href=\"psysml:edb93869-3e30-4330-ae7d-f0dbadb8ae6e\" target=\"_top\" title=\"psysml:edb93869-3e30-4330-ae7d-f0dbadb8ae6e\" xlink:actuate=\"onRequest\" xlink:href=\"psysml:edb93869-3e30-4330-ae7d-f0dbadb8ae6e\" xlink:show=\"new\" xlink:title=\"psysml:edb93869-3e30-4330-ae7d-f0dbadb8ae6e\" xlink:type=\"simple\"><rect fill=\"#FFFFFF\" height=\"45.9375\" id=\"E6\" rx=\"10\" ry=\"10\" style=\"stroke: #383838; stroke-width: 1.5;\" width=\"74\" x=\"56\" y=\"154\"/><text fill=\"#000000\" font-family=\"sans-serif\" font-size=\"12\" font-style=\"italic\" lengthAdjust=\"spacingAndGlyphs\" textLength=\"72\" x=\"57\" y=\"170.1387\">«viewpoint»</text><text fill=\"#000000\" font-family=\"sans-serif\" font-size=\"12\" lengthAdjust=\"spacingAndGlyphs\" textLength=\"38\" x=\"74\" y=\"184.1074\">vp: VP</text><line style=\"stroke: #383838; stroke-width: 1.5;\" x1=\"57\" x2=\"129\" y1=\"191.9375\" y2=\"191.9375\"/></a><!--MD5=[2156ba9850f5573cc1fc38a6a4b2f02b]\n",
       "class E7--><a href=\"psysml:d3ad1959-ed24-48c6-b8cb-3101ea5444ce\" target=\"_top\" title=\"psysml:d3ad1959-ed24-48c6-b8cb-3101ea5444ce\" xlink:actuate=\"onRequest\" xlink:href=\"psysml:d3ad1959-ed24-48c6-b8cb-3101ea5444ce\" xlink:show=\"new\" xlink:title=\"psysml:d3ad1959-ed24-48c6-b8cb-3101ea5444ce\" xlink:type=\"simple\"><rect fill=\"#FFFFFF\" height=\"45.9375\" id=\"E7\" rx=\"10\" ry=\"10\" style=\"stroke: #383838; stroke-width: 1.5;\" width=\"77\" x=\"177.5\" y=\"154\"/><text fill=\"#000000\" font-family=\"sans-serif\" font-size=\"12\" font-style=\"italic\" lengthAdjust=\"spacingAndGlyphs\" textLength=\"75\" x=\"178.5\" y=\"170.1387\">«rendering»</text><text fill=\"#000000\" font-family=\"sans-serif\" font-size=\"12\" lengthAdjust=\"spacingAndGlyphs\" textLength=\"21\" x=\"205.5\" y=\"184.1074\">r: R</text><line style=\"stroke: #383838; stroke-width: 1.5;\" x1=\"178.5\" x2=\"253.5\" y1=\"191.9375\" y2=\"191.9375\"/></a><!--MD5=[b9389687b975829384b498ac4b7476b2]\n",
       "class E8--><a href=\"psysml:c79df832-858d-4f87-b041-227cc7f695ce\" target=\"_top\" title=\"psysml:c79df832-858d-4f87-b041-227cc7f695ce\" xlink:actuate=\"onRequest\" xlink:href=\"psysml:c79df832-858d-4f87-b041-227cc7f695ce\" xlink:show=\"new\" xlink:title=\"psysml:c79df832-858d-4f87-b041-227cc7f695ce\" xlink:type=\"simple\"><rect fill=\"#FFFFFF\" height=\"45.9375\" id=\"E8\" rx=\"10\" ry=\"10\" style=\"stroke: #383838; stroke-width: 1.5;\" width=\"42\" x=\"290\" y=\"154\"/><text fill=\"#000000\" font-family=\"sans-serif\" font-size=\"12\" font-style=\"italic\" lengthAdjust=\"spacingAndGlyphs\" textLength=\"40\" x=\"291\" y=\"170.1387\">«view»</text><text fill=\"#000000\" font-family=\"sans-serif\" font-size=\"12\" lengthAdjust=\"spacingAndGlyphs\" textLength=\"22\" x=\"300\" y=\"184.1074\">v: V</text><line style=\"stroke: #383838; stroke-width: 1.5;\" x1=\"291\" x2=\"331\" y1=\"191.9375\" y2=\"191.9375\"/></a><!--MD5=[fd4143e9d270a159db93a4ea2a975926]\n",
       "class E9--><a href=\"psysml:599cc28e-37a4-4871-97e7-8713776fcf23\" target=\"_top\" title=\"psysml:599cc28e-37a4-4871-97e7-8713776fcf23\" xlink:actuate=\"onRequest\" xlink:href=\"psysml:599cc28e-37a4-4871-97e7-8713776fcf23\" xlink:show=\"new\" xlink:title=\"psysml:599cc28e-37a4-4871-97e7-8713776fcf23\" xlink:type=\"simple\"><rect fill=\"#FFFFFF\" height=\"45.9375\" id=\"E9\" rx=\"10\" ry=\"10\" style=\"stroke: #383838; stroke-width: 1.5;\" width=\"77\" x=\"301.5\" y=\"260\"/><text fill=\"#000000\" font-family=\"sans-serif\" font-size=\"12\" font-style=\"italic\" lengthAdjust=\"spacingAndGlyphs\" textLength=\"75\" x=\"302.5\" y=\"276.1387\">«rendering»</text><text fill=\"#000000\" font-family=\"sans-serif\" font-size=\"12\" lengthAdjust=\"spacingAndGlyphs\" textLength=\"13\" x=\"333.5\" y=\"290.1074\">r1</text><line style=\"stroke: #383838; stroke-width: 1.5;\" x1=\"302.5\" x2=\"377.5\" y1=\"297.9375\" y2=\"297.9375\"/></a><a href=\"psysml:d8eb8e98-9fc5-4554-bb79-0a7fb3af234b\" target=\"_top\" title=\"psysml:d8eb8e98-9fc5-4554-bb79-0a7fb3af234b\" xlink:actuate=\"onRequest\" xlink:href=\"psysml:d8eb8e98-9fc5-4554-bb79-0a7fb3af234b\" xlink:show=\"new\" xlink:title=\"psysml:d8eb8e98-9fc5-4554-bb79-0a7fb3af234b\" xlink:type=\"simple\"><polygon fill=\"#FFFFFF\" points=\"122,41,138,41,145,63.2969,152,63.2969,152,93.5938,122,93.5938,122,41\" style=\"stroke: #000000; stroke-width: 1.5;\"/><line style=\"stroke: #000000; stroke-width: 1.5;\" x1=\"122\" x2=\"145\" y1=\"63.2969\" y2=\"63.2969\"/><text fill=\"#000000\" font-family=\"sans-serif\" font-size=\"14\" font-weight=\"bold\" lengthAdjust=\"spacingAndGlyphs\" textLength=\"10\" x=\"126\" y=\"55.9951\">P</text></a><!--MD5=[85d356282659285ab4b2cfe2f634dd2b]\n",
       "reverse link E5 to E6--><a href=\"psysml:edb93869-3e30-4330-ae7d-f0dbadb8ae6e\" target=\"_top\" title=\"psysml:edb93869-3e30-4330-ae7d-f0dbadb8ae6e\" xlink:actuate=\"onRequest\" xlink:href=\"psysml:edb93869-3e30-4330-ae7d-f0dbadb8ae6e\" xlink:show=\"new\" xlink:title=\"psysml:edb93869-3e30-4330-ae7d-f0dbadb8ae6e\" xlink:type=\"simple\"><path d=\"M218.61,96.57 C190.28,114.48 154.1,137.36 127.85,153.96 \" fill=\"none\" id=\"E5&lt;-E6\" style=\"stroke: #383838; stroke-width: 1.0;\"/><polygon fill=\"#383838\" points=\"229.82,89.48,222.6111,89.2999,219.6723,95.8849,226.8811,96.0651,229.82,89.48\" style=\"stroke: #383838; stroke-width: 1.0;\"/></a><!--MD5=[a717450b82c80b9240a525fa862496af]\n",
       "link E6 to E3--><a href=\"psysml:678c28b1-b825-4869-b6db-341a5ef18df5\" target=\"_top\" title=\"psysml:678c28b1-b825-4869-b6db-341a5ef18df5\" xlink:actuate=\"onRequest\" xlink:href=\"psysml:678c28b1-b825-4869-b6db-341a5ef18df5\" xlink:show=\"new\" xlink:title=\"psysml:678c28b1-b825-4869-b6db-341a5ef18df5\" xlink:type=\"simple\"><path d=\"M90.46,200.06 C89.12,211.64 87.44,226.23 85.86,239.87 \" fill=\"none\" id=\"E6-&gt;E3\" style=\"stroke: #383838; stroke-width: 1.0;\"/><polygon fill=\"#FFFFFF\" points=\"83.54,259.98,78.757,240.3046,92.6653,241.9044,83.54,259.98\" style=\"stroke: #383838; stroke-width: 1.0;\"/><ellipse cx=\"81.3953\" cy=\"234.8704\" fill=\"#383838\" rx=\"2\" ry=\"2\" style=\"stroke: #383838; stroke-width: 1.0;\"/><ellipse cx=\"91.3298\" cy=\"236.0132\" fill=\"#383838\" rx=\"2\" ry=\"2\" style=\"stroke: #383838; stroke-width: 1.0;\"/></a><!--MD5=[6bdd27f9905911a7e892a3dc65cf6b7c]\n",
       "link E7 to E4--><a href=\"psysml:e01b0a28-1744-4d35-a29d-a960e4229aec\" target=\"_top\" title=\"psysml:e01b0a28-1744-4d35-a29d-a960e4229aec\" xlink:actuate=\"onRequest\" xlink:href=\"psysml:e01b0a28-1744-4d35-a29d-a960e4229aec\" xlink:show=\"new\" xlink:title=\"psysml:e01b0a28-1744-4d35-a29d-a960e4229aec\" xlink:type=\"simple\"><path d=\"M216,200.06 C216,211.64 216,226.23 216,239.87 \" fill=\"none\" id=\"E7-&gt;E4\" style=\"stroke: #383838; stroke-width: 1.0;\"/><polygon fill=\"#FFFFFF\" points=\"216,259.98,209,240.98,223,240.98,216,259.98\" style=\"stroke: #383838; stroke-width: 1.0;\"/><ellipse cx=\"211\" cy=\"235.28\" fill=\"#383838\" rx=\"2\" ry=\"2\" style=\"stroke: #383838; stroke-width: 1.0;\"/><ellipse cx=\"221\" cy=\"235.28\" fill=\"#383838\" rx=\"2\" ry=\"2\" style=\"stroke: #383838; stroke-width: 1.0;\"/></a><!--MD5=[452b418e7f8a40397a49b8c0a78acc5b]\n",
       "reverse link E5 to E7--><a href=\"psysml:d3ad1959-ed24-48c6-b8cb-3101ea5444ce\" target=\"_top\" title=\"psysml:d3ad1959-ed24-48c6-b8cb-3101ea5444ce\" xlink:actuate=\"onRequest\" xlink:href=\"psysml:d3ad1959-ed24-48c6-b8cb-3101ea5444ce\" xlink:show=\"new\" xlink:title=\"psysml:d3ad1959-ed24-48c6-b8cb-3101ea5444ce\" xlink:type=\"simple\"><path d=\"M248.1,102.57 C240.81,119.26 232.23,138.89 225.77,153.65 \" fill=\"none\" id=\"E5&lt;-E7\" style=\"stroke: #383838; stroke-width: 1.0;\"/><polygon fill=\"#383838\" points=\"253.38,90.51,247.31,94.4029,248.5688,101.5033,254.6388,97.6104,253.38,90.51\" style=\"stroke: #383838; stroke-width: 1.0;\"/><text fill=\"#000000\" font-family=\"sans-serif\" font-size=\"13\" lengthAdjust=\"spacingAndGlyphs\" textLength=\"24\" x=\"201.1986\" y=\"142.8366\">0..1</text></a><!--MD5=[1ccb2481ffa92f8d51a74ee30c51832a]\n",
       "link E8 to E5--><a href=\"psysml:3896f3dd-ac25-48cd-93fb-dac3b3d02068\" target=\"_top\" title=\"psysml:3896f3dd-ac25-48cd-93fb-dac3b3d02068\" xlink:actuate=\"onRequest\" xlink:href=\"psysml:3896f3dd-ac25-48cd-93fb-dac3b3d02068\" xlink:show=\"new\" xlink:title=\"psysml:3896f3dd-ac25-48cd-93fb-dac3b3d02068\" xlink:type=\"simple\"><path d=\"M312.22,153.65 C308.53,140.48 301.55,123.44 293.74,108.07 \" fill=\"none\" id=\"E8-&gt;E5\" style=\"stroke: #383838; stroke-width: 1.0;\"/><polygon fill=\"#FFFFFF\" points=\"283.97,90.51,299.3209,103.7142,287.0851,110.5174,283.97,90.51\" style=\"stroke: #383838; stroke-width: 1.0;\"/><ellipse cx=\"300.3428\" cy=\"109.6678\" fill=\"#383838\" rx=\"2\" ry=\"2\" style=\"stroke: #383838; stroke-width: 1.0;\"/><ellipse cx=\"291.6029\" cy=\"114.5273\" fill=\"#383838\" rx=\"2\" ry=\"2\" style=\"stroke: #383838; stroke-width: 1.0;\"/></a><!--MD5=[827760032d119d06bbc92f75530fd7ae]\n",
       "reverse link E5 to E8--><a href=\"psysml:c79df832-858d-4f87-b041-227cc7f695ce\" target=\"_top\" title=\"psysml:c79df832-858d-4f87-b041-227cc7f695ce\" xlink:actuate=\"onRequest\" xlink:href=\"psysml:c79df832-858d-4f87-b041-227cc7f695ce\" xlink:show=\"new\" xlink:title=\"psysml:c79df832-858d-4f87-b041-227cc7f695ce\" xlink:type=\"simple\"><path d=\"M266.44,103.07 C272.49,119.65 281.62,139.03 290.44,153.65 \" fill=\"none\" id=\"E5&lt;-E8\" style=\"stroke: #383838; stroke-width: 1.0;\"/><polygon fill=\"#383838\" points=\"262.31,90.51,260.3836,97.459,266.0572,101.9099,267.9836,94.9609,262.31,90.51\" style=\"stroke: #383838; stroke-width: 1.0;\"/><text fill=\"#000000\" font-family=\"sans-serif\" font-size=\"13\" lengthAdjust=\"spacingAndGlyphs\" textLength=\"7\" x=\"277.2746\" y=\"142.8366\">*</text></a><!--MD5=[22f5b4bae7e060dce8a1c8021efdb95b]\n",
       "reverse link E8 to E9--><a href=\"psysml:599cc28e-37a4-4871-97e7-8713776fcf23\" target=\"_top\" title=\"psysml:599cc28e-37a4-4871-97e7-8713776fcf23\" xlink:actuate=\"onRequest\" xlink:href=\"psysml:599cc28e-37a4-4871-97e7-8713776fcf23\" xlink:show=\"new\" xlink:title=\"psysml:599cc28e-37a4-4871-97e7-8713776fcf23\" xlink:type=\"simple\"><path d=\"M320.75,212.96 C325.08,228.51 330.05,246.33 333.86,259.98 \" fill=\"none\" id=\"E8&lt;-E9\" style=\"stroke: #383838; stroke-width: 1.0;\"/><polygon fill=\"#383838\" points=\"317.15,200.06,314.9066,206.9133,320.3699,211.6199,322.6133,204.7667,317.15,200.06\" style=\"stroke: #383838; stroke-width: 1.0;\"/></a><!--MD5=[f4a499b923422e5a58a64bba4c72b1ef]\n",
       "@startuml\r\n",
       "top to bottom direction\r\n",
       "skinparam monochrome true\r\n",
       "skinparam classbackgroundcolor white\r\n",
       "skinparam shadowing false\r\n",
       "skinparam wrapWidth 300\r\n",
       "hide circle\r\n",
       "\r\n",
       "package \"ViewTest\" as E1  [[psysml:68a4efc3-4169-49c4-b08f-98091c4bc0be ]]  {\r\n",
       "package \"P\" as E2  [[psysml:d8eb8e98-9fc5-4554-bb79-0a7fb3af234b ]]  {\r\n",
       "}\r\n",
       "comp def \"VP\" as E3  <<(T,blue)viewpoint def>> [[psysml:0e16ef0b-675e-475c-a6ab-030697702310 ]] {\r\n",
       "}\r\n",
       "comp def \"R\" as E4  <<(T,blue)rendering def>> [[psysml:80b9aeea-925b-4b3a-8c84-ce381a5e60ed ]] {\r\n",
       "}\r\n",
       "comp def \"V\" as E5  <<(T,blue)view def>> [[psysml:fa67c82a-cf4c-4211-8405-b886e7fced61 ]] {\r\n",
       "}\r\n",
       "comp usage \"vp: VP\" as E6  <<(T,blue)viewpoint>> [[psysml:edb93869-3e30-4330-ae7d-f0dbadb8ae6e ]] {\r\n",
       "}\r\n",
       "comp usage \"r: R\" as E7  <<(T,blue)rendering>> [[psysml:d3ad1959-ed24-48c6-b8cb-3101ea5444ce ]] {\r\n",
       "}\r\n",
       "comp usage \"v: V\" as E8  <<(T,blue)view>> [[psysml:c79df832-858d-4f87-b041-227cc7f695ce ]] {\r\n",
       "}\r\n",
       "comp usage \"r1\" as E9  <<(T,blue)rendering>> [[psysml:599cc28e-37a4-4871-97e7-8713776fcf23 ]] {\r\n",
       "}\r\n",
       "E5 *- - E6 [[psysml:edb93869-3e30-4330-ae7d-f0dbadb8ae6e ]] \r\n",
       "E6 - -:|> E3 [[psysml:678c28b1-b825-4869-b6db-341a5ef18df5 ]] \r\n",
       "E7 - -:|> E4 [[psysml:e01b0a28-1744-4d35-a29d-a960e4229aec ]] \r\n",
       "E5 *- - \"0..1\"E7 [[psysml:d3ad1959-ed24-48c6-b8cb-3101ea5444ce ]] \r\n",
       "E8 - -:|> E5 [[psysml:3896f3dd-ac25-48cd-93fb-dac3b3d02068 ]] \r\n",
       "E5 *- - \"*\"E8 [[psysml:c79df832-858d-4f87-b041-227cc7f695ce ]] \r\n",
       "E8 *- - E9 [[psysml:599cc28e-37a4-4871-97e7-8713776fcf23 ]] \r\n",
       "}\r\n",
       "@enduml\r\n",
       "\n",
       "PlantUML version 1.2020.13(Sat Jun 13 12:26:38 UTC 2020)\n",
       "(EPL source distribution)\n",
       "Java Runtime: OpenJDK Runtime Environment\n",
       "JVM: OpenJDK 64-Bit Server VM\n",
       "Default Encoding: UTF-8\n",
       "Language: en\n",
       "Country: null\n",
       "--></g></svg>"
      ]
     },
     "execution_count": 44,
     "metadata": {},
     "output_type": "execute_result"
    }
   ],
   "source": [
    "%viz --style=\"TB\" --view=\"Default\" \"ViewTest\""
   ]
  },
  {
   "cell_type": "code",
   "execution_count": 45,
   "id": "known-inclusion",
   "metadata": {
    "execution": {
     "iopub.execute_input": "2021-03-25T15:10:06.899713Z",
     "iopub.status.busy": "2021-03-25T15:10:06.899248Z",
     "iopub.status.idle": "2021-03-25T15:10:06.990771Z",
     "shell.execute_reply": "2021-03-25T15:10:06.989008Z"
    }
   },
   "outputs": [
    {
     "data": {
      "image/svg+xml": [
       "<?xml version=\"1.0\" encoding=\"UTF-8\" standalone=\"no\"?><svg xmlns=\"http://www.w3.org/2000/svg\" xmlns:xlink=\"http://www.w3.org/1999/xlink\" contentScriptType=\"application/ecmascript\" contentStyleType=\"text/css\" height=\"334px\" preserveAspectRatio=\"none\" style=\"width:417px;height:334px;\" version=\"1.1\" viewBox=\"0 0 417 334\" width=\"417px\" zoomAndPan=\"magnify\"><defs/><g><!--MD5=[fbc87193dbaf4d95561dea2c320d4a47]\n",
       "cluster E1--><a href=\"psysml:68a4efc3-4169-49c4-b08f-98091c4bc0be\" target=\"_top\" title=\"psysml:68a4efc3-4169-49c4-b08f-98091c4bc0be\" xlink:actuate=\"onRequest\" xlink:href=\"psysml:68a4efc3-4169-49c4-b08f-98091c4bc0be\" xlink:show=\"new\" xlink:title=\"psysml:68a4efc3-4169-49c4-b08f-98091c4bc0be\" xlink:type=\"simple\"><polygon fill=\"#FFFFFF\" points=\"16,6,96,6,103,28.2969,395,28.2969,395,322,16,322,16,6\" style=\"stroke: #000000; stroke-width: 1.5;\"/><line style=\"stroke: #000000; stroke-width: 1.5;\" x1=\"16\" x2=\"103\" y1=\"28.2969\" y2=\"28.2969\"/><text fill=\"#000000\" font-family=\"sans-serif\" font-size=\"14\" font-weight=\"bold\" lengthAdjust=\"spacingAndGlyphs\" textLength=\"74\" x=\"20\" y=\"20.9951\">ViewTest</text></a><!--MD5=[09b614a08d8cba4a07c9adeb5e0fee81]\n",
       "class E3--><a href=\"psysml:0e16ef0b-675e-475c-a6ab-030697702310\" target=\"_top\" title=\"psysml:0e16ef0b-675e-475c-a6ab-030697702310\" xlink:actuate=\"onRequest\" xlink:href=\"psysml:0e16ef0b-675e-475c-a6ab-030697702310\" xlink:show=\"new\" xlink:title=\"psysml:0e16ef0b-675e-475c-a6ab-030697702310\" xlink:type=\"simple\"><rect fill=\"#FFFFFF\" height=\"45.9375\" id=\"E3\" style=\"stroke: #383838; stroke-width: 1.5;\" width=\"98\" x=\"32\" y=\"260\"/><text fill=\"#000000\" font-family=\"sans-serif\" font-size=\"12\" font-style=\"italic\" lengthAdjust=\"spacingAndGlyphs\" textLength=\"96\" x=\"33\" y=\"276.1387\">«viewpoint def»</text><text fill=\"#000000\" font-family=\"sans-serif\" font-size=\"12\" lengthAdjust=\"spacingAndGlyphs\" textLength=\"16\" x=\"73\" y=\"290.1074\">VP</text><line style=\"stroke: #383838; stroke-width: 1.5;\" x1=\"33\" x2=\"129\" y1=\"297.9375\" y2=\"297.9375\"/></a><!--MD5=[ebbe1d658d1005bcc118a6aa81145e00]\n",
       "class E4--><a href=\"psysml:80b9aeea-925b-4b3a-8c84-ce381a5e60ed\" target=\"_top\" title=\"psysml:80b9aeea-925b-4b3a-8c84-ce381a5e60ed\" xlink:actuate=\"onRequest\" xlink:href=\"psysml:80b9aeea-925b-4b3a-8c84-ce381a5e60ed\" xlink:show=\"new\" xlink:title=\"psysml:80b9aeea-925b-4b3a-8c84-ce381a5e60ed\" xlink:type=\"simple\"><rect fill=\"#FFFFFF\" height=\"45.9375\" id=\"E4\" style=\"stroke: #383838; stroke-width: 1.5;\" width=\"101\" x=\"165.5\" y=\"260\"/><text fill=\"#000000\" font-family=\"sans-serif\" font-size=\"12\" font-style=\"italic\" lengthAdjust=\"spacingAndGlyphs\" textLength=\"99\" x=\"166.5\" y=\"276.1387\">«rendering def»</text><text fill=\"#000000\" font-family=\"sans-serif\" font-size=\"12\" lengthAdjust=\"spacingAndGlyphs\" textLength=\"8\" x=\"212\" y=\"290.1074\">R</text><line style=\"stroke: #383838; stroke-width: 1.5;\" x1=\"166.5\" x2=\"265.5\" y1=\"297.9375\" y2=\"297.9375\"/></a><!--MD5=[270fce915f116d4de14055a7c1d9a0f3]\n",
       "class E5--><a href=\"psysml:fa67c82a-cf4c-4211-8405-b886e7fced61\" target=\"_top\" title=\"psysml:fa67c82a-cf4c-4211-8405-b886e7fced61\" xlink:actuate=\"onRequest\" xlink:href=\"psysml:fa67c82a-cf4c-4211-8405-b886e7fced61\" xlink:show=\"new\" xlink:title=\"psysml:fa67c82a-cf4c-4211-8405-b886e7fced61\" xlink:type=\"simple\"><rect fill=\"#FFFFFF\" height=\"45.9375\" id=\"E5\" style=\"stroke: #383838; stroke-width: 1.5;\" width=\"66\" x=\"230\" y=\"44.5\"/><text fill=\"#000000\" font-family=\"sans-serif\" font-size=\"12\" font-style=\"italic\" lengthAdjust=\"spacingAndGlyphs\" textLength=\"64\" x=\"231\" y=\"60.6387\">«view def»</text><text fill=\"#000000\" font-family=\"sans-serif\" font-size=\"12\" lengthAdjust=\"spacingAndGlyphs\" textLength=\"8\" x=\"259\" y=\"74.6074\">V</text><line style=\"stroke: #383838; stroke-width: 1.5;\" x1=\"231\" x2=\"295\" y1=\"82.4375\" y2=\"82.4375\"/></a><!--MD5=[60a26617385b1d2d0262a64233df1f8d]\n",
       "class E6--><a href=\"psysml:edb93869-3e30-4330-ae7d-f0dbadb8ae6e\" target=\"_top\" title=\"psysml:edb93869-3e30-4330-ae7d-f0dbadb8ae6e\" xlink:actuate=\"onRequest\" xlink:href=\"psysml:edb93869-3e30-4330-ae7d-f0dbadb8ae6e\" xlink:show=\"new\" xlink:title=\"psysml:edb93869-3e30-4330-ae7d-f0dbadb8ae6e\" xlink:type=\"simple\"><rect fill=\"#FFFFFF\" height=\"45.9375\" id=\"E6\" rx=\"10\" ry=\"10\" style=\"stroke: #383838; stroke-width: 1.5;\" width=\"74\" x=\"56\" y=\"154\"/><text fill=\"#000000\" font-family=\"sans-serif\" font-size=\"12\" font-style=\"italic\" lengthAdjust=\"spacingAndGlyphs\" textLength=\"72\" x=\"57\" y=\"170.1387\">«viewpoint»</text><text fill=\"#000000\" font-family=\"sans-serif\" font-size=\"12\" lengthAdjust=\"spacingAndGlyphs\" textLength=\"38\" x=\"74\" y=\"184.1074\">vp: VP</text><line style=\"stroke: #383838; stroke-width: 1.5;\" x1=\"57\" x2=\"129\" y1=\"191.9375\" y2=\"191.9375\"/></a><!--MD5=[2156ba9850f5573cc1fc38a6a4b2f02b]\n",
       "class E7--><a href=\"psysml:d3ad1959-ed24-48c6-b8cb-3101ea5444ce\" target=\"_top\" title=\"psysml:d3ad1959-ed24-48c6-b8cb-3101ea5444ce\" xlink:actuate=\"onRequest\" xlink:href=\"psysml:d3ad1959-ed24-48c6-b8cb-3101ea5444ce\" xlink:show=\"new\" xlink:title=\"psysml:d3ad1959-ed24-48c6-b8cb-3101ea5444ce\" xlink:type=\"simple\"><rect fill=\"#FFFFFF\" height=\"45.9375\" id=\"E7\" rx=\"10\" ry=\"10\" style=\"stroke: #383838; stroke-width: 1.5;\" width=\"77\" x=\"177.5\" y=\"154\"/><text fill=\"#000000\" font-family=\"sans-serif\" font-size=\"12\" font-style=\"italic\" lengthAdjust=\"spacingAndGlyphs\" textLength=\"75\" x=\"178.5\" y=\"170.1387\">«rendering»</text><text fill=\"#000000\" font-family=\"sans-serif\" font-size=\"12\" lengthAdjust=\"spacingAndGlyphs\" textLength=\"21\" x=\"205.5\" y=\"184.1074\">r: R</text><line style=\"stroke: #383838; stroke-width: 1.5;\" x1=\"178.5\" x2=\"253.5\" y1=\"191.9375\" y2=\"191.9375\"/></a><!--MD5=[b9389687b975829384b498ac4b7476b2]\n",
       "class E8--><a href=\"psysml:c79df832-858d-4f87-b041-227cc7f695ce\" target=\"_top\" title=\"psysml:c79df832-858d-4f87-b041-227cc7f695ce\" xlink:actuate=\"onRequest\" xlink:href=\"psysml:c79df832-858d-4f87-b041-227cc7f695ce\" xlink:show=\"new\" xlink:title=\"psysml:c79df832-858d-4f87-b041-227cc7f695ce\" xlink:type=\"simple\"><rect fill=\"#FFFFFF\" height=\"45.9375\" id=\"E8\" rx=\"10\" ry=\"10\" style=\"stroke: #383838; stroke-width: 1.5;\" width=\"42\" x=\"290\" y=\"154\"/><text fill=\"#000000\" font-family=\"sans-serif\" font-size=\"12\" font-style=\"italic\" lengthAdjust=\"spacingAndGlyphs\" textLength=\"40\" x=\"291\" y=\"170.1387\">«view»</text><text fill=\"#000000\" font-family=\"sans-serif\" font-size=\"12\" lengthAdjust=\"spacingAndGlyphs\" textLength=\"22\" x=\"300\" y=\"184.1074\">v: V</text><line style=\"stroke: #383838; stroke-width: 1.5;\" x1=\"291\" x2=\"331\" y1=\"191.9375\" y2=\"191.9375\"/></a><!--MD5=[fd4143e9d270a159db93a4ea2a975926]\n",
       "class E9--><a href=\"psysml:599cc28e-37a4-4871-97e7-8713776fcf23\" target=\"_top\" title=\"psysml:599cc28e-37a4-4871-97e7-8713776fcf23\" xlink:actuate=\"onRequest\" xlink:href=\"psysml:599cc28e-37a4-4871-97e7-8713776fcf23\" xlink:show=\"new\" xlink:title=\"psysml:599cc28e-37a4-4871-97e7-8713776fcf23\" xlink:type=\"simple\"><rect fill=\"#FFFFFF\" height=\"45.9375\" id=\"E9\" rx=\"10\" ry=\"10\" style=\"stroke: #383838; stroke-width: 1.5;\" width=\"77\" x=\"301.5\" y=\"260\"/><text fill=\"#000000\" font-family=\"sans-serif\" font-size=\"12\" font-style=\"italic\" lengthAdjust=\"spacingAndGlyphs\" textLength=\"75\" x=\"302.5\" y=\"276.1387\">«rendering»</text><text fill=\"#000000\" font-family=\"sans-serif\" font-size=\"12\" lengthAdjust=\"spacingAndGlyphs\" textLength=\"13\" x=\"333.5\" y=\"290.1074\">r1</text><line style=\"stroke: #383838; stroke-width: 1.5;\" x1=\"302.5\" x2=\"377.5\" y1=\"297.9375\" y2=\"297.9375\"/></a><a href=\"psysml:d8eb8e98-9fc5-4554-bb79-0a7fb3af234b\" target=\"_top\" title=\"psysml:d8eb8e98-9fc5-4554-bb79-0a7fb3af234b\" xlink:actuate=\"onRequest\" xlink:href=\"psysml:d8eb8e98-9fc5-4554-bb79-0a7fb3af234b\" xlink:show=\"new\" xlink:title=\"psysml:d8eb8e98-9fc5-4554-bb79-0a7fb3af234b\" xlink:type=\"simple\"><polygon fill=\"#FFFFFF\" points=\"122,41,138,41,145,63.2969,152,63.2969,152,93.5938,122,93.5938,122,41\" style=\"stroke: #000000; stroke-width: 1.5;\"/><line style=\"stroke: #000000; stroke-width: 1.5;\" x1=\"122\" x2=\"145\" y1=\"63.2969\" y2=\"63.2969\"/><text fill=\"#000000\" font-family=\"sans-serif\" font-size=\"14\" font-weight=\"bold\" lengthAdjust=\"spacingAndGlyphs\" textLength=\"10\" x=\"126\" y=\"55.9951\">P</text></a><!--MD5=[85d356282659285ab4b2cfe2f634dd2b]\n",
       "reverse link E5 to E6--><a href=\"psysml:edb93869-3e30-4330-ae7d-f0dbadb8ae6e\" target=\"_top\" title=\"psysml:edb93869-3e30-4330-ae7d-f0dbadb8ae6e\" xlink:actuate=\"onRequest\" xlink:href=\"psysml:edb93869-3e30-4330-ae7d-f0dbadb8ae6e\" xlink:show=\"new\" xlink:title=\"psysml:edb93869-3e30-4330-ae7d-f0dbadb8ae6e\" xlink:type=\"simple\"><path d=\"M218.61,96.57 C190.28,114.48 154.1,137.36 127.85,153.96 \" fill=\"none\" id=\"E5&lt;-E6\" style=\"stroke: #383838; stroke-width: 1.0;\"/><polygon fill=\"#383838\" points=\"229.82,89.48,222.6111,89.2999,219.6723,95.8849,226.8811,96.0651,229.82,89.48\" style=\"stroke: #383838; stroke-width: 1.0;\"/></a><!--MD5=[a717450b82c80b9240a525fa862496af]\n",
       "link E6 to E3--><a href=\"psysml:678c28b1-b825-4869-b6db-341a5ef18df5\" target=\"_top\" title=\"psysml:678c28b1-b825-4869-b6db-341a5ef18df5\" xlink:actuate=\"onRequest\" xlink:href=\"psysml:678c28b1-b825-4869-b6db-341a5ef18df5\" xlink:show=\"new\" xlink:title=\"psysml:678c28b1-b825-4869-b6db-341a5ef18df5\" xlink:type=\"simple\"><path d=\"M90.46,200.06 C89.12,211.64 87.44,226.23 85.86,239.87 \" fill=\"none\" id=\"E6-&gt;E3\" style=\"stroke: #383838; stroke-width: 1.0;\"/><polygon fill=\"#FFFFFF\" points=\"83.54,259.98,78.757,240.3046,92.6653,241.9044,83.54,259.98\" style=\"stroke: #383838; stroke-width: 1.0;\"/><ellipse cx=\"81.3953\" cy=\"234.8704\" fill=\"#383838\" rx=\"2\" ry=\"2\" style=\"stroke: #383838; stroke-width: 1.0;\"/><ellipse cx=\"91.3298\" cy=\"236.0132\" fill=\"#383838\" rx=\"2\" ry=\"2\" style=\"stroke: #383838; stroke-width: 1.0;\"/></a><!--MD5=[6bdd27f9905911a7e892a3dc65cf6b7c]\n",
       "link E7 to E4--><a href=\"psysml:e01b0a28-1744-4d35-a29d-a960e4229aec\" target=\"_top\" title=\"psysml:e01b0a28-1744-4d35-a29d-a960e4229aec\" xlink:actuate=\"onRequest\" xlink:href=\"psysml:e01b0a28-1744-4d35-a29d-a960e4229aec\" xlink:show=\"new\" xlink:title=\"psysml:e01b0a28-1744-4d35-a29d-a960e4229aec\" xlink:type=\"simple\"><path d=\"M216,200.06 C216,211.64 216,226.23 216,239.87 \" fill=\"none\" id=\"E7-&gt;E4\" style=\"stroke: #383838; stroke-width: 1.0;\"/><polygon fill=\"#FFFFFF\" points=\"216,259.98,209,240.98,223,240.98,216,259.98\" style=\"stroke: #383838; stroke-width: 1.0;\"/><ellipse cx=\"211\" cy=\"235.28\" fill=\"#383838\" rx=\"2\" ry=\"2\" style=\"stroke: #383838; stroke-width: 1.0;\"/><ellipse cx=\"221\" cy=\"235.28\" fill=\"#383838\" rx=\"2\" ry=\"2\" style=\"stroke: #383838; stroke-width: 1.0;\"/></a><!--MD5=[452b418e7f8a40397a49b8c0a78acc5b]\n",
       "reverse link E5 to E7--><a href=\"psysml:d3ad1959-ed24-48c6-b8cb-3101ea5444ce\" target=\"_top\" title=\"psysml:d3ad1959-ed24-48c6-b8cb-3101ea5444ce\" xlink:actuate=\"onRequest\" xlink:href=\"psysml:d3ad1959-ed24-48c6-b8cb-3101ea5444ce\" xlink:show=\"new\" xlink:title=\"psysml:d3ad1959-ed24-48c6-b8cb-3101ea5444ce\" xlink:type=\"simple\"><path d=\"M248.1,102.57 C240.81,119.26 232.23,138.89 225.77,153.65 \" fill=\"none\" id=\"E5&lt;-E7\" style=\"stroke: #383838; stroke-width: 1.0;\"/><polygon fill=\"#383838\" points=\"253.38,90.51,247.31,94.4029,248.5688,101.5033,254.6388,97.6104,253.38,90.51\" style=\"stroke: #383838; stroke-width: 1.0;\"/><text fill=\"#000000\" font-family=\"sans-serif\" font-size=\"13\" lengthAdjust=\"spacingAndGlyphs\" textLength=\"24\" x=\"201.1986\" y=\"142.8366\">0..1</text></a><!--MD5=[1ccb2481ffa92f8d51a74ee30c51832a]\n",
       "link E8 to E5--><a href=\"psysml:3896f3dd-ac25-48cd-93fb-dac3b3d02068\" target=\"_top\" title=\"psysml:3896f3dd-ac25-48cd-93fb-dac3b3d02068\" xlink:actuate=\"onRequest\" xlink:href=\"psysml:3896f3dd-ac25-48cd-93fb-dac3b3d02068\" xlink:show=\"new\" xlink:title=\"psysml:3896f3dd-ac25-48cd-93fb-dac3b3d02068\" xlink:type=\"simple\"><path d=\"M312.22,153.65 C308.53,140.48 301.55,123.44 293.74,108.07 \" fill=\"none\" id=\"E8-&gt;E5\" style=\"stroke: #383838; stroke-width: 1.0;\"/><polygon fill=\"#FFFFFF\" points=\"283.97,90.51,299.3209,103.7142,287.0851,110.5174,283.97,90.51\" style=\"stroke: #383838; stroke-width: 1.0;\"/><ellipse cx=\"300.3428\" cy=\"109.6678\" fill=\"#383838\" rx=\"2\" ry=\"2\" style=\"stroke: #383838; stroke-width: 1.0;\"/><ellipse cx=\"291.6029\" cy=\"114.5273\" fill=\"#383838\" rx=\"2\" ry=\"2\" style=\"stroke: #383838; stroke-width: 1.0;\"/></a><!--MD5=[827760032d119d06bbc92f75530fd7ae]\n",
       "reverse link E5 to E8--><a href=\"psysml:c79df832-858d-4f87-b041-227cc7f695ce\" target=\"_top\" title=\"psysml:c79df832-858d-4f87-b041-227cc7f695ce\" xlink:actuate=\"onRequest\" xlink:href=\"psysml:c79df832-858d-4f87-b041-227cc7f695ce\" xlink:show=\"new\" xlink:title=\"psysml:c79df832-858d-4f87-b041-227cc7f695ce\" xlink:type=\"simple\"><path d=\"M266.44,103.07 C272.49,119.65 281.62,139.03 290.44,153.65 \" fill=\"none\" id=\"E5&lt;-E8\" style=\"stroke: #383838; stroke-width: 1.0;\"/><polygon fill=\"#383838\" points=\"262.31,90.51,260.3836,97.459,266.0572,101.9099,267.9836,94.9609,262.31,90.51\" style=\"stroke: #383838; stroke-width: 1.0;\"/><text fill=\"#000000\" font-family=\"sans-serif\" font-size=\"13\" lengthAdjust=\"spacingAndGlyphs\" textLength=\"7\" x=\"277.2746\" y=\"142.8366\">*</text></a><!--MD5=[22f5b4bae7e060dce8a1c8021efdb95b]\n",
       "reverse link E8 to E9--><a href=\"psysml:599cc28e-37a4-4871-97e7-8713776fcf23\" target=\"_top\" title=\"psysml:599cc28e-37a4-4871-97e7-8713776fcf23\" xlink:actuate=\"onRequest\" xlink:href=\"psysml:599cc28e-37a4-4871-97e7-8713776fcf23\" xlink:show=\"new\" xlink:title=\"psysml:599cc28e-37a4-4871-97e7-8713776fcf23\" xlink:type=\"simple\"><path d=\"M320.75,212.96 C325.08,228.51 330.05,246.33 333.86,259.98 \" fill=\"none\" id=\"E8&lt;-E9\" style=\"stroke: #383838; stroke-width: 1.0;\"/><polygon fill=\"#383838\" points=\"317.15,200.06,314.9066,206.9133,320.3699,211.6199,322.6133,204.7667,317.15,200.06\" style=\"stroke: #383838; stroke-width: 1.0;\"/></a><!--MD5=[f4a499b923422e5a58a64bba4c72b1ef]\n",
       "@startuml\r\n",
       "top to bottom direction\r\n",
       "skinparam monochrome true\r\n",
       "skinparam classbackgroundcolor white\r\n",
       "skinparam shadowing false\r\n",
       "skinparam wrapWidth 300\r\n",
       "hide circle\r\n",
       "\r\n",
       "package \"ViewTest\" as E1  [[psysml:68a4efc3-4169-49c4-b08f-98091c4bc0be ]]  {\r\n",
       "package \"P\" as E2  [[psysml:d8eb8e98-9fc5-4554-bb79-0a7fb3af234b ]]  {\r\n",
       "}\r\n",
       "comp def \"VP\" as E3  <<(T,blue)viewpoint def>> [[psysml:0e16ef0b-675e-475c-a6ab-030697702310 ]] {\r\n",
       "}\r\n",
       "comp def \"R\" as E4  <<(T,blue)rendering def>> [[psysml:80b9aeea-925b-4b3a-8c84-ce381a5e60ed ]] {\r\n",
       "}\r\n",
       "comp def \"V\" as E5  <<(T,blue)view def>> [[psysml:fa67c82a-cf4c-4211-8405-b886e7fced61 ]] {\r\n",
       "}\r\n",
       "comp usage \"vp: VP\" as E6  <<(T,blue)viewpoint>> [[psysml:edb93869-3e30-4330-ae7d-f0dbadb8ae6e ]] {\r\n",
       "}\r\n",
       "comp usage \"r: R\" as E7  <<(T,blue)rendering>> [[psysml:d3ad1959-ed24-48c6-b8cb-3101ea5444ce ]] {\r\n",
       "}\r\n",
       "comp usage \"v: V\" as E8  <<(T,blue)view>> [[psysml:c79df832-858d-4f87-b041-227cc7f695ce ]] {\r\n",
       "}\r\n",
       "comp usage \"r1\" as E9  <<(T,blue)rendering>> [[psysml:599cc28e-37a4-4871-97e7-8713776fcf23 ]] {\r\n",
       "}\r\n",
       "E5 *- - E6 [[psysml:edb93869-3e30-4330-ae7d-f0dbadb8ae6e ]] \r\n",
       "E6 - -:|> E3 [[psysml:678c28b1-b825-4869-b6db-341a5ef18df5 ]] \r\n",
       "E7 - -:|> E4 [[psysml:e01b0a28-1744-4d35-a29d-a960e4229aec ]] \r\n",
       "E5 *- - \"0..1\"E7 [[psysml:d3ad1959-ed24-48c6-b8cb-3101ea5444ce ]] \r\n",
       "E8 - -:|> E5 [[psysml:3896f3dd-ac25-48cd-93fb-dac3b3d02068 ]] \r\n",
       "E5 *- - \"*\"E8 [[psysml:c79df832-858d-4f87-b041-227cc7f695ce ]] \r\n",
       "E8 *- - E9 [[psysml:599cc28e-37a4-4871-97e7-8713776fcf23 ]] \r\n",
       "}\r\n",
       "@enduml\r\n",
       "\n",
       "PlantUML version 1.2020.13(Sat Jun 13 12:26:38 UTC 2020)\n",
       "(EPL source distribution)\n",
       "Java Runtime: OpenJDK Runtime Environment\n",
       "JVM: OpenJDK 64-Bit Server VM\n",
       "Default Encoding: UTF-8\n",
       "Language: en\n",
       "Country: null\n",
       "--></g></svg>"
      ]
     },
     "execution_count": 45,
     "metadata": {},
     "output_type": "execute_result"
    }
   ],
   "source": [
    "%viz --style=\"TB\" --view=\"Tree\" \"ViewTest\""
   ]
  },
  {
   "cell_type": "code",
   "execution_count": 46,
   "id": "promising-allergy",
   "metadata": {
    "execution": {
     "iopub.execute_input": "2021-03-25T15:10:07.041085Z",
     "iopub.status.busy": "2021-03-25T15:10:07.040567Z",
     "iopub.status.idle": "2021-03-25T15:10:07.048162Z",
     "shell.execute_reply": "2021-03-25T15:10:07.047679Z"
    }
   },
   "outputs": [
    {
     "data": {
      "image/svg+xml": [
       "<?xml version=\"1.0\" encoding=\"UTF-8\" standalone=\"no\"?><svg xmlns=\"http://www.w3.org/2000/svg\" xmlns:xlink=\"http://www.w3.org/1999/xlink\" contentScriptType=\"application/ecmascript\" contentStyleType=\"text/css\" height=\"12px\" preserveAspectRatio=\"none\" style=\"width:12px;height:12px;\" version=\"1.1\" viewBox=\"0 0 12 12\" width=\"12px\" zoomAndPan=\"magnify\"><defs/><g><!--MD5=[f4ee21bc66e489b5061b7c3e9601fdef]\n",
       "@startuml\r\n",
       "top to bottom direction\r\n",
       "skinparam monochrome true\r\n",
       "skinparam classbackgroundcolor white\r\n",
       "skinparam shadowing false\r\n",
       "skinparam wrapWidth 300\r\n",
       "hide circle\r\n",
       "\r\n",
       "@enduml\r\n",
       "\n",
       "PlantUML version 1.2020.13(Sat Jun 13 12:26:38 UTC 2020)\n",
       "(EPL source distribution)\n",
       "Java Runtime: OpenJDK Runtime Environment\n",
       "JVM: OpenJDK 64-Bit Server VM\n",
       "Default Encoding: UTF-8\n",
       "Language: en\n",
       "Country: null\n",
       "--></g></svg>"
      ]
     },
     "execution_count": 46,
     "metadata": {},
     "output_type": "execute_result"
    }
   ],
   "source": [
    "%viz --style=\"TB\" --view=\"State\" \"ViewTest\""
   ]
  },
  {
   "cell_type": "code",
   "execution_count": 47,
   "id": "purple-edward",
   "metadata": {
    "execution": {
     "iopub.execute_input": "2021-03-25T15:10:07.100114Z",
     "iopub.status.busy": "2021-03-25T15:10:07.099391Z",
     "iopub.status.idle": "2021-03-25T15:10:07.229043Z",
     "shell.execute_reply": "2021-03-25T15:10:07.227120Z"
    }
   },
   "outputs": [
    {
     "data": {
      "image/svg+xml": [
       "<?xml version=\"1.0\" encoding=\"UTF-8\" standalone=\"no\"?><svg xmlns=\"http://www.w3.org/2000/svg\" xmlns:xlink=\"http://www.w3.org/1999/xlink\" contentScriptType=\"application/ecmascript\" contentStyleType=\"text/css\" height=\"278px\" preserveAspectRatio=\"none\" style=\"width:778px;height:278px;\" version=\"1.1\" viewBox=\"0 0 778 278\" width=\"778px\" zoomAndPan=\"magnify\"><defs/><g><!--MD5=[fbc87193dbaf4d95561dea2c320d4a47]\n",
       "cluster E1--><a href=\"psysml:68a4efc3-4169-49c4-b08f-98091c4bc0be\" target=\"_top\" title=\"psysml:68a4efc3-4169-49c4-b08f-98091c4bc0be\" xlink:actuate=\"onRequest\" xlink:href=\"psysml:68a4efc3-4169-49c4-b08f-98091c4bc0be\" xlink:show=\"new\" xlink:title=\"psysml:68a4efc3-4169-49c4-b08f-98091c4bc0be\" xlink:type=\"simple\"><polygon fill=\"#FFFFFF\" points=\"16,6,96,6,103,28.2969,756,28.2969,756,266,16,266,16,6\" style=\"stroke: #000000; stroke-width: 1.5;\"/><line style=\"stroke: #000000; stroke-width: 1.5;\" x1=\"16\" x2=\"103\" y1=\"28.2969\" y2=\"28.2969\"/><text fill=\"#000000\" font-family=\"sans-serif\" font-size=\"14\" font-weight=\"bold\" lengthAdjust=\"spacingAndGlyphs\" textLength=\"74\" x=\"20\" y=\"20.9951\">ViewTest</text></a><!--MD5=[de5ec2e2e8f62f467e546659f5068c88]\n",
       "cluster E5--><a href=\"psysml:fa67c82a-cf4c-4211-8405-b886e7fced61\" target=\"_top\" title=\"psysml:fa67c82a-cf4c-4211-8405-b886e7fced61\" xlink:actuate=\"onRequest\" xlink:href=\"psysml:fa67c82a-cf4c-4211-8405-b886e7fced61\" xlink:show=\"new\" xlink:title=\"psysml:fa67c82a-cf4c-4211-8405-b886e7fced61\" xlink:type=\"simple\"><rect fill=\"#FFFFFF\" height=\"193\" id=\"E5\" style=\"stroke: #383838; stroke-width: 1.5;\" width=\"329\" x=\"403\" y=\"49\"/><rect fill=\"#F8F8F8\" height=\"37.9375\" style=\"stroke: #383838; stroke-width: 1.5;\" width=\"329\" x=\"403\" y=\"49\"/><text fill=\"#000000\" font-family=\"sans-serif\" font-size=\"12\" font-style=\"italic\" lengthAdjust=\"spacingAndGlyphs\" textLength=\"64\" x=\"535.5\" y=\"65.1387\">«view def»</text><text fill=\"#000000\" font-family=\"sans-serif\" font-size=\"12\" lengthAdjust=\"spacingAndGlyphs\" textLength=\"8\" x=\"563.5\" y=\"79.1074\">V</text></a><!--MD5=[14e3b0961a2654348d326746436168a1]\n",
       "cluster E6--><a href=\"psysml:edb93869-3e30-4330-ae7d-f0dbadb8ae6e\" target=\"_top\" title=\"psysml:edb93869-3e30-4330-ae7d-f0dbadb8ae6e\" xlink:actuate=\"onRequest\" xlink:href=\"psysml:edb93869-3e30-4330-ae7d-f0dbadb8ae6e\" xlink:show=\"new\" xlink:title=\"psysml:edb93869-3e30-4330-ae7d-f0dbadb8ae6e\" xlink:type=\"simple\"><rect fill=\"#FFFFFF\" height=\"110\" id=\"E6\" rx=\"10\" ry=\"10\" style=\"stroke: #383838; stroke-width: 1.5;\" width=\"114\" x=\"594\" y=\"108\"/><rect fill=\"#F8F8F8\" height=\"37.9375\" rx=\"10\" ry=\"10\" style=\"stroke: #F8F8F8; stroke-width: 1.5;\" width=\"114\" x=\"594\" y=\"108\"/><rect fill=\"#F8F8F8\" height=\"10\" style=\"stroke: #F8F8F8; stroke-width: 1.5;\" width=\"114\" x=\"594\" y=\"135.9375\"/><rect fill=\"none\" height=\"110\" id=\"E6\" rx=\"10\" ry=\"10\" style=\"stroke: #383838; stroke-width: 1.5;\" width=\"114\" x=\"594\" y=\"108\"/><text fill=\"#000000\" font-family=\"sans-serif\" font-size=\"12\" font-style=\"italic\" lengthAdjust=\"spacingAndGlyphs\" textLength=\"72\" x=\"615\" y=\"124.1387\">«viewpoint»</text><text fill=\"#000000\" font-family=\"sans-serif\" font-size=\"12\" lengthAdjust=\"spacingAndGlyphs\" textLength=\"38\" x=\"632\" y=\"138.1074\">vp: VP</text><line style=\"stroke: #383838; stroke-width: 1.0;\" x1=\"594\" x2=\"708\" y1=\"145.9375\" y2=\"145.9375\"/></a><!--MD5=[7f149f147074ac12df2cb0a7728a5fb0]\n",
       "cluster E9--><a href=\"psysml:c79df832-858d-4f87-b041-227cc7f695ce\" target=\"_top\" title=\"psysml:c79df832-858d-4f87-b041-227cc7f695ce\" xlink:actuate=\"onRequest\" xlink:href=\"psysml:c79df832-858d-4f87-b041-227cc7f695ce\" xlink:show=\"new\" xlink:title=\"psysml:c79df832-858d-4f87-b041-227cc7f695ce\" xlink:type=\"simple\"><rect fill=\"#FFFFFF\" height=\"91\" id=\"E9\" rx=\"10\" ry=\"10\" style=\"stroke: #383838; stroke-width: 1.5;\" width=\"82\" x=\"488\" y=\"125.5\"/><rect fill=\"#F8F8F8\" height=\"23.9688\" rx=\"10\" ry=\"10\" style=\"stroke: #F8F8F8; stroke-width: 1.5;\" width=\"82\" x=\"488\" y=\"125.5\"/><rect fill=\"#F8F8F8\" height=\"10\" style=\"stroke: #F8F8F8; stroke-width: 1.5;\" width=\"82\" x=\"488\" y=\"139.4688\"/><rect fill=\"none\" height=\"91\" id=\"E9\" rx=\"10\" ry=\"10\" style=\"stroke: #383838; stroke-width: 1.5;\" width=\"82\" x=\"488\" y=\"125.5\"/><text fill=\"#000000\" font-family=\"sans-serif\" font-size=\"12\" lengthAdjust=\"spacingAndGlyphs\" textLength=\"22\" x=\"518\" y=\"141.6387\">v: V</text><line style=\"stroke: #383838; stroke-width: 1.0;\" x1=\"488\" x2=\"570\" y1=\"149.4688\" y2=\"149.4688\"/></a><!--MD5=[09b614a08d8cba4a07c9adeb5e0fee81]\n",
       "class E3--><a href=\"psysml:0e16ef0b-675e-475c-a6ab-030697702310\" target=\"_top\" title=\"psysml:0e16ef0b-675e-475c-a6ab-030697702310\" xlink:actuate=\"onRequest\" xlink:href=\"psysml:0e16ef0b-675e-475c-a6ab-030697702310\" xlink:show=\"new\" xlink:title=\"psysml:0e16ef0b-675e-475c-a6ab-030697702310\" xlink:type=\"simple\"><rect fill=\"#FFFFFF\" height=\"53.9375\" id=\"E3\" style=\"stroke: #383838; stroke-width: 1.5;\" width=\"146\" x=\"238\" y=\"153.5\"/><text fill=\"#000000\" font-family=\"sans-serif\" font-size=\"12\" font-style=\"italic\" lengthAdjust=\"spacingAndGlyphs\" textLength=\"144\" x=\"239\" y=\"169.6387\">«(T,blue)viewpoint def»</text><text fill=\"#000000\" font-family=\"sans-serif\" font-size=\"12\" lengthAdjust=\"spacingAndGlyphs\" textLength=\"16\" x=\"303\" y=\"183.6074\">VP</text><line style=\"stroke: #383838; stroke-width: 1.5;\" x1=\"239\" x2=\"383\" y1=\"191.4375\" y2=\"191.4375\"/><line style=\"stroke: #383838; stroke-width: 1.5;\" x1=\"239\" x2=\"383\" y1=\"199.4375\" y2=\"199.4375\"/></a><a href=\"psysml:d8eb8e98-9fc5-4554-bb79-0a7fb3af234b\" target=\"_top\" title=\"psysml:d8eb8e98-9fc5-4554-bb79-0a7fb3af234b\" xlink:actuate=\"onRequest\" xlink:href=\"psysml:d8eb8e98-9fc5-4554-bb79-0a7fb3af234b\" xlink:show=\"new\" xlink:title=\"psysml:d8eb8e98-9fc5-4554-bb79-0a7fb3af234b\" xlink:type=\"simple\"><polygon fill=\"#FFFFFF\" points=\"173,154,189,154,196,176.2969,203,176.2969,203,206.5938,173,206.5938,173,154\" style=\"stroke: #000000; stroke-width: 1.5;\"/><line style=\"stroke: #000000; stroke-width: 1.5;\" x1=\"173\" x2=\"196\" y1=\"176.2969\" y2=\"176.2969\"/><text fill=\"#000000\" font-family=\"sans-serif\" font-size=\"14\" font-weight=\"bold\" lengthAdjust=\"spacingAndGlyphs\" textLength=\"10\" x=\"177\" y=\"168.9951\">P</text></a><g id=\"E1.E4\"><a href=\"psysml:80b9aeea-925b-4b3a-8c84-ce381a5e60ed\" target=\"_top\" title=\"psysml:80b9aeea-925b-4b3a-8c84-ce381a5e60ed\" xlink:actuate=\"onRequest\" xlink:href=\"psysml:80b9aeea-925b-4b3a-8c84-ce381a5e60ed\" xlink:show=\"new\" xlink:title=\"psysml:80b9aeea-925b-4b3a-8c84-ce381a5e60ed\" xlink:type=\"simple\"><rect fill=\"#FFFFFF\" height=\"42.9375\" id=\"E4\" style=\"stroke: #383838; stroke-width: 1.5;\" width=\"106\" x=\"32\" y=\"159\"/><rect fill=\"#F8F8F8\" height=\"37.9375\" style=\"stroke: #383838; stroke-width: 1.5;\" width=\"106\" x=\"32\" y=\"159\"/><text fill=\"#000000\" font-family=\"sans-serif\" font-size=\"12\" font-style=\"italic\" lengthAdjust=\"spacingAndGlyphs\" textLength=\"99\" x=\"35.5\" y=\"175.1387\">«rendering def»</text><text fill=\"#000000\" font-family=\"sans-serif\" font-size=\"12\" lengthAdjust=\"spacingAndGlyphs\" textLength=\"8\" x=\"81\" y=\"189.1074\">R</text></a></g><g id=\"E1.E5.E6.E7\"><a href=\"psysml:df90ec85-1f95-42f9-8740-37e2136842a3\" target=\"_top\" title=\"psysml:df90ec85-1f95-42f9-8740-37e2136842a3\" xlink:actuate=\"onRequest\" xlink:href=\"psysml:df90ec85-1f95-42f9-8740-37e2136842a3\" xlink:show=\"new\" xlink:title=\"psysml:df90ec85-1f95-42f9-8740-37e2136842a3\" xlink:type=\"simple\"><rect fill=\"#FFFFFF\" height=\"42.9375\" id=\"E7\" rx=\"10\" ry=\"10\" style=\"stroke: #383838; stroke-width: 1.5;\" width=\"82\" x=\"610\" y=\"159\"/><rect fill=\"#F8F8F8\" height=\"37.9375\" rx=\"10\" ry=\"10\" style=\"stroke: #F8F8F8; stroke-width: 1.5;\" width=\"82\" x=\"610\" y=\"159\"/><rect fill=\"#F8F8F8\" height=\"10\" style=\"stroke: #F8F8F8; stroke-width: 1.5;\" width=\"82\" x=\"610\" y=\"186.9375\"/><rect fill=\"none\" height=\"42.9375\" id=\"E7\" rx=\"10\" ry=\"10\" style=\"stroke: #383838; stroke-width: 1.5;\" width=\"82\" x=\"610\" y=\"159\"/><text fill=\"#000000\" font-family=\"sans-serif\" font-size=\"12\" font-style=\"italic\" lengthAdjust=\"spacingAndGlyphs\" textLength=\"75\" x=\"613.5\" y=\"175.1387\">«reference»</text><text fill=\"#000000\" font-family=\"sans-serif\" font-size=\"12\" lengthAdjust=\"spacingAndGlyphs\" textLength=\"26\" x=\"638\" y=\"189.1074\">subj</text></a></g><g id=\"E1.E5.E8\"><a href=\"psysml:d3ad1959-ed24-48c6-b8cb-3101ea5444ce\" target=\"_top\" title=\"psysml:d3ad1959-ed24-48c6-b8cb-3101ea5444ce\" xlink:actuate=\"onRequest\" xlink:href=\"psysml:d3ad1959-ed24-48c6-b8cb-3101ea5444ce\" xlink:show=\"new\" xlink:title=\"psysml:d3ad1959-ed24-48c6-b8cb-3101ea5444ce\" xlink:type=\"simple\"><rect fill=\"#FFFFFF\" height=\"40\" id=\"E8\" rx=\"10\" ry=\"10\" style=\"stroke: #383838; stroke-width: 1.5;\" width=\"50\" x=\"419\" y=\"160.5\"/><rect fill=\"#F8F8F8\" height=\"23.9688\" rx=\"10\" ry=\"10\" style=\"stroke: #F8F8F8; stroke-width: 1.5;\" width=\"50\" x=\"419\" y=\"160.5\"/><rect fill=\"#F8F8F8\" height=\"10\" style=\"stroke: #F8F8F8; stroke-width: 1.5;\" width=\"50\" x=\"419\" y=\"174.4688\"/><rect fill=\"none\" height=\"40\" id=\"E8\" rx=\"10\" ry=\"10\" style=\"stroke: #383838; stroke-width: 1.5;\" width=\"50\" x=\"419\" y=\"160.5\"/><text fill=\"#000000\" font-family=\"sans-serif\" font-size=\"12\" lengthAdjust=\"spacingAndGlyphs\" textLength=\"21\" x=\"433.5\" y=\"176.6387\">r: R</text></a></g><g id=\"E1.E5.E9.E10\"><a href=\"psysml:599cc28e-37a4-4871-97e7-8713776fcf23\" target=\"_top\" title=\"psysml:599cc28e-37a4-4871-97e7-8713776fcf23\" xlink:actuate=\"onRequest\" xlink:href=\"psysml:599cc28e-37a4-4871-97e7-8713776fcf23\" xlink:show=\"new\" xlink:title=\"psysml:599cc28e-37a4-4871-97e7-8713776fcf23\" xlink:type=\"simple\"><rect fill=\"#FFFFFF\" height=\"40\" id=\"E10\" rx=\"10\" ry=\"10\" style=\"stroke: #383838; stroke-width: 1.5;\" width=\"50\" x=\"504\" y=\"160.5\"/><rect fill=\"#F8F8F8\" height=\"23.9688\" rx=\"10\" ry=\"10\" style=\"stroke: #F8F8F8; stroke-width: 1.5;\" width=\"50\" x=\"504\" y=\"160.5\"/><rect fill=\"#F8F8F8\" height=\"10\" style=\"stroke: #F8F8F8; stroke-width: 1.5;\" width=\"50\" x=\"504\" y=\"174.4688\"/><rect fill=\"none\" height=\"40\" id=\"E10\" rx=\"10\" ry=\"10\" style=\"stroke: #383838; stroke-width: 1.5;\" width=\"50\" x=\"504\" y=\"160.5\"/><text fill=\"#000000\" font-family=\"sans-serif\" font-size=\"12\" lengthAdjust=\"spacingAndGlyphs\" textLength=\"13\" x=\"522.5\" y=\"176.6387\">r1</text></a></g><!--MD5=[ebfdebe956ad265f30b74b4ed620e971]\n",
       "@startuml\r\n",
       "skinparam ranksep 8\r\n",
       "skinparam rectangle {\r\n",
       " backgroundColor<<block>> LightGreen\r\n",
       "}\r\n",
       "top to bottom direction\r\n",
       "skinparam monochrome true\r\n",
       "skinparam classbackgroundcolor white\r\n",
       "skinparam shadowing false\r\n",
       "skinparam wrapWidth 300\r\n",
       "hide circle\r\n",
       "\r\n",
       "package \"ViewTest\" as E1  [[psysml:68a4efc3-4169-49c4-b08f-98091c4bc0be ]]  {\r\n",
       "package \"P\" as E2  [[psysml:d8eb8e98-9fc5-4554-bb79-0a7fb3af234b ]]  {\r\n",
       "}\r\n",
       "def \"VP\" as E3  <<(T,blue)viewpoint def>> [[psysml:0e16ef0b-675e-475c-a6ab-030697702310 ]] \r\n",
       "rec def \"R\" as E4  <<(T,blue)rendering def>> [[psysml:80b9aeea-925b-4b3a-8c84-ce381a5e60ed ]] {\r\n",
       "}\r\n",
       "rec def \"V\" as E5  <<(T,blue)view def>> [[psysml:fa67c82a-cf4c-4211-8405-b886e7fced61 ]] {\r\n",
       "rec usage \"vp: VP\" as E6  <<(T,blue)viewpoint>> [[psysml:edb93869-3e30-4330-ae7d-f0dbadb8ae6e ]] {\r\n",
       "rec usage \"subj\" as E7  <<(T,blue)reference>> [[psysml:df90ec85-1f95-42f9-8740-37e2136842a3 ]] {\r\n",
       "}\r\n",
       "}\r\n",
       "rec usage \"r: R\" as E8  [[psysml:d3ad1959-ed24-48c6-b8cb-3101ea5444ce ]] {\r\n",
       "}\r\n",
       "rec usage \"v: V\" as E9  [[psysml:c79df832-858d-4f87-b041-227cc7f695ce ]] {\r\n",
       "rec usage \"r1\" as E10  [[psysml:599cc28e-37a4-4871-97e7-8713776fcf23 ]] {\r\n",
       "}\r\n",
       "}\r\n",
       "}\r\n",
       "}\r\n",
       "@enduml\r\n",
       "\n",
       "PlantUML version 1.2020.13(Sat Jun 13 12:26:38 UTC 2020)\n",
       "(EPL source distribution)\n",
       "Java Runtime: OpenJDK Runtime Environment\n",
       "JVM: OpenJDK 64-Bit Server VM\n",
       "Default Encoding: UTF-8\n",
       "Language: en\n",
       "Country: null\n",
       "--></g></svg>"
      ]
     },
     "execution_count": 47,
     "metadata": {},
     "output_type": "execute_result"
    }
   ],
   "source": [
    "%viz --style=\"TB\" --view=\"Interconnection\" \"ViewTest\""
   ]
  },
  {
   "cell_type": "code",
   "execution_count": 48,
   "id": "incident-girlfriend",
   "metadata": {
    "execution": {
     "iopub.execute_input": "2021-03-25T15:10:07.278847Z",
     "iopub.status.busy": "2021-03-25T15:10:07.278471Z",
     "iopub.status.idle": "2021-03-25T15:10:07.285040Z",
     "shell.execute_reply": "2021-03-25T15:10:07.285441Z"
    }
   },
   "outputs": [
    {
     "data": {
      "image/svg+xml": [
       "<?xml version=\"1.0\" encoding=\"UTF-8\" standalone=\"no\"?><svg xmlns=\"http://www.w3.org/2000/svg\" xmlns:xlink=\"http://www.w3.org/1999/xlink\" contentScriptType=\"application/ecmascript\" contentStyleType=\"text/css\" height=\"12px\" preserveAspectRatio=\"none\" style=\"width:12px;height:12px;\" version=\"1.1\" viewBox=\"0 0 12 12\" width=\"12px\" zoomAndPan=\"magnify\"><defs/><g><!--MD5=[06afc254b03ac5e9d9fb7773b07d0800]\n",
       "@startuml\r\n",
       "skinparam ranksep 8\r\n",
       "top to bottom direction\r\n",
       "skinparam monochrome true\r\n",
       "skinparam classbackgroundcolor white\r\n",
       "skinparam shadowing false\r\n",
       "skinparam wrapWidth 300\r\n",
       "hide circle\r\n",
       "\r\n",
       "@enduml\r\n",
       "\n",
       "PlantUML version 1.2020.13(Sat Jun 13 12:26:38 UTC 2020)\n",
       "(EPL source distribution)\n",
       "Java Runtime: OpenJDK Runtime Environment\n",
       "JVM: OpenJDK 64-Bit Server VM\n",
       "Default Encoding: UTF-8\n",
       "Language: en\n",
       "Country: null\n",
       "--></g></svg>"
      ]
     },
     "execution_count": 48,
     "metadata": {},
     "output_type": "execute_result"
    }
   ],
   "source": [
    "%viz --style=\"TB\" --view=\"Action\" \"ViewTest\""
   ]
  },
  {
   "cell_type": "code",
   "execution_count": 49,
   "id": "wrong-grocery",
   "metadata": {
    "execution": {
     "iopub.execute_input": "2021-03-25T15:10:07.335430Z",
     "iopub.status.busy": "2021-03-25T15:10:07.334998Z",
     "iopub.status.idle": "2021-03-25T15:10:07.428619Z",
     "shell.execute_reply": "2021-03-25T15:10:07.429080Z"
    }
   },
   "outputs": [
    {
     "data": {
      "image/svg+xml": [
       "<?xml version=\"1.0\" encoding=\"UTF-8\" standalone=\"no\"?><svg xmlns=\"http://www.w3.org/2000/svg\" xmlns:xlink=\"http://www.w3.org/1999/xlink\" contentScriptType=\"application/ecmascript\" contentStyleType=\"text/css\" height=\"334px\" preserveAspectRatio=\"none\" style=\"width:417px;height:334px;\" version=\"1.1\" viewBox=\"0 0 417 334\" width=\"417px\" zoomAndPan=\"magnify\"><defs/><g><!--MD5=[fbc87193dbaf4d95561dea2c320d4a47]\n",
       "cluster E1--><a href=\"psysml:68a4efc3-4169-49c4-b08f-98091c4bc0be\" target=\"_top\" title=\"psysml:68a4efc3-4169-49c4-b08f-98091c4bc0be\" xlink:actuate=\"onRequest\" xlink:href=\"psysml:68a4efc3-4169-49c4-b08f-98091c4bc0be\" xlink:show=\"new\" xlink:title=\"psysml:68a4efc3-4169-49c4-b08f-98091c4bc0be\" xlink:type=\"simple\"><polygon fill=\"#FFFFFF\" points=\"16,6,96,6,103,28.2969,395,28.2969,395,322,16,322,16,6\" style=\"stroke: #000000; stroke-width: 1.5;\"/><line style=\"stroke: #000000; stroke-width: 1.5;\" x1=\"16\" x2=\"103\" y1=\"28.2969\" y2=\"28.2969\"/><text fill=\"#000000\" font-family=\"sans-serif\" font-size=\"14\" font-weight=\"bold\" lengthAdjust=\"spacingAndGlyphs\" textLength=\"74\" x=\"20\" y=\"20.9951\">ViewTest</text></a><!--MD5=[09b614a08d8cba4a07c9adeb5e0fee81]\n",
       "class E3--><a href=\"psysml:0e16ef0b-675e-475c-a6ab-030697702310\" target=\"_top\" title=\"psysml:0e16ef0b-675e-475c-a6ab-030697702310\" xlink:actuate=\"onRequest\" xlink:href=\"psysml:0e16ef0b-675e-475c-a6ab-030697702310\" xlink:show=\"new\" xlink:title=\"psysml:0e16ef0b-675e-475c-a6ab-030697702310\" xlink:type=\"simple\"><rect fill=\"#FFFFFF\" height=\"45.9375\" id=\"E3\" style=\"stroke: #383838; stroke-width: 1.5;\" width=\"98\" x=\"32\" y=\"260\"/><text fill=\"#000000\" font-family=\"sans-serif\" font-size=\"12\" font-style=\"italic\" lengthAdjust=\"spacingAndGlyphs\" textLength=\"96\" x=\"33\" y=\"276.1387\">«viewpoint def»</text><text fill=\"#000000\" font-family=\"sans-serif\" font-size=\"12\" lengthAdjust=\"spacingAndGlyphs\" textLength=\"16\" x=\"73\" y=\"290.1074\">VP</text><line style=\"stroke: #383838; stroke-width: 1.5;\" x1=\"33\" x2=\"129\" y1=\"297.9375\" y2=\"297.9375\"/></a><!--MD5=[ebbe1d658d1005bcc118a6aa81145e00]\n",
       "class E4--><a href=\"psysml:80b9aeea-925b-4b3a-8c84-ce381a5e60ed\" target=\"_top\" title=\"psysml:80b9aeea-925b-4b3a-8c84-ce381a5e60ed\" xlink:actuate=\"onRequest\" xlink:href=\"psysml:80b9aeea-925b-4b3a-8c84-ce381a5e60ed\" xlink:show=\"new\" xlink:title=\"psysml:80b9aeea-925b-4b3a-8c84-ce381a5e60ed\" xlink:type=\"simple\"><rect fill=\"#FFFFFF\" height=\"45.9375\" id=\"E4\" style=\"stroke: #383838; stroke-width: 1.5;\" width=\"101\" x=\"165.5\" y=\"260\"/><text fill=\"#000000\" font-family=\"sans-serif\" font-size=\"12\" font-style=\"italic\" lengthAdjust=\"spacingAndGlyphs\" textLength=\"99\" x=\"166.5\" y=\"276.1387\">«rendering def»</text><text fill=\"#000000\" font-family=\"sans-serif\" font-size=\"12\" lengthAdjust=\"spacingAndGlyphs\" textLength=\"8\" x=\"212\" y=\"290.1074\">R</text><line style=\"stroke: #383838; stroke-width: 1.5;\" x1=\"166.5\" x2=\"265.5\" y1=\"297.9375\" y2=\"297.9375\"/></a><!--MD5=[270fce915f116d4de14055a7c1d9a0f3]\n",
       "class E5--><a href=\"psysml:fa67c82a-cf4c-4211-8405-b886e7fced61\" target=\"_top\" title=\"psysml:fa67c82a-cf4c-4211-8405-b886e7fced61\" xlink:actuate=\"onRequest\" xlink:href=\"psysml:fa67c82a-cf4c-4211-8405-b886e7fced61\" xlink:show=\"new\" xlink:title=\"psysml:fa67c82a-cf4c-4211-8405-b886e7fced61\" xlink:type=\"simple\"><rect fill=\"#FFFFFF\" height=\"45.9375\" id=\"E5\" style=\"stroke: #383838; stroke-width: 1.5;\" width=\"66\" x=\"230\" y=\"44.5\"/><text fill=\"#000000\" font-family=\"sans-serif\" font-size=\"12\" font-style=\"italic\" lengthAdjust=\"spacingAndGlyphs\" textLength=\"64\" x=\"231\" y=\"60.6387\">«view def»</text><text fill=\"#000000\" font-family=\"sans-serif\" font-size=\"12\" lengthAdjust=\"spacingAndGlyphs\" textLength=\"8\" x=\"259\" y=\"74.6074\">V</text><line style=\"stroke: #383838; stroke-width: 1.5;\" x1=\"231\" x2=\"295\" y1=\"82.4375\" y2=\"82.4375\"/></a><!--MD5=[60a26617385b1d2d0262a64233df1f8d]\n",
       "class E6--><a href=\"psysml:edb93869-3e30-4330-ae7d-f0dbadb8ae6e\" target=\"_top\" title=\"psysml:edb93869-3e30-4330-ae7d-f0dbadb8ae6e\" xlink:actuate=\"onRequest\" xlink:href=\"psysml:edb93869-3e30-4330-ae7d-f0dbadb8ae6e\" xlink:show=\"new\" xlink:title=\"psysml:edb93869-3e30-4330-ae7d-f0dbadb8ae6e\" xlink:type=\"simple\"><rect fill=\"#FFFFFF\" height=\"45.9375\" id=\"E6\" rx=\"10\" ry=\"10\" style=\"stroke: #383838; stroke-width: 1.5;\" width=\"74\" x=\"56\" y=\"154\"/><text fill=\"#000000\" font-family=\"sans-serif\" font-size=\"12\" font-style=\"italic\" lengthAdjust=\"spacingAndGlyphs\" textLength=\"72\" x=\"57\" y=\"170.1387\">«viewpoint»</text><text fill=\"#000000\" font-family=\"sans-serif\" font-size=\"12\" lengthAdjust=\"spacingAndGlyphs\" textLength=\"38\" x=\"74\" y=\"184.1074\">vp: VP</text><line style=\"stroke: #383838; stroke-width: 1.5;\" x1=\"57\" x2=\"129\" y1=\"191.9375\" y2=\"191.9375\"/></a><!--MD5=[2156ba9850f5573cc1fc38a6a4b2f02b]\n",
       "class E7--><a href=\"psysml:d3ad1959-ed24-48c6-b8cb-3101ea5444ce\" target=\"_top\" title=\"psysml:d3ad1959-ed24-48c6-b8cb-3101ea5444ce\" xlink:actuate=\"onRequest\" xlink:href=\"psysml:d3ad1959-ed24-48c6-b8cb-3101ea5444ce\" xlink:show=\"new\" xlink:title=\"psysml:d3ad1959-ed24-48c6-b8cb-3101ea5444ce\" xlink:type=\"simple\"><rect fill=\"#FFFFFF\" height=\"45.9375\" id=\"E7\" rx=\"10\" ry=\"10\" style=\"stroke: #383838; stroke-width: 1.5;\" width=\"77\" x=\"177.5\" y=\"154\"/><text fill=\"#000000\" font-family=\"sans-serif\" font-size=\"12\" font-style=\"italic\" lengthAdjust=\"spacingAndGlyphs\" textLength=\"75\" x=\"178.5\" y=\"170.1387\">«rendering»</text><text fill=\"#000000\" font-family=\"sans-serif\" font-size=\"12\" lengthAdjust=\"spacingAndGlyphs\" textLength=\"21\" x=\"205.5\" y=\"184.1074\">r: R</text><line style=\"stroke: #383838; stroke-width: 1.5;\" x1=\"178.5\" x2=\"253.5\" y1=\"191.9375\" y2=\"191.9375\"/></a><!--MD5=[b9389687b975829384b498ac4b7476b2]\n",
       "class E8--><a href=\"psysml:c79df832-858d-4f87-b041-227cc7f695ce\" target=\"_top\" title=\"psysml:c79df832-858d-4f87-b041-227cc7f695ce\" xlink:actuate=\"onRequest\" xlink:href=\"psysml:c79df832-858d-4f87-b041-227cc7f695ce\" xlink:show=\"new\" xlink:title=\"psysml:c79df832-858d-4f87-b041-227cc7f695ce\" xlink:type=\"simple\"><rect fill=\"#FFFFFF\" height=\"45.9375\" id=\"E8\" rx=\"10\" ry=\"10\" style=\"stroke: #383838; stroke-width: 1.5;\" width=\"42\" x=\"290\" y=\"154\"/><text fill=\"#000000\" font-family=\"sans-serif\" font-size=\"12\" font-style=\"italic\" lengthAdjust=\"spacingAndGlyphs\" textLength=\"40\" x=\"291\" y=\"170.1387\">«view»</text><text fill=\"#000000\" font-family=\"sans-serif\" font-size=\"12\" lengthAdjust=\"spacingAndGlyphs\" textLength=\"22\" x=\"300\" y=\"184.1074\">v: V</text><line style=\"stroke: #383838; stroke-width: 1.5;\" x1=\"291\" x2=\"331\" y1=\"191.9375\" y2=\"191.9375\"/></a><!--MD5=[fd4143e9d270a159db93a4ea2a975926]\n",
       "class E9--><a href=\"psysml:599cc28e-37a4-4871-97e7-8713776fcf23\" target=\"_top\" title=\"psysml:599cc28e-37a4-4871-97e7-8713776fcf23\" xlink:actuate=\"onRequest\" xlink:href=\"psysml:599cc28e-37a4-4871-97e7-8713776fcf23\" xlink:show=\"new\" xlink:title=\"psysml:599cc28e-37a4-4871-97e7-8713776fcf23\" xlink:type=\"simple\"><rect fill=\"#FFFFFF\" height=\"45.9375\" id=\"E9\" rx=\"10\" ry=\"10\" style=\"stroke: #383838; stroke-width: 1.5;\" width=\"77\" x=\"301.5\" y=\"260\"/><text fill=\"#000000\" font-family=\"sans-serif\" font-size=\"12\" font-style=\"italic\" lengthAdjust=\"spacingAndGlyphs\" textLength=\"75\" x=\"302.5\" y=\"276.1387\">«rendering»</text><text fill=\"#000000\" font-family=\"sans-serif\" font-size=\"12\" lengthAdjust=\"spacingAndGlyphs\" textLength=\"13\" x=\"333.5\" y=\"290.1074\">r1</text><line style=\"stroke: #383838; stroke-width: 1.5;\" x1=\"302.5\" x2=\"377.5\" y1=\"297.9375\" y2=\"297.9375\"/></a><a href=\"psysml:d8eb8e98-9fc5-4554-bb79-0a7fb3af234b\" target=\"_top\" title=\"psysml:d8eb8e98-9fc5-4554-bb79-0a7fb3af234b\" xlink:actuate=\"onRequest\" xlink:href=\"psysml:d8eb8e98-9fc5-4554-bb79-0a7fb3af234b\" xlink:show=\"new\" xlink:title=\"psysml:d8eb8e98-9fc5-4554-bb79-0a7fb3af234b\" xlink:type=\"simple\"><polygon fill=\"#FFFFFF\" points=\"122,41,138,41,145,63.2969,152,63.2969,152,93.5938,122,93.5938,122,41\" style=\"stroke: #000000; stroke-width: 1.5;\"/><line style=\"stroke: #000000; stroke-width: 1.5;\" x1=\"122\" x2=\"145\" y1=\"63.2969\" y2=\"63.2969\"/><text fill=\"#000000\" font-family=\"sans-serif\" font-size=\"14\" font-weight=\"bold\" lengthAdjust=\"spacingAndGlyphs\" textLength=\"10\" x=\"126\" y=\"55.9951\">P</text></a><!--MD5=[85d356282659285ab4b2cfe2f634dd2b]\n",
       "reverse link E5 to E6--><a href=\"psysml:edb93869-3e30-4330-ae7d-f0dbadb8ae6e\" target=\"_top\" title=\"psysml:edb93869-3e30-4330-ae7d-f0dbadb8ae6e\" xlink:actuate=\"onRequest\" xlink:href=\"psysml:edb93869-3e30-4330-ae7d-f0dbadb8ae6e\" xlink:show=\"new\" xlink:title=\"psysml:edb93869-3e30-4330-ae7d-f0dbadb8ae6e\" xlink:type=\"simple\"><path d=\"M218.61,96.57 C190.28,114.48 154.1,137.36 127.85,153.96 \" fill=\"none\" id=\"E5&lt;-E6\" style=\"stroke: #383838; stroke-width: 1.0;\"/><polygon fill=\"#383838\" points=\"229.82,89.48,222.6111,89.2999,219.6723,95.8849,226.8811,96.0651,229.82,89.48\" style=\"stroke: #383838; stroke-width: 1.0;\"/></a><!--MD5=[a717450b82c80b9240a525fa862496af]\n",
       "link E6 to E3--><a href=\"psysml:678c28b1-b825-4869-b6db-341a5ef18df5\" target=\"_top\" title=\"psysml:678c28b1-b825-4869-b6db-341a5ef18df5\" xlink:actuate=\"onRequest\" xlink:href=\"psysml:678c28b1-b825-4869-b6db-341a5ef18df5\" xlink:show=\"new\" xlink:title=\"psysml:678c28b1-b825-4869-b6db-341a5ef18df5\" xlink:type=\"simple\"><path d=\"M90.46,200.06 C89.12,211.64 87.44,226.23 85.86,239.87 \" fill=\"none\" id=\"E6-&gt;E3\" style=\"stroke: #383838; stroke-width: 1.0;\"/><polygon fill=\"#FFFFFF\" points=\"83.54,259.98,78.757,240.3046,92.6653,241.9044,83.54,259.98\" style=\"stroke: #383838; stroke-width: 1.0;\"/><ellipse cx=\"81.3953\" cy=\"234.8704\" fill=\"#383838\" rx=\"2\" ry=\"2\" style=\"stroke: #383838; stroke-width: 1.0;\"/><ellipse cx=\"91.3298\" cy=\"236.0132\" fill=\"#383838\" rx=\"2\" ry=\"2\" style=\"stroke: #383838; stroke-width: 1.0;\"/></a><!--MD5=[6bdd27f9905911a7e892a3dc65cf6b7c]\n",
       "link E7 to E4--><a href=\"psysml:e01b0a28-1744-4d35-a29d-a960e4229aec\" target=\"_top\" title=\"psysml:e01b0a28-1744-4d35-a29d-a960e4229aec\" xlink:actuate=\"onRequest\" xlink:href=\"psysml:e01b0a28-1744-4d35-a29d-a960e4229aec\" xlink:show=\"new\" xlink:title=\"psysml:e01b0a28-1744-4d35-a29d-a960e4229aec\" xlink:type=\"simple\"><path d=\"M216,200.06 C216,211.64 216,226.23 216,239.87 \" fill=\"none\" id=\"E7-&gt;E4\" style=\"stroke: #383838; stroke-width: 1.0;\"/><polygon fill=\"#FFFFFF\" points=\"216,259.98,209,240.98,223,240.98,216,259.98\" style=\"stroke: #383838; stroke-width: 1.0;\"/><ellipse cx=\"211\" cy=\"235.28\" fill=\"#383838\" rx=\"2\" ry=\"2\" style=\"stroke: #383838; stroke-width: 1.0;\"/><ellipse cx=\"221\" cy=\"235.28\" fill=\"#383838\" rx=\"2\" ry=\"2\" style=\"stroke: #383838; stroke-width: 1.0;\"/></a><!--MD5=[452b418e7f8a40397a49b8c0a78acc5b]\n",
       "reverse link E5 to E7--><a href=\"psysml:d3ad1959-ed24-48c6-b8cb-3101ea5444ce\" target=\"_top\" title=\"psysml:d3ad1959-ed24-48c6-b8cb-3101ea5444ce\" xlink:actuate=\"onRequest\" xlink:href=\"psysml:d3ad1959-ed24-48c6-b8cb-3101ea5444ce\" xlink:show=\"new\" xlink:title=\"psysml:d3ad1959-ed24-48c6-b8cb-3101ea5444ce\" xlink:type=\"simple\"><path d=\"M248.1,102.57 C240.81,119.26 232.23,138.89 225.77,153.65 \" fill=\"none\" id=\"E5&lt;-E7\" style=\"stroke: #383838; stroke-width: 1.0;\"/><polygon fill=\"#383838\" points=\"253.38,90.51,247.31,94.4029,248.5688,101.5033,254.6388,97.6104,253.38,90.51\" style=\"stroke: #383838; stroke-width: 1.0;\"/><text fill=\"#000000\" font-family=\"sans-serif\" font-size=\"13\" lengthAdjust=\"spacingAndGlyphs\" textLength=\"24\" x=\"201.1986\" y=\"142.8366\">0..1</text></a><!--MD5=[1ccb2481ffa92f8d51a74ee30c51832a]\n",
       "link E8 to E5--><a href=\"psysml:3896f3dd-ac25-48cd-93fb-dac3b3d02068\" target=\"_top\" title=\"psysml:3896f3dd-ac25-48cd-93fb-dac3b3d02068\" xlink:actuate=\"onRequest\" xlink:href=\"psysml:3896f3dd-ac25-48cd-93fb-dac3b3d02068\" xlink:show=\"new\" xlink:title=\"psysml:3896f3dd-ac25-48cd-93fb-dac3b3d02068\" xlink:type=\"simple\"><path d=\"M312.22,153.65 C308.53,140.48 301.55,123.44 293.74,108.07 \" fill=\"none\" id=\"E8-&gt;E5\" style=\"stroke: #383838; stroke-width: 1.0;\"/><polygon fill=\"#FFFFFF\" points=\"283.97,90.51,299.3209,103.7142,287.0851,110.5174,283.97,90.51\" style=\"stroke: #383838; stroke-width: 1.0;\"/><ellipse cx=\"300.3428\" cy=\"109.6678\" fill=\"#383838\" rx=\"2\" ry=\"2\" style=\"stroke: #383838; stroke-width: 1.0;\"/><ellipse cx=\"291.6029\" cy=\"114.5273\" fill=\"#383838\" rx=\"2\" ry=\"2\" style=\"stroke: #383838; stroke-width: 1.0;\"/></a><!--MD5=[827760032d119d06bbc92f75530fd7ae]\n",
       "reverse link E5 to E8--><a href=\"psysml:c79df832-858d-4f87-b041-227cc7f695ce\" target=\"_top\" title=\"psysml:c79df832-858d-4f87-b041-227cc7f695ce\" xlink:actuate=\"onRequest\" xlink:href=\"psysml:c79df832-858d-4f87-b041-227cc7f695ce\" xlink:show=\"new\" xlink:title=\"psysml:c79df832-858d-4f87-b041-227cc7f695ce\" xlink:type=\"simple\"><path d=\"M266.44,103.07 C272.49,119.65 281.62,139.03 290.44,153.65 \" fill=\"none\" id=\"E5&lt;-E8\" style=\"stroke: #383838; stroke-width: 1.0;\"/><polygon fill=\"#383838\" points=\"262.31,90.51,260.3836,97.459,266.0572,101.9099,267.9836,94.9609,262.31,90.51\" style=\"stroke: #383838; stroke-width: 1.0;\"/><text fill=\"#000000\" font-family=\"sans-serif\" font-size=\"13\" lengthAdjust=\"spacingAndGlyphs\" textLength=\"7\" x=\"277.2746\" y=\"142.8366\">*</text></a><!--MD5=[22f5b4bae7e060dce8a1c8021efdb95b]\n",
       "reverse link E8 to E9--><a href=\"psysml:599cc28e-37a4-4871-97e7-8713776fcf23\" target=\"_top\" title=\"psysml:599cc28e-37a4-4871-97e7-8713776fcf23\" xlink:actuate=\"onRequest\" xlink:href=\"psysml:599cc28e-37a4-4871-97e7-8713776fcf23\" xlink:show=\"new\" xlink:title=\"psysml:599cc28e-37a4-4871-97e7-8713776fcf23\" xlink:type=\"simple\"><path d=\"M320.75,212.96 C325.08,228.51 330.05,246.33 333.86,259.98 \" fill=\"none\" id=\"E8&lt;-E9\" style=\"stroke: #383838; stroke-width: 1.0;\"/><polygon fill=\"#383838\" points=\"317.15,200.06,314.9066,206.9133,320.3699,211.6199,322.6133,204.7667,317.15,200.06\" style=\"stroke: #383838; stroke-width: 1.0;\"/></a><!--MD5=[f4a499b923422e5a58a64bba4c72b1ef]\n",
       "@startuml\r\n",
       "top to bottom direction\r\n",
       "skinparam monochrome true\r\n",
       "skinparam classbackgroundcolor white\r\n",
       "skinparam shadowing false\r\n",
       "skinparam wrapWidth 300\r\n",
       "hide circle\r\n",
       "\r\n",
       "package \"ViewTest\" as E1  [[psysml:68a4efc3-4169-49c4-b08f-98091c4bc0be ]]  {\r\n",
       "package \"P\" as E2  [[psysml:d8eb8e98-9fc5-4554-bb79-0a7fb3af234b ]]  {\r\n",
       "}\r\n",
       "comp def \"VP\" as E3  <<(T,blue)viewpoint def>> [[psysml:0e16ef0b-675e-475c-a6ab-030697702310 ]] {\r\n",
       "}\r\n",
       "comp def \"R\" as E4  <<(T,blue)rendering def>> [[psysml:80b9aeea-925b-4b3a-8c84-ce381a5e60ed ]] {\r\n",
       "}\r\n",
       "comp def \"V\" as E5  <<(T,blue)view def>> [[psysml:fa67c82a-cf4c-4211-8405-b886e7fced61 ]] {\r\n",
       "}\r\n",
       "comp usage \"vp: VP\" as E6  <<(T,blue)viewpoint>> [[psysml:edb93869-3e30-4330-ae7d-f0dbadb8ae6e ]] {\r\n",
       "}\r\n",
       "comp usage \"r: R\" as E7  <<(T,blue)rendering>> [[psysml:d3ad1959-ed24-48c6-b8cb-3101ea5444ce ]] {\r\n",
       "}\r\n",
       "comp usage \"v: V\" as E8  <<(T,blue)view>> [[psysml:c79df832-858d-4f87-b041-227cc7f695ce ]] {\r\n",
       "}\r\n",
       "comp usage \"r1\" as E9  <<(T,blue)rendering>> [[psysml:599cc28e-37a4-4871-97e7-8713776fcf23 ]] {\r\n",
       "}\r\n",
       "E5 *- - E6 [[psysml:edb93869-3e30-4330-ae7d-f0dbadb8ae6e ]] \r\n",
       "E6 - -:|> E3 [[psysml:678c28b1-b825-4869-b6db-341a5ef18df5 ]] \r\n",
       "E7 - -:|> E4 [[psysml:e01b0a28-1744-4d35-a29d-a960e4229aec ]] \r\n",
       "E5 *- - \"0..1\"E7 [[psysml:d3ad1959-ed24-48c6-b8cb-3101ea5444ce ]] \r\n",
       "E8 - -:|> E5 [[psysml:3896f3dd-ac25-48cd-93fb-dac3b3d02068 ]] \r\n",
       "E5 *- - \"*\"E8 [[psysml:c79df832-858d-4f87-b041-227cc7f695ce ]] \r\n",
       "E8 *- - E9 [[psysml:599cc28e-37a4-4871-97e7-8713776fcf23 ]] \r\n",
       "}\r\n",
       "@enduml\r\n",
       "\n",
       "PlantUML version 1.2020.13(Sat Jun 13 12:26:38 UTC 2020)\n",
       "(EPL source distribution)\n",
       "Java Runtime: OpenJDK Runtime Environment\n",
       "JVM: OpenJDK 64-Bit Server VM\n",
       "Default Encoding: UTF-8\n",
       "Language: en\n",
       "Country: null\n",
       "--></g></svg>"
      ]
     },
     "execution_count": 49,
     "metadata": {},
     "output_type": "execute_result"
    }
   ],
   "source": [
    "%viz --style=\"TB\" --view=\"Sequence\" \"ViewTest\""
   ]
  },
  {
   "cell_type": "code",
   "execution_count": 50,
   "id": "difficult-democrat",
   "metadata": {
    "execution": {
     "iopub.execute_input": "2021-03-25T15:10:07.479199Z",
     "iopub.status.busy": "2021-03-25T15:10:07.478686Z",
     "iopub.status.idle": "2021-03-25T15:10:07.570339Z",
     "shell.execute_reply": "2021-03-25T15:10:07.568891Z"
    }
   },
   "outputs": [
    {
     "data": {
      "image/svg+xml": [
       "<?xml version=\"1.0\" encoding=\"UTF-8\" standalone=\"no\"?><svg xmlns=\"http://www.w3.org/2000/svg\" xmlns:xlink=\"http://www.w3.org/1999/xlink\" contentScriptType=\"application/ecmascript\" contentStyleType=\"text/css\" height=\"334px\" preserveAspectRatio=\"none\" style=\"width:417px;height:334px;\" version=\"1.1\" viewBox=\"0 0 417 334\" width=\"417px\" zoomAndPan=\"magnify\"><defs/><g><!--MD5=[fbc87193dbaf4d95561dea2c320d4a47]\n",
       "cluster E1--><a href=\"psysml:68a4efc3-4169-49c4-b08f-98091c4bc0be\" target=\"_top\" title=\"psysml:68a4efc3-4169-49c4-b08f-98091c4bc0be\" xlink:actuate=\"onRequest\" xlink:href=\"psysml:68a4efc3-4169-49c4-b08f-98091c4bc0be\" xlink:show=\"new\" xlink:title=\"psysml:68a4efc3-4169-49c4-b08f-98091c4bc0be\" xlink:type=\"simple\"><polygon fill=\"#FFFFFF\" points=\"16,6,96,6,103,28.2969,395,28.2969,395,322,16,322,16,6\" style=\"stroke: #000000; stroke-width: 1.5;\"/><line style=\"stroke: #000000; stroke-width: 1.5;\" x1=\"16\" x2=\"103\" y1=\"28.2969\" y2=\"28.2969\"/><text fill=\"#000000\" font-family=\"sans-serif\" font-size=\"14\" font-weight=\"bold\" lengthAdjust=\"spacingAndGlyphs\" textLength=\"74\" x=\"20\" y=\"20.9951\">ViewTest</text></a><!--MD5=[09b614a08d8cba4a07c9adeb5e0fee81]\n",
       "class E3--><a href=\"psysml:0e16ef0b-675e-475c-a6ab-030697702310\" target=\"_top\" title=\"psysml:0e16ef0b-675e-475c-a6ab-030697702310\" xlink:actuate=\"onRequest\" xlink:href=\"psysml:0e16ef0b-675e-475c-a6ab-030697702310\" xlink:show=\"new\" xlink:title=\"psysml:0e16ef0b-675e-475c-a6ab-030697702310\" xlink:type=\"simple\"><rect fill=\"#FFFFFF\" height=\"45.9375\" id=\"E3\" style=\"stroke: #383838; stroke-width: 1.5;\" width=\"98\" x=\"32\" y=\"260\"/><text fill=\"#000000\" font-family=\"sans-serif\" font-size=\"12\" font-style=\"italic\" lengthAdjust=\"spacingAndGlyphs\" textLength=\"96\" x=\"33\" y=\"276.1387\">«viewpoint def»</text><text fill=\"#000000\" font-family=\"sans-serif\" font-size=\"12\" lengthAdjust=\"spacingAndGlyphs\" textLength=\"16\" x=\"73\" y=\"290.1074\">VP</text><line style=\"stroke: #383838; stroke-width: 1.5;\" x1=\"33\" x2=\"129\" y1=\"297.9375\" y2=\"297.9375\"/></a><!--MD5=[ebbe1d658d1005bcc118a6aa81145e00]\n",
       "class E4--><a href=\"psysml:80b9aeea-925b-4b3a-8c84-ce381a5e60ed\" target=\"_top\" title=\"psysml:80b9aeea-925b-4b3a-8c84-ce381a5e60ed\" xlink:actuate=\"onRequest\" xlink:href=\"psysml:80b9aeea-925b-4b3a-8c84-ce381a5e60ed\" xlink:show=\"new\" xlink:title=\"psysml:80b9aeea-925b-4b3a-8c84-ce381a5e60ed\" xlink:type=\"simple\"><rect fill=\"#FFFFFF\" height=\"45.9375\" id=\"E4\" style=\"stroke: #383838; stroke-width: 1.5;\" width=\"101\" x=\"165.5\" y=\"260\"/><text fill=\"#000000\" font-family=\"sans-serif\" font-size=\"12\" font-style=\"italic\" lengthAdjust=\"spacingAndGlyphs\" textLength=\"99\" x=\"166.5\" y=\"276.1387\">«rendering def»</text><text fill=\"#000000\" font-family=\"sans-serif\" font-size=\"12\" lengthAdjust=\"spacingAndGlyphs\" textLength=\"8\" x=\"212\" y=\"290.1074\">R</text><line style=\"stroke: #383838; stroke-width: 1.5;\" x1=\"166.5\" x2=\"265.5\" y1=\"297.9375\" y2=\"297.9375\"/></a><!--MD5=[270fce915f116d4de14055a7c1d9a0f3]\n",
       "class E5--><a href=\"psysml:fa67c82a-cf4c-4211-8405-b886e7fced61\" target=\"_top\" title=\"psysml:fa67c82a-cf4c-4211-8405-b886e7fced61\" xlink:actuate=\"onRequest\" xlink:href=\"psysml:fa67c82a-cf4c-4211-8405-b886e7fced61\" xlink:show=\"new\" xlink:title=\"psysml:fa67c82a-cf4c-4211-8405-b886e7fced61\" xlink:type=\"simple\"><rect fill=\"#FFFFFF\" height=\"45.9375\" id=\"E5\" style=\"stroke: #383838; stroke-width: 1.5;\" width=\"66\" x=\"230\" y=\"44.5\"/><text fill=\"#000000\" font-family=\"sans-serif\" font-size=\"12\" font-style=\"italic\" lengthAdjust=\"spacingAndGlyphs\" textLength=\"64\" x=\"231\" y=\"60.6387\">«view def»</text><text fill=\"#000000\" font-family=\"sans-serif\" font-size=\"12\" lengthAdjust=\"spacingAndGlyphs\" textLength=\"8\" x=\"259\" y=\"74.6074\">V</text><line style=\"stroke: #383838; stroke-width: 1.5;\" x1=\"231\" x2=\"295\" y1=\"82.4375\" y2=\"82.4375\"/></a><!--MD5=[60a26617385b1d2d0262a64233df1f8d]\n",
       "class E6--><a href=\"psysml:edb93869-3e30-4330-ae7d-f0dbadb8ae6e\" target=\"_top\" title=\"psysml:edb93869-3e30-4330-ae7d-f0dbadb8ae6e\" xlink:actuate=\"onRequest\" xlink:href=\"psysml:edb93869-3e30-4330-ae7d-f0dbadb8ae6e\" xlink:show=\"new\" xlink:title=\"psysml:edb93869-3e30-4330-ae7d-f0dbadb8ae6e\" xlink:type=\"simple\"><rect fill=\"#FFFFFF\" height=\"45.9375\" id=\"E6\" rx=\"10\" ry=\"10\" style=\"stroke: #383838; stroke-width: 1.5;\" width=\"74\" x=\"56\" y=\"154\"/><text fill=\"#000000\" font-family=\"sans-serif\" font-size=\"12\" font-style=\"italic\" lengthAdjust=\"spacingAndGlyphs\" textLength=\"72\" x=\"57\" y=\"170.1387\">«viewpoint»</text><text fill=\"#000000\" font-family=\"sans-serif\" font-size=\"12\" lengthAdjust=\"spacingAndGlyphs\" textLength=\"38\" x=\"74\" y=\"184.1074\">vp: VP</text><line style=\"stroke: #383838; stroke-width: 1.5;\" x1=\"57\" x2=\"129\" y1=\"191.9375\" y2=\"191.9375\"/></a><!--MD5=[2156ba9850f5573cc1fc38a6a4b2f02b]\n",
       "class E7--><a href=\"psysml:d3ad1959-ed24-48c6-b8cb-3101ea5444ce\" target=\"_top\" title=\"psysml:d3ad1959-ed24-48c6-b8cb-3101ea5444ce\" xlink:actuate=\"onRequest\" xlink:href=\"psysml:d3ad1959-ed24-48c6-b8cb-3101ea5444ce\" xlink:show=\"new\" xlink:title=\"psysml:d3ad1959-ed24-48c6-b8cb-3101ea5444ce\" xlink:type=\"simple\"><rect fill=\"#FFFFFF\" height=\"45.9375\" id=\"E7\" rx=\"10\" ry=\"10\" style=\"stroke: #383838; stroke-width: 1.5;\" width=\"77\" x=\"177.5\" y=\"154\"/><text fill=\"#000000\" font-family=\"sans-serif\" font-size=\"12\" font-style=\"italic\" lengthAdjust=\"spacingAndGlyphs\" textLength=\"75\" x=\"178.5\" y=\"170.1387\">«rendering»</text><text fill=\"#000000\" font-family=\"sans-serif\" font-size=\"12\" lengthAdjust=\"spacingAndGlyphs\" textLength=\"21\" x=\"205.5\" y=\"184.1074\">r: R</text><line style=\"stroke: #383838; stroke-width: 1.5;\" x1=\"178.5\" x2=\"253.5\" y1=\"191.9375\" y2=\"191.9375\"/></a><!--MD5=[b9389687b975829384b498ac4b7476b2]\n",
       "class E8--><a href=\"psysml:c79df832-858d-4f87-b041-227cc7f695ce\" target=\"_top\" title=\"psysml:c79df832-858d-4f87-b041-227cc7f695ce\" xlink:actuate=\"onRequest\" xlink:href=\"psysml:c79df832-858d-4f87-b041-227cc7f695ce\" xlink:show=\"new\" xlink:title=\"psysml:c79df832-858d-4f87-b041-227cc7f695ce\" xlink:type=\"simple\"><rect fill=\"#FFFFFF\" height=\"45.9375\" id=\"E8\" rx=\"10\" ry=\"10\" style=\"stroke: #383838; stroke-width: 1.5;\" width=\"42\" x=\"290\" y=\"154\"/><text fill=\"#000000\" font-family=\"sans-serif\" font-size=\"12\" font-style=\"italic\" lengthAdjust=\"spacingAndGlyphs\" textLength=\"40\" x=\"291\" y=\"170.1387\">«view»</text><text fill=\"#000000\" font-family=\"sans-serif\" font-size=\"12\" lengthAdjust=\"spacingAndGlyphs\" textLength=\"22\" x=\"300\" y=\"184.1074\">v: V</text><line style=\"stroke: #383838; stroke-width: 1.5;\" x1=\"291\" x2=\"331\" y1=\"191.9375\" y2=\"191.9375\"/></a><!--MD5=[fd4143e9d270a159db93a4ea2a975926]\n",
       "class E9--><a href=\"psysml:599cc28e-37a4-4871-97e7-8713776fcf23\" target=\"_top\" title=\"psysml:599cc28e-37a4-4871-97e7-8713776fcf23\" xlink:actuate=\"onRequest\" xlink:href=\"psysml:599cc28e-37a4-4871-97e7-8713776fcf23\" xlink:show=\"new\" xlink:title=\"psysml:599cc28e-37a4-4871-97e7-8713776fcf23\" xlink:type=\"simple\"><rect fill=\"#FFFFFF\" height=\"45.9375\" id=\"E9\" rx=\"10\" ry=\"10\" style=\"stroke: #383838; stroke-width: 1.5;\" width=\"77\" x=\"301.5\" y=\"260\"/><text fill=\"#000000\" font-family=\"sans-serif\" font-size=\"12\" font-style=\"italic\" lengthAdjust=\"spacingAndGlyphs\" textLength=\"75\" x=\"302.5\" y=\"276.1387\">«rendering»</text><text fill=\"#000000\" font-family=\"sans-serif\" font-size=\"12\" lengthAdjust=\"spacingAndGlyphs\" textLength=\"13\" x=\"333.5\" y=\"290.1074\">r1</text><line style=\"stroke: #383838; stroke-width: 1.5;\" x1=\"302.5\" x2=\"377.5\" y1=\"297.9375\" y2=\"297.9375\"/></a><a href=\"psysml:d8eb8e98-9fc5-4554-bb79-0a7fb3af234b\" target=\"_top\" title=\"psysml:d8eb8e98-9fc5-4554-bb79-0a7fb3af234b\" xlink:actuate=\"onRequest\" xlink:href=\"psysml:d8eb8e98-9fc5-4554-bb79-0a7fb3af234b\" xlink:show=\"new\" xlink:title=\"psysml:d8eb8e98-9fc5-4554-bb79-0a7fb3af234b\" xlink:type=\"simple\"><polygon fill=\"#FFFFFF\" points=\"122,41,138,41,145,63.2969,152,63.2969,152,93.5938,122,93.5938,122,41\" style=\"stroke: #000000; stroke-width: 1.5;\"/><line style=\"stroke: #000000; stroke-width: 1.5;\" x1=\"122\" x2=\"145\" y1=\"63.2969\" y2=\"63.2969\"/><text fill=\"#000000\" font-family=\"sans-serif\" font-size=\"14\" font-weight=\"bold\" lengthAdjust=\"spacingAndGlyphs\" textLength=\"10\" x=\"126\" y=\"55.9951\">P</text></a><!--MD5=[85d356282659285ab4b2cfe2f634dd2b]\n",
       "reverse link E5 to E6--><a href=\"psysml:edb93869-3e30-4330-ae7d-f0dbadb8ae6e\" target=\"_top\" title=\"psysml:edb93869-3e30-4330-ae7d-f0dbadb8ae6e\" xlink:actuate=\"onRequest\" xlink:href=\"psysml:edb93869-3e30-4330-ae7d-f0dbadb8ae6e\" xlink:show=\"new\" xlink:title=\"psysml:edb93869-3e30-4330-ae7d-f0dbadb8ae6e\" xlink:type=\"simple\"><path d=\"M218.61,96.57 C190.28,114.48 154.1,137.36 127.85,153.96 \" fill=\"none\" id=\"E5&lt;-E6\" style=\"stroke: #383838; stroke-width: 1.0;\"/><polygon fill=\"#383838\" points=\"229.82,89.48,222.6111,89.2999,219.6723,95.8849,226.8811,96.0651,229.82,89.48\" style=\"stroke: #383838; stroke-width: 1.0;\"/></a><!--MD5=[a717450b82c80b9240a525fa862496af]\n",
       "link E6 to E3--><a href=\"psysml:678c28b1-b825-4869-b6db-341a5ef18df5\" target=\"_top\" title=\"psysml:678c28b1-b825-4869-b6db-341a5ef18df5\" xlink:actuate=\"onRequest\" xlink:href=\"psysml:678c28b1-b825-4869-b6db-341a5ef18df5\" xlink:show=\"new\" xlink:title=\"psysml:678c28b1-b825-4869-b6db-341a5ef18df5\" xlink:type=\"simple\"><path d=\"M90.46,200.06 C89.12,211.64 87.44,226.23 85.86,239.87 \" fill=\"none\" id=\"E6-&gt;E3\" style=\"stroke: #383838; stroke-width: 1.0;\"/><polygon fill=\"#FFFFFF\" points=\"83.54,259.98,78.757,240.3046,92.6653,241.9044,83.54,259.98\" style=\"stroke: #383838; stroke-width: 1.0;\"/><ellipse cx=\"81.3953\" cy=\"234.8704\" fill=\"#383838\" rx=\"2\" ry=\"2\" style=\"stroke: #383838; stroke-width: 1.0;\"/><ellipse cx=\"91.3298\" cy=\"236.0132\" fill=\"#383838\" rx=\"2\" ry=\"2\" style=\"stroke: #383838; stroke-width: 1.0;\"/></a><!--MD5=[6bdd27f9905911a7e892a3dc65cf6b7c]\n",
       "link E7 to E4--><a href=\"psysml:e01b0a28-1744-4d35-a29d-a960e4229aec\" target=\"_top\" title=\"psysml:e01b0a28-1744-4d35-a29d-a960e4229aec\" xlink:actuate=\"onRequest\" xlink:href=\"psysml:e01b0a28-1744-4d35-a29d-a960e4229aec\" xlink:show=\"new\" xlink:title=\"psysml:e01b0a28-1744-4d35-a29d-a960e4229aec\" xlink:type=\"simple\"><path d=\"M216,200.06 C216,211.64 216,226.23 216,239.87 \" fill=\"none\" id=\"E7-&gt;E4\" style=\"stroke: #383838; stroke-width: 1.0;\"/><polygon fill=\"#FFFFFF\" points=\"216,259.98,209,240.98,223,240.98,216,259.98\" style=\"stroke: #383838; stroke-width: 1.0;\"/><ellipse cx=\"211\" cy=\"235.28\" fill=\"#383838\" rx=\"2\" ry=\"2\" style=\"stroke: #383838; stroke-width: 1.0;\"/><ellipse cx=\"221\" cy=\"235.28\" fill=\"#383838\" rx=\"2\" ry=\"2\" style=\"stroke: #383838; stroke-width: 1.0;\"/></a><!--MD5=[452b418e7f8a40397a49b8c0a78acc5b]\n",
       "reverse link E5 to E7--><a href=\"psysml:d3ad1959-ed24-48c6-b8cb-3101ea5444ce\" target=\"_top\" title=\"psysml:d3ad1959-ed24-48c6-b8cb-3101ea5444ce\" xlink:actuate=\"onRequest\" xlink:href=\"psysml:d3ad1959-ed24-48c6-b8cb-3101ea5444ce\" xlink:show=\"new\" xlink:title=\"psysml:d3ad1959-ed24-48c6-b8cb-3101ea5444ce\" xlink:type=\"simple\"><path d=\"M248.1,102.57 C240.81,119.26 232.23,138.89 225.77,153.65 \" fill=\"none\" id=\"E5&lt;-E7\" style=\"stroke: #383838; stroke-width: 1.0;\"/><polygon fill=\"#383838\" points=\"253.38,90.51,247.31,94.4029,248.5688,101.5033,254.6388,97.6104,253.38,90.51\" style=\"stroke: #383838; stroke-width: 1.0;\"/><text fill=\"#000000\" font-family=\"sans-serif\" font-size=\"13\" lengthAdjust=\"spacingAndGlyphs\" textLength=\"24\" x=\"201.1986\" y=\"142.8366\">0..1</text></a><!--MD5=[1ccb2481ffa92f8d51a74ee30c51832a]\n",
       "link E8 to E5--><a href=\"psysml:3896f3dd-ac25-48cd-93fb-dac3b3d02068\" target=\"_top\" title=\"psysml:3896f3dd-ac25-48cd-93fb-dac3b3d02068\" xlink:actuate=\"onRequest\" xlink:href=\"psysml:3896f3dd-ac25-48cd-93fb-dac3b3d02068\" xlink:show=\"new\" xlink:title=\"psysml:3896f3dd-ac25-48cd-93fb-dac3b3d02068\" xlink:type=\"simple\"><path d=\"M312.22,153.65 C308.53,140.48 301.55,123.44 293.74,108.07 \" fill=\"none\" id=\"E8-&gt;E5\" style=\"stroke: #383838; stroke-width: 1.0;\"/><polygon fill=\"#FFFFFF\" points=\"283.97,90.51,299.3209,103.7142,287.0851,110.5174,283.97,90.51\" style=\"stroke: #383838; stroke-width: 1.0;\"/><ellipse cx=\"300.3428\" cy=\"109.6678\" fill=\"#383838\" rx=\"2\" ry=\"2\" style=\"stroke: #383838; stroke-width: 1.0;\"/><ellipse cx=\"291.6029\" cy=\"114.5273\" fill=\"#383838\" rx=\"2\" ry=\"2\" style=\"stroke: #383838; stroke-width: 1.0;\"/></a><!--MD5=[827760032d119d06bbc92f75530fd7ae]\n",
       "reverse link E5 to E8--><a href=\"psysml:c79df832-858d-4f87-b041-227cc7f695ce\" target=\"_top\" title=\"psysml:c79df832-858d-4f87-b041-227cc7f695ce\" xlink:actuate=\"onRequest\" xlink:href=\"psysml:c79df832-858d-4f87-b041-227cc7f695ce\" xlink:show=\"new\" xlink:title=\"psysml:c79df832-858d-4f87-b041-227cc7f695ce\" xlink:type=\"simple\"><path d=\"M266.44,103.07 C272.49,119.65 281.62,139.03 290.44,153.65 \" fill=\"none\" id=\"E5&lt;-E8\" style=\"stroke: #383838; stroke-width: 1.0;\"/><polygon fill=\"#383838\" points=\"262.31,90.51,260.3836,97.459,266.0572,101.9099,267.9836,94.9609,262.31,90.51\" style=\"stroke: #383838; stroke-width: 1.0;\"/><text fill=\"#000000\" font-family=\"sans-serif\" font-size=\"13\" lengthAdjust=\"spacingAndGlyphs\" textLength=\"7\" x=\"277.2746\" y=\"142.8366\">*</text></a><!--MD5=[22f5b4bae7e060dce8a1c8021efdb95b]\n",
       "reverse link E8 to E9--><a href=\"psysml:599cc28e-37a4-4871-97e7-8713776fcf23\" target=\"_top\" title=\"psysml:599cc28e-37a4-4871-97e7-8713776fcf23\" xlink:actuate=\"onRequest\" xlink:href=\"psysml:599cc28e-37a4-4871-97e7-8713776fcf23\" xlink:show=\"new\" xlink:title=\"psysml:599cc28e-37a4-4871-97e7-8713776fcf23\" xlink:type=\"simple\"><path d=\"M320.75,212.96 C325.08,228.51 330.05,246.33 333.86,259.98 \" fill=\"none\" id=\"E8&lt;-E9\" style=\"stroke: #383838; stroke-width: 1.0;\"/><polygon fill=\"#383838\" points=\"317.15,200.06,314.9066,206.9133,320.3699,211.6199,322.6133,204.7667,317.15,200.06\" style=\"stroke: #383838; stroke-width: 1.0;\"/></a><!--MD5=[f4a499b923422e5a58a64bba4c72b1ef]\n",
       "@startuml\r\n",
       "top to bottom direction\r\n",
       "skinparam monochrome true\r\n",
       "skinparam classbackgroundcolor white\r\n",
       "skinparam shadowing false\r\n",
       "skinparam wrapWidth 300\r\n",
       "hide circle\r\n",
       "\r\n",
       "package \"ViewTest\" as E1  [[psysml:68a4efc3-4169-49c4-b08f-98091c4bc0be ]]  {\r\n",
       "package \"P\" as E2  [[psysml:d8eb8e98-9fc5-4554-bb79-0a7fb3af234b ]]  {\r\n",
       "}\r\n",
       "comp def \"VP\" as E3  <<(T,blue)viewpoint def>> [[psysml:0e16ef0b-675e-475c-a6ab-030697702310 ]] {\r\n",
       "}\r\n",
       "comp def \"R\" as E4  <<(T,blue)rendering def>> [[psysml:80b9aeea-925b-4b3a-8c84-ce381a5e60ed ]] {\r\n",
       "}\r\n",
       "comp def \"V\" as E5  <<(T,blue)view def>> [[psysml:fa67c82a-cf4c-4211-8405-b886e7fced61 ]] {\r\n",
       "}\r\n",
       "comp usage \"vp: VP\" as E6  <<(T,blue)viewpoint>> [[psysml:edb93869-3e30-4330-ae7d-f0dbadb8ae6e ]] {\r\n",
       "}\r\n",
       "comp usage \"r: R\" as E7  <<(T,blue)rendering>> [[psysml:d3ad1959-ed24-48c6-b8cb-3101ea5444ce ]] {\r\n",
       "}\r\n",
       "comp usage \"v: V\" as E8  <<(T,blue)view>> [[psysml:c79df832-858d-4f87-b041-227cc7f695ce ]] {\r\n",
       "}\r\n",
       "comp usage \"r1\" as E9  <<(T,blue)rendering>> [[psysml:599cc28e-37a4-4871-97e7-8713776fcf23 ]] {\r\n",
       "}\r\n",
       "E5 *- - E6 [[psysml:edb93869-3e30-4330-ae7d-f0dbadb8ae6e ]] \r\n",
       "E6 - -:|> E3 [[psysml:678c28b1-b825-4869-b6db-341a5ef18df5 ]] \r\n",
       "E7 - -:|> E4 [[psysml:e01b0a28-1744-4d35-a29d-a960e4229aec ]] \r\n",
       "E5 *- - \"0..1\"E7 [[psysml:d3ad1959-ed24-48c6-b8cb-3101ea5444ce ]] \r\n",
       "E8 - -:|> E5 [[psysml:3896f3dd-ac25-48cd-93fb-dac3b3d02068 ]] \r\n",
       "E5 *- - \"*\"E8 [[psysml:c79df832-858d-4f87-b041-227cc7f695ce ]] \r\n",
       "E8 *- - E9 [[psysml:599cc28e-37a4-4871-97e7-8713776fcf23 ]] \r\n",
       "}\r\n",
       "@enduml\r\n",
       "\n",
       "PlantUML version 1.2020.13(Sat Jun 13 12:26:38 UTC 2020)\n",
       "(EPL source distribution)\n",
       "Java Runtime: OpenJDK Runtime Environment\n",
       "JVM: OpenJDK 64-Bit Server VM\n",
       "Default Encoding: UTF-8\n",
       "Language: en\n",
       "Country: null\n",
       "--></g></svg>"
      ]
     },
     "execution_count": 50,
     "metadata": {},
     "output_type": "execute_result"
    }
   ],
   "source": [
    "%viz --style=\"TB\" --view=\"MIXED\" \"ViewTest\""
   ]
  },
  {
   "cell_type": "code",
   "execution_count": 51,
   "id": "creative-knowing",
   "metadata": {
    "execution": {
     "iopub.execute_input": "2021-03-25T15:10:07.621440Z",
     "iopub.status.busy": "2021-03-25T15:10:07.620778Z",
     "iopub.status.idle": "2021-03-25T15:10:07.723329Z",
     "shell.execute_reply": "2021-03-25T15:10:07.721767Z"
    }
   },
   "outputs": [
    {
     "data": {
      "image/svg+xml": [
       "<?xml version=\"1.0\" encoding=\"UTF-8\" standalone=\"no\"?><svg xmlns=\"http://www.w3.org/2000/svg\" xmlns:xlink=\"http://www.w3.org/1999/xlink\" contentScriptType=\"application/ecmascript\" contentStyleType=\"text/css\" height=\"334px\" preserveAspectRatio=\"none\" style=\"width:417px;height:334px;\" version=\"1.1\" viewBox=\"0 0 417 334\" width=\"417px\" zoomAndPan=\"magnify\"><defs/><g><!--MD5=[fbc87193dbaf4d95561dea2c320d4a47]\n",
       "cluster E1--><a href=\"psysml:68a4efc3-4169-49c4-b08f-98091c4bc0be\" target=\"_top\" title=\"psysml:68a4efc3-4169-49c4-b08f-98091c4bc0be\" xlink:actuate=\"onRequest\" xlink:href=\"psysml:68a4efc3-4169-49c4-b08f-98091c4bc0be\" xlink:show=\"new\" xlink:title=\"psysml:68a4efc3-4169-49c4-b08f-98091c4bc0be\" xlink:type=\"simple\"><polygon fill=\"#FFFFFF\" points=\"16,6,96,6,103,28.2969,395,28.2969,395,322,16,322,16,6\" style=\"stroke: #000000; stroke-width: 1.5;\"/><line style=\"stroke: #000000; stroke-width: 1.5;\" x1=\"16\" x2=\"103\" y1=\"28.2969\" y2=\"28.2969\"/><text fill=\"#000000\" font-family=\"sans-serif\" font-size=\"14\" font-weight=\"bold\" lengthAdjust=\"spacingAndGlyphs\" textLength=\"74\" x=\"20\" y=\"20.9951\">ViewTest</text></a><!--MD5=[09b614a08d8cba4a07c9adeb5e0fee81]\n",
       "class E3--><a href=\"psysml:0e16ef0b-675e-475c-a6ab-030697702310\" target=\"_top\" title=\"psysml:0e16ef0b-675e-475c-a6ab-030697702310\" xlink:actuate=\"onRequest\" xlink:href=\"psysml:0e16ef0b-675e-475c-a6ab-030697702310\" xlink:show=\"new\" xlink:title=\"psysml:0e16ef0b-675e-475c-a6ab-030697702310\" xlink:type=\"simple\"><rect fill=\"#FFFFFF\" height=\"45.9375\" id=\"E3\" style=\"stroke: #383838; stroke-width: 1.5;\" width=\"98\" x=\"32\" y=\"260\"/><text fill=\"#000000\" font-family=\"sans-serif\" font-size=\"12\" font-style=\"italic\" lengthAdjust=\"spacingAndGlyphs\" textLength=\"96\" x=\"33\" y=\"276.1387\">«viewpoint def»</text><text fill=\"#000000\" font-family=\"sans-serif\" font-size=\"12\" lengthAdjust=\"spacingAndGlyphs\" textLength=\"16\" x=\"73\" y=\"290.1074\">VP</text><line style=\"stroke: #383838; stroke-width: 1.5;\" x1=\"33\" x2=\"129\" y1=\"297.9375\" y2=\"297.9375\"/></a><!--MD5=[ebbe1d658d1005bcc118a6aa81145e00]\n",
       "class E4--><a href=\"psysml:80b9aeea-925b-4b3a-8c84-ce381a5e60ed\" target=\"_top\" title=\"psysml:80b9aeea-925b-4b3a-8c84-ce381a5e60ed\" xlink:actuate=\"onRequest\" xlink:href=\"psysml:80b9aeea-925b-4b3a-8c84-ce381a5e60ed\" xlink:show=\"new\" xlink:title=\"psysml:80b9aeea-925b-4b3a-8c84-ce381a5e60ed\" xlink:type=\"simple\"><rect fill=\"#FFFFFF\" height=\"45.9375\" id=\"E4\" style=\"stroke: #383838; stroke-width: 1.5;\" width=\"101\" x=\"165.5\" y=\"260\"/><text fill=\"#000000\" font-family=\"sans-serif\" font-size=\"12\" font-style=\"italic\" lengthAdjust=\"spacingAndGlyphs\" textLength=\"99\" x=\"166.5\" y=\"276.1387\">«rendering def»</text><text fill=\"#000000\" font-family=\"sans-serif\" font-size=\"12\" lengthAdjust=\"spacingAndGlyphs\" textLength=\"8\" x=\"212\" y=\"290.1074\">R</text><line style=\"stroke: #383838; stroke-width: 1.5;\" x1=\"166.5\" x2=\"265.5\" y1=\"297.9375\" y2=\"297.9375\"/></a><!--MD5=[270fce915f116d4de14055a7c1d9a0f3]\n",
       "class E5--><a href=\"psysml:fa67c82a-cf4c-4211-8405-b886e7fced61\" target=\"_top\" title=\"psysml:fa67c82a-cf4c-4211-8405-b886e7fced61\" xlink:actuate=\"onRequest\" xlink:href=\"psysml:fa67c82a-cf4c-4211-8405-b886e7fced61\" xlink:show=\"new\" xlink:title=\"psysml:fa67c82a-cf4c-4211-8405-b886e7fced61\" xlink:type=\"simple\"><rect fill=\"#FFFFFF\" height=\"45.9375\" id=\"E5\" style=\"stroke: #383838; stroke-width: 1.5;\" width=\"66\" x=\"230\" y=\"44.5\"/><text fill=\"#000000\" font-family=\"sans-serif\" font-size=\"12\" font-style=\"italic\" lengthAdjust=\"spacingAndGlyphs\" textLength=\"64\" x=\"231\" y=\"60.6387\">«view def»</text><text fill=\"#000000\" font-family=\"sans-serif\" font-size=\"12\" lengthAdjust=\"spacingAndGlyphs\" textLength=\"8\" x=\"259\" y=\"74.6074\">V</text><line style=\"stroke: #383838; stroke-width: 1.5;\" x1=\"231\" x2=\"295\" y1=\"82.4375\" y2=\"82.4375\"/></a><!--MD5=[60a26617385b1d2d0262a64233df1f8d]\n",
       "class E6--><a href=\"psysml:edb93869-3e30-4330-ae7d-f0dbadb8ae6e\" target=\"_top\" title=\"psysml:edb93869-3e30-4330-ae7d-f0dbadb8ae6e\" xlink:actuate=\"onRequest\" xlink:href=\"psysml:edb93869-3e30-4330-ae7d-f0dbadb8ae6e\" xlink:show=\"new\" xlink:title=\"psysml:edb93869-3e30-4330-ae7d-f0dbadb8ae6e\" xlink:type=\"simple\"><rect fill=\"#FFFFFF\" height=\"45.9375\" id=\"E6\" rx=\"10\" ry=\"10\" style=\"stroke: #383838; stroke-width: 1.5;\" width=\"74\" x=\"56\" y=\"154\"/><text fill=\"#000000\" font-family=\"sans-serif\" font-size=\"12\" font-style=\"italic\" lengthAdjust=\"spacingAndGlyphs\" textLength=\"72\" x=\"57\" y=\"170.1387\">«viewpoint»</text><text fill=\"#000000\" font-family=\"sans-serif\" font-size=\"12\" lengthAdjust=\"spacingAndGlyphs\" textLength=\"38\" x=\"74\" y=\"184.1074\">vp: VP</text><line style=\"stroke: #383838; stroke-width: 1.5;\" x1=\"57\" x2=\"129\" y1=\"191.9375\" y2=\"191.9375\"/></a><!--MD5=[2156ba9850f5573cc1fc38a6a4b2f02b]\n",
       "class E7--><a href=\"psysml:d3ad1959-ed24-48c6-b8cb-3101ea5444ce\" target=\"_top\" title=\"psysml:d3ad1959-ed24-48c6-b8cb-3101ea5444ce\" xlink:actuate=\"onRequest\" xlink:href=\"psysml:d3ad1959-ed24-48c6-b8cb-3101ea5444ce\" xlink:show=\"new\" xlink:title=\"psysml:d3ad1959-ed24-48c6-b8cb-3101ea5444ce\" xlink:type=\"simple\"><rect fill=\"#FFFFFF\" height=\"45.9375\" id=\"E7\" rx=\"10\" ry=\"10\" style=\"stroke: #383838; stroke-width: 1.5;\" width=\"77\" x=\"177.5\" y=\"154\"/><text fill=\"#000000\" font-family=\"sans-serif\" font-size=\"12\" font-style=\"italic\" lengthAdjust=\"spacingAndGlyphs\" textLength=\"75\" x=\"178.5\" y=\"170.1387\">«rendering»</text><text fill=\"#000000\" font-family=\"sans-serif\" font-size=\"12\" lengthAdjust=\"spacingAndGlyphs\" textLength=\"21\" x=\"205.5\" y=\"184.1074\">r: R</text><line style=\"stroke: #383838; stroke-width: 1.5;\" x1=\"178.5\" x2=\"253.5\" y1=\"191.9375\" y2=\"191.9375\"/></a><!--MD5=[b9389687b975829384b498ac4b7476b2]\n",
       "class E8--><a href=\"psysml:c79df832-858d-4f87-b041-227cc7f695ce\" target=\"_top\" title=\"psysml:c79df832-858d-4f87-b041-227cc7f695ce\" xlink:actuate=\"onRequest\" xlink:href=\"psysml:c79df832-858d-4f87-b041-227cc7f695ce\" xlink:show=\"new\" xlink:title=\"psysml:c79df832-858d-4f87-b041-227cc7f695ce\" xlink:type=\"simple\"><rect fill=\"#FFFFFF\" height=\"45.9375\" id=\"E8\" rx=\"10\" ry=\"10\" style=\"stroke: #383838; stroke-width: 1.5;\" width=\"42\" x=\"290\" y=\"154\"/><text fill=\"#000000\" font-family=\"sans-serif\" font-size=\"12\" font-style=\"italic\" lengthAdjust=\"spacingAndGlyphs\" textLength=\"40\" x=\"291\" y=\"170.1387\">«view»</text><text fill=\"#000000\" font-family=\"sans-serif\" font-size=\"12\" lengthAdjust=\"spacingAndGlyphs\" textLength=\"22\" x=\"300\" y=\"184.1074\">v: V</text><line style=\"stroke: #383838; stroke-width: 1.5;\" x1=\"291\" x2=\"331\" y1=\"191.9375\" y2=\"191.9375\"/></a><!--MD5=[fd4143e9d270a159db93a4ea2a975926]\n",
       "class E9--><a href=\"psysml:599cc28e-37a4-4871-97e7-8713776fcf23\" target=\"_top\" title=\"psysml:599cc28e-37a4-4871-97e7-8713776fcf23\" xlink:actuate=\"onRequest\" xlink:href=\"psysml:599cc28e-37a4-4871-97e7-8713776fcf23\" xlink:show=\"new\" xlink:title=\"psysml:599cc28e-37a4-4871-97e7-8713776fcf23\" xlink:type=\"simple\"><rect fill=\"#FFFFFF\" height=\"45.9375\" id=\"E9\" rx=\"10\" ry=\"10\" style=\"stroke: #383838; stroke-width: 1.5;\" width=\"77\" x=\"301.5\" y=\"260\"/><text fill=\"#000000\" font-family=\"sans-serif\" font-size=\"12\" font-style=\"italic\" lengthAdjust=\"spacingAndGlyphs\" textLength=\"75\" x=\"302.5\" y=\"276.1387\">«rendering»</text><text fill=\"#000000\" font-family=\"sans-serif\" font-size=\"12\" lengthAdjust=\"spacingAndGlyphs\" textLength=\"13\" x=\"333.5\" y=\"290.1074\">r1</text><line style=\"stroke: #383838; stroke-width: 1.5;\" x1=\"302.5\" x2=\"377.5\" y1=\"297.9375\" y2=\"297.9375\"/></a><a href=\"psysml:d8eb8e98-9fc5-4554-bb79-0a7fb3af234b\" target=\"_top\" title=\"psysml:d8eb8e98-9fc5-4554-bb79-0a7fb3af234b\" xlink:actuate=\"onRequest\" xlink:href=\"psysml:d8eb8e98-9fc5-4554-bb79-0a7fb3af234b\" xlink:show=\"new\" xlink:title=\"psysml:d8eb8e98-9fc5-4554-bb79-0a7fb3af234b\" xlink:type=\"simple\"><polygon fill=\"#FFFFFF\" points=\"122,41,138,41,145,63.2969,152,63.2969,152,93.5938,122,93.5938,122,41\" style=\"stroke: #000000; stroke-width: 1.5;\"/><line style=\"stroke: #000000; stroke-width: 1.5;\" x1=\"122\" x2=\"145\" y1=\"63.2969\" y2=\"63.2969\"/><text fill=\"#000000\" font-family=\"sans-serif\" font-size=\"14\" font-weight=\"bold\" lengthAdjust=\"spacingAndGlyphs\" textLength=\"10\" x=\"126\" y=\"55.9951\">P</text></a><!--MD5=[85d356282659285ab4b2cfe2f634dd2b]\n",
       "reverse link E5 to E6--><a href=\"psysml:edb93869-3e30-4330-ae7d-f0dbadb8ae6e\" target=\"_top\" title=\"psysml:edb93869-3e30-4330-ae7d-f0dbadb8ae6e\" xlink:actuate=\"onRequest\" xlink:href=\"psysml:edb93869-3e30-4330-ae7d-f0dbadb8ae6e\" xlink:show=\"new\" xlink:title=\"psysml:edb93869-3e30-4330-ae7d-f0dbadb8ae6e\" xlink:type=\"simple\"><path d=\"M238.17,103.81 C238.17,103.81 238.17,124 238.17,124 C238.17,124 141,124 141,124 C141,124 141,173.74 141,176.85 \" fill=\"none\" id=\"E5&lt;-E6\" style=\"stroke: #383838; stroke-width: 1.0;\"/><polygon fill=\"#383838\" points=\"238.17,90.81,234.17,96.81,238.17,102.81,242.17,96.81,238.17,90.81\" style=\"stroke: #383838; stroke-width: 1.0;\"/></a><!--MD5=[a717450b82c80b9240a525fa862496af]\n",
       "link E6 to E3--><a href=\"psysml:678c28b1-b825-4869-b6db-341a5ef18df5\" target=\"_top\" title=\"psysml:678c28b1-b825-4869-b6db-341a5ef18df5\" xlink:actuate=\"onRequest\" xlink:href=\"psysml:678c28b1-b825-4869-b6db-341a5ef18df5\" xlink:show=\"new\" xlink:title=\"psysml:678c28b1-b825-4869-b6db-341a5ef18df5\" xlink:type=\"simple\"><path d=\"M93,200 C93,200 93,239.68 93,239.68 \" fill=\"none\" id=\"E6-&gt;E3\" style=\"stroke: #383838; stroke-width: 1.0;\"/><polygon fill=\"#FFFFFF\" points=\"93,259.68,86,240.68,100,240.68,93,259.68\" style=\"stroke: #383838; stroke-width: 1.0;\"/><ellipse cx=\"88\" cy=\"234.98\" fill=\"#383838\" rx=\"2\" ry=\"2\" style=\"stroke: #383838; stroke-width: 1.0;\"/><ellipse cx=\"98\" cy=\"234.98\" fill=\"#383838\" rx=\"2\" ry=\"2\" style=\"stroke: #383838; stroke-width: 1.0;\"/></a><!--MD5=[6bdd27f9905911a7e892a3dc65cf6b7c]\n",
       "link E7 to E4--><a href=\"psysml:e01b0a28-1744-4d35-a29d-a960e4229aec\" target=\"_top\" title=\"psysml:e01b0a28-1744-4d35-a29d-a960e4229aec\" xlink:actuate=\"onRequest\" xlink:href=\"psysml:e01b0a28-1744-4d35-a29d-a960e4229aec\" xlink:show=\"new\" xlink:title=\"psysml:e01b0a28-1744-4d35-a29d-a960e4229aec\" xlink:type=\"simple\"><path d=\"M216,200 C216,200 216,239.68 216,239.68 \" fill=\"none\" id=\"E7-&gt;E4\" style=\"stroke: #383838; stroke-width: 1.0;\"/><polygon fill=\"#FFFFFF\" points=\"216,259.68,209,240.68,223,240.68,216,259.68\" style=\"stroke: #383838; stroke-width: 1.0;\"/><ellipse cx=\"211\" cy=\"234.98\" fill=\"#383838\" rx=\"2\" ry=\"2\" style=\"stroke: #383838; stroke-width: 1.0;\"/><ellipse cx=\"221\" cy=\"234.98\" fill=\"#383838\" rx=\"2\" ry=\"2\" style=\"stroke: #383838; stroke-width: 1.0;\"/></a><!--MD5=[452b418e7f8a40397a49b8c0a78acc5b]\n",
       "reverse link E5 to E7--><a href=\"psysml:d3ad1959-ed24-48c6-b8cb-3101ea5444ce\" target=\"_top\" title=\"psysml:d3ad1959-ed24-48c6-b8cb-3101ea5444ce\" xlink:actuate=\"onRequest\" xlink:href=\"psysml:d3ad1959-ed24-48c6-b8cb-3101ea5444ce\" xlink:show=\"new\" xlink:title=\"psysml:d3ad1959-ed24-48c6-b8cb-3101ea5444ce\" xlink:type=\"simple\"><path d=\"M246.33,103.72 C246.33,103.72 246.33,153.81 246.33,153.81 \" fill=\"none\" id=\"E5&lt;-E7\" style=\"stroke: #383838; stroke-width: 1.0;\"/><polygon fill=\"#383838\" points=\"246.33,90.72,242.33,96.72,246.33,102.72,250.33,96.72,246.33,90.72\" style=\"stroke: #383838; stroke-width: 1.0;\"/><text fill=\"#000000\" font-family=\"sans-serif\" font-size=\"13\" lengthAdjust=\"spacingAndGlyphs\" textLength=\"24\" x=\"227.0271\" y=\"143.0376\">0..1</text></a><!--MD5=[1ccb2481ffa92f8d51a74ee30c51832a]\n",
       "link E8 to E5--><a href=\"psysml:3896f3dd-ac25-48cd-93fb-dac3b3d02068\" target=\"_top\" title=\"psysml:3896f3dd-ac25-48cd-93fb-dac3b3d02068\" xlink:actuate=\"onRequest\" xlink:href=\"psysml:3896f3dd-ac25-48cd-93fb-dac3b3d02068\" xlink:show=\"new\" xlink:title=\"psysml:3896f3dd-ac25-48cd-93fb-dac3b3d02068\" xlink:type=\"simple\"><path d=\"M289.74,170 C285.42,170 282.17,170 282.17,170 C282.17,170 282.17,110.5 282.17,110.5 \" fill=\"none\" id=\"E8-&gt;E5\" style=\"stroke: #383838; stroke-width: 1.0;\"/><polygon fill=\"#FFFFFF\" points=\"282.17,90.5,289.17,109.5,275.17,109.5,282.17,90.5\" style=\"stroke: #383838; stroke-width: 1.0;\"/><ellipse cx=\"287.17\" cy=\"115.2\" fill=\"#383838\" rx=\"2\" ry=\"2\" style=\"stroke: #383838; stroke-width: 1.0;\"/><ellipse cx=\"277.17\" cy=\"115.2\" fill=\"#383838\" rx=\"2\" ry=\"2\" style=\"stroke: #383838; stroke-width: 1.0;\"/></a><!--MD5=[827760032d119d06bbc92f75530fd7ae]\n",
       "reverse link E5 to E8--><a href=\"psysml:c79df832-858d-4f87-b041-227cc7f695ce\" target=\"_top\" title=\"psysml:c79df832-858d-4f87-b041-227cc7f695ce\" xlink:actuate=\"onRequest\" xlink:href=\"psysml:c79df832-858d-4f87-b041-227cc7f695ce\" xlink:show=\"new\" xlink:title=\"psysml:c79df832-858d-4f87-b041-227cc7f695ce\" xlink:type=\"simple\"><path d=\"M274.33,103.71 C274.33,103.71 274.33,185 274.33,185 C274.33,185 281.6,185 289.67,185 \" fill=\"none\" id=\"E5&lt;-E8\" style=\"stroke: #383838; stroke-width: 1.0;\"/><polygon fill=\"#383838\" points=\"274.33,90.71,270.33,96.71,274.33,102.71,278.33,96.71,274.33,90.71\" style=\"stroke: #383838; stroke-width: 1.0;\"/><text fill=\"#000000\" font-family=\"sans-serif\" font-size=\"13\" lengthAdjust=\"spacingAndGlyphs\" textLength=\"7\" x=\"275.0658\" y=\"182.2499\">*</text></a><!--MD5=[22f5b4bae7e060dce8a1c8021efdb95b]\n",
       "reverse link E8 to E9--><a href=\"psysml:599cc28e-37a4-4871-97e7-8713776fcf23\" target=\"_top\" title=\"psysml:599cc28e-37a4-4871-97e7-8713776fcf23\" xlink:actuate=\"onRequest\" xlink:href=\"psysml:599cc28e-37a4-4871-97e7-8713776fcf23\" xlink:show=\"new\" xlink:title=\"psysml:599cc28e-37a4-4871-97e7-8713776fcf23\" xlink:type=\"simple\"><path d=\"M316.75,213 C316.75,213 316.75,259.68 316.75,259.68 \" fill=\"none\" id=\"E8&lt;-E9\" style=\"stroke: #383838; stroke-width: 1.0;\"/><polygon fill=\"#383838\" points=\"316.75,200,312.75,206,316.75,212,320.75,206,316.75,200\" style=\"stroke: #383838; stroke-width: 1.0;\"/></a><!--MD5=[2c22b5bbf0cd22cff0b63db47ba77c19]\n",
       "@startuml\r\n",
       "skinparam linetype ortho\r\n",
       "skinparam monochrome true\r\n",
       "skinparam classbackgroundcolor white\r\n",
       "skinparam shadowing false\r\n",
       "skinparam wrapWidth 300\r\n",
       "hide circle\r\n",
       "\r\n",
       "package \"ViewTest\" as E1  [[psysml:68a4efc3-4169-49c4-b08f-98091c4bc0be ]]  {\r\n",
       "package \"P\" as E2  [[psysml:d8eb8e98-9fc5-4554-bb79-0a7fb3af234b ]]  {\r\n",
       "}\r\n",
       "comp def \"VP\" as E3  <<(T,blue)viewpoint def>> [[psysml:0e16ef0b-675e-475c-a6ab-030697702310 ]] {\r\n",
       "}\r\n",
       "comp def \"R\" as E4  <<(T,blue)rendering def>> [[psysml:80b9aeea-925b-4b3a-8c84-ce381a5e60ed ]] {\r\n",
       "}\r\n",
       "comp def \"V\" as E5  <<(T,blue)view def>> [[psysml:fa67c82a-cf4c-4211-8405-b886e7fced61 ]] {\r\n",
       "}\r\n",
       "comp usage \"vp: VP\" as E6  <<(T,blue)viewpoint>> [[psysml:edb93869-3e30-4330-ae7d-f0dbadb8ae6e ]] {\r\n",
       "}\r\n",
       "comp usage \"r: R\" as E7  <<(T,blue)rendering>> [[psysml:d3ad1959-ed24-48c6-b8cb-3101ea5444ce ]] {\r\n",
       "}\r\n",
       "comp usage \"v: V\" as E8  <<(T,blue)view>> [[psysml:c79df832-858d-4f87-b041-227cc7f695ce ]] {\r\n",
       "}\r\n",
       "comp usage \"r1\" as E9  <<(T,blue)rendering>> [[psysml:599cc28e-37a4-4871-97e7-8713776fcf23 ]] {\r\n",
       "}\r\n",
       "E5 *- - E6 [[psysml:edb93869-3e30-4330-ae7d-f0dbadb8ae6e ]] \r\n",
       "E6 - -:|> E3 [[psysml:678c28b1-b825-4869-b6db-341a5ef18df5 ]] \r\n",
       "E7 - -:|> E4 [[psysml:e01b0a28-1744-4d35-a29d-a960e4229aec ]] \r\n",
       "E5 *- - \"0..1\"E7 [[psysml:d3ad1959-ed24-48c6-b8cb-3101ea5444ce ]] \r\n",
       "E8 - -:|> E5 [[psysml:3896f3dd-ac25-48cd-93fb-dac3b3d02068 ]] \r\n",
       "E5 *- - \"*\"E8 [[psysml:c79df832-858d-4f87-b041-227cc7f695ce ]] \r\n",
       "E8 *- - E9 [[psysml:599cc28e-37a4-4871-97e7-8713776fcf23 ]] \r\n",
       "}\r\n",
       "@enduml\r\n",
       "\n",
       "PlantUML version 1.2020.13(Sat Jun 13 12:26:38 UTC 2020)\n",
       "(EPL source distribution)\n",
       "Java Runtime: OpenJDK Runtime Environment\n",
       "JVM: OpenJDK 64-Bit Server VM\n",
       "Default Encoding: UTF-8\n",
       "Language: en\n",
       "Country: null\n",
       "--></g></svg>"
      ]
     },
     "execution_count": 51,
     "metadata": {},
     "output_type": "execute_result"
    }
   ],
   "source": [
    "%viz --style=\"ORTHOLINE\" --view=\"Default\" \"ViewTest\""
   ]
  },
  {
   "cell_type": "code",
   "execution_count": 52,
   "id": "colored-prisoner",
   "metadata": {
    "execution": {
     "iopub.execute_input": "2021-03-25T15:10:07.774273Z",
     "iopub.status.busy": "2021-03-25T15:10:07.773790Z",
     "iopub.status.idle": "2021-03-25T15:10:07.871695Z",
     "shell.execute_reply": "2021-03-25T15:10:07.870197Z"
    }
   },
   "outputs": [
    {
     "data": {
      "image/svg+xml": [
       "<?xml version=\"1.0\" encoding=\"UTF-8\" standalone=\"no\"?><svg xmlns=\"http://www.w3.org/2000/svg\" xmlns:xlink=\"http://www.w3.org/1999/xlink\" contentScriptType=\"application/ecmascript\" contentStyleType=\"text/css\" height=\"334px\" preserveAspectRatio=\"none\" style=\"width:417px;height:334px;\" version=\"1.1\" viewBox=\"0 0 417 334\" width=\"417px\" zoomAndPan=\"magnify\"><defs/><g><!--MD5=[fbc87193dbaf4d95561dea2c320d4a47]\n",
       "cluster E1--><a href=\"psysml:68a4efc3-4169-49c4-b08f-98091c4bc0be\" target=\"_top\" title=\"psysml:68a4efc3-4169-49c4-b08f-98091c4bc0be\" xlink:actuate=\"onRequest\" xlink:href=\"psysml:68a4efc3-4169-49c4-b08f-98091c4bc0be\" xlink:show=\"new\" xlink:title=\"psysml:68a4efc3-4169-49c4-b08f-98091c4bc0be\" xlink:type=\"simple\"><polygon fill=\"#FFFFFF\" points=\"16,6,96,6,103,28.2969,395,28.2969,395,322,16,322,16,6\" style=\"stroke: #000000; stroke-width: 1.5;\"/><line style=\"stroke: #000000; stroke-width: 1.5;\" x1=\"16\" x2=\"103\" y1=\"28.2969\" y2=\"28.2969\"/><text fill=\"#000000\" font-family=\"sans-serif\" font-size=\"14\" font-weight=\"bold\" lengthAdjust=\"spacingAndGlyphs\" textLength=\"74\" x=\"20\" y=\"20.9951\">ViewTest</text></a><!--MD5=[09b614a08d8cba4a07c9adeb5e0fee81]\n",
       "class E3--><a href=\"psysml:0e16ef0b-675e-475c-a6ab-030697702310\" target=\"_top\" title=\"psysml:0e16ef0b-675e-475c-a6ab-030697702310\" xlink:actuate=\"onRequest\" xlink:href=\"psysml:0e16ef0b-675e-475c-a6ab-030697702310\" xlink:show=\"new\" xlink:title=\"psysml:0e16ef0b-675e-475c-a6ab-030697702310\" xlink:type=\"simple\"><rect fill=\"#FFFFFF\" height=\"45.9375\" id=\"E3\" style=\"stroke: #383838; stroke-width: 1.5;\" width=\"98\" x=\"32\" y=\"260\"/><text fill=\"#000000\" font-family=\"sans-serif\" font-size=\"12\" font-style=\"italic\" lengthAdjust=\"spacingAndGlyphs\" textLength=\"96\" x=\"33\" y=\"276.1387\">«viewpoint def»</text><text fill=\"#000000\" font-family=\"sans-serif\" font-size=\"12\" lengthAdjust=\"spacingAndGlyphs\" textLength=\"16\" x=\"73\" y=\"290.1074\">VP</text><line style=\"stroke: #383838; stroke-width: 1.5;\" x1=\"33\" x2=\"129\" y1=\"297.9375\" y2=\"297.9375\"/></a><!--MD5=[ebbe1d658d1005bcc118a6aa81145e00]\n",
       "class E4--><a href=\"psysml:80b9aeea-925b-4b3a-8c84-ce381a5e60ed\" target=\"_top\" title=\"psysml:80b9aeea-925b-4b3a-8c84-ce381a5e60ed\" xlink:actuate=\"onRequest\" xlink:href=\"psysml:80b9aeea-925b-4b3a-8c84-ce381a5e60ed\" xlink:show=\"new\" xlink:title=\"psysml:80b9aeea-925b-4b3a-8c84-ce381a5e60ed\" xlink:type=\"simple\"><rect fill=\"#FFFFFF\" height=\"45.9375\" id=\"E4\" style=\"stroke: #383838; stroke-width: 1.5;\" width=\"101\" x=\"165.5\" y=\"260\"/><text fill=\"#000000\" font-family=\"sans-serif\" font-size=\"12\" font-style=\"italic\" lengthAdjust=\"spacingAndGlyphs\" textLength=\"99\" x=\"166.5\" y=\"276.1387\">«rendering def»</text><text fill=\"#000000\" font-family=\"sans-serif\" font-size=\"12\" lengthAdjust=\"spacingAndGlyphs\" textLength=\"8\" x=\"212\" y=\"290.1074\">R</text><line style=\"stroke: #383838; stroke-width: 1.5;\" x1=\"166.5\" x2=\"265.5\" y1=\"297.9375\" y2=\"297.9375\"/></a><!--MD5=[270fce915f116d4de14055a7c1d9a0f3]\n",
       "class E5--><a href=\"psysml:fa67c82a-cf4c-4211-8405-b886e7fced61\" target=\"_top\" title=\"psysml:fa67c82a-cf4c-4211-8405-b886e7fced61\" xlink:actuate=\"onRequest\" xlink:href=\"psysml:fa67c82a-cf4c-4211-8405-b886e7fced61\" xlink:show=\"new\" xlink:title=\"psysml:fa67c82a-cf4c-4211-8405-b886e7fced61\" xlink:type=\"simple\"><rect fill=\"#FFFFFF\" height=\"45.9375\" id=\"E5\" style=\"stroke: #383838; stroke-width: 1.5;\" width=\"66\" x=\"230\" y=\"44.5\"/><text fill=\"#000000\" font-family=\"sans-serif\" font-size=\"12\" font-style=\"italic\" lengthAdjust=\"spacingAndGlyphs\" textLength=\"64\" x=\"231\" y=\"60.6387\">«view def»</text><text fill=\"#000000\" font-family=\"sans-serif\" font-size=\"12\" lengthAdjust=\"spacingAndGlyphs\" textLength=\"8\" x=\"259\" y=\"74.6074\">V</text><line style=\"stroke: #383838; stroke-width: 1.5;\" x1=\"231\" x2=\"295\" y1=\"82.4375\" y2=\"82.4375\"/></a><!--MD5=[60a26617385b1d2d0262a64233df1f8d]\n",
       "class E6--><a href=\"psysml:edb93869-3e30-4330-ae7d-f0dbadb8ae6e\" target=\"_top\" title=\"psysml:edb93869-3e30-4330-ae7d-f0dbadb8ae6e\" xlink:actuate=\"onRequest\" xlink:href=\"psysml:edb93869-3e30-4330-ae7d-f0dbadb8ae6e\" xlink:show=\"new\" xlink:title=\"psysml:edb93869-3e30-4330-ae7d-f0dbadb8ae6e\" xlink:type=\"simple\"><rect fill=\"#FFFFFF\" height=\"45.9375\" id=\"E6\" rx=\"10\" ry=\"10\" style=\"stroke: #383838; stroke-width: 1.5;\" width=\"74\" x=\"56\" y=\"154\"/><text fill=\"#000000\" font-family=\"sans-serif\" font-size=\"12\" font-style=\"italic\" lengthAdjust=\"spacingAndGlyphs\" textLength=\"72\" x=\"57\" y=\"170.1387\">«viewpoint»</text><text fill=\"#000000\" font-family=\"sans-serif\" font-size=\"12\" lengthAdjust=\"spacingAndGlyphs\" textLength=\"38\" x=\"74\" y=\"184.1074\">vp: VP</text><line style=\"stroke: #383838; stroke-width: 1.5;\" x1=\"57\" x2=\"129\" y1=\"191.9375\" y2=\"191.9375\"/></a><!--MD5=[2156ba9850f5573cc1fc38a6a4b2f02b]\n",
       "class E7--><a href=\"psysml:d3ad1959-ed24-48c6-b8cb-3101ea5444ce\" target=\"_top\" title=\"psysml:d3ad1959-ed24-48c6-b8cb-3101ea5444ce\" xlink:actuate=\"onRequest\" xlink:href=\"psysml:d3ad1959-ed24-48c6-b8cb-3101ea5444ce\" xlink:show=\"new\" xlink:title=\"psysml:d3ad1959-ed24-48c6-b8cb-3101ea5444ce\" xlink:type=\"simple\"><rect fill=\"#FFFFFF\" height=\"45.9375\" id=\"E7\" rx=\"10\" ry=\"10\" style=\"stroke: #383838; stroke-width: 1.5;\" width=\"77\" x=\"177.5\" y=\"154\"/><text fill=\"#000000\" font-family=\"sans-serif\" font-size=\"12\" font-style=\"italic\" lengthAdjust=\"spacingAndGlyphs\" textLength=\"75\" x=\"178.5\" y=\"170.1387\">«rendering»</text><text fill=\"#000000\" font-family=\"sans-serif\" font-size=\"12\" lengthAdjust=\"spacingAndGlyphs\" textLength=\"21\" x=\"205.5\" y=\"184.1074\">r: R</text><line style=\"stroke: #383838; stroke-width: 1.5;\" x1=\"178.5\" x2=\"253.5\" y1=\"191.9375\" y2=\"191.9375\"/></a><!--MD5=[b9389687b975829384b498ac4b7476b2]\n",
       "class E8--><a href=\"psysml:c79df832-858d-4f87-b041-227cc7f695ce\" target=\"_top\" title=\"psysml:c79df832-858d-4f87-b041-227cc7f695ce\" xlink:actuate=\"onRequest\" xlink:href=\"psysml:c79df832-858d-4f87-b041-227cc7f695ce\" xlink:show=\"new\" xlink:title=\"psysml:c79df832-858d-4f87-b041-227cc7f695ce\" xlink:type=\"simple\"><rect fill=\"#FFFFFF\" height=\"45.9375\" id=\"E8\" rx=\"10\" ry=\"10\" style=\"stroke: #383838; stroke-width: 1.5;\" width=\"42\" x=\"290\" y=\"154\"/><text fill=\"#000000\" font-family=\"sans-serif\" font-size=\"12\" font-style=\"italic\" lengthAdjust=\"spacingAndGlyphs\" textLength=\"40\" x=\"291\" y=\"170.1387\">«view»</text><text fill=\"#000000\" font-family=\"sans-serif\" font-size=\"12\" lengthAdjust=\"spacingAndGlyphs\" textLength=\"22\" x=\"300\" y=\"184.1074\">v: V</text><line style=\"stroke: #383838; stroke-width: 1.5;\" x1=\"291\" x2=\"331\" y1=\"191.9375\" y2=\"191.9375\"/></a><!--MD5=[fd4143e9d270a159db93a4ea2a975926]\n",
       "class E9--><a href=\"psysml:599cc28e-37a4-4871-97e7-8713776fcf23\" target=\"_top\" title=\"psysml:599cc28e-37a4-4871-97e7-8713776fcf23\" xlink:actuate=\"onRequest\" xlink:href=\"psysml:599cc28e-37a4-4871-97e7-8713776fcf23\" xlink:show=\"new\" xlink:title=\"psysml:599cc28e-37a4-4871-97e7-8713776fcf23\" xlink:type=\"simple\"><rect fill=\"#FFFFFF\" height=\"45.9375\" id=\"E9\" rx=\"10\" ry=\"10\" style=\"stroke: #383838; stroke-width: 1.5;\" width=\"77\" x=\"301.5\" y=\"260\"/><text fill=\"#000000\" font-family=\"sans-serif\" font-size=\"12\" font-style=\"italic\" lengthAdjust=\"spacingAndGlyphs\" textLength=\"75\" x=\"302.5\" y=\"276.1387\">«rendering»</text><text fill=\"#000000\" font-family=\"sans-serif\" font-size=\"12\" lengthAdjust=\"spacingAndGlyphs\" textLength=\"13\" x=\"333.5\" y=\"290.1074\">r1</text><line style=\"stroke: #383838; stroke-width: 1.5;\" x1=\"302.5\" x2=\"377.5\" y1=\"297.9375\" y2=\"297.9375\"/></a><a href=\"psysml:d8eb8e98-9fc5-4554-bb79-0a7fb3af234b\" target=\"_top\" title=\"psysml:d8eb8e98-9fc5-4554-bb79-0a7fb3af234b\" xlink:actuate=\"onRequest\" xlink:href=\"psysml:d8eb8e98-9fc5-4554-bb79-0a7fb3af234b\" xlink:show=\"new\" xlink:title=\"psysml:d8eb8e98-9fc5-4554-bb79-0a7fb3af234b\" xlink:type=\"simple\"><polygon fill=\"#FFFFFF\" points=\"122,41,138,41,145,63.2969,152,63.2969,152,93.5938,122,93.5938,122,41\" style=\"stroke: #000000; stroke-width: 1.5;\"/><line style=\"stroke: #000000; stroke-width: 1.5;\" x1=\"122\" x2=\"145\" y1=\"63.2969\" y2=\"63.2969\"/><text fill=\"#000000\" font-family=\"sans-serif\" font-size=\"14\" font-weight=\"bold\" lengthAdjust=\"spacingAndGlyphs\" textLength=\"10\" x=\"126\" y=\"55.9951\">P</text></a><!--MD5=[85d356282659285ab4b2cfe2f634dd2b]\n",
       "reverse link E5 to E6--><a href=\"psysml:edb93869-3e30-4330-ae7d-f0dbadb8ae6e\" target=\"_top\" title=\"psysml:edb93869-3e30-4330-ae7d-f0dbadb8ae6e\" xlink:actuate=\"onRequest\" xlink:href=\"psysml:edb93869-3e30-4330-ae7d-f0dbadb8ae6e\" xlink:show=\"new\" xlink:title=\"psysml:edb93869-3e30-4330-ae7d-f0dbadb8ae6e\" xlink:type=\"simple\"><path d=\"M238.17,103.81 C238.17,103.81 238.17,124 238.17,124 C238.17,124 141,124 141,124 C141,124 141,173.74 141,176.85 \" fill=\"none\" id=\"E5&lt;-E6\" style=\"stroke: #383838; stroke-width: 1.0;\"/><polygon fill=\"#383838\" points=\"238.17,90.81,234.17,96.81,238.17,102.81,242.17,96.81,238.17,90.81\" style=\"stroke: #383838; stroke-width: 1.0;\"/></a><!--MD5=[a717450b82c80b9240a525fa862496af]\n",
       "link E6 to E3--><a href=\"psysml:678c28b1-b825-4869-b6db-341a5ef18df5\" target=\"_top\" title=\"psysml:678c28b1-b825-4869-b6db-341a5ef18df5\" xlink:actuate=\"onRequest\" xlink:href=\"psysml:678c28b1-b825-4869-b6db-341a5ef18df5\" xlink:show=\"new\" xlink:title=\"psysml:678c28b1-b825-4869-b6db-341a5ef18df5\" xlink:type=\"simple\"><path d=\"M93,200 C93,200 93,239.68 93,239.68 \" fill=\"none\" id=\"E6-&gt;E3\" style=\"stroke: #383838; stroke-width: 1.0;\"/><polygon fill=\"#FFFFFF\" points=\"93,259.68,86,240.68,100,240.68,93,259.68\" style=\"stroke: #383838; stroke-width: 1.0;\"/><ellipse cx=\"88\" cy=\"234.98\" fill=\"#383838\" rx=\"2\" ry=\"2\" style=\"stroke: #383838; stroke-width: 1.0;\"/><ellipse cx=\"98\" cy=\"234.98\" fill=\"#383838\" rx=\"2\" ry=\"2\" style=\"stroke: #383838; stroke-width: 1.0;\"/></a><!--MD5=[6bdd27f9905911a7e892a3dc65cf6b7c]\n",
       "link E7 to E4--><a href=\"psysml:e01b0a28-1744-4d35-a29d-a960e4229aec\" target=\"_top\" title=\"psysml:e01b0a28-1744-4d35-a29d-a960e4229aec\" xlink:actuate=\"onRequest\" xlink:href=\"psysml:e01b0a28-1744-4d35-a29d-a960e4229aec\" xlink:show=\"new\" xlink:title=\"psysml:e01b0a28-1744-4d35-a29d-a960e4229aec\" xlink:type=\"simple\"><path d=\"M216,200 C216,200 216,239.68 216,239.68 \" fill=\"none\" id=\"E7-&gt;E4\" style=\"stroke: #383838; stroke-width: 1.0;\"/><polygon fill=\"#FFFFFF\" points=\"216,259.68,209,240.68,223,240.68,216,259.68\" style=\"stroke: #383838; stroke-width: 1.0;\"/><ellipse cx=\"211\" cy=\"234.98\" fill=\"#383838\" rx=\"2\" ry=\"2\" style=\"stroke: #383838; stroke-width: 1.0;\"/><ellipse cx=\"221\" cy=\"234.98\" fill=\"#383838\" rx=\"2\" ry=\"2\" style=\"stroke: #383838; stroke-width: 1.0;\"/></a><!--MD5=[452b418e7f8a40397a49b8c0a78acc5b]\n",
       "reverse link E5 to E7--><a href=\"psysml:d3ad1959-ed24-48c6-b8cb-3101ea5444ce\" target=\"_top\" title=\"psysml:d3ad1959-ed24-48c6-b8cb-3101ea5444ce\" xlink:actuate=\"onRequest\" xlink:href=\"psysml:d3ad1959-ed24-48c6-b8cb-3101ea5444ce\" xlink:show=\"new\" xlink:title=\"psysml:d3ad1959-ed24-48c6-b8cb-3101ea5444ce\" xlink:type=\"simple\"><path d=\"M246.33,103.72 C246.33,103.72 246.33,153.81 246.33,153.81 \" fill=\"none\" id=\"E5&lt;-E7\" style=\"stroke: #383838; stroke-width: 1.0;\"/><polygon fill=\"#383838\" points=\"246.33,90.72,242.33,96.72,246.33,102.72,250.33,96.72,246.33,90.72\" style=\"stroke: #383838; stroke-width: 1.0;\"/><text fill=\"#000000\" font-family=\"sans-serif\" font-size=\"13\" lengthAdjust=\"spacingAndGlyphs\" textLength=\"24\" x=\"227.0271\" y=\"143.0376\">0..1</text></a><!--MD5=[1ccb2481ffa92f8d51a74ee30c51832a]\n",
       "link E8 to E5--><a href=\"psysml:3896f3dd-ac25-48cd-93fb-dac3b3d02068\" target=\"_top\" title=\"psysml:3896f3dd-ac25-48cd-93fb-dac3b3d02068\" xlink:actuate=\"onRequest\" xlink:href=\"psysml:3896f3dd-ac25-48cd-93fb-dac3b3d02068\" xlink:show=\"new\" xlink:title=\"psysml:3896f3dd-ac25-48cd-93fb-dac3b3d02068\" xlink:type=\"simple\"><path d=\"M289.74,170 C285.42,170 282.17,170 282.17,170 C282.17,170 282.17,110.5 282.17,110.5 \" fill=\"none\" id=\"E8-&gt;E5\" style=\"stroke: #383838; stroke-width: 1.0;\"/><polygon fill=\"#FFFFFF\" points=\"282.17,90.5,289.17,109.5,275.17,109.5,282.17,90.5\" style=\"stroke: #383838; stroke-width: 1.0;\"/><ellipse cx=\"287.17\" cy=\"115.2\" fill=\"#383838\" rx=\"2\" ry=\"2\" style=\"stroke: #383838; stroke-width: 1.0;\"/><ellipse cx=\"277.17\" cy=\"115.2\" fill=\"#383838\" rx=\"2\" ry=\"2\" style=\"stroke: #383838; stroke-width: 1.0;\"/></a><!--MD5=[827760032d119d06bbc92f75530fd7ae]\n",
       "reverse link E5 to E8--><a href=\"psysml:c79df832-858d-4f87-b041-227cc7f695ce\" target=\"_top\" title=\"psysml:c79df832-858d-4f87-b041-227cc7f695ce\" xlink:actuate=\"onRequest\" xlink:href=\"psysml:c79df832-858d-4f87-b041-227cc7f695ce\" xlink:show=\"new\" xlink:title=\"psysml:c79df832-858d-4f87-b041-227cc7f695ce\" xlink:type=\"simple\"><path d=\"M274.33,103.71 C274.33,103.71 274.33,185 274.33,185 C274.33,185 281.6,185 289.67,185 \" fill=\"none\" id=\"E5&lt;-E8\" style=\"stroke: #383838; stroke-width: 1.0;\"/><polygon fill=\"#383838\" points=\"274.33,90.71,270.33,96.71,274.33,102.71,278.33,96.71,274.33,90.71\" style=\"stroke: #383838; stroke-width: 1.0;\"/><text fill=\"#000000\" font-family=\"sans-serif\" font-size=\"13\" lengthAdjust=\"spacingAndGlyphs\" textLength=\"7\" x=\"275.0658\" y=\"182.2499\">*</text></a><!--MD5=[22f5b4bae7e060dce8a1c8021efdb95b]\n",
       "reverse link E8 to E9--><a href=\"psysml:599cc28e-37a4-4871-97e7-8713776fcf23\" target=\"_top\" title=\"psysml:599cc28e-37a4-4871-97e7-8713776fcf23\" xlink:actuate=\"onRequest\" xlink:href=\"psysml:599cc28e-37a4-4871-97e7-8713776fcf23\" xlink:show=\"new\" xlink:title=\"psysml:599cc28e-37a4-4871-97e7-8713776fcf23\" xlink:type=\"simple\"><path d=\"M316.75,213 C316.75,213 316.75,259.68 316.75,259.68 \" fill=\"none\" id=\"E8&lt;-E9\" style=\"stroke: #383838; stroke-width: 1.0;\"/><polygon fill=\"#383838\" points=\"316.75,200,312.75,206,316.75,212,320.75,206,316.75,200\" style=\"stroke: #383838; stroke-width: 1.0;\"/></a><!--MD5=[2c22b5bbf0cd22cff0b63db47ba77c19]\n",
       "@startuml\r\n",
       "skinparam linetype ortho\r\n",
       "skinparam monochrome true\r\n",
       "skinparam classbackgroundcolor white\r\n",
       "skinparam shadowing false\r\n",
       "skinparam wrapWidth 300\r\n",
       "hide circle\r\n",
       "\r\n",
       "package \"ViewTest\" as E1  [[psysml:68a4efc3-4169-49c4-b08f-98091c4bc0be ]]  {\r\n",
       "package \"P\" as E2  [[psysml:d8eb8e98-9fc5-4554-bb79-0a7fb3af234b ]]  {\r\n",
       "}\r\n",
       "comp def \"VP\" as E3  <<(T,blue)viewpoint def>> [[psysml:0e16ef0b-675e-475c-a6ab-030697702310 ]] {\r\n",
       "}\r\n",
       "comp def \"R\" as E4  <<(T,blue)rendering def>> [[psysml:80b9aeea-925b-4b3a-8c84-ce381a5e60ed ]] {\r\n",
       "}\r\n",
       "comp def \"V\" as E5  <<(T,blue)view def>> [[psysml:fa67c82a-cf4c-4211-8405-b886e7fced61 ]] {\r\n",
       "}\r\n",
       "comp usage \"vp: VP\" as E6  <<(T,blue)viewpoint>> [[psysml:edb93869-3e30-4330-ae7d-f0dbadb8ae6e ]] {\r\n",
       "}\r\n",
       "comp usage \"r: R\" as E7  <<(T,blue)rendering>> [[psysml:d3ad1959-ed24-48c6-b8cb-3101ea5444ce ]] {\r\n",
       "}\r\n",
       "comp usage \"v: V\" as E8  <<(T,blue)view>> [[psysml:c79df832-858d-4f87-b041-227cc7f695ce ]] {\r\n",
       "}\r\n",
       "comp usage \"r1\" as E9  <<(T,blue)rendering>> [[psysml:599cc28e-37a4-4871-97e7-8713776fcf23 ]] {\r\n",
       "}\r\n",
       "E5 *- - E6 [[psysml:edb93869-3e30-4330-ae7d-f0dbadb8ae6e ]] \r\n",
       "E6 - -:|> E3 [[psysml:678c28b1-b825-4869-b6db-341a5ef18df5 ]] \r\n",
       "E7 - -:|> E4 [[psysml:e01b0a28-1744-4d35-a29d-a960e4229aec ]] \r\n",
       "E5 *- - \"0..1\"E7 [[psysml:d3ad1959-ed24-48c6-b8cb-3101ea5444ce ]] \r\n",
       "E8 - -:|> E5 [[psysml:3896f3dd-ac25-48cd-93fb-dac3b3d02068 ]] \r\n",
       "E5 *- - \"*\"E8 [[psysml:c79df832-858d-4f87-b041-227cc7f695ce ]] \r\n",
       "E8 *- - E9 [[psysml:599cc28e-37a4-4871-97e7-8713776fcf23 ]] \r\n",
       "}\r\n",
       "@enduml\r\n",
       "\n",
       "PlantUML version 1.2020.13(Sat Jun 13 12:26:38 UTC 2020)\n",
       "(EPL source distribution)\n",
       "Java Runtime: OpenJDK Runtime Environment\n",
       "JVM: OpenJDK 64-Bit Server VM\n",
       "Default Encoding: UTF-8\n",
       "Language: en\n",
       "Country: null\n",
       "--></g></svg>"
      ]
     },
     "execution_count": 52,
     "metadata": {},
     "output_type": "execute_result"
    }
   ],
   "source": [
    "%viz --style=\"ORTHOLINE\" --view=\"Tree\" \"ViewTest\""
   ]
  },
  {
   "cell_type": "code",
   "execution_count": 53,
   "id": "clean-brother",
   "metadata": {
    "execution": {
     "iopub.execute_input": "2021-03-25T15:10:07.919236Z",
     "iopub.status.busy": "2021-03-25T15:10:07.918728Z",
     "iopub.status.idle": "2021-03-25T15:10:07.927196Z",
     "shell.execute_reply": "2021-03-25T15:10:07.927770Z"
    }
   },
   "outputs": [
    {
     "data": {
      "image/svg+xml": [
       "<?xml version=\"1.0\" encoding=\"UTF-8\" standalone=\"no\"?><svg xmlns=\"http://www.w3.org/2000/svg\" xmlns:xlink=\"http://www.w3.org/1999/xlink\" contentScriptType=\"application/ecmascript\" contentStyleType=\"text/css\" height=\"12px\" preserveAspectRatio=\"none\" style=\"width:12px;height:12px;\" version=\"1.1\" viewBox=\"0 0 12 12\" width=\"12px\" zoomAndPan=\"magnify\"><defs/><g><!--MD5=[97d6f38768b311333d388e66b2b27985]\n",
       "@startuml\r\n",
       "skinparam linetype ortho\r\n",
       "skinparam monochrome true\r\n",
       "skinparam classbackgroundcolor white\r\n",
       "skinparam shadowing false\r\n",
       "skinparam wrapWidth 300\r\n",
       "hide circle\r\n",
       "\r\n",
       "@enduml\r\n",
       "\n",
       "PlantUML version 1.2020.13(Sat Jun 13 12:26:38 UTC 2020)\n",
       "(EPL source distribution)\n",
       "Java Runtime: OpenJDK Runtime Environment\n",
       "JVM: OpenJDK 64-Bit Server VM\n",
       "Default Encoding: UTF-8\n",
       "Language: en\n",
       "Country: null\n",
       "--></g></svg>"
      ]
     },
     "execution_count": 53,
     "metadata": {},
     "output_type": "execute_result"
    }
   ],
   "source": [
    "%viz --style=\"ORTHOLINE\" --view=\"State\" \"ViewTest\""
   ]
  },
  {
   "cell_type": "code",
   "execution_count": 54,
   "id": "functioning-reconstruction",
   "metadata": {
    "execution": {
     "iopub.execute_input": "2021-03-25T15:10:07.979716Z",
     "iopub.status.busy": "2021-03-25T15:10:07.978999Z",
     "iopub.status.idle": "2021-03-25T15:10:08.108698Z",
     "shell.execute_reply": "2021-03-25T15:10:08.107143Z"
    }
   },
   "outputs": [
    {
     "data": {
      "image/svg+xml": [
       "<?xml version=\"1.0\" encoding=\"UTF-8\" standalone=\"no\"?><svg xmlns=\"http://www.w3.org/2000/svg\" xmlns:xlink=\"http://www.w3.org/1999/xlink\" contentScriptType=\"application/ecmascript\" contentStyleType=\"text/css\" height=\"278px\" preserveAspectRatio=\"none\" style=\"width:778px;height:278px;\" version=\"1.1\" viewBox=\"0 0 778 278\" width=\"778px\" zoomAndPan=\"magnify\"><defs/><g><!--MD5=[fbc87193dbaf4d95561dea2c320d4a47]\n",
       "cluster E1--><a href=\"psysml:68a4efc3-4169-49c4-b08f-98091c4bc0be\" target=\"_top\" title=\"psysml:68a4efc3-4169-49c4-b08f-98091c4bc0be\" xlink:actuate=\"onRequest\" xlink:href=\"psysml:68a4efc3-4169-49c4-b08f-98091c4bc0be\" xlink:show=\"new\" xlink:title=\"psysml:68a4efc3-4169-49c4-b08f-98091c4bc0be\" xlink:type=\"simple\"><polygon fill=\"#FFFFFF\" points=\"16,6,96,6,103,28.2969,756,28.2969,756,266,16,266,16,6\" style=\"stroke: #000000; stroke-width: 1.5;\"/><line style=\"stroke: #000000; stroke-width: 1.5;\" x1=\"16\" x2=\"103\" y1=\"28.2969\" y2=\"28.2969\"/><text fill=\"#000000\" font-family=\"sans-serif\" font-size=\"14\" font-weight=\"bold\" lengthAdjust=\"spacingAndGlyphs\" textLength=\"74\" x=\"20\" y=\"20.9951\">ViewTest</text></a><!--MD5=[de5ec2e2e8f62f467e546659f5068c88]\n",
       "cluster E5--><a href=\"psysml:fa67c82a-cf4c-4211-8405-b886e7fced61\" target=\"_top\" title=\"psysml:fa67c82a-cf4c-4211-8405-b886e7fced61\" xlink:actuate=\"onRequest\" xlink:href=\"psysml:fa67c82a-cf4c-4211-8405-b886e7fced61\" xlink:show=\"new\" xlink:title=\"psysml:fa67c82a-cf4c-4211-8405-b886e7fced61\" xlink:type=\"simple\"><rect fill=\"#FFFFFF\" height=\"193\" id=\"E5\" style=\"stroke: #383838; stroke-width: 1.5;\" width=\"329\" x=\"403\" y=\"49\"/><rect fill=\"#F8F8F8\" height=\"37.9375\" style=\"stroke: #383838; stroke-width: 1.5;\" width=\"329\" x=\"403\" y=\"49\"/><text fill=\"#000000\" font-family=\"sans-serif\" font-size=\"12\" font-style=\"italic\" lengthAdjust=\"spacingAndGlyphs\" textLength=\"64\" x=\"535.5\" y=\"65.1387\">«view def»</text><text fill=\"#000000\" font-family=\"sans-serif\" font-size=\"12\" lengthAdjust=\"spacingAndGlyphs\" textLength=\"8\" x=\"563.5\" y=\"79.1074\">V</text></a><!--MD5=[14e3b0961a2654348d326746436168a1]\n",
       "cluster E6--><a href=\"psysml:edb93869-3e30-4330-ae7d-f0dbadb8ae6e\" target=\"_top\" title=\"psysml:edb93869-3e30-4330-ae7d-f0dbadb8ae6e\" xlink:actuate=\"onRequest\" xlink:href=\"psysml:edb93869-3e30-4330-ae7d-f0dbadb8ae6e\" xlink:show=\"new\" xlink:title=\"psysml:edb93869-3e30-4330-ae7d-f0dbadb8ae6e\" xlink:type=\"simple\"><rect fill=\"#FFFFFF\" height=\"110\" id=\"E6\" rx=\"10\" ry=\"10\" style=\"stroke: #383838; stroke-width: 1.5;\" width=\"114\" x=\"594\" y=\"108\"/><rect fill=\"#F8F8F8\" height=\"37.9375\" rx=\"10\" ry=\"10\" style=\"stroke: #F8F8F8; stroke-width: 1.5;\" width=\"114\" x=\"594\" y=\"108\"/><rect fill=\"#F8F8F8\" height=\"10\" style=\"stroke: #F8F8F8; stroke-width: 1.5;\" width=\"114\" x=\"594\" y=\"135.9375\"/><rect fill=\"none\" height=\"110\" id=\"E6\" rx=\"10\" ry=\"10\" style=\"stroke: #383838; stroke-width: 1.5;\" width=\"114\" x=\"594\" y=\"108\"/><text fill=\"#000000\" font-family=\"sans-serif\" font-size=\"12\" font-style=\"italic\" lengthAdjust=\"spacingAndGlyphs\" textLength=\"72\" x=\"615\" y=\"124.1387\">«viewpoint»</text><text fill=\"#000000\" font-family=\"sans-serif\" font-size=\"12\" lengthAdjust=\"spacingAndGlyphs\" textLength=\"38\" x=\"632\" y=\"138.1074\">vp: VP</text><line style=\"stroke: #383838; stroke-width: 1.0;\" x1=\"594\" x2=\"708\" y1=\"145.9375\" y2=\"145.9375\"/></a><!--MD5=[7f149f147074ac12df2cb0a7728a5fb0]\n",
       "cluster E9--><a href=\"psysml:c79df832-858d-4f87-b041-227cc7f695ce\" target=\"_top\" title=\"psysml:c79df832-858d-4f87-b041-227cc7f695ce\" xlink:actuate=\"onRequest\" xlink:href=\"psysml:c79df832-858d-4f87-b041-227cc7f695ce\" xlink:show=\"new\" xlink:title=\"psysml:c79df832-858d-4f87-b041-227cc7f695ce\" xlink:type=\"simple\"><rect fill=\"#FFFFFF\" height=\"91\" id=\"E9\" rx=\"10\" ry=\"10\" style=\"stroke: #383838; stroke-width: 1.5;\" width=\"82\" x=\"488\" y=\"125.5\"/><rect fill=\"#F8F8F8\" height=\"23.9688\" rx=\"10\" ry=\"10\" style=\"stroke: #F8F8F8; stroke-width: 1.5;\" width=\"82\" x=\"488\" y=\"125.5\"/><rect fill=\"#F8F8F8\" height=\"10\" style=\"stroke: #F8F8F8; stroke-width: 1.5;\" width=\"82\" x=\"488\" y=\"139.4688\"/><rect fill=\"none\" height=\"91\" id=\"E9\" rx=\"10\" ry=\"10\" style=\"stroke: #383838; stroke-width: 1.5;\" width=\"82\" x=\"488\" y=\"125.5\"/><text fill=\"#000000\" font-family=\"sans-serif\" font-size=\"12\" lengthAdjust=\"spacingAndGlyphs\" textLength=\"22\" x=\"518\" y=\"141.6387\">v: V</text><line style=\"stroke: #383838; stroke-width: 1.0;\" x1=\"488\" x2=\"570\" y1=\"149.4688\" y2=\"149.4688\"/></a><!--MD5=[09b614a08d8cba4a07c9adeb5e0fee81]\n",
       "class E3--><a href=\"psysml:0e16ef0b-675e-475c-a6ab-030697702310\" target=\"_top\" title=\"psysml:0e16ef0b-675e-475c-a6ab-030697702310\" xlink:actuate=\"onRequest\" xlink:href=\"psysml:0e16ef0b-675e-475c-a6ab-030697702310\" xlink:show=\"new\" xlink:title=\"psysml:0e16ef0b-675e-475c-a6ab-030697702310\" xlink:type=\"simple\"><rect fill=\"#FFFFFF\" height=\"53.9375\" id=\"E3\" style=\"stroke: #383838; stroke-width: 1.5;\" width=\"146\" x=\"238\" y=\"153.5\"/><text fill=\"#000000\" font-family=\"sans-serif\" font-size=\"12\" font-style=\"italic\" lengthAdjust=\"spacingAndGlyphs\" textLength=\"144\" x=\"239\" y=\"169.6387\">«(T,blue)viewpoint def»</text><text fill=\"#000000\" font-family=\"sans-serif\" font-size=\"12\" lengthAdjust=\"spacingAndGlyphs\" textLength=\"16\" x=\"303\" y=\"183.6074\">VP</text><line style=\"stroke: #383838; stroke-width: 1.5;\" x1=\"239\" x2=\"383\" y1=\"191.4375\" y2=\"191.4375\"/><line style=\"stroke: #383838; stroke-width: 1.5;\" x1=\"239\" x2=\"383\" y1=\"199.4375\" y2=\"199.4375\"/></a><a href=\"psysml:d8eb8e98-9fc5-4554-bb79-0a7fb3af234b\" target=\"_top\" title=\"psysml:d8eb8e98-9fc5-4554-bb79-0a7fb3af234b\" xlink:actuate=\"onRequest\" xlink:href=\"psysml:d8eb8e98-9fc5-4554-bb79-0a7fb3af234b\" xlink:show=\"new\" xlink:title=\"psysml:d8eb8e98-9fc5-4554-bb79-0a7fb3af234b\" xlink:type=\"simple\"><polygon fill=\"#FFFFFF\" points=\"173,154,189,154,196,176.2969,203,176.2969,203,206.5938,173,206.5938,173,154\" style=\"stroke: #000000; stroke-width: 1.5;\"/><line style=\"stroke: #000000; stroke-width: 1.5;\" x1=\"173\" x2=\"196\" y1=\"176.2969\" y2=\"176.2969\"/><text fill=\"#000000\" font-family=\"sans-serif\" font-size=\"14\" font-weight=\"bold\" lengthAdjust=\"spacingAndGlyphs\" textLength=\"10\" x=\"177\" y=\"168.9951\">P</text></a><g id=\"E1.E4\"><a href=\"psysml:80b9aeea-925b-4b3a-8c84-ce381a5e60ed\" target=\"_top\" title=\"psysml:80b9aeea-925b-4b3a-8c84-ce381a5e60ed\" xlink:actuate=\"onRequest\" xlink:href=\"psysml:80b9aeea-925b-4b3a-8c84-ce381a5e60ed\" xlink:show=\"new\" xlink:title=\"psysml:80b9aeea-925b-4b3a-8c84-ce381a5e60ed\" xlink:type=\"simple\"><rect fill=\"#FFFFFF\" height=\"42.9375\" id=\"E4\" style=\"stroke: #383838; stroke-width: 1.5;\" width=\"106\" x=\"32\" y=\"159\"/><rect fill=\"#F8F8F8\" height=\"37.9375\" style=\"stroke: #383838; stroke-width: 1.5;\" width=\"106\" x=\"32\" y=\"159\"/><text fill=\"#000000\" font-family=\"sans-serif\" font-size=\"12\" font-style=\"italic\" lengthAdjust=\"spacingAndGlyphs\" textLength=\"99\" x=\"35.5\" y=\"175.1387\">«rendering def»</text><text fill=\"#000000\" font-family=\"sans-serif\" font-size=\"12\" lengthAdjust=\"spacingAndGlyphs\" textLength=\"8\" x=\"81\" y=\"189.1074\">R</text></a></g><g id=\"E1.E5.E6.E7\"><a href=\"psysml:df90ec85-1f95-42f9-8740-37e2136842a3\" target=\"_top\" title=\"psysml:df90ec85-1f95-42f9-8740-37e2136842a3\" xlink:actuate=\"onRequest\" xlink:href=\"psysml:df90ec85-1f95-42f9-8740-37e2136842a3\" xlink:show=\"new\" xlink:title=\"psysml:df90ec85-1f95-42f9-8740-37e2136842a3\" xlink:type=\"simple\"><rect fill=\"#FFFFFF\" height=\"42.9375\" id=\"E7\" rx=\"10\" ry=\"10\" style=\"stroke: #383838; stroke-width: 1.5;\" width=\"82\" x=\"610\" y=\"159\"/><rect fill=\"#F8F8F8\" height=\"37.9375\" rx=\"10\" ry=\"10\" style=\"stroke: #F8F8F8; stroke-width: 1.5;\" width=\"82\" x=\"610\" y=\"159\"/><rect fill=\"#F8F8F8\" height=\"10\" style=\"stroke: #F8F8F8; stroke-width: 1.5;\" width=\"82\" x=\"610\" y=\"186.9375\"/><rect fill=\"none\" height=\"42.9375\" id=\"E7\" rx=\"10\" ry=\"10\" style=\"stroke: #383838; stroke-width: 1.5;\" width=\"82\" x=\"610\" y=\"159\"/><text fill=\"#000000\" font-family=\"sans-serif\" font-size=\"12\" font-style=\"italic\" lengthAdjust=\"spacingAndGlyphs\" textLength=\"75\" x=\"613.5\" y=\"175.1387\">«reference»</text><text fill=\"#000000\" font-family=\"sans-serif\" font-size=\"12\" lengthAdjust=\"spacingAndGlyphs\" textLength=\"26\" x=\"638\" y=\"189.1074\">subj</text></a></g><g id=\"E1.E5.E8\"><a href=\"psysml:d3ad1959-ed24-48c6-b8cb-3101ea5444ce\" target=\"_top\" title=\"psysml:d3ad1959-ed24-48c6-b8cb-3101ea5444ce\" xlink:actuate=\"onRequest\" xlink:href=\"psysml:d3ad1959-ed24-48c6-b8cb-3101ea5444ce\" xlink:show=\"new\" xlink:title=\"psysml:d3ad1959-ed24-48c6-b8cb-3101ea5444ce\" xlink:type=\"simple\"><rect fill=\"#FFFFFF\" height=\"40\" id=\"E8\" rx=\"10\" ry=\"10\" style=\"stroke: #383838; stroke-width: 1.5;\" width=\"50\" x=\"419\" y=\"160.5\"/><rect fill=\"#F8F8F8\" height=\"23.9688\" rx=\"10\" ry=\"10\" style=\"stroke: #F8F8F8; stroke-width: 1.5;\" width=\"50\" x=\"419\" y=\"160.5\"/><rect fill=\"#F8F8F8\" height=\"10\" style=\"stroke: #F8F8F8; stroke-width: 1.5;\" width=\"50\" x=\"419\" y=\"174.4688\"/><rect fill=\"none\" height=\"40\" id=\"E8\" rx=\"10\" ry=\"10\" style=\"stroke: #383838; stroke-width: 1.5;\" width=\"50\" x=\"419\" y=\"160.5\"/><text fill=\"#000000\" font-family=\"sans-serif\" font-size=\"12\" lengthAdjust=\"spacingAndGlyphs\" textLength=\"21\" x=\"433.5\" y=\"176.6387\">r: R</text></a></g><g id=\"E1.E5.E9.E10\"><a href=\"psysml:599cc28e-37a4-4871-97e7-8713776fcf23\" target=\"_top\" title=\"psysml:599cc28e-37a4-4871-97e7-8713776fcf23\" xlink:actuate=\"onRequest\" xlink:href=\"psysml:599cc28e-37a4-4871-97e7-8713776fcf23\" xlink:show=\"new\" xlink:title=\"psysml:599cc28e-37a4-4871-97e7-8713776fcf23\" xlink:type=\"simple\"><rect fill=\"#FFFFFF\" height=\"40\" id=\"E10\" rx=\"10\" ry=\"10\" style=\"stroke: #383838; stroke-width: 1.5;\" width=\"50\" x=\"504\" y=\"160.5\"/><rect fill=\"#F8F8F8\" height=\"23.9688\" rx=\"10\" ry=\"10\" style=\"stroke: #F8F8F8; stroke-width: 1.5;\" width=\"50\" x=\"504\" y=\"160.5\"/><rect fill=\"#F8F8F8\" height=\"10\" style=\"stroke: #F8F8F8; stroke-width: 1.5;\" width=\"50\" x=\"504\" y=\"174.4688\"/><rect fill=\"none\" height=\"40\" id=\"E10\" rx=\"10\" ry=\"10\" style=\"stroke: #383838; stroke-width: 1.5;\" width=\"50\" x=\"504\" y=\"160.5\"/><text fill=\"#000000\" font-family=\"sans-serif\" font-size=\"12\" lengthAdjust=\"spacingAndGlyphs\" textLength=\"13\" x=\"522.5\" y=\"176.6387\">r1</text></a></g><!--MD5=[c7ac8708a7a34d4ce57fdffdbe56f59d]\n",
       "@startuml\r\n",
       "skinparam ranksep 8\r\n",
       "skinparam rectangle {\r\n",
       " backgroundColor<<block>> LightGreen\r\n",
       "}\r\n",
       "skinparam linetype ortho\r\n",
       "skinparam monochrome true\r\n",
       "skinparam classbackgroundcolor white\r\n",
       "skinparam shadowing false\r\n",
       "skinparam wrapWidth 300\r\n",
       "hide circle\r\n",
       "\r\n",
       "package \"ViewTest\" as E1  [[psysml:68a4efc3-4169-49c4-b08f-98091c4bc0be ]]  {\r\n",
       "package \"P\" as E2  [[psysml:d8eb8e98-9fc5-4554-bb79-0a7fb3af234b ]]  {\r\n",
       "}\r\n",
       "def \"VP\" as E3  <<(T,blue)viewpoint def>> [[psysml:0e16ef0b-675e-475c-a6ab-030697702310 ]] \r\n",
       "rec def \"R\" as E4  <<(T,blue)rendering def>> [[psysml:80b9aeea-925b-4b3a-8c84-ce381a5e60ed ]] {\r\n",
       "}\r\n",
       "rec def \"V\" as E5  <<(T,blue)view def>> [[psysml:fa67c82a-cf4c-4211-8405-b886e7fced61 ]] {\r\n",
       "rec usage \"vp: VP\" as E6  <<(T,blue)viewpoint>> [[psysml:edb93869-3e30-4330-ae7d-f0dbadb8ae6e ]] {\r\n",
       "rec usage \"subj\" as E7  <<(T,blue)reference>> [[psysml:df90ec85-1f95-42f9-8740-37e2136842a3 ]] {\r\n",
       "}\r\n",
       "}\r\n",
       "rec usage \"r: R\" as E8  [[psysml:d3ad1959-ed24-48c6-b8cb-3101ea5444ce ]] {\r\n",
       "}\r\n",
       "rec usage \"v: V\" as E9  [[psysml:c79df832-858d-4f87-b041-227cc7f695ce ]] {\r\n",
       "rec usage \"r1\" as E10  [[psysml:599cc28e-37a4-4871-97e7-8713776fcf23 ]] {\r\n",
       "}\r\n",
       "}\r\n",
       "}\r\n",
       "}\r\n",
       "@enduml\r\n",
       "\n",
       "PlantUML version 1.2020.13(Sat Jun 13 12:26:38 UTC 2020)\n",
       "(EPL source distribution)\n",
       "Java Runtime: OpenJDK Runtime Environment\n",
       "JVM: OpenJDK 64-Bit Server VM\n",
       "Default Encoding: UTF-8\n",
       "Language: en\n",
       "Country: null\n",
       "--></g></svg>"
      ]
     },
     "execution_count": 54,
     "metadata": {},
     "output_type": "execute_result"
    }
   ],
   "source": [
    "%viz --style=\"ORTHOLINE\" --view=\"Interconnection\" \"ViewTest\""
   ]
  },
  {
   "cell_type": "code",
   "execution_count": 55,
   "id": "higher-mother",
   "metadata": {
    "execution": {
     "iopub.execute_input": "2021-03-25T15:10:08.160118Z",
     "iopub.status.busy": "2021-03-25T15:10:08.159153Z",
     "iopub.status.idle": "2021-03-25T15:10:08.167261Z",
     "shell.execute_reply": "2021-03-25T15:10:08.167724Z"
    }
   },
   "outputs": [
    {
     "data": {
      "image/svg+xml": [
       "<?xml version=\"1.0\" encoding=\"UTF-8\" standalone=\"no\"?><svg xmlns=\"http://www.w3.org/2000/svg\" xmlns:xlink=\"http://www.w3.org/1999/xlink\" contentScriptType=\"application/ecmascript\" contentStyleType=\"text/css\" height=\"12px\" preserveAspectRatio=\"none\" style=\"width:12px;height:12px;\" version=\"1.1\" viewBox=\"0 0 12 12\" width=\"12px\" zoomAndPan=\"magnify\"><defs/><g><!--MD5=[72934c63077099a26744516a776b4749]\n",
       "@startuml\r\n",
       "skinparam ranksep 8\r\n",
       "skinparam linetype ortho\r\n",
       "skinparam monochrome true\r\n",
       "skinparam classbackgroundcolor white\r\n",
       "skinparam shadowing false\r\n",
       "skinparam wrapWidth 300\r\n",
       "hide circle\r\n",
       "\r\n",
       "@enduml\r\n",
       "\n",
       "PlantUML version 1.2020.13(Sat Jun 13 12:26:38 UTC 2020)\n",
       "(EPL source distribution)\n",
       "Java Runtime: OpenJDK Runtime Environment\n",
       "JVM: OpenJDK 64-Bit Server VM\n",
       "Default Encoding: UTF-8\n",
       "Language: en\n",
       "Country: null\n",
       "--></g></svg>"
      ]
     },
     "execution_count": 55,
     "metadata": {},
     "output_type": "execute_result"
    }
   ],
   "source": [
    "%viz --style=\"ORTHOLINE\" --view=\"Action\" \"ViewTest\""
   ]
  },
  {
   "cell_type": "code",
   "execution_count": 56,
   "id": "generic-february",
   "metadata": {
    "execution": {
     "iopub.execute_input": "2021-03-25T15:10:08.218755Z",
     "iopub.status.busy": "2021-03-25T15:10:08.218169Z",
     "iopub.status.idle": "2021-03-25T15:10:08.313617Z",
     "shell.execute_reply": "2021-03-25T15:10:08.312950Z"
    }
   },
   "outputs": [
    {
     "data": {
      "image/svg+xml": [
       "<?xml version=\"1.0\" encoding=\"UTF-8\" standalone=\"no\"?><svg xmlns=\"http://www.w3.org/2000/svg\" xmlns:xlink=\"http://www.w3.org/1999/xlink\" contentScriptType=\"application/ecmascript\" contentStyleType=\"text/css\" height=\"334px\" preserveAspectRatio=\"none\" style=\"width:417px;height:334px;\" version=\"1.1\" viewBox=\"0 0 417 334\" width=\"417px\" zoomAndPan=\"magnify\"><defs/><g><!--MD5=[fbc87193dbaf4d95561dea2c320d4a47]\n",
       "cluster E1--><a href=\"psysml:68a4efc3-4169-49c4-b08f-98091c4bc0be\" target=\"_top\" title=\"psysml:68a4efc3-4169-49c4-b08f-98091c4bc0be\" xlink:actuate=\"onRequest\" xlink:href=\"psysml:68a4efc3-4169-49c4-b08f-98091c4bc0be\" xlink:show=\"new\" xlink:title=\"psysml:68a4efc3-4169-49c4-b08f-98091c4bc0be\" xlink:type=\"simple\"><polygon fill=\"#FFFFFF\" points=\"16,6,96,6,103,28.2969,395,28.2969,395,322,16,322,16,6\" style=\"stroke: #000000; stroke-width: 1.5;\"/><line style=\"stroke: #000000; stroke-width: 1.5;\" x1=\"16\" x2=\"103\" y1=\"28.2969\" y2=\"28.2969\"/><text fill=\"#000000\" font-family=\"sans-serif\" font-size=\"14\" font-weight=\"bold\" lengthAdjust=\"spacingAndGlyphs\" textLength=\"74\" x=\"20\" y=\"20.9951\">ViewTest</text></a><!--MD5=[09b614a08d8cba4a07c9adeb5e0fee81]\n",
       "class E3--><a href=\"psysml:0e16ef0b-675e-475c-a6ab-030697702310\" target=\"_top\" title=\"psysml:0e16ef0b-675e-475c-a6ab-030697702310\" xlink:actuate=\"onRequest\" xlink:href=\"psysml:0e16ef0b-675e-475c-a6ab-030697702310\" xlink:show=\"new\" xlink:title=\"psysml:0e16ef0b-675e-475c-a6ab-030697702310\" xlink:type=\"simple\"><rect fill=\"#FFFFFF\" height=\"45.9375\" id=\"E3\" style=\"stroke: #383838; stroke-width: 1.5;\" width=\"98\" x=\"32\" y=\"260\"/><text fill=\"#000000\" font-family=\"sans-serif\" font-size=\"12\" font-style=\"italic\" lengthAdjust=\"spacingAndGlyphs\" textLength=\"96\" x=\"33\" y=\"276.1387\">«viewpoint def»</text><text fill=\"#000000\" font-family=\"sans-serif\" font-size=\"12\" lengthAdjust=\"spacingAndGlyphs\" textLength=\"16\" x=\"73\" y=\"290.1074\">VP</text><line style=\"stroke: #383838; stroke-width: 1.5;\" x1=\"33\" x2=\"129\" y1=\"297.9375\" y2=\"297.9375\"/></a><!--MD5=[ebbe1d658d1005bcc118a6aa81145e00]\n",
       "class E4--><a href=\"psysml:80b9aeea-925b-4b3a-8c84-ce381a5e60ed\" target=\"_top\" title=\"psysml:80b9aeea-925b-4b3a-8c84-ce381a5e60ed\" xlink:actuate=\"onRequest\" xlink:href=\"psysml:80b9aeea-925b-4b3a-8c84-ce381a5e60ed\" xlink:show=\"new\" xlink:title=\"psysml:80b9aeea-925b-4b3a-8c84-ce381a5e60ed\" xlink:type=\"simple\"><rect fill=\"#FFFFFF\" height=\"45.9375\" id=\"E4\" style=\"stroke: #383838; stroke-width: 1.5;\" width=\"101\" x=\"165.5\" y=\"260\"/><text fill=\"#000000\" font-family=\"sans-serif\" font-size=\"12\" font-style=\"italic\" lengthAdjust=\"spacingAndGlyphs\" textLength=\"99\" x=\"166.5\" y=\"276.1387\">«rendering def»</text><text fill=\"#000000\" font-family=\"sans-serif\" font-size=\"12\" lengthAdjust=\"spacingAndGlyphs\" textLength=\"8\" x=\"212\" y=\"290.1074\">R</text><line style=\"stroke: #383838; stroke-width: 1.5;\" x1=\"166.5\" x2=\"265.5\" y1=\"297.9375\" y2=\"297.9375\"/></a><!--MD5=[270fce915f116d4de14055a7c1d9a0f3]\n",
       "class E5--><a href=\"psysml:fa67c82a-cf4c-4211-8405-b886e7fced61\" target=\"_top\" title=\"psysml:fa67c82a-cf4c-4211-8405-b886e7fced61\" xlink:actuate=\"onRequest\" xlink:href=\"psysml:fa67c82a-cf4c-4211-8405-b886e7fced61\" xlink:show=\"new\" xlink:title=\"psysml:fa67c82a-cf4c-4211-8405-b886e7fced61\" xlink:type=\"simple\"><rect fill=\"#FFFFFF\" height=\"45.9375\" id=\"E5\" style=\"stroke: #383838; stroke-width: 1.5;\" width=\"66\" x=\"230\" y=\"44.5\"/><text fill=\"#000000\" font-family=\"sans-serif\" font-size=\"12\" font-style=\"italic\" lengthAdjust=\"spacingAndGlyphs\" textLength=\"64\" x=\"231\" y=\"60.6387\">«view def»</text><text fill=\"#000000\" font-family=\"sans-serif\" font-size=\"12\" lengthAdjust=\"spacingAndGlyphs\" textLength=\"8\" x=\"259\" y=\"74.6074\">V</text><line style=\"stroke: #383838; stroke-width: 1.5;\" x1=\"231\" x2=\"295\" y1=\"82.4375\" y2=\"82.4375\"/></a><!--MD5=[60a26617385b1d2d0262a64233df1f8d]\n",
       "class E6--><a href=\"psysml:edb93869-3e30-4330-ae7d-f0dbadb8ae6e\" target=\"_top\" title=\"psysml:edb93869-3e30-4330-ae7d-f0dbadb8ae6e\" xlink:actuate=\"onRequest\" xlink:href=\"psysml:edb93869-3e30-4330-ae7d-f0dbadb8ae6e\" xlink:show=\"new\" xlink:title=\"psysml:edb93869-3e30-4330-ae7d-f0dbadb8ae6e\" xlink:type=\"simple\"><rect fill=\"#FFFFFF\" height=\"45.9375\" id=\"E6\" rx=\"10\" ry=\"10\" style=\"stroke: #383838; stroke-width: 1.5;\" width=\"74\" x=\"56\" y=\"154\"/><text fill=\"#000000\" font-family=\"sans-serif\" font-size=\"12\" font-style=\"italic\" lengthAdjust=\"spacingAndGlyphs\" textLength=\"72\" x=\"57\" y=\"170.1387\">«viewpoint»</text><text fill=\"#000000\" font-family=\"sans-serif\" font-size=\"12\" lengthAdjust=\"spacingAndGlyphs\" textLength=\"38\" x=\"74\" y=\"184.1074\">vp: VP</text><line style=\"stroke: #383838; stroke-width: 1.5;\" x1=\"57\" x2=\"129\" y1=\"191.9375\" y2=\"191.9375\"/></a><!--MD5=[2156ba9850f5573cc1fc38a6a4b2f02b]\n",
       "class E7--><a href=\"psysml:d3ad1959-ed24-48c6-b8cb-3101ea5444ce\" target=\"_top\" title=\"psysml:d3ad1959-ed24-48c6-b8cb-3101ea5444ce\" xlink:actuate=\"onRequest\" xlink:href=\"psysml:d3ad1959-ed24-48c6-b8cb-3101ea5444ce\" xlink:show=\"new\" xlink:title=\"psysml:d3ad1959-ed24-48c6-b8cb-3101ea5444ce\" xlink:type=\"simple\"><rect fill=\"#FFFFFF\" height=\"45.9375\" id=\"E7\" rx=\"10\" ry=\"10\" style=\"stroke: #383838; stroke-width: 1.5;\" width=\"77\" x=\"177.5\" y=\"154\"/><text fill=\"#000000\" font-family=\"sans-serif\" font-size=\"12\" font-style=\"italic\" lengthAdjust=\"spacingAndGlyphs\" textLength=\"75\" x=\"178.5\" y=\"170.1387\">«rendering»</text><text fill=\"#000000\" font-family=\"sans-serif\" font-size=\"12\" lengthAdjust=\"spacingAndGlyphs\" textLength=\"21\" x=\"205.5\" y=\"184.1074\">r: R</text><line style=\"stroke: #383838; stroke-width: 1.5;\" x1=\"178.5\" x2=\"253.5\" y1=\"191.9375\" y2=\"191.9375\"/></a><!--MD5=[b9389687b975829384b498ac4b7476b2]\n",
       "class E8--><a href=\"psysml:c79df832-858d-4f87-b041-227cc7f695ce\" target=\"_top\" title=\"psysml:c79df832-858d-4f87-b041-227cc7f695ce\" xlink:actuate=\"onRequest\" xlink:href=\"psysml:c79df832-858d-4f87-b041-227cc7f695ce\" xlink:show=\"new\" xlink:title=\"psysml:c79df832-858d-4f87-b041-227cc7f695ce\" xlink:type=\"simple\"><rect fill=\"#FFFFFF\" height=\"45.9375\" id=\"E8\" rx=\"10\" ry=\"10\" style=\"stroke: #383838; stroke-width: 1.5;\" width=\"42\" x=\"290\" y=\"154\"/><text fill=\"#000000\" font-family=\"sans-serif\" font-size=\"12\" font-style=\"italic\" lengthAdjust=\"spacingAndGlyphs\" textLength=\"40\" x=\"291\" y=\"170.1387\">«view»</text><text fill=\"#000000\" font-family=\"sans-serif\" font-size=\"12\" lengthAdjust=\"spacingAndGlyphs\" textLength=\"22\" x=\"300\" y=\"184.1074\">v: V</text><line style=\"stroke: #383838; stroke-width: 1.5;\" x1=\"291\" x2=\"331\" y1=\"191.9375\" y2=\"191.9375\"/></a><!--MD5=[fd4143e9d270a159db93a4ea2a975926]\n",
       "class E9--><a href=\"psysml:599cc28e-37a4-4871-97e7-8713776fcf23\" target=\"_top\" title=\"psysml:599cc28e-37a4-4871-97e7-8713776fcf23\" xlink:actuate=\"onRequest\" xlink:href=\"psysml:599cc28e-37a4-4871-97e7-8713776fcf23\" xlink:show=\"new\" xlink:title=\"psysml:599cc28e-37a4-4871-97e7-8713776fcf23\" xlink:type=\"simple\"><rect fill=\"#FFFFFF\" height=\"45.9375\" id=\"E9\" rx=\"10\" ry=\"10\" style=\"stroke: #383838; stroke-width: 1.5;\" width=\"77\" x=\"301.5\" y=\"260\"/><text fill=\"#000000\" font-family=\"sans-serif\" font-size=\"12\" font-style=\"italic\" lengthAdjust=\"spacingAndGlyphs\" textLength=\"75\" x=\"302.5\" y=\"276.1387\">«rendering»</text><text fill=\"#000000\" font-family=\"sans-serif\" font-size=\"12\" lengthAdjust=\"spacingAndGlyphs\" textLength=\"13\" x=\"333.5\" y=\"290.1074\">r1</text><line style=\"stroke: #383838; stroke-width: 1.5;\" x1=\"302.5\" x2=\"377.5\" y1=\"297.9375\" y2=\"297.9375\"/></a><a href=\"psysml:d8eb8e98-9fc5-4554-bb79-0a7fb3af234b\" target=\"_top\" title=\"psysml:d8eb8e98-9fc5-4554-bb79-0a7fb3af234b\" xlink:actuate=\"onRequest\" xlink:href=\"psysml:d8eb8e98-9fc5-4554-bb79-0a7fb3af234b\" xlink:show=\"new\" xlink:title=\"psysml:d8eb8e98-9fc5-4554-bb79-0a7fb3af234b\" xlink:type=\"simple\"><polygon fill=\"#FFFFFF\" points=\"122,41,138,41,145,63.2969,152,63.2969,152,93.5938,122,93.5938,122,41\" style=\"stroke: #000000; stroke-width: 1.5;\"/><line style=\"stroke: #000000; stroke-width: 1.5;\" x1=\"122\" x2=\"145\" y1=\"63.2969\" y2=\"63.2969\"/><text fill=\"#000000\" font-family=\"sans-serif\" font-size=\"14\" font-weight=\"bold\" lengthAdjust=\"spacingAndGlyphs\" textLength=\"10\" x=\"126\" y=\"55.9951\">P</text></a><!--MD5=[85d356282659285ab4b2cfe2f634dd2b]\n",
       "reverse link E5 to E6--><a href=\"psysml:edb93869-3e30-4330-ae7d-f0dbadb8ae6e\" target=\"_top\" title=\"psysml:edb93869-3e30-4330-ae7d-f0dbadb8ae6e\" xlink:actuate=\"onRequest\" xlink:href=\"psysml:edb93869-3e30-4330-ae7d-f0dbadb8ae6e\" xlink:show=\"new\" xlink:title=\"psysml:edb93869-3e30-4330-ae7d-f0dbadb8ae6e\" xlink:type=\"simple\"><path d=\"M238.17,103.81 C238.17,103.81 238.17,124 238.17,124 C238.17,124 141,124 141,124 C141,124 141,173.74 141,176.85 \" fill=\"none\" id=\"E5&lt;-E6\" style=\"stroke: #383838; stroke-width: 1.0;\"/><polygon fill=\"#383838\" points=\"238.17,90.81,234.17,96.81,238.17,102.81,242.17,96.81,238.17,90.81\" style=\"stroke: #383838; stroke-width: 1.0;\"/></a><!--MD5=[a717450b82c80b9240a525fa862496af]\n",
       "link E6 to E3--><a href=\"psysml:678c28b1-b825-4869-b6db-341a5ef18df5\" target=\"_top\" title=\"psysml:678c28b1-b825-4869-b6db-341a5ef18df5\" xlink:actuate=\"onRequest\" xlink:href=\"psysml:678c28b1-b825-4869-b6db-341a5ef18df5\" xlink:show=\"new\" xlink:title=\"psysml:678c28b1-b825-4869-b6db-341a5ef18df5\" xlink:type=\"simple\"><path d=\"M93,200 C93,200 93,239.68 93,239.68 \" fill=\"none\" id=\"E6-&gt;E3\" style=\"stroke: #383838; stroke-width: 1.0;\"/><polygon fill=\"#FFFFFF\" points=\"93,259.68,86,240.68,100,240.68,93,259.68\" style=\"stroke: #383838; stroke-width: 1.0;\"/><ellipse cx=\"88\" cy=\"234.98\" fill=\"#383838\" rx=\"2\" ry=\"2\" style=\"stroke: #383838; stroke-width: 1.0;\"/><ellipse cx=\"98\" cy=\"234.98\" fill=\"#383838\" rx=\"2\" ry=\"2\" style=\"stroke: #383838; stroke-width: 1.0;\"/></a><!--MD5=[6bdd27f9905911a7e892a3dc65cf6b7c]\n",
       "link E7 to E4--><a href=\"psysml:e01b0a28-1744-4d35-a29d-a960e4229aec\" target=\"_top\" title=\"psysml:e01b0a28-1744-4d35-a29d-a960e4229aec\" xlink:actuate=\"onRequest\" xlink:href=\"psysml:e01b0a28-1744-4d35-a29d-a960e4229aec\" xlink:show=\"new\" xlink:title=\"psysml:e01b0a28-1744-4d35-a29d-a960e4229aec\" xlink:type=\"simple\"><path d=\"M216,200 C216,200 216,239.68 216,239.68 \" fill=\"none\" id=\"E7-&gt;E4\" style=\"stroke: #383838; stroke-width: 1.0;\"/><polygon fill=\"#FFFFFF\" points=\"216,259.68,209,240.68,223,240.68,216,259.68\" style=\"stroke: #383838; stroke-width: 1.0;\"/><ellipse cx=\"211\" cy=\"234.98\" fill=\"#383838\" rx=\"2\" ry=\"2\" style=\"stroke: #383838; stroke-width: 1.0;\"/><ellipse cx=\"221\" cy=\"234.98\" fill=\"#383838\" rx=\"2\" ry=\"2\" style=\"stroke: #383838; stroke-width: 1.0;\"/></a><!--MD5=[452b418e7f8a40397a49b8c0a78acc5b]\n",
       "reverse link E5 to E7--><a href=\"psysml:d3ad1959-ed24-48c6-b8cb-3101ea5444ce\" target=\"_top\" title=\"psysml:d3ad1959-ed24-48c6-b8cb-3101ea5444ce\" xlink:actuate=\"onRequest\" xlink:href=\"psysml:d3ad1959-ed24-48c6-b8cb-3101ea5444ce\" xlink:show=\"new\" xlink:title=\"psysml:d3ad1959-ed24-48c6-b8cb-3101ea5444ce\" xlink:type=\"simple\"><path d=\"M246.33,103.72 C246.33,103.72 246.33,153.81 246.33,153.81 \" fill=\"none\" id=\"E5&lt;-E7\" style=\"stroke: #383838; stroke-width: 1.0;\"/><polygon fill=\"#383838\" points=\"246.33,90.72,242.33,96.72,246.33,102.72,250.33,96.72,246.33,90.72\" style=\"stroke: #383838; stroke-width: 1.0;\"/><text fill=\"#000000\" font-family=\"sans-serif\" font-size=\"13\" lengthAdjust=\"spacingAndGlyphs\" textLength=\"24\" x=\"227.0271\" y=\"143.0376\">0..1</text></a><!--MD5=[1ccb2481ffa92f8d51a74ee30c51832a]\n",
       "link E8 to E5--><a href=\"psysml:3896f3dd-ac25-48cd-93fb-dac3b3d02068\" target=\"_top\" title=\"psysml:3896f3dd-ac25-48cd-93fb-dac3b3d02068\" xlink:actuate=\"onRequest\" xlink:href=\"psysml:3896f3dd-ac25-48cd-93fb-dac3b3d02068\" xlink:show=\"new\" xlink:title=\"psysml:3896f3dd-ac25-48cd-93fb-dac3b3d02068\" xlink:type=\"simple\"><path d=\"M289.74,170 C285.42,170 282.17,170 282.17,170 C282.17,170 282.17,110.5 282.17,110.5 \" fill=\"none\" id=\"E8-&gt;E5\" style=\"stroke: #383838; stroke-width: 1.0;\"/><polygon fill=\"#FFFFFF\" points=\"282.17,90.5,289.17,109.5,275.17,109.5,282.17,90.5\" style=\"stroke: #383838; stroke-width: 1.0;\"/><ellipse cx=\"287.17\" cy=\"115.2\" fill=\"#383838\" rx=\"2\" ry=\"2\" style=\"stroke: #383838; stroke-width: 1.0;\"/><ellipse cx=\"277.17\" cy=\"115.2\" fill=\"#383838\" rx=\"2\" ry=\"2\" style=\"stroke: #383838; stroke-width: 1.0;\"/></a><!--MD5=[827760032d119d06bbc92f75530fd7ae]\n",
       "reverse link E5 to E8--><a href=\"psysml:c79df832-858d-4f87-b041-227cc7f695ce\" target=\"_top\" title=\"psysml:c79df832-858d-4f87-b041-227cc7f695ce\" xlink:actuate=\"onRequest\" xlink:href=\"psysml:c79df832-858d-4f87-b041-227cc7f695ce\" xlink:show=\"new\" xlink:title=\"psysml:c79df832-858d-4f87-b041-227cc7f695ce\" xlink:type=\"simple\"><path d=\"M274.33,103.71 C274.33,103.71 274.33,185 274.33,185 C274.33,185 281.6,185 289.67,185 \" fill=\"none\" id=\"E5&lt;-E8\" style=\"stroke: #383838; stroke-width: 1.0;\"/><polygon fill=\"#383838\" points=\"274.33,90.71,270.33,96.71,274.33,102.71,278.33,96.71,274.33,90.71\" style=\"stroke: #383838; stroke-width: 1.0;\"/><text fill=\"#000000\" font-family=\"sans-serif\" font-size=\"13\" lengthAdjust=\"spacingAndGlyphs\" textLength=\"7\" x=\"275.0658\" y=\"182.2499\">*</text></a><!--MD5=[22f5b4bae7e060dce8a1c8021efdb95b]\n",
       "reverse link E8 to E9--><a href=\"psysml:599cc28e-37a4-4871-97e7-8713776fcf23\" target=\"_top\" title=\"psysml:599cc28e-37a4-4871-97e7-8713776fcf23\" xlink:actuate=\"onRequest\" xlink:href=\"psysml:599cc28e-37a4-4871-97e7-8713776fcf23\" xlink:show=\"new\" xlink:title=\"psysml:599cc28e-37a4-4871-97e7-8713776fcf23\" xlink:type=\"simple\"><path d=\"M316.75,213 C316.75,213 316.75,259.68 316.75,259.68 \" fill=\"none\" id=\"E8&lt;-E9\" style=\"stroke: #383838; stroke-width: 1.0;\"/><polygon fill=\"#383838\" points=\"316.75,200,312.75,206,316.75,212,320.75,206,316.75,200\" style=\"stroke: #383838; stroke-width: 1.0;\"/></a><!--MD5=[2c22b5bbf0cd22cff0b63db47ba77c19]\n",
       "@startuml\r\n",
       "skinparam linetype ortho\r\n",
       "skinparam monochrome true\r\n",
       "skinparam classbackgroundcolor white\r\n",
       "skinparam shadowing false\r\n",
       "skinparam wrapWidth 300\r\n",
       "hide circle\r\n",
       "\r\n",
       "package \"ViewTest\" as E1  [[psysml:68a4efc3-4169-49c4-b08f-98091c4bc0be ]]  {\r\n",
       "package \"P\" as E2  [[psysml:d8eb8e98-9fc5-4554-bb79-0a7fb3af234b ]]  {\r\n",
       "}\r\n",
       "comp def \"VP\" as E3  <<(T,blue)viewpoint def>> [[psysml:0e16ef0b-675e-475c-a6ab-030697702310 ]] {\r\n",
       "}\r\n",
       "comp def \"R\" as E4  <<(T,blue)rendering def>> [[psysml:80b9aeea-925b-4b3a-8c84-ce381a5e60ed ]] {\r\n",
       "}\r\n",
       "comp def \"V\" as E5  <<(T,blue)view def>> [[psysml:fa67c82a-cf4c-4211-8405-b886e7fced61 ]] {\r\n",
       "}\r\n",
       "comp usage \"vp: VP\" as E6  <<(T,blue)viewpoint>> [[psysml:edb93869-3e30-4330-ae7d-f0dbadb8ae6e ]] {\r\n",
       "}\r\n",
       "comp usage \"r: R\" as E7  <<(T,blue)rendering>> [[psysml:d3ad1959-ed24-48c6-b8cb-3101ea5444ce ]] {\r\n",
       "}\r\n",
       "comp usage \"v: V\" as E8  <<(T,blue)view>> [[psysml:c79df832-858d-4f87-b041-227cc7f695ce ]] {\r\n",
       "}\r\n",
       "comp usage \"r1\" as E9  <<(T,blue)rendering>> [[psysml:599cc28e-37a4-4871-97e7-8713776fcf23 ]] {\r\n",
       "}\r\n",
       "E5 *- - E6 [[psysml:edb93869-3e30-4330-ae7d-f0dbadb8ae6e ]] \r\n",
       "E6 - -:|> E3 [[psysml:678c28b1-b825-4869-b6db-341a5ef18df5 ]] \r\n",
       "E7 - -:|> E4 [[psysml:e01b0a28-1744-4d35-a29d-a960e4229aec ]] \r\n",
       "E5 *- - \"0..1\"E7 [[psysml:d3ad1959-ed24-48c6-b8cb-3101ea5444ce ]] \r\n",
       "E8 - -:|> E5 [[psysml:3896f3dd-ac25-48cd-93fb-dac3b3d02068 ]] \r\n",
       "E5 *- - \"*\"E8 [[psysml:c79df832-858d-4f87-b041-227cc7f695ce ]] \r\n",
       "E8 *- - E9 [[psysml:599cc28e-37a4-4871-97e7-8713776fcf23 ]] \r\n",
       "}\r\n",
       "@enduml\r\n",
       "\n",
       "PlantUML version 1.2020.13(Sat Jun 13 12:26:38 UTC 2020)\n",
       "(EPL source distribution)\n",
       "Java Runtime: OpenJDK Runtime Environment\n",
       "JVM: OpenJDK 64-Bit Server VM\n",
       "Default Encoding: UTF-8\n",
       "Language: en\n",
       "Country: null\n",
       "--></g></svg>"
      ]
     },
     "execution_count": 56,
     "metadata": {},
     "output_type": "execute_result"
    }
   ],
   "source": [
    "%viz --style=\"ORTHOLINE\" --view=\"Sequence\" \"ViewTest\""
   ]
  },
  {
   "cell_type": "code",
   "execution_count": 57,
   "id": "worse-cause",
   "metadata": {
    "execution": {
     "iopub.execute_input": "2021-03-25T15:10:08.364199Z",
     "iopub.status.busy": "2021-03-25T15:10:08.363533Z",
     "iopub.status.idle": "2021-03-25T15:10:08.458920Z",
     "shell.execute_reply": "2021-03-25T15:10:08.457029Z"
    }
   },
   "outputs": [
    {
     "data": {
      "image/svg+xml": [
       "<?xml version=\"1.0\" encoding=\"UTF-8\" standalone=\"no\"?><svg xmlns=\"http://www.w3.org/2000/svg\" xmlns:xlink=\"http://www.w3.org/1999/xlink\" contentScriptType=\"application/ecmascript\" contentStyleType=\"text/css\" height=\"334px\" preserveAspectRatio=\"none\" style=\"width:417px;height:334px;\" version=\"1.1\" viewBox=\"0 0 417 334\" width=\"417px\" zoomAndPan=\"magnify\"><defs/><g><!--MD5=[fbc87193dbaf4d95561dea2c320d4a47]\n",
       "cluster E1--><a href=\"psysml:68a4efc3-4169-49c4-b08f-98091c4bc0be\" target=\"_top\" title=\"psysml:68a4efc3-4169-49c4-b08f-98091c4bc0be\" xlink:actuate=\"onRequest\" xlink:href=\"psysml:68a4efc3-4169-49c4-b08f-98091c4bc0be\" xlink:show=\"new\" xlink:title=\"psysml:68a4efc3-4169-49c4-b08f-98091c4bc0be\" xlink:type=\"simple\"><polygon fill=\"#FFFFFF\" points=\"16,6,96,6,103,28.2969,395,28.2969,395,322,16,322,16,6\" style=\"stroke: #000000; stroke-width: 1.5;\"/><line style=\"stroke: #000000; stroke-width: 1.5;\" x1=\"16\" x2=\"103\" y1=\"28.2969\" y2=\"28.2969\"/><text fill=\"#000000\" font-family=\"sans-serif\" font-size=\"14\" font-weight=\"bold\" lengthAdjust=\"spacingAndGlyphs\" textLength=\"74\" x=\"20\" y=\"20.9951\">ViewTest</text></a><!--MD5=[09b614a08d8cba4a07c9adeb5e0fee81]\n",
       "class E3--><a href=\"psysml:0e16ef0b-675e-475c-a6ab-030697702310\" target=\"_top\" title=\"psysml:0e16ef0b-675e-475c-a6ab-030697702310\" xlink:actuate=\"onRequest\" xlink:href=\"psysml:0e16ef0b-675e-475c-a6ab-030697702310\" xlink:show=\"new\" xlink:title=\"psysml:0e16ef0b-675e-475c-a6ab-030697702310\" xlink:type=\"simple\"><rect fill=\"#FFFFFF\" height=\"45.9375\" id=\"E3\" style=\"stroke: #383838; stroke-width: 1.5;\" width=\"98\" x=\"32\" y=\"260\"/><text fill=\"#000000\" font-family=\"sans-serif\" font-size=\"12\" font-style=\"italic\" lengthAdjust=\"spacingAndGlyphs\" textLength=\"96\" x=\"33\" y=\"276.1387\">«viewpoint def»</text><text fill=\"#000000\" font-family=\"sans-serif\" font-size=\"12\" lengthAdjust=\"spacingAndGlyphs\" textLength=\"16\" x=\"73\" y=\"290.1074\">VP</text><line style=\"stroke: #383838; stroke-width: 1.5;\" x1=\"33\" x2=\"129\" y1=\"297.9375\" y2=\"297.9375\"/></a><!--MD5=[ebbe1d658d1005bcc118a6aa81145e00]\n",
       "class E4--><a href=\"psysml:80b9aeea-925b-4b3a-8c84-ce381a5e60ed\" target=\"_top\" title=\"psysml:80b9aeea-925b-4b3a-8c84-ce381a5e60ed\" xlink:actuate=\"onRequest\" xlink:href=\"psysml:80b9aeea-925b-4b3a-8c84-ce381a5e60ed\" xlink:show=\"new\" xlink:title=\"psysml:80b9aeea-925b-4b3a-8c84-ce381a5e60ed\" xlink:type=\"simple\"><rect fill=\"#FFFFFF\" height=\"45.9375\" id=\"E4\" style=\"stroke: #383838; stroke-width: 1.5;\" width=\"101\" x=\"165.5\" y=\"260\"/><text fill=\"#000000\" font-family=\"sans-serif\" font-size=\"12\" font-style=\"italic\" lengthAdjust=\"spacingAndGlyphs\" textLength=\"99\" x=\"166.5\" y=\"276.1387\">«rendering def»</text><text fill=\"#000000\" font-family=\"sans-serif\" font-size=\"12\" lengthAdjust=\"spacingAndGlyphs\" textLength=\"8\" x=\"212\" y=\"290.1074\">R</text><line style=\"stroke: #383838; stroke-width: 1.5;\" x1=\"166.5\" x2=\"265.5\" y1=\"297.9375\" y2=\"297.9375\"/></a><!--MD5=[270fce915f116d4de14055a7c1d9a0f3]\n",
       "class E5--><a href=\"psysml:fa67c82a-cf4c-4211-8405-b886e7fced61\" target=\"_top\" title=\"psysml:fa67c82a-cf4c-4211-8405-b886e7fced61\" xlink:actuate=\"onRequest\" xlink:href=\"psysml:fa67c82a-cf4c-4211-8405-b886e7fced61\" xlink:show=\"new\" xlink:title=\"psysml:fa67c82a-cf4c-4211-8405-b886e7fced61\" xlink:type=\"simple\"><rect fill=\"#FFFFFF\" height=\"45.9375\" id=\"E5\" style=\"stroke: #383838; stroke-width: 1.5;\" width=\"66\" x=\"230\" y=\"44.5\"/><text fill=\"#000000\" font-family=\"sans-serif\" font-size=\"12\" font-style=\"italic\" lengthAdjust=\"spacingAndGlyphs\" textLength=\"64\" x=\"231\" y=\"60.6387\">«view def»</text><text fill=\"#000000\" font-family=\"sans-serif\" font-size=\"12\" lengthAdjust=\"spacingAndGlyphs\" textLength=\"8\" x=\"259\" y=\"74.6074\">V</text><line style=\"stroke: #383838; stroke-width: 1.5;\" x1=\"231\" x2=\"295\" y1=\"82.4375\" y2=\"82.4375\"/></a><!--MD5=[60a26617385b1d2d0262a64233df1f8d]\n",
       "class E6--><a href=\"psysml:edb93869-3e30-4330-ae7d-f0dbadb8ae6e\" target=\"_top\" title=\"psysml:edb93869-3e30-4330-ae7d-f0dbadb8ae6e\" xlink:actuate=\"onRequest\" xlink:href=\"psysml:edb93869-3e30-4330-ae7d-f0dbadb8ae6e\" xlink:show=\"new\" xlink:title=\"psysml:edb93869-3e30-4330-ae7d-f0dbadb8ae6e\" xlink:type=\"simple\"><rect fill=\"#FFFFFF\" height=\"45.9375\" id=\"E6\" rx=\"10\" ry=\"10\" style=\"stroke: #383838; stroke-width: 1.5;\" width=\"74\" x=\"56\" y=\"154\"/><text fill=\"#000000\" font-family=\"sans-serif\" font-size=\"12\" font-style=\"italic\" lengthAdjust=\"spacingAndGlyphs\" textLength=\"72\" x=\"57\" y=\"170.1387\">«viewpoint»</text><text fill=\"#000000\" font-family=\"sans-serif\" font-size=\"12\" lengthAdjust=\"spacingAndGlyphs\" textLength=\"38\" x=\"74\" y=\"184.1074\">vp: VP</text><line style=\"stroke: #383838; stroke-width: 1.5;\" x1=\"57\" x2=\"129\" y1=\"191.9375\" y2=\"191.9375\"/></a><!--MD5=[2156ba9850f5573cc1fc38a6a4b2f02b]\n",
       "class E7--><a href=\"psysml:d3ad1959-ed24-48c6-b8cb-3101ea5444ce\" target=\"_top\" title=\"psysml:d3ad1959-ed24-48c6-b8cb-3101ea5444ce\" xlink:actuate=\"onRequest\" xlink:href=\"psysml:d3ad1959-ed24-48c6-b8cb-3101ea5444ce\" xlink:show=\"new\" xlink:title=\"psysml:d3ad1959-ed24-48c6-b8cb-3101ea5444ce\" xlink:type=\"simple\"><rect fill=\"#FFFFFF\" height=\"45.9375\" id=\"E7\" rx=\"10\" ry=\"10\" style=\"stroke: #383838; stroke-width: 1.5;\" width=\"77\" x=\"177.5\" y=\"154\"/><text fill=\"#000000\" font-family=\"sans-serif\" font-size=\"12\" font-style=\"italic\" lengthAdjust=\"spacingAndGlyphs\" textLength=\"75\" x=\"178.5\" y=\"170.1387\">«rendering»</text><text fill=\"#000000\" font-family=\"sans-serif\" font-size=\"12\" lengthAdjust=\"spacingAndGlyphs\" textLength=\"21\" x=\"205.5\" y=\"184.1074\">r: R</text><line style=\"stroke: #383838; stroke-width: 1.5;\" x1=\"178.5\" x2=\"253.5\" y1=\"191.9375\" y2=\"191.9375\"/></a><!--MD5=[b9389687b975829384b498ac4b7476b2]\n",
       "class E8--><a href=\"psysml:c79df832-858d-4f87-b041-227cc7f695ce\" target=\"_top\" title=\"psysml:c79df832-858d-4f87-b041-227cc7f695ce\" xlink:actuate=\"onRequest\" xlink:href=\"psysml:c79df832-858d-4f87-b041-227cc7f695ce\" xlink:show=\"new\" xlink:title=\"psysml:c79df832-858d-4f87-b041-227cc7f695ce\" xlink:type=\"simple\"><rect fill=\"#FFFFFF\" height=\"45.9375\" id=\"E8\" rx=\"10\" ry=\"10\" style=\"stroke: #383838; stroke-width: 1.5;\" width=\"42\" x=\"290\" y=\"154\"/><text fill=\"#000000\" font-family=\"sans-serif\" font-size=\"12\" font-style=\"italic\" lengthAdjust=\"spacingAndGlyphs\" textLength=\"40\" x=\"291\" y=\"170.1387\">«view»</text><text fill=\"#000000\" font-family=\"sans-serif\" font-size=\"12\" lengthAdjust=\"spacingAndGlyphs\" textLength=\"22\" x=\"300\" y=\"184.1074\">v: V</text><line style=\"stroke: #383838; stroke-width: 1.5;\" x1=\"291\" x2=\"331\" y1=\"191.9375\" y2=\"191.9375\"/></a><!--MD5=[fd4143e9d270a159db93a4ea2a975926]\n",
       "class E9--><a href=\"psysml:599cc28e-37a4-4871-97e7-8713776fcf23\" target=\"_top\" title=\"psysml:599cc28e-37a4-4871-97e7-8713776fcf23\" xlink:actuate=\"onRequest\" xlink:href=\"psysml:599cc28e-37a4-4871-97e7-8713776fcf23\" xlink:show=\"new\" xlink:title=\"psysml:599cc28e-37a4-4871-97e7-8713776fcf23\" xlink:type=\"simple\"><rect fill=\"#FFFFFF\" height=\"45.9375\" id=\"E9\" rx=\"10\" ry=\"10\" style=\"stroke: #383838; stroke-width: 1.5;\" width=\"77\" x=\"301.5\" y=\"260\"/><text fill=\"#000000\" font-family=\"sans-serif\" font-size=\"12\" font-style=\"italic\" lengthAdjust=\"spacingAndGlyphs\" textLength=\"75\" x=\"302.5\" y=\"276.1387\">«rendering»</text><text fill=\"#000000\" font-family=\"sans-serif\" font-size=\"12\" lengthAdjust=\"spacingAndGlyphs\" textLength=\"13\" x=\"333.5\" y=\"290.1074\">r1</text><line style=\"stroke: #383838; stroke-width: 1.5;\" x1=\"302.5\" x2=\"377.5\" y1=\"297.9375\" y2=\"297.9375\"/></a><a href=\"psysml:d8eb8e98-9fc5-4554-bb79-0a7fb3af234b\" target=\"_top\" title=\"psysml:d8eb8e98-9fc5-4554-bb79-0a7fb3af234b\" xlink:actuate=\"onRequest\" xlink:href=\"psysml:d8eb8e98-9fc5-4554-bb79-0a7fb3af234b\" xlink:show=\"new\" xlink:title=\"psysml:d8eb8e98-9fc5-4554-bb79-0a7fb3af234b\" xlink:type=\"simple\"><polygon fill=\"#FFFFFF\" points=\"122,41,138,41,145,63.2969,152,63.2969,152,93.5938,122,93.5938,122,41\" style=\"stroke: #000000; stroke-width: 1.5;\"/><line style=\"stroke: #000000; stroke-width: 1.5;\" x1=\"122\" x2=\"145\" y1=\"63.2969\" y2=\"63.2969\"/><text fill=\"#000000\" font-family=\"sans-serif\" font-size=\"14\" font-weight=\"bold\" lengthAdjust=\"spacingAndGlyphs\" textLength=\"10\" x=\"126\" y=\"55.9951\">P</text></a><!--MD5=[85d356282659285ab4b2cfe2f634dd2b]\n",
       "reverse link E5 to E6--><a href=\"psysml:edb93869-3e30-4330-ae7d-f0dbadb8ae6e\" target=\"_top\" title=\"psysml:edb93869-3e30-4330-ae7d-f0dbadb8ae6e\" xlink:actuate=\"onRequest\" xlink:href=\"psysml:edb93869-3e30-4330-ae7d-f0dbadb8ae6e\" xlink:show=\"new\" xlink:title=\"psysml:edb93869-3e30-4330-ae7d-f0dbadb8ae6e\" xlink:type=\"simple\"><path d=\"M238.17,103.81 C238.17,103.81 238.17,124 238.17,124 C238.17,124 141,124 141,124 C141,124 141,173.74 141,176.85 \" fill=\"none\" id=\"E5&lt;-E6\" style=\"stroke: #383838; stroke-width: 1.0;\"/><polygon fill=\"#383838\" points=\"238.17,90.81,234.17,96.81,238.17,102.81,242.17,96.81,238.17,90.81\" style=\"stroke: #383838; stroke-width: 1.0;\"/></a><!--MD5=[a717450b82c80b9240a525fa862496af]\n",
       "link E6 to E3--><a href=\"psysml:678c28b1-b825-4869-b6db-341a5ef18df5\" target=\"_top\" title=\"psysml:678c28b1-b825-4869-b6db-341a5ef18df5\" xlink:actuate=\"onRequest\" xlink:href=\"psysml:678c28b1-b825-4869-b6db-341a5ef18df5\" xlink:show=\"new\" xlink:title=\"psysml:678c28b1-b825-4869-b6db-341a5ef18df5\" xlink:type=\"simple\"><path d=\"M93,200 C93,200 93,239.68 93,239.68 \" fill=\"none\" id=\"E6-&gt;E3\" style=\"stroke: #383838; stroke-width: 1.0;\"/><polygon fill=\"#FFFFFF\" points=\"93,259.68,86,240.68,100,240.68,93,259.68\" style=\"stroke: #383838; stroke-width: 1.0;\"/><ellipse cx=\"88\" cy=\"234.98\" fill=\"#383838\" rx=\"2\" ry=\"2\" style=\"stroke: #383838; stroke-width: 1.0;\"/><ellipse cx=\"98\" cy=\"234.98\" fill=\"#383838\" rx=\"2\" ry=\"2\" style=\"stroke: #383838; stroke-width: 1.0;\"/></a><!--MD5=[6bdd27f9905911a7e892a3dc65cf6b7c]\n",
       "link E7 to E4--><a href=\"psysml:e01b0a28-1744-4d35-a29d-a960e4229aec\" target=\"_top\" title=\"psysml:e01b0a28-1744-4d35-a29d-a960e4229aec\" xlink:actuate=\"onRequest\" xlink:href=\"psysml:e01b0a28-1744-4d35-a29d-a960e4229aec\" xlink:show=\"new\" xlink:title=\"psysml:e01b0a28-1744-4d35-a29d-a960e4229aec\" xlink:type=\"simple\"><path d=\"M216,200 C216,200 216,239.68 216,239.68 \" fill=\"none\" id=\"E7-&gt;E4\" style=\"stroke: #383838; stroke-width: 1.0;\"/><polygon fill=\"#FFFFFF\" points=\"216,259.68,209,240.68,223,240.68,216,259.68\" style=\"stroke: #383838; stroke-width: 1.0;\"/><ellipse cx=\"211\" cy=\"234.98\" fill=\"#383838\" rx=\"2\" ry=\"2\" style=\"stroke: #383838; stroke-width: 1.0;\"/><ellipse cx=\"221\" cy=\"234.98\" fill=\"#383838\" rx=\"2\" ry=\"2\" style=\"stroke: #383838; stroke-width: 1.0;\"/></a><!--MD5=[452b418e7f8a40397a49b8c0a78acc5b]\n",
       "reverse link E5 to E7--><a href=\"psysml:d3ad1959-ed24-48c6-b8cb-3101ea5444ce\" target=\"_top\" title=\"psysml:d3ad1959-ed24-48c6-b8cb-3101ea5444ce\" xlink:actuate=\"onRequest\" xlink:href=\"psysml:d3ad1959-ed24-48c6-b8cb-3101ea5444ce\" xlink:show=\"new\" xlink:title=\"psysml:d3ad1959-ed24-48c6-b8cb-3101ea5444ce\" xlink:type=\"simple\"><path d=\"M246.33,103.72 C246.33,103.72 246.33,153.81 246.33,153.81 \" fill=\"none\" id=\"E5&lt;-E7\" style=\"stroke: #383838; stroke-width: 1.0;\"/><polygon fill=\"#383838\" points=\"246.33,90.72,242.33,96.72,246.33,102.72,250.33,96.72,246.33,90.72\" style=\"stroke: #383838; stroke-width: 1.0;\"/><text fill=\"#000000\" font-family=\"sans-serif\" font-size=\"13\" lengthAdjust=\"spacingAndGlyphs\" textLength=\"24\" x=\"227.0271\" y=\"143.0376\">0..1</text></a><!--MD5=[1ccb2481ffa92f8d51a74ee30c51832a]\n",
       "link E8 to E5--><a href=\"psysml:3896f3dd-ac25-48cd-93fb-dac3b3d02068\" target=\"_top\" title=\"psysml:3896f3dd-ac25-48cd-93fb-dac3b3d02068\" xlink:actuate=\"onRequest\" xlink:href=\"psysml:3896f3dd-ac25-48cd-93fb-dac3b3d02068\" xlink:show=\"new\" xlink:title=\"psysml:3896f3dd-ac25-48cd-93fb-dac3b3d02068\" xlink:type=\"simple\"><path d=\"M289.74,170 C285.42,170 282.17,170 282.17,170 C282.17,170 282.17,110.5 282.17,110.5 \" fill=\"none\" id=\"E8-&gt;E5\" style=\"stroke: #383838; stroke-width: 1.0;\"/><polygon fill=\"#FFFFFF\" points=\"282.17,90.5,289.17,109.5,275.17,109.5,282.17,90.5\" style=\"stroke: #383838; stroke-width: 1.0;\"/><ellipse cx=\"287.17\" cy=\"115.2\" fill=\"#383838\" rx=\"2\" ry=\"2\" style=\"stroke: #383838; stroke-width: 1.0;\"/><ellipse cx=\"277.17\" cy=\"115.2\" fill=\"#383838\" rx=\"2\" ry=\"2\" style=\"stroke: #383838; stroke-width: 1.0;\"/></a><!--MD5=[827760032d119d06bbc92f75530fd7ae]\n",
       "reverse link E5 to E8--><a href=\"psysml:c79df832-858d-4f87-b041-227cc7f695ce\" target=\"_top\" title=\"psysml:c79df832-858d-4f87-b041-227cc7f695ce\" xlink:actuate=\"onRequest\" xlink:href=\"psysml:c79df832-858d-4f87-b041-227cc7f695ce\" xlink:show=\"new\" xlink:title=\"psysml:c79df832-858d-4f87-b041-227cc7f695ce\" xlink:type=\"simple\"><path d=\"M274.33,103.71 C274.33,103.71 274.33,185 274.33,185 C274.33,185 281.6,185 289.67,185 \" fill=\"none\" id=\"E5&lt;-E8\" style=\"stroke: #383838; stroke-width: 1.0;\"/><polygon fill=\"#383838\" points=\"274.33,90.71,270.33,96.71,274.33,102.71,278.33,96.71,274.33,90.71\" style=\"stroke: #383838; stroke-width: 1.0;\"/><text fill=\"#000000\" font-family=\"sans-serif\" font-size=\"13\" lengthAdjust=\"spacingAndGlyphs\" textLength=\"7\" x=\"275.0658\" y=\"182.2499\">*</text></a><!--MD5=[22f5b4bae7e060dce8a1c8021efdb95b]\n",
       "reverse link E8 to E9--><a href=\"psysml:599cc28e-37a4-4871-97e7-8713776fcf23\" target=\"_top\" title=\"psysml:599cc28e-37a4-4871-97e7-8713776fcf23\" xlink:actuate=\"onRequest\" xlink:href=\"psysml:599cc28e-37a4-4871-97e7-8713776fcf23\" xlink:show=\"new\" xlink:title=\"psysml:599cc28e-37a4-4871-97e7-8713776fcf23\" xlink:type=\"simple\"><path d=\"M316.75,213 C316.75,213 316.75,259.68 316.75,259.68 \" fill=\"none\" id=\"E8&lt;-E9\" style=\"stroke: #383838; stroke-width: 1.0;\"/><polygon fill=\"#383838\" points=\"316.75,200,312.75,206,316.75,212,320.75,206,316.75,200\" style=\"stroke: #383838; stroke-width: 1.0;\"/></a><!--MD5=[2c22b5bbf0cd22cff0b63db47ba77c19]\n",
       "@startuml\r\n",
       "skinparam linetype ortho\r\n",
       "skinparam monochrome true\r\n",
       "skinparam classbackgroundcolor white\r\n",
       "skinparam shadowing false\r\n",
       "skinparam wrapWidth 300\r\n",
       "hide circle\r\n",
       "\r\n",
       "package \"ViewTest\" as E1  [[psysml:68a4efc3-4169-49c4-b08f-98091c4bc0be ]]  {\r\n",
       "package \"P\" as E2  [[psysml:d8eb8e98-9fc5-4554-bb79-0a7fb3af234b ]]  {\r\n",
       "}\r\n",
       "comp def \"VP\" as E3  <<(T,blue)viewpoint def>> [[psysml:0e16ef0b-675e-475c-a6ab-030697702310 ]] {\r\n",
       "}\r\n",
       "comp def \"R\" as E4  <<(T,blue)rendering def>> [[psysml:80b9aeea-925b-4b3a-8c84-ce381a5e60ed ]] {\r\n",
       "}\r\n",
       "comp def \"V\" as E5  <<(T,blue)view def>> [[psysml:fa67c82a-cf4c-4211-8405-b886e7fced61 ]] {\r\n",
       "}\r\n",
       "comp usage \"vp: VP\" as E6  <<(T,blue)viewpoint>> [[psysml:edb93869-3e30-4330-ae7d-f0dbadb8ae6e ]] {\r\n",
       "}\r\n",
       "comp usage \"r: R\" as E7  <<(T,blue)rendering>> [[psysml:d3ad1959-ed24-48c6-b8cb-3101ea5444ce ]] {\r\n",
       "}\r\n",
       "comp usage \"v: V\" as E8  <<(T,blue)view>> [[psysml:c79df832-858d-4f87-b041-227cc7f695ce ]] {\r\n",
       "}\r\n",
       "comp usage \"r1\" as E9  <<(T,blue)rendering>> [[psysml:599cc28e-37a4-4871-97e7-8713776fcf23 ]] {\r\n",
       "}\r\n",
       "E5 *- - E6 [[psysml:edb93869-3e30-4330-ae7d-f0dbadb8ae6e ]] \r\n",
       "E6 - -:|> E3 [[psysml:678c28b1-b825-4869-b6db-341a5ef18df5 ]] \r\n",
       "E7 - -:|> E4 [[psysml:e01b0a28-1744-4d35-a29d-a960e4229aec ]] \r\n",
       "E5 *- - \"0..1\"E7 [[psysml:d3ad1959-ed24-48c6-b8cb-3101ea5444ce ]] \r\n",
       "E8 - -:|> E5 [[psysml:3896f3dd-ac25-48cd-93fb-dac3b3d02068 ]] \r\n",
       "E5 *- - \"*\"E8 [[psysml:c79df832-858d-4f87-b041-227cc7f695ce ]] \r\n",
       "E8 *- - E9 [[psysml:599cc28e-37a4-4871-97e7-8713776fcf23 ]] \r\n",
       "}\r\n",
       "@enduml\r\n",
       "\n",
       "PlantUML version 1.2020.13(Sat Jun 13 12:26:38 UTC 2020)\n",
       "(EPL source distribution)\n",
       "Java Runtime: OpenJDK Runtime Environment\n",
       "JVM: OpenJDK 64-Bit Server VM\n",
       "Default Encoding: UTF-8\n",
       "Language: en\n",
       "Country: null\n",
       "--></g></svg>"
      ]
     },
     "execution_count": 57,
     "metadata": {},
     "output_type": "execute_result"
    }
   ],
   "source": [
    "%viz --style=\"ORTHOLINE\" --view=\"MIXED\" \"ViewTest\""
   ]
  }
 ],
 "metadata": {
  "kernelspec": {
   "display_name": "SysML",
   "language": "sysml",
   "name": "sysml"
  },
  "language_info": {
   "codemirror_mode": "sysml",
   "file_extension": ".sysml",
   "mimetype": "text/x-sysml",
   "name": "SysML",
   "pygments_lexer": "java",
   "version": "1.0.0"
  }
 },
 "nbformat": 4,
 "nbformat_minor": 5
}
