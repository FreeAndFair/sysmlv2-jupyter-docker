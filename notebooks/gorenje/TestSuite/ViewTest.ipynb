{
 "cells": [
  {
   "cell_type": "markdown",
   "id": "specific-meditation",
   "metadata": {},
   "source": [
    "# SysML v2 Test Suite\n",
    "\n",
    "This can notebook can be cleared using menu `Edit --> Clear All Outputs` and then all cells can be\n",
    "run using menu `Run --> Run All Cells`.\n",
    "\n",
    "**WARNING**: This file is generated, all modifications here will be ignored.\n"
   ]
  },
  {
   "cell_type": "markdown",
   "id": "enhanced-pastor",
   "metadata": {},
   "source": [
    "## File: ../../sysml/src/examples/Simple Tests/ViewTest.sysml"
   ]
  },
  {
   "cell_type": "code",
   "execution_count": 1,
   "id": "every-guide",
   "metadata": {
    "execution": {
     "iopub.execute_input": "2021-03-25T16:07:56.299501Z",
     "iopub.status.busy": "2021-03-25T16:07:56.298562Z",
     "iopub.status.idle": "2021-03-25T16:07:56.723125Z",
     "shell.execute_reply": "2021-03-25T16:07:56.722614Z"
    }
   },
   "outputs": [
    {
     "data": {
      "text/plain": [
       "Package ViewTest (2dc5cbb7-e71b-4402-8d56-667db58c5e18)\n"
      ]
     },
     "execution_count": 1,
     "metadata": {},
     "output_type": "execute_result"
    }
   ],
   "source": [
    "package ViewTest {\n",
    "\tpackage P;\n",
    "\t\n",
    "\tviewpoint def VP;\n",
    "\trendering def R;\n",
    "\t\n",
    "\tview def V {\n",
    "\t\tviewpoint vp: VP;\n",
    "\t\trendering r: R[0..1]; \n",
    "\t\t\n",
    "\t\tview v: V[0..*] {\n",
    "\t\t\texpose P::*;\n",
    "\t\t\trendering r1;\n",
    "\t\t}\n",
    "\t}\n",
    "\n",
    "}"
   ]
  },
  {
   "cell_type": "code",
   "execution_count": 2,
   "id": "human-disposition",
   "metadata": {
    "execution": {
     "iopub.execute_input": "2021-03-25T16:07:56.775606Z",
     "iopub.status.busy": "2021-03-25T16:07:56.775116Z",
     "iopub.status.idle": "2021-03-25T16:07:56.787800Z",
     "shell.execute_reply": "2021-03-25T16:07:56.788212Z"
    }
   },
   "outputs": [
    {
     "data": {
      "text/plain": [
       "java.lang.IllegalArgumentException: Invalid Style: COMPTREE Possible styles: POLYLINE, LR, STDCOLOR, PLANTUML, DEFAULT, TB, ORTHOLINE\n",
       "\tat org.omg.sysml.plantuml.SysML2PlantUMLStyle.get(SysML2PlantUMLStyle.java:258)\n",
       "\tat org.omg.sysml.plantuml.SysML2PlantUMLSvc.applyStyle(SysML2PlantUMLSvc.java:73)\n",
       "\tat org.omg.sysml.plantuml.SysML2PlantUMLSvc.getPlantUMLCode(SysML2PlantUMLSvc.java:88)\n",
       "\tat org.omg.sysml.plantuml.SysML2PlantUMLSvc.getSVG(SysML2PlantUMLSvc.java:99)\n",
       "\tat org.omg.sysml.interactive.SysMLInteractive.viz(SysMLInteractive.java:294)\n",
       "\tat org.omg.sysml.jupyter.kernel.magic.Viz.viz(Viz.java:47)\n",
       "\tat java.base/jdk.internal.reflect.NativeMethodAccessorImpl.invoke0(Native Method)\n",
       "\tat java.base/jdk.internal.reflect.NativeMethodAccessorImpl.invoke(NativeMethodAccessorImpl.java:78)\n",
       "\tat java.base/jdk.internal.reflect.DelegatingMethodAccessorImpl.invoke(DelegatingMethodAccessorImpl.java:43)\n",
       "\tat java.base/java.lang.reflect.Method.invoke(Method.java:568)\n",
       "\tat io.github.spencerpark.jupyter.kernel.magic.registry.Magics.invoke(Magics.java:89)\n",
       "\tat io.github.spencerpark.jupyter.kernel.magic.registry.Magics.access$000(Magics.java:8)\n",
       "\tat io.github.spencerpark.jupyter.kernel.magic.registry.Magics$LineReflectionMagicFunction.execute(Magics.java:149)\n",
       "\tat io.github.spencerpark.jupyter.kernel.magic.registry.Magics.applyLineMagic(Magics.java:26)\n",
       "\tat org.omg.sysml.jupyter.kernel.SysMLKernel.eval(SysMLKernel.java:76)\n",
       "\tat io.github.spencerpark.jupyter.kernel.BaseKernel.handleExecuteRequest(BaseKernel.java:334)\n",
       "\tat io.github.spencerpark.jupyter.channels.ShellChannel.lambda$bind$0(ShellChannel.java:64)\n",
       "\tat io.github.spencerpark.jupyter.channels.Loop.lambda$new$0(Loop.java:21)\n",
       "\tat io.github.spencerpark.jupyter.channels.Loop.run(Loop.java:78)\n"
      ]
     },
     "execution_count": 2,
     "metadata": {},
     "output_type": "execute_result"
    }
   ],
   "source": [
    "%viz --style=\"COMPTREE\" --view=\"Default\" \"ViewTest\""
   ]
  },
  {
   "cell_type": "code",
   "execution_count": 3,
   "id": "signed-surgery",
   "metadata": {
    "execution": {
     "iopub.execute_input": "2021-03-25T16:07:56.839667Z",
     "iopub.status.busy": "2021-03-25T16:07:56.839139Z",
     "iopub.status.idle": "2021-03-25T16:07:56.842885Z",
     "shell.execute_reply": "2021-03-25T16:07:56.842478Z"
    }
   },
   "outputs": [
    {
     "data": {
      "text/plain": [
       "java.lang.IllegalArgumentException: Invalid Style: COMPTREE Possible styles: POLYLINE, LR, STDCOLOR, PLANTUML, DEFAULT, TB, ORTHOLINE\n",
       "\tat org.omg.sysml.plantuml.SysML2PlantUMLStyle.get(SysML2PlantUMLStyle.java:258)\n",
       "\tat org.omg.sysml.plantuml.SysML2PlantUMLSvc.applyStyle(SysML2PlantUMLSvc.java:73)\n",
       "\tat org.omg.sysml.plantuml.SysML2PlantUMLSvc.getPlantUMLCode(SysML2PlantUMLSvc.java:88)\n",
       "\tat org.omg.sysml.plantuml.SysML2PlantUMLSvc.getSVG(SysML2PlantUMLSvc.java:99)\n",
       "\tat org.omg.sysml.interactive.SysMLInteractive.viz(SysMLInteractive.java:294)\n",
       "\tat org.omg.sysml.jupyter.kernel.magic.Viz.viz(Viz.java:47)\n",
       "\tat java.base/jdk.internal.reflect.NativeMethodAccessorImpl.invoke0(Native Method)\n",
       "\tat java.base/jdk.internal.reflect.NativeMethodAccessorImpl.invoke(NativeMethodAccessorImpl.java:78)\n",
       "\tat java.base/jdk.internal.reflect.DelegatingMethodAccessorImpl.invoke(DelegatingMethodAccessorImpl.java:43)\n",
       "\tat java.base/java.lang.reflect.Method.invoke(Method.java:568)\n",
       "\tat io.github.spencerpark.jupyter.kernel.magic.registry.Magics.invoke(Magics.java:89)\n",
       "\tat io.github.spencerpark.jupyter.kernel.magic.registry.Magics.access$000(Magics.java:8)\n",
       "\tat io.github.spencerpark.jupyter.kernel.magic.registry.Magics$LineReflectionMagicFunction.execute(Magics.java:149)\n",
       "\tat io.github.spencerpark.jupyter.kernel.magic.registry.Magics.applyLineMagic(Magics.java:26)\n",
       "\tat org.omg.sysml.jupyter.kernel.SysMLKernel.eval(SysMLKernel.java:76)\n",
       "\tat io.github.spencerpark.jupyter.kernel.BaseKernel.handleExecuteRequest(BaseKernel.java:334)\n",
       "\tat io.github.spencerpark.jupyter.channels.ShellChannel.lambda$bind$0(ShellChannel.java:64)\n",
       "\tat io.github.spencerpark.jupyter.channels.Loop.lambda$new$0(Loop.java:21)\n",
       "\tat io.github.spencerpark.jupyter.channels.Loop.run(Loop.java:78)\n"
      ]
     },
     "execution_count": 3,
     "metadata": {},
     "output_type": "execute_result"
    }
   ],
   "source": [
    "%viz --style=\"COMPTREE\" --view=\"Tree\" \"ViewTest\""
   ]
  },
  {
   "cell_type": "code",
   "execution_count": 4,
   "id": "other-slovenia",
   "metadata": {
    "execution": {
     "iopub.execute_input": "2021-03-25T16:07:56.894721Z",
     "iopub.status.busy": "2021-03-25T16:07:56.894042Z",
     "iopub.status.idle": "2021-03-25T16:07:56.896759Z",
     "shell.execute_reply": "2021-03-25T16:07:56.897587Z"
    }
   },
   "outputs": [
    {
     "data": {
      "text/plain": [
       "java.lang.IllegalArgumentException: Invalid View: State View candidates are: Default Tree StateMachine Interconnection Activity Sequence MIXED \n",
       "\tat org.omg.sysml.plantuml.SysML2PlantUMLSvc.setView(SysML2PlantUMLSvc.java:63)\n",
       "\tat org.omg.sysml.interactive.SysMLInteractive.viz(SysMLInteractive.java:286)\n",
       "\tat org.omg.sysml.jupyter.kernel.magic.Viz.viz(Viz.java:47)\n",
       "\tat java.base/jdk.internal.reflect.NativeMethodAccessorImpl.invoke0(Native Method)\n",
       "\tat java.base/jdk.internal.reflect.NativeMethodAccessorImpl.invoke(NativeMethodAccessorImpl.java:78)\n",
       "\tat java.base/jdk.internal.reflect.DelegatingMethodAccessorImpl.invoke(DelegatingMethodAccessorImpl.java:43)\n",
       "\tat java.base/java.lang.reflect.Method.invoke(Method.java:568)\n",
       "\tat io.github.spencerpark.jupyter.kernel.magic.registry.Magics.invoke(Magics.java:89)\n",
       "\tat io.github.spencerpark.jupyter.kernel.magic.registry.Magics.access$000(Magics.java:8)\n",
       "\tat io.github.spencerpark.jupyter.kernel.magic.registry.Magics$LineReflectionMagicFunction.execute(Magics.java:149)\n",
       "\tat io.github.spencerpark.jupyter.kernel.magic.registry.Magics.applyLineMagic(Magics.java:26)\n",
       "\tat org.omg.sysml.jupyter.kernel.SysMLKernel.eval(SysMLKernel.java:76)\n",
       "\tat io.github.spencerpark.jupyter.kernel.BaseKernel.handleExecuteRequest(BaseKernel.java:334)\n",
       "\tat io.github.spencerpark.jupyter.channels.ShellChannel.lambda$bind$0(ShellChannel.java:64)\n",
       "\tat io.github.spencerpark.jupyter.channels.Loop.lambda$new$0(Loop.java:21)\n",
       "\tat io.github.spencerpark.jupyter.channels.Loop.run(Loop.java:78)\n"
      ]
     },
     "execution_count": 4,
     "metadata": {},
     "output_type": "execute_result"
    }
   ],
   "source": [
    "%viz --style=\"COMPTREE\" --view=\"State\" \"ViewTest\""
   ]
  },
  {
   "cell_type": "code",
   "execution_count": 5,
   "id": "hollow-disposal",
   "metadata": {
    "execution": {
     "iopub.execute_input": "2021-03-25T16:07:56.949001Z",
     "iopub.status.busy": "2021-03-25T16:07:56.948548Z",
     "iopub.status.idle": "2021-03-25T16:07:56.950137Z",
     "shell.execute_reply": "2021-03-25T16:07:56.950587Z"
    }
   },
   "outputs": [
    {
     "data": {
      "text/plain": [
       "java.lang.IllegalArgumentException: Invalid Style: COMPTREE Possible styles: POLYLINE, LR, STDCOLOR, PLANTUML, DEFAULT, TB, ORTHOLINE\n",
       "\tat org.omg.sysml.plantuml.SysML2PlantUMLStyle.get(SysML2PlantUMLStyle.java:258)\n",
       "\tat org.omg.sysml.plantuml.SysML2PlantUMLSvc.applyStyle(SysML2PlantUMLSvc.java:73)\n",
       "\tat org.omg.sysml.plantuml.SysML2PlantUMLSvc.getPlantUMLCode(SysML2PlantUMLSvc.java:88)\n",
       "\tat org.omg.sysml.plantuml.SysML2PlantUMLSvc.getSVG(SysML2PlantUMLSvc.java:99)\n",
       "\tat org.omg.sysml.interactive.SysMLInteractive.viz(SysMLInteractive.java:294)\n",
       "\tat org.omg.sysml.jupyter.kernel.magic.Viz.viz(Viz.java:47)\n",
       "\tat java.base/jdk.internal.reflect.NativeMethodAccessorImpl.invoke0(Native Method)\n",
       "\tat java.base/jdk.internal.reflect.NativeMethodAccessorImpl.invoke(NativeMethodAccessorImpl.java:78)\n",
       "\tat java.base/jdk.internal.reflect.DelegatingMethodAccessorImpl.invoke(DelegatingMethodAccessorImpl.java:43)\n",
       "\tat java.base/java.lang.reflect.Method.invoke(Method.java:568)\n",
       "\tat io.github.spencerpark.jupyter.kernel.magic.registry.Magics.invoke(Magics.java:89)\n",
       "\tat io.github.spencerpark.jupyter.kernel.magic.registry.Magics.access$000(Magics.java:8)\n",
       "\tat io.github.spencerpark.jupyter.kernel.magic.registry.Magics$LineReflectionMagicFunction.execute(Magics.java:149)\n",
       "\tat io.github.spencerpark.jupyter.kernel.magic.registry.Magics.applyLineMagic(Magics.java:26)\n",
       "\tat org.omg.sysml.jupyter.kernel.SysMLKernel.eval(SysMLKernel.java:76)\n",
       "\tat io.github.spencerpark.jupyter.kernel.BaseKernel.handleExecuteRequest(BaseKernel.java:334)\n",
       "\tat io.github.spencerpark.jupyter.channels.ShellChannel.lambda$bind$0(ShellChannel.java:64)\n",
       "\tat io.github.spencerpark.jupyter.channels.Loop.lambda$new$0(Loop.java:21)\n",
       "\tat io.github.spencerpark.jupyter.channels.Loop.run(Loop.java:78)\n"
      ]
     },
     "execution_count": 5,
     "metadata": {},
     "output_type": "execute_result"
    }
   ],
   "source": [
    "%viz --style=\"COMPTREE\" --view=\"Interconnection\" \"ViewTest\""
   ]
  },
  {
   "cell_type": "code",
   "execution_count": 6,
   "id": "desperate-initial",
   "metadata": {
    "execution": {
     "iopub.execute_input": "2021-03-25T16:07:57.002109Z",
     "iopub.status.busy": "2021-03-25T16:07:57.001500Z",
     "iopub.status.idle": "2021-03-25T16:07:57.003475Z",
     "shell.execute_reply": "2021-03-25T16:07:57.003963Z"
    }
   },
   "outputs": [
    {
     "data": {
      "text/plain": [
       "java.lang.IllegalArgumentException: Invalid View: Action View candidates are: Default Tree StateMachine Interconnection Activity Sequence MIXED \n",
       "\tat org.omg.sysml.plantuml.SysML2PlantUMLSvc.setView(SysML2PlantUMLSvc.java:63)\n",
       "\tat org.omg.sysml.interactive.SysMLInteractive.viz(SysMLInteractive.java:286)\n",
       "\tat org.omg.sysml.jupyter.kernel.magic.Viz.viz(Viz.java:47)\n",
       "\tat java.base/jdk.internal.reflect.NativeMethodAccessorImpl.invoke0(Native Method)\n",
       "\tat java.base/jdk.internal.reflect.NativeMethodAccessorImpl.invoke(NativeMethodAccessorImpl.java:78)\n",
       "\tat java.base/jdk.internal.reflect.DelegatingMethodAccessorImpl.invoke(DelegatingMethodAccessorImpl.java:43)\n",
       "\tat java.base/java.lang.reflect.Method.invoke(Method.java:568)\n",
       "\tat io.github.spencerpark.jupyter.kernel.magic.registry.Magics.invoke(Magics.java:89)\n",
       "\tat io.github.spencerpark.jupyter.kernel.magic.registry.Magics.access$000(Magics.java:8)\n",
       "\tat io.github.spencerpark.jupyter.kernel.magic.registry.Magics$LineReflectionMagicFunction.execute(Magics.java:149)\n",
       "\tat io.github.spencerpark.jupyter.kernel.magic.registry.Magics.applyLineMagic(Magics.java:26)\n",
       "\tat org.omg.sysml.jupyter.kernel.SysMLKernel.eval(SysMLKernel.java:76)\n",
       "\tat io.github.spencerpark.jupyter.kernel.BaseKernel.handleExecuteRequest(BaseKernel.java:334)\n",
       "\tat io.github.spencerpark.jupyter.channels.ShellChannel.lambda$bind$0(ShellChannel.java:64)\n",
       "\tat io.github.spencerpark.jupyter.channels.Loop.lambda$new$0(Loop.java:21)\n",
       "\tat io.github.spencerpark.jupyter.channels.Loop.run(Loop.java:78)\n"
      ]
     },
     "execution_count": 6,
     "metadata": {},
     "output_type": "execute_result"
    }
   ],
   "source": [
    "%viz --style=\"COMPTREE\" --view=\"Action\" \"ViewTest\""
   ]
  },
  {
   "cell_type": "code",
   "execution_count": 7,
   "id": "assured-joint",
   "metadata": {
    "execution": {
     "iopub.execute_input": "2021-03-25T16:07:57.055209Z",
     "iopub.status.busy": "2021-03-25T16:07:57.054789Z",
     "iopub.status.idle": "2021-03-25T16:07:57.056568Z",
     "shell.execute_reply": "2021-03-25T16:07:57.056932Z"
    }
   },
   "outputs": [
    {
     "data": {
      "text/plain": [
       "java.lang.IllegalArgumentException: Invalid Style: COMPTREE Possible styles: POLYLINE, LR, STDCOLOR, PLANTUML, DEFAULT, TB, ORTHOLINE\n",
       "\tat org.omg.sysml.plantuml.SysML2PlantUMLStyle.get(SysML2PlantUMLStyle.java:258)\n",
       "\tat org.omg.sysml.plantuml.SysML2PlantUMLSvc.applyStyle(SysML2PlantUMLSvc.java:73)\n",
       "\tat org.omg.sysml.plantuml.SysML2PlantUMLSvc.getPlantUMLCode(SysML2PlantUMLSvc.java:88)\n",
       "\tat org.omg.sysml.plantuml.SysML2PlantUMLSvc.getSVG(SysML2PlantUMLSvc.java:99)\n",
       "\tat org.omg.sysml.interactive.SysMLInteractive.viz(SysMLInteractive.java:294)\n",
       "\tat org.omg.sysml.jupyter.kernel.magic.Viz.viz(Viz.java:47)\n",
       "\tat java.base/jdk.internal.reflect.NativeMethodAccessorImpl.invoke0(Native Method)\n",
       "\tat java.base/jdk.internal.reflect.NativeMethodAccessorImpl.invoke(NativeMethodAccessorImpl.java:78)\n",
       "\tat java.base/jdk.internal.reflect.DelegatingMethodAccessorImpl.invoke(DelegatingMethodAccessorImpl.java:43)\n",
       "\tat java.base/java.lang.reflect.Method.invoke(Method.java:568)\n",
       "\tat io.github.spencerpark.jupyter.kernel.magic.registry.Magics.invoke(Magics.java:89)\n",
       "\tat io.github.spencerpark.jupyter.kernel.magic.registry.Magics.access$000(Magics.java:8)\n",
       "\tat io.github.spencerpark.jupyter.kernel.magic.registry.Magics$LineReflectionMagicFunction.execute(Magics.java:149)\n",
       "\tat io.github.spencerpark.jupyter.kernel.magic.registry.Magics.applyLineMagic(Magics.java:26)\n",
       "\tat org.omg.sysml.jupyter.kernel.SysMLKernel.eval(SysMLKernel.java:76)\n",
       "\tat io.github.spencerpark.jupyter.kernel.BaseKernel.handleExecuteRequest(BaseKernel.java:334)\n",
       "\tat io.github.spencerpark.jupyter.channels.ShellChannel.lambda$bind$0(ShellChannel.java:64)\n",
       "\tat io.github.spencerpark.jupyter.channels.Loop.lambda$new$0(Loop.java:21)\n",
       "\tat io.github.spencerpark.jupyter.channels.Loop.run(Loop.java:78)\n"
      ]
     },
     "execution_count": 7,
     "metadata": {},
     "output_type": "execute_result"
    }
   ],
   "source": [
    "%viz --style=\"COMPTREE\" --view=\"Sequence\" \"ViewTest\""
   ]
  },
  {
   "cell_type": "code",
   "execution_count": 8,
   "id": "domestic-yorkshire",
   "metadata": {
    "execution": {
     "iopub.execute_input": "2021-03-25T16:07:57.108587Z",
     "iopub.status.busy": "2021-03-25T16:07:57.108019Z",
     "iopub.status.idle": "2021-03-25T16:07:57.111532Z",
     "shell.execute_reply": "2021-03-25T16:07:57.111946Z"
    }
   },
   "outputs": [
    {
     "data": {
      "text/plain": [
       "java.lang.IllegalArgumentException: Invalid Style: COMPTREE Possible styles: POLYLINE, LR, STDCOLOR, PLANTUML, DEFAULT, TB, ORTHOLINE\n",
       "\tat org.omg.sysml.plantuml.SysML2PlantUMLStyle.get(SysML2PlantUMLStyle.java:258)\n",
       "\tat org.omg.sysml.plantuml.SysML2PlantUMLSvc.applyStyle(SysML2PlantUMLSvc.java:73)\n",
       "\tat org.omg.sysml.plantuml.SysML2PlantUMLSvc.getPlantUMLCode(SysML2PlantUMLSvc.java:88)\n",
       "\tat org.omg.sysml.plantuml.SysML2PlantUMLSvc.getSVG(SysML2PlantUMLSvc.java:99)\n",
       "\tat org.omg.sysml.interactive.SysMLInteractive.viz(SysMLInteractive.java:294)\n",
       "\tat org.omg.sysml.jupyter.kernel.magic.Viz.viz(Viz.java:47)\n",
       "\tat java.base/jdk.internal.reflect.NativeMethodAccessorImpl.invoke0(Native Method)\n",
       "\tat java.base/jdk.internal.reflect.NativeMethodAccessorImpl.invoke(NativeMethodAccessorImpl.java:78)\n",
       "\tat java.base/jdk.internal.reflect.DelegatingMethodAccessorImpl.invoke(DelegatingMethodAccessorImpl.java:43)\n",
       "\tat java.base/java.lang.reflect.Method.invoke(Method.java:568)\n",
       "\tat io.github.spencerpark.jupyter.kernel.magic.registry.Magics.invoke(Magics.java:89)\n",
       "\tat io.github.spencerpark.jupyter.kernel.magic.registry.Magics.access$000(Magics.java:8)\n",
       "\tat io.github.spencerpark.jupyter.kernel.magic.registry.Magics$LineReflectionMagicFunction.execute(Magics.java:149)\n",
       "\tat io.github.spencerpark.jupyter.kernel.magic.registry.Magics.applyLineMagic(Magics.java:26)\n",
       "\tat org.omg.sysml.jupyter.kernel.SysMLKernel.eval(SysMLKernel.java:76)\n",
       "\tat io.github.spencerpark.jupyter.kernel.BaseKernel.handleExecuteRequest(BaseKernel.java:334)\n",
       "\tat io.github.spencerpark.jupyter.channels.ShellChannel.lambda$bind$0(ShellChannel.java:64)\n",
       "\tat io.github.spencerpark.jupyter.channels.Loop.lambda$new$0(Loop.java:21)\n",
       "\tat io.github.spencerpark.jupyter.channels.Loop.run(Loop.java:78)\n"
      ]
     },
     "execution_count": 8,
     "metadata": {},
     "output_type": "execute_result"
    }
   ],
   "source": [
    "%viz --style=\"COMPTREE\" --view=\"MIXED\" \"ViewTest\""
   ]
  },
  {
   "cell_type": "code",
   "execution_count": 9,
   "id": "marked-skirt",
   "metadata": {
    "execution": {
     "iopub.execute_input": "2021-03-25T16:07:57.162605Z",
     "iopub.status.busy": "2021-03-25T16:07:57.162120Z",
     "iopub.status.idle": "2021-03-25T16:07:57.886585Z",
     "shell.execute_reply": "2021-03-25T16:07:57.887031Z"
    }
   },
   "outputs": [
    {
     "data": {
      "image/svg+xml": [
       "<?xml version=\"1.0\" encoding=\"UTF-8\" standalone=\"no\"?><svg xmlns=\"http://www.w3.org/2000/svg\" xmlns:xlink=\"http://www.w3.org/1999/xlink\" contentScriptType=\"application/ecmascript\" contentStyleType=\"text/css\" height=\"546px\" preserveAspectRatio=\"none\" style=\"width:318px;height:546px;\" version=\"1.1\" viewBox=\"0 0 318 546\" width=\"318px\" zoomAndPan=\"magnify\"><defs/><g><!--MD5=[fbc87193dbaf4d95561dea2c320d4a47]\n",
       "cluster E1--><polygon fill=\"#FFFFFF\" points=\"16,6,96,6,103,28.2969,296,28.2969,296,534,16,534,16,6\" style=\"stroke: #000000; stroke-width: 1.5;\"/><line style=\"stroke: #000000; stroke-width: 1.5;\" x1=\"16\" x2=\"103\" y1=\"28.2969\" y2=\"28.2969\"/><text fill=\"#000000\" font-family=\"sans-serif\" font-size=\"14\" font-weight=\"bold\" lengthAdjust=\"spacingAndGlyphs\" textLength=\"74\" x=\"20\" y=\"20.9951\">ViewTest</text><!--MD5=[09b614a08d8cba4a07c9adeb5e0fee81]\n",
       "class E3--><rect fill=\"#FFFFFF\" height=\"45.9375\" id=\"E3\" style=\"stroke: #383838; stroke-width: 1.5;\" width=\"98\" x=\"32\" y=\"260\"/><text fill=\"#000000\" font-family=\"sans-serif\" font-size=\"12\" font-style=\"italic\" lengthAdjust=\"spacingAndGlyphs\" textLength=\"96\" x=\"33\" y=\"276.1387\">«viewpoint def»</text><text fill=\"#000000\" font-family=\"sans-serif\" font-size=\"12\" lengthAdjust=\"spacingAndGlyphs\" textLength=\"16\" x=\"73\" y=\"290.1074\">VP</text><line style=\"stroke: #383838; stroke-width: 1.5;\" x1=\"33\" x2=\"129\" y1=\"297.9375\" y2=\"297.9375\"/><!--MD5=[ebbe1d658d1005bcc118a6aa81145e00]\n",
       "class E4--><rect fill=\"#FFFFFF\" height=\"45.9375\" id=\"E4\" style=\"stroke: #383838; stroke-width: 1.5;\" width=\"101\" x=\"146.5\" y=\"472\"/><text fill=\"#000000\" font-family=\"sans-serif\" font-size=\"12\" font-style=\"italic\" lengthAdjust=\"spacingAndGlyphs\" textLength=\"99\" x=\"147.5\" y=\"488.1387\">«rendering def»</text><text fill=\"#000000\" font-family=\"sans-serif\" font-size=\"12\" lengthAdjust=\"spacingAndGlyphs\" textLength=\"8\" x=\"193\" y=\"502.1074\">R</text><line style=\"stroke: #383838; stroke-width: 1.5;\" x1=\"147.5\" x2=\"246.5\" y1=\"509.9375\" y2=\"509.9375\"/><!--MD5=[270fce915f116d4de14055a7c1d9a0f3]\n",
       "class E5--><rect fill=\"#FFFFFF\" height=\"45.9375\" id=\"E5\" style=\"stroke: #383838; stroke-width: 1.5;\" width=\"66\" x=\"161\" y=\"44.5\"/><text fill=\"#000000\" font-family=\"sans-serif\" font-size=\"12\" font-style=\"italic\" lengthAdjust=\"spacingAndGlyphs\" textLength=\"64\" x=\"162\" y=\"60.6387\">«view def»</text><text fill=\"#000000\" font-family=\"sans-serif\" font-size=\"12\" lengthAdjust=\"spacingAndGlyphs\" textLength=\"8\" x=\"190\" y=\"74.6074\">V</text><line style=\"stroke: #383838; stroke-width: 1.5;\" x1=\"162\" x2=\"226\" y1=\"82.4375\" y2=\"82.4375\"/><!--MD5=[60a26617385b1d2d0262a64233df1f8d]\n",
       "class E6--><rect fill=\"#FFFFFF\" height=\"45.9375\" id=\"E6\" rx=\"10\" ry=\"10\" style=\"stroke: #383838; stroke-width: 1.5;\" width=\"74\" x=\"50\" y=\"154\"/><text fill=\"#000000\" font-family=\"sans-serif\" font-size=\"12\" font-style=\"italic\" lengthAdjust=\"spacingAndGlyphs\" textLength=\"72\" x=\"51\" y=\"170.1387\">«viewpoint»</text><text fill=\"#000000\" font-family=\"sans-serif\" font-size=\"12\" lengthAdjust=\"spacingAndGlyphs\" textLength=\"38\" x=\"68\" y=\"184.1074\">vp: VP</text><line style=\"stroke: #383838; stroke-width: 1.5;\" x1=\"51\" x2=\"123\" y1=\"191.9375\" y2=\"191.9375\"/><!--MD5=[2156ba9850f5573cc1fc38a6a4b2f02b]\n",
       "class E7--><rect fill=\"#FFFFFF\" height=\"45.9375\" id=\"E7\" rx=\"10\" ry=\"10\" style=\"stroke: #383838; stroke-width: 1.5;\" width=\"77\" x=\"158.5\" y=\"366\"/><text fill=\"#000000\" font-family=\"sans-serif\" font-size=\"12\" font-style=\"italic\" lengthAdjust=\"spacingAndGlyphs\" textLength=\"75\" x=\"159.5\" y=\"382.1387\">«rendering»</text><text fill=\"#000000\" font-family=\"sans-serif\" font-size=\"12\" lengthAdjust=\"spacingAndGlyphs\" textLength=\"21\" x=\"186.5\" y=\"396.1074\">r: R</text><line style=\"stroke: #383838; stroke-width: 1.5;\" x1=\"159.5\" x2=\"234.5\" y1=\"403.9375\" y2=\"403.9375\"/><!--MD5=[b9389687b975829384b498ac4b7476b2]\n",
       "class E8--><rect fill=\"#FFFFFF\" height=\"45.9375\" id=\"E8\" rx=\"10\" ry=\"10\" style=\"stroke: #383838; stroke-width: 1.5;\" width=\"42\" x=\"202\" y=\"154\"/><text fill=\"#000000\" font-family=\"sans-serif\" font-size=\"12\" font-style=\"italic\" lengthAdjust=\"spacingAndGlyphs\" textLength=\"40\" x=\"203\" y=\"170.1387\">«view»</text><text fill=\"#000000\" font-family=\"sans-serif\" font-size=\"12\" lengthAdjust=\"spacingAndGlyphs\" textLength=\"22\" x=\"212\" y=\"184.1074\">v: V</text><line style=\"stroke: #383838; stroke-width: 1.5;\" x1=\"203\" x2=\"243\" y1=\"191.9375\" y2=\"191.9375\"/><!--MD5=[fd4143e9d270a159db93a4ea2a975926]\n",
       "class E9--><rect fill=\"#FFFFFF\" height=\"45.9375\" id=\"E9\" rx=\"10\" ry=\"10\" style=\"stroke: #383838; stroke-width: 1.5;\" width=\"77\" x=\"202.5\" y=\"260\"/><text fill=\"#000000\" font-family=\"sans-serif\" font-size=\"12\" font-style=\"italic\" lengthAdjust=\"spacingAndGlyphs\" textLength=\"75\" x=\"203.5\" y=\"276.1387\">«rendering»</text><text fill=\"#000000\" font-family=\"sans-serif\" font-size=\"12\" lengthAdjust=\"spacingAndGlyphs\" textLength=\"29\" x=\"226.5\" y=\"290.1074\">r1: R</text><line style=\"stroke: #383838; stroke-width: 1.5;\" x1=\"203.5\" x2=\"278.5\" y1=\"297.9375\" y2=\"297.9375\"/><polygon fill=\"#FFFFFF\" points=\"78,41,94,41,101,63.2969,108,63.2969,108,93.5938,78,93.5938,78,41\" style=\"stroke: #000000; stroke-width: 1.5;\"/><line style=\"stroke: #000000; stroke-width: 1.5;\" x1=\"78\" x2=\"101\" y1=\"63.2969\" y2=\"63.2969\"/><text fill=\"#000000\" font-family=\"sans-serif\" font-size=\"14\" font-weight=\"bold\" lengthAdjust=\"spacingAndGlyphs\" textLength=\"10\" x=\"82\" y=\"55.9951\">P</text><!--MD5=[85d356282659285ab4b2cfe2f634dd2b]\n",
       "reverse link E5 to E6--><path d=\"M162.51,100.14 C145.4,117.33 124.66,138.16 109.25,153.65 \" fill=\"none\" id=\"E5&lt;-E6\" style=\"stroke: #383838; stroke-width: 1.0;\"/><polygon fill=\"#383838\" points=\"172.09,90.51,165.0222,91.9407,163.6245,99.015,170.6923,97.5843,172.09,90.51\" style=\"stroke: #383838; stroke-width: 1.0;\"/><!--MD5=[a717450b82c80b9240a525fa862496af]\n",
       "link E6 to E3--><path d=\"M85.73,200.06 C85.06,211.64 84.22,226.23 83.43,239.87 \" fill=\"none\" id=\"E6-&gt;E3\" style=\"stroke: #383838; stroke-width: 1.0;\"/><polygon fill=\"#FFFFFF\" points=\"82.27,259.98,76.3669,240.6111,90.3441,241.411,82.27,259.98\" style=\"stroke: #383838; stroke-width: 1.0;\"/><ellipse cx=\"78.6893\" cy=\"235.0347\" fill=\"#383838\" rx=\"2\" ry=\"2\" style=\"stroke: #383838; stroke-width: 1.0;\"/><ellipse cx=\"88.673\" cy=\"235.606\" fill=\"#383838\" rx=\"2\" ry=\"2\" style=\"stroke: #383838; stroke-width: 1.0;\"/><!--MD5=[6bdd27f9905911a7e892a3dc65cf6b7c]\n",
       "link E7 to E4--><path d=\"M197,412.06 C197,423.64 197,438.23 197,451.87 \" fill=\"none\" id=\"E7-&gt;E4\" style=\"stroke: #383838; stroke-width: 1.0;\"/><polygon fill=\"#FFFFFF\" points=\"197,471.98,190,452.98,204,452.98,197,471.98\" style=\"stroke: #383838; stroke-width: 1.0;\"/><ellipse cx=\"192\" cy=\"447.28\" fill=\"#383838\" rx=\"2\" ry=\"2\" style=\"stroke: #383838; stroke-width: 1.0;\"/><ellipse cx=\"202\" cy=\"447.28\" fill=\"#383838\" rx=\"2\" ry=\"2\" style=\"stroke: #383838; stroke-width: 1.0;\"/><!--MD5=[452b418e7f8a40397a49b8c0a78acc5b]\n",
       "reverse link E5 to E7--><path d=\"M190.32,103.47 C187.83,127.09 185,154 185,154 C185,154 185,306 185,306 C185,306 190.17,341.31 193.72,365.59 \" fill=\"none\" id=\"E5&lt;-E7\" style=\"stroke: #383838; stroke-width: 1.0;\"/><polygon fill=\"#383838\" points=\"191.68,90.52,187.0755,96.0696,190.4272,102.4544,195.0317,96.9048,191.68,90.52\" style=\"stroke: #383838; stroke-width: 1.0;\"/><text fill=\"#000000\" font-family=\"sans-serif\" font-size=\"13\" lengthAdjust=\"spacingAndGlyphs\" textLength=\"24\" x=\"165.8045\" y=\"354.7612\">0..1</text><!--MD5=[1ccb2481ffa92f8d51a74ee30c51832a]\n",
       "link E8 to E5--><path d=\"M228.17,153.65 C226.85,140.84 223.06,124.37 218.16,109.34 \" fill=\"none\" id=\"E8-&gt;E5\" style=\"stroke: #383838; stroke-width: 1.0;\"/><polygon fill=\"#FFFFFF\" points=\"211.08,90.51,224.3197,105.8302,211.2157,110.758,211.08,90.51\" style=\"stroke: #383838; stroke-width: 1.0;\"/><ellipse cx=\"224.454\" cy=\"111.8694\" fill=\"#383838\" rx=\"2\" ry=\"2\" style=\"stroke: #383838; stroke-width: 1.0;\"/><ellipse cx=\"215.094\" cy=\"115.3893\" fill=\"#383838\" rx=\"2\" ry=\"2\" style=\"stroke: #383838; stroke-width: 1.0;\"/><!--MD5=[827760032d119d06bbc92f75530fd7ae]\n",
       "reverse link E5 to E8--><path d=\"M191.42,103.56 C194.56,120.03 200.21,139.18 206.39,153.65 \" fill=\"none\" id=\"E5&lt;-E8\" style=\"stroke: #383838; stroke-width: 1.0;\"/><polygon fill=\"#383838\" points=\"189.42,90.51,186.3756,97.0469,191.2387,102.3714,194.2832,95.8344,189.42,90.51\" style=\"stroke: #383838; stroke-width: 1.0;\"/><text fill=\"#000000\" font-family=\"sans-serif\" font-size=\"13\" lengthAdjust=\"spacingAndGlyphs\" textLength=\"7\" x=\"194.2368\" y=\"142.8366\">*</text><!--MD5=[cf04703ca05eebef50f1cfe8b03e143b]\n",
       "link E9 to E7--><path d=\"M231.67,306.06 C226.59,318.05 220.15,333.27 214.21,347.33 \" fill=\"none\" id=\"E9-&gt;E7\" style=\"stroke: #383838; stroke-width: 1.0;\"/><polygon fill=\"#FFFFFF\" points=\"206.32,365.98,207.2662,345.7537,220.1625,351.2021,206.32,365.98\" style=\"stroke: #383838; stroke-width: 1.0;\"/><line style=\"stroke: #383838; stroke-width: 2.0;\" x1=\"208.745\" x2=\"221.6413\" y1=\"342.2532\" y2=\"347.7017\"/><!--MD5=[22f5b4bae7e060dce8a1c8021efdb95b]\n",
       "reverse link E8 to E9--><path d=\"M229.05,212.96 C231.74,228.51 234.83,246.33 237.19,259.98 \" fill=\"none\" id=\"E8&lt;-E9\" style=\"stroke: #383838; stroke-width: 1.0;\"/><polygon fill=\"#383838\" points=\"226.82,200.06,223.9001,206.6535,228.8633,211.8848,231.7832,205.2913,226.82,200.06\" style=\"stroke: #383838; stroke-width: 1.0;\"/><!--MD5=[80a7a07aaca1d7b0e9b13983fe7ee6ab]\n",
       "@startuml\r\n",
       "skinparam linetype polyline\r\n",
       "skinparam monochrome true\r\n",
       "skinparam classbackgroundcolor white\r\n",
       "skinparam shadowing false\r\n",
       "skinparam wrapWidth 300\r\n",
       "hide circle\r\n",
       "\r\n",
       "package \"ViewTest\" as E1   {\r\n",
       "package \"P\" as E2   {\r\n",
       "}\r\n",
       "comp def \"VP\" as E3  <<(T,blue)viewpoint def>> {\r\n",
       "}\r\n",
       "comp def \"R\" as E4  <<(T,blue)rendering def>> {\r\n",
       "}\r\n",
       "comp def \"V\" as E5  <<(T,blue)view def>> {\r\n",
       "}\r\n",
       "comp usage \"vp: VP\" as E6  <<(T,blue)viewpoint>> {\r\n",
       "}\r\n",
       "comp usage \"r: R\" as E7  <<(T,blue)rendering>> {\r\n",
       "}\r\n",
       "comp usage \"v: V\" as E8  <<(T,blue)view>> {\r\n",
       "}\r\n",
       "comp usage \"r1: R\" as E9  <<(T,blue)rendering>> {\r\n",
       "}\r\n",
       "E5 *- - E6\r\n",
       "E6 - -:|> E3\r\n",
       "E7 - -:|> E4\r\n",
       "E5 *- - \"0..1\"E7\r\n",
       "E8 - -:|> E5\r\n",
       "E5 *- - \"*\"E8\r\n",
       "E9 - -||> E7\r\n",
       "E8 *- - E9\r\n",
       "}\r\n",
       "@enduml\r\n",
       "\n",
       "PlantUML version 1.2020.13(Sat Jun 13 12:26:38 UTC 2020)\n",
       "(EPL source distribution)\n",
       "Java Runtime: OpenJDK Runtime Environment\n",
       "JVM: OpenJDK 64-Bit Server VM\n",
       "Default Encoding: UTF-8\n",
       "Language: en\n",
       "Country: null\n",
       "--></g></svg>"
      ]
     },
     "execution_count": 9,
     "metadata": {},
     "output_type": "execute_result"
    }
   ],
   "source": [
    "%viz --style=\"POLYLINE\" --view=\"Default\" \"ViewTest\""
   ]
  },
  {
   "cell_type": "code",
   "execution_count": 10,
   "id": "subsequent-cover",
   "metadata": {
    "execution": {
     "iopub.execute_input": "2021-03-25T16:07:57.937810Z",
     "iopub.status.busy": "2021-03-25T16:07:57.937368Z",
     "iopub.status.idle": "2021-03-25T16:07:58.075342Z",
     "shell.execute_reply": "2021-03-25T16:07:58.074836Z"
    }
   },
   "outputs": [
    {
     "data": {
      "image/svg+xml": [
       "<?xml version=\"1.0\" encoding=\"UTF-8\" standalone=\"no\"?><svg xmlns=\"http://www.w3.org/2000/svg\" xmlns:xlink=\"http://www.w3.org/1999/xlink\" contentScriptType=\"application/ecmascript\" contentStyleType=\"text/css\" height=\"546px\" preserveAspectRatio=\"none\" style=\"width:318px;height:546px;\" version=\"1.1\" viewBox=\"0 0 318 546\" width=\"318px\" zoomAndPan=\"magnify\"><defs/><g><!--MD5=[fbc87193dbaf4d95561dea2c320d4a47]\n",
       "cluster E1--><polygon fill=\"#FFFFFF\" points=\"16,6,96,6,103,28.2969,296,28.2969,296,534,16,534,16,6\" style=\"stroke: #000000; stroke-width: 1.5;\"/><line style=\"stroke: #000000; stroke-width: 1.5;\" x1=\"16\" x2=\"103\" y1=\"28.2969\" y2=\"28.2969\"/><text fill=\"#000000\" font-family=\"sans-serif\" font-size=\"14\" font-weight=\"bold\" lengthAdjust=\"spacingAndGlyphs\" textLength=\"74\" x=\"20\" y=\"20.9951\">ViewTest</text><!--MD5=[09b614a08d8cba4a07c9adeb5e0fee81]\n",
       "class E3--><rect fill=\"#FFFFFF\" height=\"45.9375\" id=\"E3\" style=\"stroke: #383838; stroke-width: 1.5;\" width=\"98\" x=\"32\" y=\"260\"/><text fill=\"#000000\" font-family=\"sans-serif\" font-size=\"12\" font-style=\"italic\" lengthAdjust=\"spacingAndGlyphs\" textLength=\"96\" x=\"33\" y=\"276.1387\">«viewpoint def»</text><text fill=\"#000000\" font-family=\"sans-serif\" font-size=\"12\" lengthAdjust=\"spacingAndGlyphs\" textLength=\"16\" x=\"73\" y=\"290.1074\">VP</text><line style=\"stroke: #383838; stroke-width: 1.5;\" x1=\"33\" x2=\"129\" y1=\"297.9375\" y2=\"297.9375\"/><!--MD5=[ebbe1d658d1005bcc118a6aa81145e00]\n",
       "class E4--><rect fill=\"#FFFFFF\" height=\"45.9375\" id=\"E4\" style=\"stroke: #383838; stroke-width: 1.5;\" width=\"101\" x=\"146.5\" y=\"472\"/><text fill=\"#000000\" font-family=\"sans-serif\" font-size=\"12\" font-style=\"italic\" lengthAdjust=\"spacingAndGlyphs\" textLength=\"99\" x=\"147.5\" y=\"488.1387\">«rendering def»</text><text fill=\"#000000\" font-family=\"sans-serif\" font-size=\"12\" lengthAdjust=\"spacingAndGlyphs\" textLength=\"8\" x=\"193\" y=\"502.1074\">R</text><line style=\"stroke: #383838; stroke-width: 1.5;\" x1=\"147.5\" x2=\"246.5\" y1=\"509.9375\" y2=\"509.9375\"/><!--MD5=[270fce915f116d4de14055a7c1d9a0f3]\n",
       "class E5--><rect fill=\"#FFFFFF\" height=\"45.9375\" id=\"E5\" style=\"stroke: #383838; stroke-width: 1.5;\" width=\"66\" x=\"161\" y=\"44.5\"/><text fill=\"#000000\" font-family=\"sans-serif\" font-size=\"12\" font-style=\"italic\" lengthAdjust=\"spacingAndGlyphs\" textLength=\"64\" x=\"162\" y=\"60.6387\">«view def»</text><text fill=\"#000000\" font-family=\"sans-serif\" font-size=\"12\" lengthAdjust=\"spacingAndGlyphs\" textLength=\"8\" x=\"190\" y=\"74.6074\">V</text><line style=\"stroke: #383838; stroke-width: 1.5;\" x1=\"162\" x2=\"226\" y1=\"82.4375\" y2=\"82.4375\"/><!--MD5=[60a26617385b1d2d0262a64233df1f8d]\n",
       "class E6--><rect fill=\"#FFFFFF\" height=\"45.9375\" id=\"E6\" rx=\"10\" ry=\"10\" style=\"stroke: #383838; stroke-width: 1.5;\" width=\"74\" x=\"50\" y=\"154\"/><text fill=\"#000000\" font-family=\"sans-serif\" font-size=\"12\" font-style=\"italic\" lengthAdjust=\"spacingAndGlyphs\" textLength=\"72\" x=\"51\" y=\"170.1387\">«viewpoint»</text><text fill=\"#000000\" font-family=\"sans-serif\" font-size=\"12\" lengthAdjust=\"spacingAndGlyphs\" textLength=\"38\" x=\"68\" y=\"184.1074\">vp: VP</text><line style=\"stroke: #383838; stroke-width: 1.5;\" x1=\"51\" x2=\"123\" y1=\"191.9375\" y2=\"191.9375\"/><!--MD5=[2156ba9850f5573cc1fc38a6a4b2f02b]\n",
       "class E7--><rect fill=\"#FFFFFF\" height=\"45.9375\" id=\"E7\" rx=\"10\" ry=\"10\" style=\"stroke: #383838; stroke-width: 1.5;\" width=\"77\" x=\"158.5\" y=\"366\"/><text fill=\"#000000\" font-family=\"sans-serif\" font-size=\"12\" font-style=\"italic\" lengthAdjust=\"spacingAndGlyphs\" textLength=\"75\" x=\"159.5\" y=\"382.1387\">«rendering»</text><text fill=\"#000000\" font-family=\"sans-serif\" font-size=\"12\" lengthAdjust=\"spacingAndGlyphs\" textLength=\"21\" x=\"186.5\" y=\"396.1074\">r: R</text><line style=\"stroke: #383838; stroke-width: 1.5;\" x1=\"159.5\" x2=\"234.5\" y1=\"403.9375\" y2=\"403.9375\"/><!--MD5=[b9389687b975829384b498ac4b7476b2]\n",
       "class E8--><rect fill=\"#FFFFFF\" height=\"45.9375\" id=\"E8\" rx=\"10\" ry=\"10\" style=\"stroke: #383838; stroke-width: 1.5;\" width=\"42\" x=\"202\" y=\"154\"/><text fill=\"#000000\" font-family=\"sans-serif\" font-size=\"12\" font-style=\"italic\" lengthAdjust=\"spacingAndGlyphs\" textLength=\"40\" x=\"203\" y=\"170.1387\">«view»</text><text fill=\"#000000\" font-family=\"sans-serif\" font-size=\"12\" lengthAdjust=\"spacingAndGlyphs\" textLength=\"22\" x=\"212\" y=\"184.1074\">v: V</text><line style=\"stroke: #383838; stroke-width: 1.5;\" x1=\"203\" x2=\"243\" y1=\"191.9375\" y2=\"191.9375\"/><!--MD5=[fd4143e9d270a159db93a4ea2a975926]\n",
       "class E9--><rect fill=\"#FFFFFF\" height=\"45.9375\" id=\"E9\" rx=\"10\" ry=\"10\" style=\"stroke: #383838; stroke-width: 1.5;\" width=\"77\" x=\"202.5\" y=\"260\"/><text fill=\"#000000\" font-family=\"sans-serif\" font-size=\"12\" font-style=\"italic\" lengthAdjust=\"spacingAndGlyphs\" textLength=\"75\" x=\"203.5\" y=\"276.1387\">«rendering»</text><text fill=\"#000000\" font-family=\"sans-serif\" font-size=\"12\" lengthAdjust=\"spacingAndGlyphs\" textLength=\"29\" x=\"226.5\" y=\"290.1074\">r1: R</text><line style=\"stroke: #383838; stroke-width: 1.5;\" x1=\"203.5\" x2=\"278.5\" y1=\"297.9375\" y2=\"297.9375\"/><polygon fill=\"#FFFFFF\" points=\"78,41,94,41,101,63.2969,108,63.2969,108,93.5938,78,93.5938,78,41\" style=\"stroke: #000000; stroke-width: 1.5;\"/><line style=\"stroke: #000000; stroke-width: 1.5;\" x1=\"78\" x2=\"101\" y1=\"63.2969\" y2=\"63.2969\"/><text fill=\"#000000\" font-family=\"sans-serif\" font-size=\"14\" font-weight=\"bold\" lengthAdjust=\"spacingAndGlyphs\" textLength=\"10\" x=\"82\" y=\"55.9951\">P</text><!--MD5=[85d356282659285ab4b2cfe2f634dd2b]\n",
       "reverse link E5 to E6--><path d=\"M162.51,100.14 C145.4,117.33 124.66,138.16 109.25,153.65 \" fill=\"none\" id=\"E5&lt;-E6\" style=\"stroke: #383838; stroke-width: 1.0;\"/><polygon fill=\"#383838\" points=\"172.09,90.51,165.0222,91.9407,163.6245,99.015,170.6923,97.5843,172.09,90.51\" style=\"stroke: #383838; stroke-width: 1.0;\"/><!--MD5=[a717450b82c80b9240a525fa862496af]\n",
       "link E6 to E3--><path d=\"M85.73,200.06 C85.06,211.64 84.22,226.23 83.43,239.87 \" fill=\"none\" id=\"E6-&gt;E3\" style=\"stroke: #383838; stroke-width: 1.0;\"/><polygon fill=\"#FFFFFF\" points=\"82.27,259.98,76.3669,240.6111,90.3441,241.411,82.27,259.98\" style=\"stroke: #383838; stroke-width: 1.0;\"/><ellipse cx=\"78.6893\" cy=\"235.0347\" fill=\"#383838\" rx=\"2\" ry=\"2\" style=\"stroke: #383838; stroke-width: 1.0;\"/><ellipse cx=\"88.673\" cy=\"235.606\" fill=\"#383838\" rx=\"2\" ry=\"2\" style=\"stroke: #383838; stroke-width: 1.0;\"/><!--MD5=[6bdd27f9905911a7e892a3dc65cf6b7c]\n",
       "link E7 to E4--><path d=\"M197,412.06 C197,423.64 197,438.23 197,451.87 \" fill=\"none\" id=\"E7-&gt;E4\" style=\"stroke: #383838; stroke-width: 1.0;\"/><polygon fill=\"#FFFFFF\" points=\"197,471.98,190,452.98,204,452.98,197,471.98\" style=\"stroke: #383838; stroke-width: 1.0;\"/><ellipse cx=\"192\" cy=\"447.28\" fill=\"#383838\" rx=\"2\" ry=\"2\" style=\"stroke: #383838; stroke-width: 1.0;\"/><ellipse cx=\"202\" cy=\"447.28\" fill=\"#383838\" rx=\"2\" ry=\"2\" style=\"stroke: #383838; stroke-width: 1.0;\"/><!--MD5=[452b418e7f8a40397a49b8c0a78acc5b]\n",
       "reverse link E5 to E7--><path d=\"M190.32,103.47 C187.83,127.09 185,154 185,154 C185,154 185,306 185,306 C185,306 190.17,341.31 193.72,365.59 \" fill=\"none\" id=\"E5&lt;-E7\" style=\"stroke: #383838; stroke-width: 1.0;\"/><polygon fill=\"#383838\" points=\"191.68,90.52,187.0755,96.0696,190.4272,102.4544,195.0317,96.9048,191.68,90.52\" style=\"stroke: #383838; stroke-width: 1.0;\"/><text fill=\"#000000\" font-family=\"sans-serif\" font-size=\"13\" lengthAdjust=\"spacingAndGlyphs\" textLength=\"24\" x=\"165.8045\" y=\"354.7612\">0..1</text><!--MD5=[1ccb2481ffa92f8d51a74ee30c51832a]\n",
       "link E8 to E5--><path d=\"M228.17,153.65 C226.85,140.84 223.06,124.37 218.16,109.34 \" fill=\"none\" id=\"E8-&gt;E5\" style=\"stroke: #383838; stroke-width: 1.0;\"/><polygon fill=\"#FFFFFF\" points=\"211.08,90.51,224.3197,105.8302,211.2157,110.758,211.08,90.51\" style=\"stroke: #383838; stroke-width: 1.0;\"/><ellipse cx=\"224.454\" cy=\"111.8694\" fill=\"#383838\" rx=\"2\" ry=\"2\" style=\"stroke: #383838; stroke-width: 1.0;\"/><ellipse cx=\"215.094\" cy=\"115.3893\" fill=\"#383838\" rx=\"2\" ry=\"2\" style=\"stroke: #383838; stroke-width: 1.0;\"/><!--MD5=[827760032d119d06bbc92f75530fd7ae]\n",
       "reverse link E5 to E8--><path d=\"M191.42,103.56 C194.56,120.03 200.21,139.18 206.39,153.65 \" fill=\"none\" id=\"E5&lt;-E8\" style=\"stroke: #383838; stroke-width: 1.0;\"/><polygon fill=\"#383838\" points=\"189.42,90.51,186.3756,97.0469,191.2387,102.3714,194.2832,95.8344,189.42,90.51\" style=\"stroke: #383838; stroke-width: 1.0;\"/><text fill=\"#000000\" font-family=\"sans-serif\" font-size=\"13\" lengthAdjust=\"spacingAndGlyphs\" textLength=\"7\" x=\"194.2368\" y=\"142.8366\">*</text><!--MD5=[cf04703ca05eebef50f1cfe8b03e143b]\n",
       "link E9 to E7--><path d=\"M231.67,306.06 C226.59,318.05 220.15,333.27 214.21,347.33 \" fill=\"none\" id=\"E9-&gt;E7\" style=\"stroke: #383838; stroke-width: 1.0;\"/><polygon fill=\"#FFFFFF\" points=\"206.32,365.98,207.2662,345.7537,220.1625,351.2021,206.32,365.98\" style=\"stroke: #383838; stroke-width: 1.0;\"/><line style=\"stroke: #383838; stroke-width: 2.0;\" x1=\"208.745\" x2=\"221.6413\" y1=\"342.2532\" y2=\"347.7017\"/><!--MD5=[22f5b4bae7e060dce8a1c8021efdb95b]\n",
       "reverse link E8 to E9--><path d=\"M229.05,212.96 C231.74,228.51 234.83,246.33 237.19,259.98 \" fill=\"none\" id=\"E8&lt;-E9\" style=\"stroke: #383838; stroke-width: 1.0;\"/><polygon fill=\"#383838\" points=\"226.82,200.06,223.9001,206.6535,228.8633,211.8848,231.7832,205.2913,226.82,200.06\" style=\"stroke: #383838; stroke-width: 1.0;\"/><!--MD5=[80a7a07aaca1d7b0e9b13983fe7ee6ab]\n",
       "@startuml\r\n",
       "skinparam linetype polyline\r\n",
       "skinparam monochrome true\r\n",
       "skinparam classbackgroundcolor white\r\n",
       "skinparam shadowing false\r\n",
       "skinparam wrapWidth 300\r\n",
       "hide circle\r\n",
       "\r\n",
       "package \"ViewTest\" as E1   {\r\n",
       "package \"P\" as E2   {\r\n",
       "}\r\n",
       "comp def \"VP\" as E3  <<(T,blue)viewpoint def>> {\r\n",
       "}\r\n",
       "comp def \"R\" as E4  <<(T,blue)rendering def>> {\r\n",
       "}\r\n",
       "comp def \"V\" as E5  <<(T,blue)view def>> {\r\n",
       "}\r\n",
       "comp usage \"vp: VP\" as E6  <<(T,blue)viewpoint>> {\r\n",
       "}\r\n",
       "comp usage \"r: R\" as E7  <<(T,blue)rendering>> {\r\n",
       "}\r\n",
       "comp usage \"v: V\" as E8  <<(T,blue)view>> {\r\n",
       "}\r\n",
       "comp usage \"r1: R\" as E9  <<(T,blue)rendering>> {\r\n",
       "}\r\n",
       "E5 *- - E6\r\n",
       "E6 - -:|> E3\r\n",
       "E7 - -:|> E4\r\n",
       "E5 *- - \"0..1\"E7\r\n",
       "E8 - -:|> E5\r\n",
       "E5 *- - \"*\"E8\r\n",
       "E9 - -||> E7\r\n",
       "E8 *- - E9\r\n",
       "}\r\n",
       "@enduml\r\n",
       "\n",
       "PlantUML version 1.2020.13(Sat Jun 13 12:26:38 UTC 2020)\n",
       "(EPL source distribution)\n",
       "Java Runtime: OpenJDK Runtime Environment\n",
       "JVM: OpenJDK 64-Bit Server VM\n",
       "Default Encoding: UTF-8\n",
       "Language: en\n",
       "Country: null\n",
       "--></g></svg>"
      ]
     },
     "execution_count": 10,
     "metadata": {},
     "output_type": "execute_result"
    }
   ],
   "source": [
    "%viz --style=\"POLYLINE\" --view=\"Tree\" \"ViewTest\""
   ]
  },
  {
   "cell_type": "code",
   "execution_count": 11,
   "id": "controlling-ordering",
   "metadata": {
    "execution": {
     "iopub.execute_input": "2021-03-25T16:07:58.125387Z",
     "iopub.status.busy": "2021-03-25T16:07:58.124946Z",
     "iopub.status.idle": "2021-03-25T16:07:58.127244Z",
     "shell.execute_reply": "2021-03-25T16:07:58.127634Z"
    }
   },
   "outputs": [
    {
     "data": {
      "text/plain": [
       "java.lang.IllegalArgumentException: Invalid View: State View candidates are: Default Tree StateMachine Interconnection Activity Sequence MIXED \n",
       "\tat org.omg.sysml.plantuml.SysML2PlantUMLSvc.setView(SysML2PlantUMLSvc.java:63)\n",
       "\tat org.omg.sysml.interactive.SysMLInteractive.viz(SysMLInteractive.java:286)\n",
       "\tat org.omg.sysml.jupyter.kernel.magic.Viz.viz(Viz.java:47)\n",
       "\tat java.base/jdk.internal.reflect.NativeMethodAccessorImpl.invoke0(Native Method)\n",
       "\tat java.base/jdk.internal.reflect.NativeMethodAccessorImpl.invoke(NativeMethodAccessorImpl.java:78)\n",
       "\tat java.base/jdk.internal.reflect.DelegatingMethodAccessorImpl.invoke(DelegatingMethodAccessorImpl.java:43)\n",
       "\tat java.base/java.lang.reflect.Method.invoke(Method.java:568)\n",
       "\tat io.github.spencerpark.jupyter.kernel.magic.registry.Magics.invoke(Magics.java:89)\n",
       "\tat io.github.spencerpark.jupyter.kernel.magic.registry.Magics.access$000(Magics.java:8)\n",
       "\tat io.github.spencerpark.jupyter.kernel.magic.registry.Magics$LineReflectionMagicFunction.execute(Magics.java:149)\n",
       "\tat io.github.spencerpark.jupyter.kernel.magic.registry.Magics.applyLineMagic(Magics.java:26)\n",
       "\tat org.omg.sysml.jupyter.kernel.SysMLKernel.eval(SysMLKernel.java:76)\n",
       "\tat io.github.spencerpark.jupyter.kernel.BaseKernel.handleExecuteRequest(BaseKernel.java:334)\n",
       "\tat io.github.spencerpark.jupyter.channels.ShellChannel.lambda$bind$0(ShellChannel.java:64)\n",
       "\tat io.github.spencerpark.jupyter.channels.Loop.lambda$new$0(Loop.java:21)\n",
       "\tat io.github.spencerpark.jupyter.channels.Loop.run(Loop.java:78)\n"
      ]
     },
     "execution_count": 11,
     "metadata": {},
     "output_type": "execute_result"
    }
   ],
   "source": [
    "%viz --style=\"POLYLINE\" --view=\"State\" \"ViewTest\""
   ]
  },
  {
   "cell_type": "code",
   "execution_count": 12,
   "id": "incorporate-completion",
   "metadata": {
    "execution": {
     "iopub.execute_input": "2021-03-25T16:07:58.179024Z",
     "iopub.status.busy": "2021-03-25T16:07:58.178637Z",
     "iopub.status.idle": "2021-03-25T16:07:58.332763Z",
     "shell.execute_reply": "2021-03-25T16:07:58.331277Z"
    }
   },
   "outputs": [
    {
     "data": {
      "image/svg+xml": [
       "<?xml version=\"1.0\" encoding=\"UTF-8\" standalone=\"no\"?><svg xmlns=\"http://www.w3.org/2000/svg\" xmlns:xlink=\"http://www.w3.org/1999/xlink\" contentScriptType=\"application/ecmascript\" contentStyleType=\"text/css\" height=\"288px\" preserveAspectRatio=\"none\" style=\"width:903px;height:288px;\" version=\"1.1\" viewBox=\"0 0 903 288\" width=\"903px\" zoomAndPan=\"magnify\"><defs/><g><!--MD5=[fbc87193dbaf4d95561dea2c320d4a47]\n",
       "cluster E1--><polygon fill=\"#FFFFFF\" points=\"16,6,96,6,103,28.2969,881,28.2969,881,276,16,276,16,6\" style=\"stroke: #000000; stroke-width: 1.5;\"/><line style=\"stroke: #000000; stroke-width: 1.5;\" x1=\"16\" x2=\"103\" y1=\"28.2969\" y2=\"28.2969\"/><text fill=\"#000000\" font-family=\"sans-serif\" font-size=\"14\" font-weight=\"bold\" lengthAdjust=\"spacingAndGlyphs\" textLength=\"74\" x=\"20\" y=\"20.9951\">ViewTest</text><!--MD5=[de5ec2e2e8f62f467e546659f5068c88]\n",
       "cluster E5--><rect fill=\"#FFFFFF\" height=\"203\" style=\"stroke: #000000; stroke-width: 1.5;\" width=\"476\" x=\"381\" y=\"49\"/><text fill=\"#000000\" font-family=\"sans-serif\" font-size=\"14\" font-style=\"italic\" lengthAdjust=\"spacingAndGlyphs\" textLength=\"74\" x=\"582\" y=\"63.9951\">«view def»</text><text fill=\"#000000\" font-family=\"sans-serif\" font-size=\"14\" font-weight=\"bold\" lengthAdjust=\"spacingAndGlyphs\" textLength=\"11\" x=\"613.5\" y=\"80.292\">V</text><!--MD5=[14e3b0961a2654348d326746436168a1]\n",
       "cluster E6--><rect fill=\"#F8F8F8\" height=\"120\" rx=\"12.5\" ry=\"12.5\" style=\"stroke: #000000; stroke-width: 1.5;\" width=\"142\" x=\"691\" y=\"108\"/><rect fill=\"#FFFFFF\" height=\"87.7031\" rx=\"12.5\" ry=\"12.5\" style=\"stroke: #FFFFFF; stroke-width: 1.0;\" width=\"136\" x=\"694\" y=\"137.2969\"/><line style=\"stroke: #000000; stroke-width: 1.5;\" x1=\"691\" x2=\"833\" y1=\"134.2969\" y2=\"134.2969\"/><text fill=\"#000000\" font-family=\"sans-serif\" font-size=\"14\" lengthAdjust=\"spacingAndGlyphs\" textLength=\"43\" x=\"720.5\" y=\"124.9951\">vp: VP</text><!--MD5=[7f149f147074ac12df2cb0a7728a5fb0]\n",
       "cluster E9--><rect fill=\"#F8F8F8\" height=\"104\" rx=\"12.5\" ry=\"12.5\" style=\"stroke: #000000; stroke-width: 1.5;\" width=\"110\" x=\"557\" y=\"124\"/><rect fill=\"#FFFFFF\" height=\"71.7031\" rx=\"12.5\" ry=\"12.5\" style=\"stroke: #FFFFFF; stroke-width: 1.0;\" width=\"104\" x=\"560\" y=\"153.2969\"/><line style=\"stroke: #000000; stroke-width: 1.5;\" x1=\"557\" x2=\"667\" y1=\"150.2969\" y2=\"150.2969\"/><text fill=\"#000000\" font-family=\"sans-serif\" font-size=\"14\" lengthAdjust=\"spacingAndGlyphs\" textLength=\"25\" x=\"599.5\" y=\"140.9951\">v: V</text><!--MD5=[09b614a08d8cba4a07c9adeb5e0fee81]\n",
       "class E3--><rect fill=\"#FFFFFF\" height=\"53.9375\" id=\"E3\" style=\"stroke: #383838; stroke-width: 1.5;\" width=\"98\" x=\"264\" y=\"158.5\"/><text fill=\"#000000\" font-family=\"sans-serif\" font-size=\"12\" font-style=\"italic\" lengthAdjust=\"spacingAndGlyphs\" textLength=\"96\" x=\"265\" y=\"174.6387\">«viewpoint def»</text><text fill=\"#000000\" font-family=\"sans-serif\" font-size=\"12\" lengthAdjust=\"spacingAndGlyphs\" textLength=\"16\" x=\"305\" y=\"188.6074\">VP</text><line style=\"stroke: #383838; stroke-width: 1.5;\" x1=\"265\" x2=\"361\" y1=\"196.4375\" y2=\"196.4375\"/><line style=\"stroke: #383838; stroke-width: 1.5;\" x1=\"265\" x2=\"361\" y1=\"204.4375\" y2=\"204.4375\"/><polygon fill=\"#FFFFFF\" points=\"199,159,215,159,222,181.2969,229,181.2969,229,211.5938,199,211.5938,199,159\" style=\"stroke: #000000; stroke-width: 1.5;\"/><line style=\"stroke: #000000; stroke-width: 1.5;\" x1=\"199\" x2=\"222\" y1=\"181.2969\" y2=\"181.2969\"/><text fill=\"#000000\" font-family=\"sans-serif\" font-size=\"14\" font-weight=\"bold\" lengthAdjust=\"spacingAndGlyphs\" textLength=\"10\" x=\"203\" y=\"173.9951\">P</text><!--MD5=[961cefdc15414eaa3e87aec9d17c2188]\n",
       "entity E4--><rect fill=\"#FFFFFF\" height=\"52.5938\" style=\"stroke: #000000; stroke-width: 1.5;\" width=\"131\" x=\"32.5\" y=\"159\"/><text fill=\"#000000\" font-family=\"sans-serif\" font-size=\"14\" font-style=\"italic\" lengthAdjust=\"spacingAndGlyphs\" textLength=\"111\" x=\"42.5\" y=\"181.9951\">«rendering def»</text><text fill=\"#000000\" font-family=\"sans-serif\" font-size=\"14\" lengthAdjust=\"spacingAndGlyphs\" textLength=\"10\" x=\"93\" y=\"198.292\">R</text><g id=\"E1.E5.E6.E7\"><rect fill=\"#FFFFFF\" height=\"52.5938\" rx=\"12.5\" ry=\"12.5\" style=\"stroke: #383838; stroke-width: 1.5;\" width=\"110\" x=\"707\" y=\"159\"/><line style=\"stroke: #383838; stroke-width: 1.5;\" x1=\"707\" x2=\"817\" y1=\"201.5938\" y2=\"201.5938\"/><text fill=\"#000000\" font-family=\"sans-serif\" font-size=\"14\" lengthAdjust=\"spacingAndGlyphs\" textLength=\"70\" x=\"727\" y=\"176.9951\">subj: View</text><text fill=\"#000000\" font-family=\"sans-serif\" font-size=\"14\" font-style=\"italic\" lengthAdjust=\"spacingAndGlyphs\" textLength=\"86\" x=\"717\" y=\"193.292\">:&gt;&gt;VP::subj</text><text fill=\"#000000\" font-family=\"sans-serif\" font-size=\"14\" lengthAdjust=\"spacingAndGlyphs\" textLength=\"0\" x=\"807\" y=\"193.292\"/></g><g id=\"E1.E5.E8\"><rect fill=\"#FFFFFF\" height=\"52.5938\" rx=\"12.5\" ry=\"12.5\" style=\"stroke: #383838; stroke-width: 1.5;\" width=\"141\" x=\"397.5\" y=\"159\"/><line style=\"stroke: #383838; stroke-width: 1.5;\" x1=\"397.5\" x2=\"538.5\" y1=\"201.5938\" y2=\"201.5938\"/><text fill=\"#000000\" font-family=\"sans-serif\" font-size=\"14\" lengthAdjust=\"spacingAndGlyphs\" textLength=\"24\" x=\"456\" y=\"176.9951\">r: R</text><text fill=\"#000000\" font-family=\"sans-serif\" font-size=\"14\" font-style=\"italic\" lengthAdjust=\"spacingAndGlyphs\" textLength=\"117\" x=\"407.5\" y=\"193.292\">:&gt;&gt;View::render</text><text fill=\"#000000\" font-family=\"sans-serif\" font-size=\"14\" lengthAdjust=\"spacingAndGlyphs\" textLength=\"0\" x=\"528.5\" y=\"193.292\"/></g><g id=\"E1.E5.E9.E10\"><rect fill=\"#FFFFFF\" height=\"52.5938\" rx=\"12.5\" ry=\"12.5\" style=\"stroke: #383838; stroke-width: 1.5;\" width=\"77\" x=\"573.5\" y=\"159\"/><line style=\"stroke: #383838; stroke-width: 1.5;\" x1=\"573.5\" x2=\"650.5\" y1=\"201.5938\" y2=\"201.5938\"/><text fill=\"#000000\" font-family=\"sans-serif\" font-size=\"14\" lengthAdjust=\"spacingAndGlyphs\" textLength=\"33\" x=\"595.5\" y=\"176.9951\">r1: R</text><text fill=\"#000000\" font-family=\"sans-serif\" font-size=\"14\" font-style=\"italic\" lengthAdjust=\"spacingAndGlyphs\" textLength=\"53\" x=\"583.5\" y=\"193.292\">:&gt;&gt;V::r</text><text fill=\"#000000\" font-family=\"sans-serif\" font-size=\"14\" lengthAdjust=\"spacingAndGlyphs\" textLength=\"0\" x=\"640.5\" y=\"193.292\"/></g><!--MD5=[3c4c81488aa91880fdad3108502110d0]\n",
       "@startuml\r\n",
       "skinparam ranksep 8\r\n",
       "skinparam rectangle {\r\n",
       " backgroundColor<<block>> LightGreen\r\n",
       "}\r\n",
       "skinparam linetype polyline\r\n",
       "skinparam monochrome true\r\n",
       "skinparam classbackgroundcolor white\r\n",
       "skinparam shadowing false\r\n",
       "skinparam wrapWidth 300\r\n",
       "hide circle\r\n",
       "\r\n",
       "package \"ViewTest\" as E1   {\r\n",
       "package \"P\" as E2   {\r\n",
       "}\r\n",
       "def \"VP\" as E3  <<viewpoint def>> \r\n",
       "rec def \"R\" as E4  <<rendering def>> {\r\n",
       "}\r\n",
       "rec def \"V\" as E5  <<view def>> {\r\n",
       "rec usage \"vp: VP\" as E6  <<viewpoint>> {\r\n",
       "rec usage \"subj: View\\n//:>>VP::subj// \" as E7  <<reference>> {\r\n",
       "}\r\n",
       "}\r\n",
       "rec usage \"r: R\\n//:>>View::render// \" as E8  {\r\n",
       "}\r\n",
       "rec usage \"v: V\" as E9  {\r\n",
       "rec usage \"r1: R\\n//:>>V::r// \" as E10  {\r\n",
       "}\r\n",
       "}\r\n",
       "}\r\n",
       "}\r\n",
       "@enduml\r\n",
       "\n",
       "PlantUML version 1.2020.13(Sat Jun 13 12:26:38 UTC 2020)\n",
       "(EPL source distribution)\n",
       "Java Runtime: OpenJDK Runtime Environment\n",
       "JVM: OpenJDK 64-Bit Server VM\n",
       "Default Encoding: UTF-8\n",
       "Language: en\n",
       "Country: null\n",
       "--></g></svg>"
      ]
     },
     "execution_count": 12,
     "metadata": {},
     "output_type": "execute_result"
    }
   ],
   "source": [
    "%viz --style=\"POLYLINE\" --view=\"Interconnection\" \"ViewTest\""
   ]
  },
  {
   "cell_type": "code",
   "execution_count": 13,
   "id": "sticky-ready",
   "metadata": {
    "execution": {
     "iopub.execute_input": "2021-03-25T16:07:58.383301Z",
     "iopub.status.busy": "2021-03-25T16:07:58.382805Z",
     "iopub.status.idle": "2021-03-25T16:07:58.384778Z",
     "shell.execute_reply": "2021-03-25T16:07:58.385180Z"
    }
   },
   "outputs": [
    {
     "data": {
      "text/plain": [
       "java.lang.IllegalArgumentException: Invalid View: Action View candidates are: Default Tree StateMachine Interconnection Activity Sequence MIXED \n",
       "\tat org.omg.sysml.plantuml.SysML2PlantUMLSvc.setView(SysML2PlantUMLSvc.java:63)\n",
       "\tat org.omg.sysml.interactive.SysMLInteractive.viz(SysMLInteractive.java:286)\n",
       "\tat org.omg.sysml.jupyter.kernel.magic.Viz.viz(Viz.java:47)\n",
       "\tat java.base/jdk.internal.reflect.NativeMethodAccessorImpl.invoke0(Native Method)\n",
       "\tat java.base/jdk.internal.reflect.NativeMethodAccessorImpl.invoke(NativeMethodAccessorImpl.java:78)\n",
       "\tat java.base/jdk.internal.reflect.DelegatingMethodAccessorImpl.invoke(DelegatingMethodAccessorImpl.java:43)\n",
       "\tat java.base/java.lang.reflect.Method.invoke(Method.java:568)\n",
       "\tat io.github.spencerpark.jupyter.kernel.magic.registry.Magics.invoke(Magics.java:89)\n",
       "\tat io.github.spencerpark.jupyter.kernel.magic.registry.Magics.access$000(Magics.java:8)\n",
       "\tat io.github.spencerpark.jupyter.kernel.magic.registry.Magics$LineReflectionMagicFunction.execute(Magics.java:149)\n",
       "\tat io.github.spencerpark.jupyter.kernel.magic.registry.Magics.applyLineMagic(Magics.java:26)\n",
       "\tat org.omg.sysml.jupyter.kernel.SysMLKernel.eval(SysMLKernel.java:76)\n",
       "\tat io.github.spencerpark.jupyter.kernel.BaseKernel.handleExecuteRequest(BaseKernel.java:334)\n",
       "\tat io.github.spencerpark.jupyter.channels.ShellChannel.lambda$bind$0(ShellChannel.java:64)\n",
       "\tat io.github.spencerpark.jupyter.channels.Loop.lambda$new$0(Loop.java:21)\n",
       "\tat io.github.spencerpark.jupyter.channels.Loop.run(Loop.java:78)\n"
      ]
     },
     "execution_count": 13,
     "metadata": {},
     "output_type": "execute_result"
    }
   ],
   "source": [
    "%viz --style=\"POLYLINE\" --view=\"Action\" \"ViewTest\""
   ]
  },
  {
   "cell_type": "code",
   "execution_count": 14,
   "id": "english-policy",
   "metadata": {
    "execution": {
     "iopub.execute_input": "2021-03-25T16:07:58.436564Z",
     "iopub.status.busy": "2021-03-25T16:07:58.436133Z",
     "iopub.status.idle": "2021-03-25T16:07:58.553129Z",
     "shell.execute_reply": "2021-03-25T16:07:58.552706Z"
    }
   },
   "outputs": [
    {
     "data": {
      "image/svg+xml": [
       "<?xml version=\"1.0\" encoding=\"UTF-8\" standalone=\"no\"?><svg xmlns=\"http://www.w3.org/2000/svg\" xmlns:xlink=\"http://www.w3.org/1999/xlink\" contentScriptType=\"application/ecmascript\" contentStyleType=\"text/css\" height=\"546px\" preserveAspectRatio=\"none\" style=\"width:318px;height:546px;\" version=\"1.1\" viewBox=\"0 0 318 546\" width=\"318px\" zoomAndPan=\"magnify\"><defs/><g><!--MD5=[fbc87193dbaf4d95561dea2c320d4a47]\n",
       "cluster E1--><polygon fill=\"#FFFFFF\" points=\"16,6,96,6,103,28.2969,296,28.2969,296,534,16,534,16,6\" style=\"stroke: #000000; stroke-width: 1.5;\"/><line style=\"stroke: #000000; stroke-width: 1.5;\" x1=\"16\" x2=\"103\" y1=\"28.2969\" y2=\"28.2969\"/><text fill=\"#000000\" font-family=\"sans-serif\" font-size=\"14\" font-weight=\"bold\" lengthAdjust=\"spacingAndGlyphs\" textLength=\"74\" x=\"20\" y=\"20.9951\">ViewTest</text><!--MD5=[09b614a08d8cba4a07c9adeb5e0fee81]\n",
       "class E3--><rect fill=\"#FFFFFF\" height=\"45.9375\" id=\"E3\" style=\"stroke: #383838; stroke-width: 1.5;\" width=\"98\" x=\"32\" y=\"260\"/><text fill=\"#000000\" font-family=\"sans-serif\" font-size=\"12\" font-style=\"italic\" lengthAdjust=\"spacingAndGlyphs\" textLength=\"96\" x=\"33\" y=\"276.1387\">«viewpoint def»</text><text fill=\"#000000\" font-family=\"sans-serif\" font-size=\"12\" lengthAdjust=\"spacingAndGlyphs\" textLength=\"16\" x=\"73\" y=\"290.1074\">VP</text><line style=\"stroke: #383838; stroke-width: 1.5;\" x1=\"33\" x2=\"129\" y1=\"297.9375\" y2=\"297.9375\"/><!--MD5=[ebbe1d658d1005bcc118a6aa81145e00]\n",
       "class E4--><rect fill=\"#FFFFFF\" height=\"45.9375\" id=\"E4\" style=\"stroke: #383838; stroke-width: 1.5;\" width=\"101\" x=\"146.5\" y=\"472\"/><text fill=\"#000000\" font-family=\"sans-serif\" font-size=\"12\" font-style=\"italic\" lengthAdjust=\"spacingAndGlyphs\" textLength=\"99\" x=\"147.5\" y=\"488.1387\">«rendering def»</text><text fill=\"#000000\" font-family=\"sans-serif\" font-size=\"12\" lengthAdjust=\"spacingAndGlyphs\" textLength=\"8\" x=\"193\" y=\"502.1074\">R</text><line style=\"stroke: #383838; stroke-width: 1.5;\" x1=\"147.5\" x2=\"246.5\" y1=\"509.9375\" y2=\"509.9375\"/><!--MD5=[270fce915f116d4de14055a7c1d9a0f3]\n",
       "class E5--><rect fill=\"#FFFFFF\" height=\"45.9375\" id=\"E5\" style=\"stroke: #383838; stroke-width: 1.5;\" width=\"66\" x=\"161\" y=\"44.5\"/><text fill=\"#000000\" font-family=\"sans-serif\" font-size=\"12\" font-style=\"italic\" lengthAdjust=\"spacingAndGlyphs\" textLength=\"64\" x=\"162\" y=\"60.6387\">«view def»</text><text fill=\"#000000\" font-family=\"sans-serif\" font-size=\"12\" lengthAdjust=\"spacingAndGlyphs\" textLength=\"8\" x=\"190\" y=\"74.6074\">V</text><line style=\"stroke: #383838; stroke-width: 1.5;\" x1=\"162\" x2=\"226\" y1=\"82.4375\" y2=\"82.4375\"/><!--MD5=[60a26617385b1d2d0262a64233df1f8d]\n",
       "class E6--><rect fill=\"#FFFFFF\" height=\"45.9375\" id=\"E6\" rx=\"10\" ry=\"10\" style=\"stroke: #383838; stroke-width: 1.5;\" width=\"74\" x=\"50\" y=\"154\"/><text fill=\"#000000\" font-family=\"sans-serif\" font-size=\"12\" font-style=\"italic\" lengthAdjust=\"spacingAndGlyphs\" textLength=\"72\" x=\"51\" y=\"170.1387\">«viewpoint»</text><text fill=\"#000000\" font-family=\"sans-serif\" font-size=\"12\" lengthAdjust=\"spacingAndGlyphs\" textLength=\"38\" x=\"68\" y=\"184.1074\">vp: VP</text><line style=\"stroke: #383838; stroke-width: 1.5;\" x1=\"51\" x2=\"123\" y1=\"191.9375\" y2=\"191.9375\"/><!--MD5=[2156ba9850f5573cc1fc38a6a4b2f02b]\n",
       "class E7--><rect fill=\"#FFFFFF\" height=\"45.9375\" id=\"E7\" rx=\"10\" ry=\"10\" style=\"stroke: #383838; stroke-width: 1.5;\" width=\"77\" x=\"158.5\" y=\"366\"/><text fill=\"#000000\" font-family=\"sans-serif\" font-size=\"12\" font-style=\"italic\" lengthAdjust=\"spacingAndGlyphs\" textLength=\"75\" x=\"159.5\" y=\"382.1387\">«rendering»</text><text fill=\"#000000\" font-family=\"sans-serif\" font-size=\"12\" lengthAdjust=\"spacingAndGlyphs\" textLength=\"21\" x=\"186.5\" y=\"396.1074\">r: R</text><line style=\"stroke: #383838; stroke-width: 1.5;\" x1=\"159.5\" x2=\"234.5\" y1=\"403.9375\" y2=\"403.9375\"/><!--MD5=[b9389687b975829384b498ac4b7476b2]\n",
       "class E8--><rect fill=\"#FFFFFF\" height=\"45.9375\" id=\"E8\" rx=\"10\" ry=\"10\" style=\"stroke: #383838; stroke-width: 1.5;\" width=\"42\" x=\"202\" y=\"154\"/><text fill=\"#000000\" font-family=\"sans-serif\" font-size=\"12\" font-style=\"italic\" lengthAdjust=\"spacingAndGlyphs\" textLength=\"40\" x=\"203\" y=\"170.1387\">«view»</text><text fill=\"#000000\" font-family=\"sans-serif\" font-size=\"12\" lengthAdjust=\"spacingAndGlyphs\" textLength=\"22\" x=\"212\" y=\"184.1074\">v: V</text><line style=\"stroke: #383838; stroke-width: 1.5;\" x1=\"203\" x2=\"243\" y1=\"191.9375\" y2=\"191.9375\"/><!--MD5=[fd4143e9d270a159db93a4ea2a975926]\n",
       "class E9--><rect fill=\"#FFFFFF\" height=\"45.9375\" id=\"E9\" rx=\"10\" ry=\"10\" style=\"stroke: #383838; stroke-width: 1.5;\" width=\"77\" x=\"202.5\" y=\"260\"/><text fill=\"#000000\" font-family=\"sans-serif\" font-size=\"12\" font-style=\"italic\" lengthAdjust=\"spacingAndGlyphs\" textLength=\"75\" x=\"203.5\" y=\"276.1387\">«rendering»</text><text fill=\"#000000\" font-family=\"sans-serif\" font-size=\"12\" lengthAdjust=\"spacingAndGlyphs\" textLength=\"29\" x=\"226.5\" y=\"290.1074\">r1: R</text><line style=\"stroke: #383838; stroke-width: 1.5;\" x1=\"203.5\" x2=\"278.5\" y1=\"297.9375\" y2=\"297.9375\"/><polygon fill=\"#FFFFFF\" points=\"78,41,94,41,101,63.2969,108,63.2969,108,93.5938,78,93.5938,78,41\" style=\"stroke: #000000; stroke-width: 1.5;\"/><line style=\"stroke: #000000; stroke-width: 1.5;\" x1=\"78\" x2=\"101\" y1=\"63.2969\" y2=\"63.2969\"/><text fill=\"#000000\" font-family=\"sans-serif\" font-size=\"14\" font-weight=\"bold\" lengthAdjust=\"spacingAndGlyphs\" textLength=\"10\" x=\"82\" y=\"55.9951\">P</text><!--MD5=[85d356282659285ab4b2cfe2f634dd2b]\n",
       "reverse link E5 to E6--><path d=\"M162.51,100.14 C145.4,117.33 124.66,138.16 109.25,153.65 \" fill=\"none\" id=\"E5&lt;-E6\" style=\"stroke: #383838; stroke-width: 1.0;\"/><polygon fill=\"#383838\" points=\"172.09,90.51,165.0222,91.9407,163.6245,99.015,170.6923,97.5843,172.09,90.51\" style=\"stroke: #383838; stroke-width: 1.0;\"/><!--MD5=[a717450b82c80b9240a525fa862496af]\n",
       "link E6 to E3--><path d=\"M85.73,200.06 C85.06,211.64 84.22,226.23 83.43,239.87 \" fill=\"none\" id=\"E6-&gt;E3\" style=\"stroke: #383838; stroke-width: 1.0;\"/><polygon fill=\"#FFFFFF\" points=\"82.27,259.98,76.3669,240.6111,90.3441,241.411,82.27,259.98\" style=\"stroke: #383838; stroke-width: 1.0;\"/><ellipse cx=\"78.6893\" cy=\"235.0347\" fill=\"#383838\" rx=\"2\" ry=\"2\" style=\"stroke: #383838; stroke-width: 1.0;\"/><ellipse cx=\"88.673\" cy=\"235.606\" fill=\"#383838\" rx=\"2\" ry=\"2\" style=\"stroke: #383838; stroke-width: 1.0;\"/><!--MD5=[6bdd27f9905911a7e892a3dc65cf6b7c]\n",
       "link E7 to E4--><path d=\"M197,412.06 C197,423.64 197,438.23 197,451.87 \" fill=\"none\" id=\"E7-&gt;E4\" style=\"stroke: #383838; stroke-width: 1.0;\"/><polygon fill=\"#FFFFFF\" points=\"197,471.98,190,452.98,204,452.98,197,471.98\" style=\"stroke: #383838; stroke-width: 1.0;\"/><ellipse cx=\"192\" cy=\"447.28\" fill=\"#383838\" rx=\"2\" ry=\"2\" style=\"stroke: #383838; stroke-width: 1.0;\"/><ellipse cx=\"202\" cy=\"447.28\" fill=\"#383838\" rx=\"2\" ry=\"2\" style=\"stroke: #383838; stroke-width: 1.0;\"/><!--MD5=[452b418e7f8a40397a49b8c0a78acc5b]\n",
       "reverse link E5 to E7--><path d=\"M190.32,103.47 C187.83,127.09 185,154 185,154 C185,154 185,306 185,306 C185,306 190.17,341.31 193.72,365.59 \" fill=\"none\" id=\"E5&lt;-E7\" style=\"stroke: #383838; stroke-width: 1.0;\"/><polygon fill=\"#383838\" points=\"191.68,90.52,187.0755,96.0696,190.4272,102.4544,195.0317,96.9048,191.68,90.52\" style=\"stroke: #383838; stroke-width: 1.0;\"/><text fill=\"#000000\" font-family=\"sans-serif\" font-size=\"13\" lengthAdjust=\"spacingAndGlyphs\" textLength=\"24\" x=\"165.8045\" y=\"354.7612\">0..1</text><!--MD5=[1ccb2481ffa92f8d51a74ee30c51832a]\n",
       "link E8 to E5--><path d=\"M228.17,153.65 C226.85,140.84 223.06,124.37 218.16,109.34 \" fill=\"none\" id=\"E8-&gt;E5\" style=\"stroke: #383838; stroke-width: 1.0;\"/><polygon fill=\"#FFFFFF\" points=\"211.08,90.51,224.3197,105.8302,211.2157,110.758,211.08,90.51\" style=\"stroke: #383838; stroke-width: 1.0;\"/><ellipse cx=\"224.454\" cy=\"111.8694\" fill=\"#383838\" rx=\"2\" ry=\"2\" style=\"stroke: #383838; stroke-width: 1.0;\"/><ellipse cx=\"215.094\" cy=\"115.3893\" fill=\"#383838\" rx=\"2\" ry=\"2\" style=\"stroke: #383838; stroke-width: 1.0;\"/><!--MD5=[827760032d119d06bbc92f75530fd7ae]\n",
       "reverse link E5 to E8--><path d=\"M191.42,103.56 C194.56,120.03 200.21,139.18 206.39,153.65 \" fill=\"none\" id=\"E5&lt;-E8\" style=\"stroke: #383838; stroke-width: 1.0;\"/><polygon fill=\"#383838\" points=\"189.42,90.51,186.3756,97.0469,191.2387,102.3714,194.2832,95.8344,189.42,90.51\" style=\"stroke: #383838; stroke-width: 1.0;\"/><text fill=\"#000000\" font-family=\"sans-serif\" font-size=\"13\" lengthAdjust=\"spacingAndGlyphs\" textLength=\"7\" x=\"194.2368\" y=\"142.8366\">*</text><!--MD5=[cf04703ca05eebef50f1cfe8b03e143b]\n",
       "link E9 to E7--><path d=\"M231.67,306.06 C226.59,318.05 220.15,333.27 214.21,347.33 \" fill=\"none\" id=\"E9-&gt;E7\" style=\"stroke: #383838; stroke-width: 1.0;\"/><polygon fill=\"#FFFFFF\" points=\"206.32,365.98,207.2662,345.7537,220.1625,351.2021,206.32,365.98\" style=\"stroke: #383838; stroke-width: 1.0;\"/><line style=\"stroke: #383838; stroke-width: 2.0;\" x1=\"208.745\" x2=\"221.6413\" y1=\"342.2532\" y2=\"347.7017\"/><!--MD5=[22f5b4bae7e060dce8a1c8021efdb95b]\n",
       "reverse link E8 to E9--><path d=\"M229.05,212.96 C231.74,228.51 234.83,246.33 237.19,259.98 \" fill=\"none\" id=\"E8&lt;-E9\" style=\"stroke: #383838; stroke-width: 1.0;\"/><polygon fill=\"#383838\" points=\"226.82,200.06,223.9001,206.6535,228.8633,211.8848,231.7832,205.2913,226.82,200.06\" style=\"stroke: #383838; stroke-width: 1.0;\"/><!--MD5=[80a7a07aaca1d7b0e9b13983fe7ee6ab]\n",
       "@startuml\r\n",
       "skinparam linetype polyline\r\n",
       "skinparam monochrome true\r\n",
       "skinparam classbackgroundcolor white\r\n",
       "skinparam shadowing false\r\n",
       "skinparam wrapWidth 300\r\n",
       "hide circle\r\n",
       "\r\n",
       "package \"ViewTest\" as E1   {\r\n",
       "package \"P\" as E2   {\r\n",
       "}\r\n",
       "comp def \"VP\" as E3  <<(T,blue)viewpoint def>> {\r\n",
       "}\r\n",
       "comp def \"R\" as E4  <<(T,blue)rendering def>> {\r\n",
       "}\r\n",
       "comp def \"V\" as E5  <<(T,blue)view def>> {\r\n",
       "}\r\n",
       "comp usage \"vp: VP\" as E6  <<(T,blue)viewpoint>> {\r\n",
       "}\r\n",
       "comp usage \"r: R\" as E7  <<(T,blue)rendering>> {\r\n",
       "}\r\n",
       "comp usage \"v: V\" as E8  <<(T,blue)view>> {\r\n",
       "}\r\n",
       "comp usage \"r1: R\" as E9  <<(T,blue)rendering>> {\r\n",
       "}\r\n",
       "E5 *- - E6\r\n",
       "E6 - -:|> E3\r\n",
       "E7 - -:|> E4\r\n",
       "E5 *- - \"0..1\"E7\r\n",
       "E8 - -:|> E5\r\n",
       "E5 *- - \"*\"E8\r\n",
       "E9 - -||> E7\r\n",
       "E8 *- - E9\r\n",
       "}\r\n",
       "@enduml\r\n",
       "\n",
       "PlantUML version 1.2020.13(Sat Jun 13 12:26:38 UTC 2020)\n",
       "(EPL source distribution)\n",
       "Java Runtime: OpenJDK Runtime Environment\n",
       "JVM: OpenJDK 64-Bit Server VM\n",
       "Default Encoding: UTF-8\n",
       "Language: en\n",
       "Country: null\n",
       "--></g></svg>"
      ]
     },
     "execution_count": 14,
     "metadata": {},
     "output_type": "execute_result"
    }
   ],
   "source": [
    "%viz --style=\"POLYLINE\" --view=\"Sequence\" \"ViewTest\""
   ]
  },
  {
   "cell_type": "code",
   "execution_count": 15,
   "id": "animal-disclosure",
   "metadata": {
    "execution": {
     "iopub.execute_input": "2021-03-25T16:07:58.603467Z",
     "iopub.status.busy": "2021-03-25T16:07:58.602999Z",
     "iopub.status.idle": "2021-03-25T16:07:58.723436Z",
     "shell.execute_reply": "2021-03-25T16:07:58.722998Z"
    }
   },
   "outputs": [
    {
     "data": {
      "image/svg+xml": [
       "<?xml version=\"1.0\" encoding=\"UTF-8\" standalone=\"no\"?><svg xmlns=\"http://www.w3.org/2000/svg\" xmlns:xlink=\"http://www.w3.org/1999/xlink\" contentScriptType=\"application/ecmascript\" contentStyleType=\"text/css\" height=\"546px\" preserveAspectRatio=\"none\" style=\"width:318px;height:546px;\" version=\"1.1\" viewBox=\"0 0 318 546\" width=\"318px\" zoomAndPan=\"magnify\"><defs/><g><!--MD5=[fbc87193dbaf4d95561dea2c320d4a47]\n",
       "cluster E1--><polygon fill=\"#FFFFFF\" points=\"16,6,96,6,103,28.2969,296,28.2969,296,534,16,534,16,6\" style=\"stroke: #000000; stroke-width: 1.5;\"/><line style=\"stroke: #000000; stroke-width: 1.5;\" x1=\"16\" x2=\"103\" y1=\"28.2969\" y2=\"28.2969\"/><text fill=\"#000000\" font-family=\"sans-serif\" font-size=\"14\" font-weight=\"bold\" lengthAdjust=\"spacingAndGlyphs\" textLength=\"74\" x=\"20\" y=\"20.9951\">ViewTest</text><!--MD5=[09b614a08d8cba4a07c9adeb5e0fee81]\n",
       "class E3--><rect fill=\"#FFFFFF\" height=\"45.9375\" id=\"E3\" style=\"stroke: #383838; stroke-width: 1.5;\" width=\"98\" x=\"32\" y=\"260\"/><text fill=\"#000000\" font-family=\"sans-serif\" font-size=\"12\" font-style=\"italic\" lengthAdjust=\"spacingAndGlyphs\" textLength=\"96\" x=\"33\" y=\"276.1387\">«viewpoint def»</text><text fill=\"#000000\" font-family=\"sans-serif\" font-size=\"12\" lengthAdjust=\"spacingAndGlyphs\" textLength=\"16\" x=\"73\" y=\"290.1074\">VP</text><line style=\"stroke: #383838; stroke-width: 1.5;\" x1=\"33\" x2=\"129\" y1=\"297.9375\" y2=\"297.9375\"/><!--MD5=[ebbe1d658d1005bcc118a6aa81145e00]\n",
       "class E4--><rect fill=\"#FFFFFF\" height=\"45.9375\" id=\"E4\" style=\"stroke: #383838; stroke-width: 1.5;\" width=\"101\" x=\"146.5\" y=\"472\"/><text fill=\"#000000\" font-family=\"sans-serif\" font-size=\"12\" font-style=\"italic\" lengthAdjust=\"spacingAndGlyphs\" textLength=\"99\" x=\"147.5\" y=\"488.1387\">«rendering def»</text><text fill=\"#000000\" font-family=\"sans-serif\" font-size=\"12\" lengthAdjust=\"spacingAndGlyphs\" textLength=\"8\" x=\"193\" y=\"502.1074\">R</text><line style=\"stroke: #383838; stroke-width: 1.5;\" x1=\"147.5\" x2=\"246.5\" y1=\"509.9375\" y2=\"509.9375\"/><!--MD5=[270fce915f116d4de14055a7c1d9a0f3]\n",
       "class E5--><rect fill=\"#FFFFFF\" height=\"45.9375\" id=\"E5\" style=\"stroke: #383838; stroke-width: 1.5;\" width=\"66\" x=\"161\" y=\"44.5\"/><text fill=\"#000000\" font-family=\"sans-serif\" font-size=\"12\" font-style=\"italic\" lengthAdjust=\"spacingAndGlyphs\" textLength=\"64\" x=\"162\" y=\"60.6387\">«view def»</text><text fill=\"#000000\" font-family=\"sans-serif\" font-size=\"12\" lengthAdjust=\"spacingAndGlyphs\" textLength=\"8\" x=\"190\" y=\"74.6074\">V</text><line style=\"stroke: #383838; stroke-width: 1.5;\" x1=\"162\" x2=\"226\" y1=\"82.4375\" y2=\"82.4375\"/><!--MD5=[60a26617385b1d2d0262a64233df1f8d]\n",
       "class E6--><rect fill=\"#FFFFFF\" height=\"45.9375\" id=\"E6\" rx=\"10\" ry=\"10\" style=\"stroke: #383838; stroke-width: 1.5;\" width=\"74\" x=\"50\" y=\"154\"/><text fill=\"#000000\" font-family=\"sans-serif\" font-size=\"12\" font-style=\"italic\" lengthAdjust=\"spacingAndGlyphs\" textLength=\"72\" x=\"51\" y=\"170.1387\">«viewpoint»</text><text fill=\"#000000\" font-family=\"sans-serif\" font-size=\"12\" lengthAdjust=\"spacingAndGlyphs\" textLength=\"38\" x=\"68\" y=\"184.1074\">vp: VP</text><line style=\"stroke: #383838; stroke-width: 1.5;\" x1=\"51\" x2=\"123\" y1=\"191.9375\" y2=\"191.9375\"/><!--MD5=[2156ba9850f5573cc1fc38a6a4b2f02b]\n",
       "class E7--><rect fill=\"#FFFFFF\" height=\"45.9375\" id=\"E7\" rx=\"10\" ry=\"10\" style=\"stroke: #383838; stroke-width: 1.5;\" width=\"77\" x=\"158.5\" y=\"366\"/><text fill=\"#000000\" font-family=\"sans-serif\" font-size=\"12\" font-style=\"italic\" lengthAdjust=\"spacingAndGlyphs\" textLength=\"75\" x=\"159.5\" y=\"382.1387\">«rendering»</text><text fill=\"#000000\" font-family=\"sans-serif\" font-size=\"12\" lengthAdjust=\"spacingAndGlyphs\" textLength=\"21\" x=\"186.5\" y=\"396.1074\">r: R</text><line style=\"stroke: #383838; stroke-width: 1.5;\" x1=\"159.5\" x2=\"234.5\" y1=\"403.9375\" y2=\"403.9375\"/><!--MD5=[b9389687b975829384b498ac4b7476b2]\n",
       "class E8--><rect fill=\"#FFFFFF\" height=\"45.9375\" id=\"E8\" rx=\"10\" ry=\"10\" style=\"stroke: #383838; stroke-width: 1.5;\" width=\"42\" x=\"202\" y=\"154\"/><text fill=\"#000000\" font-family=\"sans-serif\" font-size=\"12\" font-style=\"italic\" lengthAdjust=\"spacingAndGlyphs\" textLength=\"40\" x=\"203\" y=\"170.1387\">«view»</text><text fill=\"#000000\" font-family=\"sans-serif\" font-size=\"12\" lengthAdjust=\"spacingAndGlyphs\" textLength=\"22\" x=\"212\" y=\"184.1074\">v: V</text><line style=\"stroke: #383838; stroke-width: 1.5;\" x1=\"203\" x2=\"243\" y1=\"191.9375\" y2=\"191.9375\"/><!--MD5=[fd4143e9d270a159db93a4ea2a975926]\n",
       "class E9--><rect fill=\"#FFFFFF\" height=\"45.9375\" id=\"E9\" rx=\"10\" ry=\"10\" style=\"stroke: #383838; stroke-width: 1.5;\" width=\"77\" x=\"202.5\" y=\"260\"/><text fill=\"#000000\" font-family=\"sans-serif\" font-size=\"12\" font-style=\"italic\" lengthAdjust=\"spacingAndGlyphs\" textLength=\"75\" x=\"203.5\" y=\"276.1387\">«rendering»</text><text fill=\"#000000\" font-family=\"sans-serif\" font-size=\"12\" lengthAdjust=\"spacingAndGlyphs\" textLength=\"29\" x=\"226.5\" y=\"290.1074\">r1: R</text><line style=\"stroke: #383838; stroke-width: 1.5;\" x1=\"203.5\" x2=\"278.5\" y1=\"297.9375\" y2=\"297.9375\"/><polygon fill=\"#FFFFFF\" points=\"78,41,94,41,101,63.2969,108,63.2969,108,93.5938,78,93.5938,78,41\" style=\"stroke: #000000; stroke-width: 1.5;\"/><line style=\"stroke: #000000; stroke-width: 1.5;\" x1=\"78\" x2=\"101\" y1=\"63.2969\" y2=\"63.2969\"/><text fill=\"#000000\" font-family=\"sans-serif\" font-size=\"14\" font-weight=\"bold\" lengthAdjust=\"spacingAndGlyphs\" textLength=\"10\" x=\"82\" y=\"55.9951\">P</text><!--MD5=[85d356282659285ab4b2cfe2f634dd2b]\n",
       "reverse link E5 to E6--><path d=\"M162.51,100.14 C145.4,117.33 124.66,138.16 109.25,153.65 \" fill=\"none\" id=\"E5&lt;-E6\" style=\"stroke: #383838; stroke-width: 1.0;\"/><polygon fill=\"#383838\" points=\"172.09,90.51,165.0222,91.9407,163.6245,99.015,170.6923,97.5843,172.09,90.51\" style=\"stroke: #383838; stroke-width: 1.0;\"/><!--MD5=[a717450b82c80b9240a525fa862496af]\n",
       "link E6 to E3--><path d=\"M85.73,200.06 C85.06,211.64 84.22,226.23 83.43,239.87 \" fill=\"none\" id=\"E6-&gt;E3\" style=\"stroke: #383838; stroke-width: 1.0;\"/><polygon fill=\"#FFFFFF\" points=\"82.27,259.98,76.3669,240.6111,90.3441,241.411,82.27,259.98\" style=\"stroke: #383838; stroke-width: 1.0;\"/><ellipse cx=\"78.6893\" cy=\"235.0347\" fill=\"#383838\" rx=\"2\" ry=\"2\" style=\"stroke: #383838; stroke-width: 1.0;\"/><ellipse cx=\"88.673\" cy=\"235.606\" fill=\"#383838\" rx=\"2\" ry=\"2\" style=\"stroke: #383838; stroke-width: 1.0;\"/><!--MD5=[6bdd27f9905911a7e892a3dc65cf6b7c]\n",
       "link E7 to E4--><path d=\"M197,412.06 C197,423.64 197,438.23 197,451.87 \" fill=\"none\" id=\"E7-&gt;E4\" style=\"stroke: #383838; stroke-width: 1.0;\"/><polygon fill=\"#FFFFFF\" points=\"197,471.98,190,452.98,204,452.98,197,471.98\" style=\"stroke: #383838; stroke-width: 1.0;\"/><ellipse cx=\"192\" cy=\"447.28\" fill=\"#383838\" rx=\"2\" ry=\"2\" style=\"stroke: #383838; stroke-width: 1.0;\"/><ellipse cx=\"202\" cy=\"447.28\" fill=\"#383838\" rx=\"2\" ry=\"2\" style=\"stroke: #383838; stroke-width: 1.0;\"/><!--MD5=[452b418e7f8a40397a49b8c0a78acc5b]\n",
       "reverse link E5 to E7--><path d=\"M190.32,103.47 C187.83,127.09 185,154 185,154 C185,154 185,306 185,306 C185,306 190.17,341.31 193.72,365.59 \" fill=\"none\" id=\"E5&lt;-E7\" style=\"stroke: #383838; stroke-width: 1.0;\"/><polygon fill=\"#383838\" points=\"191.68,90.52,187.0755,96.0696,190.4272,102.4544,195.0317,96.9048,191.68,90.52\" style=\"stroke: #383838; stroke-width: 1.0;\"/><text fill=\"#000000\" font-family=\"sans-serif\" font-size=\"13\" lengthAdjust=\"spacingAndGlyphs\" textLength=\"24\" x=\"165.8045\" y=\"354.7612\">0..1</text><!--MD5=[1ccb2481ffa92f8d51a74ee30c51832a]\n",
       "link E8 to E5--><path d=\"M228.17,153.65 C226.85,140.84 223.06,124.37 218.16,109.34 \" fill=\"none\" id=\"E8-&gt;E5\" style=\"stroke: #383838; stroke-width: 1.0;\"/><polygon fill=\"#FFFFFF\" points=\"211.08,90.51,224.3197,105.8302,211.2157,110.758,211.08,90.51\" style=\"stroke: #383838; stroke-width: 1.0;\"/><ellipse cx=\"224.454\" cy=\"111.8694\" fill=\"#383838\" rx=\"2\" ry=\"2\" style=\"stroke: #383838; stroke-width: 1.0;\"/><ellipse cx=\"215.094\" cy=\"115.3893\" fill=\"#383838\" rx=\"2\" ry=\"2\" style=\"stroke: #383838; stroke-width: 1.0;\"/><!--MD5=[827760032d119d06bbc92f75530fd7ae]\n",
       "reverse link E5 to E8--><path d=\"M191.42,103.56 C194.56,120.03 200.21,139.18 206.39,153.65 \" fill=\"none\" id=\"E5&lt;-E8\" style=\"stroke: #383838; stroke-width: 1.0;\"/><polygon fill=\"#383838\" points=\"189.42,90.51,186.3756,97.0469,191.2387,102.3714,194.2832,95.8344,189.42,90.51\" style=\"stroke: #383838; stroke-width: 1.0;\"/><text fill=\"#000000\" font-family=\"sans-serif\" font-size=\"13\" lengthAdjust=\"spacingAndGlyphs\" textLength=\"7\" x=\"194.2368\" y=\"142.8366\">*</text><!--MD5=[cf04703ca05eebef50f1cfe8b03e143b]\n",
       "link E9 to E7--><path d=\"M231.67,306.06 C226.59,318.05 220.15,333.27 214.21,347.33 \" fill=\"none\" id=\"E9-&gt;E7\" style=\"stroke: #383838; stroke-width: 1.0;\"/><polygon fill=\"#FFFFFF\" points=\"206.32,365.98,207.2662,345.7537,220.1625,351.2021,206.32,365.98\" style=\"stroke: #383838; stroke-width: 1.0;\"/><line style=\"stroke: #383838; stroke-width: 2.0;\" x1=\"208.745\" x2=\"221.6413\" y1=\"342.2532\" y2=\"347.7017\"/><!--MD5=[22f5b4bae7e060dce8a1c8021efdb95b]\n",
       "reverse link E8 to E9--><path d=\"M229.05,212.96 C231.74,228.51 234.83,246.33 237.19,259.98 \" fill=\"none\" id=\"E8&lt;-E9\" style=\"stroke: #383838; stroke-width: 1.0;\"/><polygon fill=\"#383838\" points=\"226.82,200.06,223.9001,206.6535,228.8633,211.8848,231.7832,205.2913,226.82,200.06\" style=\"stroke: #383838; stroke-width: 1.0;\"/><!--MD5=[80a7a07aaca1d7b0e9b13983fe7ee6ab]\n",
       "@startuml\r\n",
       "skinparam linetype polyline\r\n",
       "skinparam monochrome true\r\n",
       "skinparam classbackgroundcolor white\r\n",
       "skinparam shadowing false\r\n",
       "skinparam wrapWidth 300\r\n",
       "hide circle\r\n",
       "\r\n",
       "package \"ViewTest\" as E1   {\r\n",
       "package \"P\" as E2   {\r\n",
       "}\r\n",
       "comp def \"VP\" as E3  <<(T,blue)viewpoint def>> {\r\n",
       "}\r\n",
       "comp def \"R\" as E4  <<(T,blue)rendering def>> {\r\n",
       "}\r\n",
       "comp def \"V\" as E5  <<(T,blue)view def>> {\r\n",
       "}\r\n",
       "comp usage \"vp: VP\" as E6  <<(T,blue)viewpoint>> {\r\n",
       "}\r\n",
       "comp usage \"r: R\" as E7  <<(T,blue)rendering>> {\r\n",
       "}\r\n",
       "comp usage \"v: V\" as E8  <<(T,blue)view>> {\r\n",
       "}\r\n",
       "comp usage \"r1: R\" as E9  <<(T,blue)rendering>> {\r\n",
       "}\r\n",
       "E5 *- - E6\r\n",
       "E6 - -:|> E3\r\n",
       "E7 - -:|> E4\r\n",
       "E5 *- - \"0..1\"E7\r\n",
       "E8 - -:|> E5\r\n",
       "E5 *- - \"*\"E8\r\n",
       "E9 - -||> E7\r\n",
       "E8 *- - E9\r\n",
       "}\r\n",
       "@enduml\r\n",
       "\n",
       "PlantUML version 1.2020.13(Sat Jun 13 12:26:38 UTC 2020)\n",
       "(EPL source distribution)\n",
       "Java Runtime: OpenJDK Runtime Environment\n",
       "JVM: OpenJDK 64-Bit Server VM\n",
       "Default Encoding: UTF-8\n",
       "Language: en\n",
       "Country: null\n",
       "--></g></svg>"
      ]
     },
     "execution_count": 15,
     "metadata": {},
     "output_type": "execute_result"
    }
   ],
   "source": [
    "%viz --style=\"POLYLINE\" --view=\"MIXED\" \"ViewTest\""
   ]
  },
  {
   "cell_type": "code",
   "execution_count": 16,
   "id": "alien-basis",
   "metadata": {
    "execution": {
     "iopub.execute_input": "2021-03-25T16:07:58.774428Z",
     "iopub.status.busy": "2021-03-25T16:07:58.773907Z",
     "iopub.status.idle": "2021-03-25T16:07:58.880134Z",
     "shell.execute_reply": "2021-03-25T16:07:58.879737Z"
    }
   },
   "outputs": [
    {
     "data": {
      "image/svg+xml": [
       "<?xml version=\"1.0\" encoding=\"UTF-8\" standalone=\"no\"?><svg xmlns=\"http://www.w3.org/2000/svg\" xmlns:xlink=\"http://www.w3.org/1999/xlink\" contentScriptType=\"application/ecmascript\" contentStyleType=\"text/css\" height=\"233px\" preserveAspectRatio=\"none\" style=\"width:726px;height:233px;\" version=\"1.1\" viewBox=\"0 0 726 233\" width=\"726px\" zoomAndPan=\"magnify\"><defs/><g><!--MD5=[fbc87193dbaf4d95561dea2c320d4a47]\n",
       "cluster E1--><polygon fill=\"#FFFFFF\" points=\"16,6,96,6,103,28.2969,704,28.2969,704,221,16,221,16,6\" style=\"stroke: #000000; stroke-width: 1.5;\"/><line style=\"stroke: #000000; stroke-width: 1.5;\" x1=\"16\" x2=\"103\" y1=\"28.2969\" y2=\"28.2969\"/><text fill=\"#000000\" font-family=\"sans-serif\" font-size=\"14\" font-weight=\"bold\" lengthAdjust=\"spacingAndGlyphs\" textLength=\"74\" x=\"20\" y=\"20.9951\">ViewTest</text><!--MD5=[09b614a08d8cba4a07c9adeb5e0fee81]\n",
       "class E3--><rect fill=\"#FFFFFF\" height=\"45.9375\" id=\"E3\" style=\"stroke: #383838; stroke-width: 1.5;\" width=\"98\" x=\"292\" y=\"159\"/><text fill=\"#000000\" font-family=\"sans-serif\" font-size=\"12\" font-style=\"italic\" lengthAdjust=\"spacingAndGlyphs\" textLength=\"96\" x=\"293\" y=\"175.1387\">«viewpoint def»</text><text fill=\"#000000\" font-family=\"sans-serif\" font-size=\"12\" lengthAdjust=\"spacingAndGlyphs\" textLength=\"16\" x=\"333\" y=\"189.1074\">VP</text><line style=\"stroke: #383838; stroke-width: 1.5;\" x1=\"293\" x2=\"389\" y1=\"196.9375\" y2=\"196.9375\"/><!--MD5=[ebbe1d658d1005bcc118a6aa81145e00]\n",
       "class E4--><rect fill=\"#FFFFFF\" height=\"45.9375\" id=\"E4\" style=\"stroke: #383838; stroke-width: 1.5;\" width=\"101\" x=\"587\" y=\"71\"/><text fill=\"#000000\" font-family=\"sans-serif\" font-size=\"12\" font-style=\"italic\" lengthAdjust=\"spacingAndGlyphs\" textLength=\"99\" x=\"588\" y=\"87.1387\">«rendering def»</text><text fill=\"#000000\" font-family=\"sans-serif\" font-size=\"12\" lengthAdjust=\"spacingAndGlyphs\" textLength=\"8\" x=\"633.5\" y=\"101.1074\">R</text><line style=\"stroke: #383838; stroke-width: 1.5;\" x1=\"588\" x2=\"687\" y1=\"108.9375\" y2=\"108.9375\"/><!--MD5=[270fce915f116d4de14055a7c1d9a0f3]\n",
       "class E5--><rect fill=\"#FFFFFF\" height=\"45.9375\" id=\"E5\" style=\"stroke: #383838; stroke-width: 1.5;\" width=\"66\" x=\"32\" y=\"49\"/><text fill=\"#000000\" font-family=\"sans-serif\" font-size=\"12\" font-style=\"italic\" lengthAdjust=\"spacingAndGlyphs\" textLength=\"64\" x=\"33\" y=\"65.1387\">«view def»</text><text fill=\"#000000\" font-family=\"sans-serif\" font-size=\"12\" lengthAdjust=\"spacingAndGlyphs\" textLength=\"8\" x=\"61\" y=\"79.1074\">V</text><line style=\"stroke: #383838; stroke-width: 1.5;\" x1=\"33\" x2=\"97\" y1=\"86.9375\" y2=\"86.9375\"/><!--MD5=[60a26617385b1d2d0262a64233df1f8d]\n",
       "class E6--><rect fill=\"#FFFFFF\" height=\"45.9375\" id=\"E6\" rx=\"10\" ry=\"10\" style=\"stroke: #383838; stroke-width: 1.5;\" width=\"74\" x=\"158\" y=\"159\"/><text fill=\"#000000\" font-family=\"sans-serif\" font-size=\"12\" font-style=\"italic\" lengthAdjust=\"spacingAndGlyphs\" textLength=\"72\" x=\"159\" y=\"175.1387\">«viewpoint»</text><text fill=\"#000000\" font-family=\"sans-serif\" font-size=\"12\" lengthAdjust=\"spacingAndGlyphs\" textLength=\"38\" x=\"176\" y=\"189.1074\">vp: VP</text><line style=\"stroke: #383838; stroke-width: 1.5;\" x1=\"159\" x2=\"231\" y1=\"196.9375\" y2=\"196.9375\"/><!--MD5=[2156ba9850f5573cc1fc38a6a4b2f02b]\n",
       "class E7--><rect fill=\"#FFFFFF\" height=\"45.9375\" id=\"E7\" rx=\"10\" ry=\"10\" style=\"stroke: #383838; stroke-width: 1.5;\" width=\"77\" x=\"450\" y=\"71\"/><text fill=\"#000000\" font-family=\"sans-serif\" font-size=\"12\" font-style=\"italic\" lengthAdjust=\"spacingAndGlyphs\" textLength=\"75\" x=\"451\" y=\"87.1387\">«rendering»</text><text fill=\"#000000\" font-family=\"sans-serif\" font-size=\"12\" lengthAdjust=\"spacingAndGlyphs\" textLength=\"21\" x=\"478\" y=\"101.1074\">r: R</text><line style=\"stroke: #383838; stroke-width: 1.5;\" x1=\"451\" x2=\"526\" y1=\"108.9375\" y2=\"108.9375\"/><!--MD5=[b9389687b975829384b498ac4b7476b2]\n",
       "class E8--><rect fill=\"#FFFFFF\" height=\"45.9375\" id=\"E8\" rx=\"10\" ry=\"10\" style=\"stroke: #383838; stroke-width: 1.5;\" width=\"42\" x=\"174\" y=\"41\"/><text fill=\"#000000\" font-family=\"sans-serif\" font-size=\"12\" font-style=\"italic\" lengthAdjust=\"spacingAndGlyphs\" textLength=\"40\" x=\"175\" y=\"57.1387\">«view»</text><text fill=\"#000000\" font-family=\"sans-serif\" font-size=\"12\" lengthAdjust=\"spacingAndGlyphs\" textLength=\"22\" x=\"184\" y=\"71.1074\">v: V</text><line style=\"stroke: #383838; stroke-width: 1.5;\" x1=\"175\" x2=\"215\" y1=\"78.9375\" y2=\"78.9375\"/><!--MD5=[fd4143e9d270a159db93a4ea2a975926]\n",
       "class E9--><rect fill=\"#FFFFFF\" height=\"45.9375\" id=\"E9\" rx=\"10\" ry=\"10\" style=\"stroke: #383838; stroke-width: 1.5;\" width=\"77\" x=\"302.5\" y=\"41\"/><text fill=\"#000000\" font-family=\"sans-serif\" font-size=\"12\" font-style=\"italic\" lengthAdjust=\"spacingAndGlyphs\" textLength=\"75\" x=\"303.5\" y=\"57.1387\">«rendering»</text><text fill=\"#000000\" font-family=\"sans-serif\" font-size=\"12\" lengthAdjust=\"spacingAndGlyphs\" textLength=\"29\" x=\"326.5\" y=\"71.1074\">r1: R</text><line style=\"stroke: #383838; stroke-width: 1.5;\" x1=\"303.5\" x2=\"378.5\" y1=\"78.9375\" y2=\"78.9375\"/><polygon fill=\"#FFFFFF\" points=\"50,137.5,66,137.5,73,159.7969,80,159.7969,80,190.0938,50,190.0938,50,137.5\" style=\"stroke: #000000; stroke-width: 1.5;\"/><line style=\"stroke: #000000; stroke-width: 1.5;\" x1=\"50\" x2=\"73\" y1=\"159.7969\" y2=\"159.7969\"/><text fill=\"#000000\" font-family=\"sans-serif\" font-size=\"14\" font-weight=\"bold\" lengthAdjust=\"spacingAndGlyphs\" textLength=\"10\" x=\"54\" y=\"152.4951\">P</text><!--MD5=[85d356282659285ab4b2cfe2f634dd2b]\n",
       "reverse link E5 to E6--><path d=\"M102.81,103.63 C123.36,121.3 148.52,142.92 167.2,158.97 \" fill=\"none\" id=\"E5&lt;-E6\" style=\"stroke: #383838; stroke-width: 1.0;\"/><polygon fill=\"#383838\" points=\"92.83,95.06,94.7733,102.0043,101.9308,102.8814,99.9876,95.9371,92.83,95.06\" style=\"stroke: #383838; stroke-width: 1.0;\"/><!--MD5=[a717450b82c80b9240a525fa862496af]\n",
       "link E6 to E3--><path d=\"M232.34,182 C244.34,182 258.12,182 271.72,182 \" fill=\"none\" id=\"E6-&gt;E3\" style=\"stroke: #383838; stroke-width: 1.0;\"/><polygon fill=\"#FFFFFF\" points=\"291.97,182,272.97,189,272.97,175,291.97,182\" style=\"stroke: #383838; stroke-width: 1.0;\"/><ellipse cx=\"267.27\" cy=\"187\" fill=\"#383838\" rx=\"2\" ry=\"2\" style=\"stroke: #383838; stroke-width: 1.0;\"/><ellipse cx=\"267.27\" cy=\"177\" fill=\"#383838\" rx=\"2\" ry=\"2\" style=\"stroke: #383838; stroke-width: 1.0;\"/><!--MD5=[6bdd27f9905911a7e892a3dc65cf6b7c]\n",
       "link E7 to E4--><path d=\"M527.36,94 C539.39,94 553.1,94 566.65,94 \" fill=\"none\" id=\"E7-&gt;E4\" style=\"stroke: #383838; stroke-width: 1.0;\"/><polygon fill=\"#FFFFFF\" points=\"586.85,94,567.85,101,567.85,87,586.85,94\" style=\"stroke: #383838; stroke-width: 1.0;\"/><ellipse cx=\"562.15\" cy=\"99\" fill=\"#383838\" rx=\"2\" ry=\"2\" style=\"stroke: #383838; stroke-width: 1.0;\"/><ellipse cx=\"562.15\" cy=\"89\" fill=\"#383838\" rx=\"2\" ry=\"2\" style=\"stroke: #383838; stroke-width: 1.0;\"/><!--MD5=[452b418e7f8a40397a49b8c0a78acc5b]\n",
       "reverse link E5 to E7--><path d=\"M110.49,91.44 C125.31,96.97 142.1,102.23 158,105 C262.32,123.14 387.94,109.32 449.6,100.26 \" fill=\"none\" id=\"E5&lt;-E7\" style=\"stroke: #383838; stroke-width: 1.0;\"/><polygon fill=\"#383838\" points=\"98.04,86.57,102.1664,92.4838,109.2124,90.9493,105.0859,85.0355,98.04,86.57\" style=\"stroke: #383838; stroke-width: 1.0;\"/><text fill=\"#000000\" font-family=\"sans-serif\" font-size=\"13\" lengthAdjust=\"spacingAndGlyphs\" textLength=\"24\" x=\"418.1241\" y=\"114.3622\">0..1</text><!--MD5=[1ccb2481ffa92f8d51a74ee30c51832a]\n",
       "link E8 to E5--><path d=\"M173.72,55.09 C158.76,53.26 137.7,53.53 118.16,55.45 \" fill=\"none\" id=\"E8-&gt;E5\" style=\"stroke: #383838; stroke-width: 1.0;\"/><polygon fill=\"#FFFFFF\" points=\"98.3,58.08,116.2153,48.6438,118.0551,62.5224,98.3,58.08\" style=\"stroke: #383838; stroke-width: 1.0;\"/><ellipse cx=\"122.1287\" cy=\"49.8774\" fill=\"#383838\" rx=\"2\" ry=\"2\" style=\"stroke: #383838; stroke-width: 1.0;\"/><ellipse cx=\"123.4429\" cy=\"59.7907\" fill=\"#383838\" rx=\"2\" ry=\"2\" style=\"stroke: #383838; stroke-width: 1.0;\"/><!--MD5=[827760032d119d06bbc92f75530fd7ae]\n",
       "reverse link E5 to E8--><path d=\"M111.41,81.42 C132.71,81.24 157.02,78.84 173.72,74.88 \" fill=\"none\" id=\"E5&lt;-E8\" style=\"stroke: #383838; stroke-width: 1.0;\"/><polygon fill=\"#383838\" points=\"98.3,81.22,104.2378,85.3118,110.2986,81.4046,104.3608,77.3128,98.3,81.22\" style=\"stroke: #383838; stroke-width: 1.0;\"/><text fill=\"#000000\" font-family=\"sans-serif\" font-size=\"13\" lengthAdjust=\"spacingAndGlyphs\" textLength=\"7\" x=\"159.1311\" y=\"92.6057\">*</text><!--MD5=[cf04703ca05eebef50f1cfe8b03e143b]\n",
       "link E9 to E7--><path d=\"M379.85,71.8 C395.17,74.96 413.21,78.68 430.08,82.16 \" fill=\"none\" id=\"E9-&gt;E7\" style=\"stroke: #383838; stroke-width: 1.0;\"/><polygon fill=\"#FFFFFF\" points=\"449.84,86.24,429.8172,89.2545,432.6474,75.5435,449.84,86.24\" style=\"stroke: #383838; stroke-width: 1.0;\"/><line style=\"stroke: #383838; stroke-width: 2.0;\" x1=\"426.0957\" x2=\"428.9258\" y1=\"88.4863\" y2=\"74.7754\"/><!--MD5=[22f5b4bae7e060dce8a1c8021efdb95b]\n",
       "reverse link E8 to E9--><path d=\"M229.26,64 C251.09,64 279.69,64 302.35,64 \" fill=\"none\" id=\"E8&lt;-E9\" style=\"stroke: #383838; stroke-width: 1.0;\"/><polygon fill=\"#383838\" points=\"216.02,64,222.02,68,228.02,64,222.02,60,216.02,64\" style=\"stroke: #383838; stroke-width: 1.0;\"/><!--MD5=[250149dc2d2821afd66a013aa16ef093]\n",
       "@startuml\r\n",
       "left to right direction\r\n",
       "skinparam monochrome true\r\n",
       "skinparam classbackgroundcolor white\r\n",
       "skinparam shadowing false\r\n",
       "skinparam wrapWidth 300\r\n",
       "hide circle\r\n",
       "\r\n",
       "package \"ViewTest\" as E1   {\r\n",
       "package \"P\" as E2   {\r\n",
       "}\r\n",
       "comp def \"VP\" as E3  <<(T,blue)viewpoint def>> {\r\n",
       "}\r\n",
       "comp def \"R\" as E4  <<(T,blue)rendering def>> {\r\n",
       "}\r\n",
       "comp def \"V\" as E5  <<(T,blue)view def>> {\r\n",
       "}\r\n",
       "comp usage \"vp: VP\" as E6  <<(T,blue)viewpoint>> {\r\n",
       "}\r\n",
       "comp usage \"r: R\" as E7  <<(T,blue)rendering>> {\r\n",
       "}\r\n",
       "comp usage \"v: V\" as E8  <<(T,blue)view>> {\r\n",
       "}\r\n",
       "comp usage \"r1: R\" as E9  <<(T,blue)rendering>> {\r\n",
       "}\r\n",
       "E5 *- - E6\r\n",
       "E6 - -:|> E3\r\n",
       "E7 - -:|> E4\r\n",
       "E5 *- - \"0..1\"E7\r\n",
       "E8 - -:|> E5\r\n",
       "E5 *- - \"*\"E8\r\n",
       "E9 - -||> E7\r\n",
       "E8 *- - E9\r\n",
       "}\r\n",
       "@enduml\r\n",
       "\n",
       "PlantUML version 1.2020.13(Sat Jun 13 12:26:38 UTC 2020)\n",
       "(EPL source distribution)\n",
       "Java Runtime: OpenJDK Runtime Environment\n",
       "JVM: OpenJDK 64-Bit Server VM\n",
       "Default Encoding: UTF-8\n",
       "Language: en\n",
       "Country: null\n",
       "--></g></svg>"
      ]
     },
     "execution_count": 16,
     "metadata": {},
     "output_type": "execute_result"
    }
   ],
   "source": [
    "%viz --style=\"LR\" --view=\"Default\" \"ViewTest\""
   ]
  },
  {
   "cell_type": "code",
   "execution_count": 17,
   "id": "cordless-terrain",
   "metadata": {
    "execution": {
     "iopub.execute_input": "2021-03-25T16:07:58.930815Z",
     "iopub.status.busy": "2021-03-25T16:07:58.930393Z",
     "iopub.status.idle": "2021-03-25T16:07:59.047627Z",
     "shell.execute_reply": "2021-03-25T16:07:59.047243Z"
    }
   },
   "outputs": [
    {
     "data": {
      "image/svg+xml": [
       "<?xml version=\"1.0\" encoding=\"UTF-8\" standalone=\"no\"?><svg xmlns=\"http://www.w3.org/2000/svg\" xmlns:xlink=\"http://www.w3.org/1999/xlink\" contentScriptType=\"application/ecmascript\" contentStyleType=\"text/css\" height=\"233px\" preserveAspectRatio=\"none\" style=\"width:726px;height:233px;\" version=\"1.1\" viewBox=\"0 0 726 233\" width=\"726px\" zoomAndPan=\"magnify\"><defs/><g><!--MD5=[fbc87193dbaf4d95561dea2c320d4a47]\n",
       "cluster E1--><polygon fill=\"#FFFFFF\" points=\"16,6,96,6,103,28.2969,704,28.2969,704,221,16,221,16,6\" style=\"stroke: #000000; stroke-width: 1.5;\"/><line style=\"stroke: #000000; stroke-width: 1.5;\" x1=\"16\" x2=\"103\" y1=\"28.2969\" y2=\"28.2969\"/><text fill=\"#000000\" font-family=\"sans-serif\" font-size=\"14\" font-weight=\"bold\" lengthAdjust=\"spacingAndGlyphs\" textLength=\"74\" x=\"20\" y=\"20.9951\">ViewTest</text><!--MD5=[09b614a08d8cba4a07c9adeb5e0fee81]\n",
       "class E3--><rect fill=\"#FFFFFF\" height=\"45.9375\" id=\"E3\" style=\"stroke: #383838; stroke-width: 1.5;\" width=\"98\" x=\"292\" y=\"159\"/><text fill=\"#000000\" font-family=\"sans-serif\" font-size=\"12\" font-style=\"italic\" lengthAdjust=\"spacingAndGlyphs\" textLength=\"96\" x=\"293\" y=\"175.1387\">«viewpoint def»</text><text fill=\"#000000\" font-family=\"sans-serif\" font-size=\"12\" lengthAdjust=\"spacingAndGlyphs\" textLength=\"16\" x=\"333\" y=\"189.1074\">VP</text><line style=\"stroke: #383838; stroke-width: 1.5;\" x1=\"293\" x2=\"389\" y1=\"196.9375\" y2=\"196.9375\"/><!--MD5=[ebbe1d658d1005bcc118a6aa81145e00]\n",
       "class E4--><rect fill=\"#FFFFFF\" height=\"45.9375\" id=\"E4\" style=\"stroke: #383838; stroke-width: 1.5;\" width=\"101\" x=\"587\" y=\"71\"/><text fill=\"#000000\" font-family=\"sans-serif\" font-size=\"12\" font-style=\"italic\" lengthAdjust=\"spacingAndGlyphs\" textLength=\"99\" x=\"588\" y=\"87.1387\">«rendering def»</text><text fill=\"#000000\" font-family=\"sans-serif\" font-size=\"12\" lengthAdjust=\"spacingAndGlyphs\" textLength=\"8\" x=\"633.5\" y=\"101.1074\">R</text><line style=\"stroke: #383838; stroke-width: 1.5;\" x1=\"588\" x2=\"687\" y1=\"108.9375\" y2=\"108.9375\"/><!--MD5=[270fce915f116d4de14055a7c1d9a0f3]\n",
       "class E5--><rect fill=\"#FFFFFF\" height=\"45.9375\" id=\"E5\" style=\"stroke: #383838; stroke-width: 1.5;\" width=\"66\" x=\"32\" y=\"49\"/><text fill=\"#000000\" font-family=\"sans-serif\" font-size=\"12\" font-style=\"italic\" lengthAdjust=\"spacingAndGlyphs\" textLength=\"64\" x=\"33\" y=\"65.1387\">«view def»</text><text fill=\"#000000\" font-family=\"sans-serif\" font-size=\"12\" lengthAdjust=\"spacingAndGlyphs\" textLength=\"8\" x=\"61\" y=\"79.1074\">V</text><line style=\"stroke: #383838; stroke-width: 1.5;\" x1=\"33\" x2=\"97\" y1=\"86.9375\" y2=\"86.9375\"/><!--MD5=[60a26617385b1d2d0262a64233df1f8d]\n",
       "class E6--><rect fill=\"#FFFFFF\" height=\"45.9375\" id=\"E6\" rx=\"10\" ry=\"10\" style=\"stroke: #383838; stroke-width: 1.5;\" width=\"74\" x=\"158\" y=\"159\"/><text fill=\"#000000\" font-family=\"sans-serif\" font-size=\"12\" font-style=\"italic\" lengthAdjust=\"spacingAndGlyphs\" textLength=\"72\" x=\"159\" y=\"175.1387\">«viewpoint»</text><text fill=\"#000000\" font-family=\"sans-serif\" font-size=\"12\" lengthAdjust=\"spacingAndGlyphs\" textLength=\"38\" x=\"176\" y=\"189.1074\">vp: VP</text><line style=\"stroke: #383838; stroke-width: 1.5;\" x1=\"159\" x2=\"231\" y1=\"196.9375\" y2=\"196.9375\"/><!--MD5=[2156ba9850f5573cc1fc38a6a4b2f02b]\n",
       "class E7--><rect fill=\"#FFFFFF\" height=\"45.9375\" id=\"E7\" rx=\"10\" ry=\"10\" style=\"stroke: #383838; stroke-width: 1.5;\" width=\"77\" x=\"450\" y=\"71\"/><text fill=\"#000000\" font-family=\"sans-serif\" font-size=\"12\" font-style=\"italic\" lengthAdjust=\"spacingAndGlyphs\" textLength=\"75\" x=\"451\" y=\"87.1387\">«rendering»</text><text fill=\"#000000\" font-family=\"sans-serif\" font-size=\"12\" lengthAdjust=\"spacingAndGlyphs\" textLength=\"21\" x=\"478\" y=\"101.1074\">r: R</text><line style=\"stroke: #383838; stroke-width: 1.5;\" x1=\"451\" x2=\"526\" y1=\"108.9375\" y2=\"108.9375\"/><!--MD5=[b9389687b975829384b498ac4b7476b2]\n",
       "class E8--><rect fill=\"#FFFFFF\" height=\"45.9375\" id=\"E8\" rx=\"10\" ry=\"10\" style=\"stroke: #383838; stroke-width: 1.5;\" width=\"42\" x=\"174\" y=\"41\"/><text fill=\"#000000\" font-family=\"sans-serif\" font-size=\"12\" font-style=\"italic\" lengthAdjust=\"spacingAndGlyphs\" textLength=\"40\" x=\"175\" y=\"57.1387\">«view»</text><text fill=\"#000000\" font-family=\"sans-serif\" font-size=\"12\" lengthAdjust=\"spacingAndGlyphs\" textLength=\"22\" x=\"184\" y=\"71.1074\">v: V</text><line style=\"stroke: #383838; stroke-width: 1.5;\" x1=\"175\" x2=\"215\" y1=\"78.9375\" y2=\"78.9375\"/><!--MD5=[fd4143e9d270a159db93a4ea2a975926]\n",
       "class E9--><rect fill=\"#FFFFFF\" height=\"45.9375\" id=\"E9\" rx=\"10\" ry=\"10\" style=\"stroke: #383838; stroke-width: 1.5;\" width=\"77\" x=\"302.5\" y=\"41\"/><text fill=\"#000000\" font-family=\"sans-serif\" font-size=\"12\" font-style=\"italic\" lengthAdjust=\"spacingAndGlyphs\" textLength=\"75\" x=\"303.5\" y=\"57.1387\">«rendering»</text><text fill=\"#000000\" font-family=\"sans-serif\" font-size=\"12\" lengthAdjust=\"spacingAndGlyphs\" textLength=\"29\" x=\"326.5\" y=\"71.1074\">r1: R</text><line style=\"stroke: #383838; stroke-width: 1.5;\" x1=\"303.5\" x2=\"378.5\" y1=\"78.9375\" y2=\"78.9375\"/><polygon fill=\"#FFFFFF\" points=\"50,137.5,66,137.5,73,159.7969,80,159.7969,80,190.0938,50,190.0938,50,137.5\" style=\"stroke: #000000; stroke-width: 1.5;\"/><line style=\"stroke: #000000; stroke-width: 1.5;\" x1=\"50\" x2=\"73\" y1=\"159.7969\" y2=\"159.7969\"/><text fill=\"#000000\" font-family=\"sans-serif\" font-size=\"14\" font-weight=\"bold\" lengthAdjust=\"spacingAndGlyphs\" textLength=\"10\" x=\"54\" y=\"152.4951\">P</text><!--MD5=[85d356282659285ab4b2cfe2f634dd2b]\n",
       "reverse link E5 to E6--><path d=\"M102.81,103.63 C123.36,121.3 148.52,142.92 167.2,158.97 \" fill=\"none\" id=\"E5&lt;-E6\" style=\"stroke: #383838; stroke-width: 1.0;\"/><polygon fill=\"#383838\" points=\"92.83,95.06,94.7733,102.0043,101.9308,102.8814,99.9876,95.9371,92.83,95.06\" style=\"stroke: #383838; stroke-width: 1.0;\"/><!--MD5=[a717450b82c80b9240a525fa862496af]\n",
       "link E6 to E3--><path d=\"M232.34,182 C244.34,182 258.12,182 271.72,182 \" fill=\"none\" id=\"E6-&gt;E3\" style=\"stroke: #383838; stroke-width: 1.0;\"/><polygon fill=\"#FFFFFF\" points=\"291.97,182,272.97,189,272.97,175,291.97,182\" style=\"stroke: #383838; stroke-width: 1.0;\"/><ellipse cx=\"267.27\" cy=\"187\" fill=\"#383838\" rx=\"2\" ry=\"2\" style=\"stroke: #383838; stroke-width: 1.0;\"/><ellipse cx=\"267.27\" cy=\"177\" fill=\"#383838\" rx=\"2\" ry=\"2\" style=\"stroke: #383838; stroke-width: 1.0;\"/><!--MD5=[6bdd27f9905911a7e892a3dc65cf6b7c]\n",
       "link E7 to E4--><path d=\"M527.36,94 C539.39,94 553.1,94 566.65,94 \" fill=\"none\" id=\"E7-&gt;E4\" style=\"stroke: #383838; stroke-width: 1.0;\"/><polygon fill=\"#FFFFFF\" points=\"586.85,94,567.85,101,567.85,87,586.85,94\" style=\"stroke: #383838; stroke-width: 1.0;\"/><ellipse cx=\"562.15\" cy=\"99\" fill=\"#383838\" rx=\"2\" ry=\"2\" style=\"stroke: #383838; stroke-width: 1.0;\"/><ellipse cx=\"562.15\" cy=\"89\" fill=\"#383838\" rx=\"2\" ry=\"2\" style=\"stroke: #383838; stroke-width: 1.0;\"/><!--MD5=[452b418e7f8a40397a49b8c0a78acc5b]\n",
       "reverse link E5 to E7--><path d=\"M110.49,91.44 C125.31,96.97 142.1,102.23 158,105 C262.32,123.14 387.94,109.32 449.6,100.26 \" fill=\"none\" id=\"E5&lt;-E7\" style=\"stroke: #383838; stroke-width: 1.0;\"/><polygon fill=\"#383838\" points=\"98.04,86.57,102.1664,92.4838,109.2124,90.9493,105.0859,85.0355,98.04,86.57\" style=\"stroke: #383838; stroke-width: 1.0;\"/><text fill=\"#000000\" font-family=\"sans-serif\" font-size=\"13\" lengthAdjust=\"spacingAndGlyphs\" textLength=\"24\" x=\"418.1241\" y=\"114.3622\">0..1</text><!--MD5=[1ccb2481ffa92f8d51a74ee30c51832a]\n",
       "link E8 to E5--><path d=\"M173.72,55.09 C158.76,53.26 137.7,53.53 118.16,55.45 \" fill=\"none\" id=\"E8-&gt;E5\" style=\"stroke: #383838; stroke-width: 1.0;\"/><polygon fill=\"#FFFFFF\" points=\"98.3,58.08,116.2153,48.6438,118.0551,62.5224,98.3,58.08\" style=\"stroke: #383838; stroke-width: 1.0;\"/><ellipse cx=\"122.1287\" cy=\"49.8774\" fill=\"#383838\" rx=\"2\" ry=\"2\" style=\"stroke: #383838; stroke-width: 1.0;\"/><ellipse cx=\"123.4429\" cy=\"59.7907\" fill=\"#383838\" rx=\"2\" ry=\"2\" style=\"stroke: #383838; stroke-width: 1.0;\"/><!--MD5=[827760032d119d06bbc92f75530fd7ae]\n",
       "reverse link E5 to E8--><path d=\"M111.41,81.42 C132.71,81.24 157.02,78.84 173.72,74.88 \" fill=\"none\" id=\"E5&lt;-E8\" style=\"stroke: #383838; stroke-width: 1.0;\"/><polygon fill=\"#383838\" points=\"98.3,81.22,104.2378,85.3118,110.2986,81.4046,104.3608,77.3128,98.3,81.22\" style=\"stroke: #383838; stroke-width: 1.0;\"/><text fill=\"#000000\" font-family=\"sans-serif\" font-size=\"13\" lengthAdjust=\"spacingAndGlyphs\" textLength=\"7\" x=\"159.1311\" y=\"92.6057\">*</text><!--MD5=[cf04703ca05eebef50f1cfe8b03e143b]\n",
       "link E9 to E7--><path d=\"M379.85,71.8 C395.17,74.96 413.21,78.68 430.08,82.16 \" fill=\"none\" id=\"E9-&gt;E7\" style=\"stroke: #383838; stroke-width: 1.0;\"/><polygon fill=\"#FFFFFF\" points=\"449.84,86.24,429.8172,89.2545,432.6474,75.5435,449.84,86.24\" style=\"stroke: #383838; stroke-width: 1.0;\"/><line style=\"stroke: #383838; stroke-width: 2.0;\" x1=\"426.0957\" x2=\"428.9258\" y1=\"88.4863\" y2=\"74.7754\"/><!--MD5=[22f5b4bae7e060dce8a1c8021efdb95b]\n",
       "reverse link E8 to E9--><path d=\"M229.26,64 C251.09,64 279.69,64 302.35,64 \" fill=\"none\" id=\"E8&lt;-E9\" style=\"stroke: #383838; stroke-width: 1.0;\"/><polygon fill=\"#383838\" points=\"216.02,64,222.02,68,228.02,64,222.02,60,216.02,64\" style=\"stroke: #383838; stroke-width: 1.0;\"/><!--MD5=[250149dc2d2821afd66a013aa16ef093]\n",
       "@startuml\r\n",
       "left to right direction\r\n",
       "skinparam monochrome true\r\n",
       "skinparam classbackgroundcolor white\r\n",
       "skinparam shadowing false\r\n",
       "skinparam wrapWidth 300\r\n",
       "hide circle\r\n",
       "\r\n",
       "package \"ViewTest\" as E1   {\r\n",
       "package \"P\" as E2   {\r\n",
       "}\r\n",
       "comp def \"VP\" as E3  <<(T,blue)viewpoint def>> {\r\n",
       "}\r\n",
       "comp def \"R\" as E4  <<(T,blue)rendering def>> {\r\n",
       "}\r\n",
       "comp def \"V\" as E5  <<(T,blue)view def>> {\r\n",
       "}\r\n",
       "comp usage \"vp: VP\" as E6  <<(T,blue)viewpoint>> {\r\n",
       "}\r\n",
       "comp usage \"r: R\" as E7  <<(T,blue)rendering>> {\r\n",
       "}\r\n",
       "comp usage \"v: V\" as E8  <<(T,blue)view>> {\r\n",
       "}\r\n",
       "comp usage \"r1: R\" as E9  <<(T,blue)rendering>> {\r\n",
       "}\r\n",
       "E5 *- - E6\r\n",
       "E6 - -:|> E3\r\n",
       "E7 - -:|> E4\r\n",
       "E5 *- - \"0..1\"E7\r\n",
       "E8 - -:|> E5\r\n",
       "E5 *- - \"*\"E8\r\n",
       "E9 - -||> E7\r\n",
       "E8 *- - E9\r\n",
       "}\r\n",
       "@enduml\r\n",
       "\n",
       "PlantUML version 1.2020.13(Sat Jun 13 12:26:38 UTC 2020)\n",
       "(EPL source distribution)\n",
       "Java Runtime: OpenJDK Runtime Environment\n",
       "JVM: OpenJDK 64-Bit Server VM\n",
       "Default Encoding: UTF-8\n",
       "Language: en\n",
       "Country: null\n",
       "--></g></svg>"
      ]
     },
     "execution_count": 17,
     "metadata": {},
     "output_type": "execute_result"
    }
   ],
   "source": [
    "%viz --style=\"LR\" --view=\"Tree\" \"ViewTest\""
   ]
  },
  {
   "cell_type": "code",
   "execution_count": 18,
   "id": "bizarre-sitting",
   "metadata": {
    "execution": {
     "iopub.execute_input": "2021-03-25T16:07:59.098675Z",
     "iopub.status.busy": "2021-03-25T16:07:59.098113Z",
     "iopub.status.idle": "2021-03-25T16:07:59.101681Z",
     "shell.execute_reply": "2021-03-25T16:07:59.102155Z"
    }
   },
   "outputs": [
    {
     "data": {
      "text/plain": [
       "java.lang.IllegalArgumentException: Invalid View: State View candidates are: Default Tree StateMachine Interconnection Activity Sequence MIXED \n",
       "\tat org.omg.sysml.plantuml.SysML2PlantUMLSvc.setView(SysML2PlantUMLSvc.java:63)\n",
       "\tat org.omg.sysml.interactive.SysMLInteractive.viz(SysMLInteractive.java:286)\n",
       "\tat org.omg.sysml.jupyter.kernel.magic.Viz.viz(Viz.java:47)\n",
       "\tat jdk.internal.reflect.GeneratedMethodAccessor10.invoke(Unknown Source)\n",
       "\tat java.base/jdk.internal.reflect.DelegatingMethodAccessorImpl.invoke(DelegatingMethodAccessorImpl.java:43)\n",
       "\tat java.base/java.lang.reflect.Method.invoke(Method.java:568)\n",
       "\tat io.github.spencerpark.jupyter.kernel.magic.registry.Magics.invoke(Magics.java:89)\n",
       "\tat io.github.spencerpark.jupyter.kernel.magic.registry.Magics.access$000(Magics.java:8)\n",
       "\tat io.github.spencerpark.jupyter.kernel.magic.registry.Magics$LineReflectionMagicFunction.execute(Magics.java:149)\n",
       "\tat io.github.spencerpark.jupyter.kernel.magic.registry.Magics.applyLineMagic(Magics.java:26)\n",
       "\tat org.omg.sysml.jupyter.kernel.SysMLKernel.eval(SysMLKernel.java:76)\n",
       "\tat io.github.spencerpark.jupyter.kernel.BaseKernel.handleExecuteRequest(BaseKernel.java:334)\n",
       "\tat io.github.spencerpark.jupyter.channels.ShellChannel.lambda$bind$0(ShellChannel.java:64)\n",
       "\tat io.github.spencerpark.jupyter.channels.Loop.lambda$new$0(Loop.java:21)\n",
       "\tat io.github.spencerpark.jupyter.channels.Loop.run(Loop.java:78)\n"
      ]
     },
     "execution_count": 18,
     "metadata": {},
     "output_type": "execute_result"
    }
   ],
   "source": [
    "%viz --style=\"LR\" --view=\"State\" \"ViewTest\""
   ]
  },
  {
   "cell_type": "code",
   "execution_count": 19,
   "id": "worst-bottle",
   "metadata": {
    "execution": {
     "iopub.execute_input": "2021-03-25T16:07:59.152693Z",
     "iopub.status.busy": "2021-03-25T16:07:59.152300Z",
     "iopub.status.idle": "2021-03-25T16:07:59.270487Z",
     "shell.execute_reply": "2021-03-25T16:07:59.270057Z"
    }
   },
   "outputs": [
    {
     "data": {
      "image/svg+xml": [
       "<?xml version=\"1.0\" encoding=\"UTF-8\" standalone=\"no\"?><svg xmlns=\"http://www.w3.org/2000/svg\" xmlns:xlink=\"http://www.w3.org/1999/xlink\" contentScriptType=\"application/ecmascript\" contentStyleType=\"text/css\" height=\"724px\" preserveAspectRatio=\"none\" style=\"width:276px;height:724px;\" version=\"1.1\" viewBox=\"0 0 276 724\" width=\"276px\" zoomAndPan=\"magnify\"><defs/><g><!--MD5=[fbc87193dbaf4d95561dea2c320d4a47]\n",
       "cluster E1--><polygon fill=\"#FFFFFF\" points=\"16,6,96,6,103,28.2969,254,28.2969,254,712,16,712,16,6\" style=\"stroke: #000000; stroke-width: 1.5;\"/><line style=\"stroke: #000000; stroke-width: 1.5;\" x1=\"16\" x2=\"103\" y1=\"28.2969\" y2=\"28.2969\"/><text fill=\"#000000\" font-family=\"sans-serif\" font-size=\"14\" font-weight=\"bold\" lengthAdjust=\"spacingAndGlyphs\" textLength=\"74\" x=\"20\" y=\"20.9951\">ViewTest</text><!--MD5=[de5ec2e2e8f62f467e546659f5068c88]\n",
       "cluster E5--><rect fill=\"#FFFFFF\" height=\"397\" style=\"stroke: #000000; stroke-width: 1.5;\" width=\"190\" x=\"40\" y=\"49\"/><text fill=\"#000000\" font-family=\"sans-serif\" font-size=\"14\" font-style=\"italic\" lengthAdjust=\"spacingAndGlyphs\" textLength=\"74\" x=\"98\" y=\"63.9951\">«view def»</text><text fill=\"#000000\" font-family=\"sans-serif\" font-size=\"14\" font-weight=\"bold\" lengthAdjust=\"spacingAndGlyphs\" textLength=\"11\" x=\"129.5\" y=\"80.292\">V</text><!--MD5=[14e3b0961a2654348d326746436168a1]\n",
       "cluster E6--><rect fill=\"#F8F8F8\" height=\"121\" rx=\"12.5\" ry=\"12.5\" style=\"stroke: #000000; stroke-width: 1.5;\" width=\"142\" x=\"64\" y=\"108\"/><rect fill=\"#FFFFFF\" height=\"88.7031\" rx=\"12.5\" ry=\"12.5\" style=\"stroke: #FFFFFF; stroke-width: 1.0;\" width=\"136\" x=\"67\" y=\"137.2969\"/><line style=\"stroke: #000000; stroke-width: 1.5;\" x1=\"64\" x2=\"206\" y1=\"134.2969\" y2=\"134.2969\"/><text fill=\"#000000\" font-family=\"sans-serif\" font-size=\"14\" lengthAdjust=\"spacingAndGlyphs\" textLength=\"43\" x=\"93.5\" y=\"124.9951\">vp: VP</text><!--MD5=[7f149f147074ac12df2cb0a7728a5fb0]\n",
       "cluster E9--><rect fill=\"#F8F8F8\" height=\"105\" rx=\"12.5\" ry=\"12.5\" style=\"stroke: #000000; stroke-width: 1.5;\" width=\"109\" x=\"80.5\" y=\"253\"/><rect fill=\"#FFFFFF\" height=\"72.7031\" rx=\"12.5\" ry=\"12.5\" style=\"stroke: #FFFFFF; stroke-width: 1.0;\" width=\"103\" x=\"83.5\" y=\"282.2969\"/><line style=\"stroke: #000000; stroke-width: 1.5;\" x1=\"80.5\" x2=\"189.5\" y1=\"279.2969\" y2=\"279.2969\"/><text fill=\"#000000\" font-family=\"sans-serif\" font-size=\"14\" lengthAdjust=\"spacingAndGlyphs\" textLength=\"25\" x=\"122.5\" y=\"269.9951\">v: V</text><!--MD5=[09b614a08d8cba4a07c9adeb5e0fee81]\n",
       "class E3--><rect fill=\"#FFFFFF\" height=\"53.9375\" id=\"E3\" style=\"stroke: #383838; stroke-width: 1.5;\" width=\"98\" x=\"86\" y=\"465\"/><text fill=\"#000000\" font-family=\"sans-serif\" font-size=\"12\" font-style=\"italic\" lengthAdjust=\"spacingAndGlyphs\" textLength=\"96\" x=\"87\" y=\"481.1387\">«viewpoint def»</text><text fill=\"#000000\" font-family=\"sans-serif\" font-size=\"12\" lengthAdjust=\"spacingAndGlyphs\" textLength=\"16\" x=\"127\" y=\"495.1074\">VP</text><line style=\"stroke: #383838; stroke-width: 1.5;\" x1=\"87\" x2=\"183\" y1=\"502.9375\" y2=\"502.9375\"/><line style=\"stroke: #383838; stroke-width: 1.5;\" x1=\"87\" x2=\"183\" y1=\"510.9375\" y2=\"510.9375\"/><polygon fill=\"#FFFFFF\" points=\"120,554.5,136,554.5,143,576.7969,150,576.7969,150,607.0938,120,607.0938,120,554.5\" style=\"stroke: #000000; stroke-width: 1.5;\"/><line style=\"stroke: #000000; stroke-width: 1.5;\" x1=\"120\" x2=\"143\" y1=\"576.7969\" y2=\"576.7969\"/><text fill=\"#000000\" font-family=\"sans-serif\" font-size=\"14\" font-weight=\"bold\" lengthAdjust=\"spacingAndGlyphs\" textLength=\"10\" x=\"124\" y=\"569.4951\">P</text><!--MD5=[961cefdc15414eaa3e87aec9d17c2188]\n",
       "entity E4--><rect fill=\"#FFFFFF\" height=\"52.5938\" style=\"stroke: #000000; stroke-width: 1.5;\" width=\"131\" x=\"69.5\" y=\"642.5\"/><text fill=\"#000000\" font-family=\"sans-serif\" font-size=\"14\" font-style=\"italic\" lengthAdjust=\"spacingAndGlyphs\" textLength=\"111\" x=\"79.5\" y=\"665.4951\">«rendering def»</text><text fill=\"#000000\" font-family=\"sans-serif\" font-size=\"14\" lengthAdjust=\"spacingAndGlyphs\" textLength=\"10\" x=\"130\" y=\"681.792\">R</text><g id=\"E1.E5.E6.E7\"><rect fill=\"#FFFFFF\" height=\"52.5938\" rx=\"12.5\" ry=\"12.5\" style=\"stroke: #383838; stroke-width: 1.5;\" width=\"110\" x=\"80\" y=\"159.5\"/><line style=\"stroke: #383838; stroke-width: 1.5;\" x1=\"80\" x2=\"190\" y1=\"202.0938\" y2=\"202.0938\"/><text fill=\"#000000\" font-family=\"sans-serif\" font-size=\"14\" lengthAdjust=\"spacingAndGlyphs\" textLength=\"70\" x=\"100\" y=\"177.4951\">subj: View</text><text fill=\"#000000\" font-family=\"sans-serif\" font-size=\"14\" font-style=\"italic\" lengthAdjust=\"spacingAndGlyphs\" textLength=\"86\" x=\"90\" y=\"193.792\">:&gt;&gt;VP::subj</text><text fill=\"#000000\" font-family=\"sans-serif\" font-size=\"14\" lengthAdjust=\"spacingAndGlyphs\" textLength=\"0\" x=\"180\" y=\"193.792\"/></g><g id=\"E1.E5.E8\"><rect fill=\"#FFFFFF\" height=\"52.5938\" rx=\"12.5\" ry=\"12.5\" style=\"stroke: #383838; stroke-width: 1.5;\" width=\"141\" x=\"64.5\" y=\"376.5\"/><line style=\"stroke: #383838; stroke-width: 1.5;\" x1=\"64.5\" x2=\"205.5\" y1=\"419.0938\" y2=\"419.0938\"/><text fill=\"#000000\" font-family=\"sans-serif\" font-size=\"14\" lengthAdjust=\"spacingAndGlyphs\" textLength=\"24\" x=\"123\" y=\"394.4951\">r: R</text><text fill=\"#000000\" font-family=\"sans-serif\" font-size=\"14\" font-style=\"italic\" lengthAdjust=\"spacingAndGlyphs\" textLength=\"117\" x=\"74.5\" y=\"410.792\">:&gt;&gt;View::render</text><text fill=\"#000000\" font-family=\"sans-serif\" font-size=\"14\" lengthAdjust=\"spacingAndGlyphs\" textLength=\"0\" x=\"195.5\" y=\"410.792\"/></g><g id=\"E1.E5.E9.E10\"><rect fill=\"#FFFFFF\" height=\"52.5938\" rx=\"12.5\" ry=\"12.5\" style=\"stroke: #383838; stroke-width: 1.5;\" width=\"77\" x=\"96.5\" y=\"288.5\"/><line style=\"stroke: #383838; stroke-width: 1.5;\" x1=\"96.5\" x2=\"173.5\" y1=\"331.0938\" y2=\"331.0938\"/><text fill=\"#000000\" font-family=\"sans-serif\" font-size=\"14\" lengthAdjust=\"spacingAndGlyphs\" textLength=\"33\" x=\"118.5\" y=\"306.4951\">r1: R</text><text fill=\"#000000\" font-family=\"sans-serif\" font-size=\"14\" font-style=\"italic\" lengthAdjust=\"spacingAndGlyphs\" textLength=\"53\" x=\"106.5\" y=\"322.792\">:&gt;&gt;V::r</text><text fill=\"#000000\" font-family=\"sans-serif\" font-size=\"14\" lengthAdjust=\"spacingAndGlyphs\" textLength=\"0\" x=\"163.5\" y=\"322.792\"/></g><!--MD5=[2e8d6a59aa985ec895737ed2a35d9a89]\n",
       "@startuml\r\n",
       "skinparam ranksep 8\r\n",
       "skinparam rectangle {\r\n",
       " backgroundColor<<block>> LightGreen\r\n",
       "}\r\n",
       "left to right direction\r\n",
       "skinparam monochrome true\r\n",
       "skinparam classbackgroundcolor white\r\n",
       "skinparam shadowing false\r\n",
       "skinparam wrapWidth 300\r\n",
       "hide circle\r\n",
       "\r\n",
       "package \"ViewTest\" as E1   {\r\n",
       "package \"P\" as E2   {\r\n",
       "}\r\n",
       "def \"VP\" as E3  <<viewpoint def>> \r\n",
       "rec def \"R\" as E4  <<rendering def>> {\r\n",
       "}\r\n",
       "rec def \"V\" as E5  <<view def>> {\r\n",
       "rec usage \"vp: VP\" as E6  <<viewpoint>> {\r\n",
       "rec usage \"subj: View\\n//:>>VP::subj// \" as E7  <<reference>> {\r\n",
       "}\r\n",
       "}\r\n",
       "rec usage \"r: R\\n//:>>View::render// \" as E8  {\r\n",
       "}\r\n",
       "rec usage \"v: V\" as E9  {\r\n",
       "rec usage \"r1: R\\n//:>>V::r// \" as E10  {\r\n",
       "}\r\n",
       "}\r\n",
       "}\r\n",
       "}\r\n",
       "@enduml\r\n",
       "\n",
       "PlantUML version 1.2020.13(Sat Jun 13 12:26:38 UTC 2020)\n",
       "(EPL source distribution)\n",
       "Java Runtime: OpenJDK Runtime Environment\n",
       "JVM: OpenJDK 64-Bit Server VM\n",
       "Default Encoding: UTF-8\n",
       "Language: en\n",
       "Country: null\n",
       "--></g></svg>"
      ]
     },
     "execution_count": 19,
     "metadata": {},
     "output_type": "execute_result"
    }
   ],
   "source": [
    "%viz --style=\"LR\" --view=\"Interconnection\" \"ViewTest\""
   ]
  },
  {
   "cell_type": "code",
   "execution_count": 20,
   "id": "qualified-restriction",
   "metadata": {
    "execution": {
     "iopub.execute_input": "2021-03-25T16:07:59.319934Z",
     "iopub.status.busy": "2021-03-25T16:07:59.319566Z",
     "iopub.status.idle": "2021-03-25T16:07:59.321757Z",
     "shell.execute_reply": "2021-03-25T16:07:59.322167Z"
    }
   },
   "outputs": [
    {
     "data": {
      "text/plain": [
       "java.lang.IllegalArgumentException: Invalid View: Action View candidates are: Default Tree StateMachine Interconnection Activity Sequence MIXED \n",
       "\tat org.omg.sysml.plantuml.SysML2PlantUMLSvc.setView(SysML2PlantUMLSvc.java:63)\n",
       "\tat org.omg.sysml.interactive.SysMLInteractive.viz(SysMLInteractive.java:286)\n",
       "\tat org.omg.sysml.jupyter.kernel.magic.Viz.viz(Viz.java:47)\n",
       "\tat jdk.internal.reflect.GeneratedMethodAccessor10.invoke(Unknown Source)\n",
       "\tat java.base/jdk.internal.reflect.DelegatingMethodAccessorImpl.invoke(DelegatingMethodAccessorImpl.java:43)\n",
       "\tat java.base/java.lang.reflect.Method.invoke(Method.java:568)\n",
       "\tat io.github.spencerpark.jupyter.kernel.magic.registry.Magics.invoke(Magics.java:89)\n",
       "\tat io.github.spencerpark.jupyter.kernel.magic.registry.Magics.access$000(Magics.java:8)\n",
       "\tat io.github.spencerpark.jupyter.kernel.magic.registry.Magics$LineReflectionMagicFunction.execute(Magics.java:149)\n",
       "\tat io.github.spencerpark.jupyter.kernel.magic.registry.Magics.applyLineMagic(Magics.java:26)\n",
       "\tat org.omg.sysml.jupyter.kernel.SysMLKernel.eval(SysMLKernel.java:76)\n",
       "\tat io.github.spencerpark.jupyter.kernel.BaseKernel.handleExecuteRequest(BaseKernel.java:334)\n",
       "\tat io.github.spencerpark.jupyter.channels.ShellChannel.lambda$bind$0(ShellChannel.java:64)\n",
       "\tat io.github.spencerpark.jupyter.channels.Loop.lambda$new$0(Loop.java:21)\n",
       "\tat io.github.spencerpark.jupyter.channels.Loop.run(Loop.java:78)\n"
      ]
     },
     "execution_count": 20,
     "metadata": {},
     "output_type": "execute_result"
    }
   ],
   "source": [
    "%viz --style=\"LR\" --view=\"Action\" \"ViewTest\""
   ]
  },
  {
   "cell_type": "code",
   "execution_count": 21,
   "id": "wrong-leadership",
   "metadata": {
    "execution": {
     "iopub.execute_input": "2021-03-25T16:07:59.375372Z",
     "iopub.status.busy": "2021-03-25T16:07:59.374298Z",
     "iopub.status.idle": "2021-03-25T16:07:59.482318Z",
     "shell.execute_reply": "2021-03-25T16:07:59.481937Z"
    }
   },
   "outputs": [
    {
     "data": {
      "image/svg+xml": [
       "<?xml version=\"1.0\" encoding=\"UTF-8\" standalone=\"no\"?><svg xmlns=\"http://www.w3.org/2000/svg\" xmlns:xlink=\"http://www.w3.org/1999/xlink\" contentScriptType=\"application/ecmascript\" contentStyleType=\"text/css\" height=\"233px\" preserveAspectRatio=\"none\" style=\"width:726px;height:233px;\" version=\"1.1\" viewBox=\"0 0 726 233\" width=\"726px\" zoomAndPan=\"magnify\"><defs/><g><!--MD5=[fbc87193dbaf4d95561dea2c320d4a47]\n",
       "cluster E1--><polygon fill=\"#FFFFFF\" points=\"16,6,96,6,103,28.2969,704,28.2969,704,221,16,221,16,6\" style=\"stroke: #000000; stroke-width: 1.5;\"/><line style=\"stroke: #000000; stroke-width: 1.5;\" x1=\"16\" x2=\"103\" y1=\"28.2969\" y2=\"28.2969\"/><text fill=\"#000000\" font-family=\"sans-serif\" font-size=\"14\" font-weight=\"bold\" lengthAdjust=\"spacingAndGlyphs\" textLength=\"74\" x=\"20\" y=\"20.9951\">ViewTest</text><!--MD5=[09b614a08d8cba4a07c9adeb5e0fee81]\n",
       "class E3--><rect fill=\"#FFFFFF\" height=\"45.9375\" id=\"E3\" style=\"stroke: #383838; stroke-width: 1.5;\" width=\"98\" x=\"292\" y=\"159\"/><text fill=\"#000000\" font-family=\"sans-serif\" font-size=\"12\" font-style=\"italic\" lengthAdjust=\"spacingAndGlyphs\" textLength=\"96\" x=\"293\" y=\"175.1387\">«viewpoint def»</text><text fill=\"#000000\" font-family=\"sans-serif\" font-size=\"12\" lengthAdjust=\"spacingAndGlyphs\" textLength=\"16\" x=\"333\" y=\"189.1074\">VP</text><line style=\"stroke: #383838; stroke-width: 1.5;\" x1=\"293\" x2=\"389\" y1=\"196.9375\" y2=\"196.9375\"/><!--MD5=[ebbe1d658d1005bcc118a6aa81145e00]\n",
       "class E4--><rect fill=\"#FFFFFF\" height=\"45.9375\" id=\"E4\" style=\"stroke: #383838; stroke-width: 1.5;\" width=\"101\" x=\"587\" y=\"71\"/><text fill=\"#000000\" font-family=\"sans-serif\" font-size=\"12\" font-style=\"italic\" lengthAdjust=\"spacingAndGlyphs\" textLength=\"99\" x=\"588\" y=\"87.1387\">«rendering def»</text><text fill=\"#000000\" font-family=\"sans-serif\" font-size=\"12\" lengthAdjust=\"spacingAndGlyphs\" textLength=\"8\" x=\"633.5\" y=\"101.1074\">R</text><line style=\"stroke: #383838; stroke-width: 1.5;\" x1=\"588\" x2=\"687\" y1=\"108.9375\" y2=\"108.9375\"/><!--MD5=[270fce915f116d4de14055a7c1d9a0f3]\n",
       "class E5--><rect fill=\"#FFFFFF\" height=\"45.9375\" id=\"E5\" style=\"stroke: #383838; stroke-width: 1.5;\" width=\"66\" x=\"32\" y=\"49\"/><text fill=\"#000000\" font-family=\"sans-serif\" font-size=\"12\" font-style=\"italic\" lengthAdjust=\"spacingAndGlyphs\" textLength=\"64\" x=\"33\" y=\"65.1387\">«view def»</text><text fill=\"#000000\" font-family=\"sans-serif\" font-size=\"12\" lengthAdjust=\"spacingAndGlyphs\" textLength=\"8\" x=\"61\" y=\"79.1074\">V</text><line style=\"stroke: #383838; stroke-width: 1.5;\" x1=\"33\" x2=\"97\" y1=\"86.9375\" y2=\"86.9375\"/><!--MD5=[60a26617385b1d2d0262a64233df1f8d]\n",
       "class E6--><rect fill=\"#FFFFFF\" height=\"45.9375\" id=\"E6\" rx=\"10\" ry=\"10\" style=\"stroke: #383838; stroke-width: 1.5;\" width=\"74\" x=\"158\" y=\"159\"/><text fill=\"#000000\" font-family=\"sans-serif\" font-size=\"12\" font-style=\"italic\" lengthAdjust=\"spacingAndGlyphs\" textLength=\"72\" x=\"159\" y=\"175.1387\">«viewpoint»</text><text fill=\"#000000\" font-family=\"sans-serif\" font-size=\"12\" lengthAdjust=\"spacingAndGlyphs\" textLength=\"38\" x=\"176\" y=\"189.1074\">vp: VP</text><line style=\"stroke: #383838; stroke-width: 1.5;\" x1=\"159\" x2=\"231\" y1=\"196.9375\" y2=\"196.9375\"/><!--MD5=[2156ba9850f5573cc1fc38a6a4b2f02b]\n",
       "class E7--><rect fill=\"#FFFFFF\" height=\"45.9375\" id=\"E7\" rx=\"10\" ry=\"10\" style=\"stroke: #383838; stroke-width: 1.5;\" width=\"77\" x=\"450\" y=\"71\"/><text fill=\"#000000\" font-family=\"sans-serif\" font-size=\"12\" font-style=\"italic\" lengthAdjust=\"spacingAndGlyphs\" textLength=\"75\" x=\"451\" y=\"87.1387\">«rendering»</text><text fill=\"#000000\" font-family=\"sans-serif\" font-size=\"12\" lengthAdjust=\"spacingAndGlyphs\" textLength=\"21\" x=\"478\" y=\"101.1074\">r: R</text><line style=\"stroke: #383838; stroke-width: 1.5;\" x1=\"451\" x2=\"526\" y1=\"108.9375\" y2=\"108.9375\"/><!--MD5=[b9389687b975829384b498ac4b7476b2]\n",
       "class E8--><rect fill=\"#FFFFFF\" height=\"45.9375\" id=\"E8\" rx=\"10\" ry=\"10\" style=\"stroke: #383838; stroke-width: 1.5;\" width=\"42\" x=\"174\" y=\"41\"/><text fill=\"#000000\" font-family=\"sans-serif\" font-size=\"12\" font-style=\"italic\" lengthAdjust=\"spacingAndGlyphs\" textLength=\"40\" x=\"175\" y=\"57.1387\">«view»</text><text fill=\"#000000\" font-family=\"sans-serif\" font-size=\"12\" lengthAdjust=\"spacingAndGlyphs\" textLength=\"22\" x=\"184\" y=\"71.1074\">v: V</text><line style=\"stroke: #383838; stroke-width: 1.5;\" x1=\"175\" x2=\"215\" y1=\"78.9375\" y2=\"78.9375\"/><!--MD5=[fd4143e9d270a159db93a4ea2a975926]\n",
       "class E9--><rect fill=\"#FFFFFF\" height=\"45.9375\" id=\"E9\" rx=\"10\" ry=\"10\" style=\"stroke: #383838; stroke-width: 1.5;\" width=\"77\" x=\"302.5\" y=\"41\"/><text fill=\"#000000\" font-family=\"sans-serif\" font-size=\"12\" font-style=\"italic\" lengthAdjust=\"spacingAndGlyphs\" textLength=\"75\" x=\"303.5\" y=\"57.1387\">«rendering»</text><text fill=\"#000000\" font-family=\"sans-serif\" font-size=\"12\" lengthAdjust=\"spacingAndGlyphs\" textLength=\"29\" x=\"326.5\" y=\"71.1074\">r1: R</text><line style=\"stroke: #383838; stroke-width: 1.5;\" x1=\"303.5\" x2=\"378.5\" y1=\"78.9375\" y2=\"78.9375\"/><polygon fill=\"#FFFFFF\" points=\"50,137.5,66,137.5,73,159.7969,80,159.7969,80,190.0938,50,190.0938,50,137.5\" style=\"stroke: #000000; stroke-width: 1.5;\"/><line style=\"stroke: #000000; stroke-width: 1.5;\" x1=\"50\" x2=\"73\" y1=\"159.7969\" y2=\"159.7969\"/><text fill=\"#000000\" font-family=\"sans-serif\" font-size=\"14\" font-weight=\"bold\" lengthAdjust=\"spacingAndGlyphs\" textLength=\"10\" x=\"54\" y=\"152.4951\">P</text><!--MD5=[85d356282659285ab4b2cfe2f634dd2b]\n",
       "reverse link E5 to E6--><path d=\"M102.81,103.63 C123.36,121.3 148.52,142.92 167.2,158.97 \" fill=\"none\" id=\"E5&lt;-E6\" style=\"stroke: #383838; stroke-width: 1.0;\"/><polygon fill=\"#383838\" points=\"92.83,95.06,94.7733,102.0043,101.9308,102.8814,99.9876,95.9371,92.83,95.06\" style=\"stroke: #383838; stroke-width: 1.0;\"/><!--MD5=[a717450b82c80b9240a525fa862496af]\n",
       "link E6 to E3--><path d=\"M232.34,182 C244.34,182 258.12,182 271.72,182 \" fill=\"none\" id=\"E6-&gt;E3\" style=\"stroke: #383838; stroke-width: 1.0;\"/><polygon fill=\"#FFFFFF\" points=\"291.97,182,272.97,189,272.97,175,291.97,182\" style=\"stroke: #383838; stroke-width: 1.0;\"/><ellipse cx=\"267.27\" cy=\"187\" fill=\"#383838\" rx=\"2\" ry=\"2\" style=\"stroke: #383838; stroke-width: 1.0;\"/><ellipse cx=\"267.27\" cy=\"177\" fill=\"#383838\" rx=\"2\" ry=\"2\" style=\"stroke: #383838; stroke-width: 1.0;\"/><!--MD5=[6bdd27f9905911a7e892a3dc65cf6b7c]\n",
       "link E7 to E4--><path d=\"M527.36,94 C539.39,94 553.1,94 566.65,94 \" fill=\"none\" id=\"E7-&gt;E4\" style=\"stroke: #383838; stroke-width: 1.0;\"/><polygon fill=\"#FFFFFF\" points=\"586.85,94,567.85,101,567.85,87,586.85,94\" style=\"stroke: #383838; stroke-width: 1.0;\"/><ellipse cx=\"562.15\" cy=\"99\" fill=\"#383838\" rx=\"2\" ry=\"2\" style=\"stroke: #383838; stroke-width: 1.0;\"/><ellipse cx=\"562.15\" cy=\"89\" fill=\"#383838\" rx=\"2\" ry=\"2\" style=\"stroke: #383838; stroke-width: 1.0;\"/><!--MD5=[452b418e7f8a40397a49b8c0a78acc5b]\n",
       "reverse link E5 to E7--><path d=\"M110.49,91.44 C125.31,96.97 142.1,102.23 158,105 C262.32,123.14 387.94,109.32 449.6,100.26 \" fill=\"none\" id=\"E5&lt;-E7\" style=\"stroke: #383838; stroke-width: 1.0;\"/><polygon fill=\"#383838\" points=\"98.04,86.57,102.1664,92.4838,109.2124,90.9493,105.0859,85.0355,98.04,86.57\" style=\"stroke: #383838; stroke-width: 1.0;\"/><text fill=\"#000000\" font-family=\"sans-serif\" font-size=\"13\" lengthAdjust=\"spacingAndGlyphs\" textLength=\"24\" x=\"418.1241\" y=\"114.3622\">0..1</text><!--MD5=[1ccb2481ffa92f8d51a74ee30c51832a]\n",
       "link E8 to E5--><path d=\"M173.72,55.09 C158.76,53.26 137.7,53.53 118.16,55.45 \" fill=\"none\" id=\"E8-&gt;E5\" style=\"stroke: #383838; stroke-width: 1.0;\"/><polygon fill=\"#FFFFFF\" points=\"98.3,58.08,116.2153,48.6438,118.0551,62.5224,98.3,58.08\" style=\"stroke: #383838; stroke-width: 1.0;\"/><ellipse cx=\"122.1287\" cy=\"49.8774\" fill=\"#383838\" rx=\"2\" ry=\"2\" style=\"stroke: #383838; stroke-width: 1.0;\"/><ellipse cx=\"123.4429\" cy=\"59.7907\" fill=\"#383838\" rx=\"2\" ry=\"2\" style=\"stroke: #383838; stroke-width: 1.0;\"/><!--MD5=[827760032d119d06bbc92f75530fd7ae]\n",
       "reverse link E5 to E8--><path d=\"M111.41,81.42 C132.71,81.24 157.02,78.84 173.72,74.88 \" fill=\"none\" id=\"E5&lt;-E8\" style=\"stroke: #383838; stroke-width: 1.0;\"/><polygon fill=\"#383838\" points=\"98.3,81.22,104.2378,85.3118,110.2986,81.4046,104.3608,77.3128,98.3,81.22\" style=\"stroke: #383838; stroke-width: 1.0;\"/><text fill=\"#000000\" font-family=\"sans-serif\" font-size=\"13\" lengthAdjust=\"spacingAndGlyphs\" textLength=\"7\" x=\"159.1311\" y=\"92.6057\">*</text><!--MD5=[cf04703ca05eebef50f1cfe8b03e143b]\n",
       "link E9 to E7--><path d=\"M379.85,71.8 C395.17,74.96 413.21,78.68 430.08,82.16 \" fill=\"none\" id=\"E9-&gt;E7\" style=\"stroke: #383838; stroke-width: 1.0;\"/><polygon fill=\"#FFFFFF\" points=\"449.84,86.24,429.8172,89.2545,432.6474,75.5435,449.84,86.24\" style=\"stroke: #383838; stroke-width: 1.0;\"/><line style=\"stroke: #383838; stroke-width: 2.0;\" x1=\"426.0957\" x2=\"428.9258\" y1=\"88.4863\" y2=\"74.7754\"/><!--MD5=[22f5b4bae7e060dce8a1c8021efdb95b]\n",
       "reverse link E8 to E9--><path d=\"M229.26,64 C251.09,64 279.69,64 302.35,64 \" fill=\"none\" id=\"E8&lt;-E9\" style=\"stroke: #383838; stroke-width: 1.0;\"/><polygon fill=\"#383838\" points=\"216.02,64,222.02,68,228.02,64,222.02,60,216.02,64\" style=\"stroke: #383838; stroke-width: 1.0;\"/><!--MD5=[250149dc2d2821afd66a013aa16ef093]\n",
       "@startuml\r\n",
       "left to right direction\r\n",
       "skinparam monochrome true\r\n",
       "skinparam classbackgroundcolor white\r\n",
       "skinparam shadowing false\r\n",
       "skinparam wrapWidth 300\r\n",
       "hide circle\r\n",
       "\r\n",
       "package \"ViewTest\" as E1   {\r\n",
       "package \"P\" as E2   {\r\n",
       "}\r\n",
       "comp def \"VP\" as E3  <<(T,blue)viewpoint def>> {\r\n",
       "}\r\n",
       "comp def \"R\" as E4  <<(T,blue)rendering def>> {\r\n",
       "}\r\n",
       "comp def \"V\" as E5  <<(T,blue)view def>> {\r\n",
       "}\r\n",
       "comp usage \"vp: VP\" as E6  <<(T,blue)viewpoint>> {\r\n",
       "}\r\n",
       "comp usage \"r: R\" as E7  <<(T,blue)rendering>> {\r\n",
       "}\r\n",
       "comp usage \"v: V\" as E8  <<(T,blue)view>> {\r\n",
       "}\r\n",
       "comp usage \"r1: R\" as E9  <<(T,blue)rendering>> {\r\n",
       "}\r\n",
       "E5 *- - E6\r\n",
       "E6 - -:|> E3\r\n",
       "E7 - -:|> E4\r\n",
       "E5 *- - \"0..1\"E7\r\n",
       "E8 - -:|> E5\r\n",
       "E5 *- - \"*\"E8\r\n",
       "E9 - -||> E7\r\n",
       "E8 *- - E9\r\n",
       "}\r\n",
       "@enduml\r\n",
       "\n",
       "PlantUML version 1.2020.13(Sat Jun 13 12:26:38 UTC 2020)\n",
       "(EPL source distribution)\n",
       "Java Runtime: OpenJDK Runtime Environment\n",
       "JVM: OpenJDK 64-Bit Server VM\n",
       "Default Encoding: UTF-8\n",
       "Language: en\n",
       "Country: null\n",
       "--></g></svg>"
      ]
     },
     "execution_count": 21,
     "metadata": {},
     "output_type": "execute_result"
    }
   ],
   "source": [
    "%viz --style=\"LR\" --view=\"Sequence\" \"ViewTest\""
   ]
  },
  {
   "cell_type": "code",
   "execution_count": 22,
   "id": "lonely-covering",
   "metadata": {
    "execution": {
     "iopub.execute_input": "2021-03-25T16:07:59.532668Z",
     "iopub.status.busy": "2021-03-25T16:07:59.532100Z",
     "iopub.status.idle": "2021-03-25T16:07:59.638790Z",
     "shell.execute_reply": "2021-03-25T16:07:59.639231Z"
    }
   },
   "outputs": [
    {
     "data": {
      "image/svg+xml": [
       "<?xml version=\"1.0\" encoding=\"UTF-8\" standalone=\"no\"?><svg xmlns=\"http://www.w3.org/2000/svg\" xmlns:xlink=\"http://www.w3.org/1999/xlink\" contentScriptType=\"application/ecmascript\" contentStyleType=\"text/css\" height=\"233px\" preserveAspectRatio=\"none\" style=\"width:726px;height:233px;\" version=\"1.1\" viewBox=\"0 0 726 233\" width=\"726px\" zoomAndPan=\"magnify\"><defs/><g><!--MD5=[fbc87193dbaf4d95561dea2c320d4a47]\n",
       "cluster E1--><polygon fill=\"#FFFFFF\" points=\"16,6,96,6,103,28.2969,704,28.2969,704,221,16,221,16,6\" style=\"stroke: #000000; stroke-width: 1.5;\"/><line style=\"stroke: #000000; stroke-width: 1.5;\" x1=\"16\" x2=\"103\" y1=\"28.2969\" y2=\"28.2969\"/><text fill=\"#000000\" font-family=\"sans-serif\" font-size=\"14\" font-weight=\"bold\" lengthAdjust=\"spacingAndGlyphs\" textLength=\"74\" x=\"20\" y=\"20.9951\">ViewTest</text><!--MD5=[09b614a08d8cba4a07c9adeb5e0fee81]\n",
       "class E3--><rect fill=\"#FFFFFF\" height=\"45.9375\" id=\"E3\" style=\"stroke: #383838; stroke-width: 1.5;\" width=\"98\" x=\"292\" y=\"159\"/><text fill=\"#000000\" font-family=\"sans-serif\" font-size=\"12\" font-style=\"italic\" lengthAdjust=\"spacingAndGlyphs\" textLength=\"96\" x=\"293\" y=\"175.1387\">«viewpoint def»</text><text fill=\"#000000\" font-family=\"sans-serif\" font-size=\"12\" lengthAdjust=\"spacingAndGlyphs\" textLength=\"16\" x=\"333\" y=\"189.1074\">VP</text><line style=\"stroke: #383838; stroke-width: 1.5;\" x1=\"293\" x2=\"389\" y1=\"196.9375\" y2=\"196.9375\"/><!--MD5=[ebbe1d658d1005bcc118a6aa81145e00]\n",
       "class E4--><rect fill=\"#FFFFFF\" height=\"45.9375\" id=\"E4\" style=\"stroke: #383838; stroke-width: 1.5;\" width=\"101\" x=\"587\" y=\"71\"/><text fill=\"#000000\" font-family=\"sans-serif\" font-size=\"12\" font-style=\"italic\" lengthAdjust=\"spacingAndGlyphs\" textLength=\"99\" x=\"588\" y=\"87.1387\">«rendering def»</text><text fill=\"#000000\" font-family=\"sans-serif\" font-size=\"12\" lengthAdjust=\"spacingAndGlyphs\" textLength=\"8\" x=\"633.5\" y=\"101.1074\">R</text><line style=\"stroke: #383838; stroke-width: 1.5;\" x1=\"588\" x2=\"687\" y1=\"108.9375\" y2=\"108.9375\"/><!--MD5=[270fce915f116d4de14055a7c1d9a0f3]\n",
       "class E5--><rect fill=\"#FFFFFF\" height=\"45.9375\" id=\"E5\" style=\"stroke: #383838; stroke-width: 1.5;\" width=\"66\" x=\"32\" y=\"49\"/><text fill=\"#000000\" font-family=\"sans-serif\" font-size=\"12\" font-style=\"italic\" lengthAdjust=\"spacingAndGlyphs\" textLength=\"64\" x=\"33\" y=\"65.1387\">«view def»</text><text fill=\"#000000\" font-family=\"sans-serif\" font-size=\"12\" lengthAdjust=\"spacingAndGlyphs\" textLength=\"8\" x=\"61\" y=\"79.1074\">V</text><line style=\"stroke: #383838; stroke-width: 1.5;\" x1=\"33\" x2=\"97\" y1=\"86.9375\" y2=\"86.9375\"/><!--MD5=[60a26617385b1d2d0262a64233df1f8d]\n",
       "class E6--><rect fill=\"#FFFFFF\" height=\"45.9375\" id=\"E6\" rx=\"10\" ry=\"10\" style=\"stroke: #383838; stroke-width: 1.5;\" width=\"74\" x=\"158\" y=\"159\"/><text fill=\"#000000\" font-family=\"sans-serif\" font-size=\"12\" font-style=\"italic\" lengthAdjust=\"spacingAndGlyphs\" textLength=\"72\" x=\"159\" y=\"175.1387\">«viewpoint»</text><text fill=\"#000000\" font-family=\"sans-serif\" font-size=\"12\" lengthAdjust=\"spacingAndGlyphs\" textLength=\"38\" x=\"176\" y=\"189.1074\">vp: VP</text><line style=\"stroke: #383838; stroke-width: 1.5;\" x1=\"159\" x2=\"231\" y1=\"196.9375\" y2=\"196.9375\"/><!--MD5=[2156ba9850f5573cc1fc38a6a4b2f02b]\n",
       "class E7--><rect fill=\"#FFFFFF\" height=\"45.9375\" id=\"E7\" rx=\"10\" ry=\"10\" style=\"stroke: #383838; stroke-width: 1.5;\" width=\"77\" x=\"450\" y=\"71\"/><text fill=\"#000000\" font-family=\"sans-serif\" font-size=\"12\" font-style=\"italic\" lengthAdjust=\"spacingAndGlyphs\" textLength=\"75\" x=\"451\" y=\"87.1387\">«rendering»</text><text fill=\"#000000\" font-family=\"sans-serif\" font-size=\"12\" lengthAdjust=\"spacingAndGlyphs\" textLength=\"21\" x=\"478\" y=\"101.1074\">r: R</text><line style=\"stroke: #383838; stroke-width: 1.5;\" x1=\"451\" x2=\"526\" y1=\"108.9375\" y2=\"108.9375\"/><!--MD5=[b9389687b975829384b498ac4b7476b2]\n",
       "class E8--><rect fill=\"#FFFFFF\" height=\"45.9375\" id=\"E8\" rx=\"10\" ry=\"10\" style=\"stroke: #383838; stroke-width: 1.5;\" width=\"42\" x=\"174\" y=\"41\"/><text fill=\"#000000\" font-family=\"sans-serif\" font-size=\"12\" font-style=\"italic\" lengthAdjust=\"spacingAndGlyphs\" textLength=\"40\" x=\"175\" y=\"57.1387\">«view»</text><text fill=\"#000000\" font-family=\"sans-serif\" font-size=\"12\" lengthAdjust=\"spacingAndGlyphs\" textLength=\"22\" x=\"184\" y=\"71.1074\">v: V</text><line style=\"stroke: #383838; stroke-width: 1.5;\" x1=\"175\" x2=\"215\" y1=\"78.9375\" y2=\"78.9375\"/><!--MD5=[fd4143e9d270a159db93a4ea2a975926]\n",
       "class E9--><rect fill=\"#FFFFFF\" height=\"45.9375\" id=\"E9\" rx=\"10\" ry=\"10\" style=\"stroke: #383838; stroke-width: 1.5;\" width=\"77\" x=\"302.5\" y=\"41\"/><text fill=\"#000000\" font-family=\"sans-serif\" font-size=\"12\" font-style=\"italic\" lengthAdjust=\"spacingAndGlyphs\" textLength=\"75\" x=\"303.5\" y=\"57.1387\">«rendering»</text><text fill=\"#000000\" font-family=\"sans-serif\" font-size=\"12\" lengthAdjust=\"spacingAndGlyphs\" textLength=\"29\" x=\"326.5\" y=\"71.1074\">r1: R</text><line style=\"stroke: #383838; stroke-width: 1.5;\" x1=\"303.5\" x2=\"378.5\" y1=\"78.9375\" y2=\"78.9375\"/><polygon fill=\"#FFFFFF\" points=\"50,137.5,66,137.5,73,159.7969,80,159.7969,80,190.0938,50,190.0938,50,137.5\" style=\"stroke: #000000; stroke-width: 1.5;\"/><line style=\"stroke: #000000; stroke-width: 1.5;\" x1=\"50\" x2=\"73\" y1=\"159.7969\" y2=\"159.7969\"/><text fill=\"#000000\" font-family=\"sans-serif\" font-size=\"14\" font-weight=\"bold\" lengthAdjust=\"spacingAndGlyphs\" textLength=\"10\" x=\"54\" y=\"152.4951\">P</text><!--MD5=[85d356282659285ab4b2cfe2f634dd2b]\n",
       "reverse link E5 to E6--><path d=\"M102.81,103.63 C123.36,121.3 148.52,142.92 167.2,158.97 \" fill=\"none\" id=\"E5&lt;-E6\" style=\"stroke: #383838; stroke-width: 1.0;\"/><polygon fill=\"#383838\" points=\"92.83,95.06,94.7733,102.0043,101.9308,102.8814,99.9876,95.9371,92.83,95.06\" style=\"stroke: #383838; stroke-width: 1.0;\"/><!--MD5=[a717450b82c80b9240a525fa862496af]\n",
       "link E6 to E3--><path d=\"M232.34,182 C244.34,182 258.12,182 271.72,182 \" fill=\"none\" id=\"E6-&gt;E3\" style=\"stroke: #383838; stroke-width: 1.0;\"/><polygon fill=\"#FFFFFF\" points=\"291.97,182,272.97,189,272.97,175,291.97,182\" style=\"stroke: #383838; stroke-width: 1.0;\"/><ellipse cx=\"267.27\" cy=\"187\" fill=\"#383838\" rx=\"2\" ry=\"2\" style=\"stroke: #383838; stroke-width: 1.0;\"/><ellipse cx=\"267.27\" cy=\"177\" fill=\"#383838\" rx=\"2\" ry=\"2\" style=\"stroke: #383838; stroke-width: 1.0;\"/><!--MD5=[6bdd27f9905911a7e892a3dc65cf6b7c]\n",
       "link E7 to E4--><path d=\"M527.36,94 C539.39,94 553.1,94 566.65,94 \" fill=\"none\" id=\"E7-&gt;E4\" style=\"stroke: #383838; stroke-width: 1.0;\"/><polygon fill=\"#FFFFFF\" points=\"586.85,94,567.85,101,567.85,87,586.85,94\" style=\"stroke: #383838; stroke-width: 1.0;\"/><ellipse cx=\"562.15\" cy=\"99\" fill=\"#383838\" rx=\"2\" ry=\"2\" style=\"stroke: #383838; stroke-width: 1.0;\"/><ellipse cx=\"562.15\" cy=\"89\" fill=\"#383838\" rx=\"2\" ry=\"2\" style=\"stroke: #383838; stroke-width: 1.0;\"/><!--MD5=[452b418e7f8a40397a49b8c0a78acc5b]\n",
       "reverse link E5 to E7--><path d=\"M110.49,91.44 C125.31,96.97 142.1,102.23 158,105 C262.32,123.14 387.94,109.32 449.6,100.26 \" fill=\"none\" id=\"E5&lt;-E7\" style=\"stroke: #383838; stroke-width: 1.0;\"/><polygon fill=\"#383838\" points=\"98.04,86.57,102.1664,92.4838,109.2124,90.9493,105.0859,85.0355,98.04,86.57\" style=\"stroke: #383838; stroke-width: 1.0;\"/><text fill=\"#000000\" font-family=\"sans-serif\" font-size=\"13\" lengthAdjust=\"spacingAndGlyphs\" textLength=\"24\" x=\"418.1241\" y=\"114.3622\">0..1</text><!--MD5=[1ccb2481ffa92f8d51a74ee30c51832a]\n",
       "link E8 to E5--><path d=\"M173.72,55.09 C158.76,53.26 137.7,53.53 118.16,55.45 \" fill=\"none\" id=\"E8-&gt;E5\" style=\"stroke: #383838; stroke-width: 1.0;\"/><polygon fill=\"#FFFFFF\" points=\"98.3,58.08,116.2153,48.6438,118.0551,62.5224,98.3,58.08\" style=\"stroke: #383838; stroke-width: 1.0;\"/><ellipse cx=\"122.1287\" cy=\"49.8774\" fill=\"#383838\" rx=\"2\" ry=\"2\" style=\"stroke: #383838; stroke-width: 1.0;\"/><ellipse cx=\"123.4429\" cy=\"59.7907\" fill=\"#383838\" rx=\"2\" ry=\"2\" style=\"stroke: #383838; stroke-width: 1.0;\"/><!--MD5=[827760032d119d06bbc92f75530fd7ae]\n",
       "reverse link E5 to E8--><path d=\"M111.41,81.42 C132.71,81.24 157.02,78.84 173.72,74.88 \" fill=\"none\" id=\"E5&lt;-E8\" style=\"stroke: #383838; stroke-width: 1.0;\"/><polygon fill=\"#383838\" points=\"98.3,81.22,104.2378,85.3118,110.2986,81.4046,104.3608,77.3128,98.3,81.22\" style=\"stroke: #383838; stroke-width: 1.0;\"/><text fill=\"#000000\" font-family=\"sans-serif\" font-size=\"13\" lengthAdjust=\"spacingAndGlyphs\" textLength=\"7\" x=\"159.1311\" y=\"92.6057\">*</text><!--MD5=[cf04703ca05eebef50f1cfe8b03e143b]\n",
       "link E9 to E7--><path d=\"M379.85,71.8 C395.17,74.96 413.21,78.68 430.08,82.16 \" fill=\"none\" id=\"E9-&gt;E7\" style=\"stroke: #383838; stroke-width: 1.0;\"/><polygon fill=\"#FFFFFF\" points=\"449.84,86.24,429.8172,89.2545,432.6474,75.5435,449.84,86.24\" style=\"stroke: #383838; stroke-width: 1.0;\"/><line style=\"stroke: #383838; stroke-width: 2.0;\" x1=\"426.0957\" x2=\"428.9258\" y1=\"88.4863\" y2=\"74.7754\"/><!--MD5=[22f5b4bae7e060dce8a1c8021efdb95b]\n",
       "reverse link E8 to E9--><path d=\"M229.26,64 C251.09,64 279.69,64 302.35,64 \" fill=\"none\" id=\"E8&lt;-E9\" style=\"stroke: #383838; stroke-width: 1.0;\"/><polygon fill=\"#383838\" points=\"216.02,64,222.02,68,228.02,64,222.02,60,216.02,64\" style=\"stroke: #383838; stroke-width: 1.0;\"/><!--MD5=[250149dc2d2821afd66a013aa16ef093]\n",
       "@startuml\r\n",
       "left to right direction\r\n",
       "skinparam monochrome true\r\n",
       "skinparam classbackgroundcolor white\r\n",
       "skinparam shadowing false\r\n",
       "skinparam wrapWidth 300\r\n",
       "hide circle\r\n",
       "\r\n",
       "package \"ViewTest\" as E1   {\r\n",
       "package \"P\" as E2   {\r\n",
       "}\r\n",
       "comp def \"VP\" as E3  <<(T,blue)viewpoint def>> {\r\n",
       "}\r\n",
       "comp def \"R\" as E4  <<(T,blue)rendering def>> {\r\n",
       "}\r\n",
       "comp def \"V\" as E5  <<(T,blue)view def>> {\r\n",
       "}\r\n",
       "comp usage \"vp: VP\" as E6  <<(T,blue)viewpoint>> {\r\n",
       "}\r\n",
       "comp usage \"r: R\" as E7  <<(T,blue)rendering>> {\r\n",
       "}\r\n",
       "comp usage \"v: V\" as E8  <<(T,blue)view>> {\r\n",
       "}\r\n",
       "comp usage \"r1: R\" as E9  <<(T,blue)rendering>> {\r\n",
       "}\r\n",
       "E5 *- - E6\r\n",
       "E6 - -:|> E3\r\n",
       "E7 - -:|> E4\r\n",
       "E5 *- - \"0..1\"E7\r\n",
       "E8 - -:|> E5\r\n",
       "E5 *- - \"*\"E8\r\n",
       "E9 - -||> E7\r\n",
       "E8 *- - E9\r\n",
       "}\r\n",
       "@enduml\r\n",
       "\n",
       "PlantUML version 1.2020.13(Sat Jun 13 12:26:38 UTC 2020)\n",
       "(EPL source distribution)\n",
       "Java Runtime: OpenJDK Runtime Environment\n",
       "JVM: OpenJDK 64-Bit Server VM\n",
       "Default Encoding: UTF-8\n",
       "Language: en\n",
       "Country: null\n",
       "--></g></svg>"
      ]
     },
     "execution_count": 22,
     "metadata": {},
     "output_type": "execute_result"
    }
   ],
   "source": [
    "%viz --style=\"LR\" --view=\"MIXED\" \"ViewTest\""
   ]
  },
  {
   "cell_type": "code",
   "execution_count": 23,
   "id": "talented-kentucky",
   "metadata": {
    "execution": {
     "iopub.execute_input": "2021-03-25T16:07:59.689847Z",
     "iopub.status.busy": "2021-03-25T16:07:59.689423Z",
     "iopub.status.idle": "2021-03-25T16:07:59.790594Z",
     "shell.execute_reply": "2021-03-25T16:07:59.790079Z"
    }
   },
   "outputs": [
    {
     "data": {
      "image/svg+xml": [
       "<?xml version=\"1.0\" encoding=\"UTF-8\" standalone=\"no\"?><svg xmlns=\"http://www.w3.org/2000/svg\" xmlns:xlink=\"http://www.w3.org/1999/xlink\" contentScriptType=\"application/ecmascript\" contentStyleType=\"text/css\" height=\"546px\" preserveAspectRatio=\"none\" style=\"width:318px;height:546px;\" version=\"1.1\" viewBox=\"0 0 318 546\" width=\"318px\" zoomAndPan=\"magnify\"><defs><filter height=\"300%\" id=\"fntysecm1zgjl\" width=\"300%\" x=\"-1\" y=\"-1\"><feGaussianBlur result=\"blurOut\" stdDeviation=\"2.0\"/><feColorMatrix in=\"blurOut\" result=\"blurOut2\" type=\"matrix\" values=\"0 0 0 0 0 0 0 0 0 0 0 0 0 0 0 0 0 0 .4 0\"/><feOffset dx=\"4.0\" dy=\"4.0\" in=\"blurOut2\" result=\"blurOut3\"/><feBlend in=\"SourceGraphic\" in2=\"blurOut3\" mode=\"normal\"/></filter></defs><g><!--MD5=[fbc87193dbaf4d95561dea2c320d4a47]\n",
       "cluster E1--><polygon fill=\"#FFFFFF\" filter=\"url(#fntysecm1zgjl)\" points=\"16,6,96,6,103,28.2969,296,28.2969,296,534,16,534,16,6\" style=\"stroke: #000000; stroke-width: 1.5;\"/><line style=\"stroke: #000000; stroke-width: 1.5;\" x1=\"16\" x2=\"103\" y1=\"28.2969\" y2=\"28.2969\"/><text fill=\"#000000\" font-family=\"sans-serif\" font-size=\"14\" font-weight=\"bold\" lengthAdjust=\"spacingAndGlyphs\" textLength=\"74\" x=\"20\" y=\"20.9951\">ViewTest</text><!--MD5=[09b614a08d8cba4a07c9adeb5e0fee81]\n",
       "class E3--><rect fill=\"#FEFECE\" filter=\"url(#fntysecm1zgjl)\" height=\"45.9375\" id=\"E3\" style=\"stroke: #A80036; stroke-width: 1.5;\" width=\"98\" x=\"32\" y=\"260\"/><text fill=\"#000000\" font-family=\"sans-serif\" font-size=\"12\" font-style=\"italic\" lengthAdjust=\"spacingAndGlyphs\" textLength=\"96\" x=\"33\" y=\"276.1387\">«viewpoint def»</text><text fill=\"#000000\" font-family=\"sans-serif\" font-size=\"12\" lengthAdjust=\"spacingAndGlyphs\" textLength=\"16\" x=\"73\" y=\"290.1074\">VP</text><line style=\"stroke: #A80036; stroke-width: 1.5;\" x1=\"33\" x2=\"129\" y1=\"297.9375\" y2=\"297.9375\"/><!--MD5=[ebbe1d658d1005bcc118a6aa81145e00]\n",
       "class E4--><rect fill=\"#FEFECE\" filter=\"url(#fntysecm1zgjl)\" height=\"45.9375\" id=\"E4\" style=\"stroke: #A80036; stroke-width: 1.5;\" width=\"101\" x=\"146.5\" y=\"472\"/><text fill=\"#000000\" font-family=\"sans-serif\" font-size=\"12\" font-style=\"italic\" lengthAdjust=\"spacingAndGlyphs\" textLength=\"99\" x=\"147.5\" y=\"488.1387\">«rendering def»</text><text fill=\"#000000\" font-family=\"sans-serif\" font-size=\"12\" lengthAdjust=\"spacingAndGlyphs\" textLength=\"8\" x=\"193\" y=\"502.1074\">R</text><line style=\"stroke: #A80036; stroke-width: 1.5;\" x1=\"147.5\" x2=\"246.5\" y1=\"509.9375\" y2=\"509.9375\"/><!--MD5=[270fce915f116d4de14055a7c1d9a0f3]\n",
       "class E5--><rect fill=\"#FEFECE\" filter=\"url(#fntysecm1zgjl)\" height=\"45.9375\" id=\"E5\" style=\"stroke: #A80036; stroke-width: 1.5;\" width=\"66\" x=\"161\" y=\"44.5\"/><text fill=\"#000000\" font-family=\"sans-serif\" font-size=\"12\" font-style=\"italic\" lengthAdjust=\"spacingAndGlyphs\" textLength=\"64\" x=\"162\" y=\"60.6387\">«view def»</text><text fill=\"#000000\" font-family=\"sans-serif\" font-size=\"12\" lengthAdjust=\"spacingAndGlyphs\" textLength=\"8\" x=\"190\" y=\"74.6074\">V</text><line style=\"stroke: #A80036; stroke-width: 1.5;\" x1=\"162\" x2=\"226\" y1=\"82.4375\" y2=\"82.4375\"/><!--MD5=[60a26617385b1d2d0262a64233df1f8d]\n",
       "class E6--><rect fill=\"#FEFECE\" filter=\"url(#fntysecm1zgjl)\" height=\"45.9375\" id=\"E6\" rx=\"10\" ry=\"10\" style=\"stroke: #A80036; stroke-width: 1.5;\" width=\"74\" x=\"50\" y=\"154\"/><text fill=\"#000000\" font-family=\"sans-serif\" font-size=\"12\" font-style=\"italic\" lengthAdjust=\"spacingAndGlyphs\" textLength=\"72\" x=\"51\" y=\"170.1387\">«viewpoint»</text><text fill=\"#000000\" font-family=\"sans-serif\" font-size=\"12\" lengthAdjust=\"spacingAndGlyphs\" textLength=\"38\" x=\"68\" y=\"184.1074\">vp: VP</text><line style=\"stroke: #A80036; stroke-width: 1.5;\" x1=\"51\" x2=\"123\" y1=\"191.9375\" y2=\"191.9375\"/><!--MD5=[2156ba9850f5573cc1fc38a6a4b2f02b]\n",
       "class E7--><rect fill=\"#FEFECE\" filter=\"url(#fntysecm1zgjl)\" height=\"45.9375\" id=\"E7\" rx=\"10\" ry=\"10\" style=\"stroke: #A80036; stroke-width: 1.5;\" width=\"77\" x=\"158.5\" y=\"366\"/><text fill=\"#000000\" font-family=\"sans-serif\" font-size=\"12\" font-style=\"italic\" lengthAdjust=\"spacingAndGlyphs\" textLength=\"75\" x=\"159.5\" y=\"382.1387\">«rendering»</text><text fill=\"#000000\" font-family=\"sans-serif\" font-size=\"12\" lengthAdjust=\"spacingAndGlyphs\" textLength=\"21\" x=\"186.5\" y=\"396.1074\">r: R</text><line style=\"stroke: #A80036; stroke-width: 1.5;\" x1=\"159.5\" x2=\"234.5\" y1=\"403.9375\" y2=\"403.9375\"/><!--MD5=[b9389687b975829384b498ac4b7476b2]\n",
       "class E8--><rect fill=\"#FEFECE\" filter=\"url(#fntysecm1zgjl)\" height=\"45.9375\" id=\"E8\" rx=\"10\" ry=\"10\" style=\"stroke: #A80036; stroke-width: 1.5;\" width=\"42\" x=\"202\" y=\"154\"/><text fill=\"#000000\" font-family=\"sans-serif\" font-size=\"12\" font-style=\"italic\" lengthAdjust=\"spacingAndGlyphs\" textLength=\"40\" x=\"203\" y=\"170.1387\">«view»</text><text fill=\"#000000\" font-family=\"sans-serif\" font-size=\"12\" lengthAdjust=\"spacingAndGlyphs\" textLength=\"22\" x=\"212\" y=\"184.1074\">v: V</text><line style=\"stroke: #A80036; stroke-width: 1.5;\" x1=\"203\" x2=\"243\" y1=\"191.9375\" y2=\"191.9375\"/><!--MD5=[fd4143e9d270a159db93a4ea2a975926]\n",
       "class E9--><rect fill=\"#FEFECE\" filter=\"url(#fntysecm1zgjl)\" height=\"45.9375\" id=\"E9\" rx=\"10\" ry=\"10\" style=\"stroke: #A80036; stroke-width: 1.5;\" width=\"77\" x=\"202.5\" y=\"260\"/><text fill=\"#000000\" font-family=\"sans-serif\" font-size=\"12\" font-style=\"italic\" lengthAdjust=\"spacingAndGlyphs\" textLength=\"75\" x=\"203.5\" y=\"276.1387\">«rendering»</text><text fill=\"#000000\" font-family=\"sans-serif\" font-size=\"12\" lengthAdjust=\"spacingAndGlyphs\" textLength=\"29\" x=\"226.5\" y=\"290.1074\">r1: R</text><line style=\"stroke: #A80036; stroke-width: 1.5;\" x1=\"203.5\" x2=\"278.5\" y1=\"297.9375\" y2=\"297.9375\"/><polygon fill=\"#FFFFFF\" filter=\"url(#fntysecm1zgjl)\" points=\"78,41,94,41,101,63.2969,108,63.2969,108,93.5938,78,93.5938,78,41\" style=\"stroke: #000000; stroke-width: 1.5;\"/><line style=\"stroke: #000000; stroke-width: 1.5;\" x1=\"78\" x2=\"101\" y1=\"63.2969\" y2=\"63.2969\"/><text fill=\"#000000\" font-family=\"sans-serif\" font-size=\"14\" font-weight=\"bold\" lengthAdjust=\"spacingAndGlyphs\" textLength=\"10\" x=\"82\" y=\"55.9951\">P</text><!--MD5=[85d356282659285ab4b2cfe2f634dd2b]\n",
       "reverse link E5 to E6--><path d=\"M162.51,100.14 C145.4,117.33 124.66,138.16 109.25,153.65 \" fill=\"none\" id=\"E5&lt;-E6\" style=\"stroke: #A80036; stroke-width: 1.0;\"/><polygon fill=\"#A80036\" points=\"172.09,90.51,165.0222,91.9407,163.6245,99.015,170.6923,97.5843,172.09,90.51\" style=\"stroke: #A80036; stroke-width: 1.0;\"/><!--MD5=[a717450b82c80b9240a525fa862496af]\n",
       "link E6 to E3--><path d=\"M85.73,200.06 C85.06,211.64 84.22,226.23 83.43,239.87 \" fill=\"none\" id=\"E6-&gt;E3\" style=\"stroke: #A80036; stroke-width: 1.0;\"/><polygon fill=\"#FFFFFF\" points=\"82.27,259.98,76.3669,240.6111,90.3441,241.411,82.27,259.98\" style=\"stroke: #A80036; stroke-width: 1.0;\"/><ellipse cx=\"78.6893\" cy=\"235.0347\" fill=\"#A80036\" rx=\"2\" ry=\"2\" style=\"stroke: #A80036; stroke-width: 1.0;\"/><ellipse cx=\"88.673\" cy=\"235.606\" fill=\"#A80036\" rx=\"2\" ry=\"2\" style=\"stroke: #A80036; stroke-width: 1.0;\"/><!--MD5=[6bdd27f9905911a7e892a3dc65cf6b7c]\n",
       "link E7 to E4--><path d=\"M197,412.06 C197,423.64 197,438.23 197,451.87 \" fill=\"none\" id=\"E7-&gt;E4\" style=\"stroke: #A80036; stroke-width: 1.0;\"/><polygon fill=\"#FFFFFF\" points=\"197,471.98,190,452.98,204,452.98,197,471.98\" style=\"stroke: #A80036; stroke-width: 1.0;\"/><ellipse cx=\"192\" cy=\"447.28\" fill=\"#A80036\" rx=\"2\" ry=\"2\" style=\"stroke: #A80036; stroke-width: 1.0;\"/><ellipse cx=\"202\" cy=\"447.28\" fill=\"#A80036\" rx=\"2\" ry=\"2\" style=\"stroke: #A80036; stroke-width: 1.0;\"/><!--MD5=[452b418e7f8a40397a49b8c0a78acc5b]\n",
       "reverse link E5 to E7--><path d=\"M189.45,103.79 C187.68,119.18 185.87,137.45 185,154 C181.46,221.46 180.1,238.62 185,306 C186.48,326.38 190.01,349.38 192.86,365.82 \" fill=\"none\" id=\"E5&lt;-E7\" style=\"stroke: #A80036; stroke-width: 1.0;\"/><polygon fill=\"#A80036\" points=\"191.03,90.59,186.3465,96.0731,189.6065,102.5053,194.29,97.0221,191.03,90.59\" style=\"stroke: #A80036; stroke-width: 1.0;\"/><text fill=\"#000000\" font-family=\"sans-serif\" font-size=\"13\" lengthAdjust=\"spacingAndGlyphs\" textLength=\"24\" x=\"164.7241\" y=\"355.0502\">0..1</text><!--MD5=[1ccb2481ffa92f8d51a74ee30c51832a]\n",
       "link E8 to E5--><path d=\"M228.17,153.65 C226.85,140.84 223.06,124.37 218.16,109.34 \" fill=\"none\" id=\"E8-&gt;E5\" style=\"stroke: #A80036; stroke-width: 1.0;\"/><polygon fill=\"#FFFFFF\" points=\"211.08,90.51,224.3197,105.8302,211.2157,110.758,211.08,90.51\" style=\"stroke: #A80036; stroke-width: 1.0;\"/><ellipse cx=\"224.454\" cy=\"111.8694\" fill=\"#A80036\" rx=\"2\" ry=\"2\" style=\"stroke: #A80036; stroke-width: 1.0;\"/><ellipse cx=\"215.094\" cy=\"115.3893\" fill=\"#A80036\" rx=\"2\" ry=\"2\" style=\"stroke: #A80036; stroke-width: 1.0;\"/><!--MD5=[827760032d119d06bbc92f75530fd7ae]\n",
       "reverse link E5 to E8--><path d=\"M191.42,103.56 C194.56,120.03 200.21,139.18 206.39,153.65 \" fill=\"none\" id=\"E5&lt;-E8\" style=\"stroke: #A80036; stroke-width: 1.0;\"/><polygon fill=\"#A80036\" points=\"189.42,90.51,186.3756,97.0469,191.2387,102.3714,194.2832,95.8344,189.42,90.51\" style=\"stroke: #A80036; stroke-width: 1.0;\"/><text fill=\"#000000\" font-family=\"sans-serif\" font-size=\"13\" lengthAdjust=\"spacingAndGlyphs\" textLength=\"7\" x=\"194.2368\" y=\"142.8366\">*</text><!--MD5=[cf04703ca05eebef50f1cfe8b03e143b]\n",
       "link E9 to E7--><path d=\"M231.67,306.06 C226.59,318.05 220.15,333.27 214.21,347.33 \" fill=\"none\" id=\"E9-&gt;E7\" style=\"stroke: #A80036; stroke-width: 1.0;\"/><polygon fill=\"#FFFFFF\" points=\"206.32,365.98,207.2662,345.7537,220.1625,351.2021,206.32,365.98\" style=\"stroke: #A80036; stroke-width: 1.0;\"/><line style=\"stroke: #A80036; stroke-width: 2.0;\" x1=\"208.745\" x2=\"221.6413\" y1=\"342.2532\" y2=\"347.7017\"/><!--MD5=[22f5b4bae7e060dce8a1c8021efdb95b]\n",
       "reverse link E8 to E9--><path d=\"M229.05,212.96 C231.74,228.51 234.83,246.33 237.19,259.98 \" fill=\"none\" id=\"E8&lt;-E9\" style=\"stroke: #A80036; stroke-width: 1.0;\"/><polygon fill=\"#A80036\" points=\"226.82,200.06,223.9001,206.6535,228.8633,211.8848,231.7832,205.2913,226.82,200.06\" style=\"stroke: #A80036; stroke-width: 1.0;\"/><!--MD5=[cb687bade87ced2f6b53a2ce162263ef]\n",
       "@startuml\r\n",
       "skinparam wrapWidth 300\r\n",
       "hide circle\r\n",
       "\r\n",
       "package \"ViewTest\" as E1   {\r\n",
       "package \"P\" as E2   {\r\n",
       "}\r\n",
       "comp def \"VP\" as E3  <<(T,blue)viewpoint def>> {\r\n",
       "}\r\n",
       "comp def \"R\" as E4  <<(T,blue)rendering def>> {\r\n",
       "}\r\n",
       "comp def \"V\" as E5  <<(T,blue)view def>> {\r\n",
       "}\r\n",
       "comp usage \"vp: VP\" as E6  <<(T,blue)viewpoint>> {\r\n",
       "}\r\n",
       "comp usage \"r: R\" as E7  <<(T,blue)rendering>> {\r\n",
       "}\r\n",
       "comp usage \"v: V\" as E8  <<(T,blue)view>> {\r\n",
       "}\r\n",
       "comp usage \"r1: R\" as E9  <<(T,blue)rendering>> {\r\n",
       "}\r\n",
       "E5 *- - E6\r\n",
       "E6 - -:|> E3\r\n",
       "E7 - -:|> E4\r\n",
       "E5 *- - \"0..1\"E7\r\n",
       "E8 - -:|> E5\r\n",
       "E5 *- - \"*\"E8\r\n",
       "E9 - -||> E7\r\n",
       "E8 *- - E9\r\n",
       "}\r\n",
       "@enduml\r\n",
       "\n",
       "PlantUML version 1.2020.13(Sat Jun 13 12:26:38 UTC 2020)\n",
       "(EPL source distribution)\n",
       "Java Runtime: OpenJDK Runtime Environment\n",
       "JVM: OpenJDK 64-Bit Server VM\n",
       "Default Encoding: UTF-8\n",
       "Language: en\n",
       "Country: null\n",
       "--></g></svg>"
      ]
     },
     "execution_count": 23,
     "metadata": {},
     "output_type": "execute_result"
    }
   ],
   "source": [
    "%viz --style=\"STDCOLOR\" --view=\"Default\" \"ViewTest\""
   ]
  },
  {
   "cell_type": "code",
   "execution_count": 24,
   "id": "about-digest",
   "metadata": {
    "execution": {
     "iopub.execute_input": "2021-03-25T16:07:59.842052Z",
     "iopub.status.busy": "2021-03-25T16:07:59.841274Z",
     "iopub.status.idle": "2021-03-25T16:07:59.942973Z",
     "shell.execute_reply": "2021-03-25T16:07:59.941305Z"
    }
   },
   "outputs": [
    {
     "data": {
      "image/svg+xml": [
       "<?xml version=\"1.0\" encoding=\"UTF-8\" standalone=\"no\"?><svg xmlns=\"http://www.w3.org/2000/svg\" xmlns:xlink=\"http://www.w3.org/1999/xlink\" contentScriptType=\"application/ecmascript\" contentStyleType=\"text/css\" height=\"546px\" preserveAspectRatio=\"none\" style=\"width:318px;height:546px;\" version=\"1.1\" viewBox=\"0 0 318 546\" width=\"318px\" zoomAndPan=\"magnify\"><defs><filter height=\"300%\" id=\"fntysecm1zgjl\" width=\"300%\" x=\"-1\" y=\"-1\"><feGaussianBlur result=\"blurOut\" stdDeviation=\"2.0\"/><feColorMatrix in=\"blurOut\" result=\"blurOut2\" type=\"matrix\" values=\"0 0 0 0 0 0 0 0 0 0 0 0 0 0 0 0 0 0 .4 0\"/><feOffset dx=\"4.0\" dy=\"4.0\" in=\"blurOut2\" result=\"blurOut3\"/><feBlend in=\"SourceGraphic\" in2=\"blurOut3\" mode=\"normal\"/></filter></defs><g><!--MD5=[fbc87193dbaf4d95561dea2c320d4a47]\n",
       "cluster E1--><polygon fill=\"#FFFFFF\" filter=\"url(#fntysecm1zgjl)\" points=\"16,6,96,6,103,28.2969,296,28.2969,296,534,16,534,16,6\" style=\"stroke: #000000; stroke-width: 1.5;\"/><line style=\"stroke: #000000; stroke-width: 1.5;\" x1=\"16\" x2=\"103\" y1=\"28.2969\" y2=\"28.2969\"/><text fill=\"#000000\" font-family=\"sans-serif\" font-size=\"14\" font-weight=\"bold\" lengthAdjust=\"spacingAndGlyphs\" textLength=\"74\" x=\"20\" y=\"20.9951\">ViewTest</text><!--MD5=[09b614a08d8cba4a07c9adeb5e0fee81]\n",
       "class E3--><rect fill=\"#FEFECE\" filter=\"url(#fntysecm1zgjl)\" height=\"45.9375\" id=\"E3\" style=\"stroke: #A80036; stroke-width: 1.5;\" width=\"98\" x=\"32\" y=\"260\"/><text fill=\"#000000\" font-family=\"sans-serif\" font-size=\"12\" font-style=\"italic\" lengthAdjust=\"spacingAndGlyphs\" textLength=\"96\" x=\"33\" y=\"276.1387\">«viewpoint def»</text><text fill=\"#000000\" font-family=\"sans-serif\" font-size=\"12\" lengthAdjust=\"spacingAndGlyphs\" textLength=\"16\" x=\"73\" y=\"290.1074\">VP</text><line style=\"stroke: #A80036; stroke-width: 1.5;\" x1=\"33\" x2=\"129\" y1=\"297.9375\" y2=\"297.9375\"/><!--MD5=[ebbe1d658d1005bcc118a6aa81145e00]\n",
       "class E4--><rect fill=\"#FEFECE\" filter=\"url(#fntysecm1zgjl)\" height=\"45.9375\" id=\"E4\" style=\"stroke: #A80036; stroke-width: 1.5;\" width=\"101\" x=\"146.5\" y=\"472\"/><text fill=\"#000000\" font-family=\"sans-serif\" font-size=\"12\" font-style=\"italic\" lengthAdjust=\"spacingAndGlyphs\" textLength=\"99\" x=\"147.5\" y=\"488.1387\">«rendering def»</text><text fill=\"#000000\" font-family=\"sans-serif\" font-size=\"12\" lengthAdjust=\"spacingAndGlyphs\" textLength=\"8\" x=\"193\" y=\"502.1074\">R</text><line style=\"stroke: #A80036; stroke-width: 1.5;\" x1=\"147.5\" x2=\"246.5\" y1=\"509.9375\" y2=\"509.9375\"/><!--MD5=[270fce915f116d4de14055a7c1d9a0f3]\n",
       "class E5--><rect fill=\"#FEFECE\" filter=\"url(#fntysecm1zgjl)\" height=\"45.9375\" id=\"E5\" style=\"stroke: #A80036; stroke-width: 1.5;\" width=\"66\" x=\"161\" y=\"44.5\"/><text fill=\"#000000\" font-family=\"sans-serif\" font-size=\"12\" font-style=\"italic\" lengthAdjust=\"spacingAndGlyphs\" textLength=\"64\" x=\"162\" y=\"60.6387\">«view def»</text><text fill=\"#000000\" font-family=\"sans-serif\" font-size=\"12\" lengthAdjust=\"spacingAndGlyphs\" textLength=\"8\" x=\"190\" y=\"74.6074\">V</text><line style=\"stroke: #A80036; stroke-width: 1.5;\" x1=\"162\" x2=\"226\" y1=\"82.4375\" y2=\"82.4375\"/><!--MD5=[60a26617385b1d2d0262a64233df1f8d]\n",
       "class E6--><rect fill=\"#FEFECE\" filter=\"url(#fntysecm1zgjl)\" height=\"45.9375\" id=\"E6\" rx=\"10\" ry=\"10\" style=\"stroke: #A80036; stroke-width: 1.5;\" width=\"74\" x=\"50\" y=\"154\"/><text fill=\"#000000\" font-family=\"sans-serif\" font-size=\"12\" font-style=\"italic\" lengthAdjust=\"spacingAndGlyphs\" textLength=\"72\" x=\"51\" y=\"170.1387\">«viewpoint»</text><text fill=\"#000000\" font-family=\"sans-serif\" font-size=\"12\" lengthAdjust=\"spacingAndGlyphs\" textLength=\"38\" x=\"68\" y=\"184.1074\">vp: VP</text><line style=\"stroke: #A80036; stroke-width: 1.5;\" x1=\"51\" x2=\"123\" y1=\"191.9375\" y2=\"191.9375\"/><!--MD5=[2156ba9850f5573cc1fc38a6a4b2f02b]\n",
       "class E7--><rect fill=\"#FEFECE\" filter=\"url(#fntysecm1zgjl)\" height=\"45.9375\" id=\"E7\" rx=\"10\" ry=\"10\" style=\"stroke: #A80036; stroke-width: 1.5;\" width=\"77\" x=\"158.5\" y=\"366\"/><text fill=\"#000000\" font-family=\"sans-serif\" font-size=\"12\" font-style=\"italic\" lengthAdjust=\"spacingAndGlyphs\" textLength=\"75\" x=\"159.5\" y=\"382.1387\">«rendering»</text><text fill=\"#000000\" font-family=\"sans-serif\" font-size=\"12\" lengthAdjust=\"spacingAndGlyphs\" textLength=\"21\" x=\"186.5\" y=\"396.1074\">r: R</text><line style=\"stroke: #A80036; stroke-width: 1.5;\" x1=\"159.5\" x2=\"234.5\" y1=\"403.9375\" y2=\"403.9375\"/><!--MD5=[b9389687b975829384b498ac4b7476b2]\n",
       "class E8--><rect fill=\"#FEFECE\" filter=\"url(#fntysecm1zgjl)\" height=\"45.9375\" id=\"E8\" rx=\"10\" ry=\"10\" style=\"stroke: #A80036; stroke-width: 1.5;\" width=\"42\" x=\"202\" y=\"154\"/><text fill=\"#000000\" font-family=\"sans-serif\" font-size=\"12\" font-style=\"italic\" lengthAdjust=\"spacingAndGlyphs\" textLength=\"40\" x=\"203\" y=\"170.1387\">«view»</text><text fill=\"#000000\" font-family=\"sans-serif\" font-size=\"12\" lengthAdjust=\"spacingAndGlyphs\" textLength=\"22\" x=\"212\" y=\"184.1074\">v: V</text><line style=\"stroke: #A80036; stroke-width: 1.5;\" x1=\"203\" x2=\"243\" y1=\"191.9375\" y2=\"191.9375\"/><!--MD5=[fd4143e9d270a159db93a4ea2a975926]\n",
       "class E9--><rect fill=\"#FEFECE\" filter=\"url(#fntysecm1zgjl)\" height=\"45.9375\" id=\"E9\" rx=\"10\" ry=\"10\" style=\"stroke: #A80036; stroke-width: 1.5;\" width=\"77\" x=\"202.5\" y=\"260\"/><text fill=\"#000000\" font-family=\"sans-serif\" font-size=\"12\" font-style=\"italic\" lengthAdjust=\"spacingAndGlyphs\" textLength=\"75\" x=\"203.5\" y=\"276.1387\">«rendering»</text><text fill=\"#000000\" font-family=\"sans-serif\" font-size=\"12\" lengthAdjust=\"spacingAndGlyphs\" textLength=\"29\" x=\"226.5\" y=\"290.1074\">r1: R</text><line style=\"stroke: #A80036; stroke-width: 1.5;\" x1=\"203.5\" x2=\"278.5\" y1=\"297.9375\" y2=\"297.9375\"/><polygon fill=\"#FFFFFF\" filter=\"url(#fntysecm1zgjl)\" points=\"78,41,94,41,101,63.2969,108,63.2969,108,93.5938,78,93.5938,78,41\" style=\"stroke: #000000; stroke-width: 1.5;\"/><line style=\"stroke: #000000; stroke-width: 1.5;\" x1=\"78\" x2=\"101\" y1=\"63.2969\" y2=\"63.2969\"/><text fill=\"#000000\" font-family=\"sans-serif\" font-size=\"14\" font-weight=\"bold\" lengthAdjust=\"spacingAndGlyphs\" textLength=\"10\" x=\"82\" y=\"55.9951\">P</text><!--MD5=[85d356282659285ab4b2cfe2f634dd2b]\n",
       "reverse link E5 to E6--><path d=\"M162.51,100.14 C145.4,117.33 124.66,138.16 109.25,153.65 \" fill=\"none\" id=\"E5&lt;-E6\" style=\"stroke: #A80036; stroke-width: 1.0;\"/><polygon fill=\"#A80036\" points=\"172.09,90.51,165.0222,91.9407,163.6245,99.015,170.6923,97.5843,172.09,90.51\" style=\"stroke: #A80036; stroke-width: 1.0;\"/><!--MD5=[a717450b82c80b9240a525fa862496af]\n",
       "link E6 to E3--><path d=\"M85.73,200.06 C85.06,211.64 84.22,226.23 83.43,239.87 \" fill=\"none\" id=\"E6-&gt;E3\" style=\"stroke: #A80036; stroke-width: 1.0;\"/><polygon fill=\"#FFFFFF\" points=\"82.27,259.98,76.3669,240.6111,90.3441,241.411,82.27,259.98\" style=\"stroke: #A80036; stroke-width: 1.0;\"/><ellipse cx=\"78.6893\" cy=\"235.0347\" fill=\"#A80036\" rx=\"2\" ry=\"2\" style=\"stroke: #A80036; stroke-width: 1.0;\"/><ellipse cx=\"88.673\" cy=\"235.606\" fill=\"#A80036\" rx=\"2\" ry=\"2\" style=\"stroke: #A80036; stroke-width: 1.0;\"/><!--MD5=[6bdd27f9905911a7e892a3dc65cf6b7c]\n",
       "link E7 to E4--><path d=\"M197,412.06 C197,423.64 197,438.23 197,451.87 \" fill=\"none\" id=\"E7-&gt;E4\" style=\"stroke: #A80036; stroke-width: 1.0;\"/><polygon fill=\"#FFFFFF\" points=\"197,471.98,190,452.98,204,452.98,197,471.98\" style=\"stroke: #A80036; stroke-width: 1.0;\"/><ellipse cx=\"192\" cy=\"447.28\" fill=\"#A80036\" rx=\"2\" ry=\"2\" style=\"stroke: #A80036; stroke-width: 1.0;\"/><ellipse cx=\"202\" cy=\"447.28\" fill=\"#A80036\" rx=\"2\" ry=\"2\" style=\"stroke: #A80036; stroke-width: 1.0;\"/><!--MD5=[452b418e7f8a40397a49b8c0a78acc5b]\n",
       "reverse link E5 to E7--><path d=\"M189.45,103.79 C187.68,119.18 185.87,137.45 185,154 C181.46,221.46 180.1,238.62 185,306 C186.48,326.38 190.01,349.38 192.86,365.82 \" fill=\"none\" id=\"E5&lt;-E7\" style=\"stroke: #A80036; stroke-width: 1.0;\"/><polygon fill=\"#A80036\" points=\"191.03,90.59,186.3465,96.0731,189.6065,102.5053,194.29,97.0221,191.03,90.59\" style=\"stroke: #A80036; stroke-width: 1.0;\"/><text fill=\"#000000\" font-family=\"sans-serif\" font-size=\"13\" lengthAdjust=\"spacingAndGlyphs\" textLength=\"24\" x=\"164.7241\" y=\"355.0502\">0..1</text><!--MD5=[1ccb2481ffa92f8d51a74ee30c51832a]\n",
       "link E8 to E5--><path d=\"M228.17,153.65 C226.85,140.84 223.06,124.37 218.16,109.34 \" fill=\"none\" id=\"E8-&gt;E5\" style=\"stroke: #A80036; stroke-width: 1.0;\"/><polygon fill=\"#FFFFFF\" points=\"211.08,90.51,224.3197,105.8302,211.2157,110.758,211.08,90.51\" style=\"stroke: #A80036; stroke-width: 1.0;\"/><ellipse cx=\"224.454\" cy=\"111.8694\" fill=\"#A80036\" rx=\"2\" ry=\"2\" style=\"stroke: #A80036; stroke-width: 1.0;\"/><ellipse cx=\"215.094\" cy=\"115.3893\" fill=\"#A80036\" rx=\"2\" ry=\"2\" style=\"stroke: #A80036; stroke-width: 1.0;\"/><!--MD5=[827760032d119d06bbc92f75530fd7ae]\n",
       "reverse link E5 to E8--><path d=\"M191.42,103.56 C194.56,120.03 200.21,139.18 206.39,153.65 \" fill=\"none\" id=\"E5&lt;-E8\" style=\"stroke: #A80036; stroke-width: 1.0;\"/><polygon fill=\"#A80036\" points=\"189.42,90.51,186.3756,97.0469,191.2387,102.3714,194.2832,95.8344,189.42,90.51\" style=\"stroke: #A80036; stroke-width: 1.0;\"/><text fill=\"#000000\" font-family=\"sans-serif\" font-size=\"13\" lengthAdjust=\"spacingAndGlyphs\" textLength=\"7\" x=\"194.2368\" y=\"142.8366\">*</text><!--MD5=[cf04703ca05eebef50f1cfe8b03e143b]\n",
       "link E9 to E7--><path d=\"M231.67,306.06 C226.59,318.05 220.15,333.27 214.21,347.33 \" fill=\"none\" id=\"E9-&gt;E7\" style=\"stroke: #A80036; stroke-width: 1.0;\"/><polygon fill=\"#FFFFFF\" points=\"206.32,365.98,207.2662,345.7537,220.1625,351.2021,206.32,365.98\" style=\"stroke: #A80036; stroke-width: 1.0;\"/><line style=\"stroke: #A80036; stroke-width: 2.0;\" x1=\"208.745\" x2=\"221.6413\" y1=\"342.2532\" y2=\"347.7017\"/><!--MD5=[22f5b4bae7e060dce8a1c8021efdb95b]\n",
       "reverse link E8 to E9--><path d=\"M229.05,212.96 C231.74,228.51 234.83,246.33 237.19,259.98 \" fill=\"none\" id=\"E8&lt;-E9\" style=\"stroke: #A80036; stroke-width: 1.0;\"/><polygon fill=\"#A80036\" points=\"226.82,200.06,223.9001,206.6535,228.8633,211.8848,231.7832,205.2913,226.82,200.06\" style=\"stroke: #A80036; stroke-width: 1.0;\"/><!--MD5=[cb687bade87ced2f6b53a2ce162263ef]\n",
       "@startuml\r\n",
       "skinparam wrapWidth 300\r\n",
       "hide circle\r\n",
       "\r\n",
       "package \"ViewTest\" as E1   {\r\n",
       "package \"P\" as E2   {\r\n",
       "}\r\n",
       "comp def \"VP\" as E3  <<(T,blue)viewpoint def>> {\r\n",
       "}\r\n",
       "comp def \"R\" as E4  <<(T,blue)rendering def>> {\r\n",
       "}\r\n",
       "comp def \"V\" as E5  <<(T,blue)view def>> {\r\n",
       "}\r\n",
       "comp usage \"vp: VP\" as E6  <<(T,blue)viewpoint>> {\r\n",
       "}\r\n",
       "comp usage \"r: R\" as E7  <<(T,blue)rendering>> {\r\n",
       "}\r\n",
       "comp usage \"v: V\" as E8  <<(T,blue)view>> {\r\n",
       "}\r\n",
       "comp usage \"r1: R\" as E9  <<(T,blue)rendering>> {\r\n",
       "}\r\n",
       "E5 *- - E6\r\n",
       "E6 - -:|> E3\r\n",
       "E7 - -:|> E4\r\n",
       "E5 *- - \"0..1\"E7\r\n",
       "E8 - -:|> E5\r\n",
       "E5 *- - \"*\"E8\r\n",
       "E9 - -||> E7\r\n",
       "E8 *- - E9\r\n",
       "}\r\n",
       "@enduml\r\n",
       "\n",
       "PlantUML version 1.2020.13(Sat Jun 13 12:26:38 UTC 2020)\n",
       "(EPL source distribution)\n",
       "Java Runtime: OpenJDK Runtime Environment\n",
       "JVM: OpenJDK 64-Bit Server VM\n",
       "Default Encoding: UTF-8\n",
       "Language: en\n",
       "Country: null\n",
       "--></g></svg>"
      ]
     },
     "execution_count": 24,
     "metadata": {},
     "output_type": "execute_result"
    }
   ],
   "source": [
    "%viz --style=\"STDCOLOR\" --view=\"Tree\" \"ViewTest\""
   ]
  },
  {
   "cell_type": "code",
   "execution_count": 25,
   "id": "ongoing-blond",
   "metadata": {
    "execution": {
     "iopub.execute_input": "2021-03-25T16:07:59.993463Z",
     "iopub.status.busy": "2021-03-25T16:07:59.992888Z",
     "iopub.status.idle": "2021-03-25T16:07:59.996271Z",
     "shell.execute_reply": "2021-03-25T16:07:59.995815Z"
    }
   },
   "outputs": [
    {
     "data": {
      "text/plain": [
       "java.lang.IllegalArgumentException: Invalid View: State View candidates are: Default Tree StateMachine Interconnection Activity Sequence MIXED \n",
       "\tat org.omg.sysml.plantuml.SysML2PlantUMLSvc.setView(SysML2PlantUMLSvc.java:63)\n",
       "\tat org.omg.sysml.interactive.SysMLInteractive.viz(SysMLInteractive.java:286)\n",
       "\tat org.omg.sysml.jupyter.kernel.magic.Viz.viz(Viz.java:47)\n",
       "\tat jdk.internal.reflect.GeneratedMethodAccessor10.invoke(Unknown Source)\n",
       "\tat java.base/jdk.internal.reflect.DelegatingMethodAccessorImpl.invoke(DelegatingMethodAccessorImpl.java:43)\n",
       "\tat java.base/java.lang.reflect.Method.invoke(Method.java:568)\n",
       "\tat io.github.spencerpark.jupyter.kernel.magic.registry.Magics.invoke(Magics.java:89)\n",
       "\tat io.github.spencerpark.jupyter.kernel.magic.registry.Magics.access$000(Magics.java:8)\n",
       "\tat io.github.spencerpark.jupyter.kernel.magic.registry.Magics$LineReflectionMagicFunction.execute(Magics.java:149)\n",
       "\tat io.github.spencerpark.jupyter.kernel.magic.registry.Magics.applyLineMagic(Magics.java:26)\n",
       "\tat org.omg.sysml.jupyter.kernel.SysMLKernel.eval(SysMLKernel.java:76)\n",
       "\tat io.github.spencerpark.jupyter.kernel.BaseKernel.handleExecuteRequest(BaseKernel.java:334)\n",
       "\tat io.github.spencerpark.jupyter.channels.ShellChannel.lambda$bind$0(ShellChannel.java:64)\n",
       "\tat io.github.spencerpark.jupyter.channels.Loop.lambda$new$0(Loop.java:21)\n",
       "\tat io.github.spencerpark.jupyter.channels.Loop.run(Loop.java:78)\n"
      ]
     },
     "execution_count": 25,
     "metadata": {},
     "output_type": "execute_result"
    }
   ],
   "source": [
    "%viz --style=\"STDCOLOR\" --view=\"State\" \"ViewTest\""
   ]
  },
  {
   "cell_type": "code",
   "execution_count": 26,
   "id": "lonely-thumb",
   "metadata": {
    "execution": {
     "iopub.execute_input": "2021-03-25T16:08:00.047499Z",
     "iopub.status.busy": "2021-03-25T16:08:00.046928Z",
     "iopub.status.idle": "2021-03-25T16:08:00.166450Z",
     "shell.execute_reply": "2021-03-25T16:08:00.166825Z"
    }
   },
   "outputs": [
    {
     "data": {
      "image/svg+xml": [
       "<?xml version=\"1.0\" encoding=\"UTF-8\" standalone=\"no\"?><svg xmlns=\"http://www.w3.org/2000/svg\" xmlns:xlink=\"http://www.w3.org/1999/xlink\" contentScriptType=\"application/ecmascript\" contentStyleType=\"text/css\" height=\"285px\" preserveAspectRatio=\"none\" style=\"width:979px;height:285px;\" version=\"1.1\" viewBox=\"0 0 979 285\" width=\"979px\" zoomAndPan=\"magnify\"><defs><filter height=\"300%\" id=\"f110fabhfvpvfl\" width=\"300%\" x=\"-1\" y=\"-1\"><feGaussianBlur result=\"blurOut\" stdDeviation=\"2.0\"/><feColorMatrix in=\"blurOut\" result=\"blurOut2\" type=\"matrix\" values=\"0 0 0 0 0 0 0 0 0 0 0 0 0 0 0 0 0 0 .4 0\"/><feOffset dx=\"4.0\" dy=\"4.0\" in=\"blurOut2\" result=\"blurOut3\"/><feBlend in=\"SourceGraphic\" in2=\"blurOut3\" mode=\"normal\"/></filter></defs><g><!--MD5=[fbc87193dbaf4d95561dea2c320d4a47]\n",
       "cluster E1--><polygon fill=\"#FFFFFF\" filter=\"url(#f110fabhfvpvfl)\" points=\"16,6,96,6,103,28.2969,957,28.2969,957,273,16,273,16,6\" style=\"stroke: #000000; stroke-width: 1.5;\"/><line style=\"stroke: #000000; stroke-width: 1.5;\" x1=\"16\" x2=\"103\" y1=\"28.2969\" y2=\"28.2969\"/><text fill=\"#000000\" font-family=\"sans-serif\" font-size=\"14\" font-weight=\"bold\" lengthAdjust=\"spacingAndGlyphs\" textLength=\"74\" x=\"20\" y=\"20.9951\">ViewTest</text><!--MD5=[de5ec2e2e8f62f467e546659f5068c88]\n",
       "cluster E5--><rect fill=\"#FFFFFF\" filter=\"url(#f110fabhfvpvfl)\" height=\"200\" style=\"stroke: #000000; stroke-width: 1.5;\" width=\"552\" x=\"381\" y=\"49\"/><text fill=\"#000000\" font-family=\"sans-serif\" font-size=\"14\" font-style=\"italic\" lengthAdjust=\"spacingAndGlyphs\" textLength=\"74\" x=\"620\" y=\"63.9951\">«view def»</text><text fill=\"#000000\" font-family=\"sans-serif\" font-size=\"14\" font-weight=\"bold\" lengthAdjust=\"spacingAndGlyphs\" textLength=\"11\" x=\"651.5\" y=\"80.292\">V</text><!--MD5=[14e3b0961a2654348d326746436168a1]\n",
       "cluster E6--><rect fill=\"#FEFECE\" filter=\"url(#f110fabhfvpvfl)\" height=\"117\" rx=\"12.5\" ry=\"12.5\" style=\"stroke: #000000; stroke-width: 1.5;\" width=\"196\" x=\"713\" y=\"108\"/><rect fill=\"#FFFFFF\" height=\"84.7031\" rx=\"12.5\" ry=\"12.5\" style=\"stroke: #FFFFFF; stroke-width: 1.0;\" width=\"190\" x=\"716\" y=\"137.2969\"/><line style=\"stroke: #000000; stroke-width: 1.5;\" x1=\"713\" x2=\"909\" y1=\"134.2969\" y2=\"134.2969\"/><text fill=\"#000000\" font-family=\"sans-serif\" font-size=\"14\" lengthAdjust=\"spacingAndGlyphs\" textLength=\"43\" x=\"769.5\" y=\"124.9951\">vp: VP</text><!--MD5=[7f149f147074ac12df2cb0a7728a5fb0]\n",
       "cluster E9--><rect fill=\"#FEFECE\" filter=\"url(#f110fabhfvpvfl)\" height=\"101\" rx=\"12.5\" ry=\"12.5\" style=\"stroke: #000000; stroke-width: 1.5;\" width=\"124\" x=\"565\" y=\"124\"/><rect fill=\"#FFFFFF\" height=\"68.7031\" rx=\"12.5\" ry=\"12.5\" style=\"stroke: #FFFFFF; stroke-width: 1.0;\" width=\"118\" x=\"568\" y=\"153.2969\"/><line style=\"stroke: #000000; stroke-width: 1.5;\" x1=\"565\" x2=\"689\" y1=\"150.2969\" y2=\"150.2969\"/><text fill=\"#000000\" font-family=\"sans-serif\" font-size=\"14\" lengthAdjust=\"spacingAndGlyphs\" textLength=\"25\" x=\"614.5\" y=\"140.9951\">v: V</text><!--MD5=[09b614a08d8cba4a07c9adeb5e0fee81]\n",
       "class E3--><rect fill=\"#FEFECE\" filter=\"url(#f110fabhfvpvfl)\" height=\"53.9375\" id=\"E3\" style=\"stroke: #A80036; stroke-width: 1.5;\" width=\"98\" x=\"264\" y=\"157\"/><text fill=\"#000000\" font-family=\"sans-serif\" font-size=\"12\" font-style=\"italic\" lengthAdjust=\"spacingAndGlyphs\" textLength=\"96\" x=\"265\" y=\"173.1387\">«viewpoint def»</text><text fill=\"#000000\" font-family=\"sans-serif\" font-size=\"12\" lengthAdjust=\"spacingAndGlyphs\" textLength=\"16\" x=\"305\" y=\"187.1074\">VP</text><line style=\"stroke: #A80036; stroke-width: 1.5;\" x1=\"265\" x2=\"361\" y1=\"194.9375\" y2=\"194.9375\"/><line style=\"stroke: #A80036; stroke-width: 1.5;\" x1=\"265\" x2=\"361\" y1=\"202.9375\" y2=\"202.9375\"/><polygon fill=\"#FFFFFF\" filter=\"url(#f110fabhfvpvfl)\" points=\"199,157.5,215,157.5,222,179.7969,229,179.7969,229,210.0938,199,210.0938,199,157.5\" style=\"stroke: #000000; stroke-width: 1.5;\"/><line style=\"stroke: #000000; stroke-width: 1.5;\" x1=\"199\" x2=\"222\" y1=\"179.7969\" y2=\"179.7969\"/><text fill=\"#000000\" font-family=\"sans-serif\" font-size=\"14\" font-weight=\"bold\" lengthAdjust=\"spacingAndGlyphs\" textLength=\"10\" x=\"203\" y=\"172.4951\">P</text><!--MD5=[961cefdc15414eaa3e87aec9d17c2188]\n",
       "entity E4--><rect fill=\"#FFFFFF\" filter=\"url(#f110fabhfvpvfl)\" height=\"52.5938\" style=\"stroke: #000000; stroke-width: 1.5;\" width=\"131\" x=\"32.5\" y=\"157.5\"/><text fill=\"#000000\" font-family=\"sans-serif\" font-size=\"14\" font-style=\"italic\" lengthAdjust=\"spacingAndGlyphs\" textLength=\"111\" x=\"42.5\" y=\"180.4951\">«rendering def»</text><text fill=\"#000000\" font-family=\"sans-serif\" font-size=\"14\" lengthAdjust=\"spacingAndGlyphs\" textLength=\"10\" x=\"93\" y=\"196.792\">R</text><g id=\"E1.E5.E6.E7\"><rect fill=\"#FFFFFF\" filter=\"url(#f110fabhfvpvfl)\" height=\"50\" rx=\"12.5\" ry=\"12.5\" style=\"stroke: #A80036; stroke-width: 1.5;\" width=\"163\" x=\"729.5\" y=\"159\"/><line style=\"stroke: #A80036; stroke-width: 1.5;\" x1=\"729.5\" x2=\"892.5\" y1=\"185.2969\" y2=\"185.2969\"/><text fill=\"#000000\" font-family=\"sans-serif\" font-size=\"14\" lengthAdjust=\"spacingAndGlyphs\" textLength=\"82\" x=\"739.5\" y=\"176.9951\">&gt;subj: View</text><text fill=\"#000000\" font-family=\"sans-serif\" font-size=\"14\" lengthAdjust=\"spacingAndGlyphs\" text-decoration=\"line-through\" textLength=\"57\" x=\"825.5\" y=\"176.9951\">VP::subj</text></g><g id=\"E1.E5.E8\"><rect fill=\"#FFFFFF\" filter=\"url(#f110fabhfvpvfl)\" height=\"50\" rx=\"12.5\" ry=\"12.5\" style=\"stroke: #A80036; stroke-width: 1.5;\" width=\"148\" x=\"397\" y=\"159\"/><line style=\"stroke: #A80036; stroke-width: 1.5;\" x1=\"397\" x2=\"545\" y1=\"185.2969\" y2=\"185.2969\"/><text fill=\"#000000\" font-family=\"sans-serif\" font-size=\"14\" lengthAdjust=\"spacingAndGlyphs\" textLength=\"36\" x=\"407\" y=\"176.9951\">&gt;r: R</text><text fill=\"#000000\" font-family=\"sans-serif\" font-size=\"14\" lengthAdjust=\"spacingAndGlyphs\" text-decoration=\"line-through\" textLength=\"88\" x=\"447\" y=\"176.9951\">View::render</text></g><g id=\"E1.E5.E9.E10\"><rect fill=\"#FFFFFF\" filter=\"url(#f110fabhfvpvfl)\" height=\"50\" rx=\"12.5\" ry=\"12.5\" style=\"stroke: #A80036; stroke-width: 1.5;\" width=\"93\" x=\"580.5\" y=\"159\"/><line style=\"stroke: #A80036; stroke-width: 1.5;\" x1=\"580.5\" x2=\"673.5\" y1=\"185.2969\" y2=\"185.2969\"/><text fill=\"#000000\" font-family=\"sans-serif\" font-size=\"14\" lengthAdjust=\"spacingAndGlyphs\" textLength=\"45\" x=\"590.5\" y=\"176.9951\">&gt;r1: R</text><text fill=\"#000000\" font-family=\"sans-serif\" font-size=\"14\" lengthAdjust=\"spacingAndGlyphs\" text-decoration=\"line-through\" textLength=\"24\" x=\"639.5\" y=\"176.9951\">V::r</text></g><!--MD5=[a9ecbc38577e5d1411c2e9d162521501]\n",
       "@startuml\r\n",
       "skinparam ranksep 8\r\n",
       "skinparam rectangle {\r\n",
       " backgroundColor<<block>> LightGreen\r\n",
       "}\r\n",
       "skinparam wrapWidth 300\r\n",
       "hide circle\r\n",
       "\r\n",
       "package \"ViewTest\" as E1   {\r\n",
       "package \"P\" as E2   {\r\n",
       "}\r\n",
       "def \"VP\" as E3  <<viewpoint def>> \r\n",
       "rec def \"R\" as E4  <<rendering def>> {\r\n",
       "}\r\n",
       "rec def \"V\" as E5  <<view def>> {\r\n",
       "rec usage \"vp: VP\" as E6  <<viewpoint>> {\r\n",
       "rec usage \">subj: View <s>VP::subj</s>\" as E7  <<reference>> {\r\n",
       "}\r\n",
       "}\r\n",
       "rec usage \">r: R <s>View::render</s>\" as E8  {\r\n",
       "}\r\n",
       "rec usage \"v: V\" as E9  {\r\n",
       "rec usage \">r1: R <s>V::r</s>\" as E10  {\r\n",
       "}\r\n",
       "}\r\n",
       "}\r\n",
       "}\r\n",
       "@enduml\r\n",
       "\n",
       "PlantUML version 1.2020.13(Sat Jun 13 12:26:38 UTC 2020)\n",
       "(EPL source distribution)\n",
       "Java Runtime: OpenJDK Runtime Environment\n",
       "JVM: OpenJDK 64-Bit Server VM\n",
       "Default Encoding: UTF-8\n",
       "Language: en\n",
       "Country: null\n",
       "--></g></svg>"
      ]
     },
     "execution_count": 26,
     "metadata": {},
     "output_type": "execute_result"
    }
   ],
   "source": [
    "%viz --style=\"STDCOLOR\" --view=\"Interconnection\" \"ViewTest\""
   ]
  },
  {
   "cell_type": "code",
   "execution_count": 27,
   "id": "acceptable-disease",
   "metadata": {
    "execution": {
     "iopub.execute_input": "2021-03-25T16:08:00.217215Z",
     "iopub.status.busy": "2021-03-25T16:08:00.216612Z",
     "iopub.status.idle": "2021-03-25T16:08:00.220635Z",
     "shell.execute_reply": "2021-03-25T16:08:00.220275Z"
    }
   },
   "outputs": [
    {
     "data": {
      "text/plain": [
       "java.lang.IllegalArgumentException: Invalid View: Action View candidates are: Default Tree StateMachine Interconnection Activity Sequence MIXED \n",
       "\tat org.omg.sysml.plantuml.SysML2PlantUMLSvc.setView(SysML2PlantUMLSvc.java:63)\n",
       "\tat org.omg.sysml.interactive.SysMLInteractive.viz(SysMLInteractive.java:286)\n",
       "\tat org.omg.sysml.jupyter.kernel.magic.Viz.viz(Viz.java:47)\n",
       "\tat jdk.internal.reflect.GeneratedMethodAccessor10.invoke(Unknown Source)\n",
       "\tat java.base/jdk.internal.reflect.DelegatingMethodAccessorImpl.invoke(DelegatingMethodAccessorImpl.java:43)\n",
       "\tat java.base/java.lang.reflect.Method.invoke(Method.java:568)\n",
       "\tat io.github.spencerpark.jupyter.kernel.magic.registry.Magics.invoke(Magics.java:89)\n",
       "\tat io.github.spencerpark.jupyter.kernel.magic.registry.Magics.access$000(Magics.java:8)\n",
       "\tat io.github.spencerpark.jupyter.kernel.magic.registry.Magics$LineReflectionMagicFunction.execute(Magics.java:149)\n",
       "\tat io.github.spencerpark.jupyter.kernel.magic.registry.Magics.applyLineMagic(Magics.java:26)\n",
       "\tat org.omg.sysml.jupyter.kernel.SysMLKernel.eval(SysMLKernel.java:76)\n",
       "\tat io.github.spencerpark.jupyter.kernel.BaseKernel.handleExecuteRequest(BaseKernel.java:334)\n",
       "\tat io.github.spencerpark.jupyter.channels.ShellChannel.lambda$bind$0(ShellChannel.java:64)\n",
       "\tat io.github.spencerpark.jupyter.channels.Loop.lambda$new$0(Loop.java:21)\n",
       "\tat io.github.spencerpark.jupyter.channels.Loop.run(Loop.java:78)\n"
      ]
     },
     "execution_count": 27,
     "metadata": {},
     "output_type": "execute_result"
    }
   ],
   "source": [
    "%viz --style=\"STDCOLOR\" --view=\"Action\" \"ViewTest\""
   ]
  },
  {
   "cell_type": "code",
   "execution_count": 28,
   "id": "optical-chart",
   "metadata": {
    "execution": {
     "iopub.execute_input": "2021-03-25T16:08:00.273535Z",
     "iopub.status.busy": "2021-03-25T16:08:00.272872Z",
     "iopub.status.idle": "2021-03-25T16:08:00.371330Z",
     "shell.execute_reply": "2021-03-25T16:08:00.369720Z"
    }
   },
   "outputs": [
    {
     "data": {
      "image/svg+xml": [
       "<?xml version=\"1.0\" encoding=\"UTF-8\" standalone=\"no\"?><svg xmlns=\"http://www.w3.org/2000/svg\" xmlns:xlink=\"http://www.w3.org/1999/xlink\" contentScriptType=\"application/ecmascript\" contentStyleType=\"text/css\" height=\"546px\" preserveAspectRatio=\"none\" style=\"width:318px;height:546px;\" version=\"1.1\" viewBox=\"0 0 318 546\" width=\"318px\" zoomAndPan=\"magnify\"><defs><filter height=\"300%\" id=\"fntysecm1zgjl\" width=\"300%\" x=\"-1\" y=\"-1\"><feGaussianBlur result=\"blurOut\" stdDeviation=\"2.0\"/><feColorMatrix in=\"blurOut\" result=\"blurOut2\" type=\"matrix\" values=\"0 0 0 0 0 0 0 0 0 0 0 0 0 0 0 0 0 0 .4 0\"/><feOffset dx=\"4.0\" dy=\"4.0\" in=\"blurOut2\" result=\"blurOut3\"/><feBlend in=\"SourceGraphic\" in2=\"blurOut3\" mode=\"normal\"/></filter></defs><g><!--MD5=[fbc87193dbaf4d95561dea2c320d4a47]\n",
       "cluster E1--><polygon fill=\"#FFFFFF\" filter=\"url(#fntysecm1zgjl)\" points=\"16,6,96,6,103,28.2969,296,28.2969,296,534,16,534,16,6\" style=\"stroke: #000000; stroke-width: 1.5;\"/><line style=\"stroke: #000000; stroke-width: 1.5;\" x1=\"16\" x2=\"103\" y1=\"28.2969\" y2=\"28.2969\"/><text fill=\"#000000\" font-family=\"sans-serif\" font-size=\"14\" font-weight=\"bold\" lengthAdjust=\"spacingAndGlyphs\" textLength=\"74\" x=\"20\" y=\"20.9951\">ViewTest</text><!--MD5=[09b614a08d8cba4a07c9adeb5e0fee81]\n",
       "class E3--><rect fill=\"#FEFECE\" filter=\"url(#fntysecm1zgjl)\" height=\"45.9375\" id=\"E3\" style=\"stroke: #A80036; stroke-width: 1.5;\" width=\"98\" x=\"32\" y=\"260\"/><text fill=\"#000000\" font-family=\"sans-serif\" font-size=\"12\" font-style=\"italic\" lengthAdjust=\"spacingAndGlyphs\" textLength=\"96\" x=\"33\" y=\"276.1387\">«viewpoint def»</text><text fill=\"#000000\" font-family=\"sans-serif\" font-size=\"12\" lengthAdjust=\"spacingAndGlyphs\" textLength=\"16\" x=\"73\" y=\"290.1074\">VP</text><line style=\"stroke: #A80036; stroke-width: 1.5;\" x1=\"33\" x2=\"129\" y1=\"297.9375\" y2=\"297.9375\"/><!--MD5=[ebbe1d658d1005bcc118a6aa81145e00]\n",
       "class E4--><rect fill=\"#FEFECE\" filter=\"url(#fntysecm1zgjl)\" height=\"45.9375\" id=\"E4\" style=\"stroke: #A80036; stroke-width: 1.5;\" width=\"101\" x=\"146.5\" y=\"472\"/><text fill=\"#000000\" font-family=\"sans-serif\" font-size=\"12\" font-style=\"italic\" lengthAdjust=\"spacingAndGlyphs\" textLength=\"99\" x=\"147.5\" y=\"488.1387\">«rendering def»</text><text fill=\"#000000\" font-family=\"sans-serif\" font-size=\"12\" lengthAdjust=\"spacingAndGlyphs\" textLength=\"8\" x=\"193\" y=\"502.1074\">R</text><line style=\"stroke: #A80036; stroke-width: 1.5;\" x1=\"147.5\" x2=\"246.5\" y1=\"509.9375\" y2=\"509.9375\"/><!--MD5=[270fce915f116d4de14055a7c1d9a0f3]\n",
       "class E5--><rect fill=\"#FEFECE\" filter=\"url(#fntysecm1zgjl)\" height=\"45.9375\" id=\"E5\" style=\"stroke: #A80036; stroke-width: 1.5;\" width=\"66\" x=\"161\" y=\"44.5\"/><text fill=\"#000000\" font-family=\"sans-serif\" font-size=\"12\" font-style=\"italic\" lengthAdjust=\"spacingAndGlyphs\" textLength=\"64\" x=\"162\" y=\"60.6387\">«view def»</text><text fill=\"#000000\" font-family=\"sans-serif\" font-size=\"12\" lengthAdjust=\"spacingAndGlyphs\" textLength=\"8\" x=\"190\" y=\"74.6074\">V</text><line style=\"stroke: #A80036; stroke-width: 1.5;\" x1=\"162\" x2=\"226\" y1=\"82.4375\" y2=\"82.4375\"/><!--MD5=[60a26617385b1d2d0262a64233df1f8d]\n",
       "class E6--><rect fill=\"#FEFECE\" filter=\"url(#fntysecm1zgjl)\" height=\"45.9375\" id=\"E6\" rx=\"10\" ry=\"10\" style=\"stroke: #A80036; stroke-width: 1.5;\" width=\"74\" x=\"50\" y=\"154\"/><text fill=\"#000000\" font-family=\"sans-serif\" font-size=\"12\" font-style=\"italic\" lengthAdjust=\"spacingAndGlyphs\" textLength=\"72\" x=\"51\" y=\"170.1387\">«viewpoint»</text><text fill=\"#000000\" font-family=\"sans-serif\" font-size=\"12\" lengthAdjust=\"spacingAndGlyphs\" textLength=\"38\" x=\"68\" y=\"184.1074\">vp: VP</text><line style=\"stroke: #A80036; stroke-width: 1.5;\" x1=\"51\" x2=\"123\" y1=\"191.9375\" y2=\"191.9375\"/><!--MD5=[2156ba9850f5573cc1fc38a6a4b2f02b]\n",
       "class E7--><rect fill=\"#FEFECE\" filter=\"url(#fntysecm1zgjl)\" height=\"45.9375\" id=\"E7\" rx=\"10\" ry=\"10\" style=\"stroke: #A80036; stroke-width: 1.5;\" width=\"77\" x=\"158.5\" y=\"366\"/><text fill=\"#000000\" font-family=\"sans-serif\" font-size=\"12\" font-style=\"italic\" lengthAdjust=\"spacingAndGlyphs\" textLength=\"75\" x=\"159.5\" y=\"382.1387\">«rendering»</text><text fill=\"#000000\" font-family=\"sans-serif\" font-size=\"12\" lengthAdjust=\"spacingAndGlyphs\" textLength=\"21\" x=\"186.5\" y=\"396.1074\">r: R</text><line style=\"stroke: #A80036; stroke-width: 1.5;\" x1=\"159.5\" x2=\"234.5\" y1=\"403.9375\" y2=\"403.9375\"/><!--MD5=[b9389687b975829384b498ac4b7476b2]\n",
       "class E8--><rect fill=\"#FEFECE\" filter=\"url(#fntysecm1zgjl)\" height=\"45.9375\" id=\"E8\" rx=\"10\" ry=\"10\" style=\"stroke: #A80036; stroke-width: 1.5;\" width=\"42\" x=\"202\" y=\"154\"/><text fill=\"#000000\" font-family=\"sans-serif\" font-size=\"12\" font-style=\"italic\" lengthAdjust=\"spacingAndGlyphs\" textLength=\"40\" x=\"203\" y=\"170.1387\">«view»</text><text fill=\"#000000\" font-family=\"sans-serif\" font-size=\"12\" lengthAdjust=\"spacingAndGlyphs\" textLength=\"22\" x=\"212\" y=\"184.1074\">v: V</text><line style=\"stroke: #A80036; stroke-width: 1.5;\" x1=\"203\" x2=\"243\" y1=\"191.9375\" y2=\"191.9375\"/><!--MD5=[fd4143e9d270a159db93a4ea2a975926]\n",
       "class E9--><rect fill=\"#FEFECE\" filter=\"url(#fntysecm1zgjl)\" height=\"45.9375\" id=\"E9\" rx=\"10\" ry=\"10\" style=\"stroke: #A80036; stroke-width: 1.5;\" width=\"77\" x=\"202.5\" y=\"260\"/><text fill=\"#000000\" font-family=\"sans-serif\" font-size=\"12\" font-style=\"italic\" lengthAdjust=\"spacingAndGlyphs\" textLength=\"75\" x=\"203.5\" y=\"276.1387\">«rendering»</text><text fill=\"#000000\" font-family=\"sans-serif\" font-size=\"12\" lengthAdjust=\"spacingAndGlyphs\" textLength=\"29\" x=\"226.5\" y=\"290.1074\">r1: R</text><line style=\"stroke: #A80036; stroke-width: 1.5;\" x1=\"203.5\" x2=\"278.5\" y1=\"297.9375\" y2=\"297.9375\"/><polygon fill=\"#FFFFFF\" filter=\"url(#fntysecm1zgjl)\" points=\"78,41,94,41,101,63.2969,108,63.2969,108,93.5938,78,93.5938,78,41\" style=\"stroke: #000000; stroke-width: 1.5;\"/><line style=\"stroke: #000000; stroke-width: 1.5;\" x1=\"78\" x2=\"101\" y1=\"63.2969\" y2=\"63.2969\"/><text fill=\"#000000\" font-family=\"sans-serif\" font-size=\"14\" font-weight=\"bold\" lengthAdjust=\"spacingAndGlyphs\" textLength=\"10\" x=\"82\" y=\"55.9951\">P</text><!--MD5=[85d356282659285ab4b2cfe2f634dd2b]\n",
       "reverse link E5 to E6--><path d=\"M162.51,100.14 C145.4,117.33 124.66,138.16 109.25,153.65 \" fill=\"none\" id=\"E5&lt;-E6\" style=\"stroke: #A80036; stroke-width: 1.0;\"/><polygon fill=\"#A80036\" points=\"172.09,90.51,165.0222,91.9407,163.6245,99.015,170.6923,97.5843,172.09,90.51\" style=\"stroke: #A80036; stroke-width: 1.0;\"/><!--MD5=[a717450b82c80b9240a525fa862496af]\n",
       "link E6 to E3--><path d=\"M85.73,200.06 C85.06,211.64 84.22,226.23 83.43,239.87 \" fill=\"none\" id=\"E6-&gt;E3\" style=\"stroke: #A80036; stroke-width: 1.0;\"/><polygon fill=\"#FFFFFF\" points=\"82.27,259.98,76.3669,240.6111,90.3441,241.411,82.27,259.98\" style=\"stroke: #A80036; stroke-width: 1.0;\"/><ellipse cx=\"78.6893\" cy=\"235.0347\" fill=\"#A80036\" rx=\"2\" ry=\"2\" style=\"stroke: #A80036; stroke-width: 1.0;\"/><ellipse cx=\"88.673\" cy=\"235.606\" fill=\"#A80036\" rx=\"2\" ry=\"2\" style=\"stroke: #A80036; stroke-width: 1.0;\"/><!--MD5=[6bdd27f9905911a7e892a3dc65cf6b7c]\n",
       "link E7 to E4--><path d=\"M197,412.06 C197,423.64 197,438.23 197,451.87 \" fill=\"none\" id=\"E7-&gt;E4\" style=\"stroke: #A80036; stroke-width: 1.0;\"/><polygon fill=\"#FFFFFF\" points=\"197,471.98,190,452.98,204,452.98,197,471.98\" style=\"stroke: #A80036; stroke-width: 1.0;\"/><ellipse cx=\"192\" cy=\"447.28\" fill=\"#A80036\" rx=\"2\" ry=\"2\" style=\"stroke: #A80036; stroke-width: 1.0;\"/><ellipse cx=\"202\" cy=\"447.28\" fill=\"#A80036\" rx=\"2\" ry=\"2\" style=\"stroke: #A80036; stroke-width: 1.0;\"/><!--MD5=[452b418e7f8a40397a49b8c0a78acc5b]\n",
       "reverse link E5 to E7--><path d=\"M189.45,103.79 C187.68,119.18 185.87,137.45 185,154 C181.46,221.46 180.1,238.62 185,306 C186.48,326.38 190.01,349.38 192.86,365.82 \" fill=\"none\" id=\"E5&lt;-E7\" style=\"stroke: #A80036; stroke-width: 1.0;\"/><polygon fill=\"#A80036\" points=\"191.03,90.59,186.3465,96.0731,189.6065,102.5053,194.29,97.0221,191.03,90.59\" style=\"stroke: #A80036; stroke-width: 1.0;\"/><text fill=\"#000000\" font-family=\"sans-serif\" font-size=\"13\" lengthAdjust=\"spacingAndGlyphs\" textLength=\"24\" x=\"164.7241\" y=\"355.0502\">0..1</text><!--MD5=[1ccb2481ffa92f8d51a74ee30c51832a]\n",
       "link E8 to E5--><path d=\"M228.17,153.65 C226.85,140.84 223.06,124.37 218.16,109.34 \" fill=\"none\" id=\"E8-&gt;E5\" style=\"stroke: #A80036; stroke-width: 1.0;\"/><polygon fill=\"#FFFFFF\" points=\"211.08,90.51,224.3197,105.8302,211.2157,110.758,211.08,90.51\" style=\"stroke: #A80036; stroke-width: 1.0;\"/><ellipse cx=\"224.454\" cy=\"111.8694\" fill=\"#A80036\" rx=\"2\" ry=\"2\" style=\"stroke: #A80036; stroke-width: 1.0;\"/><ellipse cx=\"215.094\" cy=\"115.3893\" fill=\"#A80036\" rx=\"2\" ry=\"2\" style=\"stroke: #A80036; stroke-width: 1.0;\"/><!--MD5=[827760032d119d06bbc92f75530fd7ae]\n",
       "reverse link E5 to E8--><path d=\"M191.42,103.56 C194.56,120.03 200.21,139.18 206.39,153.65 \" fill=\"none\" id=\"E5&lt;-E8\" style=\"stroke: #A80036; stroke-width: 1.0;\"/><polygon fill=\"#A80036\" points=\"189.42,90.51,186.3756,97.0469,191.2387,102.3714,194.2832,95.8344,189.42,90.51\" style=\"stroke: #A80036; stroke-width: 1.0;\"/><text fill=\"#000000\" font-family=\"sans-serif\" font-size=\"13\" lengthAdjust=\"spacingAndGlyphs\" textLength=\"7\" x=\"194.2368\" y=\"142.8366\">*</text><!--MD5=[cf04703ca05eebef50f1cfe8b03e143b]\n",
       "link E9 to E7--><path d=\"M231.67,306.06 C226.59,318.05 220.15,333.27 214.21,347.33 \" fill=\"none\" id=\"E9-&gt;E7\" style=\"stroke: #A80036; stroke-width: 1.0;\"/><polygon fill=\"#FFFFFF\" points=\"206.32,365.98,207.2662,345.7537,220.1625,351.2021,206.32,365.98\" style=\"stroke: #A80036; stroke-width: 1.0;\"/><line style=\"stroke: #A80036; stroke-width: 2.0;\" x1=\"208.745\" x2=\"221.6413\" y1=\"342.2532\" y2=\"347.7017\"/><!--MD5=[22f5b4bae7e060dce8a1c8021efdb95b]\n",
       "reverse link E8 to E9--><path d=\"M229.05,212.96 C231.74,228.51 234.83,246.33 237.19,259.98 \" fill=\"none\" id=\"E8&lt;-E9\" style=\"stroke: #A80036; stroke-width: 1.0;\"/><polygon fill=\"#A80036\" points=\"226.82,200.06,223.9001,206.6535,228.8633,211.8848,231.7832,205.2913,226.82,200.06\" style=\"stroke: #A80036; stroke-width: 1.0;\"/><!--MD5=[cb687bade87ced2f6b53a2ce162263ef]\n",
       "@startuml\r\n",
       "skinparam wrapWidth 300\r\n",
       "hide circle\r\n",
       "\r\n",
       "package \"ViewTest\" as E1   {\r\n",
       "package \"P\" as E2   {\r\n",
       "}\r\n",
       "comp def \"VP\" as E3  <<(T,blue)viewpoint def>> {\r\n",
       "}\r\n",
       "comp def \"R\" as E4  <<(T,blue)rendering def>> {\r\n",
       "}\r\n",
       "comp def \"V\" as E5  <<(T,blue)view def>> {\r\n",
       "}\r\n",
       "comp usage \"vp: VP\" as E6  <<(T,blue)viewpoint>> {\r\n",
       "}\r\n",
       "comp usage \"r: R\" as E7  <<(T,blue)rendering>> {\r\n",
       "}\r\n",
       "comp usage \"v: V\" as E8  <<(T,blue)view>> {\r\n",
       "}\r\n",
       "comp usage \"r1: R\" as E9  <<(T,blue)rendering>> {\r\n",
       "}\r\n",
       "E5 *- - E6\r\n",
       "E6 - -:|> E3\r\n",
       "E7 - -:|> E4\r\n",
       "E5 *- - \"0..1\"E7\r\n",
       "E8 - -:|> E5\r\n",
       "E5 *- - \"*\"E8\r\n",
       "E9 - -||> E7\r\n",
       "E8 *- - E9\r\n",
       "}\r\n",
       "@enduml\r\n",
       "\n",
       "PlantUML version 1.2020.13(Sat Jun 13 12:26:38 UTC 2020)\n",
       "(EPL source distribution)\n",
       "Java Runtime: OpenJDK Runtime Environment\n",
       "JVM: OpenJDK 64-Bit Server VM\n",
       "Default Encoding: UTF-8\n",
       "Language: en\n",
       "Country: null\n",
       "--></g></svg>"
      ]
     },
     "execution_count": 28,
     "metadata": {},
     "output_type": "execute_result"
    }
   ],
   "source": [
    "%viz --style=\"STDCOLOR\" --view=\"Sequence\" \"ViewTest\""
   ]
  },
  {
   "cell_type": "code",
   "execution_count": 29,
   "id": "vietnamese-campus",
   "metadata": {
    "execution": {
     "iopub.execute_input": "2021-03-25T16:08:00.421659Z",
     "iopub.status.busy": "2021-03-25T16:08:00.420912Z",
     "iopub.status.idle": "2021-03-25T16:08:00.516738Z",
     "shell.execute_reply": "2021-03-25T16:08:00.515359Z"
    }
   },
   "outputs": [
    {
     "data": {
      "image/svg+xml": [
       "<?xml version=\"1.0\" encoding=\"UTF-8\" standalone=\"no\"?><svg xmlns=\"http://www.w3.org/2000/svg\" xmlns:xlink=\"http://www.w3.org/1999/xlink\" contentScriptType=\"application/ecmascript\" contentStyleType=\"text/css\" height=\"546px\" preserveAspectRatio=\"none\" style=\"width:318px;height:546px;\" version=\"1.1\" viewBox=\"0 0 318 546\" width=\"318px\" zoomAndPan=\"magnify\"><defs><filter height=\"300%\" id=\"fntysecm1zgjl\" width=\"300%\" x=\"-1\" y=\"-1\"><feGaussianBlur result=\"blurOut\" stdDeviation=\"2.0\"/><feColorMatrix in=\"blurOut\" result=\"blurOut2\" type=\"matrix\" values=\"0 0 0 0 0 0 0 0 0 0 0 0 0 0 0 0 0 0 .4 0\"/><feOffset dx=\"4.0\" dy=\"4.0\" in=\"blurOut2\" result=\"blurOut3\"/><feBlend in=\"SourceGraphic\" in2=\"blurOut3\" mode=\"normal\"/></filter></defs><g><!--MD5=[fbc87193dbaf4d95561dea2c320d4a47]\n",
       "cluster E1--><polygon fill=\"#FFFFFF\" filter=\"url(#fntysecm1zgjl)\" points=\"16,6,96,6,103,28.2969,296,28.2969,296,534,16,534,16,6\" style=\"stroke: #000000; stroke-width: 1.5;\"/><line style=\"stroke: #000000; stroke-width: 1.5;\" x1=\"16\" x2=\"103\" y1=\"28.2969\" y2=\"28.2969\"/><text fill=\"#000000\" font-family=\"sans-serif\" font-size=\"14\" font-weight=\"bold\" lengthAdjust=\"spacingAndGlyphs\" textLength=\"74\" x=\"20\" y=\"20.9951\">ViewTest</text><!--MD5=[09b614a08d8cba4a07c9adeb5e0fee81]\n",
       "class E3--><rect fill=\"#FEFECE\" filter=\"url(#fntysecm1zgjl)\" height=\"45.9375\" id=\"E3\" style=\"stroke: #A80036; stroke-width: 1.5;\" width=\"98\" x=\"32\" y=\"260\"/><text fill=\"#000000\" font-family=\"sans-serif\" font-size=\"12\" font-style=\"italic\" lengthAdjust=\"spacingAndGlyphs\" textLength=\"96\" x=\"33\" y=\"276.1387\">«viewpoint def»</text><text fill=\"#000000\" font-family=\"sans-serif\" font-size=\"12\" lengthAdjust=\"spacingAndGlyphs\" textLength=\"16\" x=\"73\" y=\"290.1074\">VP</text><line style=\"stroke: #A80036; stroke-width: 1.5;\" x1=\"33\" x2=\"129\" y1=\"297.9375\" y2=\"297.9375\"/><!--MD5=[ebbe1d658d1005bcc118a6aa81145e00]\n",
       "class E4--><rect fill=\"#FEFECE\" filter=\"url(#fntysecm1zgjl)\" height=\"45.9375\" id=\"E4\" style=\"stroke: #A80036; stroke-width: 1.5;\" width=\"101\" x=\"146.5\" y=\"472\"/><text fill=\"#000000\" font-family=\"sans-serif\" font-size=\"12\" font-style=\"italic\" lengthAdjust=\"spacingAndGlyphs\" textLength=\"99\" x=\"147.5\" y=\"488.1387\">«rendering def»</text><text fill=\"#000000\" font-family=\"sans-serif\" font-size=\"12\" lengthAdjust=\"spacingAndGlyphs\" textLength=\"8\" x=\"193\" y=\"502.1074\">R</text><line style=\"stroke: #A80036; stroke-width: 1.5;\" x1=\"147.5\" x2=\"246.5\" y1=\"509.9375\" y2=\"509.9375\"/><!--MD5=[270fce915f116d4de14055a7c1d9a0f3]\n",
       "class E5--><rect fill=\"#FEFECE\" filter=\"url(#fntysecm1zgjl)\" height=\"45.9375\" id=\"E5\" style=\"stroke: #A80036; stroke-width: 1.5;\" width=\"66\" x=\"161\" y=\"44.5\"/><text fill=\"#000000\" font-family=\"sans-serif\" font-size=\"12\" font-style=\"italic\" lengthAdjust=\"spacingAndGlyphs\" textLength=\"64\" x=\"162\" y=\"60.6387\">«view def»</text><text fill=\"#000000\" font-family=\"sans-serif\" font-size=\"12\" lengthAdjust=\"spacingAndGlyphs\" textLength=\"8\" x=\"190\" y=\"74.6074\">V</text><line style=\"stroke: #A80036; stroke-width: 1.5;\" x1=\"162\" x2=\"226\" y1=\"82.4375\" y2=\"82.4375\"/><!--MD5=[60a26617385b1d2d0262a64233df1f8d]\n",
       "class E6--><rect fill=\"#FEFECE\" filter=\"url(#fntysecm1zgjl)\" height=\"45.9375\" id=\"E6\" rx=\"10\" ry=\"10\" style=\"stroke: #A80036; stroke-width: 1.5;\" width=\"74\" x=\"50\" y=\"154\"/><text fill=\"#000000\" font-family=\"sans-serif\" font-size=\"12\" font-style=\"italic\" lengthAdjust=\"spacingAndGlyphs\" textLength=\"72\" x=\"51\" y=\"170.1387\">«viewpoint»</text><text fill=\"#000000\" font-family=\"sans-serif\" font-size=\"12\" lengthAdjust=\"spacingAndGlyphs\" textLength=\"38\" x=\"68\" y=\"184.1074\">vp: VP</text><line style=\"stroke: #A80036; stroke-width: 1.5;\" x1=\"51\" x2=\"123\" y1=\"191.9375\" y2=\"191.9375\"/><!--MD5=[2156ba9850f5573cc1fc38a6a4b2f02b]\n",
       "class E7--><rect fill=\"#FEFECE\" filter=\"url(#fntysecm1zgjl)\" height=\"45.9375\" id=\"E7\" rx=\"10\" ry=\"10\" style=\"stroke: #A80036; stroke-width: 1.5;\" width=\"77\" x=\"158.5\" y=\"366\"/><text fill=\"#000000\" font-family=\"sans-serif\" font-size=\"12\" font-style=\"italic\" lengthAdjust=\"spacingAndGlyphs\" textLength=\"75\" x=\"159.5\" y=\"382.1387\">«rendering»</text><text fill=\"#000000\" font-family=\"sans-serif\" font-size=\"12\" lengthAdjust=\"spacingAndGlyphs\" textLength=\"21\" x=\"186.5\" y=\"396.1074\">r: R</text><line style=\"stroke: #A80036; stroke-width: 1.5;\" x1=\"159.5\" x2=\"234.5\" y1=\"403.9375\" y2=\"403.9375\"/><!--MD5=[b9389687b975829384b498ac4b7476b2]\n",
       "class E8--><rect fill=\"#FEFECE\" filter=\"url(#fntysecm1zgjl)\" height=\"45.9375\" id=\"E8\" rx=\"10\" ry=\"10\" style=\"stroke: #A80036; stroke-width: 1.5;\" width=\"42\" x=\"202\" y=\"154\"/><text fill=\"#000000\" font-family=\"sans-serif\" font-size=\"12\" font-style=\"italic\" lengthAdjust=\"spacingAndGlyphs\" textLength=\"40\" x=\"203\" y=\"170.1387\">«view»</text><text fill=\"#000000\" font-family=\"sans-serif\" font-size=\"12\" lengthAdjust=\"spacingAndGlyphs\" textLength=\"22\" x=\"212\" y=\"184.1074\">v: V</text><line style=\"stroke: #A80036; stroke-width: 1.5;\" x1=\"203\" x2=\"243\" y1=\"191.9375\" y2=\"191.9375\"/><!--MD5=[fd4143e9d270a159db93a4ea2a975926]\n",
       "class E9--><rect fill=\"#FEFECE\" filter=\"url(#fntysecm1zgjl)\" height=\"45.9375\" id=\"E9\" rx=\"10\" ry=\"10\" style=\"stroke: #A80036; stroke-width: 1.5;\" width=\"77\" x=\"202.5\" y=\"260\"/><text fill=\"#000000\" font-family=\"sans-serif\" font-size=\"12\" font-style=\"italic\" lengthAdjust=\"spacingAndGlyphs\" textLength=\"75\" x=\"203.5\" y=\"276.1387\">«rendering»</text><text fill=\"#000000\" font-family=\"sans-serif\" font-size=\"12\" lengthAdjust=\"spacingAndGlyphs\" textLength=\"29\" x=\"226.5\" y=\"290.1074\">r1: R</text><line style=\"stroke: #A80036; stroke-width: 1.5;\" x1=\"203.5\" x2=\"278.5\" y1=\"297.9375\" y2=\"297.9375\"/><polygon fill=\"#FFFFFF\" filter=\"url(#fntysecm1zgjl)\" points=\"78,41,94,41,101,63.2969,108,63.2969,108,93.5938,78,93.5938,78,41\" style=\"stroke: #000000; stroke-width: 1.5;\"/><line style=\"stroke: #000000; stroke-width: 1.5;\" x1=\"78\" x2=\"101\" y1=\"63.2969\" y2=\"63.2969\"/><text fill=\"#000000\" font-family=\"sans-serif\" font-size=\"14\" font-weight=\"bold\" lengthAdjust=\"spacingAndGlyphs\" textLength=\"10\" x=\"82\" y=\"55.9951\">P</text><!--MD5=[85d356282659285ab4b2cfe2f634dd2b]\n",
       "reverse link E5 to E6--><path d=\"M162.51,100.14 C145.4,117.33 124.66,138.16 109.25,153.65 \" fill=\"none\" id=\"E5&lt;-E6\" style=\"stroke: #A80036; stroke-width: 1.0;\"/><polygon fill=\"#A80036\" points=\"172.09,90.51,165.0222,91.9407,163.6245,99.015,170.6923,97.5843,172.09,90.51\" style=\"stroke: #A80036; stroke-width: 1.0;\"/><!--MD5=[a717450b82c80b9240a525fa862496af]\n",
       "link E6 to E3--><path d=\"M85.73,200.06 C85.06,211.64 84.22,226.23 83.43,239.87 \" fill=\"none\" id=\"E6-&gt;E3\" style=\"stroke: #A80036; stroke-width: 1.0;\"/><polygon fill=\"#FFFFFF\" points=\"82.27,259.98,76.3669,240.6111,90.3441,241.411,82.27,259.98\" style=\"stroke: #A80036; stroke-width: 1.0;\"/><ellipse cx=\"78.6893\" cy=\"235.0347\" fill=\"#A80036\" rx=\"2\" ry=\"2\" style=\"stroke: #A80036; stroke-width: 1.0;\"/><ellipse cx=\"88.673\" cy=\"235.606\" fill=\"#A80036\" rx=\"2\" ry=\"2\" style=\"stroke: #A80036; stroke-width: 1.0;\"/><!--MD5=[6bdd27f9905911a7e892a3dc65cf6b7c]\n",
       "link E7 to E4--><path d=\"M197,412.06 C197,423.64 197,438.23 197,451.87 \" fill=\"none\" id=\"E7-&gt;E4\" style=\"stroke: #A80036; stroke-width: 1.0;\"/><polygon fill=\"#FFFFFF\" points=\"197,471.98,190,452.98,204,452.98,197,471.98\" style=\"stroke: #A80036; stroke-width: 1.0;\"/><ellipse cx=\"192\" cy=\"447.28\" fill=\"#A80036\" rx=\"2\" ry=\"2\" style=\"stroke: #A80036; stroke-width: 1.0;\"/><ellipse cx=\"202\" cy=\"447.28\" fill=\"#A80036\" rx=\"2\" ry=\"2\" style=\"stroke: #A80036; stroke-width: 1.0;\"/><!--MD5=[452b418e7f8a40397a49b8c0a78acc5b]\n",
       "reverse link E5 to E7--><path d=\"M189.45,103.79 C187.68,119.18 185.87,137.45 185,154 C181.46,221.46 180.1,238.62 185,306 C186.48,326.38 190.01,349.38 192.86,365.82 \" fill=\"none\" id=\"E5&lt;-E7\" style=\"stroke: #A80036; stroke-width: 1.0;\"/><polygon fill=\"#A80036\" points=\"191.03,90.59,186.3465,96.0731,189.6065,102.5053,194.29,97.0221,191.03,90.59\" style=\"stroke: #A80036; stroke-width: 1.0;\"/><text fill=\"#000000\" font-family=\"sans-serif\" font-size=\"13\" lengthAdjust=\"spacingAndGlyphs\" textLength=\"24\" x=\"164.7241\" y=\"355.0502\">0..1</text><!--MD5=[1ccb2481ffa92f8d51a74ee30c51832a]\n",
       "link E8 to E5--><path d=\"M228.17,153.65 C226.85,140.84 223.06,124.37 218.16,109.34 \" fill=\"none\" id=\"E8-&gt;E5\" style=\"stroke: #A80036; stroke-width: 1.0;\"/><polygon fill=\"#FFFFFF\" points=\"211.08,90.51,224.3197,105.8302,211.2157,110.758,211.08,90.51\" style=\"stroke: #A80036; stroke-width: 1.0;\"/><ellipse cx=\"224.454\" cy=\"111.8694\" fill=\"#A80036\" rx=\"2\" ry=\"2\" style=\"stroke: #A80036; stroke-width: 1.0;\"/><ellipse cx=\"215.094\" cy=\"115.3893\" fill=\"#A80036\" rx=\"2\" ry=\"2\" style=\"stroke: #A80036; stroke-width: 1.0;\"/><!--MD5=[827760032d119d06bbc92f75530fd7ae]\n",
       "reverse link E5 to E8--><path d=\"M191.42,103.56 C194.56,120.03 200.21,139.18 206.39,153.65 \" fill=\"none\" id=\"E5&lt;-E8\" style=\"stroke: #A80036; stroke-width: 1.0;\"/><polygon fill=\"#A80036\" points=\"189.42,90.51,186.3756,97.0469,191.2387,102.3714,194.2832,95.8344,189.42,90.51\" style=\"stroke: #A80036; stroke-width: 1.0;\"/><text fill=\"#000000\" font-family=\"sans-serif\" font-size=\"13\" lengthAdjust=\"spacingAndGlyphs\" textLength=\"7\" x=\"194.2368\" y=\"142.8366\">*</text><!--MD5=[cf04703ca05eebef50f1cfe8b03e143b]\n",
       "link E9 to E7--><path d=\"M231.67,306.06 C226.59,318.05 220.15,333.27 214.21,347.33 \" fill=\"none\" id=\"E9-&gt;E7\" style=\"stroke: #A80036; stroke-width: 1.0;\"/><polygon fill=\"#FFFFFF\" points=\"206.32,365.98,207.2662,345.7537,220.1625,351.2021,206.32,365.98\" style=\"stroke: #A80036; stroke-width: 1.0;\"/><line style=\"stroke: #A80036; stroke-width: 2.0;\" x1=\"208.745\" x2=\"221.6413\" y1=\"342.2532\" y2=\"347.7017\"/><!--MD5=[22f5b4bae7e060dce8a1c8021efdb95b]\n",
       "reverse link E8 to E9--><path d=\"M229.05,212.96 C231.74,228.51 234.83,246.33 237.19,259.98 \" fill=\"none\" id=\"E8&lt;-E9\" style=\"stroke: #A80036; stroke-width: 1.0;\"/><polygon fill=\"#A80036\" points=\"226.82,200.06,223.9001,206.6535,228.8633,211.8848,231.7832,205.2913,226.82,200.06\" style=\"stroke: #A80036; stroke-width: 1.0;\"/><!--MD5=[cb687bade87ced2f6b53a2ce162263ef]\n",
       "@startuml\r\n",
       "skinparam wrapWidth 300\r\n",
       "hide circle\r\n",
       "\r\n",
       "package \"ViewTest\" as E1   {\r\n",
       "package \"P\" as E2   {\r\n",
       "}\r\n",
       "comp def \"VP\" as E3  <<(T,blue)viewpoint def>> {\r\n",
       "}\r\n",
       "comp def \"R\" as E4  <<(T,blue)rendering def>> {\r\n",
       "}\r\n",
       "comp def \"V\" as E5  <<(T,blue)view def>> {\r\n",
       "}\r\n",
       "comp usage \"vp: VP\" as E6  <<(T,blue)viewpoint>> {\r\n",
       "}\r\n",
       "comp usage \"r: R\" as E7  <<(T,blue)rendering>> {\r\n",
       "}\r\n",
       "comp usage \"v: V\" as E8  <<(T,blue)view>> {\r\n",
       "}\r\n",
       "comp usage \"r1: R\" as E9  <<(T,blue)rendering>> {\r\n",
       "}\r\n",
       "E5 *- - E6\r\n",
       "E6 - -:|> E3\r\n",
       "E7 - -:|> E4\r\n",
       "E5 *- - \"0..1\"E7\r\n",
       "E8 - -:|> E5\r\n",
       "E5 *- - \"*\"E8\r\n",
       "E9 - -||> E7\r\n",
       "E8 *- - E9\r\n",
       "}\r\n",
       "@enduml\r\n",
       "\n",
       "PlantUML version 1.2020.13(Sat Jun 13 12:26:38 UTC 2020)\n",
       "(EPL source distribution)\n",
       "Java Runtime: OpenJDK Runtime Environment\n",
       "JVM: OpenJDK 64-Bit Server VM\n",
       "Default Encoding: UTF-8\n",
       "Language: en\n",
       "Country: null\n",
       "--></g></svg>"
      ]
     },
     "execution_count": 29,
     "metadata": {},
     "output_type": "execute_result"
    }
   ],
   "source": [
    "%viz --style=\"STDCOLOR\" --view=\"MIXED\" \"ViewTest\""
   ]
  },
  {
   "cell_type": "code",
   "execution_count": 30,
   "id": "relevant-desperate",
   "metadata": {
    "execution": {
     "iopub.execute_input": "2021-03-25T16:08:00.566727Z",
     "iopub.status.busy": "2021-03-25T16:08:00.566352Z",
     "iopub.status.idle": "2021-03-25T16:08:00.675715Z",
     "shell.execute_reply": "2021-03-25T16:08:00.674332Z"
    }
   },
   "outputs": [
    {
     "data": {
      "image/svg+xml": [
       "<?xml version=\"1.0\" encoding=\"UTF-8\" standalone=\"no\"?><svg xmlns=\"http://www.w3.org/2000/svg\" xmlns:xlink=\"http://www.w3.org/1999/xlink\" contentScriptType=\"application/ecmascript\" contentStyleType=\"text/css\" height=\"540px\" preserveAspectRatio=\"none\" style=\"width:334px;height:540px;\" version=\"1.1\" viewBox=\"0 0 334 540\" width=\"334px\" zoomAndPan=\"magnify\"><defs><filter height=\"300%\" id=\"f1qgiaiokt020o\" width=\"300%\" x=\"-1\" y=\"-1\"><feGaussianBlur result=\"blurOut\" stdDeviation=\"2.0\"/><feColorMatrix in=\"blurOut\" result=\"blurOut2\" type=\"matrix\" values=\"0 0 0 0 0 0 0 0 0 0 0 0 0 0 0 0 0 0 .4 0\"/><feOffset dx=\"4.0\" dy=\"4.0\" in=\"blurOut2\" result=\"blurOut3\"/><feBlend in=\"SourceGraphic\" in2=\"blurOut3\" mode=\"normal\"/></filter></defs><g><!--MD5=[fbc87193dbaf4d95561dea2c320d4a47]\n",
       "cluster E1--><polygon fill=\"#FFFFFF\" filter=\"url(#f1qgiaiokt020o)\" points=\"16,6,96,6,103,28.2969,312,28.2969,312,528,16,528,16,6\" style=\"stroke: #000000; stroke-width: 1.5;\"/><line style=\"stroke: #000000; stroke-width: 1.5;\" x1=\"16\" x2=\"103\" y1=\"28.2969\" y2=\"28.2969\"/><text fill=\"#000000\" font-family=\"sans-serif\" font-size=\"14\" font-weight=\"bold\" lengthAdjust=\"spacingAndGlyphs\" textLength=\"74\" x=\"20\" y=\"20.9951\">ViewTest</text><!--MD5=[09b614a08d8cba4a07c9adeb5e0fee81]\n",
       "class E3--><rect fill=\"#FEFECE\" filter=\"url(#f1qgiaiokt020o)\" height=\"45.9375\" id=\"E3\" style=\"stroke: #A80036; stroke-width: 1.5;\" width=\"124\" x=\"32\" y=\"260\"/><ellipse cx=\"47\" cy=\"278.9688\" fill=\"#A52A2A\" rx=\"11\" ry=\"11\" style=\"stroke: #A80036; stroke-width: 1.0;\"/><path d=\"M46.5938,274.7813 L46.5938,282.7656 L47.25,282.7656 Q48.6875,282.7656 49.2969,281.8594 Q49.9219,280.9375 49.9219,278.7656 Q49.9219,276.5938 49.2969,275.6875 Q48.6875,274.7813 47.25,274.7813 L46.5938,274.7813 Z M44.1406,272.5781 L46.7656,272.5781 Q49.7969,272.5781 51.125,274.0313 Q52.4688,275.4688 52.4688,278.7656 Q52.4688,282.0625 51.125,283.5156 Q49.7969,284.9688 46.7656,284.9688 L44.1406,284.9688 L44.1406,272.5781 Z \"/><text fill=\"#000000\" font-family=\"sans-serif\" font-size=\"12\" font-style=\"italic\" lengthAdjust=\"spacingAndGlyphs\" textLength=\"96\" x=\"59\" y=\"276.1387\">«viewpoint def»</text><text fill=\"#000000\" font-family=\"sans-serif\" font-size=\"12\" lengthAdjust=\"spacingAndGlyphs\" textLength=\"16\" x=\"99\" y=\"290.1074\">VP</text><line style=\"stroke: #A80036; stroke-width: 1.5;\" x1=\"33\" x2=\"155\" y1=\"297.9375\" y2=\"297.9375\"/><!--MD5=[ebbe1d658d1005bcc118a6aa81145e00]\n",
       "class E4--><rect fill=\"#FEFECE\" filter=\"url(#f1qgiaiokt020o)\" height=\"40\" id=\"E4\" style=\"stroke: #A80036; stroke-width: 1.5;\" width=\"40\" x=\"207\" y=\"472\"/><ellipse cx=\"222\" cy=\"488\" fill=\"#008000\" rx=\"11\" ry=\"11\" style=\"stroke: #A80036; stroke-width: 1.0;\"/><path d=\"M220.9063,488.375 L220.9063,492.0469 L222.5313,492.0469 Q223.7031,492.0469 224.1719,491.6563 Q224.6406,491.25 224.6406,490.25 Q224.6406,489.25 224.1406,488.8125 Q223.6563,488.375 222.5313,488.375 L220.9063,488.375 Z M220.9063,483.5469 L220.9063,486.4219 L222.5313,486.4219 Q223.4531,486.4219 223.8438,486.0938 Q224.25,485.75 224.25,485 Q224.25,484.2344 223.8438,483.8906 Q223.4375,483.5469 222.5313,483.5469 L220.9063,483.5469 Z M218.5313,481.5938 L222.5313,481.5938 Q224.5938,481.5938 225.6406,482.375 Q226.6875,483.1563 226.6875,484.7188 Q226.6875,485.9219 226.0625,486.5938 Q225.4531,487.2656 224.2656,487.375 Q225.6875,487.5156 226.4063,488.3281 Q227.125,489.1406 227.125,490.5938 Q227.125,492.3906 226.0469,493.2031 Q224.9688,494 222.5313,494 L218.5313,494 L218.5313,481.5938 Z \"/><text fill=\"#000000\" font-family=\"sans-serif\" font-size=\"12\" lengthAdjust=\"spacingAndGlyphs\" textLength=\"8\" x=\"236\" y=\"492.1543\">R</text><line style=\"stroke: #A80036; stroke-width: 1.5;\" x1=\"208\" x2=\"246\" y1=\"504\" y2=\"504\"/><!--MD5=[270fce915f116d4de14055a7c1d9a0f3]\n",
       "class E5--><rect fill=\"#FEFECE\" filter=\"url(#f1qgiaiokt020o)\" height=\"40\" id=\"E5\" style=\"stroke: #A80036; stroke-width: 1.5;\" width=\"40\" x=\"207\" y=\"47.5\"/><ellipse cx=\"222\" cy=\"63.5\" fill=\"#008000\" rx=\"11\" ry=\"11\" style=\"stroke: #A80036; stroke-width: 1.0;\"/><path d=\"M220.9063,63.875 L220.9063,67.5469 L222.5313,67.5469 Q223.7031,67.5469 224.1719,67.1563 Q224.6406,66.75 224.6406,65.75 Q224.6406,64.75 224.1406,64.3125 Q223.6563,63.875 222.5313,63.875 L220.9063,63.875 Z M220.9063,59.0469 L220.9063,61.9219 L222.5313,61.9219 Q223.4531,61.9219 223.8438,61.5938 Q224.25,61.25 224.25,60.5 Q224.25,59.7344 223.8438,59.3906 Q223.4375,59.0469 222.5313,59.0469 L220.9063,59.0469 Z M218.5313,57.0938 L222.5313,57.0938 Q224.5938,57.0938 225.6406,57.875 Q226.6875,58.6563 226.6875,60.2188 Q226.6875,61.4219 226.0625,62.0938 Q225.4531,62.7656 224.2656,62.875 Q225.6875,63.0156 226.4063,63.8281 Q227.125,64.6406 227.125,66.0938 Q227.125,67.8906 226.0469,68.7031 Q224.9688,69.5 222.5313,69.5 L218.5313,69.5 L218.5313,57.0938 Z \"/><text fill=\"#000000\" font-family=\"sans-serif\" font-size=\"12\" lengthAdjust=\"spacingAndGlyphs\" textLength=\"8\" x=\"236\" y=\"67.6543\">V</text><line style=\"stroke: #A80036; stroke-width: 1.5;\" x1=\"208\" x2=\"246\" y1=\"79.5\" y2=\"79.5\"/><!--MD5=[60a26617385b1d2d0262a64233df1f8d]\n",
       "class E6--><rect fill=\"#FEFECE\" filter=\"url(#f1qgiaiokt020o)\" height=\"45.9375\" id=\"E6\" rx=\"10\" ry=\"10\" style=\"stroke: #A80036; stroke-width: 1.5;\" width=\"100\" x=\"50\" y=\"154\"/><ellipse cx=\"65\" cy=\"172.9688\" fill=\"#FFA500\" rx=\"11\" ry=\"11\" style=\"stroke: #A80036; stroke-width: 1.0;\"/><path d=\"M60.875,174.8906 L60.875,167.0781 L63.3281,167.0781 L63.3281,175.5156 Q63.3281,176.4375 63.7969,176.9688 Q64.2813,177.5 65.1094,177.5 Q65.9531,177.5 66.4219,176.9688 Q66.8906,176.4375 66.8906,175.5156 L66.8906,167.0781 L69.3438,167.0781 L69.3438,174.8906 Q69.3438,177.4219 68.3438,178.5625 Q67.3438,179.7031 65.1094,179.7031 Q62.8906,179.7031 61.875,178.5625 Q60.875,177.4219 60.875,174.8906 Z \"/><text fill=\"#000000\" font-family=\"sans-serif\" font-size=\"12\" font-style=\"italic\" lengthAdjust=\"spacingAndGlyphs\" textLength=\"72\" x=\"77\" y=\"170.1387\">«viewpoint»</text><text fill=\"#000000\" font-family=\"sans-serif\" font-size=\"12\" lengthAdjust=\"spacingAndGlyphs\" textLength=\"38\" x=\"94\" y=\"184.1074\">vp: VP</text><line style=\"stroke: #A80036; stroke-width: 1.5;\" x1=\"51\" x2=\"149\" y1=\"191.9375\" y2=\"191.9375\"/><!--MD5=[2156ba9850f5573cc1fc38a6a4b2f02b]\n",
       "class E7--><rect fill=\"#FEFECE\" filter=\"url(#f1qgiaiokt020o)\" height=\"45.9375\" id=\"E7\" rx=\"10\" ry=\"10\" style=\"stroke: #A80036; stroke-width: 1.5;\" width=\"68\" x=\"193\" y=\"366\"/><ellipse cx=\"208\" cy=\"384.9688\" fill=\"#32CD32\" rx=\"11\" ry=\"11\" style=\"stroke: #A80036; stroke-width: 1.0;\"/><path d=\"M207.7969,380.6406 L207.7969,384.2656 L208.7969,384.2656 Q210,384.2656 210.4844,383.8594 Q210.9688,383.4531 210.9688,382.4531 Q210.9688,381.4531 210.4844,381.0469 Q210,380.6406 208.7969,380.6406 L207.7969,380.6406 Z M205.3438,378.5781 L208.7031,378.5781 Q211.2656,378.5781 212.3906,379.5 Q213.5156,380.4063 213.5156,382.4531 Q213.5156,384.5 212.3906,385.4219 Q211.2656,386.3281 208.7031,386.3281 L207.7969,386.3281 L207.7969,390.9688 L205.3438,390.9688 L205.3438,378.5781 Z \"/><text fill=\"#000000\" font-family=\"sans-serif\" font-size=\"12\" font-style=\"italic\" lengthAdjust=\"spacingAndGlyphs\" textLength=\"40\" x=\"220\" y=\"382.1387\">«part»</text><text fill=\"#000000\" font-family=\"sans-serif\" font-size=\"12\" lengthAdjust=\"spacingAndGlyphs\" textLength=\"21\" x=\"229.5\" y=\"396.1074\">r: R</text><line style=\"stroke: #A80036; stroke-width: 1.5;\" x1=\"194\" x2=\"260\" y1=\"403.9375\" y2=\"403.9375\"/><!--MD5=[b9389687b975829384b498ac4b7476b2]\n",
       "class E8--><rect fill=\"#FEFECE\" filter=\"url(#f1qgiaiokt020o)\" height=\"45.9375\" id=\"E8\" rx=\"10\" ry=\"10\" style=\"stroke: #A80036; stroke-width: 1.5;\" width=\"68\" x=\"228\" y=\"154\"/><ellipse cx=\"243\" cy=\"172.9688\" fill=\"#32CD32\" rx=\"11\" ry=\"11\" style=\"stroke: #A80036; stroke-width: 1.0;\"/><path d=\"M242.7969,168.6406 L242.7969,172.2656 L243.7969,172.2656 Q245,172.2656 245.4844,171.8594 Q245.9688,171.4531 245.9688,170.4531 Q245.9688,169.4531 245.4844,169.0469 Q245,168.6406 243.7969,168.6406 L242.7969,168.6406 Z M240.3438,166.5781 L243.7031,166.5781 Q246.2656,166.5781 247.3906,167.5 Q248.5156,168.4063 248.5156,170.4531 Q248.5156,172.5 247.3906,173.4219 Q246.2656,174.3281 243.7031,174.3281 L242.7969,174.3281 L242.7969,178.9688 L240.3438,178.9688 L240.3438,166.5781 Z \"/><text fill=\"#000000\" font-family=\"sans-serif\" font-size=\"12\" font-style=\"italic\" lengthAdjust=\"spacingAndGlyphs\" textLength=\"40\" x=\"255\" y=\"170.1387\">«part»</text><text fill=\"#000000\" font-family=\"sans-serif\" font-size=\"12\" lengthAdjust=\"spacingAndGlyphs\" textLength=\"22\" x=\"264\" y=\"184.1074\">v: V</text><line style=\"stroke: #A80036; stroke-width: 1.5;\" x1=\"229\" x2=\"295\" y1=\"191.9375\" y2=\"191.9375\"/><!--MD5=[fd4143e9d270a159db93a4ea2a975926]\n",
       "class E9--><rect fill=\"#FEFECE\" filter=\"url(#f1qgiaiokt020o)\" height=\"45.9375\" id=\"E9\" rx=\"10\" ry=\"10\" style=\"stroke: #A80036; stroke-width: 1.5;\" width=\"68\" x=\"228\" y=\"260\"/><ellipse cx=\"243\" cy=\"278.9688\" fill=\"#32CD32\" rx=\"11\" ry=\"11\" style=\"stroke: #A80036; stroke-width: 1.0;\"/><path d=\"M242.7969,274.6406 L242.7969,278.2656 L243.7969,278.2656 Q245,278.2656 245.4844,277.8594 Q245.9688,277.4531 245.9688,276.4531 Q245.9688,275.4531 245.4844,275.0469 Q245,274.6406 243.7969,274.6406 L242.7969,274.6406 Z M240.3438,272.5781 L243.7031,272.5781 Q246.2656,272.5781 247.3906,273.5 Q248.5156,274.4063 248.5156,276.4531 Q248.5156,278.5 247.3906,279.4219 Q246.2656,280.3281 243.7031,280.3281 L242.7969,280.3281 L242.7969,284.9688 L240.3438,284.9688 L240.3438,272.5781 Z \"/><text fill=\"#000000\" font-family=\"sans-serif\" font-size=\"12\" font-style=\"italic\" lengthAdjust=\"spacingAndGlyphs\" textLength=\"40\" x=\"255\" y=\"276.1387\">«part»</text><text fill=\"#000000\" font-family=\"sans-serif\" font-size=\"12\" lengthAdjust=\"spacingAndGlyphs\" textLength=\"29\" x=\"260.5\" y=\"290.1074\">r1: R</text><line style=\"stroke: #A80036; stroke-width: 1.5;\" x1=\"229\" x2=\"295\" y1=\"297.9375\" y2=\"297.9375\"/><polygon fill=\"#FFFFFF\" filter=\"url(#f1qgiaiokt020o)\" points=\"105,41,121,41,128,63.2969,135,63.2969,135,93.5938,105,93.5938,105,41\" style=\"stroke: #000000; stroke-width: 1.5;\"/><line style=\"stroke: #000000; stroke-width: 1.5;\" x1=\"105\" x2=\"128\" y1=\"63.2969\" y2=\"63.2969\"/><text fill=\"#000000\" font-family=\"sans-serif\" font-size=\"14\" font-weight=\"bold\" lengthAdjust=\"spacingAndGlyphs\" textLength=\"10\" x=\"109\" y=\"55.9951\">P</text><!--MD5=[85d356282659285ab4b2cfe2f634dd2b]\n",
       "reverse link E5 to E6--><path d=\"M196.67,94.18 C175.19,112.35 146.68,136.49 126.19,153.83 \" fill=\"none\" id=\"E5&lt;-E6\" style=\"stroke: #A80036; stroke-width: 1.0;\"/><polygon fill=\"#A80036\" points=\"206.88,85.53,199.7159,86.3516,197.7189,93.2807,204.883,92.4591,206.88,85.53\" style=\"stroke: #A80036; stroke-width: 1.0;\"/><!--MD5=[a717450b82c80b9240a525fa862496af]\n",
       "link E6 to E3--><path d=\"M98.73,200.06 C98.06,211.64 97.22,226.23 96.43,239.87 \" fill=\"none\" id=\"E6-&gt;E3\" style=\"stroke: #A80036; stroke-width: 1.0;\"/><polygon fill=\"#FFFFFF\" points=\"95.27,259.98,89.3669,240.6111,103.3441,241.411,95.27,259.98\" style=\"stroke: #A80036; stroke-width: 1.0;\"/><ellipse cx=\"91.6893\" cy=\"235.0347\" fill=\"#A80036\" rx=\"2\" ry=\"2\" style=\"stroke: #A80036; stroke-width: 1.0;\"/><ellipse cx=\"101.673\" cy=\"235.606\" fill=\"#A80036\" rx=\"2\" ry=\"2\" style=\"stroke: #A80036; stroke-width: 1.0;\"/><!--MD5=[6bdd27f9905911a7e892a3dc65cf6b7c]\n",
       "link E7 to E4--><path d=\"M227,412.42 C227,423.95 227,438.34 227,451.65 \" fill=\"none\" id=\"E7-&gt;E4\" style=\"stroke: #A80036; stroke-width: 1.0;\"/><polygon fill=\"#FFFFFF\" points=\"227,471.71,220,452.71,234,452.71,227,471.71\" style=\"stroke: #A80036; stroke-width: 1.0;\"/><ellipse cx=\"222\" cy=\"447.01\" fill=\"#A80036\" rx=\"2\" ry=\"2\" style=\"stroke: #A80036; stroke-width: 1.0;\"/><ellipse cx=\"232\" cy=\"447.01\" fill=\"#A80036\" rx=\"2\" ry=\"2\" style=\"stroke: #A80036; stroke-width: 1.0;\"/><!--MD5=[452b418e7f8a40397a49b8c0a78acc5b]\n",
       "reverse link E5 to E7--><path d=\"M219.53,100.65 C216.19,116.59 212.65,136.21 211,154 C204.76,221.27 204.5,238.76 211,306 C212.98,326.5 217.69,349.49 221.49,365.9 \" fill=\"none\" id=\"E5&lt;-E7\" style=\"stroke: #A80036; stroke-width: 1.0;\"/><polygon fill=\"#A80036\" points=\"222.35,87.71,217.1627,92.7192,219.7915,99.4341,224.9788,94.4249,222.35,87.71\" style=\"stroke: #A80036; stroke-width: 1.0;\"/><text fill=\"#000000\" font-family=\"sans-serif\" font-size=\"13\" lengthAdjust=\"spacingAndGlyphs\" textLength=\"24\" x=\"192.7842\" y=\"354.7694\">0..1</text><!--MD5=[1ccb2481ffa92f8d51a74ee30c51832a]\n",
       "link E8 to E5--><path d=\"M265.97,153.98 C263.82,140.2 258.52,122.08 252.17,106.07 \" fill=\"none\" id=\"E8-&gt;E5\" style=\"stroke: #A80036; stroke-width: 1.0;\"/><polygon fill=\"#FFFFFF\" points=\"243.89,87.72,258.0873,102.1573,245.3272,107.9174,243.89,87.72\" style=\"stroke: #A80036; stroke-width: 1.0;\"/><ellipse cx=\"258.6096\" cy=\"108.1754\" fill=\"#A80036\" rx=\"2\" ry=\"2\" style=\"stroke: #A80036; stroke-width: 1.0;\"/><ellipse cx=\"249.4952\" cy=\"112.2897\" fill=\"#A80036\" rx=\"2\" ry=\"2\" style=\"stroke: #A80036; stroke-width: 1.0;\"/><!--MD5=[827760032d119d06bbc92f75530fd7ae]\n",
       "reverse link E5 to E8--><path d=\"M225.67,100.6 C229.65,117.82 236.84,138.6 244.31,153.98 \" fill=\"none\" id=\"E5&lt;-E8\" style=\"stroke: #A80036; stroke-width: 1.0;\"/><polygon fill=\"#A80036\" points=\"223.22,87.72,220.4113,94.3616,225.4617,99.5088,228.2704,92.8671,223.22,87.72\" style=\"stroke: #A80036; stroke-width: 1.0;\"/><text fill=\"#000000\" font-family=\"sans-serif\" font-size=\"13\" lengthAdjust=\"spacingAndGlyphs\" textLength=\"7\" x=\"231.6152\" y=\"142.8709\">*</text><!--MD5=[cf04703ca05eebef50f1cfe8b03e143b]\n",
       "link E9 to E7--><path d=\"M254.58,306.06 C250.59,317.91 245.54,332.92 240.85,346.85 \" fill=\"none\" id=\"E9-&gt;E7\" style=\"stroke: #A80036; stroke-width: 1.0;\"/><polygon fill=\"#FFFFFF\" points=\"234.41,365.98,233.8278,345.7399,247.0984,350.2001,234.41,365.98\" style=\"stroke: #A80036; stroke-width: 1.0;\"/><line style=\"stroke: #A80036; stroke-width: 2.0;\" x1=\"235.0385\" x2=\"248.309\" y1=\"342.1379\" y2=\"346.5981\"/><!--MD5=[22f5b4bae7e060dce8a1c8021efdb95b]\n",
       "reverse link E8 to E9--><path d=\"M262,213.44 C262,228.87 262,246.47 262,259.98 \" fill=\"none\" id=\"E8&lt;-E9\" style=\"stroke: #A80036; stroke-width: 1.0;\"/><polygon fill=\"#A80036\" points=\"262,200.06,258,206.06,262,212.06,266,206.06,262,200.06\" style=\"stroke: #A80036; stroke-width: 1.0;\"/><!--MD5=[c7db2955c9fec9082117c21c30ebbae7]\n",
       "@startuml\r\n",
       " \r\n",
       "package \"ViewTest\" as E1   {\r\n",
       "package \"P\" as E2   {\r\n",
       "}\r\n",
       "comp def \"VP\" as E3  <<(D,brown)viewpoint def>> {\r\n",
       "}\r\n",
       "comp def \"R\" as E4  << (B,green) >> {\r\n",
       "}\r\n",
       "comp def \"V\" as E5  << (B,green) >> {\r\n",
       "}\r\n",
       "comp usage \"vp: VP\" as E6  <<(U,orange)viewpoint>> {\r\n",
       "}\r\n",
       "comp usage \"r: R\" as E7  << (P,limegreen) part>> {\r\n",
       "}\r\n",
       "comp usage \"v: V\" as E8  << (P,limegreen) part>> {\r\n",
       "}\r\n",
       "comp usage \"r1: R\" as E9  << (P,limegreen) part>> {\r\n",
       "}\r\n",
       "E5 *- - E6\r\n",
       "E6 - -:|> E3\r\n",
       "E7 - -:|> E4\r\n",
       "E5 *- - \"0..1\"E7\r\n",
       "E8 - -:|> E5\r\n",
       "E5 *- - \"*\"E8\r\n",
       "E9 - -||> E7\r\n",
       "E8 *- - E9\r\n",
       "}\r\n",
       "@enduml\r\n",
       "\n",
       "PlantUML version 1.2020.13(Sat Jun 13 12:26:38 UTC 2020)\n",
       "(EPL source distribution)\n",
       "Java Runtime: OpenJDK Runtime Environment\n",
       "JVM: OpenJDK 64-Bit Server VM\n",
       "Default Encoding: UTF-8\n",
       "Language: en\n",
       "Country: null\n",
       "--></g></svg>"
      ]
     },
     "execution_count": 30,
     "metadata": {},
     "output_type": "execute_result"
    }
   ],
   "source": [
    "%viz --style=\"PLANTUML\" --view=\"Default\" \"ViewTest\""
   ]
  },
  {
   "cell_type": "code",
   "execution_count": 31,
   "id": "adjusted-slovakia",
   "metadata": {
    "execution": {
     "iopub.execute_input": "2021-03-25T16:08:00.725960Z",
     "iopub.status.busy": "2021-03-25T16:08:00.725480Z",
     "iopub.status.idle": "2021-03-25T16:08:00.806089Z",
     "shell.execute_reply": "2021-03-25T16:08:00.804800Z"
    }
   },
   "outputs": [
    {
     "data": {
      "image/svg+xml": [
       "<?xml version=\"1.0\" encoding=\"UTF-8\" standalone=\"no\"?><svg xmlns=\"http://www.w3.org/2000/svg\" xmlns:xlink=\"http://www.w3.org/1999/xlink\" contentScriptType=\"application/ecmascript\" contentStyleType=\"text/css\" height=\"540px\" preserveAspectRatio=\"none\" style=\"width:334px;height:540px;\" version=\"1.1\" viewBox=\"0 0 334 540\" width=\"334px\" zoomAndPan=\"magnify\"><defs><filter height=\"300%\" id=\"f1qgiaiokt020o\" width=\"300%\" x=\"-1\" y=\"-1\"><feGaussianBlur result=\"blurOut\" stdDeviation=\"2.0\"/><feColorMatrix in=\"blurOut\" result=\"blurOut2\" type=\"matrix\" values=\"0 0 0 0 0 0 0 0 0 0 0 0 0 0 0 0 0 0 .4 0\"/><feOffset dx=\"4.0\" dy=\"4.0\" in=\"blurOut2\" result=\"blurOut3\"/><feBlend in=\"SourceGraphic\" in2=\"blurOut3\" mode=\"normal\"/></filter></defs><g><!--MD5=[fbc87193dbaf4d95561dea2c320d4a47]\n",
       "cluster E1--><polygon fill=\"#FFFFFF\" filter=\"url(#f1qgiaiokt020o)\" points=\"16,6,96,6,103,28.2969,312,28.2969,312,528,16,528,16,6\" style=\"stroke: #000000; stroke-width: 1.5;\"/><line style=\"stroke: #000000; stroke-width: 1.5;\" x1=\"16\" x2=\"103\" y1=\"28.2969\" y2=\"28.2969\"/><text fill=\"#000000\" font-family=\"sans-serif\" font-size=\"14\" font-weight=\"bold\" lengthAdjust=\"spacingAndGlyphs\" textLength=\"74\" x=\"20\" y=\"20.9951\">ViewTest</text><!--MD5=[09b614a08d8cba4a07c9adeb5e0fee81]\n",
       "class E3--><rect fill=\"#FEFECE\" filter=\"url(#f1qgiaiokt020o)\" height=\"45.9375\" id=\"E3\" style=\"stroke: #A80036; stroke-width: 1.5;\" width=\"124\" x=\"32\" y=\"260\"/><ellipse cx=\"47\" cy=\"278.9688\" fill=\"#A52A2A\" rx=\"11\" ry=\"11\" style=\"stroke: #A80036; stroke-width: 1.0;\"/><path d=\"M46.5938,274.7813 L46.5938,282.7656 L47.25,282.7656 Q48.6875,282.7656 49.2969,281.8594 Q49.9219,280.9375 49.9219,278.7656 Q49.9219,276.5938 49.2969,275.6875 Q48.6875,274.7813 47.25,274.7813 L46.5938,274.7813 Z M44.1406,272.5781 L46.7656,272.5781 Q49.7969,272.5781 51.125,274.0313 Q52.4688,275.4688 52.4688,278.7656 Q52.4688,282.0625 51.125,283.5156 Q49.7969,284.9688 46.7656,284.9688 L44.1406,284.9688 L44.1406,272.5781 Z \"/><text fill=\"#000000\" font-family=\"sans-serif\" font-size=\"12\" font-style=\"italic\" lengthAdjust=\"spacingAndGlyphs\" textLength=\"96\" x=\"59\" y=\"276.1387\">«viewpoint def»</text><text fill=\"#000000\" font-family=\"sans-serif\" font-size=\"12\" lengthAdjust=\"spacingAndGlyphs\" textLength=\"16\" x=\"99\" y=\"290.1074\">VP</text><line style=\"stroke: #A80036; stroke-width: 1.5;\" x1=\"33\" x2=\"155\" y1=\"297.9375\" y2=\"297.9375\"/><!--MD5=[ebbe1d658d1005bcc118a6aa81145e00]\n",
       "class E4--><rect fill=\"#FEFECE\" filter=\"url(#f1qgiaiokt020o)\" height=\"40\" id=\"E4\" style=\"stroke: #A80036; stroke-width: 1.5;\" width=\"40\" x=\"207\" y=\"472\"/><ellipse cx=\"222\" cy=\"488\" fill=\"#008000\" rx=\"11\" ry=\"11\" style=\"stroke: #A80036; stroke-width: 1.0;\"/><path d=\"M220.9063,488.375 L220.9063,492.0469 L222.5313,492.0469 Q223.7031,492.0469 224.1719,491.6563 Q224.6406,491.25 224.6406,490.25 Q224.6406,489.25 224.1406,488.8125 Q223.6563,488.375 222.5313,488.375 L220.9063,488.375 Z M220.9063,483.5469 L220.9063,486.4219 L222.5313,486.4219 Q223.4531,486.4219 223.8438,486.0938 Q224.25,485.75 224.25,485 Q224.25,484.2344 223.8438,483.8906 Q223.4375,483.5469 222.5313,483.5469 L220.9063,483.5469 Z M218.5313,481.5938 L222.5313,481.5938 Q224.5938,481.5938 225.6406,482.375 Q226.6875,483.1563 226.6875,484.7188 Q226.6875,485.9219 226.0625,486.5938 Q225.4531,487.2656 224.2656,487.375 Q225.6875,487.5156 226.4063,488.3281 Q227.125,489.1406 227.125,490.5938 Q227.125,492.3906 226.0469,493.2031 Q224.9688,494 222.5313,494 L218.5313,494 L218.5313,481.5938 Z \"/><text fill=\"#000000\" font-family=\"sans-serif\" font-size=\"12\" lengthAdjust=\"spacingAndGlyphs\" textLength=\"8\" x=\"236\" y=\"492.1543\">R</text><line style=\"stroke: #A80036; stroke-width: 1.5;\" x1=\"208\" x2=\"246\" y1=\"504\" y2=\"504\"/><!--MD5=[270fce915f116d4de14055a7c1d9a0f3]\n",
       "class E5--><rect fill=\"#FEFECE\" filter=\"url(#f1qgiaiokt020o)\" height=\"40\" id=\"E5\" style=\"stroke: #A80036; stroke-width: 1.5;\" width=\"40\" x=\"207\" y=\"47.5\"/><ellipse cx=\"222\" cy=\"63.5\" fill=\"#008000\" rx=\"11\" ry=\"11\" style=\"stroke: #A80036; stroke-width: 1.0;\"/><path d=\"M220.9063,63.875 L220.9063,67.5469 L222.5313,67.5469 Q223.7031,67.5469 224.1719,67.1563 Q224.6406,66.75 224.6406,65.75 Q224.6406,64.75 224.1406,64.3125 Q223.6563,63.875 222.5313,63.875 L220.9063,63.875 Z M220.9063,59.0469 L220.9063,61.9219 L222.5313,61.9219 Q223.4531,61.9219 223.8438,61.5938 Q224.25,61.25 224.25,60.5 Q224.25,59.7344 223.8438,59.3906 Q223.4375,59.0469 222.5313,59.0469 L220.9063,59.0469 Z M218.5313,57.0938 L222.5313,57.0938 Q224.5938,57.0938 225.6406,57.875 Q226.6875,58.6563 226.6875,60.2188 Q226.6875,61.4219 226.0625,62.0938 Q225.4531,62.7656 224.2656,62.875 Q225.6875,63.0156 226.4063,63.8281 Q227.125,64.6406 227.125,66.0938 Q227.125,67.8906 226.0469,68.7031 Q224.9688,69.5 222.5313,69.5 L218.5313,69.5 L218.5313,57.0938 Z \"/><text fill=\"#000000\" font-family=\"sans-serif\" font-size=\"12\" lengthAdjust=\"spacingAndGlyphs\" textLength=\"8\" x=\"236\" y=\"67.6543\">V</text><line style=\"stroke: #A80036; stroke-width: 1.5;\" x1=\"208\" x2=\"246\" y1=\"79.5\" y2=\"79.5\"/><!--MD5=[60a26617385b1d2d0262a64233df1f8d]\n",
       "class E6--><rect fill=\"#FEFECE\" filter=\"url(#f1qgiaiokt020o)\" height=\"45.9375\" id=\"E6\" rx=\"10\" ry=\"10\" style=\"stroke: #A80036; stroke-width: 1.5;\" width=\"100\" x=\"50\" y=\"154\"/><ellipse cx=\"65\" cy=\"172.9688\" fill=\"#FFA500\" rx=\"11\" ry=\"11\" style=\"stroke: #A80036; stroke-width: 1.0;\"/><path d=\"M60.875,174.8906 L60.875,167.0781 L63.3281,167.0781 L63.3281,175.5156 Q63.3281,176.4375 63.7969,176.9688 Q64.2813,177.5 65.1094,177.5 Q65.9531,177.5 66.4219,176.9688 Q66.8906,176.4375 66.8906,175.5156 L66.8906,167.0781 L69.3438,167.0781 L69.3438,174.8906 Q69.3438,177.4219 68.3438,178.5625 Q67.3438,179.7031 65.1094,179.7031 Q62.8906,179.7031 61.875,178.5625 Q60.875,177.4219 60.875,174.8906 Z \"/><text fill=\"#000000\" font-family=\"sans-serif\" font-size=\"12\" font-style=\"italic\" lengthAdjust=\"spacingAndGlyphs\" textLength=\"72\" x=\"77\" y=\"170.1387\">«viewpoint»</text><text fill=\"#000000\" font-family=\"sans-serif\" font-size=\"12\" lengthAdjust=\"spacingAndGlyphs\" textLength=\"38\" x=\"94\" y=\"184.1074\">vp: VP</text><line style=\"stroke: #A80036; stroke-width: 1.5;\" x1=\"51\" x2=\"149\" y1=\"191.9375\" y2=\"191.9375\"/><!--MD5=[2156ba9850f5573cc1fc38a6a4b2f02b]\n",
       "class E7--><rect fill=\"#FEFECE\" filter=\"url(#f1qgiaiokt020o)\" height=\"45.9375\" id=\"E7\" rx=\"10\" ry=\"10\" style=\"stroke: #A80036; stroke-width: 1.5;\" width=\"68\" x=\"193\" y=\"366\"/><ellipse cx=\"208\" cy=\"384.9688\" fill=\"#32CD32\" rx=\"11\" ry=\"11\" style=\"stroke: #A80036; stroke-width: 1.0;\"/><path d=\"M207.7969,380.6406 L207.7969,384.2656 L208.7969,384.2656 Q210,384.2656 210.4844,383.8594 Q210.9688,383.4531 210.9688,382.4531 Q210.9688,381.4531 210.4844,381.0469 Q210,380.6406 208.7969,380.6406 L207.7969,380.6406 Z M205.3438,378.5781 L208.7031,378.5781 Q211.2656,378.5781 212.3906,379.5 Q213.5156,380.4063 213.5156,382.4531 Q213.5156,384.5 212.3906,385.4219 Q211.2656,386.3281 208.7031,386.3281 L207.7969,386.3281 L207.7969,390.9688 L205.3438,390.9688 L205.3438,378.5781 Z \"/><text fill=\"#000000\" font-family=\"sans-serif\" font-size=\"12\" font-style=\"italic\" lengthAdjust=\"spacingAndGlyphs\" textLength=\"40\" x=\"220\" y=\"382.1387\">«part»</text><text fill=\"#000000\" font-family=\"sans-serif\" font-size=\"12\" lengthAdjust=\"spacingAndGlyphs\" textLength=\"21\" x=\"229.5\" y=\"396.1074\">r: R</text><line style=\"stroke: #A80036; stroke-width: 1.5;\" x1=\"194\" x2=\"260\" y1=\"403.9375\" y2=\"403.9375\"/><!--MD5=[b9389687b975829384b498ac4b7476b2]\n",
       "class E8--><rect fill=\"#FEFECE\" filter=\"url(#f1qgiaiokt020o)\" height=\"45.9375\" id=\"E8\" rx=\"10\" ry=\"10\" style=\"stroke: #A80036; stroke-width: 1.5;\" width=\"68\" x=\"228\" y=\"154\"/><ellipse cx=\"243\" cy=\"172.9688\" fill=\"#32CD32\" rx=\"11\" ry=\"11\" style=\"stroke: #A80036; stroke-width: 1.0;\"/><path d=\"M242.7969,168.6406 L242.7969,172.2656 L243.7969,172.2656 Q245,172.2656 245.4844,171.8594 Q245.9688,171.4531 245.9688,170.4531 Q245.9688,169.4531 245.4844,169.0469 Q245,168.6406 243.7969,168.6406 L242.7969,168.6406 Z M240.3438,166.5781 L243.7031,166.5781 Q246.2656,166.5781 247.3906,167.5 Q248.5156,168.4063 248.5156,170.4531 Q248.5156,172.5 247.3906,173.4219 Q246.2656,174.3281 243.7031,174.3281 L242.7969,174.3281 L242.7969,178.9688 L240.3438,178.9688 L240.3438,166.5781 Z \"/><text fill=\"#000000\" font-family=\"sans-serif\" font-size=\"12\" font-style=\"italic\" lengthAdjust=\"spacingAndGlyphs\" textLength=\"40\" x=\"255\" y=\"170.1387\">«part»</text><text fill=\"#000000\" font-family=\"sans-serif\" font-size=\"12\" lengthAdjust=\"spacingAndGlyphs\" textLength=\"22\" x=\"264\" y=\"184.1074\">v: V</text><line style=\"stroke: #A80036; stroke-width: 1.5;\" x1=\"229\" x2=\"295\" y1=\"191.9375\" y2=\"191.9375\"/><!--MD5=[fd4143e9d270a159db93a4ea2a975926]\n",
       "class E9--><rect fill=\"#FEFECE\" filter=\"url(#f1qgiaiokt020o)\" height=\"45.9375\" id=\"E9\" rx=\"10\" ry=\"10\" style=\"stroke: #A80036; stroke-width: 1.5;\" width=\"68\" x=\"228\" y=\"260\"/><ellipse cx=\"243\" cy=\"278.9688\" fill=\"#32CD32\" rx=\"11\" ry=\"11\" style=\"stroke: #A80036; stroke-width: 1.0;\"/><path d=\"M242.7969,274.6406 L242.7969,278.2656 L243.7969,278.2656 Q245,278.2656 245.4844,277.8594 Q245.9688,277.4531 245.9688,276.4531 Q245.9688,275.4531 245.4844,275.0469 Q245,274.6406 243.7969,274.6406 L242.7969,274.6406 Z M240.3438,272.5781 L243.7031,272.5781 Q246.2656,272.5781 247.3906,273.5 Q248.5156,274.4063 248.5156,276.4531 Q248.5156,278.5 247.3906,279.4219 Q246.2656,280.3281 243.7031,280.3281 L242.7969,280.3281 L242.7969,284.9688 L240.3438,284.9688 L240.3438,272.5781 Z \"/><text fill=\"#000000\" font-family=\"sans-serif\" font-size=\"12\" font-style=\"italic\" lengthAdjust=\"spacingAndGlyphs\" textLength=\"40\" x=\"255\" y=\"276.1387\">«part»</text><text fill=\"#000000\" font-family=\"sans-serif\" font-size=\"12\" lengthAdjust=\"spacingAndGlyphs\" textLength=\"29\" x=\"260.5\" y=\"290.1074\">r1: R</text><line style=\"stroke: #A80036; stroke-width: 1.5;\" x1=\"229\" x2=\"295\" y1=\"297.9375\" y2=\"297.9375\"/><polygon fill=\"#FFFFFF\" filter=\"url(#f1qgiaiokt020o)\" points=\"105,41,121,41,128,63.2969,135,63.2969,135,93.5938,105,93.5938,105,41\" style=\"stroke: #000000; stroke-width: 1.5;\"/><line style=\"stroke: #000000; stroke-width: 1.5;\" x1=\"105\" x2=\"128\" y1=\"63.2969\" y2=\"63.2969\"/><text fill=\"#000000\" font-family=\"sans-serif\" font-size=\"14\" font-weight=\"bold\" lengthAdjust=\"spacingAndGlyphs\" textLength=\"10\" x=\"109\" y=\"55.9951\">P</text><!--MD5=[85d356282659285ab4b2cfe2f634dd2b]\n",
       "reverse link E5 to E6--><path d=\"M196.67,94.18 C175.19,112.35 146.68,136.49 126.19,153.83 \" fill=\"none\" id=\"E5&lt;-E6\" style=\"stroke: #A80036; stroke-width: 1.0;\"/><polygon fill=\"#A80036\" points=\"206.88,85.53,199.7159,86.3516,197.7189,93.2807,204.883,92.4591,206.88,85.53\" style=\"stroke: #A80036; stroke-width: 1.0;\"/><!--MD5=[a717450b82c80b9240a525fa862496af]\n",
       "link E6 to E3--><path d=\"M98.73,200.06 C98.06,211.64 97.22,226.23 96.43,239.87 \" fill=\"none\" id=\"E6-&gt;E3\" style=\"stroke: #A80036; stroke-width: 1.0;\"/><polygon fill=\"#FFFFFF\" points=\"95.27,259.98,89.3669,240.6111,103.3441,241.411,95.27,259.98\" style=\"stroke: #A80036; stroke-width: 1.0;\"/><ellipse cx=\"91.6893\" cy=\"235.0347\" fill=\"#A80036\" rx=\"2\" ry=\"2\" style=\"stroke: #A80036; stroke-width: 1.0;\"/><ellipse cx=\"101.673\" cy=\"235.606\" fill=\"#A80036\" rx=\"2\" ry=\"2\" style=\"stroke: #A80036; stroke-width: 1.0;\"/><!--MD5=[6bdd27f9905911a7e892a3dc65cf6b7c]\n",
       "link E7 to E4--><path d=\"M227,412.42 C227,423.95 227,438.34 227,451.65 \" fill=\"none\" id=\"E7-&gt;E4\" style=\"stroke: #A80036; stroke-width: 1.0;\"/><polygon fill=\"#FFFFFF\" points=\"227,471.71,220,452.71,234,452.71,227,471.71\" style=\"stroke: #A80036; stroke-width: 1.0;\"/><ellipse cx=\"222\" cy=\"447.01\" fill=\"#A80036\" rx=\"2\" ry=\"2\" style=\"stroke: #A80036; stroke-width: 1.0;\"/><ellipse cx=\"232\" cy=\"447.01\" fill=\"#A80036\" rx=\"2\" ry=\"2\" style=\"stroke: #A80036; stroke-width: 1.0;\"/><!--MD5=[452b418e7f8a40397a49b8c0a78acc5b]\n",
       "reverse link E5 to E7--><path d=\"M219.53,100.65 C216.19,116.59 212.65,136.21 211,154 C204.76,221.27 204.5,238.76 211,306 C212.98,326.5 217.69,349.49 221.49,365.9 \" fill=\"none\" id=\"E5&lt;-E7\" style=\"stroke: #A80036; stroke-width: 1.0;\"/><polygon fill=\"#A80036\" points=\"222.35,87.71,217.1627,92.7192,219.7915,99.4341,224.9788,94.4249,222.35,87.71\" style=\"stroke: #A80036; stroke-width: 1.0;\"/><text fill=\"#000000\" font-family=\"sans-serif\" font-size=\"13\" lengthAdjust=\"spacingAndGlyphs\" textLength=\"24\" x=\"192.7842\" y=\"354.7694\">0..1</text><!--MD5=[1ccb2481ffa92f8d51a74ee30c51832a]\n",
       "link E8 to E5--><path d=\"M265.97,153.98 C263.82,140.2 258.52,122.08 252.17,106.07 \" fill=\"none\" id=\"E8-&gt;E5\" style=\"stroke: #A80036; stroke-width: 1.0;\"/><polygon fill=\"#FFFFFF\" points=\"243.89,87.72,258.0873,102.1573,245.3272,107.9174,243.89,87.72\" style=\"stroke: #A80036; stroke-width: 1.0;\"/><ellipse cx=\"258.6096\" cy=\"108.1754\" fill=\"#A80036\" rx=\"2\" ry=\"2\" style=\"stroke: #A80036; stroke-width: 1.0;\"/><ellipse cx=\"249.4952\" cy=\"112.2897\" fill=\"#A80036\" rx=\"2\" ry=\"2\" style=\"stroke: #A80036; stroke-width: 1.0;\"/><!--MD5=[827760032d119d06bbc92f75530fd7ae]\n",
       "reverse link E5 to E8--><path d=\"M225.67,100.6 C229.65,117.82 236.84,138.6 244.31,153.98 \" fill=\"none\" id=\"E5&lt;-E8\" style=\"stroke: #A80036; stroke-width: 1.0;\"/><polygon fill=\"#A80036\" points=\"223.22,87.72,220.4113,94.3616,225.4617,99.5088,228.2704,92.8671,223.22,87.72\" style=\"stroke: #A80036; stroke-width: 1.0;\"/><text fill=\"#000000\" font-family=\"sans-serif\" font-size=\"13\" lengthAdjust=\"spacingAndGlyphs\" textLength=\"7\" x=\"231.6152\" y=\"142.8709\">*</text><!--MD5=[cf04703ca05eebef50f1cfe8b03e143b]\n",
       "link E9 to E7--><path d=\"M254.58,306.06 C250.59,317.91 245.54,332.92 240.85,346.85 \" fill=\"none\" id=\"E9-&gt;E7\" style=\"stroke: #A80036; stroke-width: 1.0;\"/><polygon fill=\"#FFFFFF\" points=\"234.41,365.98,233.8278,345.7399,247.0984,350.2001,234.41,365.98\" style=\"stroke: #A80036; stroke-width: 1.0;\"/><line style=\"stroke: #A80036; stroke-width: 2.0;\" x1=\"235.0385\" x2=\"248.309\" y1=\"342.1379\" y2=\"346.5981\"/><!--MD5=[22f5b4bae7e060dce8a1c8021efdb95b]\n",
       "reverse link E8 to E9--><path d=\"M262,213.44 C262,228.87 262,246.47 262,259.98 \" fill=\"none\" id=\"E8&lt;-E9\" style=\"stroke: #A80036; stroke-width: 1.0;\"/><polygon fill=\"#A80036\" points=\"262,200.06,258,206.06,262,212.06,266,206.06,262,200.06\" style=\"stroke: #A80036; stroke-width: 1.0;\"/><!--MD5=[c7db2955c9fec9082117c21c30ebbae7]\n",
       "@startuml\r\n",
       " \r\n",
       "package \"ViewTest\" as E1   {\r\n",
       "package \"P\" as E2   {\r\n",
       "}\r\n",
       "comp def \"VP\" as E3  <<(D,brown)viewpoint def>> {\r\n",
       "}\r\n",
       "comp def \"R\" as E4  << (B,green) >> {\r\n",
       "}\r\n",
       "comp def \"V\" as E5  << (B,green) >> {\r\n",
       "}\r\n",
       "comp usage \"vp: VP\" as E6  <<(U,orange)viewpoint>> {\r\n",
       "}\r\n",
       "comp usage \"r: R\" as E7  << (P,limegreen) part>> {\r\n",
       "}\r\n",
       "comp usage \"v: V\" as E8  << (P,limegreen) part>> {\r\n",
       "}\r\n",
       "comp usage \"r1: R\" as E9  << (P,limegreen) part>> {\r\n",
       "}\r\n",
       "E5 *- - E6\r\n",
       "E6 - -:|> E3\r\n",
       "E7 - -:|> E4\r\n",
       "E5 *- - \"0..1\"E7\r\n",
       "E8 - -:|> E5\r\n",
       "E5 *- - \"*\"E8\r\n",
       "E9 - -||> E7\r\n",
       "E8 *- - E9\r\n",
       "}\r\n",
       "@enduml\r\n",
       "\n",
       "PlantUML version 1.2020.13(Sat Jun 13 12:26:38 UTC 2020)\n",
       "(EPL source distribution)\n",
       "Java Runtime: OpenJDK Runtime Environment\n",
       "JVM: OpenJDK 64-Bit Server VM\n",
       "Default Encoding: UTF-8\n",
       "Language: en\n",
       "Country: null\n",
       "--></g></svg>"
      ]
     },
     "execution_count": 31,
     "metadata": {},
     "output_type": "execute_result"
    }
   ],
   "source": [
    "%viz --style=\"PLANTUML\" --view=\"Tree\" \"ViewTest\""
   ]
  },
  {
   "cell_type": "code",
   "execution_count": 32,
   "id": "infectious-timeline",
   "metadata": {
    "execution": {
     "iopub.execute_input": "2021-03-25T16:08:00.856679Z",
     "iopub.status.busy": "2021-03-25T16:08:00.856223Z",
     "iopub.status.idle": "2021-03-25T16:08:00.857915Z",
     "shell.execute_reply": "2021-03-25T16:08:00.858353Z"
    }
   },
   "outputs": [
    {
     "data": {
      "text/plain": [
       "java.lang.IllegalArgumentException: Invalid View: State View candidates are: Default Tree StateMachine Interconnection Activity Sequence MIXED \n",
       "\tat org.omg.sysml.plantuml.SysML2PlantUMLSvc.setView(SysML2PlantUMLSvc.java:63)\n",
       "\tat org.omg.sysml.interactive.SysMLInteractive.viz(SysMLInteractive.java:286)\n",
       "\tat org.omg.sysml.jupyter.kernel.magic.Viz.viz(Viz.java:47)\n",
       "\tat jdk.internal.reflect.GeneratedMethodAccessor10.invoke(Unknown Source)\n",
       "\tat java.base/jdk.internal.reflect.DelegatingMethodAccessorImpl.invoke(DelegatingMethodAccessorImpl.java:43)\n",
       "\tat java.base/java.lang.reflect.Method.invoke(Method.java:568)\n",
       "\tat io.github.spencerpark.jupyter.kernel.magic.registry.Magics.invoke(Magics.java:89)\n",
       "\tat io.github.spencerpark.jupyter.kernel.magic.registry.Magics.access$000(Magics.java:8)\n",
       "\tat io.github.spencerpark.jupyter.kernel.magic.registry.Magics$LineReflectionMagicFunction.execute(Magics.java:149)\n",
       "\tat io.github.spencerpark.jupyter.kernel.magic.registry.Magics.applyLineMagic(Magics.java:26)\n",
       "\tat org.omg.sysml.jupyter.kernel.SysMLKernel.eval(SysMLKernel.java:76)\n",
       "\tat io.github.spencerpark.jupyter.kernel.BaseKernel.handleExecuteRequest(BaseKernel.java:334)\n",
       "\tat io.github.spencerpark.jupyter.channels.ShellChannel.lambda$bind$0(ShellChannel.java:64)\n",
       "\tat io.github.spencerpark.jupyter.channels.Loop.lambda$new$0(Loop.java:21)\n",
       "\tat io.github.spencerpark.jupyter.channels.Loop.run(Loop.java:78)\n"
      ]
     },
     "execution_count": 32,
     "metadata": {},
     "output_type": "execute_result"
    }
   ],
   "source": [
    "%viz --style=\"PLANTUML\" --view=\"State\" \"ViewTest\""
   ]
  },
  {
   "cell_type": "code",
   "execution_count": 33,
   "id": "stable-incident",
   "metadata": {
    "execution": {
     "iopub.execute_input": "2021-03-25T16:08:00.911496Z",
     "iopub.status.busy": "2021-03-25T16:08:00.910960Z",
     "iopub.status.idle": "2021-03-25T16:08:01.018816Z",
     "shell.execute_reply": "2021-03-25T16:08:01.017650Z"
    }
   },
   "outputs": [
    {
     "data": {
      "image/svg+xml": [
       "<?xml version=\"1.0\" encoding=\"UTF-8\" standalone=\"no\"?><svg xmlns=\"http://www.w3.org/2000/svg\" xmlns:xlink=\"http://www.w3.org/1999/xlink\" contentScriptType=\"application/ecmascript\" contentStyleType=\"text/css\" height=\"288px\" preserveAspectRatio=\"none\" style=\"width:929px;height:288px;\" version=\"1.1\" viewBox=\"0 0 929 288\" width=\"929px\" zoomAndPan=\"magnify\"><defs><filter height=\"300%\" id=\"f108icqns7n7ev\" width=\"300%\" x=\"-1\" y=\"-1\"><feGaussianBlur result=\"blurOut\" stdDeviation=\"2.0\"/><feColorMatrix in=\"blurOut\" result=\"blurOut2\" type=\"matrix\" values=\"0 0 0 0 0 0 0 0 0 0 0 0 0 0 0 0 0 0 .4 0\"/><feOffset dx=\"4.0\" dy=\"4.0\" in=\"blurOut2\" result=\"blurOut3\"/><feBlend in=\"SourceGraphic\" in2=\"blurOut3\" mode=\"normal\"/></filter></defs><g><!--MD5=[fbc87193dbaf4d95561dea2c320d4a47]\n",
       "cluster E1--><polygon fill=\"#FFFFFF\" filter=\"url(#f108icqns7n7ev)\" points=\"16,6,96,6,103,28.2969,907,28.2969,907,276,16,276,16,6\" style=\"stroke: #000000; stroke-width: 1.5;\"/><line style=\"stroke: #000000; stroke-width: 1.5;\" x1=\"16\" x2=\"103\" y1=\"28.2969\" y2=\"28.2969\"/><text fill=\"#000000\" font-family=\"sans-serif\" font-size=\"14\" font-weight=\"bold\" lengthAdjust=\"spacingAndGlyphs\" textLength=\"74\" x=\"20\" y=\"20.9951\">ViewTest</text><!--MD5=[de5ec2e2e8f62f467e546659f5068c88]\n",
       "cluster E5--><rect fill=\"#FFFFFF\" filter=\"url(#f108icqns7n7ev)\" height=\"203\" style=\"stroke: #000000; stroke-width: 1.5;\" width=\"476\" x=\"407\" y=\"49\"/><text fill=\"#000000\" font-family=\"sans-serif\" font-size=\"14\" font-style=\"italic\" lengthAdjust=\"spacingAndGlyphs\" textLength=\"74\" x=\"608\" y=\"63.9951\">«view def»</text><text fill=\"#000000\" font-family=\"sans-serif\" font-size=\"14\" font-weight=\"bold\" lengthAdjust=\"spacingAndGlyphs\" textLength=\"11\" x=\"639.5\" y=\"80.292\">V</text><!--MD5=[14e3b0961a2654348d326746436168a1]\n",
       "cluster E6--><rect fill=\"#FEFECE\" filter=\"url(#f108icqns7n7ev)\" height=\"120\" rx=\"12.5\" ry=\"12.5\" style=\"stroke: #000000; stroke-width: 1.5;\" width=\"142\" x=\"717\" y=\"108\"/><rect fill=\"#FFFFFF\" height=\"87.7031\" rx=\"12.5\" ry=\"12.5\" style=\"stroke: #FFFFFF; stroke-width: 1.0;\" width=\"136\" x=\"720\" y=\"137.2969\"/><line style=\"stroke: #000000; stroke-width: 1.5;\" x1=\"717\" x2=\"859\" y1=\"134.2969\" y2=\"134.2969\"/><text fill=\"#000000\" font-family=\"sans-serif\" font-size=\"14\" lengthAdjust=\"spacingAndGlyphs\" textLength=\"43\" x=\"746.5\" y=\"124.9951\">vp: VP</text><!--MD5=[7f149f147074ac12df2cb0a7728a5fb0]\n",
       "cluster E9--><rect fill=\"#FEFECE\" filter=\"url(#f108icqns7n7ev)\" height=\"104\" rx=\"12.5\" ry=\"12.5\" style=\"stroke: #000000; stroke-width: 1.5;\" width=\"110\" x=\"583\" y=\"124\"/><rect fill=\"#FFFFFF\" height=\"71.7031\" rx=\"12.5\" ry=\"12.5\" style=\"stroke: #FFFFFF; stroke-width: 1.0;\" width=\"104\" x=\"586\" y=\"153.2969\"/><line style=\"stroke: #000000; stroke-width: 1.5;\" x1=\"583\" x2=\"693\" y1=\"150.2969\" y2=\"150.2969\"/><text fill=\"#000000\" font-family=\"sans-serif\" font-size=\"14\" lengthAdjust=\"spacingAndGlyphs\" textLength=\"25\" x=\"625.5\" y=\"140.9951\">v: V</text><!--MD5=[09b614a08d8cba4a07c9adeb5e0fee81]\n",
       "class E3--><rect fill=\"#FEFECE\" filter=\"url(#f108icqns7n7ev)\" height=\"53.9375\" id=\"E3\" style=\"stroke: #A80036; stroke-width: 1.5;\" width=\"124\" x=\"264\" y=\"158.5\"/><ellipse cx=\"279\" cy=\"177.4688\" fill=\"#ADD1B2\" rx=\"11\" ry=\"11\" style=\"stroke: #A80036; stroke-width: 1.0;\"/><path d=\"M281.9688,183.1094 Q281.3906,183.4063 280.75,183.5469 Q280.1094,183.7031 279.4063,183.7031 Q276.9063,183.7031 275.5781,182.0625 Q274.2656,180.4063 274.2656,177.2813 Q274.2656,174.1563 275.5781,172.5 Q276.9063,170.8438 279.4063,170.8438 Q280.1094,170.8438 280.75,171 Q281.4063,171.1563 281.9688,171.4531 L281.9688,174.1719 Q281.3438,173.5938 280.75,173.3281 Q280.1563,173.0469 279.5313,173.0469 Q278.1875,173.0469 277.5,174.125 Q276.8125,175.1875 276.8125,177.2813 Q276.8125,179.375 277.5,180.4531 Q278.1875,181.5156 279.5313,181.5156 Q280.1563,181.5156 280.75,181.25 Q281.3438,180.9688 281.9688,180.3906 L281.9688,183.1094 Z \"/><text fill=\"#000000\" font-family=\"sans-serif\" font-size=\"12\" font-style=\"italic\" lengthAdjust=\"spacingAndGlyphs\" textLength=\"96\" x=\"291\" y=\"174.6387\">«viewpoint def»</text><text fill=\"#000000\" font-family=\"sans-serif\" font-size=\"12\" lengthAdjust=\"spacingAndGlyphs\" textLength=\"16\" x=\"331\" y=\"188.6074\">VP</text><line style=\"stroke: #A80036; stroke-width: 1.5;\" x1=\"265\" x2=\"387\" y1=\"196.4375\" y2=\"196.4375\"/><line style=\"stroke: #A80036; stroke-width: 1.5;\" x1=\"265\" x2=\"387\" y1=\"204.4375\" y2=\"204.4375\"/><polygon fill=\"#FFFFFF\" filter=\"url(#f108icqns7n7ev)\" points=\"199,159,215,159,222,181.2969,229,181.2969,229,211.5938,199,211.5938,199,159\" style=\"stroke: #000000; stroke-width: 1.5;\"/><line style=\"stroke: #000000; stroke-width: 1.5;\" x1=\"199\" x2=\"222\" y1=\"181.2969\" y2=\"181.2969\"/><text fill=\"#000000\" font-family=\"sans-serif\" font-size=\"14\" font-weight=\"bold\" lengthAdjust=\"spacingAndGlyphs\" textLength=\"10\" x=\"203\" y=\"173.9951\">P</text><!--MD5=[961cefdc15414eaa3e87aec9d17c2188]\n",
       "entity E4--><rect fill=\"#FFFFFF\" filter=\"url(#f108icqns7n7ev)\" height=\"52.5938\" style=\"stroke: #000000; stroke-width: 1.5;\" width=\"131\" x=\"32.5\" y=\"159\"/><text fill=\"#000000\" font-family=\"sans-serif\" font-size=\"14\" font-style=\"italic\" lengthAdjust=\"spacingAndGlyphs\" textLength=\"111\" x=\"42.5\" y=\"181.9951\">«rendering def»</text><text fill=\"#000000\" font-family=\"sans-serif\" font-size=\"14\" lengthAdjust=\"spacingAndGlyphs\" textLength=\"10\" x=\"93\" y=\"198.292\">R</text><g id=\"E1.E5.E6.E7\"><rect fill=\"#FFFFFF\" filter=\"url(#f108icqns7n7ev)\" height=\"52.5938\" rx=\"12.5\" ry=\"12.5\" style=\"stroke: #A80036; stroke-width: 1.5;\" width=\"110\" x=\"733\" y=\"159\"/><line style=\"stroke: #A80036; stroke-width: 1.5;\" x1=\"733\" x2=\"843\" y1=\"201.5938\" y2=\"201.5938\"/><text fill=\"#000000\" font-family=\"sans-serif\" font-size=\"14\" lengthAdjust=\"spacingAndGlyphs\" textLength=\"70\" x=\"753\" y=\"176.9951\">subj: View</text><text fill=\"#000000\" font-family=\"sans-serif\" font-size=\"14\" font-style=\"italic\" lengthAdjust=\"spacingAndGlyphs\" textLength=\"86\" x=\"743\" y=\"193.292\">:&gt;&gt;VP::subj</text><text fill=\"#000000\" font-family=\"sans-serif\" font-size=\"14\" lengthAdjust=\"spacingAndGlyphs\" textLength=\"0\" x=\"833\" y=\"193.292\"/></g><g id=\"E1.E5.E8\"><rect fill=\"#FFFFFF\" filter=\"url(#f108icqns7n7ev)\" height=\"52.5938\" rx=\"12.5\" ry=\"12.5\" style=\"stroke: #A80036; stroke-width: 1.5;\" width=\"141\" x=\"423.5\" y=\"159\"/><line style=\"stroke: #A80036; stroke-width: 1.5;\" x1=\"423.5\" x2=\"564.5\" y1=\"201.5938\" y2=\"201.5938\"/><text fill=\"#000000\" font-family=\"sans-serif\" font-size=\"14\" lengthAdjust=\"spacingAndGlyphs\" textLength=\"24\" x=\"482\" y=\"176.9951\">r: R</text><text fill=\"#000000\" font-family=\"sans-serif\" font-size=\"14\" font-style=\"italic\" lengthAdjust=\"spacingAndGlyphs\" textLength=\"117\" x=\"433.5\" y=\"193.292\">:&gt;&gt;View::render</text><text fill=\"#000000\" font-family=\"sans-serif\" font-size=\"14\" lengthAdjust=\"spacingAndGlyphs\" textLength=\"0\" x=\"554.5\" y=\"193.292\"/></g><g id=\"E1.E5.E9.E10\"><rect fill=\"#FFFFFF\" filter=\"url(#f108icqns7n7ev)\" height=\"52.5938\" rx=\"12.5\" ry=\"12.5\" style=\"stroke: #A80036; stroke-width: 1.5;\" width=\"77\" x=\"599.5\" y=\"159\"/><line style=\"stroke: #A80036; stroke-width: 1.5;\" x1=\"599.5\" x2=\"676.5\" y1=\"201.5938\" y2=\"201.5938\"/><text fill=\"#000000\" font-family=\"sans-serif\" font-size=\"14\" lengthAdjust=\"spacingAndGlyphs\" textLength=\"33\" x=\"621.5\" y=\"176.9951\">r1: R</text><text fill=\"#000000\" font-family=\"sans-serif\" font-size=\"14\" font-style=\"italic\" lengthAdjust=\"spacingAndGlyphs\" textLength=\"53\" x=\"609.5\" y=\"193.292\">:&gt;&gt;V::r</text><text fill=\"#000000\" font-family=\"sans-serif\" font-size=\"14\" lengthAdjust=\"spacingAndGlyphs\" textLength=\"0\" x=\"666.5\" y=\"193.292\"/></g><!--MD5=[364ecfbe4186610ec0092583698216e6]\n",
       "@startuml\r\n",
       "skinparam ranksep 8\r\n",
       "skinparam rectangle {\r\n",
       " backgroundColor<<block>> LightGreen\r\n",
       "}\r\n",
       " \r\n",
       "package \"ViewTest\" as E1   {\r\n",
       "package \"P\" as E2   {\r\n",
       "}\r\n",
       "def \"VP\" as E3  <<viewpoint def>> \r\n",
       "rec def \"R\" as E4  <<rendering def>> {\r\n",
       "}\r\n",
       "rec def \"V\" as E5  <<view def>> {\r\n",
       "rec usage \"vp: VP\" as E6  <<viewpoint>> {\r\n",
       "rec usage \"subj: View\\n//:>>VP::subj// \" as E7  <<reference>> {\r\n",
       "}\r\n",
       "}\r\n",
       "rec usage \"r: R\\n//:>>View::render// \" as E8  {\r\n",
       "}\r\n",
       "rec usage \"v: V\" as E9  {\r\n",
       "rec usage \"r1: R\\n//:>>V::r// \" as E10  {\r\n",
       "}\r\n",
       "}\r\n",
       "}\r\n",
       "}\r\n",
       "@enduml\r\n",
       "\n",
       "PlantUML version 1.2020.13(Sat Jun 13 12:26:38 UTC 2020)\n",
       "(EPL source distribution)\n",
       "Java Runtime: OpenJDK Runtime Environment\n",
       "JVM: OpenJDK 64-Bit Server VM\n",
       "Default Encoding: UTF-8\n",
       "Language: en\n",
       "Country: null\n",
       "--></g></svg>"
      ]
     },
     "execution_count": 33,
     "metadata": {},
     "output_type": "execute_result"
    }
   ],
   "source": [
    "%viz --style=\"PLANTUML\" --view=\"Interconnection\" \"ViewTest\""
   ]
  },
  {
   "cell_type": "code",
   "execution_count": 34,
   "id": "adult-trick",
   "metadata": {
    "execution": {
     "iopub.execute_input": "2021-03-25T16:08:01.072353Z",
     "iopub.status.busy": "2021-03-25T16:08:01.071117Z",
     "iopub.status.idle": "2021-03-25T16:08:01.074165Z",
     "shell.execute_reply": "2021-03-25T16:08:01.074663Z"
    }
   },
   "outputs": [
    {
     "data": {
      "text/plain": [
       "java.lang.IllegalArgumentException: Invalid View: Action View candidates are: Default Tree StateMachine Interconnection Activity Sequence MIXED \n",
       "\tat org.omg.sysml.plantuml.SysML2PlantUMLSvc.setView(SysML2PlantUMLSvc.java:63)\n",
       "\tat org.omg.sysml.interactive.SysMLInteractive.viz(SysMLInteractive.java:286)\n",
       "\tat org.omg.sysml.jupyter.kernel.magic.Viz.viz(Viz.java:47)\n",
       "\tat jdk.internal.reflect.GeneratedMethodAccessor10.invoke(Unknown Source)\n",
       "\tat java.base/jdk.internal.reflect.DelegatingMethodAccessorImpl.invoke(DelegatingMethodAccessorImpl.java:43)\n",
       "\tat java.base/java.lang.reflect.Method.invoke(Method.java:568)\n",
       "\tat io.github.spencerpark.jupyter.kernel.magic.registry.Magics.invoke(Magics.java:89)\n",
       "\tat io.github.spencerpark.jupyter.kernel.magic.registry.Magics.access$000(Magics.java:8)\n",
       "\tat io.github.spencerpark.jupyter.kernel.magic.registry.Magics$LineReflectionMagicFunction.execute(Magics.java:149)\n",
       "\tat io.github.spencerpark.jupyter.kernel.magic.registry.Magics.applyLineMagic(Magics.java:26)\n",
       "\tat org.omg.sysml.jupyter.kernel.SysMLKernel.eval(SysMLKernel.java:76)\n",
       "\tat io.github.spencerpark.jupyter.kernel.BaseKernel.handleExecuteRequest(BaseKernel.java:334)\n",
       "\tat io.github.spencerpark.jupyter.channels.ShellChannel.lambda$bind$0(ShellChannel.java:64)\n",
       "\tat io.github.spencerpark.jupyter.channels.Loop.lambda$new$0(Loop.java:21)\n",
       "\tat io.github.spencerpark.jupyter.channels.Loop.run(Loop.java:78)\n"
      ]
     },
     "execution_count": 34,
     "metadata": {},
     "output_type": "execute_result"
    }
   ],
   "source": [
    "%viz --style=\"PLANTUML\" --view=\"Action\" \"ViewTest\""
   ]
  },
  {
   "cell_type": "code",
   "execution_count": 35,
   "id": "inside-pharmaceutical",
   "metadata": {
    "execution": {
     "iopub.execute_input": "2021-03-25T16:08:01.126031Z",
     "iopub.status.busy": "2021-03-25T16:08:01.125555Z",
     "iopub.status.idle": "2021-03-25T16:08:01.212832Z",
     "shell.execute_reply": "2021-03-25T16:08:01.212400Z"
    }
   },
   "outputs": [
    {
     "data": {
      "image/svg+xml": [
       "<?xml version=\"1.0\" encoding=\"UTF-8\" standalone=\"no\"?><svg xmlns=\"http://www.w3.org/2000/svg\" xmlns:xlink=\"http://www.w3.org/1999/xlink\" contentScriptType=\"application/ecmascript\" contentStyleType=\"text/css\" height=\"540px\" preserveAspectRatio=\"none\" style=\"width:334px;height:540px;\" version=\"1.1\" viewBox=\"0 0 334 540\" width=\"334px\" zoomAndPan=\"magnify\"><defs><filter height=\"300%\" id=\"f1qgiaiokt020o\" width=\"300%\" x=\"-1\" y=\"-1\"><feGaussianBlur result=\"blurOut\" stdDeviation=\"2.0\"/><feColorMatrix in=\"blurOut\" result=\"blurOut2\" type=\"matrix\" values=\"0 0 0 0 0 0 0 0 0 0 0 0 0 0 0 0 0 0 .4 0\"/><feOffset dx=\"4.0\" dy=\"4.0\" in=\"blurOut2\" result=\"blurOut3\"/><feBlend in=\"SourceGraphic\" in2=\"blurOut3\" mode=\"normal\"/></filter></defs><g><!--MD5=[fbc87193dbaf4d95561dea2c320d4a47]\n",
       "cluster E1--><polygon fill=\"#FFFFFF\" filter=\"url(#f1qgiaiokt020o)\" points=\"16,6,96,6,103,28.2969,312,28.2969,312,528,16,528,16,6\" style=\"stroke: #000000; stroke-width: 1.5;\"/><line style=\"stroke: #000000; stroke-width: 1.5;\" x1=\"16\" x2=\"103\" y1=\"28.2969\" y2=\"28.2969\"/><text fill=\"#000000\" font-family=\"sans-serif\" font-size=\"14\" font-weight=\"bold\" lengthAdjust=\"spacingAndGlyphs\" textLength=\"74\" x=\"20\" y=\"20.9951\">ViewTest</text><!--MD5=[09b614a08d8cba4a07c9adeb5e0fee81]\n",
       "class E3--><rect fill=\"#FEFECE\" filter=\"url(#f1qgiaiokt020o)\" height=\"45.9375\" id=\"E3\" style=\"stroke: #A80036; stroke-width: 1.5;\" width=\"124\" x=\"32\" y=\"260\"/><ellipse cx=\"47\" cy=\"278.9688\" fill=\"#A52A2A\" rx=\"11\" ry=\"11\" style=\"stroke: #A80036; stroke-width: 1.0;\"/><path d=\"M46.5938,274.7813 L46.5938,282.7656 L47.25,282.7656 Q48.6875,282.7656 49.2969,281.8594 Q49.9219,280.9375 49.9219,278.7656 Q49.9219,276.5938 49.2969,275.6875 Q48.6875,274.7813 47.25,274.7813 L46.5938,274.7813 Z M44.1406,272.5781 L46.7656,272.5781 Q49.7969,272.5781 51.125,274.0313 Q52.4688,275.4688 52.4688,278.7656 Q52.4688,282.0625 51.125,283.5156 Q49.7969,284.9688 46.7656,284.9688 L44.1406,284.9688 L44.1406,272.5781 Z \"/><text fill=\"#000000\" font-family=\"sans-serif\" font-size=\"12\" font-style=\"italic\" lengthAdjust=\"spacingAndGlyphs\" textLength=\"96\" x=\"59\" y=\"276.1387\">«viewpoint def»</text><text fill=\"#000000\" font-family=\"sans-serif\" font-size=\"12\" lengthAdjust=\"spacingAndGlyphs\" textLength=\"16\" x=\"99\" y=\"290.1074\">VP</text><line style=\"stroke: #A80036; stroke-width: 1.5;\" x1=\"33\" x2=\"155\" y1=\"297.9375\" y2=\"297.9375\"/><!--MD5=[ebbe1d658d1005bcc118a6aa81145e00]\n",
       "class E4--><rect fill=\"#FEFECE\" filter=\"url(#f1qgiaiokt020o)\" height=\"40\" id=\"E4\" style=\"stroke: #A80036; stroke-width: 1.5;\" width=\"40\" x=\"207\" y=\"472\"/><ellipse cx=\"222\" cy=\"488\" fill=\"#008000\" rx=\"11\" ry=\"11\" style=\"stroke: #A80036; stroke-width: 1.0;\"/><path d=\"M220.9063,488.375 L220.9063,492.0469 L222.5313,492.0469 Q223.7031,492.0469 224.1719,491.6563 Q224.6406,491.25 224.6406,490.25 Q224.6406,489.25 224.1406,488.8125 Q223.6563,488.375 222.5313,488.375 L220.9063,488.375 Z M220.9063,483.5469 L220.9063,486.4219 L222.5313,486.4219 Q223.4531,486.4219 223.8438,486.0938 Q224.25,485.75 224.25,485 Q224.25,484.2344 223.8438,483.8906 Q223.4375,483.5469 222.5313,483.5469 L220.9063,483.5469 Z M218.5313,481.5938 L222.5313,481.5938 Q224.5938,481.5938 225.6406,482.375 Q226.6875,483.1563 226.6875,484.7188 Q226.6875,485.9219 226.0625,486.5938 Q225.4531,487.2656 224.2656,487.375 Q225.6875,487.5156 226.4063,488.3281 Q227.125,489.1406 227.125,490.5938 Q227.125,492.3906 226.0469,493.2031 Q224.9688,494 222.5313,494 L218.5313,494 L218.5313,481.5938 Z \"/><text fill=\"#000000\" font-family=\"sans-serif\" font-size=\"12\" lengthAdjust=\"spacingAndGlyphs\" textLength=\"8\" x=\"236\" y=\"492.1543\">R</text><line style=\"stroke: #A80036; stroke-width: 1.5;\" x1=\"208\" x2=\"246\" y1=\"504\" y2=\"504\"/><!--MD5=[270fce915f116d4de14055a7c1d9a0f3]\n",
       "class E5--><rect fill=\"#FEFECE\" filter=\"url(#f1qgiaiokt020o)\" height=\"40\" id=\"E5\" style=\"stroke: #A80036; stroke-width: 1.5;\" width=\"40\" x=\"207\" y=\"47.5\"/><ellipse cx=\"222\" cy=\"63.5\" fill=\"#008000\" rx=\"11\" ry=\"11\" style=\"stroke: #A80036; stroke-width: 1.0;\"/><path d=\"M220.9063,63.875 L220.9063,67.5469 L222.5313,67.5469 Q223.7031,67.5469 224.1719,67.1563 Q224.6406,66.75 224.6406,65.75 Q224.6406,64.75 224.1406,64.3125 Q223.6563,63.875 222.5313,63.875 L220.9063,63.875 Z M220.9063,59.0469 L220.9063,61.9219 L222.5313,61.9219 Q223.4531,61.9219 223.8438,61.5938 Q224.25,61.25 224.25,60.5 Q224.25,59.7344 223.8438,59.3906 Q223.4375,59.0469 222.5313,59.0469 L220.9063,59.0469 Z M218.5313,57.0938 L222.5313,57.0938 Q224.5938,57.0938 225.6406,57.875 Q226.6875,58.6563 226.6875,60.2188 Q226.6875,61.4219 226.0625,62.0938 Q225.4531,62.7656 224.2656,62.875 Q225.6875,63.0156 226.4063,63.8281 Q227.125,64.6406 227.125,66.0938 Q227.125,67.8906 226.0469,68.7031 Q224.9688,69.5 222.5313,69.5 L218.5313,69.5 L218.5313,57.0938 Z \"/><text fill=\"#000000\" font-family=\"sans-serif\" font-size=\"12\" lengthAdjust=\"spacingAndGlyphs\" textLength=\"8\" x=\"236\" y=\"67.6543\">V</text><line style=\"stroke: #A80036; stroke-width: 1.5;\" x1=\"208\" x2=\"246\" y1=\"79.5\" y2=\"79.5\"/><!--MD5=[60a26617385b1d2d0262a64233df1f8d]\n",
       "class E6--><rect fill=\"#FEFECE\" filter=\"url(#f1qgiaiokt020o)\" height=\"45.9375\" id=\"E6\" rx=\"10\" ry=\"10\" style=\"stroke: #A80036; stroke-width: 1.5;\" width=\"100\" x=\"50\" y=\"154\"/><ellipse cx=\"65\" cy=\"172.9688\" fill=\"#FFA500\" rx=\"11\" ry=\"11\" style=\"stroke: #A80036; stroke-width: 1.0;\"/><path d=\"M60.875,174.8906 L60.875,167.0781 L63.3281,167.0781 L63.3281,175.5156 Q63.3281,176.4375 63.7969,176.9688 Q64.2813,177.5 65.1094,177.5 Q65.9531,177.5 66.4219,176.9688 Q66.8906,176.4375 66.8906,175.5156 L66.8906,167.0781 L69.3438,167.0781 L69.3438,174.8906 Q69.3438,177.4219 68.3438,178.5625 Q67.3438,179.7031 65.1094,179.7031 Q62.8906,179.7031 61.875,178.5625 Q60.875,177.4219 60.875,174.8906 Z \"/><text fill=\"#000000\" font-family=\"sans-serif\" font-size=\"12\" font-style=\"italic\" lengthAdjust=\"spacingAndGlyphs\" textLength=\"72\" x=\"77\" y=\"170.1387\">«viewpoint»</text><text fill=\"#000000\" font-family=\"sans-serif\" font-size=\"12\" lengthAdjust=\"spacingAndGlyphs\" textLength=\"38\" x=\"94\" y=\"184.1074\">vp: VP</text><line style=\"stroke: #A80036; stroke-width: 1.5;\" x1=\"51\" x2=\"149\" y1=\"191.9375\" y2=\"191.9375\"/><!--MD5=[2156ba9850f5573cc1fc38a6a4b2f02b]\n",
       "class E7--><rect fill=\"#FEFECE\" filter=\"url(#f1qgiaiokt020o)\" height=\"45.9375\" id=\"E7\" rx=\"10\" ry=\"10\" style=\"stroke: #A80036; stroke-width: 1.5;\" width=\"68\" x=\"193\" y=\"366\"/><ellipse cx=\"208\" cy=\"384.9688\" fill=\"#32CD32\" rx=\"11\" ry=\"11\" style=\"stroke: #A80036; stroke-width: 1.0;\"/><path d=\"M207.7969,380.6406 L207.7969,384.2656 L208.7969,384.2656 Q210,384.2656 210.4844,383.8594 Q210.9688,383.4531 210.9688,382.4531 Q210.9688,381.4531 210.4844,381.0469 Q210,380.6406 208.7969,380.6406 L207.7969,380.6406 Z M205.3438,378.5781 L208.7031,378.5781 Q211.2656,378.5781 212.3906,379.5 Q213.5156,380.4063 213.5156,382.4531 Q213.5156,384.5 212.3906,385.4219 Q211.2656,386.3281 208.7031,386.3281 L207.7969,386.3281 L207.7969,390.9688 L205.3438,390.9688 L205.3438,378.5781 Z \"/><text fill=\"#000000\" font-family=\"sans-serif\" font-size=\"12\" font-style=\"italic\" lengthAdjust=\"spacingAndGlyphs\" textLength=\"40\" x=\"220\" y=\"382.1387\">«part»</text><text fill=\"#000000\" font-family=\"sans-serif\" font-size=\"12\" lengthAdjust=\"spacingAndGlyphs\" textLength=\"21\" x=\"229.5\" y=\"396.1074\">r: R</text><line style=\"stroke: #A80036; stroke-width: 1.5;\" x1=\"194\" x2=\"260\" y1=\"403.9375\" y2=\"403.9375\"/><!--MD5=[b9389687b975829384b498ac4b7476b2]\n",
       "class E8--><rect fill=\"#FEFECE\" filter=\"url(#f1qgiaiokt020o)\" height=\"45.9375\" id=\"E8\" rx=\"10\" ry=\"10\" style=\"stroke: #A80036; stroke-width: 1.5;\" width=\"68\" x=\"228\" y=\"154\"/><ellipse cx=\"243\" cy=\"172.9688\" fill=\"#32CD32\" rx=\"11\" ry=\"11\" style=\"stroke: #A80036; stroke-width: 1.0;\"/><path d=\"M242.7969,168.6406 L242.7969,172.2656 L243.7969,172.2656 Q245,172.2656 245.4844,171.8594 Q245.9688,171.4531 245.9688,170.4531 Q245.9688,169.4531 245.4844,169.0469 Q245,168.6406 243.7969,168.6406 L242.7969,168.6406 Z M240.3438,166.5781 L243.7031,166.5781 Q246.2656,166.5781 247.3906,167.5 Q248.5156,168.4063 248.5156,170.4531 Q248.5156,172.5 247.3906,173.4219 Q246.2656,174.3281 243.7031,174.3281 L242.7969,174.3281 L242.7969,178.9688 L240.3438,178.9688 L240.3438,166.5781 Z \"/><text fill=\"#000000\" font-family=\"sans-serif\" font-size=\"12\" font-style=\"italic\" lengthAdjust=\"spacingAndGlyphs\" textLength=\"40\" x=\"255\" y=\"170.1387\">«part»</text><text fill=\"#000000\" font-family=\"sans-serif\" font-size=\"12\" lengthAdjust=\"spacingAndGlyphs\" textLength=\"22\" x=\"264\" y=\"184.1074\">v: V</text><line style=\"stroke: #A80036; stroke-width: 1.5;\" x1=\"229\" x2=\"295\" y1=\"191.9375\" y2=\"191.9375\"/><!--MD5=[fd4143e9d270a159db93a4ea2a975926]\n",
       "class E9--><rect fill=\"#FEFECE\" filter=\"url(#f1qgiaiokt020o)\" height=\"45.9375\" id=\"E9\" rx=\"10\" ry=\"10\" style=\"stroke: #A80036; stroke-width: 1.5;\" width=\"68\" x=\"228\" y=\"260\"/><ellipse cx=\"243\" cy=\"278.9688\" fill=\"#32CD32\" rx=\"11\" ry=\"11\" style=\"stroke: #A80036; stroke-width: 1.0;\"/><path d=\"M242.7969,274.6406 L242.7969,278.2656 L243.7969,278.2656 Q245,278.2656 245.4844,277.8594 Q245.9688,277.4531 245.9688,276.4531 Q245.9688,275.4531 245.4844,275.0469 Q245,274.6406 243.7969,274.6406 L242.7969,274.6406 Z M240.3438,272.5781 L243.7031,272.5781 Q246.2656,272.5781 247.3906,273.5 Q248.5156,274.4063 248.5156,276.4531 Q248.5156,278.5 247.3906,279.4219 Q246.2656,280.3281 243.7031,280.3281 L242.7969,280.3281 L242.7969,284.9688 L240.3438,284.9688 L240.3438,272.5781 Z \"/><text fill=\"#000000\" font-family=\"sans-serif\" font-size=\"12\" font-style=\"italic\" lengthAdjust=\"spacingAndGlyphs\" textLength=\"40\" x=\"255\" y=\"276.1387\">«part»</text><text fill=\"#000000\" font-family=\"sans-serif\" font-size=\"12\" lengthAdjust=\"spacingAndGlyphs\" textLength=\"29\" x=\"260.5\" y=\"290.1074\">r1: R</text><line style=\"stroke: #A80036; stroke-width: 1.5;\" x1=\"229\" x2=\"295\" y1=\"297.9375\" y2=\"297.9375\"/><polygon fill=\"#FFFFFF\" filter=\"url(#f1qgiaiokt020o)\" points=\"105,41,121,41,128,63.2969,135,63.2969,135,93.5938,105,93.5938,105,41\" style=\"stroke: #000000; stroke-width: 1.5;\"/><line style=\"stroke: #000000; stroke-width: 1.5;\" x1=\"105\" x2=\"128\" y1=\"63.2969\" y2=\"63.2969\"/><text fill=\"#000000\" font-family=\"sans-serif\" font-size=\"14\" font-weight=\"bold\" lengthAdjust=\"spacingAndGlyphs\" textLength=\"10\" x=\"109\" y=\"55.9951\">P</text><!--MD5=[85d356282659285ab4b2cfe2f634dd2b]\n",
       "reverse link E5 to E6--><path d=\"M196.67,94.18 C175.19,112.35 146.68,136.49 126.19,153.83 \" fill=\"none\" id=\"E5&lt;-E6\" style=\"stroke: #A80036; stroke-width: 1.0;\"/><polygon fill=\"#A80036\" points=\"206.88,85.53,199.7159,86.3516,197.7189,93.2807,204.883,92.4591,206.88,85.53\" style=\"stroke: #A80036; stroke-width: 1.0;\"/><!--MD5=[a717450b82c80b9240a525fa862496af]\n",
       "link E6 to E3--><path d=\"M98.73,200.06 C98.06,211.64 97.22,226.23 96.43,239.87 \" fill=\"none\" id=\"E6-&gt;E3\" style=\"stroke: #A80036; stroke-width: 1.0;\"/><polygon fill=\"#FFFFFF\" points=\"95.27,259.98,89.3669,240.6111,103.3441,241.411,95.27,259.98\" style=\"stroke: #A80036; stroke-width: 1.0;\"/><ellipse cx=\"91.6893\" cy=\"235.0347\" fill=\"#A80036\" rx=\"2\" ry=\"2\" style=\"stroke: #A80036; stroke-width: 1.0;\"/><ellipse cx=\"101.673\" cy=\"235.606\" fill=\"#A80036\" rx=\"2\" ry=\"2\" style=\"stroke: #A80036; stroke-width: 1.0;\"/><!--MD5=[6bdd27f9905911a7e892a3dc65cf6b7c]\n",
       "link E7 to E4--><path d=\"M227,412.42 C227,423.95 227,438.34 227,451.65 \" fill=\"none\" id=\"E7-&gt;E4\" style=\"stroke: #A80036; stroke-width: 1.0;\"/><polygon fill=\"#FFFFFF\" points=\"227,471.71,220,452.71,234,452.71,227,471.71\" style=\"stroke: #A80036; stroke-width: 1.0;\"/><ellipse cx=\"222\" cy=\"447.01\" fill=\"#A80036\" rx=\"2\" ry=\"2\" style=\"stroke: #A80036; stroke-width: 1.0;\"/><ellipse cx=\"232\" cy=\"447.01\" fill=\"#A80036\" rx=\"2\" ry=\"2\" style=\"stroke: #A80036; stroke-width: 1.0;\"/><!--MD5=[452b418e7f8a40397a49b8c0a78acc5b]\n",
       "reverse link E5 to E7--><path d=\"M219.53,100.65 C216.19,116.59 212.65,136.21 211,154 C204.76,221.27 204.5,238.76 211,306 C212.98,326.5 217.69,349.49 221.49,365.9 \" fill=\"none\" id=\"E5&lt;-E7\" style=\"stroke: #A80036; stroke-width: 1.0;\"/><polygon fill=\"#A80036\" points=\"222.35,87.71,217.1627,92.7192,219.7915,99.4341,224.9788,94.4249,222.35,87.71\" style=\"stroke: #A80036; stroke-width: 1.0;\"/><text fill=\"#000000\" font-family=\"sans-serif\" font-size=\"13\" lengthAdjust=\"spacingAndGlyphs\" textLength=\"24\" x=\"192.7842\" y=\"354.7694\">0..1</text><!--MD5=[1ccb2481ffa92f8d51a74ee30c51832a]\n",
       "link E8 to E5--><path d=\"M265.97,153.98 C263.82,140.2 258.52,122.08 252.17,106.07 \" fill=\"none\" id=\"E8-&gt;E5\" style=\"stroke: #A80036; stroke-width: 1.0;\"/><polygon fill=\"#FFFFFF\" points=\"243.89,87.72,258.0873,102.1573,245.3272,107.9174,243.89,87.72\" style=\"stroke: #A80036; stroke-width: 1.0;\"/><ellipse cx=\"258.6096\" cy=\"108.1754\" fill=\"#A80036\" rx=\"2\" ry=\"2\" style=\"stroke: #A80036; stroke-width: 1.0;\"/><ellipse cx=\"249.4952\" cy=\"112.2897\" fill=\"#A80036\" rx=\"2\" ry=\"2\" style=\"stroke: #A80036; stroke-width: 1.0;\"/><!--MD5=[827760032d119d06bbc92f75530fd7ae]\n",
       "reverse link E5 to E8--><path d=\"M225.67,100.6 C229.65,117.82 236.84,138.6 244.31,153.98 \" fill=\"none\" id=\"E5&lt;-E8\" style=\"stroke: #A80036; stroke-width: 1.0;\"/><polygon fill=\"#A80036\" points=\"223.22,87.72,220.4113,94.3616,225.4617,99.5088,228.2704,92.8671,223.22,87.72\" style=\"stroke: #A80036; stroke-width: 1.0;\"/><text fill=\"#000000\" font-family=\"sans-serif\" font-size=\"13\" lengthAdjust=\"spacingAndGlyphs\" textLength=\"7\" x=\"231.6152\" y=\"142.8709\">*</text><!--MD5=[cf04703ca05eebef50f1cfe8b03e143b]\n",
       "link E9 to E7--><path d=\"M254.58,306.06 C250.59,317.91 245.54,332.92 240.85,346.85 \" fill=\"none\" id=\"E9-&gt;E7\" style=\"stroke: #A80036; stroke-width: 1.0;\"/><polygon fill=\"#FFFFFF\" points=\"234.41,365.98,233.8278,345.7399,247.0984,350.2001,234.41,365.98\" style=\"stroke: #A80036; stroke-width: 1.0;\"/><line style=\"stroke: #A80036; stroke-width: 2.0;\" x1=\"235.0385\" x2=\"248.309\" y1=\"342.1379\" y2=\"346.5981\"/><!--MD5=[22f5b4bae7e060dce8a1c8021efdb95b]\n",
       "reverse link E8 to E9--><path d=\"M262,213.44 C262,228.87 262,246.47 262,259.98 \" fill=\"none\" id=\"E8&lt;-E9\" style=\"stroke: #A80036; stroke-width: 1.0;\"/><polygon fill=\"#A80036\" points=\"262,200.06,258,206.06,262,212.06,266,206.06,262,200.06\" style=\"stroke: #A80036; stroke-width: 1.0;\"/><!--MD5=[c7db2955c9fec9082117c21c30ebbae7]\n",
       "@startuml\r\n",
       " \r\n",
       "package \"ViewTest\" as E1   {\r\n",
       "package \"P\" as E2   {\r\n",
       "}\r\n",
       "comp def \"VP\" as E3  <<(D,brown)viewpoint def>> {\r\n",
       "}\r\n",
       "comp def \"R\" as E4  << (B,green) >> {\r\n",
       "}\r\n",
       "comp def \"V\" as E5  << (B,green) >> {\r\n",
       "}\r\n",
       "comp usage \"vp: VP\" as E6  <<(U,orange)viewpoint>> {\r\n",
       "}\r\n",
       "comp usage \"r: R\" as E7  << (P,limegreen) part>> {\r\n",
       "}\r\n",
       "comp usage \"v: V\" as E8  << (P,limegreen) part>> {\r\n",
       "}\r\n",
       "comp usage \"r1: R\" as E9  << (P,limegreen) part>> {\r\n",
       "}\r\n",
       "E5 *- - E6\r\n",
       "E6 - -:|> E3\r\n",
       "E7 - -:|> E4\r\n",
       "E5 *- - \"0..1\"E7\r\n",
       "E8 - -:|> E5\r\n",
       "E5 *- - \"*\"E8\r\n",
       "E9 - -||> E7\r\n",
       "E8 *- - E9\r\n",
       "}\r\n",
       "@enduml\r\n",
       "\n",
       "PlantUML version 1.2020.13(Sat Jun 13 12:26:38 UTC 2020)\n",
       "(EPL source distribution)\n",
       "Java Runtime: OpenJDK Runtime Environment\n",
       "JVM: OpenJDK 64-Bit Server VM\n",
       "Default Encoding: UTF-8\n",
       "Language: en\n",
       "Country: null\n",
       "--></g></svg>"
      ]
     },
     "execution_count": 35,
     "metadata": {},
     "output_type": "execute_result"
    }
   ],
   "source": [
    "%viz --style=\"PLANTUML\" --view=\"Sequence\" \"ViewTest\""
   ]
  },
  {
   "cell_type": "code",
   "execution_count": 36,
   "id": "white-chain",
   "metadata": {
    "execution": {
     "iopub.execute_input": "2021-03-25T16:08:01.263947Z",
     "iopub.status.busy": "2021-03-25T16:08:01.263335Z",
     "iopub.status.idle": "2021-03-25T16:08:01.344925Z",
     "shell.execute_reply": "2021-03-25T16:08:01.343531Z"
    }
   },
   "outputs": [
    {
     "data": {
      "image/svg+xml": [
       "<?xml version=\"1.0\" encoding=\"UTF-8\" standalone=\"no\"?><svg xmlns=\"http://www.w3.org/2000/svg\" xmlns:xlink=\"http://www.w3.org/1999/xlink\" contentScriptType=\"application/ecmascript\" contentStyleType=\"text/css\" height=\"540px\" preserveAspectRatio=\"none\" style=\"width:334px;height:540px;\" version=\"1.1\" viewBox=\"0 0 334 540\" width=\"334px\" zoomAndPan=\"magnify\"><defs><filter height=\"300%\" id=\"f1qgiaiokt020o\" width=\"300%\" x=\"-1\" y=\"-1\"><feGaussianBlur result=\"blurOut\" stdDeviation=\"2.0\"/><feColorMatrix in=\"blurOut\" result=\"blurOut2\" type=\"matrix\" values=\"0 0 0 0 0 0 0 0 0 0 0 0 0 0 0 0 0 0 .4 0\"/><feOffset dx=\"4.0\" dy=\"4.0\" in=\"blurOut2\" result=\"blurOut3\"/><feBlend in=\"SourceGraphic\" in2=\"blurOut3\" mode=\"normal\"/></filter></defs><g><!--MD5=[fbc87193dbaf4d95561dea2c320d4a47]\n",
       "cluster E1--><polygon fill=\"#FFFFFF\" filter=\"url(#f1qgiaiokt020o)\" points=\"16,6,96,6,103,28.2969,312,28.2969,312,528,16,528,16,6\" style=\"stroke: #000000; stroke-width: 1.5;\"/><line style=\"stroke: #000000; stroke-width: 1.5;\" x1=\"16\" x2=\"103\" y1=\"28.2969\" y2=\"28.2969\"/><text fill=\"#000000\" font-family=\"sans-serif\" font-size=\"14\" font-weight=\"bold\" lengthAdjust=\"spacingAndGlyphs\" textLength=\"74\" x=\"20\" y=\"20.9951\">ViewTest</text><!--MD5=[09b614a08d8cba4a07c9adeb5e0fee81]\n",
       "class E3--><rect fill=\"#FEFECE\" filter=\"url(#f1qgiaiokt020o)\" height=\"45.9375\" id=\"E3\" style=\"stroke: #A80036; stroke-width: 1.5;\" width=\"124\" x=\"32\" y=\"260\"/><ellipse cx=\"47\" cy=\"278.9688\" fill=\"#A52A2A\" rx=\"11\" ry=\"11\" style=\"stroke: #A80036; stroke-width: 1.0;\"/><path d=\"M46.5938,274.7813 L46.5938,282.7656 L47.25,282.7656 Q48.6875,282.7656 49.2969,281.8594 Q49.9219,280.9375 49.9219,278.7656 Q49.9219,276.5938 49.2969,275.6875 Q48.6875,274.7813 47.25,274.7813 L46.5938,274.7813 Z M44.1406,272.5781 L46.7656,272.5781 Q49.7969,272.5781 51.125,274.0313 Q52.4688,275.4688 52.4688,278.7656 Q52.4688,282.0625 51.125,283.5156 Q49.7969,284.9688 46.7656,284.9688 L44.1406,284.9688 L44.1406,272.5781 Z \"/><text fill=\"#000000\" font-family=\"sans-serif\" font-size=\"12\" font-style=\"italic\" lengthAdjust=\"spacingAndGlyphs\" textLength=\"96\" x=\"59\" y=\"276.1387\">«viewpoint def»</text><text fill=\"#000000\" font-family=\"sans-serif\" font-size=\"12\" lengthAdjust=\"spacingAndGlyphs\" textLength=\"16\" x=\"99\" y=\"290.1074\">VP</text><line style=\"stroke: #A80036; stroke-width: 1.5;\" x1=\"33\" x2=\"155\" y1=\"297.9375\" y2=\"297.9375\"/><!--MD5=[ebbe1d658d1005bcc118a6aa81145e00]\n",
       "class E4--><rect fill=\"#FEFECE\" filter=\"url(#f1qgiaiokt020o)\" height=\"40\" id=\"E4\" style=\"stroke: #A80036; stroke-width: 1.5;\" width=\"40\" x=\"207\" y=\"472\"/><ellipse cx=\"222\" cy=\"488\" fill=\"#008000\" rx=\"11\" ry=\"11\" style=\"stroke: #A80036; stroke-width: 1.0;\"/><path d=\"M220.9063,488.375 L220.9063,492.0469 L222.5313,492.0469 Q223.7031,492.0469 224.1719,491.6563 Q224.6406,491.25 224.6406,490.25 Q224.6406,489.25 224.1406,488.8125 Q223.6563,488.375 222.5313,488.375 L220.9063,488.375 Z M220.9063,483.5469 L220.9063,486.4219 L222.5313,486.4219 Q223.4531,486.4219 223.8438,486.0938 Q224.25,485.75 224.25,485 Q224.25,484.2344 223.8438,483.8906 Q223.4375,483.5469 222.5313,483.5469 L220.9063,483.5469 Z M218.5313,481.5938 L222.5313,481.5938 Q224.5938,481.5938 225.6406,482.375 Q226.6875,483.1563 226.6875,484.7188 Q226.6875,485.9219 226.0625,486.5938 Q225.4531,487.2656 224.2656,487.375 Q225.6875,487.5156 226.4063,488.3281 Q227.125,489.1406 227.125,490.5938 Q227.125,492.3906 226.0469,493.2031 Q224.9688,494 222.5313,494 L218.5313,494 L218.5313,481.5938 Z \"/><text fill=\"#000000\" font-family=\"sans-serif\" font-size=\"12\" lengthAdjust=\"spacingAndGlyphs\" textLength=\"8\" x=\"236\" y=\"492.1543\">R</text><line style=\"stroke: #A80036; stroke-width: 1.5;\" x1=\"208\" x2=\"246\" y1=\"504\" y2=\"504\"/><!--MD5=[270fce915f116d4de14055a7c1d9a0f3]\n",
       "class E5--><rect fill=\"#FEFECE\" filter=\"url(#f1qgiaiokt020o)\" height=\"40\" id=\"E5\" style=\"stroke: #A80036; stroke-width: 1.5;\" width=\"40\" x=\"207\" y=\"47.5\"/><ellipse cx=\"222\" cy=\"63.5\" fill=\"#008000\" rx=\"11\" ry=\"11\" style=\"stroke: #A80036; stroke-width: 1.0;\"/><path d=\"M220.9063,63.875 L220.9063,67.5469 L222.5313,67.5469 Q223.7031,67.5469 224.1719,67.1563 Q224.6406,66.75 224.6406,65.75 Q224.6406,64.75 224.1406,64.3125 Q223.6563,63.875 222.5313,63.875 L220.9063,63.875 Z M220.9063,59.0469 L220.9063,61.9219 L222.5313,61.9219 Q223.4531,61.9219 223.8438,61.5938 Q224.25,61.25 224.25,60.5 Q224.25,59.7344 223.8438,59.3906 Q223.4375,59.0469 222.5313,59.0469 L220.9063,59.0469 Z M218.5313,57.0938 L222.5313,57.0938 Q224.5938,57.0938 225.6406,57.875 Q226.6875,58.6563 226.6875,60.2188 Q226.6875,61.4219 226.0625,62.0938 Q225.4531,62.7656 224.2656,62.875 Q225.6875,63.0156 226.4063,63.8281 Q227.125,64.6406 227.125,66.0938 Q227.125,67.8906 226.0469,68.7031 Q224.9688,69.5 222.5313,69.5 L218.5313,69.5 L218.5313,57.0938 Z \"/><text fill=\"#000000\" font-family=\"sans-serif\" font-size=\"12\" lengthAdjust=\"spacingAndGlyphs\" textLength=\"8\" x=\"236\" y=\"67.6543\">V</text><line style=\"stroke: #A80036; stroke-width: 1.5;\" x1=\"208\" x2=\"246\" y1=\"79.5\" y2=\"79.5\"/><!--MD5=[60a26617385b1d2d0262a64233df1f8d]\n",
       "class E6--><rect fill=\"#FEFECE\" filter=\"url(#f1qgiaiokt020o)\" height=\"45.9375\" id=\"E6\" rx=\"10\" ry=\"10\" style=\"stroke: #A80036; stroke-width: 1.5;\" width=\"100\" x=\"50\" y=\"154\"/><ellipse cx=\"65\" cy=\"172.9688\" fill=\"#FFA500\" rx=\"11\" ry=\"11\" style=\"stroke: #A80036; stroke-width: 1.0;\"/><path d=\"M60.875,174.8906 L60.875,167.0781 L63.3281,167.0781 L63.3281,175.5156 Q63.3281,176.4375 63.7969,176.9688 Q64.2813,177.5 65.1094,177.5 Q65.9531,177.5 66.4219,176.9688 Q66.8906,176.4375 66.8906,175.5156 L66.8906,167.0781 L69.3438,167.0781 L69.3438,174.8906 Q69.3438,177.4219 68.3438,178.5625 Q67.3438,179.7031 65.1094,179.7031 Q62.8906,179.7031 61.875,178.5625 Q60.875,177.4219 60.875,174.8906 Z \"/><text fill=\"#000000\" font-family=\"sans-serif\" font-size=\"12\" font-style=\"italic\" lengthAdjust=\"spacingAndGlyphs\" textLength=\"72\" x=\"77\" y=\"170.1387\">«viewpoint»</text><text fill=\"#000000\" font-family=\"sans-serif\" font-size=\"12\" lengthAdjust=\"spacingAndGlyphs\" textLength=\"38\" x=\"94\" y=\"184.1074\">vp: VP</text><line style=\"stroke: #A80036; stroke-width: 1.5;\" x1=\"51\" x2=\"149\" y1=\"191.9375\" y2=\"191.9375\"/><!--MD5=[2156ba9850f5573cc1fc38a6a4b2f02b]\n",
       "class E7--><rect fill=\"#FEFECE\" filter=\"url(#f1qgiaiokt020o)\" height=\"45.9375\" id=\"E7\" rx=\"10\" ry=\"10\" style=\"stroke: #A80036; stroke-width: 1.5;\" width=\"68\" x=\"193\" y=\"366\"/><ellipse cx=\"208\" cy=\"384.9688\" fill=\"#32CD32\" rx=\"11\" ry=\"11\" style=\"stroke: #A80036; stroke-width: 1.0;\"/><path d=\"M207.7969,380.6406 L207.7969,384.2656 L208.7969,384.2656 Q210,384.2656 210.4844,383.8594 Q210.9688,383.4531 210.9688,382.4531 Q210.9688,381.4531 210.4844,381.0469 Q210,380.6406 208.7969,380.6406 L207.7969,380.6406 Z M205.3438,378.5781 L208.7031,378.5781 Q211.2656,378.5781 212.3906,379.5 Q213.5156,380.4063 213.5156,382.4531 Q213.5156,384.5 212.3906,385.4219 Q211.2656,386.3281 208.7031,386.3281 L207.7969,386.3281 L207.7969,390.9688 L205.3438,390.9688 L205.3438,378.5781 Z \"/><text fill=\"#000000\" font-family=\"sans-serif\" font-size=\"12\" font-style=\"italic\" lengthAdjust=\"spacingAndGlyphs\" textLength=\"40\" x=\"220\" y=\"382.1387\">«part»</text><text fill=\"#000000\" font-family=\"sans-serif\" font-size=\"12\" lengthAdjust=\"spacingAndGlyphs\" textLength=\"21\" x=\"229.5\" y=\"396.1074\">r: R</text><line style=\"stroke: #A80036; stroke-width: 1.5;\" x1=\"194\" x2=\"260\" y1=\"403.9375\" y2=\"403.9375\"/><!--MD5=[b9389687b975829384b498ac4b7476b2]\n",
       "class E8--><rect fill=\"#FEFECE\" filter=\"url(#f1qgiaiokt020o)\" height=\"45.9375\" id=\"E8\" rx=\"10\" ry=\"10\" style=\"stroke: #A80036; stroke-width: 1.5;\" width=\"68\" x=\"228\" y=\"154\"/><ellipse cx=\"243\" cy=\"172.9688\" fill=\"#32CD32\" rx=\"11\" ry=\"11\" style=\"stroke: #A80036; stroke-width: 1.0;\"/><path d=\"M242.7969,168.6406 L242.7969,172.2656 L243.7969,172.2656 Q245,172.2656 245.4844,171.8594 Q245.9688,171.4531 245.9688,170.4531 Q245.9688,169.4531 245.4844,169.0469 Q245,168.6406 243.7969,168.6406 L242.7969,168.6406 Z M240.3438,166.5781 L243.7031,166.5781 Q246.2656,166.5781 247.3906,167.5 Q248.5156,168.4063 248.5156,170.4531 Q248.5156,172.5 247.3906,173.4219 Q246.2656,174.3281 243.7031,174.3281 L242.7969,174.3281 L242.7969,178.9688 L240.3438,178.9688 L240.3438,166.5781 Z \"/><text fill=\"#000000\" font-family=\"sans-serif\" font-size=\"12\" font-style=\"italic\" lengthAdjust=\"spacingAndGlyphs\" textLength=\"40\" x=\"255\" y=\"170.1387\">«part»</text><text fill=\"#000000\" font-family=\"sans-serif\" font-size=\"12\" lengthAdjust=\"spacingAndGlyphs\" textLength=\"22\" x=\"264\" y=\"184.1074\">v: V</text><line style=\"stroke: #A80036; stroke-width: 1.5;\" x1=\"229\" x2=\"295\" y1=\"191.9375\" y2=\"191.9375\"/><!--MD5=[fd4143e9d270a159db93a4ea2a975926]\n",
       "class E9--><rect fill=\"#FEFECE\" filter=\"url(#f1qgiaiokt020o)\" height=\"45.9375\" id=\"E9\" rx=\"10\" ry=\"10\" style=\"stroke: #A80036; stroke-width: 1.5;\" width=\"68\" x=\"228\" y=\"260\"/><ellipse cx=\"243\" cy=\"278.9688\" fill=\"#32CD32\" rx=\"11\" ry=\"11\" style=\"stroke: #A80036; stroke-width: 1.0;\"/><path d=\"M242.7969,274.6406 L242.7969,278.2656 L243.7969,278.2656 Q245,278.2656 245.4844,277.8594 Q245.9688,277.4531 245.9688,276.4531 Q245.9688,275.4531 245.4844,275.0469 Q245,274.6406 243.7969,274.6406 L242.7969,274.6406 Z M240.3438,272.5781 L243.7031,272.5781 Q246.2656,272.5781 247.3906,273.5 Q248.5156,274.4063 248.5156,276.4531 Q248.5156,278.5 247.3906,279.4219 Q246.2656,280.3281 243.7031,280.3281 L242.7969,280.3281 L242.7969,284.9688 L240.3438,284.9688 L240.3438,272.5781 Z \"/><text fill=\"#000000\" font-family=\"sans-serif\" font-size=\"12\" font-style=\"italic\" lengthAdjust=\"spacingAndGlyphs\" textLength=\"40\" x=\"255\" y=\"276.1387\">«part»</text><text fill=\"#000000\" font-family=\"sans-serif\" font-size=\"12\" lengthAdjust=\"spacingAndGlyphs\" textLength=\"29\" x=\"260.5\" y=\"290.1074\">r1: R</text><line style=\"stroke: #A80036; stroke-width: 1.5;\" x1=\"229\" x2=\"295\" y1=\"297.9375\" y2=\"297.9375\"/><polygon fill=\"#FFFFFF\" filter=\"url(#f1qgiaiokt020o)\" points=\"105,41,121,41,128,63.2969,135,63.2969,135,93.5938,105,93.5938,105,41\" style=\"stroke: #000000; stroke-width: 1.5;\"/><line style=\"stroke: #000000; stroke-width: 1.5;\" x1=\"105\" x2=\"128\" y1=\"63.2969\" y2=\"63.2969\"/><text fill=\"#000000\" font-family=\"sans-serif\" font-size=\"14\" font-weight=\"bold\" lengthAdjust=\"spacingAndGlyphs\" textLength=\"10\" x=\"109\" y=\"55.9951\">P</text><!--MD5=[85d356282659285ab4b2cfe2f634dd2b]\n",
       "reverse link E5 to E6--><path d=\"M196.67,94.18 C175.19,112.35 146.68,136.49 126.19,153.83 \" fill=\"none\" id=\"E5&lt;-E6\" style=\"stroke: #A80036; stroke-width: 1.0;\"/><polygon fill=\"#A80036\" points=\"206.88,85.53,199.7159,86.3516,197.7189,93.2807,204.883,92.4591,206.88,85.53\" style=\"stroke: #A80036; stroke-width: 1.0;\"/><!--MD5=[a717450b82c80b9240a525fa862496af]\n",
       "link E6 to E3--><path d=\"M98.73,200.06 C98.06,211.64 97.22,226.23 96.43,239.87 \" fill=\"none\" id=\"E6-&gt;E3\" style=\"stroke: #A80036; stroke-width: 1.0;\"/><polygon fill=\"#FFFFFF\" points=\"95.27,259.98,89.3669,240.6111,103.3441,241.411,95.27,259.98\" style=\"stroke: #A80036; stroke-width: 1.0;\"/><ellipse cx=\"91.6893\" cy=\"235.0347\" fill=\"#A80036\" rx=\"2\" ry=\"2\" style=\"stroke: #A80036; stroke-width: 1.0;\"/><ellipse cx=\"101.673\" cy=\"235.606\" fill=\"#A80036\" rx=\"2\" ry=\"2\" style=\"stroke: #A80036; stroke-width: 1.0;\"/><!--MD5=[6bdd27f9905911a7e892a3dc65cf6b7c]\n",
       "link E7 to E4--><path d=\"M227,412.42 C227,423.95 227,438.34 227,451.65 \" fill=\"none\" id=\"E7-&gt;E4\" style=\"stroke: #A80036; stroke-width: 1.0;\"/><polygon fill=\"#FFFFFF\" points=\"227,471.71,220,452.71,234,452.71,227,471.71\" style=\"stroke: #A80036; stroke-width: 1.0;\"/><ellipse cx=\"222\" cy=\"447.01\" fill=\"#A80036\" rx=\"2\" ry=\"2\" style=\"stroke: #A80036; stroke-width: 1.0;\"/><ellipse cx=\"232\" cy=\"447.01\" fill=\"#A80036\" rx=\"2\" ry=\"2\" style=\"stroke: #A80036; stroke-width: 1.0;\"/><!--MD5=[452b418e7f8a40397a49b8c0a78acc5b]\n",
       "reverse link E5 to E7--><path d=\"M219.53,100.65 C216.19,116.59 212.65,136.21 211,154 C204.76,221.27 204.5,238.76 211,306 C212.98,326.5 217.69,349.49 221.49,365.9 \" fill=\"none\" id=\"E5&lt;-E7\" style=\"stroke: #A80036; stroke-width: 1.0;\"/><polygon fill=\"#A80036\" points=\"222.35,87.71,217.1627,92.7192,219.7915,99.4341,224.9788,94.4249,222.35,87.71\" style=\"stroke: #A80036; stroke-width: 1.0;\"/><text fill=\"#000000\" font-family=\"sans-serif\" font-size=\"13\" lengthAdjust=\"spacingAndGlyphs\" textLength=\"24\" x=\"192.7842\" y=\"354.7694\">0..1</text><!--MD5=[1ccb2481ffa92f8d51a74ee30c51832a]\n",
       "link E8 to E5--><path d=\"M265.97,153.98 C263.82,140.2 258.52,122.08 252.17,106.07 \" fill=\"none\" id=\"E8-&gt;E5\" style=\"stroke: #A80036; stroke-width: 1.0;\"/><polygon fill=\"#FFFFFF\" points=\"243.89,87.72,258.0873,102.1573,245.3272,107.9174,243.89,87.72\" style=\"stroke: #A80036; stroke-width: 1.0;\"/><ellipse cx=\"258.6096\" cy=\"108.1754\" fill=\"#A80036\" rx=\"2\" ry=\"2\" style=\"stroke: #A80036; stroke-width: 1.0;\"/><ellipse cx=\"249.4952\" cy=\"112.2897\" fill=\"#A80036\" rx=\"2\" ry=\"2\" style=\"stroke: #A80036; stroke-width: 1.0;\"/><!--MD5=[827760032d119d06bbc92f75530fd7ae]\n",
       "reverse link E5 to E8--><path d=\"M225.67,100.6 C229.65,117.82 236.84,138.6 244.31,153.98 \" fill=\"none\" id=\"E5&lt;-E8\" style=\"stroke: #A80036; stroke-width: 1.0;\"/><polygon fill=\"#A80036\" points=\"223.22,87.72,220.4113,94.3616,225.4617,99.5088,228.2704,92.8671,223.22,87.72\" style=\"stroke: #A80036; stroke-width: 1.0;\"/><text fill=\"#000000\" font-family=\"sans-serif\" font-size=\"13\" lengthAdjust=\"spacingAndGlyphs\" textLength=\"7\" x=\"231.6152\" y=\"142.8709\">*</text><!--MD5=[cf04703ca05eebef50f1cfe8b03e143b]\n",
       "link E9 to E7--><path d=\"M254.58,306.06 C250.59,317.91 245.54,332.92 240.85,346.85 \" fill=\"none\" id=\"E9-&gt;E7\" style=\"stroke: #A80036; stroke-width: 1.0;\"/><polygon fill=\"#FFFFFF\" points=\"234.41,365.98,233.8278,345.7399,247.0984,350.2001,234.41,365.98\" style=\"stroke: #A80036; stroke-width: 1.0;\"/><line style=\"stroke: #A80036; stroke-width: 2.0;\" x1=\"235.0385\" x2=\"248.309\" y1=\"342.1379\" y2=\"346.5981\"/><!--MD5=[22f5b4bae7e060dce8a1c8021efdb95b]\n",
       "reverse link E8 to E9--><path d=\"M262,213.44 C262,228.87 262,246.47 262,259.98 \" fill=\"none\" id=\"E8&lt;-E9\" style=\"stroke: #A80036; stroke-width: 1.0;\"/><polygon fill=\"#A80036\" points=\"262,200.06,258,206.06,262,212.06,266,206.06,262,200.06\" style=\"stroke: #A80036; stroke-width: 1.0;\"/><!--MD5=[c7db2955c9fec9082117c21c30ebbae7]\n",
       "@startuml\r\n",
       " \r\n",
       "package \"ViewTest\" as E1   {\r\n",
       "package \"P\" as E2   {\r\n",
       "}\r\n",
       "comp def \"VP\" as E3  <<(D,brown)viewpoint def>> {\r\n",
       "}\r\n",
       "comp def \"R\" as E4  << (B,green) >> {\r\n",
       "}\r\n",
       "comp def \"V\" as E5  << (B,green) >> {\r\n",
       "}\r\n",
       "comp usage \"vp: VP\" as E6  <<(U,orange)viewpoint>> {\r\n",
       "}\r\n",
       "comp usage \"r: R\" as E7  << (P,limegreen) part>> {\r\n",
       "}\r\n",
       "comp usage \"v: V\" as E8  << (P,limegreen) part>> {\r\n",
       "}\r\n",
       "comp usage \"r1: R\" as E9  << (P,limegreen) part>> {\r\n",
       "}\r\n",
       "E5 *- - E6\r\n",
       "E6 - -:|> E3\r\n",
       "E7 - -:|> E4\r\n",
       "E5 *- - \"0..1\"E7\r\n",
       "E8 - -:|> E5\r\n",
       "E5 *- - \"*\"E8\r\n",
       "E9 - -||> E7\r\n",
       "E8 *- - E9\r\n",
       "}\r\n",
       "@enduml\r\n",
       "\n",
       "PlantUML version 1.2020.13(Sat Jun 13 12:26:38 UTC 2020)\n",
       "(EPL source distribution)\n",
       "Java Runtime: OpenJDK Runtime Environment\n",
       "JVM: OpenJDK 64-Bit Server VM\n",
       "Default Encoding: UTF-8\n",
       "Language: en\n",
       "Country: null\n",
       "--></g></svg>"
      ]
     },
     "execution_count": 36,
     "metadata": {},
     "output_type": "execute_result"
    }
   ],
   "source": [
    "%viz --style=\"PLANTUML\" --view=\"MIXED\" \"ViewTest\""
   ]
  },
  {
   "cell_type": "code",
   "execution_count": 37,
   "id": "located-gabriel",
   "metadata": {
    "execution": {
     "iopub.execute_input": "2021-03-25T16:08:01.395204Z",
     "iopub.status.busy": "2021-03-25T16:08:01.394749Z",
     "iopub.status.idle": "2021-03-25T16:08:01.495914Z",
     "shell.execute_reply": "2021-03-25T16:08:01.495578Z"
    }
   },
   "outputs": [
    {
     "data": {
      "image/svg+xml": [
       "<?xml version=\"1.0\" encoding=\"UTF-8\" standalone=\"no\"?><svg xmlns=\"http://www.w3.org/2000/svg\" xmlns:xlink=\"http://www.w3.org/1999/xlink\" contentScriptType=\"application/ecmascript\" contentStyleType=\"text/css\" height=\"546px\" preserveAspectRatio=\"none\" style=\"width:318px;height:546px;\" version=\"1.1\" viewBox=\"0 0 318 546\" width=\"318px\" zoomAndPan=\"magnify\"><defs/><g><!--MD5=[fbc87193dbaf4d95561dea2c320d4a47]\n",
       "cluster E1--><polygon fill=\"#FFFFFF\" points=\"16,6,96,6,103,28.2969,296,28.2969,296,534,16,534,16,6\" style=\"stroke: #000000; stroke-width: 1.5;\"/><line style=\"stroke: #000000; stroke-width: 1.5;\" x1=\"16\" x2=\"103\" y1=\"28.2969\" y2=\"28.2969\"/><text fill=\"#000000\" font-family=\"sans-serif\" font-size=\"14\" font-weight=\"bold\" lengthAdjust=\"spacingAndGlyphs\" textLength=\"74\" x=\"20\" y=\"20.9951\">ViewTest</text><!--MD5=[09b614a08d8cba4a07c9adeb5e0fee81]\n",
       "class E3--><rect fill=\"#FFFFFF\" height=\"45.9375\" id=\"E3\" style=\"stroke: #383838; stroke-width: 1.5;\" width=\"98\" x=\"32\" y=\"260\"/><text fill=\"#000000\" font-family=\"sans-serif\" font-size=\"12\" font-style=\"italic\" lengthAdjust=\"spacingAndGlyphs\" textLength=\"96\" x=\"33\" y=\"276.1387\">«viewpoint def»</text><text fill=\"#000000\" font-family=\"sans-serif\" font-size=\"12\" lengthAdjust=\"spacingAndGlyphs\" textLength=\"16\" x=\"73\" y=\"290.1074\">VP</text><line style=\"stroke: #383838; stroke-width: 1.5;\" x1=\"33\" x2=\"129\" y1=\"297.9375\" y2=\"297.9375\"/><!--MD5=[ebbe1d658d1005bcc118a6aa81145e00]\n",
       "class E4--><rect fill=\"#FFFFFF\" height=\"45.9375\" id=\"E4\" style=\"stroke: #383838; stroke-width: 1.5;\" width=\"101\" x=\"146.5\" y=\"472\"/><text fill=\"#000000\" font-family=\"sans-serif\" font-size=\"12\" font-style=\"italic\" lengthAdjust=\"spacingAndGlyphs\" textLength=\"99\" x=\"147.5\" y=\"488.1387\">«rendering def»</text><text fill=\"#000000\" font-family=\"sans-serif\" font-size=\"12\" lengthAdjust=\"spacingAndGlyphs\" textLength=\"8\" x=\"193\" y=\"502.1074\">R</text><line style=\"stroke: #383838; stroke-width: 1.5;\" x1=\"147.5\" x2=\"246.5\" y1=\"509.9375\" y2=\"509.9375\"/><!--MD5=[270fce915f116d4de14055a7c1d9a0f3]\n",
       "class E5--><rect fill=\"#FFFFFF\" height=\"45.9375\" id=\"E5\" style=\"stroke: #383838; stroke-width: 1.5;\" width=\"66\" x=\"161\" y=\"44.5\"/><text fill=\"#000000\" font-family=\"sans-serif\" font-size=\"12\" font-style=\"italic\" lengthAdjust=\"spacingAndGlyphs\" textLength=\"64\" x=\"162\" y=\"60.6387\">«view def»</text><text fill=\"#000000\" font-family=\"sans-serif\" font-size=\"12\" lengthAdjust=\"spacingAndGlyphs\" textLength=\"8\" x=\"190\" y=\"74.6074\">V</text><line style=\"stroke: #383838; stroke-width: 1.5;\" x1=\"162\" x2=\"226\" y1=\"82.4375\" y2=\"82.4375\"/><!--MD5=[60a26617385b1d2d0262a64233df1f8d]\n",
       "class E6--><rect fill=\"#FFFFFF\" height=\"45.9375\" id=\"E6\" rx=\"10\" ry=\"10\" style=\"stroke: #383838; stroke-width: 1.5;\" width=\"74\" x=\"50\" y=\"154\"/><text fill=\"#000000\" font-family=\"sans-serif\" font-size=\"12\" font-style=\"italic\" lengthAdjust=\"spacingAndGlyphs\" textLength=\"72\" x=\"51\" y=\"170.1387\">«viewpoint»</text><text fill=\"#000000\" font-family=\"sans-serif\" font-size=\"12\" lengthAdjust=\"spacingAndGlyphs\" textLength=\"38\" x=\"68\" y=\"184.1074\">vp: VP</text><line style=\"stroke: #383838; stroke-width: 1.5;\" x1=\"51\" x2=\"123\" y1=\"191.9375\" y2=\"191.9375\"/><!--MD5=[2156ba9850f5573cc1fc38a6a4b2f02b]\n",
       "class E7--><rect fill=\"#FFFFFF\" height=\"45.9375\" id=\"E7\" rx=\"10\" ry=\"10\" style=\"stroke: #383838; stroke-width: 1.5;\" width=\"77\" x=\"158.5\" y=\"366\"/><text fill=\"#000000\" font-family=\"sans-serif\" font-size=\"12\" font-style=\"italic\" lengthAdjust=\"spacingAndGlyphs\" textLength=\"75\" x=\"159.5\" y=\"382.1387\">«rendering»</text><text fill=\"#000000\" font-family=\"sans-serif\" font-size=\"12\" lengthAdjust=\"spacingAndGlyphs\" textLength=\"21\" x=\"186.5\" y=\"396.1074\">r: R</text><line style=\"stroke: #383838; stroke-width: 1.5;\" x1=\"159.5\" x2=\"234.5\" y1=\"403.9375\" y2=\"403.9375\"/><!--MD5=[b9389687b975829384b498ac4b7476b2]\n",
       "class E8--><rect fill=\"#FFFFFF\" height=\"45.9375\" id=\"E8\" rx=\"10\" ry=\"10\" style=\"stroke: #383838; stroke-width: 1.5;\" width=\"42\" x=\"202\" y=\"154\"/><text fill=\"#000000\" font-family=\"sans-serif\" font-size=\"12\" font-style=\"italic\" lengthAdjust=\"spacingAndGlyphs\" textLength=\"40\" x=\"203\" y=\"170.1387\">«view»</text><text fill=\"#000000\" font-family=\"sans-serif\" font-size=\"12\" lengthAdjust=\"spacingAndGlyphs\" textLength=\"22\" x=\"212\" y=\"184.1074\">v: V</text><line style=\"stroke: #383838; stroke-width: 1.5;\" x1=\"203\" x2=\"243\" y1=\"191.9375\" y2=\"191.9375\"/><!--MD5=[fd4143e9d270a159db93a4ea2a975926]\n",
       "class E9--><rect fill=\"#FFFFFF\" height=\"45.9375\" id=\"E9\" rx=\"10\" ry=\"10\" style=\"stroke: #383838; stroke-width: 1.5;\" width=\"77\" x=\"202.5\" y=\"260\"/><text fill=\"#000000\" font-family=\"sans-serif\" font-size=\"12\" font-style=\"italic\" lengthAdjust=\"spacingAndGlyphs\" textLength=\"75\" x=\"203.5\" y=\"276.1387\">«rendering»</text><text fill=\"#000000\" font-family=\"sans-serif\" font-size=\"12\" lengthAdjust=\"spacingAndGlyphs\" textLength=\"29\" x=\"226.5\" y=\"290.1074\">r1: R</text><line style=\"stroke: #383838; stroke-width: 1.5;\" x1=\"203.5\" x2=\"278.5\" y1=\"297.9375\" y2=\"297.9375\"/><polygon fill=\"#FFFFFF\" points=\"78,41,94,41,101,63.2969,108,63.2969,108,93.5938,78,93.5938,78,41\" style=\"stroke: #000000; stroke-width: 1.5;\"/><line style=\"stroke: #000000; stroke-width: 1.5;\" x1=\"78\" x2=\"101\" y1=\"63.2969\" y2=\"63.2969\"/><text fill=\"#000000\" font-family=\"sans-serif\" font-size=\"14\" font-weight=\"bold\" lengthAdjust=\"spacingAndGlyphs\" textLength=\"10\" x=\"82\" y=\"55.9951\">P</text><!--MD5=[85d356282659285ab4b2cfe2f634dd2b]\n",
       "reverse link E5 to E6--><path d=\"M162.51,100.14 C145.4,117.33 124.66,138.16 109.25,153.65 \" fill=\"none\" id=\"E5&lt;-E6\" style=\"stroke: #383838; stroke-width: 1.0;\"/><polygon fill=\"#383838\" points=\"172.09,90.51,165.0222,91.9407,163.6245,99.015,170.6923,97.5843,172.09,90.51\" style=\"stroke: #383838; stroke-width: 1.0;\"/><!--MD5=[a717450b82c80b9240a525fa862496af]\n",
       "link E6 to E3--><path d=\"M85.73,200.06 C85.06,211.64 84.22,226.23 83.43,239.87 \" fill=\"none\" id=\"E6-&gt;E3\" style=\"stroke: #383838; stroke-width: 1.0;\"/><polygon fill=\"#FFFFFF\" points=\"82.27,259.98,76.3669,240.6111,90.3441,241.411,82.27,259.98\" style=\"stroke: #383838; stroke-width: 1.0;\"/><ellipse cx=\"78.6893\" cy=\"235.0347\" fill=\"#383838\" rx=\"2\" ry=\"2\" style=\"stroke: #383838; stroke-width: 1.0;\"/><ellipse cx=\"88.673\" cy=\"235.606\" fill=\"#383838\" rx=\"2\" ry=\"2\" style=\"stroke: #383838; stroke-width: 1.0;\"/><!--MD5=[6bdd27f9905911a7e892a3dc65cf6b7c]\n",
       "link E7 to E4--><path d=\"M197,412.06 C197,423.64 197,438.23 197,451.87 \" fill=\"none\" id=\"E7-&gt;E4\" style=\"stroke: #383838; stroke-width: 1.0;\"/><polygon fill=\"#FFFFFF\" points=\"197,471.98,190,452.98,204,452.98,197,471.98\" style=\"stroke: #383838; stroke-width: 1.0;\"/><ellipse cx=\"192\" cy=\"447.28\" fill=\"#383838\" rx=\"2\" ry=\"2\" style=\"stroke: #383838; stroke-width: 1.0;\"/><ellipse cx=\"202\" cy=\"447.28\" fill=\"#383838\" rx=\"2\" ry=\"2\" style=\"stroke: #383838; stroke-width: 1.0;\"/><!--MD5=[452b418e7f8a40397a49b8c0a78acc5b]\n",
       "reverse link E5 to E7--><path d=\"M189.45,103.79 C187.68,119.18 185.87,137.45 185,154 C181.46,221.46 180.1,238.62 185,306 C186.48,326.38 190.01,349.38 192.86,365.82 \" fill=\"none\" id=\"E5&lt;-E7\" style=\"stroke: #383838; stroke-width: 1.0;\"/><polygon fill=\"#383838\" points=\"191.03,90.59,186.3465,96.0731,189.6065,102.5053,194.29,97.0221,191.03,90.59\" style=\"stroke: #383838; stroke-width: 1.0;\"/><text fill=\"#000000\" font-family=\"sans-serif\" font-size=\"13\" lengthAdjust=\"spacingAndGlyphs\" textLength=\"24\" x=\"164.7241\" y=\"355.0502\">0..1</text><!--MD5=[1ccb2481ffa92f8d51a74ee30c51832a]\n",
       "link E8 to E5--><path d=\"M228.17,153.65 C226.85,140.84 223.06,124.37 218.16,109.34 \" fill=\"none\" id=\"E8-&gt;E5\" style=\"stroke: #383838; stroke-width: 1.0;\"/><polygon fill=\"#FFFFFF\" points=\"211.08,90.51,224.3197,105.8302,211.2157,110.758,211.08,90.51\" style=\"stroke: #383838; stroke-width: 1.0;\"/><ellipse cx=\"224.454\" cy=\"111.8694\" fill=\"#383838\" rx=\"2\" ry=\"2\" style=\"stroke: #383838; stroke-width: 1.0;\"/><ellipse cx=\"215.094\" cy=\"115.3893\" fill=\"#383838\" rx=\"2\" ry=\"2\" style=\"stroke: #383838; stroke-width: 1.0;\"/><!--MD5=[827760032d119d06bbc92f75530fd7ae]\n",
       "reverse link E5 to E8--><path d=\"M191.42,103.56 C194.56,120.03 200.21,139.18 206.39,153.65 \" fill=\"none\" id=\"E5&lt;-E8\" style=\"stroke: #383838; stroke-width: 1.0;\"/><polygon fill=\"#383838\" points=\"189.42,90.51,186.3756,97.0469,191.2387,102.3714,194.2832,95.8344,189.42,90.51\" style=\"stroke: #383838; stroke-width: 1.0;\"/><text fill=\"#000000\" font-family=\"sans-serif\" font-size=\"13\" lengthAdjust=\"spacingAndGlyphs\" textLength=\"7\" x=\"194.2368\" y=\"142.8366\">*</text><!--MD5=[cf04703ca05eebef50f1cfe8b03e143b]\n",
       "link E9 to E7--><path d=\"M231.67,306.06 C226.59,318.05 220.15,333.27 214.21,347.33 \" fill=\"none\" id=\"E9-&gt;E7\" style=\"stroke: #383838; stroke-width: 1.0;\"/><polygon fill=\"#FFFFFF\" points=\"206.32,365.98,207.2662,345.7537,220.1625,351.2021,206.32,365.98\" style=\"stroke: #383838; stroke-width: 1.0;\"/><line style=\"stroke: #383838; stroke-width: 2.0;\" x1=\"208.745\" x2=\"221.6413\" y1=\"342.2532\" y2=\"347.7017\"/><!--MD5=[22f5b4bae7e060dce8a1c8021efdb95b]\n",
       "reverse link E8 to E9--><path d=\"M229.05,212.96 C231.74,228.51 234.83,246.33 237.19,259.98 \" fill=\"none\" id=\"E8&lt;-E9\" style=\"stroke: #383838; stroke-width: 1.0;\"/><polygon fill=\"#383838\" points=\"226.82,200.06,223.9001,206.6535,228.8633,211.8848,231.7832,205.2913,226.82,200.06\" style=\"stroke: #383838; stroke-width: 1.0;\"/><!--MD5=[4c9bbd0d8d85f7387579872f82220ff7]\n",
       "@startuml\r\n",
       "skinparam monochrome true\r\n",
       "skinparam classbackgroundcolor white\r\n",
       "skinparam shadowing false\r\n",
       "skinparam wrapWidth 300\r\n",
       "hide circle\r\n",
       "\r\n",
       "package \"ViewTest\" as E1   {\r\n",
       "package \"P\" as E2   {\r\n",
       "}\r\n",
       "comp def \"VP\" as E3  <<(T,blue)viewpoint def>> {\r\n",
       "}\r\n",
       "comp def \"R\" as E4  <<(T,blue)rendering def>> {\r\n",
       "}\r\n",
       "comp def \"V\" as E5  <<(T,blue)view def>> {\r\n",
       "}\r\n",
       "comp usage \"vp: VP\" as E6  <<(T,blue)viewpoint>> {\r\n",
       "}\r\n",
       "comp usage \"r: R\" as E7  <<(T,blue)rendering>> {\r\n",
       "}\r\n",
       "comp usage \"v: V\" as E8  <<(T,blue)view>> {\r\n",
       "}\r\n",
       "comp usage \"r1: R\" as E9  <<(T,blue)rendering>> {\r\n",
       "}\r\n",
       "E5 *- - E6\r\n",
       "E6 - -:|> E3\r\n",
       "E7 - -:|> E4\r\n",
       "E5 *- - \"0..1\"E7\r\n",
       "E8 - -:|> E5\r\n",
       "E5 *- - \"*\"E8\r\n",
       "E9 - -||> E7\r\n",
       "E8 *- - E9\r\n",
       "}\r\n",
       "@enduml\r\n",
       "\n",
       "PlantUML version 1.2020.13(Sat Jun 13 12:26:38 UTC 2020)\n",
       "(EPL source distribution)\n",
       "Java Runtime: OpenJDK Runtime Environment\n",
       "JVM: OpenJDK 64-Bit Server VM\n",
       "Default Encoding: UTF-8\n",
       "Language: en\n",
       "Country: null\n",
       "--></g></svg>"
      ]
     },
     "execution_count": 37,
     "metadata": {},
     "output_type": "execute_result"
    }
   ],
   "source": [
    "%viz --style=\"DEFAULT\" --view=\"Default\" \"ViewTest\""
   ]
  },
  {
   "cell_type": "code",
   "execution_count": 38,
   "id": "violent-centre",
   "metadata": {
    "execution": {
     "iopub.execute_input": "2021-03-25T16:08:01.548627Z",
     "iopub.status.busy": "2021-03-25T16:08:01.547239Z",
     "iopub.status.idle": "2021-03-25T16:08:01.653143Z",
     "shell.execute_reply": "2021-03-25T16:08:01.652644Z"
    }
   },
   "outputs": [
    {
     "data": {
      "image/svg+xml": [
       "<?xml version=\"1.0\" encoding=\"UTF-8\" standalone=\"no\"?><svg xmlns=\"http://www.w3.org/2000/svg\" xmlns:xlink=\"http://www.w3.org/1999/xlink\" contentScriptType=\"application/ecmascript\" contentStyleType=\"text/css\" height=\"546px\" preserveAspectRatio=\"none\" style=\"width:318px;height:546px;\" version=\"1.1\" viewBox=\"0 0 318 546\" width=\"318px\" zoomAndPan=\"magnify\"><defs/><g><!--MD5=[fbc87193dbaf4d95561dea2c320d4a47]\n",
       "cluster E1--><polygon fill=\"#FFFFFF\" points=\"16,6,96,6,103,28.2969,296,28.2969,296,534,16,534,16,6\" style=\"stroke: #000000; stroke-width: 1.5;\"/><line style=\"stroke: #000000; stroke-width: 1.5;\" x1=\"16\" x2=\"103\" y1=\"28.2969\" y2=\"28.2969\"/><text fill=\"#000000\" font-family=\"sans-serif\" font-size=\"14\" font-weight=\"bold\" lengthAdjust=\"spacingAndGlyphs\" textLength=\"74\" x=\"20\" y=\"20.9951\">ViewTest</text><!--MD5=[09b614a08d8cba4a07c9adeb5e0fee81]\n",
       "class E3--><rect fill=\"#FFFFFF\" height=\"45.9375\" id=\"E3\" style=\"stroke: #383838; stroke-width: 1.5;\" width=\"98\" x=\"32\" y=\"260\"/><text fill=\"#000000\" font-family=\"sans-serif\" font-size=\"12\" font-style=\"italic\" lengthAdjust=\"spacingAndGlyphs\" textLength=\"96\" x=\"33\" y=\"276.1387\">«viewpoint def»</text><text fill=\"#000000\" font-family=\"sans-serif\" font-size=\"12\" lengthAdjust=\"spacingAndGlyphs\" textLength=\"16\" x=\"73\" y=\"290.1074\">VP</text><line style=\"stroke: #383838; stroke-width: 1.5;\" x1=\"33\" x2=\"129\" y1=\"297.9375\" y2=\"297.9375\"/><!--MD5=[ebbe1d658d1005bcc118a6aa81145e00]\n",
       "class E4--><rect fill=\"#FFFFFF\" height=\"45.9375\" id=\"E4\" style=\"stroke: #383838; stroke-width: 1.5;\" width=\"101\" x=\"146.5\" y=\"472\"/><text fill=\"#000000\" font-family=\"sans-serif\" font-size=\"12\" font-style=\"italic\" lengthAdjust=\"spacingAndGlyphs\" textLength=\"99\" x=\"147.5\" y=\"488.1387\">«rendering def»</text><text fill=\"#000000\" font-family=\"sans-serif\" font-size=\"12\" lengthAdjust=\"spacingAndGlyphs\" textLength=\"8\" x=\"193\" y=\"502.1074\">R</text><line style=\"stroke: #383838; stroke-width: 1.5;\" x1=\"147.5\" x2=\"246.5\" y1=\"509.9375\" y2=\"509.9375\"/><!--MD5=[270fce915f116d4de14055a7c1d9a0f3]\n",
       "class E5--><rect fill=\"#FFFFFF\" height=\"45.9375\" id=\"E5\" style=\"stroke: #383838; stroke-width: 1.5;\" width=\"66\" x=\"161\" y=\"44.5\"/><text fill=\"#000000\" font-family=\"sans-serif\" font-size=\"12\" font-style=\"italic\" lengthAdjust=\"spacingAndGlyphs\" textLength=\"64\" x=\"162\" y=\"60.6387\">«view def»</text><text fill=\"#000000\" font-family=\"sans-serif\" font-size=\"12\" lengthAdjust=\"spacingAndGlyphs\" textLength=\"8\" x=\"190\" y=\"74.6074\">V</text><line style=\"stroke: #383838; stroke-width: 1.5;\" x1=\"162\" x2=\"226\" y1=\"82.4375\" y2=\"82.4375\"/><!--MD5=[60a26617385b1d2d0262a64233df1f8d]\n",
       "class E6--><rect fill=\"#FFFFFF\" height=\"45.9375\" id=\"E6\" rx=\"10\" ry=\"10\" style=\"stroke: #383838; stroke-width: 1.5;\" width=\"74\" x=\"50\" y=\"154\"/><text fill=\"#000000\" font-family=\"sans-serif\" font-size=\"12\" font-style=\"italic\" lengthAdjust=\"spacingAndGlyphs\" textLength=\"72\" x=\"51\" y=\"170.1387\">«viewpoint»</text><text fill=\"#000000\" font-family=\"sans-serif\" font-size=\"12\" lengthAdjust=\"spacingAndGlyphs\" textLength=\"38\" x=\"68\" y=\"184.1074\">vp: VP</text><line style=\"stroke: #383838; stroke-width: 1.5;\" x1=\"51\" x2=\"123\" y1=\"191.9375\" y2=\"191.9375\"/><!--MD5=[2156ba9850f5573cc1fc38a6a4b2f02b]\n",
       "class E7--><rect fill=\"#FFFFFF\" height=\"45.9375\" id=\"E7\" rx=\"10\" ry=\"10\" style=\"stroke: #383838; stroke-width: 1.5;\" width=\"77\" x=\"158.5\" y=\"366\"/><text fill=\"#000000\" font-family=\"sans-serif\" font-size=\"12\" font-style=\"italic\" lengthAdjust=\"spacingAndGlyphs\" textLength=\"75\" x=\"159.5\" y=\"382.1387\">«rendering»</text><text fill=\"#000000\" font-family=\"sans-serif\" font-size=\"12\" lengthAdjust=\"spacingAndGlyphs\" textLength=\"21\" x=\"186.5\" y=\"396.1074\">r: R</text><line style=\"stroke: #383838; stroke-width: 1.5;\" x1=\"159.5\" x2=\"234.5\" y1=\"403.9375\" y2=\"403.9375\"/><!--MD5=[b9389687b975829384b498ac4b7476b2]\n",
       "class E8--><rect fill=\"#FFFFFF\" height=\"45.9375\" id=\"E8\" rx=\"10\" ry=\"10\" style=\"stroke: #383838; stroke-width: 1.5;\" width=\"42\" x=\"202\" y=\"154\"/><text fill=\"#000000\" font-family=\"sans-serif\" font-size=\"12\" font-style=\"italic\" lengthAdjust=\"spacingAndGlyphs\" textLength=\"40\" x=\"203\" y=\"170.1387\">«view»</text><text fill=\"#000000\" font-family=\"sans-serif\" font-size=\"12\" lengthAdjust=\"spacingAndGlyphs\" textLength=\"22\" x=\"212\" y=\"184.1074\">v: V</text><line style=\"stroke: #383838; stroke-width: 1.5;\" x1=\"203\" x2=\"243\" y1=\"191.9375\" y2=\"191.9375\"/><!--MD5=[fd4143e9d270a159db93a4ea2a975926]\n",
       "class E9--><rect fill=\"#FFFFFF\" height=\"45.9375\" id=\"E9\" rx=\"10\" ry=\"10\" style=\"stroke: #383838; stroke-width: 1.5;\" width=\"77\" x=\"202.5\" y=\"260\"/><text fill=\"#000000\" font-family=\"sans-serif\" font-size=\"12\" font-style=\"italic\" lengthAdjust=\"spacingAndGlyphs\" textLength=\"75\" x=\"203.5\" y=\"276.1387\">«rendering»</text><text fill=\"#000000\" font-family=\"sans-serif\" font-size=\"12\" lengthAdjust=\"spacingAndGlyphs\" textLength=\"29\" x=\"226.5\" y=\"290.1074\">r1: R</text><line style=\"stroke: #383838; stroke-width: 1.5;\" x1=\"203.5\" x2=\"278.5\" y1=\"297.9375\" y2=\"297.9375\"/><polygon fill=\"#FFFFFF\" points=\"78,41,94,41,101,63.2969,108,63.2969,108,93.5938,78,93.5938,78,41\" style=\"stroke: #000000; stroke-width: 1.5;\"/><line style=\"stroke: #000000; stroke-width: 1.5;\" x1=\"78\" x2=\"101\" y1=\"63.2969\" y2=\"63.2969\"/><text fill=\"#000000\" font-family=\"sans-serif\" font-size=\"14\" font-weight=\"bold\" lengthAdjust=\"spacingAndGlyphs\" textLength=\"10\" x=\"82\" y=\"55.9951\">P</text><!--MD5=[85d356282659285ab4b2cfe2f634dd2b]\n",
       "reverse link E5 to E6--><path d=\"M162.51,100.14 C145.4,117.33 124.66,138.16 109.25,153.65 \" fill=\"none\" id=\"E5&lt;-E6\" style=\"stroke: #383838; stroke-width: 1.0;\"/><polygon fill=\"#383838\" points=\"172.09,90.51,165.0222,91.9407,163.6245,99.015,170.6923,97.5843,172.09,90.51\" style=\"stroke: #383838; stroke-width: 1.0;\"/><!--MD5=[a717450b82c80b9240a525fa862496af]\n",
       "link E6 to E3--><path d=\"M85.73,200.06 C85.06,211.64 84.22,226.23 83.43,239.87 \" fill=\"none\" id=\"E6-&gt;E3\" style=\"stroke: #383838; stroke-width: 1.0;\"/><polygon fill=\"#FFFFFF\" points=\"82.27,259.98,76.3669,240.6111,90.3441,241.411,82.27,259.98\" style=\"stroke: #383838; stroke-width: 1.0;\"/><ellipse cx=\"78.6893\" cy=\"235.0347\" fill=\"#383838\" rx=\"2\" ry=\"2\" style=\"stroke: #383838; stroke-width: 1.0;\"/><ellipse cx=\"88.673\" cy=\"235.606\" fill=\"#383838\" rx=\"2\" ry=\"2\" style=\"stroke: #383838; stroke-width: 1.0;\"/><!--MD5=[6bdd27f9905911a7e892a3dc65cf6b7c]\n",
       "link E7 to E4--><path d=\"M197,412.06 C197,423.64 197,438.23 197,451.87 \" fill=\"none\" id=\"E7-&gt;E4\" style=\"stroke: #383838; stroke-width: 1.0;\"/><polygon fill=\"#FFFFFF\" points=\"197,471.98,190,452.98,204,452.98,197,471.98\" style=\"stroke: #383838; stroke-width: 1.0;\"/><ellipse cx=\"192\" cy=\"447.28\" fill=\"#383838\" rx=\"2\" ry=\"2\" style=\"stroke: #383838; stroke-width: 1.0;\"/><ellipse cx=\"202\" cy=\"447.28\" fill=\"#383838\" rx=\"2\" ry=\"2\" style=\"stroke: #383838; stroke-width: 1.0;\"/><!--MD5=[452b418e7f8a40397a49b8c0a78acc5b]\n",
       "reverse link E5 to E7--><path d=\"M189.45,103.79 C187.68,119.18 185.87,137.45 185,154 C181.46,221.46 180.1,238.62 185,306 C186.48,326.38 190.01,349.38 192.86,365.82 \" fill=\"none\" id=\"E5&lt;-E7\" style=\"stroke: #383838; stroke-width: 1.0;\"/><polygon fill=\"#383838\" points=\"191.03,90.59,186.3465,96.0731,189.6065,102.5053,194.29,97.0221,191.03,90.59\" style=\"stroke: #383838; stroke-width: 1.0;\"/><text fill=\"#000000\" font-family=\"sans-serif\" font-size=\"13\" lengthAdjust=\"spacingAndGlyphs\" textLength=\"24\" x=\"164.7241\" y=\"355.0502\">0..1</text><!--MD5=[1ccb2481ffa92f8d51a74ee30c51832a]\n",
       "link E8 to E5--><path d=\"M228.17,153.65 C226.85,140.84 223.06,124.37 218.16,109.34 \" fill=\"none\" id=\"E8-&gt;E5\" style=\"stroke: #383838; stroke-width: 1.0;\"/><polygon fill=\"#FFFFFF\" points=\"211.08,90.51,224.3197,105.8302,211.2157,110.758,211.08,90.51\" style=\"stroke: #383838; stroke-width: 1.0;\"/><ellipse cx=\"224.454\" cy=\"111.8694\" fill=\"#383838\" rx=\"2\" ry=\"2\" style=\"stroke: #383838; stroke-width: 1.0;\"/><ellipse cx=\"215.094\" cy=\"115.3893\" fill=\"#383838\" rx=\"2\" ry=\"2\" style=\"stroke: #383838; stroke-width: 1.0;\"/><!--MD5=[827760032d119d06bbc92f75530fd7ae]\n",
       "reverse link E5 to E8--><path d=\"M191.42,103.56 C194.56,120.03 200.21,139.18 206.39,153.65 \" fill=\"none\" id=\"E5&lt;-E8\" style=\"stroke: #383838; stroke-width: 1.0;\"/><polygon fill=\"#383838\" points=\"189.42,90.51,186.3756,97.0469,191.2387,102.3714,194.2832,95.8344,189.42,90.51\" style=\"stroke: #383838; stroke-width: 1.0;\"/><text fill=\"#000000\" font-family=\"sans-serif\" font-size=\"13\" lengthAdjust=\"spacingAndGlyphs\" textLength=\"7\" x=\"194.2368\" y=\"142.8366\">*</text><!--MD5=[cf04703ca05eebef50f1cfe8b03e143b]\n",
       "link E9 to E7--><path d=\"M231.67,306.06 C226.59,318.05 220.15,333.27 214.21,347.33 \" fill=\"none\" id=\"E9-&gt;E7\" style=\"stroke: #383838; stroke-width: 1.0;\"/><polygon fill=\"#FFFFFF\" points=\"206.32,365.98,207.2662,345.7537,220.1625,351.2021,206.32,365.98\" style=\"stroke: #383838; stroke-width: 1.0;\"/><line style=\"stroke: #383838; stroke-width: 2.0;\" x1=\"208.745\" x2=\"221.6413\" y1=\"342.2532\" y2=\"347.7017\"/><!--MD5=[22f5b4bae7e060dce8a1c8021efdb95b]\n",
       "reverse link E8 to E9--><path d=\"M229.05,212.96 C231.74,228.51 234.83,246.33 237.19,259.98 \" fill=\"none\" id=\"E8&lt;-E9\" style=\"stroke: #383838; stroke-width: 1.0;\"/><polygon fill=\"#383838\" points=\"226.82,200.06,223.9001,206.6535,228.8633,211.8848,231.7832,205.2913,226.82,200.06\" style=\"stroke: #383838; stroke-width: 1.0;\"/><!--MD5=[4c9bbd0d8d85f7387579872f82220ff7]\n",
       "@startuml\r\n",
       "skinparam monochrome true\r\n",
       "skinparam classbackgroundcolor white\r\n",
       "skinparam shadowing false\r\n",
       "skinparam wrapWidth 300\r\n",
       "hide circle\r\n",
       "\r\n",
       "package \"ViewTest\" as E1   {\r\n",
       "package \"P\" as E2   {\r\n",
       "}\r\n",
       "comp def \"VP\" as E3  <<(T,blue)viewpoint def>> {\r\n",
       "}\r\n",
       "comp def \"R\" as E4  <<(T,blue)rendering def>> {\r\n",
       "}\r\n",
       "comp def \"V\" as E5  <<(T,blue)view def>> {\r\n",
       "}\r\n",
       "comp usage \"vp: VP\" as E6  <<(T,blue)viewpoint>> {\r\n",
       "}\r\n",
       "comp usage \"r: R\" as E7  <<(T,blue)rendering>> {\r\n",
       "}\r\n",
       "comp usage \"v: V\" as E8  <<(T,blue)view>> {\r\n",
       "}\r\n",
       "comp usage \"r1: R\" as E9  <<(T,blue)rendering>> {\r\n",
       "}\r\n",
       "E5 *- - E6\r\n",
       "E6 - -:|> E3\r\n",
       "E7 - -:|> E4\r\n",
       "E5 *- - \"0..1\"E7\r\n",
       "E8 - -:|> E5\r\n",
       "E5 *- - \"*\"E8\r\n",
       "E9 - -||> E7\r\n",
       "E8 *- - E9\r\n",
       "}\r\n",
       "@enduml\r\n",
       "\n",
       "PlantUML version 1.2020.13(Sat Jun 13 12:26:38 UTC 2020)\n",
       "(EPL source distribution)\n",
       "Java Runtime: OpenJDK Runtime Environment\n",
       "JVM: OpenJDK 64-Bit Server VM\n",
       "Default Encoding: UTF-8\n",
       "Language: en\n",
       "Country: null\n",
       "--></g></svg>"
      ]
     },
     "execution_count": 38,
     "metadata": {},
     "output_type": "execute_result"
    }
   ],
   "source": [
    "%viz --style=\"DEFAULT\" --view=\"Tree\" \"ViewTest\""
   ]
  },
  {
   "cell_type": "code",
   "execution_count": 39,
   "id": "upper-chest",
   "metadata": {
    "execution": {
     "iopub.execute_input": "2021-03-25T16:08:01.704021Z",
     "iopub.status.busy": "2021-03-25T16:08:01.703349Z",
     "iopub.status.idle": "2021-03-25T16:08:01.705410Z",
     "shell.execute_reply": "2021-03-25T16:08:01.705924Z"
    }
   },
   "outputs": [
    {
     "data": {
      "text/plain": [
       "java.lang.IllegalArgumentException: Invalid View: State View candidates are: Default Tree StateMachine Interconnection Activity Sequence MIXED \n",
       "\tat org.omg.sysml.plantuml.SysML2PlantUMLSvc.setView(SysML2PlantUMLSvc.java:63)\n",
       "\tat org.omg.sysml.interactive.SysMLInteractive.viz(SysMLInteractive.java:286)\n",
       "\tat org.omg.sysml.jupyter.kernel.magic.Viz.viz(Viz.java:47)\n",
       "\tat jdk.internal.reflect.GeneratedMethodAccessor10.invoke(Unknown Source)\n",
       "\tat java.base/jdk.internal.reflect.DelegatingMethodAccessorImpl.invoke(DelegatingMethodAccessorImpl.java:43)\n",
       "\tat java.base/java.lang.reflect.Method.invoke(Method.java:568)\n",
       "\tat io.github.spencerpark.jupyter.kernel.magic.registry.Magics.invoke(Magics.java:89)\n",
       "\tat io.github.spencerpark.jupyter.kernel.magic.registry.Magics.access$000(Magics.java:8)\n",
       "\tat io.github.spencerpark.jupyter.kernel.magic.registry.Magics$LineReflectionMagicFunction.execute(Magics.java:149)\n",
       "\tat io.github.spencerpark.jupyter.kernel.magic.registry.Magics.applyLineMagic(Magics.java:26)\n",
       "\tat org.omg.sysml.jupyter.kernel.SysMLKernel.eval(SysMLKernel.java:76)\n",
       "\tat io.github.spencerpark.jupyter.kernel.BaseKernel.handleExecuteRequest(BaseKernel.java:334)\n",
       "\tat io.github.spencerpark.jupyter.channels.ShellChannel.lambda$bind$0(ShellChannel.java:64)\n",
       "\tat io.github.spencerpark.jupyter.channels.Loop.lambda$new$0(Loop.java:21)\n",
       "\tat io.github.spencerpark.jupyter.channels.Loop.run(Loop.java:78)\n"
      ]
     },
     "execution_count": 39,
     "metadata": {},
     "output_type": "execute_result"
    }
   ],
   "source": [
    "%viz --style=\"DEFAULT\" --view=\"State\" \"ViewTest\""
   ]
  },
  {
   "cell_type": "code",
   "execution_count": 40,
   "id": "stuffed-viking",
   "metadata": {
    "execution": {
     "iopub.execute_input": "2021-03-25T16:08:01.757955Z",
     "iopub.status.busy": "2021-03-25T16:08:01.756875Z",
     "iopub.status.idle": "2021-03-25T16:08:01.868830Z",
     "shell.execute_reply": "2021-03-25T16:08:01.867446Z"
    }
   },
   "outputs": [
    {
     "data": {
      "image/svg+xml": [
       "<?xml version=\"1.0\" encoding=\"UTF-8\" standalone=\"no\"?><svg xmlns=\"http://www.w3.org/2000/svg\" xmlns:xlink=\"http://www.w3.org/1999/xlink\" contentScriptType=\"application/ecmascript\" contentStyleType=\"text/css\" height=\"288px\" preserveAspectRatio=\"none\" style=\"width:903px;height:288px;\" version=\"1.1\" viewBox=\"0 0 903 288\" width=\"903px\" zoomAndPan=\"magnify\"><defs/><g><!--MD5=[fbc87193dbaf4d95561dea2c320d4a47]\n",
       "cluster E1--><polygon fill=\"#FFFFFF\" points=\"16,6,96,6,103,28.2969,881,28.2969,881,276,16,276,16,6\" style=\"stroke: #000000; stroke-width: 1.5;\"/><line style=\"stroke: #000000; stroke-width: 1.5;\" x1=\"16\" x2=\"103\" y1=\"28.2969\" y2=\"28.2969\"/><text fill=\"#000000\" font-family=\"sans-serif\" font-size=\"14\" font-weight=\"bold\" lengthAdjust=\"spacingAndGlyphs\" textLength=\"74\" x=\"20\" y=\"20.9951\">ViewTest</text><!--MD5=[de5ec2e2e8f62f467e546659f5068c88]\n",
       "cluster E5--><rect fill=\"#FFFFFF\" height=\"203\" style=\"stroke: #000000; stroke-width: 1.5;\" width=\"476\" x=\"381\" y=\"49\"/><text fill=\"#000000\" font-family=\"sans-serif\" font-size=\"14\" font-style=\"italic\" lengthAdjust=\"spacingAndGlyphs\" textLength=\"74\" x=\"582\" y=\"63.9951\">«view def»</text><text fill=\"#000000\" font-family=\"sans-serif\" font-size=\"14\" font-weight=\"bold\" lengthAdjust=\"spacingAndGlyphs\" textLength=\"11\" x=\"613.5\" y=\"80.292\">V</text><!--MD5=[14e3b0961a2654348d326746436168a1]\n",
       "cluster E6--><rect fill=\"#F8F8F8\" height=\"120\" rx=\"12.5\" ry=\"12.5\" style=\"stroke: #000000; stroke-width: 1.5;\" width=\"142\" x=\"691\" y=\"108\"/><rect fill=\"#FFFFFF\" height=\"87.7031\" rx=\"12.5\" ry=\"12.5\" style=\"stroke: #FFFFFF; stroke-width: 1.0;\" width=\"136\" x=\"694\" y=\"137.2969\"/><line style=\"stroke: #000000; stroke-width: 1.5;\" x1=\"691\" x2=\"833\" y1=\"134.2969\" y2=\"134.2969\"/><text fill=\"#000000\" font-family=\"sans-serif\" font-size=\"14\" lengthAdjust=\"spacingAndGlyphs\" textLength=\"43\" x=\"720.5\" y=\"124.9951\">vp: VP</text><!--MD5=[7f149f147074ac12df2cb0a7728a5fb0]\n",
       "cluster E9--><rect fill=\"#F8F8F8\" height=\"104\" rx=\"12.5\" ry=\"12.5\" style=\"stroke: #000000; stroke-width: 1.5;\" width=\"110\" x=\"557\" y=\"124\"/><rect fill=\"#FFFFFF\" height=\"71.7031\" rx=\"12.5\" ry=\"12.5\" style=\"stroke: #FFFFFF; stroke-width: 1.0;\" width=\"104\" x=\"560\" y=\"153.2969\"/><line style=\"stroke: #000000; stroke-width: 1.5;\" x1=\"557\" x2=\"667\" y1=\"150.2969\" y2=\"150.2969\"/><text fill=\"#000000\" font-family=\"sans-serif\" font-size=\"14\" lengthAdjust=\"spacingAndGlyphs\" textLength=\"25\" x=\"599.5\" y=\"140.9951\">v: V</text><!--MD5=[09b614a08d8cba4a07c9adeb5e0fee81]\n",
       "class E3--><rect fill=\"#FFFFFF\" height=\"53.9375\" id=\"E3\" style=\"stroke: #383838; stroke-width: 1.5;\" width=\"98\" x=\"264\" y=\"158.5\"/><text fill=\"#000000\" font-family=\"sans-serif\" font-size=\"12\" font-style=\"italic\" lengthAdjust=\"spacingAndGlyphs\" textLength=\"96\" x=\"265\" y=\"174.6387\">«viewpoint def»</text><text fill=\"#000000\" font-family=\"sans-serif\" font-size=\"12\" lengthAdjust=\"spacingAndGlyphs\" textLength=\"16\" x=\"305\" y=\"188.6074\">VP</text><line style=\"stroke: #383838; stroke-width: 1.5;\" x1=\"265\" x2=\"361\" y1=\"196.4375\" y2=\"196.4375\"/><line style=\"stroke: #383838; stroke-width: 1.5;\" x1=\"265\" x2=\"361\" y1=\"204.4375\" y2=\"204.4375\"/><polygon fill=\"#FFFFFF\" points=\"199,159,215,159,222,181.2969,229,181.2969,229,211.5938,199,211.5938,199,159\" style=\"stroke: #000000; stroke-width: 1.5;\"/><line style=\"stroke: #000000; stroke-width: 1.5;\" x1=\"199\" x2=\"222\" y1=\"181.2969\" y2=\"181.2969\"/><text fill=\"#000000\" font-family=\"sans-serif\" font-size=\"14\" font-weight=\"bold\" lengthAdjust=\"spacingAndGlyphs\" textLength=\"10\" x=\"203\" y=\"173.9951\">P</text><!--MD5=[961cefdc15414eaa3e87aec9d17c2188]\n",
       "entity E4--><rect fill=\"#FFFFFF\" height=\"52.5938\" style=\"stroke: #000000; stroke-width: 1.5;\" width=\"131\" x=\"32.5\" y=\"159\"/><text fill=\"#000000\" font-family=\"sans-serif\" font-size=\"14\" font-style=\"italic\" lengthAdjust=\"spacingAndGlyphs\" textLength=\"111\" x=\"42.5\" y=\"181.9951\">«rendering def»</text><text fill=\"#000000\" font-family=\"sans-serif\" font-size=\"14\" lengthAdjust=\"spacingAndGlyphs\" textLength=\"10\" x=\"93\" y=\"198.292\">R</text><g id=\"E1.E5.E6.E7\"><rect fill=\"#FFFFFF\" height=\"52.5938\" rx=\"12.5\" ry=\"12.5\" style=\"stroke: #383838; stroke-width: 1.5;\" width=\"110\" x=\"707\" y=\"159\"/><line style=\"stroke: #383838; stroke-width: 1.5;\" x1=\"707\" x2=\"817\" y1=\"201.5938\" y2=\"201.5938\"/><text fill=\"#000000\" font-family=\"sans-serif\" font-size=\"14\" lengthAdjust=\"spacingAndGlyphs\" textLength=\"70\" x=\"727\" y=\"176.9951\">subj: View</text><text fill=\"#000000\" font-family=\"sans-serif\" font-size=\"14\" font-style=\"italic\" lengthAdjust=\"spacingAndGlyphs\" textLength=\"86\" x=\"717\" y=\"193.292\">:&gt;&gt;VP::subj</text><text fill=\"#000000\" font-family=\"sans-serif\" font-size=\"14\" lengthAdjust=\"spacingAndGlyphs\" textLength=\"0\" x=\"807\" y=\"193.292\"/></g><g id=\"E1.E5.E8\"><rect fill=\"#FFFFFF\" height=\"52.5938\" rx=\"12.5\" ry=\"12.5\" style=\"stroke: #383838; stroke-width: 1.5;\" width=\"141\" x=\"397.5\" y=\"159\"/><line style=\"stroke: #383838; stroke-width: 1.5;\" x1=\"397.5\" x2=\"538.5\" y1=\"201.5938\" y2=\"201.5938\"/><text fill=\"#000000\" font-family=\"sans-serif\" font-size=\"14\" lengthAdjust=\"spacingAndGlyphs\" textLength=\"24\" x=\"456\" y=\"176.9951\">r: R</text><text fill=\"#000000\" font-family=\"sans-serif\" font-size=\"14\" font-style=\"italic\" lengthAdjust=\"spacingAndGlyphs\" textLength=\"117\" x=\"407.5\" y=\"193.292\">:&gt;&gt;View::render</text><text fill=\"#000000\" font-family=\"sans-serif\" font-size=\"14\" lengthAdjust=\"spacingAndGlyphs\" textLength=\"0\" x=\"528.5\" y=\"193.292\"/></g><g id=\"E1.E5.E9.E10\"><rect fill=\"#FFFFFF\" height=\"52.5938\" rx=\"12.5\" ry=\"12.5\" style=\"stroke: #383838; stroke-width: 1.5;\" width=\"77\" x=\"573.5\" y=\"159\"/><line style=\"stroke: #383838; stroke-width: 1.5;\" x1=\"573.5\" x2=\"650.5\" y1=\"201.5938\" y2=\"201.5938\"/><text fill=\"#000000\" font-family=\"sans-serif\" font-size=\"14\" lengthAdjust=\"spacingAndGlyphs\" textLength=\"33\" x=\"595.5\" y=\"176.9951\">r1: R</text><text fill=\"#000000\" font-family=\"sans-serif\" font-size=\"14\" font-style=\"italic\" lengthAdjust=\"spacingAndGlyphs\" textLength=\"53\" x=\"583.5\" y=\"193.292\">:&gt;&gt;V::r</text><text fill=\"#000000\" font-family=\"sans-serif\" font-size=\"14\" lengthAdjust=\"spacingAndGlyphs\" textLength=\"0\" x=\"640.5\" y=\"193.292\"/></g><!--MD5=[6602c07dc43f67bf889e09a1070e16a2]\n",
       "@startuml\r\n",
       "skinparam ranksep 8\r\n",
       "skinparam rectangle {\r\n",
       " backgroundColor<<block>> LightGreen\r\n",
       "}\r\n",
       "skinparam monochrome true\r\n",
       "skinparam classbackgroundcolor white\r\n",
       "skinparam shadowing false\r\n",
       "skinparam wrapWidth 300\r\n",
       "hide circle\r\n",
       "\r\n",
       "package \"ViewTest\" as E1   {\r\n",
       "package \"P\" as E2   {\r\n",
       "}\r\n",
       "def \"VP\" as E3  <<viewpoint def>> \r\n",
       "rec def \"R\" as E4  <<rendering def>> {\r\n",
       "}\r\n",
       "rec def \"V\" as E5  <<view def>> {\r\n",
       "rec usage \"vp: VP\" as E6  <<viewpoint>> {\r\n",
       "rec usage \"subj: View\\n//:>>VP::subj// \" as E7  <<reference>> {\r\n",
       "}\r\n",
       "}\r\n",
       "rec usage \"r: R\\n//:>>View::render// \" as E8  {\r\n",
       "}\r\n",
       "rec usage \"v: V\" as E9  {\r\n",
       "rec usage \"r1: R\\n//:>>V::r// \" as E10  {\r\n",
       "}\r\n",
       "}\r\n",
       "}\r\n",
       "}\r\n",
       "@enduml\r\n",
       "\n",
       "PlantUML version 1.2020.13(Sat Jun 13 12:26:38 UTC 2020)\n",
       "(EPL source distribution)\n",
       "Java Runtime: OpenJDK Runtime Environment\n",
       "JVM: OpenJDK 64-Bit Server VM\n",
       "Default Encoding: UTF-8\n",
       "Language: en\n",
       "Country: null\n",
       "--></g></svg>"
      ]
     },
     "execution_count": 40,
     "metadata": {},
     "output_type": "execute_result"
    }
   ],
   "source": [
    "%viz --style=\"DEFAULT\" --view=\"Interconnection\" \"ViewTest\""
   ]
  },
  {
   "cell_type": "code",
   "execution_count": 41,
   "id": "cardiovascular-newcastle",
   "metadata": {
    "execution": {
     "iopub.execute_input": "2021-03-25T16:08:01.919648Z",
     "iopub.status.busy": "2021-03-25T16:08:01.919133Z",
     "iopub.status.idle": "2021-03-25T16:08:01.920810Z",
     "shell.execute_reply": "2021-03-25T16:08:01.921294Z"
    }
   },
   "outputs": [
    {
     "data": {
      "text/plain": [
       "java.lang.IllegalArgumentException: Invalid View: Action View candidates are: Default Tree StateMachine Interconnection Activity Sequence MIXED \n",
       "\tat org.omg.sysml.plantuml.SysML2PlantUMLSvc.setView(SysML2PlantUMLSvc.java:63)\n",
       "\tat org.omg.sysml.interactive.SysMLInteractive.viz(SysMLInteractive.java:286)\n",
       "\tat org.omg.sysml.jupyter.kernel.magic.Viz.viz(Viz.java:47)\n",
       "\tat jdk.internal.reflect.GeneratedMethodAccessor10.invoke(Unknown Source)\n",
       "\tat java.base/jdk.internal.reflect.DelegatingMethodAccessorImpl.invoke(DelegatingMethodAccessorImpl.java:43)\n",
       "\tat java.base/java.lang.reflect.Method.invoke(Method.java:568)\n",
       "\tat io.github.spencerpark.jupyter.kernel.magic.registry.Magics.invoke(Magics.java:89)\n",
       "\tat io.github.spencerpark.jupyter.kernel.magic.registry.Magics.access$000(Magics.java:8)\n",
       "\tat io.github.spencerpark.jupyter.kernel.magic.registry.Magics$LineReflectionMagicFunction.execute(Magics.java:149)\n",
       "\tat io.github.spencerpark.jupyter.kernel.magic.registry.Magics.applyLineMagic(Magics.java:26)\n",
       "\tat org.omg.sysml.jupyter.kernel.SysMLKernel.eval(SysMLKernel.java:76)\n",
       "\tat io.github.spencerpark.jupyter.kernel.BaseKernel.handleExecuteRequest(BaseKernel.java:334)\n",
       "\tat io.github.spencerpark.jupyter.channels.ShellChannel.lambda$bind$0(ShellChannel.java:64)\n",
       "\tat io.github.spencerpark.jupyter.channels.Loop.lambda$new$0(Loop.java:21)\n",
       "\tat io.github.spencerpark.jupyter.channels.Loop.run(Loop.java:78)\n"
      ]
     },
     "execution_count": 41,
     "metadata": {},
     "output_type": "execute_result"
    }
   ],
   "source": [
    "%viz --style=\"DEFAULT\" --view=\"Action\" \"ViewTest\""
   ]
  },
  {
   "cell_type": "code",
   "execution_count": 42,
   "id": "indonesian-legislation",
   "metadata": {
    "execution": {
     "iopub.execute_input": "2021-03-25T16:08:01.973823Z",
     "iopub.status.busy": "2021-03-25T16:08:01.972898Z",
     "iopub.status.idle": "2021-03-25T16:08:02.078752Z",
     "shell.execute_reply": "2021-03-25T16:08:02.073619Z"
    }
   },
   "outputs": [
    {
     "data": {
      "image/svg+xml": [
       "<?xml version=\"1.0\" encoding=\"UTF-8\" standalone=\"no\"?><svg xmlns=\"http://www.w3.org/2000/svg\" xmlns:xlink=\"http://www.w3.org/1999/xlink\" contentScriptType=\"application/ecmascript\" contentStyleType=\"text/css\" height=\"546px\" preserveAspectRatio=\"none\" style=\"width:318px;height:546px;\" version=\"1.1\" viewBox=\"0 0 318 546\" width=\"318px\" zoomAndPan=\"magnify\"><defs/><g><!--MD5=[fbc87193dbaf4d95561dea2c320d4a47]\n",
       "cluster E1--><polygon fill=\"#FFFFFF\" points=\"16,6,96,6,103,28.2969,296,28.2969,296,534,16,534,16,6\" style=\"stroke: #000000; stroke-width: 1.5;\"/><line style=\"stroke: #000000; stroke-width: 1.5;\" x1=\"16\" x2=\"103\" y1=\"28.2969\" y2=\"28.2969\"/><text fill=\"#000000\" font-family=\"sans-serif\" font-size=\"14\" font-weight=\"bold\" lengthAdjust=\"spacingAndGlyphs\" textLength=\"74\" x=\"20\" y=\"20.9951\">ViewTest</text><!--MD5=[09b614a08d8cba4a07c9adeb5e0fee81]\n",
       "class E3--><rect fill=\"#FFFFFF\" height=\"45.9375\" id=\"E3\" style=\"stroke: #383838; stroke-width: 1.5;\" width=\"98\" x=\"32\" y=\"260\"/><text fill=\"#000000\" font-family=\"sans-serif\" font-size=\"12\" font-style=\"italic\" lengthAdjust=\"spacingAndGlyphs\" textLength=\"96\" x=\"33\" y=\"276.1387\">«viewpoint def»</text><text fill=\"#000000\" font-family=\"sans-serif\" font-size=\"12\" lengthAdjust=\"spacingAndGlyphs\" textLength=\"16\" x=\"73\" y=\"290.1074\">VP</text><line style=\"stroke: #383838; stroke-width: 1.5;\" x1=\"33\" x2=\"129\" y1=\"297.9375\" y2=\"297.9375\"/><!--MD5=[ebbe1d658d1005bcc118a6aa81145e00]\n",
       "class E4--><rect fill=\"#FFFFFF\" height=\"45.9375\" id=\"E4\" style=\"stroke: #383838; stroke-width: 1.5;\" width=\"101\" x=\"146.5\" y=\"472\"/><text fill=\"#000000\" font-family=\"sans-serif\" font-size=\"12\" font-style=\"italic\" lengthAdjust=\"spacingAndGlyphs\" textLength=\"99\" x=\"147.5\" y=\"488.1387\">«rendering def»</text><text fill=\"#000000\" font-family=\"sans-serif\" font-size=\"12\" lengthAdjust=\"spacingAndGlyphs\" textLength=\"8\" x=\"193\" y=\"502.1074\">R</text><line style=\"stroke: #383838; stroke-width: 1.5;\" x1=\"147.5\" x2=\"246.5\" y1=\"509.9375\" y2=\"509.9375\"/><!--MD5=[270fce915f116d4de14055a7c1d9a0f3]\n",
       "class E5--><rect fill=\"#FFFFFF\" height=\"45.9375\" id=\"E5\" style=\"stroke: #383838; stroke-width: 1.5;\" width=\"66\" x=\"161\" y=\"44.5\"/><text fill=\"#000000\" font-family=\"sans-serif\" font-size=\"12\" font-style=\"italic\" lengthAdjust=\"spacingAndGlyphs\" textLength=\"64\" x=\"162\" y=\"60.6387\">«view def»</text><text fill=\"#000000\" font-family=\"sans-serif\" font-size=\"12\" lengthAdjust=\"spacingAndGlyphs\" textLength=\"8\" x=\"190\" y=\"74.6074\">V</text><line style=\"stroke: #383838; stroke-width: 1.5;\" x1=\"162\" x2=\"226\" y1=\"82.4375\" y2=\"82.4375\"/><!--MD5=[60a26617385b1d2d0262a64233df1f8d]\n",
       "class E6--><rect fill=\"#FFFFFF\" height=\"45.9375\" id=\"E6\" rx=\"10\" ry=\"10\" style=\"stroke: #383838; stroke-width: 1.5;\" width=\"74\" x=\"50\" y=\"154\"/><text fill=\"#000000\" font-family=\"sans-serif\" font-size=\"12\" font-style=\"italic\" lengthAdjust=\"spacingAndGlyphs\" textLength=\"72\" x=\"51\" y=\"170.1387\">«viewpoint»</text><text fill=\"#000000\" font-family=\"sans-serif\" font-size=\"12\" lengthAdjust=\"spacingAndGlyphs\" textLength=\"38\" x=\"68\" y=\"184.1074\">vp: VP</text><line style=\"stroke: #383838; stroke-width: 1.5;\" x1=\"51\" x2=\"123\" y1=\"191.9375\" y2=\"191.9375\"/><!--MD5=[2156ba9850f5573cc1fc38a6a4b2f02b]\n",
       "class E7--><rect fill=\"#FFFFFF\" height=\"45.9375\" id=\"E7\" rx=\"10\" ry=\"10\" style=\"stroke: #383838; stroke-width: 1.5;\" width=\"77\" x=\"158.5\" y=\"366\"/><text fill=\"#000000\" font-family=\"sans-serif\" font-size=\"12\" font-style=\"italic\" lengthAdjust=\"spacingAndGlyphs\" textLength=\"75\" x=\"159.5\" y=\"382.1387\">«rendering»</text><text fill=\"#000000\" font-family=\"sans-serif\" font-size=\"12\" lengthAdjust=\"spacingAndGlyphs\" textLength=\"21\" x=\"186.5\" y=\"396.1074\">r: R</text><line style=\"stroke: #383838; stroke-width: 1.5;\" x1=\"159.5\" x2=\"234.5\" y1=\"403.9375\" y2=\"403.9375\"/><!--MD5=[b9389687b975829384b498ac4b7476b2]\n",
       "class E8--><rect fill=\"#FFFFFF\" height=\"45.9375\" id=\"E8\" rx=\"10\" ry=\"10\" style=\"stroke: #383838; stroke-width: 1.5;\" width=\"42\" x=\"202\" y=\"154\"/><text fill=\"#000000\" font-family=\"sans-serif\" font-size=\"12\" font-style=\"italic\" lengthAdjust=\"spacingAndGlyphs\" textLength=\"40\" x=\"203\" y=\"170.1387\">«view»</text><text fill=\"#000000\" font-family=\"sans-serif\" font-size=\"12\" lengthAdjust=\"spacingAndGlyphs\" textLength=\"22\" x=\"212\" y=\"184.1074\">v: V</text><line style=\"stroke: #383838; stroke-width: 1.5;\" x1=\"203\" x2=\"243\" y1=\"191.9375\" y2=\"191.9375\"/><!--MD5=[fd4143e9d270a159db93a4ea2a975926]\n",
       "class E9--><rect fill=\"#FFFFFF\" height=\"45.9375\" id=\"E9\" rx=\"10\" ry=\"10\" style=\"stroke: #383838; stroke-width: 1.5;\" width=\"77\" x=\"202.5\" y=\"260\"/><text fill=\"#000000\" font-family=\"sans-serif\" font-size=\"12\" font-style=\"italic\" lengthAdjust=\"spacingAndGlyphs\" textLength=\"75\" x=\"203.5\" y=\"276.1387\">«rendering»</text><text fill=\"#000000\" font-family=\"sans-serif\" font-size=\"12\" lengthAdjust=\"spacingAndGlyphs\" textLength=\"29\" x=\"226.5\" y=\"290.1074\">r1: R</text><line style=\"stroke: #383838; stroke-width: 1.5;\" x1=\"203.5\" x2=\"278.5\" y1=\"297.9375\" y2=\"297.9375\"/><polygon fill=\"#FFFFFF\" points=\"78,41,94,41,101,63.2969,108,63.2969,108,93.5938,78,93.5938,78,41\" style=\"stroke: #000000; stroke-width: 1.5;\"/><line style=\"stroke: #000000; stroke-width: 1.5;\" x1=\"78\" x2=\"101\" y1=\"63.2969\" y2=\"63.2969\"/><text fill=\"#000000\" font-family=\"sans-serif\" font-size=\"14\" font-weight=\"bold\" lengthAdjust=\"spacingAndGlyphs\" textLength=\"10\" x=\"82\" y=\"55.9951\">P</text><!--MD5=[85d356282659285ab4b2cfe2f634dd2b]\n",
       "reverse link E5 to E6--><path d=\"M162.51,100.14 C145.4,117.33 124.66,138.16 109.25,153.65 \" fill=\"none\" id=\"E5&lt;-E6\" style=\"stroke: #383838; stroke-width: 1.0;\"/><polygon fill=\"#383838\" points=\"172.09,90.51,165.0222,91.9407,163.6245,99.015,170.6923,97.5843,172.09,90.51\" style=\"stroke: #383838; stroke-width: 1.0;\"/><!--MD5=[a717450b82c80b9240a525fa862496af]\n",
       "link E6 to E3--><path d=\"M85.73,200.06 C85.06,211.64 84.22,226.23 83.43,239.87 \" fill=\"none\" id=\"E6-&gt;E3\" style=\"stroke: #383838; stroke-width: 1.0;\"/><polygon fill=\"#FFFFFF\" points=\"82.27,259.98,76.3669,240.6111,90.3441,241.411,82.27,259.98\" style=\"stroke: #383838; stroke-width: 1.0;\"/><ellipse cx=\"78.6893\" cy=\"235.0347\" fill=\"#383838\" rx=\"2\" ry=\"2\" style=\"stroke: #383838; stroke-width: 1.0;\"/><ellipse cx=\"88.673\" cy=\"235.606\" fill=\"#383838\" rx=\"2\" ry=\"2\" style=\"stroke: #383838; stroke-width: 1.0;\"/><!--MD5=[6bdd27f9905911a7e892a3dc65cf6b7c]\n",
       "link E7 to E4--><path d=\"M197,412.06 C197,423.64 197,438.23 197,451.87 \" fill=\"none\" id=\"E7-&gt;E4\" style=\"stroke: #383838; stroke-width: 1.0;\"/><polygon fill=\"#FFFFFF\" points=\"197,471.98,190,452.98,204,452.98,197,471.98\" style=\"stroke: #383838; stroke-width: 1.0;\"/><ellipse cx=\"192\" cy=\"447.28\" fill=\"#383838\" rx=\"2\" ry=\"2\" style=\"stroke: #383838; stroke-width: 1.0;\"/><ellipse cx=\"202\" cy=\"447.28\" fill=\"#383838\" rx=\"2\" ry=\"2\" style=\"stroke: #383838; stroke-width: 1.0;\"/><!--MD5=[452b418e7f8a40397a49b8c0a78acc5b]\n",
       "reverse link E5 to E7--><path d=\"M189.45,103.79 C187.68,119.18 185.87,137.45 185,154 C181.46,221.46 180.1,238.62 185,306 C186.48,326.38 190.01,349.38 192.86,365.82 \" fill=\"none\" id=\"E5&lt;-E7\" style=\"stroke: #383838; stroke-width: 1.0;\"/><polygon fill=\"#383838\" points=\"191.03,90.59,186.3465,96.0731,189.6065,102.5053,194.29,97.0221,191.03,90.59\" style=\"stroke: #383838; stroke-width: 1.0;\"/><text fill=\"#000000\" font-family=\"sans-serif\" font-size=\"13\" lengthAdjust=\"spacingAndGlyphs\" textLength=\"24\" x=\"164.7241\" y=\"355.0502\">0..1</text><!--MD5=[1ccb2481ffa92f8d51a74ee30c51832a]\n",
       "link E8 to E5--><path d=\"M228.17,153.65 C226.85,140.84 223.06,124.37 218.16,109.34 \" fill=\"none\" id=\"E8-&gt;E5\" style=\"stroke: #383838; stroke-width: 1.0;\"/><polygon fill=\"#FFFFFF\" points=\"211.08,90.51,224.3197,105.8302,211.2157,110.758,211.08,90.51\" style=\"stroke: #383838; stroke-width: 1.0;\"/><ellipse cx=\"224.454\" cy=\"111.8694\" fill=\"#383838\" rx=\"2\" ry=\"2\" style=\"stroke: #383838; stroke-width: 1.0;\"/><ellipse cx=\"215.094\" cy=\"115.3893\" fill=\"#383838\" rx=\"2\" ry=\"2\" style=\"stroke: #383838; stroke-width: 1.0;\"/><!--MD5=[827760032d119d06bbc92f75530fd7ae]\n",
       "reverse link E5 to E8--><path d=\"M191.42,103.56 C194.56,120.03 200.21,139.18 206.39,153.65 \" fill=\"none\" id=\"E5&lt;-E8\" style=\"stroke: #383838; stroke-width: 1.0;\"/><polygon fill=\"#383838\" points=\"189.42,90.51,186.3756,97.0469,191.2387,102.3714,194.2832,95.8344,189.42,90.51\" style=\"stroke: #383838; stroke-width: 1.0;\"/><text fill=\"#000000\" font-family=\"sans-serif\" font-size=\"13\" lengthAdjust=\"spacingAndGlyphs\" textLength=\"7\" x=\"194.2368\" y=\"142.8366\">*</text><!--MD5=[cf04703ca05eebef50f1cfe8b03e143b]\n",
       "link E9 to E7--><path d=\"M231.67,306.06 C226.59,318.05 220.15,333.27 214.21,347.33 \" fill=\"none\" id=\"E9-&gt;E7\" style=\"stroke: #383838; stroke-width: 1.0;\"/><polygon fill=\"#FFFFFF\" points=\"206.32,365.98,207.2662,345.7537,220.1625,351.2021,206.32,365.98\" style=\"stroke: #383838; stroke-width: 1.0;\"/><line style=\"stroke: #383838; stroke-width: 2.0;\" x1=\"208.745\" x2=\"221.6413\" y1=\"342.2532\" y2=\"347.7017\"/><!--MD5=[22f5b4bae7e060dce8a1c8021efdb95b]\n",
       "reverse link E8 to E9--><path d=\"M229.05,212.96 C231.74,228.51 234.83,246.33 237.19,259.98 \" fill=\"none\" id=\"E8&lt;-E9\" style=\"stroke: #383838; stroke-width: 1.0;\"/><polygon fill=\"#383838\" points=\"226.82,200.06,223.9001,206.6535,228.8633,211.8848,231.7832,205.2913,226.82,200.06\" style=\"stroke: #383838; stroke-width: 1.0;\"/><!--MD5=[4c9bbd0d8d85f7387579872f82220ff7]\n",
       "@startuml\r\n",
       "skinparam monochrome true\r\n",
       "skinparam classbackgroundcolor white\r\n",
       "skinparam shadowing false\r\n",
       "skinparam wrapWidth 300\r\n",
       "hide circle\r\n",
       "\r\n",
       "package \"ViewTest\" as E1   {\r\n",
       "package \"P\" as E2   {\r\n",
       "}\r\n",
       "comp def \"VP\" as E3  <<(T,blue)viewpoint def>> {\r\n",
       "}\r\n",
       "comp def \"R\" as E4  <<(T,blue)rendering def>> {\r\n",
       "}\r\n",
       "comp def \"V\" as E5  <<(T,blue)view def>> {\r\n",
       "}\r\n",
       "comp usage \"vp: VP\" as E6  <<(T,blue)viewpoint>> {\r\n",
       "}\r\n",
       "comp usage \"r: R\" as E7  <<(T,blue)rendering>> {\r\n",
       "}\r\n",
       "comp usage \"v: V\" as E8  <<(T,blue)view>> {\r\n",
       "}\r\n",
       "comp usage \"r1: R\" as E9  <<(T,blue)rendering>> {\r\n",
       "}\r\n",
       "E5 *- - E6\r\n",
       "E6 - -:|> E3\r\n",
       "E7 - -:|> E4\r\n",
       "E5 *- - \"0..1\"E7\r\n",
       "E8 - -:|> E5\r\n",
       "E5 *- - \"*\"E8\r\n",
       "E9 - -||> E7\r\n",
       "E8 *- - E9\r\n",
       "}\r\n",
       "@enduml\r\n",
       "\n",
       "PlantUML version 1.2020.13(Sat Jun 13 12:26:38 UTC 2020)\n",
       "(EPL source distribution)\n",
       "Java Runtime: OpenJDK Runtime Environment\n",
       "JVM: OpenJDK 64-Bit Server VM\n",
       "Default Encoding: UTF-8\n",
       "Language: en\n",
       "Country: null\n",
       "--></g></svg>"
      ]
     },
     "execution_count": 42,
     "metadata": {},
     "output_type": "execute_result"
    }
   ],
   "source": [
    "%viz --style=\"DEFAULT\" --view=\"Sequence\" \"ViewTest\""
   ]
  },
  {
   "cell_type": "code",
   "execution_count": 43,
   "id": "perfect-saudi",
   "metadata": {
    "execution": {
     "iopub.execute_input": "2021-03-25T16:08:02.125976Z",
     "iopub.status.busy": "2021-03-25T16:08:02.125257Z",
     "iopub.status.idle": "2021-03-25T16:08:02.228254Z",
     "shell.execute_reply": "2021-03-25T16:08:02.226792Z"
    }
   },
   "outputs": [
    {
     "data": {
      "image/svg+xml": [
       "<?xml version=\"1.0\" encoding=\"UTF-8\" standalone=\"no\"?><svg xmlns=\"http://www.w3.org/2000/svg\" xmlns:xlink=\"http://www.w3.org/1999/xlink\" contentScriptType=\"application/ecmascript\" contentStyleType=\"text/css\" height=\"546px\" preserveAspectRatio=\"none\" style=\"width:318px;height:546px;\" version=\"1.1\" viewBox=\"0 0 318 546\" width=\"318px\" zoomAndPan=\"magnify\"><defs/><g><!--MD5=[fbc87193dbaf4d95561dea2c320d4a47]\n",
       "cluster E1--><polygon fill=\"#FFFFFF\" points=\"16,6,96,6,103,28.2969,296,28.2969,296,534,16,534,16,6\" style=\"stroke: #000000; stroke-width: 1.5;\"/><line style=\"stroke: #000000; stroke-width: 1.5;\" x1=\"16\" x2=\"103\" y1=\"28.2969\" y2=\"28.2969\"/><text fill=\"#000000\" font-family=\"sans-serif\" font-size=\"14\" font-weight=\"bold\" lengthAdjust=\"spacingAndGlyphs\" textLength=\"74\" x=\"20\" y=\"20.9951\">ViewTest</text><!--MD5=[09b614a08d8cba4a07c9adeb5e0fee81]\n",
       "class E3--><rect fill=\"#FFFFFF\" height=\"45.9375\" id=\"E3\" style=\"stroke: #383838; stroke-width: 1.5;\" width=\"98\" x=\"32\" y=\"260\"/><text fill=\"#000000\" font-family=\"sans-serif\" font-size=\"12\" font-style=\"italic\" lengthAdjust=\"spacingAndGlyphs\" textLength=\"96\" x=\"33\" y=\"276.1387\">«viewpoint def»</text><text fill=\"#000000\" font-family=\"sans-serif\" font-size=\"12\" lengthAdjust=\"spacingAndGlyphs\" textLength=\"16\" x=\"73\" y=\"290.1074\">VP</text><line style=\"stroke: #383838; stroke-width: 1.5;\" x1=\"33\" x2=\"129\" y1=\"297.9375\" y2=\"297.9375\"/><!--MD5=[ebbe1d658d1005bcc118a6aa81145e00]\n",
       "class E4--><rect fill=\"#FFFFFF\" height=\"45.9375\" id=\"E4\" style=\"stroke: #383838; stroke-width: 1.5;\" width=\"101\" x=\"146.5\" y=\"472\"/><text fill=\"#000000\" font-family=\"sans-serif\" font-size=\"12\" font-style=\"italic\" lengthAdjust=\"spacingAndGlyphs\" textLength=\"99\" x=\"147.5\" y=\"488.1387\">«rendering def»</text><text fill=\"#000000\" font-family=\"sans-serif\" font-size=\"12\" lengthAdjust=\"spacingAndGlyphs\" textLength=\"8\" x=\"193\" y=\"502.1074\">R</text><line style=\"stroke: #383838; stroke-width: 1.5;\" x1=\"147.5\" x2=\"246.5\" y1=\"509.9375\" y2=\"509.9375\"/><!--MD5=[270fce915f116d4de14055a7c1d9a0f3]\n",
       "class E5--><rect fill=\"#FFFFFF\" height=\"45.9375\" id=\"E5\" style=\"stroke: #383838; stroke-width: 1.5;\" width=\"66\" x=\"161\" y=\"44.5\"/><text fill=\"#000000\" font-family=\"sans-serif\" font-size=\"12\" font-style=\"italic\" lengthAdjust=\"spacingAndGlyphs\" textLength=\"64\" x=\"162\" y=\"60.6387\">«view def»</text><text fill=\"#000000\" font-family=\"sans-serif\" font-size=\"12\" lengthAdjust=\"spacingAndGlyphs\" textLength=\"8\" x=\"190\" y=\"74.6074\">V</text><line style=\"stroke: #383838; stroke-width: 1.5;\" x1=\"162\" x2=\"226\" y1=\"82.4375\" y2=\"82.4375\"/><!--MD5=[60a26617385b1d2d0262a64233df1f8d]\n",
       "class E6--><rect fill=\"#FFFFFF\" height=\"45.9375\" id=\"E6\" rx=\"10\" ry=\"10\" style=\"stroke: #383838; stroke-width: 1.5;\" width=\"74\" x=\"50\" y=\"154\"/><text fill=\"#000000\" font-family=\"sans-serif\" font-size=\"12\" font-style=\"italic\" lengthAdjust=\"spacingAndGlyphs\" textLength=\"72\" x=\"51\" y=\"170.1387\">«viewpoint»</text><text fill=\"#000000\" font-family=\"sans-serif\" font-size=\"12\" lengthAdjust=\"spacingAndGlyphs\" textLength=\"38\" x=\"68\" y=\"184.1074\">vp: VP</text><line style=\"stroke: #383838; stroke-width: 1.5;\" x1=\"51\" x2=\"123\" y1=\"191.9375\" y2=\"191.9375\"/><!--MD5=[2156ba9850f5573cc1fc38a6a4b2f02b]\n",
       "class E7--><rect fill=\"#FFFFFF\" height=\"45.9375\" id=\"E7\" rx=\"10\" ry=\"10\" style=\"stroke: #383838; stroke-width: 1.5;\" width=\"77\" x=\"158.5\" y=\"366\"/><text fill=\"#000000\" font-family=\"sans-serif\" font-size=\"12\" font-style=\"italic\" lengthAdjust=\"spacingAndGlyphs\" textLength=\"75\" x=\"159.5\" y=\"382.1387\">«rendering»</text><text fill=\"#000000\" font-family=\"sans-serif\" font-size=\"12\" lengthAdjust=\"spacingAndGlyphs\" textLength=\"21\" x=\"186.5\" y=\"396.1074\">r: R</text><line style=\"stroke: #383838; stroke-width: 1.5;\" x1=\"159.5\" x2=\"234.5\" y1=\"403.9375\" y2=\"403.9375\"/><!--MD5=[b9389687b975829384b498ac4b7476b2]\n",
       "class E8--><rect fill=\"#FFFFFF\" height=\"45.9375\" id=\"E8\" rx=\"10\" ry=\"10\" style=\"stroke: #383838; stroke-width: 1.5;\" width=\"42\" x=\"202\" y=\"154\"/><text fill=\"#000000\" font-family=\"sans-serif\" font-size=\"12\" font-style=\"italic\" lengthAdjust=\"spacingAndGlyphs\" textLength=\"40\" x=\"203\" y=\"170.1387\">«view»</text><text fill=\"#000000\" font-family=\"sans-serif\" font-size=\"12\" lengthAdjust=\"spacingAndGlyphs\" textLength=\"22\" x=\"212\" y=\"184.1074\">v: V</text><line style=\"stroke: #383838; stroke-width: 1.5;\" x1=\"203\" x2=\"243\" y1=\"191.9375\" y2=\"191.9375\"/><!--MD5=[fd4143e9d270a159db93a4ea2a975926]\n",
       "class E9--><rect fill=\"#FFFFFF\" height=\"45.9375\" id=\"E9\" rx=\"10\" ry=\"10\" style=\"stroke: #383838; stroke-width: 1.5;\" width=\"77\" x=\"202.5\" y=\"260\"/><text fill=\"#000000\" font-family=\"sans-serif\" font-size=\"12\" font-style=\"italic\" lengthAdjust=\"spacingAndGlyphs\" textLength=\"75\" x=\"203.5\" y=\"276.1387\">«rendering»</text><text fill=\"#000000\" font-family=\"sans-serif\" font-size=\"12\" lengthAdjust=\"spacingAndGlyphs\" textLength=\"29\" x=\"226.5\" y=\"290.1074\">r1: R</text><line style=\"stroke: #383838; stroke-width: 1.5;\" x1=\"203.5\" x2=\"278.5\" y1=\"297.9375\" y2=\"297.9375\"/><polygon fill=\"#FFFFFF\" points=\"78,41,94,41,101,63.2969,108,63.2969,108,93.5938,78,93.5938,78,41\" style=\"stroke: #000000; stroke-width: 1.5;\"/><line style=\"stroke: #000000; stroke-width: 1.5;\" x1=\"78\" x2=\"101\" y1=\"63.2969\" y2=\"63.2969\"/><text fill=\"#000000\" font-family=\"sans-serif\" font-size=\"14\" font-weight=\"bold\" lengthAdjust=\"spacingAndGlyphs\" textLength=\"10\" x=\"82\" y=\"55.9951\">P</text><!--MD5=[85d356282659285ab4b2cfe2f634dd2b]\n",
       "reverse link E5 to E6--><path d=\"M162.51,100.14 C145.4,117.33 124.66,138.16 109.25,153.65 \" fill=\"none\" id=\"E5&lt;-E6\" style=\"stroke: #383838; stroke-width: 1.0;\"/><polygon fill=\"#383838\" points=\"172.09,90.51,165.0222,91.9407,163.6245,99.015,170.6923,97.5843,172.09,90.51\" style=\"stroke: #383838; stroke-width: 1.0;\"/><!--MD5=[a717450b82c80b9240a525fa862496af]\n",
       "link E6 to E3--><path d=\"M85.73,200.06 C85.06,211.64 84.22,226.23 83.43,239.87 \" fill=\"none\" id=\"E6-&gt;E3\" style=\"stroke: #383838; stroke-width: 1.0;\"/><polygon fill=\"#FFFFFF\" points=\"82.27,259.98,76.3669,240.6111,90.3441,241.411,82.27,259.98\" style=\"stroke: #383838; stroke-width: 1.0;\"/><ellipse cx=\"78.6893\" cy=\"235.0347\" fill=\"#383838\" rx=\"2\" ry=\"2\" style=\"stroke: #383838; stroke-width: 1.0;\"/><ellipse cx=\"88.673\" cy=\"235.606\" fill=\"#383838\" rx=\"2\" ry=\"2\" style=\"stroke: #383838; stroke-width: 1.0;\"/><!--MD5=[6bdd27f9905911a7e892a3dc65cf6b7c]\n",
       "link E7 to E4--><path d=\"M197,412.06 C197,423.64 197,438.23 197,451.87 \" fill=\"none\" id=\"E7-&gt;E4\" style=\"stroke: #383838; stroke-width: 1.0;\"/><polygon fill=\"#FFFFFF\" points=\"197,471.98,190,452.98,204,452.98,197,471.98\" style=\"stroke: #383838; stroke-width: 1.0;\"/><ellipse cx=\"192\" cy=\"447.28\" fill=\"#383838\" rx=\"2\" ry=\"2\" style=\"stroke: #383838; stroke-width: 1.0;\"/><ellipse cx=\"202\" cy=\"447.28\" fill=\"#383838\" rx=\"2\" ry=\"2\" style=\"stroke: #383838; stroke-width: 1.0;\"/><!--MD5=[452b418e7f8a40397a49b8c0a78acc5b]\n",
       "reverse link E5 to E7--><path d=\"M189.45,103.79 C187.68,119.18 185.87,137.45 185,154 C181.46,221.46 180.1,238.62 185,306 C186.48,326.38 190.01,349.38 192.86,365.82 \" fill=\"none\" id=\"E5&lt;-E7\" style=\"stroke: #383838; stroke-width: 1.0;\"/><polygon fill=\"#383838\" points=\"191.03,90.59,186.3465,96.0731,189.6065,102.5053,194.29,97.0221,191.03,90.59\" style=\"stroke: #383838; stroke-width: 1.0;\"/><text fill=\"#000000\" font-family=\"sans-serif\" font-size=\"13\" lengthAdjust=\"spacingAndGlyphs\" textLength=\"24\" x=\"164.7241\" y=\"355.0502\">0..1</text><!--MD5=[1ccb2481ffa92f8d51a74ee30c51832a]\n",
       "link E8 to E5--><path d=\"M228.17,153.65 C226.85,140.84 223.06,124.37 218.16,109.34 \" fill=\"none\" id=\"E8-&gt;E5\" style=\"stroke: #383838; stroke-width: 1.0;\"/><polygon fill=\"#FFFFFF\" points=\"211.08,90.51,224.3197,105.8302,211.2157,110.758,211.08,90.51\" style=\"stroke: #383838; stroke-width: 1.0;\"/><ellipse cx=\"224.454\" cy=\"111.8694\" fill=\"#383838\" rx=\"2\" ry=\"2\" style=\"stroke: #383838; stroke-width: 1.0;\"/><ellipse cx=\"215.094\" cy=\"115.3893\" fill=\"#383838\" rx=\"2\" ry=\"2\" style=\"stroke: #383838; stroke-width: 1.0;\"/><!--MD5=[827760032d119d06bbc92f75530fd7ae]\n",
       "reverse link E5 to E8--><path d=\"M191.42,103.56 C194.56,120.03 200.21,139.18 206.39,153.65 \" fill=\"none\" id=\"E5&lt;-E8\" style=\"stroke: #383838; stroke-width: 1.0;\"/><polygon fill=\"#383838\" points=\"189.42,90.51,186.3756,97.0469,191.2387,102.3714,194.2832,95.8344,189.42,90.51\" style=\"stroke: #383838; stroke-width: 1.0;\"/><text fill=\"#000000\" font-family=\"sans-serif\" font-size=\"13\" lengthAdjust=\"spacingAndGlyphs\" textLength=\"7\" x=\"194.2368\" y=\"142.8366\">*</text><!--MD5=[cf04703ca05eebef50f1cfe8b03e143b]\n",
       "link E9 to E7--><path d=\"M231.67,306.06 C226.59,318.05 220.15,333.27 214.21,347.33 \" fill=\"none\" id=\"E9-&gt;E7\" style=\"stroke: #383838; stroke-width: 1.0;\"/><polygon fill=\"#FFFFFF\" points=\"206.32,365.98,207.2662,345.7537,220.1625,351.2021,206.32,365.98\" style=\"stroke: #383838; stroke-width: 1.0;\"/><line style=\"stroke: #383838; stroke-width: 2.0;\" x1=\"208.745\" x2=\"221.6413\" y1=\"342.2532\" y2=\"347.7017\"/><!--MD5=[22f5b4bae7e060dce8a1c8021efdb95b]\n",
       "reverse link E8 to E9--><path d=\"M229.05,212.96 C231.74,228.51 234.83,246.33 237.19,259.98 \" fill=\"none\" id=\"E8&lt;-E9\" style=\"stroke: #383838; stroke-width: 1.0;\"/><polygon fill=\"#383838\" points=\"226.82,200.06,223.9001,206.6535,228.8633,211.8848,231.7832,205.2913,226.82,200.06\" style=\"stroke: #383838; stroke-width: 1.0;\"/><!--MD5=[4c9bbd0d8d85f7387579872f82220ff7]\n",
       "@startuml\r\n",
       "skinparam monochrome true\r\n",
       "skinparam classbackgroundcolor white\r\n",
       "skinparam shadowing false\r\n",
       "skinparam wrapWidth 300\r\n",
       "hide circle\r\n",
       "\r\n",
       "package \"ViewTest\" as E1   {\r\n",
       "package \"P\" as E2   {\r\n",
       "}\r\n",
       "comp def \"VP\" as E3  <<(T,blue)viewpoint def>> {\r\n",
       "}\r\n",
       "comp def \"R\" as E4  <<(T,blue)rendering def>> {\r\n",
       "}\r\n",
       "comp def \"V\" as E5  <<(T,blue)view def>> {\r\n",
       "}\r\n",
       "comp usage \"vp: VP\" as E6  <<(T,blue)viewpoint>> {\r\n",
       "}\r\n",
       "comp usage \"r: R\" as E7  <<(T,blue)rendering>> {\r\n",
       "}\r\n",
       "comp usage \"v: V\" as E8  <<(T,blue)view>> {\r\n",
       "}\r\n",
       "comp usage \"r1: R\" as E9  <<(T,blue)rendering>> {\r\n",
       "}\r\n",
       "E5 *- - E6\r\n",
       "E6 - -:|> E3\r\n",
       "E7 - -:|> E4\r\n",
       "E5 *- - \"0..1\"E7\r\n",
       "E8 - -:|> E5\r\n",
       "E5 *- - \"*\"E8\r\n",
       "E9 - -||> E7\r\n",
       "E8 *- - E9\r\n",
       "}\r\n",
       "@enduml\r\n",
       "\n",
       "PlantUML version 1.2020.13(Sat Jun 13 12:26:38 UTC 2020)\n",
       "(EPL source distribution)\n",
       "Java Runtime: OpenJDK Runtime Environment\n",
       "JVM: OpenJDK 64-Bit Server VM\n",
       "Default Encoding: UTF-8\n",
       "Language: en\n",
       "Country: null\n",
       "--></g></svg>"
      ]
     },
     "execution_count": 43,
     "metadata": {},
     "output_type": "execute_result"
    }
   ],
   "source": [
    "%viz --style=\"DEFAULT\" --view=\"MIXED\" \"ViewTest\""
   ]
  },
  {
   "cell_type": "code",
   "execution_count": 44,
   "id": "balanced-prague",
   "metadata": {
    "execution": {
     "iopub.execute_input": "2021-03-25T16:08:02.278424Z",
     "iopub.status.busy": "2021-03-25T16:08:02.278034Z",
     "iopub.status.idle": "2021-03-25T16:08:02.377634Z",
     "shell.execute_reply": "2021-03-25T16:08:02.376186Z"
    }
   },
   "outputs": [
    {
     "data": {
      "image/svg+xml": [
       "<?xml version=\"1.0\" encoding=\"UTF-8\" standalone=\"no\"?><svg xmlns=\"http://www.w3.org/2000/svg\" xmlns:xlink=\"http://www.w3.org/1999/xlink\" contentScriptType=\"application/ecmascript\" contentStyleType=\"text/css\" height=\"546px\" preserveAspectRatio=\"none\" style=\"width:318px;height:546px;\" version=\"1.1\" viewBox=\"0 0 318 546\" width=\"318px\" zoomAndPan=\"magnify\"><defs/><g><!--MD5=[fbc87193dbaf4d95561dea2c320d4a47]\n",
       "cluster E1--><polygon fill=\"#FFFFFF\" points=\"16,6,96,6,103,28.2969,296,28.2969,296,534,16,534,16,6\" style=\"stroke: #000000; stroke-width: 1.5;\"/><line style=\"stroke: #000000; stroke-width: 1.5;\" x1=\"16\" x2=\"103\" y1=\"28.2969\" y2=\"28.2969\"/><text fill=\"#000000\" font-family=\"sans-serif\" font-size=\"14\" font-weight=\"bold\" lengthAdjust=\"spacingAndGlyphs\" textLength=\"74\" x=\"20\" y=\"20.9951\">ViewTest</text><!--MD5=[09b614a08d8cba4a07c9adeb5e0fee81]\n",
       "class E3--><rect fill=\"#FFFFFF\" height=\"45.9375\" id=\"E3\" style=\"stroke: #383838; stroke-width: 1.5;\" width=\"98\" x=\"32\" y=\"260\"/><text fill=\"#000000\" font-family=\"sans-serif\" font-size=\"12\" font-style=\"italic\" lengthAdjust=\"spacingAndGlyphs\" textLength=\"96\" x=\"33\" y=\"276.1387\">«viewpoint def»</text><text fill=\"#000000\" font-family=\"sans-serif\" font-size=\"12\" lengthAdjust=\"spacingAndGlyphs\" textLength=\"16\" x=\"73\" y=\"290.1074\">VP</text><line style=\"stroke: #383838; stroke-width: 1.5;\" x1=\"33\" x2=\"129\" y1=\"297.9375\" y2=\"297.9375\"/><!--MD5=[ebbe1d658d1005bcc118a6aa81145e00]\n",
       "class E4--><rect fill=\"#FFFFFF\" height=\"45.9375\" id=\"E4\" style=\"stroke: #383838; stroke-width: 1.5;\" width=\"101\" x=\"146.5\" y=\"472\"/><text fill=\"#000000\" font-family=\"sans-serif\" font-size=\"12\" font-style=\"italic\" lengthAdjust=\"spacingAndGlyphs\" textLength=\"99\" x=\"147.5\" y=\"488.1387\">«rendering def»</text><text fill=\"#000000\" font-family=\"sans-serif\" font-size=\"12\" lengthAdjust=\"spacingAndGlyphs\" textLength=\"8\" x=\"193\" y=\"502.1074\">R</text><line style=\"stroke: #383838; stroke-width: 1.5;\" x1=\"147.5\" x2=\"246.5\" y1=\"509.9375\" y2=\"509.9375\"/><!--MD5=[270fce915f116d4de14055a7c1d9a0f3]\n",
       "class E5--><rect fill=\"#FFFFFF\" height=\"45.9375\" id=\"E5\" style=\"stroke: #383838; stroke-width: 1.5;\" width=\"66\" x=\"161\" y=\"44.5\"/><text fill=\"#000000\" font-family=\"sans-serif\" font-size=\"12\" font-style=\"italic\" lengthAdjust=\"spacingAndGlyphs\" textLength=\"64\" x=\"162\" y=\"60.6387\">«view def»</text><text fill=\"#000000\" font-family=\"sans-serif\" font-size=\"12\" lengthAdjust=\"spacingAndGlyphs\" textLength=\"8\" x=\"190\" y=\"74.6074\">V</text><line style=\"stroke: #383838; stroke-width: 1.5;\" x1=\"162\" x2=\"226\" y1=\"82.4375\" y2=\"82.4375\"/><!--MD5=[60a26617385b1d2d0262a64233df1f8d]\n",
       "class E6--><rect fill=\"#FFFFFF\" height=\"45.9375\" id=\"E6\" rx=\"10\" ry=\"10\" style=\"stroke: #383838; stroke-width: 1.5;\" width=\"74\" x=\"50\" y=\"154\"/><text fill=\"#000000\" font-family=\"sans-serif\" font-size=\"12\" font-style=\"italic\" lengthAdjust=\"spacingAndGlyphs\" textLength=\"72\" x=\"51\" y=\"170.1387\">«viewpoint»</text><text fill=\"#000000\" font-family=\"sans-serif\" font-size=\"12\" lengthAdjust=\"spacingAndGlyphs\" textLength=\"38\" x=\"68\" y=\"184.1074\">vp: VP</text><line style=\"stroke: #383838; stroke-width: 1.5;\" x1=\"51\" x2=\"123\" y1=\"191.9375\" y2=\"191.9375\"/><!--MD5=[2156ba9850f5573cc1fc38a6a4b2f02b]\n",
       "class E7--><rect fill=\"#FFFFFF\" height=\"45.9375\" id=\"E7\" rx=\"10\" ry=\"10\" style=\"stroke: #383838; stroke-width: 1.5;\" width=\"77\" x=\"158.5\" y=\"366\"/><text fill=\"#000000\" font-family=\"sans-serif\" font-size=\"12\" font-style=\"italic\" lengthAdjust=\"spacingAndGlyphs\" textLength=\"75\" x=\"159.5\" y=\"382.1387\">«rendering»</text><text fill=\"#000000\" font-family=\"sans-serif\" font-size=\"12\" lengthAdjust=\"spacingAndGlyphs\" textLength=\"21\" x=\"186.5\" y=\"396.1074\">r: R</text><line style=\"stroke: #383838; stroke-width: 1.5;\" x1=\"159.5\" x2=\"234.5\" y1=\"403.9375\" y2=\"403.9375\"/><!--MD5=[b9389687b975829384b498ac4b7476b2]\n",
       "class E8--><rect fill=\"#FFFFFF\" height=\"45.9375\" id=\"E8\" rx=\"10\" ry=\"10\" style=\"stroke: #383838; stroke-width: 1.5;\" width=\"42\" x=\"202\" y=\"154\"/><text fill=\"#000000\" font-family=\"sans-serif\" font-size=\"12\" font-style=\"italic\" lengthAdjust=\"spacingAndGlyphs\" textLength=\"40\" x=\"203\" y=\"170.1387\">«view»</text><text fill=\"#000000\" font-family=\"sans-serif\" font-size=\"12\" lengthAdjust=\"spacingAndGlyphs\" textLength=\"22\" x=\"212\" y=\"184.1074\">v: V</text><line style=\"stroke: #383838; stroke-width: 1.5;\" x1=\"203\" x2=\"243\" y1=\"191.9375\" y2=\"191.9375\"/><!--MD5=[fd4143e9d270a159db93a4ea2a975926]\n",
       "class E9--><rect fill=\"#FFFFFF\" height=\"45.9375\" id=\"E9\" rx=\"10\" ry=\"10\" style=\"stroke: #383838; stroke-width: 1.5;\" width=\"77\" x=\"202.5\" y=\"260\"/><text fill=\"#000000\" font-family=\"sans-serif\" font-size=\"12\" font-style=\"italic\" lengthAdjust=\"spacingAndGlyphs\" textLength=\"75\" x=\"203.5\" y=\"276.1387\">«rendering»</text><text fill=\"#000000\" font-family=\"sans-serif\" font-size=\"12\" lengthAdjust=\"spacingAndGlyphs\" textLength=\"29\" x=\"226.5\" y=\"290.1074\">r1: R</text><line style=\"stroke: #383838; stroke-width: 1.5;\" x1=\"203.5\" x2=\"278.5\" y1=\"297.9375\" y2=\"297.9375\"/><polygon fill=\"#FFFFFF\" points=\"78,41,94,41,101,63.2969,108,63.2969,108,93.5938,78,93.5938,78,41\" style=\"stroke: #000000; stroke-width: 1.5;\"/><line style=\"stroke: #000000; stroke-width: 1.5;\" x1=\"78\" x2=\"101\" y1=\"63.2969\" y2=\"63.2969\"/><text fill=\"#000000\" font-family=\"sans-serif\" font-size=\"14\" font-weight=\"bold\" lengthAdjust=\"spacingAndGlyphs\" textLength=\"10\" x=\"82\" y=\"55.9951\">P</text><!--MD5=[85d356282659285ab4b2cfe2f634dd2b]\n",
       "reverse link E5 to E6--><path d=\"M162.51,100.14 C145.4,117.33 124.66,138.16 109.25,153.65 \" fill=\"none\" id=\"E5&lt;-E6\" style=\"stroke: #383838; stroke-width: 1.0;\"/><polygon fill=\"#383838\" points=\"172.09,90.51,165.0222,91.9407,163.6245,99.015,170.6923,97.5843,172.09,90.51\" style=\"stroke: #383838; stroke-width: 1.0;\"/><!--MD5=[a717450b82c80b9240a525fa862496af]\n",
       "link E6 to E3--><path d=\"M85.73,200.06 C85.06,211.64 84.22,226.23 83.43,239.87 \" fill=\"none\" id=\"E6-&gt;E3\" style=\"stroke: #383838; stroke-width: 1.0;\"/><polygon fill=\"#FFFFFF\" points=\"82.27,259.98,76.3669,240.6111,90.3441,241.411,82.27,259.98\" style=\"stroke: #383838; stroke-width: 1.0;\"/><ellipse cx=\"78.6893\" cy=\"235.0347\" fill=\"#383838\" rx=\"2\" ry=\"2\" style=\"stroke: #383838; stroke-width: 1.0;\"/><ellipse cx=\"88.673\" cy=\"235.606\" fill=\"#383838\" rx=\"2\" ry=\"2\" style=\"stroke: #383838; stroke-width: 1.0;\"/><!--MD5=[6bdd27f9905911a7e892a3dc65cf6b7c]\n",
       "link E7 to E4--><path d=\"M197,412.06 C197,423.64 197,438.23 197,451.87 \" fill=\"none\" id=\"E7-&gt;E4\" style=\"stroke: #383838; stroke-width: 1.0;\"/><polygon fill=\"#FFFFFF\" points=\"197,471.98,190,452.98,204,452.98,197,471.98\" style=\"stroke: #383838; stroke-width: 1.0;\"/><ellipse cx=\"192\" cy=\"447.28\" fill=\"#383838\" rx=\"2\" ry=\"2\" style=\"stroke: #383838; stroke-width: 1.0;\"/><ellipse cx=\"202\" cy=\"447.28\" fill=\"#383838\" rx=\"2\" ry=\"2\" style=\"stroke: #383838; stroke-width: 1.0;\"/><!--MD5=[452b418e7f8a40397a49b8c0a78acc5b]\n",
       "reverse link E5 to E7--><path d=\"M189.45,103.79 C187.68,119.18 185.87,137.45 185,154 C181.46,221.46 180.1,238.62 185,306 C186.48,326.38 190.01,349.38 192.86,365.82 \" fill=\"none\" id=\"E5&lt;-E7\" style=\"stroke: #383838; stroke-width: 1.0;\"/><polygon fill=\"#383838\" points=\"191.03,90.59,186.3465,96.0731,189.6065,102.5053,194.29,97.0221,191.03,90.59\" style=\"stroke: #383838; stroke-width: 1.0;\"/><text fill=\"#000000\" font-family=\"sans-serif\" font-size=\"13\" lengthAdjust=\"spacingAndGlyphs\" textLength=\"24\" x=\"164.7241\" y=\"355.0502\">0..1</text><!--MD5=[1ccb2481ffa92f8d51a74ee30c51832a]\n",
       "link E8 to E5--><path d=\"M228.17,153.65 C226.85,140.84 223.06,124.37 218.16,109.34 \" fill=\"none\" id=\"E8-&gt;E5\" style=\"stroke: #383838; stroke-width: 1.0;\"/><polygon fill=\"#FFFFFF\" points=\"211.08,90.51,224.3197,105.8302,211.2157,110.758,211.08,90.51\" style=\"stroke: #383838; stroke-width: 1.0;\"/><ellipse cx=\"224.454\" cy=\"111.8694\" fill=\"#383838\" rx=\"2\" ry=\"2\" style=\"stroke: #383838; stroke-width: 1.0;\"/><ellipse cx=\"215.094\" cy=\"115.3893\" fill=\"#383838\" rx=\"2\" ry=\"2\" style=\"stroke: #383838; stroke-width: 1.0;\"/><!--MD5=[827760032d119d06bbc92f75530fd7ae]\n",
       "reverse link E5 to E8--><path d=\"M191.42,103.56 C194.56,120.03 200.21,139.18 206.39,153.65 \" fill=\"none\" id=\"E5&lt;-E8\" style=\"stroke: #383838; stroke-width: 1.0;\"/><polygon fill=\"#383838\" points=\"189.42,90.51,186.3756,97.0469,191.2387,102.3714,194.2832,95.8344,189.42,90.51\" style=\"stroke: #383838; stroke-width: 1.0;\"/><text fill=\"#000000\" font-family=\"sans-serif\" font-size=\"13\" lengthAdjust=\"spacingAndGlyphs\" textLength=\"7\" x=\"194.2368\" y=\"142.8366\">*</text><!--MD5=[cf04703ca05eebef50f1cfe8b03e143b]\n",
       "link E9 to E7--><path d=\"M231.67,306.06 C226.59,318.05 220.15,333.27 214.21,347.33 \" fill=\"none\" id=\"E9-&gt;E7\" style=\"stroke: #383838; stroke-width: 1.0;\"/><polygon fill=\"#FFFFFF\" points=\"206.32,365.98,207.2662,345.7537,220.1625,351.2021,206.32,365.98\" style=\"stroke: #383838; stroke-width: 1.0;\"/><line style=\"stroke: #383838; stroke-width: 2.0;\" x1=\"208.745\" x2=\"221.6413\" y1=\"342.2532\" y2=\"347.7017\"/><!--MD5=[22f5b4bae7e060dce8a1c8021efdb95b]\n",
       "reverse link E8 to E9--><path d=\"M229.05,212.96 C231.74,228.51 234.83,246.33 237.19,259.98 \" fill=\"none\" id=\"E8&lt;-E9\" style=\"stroke: #383838; stroke-width: 1.0;\"/><polygon fill=\"#383838\" points=\"226.82,200.06,223.9001,206.6535,228.8633,211.8848,231.7832,205.2913,226.82,200.06\" style=\"stroke: #383838; stroke-width: 1.0;\"/><!--MD5=[82124054cd60a6aa9406e40d0adce63c]\n",
       "@startuml\r\n",
       "top to bottom direction\r\n",
       "skinparam monochrome true\r\n",
       "skinparam classbackgroundcolor white\r\n",
       "skinparam shadowing false\r\n",
       "skinparam wrapWidth 300\r\n",
       "hide circle\r\n",
       "\r\n",
       "package \"ViewTest\" as E1   {\r\n",
       "package \"P\" as E2   {\r\n",
       "}\r\n",
       "comp def \"VP\" as E3  <<(T,blue)viewpoint def>> {\r\n",
       "}\r\n",
       "comp def \"R\" as E4  <<(T,blue)rendering def>> {\r\n",
       "}\r\n",
       "comp def \"V\" as E5  <<(T,blue)view def>> {\r\n",
       "}\r\n",
       "comp usage \"vp: VP\" as E6  <<(T,blue)viewpoint>> {\r\n",
       "}\r\n",
       "comp usage \"r: R\" as E7  <<(T,blue)rendering>> {\r\n",
       "}\r\n",
       "comp usage \"v: V\" as E8  <<(T,blue)view>> {\r\n",
       "}\r\n",
       "comp usage \"r1: R\" as E9  <<(T,blue)rendering>> {\r\n",
       "}\r\n",
       "E5 *- - E6\r\n",
       "E6 - -:|> E3\r\n",
       "E7 - -:|> E4\r\n",
       "E5 *- - \"0..1\"E7\r\n",
       "E8 - -:|> E5\r\n",
       "E5 *- - \"*\"E8\r\n",
       "E9 - -||> E7\r\n",
       "E8 *- - E9\r\n",
       "}\r\n",
       "@enduml\r\n",
       "\n",
       "PlantUML version 1.2020.13(Sat Jun 13 12:26:38 UTC 2020)\n",
       "(EPL source distribution)\n",
       "Java Runtime: OpenJDK Runtime Environment\n",
       "JVM: OpenJDK 64-Bit Server VM\n",
       "Default Encoding: UTF-8\n",
       "Language: en\n",
       "Country: null\n",
       "--></g></svg>"
      ]
     },
     "execution_count": 44,
     "metadata": {},
     "output_type": "execute_result"
    }
   ],
   "source": [
    "%viz --style=\"TB\" --view=\"Default\" \"ViewTest\""
   ]
  },
  {
   "cell_type": "code",
   "execution_count": 45,
   "id": "molecular-handy",
   "metadata": {
    "execution": {
     "iopub.execute_input": "2021-03-25T16:08:02.428318Z",
     "iopub.status.busy": "2021-03-25T16:08:02.427860Z",
     "iopub.status.idle": "2021-03-25T16:08:02.526349Z",
     "shell.execute_reply": "2021-03-25T16:08:02.524632Z"
    }
   },
   "outputs": [
    {
     "data": {
      "image/svg+xml": [
       "<?xml version=\"1.0\" encoding=\"UTF-8\" standalone=\"no\"?><svg xmlns=\"http://www.w3.org/2000/svg\" xmlns:xlink=\"http://www.w3.org/1999/xlink\" contentScriptType=\"application/ecmascript\" contentStyleType=\"text/css\" height=\"546px\" preserveAspectRatio=\"none\" style=\"width:318px;height:546px;\" version=\"1.1\" viewBox=\"0 0 318 546\" width=\"318px\" zoomAndPan=\"magnify\"><defs/><g><!--MD5=[fbc87193dbaf4d95561dea2c320d4a47]\n",
       "cluster E1--><polygon fill=\"#FFFFFF\" points=\"16,6,96,6,103,28.2969,296,28.2969,296,534,16,534,16,6\" style=\"stroke: #000000; stroke-width: 1.5;\"/><line style=\"stroke: #000000; stroke-width: 1.5;\" x1=\"16\" x2=\"103\" y1=\"28.2969\" y2=\"28.2969\"/><text fill=\"#000000\" font-family=\"sans-serif\" font-size=\"14\" font-weight=\"bold\" lengthAdjust=\"spacingAndGlyphs\" textLength=\"74\" x=\"20\" y=\"20.9951\">ViewTest</text><!--MD5=[09b614a08d8cba4a07c9adeb5e0fee81]\n",
       "class E3--><rect fill=\"#FFFFFF\" height=\"45.9375\" id=\"E3\" style=\"stroke: #383838; stroke-width: 1.5;\" width=\"98\" x=\"32\" y=\"260\"/><text fill=\"#000000\" font-family=\"sans-serif\" font-size=\"12\" font-style=\"italic\" lengthAdjust=\"spacingAndGlyphs\" textLength=\"96\" x=\"33\" y=\"276.1387\">«viewpoint def»</text><text fill=\"#000000\" font-family=\"sans-serif\" font-size=\"12\" lengthAdjust=\"spacingAndGlyphs\" textLength=\"16\" x=\"73\" y=\"290.1074\">VP</text><line style=\"stroke: #383838; stroke-width: 1.5;\" x1=\"33\" x2=\"129\" y1=\"297.9375\" y2=\"297.9375\"/><!--MD5=[ebbe1d658d1005bcc118a6aa81145e00]\n",
       "class E4--><rect fill=\"#FFFFFF\" height=\"45.9375\" id=\"E4\" style=\"stroke: #383838; stroke-width: 1.5;\" width=\"101\" x=\"146.5\" y=\"472\"/><text fill=\"#000000\" font-family=\"sans-serif\" font-size=\"12\" font-style=\"italic\" lengthAdjust=\"spacingAndGlyphs\" textLength=\"99\" x=\"147.5\" y=\"488.1387\">«rendering def»</text><text fill=\"#000000\" font-family=\"sans-serif\" font-size=\"12\" lengthAdjust=\"spacingAndGlyphs\" textLength=\"8\" x=\"193\" y=\"502.1074\">R</text><line style=\"stroke: #383838; stroke-width: 1.5;\" x1=\"147.5\" x2=\"246.5\" y1=\"509.9375\" y2=\"509.9375\"/><!--MD5=[270fce915f116d4de14055a7c1d9a0f3]\n",
       "class E5--><rect fill=\"#FFFFFF\" height=\"45.9375\" id=\"E5\" style=\"stroke: #383838; stroke-width: 1.5;\" width=\"66\" x=\"161\" y=\"44.5\"/><text fill=\"#000000\" font-family=\"sans-serif\" font-size=\"12\" font-style=\"italic\" lengthAdjust=\"spacingAndGlyphs\" textLength=\"64\" x=\"162\" y=\"60.6387\">«view def»</text><text fill=\"#000000\" font-family=\"sans-serif\" font-size=\"12\" lengthAdjust=\"spacingAndGlyphs\" textLength=\"8\" x=\"190\" y=\"74.6074\">V</text><line style=\"stroke: #383838; stroke-width: 1.5;\" x1=\"162\" x2=\"226\" y1=\"82.4375\" y2=\"82.4375\"/><!--MD5=[60a26617385b1d2d0262a64233df1f8d]\n",
       "class E6--><rect fill=\"#FFFFFF\" height=\"45.9375\" id=\"E6\" rx=\"10\" ry=\"10\" style=\"stroke: #383838; stroke-width: 1.5;\" width=\"74\" x=\"50\" y=\"154\"/><text fill=\"#000000\" font-family=\"sans-serif\" font-size=\"12\" font-style=\"italic\" lengthAdjust=\"spacingAndGlyphs\" textLength=\"72\" x=\"51\" y=\"170.1387\">«viewpoint»</text><text fill=\"#000000\" font-family=\"sans-serif\" font-size=\"12\" lengthAdjust=\"spacingAndGlyphs\" textLength=\"38\" x=\"68\" y=\"184.1074\">vp: VP</text><line style=\"stroke: #383838; stroke-width: 1.5;\" x1=\"51\" x2=\"123\" y1=\"191.9375\" y2=\"191.9375\"/><!--MD5=[2156ba9850f5573cc1fc38a6a4b2f02b]\n",
       "class E7--><rect fill=\"#FFFFFF\" height=\"45.9375\" id=\"E7\" rx=\"10\" ry=\"10\" style=\"stroke: #383838; stroke-width: 1.5;\" width=\"77\" x=\"158.5\" y=\"366\"/><text fill=\"#000000\" font-family=\"sans-serif\" font-size=\"12\" font-style=\"italic\" lengthAdjust=\"spacingAndGlyphs\" textLength=\"75\" x=\"159.5\" y=\"382.1387\">«rendering»</text><text fill=\"#000000\" font-family=\"sans-serif\" font-size=\"12\" lengthAdjust=\"spacingAndGlyphs\" textLength=\"21\" x=\"186.5\" y=\"396.1074\">r: R</text><line style=\"stroke: #383838; stroke-width: 1.5;\" x1=\"159.5\" x2=\"234.5\" y1=\"403.9375\" y2=\"403.9375\"/><!--MD5=[b9389687b975829384b498ac4b7476b2]\n",
       "class E8--><rect fill=\"#FFFFFF\" height=\"45.9375\" id=\"E8\" rx=\"10\" ry=\"10\" style=\"stroke: #383838; stroke-width: 1.5;\" width=\"42\" x=\"202\" y=\"154\"/><text fill=\"#000000\" font-family=\"sans-serif\" font-size=\"12\" font-style=\"italic\" lengthAdjust=\"spacingAndGlyphs\" textLength=\"40\" x=\"203\" y=\"170.1387\">«view»</text><text fill=\"#000000\" font-family=\"sans-serif\" font-size=\"12\" lengthAdjust=\"spacingAndGlyphs\" textLength=\"22\" x=\"212\" y=\"184.1074\">v: V</text><line style=\"stroke: #383838; stroke-width: 1.5;\" x1=\"203\" x2=\"243\" y1=\"191.9375\" y2=\"191.9375\"/><!--MD5=[fd4143e9d270a159db93a4ea2a975926]\n",
       "class E9--><rect fill=\"#FFFFFF\" height=\"45.9375\" id=\"E9\" rx=\"10\" ry=\"10\" style=\"stroke: #383838; stroke-width: 1.5;\" width=\"77\" x=\"202.5\" y=\"260\"/><text fill=\"#000000\" font-family=\"sans-serif\" font-size=\"12\" font-style=\"italic\" lengthAdjust=\"spacingAndGlyphs\" textLength=\"75\" x=\"203.5\" y=\"276.1387\">«rendering»</text><text fill=\"#000000\" font-family=\"sans-serif\" font-size=\"12\" lengthAdjust=\"spacingAndGlyphs\" textLength=\"29\" x=\"226.5\" y=\"290.1074\">r1: R</text><line style=\"stroke: #383838; stroke-width: 1.5;\" x1=\"203.5\" x2=\"278.5\" y1=\"297.9375\" y2=\"297.9375\"/><polygon fill=\"#FFFFFF\" points=\"78,41,94,41,101,63.2969,108,63.2969,108,93.5938,78,93.5938,78,41\" style=\"stroke: #000000; stroke-width: 1.5;\"/><line style=\"stroke: #000000; stroke-width: 1.5;\" x1=\"78\" x2=\"101\" y1=\"63.2969\" y2=\"63.2969\"/><text fill=\"#000000\" font-family=\"sans-serif\" font-size=\"14\" font-weight=\"bold\" lengthAdjust=\"spacingAndGlyphs\" textLength=\"10\" x=\"82\" y=\"55.9951\">P</text><!--MD5=[85d356282659285ab4b2cfe2f634dd2b]\n",
       "reverse link E5 to E6--><path d=\"M162.51,100.14 C145.4,117.33 124.66,138.16 109.25,153.65 \" fill=\"none\" id=\"E5&lt;-E6\" style=\"stroke: #383838; stroke-width: 1.0;\"/><polygon fill=\"#383838\" points=\"172.09,90.51,165.0222,91.9407,163.6245,99.015,170.6923,97.5843,172.09,90.51\" style=\"stroke: #383838; stroke-width: 1.0;\"/><!--MD5=[a717450b82c80b9240a525fa862496af]\n",
       "link E6 to E3--><path d=\"M85.73,200.06 C85.06,211.64 84.22,226.23 83.43,239.87 \" fill=\"none\" id=\"E6-&gt;E3\" style=\"stroke: #383838; stroke-width: 1.0;\"/><polygon fill=\"#FFFFFF\" points=\"82.27,259.98,76.3669,240.6111,90.3441,241.411,82.27,259.98\" style=\"stroke: #383838; stroke-width: 1.0;\"/><ellipse cx=\"78.6893\" cy=\"235.0347\" fill=\"#383838\" rx=\"2\" ry=\"2\" style=\"stroke: #383838; stroke-width: 1.0;\"/><ellipse cx=\"88.673\" cy=\"235.606\" fill=\"#383838\" rx=\"2\" ry=\"2\" style=\"stroke: #383838; stroke-width: 1.0;\"/><!--MD5=[6bdd27f9905911a7e892a3dc65cf6b7c]\n",
       "link E7 to E4--><path d=\"M197,412.06 C197,423.64 197,438.23 197,451.87 \" fill=\"none\" id=\"E7-&gt;E4\" style=\"stroke: #383838; stroke-width: 1.0;\"/><polygon fill=\"#FFFFFF\" points=\"197,471.98,190,452.98,204,452.98,197,471.98\" style=\"stroke: #383838; stroke-width: 1.0;\"/><ellipse cx=\"192\" cy=\"447.28\" fill=\"#383838\" rx=\"2\" ry=\"2\" style=\"stroke: #383838; stroke-width: 1.0;\"/><ellipse cx=\"202\" cy=\"447.28\" fill=\"#383838\" rx=\"2\" ry=\"2\" style=\"stroke: #383838; stroke-width: 1.0;\"/><!--MD5=[452b418e7f8a40397a49b8c0a78acc5b]\n",
       "reverse link E5 to E7--><path d=\"M189.45,103.79 C187.68,119.18 185.87,137.45 185,154 C181.46,221.46 180.1,238.62 185,306 C186.48,326.38 190.01,349.38 192.86,365.82 \" fill=\"none\" id=\"E5&lt;-E7\" style=\"stroke: #383838; stroke-width: 1.0;\"/><polygon fill=\"#383838\" points=\"191.03,90.59,186.3465,96.0731,189.6065,102.5053,194.29,97.0221,191.03,90.59\" style=\"stroke: #383838; stroke-width: 1.0;\"/><text fill=\"#000000\" font-family=\"sans-serif\" font-size=\"13\" lengthAdjust=\"spacingAndGlyphs\" textLength=\"24\" x=\"164.7241\" y=\"355.0502\">0..1</text><!--MD5=[1ccb2481ffa92f8d51a74ee30c51832a]\n",
       "link E8 to E5--><path d=\"M228.17,153.65 C226.85,140.84 223.06,124.37 218.16,109.34 \" fill=\"none\" id=\"E8-&gt;E5\" style=\"stroke: #383838; stroke-width: 1.0;\"/><polygon fill=\"#FFFFFF\" points=\"211.08,90.51,224.3197,105.8302,211.2157,110.758,211.08,90.51\" style=\"stroke: #383838; stroke-width: 1.0;\"/><ellipse cx=\"224.454\" cy=\"111.8694\" fill=\"#383838\" rx=\"2\" ry=\"2\" style=\"stroke: #383838; stroke-width: 1.0;\"/><ellipse cx=\"215.094\" cy=\"115.3893\" fill=\"#383838\" rx=\"2\" ry=\"2\" style=\"stroke: #383838; stroke-width: 1.0;\"/><!--MD5=[827760032d119d06bbc92f75530fd7ae]\n",
       "reverse link E5 to E8--><path d=\"M191.42,103.56 C194.56,120.03 200.21,139.18 206.39,153.65 \" fill=\"none\" id=\"E5&lt;-E8\" style=\"stroke: #383838; stroke-width: 1.0;\"/><polygon fill=\"#383838\" points=\"189.42,90.51,186.3756,97.0469,191.2387,102.3714,194.2832,95.8344,189.42,90.51\" style=\"stroke: #383838; stroke-width: 1.0;\"/><text fill=\"#000000\" font-family=\"sans-serif\" font-size=\"13\" lengthAdjust=\"spacingAndGlyphs\" textLength=\"7\" x=\"194.2368\" y=\"142.8366\">*</text><!--MD5=[cf04703ca05eebef50f1cfe8b03e143b]\n",
       "link E9 to E7--><path d=\"M231.67,306.06 C226.59,318.05 220.15,333.27 214.21,347.33 \" fill=\"none\" id=\"E9-&gt;E7\" style=\"stroke: #383838; stroke-width: 1.0;\"/><polygon fill=\"#FFFFFF\" points=\"206.32,365.98,207.2662,345.7537,220.1625,351.2021,206.32,365.98\" style=\"stroke: #383838; stroke-width: 1.0;\"/><line style=\"stroke: #383838; stroke-width: 2.0;\" x1=\"208.745\" x2=\"221.6413\" y1=\"342.2532\" y2=\"347.7017\"/><!--MD5=[22f5b4bae7e060dce8a1c8021efdb95b]\n",
       "reverse link E8 to E9--><path d=\"M229.05,212.96 C231.74,228.51 234.83,246.33 237.19,259.98 \" fill=\"none\" id=\"E8&lt;-E9\" style=\"stroke: #383838; stroke-width: 1.0;\"/><polygon fill=\"#383838\" points=\"226.82,200.06,223.9001,206.6535,228.8633,211.8848,231.7832,205.2913,226.82,200.06\" style=\"stroke: #383838; stroke-width: 1.0;\"/><!--MD5=[82124054cd60a6aa9406e40d0adce63c]\n",
       "@startuml\r\n",
       "top to bottom direction\r\n",
       "skinparam monochrome true\r\n",
       "skinparam classbackgroundcolor white\r\n",
       "skinparam shadowing false\r\n",
       "skinparam wrapWidth 300\r\n",
       "hide circle\r\n",
       "\r\n",
       "package \"ViewTest\" as E1   {\r\n",
       "package \"P\" as E2   {\r\n",
       "}\r\n",
       "comp def \"VP\" as E3  <<(T,blue)viewpoint def>> {\r\n",
       "}\r\n",
       "comp def \"R\" as E4  <<(T,blue)rendering def>> {\r\n",
       "}\r\n",
       "comp def \"V\" as E5  <<(T,blue)view def>> {\r\n",
       "}\r\n",
       "comp usage \"vp: VP\" as E6  <<(T,blue)viewpoint>> {\r\n",
       "}\r\n",
       "comp usage \"r: R\" as E7  <<(T,blue)rendering>> {\r\n",
       "}\r\n",
       "comp usage \"v: V\" as E8  <<(T,blue)view>> {\r\n",
       "}\r\n",
       "comp usage \"r1: R\" as E9  <<(T,blue)rendering>> {\r\n",
       "}\r\n",
       "E5 *- - E6\r\n",
       "E6 - -:|> E3\r\n",
       "E7 - -:|> E4\r\n",
       "E5 *- - \"0..1\"E7\r\n",
       "E8 - -:|> E5\r\n",
       "E5 *- - \"*\"E8\r\n",
       "E9 - -||> E7\r\n",
       "E8 *- - E9\r\n",
       "}\r\n",
       "@enduml\r\n",
       "\n",
       "PlantUML version 1.2020.13(Sat Jun 13 12:26:38 UTC 2020)\n",
       "(EPL source distribution)\n",
       "Java Runtime: OpenJDK Runtime Environment\n",
       "JVM: OpenJDK 64-Bit Server VM\n",
       "Default Encoding: UTF-8\n",
       "Language: en\n",
       "Country: null\n",
       "--></g></svg>"
      ]
     },
     "execution_count": 45,
     "metadata": {},
     "output_type": "execute_result"
    }
   ],
   "source": [
    "%viz --style=\"TB\" --view=\"Tree\" \"ViewTest\""
   ]
  },
  {
   "cell_type": "code",
   "execution_count": 46,
   "id": "comic-canberra",
   "metadata": {
    "execution": {
     "iopub.execute_input": "2021-03-25T16:08:02.577361Z",
     "iopub.status.busy": "2021-03-25T16:08:02.576661Z",
     "iopub.status.idle": "2021-03-25T16:08:02.578524Z",
     "shell.execute_reply": "2021-03-25T16:08:02.579010Z"
    }
   },
   "outputs": [
    {
     "data": {
      "text/plain": [
       "java.lang.IllegalArgumentException: Invalid View: State View candidates are: Default Tree StateMachine Interconnection Activity Sequence MIXED \n",
       "\tat org.omg.sysml.plantuml.SysML2PlantUMLSvc.setView(SysML2PlantUMLSvc.java:63)\n",
       "\tat org.omg.sysml.interactive.SysMLInteractive.viz(SysMLInteractive.java:286)\n",
       "\tat org.omg.sysml.jupyter.kernel.magic.Viz.viz(Viz.java:47)\n",
       "\tat jdk.internal.reflect.GeneratedMethodAccessor10.invoke(Unknown Source)\n",
       "\tat java.base/jdk.internal.reflect.DelegatingMethodAccessorImpl.invoke(DelegatingMethodAccessorImpl.java:43)\n",
       "\tat java.base/java.lang.reflect.Method.invoke(Method.java:568)\n",
       "\tat io.github.spencerpark.jupyter.kernel.magic.registry.Magics.invoke(Magics.java:89)\n",
       "\tat io.github.spencerpark.jupyter.kernel.magic.registry.Magics.access$000(Magics.java:8)\n",
       "\tat io.github.spencerpark.jupyter.kernel.magic.registry.Magics$LineReflectionMagicFunction.execute(Magics.java:149)\n",
       "\tat io.github.spencerpark.jupyter.kernel.magic.registry.Magics.applyLineMagic(Magics.java:26)\n",
       "\tat org.omg.sysml.jupyter.kernel.SysMLKernel.eval(SysMLKernel.java:76)\n",
       "\tat io.github.spencerpark.jupyter.kernel.BaseKernel.handleExecuteRequest(BaseKernel.java:334)\n",
       "\tat io.github.spencerpark.jupyter.channels.ShellChannel.lambda$bind$0(ShellChannel.java:64)\n",
       "\tat io.github.spencerpark.jupyter.channels.Loop.lambda$new$0(Loop.java:21)\n",
       "\tat io.github.spencerpark.jupyter.channels.Loop.run(Loop.java:78)\n"
      ]
     },
     "execution_count": 46,
     "metadata": {},
     "output_type": "execute_result"
    }
   ],
   "source": [
    "%viz --style=\"TB\" --view=\"State\" \"ViewTest\""
   ]
  },
  {
   "cell_type": "code",
   "execution_count": 47,
   "id": "equivalent-neighbor",
   "metadata": {
    "execution": {
     "iopub.execute_input": "2021-03-25T16:08:02.631268Z",
     "iopub.status.busy": "2021-03-25T16:08:02.630376Z",
     "iopub.status.idle": "2021-03-25T16:08:02.736973Z",
     "shell.execute_reply": "2021-03-25T16:08:02.735641Z"
    }
   },
   "outputs": [
    {
     "data": {
      "image/svg+xml": [
       "<?xml version=\"1.0\" encoding=\"UTF-8\" standalone=\"no\"?><svg xmlns=\"http://www.w3.org/2000/svg\" xmlns:xlink=\"http://www.w3.org/1999/xlink\" contentScriptType=\"application/ecmascript\" contentStyleType=\"text/css\" height=\"288px\" preserveAspectRatio=\"none\" style=\"width:903px;height:288px;\" version=\"1.1\" viewBox=\"0 0 903 288\" width=\"903px\" zoomAndPan=\"magnify\"><defs/><g><!--MD5=[fbc87193dbaf4d95561dea2c320d4a47]\n",
       "cluster E1--><polygon fill=\"#FFFFFF\" points=\"16,6,96,6,103,28.2969,881,28.2969,881,276,16,276,16,6\" style=\"stroke: #000000; stroke-width: 1.5;\"/><line style=\"stroke: #000000; stroke-width: 1.5;\" x1=\"16\" x2=\"103\" y1=\"28.2969\" y2=\"28.2969\"/><text fill=\"#000000\" font-family=\"sans-serif\" font-size=\"14\" font-weight=\"bold\" lengthAdjust=\"spacingAndGlyphs\" textLength=\"74\" x=\"20\" y=\"20.9951\">ViewTest</text><!--MD5=[de5ec2e2e8f62f467e546659f5068c88]\n",
       "cluster E5--><rect fill=\"#FFFFFF\" height=\"203\" style=\"stroke: #000000; stroke-width: 1.5;\" width=\"476\" x=\"381\" y=\"49\"/><text fill=\"#000000\" font-family=\"sans-serif\" font-size=\"14\" font-style=\"italic\" lengthAdjust=\"spacingAndGlyphs\" textLength=\"74\" x=\"582\" y=\"63.9951\">«view def»</text><text fill=\"#000000\" font-family=\"sans-serif\" font-size=\"14\" font-weight=\"bold\" lengthAdjust=\"spacingAndGlyphs\" textLength=\"11\" x=\"613.5\" y=\"80.292\">V</text><!--MD5=[14e3b0961a2654348d326746436168a1]\n",
       "cluster E6--><rect fill=\"#F8F8F8\" height=\"120\" rx=\"12.5\" ry=\"12.5\" style=\"stroke: #000000; stroke-width: 1.5;\" width=\"142\" x=\"691\" y=\"108\"/><rect fill=\"#FFFFFF\" height=\"87.7031\" rx=\"12.5\" ry=\"12.5\" style=\"stroke: #FFFFFF; stroke-width: 1.0;\" width=\"136\" x=\"694\" y=\"137.2969\"/><line style=\"stroke: #000000; stroke-width: 1.5;\" x1=\"691\" x2=\"833\" y1=\"134.2969\" y2=\"134.2969\"/><text fill=\"#000000\" font-family=\"sans-serif\" font-size=\"14\" lengthAdjust=\"spacingAndGlyphs\" textLength=\"43\" x=\"720.5\" y=\"124.9951\">vp: VP</text><!--MD5=[7f149f147074ac12df2cb0a7728a5fb0]\n",
       "cluster E9--><rect fill=\"#F8F8F8\" height=\"104\" rx=\"12.5\" ry=\"12.5\" style=\"stroke: #000000; stroke-width: 1.5;\" width=\"110\" x=\"557\" y=\"124\"/><rect fill=\"#FFFFFF\" height=\"71.7031\" rx=\"12.5\" ry=\"12.5\" style=\"stroke: #FFFFFF; stroke-width: 1.0;\" width=\"104\" x=\"560\" y=\"153.2969\"/><line style=\"stroke: #000000; stroke-width: 1.5;\" x1=\"557\" x2=\"667\" y1=\"150.2969\" y2=\"150.2969\"/><text fill=\"#000000\" font-family=\"sans-serif\" font-size=\"14\" lengthAdjust=\"spacingAndGlyphs\" textLength=\"25\" x=\"599.5\" y=\"140.9951\">v: V</text><!--MD5=[09b614a08d8cba4a07c9adeb5e0fee81]\n",
       "class E3--><rect fill=\"#FFFFFF\" height=\"53.9375\" id=\"E3\" style=\"stroke: #383838; stroke-width: 1.5;\" width=\"98\" x=\"264\" y=\"158.5\"/><text fill=\"#000000\" font-family=\"sans-serif\" font-size=\"12\" font-style=\"italic\" lengthAdjust=\"spacingAndGlyphs\" textLength=\"96\" x=\"265\" y=\"174.6387\">«viewpoint def»</text><text fill=\"#000000\" font-family=\"sans-serif\" font-size=\"12\" lengthAdjust=\"spacingAndGlyphs\" textLength=\"16\" x=\"305\" y=\"188.6074\">VP</text><line style=\"stroke: #383838; stroke-width: 1.5;\" x1=\"265\" x2=\"361\" y1=\"196.4375\" y2=\"196.4375\"/><line style=\"stroke: #383838; stroke-width: 1.5;\" x1=\"265\" x2=\"361\" y1=\"204.4375\" y2=\"204.4375\"/><polygon fill=\"#FFFFFF\" points=\"199,159,215,159,222,181.2969,229,181.2969,229,211.5938,199,211.5938,199,159\" style=\"stroke: #000000; stroke-width: 1.5;\"/><line style=\"stroke: #000000; stroke-width: 1.5;\" x1=\"199\" x2=\"222\" y1=\"181.2969\" y2=\"181.2969\"/><text fill=\"#000000\" font-family=\"sans-serif\" font-size=\"14\" font-weight=\"bold\" lengthAdjust=\"spacingAndGlyphs\" textLength=\"10\" x=\"203\" y=\"173.9951\">P</text><!--MD5=[961cefdc15414eaa3e87aec9d17c2188]\n",
       "entity E4--><rect fill=\"#FFFFFF\" height=\"52.5938\" style=\"stroke: #000000; stroke-width: 1.5;\" width=\"131\" x=\"32.5\" y=\"159\"/><text fill=\"#000000\" font-family=\"sans-serif\" font-size=\"14\" font-style=\"italic\" lengthAdjust=\"spacingAndGlyphs\" textLength=\"111\" x=\"42.5\" y=\"181.9951\">«rendering def»</text><text fill=\"#000000\" font-family=\"sans-serif\" font-size=\"14\" lengthAdjust=\"spacingAndGlyphs\" textLength=\"10\" x=\"93\" y=\"198.292\">R</text><g id=\"E1.E5.E6.E7\"><rect fill=\"#FFFFFF\" height=\"52.5938\" rx=\"12.5\" ry=\"12.5\" style=\"stroke: #383838; stroke-width: 1.5;\" width=\"110\" x=\"707\" y=\"159\"/><line style=\"stroke: #383838; stroke-width: 1.5;\" x1=\"707\" x2=\"817\" y1=\"201.5938\" y2=\"201.5938\"/><text fill=\"#000000\" font-family=\"sans-serif\" font-size=\"14\" lengthAdjust=\"spacingAndGlyphs\" textLength=\"70\" x=\"727\" y=\"176.9951\">subj: View</text><text fill=\"#000000\" font-family=\"sans-serif\" font-size=\"14\" font-style=\"italic\" lengthAdjust=\"spacingAndGlyphs\" textLength=\"86\" x=\"717\" y=\"193.292\">:&gt;&gt;VP::subj</text><text fill=\"#000000\" font-family=\"sans-serif\" font-size=\"14\" lengthAdjust=\"spacingAndGlyphs\" textLength=\"0\" x=\"807\" y=\"193.292\"/></g><g id=\"E1.E5.E8\"><rect fill=\"#FFFFFF\" height=\"52.5938\" rx=\"12.5\" ry=\"12.5\" style=\"stroke: #383838; stroke-width: 1.5;\" width=\"141\" x=\"397.5\" y=\"159\"/><line style=\"stroke: #383838; stroke-width: 1.5;\" x1=\"397.5\" x2=\"538.5\" y1=\"201.5938\" y2=\"201.5938\"/><text fill=\"#000000\" font-family=\"sans-serif\" font-size=\"14\" lengthAdjust=\"spacingAndGlyphs\" textLength=\"24\" x=\"456\" y=\"176.9951\">r: R</text><text fill=\"#000000\" font-family=\"sans-serif\" font-size=\"14\" font-style=\"italic\" lengthAdjust=\"spacingAndGlyphs\" textLength=\"117\" x=\"407.5\" y=\"193.292\">:&gt;&gt;View::render</text><text fill=\"#000000\" font-family=\"sans-serif\" font-size=\"14\" lengthAdjust=\"spacingAndGlyphs\" textLength=\"0\" x=\"528.5\" y=\"193.292\"/></g><g id=\"E1.E5.E9.E10\"><rect fill=\"#FFFFFF\" height=\"52.5938\" rx=\"12.5\" ry=\"12.5\" style=\"stroke: #383838; stroke-width: 1.5;\" width=\"77\" x=\"573.5\" y=\"159\"/><line style=\"stroke: #383838; stroke-width: 1.5;\" x1=\"573.5\" x2=\"650.5\" y1=\"201.5938\" y2=\"201.5938\"/><text fill=\"#000000\" font-family=\"sans-serif\" font-size=\"14\" lengthAdjust=\"spacingAndGlyphs\" textLength=\"33\" x=\"595.5\" y=\"176.9951\">r1: R</text><text fill=\"#000000\" font-family=\"sans-serif\" font-size=\"14\" font-style=\"italic\" lengthAdjust=\"spacingAndGlyphs\" textLength=\"53\" x=\"583.5\" y=\"193.292\">:&gt;&gt;V::r</text><text fill=\"#000000\" font-family=\"sans-serif\" font-size=\"14\" lengthAdjust=\"spacingAndGlyphs\" textLength=\"0\" x=\"640.5\" y=\"193.292\"/></g><!--MD5=[5f7ce30bfea2336a76a2267fc35fb991]\n",
       "@startuml\r\n",
       "skinparam ranksep 8\r\n",
       "skinparam rectangle {\r\n",
       " backgroundColor<<block>> LightGreen\r\n",
       "}\r\n",
       "top to bottom direction\r\n",
       "skinparam monochrome true\r\n",
       "skinparam classbackgroundcolor white\r\n",
       "skinparam shadowing false\r\n",
       "skinparam wrapWidth 300\r\n",
       "hide circle\r\n",
       "\r\n",
       "package \"ViewTest\" as E1   {\r\n",
       "package \"P\" as E2   {\r\n",
       "}\r\n",
       "def \"VP\" as E3  <<viewpoint def>> \r\n",
       "rec def \"R\" as E4  <<rendering def>> {\r\n",
       "}\r\n",
       "rec def \"V\" as E5  <<view def>> {\r\n",
       "rec usage \"vp: VP\" as E6  <<viewpoint>> {\r\n",
       "rec usage \"subj: View\\n//:>>VP::subj// \" as E7  <<reference>> {\r\n",
       "}\r\n",
       "}\r\n",
       "rec usage \"r: R\\n//:>>View::render// \" as E8  {\r\n",
       "}\r\n",
       "rec usage \"v: V\" as E9  {\r\n",
       "rec usage \"r1: R\\n//:>>V::r// \" as E10  {\r\n",
       "}\r\n",
       "}\r\n",
       "}\r\n",
       "}\r\n",
       "@enduml\r\n",
       "\n",
       "PlantUML version 1.2020.13(Sat Jun 13 12:26:38 UTC 2020)\n",
       "(EPL source distribution)\n",
       "Java Runtime: OpenJDK Runtime Environment\n",
       "JVM: OpenJDK 64-Bit Server VM\n",
       "Default Encoding: UTF-8\n",
       "Language: en\n",
       "Country: null\n",
       "--></g></svg>"
      ]
     },
     "execution_count": 47,
     "metadata": {},
     "output_type": "execute_result"
    }
   ],
   "source": [
    "%viz --style=\"TB\" --view=\"Interconnection\" \"ViewTest\""
   ]
  },
  {
   "cell_type": "code",
   "execution_count": 48,
   "id": "hidden-viewer",
   "metadata": {
    "execution": {
     "iopub.execute_input": "2021-03-25T16:08:02.788921Z",
     "iopub.status.busy": "2021-03-25T16:08:02.788221Z",
     "iopub.status.idle": "2021-03-25T16:08:02.791381Z",
     "shell.execute_reply": "2021-03-25T16:08:02.792191Z"
    }
   },
   "outputs": [
    {
     "data": {
      "text/plain": [
       "java.lang.IllegalArgumentException: Invalid View: Action View candidates are: Default Tree StateMachine Interconnection Activity Sequence MIXED \n",
       "\tat org.omg.sysml.plantuml.SysML2PlantUMLSvc.setView(SysML2PlantUMLSvc.java:63)\n",
       "\tat org.omg.sysml.interactive.SysMLInteractive.viz(SysMLInteractive.java:286)\n",
       "\tat org.omg.sysml.jupyter.kernel.magic.Viz.viz(Viz.java:47)\n",
       "\tat jdk.internal.reflect.GeneratedMethodAccessor10.invoke(Unknown Source)\n",
       "\tat java.base/jdk.internal.reflect.DelegatingMethodAccessorImpl.invoke(DelegatingMethodAccessorImpl.java:43)\n",
       "\tat java.base/java.lang.reflect.Method.invoke(Method.java:568)\n",
       "\tat io.github.spencerpark.jupyter.kernel.magic.registry.Magics.invoke(Magics.java:89)\n",
       "\tat io.github.spencerpark.jupyter.kernel.magic.registry.Magics.access$000(Magics.java:8)\n",
       "\tat io.github.spencerpark.jupyter.kernel.magic.registry.Magics$LineReflectionMagicFunction.execute(Magics.java:149)\n",
       "\tat io.github.spencerpark.jupyter.kernel.magic.registry.Magics.applyLineMagic(Magics.java:26)\n",
       "\tat org.omg.sysml.jupyter.kernel.SysMLKernel.eval(SysMLKernel.java:76)\n",
       "\tat io.github.spencerpark.jupyter.kernel.BaseKernel.handleExecuteRequest(BaseKernel.java:334)\n",
       "\tat io.github.spencerpark.jupyter.channels.ShellChannel.lambda$bind$0(ShellChannel.java:64)\n",
       "\tat io.github.spencerpark.jupyter.channels.Loop.lambda$new$0(Loop.java:21)\n",
       "\tat io.github.spencerpark.jupyter.channels.Loop.run(Loop.java:78)\n"
      ]
     },
     "execution_count": 48,
     "metadata": {},
     "output_type": "execute_result"
    }
   ],
   "source": [
    "%viz --style=\"TB\" --view=\"Action\" \"ViewTest\""
   ]
  },
  {
   "cell_type": "code",
   "execution_count": 49,
   "id": "handmade-overall",
   "metadata": {
    "execution": {
     "iopub.execute_input": "2021-03-25T16:08:02.844558Z",
     "iopub.status.busy": "2021-03-25T16:08:02.843776Z",
     "iopub.status.idle": "2021-03-25T16:08:02.939181Z",
     "shell.execute_reply": "2021-03-25T16:08:02.937373Z"
    }
   },
   "outputs": [
    {
     "data": {
      "image/svg+xml": [
       "<?xml version=\"1.0\" encoding=\"UTF-8\" standalone=\"no\"?><svg xmlns=\"http://www.w3.org/2000/svg\" xmlns:xlink=\"http://www.w3.org/1999/xlink\" contentScriptType=\"application/ecmascript\" contentStyleType=\"text/css\" height=\"546px\" preserveAspectRatio=\"none\" style=\"width:318px;height:546px;\" version=\"1.1\" viewBox=\"0 0 318 546\" width=\"318px\" zoomAndPan=\"magnify\"><defs/><g><!--MD5=[fbc87193dbaf4d95561dea2c320d4a47]\n",
       "cluster E1--><polygon fill=\"#FFFFFF\" points=\"16,6,96,6,103,28.2969,296,28.2969,296,534,16,534,16,6\" style=\"stroke: #000000; stroke-width: 1.5;\"/><line style=\"stroke: #000000; stroke-width: 1.5;\" x1=\"16\" x2=\"103\" y1=\"28.2969\" y2=\"28.2969\"/><text fill=\"#000000\" font-family=\"sans-serif\" font-size=\"14\" font-weight=\"bold\" lengthAdjust=\"spacingAndGlyphs\" textLength=\"74\" x=\"20\" y=\"20.9951\">ViewTest</text><!--MD5=[09b614a08d8cba4a07c9adeb5e0fee81]\n",
       "class E3--><rect fill=\"#FFFFFF\" height=\"45.9375\" id=\"E3\" style=\"stroke: #383838; stroke-width: 1.5;\" width=\"98\" x=\"32\" y=\"260\"/><text fill=\"#000000\" font-family=\"sans-serif\" font-size=\"12\" font-style=\"italic\" lengthAdjust=\"spacingAndGlyphs\" textLength=\"96\" x=\"33\" y=\"276.1387\">«viewpoint def»</text><text fill=\"#000000\" font-family=\"sans-serif\" font-size=\"12\" lengthAdjust=\"spacingAndGlyphs\" textLength=\"16\" x=\"73\" y=\"290.1074\">VP</text><line style=\"stroke: #383838; stroke-width: 1.5;\" x1=\"33\" x2=\"129\" y1=\"297.9375\" y2=\"297.9375\"/><!--MD5=[ebbe1d658d1005bcc118a6aa81145e00]\n",
       "class E4--><rect fill=\"#FFFFFF\" height=\"45.9375\" id=\"E4\" style=\"stroke: #383838; stroke-width: 1.5;\" width=\"101\" x=\"146.5\" y=\"472\"/><text fill=\"#000000\" font-family=\"sans-serif\" font-size=\"12\" font-style=\"italic\" lengthAdjust=\"spacingAndGlyphs\" textLength=\"99\" x=\"147.5\" y=\"488.1387\">«rendering def»</text><text fill=\"#000000\" font-family=\"sans-serif\" font-size=\"12\" lengthAdjust=\"spacingAndGlyphs\" textLength=\"8\" x=\"193\" y=\"502.1074\">R</text><line style=\"stroke: #383838; stroke-width: 1.5;\" x1=\"147.5\" x2=\"246.5\" y1=\"509.9375\" y2=\"509.9375\"/><!--MD5=[270fce915f116d4de14055a7c1d9a0f3]\n",
       "class E5--><rect fill=\"#FFFFFF\" height=\"45.9375\" id=\"E5\" style=\"stroke: #383838; stroke-width: 1.5;\" width=\"66\" x=\"161\" y=\"44.5\"/><text fill=\"#000000\" font-family=\"sans-serif\" font-size=\"12\" font-style=\"italic\" lengthAdjust=\"spacingAndGlyphs\" textLength=\"64\" x=\"162\" y=\"60.6387\">«view def»</text><text fill=\"#000000\" font-family=\"sans-serif\" font-size=\"12\" lengthAdjust=\"spacingAndGlyphs\" textLength=\"8\" x=\"190\" y=\"74.6074\">V</text><line style=\"stroke: #383838; stroke-width: 1.5;\" x1=\"162\" x2=\"226\" y1=\"82.4375\" y2=\"82.4375\"/><!--MD5=[60a26617385b1d2d0262a64233df1f8d]\n",
       "class E6--><rect fill=\"#FFFFFF\" height=\"45.9375\" id=\"E6\" rx=\"10\" ry=\"10\" style=\"stroke: #383838; stroke-width: 1.5;\" width=\"74\" x=\"50\" y=\"154\"/><text fill=\"#000000\" font-family=\"sans-serif\" font-size=\"12\" font-style=\"italic\" lengthAdjust=\"spacingAndGlyphs\" textLength=\"72\" x=\"51\" y=\"170.1387\">«viewpoint»</text><text fill=\"#000000\" font-family=\"sans-serif\" font-size=\"12\" lengthAdjust=\"spacingAndGlyphs\" textLength=\"38\" x=\"68\" y=\"184.1074\">vp: VP</text><line style=\"stroke: #383838; stroke-width: 1.5;\" x1=\"51\" x2=\"123\" y1=\"191.9375\" y2=\"191.9375\"/><!--MD5=[2156ba9850f5573cc1fc38a6a4b2f02b]\n",
       "class E7--><rect fill=\"#FFFFFF\" height=\"45.9375\" id=\"E7\" rx=\"10\" ry=\"10\" style=\"stroke: #383838; stroke-width: 1.5;\" width=\"77\" x=\"158.5\" y=\"366\"/><text fill=\"#000000\" font-family=\"sans-serif\" font-size=\"12\" font-style=\"italic\" lengthAdjust=\"spacingAndGlyphs\" textLength=\"75\" x=\"159.5\" y=\"382.1387\">«rendering»</text><text fill=\"#000000\" font-family=\"sans-serif\" font-size=\"12\" lengthAdjust=\"spacingAndGlyphs\" textLength=\"21\" x=\"186.5\" y=\"396.1074\">r: R</text><line style=\"stroke: #383838; stroke-width: 1.5;\" x1=\"159.5\" x2=\"234.5\" y1=\"403.9375\" y2=\"403.9375\"/><!--MD5=[b9389687b975829384b498ac4b7476b2]\n",
       "class E8--><rect fill=\"#FFFFFF\" height=\"45.9375\" id=\"E8\" rx=\"10\" ry=\"10\" style=\"stroke: #383838; stroke-width: 1.5;\" width=\"42\" x=\"202\" y=\"154\"/><text fill=\"#000000\" font-family=\"sans-serif\" font-size=\"12\" font-style=\"italic\" lengthAdjust=\"spacingAndGlyphs\" textLength=\"40\" x=\"203\" y=\"170.1387\">«view»</text><text fill=\"#000000\" font-family=\"sans-serif\" font-size=\"12\" lengthAdjust=\"spacingAndGlyphs\" textLength=\"22\" x=\"212\" y=\"184.1074\">v: V</text><line style=\"stroke: #383838; stroke-width: 1.5;\" x1=\"203\" x2=\"243\" y1=\"191.9375\" y2=\"191.9375\"/><!--MD5=[fd4143e9d270a159db93a4ea2a975926]\n",
       "class E9--><rect fill=\"#FFFFFF\" height=\"45.9375\" id=\"E9\" rx=\"10\" ry=\"10\" style=\"stroke: #383838; stroke-width: 1.5;\" width=\"77\" x=\"202.5\" y=\"260\"/><text fill=\"#000000\" font-family=\"sans-serif\" font-size=\"12\" font-style=\"italic\" lengthAdjust=\"spacingAndGlyphs\" textLength=\"75\" x=\"203.5\" y=\"276.1387\">«rendering»</text><text fill=\"#000000\" font-family=\"sans-serif\" font-size=\"12\" lengthAdjust=\"spacingAndGlyphs\" textLength=\"29\" x=\"226.5\" y=\"290.1074\">r1: R</text><line style=\"stroke: #383838; stroke-width: 1.5;\" x1=\"203.5\" x2=\"278.5\" y1=\"297.9375\" y2=\"297.9375\"/><polygon fill=\"#FFFFFF\" points=\"78,41,94,41,101,63.2969,108,63.2969,108,93.5938,78,93.5938,78,41\" style=\"stroke: #000000; stroke-width: 1.5;\"/><line style=\"stroke: #000000; stroke-width: 1.5;\" x1=\"78\" x2=\"101\" y1=\"63.2969\" y2=\"63.2969\"/><text fill=\"#000000\" font-family=\"sans-serif\" font-size=\"14\" font-weight=\"bold\" lengthAdjust=\"spacingAndGlyphs\" textLength=\"10\" x=\"82\" y=\"55.9951\">P</text><!--MD5=[85d356282659285ab4b2cfe2f634dd2b]\n",
       "reverse link E5 to E6--><path d=\"M162.51,100.14 C145.4,117.33 124.66,138.16 109.25,153.65 \" fill=\"none\" id=\"E5&lt;-E6\" style=\"stroke: #383838; stroke-width: 1.0;\"/><polygon fill=\"#383838\" points=\"172.09,90.51,165.0222,91.9407,163.6245,99.015,170.6923,97.5843,172.09,90.51\" style=\"stroke: #383838; stroke-width: 1.0;\"/><!--MD5=[a717450b82c80b9240a525fa862496af]\n",
       "link E6 to E3--><path d=\"M85.73,200.06 C85.06,211.64 84.22,226.23 83.43,239.87 \" fill=\"none\" id=\"E6-&gt;E3\" style=\"stroke: #383838; stroke-width: 1.0;\"/><polygon fill=\"#FFFFFF\" points=\"82.27,259.98,76.3669,240.6111,90.3441,241.411,82.27,259.98\" style=\"stroke: #383838; stroke-width: 1.0;\"/><ellipse cx=\"78.6893\" cy=\"235.0347\" fill=\"#383838\" rx=\"2\" ry=\"2\" style=\"stroke: #383838; stroke-width: 1.0;\"/><ellipse cx=\"88.673\" cy=\"235.606\" fill=\"#383838\" rx=\"2\" ry=\"2\" style=\"stroke: #383838; stroke-width: 1.0;\"/><!--MD5=[6bdd27f9905911a7e892a3dc65cf6b7c]\n",
       "link E7 to E4--><path d=\"M197,412.06 C197,423.64 197,438.23 197,451.87 \" fill=\"none\" id=\"E7-&gt;E4\" style=\"stroke: #383838; stroke-width: 1.0;\"/><polygon fill=\"#FFFFFF\" points=\"197,471.98,190,452.98,204,452.98,197,471.98\" style=\"stroke: #383838; stroke-width: 1.0;\"/><ellipse cx=\"192\" cy=\"447.28\" fill=\"#383838\" rx=\"2\" ry=\"2\" style=\"stroke: #383838; stroke-width: 1.0;\"/><ellipse cx=\"202\" cy=\"447.28\" fill=\"#383838\" rx=\"2\" ry=\"2\" style=\"stroke: #383838; stroke-width: 1.0;\"/><!--MD5=[452b418e7f8a40397a49b8c0a78acc5b]\n",
       "reverse link E5 to E7--><path d=\"M189.45,103.79 C187.68,119.18 185.87,137.45 185,154 C181.46,221.46 180.1,238.62 185,306 C186.48,326.38 190.01,349.38 192.86,365.82 \" fill=\"none\" id=\"E5&lt;-E7\" style=\"stroke: #383838; stroke-width: 1.0;\"/><polygon fill=\"#383838\" points=\"191.03,90.59,186.3465,96.0731,189.6065,102.5053,194.29,97.0221,191.03,90.59\" style=\"stroke: #383838; stroke-width: 1.0;\"/><text fill=\"#000000\" font-family=\"sans-serif\" font-size=\"13\" lengthAdjust=\"spacingAndGlyphs\" textLength=\"24\" x=\"164.7241\" y=\"355.0502\">0..1</text><!--MD5=[1ccb2481ffa92f8d51a74ee30c51832a]\n",
       "link E8 to E5--><path d=\"M228.17,153.65 C226.85,140.84 223.06,124.37 218.16,109.34 \" fill=\"none\" id=\"E8-&gt;E5\" style=\"stroke: #383838; stroke-width: 1.0;\"/><polygon fill=\"#FFFFFF\" points=\"211.08,90.51,224.3197,105.8302,211.2157,110.758,211.08,90.51\" style=\"stroke: #383838; stroke-width: 1.0;\"/><ellipse cx=\"224.454\" cy=\"111.8694\" fill=\"#383838\" rx=\"2\" ry=\"2\" style=\"stroke: #383838; stroke-width: 1.0;\"/><ellipse cx=\"215.094\" cy=\"115.3893\" fill=\"#383838\" rx=\"2\" ry=\"2\" style=\"stroke: #383838; stroke-width: 1.0;\"/><!--MD5=[827760032d119d06bbc92f75530fd7ae]\n",
       "reverse link E5 to E8--><path d=\"M191.42,103.56 C194.56,120.03 200.21,139.18 206.39,153.65 \" fill=\"none\" id=\"E5&lt;-E8\" style=\"stroke: #383838; stroke-width: 1.0;\"/><polygon fill=\"#383838\" points=\"189.42,90.51,186.3756,97.0469,191.2387,102.3714,194.2832,95.8344,189.42,90.51\" style=\"stroke: #383838; stroke-width: 1.0;\"/><text fill=\"#000000\" font-family=\"sans-serif\" font-size=\"13\" lengthAdjust=\"spacingAndGlyphs\" textLength=\"7\" x=\"194.2368\" y=\"142.8366\">*</text><!--MD5=[cf04703ca05eebef50f1cfe8b03e143b]\n",
       "link E9 to E7--><path d=\"M231.67,306.06 C226.59,318.05 220.15,333.27 214.21,347.33 \" fill=\"none\" id=\"E9-&gt;E7\" style=\"stroke: #383838; stroke-width: 1.0;\"/><polygon fill=\"#FFFFFF\" points=\"206.32,365.98,207.2662,345.7537,220.1625,351.2021,206.32,365.98\" style=\"stroke: #383838; stroke-width: 1.0;\"/><line style=\"stroke: #383838; stroke-width: 2.0;\" x1=\"208.745\" x2=\"221.6413\" y1=\"342.2532\" y2=\"347.7017\"/><!--MD5=[22f5b4bae7e060dce8a1c8021efdb95b]\n",
       "reverse link E8 to E9--><path d=\"M229.05,212.96 C231.74,228.51 234.83,246.33 237.19,259.98 \" fill=\"none\" id=\"E8&lt;-E9\" style=\"stroke: #383838; stroke-width: 1.0;\"/><polygon fill=\"#383838\" points=\"226.82,200.06,223.9001,206.6535,228.8633,211.8848,231.7832,205.2913,226.82,200.06\" style=\"stroke: #383838; stroke-width: 1.0;\"/><!--MD5=[82124054cd60a6aa9406e40d0adce63c]\n",
       "@startuml\r\n",
       "top to bottom direction\r\n",
       "skinparam monochrome true\r\n",
       "skinparam classbackgroundcolor white\r\n",
       "skinparam shadowing false\r\n",
       "skinparam wrapWidth 300\r\n",
       "hide circle\r\n",
       "\r\n",
       "package \"ViewTest\" as E1   {\r\n",
       "package \"P\" as E2   {\r\n",
       "}\r\n",
       "comp def \"VP\" as E3  <<(T,blue)viewpoint def>> {\r\n",
       "}\r\n",
       "comp def \"R\" as E4  <<(T,blue)rendering def>> {\r\n",
       "}\r\n",
       "comp def \"V\" as E5  <<(T,blue)view def>> {\r\n",
       "}\r\n",
       "comp usage \"vp: VP\" as E6  <<(T,blue)viewpoint>> {\r\n",
       "}\r\n",
       "comp usage \"r: R\" as E7  <<(T,blue)rendering>> {\r\n",
       "}\r\n",
       "comp usage \"v: V\" as E8  <<(T,blue)view>> {\r\n",
       "}\r\n",
       "comp usage \"r1: R\" as E9  <<(T,blue)rendering>> {\r\n",
       "}\r\n",
       "E5 *- - E6\r\n",
       "E6 - -:|> E3\r\n",
       "E7 - -:|> E4\r\n",
       "E5 *- - \"0..1\"E7\r\n",
       "E8 - -:|> E5\r\n",
       "E5 *- - \"*\"E8\r\n",
       "E9 - -||> E7\r\n",
       "E8 *- - E9\r\n",
       "}\r\n",
       "@enduml\r\n",
       "\n",
       "PlantUML version 1.2020.13(Sat Jun 13 12:26:38 UTC 2020)\n",
       "(EPL source distribution)\n",
       "Java Runtime: OpenJDK Runtime Environment\n",
       "JVM: OpenJDK 64-Bit Server VM\n",
       "Default Encoding: UTF-8\n",
       "Language: en\n",
       "Country: null\n",
       "--></g></svg>"
      ]
     },
     "execution_count": 49,
     "metadata": {},
     "output_type": "execute_result"
    }
   ],
   "source": [
    "%viz --style=\"TB\" --view=\"Sequence\" \"ViewTest\""
   ]
  },
  {
   "cell_type": "code",
   "execution_count": 50,
   "id": "seeing-locking",
   "metadata": {
    "execution": {
     "iopub.execute_input": "2021-03-25T16:08:02.988843Z",
     "iopub.status.busy": "2021-03-25T16:08:02.988318Z",
     "iopub.status.idle": "2021-03-25T16:08:03.081389Z",
     "shell.execute_reply": "2021-03-25T16:08:03.079732Z"
    }
   },
   "outputs": [
    {
     "data": {
      "image/svg+xml": [
       "<?xml version=\"1.0\" encoding=\"UTF-8\" standalone=\"no\"?><svg xmlns=\"http://www.w3.org/2000/svg\" xmlns:xlink=\"http://www.w3.org/1999/xlink\" contentScriptType=\"application/ecmascript\" contentStyleType=\"text/css\" height=\"546px\" preserveAspectRatio=\"none\" style=\"width:318px;height:546px;\" version=\"1.1\" viewBox=\"0 0 318 546\" width=\"318px\" zoomAndPan=\"magnify\"><defs/><g><!--MD5=[fbc87193dbaf4d95561dea2c320d4a47]\n",
       "cluster E1--><polygon fill=\"#FFFFFF\" points=\"16,6,96,6,103,28.2969,296,28.2969,296,534,16,534,16,6\" style=\"stroke: #000000; stroke-width: 1.5;\"/><line style=\"stroke: #000000; stroke-width: 1.5;\" x1=\"16\" x2=\"103\" y1=\"28.2969\" y2=\"28.2969\"/><text fill=\"#000000\" font-family=\"sans-serif\" font-size=\"14\" font-weight=\"bold\" lengthAdjust=\"spacingAndGlyphs\" textLength=\"74\" x=\"20\" y=\"20.9951\">ViewTest</text><!--MD5=[09b614a08d8cba4a07c9adeb5e0fee81]\n",
       "class E3--><rect fill=\"#FFFFFF\" height=\"45.9375\" id=\"E3\" style=\"stroke: #383838; stroke-width: 1.5;\" width=\"98\" x=\"32\" y=\"260\"/><text fill=\"#000000\" font-family=\"sans-serif\" font-size=\"12\" font-style=\"italic\" lengthAdjust=\"spacingAndGlyphs\" textLength=\"96\" x=\"33\" y=\"276.1387\">«viewpoint def»</text><text fill=\"#000000\" font-family=\"sans-serif\" font-size=\"12\" lengthAdjust=\"spacingAndGlyphs\" textLength=\"16\" x=\"73\" y=\"290.1074\">VP</text><line style=\"stroke: #383838; stroke-width: 1.5;\" x1=\"33\" x2=\"129\" y1=\"297.9375\" y2=\"297.9375\"/><!--MD5=[ebbe1d658d1005bcc118a6aa81145e00]\n",
       "class E4--><rect fill=\"#FFFFFF\" height=\"45.9375\" id=\"E4\" style=\"stroke: #383838; stroke-width: 1.5;\" width=\"101\" x=\"146.5\" y=\"472\"/><text fill=\"#000000\" font-family=\"sans-serif\" font-size=\"12\" font-style=\"italic\" lengthAdjust=\"spacingAndGlyphs\" textLength=\"99\" x=\"147.5\" y=\"488.1387\">«rendering def»</text><text fill=\"#000000\" font-family=\"sans-serif\" font-size=\"12\" lengthAdjust=\"spacingAndGlyphs\" textLength=\"8\" x=\"193\" y=\"502.1074\">R</text><line style=\"stroke: #383838; stroke-width: 1.5;\" x1=\"147.5\" x2=\"246.5\" y1=\"509.9375\" y2=\"509.9375\"/><!--MD5=[270fce915f116d4de14055a7c1d9a0f3]\n",
       "class E5--><rect fill=\"#FFFFFF\" height=\"45.9375\" id=\"E5\" style=\"stroke: #383838; stroke-width: 1.5;\" width=\"66\" x=\"161\" y=\"44.5\"/><text fill=\"#000000\" font-family=\"sans-serif\" font-size=\"12\" font-style=\"italic\" lengthAdjust=\"spacingAndGlyphs\" textLength=\"64\" x=\"162\" y=\"60.6387\">«view def»</text><text fill=\"#000000\" font-family=\"sans-serif\" font-size=\"12\" lengthAdjust=\"spacingAndGlyphs\" textLength=\"8\" x=\"190\" y=\"74.6074\">V</text><line style=\"stroke: #383838; stroke-width: 1.5;\" x1=\"162\" x2=\"226\" y1=\"82.4375\" y2=\"82.4375\"/><!--MD5=[60a26617385b1d2d0262a64233df1f8d]\n",
       "class E6--><rect fill=\"#FFFFFF\" height=\"45.9375\" id=\"E6\" rx=\"10\" ry=\"10\" style=\"stroke: #383838; stroke-width: 1.5;\" width=\"74\" x=\"50\" y=\"154\"/><text fill=\"#000000\" font-family=\"sans-serif\" font-size=\"12\" font-style=\"italic\" lengthAdjust=\"spacingAndGlyphs\" textLength=\"72\" x=\"51\" y=\"170.1387\">«viewpoint»</text><text fill=\"#000000\" font-family=\"sans-serif\" font-size=\"12\" lengthAdjust=\"spacingAndGlyphs\" textLength=\"38\" x=\"68\" y=\"184.1074\">vp: VP</text><line style=\"stroke: #383838; stroke-width: 1.5;\" x1=\"51\" x2=\"123\" y1=\"191.9375\" y2=\"191.9375\"/><!--MD5=[2156ba9850f5573cc1fc38a6a4b2f02b]\n",
       "class E7--><rect fill=\"#FFFFFF\" height=\"45.9375\" id=\"E7\" rx=\"10\" ry=\"10\" style=\"stroke: #383838; stroke-width: 1.5;\" width=\"77\" x=\"158.5\" y=\"366\"/><text fill=\"#000000\" font-family=\"sans-serif\" font-size=\"12\" font-style=\"italic\" lengthAdjust=\"spacingAndGlyphs\" textLength=\"75\" x=\"159.5\" y=\"382.1387\">«rendering»</text><text fill=\"#000000\" font-family=\"sans-serif\" font-size=\"12\" lengthAdjust=\"spacingAndGlyphs\" textLength=\"21\" x=\"186.5\" y=\"396.1074\">r: R</text><line style=\"stroke: #383838; stroke-width: 1.5;\" x1=\"159.5\" x2=\"234.5\" y1=\"403.9375\" y2=\"403.9375\"/><!--MD5=[b9389687b975829384b498ac4b7476b2]\n",
       "class E8--><rect fill=\"#FFFFFF\" height=\"45.9375\" id=\"E8\" rx=\"10\" ry=\"10\" style=\"stroke: #383838; stroke-width: 1.5;\" width=\"42\" x=\"202\" y=\"154\"/><text fill=\"#000000\" font-family=\"sans-serif\" font-size=\"12\" font-style=\"italic\" lengthAdjust=\"spacingAndGlyphs\" textLength=\"40\" x=\"203\" y=\"170.1387\">«view»</text><text fill=\"#000000\" font-family=\"sans-serif\" font-size=\"12\" lengthAdjust=\"spacingAndGlyphs\" textLength=\"22\" x=\"212\" y=\"184.1074\">v: V</text><line style=\"stroke: #383838; stroke-width: 1.5;\" x1=\"203\" x2=\"243\" y1=\"191.9375\" y2=\"191.9375\"/><!--MD5=[fd4143e9d270a159db93a4ea2a975926]\n",
       "class E9--><rect fill=\"#FFFFFF\" height=\"45.9375\" id=\"E9\" rx=\"10\" ry=\"10\" style=\"stroke: #383838; stroke-width: 1.5;\" width=\"77\" x=\"202.5\" y=\"260\"/><text fill=\"#000000\" font-family=\"sans-serif\" font-size=\"12\" font-style=\"italic\" lengthAdjust=\"spacingAndGlyphs\" textLength=\"75\" x=\"203.5\" y=\"276.1387\">«rendering»</text><text fill=\"#000000\" font-family=\"sans-serif\" font-size=\"12\" lengthAdjust=\"spacingAndGlyphs\" textLength=\"29\" x=\"226.5\" y=\"290.1074\">r1: R</text><line style=\"stroke: #383838; stroke-width: 1.5;\" x1=\"203.5\" x2=\"278.5\" y1=\"297.9375\" y2=\"297.9375\"/><polygon fill=\"#FFFFFF\" points=\"78,41,94,41,101,63.2969,108,63.2969,108,93.5938,78,93.5938,78,41\" style=\"stroke: #000000; stroke-width: 1.5;\"/><line style=\"stroke: #000000; stroke-width: 1.5;\" x1=\"78\" x2=\"101\" y1=\"63.2969\" y2=\"63.2969\"/><text fill=\"#000000\" font-family=\"sans-serif\" font-size=\"14\" font-weight=\"bold\" lengthAdjust=\"spacingAndGlyphs\" textLength=\"10\" x=\"82\" y=\"55.9951\">P</text><!--MD5=[85d356282659285ab4b2cfe2f634dd2b]\n",
       "reverse link E5 to E6--><path d=\"M162.51,100.14 C145.4,117.33 124.66,138.16 109.25,153.65 \" fill=\"none\" id=\"E5&lt;-E6\" style=\"stroke: #383838; stroke-width: 1.0;\"/><polygon fill=\"#383838\" points=\"172.09,90.51,165.0222,91.9407,163.6245,99.015,170.6923,97.5843,172.09,90.51\" style=\"stroke: #383838; stroke-width: 1.0;\"/><!--MD5=[a717450b82c80b9240a525fa862496af]\n",
       "link E6 to E3--><path d=\"M85.73,200.06 C85.06,211.64 84.22,226.23 83.43,239.87 \" fill=\"none\" id=\"E6-&gt;E3\" style=\"stroke: #383838; stroke-width: 1.0;\"/><polygon fill=\"#FFFFFF\" points=\"82.27,259.98,76.3669,240.6111,90.3441,241.411,82.27,259.98\" style=\"stroke: #383838; stroke-width: 1.0;\"/><ellipse cx=\"78.6893\" cy=\"235.0347\" fill=\"#383838\" rx=\"2\" ry=\"2\" style=\"stroke: #383838; stroke-width: 1.0;\"/><ellipse cx=\"88.673\" cy=\"235.606\" fill=\"#383838\" rx=\"2\" ry=\"2\" style=\"stroke: #383838; stroke-width: 1.0;\"/><!--MD5=[6bdd27f9905911a7e892a3dc65cf6b7c]\n",
       "link E7 to E4--><path d=\"M197,412.06 C197,423.64 197,438.23 197,451.87 \" fill=\"none\" id=\"E7-&gt;E4\" style=\"stroke: #383838; stroke-width: 1.0;\"/><polygon fill=\"#FFFFFF\" points=\"197,471.98,190,452.98,204,452.98,197,471.98\" style=\"stroke: #383838; stroke-width: 1.0;\"/><ellipse cx=\"192\" cy=\"447.28\" fill=\"#383838\" rx=\"2\" ry=\"2\" style=\"stroke: #383838; stroke-width: 1.0;\"/><ellipse cx=\"202\" cy=\"447.28\" fill=\"#383838\" rx=\"2\" ry=\"2\" style=\"stroke: #383838; stroke-width: 1.0;\"/><!--MD5=[452b418e7f8a40397a49b8c0a78acc5b]\n",
       "reverse link E5 to E7--><path d=\"M189.45,103.79 C187.68,119.18 185.87,137.45 185,154 C181.46,221.46 180.1,238.62 185,306 C186.48,326.38 190.01,349.38 192.86,365.82 \" fill=\"none\" id=\"E5&lt;-E7\" style=\"stroke: #383838; stroke-width: 1.0;\"/><polygon fill=\"#383838\" points=\"191.03,90.59,186.3465,96.0731,189.6065,102.5053,194.29,97.0221,191.03,90.59\" style=\"stroke: #383838; stroke-width: 1.0;\"/><text fill=\"#000000\" font-family=\"sans-serif\" font-size=\"13\" lengthAdjust=\"spacingAndGlyphs\" textLength=\"24\" x=\"164.7241\" y=\"355.0502\">0..1</text><!--MD5=[1ccb2481ffa92f8d51a74ee30c51832a]\n",
       "link E8 to E5--><path d=\"M228.17,153.65 C226.85,140.84 223.06,124.37 218.16,109.34 \" fill=\"none\" id=\"E8-&gt;E5\" style=\"stroke: #383838; stroke-width: 1.0;\"/><polygon fill=\"#FFFFFF\" points=\"211.08,90.51,224.3197,105.8302,211.2157,110.758,211.08,90.51\" style=\"stroke: #383838; stroke-width: 1.0;\"/><ellipse cx=\"224.454\" cy=\"111.8694\" fill=\"#383838\" rx=\"2\" ry=\"2\" style=\"stroke: #383838; stroke-width: 1.0;\"/><ellipse cx=\"215.094\" cy=\"115.3893\" fill=\"#383838\" rx=\"2\" ry=\"2\" style=\"stroke: #383838; stroke-width: 1.0;\"/><!--MD5=[827760032d119d06bbc92f75530fd7ae]\n",
       "reverse link E5 to E8--><path d=\"M191.42,103.56 C194.56,120.03 200.21,139.18 206.39,153.65 \" fill=\"none\" id=\"E5&lt;-E8\" style=\"stroke: #383838; stroke-width: 1.0;\"/><polygon fill=\"#383838\" points=\"189.42,90.51,186.3756,97.0469,191.2387,102.3714,194.2832,95.8344,189.42,90.51\" style=\"stroke: #383838; stroke-width: 1.0;\"/><text fill=\"#000000\" font-family=\"sans-serif\" font-size=\"13\" lengthAdjust=\"spacingAndGlyphs\" textLength=\"7\" x=\"194.2368\" y=\"142.8366\">*</text><!--MD5=[cf04703ca05eebef50f1cfe8b03e143b]\n",
       "link E9 to E7--><path d=\"M231.67,306.06 C226.59,318.05 220.15,333.27 214.21,347.33 \" fill=\"none\" id=\"E9-&gt;E7\" style=\"stroke: #383838; stroke-width: 1.0;\"/><polygon fill=\"#FFFFFF\" points=\"206.32,365.98,207.2662,345.7537,220.1625,351.2021,206.32,365.98\" style=\"stroke: #383838; stroke-width: 1.0;\"/><line style=\"stroke: #383838; stroke-width: 2.0;\" x1=\"208.745\" x2=\"221.6413\" y1=\"342.2532\" y2=\"347.7017\"/><!--MD5=[22f5b4bae7e060dce8a1c8021efdb95b]\n",
       "reverse link E8 to E9--><path d=\"M229.05,212.96 C231.74,228.51 234.83,246.33 237.19,259.98 \" fill=\"none\" id=\"E8&lt;-E9\" style=\"stroke: #383838; stroke-width: 1.0;\"/><polygon fill=\"#383838\" points=\"226.82,200.06,223.9001,206.6535,228.8633,211.8848,231.7832,205.2913,226.82,200.06\" style=\"stroke: #383838; stroke-width: 1.0;\"/><!--MD5=[82124054cd60a6aa9406e40d0adce63c]\n",
       "@startuml\r\n",
       "top to bottom direction\r\n",
       "skinparam monochrome true\r\n",
       "skinparam classbackgroundcolor white\r\n",
       "skinparam shadowing false\r\n",
       "skinparam wrapWidth 300\r\n",
       "hide circle\r\n",
       "\r\n",
       "package \"ViewTest\" as E1   {\r\n",
       "package \"P\" as E2   {\r\n",
       "}\r\n",
       "comp def \"VP\" as E3  <<(T,blue)viewpoint def>> {\r\n",
       "}\r\n",
       "comp def \"R\" as E4  <<(T,blue)rendering def>> {\r\n",
       "}\r\n",
       "comp def \"V\" as E5  <<(T,blue)view def>> {\r\n",
       "}\r\n",
       "comp usage \"vp: VP\" as E6  <<(T,blue)viewpoint>> {\r\n",
       "}\r\n",
       "comp usage \"r: R\" as E7  <<(T,blue)rendering>> {\r\n",
       "}\r\n",
       "comp usage \"v: V\" as E8  <<(T,blue)view>> {\r\n",
       "}\r\n",
       "comp usage \"r1: R\" as E9  <<(T,blue)rendering>> {\r\n",
       "}\r\n",
       "E5 *- - E6\r\n",
       "E6 - -:|> E3\r\n",
       "E7 - -:|> E4\r\n",
       "E5 *- - \"0..1\"E7\r\n",
       "E8 - -:|> E5\r\n",
       "E5 *- - \"*\"E8\r\n",
       "E9 - -||> E7\r\n",
       "E8 *- - E9\r\n",
       "}\r\n",
       "@enduml\r\n",
       "\n",
       "PlantUML version 1.2020.13(Sat Jun 13 12:26:38 UTC 2020)\n",
       "(EPL source distribution)\n",
       "Java Runtime: OpenJDK Runtime Environment\n",
       "JVM: OpenJDK 64-Bit Server VM\n",
       "Default Encoding: UTF-8\n",
       "Language: en\n",
       "Country: null\n",
       "--></g></svg>"
      ]
     },
     "execution_count": 50,
     "metadata": {},
     "output_type": "execute_result"
    }
   ],
   "source": [
    "%viz --style=\"TB\" --view=\"MIXED\" \"ViewTest\""
   ]
  },
  {
   "cell_type": "code",
   "execution_count": 51,
   "id": "painful-technician",
   "metadata": {
    "execution": {
     "iopub.execute_input": "2021-03-25T16:08:03.132062Z",
     "iopub.status.busy": "2021-03-25T16:08:03.131529Z",
     "iopub.status.idle": "2021-03-25T16:08:03.232301Z",
     "shell.execute_reply": "2021-03-25T16:08:03.230792Z"
    }
   },
   "outputs": [
    {
     "data": {
      "image/svg+xml": [
       "<?xml version=\"1.0\" encoding=\"UTF-8\" standalone=\"no\"?><svg xmlns=\"http://www.w3.org/2000/svg\" xmlns:xlink=\"http://www.w3.org/1999/xlink\" contentScriptType=\"application/ecmascript\" contentStyleType=\"text/css\" height=\"546px\" preserveAspectRatio=\"none\" style=\"width:318px;height:546px;\" version=\"1.1\" viewBox=\"0 0 318 546\" width=\"318px\" zoomAndPan=\"magnify\"><defs/><g><!--MD5=[fbc87193dbaf4d95561dea2c320d4a47]\n",
       "cluster E1--><polygon fill=\"#FFFFFF\" points=\"16,6,96,6,103,28.2969,296,28.2969,296,534,16,534,16,6\" style=\"stroke: #000000; stroke-width: 1.5;\"/><line style=\"stroke: #000000; stroke-width: 1.5;\" x1=\"16\" x2=\"103\" y1=\"28.2969\" y2=\"28.2969\"/><text fill=\"#000000\" font-family=\"sans-serif\" font-size=\"14\" font-weight=\"bold\" lengthAdjust=\"spacingAndGlyphs\" textLength=\"74\" x=\"20\" y=\"20.9951\">ViewTest</text><!--MD5=[09b614a08d8cba4a07c9adeb5e0fee81]\n",
       "class E3--><rect fill=\"#FFFFFF\" height=\"45.9375\" id=\"E3\" style=\"stroke: #383838; stroke-width: 1.5;\" width=\"98\" x=\"32\" y=\"260\"/><text fill=\"#000000\" font-family=\"sans-serif\" font-size=\"12\" font-style=\"italic\" lengthAdjust=\"spacingAndGlyphs\" textLength=\"96\" x=\"33\" y=\"276.1387\">«viewpoint def»</text><text fill=\"#000000\" font-family=\"sans-serif\" font-size=\"12\" lengthAdjust=\"spacingAndGlyphs\" textLength=\"16\" x=\"73\" y=\"290.1074\">VP</text><line style=\"stroke: #383838; stroke-width: 1.5;\" x1=\"33\" x2=\"129\" y1=\"297.9375\" y2=\"297.9375\"/><!--MD5=[ebbe1d658d1005bcc118a6aa81145e00]\n",
       "class E4--><rect fill=\"#FFFFFF\" height=\"45.9375\" id=\"E4\" style=\"stroke: #383838; stroke-width: 1.5;\" width=\"101\" x=\"146.5\" y=\"472\"/><text fill=\"#000000\" font-family=\"sans-serif\" font-size=\"12\" font-style=\"italic\" lengthAdjust=\"spacingAndGlyphs\" textLength=\"99\" x=\"147.5\" y=\"488.1387\">«rendering def»</text><text fill=\"#000000\" font-family=\"sans-serif\" font-size=\"12\" lengthAdjust=\"spacingAndGlyphs\" textLength=\"8\" x=\"193\" y=\"502.1074\">R</text><line style=\"stroke: #383838; stroke-width: 1.5;\" x1=\"147.5\" x2=\"246.5\" y1=\"509.9375\" y2=\"509.9375\"/><!--MD5=[270fce915f116d4de14055a7c1d9a0f3]\n",
       "class E5--><rect fill=\"#FFFFFF\" height=\"45.9375\" id=\"E5\" style=\"stroke: #383838; stroke-width: 1.5;\" width=\"66\" x=\"161\" y=\"44.5\"/><text fill=\"#000000\" font-family=\"sans-serif\" font-size=\"12\" font-style=\"italic\" lengthAdjust=\"spacingAndGlyphs\" textLength=\"64\" x=\"162\" y=\"60.6387\">«view def»</text><text fill=\"#000000\" font-family=\"sans-serif\" font-size=\"12\" lengthAdjust=\"spacingAndGlyphs\" textLength=\"8\" x=\"190\" y=\"74.6074\">V</text><line style=\"stroke: #383838; stroke-width: 1.5;\" x1=\"162\" x2=\"226\" y1=\"82.4375\" y2=\"82.4375\"/><!--MD5=[60a26617385b1d2d0262a64233df1f8d]\n",
       "class E6--><rect fill=\"#FFFFFF\" height=\"45.9375\" id=\"E6\" rx=\"10\" ry=\"10\" style=\"stroke: #383838; stroke-width: 1.5;\" width=\"74\" x=\"50\" y=\"154\"/><text fill=\"#000000\" font-family=\"sans-serif\" font-size=\"12\" font-style=\"italic\" lengthAdjust=\"spacingAndGlyphs\" textLength=\"72\" x=\"51\" y=\"170.1387\">«viewpoint»</text><text fill=\"#000000\" font-family=\"sans-serif\" font-size=\"12\" lengthAdjust=\"spacingAndGlyphs\" textLength=\"38\" x=\"68\" y=\"184.1074\">vp: VP</text><line style=\"stroke: #383838; stroke-width: 1.5;\" x1=\"51\" x2=\"123\" y1=\"191.9375\" y2=\"191.9375\"/><!--MD5=[2156ba9850f5573cc1fc38a6a4b2f02b]\n",
       "class E7--><rect fill=\"#FFFFFF\" height=\"45.9375\" id=\"E7\" rx=\"10\" ry=\"10\" style=\"stroke: #383838; stroke-width: 1.5;\" width=\"77\" x=\"158.5\" y=\"366\"/><text fill=\"#000000\" font-family=\"sans-serif\" font-size=\"12\" font-style=\"italic\" lengthAdjust=\"spacingAndGlyphs\" textLength=\"75\" x=\"159.5\" y=\"382.1387\">«rendering»</text><text fill=\"#000000\" font-family=\"sans-serif\" font-size=\"12\" lengthAdjust=\"spacingAndGlyphs\" textLength=\"21\" x=\"186.5\" y=\"396.1074\">r: R</text><line style=\"stroke: #383838; stroke-width: 1.5;\" x1=\"159.5\" x2=\"234.5\" y1=\"403.9375\" y2=\"403.9375\"/><!--MD5=[b9389687b975829384b498ac4b7476b2]\n",
       "class E8--><rect fill=\"#FFFFFF\" height=\"45.9375\" id=\"E8\" rx=\"10\" ry=\"10\" style=\"stroke: #383838; stroke-width: 1.5;\" width=\"42\" x=\"202\" y=\"154\"/><text fill=\"#000000\" font-family=\"sans-serif\" font-size=\"12\" font-style=\"italic\" lengthAdjust=\"spacingAndGlyphs\" textLength=\"40\" x=\"203\" y=\"170.1387\">«view»</text><text fill=\"#000000\" font-family=\"sans-serif\" font-size=\"12\" lengthAdjust=\"spacingAndGlyphs\" textLength=\"22\" x=\"212\" y=\"184.1074\">v: V</text><line style=\"stroke: #383838; stroke-width: 1.5;\" x1=\"203\" x2=\"243\" y1=\"191.9375\" y2=\"191.9375\"/><!--MD5=[fd4143e9d270a159db93a4ea2a975926]\n",
       "class E9--><rect fill=\"#FFFFFF\" height=\"45.9375\" id=\"E9\" rx=\"10\" ry=\"10\" style=\"stroke: #383838; stroke-width: 1.5;\" width=\"77\" x=\"202.5\" y=\"260\"/><text fill=\"#000000\" font-family=\"sans-serif\" font-size=\"12\" font-style=\"italic\" lengthAdjust=\"spacingAndGlyphs\" textLength=\"75\" x=\"203.5\" y=\"276.1387\">«rendering»</text><text fill=\"#000000\" font-family=\"sans-serif\" font-size=\"12\" lengthAdjust=\"spacingAndGlyphs\" textLength=\"29\" x=\"226.5\" y=\"290.1074\">r1: R</text><line style=\"stroke: #383838; stroke-width: 1.5;\" x1=\"203.5\" x2=\"278.5\" y1=\"297.9375\" y2=\"297.9375\"/><polygon fill=\"#FFFFFF\" points=\"78,41,94,41,101,63.2969,108,63.2969,108,93.5938,78,93.5938,78,41\" style=\"stroke: #000000; stroke-width: 1.5;\"/><line style=\"stroke: #000000; stroke-width: 1.5;\" x1=\"78\" x2=\"101\" y1=\"63.2969\" y2=\"63.2969\"/><text fill=\"#000000\" font-family=\"sans-serif\" font-size=\"14\" font-weight=\"bold\" lengthAdjust=\"spacingAndGlyphs\" textLength=\"10\" x=\"82\" y=\"55.9951\">P</text><!--MD5=[85d356282659285ab4b2cfe2f634dd2b]\n",
       "reverse link E5 to E6--><path d=\"M147.92,68 C147.92,68 116,68 116,68 C116,68 116,121.89 116,153.88 \" fill=\"none\" id=\"E5&lt;-E6\" style=\"stroke: #383838; stroke-width: 1.0;\"/><polygon fill=\"#383838\" points=\"160.92,68,154.92,64,148.92,68,154.92,72,160.92,68\" style=\"stroke: #383838; stroke-width: 1.0;\"/><!--MD5=[a717450b82c80b9240a525fa862496af]\n",
       "link E6 to E3--><path d=\"M87,200 C87,200 87,239.68 87,239.68 \" fill=\"none\" id=\"E6-&gt;E3\" style=\"stroke: #383838; stroke-width: 1.0;\"/><polygon fill=\"#FFFFFF\" points=\"87,259.68,80,240.68,94,240.68,87,259.68\" style=\"stroke: #383838; stroke-width: 1.0;\"/><ellipse cx=\"82\" cy=\"234.98\" fill=\"#383838\" rx=\"2\" ry=\"2\" style=\"stroke: #383838; stroke-width: 1.0;\"/><ellipse cx=\"92\" cy=\"234.98\" fill=\"#383838\" rx=\"2\" ry=\"2\" style=\"stroke: #383838; stroke-width: 1.0;\"/><!--MD5=[6bdd27f9905911a7e892a3dc65cf6b7c]\n",
       "link E7 to E4--><path d=\"M197,412 C197,412 197,451.68 197,451.68 \" fill=\"none\" id=\"E7-&gt;E4\" style=\"stroke: #383838; stroke-width: 1.0;\"/><polygon fill=\"#FFFFFF\" points=\"197,471.68,190,452.68,204,452.68,197,471.68\" style=\"stroke: #383838; stroke-width: 1.0;\"/><ellipse cx=\"192\" cy=\"446.98\" fill=\"#383838\" rx=\"2\" ry=\"2\" style=\"stroke: #383838; stroke-width: 1.0;\"/><ellipse cx=\"202\" cy=\"446.98\" fill=\"#383838\" rx=\"2\" ry=\"2\" style=\"stroke: #383838; stroke-width: 1.0;\"/><!--MD5=[452b418e7f8a40397a49b8c0a78acc5b]\n",
       "reverse link E5 to E7--><path d=\"M181.5,103.62 C181.5,103.62 181.5,365.66 181.5,365.66 \" fill=\"none\" id=\"E5&lt;-E7\" style=\"stroke: #383838; stroke-width: 1.0;\"/><polygon fill=\"#383838\" points=\"181.5,90.62,177.5,96.62,181.5,102.62,185.5,96.62,181.5,90.62\" style=\"stroke: #383838; stroke-width: 1.0;\"/><text fill=\"#000000\" font-family=\"sans-serif\" font-size=\"13\" lengthAdjust=\"spacingAndGlyphs\" textLength=\"24\" x=\"150.4531\" y=\"354.8492\">0..1</text><!--MD5=[1ccb2481ffa92f8d51a74ee30c51832a]\n",
       "link E8 to E5--><path d=\"M218.67,153.78 C218.67,153.78 218.67,110.69 218.67,110.69 \" fill=\"none\" id=\"E8-&gt;E5\" style=\"stroke: #383838; stroke-width: 1.0;\"/><polygon fill=\"#FFFFFF\" points=\"218.67,90.69,225.67,109.69,211.67,109.69,218.67,90.69\" style=\"stroke: #383838; stroke-width: 1.0;\"/><ellipse cx=\"223.67\" cy=\"115.39\" fill=\"#383838\" rx=\"2\" ry=\"2\" style=\"stroke: #383838; stroke-width: 1.0;\"/><ellipse cx=\"213.67\" cy=\"115.39\" fill=\"#383838\" rx=\"2\" ry=\"2\" style=\"stroke: #383838; stroke-width: 1.0;\"/><!--MD5=[827760032d119d06bbc92f75530fd7ae]\n",
       "reverse link E5 to E8--><path d=\"M210.33,103.72 C210.33,103.72 210.33,153.81 210.33,153.81 \" fill=\"none\" id=\"E5&lt;-E8\" style=\"stroke: #383838; stroke-width: 1.0;\"/><polygon fill=\"#383838\" points=\"210.33,90.72,206.33,96.72,210.33,102.72,214.33,96.72,210.33,90.72\" style=\"stroke: #383838; stroke-width: 1.0;\"/><text fill=\"#000000\" font-family=\"sans-serif\" font-size=\"13\" lengthAdjust=\"spacingAndGlyphs\" textLength=\"7\" x=\"199.1864\" y=\"143.0376\">*</text><!--MD5=[cf04703ca05eebef50f1cfe8b03e143b]\n",
       "link E9 to E7--><path d=\"M219,306 C219,306 219,345.68 219,345.68 \" fill=\"none\" id=\"E9-&gt;E7\" style=\"stroke: #383838; stroke-width: 1.0;\"/><polygon fill=\"#FFFFFF\" points=\"219,365.68,212,346.68,226,346.68,219,365.68\" style=\"stroke: #383838; stroke-width: 1.0;\"/><line style=\"stroke: #383838; stroke-width: 2.0;\" x1=\"212\" x2=\"226\" y1=\"342.88\" y2=\"342.88\"/><!--MD5=[22f5b4bae7e060dce8a1c8021efdb95b]\n",
       "reverse link E8 to E9--><path d=\"M223.25,213 C223.25,213 223.25,259.68 223.25,259.68 \" fill=\"none\" id=\"E8&lt;-E9\" style=\"stroke: #383838; stroke-width: 1.0;\"/><polygon fill=\"#383838\" points=\"223.25,200,219.25,206,223.25,212,227.25,206,223.25,200\" style=\"stroke: #383838; stroke-width: 1.0;\"/><!--MD5=[465c01f26b487a55fc567850e3a3ed75]\n",
       "@startuml\r\n",
       "skinparam linetype ortho\r\n",
       "skinparam monochrome true\r\n",
       "skinparam classbackgroundcolor white\r\n",
       "skinparam shadowing false\r\n",
       "skinparam wrapWidth 300\r\n",
       "hide circle\r\n",
       "\r\n",
       "package \"ViewTest\" as E1   {\r\n",
       "package \"P\" as E2   {\r\n",
       "}\r\n",
       "comp def \"VP\" as E3  <<(T,blue)viewpoint def>> {\r\n",
       "}\r\n",
       "comp def \"R\" as E4  <<(T,blue)rendering def>> {\r\n",
       "}\r\n",
       "comp def \"V\" as E5  <<(T,blue)view def>> {\r\n",
       "}\r\n",
       "comp usage \"vp: VP\" as E6  <<(T,blue)viewpoint>> {\r\n",
       "}\r\n",
       "comp usage \"r: R\" as E7  <<(T,blue)rendering>> {\r\n",
       "}\r\n",
       "comp usage \"v: V\" as E8  <<(T,blue)view>> {\r\n",
       "}\r\n",
       "comp usage \"r1: R\" as E9  <<(T,blue)rendering>> {\r\n",
       "}\r\n",
       "E5 *- - E6\r\n",
       "E6 - -:|> E3\r\n",
       "E7 - -:|> E4\r\n",
       "E5 *- - \"0..1\"E7\r\n",
       "E8 - -:|> E5\r\n",
       "E5 *- - \"*\"E8\r\n",
       "E9 - -||> E7\r\n",
       "E8 *- - E9\r\n",
       "}\r\n",
       "@enduml\r\n",
       "\n",
       "PlantUML version 1.2020.13(Sat Jun 13 12:26:38 UTC 2020)\n",
       "(EPL source distribution)\n",
       "Java Runtime: OpenJDK Runtime Environment\n",
       "JVM: OpenJDK 64-Bit Server VM\n",
       "Default Encoding: UTF-8\n",
       "Language: en\n",
       "Country: null\n",
       "--></g></svg>"
      ]
     },
     "execution_count": 51,
     "metadata": {},
     "output_type": "execute_result"
    }
   ],
   "source": [
    "%viz --style=\"ORTHOLINE\" --view=\"Default\" \"ViewTest\""
   ]
  },
  {
   "cell_type": "code",
   "execution_count": 52,
   "id": "acknowledged-complaint",
   "metadata": {
    "execution": {
     "iopub.execute_input": "2021-03-25T16:08:03.284606Z",
     "iopub.status.busy": "2021-03-25T16:08:03.284066Z",
     "iopub.status.idle": "2021-03-25T16:08:03.388525Z",
     "shell.execute_reply": "2021-03-25T16:08:03.387028Z"
    }
   },
   "outputs": [
    {
     "data": {
      "image/svg+xml": [
       "<?xml version=\"1.0\" encoding=\"UTF-8\" standalone=\"no\"?><svg xmlns=\"http://www.w3.org/2000/svg\" xmlns:xlink=\"http://www.w3.org/1999/xlink\" contentScriptType=\"application/ecmascript\" contentStyleType=\"text/css\" height=\"546px\" preserveAspectRatio=\"none\" style=\"width:318px;height:546px;\" version=\"1.1\" viewBox=\"0 0 318 546\" width=\"318px\" zoomAndPan=\"magnify\"><defs/><g><!--MD5=[fbc87193dbaf4d95561dea2c320d4a47]\n",
       "cluster E1--><polygon fill=\"#FFFFFF\" points=\"16,6,96,6,103,28.2969,296,28.2969,296,534,16,534,16,6\" style=\"stroke: #000000; stroke-width: 1.5;\"/><line style=\"stroke: #000000; stroke-width: 1.5;\" x1=\"16\" x2=\"103\" y1=\"28.2969\" y2=\"28.2969\"/><text fill=\"#000000\" font-family=\"sans-serif\" font-size=\"14\" font-weight=\"bold\" lengthAdjust=\"spacingAndGlyphs\" textLength=\"74\" x=\"20\" y=\"20.9951\">ViewTest</text><!--MD5=[09b614a08d8cba4a07c9adeb5e0fee81]\n",
       "class E3--><rect fill=\"#FFFFFF\" height=\"45.9375\" id=\"E3\" style=\"stroke: #383838; stroke-width: 1.5;\" width=\"98\" x=\"32\" y=\"260\"/><text fill=\"#000000\" font-family=\"sans-serif\" font-size=\"12\" font-style=\"italic\" lengthAdjust=\"spacingAndGlyphs\" textLength=\"96\" x=\"33\" y=\"276.1387\">«viewpoint def»</text><text fill=\"#000000\" font-family=\"sans-serif\" font-size=\"12\" lengthAdjust=\"spacingAndGlyphs\" textLength=\"16\" x=\"73\" y=\"290.1074\">VP</text><line style=\"stroke: #383838; stroke-width: 1.5;\" x1=\"33\" x2=\"129\" y1=\"297.9375\" y2=\"297.9375\"/><!--MD5=[ebbe1d658d1005bcc118a6aa81145e00]\n",
       "class E4--><rect fill=\"#FFFFFF\" height=\"45.9375\" id=\"E4\" style=\"stroke: #383838; stroke-width: 1.5;\" width=\"101\" x=\"146.5\" y=\"472\"/><text fill=\"#000000\" font-family=\"sans-serif\" font-size=\"12\" font-style=\"italic\" lengthAdjust=\"spacingAndGlyphs\" textLength=\"99\" x=\"147.5\" y=\"488.1387\">«rendering def»</text><text fill=\"#000000\" font-family=\"sans-serif\" font-size=\"12\" lengthAdjust=\"spacingAndGlyphs\" textLength=\"8\" x=\"193\" y=\"502.1074\">R</text><line style=\"stroke: #383838; stroke-width: 1.5;\" x1=\"147.5\" x2=\"246.5\" y1=\"509.9375\" y2=\"509.9375\"/><!--MD5=[270fce915f116d4de14055a7c1d9a0f3]\n",
       "class E5--><rect fill=\"#FFFFFF\" height=\"45.9375\" id=\"E5\" style=\"stroke: #383838; stroke-width: 1.5;\" width=\"66\" x=\"161\" y=\"44.5\"/><text fill=\"#000000\" font-family=\"sans-serif\" font-size=\"12\" font-style=\"italic\" lengthAdjust=\"spacingAndGlyphs\" textLength=\"64\" x=\"162\" y=\"60.6387\">«view def»</text><text fill=\"#000000\" font-family=\"sans-serif\" font-size=\"12\" lengthAdjust=\"spacingAndGlyphs\" textLength=\"8\" x=\"190\" y=\"74.6074\">V</text><line style=\"stroke: #383838; stroke-width: 1.5;\" x1=\"162\" x2=\"226\" y1=\"82.4375\" y2=\"82.4375\"/><!--MD5=[60a26617385b1d2d0262a64233df1f8d]\n",
       "class E6--><rect fill=\"#FFFFFF\" height=\"45.9375\" id=\"E6\" rx=\"10\" ry=\"10\" style=\"stroke: #383838; stroke-width: 1.5;\" width=\"74\" x=\"50\" y=\"154\"/><text fill=\"#000000\" font-family=\"sans-serif\" font-size=\"12\" font-style=\"italic\" lengthAdjust=\"spacingAndGlyphs\" textLength=\"72\" x=\"51\" y=\"170.1387\">«viewpoint»</text><text fill=\"#000000\" font-family=\"sans-serif\" font-size=\"12\" lengthAdjust=\"spacingAndGlyphs\" textLength=\"38\" x=\"68\" y=\"184.1074\">vp: VP</text><line style=\"stroke: #383838; stroke-width: 1.5;\" x1=\"51\" x2=\"123\" y1=\"191.9375\" y2=\"191.9375\"/><!--MD5=[2156ba9850f5573cc1fc38a6a4b2f02b]\n",
       "class E7--><rect fill=\"#FFFFFF\" height=\"45.9375\" id=\"E7\" rx=\"10\" ry=\"10\" style=\"stroke: #383838; stroke-width: 1.5;\" width=\"77\" x=\"158.5\" y=\"366\"/><text fill=\"#000000\" font-family=\"sans-serif\" font-size=\"12\" font-style=\"italic\" lengthAdjust=\"spacingAndGlyphs\" textLength=\"75\" x=\"159.5\" y=\"382.1387\">«rendering»</text><text fill=\"#000000\" font-family=\"sans-serif\" font-size=\"12\" lengthAdjust=\"spacingAndGlyphs\" textLength=\"21\" x=\"186.5\" y=\"396.1074\">r: R</text><line style=\"stroke: #383838; stroke-width: 1.5;\" x1=\"159.5\" x2=\"234.5\" y1=\"403.9375\" y2=\"403.9375\"/><!--MD5=[b9389687b975829384b498ac4b7476b2]\n",
       "class E8--><rect fill=\"#FFFFFF\" height=\"45.9375\" id=\"E8\" rx=\"10\" ry=\"10\" style=\"stroke: #383838; stroke-width: 1.5;\" width=\"42\" x=\"202\" y=\"154\"/><text fill=\"#000000\" font-family=\"sans-serif\" font-size=\"12\" font-style=\"italic\" lengthAdjust=\"spacingAndGlyphs\" textLength=\"40\" x=\"203\" y=\"170.1387\">«view»</text><text fill=\"#000000\" font-family=\"sans-serif\" font-size=\"12\" lengthAdjust=\"spacingAndGlyphs\" textLength=\"22\" x=\"212\" y=\"184.1074\">v: V</text><line style=\"stroke: #383838; stroke-width: 1.5;\" x1=\"203\" x2=\"243\" y1=\"191.9375\" y2=\"191.9375\"/><!--MD5=[fd4143e9d270a159db93a4ea2a975926]\n",
       "class E9--><rect fill=\"#FFFFFF\" height=\"45.9375\" id=\"E9\" rx=\"10\" ry=\"10\" style=\"stroke: #383838; stroke-width: 1.5;\" width=\"77\" x=\"202.5\" y=\"260\"/><text fill=\"#000000\" font-family=\"sans-serif\" font-size=\"12\" font-style=\"italic\" lengthAdjust=\"spacingAndGlyphs\" textLength=\"75\" x=\"203.5\" y=\"276.1387\">«rendering»</text><text fill=\"#000000\" font-family=\"sans-serif\" font-size=\"12\" lengthAdjust=\"spacingAndGlyphs\" textLength=\"29\" x=\"226.5\" y=\"290.1074\">r1: R</text><line style=\"stroke: #383838; stroke-width: 1.5;\" x1=\"203.5\" x2=\"278.5\" y1=\"297.9375\" y2=\"297.9375\"/><polygon fill=\"#FFFFFF\" points=\"78,41,94,41,101,63.2969,108,63.2969,108,93.5938,78,93.5938,78,41\" style=\"stroke: #000000; stroke-width: 1.5;\"/><line style=\"stroke: #000000; stroke-width: 1.5;\" x1=\"78\" x2=\"101\" y1=\"63.2969\" y2=\"63.2969\"/><text fill=\"#000000\" font-family=\"sans-serif\" font-size=\"14\" font-weight=\"bold\" lengthAdjust=\"spacingAndGlyphs\" textLength=\"10\" x=\"82\" y=\"55.9951\">P</text><!--MD5=[85d356282659285ab4b2cfe2f634dd2b]\n",
       "reverse link E5 to E6--><path d=\"M147.92,68 C147.92,68 116,68 116,68 C116,68 116,121.89 116,153.88 \" fill=\"none\" id=\"E5&lt;-E6\" style=\"stroke: #383838; stroke-width: 1.0;\"/><polygon fill=\"#383838\" points=\"160.92,68,154.92,64,148.92,68,154.92,72,160.92,68\" style=\"stroke: #383838; stroke-width: 1.0;\"/><!--MD5=[a717450b82c80b9240a525fa862496af]\n",
       "link E6 to E3--><path d=\"M87,200 C87,200 87,239.68 87,239.68 \" fill=\"none\" id=\"E6-&gt;E3\" style=\"stroke: #383838; stroke-width: 1.0;\"/><polygon fill=\"#FFFFFF\" points=\"87,259.68,80,240.68,94,240.68,87,259.68\" style=\"stroke: #383838; stroke-width: 1.0;\"/><ellipse cx=\"82\" cy=\"234.98\" fill=\"#383838\" rx=\"2\" ry=\"2\" style=\"stroke: #383838; stroke-width: 1.0;\"/><ellipse cx=\"92\" cy=\"234.98\" fill=\"#383838\" rx=\"2\" ry=\"2\" style=\"stroke: #383838; stroke-width: 1.0;\"/><!--MD5=[6bdd27f9905911a7e892a3dc65cf6b7c]\n",
       "link E7 to E4--><path d=\"M197,412 C197,412 197,451.68 197,451.68 \" fill=\"none\" id=\"E7-&gt;E4\" style=\"stroke: #383838; stroke-width: 1.0;\"/><polygon fill=\"#FFFFFF\" points=\"197,471.68,190,452.68,204,452.68,197,471.68\" style=\"stroke: #383838; stroke-width: 1.0;\"/><ellipse cx=\"192\" cy=\"446.98\" fill=\"#383838\" rx=\"2\" ry=\"2\" style=\"stroke: #383838; stroke-width: 1.0;\"/><ellipse cx=\"202\" cy=\"446.98\" fill=\"#383838\" rx=\"2\" ry=\"2\" style=\"stroke: #383838; stroke-width: 1.0;\"/><!--MD5=[452b418e7f8a40397a49b8c0a78acc5b]\n",
       "reverse link E5 to E7--><path d=\"M181.5,103.62 C181.5,103.62 181.5,365.66 181.5,365.66 \" fill=\"none\" id=\"E5&lt;-E7\" style=\"stroke: #383838; stroke-width: 1.0;\"/><polygon fill=\"#383838\" points=\"181.5,90.62,177.5,96.62,181.5,102.62,185.5,96.62,181.5,90.62\" style=\"stroke: #383838; stroke-width: 1.0;\"/><text fill=\"#000000\" font-family=\"sans-serif\" font-size=\"13\" lengthAdjust=\"spacingAndGlyphs\" textLength=\"24\" x=\"150.4531\" y=\"354.8492\">0..1</text><!--MD5=[1ccb2481ffa92f8d51a74ee30c51832a]\n",
       "link E8 to E5--><path d=\"M218.67,153.78 C218.67,153.78 218.67,110.69 218.67,110.69 \" fill=\"none\" id=\"E8-&gt;E5\" style=\"stroke: #383838; stroke-width: 1.0;\"/><polygon fill=\"#FFFFFF\" points=\"218.67,90.69,225.67,109.69,211.67,109.69,218.67,90.69\" style=\"stroke: #383838; stroke-width: 1.0;\"/><ellipse cx=\"223.67\" cy=\"115.39\" fill=\"#383838\" rx=\"2\" ry=\"2\" style=\"stroke: #383838; stroke-width: 1.0;\"/><ellipse cx=\"213.67\" cy=\"115.39\" fill=\"#383838\" rx=\"2\" ry=\"2\" style=\"stroke: #383838; stroke-width: 1.0;\"/><!--MD5=[827760032d119d06bbc92f75530fd7ae]\n",
       "reverse link E5 to E8--><path d=\"M210.33,103.72 C210.33,103.72 210.33,153.81 210.33,153.81 \" fill=\"none\" id=\"E5&lt;-E8\" style=\"stroke: #383838; stroke-width: 1.0;\"/><polygon fill=\"#383838\" points=\"210.33,90.72,206.33,96.72,210.33,102.72,214.33,96.72,210.33,90.72\" style=\"stroke: #383838; stroke-width: 1.0;\"/><text fill=\"#000000\" font-family=\"sans-serif\" font-size=\"13\" lengthAdjust=\"spacingAndGlyphs\" textLength=\"7\" x=\"199.1864\" y=\"143.0376\">*</text><!--MD5=[cf04703ca05eebef50f1cfe8b03e143b]\n",
       "link E9 to E7--><path d=\"M219,306 C219,306 219,345.68 219,345.68 \" fill=\"none\" id=\"E9-&gt;E7\" style=\"stroke: #383838; stroke-width: 1.0;\"/><polygon fill=\"#FFFFFF\" points=\"219,365.68,212,346.68,226,346.68,219,365.68\" style=\"stroke: #383838; stroke-width: 1.0;\"/><line style=\"stroke: #383838; stroke-width: 2.0;\" x1=\"212\" x2=\"226\" y1=\"342.88\" y2=\"342.88\"/><!--MD5=[22f5b4bae7e060dce8a1c8021efdb95b]\n",
       "reverse link E8 to E9--><path d=\"M223.25,213 C223.25,213 223.25,259.68 223.25,259.68 \" fill=\"none\" id=\"E8&lt;-E9\" style=\"stroke: #383838; stroke-width: 1.0;\"/><polygon fill=\"#383838\" points=\"223.25,200,219.25,206,223.25,212,227.25,206,223.25,200\" style=\"stroke: #383838; stroke-width: 1.0;\"/><!--MD5=[465c01f26b487a55fc567850e3a3ed75]\n",
       "@startuml\r\n",
       "skinparam linetype ortho\r\n",
       "skinparam monochrome true\r\n",
       "skinparam classbackgroundcolor white\r\n",
       "skinparam shadowing false\r\n",
       "skinparam wrapWidth 300\r\n",
       "hide circle\r\n",
       "\r\n",
       "package \"ViewTest\" as E1   {\r\n",
       "package \"P\" as E2   {\r\n",
       "}\r\n",
       "comp def \"VP\" as E3  <<(T,blue)viewpoint def>> {\r\n",
       "}\r\n",
       "comp def \"R\" as E4  <<(T,blue)rendering def>> {\r\n",
       "}\r\n",
       "comp def \"V\" as E5  <<(T,blue)view def>> {\r\n",
       "}\r\n",
       "comp usage \"vp: VP\" as E6  <<(T,blue)viewpoint>> {\r\n",
       "}\r\n",
       "comp usage \"r: R\" as E7  <<(T,blue)rendering>> {\r\n",
       "}\r\n",
       "comp usage \"v: V\" as E8  <<(T,blue)view>> {\r\n",
       "}\r\n",
       "comp usage \"r1: R\" as E9  <<(T,blue)rendering>> {\r\n",
       "}\r\n",
       "E5 *- - E6\r\n",
       "E6 - -:|> E3\r\n",
       "E7 - -:|> E4\r\n",
       "E5 *- - \"0..1\"E7\r\n",
       "E8 - -:|> E5\r\n",
       "E5 *- - \"*\"E8\r\n",
       "E9 - -||> E7\r\n",
       "E8 *- - E9\r\n",
       "}\r\n",
       "@enduml\r\n",
       "\n",
       "PlantUML version 1.2020.13(Sat Jun 13 12:26:38 UTC 2020)\n",
       "(EPL source distribution)\n",
       "Java Runtime: OpenJDK Runtime Environment\n",
       "JVM: OpenJDK 64-Bit Server VM\n",
       "Default Encoding: UTF-8\n",
       "Language: en\n",
       "Country: null\n",
       "--></g></svg>"
      ]
     },
     "execution_count": 52,
     "metadata": {},
     "output_type": "execute_result"
    }
   ],
   "source": [
    "%viz --style=\"ORTHOLINE\" --view=\"Tree\" \"ViewTest\""
   ]
  },
  {
   "cell_type": "code",
   "execution_count": 53,
   "id": "verbal-press",
   "metadata": {
    "execution": {
     "iopub.execute_input": "2021-03-25T16:08:03.443389Z",
     "iopub.status.busy": "2021-03-25T16:08:03.441849Z",
     "iopub.status.idle": "2021-03-25T16:08:03.444731Z",
     "shell.execute_reply": "2021-03-25T16:08:03.445226Z"
    }
   },
   "outputs": [
    {
     "data": {
      "text/plain": [
       "java.lang.IllegalArgumentException: Invalid View: State View candidates are: Default Tree StateMachine Interconnection Activity Sequence MIXED \n",
       "\tat org.omg.sysml.plantuml.SysML2PlantUMLSvc.setView(SysML2PlantUMLSvc.java:63)\n",
       "\tat org.omg.sysml.interactive.SysMLInteractive.viz(SysMLInteractive.java:286)\n",
       "\tat org.omg.sysml.jupyter.kernel.magic.Viz.viz(Viz.java:47)\n",
       "\tat jdk.internal.reflect.GeneratedMethodAccessor10.invoke(Unknown Source)\n",
       "\tat java.base/jdk.internal.reflect.DelegatingMethodAccessorImpl.invoke(DelegatingMethodAccessorImpl.java:43)\n",
       "\tat java.base/java.lang.reflect.Method.invoke(Method.java:568)\n",
       "\tat io.github.spencerpark.jupyter.kernel.magic.registry.Magics.invoke(Magics.java:89)\n",
       "\tat io.github.spencerpark.jupyter.kernel.magic.registry.Magics.access$000(Magics.java:8)\n",
       "\tat io.github.spencerpark.jupyter.kernel.magic.registry.Magics$LineReflectionMagicFunction.execute(Magics.java:149)\n",
       "\tat io.github.spencerpark.jupyter.kernel.magic.registry.Magics.applyLineMagic(Magics.java:26)\n",
       "\tat org.omg.sysml.jupyter.kernel.SysMLKernel.eval(SysMLKernel.java:76)\n",
       "\tat io.github.spencerpark.jupyter.kernel.BaseKernel.handleExecuteRequest(BaseKernel.java:334)\n",
       "\tat io.github.spencerpark.jupyter.channels.ShellChannel.lambda$bind$0(ShellChannel.java:64)\n",
       "\tat io.github.spencerpark.jupyter.channels.Loop.lambda$new$0(Loop.java:21)\n",
       "\tat io.github.spencerpark.jupyter.channels.Loop.run(Loop.java:78)\n"
      ]
     },
     "execution_count": 53,
     "metadata": {},
     "output_type": "execute_result"
    }
   ],
   "source": [
    "%viz --style=\"ORTHOLINE\" --view=\"State\" \"ViewTest\""
   ]
  },
  {
   "cell_type": "code",
   "execution_count": 54,
   "id": "passing-border",
   "metadata": {
    "execution": {
     "iopub.execute_input": "2021-03-25T16:08:03.496531Z",
     "iopub.status.busy": "2021-03-25T16:08:03.495985Z",
     "iopub.status.idle": "2021-03-25T16:08:03.604875Z",
     "shell.execute_reply": "2021-03-25T16:08:03.603504Z"
    }
   },
   "outputs": [
    {
     "data": {
      "image/svg+xml": [
       "<?xml version=\"1.0\" encoding=\"UTF-8\" standalone=\"no\"?><svg xmlns=\"http://www.w3.org/2000/svg\" xmlns:xlink=\"http://www.w3.org/1999/xlink\" contentScriptType=\"application/ecmascript\" contentStyleType=\"text/css\" height=\"288px\" preserveAspectRatio=\"none\" style=\"width:903px;height:288px;\" version=\"1.1\" viewBox=\"0 0 903 288\" width=\"903px\" zoomAndPan=\"magnify\"><defs/><g><!--MD5=[fbc87193dbaf4d95561dea2c320d4a47]\n",
       "cluster E1--><polygon fill=\"#FFFFFF\" points=\"16,6,96,6,103,28.2969,881,28.2969,881,276,16,276,16,6\" style=\"stroke: #000000; stroke-width: 1.5;\"/><line style=\"stroke: #000000; stroke-width: 1.5;\" x1=\"16\" x2=\"103\" y1=\"28.2969\" y2=\"28.2969\"/><text fill=\"#000000\" font-family=\"sans-serif\" font-size=\"14\" font-weight=\"bold\" lengthAdjust=\"spacingAndGlyphs\" textLength=\"74\" x=\"20\" y=\"20.9951\">ViewTest</text><!--MD5=[de5ec2e2e8f62f467e546659f5068c88]\n",
       "cluster E5--><rect fill=\"#FFFFFF\" height=\"203\" style=\"stroke: #000000; stroke-width: 1.5;\" width=\"476\" x=\"381\" y=\"49\"/><text fill=\"#000000\" font-family=\"sans-serif\" font-size=\"14\" font-style=\"italic\" lengthAdjust=\"spacingAndGlyphs\" textLength=\"74\" x=\"582\" y=\"63.9951\">«view def»</text><text fill=\"#000000\" font-family=\"sans-serif\" font-size=\"14\" font-weight=\"bold\" lengthAdjust=\"spacingAndGlyphs\" textLength=\"11\" x=\"613.5\" y=\"80.292\">V</text><!--MD5=[14e3b0961a2654348d326746436168a1]\n",
       "cluster E6--><rect fill=\"#F8F8F8\" height=\"120\" rx=\"12.5\" ry=\"12.5\" style=\"stroke: #000000; stroke-width: 1.5;\" width=\"142\" x=\"691\" y=\"108\"/><rect fill=\"#FFFFFF\" height=\"87.7031\" rx=\"12.5\" ry=\"12.5\" style=\"stroke: #FFFFFF; stroke-width: 1.0;\" width=\"136\" x=\"694\" y=\"137.2969\"/><line style=\"stroke: #000000; stroke-width: 1.5;\" x1=\"691\" x2=\"833\" y1=\"134.2969\" y2=\"134.2969\"/><text fill=\"#000000\" font-family=\"sans-serif\" font-size=\"14\" lengthAdjust=\"spacingAndGlyphs\" textLength=\"43\" x=\"720.5\" y=\"124.9951\">vp: VP</text><!--MD5=[7f149f147074ac12df2cb0a7728a5fb0]\n",
       "cluster E9--><rect fill=\"#F8F8F8\" height=\"104\" rx=\"12.5\" ry=\"12.5\" style=\"stroke: #000000; stroke-width: 1.5;\" width=\"110\" x=\"557\" y=\"124\"/><rect fill=\"#FFFFFF\" height=\"71.7031\" rx=\"12.5\" ry=\"12.5\" style=\"stroke: #FFFFFF; stroke-width: 1.0;\" width=\"104\" x=\"560\" y=\"153.2969\"/><line style=\"stroke: #000000; stroke-width: 1.5;\" x1=\"557\" x2=\"667\" y1=\"150.2969\" y2=\"150.2969\"/><text fill=\"#000000\" font-family=\"sans-serif\" font-size=\"14\" lengthAdjust=\"spacingAndGlyphs\" textLength=\"25\" x=\"599.5\" y=\"140.9951\">v: V</text><!--MD5=[09b614a08d8cba4a07c9adeb5e0fee81]\n",
       "class E3--><rect fill=\"#FFFFFF\" height=\"53.9375\" id=\"E3\" style=\"stroke: #383838; stroke-width: 1.5;\" width=\"98\" x=\"264\" y=\"158.5\"/><text fill=\"#000000\" font-family=\"sans-serif\" font-size=\"12\" font-style=\"italic\" lengthAdjust=\"spacingAndGlyphs\" textLength=\"96\" x=\"265\" y=\"174.6387\">«viewpoint def»</text><text fill=\"#000000\" font-family=\"sans-serif\" font-size=\"12\" lengthAdjust=\"spacingAndGlyphs\" textLength=\"16\" x=\"305\" y=\"188.6074\">VP</text><line style=\"stroke: #383838; stroke-width: 1.5;\" x1=\"265\" x2=\"361\" y1=\"196.4375\" y2=\"196.4375\"/><line style=\"stroke: #383838; stroke-width: 1.5;\" x1=\"265\" x2=\"361\" y1=\"204.4375\" y2=\"204.4375\"/><polygon fill=\"#FFFFFF\" points=\"199,159,215,159,222,181.2969,229,181.2969,229,211.5938,199,211.5938,199,159\" style=\"stroke: #000000; stroke-width: 1.5;\"/><line style=\"stroke: #000000; stroke-width: 1.5;\" x1=\"199\" x2=\"222\" y1=\"181.2969\" y2=\"181.2969\"/><text fill=\"#000000\" font-family=\"sans-serif\" font-size=\"14\" font-weight=\"bold\" lengthAdjust=\"spacingAndGlyphs\" textLength=\"10\" x=\"203\" y=\"173.9951\">P</text><!--MD5=[961cefdc15414eaa3e87aec9d17c2188]\n",
       "entity E4--><rect fill=\"#FFFFFF\" height=\"52.5938\" style=\"stroke: #000000; stroke-width: 1.5;\" width=\"131\" x=\"32.5\" y=\"159\"/><text fill=\"#000000\" font-family=\"sans-serif\" font-size=\"14\" font-style=\"italic\" lengthAdjust=\"spacingAndGlyphs\" textLength=\"111\" x=\"42.5\" y=\"181.9951\">«rendering def»</text><text fill=\"#000000\" font-family=\"sans-serif\" font-size=\"14\" lengthAdjust=\"spacingAndGlyphs\" textLength=\"10\" x=\"93\" y=\"198.292\">R</text><g id=\"E1.E5.E6.E7\"><rect fill=\"#FFFFFF\" height=\"52.5938\" rx=\"12.5\" ry=\"12.5\" style=\"stroke: #383838; stroke-width: 1.5;\" width=\"110\" x=\"707\" y=\"159\"/><line style=\"stroke: #383838; stroke-width: 1.5;\" x1=\"707\" x2=\"817\" y1=\"201.5938\" y2=\"201.5938\"/><text fill=\"#000000\" font-family=\"sans-serif\" font-size=\"14\" lengthAdjust=\"spacingAndGlyphs\" textLength=\"70\" x=\"727\" y=\"176.9951\">subj: View</text><text fill=\"#000000\" font-family=\"sans-serif\" font-size=\"14\" font-style=\"italic\" lengthAdjust=\"spacingAndGlyphs\" textLength=\"86\" x=\"717\" y=\"193.292\">:&gt;&gt;VP::subj</text><text fill=\"#000000\" font-family=\"sans-serif\" font-size=\"14\" lengthAdjust=\"spacingAndGlyphs\" textLength=\"0\" x=\"807\" y=\"193.292\"/></g><g id=\"E1.E5.E8\"><rect fill=\"#FFFFFF\" height=\"52.5938\" rx=\"12.5\" ry=\"12.5\" style=\"stroke: #383838; stroke-width: 1.5;\" width=\"141\" x=\"397.5\" y=\"159\"/><line style=\"stroke: #383838; stroke-width: 1.5;\" x1=\"397.5\" x2=\"538.5\" y1=\"201.5938\" y2=\"201.5938\"/><text fill=\"#000000\" font-family=\"sans-serif\" font-size=\"14\" lengthAdjust=\"spacingAndGlyphs\" textLength=\"24\" x=\"456\" y=\"176.9951\">r: R</text><text fill=\"#000000\" font-family=\"sans-serif\" font-size=\"14\" font-style=\"italic\" lengthAdjust=\"spacingAndGlyphs\" textLength=\"117\" x=\"407.5\" y=\"193.292\">:&gt;&gt;View::render</text><text fill=\"#000000\" font-family=\"sans-serif\" font-size=\"14\" lengthAdjust=\"spacingAndGlyphs\" textLength=\"0\" x=\"528.5\" y=\"193.292\"/></g><g id=\"E1.E5.E9.E10\"><rect fill=\"#FFFFFF\" height=\"52.5938\" rx=\"12.5\" ry=\"12.5\" style=\"stroke: #383838; stroke-width: 1.5;\" width=\"77\" x=\"573.5\" y=\"159\"/><line style=\"stroke: #383838; stroke-width: 1.5;\" x1=\"573.5\" x2=\"650.5\" y1=\"201.5938\" y2=\"201.5938\"/><text fill=\"#000000\" font-family=\"sans-serif\" font-size=\"14\" lengthAdjust=\"spacingAndGlyphs\" textLength=\"33\" x=\"595.5\" y=\"176.9951\">r1: R</text><text fill=\"#000000\" font-family=\"sans-serif\" font-size=\"14\" font-style=\"italic\" lengthAdjust=\"spacingAndGlyphs\" textLength=\"53\" x=\"583.5\" y=\"193.292\">:&gt;&gt;V::r</text><text fill=\"#000000\" font-family=\"sans-serif\" font-size=\"14\" lengthAdjust=\"spacingAndGlyphs\" textLength=\"0\" x=\"640.5\" y=\"193.292\"/></g><!--MD5=[2e7be939c63d09f892901dec940fb5ce]\n",
       "@startuml\r\n",
       "skinparam ranksep 8\r\n",
       "skinparam rectangle {\r\n",
       " backgroundColor<<block>> LightGreen\r\n",
       "}\r\n",
       "skinparam linetype ortho\r\n",
       "skinparam monochrome true\r\n",
       "skinparam classbackgroundcolor white\r\n",
       "skinparam shadowing false\r\n",
       "skinparam wrapWidth 300\r\n",
       "hide circle\r\n",
       "\r\n",
       "package \"ViewTest\" as E1   {\r\n",
       "package \"P\" as E2   {\r\n",
       "}\r\n",
       "def \"VP\" as E3  <<viewpoint def>> \r\n",
       "rec def \"R\" as E4  <<rendering def>> {\r\n",
       "}\r\n",
       "rec def \"V\" as E5  <<view def>> {\r\n",
       "rec usage \"vp: VP\" as E6  <<viewpoint>> {\r\n",
       "rec usage \"subj: View\\n//:>>VP::subj// \" as E7  <<reference>> {\r\n",
       "}\r\n",
       "}\r\n",
       "rec usage \"r: R\\n//:>>View::render// \" as E8  {\r\n",
       "}\r\n",
       "rec usage \"v: V\" as E9  {\r\n",
       "rec usage \"r1: R\\n//:>>V::r// \" as E10  {\r\n",
       "}\r\n",
       "}\r\n",
       "}\r\n",
       "}\r\n",
       "@enduml\r\n",
       "\n",
       "PlantUML version 1.2020.13(Sat Jun 13 12:26:38 UTC 2020)\n",
       "(EPL source distribution)\n",
       "Java Runtime: OpenJDK Runtime Environment\n",
       "JVM: OpenJDK 64-Bit Server VM\n",
       "Default Encoding: UTF-8\n",
       "Language: en\n",
       "Country: null\n",
       "--></g></svg>"
      ]
     },
     "execution_count": 54,
     "metadata": {},
     "output_type": "execute_result"
    }
   ],
   "source": [
    "%viz --style=\"ORTHOLINE\" --view=\"Interconnection\" \"ViewTest\""
   ]
  },
  {
   "cell_type": "code",
   "execution_count": 55,
   "id": "indirect-progressive",
   "metadata": {
    "execution": {
     "iopub.execute_input": "2021-03-25T16:08:03.655090Z",
     "iopub.status.busy": "2021-03-25T16:08:03.654584Z",
     "iopub.status.idle": "2021-03-25T16:08:03.656271Z",
     "shell.execute_reply": "2021-03-25T16:08:03.656651Z"
    }
   },
   "outputs": [
    {
     "data": {
      "text/plain": [
       "java.lang.IllegalArgumentException: Invalid View: Action View candidates are: Default Tree StateMachine Interconnection Activity Sequence MIXED \n",
       "\tat org.omg.sysml.plantuml.SysML2PlantUMLSvc.setView(SysML2PlantUMLSvc.java:63)\n",
       "\tat org.omg.sysml.interactive.SysMLInteractive.viz(SysMLInteractive.java:286)\n",
       "\tat org.omg.sysml.jupyter.kernel.magic.Viz.viz(Viz.java:47)\n",
       "\tat jdk.internal.reflect.GeneratedMethodAccessor10.invoke(Unknown Source)\n",
       "\tat java.base/jdk.internal.reflect.DelegatingMethodAccessorImpl.invoke(DelegatingMethodAccessorImpl.java:43)\n",
       "\tat java.base/java.lang.reflect.Method.invoke(Method.java:568)\n",
       "\tat io.github.spencerpark.jupyter.kernel.magic.registry.Magics.invoke(Magics.java:89)\n",
       "\tat io.github.spencerpark.jupyter.kernel.magic.registry.Magics.access$000(Magics.java:8)\n",
       "\tat io.github.spencerpark.jupyter.kernel.magic.registry.Magics$LineReflectionMagicFunction.execute(Magics.java:149)\n",
       "\tat io.github.spencerpark.jupyter.kernel.magic.registry.Magics.applyLineMagic(Magics.java:26)\n",
       "\tat org.omg.sysml.jupyter.kernel.SysMLKernel.eval(SysMLKernel.java:76)\n",
       "\tat io.github.spencerpark.jupyter.kernel.BaseKernel.handleExecuteRequest(BaseKernel.java:334)\n",
       "\tat io.github.spencerpark.jupyter.channels.ShellChannel.lambda$bind$0(ShellChannel.java:64)\n",
       "\tat io.github.spencerpark.jupyter.channels.Loop.lambda$new$0(Loop.java:21)\n",
       "\tat io.github.spencerpark.jupyter.channels.Loop.run(Loop.java:78)\n"
      ]
     },
     "execution_count": 55,
     "metadata": {},
     "output_type": "execute_result"
    }
   ],
   "source": [
    "%viz --style=\"ORTHOLINE\" --view=\"Action\" \"ViewTest\""
   ]
  },
  {
   "cell_type": "code",
   "execution_count": 56,
   "id": "adjacent-laser",
   "metadata": {
    "execution": {
     "iopub.execute_input": "2021-03-25T16:08:03.707889Z",
     "iopub.status.busy": "2021-03-25T16:08:03.707458Z",
     "iopub.status.idle": "2021-03-25T16:08:03.803066Z",
     "shell.execute_reply": "2021-03-25T16:08:03.801475Z"
    }
   },
   "outputs": [
    {
     "data": {
      "image/svg+xml": [
       "<?xml version=\"1.0\" encoding=\"UTF-8\" standalone=\"no\"?><svg xmlns=\"http://www.w3.org/2000/svg\" xmlns:xlink=\"http://www.w3.org/1999/xlink\" contentScriptType=\"application/ecmascript\" contentStyleType=\"text/css\" height=\"546px\" preserveAspectRatio=\"none\" style=\"width:318px;height:546px;\" version=\"1.1\" viewBox=\"0 0 318 546\" width=\"318px\" zoomAndPan=\"magnify\"><defs/><g><!--MD5=[fbc87193dbaf4d95561dea2c320d4a47]\n",
       "cluster E1--><polygon fill=\"#FFFFFF\" points=\"16,6,96,6,103,28.2969,296,28.2969,296,534,16,534,16,6\" style=\"stroke: #000000; stroke-width: 1.5;\"/><line style=\"stroke: #000000; stroke-width: 1.5;\" x1=\"16\" x2=\"103\" y1=\"28.2969\" y2=\"28.2969\"/><text fill=\"#000000\" font-family=\"sans-serif\" font-size=\"14\" font-weight=\"bold\" lengthAdjust=\"spacingAndGlyphs\" textLength=\"74\" x=\"20\" y=\"20.9951\">ViewTest</text><!--MD5=[09b614a08d8cba4a07c9adeb5e0fee81]\n",
       "class E3--><rect fill=\"#FFFFFF\" height=\"45.9375\" id=\"E3\" style=\"stroke: #383838; stroke-width: 1.5;\" width=\"98\" x=\"32\" y=\"260\"/><text fill=\"#000000\" font-family=\"sans-serif\" font-size=\"12\" font-style=\"italic\" lengthAdjust=\"spacingAndGlyphs\" textLength=\"96\" x=\"33\" y=\"276.1387\">«viewpoint def»</text><text fill=\"#000000\" font-family=\"sans-serif\" font-size=\"12\" lengthAdjust=\"spacingAndGlyphs\" textLength=\"16\" x=\"73\" y=\"290.1074\">VP</text><line style=\"stroke: #383838; stroke-width: 1.5;\" x1=\"33\" x2=\"129\" y1=\"297.9375\" y2=\"297.9375\"/><!--MD5=[ebbe1d658d1005bcc118a6aa81145e00]\n",
       "class E4--><rect fill=\"#FFFFFF\" height=\"45.9375\" id=\"E4\" style=\"stroke: #383838; stroke-width: 1.5;\" width=\"101\" x=\"146.5\" y=\"472\"/><text fill=\"#000000\" font-family=\"sans-serif\" font-size=\"12\" font-style=\"italic\" lengthAdjust=\"spacingAndGlyphs\" textLength=\"99\" x=\"147.5\" y=\"488.1387\">«rendering def»</text><text fill=\"#000000\" font-family=\"sans-serif\" font-size=\"12\" lengthAdjust=\"spacingAndGlyphs\" textLength=\"8\" x=\"193\" y=\"502.1074\">R</text><line style=\"stroke: #383838; stroke-width: 1.5;\" x1=\"147.5\" x2=\"246.5\" y1=\"509.9375\" y2=\"509.9375\"/><!--MD5=[270fce915f116d4de14055a7c1d9a0f3]\n",
       "class E5--><rect fill=\"#FFFFFF\" height=\"45.9375\" id=\"E5\" style=\"stroke: #383838; stroke-width: 1.5;\" width=\"66\" x=\"161\" y=\"44.5\"/><text fill=\"#000000\" font-family=\"sans-serif\" font-size=\"12\" font-style=\"italic\" lengthAdjust=\"spacingAndGlyphs\" textLength=\"64\" x=\"162\" y=\"60.6387\">«view def»</text><text fill=\"#000000\" font-family=\"sans-serif\" font-size=\"12\" lengthAdjust=\"spacingAndGlyphs\" textLength=\"8\" x=\"190\" y=\"74.6074\">V</text><line style=\"stroke: #383838; stroke-width: 1.5;\" x1=\"162\" x2=\"226\" y1=\"82.4375\" y2=\"82.4375\"/><!--MD5=[60a26617385b1d2d0262a64233df1f8d]\n",
       "class E6--><rect fill=\"#FFFFFF\" height=\"45.9375\" id=\"E6\" rx=\"10\" ry=\"10\" style=\"stroke: #383838; stroke-width: 1.5;\" width=\"74\" x=\"50\" y=\"154\"/><text fill=\"#000000\" font-family=\"sans-serif\" font-size=\"12\" font-style=\"italic\" lengthAdjust=\"spacingAndGlyphs\" textLength=\"72\" x=\"51\" y=\"170.1387\">«viewpoint»</text><text fill=\"#000000\" font-family=\"sans-serif\" font-size=\"12\" lengthAdjust=\"spacingAndGlyphs\" textLength=\"38\" x=\"68\" y=\"184.1074\">vp: VP</text><line style=\"stroke: #383838; stroke-width: 1.5;\" x1=\"51\" x2=\"123\" y1=\"191.9375\" y2=\"191.9375\"/><!--MD5=[2156ba9850f5573cc1fc38a6a4b2f02b]\n",
       "class E7--><rect fill=\"#FFFFFF\" height=\"45.9375\" id=\"E7\" rx=\"10\" ry=\"10\" style=\"stroke: #383838; stroke-width: 1.5;\" width=\"77\" x=\"158.5\" y=\"366\"/><text fill=\"#000000\" font-family=\"sans-serif\" font-size=\"12\" font-style=\"italic\" lengthAdjust=\"spacingAndGlyphs\" textLength=\"75\" x=\"159.5\" y=\"382.1387\">«rendering»</text><text fill=\"#000000\" font-family=\"sans-serif\" font-size=\"12\" lengthAdjust=\"spacingAndGlyphs\" textLength=\"21\" x=\"186.5\" y=\"396.1074\">r: R</text><line style=\"stroke: #383838; stroke-width: 1.5;\" x1=\"159.5\" x2=\"234.5\" y1=\"403.9375\" y2=\"403.9375\"/><!--MD5=[b9389687b975829384b498ac4b7476b2]\n",
       "class E8--><rect fill=\"#FFFFFF\" height=\"45.9375\" id=\"E8\" rx=\"10\" ry=\"10\" style=\"stroke: #383838; stroke-width: 1.5;\" width=\"42\" x=\"202\" y=\"154\"/><text fill=\"#000000\" font-family=\"sans-serif\" font-size=\"12\" font-style=\"italic\" lengthAdjust=\"spacingAndGlyphs\" textLength=\"40\" x=\"203\" y=\"170.1387\">«view»</text><text fill=\"#000000\" font-family=\"sans-serif\" font-size=\"12\" lengthAdjust=\"spacingAndGlyphs\" textLength=\"22\" x=\"212\" y=\"184.1074\">v: V</text><line style=\"stroke: #383838; stroke-width: 1.5;\" x1=\"203\" x2=\"243\" y1=\"191.9375\" y2=\"191.9375\"/><!--MD5=[fd4143e9d270a159db93a4ea2a975926]\n",
       "class E9--><rect fill=\"#FFFFFF\" height=\"45.9375\" id=\"E9\" rx=\"10\" ry=\"10\" style=\"stroke: #383838; stroke-width: 1.5;\" width=\"77\" x=\"202.5\" y=\"260\"/><text fill=\"#000000\" font-family=\"sans-serif\" font-size=\"12\" font-style=\"italic\" lengthAdjust=\"spacingAndGlyphs\" textLength=\"75\" x=\"203.5\" y=\"276.1387\">«rendering»</text><text fill=\"#000000\" font-family=\"sans-serif\" font-size=\"12\" lengthAdjust=\"spacingAndGlyphs\" textLength=\"29\" x=\"226.5\" y=\"290.1074\">r1: R</text><line style=\"stroke: #383838; stroke-width: 1.5;\" x1=\"203.5\" x2=\"278.5\" y1=\"297.9375\" y2=\"297.9375\"/><polygon fill=\"#FFFFFF\" points=\"78,41,94,41,101,63.2969,108,63.2969,108,93.5938,78,93.5938,78,41\" style=\"stroke: #000000; stroke-width: 1.5;\"/><line style=\"stroke: #000000; stroke-width: 1.5;\" x1=\"78\" x2=\"101\" y1=\"63.2969\" y2=\"63.2969\"/><text fill=\"#000000\" font-family=\"sans-serif\" font-size=\"14\" font-weight=\"bold\" lengthAdjust=\"spacingAndGlyphs\" textLength=\"10\" x=\"82\" y=\"55.9951\">P</text><!--MD5=[85d356282659285ab4b2cfe2f634dd2b]\n",
       "reverse link E5 to E6--><path d=\"M147.92,68 C147.92,68 116,68 116,68 C116,68 116,121.89 116,153.88 \" fill=\"none\" id=\"E5&lt;-E6\" style=\"stroke: #383838; stroke-width: 1.0;\"/><polygon fill=\"#383838\" points=\"160.92,68,154.92,64,148.92,68,154.92,72,160.92,68\" style=\"stroke: #383838; stroke-width: 1.0;\"/><!--MD5=[a717450b82c80b9240a525fa862496af]\n",
       "link E6 to E3--><path d=\"M87,200 C87,200 87,239.68 87,239.68 \" fill=\"none\" id=\"E6-&gt;E3\" style=\"stroke: #383838; stroke-width: 1.0;\"/><polygon fill=\"#FFFFFF\" points=\"87,259.68,80,240.68,94,240.68,87,259.68\" style=\"stroke: #383838; stroke-width: 1.0;\"/><ellipse cx=\"82\" cy=\"234.98\" fill=\"#383838\" rx=\"2\" ry=\"2\" style=\"stroke: #383838; stroke-width: 1.0;\"/><ellipse cx=\"92\" cy=\"234.98\" fill=\"#383838\" rx=\"2\" ry=\"2\" style=\"stroke: #383838; stroke-width: 1.0;\"/><!--MD5=[6bdd27f9905911a7e892a3dc65cf6b7c]\n",
       "link E7 to E4--><path d=\"M197,412 C197,412 197,451.68 197,451.68 \" fill=\"none\" id=\"E7-&gt;E4\" style=\"stroke: #383838; stroke-width: 1.0;\"/><polygon fill=\"#FFFFFF\" points=\"197,471.68,190,452.68,204,452.68,197,471.68\" style=\"stroke: #383838; stroke-width: 1.0;\"/><ellipse cx=\"192\" cy=\"446.98\" fill=\"#383838\" rx=\"2\" ry=\"2\" style=\"stroke: #383838; stroke-width: 1.0;\"/><ellipse cx=\"202\" cy=\"446.98\" fill=\"#383838\" rx=\"2\" ry=\"2\" style=\"stroke: #383838; stroke-width: 1.0;\"/><!--MD5=[452b418e7f8a40397a49b8c0a78acc5b]\n",
       "reverse link E5 to E7--><path d=\"M181.5,103.62 C181.5,103.62 181.5,365.66 181.5,365.66 \" fill=\"none\" id=\"E5&lt;-E7\" style=\"stroke: #383838; stroke-width: 1.0;\"/><polygon fill=\"#383838\" points=\"181.5,90.62,177.5,96.62,181.5,102.62,185.5,96.62,181.5,90.62\" style=\"stroke: #383838; stroke-width: 1.0;\"/><text fill=\"#000000\" font-family=\"sans-serif\" font-size=\"13\" lengthAdjust=\"spacingAndGlyphs\" textLength=\"24\" x=\"150.4531\" y=\"354.8492\">0..1</text><!--MD5=[1ccb2481ffa92f8d51a74ee30c51832a]\n",
       "link E8 to E5--><path d=\"M218.67,153.78 C218.67,153.78 218.67,110.69 218.67,110.69 \" fill=\"none\" id=\"E8-&gt;E5\" style=\"stroke: #383838; stroke-width: 1.0;\"/><polygon fill=\"#FFFFFF\" points=\"218.67,90.69,225.67,109.69,211.67,109.69,218.67,90.69\" style=\"stroke: #383838; stroke-width: 1.0;\"/><ellipse cx=\"223.67\" cy=\"115.39\" fill=\"#383838\" rx=\"2\" ry=\"2\" style=\"stroke: #383838; stroke-width: 1.0;\"/><ellipse cx=\"213.67\" cy=\"115.39\" fill=\"#383838\" rx=\"2\" ry=\"2\" style=\"stroke: #383838; stroke-width: 1.0;\"/><!--MD5=[827760032d119d06bbc92f75530fd7ae]\n",
       "reverse link E5 to E8--><path d=\"M210.33,103.72 C210.33,103.72 210.33,153.81 210.33,153.81 \" fill=\"none\" id=\"E5&lt;-E8\" style=\"stroke: #383838; stroke-width: 1.0;\"/><polygon fill=\"#383838\" points=\"210.33,90.72,206.33,96.72,210.33,102.72,214.33,96.72,210.33,90.72\" style=\"stroke: #383838; stroke-width: 1.0;\"/><text fill=\"#000000\" font-family=\"sans-serif\" font-size=\"13\" lengthAdjust=\"spacingAndGlyphs\" textLength=\"7\" x=\"199.1864\" y=\"143.0376\">*</text><!--MD5=[cf04703ca05eebef50f1cfe8b03e143b]\n",
       "link E9 to E7--><path d=\"M219,306 C219,306 219,345.68 219,345.68 \" fill=\"none\" id=\"E9-&gt;E7\" style=\"stroke: #383838; stroke-width: 1.0;\"/><polygon fill=\"#FFFFFF\" points=\"219,365.68,212,346.68,226,346.68,219,365.68\" style=\"stroke: #383838; stroke-width: 1.0;\"/><line style=\"stroke: #383838; stroke-width: 2.0;\" x1=\"212\" x2=\"226\" y1=\"342.88\" y2=\"342.88\"/><!--MD5=[22f5b4bae7e060dce8a1c8021efdb95b]\n",
       "reverse link E8 to E9--><path d=\"M223.25,213 C223.25,213 223.25,259.68 223.25,259.68 \" fill=\"none\" id=\"E8&lt;-E9\" style=\"stroke: #383838; stroke-width: 1.0;\"/><polygon fill=\"#383838\" points=\"223.25,200,219.25,206,223.25,212,227.25,206,223.25,200\" style=\"stroke: #383838; stroke-width: 1.0;\"/><!--MD5=[465c01f26b487a55fc567850e3a3ed75]\n",
       "@startuml\r\n",
       "skinparam linetype ortho\r\n",
       "skinparam monochrome true\r\n",
       "skinparam classbackgroundcolor white\r\n",
       "skinparam shadowing false\r\n",
       "skinparam wrapWidth 300\r\n",
       "hide circle\r\n",
       "\r\n",
       "package \"ViewTest\" as E1   {\r\n",
       "package \"P\" as E2   {\r\n",
       "}\r\n",
       "comp def \"VP\" as E3  <<(T,blue)viewpoint def>> {\r\n",
       "}\r\n",
       "comp def \"R\" as E4  <<(T,blue)rendering def>> {\r\n",
       "}\r\n",
       "comp def \"V\" as E5  <<(T,blue)view def>> {\r\n",
       "}\r\n",
       "comp usage \"vp: VP\" as E6  <<(T,blue)viewpoint>> {\r\n",
       "}\r\n",
       "comp usage \"r: R\" as E7  <<(T,blue)rendering>> {\r\n",
       "}\r\n",
       "comp usage \"v: V\" as E8  <<(T,blue)view>> {\r\n",
       "}\r\n",
       "comp usage \"r1: R\" as E9  <<(T,blue)rendering>> {\r\n",
       "}\r\n",
       "E5 *- - E6\r\n",
       "E6 - -:|> E3\r\n",
       "E7 - -:|> E4\r\n",
       "E5 *- - \"0..1\"E7\r\n",
       "E8 - -:|> E5\r\n",
       "E5 *- - \"*\"E8\r\n",
       "E9 - -||> E7\r\n",
       "E8 *- - E9\r\n",
       "}\r\n",
       "@enduml\r\n",
       "\n",
       "PlantUML version 1.2020.13(Sat Jun 13 12:26:38 UTC 2020)\n",
       "(EPL source distribution)\n",
       "Java Runtime: OpenJDK Runtime Environment\n",
       "JVM: OpenJDK 64-Bit Server VM\n",
       "Default Encoding: UTF-8\n",
       "Language: en\n",
       "Country: null\n",
       "--></g></svg>"
      ]
     },
     "execution_count": 56,
     "metadata": {},
     "output_type": "execute_result"
    }
   ],
   "source": [
    "%viz --style=\"ORTHOLINE\" --view=\"Sequence\" \"ViewTest\""
   ]
  },
  {
   "cell_type": "code",
   "execution_count": 57,
   "id": "worldwide-repository",
   "metadata": {
    "execution": {
     "iopub.execute_input": "2021-03-25T16:08:03.853340Z",
     "iopub.status.busy": "2021-03-25T16:08:03.852806Z",
     "iopub.status.idle": "2021-03-25T16:08:03.947601Z",
     "shell.execute_reply": "2021-03-25T16:08:03.946092Z"
    }
   },
   "outputs": [
    {
     "data": {
      "image/svg+xml": [
       "<?xml version=\"1.0\" encoding=\"UTF-8\" standalone=\"no\"?><svg xmlns=\"http://www.w3.org/2000/svg\" xmlns:xlink=\"http://www.w3.org/1999/xlink\" contentScriptType=\"application/ecmascript\" contentStyleType=\"text/css\" height=\"546px\" preserveAspectRatio=\"none\" style=\"width:318px;height:546px;\" version=\"1.1\" viewBox=\"0 0 318 546\" width=\"318px\" zoomAndPan=\"magnify\"><defs/><g><!--MD5=[fbc87193dbaf4d95561dea2c320d4a47]\n",
       "cluster E1--><polygon fill=\"#FFFFFF\" points=\"16,6,96,6,103,28.2969,296,28.2969,296,534,16,534,16,6\" style=\"stroke: #000000; stroke-width: 1.5;\"/><line style=\"stroke: #000000; stroke-width: 1.5;\" x1=\"16\" x2=\"103\" y1=\"28.2969\" y2=\"28.2969\"/><text fill=\"#000000\" font-family=\"sans-serif\" font-size=\"14\" font-weight=\"bold\" lengthAdjust=\"spacingAndGlyphs\" textLength=\"74\" x=\"20\" y=\"20.9951\">ViewTest</text><!--MD5=[09b614a08d8cba4a07c9adeb5e0fee81]\n",
       "class E3--><rect fill=\"#FFFFFF\" height=\"45.9375\" id=\"E3\" style=\"stroke: #383838; stroke-width: 1.5;\" width=\"98\" x=\"32\" y=\"260\"/><text fill=\"#000000\" font-family=\"sans-serif\" font-size=\"12\" font-style=\"italic\" lengthAdjust=\"spacingAndGlyphs\" textLength=\"96\" x=\"33\" y=\"276.1387\">«viewpoint def»</text><text fill=\"#000000\" font-family=\"sans-serif\" font-size=\"12\" lengthAdjust=\"spacingAndGlyphs\" textLength=\"16\" x=\"73\" y=\"290.1074\">VP</text><line style=\"stroke: #383838; stroke-width: 1.5;\" x1=\"33\" x2=\"129\" y1=\"297.9375\" y2=\"297.9375\"/><!--MD5=[ebbe1d658d1005bcc118a6aa81145e00]\n",
       "class E4--><rect fill=\"#FFFFFF\" height=\"45.9375\" id=\"E4\" style=\"stroke: #383838; stroke-width: 1.5;\" width=\"101\" x=\"146.5\" y=\"472\"/><text fill=\"#000000\" font-family=\"sans-serif\" font-size=\"12\" font-style=\"italic\" lengthAdjust=\"spacingAndGlyphs\" textLength=\"99\" x=\"147.5\" y=\"488.1387\">«rendering def»</text><text fill=\"#000000\" font-family=\"sans-serif\" font-size=\"12\" lengthAdjust=\"spacingAndGlyphs\" textLength=\"8\" x=\"193\" y=\"502.1074\">R</text><line style=\"stroke: #383838; stroke-width: 1.5;\" x1=\"147.5\" x2=\"246.5\" y1=\"509.9375\" y2=\"509.9375\"/><!--MD5=[270fce915f116d4de14055a7c1d9a0f3]\n",
       "class E5--><rect fill=\"#FFFFFF\" height=\"45.9375\" id=\"E5\" style=\"stroke: #383838; stroke-width: 1.5;\" width=\"66\" x=\"161\" y=\"44.5\"/><text fill=\"#000000\" font-family=\"sans-serif\" font-size=\"12\" font-style=\"italic\" lengthAdjust=\"spacingAndGlyphs\" textLength=\"64\" x=\"162\" y=\"60.6387\">«view def»</text><text fill=\"#000000\" font-family=\"sans-serif\" font-size=\"12\" lengthAdjust=\"spacingAndGlyphs\" textLength=\"8\" x=\"190\" y=\"74.6074\">V</text><line style=\"stroke: #383838; stroke-width: 1.5;\" x1=\"162\" x2=\"226\" y1=\"82.4375\" y2=\"82.4375\"/><!--MD5=[60a26617385b1d2d0262a64233df1f8d]\n",
       "class E6--><rect fill=\"#FFFFFF\" height=\"45.9375\" id=\"E6\" rx=\"10\" ry=\"10\" style=\"stroke: #383838; stroke-width: 1.5;\" width=\"74\" x=\"50\" y=\"154\"/><text fill=\"#000000\" font-family=\"sans-serif\" font-size=\"12\" font-style=\"italic\" lengthAdjust=\"spacingAndGlyphs\" textLength=\"72\" x=\"51\" y=\"170.1387\">«viewpoint»</text><text fill=\"#000000\" font-family=\"sans-serif\" font-size=\"12\" lengthAdjust=\"spacingAndGlyphs\" textLength=\"38\" x=\"68\" y=\"184.1074\">vp: VP</text><line style=\"stroke: #383838; stroke-width: 1.5;\" x1=\"51\" x2=\"123\" y1=\"191.9375\" y2=\"191.9375\"/><!--MD5=[2156ba9850f5573cc1fc38a6a4b2f02b]\n",
       "class E7--><rect fill=\"#FFFFFF\" height=\"45.9375\" id=\"E7\" rx=\"10\" ry=\"10\" style=\"stroke: #383838; stroke-width: 1.5;\" width=\"77\" x=\"158.5\" y=\"366\"/><text fill=\"#000000\" font-family=\"sans-serif\" font-size=\"12\" font-style=\"italic\" lengthAdjust=\"spacingAndGlyphs\" textLength=\"75\" x=\"159.5\" y=\"382.1387\">«rendering»</text><text fill=\"#000000\" font-family=\"sans-serif\" font-size=\"12\" lengthAdjust=\"spacingAndGlyphs\" textLength=\"21\" x=\"186.5\" y=\"396.1074\">r: R</text><line style=\"stroke: #383838; stroke-width: 1.5;\" x1=\"159.5\" x2=\"234.5\" y1=\"403.9375\" y2=\"403.9375\"/><!--MD5=[b9389687b975829384b498ac4b7476b2]\n",
       "class E8--><rect fill=\"#FFFFFF\" height=\"45.9375\" id=\"E8\" rx=\"10\" ry=\"10\" style=\"stroke: #383838; stroke-width: 1.5;\" width=\"42\" x=\"202\" y=\"154\"/><text fill=\"#000000\" font-family=\"sans-serif\" font-size=\"12\" font-style=\"italic\" lengthAdjust=\"spacingAndGlyphs\" textLength=\"40\" x=\"203\" y=\"170.1387\">«view»</text><text fill=\"#000000\" font-family=\"sans-serif\" font-size=\"12\" lengthAdjust=\"spacingAndGlyphs\" textLength=\"22\" x=\"212\" y=\"184.1074\">v: V</text><line style=\"stroke: #383838; stroke-width: 1.5;\" x1=\"203\" x2=\"243\" y1=\"191.9375\" y2=\"191.9375\"/><!--MD5=[fd4143e9d270a159db93a4ea2a975926]\n",
       "class E9--><rect fill=\"#FFFFFF\" height=\"45.9375\" id=\"E9\" rx=\"10\" ry=\"10\" style=\"stroke: #383838; stroke-width: 1.5;\" width=\"77\" x=\"202.5\" y=\"260\"/><text fill=\"#000000\" font-family=\"sans-serif\" font-size=\"12\" font-style=\"italic\" lengthAdjust=\"spacingAndGlyphs\" textLength=\"75\" x=\"203.5\" y=\"276.1387\">«rendering»</text><text fill=\"#000000\" font-family=\"sans-serif\" font-size=\"12\" lengthAdjust=\"spacingAndGlyphs\" textLength=\"29\" x=\"226.5\" y=\"290.1074\">r1: R</text><line style=\"stroke: #383838; stroke-width: 1.5;\" x1=\"203.5\" x2=\"278.5\" y1=\"297.9375\" y2=\"297.9375\"/><polygon fill=\"#FFFFFF\" points=\"78,41,94,41,101,63.2969,108,63.2969,108,93.5938,78,93.5938,78,41\" style=\"stroke: #000000; stroke-width: 1.5;\"/><line style=\"stroke: #000000; stroke-width: 1.5;\" x1=\"78\" x2=\"101\" y1=\"63.2969\" y2=\"63.2969\"/><text fill=\"#000000\" font-family=\"sans-serif\" font-size=\"14\" font-weight=\"bold\" lengthAdjust=\"spacingAndGlyphs\" textLength=\"10\" x=\"82\" y=\"55.9951\">P</text><!--MD5=[85d356282659285ab4b2cfe2f634dd2b]\n",
       "reverse link E5 to E6--><path d=\"M147.92,68 C147.92,68 116,68 116,68 C116,68 116,121.89 116,153.88 \" fill=\"none\" id=\"E5&lt;-E6\" style=\"stroke: #383838; stroke-width: 1.0;\"/><polygon fill=\"#383838\" points=\"160.92,68,154.92,64,148.92,68,154.92,72,160.92,68\" style=\"stroke: #383838; stroke-width: 1.0;\"/><!--MD5=[a717450b82c80b9240a525fa862496af]\n",
       "link E6 to E3--><path d=\"M87,200 C87,200 87,239.68 87,239.68 \" fill=\"none\" id=\"E6-&gt;E3\" style=\"stroke: #383838; stroke-width: 1.0;\"/><polygon fill=\"#FFFFFF\" points=\"87,259.68,80,240.68,94,240.68,87,259.68\" style=\"stroke: #383838; stroke-width: 1.0;\"/><ellipse cx=\"82\" cy=\"234.98\" fill=\"#383838\" rx=\"2\" ry=\"2\" style=\"stroke: #383838; stroke-width: 1.0;\"/><ellipse cx=\"92\" cy=\"234.98\" fill=\"#383838\" rx=\"2\" ry=\"2\" style=\"stroke: #383838; stroke-width: 1.0;\"/><!--MD5=[6bdd27f9905911a7e892a3dc65cf6b7c]\n",
       "link E7 to E4--><path d=\"M197,412 C197,412 197,451.68 197,451.68 \" fill=\"none\" id=\"E7-&gt;E4\" style=\"stroke: #383838; stroke-width: 1.0;\"/><polygon fill=\"#FFFFFF\" points=\"197,471.68,190,452.68,204,452.68,197,471.68\" style=\"stroke: #383838; stroke-width: 1.0;\"/><ellipse cx=\"192\" cy=\"446.98\" fill=\"#383838\" rx=\"2\" ry=\"2\" style=\"stroke: #383838; stroke-width: 1.0;\"/><ellipse cx=\"202\" cy=\"446.98\" fill=\"#383838\" rx=\"2\" ry=\"2\" style=\"stroke: #383838; stroke-width: 1.0;\"/><!--MD5=[452b418e7f8a40397a49b8c0a78acc5b]\n",
       "reverse link E5 to E7--><path d=\"M181.5,103.62 C181.5,103.62 181.5,365.66 181.5,365.66 \" fill=\"none\" id=\"E5&lt;-E7\" style=\"stroke: #383838; stroke-width: 1.0;\"/><polygon fill=\"#383838\" points=\"181.5,90.62,177.5,96.62,181.5,102.62,185.5,96.62,181.5,90.62\" style=\"stroke: #383838; stroke-width: 1.0;\"/><text fill=\"#000000\" font-family=\"sans-serif\" font-size=\"13\" lengthAdjust=\"spacingAndGlyphs\" textLength=\"24\" x=\"150.4531\" y=\"354.8492\">0..1</text><!--MD5=[1ccb2481ffa92f8d51a74ee30c51832a]\n",
       "link E8 to E5--><path d=\"M218.67,153.78 C218.67,153.78 218.67,110.69 218.67,110.69 \" fill=\"none\" id=\"E8-&gt;E5\" style=\"stroke: #383838; stroke-width: 1.0;\"/><polygon fill=\"#FFFFFF\" points=\"218.67,90.69,225.67,109.69,211.67,109.69,218.67,90.69\" style=\"stroke: #383838; stroke-width: 1.0;\"/><ellipse cx=\"223.67\" cy=\"115.39\" fill=\"#383838\" rx=\"2\" ry=\"2\" style=\"stroke: #383838; stroke-width: 1.0;\"/><ellipse cx=\"213.67\" cy=\"115.39\" fill=\"#383838\" rx=\"2\" ry=\"2\" style=\"stroke: #383838; stroke-width: 1.0;\"/><!--MD5=[827760032d119d06bbc92f75530fd7ae]\n",
       "reverse link E5 to E8--><path d=\"M210.33,103.72 C210.33,103.72 210.33,153.81 210.33,153.81 \" fill=\"none\" id=\"E5&lt;-E8\" style=\"stroke: #383838; stroke-width: 1.0;\"/><polygon fill=\"#383838\" points=\"210.33,90.72,206.33,96.72,210.33,102.72,214.33,96.72,210.33,90.72\" style=\"stroke: #383838; stroke-width: 1.0;\"/><text fill=\"#000000\" font-family=\"sans-serif\" font-size=\"13\" lengthAdjust=\"spacingAndGlyphs\" textLength=\"7\" x=\"199.1864\" y=\"143.0376\">*</text><!--MD5=[cf04703ca05eebef50f1cfe8b03e143b]\n",
       "link E9 to E7--><path d=\"M219,306 C219,306 219,345.68 219,345.68 \" fill=\"none\" id=\"E9-&gt;E7\" style=\"stroke: #383838; stroke-width: 1.0;\"/><polygon fill=\"#FFFFFF\" points=\"219,365.68,212,346.68,226,346.68,219,365.68\" style=\"stroke: #383838; stroke-width: 1.0;\"/><line style=\"stroke: #383838; stroke-width: 2.0;\" x1=\"212\" x2=\"226\" y1=\"342.88\" y2=\"342.88\"/><!--MD5=[22f5b4bae7e060dce8a1c8021efdb95b]\n",
       "reverse link E8 to E9--><path d=\"M223.25,213 C223.25,213 223.25,259.68 223.25,259.68 \" fill=\"none\" id=\"E8&lt;-E9\" style=\"stroke: #383838; stroke-width: 1.0;\"/><polygon fill=\"#383838\" points=\"223.25,200,219.25,206,223.25,212,227.25,206,223.25,200\" style=\"stroke: #383838; stroke-width: 1.0;\"/><!--MD5=[465c01f26b487a55fc567850e3a3ed75]\n",
       "@startuml\r\n",
       "skinparam linetype ortho\r\n",
       "skinparam monochrome true\r\n",
       "skinparam classbackgroundcolor white\r\n",
       "skinparam shadowing false\r\n",
       "skinparam wrapWidth 300\r\n",
       "hide circle\r\n",
       "\r\n",
       "package \"ViewTest\" as E1   {\r\n",
       "package \"P\" as E2   {\r\n",
       "}\r\n",
       "comp def \"VP\" as E3  <<(T,blue)viewpoint def>> {\r\n",
       "}\r\n",
       "comp def \"R\" as E4  <<(T,blue)rendering def>> {\r\n",
       "}\r\n",
       "comp def \"V\" as E5  <<(T,blue)view def>> {\r\n",
       "}\r\n",
       "comp usage \"vp: VP\" as E6  <<(T,blue)viewpoint>> {\r\n",
       "}\r\n",
       "comp usage \"r: R\" as E7  <<(T,blue)rendering>> {\r\n",
       "}\r\n",
       "comp usage \"v: V\" as E8  <<(T,blue)view>> {\r\n",
       "}\r\n",
       "comp usage \"r1: R\" as E9  <<(T,blue)rendering>> {\r\n",
       "}\r\n",
       "E5 *- - E6\r\n",
       "E6 - -:|> E3\r\n",
       "E7 - -:|> E4\r\n",
       "E5 *- - \"0..1\"E7\r\n",
       "E8 - -:|> E5\r\n",
       "E5 *- - \"*\"E8\r\n",
       "E9 - -||> E7\r\n",
       "E8 *- - E9\r\n",
       "}\r\n",
       "@enduml\r\n",
       "\n",
       "PlantUML version 1.2020.13(Sat Jun 13 12:26:38 UTC 2020)\n",
       "(EPL source distribution)\n",
       "Java Runtime: OpenJDK Runtime Environment\n",
       "JVM: OpenJDK 64-Bit Server VM\n",
       "Default Encoding: UTF-8\n",
       "Language: en\n",
       "Country: null\n",
       "--></g></svg>"
      ]
     },
     "execution_count": 57,
     "metadata": {},
     "output_type": "execute_result"
    }
   ],
   "source": [
    "%viz --style=\"ORTHOLINE\" --view=\"MIXED\" \"ViewTest\""
   ]
  }
 ],
 "metadata": {
  "kernelspec": {
   "display_name": "SysML",
   "language": "sysml",
   "name": "sysml"
  },
  "language_info": {
   "codemirror_mode": "sysml",
   "file_extension": ".sysml",
   "mimetype": "text/x-sysml",
   "name": "SysML",
   "pygments_lexer": "java",
   "version": "1.0.0"
  }
 },
 "nbformat": 4,
 "nbformat_minor": 5
}
