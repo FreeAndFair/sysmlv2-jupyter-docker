{
 "cells": [
  {
   "cell_type": "markdown",
   "id": "educated-experiment",
   "metadata": {},
   "source": [
    "# SysML v2 Test Suite\n",
    "\n",
    "This can notebook can be cleared using menu `Edit --> Clear All Outputs` and then all cells can be\n",
    "run using menu `Run --> Run All Cells`.\n",
    "\n",
    "**WARNING**: This file is generated, all modifications here will be ignored.\n"
   ]
  },
  {
   "cell_type": "markdown",
   "id": "fabulous-pattern",
   "metadata": {},
   "source": [
    "## File: ../../sysml/src/examples/Simple Tests/ParameterTest.sysml"
   ]
  },
  {
   "cell_type": "code",
   "execution_count": 1,
   "id": "internal-south",
   "metadata": {
    "execution": {
     "iopub.execute_input": "2021-03-26T13:01:38.273271Z",
     "iopub.status.busy": "2021-03-26T13:01:38.267619Z",
     "iopub.status.idle": "2021-03-26T13:01:38.498483Z",
     "shell.execute_reply": "2021-03-26T13:01:38.497971Z"
    }
   },
   "outputs": [
    {
     "data": {
      "text/plain": [
       "Package ParameterTest (d9babb88-58c7-4cb1-8608-fb7d0dbadd90)\n"
      ]
     },
     "execution_count": 1,
     "metadata": {},
     "output_type": "execute_result"
    }
   ],
   "source": [
    "package ParameterTest {\n",
    "\tattribute def A {\n",
    "\t\tattribute x : ScalarValues::String;\n",
    "\t\tattribute y : A;\n",
    "\t}\n",
    "\t\n",
    "\tattribute a : A;\n",
    "\t\n",
    "\tcalc def F (p : A, q : ScalarValues::Integer): ScalarValues::Integer;\n",
    "\t\n",
    "\tattribute f = F(a, 2);\n",
    "\tattribute g = F(q => 1, p => a);\n",
    "\t\n",
    "\tattribute b = A(y=>a, x=>\"\"); \n",
    "\tattribute c = A(\"test2\");\n",
    "}"
   ]
  },
  {
   "cell_type": "code",
   "execution_count": 2,
   "id": "fleet-cardiff",
   "metadata": {
    "execution": {
     "iopub.execute_input": "2021-03-26T13:01:38.549785Z",
     "iopub.status.busy": "2021-03-26T13:01:38.549299Z",
     "iopub.status.idle": "2021-03-26T13:01:39.132734Z",
     "shell.execute_reply": "2021-03-26T13:01:39.131367Z"
    }
   },
   "outputs": [
    {
     "data": {
      "image/svg+xml": [
       "<?xml version=\"1.0\" encoding=\"UTF-8\" standalone=\"no\"?><svg xmlns=\"http://www.w3.org/2000/svg\" xmlns:xlink=\"http://www.w3.org/1999/xlink\" contentScriptType=\"application/ecmascript\" contentStyleType=\"text/css\" height=\"263px\" preserveAspectRatio=\"none\" style=\"width:740px;height:263px;\" version=\"1.1\" viewBox=\"0 0 740 263\" width=\"740px\" zoomAndPan=\"magnify\"><defs/><g><!--MD5=[fbc87193dbaf4d95561dea2c320d4a47]\n",
       "cluster E1--><a href=\"psysml:88bd93f8-a024-442a-9349-d26cb2f873a0\" target=\"_top\" title=\"psysml:88bd93f8-a024-442a-9349-d26cb2f873a0\" xlink:actuate=\"onRequest\" xlink:href=\"psysml:88bd93f8-a024-442a-9349-d26cb2f873a0\" xlink:show=\"new\" xlink:title=\"psysml:88bd93f8-a024-442a-9349-d26cb2f873a0\" xlink:type=\"simple\"><polygon fill=\"#FFFFFF\" points=\"16,6,139,6,146,28.2969,718,28.2969,718,251,16,251,16,6\" style=\"stroke: #000000; stroke-width: 1.5;\"/><line style=\"stroke: #000000; stroke-width: 1.5;\" x1=\"16\" x2=\"146\" y1=\"28.2969\" y2=\"28.2969\"/><text fill=\"#000000\" font-family=\"sans-serif\" font-size=\"14\" font-weight=\"bold\" lengthAdjust=\"spacingAndGlyphs\" textLength=\"117\" x=\"20\" y=\"20.9951\">ParameterTest</text></a><!--MD5=[f6df4d0ebaf0b5dfb2ced0ae5af7c670]\n",
       "cluster E4--><a href=\"psysml:de3210e5-068c-44a8-9828-b5930a13c3bb\" target=\"_top\" title=\"psysml:de3210e5-068c-44a8-9828-b5930a13c3bb\" xlink:actuate=\"onRequest\" xlink:href=\"psysml:de3210e5-068c-44a8-9828-b5930a13c3bb\" xlink:show=\"new\" xlink:title=\"psysml:de3210e5-068c-44a8-9828-b5930a13c3bb\" xlink:type=\"simple\"><rect fill=\"#FFFFFF\" height=\"160.5\" id=\"E4\" style=\"stroke: #383838; stroke-width: 1.5;\" width=\"148\" x=\"554\" y=\"64\"/><rect fill=\"#F8F8F8\" height=\"37.9375\" style=\"stroke: #383838; stroke-width: 1.5;\" width=\"148\" x=\"554\" y=\"64\"/><text fill=\"#000000\" font-family=\"sans-serif\" font-size=\"12\" font-style=\"italic\" lengthAdjust=\"spacingAndGlyphs\" textLength=\"106\" x=\"575\" y=\"80.1387\">«calculation def»</text><text fill=\"#000000\" font-family=\"sans-serif\" font-size=\"12\" lengthAdjust=\"spacingAndGlyphs\" textLength=\"7\" x=\"624.5\" y=\"94.1074\">F</text></a><!--MD5=[b4997ac47864f28c2f74865a473b2911]\n",
       "class E2--><a href=\"psysml:2f5789b5-3949-40b4-8579-f7414350119a\" target=\"_top\" title=\"psysml:2f5789b5-3949-40b4-8579-f7414350119a\" xlink:actuate=\"onRequest\" xlink:href=\"psysml:2f5789b5-3949-40b4-8579-f7414350119a\" xlink:show=\"new\" xlink:title=\"psysml:2f5789b5-3949-40b4-8579-f7414350119a\" xlink:type=\"simple\"><rect fill=\"#FFFFFF\" height=\"88.3516\" id=\"E2\" style=\"stroke: #383838; stroke-width: 1.5;\" width=\"95\" x=\"422.5\" y=\"147\"/><text fill=\"#000000\" font-family=\"sans-serif\" font-size=\"12\" font-style=\"italic\" lengthAdjust=\"spacingAndGlyphs\" textLength=\"93\" x=\"423.5\" y=\"163.1387\">«attribute def»</text><text fill=\"#000000\" font-family=\"sans-serif\" font-size=\"12\" lengthAdjust=\"spacingAndGlyphs\" textLength=\"8\" x=\"466\" y=\"177.1074\">A</text><line style=\"stroke: #383838; stroke-width: 1.5;\" x1=\"423.5\" x2=\"516.5\" y1=\"184.9375\" y2=\"184.9375\"/><text fill=\"#000000\" font-family=\"sans-serif\" font-size=\"11\" lengthAdjust=\"spacingAndGlyphs\" textLength=\"48\" x=\"428.5\" y=\"215.9526\">x: String</text><text fill=\"#000000\" font-family=\"sans-serif\" font-size=\"11\" lengthAdjust=\"spacingAndGlyphs\" textLength=\"21\" x=\"428.5\" y=\"228.7573\">y: A</text><line style=\"stroke: #383838; stroke-width: 1.0;\" x1=\"423.5\" x2=\"442.5\" y1=\"199.3398\" y2=\"199.3398\"/><text fill=\"#000000\" font-family=\"sans-serif\" font-size=\"11\" lengthAdjust=\"spacingAndGlyphs\" textLength=\"55\" x=\"442.5\" y=\"202.6479\">attributes</text><line style=\"stroke: #383838; stroke-width: 1.0;\" x1=\"497.5\" x2=\"516.5\" y1=\"199.3398\" y2=\"199.3398\"/></a><!--MD5=[09b614a08d8cba4a07c9adeb5e0fee81]\n",
       "class E3--><a href=\"psysml:02928bc4-0eb7-4367-aa3f-5ffb35356b49\" target=\"_top\" title=\"psysml:02928bc4-0eb7-4367-aa3f-5ffb35356b49\" xlink:actuate=\"onRequest\" xlink:href=\"psysml:02928bc4-0eb7-4367-aa3f-5ffb35356b49\" xlink:show=\"new\" xlink:title=\"psysml:02928bc4-0eb7-4367-aa3f-5ffb35356b49\" xlink:type=\"simple\"><rect fill=\"#FFFFFF\" height=\"45.9375\" id=\"E3\" rx=\"10\" ry=\"10\" style=\"stroke: #383838; stroke-width: 1.5;\" width=\"71\" x=\"456.5\" y=\"41\"/><text fill=\"#000000\" font-family=\"sans-serif\" font-size=\"12\" font-style=\"italic\" lengthAdjust=\"spacingAndGlyphs\" textLength=\"69\" x=\"457.5\" y=\"57.1387\">«attribute»</text><text fill=\"#000000\" font-family=\"sans-serif\" font-size=\"12\" lengthAdjust=\"spacingAndGlyphs\" textLength=\"24\" x=\"480\" y=\"71.1074\">a: A</text><line style=\"stroke: #383838; stroke-width: 1.5;\" x1=\"457.5\" x2=\"526.5\" y1=\"78.9375\" y2=\"78.9375\"/></a><!--MD5=[2156ba9850f5573cc1fc38a6a4b2f02b]\n",
       "class E7--><a href=\"psysml:8c3ddf1b-2d8e-48f9-8bd9-e07e4f9dde48\" target=\"_top\" title=\"psysml:8c3ddf1b-2d8e-48f9-8bd9-e07e4f9dde48\" xlink:actuate=\"onRequest\" xlink:href=\"psysml:8c3ddf1b-2d8e-48f9-8bd9-e07e4f9dde48\" xlink:show=\"new\" xlink:title=\"psysml:8c3ddf1b-2d8e-48f9-8bd9-e07e4f9dde48\" xlink:type=\"simple\"><rect fill=\"#FFFFFF\" height=\"45.9375\" id=\"E7\" rx=\"10\" ry=\"10\" style=\"stroke: #383838; stroke-width: 1.5;\" width=\"71\" x=\"350.5\" y=\"41\"/><text fill=\"#000000\" font-family=\"sans-serif\" font-size=\"12\" font-style=\"italic\" lengthAdjust=\"spacingAndGlyphs\" textLength=\"69\" x=\"351.5\" y=\"57.1387\">«attribute»</text><text fill=\"#000000\" font-family=\"sans-serif\" font-size=\"12\" lengthAdjust=\"spacingAndGlyphs\" textLength=\"4\" x=\"384\" y=\"71.1074\">f</text><line style=\"stroke: #383838; stroke-width: 1.5;\" x1=\"351.5\" x2=\"420.5\" y1=\"78.9375\" y2=\"78.9375\"/></a><!--MD5=[b9389687b975829384b498ac4b7476b2]\n",
       "class E8--><a href=\"psysml:1f38f371-1f52-4b01-a20c-3f08ced1218d\" target=\"_top\" title=\"psysml:1f38f371-1f52-4b01-a20c-3f08ced1218d\" xlink:actuate=\"onRequest\" xlink:href=\"psysml:1f38f371-1f52-4b01-a20c-3f08ced1218d\" xlink:show=\"new\" xlink:title=\"psysml:1f38f371-1f52-4b01-a20c-3f08ced1218d\" xlink:type=\"simple\"><rect fill=\"#FFFFFF\" height=\"45.9375\" id=\"E8\" rx=\"10\" ry=\"10\" style=\"stroke: #383838; stroke-width: 1.5;\" width=\"71\" x=\"244.5\" y=\"41\"/><text fill=\"#000000\" font-family=\"sans-serif\" font-size=\"12\" font-style=\"italic\" lengthAdjust=\"spacingAndGlyphs\" textLength=\"69\" x=\"245.5\" y=\"57.1387\">«attribute»</text><text fill=\"#000000\" font-family=\"sans-serif\" font-size=\"12\" lengthAdjust=\"spacingAndGlyphs\" textLength=\"8\" x=\"276\" y=\"71.1074\">g</text><line style=\"stroke: #383838; stroke-width: 1.5;\" x1=\"245.5\" x2=\"314.5\" y1=\"78.9375\" y2=\"78.9375\"/></a><!--MD5=[fd4143e9d270a159db93a4ea2a975926]\n",
       "class E9--><a href=\"psysml:cd4f641f-a9ce-41b8-9b9f-d9b0f89951b2\" target=\"_top\" title=\"psysml:cd4f641f-a9ce-41b8-9b9f-d9b0f89951b2\" xlink:actuate=\"onRequest\" xlink:href=\"psysml:cd4f641f-a9ce-41b8-9b9f-d9b0f89951b2\" xlink:show=\"new\" xlink:title=\"psysml:cd4f641f-a9ce-41b8-9b9f-d9b0f89951b2\" xlink:type=\"simple\"><rect fill=\"#FFFFFF\" height=\"45.9375\" id=\"E9\" rx=\"10\" ry=\"10\" style=\"stroke: #383838; stroke-width: 1.5;\" width=\"71\" x=\"138.5\" y=\"41\"/><text fill=\"#000000\" font-family=\"sans-serif\" font-size=\"12\" font-style=\"italic\" lengthAdjust=\"spacingAndGlyphs\" textLength=\"69\" x=\"139.5\" y=\"57.1387\">«attribute»</text><text fill=\"#000000\" font-family=\"sans-serif\" font-size=\"12\" lengthAdjust=\"spacingAndGlyphs\" textLength=\"8\" x=\"170\" y=\"71.1074\">b</text><line style=\"stroke: #383838; stroke-width: 1.5;\" x1=\"139.5\" x2=\"208.5\" y1=\"78.9375\" y2=\"78.9375\"/></a><!--MD5=[96f4274e9e20536e775497830990834d]\n",
       "class E10--><a href=\"psysml:5033f0bf-ffeb-4313-b85b-4258ec8a052c\" target=\"_top\" title=\"psysml:5033f0bf-ffeb-4313-b85b-4258ec8a052c\" xlink:actuate=\"onRequest\" xlink:href=\"psysml:5033f0bf-ffeb-4313-b85b-4258ec8a052c\" xlink:show=\"new\" xlink:title=\"psysml:5033f0bf-ffeb-4313-b85b-4258ec8a052c\" xlink:type=\"simple\"><rect fill=\"#FFFFFF\" height=\"45.9375\" id=\"E10\" rx=\"10\" ry=\"10\" style=\"stroke: #383838; stroke-width: 1.5;\" width=\"71\" x=\"32.5\" y=\"41\"/><text fill=\"#000000\" font-family=\"sans-serif\" font-size=\"12\" font-style=\"italic\" lengthAdjust=\"spacingAndGlyphs\" textLength=\"69\" x=\"33.5\" y=\"57.1387\">«attribute»</text><text fill=\"#000000\" font-family=\"sans-serif\" font-size=\"12\" lengthAdjust=\"spacingAndGlyphs\" textLength=\"7\" x=\"64.5\" y=\"71.1074\">c</text><line style=\"stroke: #383838; stroke-width: 1.5;\" x1=\"33.5\" x2=\"102.5\" y1=\"78.9375\" y2=\"78.9375\"/></a><text fill=\"#000000\" font-family=\"sans-serif\" font-size=\"14\" lengthAdjust=\"spacingAndGlyphs\" textLength=\"9\" x=\"567.5\" y=\"42.6982\">p</text><rect fill=\"#383838\" height=\"12\" style=\"stroke: #F8F8F8; stroke-width: 1.5;\" width=\"12\" x=\"566\" y=\"58\"/><text fill=\"#000000\" font-family=\"sans-serif\" font-size=\"14\" lengthAdjust=\"spacingAndGlyphs\" textLength=\"9\" x=\"614.5\" y=\"42.6982\">q</text><rect fill=\"#383838\" height=\"12\" style=\"stroke: #F8F8F8; stroke-width: 1.5;\" width=\"12\" x=\"613\" y=\"58\"/><!--MD5=[05d275557350bfb9b23a4ef7222b4c39]\n",
       "link E3 to E2--><a href=\"psysml:94762400-f967-4f4d-9ae0-7f515d54317a\" target=\"_top\" title=\"psysml:94762400-f967-4f4d-9ae0-7f515d54317a\" xlink:actuate=\"onRequest\" xlink:href=\"psysml:94762400-f967-4f4d-9ae0-7f515d54317a\" xlink:show=\"new\" xlink:title=\"psysml:94762400-f967-4f4d-9ae0-7f515d54317a\" xlink:type=\"simple\"><path d=\"M488.12,87.06 C486.14,98.3 483.62,112.6 481.1,126.95 \" fill=\"none\" id=\"E3-&gt;E2\" style=\"stroke: #383838; stroke-width: 1.0;\"/><polygon fill=\"#FFFFFF\" points=\"477.58,146.93,473.9835,127.0035,487.7711,129.4331,477.58,146.93\" style=\"stroke: #383838; stroke-width: 1.0;\"/><ellipse cx=\"476.9423\" cy=\"121.7371\" fill=\"#383838\" rx=\"2\" ry=\"2\" style=\"stroke: #383838; stroke-width: 1.0;\"/><ellipse cx=\"486.7906\" cy=\"123.4725\" fill=\"#383838\" rx=\"2\" ry=\"2\" style=\"stroke: #383838; stroke-width: 1.0;\"/></a><!--MD5=[e377dacf3f29bafa8af2659e71d02be0]\n",
       "@startuml\r\n",
       " skinparam monochrome true\r\n",
       "skinparam classbackgroundcolor white\r\n",
       "skinparam shadowing false\r\n",
       "skinparam wrapWidth 300\r\n",
       "hide circle\r\n",
       "\r\n",
       "package \"ParameterTest\" as E1  [[psysml:88bd93f8-a024-442a-9349-d26cb2f873a0 ]]  {\r\n",
       "comp def \"A\" as E2  <<(T,blue)attribute def>> [[psysml:2f5789b5-3949-40b4-8579-f7414350119a ]] {\r\n",
       "- - attributes - -\r\n",
       "x: String\r\n",
       "y: A\r\n",
       "}\r\n",
       "comp usage \"a: A\" as E3  <<(T,blue)attribute>> [[psysml:02928bc4-0eb7-4367-aa3f-5ffb35356b49 ]] {\r\n",
       "}\r\n",
       "rec def \"F\" as E4  <<(T,blue)calculation def>> [[psysml:de3210e5-068c-44a8-9828-b5930a13c3bb ]] {\r\n",
       "portin \"p\" as E5  [[psysml:6f03e5ff-f747-4209-970e-6a43677acfe5 ]] \r\n",
       "portin \"q\" as E6  [[psysml:59b46d55-27e2-4503-b58c-744d75cefff1 ]] \r\n",
       "}\r\n",
       "\r\n",
       "comp usage \"f\" as E7  <<(T,blue)attribute>> [[psysml:8c3ddf1b-2d8e-48f9-8bd9-e07e4f9dde48 ]] {\r\n",
       "}\r\n",
       "comp usage \"g\" as E8  <<(T,blue)attribute>> [[psysml:1f38f371-1f52-4b01-a20c-3f08ced1218d ]] {\r\n",
       "}\r\n",
       "comp usage \"b\" as E9  <<(T,blue)attribute>> [[psysml:cd4f641f-a9ce-41b8-9b9f-d9b0f89951b2 ]] {\r\n",
       "}\r\n",
       "comp usage \"c\" as E10  <<(T,blue)attribute>> [[psysml:5033f0bf-ffeb-4313-b85b-4258ec8a052c ]] {\r\n",
       "}\r\n",
       "E3 - -:|> E2 [[psysml:94762400-f967-4f4d-9ae0-7f515d54317a ]] \r\n",
       "}\r\n",
       "@enduml\r\n",
       "\n",
       "PlantUML version 1.2020.13(Sat Jun 13 12:26:38 UTC 2020)\n",
       "(EPL source distribution)\n",
       "Java Runtime: OpenJDK Runtime Environment\n",
       "JVM: OpenJDK 64-Bit Server VM\n",
       "Default Encoding: UTF-8\n",
       "Language: en\n",
       "Country: null\n",
       "--></g></svg>"
      ]
     },
     "execution_count": 2,
     "metadata": {},
     "output_type": "execute_result"
    }
   ],
   "source": [
    "%viz --style=\"COMPTREE\" --view=\"Default\" \"ParameterTest\""
   ]
  },
  {
   "cell_type": "code",
   "execution_count": 3,
   "id": "fourth-karma",
   "metadata": {
    "execution": {
     "iopub.execute_input": "2021-03-26T13:01:39.184509Z",
     "iopub.status.busy": "2021-03-26T13:01:39.181846Z",
     "iopub.status.idle": "2021-03-26T13:01:39.276416Z",
     "shell.execute_reply": "2021-03-26T13:01:39.276056Z"
    }
   },
   "outputs": [
    {
     "data": {
      "image/svg+xml": [
       "<?xml version=\"1.0\" encoding=\"UTF-8\" standalone=\"no\"?><svg xmlns=\"http://www.w3.org/2000/svg\" xmlns:xlink=\"http://www.w3.org/1999/xlink\" contentScriptType=\"application/ecmascript\" contentStyleType=\"text/css\" height=\"280px\" preserveAspectRatio=\"none\" style=\"width:710px;height:280px;\" version=\"1.1\" viewBox=\"0 0 710 280\" width=\"710px\" zoomAndPan=\"magnify\"><defs/><g><!--MD5=[fbc87193dbaf4d95561dea2c320d4a47]\n",
       "cluster E1--><a href=\"psysml:88bd93f8-a024-442a-9349-d26cb2f873a0\" target=\"_top\" title=\"psysml:88bd93f8-a024-442a-9349-d26cb2f873a0\" xlink:actuate=\"onRequest\" xlink:href=\"psysml:88bd93f8-a024-442a-9349-d26cb2f873a0\" xlink:show=\"new\" xlink:title=\"psysml:88bd93f8-a024-442a-9349-d26cb2f873a0\" xlink:type=\"simple\"><polygon fill=\"#FFFFFF\" points=\"16,6,139,6,146,28.2969,688,28.2969,688,268,16,268,16,6\" style=\"stroke: #000000; stroke-width: 1.5;\"/><line style=\"stroke: #000000; stroke-width: 1.5;\" x1=\"16\" x2=\"146\" y1=\"28.2969\" y2=\"28.2969\"/><text fill=\"#000000\" font-family=\"sans-serif\" font-size=\"14\" font-weight=\"bold\" lengthAdjust=\"spacingAndGlyphs\" textLength=\"117\" x=\"20\" y=\"20.9951\">ParameterTest</text></a><!--MD5=[b4997ac47864f28c2f74865a473b2911]\n",
       "class E2--><a href=\"psysml:2f5789b5-3949-40b4-8579-f7414350119a\" target=\"_top\" title=\"psysml:2f5789b5-3949-40b4-8579-f7414350119a\" xlink:actuate=\"onRequest\" xlink:href=\"psysml:2f5789b5-3949-40b4-8579-f7414350119a\" xlink:show=\"new\" xlink:title=\"psysml:2f5789b5-3949-40b4-8579-f7414350119a\" xlink:type=\"simple\"><rect fill=\"#FFFFFF\" height=\"88.3516\" id=\"E2\" style=\"stroke: #383838; stroke-width: 1.5;\" width=\"95\" x=\"498.5\" y=\"164\"/><text fill=\"#000000\" font-family=\"sans-serif\" font-size=\"12\" font-style=\"italic\" lengthAdjust=\"spacingAndGlyphs\" textLength=\"93\" x=\"499.5\" y=\"180.1387\">«attribute def»</text><text fill=\"#000000\" font-family=\"sans-serif\" font-size=\"12\" lengthAdjust=\"spacingAndGlyphs\" textLength=\"8\" x=\"542\" y=\"194.1074\">A</text><line style=\"stroke: #383838; stroke-width: 1.5;\" x1=\"499.5\" x2=\"592.5\" y1=\"201.9375\" y2=\"201.9375\"/><text fill=\"#000000\" font-family=\"sans-serif\" font-size=\"11\" lengthAdjust=\"spacingAndGlyphs\" textLength=\"48\" x=\"504.5\" y=\"232.9526\">x: String</text><text fill=\"#000000\" font-family=\"sans-serif\" font-size=\"11\" lengthAdjust=\"spacingAndGlyphs\" textLength=\"21\" x=\"504.5\" y=\"245.7573\">y: A</text><line style=\"stroke: #383838; stroke-width: 1.0;\" x1=\"499.5\" x2=\"518.5\" y1=\"216.3398\" y2=\"216.3398\"/><text fill=\"#000000\" font-family=\"sans-serif\" font-size=\"11\" lengthAdjust=\"spacingAndGlyphs\" textLength=\"55\" x=\"518.5\" y=\"219.6479\">attributes</text><line style=\"stroke: #383838; stroke-width: 1.0;\" x1=\"573.5\" x2=\"592.5\" y1=\"216.3398\" y2=\"216.3398\"/></a><!--MD5=[09b614a08d8cba4a07c9adeb5e0fee81]\n",
       "class E3--><a href=\"psysml:02928bc4-0eb7-4367-aa3f-5ffb35356b49\" target=\"_top\" title=\"psysml:02928bc4-0eb7-4367-aa3f-5ffb35356b49\" xlink:actuate=\"onRequest\" xlink:href=\"psysml:02928bc4-0eb7-4367-aa3f-5ffb35356b49\" xlink:show=\"new\" xlink:title=\"psysml:02928bc4-0eb7-4367-aa3f-5ffb35356b49\" xlink:type=\"simple\"><rect fill=\"#FFFFFF\" height=\"45.9375\" id=\"E3\" rx=\"10\" ry=\"10\" style=\"stroke: #383838; stroke-width: 1.5;\" width=\"71\" x=\"600.5\" y=\"41\"/><text fill=\"#000000\" font-family=\"sans-serif\" font-size=\"12\" font-style=\"italic\" lengthAdjust=\"spacingAndGlyphs\" textLength=\"69\" x=\"601.5\" y=\"57.1387\">«attribute»</text><text fill=\"#000000\" font-family=\"sans-serif\" font-size=\"12\" lengthAdjust=\"spacingAndGlyphs\" textLength=\"24\" x=\"624\" y=\"71.1074\">a: A</text><line style=\"stroke: #383838; stroke-width: 1.5;\" x1=\"601.5\" x2=\"670.5\" y1=\"78.9375\" y2=\"78.9375\"/></a><!--MD5=[ebbe1d658d1005bcc118a6aa81145e00]\n",
       "class E4--><a href=\"psysml:de3210e5-068c-44a8-9828-b5930a13c3bb\" target=\"_top\" title=\"psysml:de3210e5-068c-44a8-9828-b5930a13c3bb\" xlink:actuate=\"onRequest\" xlink:href=\"psysml:de3210e5-068c-44a8-9828-b5930a13c3bb\" xlink:show=\"new\" xlink:title=\"psysml:de3210e5-068c-44a8-9828-b5930a13c3bb\" xlink:type=\"simple\"><rect fill=\"#FFFFFF\" height=\"45.9375\" id=\"E4\" style=\"stroke: #383838; stroke-width: 1.5;\" width=\"108\" x=\"457\" y=\"41\"/><text fill=\"#000000\" font-family=\"sans-serif\" font-size=\"12\" font-style=\"italic\" lengthAdjust=\"spacingAndGlyphs\" textLength=\"106\" x=\"458\" y=\"57.1387\">«calculation def»</text><text fill=\"#000000\" font-family=\"sans-serif\" font-size=\"12\" lengthAdjust=\"spacingAndGlyphs\" textLength=\"7\" x=\"507.5\" y=\"71.1074\">F</text><line style=\"stroke: #383838; stroke-width: 1.5;\" x1=\"458\" x2=\"564\" y1=\"78.9375\" y2=\"78.9375\"/></a><!--MD5=[270fce915f116d4de14055a7c1d9a0f3]\n",
       "class E5--><a href=\"psysml:8c3ddf1b-2d8e-48f9-8bd9-e07e4f9dde48\" target=\"_top\" title=\"psysml:8c3ddf1b-2d8e-48f9-8bd9-e07e4f9dde48\" xlink:actuate=\"onRequest\" xlink:href=\"psysml:8c3ddf1b-2d8e-48f9-8bd9-e07e4f9dde48\" xlink:show=\"new\" xlink:title=\"psysml:8c3ddf1b-2d8e-48f9-8bd9-e07e4f9dde48\" xlink:type=\"simple\"><rect fill=\"#FFFFFF\" height=\"45.9375\" id=\"E5\" rx=\"10\" ry=\"10\" style=\"stroke: #383838; stroke-width: 1.5;\" width=\"71\" x=\"350.5\" y=\"41\"/><text fill=\"#000000\" font-family=\"sans-serif\" font-size=\"12\" font-style=\"italic\" lengthAdjust=\"spacingAndGlyphs\" textLength=\"69\" x=\"351.5\" y=\"57.1387\">«attribute»</text><text fill=\"#000000\" font-family=\"sans-serif\" font-size=\"12\" lengthAdjust=\"spacingAndGlyphs\" textLength=\"4\" x=\"384\" y=\"71.1074\">f</text><line style=\"stroke: #383838; stroke-width: 1.5;\" x1=\"351.5\" x2=\"420.5\" y1=\"78.9375\" y2=\"78.9375\"/></a><!--MD5=[60a26617385b1d2d0262a64233df1f8d]\n",
       "class E6--><a href=\"psysml:1f38f371-1f52-4b01-a20c-3f08ced1218d\" target=\"_top\" title=\"psysml:1f38f371-1f52-4b01-a20c-3f08ced1218d\" xlink:actuate=\"onRequest\" xlink:href=\"psysml:1f38f371-1f52-4b01-a20c-3f08ced1218d\" xlink:show=\"new\" xlink:title=\"psysml:1f38f371-1f52-4b01-a20c-3f08ced1218d\" xlink:type=\"simple\"><rect fill=\"#FFFFFF\" height=\"45.9375\" id=\"E6\" rx=\"10\" ry=\"10\" style=\"stroke: #383838; stroke-width: 1.5;\" width=\"71\" x=\"244.5\" y=\"41\"/><text fill=\"#000000\" font-family=\"sans-serif\" font-size=\"12\" font-style=\"italic\" lengthAdjust=\"spacingAndGlyphs\" textLength=\"69\" x=\"245.5\" y=\"57.1387\">«attribute»</text><text fill=\"#000000\" font-family=\"sans-serif\" font-size=\"12\" lengthAdjust=\"spacingAndGlyphs\" textLength=\"8\" x=\"276\" y=\"71.1074\">g</text><line style=\"stroke: #383838; stroke-width: 1.5;\" x1=\"245.5\" x2=\"314.5\" y1=\"78.9375\" y2=\"78.9375\"/></a><!--MD5=[2156ba9850f5573cc1fc38a6a4b2f02b]\n",
       "class E7--><a href=\"psysml:cd4f641f-a9ce-41b8-9b9f-d9b0f89951b2\" target=\"_top\" title=\"psysml:cd4f641f-a9ce-41b8-9b9f-d9b0f89951b2\" xlink:actuate=\"onRequest\" xlink:href=\"psysml:cd4f641f-a9ce-41b8-9b9f-d9b0f89951b2\" xlink:show=\"new\" xlink:title=\"psysml:cd4f641f-a9ce-41b8-9b9f-d9b0f89951b2\" xlink:type=\"simple\"><rect fill=\"#FFFFFF\" height=\"45.9375\" id=\"E7\" rx=\"10\" ry=\"10\" style=\"stroke: #383838; stroke-width: 1.5;\" width=\"71\" x=\"138.5\" y=\"41\"/><text fill=\"#000000\" font-family=\"sans-serif\" font-size=\"12\" font-style=\"italic\" lengthAdjust=\"spacingAndGlyphs\" textLength=\"69\" x=\"139.5\" y=\"57.1387\">«attribute»</text><text fill=\"#000000\" font-family=\"sans-serif\" font-size=\"12\" lengthAdjust=\"spacingAndGlyphs\" textLength=\"8\" x=\"170\" y=\"71.1074\">b</text><line style=\"stroke: #383838; stroke-width: 1.5;\" x1=\"139.5\" x2=\"208.5\" y1=\"78.9375\" y2=\"78.9375\"/></a><!--MD5=[b9389687b975829384b498ac4b7476b2]\n",
       "class E8--><a href=\"psysml:5033f0bf-ffeb-4313-b85b-4258ec8a052c\" target=\"_top\" title=\"psysml:5033f0bf-ffeb-4313-b85b-4258ec8a052c\" xlink:actuate=\"onRequest\" xlink:href=\"psysml:5033f0bf-ffeb-4313-b85b-4258ec8a052c\" xlink:show=\"new\" xlink:title=\"psysml:5033f0bf-ffeb-4313-b85b-4258ec8a052c\" xlink:type=\"simple\"><rect fill=\"#FFFFFF\" height=\"45.9375\" id=\"E8\" rx=\"10\" ry=\"10\" style=\"stroke: #383838; stroke-width: 1.5;\" width=\"71\" x=\"32.5\" y=\"41\"/><text fill=\"#000000\" font-family=\"sans-serif\" font-size=\"12\" font-style=\"italic\" lengthAdjust=\"spacingAndGlyphs\" textLength=\"69\" x=\"33.5\" y=\"57.1387\">«attribute»</text><text fill=\"#000000\" font-family=\"sans-serif\" font-size=\"12\" lengthAdjust=\"spacingAndGlyphs\" textLength=\"7\" x=\"64.5\" y=\"71.1074\">c</text><line style=\"stroke: #383838; stroke-width: 1.5;\" x1=\"33.5\" x2=\"102.5\" y1=\"78.9375\" y2=\"78.9375\"/></a><!--MD5=[05d275557350bfb9b23a4ef7222b4c39]\n",
       "link E3 to E2--><a href=\"psysml:94762400-f967-4f4d-9ae0-7f515d54317a\" target=\"_top\" title=\"psysml:94762400-f967-4f4d-9ae0-7f515d54317a\" xlink:actuate=\"onRequest\" xlink:href=\"psysml:94762400-f967-4f4d-9ae0-7f515d54317a\" xlink:show=\"new\" xlink:title=\"psysml:94762400-f967-4f4d-9ae0-7f515d54317a\" xlink:type=\"simple\"><path d=\"M621.94,87.19 C611.77,103.23 597.51,125.73 584.09,146.9 \" fill=\"none\" id=\"E3-&gt;E2\" style=\"stroke: #383838; stroke-width: 1.0;\"/><polygon fill=\"#FFFFFF\" points=\"573.37,163.82,577.6195,144.0225,589.448,151.5115,573.37,163.82\" style=\"stroke: #383838; stroke-width: 1.0;\"/><ellipse cx=\"582.3584\" cy=\"140.2764\" fill=\"#383838\" rx=\"2\" ry=\"2\" style=\"stroke: #383838; stroke-width: 1.0;\"/><ellipse cx=\"590.8073\" cy=\"145.6258\" fill=\"#383838\" rx=\"2\" ry=\"2\" style=\"stroke: #383838; stroke-width: 1.0;\"/></a><!--MD5=[ddeed8deb2209213b62e6cfabaa108b2]\n",
       "reverse link E4 to E2--><a href=\"psysml:6f03e5ff-f747-4209-970e-6a43677acfe5\" target=\"_top\" title=\"psysml:6f03e5ff-f747-4209-970e-6a43677acfe5\" xlink:actuate=\"onRequest\" xlink:href=\"psysml:6f03e5ff-f747-4209-970e-6a43677acfe5\" xlink:show=\"new\" xlink:title=\"psysml:6f03e5ff-f747-4209-970e-6a43677acfe5\" xlink:type=\"simple\"><path d=\"M519.62,99.96 C524.37,119.25 530.31,143.36 535.36,163.82 \" fill=\"none\" id=\"E4&lt;-E2\" style=\"stroke: #383838; stroke-width: 1.0;\"/><polygon fill=\"#FFFFFF\" points=\"516.47,87.19,514.0229,93.9732,519.3432,98.841,521.7903,92.0577,516.47,87.19\" style=\"stroke: #383838; stroke-width: 1.0;\"/><text fill=\"#000000\" font-family=\"sans-serif\" font-size=\"13\" lengthAdjust=\"spacingAndGlyphs\" textLength=\"8\" x=\"528\" y=\"130.0669\">p</text></a><!--MD5=[5374ceec296973284710a7a1e1804d11]\n",
       "@startuml\r\n",
       " skinparam monochrome true\r\n",
       "skinparam classbackgroundcolor white\r\n",
       "skinparam shadowing false\r\n",
       "skinparam wrapWidth 300\r\n",
       "hide circle\r\n",
       "\r\n",
       "package \"ParameterTest\" as E1  [[psysml:88bd93f8-a024-442a-9349-d26cb2f873a0 ]]  {\r\n",
       "comp def \"A\" as E2  <<(T,blue)attribute def>> [[psysml:2f5789b5-3949-40b4-8579-f7414350119a ]] {\r\n",
       "- - attributes - -\r\n",
       "x: String\r\n",
       "y: A\r\n",
       "}\r\n",
       "comp usage \"a: A\" as E3  <<(T,blue)attribute>> [[psysml:02928bc4-0eb7-4367-aa3f-5ffb35356b49 ]] {\r\n",
       "}\r\n",
       "comp def \"F\" as E4  <<(T,blue)calculation def>> [[psysml:de3210e5-068c-44a8-9828-b5930a13c3bb ]] {\r\n",
       "}\r\n",
       "comp usage \"f\" as E5  <<(T,blue)attribute>> [[psysml:8c3ddf1b-2d8e-48f9-8bd9-e07e4f9dde48 ]] {\r\n",
       "}\r\n",
       "comp usage \"g\" as E6  <<(T,blue)attribute>> [[psysml:1f38f371-1f52-4b01-a20c-3f08ced1218d ]] {\r\n",
       "}\r\n",
       "comp usage \"b\" as E7  <<(T,blue)attribute>> [[psysml:cd4f641f-a9ce-41b8-9b9f-d9b0f89951b2 ]] {\r\n",
       "}\r\n",
       "comp usage \"c\" as E8  <<(T,blue)attribute>> [[psysml:5033f0bf-ffeb-4313-b85b-4258ec8a052c ]] {\r\n",
       "}\r\n",
       "E3 - -:|> E2 [[psysml:94762400-f967-4f4d-9ae0-7f515d54317a ]] \r\n",
       "E4 o- - E2 [[psysml:6f03e5ff-f747-4209-970e-6a43677acfe5 ]] : p\r\n",
       "}\r\n",
       "@enduml\r\n",
       "\n",
       "PlantUML version 1.2020.13(Sat Jun 13 12:26:38 UTC 2020)\n",
       "(EPL source distribution)\n",
       "Java Runtime: OpenJDK Runtime Environment\n",
       "JVM: OpenJDK 64-Bit Server VM\n",
       "Default Encoding: UTF-8\n",
       "Language: en\n",
       "Country: null\n",
       "--></g></svg>"
      ]
     },
     "execution_count": 3,
     "metadata": {},
     "output_type": "execute_result"
    }
   ],
   "source": [
    "%viz --style=\"COMPTREE\" --view=\"Tree\" \"ParameterTest\""
   ]
  },
  {
   "cell_type": "code",
   "execution_count": 4,
   "id": "fifteen-printer",
   "metadata": {
    "execution": {
     "iopub.execute_input": "2021-03-26T13:01:39.326418Z",
     "iopub.status.busy": "2021-03-26T13:01:39.326091Z",
     "iopub.status.idle": "2021-03-26T13:01:39.333668Z",
     "shell.execute_reply": "2021-03-26T13:01:39.333302Z"
    }
   },
   "outputs": [
    {
     "data": {
      "image/svg+xml": [
       "<?xml version=\"1.0\" encoding=\"UTF-8\" standalone=\"no\"?><svg xmlns=\"http://www.w3.org/2000/svg\" xmlns:xlink=\"http://www.w3.org/1999/xlink\" contentScriptType=\"application/ecmascript\" contentStyleType=\"text/css\" height=\"12px\" preserveAspectRatio=\"none\" style=\"width:12px;height:12px;\" version=\"1.1\" viewBox=\"0 0 12 12\" width=\"12px\" zoomAndPan=\"magnify\"><defs/><g><!--MD5=[f19188ef49e11757b5c46753f95d9edc]\n",
       "@startuml\r\n",
       " skinparam monochrome true\r\n",
       "skinparam classbackgroundcolor white\r\n",
       "skinparam shadowing false\r\n",
       "skinparam wrapWidth 300\r\n",
       "hide circle\r\n",
       "\r\n",
       "@enduml\r\n",
       "\n",
       "PlantUML version 1.2020.13(Sat Jun 13 12:26:38 UTC 2020)\n",
       "(EPL source distribution)\n",
       "Java Runtime: OpenJDK Runtime Environment\n",
       "JVM: OpenJDK 64-Bit Server VM\n",
       "Default Encoding: UTF-8\n",
       "Language: en\n",
       "Country: null\n",
       "--></g></svg>"
      ]
     },
     "execution_count": 4,
     "metadata": {},
     "output_type": "execute_result"
    }
   ],
   "source": [
    "%viz --style=\"COMPTREE\" --view=\"State\" \"ParameterTest\""
   ]
  },
  {
   "cell_type": "code",
   "execution_count": 5,
   "id": "printable-native",
   "metadata": {
    "execution": {
     "iopub.execute_input": "2021-03-26T13:01:39.385918Z",
     "iopub.status.busy": "2021-03-26T13:01:39.385248Z",
     "iopub.status.idle": "2021-03-26T13:01:39.432185Z",
     "shell.execute_reply": "2021-03-26T13:01:39.431905Z"
    }
   },
   "outputs": [
    {
     "data": {
      "image/svg+xml": [
       "<?xml version=\"1.0\" encoding=\"UTF-8\" standalone=\"no\"?><svg xmlns=\"http://www.w3.org/2000/svg\" xmlns:xlink=\"http://www.w3.org/1999/xlink\" contentScriptType=\"application/ecmascript\" contentStyleType=\"text/css\" height=\"112px\" preserveAspectRatio=\"none\" style=\"width:874px;height:112px;\" version=\"1.1\" viewBox=\"0 0 874 112\" width=\"874px\" zoomAndPan=\"magnify\"><defs/><g><!--MD5=[fbc87193dbaf4d95561dea2c320d4a47]\n",
       "cluster E1--><a href=\"psysml:88bd93f8-a024-442a-9349-d26cb2f873a0\" target=\"_top\" title=\"psysml:88bd93f8-a024-442a-9349-d26cb2f873a0\" xlink:actuate=\"onRequest\" xlink:href=\"psysml:88bd93f8-a024-442a-9349-d26cb2f873a0\" xlink:show=\"new\" xlink:title=\"psysml:88bd93f8-a024-442a-9349-d26cb2f873a0\" xlink:type=\"simple\"><polygon fill=\"#FFFFFF\" points=\"16,6,139,6,146,28.2969,852,28.2969,852,100,16,100,16,6\" style=\"stroke: #000000; stroke-width: 1.5;\"/><line style=\"stroke: #000000; stroke-width: 1.5;\" x1=\"16\" x2=\"146\" y1=\"28.2969\" y2=\"28.2969\"/><text fill=\"#000000\" font-family=\"sans-serif\" font-size=\"14\" font-weight=\"bold\" lengthAdjust=\"spacingAndGlyphs\" textLength=\"117\" x=\"20\" y=\"20.9951\">ParameterTest</text></a><g id=\"E1.E2\"><a href=\"psysml:2f5789b5-3949-40b4-8579-f7414350119a\" target=\"_top\" title=\"psysml:2f5789b5-3949-40b4-8579-f7414350119a\" xlink:actuate=\"onRequest\" xlink:href=\"psysml:2f5789b5-3949-40b4-8579-f7414350119a\" xlink:show=\"new\" xlink:title=\"psysml:2f5789b5-3949-40b4-8579-f7414350119a\" xlink:type=\"simple\"><rect fill=\"#FFFFFF\" height=\"42.9375\" id=\"E2\" style=\"stroke: #383838; stroke-width: 1.5;\" width=\"100\" x=\"736\" y=\"41\"/><rect fill=\"#F8F8F8\" height=\"37.9375\" style=\"stroke: #383838; stroke-width: 1.5;\" width=\"100\" x=\"736\" y=\"41\"/><text fill=\"#000000\" font-family=\"sans-serif\" font-size=\"12\" font-style=\"italic\" lengthAdjust=\"spacingAndGlyphs\" textLength=\"93\" x=\"739.5\" y=\"57.1387\">«attribute def»</text><text fill=\"#000000\" font-family=\"sans-serif\" font-size=\"12\" lengthAdjust=\"spacingAndGlyphs\" textLength=\"8\" x=\"782\" y=\"71.1074\">A</text></a></g><g id=\"E1.E4\"><a href=\"psysml:de3210e5-068c-44a8-9828-b5930a13c3bb\" target=\"_top\" title=\"psysml:de3210e5-068c-44a8-9828-b5930a13c3bb\" xlink:actuate=\"onRequest\" xlink:href=\"psysml:de3210e5-068c-44a8-9828-b5930a13c3bb\" xlink:show=\"new\" xlink:title=\"psysml:de3210e5-068c-44a8-9828-b5930a13c3bb\" xlink:type=\"simple\"><rect fill=\"#FFFFFF\" height=\"42.9375\" id=\"E4\" style=\"stroke: #383838; stroke-width: 1.5;\" width=\"113\" x=\"587.5\" y=\"41\"/><rect fill=\"#F8F8F8\" height=\"37.9375\" style=\"stroke: #383838; stroke-width: 1.5;\" width=\"113\" x=\"587.5\" y=\"41\"/><text fill=\"#000000\" font-family=\"sans-serif\" font-size=\"12\" font-style=\"italic\" lengthAdjust=\"spacingAndGlyphs\" textLength=\"106\" x=\"591\" y=\"57.1387\">«calculation def»</text><text fill=\"#000000\" font-family=\"sans-serif\" font-size=\"12\" lengthAdjust=\"spacingAndGlyphs\" textLength=\"7\" x=\"640.5\" y=\"71.1074\">F</text></a></g><g id=\"E1.E3\"><a href=\"psysml:02928bc4-0eb7-4367-aa3f-5ffb35356b49\" target=\"_top\" title=\"psysml:02928bc4-0eb7-4367-aa3f-5ffb35356b49\" xlink:actuate=\"onRequest\" xlink:href=\"psysml:02928bc4-0eb7-4367-aa3f-5ffb35356b49\" xlink:show=\"new\" xlink:title=\"psysml:02928bc4-0eb7-4367-aa3f-5ffb35356b49\" xlink:type=\"simple\"><rect fill=\"#FFFFFF\" height=\"42.9375\" id=\"E3\" rx=\"10\" ry=\"10\" style=\"stroke: #383838; stroke-width: 1.5;\" width=\"76\" x=\"476\" y=\"41\"/><rect fill=\"#F8F8F8\" height=\"37.9375\" rx=\"10\" ry=\"10\" style=\"stroke: #F8F8F8; stroke-width: 1.5;\" width=\"76\" x=\"476\" y=\"41\"/><rect fill=\"#F8F8F8\" height=\"10\" style=\"stroke: #F8F8F8; stroke-width: 1.5;\" width=\"76\" x=\"476\" y=\"68.9375\"/><rect fill=\"none\" height=\"42.9375\" id=\"E3\" rx=\"10\" ry=\"10\" style=\"stroke: #383838; stroke-width: 1.5;\" width=\"76\" x=\"476\" y=\"41\"/><text fill=\"#000000\" font-family=\"sans-serif\" font-size=\"12\" font-style=\"italic\" lengthAdjust=\"spacingAndGlyphs\" textLength=\"69\" x=\"479.5\" y=\"57.1387\">«attribute»</text><text fill=\"#000000\" font-family=\"sans-serif\" font-size=\"12\" lengthAdjust=\"spacingAndGlyphs\" textLength=\"24\" x=\"502\" y=\"71.1074\">a: A</text></a></g><g id=\"E1.E5\"><a href=\"psysml:8c3ddf1b-2d8e-48f9-8bd9-e07e4f9dde48\" target=\"_top\" title=\"psysml:8c3ddf1b-2d8e-48f9-8bd9-e07e4f9dde48\" xlink:actuate=\"onRequest\" xlink:href=\"psysml:8c3ddf1b-2d8e-48f9-8bd9-e07e4f9dde48\" xlink:show=\"new\" xlink:title=\"psysml:8c3ddf1b-2d8e-48f9-8bd9-e07e4f9dde48\" xlink:type=\"simple\"><rect fill=\"#FFFFFF\" height=\"42.9375\" id=\"E5\" rx=\"10\" ry=\"10\" style=\"stroke: #383838; stroke-width: 1.5;\" width=\"76\" x=\"365\" y=\"41\"/><rect fill=\"#F8F8F8\" height=\"37.9375\" rx=\"10\" ry=\"10\" style=\"stroke: #F8F8F8; stroke-width: 1.5;\" width=\"76\" x=\"365\" y=\"41\"/><rect fill=\"#F8F8F8\" height=\"10\" style=\"stroke: #F8F8F8; stroke-width: 1.5;\" width=\"76\" x=\"365\" y=\"68.9375\"/><rect fill=\"none\" height=\"42.9375\" id=\"E5\" rx=\"10\" ry=\"10\" style=\"stroke: #383838; stroke-width: 1.5;\" width=\"76\" x=\"365\" y=\"41\"/><text fill=\"#000000\" font-family=\"sans-serif\" font-size=\"12\" font-style=\"italic\" lengthAdjust=\"spacingAndGlyphs\" textLength=\"69\" x=\"368.5\" y=\"57.1387\">«attribute»</text><text fill=\"#000000\" font-family=\"sans-serif\" font-size=\"12\" lengthAdjust=\"spacingAndGlyphs\" textLength=\"4\" x=\"401\" y=\"71.1074\">f</text></a></g><g id=\"E1.E6\"><a href=\"psysml:1f38f371-1f52-4b01-a20c-3f08ced1218d\" target=\"_top\" title=\"psysml:1f38f371-1f52-4b01-a20c-3f08ced1218d\" xlink:actuate=\"onRequest\" xlink:href=\"psysml:1f38f371-1f52-4b01-a20c-3f08ced1218d\" xlink:show=\"new\" xlink:title=\"psysml:1f38f371-1f52-4b01-a20c-3f08ced1218d\" xlink:type=\"simple\"><rect fill=\"#FFFFFF\" height=\"42.9375\" id=\"E6\" rx=\"10\" ry=\"10\" style=\"stroke: #383838; stroke-width: 1.5;\" width=\"76\" x=\"254\" y=\"41\"/><rect fill=\"#F8F8F8\" height=\"37.9375\" rx=\"10\" ry=\"10\" style=\"stroke: #F8F8F8; stroke-width: 1.5;\" width=\"76\" x=\"254\" y=\"41\"/><rect fill=\"#F8F8F8\" height=\"10\" style=\"stroke: #F8F8F8; stroke-width: 1.5;\" width=\"76\" x=\"254\" y=\"68.9375\"/><rect fill=\"none\" height=\"42.9375\" id=\"E6\" rx=\"10\" ry=\"10\" style=\"stroke: #383838; stroke-width: 1.5;\" width=\"76\" x=\"254\" y=\"41\"/><text fill=\"#000000\" font-family=\"sans-serif\" font-size=\"12\" font-style=\"italic\" lengthAdjust=\"spacingAndGlyphs\" textLength=\"69\" x=\"257.5\" y=\"57.1387\">«attribute»</text><text fill=\"#000000\" font-family=\"sans-serif\" font-size=\"12\" lengthAdjust=\"spacingAndGlyphs\" textLength=\"8\" x=\"288\" y=\"71.1074\">g</text></a></g><g id=\"E1.E7\"><a href=\"psysml:cd4f641f-a9ce-41b8-9b9f-d9b0f89951b2\" target=\"_top\" title=\"psysml:cd4f641f-a9ce-41b8-9b9f-d9b0f89951b2\" xlink:actuate=\"onRequest\" xlink:href=\"psysml:cd4f641f-a9ce-41b8-9b9f-d9b0f89951b2\" xlink:show=\"new\" xlink:title=\"psysml:cd4f641f-a9ce-41b8-9b9f-d9b0f89951b2\" xlink:type=\"simple\"><rect fill=\"#FFFFFF\" height=\"42.9375\" id=\"E7\" rx=\"10\" ry=\"10\" style=\"stroke: #383838; stroke-width: 1.5;\" width=\"76\" x=\"143\" y=\"41\"/><rect fill=\"#F8F8F8\" height=\"37.9375\" rx=\"10\" ry=\"10\" style=\"stroke: #F8F8F8; stroke-width: 1.5;\" width=\"76\" x=\"143\" y=\"41\"/><rect fill=\"#F8F8F8\" height=\"10\" style=\"stroke: #F8F8F8; stroke-width: 1.5;\" width=\"76\" x=\"143\" y=\"68.9375\"/><rect fill=\"none\" height=\"42.9375\" id=\"E7\" rx=\"10\" ry=\"10\" style=\"stroke: #383838; stroke-width: 1.5;\" width=\"76\" x=\"143\" y=\"41\"/><text fill=\"#000000\" font-family=\"sans-serif\" font-size=\"12\" font-style=\"italic\" lengthAdjust=\"spacingAndGlyphs\" textLength=\"69\" x=\"146.5\" y=\"57.1387\">«attribute»</text><text fill=\"#000000\" font-family=\"sans-serif\" font-size=\"12\" lengthAdjust=\"spacingAndGlyphs\" textLength=\"8\" x=\"177\" y=\"71.1074\">b</text></a></g><g id=\"E1.E8\"><a href=\"psysml:5033f0bf-ffeb-4313-b85b-4258ec8a052c\" target=\"_top\" title=\"psysml:5033f0bf-ffeb-4313-b85b-4258ec8a052c\" xlink:actuate=\"onRequest\" xlink:href=\"psysml:5033f0bf-ffeb-4313-b85b-4258ec8a052c\" xlink:show=\"new\" xlink:title=\"psysml:5033f0bf-ffeb-4313-b85b-4258ec8a052c\" xlink:type=\"simple\"><rect fill=\"#FFFFFF\" height=\"42.9375\" id=\"E8\" rx=\"10\" ry=\"10\" style=\"stroke: #383838; stroke-width: 1.5;\" width=\"76\" x=\"32\" y=\"41\"/><rect fill=\"#F8F8F8\" height=\"37.9375\" rx=\"10\" ry=\"10\" style=\"stroke: #F8F8F8; stroke-width: 1.5;\" width=\"76\" x=\"32\" y=\"41\"/><rect fill=\"#F8F8F8\" height=\"10\" style=\"stroke: #F8F8F8; stroke-width: 1.5;\" width=\"76\" x=\"32\" y=\"68.9375\"/><rect fill=\"none\" height=\"42.9375\" id=\"E8\" rx=\"10\" ry=\"10\" style=\"stroke: #383838; stroke-width: 1.5;\" width=\"76\" x=\"32\" y=\"41\"/><text fill=\"#000000\" font-family=\"sans-serif\" font-size=\"12\" font-style=\"italic\" lengthAdjust=\"spacingAndGlyphs\" textLength=\"69\" x=\"35.5\" y=\"57.1387\">«attribute»</text><text fill=\"#000000\" font-family=\"sans-serif\" font-size=\"12\" lengthAdjust=\"spacingAndGlyphs\" textLength=\"7\" x=\"66.5\" y=\"71.1074\">c</text></a></g><!--MD5=[a5ae9840e67f0d46e4e5a0fc3912337a]\n",
       "@startuml\r\n",
       "skinparam ranksep 8\r\n",
       "skinparam rectangle {\r\n",
       " backgroundColor<<block>> LightGreen\r\n",
       "}\r\n",
       " skinparam monochrome true\r\n",
       "skinparam classbackgroundcolor white\r\n",
       "skinparam shadowing false\r\n",
       "skinparam wrapWidth 300\r\n",
       "hide circle\r\n",
       "\r\n",
       "package \"ParameterTest\" as E1  [[psysml:88bd93f8-a024-442a-9349-d26cb2f873a0 ]]  {\r\n",
       "def \"A\" as E2  <<(T,blue)attribute def>> [[psysml:2f5789b5-3949-40b4-8579-f7414350119a ]] \r\n",
       "rec usage \"a: A\" as E3  <<(T,blue)attribute>> [[psysml:02928bc4-0eb7-4367-aa3f-5ffb35356b49 ]] {\r\n",
       "}\r\n",
       "def \"F\" as E4  <<(T,blue)calculation def>> [[psysml:de3210e5-068c-44a8-9828-b5930a13c3bb ]] \r\n",
       "rec usage \"f\" as E5  <<(T,blue)attribute>> [[psysml:8c3ddf1b-2d8e-48f9-8bd9-e07e4f9dde48 ]] {\r\n",
       "}\r\n",
       "rec usage \"g\" as E6  <<(T,blue)attribute>> [[psysml:1f38f371-1f52-4b01-a20c-3f08ced1218d ]] {\r\n",
       "}\r\n",
       "rec usage \"b\" as E7  <<(T,blue)attribute>> [[psysml:cd4f641f-a9ce-41b8-9b9f-d9b0f89951b2 ]] {\r\n",
       "}\r\n",
       "rec usage \"c\" as E8  <<(T,blue)attribute>> [[psysml:5033f0bf-ffeb-4313-b85b-4258ec8a052c ]] {\r\n",
       "}\r\n",
       "}\r\n",
       "@enduml\r\n",
       "\n",
       "PlantUML version 1.2020.13(Sat Jun 13 12:26:38 UTC 2020)\n",
       "(EPL source distribution)\n",
       "Java Runtime: OpenJDK Runtime Environment\n",
       "JVM: OpenJDK 64-Bit Server VM\n",
       "Default Encoding: UTF-8\n",
       "Language: en\n",
       "Country: null\n",
       "--></g></svg>"
      ]
     },
     "execution_count": 5,
     "metadata": {},
     "output_type": "execute_result"
    }
   ],
   "source": [
    "%viz --style=\"COMPTREE\" --view=\"Interconnection\" \"ParameterTest\""
   ]
  },
  {
   "cell_type": "code",
   "execution_count": 6,
   "id": "criminal-warehouse",
   "metadata": {
    "execution": {
     "iopub.execute_input": "2021-03-26T13:01:39.482832Z",
     "iopub.status.busy": "2021-03-26T13:01:39.482157Z",
     "iopub.status.idle": "2021-03-26T13:01:39.511492Z",
     "shell.execute_reply": "2021-03-26T13:01:39.511862Z"
    }
   },
   "outputs": [
    {
     "data": {
      "image/svg+xml": [
       "<?xml version=\"1.0\" encoding=\"UTF-8\" standalone=\"no\"?><svg xmlns=\"http://www.w3.org/2000/svg\" xmlns:xlink=\"http://www.w3.org/1999/xlink\" contentScriptType=\"application/ecmascript\" contentStyleType=\"text/css\" height=\"126px\" preserveAspectRatio=\"none\" style=\"width:166px;height:126px;\" version=\"1.1\" viewBox=\"0 0 166 126\" width=\"166px\" zoomAndPan=\"magnify\"><defs/><g><!--MD5=[fbc87193dbaf4d95561dea2c320d4a47]\n",
       "cluster E1--><a href=\"psysml:de3210e5-068c-44a8-9828-b5930a13c3bb\" target=\"_top\" title=\"psysml:de3210e5-068c-44a8-9828-b5930a13c3bb\" xlink:actuate=\"onRequest\" xlink:href=\"psysml:de3210e5-068c-44a8-9828-b5930a13c3bb\" xlink:show=\"new\" xlink:title=\"psysml:de3210e5-068c-44a8-9828-b5930a13c3bb\" xlink:type=\"simple\"><rect fill=\"#FFFFFF\" height=\"73\" id=\"E1\" style=\"stroke: #383838; stroke-width: 1.5;\" width=\"148\" x=\"7\" y=\"42.0986\"/><rect fill=\"#F8F8F8\" height=\"37.9375\" style=\"stroke: #383838; stroke-width: 1.5;\" width=\"148\" x=\"7\" y=\"42.0986\"/><text fill=\"#000000\" font-family=\"sans-serif\" font-size=\"12\" font-style=\"italic\" lengthAdjust=\"spacingAndGlyphs\" textLength=\"106\" x=\"28\" y=\"58.2373\">«calculation def»</text><text fill=\"#000000\" font-family=\"sans-serif\" font-size=\"12\" lengthAdjust=\"spacingAndGlyphs\" textLength=\"7\" x=\"77.5\" y=\"72.2061\">F</text></a><text fill=\"#000000\" font-family=\"sans-serif\" font-size=\"14\" lengthAdjust=\"spacingAndGlyphs\" textLength=\"9\" x=\"20.5\" y=\"20.7969\">p</text><rect fill=\"#383838\" height=\"12\" style=\"stroke: #F8F8F8; stroke-width: 1.5;\" width=\"12\" x=\"19\" y=\"36.0986\"/><text fill=\"#000000\" font-family=\"sans-serif\" font-size=\"14\" lengthAdjust=\"spacingAndGlyphs\" textLength=\"9\" x=\"67.5\" y=\"20.7969\">q</text><rect fill=\"#383838\" height=\"12\" style=\"stroke: #F8F8F8; stroke-width: 1.5;\" width=\"12\" x=\"66\" y=\"36.0986\"/><!--MD5=[1ab9f1d0dee82f658e8586277b3b8e41]\n",
       "@startuml\r\n",
       "skinparam ranksep 8\r\n",
       " skinparam monochrome true\r\n",
       "skinparam classbackgroundcolor white\r\n",
       "skinparam shadowing false\r\n",
       "skinparam wrapWidth 300\r\n",
       "hide circle\r\n",
       "\r\n",
       "rec def \"F\" as E1  <<(T,blue)calculation def>> [[psysml:de3210e5-068c-44a8-9828-b5930a13c3bb ]] {\r\n",
       "portin \"p\" as E2  [[psysml:6f03e5ff-f747-4209-970e-6a43677acfe5 ]] \r\n",
       "portin \"q\" as E3  [[psysml:59b46d55-27e2-4503-b58c-744d75cefff1 ]] \r\n",
       "}\r\n",
       "\r\n",
       "@enduml\r\n",
       "\n",
       "PlantUML version 1.2020.13(Sat Jun 13 12:26:38 UTC 2020)\n",
       "(EPL source distribution)\n",
       "Java Runtime: OpenJDK Runtime Environment\n",
       "JVM: OpenJDK 64-Bit Server VM\n",
       "Default Encoding: UTF-8\n",
       "Language: en\n",
       "Country: null\n",
       "--></g></svg>"
      ]
     },
     "execution_count": 6,
     "metadata": {},
     "output_type": "execute_result"
    }
   ],
   "source": [
    "%viz --style=\"COMPTREE\" --view=\"Action\" \"ParameterTest\""
   ]
  },
  {
   "cell_type": "code",
   "execution_count": 7,
   "id": "alpha-machinery",
   "metadata": {
    "execution": {
     "iopub.execute_input": "2021-03-26T13:01:39.565620Z",
     "iopub.status.busy": "2021-03-26T13:01:39.564980Z",
     "iopub.status.idle": "2021-03-26T13:01:39.653651Z",
     "shell.execute_reply": "2021-03-26T13:01:39.654023Z"
    }
   },
   "outputs": [
    {
     "data": {
      "image/svg+xml": [
       "<?xml version=\"1.0\" encoding=\"UTF-8\" standalone=\"no\"?><svg xmlns=\"http://www.w3.org/2000/svg\" xmlns:xlink=\"http://www.w3.org/1999/xlink\" contentScriptType=\"application/ecmascript\" contentStyleType=\"text/css\" height=\"280px\" preserveAspectRatio=\"none\" style=\"width:710px;height:280px;\" version=\"1.1\" viewBox=\"0 0 710 280\" width=\"710px\" zoomAndPan=\"magnify\"><defs/><g><!--MD5=[fbc87193dbaf4d95561dea2c320d4a47]\n",
       "cluster E1--><a href=\"psysml:88bd93f8-a024-442a-9349-d26cb2f873a0\" target=\"_top\" title=\"psysml:88bd93f8-a024-442a-9349-d26cb2f873a0\" xlink:actuate=\"onRequest\" xlink:href=\"psysml:88bd93f8-a024-442a-9349-d26cb2f873a0\" xlink:show=\"new\" xlink:title=\"psysml:88bd93f8-a024-442a-9349-d26cb2f873a0\" xlink:type=\"simple\"><polygon fill=\"#FFFFFF\" points=\"16,6,139,6,146,28.2969,688,28.2969,688,268,16,268,16,6\" style=\"stroke: #000000; stroke-width: 1.5;\"/><line style=\"stroke: #000000; stroke-width: 1.5;\" x1=\"16\" x2=\"146\" y1=\"28.2969\" y2=\"28.2969\"/><text fill=\"#000000\" font-family=\"sans-serif\" font-size=\"14\" font-weight=\"bold\" lengthAdjust=\"spacingAndGlyphs\" textLength=\"117\" x=\"20\" y=\"20.9951\">ParameterTest</text></a><!--MD5=[b4997ac47864f28c2f74865a473b2911]\n",
       "class E2--><a href=\"psysml:2f5789b5-3949-40b4-8579-f7414350119a\" target=\"_top\" title=\"psysml:2f5789b5-3949-40b4-8579-f7414350119a\" xlink:actuate=\"onRequest\" xlink:href=\"psysml:2f5789b5-3949-40b4-8579-f7414350119a\" xlink:show=\"new\" xlink:title=\"psysml:2f5789b5-3949-40b4-8579-f7414350119a\" xlink:type=\"simple\"><rect fill=\"#FFFFFF\" height=\"88.3516\" id=\"E2\" style=\"stroke: #383838; stroke-width: 1.5;\" width=\"95\" x=\"498.5\" y=\"164\"/><text fill=\"#000000\" font-family=\"sans-serif\" font-size=\"12\" font-style=\"italic\" lengthAdjust=\"spacingAndGlyphs\" textLength=\"93\" x=\"499.5\" y=\"180.1387\">«attribute def»</text><text fill=\"#000000\" font-family=\"sans-serif\" font-size=\"12\" lengthAdjust=\"spacingAndGlyphs\" textLength=\"8\" x=\"542\" y=\"194.1074\">A</text><line style=\"stroke: #383838; stroke-width: 1.5;\" x1=\"499.5\" x2=\"592.5\" y1=\"201.9375\" y2=\"201.9375\"/><text fill=\"#000000\" font-family=\"sans-serif\" font-size=\"11\" lengthAdjust=\"spacingAndGlyphs\" textLength=\"48\" x=\"504.5\" y=\"232.9526\">x: String</text><text fill=\"#000000\" font-family=\"sans-serif\" font-size=\"11\" lengthAdjust=\"spacingAndGlyphs\" textLength=\"21\" x=\"504.5\" y=\"245.7573\">y: A</text><line style=\"stroke: #383838; stroke-width: 1.0;\" x1=\"499.5\" x2=\"518.5\" y1=\"216.3398\" y2=\"216.3398\"/><text fill=\"#000000\" font-family=\"sans-serif\" font-size=\"11\" lengthAdjust=\"spacingAndGlyphs\" textLength=\"55\" x=\"518.5\" y=\"219.6479\">attributes</text><line style=\"stroke: #383838; stroke-width: 1.0;\" x1=\"573.5\" x2=\"592.5\" y1=\"216.3398\" y2=\"216.3398\"/></a><!--MD5=[09b614a08d8cba4a07c9adeb5e0fee81]\n",
       "class E3--><a href=\"psysml:02928bc4-0eb7-4367-aa3f-5ffb35356b49\" target=\"_top\" title=\"psysml:02928bc4-0eb7-4367-aa3f-5ffb35356b49\" xlink:actuate=\"onRequest\" xlink:href=\"psysml:02928bc4-0eb7-4367-aa3f-5ffb35356b49\" xlink:show=\"new\" xlink:title=\"psysml:02928bc4-0eb7-4367-aa3f-5ffb35356b49\" xlink:type=\"simple\"><rect fill=\"#FFFFFF\" height=\"45.9375\" id=\"E3\" rx=\"10\" ry=\"10\" style=\"stroke: #383838; stroke-width: 1.5;\" width=\"71\" x=\"600.5\" y=\"41\"/><text fill=\"#000000\" font-family=\"sans-serif\" font-size=\"12\" font-style=\"italic\" lengthAdjust=\"spacingAndGlyphs\" textLength=\"69\" x=\"601.5\" y=\"57.1387\">«attribute»</text><text fill=\"#000000\" font-family=\"sans-serif\" font-size=\"12\" lengthAdjust=\"spacingAndGlyphs\" textLength=\"24\" x=\"624\" y=\"71.1074\">a: A</text><line style=\"stroke: #383838; stroke-width: 1.5;\" x1=\"601.5\" x2=\"670.5\" y1=\"78.9375\" y2=\"78.9375\"/></a><!--MD5=[ebbe1d658d1005bcc118a6aa81145e00]\n",
       "class E4--><a href=\"psysml:de3210e5-068c-44a8-9828-b5930a13c3bb\" target=\"_top\" title=\"psysml:de3210e5-068c-44a8-9828-b5930a13c3bb\" xlink:actuate=\"onRequest\" xlink:href=\"psysml:de3210e5-068c-44a8-9828-b5930a13c3bb\" xlink:show=\"new\" xlink:title=\"psysml:de3210e5-068c-44a8-9828-b5930a13c3bb\" xlink:type=\"simple\"><rect fill=\"#FFFFFF\" height=\"45.9375\" id=\"E4\" style=\"stroke: #383838; stroke-width: 1.5;\" width=\"108\" x=\"457\" y=\"41\"/><text fill=\"#000000\" font-family=\"sans-serif\" font-size=\"12\" font-style=\"italic\" lengthAdjust=\"spacingAndGlyphs\" textLength=\"106\" x=\"458\" y=\"57.1387\">«calculation def»</text><text fill=\"#000000\" font-family=\"sans-serif\" font-size=\"12\" lengthAdjust=\"spacingAndGlyphs\" textLength=\"7\" x=\"507.5\" y=\"71.1074\">F</text><line style=\"stroke: #383838; stroke-width: 1.5;\" x1=\"458\" x2=\"564\" y1=\"78.9375\" y2=\"78.9375\"/></a><!--MD5=[270fce915f116d4de14055a7c1d9a0f3]\n",
       "class E5--><a href=\"psysml:8c3ddf1b-2d8e-48f9-8bd9-e07e4f9dde48\" target=\"_top\" title=\"psysml:8c3ddf1b-2d8e-48f9-8bd9-e07e4f9dde48\" xlink:actuate=\"onRequest\" xlink:href=\"psysml:8c3ddf1b-2d8e-48f9-8bd9-e07e4f9dde48\" xlink:show=\"new\" xlink:title=\"psysml:8c3ddf1b-2d8e-48f9-8bd9-e07e4f9dde48\" xlink:type=\"simple\"><rect fill=\"#FFFFFF\" height=\"45.9375\" id=\"E5\" rx=\"10\" ry=\"10\" style=\"stroke: #383838; stroke-width: 1.5;\" width=\"71\" x=\"350.5\" y=\"41\"/><text fill=\"#000000\" font-family=\"sans-serif\" font-size=\"12\" font-style=\"italic\" lengthAdjust=\"spacingAndGlyphs\" textLength=\"69\" x=\"351.5\" y=\"57.1387\">«attribute»</text><text fill=\"#000000\" font-family=\"sans-serif\" font-size=\"12\" lengthAdjust=\"spacingAndGlyphs\" textLength=\"4\" x=\"384\" y=\"71.1074\">f</text><line style=\"stroke: #383838; stroke-width: 1.5;\" x1=\"351.5\" x2=\"420.5\" y1=\"78.9375\" y2=\"78.9375\"/></a><!--MD5=[60a26617385b1d2d0262a64233df1f8d]\n",
       "class E6--><a href=\"psysml:1f38f371-1f52-4b01-a20c-3f08ced1218d\" target=\"_top\" title=\"psysml:1f38f371-1f52-4b01-a20c-3f08ced1218d\" xlink:actuate=\"onRequest\" xlink:href=\"psysml:1f38f371-1f52-4b01-a20c-3f08ced1218d\" xlink:show=\"new\" xlink:title=\"psysml:1f38f371-1f52-4b01-a20c-3f08ced1218d\" xlink:type=\"simple\"><rect fill=\"#FFFFFF\" height=\"45.9375\" id=\"E6\" rx=\"10\" ry=\"10\" style=\"stroke: #383838; stroke-width: 1.5;\" width=\"71\" x=\"244.5\" y=\"41\"/><text fill=\"#000000\" font-family=\"sans-serif\" font-size=\"12\" font-style=\"italic\" lengthAdjust=\"spacingAndGlyphs\" textLength=\"69\" x=\"245.5\" y=\"57.1387\">«attribute»</text><text fill=\"#000000\" font-family=\"sans-serif\" font-size=\"12\" lengthAdjust=\"spacingAndGlyphs\" textLength=\"8\" x=\"276\" y=\"71.1074\">g</text><line style=\"stroke: #383838; stroke-width: 1.5;\" x1=\"245.5\" x2=\"314.5\" y1=\"78.9375\" y2=\"78.9375\"/></a><!--MD5=[2156ba9850f5573cc1fc38a6a4b2f02b]\n",
       "class E7--><a href=\"psysml:cd4f641f-a9ce-41b8-9b9f-d9b0f89951b2\" target=\"_top\" title=\"psysml:cd4f641f-a9ce-41b8-9b9f-d9b0f89951b2\" xlink:actuate=\"onRequest\" xlink:href=\"psysml:cd4f641f-a9ce-41b8-9b9f-d9b0f89951b2\" xlink:show=\"new\" xlink:title=\"psysml:cd4f641f-a9ce-41b8-9b9f-d9b0f89951b2\" xlink:type=\"simple\"><rect fill=\"#FFFFFF\" height=\"45.9375\" id=\"E7\" rx=\"10\" ry=\"10\" style=\"stroke: #383838; stroke-width: 1.5;\" width=\"71\" x=\"138.5\" y=\"41\"/><text fill=\"#000000\" font-family=\"sans-serif\" font-size=\"12\" font-style=\"italic\" lengthAdjust=\"spacingAndGlyphs\" textLength=\"69\" x=\"139.5\" y=\"57.1387\">«attribute»</text><text fill=\"#000000\" font-family=\"sans-serif\" font-size=\"12\" lengthAdjust=\"spacingAndGlyphs\" textLength=\"8\" x=\"170\" y=\"71.1074\">b</text><line style=\"stroke: #383838; stroke-width: 1.5;\" x1=\"139.5\" x2=\"208.5\" y1=\"78.9375\" y2=\"78.9375\"/></a><!--MD5=[b9389687b975829384b498ac4b7476b2]\n",
       "class E8--><a href=\"psysml:5033f0bf-ffeb-4313-b85b-4258ec8a052c\" target=\"_top\" title=\"psysml:5033f0bf-ffeb-4313-b85b-4258ec8a052c\" xlink:actuate=\"onRequest\" xlink:href=\"psysml:5033f0bf-ffeb-4313-b85b-4258ec8a052c\" xlink:show=\"new\" xlink:title=\"psysml:5033f0bf-ffeb-4313-b85b-4258ec8a052c\" xlink:type=\"simple\"><rect fill=\"#FFFFFF\" height=\"45.9375\" id=\"E8\" rx=\"10\" ry=\"10\" style=\"stroke: #383838; stroke-width: 1.5;\" width=\"71\" x=\"32.5\" y=\"41\"/><text fill=\"#000000\" font-family=\"sans-serif\" font-size=\"12\" font-style=\"italic\" lengthAdjust=\"spacingAndGlyphs\" textLength=\"69\" x=\"33.5\" y=\"57.1387\">«attribute»</text><text fill=\"#000000\" font-family=\"sans-serif\" font-size=\"12\" lengthAdjust=\"spacingAndGlyphs\" textLength=\"7\" x=\"64.5\" y=\"71.1074\">c</text><line style=\"stroke: #383838; stroke-width: 1.5;\" x1=\"33.5\" x2=\"102.5\" y1=\"78.9375\" y2=\"78.9375\"/></a><!--MD5=[05d275557350bfb9b23a4ef7222b4c39]\n",
       "link E3 to E2--><a href=\"psysml:94762400-f967-4f4d-9ae0-7f515d54317a\" target=\"_top\" title=\"psysml:94762400-f967-4f4d-9ae0-7f515d54317a\" xlink:actuate=\"onRequest\" xlink:href=\"psysml:94762400-f967-4f4d-9ae0-7f515d54317a\" xlink:show=\"new\" xlink:title=\"psysml:94762400-f967-4f4d-9ae0-7f515d54317a\" xlink:type=\"simple\"><path d=\"M621.94,87.19 C611.77,103.23 597.51,125.73 584.09,146.9 \" fill=\"none\" id=\"E3-&gt;E2\" style=\"stroke: #383838; stroke-width: 1.0;\"/><polygon fill=\"#FFFFFF\" points=\"573.37,163.82,577.6195,144.0225,589.448,151.5115,573.37,163.82\" style=\"stroke: #383838; stroke-width: 1.0;\"/><ellipse cx=\"582.3584\" cy=\"140.2764\" fill=\"#383838\" rx=\"2\" ry=\"2\" style=\"stroke: #383838; stroke-width: 1.0;\"/><ellipse cx=\"590.8073\" cy=\"145.6258\" fill=\"#383838\" rx=\"2\" ry=\"2\" style=\"stroke: #383838; stroke-width: 1.0;\"/></a><!--MD5=[ddeed8deb2209213b62e6cfabaa108b2]\n",
       "reverse link E4 to E2--><a href=\"psysml:6f03e5ff-f747-4209-970e-6a43677acfe5\" target=\"_top\" title=\"psysml:6f03e5ff-f747-4209-970e-6a43677acfe5\" xlink:actuate=\"onRequest\" xlink:href=\"psysml:6f03e5ff-f747-4209-970e-6a43677acfe5\" xlink:show=\"new\" xlink:title=\"psysml:6f03e5ff-f747-4209-970e-6a43677acfe5\" xlink:type=\"simple\"><path d=\"M519.62,99.96 C524.37,119.25 530.31,143.36 535.36,163.82 \" fill=\"none\" id=\"E4&lt;-E2\" style=\"stroke: #383838; stroke-width: 1.0;\"/><polygon fill=\"#FFFFFF\" points=\"516.47,87.19,514.0229,93.9732,519.3432,98.841,521.7903,92.0577,516.47,87.19\" style=\"stroke: #383838; stroke-width: 1.0;\"/><text fill=\"#000000\" font-family=\"sans-serif\" font-size=\"13\" lengthAdjust=\"spacingAndGlyphs\" textLength=\"8\" x=\"528\" y=\"130.0669\">p</text></a><!--MD5=[5374ceec296973284710a7a1e1804d11]\n",
       "@startuml\r\n",
       " skinparam monochrome true\r\n",
       "skinparam classbackgroundcolor white\r\n",
       "skinparam shadowing false\r\n",
       "skinparam wrapWidth 300\r\n",
       "hide circle\r\n",
       "\r\n",
       "package \"ParameterTest\" as E1  [[psysml:88bd93f8-a024-442a-9349-d26cb2f873a0 ]]  {\r\n",
       "comp def \"A\" as E2  <<(T,blue)attribute def>> [[psysml:2f5789b5-3949-40b4-8579-f7414350119a ]] {\r\n",
       "- - attributes - -\r\n",
       "x: String\r\n",
       "y: A\r\n",
       "}\r\n",
       "comp usage \"a: A\" as E3  <<(T,blue)attribute>> [[psysml:02928bc4-0eb7-4367-aa3f-5ffb35356b49 ]] {\r\n",
       "}\r\n",
       "comp def \"F\" as E4  <<(T,blue)calculation def>> [[psysml:de3210e5-068c-44a8-9828-b5930a13c3bb ]] {\r\n",
       "}\r\n",
       "comp usage \"f\" as E5  <<(T,blue)attribute>> [[psysml:8c3ddf1b-2d8e-48f9-8bd9-e07e4f9dde48 ]] {\r\n",
       "}\r\n",
       "comp usage \"g\" as E6  <<(T,blue)attribute>> [[psysml:1f38f371-1f52-4b01-a20c-3f08ced1218d ]] {\r\n",
       "}\r\n",
       "comp usage \"b\" as E7  <<(T,blue)attribute>> [[psysml:cd4f641f-a9ce-41b8-9b9f-d9b0f89951b2 ]] {\r\n",
       "}\r\n",
       "comp usage \"c\" as E8  <<(T,blue)attribute>> [[psysml:5033f0bf-ffeb-4313-b85b-4258ec8a052c ]] {\r\n",
       "}\r\n",
       "E3 - -:|> E2 [[psysml:94762400-f967-4f4d-9ae0-7f515d54317a ]] \r\n",
       "E4 o- - E2 [[psysml:6f03e5ff-f747-4209-970e-6a43677acfe5 ]] : p\r\n",
       "}\r\n",
       "@enduml\r\n",
       "\n",
       "PlantUML version 1.2020.13(Sat Jun 13 12:26:38 UTC 2020)\n",
       "(EPL source distribution)\n",
       "Java Runtime: OpenJDK Runtime Environment\n",
       "JVM: OpenJDK 64-Bit Server VM\n",
       "Default Encoding: UTF-8\n",
       "Language: en\n",
       "Country: null\n",
       "--></g></svg>"
      ]
     },
     "execution_count": 7,
     "metadata": {},
     "output_type": "execute_result"
    }
   ],
   "source": [
    "%viz --style=\"COMPTREE\" --view=\"Sequence\" \"ParameterTest\""
   ]
  },
  {
   "cell_type": "code",
   "execution_count": 8,
   "id": "incident-lyric",
   "metadata": {
    "execution": {
     "iopub.execute_input": "2021-03-26T13:01:39.708402Z",
     "iopub.status.busy": "2021-03-26T13:01:39.708066Z",
     "iopub.status.idle": "2021-03-26T13:01:39.774963Z",
     "shell.execute_reply": "2021-03-26T13:01:39.775288Z"
    }
   },
   "outputs": [
    {
     "data": {
      "image/svg+xml": [
       "<?xml version=\"1.0\" encoding=\"UTF-8\" standalone=\"no\"?><svg xmlns=\"http://www.w3.org/2000/svg\" xmlns:xlink=\"http://www.w3.org/1999/xlink\" contentScriptType=\"application/ecmascript\" contentStyleType=\"text/css\" height=\"263px\" preserveAspectRatio=\"none\" style=\"width:740px;height:263px;\" version=\"1.1\" viewBox=\"0 0 740 263\" width=\"740px\" zoomAndPan=\"magnify\"><defs/><g><!--MD5=[fbc87193dbaf4d95561dea2c320d4a47]\n",
       "cluster E1--><a href=\"psysml:88bd93f8-a024-442a-9349-d26cb2f873a0\" target=\"_top\" title=\"psysml:88bd93f8-a024-442a-9349-d26cb2f873a0\" xlink:actuate=\"onRequest\" xlink:href=\"psysml:88bd93f8-a024-442a-9349-d26cb2f873a0\" xlink:show=\"new\" xlink:title=\"psysml:88bd93f8-a024-442a-9349-d26cb2f873a0\" xlink:type=\"simple\"><polygon fill=\"#FFFFFF\" points=\"16,6,139,6,146,28.2969,718,28.2969,718,251,16,251,16,6\" style=\"stroke: #000000; stroke-width: 1.5;\"/><line style=\"stroke: #000000; stroke-width: 1.5;\" x1=\"16\" x2=\"146\" y1=\"28.2969\" y2=\"28.2969\"/><text fill=\"#000000\" font-family=\"sans-serif\" font-size=\"14\" font-weight=\"bold\" lengthAdjust=\"spacingAndGlyphs\" textLength=\"117\" x=\"20\" y=\"20.9951\">ParameterTest</text></a><!--MD5=[f6df4d0ebaf0b5dfb2ced0ae5af7c670]\n",
       "cluster E4--><a href=\"psysml:de3210e5-068c-44a8-9828-b5930a13c3bb\" target=\"_top\" title=\"psysml:de3210e5-068c-44a8-9828-b5930a13c3bb\" xlink:actuate=\"onRequest\" xlink:href=\"psysml:de3210e5-068c-44a8-9828-b5930a13c3bb\" xlink:show=\"new\" xlink:title=\"psysml:de3210e5-068c-44a8-9828-b5930a13c3bb\" xlink:type=\"simple\"><rect fill=\"#FFFFFF\" height=\"160.5\" id=\"E4\" style=\"stroke: #383838; stroke-width: 1.5;\" width=\"148\" x=\"554\" y=\"64\"/><rect fill=\"#F8F8F8\" height=\"37.9375\" style=\"stroke: #383838; stroke-width: 1.5;\" width=\"148\" x=\"554\" y=\"64\"/><text fill=\"#000000\" font-family=\"sans-serif\" font-size=\"12\" font-style=\"italic\" lengthAdjust=\"spacingAndGlyphs\" textLength=\"106\" x=\"575\" y=\"80.1387\">«calculation def»</text><text fill=\"#000000\" font-family=\"sans-serif\" font-size=\"12\" lengthAdjust=\"spacingAndGlyphs\" textLength=\"7\" x=\"624.5\" y=\"94.1074\">F</text></a><!--MD5=[b4997ac47864f28c2f74865a473b2911]\n",
       "class E2--><a href=\"psysml:2f5789b5-3949-40b4-8579-f7414350119a\" target=\"_top\" title=\"psysml:2f5789b5-3949-40b4-8579-f7414350119a\" xlink:actuate=\"onRequest\" xlink:href=\"psysml:2f5789b5-3949-40b4-8579-f7414350119a\" xlink:show=\"new\" xlink:title=\"psysml:2f5789b5-3949-40b4-8579-f7414350119a\" xlink:type=\"simple\"><rect fill=\"#FFFFFF\" height=\"88.3516\" id=\"E2\" style=\"stroke: #383838; stroke-width: 1.5;\" width=\"95\" x=\"422.5\" y=\"147\"/><text fill=\"#000000\" font-family=\"sans-serif\" font-size=\"12\" font-style=\"italic\" lengthAdjust=\"spacingAndGlyphs\" textLength=\"93\" x=\"423.5\" y=\"163.1387\">«attribute def»</text><text fill=\"#000000\" font-family=\"sans-serif\" font-size=\"12\" lengthAdjust=\"spacingAndGlyphs\" textLength=\"8\" x=\"466\" y=\"177.1074\">A</text><line style=\"stroke: #383838; stroke-width: 1.5;\" x1=\"423.5\" x2=\"516.5\" y1=\"184.9375\" y2=\"184.9375\"/><text fill=\"#000000\" font-family=\"sans-serif\" font-size=\"11\" lengthAdjust=\"spacingAndGlyphs\" textLength=\"48\" x=\"428.5\" y=\"215.9526\">x: String</text><text fill=\"#000000\" font-family=\"sans-serif\" font-size=\"11\" lengthAdjust=\"spacingAndGlyphs\" textLength=\"21\" x=\"428.5\" y=\"228.7573\">y: A</text><line style=\"stroke: #383838; stroke-width: 1.0;\" x1=\"423.5\" x2=\"442.5\" y1=\"199.3398\" y2=\"199.3398\"/><text fill=\"#000000\" font-family=\"sans-serif\" font-size=\"11\" lengthAdjust=\"spacingAndGlyphs\" textLength=\"55\" x=\"442.5\" y=\"202.6479\">attributes</text><line style=\"stroke: #383838; stroke-width: 1.0;\" x1=\"497.5\" x2=\"516.5\" y1=\"199.3398\" y2=\"199.3398\"/></a><!--MD5=[09b614a08d8cba4a07c9adeb5e0fee81]\n",
       "class E3--><a href=\"psysml:02928bc4-0eb7-4367-aa3f-5ffb35356b49\" target=\"_top\" title=\"psysml:02928bc4-0eb7-4367-aa3f-5ffb35356b49\" xlink:actuate=\"onRequest\" xlink:href=\"psysml:02928bc4-0eb7-4367-aa3f-5ffb35356b49\" xlink:show=\"new\" xlink:title=\"psysml:02928bc4-0eb7-4367-aa3f-5ffb35356b49\" xlink:type=\"simple\"><rect fill=\"#FFFFFF\" height=\"45.9375\" id=\"E3\" rx=\"10\" ry=\"10\" style=\"stroke: #383838; stroke-width: 1.5;\" width=\"71\" x=\"456.5\" y=\"41\"/><text fill=\"#000000\" font-family=\"sans-serif\" font-size=\"12\" font-style=\"italic\" lengthAdjust=\"spacingAndGlyphs\" textLength=\"69\" x=\"457.5\" y=\"57.1387\">«attribute»</text><text fill=\"#000000\" font-family=\"sans-serif\" font-size=\"12\" lengthAdjust=\"spacingAndGlyphs\" textLength=\"24\" x=\"480\" y=\"71.1074\">a: A</text><line style=\"stroke: #383838; stroke-width: 1.5;\" x1=\"457.5\" x2=\"526.5\" y1=\"78.9375\" y2=\"78.9375\"/></a><!--MD5=[2156ba9850f5573cc1fc38a6a4b2f02b]\n",
       "class E7--><a href=\"psysml:8c3ddf1b-2d8e-48f9-8bd9-e07e4f9dde48\" target=\"_top\" title=\"psysml:8c3ddf1b-2d8e-48f9-8bd9-e07e4f9dde48\" xlink:actuate=\"onRequest\" xlink:href=\"psysml:8c3ddf1b-2d8e-48f9-8bd9-e07e4f9dde48\" xlink:show=\"new\" xlink:title=\"psysml:8c3ddf1b-2d8e-48f9-8bd9-e07e4f9dde48\" xlink:type=\"simple\"><rect fill=\"#FFFFFF\" height=\"45.9375\" id=\"E7\" rx=\"10\" ry=\"10\" style=\"stroke: #383838; stroke-width: 1.5;\" width=\"71\" x=\"350.5\" y=\"41\"/><text fill=\"#000000\" font-family=\"sans-serif\" font-size=\"12\" font-style=\"italic\" lengthAdjust=\"spacingAndGlyphs\" textLength=\"69\" x=\"351.5\" y=\"57.1387\">«attribute»</text><text fill=\"#000000\" font-family=\"sans-serif\" font-size=\"12\" lengthAdjust=\"spacingAndGlyphs\" textLength=\"4\" x=\"384\" y=\"71.1074\">f</text><line style=\"stroke: #383838; stroke-width: 1.5;\" x1=\"351.5\" x2=\"420.5\" y1=\"78.9375\" y2=\"78.9375\"/></a><!--MD5=[b9389687b975829384b498ac4b7476b2]\n",
       "class E8--><a href=\"psysml:1f38f371-1f52-4b01-a20c-3f08ced1218d\" target=\"_top\" title=\"psysml:1f38f371-1f52-4b01-a20c-3f08ced1218d\" xlink:actuate=\"onRequest\" xlink:href=\"psysml:1f38f371-1f52-4b01-a20c-3f08ced1218d\" xlink:show=\"new\" xlink:title=\"psysml:1f38f371-1f52-4b01-a20c-3f08ced1218d\" xlink:type=\"simple\"><rect fill=\"#FFFFFF\" height=\"45.9375\" id=\"E8\" rx=\"10\" ry=\"10\" style=\"stroke: #383838; stroke-width: 1.5;\" width=\"71\" x=\"244.5\" y=\"41\"/><text fill=\"#000000\" font-family=\"sans-serif\" font-size=\"12\" font-style=\"italic\" lengthAdjust=\"spacingAndGlyphs\" textLength=\"69\" x=\"245.5\" y=\"57.1387\">«attribute»</text><text fill=\"#000000\" font-family=\"sans-serif\" font-size=\"12\" lengthAdjust=\"spacingAndGlyphs\" textLength=\"8\" x=\"276\" y=\"71.1074\">g</text><line style=\"stroke: #383838; stroke-width: 1.5;\" x1=\"245.5\" x2=\"314.5\" y1=\"78.9375\" y2=\"78.9375\"/></a><!--MD5=[fd4143e9d270a159db93a4ea2a975926]\n",
       "class E9--><a href=\"psysml:cd4f641f-a9ce-41b8-9b9f-d9b0f89951b2\" target=\"_top\" title=\"psysml:cd4f641f-a9ce-41b8-9b9f-d9b0f89951b2\" xlink:actuate=\"onRequest\" xlink:href=\"psysml:cd4f641f-a9ce-41b8-9b9f-d9b0f89951b2\" xlink:show=\"new\" xlink:title=\"psysml:cd4f641f-a9ce-41b8-9b9f-d9b0f89951b2\" xlink:type=\"simple\"><rect fill=\"#FFFFFF\" height=\"45.9375\" id=\"E9\" rx=\"10\" ry=\"10\" style=\"stroke: #383838; stroke-width: 1.5;\" width=\"71\" x=\"138.5\" y=\"41\"/><text fill=\"#000000\" font-family=\"sans-serif\" font-size=\"12\" font-style=\"italic\" lengthAdjust=\"spacingAndGlyphs\" textLength=\"69\" x=\"139.5\" y=\"57.1387\">«attribute»</text><text fill=\"#000000\" font-family=\"sans-serif\" font-size=\"12\" lengthAdjust=\"spacingAndGlyphs\" textLength=\"8\" x=\"170\" y=\"71.1074\">b</text><line style=\"stroke: #383838; stroke-width: 1.5;\" x1=\"139.5\" x2=\"208.5\" y1=\"78.9375\" y2=\"78.9375\"/></a><!--MD5=[96f4274e9e20536e775497830990834d]\n",
       "class E10--><a href=\"psysml:5033f0bf-ffeb-4313-b85b-4258ec8a052c\" target=\"_top\" title=\"psysml:5033f0bf-ffeb-4313-b85b-4258ec8a052c\" xlink:actuate=\"onRequest\" xlink:href=\"psysml:5033f0bf-ffeb-4313-b85b-4258ec8a052c\" xlink:show=\"new\" xlink:title=\"psysml:5033f0bf-ffeb-4313-b85b-4258ec8a052c\" xlink:type=\"simple\"><rect fill=\"#FFFFFF\" height=\"45.9375\" id=\"E10\" rx=\"10\" ry=\"10\" style=\"stroke: #383838; stroke-width: 1.5;\" width=\"71\" x=\"32.5\" y=\"41\"/><text fill=\"#000000\" font-family=\"sans-serif\" font-size=\"12\" font-style=\"italic\" lengthAdjust=\"spacingAndGlyphs\" textLength=\"69\" x=\"33.5\" y=\"57.1387\">«attribute»</text><text fill=\"#000000\" font-family=\"sans-serif\" font-size=\"12\" lengthAdjust=\"spacingAndGlyphs\" textLength=\"7\" x=\"64.5\" y=\"71.1074\">c</text><line style=\"stroke: #383838; stroke-width: 1.5;\" x1=\"33.5\" x2=\"102.5\" y1=\"78.9375\" y2=\"78.9375\"/></a><text fill=\"#000000\" font-family=\"sans-serif\" font-size=\"14\" lengthAdjust=\"spacingAndGlyphs\" textLength=\"9\" x=\"567.5\" y=\"42.6982\">p</text><rect fill=\"#383838\" height=\"12\" style=\"stroke: #F8F8F8; stroke-width: 1.5;\" width=\"12\" x=\"566\" y=\"58\"/><text fill=\"#000000\" font-family=\"sans-serif\" font-size=\"14\" lengthAdjust=\"spacingAndGlyphs\" textLength=\"9\" x=\"614.5\" y=\"42.6982\">q</text><rect fill=\"#383838\" height=\"12\" style=\"stroke: #F8F8F8; stroke-width: 1.5;\" width=\"12\" x=\"613\" y=\"58\"/><!--MD5=[05d275557350bfb9b23a4ef7222b4c39]\n",
       "link E3 to E2--><a href=\"psysml:94762400-f967-4f4d-9ae0-7f515d54317a\" target=\"_top\" title=\"psysml:94762400-f967-4f4d-9ae0-7f515d54317a\" xlink:actuate=\"onRequest\" xlink:href=\"psysml:94762400-f967-4f4d-9ae0-7f515d54317a\" xlink:show=\"new\" xlink:title=\"psysml:94762400-f967-4f4d-9ae0-7f515d54317a\" xlink:type=\"simple\"><path d=\"M488.12,87.06 C486.14,98.3 483.62,112.6 481.1,126.95 \" fill=\"none\" id=\"E3-&gt;E2\" style=\"stroke: #383838; stroke-width: 1.0;\"/><polygon fill=\"#FFFFFF\" points=\"477.58,146.93,473.9835,127.0035,487.7711,129.4331,477.58,146.93\" style=\"stroke: #383838; stroke-width: 1.0;\"/><ellipse cx=\"476.9423\" cy=\"121.7371\" fill=\"#383838\" rx=\"2\" ry=\"2\" style=\"stroke: #383838; stroke-width: 1.0;\"/><ellipse cx=\"486.7906\" cy=\"123.4725\" fill=\"#383838\" rx=\"2\" ry=\"2\" style=\"stroke: #383838; stroke-width: 1.0;\"/></a><!--MD5=[e377dacf3f29bafa8af2659e71d02be0]\n",
       "@startuml\r\n",
       " skinparam monochrome true\r\n",
       "skinparam classbackgroundcolor white\r\n",
       "skinparam shadowing false\r\n",
       "skinparam wrapWidth 300\r\n",
       "hide circle\r\n",
       "\r\n",
       "package \"ParameterTest\" as E1  [[psysml:88bd93f8-a024-442a-9349-d26cb2f873a0 ]]  {\r\n",
       "comp def \"A\" as E2  <<(T,blue)attribute def>> [[psysml:2f5789b5-3949-40b4-8579-f7414350119a ]] {\r\n",
       "- - attributes - -\r\n",
       "x: String\r\n",
       "y: A\r\n",
       "}\r\n",
       "comp usage \"a: A\" as E3  <<(T,blue)attribute>> [[psysml:02928bc4-0eb7-4367-aa3f-5ffb35356b49 ]] {\r\n",
       "}\r\n",
       "rec def \"F\" as E4  <<(T,blue)calculation def>> [[psysml:de3210e5-068c-44a8-9828-b5930a13c3bb ]] {\r\n",
       "portin \"p\" as E5  [[psysml:6f03e5ff-f747-4209-970e-6a43677acfe5 ]] \r\n",
       "portin \"q\" as E6  [[psysml:59b46d55-27e2-4503-b58c-744d75cefff1 ]] \r\n",
       "}\r\n",
       "\r\n",
       "comp usage \"f\" as E7  <<(T,blue)attribute>> [[psysml:8c3ddf1b-2d8e-48f9-8bd9-e07e4f9dde48 ]] {\r\n",
       "}\r\n",
       "comp usage \"g\" as E8  <<(T,blue)attribute>> [[psysml:1f38f371-1f52-4b01-a20c-3f08ced1218d ]] {\r\n",
       "}\r\n",
       "comp usage \"b\" as E9  <<(T,blue)attribute>> [[psysml:cd4f641f-a9ce-41b8-9b9f-d9b0f89951b2 ]] {\r\n",
       "}\r\n",
       "comp usage \"c\" as E10  <<(T,blue)attribute>> [[psysml:5033f0bf-ffeb-4313-b85b-4258ec8a052c ]] {\r\n",
       "}\r\n",
       "E3 - -:|> E2 [[psysml:94762400-f967-4f4d-9ae0-7f515d54317a ]] \r\n",
       "}\r\n",
       "@enduml\r\n",
       "\n",
       "PlantUML version 1.2020.13(Sat Jun 13 12:26:38 UTC 2020)\n",
       "(EPL source distribution)\n",
       "Java Runtime: OpenJDK Runtime Environment\n",
       "JVM: OpenJDK 64-Bit Server VM\n",
       "Default Encoding: UTF-8\n",
       "Language: en\n",
       "Country: null\n",
       "--></g></svg>"
      ]
     },
     "execution_count": 8,
     "metadata": {},
     "output_type": "execute_result"
    }
   ],
   "source": [
    "%viz --style=\"COMPTREE\" --view=\"MIXED\" \"ParameterTest\""
   ]
  },
  {
   "cell_type": "code",
   "execution_count": 9,
   "id": "provincial-means",
   "metadata": {
    "execution": {
     "iopub.execute_input": "2021-03-26T13:01:39.827952Z",
     "iopub.status.busy": "2021-03-26T13:01:39.827121Z",
     "iopub.status.idle": "2021-03-26T13:01:39.894320Z",
     "shell.execute_reply": "2021-03-26T13:01:39.894684Z"
    }
   },
   "outputs": [
    {
     "data": {
      "image/svg+xml": [
       "<?xml version=\"1.0\" encoding=\"UTF-8\" standalone=\"no\"?><svg xmlns=\"http://www.w3.org/2000/svg\" xmlns:xlink=\"http://www.w3.org/1999/xlink\" contentScriptType=\"application/ecmascript\" contentStyleType=\"text/css\" height=\"263px\" preserveAspectRatio=\"none\" style=\"width:740px;height:263px;\" version=\"1.1\" viewBox=\"0 0 740 263\" width=\"740px\" zoomAndPan=\"magnify\"><defs/><g><!--MD5=[fbc87193dbaf4d95561dea2c320d4a47]\n",
       "cluster E1--><a href=\"psysml:88bd93f8-a024-442a-9349-d26cb2f873a0\" target=\"_top\" title=\"psysml:88bd93f8-a024-442a-9349-d26cb2f873a0\" xlink:actuate=\"onRequest\" xlink:href=\"psysml:88bd93f8-a024-442a-9349-d26cb2f873a0\" xlink:show=\"new\" xlink:title=\"psysml:88bd93f8-a024-442a-9349-d26cb2f873a0\" xlink:type=\"simple\"><polygon fill=\"#FFFFFF\" points=\"16,6,139,6,146,28.2969,718,28.2969,718,251,16,251,16,6\" style=\"stroke: #000000; stroke-width: 1.5;\"/><line style=\"stroke: #000000; stroke-width: 1.5;\" x1=\"16\" x2=\"146\" y1=\"28.2969\" y2=\"28.2969\"/><text fill=\"#000000\" font-family=\"sans-serif\" font-size=\"14\" font-weight=\"bold\" lengthAdjust=\"spacingAndGlyphs\" textLength=\"117\" x=\"20\" y=\"20.9951\">ParameterTest</text></a><!--MD5=[f6df4d0ebaf0b5dfb2ced0ae5af7c670]\n",
       "cluster E4--><a href=\"psysml:de3210e5-068c-44a8-9828-b5930a13c3bb\" target=\"_top\" title=\"psysml:de3210e5-068c-44a8-9828-b5930a13c3bb\" xlink:actuate=\"onRequest\" xlink:href=\"psysml:de3210e5-068c-44a8-9828-b5930a13c3bb\" xlink:show=\"new\" xlink:title=\"psysml:de3210e5-068c-44a8-9828-b5930a13c3bb\" xlink:type=\"simple\"><rect fill=\"#FFFFFF\" height=\"160.5\" id=\"E4\" style=\"stroke: #383838; stroke-width: 1.5;\" width=\"148\" x=\"554\" y=\"64\"/><rect fill=\"#F8F8F8\" height=\"37.9375\" style=\"stroke: #383838; stroke-width: 1.5;\" width=\"148\" x=\"554\" y=\"64\"/><text fill=\"#000000\" font-family=\"sans-serif\" font-size=\"12\" font-style=\"italic\" lengthAdjust=\"spacingAndGlyphs\" textLength=\"106\" x=\"575\" y=\"80.1387\">«calculation def»</text><text fill=\"#000000\" font-family=\"sans-serif\" font-size=\"12\" lengthAdjust=\"spacingAndGlyphs\" textLength=\"7\" x=\"624.5\" y=\"94.1074\">F</text></a><!--MD5=[b4997ac47864f28c2f74865a473b2911]\n",
       "class E2--><a href=\"psysml:2f5789b5-3949-40b4-8579-f7414350119a\" target=\"_top\" title=\"psysml:2f5789b5-3949-40b4-8579-f7414350119a\" xlink:actuate=\"onRequest\" xlink:href=\"psysml:2f5789b5-3949-40b4-8579-f7414350119a\" xlink:show=\"new\" xlink:title=\"psysml:2f5789b5-3949-40b4-8579-f7414350119a\" xlink:type=\"simple\"><rect fill=\"#FFFFFF\" height=\"88.3516\" id=\"E2\" style=\"stroke: #383838; stroke-width: 1.5;\" width=\"95\" x=\"422.5\" y=\"147\"/><text fill=\"#000000\" font-family=\"sans-serif\" font-size=\"12\" font-style=\"italic\" lengthAdjust=\"spacingAndGlyphs\" textLength=\"93\" x=\"423.5\" y=\"163.1387\">«attribute def»</text><text fill=\"#000000\" font-family=\"sans-serif\" font-size=\"12\" lengthAdjust=\"spacingAndGlyphs\" textLength=\"8\" x=\"466\" y=\"177.1074\">A</text><line style=\"stroke: #383838; stroke-width: 1.5;\" x1=\"423.5\" x2=\"516.5\" y1=\"184.9375\" y2=\"184.9375\"/><text fill=\"#000000\" font-family=\"sans-serif\" font-size=\"11\" lengthAdjust=\"spacingAndGlyphs\" textLength=\"48\" x=\"428.5\" y=\"215.9526\">x: String</text><text fill=\"#000000\" font-family=\"sans-serif\" font-size=\"11\" lengthAdjust=\"spacingAndGlyphs\" textLength=\"21\" x=\"428.5\" y=\"228.7573\">y: A</text><line style=\"stroke: #383838; stroke-width: 1.0;\" x1=\"423.5\" x2=\"442.5\" y1=\"199.3398\" y2=\"199.3398\"/><text fill=\"#000000\" font-family=\"sans-serif\" font-size=\"11\" lengthAdjust=\"spacingAndGlyphs\" textLength=\"55\" x=\"442.5\" y=\"202.6479\">attributes</text><line style=\"stroke: #383838; stroke-width: 1.0;\" x1=\"497.5\" x2=\"516.5\" y1=\"199.3398\" y2=\"199.3398\"/></a><!--MD5=[09b614a08d8cba4a07c9adeb5e0fee81]\n",
       "class E3--><a href=\"psysml:02928bc4-0eb7-4367-aa3f-5ffb35356b49\" target=\"_top\" title=\"psysml:02928bc4-0eb7-4367-aa3f-5ffb35356b49\" xlink:actuate=\"onRequest\" xlink:href=\"psysml:02928bc4-0eb7-4367-aa3f-5ffb35356b49\" xlink:show=\"new\" xlink:title=\"psysml:02928bc4-0eb7-4367-aa3f-5ffb35356b49\" xlink:type=\"simple\"><rect fill=\"#FFFFFF\" height=\"45.9375\" id=\"E3\" rx=\"10\" ry=\"10\" style=\"stroke: #383838; stroke-width: 1.5;\" width=\"71\" x=\"456.5\" y=\"41\"/><text fill=\"#000000\" font-family=\"sans-serif\" font-size=\"12\" font-style=\"italic\" lengthAdjust=\"spacingAndGlyphs\" textLength=\"69\" x=\"457.5\" y=\"57.1387\">«attribute»</text><text fill=\"#000000\" font-family=\"sans-serif\" font-size=\"12\" lengthAdjust=\"spacingAndGlyphs\" textLength=\"24\" x=\"480\" y=\"71.1074\">a: A</text><line style=\"stroke: #383838; stroke-width: 1.5;\" x1=\"457.5\" x2=\"526.5\" y1=\"78.9375\" y2=\"78.9375\"/></a><!--MD5=[2156ba9850f5573cc1fc38a6a4b2f02b]\n",
       "class E7--><a href=\"psysml:8c3ddf1b-2d8e-48f9-8bd9-e07e4f9dde48\" target=\"_top\" title=\"psysml:8c3ddf1b-2d8e-48f9-8bd9-e07e4f9dde48\" xlink:actuate=\"onRequest\" xlink:href=\"psysml:8c3ddf1b-2d8e-48f9-8bd9-e07e4f9dde48\" xlink:show=\"new\" xlink:title=\"psysml:8c3ddf1b-2d8e-48f9-8bd9-e07e4f9dde48\" xlink:type=\"simple\"><rect fill=\"#FFFFFF\" height=\"45.9375\" id=\"E7\" rx=\"10\" ry=\"10\" style=\"stroke: #383838; stroke-width: 1.5;\" width=\"71\" x=\"350.5\" y=\"41\"/><text fill=\"#000000\" font-family=\"sans-serif\" font-size=\"12\" font-style=\"italic\" lengthAdjust=\"spacingAndGlyphs\" textLength=\"69\" x=\"351.5\" y=\"57.1387\">«attribute»</text><text fill=\"#000000\" font-family=\"sans-serif\" font-size=\"12\" lengthAdjust=\"spacingAndGlyphs\" textLength=\"4\" x=\"384\" y=\"71.1074\">f</text><line style=\"stroke: #383838; stroke-width: 1.5;\" x1=\"351.5\" x2=\"420.5\" y1=\"78.9375\" y2=\"78.9375\"/></a><!--MD5=[b9389687b975829384b498ac4b7476b2]\n",
       "class E8--><a href=\"psysml:1f38f371-1f52-4b01-a20c-3f08ced1218d\" target=\"_top\" title=\"psysml:1f38f371-1f52-4b01-a20c-3f08ced1218d\" xlink:actuate=\"onRequest\" xlink:href=\"psysml:1f38f371-1f52-4b01-a20c-3f08ced1218d\" xlink:show=\"new\" xlink:title=\"psysml:1f38f371-1f52-4b01-a20c-3f08ced1218d\" xlink:type=\"simple\"><rect fill=\"#FFFFFF\" height=\"45.9375\" id=\"E8\" rx=\"10\" ry=\"10\" style=\"stroke: #383838; stroke-width: 1.5;\" width=\"71\" x=\"244.5\" y=\"41\"/><text fill=\"#000000\" font-family=\"sans-serif\" font-size=\"12\" font-style=\"italic\" lengthAdjust=\"spacingAndGlyphs\" textLength=\"69\" x=\"245.5\" y=\"57.1387\">«attribute»</text><text fill=\"#000000\" font-family=\"sans-serif\" font-size=\"12\" lengthAdjust=\"spacingAndGlyphs\" textLength=\"8\" x=\"276\" y=\"71.1074\">g</text><line style=\"stroke: #383838; stroke-width: 1.5;\" x1=\"245.5\" x2=\"314.5\" y1=\"78.9375\" y2=\"78.9375\"/></a><!--MD5=[fd4143e9d270a159db93a4ea2a975926]\n",
       "class E9--><a href=\"psysml:cd4f641f-a9ce-41b8-9b9f-d9b0f89951b2\" target=\"_top\" title=\"psysml:cd4f641f-a9ce-41b8-9b9f-d9b0f89951b2\" xlink:actuate=\"onRequest\" xlink:href=\"psysml:cd4f641f-a9ce-41b8-9b9f-d9b0f89951b2\" xlink:show=\"new\" xlink:title=\"psysml:cd4f641f-a9ce-41b8-9b9f-d9b0f89951b2\" xlink:type=\"simple\"><rect fill=\"#FFFFFF\" height=\"45.9375\" id=\"E9\" rx=\"10\" ry=\"10\" style=\"stroke: #383838; stroke-width: 1.5;\" width=\"71\" x=\"138.5\" y=\"41\"/><text fill=\"#000000\" font-family=\"sans-serif\" font-size=\"12\" font-style=\"italic\" lengthAdjust=\"spacingAndGlyphs\" textLength=\"69\" x=\"139.5\" y=\"57.1387\">«attribute»</text><text fill=\"#000000\" font-family=\"sans-serif\" font-size=\"12\" lengthAdjust=\"spacingAndGlyphs\" textLength=\"8\" x=\"170\" y=\"71.1074\">b</text><line style=\"stroke: #383838; stroke-width: 1.5;\" x1=\"139.5\" x2=\"208.5\" y1=\"78.9375\" y2=\"78.9375\"/></a><!--MD5=[96f4274e9e20536e775497830990834d]\n",
       "class E10--><a href=\"psysml:5033f0bf-ffeb-4313-b85b-4258ec8a052c\" target=\"_top\" title=\"psysml:5033f0bf-ffeb-4313-b85b-4258ec8a052c\" xlink:actuate=\"onRequest\" xlink:href=\"psysml:5033f0bf-ffeb-4313-b85b-4258ec8a052c\" xlink:show=\"new\" xlink:title=\"psysml:5033f0bf-ffeb-4313-b85b-4258ec8a052c\" xlink:type=\"simple\"><rect fill=\"#FFFFFF\" height=\"45.9375\" id=\"E10\" rx=\"10\" ry=\"10\" style=\"stroke: #383838; stroke-width: 1.5;\" width=\"71\" x=\"32.5\" y=\"41\"/><text fill=\"#000000\" font-family=\"sans-serif\" font-size=\"12\" font-style=\"italic\" lengthAdjust=\"spacingAndGlyphs\" textLength=\"69\" x=\"33.5\" y=\"57.1387\">«attribute»</text><text fill=\"#000000\" font-family=\"sans-serif\" font-size=\"12\" lengthAdjust=\"spacingAndGlyphs\" textLength=\"7\" x=\"64.5\" y=\"71.1074\">c</text><line style=\"stroke: #383838; stroke-width: 1.5;\" x1=\"33.5\" x2=\"102.5\" y1=\"78.9375\" y2=\"78.9375\"/></a><text fill=\"#000000\" font-family=\"sans-serif\" font-size=\"14\" lengthAdjust=\"spacingAndGlyphs\" textLength=\"9\" x=\"567.5\" y=\"42.6982\">p</text><rect fill=\"#383838\" height=\"12\" style=\"stroke: #F8F8F8; stroke-width: 1.5;\" width=\"12\" x=\"566\" y=\"58\"/><text fill=\"#000000\" font-family=\"sans-serif\" font-size=\"14\" lengthAdjust=\"spacingAndGlyphs\" textLength=\"9\" x=\"614.5\" y=\"42.6982\">q</text><rect fill=\"#383838\" height=\"12\" style=\"stroke: #F8F8F8; stroke-width: 1.5;\" width=\"12\" x=\"613\" y=\"58\"/><!--MD5=[05d275557350bfb9b23a4ef7222b4c39]\n",
       "link E3 to E2--><a href=\"psysml:94762400-f967-4f4d-9ae0-7f515d54317a\" target=\"_top\" title=\"psysml:94762400-f967-4f4d-9ae0-7f515d54317a\" xlink:actuate=\"onRequest\" xlink:href=\"psysml:94762400-f967-4f4d-9ae0-7f515d54317a\" xlink:show=\"new\" xlink:title=\"psysml:94762400-f967-4f4d-9ae0-7f515d54317a\" xlink:type=\"simple\"><path d=\"M488.12,87.06 C486.14,98.3 483.62,112.6 481.1,126.95 \" fill=\"none\" id=\"E3-&gt;E2\" style=\"stroke: #383838; stroke-width: 1.0;\"/><polygon fill=\"#FFFFFF\" points=\"477.58,146.93,473.9835,127.0035,487.7711,129.4331,477.58,146.93\" style=\"stroke: #383838; stroke-width: 1.0;\"/><ellipse cx=\"476.9423\" cy=\"121.7371\" fill=\"#383838\" rx=\"2\" ry=\"2\" style=\"stroke: #383838; stroke-width: 1.0;\"/><ellipse cx=\"486.7906\" cy=\"123.4725\" fill=\"#383838\" rx=\"2\" ry=\"2\" style=\"stroke: #383838; stroke-width: 1.0;\"/></a><!--MD5=[e8f8ff35871c9b67a46d67a986d8c178]\n",
       "@startuml\r\n",
       "skinparam linetype polyline\r\n",
       "skinparam monochrome true\r\n",
       "skinparam classbackgroundcolor white\r\n",
       "skinparam shadowing false\r\n",
       "skinparam wrapWidth 300\r\n",
       "hide circle\r\n",
       "\r\n",
       "package \"ParameterTest\" as E1  [[psysml:88bd93f8-a024-442a-9349-d26cb2f873a0 ]]  {\r\n",
       "comp def \"A\" as E2  <<(T,blue)attribute def>> [[psysml:2f5789b5-3949-40b4-8579-f7414350119a ]] {\r\n",
       "- - attributes - -\r\n",
       "x: String\r\n",
       "y: A\r\n",
       "}\r\n",
       "comp usage \"a: A\" as E3  <<(T,blue)attribute>> [[psysml:02928bc4-0eb7-4367-aa3f-5ffb35356b49 ]] {\r\n",
       "}\r\n",
       "rec def \"F\" as E4  <<(T,blue)calculation def>> [[psysml:de3210e5-068c-44a8-9828-b5930a13c3bb ]] {\r\n",
       "portin \"p\" as E5  [[psysml:6f03e5ff-f747-4209-970e-6a43677acfe5 ]] \r\n",
       "portin \"q\" as E6  [[psysml:59b46d55-27e2-4503-b58c-744d75cefff1 ]] \r\n",
       "}\r\n",
       "\r\n",
       "comp usage \"f\" as E7  <<(T,blue)attribute>> [[psysml:8c3ddf1b-2d8e-48f9-8bd9-e07e4f9dde48 ]] {\r\n",
       "}\r\n",
       "comp usage \"g\" as E8  <<(T,blue)attribute>> [[psysml:1f38f371-1f52-4b01-a20c-3f08ced1218d ]] {\r\n",
       "}\r\n",
       "comp usage \"b\" as E9  <<(T,blue)attribute>> [[psysml:cd4f641f-a9ce-41b8-9b9f-d9b0f89951b2 ]] {\r\n",
       "}\r\n",
       "comp usage \"c\" as E10  <<(T,blue)attribute>> [[psysml:5033f0bf-ffeb-4313-b85b-4258ec8a052c ]] {\r\n",
       "}\r\n",
       "E3 - -:|> E2 [[psysml:94762400-f967-4f4d-9ae0-7f515d54317a ]] \r\n",
       "}\r\n",
       "@enduml\r\n",
       "\n",
       "PlantUML version 1.2020.13(Sat Jun 13 12:26:38 UTC 2020)\n",
       "(EPL source distribution)\n",
       "Java Runtime: OpenJDK Runtime Environment\n",
       "JVM: OpenJDK 64-Bit Server VM\n",
       "Default Encoding: UTF-8\n",
       "Language: en\n",
       "Country: null\n",
       "--></g></svg>"
      ]
     },
     "execution_count": 9,
     "metadata": {},
     "output_type": "execute_result"
    }
   ],
   "source": [
    "%viz --style=\"POLYLINE\" --view=\"Default\" \"ParameterTest\""
   ]
  },
  {
   "cell_type": "code",
   "execution_count": 10,
   "id": "bacterial-engineer",
   "metadata": {
    "execution": {
     "iopub.execute_input": "2021-03-26T13:01:39.945535Z",
     "iopub.status.busy": "2021-03-26T13:01:39.944981Z",
     "iopub.status.idle": "2021-03-26T13:01:40.006283Z",
     "shell.execute_reply": "2021-03-26T13:01:40.004904Z"
    }
   },
   "outputs": [
    {
     "data": {
      "image/svg+xml": [
       "<?xml version=\"1.0\" encoding=\"UTF-8\" standalone=\"no\"?><svg xmlns=\"http://www.w3.org/2000/svg\" xmlns:xlink=\"http://www.w3.org/1999/xlink\" contentScriptType=\"application/ecmascript\" contentStyleType=\"text/css\" height=\"280px\" preserveAspectRatio=\"none\" style=\"width:710px;height:280px;\" version=\"1.1\" viewBox=\"0 0 710 280\" width=\"710px\" zoomAndPan=\"magnify\"><defs/><g><!--MD5=[fbc87193dbaf4d95561dea2c320d4a47]\n",
       "cluster E1--><a href=\"psysml:88bd93f8-a024-442a-9349-d26cb2f873a0\" target=\"_top\" title=\"psysml:88bd93f8-a024-442a-9349-d26cb2f873a0\" xlink:actuate=\"onRequest\" xlink:href=\"psysml:88bd93f8-a024-442a-9349-d26cb2f873a0\" xlink:show=\"new\" xlink:title=\"psysml:88bd93f8-a024-442a-9349-d26cb2f873a0\" xlink:type=\"simple\"><polygon fill=\"#FFFFFF\" points=\"16,6,139,6,146,28.2969,688,28.2969,688,268,16,268,16,6\" style=\"stroke: #000000; stroke-width: 1.5;\"/><line style=\"stroke: #000000; stroke-width: 1.5;\" x1=\"16\" x2=\"146\" y1=\"28.2969\" y2=\"28.2969\"/><text fill=\"#000000\" font-family=\"sans-serif\" font-size=\"14\" font-weight=\"bold\" lengthAdjust=\"spacingAndGlyphs\" textLength=\"117\" x=\"20\" y=\"20.9951\">ParameterTest</text></a><!--MD5=[b4997ac47864f28c2f74865a473b2911]\n",
       "class E2--><a href=\"psysml:2f5789b5-3949-40b4-8579-f7414350119a\" target=\"_top\" title=\"psysml:2f5789b5-3949-40b4-8579-f7414350119a\" xlink:actuate=\"onRequest\" xlink:href=\"psysml:2f5789b5-3949-40b4-8579-f7414350119a\" xlink:show=\"new\" xlink:title=\"psysml:2f5789b5-3949-40b4-8579-f7414350119a\" xlink:type=\"simple\"><rect fill=\"#FFFFFF\" height=\"88.3516\" id=\"E2\" style=\"stroke: #383838; stroke-width: 1.5;\" width=\"95\" x=\"498.5\" y=\"164\"/><text fill=\"#000000\" font-family=\"sans-serif\" font-size=\"12\" font-style=\"italic\" lengthAdjust=\"spacingAndGlyphs\" textLength=\"93\" x=\"499.5\" y=\"180.1387\">«attribute def»</text><text fill=\"#000000\" font-family=\"sans-serif\" font-size=\"12\" lengthAdjust=\"spacingAndGlyphs\" textLength=\"8\" x=\"542\" y=\"194.1074\">A</text><line style=\"stroke: #383838; stroke-width: 1.5;\" x1=\"499.5\" x2=\"592.5\" y1=\"201.9375\" y2=\"201.9375\"/><text fill=\"#000000\" font-family=\"sans-serif\" font-size=\"11\" lengthAdjust=\"spacingAndGlyphs\" textLength=\"48\" x=\"504.5\" y=\"232.9526\">x: String</text><text fill=\"#000000\" font-family=\"sans-serif\" font-size=\"11\" lengthAdjust=\"spacingAndGlyphs\" textLength=\"21\" x=\"504.5\" y=\"245.7573\">y: A</text><line style=\"stroke: #383838; stroke-width: 1.0;\" x1=\"499.5\" x2=\"518.5\" y1=\"216.3398\" y2=\"216.3398\"/><text fill=\"#000000\" font-family=\"sans-serif\" font-size=\"11\" lengthAdjust=\"spacingAndGlyphs\" textLength=\"55\" x=\"518.5\" y=\"219.6479\">attributes</text><line style=\"stroke: #383838; stroke-width: 1.0;\" x1=\"573.5\" x2=\"592.5\" y1=\"216.3398\" y2=\"216.3398\"/></a><!--MD5=[09b614a08d8cba4a07c9adeb5e0fee81]\n",
       "class E3--><a href=\"psysml:02928bc4-0eb7-4367-aa3f-5ffb35356b49\" target=\"_top\" title=\"psysml:02928bc4-0eb7-4367-aa3f-5ffb35356b49\" xlink:actuate=\"onRequest\" xlink:href=\"psysml:02928bc4-0eb7-4367-aa3f-5ffb35356b49\" xlink:show=\"new\" xlink:title=\"psysml:02928bc4-0eb7-4367-aa3f-5ffb35356b49\" xlink:type=\"simple\"><rect fill=\"#FFFFFF\" height=\"45.9375\" id=\"E3\" rx=\"10\" ry=\"10\" style=\"stroke: #383838; stroke-width: 1.5;\" width=\"71\" x=\"600.5\" y=\"41\"/><text fill=\"#000000\" font-family=\"sans-serif\" font-size=\"12\" font-style=\"italic\" lengthAdjust=\"spacingAndGlyphs\" textLength=\"69\" x=\"601.5\" y=\"57.1387\">«attribute»</text><text fill=\"#000000\" font-family=\"sans-serif\" font-size=\"12\" lengthAdjust=\"spacingAndGlyphs\" textLength=\"24\" x=\"624\" y=\"71.1074\">a: A</text><line style=\"stroke: #383838; stroke-width: 1.5;\" x1=\"601.5\" x2=\"670.5\" y1=\"78.9375\" y2=\"78.9375\"/></a><!--MD5=[ebbe1d658d1005bcc118a6aa81145e00]\n",
       "class E4--><a href=\"psysml:de3210e5-068c-44a8-9828-b5930a13c3bb\" target=\"_top\" title=\"psysml:de3210e5-068c-44a8-9828-b5930a13c3bb\" xlink:actuate=\"onRequest\" xlink:href=\"psysml:de3210e5-068c-44a8-9828-b5930a13c3bb\" xlink:show=\"new\" xlink:title=\"psysml:de3210e5-068c-44a8-9828-b5930a13c3bb\" xlink:type=\"simple\"><rect fill=\"#FFFFFF\" height=\"45.9375\" id=\"E4\" style=\"stroke: #383838; stroke-width: 1.5;\" width=\"108\" x=\"457\" y=\"41\"/><text fill=\"#000000\" font-family=\"sans-serif\" font-size=\"12\" font-style=\"italic\" lengthAdjust=\"spacingAndGlyphs\" textLength=\"106\" x=\"458\" y=\"57.1387\">«calculation def»</text><text fill=\"#000000\" font-family=\"sans-serif\" font-size=\"12\" lengthAdjust=\"spacingAndGlyphs\" textLength=\"7\" x=\"507.5\" y=\"71.1074\">F</text><line style=\"stroke: #383838; stroke-width: 1.5;\" x1=\"458\" x2=\"564\" y1=\"78.9375\" y2=\"78.9375\"/></a><!--MD5=[270fce915f116d4de14055a7c1d9a0f3]\n",
       "class E5--><a href=\"psysml:8c3ddf1b-2d8e-48f9-8bd9-e07e4f9dde48\" target=\"_top\" title=\"psysml:8c3ddf1b-2d8e-48f9-8bd9-e07e4f9dde48\" xlink:actuate=\"onRequest\" xlink:href=\"psysml:8c3ddf1b-2d8e-48f9-8bd9-e07e4f9dde48\" xlink:show=\"new\" xlink:title=\"psysml:8c3ddf1b-2d8e-48f9-8bd9-e07e4f9dde48\" xlink:type=\"simple\"><rect fill=\"#FFFFFF\" height=\"45.9375\" id=\"E5\" rx=\"10\" ry=\"10\" style=\"stroke: #383838; stroke-width: 1.5;\" width=\"71\" x=\"350.5\" y=\"41\"/><text fill=\"#000000\" font-family=\"sans-serif\" font-size=\"12\" font-style=\"italic\" lengthAdjust=\"spacingAndGlyphs\" textLength=\"69\" x=\"351.5\" y=\"57.1387\">«attribute»</text><text fill=\"#000000\" font-family=\"sans-serif\" font-size=\"12\" lengthAdjust=\"spacingAndGlyphs\" textLength=\"4\" x=\"384\" y=\"71.1074\">f</text><line style=\"stroke: #383838; stroke-width: 1.5;\" x1=\"351.5\" x2=\"420.5\" y1=\"78.9375\" y2=\"78.9375\"/></a><!--MD5=[60a26617385b1d2d0262a64233df1f8d]\n",
       "class E6--><a href=\"psysml:1f38f371-1f52-4b01-a20c-3f08ced1218d\" target=\"_top\" title=\"psysml:1f38f371-1f52-4b01-a20c-3f08ced1218d\" xlink:actuate=\"onRequest\" xlink:href=\"psysml:1f38f371-1f52-4b01-a20c-3f08ced1218d\" xlink:show=\"new\" xlink:title=\"psysml:1f38f371-1f52-4b01-a20c-3f08ced1218d\" xlink:type=\"simple\"><rect fill=\"#FFFFFF\" height=\"45.9375\" id=\"E6\" rx=\"10\" ry=\"10\" style=\"stroke: #383838; stroke-width: 1.5;\" width=\"71\" x=\"244.5\" y=\"41\"/><text fill=\"#000000\" font-family=\"sans-serif\" font-size=\"12\" font-style=\"italic\" lengthAdjust=\"spacingAndGlyphs\" textLength=\"69\" x=\"245.5\" y=\"57.1387\">«attribute»</text><text fill=\"#000000\" font-family=\"sans-serif\" font-size=\"12\" lengthAdjust=\"spacingAndGlyphs\" textLength=\"8\" x=\"276\" y=\"71.1074\">g</text><line style=\"stroke: #383838; stroke-width: 1.5;\" x1=\"245.5\" x2=\"314.5\" y1=\"78.9375\" y2=\"78.9375\"/></a><!--MD5=[2156ba9850f5573cc1fc38a6a4b2f02b]\n",
       "class E7--><a href=\"psysml:cd4f641f-a9ce-41b8-9b9f-d9b0f89951b2\" target=\"_top\" title=\"psysml:cd4f641f-a9ce-41b8-9b9f-d9b0f89951b2\" xlink:actuate=\"onRequest\" xlink:href=\"psysml:cd4f641f-a9ce-41b8-9b9f-d9b0f89951b2\" xlink:show=\"new\" xlink:title=\"psysml:cd4f641f-a9ce-41b8-9b9f-d9b0f89951b2\" xlink:type=\"simple\"><rect fill=\"#FFFFFF\" height=\"45.9375\" id=\"E7\" rx=\"10\" ry=\"10\" style=\"stroke: #383838; stroke-width: 1.5;\" width=\"71\" x=\"138.5\" y=\"41\"/><text fill=\"#000000\" font-family=\"sans-serif\" font-size=\"12\" font-style=\"italic\" lengthAdjust=\"spacingAndGlyphs\" textLength=\"69\" x=\"139.5\" y=\"57.1387\">«attribute»</text><text fill=\"#000000\" font-family=\"sans-serif\" font-size=\"12\" lengthAdjust=\"spacingAndGlyphs\" textLength=\"8\" x=\"170\" y=\"71.1074\">b</text><line style=\"stroke: #383838; stroke-width: 1.5;\" x1=\"139.5\" x2=\"208.5\" y1=\"78.9375\" y2=\"78.9375\"/></a><!--MD5=[b9389687b975829384b498ac4b7476b2]\n",
       "class E8--><a href=\"psysml:5033f0bf-ffeb-4313-b85b-4258ec8a052c\" target=\"_top\" title=\"psysml:5033f0bf-ffeb-4313-b85b-4258ec8a052c\" xlink:actuate=\"onRequest\" xlink:href=\"psysml:5033f0bf-ffeb-4313-b85b-4258ec8a052c\" xlink:show=\"new\" xlink:title=\"psysml:5033f0bf-ffeb-4313-b85b-4258ec8a052c\" xlink:type=\"simple\"><rect fill=\"#FFFFFF\" height=\"45.9375\" id=\"E8\" rx=\"10\" ry=\"10\" style=\"stroke: #383838; stroke-width: 1.5;\" width=\"71\" x=\"32.5\" y=\"41\"/><text fill=\"#000000\" font-family=\"sans-serif\" font-size=\"12\" font-style=\"italic\" lengthAdjust=\"spacingAndGlyphs\" textLength=\"69\" x=\"33.5\" y=\"57.1387\">«attribute»</text><text fill=\"#000000\" font-family=\"sans-serif\" font-size=\"12\" lengthAdjust=\"spacingAndGlyphs\" textLength=\"7\" x=\"64.5\" y=\"71.1074\">c</text><line style=\"stroke: #383838; stroke-width: 1.5;\" x1=\"33.5\" x2=\"102.5\" y1=\"78.9375\" y2=\"78.9375\"/></a><!--MD5=[05d275557350bfb9b23a4ef7222b4c39]\n",
       "link E3 to E2--><a href=\"psysml:94762400-f967-4f4d-9ae0-7f515d54317a\" target=\"_top\" title=\"psysml:94762400-f967-4f4d-9ae0-7f515d54317a\" xlink:actuate=\"onRequest\" xlink:href=\"psysml:94762400-f967-4f4d-9ae0-7f515d54317a\" xlink:show=\"new\" xlink:title=\"psysml:94762400-f967-4f4d-9ae0-7f515d54317a\" xlink:type=\"simple\"><path d=\"M621.94,87.19 C611.77,103.23 597.51,125.73 584.09,146.9 \" fill=\"none\" id=\"E3-&gt;E2\" style=\"stroke: #383838; stroke-width: 1.0;\"/><polygon fill=\"#FFFFFF\" points=\"573.37,163.82,577.6195,144.0225,589.448,151.5115,573.37,163.82\" style=\"stroke: #383838; stroke-width: 1.0;\"/><ellipse cx=\"582.3584\" cy=\"140.2764\" fill=\"#383838\" rx=\"2\" ry=\"2\" style=\"stroke: #383838; stroke-width: 1.0;\"/><ellipse cx=\"590.8073\" cy=\"145.6258\" fill=\"#383838\" rx=\"2\" ry=\"2\" style=\"stroke: #383838; stroke-width: 1.0;\"/></a><!--MD5=[ddeed8deb2209213b62e6cfabaa108b2]\n",
       "reverse link E4 to E2--><a href=\"psysml:6f03e5ff-f747-4209-970e-6a43677acfe5\" target=\"_top\" title=\"psysml:6f03e5ff-f747-4209-970e-6a43677acfe5\" xlink:actuate=\"onRequest\" xlink:href=\"psysml:6f03e5ff-f747-4209-970e-6a43677acfe5\" xlink:show=\"new\" xlink:title=\"psysml:6f03e5ff-f747-4209-970e-6a43677acfe5\" xlink:type=\"simple\"><path d=\"M519.62,99.96 C524.37,119.25 530.31,143.36 535.36,163.82 \" fill=\"none\" id=\"E4&lt;-E2\" style=\"stroke: #383838; stroke-width: 1.0;\"/><polygon fill=\"#FFFFFF\" points=\"516.47,87.19,514.0229,93.9732,519.3432,98.841,521.7903,92.0577,516.47,87.19\" style=\"stroke: #383838; stroke-width: 1.0;\"/><text fill=\"#000000\" font-family=\"sans-serif\" font-size=\"13\" lengthAdjust=\"spacingAndGlyphs\" textLength=\"8\" x=\"528\" y=\"130.0669\">p</text></a><!--MD5=[3f912a11345af91ba8aa4266fb78de9e]\n",
       "@startuml\r\n",
       "skinparam linetype polyline\r\n",
       "skinparam monochrome true\r\n",
       "skinparam classbackgroundcolor white\r\n",
       "skinparam shadowing false\r\n",
       "skinparam wrapWidth 300\r\n",
       "hide circle\r\n",
       "\r\n",
       "package \"ParameterTest\" as E1  [[psysml:88bd93f8-a024-442a-9349-d26cb2f873a0 ]]  {\r\n",
       "comp def \"A\" as E2  <<(T,blue)attribute def>> [[psysml:2f5789b5-3949-40b4-8579-f7414350119a ]] {\r\n",
       "- - attributes - -\r\n",
       "x: String\r\n",
       "y: A\r\n",
       "}\r\n",
       "comp usage \"a: A\" as E3  <<(T,blue)attribute>> [[psysml:02928bc4-0eb7-4367-aa3f-5ffb35356b49 ]] {\r\n",
       "}\r\n",
       "comp def \"F\" as E4  <<(T,blue)calculation def>> [[psysml:de3210e5-068c-44a8-9828-b5930a13c3bb ]] {\r\n",
       "}\r\n",
       "comp usage \"f\" as E5  <<(T,blue)attribute>> [[psysml:8c3ddf1b-2d8e-48f9-8bd9-e07e4f9dde48 ]] {\r\n",
       "}\r\n",
       "comp usage \"g\" as E6  <<(T,blue)attribute>> [[psysml:1f38f371-1f52-4b01-a20c-3f08ced1218d ]] {\r\n",
       "}\r\n",
       "comp usage \"b\" as E7  <<(T,blue)attribute>> [[psysml:cd4f641f-a9ce-41b8-9b9f-d9b0f89951b2 ]] {\r\n",
       "}\r\n",
       "comp usage \"c\" as E8  <<(T,blue)attribute>> [[psysml:5033f0bf-ffeb-4313-b85b-4258ec8a052c ]] {\r\n",
       "}\r\n",
       "E3 - -:|> E2 [[psysml:94762400-f967-4f4d-9ae0-7f515d54317a ]] \r\n",
       "E4 o- - E2 [[psysml:6f03e5ff-f747-4209-970e-6a43677acfe5 ]] : p\r\n",
       "}\r\n",
       "@enduml\r\n",
       "\n",
       "PlantUML version 1.2020.13(Sat Jun 13 12:26:38 UTC 2020)\n",
       "(EPL source distribution)\n",
       "Java Runtime: OpenJDK Runtime Environment\n",
       "JVM: OpenJDK 64-Bit Server VM\n",
       "Default Encoding: UTF-8\n",
       "Language: en\n",
       "Country: null\n",
       "--></g></svg>"
      ]
     },
     "execution_count": 10,
     "metadata": {},
     "output_type": "execute_result"
    }
   ],
   "source": [
    "%viz --style=\"POLYLINE\" --view=\"Tree\" \"ParameterTest\""
   ]
  },
  {
   "cell_type": "code",
   "execution_count": 11,
   "id": "informed-classics",
   "metadata": {
    "execution": {
     "iopub.execute_input": "2021-03-26T13:01:40.059072Z",
     "iopub.status.busy": "2021-03-26T13:01:40.058469Z",
     "iopub.status.idle": "2021-03-26T13:01:40.067733Z",
     "shell.execute_reply": "2021-03-26T13:01:40.067368Z"
    }
   },
   "outputs": [
    {
     "data": {
      "image/svg+xml": [
       "<?xml version=\"1.0\" encoding=\"UTF-8\" standalone=\"no\"?><svg xmlns=\"http://www.w3.org/2000/svg\" xmlns:xlink=\"http://www.w3.org/1999/xlink\" contentScriptType=\"application/ecmascript\" contentStyleType=\"text/css\" height=\"12px\" preserveAspectRatio=\"none\" style=\"width:12px;height:12px;\" version=\"1.1\" viewBox=\"0 0 12 12\" width=\"12px\" zoomAndPan=\"magnify\"><defs/><g><!--MD5=[896ac0e7a515d8dd7765a661cb4ee08b]\n",
       "@startuml\r\n",
       "skinparam linetype polyline\r\n",
       "skinparam monochrome true\r\n",
       "skinparam classbackgroundcolor white\r\n",
       "skinparam shadowing false\r\n",
       "skinparam wrapWidth 300\r\n",
       "hide circle\r\n",
       "\r\n",
       "@enduml\r\n",
       "\n",
       "PlantUML version 1.2020.13(Sat Jun 13 12:26:38 UTC 2020)\n",
       "(EPL source distribution)\n",
       "Java Runtime: OpenJDK Runtime Environment\n",
       "JVM: OpenJDK 64-Bit Server VM\n",
       "Default Encoding: UTF-8\n",
       "Language: en\n",
       "Country: null\n",
       "--></g></svg>"
      ]
     },
     "execution_count": 11,
     "metadata": {},
     "output_type": "execute_result"
    }
   ],
   "source": [
    "%viz --style=\"POLYLINE\" --view=\"State\" \"ParameterTest\""
   ]
  },
  {
   "cell_type": "code",
   "execution_count": 12,
   "id": "strategic-studio",
   "metadata": {
    "execution": {
     "iopub.execute_input": "2021-03-26T13:01:40.119925Z",
     "iopub.status.busy": "2021-03-26T13:01:40.119186Z",
     "iopub.status.idle": "2021-03-26T13:01:40.159578Z",
     "shell.execute_reply": "2021-03-26T13:01:40.158302Z"
    }
   },
   "outputs": [
    {
     "data": {
      "image/svg+xml": [
       "<?xml version=\"1.0\" encoding=\"UTF-8\" standalone=\"no\"?><svg xmlns=\"http://www.w3.org/2000/svg\" xmlns:xlink=\"http://www.w3.org/1999/xlink\" contentScriptType=\"application/ecmascript\" contentStyleType=\"text/css\" height=\"112px\" preserveAspectRatio=\"none\" style=\"width:874px;height:112px;\" version=\"1.1\" viewBox=\"0 0 874 112\" width=\"874px\" zoomAndPan=\"magnify\"><defs/><g><!--MD5=[fbc87193dbaf4d95561dea2c320d4a47]\n",
       "cluster E1--><a href=\"psysml:88bd93f8-a024-442a-9349-d26cb2f873a0\" target=\"_top\" title=\"psysml:88bd93f8-a024-442a-9349-d26cb2f873a0\" xlink:actuate=\"onRequest\" xlink:href=\"psysml:88bd93f8-a024-442a-9349-d26cb2f873a0\" xlink:show=\"new\" xlink:title=\"psysml:88bd93f8-a024-442a-9349-d26cb2f873a0\" xlink:type=\"simple\"><polygon fill=\"#FFFFFF\" points=\"16,6,139,6,146,28.2969,852,28.2969,852,100,16,100,16,6\" style=\"stroke: #000000; stroke-width: 1.5;\"/><line style=\"stroke: #000000; stroke-width: 1.5;\" x1=\"16\" x2=\"146\" y1=\"28.2969\" y2=\"28.2969\"/><text fill=\"#000000\" font-family=\"sans-serif\" font-size=\"14\" font-weight=\"bold\" lengthAdjust=\"spacingAndGlyphs\" textLength=\"117\" x=\"20\" y=\"20.9951\">ParameterTest</text></a><g id=\"E1.E2\"><a href=\"psysml:2f5789b5-3949-40b4-8579-f7414350119a\" target=\"_top\" title=\"psysml:2f5789b5-3949-40b4-8579-f7414350119a\" xlink:actuate=\"onRequest\" xlink:href=\"psysml:2f5789b5-3949-40b4-8579-f7414350119a\" xlink:show=\"new\" xlink:title=\"psysml:2f5789b5-3949-40b4-8579-f7414350119a\" xlink:type=\"simple\"><rect fill=\"#FFFFFF\" height=\"42.9375\" id=\"E2\" style=\"stroke: #383838; stroke-width: 1.5;\" width=\"100\" x=\"736\" y=\"41\"/><rect fill=\"#F8F8F8\" height=\"37.9375\" style=\"stroke: #383838; stroke-width: 1.5;\" width=\"100\" x=\"736\" y=\"41\"/><text fill=\"#000000\" font-family=\"sans-serif\" font-size=\"12\" font-style=\"italic\" lengthAdjust=\"spacingAndGlyphs\" textLength=\"93\" x=\"739.5\" y=\"57.1387\">«attribute def»</text><text fill=\"#000000\" font-family=\"sans-serif\" font-size=\"12\" lengthAdjust=\"spacingAndGlyphs\" textLength=\"8\" x=\"782\" y=\"71.1074\">A</text></a></g><g id=\"E1.E4\"><a href=\"psysml:de3210e5-068c-44a8-9828-b5930a13c3bb\" target=\"_top\" title=\"psysml:de3210e5-068c-44a8-9828-b5930a13c3bb\" xlink:actuate=\"onRequest\" xlink:href=\"psysml:de3210e5-068c-44a8-9828-b5930a13c3bb\" xlink:show=\"new\" xlink:title=\"psysml:de3210e5-068c-44a8-9828-b5930a13c3bb\" xlink:type=\"simple\"><rect fill=\"#FFFFFF\" height=\"42.9375\" id=\"E4\" style=\"stroke: #383838; stroke-width: 1.5;\" width=\"113\" x=\"587.5\" y=\"41\"/><rect fill=\"#F8F8F8\" height=\"37.9375\" style=\"stroke: #383838; stroke-width: 1.5;\" width=\"113\" x=\"587.5\" y=\"41\"/><text fill=\"#000000\" font-family=\"sans-serif\" font-size=\"12\" font-style=\"italic\" lengthAdjust=\"spacingAndGlyphs\" textLength=\"106\" x=\"591\" y=\"57.1387\">«calculation def»</text><text fill=\"#000000\" font-family=\"sans-serif\" font-size=\"12\" lengthAdjust=\"spacingAndGlyphs\" textLength=\"7\" x=\"640.5\" y=\"71.1074\">F</text></a></g><g id=\"E1.E3\"><a href=\"psysml:02928bc4-0eb7-4367-aa3f-5ffb35356b49\" target=\"_top\" title=\"psysml:02928bc4-0eb7-4367-aa3f-5ffb35356b49\" xlink:actuate=\"onRequest\" xlink:href=\"psysml:02928bc4-0eb7-4367-aa3f-5ffb35356b49\" xlink:show=\"new\" xlink:title=\"psysml:02928bc4-0eb7-4367-aa3f-5ffb35356b49\" xlink:type=\"simple\"><rect fill=\"#FFFFFF\" height=\"42.9375\" id=\"E3\" rx=\"10\" ry=\"10\" style=\"stroke: #383838; stroke-width: 1.5;\" width=\"76\" x=\"476\" y=\"41\"/><rect fill=\"#F8F8F8\" height=\"37.9375\" rx=\"10\" ry=\"10\" style=\"stroke: #F8F8F8; stroke-width: 1.5;\" width=\"76\" x=\"476\" y=\"41\"/><rect fill=\"#F8F8F8\" height=\"10\" style=\"stroke: #F8F8F8; stroke-width: 1.5;\" width=\"76\" x=\"476\" y=\"68.9375\"/><rect fill=\"none\" height=\"42.9375\" id=\"E3\" rx=\"10\" ry=\"10\" style=\"stroke: #383838; stroke-width: 1.5;\" width=\"76\" x=\"476\" y=\"41\"/><text fill=\"#000000\" font-family=\"sans-serif\" font-size=\"12\" font-style=\"italic\" lengthAdjust=\"spacingAndGlyphs\" textLength=\"69\" x=\"479.5\" y=\"57.1387\">«attribute»</text><text fill=\"#000000\" font-family=\"sans-serif\" font-size=\"12\" lengthAdjust=\"spacingAndGlyphs\" textLength=\"24\" x=\"502\" y=\"71.1074\">a: A</text></a></g><g id=\"E1.E5\"><a href=\"psysml:8c3ddf1b-2d8e-48f9-8bd9-e07e4f9dde48\" target=\"_top\" title=\"psysml:8c3ddf1b-2d8e-48f9-8bd9-e07e4f9dde48\" xlink:actuate=\"onRequest\" xlink:href=\"psysml:8c3ddf1b-2d8e-48f9-8bd9-e07e4f9dde48\" xlink:show=\"new\" xlink:title=\"psysml:8c3ddf1b-2d8e-48f9-8bd9-e07e4f9dde48\" xlink:type=\"simple\"><rect fill=\"#FFFFFF\" height=\"42.9375\" id=\"E5\" rx=\"10\" ry=\"10\" style=\"stroke: #383838; stroke-width: 1.5;\" width=\"76\" x=\"365\" y=\"41\"/><rect fill=\"#F8F8F8\" height=\"37.9375\" rx=\"10\" ry=\"10\" style=\"stroke: #F8F8F8; stroke-width: 1.5;\" width=\"76\" x=\"365\" y=\"41\"/><rect fill=\"#F8F8F8\" height=\"10\" style=\"stroke: #F8F8F8; stroke-width: 1.5;\" width=\"76\" x=\"365\" y=\"68.9375\"/><rect fill=\"none\" height=\"42.9375\" id=\"E5\" rx=\"10\" ry=\"10\" style=\"stroke: #383838; stroke-width: 1.5;\" width=\"76\" x=\"365\" y=\"41\"/><text fill=\"#000000\" font-family=\"sans-serif\" font-size=\"12\" font-style=\"italic\" lengthAdjust=\"spacingAndGlyphs\" textLength=\"69\" x=\"368.5\" y=\"57.1387\">«attribute»</text><text fill=\"#000000\" font-family=\"sans-serif\" font-size=\"12\" lengthAdjust=\"spacingAndGlyphs\" textLength=\"4\" x=\"401\" y=\"71.1074\">f</text></a></g><g id=\"E1.E6\"><a href=\"psysml:1f38f371-1f52-4b01-a20c-3f08ced1218d\" target=\"_top\" title=\"psysml:1f38f371-1f52-4b01-a20c-3f08ced1218d\" xlink:actuate=\"onRequest\" xlink:href=\"psysml:1f38f371-1f52-4b01-a20c-3f08ced1218d\" xlink:show=\"new\" xlink:title=\"psysml:1f38f371-1f52-4b01-a20c-3f08ced1218d\" xlink:type=\"simple\"><rect fill=\"#FFFFFF\" height=\"42.9375\" id=\"E6\" rx=\"10\" ry=\"10\" style=\"stroke: #383838; stroke-width: 1.5;\" width=\"76\" x=\"254\" y=\"41\"/><rect fill=\"#F8F8F8\" height=\"37.9375\" rx=\"10\" ry=\"10\" style=\"stroke: #F8F8F8; stroke-width: 1.5;\" width=\"76\" x=\"254\" y=\"41\"/><rect fill=\"#F8F8F8\" height=\"10\" style=\"stroke: #F8F8F8; stroke-width: 1.5;\" width=\"76\" x=\"254\" y=\"68.9375\"/><rect fill=\"none\" height=\"42.9375\" id=\"E6\" rx=\"10\" ry=\"10\" style=\"stroke: #383838; stroke-width: 1.5;\" width=\"76\" x=\"254\" y=\"41\"/><text fill=\"#000000\" font-family=\"sans-serif\" font-size=\"12\" font-style=\"italic\" lengthAdjust=\"spacingAndGlyphs\" textLength=\"69\" x=\"257.5\" y=\"57.1387\">«attribute»</text><text fill=\"#000000\" font-family=\"sans-serif\" font-size=\"12\" lengthAdjust=\"spacingAndGlyphs\" textLength=\"8\" x=\"288\" y=\"71.1074\">g</text></a></g><g id=\"E1.E7\"><a href=\"psysml:cd4f641f-a9ce-41b8-9b9f-d9b0f89951b2\" target=\"_top\" title=\"psysml:cd4f641f-a9ce-41b8-9b9f-d9b0f89951b2\" xlink:actuate=\"onRequest\" xlink:href=\"psysml:cd4f641f-a9ce-41b8-9b9f-d9b0f89951b2\" xlink:show=\"new\" xlink:title=\"psysml:cd4f641f-a9ce-41b8-9b9f-d9b0f89951b2\" xlink:type=\"simple\"><rect fill=\"#FFFFFF\" height=\"42.9375\" id=\"E7\" rx=\"10\" ry=\"10\" style=\"stroke: #383838; stroke-width: 1.5;\" width=\"76\" x=\"143\" y=\"41\"/><rect fill=\"#F8F8F8\" height=\"37.9375\" rx=\"10\" ry=\"10\" style=\"stroke: #F8F8F8; stroke-width: 1.5;\" width=\"76\" x=\"143\" y=\"41\"/><rect fill=\"#F8F8F8\" height=\"10\" style=\"stroke: #F8F8F8; stroke-width: 1.5;\" width=\"76\" x=\"143\" y=\"68.9375\"/><rect fill=\"none\" height=\"42.9375\" id=\"E7\" rx=\"10\" ry=\"10\" style=\"stroke: #383838; stroke-width: 1.5;\" width=\"76\" x=\"143\" y=\"41\"/><text fill=\"#000000\" font-family=\"sans-serif\" font-size=\"12\" font-style=\"italic\" lengthAdjust=\"spacingAndGlyphs\" textLength=\"69\" x=\"146.5\" y=\"57.1387\">«attribute»</text><text fill=\"#000000\" font-family=\"sans-serif\" font-size=\"12\" lengthAdjust=\"spacingAndGlyphs\" textLength=\"8\" x=\"177\" y=\"71.1074\">b</text></a></g><g id=\"E1.E8\"><a href=\"psysml:5033f0bf-ffeb-4313-b85b-4258ec8a052c\" target=\"_top\" title=\"psysml:5033f0bf-ffeb-4313-b85b-4258ec8a052c\" xlink:actuate=\"onRequest\" xlink:href=\"psysml:5033f0bf-ffeb-4313-b85b-4258ec8a052c\" xlink:show=\"new\" xlink:title=\"psysml:5033f0bf-ffeb-4313-b85b-4258ec8a052c\" xlink:type=\"simple\"><rect fill=\"#FFFFFF\" height=\"42.9375\" id=\"E8\" rx=\"10\" ry=\"10\" style=\"stroke: #383838; stroke-width: 1.5;\" width=\"76\" x=\"32\" y=\"41\"/><rect fill=\"#F8F8F8\" height=\"37.9375\" rx=\"10\" ry=\"10\" style=\"stroke: #F8F8F8; stroke-width: 1.5;\" width=\"76\" x=\"32\" y=\"41\"/><rect fill=\"#F8F8F8\" height=\"10\" style=\"stroke: #F8F8F8; stroke-width: 1.5;\" width=\"76\" x=\"32\" y=\"68.9375\"/><rect fill=\"none\" height=\"42.9375\" id=\"E8\" rx=\"10\" ry=\"10\" style=\"stroke: #383838; stroke-width: 1.5;\" width=\"76\" x=\"32\" y=\"41\"/><text fill=\"#000000\" font-family=\"sans-serif\" font-size=\"12\" font-style=\"italic\" lengthAdjust=\"spacingAndGlyphs\" textLength=\"69\" x=\"35.5\" y=\"57.1387\">«attribute»</text><text fill=\"#000000\" font-family=\"sans-serif\" font-size=\"12\" lengthAdjust=\"spacingAndGlyphs\" textLength=\"7\" x=\"66.5\" y=\"71.1074\">c</text></a></g><!--MD5=[7e66be164118ca46d26773ac4cb92614]\n",
       "@startuml\r\n",
       "skinparam ranksep 8\r\n",
       "skinparam rectangle {\r\n",
       " backgroundColor<<block>> LightGreen\r\n",
       "}\r\n",
       "skinparam linetype polyline\r\n",
       "skinparam monochrome true\r\n",
       "skinparam classbackgroundcolor white\r\n",
       "skinparam shadowing false\r\n",
       "skinparam wrapWidth 300\r\n",
       "hide circle\r\n",
       "\r\n",
       "package \"ParameterTest\" as E1  [[psysml:88bd93f8-a024-442a-9349-d26cb2f873a0 ]]  {\r\n",
       "def \"A\" as E2  <<(T,blue)attribute def>> [[psysml:2f5789b5-3949-40b4-8579-f7414350119a ]] \r\n",
       "rec usage \"a: A\" as E3  <<(T,blue)attribute>> [[psysml:02928bc4-0eb7-4367-aa3f-5ffb35356b49 ]] {\r\n",
       "}\r\n",
       "def \"F\" as E4  <<(T,blue)calculation def>> [[psysml:de3210e5-068c-44a8-9828-b5930a13c3bb ]] \r\n",
       "rec usage \"f\" as E5  <<(T,blue)attribute>> [[psysml:8c3ddf1b-2d8e-48f9-8bd9-e07e4f9dde48 ]] {\r\n",
       "}\r\n",
       "rec usage \"g\" as E6  <<(T,blue)attribute>> [[psysml:1f38f371-1f52-4b01-a20c-3f08ced1218d ]] {\r\n",
       "}\r\n",
       "rec usage \"b\" as E7  <<(T,blue)attribute>> [[psysml:cd4f641f-a9ce-41b8-9b9f-d9b0f89951b2 ]] {\r\n",
       "}\r\n",
       "rec usage \"c\" as E8  <<(T,blue)attribute>> [[psysml:5033f0bf-ffeb-4313-b85b-4258ec8a052c ]] {\r\n",
       "}\r\n",
       "}\r\n",
       "@enduml\r\n",
       "\n",
       "PlantUML version 1.2020.13(Sat Jun 13 12:26:38 UTC 2020)\n",
       "(EPL source distribution)\n",
       "Java Runtime: OpenJDK Runtime Environment\n",
       "JVM: OpenJDK 64-Bit Server VM\n",
       "Default Encoding: UTF-8\n",
       "Language: en\n",
       "Country: null\n",
       "--></g></svg>"
      ]
     },
     "execution_count": 12,
     "metadata": {},
     "output_type": "execute_result"
    }
   ],
   "source": [
    "%viz --style=\"POLYLINE\" --view=\"Interconnection\" \"ParameterTest\""
   ]
  },
  {
   "cell_type": "code",
   "execution_count": 13,
   "id": "wanted-religion",
   "metadata": {
    "execution": {
     "iopub.execute_input": "2021-03-26T13:01:40.211579Z",
     "iopub.status.busy": "2021-03-26T13:01:40.210946Z",
     "iopub.status.idle": "2021-03-26T13:01:40.239114Z",
     "shell.execute_reply": "2021-03-26T13:01:40.238745Z"
    }
   },
   "outputs": [
    {
     "data": {
      "image/svg+xml": [
       "<?xml version=\"1.0\" encoding=\"UTF-8\" standalone=\"no\"?><svg xmlns=\"http://www.w3.org/2000/svg\" xmlns:xlink=\"http://www.w3.org/1999/xlink\" contentScriptType=\"application/ecmascript\" contentStyleType=\"text/css\" height=\"126px\" preserveAspectRatio=\"none\" style=\"width:166px;height:126px;\" version=\"1.1\" viewBox=\"0 0 166 126\" width=\"166px\" zoomAndPan=\"magnify\"><defs/><g><!--MD5=[fbc87193dbaf4d95561dea2c320d4a47]\n",
       "cluster E1--><a href=\"psysml:de3210e5-068c-44a8-9828-b5930a13c3bb\" target=\"_top\" title=\"psysml:de3210e5-068c-44a8-9828-b5930a13c3bb\" xlink:actuate=\"onRequest\" xlink:href=\"psysml:de3210e5-068c-44a8-9828-b5930a13c3bb\" xlink:show=\"new\" xlink:title=\"psysml:de3210e5-068c-44a8-9828-b5930a13c3bb\" xlink:type=\"simple\"><rect fill=\"#FFFFFF\" height=\"73\" id=\"E1\" style=\"stroke: #383838; stroke-width: 1.5;\" width=\"148\" x=\"7\" y=\"42.0986\"/><rect fill=\"#F8F8F8\" height=\"37.9375\" style=\"stroke: #383838; stroke-width: 1.5;\" width=\"148\" x=\"7\" y=\"42.0986\"/><text fill=\"#000000\" font-family=\"sans-serif\" font-size=\"12\" font-style=\"italic\" lengthAdjust=\"spacingAndGlyphs\" textLength=\"106\" x=\"28\" y=\"58.2373\">«calculation def»</text><text fill=\"#000000\" font-family=\"sans-serif\" font-size=\"12\" lengthAdjust=\"spacingAndGlyphs\" textLength=\"7\" x=\"77.5\" y=\"72.2061\">F</text></a><text fill=\"#000000\" font-family=\"sans-serif\" font-size=\"14\" lengthAdjust=\"spacingAndGlyphs\" textLength=\"9\" x=\"20.5\" y=\"20.7969\">p</text><rect fill=\"#383838\" height=\"12\" style=\"stroke: #F8F8F8; stroke-width: 1.5;\" width=\"12\" x=\"19\" y=\"36.0986\"/><text fill=\"#000000\" font-family=\"sans-serif\" font-size=\"14\" lengthAdjust=\"spacingAndGlyphs\" textLength=\"9\" x=\"67.5\" y=\"20.7969\">q</text><rect fill=\"#383838\" height=\"12\" style=\"stroke: #F8F8F8; stroke-width: 1.5;\" width=\"12\" x=\"66\" y=\"36.0986\"/><!--MD5=[c8d427162b0e2c605f2461e6cd8aadce]\n",
       "@startuml\r\n",
       "skinparam ranksep 8\r\n",
       "skinparam linetype polyline\r\n",
       "skinparam monochrome true\r\n",
       "skinparam classbackgroundcolor white\r\n",
       "skinparam shadowing false\r\n",
       "skinparam wrapWidth 300\r\n",
       "hide circle\r\n",
       "\r\n",
       "rec def \"F\" as E1  <<(T,blue)calculation def>> [[psysml:de3210e5-068c-44a8-9828-b5930a13c3bb ]] {\r\n",
       "portin \"p\" as E2  [[psysml:6f03e5ff-f747-4209-970e-6a43677acfe5 ]] \r\n",
       "portin \"q\" as E3  [[psysml:59b46d55-27e2-4503-b58c-744d75cefff1 ]] \r\n",
       "}\r\n",
       "\r\n",
       "@enduml\r\n",
       "\n",
       "PlantUML version 1.2020.13(Sat Jun 13 12:26:38 UTC 2020)\n",
       "(EPL source distribution)\n",
       "Java Runtime: OpenJDK Runtime Environment\n",
       "JVM: OpenJDK 64-Bit Server VM\n",
       "Default Encoding: UTF-8\n",
       "Language: en\n",
       "Country: null\n",
       "--></g></svg>"
      ]
     },
     "execution_count": 13,
     "metadata": {},
     "output_type": "execute_result"
    }
   ],
   "source": [
    "%viz --style=\"POLYLINE\" --view=\"Action\" \"ParameterTest\""
   ]
  },
  {
   "cell_type": "code",
   "execution_count": 14,
   "id": "neutral-router",
   "metadata": {
    "execution": {
     "iopub.execute_input": "2021-03-26T13:01:40.290060Z",
     "iopub.status.busy": "2021-03-26T13:01:40.289511Z",
     "iopub.status.idle": "2021-03-26T13:01:40.349134Z",
     "shell.execute_reply": "2021-03-26T13:01:40.348478Z"
    }
   },
   "outputs": [
    {
     "data": {
      "image/svg+xml": [
       "<?xml version=\"1.0\" encoding=\"UTF-8\" standalone=\"no\"?><svg xmlns=\"http://www.w3.org/2000/svg\" xmlns:xlink=\"http://www.w3.org/1999/xlink\" contentScriptType=\"application/ecmascript\" contentStyleType=\"text/css\" height=\"280px\" preserveAspectRatio=\"none\" style=\"width:710px;height:280px;\" version=\"1.1\" viewBox=\"0 0 710 280\" width=\"710px\" zoomAndPan=\"magnify\"><defs/><g><!--MD5=[fbc87193dbaf4d95561dea2c320d4a47]\n",
       "cluster E1--><a href=\"psysml:88bd93f8-a024-442a-9349-d26cb2f873a0\" target=\"_top\" title=\"psysml:88bd93f8-a024-442a-9349-d26cb2f873a0\" xlink:actuate=\"onRequest\" xlink:href=\"psysml:88bd93f8-a024-442a-9349-d26cb2f873a0\" xlink:show=\"new\" xlink:title=\"psysml:88bd93f8-a024-442a-9349-d26cb2f873a0\" xlink:type=\"simple\"><polygon fill=\"#FFFFFF\" points=\"16,6,139,6,146,28.2969,688,28.2969,688,268,16,268,16,6\" style=\"stroke: #000000; stroke-width: 1.5;\"/><line style=\"stroke: #000000; stroke-width: 1.5;\" x1=\"16\" x2=\"146\" y1=\"28.2969\" y2=\"28.2969\"/><text fill=\"#000000\" font-family=\"sans-serif\" font-size=\"14\" font-weight=\"bold\" lengthAdjust=\"spacingAndGlyphs\" textLength=\"117\" x=\"20\" y=\"20.9951\">ParameterTest</text></a><!--MD5=[b4997ac47864f28c2f74865a473b2911]\n",
       "class E2--><a href=\"psysml:2f5789b5-3949-40b4-8579-f7414350119a\" target=\"_top\" title=\"psysml:2f5789b5-3949-40b4-8579-f7414350119a\" xlink:actuate=\"onRequest\" xlink:href=\"psysml:2f5789b5-3949-40b4-8579-f7414350119a\" xlink:show=\"new\" xlink:title=\"psysml:2f5789b5-3949-40b4-8579-f7414350119a\" xlink:type=\"simple\"><rect fill=\"#FFFFFF\" height=\"88.3516\" id=\"E2\" style=\"stroke: #383838; stroke-width: 1.5;\" width=\"95\" x=\"498.5\" y=\"164\"/><text fill=\"#000000\" font-family=\"sans-serif\" font-size=\"12\" font-style=\"italic\" lengthAdjust=\"spacingAndGlyphs\" textLength=\"93\" x=\"499.5\" y=\"180.1387\">«attribute def»</text><text fill=\"#000000\" font-family=\"sans-serif\" font-size=\"12\" lengthAdjust=\"spacingAndGlyphs\" textLength=\"8\" x=\"542\" y=\"194.1074\">A</text><line style=\"stroke: #383838; stroke-width: 1.5;\" x1=\"499.5\" x2=\"592.5\" y1=\"201.9375\" y2=\"201.9375\"/><text fill=\"#000000\" font-family=\"sans-serif\" font-size=\"11\" lengthAdjust=\"spacingAndGlyphs\" textLength=\"48\" x=\"504.5\" y=\"232.9526\">x: String</text><text fill=\"#000000\" font-family=\"sans-serif\" font-size=\"11\" lengthAdjust=\"spacingAndGlyphs\" textLength=\"21\" x=\"504.5\" y=\"245.7573\">y: A</text><line style=\"stroke: #383838; stroke-width: 1.0;\" x1=\"499.5\" x2=\"518.5\" y1=\"216.3398\" y2=\"216.3398\"/><text fill=\"#000000\" font-family=\"sans-serif\" font-size=\"11\" lengthAdjust=\"spacingAndGlyphs\" textLength=\"55\" x=\"518.5\" y=\"219.6479\">attributes</text><line style=\"stroke: #383838; stroke-width: 1.0;\" x1=\"573.5\" x2=\"592.5\" y1=\"216.3398\" y2=\"216.3398\"/></a><!--MD5=[09b614a08d8cba4a07c9adeb5e0fee81]\n",
       "class E3--><a href=\"psysml:02928bc4-0eb7-4367-aa3f-5ffb35356b49\" target=\"_top\" title=\"psysml:02928bc4-0eb7-4367-aa3f-5ffb35356b49\" xlink:actuate=\"onRequest\" xlink:href=\"psysml:02928bc4-0eb7-4367-aa3f-5ffb35356b49\" xlink:show=\"new\" xlink:title=\"psysml:02928bc4-0eb7-4367-aa3f-5ffb35356b49\" xlink:type=\"simple\"><rect fill=\"#FFFFFF\" height=\"45.9375\" id=\"E3\" rx=\"10\" ry=\"10\" style=\"stroke: #383838; stroke-width: 1.5;\" width=\"71\" x=\"600.5\" y=\"41\"/><text fill=\"#000000\" font-family=\"sans-serif\" font-size=\"12\" font-style=\"italic\" lengthAdjust=\"spacingAndGlyphs\" textLength=\"69\" x=\"601.5\" y=\"57.1387\">«attribute»</text><text fill=\"#000000\" font-family=\"sans-serif\" font-size=\"12\" lengthAdjust=\"spacingAndGlyphs\" textLength=\"24\" x=\"624\" y=\"71.1074\">a: A</text><line style=\"stroke: #383838; stroke-width: 1.5;\" x1=\"601.5\" x2=\"670.5\" y1=\"78.9375\" y2=\"78.9375\"/></a><!--MD5=[ebbe1d658d1005bcc118a6aa81145e00]\n",
       "class E4--><a href=\"psysml:de3210e5-068c-44a8-9828-b5930a13c3bb\" target=\"_top\" title=\"psysml:de3210e5-068c-44a8-9828-b5930a13c3bb\" xlink:actuate=\"onRequest\" xlink:href=\"psysml:de3210e5-068c-44a8-9828-b5930a13c3bb\" xlink:show=\"new\" xlink:title=\"psysml:de3210e5-068c-44a8-9828-b5930a13c3bb\" xlink:type=\"simple\"><rect fill=\"#FFFFFF\" height=\"45.9375\" id=\"E4\" style=\"stroke: #383838; stroke-width: 1.5;\" width=\"108\" x=\"457\" y=\"41\"/><text fill=\"#000000\" font-family=\"sans-serif\" font-size=\"12\" font-style=\"italic\" lengthAdjust=\"spacingAndGlyphs\" textLength=\"106\" x=\"458\" y=\"57.1387\">«calculation def»</text><text fill=\"#000000\" font-family=\"sans-serif\" font-size=\"12\" lengthAdjust=\"spacingAndGlyphs\" textLength=\"7\" x=\"507.5\" y=\"71.1074\">F</text><line style=\"stroke: #383838; stroke-width: 1.5;\" x1=\"458\" x2=\"564\" y1=\"78.9375\" y2=\"78.9375\"/></a><!--MD5=[270fce915f116d4de14055a7c1d9a0f3]\n",
       "class E5--><a href=\"psysml:8c3ddf1b-2d8e-48f9-8bd9-e07e4f9dde48\" target=\"_top\" title=\"psysml:8c3ddf1b-2d8e-48f9-8bd9-e07e4f9dde48\" xlink:actuate=\"onRequest\" xlink:href=\"psysml:8c3ddf1b-2d8e-48f9-8bd9-e07e4f9dde48\" xlink:show=\"new\" xlink:title=\"psysml:8c3ddf1b-2d8e-48f9-8bd9-e07e4f9dde48\" xlink:type=\"simple\"><rect fill=\"#FFFFFF\" height=\"45.9375\" id=\"E5\" rx=\"10\" ry=\"10\" style=\"stroke: #383838; stroke-width: 1.5;\" width=\"71\" x=\"350.5\" y=\"41\"/><text fill=\"#000000\" font-family=\"sans-serif\" font-size=\"12\" font-style=\"italic\" lengthAdjust=\"spacingAndGlyphs\" textLength=\"69\" x=\"351.5\" y=\"57.1387\">«attribute»</text><text fill=\"#000000\" font-family=\"sans-serif\" font-size=\"12\" lengthAdjust=\"spacingAndGlyphs\" textLength=\"4\" x=\"384\" y=\"71.1074\">f</text><line style=\"stroke: #383838; stroke-width: 1.5;\" x1=\"351.5\" x2=\"420.5\" y1=\"78.9375\" y2=\"78.9375\"/></a><!--MD5=[60a26617385b1d2d0262a64233df1f8d]\n",
       "class E6--><a href=\"psysml:1f38f371-1f52-4b01-a20c-3f08ced1218d\" target=\"_top\" title=\"psysml:1f38f371-1f52-4b01-a20c-3f08ced1218d\" xlink:actuate=\"onRequest\" xlink:href=\"psysml:1f38f371-1f52-4b01-a20c-3f08ced1218d\" xlink:show=\"new\" xlink:title=\"psysml:1f38f371-1f52-4b01-a20c-3f08ced1218d\" xlink:type=\"simple\"><rect fill=\"#FFFFFF\" height=\"45.9375\" id=\"E6\" rx=\"10\" ry=\"10\" style=\"stroke: #383838; stroke-width: 1.5;\" width=\"71\" x=\"244.5\" y=\"41\"/><text fill=\"#000000\" font-family=\"sans-serif\" font-size=\"12\" font-style=\"italic\" lengthAdjust=\"spacingAndGlyphs\" textLength=\"69\" x=\"245.5\" y=\"57.1387\">«attribute»</text><text fill=\"#000000\" font-family=\"sans-serif\" font-size=\"12\" lengthAdjust=\"spacingAndGlyphs\" textLength=\"8\" x=\"276\" y=\"71.1074\">g</text><line style=\"stroke: #383838; stroke-width: 1.5;\" x1=\"245.5\" x2=\"314.5\" y1=\"78.9375\" y2=\"78.9375\"/></a><!--MD5=[2156ba9850f5573cc1fc38a6a4b2f02b]\n",
       "class E7--><a href=\"psysml:cd4f641f-a9ce-41b8-9b9f-d9b0f89951b2\" target=\"_top\" title=\"psysml:cd4f641f-a9ce-41b8-9b9f-d9b0f89951b2\" xlink:actuate=\"onRequest\" xlink:href=\"psysml:cd4f641f-a9ce-41b8-9b9f-d9b0f89951b2\" xlink:show=\"new\" xlink:title=\"psysml:cd4f641f-a9ce-41b8-9b9f-d9b0f89951b2\" xlink:type=\"simple\"><rect fill=\"#FFFFFF\" height=\"45.9375\" id=\"E7\" rx=\"10\" ry=\"10\" style=\"stroke: #383838; stroke-width: 1.5;\" width=\"71\" x=\"138.5\" y=\"41\"/><text fill=\"#000000\" font-family=\"sans-serif\" font-size=\"12\" font-style=\"italic\" lengthAdjust=\"spacingAndGlyphs\" textLength=\"69\" x=\"139.5\" y=\"57.1387\">«attribute»</text><text fill=\"#000000\" font-family=\"sans-serif\" font-size=\"12\" lengthAdjust=\"spacingAndGlyphs\" textLength=\"8\" x=\"170\" y=\"71.1074\">b</text><line style=\"stroke: #383838; stroke-width: 1.5;\" x1=\"139.5\" x2=\"208.5\" y1=\"78.9375\" y2=\"78.9375\"/></a><!--MD5=[b9389687b975829384b498ac4b7476b2]\n",
       "class E8--><a href=\"psysml:5033f0bf-ffeb-4313-b85b-4258ec8a052c\" target=\"_top\" title=\"psysml:5033f0bf-ffeb-4313-b85b-4258ec8a052c\" xlink:actuate=\"onRequest\" xlink:href=\"psysml:5033f0bf-ffeb-4313-b85b-4258ec8a052c\" xlink:show=\"new\" xlink:title=\"psysml:5033f0bf-ffeb-4313-b85b-4258ec8a052c\" xlink:type=\"simple\"><rect fill=\"#FFFFFF\" height=\"45.9375\" id=\"E8\" rx=\"10\" ry=\"10\" style=\"stroke: #383838; stroke-width: 1.5;\" width=\"71\" x=\"32.5\" y=\"41\"/><text fill=\"#000000\" font-family=\"sans-serif\" font-size=\"12\" font-style=\"italic\" lengthAdjust=\"spacingAndGlyphs\" textLength=\"69\" x=\"33.5\" y=\"57.1387\">«attribute»</text><text fill=\"#000000\" font-family=\"sans-serif\" font-size=\"12\" lengthAdjust=\"spacingAndGlyphs\" textLength=\"7\" x=\"64.5\" y=\"71.1074\">c</text><line style=\"stroke: #383838; stroke-width: 1.5;\" x1=\"33.5\" x2=\"102.5\" y1=\"78.9375\" y2=\"78.9375\"/></a><!--MD5=[05d275557350bfb9b23a4ef7222b4c39]\n",
       "link E3 to E2--><a href=\"psysml:94762400-f967-4f4d-9ae0-7f515d54317a\" target=\"_top\" title=\"psysml:94762400-f967-4f4d-9ae0-7f515d54317a\" xlink:actuate=\"onRequest\" xlink:href=\"psysml:94762400-f967-4f4d-9ae0-7f515d54317a\" xlink:show=\"new\" xlink:title=\"psysml:94762400-f967-4f4d-9ae0-7f515d54317a\" xlink:type=\"simple\"><path d=\"M621.94,87.19 C611.77,103.23 597.51,125.73 584.09,146.9 \" fill=\"none\" id=\"E3-&gt;E2\" style=\"stroke: #383838; stroke-width: 1.0;\"/><polygon fill=\"#FFFFFF\" points=\"573.37,163.82,577.6195,144.0225,589.448,151.5115,573.37,163.82\" style=\"stroke: #383838; stroke-width: 1.0;\"/><ellipse cx=\"582.3584\" cy=\"140.2764\" fill=\"#383838\" rx=\"2\" ry=\"2\" style=\"stroke: #383838; stroke-width: 1.0;\"/><ellipse cx=\"590.8073\" cy=\"145.6258\" fill=\"#383838\" rx=\"2\" ry=\"2\" style=\"stroke: #383838; stroke-width: 1.0;\"/></a><!--MD5=[ddeed8deb2209213b62e6cfabaa108b2]\n",
       "reverse link E4 to E2--><a href=\"psysml:6f03e5ff-f747-4209-970e-6a43677acfe5\" target=\"_top\" title=\"psysml:6f03e5ff-f747-4209-970e-6a43677acfe5\" xlink:actuate=\"onRequest\" xlink:href=\"psysml:6f03e5ff-f747-4209-970e-6a43677acfe5\" xlink:show=\"new\" xlink:title=\"psysml:6f03e5ff-f747-4209-970e-6a43677acfe5\" xlink:type=\"simple\"><path d=\"M519.62,99.96 C524.37,119.25 530.31,143.36 535.36,163.82 \" fill=\"none\" id=\"E4&lt;-E2\" style=\"stroke: #383838; stroke-width: 1.0;\"/><polygon fill=\"#FFFFFF\" points=\"516.47,87.19,514.0229,93.9732,519.3432,98.841,521.7903,92.0577,516.47,87.19\" style=\"stroke: #383838; stroke-width: 1.0;\"/><text fill=\"#000000\" font-family=\"sans-serif\" font-size=\"13\" lengthAdjust=\"spacingAndGlyphs\" textLength=\"8\" x=\"528\" y=\"130.0669\">p</text></a><!--MD5=[3f912a11345af91ba8aa4266fb78de9e]\n",
       "@startuml\r\n",
       "skinparam linetype polyline\r\n",
       "skinparam monochrome true\r\n",
       "skinparam classbackgroundcolor white\r\n",
       "skinparam shadowing false\r\n",
       "skinparam wrapWidth 300\r\n",
       "hide circle\r\n",
       "\r\n",
       "package \"ParameterTest\" as E1  [[psysml:88bd93f8-a024-442a-9349-d26cb2f873a0 ]]  {\r\n",
       "comp def \"A\" as E2  <<(T,blue)attribute def>> [[psysml:2f5789b5-3949-40b4-8579-f7414350119a ]] {\r\n",
       "- - attributes - -\r\n",
       "x: String\r\n",
       "y: A\r\n",
       "}\r\n",
       "comp usage \"a: A\" as E3  <<(T,blue)attribute>> [[psysml:02928bc4-0eb7-4367-aa3f-5ffb35356b49 ]] {\r\n",
       "}\r\n",
       "comp def \"F\" as E4  <<(T,blue)calculation def>> [[psysml:de3210e5-068c-44a8-9828-b5930a13c3bb ]] {\r\n",
       "}\r\n",
       "comp usage \"f\" as E5  <<(T,blue)attribute>> [[psysml:8c3ddf1b-2d8e-48f9-8bd9-e07e4f9dde48 ]] {\r\n",
       "}\r\n",
       "comp usage \"g\" as E6  <<(T,blue)attribute>> [[psysml:1f38f371-1f52-4b01-a20c-3f08ced1218d ]] {\r\n",
       "}\r\n",
       "comp usage \"b\" as E7  <<(T,blue)attribute>> [[psysml:cd4f641f-a9ce-41b8-9b9f-d9b0f89951b2 ]] {\r\n",
       "}\r\n",
       "comp usage \"c\" as E8  <<(T,blue)attribute>> [[psysml:5033f0bf-ffeb-4313-b85b-4258ec8a052c ]] {\r\n",
       "}\r\n",
       "E3 - -:|> E2 [[psysml:94762400-f967-4f4d-9ae0-7f515d54317a ]] \r\n",
       "E4 o- - E2 [[psysml:6f03e5ff-f747-4209-970e-6a43677acfe5 ]] : p\r\n",
       "}\r\n",
       "@enduml\r\n",
       "\n",
       "PlantUML version 1.2020.13(Sat Jun 13 12:26:38 UTC 2020)\n",
       "(EPL source distribution)\n",
       "Java Runtime: OpenJDK Runtime Environment\n",
       "JVM: OpenJDK 64-Bit Server VM\n",
       "Default Encoding: UTF-8\n",
       "Language: en\n",
       "Country: null\n",
       "--></g></svg>"
      ]
     },
     "execution_count": 14,
     "metadata": {},
     "output_type": "execute_result"
    }
   ],
   "source": [
    "%viz --style=\"POLYLINE\" --view=\"Sequence\" \"ParameterTest\""
   ]
  },
  {
   "cell_type": "code",
   "execution_count": 15,
   "id": "understood-montana",
   "metadata": {
    "execution": {
     "iopub.execute_input": "2021-03-26T13:01:40.403036Z",
     "iopub.status.busy": "2021-03-26T13:01:40.401441Z",
     "iopub.status.idle": "2021-03-26T13:01:40.454487Z",
     "shell.execute_reply": "2021-03-26T13:01:40.453090Z"
    }
   },
   "outputs": [
    {
     "data": {
      "image/svg+xml": [
       "<?xml version=\"1.0\" encoding=\"UTF-8\" standalone=\"no\"?><svg xmlns=\"http://www.w3.org/2000/svg\" xmlns:xlink=\"http://www.w3.org/1999/xlink\" contentScriptType=\"application/ecmascript\" contentStyleType=\"text/css\" height=\"263px\" preserveAspectRatio=\"none\" style=\"width:740px;height:263px;\" version=\"1.1\" viewBox=\"0 0 740 263\" width=\"740px\" zoomAndPan=\"magnify\"><defs/><g><!--MD5=[fbc87193dbaf4d95561dea2c320d4a47]\n",
       "cluster E1--><a href=\"psysml:88bd93f8-a024-442a-9349-d26cb2f873a0\" target=\"_top\" title=\"psysml:88bd93f8-a024-442a-9349-d26cb2f873a0\" xlink:actuate=\"onRequest\" xlink:href=\"psysml:88bd93f8-a024-442a-9349-d26cb2f873a0\" xlink:show=\"new\" xlink:title=\"psysml:88bd93f8-a024-442a-9349-d26cb2f873a0\" xlink:type=\"simple\"><polygon fill=\"#FFFFFF\" points=\"16,6,139,6,146,28.2969,718,28.2969,718,251,16,251,16,6\" style=\"stroke: #000000; stroke-width: 1.5;\"/><line style=\"stroke: #000000; stroke-width: 1.5;\" x1=\"16\" x2=\"146\" y1=\"28.2969\" y2=\"28.2969\"/><text fill=\"#000000\" font-family=\"sans-serif\" font-size=\"14\" font-weight=\"bold\" lengthAdjust=\"spacingAndGlyphs\" textLength=\"117\" x=\"20\" y=\"20.9951\">ParameterTest</text></a><!--MD5=[f6df4d0ebaf0b5dfb2ced0ae5af7c670]\n",
       "cluster E4--><a href=\"psysml:de3210e5-068c-44a8-9828-b5930a13c3bb\" target=\"_top\" title=\"psysml:de3210e5-068c-44a8-9828-b5930a13c3bb\" xlink:actuate=\"onRequest\" xlink:href=\"psysml:de3210e5-068c-44a8-9828-b5930a13c3bb\" xlink:show=\"new\" xlink:title=\"psysml:de3210e5-068c-44a8-9828-b5930a13c3bb\" xlink:type=\"simple\"><rect fill=\"#FFFFFF\" height=\"160.5\" id=\"E4\" style=\"stroke: #383838; stroke-width: 1.5;\" width=\"148\" x=\"554\" y=\"64\"/><rect fill=\"#F8F8F8\" height=\"37.9375\" style=\"stroke: #383838; stroke-width: 1.5;\" width=\"148\" x=\"554\" y=\"64\"/><text fill=\"#000000\" font-family=\"sans-serif\" font-size=\"12\" font-style=\"italic\" lengthAdjust=\"spacingAndGlyphs\" textLength=\"106\" x=\"575\" y=\"80.1387\">«calculation def»</text><text fill=\"#000000\" font-family=\"sans-serif\" font-size=\"12\" lengthAdjust=\"spacingAndGlyphs\" textLength=\"7\" x=\"624.5\" y=\"94.1074\">F</text></a><!--MD5=[b4997ac47864f28c2f74865a473b2911]\n",
       "class E2--><a href=\"psysml:2f5789b5-3949-40b4-8579-f7414350119a\" target=\"_top\" title=\"psysml:2f5789b5-3949-40b4-8579-f7414350119a\" xlink:actuate=\"onRequest\" xlink:href=\"psysml:2f5789b5-3949-40b4-8579-f7414350119a\" xlink:show=\"new\" xlink:title=\"psysml:2f5789b5-3949-40b4-8579-f7414350119a\" xlink:type=\"simple\"><rect fill=\"#FFFFFF\" height=\"88.3516\" id=\"E2\" style=\"stroke: #383838; stroke-width: 1.5;\" width=\"95\" x=\"422.5\" y=\"147\"/><text fill=\"#000000\" font-family=\"sans-serif\" font-size=\"12\" font-style=\"italic\" lengthAdjust=\"spacingAndGlyphs\" textLength=\"93\" x=\"423.5\" y=\"163.1387\">«attribute def»</text><text fill=\"#000000\" font-family=\"sans-serif\" font-size=\"12\" lengthAdjust=\"spacingAndGlyphs\" textLength=\"8\" x=\"466\" y=\"177.1074\">A</text><line style=\"stroke: #383838; stroke-width: 1.5;\" x1=\"423.5\" x2=\"516.5\" y1=\"184.9375\" y2=\"184.9375\"/><text fill=\"#000000\" font-family=\"sans-serif\" font-size=\"11\" lengthAdjust=\"spacingAndGlyphs\" textLength=\"48\" x=\"428.5\" y=\"215.9526\">x: String</text><text fill=\"#000000\" font-family=\"sans-serif\" font-size=\"11\" lengthAdjust=\"spacingAndGlyphs\" textLength=\"21\" x=\"428.5\" y=\"228.7573\">y: A</text><line style=\"stroke: #383838; stroke-width: 1.0;\" x1=\"423.5\" x2=\"442.5\" y1=\"199.3398\" y2=\"199.3398\"/><text fill=\"#000000\" font-family=\"sans-serif\" font-size=\"11\" lengthAdjust=\"spacingAndGlyphs\" textLength=\"55\" x=\"442.5\" y=\"202.6479\">attributes</text><line style=\"stroke: #383838; stroke-width: 1.0;\" x1=\"497.5\" x2=\"516.5\" y1=\"199.3398\" y2=\"199.3398\"/></a><!--MD5=[09b614a08d8cba4a07c9adeb5e0fee81]\n",
       "class E3--><a href=\"psysml:02928bc4-0eb7-4367-aa3f-5ffb35356b49\" target=\"_top\" title=\"psysml:02928bc4-0eb7-4367-aa3f-5ffb35356b49\" xlink:actuate=\"onRequest\" xlink:href=\"psysml:02928bc4-0eb7-4367-aa3f-5ffb35356b49\" xlink:show=\"new\" xlink:title=\"psysml:02928bc4-0eb7-4367-aa3f-5ffb35356b49\" xlink:type=\"simple\"><rect fill=\"#FFFFFF\" height=\"45.9375\" id=\"E3\" rx=\"10\" ry=\"10\" style=\"stroke: #383838; stroke-width: 1.5;\" width=\"71\" x=\"456.5\" y=\"41\"/><text fill=\"#000000\" font-family=\"sans-serif\" font-size=\"12\" font-style=\"italic\" lengthAdjust=\"spacingAndGlyphs\" textLength=\"69\" x=\"457.5\" y=\"57.1387\">«attribute»</text><text fill=\"#000000\" font-family=\"sans-serif\" font-size=\"12\" lengthAdjust=\"spacingAndGlyphs\" textLength=\"24\" x=\"480\" y=\"71.1074\">a: A</text><line style=\"stroke: #383838; stroke-width: 1.5;\" x1=\"457.5\" x2=\"526.5\" y1=\"78.9375\" y2=\"78.9375\"/></a><!--MD5=[2156ba9850f5573cc1fc38a6a4b2f02b]\n",
       "class E7--><a href=\"psysml:8c3ddf1b-2d8e-48f9-8bd9-e07e4f9dde48\" target=\"_top\" title=\"psysml:8c3ddf1b-2d8e-48f9-8bd9-e07e4f9dde48\" xlink:actuate=\"onRequest\" xlink:href=\"psysml:8c3ddf1b-2d8e-48f9-8bd9-e07e4f9dde48\" xlink:show=\"new\" xlink:title=\"psysml:8c3ddf1b-2d8e-48f9-8bd9-e07e4f9dde48\" xlink:type=\"simple\"><rect fill=\"#FFFFFF\" height=\"45.9375\" id=\"E7\" rx=\"10\" ry=\"10\" style=\"stroke: #383838; stroke-width: 1.5;\" width=\"71\" x=\"350.5\" y=\"41\"/><text fill=\"#000000\" font-family=\"sans-serif\" font-size=\"12\" font-style=\"italic\" lengthAdjust=\"spacingAndGlyphs\" textLength=\"69\" x=\"351.5\" y=\"57.1387\">«attribute»</text><text fill=\"#000000\" font-family=\"sans-serif\" font-size=\"12\" lengthAdjust=\"spacingAndGlyphs\" textLength=\"4\" x=\"384\" y=\"71.1074\">f</text><line style=\"stroke: #383838; stroke-width: 1.5;\" x1=\"351.5\" x2=\"420.5\" y1=\"78.9375\" y2=\"78.9375\"/></a><!--MD5=[b9389687b975829384b498ac4b7476b2]\n",
       "class E8--><a href=\"psysml:1f38f371-1f52-4b01-a20c-3f08ced1218d\" target=\"_top\" title=\"psysml:1f38f371-1f52-4b01-a20c-3f08ced1218d\" xlink:actuate=\"onRequest\" xlink:href=\"psysml:1f38f371-1f52-4b01-a20c-3f08ced1218d\" xlink:show=\"new\" xlink:title=\"psysml:1f38f371-1f52-4b01-a20c-3f08ced1218d\" xlink:type=\"simple\"><rect fill=\"#FFFFFF\" height=\"45.9375\" id=\"E8\" rx=\"10\" ry=\"10\" style=\"stroke: #383838; stroke-width: 1.5;\" width=\"71\" x=\"244.5\" y=\"41\"/><text fill=\"#000000\" font-family=\"sans-serif\" font-size=\"12\" font-style=\"italic\" lengthAdjust=\"spacingAndGlyphs\" textLength=\"69\" x=\"245.5\" y=\"57.1387\">«attribute»</text><text fill=\"#000000\" font-family=\"sans-serif\" font-size=\"12\" lengthAdjust=\"spacingAndGlyphs\" textLength=\"8\" x=\"276\" y=\"71.1074\">g</text><line style=\"stroke: #383838; stroke-width: 1.5;\" x1=\"245.5\" x2=\"314.5\" y1=\"78.9375\" y2=\"78.9375\"/></a><!--MD5=[fd4143e9d270a159db93a4ea2a975926]\n",
       "class E9--><a href=\"psysml:cd4f641f-a9ce-41b8-9b9f-d9b0f89951b2\" target=\"_top\" title=\"psysml:cd4f641f-a9ce-41b8-9b9f-d9b0f89951b2\" xlink:actuate=\"onRequest\" xlink:href=\"psysml:cd4f641f-a9ce-41b8-9b9f-d9b0f89951b2\" xlink:show=\"new\" xlink:title=\"psysml:cd4f641f-a9ce-41b8-9b9f-d9b0f89951b2\" xlink:type=\"simple\"><rect fill=\"#FFFFFF\" height=\"45.9375\" id=\"E9\" rx=\"10\" ry=\"10\" style=\"stroke: #383838; stroke-width: 1.5;\" width=\"71\" x=\"138.5\" y=\"41\"/><text fill=\"#000000\" font-family=\"sans-serif\" font-size=\"12\" font-style=\"italic\" lengthAdjust=\"spacingAndGlyphs\" textLength=\"69\" x=\"139.5\" y=\"57.1387\">«attribute»</text><text fill=\"#000000\" font-family=\"sans-serif\" font-size=\"12\" lengthAdjust=\"spacingAndGlyphs\" textLength=\"8\" x=\"170\" y=\"71.1074\">b</text><line style=\"stroke: #383838; stroke-width: 1.5;\" x1=\"139.5\" x2=\"208.5\" y1=\"78.9375\" y2=\"78.9375\"/></a><!--MD5=[96f4274e9e20536e775497830990834d]\n",
       "class E10--><a href=\"psysml:5033f0bf-ffeb-4313-b85b-4258ec8a052c\" target=\"_top\" title=\"psysml:5033f0bf-ffeb-4313-b85b-4258ec8a052c\" xlink:actuate=\"onRequest\" xlink:href=\"psysml:5033f0bf-ffeb-4313-b85b-4258ec8a052c\" xlink:show=\"new\" xlink:title=\"psysml:5033f0bf-ffeb-4313-b85b-4258ec8a052c\" xlink:type=\"simple\"><rect fill=\"#FFFFFF\" height=\"45.9375\" id=\"E10\" rx=\"10\" ry=\"10\" style=\"stroke: #383838; stroke-width: 1.5;\" width=\"71\" x=\"32.5\" y=\"41\"/><text fill=\"#000000\" font-family=\"sans-serif\" font-size=\"12\" font-style=\"italic\" lengthAdjust=\"spacingAndGlyphs\" textLength=\"69\" x=\"33.5\" y=\"57.1387\">«attribute»</text><text fill=\"#000000\" font-family=\"sans-serif\" font-size=\"12\" lengthAdjust=\"spacingAndGlyphs\" textLength=\"7\" x=\"64.5\" y=\"71.1074\">c</text><line style=\"stroke: #383838; stroke-width: 1.5;\" x1=\"33.5\" x2=\"102.5\" y1=\"78.9375\" y2=\"78.9375\"/></a><text fill=\"#000000\" font-family=\"sans-serif\" font-size=\"14\" lengthAdjust=\"spacingAndGlyphs\" textLength=\"9\" x=\"567.5\" y=\"42.6982\">p</text><rect fill=\"#383838\" height=\"12\" style=\"stroke: #F8F8F8; stroke-width: 1.5;\" width=\"12\" x=\"566\" y=\"58\"/><text fill=\"#000000\" font-family=\"sans-serif\" font-size=\"14\" lengthAdjust=\"spacingAndGlyphs\" textLength=\"9\" x=\"614.5\" y=\"42.6982\">q</text><rect fill=\"#383838\" height=\"12\" style=\"stroke: #F8F8F8; stroke-width: 1.5;\" width=\"12\" x=\"613\" y=\"58\"/><!--MD5=[05d275557350bfb9b23a4ef7222b4c39]\n",
       "link E3 to E2--><a href=\"psysml:94762400-f967-4f4d-9ae0-7f515d54317a\" target=\"_top\" title=\"psysml:94762400-f967-4f4d-9ae0-7f515d54317a\" xlink:actuate=\"onRequest\" xlink:href=\"psysml:94762400-f967-4f4d-9ae0-7f515d54317a\" xlink:show=\"new\" xlink:title=\"psysml:94762400-f967-4f4d-9ae0-7f515d54317a\" xlink:type=\"simple\"><path d=\"M488.12,87.06 C486.14,98.3 483.62,112.6 481.1,126.95 \" fill=\"none\" id=\"E3-&gt;E2\" style=\"stroke: #383838; stroke-width: 1.0;\"/><polygon fill=\"#FFFFFF\" points=\"477.58,146.93,473.9835,127.0035,487.7711,129.4331,477.58,146.93\" style=\"stroke: #383838; stroke-width: 1.0;\"/><ellipse cx=\"476.9423\" cy=\"121.7371\" fill=\"#383838\" rx=\"2\" ry=\"2\" style=\"stroke: #383838; stroke-width: 1.0;\"/><ellipse cx=\"486.7906\" cy=\"123.4725\" fill=\"#383838\" rx=\"2\" ry=\"2\" style=\"stroke: #383838; stroke-width: 1.0;\"/></a><!--MD5=[e8f8ff35871c9b67a46d67a986d8c178]\n",
       "@startuml\r\n",
       "skinparam linetype polyline\r\n",
       "skinparam monochrome true\r\n",
       "skinparam classbackgroundcolor white\r\n",
       "skinparam shadowing false\r\n",
       "skinparam wrapWidth 300\r\n",
       "hide circle\r\n",
       "\r\n",
       "package \"ParameterTest\" as E1  [[psysml:88bd93f8-a024-442a-9349-d26cb2f873a0 ]]  {\r\n",
       "comp def \"A\" as E2  <<(T,blue)attribute def>> [[psysml:2f5789b5-3949-40b4-8579-f7414350119a ]] {\r\n",
       "- - attributes - -\r\n",
       "x: String\r\n",
       "y: A\r\n",
       "}\r\n",
       "comp usage \"a: A\" as E3  <<(T,blue)attribute>> [[psysml:02928bc4-0eb7-4367-aa3f-5ffb35356b49 ]] {\r\n",
       "}\r\n",
       "rec def \"F\" as E4  <<(T,blue)calculation def>> [[psysml:de3210e5-068c-44a8-9828-b5930a13c3bb ]] {\r\n",
       "portin \"p\" as E5  [[psysml:6f03e5ff-f747-4209-970e-6a43677acfe5 ]] \r\n",
       "portin \"q\" as E6  [[psysml:59b46d55-27e2-4503-b58c-744d75cefff1 ]] \r\n",
       "}\r\n",
       "\r\n",
       "comp usage \"f\" as E7  <<(T,blue)attribute>> [[psysml:8c3ddf1b-2d8e-48f9-8bd9-e07e4f9dde48 ]] {\r\n",
       "}\r\n",
       "comp usage \"g\" as E8  <<(T,blue)attribute>> [[psysml:1f38f371-1f52-4b01-a20c-3f08ced1218d ]] {\r\n",
       "}\r\n",
       "comp usage \"b\" as E9  <<(T,blue)attribute>> [[psysml:cd4f641f-a9ce-41b8-9b9f-d9b0f89951b2 ]] {\r\n",
       "}\r\n",
       "comp usage \"c\" as E10  <<(T,blue)attribute>> [[psysml:5033f0bf-ffeb-4313-b85b-4258ec8a052c ]] {\r\n",
       "}\r\n",
       "E3 - -:|> E2 [[psysml:94762400-f967-4f4d-9ae0-7f515d54317a ]] \r\n",
       "}\r\n",
       "@enduml\r\n",
       "\n",
       "PlantUML version 1.2020.13(Sat Jun 13 12:26:38 UTC 2020)\n",
       "(EPL source distribution)\n",
       "Java Runtime: OpenJDK Runtime Environment\n",
       "JVM: OpenJDK 64-Bit Server VM\n",
       "Default Encoding: UTF-8\n",
       "Language: en\n",
       "Country: null\n",
       "--></g></svg>"
      ]
     },
     "execution_count": 15,
     "metadata": {},
     "output_type": "execute_result"
    }
   ],
   "source": [
    "%viz --style=\"POLYLINE\" --view=\"MIXED\" \"ParameterTest\""
   ]
  },
  {
   "cell_type": "code",
   "execution_count": 16,
   "id": "tutorial-allowance",
   "metadata": {
    "execution": {
     "iopub.execute_input": "2021-03-26T13:01:40.510157Z",
     "iopub.status.busy": "2021-03-26T13:01:40.509272Z",
     "iopub.status.idle": "2021-03-26T13:01:40.586119Z",
     "shell.execute_reply": "2021-03-26T13:01:40.584874Z"
    }
   },
   "outputs": [
    {
     "data": {
      "image/svg+xml": [
       "<?xml version=\"1.0\" encoding=\"UTF-8\" standalone=\"no\"?><svg xmlns=\"http://www.w3.org/2000/svg\" xmlns:xlink=\"http://www.w3.org/1999/xlink\" contentScriptType=\"application/ecmascript\" contentStyleType=\"text/css\" height=\"541px\" preserveAspectRatio=\"none\" style=\"width:350px;height:541px;\" version=\"1.1\" viewBox=\"0 0 350 541\" width=\"350px\" zoomAndPan=\"magnify\"><defs/><g><!--MD5=[fbc87193dbaf4d95561dea2c320d4a47]\n",
       "cluster E1--><a href=\"psysml:88bd93f8-a024-442a-9349-d26cb2f873a0\" target=\"_top\" title=\"psysml:88bd93f8-a024-442a-9349-d26cb2f873a0\" xlink:actuate=\"onRequest\" xlink:href=\"psysml:88bd93f8-a024-442a-9349-d26cb2f873a0\" xlink:show=\"new\" xlink:title=\"psysml:88bd93f8-a024-442a-9349-d26cb2f873a0\" xlink:type=\"simple\"><polygon fill=\"#FFFFFF\" points=\"16,6,139,6,146,28.2969,328,28.2969,328,529,16,529,16,6\" style=\"stroke: #000000; stroke-width: 1.5;\"/><line style=\"stroke: #000000; stroke-width: 1.5;\" x1=\"16\" x2=\"146\" y1=\"28.2969\" y2=\"28.2969\"/><text fill=\"#000000\" font-family=\"sans-serif\" font-size=\"14\" font-weight=\"bold\" lengthAdjust=\"spacingAndGlyphs\" textLength=\"117\" x=\"20\" y=\"20.9951\">ParameterTest</text></a><!--MD5=[f6df4d0ebaf0b5dfb2ced0ae5af7c670]\n",
       "cluster E4--><a href=\"psysml:de3210e5-068c-44a8-9828-b5930a13c3bb\" target=\"_top\" title=\"psysml:de3210e5-068c-44a8-9828-b5930a13c3bb\" xlink:actuate=\"onRequest\" xlink:href=\"psysml:de3210e5-068c-44a8-9828-b5930a13c3bb\" xlink:show=\"new\" xlink:title=\"psysml:de3210e5-068c-44a8-9828-b5930a13c3bb\" xlink:type=\"simple\"><rect fill=\"#FFFFFF\" height=\"47\" id=\"E4\" style=\"stroke: #383838; stroke-width: 1.5;\" width=\"262.5\" x=\"49.5\" y=\"55\"/><rect fill=\"#F8F8F8\" height=\"37.9375\" style=\"stroke: #383838; stroke-width: 1.5;\" width=\"262.5\" x=\"49.5\" y=\"55\"/><text fill=\"#000000\" font-family=\"sans-serif\" font-size=\"12\" font-style=\"italic\" lengthAdjust=\"spacingAndGlyphs\" textLength=\"106\" x=\"127.75\" y=\"71.1387\">«calculation def»</text><text fill=\"#000000\" font-family=\"sans-serif\" font-size=\"12\" lengthAdjust=\"spacingAndGlyphs\" textLength=\"7\" x=\"177.25\" y=\"85.1074\">F</text></a><!--MD5=[b4997ac47864f28c2f74865a473b2911]\n",
       "class E2--><a href=\"psysml:2f5789b5-3949-40b4-8579-f7414350119a\" target=\"_top\" title=\"psysml:2f5789b5-3949-40b4-8579-f7414350119a\" xlink:actuate=\"onRequest\" xlink:href=\"psysml:2f5789b5-3949-40b4-8579-f7414350119a\" xlink:show=\"new\" xlink:title=\"psysml:2f5789b5-3949-40b4-8579-f7414350119a\" xlink:type=\"simple\"><rect fill=\"#FFFFFF\" height=\"88.3516\" id=\"E2\" style=\"stroke: #383838; stroke-width: 1.5;\" width=\"95\" x=\"182\" y=\"128\"/><text fill=\"#000000\" font-family=\"sans-serif\" font-size=\"12\" font-style=\"italic\" lengthAdjust=\"spacingAndGlyphs\" textLength=\"93\" x=\"183\" y=\"144.1387\">«attribute def»</text><text fill=\"#000000\" font-family=\"sans-serif\" font-size=\"12\" lengthAdjust=\"spacingAndGlyphs\" textLength=\"8\" x=\"225.5\" y=\"158.1074\">A</text><line style=\"stroke: #383838; stroke-width: 1.5;\" x1=\"183\" x2=\"276\" y1=\"165.9375\" y2=\"165.9375\"/><text fill=\"#000000\" font-family=\"sans-serif\" font-size=\"11\" lengthAdjust=\"spacingAndGlyphs\" textLength=\"48\" x=\"188\" y=\"196.9526\">x: String</text><text fill=\"#000000\" font-family=\"sans-serif\" font-size=\"11\" lengthAdjust=\"spacingAndGlyphs\" textLength=\"21\" x=\"188\" y=\"209.7573\">y: A</text><line style=\"stroke: #383838; stroke-width: 1.0;\" x1=\"183\" x2=\"202\" y1=\"180.3398\" y2=\"180.3398\"/><text fill=\"#000000\" font-family=\"sans-serif\" font-size=\"11\" lengthAdjust=\"spacingAndGlyphs\" textLength=\"55\" x=\"202\" y=\"183.6479\">attributes</text><line style=\"stroke: #383838; stroke-width: 1.0;\" x1=\"257\" x2=\"276\" y1=\"180.3398\" y2=\"180.3398\"/></a><!--MD5=[09b614a08d8cba4a07c9adeb5e0fee81]\n",
       "class E3--><a href=\"psysml:02928bc4-0eb7-4367-aa3f-5ffb35356b49\" target=\"_top\" title=\"psysml:02928bc4-0eb7-4367-aa3f-5ffb35356b49\" xlink:actuate=\"onRequest\" xlink:href=\"psysml:02928bc4-0eb7-4367-aa3f-5ffb35356b49\" xlink:show=\"new\" xlink:title=\"psysml:02928bc4-0eb7-4367-aa3f-5ffb35356b49\" xlink:type=\"simple\"><rect fill=\"#FFFFFF\" height=\"45.9375\" id=\"E3\" rx=\"10\" ry=\"10\" style=\"stroke: #383838; stroke-width: 1.5;\" width=\"71\" x=\"32\" y=\"143\"/><text fill=\"#000000\" font-family=\"sans-serif\" font-size=\"12\" font-style=\"italic\" lengthAdjust=\"spacingAndGlyphs\" textLength=\"69\" x=\"33\" y=\"159.1387\">«attribute»</text><text fill=\"#000000\" font-family=\"sans-serif\" font-size=\"12\" lengthAdjust=\"spacingAndGlyphs\" textLength=\"24\" x=\"55.5\" y=\"173.1074\">a: A</text><line style=\"stroke: #383838; stroke-width: 1.5;\" x1=\"33\" x2=\"102\" y1=\"180.9375\" y2=\"180.9375\"/></a><!--MD5=[2156ba9850f5573cc1fc38a6a4b2f02b]\n",
       "class E7--><a href=\"psysml:8c3ddf1b-2d8e-48f9-8bd9-e07e4f9dde48\" target=\"_top\" title=\"psysml:8c3ddf1b-2d8e-48f9-8bd9-e07e4f9dde48\" xlink:actuate=\"onRequest\" xlink:href=\"psysml:8c3ddf1b-2d8e-48f9-8bd9-e07e4f9dde48\" xlink:show=\"new\" xlink:title=\"psysml:8c3ddf1b-2d8e-48f9-8bd9-e07e4f9dde48\" xlink:type=\"simple\"><rect fill=\"#FFFFFF\" height=\"45.9375\" id=\"E7\" rx=\"10\" ry=\"10\" style=\"stroke: #383838; stroke-width: 1.5;\" width=\"71\" x=\"32\" y=\"224\"/><text fill=\"#000000\" font-family=\"sans-serif\" font-size=\"12\" font-style=\"italic\" lengthAdjust=\"spacingAndGlyphs\" textLength=\"69\" x=\"33\" y=\"240.1387\">«attribute»</text><text fill=\"#000000\" font-family=\"sans-serif\" font-size=\"12\" lengthAdjust=\"spacingAndGlyphs\" textLength=\"4\" x=\"65.5\" y=\"254.1074\">f</text><line style=\"stroke: #383838; stroke-width: 1.5;\" x1=\"33\" x2=\"102\" y1=\"261.9375\" y2=\"261.9375\"/></a><!--MD5=[b9389687b975829384b498ac4b7476b2]\n",
       "class E8--><a href=\"psysml:1f38f371-1f52-4b01-a20c-3f08ced1218d\" target=\"_top\" title=\"psysml:1f38f371-1f52-4b01-a20c-3f08ced1218d\" xlink:actuate=\"onRequest\" xlink:href=\"psysml:1f38f371-1f52-4b01-a20c-3f08ced1218d\" xlink:show=\"new\" xlink:title=\"psysml:1f38f371-1f52-4b01-a20c-3f08ced1218d\" xlink:type=\"simple\"><rect fill=\"#FFFFFF\" height=\"45.9375\" id=\"E8\" rx=\"10\" ry=\"10\" style=\"stroke: #383838; stroke-width: 1.5;\" width=\"71\" x=\"32\" y=\"305\"/><text fill=\"#000000\" font-family=\"sans-serif\" font-size=\"12\" font-style=\"italic\" lengthAdjust=\"spacingAndGlyphs\" textLength=\"69\" x=\"33\" y=\"321.1387\">«attribute»</text><text fill=\"#000000\" font-family=\"sans-serif\" font-size=\"12\" lengthAdjust=\"spacingAndGlyphs\" textLength=\"8\" x=\"63.5\" y=\"335.1074\">g</text><line style=\"stroke: #383838; stroke-width: 1.5;\" x1=\"33\" x2=\"102\" y1=\"342.9375\" y2=\"342.9375\"/></a><!--MD5=[fd4143e9d270a159db93a4ea2a975926]\n",
       "class E9--><a href=\"psysml:cd4f641f-a9ce-41b8-9b9f-d9b0f89951b2\" target=\"_top\" title=\"psysml:cd4f641f-a9ce-41b8-9b9f-d9b0f89951b2\" xlink:actuate=\"onRequest\" xlink:href=\"psysml:cd4f641f-a9ce-41b8-9b9f-d9b0f89951b2\" xlink:show=\"new\" xlink:title=\"psysml:cd4f641f-a9ce-41b8-9b9f-d9b0f89951b2\" xlink:type=\"simple\"><rect fill=\"#FFFFFF\" height=\"45.9375\" id=\"E9\" rx=\"10\" ry=\"10\" style=\"stroke: #383838; stroke-width: 1.5;\" width=\"71\" x=\"32\" y=\"386\"/><text fill=\"#000000\" font-family=\"sans-serif\" font-size=\"12\" font-style=\"italic\" lengthAdjust=\"spacingAndGlyphs\" textLength=\"69\" x=\"33\" y=\"402.1387\">«attribute»</text><text fill=\"#000000\" font-family=\"sans-serif\" font-size=\"12\" lengthAdjust=\"spacingAndGlyphs\" textLength=\"8\" x=\"63.5\" y=\"416.1074\">b</text><line style=\"stroke: #383838; stroke-width: 1.5;\" x1=\"33\" x2=\"102\" y1=\"423.9375\" y2=\"423.9375\"/></a><!--MD5=[96f4274e9e20536e775497830990834d]\n",
       "class E10--><a href=\"psysml:5033f0bf-ffeb-4313-b85b-4258ec8a052c\" target=\"_top\" title=\"psysml:5033f0bf-ffeb-4313-b85b-4258ec8a052c\" xlink:actuate=\"onRequest\" xlink:href=\"psysml:5033f0bf-ffeb-4313-b85b-4258ec8a052c\" xlink:show=\"new\" xlink:title=\"psysml:5033f0bf-ffeb-4313-b85b-4258ec8a052c\" xlink:type=\"simple\"><rect fill=\"#FFFFFF\" height=\"45.9375\" id=\"E10\" rx=\"10\" ry=\"10\" style=\"stroke: #383838; stroke-width: 1.5;\" width=\"71\" x=\"32\" y=\"467\"/><text fill=\"#000000\" font-family=\"sans-serif\" font-size=\"12\" font-style=\"italic\" lengthAdjust=\"spacingAndGlyphs\" textLength=\"69\" x=\"33\" y=\"483.1387\">«attribute»</text><text fill=\"#000000\" font-family=\"sans-serif\" font-size=\"12\" lengthAdjust=\"spacingAndGlyphs\" textLength=\"7\" x=\"64\" y=\"497.1074\">c</text><line style=\"stroke: #383838; stroke-width: 1.5;\" x1=\"33\" x2=\"102\" y1=\"504.9375\" y2=\"504.9375\"/></a><text fill=\"#000000\" font-family=\"sans-serif\" font-size=\"14\" lengthAdjust=\"spacingAndGlyphs\" textLength=\"9\" x=\"63\" y=\"120.9951\">p</text><rect fill=\"#383838\" height=\"12\" style=\"stroke: #F8F8F8; stroke-width: 1.5;\" width=\"12\" x=\"61.5\" y=\"96\"/><text fill=\"#000000\" font-family=\"sans-serif\" font-size=\"14\" lengthAdjust=\"spacingAndGlyphs\" textLength=\"9\" x=\"63\" y=\"33.6982\">q</text><rect fill=\"#383838\" height=\"12\" style=\"stroke: #F8F8F8; stroke-width: 1.5;\" width=\"12\" x=\"61.5\" y=\"49\"/><!--MD5=[05d275557350bfb9b23a4ef7222b4c39]\n",
       "link E3 to E2--><a href=\"psysml:94762400-f967-4f4d-9ae0-7f515d54317a\" target=\"_top\" title=\"psysml:94762400-f967-4f4d-9ae0-7f515d54317a\" xlink:actuate=\"onRequest\" xlink:href=\"psysml:94762400-f967-4f4d-9ae0-7f515d54317a\" xlink:show=\"new\" xlink:title=\"psysml:94762400-f967-4f4d-9ae0-7f515d54317a\" xlink:type=\"simple\"><path d=\"M103.22,167.3 C120.27,167.94 141.42,168.73 161.45,169.49 \" fill=\"none\" id=\"E3-&gt;E2\" style=\"stroke: #383838; stroke-width: 1.0;\"/><polygon fill=\"#FFFFFF\" points=\"181.71,170.25,162.4631,176.5394,162.9831,162.5491,181.71,170.25\" style=\"stroke: #383838; stroke-width: 1.0;\"/><ellipse cx=\"156.8413\" cy=\"174.3291\" fill=\"#383838\" rx=\"2\" ry=\"2\" style=\"stroke: #383838; stroke-width: 1.0;\"/><ellipse cx=\"157.2128\" cy=\"164.336\" fill=\"#383838\" rx=\"2\" ry=\"2\" style=\"stroke: #383838; stroke-width: 1.0;\"/></a><!--MD5=[e7c365e87334de993150c04429f3a999]\n",
       "@startuml\r\n",
       "left to right direction\r\n",
       "skinparam monochrome true\r\n",
       "skinparam classbackgroundcolor white\r\n",
       "skinparam shadowing false\r\n",
       "skinparam wrapWidth 300\r\n",
       "hide circle\r\n",
       "\r\n",
       "package \"ParameterTest\" as E1  [[psysml:88bd93f8-a024-442a-9349-d26cb2f873a0 ]]  {\r\n",
       "comp def \"A\" as E2  <<(T,blue)attribute def>> [[psysml:2f5789b5-3949-40b4-8579-f7414350119a ]] {\r\n",
       "- - attributes - -\r\n",
       "x: String\r\n",
       "y: A\r\n",
       "}\r\n",
       "comp usage \"a: A\" as E3  <<(T,blue)attribute>> [[psysml:02928bc4-0eb7-4367-aa3f-5ffb35356b49 ]] {\r\n",
       "}\r\n",
       "rec def \"F\" as E4  <<(T,blue)calculation def>> [[psysml:de3210e5-068c-44a8-9828-b5930a13c3bb ]] {\r\n",
       "portin \"p\" as E5  [[psysml:6f03e5ff-f747-4209-970e-6a43677acfe5 ]] \r\n",
       "portin \"q\" as E6  [[psysml:59b46d55-27e2-4503-b58c-744d75cefff1 ]] \r\n",
       "}\r\n",
       "\r\n",
       "comp usage \"f\" as E7  <<(T,blue)attribute>> [[psysml:8c3ddf1b-2d8e-48f9-8bd9-e07e4f9dde48 ]] {\r\n",
       "}\r\n",
       "comp usage \"g\" as E8  <<(T,blue)attribute>> [[psysml:1f38f371-1f52-4b01-a20c-3f08ced1218d ]] {\r\n",
       "}\r\n",
       "comp usage \"b\" as E9  <<(T,blue)attribute>> [[psysml:cd4f641f-a9ce-41b8-9b9f-d9b0f89951b2 ]] {\r\n",
       "}\r\n",
       "comp usage \"c\" as E10  <<(T,blue)attribute>> [[psysml:5033f0bf-ffeb-4313-b85b-4258ec8a052c ]] {\r\n",
       "}\r\n",
       "E3 - -:|> E2 [[psysml:94762400-f967-4f4d-9ae0-7f515d54317a ]] \r\n",
       "}\r\n",
       "@enduml\r\n",
       "\n",
       "PlantUML version 1.2020.13(Sat Jun 13 12:26:38 UTC 2020)\n",
       "(EPL source distribution)\n",
       "Java Runtime: OpenJDK Runtime Environment\n",
       "JVM: OpenJDK 64-Bit Server VM\n",
       "Default Encoding: UTF-8\n",
       "Language: en\n",
       "Country: null\n",
       "--></g></svg>"
      ]
     },
     "execution_count": 16,
     "metadata": {},
     "output_type": "execute_result"
    }
   ],
   "source": [
    "%viz --style=\"LR\" --view=\"Default\" \"ParameterTest\""
   ]
  },
  {
   "cell_type": "code",
   "execution_count": 17,
   "id": "engaging-paragraph",
   "metadata": {
    "execution": {
     "iopub.execute_input": "2021-03-26T13:01:40.641676Z",
     "iopub.status.busy": "2021-03-26T13:01:40.641216Z",
     "iopub.status.idle": "2021-03-26T13:01:40.691520Z",
     "shell.execute_reply": "2021-03-26T13:01:40.691894Z"
    }
   },
   "outputs": [
    {
     "data": {
      "image/svg+xml": [
       "<?xml version=\"1.0\" encoding=\"UTF-8\" standalone=\"no\"?><svg xmlns=\"http://www.w3.org/2000/svg\" xmlns:xlink=\"http://www.w3.org/1999/xlink\" contentScriptType=\"application/ecmascript\" contentStyleType=\"text/css\" height=\"520px\" preserveAspectRatio=\"none\" style=\"width:343px;height:520px;\" version=\"1.1\" viewBox=\"0 0 343 520\" width=\"343px\" zoomAndPan=\"magnify\"><defs/><g><!--MD5=[fbc87193dbaf4d95561dea2c320d4a47]\n",
       "cluster E1--><a href=\"psysml:88bd93f8-a024-442a-9349-d26cb2f873a0\" target=\"_top\" title=\"psysml:88bd93f8-a024-442a-9349-d26cb2f873a0\" xlink:actuate=\"onRequest\" xlink:href=\"psysml:88bd93f8-a024-442a-9349-d26cb2f873a0\" xlink:show=\"new\" xlink:title=\"psysml:88bd93f8-a024-442a-9349-d26cb2f873a0\" xlink:type=\"simple\"><polygon fill=\"#FFFFFF\" points=\"16,6,139,6,146,28.2969,321,28.2969,321,508,16,508,16,6\" style=\"stroke: #000000; stroke-width: 1.5;\"/><line style=\"stroke: #000000; stroke-width: 1.5;\" x1=\"16\" x2=\"146\" y1=\"28.2969\" y2=\"28.2969\"/><text fill=\"#000000\" font-family=\"sans-serif\" font-size=\"14\" font-weight=\"bold\" lengthAdjust=\"spacingAndGlyphs\" textLength=\"117\" x=\"20\" y=\"20.9951\">ParameterTest</text></a><!--MD5=[b4997ac47864f28c2f74865a473b2911]\n",
       "class E2--><a href=\"psysml:2f5789b5-3949-40b4-8579-f7414350119a\" target=\"_top\" title=\"psysml:2f5789b5-3949-40b4-8579-f7414350119a\" xlink:actuate=\"onRequest\" xlink:href=\"psysml:2f5789b5-3949-40b4-8579-f7414350119a\" xlink:show=\"new\" xlink:title=\"psysml:2f5789b5-3949-40b4-8579-f7414350119a\" xlink:type=\"simple\"><rect fill=\"#FFFFFF\" height=\"88.3516\" id=\"E2\" style=\"stroke: #383838; stroke-width: 1.5;\" width=\"95\" x=\"210\" y=\"76\"/><text fill=\"#000000\" font-family=\"sans-serif\" font-size=\"12\" font-style=\"italic\" lengthAdjust=\"spacingAndGlyphs\" textLength=\"93\" x=\"211\" y=\"92.1387\">«attribute def»</text><text fill=\"#000000\" font-family=\"sans-serif\" font-size=\"12\" lengthAdjust=\"spacingAndGlyphs\" textLength=\"8\" x=\"253.5\" y=\"106.1074\">A</text><line style=\"stroke: #383838; stroke-width: 1.5;\" x1=\"211\" x2=\"304\" y1=\"113.9375\" y2=\"113.9375\"/><text fill=\"#000000\" font-family=\"sans-serif\" font-size=\"11\" lengthAdjust=\"spacingAndGlyphs\" textLength=\"48\" x=\"216\" y=\"144.9526\">x: String</text><text fill=\"#000000\" font-family=\"sans-serif\" font-size=\"11\" lengthAdjust=\"spacingAndGlyphs\" textLength=\"21\" x=\"216\" y=\"157.7573\">y: A</text><line style=\"stroke: #383838; stroke-width: 1.0;\" x1=\"211\" x2=\"230\" y1=\"128.3398\" y2=\"128.3398\"/><text fill=\"#000000\" font-family=\"sans-serif\" font-size=\"11\" lengthAdjust=\"spacingAndGlyphs\" textLength=\"55\" x=\"230\" y=\"131.6479\">attributes</text><line style=\"stroke: #383838; stroke-width: 1.0;\" x1=\"285\" x2=\"304\" y1=\"128.3398\" y2=\"128.3398\"/></a><!--MD5=[09b614a08d8cba4a07c9adeb5e0fee81]\n",
       "class E3--><a href=\"psysml:02928bc4-0eb7-4367-aa3f-5ffb35356b49\" target=\"_top\" title=\"psysml:02928bc4-0eb7-4367-aa3f-5ffb35356b49\" xlink:actuate=\"onRequest\" xlink:href=\"psysml:02928bc4-0eb7-4367-aa3f-5ffb35356b49\" xlink:show=\"new\" xlink:title=\"psysml:02928bc4-0eb7-4367-aa3f-5ffb35356b49\" xlink:type=\"simple\"><rect fill=\"#FFFFFF\" height=\"45.9375\" id=\"E3\" rx=\"10\" ry=\"10\" style=\"stroke: #383838; stroke-width: 1.5;\" width=\"71\" x=\"50.5\" y=\"41\"/><text fill=\"#000000\" font-family=\"sans-serif\" font-size=\"12\" font-style=\"italic\" lengthAdjust=\"spacingAndGlyphs\" textLength=\"69\" x=\"51.5\" y=\"57.1387\">«attribute»</text><text fill=\"#000000\" font-family=\"sans-serif\" font-size=\"12\" lengthAdjust=\"spacingAndGlyphs\" textLength=\"24\" x=\"74\" y=\"71.1074\">a: A</text><line style=\"stroke: #383838; stroke-width: 1.5;\" x1=\"51.5\" x2=\"120.5\" y1=\"78.9375\" y2=\"78.9375\"/></a><!--MD5=[ebbe1d658d1005bcc118a6aa81145e00]\n",
       "class E4--><a href=\"psysml:de3210e5-068c-44a8-9828-b5930a13c3bb\" target=\"_top\" title=\"psysml:de3210e5-068c-44a8-9828-b5930a13c3bb\" xlink:actuate=\"onRequest\" xlink:href=\"psysml:de3210e5-068c-44a8-9828-b5930a13c3bb\" xlink:show=\"new\" xlink:title=\"psysml:de3210e5-068c-44a8-9828-b5930a13c3bb\" xlink:type=\"simple\"><rect fill=\"#FFFFFF\" height=\"45.9375\" id=\"E4\" style=\"stroke: #383838; stroke-width: 1.5;\" width=\"108\" x=\"32\" y=\"122\"/><text fill=\"#000000\" font-family=\"sans-serif\" font-size=\"12\" font-style=\"italic\" lengthAdjust=\"spacingAndGlyphs\" textLength=\"106\" x=\"33\" y=\"138.1387\">«calculation def»</text><text fill=\"#000000\" font-family=\"sans-serif\" font-size=\"12\" lengthAdjust=\"spacingAndGlyphs\" textLength=\"7\" x=\"82.5\" y=\"152.1074\">F</text><line style=\"stroke: #383838; stroke-width: 1.5;\" x1=\"33\" x2=\"139\" y1=\"159.9375\" y2=\"159.9375\"/></a><!--MD5=[270fce915f116d4de14055a7c1d9a0f3]\n",
       "class E5--><a href=\"psysml:8c3ddf1b-2d8e-48f9-8bd9-e07e4f9dde48\" target=\"_top\" title=\"psysml:8c3ddf1b-2d8e-48f9-8bd9-e07e4f9dde48\" xlink:actuate=\"onRequest\" xlink:href=\"psysml:8c3ddf1b-2d8e-48f9-8bd9-e07e4f9dde48\" xlink:show=\"new\" xlink:title=\"psysml:8c3ddf1b-2d8e-48f9-8bd9-e07e4f9dde48\" xlink:type=\"simple\"><rect fill=\"#FFFFFF\" height=\"45.9375\" id=\"E5\" rx=\"10\" ry=\"10\" style=\"stroke: #383838; stroke-width: 1.5;\" width=\"71\" x=\"50.5\" y=\"203\"/><text fill=\"#000000\" font-family=\"sans-serif\" font-size=\"12\" font-style=\"italic\" lengthAdjust=\"spacingAndGlyphs\" textLength=\"69\" x=\"51.5\" y=\"219.1387\">«attribute»</text><text fill=\"#000000\" font-family=\"sans-serif\" font-size=\"12\" lengthAdjust=\"spacingAndGlyphs\" textLength=\"4\" x=\"84\" y=\"233.1074\">f</text><line style=\"stroke: #383838; stroke-width: 1.5;\" x1=\"51.5\" x2=\"120.5\" y1=\"240.9375\" y2=\"240.9375\"/></a><!--MD5=[60a26617385b1d2d0262a64233df1f8d]\n",
       "class E6--><a href=\"psysml:1f38f371-1f52-4b01-a20c-3f08ced1218d\" target=\"_top\" title=\"psysml:1f38f371-1f52-4b01-a20c-3f08ced1218d\" xlink:actuate=\"onRequest\" xlink:href=\"psysml:1f38f371-1f52-4b01-a20c-3f08ced1218d\" xlink:show=\"new\" xlink:title=\"psysml:1f38f371-1f52-4b01-a20c-3f08ced1218d\" xlink:type=\"simple\"><rect fill=\"#FFFFFF\" height=\"45.9375\" id=\"E6\" rx=\"10\" ry=\"10\" style=\"stroke: #383838; stroke-width: 1.5;\" width=\"71\" x=\"50.5\" y=\"284\"/><text fill=\"#000000\" font-family=\"sans-serif\" font-size=\"12\" font-style=\"italic\" lengthAdjust=\"spacingAndGlyphs\" textLength=\"69\" x=\"51.5\" y=\"300.1387\">«attribute»</text><text fill=\"#000000\" font-family=\"sans-serif\" font-size=\"12\" lengthAdjust=\"spacingAndGlyphs\" textLength=\"8\" x=\"82\" y=\"314.1074\">g</text><line style=\"stroke: #383838; stroke-width: 1.5;\" x1=\"51.5\" x2=\"120.5\" y1=\"321.9375\" y2=\"321.9375\"/></a><!--MD5=[2156ba9850f5573cc1fc38a6a4b2f02b]\n",
       "class E7--><a href=\"psysml:cd4f641f-a9ce-41b8-9b9f-d9b0f89951b2\" target=\"_top\" title=\"psysml:cd4f641f-a9ce-41b8-9b9f-d9b0f89951b2\" xlink:actuate=\"onRequest\" xlink:href=\"psysml:cd4f641f-a9ce-41b8-9b9f-d9b0f89951b2\" xlink:show=\"new\" xlink:title=\"psysml:cd4f641f-a9ce-41b8-9b9f-d9b0f89951b2\" xlink:type=\"simple\"><rect fill=\"#FFFFFF\" height=\"45.9375\" id=\"E7\" rx=\"10\" ry=\"10\" style=\"stroke: #383838; stroke-width: 1.5;\" width=\"71\" x=\"50.5\" y=\"365\"/><text fill=\"#000000\" font-family=\"sans-serif\" font-size=\"12\" font-style=\"italic\" lengthAdjust=\"spacingAndGlyphs\" textLength=\"69\" x=\"51.5\" y=\"381.1387\">«attribute»</text><text fill=\"#000000\" font-family=\"sans-serif\" font-size=\"12\" lengthAdjust=\"spacingAndGlyphs\" textLength=\"8\" x=\"82\" y=\"395.1074\">b</text><line style=\"stroke: #383838; stroke-width: 1.5;\" x1=\"51.5\" x2=\"120.5\" y1=\"402.9375\" y2=\"402.9375\"/></a><!--MD5=[b9389687b975829384b498ac4b7476b2]\n",
       "class E8--><a href=\"psysml:5033f0bf-ffeb-4313-b85b-4258ec8a052c\" target=\"_top\" title=\"psysml:5033f0bf-ffeb-4313-b85b-4258ec8a052c\" xlink:actuate=\"onRequest\" xlink:href=\"psysml:5033f0bf-ffeb-4313-b85b-4258ec8a052c\" xlink:show=\"new\" xlink:title=\"psysml:5033f0bf-ffeb-4313-b85b-4258ec8a052c\" xlink:type=\"simple\"><rect fill=\"#FFFFFF\" height=\"45.9375\" id=\"E8\" rx=\"10\" ry=\"10\" style=\"stroke: #383838; stroke-width: 1.5;\" width=\"71\" x=\"50.5\" y=\"446\"/><text fill=\"#000000\" font-family=\"sans-serif\" font-size=\"12\" font-style=\"italic\" lengthAdjust=\"spacingAndGlyphs\" textLength=\"69\" x=\"51.5\" y=\"462.1387\">«attribute»</text><text fill=\"#000000\" font-family=\"sans-serif\" font-size=\"12\" lengthAdjust=\"spacingAndGlyphs\" textLength=\"7\" x=\"82.5\" y=\"476.1074\">c</text><line style=\"stroke: #383838; stroke-width: 1.5;\" x1=\"51.5\" x2=\"120.5\" y1=\"483.9375\" y2=\"483.9375\"/></a><!--MD5=[05d275557350bfb9b23a4ef7222b4c39]\n",
       "link E3 to E2--><a href=\"psysml:94762400-f967-4f4d-9ae0-7f515d54317a\" target=\"_top\" title=\"psysml:94762400-f967-4f4d-9ae0-7f515d54317a\" xlink:actuate=\"onRequest\" xlink:href=\"psysml:94762400-f967-4f4d-9ae0-7f515d54317a\" xlink:show=\"new\" xlink:title=\"psysml:94762400-f967-4f4d-9ae0-7f515d54317a\" xlink:type=\"simple\"><path d=\"M121.71,75.47 C141.61,82.04 167.25,90.51 190.81,98.3 \" fill=\"none\" id=\"E3-&gt;E2\" style=\"stroke: #383838; stroke-width: 1.0;\"/><polygon fill=\"#FFFFFF\" points=\"209.94,104.62,189.7032,105.3073,194.0944,92.0138,209.94,104.62\" style=\"stroke: #383838; stroke-width: 1.0;\"/><ellipse cx=\"184.9182\" cy=\"101.6204\" fill=\"#383838\" rx=\"2\" ry=\"2\" style=\"stroke: #383838; stroke-width: 1.0;\"/><ellipse cx=\"188.0547\" cy=\"92.125\" fill=\"#383838\" rx=\"2\" ry=\"2\" style=\"stroke: #383838; stroke-width: 1.0;\"/></a><!--MD5=[ddeed8deb2209213b62e6cfabaa108b2]\n",
       "reverse link E4 to E2--><a href=\"psysml:6f03e5ff-f747-4209-970e-6a43677acfe5\" target=\"_top\" title=\"psysml:6f03e5ff-f747-4209-970e-6a43677acfe5\" xlink:actuate=\"onRequest\" xlink:href=\"psysml:6f03e5ff-f747-4209-970e-6a43677acfe5\" xlink:show=\"new\" xlink:title=\"psysml:6f03e5ff-f747-4209-970e-6a43677acfe5\" xlink:type=\"simple\"><path d=\"M153.04,135.26 C172,132.46 192.29,129.47 209.82,126.88 \" fill=\"none\" id=\"E4&lt;-E2\" style=\"stroke: #383838; stroke-width: 1.0;\"/><polygon fill=\"#FFFFFF\" points=\"140.17,137.16,146.6903,140.2399,152.0411,135.4057,145.5208,132.3258,140.17,137.16\" style=\"stroke: #383838; stroke-width: 1.0;\"/><text fill=\"#000000\" font-family=\"sans-serif\" font-size=\"13\" lengthAdjust=\"spacingAndGlyphs\" textLength=\"8\" x=\"171\" y=\"128.0669\">p</text></a><!--MD5=[6ef9c2cec8ea76f52956286fe313afed]\n",
       "@startuml\r\n",
       "left to right direction\r\n",
       "skinparam monochrome true\r\n",
       "skinparam classbackgroundcolor white\r\n",
       "skinparam shadowing false\r\n",
       "skinparam wrapWidth 300\r\n",
       "hide circle\r\n",
       "\r\n",
       "package \"ParameterTest\" as E1  [[psysml:88bd93f8-a024-442a-9349-d26cb2f873a0 ]]  {\r\n",
       "comp def \"A\" as E2  <<(T,blue)attribute def>> [[psysml:2f5789b5-3949-40b4-8579-f7414350119a ]] {\r\n",
       "- - attributes - -\r\n",
       "x: String\r\n",
       "y: A\r\n",
       "}\r\n",
       "comp usage \"a: A\" as E3  <<(T,blue)attribute>> [[psysml:02928bc4-0eb7-4367-aa3f-5ffb35356b49 ]] {\r\n",
       "}\r\n",
       "comp def \"F\" as E4  <<(T,blue)calculation def>> [[psysml:de3210e5-068c-44a8-9828-b5930a13c3bb ]] {\r\n",
       "}\r\n",
       "comp usage \"f\" as E5  <<(T,blue)attribute>> [[psysml:8c3ddf1b-2d8e-48f9-8bd9-e07e4f9dde48 ]] {\r\n",
       "}\r\n",
       "comp usage \"g\" as E6  <<(T,blue)attribute>> [[psysml:1f38f371-1f52-4b01-a20c-3f08ced1218d ]] {\r\n",
       "}\r\n",
       "comp usage \"b\" as E7  <<(T,blue)attribute>> [[psysml:cd4f641f-a9ce-41b8-9b9f-d9b0f89951b2 ]] {\r\n",
       "}\r\n",
       "comp usage \"c\" as E8  <<(T,blue)attribute>> [[psysml:5033f0bf-ffeb-4313-b85b-4258ec8a052c ]] {\r\n",
       "}\r\n",
       "E3 - -:|> E2 [[psysml:94762400-f967-4f4d-9ae0-7f515d54317a ]] \r\n",
       "E4 o- - E2 [[psysml:6f03e5ff-f747-4209-970e-6a43677acfe5 ]] : p\r\n",
       "}\r\n",
       "@enduml\r\n",
       "\n",
       "PlantUML version 1.2020.13(Sat Jun 13 12:26:38 UTC 2020)\n",
       "(EPL source distribution)\n",
       "Java Runtime: OpenJDK Runtime Environment\n",
       "JVM: OpenJDK 64-Bit Server VM\n",
       "Default Encoding: UTF-8\n",
       "Language: en\n",
       "Country: null\n",
       "--></g></svg>"
      ]
     },
     "execution_count": 17,
     "metadata": {},
     "output_type": "execute_result"
    }
   ],
   "source": [
    "%viz --style=\"LR\" --view=\"Tree\" \"ParameterTest\""
   ]
  },
  {
   "cell_type": "code",
   "execution_count": 18,
   "id": "worst-limitation",
   "metadata": {
    "execution": {
     "iopub.execute_input": "2021-03-26T13:01:40.742570Z",
     "iopub.status.busy": "2021-03-26T13:01:40.742124Z",
     "iopub.status.idle": "2021-03-26T13:01:40.747646Z",
     "shell.execute_reply": "2021-03-26T13:01:40.748040Z"
    }
   },
   "outputs": [
    {
     "data": {
      "image/svg+xml": [
       "<?xml version=\"1.0\" encoding=\"UTF-8\" standalone=\"no\"?><svg xmlns=\"http://www.w3.org/2000/svg\" xmlns:xlink=\"http://www.w3.org/1999/xlink\" contentScriptType=\"application/ecmascript\" contentStyleType=\"text/css\" height=\"12px\" preserveAspectRatio=\"none\" style=\"width:12px;height:12px;\" version=\"1.1\" viewBox=\"0 0 12 12\" width=\"12px\" zoomAndPan=\"magnify\"><defs/><g><!--MD5=[19d285c9d72a204eba4e2cd117d745e8]\n",
       "@startuml\r\n",
       "left to right direction\r\n",
       "skinparam monochrome true\r\n",
       "skinparam classbackgroundcolor white\r\n",
       "skinparam shadowing false\r\n",
       "skinparam wrapWidth 300\r\n",
       "hide circle\r\n",
       "\r\n",
       "@enduml\r\n",
       "\n",
       "PlantUML version 1.2020.13(Sat Jun 13 12:26:38 UTC 2020)\n",
       "(EPL source distribution)\n",
       "Java Runtime: OpenJDK Runtime Environment\n",
       "JVM: OpenJDK 64-Bit Server VM\n",
       "Default Encoding: UTF-8\n",
       "Language: en\n",
       "Country: null\n",
       "--></g></svg>"
      ]
     },
     "execution_count": 18,
     "metadata": {},
     "output_type": "execute_result"
    }
   ],
   "source": [
    "%viz --style=\"LR\" --view=\"State\" \"ParameterTest\""
   ]
  },
  {
   "cell_type": "code",
   "execution_count": 19,
   "id": "danish-preparation",
   "metadata": {
    "execution": {
     "iopub.execute_input": "2021-03-26T13:01:40.800414Z",
     "iopub.status.busy": "2021-03-26T13:01:40.799580Z",
     "iopub.status.idle": "2021-03-26T13:01:40.830772Z",
     "shell.execute_reply": "2021-03-26T13:01:40.830455Z"
    }
   },
   "outputs": [
    {
     "data": {
      "image/svg+xml": [
       "<?xml version=\"1.0\" encoding=\"UTF-8\" standalone=\"no\"?><svg xmlns=\"http://www.w3.org/2000/svg\" xmlns:xlink=\"http://www.w3.org/1999/xlink\" contentScriptType=\"application/ecmascript\" contentStyleType=\"text/css\" height=\"581px\" preserveAspectRatio=\"none\" style=\"width:183px;height:581px;\" version=\"1.1\" viewBox=\"0 0 183 581\" width=\"183px\" zoomAndPan=\"magnify\"><defs/><g><!--MD5=[fbc87193dbaf4d95561dea2c320d4a47]\n",
       "cluster E1--><a href=\"psysml:88bd93f8-a024-442a-9349-d26cb2f873a0\" target=\"_top\" title=\"psysml:88bd93f8-a024-442a-9349-d26cb2f873a0\" xlink:actuate=\"onRequest\" xlink:href=\"psysml:88bd93f8-a024-442a-9349-d26cb2f873a0\" xlink:show=\"new\" xlink:title=\"psysml:88bd93f8-a024-442a-9349-d26cb2f873a0\" xlink:type=\"simple\"><polygon fill=\"#FFFFFF\" points=\"16,6,139,6,146,28.2969,161,28.2969,161,569,16,569,16,6\" style=\"stroke: #000000; stroke-width: 1.5;\"/><line style=\"stroke: #000000; stroke-width: 1.5;\" x1=\"16\" x2=\"146\" y1=\"28.2969\" y2=\"28.2969\"/><text fill=\"#000000\" font-family=\"sans-serif\" font-size=\"14\" font-weight=\"bold\" lengthAdjust=\"spacingAndGlyphs\" textLength=\"117\" x=\"20\" y=\"20.9951\">ParameterTest</text></a><g id=\"E1.E2\"><a href=\"psysml:2f5789b5-3949-40b4-8579-f7414350119a\" target=\"_top\" title=\"psysml:2f5789b5-3949-40b4-8579-f7414350119a\" xlink:actuate=\"onRequest\" xlink:href=\"psysml:2f5789b5-3949-40b4-8579-f7414350119a\" xlink:show=\"new\" xlink:title=\"psysml:2f5789b5-3949-40b4-8579-f7414350119a\" xlink:type=\"simple\"><rect fill=\"#FFFFFF\" height=\"42.9375\" id=\"E2\" style=\"stroke: #383838; stroke-width: 1.5;\" width=\"100\" x=\"38.5\" y=\"41.5\"/><rect fill=\"#F8F8F8\" height=\"37.9375\" style=\"stroke: #383838; stroke-width: 1.5;\" width=\"100\" x=\"38.5\" y=\"41.5\"/><text fill=\"#000000\" font-family=\"sans-serif\" font-size=\"12\" font-style=\"italic\" lengthAdjust=\"spacingAndGlyphs\" textLength=\"93\" x=\"42\" y=\"57.6387\">«attribute def»</text><text fill=\"#000000\" font-family=\"sans-serif\" font-size=\"12\" lengthAdjust=\"spacingAndGlyphs\" textLength=\"8\" x=\"84.5\" y=\"71.6074\">A</text></a></g><g id=\"E1.E4\"><a href=\"psysml:de3210e5-068c-44a8-9828-b5930a13c3bb\" target=\"_top\" title=\"psysml:de3210e5-068c-44a8-9828-b5930a13c3bb\" xlink:actuate=\"onRequest\" xlink:href=\"psysml:de3210e5-068c-44a8-9828-b5930a13c3bb\" xlink:show=\"new\" xlink:title=\"psysml:de3210e5-068c-44a8-9828-b5930a13c3bb\" xlink:type=\"simple\"><rect fill=\"#FFFFFF\" height=\"42.9375\" id=\"E4\" style=\"stroke: #383838; stroke-width: 1.5;\" width=\"113\" x=\"32\" y=\"119.5\"/><rect fill=\"#F8F8F8\" height=\"37.9375\" style=\"stroke: #383838; stroke-width: 1.5;\" width=\"113\" x=\"32\" y=\"119.5\"/><text fill=\"#000000\" font-family=\"sans-serif\" font-size=\"12\" font-style=\"italic\" lengthAdjust=\"spacingAndGlyphs\" textLength=\"106\" x=\"35.5\" y=\"135.6387\">«calculation def»</text><text fill=\"#000000\" font-family=\"sans-serif\" font-size=\"12\" lengthAdjust=\"spacingAndGlyphs\" textLength=\"7\" x=\"85\" y=\"149.6074\">F</text></a></g><g id=\"E1.E3\"><a href=\"psysml:02928bc4-0eb7-4367-aa3f-5ffb35356b49\" target=\"_top\" title=\"psysml:02928bc4-0eb7-4367-aa3f-5ffb35356b49\" xlink:actuate=\"onRequest\" xlink:href=\"psysml:02928bc4-0eb7-4367-aa3f-5ffb35356b49\" xlink:show=\"new\" xlink:title=\"psysml:02928bc4-0eb7-4367-aa3f-5ffb35356b49\" xlink:type=\"simple\"><rect fill=\"#FFFFFF\" height=\"42.9375\" id=\"E3\" rx=\"10\" ry=\"10\" style=\"stroke: #383838; stroke-width: 1.5;\" width=\"76\" x=\"50.5\" y=\"197.5\"/><rect fill=\"#F8F8F8\" height=\"37.9375\" rx=\"10\" ry=\"10\" style=\"stroke: #F8F8F8; stroke-width: 1.5;\" width=\"76\" x=\"50.5\" y=\"197.5\"/><rect fill=\"#F8F8F8\" height=\"10\" style=\"stroke: #F8F8F8; stroke-width: 1.5;\" width=\"76\" x=\"50.5\" y=\"225.4375\"/><rect fill=\"none\" height=\"42.9375\" id=\"E3\" rx=\"10\" ry=\"10\" style=\"stroke: #383838; stroke-width: 1.5;\" width=\"76\" x=\"50.5\" y=\"197.5\"/><text fill=\"#000000\" font-family=\"sans-serif\" font-size=\"12\" font-style=\"italic\" lengthAdjust=\"spacingAndGlyphs\" textLength=\"69\" x=\"54\" y=\"213.6387\">«attribute»</text><text fill=\"#000000\" font-family=\"sans-serif\" font-size=\"12\" lengthAdjust=\"spacingAndGlyphs\" textLength=\"24\" x=\"76.5\" y=\"227.6074\">a: A</text></a></g><g id=\"E1.E5\"><a href=\"psysml:8c3ddf1b-2d8e-48f9-8bd9-e07e4f9dde48\" target=\"_top\" title=\"psysml:8c3ddf1b-2d8e-48f9-8bd9-e07e4f9dde48\" xlink:actuate=\"onRequest\" xlink:href=\"psysml:8c3ddf1b-2d8e-48f9-8bd9-e07e4f9dde48\" xlink:show=\"new\" xlink:title=\"psysml:8c3ddf1b-2d8e-48f9-8bd9-e07e4f9dde48\" xlink:type=\"simple\"><rect fill=\"#FFFFFF\" height=\"42.9375\" id=\"E5\" rx=\"10\" ry=\"10\" style=\"stroke: #383838; stroke-width: 1.5;\" width=\"76\" x=\"50.5\" y=\"275.5\"/><rect fill=\"#F8F8F8\" height=\"37.9375\" rx=\"10\" ry=\"10\" style=\"stroke: #F8F8F8; stroke-width: 1.5;\" width=\"76\" x=\"50.5\" y=\"275.5\"/><rect fill=\"#F8F8F8\" height=\"10\" style=\"stroke: #F8F8F8; stroke-width: 1.5;\" width=\"76\" x=\"50.5\" y=\"303.4375\"/><rect fill=\"none\" height=\"42.9375\" id=\"E5\" rx=\"10\" ry=\"10\" style=\"stroke: #383838; stroke-width: 1.5;\" width=\"76\" x=\"50.5\" y=\"275.5\"/><text fill=\"#000000\" font-family=\"sans-serif\" font-size=\"12\" font-style=\"italic\" lengthAdjust=\"spacingAndGlyphs\" textLength=\"69\" x=\"54\" y=\"291.6387\">«attribute»</text><text fill=\"#000000\" font-family=\"sans-serif\" font-size=\"12\" lengthAdjust=\"spacingAndGlyphs\" textLength=\"4\" x=\"86.5\" y=\"305.6074\">f</text></a></g><g id=\"E1.E6\"><a href=\"psysml:1f38f371-1f52-4b01-a20c-3f08ced1218d\" target=\"_top\" title=\"psysml:1f38f371-1f52-4b01-a20c-3f08ced1218d\" xlink:actuate=\"onRequest\" xlink:href=\"psysml:1f38f371-1f52-4b01-a20c-3f08ced1218d\" xlink:show=\"new\" xlink:title=\"psysml:1f38f371-1f52-4b01-a20c-3f08ced1218d\" xlink:type=\"simple\"><rect fill=\"#FFFFFF\" height=\"42.9375\" id=\"E6\" rx=\"10\" ry=\"10\" style=\"stroke: #383838; stroke-width: 1.5;\" width=\"76\" x=\"50.5\" y=\"353.5\"/><rect fill=\"#F8F8F8\" height=\"37.9375\" rx=\"10\" ry=\"10\" style=\"stroke: #F8F8F8; stroke-width: 1.5;\" width=\"76\" x=\"50.5\" y=\"353.5\"/><rect fill=\"#F8F8F8\" height=\"10\" style=\"stroke: #F8F8F8; stroke-width: 1.5;\" width=\"76\" x=\"50.5\" y=\"381.4375\"/><rect fill=\"none\" height=\"42.9375\" id=\"E6\" rx=\"10\" ry=\"10\" style=\"stroke: #383838; stroke-width: 1.5;\" width=\"76\" x=\"50.5\" y=\"353.5\"/><text fill=\"#000000\" font-family=\"sans-serif\" font-size=\"12\" font-style=\"italic\" lengthAdjust=\"spacingAndGlyphs\" textLength=\"69\" x=\"54\" y=\"369.6387\">«attribute»</text><text fill=\"#000000\" font-family=\"sans-serif\" font-size=\"12\" lengthAdjust=\"spacingAndGlyphs\" textLength=\"8\" x=\"84.5\" y=\"383.6074\">g</text></a></g><g id=\"E1.E7\"><a href=\"psysml:cd4f641f-a9ce-41b8-9b9f-d9b0f89951b2\" target=\"_top\" title=\"psysml:cd4f641f-a9ce-41b8-9b9f-d9b0f89951b2\" xlink:actuate=\"onRequest\" xlink:href=\"psysml:cd4f641f-a9ce-41b8-9b9f-d9b0f89951b2\" xlink:show=\"new\" xlink:title=\"psysml:cd4f641f-a9ce-41b8-9b9f-d9b0f89951b2\" xlink:type=\"simple\"><rect fill=\"#FFFFFF\" height=\"42.9375\" id=\"E7\" rx=\"10\" ry=\"10\" style=\"stroke: #383838; stroke-width: 1.5;\" width=\"76\" x=\"50.5\" y=\"431.5\"/><rect fill=\"#F8F8F8\" height=\"37.9375\" rx=\"10\" ry=\"10\" style=\"stroke: #F8F8F8; stroke-width: 1.5;\" width=\"76\" x=\"50.5\" y=\"431.5\"/><rect fill=\"#F8F8F8\" height=\"10\" style=\"stroke: #F8F8F8; stroke-width: 1.5;\" width=\"76\" x=\"50.5\" y=\"459.4375\"/><rect fill=\"none\" height=\"42.9375\" id=\"E7\" rx=\"10\" ry=\"10\" style=\"stroke: #383838; stroke-width: 1.5;\" width=\"76\" x=\"50.5\" y=\"431.5\"/><text fill=\"#000000\" font-family=\"sans-serif\" font-size=\"12\" font-style=\"italic\" lengthAdjust=\"spacingAndGlyphs\" textLength=\"69\" x=\"54\" y=\"447.6387\">«attribute»</text><text fill=\"#000000\" font-family=\"sans-serif\" font-size=\"12\" lengthAdjust=\"spacingAndGlyphs\" textLength=\"8\" x=\"84.5\" y=\"461.6074\">b</text></a></g><g id=\"E1.E8\"><a href=\"psysml:5033f0bf-ffeb-4313-b85b-4258ec8a052c\" target=\"_top\" title=\"psysml:5033f0bf-ffeb-4313-b85b-4258ec8a052c\" xlink:actuate=\"onRequest\" xlink:href=\"psysml:5033f0bf-ffeb-4313-b85b-4258ec8a052c\" xlink:show=\"new\" xlink:title=\"psysml:5033f0bf-ffeb-4313-b85b-4258ec8a052c\" xlink:type=\"simple\"><rect fill=\"#FFFFFF\" height=\"42.9375\" id=\"E8\" rx=\"10\" ry=\"10\" style=\"stroke: #383838; stroke-width: 1.5;\" width=\"76\" x=\"50.5\" y=\"509.5\"/><rect fill=\"#F8F8F8\" height=\"37.9375\" rx=\"10\" ry=\"10\" style=\"stroke: #F8F8F8; stroke-width: 1.5;\" width=\"76\" x=\"50.5\" y=\"509.5\"/><rect fill=\"#F8F8F8\" height=\"10\" style=\"stroke: #F8F8F8; stroke-width: 1.5;\" width=\"76\" x=\"50.5\" y=\"537.4375\"/><rect fill=\"none\" height=\"42.9375\" id=\"E8\" rx=\"10\" ry=\"10\" style=\"stroke: #383838; stroke-width: 1.5;\" width=\"76\" x=\"50.5\" y=\"509.5\"/><text fill=\"#000000\" font-family=\"sans-serif\" font-size=\"12\" font-style=\"italic\" lengthAdjust=\"spacingAndGlyphs\" textLength=\"69\" x=\"54\" y=\"525.6387\">«attribute»</text><text fill=\"#000000\" font-family=\"sans-serif\" font-size=\"12\" lengthAdjust=\"spacingAndGlyphs\" textLength=\"7\" x=\"85\" y=\"539.6074\">c</text></a></g><!--MD5=[7105481f606c3676587f217cf9ee9030]\n",
       "@startuml\r\n",
       "skinparam ranksep 8\r\n",
       "skinparam rectangle {\r\n",
       " backgroundColor<<block>> LightGreen\r\n",
       "}\r\n",
       "left to right direction\r\n",
       "skinparam monochrome true\r\n",
       "skinparam classbackgroundcolor white\r\n",
       "skinparam shadowing false\r\n",
       "skinparam wrapWidth 300\r\n",
       "hide circle\r\n",
       "\r\n",
       "package \"ParameterTest\" as E1  [[psysml:88bd93f8-a024-442a-9349-d26cb2f873a0 ]]  {\r\n",
       "def \"A\" as E2  <<(T,blue)attribute def>> [[psysml:2f5789b5-3949-40b4-8579-f7414350119a ]] \r\n",
       "rec usage \"a: A\" as E3  <<(T,blue)attribute>> [[psysml:02928bc4-0eb7-4367-aa3f-5ffb35356b49 ]] {\r\n",
       "}\r\n",
       "def \"F\" as E4  <<(T,blue)calculation def>> [[psysml:de3210e5-068c-44a8-9828-b5930a13c3bb ]] \r\n",
       "rec usage \"f\" as E5  <<(T,blue)attribute>> [[psysml:8c3ddf1b-2d8e-48f9-8bd9-e07e4f9dde48 ]] {\r\n",
       "}\r\n",
       "rec usage \"g\" as E6  <<(T,blue)attribute>> [[psysml:1f38f371-1f52-4b01-a20c-3f08ced1218d ]] {\r\n",
       "}\r\n",
       "rec usage \"b\" as E7  <<(T,blue)attribute>> [[psysml:cd4f641f-a9ce-41b8-9b9f-d9b0f89951b2 ]] {\r\n",
       "}\r\n",
       "rec usage \"c\" as E8  <<(T,blue)attribute>> [[psysml:5033f0bf-ffeb-4313-b85b-4258ec8a052c ]] {\r\n",
       "}\r\n",
       "}\r\n",
       "@enduml\r\n",
       "\n",
       "PlantUML version 1.2020.13(Sat Jun 13 12:26:38 UTC 2020)\n",
       "(EPL source distribution)\n",
       "Java Runtime: OpenJDK Runtime Environment\n",
       "JVM: OpenJDK 64-Bit Server VM\n",
       "Default Encoding: UTF-8\n",
       "Language: en\n",
       "Country: null\n",
       "--></g></svg>"
      ]
     },
     "execution_count": 19,
     "metadata": {},
     "output_type": "execute_result"
    }
   ],
   "source": [
    "%viz --style=\"LR\" --view=\"Interconnection\" \"ParameterTest\""
   ]
  },
  {
   "cell_type": "code",
   "execution_count": 20,
   "id": "little-clause",
   "metadata": {
    "execution": {
     "iopub.execute_input": "2021-03-26T13:01:40.882821Z",
     "iopub.status.busy": "2021-03-26T13:01:40.882293Z",
     "iopub.status.idle": "2021-03-26T13:01:40.908270Z",
     "shell.execute_reply": "2021-03-26T13:01:40.907943Z"
    }
   },
   "outputs": [
    {
     "data": {
      "image/svg+xml": [
       "<?xml version=\"1.0\" encoding=\"UTF-8\" standalone=\"no\"?><svg xmlns=\"http://www.w3.org/2000/svg\" xmlns:xlink=\"http://www.w3.org/1999/xlink\" contentScriptType=\"application/ecmascript\" contentStyleType=\"text/css\" height=\"121px\" preserveAspectRatio=\"none\" style=\"width:207px;height:121px;\" version=\"1.1\" viewBox=\"0 0 207 121\" width=\"207px\" zoomAndPan=\"magnify\"><defs/><g><!--MD5=[fbc87193dbaf4d95561dea2c320d4a47]\n",
       "cluster E1--><a href=\"psysml:de3210e5-068c-44a8-9828-b5930a13c3bb\" target=\"_top\" title=\"psysml:de3210e5-068c-44a8-9828-b5930a13c3bb\" xlink:actuate=\"onRequest\" xlink:href=\"psysml:de3210e5-068c-44a8-9828-b5930a13c3bb\" xlink:show=\"new\" xlink:title=\"psysml:de3210e5-068c-44a8-9828-b5930a13c3bb\" xlink:type=\"simple\"><rect fill=\"#FFFFFF\" height=\"47\" id=\"E1\" style=\"stroke: #383838; stroke-width: 1.5;\" width=\"189\" x=\"7\" y=\"42.0986\"/><rect fill=\"#F8F8F8\" height=\"37.9375\" style=\"stroke: #383838; stroke-width: 1.5;\" width=\"189\" x=\"7\" y=\"42.0986\"/><text fill=\"#000000\" font-family=\"sans-serif\" font-size=\"12\" font-style=\"italic\" lengthAdjust=\"spacingAndGlyphs\" textLength=\"106\" x=\"48.5\" y=\"58.2373\">«calculation def»</text><text fill=\"#000000\" font-family=\"sans-serif\" font-size=\"12\" lengthAdjust=\"spacingAndGlyphs\" textLength=\"7\" x=\"98\" y=\"72.2061\">F</text></a><text fill=\"#000000\" font-family=\"sans-serif\" font-size=\"14\" lengthAdjust=\"spacingAndGlyphs\" textLength=\"9\" x=\"20.5\" y=\"108.0938\">p</text><rect fill=\"#383838\" height=\"12\" style=\"stroke: #F8F8F8; stroke-width: 1.5;\" width=\"12\" x=\"19\" y=\"83.0986\"/><text fill=\"#000000\" font-family=\"sans-serif\" font-size=\"14\" lengthAdjust=\"spacingAndGlyphs\" textLength=\"9\" x=\"20.5\" y=\"20.7969\">q</text><rect fill=\"#383838\" height=\"12\" style=\"stroke: #F8F8F8; stroke-width: 1.5;\" width=\"12\" x=\"19\" y=\"36.0986\"/><!--MD5=[aa4cfcb5017299a0fd0f18838de20bf5]\n",
       "@startuml\r\n",
       "skinparam ranksep 8\r\n",
       "left to right direction\r\n",
       "skinparam monochrome true\r\n",
       "skinparam classbackgroundcolor white\r\n",
       "skinparam shadowing false\r\n",
       "skinparam wrapWidth 300\r\n",
       "hide circle\r\n",
       "\r\n",
       "rec def \"F\" as E1  <<(T,blue)calculation def>> [[psysml:de3210e5-068c-44a8-9828-b5930a13c3bb ]] {\r\n",
       "portin \"p\" as E2  [[psysml:6f03e5ff-f747-4209-970e-6a43677acfe5 ]] \r\n",
       "portin \"q\" as E3  [[psysml:59b46d55-27e2-4503-b58c-744d75cefff1 ]] \r\n",
       "}\r\n",
       "\r\n",
       "@enduml\r\n",
       "\n",
       "PlantUML version 1.2020.13(Sat Jun 13 12:26:38 UTC 2020)\n",
       "(EPL source distribution)\n",
       "Java Runtime: OpenJDK Runtime Environment\n",
       "JVM: OpenJDK 64-Bit Server VM\n",
       "Default Encoding: UTF-8\n",
       "Language: en\n",
       "Country: null\n",
       "--></g></svg>"
      ]
     },
     "execution_count": 20,
     "metadata": {},
     "output_type": "execute_result"
    }
   ],
   "source": [
    "%viz --style=\"LR\" --view=\"Action\" \"ParameterTest\""
   ]
  },
  {
   "cell_type": "code",
   "execution_count": 21,
   "id": "mobile-discipline",
   "metadata": {
    "execution": {
     "iopub.execute_input": "2021-03-26T13:01:40.960800Z",
     "iopub.status.busy": "2021-03-26T13:01:40.960063Z",
     "iopub.status.idle": "2021-03-26T13:01:41.015268Z",
     "shell.execute_reply": "2021-03-26T13:01:41.015587Z"
    }
   },
   "outputs": [
    {
     "data": {
      "image/svg+xml": [
       "<?xml version=\"1.0\" encoding=\"UTF-8\" standalone=\"no\"?><svg xmlns=\"http://www.w3.org/2000/svg\" xmlns:xlink=\"http://www.w3.org/1999/xlink\" contentScriptType=\"application/ecmascript\" contentStyleType=\"text/css\" height=\"520px\" preserveAspectRatio=\"none\" style=\"width:343px;height:520px;\" version=\"1.1\" viewBox=\"0 0 343 520\" width=\"343px\" zoomAndPan=\"magnify\"><defs/><g><!--MD5=[fbc87193dbaf4d95561dea2c320d4a47]\n",
       "cluster E1--><a href=\"psysml:88bd93f8-a024-442a-9349-d26cb2f873a0\" target=\"_top\" title=\"psysml:88bd93f8-a024-442a-9349-d26cb2f873a0\" xlink:actuate=\"onRequest\" xlink:href=\"psysml:88bd93f8-a024-442a-9349-d26cb2f873a0\" xlink:show=\"new\" xlink:title=\"psysml:88bd93f8-a024-442a-9349-d26cb2f873a0\" xlink:type=\"simple\"><polygon fill=\"#FFFFFF\" points=\"16,6,139,6,146,28.2969,321,28.2969,321,508,16,508,16,6\" style=\"stroke: #000000; stroke-width: 1.5;\"/><line style=\"stroke: #000000; stroke-width: 1.5;\" x1=\"16\" x2=\"146\" y1=\"28.2969\" y2=\"28.2969\"/><text fill=\"#000000\" font-family=\"sans-serif\" font-size=\"14\" font-weight=\"bold\" lengthAdjust=\"spacingAndGlyphs\" textLength=\"117\" x=\"20\" y=\"20.9951\">ParameterTest</text></a><!--MD5=[b4997ac47864f28c2f74865a473b2911]\n",
       "class E2--><a href=\"psysml:2f5789b5-3949-40b4-8579-f7414350119a\" target=\"_top\" title=\"psysml:2f5789b5-3949-40b4-8579-f7414350119a\" xlink:actuate=\"onRequest\" xlink:href=\"psysml:2f5789b5-3949-40b4-8579-f7414350119a\" xlink:show=\"new\" xlink:title=\"psysml:2f5789b5-3949-40b4-8579-f7414350119a\" xlink:type=\"simple\"><rect fill=\"#FFFFFF\" height=\"88.3516\" id=\"E2\" style=\"stroke: #383838; stroke-width: 1.5;\" width=\"95\" x=\"210\" y=\"76\"/><text fill=\"#000000\" font-family=\"sans-serif\" font-size=\"12\" font-style=\"italic\" lengthAdjust=\"spacingAndGlyphs\" textLength=\"93\" x=\"211\" y=\"92.1387\">«attribute def»</text><text fill=\"#000000\" font-family=\"sans-serif\" font-size=\"12\" lengthAdjust=\"spacingAndGlyphs\" textLength=\"8\" x=\"253.5\" y=\"106.1074\">A</text><line style=\"stroke: #383838; stroke-width: 1.5;\" x1=\"211\" x2=\"304\" y1=\"113.9375\" y2=\"113.9375\"/><text fill=\"#000000\" font-family=\"sans-serif\" font-size=\"11\" lengthAdjust=\"spacingAndGlyphs\" textLength=\"48\" x=\"216\" y=\"144.9526\">x: String</text><text fill=\"#000000\" font-family=\"sans-serif\" font-size=\"11\" lengthAdjust=\"spacingAndGlyphs\" textLength=\"21\" x=\"216\" y=\"157.7573\">y: A</text><line style=\"stroke: #383838; stroke-width: 1.0;\" x1=\"211\" x2=\"230\" y1=\"128.3398\" y2=\"128.3398\"/><text fill=\"#000000\" font-family=\"sans-serif\" font-size=\"11\" lengthAdjust=\"spacingAndGlyphs\" textLength=\"55\" x=\"230\" y=\"131.6479\">attributes</text><line style=\"stroke: #383838; stroke-width: 1.0;\" x1=\"285\" x2=\"304\" y1=\"128.3398\" y2=\"128.3398\"/></a><!--MD5=[09b614a08d8cba4a07c9adeb5e0fee81]\n",
       "class E3--><a href=\"psysml:02928bc4-0eb7-4367-aa3f-5ffb35356b49\" target=\"_top\" title=\"psysml:02928bc4-0eb7-4367-aa3f-5ffb35356b49\" xlink:actuate=\"onRequest\" xlink:href=\"psysml:02928bc4-0eb7-4367-aa3f-5ffb35356b49\" xlink:show=\"new\" xlink:title=\"psysml:02928bc4-0eb7-4367-aa3f-5ffb35356b49\" xlink:type=\"simple\"><rect fill=\"#FFFFFF\" height=\"45.9375\" id=\"E3\" rx=\"10\" ry=\"10\" style=\"stroke: #383838; stroke-width: 1.5;\" width=\"71\" x=\"50.5\" y=\"41\"/><text fill=\"#000000\" font-family=\"sans-serif\" font-size=\"12\" font-style=\"italic\" lengthAdjust=\"spacingAndGlyphs\" textLength=\"69\" x=\"51.5\" y=\"57.1387\">«attribute»</text><text fill=\"#000000\" font-family=\"sans-serif\" font-size=\"12\" lengthAdjust=\"spacingAndGlyphs\" textLength=\"24\" x=\"74\" y=\"71.1074\">a: A</text><line style=\"stroke: #383838; stroke-width: 1.5;\" x1=\"51.5\" x2=\"120.5\" y1=\"78.9375\" y2=\"78.9375\"/></a><!--MD5=[ebbe1d658d1005bcc118a6aa81145e00]\n",
       "class E4--><a href=\"psysml:de3210e5-068c-44a8-9828-b5930a13c3bb\" target=\"_top\" title=\"psysml:de3210e5-068c-44a8-9828-b5930a13c3bb\" xlink:actuate=\"onRequest\" xlink:href=\"psysml:de3210e5-068c-44a8-9828-b5930a13c3bb\" xlink:show=\"new\" xlink:title=\"psysml:de3210e5-068c-44a8-9828-b5930a13c3bb\" xlink:type=\"simple\"><rect fill=\"#FFFFFF\" height=\"45.9375\" id=\"E4\" style=\"stroke: #383838; stroke-width: 1.5;\" width=\"108\" x=\"32\" y=\"122\"/><text fill=\"#000000\" font-family=\"sans-serif\" font-size=\"12\" font-style=\"italic\" lengthAdjust=\"spacingAndGlyphs\" textLength=\"106\" x=\"33\" y=\"138.1387\">«calculation def»</text><text fill=\"#000000\" font-family=\"sans-serif\" font-size=\"12\" lengthAdjust=\"spacingAndGlyphs\" textLength=\"7\" x=\"82.5\" y=\"152.1074\">F</text><line style=\"stroke: #383838; stroke-width: 1.5;\" x1=\"33\" x2=\"139\" y1=\"159.9375\" y2=\"159.9375\"/></a><!--MD5=[270fce915f116d4de14055a7c1d9a0f3]\n",
       "class E5--><a href=\"psysml:8c3ddf1b-2d8e-48f9-8bd9-e07e4f9dde48\" target=\"_top\" title=\"psysml:8c3ddf1b-2d8e-48f9-8bd9-e07e4f9dde48\" xlink:actuate=\"onRequest\" xlink:href=\"psysml:8c3ddf1b-2d8e-48f9-8bd9-e07e4f9dde48\" xlink:show=\"new\" xlink:title=\"psysml:8c3ddf1b-2d8e-48f9-8bd9-e07e4f9dde48\" xlink:type=\"simple\"><rect fill=\"#FFFFFF\" height=\"45.9375\" id=\"E5\" rx=\"10\" ry=\"10\" style=\"stroke: #383838; stroke-width: 1.5;\" width=\"71\" x=\"50.5\" y=\"203\"/><text fill=\"#000000\" font-family=\"sans-serif\" font-size=\"12\" font-style=\"italic\" lengthAdjust=\"spacingAndGlyphs\" textLength=\"69\" x=\"51.5\" y=\"219.1387\">«attribute»</text><text fill=\"#000000\" font-family=\"sans-serif\" font-size=\"12\" lengthAdjust=\"spacingAndGlyphs\" textLength=\"4\" x=\"84\" y=\"233.1074\">f</text><line style=\"stroke: #383838; stroke-width: 1.5;\" x1=\"51.5\" x2=\"120.5\" y1=\"240.9375\" y2=\"240.9375\"/></a><!--MD5=[60a26617385b1d2d0262a64233df1f8d]\n",
       "class E6--><a href=\"psysml:1f38f371-1f52-4b01-a20c-3f08ced1218d\" target=\"_top\" title=\"psysml:1f38f371-1f52-4b01-a20c-3f08ced1218d\" xlink:actuate=\"onRequest\" xlink:href=\"psysml:1f38f371-1f52-4b01-a20c-3f08ced1218d\" xlink:show=\"new\" xlink:title=\"psysml:1f38f371-1f52-4b01-a20c-3f08ced1218d\" xlink:type=\"simple\"><rect fill=\"#FFFFFF\" height=\"45.9375\" id=\"E6\" rx=\"10\" ry=\"10\" style=\"stroke: #383838; stroke-width: 1.5;\" width=\"71\" x=\"50.5\" y=\"284\"/><text fill=\"#000000\" font-family=\"sans-serif\" font-size=\"12\" font-style=\"italic\" lengthAdjust=\"spacingAndGlyphs\" textLength=\"69\" x=\"51.5\" y=\"300.1387\">«attribute»</text><text fill=\"#000000\" font-family=\"sans-serif\" font-size=\"12\" lengthAdjust=\"spacingAndGlyphs\" textLength=\"8\" x=\"82\" y=\"314.1074\">g</text><line style=\"stroke: #383838; stroke-width: 1.5;\" x1=\"51.5\" x2=\"120.5\" y1=\"321.9375\" y2=\"321.9375\"/></a><!--MD5=[2156ba9850f5573cc1fc38a6a4b2f02b]\n",
       "class E7--><a href=\"psysml:cd4f641f-a9ce-41b8-9b9f-d9b0f89951b2\" target=\"_top\" title=\"psysml:cd4f641f-a9ce-41b8-9b9f-d9b0f89951b2\" xlink:actuate=\"onRequest\" xlink:href=\"psysml:cd4f641f-a9ce-41b8-9b9f-d9b0f89951b2\" xlink:show=\"new\" xlink:title=\"psysml:cd4f641f-a9ce-41b8-9b9f-d9b0f89951b2\" xlink:type=\"simple\"><rect fill=\"#FFFFFF\" height=\"45.9375\" id=\"E7\" rx=\"10\" ry=\"10\" style=\"stroke: #383838; stroke-width: 1.5;\" width=\"71\" x=\"50.5\" y=\"365\"/><text fill=\"#000000\" font-family=\"sans-serif\" font-size=\"12\" font-style=\"italic\" lengthAdjust=\"spacingAndGlyphs\" textLength=\"69\" x=\"51.5\" y=\"381.1387\">«attribute»</text><text fill=\"#000000\" font-family=\"sans-serif\" font-size=\"12\" lengthAdjust=\"spacingAndGlyphs\" textLength=\"8\" x=\"82\" y=\"395.1074\">b</text><line style=\"stroke: #383838; stroke-width: 1.5;\" x1=\"51.5\" x2=\"120.5\" y1=\"402.9375\" y2=\"402.9375\"/></a><!--MD5=[b9389687b975829384b498ac4b7476b2]\n",
       "class E8--><a href=\"psysml:5033f0bf-ffeb-4313-b85b-4258ec8a052c\" target=\"_top\" title=\"psysml:5033f0bf-ffeb-4313-b85b-4258ec8a052c\" xlink:actuate=\"onRequest\" xlink:href=\"psysml:5033f0bf-ffeb-4313-b85b-4258ec8a052c\" xlink:show=\"new\" xlink:title=\"psysml:5033f0bf-ffeb-4313-b85b-4258ec8a052c\" xlink:type=\"simple\"><rect fill=\"#FFFFFF\" height=\"45.9375\" id=\"E8\" rx=\"10\" ry=\"10\" style=\"stroke: #383838; stroke-width: 1.5;\" width=\"71\" x=\"50.5\" y=\"446\"/><text fill=\"#000000\" font-family=\"sans-serif\" font-size=\"12\" font-style=\"italic\" lengthAdjust=\"spacingAndGlyphs\" textLength=\"69\" x=\"51.5\" y=\"462.1387\">«attribute»</text><text fill=\"#000000\" font-family=\"sans-serif\" font-size=\"12\" lengthAdjust=\"spacingAndGlyphs\" textLength=\"7\" x=\"82.5\" y=\"476.1074\">c</text><line style=\"stroke: #383838; stroke-width: 1.5;\" x1=\"51.5\" x2=\"120.5\" y1=\"483.9375\" y2=\"483.9375\"/></a><!--MD5=[05d275557350bfb9b23a4ef7222b4c39]\n",
       "link E3 to E2--><a href=\"psysml:94762400-f967-4f4d-9ae0-7f515d54317a\" target=\"_top\" title=\"psysml:94762400-f967-4f4d-9ae0-7f515d54317a\" xlink:actuate=\"onRequest\" xlink:href=\"psysml:94762400-f967-4f4d-9ae0-7f515d54317a\" xlink:show=\"new\" xlink:title=\"psysml:94762400-f967-4f4d-9ae0-7f515d54317a\" xlink:type=\"simple\"><path d=\"M121.71,75.47 C141.61,82.04 167.25,90.51 190.81,98.3 \" fill=\"none\" id=\"E3-&gt;E2\" style=\"stroke: #383838; stroke-width: 1.0;\"/><polygon fill=\"#FFFFFF\" points=\"209.94,104.62,189.7032,105.3073,194.0944,92.0138,209.94,104.62\" style=\"stroke: #383838; stroke-width: 1.0;\"/><ellipse cx=\"184.9182\" cy=\"101.6204\" fill=\"#383838\" rx=\"2\" ry=\"2\" style=\"stroke: #383838; stroke-width: 1.0;\"/><ellipse cx=\"188.0547\" cy=\"92.125\" fill=\"#383838\" rx=\"2\" ry=\"2\" style=\"stroke: #383838; stroke-width: 1.0;\"/></a><!--MD5=[ddeed8deb2209213b62e6cfabaa108b2]\n",
       "reverse link E4 to E2--><a href=\"psysml:6f03e5ff-f747-4209-970e-6a43677acfe5\" target=\"_top\" title=\"psysml:6f03e5ff-f747-4209-970e-6a43677acfe5\" xlink:actuate=\"onRequest\" xlink:href=\"psysml:6f03e5ff-f747-4209-970e-6a43677acfe5\" xlink:show=\"new\" xlink:title=\"psysml:6f03e5ff-f747-4209-970e-6a43677acfe5\" xlink:type=\"simple\"><path d=\"M153.04,135.26 C172,132.46 192.29,129.47 209.82,126.88 \" fill=\"none\" id=\"E4&lt;-E2\" style=\"stroke: #383838; stroke-width: 1.0;\"/><polygon fill=\"#FFFFFF\" points=\"140.17,137.16,146.6903,140.2399,152.0411,135.4057,145.5208,132.3258,140.17,137.16\" style=\"stroke: #383838; stroke-width: 1.0;\"/><text fill=\"#000000\" font-family=\"sans-serif\" font-size=\"13\" lengthAdjust=\"spacingAndGlyphs\" textLength=\"8\" x=\"171\" y=\"128.0669\">p</text></a><!--MD5=[6ef9c2cec8ea76f52956286fe313afed]\n",
       "@startuml\r\n",
       "left to right direction\r\n",
       "skinparam monochrome true\r\n",
       "skinparam classbackgroundcolor white\r\n",
       "skinparam shadowing false\r\n",
       "skinparam wrapWidth 300\r\n",
       "hide circle\r\n",
       "\r\n",
       "package \"ParameterTest\" as E1  [[psysml:88bd93f8-a024-442a-9349-d26cb2f873a0 ]]  {\r\n",
       "comp def \"A\" as E2  <<(T,blue)attribute def>> [[psysml:2f5789b5-3949-40b4-8579-f7414350119a ]] {\r\n",
       "- - attributes - -\r\n",
       "x: String\r\n",
       "y: A\r\n",
       "}\r\n",
       "comp usage \"a: A\" as E3  <<(T,blue)attribute>> [[psysml:02928bc4-0eb7-4367-aa3f-5ffb35356b49 ]] {\r\n",
       "}\r\n",
       "comp def \"F\" as E4  <<(T,blue)calculation def>> [[psysml:de3210e5-068c-44a8-9828-b5930a13c3bb ]] {\r\n",
       "}\r\n",
       "comp usage \"f\" as E5  <<(T,blue)attribute>> [[psysml:8c3ddf1b-2d8e-48f9-8bd9-e07e4f9dde48 ]] {\r\n",
       "}\r\n",
       "comp usage \"g\" as E6  <<(T,blue)attribute>> [[psysml:1f38f371-1f52-4b01-a20c-3f08ced1218d ]] {\r\n",
       "}\r\n",
       "comp usage \"b\" as E7  <<(T,blue)attribute>> [[psysml:cd4f641f-a9ce-41b8-9b9f-d9b0f89951b2 ]] {\r\n",
       "}\r\n",
       "comp usage \"c\" as E8  <<(T,blue)attribute>> [[psysml:5033f0bf-ffeb-4313-b85b-4258ec8a052c ]] {\r\n",
       "}\r\n",
       "E3 - -:|> E2 [[psysml:94762400-f967-4f4d-9ae0-7f515d54317a ]] \r\n",
       "E4 o- - E2 [[psysml:6f03e5ff-f747-4209-970e-6a43677acfe5 ]] : p\r\n",
       "}\r\n",
       "@enduml\r\n",
       "\n",
       "PlantUML version 1.2020.13(Sat Jun 13 12:26:38 UTC 2020)\n",
       "(EPL source distribution)\n",
       "Java Runtime: OpenJDK Runtime Environment\n",
       "JVM: OpenJDK 64-Bit Server VM\n",
       "Default Encoding: UTF-8\n",
       "Language: en\n",
       "Country: null\n",
       "--></g></svg>"
      ]
     },
     "execution_count": 21,
     "metadata": {},
     "output_type": "execute_result"
    }
   ],
   "source": [
    "%viz --style=\"LR\" --view=\"Sequence\" \"ParameterTest\""
   ]
  },
  {
   "cell_type": "code",
   "execution_count": 22,
   "id": "spare-tuesday",
   "metadata": {
    "execution": {
     "iopub.execute_input": "2021-03-26T13:01:41.067674Z",
     "iopub.status.busy": "2021-03-26T13:01:41.067150Z",
     "iopub.status.idle": "2021-03-26T13:01:41.117053Z",
     "shell.execute_reply": "2021-03-26T13:01:41.117376Z"
    }
   },
   "outputs": [
    {
     "data": {
      "image/svg+xml": [
       "<?xml version=\"1.0\" encoding=\"UTF-8\" standalone=\"no\"?><svg xmlns=\"http://www.w3.org/2000/svg\" xmlns:xlink=\"http://www.w3.org/1999/xlink\" contentScriptType=\"application/ecmascript\" contentStyleType=\"text/css\" height=\"541px\" preserveAspectRatio=\"none\" style=\"width:350px;height:541px;\" version=\"1.1\" viewBox=\"0 0 350 541\" width=\"350px\" zoomAndPan=\"magnify\"><defs/><g><!--MD5=[fbc87193dbaf4d95561dea2c320d4a47]\n",
       "cluster E1--><a href=\"psysml:88bd93f8-a024-442a-9349-d26cb2f873a0\" target=\"_top\" title=\"psysml:88bd93f8-a024-442a-9349-d26cb2f873a0\" xlink:actuate=\"onRequest\" xlink:href=\"psysml:88bd93f8-a024-442a-9349-d26cb2f873a0\" xlink:show=\"new\" xlink:title=\"psysml:88bd93f8-a024-442a-9349-d26cb2f873a0\" xlink:type=\"simple\"><polygon fill=\"#FFFFFF\" points=\"16,6,139,6,146,28.2969,328,28.2969,328,529,16,529,16,6\" style=\"stroke: #000000; stroke-width: 1.5;\"/><line style=\"stroke: #000000; stroke-width: 1.5;\" x1=\"16\" x2=\"146\" y1=\"28.2969\" y2=\"28.2969\"/><text fill=\"#000000\" font-family=\"sans-serif\" font-size=\"14\" font-weight=\"bold\" lengthAdjust=\"spacingAndGlyphs\" textLength=\"117\" x=\"20\" y=\"20.9951\">ParameterTest</text></a><!--MD5=[f6df4d0ebaf0b5dfb2ced0ae5af7c670]\n",
       "cluster E4--><a href=\"psysml:de3210e5-068c-44a8-9828-b5930a13c3bb\" target=\"_top\" title=\"psysml:de3210e5-068c-44a8-9828-b5930a13c3bb\" xlink:actuate=\"onRequest\" xlink:href=\"psysml:de3210e5-068c-44a8-9828-b5930a13c3bb\" xlink:show=\"new\" xlink:title=\"psysml:de3210e5-068c-44a8-9828-b5930a13c3bb\" xlink:type=\"simple\"><rect fill=\"#FFFFFF\" height=\"47\" id=\"E4\" style=\"stroke: #383838; stroke-width: 1.5;\" width=\"262.5\" x=\"49.5\" y=\"55\"/><rect fill=\"#F8F8F8\" height=\"37.9375\" style=\"stroke: #383838; stroke-width: 1.5;\" width=\"262.5\" x=\"49.5\" y=\"55\"/><text fill=\"#000000\" font-family=\"sans-serif\" font-size=\"12\" font-style=\"italic\" lengthAdjust=\"spacingAndGlyphs\" textLength=\"106\" x=\"127.75\" y=\"71.1387\">«calculation def»</text><text fill=\"#000000\" font-family=\"sans-serif\" font-size=\"12\" lengthAdjust=\"spacingAndGlyphs\" textLength=\"7\" x=\"177.25\" y=\"85.1074\">F</text></a><!--MD5=[b4997ac47864f28c2f74865a473b2911]\n",
       "class E2--><a href=\"psysml:2f5789b5-3949-40b4-8579-f7414350119a\" target=\"_top\" title=\"psysml:2f5789b5-3949-40b4-8579-f7414350119a\" xlink:actuate=\"onRequest\" xlink:href=\"psysml:2f5789b5-3949-40b4-8579-f7414350119a\" xlink:show=\"new\" xlink:title=\"psysml:2f5789b5-3949-40b4-8579-f7414350119a\" xlink:type=\"simple\"><rect fill=\"#FFFFFF\" height=\"88.3516\" id=\"E2\" style=\"stroke: #383838; stroke-width: 1.5;\" width=\"95\" x=\"182\" y=\"128\"/><text fill=\"#000000\" font-family=\"sans-serif\" font-size=\"12\" font-style=\"italic\" lengthAdjust=\"spacingAndGlyphs\" textLength=\"93\" x=\"183\" y=\"144.1387\">«attribute def»</text><text fill=\"#000000\" font-family=\"sans-serif\" font-size=\"12\" lengthAdjust=\"spacingAndGlyphs\" textLength=\"8\" x=\"225.5\" y=\"158.1074\">A</text><line style=\"stroke: #383838; stroke-width: 1.5;\" x1=\"183\" x2=\"276\" y1=\"165.9375\" y2=\"165.9375\"/><text fill=\"#000000\" font-family=\"sans-serif\" font-size=\"11\" lengthAdjust=\"spacingAndGlyphs\" textLength=\"48\" x=\"188\" y=\"196.9526\">x: String</text><text fill=\"#000000\" font-family=\"sans-serif\" font-size=\"11\" lengthAdjust=\"spacingAndGlyphs\" textLength=\"21\" x=\"188\" y=\"209.7573\">y: A</text><line style=\"stroke: #383838; stroke-width: 1.0;\" x1=\"183\" x2=\"202\" y1=\"180.3398\" y2=\"180.3398\"/><text fill=\"#000000\" font-family=\"sans-serif\" font-size=\"11\" lengthAdjust=\"spacingAndGlyphs\" textLength=\"55\" x=\"202\" y=\"183.6479\">attributes</text><line style=\"stroke: #383838; stroke-width: 1.0;\" x1=\"257\" x2=\"276\" y1=\"180.3398\" y2=\"180.3398\"/></a><!--MD5=[09b614a08d8cba4a07c9adeb5e0fee81]\n",
       "class E3--><a href=\"psysml:02928bc4-0eb7-4367-aa3f-5ffb35356b49\" target=\"_top\" title=\"psysml:02928bc4-0eb7-4367-aa3f-5ffb35356b49\" xlink:actuate=\"onRequest\" xlink:href=\"psysml:02928bc4-0eb7-4367-aa3f-5ffb35356b49\" xlink:show=\"new\" xlink:title=\"psysml:02928bc4-0eb7-4367-aa3f-5ffb35356b49\" xlink:type=\"simple\"><rect fill=\"#FFFFFF\" height=\"45.9375\" id=\"E3\" rx=\"10\" ry=\"10\" style=\"stroke: #383838; stroke-width: 1.5;\" width=\"71\" x=\"32\" y=\"143\"/><text fill=\"#000000\" font-family=\"sans-serif\" font-size=\"12\" font-style=\"italic\" lengthAdjust=\"spacingAndGlyphs\" textLength=\"69\" x=\"33\" y=\"159.1387\">«attribute»</text><text fill=\"#000000\" font-family=\"sans-serif\" font-size=\"12\" lengthAdjust=\"spacingAndGlyphs\" textLength=\"24\" x=\"55.5\" y=\"173.1074\">a: A</text><line style=\"stroke: #383838; stroke-width: 1.5;\" x1=\"33\" x2=\"102\" y1=\"180.9375\" y2=\"180.9375\"/></a><!--MD5=[2156ba9850f5573cc1fc38a6a4b2f02b]\n",
       "class E7--><a href=\"psysml:8c3ddf1b-2d8e-48f9-8bd9-e07e4f9dde48\" target=\"_top\" title=\"psysml:8c3ddf1b-2d8e-48f9-8bd9-e07e4f9dde48\" xlink:actuate=\"onRequest\" xlink:href=\"psysml:8c3ddf1b-2d8e-48f9-8bd9-e07e4f9dde48\" xlink:show=\"new\" xlink:title=\"psysml:8c3ddf1b-2d8e-48f9-8bd9-e07e4f9dde48\" xlink:type=\"simple\"><rect fill=\"#FFFFFF\" height=\"45.9375\" id=\"E7\" rx=\"10\" ry=\"10\" style=\"stroke: #383838; stroke-width: 1.5;\" width=\"71\" x=\"32\" y=\"224\"/><text fill=\"#000000\" font-family=\"sans-serif\" font-size=\"12\" font-style=\"italic\" lengthAdjust=\"spacingAndGlyphs\" textLength=\"69\" x=\"33\" y=\"240.1387\">«attribute»</text><text fill=\"#000000\" font-family=\"sans-serif\" font-size=\"12\" lengthAdjust=\"spacingAndGlyphs\" textLength=\"4\" x=\"65.5\" y=\"254.1074\">f</text><line style=\"stroke: #383838; stroke-width: 1.5;\" x1=\"33\" x2=\"102\" y1=\"261.9375\" y2=\"261.9375\"/></a><!--MD5=[b9389687b975829384b498ac4b7476b2]\n",
       "class E8--><a href=\"psysml:1f38f371-1f52-4b01-a20c-3f08ced1218d\" target=\"_top\" title=\"psysml:1f38f371-1f52-4b01-a20c-3f08ced1218d\" xlink:actuate=\"onRequest\" xlink:href=\"psysml:1f38f371-1f52-4b01-a20c-3f08ced1218d\" xlink:show=\"new\" xlink:title=\"psysml:1f38f371-1f52-4b01-a20c-3f08ced1218d\" xlink:type=\"simple\"><rect fill=\"#FFFFFF\" height=\"45.9375\" id=\"E8\" rx=\"10\" ry=\"10\" style=\"stroke: #383838; stroke-width: 1.5;\" width=\"71\" x=\"32\" y=\"305\"/><text fill=\"#000000\" font-family=\"sans-serif\" font-size=\"12\" font-style=\"italic\" lengthAdjust=\"spacingAndGlyphs\" textLength=\"69\" x=\"33\" y=\"321.1387\">«attribute»</text><text fill=\"#000000\" font-family=\"sans-serif\" font-size=\"12\" lengthAdjust=\"spacingAndGlyphs\" textLength=\"8\" x=\"63.5\" y=\"335.1074\">g</text><line style=\"stroke: #383838; stroke-width: 1.5;\" x1=\"33\" x2=\"102\" y1=\"342.9375\" y2=\"342.9375\"/></a><!--MD5=[fd4143e9d270a159db93a4ea2a975926]\n",
       "class E9--><a href=\"psysml:cd4f641f-a9ce-41b8-9b9f-d9b0f89951b2\" target=\"_top\" title=\"psysml:cd4f641f-a9ce-41b8-9b9f-d9b0f89951b2\" xlink:actuate=\"onRequest\" xlink:href=\"psysml:cd4f641f-a9ce-41b8-9b9f-d9b0f89951b2\" xlink:show=\"new\" xlink:title=\"psysml:cd4f641f-a9ce-41b8-9b9f-d9b0f89951b2\" xlink:type=\"simple\"><rect fill=\"#FFFFFF\" height=\"45.9375\" id=\"E9\" rx=\"10\" ry=\"10\" style=\"stroke: #383838; stroke-width: 1.5;\" width=\"71\" x=\"32\" y=\"386\"/><text fill=\"#000000\" font-family=\"sans-serif\" font-size=\"12\" font-style=\"italic\" lengthAdjust=\"spacingAndGlyphs\" textLength=\"69\" x=\"33\" y=\"402.1387\">«attribute»</text><text fill=\"#000000\" font-family=\"sans-serif\" font-size=\"12\" lengthAdjust=\"spacingAndGlyphs\" textLength=\"8\" x=\"63.5\" y=\"416.1074\">b</text><line style=\"stroke: #383838; stroke-width: 1.5;\" x1=\"33\" x2=\"102\" y1=\"423.9375\" y2=\"423.9375\"/></a><!--MD5=[96f4274e9e20536e775497830990834d]\n",
       "class E10--><a href=\"psysml:5033f0bf-ffeb-4313-b85b-4258ec8a052c\" target=\"_top\" title=\"psysml:5033f0bf-ffeb-4313-b85b-4258ec8a052c\" xlink:actuate=\"onRequest\" xlink:href=\"psysml:5033f0bf-ffeb-4313-b85b-4258ec8a052c\" xlink:show=\"new\" xlink:title=\"psysml:5033f0bf-ffeb-4313-b85b-4258ec8a052c\" xlink:type=\"simple\"><rect fill=\"#FFFFFF\" height=\"45.9375\" id=\"E10\" rx=\"10\" ry=\"10\" style=\"stroke: #383838; stroke-width: 1.5;\" width=\"71\" x=\"32\" y=\"467\"/><text fill=\"#000000\" font-family=\"sans-serif\" font-size=\"12\" font-style=\"italic\" lengthAdjust=\"spacingAndGlyphs\" textLength=\"69\" x=\"33\" y=\"483.1387\">«attribute»</text><text fill=\"#000000\" font-family=\"sans-serif\" font-size=\"12\" lengthAdjust=\"spacingAndGlyphs\" textLength=\"7\" x=\"64\" y=\"497.1074\">c</text><line style=\"stroke: #383838; stroke-width: 1.5;\" x1=\"33\" x2=\"102\" y1=\"504.9375\" y2=\"504.9375\"/></a><text fill=\"#000000\" font-family=\"sans-serif\" font-size=\"14\" lengthAdjust=\"spacingAndGlyphs\" textLength=\"9\" x=\"63\" y=\"120.9951\">p</text><rect fill=\"#383838\" height=\"12\" style=\"stroke: #F8F8F8; stroke-width: 1.5;\" width=\"12\" x=\"61.5\" y=\"96\"/><text fill=\"#000000\" font-family=\"sans-serif\" font-size=\"14\" lengthAdjust=\"spacingAndGlyphs\" textLength=\"9\" x=\"63\" y=\"33.6982\">q</text><rect fill=\"#383838\" height=\"12\" style=\"stroke: #F8F8F8; stroke-width: 1.5;\" width=\"12\" x=\"61.5\" y=\"49\"/><!--MD5=[05d275557350bfb9b23a4ef7222b4c39]\n",
       "link E3 to E2--><a href=\"psysml:94762400-f967-4f4d-9ae0-7f515d54317a\" target=\"_top\" title=\"psysml:94762400-f967-4f4d-9ae0-7f515d54317a\" xlink:actuate=\"onRequest\" xlink:href=\"psysml:94762400-f967-4f4d-9ae0-7f515d54317a\" xlink:show=\"new\" xlink:title=\"psysml:94762400-f967-4f4d-9ae0-7f515d54317a\" xlink:type=\"simple\"><path d=\"M103.22,167.3 C120.27,167.94 141.42,168.73 161.45,169.49 \" fill=\"none\" id=\"E3-&gt;E2\" style=\"stroke: #383838; stroke-width: 1.0;\"/><polygon fill=\"#FFFFFF\" points=\"181.71,170.25,162.4631,176.5394,162.9831,162.5491,181.71,170.25\" style=\"stroke: #383838; stroke-width: 1.0;\"/><ellipse cx=\"156.8413\" cy=\"174.3291\" fill=\"#383838\" rx=\"2\" ry=\"2\" style=\"stroke: #383838; stroke-width: 1.0;\"/><ellipse cx=\"157.2128\" cy=\"164.336\" fill=\"#383838\" rx=\"2\" ry=\"2\" style=\"stroke: #383838; stroke-width: 1.0;\"/></a><!--MD5=[e7c365e87334de993150c04429f3a999]\n",
       "@startuml\r\n",
       "left to right direction\r\n",
       "skinparam monochrome true\r\n",
       "skinparam classbackgroundcolor white\r\n",
       "skinparam shadowing false\r\n",
       "skinparam wrapWidth 300\r\n",
       "hide circle\r\n",
       "\r\n",
       "package \"ParameterTest\" as E1  [[psysml:88bd93f8-a024-442a-9349-d26cb2f873a0 ]]  {\r\n",
       "comp def \"A\" as E2  <<(T,blue)attribute def>> [[psysml:2f5789b5-3949-40b4-8579-f7414350119a ]] {\r\n",
       "- - attributes - -\r\n",
       "x: String\r\n",
       "y: A\r\n",
       "}\r\n",
       "comp usage \"a: A\" as E3  <<(T,blue)attribute>> [[psysml:02928bc4-0eb7-4367-aa3f-5ffb35356b49 ]] {\r\n",
       "}\r\n",
       "rec def \"F\" as E4  <<(T,blue)calculation def>> [[psysml:de3210e5-068c-44a8-9828-b5930a13c3bb ]] {\r\n",
       "portin \"p\" as E5  [[psysml:6f03e5ff-f747-4209-970e-6a43677acfe5 ]] \r\n",
       "portin \"q\" as E6  [[psysml:59b46d55-27e2-4503-b58c-744d75cefff1 ]] \r\n",
       "}\r\n",
       "\r\n",
       "comp usage \"f\" as E7  <<(T,blue)attribute>> [[psysml:8c3ddf1b-2d8e-48f9-8bd9-e07e4f9dde48 ]] {\r\n",
       "}\r\n",
       "comp usage \"g\" as E8  <<(T,blue)attribute>> [[psysml:1f38f371-1f52-4b01-a20c-3f08ced1218d ]] {\r\n",
       "}\r\n",
       "comp usage \"b\" as E9  <<(T,blue)attribute>> [[psysml:cd4f641f-a9ce-41b8-9b9f-d9b0f89951b2 ]] {\r\n",
       "}\r\n",
       "comp usage \"c\" as E10  <<(T,blue)attribute>> [[psysml:5033f0bf-ffeb-4313-b85b-4258ec8a052c ]] {\r\n",
       "}\r\n",
       "E3 - -:|> E2 [[psysml:94762400-f967-4f4d-9ae0-7f515d54317a ]] \r\n",
       "}\r\n",
       "@enduml\r\n",
       "\n",
       "PlantUML version 1.2020.13(Sat Jun 13 12:26:38 UTC 2020)\n",
       "(EPL source distribution)\n",
       "Java Runtime: OpenJDK Runtime Environment\n",
       "JVM: OpenJDK 64-Bit Server VM\n",
       "Default Encoding: UTF-8\n",
       "Language: en\n",
       "Country: null\n",
       "--></g></svg>"
      ]
     },
     "execution_count": 22,
     "metadata": {},
     "output_type": "execute_result"
    }
   ],
   "source": [
    "%viz --style=\"LR\" --view=\"MIXED\" \"ParameterTest\""
   ]
  },
  {
   "cell_type": "code",
   "execution_count": 23,
   "id": "aggregate-links",
   "metadata": {
    "execution": {
     "iopub.execute_input": "2021-03-26T13:01:41.170205Z",
     "iopub.status.busy": "2021-03-26T13:01:41.169697Z",
     "iopub.status.idle": "2021-03-26T13:01:41.210435Z",
     "shell.execute_reply": "2021-03-26T13:01:41.208958Z"
    }
   },
   "outputs": [
    {
     "data": {
      "image/svg+xml": [
       "<?xml version=\"1.0\" encoding=\"UTF-8\" standalone=\"no\"?><svg xmlns=\"http://www.w3.org/2000/svg\" xmlns:xlink=\"http://www.w3.org/1999/xlink\" contentScriptType=\"application/ecmascript\" contentStyleType=\"text/css\" height=\"247px\" preserveAspectRatio=\"none\" style=\"width:740px;height:247px;\" version=\"1.1\" viewBox=\"0 0 740 247\" width=\"740px\" zoomAndPan=\"magnify\"><defs><filter height=\"300%\" id=\"f14pl2yy8vduph\" width=\"300%\" x=\"-1\" y=\"-1\"><feGaussianBlur result=\"blurOut\" stdDeviation=\"2.0\"/><feColorMatrix in=\"blurOut\" result=\"blurOut2\" type=\"matrix\" values=\"0 0 0 0 0 0 0 0 0 0 0 0 0 0 0 0 0 0 .4 0\"/><feOffset dx=\"4.0\" dy=\"4.0\" in=\"blurOut2\" result=\"blurOut3\"/><feBlend in=\"SourceGraphic\" in2=\"blurOut3\" mode=\"normal\"/></filter></defs><g><!--MD5=[fbc87193dbaf4d95561dea2c320d4a47]\n",
       "cluster E1--><a href=\"psysml:88bd93f8-a024-442a-9349-d26cb2f873a0\" target=\"_top\" title=\"psysml:88bd93f8-a024-442a-9349-d26cb2f873a0\" xlink:actuate=\"onRequest\" xlink:href=\"psysml:88bd93f8-a024-442a-9349-d26cb2f873a0\" xlink:show=\"new\" xlink:title=\"psysml:88bd93f8-a024-442a-9349-d26cb2f873a0\" xlink:type=\"simple\"><polygon fill=\"#FFFFFF\" filter=\"url(#f14pl2yy8vduph)\" points=\"16,6,139,6,146,28.2969,718,28.2969,718,235,16,235,16,6\" style=\"stroke: #000000; stroke-width: 1.5;\"/><line style=\"stroke: #000000; stroke-width: 1.5;\" x1=\"16\" x2=\"146\" y1=\"28.2969\" y2=\"28.2969\"/><text fill=\"#000000\" font-family=\"sans-serif\" font-size=\"14\" font-weight=\"bold\" lengthAdjust=\"spacingAndGlyphs\" textLength=\"117\" x=\"20\" y=\"20.9951\">ParameterTest</text></a><!--MD5=[f6df4d0ebaf0b5dfb2ced0ae5af7c670]\n",
       "cluster E4--><a href=\"psysml:de3210e5-068c-44a8-9828-b5930a13c3bb\" target=\"_top\" title=\"psysml:de3210e5-068c-44a8-9828-b5930a13c3bb\" xlink:actuate=\"onRequest\" xlink:href=\"psysml:de3210e5-068c-44a8-9828-b5930a13c3bb\" xlink:show=\"new\" xlink:title=\"psysml:de3210e5-068c-44a8-9828-b5930a13c3bb\" xlink:type=\"simple\"><rect fill=\"#FFFFFF\" filter=\"url(#f14pl2yy8vduph)\" height=\"152.5\" id=\"E4\" style=\"stroke: #A80036; stroke-width: 1.5;\" width=\"148\" x=\"554\" y=\"64\"/><rect fill=\"#FEFECE\" height=\"37.9375\" style=\"stroke: #A80036; stroke-width: 1.5;\" width=\"148\" x=\"554\" y=\"64\"/><text fill=\"#000000\" font-family=\"sans-serif\" font-size=\"12\" font-style=\"italic\" lengthAdjust=\"spacingAndGlyphs\" textLength=\"106\" x=\"575\" y=\"80.1387\">«calculation def»</text><text fill=\"#000000\" font-family=\"sans-serif\" font-size=\"12\" lengthAdjust=\"spacingAndGlyphs\" textLength=\"7\" x=\"624.5\" y=\"94.1074\">F</text></a><!--MD5=[b4997ac47864f28c2f74865a473b2911]\n",
       "class E2--><a href=\"psysml:2f5789b5-3949-40b4-8579-f7414350119a\" target=\"_top\" title=\"psysml:2f5789b5-3949-40b4-8579-f7414350119a\" xlink:actuate=\"onRequest\" xlink:href=\"psysml:2f5789b5-3949-40b4-8579-f7414350119a\" xlink:show=\"new\" xlink:title=\"psysml:2f5789b5-3949-40b4-8579-f7414350119a\" xlink:type=\"simple\"><rect fill=\"#FEFECE\" filter=\"url(#f14pl2yy8vduph)\" height=\"71.5469\" id=\"E2\" style=\"stroke: #A80036; stroke-width: 1.5;\" width=\"95\" x=\"422.5\" y=\"147\"/><text fill=\"#000000\" font-family=\"sans-serif\" font-size=\"12\" font-style=\"italic\" lengthAdjust=\"spacingAndGlyphs\" textLength=\"93\" x=\"423.5\" y=\"163.1387\">«attribute def»</text><text fill=\"#000000\" font-family=\"sans-serif\" font-size=\"12\" lengthAdjust=\"spacingAndGlyphs\" textLength=\"8\" x=\"466\" y=\"177.1074\">A</text><line style=\"stroke: #A80036; stroke-width: 1.5;\" x1=\"423.5\" x2=\"516.5\" y1=\"184.9375\" y2=\"184.9375\"/><text fill=\"#000000\" font-family=\"sans-serif\" font-size=\"11\" lengthAdjust=\"spacingAndGlyphs\" textLength=\"48\" x=\"428.5\" y=\"199.1479\">x: String</text><text fill=\"#000000\" font-family=\"sans-serif\" font-size=\"11\" lengthAdjust=\"spacingAndGlyphs\" textLength=\"21\" x=\"428.5\" y=\"211.9526\">y: A</text></a><!--MD5=[09b614a08d8cba4a07c9adeb5e0fee81]\n",
       "class E3--><a href=\"psysml:02928bc4-0eb7-4367-aa3f-5ffb35356b49\" target=\"_top\" title=\"psysml:02928bc4-0eb7-4367-aa3f-5ffb35356b49\" xlink:actuate=\"onRequest\" xlink:href=\"psysml:02928bc4-0eb7-4367-aa3f-5ffb35356b49\" xlink:show=\"new\" xlink:title=\"psysml:02928bc4-0eb7-4367-aa3f-5ffb35356b49\" xlink:type=\"simple\"><rect fill=\"#FEFECE\" filter=\"url(#f14pl2yy8vduph)\" height=\"45.9375\" id=\"E3\" rx=\"10\" ry=\"10\" style=\"stroke: #A80036; stroke-width: 1.5;\" width=\"71\" x=\"456.5\" y=\"41\"/><text fill=\"#000000\" font-family=\"sans-serif\" font-size=\"12\" font-style=\"italic\" lengthAdjust=\"spacingAndGlyphs\" textLength=\"69\" x=\"457.5\" y=\"57.1387\">«attribute»</text><text fill=\"#000000\" font-family=\"sans-serif\" font-size=\"12\" lengthAdjust=\"spacingAndGlyphs\" textLength=\"24\" x=\"480\" y=\"71.1074\">a: A</text><line style=\"stroke: #A80036; stroke-width: 1.5;\" x1=\"457.5\" x2=\"526.5\" y1=\"78.9375\" y2=\"78.9375\"/></a><!--MD5=[2156ba9850f5573cc1fc38a6a4b2f02b]\n",
       "class E7--><a href=\"psysml:8c3ddf1b-2d8e-48f9-8bd9-e07e4f9dde48\" target=\"_top\" title=\"psysml:8c3ddf1b-2d8e-48f9-8bd9-e07e4f9dde48\" xlink:actuate=\"onRequest\" xlink:href=\"psysml:8c3ddf1b-2d8e-48f9-8bd9-e07e4f9dde48\" xlink:show=\"new\" xlink:title=\"psysml:8c3ddf1b-2d8e-48f9-8bd9-e07e4f9dde48\" xlink:type=\"simple\"><rect fill=\"#FEFECE\" filter=\"url(#f14pl2yy8vduph)\" height=\"45.9375\" id=\"E7\" rx=\"10\" ry=\"10\" style=\"stroke: #A80036; stroke-width: 1.5;\" width=\"71\" x=\"350.5\" y=\"41\"/><text fill=\"#000000\" font-family=\"sans-serif\" font-size=\"12\" font-style=\"italic\" lengthAdjust=\"spacingAndGlyphs\" textLength=\"69\" x=\"351.5\" y=\"57.1387\">«attribute»</text><text fill=\"#000000\" font-family=\"sans-serif\" font-size=\"12\" lengthAdjust=\"spacingAndGlyphs\" textLength=\"4\" x=\"384\" y=\"71.1074\">f</text><line style=\"stroke: #A80036; stroke-width: 1.5;\" x1=\"351.5\" x2=\"420.5\" y1=\"78.9375\" y2=\"78.9375\"/></a><!--MD5=[b9389687b975829384b498ac4b7476b2]\n",
       "class E8--><a href=\"psysml:1f38f371-1f52-4b01-a20c-3f08ced1218d\" target=\"_top\" title=\"psysml:1f38f371-1f52-4b01-a20c-3f08ced1218d\" xlink:actuate=\"onRequest\" xlink:href=\"psysml:1f38f371-1f52-4b01-a20c-3f08ced1218d\" xlink:show=\"new\" xlink:title=\"psysml:1f38f371-1f52-4b01-a20c-3f08ced1218d\" xlink:type=\"simple\"><rect fill=\"#FEFECE\" filter=\"url(#f14pl2yy8vduph)\" height=\"45.9375\" id=\"E8\" rx=\"10\" ry=\"10\" style=\"stroke: #A80036; stroke-width: 1.5;\" width=\"71\" x=\"244.5\" y=\"41\"/><text fill=\"#000000\" font-family=\"sans-serif\" font-size=\"12\" font-style=\"italic\" lengthAdjust=\"spacingAndGlyphs\" textLength=\"69\" x=\"245.5\" y=\"57.1387\">«attribute»</text><text fill=\"#000000\" font-family=\"sans-serif\" font-size=\"12\" lengthAdjust=\"spacingAndGlyphs\" textLength=\"8\" x=\"276\" y=\"71.1074\">g</text><line style=\"stroke: #A80036; stroke-width: 1.5;\" x1=\"245.5\" x2=\"314.5\" y1=\"78.9375\" y2=\"78.9375\"/></a><!--MD5=[fd4143e9d270a159db93a4ea2a975926]\n",
       "class E9--><a href=\"psysml:cd4f641f-a9ce-41b8-9b9f-d9b0f89951b2\" target=\"_top\" title=\"psysml:cd4f641f-a9ce-41b8-9b9f-d9b0f89951b2\" xlink:actuate=\"onRequest\" xlink:href=\"psysml:cd4f641f-a9ce-41b8-9b9f-d9b0f89951b2\" xlink:show=\"new\" xlink:title=\"psysml:cd4f641f-a9ce-41b8-9b9f-d9b0f89951b2\" xlink:type=\"simple\"><rect fill=\"#FEFECE\" filter=\"url(#f14pl2yy8vduph)\" height=\"45.9375\" id=\"E9\" rx=\"10\" ry=\"10\" style=\"stroke: #A80036; stroke-width: 1.5;\" width=\"71\" x=\"138.5\" y=\"41\"/><text fill=\"#000000\" font-family=\"sans-serif\" font-size=\"12\" font-style=\"italic\" lengthAdjust=\"spacingAndGlyphs\" textLength=\"69\" x=\"139.5\" y=\"57.1387\">«attribute»</text><text fill=\"#000000\" font-family=\"sans-serif\" font-size=\"12\" lengthAdjust=\"spacingAndGlyphs\" textLength=\"8\" x=\"170\" y=\"71.1074\">b</text><line style=\"stroke: #A80036; stroke-width: 1.5;\" x1=\"139.5\" x2=\"208.5\" y1=\"78.9375\" y2=\"78.9375\"/></a><!--MD5=[96f4274e9e20536e775497830990834d]\n",
       "class E10--><a href=\"psysml:5033f0bf-ffeb-4313-b85b-4258ec8a052c\" target=\"_top\" title=\"psysml:5033f0bf-ffeb-4313-b85b-4258ec8a052c\" xlink:actuate=\"onRequest\" xlink:href=\"psysml:5033f0bf-ffeb-4313-b85b-4258ec8a052c\" xlink:show=\"new\" xlink:title=\"psysml:5033f0bf-ffeb-4313-b85b-4258ec8a052c\" xlink:type=\"simple\"><rect fill=\"#FEFECE\" filter=\"url(#f14pl2yy8vduph)\" height=\"45.9375\" id=\"E10\" rx=\"10\" ry=\"10\" style=\"stroke: #A80036; stroke-width: 1.5;\" width=\"71\" x=\"32.5\" y=\"41\"/><text fill=\"#000000\" font-family=\"sans-serif\" font-size=\"12\" font-style=\"italic\" lengthAdjust=\"spacingAndGlyphs\" textLength=\"69\" x=\"33.5\" y=\"57.1387\">«attribute»</text><text fill=\"#000000\" font-family=\"sans-serif\" font-size=\"12\" lengthAdjust=\"spacingAndGlyphs\" textLength=\"7\" x=\"64.5\" y=\"71.1074\">c</text><line style=\"stroke: #A80036; stroke-width: 1.5;\" x1=\"33.5\" x2=\"102.5\" y1=\"78.9375\" y2=\"78.9375\"/></a><text fill=\"#000000\" font-family=\"sans-serif\" font-size=\"14\" lengthAdjust=\"spacingAndGlyphs\" textLength=\"9\" x=\"567.5\" y=\"42.6982\">p</text><rect fill=\"#A80036\" height=\"12\" style=\"stroke: #FEFECE; stroke-width: 1.5;\" width=\"12\" x=\"566\" y=\"58\"/><text fill=\"#000000\" font-family=\"sans-serif\" font-size=\"14\" lengthAdjust=\"spacingAndGlyphs\" textLength=\"9\" x=\"614.5\" y=\"42.6982\">q</text><rect fill=\"#A80036\" height=\"12\" style=\"stroke: #FEFECE; stroke-width: 1.5;\" width=\"12\" x=\"613\" y=\"58\"/><!--MD5=[05d275557350bfb9b23a4ef7222b4c39]\n",
       "link E3 to E2--><a href=\"psysml:94762400-f967-4f4d-9ae0-7f515d54317a\" target=\"_top\" title=\"psysml:94762400-f967-4f4d-9ae0-7f515d54317a\" xlink:actuate=\"onRequest\" xlink:href=\"psysml:94762400-f967-4f4d-9ae0-7f515d54317a\" xlink:show=\"new\" xlink:title=\"psysml:94762400-f967-4f4d-9ae0-7f515d54317a\" xlink:type=\"simple\"><path d=\"M487.86,87.01 C485.74,98.3 483.05,112.62 480.4,126.7 \" fill=\"none\" id=\"E3-&gt;E2\" style=\"stroke: #A80036; stroke-width: 1.0;\"/><polygon fill=\"#FFFFFF\" points=\"476.63,146.75,473.2514,126.7854,487.0116,129.3654,476.63,146.75\" style=\"stroke: #A80036; stroke-width: 1.0;\"/><ellipse cx=\"476.2676\" cy=\"121.5516\" fill=\"#A80036\" rx=\"2\" ry=\"2\" style=\"stroke: #A80036; stroke-width: 1.0;\"/><ellipse cx=\"486.0963\" cy=\"123.3945\" fill=\"#A80036\" rx=\"2\" ry=\"2\" style=\"stroke: #A80036; stroke-width: 1.0;\"/></a><!--MD5=[d78943b2e0e12d1c3641a058457bc641]\n",
       "@startuml\r\n",
       "skinparam wrapWidth 300\r\n",
       "hide circle\r\n",
       "\r\n",
       "package \"ParameterTest\" as E1  [[psysml:88bd93f8-a024-442a-9349-d26cb2f873a0 ]]  {\r\n",
       "comp def \"A\" as E2  <<(T,blue)attribute def>> [[psysml:2f5789b5-3949-40b4-8579-f7414350119a ]] {\r\n",
       "x: String\r\n",
       "y: A\r\n",
       "}\r\n",
       "comp usage \"a: A\" as E3  <<(T,blue)attribute>> [[psysml:02928bc4-0eb7-4367-aa3f-5ffb35356b49 ]] {\r\n",
       "}\r\n",
       "rec def \"F\" as E4  <<(T,blue)calculation def>> [[psysml:de3210e5-068c-44a8-9828-b5930a13c3bb ]] {\r\n",
       "portin \"p\" as E5  [[psysml:6f03e5ff-f747-4209-970e-6a43677acfe5 ]] \r\n",
       "portin \"q\" as E6  [[psysml:59b46d55-27e2-4503-b58c-744d75cefff1 ]] \r\n",
       "}\r\n",
       "\r\n",
       "comp usage \"f\" as E7  <<(T,blue)attribute>> [[psysml:8c3ddf1b-2d8e-48f9-8bd9-e07e4f9dde48 ]] {\r\n",
       "}\r\n",
       "comp usage \"g\" as E8  <<(T,blue)attribute>> [[psysml:1f38f371-1f52-4b01-a20c-3f08ced1218d ]] {\r\n",
       "}\r\n",
       "comp usage \"b\" as E9  <<(T,blue)attribute>> [[psysml:cd4f641f-a9ce-41b8-9b9f-d9b0f89951b2 ]] {\r\n",
       "}\r\n",
       "comp usage \"c\" as E10  <<(T,blue)attribute>> [[psysml:5033f0bf-ffeb-4313-b85b-4258ec8a052c ]] {\r\n",
       "}\r\n",
       "E3 - -:|> E2 [[psysml:94762400-f967-4f4d-9ae0-7f515d54317a ]] \r\n",
       "}\r\n",
       "@enduml\r\n",
       "\n",
       "PlantUML version 1.2020.13(Sat Jun 13 12:26:38 UTC 2020)\n",
       "(EPL source distribution)\n",
       "Java Runtime: OpenJDK Runtime Environment\n",
       "JVM: OpenJDK 64-Bit Server VM\n",
       "Default Encoding: UTF-8\n",
       "Language: en\n",
       "Country: null\n",
       "--></g></svg>"
      ]
     },
     "execution_count": 23,
     "metadata": {},
     "output_type": "execute_result"
    }
   ],
   "source": [
    "%viz --style=\"STDCOLOR\" --view=\"Default\" \"ParameterTest\""
   ]
  },
  {
   "cell_type": "code",
   "execution_count": 24,
   "id": "domestic-prerequisite",
   "metadata": {
    "execution": {
     "iopub.execute_input": "2021-03-26T13:01:41.266334Z",
     "iopub.status.busy": "2021-03-26T13:01:41.265978Z",
     "iopub.status.idle": "2021-03-26T13:01:41.297088Z",
     "shell.execute_reply": "2021-03-26T13:01:41.297406Z"
    }
   },
   "outputs": [
    {
     "data": {
      "image/svg+xml": [
       "<?xml version=\"1.0\" encoding=\"UTF-8\" standalone=\"no\"?><svg xmlns=\"http://www.w3.org/2000/svg\" xmlns:xlink=\"http://www.w3.org/1999/xlink\" contentScriptType=\"application/ecmascript\" contentStyleType=\"text/css\" height=\"264px\" preserveAspectRatio=\"none\" style=\"width:710px;height:264px;\" version=\"1.1\" viewBox=\"0 0 710 264\" width=\"710px\" zoomAndPan=\"magnify\"><defs><filter height=\"300%\" id=\"fs9pcviou9v28\" width=\"300%\" x=\"-1\" y=\"-1\"><feGaussianBlur result=\"blurOut\" stdDeviation=\"2.0\"/><feColorMatrix in=\"blurOut\" result=\"blurOut2\" type=\"matrix\" values=\"0 0 0 0 0 0 0 0 0 0 0 0 0 0 0 0 0 0 .4 0\"/><feOffset dx=\"4.0\" dy=\"4.0\" in=\"blurOut2\" result=\"blurOut3\"/><feBlend in=\"SourceGraphic\" in2=\"blurOut3\" mode=\"normal\"/></filter></defs><g><!--MD5=[fbc87193dbaf4d95561dea2c320d4a47]\n",
       "cluster E1--><a href=\"psysml:88bd93f8-a024-442a-9349-d26cb2f873a0\" target=\"_top\" title=\"psysml:88bd93f8-a024-442a-9349-d26cb2f873a0\" xlink:actuate=\"onRequest\" xlink:href=\"psysml:88bd93f8-a024-442a-9349-d26cb2f873a0\" xlink:show=\"new\" xlink:title=\"psysml:88bd93f8-a024-442a-9349-d26cb2f873a0\" xlink:type=\"simple\"><polygon fill=\"#FFFFFF\" filter=\"url(#fs9pcviou9v28)\" points=\"16,6,139,6,146,28.2969,688,28.2969,688,252,16,252,16,6\" style=\"stroke: #000000; stroke-width: 1.5;\"/><line style=\"stroke: #000000; stroke-width: 1.5;\" x1=\"16\" x2=\"146\" y1=\"28.2969\" y2=\"28.2969\"/><text fill=\"#000000\" font-family=\"sans-serif\" font-size=\"14\" font-weight=\"bold\" lengthAdjust=\"spacingAndGlyphs\" textLength=\"117\" x=\"20\" y=\"20.9951\">ParameterTest</text></a><!--MD5=[b4997ac47864f28c2f74865a473b2911]\n",
       "class E2--><a href=\"psysml:2f5789b5-3949-40b4-8579-f7414350119a\" target=\"_top\" title=\"psysml:2f5789b5-3949-40b4-8579-f7414350119a\" xlink:actuate=\"onRequest\" xlink:href=\"psysml:2f5789b5-3949-40b4-8579-f7414350119a\" xlink:show=\"new\" xlink:title=\"psysml:2f5789b5-3949-40b4-8579-f7414350119a\" xlink:type=\"simple\"><rect fill=\"#FEFECE\" filter=\"url(#fs9pcviou9v28)\" height=\"71.5469\" id=\"E2\" style=\"stroke: #A80036; stroke-width: 1.5;\" width=\"95\" x=\"498.5\" y=\"164\"/><text fill=\"#000000\" font-family=\"sans-serif\" font-size=\"12\" font-style=\"italic\" lengthAdjust=\"spacingAndGlyphs\" textLength=\"93\" x=\"499.5\" y=\"180.1387\">«attribute def»</text><text fill=\"#000000\" font-family=\"sans-serif\" font-size=\"12\" lengthAdjust=\"spacingAndGlyphs\" textLength=\"8\" x=\"542\" y=\"194.1074\">A</text><line style=\"stroke: #A80036; stroke-width: 1.5;\" x1=\"499.5\" x2=\"592.5\" y1=\"201.9375\" y2=\"201.9375\"/><text fill=\"#000000\" font-family=\"sans-serif\" font-size=\"11\" lengthAdjust=\"spacingAndGlyphs\" textLength=\"48\" x=\"504.5\" y=\"216.1479\">x: String</text><text fill=\"#000000\" font-family=\"sans-serif\" font-size=\"11\" lengthAdjust=\"spacingAndGlyphs\" textLength=\"21\" x=\"504.5\" y=\"228.9526\">y: A</text></a><!--MD5=[09b614a08d8cba4a07c9adeb5e0fee81]\n",
       "class E3--><a href=\"psysml:02928bc4-0eb7-4367-aa3f-5ffb35356b49\" target=\"_top\" title=\"psysml:02928bc4-0eb7-4367-aa3f-5ffb35356b49\" xlink:actuate=\"onRequest\" xlink:href=\"psysml:02928bc4-0eb7-4367-aa3f-5ffb35356b49\" xlink:show=\"new\" xlink:title=\"psysml:02928bc4-0eb7-4367-aa3f-5ffb35356b49\" xlink:type=\"simple\"><rect fill=\"#FEFECE\" filter=\"url(#fs9pcviou9v28)\" height=\"45.9375\" id=\"E3\" rx=\"10\" ry=\"10\" style=\"stroke: #A80036; stroke-width: 1.5;\" width=\"71\" x=\"600.5\" y=\"41\"/><text fill=\"#000000\" font-family=\"sans-serif\" font-size=\"12\" font-style=\"italic\" lengthAdjust=\"spacingAndGlyphs\" textLength=\"69\" x=\"601.5\" y=\"57.1387\">«attribute»</text><text fill=\"#000000\" font-family=\"sans-serif\" font-size=\"12\" lengthAdjust=\"spacingAndGlyphs\" textLength=\"24\" x=\"624\" y=\"71.1074\">a: A</text><line style=\"stroke: #A80036; stroke-width: 1.5;\" x1=\"601.5\" x2=\"670.5\" y1=\"78.9375\" y2=\"78.9375\"/></a><!--MD5=[ebbe1d658d1005bcc118a6aa81145e00]\n",
       "class E4--><a href=\"psysml:de3210e5-068c-44a8-9828-b5930a13c3bb\" target=\"_top\" title=\"psysml:de3210e5-068c-44a8-9828-b5930a13c3bb\" xlink:actuate=\"onRequest\" xlink:href=\"psysml:de3210e5-068c-44a8-9828-b5930a13c3bb\" xlink:show=\"new\" xlink:title=\"psysml:de3210e5-068c-44a8-9828-b5930a13c3bb\" xlink:type=\"simple\"><rect fill=\"#FEFECE\" filter=\"url(#fs9pcviou9v28)\" height=\"45.9375\" id=\"E4\" style=\"stroke: #A80036; stroke-width: 1.5;\" width=\"108\" x=\"457\" y=\"41\"/><text fill=\"#000000\" font-family=\"sans-serif\" font-size=\"12\" font-style=\"italic\" lengthAdjust=\"spacingAndGlyphs\" textLength=\"106\" x=\"458\" y=\"57.1387\">«calculation def»</text><text fill=\"#000000\" font-family=\"sans-serif\" font-size=\"12\" lengthAdjust=\"spacingAndGlyphs\" textLength=\"7\" x=\"507.5\" y=\"71.1074\">F</text><line style=\"stroke: #A80036; stroke-width: 1.5;\" x1=\"458\" x2=\"564\" y1=\"78.9375\" y2=\"78.9375\"/></a><!--MD5=[270fce915f116d4de14055a7c1d9a0f3]\n",
       "class E5--><a href=\"psysml:8c3ddf1b-2d8e-48f9-8bd9-e07e4f9dde48\" target=\"_top\" title=\"psysml:8c3ddf1b-2d8e-48f9-8bd9-e07e4f9dde48\" xlink:actuate=\"onRequest\" xlink:href=\"psysml:8c3ddf1b-2d8e-48f9-8bd9-e07e4f9dde48\" xlink:show=\"new\" xlink:title=\"psysml:8c3ddf1b-2d8e-48f9-8bd9-e07e4f9dde48\" xlink:type=\"simple\"><rect fill=\"#FEFECE\" filter=\"url(#fs9pcviou9v28)\" height=\"45.9375\" id=\"E5\" rx=\"10\" ry=\"10\" style=\"stroke: #A80036; stroke-width: 1.5;\" width=\"71\" x=\"350.5\" y=\"41\"/><text fill=\"#000000\" font-family=\"sans-serif\" font-size=\"12\" font-style=\"italic\" lengthAdjust=\"spacingAndGlyphs\" textLength=\"69\" x=\"351.5\" y=\"57.1387\">«attribute»</text><text fill=\"#000000\" font-family=\"sans-serif\" font-size=\"12\" lengthAdjust=\"spacingAndGlyphs\" textLength=\"4\" x=\"384\" y=\"71.1074\">f</text><line style=\"stroke: #A80036; stroke-width: 1.5;\" x1=\"351.5\" x2=\"420.5\" y1=\"78.9375\" y2=\"78.9375\"/></a><!--MD5=[60a26617385b1d2d0262a64233df1f8d]\n",
       "class E6--><a href=\"psysml:1f38f371-1f52-4b01-a20c-3f08ced1218d\" target=\"_top\" title=\"psysml:1f38f371-1f52-4b01-a20c-3f08ced1218d\" xlink:actuate=\"onRequest\" xlink:href=\"psysml:1f38f371-1f52-4b01-a20c-3f08ced1218d\" xlink:show=\"new\" xlink:title=\"psysml:1f38f371-1f52-4b01-a20c-3f08ced1218d\" xlink:type=\"simple\"><rect fill=\"#FEFECE\" filter=\"url(#fs9pcviou9v28)\" height=\"45.9375\" id=\"E6\" rx=\"10\" ry=\"10\" style=\"stroke: #A80036; stroke-width: 1.5;\" width=\"71\" x=\"244.5\" y=\"41\"/><text fill=\"#000000\" font-family=\"sans-serif\" font-size=\"12\" font-style=\"italic\" lengthAdjust=\"spacingAndGlyphs\" textLength=\"69\" x=\"245.5\" y=\"57.1387\">«attribute»</text><text fill=\"#000000\" font-family=\"sans-serif\" font-size=\"12\" lengthAdjust=\"spacingAndGlyphs\" textLength=\"8\" x=\"276\" y=\"71.1074\">g</text><line style=\"stroke: #A80036; stroke-width: 1.5;\" x1=\"245.5\" x2=\"314.5\" y1=\"78.9375\" y2=\"78.9375\"/></a><!--MD5=[2156ba9850f5573cc1fc38a6a4b2f02b]\n",
       "class E7--><a href=\"psysml:cd4f641f-a9ce-41b8-9b9f-d9b0f89951b2\" target=\"_top\" title=\"psysml:cd4f641f-a9ce-41b8-9b9f-d9b0f89951b2\" xlink:actuate=\"onRequest\" xlink:href=\"psysml:cd4f641f-a9ce-41b8-9b9f-d9b0f89951b2\" xlink:show=\"new\" xlink:title=\"psysml:cd4f641f-a9ce-41b8-9b9f-d9b0f89951b2\" xlink:type=\"simple\"><rect fill=\"#FEFECE\" filter=\"url(#fs9pcviou9v28)\" height=\"45.9375\" id=\"E7\" rx=\"10\" ry=\"10\" style=\"stroke: #A80036; stroke-width: 1.5;\" width=\"71\" x=\"138.5\" y=\"41\"/><text fill=\"#000000\" font-family=\"sans-serif\" font-size=\"12\" font-style=\"italic\" lengthAdjust=\"spacingAndGlyphs\" textLength=\"69\" x=\"139.5\" y=\"57.1387\">«attribute»</text><text fill=\"#000000\" font-family=\"sans-serif\" font-size=\"12\" lengthAdjust=\"spacingAndGlyphs\" textLength=\"8\" x=\"170\" y=\"71.1074\">b</text><line style=\"stroke: #A80036; stroke-width: 1.5;\" x1=\"139.5\" x2=\"208.5\" y1=\"78.9375\" y2=\"78.9375\"/></a><!--MD5=[b9389687b975829384b498ac4b7476b2]\n",
       "class E8--><a href=\"psysml:5033f0bf-ffeb-4313-b85b-4258ec8a052c\" target=\"_top\" title=\"psysml:5033f0bf-ffeb-4313-b85b-4258ec8a052c\" xlink:actuate=\"onRequest\" xlink:href=\"psysml:5033f0bf-ffeb-4313-b85b-4258ec8a052c\" xlink:show=\"new\" xlink:title=\"psysml:5033f0bf-ffeb-4313-b85b-4258ec8a052c\" xlink:type=\"simple\"><rect fill=\"#FEFECE\" filter=\"url(#fs9pcviou9v28)\" height=\"45.9375\" id=\"E8\" rx=\"10\" ry=\"10\" style=\"stroke: #A80036; stroke-width: 1.5;\" width=\"71\" x=\"32.5\" y=\"41\"/><text fill=\"#000000\" font-family=\"sans-serif\" font-size=\"12\" font-style=\"italic\" lengthAdjust=\"spacingAndGlyphs\" textLength=\"69\" x=\"33.5\" y=\"57.1387\">«attribute»</text><text fill=\"#000000\" font-family=\"sans-serif\" font-size=\"12\" lengthAdjust=\"spacingAndGlyphs\" textLength=\"7\" x=\"64.5\" y=\"71.1074\">c</text><line style=\"stroke: #A80036; stroke-width: 1.5;\" x1=\"33.5\" x2=\"102.5\" y1=\"78.9375\" y2=\"78.9375\"/></a><!--MD5=[05d275557350bfb9b23a4ef7222b4c39]\n",
       "link E3 to E2--><a href=\"psysml:94762400-f967-4f4d-9ae0-7f515d54317a\" target=\"_top\" title=\"psysml:94762400-f967-4f4d-9ae0-7f515d54317a\" xlink:actuate=\"onRequest\" xlink:href=\"psysml:94762400-f967-4f4d-9ae0-7f515d54317a\" xlink:show=\"new\" xlink:title=\"psysml:94762400-f967-4f4d-9ae0-7f515d54317a\" xlink:type=\"simple\"><path d=\"M621.14,87.13 C610.18,103.45 594.8,126.34 580.81,147.17 \" fill=\"none\" id=\"E3-&gt;E2\" style=\"stroke: #A80036; stroke-width: 1.0;\"/><polygon fill=\"#FFFFFF\" points=\"569.52,163.99,574.309,144.316,585.9284,152.1256,569.52,163.99\" style=\"stroke: #A80036; stroke-width: 1.0;\"/><ellipse cx=\"579.1486\" cy=\"140.7009\" fill=\"#A80036\" rx=\"2\" ry=\"2\" style=\"stroke: #A80036; stroke-width: 1.0;\"/><ellipse cx=\"587.4481\" cy=\"146.2792\" fill=\"#A80036\" rx=\"2\" ry=\"2\" style=\"stroke: #A80036; stroke-width: 1.0;\"/></a><!--MD5=[ddeed8deb2209213b62e6cfabaa108b2]\n",
       "reverse link E4 to E2--><a href=\"psysml:6f03e5ff-f747-4209-970e-6a43677acfe5\" target=\"_top\" title=\"psysml:6f03e5ff-f747-4209-970e-6a43677acfe5\" xlink:actuate=\"onRequest\" xlink:href=\"psysml:6f03e5ff-f747-4209-970e-6a43677acfe5\" xlink:show=\"new\" xlink:title=\"psysml:6f03e5ff-f747-4209-970e-6a43677acfe5\" xlink:type=\"simple\"><path d=\"M520.11,99.89 C525.27,119.63 531.69,144.23 536.85,163.99 \" fill=\"none\" id=\"E4&lt;-E2\" style=\"stroke: #A80036; stroke-width: 1.0;\"/><polygon fill=\"#FFFFFF\" points=\"516.78,87.13,514.4253,93.9458,519.8112,98.7408,522.1659,91.925,516.78,87.13\" style=\"stroke: #A80036; stroke-width: 1.0;\"/><text fill=\"#000000\" font-family=\"sans-serif\" font-size=\"13\" lengthAdjust=\"spacingAndGlyphs\" textLength=\"8\" x=\"529\" y=\"130.0669\">p</text></a><!--MD5=[f4ab3c4d4fd553c595a0f67c45668e2b]\n",
       "@startuml\r\n",
       "skinparam wrapWidth 300\r\n",
       "hide circle\r\n",
       "\r\n",
       "package \"ParameterTest\" as E1  [[psysml:88bd93f8-a024-442a-9349-d26cb2f873a0 ]]  {\r\n",
       "comp def \"A\" as E2  <<(T,blue)attribute def>> [[psysml:2f5789b5-3949-40b4-8579-f7414350119a ]] {\r\n",
       "x: String\r\n",
       "y: A\r\n",
       "}\r\n",
       "comp usage \"a: A\" as E3  <<(T,blue)attribute>> [[psysml:02928bc4-0eb7-4367-aa3f-5ffb35356b49 ]] {\r\n",
       "}\r\n",
       "comp def \"F\" as E4  <<(T,blue)calculation def>> [[psysml:de3210e5-068c-44a8-9828-b5930a13c3bb ]] {\r\n",
       "}\r\n",
       "comp usage \"f\" as E5  <<(T,blue)attribute>> [[psysml:8c3ddf1b-2d8e-48f9-8bd9-e07e4f9dde48 ]] {\r\n",
       "}\r\n",
       "comp usage \"g\" as E6  <<(T,blue)attribute>> [[psysml:1f38f371-1f52-4b01-a20c-3f08ced1218d ]] {\r\n",
       "}\r\n",
       "comp usage \"b\" as E7  <<(T,blue)attribute>> [[psysml:cd4f641f-a9ce-41b8-9b9f-d9b0f89951b2 ]] {\r\n",
       "}\r\n",
       "comp usage \"c\" as E8  <<(T,blue)attribute>> [[psysml:5033f0bf-ffeb-4313-b85b-4258ec8a052c ]] {\r\n",
       "}\r\n",
       "E3 - -:|> E2 [[psysml:94762400-f967-4f4d-9ae0-7f515d54317a ]] \r\n",
       "E4 o- - E2 [[psysml:6f03e5ff-f747-4209-970e-6a43677acfe5 ]] : p\r\n",
       "}\r\n",
       "@enduml\r\n",
       "\n",
       "PlantUML version 1.2020.13(Sat Jun 13 12:26:38 UTC 2020)\n",
       "(EPL source distribution)\n",
       "Java Runtime: OpenJDK Runtime Environment\n",
       "JVM: OpenJDK 64-Bit Server VM\n",
       "Default Encoding: UTF-8\n",
       "Language: en\n",
       "Country: null\n",
       "--></g></svg>"
      ]
     },
     "execution_count": 24,
     "metadata": {},
     "output_type": "execute_result"
    }
   ],
   "source": [
    "%viz --style=\"STDCOLOR\" --view=\"Tree\" \"ParameterTest\""
   ]
  },
  {
   "cell_type": "code",
   "execution_count": 25,
   "id": "prostate-politics",
   "metadata": {
    "execution": {
     "iopub.execute_input": "2021-03-26T13:01:41.348152Z",
     "iopub.status.busy": "2021-03-26T13:01:41.347779Z",
     "iopub.status.idle": "2021-03-26T13:01:41.352930Z",
     "shell.execute_reply": "2021-03-26T13:01:41.352610Z"
    }
   },
   "outputs": [
    {
     "data": {
      "image/svg+xml": [
       "<?xml version=\"1.0\" encoding=\"UTF-8\" standalone=\"no\"?><svg xmlns=\"http://www.w3.org/2000/svg\" xmlns:xlink=\"http://www.w3.org/1999/xlink\" contentScriptType=\"application/ecmascript\" contentStyleType=\"text/css\" height=\"12px\" preserveAspectRatio=\"none\" style=\"width:12px;height:12px;\" version=\"1.1\" viewBox=\"0 0 12 12\" width=\"12px\" zoomAndPan=\"magnify\"><defs/><g><!--MD5=[aeeef50f102b80d730deb6443d14f702]\n",
       "@startuml\r\n",
       "skinparam wrapWidth 300\r\n",
       "hide circle\r\n",
       "\r\n",
       "@enduml\r\n",
       "\n",
       "PlantUML version 1.2020.13(Sat Jun 13 12:26:38 UTC 2020)\n",
       "(EPL source distribution)\n",
       "Java Runtime: OpenJDK Runtime Environment\n",
       "JVM: OpenJDK 64-Bit Server VM\n",
       "Default Encoding: UTF-8\n",
       "Language: en\n",
       "Country: null\n",
       "--></g></svg>"
      ]
     },
     "execution_count": 25,
     "metadata": {},
     "output_type": "execute_result"
    }
   ],
   "source": [
    "%viz --style=\"STDCOLOR\" --view=\"State\" \"ParameterTest\""
   ]
  },
  {
   "cell_type": "code",
   "execution_count": 26,
   "id": "demonstrated-nerve",
   "metadata": {
    "execution": {
     "iopub.execute_input": "2021-03-26T13:01:41.403727Z",
     "iopub.status.busy": "2021-03-26T13:01:41.403398Z",
     "iopub.status.idle": "2021-03-26T13:01:41.439365Z",
     "shell.execute_reply": "2021-03-26T13:01:41.438121Z"
    }
   },
   "outputs": [
    {
     "data": {
      "image/svg+xml": [
       "<?xml version=\"1.0\" encoding=\"UTF-8\" standalone=\"no\"?><svg xmlns=\"http://www.w3.org/2000/svg\" xmlns:xlink=\"http://www.w3.org/1999/xlink\" contentScriptType=\"application/ecmascript\" contentStyleType=\"text/css\" height=\"112px\" preserveAspectRatio=\"none\" style=\"width:874px;height:112px;\" version=\"1.1\" viewBox=\"0 0 874 112\" width=\"874px\" zoomAndPan=\"magnify\"><defs><filter height=\"300%\" id=\"f14u4cgwdf107j\" width=\"300%\" x=\"-1\" y=\"-1\"><feGaussianBlur result=\"blurOut\" stdDeviation=\"2.0\"/><feColorMatrix in=\"blurOut\" result=\"blurOut2\" type=\"matrix\" values=\"0 0 0 0 0 0 0 0 0 0 0 0 0 0 0 0 0 0 .4 0\"/><feOffset dx=\"4.0\" dy=\"4.0\" in=\"blurOut2\" result=\"blurOut3\"/><feBlend in=\"SourceGraphic\" in2=\"blurOut3\" mode=\"normal\"/></filter></defs><g><!--MD5=[fbc87193dbaf4d95561dea2c320d4a47]\n",
       "cluster E1--><a href=\"psysml:88bd93f8-a024-442a-9349-d26cb2f873a0\" target=\"_top\" title=\"psysml:88bd93f8-a024-442a-9349-d26cb2f873a0\" xlink:actuate=\"onRequest\" xlink:href=\"psysml:88bd93f8-a024-442a-9349-d26cb2f873a0\" xlink:show=\"new\" xlink:title=\"psysml:88bd93f8-a024-442a-9349-d26cb2f873a0\" xlink:type=\"simple\"><polygon fill=\"#FFFFFF\" filter=\"url(#f14u4cgwdf107j)\" points=\"16,6,139,6,146,28.2969,852,28.2969,852,100,16,100,16,6\" style=\"stroke: #000000; stroke-width: 1.5;\"/><line style=\"stroke: #000000; stroke-width: 1.5;\" x1=\"16\" x2=\"146\" y1=\"28.2969\" y2=\"28.2969\"/><text fill=\"#000000\" font-family=\"sans-serif\" font-size=\"14\" font-weight=\"bold\" lengthAdjust=\"spacingAndGlyphs\" textLength=\"117\" x=\"20\" y=\"20.9951\">ParameterTest</text></a><g id=\"E1.E2\"><a href=\"psysml:2f5789b5-3949-40b4-8579-f7414350119a\" target=\"_top\" title=\"psysml:2f5789b5-3949-40b4-8579-f7414350119a\" xlink:actuate=\"onRequest\" xlink:href=\"psysml:2f5789b5-3949-40b4-8579-f7414350119a\" xlink:show=\"new\" xlink:title=\"psysml:2f5789b5-3949-40b4-8579-f7414350119a\" xlink:type=\"simple\"><rect fill=\"#FEFECE\" filter=\"url(#f14u4cgwdf107j)\" height=\"42.9375\" id=\"E2\" style=\"stroke: #A80036; stroke-width: 1.5;\" width=\"100\" x=\"736\" y=\"41\"/><text fill=\"#000000\" font-family=\"sans-serif\" font-size=\"12\" font-style=\"italic\" lengthAdjust=\"spacingAndGlyphs\" textLength=\"93\" x=\"739.5\" y=\"57.1387\">«attribute def»</text><text fill=\"#000000\" font-family=\"sans-serif\" font-size=\"12\" lengthAdjust=\"spacingAndGlyphs\" textLength=\"8\" x=\"782\" y=\"71.1074\">A</text></a></g><g id=\"E1.E4\"><a href=\"psysml:de3210e5-068c-44a8-9828-b5930a13c3bb\" target=\"_top\" title=\"psysml:de3210e5-068c-44a8-9828-b5930a13c3bb\" xlink:actuate=\"onRequest\" xlink:href=\"psysml:de3210e5-068c-44a8-9828-b5930a13c3bb\" xlink:show=\"new\" xlink:title=\"psysml:de3210e5-068c-44a8-9828-b5930a13c3bb\" xlink:type=\"simple\"><rect fill=\"#FEFECE\" filter=\"url(#f14u4cgwdf107j)\" height=\"42.9375\" id=\"E4\" style=\"stroke: #A80036; stroke-width: 1.5;\" width=\"113\" x=\"587.5\" y=\"41\"/><text fill=\"#000000\" font-family=\"sans-serif\" font-size=\"12\" font-style=\"italic\" lengthAdjust=\"spacingAndGlyphs\" textLength=\"106\" x=\"591\" y=\"57.1387\">«calculation def»</text><text fill=\"#000000\" font-family=\"sans-serif\" font-size=\"12\" lengthAdjust=\"spacingAndGlyphs\" textLength=\"7\" x=\"640.5\" y=\"71.1074\">F</text></a></g><g id=\"E1.E3\"><a href=\"psysml:02928bc4-0eb7-4367-aa3f-5ffb35356b49\" target=\"_top\" title=\"psysml:02928bc4-0eb7-4367-aa3f-5ffb35356b49\" xlink:actuate=\"onRequest\" xlink:href=\"psysml:02928bc4-0eb7-4367-aa3f-5ffb35356b49\" xlink:show=\"new\" xlink:title=\"psysml:02928bc4-0eb7-4367-aa3f-5ffb35356b49\" xlink:type=\"simple\"><rect fill=\"#FEFECE\" filter=\"url(#f14u4cgwdf107j)\" height=\"42.9375\" id=\"E3\" rx=\"10\" ry=\"10\" style=\"stroke: #A80036; stroke-width: 1.5;\" width=\"76\" x=\"476\" y=\"41\"/><text fill=\"#000000\" font-family=\"sans-serif\" font-size=\"12\" font-style=\"italic\" lengthAdjust=\"spacingAndGlyphs\" textLength=\"69\" x=\"479.5\" y=\"57.1387\">«attribute»</text><text fill=\"#000000\" font-family=\"sans-serif\" font-size=\"12\" lengthAdjust=\"spacingAndGlyphs\" textLength=\"24\" x=\"502\" y=\"71.1074\">a: A</text></a></g><g id=\"E1.E5\"><a href=\"psysml:8c3ddf1b-2d8e-48f9-8bd9-e07e4f9dde48\" target=\"_top\" title=\"psysml:8c3ddf1b-2d8e-48f9-8bd9-e07e4f9dde48\" xlink:actuate=\"onRequest\" xlink:href=\"psysml:8c3ddf1b-2d8e-48f9-8bd9-e07e4f9dde48\" xlink:show=\"new\" xlink:title=\"psysml:8c3ddf1b-2d8e-48f9-8bd9-e07e4f9dde48\" xlink:type=\"simple\"><rect fill=\"#FEFECE\" filter=\"url(#f14u4cgwdf107j)\" height=\"42.9375\" id=\"E5\" rx=\"10\" ry=\"10\" style=\"stroke: #A80036; stroke-width: 1.5;\" width=\"76\" x=\"365\" y=\"41\"/><text fill=\"#000000\" font-family=\"sans-serif\" font-size=\"12\" font-style=\"italic\" lengthAdjust=\"spacingAndGlyphs\" textLength=\"69\" x=\"368.5\" y=\"57.1387\">«attribute»</text><text fill=\"#000000\" font-family=\"sans-serif\" font-size=\"12\" lengthAdjust=\"spacingAndGlyphs\" textLength=\"4\" x=\"401\" y=\"71.1074\">f</text></a></g><g id=\"E1.E6\"><a href=\"psysml:1f38f371-1f52-4b01-a20c-3f08ced1218d\" target=\"_top\" title=\"psysml:1f38f371-1f52-4b01-a20c-3f08ced1218d\" xlink:actuate=\"onRequest\" xlink:href=\"psysml:1f38f371-1f52-4b01-a20c-3f08ced1218d\" xlink:show=\"new\" xlink:title=\"psysml:1f38f371-1f52-4b01-a20c-3f08ced1218d\" xlink:type=\"simple\"><rect fill=\"#FEFECE\" filter=\"url(#f14u4cgwdf107j)\" height=\"42.9375\" id=\"E6\" rx=\"10\" ry=\"10\" style=\"stroke: #A80036; stroke-width: 1.5;\" width=\"76\" x=\"254\" y=\"41\"/><text fill=\"#000000\" font-family=\"sans-serif\" font-size=\"12\" font-style=\"italic\" lengthAdjust=\"spacingAndGlyphs\" textLength=\"69\" x=\"257.5\" y=\"57.1387\">«attribute»</text><text fill=\"#000000\" font-family=\"sans-serif\" font-size=\"12\" lengthAdjust=\"spacingAndGlyphs\" textLength=\"8\" x=\"288\" y=\"71.1074\">g</text></a></g><g id=\"E1.E7\"><a href=\"psysml:cd4f641f-a9ce-41b8-9b9f-d9b0f89951b2\" target=\"_top\" title=\"psysml:cd4f641f-a9ce-41b8-9b9f-d9b0f89951b2\" xlink:actuate=\"onRequest\" xlink:href=\"psysml:cd4f641f-a9ce-41b8-9b9f-d9b0f89951b2\" xlink:show=\"new\" xlink:title=\"psysml:cd4f641f-a9ce-41b8-9b9f-d9b0f89951b2\" xlink:type=\"simple\"><rect fill=\"#FEFECE\" filter=\"url(#f14u4cgwdf107j)\" height=\"42.9375\" id=\"E7\" rx=\"10\" ry=\"10\" style=\"stroke: #A80036; stroke-width: 1.5;\" width=\"76\" x=\"143\" y=\"41\"/><text fill=\"#000000\" font-family=\"sans-serif\" font-size=\"12\" font-style=\"italic\" lengthAdjust=\"spacingAndGlyphs\" textLength=\"69\" x=\"146.5\" y=\"57.1387\">«attribute»</text><text fill=\"#000000\" font-family=\"sans-serif\" font-size=\"12\" lengthAdjust=\"spacingAndGlyphs\" textLength=\"8\" x=\"177\" y=\"71.1074\">b</text></a></g><g id=\"E1.E8\"><a href=\"psysml:5033f0bf-ffeb-4313-b85b-4258ec8a052c\" target=\"_top\" title=\"psysml:5033f0bf-ffeb-4313-b85b-4258ec8a052c\" xlink:actuate=\"onRequest\" xlink:href=\"psysml:5033f0bf-ffeb-4313-b85b-4258ec8a052c\" xlink:show=\"new\" xlink:title=\"psysml:5033f0bf-ffeb-4313-b85b-4258ec8a052c\" xlink:type=\"simple\"><rect fill=\"#FEFECE\" filter=\"url(#f14u4cgwdf107j)\" height=\"42.9375\" id=\"E8\" rx=\"10\" ry=\"10\" style=\"stroke: #A80036; stroke-width: 1.5;\" width=\"76\" x=\"32\" y=\"41\"/><text fill=\"#000000\" font-family=\"sans-serif\" font-size=\"12\" font-style=\"italic\" lengthAdjust=\"spacingAndGlyphs\" textLength=\"69\" x=\"35.5\" y=\"57.1387\">«attribute»</text><text fill=\"#000000\" font-family=\"sans-serif\" font-size=\"12\" lengthAdjust=\"spacingAndGlyphs\" textLength=\"7\" x=\"66.5\" y=\"71.1074\">c</text></a></g><!--MD5=[7b0811d9d08b449b98affcbf5e714648]\n",
       "@startuml\r\n",
       "skinparam ranksep 8\r\n",
       "skinparam rectangle {\r\n",
       " backgroundColor<<block>> LightGreen\r\n",
       "}\r\n",
       "skinparam wrapWidth 300\r\n",
       "hide circle\r\n",
       "\r\n",
       "package \"ParameterTest\" as E1  [[psysml:88bd93f8-a024-442a-9349-d26cb2f873a0 ]]  {\r\n",
       "def \"A\" as E2  <<(T,blue)attribute def>> [[psysml:2f5789b5-3949-40b4-8579-f7414350119a ]] \r\n",
       "rec usage \"a: A\" as E3  <<(T,blue)attribute>> [[psysml:02928bc4-0eb7-4367-aa3f-5ffb35356b49 ]] {\r\n",
       "}\r\n",
       "def \"F\" as E4  <<(T,blue)calculation def>> [[psysml:de3210e5-068c-44a8-9828-b5930a13c3bb ]] \r\n",
       "rec usage \"f\" as E5  <<(T,blue)attribute>> [[psysml:8c3ddf1b-2d8e-48f9-8bd9-e07e4f9dde48 ]] {\r\n",
       "}\r\n",
       "rec usage \"g\" as E6  <<(T,blue)attribute>> [[psysml:1f38f371-1f52-4b01-a20c-3f08ced1218d ]] {\r\n",
       "}\r\n",
       "rec usage \"b\" as E7  <<(T,blue)attribute>> [[psysml:cd4f641f-a9ce-41b8-9b9f-d9b0f89951b2 ]] {\r\n",
       "}\r\n",
       "rec usage \"c\" as E8  <<(T,blue)attribute>> [[psysml:5033f0bf-ffeb-4313-b85b-4258ec8a052c ]] {\r\n",
       "}\r\n",
       "}\r\n",
       "@enduml\r\n",
       "\n",
       "PlantUML version 1.2020.13(Sat Jun 13 12:26:38 UTC 2020)\n",
       "(EPL source distribution)\n",
       "Java Runtime: OpenJDK Runtime Environment\n",
       "JVM: OpenJDK 64-Bit Server VM\n",
       "Default Encoding: UTF-8\n",
       "Language: en\n",
       "Country: null\n",
       "--></g></svg>"
      ]
     },
     "execution_count": 26,
     "metadata": {},
     "output_type": "execute_result"
    }
   ],
   "source": [
    "%viz --style=\"STDCOLOR\" --view=\"Interconnection\" \"ParameterTest\""
   ]
  },
  {
   "cell_type": "code",
   "execution_count": 27,
   "id": "ongoing-arena",
   "metadata": {
    "execution": {
     "iopub.execute_input": "2021-03-26T13:01:41.493904Z",
     "iopub.status.busy": "2021-03-26T13:01:41.493523Z",
     "iopub.status.idle": "2021-03-26T13:01:41.519510Z",
     "shell.execute_reply": "2021-03-26T13:01:41.519810Z"
    }
   },
   "outputs": [
    {
     "data": {
      "image/svg+xml": [
       "<?xml version=\"1.0\" encoding=\"UTF-8\" standalone=\"no\"?><svg xmlns=\"http://www.w3.org/2000/svg\" xmlns:xlink=\"http://www.w3.org/1999/xlink\" contentScriptType=\"application/ecmascript\" contentStyleType=\"text/css\" height=\"134px\" preserveAspectRatio=\"none\" style=\"width:174px;height:134px;\" version=\"1.1\" viewBox=\"0 0 174 134\" width=\"174px\" zoomAndPan=\"magnify\"><defs><filter height=\"300%\" id=\"f95sy1tmkhg19\" width=\"300%\" x=\"-1\" y=\"-1\"><feGaussianBlur result=\"blurOut\" stdDeviation=\"2.0\"/><feColorMatrix in=\"blurOut\" result=\"blurOut2\" type=\"matrix\" values=\"0 0 0 0 0 0 0 0 0 0 0 0 0 0 0 0 0 0 .4 0\"/><feOffset dx=\"4.0\" dy=\"4.0\" in=\"blurOut2\" result=\"blurOut3\"/><feBlend in=\"SourceGraphic\" in2=\"blurOut3\" mode=\"normal\"/></filter></defs><g><!--MD5=[fbc87193dbaf4d95561dea2c320d4a47]\n",
       "cluster E1--><a href=\"psysml:de3210e5-068c-44a8-9828-b5930a13c3bb\" target=\"_top\" title=\"psysml:de3210e5-068c-44a8-9828-b5930a13c3bb\" xlink:actuate=\"onRequest\" xlink:href=\"psysml:de3210e5-068c-44a8-9828-b5930a13c3bb\" xlink:show=\"new\" xlink:title=\"psysml:de3210e5-068c-44a8-9828-b5930a13c3bb\" xlink:type=\"simple\"><rect fill=\"#FFFFFF\" filter=\"url(#f95sy1tmkhg19)\" height=\"73\" id=\"E1\" style=\"stroke: #A80036; stroke-width: 1.5;\" width=\"148\" x=\"7\" y=\"42.0986\"/><rect fill=\"#FEFECE\" height=\"37.9375\" style=\"stroke: #A80036; stroke-width: 1.5;\" width=\"148\" x=\"7\" y=\"42.0986\"/><text fill=\"#000000\" font-family=\"sans-serif\" font-size=\"12\" font-style=\"italic\" lengthAdjust=\"spacingAndGlyphs\" textLength=\"106\" x=\"28\" y=\"58.2373\">«calculation def»</text><text fill=\"#000000\" font-family=\"sans-serif\" font-size=\"12\" lengthAdjust=\"spacingAndGlyphs\" textLength=\"7\" x=\"77.5\" y=\"72.2061\">F</text></a><text fill=\"#000000\" font-family=\"sans-serif\" font-size=\"14\" lengthAdjust=\"spacingAndGlyphs\" textLength=\"9\" x=\"20.5\" y=\"20.7969\">p</text><rect fill=\"#A80036\" height=\"12\" style=\"stroke: #FEFECE; stroke-width: 1.5;\" width=\"12\" x=\"19\" y=\"36.0986\"/><text fill=\"#000000\" font-family=\"sans-serif\" font-size=\"14\" lengthAdjust=\"spacingAndGlyphs\" textLength=\"9\" x=\"67.5\" y=\"20.7969\">q</text><rect fill=\"#A80036\" height=\"12\" style=\"stroke: #FEFECE; stroke-width: 1.5;\" width=\"12\" x=\"66\" y=\"36.0986\"/><!--MD5=[90b84060a2daeec6639279bf0f11e58a]\n",
       "@startuml\r\n",
       "skinparam ranksep 8\r\n",
       "skinparam wrapWidth 300\r\n",
       "hide circle\r\n",
       "\r\n",
       "rec def \"F\" as E1  <<(T,blue)calculation def>> [[psysml:de3210e5-068c-44a8-9828-b5930a13c3bb ]] {\r\n",
       "portin \"p\" as E2  [[psysml:6f03e5ff-f747-4209-970e-6a43677acfe5 ]] \r\n",
       "portin \"q\" as E3  [[psysml:59b46d55-27e2-4503-b58c-744d75cefff1 ]] \r\n",
       "}\r\n",
       "\r\n",
       "@enduml\r\n",
       "\n",
       "PlantUML version 1.2020.13(Sat Jun 13 12:26:38 UTC 2020)\n",
       "(EPL source distribution)\n",
       "Java Runtime: OpenJDK Runtime Environment\n",
       "JVM: OpenJDK 64-Bit Server VM\n",
       "Default Encoding: UTF-8\n",
       "Language: en\n",
       "Country: null\n",
       "--></g></svg>"
      ]
     },
     "execution_count": 27,
     "metadata": {},
     "output_type": "execute_result"
    }
   ],
   "source": [
    "%viz --style=\"STDCOLOR\" --view=\"Action\" \"ParameterTest\""
   ]
  },
  {
   "cell_type": "code",
   "execution_count": 28,
   "id": "inclusive-disclaimer",
   "metadata": {
    "execution": {
     "iopub.execute_input": "2021-03-26T13:01:41.573214Z",
     "iopub.status.busy": "2021-03-26T13:01:41.572680Z",
     "iopub.status.idle": "2021-03-26T13:01:41.618440Z",
     "shell.execute_reply": "2021-03-26T13:01:41.618005Z"
    }
   },
   "outputs": [
    {
     "data": {
      "image/svg+xml": [
       "<?xml version=\"1.0\" encoding=\"UTF-8\" standalone=\"no\"?><svg xmlns=\"http://www.w3.org/2000/svg\" xmlns:xlink=\"http://www.w3.org/1999/xlink\" contentScriptType=\"application/ecmascript\" contentStyleType=\"text/css\" height=\"264px\" preserveAspectRatio=\"none\" style=\"width:710px;height:264px;\" version=\"1.1\" viewBox=\"0 0 710 264\" width=\"710px\" zoomAndPan=\"magnify\"><defs><filter height=\"300%\" id=\"fs9pcviou9v28\" width=\"300%\" x=\"-1\" y=\"-1\"><feGaussianBlur result=\"blurOut\" stdDeviation=\"2.0\"/><feColorMatrix in=\"blurOut\" result=\"blurOut2\" type=\"matrix\" values=\"0 0 0 0 0 0 0 0 0 0 0 0 0 0 0 0 0 0 .4 0\"/><feOffset dx=\"4.0\" dy=\"4.0\" in=\"blurOut2\" result=\"blurOut3\"/><feBlend in=\"SourceGraphic\" in2=\"blurOut3\" mode=\"normal\"/></filter></defs><g><!--MD5=[fbc87193dbaf4d95561dea2c320d4a47]\n",
       "cluster E1--><a href=\"psysml:88bd93f8-a024-442a-9349-d26cb2f873a0\" target=\"_top\" title=\"psysml:88bd93f8-a024-442a-9349-d26cb2f873a0\" xlink:actuate=\"onRequest\" xlink:href=\"psysml:88bd93f8-a024-442a-9349-d26cb2f873a0\" xlink:show=\"new\" xlink:title=\"psysml:88bd93f8-a024-442a-9349-d26cb2f873a0\" xlink:type=\"simple\"><polygon fill=\"#FFFFFF\" filter=\"url(#fs9pcviou9v28)\" points=\"16,6,139,6,146,28.2969,688,28.2969,688,252,16,252,16,6\" style=\"stroke: #000000; stroke-width: 1.5;\"/><line style=\"stroke: #000000; stroke-width: 1.5;\" x1=\"16\" x2=\"146\" y1=\"28.2969\" y2=\"28.2969\"/><text fill=\"#000000\" font-family=\"sans-serif\" font-size=\"14\" font-weight=\"bold\" lengthAdjust=\"spacingAndGlyphs\" textLength=\"117\" x=\"20\" y=\"20.9951\">ParameterTest</text></a><!--MD5=[b4997ac47864f28c2f74865a473b2911]\n",
       "class E2--><a href=\"psysml:2f5789b5-3949-40b4-8579-f7414350119a\" target=\"_top\" title=\"psysml:2f5789b5-3949-40b4-8579-f7414350119a\" xlink:actuate=\"onRequest\" xlink:href=\"psysml:2f5789b5-3949-40b4-8579-f7414350119a\" xlink:show=\"new\" xlink:title=\"psysml:2f5789b5-3949-40b4-8579-f7414350119a\" xlink:type=\"simple\"><rect fill=\"#FEFECE\" filter=\"url(#fs9pcviou9v28)\" height=\"71.5469\" id=\"E2\" style=\"stroke: #A80036; stroke-width: 1.5;\" width=\"95\" x=\"498.5\" y=\"164\"/><text fill=\"#000000\" font-family=\"sans-serif\" font-size=\"12\" font-style=\"italic\" lengthAdjust=\"spacingAndGlyphs\" textLength=\"93\" x=\"499.5\" y=\"180.1387\">«attribute def»</text><text fill=\"#000000\" font-family=\"sans-serif\" font-size=\"12\" lengthAdjust=\"spacingAndGlyphs\" textLength=\"8\" x=\"542\" y=\"194.1074\">A</text><line style=\"stroke: #A80036; stroke-width: 1.5;\" x1=\"499.5\" x2=\"592.5\" y1=\"201.9375\" y2=\"201.9375\"/><text fill=\"#000000\" font-family=\"sans-serif\" font-size=\"11\" lengthAdjust=\"spacingAndGlyphs\" textLength=\"48\" x=\"504.5\" y=\"216.1479\">x: String</text><text fill=\"#000000\" font-family=\"sans-serif\" font-size=\"11\" lengthAdjust=\"spacingAndGlyphs\" textLength=\"21\" x=\"504.5\" y=\"228.9526\">y: A</text></a><!--MD5=[09b614a08d8cba4a07c9adeb5e0fee81]\n",
       "class E3--><a href=\"psysml:02928bc4-0eb7-4367-aa3f-5ffb35356b49\" target=\"_top\" title=\"psysml:02928bc4-0eb7-4367-aa3f-5ffb35356b49\" xlink:actuate=\"onRequest\" xlink:href=\"psysml:02928bc4-0eb7-4367-aa3f-5ffb35356b49\" xlink:show=\"new\" xlink:title=\"psysml:02928bc4-0eb7-4367-aa3f-5ffb35356b49\" xlink:type=\"simple\"><rect fill=\"#FEFECE\" filter=\"url(#fs9pcviou9v28)\" height=\"45.9375\" id=\"E3\" rx=\"10\" ry=\"10\" style=\"stroke: #A80036; stroke-width: 1.5;\" width=\"71\" x=\"600.5\" y=\"41\"/><text fill=\"#000000\" font-family=\"sans-serif\" font-size=\"12\" font-style=\"italic\" lengthAdjust=\"spacingAndGlyphs\" textLength=\"69\" x=\"601.5\" y=\"57.1387\">«attribute»</text><text fill=\"#000000\" font-family=\"sans-serif\" font-size=\"12\" lengthAdjust=\"spacingAndGlyphs\" textLength=\"24\" x=\"624\" y=\"71.1074\">a: A</text><line style=\"stroke: #A80036; stroke-width: 1.5;\" x1=\"601.5\" x2=\"670.5\" y1=\"78.9375\" y2=\"78.9375\"/></a><!--MD5=[ebbe1d658d1005bcc118a6aa81145e00]\n",
       "class E4--><a href=\"psysml:de3210e5-068c-44a8-9828-b5930a13c3bb\" target=\"_top\" title=\"psysml:de3210e5-068c-44a8-9828-b5930a13c3bb\" xlink:actuate=\"onRequest\" xlink:href=\"psysml:de3210e5-068c-44a8-9828-b5930a13c3bb\" xlink:show=\"new\" xlink:title=\"psysml:de3210e5-068c-44a8-9828-b5930a13c3bb\" xlink:type=\"simple\"><rect fill=\"#FEFECE\" filter=\"url(#fs9pcviou9v28)\" height=\"45.9375\" id=\"E4\" style=\"stroke: #A80036; stroke-width: 1.5;\" width=\"108\" x=\"457\" y=\"41\"/><text fill=\"#000000\" font-family=\"sans-serif\" font-size=\"12\" font-style=\"italic\" lengthAdjust=\"spacingAndGlyphs\" textLength=\"106\" x=\"458\" y=\"57.1387\">«calculation def»</text><text fill=\"#000000\" font-family=\"sans-serif\" font-size=\"12\" lengthAdjust=\"spacingAndGlyphs\" textLength=\"7\" x=\"507.5\" y=\"71.1074\">F</text><line style=\"stroke: #A80036; stroke-width: 1.5;\" x1=\"458\" x2=\"564\" y1=\"78.9375\" y2=\"78.9375\"/></a><!--MD5=[270fce915f116d4de14055a7c1d9a0f3]\n",
       "class E5--><a href=\"psysml:8c3ddf1b-2d8e-48f9-8bd9-e07e4f9dde48\" target=\"_top\" title=\"psysml:8c3ddf1b-2d8e-48f9-8bd9-e07e4f9dde48\" xlink:actuate=\"onRequest\" xlink:href=\"psysml:8c3ddf1b-2d8e-48f9-8bd9-e07e4f9dde48\" xlink:show=\"new\" xlink:title=\"psysml:8c3ddf1b-2d8e-48f9-8bd9-e07e4f9dde48\" xlink:type=\"simple\"><rect fill=\"#FEFECE\" filter=\"url(#fs9pcviou9v28)\" height=\"45.9375\" id=\"E5\" rx=\"10\" ry=\"10\" style=\"stroke: #A80036; stroke-width: 1.5;\" width=\"71\" x=\"350.5\" y=\"41\"/><text fill=\"#000000\" font-family=\"sans-serif\" font-size=\"12\" font-style=\"italic\" lengthAdjust=\"spacingAndGlyphs\" textLength=\"69\" x=\"351.5\" y=\"57.1387\">«attribute»</text><text fill=\"#000000\" font-family=\"sans-serif\" font-size=\"12\" lengthAdjust=\"spacingAndGlyphs\" textLength=\"4\" x=\"384\" y=\"71.1074\">f</text><line style=\"stroke: #A80036; stroke-width: 1.5;\" x1=\"351.5\" x2=\"420.5\" y1=\"78.9375\" y2=\"78.9375\"/></a><!--MD5=[60a26617385b1d2d0262a64233df1f8d]\n",
       "class E6--><a href=\"psysml:1f38f371-1f52-4b01-a20c-3f08ced1218d\" target=\"_top\" title=\"psysml:1f38f371-1f52-4b01-a20c-3f08ced1218d\" xlink:actuate=\"onRequest\" xlink:href=\"psysml:1f38f371-1f52-4b01-a20c-3f08ced1218d\" xlink:show=\"new\" xlink:title=\"psysml:1f38f371-1f52-4b01-a20c-3f08ced1218d\" xlink:type=\"simple\"><rect fill=\"#FEFECE\" filter=\"url(#fs9pcviou9v28)\" height=\"45.9375\" id=\"E6\" rx=\"10\" ry=\"10\" style=\"stroke: #A80036; stroke-width: 1.5;\" width=\"71\" x=\"244.5\" y=\"41\"/><text fill=\"#000000\" font-family=\"sans-serif\" font-size=\"12\" font-style=\"italic\" lengthAdjust=\"spacingAndGlyphs\" textLength=\"69\" x=\"245.5\" y=\"57.1387\">«attribute»</text><text fill=\"#000000\" font-family=\"sans-serif\" font-size=\"12\" lengthAdjust=\"spacingAndGlyphs\" textLength=\"8\" x=\"276\" y=\"71.1074\">g</text><line style=\"stroke: #A80036; stroke-width: 1.5;\" x1=\"245.5\" x2=\"314.5\" y1=\"78.9375\" y2=\"78.9375\"/></a><!--MD5=[2156ba9850f5573cc1fc38a6a4b2f02b]\n",
       "class E7--><a href=\"psysml:cd4f641f-a9ce-41b8-9b9f-d9b0f89951b2\" target=\"_top\" title=\"psysml:cd4f641f-a9ce-41b8-9b9f-d9b0f89951b2\" xlink:actuate=\"onRequest\" xlink:href=\"psysml:cd4f641f-a9ce-41b8-9b9f-d9b0f89951b2\" xlink:show=\"new\" xlink:title=\"psysml:cd4f641f-a9ce-41b8-9b9f-d9b0f89951b2\" xlink:type=\"simple\"><rect fill=\"#FEFECE\" filter=\"url(#fs9pcviou9v28)\" height=\"45.9375\" id=\"E7\" rx=\"10\" ry=\"10\" style=\"stroke: #A80036; stroke-width: 1.5;\" width=\"71\" x=\"138.5\" y=\"41\"/><text fill=\"#000000\" font-family=\"sans-serif\" font-size=\"12\" font-style=\"italic\" lengthAdjust=\"spacingAndGlyphs\" textLength=\"69\" x=\"139.5\" y=\"57.1387\">«attribute»</text><text fill=\"#000000\" font-family=\"sans-serif\" font-size=\"12\" lengthAdjust=\"spacingAndGlyphs\" textLength=\"8\" x=\"170\" y=\"71.1074\">b</text><line style=\"stroke: #A80036; stroke-width: 1.5;\" x1=\"139.5\" x2=\"208.5\" y1=\"78.9375\" y2=\"78.9375\"/></a><!--MD5=[b9389687b975829384b498ac4b7476b2]\n",
       "class E8--><a href=\"psysml:5033f0bf-ffeb-4313-b85b-4258ec8a052c\" target=\"_top\" title=\"psysml:5033f0bf-ffeb-4313-b85b-4258ec8a052c\" xlink:actuate=\"onRequest\" xlink:href=\"psysml:5033f0bf-ffeb-4313-b85b-4258ec8a052c\" xlink:show=\"new\" xlink:title=\"psysml:5033f0bf-ffeb-4313-b85b-4258ec8a052c\" xlink:type=\"simple\"><rect fill=\"#FEFECE\" filter=\"url(#fs9pcviou9v28)\" height=\"45.9375\" id=\"E8\" rx=\"10\" ry=\"10\" style=\"stroke: #A80036; stroke-width: 1.5;\" width=\"71\" x=\"32.5\" y=\"41\"/><text fill=\"#000000\" font-family=\"sans-serif\" font-size=\"12\" font-style=\"italic\" lengthAdjust=\"spacingAndGlyphs\" textLength=\"69\" x=\"33.5\" y=\"57.1387\">«attribute»</text><text fill=\"#000000\" font-family=\"sans-serif\" font-size=\"12\" lengthAdjust=\"spacingAndGlyphs\" textLength=\"7\" x=\"64.5\" y=\"71.1074\">c</text><line style=\"stroke: #A80036; stroke-width: 1.5;\" x1=\"33.5\" x2=\"102.5\" y1=\"78.9375\" y2=\"78.9375\"/></a><!--MD5=[05d275557350bfb9b23a4ef7222b4c39]\n",
       "link E3 to E2--><a href=\"psysml:94762400-f967-4f4d-9ae0-7f515d54317a\" target=\"_top\" title=\"psysml:94762400-f967-4f4d-9ae0-7f515d54317a\" xlink:actuate=\"onRequest\" xlink:href=\"psysml:94762400-f967-4f4d-9ae0-7f515d54317a\" xlink:show=\"new\" xlink:title=\"psysml:94762400-f967-4f4d-9ae0-7f515d54317a\" xlink:type=\"simple\"><path d=\"M621.14,87.13 C610.18,103.45 594.8,126.34 580.81,147.17 \" fill=\"none\" id=\"E3-&gt;E2\" style=\"stroke: #A80036; stroke-width: 1.0;\"/><polygon fill=\"#FFFFFF\" points=\"569.52,163.99,574.309,144.316,585.9284,152.1256,569.52,163.99\" style=\"stroke: #A80036; stroke-width: 1.0;\"/><ellipse cx=\"579.1486\" cy=\"140.7009\" fill=\"#A80036\" rx=\"2\" ry=\"2\" style=\"stroke: #A80036; stroke-width: 1.0;\"/><ellipse cx=\"587.4481\" cy=\"146.2792\" fill=\"#A80036\" rx=\"2\" ry=\"2\" style=\"stroke: #A80036; stroke-width: 1.0;\"/></a><!--MD5=[ddeed8deb2209213b62e6cfabaa108b2]\n",
       "reverse link E4 to E2--><a href=\"psysml:6f03e5ff-f747-4209-970e-6a43677acfe5\" target=\"_top\" title=\"psysml:6f03e5ff-f747-4209-970e-6a43677acfe5\" xlink:actuate=\"onRequest\" xlink:href=\"psysml:6f03e5ff-f747-4209-970e-6a43677acfe5\" xlink:show=\"new\" xlink:title=\"psysml:6f03e5ff-f747-4209-970e-6a43677acfe5\" xlink:type=\"simple\"><path d=\"M520.11,99.89 C525.27,119.63 531.69,144.23 536.85,163.99 \" fill=\"none\" id=\"E4&lt;-E2\" style=\"stroke: #A80036; stroke-width: 1.0;\"/><polygon fill=\"#FFFFFF\" points=\"516.78,87.13,514.4253,93.9458,519.8112,98.7408,522.1659,91.925,516.78,87.13\" style=\"stroke: #A80036; stroke-width: 1.0;\"/><text fill=\"#000000\" font-family=\"sans-serif\" font-size=\"13\" lengthAdjust=\"spacingAndGlyphs\" textLength=\"8\" x=\"529\" y=\"130.0669\">p</text></a><!--MD5=[f4ab3c4d4fd553c595a0f67c45668e2b]\n",
       "@startuml\r\n",
       "skinparam wrapWidth 300\r\n",
       "hide circle\r\n",
       "\r\n",
       "package \"ParameterTest\" as E1  [[psysml:88bd93f8-a024-442a-9349-d26cb2f873a0 ]]  {\r\n",
       "comp def \"A\" as E2  <<(T,blue)attribute def>> [[psysml:2f5789b5-3949-40b4-8579-f7414350119a ]] {\r\n",
       "x: String\r\n",
       "y: A\r\n",
       "}\r\n",
       "comp usage \"a: A\" as E3  <<(T,blue)attribute>> [[psysml:02928bc4-0eb7-4367-aa3f-5ffb35356b49 ]] {\r\n",
       "}\r\n",
       "comp def \"F\" as E4  <<(T,blue)calculation def>> [[psysml:de3210e5-068c-44a8-9828-b5930a13c3bb ]] {\r\n",
       "}\r\n",
       "comp usage \"f\" as E5  <<(T,blue)attribute>> [[psysml:8c3ddf1b-2d8e-48f9-8bd9-e07e4f9dde48 ]] {\r\n",
       "}\r\n",
       "comp usage \"g\" as E6  <<(T,blue)attribute>> [[psysml:1f38f371-1f52-4b01-a20c-3f08ced1218d ]] {\r\n",
       "}\r\n",
       "comp usage \"b\" as E7  <<(T,blue)attribute>> [[psysml:cd4f641f-a9ce-41b8-9b9f-d9b0f89951b2 ]] {\r\n",
       "}\r\n",
       "comp usage \"c\" as E8  <<(T,blue)attribute>> [[psysml:5033f0bf-ffeb-4313-b85b-4258ec8a052c ]] {\r\n",
       "}\r\n",
       "E3 - -:|> E2 [[psysml:94762400-f967-4f4d-9ae0-7f515d54317a ]] \r\n",
       "E4 o- - E2 [[psysml:6f03e5ff-f747-4209-970e-6a43677acfe5 ]] : p\r\n",
       "}\r\n",
       "@enduml\r\n",
       "\n",
       "PlantUML version 1.2020.13(Sat Jun 13 12:26:38 UTC 2020)\n",
       "(EPL source distribution)\n",
       "Java Runtime: OpenJDK Runtime Environment\n",
       "JVM: OpenJDK 64-Bit Server VM\n",
       "Default Encoding: UTF-8\n",
       "Language: en\n",
       "Country: null\n",
       "--></g></svg>"
      ]
     },
     "execution_count": 28,
     "metadata": {},
     "output_type": "execute_result"
    }
   ],
   "source": [
    "%viz --style=\"STDCOLOR\" --view=\"Sequence\" \"ParameterTest\""
   ]
  },
  {
   "cell_type": "code",
   "execution_count": 29,
   "id": "respiratory-seattle",
   "metadata": {
    "execution": {
     "iopub.execute_input": "2021-03-26T13:01:41.688420Z",
     "iopub.status.busy": "2021-03-26T13:01:41.687827Z",
     "iopub.status.idle": "2021-03-26T13:01:41.722521Z",
     "shell.execute_reply": "2021-03-26T13:01:41.722949Z"
    }
   },
   "outputs": [
    {
     "data": {
      "image/svg+xml": [
       "<?xml version=\"1.0\" encoding=\"UTF-8\" standalone=\"no\"?><svg xmlns=\"http://www.w3.org/2000/svg\" xmlns:xlink=\"http://www.w3.org/1999/xlink\" contentScriptType=\"application/ecmascript\" contentStyleType=\"text/css\" height=\"247px\" preserveAspectRatio=\"none\" style=\"width:740px;height:247px;\" version=\"1.1\" viewBox=\"0 0 740 247\" width=\"740px\" zoomAndPan=\"magnify\"><defs><filter height=\"300%\" id=\"f14pl2yy8vduph\" width=\"300%\" x=\"-1\" y=\"-1\"><feGaussianBlur result=\"blurOut\" stdDeviation=\"2.0\"/><feColorMatrix in=\"blurOut\" result=\"blurOut2\" type=\"matrix\" values=\"0 0 0 0 0 0 0 0 0 0 0 0 0 0 0 0 0 0 .4 0\"/><feOffset dx=\"4.0\" dy=\"4.0\" in=\"blurOut2\" result=\"blurOut3\"/><feBlend in=\"SourceGraphic\" in2=\"blurOut3\" mode=\"normal\"/></filter></defs><g><!--MD5=[fbc87193dbaf4d95561dea2c320d4a47]\n",
       "cluster E1--><a href=\"psysml:88bd93f8-a024-442a-9349-d26cb2f873a0\" target=\"_top\" title=\"psysml:88bd93f8-a024-442a-9349-d26cb2f873a0\" xlink:actuate=\"onRequest\" xlink:href=\"psysml:88bd93f8-a024-442a-9349-d26cb2f873a0\" xlink:show=\"new\" xlink:title=\"psysml:88bd93f8-a024-442a-9349-d26cb2f873a0\" xlink:type=\"simple\"><polygon fill=\"#FFFFFF\" filter=\"url(#f14pl2yy8vduph)\" points=\"16,6,139,6,146,28.2969,718,28.2969,718,235,16,235,16,6\" style=\"stroke: #000000; stroke-width: 1.5;\"/><line style=\"stroke: #000000; stroke-width: 1.5;\" x1=\"16\" x2=\"146\" y1=\"28.2969\" y2=\"28.2969\"/><text fill=\"#000000\" font-family=\"sans-serif\" font-size=\"14\" font-weight=\"bold\" lengthAdjust=\"spacingAndGlyphs\" textLength=\"117\" x=\"20\" y=\"20.9951\">ParameterTest</text></a><!--MD5=[f6df4d0ebaf0b5dfb2ced0ae5af7c670]\n",
       "cluster E4--><a href=\"psysml:de3210e5-068c-44a8-9828-b5930a13c3bb\" target=\"_top\" title=\"psysml:de3210e5-068c-44a8-9828-b5930a13c3bb\" xlink:actuate=\"onRequest\" xlink:href=\"psysml:de3210e5-068c-44a8-9828-b5930a13c3bb\" xlink:show=\"new\" xlink:title=\"psysml:de3210e5-068c-44a8-9828-b5930a13c3bb\" xlink:type=\"simple\"><rect fill=\"#FFFFFF\" filter=\"url(#f14pl2yy8vduph)\" height=\"152.5\" id=\"E4\" style=\"stroke: #A80036; stroke-width: 1.5;\" width=\"148\" x=\"554\" y=\"64\"/><rect fill=\"#FEFECE\" height=\"37.9375\" style=\"stroke: #A80036; stroke-width: 1.5;\" width=\"148\" x=\"554\" y=\"64\"/><text fill=\"#000000\" font-family=\"sans-serif\" font-size=\"12\" font-style=\"italic\" lengthAdjust=\"spacingAndGlyphs\" textLength=\"106\" x=\"575\" y=\"80.1387\">«calculation def»</text><text fill=\"#000000\" font-family=\"sans-serif\" font-size=\"12\" lengthAdjust=\"spacingAndGlyphs\" textLength=\"7\" x=\"624.5\" y=\"94.1074\">F</text></a><!--MD5=[b4997ac47864f28c2f74865a473b2911]\n",
       "class E2--><a href=\"psysml:2f5789b5-3949-40b4-8579-f7414350119a\" target=\"_top\" title=\"psysml:2f5789b5-3949-40b4-8579-f7414350119a\" xlink:actuate=\"onRequest\" xlink:href=\"psysml:2f5789b5-3949-40b4-8579-f7414350119a\" xlink:show=\"new\" xlink:title=\"psysml:2f5789b5-3949-40b4-8579-f7414350119a\" xlink:type=\"simple\"><rect fill=\"#FEFECE\" filter=\"url(#f14pl2yy8vduph)\" height=\"71.5469\" id=\"E2\" style=\"stroke: #A80036; stroke-width: 1.5;\" width=\"95\" x=\"422.5\" y=\"147\"/><text fill=\"#000000\" font-family=\"sans-serif\" font-size=\"12\" font-style=\"italic\" lengthAdjust=\"spacingAndGlyphs\" textLength=\"93\" x=\"423.5\" y=\"163.1387\">«attribute def»</text><text fill=\"#000000\" font-family=\"sans-serif\" font-size=\"12\" lengthAdjust=\"spacingAndGlyphs\" textLength=\"8\" x=\"466\" y=\"177.1074\">A</text><line style=\"stroke: #A80036; stroke-width: 1.5;\" x1=\"423.5\" x2=\"516.5\" y1=\"184.9375\" y2=\"184.9375\"/><text fill=\"#000000\" font-family=\"sans-serif\" font-size=\"11\" lengthAdjust=\"spacingAndGlyphs\" textLength=\"48\" x=\"428.5\" y=\"199.1479\">x: String</text><text fill=\"#000000\" font-family=\"sans-serif\" font-size=\"11\" lengthAdjust=\"spacingAndGlyphs\" textLength=\"21\" x=\"428.5\" y=\"211.9526\">y: A</text></a><!--MD5=[09b614a08d8cba4a07c9adeb5e0fee81]\n",
       "class E3--><a href=\"psysml:02928bc4-0eb7-4367-aa3f-5ffb35356b49\" target=\"_top\" title=\"psysml:02928bc4-0eb7-4367-aa3f-5ffb35356b49\" xlink:actuate=\"onRequest\" xlink:href=\"psysml:02928bc4-0eb7-4367-aa3f-5ffb35356b49\" xlink:show=\"new\" xlink:title=\"psysml:02928bc4-0eb7-4367-aa3f-5ffb35356b49\" xlink:type=\"simple\"><rect fill=\"#FEFECE\" filter=\"url(#f14pl2yy8vduph)\" height=\"45.9375\" id=\"E3\" rx=\"10\" ry=\"10\" style=\"stroke: #A80036; stroke-width: 1.5;\" width=\"71\" x=\"456.5\" y=\"41\"/><text fill=\"#000000\" font-family=\"sans-serif\" font-size=\"12\" font-style=\"italic\" lengthAdjust=\"spacingAndGlyphs\" textLength=\"69\" x=\"457.5\" y=\"57.1387\">«attribute»</text><text fill=\"#000000\" font-family=\"sans-serif\" font-size=\"12\" lengthAdjust=\"spacingAndGlyphs\" textLength=\"24\" x=\"480\" y=\"71.1074\">a: A</text><line style=\"stroke: #A80036; stroke-width: 1.5;\" x1=\"457.5\" x2=\"526.5\" y1=\"78.9375\" y2=\"78.9375\"/></a><!--MD5=[2156ba9850f5573cc1fc38a6a4b2f02b]\n",
       "class E7--><a href=\"psysml:8c3ddf1b-2d8e-48f9-8bd9-e07e4f9dde48\" target=\"_top\" title=\"psysml:8c3ddf1b-2d8e-48f9-8bd9-e07e4f9dde48\" xlink:actuate=\"onRequest\" xlink:href=\"psysml:8c3ddf1b-2d8e-48f9-8bd9-e07e4f9dde48\" xlink:show=\"new\" xlink:title=\"psysml:8c3ddf1b-2d8e-48f9-8bd9-e07e4f9dde48\" xlink:type=\"simple\"><rect fill=\"#FEFECE\" filter=\"url(#f14pl2yy8vduph)\" height=\"45.9375\" id=\"E7\" rx=\"10\" ry=\"10\" style=\"stroke: #A80036; stroke-width: 1.5;\" width=\"71\" x=\"350.5\" y=\"41\"/><text fill=\"#000000\" font-family=\"sans-serif\" font-size=\"12\" font-style=\"italic\" lengthAdjust=\"spacingAndGlyphs\" textLength=\"69\" x=\"351.5\" y=\"57.1387\">«attribute»</text><text fill=\"#000000\" font-family=\"sans-serif\" font-size=\"12\" lengthAdjust=\"spacingAndGlyphs\" textLength=\"4\" x=\"384\" y=\"71.1074\">f</text><line style=\"stroke: #A80036; stroke-width: 1.5;\" x1=\"351.5\" x2=\"420.5\" y1=\"78.9375\" y2=\"78.9375\"/></a><!--MD5=[b9389687b975829384b498ac4b7476b2]\n",
       "class E8--><a href=\"psysml:1f38f371-1f52-4b01-a20c-3f08ced1218d\" target=\"_top\" title=\"psysml:1f38f371-1f52-4b01-a20c-3f08ced1218d\" xlink:actuate=\"onRequest\" xlink:href=\"psysml:1f38f371-1f52-4b01-a20c-3f08ced1218d\" xlink:show=\"new\" xlink:title=\"psysml:1f38f371-1f52-4b01-a20c-3f08ced1218d\" xlink:type=\"simple\"><rect fill=\"#FEFECE\" filter=\"url(#f14pl2yy8vduph)\" height=\"45.9375\" id=\"E8\" rx=\"10\" ry=\"10\" style=\"stroke: #A80036; stroke-width: 1.5;\" width=\"71\" x=\"244.5\" y=\"41\"/><text fill=\"#000000\" font-family=\"sans-serif\" font-size=\"12\" font-style=\"italic\" lengthAdjust=\"spacingAndGlyphs\" textLength=\"69\" x=\"245.5\" y=\"57.1387\">«attribute»</text><text fill=\"#000000\" font-family=\"sans-serif\" font-size=\"12\" lengthAdjust=\"spacingAndGlyphs\" textLength=\"8\" x=\"276\" y=\"71.1074\">g</text><line style=\"stroke: #A80036; stroke-width: 1.5;\" x1=\"245.5\" x2=\"314.5\" y1=\"78.9375\" y2=\"78.9375\"/></a><!--MD5=[fd4143e9d270a159db93a4ea2a975926]\n",
       "class E9--><a href=\"psysml:cd4f641f-a9ce-41b8-9b9f-d9b0f89951b2\" target=\"_top\" title=\"psysml:cd4f641f-a9ce-41b8-9b9f-d9b0f89951b2\" xlink:actuate=\"onRequest\" xlink:href=\"psysml:cd4f641f-a9ce-41b8-9b9f-d9b0f89951b2\" xlink:show=\"new\" xlink:title=\"psysml:cd4f641f-a9ce-41b8-9b9f-d9b0f89951b2\" xlink:type=\"simple\"><rect fill=\"#FEFECE\" filter=\"url(#f14pl2yy8vduph)\" height=\"45.9375\" id=\"E9\" rx=\"10\" ry=\"10\" style=\"stroke: #A80036; stroke-width: 1.5;\" width=\"71\" x=\"138.5\" y=\"41\"/><text fill=\"#000000\" font-family=\"sans-serif\" font-size=\"12\" font-style=\"italic\" lengthAdjust=\"spacingAndGlyphs\" textLength=\"69\" x=\"139.5\" y=\"57.1387\">«attribute»</text><text fill=\"#000000\" font-family=\"sans-serif\" font-size=\"12\" lengthAdjust=\"spacingAndGlyphs\" textLength=\"8\" x=\"170\" y=\"71.1074\">b</text><line style=\"stroke: #A80036; stroke-width: 1.5;\" x1=\"139.5\" x2=\"208.5\" y1=\"78.9375\" y2=\"78.9375\"/></a><!--MD5=[96f4274e9e20536e775497830990834d]\n",
       "class E10--><a href=\"psysml:5033f0bf-ffeb-4313-b85b-4258ec8a052c\" target=\"_top\" title=\"psysml:5033f0bf-ffeb-4313-b85b-4258ec8a052c\" xlink:actuate=\"onRequest\" xlink:href=\"psysml:5033f0bf-ffeb-4313-b85b-4258ec8a052c\" xlink:show=\"new\" xlink:title=\"psysml:5033f0bf-ffeb-4313-b85b-4258ec8a052c\" xlink:type=\"simple\"><rect fill=\"#FEFECE\" filter=\"url(#f14pl2yy8vduph)\" height=\"45.9375\" id=\"E10\" rx=\"10\" ry=\"10\" style=\"stroke: #A80036; stroke-width: 1.5;\" width=\"71\" x=\"32.5\" y=\"41\"/><text fill=\"#000000\" font-family=\"sans-serif\" font-size=\"12\" font-style=\"italic\" lengthAdjust=\"spacingAndGlyphs\" textLength=\"69\" x=\"33.5\" y=\"57.1387\">«attribute»</text><text fill=\"#000000\" font-family=\"sans-serif\" font-size=\"12\" lengthAdjust=\"spacingAndGlyphs\" textLength=\"7\" x=\"64.5\" y=\"71.1074\">c</text><line style=\"stroke: #A80036; stroke-width: 1.5;\" x1=\"33.5\" x2=\"102.5\" y1=\"78.9375\" y2=\"78.9375\"/></a><text fill=\"#000000\" font-family=\"sans-serif\" font-size=\"14\" lengthAdjust=\"spacingAndGlyphs\" textLength=\"9\" x=\"567.5\" y=\"42.6982\">p</text><rect fill=\"#A80036\" height=\"12\" style=\"stroke: #FEFECE; stroke-width: 1.5;\" width=\"12\" x=\"566\" y=\"58\"/><text fill=\"#000000\" font-family=\"sans-serif\" font-size=\"14\" lengthAdjust=\"spacingAndGlyphs\" textLength=\"9\" x=\"614.5\" y=\"42.6982\">q</text><rect fill=\"#A80036\" height=\"12\" style=\"stroke: #FEFECE; stroke-width: 1.5;\" width=\"12\" x=\"613\" y=\"58\"/><!--MD5=[05d275557350bfb9b23a4ef7222b4c39]\n",
       "link E3 to E2--><a href=\"psysml:94762400-f967-4f4d-9ae0-7f515d54317a\" target=\"_top\" title=\"psysml:94762400-f967-4f4d-9ae0-7f515d54317a\" xlink:actuate=\"onRequest\" xlink:href=\"psysml:94762400-f967-4f4d-9ae0-7f515d54317a\" xlink:show=\"new\" xlink:title=\"psysml:94762400-f967-4f4d-9ae0-7f515d54317a\" xlink:type=\"simple\"><path d=\"M487.86,87.01 C485.74,98.3 483.05,112.62 480.4,126.7 \" fill=\"none\" id=\"E3-&gt;E2\" style=\"stroke: #A80036; stroke-width: 1.0;\"/><polygon fill=\"#FFFFFF\" points=\"476.63,146.75,473.2514,126.7854,487.0116,129.3654,476.63,146.75\" style=\"stroke: #A80036; stroke-width: 1.0;\"/><ellipse cx=\"476.2676\" cy=\"121.5516\" fill=\"#A80036\" rx=\"2\" ry=\"2\" style=\"stroke: #A80036; stroke-width: 1.0;\"/><ellipse cx=\"486.0963\" cy=\"123.3945\" fill=\"#A80036\" rx=\"2\" ry=\"2\" style=\"stroke: #A80036; stroke-width: 1.0;\"/></a><!--MD5=[d78943b2e0e12d1c3641a058457bc641]\n",
       "@startuml\r\n",
       "skinparam wrapWidth 300\r\n",
       "hide circle\r\n",
       "\r\n",
       "package \"ParameterTest\" as E1  [[psysml:88bd93f8-a024-442a-9349-d26cb2f873a0 ]]  {\r\n",
       "comp def \"A\" as E2  <<(T,blue)attribute def>> [[psysml:2f5789b5-3949-40b4-8579-f7414350119a ]] {\r\n",
       "x: String\r\n",
       "y: A\r\n",
       "}\r\n",
       "comp usage \"a: A\" as E3  <<(T,blue)attribute>> [[psysml:02928bc4-0eb7-4367-aa3f-5ffb35356b49 ]] {\r\n",
       "}\r\n",
       "rec def \"F\" as E4  <<(T,blue)calculation def>> [[psysml:de3210e5-068c-44a8-9828-b5930a13c3bb ]] {\r\n",
       "portin \"p\" as E5  [[psysml:6f03e5ff-f747-4209-970e-6a43677acfe5 ]] \r\n",
       "portin \"q\" as E6  [[psysml:59b46d55-27e2-4503-b58c-744d75cefff1 ]] \r\n",
       "}\r\n",
       "\r\n",
       "comp usage \"f\" as E7  <<(T,blue)attribute>> [[psysml:8c3ddf1b-2d8e-48f9-8bd9-e07e4f9dde48 ]] {\r\n",
       "}\r\n",
       "comp usage \"g\" as E8  <<(T,blue)attribute>> [[psysml:1f38f371-1f52-4b01-a20c-3f08ced1218d ]] {\r\n",
       "}\r\n",
       "comp usage \"b\" as E9  <<(T,blue)attribute>> [[psysml:cd4f641f-a9ce-41b8-9b9f-d9b0f89951b2 ]] {\r\n",
       "}\r\n",
       "comp usage \"c\" as E10  <<(T,blue)attribute>> [[psysml:5033f0bf-ffeb-4313-b85b-4258ec8a052c ]] {\r\n",
       "}\r\n",
       "E3 - -:|> E2 [[psysml:94762400-f967-4f4d-9ae0-7f515d54317a ]] \r\n",
       "}\r\n",
       "@enduml\r\n",
       "\n",
       "PlantUML version 1.2020.13(Sat Jun 13 12:26:38 UTC 2020)\n",
       "(EPL source distribution)\n",
       "Java Runtime: OpenJDK Runtime Environment\n",
       "JVM: OpenJDK 64-Bit Server VM\n",
       "Default Encoding: UTF-8\n",
       "Language: en\n",
       "Country: null\n",
       "--></g></svg>"
      ]
     },
     "execution_count": 29,
     "metadata": {},
     "output_type": "execute_result"
    }
   ],
   "source": [
    "%viz --style=\"STDCOLOR\" --view=\"MIXED\" \"ParameterTest\""
   ]
  },
  {
   "cell_type": "code",
   "execution_count": 30,
   "id": "crazy-handle",
   "metadata": {
    "execution": {
     "iopub.execute_input": "2021-03-26T13:01:41.775413Z",
     "iopub.status.busy": "2021-03-26T13:01:41.774821Z",
     "iopub.status.idle": "2021-03-26T13:01:41.838236Z",
     "shell.execute_reply": "2021-03-26T13:01:41.837934Z"
    }
   },
   "outputs": [
    {
     "data": {
      "image/svg+xml": [
       "<?xml version=\"1.0\" encoding=\"UTF-8\" standalone=\"no\"?><svg xmlns=\"http://www.w3.org/2000/svg\" xmlns:xlink=\"http://www.w3.org/1999/xlink\" contentScriptType=\"application/ecmascript\" contentStyleType=\"text/css\" height=\"247px\" preserveAspectRatio=\"none\" style=\"width:868px;height:247px;\" version=\"1.1\" viewBox=\"0 0 868 247\" width=\"868px\" zoomAndPan=\"magnify\"><defs><filter height=\"300%\" id=\"f1fomxj4bicdxl\" width=\"300%\" x=\"-1\" y=\"-1\"><feGaussianBlur result=\"blurOut\" stdDeviation=\"2.0\"/><feColorMatrix in=\"blurOut\" result=\"blurOut2\" type=\"matrix\" values=\"0 0 0 0 0 0 0 0 0 0 0 0 0 0 0 0 0 0 .4 0\"/><feOffset dx=\"4.0\" dy=\"4.0\" in=\"blurOut2\" result=\"blurOut3\"/><feBlend in=\"SourceGraphic\" in2=\"blurOut3\" mode=\"normal\"/></filter></defs><g><!--MD5=[fbc87193dbaf4d95561dea2c320d4a47]\n",
       "cluster E1--><a href=\"psysml:88bd93f8-a024-442a-9349-d26cb2f873a0\" target=\"_top\" title=\"psysml:88bd93f8-a024-442a-9349-d26cb2f873a0\" xlink:actuate=\"onRequest\" xlink:href=\"psysml:88bd93f8-a024-442a-9349-d26cb2f873a0\" xlink:show=\"new\" xlink:title=\"psysml:88bd93f8-a024-442a-9349-d26cb2f873a0\" xlink:type=\"simple\"><polygon fill=\"#FFFFFF\" filter=\"url(#f1fomxj4bicdxl)\" points=\"16,6,139,6,146,28.2969,846,28.2969,846,235,16,235,16,6\" style=\"stroke: #000000; stroke-width: 1.5;\"/><line style=\"stroke: #000000; stroke-width: 1.5;\" x1=\"16\" x2=\"146\" y1=\"28.2969\" y2=\"28.2969\"/><text fill=\"#000000\" font-family=\"sans-serif\" font-size=\"14\" font-weight=\"bold\" lengthAdjust=\"spacingAndGlyphs\" textLength=\"117\" x=\"20\" y=\"20.9951\">ParameterTest</text></a><!--MD5=[f6df4d0ebaf0b5dfb2ced0ae5af7c670]\n",
       "cluster E4--><a href=\"psysml:de3210e5-068c-44a8-9828-b5930a13c3bb\" target=\"_top\" title=\"psysml:de3210e5-068c-44a8-9828-b5930a13c3bb\" xlink:actuate=\"onRequest\" xlink:href=\"psysml:de3210e5-068c-44a8-9828-b5930a13c3bb\" xlink:show=\"new\" xlink:title=\"psysml:de3210e5-068c-44a8-9828-b5930a13c3bb\" xlink:type=\"simple\"><rect fill=\"#FFFFFF\" filter=\"url(#f1fomxj4bicdxl)\" height=\"152.5\" id=\"E4\" style=\"stroke: #A80036; stroke-width: 1.5;\" width=\"148\" x=\"682\" y=\"64\"/><rect fill=\"#FEFECE\" height=\"37.9375\" style=\"stroke: #A80036; stroke-width: 1.5;\" width=\"148\" x=\"682\" y=\"64\"/><text fill=\"#000000\" font-family=\"sans-serif\" font-size=\"12\" font-style=\"italic\" lengthAdjust=\"spacingAndGlyphs\" textLength=\"106\" x=\"703\" y=\"80.1387\">«calculation def»</text><text fill=\"#000000\" font-family=\"sans-serif\" font-size=\"12\" lengthAdjust=\"spacingAndGlyphs\" textLength=\"7\" x=\"752.5\" y=\"94.1074\">F</text></a><!--MD5=[b4997ac47864f28c2f74865a473b2911]\n",
       "class E2--><a href=\"psysml:2f5789b5-3949-40b4-8579-f7414350119a\" target=\"_top\" title=\"psysml:2f5789b5-3949-40b4-8579-f7414350119a\" xlink:actuate=\"onRequest\" xlink:href=\"psysml:2f5789b5-3949-40b4-8579-f7414350119a\" xlink:show=\"new\" xlink:title=\"psysml:2f5789b5-3949-40b4-8579-f7414350119a\" xlink:type=\"simple\"><rect fill=\"#FEFECE\" filter=\"url(#f1fomxj4bicdxl)\" height=\"71.5469\" id=\"E2\" style=\"stroke: #A80036; stroke-width: 1.5;\" width=\"121\" x=\"524.5\" y=\"147\"/><ellipse cx=\"539.5\" cy=\"165.9688\" fill=\"#A52A2A\" rx=\"11\" ry=\"11\" style=\"stroke: #A80036; stroke-width: 1.0;\"/><path d=\"M539.0938,161.7813 L539.0938,169.7656 L539.75,169.7656 Q541.1875,169.7656 541.7969,168.8594 Q542.4219,167.9375 542.4219,165.7656 Q542.4219,163.5938 541.7969,162.6875 Q541.1875,161.7813 539.75,161.7813 L539.0938,161.7813 Z M536.6406,159.5781 L539.2656,159.5781 Q542.2969,159.5781 543.625,161.0313 Q544.9688,162.4688 544.9688,165.7656 Q544.9688,169.0625 543.625,170.5156 Q542.2969,171.9688 539.2656,171.9688 L536.6406,171.9688 L536.6406,159.5781 Z \"/><text fill=\"#000000\" font-family=\"sans-serif\" font-size=\"12\" font-style=\"italic\" lengthAdjust=\"spacingAndGlyphs\" textLength=\"93\" x=\"551.5\" y=\"163.1387\">«attribute def»</text><text fill=\"#000000\" font-family=\"sans-serif\" font-size=\"12\" lengthAdjust=\"spacingAndGlyphs\" textLength=\"8\" x=\"594\" y=\"177.1074\">A</text><line style=\"stroke: #A80036; stroke-width: 1.5;\" x1=\"525.5\" x2=\"644.5\" y1=\"184.9375\" y2=\"184.9375\"/><text fill=\"#000000\" font-family=\"sans-serif\" font-size=\"11\" lengthAdjust=\"spacingAndGlyphs\" textLength=\"48\" x=\"530.5\" y=\"199.1479\">x: String</text><text fill=\"#000000\" font-family=\"sans-serif\" font-size=\"11\" lengthAdjust=\"spacingAndGlyphs\" textLength=\"21\" x=\"530.5\" y=\"211.9526\">y: A</text></a><!--MD5=[09b614a08d8cba4a07c9adeb5e0fee81]\n",
       "class E3--><a href=\"psysml:02928bc4-0eb7-4367-aa3f-5ffb35356b49\" target=\"_top\" title=\"psysml:02928bc4-0eb7-4367-aa3f-5ffb35356b49\" xlink:actuate=\"onRequest\" xlink:href=\"psysml:02928bc4-0eb7-4367-aa3f-5ffb35356b49\" xlink:show=\"new\" xlink:title=\"psysml:02928bc4-0eb7-4367-aa3f-5ffb35356b49\" xlink:type=\"simple\"><rect fill=\"#FEFECE\" filter=\"url(#f1fomxj4bicdxl)\" height=\"45.9375\" id=\"E3\" rx=\"10\" ry=\"10\" style=\"stroke: #A80036; stroke-width: 1.5;\" width=\"97\" x=\"559.5\" y=\"41\"/><ellipse cx=\"574.5\" cy=\"59.9688\" fill=\"#FFA500\" rx=\"11\" ry=\"11\" style=\"stroke: #A80036; stroke-width: 1.0;\"/><path d=\"M570.375,61.8906 L570.375,54.0781 L572.8281,54.0781 L572.8281,62.5156 Q572.8281,63.4375 573.2969,63.9688 Q573.7813,64.5 574.6094,64.5 Q575.4531,64.5 575.9219,63.9688 Q576.3906,63.4375 576.3906,62.5156 L576.3906,54.0781 L578.8438,54.0781 L578.8438,61.8906 Q578.8438,64.4219 577.8438,65.5625 Q576.8438,66.7031 574.6094,66.7031 Q572.3906,66.7031 571.375,65.5625 Q570.375,64.4219 570.375,61.8906 Z \"/><text fill=\"#000000\" font-family=\"sans-serif\" font-size=\"12\" font-style=\"italic\" lengthAdjust=\"spacingAndGlyphs\" textLength=\"69\" x=\"586.5\" y=\"57.1387\">«attribute»</text><text fill=\"#000000\" font-family=\"sans-serif\" font-size=\"12\" lengthAdjust=\"spacingAndGlyphs\" textLength=\"24\" x=\"609\" y=\"71.1074\">a: A</text><line style=\"stroke: #A80036; stroke-width: 1.5;\" x1=\"560.5\" x2=\"655.5\" y1=\"78.9375\" y2=\"78.9375\"/></a><!--MD5=[2156ba9850f5573cc1fc38a6a4b2f02b]\n",
       "class E7--><a href=\"psysml:8c3ddf1b-2d8e-48f9-8bd9-e07e4f9dde48\" target=\"_top\" title=\"psysml:8c3ddf1b-2d8e-48f9-8bd9-e07e4f9dde48\" xlink:actuate=\"onRequest\" xlink:href=\"psysml:8c3ddf1b-2d8e-48f9-8bd9-e07e4f9dde48\" xlink:show=\"new\" xlink:title=\"psysml:8c3ddf1b-2d8e-48f9-8bd9-e07e4f9dde48\" xlink:type=\"simple\"><rect fill=\"#FEFECE\" filter=\"url(#f1fomxj4bicdxl)\" height=\"45.9375\" id=\"E7\" rx=\"10\" ry=\"10\" style=\"stroke: #A80036; stroke-width: 1.5;\" width=\"97\" x=\"427.5\" y=\"41\"/><ellipse cx=\"442.5\" cy=\"59.9688\" fill=\"#FFA500\" rx=\"11\" ry=\"11\" style=\"stroke: #A80036; stroke-width: 1.0;\"/><path d=\"M438.375,61.8906 L438.375,54.0781 L440.8281,54.0781 L440.8281,62.5156 Q440.8281,63.4375 441.2969,63.9688 Q441.7813,64.5 442.6094,64.5 Q443.4531,64.5 443.9219,63.9688 Q444.3906,63.4375 444.3906,62.5156 L444.3906,54.0781 L446.8438,54.0781 L446.8438,61.8906 Q446.8438,64.4219 445.8438,65.5625 Q444.8438,66.7031 442.6094,66.7031 Q440.3906,66.7031 439.375,65.5625 Q438.375,64.4219 438.375,61.8906 Z \"/><text fill=\"#000000\" font-family=\"sans-serif\" font-size=\"12\" font-style=\"italic\" lengthAdjust=\"spacingAndGlyphs\" textLength=\"69\" x=\"454.5\" y=\"57.1387\">«attribute»</text><text fill=\"#000000\" font-family=\"sans-serif\" font-size=\"12\" lengthAdjust=\"spacingAndGlyphs\" textLength=\"4\" x=\"487\" y=\"71.1074\">f</text><line style=\"stroke: #A80036; stroke-width: 1.5;\" x1=\"428.5\" x2=\"523.5\" y1=\"78.9375\" y2=\"78.9375\"/></a><!--MD5=[b9389687b975829384b498ac4b7476b2]\n",
       "class E8--><a href=\"psysml:1f38f371-1f52-4b01-a20c-3f08ced1218d\" target=\"_top\" title=\"psysml:1f38f371-1f52-4b01-a20c-3f08ced1218d\" xlink:actuate=\"onRequest\" xlink:href=\"psysml:1f38f371-1f52-4b01-a20c-3f08ced1218d\" xlink:show=\"new\" xlink:title=\"psysml:1f38f371-1f52-4b01-a20c-3f08ced1218d\" xlink:type=\"simple\"><rect fill=\"#FEFECE\" filter=\"url(#f1fomxj4bicdxl)\" height=\"45.9375\" id=\"E8\" rx=\"10\" ry=\"10\" style=\"stroke: #A80036; stroke-width: 1.5;\" width=\"97\" x=\"295.5\" y=\"41\"/><ellipse cx=\"310.5\" cy=\"59.9688\" fill=\"#FFA500\" rx=\"11\" ry=\"11\" style=\"stroke: #A80036; stroke-width: 1.0;\"/><path d=\"M306.375,61.8906 L306.375,54.0781 L308.8281,54.0781 L308.8281,62.5156 Q308.8281,63.4375 309.2969,63.9688 Q309.7813,64.5 310.6094,64.5 Q311.4531,64.5 311.9219,63.9688 Q312.3906,63.4375 312.3906,62.5156 L312.3906,54.0781 L314.8438,54.0781 L314.8438,61.8906 Q314.8438,64.4219 313.8438,65.5625 Q312.8438,66.7031 310.6094,66.7031 Q308.3906,66.7031 307.375,65.5625 Q306.375,64.4219 306.375,61.8906 Z \"/><text fill=\"#000000\" font-family=\"sans-serif\" font-size=\"12\" font-style=\"italic\" lengthAdjust=\"spacingAndGlyphs\" textLength=\"69\" x=\"322.5\" y=\"57.1387\">«attribute»</text><text fill=\"#000000\" font-family=\"sans-serif\" font-size=\"12\" lengthAdjust=\"spacingAndGlyphs\" textLength=\"8\" x=\"353\" y=\"71.1074\">g</text><line style=\"stroke: #A80036; stroke-width: 1.5;\" x1=\"296.5\" x2=\"391.5\" y1=\"78.9375\" y2=\"78.9375\"/></a><!--MD5=[fd4143e9d270a159db93a4ea2a975926]\n",
       "class E9--><a href=\"psysml:cd4f641f-a9ce-41b8-9b9f-d9b0f89951b2\" target=\"_top\" title=\"psysml:cd4f641f-a9ce-41b8-9b9f-d9b0f89951b2\" xlink:actuate=\"onRequest\" xlink:href=\"psysml:cd4f641f-a9ce-41b8-9b9f-d9b0f89951b2\" xlink:show=\"new\" xlink:title=\"psysml:cd4f641f-a9ce-41b8-9b9f-d9b0f89951b2\" xlink:type=\"simple\"><rect fill=\"#FEFECE\" filter=\"url(#f1fomxj4bicdxl)\" height=\"45.9375\" id=\"E9\" rx=\"10\" ry=\"10\" style=\"stroke: #A80036; stroke-width: 1.5;\" width=\"97\" x=\"163.5\" y=\"41\"/><ellipse cx=\"178.5\" cy=\"59.9688\" fill=\"#FFA500\" rx=\"11\" ry=\"11\" style=\"stroke: #A80036; stroke-width: 1.0;\"/><path d=\"M174.375,61.8906 L174.375,54.0781 L176.8281,54.0781 L176.8281,62.5156 Q176.8281,63.4375 177.2969,63.9688 Q177.7813,64.5 178.6094,64.5 Q179.4531,64.5 179.9219,63.9688 Q180.3906,63.4375 180.3906,62.5156 L180.3906,54.0781 L182.8438,54.0781 L182.8438,61.8906 Q182.8438,64.4219 181.8438,65.5625 Q180.8438,66.7031 178.6094,66.7031 Q176.3906,66.7031 175.375,65.5625 Q174.375,64.4219 174.375,61.8906 Z \"/><text fill=\"#000000\" font-family=\"sans-serif\" font-size=\"12\" font-style=\"italic\" lengthAdjust=\"spacingAndGlyphs\" textLength=\"69\" x=\"190.5\" y=\"57.1387\">«attribute»</text><text fill=\"#000000\" font-family=\"sans-serif\" font-size=\"12\" lengthAdjust=\"spacingAndGlyphs\" textLength=\"8\" x=\"221\" y=\"71.1074\">b</text><line style=\"stroke: #A80036; stroke-width: 1.5;\" x1=\"164.5\" x2=\"259.5\" y1=\"78.9375\" y2=\"78.9375\"/></a><!--MD5=[96f4274e9e20536e775497830990834d]\n",
       "class E10--><a href=\"psysml:5033f0bf-ffeb-4313-b85b-4258ec8a052c\" target=\"_top\" title=\"psysml:5033f0bf-ffeb-4313-b85b-4258ec8a052c\" xlink:actuate=\"onRequest\" xlink:href=\"psysml:5033f0bf-ffeb-4313-b85b-4258ec8a052c\" xlink:show=\"new\" xlink:title=\"psysml:5033f0bf-ffeb-4313-b85b-4258ec8a052c\" xlink:type=\"simple\"><rect fill=\"#FEFECE\" filter=\"url(#f1fomxj4bicdxl)\" height=\"45.9375\" id=\"E10\" rx=\"10\" ry=\"10\" style=\"stroke: #A80036; stroke-width: 1.5;\" width=\"97\" x=\"31.5\" y=\"41\"/><ellipse cx=\"46.5\" cy=\"59.9688\" fill=\"#FFA500\" rx=\"11\" ry=\"11\" style=\"stroke: #A80036; stroke-width: 1.0;\"/><path d=\"M42.375,61.8906 L42.375,54.0781 L44.8281,54.0781 L44.8281,62.5156 Q44.8281,63.4375 45.2969,63.9688 Q45.7813,64.5 46.6094,64.5 Q47.4531,64.5 47.9219,63.9688 Q48.3906,63.4375 48.3906,62.5156 L48.3906,54.0781 L50.8438,54.0781 L50.8438,61.8906 Q50.8438,64.4219 49.8438,65.5625 Q48.8438,66.7031 46.6094,66.7031 Q44.3906,66.7031 43.375,65.5625 Q42.375,64.4219 42.375,61.8906 Z \"/><text fill=\"#000000\" font-family=\"sans-serif\" font-size=\"12\" font-style=\"italic\" lengthAdjust=\"spacingAndGlyphs\" textLength=\"69\" x=\"58.5\" y=\"57.1387\">«attribute»</text><text fill=\"#000000\" font-family=\"sans-serif\" font-size=\"12\" lengthAdjust=\"spacingAndGlyphs\" textLength=\"7\" x=\"89.5\" y=\"71.1074\">c</text><line style=\"stroke: #A80036; stroke-width: 1.5;\" x1=\"32.5\" x2=\"127.5\" y1=\"78.9375\" y2=\"78.9375\"/></a><text fill=\"#000000\" font-family=\"sans-serif\" font-size=\"14\" lengthAdjust=\"spacingAndGlyphs\" textLength=\"9\" x=\"695.5\" y=\"42.6982\">p</text><rect fill=\"#A80036\" height=\"12\" style=\"stroke: #FEFECE; stroke-width: 1.5;\" width=\"12\" x=\"694\" y=\"58\"/><text fill=\"#000000\" font-family=\"sans-serif\" font-size=\"14\" lengthAdjust=\"spacingAndGlyphs\" textLength=\"9\" x=\"742.5\" y=\"42.6982\">q</text><rect fill=\"#A80036\" height=\"12\" style=\"stroke: #FEFECE; stroke-width: 1.5;\" width=\"12\" x=\"741\" y=\"58\"/><!--MD5=[05d275557350bfb9b23a4ef7222b4c39]\n",
       "link E3 to E2--><a href=\"psysml:94762400-f967-4f4d-9ae0-7f515d54317a\" target=\"_top\" title=\"psysml:94762400-f967-4f4d-9ae0-7f515d54317a\" xlink:actuate=\"onRequest\" xlink:href=\"psysml:94762400-f967-4f4d-9ae0-7f515d54317a\" xlink:show=\"new\" xlink:title=\"psysml:94762400-f967-4f4d-9ae0-7f515d54317a\" xlink:type=\"simple\"><path d=\"M603.67,87.01 C601.45,98.3 598.64,112.62 595.87,126.7 \" fill=\"none\" id=\"E3-&gt;E2\" style=\"stroke: #A80036; stroke-width: 1.0;\"/><polygon fill=\"#FFFFFF\" points=\"591.93,146.75,588.7277,126.7564,602.4646,129.4577,591.93,146.75\" style=\"stroke: #A80036; stroke-width: 1.0;\"/><ellipse cx=\"591.7899\" cy=\"121.5494\" fill=\"#A80036\" rx=\"2\" ry=\"2\" style=\"stroke: #A80036; stroke-width: 1.0;\"/><ellipse cx=\"601.602\" cy=\"123.4789\" fill=\"#A80036\" rx=\"2\" ry=\"2\" style=\"stroke: #A80036; stroke-width: 1.0;\"/></a><!--MD5=[350467113da99d6118054d6cd18a9833]\n",
       "@startuml\r\n",
       " \r\n",
       "package \"ParameterTest\" as E1  [[psysml:88bd93f8-a024-442a-9349-d26cb2f873a0 ]]  {\r\n",
       "comp def \"A\" as E2  <<(D,brown)attribute def>> [[psysml:2f5789b5-3949-40b4-8579-f7414350119a ]] {\r\n",
       "x: String\r\n",
       "y: A\r\n",
       "}\r\n",
       "comp usage \"a: A\" as E3  <<(U,orange)attribute>> [[psysml:02928bc4-0eb7-4367-aa3f-5ffb35356b49 ]] {\r\n",
       "}\r\n",
       "rec def \"F\" as E4  <<(D,brown)calculation def>> [[psysml:de3210e5-068c-44a8-9828-b5930a13c3bb ]] {\r\n",
       "portin \"p\" as E5  [[psysml:6f03e5ff-f747-4209-970e-6a43677acfe5 ]] \r\n",
       "portin \"q\" as E6  [[psysml:59b46d55-27e2-4503-b58c-744d75cefff1 ]] \r\n",
       "}\r\n",
       "\r\n",
       "comp usage \"f\" as E7  <<(U,orange)attribute>> [[psysml:8c3ddf1b-2d8e-48f9-8bd9-e07e4f9dde48 ]] {\r\n",
       "}\r\n",
       "comp usage \"g\" as E8  <<(U,orange)attribute>> [[psysml:1f38f371-1f52-4b01-a20c-3f08ced1218d ]] {\r\n",
       "}\r\n",
       "comp usage \"b\" as E9  <<(U,orange)attribute>> [[psysml:cd4f641f-a9ce-41b8-9b9f-d9b0f89951b2 ]] {\r\n",
       "}\r\n",
       "comp usage \"c\" as E10  <<(U,orange)attribute>> [[psysml:5033f0bf-ffeb-4313-b85b-4258ec8a052c ]] {\r\n",
       "}\r\n",
       "E3 - -:|> E2 [[psysml:94762400-f967-4f4d-9ae0-7f515d54317a ]] \r\n",
       "}\r\n",
       "@enduml\r\n",
       "\n",
       "PlantUML version 1.2020.13(Sat Jun 13 12:26:38 UTC 2020)\n",
       "(EPL source distribution)\n",
       "Java Runtime: OpenJDK Runtime Environment\n",
       "JVM: OpenJDK 64-Bit Server VM\n",
       "Default Encoding: UTF-8\n",
       "Language: en\n",
       "Country: null\n",
       "--></g></svg>"
      ]
     },
     "execution_count": 30,
     "metadata": {},
     "output_type": "execute_result"
    }
   ],
   "source": [
    "%viz --style=\"PLANTUML\" --view=\"Default\" \"ParameterTest\""
   ]
  },
  {
   "cell_type": "code",
   "execution_count": 31,
   "id": "greater-encounter",
   "metadata": {
    "execution": {
     "iopub.execute_input": "2021-03-26T13:01:41.889437Z",
     "iopub.status.busy": "2021-03-26T13:01:41.888592Z",
     "iopub.status.idle": "2021-03-26T13:01:41.928389Z",
     "shell.execute_reply": "2021-03-26T13:01:41.926663Z"
    }
   },
   "outputs": [
    {
     "data": {
      "image/svg+xml": [
       "<?xml version=\"1.0\" encoding=\"UTF-8\" standalone=\"no\"?><svg xmlns=\"http://www.w3.org/2000/svg\" xmlns:xlink=\"http://www.w3.org/1999/xlink\" contentScriptType=\"application/ecmascript\" contentStyleType=\"text/css\" height=\"264px\" preserveAspectRatio=\"none\" style=\"width:864px;height:264px;\" version=\"1.1\" viewBox=\"0 0 864 264\" width=\"864px\" zoomAndPan=\"magnify\"><defs><filter height=\"300%\" id=\"fknmk5va6io26\" width=\"300%\" x=\"-1\" y=\"-1\"><feGaussianBlur result=\"blurOut\" stdDeviation=\"2.0\"/><feColorMatrix in=\"blurOut\" result=\"blurOut2\" type=\"matrix\" values=\"0 0 0 0 0 0 0 0 0 0 0 0 0 0 0 0 0 0 .4 0\"/><feOffset dx=\"4.0\" dy=\"4.0\" in=\"blurOut2\" result=\"blurOut3\"/><feBlend in=\"SourceGraphic\" in2=\"blurOut3\" mode=\"normal\"/></filter></defs><g><!--MD5=[fbc87193dbaf4d95561dea2c320d4a47]\n",
       "cluster E1--><a href=\"psysml:88bd93f8-a024-442a-9349-d26cb2f873a0\" target=\"_top\" title=\"psysml:88bd93f8-a024-442a-9349-d26cb2f873a0\" xlink:actuate=\"onRequest\" xlink:href=\"psysml:88bd93f8-a024-442a-9349-d26cb2f873a0\" xlink:show=\"new\" xlink:title=\"psysml:88bd93f8-a024-442a-9349-d26cb2f873a0\" xlink:type=\"simple\"><polygon fill=\"#FFFFFF\" filter=\"url(#fknmk5va6io26)\" points=\"16,6,139,6,146,28.2969,842,28.2969,842,252,16,252,16,6\" style=\"stroke: #000000; stroke-width: 1.5;\"/><line style=\"stroke: #000000; stroke-width: 1.5;\" x1=\"16\" x2=\"146\" y1=\"28.2969\" y2=\"28.2969\"/><text fill=\"#000000\" font-family=\"sans-serif\" font-size=\"14\" font-weight=\"bold\" lengthAdjust=\"spacingAndGlyphs\" textLength=\"117\" x=\"20\" y=\"20.9951\">ParameterTest</text></a><!--MD5=[b4997ac47864f28c2f74865a473b2911]\n",
       "class E2--><a href=\"psysml:2f5789b5-3949-40b4-8579-f7414350119a\" target=\"_top\" title=\"psysml:2f5789b5-3949-40b4-8579-f7414350119a\" xlink:actuate=\"onRequest\" xlink:href=\"psysml:2f5789b5-3949-40b4-8579-f7414350119a\" xlink:show=\"new\" xlink:title=\"psysml:2f5789b5-3949-40b4-8579-f7414350119a\" xlink:type=\"simple\"><rect fill=\"#FEFECE\" filter=\"url(#fknmk5va6io26)\" height=\"71.5469\" id=\"E2\" style=\"stroke: #A80036; stroke-width: 1.5;\" width=\"121\" x=\"642.5\" y=\"164\"/><ellipse cx=\"657.5\" cy=\"182.9688\" fill=\"#A52A2A\" rx=\"11\" ry=\"11\" style=\"stroke: #A80036; stroke-width: 1.0;\"/><path d=\"M657.0938,178.7813 L657.0938,186.7656 L657.75,186.7656 Q659.1875,186.7656 659.7969,185.8594 Q660.4219,184.9375 660.4219,182.7656 Q660.4219,180.5938 659.7969,179.6875 Q659.1875,178.7813 657.75,178.7813 L657.0938,178.7813 Z M654.6406,176.5781 L657.2656,176.5781 Q660.2969,176.5781 661.625,178.0313 Q662.9688,179.4688 662.9688,182.7656 Q662.9688,186.0625 661.625,187.5156 Q660.2969,188.9688 657.2656,188.9688 L654.6406,188.9688 L654.6406,176.5781 Z \"/><text fill=\"#000000\" font-family=\"sans-serif\" font-size=\"12\" font-style=\"italic\" lengthAdjust=\"spacingAndGlyphs\" textLength=\"93\" x=\"669.5\" y=\"180.1387\">«attribute def»</text><text fill=\"#000000\" font-family=\"sans-serif\" font-size=\"12\" lengthAdjust=\"spacingAndGlyphs\" textLength=\"8\" x=\"712\" y=\"194.1074\">A</text><line style=\"stroke: #A80036; stroke-width: 1.5;\" x1=\"643.5\" x2=\"762.5\" y1=\"201.9375\" y2=\"201.9375\"/><text fill=\"#000000\" font-family=\"sans-serif\" font-size=\"11\" lengthAdjust=\"spacingAndGlyphs\" textLength=\"48\" x=\"648.5\" y=\"216.1479\">x: String</text><text fill=\"#000000\" font-family=\"sans-serif\" font-size=\"11\" lengthAdjust=\"spacingAndGlyphs\" textLength=\"21\" x=\"648.5\" y=\"228.9526\">y: A</text></a><!--MD5=[09b614a08d8cba4a07c9adeb5e0fee81]\n",
       "class E3--><a href=\"psysml:02928bc4-0eb7-4367-aa3f-5ffb35356b49\" target=\"_top\" title=\"psysml:02928bc4-0eb7-4367-aa3f-5ffb35356b49\" xlink:actuate=\"onRequest\" xlink:href=\"psysml:02928bc4-0eb7-4367-aa3f-5ffb35356b49\" xlink:show=\"new\" xlink:title=\"psysml:02928bc4-0eb7-4367-aa3f-5ffb35356b49\" xlink:type=\"simple\"><rect fill=\"#FEFECE\" filter=\"url(#fknmk5va6io26)\" height=\"45.9375\" id=\"E3\" rx=\"10\" ry=\"10\" style=\"stroke: #A80036; stroke-width: 1.5;\" width=\"97\" x=\"729.5\" y=\"41\"/><ellipse cx=\"744.5\" cy=\"59.9688\" fill=\"#FFA500\" rx=\"11\" ry=\"11\" style=\"stroke: #A80036; stroke-width: 1.0;\"/><path d=\"M740.375,61.8906 L740.375,54.0781 L742.8281,54.0781 L742.8281,62.5156 Q742.8281,63.4375 743.2969,63.9688 Q743.7813,64.5 744.6094,64.5 Q745.4531,64.5 745.9219,63.9688 Q746.3906,63.4375 746.3906,62.5156 L746.3906,54.0781 L748.8438,54.0781 L748.8438,61.8906 Q748.8438,64.4219 747.8438,65.5625 Q746.8438,66.7031 744.6094,66.7031 Q742.3906,66.7031 741.375,65.5625 Q740.375,64.4219 740.375,61.8906 Z \"/><text fill=\"#000000\" font-family=\"sans-serif\" font-size=\"12\" font-style=\"italic\" lengthAdjust=\"spacingAndGlyphs\" textLength=\"69\" x=\"756.5\" y=\"57.1387\">«attribute»</text><text fill=\"#000000\" font-family=\"sans-serif\" font-size=\"12\" lengthAdjust=\"spacingAndGlyphs\" textLength=\"24\" x=\"779\" y=\"71.1074\">a: A</text><line style=\"stroke: #A80036; stroke-width: 1.5;\" x1=\"730.5\" x2=\"825.5\" y1=\"78.9375\" y2=\"78.9375\"/></a><!--MD5=[ebbe1d658d1005bcc118a6aa81145e00]\n",
       "class E4--><a href=\"psysml:de3210e5-068c-44a8-9828-b5930a13c3bb\" target=\"_top\" title=\"psysml:de3210e5-068c-44a8-9828-b5930a13c3bb\" xlink:actuate=\"onRequest\" xlink:href=\"psysml:de3210e5-068c-44a8-9828-b5930a13c3bb\" xlink:show=\"new\" xlink:title=\"psysml:de3210e5-068c-44a8-9828-b5930a13c3bb\" xlink:type=\"simple\"><rect fill=\"#FEFECE\" filter=\"url(#fknmk5va6io26)\" height=\"45.9375\" id=\"E4\" style=\"stroke: #A80036; stroke-width: 1.5;\" width=\"134\" x=\"560\" y=\"41\"/><ellipse cx=\"575\" cy=\"59.9688\" fill=\"#A52A2A\" rx=\"11\" ry=\"11\" style=\"stroke: #A80036; stroke-width: 1.0;\"/><path d=\"M574.5938,55.7813 L574.5938,63.7656 L575.25,63.7656 Q576.6875,63.7656 577.2969,62.8594 Q577.9219,61.9375 577.9219,59.7656 Q577.9219,57.5938 577.2969,56.6875 Q576.6875,55.7813 575.25,55.7813 L574.5938,55.7813 Z M572.1406,53.5781 L574.7656,53.5781 Q577.7969,53.5781 579.125,55.0313 Q580.4688,56.4688 580.4688,59.7656 Q580.4688,63.0625 579.125,64.5156 Q577.7969,65.9688 574.7656,65.9688 L572.1406,65.9688 L572.1406,53.5781 Z \"/><text fill=\"#000000\" font-family=\"sans-serif\" font-size=\"12\" font-style=\"italic\" lengthAdjust=\"spacingAndGlyphs\" textLength=\"106\" x=\"587\" y=\"57.1387\">«calculation def»</text><text fill=\"#000000\" font-family=\"sans-serif\" font-size=\"12\" lengthAdjust=\"spacingAndGlyphs\" textLength=\"7\" x=\"636.5\" y=\"71.1074\">F</text><line style=\"stroke: #A80036; stroke-width: 1.5;\" x1=\"561\" x2=\"693\" y1=\"78.9375\" y2=\"78.9375\"/></a><!--MD5=[270fce915f116d4de14055a7c1d9a0f3]\n",
       "class E5--><a href=\"psysml:8c3ddf1b-2d8e-48f9-8bd9-e07e4f9dde48\" target=\"_top\" title=\"psysml:8c3ddf1b-2d8e-48f9-8bd9-e07e4f9dde48\" xlink:actuate=\"onRequest\" xlink:href=\"psysml:8c3ddf1b-2d8e-48f9-8bd9-e07e4f9dde48\" xlink:show=\"new\" xlink:title=\"psysml:8c3ddf1b-2d8e-48f9-8bd9-e07e4f9dde48\" xlink:type=\"simple\"><rect fill=\"#FEFECE\" filter=\"url(#fknmk5va6io26)\" height=\"45.9375\" id=\"E5\" rx=\"10\" ry=\"10\" style=\"stroke: #A80036; stroke-width: 1.5;\" width=\"97\" x=\"427.5\" y=\"41\"/><ellipse cx=\"442.5\" cy=\"59.9688\" fill=\"#FFA500\" rx=\"11\" ry=\"11\" style=\"stroke: #A80036; stroke-width: 1.0;\"/><path d=\"M438.375,61.8906 L438.375,54.0781 L440.8281,54.0781 L440.8281,62.5156 Q440.8281,63.4375 441.2969,63.9688 Q441.7813,64.5 442.6094,64.5 Q443.4531,64.5 443.9219,63.9688 Q444.3906,63.4375 444.3906,62.5156 L444.3906,54.0781 L446.8438,54.0781 L446.8438,61.8906 Q446.8438,64.4219 445.8438,65.5625 Q444.8438,66.7031 442.6094,66.7031 Q440.3906,66.7031 439.375,65.5625 Q438.375,64.4219 438.375,61.8906 Z \"/><text fill=\"#000000\" font-family=\"sans-serif\" font-size=\"12\" font-style=\"italic\" lengthAdjust=\"spacingAndGlyphs\" textLength=\"69\" x=\"454.5\" y=\"57.1387\">«attribute»</text><text fill=\"#000000\" font-family=\"sans-serif\" font-size=\"12\" lengthAdjust=\"spacingAndGlyphs\" textLength=\"4\" x=\"487\" y=\"71.1074\">f</text><line style=\"stroke: #A80036; stroke-width: 1.5;\" x1=\"428.5\" x2=\"523.5\" y1=\"78.9375\" y2=\"78.9375\"/></a><!--MD5=[60a26617385b1d2d0262a64233df1f8d]\n",
       "class E6--><a href=\"psysml:1f38f371-1f52-4b01-a20c-3f08ced1218d\" target=\"_top\" title=\"psysml:1f38f371-1f52-4b01-a20c-3f08ced1218d\" xlink:actuate=\"onRequest\" xlink:href=\"psysml:1f38f371-1f52-4b01-a20c-3f08ced1218d\" xlink:show=\"new\" xlink:title=\"psysml:1f38f371-1f52-4b01-a20c-3f08ced1218d\" xlink:type=\"simple\"><rect fill=\"#FEFECE\" filter=\"url(#fknmk5va6io26)\" height=\"45.9375\" id=\"E6\" rx=\"10\" ry=\"10\" style=\"stroke: #A80036; stroke-width: 1.5;\" width=\"97\" x=\"295.5\" y=\"41\"/><ellipse cx=\"310.5\" cy=\"59.9688\" fill=\"#FFA500\" rx=\"11\" ry=\"11\" style=\"stroke: #A80036; stroke-width: 1.0;\"/><path d=\"M306.375,61.8906 L306.375,54.0781 L308.8281,54.0781 L308.8281,62.5156 Q308.8281,63.4375 309.2969,63.9688 Q309.7813,64.5 310.6094,64.5 Q311.4531,64.5 311.9219,63.9688 Q312.3906,63.4375 312.3906,62.5156 L312.3906,54.0781 L314.8438,54.0781 L314.8438,61.8906 Q314.8438,64.4219 313.8438,65.5625 Q312.8438,66.7031 310.6094,66.7031 Q308.3906,66.7031 307.375,65.5625 Q306.375,64.4219 306.375,61.8906 Z \"/><text fill=\"#000000\" font-family=\"sans-serif\" font-size=\"12\" font-style=\"italic\" lengthAdjust=\"spacingAndGlyphs\" textLength=\"69\" x=\"322.5\" y=\"57.1387\">«attribute»</text><text fill=\"#000000\" font-family=\"sans-serif\" font-size=\"12\" lengthAdjust=\"spacingAndGlyphs\" textLength=\"8\" x=\"353\" y=\"71.1074\">g</text><line style=\"stroke: #A80036; stroke-width: 1.5;\" x1=\"296.5\" x2=\"391.5\" y1=\"78.9375\" y2=\"78.9375\"/></a><!--MD5=[2156ba9850f5573cc1fc38a6a4b2f02b]\n",
       "class E7--><a href=\"psysml:cd4f641f-a9ce-41b8-9b9f-d9b0f89951b2\" target=\"_top\" title=\"psysml:cd4f641f-a9ce-41b8-9b9f-d9b0f89951b2\" xlink:actuate=\"onRequest\" xlink:href=\"psysml:cd4f641f-a9ce-41b8-9b9f-d9b0f89951b2\" xlink:show=\"new\" xlink:title=\"psysml:cd4f641f-a9ce-41b8-9b9f-d9b0f89951b2\" xlink:type=\"simple\"><rect fill=\"#FEFECE\" filter=\"url(#fknmk5va6io26)\" height=\"45.9375\" id=\"E7\" rx=\"10\" ry=\"10\" style=\"stroke: #A80036; stroke-width: 1.5;\" width=\"97\" x=\"163.5\" y=\"41\"/><ellipse cx=\"178.5\" cy=\"59.9688\" fill=\"#FFA500\" rx=\"11\" ry=\"11\" style=\"stroke: #A80036; stroke-width: 1.0;\"/><path d=\"M174.375,61.8906 L174.375,54.0781 L176.8281,54.0781 L176.8281,62.5156 Q176.8281,63.4375 177.2969,63.9688 Q177.7813,64.5 178.6094,64.5 Q179.4531,64.5 179.9219,63.9688 Q180.3906,63.4375 180.3906,62.5156 L180.3906,54.0781 L182.8438,54.0781 L182.8438,61.8906 Q182.8438,64.4219 181.8438,65.5625 Q180.8438,66.7031 178.6094,66.7031 Q176.3906,66.7031 175.375,65.5625 Q174.375,64.4219 174.375,61.8906 Z \"/><text fill=\"#000000\" font-family=\"sans-serif\" font-size=\"12\" font-style=\"italic\" lengthAdjust=\"spacingAndGlyphs\" textLength=\"69\" x=\"190.5\" y=\"57.1387\">«attribute»</text><text fill=\"#000000\" font-family=\"sans-serif\" font-size=\"12\" lengthAdjust=\"spacingAndGlyphs\" textLength=\"8\" x=\"221\" y=\"71.1074\">b</text><line style=\"stroke: #A80036; stroke-width: 1.5;\" x1=\"164.5\" x2=\"259.5\" y1=\"78.9375\" y2=\"78.9375\"/></a><!--MD5=[b9389687b975829384b498ac4b7476b2]\n",
       "class E8--><a href=\"psysml:5033f0bf-ffeb-4313-b85b-4258ec8a052c\" target=\"_top\" title=\"psysml:5033f0bf-ffeb-4313-b85b-4258ec8a052c\" xlink:actuate=\"onRequest\" xlink:href=\"psysml:5033f0bf-ffeb-4313-b85b-4258ec8a052c\" xlink:show=\"new\" xlink:title=\"psysml:5033f0bf-ffeb-4313-b85b-4258ec8a052c\" xlink:type=\"simple\"><rect fill=\"#FEFECE\" filter=\"url(#fknmk5va6io26)\" height=\"45.9375\" id=\"E8\" rx=\"10\" ry=\"10\" style=\"stroke: #A80036; stroke-width: 1.5;\" width=\"97\" x=\"31.5\" y=\"41\"/><ellipse cx=\"46.5\" cy=\"59.9688\" fill=\"#FFA500\" rx=\"11\" ry=\"11\" style=\"stroke: #A80036; stroke-width: 1.0;\"/><path d=\"M42.375,61.8906 L42.375,54.0781 L44.8281,54.0781 L44.8281,62.5156 Q44.8281,63.4375 45.2969,63.9688 Q45.7813,64.5 46.6094,64.5 Q47.4531,64.5 47.9219,63.9688 Q48.3906,63.4375 48.3906,62.5156 L48.3906,54.0781 L50.8438,54.0781 L50.8438,61.8906 Q50.8438,64.4219 49.8438,65.5625 Q48.8438,66.7031 46.6094,66.7031 Q44.3906,66.7031 43.375,65.5625 Q42.375,64.4219 42.375,61.8906 Z \"/><text fill=\"#000000\" font-family=\"sans-serif\" font-size=\"12\" font-style=\"italic\" lengthAdjust=\"spacingAndGlyphs\" textLength=\"69\" x=\"58.5\" y=\"57.1387\">«attribute»</text><text fill=\"#000000\" font-family=\"sans-serif\" font-size=\"12\" lengthAdjust=\"spacingAndGlyphs\" textLength=\"7\" x=\"89.5\" y=\"71.1074\">c</text><line style=\"stroke: #A80036; stroke-width: 1.5;\" x1=\"32.5\" x2=\"127.5\" y1=\"78.9375\" y2=\"78.9375\"/></a><!--MD5=[05d275557350bfb9b23a4ef7222b4c39]\n",
       "link E3 to E2--><a href=\"psysml:94762400-f967-4f4d-9ae0-7f515d54317a\" target=\"_top\" title=\"psysml:94762400-f967-4f4d-9ae0-7f515d54317a\" xlink:actuate=\"onRequest\" xlink:href=\"psysml:94762400-f967-4f4d-9ae0-7f515d54317a\" xlink:show=\"new\" xlink:title=\"psysml:94762400-f967-4f4d-9ae0-7f515d54317a\" xlink:type=\"simple\"><path d=\"M765.62,87.13 C756.62,103.2 744.05,125.65 732.54,146.23 \" fill=\"none\" id=\"E3-&gt;E2\" style=\"stroke: #A80036; stroke-width: 1.0;\"/><polygon fill=\"#FFFFFF\" points=\"722.6,163.99,725.7664,143.9907,737.9848,150.8253,722.6,163.99\" style=\"stroke: #A80036; stroke-width: 1.0;\"/><ellipse cx=\"730.2946\" cy=\"139.9924\" fill=\"#A80036\" rx=\"2\" ry=\"2\" style=\"stroke: #A80036; stroke-width: 1.0;\"/><ellipse cx=\"739.022\" cy=\"144.8743\" fill=\"#A80036\" rx=\"2\" ry=\"2\" style=\"stroke: #A80036; stroke-width: 1.0;\"/></a><!--MD5=[ddeed8deb2209213b62e6cfabaa108b2]\n",
       "reverse link E4 to E2--><a href=\"psysml:6f03e5ff-f747-4209-970e-6a43677acfe5\" target=\"_top\" title=\"psysml:6f03e5ff-f747-4209-970e-6a43677acfe5\" xlink:actuate=\"onRequest\" xlink:href=\"psysml:6f03e5ff-f747-4209-970e-6a43677acfe5\" xlink:show=\"new\" xlink:title=\"psysml:6f03e5ff-f747-4209-970e-6a43677acfe5\" xlink:type=\"simple\"><path d=\"M645.99,98.48 C657.31,118.44 671.67,143.76 683.14,163.99 \" fill=\"none\" id=\"E4&lt;-E2\" style=\"stroke: #A80036; stroke-width: 1.0;\"/><polygon fill=\"#FFFFFF\" points=\"639.55,87.13,639.0333,94.3226,645.4738,97.5659,645.9905,90.3734,639.55,87.13\" style=\"stroke: #A80036; stroke-width: 1.0;\"/><text fill=\"#000000\" font-family=\"sans-serif\" font-size=\"13\" lengthAdjust=\"spacingAndGlyphs\" textLength=\"8\" x=\"666\" y=\"130.0669\">p</text></a><!--MD5=[5bc0550f979243d3426e90baf9cf6185]\n",
       "@startuml\r\n",
       " \r\n",
       "package \"ParameterTest\" as E1  [[psysml:88bd93f8-a024-442a-9349-d26cb2f873a0 ]]  {\r\n",
       "comp def \"A\" as E2  <<(D,brown)attribute def>> [[psysml:2f5789b5-3949-40b4-8579-f7414350119a ]] {\r\n",
       "x: String\r\n",
       "y: A\r\n",
       "}\r\n",
       "comp usage \"a: A\" as E3  <<(U,orange)attribute>> [[psysml:02928bc4-0eb7-4367-aa3f-5ffb35356b49 ]] {\r\n",
       "}\r\n",
       "comp def \"F\" as E4  <<(D,brown)calculation def>> [[psysml:de3210e5-068c-44a8-9828-b5930a13c3bb ]] {\r\n",
       "}\r\n",
       "comp usage \"f\" as E5  <<(U,orange)attribute>> [[psysml:8c3ddf1b-2d8e-48f9-8bd9-e07e4f9dde48 ]] {\r\n",
       "}\r\n",
       "comp usage \"g\" as E6  <<(U,orange)attribute>> [[psysml:1f38f371-1f52-4b01-a20c-3f08ced1218d ]] {\r\n",
       "}\r\n",
       "comp usage \"b\" as E7  <<(U,orange)attribute>> [[psysml:cd4f641f-a9ce-41b8-9b9f-d9b0f89951b2 ]] {\r\n",
       "}\r\n",
       "comp usage \"c\" as E8  <<(U,orange)attribute>> [[psysml:5033f0bf-ffeb-4313-b85b-4258ec8a052c ]] {\r\n",
       "}\r\n",
       "E3 - -:|> E2 [[psysml:94762400-f967-4f4d-9ae0-7f515d54317a ]] \r\n",
       "E4 o- - E2 [[psysml:6f03e5ff-f747-4209-970e-6a43677acfe5 ]] : p\r\n",
       "}\r\n",
       "@enduml\r\n",
       "\n",
       "PlantUML version 1.2020.13(Sat Jun 13 12:26:38 UTC 2020)\n",
       "(EPL source distribution)\n",
       "Java Runtime: OpenJDK Runtime Environment\n",
       "JVM: OpenJDK 64-Bit Server VM\n",
       "Default Encoding: UTF-8\n",
       "Language: en\n",
       "Country: null\n",
       "--></g></svg>"
      ]
     },
     "execution_count": 31,
     "metadata": {},
     "output_type": "execute_result"
    }
   ],
   "source": [
    "%viz --style=\"PLANTUML\" --view=\"Tree\" \"ParameterTest\""
   ]
  },
  {
   "cell_type": "code",
   "execution_count": 32,
   "id": "complex-starter",
   "metadata": {
    "execution": {
     "iopub.execute_input": "2021-03-26T13:01:41.979601Z",
     "iopub.status.busy": "2021-03-26T13:01:41.978674Z",
     "iopub.status.idle": "2021-03-26T13:01:42.117152Z",
     "shell.execute_reply": "2021-03-26T13:01:42.115657Z"
    }
   },
   "outputs": [
    {
     "data": {
      "image/svg+xml": [
       "<?xml version=\"1.0\" encoding=\"UTF-8\" standalone=\"no\"?><svg xmlns=\"http://www.w3.org/2000/svg\" xmlns:xlink=\"http://www.w3.org/1999/xlink\" contentScriptType=\"application/ecmascript\" contentStyleType=\"text/css\" height=\"410px\" preserveAspectRatio=\"none\" style=\"width:603px;height:410px;background:#000000;\" version=\"1.1\" viewBox=\"0 0 603 410\" width=\"603px\" zoomAndPan=\"magnify\"><defs/><g><rect fill=\"#0C0F06\" height=\"1\" style=\"stroke: #0C0F06; stroke-width: 1.0;\" width=\"1\" x=\"0\" y=\"0\"/><rect fill=\"#FFFFFF\" height=\"53\" style=\"stroke: #FFFFFF; stroke-width: 1.0;\" width=\"602\" x=\"0\" y=\"0\"/><image height=\"53\" width=\"450\" x=\"1\" xlink:href=\"data:image/png;base64,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\" y=\"1\"/><rect fill=\"#FFFFFF\" height=\"205.5625\" style=\"stroke: #FFFFFF; stroke-width: 1.0;\" width=\"602\" x=\"0\" y=\"53\"/><text fill=\"#000000\" font-family=\"sans-serif\" font-size=\"12\" font-weight=\"bold\" lengthAdjust=\"spacingAndGlyphs\" textLength=\"159\" x=\"5\" y=\"69.1387\">Welcome to PlantUML!</text><text fill=\"#000000\" font-family=\"sans-serif\" font-size=\"12\" lengthAdjust=\"spacingAndGlyphs\" textLength=\"0\" x=\"9\" y=\"83.1074\"/><text fill=\"#000000\" font-family=\"sans-serif\" font-size=\"12\" lengthAdjust=\"spacingAndGlyphs\" textLength=\"293\" x=\"5\" y=\"97.0762\">If you use this software, you accept its license.</text><text fill=\"#000000\" font-family=\"sans-serif\" font-size=\"12\" lengthAdjust=\"spacingAndGlyphs\" textLength=\"107\" x=\"5\" y=\"111.0449\">(details by typing</text><text fill=\"#000000\" font-family=\"monospace\" font-size=\"12\" lengthAdjust=\"spacingAndGlyphs\" textLength=\"49\" x=\"116\" y=\"111.0449\">license</text><text fill=\"#000000\" font-family=\"sans-serif\" font-size=\"12\" lengthAdjust=\"spacingAndGlyphs\" textLength=\"56\" x=\"169\" y=\"111.0449\">keyword)</text><text fill=\"#000000\" font-family=\"sans-serif\" font-size=\"12\" lengthAdjust=\"spacingAndGlyphs\" textLength=\"0\" x=\"9\" y=\"125.0137\"/><text fill=\"#000000\" font-family=\"sans-serif\" font-size=\"12\" lengthAdjust=\"spacingAndGlyphs\" textLength=\"283\" x=\"5\" y=\"138.9824\">You can start with a simple UML Diagram like:</text><text fill=\"#000000\" font-family=\"sans-serif\" font-size=\"12\" lengthAdjust=\"spacingAndGlyphs\" textLength=\"0\" x=\"9\" y=\"152.9512\"/><text fill=\"#000000\" font-family=\"monospace\" font-size=\"12\" lengthAdjust=\"spacingAndGlyphs\" textLength=\"119\" x=\"5\" y=\"166.9199\">Bob-&gt;Alice: Hello</text><text fill=\"#000000\" font-family=\"sans-serif\" font-size=\"12\" lengthAdjust=\"spacingAndGlyphs\" textLength=\"0\" x=\"9\" y=\"180.8887\"/><text fill=\"#000000\" font-family=\"sans-serif\" font-size=\"12\" lengthAdjust=\"spacingAndGlyphs\" textLength=\"14\" x=\"5\" y=\"194.8574\">Or</text><text fill=\"#000000\" font-family=\"sans-serif\" font-size=\"12\" lengthAdjust=\"spacingAndGlyphs\" textLength=\"0\" x=\"9\" y=\"208.8262\"/><text fill=\"#000000\" font-family=\"monospace\" font-size=\"12\" lengthAdjust=\"spacingAndGlyphs\" textLength=\"91\" x=\"5\" y=\"222.7949\">class Example</text><text fill=\"#000000\" font-family=\"sans-serif\" font-size=\"12\" lengthAdjust=\"spacingAndGlyphs\" textLength=\"0\" x=\"9\" y=\"236.7637\"/><text fill=\"#000000\" font-family=\"sans-serif\" font-size=\"12\" lengthAdjust=\"spacingAndGlyphs\" textLength=\"349\" x=\"5\" y=\"250.7324\">You will find more information about PlantUML syntax on</text><text fill=\"#000000\" font-family=\"sans-serif\" font-size=\"12\" lengthAdjust=\"spacingAndGlyphs\" text-decoration=\"underline\" textLength=\"129\" x=\"358\" y=\"250.7324\">https://plantuml.com</text><image height=\"71\" width=\"80\" x=\"516\" xlink:href=\"data:image/png;base64,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\" y=\"59\"/><rect fill=\"#000000\" height=\"96.4844\" style=\"stroke: #000000; stroke-width: 1.0;\" width=\"602\" x=\"0\" y=\"258.5625\"/><rect fill=\"#33FF02\" height=\"21.2969\" style=\"stroke: #33FF02; stroke-width: 1.0;\" width=\"170\" x=\"5\" y=\"263.5625\"/><text fill=\"#000000\" font-family=\"sans-serif\" font-size=\"14\" font-weight=\"bold\" lengthAdjust=\"spacingAndGlyphs\" textLength=\"168\" x=\"6\" y=\"278.5625\">[From string (line 2) ]</text><text fill=\"#33FF02\" font-family=\"sans-serif\" font-size=\"14\" font-weight=\"bold\" lengthAdjust=\"spacingAndGlyphs\" textLength=\"0\" x=\"10\" y=\"298.8594\"/><text fill=\"#33FF02\" font-family=\"sans-serif\" font-size=\"14\" font-weight=\"bold\" lengthAdjust=\"spacingAndGlyphs\" textLength=\"79\" x=\"5\" y=\"315.1563\">@startuml</text><text fill=\"#33FF02\" font-family=\"sans-serif\" font-size=\"14\" font-weight=\"bold\" lengthAdjust=\"spacingAndGlyphs\" textLength=\"0\" x=\"10\" y=\"331.4531\"/><text fill=\"#FF0000\" font-family=\"sans-serif\" font-size=\"14\" font-weight=\"bold\" lengthAdjust=\"spacingAndGlyphs\" textLength=\"142\" x=\"10\" y=\"347.75\">Empty description</text><rect fill=\"#FFFFFF\" height=\"53\" style=\"stroke: #FFFFFF; stroke-width: 1.0;\" width=\"602\" x=\"0\" y=\"355.0469\"/><image height=\"53\" width=\"450\" x=\"1\" xlink:href=\"data:image/png;base64,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\" y=\"356.0469\"/><!--MD5=[f59edd8218d337f74d0c332fc6737304]\n",
       "@startuml\r\n",
       " \r\n",
       "@enduml\r\n",
       "\n",
       "PlantUML version 1.2020.13(Sat Jun 13 12:26:38 UTC 2020)\n",
       "(EPL source distribution)\n",
       "Java Runtime: OpenJDK Runtime Environment\n",
       "JVM: OpenJDK 64-Bit Server VM\n",
       "Default Encoding: UTF-8\n",
       "Language: en\n",
       "Country: null\n",
       "--></g></svg>"
      ]
     },
     "execution_count": 32,
     "metadata": {},
     "output_type": "execute_result"
    }
   ],
   "source": [
    "%viz --style=\"PLANTUML\" --view=\"State\" \"ParameterTest\""
   ]
  },
  {
   "cell_type": "code",
   "execution_count": 33,
   "id": "comic-numbers",
   "metadata": {
    "execution": {
     "iopub.execute_input": "2021-03-26T13:01:42.223184Z",
     "iopub.status.busy": "2021-03-26T13:01:42.222634Z",
     "iopub.status.idle": "2021-03-26T13:01:42.255477Z",
     "shell.execute_reply": "2021-03-26T13:01:42.253934Z"
    }
   },
   "outputs": [
    {
     "data": {
      "image/svg+xml": [
       "<?xml version=\"1.0\" encoding=\"UTF-8\" standalone=\"no\"?><svg xmlns=\"http://www.w3.org/2000/svg\" xmlns:xlink=\"http://www.w3.org/1999/xlink\" contentScriptType=\"application/ecmascript\" contentStyleType=\"text/css\" height=\"112px\" preserveAspectRatio=\"none\" style=\"width:1056px;height:112px;\" version=\"1.1\" viewBox=\"0 0 1056 112\" width=\"1056px\" zoomAndPan=\"magnify\"><defs><filter height=\"300%\" id=\"f12wo4ttdccnmz\" width=\"300%\" x=\"-1\" y=\"-1\"><feGaussianBlur result=\"blurOut\" stdDeviation=\"2.0\"/><feColorMatrix in=\"blurOut\" result=\"blurOut2\" type=\"matrix\" values=\"0 0 0 0 0 0 0 0 0 0 0 0 0 0 0 0 0 0 .4 0\"/><feOffset dx=\"4.0\" dy=\"4.0\" in=\"blurOut2\" result=\"blurOut3\"/><feBlend in=\"SourceGraphic\" in2=\"blurOut3\" mode=\"normal\"/></filter></defs><g><!--MD5=[fbc87193dbaf4d95561dea2c320d4a47]\n",
       "cluster E1--><a href=\"psysml:88bd93f8-a024-442a-9349-d26cb2f873a0\" target=\"_top\" title=\"psysml:88bd93f8-a024-442a-9349-d26cb2f873a0\" xlink:actuate=\"onRequest\" xlink:href=\"psysml:88bd93f8-a024-442a-9349-d26cb2f873a0\" xlink:show=\"new\" xlink:title=\"psysml:88bd93f8-a024-442a-9349-d26cb2f873a0\" xlink:type=\"simple\"><polygon fill=\"#FFFFFF\" filter=\"url(#f12wo4ttdccnmz)\" points=\"16,6,139,6,146,28.2969,1034,28.2969,1034,100,16,100,16,6\" style=\"stroke: #000000; stroke-width: 1.5;\"/><line style=\"stroke: #000000; stroke-width: 1.5;\" x1=\"16\" x2=\"146\" y1=\"28.2969\" y2=\"28.2969\"/><text fill=\"#000000\" font-family=\"sans-serif\" font-size=\"14\" font-weight=\"bold\" lengthAdjust=\"spacingAndGlyphs\" textLength=\"117\" x=\"20\" y=\"20.9951\">ParameterTest</text></a><g id=\"E1.E2\"><a href=\"psysml:2f5789b5-3949-40b4-8579-f7414350119a\" target=\"_top\" title=\"psysml:2f5789b5-3949-40b4-8579-f7414350119a\" xlink:actuate=\"onRequest\" xlink:href=\"psysml:2f5789b5-3949-40b4-8579-f7414350119a\" xlink:show=\"new\" xlink:title=\"psysml:2f5789b5-3949-40b4-8579-f7414350119a\" xlink:type=\"simple\"><rect fill=\"#FEFECE\" filter=\"url(#f12wo4ttdccnmz)\" height=\"42.9375\" id=\"E2\" style=\"stroke: #A80036; stroke-width: 1.5;\" width=\"126\" x=\"892\" y=\"41\"/><ellipse cx=\"909.25\" cy=\"59.9688\" fill=\"#A52A2A\" rx=\"11\" ry=\"11\" style=\"stroke: #A80036; stroke-width: 1.0;\"/><path d=\"M908.8438,55.7813 L908.8438,63.7656 L909.5,63.7656 Q910.9375,63.7656 911.5469,62.8594 Q912.1719,61.9375 912.1719,59.7656 Q912.1719,57.5938 911.5469,56.6875 Q910.9375,55.7813 909.5,55.7813 L908.8438,55.7813 Z M906.3906,53.5781 L909.0156,53.5781 Q912.0469,53.5781 913.375,55.0313 Q914.7188,56.4688 914.7188,59.7656 Q914.7188,63.0625 913.375,64.5156 Q912.0469,65.9688 909.0156,65.9688 L906.3906,65.9688 L906.3906,53.5781 Z \"/><text fill=\"#000000\" font-family=\"sans-serif\" font-size=\"12\" font-style=\"italic\" lengthAdjust=\"spacingAndGlyphs\" textLength=\"93\" x=\"921.75\" y=\"57.1387\">«attribute def»</text><text fill=\"#000000\" font-family=\"sans-serif\" font-size=\"12\" lengthAdjust=\"spacingAndGlyphs\" textLength=\"8\" x=\"964.25\" y=\"71.1074\">A</text></a></g><g id=\"E1.E4\"><a href=\"psysml:de3210e5-068c-44a8-9828-b5930a13c3bb\" target=\"_top\" title=\"psysml:de3210e5-068c-44a8-9828-b5930a13c3bb\" xlink:actuate=\"onRequest\" xlink:href=\"psysml:de3210e5-068c-44a8-9828-b5930a13c3bb\" xlink:show=\"new\" xlink:title=\"psysml:de3210e5-068c-44a8-9828-b5930a13c3bb\" xlink:type=\"simple\"><rect fill=\"#FEFECE\" filter=\"url(#f12wo4ttdccnmz)\" height=\"42.9375\" id=\"E4\" style=\"stroke: #A80036; stroke-width: 1.5;\" width=\"139\" x=\"717.5\" y=\"41\"/><ellipse cx=\"734.75\" cy=\"59.9688\" fill=\"#A52A2A\" rx=\"11\" ry=\"11\" style=\"stroke: #A80036; stroke-width: 1.0;\"/><path d=\"M734.3438,55.7813 L734.3438,63.7656 L735,63.7656 Q736.4375,63.7656 737.0469,62.8594 Q737.6719,61.9375 737.6719,59.7656 Q737.6719,57.5938 737.0469,56.6875 Q736.4375,55.7813 735,55.7813 L734.3438,55.7813 Z M731.8906,53.5781 L734.5156,53.5781 Q737.5469,53.5781 738.875,55.0313 Q740.2188,56.4688 740.2188,59.7656 Q740.2188,63.0625 738.875,64.5156 Q737.5469,65.9688 734.5156,65.9688 L731.8906,65.9688 L731.8906,53.5781 Z \"/><text fill=\"#000000\" font-family=\"sans-serif\" font-size=\"12\" font-style=\"italic\" lengthAdjust=\"spacingAndGlyphs\" textLength=\"106\" x=\"747.25\" y=\"57.1387\">«calculation def»</text><text fill=\"#000000\" font-family=\"sans-serif\" font-size=\"12\" lengthAdjust=\"spacingAndGlyphs\" textLength=\"7\" x=\"796.75\" y=\"71.1074\">F</text></a></g><g id=\"E1.E3\"><a href=\"psysml:02928bc4-0eb7-4367-aa3f-5ffb35356b49\" target=\"_top\" title=\"psysml:02928bc4-0eb7-4367-aa3f-5ffb35356b49\" xlink:actuate=\"onRequest\" xlink:href=\"psysml:02928bc4-0eb7-4367-aa3f-5ffb35356b49\" xlink:show=\"new\" xlink:title=\"psysml:02928bc4-0eb7-4367-aa3f-5ffb35356b49\" xlink:type=\"simple\"><rect fill=\"#FEFECE\" filter=\"url(#f12wo4ttdccnmz)\" height=\"42.9375\" id=\"E3\" rx=\"10\" ry=\"10\" style=\"stroke: #A80036; stroke-width: 1.5;\" width=\"102\" x=\"580\" y=\"41\"/><ellipse cx=\"597.25\" cy=\"59.9688\" fill=\"#FFA500\" rx=\"11\" ry=\"11\" style=\"stroke: #A80036; stroke-width: 1.0;\"/><path d=\"M593.125,61.8906 L593.125,54.0781 L595.5781,54.0781 L595.5781,62.5156 Q595.5781,63.4375 596.0469,63.9688 Q596.5313,64.5 597.3594,64.5 Q598.2031,64.5 598.6719,63.9688 Q599.1406,63.4375 599.1406,62.5156 L599.1406,54.0781 L601.5938,54.0781 L601.5938,61.8906 Q601.5938,64.4219 600.5938,65.5625 Q599.5938,66.7031 597.3594,66.7031 Q595.1406,66.7031 594.125,65.5625 Q593.125,64.4219 593.125,61.8906 Z \"/><text fill=\"#000000\" font-family=\"sans-serif\" font-size=\"12\" font-style=\"italic\" lengthAdjust=\"spacingAndGlyphs\" textLength=\"69\" x=\"609.75\" y=\"57.1387\">«attribute»</text><text fill=\"#000000\" font-family=\"sans-serif\" font-size=\"12\" lengthAdjust=\"spacingAndGlyphs\" textLength=\"24\" x=\"632.25\" y=\"71.1074\">a: A</text></a></g><g id=\"E1.E5\"><a href=\"psysml:8c3ddf1b-2d8e-48f9-8bd9-e07e4f9dde48\" target=\"_top\" title=\"psysml:8c3ddf1b-2d8e-48f9-8bd9-e07e4f9dde48\" xlink:actuate=\"onRequest\" xlink:href=\"psysml:8c3ddf1b-2d8e-48f9-8bd9-e07e4f9dde48\" xlink:show=\"new\" xlink:title=\"psysml:8c3ddf1b-2d8e-48f9-8bd9-e07e4f9dde48\" xlink:type=\"simple\"><rect fill=\"#FEFECE\" filter=\"url(#f12wo4ttdccnmz)\" height=\"42.9375\" id=\"E5\" rx=\"10\" ry=\"10\" style=\"stroke: #A80036; stroke-width: 1.5;\" width=\"102\" x=\"443\" y=\"41\"/><ellipse cx=\"460.25\" cy=\"59.9688\" fill=\"#FFA500\" rx=\"11\" ry=\"11\" style=\"stroke: #A80036; stroke-width: 1.0;\"/><path d=\"M456.125,61.8906 L456.125,54.0781 L458.5781,54.0781 L458.5781,62.5156 Q458.5781,63.4375 459.0469,63.9688 Q459.5313,64.5 460.3594,64.5 Q461.2031,64.5 461.6719,63.9688 Q462.1406,63.4375 462.1406,62.5156 L462.1406,54.0781 L464.5938,54.0781 L464.5938,61.8906 Q464.5938,64.4219 463.5938,65.5625 Q462.5938,66.7031 460.3594,66.7031 Q458.1406,66.7031 457.125,65.5625 Q456.125,64.4219 456.125,61.8906 Z \"/><text fill=\"#000000\" font-family=\"sans-serif\" font-size=\"12\" font-style=\"italic\" lengthAdjust=\"spacingAndGlyphs\" textLength=\"69\" x=\"472.75\" y=\"57.1387\">«attribute»</text><text fill=\"#000000\" font-family=\"sans-serif\" font-size=\"12\" lengthAdjust=\"spacingAndGlyphs\" textLength=\"4\" x=\"505.25\" y=\"71.1074\">f</text></a></g><g id=\"E1.E6\"><a href=\"psysml:1f38f371-1f52-4b01-a20c-3f08ced1218d\" target=\"_top\" title=\"psysml:1f38f371-1f52-4b01-a20c-3f08ced1218d\" xlink:actuate=\"onRequest\" xlink:href=\"psysml:1f38f371-1f52-4b01-a20c-3f08ced1218d\" xlink:show=\"new\" xlink:title=\"psysml:1f38f371-1f52-4b01-a20c-3f08ced1218d\" xlink:type=\"simple\"><rect fill=\"#FEFECE\" filter=\"url(#f12wo4ttdccnmz)\" height=\"42.9375\" id=\"E6\" rx=\"10\" ry=\"10\" style=\"stroke: #A80036; stroke-width: 1.5;\" width=\"102\" x=\"306\" y=\"41\"/><ellipse cx=\"323.25\" cy=\"59.9688\" fill=\"#FFA500\" rx=\"11\" ry=\"11\" style=\"stroke: #A80036; stroke-width: 1.0;\"/><path d=\"M319.125,61.8906 L319.125,54.0781 L321.5781,54.0781 L321.5781,62.5156 Q321.5781,63.4375 322.0469,63.9688 Q322.5313,64.5 323.3594,64.5 Q324.2031,64.5 324.6719,63.9688 Q325.1406,63.4375 325.1406,62.5156 L325.1406,54.0781 L327.5938,54.0781 L327.5938,61.8906 Q327.5938,64.4219 326.5938,65.5625 Q325.5938,66.7031 323.3594,66.7031 Q321.1406,66.7031 320.125,65.5625 Q319.125,64.4219 319.125,61.8906 Z \"/><text fill=\"#000000\" font-family=\"sans-serif\" font-size=\"12\" font-style=\"italic\" lengthAdjust=\"spacingAndGlyphs\" textLength=\"69\" x=\"335.75\" y=\"57.1387\">«attribute»</text><text fill=\"#000000\" font-family=\"sans-serif\" font-size=\"12\" lengthAdjust=\"spacingAndGlyphs\" textLength=\"8\" x=\"366.25\" y=\"71.1074\">g</text></a></g><g id=\"E1.E7\"><a href=\"psysml:cd4f641f-a9ce-41b8-9b9f-d9b0f89951b2\" target=\"_top\" title=\"psysml:cd4f641f-a9ce-41b8-9b9f-d9b0f89951b2\" xlink:actuate=\"onRequest\" xlink:href=\"psysml:cd4f641f-a9ce-41b8-9b9f-d9b0f89951b2\" xlink:show=\"new\" xlink:title=\"psysml:cd4f641f-a9ce-41b8-9b9f-d9b0f89951b2\" xlink:type=\"simple\"><rect fill=\"#FEFECE\" filter=\"url(#f12wo4ttdccnmz)\" height=\"42.9375\" id=\"E7\" rx=\"10\" ry=\"10\" style=\"stroke: #A80036; stroke-width: 1.5;\" width=\"102\" x=\"169\" y=\"41\"/><ellipse cx=\"186.25\" cy=\"59.9688\" fill=\"#FFA500\" rx=\"11\" ry=\"11\" style=\"stroke: #A80036; stroke-width: 1.0;\"/><path d=\"M182.125,61.8906 L182.125,54.0781 L184.5781,54.0781 L184.5781,62.5156 Q184.5781,63.4375 185.0469,63.9688 Q185.5313,64.5 186.3594,64.5 Q187.2031,64.5 187.6719,63.9688 Q188.1406,63.4375 188.1406,62.5156 L188.1406,54.0781 L190.5938,54.0781 L190.5938,61.8906 Q190.5938,64.4219 189.5938,65.5625 Q188.5938,66.7031 186.3594,66.7031 Q184.1406,66.7031 183.125,65.5625 Q182.125,64.4219 182.125,61.8906 Z \"/><text fill=\"#000000\" font-family=\"sans-serif\" font-size=\"12\" font-style=\"italic\" lengthAdjust=\"spacingAndGlyphs\" textLength=\"69\" x=\"198.75\" y=\"57.1387\">«attribute»</text><text fill=\"#000000\" font-family=\"sans-serif\" font-size=\"12\" lengthAdjust=\"spacingAndGlyphs\" textLength=\"8\" x=\"229.25\" y=\"71.1074\">b</text></a></g><g id=\"E1.E8\"><a href=\"psysml:5033f0bf-ffeb-4313-b85b-4258ec8a052c\" target=\"_top\" title=\"psysml:5033f0bf-ffeb-4313-b85b-4258ec8a052c\" xlink:actuate=\"onRequest\" xlink:href=\"psysml:5033f0bf-ffeb-4313-b85b-4258ec8a052c\" xlink:show=\"new\" xlink:title=\"psysml:5033f0bf-ffeb-4313-b85b-4258ec8a052c\" xlink:type=\"simple\"><rect fill=\"#FEFECE\" filter=\"url(#f12wo4ttdccnmz)\" height=\"42.9375\" id=\"E8\" rx=\"10\" ry=\"10\" style=\"stroke: #A80036; stroke-width: 1.5;\" width=\"102\" x=\"32\" y=\"41\"/><ellipse cx=\"49.25\" cy=\"59.9688\" fill=\"#FFA500\" rx=\"11\" ry=\"11\" style=\"stroke: #A80036; stroke-width: 1.0;\"/><path d=\"M45.125,61.8906 L45.125,54.0781 L47.5781,54.0781 L47.5781,62.5156 Q47.5781,63.4375 48.0469,63.9688 Q48.5313,64.5 49.3594,64.5 Q50.2031,64.5 50.6719,63.9688 Q51.1406,63.4375 51.1406,62.5156 L51.1406,54.0781 L53.5938,54.0781 L53.5938,61.8906 Q53.5938,64.4219 52.5938,65.5625 Q51.5938,66.7031 49.3594,66.7031 Q47.1406,66.7031 46.125,65.5625 Q45.125,64.4219 45.125,61.8906 Z \"/><text fill=\"#000000\" font-family=\"sans-serif\" font-size=\"12\" font-style=\"italic\" lengthAdjust=\"spacingAndGlyphs\" textLength=\"69\" x=\"61.75\" y=\"57.1387\">«attribute»</text><text fill=\"#000000\" font-family=\"sans-serif\" font-size=\"12\" lengthAdjust=\"spacingAndGlyphs\" textLength=\"7\" x=\"92.75\" y=\"71.1074\">c</text></a></g><!--MD5=[21ea61a7c457bb0acd6c835106a09d02]\n",
       "@startuml\r\n",
       "skinparam ranksep 8\r\n",
       "skinparam rectangle {\r\n",
       " backgroundColor<<block>> LightGreen\r\n",
       "}\r\n",
       " \r\n",
       "package \"ParameterTest\" as E1  [[psysml:88bd93f8-a024-442a-9349-d26cb2f873a0 ]]  {\r\n",
       "def \"A\" as E2  <<(D,brown)attribute def>> [[psysml:2f5789b5-3949-40b4-8579-f7414350119a ]] \r\n",
       "rec usage \"a: A\" as E3  <<(U,orange)attribute>> [[psysml:02928bc4-0eb7-4367-aa3f-5ffb35356b49 ]] {\r\n",
       "}\r\n",
       "def \"F\" as E4  <<(D,brown)calculation def>> [[psysml:de3210e5-068c-44a8-9828-b5930a13c3bb ]] \r\n",
       "rec usage \"f\" as E5  <<(U,orange)attribute>> [[psysml:8c3ddf1b-2d8e-48f9-8bd9-e07e4f9dde48 ]] {\r\n",
       "}\r\n",
       "rec usage \"g\" as E6  <<(U,orange)attribute>> [[psysml:1f38f371-1f52-4b01-a20c-3f08ced1218d ]] {\r\n",
       "}\r\n",
       "rec usage \"b\" as E7  <<(U,orange)attribute>> [[psysml:cd4f641f-a9ce-41b8-9b9f-d9b0f89951b2 ]] {\r\n",
       "}\r\n",
       "rec usage \"c\" as E8  <<(U,orange)attribute>> [[psysml:5033f0bf-ffeb-4313-b85b-4258ec8a052c ]] {\r\n",
       "}\r\n",
       "}\r\n",
       "@enduml\r\n",
       "\n",
       "PlantUML version 1.2020.13(Sat Jun 13 12:26:38 UTC 2020)\n",
       "(EPL source distribution)\n",
       "Java Runtime: OpenJDK Runtime Environment\n",
       "JVM: OpenJDK 64-Bit Server VM\n",
       "Default Encoding: UTF-8\n",
       "Language: en\n",
       "Country: null\n",
       "--></g></svg>"
      ]
     },
     "execution_count": 33,
     "metadata": {},
     "output_type": "execute_result"
    }
   ],
   "source": [
    "%viz --style=\"PLANTUML\" --view=\"Interconnection\" \"ParameterTest\""
   ]
  },
  {
   "cell_type": "code",
   "execution_count": 34,
   "id": "structured-portfolio",
   "metadata": {
    "execution": {
     "iopub.execute_input": "2021-03-26T13:01:42.305621Z",
     "iopub.status.busy": "2021-03-26T13:01:42.305242Z",
     "iopub.status.idle": "2021-03-26T13:01:42.324464Z",
     "shell.execute_reply": "2021-03-26T13:01:42.323922Z"
    }
   },
   "outputs": [
    {
     "data": {
      "image/svg+xml": [
       "<?xml version=\"1.0\" encoding=\"UTF-8\" standalone=\"no\"?><svg xmlns=\"http://www.w3.org/2000/svg\" xmlns:xlink=\"http://www.w3.org/1999/xlink\" contentScriptType=\"application/ecmascript\" contentStyleType=\"text/css\" height=\"134px\" preserveAspectRatio=\"none\" style=\"width:174px;height:134px;\" version=\"1.1\" viewBox=\"0 0 174 134\" width=\"174px\" zoomAndPan=\"magnify\"><defs><filter height=\"300%\" id=\"f88lcfhmb5knq\" width=\"300%\" x=\"-1\" y=\"-1\"><feGaussianBlur result=\"blurOut\" stdDeviation=\"2.0\"/><feColorMatrix in=\"blurOut\" result=\"blurOut2\" type=\"matrix\" values=\"0 0 0 0 0 0 0 0 0 0 0 0 0 0 0 0 0 0 .4 0\"/><feOffset dx=\"4.0\" dy=\"4.0\" in=\"blurOut2\" result=\"blurOut3\"/><feBlend in=\"SourceGraphic\" in2=\"blurOut3\" mode=\"normal\"/></filter></defs><g><!--MD5=[fbc87193dbaf4d95561dea2c320d4a47]\n",
       "cluster E1--><a href=\"psysml:de3210e5-068c-44a8-9828-b5930a13c3bb\" target=\"_top\" title=\"psysml:de3210e5-068c-44a8-9828-b5930a13c3bb\" xlink:actuate=\"onRequest\" xlink:href=\"psysml:de3210e5-068c-44a8-9828-b5930a13c3bb\" xlink:show=\"new\" xlink:title=\"psysml:de3210e5-068c-44a8-9828-b5930a13c3bb\" xlink:type=\"simple\"><rect fill=\"#FFFFFF\" filter=\"url(#f88lcfhmb5knq)\" height=\"73\" id=\"E1\" style=\"stroke: #A80036; stroke-width: 1.5;\" width=\"148\" x=\"7\" y=\"42.0986\"/><rect fill=\"#FEFECE\" height=\"37.9375\" style=\"stroke: #A80036; stroke-width: 1.5;\" width=\"148\" x=\"7\" y=\"42.0986\"/><text fill=\"#000000\" font-family=\"sans-serif\" font-size=\"12\" font-style=\"italic\" lengthAdjust=\"spacingAndGlyphs\" textLength=\"106\" x=\"28\" y=\"58.2373\">«calculation def»</text><text fill=\"#000000\" font-family=\"sans-serif\" font-size=\"12\" lengthAdjust=\"spacingAndGlyphs\" textLength=\"7\" x=\"77.5\" y=\"72.2061\">F</text></a><text fill=\"#000000\" font-family=\"sans-serif\" font-size=\"14\" lengthAdjust=\"spacingAndGlyphs\" textLength=\"9\" x=\"20.5\" y=\"20.7969\">p</text><rect fill=\"#A80036\" height=\"12\" style=\"stroke: #FEFECE; stroke-width: 1.5;\" width=\"12\" x=\"19\" y=\"36.0986\"/><text fill=\"#000000\" font-family=\"sans-serif\" font-size=\"14\" lengthAdjust=\"spacingAndGlyphs\" textLength=\"9\" x=\"67.5\" y=\"20.7969\">q</text><rect fill=\"#A80036\" height=\"12\" style=\"stroke: #FEFECE; stroke-width: 1.5;\" width=\"12\" x=\"66\" y=\"36.0986\"/><!--MD5=[d52279f7ad22102c4da1cfd91c476558]\n",
       "@startuml\r\n",
       "skinparam ranksep 8\r\n",
       " \r\n",
       "rec def \"F\" as E1  <<(D,brown)calculation def>> [[psysml:de3210e5-068c-44a8-9828-b5930a13c3bb ]] {\r\n",
       "portin \"p\" as E2  [[psysml:6f03e5ff-f747-4209-970e-6a43677acfe5 ]] \r\n",
       "portin \"q\" as E3  [[psysml:59b46d55-27e2-4503-b58c-744d75cefff1 ]] \r\n",
       "}\r\n",
       "\r\n",
       "@enduml\r\n",
       "\n",
       "PlantUML version 1.2020.13(Sat Jun 13 12:26:38 UTC 2020)\n",
       "(EPL source distribution)\n",
       "Java Runtime: OpenJDK Runtime Environment\n",
       "JVM: OpenJDK 64-Bit Server VM\n",
       "Default Encoding: UTF-8\n",
       "Language: en\n",
       "Country: null\n",
       "--></g></svg>"
      ]
     },
     "execution_count": 34,
     "metadata": {},
     "output_type": "execute_result"
    }
   ],
   "source": [
    "%viz --style=\"PLANTUML\" --view=\"Action\" \"ParameterTest\""
   ]
  },
  {
   "cell_type": "code",
   "execution_count": 35,
   "id": "polyphonic-boards",
   "metadata": {
    "execution": {
     "iopub.execute_input": "2021-03-26T13:01:42.375327Z",
     "iopub.status.busy": "2021-03-26T13:01:42.374793Z",
     "iopub.status.idle": "2021-03-26T13:01:42.414467Z",
     "shell.execute_reply": "2021-03-26T13:01:42.413184Z"
    }
   },
   "outputs": [
    {
     "data": {
      "image/svg+xml": [
       "<?xml version=\"1.0\" encoding=\"UTF-8\" standalone=\"no\"?><svg xmlns=\"http://www.w3.org/2000/svg\" xmlns:xlink=\"http://www.w3.org/1999/xlink\" contentScriptType=\"application/ecmascript\" contentStyleType=\"text/css\" height=\"264px\" preserveAspectRatio=\"none\" style=\"width:864px;height:264px;\" version=\"1.1\" viewBox=\"0 0 864 264\" width=\"864px\" zoomAndPan=\"magnify\"><defs><filter height=\"300%\" id=\"fknmk5va6io26\" width=\"300%\" x=\"-1\" y=\"-1\"><feGaussianBlur result=\"blurOut\" stdDeviation=\"2.0\"/><feColorMatrix in=\"blurOut\" result=\"blurOut2\" type=\"matrix\" values=\"0 0 0 0 0 0 0 0 0 0 0 0 0 0 0 0 0 0 .4 0\"/><feOffset dx=\"4.0\" dy=\"4.0\" in=\"blurOut2\" result=\"blurOut3\"/><feBlend in=\"SourceGraphic\" in2=\"blurOut3\" mode=\"normal\"/></filter></defs><g><!--MD5=[fbc87193dbaf4d95561dea2c320d4a47]\n",
       "cluster E1--><a href=\"psysml:88bd93f8-a024-442a-9349-d26cb2f873a0\" target=\"_top\" title=\"psysml:88bd93f8-a024-442a-9349-d26cb2f873a0\" xlink:actuate=\"onRequest\" xlink:href=\"psysml:88bd93f8-a024-442a-9349-d26cb2f873a0\" xlink:show=\"new\" xlink:title=\"psysml:88bd93f8-a024-442a-9349-d26cb2f873a0\" xlink:type=\"simple\"><polygon fill=\"#FFFFFF\" filter=\"url(#fknmk5va6io26)\" points=\"16,6,139,6,146,28.2969,842,28.2969,842,252,16,252,16,6\" style=\"stroke: #000000; stroke-width: 1.5;\"/><line style=\"stroke: #000000; stroke-width: 1.5;\" x1=\"16\" x2=\"146\" y1=\"28.2969\" y2=\"28.2969\"/><text fill=\"#000000\" font-family=\"sans-serif\" font-size=\"14\" font-weight=\"bold\" lengthAdjust=\"spacingAndGlyphs\" textLength=\"117\" x=\"20\" y=\"20.9951\">ParameterTest</text></a><!--MD5=[b4997ac47864f28c2f74865a473b2911]\n",
       "class E2--><a href=\"psysml:2f5789b5-3949-40b4-8579-f7414350119a\" target=\"_top\" title=\"psysml:2f5789b5-3949-40b4-8579-f7414350119a\" xlink:actuate=\"onRequest\" xlink:href=\"psysml:2f5789b5-3949-40b4-8579-f7414350119a\" xlink:show=\"new\" xlink:title=\"psysml:2f5789b5-3949-40b4-8579-f7414350119a\" xlink:type=\"simple\"><rect fill=\"#FEFECE\" filter=\"url(#fknmk5va6io26)\" height=\"71.5469\" id=\"E2\" style=\"stroke: #A80036; stroke-width: 1.5;\" width=\"121\" x=\"642.5\" y=\"164\"/><ellipse cx=\"657.5\" cy=\"182.9688\" fill=\"#A52A2A\" rx=\"11\" ry=\"11\" style=\"stroke: #A80036; stroke-width: 1.0;\"/><path d=\"M657.0938,178.7813 L657.0938,186.7656 L657.75,186.7656 Q659.1875,186.7656 659.7969,185.8594 Q660.4219,184.9375 660.4219,182.7656 Q660.4219,180.5938 659.7969,179.6875 Q659.1875,178.7813 657.75,178.7813 L657.0938,178.7813 Z M654.6406,176.5781 L657.2656,176.5781 Q660.2969,176.5781 661.625,178.0313 Q662.9688,179.4688 662.9688,182.7656 Q662.9688,186.0625 661.625,187.5156 Q660.2969,188.9688 657.2656,188.9688 L654.6406,188.9688 L654.6406,176.5781 Z \"/><text fill=\"#000000\" font-family=\"sans-serif\" font-size=\"12\" font-style=\"italic\" lengthAdjust=\"spacingAndGlyphs\" textLength=\"93\" x=\"669.5\" y=\"180.1387\">«attribute def»</text><text fill=\"#000000\" font-family=\"sans-serif\" font-size=\"12\" lengthAdjust=\"spacingAndGlyphs\" textLength=\"8\" x=\"712\" y=\"194.1074\">A</text><line style=\"stroke: #A80036; stroke-width: 1.5;\" x1=\"643.5\" x2=\"762.5\" y1=\"201.9375\" y2=\"201.9375\"/><text fill=\"#000000\" font-family=\"sans-serif\" font-size=\"11\" lengthAdjust=\"spacingAndGlyphs\" textLength=\"48\" x=\"648.5\" y=\"216.1479\">x: String</text><text fill=\"#000000\" font-family=\"sans-serif\" font-size=\"11\" lengthAdjust=\"spacingAndGlyphs\" textLength=\"21\" x=\"648.5\" y=\"228.9526\">y: A</text></a><!--MD5=[09b614a08d8cba4a07c9adeb5e0fee81]\n",
       "class E3--><a href=\"psysml:02928bc4-0eb7-4367-aa3f-5ffb35356b49\" target=\"_top\" title=\"psysml:02928bc4-0eb7-4367-aa3f-5ffb35356b49\" xlink:actuate=\"onRequest\" xlink:href=\"psysml:02928bc4-0eb7-4367-aa3f-5ffb35356b49\" xlink:show=\"new\" xlink:title=\"psysml:02928bc4-0eb7-4367-aa3f-5ffb35356b49\" xlink:type=\"simple\"><rect fill=\"#FEFECE\" filter=\"url(#fknmk5va6io26)\" height=\"45.9375\" id=\"E3\" rx=\"10\" ry=\"10\" style=\"stroke: #A80036; stroke-width: 1.5;\" width=\"97\" x=\"729.5\" y=\"41\"/><ellipse cx=\"744.5\" cy=\"59.9688\" fill=\"#FFA500\" rx=\"11\" ry=\"11\" style=\"stroke: #A80036; stroke-width: 1.0;\"/><path d=\"M740.375,61.8906 L740.375,54.0781 L742.8281,54.0781 L742.8281,62.5156 Q742.8281,63.4375 743.2969,63.9688 Q743.7813,64.5 744.6094,64.5 Q745.4531,64.5 745.9219,63.9688 Q746.3906,63.4375 746.3906,62.5156 L746.3906,54.0781 L748.8438,54.0781 L748.8438,61.8906 Q748.8438,64.4219 747.8438,65.5625 Q746.8438,66.7031 744.6094,66.7031 Q742.3906,66.7031 741.375,65.5625 Q740.375,64.4219 740.375,61.8906 Z \"/><text fill=\"#000000\" font-family=\"sans-serif\" font-size=\"12\" font-style=\"italic\" lengthAdjust=\"spacingAndGlyphs\" textLength=\"69\" x=\"756.5\" y=\"57.1387\">«attribute»</text><text fill=\"#000000\" font-family=\"sans-serif\" font-size=\"12\" lengthAdjust=\"spacingAndGlyphs\" textLength=\"24\" x=\"779\" y=\"71.1074\">a: A</text><line style=\"stroke: #A80036; stroke-width: 1.5;\" x1=\"730.5\" x2=\"825.5\" y1=\"78.9375\" y2=\"78.9375\"/></a><!--MD5=[ebbe1d658d1005bcc118a6aa81145e00]\n",
       "class E4--><a href=\"psysml:de3210e5-068c-44a8-9828-b5930a13c3bb\" target=\"_top\" title=\"psysml:de3210e5-068c-44a8-9828-b5930a13c3bb\" xlink:actuate=\"onRequest\" xlink:href=\"psysml:de3210e5-068c-44a8-9828-b5930a13c3bb\" xlink:show=\"new\" xlink:title=\"psysml:de3210e5-068c-44a8-9828-b5930a13c3bb\" xlink:type=\"simple\"><rect fill=\"#FEFECE\" filter=\"url(#fknmk5va6io26)\" height=\"45.9375\" id=\"E4\" style=\"stroke: #A80036; stroke-width: 1.5;\" width=\"134\" x=\"560\" y=\"41\"/><ellipse cx=\"575\" cy=\"59.9688\" fill=\"#A52A2A\" rx=\"11\" ry=\"11\" style=\"stroke: #A80036; stroke-width: 1.0;\"/><path d=\"M574.5938,55.7813 L574.5938,63.7656 L575.25,63.7656 Q576.6875,63.7656 577.2969,62.8594 Q577.9219,61.9375 577.9219,59.7656 Q577.9219,57.5938 577.2969,56.6875 Q576.6875,55.7813 575.25,55.7813 L574.5938,55.7813 Z M572.1406,53.5781 L574.7656,53.5781 Q577.7969,53.5781 579.125,55.0313 Q580.4688,56.4688 580.4688,59.7656 Q580.4688,63.0625 579.125,64.5156 Q577.7969,65.9688 574.7656,65.9688 L572.1406,65.9688 L572.1406,53.5781 Z \"/><text fill=\"#000000\" font-family=\"sans-serif\" font-size=\"12\" font-style=\"italic\" lengthAdjust=\"spacingAndGlyphs\" textLength=\"106\" x=\"587\" y=\"57.1387\">«calculation def»</text><text fill=\"#000000\" font-family=\"sans-serif\" font-size=\"12\" lengthAdjust=\"spacingAndGlyphs\" textLength=\"7\" x=\"636.5\" y=\"71.1074\">F</text><line style=\"stroke: #A80036; stroke-width: 1.5;\" x1=\"561\" x2=\"693\" y1=\"78.9375\" y2=\"78.9375\"/></a><!--MD5=[270fce915f116d4de14055a7c1d9a0f3]\n",
       "class E5--><a href=\"psysml:8c3ddf1b-2d8e-48f9-8bd9-e07e4f9dde48\" target=\"_top\" title=\"psysml:8c3ddf1b-2d8e-48f9-8bd9-e07e4f9dde48\" xlink:actuate=\"onRequest\" xlink:href=\"psysml:8c3ddf1b-2d8e-48f9-8bd9-e07e4f9dde48\" xlink:show=\"new\" xlink:title=\"psysml:8c3ddf1b-2d8e-48f9-8bd9-e07e4f9dde48\" xlink:type=\"simple\"><rect fill=\"#FEFECE\" filter=\"url(#fknmk5va6io26)\" height=\"45.9375\" id=\"E5\" rx=\"10\" ry=\"10\" style=\"stroke: #A80036; stroke-width: 1.5;\" width=\"97\" x=\"427.5\" y=\"41\"/><ellipse cx=\"442.5\" cy=\"59.9688\" fill=\"#FFA500\" rx=\"11\" ry=\"11\" style=\"stroke: #A80036; stroke-width: 1.0;\"/><path d=\"M438.375,61.8906 L438.375,54.0781 L440.8281,54.0781 L440.8281,62.5156 Q440.8281,63.4375 441.2969,63.9688 Q441.7813,64.5 442.6094,64.5 Q443.4531,64.5 443.9219,63.9688 Q444.3906,63.4375 444.3906,62.5156 L444.3906,54.0781 L446.8438,54.0781 L446.8438,61.8906 Q446.8438,64.4219 445.8438,65.5625 Q444.8438,66.7031 442.6094,66.7031 Q440.3906,66.7031 439.375,65.5625 Q438.375,64.4219 438.375,61.8906 Z \"/><text fill=\"#000000\" font-family=\"sans-serif\" font-size=\"12\" font-style=\"italic\" lengthAdjust=\"spacingAndGlyphs\" textLength=\"69\" x=\"454.5\" y=\"57.1387\">«attribute»</text><text fill=\"#000000\" font-family=\"sans-serif\" font-size=\"12\" lengthAdjust=\"spacingAndGlyphs\" textLength=\"4\" x=\"487\" y=\"71.1074\">f</text><line style=\"stroke: #A80036; stroke-width: 1.5;\" x1=\"428.5\" x2=\"523.5\" y1=\"78.9375\" y2=\"78.9375\"/></a><!--MD5=[60a26617385b1d2d0262a64233df1f8d]\n",
       "class E6--><a href=\"psysml:1f38f371-1f52-4b01-a20c-3f08ced1218d\" target=\"_top\" title=\"psysml:1f38f371-1f52-4b01-a20c-3f08ced1218d\" xlink:actuate=\"onRequest\" xlink:href=\"psysml:1f38f371-1f52-4b01-a20c-3f08ced1218d\" xlink:show=\"new\" xlink:title=\"psysml:1f38f371-1f52-4b01-a20c-3f08ced1218d\" xlink:type=\"simple\"><rect fill=\"#FEFECE\" filter=\"url(#fknmk5va6io26)\" height=\"45.9375\" id=\"E6\" rx=\"10\" ry=\"10\" style=\"stroke: #A80036; stroke-width: 1.5;\" width=\"97\" x=\"295.5\" y=\"41\"/><ellipse cx=\"310.5\" cy=\"59.9688\" fill=\"#FFA500\" rx=\"11\" ry=\"11\" style=\"stroke: #A80036; stroke-width: 1.0;\"/><path d=\"M306.375,61.8906 L306.375,54.0781 L308.8281,54.0781 L308.8281,62.5156 Q308.8281,63.4375 309.2969,63.9688 Q309.7813,64.5 310.6094,64.5 Q311.4531,64.5 311.9219,63.9688 Q312.3906,63.4375 312.3906,62.5156 L312.3906,54.0781 L314.8438,54.0781 L314.8438,61.8906 Q314.8438,64.4219 313.8438,65.5625 Q312.8438,66.7031 310.6094,66.7031 Q308.3906,66.7031 307.375,65.5625 Q306.375,64.4219 306.375,61.8906 Z \"/><text fill=\"#000000\" font-family=\"sans-serif\" font-size=\"12\" font-style=\"italic\" lengthAdjust=\"spacingAndGlyphs\" textLength=\"69\" x=\"322.5\" y=\"57.1387\">«attribute»</text><text fill=\"#000000\" font-family=\"sans-serif\" font-size=\"12\" lengthAdjust=\"spacingAndGlyphs\" textLength=\"8\" x=\"353\" y=\"71.1074\">g</text><line style=\"stroke: #A80036; stroke-width: 1.5;\" x1=\"296.5\" x2=\"391.5\" y1=\"78.9375\" y2=\"78.9375\"/></a><!--MD5=[2156ba9850f5573cc1fc38a6a4b2f02b]\n",
       "class E7--><a href=\"psysml:cd4f641f-a9ce-41b8-9b9f-d9b0f89951b2\" target=\"_top\" title=\"psysml:cd4f641f-a9ce-41b8-9b9f-d9b0f89951b2\" xlink:actuate=\"onRequest\" xlink:href=\"psysml:cd4f641f-a9ce-41b8-9b9f-d9b0f89951b2\" xlink:show=\"new\" xlink:title=\"psysml:cd4f641f-a9ce-41b8-9b9f-d9b0f89951b2\" xlink:type=\"simple\"><rect fill=\"#FEFECE\" filter=\"url(#fknmk5va6io26)\" height=\"45.9375\" id=\"E7\" rx=\"10\" ry=\"10\" style=\"stroke: #A80036; stroke-width: 1.5;\" width=\"97\" x=\"163.5\" y=\"41\"/><ellipse cx=\"178.5\" cy=\"59.9688\" fill=\"#FFA500\" rx=\"11\" ry=\"11\" style=\"stroke: #A80036; stroke-width: 1.0;\"/><path d=\"M174.375,61.8906 L174.375,54.0781 L176.8281,54.0781 L176.8281,62.5156 Q176.8281,63.4375 177.2969,63.9688 Q177.7813,64.5 178.6094,64.5 Q179.4531,64.5 179.9219,63.9688 Q180.3906,63.4375 180.3906,62.5156 L180.3906,54.0781 L182.8438,54.0781 L182.8438,61.8906 Q182.8438,64.4219 181.8438,65.5625 Q180.8438,66.7031 178.6094,66.7031 Q176.3906,66.7031 175.375,65.5625 Q174.375,64.4219 174.375,61.8906 Z \"/><text fill=\"#000000\" font-family=\"sans-serif\" font-size=\"12\" font-style=\"italic\" lengthAdjust=\"spacingAndGlyphs\" textLength=\"69\" x=\"190.5\" y=\"57.1387\">«attribute»</text><text fill=\"#000000\" font-family=\"sans-serif\" font-size=\"12\" lengthAdjust=\"spacingAndGlyphs\" textLength=\"8\" x=\"221\" y=\"71.1074\">b</text><line style=\"stroke: #A80036; stroke-width: 1.5;\" x1=\"164.5\" x2=\"259.5\" y1=\"78.9375\" y2=\"78.9375\"/></a><!--MD5=[b9389687b975829384b498ac4b7476b2]\n",
       "class E8--><a href=\"psysml:5033f0bf-ffeb-4313-b85b-4258ec8a052c\" target=\"_top\" title=\"psysml:5033f0bf-ffeb-4313-b85b-4258ec8a052c\" xlink:actuate=\"onRequest\" xlink:href=\"psysml:5033f0bf-ffeb-4313-b85b-4258ec8a052c\" xlink:show=\"new\" xlink:title=\"psysml:5033f0bf-ffeb-4313-b85b-4258ec8a052c\" xlink:type=\"simple\"><rect fill=\"#FEFECE\" filter=\"url(#fknmk5va6io26)\" height=\"45.9375\" id=\"E8\" rx=\"10\" ry=\"10\" style=\"stroke: #A80036; stroke-width: 1.5;\" width=\"97\" x=\"31.5\" y=\"41\"/><ellipse cx=\"46.5\" cy=\"59.9688\" fill=\"#FFA500\" rx=\"11\" ry=\"11\" style=\"stroke: #A80036; stroke-width: 1.0;\"/><path d=\"M42.375,61.8906 L42.375,54.0781 L44.8281,54.0781 L44.8281,62.5156 Q44.8281,63.4375 45.2969,63.9688 Q45.7813,64.5 46.6094,64.5 Q47.4531,64.5 47.9219,63.9688 Q48.3906,63.4375 48.3906,62.5156 L48.3906,54.0781 L50.8438,54.0781 L50.8438,61.8906 Q50.8438,64.4219 49.8438,65.5625 Q48.8438,66.7031 46.6094,66.7031 Q44.3906,66.7031 43.375,65.5625 Q42.375,64.4219 42.375,61.8906 Z \"/><text fill=\"#000000\" font-family=\"sans-serif\" font-size=\"12\" font-style=\"italic\" lengthAdjust=\"spacingAndGlyphs\" textLength=\"69\" x=\"58.5\" y=\"57.1387\">«attribute»</text><text fill=\"#000000\" font-family=\"sans-serif\" font-size=\"12\" lengthAdjust=\"spacingAndGlyphs\" textLength=\"7\" x=\"89.5\" y=\"71.1074\">c</text><line style=\"stroke: #A80036; stroke-width: 1.5;\" x1=\"32.5\" x2=\"127.5\" y1=\"78.9375\" y2=\"78.9375\"/></a><!--MD5=[05d275557350bfb9b23a4ef7222b4c39]\n",
       "link E3 to E2--><a href=\"psysml:94762400-f967-4f4d-9ae0-7f515d54317a\" target=\"_top\" title=\"psysml:94762400-f967-4f4d-9ae0-7f515d54317a\" xlink:actuate=\"onRequest\" xlink:href=\"psysml:94762400-f967-4f4d-9ae0-7f515d54317a\" xlink:show=\"new\" xlink:title=\"psysml:94762400-f967-4f4d-9ae0-7f515d54317a\" xlink:type=\"simple\"><path d=\"M765.62,87.13 C756.62,103.2 744.05,125.65 732.54,146.23 \" fill=\"none\" id=\"E3-&gt;E2\" style=\"stroke: #A80036; stroke-width: 1.0;\"/><polygon fill=\"#FFFFFF\" points=\"722.6,163.99,725.7664,143.9907,737.9848,150.8253,722.6,163.99\" style=\"stroke: #A80036; stroke-width: 1.0;\"/><ellipse cx=\"730.2946\" cy=\"139.9924\" fill=\"#A80036\" rx=\"2\" ry=\"2\" style=\"stroke: #A80036; stroke-width: 1.0;\"/><ellipse cx=\"739.022\" cy=\"144.8743\" fill=\"#A80036\" rx=\"2\" ry=\"2\" style=\"stroke: #A80036; stroke-width: 1.0;\"/></a><!--MD5=[ddeed8deb2209213b62e6cfabaa108b2]\n",
       "reverse link E4 to E2--><a href=\"psysml:6f03e5ff-f747-4209-970e-6a43677acfe5\" target=\"_top\" title=\"psysml:6f03e5ff-f747-4209-970e-6a43677acfe5\" xlink:actuate=\"onRequest\" xlink:href=\"psysml:6f03e5ff-f747-4209-970e-6a43677acfe5\" xlink:show=\"new\" xlink:title=\"psysml:6f03e5ff-f747-4209-970e-6a43677acfe5\" xlink:type=\"simple\"><path d=\"M645.99,98.48 C657.31,118.44 671.67,143.76 683.14,163.99 \" fill=\"none\" id=\"E4&lt;-E2\" style=\"stroke: #A80036; stroke-width: 1.0;\"/><polygon fill=\"#FFFFFF\" points=\"639.55,87.13,639.0333,94.3226,645.4738,97.5659,645.9905,90.3734,639.55,87.13\" style=\"stroke: #A80036; stroke-width: 1.0;\"/><text fill=\"#000000\" font-family=\"sans-serif\" font-size=\"13\" lengthAdjust=\"spacingAndGlyphs\" textLength=\"8\" x=\"666\" y=\"130.0669\">p</text></a><!--MD5=[5bc0550f979243d3426e90baf9cf6185]\n",
       "@startuml\r\n",
       " \r\n",
       "package \"ParameterTest\" as E1  [[psysml:88bd93f8-a024-442a-9349-d26cb2f873a0 ]]  {\r\n",
       "comp def \"A\" as E2  <<(D,brown)attribute def>> [[psysml:2f5789b5-3949-40b4-8579-f7414350119a ]] {\r\n",
       "x: String\r\n",
       "y: A\r\n",
       "}\r\n",
       "comp usage \"a: A\" as E3  <<(U,orange)attribute>> [[psysml:02928bc4-0eb7-4367-aa3f-5ffb35356b49 ]] {\r\n",
       "}\r\n",
       "comp def \"F\" as E4  <<(D,brown)calculation def>> [[psysml:de3210e5-068c-44a8-9828-b5930a13c3bb ]] {\r\n",
       "}\r\n",
       "comp usage \"f\" as E5  <<(U,orange)attribute>> [[psysml:8c3ddf1b-2d8e-48f9-8bd9-e07e4f9dde48 ]] {\r\n",
       "}\r\n",
       "comp usage \"g\" as E6  <<(U,orange)attribute>> [[psysml:1f38f371-1f52-4b01-a20c-3f08ced1218d ]] {\r\n",
       "}\r\n",
       "comp usage \"b\" as E7  <<(U,orange)attribute>> [[psysml:cd4f641f-a9ce-41b8-9b9f-d9b0f89951b2 ]] {\r\n",
       "}\r\n",
       "comp usage \"c\" as E8  <<(U,orange)attribute>> [[psysml:5033f0bf-ffeb-4313-b85b-4258ec8a052c ]] {\r\n",
       "}\r\n",
       "E3 - -:|> E2 [[psysml:94762400-f967-4f4d-9ae0-7f515d54317a ]] \r\n",
       "E4 o- - E2 [[psysml:6f03e5ff-f747-4209-970e-6a43677acfe5 ]] : p\r\n",
       "}\r\n",
       "@enduml\r\n",
       "\n",
       "PlantUML version 1.2020.13(Sat Jun 13 12:26:38 UTC 2020)\n",
       "(EPL source distribution)\n",
       "Java Runtime: OpenJDK Runtime Environment\n",
       "JVM: OpenJDK 64-Bit Server VM\n",
       "Default Encoding: UTF-8\n",
       "Language: en\n",
       "Country: null\n",
       "--></g></svg>"
      ]
     },
     "execution_count": 35,
     "metadata": {},
     "output_type": "execute_result"
    }
   ],
   "source": [
    "%viz --style=\"PLANTUML\" --view=\"Sequence\" \"ParameterTest\""
   ]
  },
  {
   "cell_type": "code",
   "execution_count": 36,
   "id": "dressed-bathroom",
   "metadata": {
    "execution": {
     "iopub.execute_input": "2021-03-26T13:01:42.468148Z",
     "iopub.status.busy": "2021-03-26T13:01:42.467331Z",
     "iopub.status.idle": "2021-03-26T13:01:42.507214Z",
     "shell.execute_reply": "2021-03-26T13:01:42.505851Z"
    }
   },
   "outputs": [
    {
     "data": {
      "image/svg+xml": [
       "<?xml version=\"1.0\" encoding=\"UTF-8\" standalone=\"no\"?><svg xmlns=\"http://www.w3.org/2000/svg\" xmlns:xlink=\"http://www.w3.org/1999/xlink\" contentScriptType=\"application/ecmascript\" contentStyleType=\"text/css\" height=\"247px\" preserveAspectRatio=\"none\" style=\"width:868px;height:247px;\" version=\"1.1\" viewBox=\"0 0 868 247\" width=\"868px\" zoomAndPan=\"magnify\"><defs><filter height=\"300%\" id=\"f1fomxj4bicdxl\" width=\"300%\" x=\"-1\" y=\"-1\"><feGaussianBlur result=\"blurOut\" stdDeviation=\"2.0\"/><feColorMatrix in=\"blurOut\" result=\"blurOut2\" type=\"matrix\" values=\"0 0 0 0 0 0 0 0 0 0 0 0 0 0 0 0 0 0 .4 0\"/><feOffset dx=\"4.0\" dy=\"4.0\" in=\"blurOut2\" result=\"blurOut3\"/><feBlend in=\"SourceGraphic\" in2=\"blurOut3\" mode=\"normal\"/></filter></defs><g><!--MD5=[fbc87193dbaf4d95561dea2c320d4a47]\n",
       "cluster E1--><a href=\"psysml:88bd93f8-a024-442a-9349-d26cb2f873a0\" target=\"_top\" title=\"psysml:88bd93f8-a024-442a-9349-d26cb2f873a0\" xlink:actuate=\"onRequest\" xlink:href=\"psysml:88bd93f8-a024-442a-9349-d26cb2f873a0\" xlink:show=\"new\" xlink:title=\"psysml:88bd93f8-a024-442a-9349-d26cb2f873a0\" xlink:type=\"simple\"><polygon fill=\"#FFFFFF\" filter=\"url(#f1fomxj4bicdxl)\" points=\"16,6,139,6,146,28.2969,846,28.2969,846,235,16,235,16,6\" style=\"stroke: #000000; stroke-width: 1.5;\"/><line style=\"stroke: #000000; stroke-width: 1.5;\" x1=\"16\" x2=\"146\" y1=\"28.2969\" y2=\"28.2969\"/><text fill=\"#000000\" font-family=\"sans-serif\" font-size=\"14\" font-weight=\"bold\" lengthAdjust=\"spacingAndGlyphs\" textLength=\"117\" x=\"20\" y=\"20.9951\">ParameterTest</text></a><!--MD5=[f6df4d0ebaf0b5dfb2ced0ae5af7c670]\n",
       "cluster E4--><a href=\"psysml:de3210e5-068c-44a8-9828-b5930a13c3bb\" target=\"_top\" title=\"psysml:de3210e5-068c-44a8-9828-b5930a13c3bb\" xlink:actuate=\"onRequest\" xlink:href=\"psysml:de3210e5-068c-44a8-9828-b5930a13c3bb\" xlink:show=\"new\" xlink:title=\"psysml:de3210e5-068c-44a8-9828-b5930a13c3bb\" xlink:type=\"simple\"><rect fill=\"#FFFFFF\" filter=\"url(#f1fomxj4bicdxl)\" height=\"152.5\" id=\"E4\" style=\"stroke: #A80036; stroke-width: 1.5;\" width=\"148\" x=\"682\" y=\"64\"/><rect fill=\"#FEFECE\" height=\"37.9375\" style=\"stroke: #A80036; stroke-width: 1.5;\" width=\"148\" x=\"682\" y=\"64\"/><text fill=\"#000000\" font-family=\"sans-serif\" font-size=\"12\" font-style=\"italic\" lengthAdjust=\"spacingAndGlyphs\" textLength=\"106\" x=\"703\" y=\"80.1387\">«calculation def»</text><text fill=\"#000000\" font-family=\"sans-serif\" font-size=\"12\" lengthAdjust=\"spacingAndGlyphs\" textLength=\"7\" x=\"752.5\" y=\"94.1074\">F</text></a><!--MD5=[b4997ac47864f28c2f74865a473b2911]\n",
       "class E2--><a href=\"psysml:2f5789b5-3949-40b4-8579-f7414350119a\" target=\"_top\" title=\"psysml:2f5789b5-3949-40b4-8579-f7414350119a\" xlink:actuate=\"onRequest\" xlink:href=\"psysml:2f5789b5-3949-40b4-8579-f7414350119a\" xlink:show=\"new\" xlink:title=\"psysml:2f5789b5-3949-40b4-8579-f7414350119a\" xlink:type=\"simple\"><rect fill=\"#FEFECE\" filter=\"url(#f1fomxj4bicdxl)\" height=\"71.5469\" id=\"E2\" style=\"stroke: #A80036; stroke-width: 1.5;\" width=\"121\" x=\"524.5\" y=\"147\"/><ellipse cx=\"539.5\" cy=\"165.9688\" fill=\"#A52A2A\" rx=\"11\" ry=\"11\" style=\"stroke: #A80036; stroke-width: 1.0;\"/><path d=\"M539.0938,161.7813 L539.0938,169.7656 L539.75,169.7656 Q541.1875,169.7656 541.7969,168.8594 Q542.4219,167.9375 542.4219,165.7656 Q542.4219,163.5938 541.7969,162.6875 Q541.1875,161.7813 539.75,161.7813 L539.0938,161.7813 Z M536.6406,159.5781 L539.2656,159.5781 Q542.2969,159.5781 543.625,161.0313 Q544.9688,162.4688 544.9688,165.7656 Q544.9688,169.0625 543.625,170.5156 Q542.2969,171.9688 539.2656,171.9688 L536.6406,171.9688 L536.6406,159.5781 Z \"/><text fill=\"#000000\" font-family=\"sans-serif\" font-size=\"12\" font-style=\"italic\" lengthAdjust=\"spacingAndGlyphs\" textLength=\"93\" x=\"551.5\" y=\"163.1387\">«attribute def»</text><text fill=\"#000000\" font-family=\"sans-serif\" font-size=\"12\" lengthAdjust=\"spacingAndGlyphs\" textLength=\"8\" x=\"594\" y=\"177.1074\">A</text><line style=\"stroke: #A80036; stroke-width: 1.5;\" x1=\"525.5\" x2=\"644.5\" y1=\"184.9375\" y2=\"184.9375\"/><text fill=\"#000000\" font-family=\"sans-serif\" font-size=\"11\" lengthAdjust=\"spacingAndGlyphs\" textLength=\"48\" x=\"530.5\" y=\"199.1479\">x: String</text><text fill=\"#000000\" font-family=\"sans-serif\" font-size=\"11\" lengthAdjust=\"spacingAndGlyphs\" textLength=\"21\" x=\"530.5\" y=\"211.9526\">y: A</text></a><!--MD5=[09b614a08d8cba4a07c9adeb5e0fee81]\n",
       "class E3--><a href=\"psysml:02928bc4-0eb7-4367-aa3f-5ffb35356b49\" target=\"_top\" title=\"psysml:02928bc4-0eb7-4367-aa3f-5ffb35356b49\" xlink:actuate=\"onRequest\" xlink:href=\"psysml:02928bc4-0eb7-4367-aa3f-5ffb35356b49\" xlink:show=\"new\" xlink:title=\"psysml:02928bc4-0eb7-4367-aa3f-5ffb35356b49\" xlink:type=\"simple\"><rect fill=\"#FEFECE\" filter=\"url(#f1fomxj4bicdxl)\" height=\"45.9375\" id=\"E3\" rx=\"10\" ry=\"10\" style=\"stroke: #A80036; stroke-width: 1.5;\" width=\"97\" x=\"559.5\" y=\"41\"/><ellipse cx=\"574.5\" cy=\"59.9688\" fill=\"#FFA500\" rx=\"11\" ry=\"11\" style=\"stroke: #A80036; stroke-width: 1.0;\"/><path d=\"M570.375,61.8906 L570.375,54.0781 L572.8281,54.0781 L572.8281,62.5156 Q572.8281,63.4375 573.2969,63.9688 Q573.7813,64.5 574.6094,64.5 Q575.4531,64.5 575.9219,63.9688 Q576.3906,63.4375 576.3906,62.5156 L576.3906,54.0781 L578.8438,54.0781 L578.8438,61.8906 Q578.8438,64.4219 577.8438,65.5625 Q576.8438,66.7031 574.6094,66.7031 Q572.3906,66.7031 571.375,65.5625 Q570.375,64.4219 570.375,61.8906 Z \"/><text fill=\"#000000\" font-family=\"sans-serif\" font-size=\"12\" font-style=\"italic\" lengthAdjust=\"spacingAndGlyphs\" textLength=\"69\" x=\"586.5\" y=\"57.1387\">«attribute»</text><text fill=\"#000000\" font-family=\"sans-serif\" font-size=\"12\" lengthAdjust=\"spacingAndGlyphs\" textLength=\"24\" x=\"609\" y=\"71.1074\">a: A</text><line style=\"stroke: #A80036; stroke-width: 1.5;\" x1=\"560.5\" x2=\"655.5\" y1=\"78.9375\" y2=\"78.9375\"/></a><!--MD5=[2156ba9850f5573cc1fc38a6a4b2f02b]\n",
       "class E7--><a href=\"psysml:8c3ddf1b-2d8e-48f9-8bd9-e07e4f9dde48\" target=\"_top\" title=\"psysml:8c3ddf1b-2d8e-48f9-8bd9-e07e4f9dde48\" xlink:actuate=\"onRequest\" xlink:href=\"psysml:8c3ddf1b-2d8e-48f9-8bd9-e07e4f9dde48\" xlink:show=\"new\" xlink:title=\"psysml:8c3ddf1b-2d8e-48f9-8bd9-e07e4f9dde48\" xlink:type=\"simple\"><rect fill=\"#FEFECE\" filter=\"url(#f1fomxj4bicdxl)\" height=\"45.9375\" id=\"E7\" rx=\"10\" ry=\"10\" style=\"stroke: #A80036; stroke-width: 1.5;\" width=\"97\" x=\"427.5\" y=\"41\"/><ellipse cx=\"442.5\" cy=\"59.9688\" fill=\"#FFA500\" rx=\"11\" ry=\"11\" style=\"stroke: #A80036; stroke-width: 1.0;\"/><path d=\"M438.375,61.8906 L438.375,54.0781 L440.8281,54.0781 L440.8281,62.5156 Q440.8281,63.4375 441.2969,63.9688 Q441.7813,64.5 442.6094,64.5 Q443.4531,64.5 443.9219,63.9688 Q444.3906,63.4375 444.3906,62.5156 L444.3906,54.0781 L446.8438,54.0781 L446.8438,61.8906 Q446.8438,64.4219 445.8438,65.5625 Q444.8438,66.7031 442.6094,66.7031 Q440.3906,66.7031 439.375,65.5625 Q438.375,64.4219 438.375,61.8906 Z \"/><text fill=\"#000000\" font-family=\"sans-serif\" font-size=\"12\" font-style=\"italic\" lengthAdjust=\"spacingAndGlyphs\" textLength=\"69\" x=\"454.5\" y=\"57.1387\">«attribute»</text><text fill=\"#000000\" font-family=\"sans-serif\" font-size=\"12\" lengthAdjust=\"spacingAndGlyphs\" textLength=\"4\" x=\"487\" y=\"71.1074\">f</text><line style=\"stroke: #A80036; stroke-width: 1.5;\" x1=\"428.5\" x2=\"523.5\" y1=\"78.9375\" y2=\"78.9375\"/></a><!--MD5=[b9389687b975829384b498ac4b7476b2]\n",
       "class E8--><a href=\"psysml:1f38f371-1f52-4b01-a20c-3f08ced1218d\" target=\"_top\" title=\"psysml:1f38f371-1f52-4b01-a20c-3f08ced1218d\" xlink:actuate=\"onRequest\" xlink:href=\"psysml:1f38f371-1f52-4b01-a20c-3f08ced1218d\" xlink:show=\"new\" xlink:title=\"psysml:1f38f371-1f52-4b01-a20c-3f08ced1218d\" xlink:type=\"simple\"><rect fill=\"#FEFECE\" filter=\"url(#f1fomxj4bicdxl)\" height=\"45.9375\" id=\"E8\" rx=\"10\" ry=\"10\" style=\"stroke: #A80036; stroke-width: 1.5;\" width=\"97\" x=\"295.5\" y=\"41\"/><ellipse cx=\"310.5\" cy=\"59.9688\" fill=\"#FFA500\" rx=\"11\" ry=\"11\" style=\"stroke: #A80036; stroke-width: 1.0;\"/><path d=\"M306.375,61.8906 L306.375,54.0781 L308.8281,54.0781 L308.8281,62.5156 Q308.8281,63.4375 309.2969,63.9688 Q309.7813,64.5 310.6094,64.5 Q311.4531,64.5 311.9219,63.9688 Q312.3906,63.4375 312.3906,62.5156 L312.3906,54.0781 L314.8438,54.0781 L314.8438,61.8906 Q314.8438,64.4219 313.8438,65.5625 Q312.8438,66.7031 310.6094,66.7031 Q308.3906,66.7031 307.375,65.5625 Q306.375,64.4219 306.375,61.8906 Z \"/><text fill=\"#000000\" font-family=\"sans-serif\" font-size=\"12\" font-style=\"italic\" lengthAdjust=\"spacingAndGlyphs\" textLength=\"69\" x=\"322.5\" y=\"57.1387\">«attribute»</text><text fill=\"#000000\" font-family=\"sans-serif\" font-size=\"12\" lengthAdjust=\"spacingAndGlyphs\" textLength=\"8\" x=\"353\" y=\"71.1074\">g</text><line style=\"stroke: #A80036; stroke-width: 1.5;\" x1=\"296.5\" x2=\"391.5\" y1=\"78.9375\" y2=\"78.9375\"/></a><!--MD5=[fd4143e9d270a159db93a4ea2a975926]\n",
       "class E9--><a href=\"psysml:cd4f641f-a9ce-41b8-9b9f-d9b0f89951b2\" target=\"_top\" title=\"psysml:cd4f641f-a9ce-41b8-9b9f-d9b0f89951b2\" xlink:actuate=\"onRequest\" xlink:href=\"psysml:cd4f641f-a9ce-41b8-9b9f-d9b0f89951b2\" xlink:show=\"new\" xlink:title=\"psysml:cd4f641f-a9ce-41b8-9b9f-d9b0f89951b2\" xlink:type=\"simple\"><rect fill=\"#FEFECE\" filter=\"url(#f1fomxj4bicdxl)\" height=\"45.9375\" id=\"E9\" rx=\"10\" ry=\"10\" style=\"stroke: #A80036; stroke-width: 1.5;\" width=\"97\" x=\"163.5\" y=\"41\"/><ellipse cx=\"178.5\" cy=\"59.9688\" fill=\"#FFA500\" rx=\"11\" ry=\"11\" style=\"stroke: #A80036; stroke-width: 1.0;\"/><path d=\"M174.375,61.8906 L174.375,54.0781 L176.8281,54.0781 L176.8281,62.5156 Q176.8281,63.4375 177.2969,63.9688 Q177.7813,64.5 178.6094,64.5 Q179.4531,64.5 179.9219,63.9688 Q180.3906,63.4375 180.3906,62.5156 L180.3906,54.0781 L182.8438,54.0781 L182.8438,61.8906 Q182.8438,64.4219 181.8438,65.5625 Q180.8438,66.7031 178.6094,66.7031 Q176.3906,66.7031 175.375,65.5625 Q174.375,64.4219 174.375,61.8906 Z \"/><text fill=\"#000000\" font-family=\"sans-serif\" font-size=\"12\" font-style=\"italic\" lengthAdjust=\"spacingAndGlyphs\" textLength=\"69\" x=\"190.5\" y=\"57.1387\">«attribute»</text><text fill=\"#000000\" font-family=\"sans-serif\" font-size=\"12\" lengthAdjust=\"spacingAndGlyphs\" textLength=\"8\" x=\"221\" y=\"71.1074\">b</text><line style=\"stroke: #A80036; stroke-width: 1.5;\" x1=\"164.5\" x2=\"259.5\" y1=\"78.9375\" y2=\"78.9375\"/></a><!--MD5=[96f4274e9e20536e775497830990834d]\n",
       "class E10--><a href=\"psysml:5033f0bf-ffeb-4313-b85b-4258ec8a052c\" target=\"_top\" title=\"psysml:5033f0bf-ffeb-4313-b85b-4258ec8a052c\" xlink:actuate=\"onRequest\" xlink:href=\"psysml:5033f0bf-ffeb-4313-b85b-4258ec8a052c\" xlink:show=\"new\" xlink:title=\"psysml:5033f0bf-ffeb-4313-b85b-4258ec8a052c\" xlink:type=\"simple\"><rect fill=\"#FEFECE\" filter=\"url(#f1fomxj4bicdxl)\" height=\"45.9375\" id=\"E10\" rx=\"10\" ry=\"10\" style=\"stroke: #A80036; stroke-width: 1.5;\" width=\"97\" x=\"31.5\" y=\"41\"/><ellipse cx=\"46.5\" cy=\"59.9688\" fill=\"#FFA500\" rx=\"11\" ry=\"11\" style=\"stroke: #A80036; stroke-width: 1.0;\"/><path d=\"M42.375,61.8906 L42.375,54.0781 L44.8281,54.0781 L44.8281,62.5156 Q44.8281,63.4375 45.2969,63.9688 Q45.7813,64.5 46.6094,64.5 Q47.4531,64.5 47.9219,63.9688 Q48.3906,63.4375 48.3906,62.5156 L48.3906,54.0781 L50.8438,54.0781 L50.8438,61.8906 Q50.8438,64.4219 49.8438,65.5625 Q48.8438,66.7031 46.6094,66.7031 Q44.3906,66.7031 43.375,65.5625 Q42.375,64.4219 42.375,61.8906 Z \"/><text fill=\"#000000\" font-family=\"sans-serif\" font-size=\"12\" font-style=\"italic\" lengthAdjust=\"spacingAndGlyphs\" textLength=\"69\" x=\"58.5\" y=\"57.1387\">«attribute»</text><text fill=\"#000000\" font-family=\"sans-serif\" font-size=\"12\" lengthAdjust=\"spacingAndGlyphs\" textLength=\"7\" x=\"89.5\" y=\"71.1074\">c</text><line style=\"stroke: #A80036; stroke-width: 1.5;\" x1=\"32.5\" x2=\"127.5\" y1=\"78.9375\" y2=\"78.9375\"/></a><text fill=\"#000000\" font-family=\"sans-serif\" font-size=\"14\" lengthAdjust=\"spacingAndGlyphs\" textLength=\"9\" x=\"695.5\" y=\"42.6982\">p</text><rect fill=\"#A80036\" height=\"12\" style=\"stroke: #FEFECE; stroke-width: 1.5;\" width=\"12\" x=\"694\" y=\"58\"/><text fill=\"#000000\" font-family=\"sans-serif\" font-size=\"14\" lengthAdjust=\"spacingAndGlyphs\" textLength=\"9\" x=\"742.5\" y=\"42.6982\">q</text><rect fill=\"#A80036\" height=\"12\" style=\"stroke: #FEFECE; stroke-width: 1.5;\" width=\"12\" x=\"741\" y=\"58\"/><!--MD5=[05d275557350bfb9b23a4ef7222b4c39]\n",
       "link E3 to E2--><a href=\"psysml:94762400-f967-4f4d-9ae0-7f515d54317a\" target=\"_top\" title=\"psysml:94762400-f967-4f4d-9ae0-7f515d54317a\" xlink:actuate=\"onRequest\" xlink:href=\"psysml:94762400-f967-4f4d-9ae0-7f515d54317a\" xlink:show=\"new\" xlink:title=\"psysml:94762400-f967-4f4d-9ae0-7f515d54317a\" xlink:type=\"simple\"><path d=\"M603.67,87.01 C601.45,98.3 598.64,112.62 595.87,126.7 \" fill=\"none\" id=\"E3-&gt;E2\" style=\"stroke: #A80036; stroke-width: 1.0;\"/><polygon fill=\"#FFFFFF\" points=\"591.93,146.75,588.7277,126.7564,602.4646,129.4577,591.93,146.75\" style=\"stroke: #A80036; stroke-width: 1.0;\"/><ellipse cx=\"591.7899\" cy=\"121.5494\" fill=\"#A80036\" rx=\"2\" ry=\"2\" style=\"stroke: #A80036; stroke-width: 1.0;\"/><ellipse cx=\"601.602\" cy=\"123.4789\" fill=\"#A80036\" rx=\"2\" ry=\"2\" style=\"stroke: #A80036; stroke-width: 1.0;\"/></a><!--MD5=[350467113da99d6118054d6cd18a9833]\n",
       "@startuml\r\n",
       " \r\n",
       "package \"ParameterTest\" as E1  [[psysml:88bd93f8-a024-442a-9349-d26cb2f873a0 ]]  {\r\n",
       "comp def \"A\" as E2  <<(D,brown)attribute def>> [[psysml:2f5789b5-3949-40b4-8579-f7414350119a ]] {\r\n",
       "x: String\r\n",
       "y: A\r\n",
       "}\r\n",
       "comp usage \"a: A\" as E3  <<(U,orange)attribute>> [[psysml:02928bc4-0eb7-4367-aa3f-5ffb35356b49 ]] {\r\n",
       "}\r\n",
       "rec def \"F\" as E4  <<(D,brown)calculation def>> [[psysml:de3210e5-068c-44a8-9828-b5930a13c3bb ]] {\r\n",
       "portin \"p\" as E5  [[psysml:6f03e5ff-f747-4209-970e-6a43677acfe5 ]] \r\n",
       "portin \"q\" as E6  [[psysml:59b46d55-27e2-4503-b58c-744d75cefff1 ]] \r\n",
       "}\r\n",
       "\r\n",
       "comp usage \"f\" as E7  <<(U,orange)attribute>> [[psysml:8c3ddf1b-2d8e-48f9-8bd9-e07e4f9dde48 ]] {\r\n",
       "}\r\n",
       "comp usage \"g\" as E8  <<(U,orange)attribute>> [[psysml:1f38f371-1f52-4b01-a20c-3f08ced1218d ]] {\r\n",
       "}\r\n",
       "comp usage \"b\" as E9  <<(U,orange)attribute>> [[psysml:cd4f641f-a9ce-41b8-9b9f-d9b0f89951b2 ]] {\r\n",
       "}\r\n",
       "comp usage \"c\" as E10  <<(U,orange)attribute>> [[psysml:5033f0bf-ffeb-4313-b85b-4258ec8a052c ]] {\r\n",
       "}\r\n",
       "E3 - -:|> E2 [[psysml:94762400-f967-4f4d-9ae0-7f515d54317a ]] \r\n",
       "}\r\n",
       "@enduml\r\n",
       "\n",
       "PlantUML version 1.2020.13(Sat Jun 13 12:26:38 UTC 2020)\n",
       "(EPL source distribution)\n",
       "Java Runtime: OpenJDK Runtime Environment\n",
       "JVM: OpenJDK 64-Bit Server VM\n",
       "Default Encoding: UTF-8\n",
       "Language: en\n",
       "Country: null\n",
       "--></g></svg>"
      ]
     },
     "execution_count": 36,
     "metadata": {},
     "output_type": "execute_result"
    }
   ],
   "source": [
    "%viz --style=\"PLANTUML\" --view=\"MIXED\" \"ParameterTest\""
   ]
  },
  {
   "cell_type": "code",
   "execution_count": 37,
   "id": "national-shopper",
   "metadata": {
    "execution": {
     "iopub.execute_input": "2021-03-26T13:01:42.558503Z",
     "iopub.status.busy": "2021-03-26T13:01:42.558021Z",
     "iopub.status.idle": "2021-03-26T13:01:42.606826Z",
     "shell.execute_reply": "2021-03-26T13:01:42.605421Z"
    }
   },
   "outputs": [
    {
     "data": {
      "image/svg+xml": [
       "<?xml version=\"1.0\" encoding=\"UTF-8\" standalone=\"no\"?><svg xmlns=\"http://www.w3.org/2000/svg\" xmlns:xlink=\"http://www.w3.org/1999/xlink\" contentScriptType=\"application/ecmascript\" contentStyleType=\"text/css\" height=\"263px\" preserveAspectRatio=\"none\" style=\"width:740px;height:263px;\" version=\"1.1\" viewBox=\"0 0 740 263\" width=\"740px\" zoomAndPan=\"magnify\"><defs/><g><!--MD5=[fbc87193dbaf4d95561dea2c320d4a47]\n",
       "cluster E1--><a href=\"psysml:88bd93f8-a024-442a-9349-d26cb2f873a0\" target=\"_top\" title=\"psysml:88bd93f8-a024-442a-9349-d26cb2f873a0\" xlink:actuate=\"onRequest\" xlink:href=\"psysml:88bd93f8-a024-442a-9349-d26cb2f873a0\" xlink:show=\"new\" xlink:title=\"psysml:88bd93f8-a024-442a-9349-d26cb2f873a0\" xlink:type=\"simple\"><polygon fill=\"#FFFFFF\" points=\"16,6,139,6,146,28.2969,718,28.2969,718,251,16,251,16,6\" style=\"stroke: #000000; stroke-width: 1.5;\"/><line style=\"stroke: #000000; stroke-width: 1.5;\" x1=\"16\" x2=\"146\" y1=\"28.2969\" y2=\"28.2969\"/><text fill=\"#000000\" font-family=\"sans-serif\" font-size=\"14\" font-weight=\"bold\" lengthAdjust=\"spacingAndGlyphs\" textLength=\"117\" x=\"20\" y=\"20.9951\">ParameterTest</text></a><!--MD5=[f6df4d0ebaf0b5dfb2ced0ae5af7c670]\n",
       "cluster E4--><a href=\"psysml:de3210e5-068c-44a8-9828-b5930a13c3bb\" target=\"_top\" title=\"psysml:de3210e5-068c-44a8-9828-b5930a13c3bb\" xlink:actuate=\"onRequest\" xlink:href=\"psysml:de3210e5-068c-44a8-9828-b5930a13c3bb\" xlink:show=\"new\" xlink:title=\"psysml:de3210e5-068c-44a8-9828-b5930a13c3bb\" xlink:type=\"simple\"><rect fill=\"#FFFFFF\" height=\"160.5\" id=\"E4\" style=\"stroke: #383838; stroke-width: 1.5;\" width=\"148\" x=\"554\" y=\"64\"/><rect fill=\"#F8F8F8\" height=\"37.9375\" style=\"stroke: #383838; stroke-width: 1.5;\" width=\"148\" x=\"554\" y=\"64\"/><text fill=\"#000000\" font-family=\"sans-serif\" font-size=\"12\" font-style=\"italic\" lengthAdjust=\"spacingAndGlyphs\" textLength=\"106\" x=\"575\" y=\"80.1387\">«calculation def»</text><text fill=\"#000000\" font-family=\"sans-serif\" font-size=\"12\" lengthAdjust=\"spacingAndGlyphs\" textLength=\"7\" x=\"624.5\" y=\"94.1074\">F</text></a><!--MD5=[b4997ac47864f28c2f74865a473b2911]\n",
       "class E2--><a href=\"psysml:2f5789b5-3949-40b4-8579-f7414350119a\" target=\"_top\" title=\"psysml:2f5789b5-3949-40b4-8579-f7414350119a\" xlink:actuate=\"onRequest\" xlink:href=\"psysml:2f5789b5-3949-40b4-8579-f7414350119a\" xlink:show=\"new\" xlink:title=\"psysml:2f5789b5-3949-40b4-8579-f7414350119a\" xlink:type=\"simple\"><rect fill=\"#FFFFFF\" height=\"88.3516\" id=\"E2\" style=\"stroke: #383838; stroke-width: 1.5;\" width=\"95\" x=\"422.5\" y=\"147\"/><text fill=\"#000000\" font-family=\"sans-serif\" font-size=\"12\" font-style=\"italic\" lengthAdjust=\"spacingAndGlyphs\" textLength=\"93\" x=\"423.5\" y=\"163.1387\">«attribute def»</text><text fill=\"#000000\" font-family=\"sans-serif\" font-size=\"12\" lengthAdjust=\"spacingAndGlyphs\" textLength=\"8\" x=\"466\" y=\"177.1074\">A</text><line style=\"stroke: #383838; stroke-width: 1.5;\" x1=\"423.5\" x2=\"516.5\" y1=\"184.9375\" y2=\"184.9375\"/><text fill=\"#000000\" font-family=\"sans-serif\" font-size=\"11\" lengthAdjust=\"spacingAndGlyphs\" textLength=\"48\" x=\"428.5\" y=\"215.9526\">x: String</text><text fill=\"#000000\" font-family=\"sans-serif\" font-size=\"11\" lengthAdjust=\"spacingAndGlyphs\" textLength=\"21\" x=\"428.5\" y=\"228.7573\">y: A</text><line style=\"stroke: #383838; stroke-width: 1.0;\" x1=\"423.5\" x2=\"442.5\" y1=\"199.3398\" y2=\"199.3398\"/><text fill=\"#000000\" font-family=\"sans-serif\" font-size=\"11\" lengthAdjust=\"spacingAndGlyphs\" textLength=\"55\" x=\"442.5\" y=\"202.6479\">attributes</text><line style=\"stroke: #383838; stroke-width: 1.0;\" x1=\"497.5\" x2=\"516.5\" y1=\"199.3398\" y2=\"199.3398\"/></a><!--MD5=[09b614a08d8cba4a07c9adeb5e0fee81]\n",
       "class E3--><a href=\"psysml:02928bc4-0eb7-4367-aa3f-5ffb35356b49\" target=\"_top\" title=\"psysml:02928bc4-0eb7-4367-aa3f-5ffb35356b49\" xlink:actuate=\"onRequest\" xlink:href=\"psysml:02928bc4-0eb7-4367-aa3f-5ffb35356b49\" xlink:show=\"new\" xlink:title=\"psysml:02928bc4-0eb7-4367-aa3f-5ffb35356b49\" xlink:type=\"simple\"><rect fill=\"#FFFFFF\" height=\"45.9375\" id=\"E3\" rx=\"10\" ry=\"10\" style=\"stroke: #383838; stroke-width: 1.5;\" width=\"71\" x=\"456.5\" y=\"41\"/><text fill=\"#000000\" font-family=\"sans-serif\" font-size=\"12\" font-style=\"italic\" lengthAdjust=\"spacingAndGlyphs\" textLength=\"69\" x=\"457.5\" y=\"57.1387\">«attribute»</text><text fill=\"#000000\" font-family=\"sans-serif\" font-size=\"12\" lengthAdjust=\"spacingAndGlyphs\" textLength=\"24\" x=\"480\" y=\"71.1074\">a: A</text><line style=\"stroke: #383838; stroke-width: 1.5;\" x1=\"457.5\" x2=\"526.5\" y1=\"78.9375\" y2=\"78.9375\"/></a><!--MD5=[2156ba9850f5573cc1fc38a6a4b2f02b]\n",
       "class E7--><a href=\"psysml:8c3ddf1b-2d8e-48f9-8bd9-e07e4f9dde48\" target=\"_top\" title=\"psysml:8c3ddf1b-2d8e-48f9-8bd9-e07e4f9dde48\" xlink:actuate=\"onRequest\" xlink:href=\"psysml:8c3ddf1b-2d8e-48f9-8bd9-e07e4f9dde48\" xlink:show=\"new\" xlink:title=\"psysml:8c3ddf1b-2d8e-48f9-8bd9-e07e4f9dde48\" xlink:type=\"simple\"><rect fill=\"#FFFFFF\" height=\"45.9375\" id=\"E7\" rx=\"10\" ry=\"10\" style=\"stroke: #383838; stroke-width: 1.5;\" width=\"71\" x=\"350.5\" y=\"41\"/><text fill=\"#000000\" font-family=\"sans-serif\" font-size=\"12\" font-style=\"italic\" lengthAdjust=\"spacingAndGlyphs\" textLength=\"69\" x=\"351.5\" y=\"57.1387\">«attribute»</text><text fill=\"#000000\" font-family=\"sans-serif\" font-size=\"12\" lengthAdjust=\"spacingAndGlyphs\" textLength=\"4\" x=\"384\" y=\"71.1074\">f</text><line style=\"stroke: #383838; stroke-width: 1.5;\" x1=\"351.5\" x2=\"420.5\" y1=\"78.9375\" y2=\"78.9375\"/></a><!--MD5=[b9389687b975829384b498ac4b7476b2]\n",
       "class E8--><a href=\"psysml:1f38f371-1f52-4b01-a20c-3f08ced1218d\" target=\"_top\" title=\"psysml:1f38f371-1f52-4b01-a20c-3f08ced1218d\" xlink:actuate=\"onRequest\" xlink:href=\"psysml:1f38f371-1f52-4b01-a20c-3f08ced1218d\" xlink:show=\"new\" xlink:title=\"psysml:1f38f371-1f52-4b01-a20c-3f08ced1218d\" xlink:type=\"simple\"><rect fill=\"#FFFFFF\" height=\"45.9375\" id=\"E8\" rx=\"10\" ry=\"10\" style=\"stroke: #383838; stroke-width: 1.5;\" width=\"71\" x=\"244.5\" y=\"41\"/><text fill=\"#000000\" font-family=\"sans-serif\" font-size=\"12\" font-style=\"italic\" lengthAdjust=\"spacingAndGlyphs\" textLength=\"69\" x=\"245.5\" y=\"57.1387\">«attribute»</text><text fill=\"#000000\" font-family=\"sans-serif\" font-size=\"12\" lengthAdjust=\"spacingAndGlyphs\" textLength=\"8\" x=\"276\" y=\"71.1074\">g</text><line style=\"stroke: #383838; stroke-width: 1.5;\" x1=\"245.5\" x2=\"314.5\" y1=\"78.9375\" y2=\"78.9375\"/></a><!--MD5=[fd4143e9d270a159db93a4ea2a975926]\n",
       "class E9--><a href=\"psysml:cd4f641f-a9ce-41b8-9b9f-d9b0f89951b2\" target=\"_top\" title=\"psysml:cd4f641f-a9ce-41b8-9b9f-d9b0f89951b2\" xlink:actuate=\"onRequest\" xlink:href=\"psysml:cd4f641f-a9ce-41b8-9b9f-d9b0f89951b2\" xlink:show=\"new\" xlink:title=\"psysml:cd4f641f-a9ce-41b8-9b9f-d9b0f89951b2\" xlink:type=\"simple\"><rect fill=\"#FFFFFF\" height=\"45.9375\" id=\"E9\" rx=\"10\" ry=\"10\" style=\"stroke: #383838; stroke-width: 1.5;\" width=\"71\" x=\"138.5\" y=\"41\"/><text fill=\"#000000\" font-family=\"sans-serif\" font-size=\"12\" font-style=\"italic\" lengthAdjust=\"spacingAndGlyphs\" textLength=\"69\" x=\"139.5\" y=\"57.1387\">«attribute»</text><text fill=\"#000000\" font-family=\"sans-serif\" font-size=\"12\" lengthAdjust=\"spacingAndGlyphs\" textLength=\"8\" x=\"170\" y=\"71.1074\">b</text><line style=\"stroke: #383838; stroke-width: 1.5;\" x1=\"139.5\" x2=\"208.5\" y1=\"78.9375\" y2=\"78.9375\"/></a><!--MD5=[96f4274e9e20536e775497830990834d]\n",
       "class E10--><a href=\"psysml:5033f0bf-ffeb-4313-b85b-4258ec8a052c\" target=\"_top\" title=\"psysml:5033f0bf-ffeb-4313-b85b-4258ec8a052c\" xlink:actuate=\"onRequest\" xlink:href=\"psysml:5033f0bf-ffeb-4313-b85b-4258ec8a052c\" xlink:show=\"new\" xlink:title=\"psysml:5033f0bf-ffeb-4313-b85b-4258ec8a052c\" xlink:type=\"simple\"><rect fill=\"#FFFFFF\" height=\"45.9375\" id=\"E10\" rx=\"10\" ry=\"10\" style=\"stroke: #383838; stroke-width: 1.5;\" width=\"71\" x=\"32.5\" y=\"41\"/><text fill=\"#000000\" font-family=\"sans-serif\" font-size=\"12\" font-style=\"italic\" lengthAdjust=\"spacingAndGlyphs\" textLength=\"69\" x=\"33.5\" y=\"57.1387\">«attribute»</text><text fill=\"#000000\" font-family=\"sans-serif\" font-size=\"12\" lengthAdjust=\"spacingAndGlyphs\" textLength=\"7\" x=\"64.5\" y=\"71.1074\">c</text><line style=\"stroke: #383838; stroke-width: 1.5;\" x1=\"33.5\" x2=\"102.5\" y1=\"78.9375\" y2=\"78.9375\"/></a><text fill=\"#000000\" font-family=\"sans-serif\" font-size=\"14\" lengthAdjust=\"spacingAndGlyphs\" textLength=\"9\" x=\"567.5\" y=\"42.6982\">p</text><rect fill=\"#383838\" height=\"12\" style=\"stroke: #F8F8F8; stroke-width: 1.5;\" width=\"12\" x=\"566\" y=\"58\"/><text fill=\"#000000\" font-family=\"sans-serif\" font-size=\"14\" lengthAdjust=\"spacingAndGlyphs\" textLength=\"9\" x=\"614.5\" y=\"42.6982\">q</text><rect fill=\"#383838\" height=\"12\" style=\"stroke: #F8F8F8; stroke-width: 1.5;\" width=\"12\" x=\"613\" y=\"58\"/><!--MD5=[05d275557350bfb9b23a4ef7222b4c39]\n",
       "link E3 to E2--><a href=\"psysml:94762400-f967-4f4d-9ae0-7f515d54317a\" target=\"_top\" title=\"psysml:94762400-f967-4f4d-9ae0-7f515d54317a\" xlink:actuate=\"onRequest\" xlink:href=\"psysml:94762400-f967-4f4d-9ae0-7f515d54317a\" xlink:show=\"new\" xlink:title=\"psysml:94762400-f967-4f4d-9ae0-7f515d54317a\" xlink:type=\"simple\"><path d=\"M488.12,87.06 C486.14,98.3 483.62,112.6 481.1,126.95 \" fill=\"none\" id=\"E3-&gt;E2\" style=\"stroke: #383838; stroke-width: 1.0;\"/><polygon fill=\"#FFFFFF\" points=\"477.58,146.93,473.9835,127.0035,487.7711,129.4331,477.58,146.93\" style=\"stroke: #383838; stroke-width: 1.0;\"/><ellipse cx=\"476.9423\" cy=\"121.7371\" fill=\"#383838\" rx=\"2\" ry=\"2\" style=\"stroke: #383838; stroke-width: 1.0;\"/><ellipse cx=\"486.7906\" cy=\"123.4725\" fill=\"#383838\" rx=\"2\" ry=\"2\" style=\"stroke: #383838; stroke-width: 1.0;\"/></a><!--MD5=[cf642900c2c59bfa3a65b96862b6a8dc]\n",
       "@startuml\r\n",
       "skinparam monochrome true\r\n",
       "skinparam classbackgroundcolor white\r\n",
       "skinparam shadowing false\r\n",
       "skinparam wrapWidth 300\r\n",
       "hide circle\r\n",
       "\r\n",
       "package \"ParameterTest\" as E1  [[psysml:88bd93f8-a024-442a-9349-d26cb2f873a0 ]]  {\r\n",
       "comp def \"A\" as E2  <<(T,blue)attribute def>> [[psysml:2f5789b5-3949-40b4-8579-f7414350119a ]] {\r\n",
       "- - attributes - -\r\n",
       "x: String\r\n",
       "y: A\r\n",
       "}\r\n",
       "comp usage \"a: A\" as E3  <<(T,blue)attribute>> [[psysml:02928bc4-0eb7-4367-aa3f-5ffb35356b49 ]] {\r\n",
       "}\r\n",
       "rec def \"F\" as E4  <<(T,blue)calculation def>> [[psysml:de3210e5-068c-44a8-9828-b5930a13c3bb ]] {\r\n",
       "portin \"p\" as E5  [[psysml:6f03e5ff-f747-4209-970e-6a43677acfe5 ]] \r\n",
       "portin \"q\" as E6  [[psysml:59b46d55-27e2-4503-b58c-744d75cefff1 ]] \r\n",
       "}\r\n",
       "\r\n",
       "comp usage \"f\" as E7  <<(T,blue)attribute>> [[psysml:8c3ddf1b-2d8e-48f9-8bd9-e07e4f9dde48 ]] {\r\n",
       "}\r\n",
       "comp usage \"g\" as E8  <<(T,blue)attribute>> [[psysml:1f38f371-1f52-4b01-a20c-3f08ced1218d ]] {\r\n",
       "}\r\n",
       "comp usage \"b\" as E9  <<(T,blue)attribute>> [[psysml:cd4f641f-a9ce-41b8-9b9f-d9b0f89951b2 ]] {\r\n",
       "}\r\n",
       "comp usage \"c\" as E10  <<(T,blue)attribute>> [[psysml:5033f0bf-ffeb-4313-b85b-4258ec8a052c ]] {\r\n",
       "}\r\n",
       "E3 - -:|> E2 [[psysml:94762400-f967-4f4d-9ae0-7f515d54317a ]] \r\n",
       "}\r\n",
       "@enduml\r\n",
       "\n",
       "PlantUML version 1.2020.13(Sat Jun 13 12:26:38 UTC 2020)\n",
       "(EPL source distribution)\n",
       "Java Runtime: OpenJDK Runtime Environment\n",
       "JVM: OpenJDK 64-Bit Server VM\n",
       "Default Encoding: UTF-8\n",
       "Language: en\n",
       "Country: null\n",
       "--></g></svg>"
      ]
     },
     "execution_count": 37,
     "metadata": {},
     "output_type": "execute_result"
    }
   ],
   "source": [
    "%viz --style=\"DEFAULT\" --view=\"Default\" \"ParameterTest\""
   ]
  },
  {
   "cell_type": "code",
   "execution_count": 38,
   "id": "pleased-duncan",
   "metadata": {
    "execution": {
     "iopub.execute_input": "2021-03-26T13:01:42.665762Z",
     "iopub.status.busy": "2021-03-26T13:01:42.665422Z",
     "iopub.status.idle": "2021-03-26T13:01:42.701285Z",
     "shell.execute_reply": "2021-03-26T13:01:42.700047Z"
    }
   },
   "outputs": [
    {
     "data": {
      "image/svg+xml": [
       "<?xml version=\"1.0\" encoding=\"UTF-8\" standalone=\"no\"?><svg xmlns=\"http://www.w3.org/2000/svg\" xmlns:xlink=\"http://www.w3.org/1999/xlink\" contentScriptType=\"application/ecmascript\" contentStyleType=\"text/css\" height=\"280px\" preserveAspectRatio=\"none\" style=\"width:710px;height:280px;\" version=\"1.1\" viewBox=\"0 0 710 280\" width=\"710px\" zoomAndPan=\"magnify\"><defs/><g><!--MD5=[fbc87193dbaf4d95561dea2c320d4a47]\n",
       "cluster E1--><a href=\"psysml:88bd93f8-a024-442a-9349-d26cb2f873a0\" target=\"_top\" title=\"psysml:88bd93f8-a024-442a-9349-d26cb2f873a0\" xlink:actuate=\"onRequest\" xlink:href=\"psysml:88bd93f8-a024-442a-9349-d26cb2f873a0\" xlink:show=\"new\" xlink:title=\"psysml:88bd93f8-a024-442a-9349-d26cb2f873a0\" xlink:type=\"simple\"><polygon fill=\"#FFFFFF\" points=\"16,6,139,6,146,28.2969,688,28.2969,688,268,16,268,16,6\" style=\"stroke: #000000; stroke-width: 1.5;\"/><line style=\"stroke: #000000; stroke-width: 1.5;\" x1=\"16\" x2=\"146\" y1=\"28.2969\" y2=\"28.2969\"/><text fill=\"#000000\" font-family=\"sans-serif\" font-size=\"14\" font-weight=\"bold\" lengthAdjust=\"spacingAndGlyphs\" textLength=\"117\" x=\"20\" y=\"20.9951\">ParameterTest</text></a><!--MD5=[b4997ac47864f28c2f74865a473b2911]\n",
       "class E2--><a href=\"psysml:2f5789b5-3949-40b4-8579-f7414350119a\" target=\"_top\" title=\"psysml:2f5789b5-3949-40b4-8579-f7414350119a\" xlink:actuate=\"onRequest\" xlink:href=\"psysml:2f5789b5-3949-40b4-8579-f7414350119a\" xlink:show=\"new\" xlink:title=\"psysml:2f5789b5-3949-40b4-8579-f7414350119a\" xlink:type=\"simple\"><rect fill=\"#FFFFFF\" height=\"88.3516\" id=\"E2\" style=\"stroke: #383838; stroke-width: 1.5;\" width=\"95\" x=\"498.5\" y=\"164\"/><text fill=\"#000000\" font-family=\"sans-serif\" font-size=\"12\" font-style=\"italic\" lengthAdjust=\"spacingAndGlyphs\" textLength=\"93\" x=\"499.5\" y=\"180.1387\">«attribute def»</text><text fill=\"#000000\" font-family=\"sans-serif\" font-size=\"12\" lengthAdjust=\"spacingAndGlyphs\" textLength=\"8\" x=\"542\" y=\"194.1074\">A</text><line style=\"stroke: #383838; stroke-width: 1.5;\" x1=\"499.5\" x2=\"592.5\" y1=\"201.9375\" y2=\"201.9375\"/><text fill=\"#000000\" font-family=\"sans-serif\" font-size=\"11\" lengthAdjust=\"spacingAndGlyphs\" textLength=\"48\" x=\"504.5\" y=\"232.9526\">x: String</text><text fill=\"#000000\" font-family=\"sans-serif\" font-size=\"11\" lengthAdjust=\"spacingAndGlyphs\" textLength=\"21\" x=\"504.5\" y=\"245.7573\">y: A</text><line style=\"stroke: #383838; stroke-width: 1.0;\" x1=\"499.5\" x2=\"518.5\" y1=\"216.3398\" y2=\"216.3398\"/><text fill=\"#000000\" font-family=\"sans-serif\" font-size=\"11\" lengthAdjust=\"spacingAndGlyphs\" textLength=\"55\" x=\"518.5\" y=\"219.6479\">attributes</text><line style=\"stroke: #383838; stroke-width: 1.0;\" x1=\"573.5\" x2=\"592.5\" y1=\"216.3398\" y2=\"216.3398\"/></a><!--MD5=[09b614a08d8cba4a07c9adeb5e0fee81]\n",
       "class E3--><a href=\"psysml:02928bc4-0eb7-4367-aa3f-5ffb35356b49\" target=\"_top\" title=\"psysml:02928bc4-0eb7-4367-aa3f-5ffb35356b49\" xlink:actuate=\"onRequest\" xlink:href=\"psysml:02928bc4-0eb7-4367-aa3f-5ffb35356b49\" xlink:show=\"new\" xlink:title=\"psysml:02928bc4-0eb7-4367-aa3f-5ffb35356b49\" xlink:type=\"simple\"><rect fill=\"#FFFFFF\" height=\"45.9375\" id=\"E3\" rx=\"10\" ry=\"10\" style=\"stroke: #383838; stroke-width: 1.5;\" width=\"71\" x=\"600.5\" y=\"41\"/><text fill=\"#000000\" font-family=\"sans-serif\" font-size=\"12\" font-style=\"italic\" lengthAdjust=\"spacingAndGlyphs\" textLength=\"69\" x=\"601.5\" y=\"57.1387\">«attribute»</text><text fill=\"#000000\" font-family=\"sans-serif\" font-size=\"12\" lengthAdjust=\"spacingAndGlyphs\" textLength=\"24\" x=\"624\" y=\"71.1074\">a: A</text><line style=\"stroke: #383838; stroke-width: 1.5;\" x1=\"601.5\" x2=\"670.5\" y1=\"78.9375\" y2=\"78.9375\"/></a><!--MD5=[ebbe1d658d1005bcc118a6aa81145e00]\n",
       "class E4--><a href=\"psysml:de3210e5-068c-44a8-9828-b5930a13c3bb\" target=\"_top\" title=\"psysml:de3210e5-068c-44a8-9828-b5930a13c3bb\" xlink:actuate=\"onRequest\" xlink:href=\"psysml:de3210e5-068c-44a8-9828-b5930a13c3bb\" xlink:show=\"new\" xlink:title=\"psysml:de3210e5-068c-44a8-9828-b5930a13c3bb\" xlink:type=\"simple\"><rect fill=\"#FFFFFF\" height=\"45.9375\" id=\"E4\" style=\"stroke: #383838; stroke-width: 1.5;\" width=\"108\" x=\"457\" y=\"41\"/><text fill=\"#000000\" font-family=\"sans-serif\" font-size=\"12\" font-style=\"italic\" lengthAdjust=\"spacingAndGlyphs\" textLength=\"106\" x=\"458\" y=\"57.1387\">«calculation def»</text><text fill=\"#000000\" font-family=\"sans-serif\" font-size=\"12\" lengthAdjust=\"spacingAndGlyphs\" textLength=\"7\" x=\"507.5\" y=\"71.1074\">F</text><line style=\"stroke: #383838; stroke-width: 1.5;\" x1=\"458\" x2=\"564\" y1=\"78.9375\" y2=\"78.9375\"/></a><!--MD5=[270fce915f116d4de14055a7c1d9a0f3]\n",
       "class E5--><a href=\"psysml:8c3ddf1b-2d8e-48f9-8bd9-e07e4f9dde48\" target=\"_top\" title=\"psysml:8c3ddf1b-2d8e-48f9-8bd9-e07e4f9dde48\" xlink:actuate=\"onRequest\" xlink:href=\"psysml:8c3ddf1b-2d8e-48f9-8bd9-e07e4f9dde48\" xlink:show=\"new\" xlink:title=\"psysml:8c3ddf1b-2d8e-48f9-8bd9-e07e4f9dde48\" xlink:type=\"simple\"><rect fill=\"#FFFFFF\" height=\"45.9375\" id=\"E5\" rx=\"10\" ry=\"10\" style=\"stroke: #383838; stroke-width: 1.5;\" width=\"71\" x=\"350.5\" y=\"41\"/><text fill=\"#000000\" font-family=\"sans-serif\" font-size=\"12\" font-style=\"italic\" lengthAdjust=\"spacingAndGlyphs\" textLength=\"69\" x=\"351.5\" y=\"57.1387\">«attribute»</text><text fill=\"#000000\" font-family=\"sans-serif\" font-size=\"12\" lengthAdjust=\"spacingAndGlyphs\" textLength=\"4\" x=\"384\" y=\"71.1074\">f</text><line style=\"stroke: #383838; stroke-width: 1.5;\" x1=\"351.5\" x2=\"420.5\" y1=\"78.9375\" y2=\"78.9375\"/></a><!--MD5=[60a26617385b1d2d0262a64233df1f8d]\n",
       "class E6--><a href=\"psysml:1f38f371-1f52-4b01-a20c-3f08ced1218d\" target=\"_top\" title=\"psysml:1f38f371-1f52-4b01-a20c-3f08ced1218d\" xlink:actuate=\"onRequest\" xlink:href=\"psysml:1f38f371-1f52-4b01-a20c-3f08ced1218d\" xlink:show=\"new\" xlink:title=\"psysml:1f38f371-1f52-4b01-a20c-3f08ced1218d\" xlink:type=\"simple\"><rect fill=\"#FFFFFF\" height=\"45.9375\" id=\"E6\" rx=\"10\" ry=\"10\" style=\"stroke: #383838; stroke-width: 1.5;\" width=\"71\" x=\"244.5\" y=\"41\"/><text fill=\"#000000\" font-family=\"sans-serif\" font-size=\"12\" font-style=\"italic\" lengthAdjust=\"spacingAndGlyphs\" textLength=\"69\" x=\"245.5\" y=\"57.1387\">«attribute»</text><text fill=\"#000000\" font-family=\"sans-serif\" font-size=\"12\" lengthAdjust=\"spacingAndGlyphs\" textLength=\"8\" x=\"276\" y=\"71.1074\">g</text><line style=\"stroke: #383838; stroke-width: 1.5;\" x1=\"245.5\" x2=\"314.5\" y1=\"78.9375\" y2=\"78.9375\"/></a><!--MD5=[2156ba9850f5573cc1fc38a6a4b2f02b]\n",
       "class E7--><a href=\"psysml:cd4f641f-a9ce-41b8-9b9f-d9b0f89951b2\" target=\"_top\" title=\"psysml:cd4f641f-a9ce-41b8-9b9f-d9b0f89951b2\" xlink:actuate=\"onRequest\" xlink:href=\"psysml:cd4f641f-a9ce-41b8-9b9f-d9b0f89951b2\" xlink:show=\"new\" xlink:title=\"psysml:cd4f641f-a9ce-41b8-9b9f-d9b0f89951b2\" xlink:type=\"simple\"><rect fill=\"#FFFFFF\" height=\"45.9375\" id=\"E7\" rx=\"10\" ry=\"10\" style=\"stroke: #383838; stroke-width: 1.5;\" width=\"71\" x=\"138.5\" y=\"41\"/><text fill=\"#000000\" font-family=\"sans-serif\" font-size=\"12\" font-style=\"italic\" lengthAdjust=\"spacingAndGlyphs\" textLength=\"69\" x=\"139.5\" y=\"57.1387\">«attribute»</text><text fill=\"#000000\" font-family=\"sans-serif\" font-size=\"12\" lengthAdjust=\"spacingAndGlyphs\" textLength=\"8\" x=\"170\" y=\"71.1074\">b</text><line style=\"stroke: #383838; stroke-width: 1.5;\" x1=\"139.5\" x2=\"208.5\" y1=\"78.9375\" y2=\"78.9375\"/></a><!--MD5=[b9389687b975829384b498ac4b7476b2]\n",
       "class E8--><a href=\"psysml:5033f0bf-ffeb-4313-b85b-4258ec8a052c\" target=\"_top\" title=\"psysml:5033f0bf-ffeb-4313-b85b-4258ec8a052c\" xlink:actuate=\"onRequest\" xlink:href=\"psysml:5033f0bf-ffeb-4313-b85b-4258ec8a052c\" xlink:show=\"new\" xlink:title=\"psysml:5033f0bf-ffeb-4313-b85b-4258ec8a052c\" xlink:type=\"simple\"><rect fill=\"#FFFFFF\" height=\"45.9375\" id=\"E8\" rx=\"10\" ry=\"10\" style=\"stroke: #383838; stroke-width: 1.5;\" width=\"71\" x=\"32.5\" y=\"41\"/><text fill=\"#000000\" font-family=\"sans-serif\" font-size=\"12\" font-style=\"italic\" lengthAdjust=\"spacingAndGlyphs\" textLength=\"69\" x=\"33.5\" y=\"57.1387\">«attribute»</text><text fill=\"#000000\" font-family=\"sans-serif\" font-size=\"12\" lengthAdjust=\"spacingAndGlyphs\" textLength=\"7\" x=\"64.5\" y=\"71.1074\">c</text><line style=\"stroke: #383838; stroke-width: 1.5;\" x1=\"33.5\" x2=\"102.5\" y1=\"78.9375\" y2=\"78.9375\"/></a><!--MD5=[05d275557350bfb9b23a4ef7222b4c39]\n",
       "link E3 to E2--><a href=\"psysml:94762400-f967-4f4d-9ae0-7f515d54317a\" target=\"_top\" title=\"psysml:94762400-f967-4f4d-9ae0-7f515d54317a\" xlink:actuate=\"onRequest\" xlink:href=\"psysml:94762400-f967-4f4d-9ae0-7f515d54317a\" xlink:show=\"new\" xlink:title=\"psysml:94762400-f967-4f4d-9ae0-7f515d54317a\" xlink:type=\"simple\"><path d=\"M621.94,87.19 C611.77,103.23 597.51,125.73 584.09,146.9 \" fill=\"none\" id=\"E3-&gt;E2\" style=\"stroke: #383838; stroke-width: 1.0;\"/><polygon fill=\"#FFFFFF\" points=\"573.37,163.82,577.6195,144.0225,589.448,151.5115,573.37,163.82\" style=\"stroke: #383838; stroke-width: 1.0;\"/><ellipse cx=\"582.3584\" cy=\"140.2764\" fill=\"#383838\" rx=\"2\" ry=\"2\" style=\"stroke: #383838; stroke-width: 1.0;\"/><ellipse cx=\"590.8073\" cy=\"145.6258\" fill=\"#383838\" rx=\"2\" ry=\"2\" style=\"stroke: #383838; stroke-width: 1.0;\"/></a><!--MD5=[ddeed8deb2209213b62e6cfabaa108b2]\n",
       "reverse link E4 to E2--><a href=\"psysml:6f03e5ff-f747-4209-970e-6a43677acfe5\" target=\"_top\" title=\"psysml:6f03e5ff-f747-4209-970e-6a43677acfe5\" xlink:actuate=\"onRequest\" xlink:href=\"psysml:6f03e5ff-f747-4209-970e-6a43677acfe5\" xlink:show=\"new\" xlink:title=\"psysml:6f03e5ff-f747-4209-970e-6a43677acfe5\" xlink:type=\"simple\"><path d=\"M519.62,99.96 C524.37,119.25 530.31,143.36 535.36,163.82 \" fill=\"none\" id=\"E4&lt;-E2\" style=\"stroke: #383838; stroke-width: 1.0;\"/><polygon fill=\"#FFFFFF\" points=\"516.47,87.19,514.0229,93.9732,519.3432,98.841,521.7903,92.0577,516.47,87.19\" style=\"stroke: #383838; stroke-width: 1.0;\"/><text fill=\"#000000\" font-family=\"sans-serif\" font-size=\"13\" lengthAdjust=\"spacingAndGlyphs\" textLength=\"8\" x=\"528\" y=\"130.0669\">p</text></a><!--MD5=[6c6608f8831b2272023f4dc8a144fbe1]\n",
       "@startuml\r\n",
       "skinparam monochrome true\r\n",
       "skinparam classbackgroundcolor white\r\n",
       "skinparam shadowing false\r\n",
       "skinparam wrapWidth 300\r\n",
       "hide circle\r\n",
       "\r\n",
       "package \"ParameterTest\" as E1  [[psysml:88bd93f8-a024-442a-9349-d26cb2f873a0 ]]  {\r\n",
       "comp def \"A\" as E2  <<(T,blue)attribute def>> [[psysml:2f5789b5-3949-40b4-8579-f7414350119a ]] {\r\n",
       "- - attributes - -\r\n",
       "x: String\r\n",
       "y: A\r\n",
       "}\r\n",
       "comp usage \"a: A\" as E3  <<(T,blue)attribute>> [[psysml:02928bc4-0eb7-4367-aa3f-5ffb35356b49 ]] {\r\n",
       "}\r\n",
       "comp def \"F\" as E4  <<(T,blue)calculation def>> [[psysml:de3210e5-068c-44a8-9828-b5930a13c3bb ]] {\r\n",
       "}\r\n",
       "comp usage \"f\" as E5  <<(T,blue)attribute>> [[psysml:8c3ddf1b-2d8e-48f9-8bd9-e07e4f9dde48 ]] {\r\n",
       "}\r\n",
       "comp usage \"g\" as E6  <<(T,blue)attribute>> [[psysml:1f38f371-1f52-4b01-a20c-3f08ced1218d ]] {\r\n",
       "}\r\n",
       "comp usage \"b\" as E7  <<(T,blue)attribute>> [[psysml:cd4f641f-a9ce-41b8-9b9f-d9b0f89951b2 ]] {\r\n",
       "}\r\n",
       "comp usage \"c\" as E8  <<(T,blue)attribute>> [[psysml:5033f0bf-ffeb-4313-b85b-4258ec8a052c ]] {\r\n",
       "}\r\n",
       "E3 - -:|> E2 [[psysml:94762400-f967-4f4d-9ae0-7f515d54317a ]] \r\n",
       "E4 o- - E2 [[psysml:6f03e5ff-f747-4209-970e-6a43677acfe5 ]] : p\r\n",
       "}\r\n",
       "@enduml\r\n",
       "\n",
       "PlantUML version 1.2020.13(Sat Jun 13 12:26:38 UTC 2020)\n",
       "(EPL source distribution)\n",
       "Java Runtime: OpenJDK Runtime Environment\n",
       "JVM: OpenJDK 64-Bit Server VM\n",
       "Default Encoding: UTF-8\n",
       "Language: en\n",
       "Country: null\n",
       "--></g></svg>"
      ]
     },
     "execution_count": 38,
     "metadata": {},
     "output_type": "execute_result"
    }
   ],
   "source": [
    "%viz --style=\"DEFAULT\" --view=\"Tree\" \"ParameterTest\""
   ]
  },
  {
   "cell_type": "code",
   "execution_count": 39,
   "id": "entire-payment",
   "metadata": {
    "execution": {
     "iopub.execute_input": "2021-03-26T13:01:42.753397Z",
     "iopub.status.busy": "2021-03-26T13:01:42.752606Z",
     "iopub.status.idle": "2021-03-26T13:01:42.759020Z",
     "shell.execute_reply": "2021-03-26T13:01:42.758553Z"
    }
   },
   "outputs": [
    {
     "data": {
      "image/svg+xml": [
       "<?xml version=\"1.0\" encoding=\"UTF-8\" standalone=\"no\"?><svg xmlns=\"http://www.w3.org/2000/svg\" xmlns:xlink=\"http://www.w3.org/1999/xlink\" contentScriptType=\"application/ecmascript\" contentStyleType=\"text/css\" height=\"12px\" preserveAspectRatio=\"none\" style=\"width:12px;height:12px;\" version=\"1.1\" viewBox=\"0 0 12 12\" width=\"12px\" zoomAndPan=\"magnify\"><defs/><g><!--MD5=[c5f280e076d0d61ccf4b0f27871bda1d]\n",
       "@startuml\r\n",
       "skinparam monochrome true\r\n",
       "skinparam classbackgroundcolor white\r\n",
       "skinparam shadowing false\r\n",
       "skinparam wrapWidth 300\r\n",
       "hide circle\r\n",
       "\r\n",
       "@enduml\r\n",
       "\n",
       "PlantUML version 1.2020.13(Sat Jun 13 12:26:38 UTC 2020)\n",
       "(EPL source distribution)\n",
       "Java Runtime: OpenJDK Runtime Environment\n",
       "JVM: OpenJDK 64-Bit Server VM\n",
       "Default Encoding: UTF-8\n",
       "Language: en\n",
       "Country: null\n",
       "--></g></svg>"
      ]
     },
     "execution_count": 39,
     "metadata": {},
     "output_type": "execute_result"
    }
   ],
   "source": [
    "%viz --style=\"DEFAULT\" --view=\"State\" \"ParameterTest\""
   ]
  },
  {
   "cell_type": "code",
   "execution_count": 40,
   "id": "elegant-package",
   "metadata": {
    "execution": {
     "iopub.execute_input": "2021-03-26T13:01:42.810688Z",
     "iopub.status.busy": "2021-03-26T13:01:42.809905Z",
     "iopub.status.idle": "2021-03-26T13:01:42.841519Z",
     "shell.execute_reply": "2021-03-26T13:01:42.840214Z"
    }
   },
   "outputs": [
    {
     "data": {
      "image/svg+xml": [
       "<?xml version=\"1.0\" encoding=\"UTF-8\" standalone=\"no\"?><svg xmlns=\"http://www.w3.org/2000/svg\" xmlns:xlink=\"http://www.w3.org/1999/xlink\" contentScriptType=\"application/ecmascript\" contentStyleType=\"text/css\" height=\"112px\" preserveAspectRatio=\"none\" style=\"width:874px;height:112px;\" version=\"1.1\" viewBox=\"0 0 874 112\" width=\"874px\" zoomAndPan=\"magnify\"><defs/><g><!--MD5=[fbc87193dbaf4d95561dea2c320d4a47]\n",
       "cluster E1--><a href=\"psysml:88bd93f8-a024-442a-9349-d26cb2f873a0\" target=\"_top\" title=\"psysml:88bd93f8-a024-442a-9349-d26cb2f873a0\" xlink:actuate=\"onRequest\" xlink:href=\"psysml:88bd93f8-a024-442a-9349-d26cb2f873a0\" xlink:show=\"new\" xlink:title=\"psysml:88bd93f8-a024-442a-9349-d26cb2f873a0\" xlink:type=\"simple\"><polygon fill=\"#FFFFFF\" points=\"16,6,139,6,146,28.2969,852,28.2969,852,100,16,100,16,6\" style=\"stroke: #000000; stroke-width: 1.5;\"/><line style=\"stroke: #000000; stroke-width: 1.5;\" x1=\"16\" x2=\"146\" y1=\"28.2969\" y2=\"28.2969\"/><text fill=\"#000000\" font-family=\"sans-serif\" font-size=\"14\" font-weight=\"bold\" lengthAdjust=\"spacingAndGlyphs\" textLength=\"117\" x=\"20\" y=\"20.9951\">ParameterTest</text></a><g id=\"E1.E2\"><a href=\"psysml:2f5789b5-3949-40b4-8579-f7414350119a\" target=\"_top\" title=\"psysml:2f5789b5-3949-40b4-8579-f7414350119a\" xlink:actuate=\"onRequest\" xlink:href=\"psysml:2f5789b5-3949-40b4-8579-f7414350119a\" xlink:show=\"new\" xlink:title=\"psysml:2f5789b5-3949-40b4-8579-f7414350119a\" xlink:type=\"simple\"><rect fill=\"#FFFFFF\" height=\"42.9375\" id=\"E2\" style=\"stroke: #383838; stroke-width: 1.5;\" width=\"100\" x=\"736\" y=\"41\"/><rect fill=\"#F8F8F8\" height=\"37.9375\" style=\"stroke: #383838; stroke-width: 1.5;\" width=\"100\" x=\"736\" y=\"41\"/><text fill=\"#000000\" font-family=\"sans-serif\" font-size=\"12\" font-style=\"italic\" lengthAdjust=\"spacingAndGlyphs\" textLength=\"93\" x=\"739.5\" y=\"57.1387\">«attribute def»</text><text fill=\"#000000\" font-family=\"sans-serif\" font-size=\"12\" lengthAdjust=\"spacingAndGlyphs\" textLength=\"8\" x=\"782\" y=\"71.1074\">A</text></a></g><g id=\"E1.E4\"><a href=\"psysml:de3210e5-068c-44a8-9828-b5930a13c3bb\" target=\"_top\" title=\"psysml:de3210e5-068c-44a8-9828-b5930a13c3bb\" xlink:actuate=\"onRequest\" xlink:href=\"psysml:de3210e5-068c-44a8-9828-b5930a13c3bb\" xlink:show=\"new\" xlink:title=\"psysml:de3210e5-068c-44a8-9828-b5930a13c3bb\" xlink:type=\"simple\"><rect fill=\"#FFFFFF\" height=\"42.9375\" id=\"E4\" style=\"stroke: #383838; stroke-width: 1.5;\" width=\"113\" x=\"587.5\" y=\"41\"/><rect fill=\"#F8F8F8\" height=\"37.9375\" style=\"stroke: #383838; stroke-width: 1.5;\" width=\"113\" x=\"587.5\" y=\"41\"/><text fill=\"#000000\" font-family=\"sans-serif\" font-size=\"12\" font-style=\"italic\" lengthAdjust=\"spacingAndGlyphs\" textLength=\"106\" x=\"591\" y=\"57.1387\">«calculation def»</text><text fill=\"#000000\" font-family=\"sans-serif\" font-size=\"12\" lengthAdjust=\"spacingAndGlyphs\" textLength=\"7\" x=\"640.5\" y=\"71.1074\">F</text></a></g><g id=\"E1.E3\"><a href=\"psysml:02928bc4-0eb7-4367-aa3f-5ffb35356b49\" target=\"_top\" title=\"psysml:02928bc4-0eb7-4367-aa3f-5ffb35356b49\" xlink:actuate=\"onRequest\" xlink:href=\"psysml:02928bc4-0eb7-4367-aa3f-5ffb35356b49\" xlink:show=\"new\" xlink:title=\"psysml:02928bc4-0eb7-4367-aa3f-5ffb35356b49\" xlink:type=\"simple\"><rect fill=\"#FFFFFF\" height=\"42.9375\" id=\"E3\" rx=\"10\" ry=\"10\" style=\"stroke: #383838; stroke-width: 1.5;\" width=\"76\" x=\"476\" y=\"41\"/><rect fill=\"#F8F8F8\" height=\"37.9375\" rx=\"10\" ry=\"10\" style=\"stroke: #F8F8F8; stroke-width: 1.5;\" width=\"76\" x=\"476\" y=\"41\"/><rect fill=\"#F8F8F8\" height=\"10\" style=\"stroke: #F8F8F8; stroke-width: 1.5;\" width=\"76\" x=\"476\" y=\"68.9375\"/><rect fill=\"none\" height=\"42.9375\" id=\"E3\" rx=\"10\" ry=\"10\" style=\"stroke: #383838; stroke-width: 1.5;\" width=\"76\" x=\"476\" y=\"41\"/><text fill=\"#000000\" font-family=\"sans-serif\" font-size=\"12\" font-style=\"italic\" lengthAdjust=\"spacingAndGlyphs\" textLength=\"69\" x=\"479.5\" y=\"57.1387\">«attribute»</text><text fill=\"#000000\" font-family=\"sans-serif\" font-size=\"12\" lengthAdjust=\"spacingAndGlyphs\" textLength=\"24\" x=\"502\" y=\"71.1074\">a: A</text></a></g><g id=\"E1.E5\"><a href=\"psysml:8c3ddf1b-2d8e-48f9-8bd9-e07e4f9dde48\" target=\"_top\" title=\"psysml:8c3ddf1b-2d8e-48f9-8bd9-e07e4f9dde48\" xlink:actuate=\"onRequest\" xlink:href=\"psysml:8c3ddf1b-2d8e-48f9-8bd9-e07e4f9dde48\" xlink:show=\"new\" xlink:title=\"psysml:8c3ddf1b-2d8e-48f9-8bd9-e07e4f9dde48\" xlink:type=\"simple\"><rect fill=\"#FFFFFF\" height=\"42.9375\" id=\"E5\" rx=\"10\" ry=\"10\" style=\"stroke: #383838; stroke-width: 1.5;\" width=\"76\" x=\"365\" y=\"41\"/><rect fill=\"#F8F8F8\" height=\"37.9375\" rx=\"10\" ry=\"10\" style=\"stroke: #F8F8F8; stroke-width: 1.5;\" width=\"76\" x=\"365\" y=\"41\"/><rect fill=\"#F8F8F8\" height=\"10\" style=\"stroke: #F8F8F8; stroke-width: 1.5;\" width=\"76\" x=\"365\" y=\"68.9375\"/><rect fill=\"none\" height=\"42.9375\" id=\"E5\" rx=\"10\" ry=\"10\" style=\"stroke: #383838; stroke-width: 1.5;\" width=\"76\" x=\"365\" y=\"41\"/><text fill=\"#000000\" font-family=\"sans-serif\" font-size=\"12\" font-style=\"italic\" lengthAdjust=\"spacingAndGlyphs\" textLength=\"69\" x=\"368.5\" y=\"57.1387\">«attribute»</text><text fill=\"#000000\" font-family=\"sans-serif\" font-size=\"12\" lengthAdjust=\"spacingAndGlyphs\" textLength=\"4\" x=\"401\" y=\"71.1074\">f</text></a></g><g id=\"E1.E6\"><a href=\"psysml:1f38f371-1f52-4b01-a20c-3f08ced1218d\" target=\"_top\" title=\"psysml:1f38f371-1f52-4b01-a20c-3f08ced1218d\" xlink:actuate=\"onRequest\" xlink:href=\"psysml:1f38f371-1f52-4b01-a20c-3f08ced1218d\" xlink:show=\"new\" xlink:title=\"psysml:1f38f371-1f52-4b01-a20c-3f08ced1218d\" xlink:type=\"simple\"><rect fill=\"#FFFFFF\" height=\"42.9375\" id=\"E6\" rx=\"10\" ry=\"10\" style=\"stroke: #383838; stroke-width: 1.5;\" width=\"76\" x=\"254\" y=\"41\"/><rect fill=\"#F8F8F8\" height=\"37.9375\" rx=\"10\" ry=\"10\" style=\"stroke: #F8F8F8; stroke-width: 1.5;\" width=\"76\" x=\"254\" y=\"41\"/><rect fill=\"#F8F8F8\" height=\"10\" style=\"stroke: #F8F8F8; stroke-width: 1.5;\" width=\"76\" x=\"254\" y=\"68.9375\"/><rect fill=\"none\" height=\"42.9375\" id=\"E6\" rx=\"10\" ry=\"10\" style=\"stroke: #383838; stroke-width: 1.5;\" width=\"76\" x=\"254\" y=\"41\"/><text fill=\"#000000\" font-family=\"sans-serif\" font-size=\"12\" font-style=\"italic\" lengthAdjust=\"spacingAndGlyphs\" textLength=\"69\" x=\"257.5\" y=\"57.1387\">«attribute»</text><text fill=\"#000000\" font-family=\"sans-serif\" font-size=\"12\" lengthAdjust=\"spacingAndGlyphs\" textLength=\"8\" x=\"288\" y=\"71.1074\">g</text></a></g><g id=\"E1.E7\"><a href=\"psysml:cd4f641f-a9ce-41b8-9b9f-d9b0f89951b2\" target=\"_top\" title=\"psysml:cd4f641f-a9ce-41b8-9b9f-d9b0f89951b2\" xlink:actuate=\"onRequest\" xlink:href=\"psysml:cd4f641f-a9ce-41b8-9b9f-d9b0f89951b2\" xlink:show=\"new\" xlink:title=\"psysml:cd4f641f-a9ce-41b8-9b9f-d9b0f89951b2\" xlink:type=\"simple\"><rect fill=\"#FFFFFF\" height=\"42.9375\" id=\"E7\" rx=\"10\" ry=\"10\" style=\"stroke: #383838; stroke-width: 1.5;\" width=\"76\" x=\"143\" y=\"41\"/><rect fill=\"#F8F8F8\" height=\"37.9375\" rx=\"10\" ry=\"10\" style=\"stroke: #F8F8F8; stroke-width: 1.5;\" width=\"76\" x=\"143\" y=\"41\"/><rect fill=\"#F8F8F8\" height=\"10\" style=\"stroke: #F8F8F8; stroke-width: 1.5;\" width=\"76\" x=\"143\" y=\"68.9375\"/><rect fill=\"none\" height=\"42.9375\" id=\"E7\" rx=\"10\" ry=\"10\" style=\"stroke: #383838; stroke-width: 1.5;\" width=\"76\" x=\"143\" y=\"41\"/><text fill=\"#000000\" font-family=\"sans-serif\" font-size=\"12\" font-style=\"italic\" lengthAdjust=\"spacingAndGlyphs\" textLength=\"69\" x=\"146.5\" y=\"57.1387\">«attribute»</text><text fill=\"#000000\" font-family=\"sans-serif\" font-size=\"12\" lengthAdjust=\"spacingAndGlyphs\" textLength=\"8\" x=\"177\" y=\"71.1074\">b</text></a></g><g id=\"E1.E8\"><a href=\"psysml:5033f0bf-ffeb-4313-b85b-4258ec8a052c\" target=\"_top\" title=\"psysml:5033f0bf-ffeb-4313-b85b-4258ec8a052c\" xlink:actuate=\"onRequest\" xlink:href=\"psysml:5033f0bf-ffeb-4313-b85b-4258ec8a052c\" xlink:show=\"new\" xlink:title=\"psysml:5033f0bf-ffeb-4313-b85b-4258ec8a052c\" xlink:type=\"simple\"><rect fill=\"#FFFFFF\" height=\"42.9375\" id=\"E8\" rx=\"10\" ry=\"10\" style=\"stroke: #383838; stroke-width: 1.5;\" width=\"76\" x=\"32\" y=\"41\"/><rect fill=\"#F8F8F8\" height=\"37.9375\" rx=\"10\" ry=\"10\" style=\"stroke: #F8F8F8; stroke-width: 1.5;\" width=\"76\" x=\"32\" y=\"41\"/><rect fill=\"#F8F8F8\" height=\"10\" style=\"stroke: #F8F8F8; stroke-width: 1.5;\" width=\"76\" x=\"32\" y=\"68.9375\"/><rect fill=\"none\" height=\"42.9375\" id=\"E8\" rx=\"10\" ry=\"10\" style=\"stroke: #383838; stroke-width: 1.5;\" width=\"76\" x=\"32\" y=\"41\"/><text fill=\"#000000\" font-family=\"sans-serif\" font-size=\"12\" font-style=\"italic\" lengthAdjust=\"spacingAndGlyphs\" textLength=\"69\" x=\"35.5\" y=\"57.1387\">«attribute»</text><text fill=\"#000000\" font-family=\"sans-serif\" font-size=\"12\" lengthAdjust=\"spacingAndGlyphs\" textLength=\"7\" x=\"66.5\" y=\"71.1074\">c</text></a></g><!--MD5=[586d8b4ae9634d442609f35ffe300754]\n",
       "@startuml\r\n",
       "skinparam ranksep 8\r\n",
       "skinparam rectangle {\r\n",
       " backgroundColor<<block>> LightGreen\r\n",
       "}\r\n",
       "skinparam monochrome true\r\n",
       "skinparam classbackgroundcolor white\r\n",
       "skinparam shadowing false\r\n",
       "skinparam wrapWidth 300\r\n",
       "hide circle\r\n",
       "\r\n",
       "package \"ParameterTest\" as E1  [[psysml:88bd93f8-a024-442a-9349-d26cb2f873a0 ]]  {\r\n",
       "def \"A\" as E2  <<(T,blue)attribute def>> [[psysml:2f5789b5-3949-40b4-8579-f7414350119a ]] \r\n",
       "rec usage \"a: A\" as E3  <<(T,blue)attribute>> [[psysml:02928bc4-0eb7-4367-aa3f-5ffb35356b49 ]] {\r\n",
       "}\r\n",
       "def \"F\" as E4  <<(T,blue)calculation def>> [[psysml:de3210e5-068c-44a8-9828-b5930a13c3bb ]] \r\n",
       "rec usage \"f\" as E5  <<(T,blue)attribute>> [[psysml:8c3ddf1b-2d8e-48f9-8bd9-e07e4f9dde48 ]] {\r\n",
       "}\r\n",
       "rec usage \"g\" as E6  <<(T,blue)attribute>> [[psysml:1f38f371-1f52-4b01-a20c-3f08ced1218d ]] {\r\n",
       "}\r\n",
       "rec usage \"b\" as E7  <<(T,blue)attribute>> [[psysml:cd4f641f-a9ce-41b8-9b9f-d9b0f89951b2 ]] {\r\n",
       "}\r\n",
       "rec usage \"c\" as E8  <<(T,blue)attribute>> [[psysml:5033f0bf-ffeb-4313-b85b-4258ec8a052c ]] {\r\n",
       "}\r\n",
       "}\r\n",
       "@enduml\r\n",
       "\n",
       "PlantUML version 1.2020.13(Sat Jun 13 12:26:38 UTC 2020)\n",
       "(EPL source distribution)\n",
       "Java Runtime: OpenJDK Runtime Environment\n",
       "JVM: OpenJDK 64-Bit Server VM\n",
       "Default Encoding: UTF-8\n",
       "Language: en\n",
       "Country: null\n",
       "--></g></svg>"
      ]
     },
     "execution_count": 40,
     "metadata": {},
     "output_type": "execute_result"
    }
   ],
   "source": [
    "%viz --style=\"DEFAULT\" --view=\"Interconnection\" \"ParameterTest\""
   ]
  },
  {
   "cell_type": "code",
   "execution_count": 41,
   "id": "positive-inspiration",
   "metadata": {
    "execution": {
     "iopub.execute_input": "2021-03-26T13:01:42.893088Z",
     "iopub.status.busy": "2021-03-26T13:01:42.892344Z",
     "iopub.status.idle": "2021-03-26T13:01:42.915265Z",
     "shell.execute_reply": "2021-03-26T13:01:42.914967Z"
    }
   },
   "outputs": [
    {
     "data": {
      "image/svg+xml": [
       "<?xml version=\"1.0\" encoding=\"UTF-8\" standalone=\"no\"?><svg xmlns=\"http://www.w3.org/2000/svg\" xmlns:xlink=\"http://www.w3.org/1999/xlink\" contentScriptType=\"application/ecmascript\" contentStyleType=\"text/css\" height=\"126px\" preserveAspectRatio=\"none\" style=\"width:166px;height:126px;\" version=\"1.1\" viewBox=\"0 0 166 126\" width=\"166px\" zoomAndPan=\"magnify\"><defs/><g><!--MD5=[fbc87193dbaf4d95561dea2c320d4a47]\n",
       "cluster E1--><a href=\"psysml:de3210e5-068c-44a8-9828-b5930a13c3bb\" target=\"_top\" title=\"psysml:de3210e5-068c-44a8-9828-b5930a13c3bb\" xlink:actuate=\"onRequest\" xlink:href=\"psysml:de3210e5-068c-44a8-9828-b5930a13c3bb\" xlink:show=\"new\" xlink:title=\"psysml:de3210e5-068c-44a8-9828-b5930a13c3bb\" xlink:type=\"simple\"><rect fill=\"#FFFFFF\" height=\"73\" id=\"E1\" style=\"stroke: #383838; stroke-width: 1.5;\" width=\"148\" x=\"7\" y=\"42.0986\"/><rect fill=\"#F8F8F8\" height=\"37.9375\" style=\"stroke: #383838; stroke-width: 1.5;\" width=\"148\" x=\"7\" y=\"42.0986\"/><text fill=\"#000000\" font-family=\"sans-serif\" font-size=\"12\" font-style=\"italic\" lengthAdjust=\"spacingAndGlyphs\" textLength=\"106\" x=\"28\" y=\"58.2373\">«calculation def»</text><text fill=\"#000000\" font-family=\"sans-serif\" font-size=\"12\" lengthAdjust=\"spacingAndGlyphs\" textLength=\"7\" x=\"77.5\" y=\"72.2061\">F</text></a><text fill=\"#000000\" font-family=\"sans-serif\" font-size=\"14\" lengthAdjust=\"spacingAndGlyphs\" textLength=\"9\" x=\"20.5\" y=\"20.7969\">p</text><rect fill=\"#383838\" height=\"12\" style=\"stroke: #F8F8F8; stroke-width: 1.5;\" width=\"12\" x=\"19\" y=\"36.0986\"/><text fill=\"#000000\" font-family=\"sans-serif\" font-size=\"14\" lengthAdjust=\"spacingAndGlyphs\" textLength=\"9\" x=\"67.5\" y=\"20.7969\">q</text><rect fill=\"#383838\" height=\"12\" style=\"stroke: #F8F8F8; stroke-width: 1.5;\" width=\"12\" x=\"66\" y=\"36.0986\"/><!--MD5=[1cfb87246fc75722fc8718beae6c6c9f]\n",
       "@startuml\r\n",
       "skinparam ranksep 8\r\n",
       "skinparam monochrome true\r\n",
       "skinparam classbackgroundcolor white\r\n",
       "skinparam shadowing false\r\n",
       "skinparam wrapWidth 300\r\n",
       "hide circle\r\n",
       "\r\n",
       "rec def \"F\" as E1  <<(T,blue)calculation def>> [[psysml:de3210e5-068c-44a8-9828-b5930a13c3bb ]] {\r\n",
       "portin \"p\" as E2  [[psysml:6f03e5ff-f747-4209-970e-6a43677acfe5 ]] \r\n",
       "portin \"q\" as E3  [[psysml:59b46d55-27e2-4503-b58c-744d75cefff1 ]] \r\n",
       "}\r\n",
       "\r\n",
       "@enduml\r\n",
       "\n",
       "PlantUML version 1.2020.13(Sat Jun 13 12:26:38 UTC 2020)\n",
       "(EPL source distribution)\n",
       "Java Runtime: OpenJDK Runtime Environment\n",
       "JVM: OpenJDK 64-Bit Server VM\n",
       "Default Encoding: UTF-8\n",
       "Language: en\n",
       "Country: null\n",
       "--></g></svg>"
      ]
     },
     "execution_count": 41,
     "metadata": {},
     "output_type": "execute_result"
    }
   ],
   "source": [
    "%viz --style=\"DEFAULT\" --view=\"Action\" \"ParameterTest\""
   ]
  },
  {
   "cell_type": "code",
   "execution_count": 42,
   "id": "virtual-producer",
   "metadata": {
    "execution": {
     "iopub.execute_input": "2021-03-26T13:01:42.968342Z",
     "iopub.status.busy": "2021-03-26T13:01:42.967475Z",
     "iopub.status.idle": "2021-03-26T13:01:43.012094Z",
     "shell.execute_reply": "2021-03-26T13:01:43.010540Z"
    }
   },
   "outputs": [
    {
     "data": {
      "image/svg+xml": [
       "<?xml version=\"1.0\" encoding=\"UTF-8\" standalone=\"no\"?><svg xmlns=\"http://www.w3.org/2000/svg\" xmlns:xlink=\"http://www.w3.org/1999/xlink\" contentScriptType=\"application/ecmascript\" contentStyleType=\"text/css\" height=\"280px\" preserveAspectRatio=\"none\" style=\"width:710px;height:280px;\" version=\"1.1\" viewBox=\"0 0 710 280\" width=\"710px\" zoomAndPan=\"magnify\"><defs/><g><!--MD5=[fbc87193dbaf4d95561dea2c320d4a47]\n",
       "cluster E1--><a href=\"psysml:88bd93f8-a024-442a-9349-d26cb2f873a0\" target=\"_top\" title=\"psysml:88bd93f8-a024-442a-9349-d26cb2f873a0\" xlink:actuate=\"onRequest\" xlink:href=\"psysml:88bd93f8-a024-442a-9349-d26cb2f873a0\" xlink:show=\"new\" xlink:title=\"psysml:88bd93f8-a024-442a-9349-d26cb2f873a0\" xlink:type=\"simple\"><polygon fill=\"#FFFFFF\" points=\"16,6,139,6,146,28.2969,688,28.2969,688,268,16,268,16,6\" style=\"stroke: #000000; stroke-width: 1.5;\"/><line style=\"stroke: #000000; stroke-width: 1.5;\" x1=\"16\" x2=\"146\" y1=\"28.2969\" y2=\"28.2969\"/><text fill=\"#000000\" font-family=\"sans-serif\" font-size=\"14\" font-weight=\"bold\" lengthAdjust=\"spacingAndGlyphs\" textLength=\"117\" x=\"20\" y=\"20.9951\">ParameterTest</text></a><!--MD5=[b4997ac47864f28c2f74865a473b2911]\n",
       "class E2--><a href=\"psysml:2f5789b5-3949-40b4-8579-f7414350119a\" target=\"_top\" title=\"psysml:2f5789b5-3949-40b4-8579-f7414350119a\" xlink:actuate=\"onRequest\" xlink:href=\"psysml:2f5789b5-3949-40b4-8579-f7414350119a\" xlink:show=\"new\" xlink:title=\"psysml:2f5789b5-3949-40b4-8579-f7414350119a\" xlink:type=\"simple\"><rect fill=\"#FFFFFF\" height=\"88.3516\" id=\"E2\" style=\"stroke: #383838; stroke-width: 1.5;\" width=\"95\" x=\"498.5\" y=\"164\"/><text fill=\"#000000\" font-family=\"sans-serif\" font-size=\"12\" font-style=\"italic\" lengthAdjust=\"spacingAndGlyphs\" textLength=\"93\" x=\"499.5\" y=\"180.1387\">«attribute def»</text><text fill=\"#000000\" font-family=\"sans-serif\" font-size=\"12\" lengthAdjust=\"spacingAndGlyphs\" textLength=\"8\" x=\"542\" y=\"194.1074\">A</text><line style=\"stroke: #383838; stroke-width: 1.5;\" x1=\"499.5\" x2=\"592.5\" y1=\"201.9375\" y2=\"201.9375\"/><text fill=\"#000000\" font-family=\"sans-serif\" font-size=\"11\" lengthAdjust=\"spacingAndGlyphs\" textLength=\"48\" x=\"504.5\" y=\"232.9526\">x: String</text><text fill=\"#000000\" font-family=\"sans-serif\" font-size=\"11\" lengthAdjust=\"spacingAndGlyphs\" textLength=\"21\" x=\"504.5\" y=\"245.7573\">y: A</text><line style=\"stroke: #383838; stroke-width: 1.0;\" x1=\"499.5\" x2=\"518.5\" y1=\"216.3398\" y2=\"216.3398\"/><text fill=\"#000000\" font-family=\"sans-serif\" font-size=\"11\" lengthAdjust=\"spacingAndGlyphs\" textLength=\"55\" x=\"518.5\" y=\"219.6479\">attributes</text><line style=\"stroke: #383838; stroke-width: 1.0;\" x1=\"573.5\" x2=\"592.5\" y1=\"216.3398\" y2=\"216.3398\"/></a><!--MD5=[09b614a08d8cba4a07c9adeb5e0fee81]\n",
       "class E3--><a href=\"psysml:02928bc4-0eb7-4367-aa3f-5ffb35356b49\" target=\"_top\" title=\"psysml:02928bc4-0eb7-4367-aa3f-5ffb35356b49\" xlink:actuate=\"onRequest\" xlink:href=\"psysml:02928bc4-0eb7-4367-aa3f-5ffb35356b49\" xlink:show=\"new\" xlink:title=\"psysml:02928bc4-0eb7-4367-aa3f-5ffb35356b49\" xlink:type=\"simple\"><rect fill=\"#FFFFFF\" height=\"45.9375\" id=\"E3\" rx=\"10\" ry=\"10\" style=\"stroke: #383838; stroke-width: 1.5;\" width=\"71\" x=\"600.5\" y=\"41\"/><text fill=\"#000000\" font-family=\"sans-serif\" font-size=\"12\" font-style=\"italic\" lengthAdjust=\"spacingAndGlyphs\" textLength=\"69\" x=\"601.5\" y=\"57.1387\">«attribute»</text><text fill=\"#000000\" font-family=\"sans-serif\" font-size=\"12\" lengthAdjust=\"spacingAndGlyphs\" textLength=\"24\" x=\"624\" y=\"71.1074\">a: A</text><line style=\"stroke: #383838; stroke-width: 1.5;\" x1=\"601.5\" x2=\"670.5\" y1=\"78.9375\" y2=\"78.9375\"/></a><!--MD5=[ebbe1d658d1005bcc118a6aa81145e00]\n",
       "class E4--><a href=\"psysml:de3210e5-068c-44a8-9828-b5930a13c3bb\" target=\"_top\" title=\"psysml:de3210e5-068c-44a8-9828-b5930a13c3bb\" xlink:actuate=\"onRequest\" xlink:href=\"psysml:de3210e5-068c-44a8-9828-b5930a13c3bb\" xlink:show=\"new\" xlink:title=\"psysml:de3210e5-068c-44a8-9828-b5930a13c3bb\" xlink:type=\"simple\"><rect fill=\"#FFFFFF\" height=\"45.9375\" id=\"E4\" style=\"stroke: #383838; stroke-width: 1.5;\" width=\"108\" x=\"457\" y=\"41\"/><text fill=\"#000000\" font-family=\"sans-serif\" font-size=\"12\" font-style=\"italic\" lengthAdjust=\"spacingAndGlyphs\" textLength=\"106\" x=\"458\" y=\"57.1387\">«calculation def»</text><text fill=\"#000000\" font-family=\"sans-serif\" font-size=\"12\" lengthAdjust=\"spacingAndGlyphs\" textLength=\"7\" x=\"507.5\" y=\"71.1074\">F</text><line style=\"stroke: #383838; stroke-width: 1.5;\" x1=\"458\" x2=\"564\" y1=\"78.9375\" y2=\"78.9375\"/></a><!--MD5=[270fce915f116d4de14055a7c1d9a0f3]\n",
       "class E5--><a href=\"psysml:8c3ddf1b-2d8e-48f9-8bd9-e07e4f9dde48\" target=\"_top\" title=\"psysml:8c3ddf1b-2d8e-48f9-8bd9-e07e4f9dde48\" xlink:actuate=\"onRequest\" xlink:href=\"psysml:8c3ddf1b-2d8e-48f9-8bd9-e07e4f9dde48\" xlink:show=\"new\" xlink:title=\"psysml:8c3ddf1b-2d8e-48f9-8bd9-e07e4f9dde48\" xlink:type=\"simple\"><rect fill=\"#FFFFFF\" height=\"45.9375\" id=\"E5\" rx=\"10\" ry=\"10\" style=\"stroke: #383838; stroke-width: 1.5;\" width=\"71\" x=\"350.5\" y=\"41\"/><text fill=\"#000000\" font-family=\"sans-serif\" font-size=\"12\" font-style=\"italic\" lengthAdjust=\"spacingAndGlyphs\" textLength=\"69\" x=\"351.5\" y=\"57.1387\">«attribute»</text><text fill=\"#000000\" font-family=\"sans-serif\" font-size=\"12\" lengthAdjust=\"spacingAndGlyphs\" textLength=\"4\" x=\"384\" y=\"71.1074\">f</text><line style=\"stroke: #383838; stroke-width: 1.5;\" x1=\"351.5\" x2=\"420.5\" y1=\"78.9375\" y2=\"78.9375\"/></a><!--MD5=[60a26617385b1d2d0262a64233df1f8d]\n",
       "class E6--><a href=\"psysml:1f38f371-1f52-4b01-a20c-3f08ced1218d\" target=\"_top\" title=\"psysml:1f38f371-1f52-4b01-a20c-3f08ced1218d\" xlink:actuate=\"onRequest\" xlink:href=\"psysml:1f38f371-1f52-4b01-a20c-3f08ced1218d\" xlink:show=\"new\" xlink:title=\"psysml:1f38f371-1f52-4b01-a20c-3f08ced1218d\" xlink:type=\"simple\"><rect fill=\"#FFFFFF\" height=\"45.9375\" id=\"E6\" rx=\"10\" ry=\"10\" style=\"stroke: #383838; stroke-width: 1.5;\" width=\"71\" x=\"244.5\" y=\"41\"/><text fill=\"#000000\" font-family=\"sans-serif\" font-size=\"12\" font-style=\"italic\" lengthAdjust=\"spacingAndGlyphs\" textLength=\"69\" x=\"245.5\" y=\"57.1387\">«attribute»</text><text fill=\"#000000\" font-family=\"sans-serif\" font-size=\"12\" lengthAdjust=\"spacingAndGlyphs\" textLength=\"8\" x=\"276\" y=\"71.1074\">g</text><line style=\"stroke: #383838; stroke-width: 1.5;\" x1=\"245.5\" x2=\"314.5\" y1=\"78.9375\" y2=\"78.9375\"/></a><!--MD5=[2156ba9850f5573cc1fc38a6a4b2f02b]\n",
       "class E7--><a href=\"psysml:cd4f641f-a9ce-41b8-9b9f-d9b0f89951b2\" target=\"_top\" title=\"psysml:cd4f641f-a9ce-41b8-9b9f-d9b0f89951b2\" xlink:actuate=\"onRequest\" xlink:href=\"psysml:cd4f641f-a9ce-41b8-9b9f-d9b0f89951b2\" xlink:show=\"new\" xlink:title=\"psysml:cd4f641f-a9ce-41b8-9b9f-d9b0f89951b2\" xlink:type=\"simple\"><rect fill=\"#FFFFFF\" height=\"45.9375\" id=\"E7\" rx=\"10\" ry=\"10\" style=\"stroke: #383838; stroke-width: 1.5;\" width=\"71\" x=\"138.5\" y=\"41\"/><text fill=\"#000000\" font-family=\"sans-serif\" font-size=\"12\" font-style=\"italic\" lengthAdjust=\"spacingAndGlyphs\" textLength=\"69\" x=\"139.5\" y=\"57.1387\">«attribute»</text><text fill=\"#000000\" font-family=\"sans-serif\" font-size=\"12\" lengthAdjust=\"spacingAndGlyphs\" textLength=\"8\" x=\"170\" y=\"71.1074\">b</text><line style=\"stroke: #383838; stroke-width: 1.5;\" x1=\"139.5\" x2=\"208.5\" y1=\"78.9375\" y2=\"78.9375\"/></a><!--MD5=[b9389687b975829384b498ac4b7476b2]\n",
       "class E8--><a href=\"psysml:5033f0bf-ffeb-4313-b85b-4258ec8a052c\" target=\"_top\" title=\"psysml:5033f0bf-ffeb-4313-b85b-4258ec8a052c\" xlink:actuate=\"onRequest\" xlink:href=\"psysml:5033f0bf-ffeb-4313-b85b-4258ec8a052c\" xlink:show=\"new\" xlink:title=\"psysml:5033f0bf-ffeb-4313-b85b-4258ec8a052c\" xlink:type=\"simple\"><rect fill=\"#FFFFFF\" height=\"45.9375\" id=\"E8\" rx=\"10\" ry=\"10\" style=\"stroke: #383838; stroke-width: 1.5;\" width=\"71\" x=\"32.5\" y=\"41\"/><text fill=\"#000000\" font-family=\"sans-serif\" font-size=\"12\" font-style=\"italic\" lengthAdjust=\"spacingAndGlyphs\" textLength=\"69\" x=\"33.5\" y=\"57.1387\">«attribute»</text><text fill=\"#000000\" font-family=\"sans-serif\" font-size=\"12\" lengthAdjust=\"spacingAndGlyphs\" textLength=\"7\" x=\"64.5\" y=\"71.1074\">c</text><line style=\"stroke: #383838; stroke-width: 1.5;\" x1=\"33.5\" x2=\"102.5\" y1=\"78.9375\" y2=\"78.9375\"/></a><!--MD5=[05d275557350bfb9b23a4ef7222b4c39]\n",
       "link E3 to E2--><a href=\"psysml:94762400-f967-4f4d-9ae0-7f515d54317a\" target=\"_top\" title=\"psysml:94762400-f967-4f4d-9ae0-7f515d54317a\" xlink:actuate=\"onRequest\" xlink:href=\"psysml:94762400-f967-4f4d-9ae0-7f515d54317a\" xlink:show=\"new\" xlink:title=\"psysml:94762400-f967-4f4d-9ae0-7f515d54317a\" xlink:type=\"simple\"><path d=\"M621.94,87.19 C611.77,103.23 597.51,125.73 584.09,146.9 \" fill=\"none\" id=\"E3-&gt;E2\" style=\"stroke: #383838; stroke-width: 1.0;\"/><polygon fill=\"#FFFFFF\" points=\"573.37,163.82,577.6195,144.0225,589.448,151.5115,573.37,163.82\" style=\"stroke: #383838; stroke-width: 1.0;\"/><ellipse cx=\"582.3584\" cy=\"140.2764\" fill=\"#383838\" rx=\"2\" ry=\"2\" style=\"stroke: #383838; stroke-width: 1.0;\"/><ellipse cx=\"590.8073\" cy=\"145.6258\" fill=\"#383838\" rx=\"2\" ry=\"2\" style=\"stroke: #383838; stroke-width: 1.0;\"/></a><!--MD5=[ddeed8deb2209213b62e6cfabaa108b2]\n",
       "reverse link E4 to E2--><a href=\"psysml:6f03e5ff-f747-4209-970e-6a43677acfe5\" target=\"_top\" title=\"psysml:6f03e5ff-f747-4209-970e-6a43677acfe5\" xlink:actuate=\"onRequest\" xlink:href=\"psysml:6f03e5ff-f747-4209-970e-6a43677acfe5\" xlink:show=\"new\" xlink:title=\"psysml:6f03e5ff-f747-4209-970e-6a43677acfe5\" xlink:type=\"simple\"><path d=\"M519.62,99.96 C524.37,119.25 530.31,143.36 535.36,163.82 \" fill=\"none\" id=\"E4&lt;-E2\" style=\"stroke: #383838; stroke-width: 1.0;\"/><polygon fill=\"#FFFFFF\" points=\"516.47,87.19,514.0229,93.9732,519.3432,98.841,521.7903,92.0577,516.47,87.19\" style=\"stroke: #383838; stroke-width: 1.0;\"/><text fill=\"#000000\" font-family=\"sans-serif\" font-size=\"13\" lengthAdjust=\"spacingAndGlyphs\" textLength=\"8\" x=\"528\" y=\"130.0669\">p</text></a><!--MD5=[6c6608f8831b2272023f4dc8a144fbe1]\n",
       "@startuml\r\n",
       "skinparam monochrome true\r\n",
       "skinparam classbackgroundcolor white\r\n",
       "skinparam shadowing false\r\n",
       "skinparam wrapWidth 300\r\n",
       "hide circle\r\n",
       "\r\n",
       "package \"ParameterTest\" as E1  [[psysml:88bd93f8-a024-442a-9349-d26cb2f873a0 ]]  {\r\n",
       "comp def \"A\" as E2  <<(T,blue)attribute def>> [[psysml:2f5789b5-3949-40b4-8579-f7414350119a ]] {\r\n",
       "- - attributes - -\r\n",
       "x: String\r\n",
       "y: A\r\n",
       "}\r\n",
       "comp usage \"a: A\" as E3  <<(T,blue)attribute>> [[psysml:02928bc4-0eb7-4367-aa3f-5ffb35356b49 ]] {\r\n",
       "}\r\n",
       "comp def \"F\" as E4  <<(T,blue)calculation def>> [[psysml:de3210e5-068c-44a8-9828-b5930a13c3bb ]] {\r\n",
       "}\r\n",
       "comp usage \"f\" as E5  <<(T,blue)attribute>> [[psysml:8c3ddf1b-2d8e-48f9-8bd9-e07e4f9dde48 ]] {\r\n",
       "}\r\n",
       "comp usage \"g\" as E6  <<(T,blue)attribute>> [[psysml:1f38f371-1f52-4b01-a20c-3f08ced1218d ]] {\r\n",
       "}\r\n",
       "comp usage \"b\" as E7  <<(T,blue)attribute>> [[psysml:cd4f641f-a9ce-41b8-9b9f-d9b0f89951b2 ]] {\r\n",
       "}\r\n",
       "comp usage \"c\" as E8  <<(T,blue)attribute>> [[psysml:5033f0bf-ffeb-4313-b85b-4258ec8a052c ]] {\r\n",
       "}\r\n",
       "E3 - -:|> E2 [[psysml:94762400-f967-4f4d-9ae0-7f515d54317a ]] \r\n",
       "E4 o- - E2 [[psysml:6f03e5ff-f747-4209-970e-6a43677acfe5 ]] : p\r\n",
       "}\r\n",
       "@enduml\r\n",
       "\n",
       "PlantUML version 1.2020.13(Sat Jun 13 12:26:38 UTC 2020)\n",
       "(EPL source distribution)\n",
       "Java Runtime: OpenJDK Runtime Environment\n",
       "JVM: OpenJDK 64-Bit Server VM\n",
       "Default Encoding: UTF-8\n",
       "Language: en\n",
       "Country: null\n",
       "--></g></svg>"
      ]
     },
     "execution_count": 42,
     "metadata": {},
     "output_type": "execute_result"
    }
   ],
   "source": [
    "%viz --style=\"DEFAULT\" --view=\"Sequence\" \"ParameterTest\""
   ]
  },
  {
   "cell_type": "code",
   "execution_count": 43,
   "id": "answering-distribution",
   "metadata": {
    "execution": {
     "iopub.execute_input": "2021-03-26T13:01:43.066926Z",
     "iopub.status.busy": "2021-03-26T13:01:43.066413Z",
     "iopub.status.idle": "2021-03-26T13:01:43.128120Z",
     "shell.execute_reply": "2021-03-26T13:01:43.126770Z"
    }
   },
   "outputs": [
    {
     "data": {
      "image/svg+xml": [
       "<?xml version=\"1.0\" encoding=\"UTF-8\" standalone=\"no\"?><svg xmlns=\"http://www.w3.org/2000/svg\" xmlns:xlink=\"http://www.w3.org/1999/xlink\" contentScriptType=\"application/ecmascript\" contentStyleType=\"text/css\" height=\"263px\" preserveAspectRatio=\"none\" style=\"width:740px;height:263px;\" version=\"1.1\" viewBox=\"0 0 740 263\" width=\"740px\" zoomAndPan=\"magnify\"><defs/><g><!--MD5=[fbc87193dbaf4d95561dea2c320d4a47]\n",
       "cluster E1--><a href=\"psysml:88bd93f8-a024-442a-9349-d26cb2f873a0\" target=\"_top\" title=\"psysml:88bd93f8-a024-442a-9349-d26cb2f873a0\" xlink:actuate=\"onRequest\" xlink:href=\"psysml:88bd93f8-a024-442a-9349-d26cb2f873a0\" xlink:show=\"new\" xlink:title=\"psysml:88bd93f8-a024-442a-9349-d26cb2f873a0\" xlink:type=\"simple\"><polygon fill=\"#FFFFFF\" points=\"16,6,139,6,146,28.2969,718,28.2969,718,251,16,251,16,6\" style=\"stroke: #000000; stroke-width: 1.5;\"/><line style=\"stroke: #000000; stroke-width: 1.5;\" x1=\"16\" x2=\"146\" y1=\"28.2969\" y2=\"28.2969\"/><text fill=\"#000000\" font-family=\"sans-serif\" font-size=\"14\" font-weight=\"bold\" lengthAdjust=\"spacingAndGlyphs\" textLength=\"117\" x=\"20\" y=\"20.9951\">ParameterTest</text></a><!--MD5=[f6df4d0ebaf0b5dfb2ced0ae5af7c670]\n",
       "cluster E4--><a href=\"psysml:de3210e5-068c-44a8-9828-b5930a13c3bb\" target=\"_top\" title=\"psysml:de3210e5-068c-44a8-9828-b5930a13c3bb\" xlink:actuate=\"onRequest\" xlink:href=\"psysml:de3210e5-068c-44a8-9828-b5930a13c3bb\" xlink:show=\"new\" xlink:title=\"psysml:de3210e5-068c-44a8-9828-b5930a13c3bb\" xlink:type=\"simple\"><rect fill=\"#FFFFFF\" height=\"160.5\" id=\"E4\" style=\"stroke: #383838; stroke-width: 1.5;\" width=\"148\" x=\"554\" y=\"64\"/><rect fill=\"#F8F8F8\" height=\"37.9375\" style=\"stroke: #383838; stroke-width: 1.5;\" width=\"148\" x=\"554\" y=\"64\"/><text fill=\"#000000\" font-family=\"sans-serif\" font-size=\"12\" font-style=\"italic\" lengthAdjust=\"spacingAndGlyphs\" textLength=\"106\" x=\"575\" y=\"80.1387\">«calculation def»</text><text fill=\"#000000\" font-family=\"sans-serif\" font-size=\"12\" lengthAdjust=\"spacingAndGlyphs\" textLength=\"7\" x=\"624.5\" y=\"94.1074\">F</text></a><!--MD5=[b4997ac47864f28c2f74865a473b2911]\n",
       "class E2--><a href=\"psysml:2f5789b5-3949-40b4-8579-f7414350119a\" target=\"_top\" title=\"psysml:2f5789b5-3949-40b4-8579-f7414350119a\" xlink:actuate=\"onRequest\" xlink:href=\"psysml:2f5789b5-3949-40b4-8579-f7414350119a\" xlink:show=\"new\" xlink:title=\"psysml:2f5789b5-3949-40b4-8579-f7414350119a\" xlink:type=\"simple\"><rect fill=\"#FFFFFF\" height=\"88.3516\" id=\"E2\" style=\"stroke: #383838; stroke-width: 1.5;\" width=\"95\" x=\"422.5\" y=\"147\"/><text fill=\"#000000\" font-family=\"sans-serif\" font-size=\"12\" font-style=\"italic\" lengthAdjust=\"spacingAndGlyphs\" textLength=\"93\" x=\"423.5\" y=\"163.1387\">«attribute def»</text><text fill=\"#000000\" font-family=\"sans-serif\" font-size=\"12\" lengthAdjust=\"spacingAndGlyphs\" textLength=\"8\" x=\"466\" y=\"177.1074\">A</text><line style=\"stroke: #383838; stroke-width: 1.5;\" x1=\"423.5\" x2=\"516.5\" y1=\"184.9375\" y2=\"184.9375\"/><text fill=\"#000000\" font-family=\"sans-serif\" font-size=\"11\" lengthAdjust=\"spacingAndGlyphs\" textLength=\"48\" x=\"428.5\" y=\"215.9526\">x: String</text><text fill=\"#000000\" font-family=\"sans-serif\" font-size=\"11\" lengthAdjust=\"spacingAndGlyphs\" textLength=\"21\" x=\"428.5\" y=\"228.7573\">y: A</text><line style=\"stroke: #383838; stroke-width: 1.0;\" x1=\"423.5\" x2=\"442.5\" y1=\"199.3398\" y2=\"199.3398\"/><text fill=\"#000000\" font-family=\"sans-serif\" font-size=\"11\" lengthAdjust=\"spacingAndGlyphs\" textLength=\"55\" x=\"442.5\" y=\"202.6479\">attributes</text><line style=\"stroke: #383838; stroke-width: 1.0;\" x1=\"497.5\" x2=\"516.5\" y1=\"199.3398\" y2=\"199.3398\"/></a><!--MD5=[09b614a08d8cba4a07c9adeb5e0fee81]\n",
       "class E3--><a href=\"psysml:02928bc4-0eb7-4367-aa3f-5ffb35356b49\" target=\"_top\" title=\"psysml:02928bc4-0eb7-4367-aa3f-5ffb35356b49\" xlink:actuate=\"onRequest\" xlink:href=\"psysml:02928bc4-0eb7-4367-aa3f-5ffb35356b49\" xlink:show=\"new\" xlink:title=\"psysml:02928bc4-0eb7-4367-aa3f-5ffb35356b49\" xlink:type=\"simple\"><rect fill=\"#FFFFFF\" height=\"45.9375\" id=\"E3\" rx=\"10\" ry=\"10\" style=\"stroke: #383838; stroke-width: 1.5;\" width=\"71\" x=\"456.5\" y=\"41\"/><text fill=\"#000000\" font-family=\"sans-serif\" font-size=\"12\" font-style=\"italic\" lengthAdjust=\"spacingAndGlyphs\" textLength=\"69\" x=\"457.5\" y=\"57.1387\">«attribute»</text><text fill=\"#000000\" font-family=\"sans-serif\" font-size=\"12\" lengthAdjust=\"spacingAndGlyphs\" textLength=\"24\" x=\"480\" y=\"71.1074\">a: A</text><line style=\"stroke: #383838; stroke-width: 1.5;\" x1=\"457.5\" x2=\"526.5\" y1=\"78.9375\" y2=\"78.9375\"/></a><!--MD5=[2156ba9850f5573cc1fc38a6a4b2f02b]\n",
       "class E7--><a href=\"psysml:8c3ddf1b-2d8e-48f9-8bd9-e07e4f9dde48\" target=\"_top\" title=\"psysml:8c3ddf1b-2d8e-48f9-8bd9-e07e4f9dde48\" xlink:actuate=\"onRequest\" xlink:href=\"psysml:8c3ddf1b-2d8e-48f9-8bd9-e07e4f9dde48\" xlink:show=\"new\" xlink:title=\"psysml:8c3ddf1b-2d8e-48f9-8bd9-e07e4f9dde48\" xlink:type=\"simple\"><rect fill=\"#FFFFFF\" height=\"45.9375\" id=\"E7\" rx=\"10\" ry=\"10\" style=\"stroke: #383838; stroke-width: 1.5;\" width=\"71\" x=\"350.5\" y=\"41\"/><text fill=\"#000000\" font-family=\"sans-serif\" font-size=\"12\" font-style=\"italic\" lengthAdjust=\"spacingAndGlyphs\" textLength=\"69\" x=\"351.5\" y=\"57.1387\">«attribute»</text><text fill=\"#000000\" font-family=\"sans-serif\" font-size=\"12\" lengthAdjust=\"spacingAndGlyphs\" textLength=\"4\" x=\"384\" y=\"71.1074\">f</text><line style=\"stroke: #383838; stroke-width: 1.5;\" x1=\"351.5\" x2=\"420.5\" y1=\"78.9375\" y2=\"78.9375\"/></a><!--MD5=[b9389687b975829384b498ac4b7476b2]\n",
       "class E8--><a href=\"psysml:1f38f371-1f52-4b01-a20c-3f08ced1218d\" target=\"_top\" title=\"psysml:1f38f371-1f52-4b01-a20c-3f08ced1218d\" xlink:actuate=\"onRequest\" xlink:href=\"psysml:1f38f371-1f52-4b01-a20c-3f08ced1218d\" xlink:show=\"new\" xlink:title=\"psysml:1f38f371-1f52-4b01-a20c-3f08ced1218d\" xlink:type=\"simple\"><rect fill=\"#FFFFFF\" height=\"45.9375\" id=\"E8\" rx=\"10\" ry=\"10\" style=\"stroke: #383838; stroke-width: 1.5;\" width=\"71\" x=\"244.5\" y=\"41\"/><text fill=\"#000000\" font-family=\"sans-serif\" font-size=\"12\" font-style=\"italic\" lengthAdjust=\"spacingAndGlyphs\" textLength=\"69\" x=\"245.5\" y=\"57.1387\">«attribute»</text><text fill=\"#000000\" font-family=\"sans-serif\" font-size=\"12\" lengthAdjust=\"spacingAndGlyphs\" textLength=\"8\" x=\"276\" y=\"71.1074\">g</text><line style=\"stroke: #383838; stroke-width: 1.5;\" x1=\"245.5\" x2=\"314.5\" y1=\"78.9375\" y2=\"78.9375\"/></a><!--MD5=[fd4143e9d270a159db93a4ea2a975926]\n",
       "class E9--><a href=\"psysml:cd4f641f-a9ce-41b8-9b9f-d9b0f89951b2\" target=\"_top\" title=\"psysml:cd4f641f-a9ce-41b8-9b9f-d9b0f89951b2\" xlink:actuate=\"onRequest\" xlink:href=\"psysml:cd4f641f-a9ce-41b8-9b9f-d9b0f89951b2\" xlink:show=\"new\" xlink:title=\"psysml:cd4f641f-a9ce-41b8-9b9f-d9b0f89951b2\" xlink:type=\"simple\"><rect fill=\"#FFFFFF\" height=\"45.9375\" id=\"E9\" rx=\"10\" ry=\"10\" style=\"stroke: #383838; stroke-width: 1.5;\" width=\"71\" x=\"138.5\" y=\"41\"/><text fill=\"#000000\" font-family=\"sans-serif\" font-size=\"12\" font-style=\"italic\" lengthAdjust=\"spacingAndGlyphs\" textLength=\"69\" x=\"139.5\" y=\"57.1387\">«attribute»</text><text fill=\"#000000\" font-family=\"sans-serif\" font-size=\"12\" lengthAdjust=\"spacingAndGlyphs\" textLength=\"8\" x=\"170\" y=\"71.1074\">b</text><line style=\"stroke: #383838; stroke-width: 1.5;\" x1=\"139.5\" x2=\"208.5\" y1=\"78.9375\" y2=\"78.9375\"/></a><!--MD5=[96f4274e9e20536e775497830990834d]\n",
       "class E10--><a href=\"psysml:5033f0bf-ffeb-4313-b85b-4258ec8a052c\" target=\"_top\" title=\"psysml:5033f0bf-ffeb-4313-b85b-4258ec8a052c\" xlink:actuate=\"onRequest\" xlink:href=\"psysml:5033f0bf-ffeb-4313-b85b-4258ec8a052c\" xlink:show=\"new\" xlink:title=\"psysml:5033f0bf-ffeb-4313-b85b-4258ec8a052c\" xlink:type=\"simple\"><rect fill=\"#FFFFFF\" height=\"45.9375\" id=\"E10\" rx=\"10\" ry=\"10\" style=\"stroke: #383838; stroke-width: 1.5;\" width=\"71\" x=\"32.5\" y=\"41\"/><text fill=\"#000000\" font-family=\"sans-serif\" font-size=\"12\" font-style=\"italic\" lengthAdjust=\"spacingAndGlyphs\" textLength=\"69\" x=\"33.5\" y=\"57.1387\">«attribute»</text><text fill=\"#000000\" font-family=\"sans-serif\" font-size=\"12\" lengthAdjust=\"spacingAndGlyphs\" textLength=\"7\" x=\"64.5\" y=\"71.1074\">c</text><line style=\"stroke: #383838; stroke-width: 1.5;\" x1=\"33.5\" x2=\"102.5\" y1=\"78.9375\" y2=\"78.9375\"/></a><text fill=\"#000000\" font-family=\"sans-serif\" font-size=\"14\" lengthAdjust=\"spacingAndGlyphs\" textLength=\"9\" x=\"567.5\" y=\"42.6982\">p</text><rect fill=\"#383838\" height=\"12\" style=\"stroke: #F8F8F8; stroke-width: 1.5;\" width=\"12\" x=\"566\" y=\"58\"/><text fill=\"#000000\" font-family=\"sans-serif\" font-size=\"14\" lengthAdjust=\"spacingAndGlyphs\" textLength=\"9\" x=\"614.5\" y=\"42.6982\">q</text><rect fill=\"#383838\" height=\"12\" style=\"stroke: #F8F8F8; stroke-width: 1.5;\" width=\"12\" x=\"613\" y=\"58\"/><!--MD5=[05d275557350bfb9b23a4ef7222b4c39]\n",
       "link E3 to E2--><a href=\"psysml:94762400-f967-4f4d-9ae0-7f515d54317a\" target=\"_top\" title=\"psysml:94762400-f967-4f4d-9ae0-7f515d54317a\" xlink:actuate=\"onRequest\" xlink:href=\"psysml:94762400-f967-4f4d-9ae0-7f515d54317a\" xlink:show=\"new\" xlink:title=\"psysml:94762400-f967-4f4d-9ae0-7f515d54317a\" xlink:type=\"simple\"><path d=\"M488.12,87.06 C486.14,98.3 483.62,112.6 481.1,126.95 \" fill=\"none\" id=\"E3-&gt;E2\" style=\"stroke: #383838; stroke-width: 1.0;\"/><polygon fill=\"#FFFFFF\" points=\"477.58,146.93,473.9835,127.0035,487.7711,129.4331,477.58,146.93\" style=\"stroke: #383838; stroke-width: 1.0;\"/><ellipse cx=\"476.9423\" cy=\"121.7371\" fill=\"#383838\" rx=\"2\" ry=\"2\" style=\"stroke: #383838; stroke-width: 1.0;\"/><ellipse cx=\"486.7906\" cy=\"123.4725\" fill=\"#383838\" rx=\"2\" ry=\"2\" style=\"stroke: #383838; stroke-width: 1.0;\"/></a><!--MD5=[cf642900c2c59bfa3a65b96862b6a8dc]\n",
       "@startuml\r\n",
       "skinparam monochrome true\r\n",
       "skinparam classbackgroundcolor white\r\n",
       "skinparam shadowing false\r\n",
       "skinparam wrapWidth 300\r\n",
       "hide circle\r\n",
       "\r\n",
       "package \"ParameterTest\" as E1  [[psysml:88bd93f8-a024-442a-9349-d26cb2f873a0 ]]  {\r\n",
       "comp def \"A\" as E2  <<(T,blue)attribute def>> [[psysml:2f5789b5-3949-40b4-8579-f7414350119a ]] {\r\n",
       "- - attributes - -\r\n",
       "x: String\r\n",
       "y: A\r\n",
       "}\r\n",
       "comp usage \"a: A\" as E3  <<(T,blue)attribute>> [[psysml:02928bc4-0eb7-4367-aa3f-5ffb35356b49 ]] {\r\n",
       "}\r\n",
       "rec def \"F\" as E4  <<(T,blue)calculation def>> [[psysml:de3210e5-068c-44a8-9828-b5930a13c3bb ]] {\r\n",
       "portin \"p\" as E5  [[psysml:6f03e5ff-f747-4209-970e-6a43677acfe5 ]] \r\n",
       "portin \"q\" as E6  [[psysml:59b46d55-27e2-4503-b58c-744d75cefff1 ]] \r\n",
       "}\r\n",
       "\r\n",
       "comp usage \"f\" as E7  <<(T,blue)attribute>> [[psysml:8c3ddf1b-2d8e-48f9-8bd9-e07e4f9dde48 ]] {\r\n",
       "}\r\n",
       "comp usage \"g\" as E8  <<(T,blue)attribute>> [[psysml:1f38f371-1f52-4b01-a20c-3f08ced1218d ]] {\r\n",
       "}\r\n",
       "comp usage \"b\" as E9  <<(T,blue)attribute>> [[psysml:cd4f641f-a9ce-41b8-9b9f-d9b0f89951b2 ]] {\r\n",
       "}\r\n",
       "comp usage \"c\" as E10  <<(T,blue)attribute>> [[psysml:5033f0bf-ffeb-4313-b85b-4258ec8a052c ]] {\r\n",
       "}\r\n",
       "E3 - -:|> E2 [[psysml:94762400-f967-4f4d-9ae0-7f515d54317a ]] \r\n",
       "}\r\n",
       "@enduml\r\n",
       "\n",
       "PlantUML version 1.2020.13(Sat Jun 13 12:26:38 UTC 2020)\n",
       "(EPL source distribution)\n",
       "Java Runtime: OpenJDK Runtime Environment\n",
       "JVM: OpenJDK 64-Bit Server VM\n",
       "Default Encoding: UTF-8\n",
       "Language: en\n",
       "Country: null\n",
       "--></g></svg>"
      ]
     },
     "execution_count": 43,
     "metadata": {},
     "output_type": "execute_result"
    }
   ],
   "source": [
    "%viz --style=\"DEFAULT\" --view=\"MIXED\" \"ParameterTest\""
   ]
  },
  {
   "cell_type": "code",
   "execution_count": 44,
   "id": "indirect-evening",
   "metadata": {
    "execution": {
     "iopub.execute_input": "2021-03-26T13:01:43.180359Z",
     "iopub.status.busy": "2021-03-26T13:01:43.179845Z",
     "iopub.status.idle": "2021-03-26T13:01:43.229624Z",
     "shell.execute_reply": "2021-03-26T13:01:43.228373Z"
    }
   },
   "outputs": [
    {
     "data": {
      "image/svg+xml": [
       "<?xml version=\"1.0\" encoding=\"UTF-8\" standalone=\"no\"?><svg xmlns=\"http://www.w3.org/2000/svg\" xmlns:xlink=\"http://www.w3.org/1999/xlink\" contentScriptType=\"application/ecmascript\" contentStyleType=\"text/css\" height=\"263px\" preserveAspectRatio=\"none\" style=\"width:740px;height:263px;\" version=\"1.1\" viewBox=\"0 0 740 263\" width=\"740px\" zoomAndPan=\"magnify\"><defs/><g><!--MD5=[fbc87193dbaf4d95561dea2c320d4a47]\n",
       "cluster E1--><a href=\"psysml:88bd93f8-a024-442a-9349-d26cb2f873a0\" target=\"_top\" title=\"psysml:88bd93f8-a024-442a-9349-d26cb2f873a0\" xlink:actuate=\"onRequest\" xlink:href=\"psysml:88bd93f8-a024-442a-9349-d26cb2f873a0\" xlink:show=\"new\" xlink:title=\"psysml:88bd93f8-a024-442a-9349-d26cb2f873a0\" xlink:type=\"simple\"><polygon fill=\"#FFFFFF\" points=\"16,6,139,6,146,28.2969,718,28.2969,718,251,16,251,16,6\" style=\"stroke: #000000; stroke-width: 1.5;\"/><line style=\"stroke: #000000; stroke-width: 1.5;\" x1=\"16\" x2=\"146\" y1=\"28.2969\" y2=\"28.2969\"/><text fill=\"#000000\" font-family=\"sans-serif\" font-size=\"14\" font-weight=\"bold\" lengthAdjust=\"spacingAndGlyphs\" textLength=\"117\" x=\"20\" y=\"20.9951\">ParameterTest</text></a><!--MD5=[f6df4d0ebaf0b5dfb2ced0ae5af7c670]\n",
       "cluster E4--><a href=\"psysml:de3210e5-068c-44a8-9828-b5930a13c3bb\" target=\"_top\" title=\"psysml:de3210e5-068c-44a8-9828-b5930a13c3bb\" xlink:actuate=\"onRequest\" xlink:href=\"psysml:de3210e5-068c-44a8-9828-b5930a13c3bb\" xlink:show=\"new\" xlink:title=\"psysml:de3210e5-068c-44a8-9828-b5930a13c3bb\" xlink:type=\"simple\"><rect fill=\"#FFFFFF\" height=\"160.5\" id=\"E4\" style=\"stroke: #383838; stroke-width: 1.5;\" width=\"148\" x=\"554\" y=\"64\"/><rect fill=\"#F8F8F8\" height=\"37.9375\" style=\"stroke: #383838; stroke-width: 1.5;\" width=\"148\" x=\"554\" y=\"64\"/><text fill=\"#000000\" font-family=\"sans-serif\" font-size=\"12\" font-style=\"italic\" lengthAdjust=\"spacingAndGlyphs\" textLength=\"106\" x=\"575\" y=\"80.1387\">«calculation def»</text><text fill=\"#000000\" font-family=\"sans-serif\" font-size=\"12\" lengthAdjust=\"spacingAndGlyphs\" textLength=\"7\" x=\"624.5\" y=\"94.1074\">F</text></a><!--MD5=[b4997ac47864f28c2f74865a473b2911]\n",
       "class E2--><a href=\"psysml:2f5789b5-3949-40b4-8579-f7414350119a\" target=\"_top\" title=\"psysml:2f5789b5-3949-40b4-8579-f7414350119a\" xlink:actuate=\"onRequest\" xlink:href=\"psysml:2f5789b5-3949-40b4-8579-f7414350119a\" xlink:show=\"new\" xlink:title=\"psysml:2f5789b5-3949-40b4-8579-f7414350119a\" xlink:type=\"simple\"><rect fill=\"#FFFFFF\" height=\"88.3516\" id=\"E2\" style=\"stroke: #383838; stroke-width: 1.5;\" width=\"95\" x=\"422.5\" y=\"147\"/><text fill=\"#000000\" font-family=\"sans-serif\" font-size=\"12\" font-style=\"italic\" lengthAdjust=\"spacingAndGlyphs\" textLength=\"93\" x=\"423.5\" y=\"163.1387\">«attribute def»</text><text fill=\"#000000\" font-family=\"sans-serif\" font-size=\"12\" lengthAdjust=\"spacingAndGlyphs\" textLength=\"8\" x=\"466\" y=\"177.1074\">A</text><line style=\"stroke: #383838; stroke-width: 1.5;\" x1=\"423.5\" x2=\"516.5\" y1=\"184.9375\" y2=\"184.9375\"/><text fill=\"#000000\" font-family=\"sans-serif\" font-size=\"11\" lengthAdjust=\"spacingAndGlyphs\" textLength=\"48\" x=\"428.5\" y=\"215.9526\">x: String</text><text fill=\"#000000\" font-family=\"sans-serif\" font-size=\"11\" lengthAdjust=\"spacingAndGlyphs\" textLength=\"21\" x=\"428.5\" y=\"228.7573\">y: A</text><line style=\"stroke: #383838; stroke-width: 1.0;\" x1=\"423.5\" x2=\"442.5\" y1=\"199.3398\" y2=\"199.3398\"/><text fill=\"#000000\" font-family=\"sans-serif\" font-size=\"11\" lengthAdjust=\"spacingAndGlyphs\" textLength=\"55\" x=\"442.5\" y=\"202.6479\">attributes</text><line style=\"stroke: #383838; stroke-width: 1.0;\" x1=\"497.5\" x2=\"516.5\" y1=\"199.3398\" y2=\"199.3398\"/></a><!--MD5=[09b614a08d8cba4a07c9adeb5e0fee81]\n",
       "class E3--><a href=\"psysml:02928bc4-0eb7-4367-aa3f-5ffb35356b49\" target=\"_top\" title=\"psysml:02928bc4-0eb7-4367-aa3f-5ffb35356b49\" xlink:actuate=\"onRequest\" xlink:href=\"psysml:02928bc4-0eb7-4367-aa3f-5ffb35356b49\" xlink:show=\"new\" xlink:title=\"psysml:02928bc4-0eb7-4367-aa3f-5ffb35356b49\" xlink:type=\"simple\"><rect fill=\"#FFFFFF\" height=\"45.9375\" id=\"E3\" rx=\"10\" ry=\"10\" style=\"stroke: #383838; stroke-width: 1.5;\" width=\"71\" x=\"456.5\" y=\"41\"/><text fill=\"#000000\" font-family=\"sans-serif\" font-size=\"12\" font-style=\"italic\" lengthAdjust=\"spacingAndGlyphs\" textLength=\"69\" x=\"457.5\" y=\"57.1387\">«attribute»</text><text fill=\"#000000\" font-family=\"sans-serif\" font-size=\"12\" lengthAdjust=\"spacingAndGlyphs\" textLength=\"24\" x=\"480\" y=\"71.1074\">a: A</text><line style=\"stroke: #383838; stroke-width: 1.5;\" x1=\"457.5\" x2=\"526.5\" y1=\"78.9375\" y2=\"78.9375\"/></a><!--MD5=[2156ba9850f5573cc1fc38a6a4b2f02b]\n",
       "class E7--><a href=\"psysml:8c3ddf1b-2d8e-48f9-8bd9-e07e4f9dde48\" target=\"_top\" title=\"psysml:8c3ddf1b-2d8e-48f9-8bd9-e07e4f9dde48\" xlink:actuate=\"onRequest\" xlink:href=\"psysml:8c3ddf1b-2d8e-48f9-8bd9-e07e4f9dde48\" xlink:show=\"new\" xlink:title=\"psysml:8c3ddf1b-2d8e-48f9-8bd9-e07e4f9dde48\" xlink:type=\"simple\"><rect fill=\"#FFFFFF\" height=\"45.9375\" id=\"E7\" rx=\"10\" ry=\"10\" style=\"stroke: #383838; stroke-width: 1.5;\" width=\"71\" x=\"350.5\" y=\"41\"/><text fill=\"#000000\" font-family=\"sans-serif\" font-size=\"12\" font-style=\"italic\" lengthAdjust=\"spacingAndGlyphs\" textLength=\"69\" x=\"351.5\" y=\"57.1387\">«attribute»</text><text fill=\"#000000\" font-family=\"sans-serif\" font-size=\"12\" lengthAdjust=\"spacingAndGlyphs\" textLength=\"4\" x=\"384\" y=\"71.1074\">f</text><line style=\"stroke: #383838; stroke-width: 1.5;\" x1=\"351.5\" x2=\"420.5\" y1=\"78.9375\" y2=\"78.9375\"/></a><!--MD5=[b9389687b975829384b498ac4b7476b2]\n",
       "class E8--><a href=\"psysml:1f38f371-1f52-4b01-a20c-3f08ced1218d\" target=\"_top\" title=\"psysml:1f38f371-1f52-4b01-a20c-3f08ced1218d\" xlink:actuate=\"onRequest\" xlink:href=\"psysml:1f38f371-1f52-4b01-a20c-3f08ced1218d\" xlink:show=\"new\" xlink:title=\"psysml:1f38f371-1f52-4b01-a20c-3f08ced1218d\" xlink:type=\"simple\"><rect fill=\"#FFFFFF\" height=\"45.9375\" id=\"E8\" rx=\"10\" ry=\"10\" style=\"stroke: #383838; stroke-width: 1.5;\" width=\"71\" x=\"244.5\" y=\"41\"/><text fill=\"#000000\" font-family=\"sans-serif\" font-size=\"12\" font-style=\"italic\" lengthAdjust=\"spacingAndGlyphs\" textLength=\"69\" x=\"245.5\" y=\"57.1387\">«attribute»</text><text fill=\"#000000\" font-family=\"sans-serif\" font-size=\"12\" lengthAdjust=\"spacingAndGlyphs\" textLength=\"8\" x=\"276\" y=\"71.1074\">g</text><line style=\"stroke: #383838; stroke-width: 1.5;\" x1=\"245.5\" x2=\"314.5\" y1=\"78.9375\" y2=\"78.9375\"/></a><!--MD5=[fd4143e9d270a159db93a4ea2a975926]\n",
       "class E9--><a href=\"psysml:cd4f641f-a9ce-41b8-9b9f-d9b0f89951b2\" target=\"_top\" title=\"psysml:cd4f641f-a9ce-41b8-9b9f-d9b0f89951b2\" xlink:actuate=\"onRequest\" xlink:href=\"psysml:cd4f641f-a9ce-41b8-9b9f-d9b0f89951b2\" xlink:show=\"new\" xlink:title=\"psysml:cd4f641f-a9ce-41b8-9b9f-d9b0f89951b2\" xlink:type=\"simple\"><rect fill=\"#FFFFFF\" height=\"45.9375\" id=\"E9\" rx=\"10\" ry=\"10\" style=\"stroke: #383838; stroke-width: 1.5;\" width=\"71\" x=\"138.5\" y=\"41\"/><text fill=\"#000000\" font-family=\"sans-serif\" font-size=\"12\" font-style=\"italic\" lengthAdjust=\"spacingAndGlyphs\" textLength=\"69\" x=\"139.5\" y=\"57.1387\">«attribute»</text><text fill=\"#000000\" font-family=\"sans-serif\" font-size=\"12\" lengthAdjust=\"spacingAndGlyphs\" textLength=\"8\" x=\"170\" y=\"71.1074\">b</text><line style=\"stroke: #383838; stroke-width: 1.5;\" x1=\"139.5\" x2=\"208.5\" y1=\"78.9375\" y2=\"78.9375\"/></a><!--MD5=[96f4274e9e20536e775497830990834d]\n",
       "class E10--><a href=\"psysml:5033f0bf-ffeb-4313-b85b-4258ec8a052c\" target=\"_top\" title=\"psysml:5033f0bf-ffeb-4313-b85b-4258ec8a052c\" xlink:actuate=\"onRequest\" xlink:href=\"psysml:5033f0bf-ffeb-4313-b85b-4258ec8a052c\" xlink:show=\"new\" xlink:title=\"psysml:5033f0bf-ffeb-4313-b85b-4258ec8a052c\" xlink:type=\"simple\"><rect fill=\"#FFFFFF\" height=\"45.9375\" id=\"E10\" rx=\"10\" ry=\"10\" style=\"stroke: #383838; stroke-width: 1.5;\" width=\"71\" x=\"32.5\" y=\"41\"/><text fill=\"#000000\" font-family=\"sans-serif\" font-size=\"12\" font-style=\"italic\" lengthAdjust=\"spacingAndGlyphs\" textLength=\"69\" x=\"33.5\" y=\"57.1387\">«attribute»</text><text fill=\"#000000\" font-family=\"sans-serif\" font-size=\"12\" lengthAdjust=\"spacingAndGlyphs\" textLength=\"7\" x=\"64.5\" y=\"71.1074\">c</text><line style=\"stroke: #383838; stroke-width: 1.5;\" x1=\"33.5\" x2=\"102.5\" y1=\"78.9375\" y2=\"78.9375\"/></a><text fill=\"#000000\" font-family=\"sans-serif\" font-size=\"14\" lengthAdjust=\"spacingAndGlyphs\" textLength=\"9\" x=\"567.5\" y=\"42.6982\">p</text><rect fill=\"#383838\" height=\"12\" style=\"stroke: #F8F8F8; stroke-width: 1.5;\" width=\"12\" x=\"566\" y=\"58\"/><text fill=\"#000000\" font-family=\"sans-serif\" font-size=\"14\" lengthAdjust=\"spacingAndGlyphs\" textLength=\"9\" x=\"614.5\" y=\"42.6982\">q</text><rect fill=\"#383838\" height=\"12\" style=\"stroke: #F8F8F8; stroke-width: 1.5;\" width=\"12\" x=\"613\" y=\"58\"/><!--MD5=[05d275557350bfb9b23a4ef7222b4c39]\n",
       "link E3 to E2--><a href=\"psysml:94762400-f967-4f4d-9ae0-7f515d54317a\" target=\"_top\" title=\"psysml:94762400-f967-4f4d-9ae0-7f515d54317a\" xlink:actuate=\"onRequest\" xlink:href=\"psysml:94762400-f967-4f4d-9ae0-7f515d54317a\" xlink:show=\"new\" xlink:title=\"psysml:94762400-f967-4f4d-9ae0-7f515d54317a\" xlink:type=\"simple\"><path d=\"M488.12,87.06 C486.14,98.3 483.62,112.6 481.1,126.95 \" fill=\"none\" id=\"E3-&gt;E2\" style=\"stroke: #383838; stroke-width: 1.0;\"/><polygon fill=\"#FFFFFF\" points=\"477.58,146.93,473.9835,127.0035,487.7711,129.4331,477.58,146.93\" style=\"stroke: #383838; stroke-width: 1.0;\"/><ellipse cx=\"476.9423\" cy=\"121.7371\" fill=\"#383838\" rx=\"2\" ry=\"2\" style=\"stroke: #383838; stroke-width: 1.0;\"/><ellipse cx=\"486.7906\" cy=\"123.4725\" fill=\"#383838\" rx=\"2\" ry=\"2\" style=\"stroke: #383838; stroke-width: 1.0;\"/></a><!--MD5=[d32b87c59f3db16e6460931c90910f1c]\n",
       "@startuml\r\n",
       "top to bottom direction\r\n",
       "skinparam monochrome true\r\n",
       "skinparam classbackgroundcolor white\r\n",
       "skinparam shadowing false\r\n",
       "skinparam wrapWidth 300\r\n",
       "hide circle\r\n",
       "\r\n",
       "package \"ParameterTest\" as E1  [[psysml:88bd93f8-a024-442a-9349-d26cb2f873a0 ]]  {\r\n",
       "comp def \"A\" as E2  <<(T,blue)attribute def>> [[psysml:2f5789b5-3949-40b4-8579-f7414350119a ]] {\r\n",
       "- - attributes - -\r\n",
       "x: String\r\n",
       "y: A\r\n",
       "}\r\n",
       "comp usage \"a: A\" as E3  <<(T,blue)attribute>> [[psysml:02928bc4-0eb7-4367-aa3f-5ffb35356b49 ]] {\r\n",
       "}\r\n",
       "rec def \"F\" as E4  <<(T,blue)calculation def>> [[psysml:de3210e5-068c-44a8-9828-b5930a13c3bb ]] {\r\n",
       "portin \"p\" as E5  [[psysml:6f03e5ff-f747-4209-970e-6a43677acfe5 ]] \r\n",
       "portin \"q\" as E6  [[psysml:59b46d55-27e2-4503-b58c-744d75cefff1 ]] \r\n",
       "}\r\n",
       "\r\n",
       "comp usage \"f\" as E7  <<(T,blue)attribute>> [[psysml:8c3ddf1b-2d8e-48f9-8bd9-e07e4f9dde48 ]] {\r\n",
       "}\r\n",
       "comp usage \"g\" as E8  <<(T,blue)attribute>> [[psysml:1f38f371-1f52-4b01-a20c-3f08ced1218d ]] {\r\n",
       "}\r\n",
       "comp usage \"b\" as E9  <<(T,blue)attribute>> [[psysml:cd4f641f-a9ce-41b8-9b9f-d9b0f89951b2 ]] {\r\n",
       "}\r\n",
       "comp usage \"c\" as E10  <<(T,blue)attribute>> [[psysml:5033f0bf-ffeb-4313-b85b-4258ec8a052c ]] {\r\n",
       "}\r\n",
       "E3 - -:|> E2 [[psysml:94762400-f967-4f4d-9ae0-7f515d54317a ]] \r\n",
       "}\r\n",
       "@enduml\r\n",
       "\n",
       "PlantUML version 1.2020.13(Sat Jun 13 12:26:38 UTC 2020)\n",
       "(EPL source distribution)\n",
       "Java Runtime: OpenJDK Runtime Environment\n",
       "JVM: OpenJDK 64-Bit Server VM\n",
       "Default Encoding: UTF-8\n",
       "Language: en\n",
       "Country: null\n",
       "--></g></svg>"
      ]
     },
     "execution_count": 44,
     "metadata": {},
     "output_type": "execute_result"
    }
   ],
   "source": [
    "%viz --style=\"TB\" --view=\"Default\" \"ParameterTest\""
   ]
  },
  {
   "cell_type": "code",
   "execution_count": 45,
   "id": "logical-witch",
   "metadata": {
    "execution": {
     "iopub.execute_input": "2021-03-26T13:01:43.279093Z",
     "iopub.status.busy": "2021-03-26T13:01:43.278688Z",
     "iopub.status.idle": "2021-03-26T13:01:43.323336Z",
     "shell.execute_reply": "2021-03-26T13:01:43.322120Z"
    }
   },
   "outputs": [
    {
     "data": {
      "image/svg+xml": [
       "<?xml version=\"1.0\" encoding=\"UTF-8\" standalone=\"no\"?><svg xmlns=\"http://www.w3.org/2000/svg\" xmlns:xlink=\"http://www.w3.org/1999/xlink\" contentScriptType=\"application/ecmascript\" contentStyleType=\"text/css\" height=\"280px\" preserveAspectRatio=\"none\" style=\"width:710px;height:280px;\" version=\"1.1\" viewBox=\"0 0 710 280\" width=\"710px\" zoomAndPan=\"magnify\"><defs/><g><!--MD5=[fbc87193dbaf4d95561dea2c320d4a47]\n",
       "cluster E1--><a href=\"psysml:88bd93f8-a024-442a-9349-d26cb2f873a0\" target=\"_top\" title=\"psysml:88bd93f8-a024-442a-9349-d26cb2f873a0\" xlink:actuate=\"onRequest\" xlink:href=\"psysml:88bd93f8-a024-442a-9349-d26cb2f873a0\" xlink:show=\"new\" xlink:title=\"psysml:88bd93f8-a024-442a-9349-d26cb2f873a0\" xlink:type=\"simple\"><polygon fill=\"#FFFFFF\" points=\"16,6,139,6,146,28.2969,688,28.2969,688,268,16,268,16,6\" style=\"stroke: #000000; stroke-width: 1.5;\"/><line style=\"stroke: #000000; stroke-width: 1.5;\" x1=\"16\" x2=\"146\" y1=\"28.2969\" y2=\"28.2969\"/><text fill=\"#000000\" font-family=\"sans-serif\" font-size=\"14\" font-weight=\"bold\" lengthAdjust=\"spacingAndGlyphs\" textLength=\"117\" x=\"20\" y=\"20.9951\">ParameterTest</text></a><!--MD5=[b4997ac47864f28c2f74865a473b2911]\n",
       "class E2--><a href=\"psysml:2f5789b5-3949-40b4-8579-f7414350119a\" target=\"_top\" title=\"psysml:2f5789b5-3949-40b4-8579-f7414350119a\" xlink:actuate=\"onRequest\" xlink:href=\"psysml:2f5789b5-3949-40b4-8579-f7414350119a\" xlink:show=\"new\" xlink:title=\"psysml:2f5789b5-3949-40b4-8579-f7414350119a\" xlink:type=\"simple\"><rect fill=\"#FFFFFF\" height=\"88.3516\" id=\"E2\" style=\"stroke: #383838; stroke-width: 1.5;\" width=\"95\" x=\"498.5\" y=\"164\"/><text fill=\"#000000\" font-family=\"sans-serif\" font-size=\"12\" font-style=\"italic\" lengthAdjust=\"spacingAndGlyphs\" textLength=\"93\" x=\"499.5\" y=\"180.1387\">«attribute def»</text><text fill=\"#000000\" font-family=\"sans-serif\" font-size=\"12\" lengthAdjust=\"spacingAndGlyphs\" textLength=\"8\" x=\"542\" y=\"194.1074\">A</text><line style=\"stroke: #383838; stroke-width: 1.5;\" x1=\"499.5\" x2=\"592.5\" y1=\"201.9375\" y2=\"201.9375\"/><text fill=\"#000000\" font-family=\"sans-serif\" font-size=\"11\" lengthAdjust=\"spacingAndGlyphs\" textLength=\"48\" x=\"504.5\" y=\"232.9526\">x: String</text><text fill=\"#000000\" font-family=\"sans-serif\" font-size=\"11\" lengthAdjust=\"spacingAndGlyphs\" textLength=\"21\" x=\"504.5\" y=\"245.7573\">y: A</text><line style=\"stroke: #383838; stroke-width: 1.0;\" x1=\"499.5\" x2=\"518.5\" y1=\"216.3398\" y2=\"216.3398\"/><text fill=\"#000000\" font-family=\"sans-serif\" font-size=\"11\" lengthAdjust=\"spacingAndGlyphs\" textLength=\"55\" x=\"518.5\" y=\"219.6479\">attributes</text><line style=\"stroke: #383838; stroke-width: 1.0;\" x1=\"573.5\" x2=\"592.5\" y1=\"216.3398\" y2=\"216.3398\"/></a><!--MD5=[09b614a08d8cba4a07c9adeb5e0fee81]\n",
       "class E3--><a href=\"psysml:02928bc4-0eb7-4367-aa3f-5ffb35356b49\" target=\"_top\" title=\"psysml:02928bc4-0eb7-4367-aa3f-5ffb35356b49\" xlink:actuate=\"onRequest\" xlink:href=\"psysml:02928bc4-0eb7-4367-aa3f-5ffb35356b49\" xlink:show=\"new\" xlink:title=\"psysml:02928bc4-0eb7-4367-aa3f-5ffb35356b49\" xlink:type=\"simple\"><rect fill=\"#FFFFFF\" height=\"45.9375\" id=\"E3\" rx=\"10\" ry=\"10\" style=\"stroke: #383838; stroke-width: 1.5;\" width=\"71\" x=\"600.5\" y=\"41\"/><text fill=\"#000000\" font-family=\"sans-serif\" font-size=\"12\" font-style=\"italic\" lengthAdjust=\"spacingAndGlyphs\" textLength=\"69\" x=\"601.5\" y=\"57.1387\">«attribute»</text><text fill=\"#000000\" font-family=\"sans-serif\" font-size=\"12\" lengthAdjust=\"spacingAndGlyphs\" textLength=\"24\" x=\"624\" y=\"71.1074\">a: A</text><line style=\"stroke: #383838; stroke-width: 1.5;\" x1=\"601.5\" x2=\"670.5\" y1=\"78.9375\" y2=\"78.9375\"/></a><!--MD5=[ebbe1d658d1005bcc118a6aa81145e00]\n",
       "class E4--><a href=\"psysml:de3210e5-068c-44a8-9828-b5930a13c3bb\" target=\"_top\" title=\"psysml:de3210e5-068c-44a8-9828-b5930a13c3bb\" xlink:actuate=\"onRequest\" xlink:href=\"psysml:de3210e5-068c-44a8-9828-b5930a13c3bb\" xlink:show=\"new\" xlink:title=\"psysml:de3210e5-068c-44a8-9828-b5930a13c3bb\" xlink:type=\"simple\"><rect fill=\"#FFFFFF\" height=\"45.9375\" id=\"E4\" style=\"stroke: #383838; stroke-width: 1.5;\" width=\"108\" x=\"457\" y=\"41\"/><text fill=\"#000000\" font-family=\"sans-serif\" font-size=\"12\" font-style=\"italic\" lengthAdjust=\"spacingAndGlyphs\" textLength=\"106\" x=\"458\" y=\"57.1387\">«calculation def»</text><text fill=\"#000000\" font-family=\"sans-serif\" font-size=\"12\" lengthAdjust=\"spacingAndGlyphs\" textLength=\"7\" x=\"507.5\" y=\"71.1074\">F</text><line style=\"stroke: #383838; stroke-width: 1.5;\" x1=\"458\" x2=\"564\" y1=\"78.9375\" y2=\"78.9375\"/></a><!--MD5=[270fce915f116d4de14055a7c1d9a0f3]\n",
       "class E5--><a href=\"psysml:8c3ddf1b-2d8e-48f9-8bd9-e07e4f9dde48\" target=\"_top\" title=\"psysml:8c3ddf1b-2d8e-48f9-8bd9-e07e4f9dde48\" xlink:actuate=\"onRequest\" xlink:href=\"psysml:8c3ddf1b-2d8e-48f9-8bd9-e07e4f9dde48\" xlink:show=\"new\" xlink:title=\"psysml:8c3ddf1b-2d8e-48f9-8bd9-e07e4f9dde48\" xlink:type=\"simple\"><rect fill=\"#FFFFFF\" height=\"45.9375\" id=\"E5\" rx=\"10\" ry=\"10\" style=\"stroke: #383838; stroke-width: 1.5;\" width=\"71\" x=\"350.5\" y=\"41\"/><text fill=\"#000000\" font-family=\"sans-serif\" font-size=\"12\" font-style=\"italic\" lengthAdjust=\"spacingAndGlyphs\" textLength=\"69\" x=\"351.5\" y=\"57.1387\">«attribute»</text><text fill=\"#000000\" font-family=\"sans-serif\" font-size=\"12\" lengthAdjust=\"spacingAndGlyphs\" textLength=\"4\" x=\"384\" y=\"71.1074\">f</text><line style=\"stroke: #383838; stroke-width: 1.5;\" x1=\"351.5\" x2=\"420.5\" y1=\"78.9375\" y2=\"78.9375\"/></a><!--MD5=[60a26617385b1d2d0262a64233df1f8d]\n",
       "class E6--><a href=\"psysml:1f38f371-1f52-4b01-a20c-3f08ced1218d\" target=\"_top\" title=\"psysml:1f38f371-1f52-4b01-a20c-3f08ced1218d\" xlink:actuate=\"onRequest\" xlink:href=\"psysml:1f38f371-1f52-4b01-a20c-3f08ced1218d\" xlink:show=\"new\" xlink:title=\"psysml:1f38f371-1f52-4b01-a20c-3f08ced1218d\" xlink:type=\"simple\"><rect fill=\"#FFFFFF\" height=\"45.9375\" id=\"E6\" rx=\"10\" ry=\"10\" style=\"stroke: #383838; stroke-width: 1.5;\" width=\"71\" x=\"244.5\" y=\"41\"/><text fill=\"#000000\" font-family=\"sans-serif\" font-size=\"12\" font-style=\"italic\" lengthAdjust=\"spacingAndGlyphs\" textLength=\"69\" x=\"245.5\" y=\"57.1387\">«attribute»</text><text fill=\"#000000\" font-family=\"sans-serif\" font-size=\"12\" lengthAdjust=\"spacingAndGlyphs\" textLength=\"8\" x=\"276\" y=\"71.1074\">g</text><line style=\"stroke: #383838; stroke-width: 1.5;\" x1=\"245.5\" x2=\"314.5\" y1=\"78.9375\" y2=\"78.9375\"/></a><!--MD5=[2156ba9850f5573cc1fc38a6a4b2f02b]\n",
       "class E7--><a href=\"psysml:cd4f641f-a9ce-41b8-9b9f-d9b0f89951b2\" target=\"_top\" title=\"psysml:cd4f641f-a9ce-41b8-9b9f-d9b0f89951b2\" xlink:actuate=\"onRequest\" xlink:href=\"psysml:cd4f641f-a9ce-41b8-9b9f-d9b0f89951b2\" xlink:show=\"new\" xlink:title=\"psysml:cd4f641f-a9ce-41b8-9b9f-d9b0f89951b2\" xlink:type=\"simple\"><rect fill=\"#FFFFFF\" height=\"45.9375\" id=\"E7\" rx=\"10\" ry=\"10\" style=\"stroke: #383838; stroke-width: 1.5;\" width=\"71\" x=\"138.5\" y=\"41\"/><text fill=\"#000000\" font-family=\"sans-serif\" font-size=\"12\" font-style=\"italic\" lengthAdjust=\"spacingAndGlyphs\" textLength=\"69\" x=\"139.5\" y=\"57.1387\">«attribute»</text><text fill=\"#000000\" font-family=\"sans-serif\" font-size=\"12\" lengthAdjust=\"spacingAndGlyphs\" textLength=\"8\" x=\"170\" y=\"71.1074\">b</text><line style=\"stroke: #383838; stroke-width: 1.5;\" x1=\"139.5\" x2=\"208.5\" y1=\"78.9375\" y2=\"78.9375\"/></a><!--MD5=[b9389687b975829384b498ac4b7476b2]\n",
       "class E8--><a href=\"psysml:5033f0bf-ffeb-4313-b85b-4258ec8a052c\" target=\"_top\" title=\"psysml:5033f0bf-ffeb-4313-b85b-4258ec8a052c\" xlink:actuate=\"onRequest\" xlink:href=\"psysml:5033f0bf-ffeb-4313-b85b-4258ec8a052c\" xlink:show=\"new\" xlink:title=\"psysml:5033f0bf-ffeb-4313-b85b-4258ec8a052c\" xlink:type=\"simple\"><rect fill=\"#FFFFFF\" height=\"45.9375\" id=\"E8\" rx=\"10\" ry=\"10\" style=\"stroke: #383838; stroke-width: 1.5;\" width=\"71\" x=\"32.5\" y=\"41\"/><text fill=\"#000000\" font-family=\"sans-serif\" font-size=\"12\" font-style=\"italic\" lengthAdjust=\"spacingAndGlyphs\" textLength=\"69\" x=\"33.5\" y=\"57.1387\">«attribute»</text><text fill=\"#000000\" font-family=\"sans-serif\" font-size=\"12\" lengthAdjust=\"spacingAndGlyphs\" textLength=\"7\" x=\"64.5\" y=\"71.1074\">c</text><line style=\"stroke: #383838; stroke-width: 1.5;\" x1=\"33.5\" x2=\"102.5\" y1=\"78.9375\" y2=\"78.9375\"/></a><!--MD5=[05d275557350bfb9b23a4ef7222b4c39]\n",
       "link E3 to E2--><a href=\"psysml:94762400-f967-4f4d-9ae0-7f515d54317a\" target=\"_top\" title=\"psysml:94762400-f967-4f4d-9ae0-7f515d54317a\" xlink:actuate=\"onRequest\" xlink:href=\"psysml:94762400-f967-4f4d-9ae0-7f515d54317a\" xlink:show=\"new\" xlink:title=\"psysml:94762400-f967-4f4d-9ae0-7f515d54317a\" xlink:type=\"simple\"><path d=\"M621.94,87.19 C611.77,103.23 597.51,125.73 584.09,146.9 \" fill=\"none\" id=\"E3-&gt;E2\" style=\"stroke: #383838; stroke-width: 1.0;\"/><polygon fill=\"#FFFFFF\" points=\"573.37,163.82,577.6195,144.0225,589.448,151.5115,573.37,163.82\" style=\"stroke: #383838; stroke-width: 1.0;\"/><ellipse cx=\"582.3584\" cy=\"140.2764\" fill=\"#383838\" rx=\"2\" ry=\"2\" style=\"stroke: #383838; stroke-width: 1.0;\"/><ellipse cx=\"590.8073\" cy=\"145.6258\" fill=\"#383838\" rx=\"2\" ry=\"2\" style=\"stroke: #383838; stroke-width: 1.0;\"/></a><!--MD5=[ddeed8deb2209213b62e6cfabaa108b2]\n",
       "reverse link E4 to E2--><a href=\"psysml:6f03e5ff-f747-4209-970e-6a43677acfe5\" target=\"_top\" title=\"psysml:6f03e5ff-f747-4209-970e-6a43677acfe5\" xlink:actuate=\"onRequest\" xlink:href=\"psysml:6f03e5ff-f747-4209-970e-6a43677acfe5\" xlink:show=\"new\" xlink:title=\"psysml:6f03e5ff-f747-4209-970e-6a43677acfe5\" xlink:type=\"simple\"><path d=\"M519.62,99.96 C524.37,119.25 530.31,143.36 535.36,163.82 \" fill=\"none\" id=\"E4&lt;-E2\" style=\"stroke: #383838; stroke-width: 1.0;\"/><polygon fill=\"#FFFFFF\" points=\"516.47,87.19,514.0229,93.9732,519.3432,98.841,521.7903,92.0577,516.47,87.19\" style=\"stroke: #383838; stroke-width: 1.0;\"/><text fill=\"#000000\" font-family=\"sans-serif\" font-size=\"13\" lengthAdjust=\"spacingAndGlyphs\" textLength=\"8\" x=\"528\" y=\"130.0669\">p</text></a><!--MD5=[76c8a85bc27053d0be1868e97fb25fae]\n",
       "@startuml\r\n",
       "top to bottom direction\r\n",
       "skinparam monochrome true\r\n",
       "skinparam classbackgroundcolor white\r\n",
       "skinparam shadowing false\r\n",
       "skinparam wrapWidth 300\r\n",
       "hide circle\r\n",
       "\r\n",
       "package \"ParameterTest\" as E1  [[psysml:88bd93f8-a024-442a-9349-d26cb2f873a0 ]]  {\r\n",
       "comp def \"A\" as E2  <<(T,blue)attribute def>> [[psysml:2f5789b5-3949-40b4-8579-f7414350119a ]] {\r\n",
       "- - attributes - -\r\n",
       "x: String\r\n",
       "y: A\r\n",
       "}\r\n",
       "comp usage \"a: A\" as E3  <<(T,blue)attribute>> [[psysml:02928bc4-0eb7-4367-aa3f-5ffb35356b49 ]] {\r\n",
       "}\r\n",
       "comp def \"F\" as E4  <<(T,blue)calculation def>> [[psysml:de3210e5-068c-44a8-9828-b5930a13c3bb ]] {\r\n",
       "}\r\n",
       "comp usage \"f\" as E5  <<(T,blue)attribute>> [[psysml:8c3ddf1b-2d8e-48f9-8bd9-e07e4f9dde48 ]] {\r\n",
       "}\r\n",
       "comp usage \"g\" as E6  <<(T,blue)attribute>> [[psysml:1f38f371-1f52-4b01-a20c-3f08ced1218d ]] {\r\n",
       "}\r\n",
       "comp usage \"b\" as E7  <<(T,blue)attribute>> [[psysml:cd4f641f-a9ce-41b8-9b9f-d9b0f89951b2 ]] {\r\n",
       "}\r\n",
       "comp usage \"c\" as E8  <<(T,blue)attribute>> [[psysml:5033f0bf-ffeb-4313-b85b-4258ec8a052c ]] {\r\n",
       "}\r\n",
       "E3 - -:|> E2 [[psysml:94762400-f967-4f4d-9ae0-7f515d54317a ]] \r\n",
       "E4 o- - E2 [[psysml:6f03e5ff-f747-4209-970e-6a43677acfe5 ]] : p\r\n",
       "}\r\n",
       "@enduml\r\n",
       "\n",
       "PlantUML version 1.2020.13(Sat Jun 13 12:26:38 UTC 2020)\n",
       "(EPL source distribution)\n",
       "Java Runtime: OpenJDK Runtime Environment\n",
       "JVM: OpenJDK 64-Bit Server VM\n",
       "Default Encoding: UTF-8\n",
       "Language: en\n",
       "Country: null\n",
       "--></g></svg>"
      ]
     },
     "execution_count": 45,
     "metadata": {},
     "output_type": "execute_result"
    }
   ],
   "source": [
    "%viz --style=\"TB\" --view=\"Tree\" \"ParameterTest\""
   ]
  },
  {
   "cell_type": "code",
   "execution_count": 46,
   "id": "adjusted-substitute",
   "metadata": {
    "execution": {
     "iopub.execute_input": "2021-03-26T13:01:43.374592Z",
     "iopub.status.busy": "2021-03-26T13:01:43.374278Z",
     "iopub.status.idle": "2021-03-26T13:01:43.377278Z",
     "shell.execute_reply": "2021-03-26T13:01:43.376979Z"
    }
   },
   "outputs": [
    {
     "data": {
      "image/svg+xml": [
       "<?xml version=\"1.0\" encoding=\"UTF-8\" standalone=\"no\"?><svg xmlns=\"http://www.w3.org/2000/svg\" xmlns:xlink=\"http://www.w3.org/1999/xlink\" contentScriptType=\"application/ecmascript\" contentStyleType=\"text/css\" height=\"12px\" preserveAspectRatio=\"none\" style=\"width:12px;height:12px;\" version=\"1.1\" viewBox=\"0 0 12 12\" width=\"12px\" zoomAndPan=\"magnify\"><defs/><g><!--MD5=[f4ee21bc66e489b5061b7c3e9601fdef]\n",
       "@startuml\r\n",
       "top to bottom direction\r\n",
       "skinparam monochrome true\r\n",
       "skinparam classbackgroundcolor white\r\n",
       "skinparam shadowing false\r\n",
       "skinparam wrapWidth 300\r\n",
       "hide circle\r\n",
       "\r\n",
       "@enduml\r\n",
       "\n",
       "PlantUML version 1.2020.13(Sat Jun 13 12:26:38 UTC 2020)\n",
       "(EPL source distribution)\n",
       "Java Runtime: OpenJDK Runtime Environment\n",
       "JVM: OpenJDK 64-Bit Server VM\n",
       "Default Encoding: UTF-8\n",
       "Language: en\n",
       "Country: null\n",
       "--></g></svg>"
      ]
     },
     "execution_count": 46,
     "metadata": {},
     "output_type": "execute_result"
    }
   ],
   "source": [
    "%viz --style=\"TB\" --view=\"State\" \"ParameterTest\""
   ]
  },
  {
   "cell_type": "code",
   "execution_count": 47,
   "id": "thermal-print",
   "metadata": {
    "execution": {
     "iopub.execute_input": "2021-03-26T13:01:43.428270Z",
     "iopub.status.busy": "2021-03-26T13:01:43.427886Z",
     "iopub.status.idle": "2021-03-26T13:01:43.452926Z",
     "shell.execute_reply": "2021-03-26T13:01:43.452602Z"
    }
   },
   "outputs": [
    {
     "data": {
      "image/svg+xml": [
       "<?xml version=\"1.0\" encoding=\"UTF-8\" standalone=\"no\"?><svg xmlns=\"http://www.w3.org/2000/svg\" xmlns:xlink=\"http://www.w3.org/1999/xlink\" contentScriptType=\"application/ecmascript\" contentStyleType=\"text/css\" height=\"112px\" preserveAspectRatio=\"none\" style=\"width:874px;height:112px;\" version=\"1.1\" viewBox=\"0 0 874 112\" width=\"874px\" zoomAndPan=\"magnify\"><defs/><g><!--MD5=[fbc87193dbaf4d95561dea2c320d4a47]\n",
       "cluster E1--><a href=\"psysml:88bd93f8-a024-442a-9349-d26cb2f873a0\" target=\"_top\" title=\"psysml:88bd93f8-a024-442a-9349-d26cb2f873a0\" xlink:actuate=\"onRequest\" xlink:href=\"psysml:88bd93f8-a024-442a-9349-d26cb2f873a0\" xlink:show=\"new\" xlink:title=\"psysml:88bd93f8-a024-442a-9349-d26cb2f873a0\" xlink:type=\"simple\"><polygon fill=\"#FFFFFF\" points=\"16,6,139,6,146,28.2969,852,28.2969,852,100,16,100,16,6\" style=\"stroke: #000000; stroke-width: 1.5;\"/><line style=\"stroke: #000000; stroke-width: 1.5;\" x1=\"16\" x2=\"146\" y1=\"28.2969\" y2=\"28.2969\"/><text fill=\"#000000\" font-family=\"sans-serif\" font-size=\"14\" font-weight=\"bold\" lengthAdjust=\"spacingAndGlyphs\" textLength=\"117\" x=\"20\" y=\"20.9951\">ParameterTest</text></a><g id=\"E1.E2\"><a href=\"psysml:2f5789b5-3949-40b4-8579-f7414350119a\" target=\"_top\" title=\"psysml:2f5789b5-3949-40b4-8579-f7414350119a\" xlink:actuate=\"onRequest\" xlink:href=\"psysml:2f5789b5-3949-40b4-8579-f7414350119a\" xlink:show=\"new\" xlink:title=\"psysml:2f5789b5-3949-40b4-8579-f7414350119a\" xlink:type=\"simple\"><rect fill=\"#FFFFFF\" height=\"42.9375\" id=\"E2\" style=\"stroke: #383838; stroke-width: 1.5;\" width=\"100\" x=\"736\" y=\"41\"/><rect fill=\"#F8F8F8\" height=\"37.9375\" style=\"stroke: #383838; stroke-width: 1.5;\" width=\"100\" x=\"736\" y=\"41\"/><text fill=\"#000000\" font-family=\"sans-serif\" font-size=\"12\" font-style=\"italic\" lengthAdjust=\"spacingAndGlyphs\" textLength=\"93\" x=\"739.5\" y=\"57.1387\">«attribute def»</text><text fill=\"#000000\" font-family=\"sans-serif\" font-size=\"12\" lengthAdjust=\"spacingAndGlyphs\" textLength=\"8\" x=\"782\" y=\"71.1074\">A</text></a></g><g id=\"E1.E4\"><a href=\"psysml:de3210e5-068c-44a8-9828-b5930a13c3bb\" target=\"_top\" title=\"psysml:de3210e5-068c-44a8-9828-b5930a13c3bb\" xlink:actuate=\"onRequest\" xlink:href=\"psysml:de3210e5-068c-44a8-9828-b5930a13c3bb\" xlink:show=\"new\" xlink:title=\"psysml:de3210e5-068c-44a8-9828-b5930a13c3bb\" xlink:type=\"simple\"><rect fill=\"#FFFFFF\" height=\"42.9375\" id=\"E4\" style=\"stroke: #383838; stroke-width: 1.5;\" width=\"113\" x=\"587.5\" y=\"41\"/><rect fill=\"#F8F8F8\" height=\"37.9375\" style=\"stroke: #383838; stroke-width: 1.5;\" width=\"113\" x=\"587.5\" y=\"41\"/><text fill=\"#000000\" font-family=\"sans-serif\" font-size=\"12\" font-style=\"italic\" lengthAdjust=\"spacingAndGlyphs\" textLength=\"106\" x=\"591\" y=\"57.1387\">«calculation def»</text><text fill=\"#000000\" font-family=\"sans-serif\" font-size=\"12\" lengthAdjust=\"spacingAndGlyphs\" textLength=\"7\" x=\"640.5\" y=\"71.1074\">F</text></a></g><g id=\"E1.E3\"><a href=\"psysml:02928bc4-0eb7-4367-aa3f-5ffb35356b49\" target=\"_top\" title=\"psysml:02928bc4-0eb7-4367-aa3f-5ffb35356b49\" xlink:actuate=\"onRequest\" xlink:href=\"psysml:02928bc4-0eb7-4367-aa3f-5ffb35356b49\" xlink:show=\"new\" xlink:title=\"psysml:02928bc4-0eb7-4367-aa3f-5ffb35356b49\" xlink:type=\"simple\"><rect fill=\"#FFFFFF\" height=\"42.9375\" id=\"E3\" rx=\"10\" ry=\"10\" style=\"stroke: #383838; stroke-width: 1.5;\" width=\"76\" x=\"476\" y=\"41\"/><rect fill=\"#F8F8F8\" height=\"37.9375\" rx=\"10\" ry=\"10\" style=\"stroke: #F8F8F8; stroke-width: 1.5;\" width=\"76\" x=\"476\" y=\"41\"/><rect fill=\"#F8F8F8\" height=\"10\" style=\"stroke: #F8F8F8; stroke-width: 1.5;\" width=\"76\" x=\"476\" y=\"68.9375\"/><rect fill=\"none\" height=\"42.9375\" id=\"E3\" rx=\"10\" ry=\"10\" style=\"stroke: #383838; stroke-width: 1.5;\" width=\"76\" x=\"476\" y=\"41\"/><text fill=\"#000000\" font-family=\"sans-serif\" font-size=\"12\" font-style=\"italic\" lengthAdjust=\"spacingAndGlyphs\" textLength=\"69\" x=\"479.5\" y=\"57.1387\">«attribute»</text><text fill=\"#000000\" font-family=\"sans-serif\" font-size=\"12\" lengthAdjust=\"spacingAndGlyphs\" textLength=\"24\" x=\"502\" y=\"71.1074\">a: A</text></a></g><g id=\"E1.E5\"><a href=\"psysml:8c3ddf1b-2d8e-48f9-8bd9-e07e4f9dde48\" target=\"_top\" title=\"psysml:8c3ddf1b-2d8e-48f9-8bd9-e07e4f9dde48\" xlink:actuate=\"onRequest\" xlink:href=\"psysml:8c3ddf1b-2d8e-48f9-8bd9-e07e4f9dde48\" xlink:show=\"new\" xlink:title=\"psysml:8c3ddf1b-2d8e-48f9-8bd9-e07e4f9dde48\" xlink:type=\"simple\"><rect fill=\"#FFFFFF\" height=\"42.9375\" id=\"E5\" rx=\"10\" ry=\"10\" style=\"stroke: #383838; stroke-width: 1.5;\" width=\"76\" x=\"365\" y=\"41\"/><rect fill=\"#F8F8F8\" height=\"37.9375\" rx=\"10\" ry=\"10\" style=\"stroke: #F8F8F8; stroke-width: 1.5;\" width=\"76\" x=\"365\" y=\"41\"/><rect fill=\"#F8F8F8\" height=\"10\" style=\"stroke: #F8F8F8; stroke-width: 1.5;\" width=\"76\" x=\"365\" y=\"68.9375\"/><rect fill=\"none\" height=\"42.9375\" id=\"E5\" rx=\"10\" ry=\"10\" style=\"stroke: #383838; stroke-width: 1.5;\" width=\"76\" x=\"365\" y=\"41\"/><text fill=\"#000000\" font-family=\"sans-serif\" font-size=\"12\" font-style=\"italic\" lengthAdjust=\"spacingAndGlyphs\" textLength=\"69\" x=\"368.5\" y=\"57.1387\">«attribute»</text><text fill=\"#000000\" font-family=\"sans-serif\" font-size=\"12\" lengthAdjust=\"spacingAndGlyphs\" textLength=\"4\" x=\"401\" y=\"71.1074\">f</text></a></g><g id=\"E1.E6\"><a href=\"psysml:1f38f371-1f52-4b01-a20c-3f08ced1218d\" target=\"_top\" title=\"psysml:1f38f371-1f52-4b01-a20c-3f08ced1218d\" xlink:actuate=\"onRequest\" xlink:href=\"psysml:1f38f371-1f52-4b01-a20c-3f08ced1218d\" xlink:show=\"new\" xlink:title=\"psysml:1f38f371-1f52-4b01-a20c-3f08ced1218d\" xlink:type=\"simple\"><rect fill=\"#FFFFFF\" height=\"42.9375\" id=\"E6\" rx=\"10\" ry=\"10\" style=\"stroke: #383838; stroke-width: 1.5;\" width=\"76\" x=\"254\" y=\"41\"/><rect fill=\"#F8F8F8\" height=\"37.9375\" rx=\"10\" ry=\"10\" style=\"stroke: #F8F8F8; stroke-width: 1.5;\" width=\"76\" x=\"254\" y=\"41\"/><rect fill=\"#F8F8F8\" height=\"10\" style=\"stroke: #F8F8F8; stroke-width: 1.5;\" width=\"76\" x=\"254\" y=\"68.9375\"/><rect fill=\"none\" height=\"42.9375\" id=\"E6\" rx=\"10\" ry=\"10\" style=\"stroke: #383838; stroke-width: 1.5;\" width=\"76\" x=\"254\" y=\"41\"/><text fill=\"#000000\" font-family=\"sans-serif\" font-size=\"12\" font-style=\"italic\" lengthAdjust=\"spacingAndGlyphs\" textLength=\"69\" x=\"257.5\" y=\"57.1387\">«attribute»</text><text fill=\"#000000\" font-family=\"sans-serif\" font-size=\"12\" lengthAdjust=\"spacingAndGlyphs\" textLength=\"8\" x=\"288\" y=\"71.1074\">g</text></a></g><g id=\"E1.E7\"><a href=\"psysml:cd4f641f-a9ce-41b8-9b9f-d9b0f89951b2\" target=\"_top\" title=\"psysml:cd4f641f-a9ce-41b8-9b9f-d9b0f89951b2\" xlink:actuate=\"onRequest\" xlink:href=\"psysml:cd4f641f-a9ce-41b8-9b9f-d9b0f89951b2\" xlink:show=\"new\" xlink:title=\"psysml:cd4f641f-a9ce-41b8-9b9f-d9b0f89951b2\" xlink:type=\"simple\"><rect fill=\"#FFFFFF\" height=\"42.9375\" id=\"E7\" rx=\"10\" ry=\"10\" style=\"stroke: #383838; stroke-width: 1.5;\" width=\"76\" x=\"143\" y=\"41\"/><rect fill=\"#F8F8F8\" height=\"37.9375\" rx=\"10\" ry=\"10\" style=\"stroke: #F8F8F8; stroke-width: 1.5;\" width=\"76\" x=\"143\" y=\"41\"/><rect fill=\"#F8F8F8\" height=\"10\" style=\"stroke: #F8F8F8; stroke-width: 1.5;\" width=\"76\" x=\"143\" y=\"68.9375\"/><rect fill=\"none\" height=\"42.9375\" id=\"E7\" rx=\"10\" ry=\"10\" style=\"stroke: #383838; stroke-width: 1.5;\" width=\"76\" x=\"143\" y=\"41\"/><text fill=\"#000000\" font-family=\"sans-serif\" font-size=\"12\" font-style=\"italic\" lengthAdjust=\"spacingAndGlyphs\" textLength=\"69\" x=\"146.5\" y=\"57.1387\">«attribute»</text><text fill=\"#000000\" font-family=\"sans-serif\" font-size=\"12\" lengthAdjust=\"spacingAndGlyphs\" textLength=\"8\" x=\"177\" y=\"71.1074\">b</text></a></g><g id=\"E1.E8\"><a href=\"psysml:5033f0bf-ffeb-4313-b85b-4258ec8a052c\" target=\"_top\" title=\"psysml:5033f0bf-ffeb-4313-b85b-4258ec8a052c\" xlink:actuate=\"onRequest\" xlink:href=\"psysml:5033f0bf-ffeb-4313-b85b-4258ec8a052c\" xlink:show=\"new\" xlink:title=\"psysml:5033f0bf-ffeb-4313-b85b-4258ec8a052c\" xlink:type=\"simple\"><rect fill=\"#FFFFFF\" height=\"42.9375\" id=\"E8\" rx=\"10\" ry=\"10\" style=\"stroke: #383838; stroke-width: 1.5;\" width=\"76\" x=\"32\" y=\"41\"/><rect fill=\"#F8F8F8\" height=\"37.9375\" rx=\"10\" ry=\"10\" style=\"stroke: #F8F8F8; stroke-width: 1.5;\" width=\"76\" x=\"32\" y=\"41\"/><rect fill=\"#F8F8F8\" height=\"10\" style=\"stroke: #F8F8F8; stroke-width: 1.5;\" width=\"76\" x=\"32\" y=\"68.9375\"/><rect fill=\"none\" height=\"42.9375\" id=\"E8\" rx=\"10\" ry=\"10\" style=\"stroke: #383838; stroke-width: 1.5;\" width=\"76\" x=\"32\" y=\"41\"/><text fill=\"#000000\" font-family=\"sans-serif\" font-size=\"12\" font-style=\"italic\" lengthAdjust=\"spacingAndGlyphs\" textLength=\"69\" x=\"35.5\" y=\"57.1387\">«attribute»</text><text fill=\"#000000\" font-family=\"sans-serif\" font-size=\"12\" lengthAdjust=\"spacingAndGlyphs\" textLength=\"7\" x=\"66.5\" y=\"71.1074\">c</text></a></g><!--MD5=[f2ac7005b652cb5524ab7c4cd382b19d]\n",
       "@startuml\r\n",
       "skinparam ranksep 8\r\n",
       "skinparam rectangle {\r\n",
       " backgroundColor<<block>> LightGreen\r\n",
       "}\r\n",
       "top to bottom direction\r\n",
       "skinparam monochrome true\r\n",
       "skinparam classbackgroundcolor white\r\n",
       "skinparam shadowing false\r\n",
       "skinparam wrapWidth 300\r\n",
       "hide circle\r\n",
       "\r\n",
       "package \"ParameterTest\" as E1  [[psysml:88bd93f8-a024-442a-9349-d26cb2f873a0 ]]  {\r\n",
       "def \"A\" as E2  <<(T,blue)attribute def>> [[psysml:2f5789b5-3949-40b4-8579-f7414350119a ]] \r\n",
       "rec usage \"a: A\" as E3  <<(T,blue)attribute>> [[psysml:02928bc4-0eb7-4367-aa3f-5ffb35356b49 ]] {\r\n",
       "}\r\n",
       "def \"F\" as E4  <<(T,blue)calculation def>> [[psysml:de3210e5-068c-44a8-9828-b5930a13c3bb ]] \r\n",
       "rec usage \"f\" as E5  <<(T,blue)attribute>> [[psysml:8c3ddf1b-2d8e-48f9-8bd9-e07e4f9dde48 ]] {\r\n",
       "}\r\n",
       "rec usage \"g\" as E6  <<(T,blue)attribute>> [[psysml:1f38f371-1f52-4b01-a20c-3f08ced1218d ]] {\r\n",
       "}\r\n",
       "rec usage \"b\" as E7  <<(T,blue)attribute>> [[psysml:cd4f641f-a9ce-41b8-9b9f-d9b0f89951b2 ]] {\r\n",
       "}\r\n",
       "rec usage \"c\" as E8  <<(T,blue)attribute>> [[psysml:5033f0bf-ffeb-4313-b85b-4258ec8a052c ]] {\r\n",
       "}\r\n",
       "}\r\n",
       "@enduml\r\n",
       "\n",
       "PlantUML version 1.2020.13(Sat Jun 13 12:26:38 UTC 2020)\n",
       "(EPL source distribution)\n",
       "Java Runtime: OpenJDK Runtime Environment\n",
       "JVM: OpenJDK 64-Bit Server VM\n",
       "Default Encoding: UTF-8\n",
       "Language: en\n",
       "Country: null\n",
       "--></g></svg>"
      ]
     },
     "execution_count": 47,
     "metadata": {},
     "output_type": "execute_result"
    }
   ],
   "source": [
    "%viz --style=\"TB\" --view=\"Interconnection\" \"ParameterTest\""
   ]
  },
  {
   "cell_type": "code",
   "execution_count": 48,
   "id": "exclusive-moral",
   "metadata": {
    "execution": {
     "iopub.execute_input": "2021-03-26T13:01:43.503531Z",
     "iopub.status.busy": "2021-03-26T13:01:43.503142Z",
     "iopub.status.idle": "2021-03-26T13:01:43.521544Z",
     "shell.execute_reply": "2021-03-26T13:01:43.521247Z"
    }
   },
   "outputs": [
    {
     "data": {
      "image/svg+xml": [
       "<?xml version=\"1.0\" encoding=\"UTF-8\" standalone=\"no\"?><svg xmlns=\"http://www.w3.org/2000/svg\" xmlns:xlink=\"http://www.w3.org/1999/xlink\" contentScriptType=\"application/ecmascript\" contentStyleType=\"text/css\" height=\"126px\" preserveAspectRatio=\"none\" style=\"width:166px;height:126px;\" version=\"1.1\" viewBox=\"0 0 166 126\" width=\"166px\" zoomAndPan=\"magnify\"><defs/><g><!--MD5=[fbc87193dbaf4d95561dea2c320d4a47]\n",
       "cluster E1--><a href=\"psysml:de3210e5-068c-44a8-9828-b5930a13c3bb\" target=\"_top\" title=\"psysml:de3210e5-068c-44a8-9828-b5930a13c3bb\" xlink:actuate=\"onRequest\" xlink:href=\"psysml:de3210e5-068c-44a8-9828-b5930a13c3bb\" xlink:show=\"new\" xlink:title=\"psysml:de3210e5-068c-44a8-9828-b5930a13c3bb\" xlink:type=\"simple\"><rect fill=\"#FFFFFF\" height=\"73\" id=\"E1\" style=\"stroke: #383838; stroke-width: 1.5;\" width=\"148\" x=\"7\" y=\"42.0986\"/><rect fill=\"#F8F8F8\" height=\"37.9375\" style=\"stroke: #383838; stroke-width: 1.5;\" width=\"148\" x=\"7\" y=\"42.0986\"/><text fill=\"#000000\" font-family=\"sans-serif\" font-size=\"12\" font-style=\"italic\" lengthAdjust=\"spacingAndGlyphs\" textLength=\"106\" x=\"28\" y=\"58.2373\">«calculation def»</text><text fill=\"#000000\" font-family=\"sans-serif\" font-size=\"12\" lengthAdjust=\"spacingAndGlyphs\" textLength=\"7\" x=\"77.5\" y=\"72.2061\">F</text></a><text fill=\"#000000\" font-family=\"sans-serif\" font-size=\"14\" lengthAdjust=\"spacingAndGlyphs\" textLength=\"9\" x=\"20.5\" y=\"20.7969\">p</text><rect fill=\"#383838\" height=\"12\" style=\"stroke: #F8F8F8; stroke-width: 1.5;\" width=\"12\" x=\"19\" y=\"36.0986\"/><text fill=\"#000000\" font-family=\"sans-serif\" font-size=\"14\" lengthAdjust=\"spacingAndGlyphs\" textLength=\"9\" x=\"67.5\" y=\"20.7969\">q</text><rect fill=\"#383838\" height=\"12\" style=\"stroke: #F8F8F8; stroke-width: 1.5;\" width=\"12\" x=\"66\" y=\"36.0986\"/><!--MD5=[707d30633dbf57105a2cbd0c30bb220c]\n",
       "@startuml\r\n",
       "skinparam ranksep 8\r\n",
       "top to bottom direction\r\n",
       "skinparam monochrome true\r\n",
       "skinparam classbackgroundcolor white\r\n",
       "skinparam shadowing false\r\n",
       "skinparam wrapWidth 300\r\n",
       "hide circle\r\n",
       "\r\n",
       "rec def \"F\" as E1  <<(T,blue)calculation def>> [[psysml:de3210e5-068c-44a8-9828-b5930a13c3bb ]] {\r\n",
       "portin \"p\" as E2  [[psysml:6f03e5ff-f747-4209-970e-6a43677acfe5 ]] \r\n",
       "portin \"q\" as E3  [[psysml:59b46d55-27e2-4503-b58c-744d75cefff1 ]] \r\n",
       "}\r\n",
       "\r\n",
       "@enduml\r\n",
       "\n",
       "PlantUML version 1.2020.13(Sat Jun 13 12:26:38 UTC 2020)\n",
       "(EPL source distribution)\n",
       "Java Runtime: OpenJDK Runtime Environment\n",
       "JVM: OpenJDK 64-Bit Server VM\n",
       "Default Encoding: UTF-8\n",
       "Language: en\n",
       "Country: null\n",
       "--></g></svg>"
      ]
     },
     "execution_count": 48,
     "metadata": {},
     "output_type": "execute_result"
    }
   ],
   "source": [
    "%viz --style=\"TB\" --view=\"Action\" \"ParameterTest\""
   ]
  },
  {
   "cell_type": "code",
   "execution_count": 49,
   "id": "characteristic-lexington",
   "metadata": {
    "execution": {
     "iopub.execute_input": "2021-03-26T13:01:43.573229Z",
     "iopub.status.busy": "2021-03-26T13:01:43.572726Z",
     "iopub.status.idle": "2021-03-26T13:01:43.630223Z",
     "shell.execute_reply": "2021-03-26T13:01:43.629019Z"
    }
   },
   "outputs": [
    {
     "data": {
      "image/svg+xml": [
       "<?xml version=\"1.0\" encoding=\"UTF-8\" standalone=\"no\"?><svg xmlns=\"http://www.w3.org/2000/svg\" xmlns:xlink=\"http://www.w3.org/1999/xlink\" contentScriptType=\"application/ecmascript\" contentStyleType=\"text/css\" height=\"280px\" preserveAspectRatio=\"none\" style=\"width:710px;height:280px;\" version=\"1.1\" viewBox=\"0 0 710 280\" width=\"710px\" zoomAndPan=\"magnify\"><defs/><g><!--MD5=[fbc87193dbaf4d95561dea2c320d4a47]\n",
       "cluster E1--><a href=\"psysml:88bd93f8-a024-442a-9349-d26cb2f873a0\" target=\"_top\" title=\"psysml:88bd93f8-a024-442a-9349-d26cb2f873a0\" xlink:actuate=\"onRequest\" xlink:href=\"psysml:88bd93f8-a024-442a-9349-d26cb2f873a0\" xlink:show=\"new\" xlink:title=\"psysml:88bd93f8-a024-442a-9349-d26cb2f873a0\" xlink:type=\"simple\"><polygon fill=\"#FFFFFF\" points=\"16,6,139,6,146,28.2969,688,28.2969,688,268,16,268,16,6\" style=\"stroke: #000000; stroke-width: 1.5;\"/><line style=\"stroke: #000000; stroke-width: 1.5;\" x1=\"16\" x2=\"146\" y1=\"28.2969\" y2=\"28.2969\"/><text fill=\"#000000\" font-family=\"sans-serif\" font-size=\"14\" font-weight=\"bold\" lengthAdjust=\"spacingAndGlyphs\" textLength=\"117\" x=\"20\" y=\"20.9951\">ParameterTest</text></a><!--MD5=[b4997ac47864f28c2f74865a473b2911]\n",
       "class E2--><a href=\"psysml:2f5789b5-3949-40b4-8579-f7414350119a\" target=\"_top\" title=\"psysml:2f5789b5-3949-40b4-8579-f7414350119a\" xlink:actuate=\"onRequest\" xlink:href=\"psysml:2f5789b5-3949-40b4-8579-f7414350119a\" xlink:show=\"new\" xlink:title=\"psysml:2f5789b5-3949-40b4-8579-f7414350119a\" xlink:type=\"simple\"><rect fill=\"#FFFFFF\" height=\"88.3516\" id=\"E2\" style=\"stroke: #383838; stroke-width: 1.5;\" width=\"95\" x=\"498.5\" y=\"164\"/><text fill=\"#000000\" font-family=\"sans-serif\" font-size=\"12\" font-style=\"italic\" lengthAdjust=\"spacingAndGlyphs\" textLength=\"93\" x=\"499.5\" y=\"180.1387\">«attribute def»</text><text fill=\"#000000\" font-family=\"sans-serif\" font-size=\"12\" lengthAdjust=\"spacingAndGlyphs\" textLength=\"8\" x=\"542\" y=\"194.1074\">A</text><line style=\"stroke: #383838; stroke-width: 1.5;\" x1=\"499.5\" x2=\"592.5\" y1=\"201.9375\" y2=\"201.9375\"/><text fill=\"#000000\" font-family=\"sans-serif\" font-size=\"11\" lengthAdjust=\"spacingAndGlyphs\" textLength=\"48\" x=\"504.5\" y=\"232.9526\">x: String</text><text fill=\"#000000\" font-family=\"sans-serif\" font-size=\"11\" lengthAdjust=\"spacingAndGlyphs\" textLength=\"21\" x=\"504.5\" y=\"245.7573\">y: A</text><line style=\"stroke: #383838; stroke-width: 1.0;\" x1=\"499.5\" x2=\"518.5\" y1=\"216.3398\" y2=\"216.3398\"/><text fill=\"#000000\" font-family=\"sans-serif\" font-size=\"11\" lengthAdjust=\"spacingAndGlyphs\" textLength=\"55\" x=\"518.5\" y=\"219.6479\">attributes</text><line style=\"stroke: #383838; stroke-width: 1.0;\" x1=\"573.5\" x2=\"592.5\" y1=\"216.3398\" y2=\"216.3398\"/></a><!--MD5=[09b614a08d8cba4a07c9adeb5e0fee81]\n",
       "class E3--><a href=\"psysml:02928bc4-0eb7-4367-aa3f-5ffb35356b49\" target=\"_top\" title=\"psysml:02928bc4-0eb7-4367-aa3f-5ffb35356b49\" xlink:actuate=\"onRequest\" xlink:href=\"psysml:02928bc4-0eb7-4367-aa3f-5ffb35356b49\" xlink:show=\"new\" xlink:title=\"psysml:02928bc4-0eb7-4367-aa3f-5ffb35356b49\" xlink:type=\"simple\"><rect fill=\"#FFFFFF\" height=\"45.9375\" id=\"E3\" rx=\"10\" ry=\"10\" style=\"stroke: #383838; stroke-width: 1.5;\" width=\"71\" x=\"600.5\" y=\"41\"/><text fill=\"#000000\" font-family=\"sans-serif\" font-size=\"12\" font-style=\"italic\" lengthAdjust=\"spacingAndGlyphs\" textLength=\"69\" x=\"601.5\" y=\"57.1387\">«attribute»</text><text fill=\"#000000\" font-family=\"sans-serif\" font-size=\"12\" lengthAdjust=\"spacingAndGlyphs\" textLength=\"24\" x=\"624\" y=\"71.1074\">a: A</text><line style=\"stroke: #383838; stroke-width: 1.5;\" x1=\"601.5\" x2=\"670.5\" y1=\"78.9375\" y2=\"78.9375\"/></a><!--MD5=[ebbe1d658d1005bcc118a6aa81145e00]\n",
       "class E4--><a href=\"psysml:de3210e5-068c-44a8-9828-b5930a13c3bb\" target=\"_top\" title=\"psysml:de3210e5-068c-44a8-9828-b5930a13c3bb\" xlink:actuate=\"onRequest\" xlink:href=\"psysml:de3210e5-068c-44a8-9828-b5930a13c3bb\" xlink:show=\"new\" xlink:title=\"psysml:de3210e5-068c-44a8-9828-b5930a13c3bb\" xlink:type=\"simple\"><rect fill=\"#FFFFFF\" height=\"45.9375\" id=\"E4\" style=\"stroke: #383838; stroke-width: 1.5;\" width=\"108\" x=\"457\" y=\"41\"/><text fill=\"#000000\" font-family=\"sans-serif\" font-size=\"12\" font-style=\"italic\" lengthAdjust=\"spacingAndGlyphs\" textLength=\"106\" x=\"458\" y=\"57.1387\">«calculation def»</text><text fill=\"#000000\" font-family=\"sans-serif\" font-size=\"12\" lengthAdjust=\"spacingAndGlyphs\" textLength=\"7\" x=\"507.5\" y=\"71.1074\">F</text><line style=\"stroke: #383838; stroke-width: 1.5;\" x1=\"458\" x2=\"564\" y1=\"78.9375\" y2=\"78.9375\"/></a><!--MD5=[270fce915f116d4de14055a7c1d9a0f3]\n",
       "class E5--><a href=\"psysml:8c3ddf1b-2d8e-48f9-8bd9-e07e4f9dde48\" target=\"_top\" title=\"psysml:8c3ddf1b-2d8e-48f9-8bd9-e07e4f9dde48\" xlink:actuate=\"onRequest\" xlink:href=\"psysml:8c3ddf1b-2d8e-48f9-8bd9-e07e4f9dde48\" xlink:show=\"new\" xlink:title=\"psysml:8c3ddf1b-2d8e-48f9-8bd9-e07e4f9dde48\" xlink:type=\"simple\"><rect fill=\"#FFFFFF\" height=\"45.9375\" id=\"E5\" rx=\"10\" ry=\"10\" style=\"stroke: #383838; stroke-width: 1.5;\" width=\"71\" x=\"350.5\" y=\"41\"/><text fill=\"#000000\" font-family=\"sans-serif\" font-size=\"12\" font-style=\"italic\" lengthAdjust=\"spacingAndGlyphs\" textLength=\"69\" x=\"351.5\" y=\"57.1387\">«attribute»</text><text fill=\"#000000\" font-family=\"sans-serif\" font-size=\"12\" lengthAdjust=\"spacingAndGlyphs\" textLength=\"4\" x=\"384\" y=\"71.1074\">f</text><line style=\"stroke: #383838; stroke-width: 1.5;\" x1=\"351.5\" x2=\"420.5\" y1=\"78.9375\" y2=\"78.9375\"/></a><!--MD5=[60a26617385b1d2d0262a64233df1f8d]\n",
       "class E6--><a href=\"psysml:1f38f371-1f52-4b01-a20c-3f08ced1218d\" target=\"_top\" title=\"psysml:1f38f371-1f52-4b01-a20c-3f08ced1218d\" xlink:actuate=\"onRequest\" xlink:href=\"psysml:1f38f371-1f52-4b01-a20c-3f08ced1218d\" xlink:show=\"new\" xlink:title=\"psysml:1f38f371-1f52-4b01-a20c-3f08ced1218d\" xlink:type=\"simple\"><rect fill=\"#FFFFFF\" height=\"45.9375\" id=\"E6\" rx=\"10\" ry=\"10\" style=\"stroke: #383838; stroke-width: 1.5;\" width=\"71\" x=\"244.5\" y=\"41\"/><text fill=\"#000000\" font-family=\"sans-serif\" font-size=\"12\" font-style=\"italic\" lengthAdjust=\"spacingAndGlyphs\" textLength=\"69\" x=\"245.5\" y=\"57.1387\">«attribute»</text><text fill=\"#000000\" font-family=\"sans-serif\" font-size=\"12\" lengthAdjust=\"spacingAndGlyphs\" textLength=\"8\" x=\"276\" y=\"71.1074\">g</text><line style=\"stroke: #383838; stroke-width: 1.5;\" x1=\"245.5\" x2=\"314.5\" y1=\"78.9375\" y2=\"78.9375\"/></a><!--MD5=[2156ba9850f5573cc1fc38a6a4b2f02b]\n",
       "class E7--><a href=\"psysml:cd4f641f-a9ce-41b8-9b9f-d9b0f89951b2\" target=\"_top\" title=\"psysml:cd4f641f-a9ce-41b8-9b9f-d9b0f89951b2\" xlink:actuate=\"onRequest\" xlink:href=\"psysml:cd4f641f-a9ce-41b8-9b9f-d9b0f89951b2\" xlink:show=\"new\" xlink:title=\"psysml:cd4f641f-a9ce-41b8-9b9f-d9b0f89951b2\" xlink:type=\"simple\"><rect fill=\"#FFFFFF\" height=\"45.9375\" id=\"E7\" rx=\"10\" ry=\"10\" style=\"stroke: #383838; stroke-width: 1.5;\" width=\"71\" x=\"138.5\" y=\"41\"/><text fill=\"#000000\" font-family=\"sans-serif\" font-size=\"12\" font-style=\"italic\" lengthAdjust=\"spacingAndGlyphs\" textLength=\"69\" x=\"139.5\" y=\"57.1387\">«attribute»</text><text fill=\"#000000\" font-family=\"sans-serif\" font-size=\"12\" lengthAdjust=\"spacingAndGlyphs\" textLength=\"8\" x=\"170\" y=\"71.1074\">b</text><line style=\"stroke: #383838; stroke-width: 1.5;\" x1=\"139.5\" x2=\"208.5\" y1=\"78.9375\" y2=\"78.9375\"/></a><!--MD5=[b9389687b975829384b498ac4b7476b2]\n",
       "class E8--><a href=\"psysml:5033f0bf-ffeb-4313-b85b-4258ec8a052c\" target=\"_top\" title=\"psysml:5033f0bf-ffeb-4313-b85b-4258ec8a052c\" xlink:actuate=\"onRequest\" xlink:href=\"psysml:5033f0bf-ffeb-4313-b85b-4258ec8a052c\" xlink:show=\"new\" xlink:title=\"psysml:5033f0bf-ffeb-4313-b85b-4258ec8a052c\" xlink:type=\"simple\"><rect fill=\"#FFFFFF\" height=\"45.9375\" id=\"E8\" rx=\"10\" ry=\"10\" style=\"stroke: #383838; stroke-width: 1.5;\" width=\"71\" x=\"32.5\" y=\"41\"/><text fill=\"#000000\" font-family=\"sans-serif\" font-size=\"12\" font-style=\"italic\" lengthAdjust=\"spacingAndGlyphs\" textLength=\"69\" x=\"33.5\" y=\"57.1387\">«attribute»</text><text fill=\"#000000\" font-family=\"sans-serif\" font-size=\"12\" lengthAdjust=\"spacingAndGlyphs\" textLength=\"7\" x=\"64.5\" y=\"71.1074\">c</text><line style=\"stroke: #383838; stroke-width: 1.5;\" x1=\"33.5\" x2=\"102.5\" y1=\"78.9375\" y2=\"78.9375\"/></a><!--MD5=[05d275557350bfb9b23a4ef7222b4c39]\n",
       "link E3 to E2--><a href=\"psysml:94762400-f967-4f4d-9ae0-7f515d54317a\" target=\"_top\" title=\"psysml:94762400-f967-4f4d-9ae0-7f515d54317a\" xlink:actuate=\"onRequest\" xlink:href=\"psysml:94762400-f967-4f4d-9ae0-7f515d54317a\" xlink:show=\"new\" xlink:title=\"psysml:94762400-f967-4f4d-9ae0-7f515d54317a\" xlink:type=\"simple\"><path d=\"M621.94,87.19 C611.77,103.23 597.51,125.73 584.09,146.9 \" fill=\"none\" id=\"E3-&gt;E2\" style=\"stroke: #383838; stroke-width: 1.0;\"/><polygon fill=\"#FFFFFF\" points=\"573.37,163.82,577.6195,144.0225,589.448,151.5115,573.37,163.82\" style=\"stroke: #383838; stroke-width: 1.0;\"/><ellipse cx=\"582.3584\" cy=\"140.2764\" fill=\"#383838\" rx=\"2\" ry=\"2\" style=\"stroke: #383838; stroke-width: 1.0;\"/><ellipse cx=\"590.8073\" cy=\"145.6258\" fill=\"#383838\" rx=\"2\" ry=\"2\" style=\"stroke: #383838; stroke-width: 1.0;\"/></a><!--MD5=[ddeed8deb2209213b62e6cfabaa108b2]\n",
       "reverse link E4 to E2--><a href=\"psysml:6f03e5ff-f747-4209-970e-6a43677acfe5\" target=\"_top\" title=\"psysml:6f03e5ff-f747-4209-970e-6a43677acfe5\" xlink:actuate=\"onRequest\" xlink:href=\"psysml:6f03e5ff-f747-4209-970e-6a43677acfe5\" xlink:show=\"new\" xlink:title=\"psysml:6f03e5ff-f747-4209-970e-6a43677acfe5\" xlink:type=\"simple\"><path d=\"M519.62,99.96 C524.37,119.25 530.31,143.36 535.36,163.82 \" fill=\"none\" id=\"E4&lt;-E2\" style=\"stroke: #383838; stroke-width: 1.0;\"/><polygon fill=\"#FFFFFF\" points=\"516.47,87.19,514.0229,93.9732,519.3432,98.841,521.7903,92.0577,516.47,87.19\" style=\"stroke: #383838; stroke-width: 1.0;\"/><text fill=\"#000000\" font-family=\"sans-serif\" font-size=\"13\" lengthAdjust=\"spacingAndGlyphs\" textLength=\"8\" x=\"528\" y=\"130.0669\">p</text></a><!--MD5=[76c8a85bc27053d0be1868e97fb25fae]\n",
       "@startuml\r\n",
       "top to bottom direction\r\n",
       "skinparam monochrome true\r\n",
       "skinparam classbackgroundcolor white\r\n",
       "skinparam shadowing false\r\n",
       "skinparam wrapWidth 300\r\n",
       "hide circle\r\n",
       "\r\n",
       "package \"ParameterTest\" as E1  [[psysml:88bd93f8-a024-442a-9349-d26cb2f873a0 ]]  {\r\n",
       "comp def \"A\" as E2  <<(T,blue)attribute def>> [[psysml:2f5789b5-3949-40b4-8579-f7414350119a ]] {\r\n",
       "- - attributes - -\r\n",
       "x: String\r\n",
       "y: A\r\n",
       "}\r\n",
       "comp usage \"a: A\" as E3  <<(T,blue)attribute>> [[psysml:02928bc4-0eb7-4367-aa3f-5ffb35356b49 ]] {\r\n",
       "}\r\n",
       "comp def \"F\" as E4  <<(T,blue)calculation def>> [[psysml:de3210e5-068c-44a8-9828-b5930a13c3bb ]] {\r\n",
       "}\r\n",
       "comp usage \"f\" as E5  <<(T,blue)attribute>> [[psysml:8c3ddf1b-2d8e-48f9-8bd9-e07e4f9dde48 ]] {\r\n",
       "}\r\n",
       "comp usage \"g\" as E6  <<(T,blue)attribute>> [[psysml:1f38f371-1f52-4b01-a20c-3f08ced1218d ]] {\r\n",
       "}\r\n",
       "comp usage \"b\" as E7  <<(T,blue)attribute>> [[psysml:cd4f641f-a9ce-41b8-9b9f-d9b0f89951b2 ]] {\r\n",
       "}\r\n",
       "comp usage \"c\" as E8  <<(T,blue)attribute>> [[psysml:5033f0bf-ffeb-4313-b85b-4258ec8a052c ]] {\r\n",
       "}\r\n",
       "E3 - -:|> E2 [[psysml:94762400-f967-4f4d-9ae0-7f515d54317a ]] \r\n",
       "E4 o- - E2 [[psysml:6f03e5ff-f747-4209-970e-6a43677acfe5 ]] : p\r\n",
       "}\r\n",
       "@enduml\r\n",
       "\n",
       "PlantUML version 1.2020.13(Sat Jun 13 12:26:38 UTC 2020)\n",
       "(EPL source distribution)\n",
       "Java Runtime: OpenJDK Runtime Environment\n",
       "JVM: OpenJDK 64-Bit Server VM\n",
       "Default Encoding: UTF-8\n",
       "Language: en\n",
       "Country: null\n",
       "--></g></svg>"
      ]
     },
     "execution_count": 49,
     "metadata": {},
     "output_type": "execute_result"
    }
   ],
   "source": [
    "%viz --style=\"TB\" --view=\"Sequence\" \"ParameterTest\""
   ]
  },
  {
   "cell_type": "code",
   "execution_count": 50,
   "id": "wrapped-repeat",
   "metadata": {
    "execution": {
     "iopub.execute_input": "2021-03-26T13:01:43.685296Z",
     "iopub.status.busy": "2021-03-26T13:01:43.684756Z",
     "iopub.status.idle": "2021-03-26T13:01:43.730468Z",
     "shell.execute_reply": "2021-03-26T13:01:43.729246Z"
    }
   },
   "outputs": [
    {
     "data": {
      "image/svg+xml": [
       "<?xml version=\"1.0\" encoding=\"UTF-8\" standalone=\"no\"?><svg xmlns=\"http://www.w3.org/2000/svg\" xmlns:xlink=\"http://www.w3.org/1999/xlink\" contentScriptType=\"application/ecmascript\" contentStyleType=\"text/css\" height=\"263px\" preserveAspectRatio=\"none\" style=\"width:740px;height:263px;\" version=\"1.1\" viewBox=\"0 0 740 263\" width=\"740px\" zoomAndPan=\"magnify\"><defs/><g><!--MD5=[fbc87193dbaf4d95561dea2c320d4a47]\n",
       "cluster E1--><a href=\"psysml:88bd93f8-a024-442a-9349-d26cb2f873a0\" target=\"_top\" title=\"psysml:88bd93f8-a024-442a-9349-d26cb2f873a0\" xlink:actuate=\"onRequest\" xlink:href=\"psysml:88bd93f8-a024-442a-9349-d26cb2f873a0\" xlink:show=\"new\" xlink:title=\"psysml:88bd93f8-a024-442a-9349-d26cb2f873a0\" xlink:type=\"simple\"><polygon fill=\"#FFFFFF\" points=\"16,6,139,6,146,28.2969,718,28.2969,718,251,16,251,16,6\" style=\"stroke: #000000; stroke-width: 1.5;\"/><line style=\"stroke: #000000; stroke-width: 1.5;\" x1=\"16\" x2=\"146\" y1=\"28.2969\" y2=\"28.2969\"/><text fill=\"#000000\" font-family=\"sans-serif\" font-size=\"14\" font-weight=\"bold\" lengthAdjust=\"spacingAndGlyphs\" textLength=\"117\" x=\"20\" y=\"20.9951\">ParameterTest</text></a><!--MD5=[f6df4d0ebaf0b5dfb2ced0ae5af7c670]\n",
       "cluster E4--><a href=\"psysml:de3210e5-068c-44a8-9828-b5930a13c3bb\" target=\"_top\" title=\"psysml:de3210e5-068c-44a8-9828-b5930a13c3bb\" xlink:actuate=\"onRequest\" xlink:href=\"psysml:de3210e5-068c-44a8-9828-b5930a13c3bb\" xlink:show=\"new\" xlink:title=\"psysml:de3210e5-068c-44a8-9828-b5930a13c3bb\" xlink:type=\"simple\"><rect fill=\"#FFFFFF\" height=\"160.5\" id=\"E4\" style=\"stroke: #383838; stroke-width: 1.5;\" width=\"148\" x=\"554\" y=\"64\"/><rect fill=\"#F8F8F8\" height=\"37.9375\" style=\"stroke: #383838; stroke-width: 1.5;\" width=\"148\" x=\"554\" y=\"64\"/><text fill=\"#000000\" font-family=\"sans-serif\" font-size=\"12\" font-style=\"italic\" lengthAdjust=\"spacingAndGlyphs\" textLength=\"106\" x=\"575\" y=\"80.1387\">«calculation def»</text><text fill=\"#000000\" font-family=\"sans-serif\" font-size=\"12\" lengthAdjust=\"spacingAndGlyphs\" textLength=\"7\" x=\"624.5\" y=\"94.1074\">F</text></a><!--MD5=[b4997ac47864f28c2f74865a473b2911]\n",
       "class E2--><a href=\"psysml:2f5789b5-3949-40b4-8579-f7414350119a\" target=\"_top\" title=\"psysml:2f5789b5-3949-40b4-8579-f7414350119a\" xlink:actuate=\"onRequest\" xlink:href=\"psysml:2f5789b5-3949-40b4-8579-f7414350119a\" xlink:show=\"new\" xlink:title=\"psysml:2f5789b5-3949-40b4-8579-f7414350119a\" xlink:type=\"simple\"><rect fill=\"#FFFFFF\" height=\"88.3516\" id=\"E2\" style=\"stroke: #383838; stroke-width: 1.5;\" width=\"95\" x=\"422.5\" y=\"147\"/><text fill=\"#000000\" font-family=\"sans-serif\" font-size=\"12\" font-style=\"italic\" lengthAdjust=\"spacingAndGlyphs\" textLength=\"93\" x=\"423.5\" y=\"163.1387\">«attribute def»</text><text fill=\"#000000\" font-family=\"sans-serif\" font-size=\"12\" lengthAdjust=\"spacingAndGlyphs\" textLength=\"8\" x=\"466\" y=\"177.1074\">A</text><line style=\"stroke: #383838; stroke-width: 1.5;\" x1=\"423.5\" x2=\"516.5\" y1=\"184.9375\" y2=\"184.9375\"/><text fill=\"#000000\" font-family=\"sans-serif\" font-size=\"11\" lengthAdjust=\"spacingAndGlyphs\" textLength=\"48\" x=\"428.5\" y=\"215.9526\">x: String</text><text fill=\"#000000\" font-family=\"sans-serif\" font-size=\"11\" lengthAdjust=\"spacingAndGlyphs\" textLength=\"21\" x=\"428.5\" y=\"228.7573\">y: A</text><line style=\"stroke: #383838; stroke-width: 1.0;\" x1=\"423.5\" x2=\"442.5\" y1=\"199.3398\" y2=\"199.3398\"/><text fill=\"#000000\" font-family=\"sans-serif\" font-size=\"11\" lengthAdjust=\"spacingAndGlyphs\" textLength=\"55\" x=\"442.5\" y=\"202.6479\">attributes</text><line style=\"stroke: #383838; stroke-width: 1.0;\" x1=\"497.5\" x2=\"516.5\" y1=\"199.3398\" y2=\"199.3398\"/></a><!--MD5=[09b614a08d8cba4a07c9adeb5e0fee81]\n",
       "class E3--><a href=\"psysml:02928bc4-0eb7-4367-aa3f-5ffb35356b49\" target=\"_top\" title=\"psysml:02928bc4-0eb7-4367-aa3f-5ffb35356b49\" xlink:actuate=\"onRequest\" xlink:href=\"psysml:02928bc4-0eb7-4367-aa3f-5ffb35356b49\" xlink:show=\"new\" xlink:title=\"psysml:02928bc4-0eb7-4367-aa3f-5ffb35356b49\" xlink:type=\"simple\"><rect fill=\"#FFFFFF\" height=\"45.9375\" id=\"E3\" rx=\"10\" ry=\"10\" style=\"stroke: #383838; stroke-width: 1.5;\" width=\"71\" x=\"456.5\" y=\"41\"/><text fill=\"#000000\" font-family=\"sans-serif\" font-size=\"12\" font-style=\"italic\" lengthAdjust=\"spacingAndGlyphs\" textLength=\"69\" x=\"457.5\" y=\"57.1387\">«attribute»</text><text fill=\"#000000\" font-family=\"sans-serif\" font-size=\"12\" lengthAdjust=\"spacingAndGlyphs\" textLength=\"24\" x=\"480\" y=\"71.1074\">a: A</text><line style=\"stroke: #383838; stroke-width: 1.5;\" x1=\"457.5\" x2=\"526.5\" y1=\"78.9375\" y2=\"78.9375\"/></a><!--MD5=[2156ba9850f5573cc1fc38a6a4b2f02b]\n",
       "class E7--><a href=\"psysml:8c3ddf1b-2d8e-48f9-8bd9-e07e4f9dde48\" target=\"_top\" title=\"psysml:8c3ddf1b-2d8e-48f9-8bd9-e07e4f9dde48\" xlink:actuate=\"onRequest\" xlink:href=\"psysml:8c3ddf1b-2d8e-48f9-8bd9-e07e4f9dde48\" xlink:show=\"new\" xlink:title=\"psysml:8c3ddf1b-2d8e-48f9-8bd9-e07e4f9dde48\" xlink:type=\"simple\"><rect fill=\"#FFFFFF\" height=\"45.9375\" id=\"E7\" rx=\"10\" ry=\"10\" style=\"stroke: #383838; stroke-width: 1.5;\" width=\"71\" x=\"350.5\" y=\"41\"/><text fill=\"#000000\" font-family=\"sans-serif\" font-size=\"12\" font-style=\"italic\" lengthAdjust=\"spacingAndGlyphs\" textLength=\"69\" x=\"351.5\" y=\"57.1387\">«attribute»</text><text fill=\"#000000\" font-family=\"sans-serif\" font-size=\"12\" lengthAdjust=\"spacingAndGlyphs\" textLength=\"4\" x=\"384\" y=\"71.1074\">f</text><line style=\"stroke: #383838; stroke-width: 1.5;\" x1=\"351.5\" x2=\"420.5\" y1=\"78.9375\" y2=\"78.9375\"/></a><!--MD5=[b9389687b975829384b498ac4b7476b2]\n",
       "class E8--><a href=\"psysml:1f38f371-1f52-4b01-a20c-3f08ced1218d\" target=\"_top\" title=\"psysml:1f38f371-1f52-4b01-a20c-3f08ced1218d\" xlink:actuate=\"onRequest\" xlink:href=\"psysml:1f38f371-1f52-4b01-a20c-3f08ced1218d\" xlink:show=\"new\" xlink:title=\"psysml:1f38f371-1f52-4b01-a20c-3f08ced1218d\" xlink:type=\"simple\"><rect fill=\"#FFFFFF\" height=\"45.9375\" id=\"E8\" rx=\"10\" ry=\"10\" style=\"stroke: #383838; stroke-width: 1.5;\" width=\"71\" x=\"244.5\" y=\"41\"/><text fill=\"#000000\" font-family=\"sans-serif\" font-size=\"12\" font-style=\"italic\" lengthAdjust=\"spacingAndGlyphs\" textLength=\"69\" x=\"245.5\" y=\"57.1387\">«attribute»</text><text fill=\"#000000\" font-family=\"sans-serif\" font-size=\"12\" lengthAdjust=\"spacingAndGlyphs\" textLength=\"8\" x=\"276\" y=\"71.1074\">g</text><line style=\"stroke: #383838; stroke-width: 1.5;\" x1=\"245.5\" x2=\"314.5\" y1=\"78.9375\" y2=\"78.9375\"/></a><!--MD5=[fd4143e9d270a159db93a4ea2a975926]\n",
       "class E9--><a href=\"psysml:cd4f641f-a9ce-41b8-9b9f-d9b0f89951b2\" target=\"_top\" title=\"psysml:cd4f641f-a9ce-41b8-9b9f-d9b0f89951b2\" xlink:actuate=\"onRequest\" xlink:href=\"psysml:cd4f641f-a9ce-41b8-9b9f-d9b0f89951b2\" xlink:show=\"new\" xlink:title=\"psysml:cd4f641f-a9ce-41b8-9b9f-d9b0f89951b2\" xlink:type=\"simple\"><rect fill=\"#FFFFFF\" height=\"45.9375\" id=\"E9\" rx=\"10\" ry=\"10\" style=\"stroke: #383838; stroke-width: 1.5;\" width=\"71\" x=\"138.5\" y=\"41\"/><text fill=\"#000000\" font-family=\"sans-serif\" font-size=\"12\" font-style=\"italic\" lengthAdjust=\"spacingAndGlyphs\" textLength=\"69\" x=\"139.5\" y=\"57.1387\">«attribute»</text><text fill=\"#000000\" font-family=\"sans-serif\" font-size=\"12\" lengthAdjust=\"spacingAndGlyphs\" textLength=\"8\" x=\"170\" y=\"71.1074\">b</text><line style=\"stroke: #383838; stroke-width: 1.5;\" x1=\"139.5\" x2=\"208.5\" y1=\"78.9375\" y2=\"78.9375\"/></a><!--MD5=[96f4274e9e20536e775497830990834d]\n",
       "class E10--><a href=\"psysml:5033f0bf-ffeb-4313-b85b-4258ec8a052c\" target=\"_top\" title=\"psysml:5033f0bf-ffeb-4313-b85b-4258ec8a052c\" xlink:actuate=\"onRequest\" xlink:href=\"psysml:5033f0bf-ffeb-4313-b85b-4258ec8a052c\" xlink:show=\"new\" xlink:title=\"psysml:5033f0bf-ffeb-4313-b85b-4258ec8a052c\" xlink:type=\"simple\"><rect fill=\"#FFFFFF\" height=\"45.9375\" id=\"E10\" rx=\"10\" ry=\"10\" style=\"stroke: #383838; stroke-width: 1.5;\" width=\"71\" x=\"32.5\" y=\"41\"/><text fill=\"#000000\" font-family=\"sans-serif\" font-size=\"12\" font-style=\"italic\" lengthAdjust=\"spacingAndGlyphs\" textLength=\"69\" x=\"33.5\" y=\"57.1387\">«attribute»</text><text fill=\"#000000\" font-family=\"sans-serif\" font-size=\"12\" lengthAdjust=\"spacingAndGlyphs\" textLength=\"7\" x=\"64.5\" y=\"71.1074\">c</text><line style=\"stroke: #383838; stroke-width: 1.5;\" x1=\"33.5\" x2=\"102.5\" y1=\"78.9375\" y2=\"78.9375\"/></a><text fill=\"#000000\" font-family=\"sans-serif\" font-size=\"14\" lengthAdjust=\"spacingAndGlyphs\" textLength=\"9\" x=\"567.5\" y=\"42.6982\">p</text><rect fill=\"#383838\" height=\"12\" style=\"stroke: #F8F8F8; stroke-width: 1.5;\" width=\"12\" x=\"566\" y=\"58\"/><text fill=\"#000000\" font-family=\"sans-serif\" font-size=\"14\" lengthAdjust=\"spacingAndGlyphs\" textLength=\"9\" x=\"614.5\" y=\"42.6982\">q</text><rect fill=\"#383838\" height=\"12\" style=\"stroke: #F8F8F8; stroke-width: 1.5;\" width=\"12\" x=\"613\" y=\"58\"/><!--MD5=[05d275557350bfb9b23a4ef7222b4c39]\n",
       "link E3 to E2--><a href=\"psysml:94762400-f967-4f4d-9ae0-7f515d54317a\" target=\"_top\" title=\"psysml:94762400-f967-4f4d-9ae0-7f515d54317a\" xlink:actuate=\"onRequest\" xlink:href=\"psysml:94762400-f967-4f4d-9ae0-7f515d54317a\" xlink:show=\"new\" xlink:title=\"psysml:94762400-f967-4f4d-9ae0-7f515d54317a\" xlink:type=\"simple\"><path d=\"M488.12,87.06 C486.14,98.3 483.62,112.6 481.1,126.95 \" fill=\"none\" id=\"E3-&gt;E2\" style=\"stroke: #383838; stroke-width: 1.0;\"/><polygon fill=\"#FFFFFF\" points=\"477.58,146.93,473.9835,127.0035,487.7711,129.4331,477.58,146.93\" style=\"stroke: #383838; stroke-width: 1.0;\"/><ellipse cx=\"476.9423\" cy=\"121.7371\" fill=\"#383838\" rx=\"2\" ry=\"2\" style=\"stroke: #383838; stroke-width: 1.0;\"/><ellipse cx=\"486.7906\" cy=\"123.4725\" fill=\"#383838\" rx=\"2\" ry=\"2\" style=\"stroke: #383838; stroke-width: 1.0;\"/></a><!--MD5=[d32b87c59f3db16e6460931c90910f1c]\n",
       "@startuml\r\n",
       "top to bottom direction\r\n",
       "skinparam monochrome true\r\n",
       "skinparam classbackgroundcolor white\r\n",
       "skinparam shadowing false\r\n",
       "skinparam wrapWidth 300\r\n",
       "hide circle\r\n",
       "\r\n",
       "package \"ParameterTest\" as E1  [[psysml:88bd93f8-a024-442a-9349-d26cb2f873a0 ]]  {\r\n",
       "comp def \"A\" as E2  <<(T,blue)attribute def>> [[psysml:2f5789b5-3949-40b4-8579-f7414350119a ]] {\r\n",
       "- - attributes - -\r\n",
       "x: String\r\n",
       "y: A\r\n",
       "}\r\n",
       "comp usage \"a: A\" as E3  <<(T,blue)attribute>> [[psysml:02928bc4-0eb7-4367-aa3f-5ffb35356b49 ]] {\r\n",
       "}\r\n",
       "rec def \"F\" as E4  <<(T,blue)calculation def>> [[psysml:de3210e5-068c-44a8-9828-b5930a13c3bb ]] {\r\n",
       "portin \"p\" as E5  [[psysml:6f03e5ff-f747-4209-970e-6a43677acfe5 ]] \r\n",
       "portin \"q\" as E6  [[psysml:59b46d55-27e2-4503-b58c-744d75cefff1 ]] \r\n",
       "}\r\n",
       "\r\n",
       "comp usage \"f\" as E7  <<(T,blue)attribute>> [[psysml:8c3ddf1b-2d8e-48f9-8bd9-e07e4f9dde48 ]] {\r\n",
       "}\r\n",
       "comp usage \"g\" as E8  <<(T,blue)attribute>> [[psysml:1f38f371-1f52-4b01-a20c-3f08ced1218d ]] {\r\n",
       "}\r\n",
       "comp usage \"b\" as E9  <<(T,blue)attribute>> [[psysml:cd4f641f-a9ce-41b8-9b9f-d9b0f89951b2 ]] {\r\n",
       "}\r\n",
       "comp usage \"c\" as E10  <<(T,blue)attribute>> [[psysml:5033f0bf-ffeb-4313-b85b-4258ec8a052c ]] {\r\n",
       "}\r\n",
       "E3 - -:|> E2 [[psysml:94762400-f967-4f4d-9ae0-7f515d54317a ]] \r\n",
       "}\r\n",
       "@enduml\r\n",
       "\n",
       "PlantUML version 1.2020.13(Sat Jun 13 12:26:38 UTC 2020)\n",
       "(EPL source distribution)\n",
       "Java Runtime: OpenJDK Runtime Environment\n",
       "JVM: OpenJDK 64-Bit Server VM\n",
       "Default Encoding: UTF-8\n",
       "Language: en\n",
       "Country: null\n",
       "--></g></svg>"
      ]
     },
     "execution_count": 50,
     "metadata": {},
     "output_type": "execute_result"
    }
   ],
   "source": [
    "%viz --style=\"TB\" --view=\"MIXED\" \"ParameterTest\""
   ]
  },
  {
   "cell_type": "code",
   "execution_count": 51,
   "id": "invalid-duration",
   "metadata": {
    "execution": {
     "iopub.execute_input": "2021-03-26T13:01:43.781945Z",
     "iopub.status.busy": "2021-03-26T13:01:43.780656Z",
     "iopub.status.idle": "2021-03-26T13:01:43.837911Z",
     "shell.execute_reply": "2021-03-26T13:01:43.836626Z"
    }
   },
   "outputs": [
    {
     "data": {
      "image/svg+xml": [
       "<?xml version=\"1.0\" encoding=\"UTF-8\" standalone=\"no\"?><svg xmlns=\"http://www.w3.org/2000/svg\" xmlns:xlink=\"http://www.w3.org/1999/xlink\" contentScriptType=\"application/ecmascript\" contentStyleType=\"text/css\" height=\"263px\" preserveAspectRatio=\"none\" style=\"width:740px;height:263px;\" version=\"1.1\" viewBox=\"0 0 740 263\" width=\"740px\" zoomAndPan=\"magnify\"><defs/><g><!--MD5=[fbc87193dbaf4d95561dea2c320d4a47]\n",
       "cluster E1--><a href=\"psysml:88bd93f8-a024-442a-9349-d26cb2f873a0\" target=\"_top\" title=\"psysml:88bd93f8-a024-442a-9349-d26cb2f873a0\" xlink:actuate=\"onRequest\" xlink:href=\"psysml:88bd93f8-a024-442a-9349-d26cb2f873a0\" xlink:show=\"new\" xlink:title=\"psysml:88bd93f8-a024-442a-9349-d26cb2f873a0\" xlink:type=\"simple\"><polygon fill=\"#FFFFFF\" points=\"16,6,139,6,146,28.2969,718,28.2969,718,251,16,251,16,6\" style=\"stroke: #000000; stroke-width: 1.5;\"/><line style=\"stroke: #000000; stroke-width: 1.5;\" x1=\"16\" x2=\"146\" y1=\"28.2969\" y2=\"28.2969\"/><text fill=\"#000000\" font-family=\"sans-serif\" font-size=\"14\" font-weight=\"bold\" lengthAdjust=\"spacingAndGlyphs\" textLength=\"117\" x=\"20\" y=\"20.9951\">ParameterTest</text></a><!--MD5=[f6df4d0ebaf0b5dfb2ced0ae5af7c670]\n",
       "cluster E4--><a href=\"psysml:de3210e5-068c-44a8-9828-b5930a13c3bb\" target=\"_top\" title=\"psysml:de3210e5-068c-44a8-9828-b5930a13c3bb\" xlink:actuate=\"onRequest\" xlink:href=\"psysml:de3210e5-068c-44a8-9828-b5930a13c3bb\" xlink:show=\"new\" xlink:title=\"psysml:de3210e5-068c-44a8-9828-b5930a13c3bb\" xlink:type=\"simple\"><rect fill=\"#FFFFFF\" height=\"160.5\" id=\"E4\" style=\"stroke: #383838; stroke-width: 1.5;\" width=\"148\" x=\"554\" y=\"64\"/><rect fill=\"#F8F8F8\" height=\"37.9375\" style=\"stroke: #383838; stroke-width: 1.5;\" width=\"148\" x=\"554\" y=\"64\"/><text fill=\"#000000\" font-family=\"sans-serif\" font-size=\"12\" font-style=\"italic\" lengthAdjust=\"spacingAndGlyphs\" textLength=\"106\" x=\"575\" y=\"80.1387\">«calculation def»</text><text fill=\"#000000\" font-family=\"sans-serif\" font-size=\"12\" lengthAdjust=\"spacingAndGlyphs\" textLength=\"7\" x=\"624.5\" y=\"94.1074\">F</text></a><!--MD5=[b4997ac47864f28c2f74865a473b2911]\n",
       "class E2--><a href=\"psysml:2f5789b5-3949-40b4-8579-f7414350119a\" target=\"_top\" title=\"psysml:2f5789b5-3949-40b4-8579-f7414350119a\" xlink:actuate=\"onRequest\" xlink:href=\"psysml:2f5789b5-3949-40b4-8579-f7414350119a\" xlink:show=\"new\" xlink:title=\"psysml:2f5789b5-3949-40b4-8579-f7414350119a\" xlink:type=\"simple\"><rect fill=\"#FFFFFF\" height=\"88.3516\" id=\"E2\" style=\"stroke: #383838; stroke-width: 1.5;\" width=\"95\" x=\"422.5\" y=\"147\"/><text fill=\"#000000\" font-family=\"sans-serif\" font-size=\"12\" font-style=\"italic\" lengthAdjust=\"spacingAndGlyphs\" textLength=\"93\" x=\"423.5\" y=\"163.1387\">«attribute def»</text><text fill=\"#000000\" font-family=\"sans-serif\" font-size=\"12\" lengthAdjust=\"spacingAndGlyphs\" textLength=\"8\" x=\"466\" y=\"177.1074\">A</text><line style=\"stroke: #383838; stroke-width: 1.5;\" x1=\"423.5\" x2=\"516.5\" y1=\"184.9375\" y2=\"184.9375\"/><text fill=\"#000000\" font-family=\"sans-serif\" font-size=\"11\" lengthAdjust=\"spacingAndGlyphs\" textLength=\"48\" x=\"428.5\" y=\"215.9526\">x: String</text><text fill=\"#000000\" font-family=\"sans-serif\" font-size=\"11\" lengthAdjust=\"spacingAndGlyphs\" textLength=\"21\" x=\"428.5\" y=\"228.7573\">y: A</text><line style=\"stroke: #383838; stroke-width: 1.0;\" x1=\"423.5\" x2=\"442.5\" y1=\"199.3398\" y2=\"199.3398\"/><text fill=\"#000000\" font-family=\"sans-serif\" font-size=\"11\" lengthAdjust=\"spacingAndGlyphs\" textLength=\"55\" x=\"442.5\" y=\"202.6479\">attributes</text><line style=\"stroke: #383838; stroke-width: 1.0;\" x1=\"497.5\" x2=\"516.5\" y1=\"199.3398\" y2=\"199.3398\"/></a><!--MD5=[09b614a08d8cba4a07c9adeb5e0fee81]\n",
       "class E3--><a href=\"psysml:02928bc4-0eb7-4367-aa3f-5ffb35356b49\" target=\"_top\" title=\"psysml:02928bc4-0eb7-4367-aa3f-5ffb35356b49\" xlink:actuate=\"onRequest\" xlink:href=\"psysml:02928bc4-0eb7-4367-aa3f-5ffb35356b49\" xlink:show=\"new\" xlink:title=\"psysml:02928bc4-0eb7-4367-aa3f-5ffb35356b49\" xlink:type=\"simple\"><rect fill=\"#FFFFFF\" height=\"45.9375\" id=\"E3\" rx=\"10\" ry=\"10\" style=\"stroke: #383838; stroke-width: 1.5;\" width=\"71\" x=\"456.5\" y=\"41\"/><text fill=\"#000000\" font-family=\"sans-serif\" font-size=\"12\" font-style=\"italic\" lengthAdjust=\"spacingAndGlyphs\" textLength=\"69\" x=\"457.5\" y=\"57.1387\">«attribute»</text><text fill=\"#000000\" font-family=\"sans-serif\" font-size=\"12\" lengthAdjust=\"spacingAndGlyphs\" textLength=\"24\" x=\"480\" y=\"71.1074\">a: A</text><line style=\"stroke: #383838; stroke-width: 1.5;\" x1=\"457.5\" x2=\"526.5\" y1=\"78.9375\" y2=\"78.9375\"/></a><!--MD5=[2156ba9850f5573cc1fc38a6a4b2f02b]\n",
       "class E7--><a href=\"psysml:8c3ddf1b-2d8e-48f9-8bd9-e07e4f9dde48\" target=\"_top\" title=\"psysml:8c3ddf1b-2d8e-48f9-8bd9-e07e4f9dde48\" xlink:actuate=\"onRequest\" xlink:href=\"psysml:8c3ddf1b-2d8e-48f9-8bd9-e07e4f9dde48\" xlink:show=\"new\" xlink:title=\"psysml:8c3ddf1b-2d8e-48f9-8bd9-e07e4f9dde48\" xlink:type=\"simple\"><rect fill=\"#FFFFFF\" height=\"45.9375\" id=\"E7\" rx=\"10\" ry=\"10\" style=\"stroke: #383838; stroke-width: 1.5;\" width=\"71\" x=\"350.5\" y=\"41\"/><text fill=\"#000000\" font-family=\"sans-serif\" font-size=\"12\" font-style=\"italic\" lengthAdjust=\"spacingAndGlyphs\" textLength=\"69\" x=\"351.5\" y=\"57.1387\">«attribute»</text><text fill=\"#000000\" font-family=\"sans-serif\" font-size=\"12\" lengthAdjust=\"spacingAndGlyphs\" textLength=\"4\" x=\"384\" y=\"71.1074\">f</text><line style=\"stroke: #383838; stroke-width: 1.5;\" x1=\"351.5\" x2=\"420.5\" y1=\"78.9375\" y2=\"78.9375\"/></a><!--MD5=[b9389687b975829384b498ac4b7476b2]\n",
       "class E8--><a href=\"psysml:1f38f371-1f52-4b01-a20c-3f08ced1218d\" target=\"_top\" title=\"psysml:1f38f371-1f52-4b01-a20c-3f08ced1218d\" xlink:actuate=\"onRequest\" xlink:href=\"psysml:1f38f371-1f52-4b01-a20c-3f08ced1218d\" xlink:show=\"new\" xlink:title=\"psysml:1f38f371-1f52-4b01-a20c-3f08ced1218d\" xlink:type=\"simple\"><rect fill=\"#FFFFFF\" height=\"45.9375\" id=\"E8\" rx=\"10\" ry=\"10\" style=\"stroke: #383838; stroke-width: 1.5;\" width=\"71\" x=\"244.5\" y=\"41\"/><text fill=\"#000000\" font-family=\"sans-serif\" font-size=\"12\" font-style=\"italic\" lengthAdjust=\"spacingAndGlyphs\" textLength=\"69\" x=\"245.5\" y=\"57.1387\">«attribute»</text><text fill=\"#000000\" font-family=\"sans-serif\" font-size=\"12\" lengthAdjust=\"spacingAndGlyphs\" textLength=\"8\" x=\"276\" y=\"71.1074\">g</text><line style=\"stroke: #383838; stroke-width: 1.5;\" x1=\"245.5\" x2=\"314.5\" y1=\"78.9375\" y2=\"78.9375\"/></a><!--MD5=[fd4143e9d270a159db93a4ea2a975926]\n",
       "class E9--><a href=\"psysml:cd4f641f-a9ce-41b8-9b9f-d9b0f89951b2\" target=\"_top\" title=\"psysml:cd4f641f-a9ce-41b8-9b9f-d9b0f89951b2\" xlink:actuate=\"onRequest\" xlink:href=\"psysml:cd4f641f-a9ce-41b8-9b9f-d9b0f89951b2\" xlink:show=\"new\" xlink:title=\"psysml:cd4f641f-a9ce-41b8-9b9f-d9b0f89951b2\" xlink:type=\"simple\"><rect fill=\"#FFFFFF\" height=\"45.9375\" id=\"E9\" rx=\"10\" ry=\"10\" style=\"stroke: #383838; stroke-width: 1.5;\" width=\"71\" x=\"138.5\" y=\"41\"/><text fill=\"#000000\" font-family=\"sans-serif\" font-size=\"12\" font-style=\"italic\" lengthAdjust=\"spacingAndGlyphs\" textLength=\"69\" x=\"139.5\" y=\"57.1387\">«attribute»</text><text fill=\"#000000\" font-family=\"sans-serif\" font-size=\"12\" lengthAdjust=\"spacingAndGlyphs\" textLength=\"8\" x=\"170\" y=\"71.1074\">b</text><line style=\"stroke: #383838; stroke-width: 1.5;\" x1=\"139.5\" x2=\"208.5\" y1=\"78.9375\" y2=\"78.9375\"/></a><!--MD5=[96f4274e9e20536e775497830990834d]\n",
       "class E10--><a href=\"psysml:5033f0bf-ffeb-4313-b85b-4258ec8a052c\" target=\"_top\" title=\"psysml:5033f0bf-ffeb-4313-b85b-4258ec8a052c\" xlink:actuate=\"onRequest\" xlink:href=\"psysml:5033f0bf-ffeb-4313-b85b-4258ec8a052c\" xlink:show=\"new\" xlink:title=\"psysml:5033f0bf-ffeb-4313-b85b-4258ec8a052c\" xlink:type=\"simple\"><rect fill=\"#FFFFFF\" height=\"45.9375\" id=\"E10\" rx=\"10\" ry=\"10\" style=\"stroke: #383838; stroke-width: 1.5;\" width=\"71\" x=\"32.5\" y=\"41\"/><text fill=\"#000000\" font-family=\"sans-serif\" font-size=\"12\" font-style=\"italic\" lengthAdjust=\"spacingAndGlyphs\" textLength=\"69\" x=\"33.5\" y=\"57.1387\">«attribute»</text><text fill=\"#000000\" font-family=\"sans-serif\" font-size=\"12\" lengthAdjust=\"spacingAndGlyphs\" textLength=\"7\" x=\"64.5\" y=\"71.1074\">c</text><line style=\"stroke: #383838; stroke-width: 1.5;\" x1=\"33.5\" x2=\"102.5\" y1=\"78.9375\" y2=\"78.9375\"/></a><text fill=\"#000000\" font-family=\"sans-serif\" font-size=\"14\" lengthAdjust=\"spacingAndGlyphs\" textLength=\"9\" x=\"567.5\" y=\"42.6982\">p</text><rect fill=\"#383838\" height=\"12\" style=\"stroke: #F8F8F8; stroke-width: 1.5;\" width=\"12\" x=\"566\" y=\"58\"/><text fill=\"#000000\" font-family=\"sans-serif\" font-size=\"14\" lengthAdjust=\"spacingAndGlyphs\" textLength=\"9\" x=\"614.5\" y=\"42.6982\">q</text><rect fill=\"#383838\" height=\"12\" style=\"stroke: #F8F8F8; stroke-width: 1.5;\" width=\"12\" x=\"613\" y=\"58\"/><!--MD5=[05d275557350bfb9b23a4ef7222b4c39]\n",
       "link E3 to E2--><a href=\"psysml:94762400-f967-4f4d-9ae0-7f515d54317a\" target=\"_top\" title=\"psysml:94762400-f967-4f4d-9ae0-7f515d54317a\" xlink:actuate=\"onRequest\" xlink:href=\"psysml:94762400-f967-4f4d-9ae0-7f515d54317a\" xlink:show=\"new\" xlink:title=\"psysml:94762400-f967-4f4d-9ae0-7f515d54317a\" xlink:type=\"simple\"><path d=\"M487,87.29 C487,87.29 487,126.78 487,126.78 \" fill=\"none\" id=\"E3-&gt;E2\" style=\"stroke: #383838; stroke-width: 1.0;\"/><polygon fill=\"#FFFFFF\" points=\"487,146.78,480,127.78,494,127.78,487,146.78\" style=\"stroke: #383838; stroke-width: 1.0;\"/><ellipse cx=\"482\" cy=\"122.08\" fill=\"#383838\" rx=\"2\" ry=\"2\" style=\"stroke: #383838; stroke-width: 1.0;\"/><ellipse cx=\"492\" cy=\"122.08\" fill=\"#383838\" rx=\"2\" ry=\"2\" style=\"stroke: #383838; stroke-width: 1.0;\"/></a><!--MD5=[120671e161936ea21cbbfa253359f124]\n",
       "@startuml\r\n",
       "skinparam linetype ortho\r\n",
       "skinparam monochrome true\r\n",
       "skinparam classbackgroundcolor white\r\n",
       "skinparam shadowing false\r\n",
       "skinparam wrapWidth 300\r\n",
       "hide circle\r\n",
       "\r\n",
       "package \"ParameterTest\" as E1  [[psysml:88bd93f8-a024-442a-9349-d26cb2f873a0 ]]  {\r\n",
       "comp def \"A\" as E2  <<(T,blue)attribute def>> [[psysml:2f5789b5-3949-40b4-8579-f7414350119a ]] {\r\n",
       "- - attributes - -\r\n",
       "x: String\r\n",
       "y: A\r\n",
       "}\r\n",
       "comp usage \"a: A\" as E3  <<(T,blue)attribute>> [[psysml:02928bc4-0eb7-4367-aa3f-5ffb35356b49 ]] {\r\n",
       "}\r\n",
       "rec def \"F\" as E4  <<(T,blue)calculation def>> [[psysml:de3210e5-068c-44a8-9828-b5930a13c3bb ]] {\r\n",
       "portin \"p\" as E5  [[psysml:6f03e5ff-f747-4209-970e-6a43677acfe5 ]] \r\n",
       "portin \"q\" as E6  [[psysml:59b46d55-27e2-4503-b58c-744d75cefff1 ]] \r\n",
       "}\r\n",
       "\r\n",
       "comp usage \"f\" as E7  <<(T,blue)attribute>> [[psysml:8c3ddf1b-2d8e-48f9-8bd9-e07e4f9dde48 ]] {\r\n",
       "}\r\n",
       "comp usage \"g\" as E8  <<(T,blue)attribute>> [[psysml:1f38f371-1f52-4b01-a20c-3f08ced1218d ]] {\r\n",
       "}\r\n",
       "comp usage \"b\" as E9  <<(T,blue)attribute>> [[psysml:cd4f641f-a9ce-41b8-9b9f-d9b0f89951b2 ]] {\r\n",
       "}\r\n",
       "comp usage \"c\" as E10  <<(T,blue)attribute>> [[psysml:5033f0bf-ffeb-4313-b85b-4258ec8a052c ]] {\r\n",
       "}\r\n",
       "E3 - -:|> E2 [[psysml:94762400-f967-4f4d-9ae0-7f515d54317a ]] \r\n",
       "}\r\n",
       "@enduml\r\n",
       "\n",
       "PlantUML version 1.2020.13(Sat Jun 13 12:26:38 UTC 2020)\n",
       "(EPL source distribution)\n",
       "Java Runtime: OpenJDK Runtime Environment\n",
       "JVM: OpenJDK 64-Bit Server VM\n",
       "Default Encoding: UTF-8\n",
       "Language: en\n",
       "Country: null\n",
       "--></g></svg>"
      ]
     },
     "execution_count": 51,
     "metadata": {},
     "output_type": "execute_result"
    }
   ],
   "source": [
    "%viz --style=\"ORTHOLINE\" --view=\"Default\" \"ParameterTest\""
   ]
  },
  {
   "cell_type": "code",
   "execution_count": 52,
   "id": "dutch-universe",
   "metadata": {
    "execution": {
     "iopub.execute_input": "2021-03-26T13:01:43.888465Z",
     "iopub.status.busy": "2021-03-26T13:01:43.888138Z",
     "iopub.status.idle": "2021-03-26T13:01:43.938448Z",
     "shell.execute_reply": "2021-03-26T13:01:43.938811Z"
    }
   },
   "outputs": [
    {
     "data": {
      "image/svg+xml": [
       "<?xml version=\"1.0\" encoding=\"UTF-8\" standalone=\"no\"?><svg xmlns=\"http://www.w3.org/2000/svg\" xmlns:xlink=\"http://www.w3.org/1999/xlink\" contentScriptType=\"application/ecmascript\" contentStyleType=\"text/css\" height=\"280px\" preserveAspectRatio=\"none\" style=\"width:710px;height:280px;\" version=\"1.1\" viewBox=\"0 0 710 280\" width=\"710px\" zoomAndPan=\"magnify\"><defs/><g><!--MD5=[fbc87193dbaf4d95561dea2c320d4a47]\n",
       "cluster E1--><a href=\"psysml:88bd93f8-a024-442a-9349-d26cb2f873a0\" target=\"_top\" title=\"psysml:88bd93f8-a024-442a-9349-d26cb2f873a0\" xlink:actuate=\"onRequest\" xlink:href=\"psysml:88bd93f8-a024-442a-9349-d26cb2f873a0\" xlink:show=\"new\" xlink:title=\"psysml:88bd93f8-a024-442a-9349-d26cb2f873a0\" xlink:type=\"simple\"><polygon fill=\"#FFFFFF\" points=\"16,6,139,6,146,28.2969,688,28.2969,688,268,16,268,16,6\" style=\"stroke: #000000; stroke-width: 1.5;\"/><line style=\"stroke: #000000; stroke-width: 1.5;\" x1=\"16\" x2=\"146\" y1=\"28.2969\" y2=\"28.2969\"/><text fill=\"#000000\" font-family=\"sans-serif\" font-size=\"14\" font-weight=\"bold\" lengthAdjust=\"spacingAndGlyphs\" textLength=\"117\" x=\"20\" y=\"20.9951\">ParameterTest</text></a><!--MD5=[b4997ac47864f28c2f74865a473b2911]\n",
       "class E2--><a href=\"psysml:2f5789b5-3949-40b4-8579-f7414350119a\" target=\"_top\" title=\"psysml:2f5789b5-3949-40b4-8579-f7414350119a\" xlink:actuate=\"onRequest\" xlink:href=\"psysml:2f5789b5-3949-40b4-8579-f7414350119a\" xlink:show=\"new\" xlink:title=\"psysml:2f5789b5-3949-40b4-8579-f7414350119a\" xlink:type=\"simple\"><rect fill=\"#FFFFFF\" height=\"88.3516\" id=\"E2\" style=\"stroke: #383838; stroke-width: 1.5;\" width=\"95\" x=\"498.5\" y=\"164\"/><text fill=\"#000000\" font-family=\"sans-serif\" font-size=\"12\" font-style=\"italic\" lengthAdjust=\"spacingAndGlyphs\" textLength=\"93\" x=\"499.5\" y=\"180.1387\">«attribute def»</text><text fill=\"#000000\" font-family=\"sans-serif\" font-size=\"12\" lengthAdjust=\"spacingAndGlyphs\" textLength=\"8\" x=\"542\" y=\"194.1074\">A</text><line style=\"stroke: #383838; stroke-width: 1.5;\" x1=\"499.5\" x2=\"592.5\" y1=\"201.9375\" y2=\"201.9375\"/><text fill=\"#000000\" font-family=\"sans-serif\" font-size=\"11\" lengthAdjust=\"spacingAndGlyphs\" textLength=\"48\" x=\"504.5\" y=\"232.9526\">x: String</text><text fill=\"#000000\" font-family=\"sans-serif\" font-size=\"11\" lengthAdjust=\"spacingAndGlyphs\" textLength=\"21\" x=\"504.5\" y=\"245.7573\">y: A</text><line style=\"stroke: #383838; stroke-width: 1.0;\" x1=\"499.5\" x2=\"518.5\" y1=\"216.3398\" y2=\"216.3398\"/><text fill=\"#000000\" font-family=\"sans-serif\" font-size=\"11\" lengthAdjust=\"spacingAndGlyphs\" textLength=\"55\" x=\"518.5\" y=\"219.6479\">attributes</text><line style=\"stroke: #383838; stroke-width: 1.0;\" x1=\"573.5\" x2=\"592.5\" y1=\"216.3398\" y2=\"216.3398\"/></a><!--MD5=[09b614a08d8cba4a07c9adeb5e0fee81]\n",
       "class E3--><a href=\"psysml:02928bc4-0eb7-4367-aa3f-5ffb35356b49\" target=\"_top\" title=\"psysml:02928bc4-0eb7-4367-aa3f-5ffb35356b49\" xlink:actuate=\"onRequest\" xlink:href=\"psysml:02928bc4-0eb7-4367-aa3f-5ffb35356b49\" xlink:show=\"new\" xlink:title=\"psysml:02928bc4-0eb7-4367-aa3f-5ffb35356b49\" xlink:type=\"simple\"><rect fill=\"#FFFFFF\" height=\"45.9375\" id=\"E3\" rx=\"10\" ry=\"10\" style=\"stroke: #383838; stroke-width: 1.5;\" width=\"71\" x=\"600.5\" y=\"41\"/><text fill=\"#000000\" font-family=\"sans-serif\" font-size=\"12\" font-style=\"italic\" lengthAdjust=\"spacingAndGlyphs\" textLength=\"69\" x=\"601.5\" y=\"57.1387\">«attribute»</text><text fill=\"#000000\" font-family=\"sans-serif\" font-size=\"12\" lengthAdjust=\"spacingAndGlyphs\" textLength=\"24\" x=\"624\" y=\"71.1074\">a: A</text><line style=\"stroke: #383838; stroke-width: 1.5;\" x1=\"601.5\" x2=\"670.5\" y1=\"78.9375\" y2=\"78.9375\"/></a><!--MD5=[ebbe1d658d1005bcc118a6aa81145e00]\n",
       "class E4--><a href=\"psysml:de3210e5-068c-44a8-9828-b5930a13c3bb\" target=\"_top\" title=\"psysml:de3210e5-068c-44a8-9828-b5930a13c3bb\" xlink:actuate=\"onRequest\" xlink:href=\"psysml:de3210e5-068c-44a8-9828-b5930a13c3bb\" xlink:show=\"new\" xlink:title=\"psysml:de3210e5-068c-44a8-9828-b5930a13c3bb\" xlink:type=\"simple\"><rect fill=\"#FFFFFF\" height=\"45.9375\" id=\"E4\" style=\"stroke: #383838; stroke-width: 1.5;\" width=\"108\" x=\"457\" y=\"41\"/><text fill=\"#000000\" font-family=\"sans-serif\" font-size=\"12\" font-style=\"italic\" lengthAdjust=\"spacingAndGlyphs\" textLength=\"106\" x=\"458\" y=\"57.1387\">«calculation def»</text><text fill=\"#000000\" font-family=\"sans-serif\" font-size=\"12\" lengthAdjust=\"spacingAndGlyphs\" textLength=\"7\" x=\"507.5\" y=\"71.1074\">F</text><line style=\"stroke: #383838; stroke-width: 1.5;\" x1=\"458\" x2=\"564\" y1=\"78.9375\" y2=\"78.9375\"/></a><!--MD5=[270fce915f116d4de14055a7c1d9a0f3]\n",
       "class E5--><a href=\"psysml:8c3ddf1b-2d8e-48f9-8bd9-e07e4f9dde48\" target=\"_top\" title=\"psysml:8c3ddf1b-2d8e-48f9-8bd9-e07e4f9dde48\" xlink:actuate=\"onRequest\" xlink:href=\"psysml:8c3ddf1b-2d8e-48f9-8bd9-e07e4f9dde48\" xlink:show=\"new\" xlink:title=\"psysml:8c3ddf1b-2d8e-48f9-8bd9-e07e4f9dde48\" xlink:type=\"simple\"><rect fill=\"#FFFFFF\" height=\"45.9375\" id=\"E5\" rx=\"10\" ry=\"10\" style=\"stroke: #383838; stroke-width: 1.5;\" width=\"71\" x=\"350.5\" y=\"41\"/><text fill=\"#000000\" font-family=\"sans-serif\" font-size=\"12\" font-style=\"italic\" lengthAdjust=\"spacingAndGlyphs\" textLength=\"69\" x=\"351.5\" y=\"57.1387\">«attribute»</text><text fill=\"#000000\" font-family=\"sans-serif\" font-size=\"12\" lengthAdjust=\"spacingAndGlyphs\" textLength=\"4\" x=\"384\" y=\"71.1074\">f</text><line style=\"stroke: #383838; stroke-width: 1.5;\" x1=\"351.5\" x2=\"420.5\" y1=\"78.9375\" y2=\"78.9375\"/></a><!--MD5=[60a26617385b1d2d0262a64233df1f8d]\n",
       "class E6--><a href=\"psysml:1f38f371-1f52-4b01-a20c-3f08ced1218d\" target=\"_top\" title=\"psysml:1f38f371-1f52-4b01-a20c-3f08ced1218d\" xlink:actuate=\"onRequest\" xlink:href=\"psysml:1f38f371-1f52-4b01-a20c-3f08ced1218d\" xlink:show=\"new\" xlink:title=\"psysml:1f38f371-1f52-4b01-a20c-3f08ced1218d\" xlink:type=\"simple\"><rect fill=\"#FFFFFF\" height=\"45.9375\" id=\"E6\" rx=\"10\" ry=\"10\" style=\"stroke: #383838; stroke-width: 1.5;\" width=\"71\" x=\"244.5\" y=\"41\"/><text fill=\"#000000\" font-family=\"sans-serif\" font-size=\"12\" font-style=\"italic\" lengthAdjust=\"spacingAndGlyphs\" textLength=\"69\" x=\"245.5\" y=\"57.1387\">«attribute»</text><text fill=\"#000000\" font-family=\"sans-serif\" font-size=\"12\" lengthAdjust=\"spacingAndGlyphs\" textLength=\"8\" x=\"276\" y=\"71.1074\">g</text><line style=\"stroke: #383838; stroke-width: 1.5;\" x1=\"245.5\" x2=\"314.5\" y1=\"78.9375\" y2=\"78.9375\"/></a><!--MD5=[2156ba9850f5573cc1fc38a6a4b2f02b]\n",
       "class E7--><a href=\"psysml:cd4f641f-a9ce-41b8-9b9f-d9b0f89951b2\" target=\"_top\" title=\"psysml:cd4f641f-a9ce-41b8-9b9f-d9b0f89951b2\" xlink:actuate=\"onRequest\" xlink:href=\"psysml:cd4f641f-a9ce-41b8-9b9f-d9b0f89951b2\" xlink:show=\"new\" xlink:title=\"psysml:cd4f641f-a9ce-41b8-9b9f-d9b0f89951b2\" xlink:type=\"simple\"><rect fill=\"#FFFFFF\" height=\"45.9375\" id=\"E7\" rx=\"10\" ry=\"10\" style=\"stroke: #383838; stroke-width: 1.5;\" width=\"71\" x=\"138.5\" y=\"41\"/><text fill=\"#000000\" font-family=\"sans-serif\" font-size=\"12\" font-style=\"italic\" lengthAdjust=\"spacingAndGlyphs\" textLength=\"69\" x=\"139.5\" y=\"57.1387\">«attribute»</text><text fill=\"#000000\" font-family=\"sans-serif\" font-size=\"12\" lengthAdjust=\"spacingAndGlyphs\" textLength=\"8\" x=\"170\" y=\"71.1074\">b</text><line style=\"stroke: #383838; stroke-width: 1.5;\" x1=\"139.5\" x2=\"208.5\" y1=\"78.9375\" y2=\"78.9375\"/></a><!--MD5=[b9389687b975829384b498ac4b7476b2]\n",
       "class E8--><a href=\"psysml:5033f0bf-ffeb-4313-b85b-4258ec8a052c\" target=\"_top\" title=\"psysml:5033f0bf-ffeb-4313-b85b-4258ec8a052c\" xlink:actuate=\"onRequest\" xlink:href=\"psysml:5033f0bf-ffeb-4313-b85b-4258ec8a052c\" xlink:show=\"new\" xlink:title=\"psysml:5033f0bf-ffeb-4313-b85b-4258ec8a052c\" xlink:type=\"simple\"><rect fill=\"#FFFFFF\" height=\"45.9375\" id=\"E8\" rx=\"10\" ry=\"10\" style=\"stroke: #383838; stroke-width: 1.5;\" width=\"71\" x=\"32.5\" y=\"41\"/><text fill=\"#000000\" font-family=\"sans-serif\" font-size=\"12\" font-style=\"italic\" lengthAdjust=\"spacingAndGlyphs\" textLength=\"69\" x=\"33.5\" y=\"57.1387\">«attribute»</text><text fill=\"#000000\" font-family=\"sans-serif\" font-size=\"12\" lengthAdjust=\"spacingAndGlyphs\" textLength=\"7\" x=\"64.5\" y=\"71.1074\">c</text><line style=\"stroke: #383838; stroke-width: 1.5;\" x1=\"33.5\" x2=\"102.5\" y1=\"78.9375\" y2=\"78.9375\"/></a><!--MD5=[05d275557350bfb9b23a4ef7222b4c39]\n",
       "link E3 to E2--><a href=\"psysml:94762400-f967-4f4d-9ae0-7f515d54317a\" target=\"_top\" title=\"psysml:94762400-f967-4f4d-9ae0-7f515d54317a\" xlink:actuate=\"onRequest\" xlink:href=\"psysml:94762400-f967-4f4d-9ae0-7f515d54317a\" xlink:show=\"new\" xlink:title=\"psysml:94762400-f967-4f4d-9ae0-7f515d54317a\" xlink:type=\"simple\"><path d=\"M600.38,64 C588.98,64 579.25,64 579.25,64 C579.25,64 579.25,143.62 579.25,143.62 \" fill=\"none\" id=\"E3-&gt;E2\" style=\"stroke: #383838; stroke-width: 1.0;\"/><polygon fill=\"#FFFFFF\" points=\"579.25,163.62,572.25,144.62,586.25,144.62,579.25,163.62\" style=\"stroke: #383838; stroke-width: 1.0;\"/><ellipse cx=\"574.25\" cy=\"138.92\" fill=\"#383838\" rx=\"2\" ry=\"2\" style=\"stroke: #383838; stroke-width: 1.0;\"/><ellipse cx=\"584.25\" cy=\"138.92\" fill=\"#383838\" rx=\"2\" ry=\"2\" style=\"stroke: #383838; stroke-width: 1.0;\"/></a><!--MD5=[ddeed8deb2209213b62e6cfabaa108b2]\n",
       "reverse link E4 to E2--><a href=\"psysml:6f03e5ff-f747-4209-970e-6a43677acfe5\" target=\"_top\" title=\"psysml:6f03e5ff-f747-4209-970e-6a43677acfe5\" xlink:actuate=\"onRequest\" xlink:href=\"psysml:6f03e5ff-f747-4209-970e-6a43677acfe5\" xlink:show=\"new\" xlink:title=\"psysml:6f03e5ff-f747-4209-970e-6a43677acfe5\" xlink:type=\"simple\"><path d=\"M531.75,100.14 C531.75,100.14 531.75,163.71 531.75,163.71 \" fill=\"none\" id=\"E4&lt;-E2\" style=\"stroke: #383838; stroke-width: 1.0;\"/><polygon fill=\"#FFFFFF\" points=\"531.75,87.14,527.75,93.14,531.75,99.14,535.75,93.14,531.75,87.14\" style=\"stroke: #383838; stroke-width: 1.0;\"/><text fill=\"#000000\" font-family=\"sans-serif\" font-size=\"13\" lengthAdjust=\"spacingAndGlyphs\" textLength=\"8\" x=\"539\" y=\"130.0669\">p</text></a><!--MD5=[8b9ba21647638b4626d889ebbc7a8e70]\n",
       "@startuml\r\n",
       "skinparam linetype ortho\r\n",
       "skinparam monochrome true\r\n",
       "skinparam classbackgroundcolor white\r\n",
       "skinparam shadowing false\r\n",
       "skinparam wrapWidth 300\r\n",
       "hide circle\r\n",
       "\r\n",
       "package \"ParameterTest\" as E1  [[psysml:88bd93f8-a024-442a-9349-d26cb2f873a0 ]]  {\r\n",
       "comp def \"A\" as E2  <<(T,blue)attribute def>> [[psysml:2f5789b5-3949-40b4-8579-f7414350119a ]] {\r\n",
       "- - attributes - -\r\n",
       "x: String\r\n",
       "y: A\r\n",
       "}\r\n",
       "comp usage \"a: A\" as E3  <<(T,blue)attribute>> [[psysml:02928bc4-0eb7-4367-aa3f-5ffb35356b49 ]] {\r\n",
       "}\r\n",
       "comp def \"F\" as E4  <<(T,blue)calculation def>> [[psysml:de3210e5-068c-44a8-9828-b5930a13c3bb ]] {\r\n",
       "}\r\n",
       "comp usage \"f\" as E5  <<(T,blue)attribute>> [[psysml:8c3ddf1b-2d8e-48f9-8bd9-e07e4f9dde48 ]] {\r\n",
       "}\r\n",
       "comp usage \"g\" as E6  <<(T,blue)attribute>> [[psysml:1f38f371-1f52-4b01-a20c-3f08ced1218d ]] {\r\n",
       "}\r\n",
       "comp usage \"b\" as E7  <<(T,blue)attribute>> [[psysml:cd4f641f-a9ce-41b8-9b9f-d9b0f89951b2 ]] {\r\n",
       "}\r\n",
       "comp usage \"c\" as E8  <<(T,blue)attribute>> [[psysml:5033f0bf-ffeb-4313-b85b-4258ec8a052c ]] {\r\n",
       "}\r\n",
       "E3 - -:|> E2 [[psysml:94762400-f967-4f4d-9ae0-7f515d54317a ]] \r\n",
       "E4 o- - E2 [[psysml:6f03e5ff-f747-4209-970e-6a43677acfe5 ]] : p\r\n",
       "}\r\n",
       "@enduml\r\n",
       "\n",
       "PlantUML version 1.2020.13(Sat Jun 13 12:26:38 UTC 2020)\n",
       "(EPL source distribution)\n",
       "Java Runtime: OpenJDK Runtime Environment\n",
       "JVM: OpenJDK 64-Bit Server VM\n",
       "Default Encoding: UTF-8\n",
       "Language: en\n",
       "Country: null\n",
       "--></g></svg>"
      ]
     },
     "execution_count": 52,
     "metadata": {},
     "output_type": "execute_result"
    }
   ],
   "source": [
    "%viz --style=\"ORTHOLINE\" --view=\"Tree\" \"ParameterTest\""
   ]
  },
  {
   "cell_type": "code",
   "execution_count": 53,
   "id": "decimal-toner",
   "metadata": {
    "execution": {
     "iopub.execute_input": "2021-03-26T13:01:43.991166Z",
     "iopub.status.busy": "2021-03-26T13:01:43.989767Z",
     "iopub.status.idle": "2021-03-26T13:01:43.997947Z",
     "shell.execute_reply": "2021-03-26T13:01:43.997050Z"
    }
   },
   "outputs": [
    {
     "data": {
      "image/svg+xml": [
       "<?xml version=\"1.0\" encoding=\"UTF-8\" standalone=\"no\"?><svg xmlns=\"http://www.w3.org/2000/svg\" xmlns:xlink=\"http://www.w3.org/1999/xlink\" contentScriptType=\"application/ecmascript\" contentStyleType=\"text/css\" height=\"12px\" preserveAspectRatio=\"none\" style=\"width:12px;height:12px;\" version=\"1.1\" viewBox=\"0 0 12 12\" width=\"12px\" zoomAndPan=\"magnify\"><defs/><g><!--MD5=[97d6f38768b311333d388e66b2b27985]\n",
       "@startuml\r\n",
       "skinparam linetype ortho\r\n",
       "skinparam monochrome true\r\n",
       "skinparam classbackgroundcolor white\r\n",
       "skinparam shadowing false\r\n",
       "skinparam wrapWidth 300\r\n",
       "hide circle\r\n",
       "\r\n",
       "@enduml\r\n",
       "\n",
       "PlantUML version 1.2020.13(Sat Jun 13 12:26:38 UTC 2020)\n",
       "(EPL source distribution)\n",
       "Java Runtime: OpenJDK Runtime Environment\n",
       "JVM: OpenJDK 64-Bit Server VM\n",
       "Default Encoding: UTF-8\n",
       "Language: en\n",
       "Country: null\n",
       "--></g></svg>"
      ]
     },
     "execution_count": 53,
     "metadata": {},
     "output_type": "execute_result"
    }
   ],
   "source": [
    "%viz --style=\"ORTHOLINE\" --view=\"State\" \"ParameterTest\""
   ]
  },
  {
   "cell_type": "code",
   "execution_count": 54,
   "id": "residential-typing",
   "metadata": {
    "execution": {
     "iopub.execute_input": "2021-03-26T13:01:44.050775Z",
     "iopub.status.busy": "2021-03-26T13:01:44.050058Z",
     "iopub.status.idle": "2021-03-26T13:01:44.079333Z",
     "shell.execute_reply": "2021-03-26T13:01:44.077996Z"
    }
   },
   "outputs": [
    {
     "data": {
      "image/svg+xml": [
       "<?xml version=\"1.0\" encoding=\"UTF-8\" standalone=\"no\"?><svg xmlns=\"http://www.w3.org/2000/svg\" xmlns:xlink=\"http://www.w3.org/1999/xlink\" contentScriptType=\"application/ecmascript\" contentStyleType=\"text/css\" height=\"112px\" preserveAspectRatio=\"none\" style=\"width:874px;height:112px;\" version=\"1.1\" viewBox=\"0 0 874 112\" width=\"874px\" zoomAndPan=\"magnify\"><defs/><g><!--MD5=[fbc87193dbaf4d95561dea2c320d4a47]\n",
       "cluster E1--><a href=\"psysml:88bd93f8-a024-442a-9349-d26cb2f873a0\" target=\"_top\" title=\"psysml:88bd93f8-a024-442a-9349-d26cb2f873a0\" xlink:actuate=\"onRequest\" xlink:href=\"psysml:88bd93f8-a024-442a-9349-d26cb2f873a0\" xlink:show=\"new\" xlink:title=\"psysml:88bd93f8-a024-442a-9349-d26cb2f873a0\" xlink:type=\"simple\"><polygon fill=\"#FFFFFF\" points=\"16,6,139,6,146,28.2969,852,28.2969,852,100,16,100,16,6\" style=\"stroke: #000000; stroke-width: 1.5;\"/><line style=\"stroke: #000000; stroke-width: 1.5;\" x1=\"16\" x2=\"146\" y1=\"28.2969\" y2=\"28.2969\"/><text fill=\"#000000\" font-family=\"sans-serif\" font-size=\"14\" font-weight=\"bold\" lengthAdjust=\"spacingAndGlyphs\" textLength=\"117\" x=\"20\" y=\"20.9951\">ParameterTest</text></a><g id=\"E1.E2\"><a href=\"psysml:2f5789b5-3949-40b4-8579-f7414350119a\" target=\"_top\" title=\"psysml:2f5789b5-3949-40b4-8579-f7414350119a\" xlink:actuate=\"onRequest\" xlink:href=\"psysml:2f5789b5-3949-40b4-8579-f7414350119a\" xlink:show=\"new\" xlink:title=\"psysml:2f5789b5-3949-40b4-8579-f7414350119a\" xlink:type=\"simple\"><rect fill=\"#FFFFFF\" height=\"42.9375\" id=\"E2\" style=\"stroke: #383838; stroke-width: 1.5;\" width=\"100\" x=\"736\" y=\"41\"/><rect fill=\"#F8F8F8\" height=\"37.9375\" style=\"stroke: #383838; stroke-width: 1.5;\" width=\"100\" x=\"736\" y=\"41\"/><text fill=\"#000000\" font-family=\"sans-serif\" font-size=\"12\" font-style=\"italic\" lengthAdjust=\"spacingAndGlyphs\" textLength=\"93\" x=\"739.5\" y=\"57.1387\">«attribute def»</text><text fill=\"#000000\" font-family=\"sans-serif\" font-size=\"12\" lengthAdjust=\"spacingAndGlyphs\" textLength=\"8\" x=\"782\" y=\"71.1074\">A</text></a></g><g id=\"E1.E4\"><a href=\"psysml:de3210e5-068c-44a8-9828-b5930a13c3bb\" target=\"_top\" title=\"psysml:de3210e5-068c-44a8-9828-b5930a13c3bb\" xlink:actuate=\"onRequest\" xlink:href=\"psysml:de3210e5-068c-44a8-9828-b5930a13c3bb\" xlink:show=\"new\" xlink:title=\"psysml:de3210e5-068c-44a8-9828-b5930a13c3bb\" xlink:type=\"simple\"><rect fill=\"#FFFFFF\" height=\"42.9375\" id=\"E4\" style=\"stroke: #383838; stroke-width: 1.5;\" width=\"113\" x=\"587.5\" y=\"41\"/><rect fill=\"#F8F8F8\" height=\"37.9375\" style=\"stroke: #383838; stroke-width: 1.5;\" width=\"113\" x=\"587.5\" y=\"41\"/><text fill=\"#000000\" font-family=\"sans-serif\" font-size=\"12\" font-style=\"italic\" lengthAdjust=\"spacingAndGlyphs\" textLength=\"106\" x=\"591\" y=\"57.1387\">«calculation def»</text><text fill=\"#000000\" font-family=\"sans-serif\" font-size=\"12\" lengthAdjust=\"spacingAndGlyphs\" textLength=\"7\" x=\"640.5\" y=\"71.1074\">F</text></a></g><g id=\"E1.E3\"><a href=\"psysml:02928bc4-0eb7-4367-aa3f-5ffb35356b49\" target=\"_top\" title=\"psysml:02928bc4-0eb7-4367-aa3f-5ffb35356b49\" xlink:actuate=\"onRequest\" xlink:href=\"psysml:02928bc4-0eb7-4367-aa3f-5ffb35356b49\" xlink:show=\"new\" xlink:title=\"psysml:02928bc4-0eb7-4367-aa3f-5ffb35356b49\" xlink:type=\"simple\"><rect fill=\"#FFFFFF\" height=\"42.9375\" id=\"E3\" rx=\"10\" ry=\"10\" style=\"stroke: #383838; stroke-width: 1.5;\" width=\"76\" x=\"476\" y=\"41\"/><rect fill=\"#F8F8F8\" height=\"37.9375\" rx=\"10\" ry=\"10\" style=\"stroke: #F8F8F8; stroke-width: 1.5;\" width=\"76\" x=\"476\" y=\"41\"/><rect fill=\"#F8F8F8\" height=\"10\" style=\"stroke: #F8F8F8; stroke-width: 1.5;\" width=\"76\" x=\"476\" y=\"68.9375\"/><rect fill=\"none\" height=\"42.9375\" id=\"E3\" rx=\"10\" ry=\"10\" style=\"stroke: #383838; stroke-width: 1.5;\" width=\"76\" x=\"476\" y=\"41\"/><text fill=\"#000000\" font-family=\"sans-serif\" font-size=\"12\" font-style=\"italic\" lengthAdjust=\"spacingAndGlyphs\" textLength=\"69\" x=\"479.5\" y=\"57.1387\">«attribute»</text><text fill=\"#000000\" font-family=\"sans-serif\" font-size=\"12\" lengthAdjust=\"spacingAndGlyphs\" textLength=\"24\" x=\"502\" y=\"71.1074\">a: A</text></a></g><g id=\"E1.E5\"><a href=\"psysml:8c3ddf1b-2d8e-48f9-8bd9-e07e4f9dde48\" target=\"_top\" title=\"psysml:8c3ddf1b-2d8e-48f9-8bd9-e07e4f9dde48\" xlink:actuate=\"onRequest\" xlink:href=\"psysml:8c3ddf1b-2d8e-48f9-8bd9-e07e4f9dde48\" xlink:show=\"new\" xlink:title=\"psysml:8c3ddf1b-2d8e-48f9-8bd9-e07e4f9dde48\" xlink:type=\"simple\"><rect fill=\"#FFFFFF\" height=\"42.9375\" id=\"E5\" rx=\"10\" ry=\"10\" style=\"stroke: #383838; stroke-width: 1.5;\" width=\"76\" x=\"365\" y=\"41\"/><rect fill=\"#F8F8F8\" height=\"37.9375\" rx=\"10\" ry=\"10\" style=\"stroke: #F8F8F8; stroke-width: 1.5;\" width=\"76\" x=\"365\" y=\"41\"/><rect fill=\"#F8F8F8\" height=\"10\" style=\"stroke: #F8F8F8; stroke-width: 1.5;\" width=\"76\" x=\"365\" y=\"68.9375\"/><rect fill=\"none\" height=\"42.9375\" id=\"E5\" rx=\"10\" ry=\"10\" style=\"stroke: #383838; stroke-width: 1.5;\" width=\"76\" x=\"365\" y=\"41\"/><text fill=\"#000000\" font-family=\"sans-serif\" font-size=\"12\" font-style=\"italic\" lengthAdjust=\"spacingAndGlyphs\" textLength=\"69\" x=\"368.5\" y=\"57.1387\">«attribute»</text><text fill=\"#000000\" font-family=\"sans-serif\" font-size=\"12\" lengthAdjust=\"spacingAndGlyphs\" textLength=\"4\" x=\"401\" y=\"71.1074\">f</text></a></g><g id=\"E1.E6\"><a href=\"psysml:1f38f371-1f52-4b01-a20c-3f08ced1218d\" target=\"_top\" title=\"psysml:1f38f371-1f52-4b01-a20c-3f08ced1218d\" xlink:actuate=\"onRequest\" xlink:href=\"psysml:1f38f371-1f52-4b01-a20c-3f08ced1218d\" xlink:show=\"new\" xlink:title=\"psysml:1f38f371-1f52-4b01-a20c-3f08ced1218d\" xlink:type=\"simple\"><rect fill=\"#FFFFFF\" height=\"42.9375\" id=\"E6\" rx=\"10\" ry=\"10\" style=\"stroke: #383838; stroke-width: 1.5;\" width=\"76\" x=\"254\" y=\"41\"/><rect fill=\"#F8F8F8\" height=\"37.9375\" rx=\"10\" ry=\"10\" style=\"stroke: #F8F8F8; stroke-width: 1.5;\" width=\"76\" x=\"254\" y=\"41\"/><rect fill=\"#F8F8F8\" height=\"10\" style=\"stroke: #F8F8F8; stroke-width: 1.5;\" width=\"76\" x=\"254\" y=\"68.9375\"/><rect fill=\"none\" height=\"42.9375\" id=\"E6\" rx=\"10\" ry=\"10\" style=\"stroke: #383838; stroke-width: 1.5;\" width=\"76\" x=\"254\" y=\"41\"/><text fill=\"#000000\" font-family=\"sans-serif\" font-size=\"12\" font-style=\"italic\" lengthAdjust=\"spacingAndGlyphs\" textLength=\"69\" x=\"257.5\" y=\"57.1387\">«attribute»</text><text fill=\"#000000\" font-family=\"sans-serif\" font-size=\"12\" lengthAdjust=\"spacingAndGlyphs\" textLength=\"8\" x=\"288\" y=\"71.1074\">g</text></a></g><g id=\"E1.E7\"><a href=\"psysml:cd4f641f-a9ce-41b8-9b9f-d9b0f89951b2\" target=\"_top\" title=\"psysml:cd4f641f-a9ce-41b8-9b9f-d9b0f89951b2\" xlink:actuate=\"onRequest\" xlink:href=\"psysml:cd4f641f-a9ce-41b8-9b9f-d9b0f89951b2\" xlink:show=\"new\" xlink:title=\"psysml:cd4f641f-a9ce-41b8-9b9f-d9b0f89951b2\" xlink:type=\"simple\"><rect fill=\"#FFFFFF\" height=\"42.9375\" id=\"E7\" rx=\"10\" ry=\"10\" style=\"stroke: #383838; stroke-width: 1.5;\" width=\"76\" x=\"143\" y=\"41\"/><rect fill=\"#F8F8F8\" height=\"37.9375\" rx=\"10\" ry=\"10\" style=\"stroke: #F8F8F8; stroke-width: 1.5;\" width=\"76\" x=\"143\" y=\"41\"/><rect fill=\"#F8F8F8\" height=\"10\" style=\"stroke: #F8F8F8; stroke-width: 1.5;\" width=\"76\" x=\"143\" y=\"68.9375\"/><rect fill=\"none\" height=\"42.9375\" id=\"E7\" rx=\"10\" ry=\"10\" style=\"stroke: #383838; stroke-width: 1.5;\" width=\"76\" x=\"143\" y=\"41\"/><text fill=\"#000000\" font-family=\"sans-serif\" font-size=\"12\" font-style=\"italic\" lengthAdjust=\"spacingAndGlyphs\" textLength=\"69\" x=\"146.5\" y=\"57.1387\">«attribute»</text><text fill=\"#000000\" font-family=\"sans-serif\" font-size=\"12\" lengthAdjust=\"spacingAndGlyphs\" textLength=\"8\" x=\"177\" y=\"71.1074\">b</text></a></g><g id=\"E1.E8\"><a href=\"psysml:5033f0bf-ffeb-4313-b85b-4258ec8a052c\" target=\"_top\" title=\"psysml:5033f0bf-ffeb-4313-b85b-4258ec8a052c\" xlink:actuate=\"onRequest\" xlink:href=\"psysml:5033f0bf-ffeb-4313-b85b-4258ec8a052c\" xlink:show=\"new\" xlink:title=\"psysml:5033f0bf-ffeb-4313-b85b-4258ec8a052c\" xlink:type=\"simple\"><rect fill=\"#FFFFFF\" height=\"42.9375\" id=\"E8\" rx=\"10\" ry=\"10\" style=\"stroke: #383838; stroke-width: 1.5;\" width=\"76\" x=\"32\" y=\"41\"/><rect fill=\"#F8F8F8\" height=\"37.9375\" rx=\"10\" ry=\"10\" style=\"stroke: #F8F8F8; stroke-width: 1.5;\" width=\"76\" x=\"32\" y=\"41\"/><rect fill=\"#F8F8F8\" height=\"10\" style=\"stroke: #F8F8F8; stroke-width: 1.5;\" width=\"76\" x=\"32\" y=\"68.9375\"/><rect fill=\"none\" height=\"42.9375\" id=\"E8\" rx=\"10\" ry=\"10\" style=\"stroke: #383838; stroke-width: 1.5;\" width=\"76\" x=\"32\" y=\"41\"/><text fill=\"#000000\" font-family=\"sans-serif\" font-size=\"12\" font-style=\"italic\" lengthAdjust=\"spacingAndGlyphs\" textLength=\"69\" x=\"35.5\" y=\"57.1387\">«attribute»</text><text fill=\"#000000\" font-family=\"sans-serif\" font-size=\"12\" lengthAdjust=\"spacingAndGlyphs\" textLength=\"7\" x=\"66.5\" y=\"71.1074\">c</text></a></g><!--MD5=[004905161421957040afdec072c7810f]\n",
       "@startuml\r\n",
       "skinparam ranksep 8\r\n",
       "skinparam rectangle {\r\n",
       " backgroundColor<<block>> LightGreen\r\n",
       "}\r\n",
       "skinparam linetype ortho\r\n",
       "skinparam monochrome true\r\n",
       "skinparam classbackgroundcolor white\r\n",
       "skinparam shadowing false\r\n",
       "skinparam wrapWidth 300\r\n",
       "hide circle\r\n",
       "\r\n",
       "package \"ParameterTest\" as E1  [[psysml:88bd93f8-a024-442a-9349-d26cb2f873a0 ]]  {\r\n",
       "def \"A\" as E2  <<(T,blue)attribute def>> [[psysml:2f5789b5-3949-40b4-8579-f7414350119a ]] \r\n",
       "rec usage \"a: A\" as E3  <<(T,blue)attribute>> [[psysml:02928bc4-0eb7-4367-aa3f-5ffb35356b49 ]] {\r\n",
       "}\r\n",
       "def \"F\" as E4  <<(T,blue)calculation def>> [[psysml:de3210e5-068c-44a8-9828-b5930a13c3bb ]] \r\n",
       "rec usage \"f\" as E5  <<(T,blue)attribute>> [[psysml:8c3ddf1b-2d8e-48f9-8bd9-e07e4f9dde48 ]] {\r\n",
       "}\r\n",
       "rec usage \"g\" as E6  <<(T,blue)attribute>> [[psysml:1f38f371-1f52-4b01-a20c-3f08ced1218d ]] {\r\n",
       "}\r\n",
       "rec usage \"b\" as E7  <<(T,blue)attribute>> [[psysml:cd4f641f-a9ce-41b8-9b9f-d9b0f89951b2 ]] {\r\n",
       "}\r\n",
       "rec usage \"c\" as E8  <<(T,blue)attribute>> [[psysml:5033f0bf-ffeb-4313-b85b-4258ec8a052c ]] {\r\n",
       "}\r\n",
       "}\r\n",
       "@enduml\r\n",
       "\n",
       "PlantUML version 1.2020.13(Sat Jun 13 12:26:38 UTC 2020)\n",
       "(EPL source distribution)\n",
       "Java Runtime: OpenJDK Runtime Environment\n",
       "JVM: OpenJDK 64-Bit Server VM\n",
       "Default Encoding: UTF-8\n",
       "Language: en\n",
       "Country: null\n",
       "--></g></svg>"
      ]
     },
     "execution_count": 54,
     "metadata": {},
     "output_type": "execute_result"
    }
   ],
   "source": [
    "%viz --style=\"ORTHOLINE\" --view=\"Interconnection\" \"ParameterTest\""
   ]
  },
  {
   "cell_type": "code",
   "execution_count": 55,
   "id": "dramatic-installation",
   "metadata": {
    "execution": {
     "iopub.execute_input": "2021-03-26T13:01:44.129331Z",
     "iopub.status.busy": "2021-03-26T13:01:44.128951Z",
     "iopub.status.idle": "2021-03-26T13:01:44.153564Z",
     "shell.execute_reply": "2021-03-26T13:01:44.152793Z"
    }
   },
   "outputs": [
    {
     "data": {
      "image/svg+xml": [
       "<?xml version=\"1.0\" encoding=\"UTF-8\" standalone=\"no\"?><svg xmlns=\"http://www.w3.org/2000/svg\" xmlns:xlink=\"http://www.w3.org/1999/xlink\" contentScriptType=\"application/ecmascript\" contentStyleType=\"text/css\" height=\"126px\" preserveAspectRatio=\"none\" style=\"width:166px;height:126px;\" version=\"1.1\" viewBox=\"0 0 166 126\" width=\"166px\" zoomAndPan=\"magnify\"><defs/><g><!--MD5=[fbc87193dbaf4d95561dea2c320d4a47]\n",
       "cluster E1--><a href=\"psysml:de3210e5-068c-44a8-9828-b5930a13c3bb\" target=\"_top\" title=\"psysml:de3210e5-068c-44a8-9828-b5930a13c3bb\" xlink:actuate=\"onRequest\" xlink:href=\"psysml:de3210e5-068c-44a8-9828-b5930a13c3bb\" xlink:show=\"new\" xlink:title=\"psysml:de3210e5-068c-44a8-9828-b5930a13c3bb\" xlink:type=\"simple\"><rect fill=\"#FFFFFF\" height=\"73\" id=\"E1\" style=\"stroke: #383838; stroke-width: 1.5;\" width=\"148\" x=\"7\" y=\"42.0986\"/><rect fill=\"#F8F8F8\" height=\"37.9375\" style=\"stroke: #383838; stroke-width: 1.5;\" width=\"148\" x=\"7\" y=\"42.0986\"/><text fill=\"#000000\" font-family=\"sans-serif\" font-size=\"12\" font-style=\"italic\" lengthAdjust=\"spacingAndGlyphs\" textLength=\"106\" x=\"28\" y=\"58.2373\">«calculation def»</text><text fill=\"#000000\" font-family=\"sans-serif\" font-size=\"12\" lengthAdjust=\"spacingAndGlyphs\" textLength=\"7\" x=\"77.5\" y=\"72.2061\">F</text></a><text fill=\"#000000\" font-family=\"sans-serif\" font-size=\"14\" lengthAdjust=\"spacingAndGlyphs\" textLength=\"9\" x=\"20.5\" y=\"20.7969\">p</text><rect fill=\"#383838\" height=\"12\" style=\"stroke: #F8F8F8; stroke-width: 1.5;\" width=\"12\" x=\"19\" y=\"36.0986\"/><text fill=\"#000000\" font-family=\"sans-serif\" font-size=\"14\" lengthAdjust=\"spacingAndGlyphs\" textLength=\"9\" x=\"67.5\" y=\"20.7969\">q</text><rect fill=\"#383838\" height=\"12\" style=\"stroke: #F8F8F8; stroke-width: 1.5;\" width=\"12\" x=\"66\" y=\"36.0986\"/><!--MD5=[c835abed1beb18b1ba97250ea8e9c030]\n",
       "@startuml\r\n",
       "skinparam ranksep 8\r\n",
       "skinparam linetype ortho\r\n",
       "skinparam monochrome true\r\n",
       "skinparam classbackgroundcolor white\r\n",
       "skinparam shadowing false\r\n",
       "skinparam wrapWidth 300\r\n",
       "hide circle\r\n",
       "\r\n",
       "rec def \"F\" as E1  <<(T,blue)calculation def>> [[psysml:de3210e5-068c-44a8-9828-b5930a13c3bb ]] {\r\n",
       "portin \"p\" as E2  [[psysml:6f03e5ff-f747-4209-970e-6a43677acfe5 ]] \r\n",
       "portin \"q\" as E3  [[psysml:59b46d55-27e2-4503-b58c-744d75cefff1 ]] \r\n",
       "}\r\n",
       "\r\n",
       "@enduml\r\n",
       "\n",
       "PlantUML version 1.2020.13(Sat Jun 13 12:26:38 UTC 2020)\n",
       "(EPL source distribution)\n",
       "Java Runtime: OpenJDK Runtime Environment\n",
       "JVM: OpenJDK 64-Bit Server VM\n",
       "Default Encoding: UTF-8\n",
       "Language: en\n",
       "Country: null\n",
       "--></g></svg>"
      ]
     },
     "execution_count": 55,
     "metadata": {},
     "output_type": "execute_result"
    }
   ],
   "source": [
    "%viz --style=\"ORTHOLINE\" --view=\"Action\" \"ParameterTest\""
   ]
  },
  {
   "cell_type": "code",
   "execution_count": 56,
   "id": "demonstrated-governor",
   "metadata": {
    "execution": {
     "iopub.execute_input": "2021-03-26T13:01:44.205710Z",
     "iopub.status.busy": "2021-03-26T13:01:44.205234Z",
     "iopub.status.idle": "2021-03-26T13:01:44.256702Z",
     "shell.execute_reply": "2021-03-26T13:01:44.248749Z"
    }
   },
   "outputs": [
    {
     "data": {
      "image/svg+xml": [
       "<?xml version=\"1.0\" encoding=\"UTF-8\" standalone=\"no\"?><svg xmlns=\"http://www.w3.org/2000/svg\" xmlns:xlink=\"http://www.w3.org/1999/xlink\" contentScriptType=\"application/ecmascript\" contentStyleType=\"text/css\" height=\"280px\" preserveAspectRatio=\"none\" style=\"width:710px;height:280px;\" version=\"1.1\" viewBox=\"0 0 710 280\" width=\"710px\" zoomAndPan=\"magnify\"><defs/><g><!--MD5=[fbc87193dbaf4d95561dea2c320d4a47]\n",
       "cluster E1--><a href=\"psysml:88bd93f8-a024-442a-9349-d26cb2f873a0\" target=\"_top\" title=\"psysml:88bd93f8-a024-442a-9349-d26cb2f873a0\" xlink:actuate=\"onRequest\" xlink:href=\"psysml:88bd93f8-a024-442a-9349-d26cb2f873a0\" xlink:show=\"new\" xlink:title=\"psysml:88bd93f8-a024-442a-9349-d26cb2f873a0\" xlink:type=\"simple\"><polygon fill=\"#FFFFFF\" points=\"16,6,139,6,146,28.2969,688,28.2969,688,268,16,268,16,6\" style=\"stroke: #000000; stroke-width: 1.5;\"/><line style=\"stroke: #000000; stroke-width: 1.5;\" x1=\"16\" x2=\"146\" y1=\"28.2969\" y2=\"28.2969\"/><text fill=\"#000000\" font-family=\"sans-serif\" font-size=\"14\" font-weight=\"bold\" lengthAdjust=\"spacingAndGlyphs\" textLength=\"117\" x=\"20\" y=\"20.9951\">ParameterTest</text></a><!--MD5=[b4997ac47864f28c2f74865a473b2911]\n",
       "class E2--><a href=\"psysml:2f5789b5-3949-40b4-8579-f7414350119a\" target=\"_top\" title=\"psysml:2f5789b5-3949-40b4-8579-f7414350119a\" xlink:actuate=\"onRequest\" xlink:href=\"psysml:2f5789b5-3949-40b4-8579-f7414350119a\" xlink:show=\"new\" xlink:title=\"psysml:2f5789b5-3949-40b4-8579-f7414350119a\" xlink:type=\"simple\"><rect fill=\"#FFFFFF\" height=\"88.3516\" id=\"E2\" style=\"stroke: #383838; stroke-width: 1.5;\" width=\"95\" x=\"498.5\" y=\"164\"/><text fill=\"#000000\" font-family=\"sans-serif\" font-size=\"12\" font-style=\"italic\" lengthAdjust=\"spacingAndGlyphs\" textLength=\"93\" x=\"499.5\" y=\"180.1387\">«attribute def»</text><text fill=\"#000000\" font-family=\"sans-serif\" font-size=\"12\" lengthAdjust=\"spacingAndGlyphs\" textLength=\"8\" x=\"542\" y=\"194.1074\">A</text><line style=\"stroke: #383838; stroke-width: 1.5;\" x1=\"499.5\" x2=\"592.5\" y1=\"201.9375\" y2=\"201.9375\"/><text fill=\"#000000\" font-family=\"sans-serif\" font-size=\"11\" lengthAdjust=\"spacingAndGlyphs\" textLength=\"48\" x=\"504.5\" y=\"232.9526\">x: String</text><text fill=\"#000000\" font-family=\"sans-serif\" font-size=\"11\" lengthAdjust=\"spacingAndGlyphs\" textLength=\"21\" x=\"504.5\" y=\"245.7573\">y: A</text><line style=\"stroke: #383838; stroke-width: 1.0;\" x1=\"499.5\" x2=\"518.5\" y1=\"216.3398\" y2=\"216.3398\"/><text fill=\"#000000\" font-family=\"sans-serif\" font-size=\"11\" lengthAdjust=\"spacingAndGlyphs\" textLength=\"55\" x=\"518.5\" y=\"219.6479\">attributes</text><line style=\"stroke: #383838; stroke-width: 1.0;\" x1=\"573.5\" x2=\"592.5\" y1=\"216.3398\" y2=\"216.3398\"/></a><!--MD5=[09b614a08d8cba4a07c9adeb5e0fee81]\n",
       "class E3--><a href=\"psysml:02928bc4-0eb7-4367-aa3f-5ffb35356b49\" target=\"_top\" title=\"psysml:02928bc4-0eb7-4367-aa3f-5ffb35356b49\" xlink:actuate=\"onRequest\" xlink:href=\"psysml:02928bc4-0eb7-4367-aa3f-5ffb35356b49\" xlink:show=\"new\" xlink:title=\"psysml:02928bc4-0eb7-4367-aa3f-5ffb35356b49\" xlink:type=\"simple\"><rect fill=\"#FFFFFF\" height=\"45.9375\" id=\"E3\" rx=\"10\" ry=\"10\" style=\"stroke: #383838; stroke-width: 1.5;\" width=\"71\" x=\"600.5\" y=\"41\"/><text fill=\"#000000\" font-family=\"sans-serif\" font-size=\"12\" font-style=\"italic\" lengthAdjust=\"spacingAndGlyphs\" textLength=\"69\" x=\"601.5\" y=\"57.1387\">«attribute»</text><text fill=\"#000000\" font-family=\"sans-serif\" font-size=\"12\" lengthAdjust=\"spacingAndGlyphs\" textLength=\"24\" x=\"624\" y=\"71.1074\">a: A</text><line style=\"stroke: #383838; stroke-width: 1.5;\" x1=\"601.5\" x2=\"670.5\" y1=\"78.9375\" y2=\"78.9375\"/></a><!--MD5=[ebbe1d658d1005bcc118a6aa81145e00]\n",
       "class E4--><a href=\"psysml:de3210e5-068c-44a8-9828-b5930a13c3bb\" target=\"_top\" title=\"psysml:de3210e5-068c-44a8-9828-b5930a13c3bb\" xlink:actuate=\"onRequest\" xlink:href=\"psysml:de3210e5-068c-44a8-9828-b5930a13c3bb\" xlink:show=\"new\" xlink:title=\"psysml:de3210e5-068c-44a8-9828-b5930a13c3bb\" xlink:type=\"simple\"><rect fill=\"#FFFFFF\" height=\"45.9375\" id=\"E4\" style=\"stroke: #383838; stroke-width: 1.5;\" width=\"108\" x=\"457\" y=\"41\"/><text fill=\"#000000\" font-family=\"sans-serif\" font-size=\"12\" font-style=\"italic\" lengthAdjust=\"spacingAndGlyphs\" textLength=\"106\" x=\"458\" y=\"57.1387\">«calculation def»</text><text fill=\"#000000\" font-family=\"sans-serif\" font-size=\"12\" lengthAdjust=\"spacingAndGlyphs\" textLength=\"7\" x=\"507.5\" y=\"71.1074\">F</text><line style=\"stroke: #383838; stroke-width: 1.5;\" x1=\"458\" x2=\"564\" y1=\"78.9375\" y2=\"78.9375\"/></a><!--MD5=[270fce915f116d4de14055a7c1d9a0f3]\n",
       "class E5--><a href=\"psysml:8c3ddf1b-2d8e-48f9-8bd9-e07e4f9dde48\" target=\"_top\" title=\"psysml:8c3ddf1b-2d8e-48f9-8bd9-e07e4f9dde48\" xlink:actuate=\"onRequest\" xlink:href=\"psysml:8c3ddf1b-2d8e-48f9-8bd9-e07e4f9dde48\" xlink:show=\"new\" xlink:title=\"psysml:8c3ddf1b-2d8e-48f9-8bd9-e07e4f9dde48\" xlink:type=\"simple\"><rect fill=\"#FFFFFF\" height=\"45.9375\" id=\"E5\" rx=\"10\" ry=\"10\" style=\"stroke: #383838; stroke-width: 1.5;\" width=\"71\" x=\"350.5\" y=\"41\"/><text fill=\"#000000\" font-family=\"sans-serif\" font-size=\"12\" font-style=\"italic\" lengthAdjust=\"spacingAndGlyphs\" textLength=\"69\" x=\"351.5\" y=\"57.1387\">«attribute»</text><text fill=\"#000000\" font-family=\"sans-serif\" font-size=\"12\" lengthAdjust=\"spacingAndGlyphs\" textLength=\"4\" x=\"384\" y=\"71.1074\">f</text><line style=\"stroke: #383838; stroke-width: 1.5;\" x1=\"351.5\" x2=\"420.5\" y1=\"78.9375\" y2=\"78.9375\"/></a><!--MD5=[60a26617385b1d2d0262a64233df1f8d]\n",
       "class E6--><a href=\"psysml:1f38f371-1f52-4b01-a20c-3f08ced1218d\" target=\"_top\" title=\"psysml:1f38f371-1f52-4b01-a20c-3f08ced1218d\" xlink:actuate=\"onRequest\" xlink:href=\"psysml:1f38f371-1f52-4b01-a20c-3f08ced1218d\" xlink:show=\"new\" xlink:title=\"psysml:1f38f371-1f52-4b01-a20c-3f08ced1218d\" xlink:type=\"simple\"><rect fill=\"#FFFFFF\" height=\"45.9375\" id=\"E6\" rx=\"10\" ry=\"10\" style=\"stroke: #383838; stroke-width: 1.5;\" width=\"71\" x=\"244.5\" y=\"41\"/><text fill=\"#000000\" font-family=\"sans-serif\" font-size=\"12\" font-style=\"italic\" lengthAdjust=\"spacingAndGlyphs\" textLength=\"69\" x=\"245.5\" y=\"57.1387\">«attribute»</text><text fill=\"#000000\" font-family=\"sans-serif\" font-size=\"12\" lengthAdjust=\"spacingAndGlyphs\" textLength=\"8\" x=\"276\" y=\"71.1074\">g</text><line style=\"stroke: #383838; stroke-width: 1.5;\" x1=\"245.5\" x2=\"314.5\" y1=\"78.9375\" y2=\"78.9375\"/></a><!--MD5=[2156ba9850f5573cc1fc38a6a4b2f02b]\n",
       "class E7--><a href=\"psysml:cd4f641f-a9ce-41b8-9b9f-d9b0f89951b2\" target=\"_top\" title=\"psysml:cd4f641f-a9ce-41b8-9b9f-d9b0f89951b2\" xlink:actuate=\"onRequest\" xlink:href=\"psysml:cd4f641f-a9ce-41b8-9b9f-d9b0f89951b2\" xlink:show=\"new\" xlink:title=\"psysml:cd4f641f-a9ce-41b8-9b9f-d9b0f89951b2\" xlink:type=\"simple\"><rect fill=\"#FFFFFF\" height=\"45.9375\" id=\"E7\" rx=\"10\" ry=\"10\" style=\"stroke: #383838; stroke-width: 1.5;\" width=\"71\" x=\"138.5\" y=\"41\"/><text fill=\"#000000\" font-family=\"sans-serif\" font-size=\"12\" font-style=\"italic\" lengthAdjust=\"spacingAndGlyphs\" textLength=\"69\" x=\"139.5\" y=\"57.1387\">«attribute»</text><text fill=\"#000000\" font-family=\"sans-serif\" font-size=\"12\" lengthAdjust=\"spacingAndGlyphs\" textLength=\"8\" x=\"170\" y=\"71.1074\">b</text><line style=\"stroke: #383838; stroke-width: 1.5;\" x1=\"139.5\" x2=\"208.5\" y1=\"78.9375\" y2=\"78.9375\"/></a><!--MD5=[b9389687b975829384b498ac4b7476b2]\n",
       "class E8--><a href=\"psysml:5033f0bf-ffeb-4313-b85b-4258ec8a052c\" target=\"_top\" title=\"psysml:5033f0bf-ffeb-4313-b85b-4258ec8a052c\" xlink:actuate=\"onRequest\" xlink:href=\"psysml:5033f0bf-ffeb-4313-b85b-4258ec8a052c\" xlink:show=\"new\" xlink:title=\"psysml:5033f0bf-ffeb-4313-b85b-4258ec8a052c\" xlink:type=\"simple\"><rect fill=\"#FFFFFF\" height=\"45.9375\" id=\"E8\" rx=\"10\" ry=\"10\" style=\"stroke: #383838; stroke-width: 1.5;\" width=\"71\" x=\"32.5\" y=\"41\"/><text fill=\"#000000\" font-family=\"sans-serif\" font-size=\"12\" font-style=\"italic\" lengthAdjust=\"spacingAndGlyphs\" textLength=\"69\" x=\"33.5\" y=\"57.1387\">«attribute»</text><text fill=\"#000000\" font-family=\"sans-serif\" font-size=\"12\" lengthAdjust=\"spacingAndGlyphs\" textLength=\"7\" x=\"64.5\" y=\"71.1074\">c</text><line style=\"stroke: #383838; stroke-width: 1.5;\" x1=\"33.5\" x2=\"102.5\" y1=\"78.9375\" y2=\"78.9375\"/></a><!--MD5=[05d275557350bfb9b23a4ef7222b4c39]\n",
       "link E3 to E2--><a href=\"psysml:94762400-f967-4f4d-9ae0-7f515d54317a\" target=\"_top\" title=\"psysml:94762400-f967-4f4d-9ae0-7f515d54317a\" xlink:actuate=\"onRequest\" xlink:href=\"psysml:94762400-f967-4f4d-9ae0-7f515d54317a\" xlink:show=\"new\" xlink:title=\"psysml:94762400-f967-4f4d-9ae0-7f515d54317a\" xlink:type=\"simple\"><path d=\"M600.38,64 C588.98,64 579.25,64 579.25,64 C579.25,64 579.25,143.62 579.25,143.62 \" fill=\"none\" id=\"E3-&gt;E2\" style=\"stroke: #383838; stroke-width: 1.0;\"/><polygon fill=\"#FFFFFF\" points=\"579.25,163.62,572.25,144.62,586.25,144.62,579.25,163.62\" style=\"stroke: #383838; stroke-width: 1.0;\"/><ellipse cx=\"574.25\" cy=\"138.92\" fill=\"#383838\" rx=\"2\" ry=\"2\" style=\"stroke: #383838; stroke-width: 1.0;\"/><ellipse cx=\"584.25\" cy=\"138.92\" fill=\"#383838\" rx=\"2\" ry=\"2\" style=\"stroke: #383838; stroke-width: 1.0;\"/></a><!--MD5=[ddeed8deb2209213b62e6cfabaa108b2]\n",
       "reverse link E4 to E2--><a href=\"psysml:6f03e5ff-f747-4209-970e-6a43677acfe5\" target=\"_top\" title=\"psysml:6f03e5ff-f747-4209-970e-6a43677acfe5\" xlink:actuate=\"onRequest\" xlink:href=\"psysml:6f03e5ff-f747-4209-970e-6a43677acfe5\" xlink:show=\"new\" xlink:title=\"psysml:6f03e5ff-f747-4209-970e-6a43677acfe5\" xlink:type=\"simple\"><path d=\"M531.75,100.14 C531.75,100.14 531.75,163.71 531.75,163.71 \" fill=\"none\" id=\"E4&lt;-E2\" style=\"stroke: #383838; stroke-width: 1.0;\"/><polygon fill=\"#FFFFFF\" points=\"531.75,87.14,527.75,93.14,531.75,99.14,535.75,93.14,531.75,87.14\" style=\"stroke: #383838; stroke-width: 1.0;\"/><text fill=\"#000000\" font-family=\"sans-serif\" font-size=\"13\" lengthAdjust=\"spacingAndGlyphs\" textLength=\"8\" x=\"539\" y=\"130.0669\">p</text></a><!--MD5=[8b9ba21647638b4626d889ebbc7a8e70]\n",
       "@startuml\r\n",
       "skinparam linetype ortho\r\n",
       "skinparam monochrome true\r\n",
       "skinparam classbackgroundcolor white\r\n",
       "skinparam shadowing false\r\n",
       "skinparam wrapWidth 300\r\n",
       "hide circle\r\n",
       "\r\n",
       "package \"ParameterTest\" as E1  [[psysml:88bd93f8-a024-442a-9349-d26cb2f873a0 ]]  {\r\n",
       "comp def \"A\" as E2  <<(T,blue)attribute def>> [[psysml:2f5789b5-3949-40b4-8579-f7414350119a ]] {\r\n",
       "- - attributes - -\r\n",
       "x: String\r\n",
       "y: A\r\n",
       "}\r\n",
       "comp usage \"a: A\" as E3  <<(T,blue)attribute>> [[psysml:02928bc4-0eb7-4367-aa3f-5ffb35356b49 ]] {\r\n",
       "}\r\n",
       "comp def \"F\" as E4  <<(T,blue)calculation def>> [[psysml:de3210e5-068c-44a8-9828-b5930a13c3bb ]] {\r\n",
       "}\r\n",
       "comp usage \"f\" as E5  <<(T,blue)attribute>> [[psysml:8c3ddf1b-2d8e-48f9-8bd9-e07e4f9dde48 ]] {\r\n",
       "}\r\n",
       "comp usage \"g\" as E6  <<(T,blue)attribute>> [[psysml:1f38f371-1f52-4b01-a20c-3f08ced1218d ]] {\r\n",
       "}\r\n",
       "comp usage \"b\" as E7  <<(T,blue)attribute>> [[psysml:cd4f641f-a9ce-41b8-9b9f-d9b0f89951b2 ]] {\r\n",
       "}\r\n",
       "comp usage \"c\" as E8  <<(T,blue)attribute>> [[psysml:5033f0bf-ffeb-4313-b85b-4258ec8a052c ]] {\r\n",
       "}\r\n",
       "E3 - -:|> E2 [[psysml:94762400-f967-4f4d-9ae0-7f515d54317a ]] \r\n",
       "E4 o- - E2 [[psysml:6f03e5ff-f747-4209-970e-6a43677acfe5 ]] : p\r\n",
       "}\r\n",
       "@enduml\r\n",
       "\n",
       "PlantUML version 1.2020.13(Sat Jun 13 12:26:38 UTC 2020)\n",
       "(EPL source distribution)\n",
       "Java Runtime: OpenJDK Runtime Environment\n",
       "JVM: OpenJDK 64-Bit Server VM\n",
       "Default Encoding: UTF-8\n",
       "Language: en\n",
       "Country: null\n",
       "--></g></svg>"
      ]
     },
     "execution_count": 56,
     "metadata": {},
     "output_type": "execute_result"
    }
   ],
   "source": [
    "%viz --style=\"ORTHOLINE\" --view=\"Sequence\" \"ParameterTest\""
   ]
  },
  {
   "cell_type": "code",
   "execution_count": 57,
   "id": "further-kitty",
   "metadata": {
    "execution": {
     "iopub.execute_input": "2021-03-26T13:01:44.308458Z",
     "iopub.status.busy": "2021-03-26T13:01:44.308018Z",
     "iopub.status.idle": "2021-03-26T13:01:44.352492Z",
     "shell.execute_reply": "2021-03-26T13:01:44.350673Z"
    }
   },
   "outputs": [
    {
     "data": {
      "image/svg+xml": [
       "<?xml version=\"1.0\" encoding=\"UTF-8\" standalone=\"no\"?><svg xmlns=\"http://www.w3.org/2000/svg\" xmlns:xlink=\"http://www.w3.org/1999/xlink\" contentScriptType=\"application/ecmascript\" contentStyleType=\"text/css\" height=\"263px\" preserveAspectRatio=\"none\" style=\"width:740px;height:263px;\" version=\"1.1\" viewBox=\"0 0 740 263\" width=\"740px\" zoomAndPan=\"magnify\"><defs/><g><!--MD5=[fbc87193dbaf4d95561dea2c320d4a47]\n",
       "cluster E1--><a href=\"psysml:88bd93f8-a024-442a-9349-d26cb2f873a0\" target=\"_top\" title=\"psysml:88bd93f8-a024-442a-9349-d26cb2f873a0\" xlink:actuate=\"onRequest\" xlink:href=\"psysml:88bd93f8-a024-442a-9349-d26cb2f873a0\" xlink:show=\"new\" xlink:title=\"psysml:88bd93f8-a024-442a-9349-d26cb2f873a0\" xlink:type=\"simple\"><polygon fill=\"#FFFFFF\" points=\"16,6,139,6,146,28.2969,718,28.2969,718,251,16,251,16,6\" style=\"stroke: #000000; stroke-width: 1.5;\"/><line style=\"stroke: #000000; stroke-width: 1.5;\" x1=\"16\" x2=\"146\" y1=\"28.2969\" y2=\"28.2969\"/><text fill=\"#000000\" font-family=\"sans-serif\" font-size=\"14\" font-weight=\"bold\" lengthAdjust=\"spacingAndGlyphs\" textLength=\"117\" x=\"20\" y=\"20.9951\">ParameterTest</text></a><!--MD5=[f6df4d0ebaf0b5dfb2ced0ae5af7c670]\n",
       "cluster E4--><a href=\"psysml:de3210e5-068c-44a8-9828-b5930a13c3bb\" target=\"_top\" title=\"psysml:de3210e5-068c-44a8-9828-b5930a13c3bb\" xlink:actuate=\"onRequest\" xlink:href=\"psysml:de3210e5-068c-44a8-9828-b5930a13c3bb\" xlink:show=\"new\" xlink:title=\"psysml:de3210e5-068c-44a8-9828-b5930a13c3bb\" xlink:type=\"simple\"><rect fill=\"#FFFFFF\" height=\"160.5\" id=\"E4\" style=\"stroke: #383838; stroke-width: 1.5;\" width=\"148\" x=\"554\" y=\"64\"/><rect fill=\"#F8F8F8\" height=\"37.9375\" style=\"stroke: #383838; stroke-width: 1.5;\" width=\"148\" x=\"554\" y=\"64\"/><text fill=\"#000000\" font-family=\"sans-serif\" font-size=\"12\" font-style=\"italic\" lengthAdjust=\"spacingAndGlyphs\" textLength=\"106\" x=\"575\" y=\"80.1387\">«calculation def»</text><text fill=\"#000000\" font-family=\"sans-serif\" font-size=\"12\" lengthAdjust=\"spacingAndGlyphs\" textLength=\"7\" x=\"624.5\" y=\"94.1074\">F</text></a><!--MD5=[b4997ac47864f28c2f74865a473b2911]\n",
       "class E2--><a href=\"psysml:2f5789b5-3949-40b4-8579-f7414350119a\" target=\"_top\" title=\"psysml:2f5789b5-3949-40b4-8579-f7414350119a\" xlink:actuate=\"onRequest\" xlink:href=\"psysml:2f5789b5-3949-40b4-8579-f7414350119a\" xlink:show=\"new\" xlink:title=\"psysml:2f5789b5-3949-40b4-8579-f7414350119a\" xlink:type=\"simple\"><rect fill=\"#FFFFFF\" height=\"88.3516\" id=\"E2\" style=\"stroke: #383838; stroke-width: 1.5;\" width=\"95\" x=\"422.5\" y=\"147\"/><text fill=\"#000000\" font-family=\"sans-serif\" font-size=\"12\" font-style=\"italic\" lengthAdjust=\"spacingAndGlyphs\" textLength=\"93\" x=\"423.5\" y=\"163.1387\">«attribute def»</text><text fill=\"#000000\" font-family=\"sans-serif\" font-size=\"12\" lengthAdjust=\"spacingAndGlyphs\" textLength=\"8\" x=\"466\" y=\"177.1074\">A</text><line style=\"stroke: #383838; stroke-width: 1.5;\" x1=\"423.5\" x2=\"516.5\" y1=\"184.9375\" y2=\"184.9375\"/><text fill=\"#000000\" font-family=\"sans-serif\" font-size=\"11\" lengthAdjust=\"spacingAndGlyphs\" textLength=\"48\" x=\"428.5\" y=\"215.9526\">x: String</text><text fill=\"#000000\" font-family=\"sans-serif\" font-size=\"11\" lengthAdjust=\"spacingAndGlyphs\" textLength=\"21\" x=\"428.5\" y=\"228.7573\">y: A</text><line style=\"stroke: #383838; stroke-width: 1.0;\" x1=\"423.5\" x2=\"442.5\" y1=\"199.3398\" y2=\"199.3398\"/><text fill=\"#000000\" font-family=\"sans-serif\" font-size=\"11\" lengthAdjust=\"spacingAndGlyphs\" textLength=\"55\" x=\"442.5\" y=\"202.6479\">attributes</text><line style=\"stroke: #383838; stroke-width: 1.0;\" x1=\"497.5\" x2=\"516.5\" y1=\"199.3398\" y2=\"199.3398\"/></a><!--MD5=[09b614a08d8cba4a07c9adeb5e0fee81]\n",
       "class E3--><a href=\"psysml:02928bc4-0eb7-4367-aa3f-5ffb35356b49\" target=\"_top\" title=\"psysml:02928bc4-0eb7-4367-aa3f-5ffb35356b49\" xlink:actuate=\"onRequest\" xlink:href=\"psysml:02928bc4-0eb7-4367-aa3f-5ffb35356b49\" xlink:show=\"new\" xlink:title=\"psysml:02928bc4-0eb7-4367-aa3f-5ffb35356b49\" xlink:type=\"simple\"><rect fill=\"#FFFFFF\" height=\"45.9375\" id=\"E3\" rx=\"10\" ry=\"10\" style=\"stroke: #383838; stroke-width: 1.5;\" width=\"71\" x=\"456.5\" y=\"41\"/><text fill=\"#000000\" font-family=\"sans-serif\" font-size=\"12\" font-style=\"italic\" lengthAdjust=\"spacingAndGlyphs\" textLength=\"69\" x=\"457.5\" y=\"57.1387\">«attribute»</text><text fill=\"#000000\" font-family=\"sans-serif\" font-size=\"12\" lengthAdjust=\"spacingAndGlyphs\" textLength=\"24\" x=\"480\" y=\"71.1074\">a: A</text><line style=\"stroke: #383838; stroke-width: 1.5;\" x1=\"457.5\" x2=\"526.5\" y1=\"78.9375\" y2=\"78.9375\"/></a><!--MD5=[2156ba9850f5573cc1fc38a6a4b2f02b]\n",
       "class E7--><a href=\"psysml:8c3ddf1b-2d8e-48f9-8bd9-e07e4f9dde48\" target=\"_top\" title=\"psysml:8c3ddf1b-2d8e-48f9-8bd9-e07e4f9dde48\" xlink:actuate=\"onRequest\" xlink:href=\"psysml:8c3ddf1b-2d8e-48f9-8bd9-e07e4f9dde48\" xlink:show=\"new\" xlink:title=\"psysml:8c3ddf1b-2d8e-48f9-8bd9-e07e4f9dde48\" xlink:type=\"simple\"><rect fill=\"#FFFFFF\" height=\"45.9375\" id=\"E7\" rx=\"10\" ry=\"10\" style=\"stroke: #383838; stroke-width: 1.5;\" width=\"71\" x=\"350.5\" y=\"41\"/><text fill=\"#000000\" font-family=\"sans-serif\" font-size=\"12\" font-style=\"italic\" lengthAdjust=\"spacingAndGlyphs\" textLength=\"69\" x=\"351.5\" y=\"57.1387\">«attribute»</text><text fill=\"#000000\" font-family=\"sans-serif\" font-size=\"12\" lengthAdjust=\"spacingAndGlyphs\" textLength=\"4\" x=\"384\" y=\"71.1074\">f</text><line style=\"stroke: #383838; stroke-width: 1.5;\" x1=\"351.5\" x2=\"420.5\" y1=\"78.9375\" y2=\"78.9375\"/></a><!--MD5=[b9389687b975829384b498ac4b7476b2]\n",
       "class E8--><a href=\"psysml:1f38f371-1f52-4b01-a20c-3f08ced1218d\" target=\"_top\" title=\"psysml:1f38f371-1f52-4b01-a20c-3f08ced1218d\" xlink:actuate=\"onRequest\" xlink:href=\"psysml:1f38f371-1f52-4b01-a20c-3f08ced1218d\" xlink:show=\"new\" xlink:title=\"psysml:1f38f371-1f52-4b01-a20c-3f08ced1218d\" xlink:type=\"simple\"><rect fill=\"#FFFFFF\" height=\"45.9375\" id=\"E8\" rx=\"10\" ry=\"10\" style=\"stroke: #383838; stroke-width: 1.5;\" width=\"71\" x=\"244.5\" y=\"41\"/><text fill=\"#000000\" font-family=\"sans-serif\" font-size=\"12\" font-style=\"italic\" lengthAdjust=\"spacingAndGlyphs\" textLength=\"69\" x=\"245.5\" y=\"57.1387\">«attribute»</text><text fill=\"#000000\" font-family=\"sans-serif\" font-size=\"12\" lengthAdjust=\"spacingAndGlyphs\" textLength=\"8\" x=\"276\" y=\"71.1074\">g</text><line style=\"stroke: #383838; stroke-width: 1.5;\" x1=\"245.5\" x2=\"314.5\" y1=\"78.9375\" y2=\"78.9375\"/></a><!--MD5=[fd4143e9d270a159db93a4ea2a975926]\n",
       "class E9--><a href=\"psysml:cd4f641f-a9ce-41b8-9b9f-d9b0f89951b2\" target=\"_top\" title=\"psysml:cd4f641f-a9ce-41b8-9b9f-d9b0f89951b2\" xlink:actuate=\"onRequest\" xlink:href=\"psysml:cd4f641f-a9ce-41b8-9b9f-d9b0f89951b2\" xlink:show=\"new\" xlink:title=\"psysml:cd4f641f-a9ce-41b8-9b9f-d9b0f89951b2\" xlink:type=\"simple\"><rect fill=\"#FFFFFF\" height=\"45.9375\" id=\"E9\" rx=\"10\" ry=\"10\" style=\"stroke: #383838; stroke-width: 1.5;\" width=\"71\" x=\"138.5\" y=\"41\"/><text fill=\"#000000\" font-family=\"sans-serif\" font-size=\"12\" font-style=\"italic\" lengthAdjust=\"spacingAndGlyphs\" textLength=\"69\" x=\"139.5\" y=\"57.1387\">«attribute»</text><text fill=\"#000000\" font-family=\"sans-serif\" font-size=\"12\" lengthAdjust=\"spacingAndGlyphs\" textLength=\"8\" x=\"170\" y=\"71.1074\">b</text><line style=\"stroke: #383838; stroke-width: 1.5;\" x1=\"139.5\" x2=\"208.5\" y1=\"78.9375\" y2=\"78.9375\"/></a><!--MD5=[96f4274e9e20536e775497830990834d]\n",
       "class E10--><a href=\"psysml:5033f0bf-ffeb-4313-b85b-4258ec8a052c\" target=\"_top\" title=\"psysml:5033f0bf-ffeb-4313-b85b-4258ec8a052c\" xlink:actuate=\"onRequest\" xlink:href=\"psysml:5033f0bf-ffeb-4313-b85b-4258ec8a052c\" xlink:show=\"new\" xlink:title=\"psysml:5033f0bf-ffeb-4313-b85b-4258ec8a052c\" xlink:type=\"simple\"><rect fill=\"#FFFFFF\" height=\"45.9375\" id=\"E10\" rx=\"10\" ry=\"10\" style=\"stroke: #383838; stroke-width: 1.5;\" width=\"71\" x=\"32.5\" y=\"41\"/><text fill=\"#000000\" font-family=\"sans-serif\" font-size=\"12\" font-style=\"italic\" lengthAdjust=\"spacingAndGlyphs\" textLength=\"69\" x=\"33.5\" y=\"57.1387\">«attribute»</text><text fill=\"#000000\" font-family=\"sans-serif\" font-size=\"12\" lengthAdjust=\"spacingAndGlyphs\" textLength=\"7\" x=\"64.5\" y=\"71.1074\">c</text><line style=\"stroke: #383838; stroke-width: 1.5;\" x1=\"33.5\" x2=\"102.5\" y1=\"78.9375\" y2=\"78.9375\"/></a><text fill=\"#000000\" font-family=\"sans-serif\" font-size=\"14\" lengthAdjust=\"spacingAndGlyphs\" textLength=\"9\" x=\"567.5\" y=\"42.6982\">p</text><rect fill=\"#383838\" height=\"12\" style=\"stroke: #F8F8F8; stroke-width: 1.5;\" width=\"12\" x=\"566\" y=\"58\"/><text fill=\"#000000\" font-family=\"sans-serif\" font-size=\"14\" lengthAdjust=\"spacingAndGlyphs\" textLength=\"9\" x=\"614.5\" y=\"42.6982\">q</text><rect fill=\"#383838\" height=\"12\" style=\"stroke: #F8F8F8; stroke-width: 1.5;\" width=\"12\" x=\"613\" y=\"58\"/><!--MD5=[05d275557350bfb9b23a4ef7222b4c39]\n",
       "link E3 to E2--><a href=\"psysml:94762400-f967-4f4d-9ae0-7f515d54317a\" target=\"_top\" title=\"psysml:94762400-f967-4f4d-9ae0-7f515d54317a\" xlink:actuate=\"onRequest\" xlink:href=\"psysml:94762400-f967-4f4d-9ae0-7f515d54317a\" xlink:show=\"new\" xlink:title=\"psysml:94762400-f967-4f4d-9ae0-7f515d54317a\" xlink:type=\"simple\"><path d=\"M487,87.29 C487,87.29 487,126.78 487,126.78 \" fill=\"none\" id=\"E3-&gt;E2\" style=\"stroke: #383838; stroke-width: 1.0;\"/><polygon fill=\"#FFFFFF\" points=\"487,146.78,480,127.78,494,127.78,487,146.78\" style=\"stroke: #383838; stroke-width: 1.0;\"/><ellipse cx=\"482\" cy=\"122.08\" fill=\"#383838\" rx=\"2\" ry=\"2\" style=\"stroke: #383838; stroke-width: 1.0;\"/><ellipse cx=\"492\" cy=\"122.08\" fill=\"#383838\" rx=\"2\" ry=\"2\" style=\"stroke: #383838; stroke-width: 1.0;\"/></a><!--MD5=[120671e161936ea21cbbfa253359f124]\n",
       "@startuml\r\n",
       "skinparam linetype ortho\r\n",
       "skinparam monochrome true\r\n",
       "skinparam classbackgroundcolor white\r\n",
       "skinparam shadowing false\r\n",
       "skinparam wrapWidth 300\r\n",
       "hide circle\r\n",
       "\r\n",
       "package \"ParameterTest\" as E1  [[psysml:88bd93f8-a024-442a-9349-d26cb2f873a0 ]]  {\r\n",
       "comp def \"A\" as E2  <<(T,blue)attribute def>> [[psysml:2f5789b5-3949-40b4-8579-f7414350119a ]] {\r\n",
       "- - attributes - -\r\n",
       "x: String\r\n",
       "y: A\r\n",
       "}\r\n",
       "comp usage \"a: A\" as E3  <<(T,blue)attribute>> [[psysml:02928bc4-0eb7-4367-aa3f-5ffb35356b49 ]] {\r\n",
       "}\r\n",
       "rec def \"F\" as E4  <<(T,blue)calculation def>> [[psysml:de3210e5-068c-44a8-9828-b5930a13c3bb ]] {\r\n",
       "portin \"p\" as E5  [[psysml:6f03e5ff-f747-4209-970e-6a43677acfe5 ]] \r\n",
       "portin \"q\" as E6  [[psysml:59b46d55-27e2-4503-b58c-744d75cefff1 ]] \r\n",
       "}\r\n",
       "\r\n",
       "comp usage \"f\" as E7  <<(T,blue)attribute>> [[psysml:8c3ddf1b-2d8e-48f9-8bd9-e07e4f9dde48 ]] {\r\n",
       "}\r\n",
       "comp usage \"g\" as E8  <<(T,blue)attribute>> [[psysml:1f38f371-1f52-4b01-a20c-3f08ced1218d ]] {\r\n",
       "}\r\n",
       "comp usage \"b\" as E9  <<(T,blue)attribute>> [[psysml:cd4f641f-a9ce-41b8-9b9f-d9b0f89951b2 ]] {\r\n",
       "}\r\n",
       "comp usage \"c\" as E10  <<(T,blue)attribute>> [[psysml:5033f0bf-ffeb-4313-b85b-4258ec8a052c ]] {\r\n",
       "}\r\n",
       "E3 - -:|> E2 [[psysml:94762400-f967-4f4d-9ae0-7f515d54317a ]] \r\n",
       "}\r\n",
       "@enduml\r\n",
       "\n",
       "PlantUML version 1.2020.13(Sat Jun 13 12:26:38 UTC 2020)\n",
       "(EPL source distribution)\n",
       "Java Runtime: OpenJDK Runtime Environment\n",
       "JVM: OpenJDK 64-Bit Server VM\n",
       "Default Encoding: UTF-8\n",
       "Language: en\n",
       "Country: null\n",
       "--></g></svg>"
      ]
     },
     "execution_count": 57,
     "metadata": {},
     "output_type": "execute_result"
    }
   ],
   "source": [
    "%viz --style=\"ORTHOLINE\" --view=\"MIXED\" \"ParameterTest\""
   ]
  }
 ],
 "metadata": {
  "kernelspec": {
   "display_name": "SysML",
   "language": "sysml",
   "name": "sysml"
  },
  "language_info": {
   "codemirror_mode": "sysml",
   "file_extension": ".sysml",
   "mimetype": "text/x-sysml",
   "name": "SysML",
   "pygments_lexer": "java",
   "version": "1.0.0"
  }
 },
 "nbformat": 4,
 "nbformat_minor": 5
}
