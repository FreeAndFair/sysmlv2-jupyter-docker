{
 "cells": [
  {
   "cell_type": "markdown",
   "id": "twenty-executive",
   "metadata": {},
   "source": [
    "# SysML v2 Test Suite\n",
    "\n",
    "This can notebook can be cleared using menu `Edit --> Clear All Outputs` and then all cells can be\n",
    "run using menu `Run --> Run All Cells`.\n",
    "\n",
    "**WARNING**: This file is generated, all modifications here will be ignored.\n"
   ]
  },
  {
   "cell_type": "markdown",
   "id": "wrong-republican",
   "metadata": {},
   "source": [
    "## File: ../../sysml/src/examples/Simple Tests/ParameterTest.sysml"
   ]
  },
  {
   "cell_type": "code",
   "execution_count": 1,
   "id": "needed-monster",
   "metadata": {
    "execution": {
     "iopub.execute_input": "2021-03-24T16:28:51.256609Z",
     "iopub.status.busy": "2021-03-24T16:28:51.256162Z",
     "iopub.status.idle": "2021-03-24T16:28:51.473606Z",
     "shell.execute_reply": "2021-03-24T16:28:51.473169Z"
    }
   },
   "outputs": [
    {
     "data": {
      "text/plain": [
       "Package ParameterTest (988d1b6f-98d0-4796-9713-0f161a0d6d8e)\n"
      ]
     },
     "execution_count": 1,
     "metadata": {},
     "output_type": "execute_result"
    }
   ],
   "source": [
    "package ParameterTest {\n",
    "\tattribute def A {\n",
    "\t\tattribute x : ScalarValues::String;\n",
    "\t\tattribute y : A;\n",
    "\t}\n",
    "\t\n",
    "\tattribute a : A;\n",
    "\t\n",
    "\tcalc def F (p : A, q : ScalarValues::Integer): ScalarValues::Integer;\n",
    "\t\n",
    "\tattribute f = F(a, 2);\n",
    "\tattribute g = F(q => 1, p => a);\n",
    "\t\n",
    "\tattribute b = A(y=>a, x=>\"\"); \n",
    "\tattribute c = A(\"test2\");\n",
    "}"
   ]
  },
  {
   "cell_type": "code",
   "execution_count": 2,
   "id": "integral-sally",
   "metadata": {
    "execution": {
     "iopub.execute_input": "2021-03-24T16:28:51.525777Z",
     "iopub.status.busy": "2021-03-24T16:28:51.525355Z",
     "iopub.status.idle": "2021-03-24T16:28:52.197914Z",
     "shell.execute_reply": "2021-03-24T16:28:52.198240Z"
    }
   },
   "outputs": [
    {
     "data": {
      "image/svg+xml": [
       "<?xml version=\"1.0\" encoding=\"UTF-8\" standalone=\"no\"?><svg xmlns=\"http://www.w3.org/2000/svg\" xmlns:xlink=\"http://www.w3.org/1999/xlink\" contentScriptType=\"application/ecmascript\" contentStyleType=\"text/css\" height=\"403px\" preserveAspectRatio=\"none\" style=\"width:740px;height:403px;\" version=\"1.1\" viewBox=\"0 0 740 403\" width=\"740px\" zoomAndPan=\"magnify\"><defs/><g><!--MD5=[fbc87193dbaf4d95561dea2c320d4a47]\n",
       "cluster E1--><a href=\"psysml:0dacd990-2b3a-4306-80d2-1e4fad6d04cd\" target=\"_top\" title=\"psysml:0dacd990-2b3a-4306-80d2-1e4fad6d04cd\" xlink:actuate=\"onRequest\" xlink:href=\"psysml:0dacd990-2b3a-4306-80d2-1e4fad6d04cd\" xlink:show=\"new\" xlink:title=\"psysml:0dacd990-2b3a-4306-80d2-1e4fad6d04cd\" xlink:type=\"simple\"><polygon fill=\"#FFFFFF\" points=\"16,6,139,6,146,28.2969,718,28.2969,718,391.72,16,391.72,16,6\" style=\"stroke: #000000; stroke-width: 1.5;\"/><line style=\"stroke: #000000; stroke-width: 1.5;\" x1=\"16\" x2=\"146\" y1=\"28.2969\" y2=\"28.2969\"/><text fill=\"#000000\" font-family=\"sans-serif\" font-size=\"14\" font-weight=\"bold\" lengthAdjust=\"spacingAndGlyphs\" textLength=\"117\" x=\"20\" y=\"20.9951\">ParameterTest</text></a><!--MD5=[f6df4d0ebaf0b5dfb2ced0ae5af7c670]\n",
       "cluster E4--><a href=\"psysml:cd1262f4-d3f9-4f52-89ee-1653680ad782\" target=\"_top\" title=\"psysml:cd1262f4-d3f9-4f52-89ee-1653680ad782\" xlink:actuate=\"onRequest\" xlink:href=\"psysml:cd1262f4-d3f9-4f52-89ee-1653680ad782\" xlink:show=\"new\" xlink:title=\"psysml:cd1262f4-d3f9-4f52-89ee-1653680ad782\" xlink:type=\"simple\"><rect fill=\"#FFFFFF\" height=\"297.72\" id=\"E4\" style=\"stroke: #383838; stroke-width: 1.5;\" width=\"148\" x=\"554\" y=\"64\"/><rect fill=\"#F8F8F8\" height=\"37.9375\" style=\"stroke: #383838; stroke-width: 1.5;\" width=\"148\" x=\"554\" y=\"64\"/><text fill=\"#000000\" font-family=\"sans-serif\" font-size=\"12\" font-style=\"italic\" lengthAdjust=\"spacingAndGlyphs\" textLength=\"106\" x=\"575\" y=\"80.1387\">«calculation def»</text><text fill=\"#000000\" font-family=\"sans-serif\" font-size=\"12\" lengthAdjust=\"spacingAndGlyphs\" textLength=\"7\" x=\"624.5\" y=\"94.1074\">F</text></a><!--MD5=[b4997ac47864f28c2f74865a473b2911]\n",
       "class E2--><a href=\"psysml:03a6349f-297b-4a78-b9ab-052989f96479\" target=\"_top\" title=\"psysml:03a6349f-297b-4a78-b9ab-052989f96479\" xlink:actuate=\"onRequest\" xlink:href=\"psysml:03a6349f-297b-4a78-b9ab-052989f96479\" xlink:show=\"new\" xlink:title=\"psysml:03a6349f-297b-4a78-b9ab-052989f96479\" xlink:type=\"simple\"><rect fill=\"#FFFFFF\" height=\"88.3516\" id=\"E2\" style=\"stroke: #383838; stroke-width: 1.5;\" width=\"95\" x=\"422.5\" y=\"147\"/><text fill=\"#000000\" font-family=\"sans-serif\" font-size=\"12\" font-style=\"italic\" lengthAdjust=\"spacingAndGlyphs\" textLength=\"93\" x=\"423.5\" y=\"163.1387\">«attribute def»</text><text fill=\"#000000\" font-family=\"sans-serif\" font-size=\"12\" lengthAdjust=\"spacingAndGlyphs\" textLength=\"8\" x=\"466\" y=\"177.1074\">A</text><line style=\"stroke: #383838; stroke-width: 1.5;\" x1=\"423.5\" x2=\"516.5\" y1=\"184.9375\" y2=\"184.9375\"/><text fill=\"#000000\" font-family=\"sans-serif\" font-size=\"11\" lengthAdjust=\"spacingAndGlyphs\" textLength=\"48\" x=\"428.5\" y=\"215.9526\">x: String</text><text fill=\"#000000\" font-family=\"sans-serif\" font-size=\"11\" lengthAdjust=\"spacingAndGlyphs\" textLength=\"21\" x=\"428.5\" y=\"228.7573\">y: A</text><line style=\"stroke: #383838; stroke-width: 1.0;\" x1=\"423.5\" x2=\"442.5\" y1=\"199.3398\" y2=\"199.3398\"/><text fill=\"#000000\" font-family=\"sans-serif\" font-size=\"11\" lengthAdjust=\"spacingAndGlyphs\" textLength=\"55\" x=\"442.5\" y=\"202.6479\">attributes</text><line style=\"stroke: #383838; stroke-width: 1.0;\" x1=\"497.5\" x2=\"516.5\" y1=\"199.3398\" y2=\"199.3398\"/></a><!--MD5=[09b614a08d8cba4a07c9adeb5e0fee81]\n",
       "class E3--><a href=\"psysml:d7af749e-ffc6-4773-972a-b8dfcfe9deb8\" target=\"_top\" title=\"psysml:d7af749e-ffc6-4773-972a-b8dfcfe9deb8\" xlink:actuate=\"onRequest\" xlink:href=\"psysml:d7af749e-ffc6-4773-972a-b8dfcfe9deb8\" xlink:show=\"new\" xlink:title=\"psysml:d7af749e-ffc6-4773-972a-b8dfcfe9deb8\" xlink:type=\"simple\"><rect fill=\"#FFFFFF\" height=\"45.9375\" id=\"E3\" rx=\"10\" ry=\"10\" style=\"stroke: #383838; stroke-width: 1.5;\" width=\"71\" x=\"456.5\" y=\"41\"/><text fill=\"#000000\" font-family=\"sans-serif\" font-size=\"12\" font-style=\"italic\" lengthAdjust=\"spacingAndGlyphs\" textLength=\"69\" x=\"457.5\" y=\"57.1387\">«attribute»</text><text fill=\"#000000\" font-family=\"sans-serif\" font-size=\"12\" lengthAdjust=\"spacingAndGlyphs\" textLength=\"24\" x=\"480\" y=\"71.1074\">a: A</text><line style=\"stroke: #383838; stroke-width: 1.5;\" x1=\"457.5\" x2=\"526.5\" y1=\"78.9375\" y2=\"78.9375\"/></a><!--MD5=[b9389687b975829384b498ac4b7476b2]\n",
       "class E8--><a href=\"psysml:e43abf7c-a809-48bd-8c78-cd0a53fbbdb6\" target=\"_top\" title=\"psysml:e43abf7c-a809-48bd-8c78-cd0a53fbbdb6\" xlink:actuate=\"onRequest\" xlink:href=\"psysml:e43abf7c-a809-48bd-8c78-cd0a53fbbdb6\" xlink:show=\"new\" xlink:title=\"psysml:e43abf7c-a809-48bd-8c78-cd0a53fbbdb6\" xlink:type=\"simple\"><rect fill=\"#FFFFFF\" height=\"45.9375\" id=\"E8\" rx=\"10\" ry=\"10\" style=\"stroke: #383838; stroke-width: 1.5;\" width=\"71\" x=\"350.5\" y=\"41\"/><text fill=\"#000000\" font-family=\"sans-serif\" font-size=\"12\" font-style=\"italic\" lengthAdjust=\"spacingAndGlyphs\" textLength=\"69\" x=\"351.5\" y=\"57.1387\">«attribute»</text><text fill=\"#000000\" font-family=\"sans-serif\" font-size=\"12\" lengthAdjust=\"spacingAndGlyphs\" textLength=\"4\" x=\"384\" y=\"71.1074\">f</text><line style=\"stroke: #383838; stroke-width: 1.5;\" x1=\"351.5\" x2=\"420.5\" y1=\"78.9375\" y2=\"78.9375\"/></a><!--MD5=[fd4143e9d270a159db93a4ea2a975926]\n",
       "class E9--><a href=\"psysml:04ff0b02-14ab-40e8-a866-ef9bcfd05ef7\" target=\"_top\" title=\"psysml:04ff0b02-14ab-40e8-a866-ef9bcfd05ef7\" xlink:actuate=\"onRequest\" xlink:href=\"psysml:04ff0b02-14ab-40e8-a866-ef9bcfd05ef7\" xlink:show=\"new\" xlink:title=\"psysml:04ff0b02-14ab-40e8-a866-ef9bcfd05ef7\" xlink:type=\"simple\"><rect fill=\"#FFFFFF\" height=\"45.9375\" id=\"E9\" rx=\"10\" ry=\"10\" style=\"stroke: #383838; stroke-width: 1.5;\" width=\"71\" x=\"244.5\" y=\"41\"/><text fill=\"#000000\" font-family=\"sans-serif\" font-size=\"12\" font-style=\"italic\" lengthAdjust=\"spacingAndGlyphs\" textLength=\"69\" x=\"245.5\" y=\"57.1387\">«attribute»</text><text fill=\"#000000\" font-family=\"sans-serif\" font-size=\"12\" lengthAdjust=\"spacingAndGlyphs\" textLength=\"8\" x=\"276\" y=\"71.1074\">g</text><line style=\"stroke: #383838; stroke-width: 1.5;\" x1=\"245.5\" x2=\"314.5\" y1=\"78.9375\" y2=\"78.9375\"/></a><!--MD5=[96f4274e9e20536e775497830990834d]\n",
       "class E10--><a href=\"psysml:37f56aff-8c9f-4a8e-95e0-50132129fb99\" target=\"_top\" title=\"psysml:37f56aff-8c9f-4a8e-95e0-50132129fb99\" xlink:actuate=\"onRequest\" xlink:href=\"psysml:37f56aff-8c9f-4a8e-95e0-50132129fb99\" xlink:show=\"new\" xlink:title=\"psysml:37f56aff-8c9f-4a8e-95e0-50132129fb99\" xlink:type=\"simple\"><rect fill=\"#FFFFFF\" height=\"45.9375\" id=\"E10\" rx=\"10\" ry=\"10\" style=\"stroke: #383838; stroke-width: 1.5;\" width=\"71\" x=\"138.5\" y=\"41\"/><text fill=\"#000000\" font-family=\"sans-serif\" font-size=\"12\" font-style=\"italic\" lengthAdjust=\"spacingAndGlyphs\" textLength=\"69\" x=\"139.5\" y=\"57.1387\">«attribute»</text><text fill=\"#000000\" font-family=\"sans-serif\" font-size=\"12\" lengthAdjust=\"spacingAndGlyphs\" textLength=\"8\" x=\"170\" y=\"71.1074\">b</text><line style=\"stroke: #383838; stroke-width: 1.5;\" x1=\"139.5\" x2=\"208.5\" y1=\"78.9375\" y2=\"78.9375\"/></a><!--MD5=[1dd1bfd58a279cf63c5f349dbc8fc6a1]\n",
       "class E11--><a href=\"psysml:6095b787-d7f9-43be-8b1b-f534282edd43\" target=\"_top\" title=\"psysml:6095b787-d7f9-43be-8b1b-f534282edd43\" xlink:actuate=\"onRequest\" xlink:href=\"psysml:6095b787-d7f9-43be-8b1b-f534282edd43\" xlink:show=\"new\" xlink:title=\"psysml:6095b787-d7f9-43be-8b1b-f534282edd43\" xlink:type=\"simple\"><rect fill=\"#FFFFFF\" height=\"45.9375\" id=\"E11\" rx=\"10\" ry=\"10\" style=\"stroke: #383838; stroke-width: 1.5;\" width=\"71\" x=\"32.5\" y=\"41\"/><text fill=\"#000000\" font-family=\"sans-serif\" font-size=\"12\" font-style=\"italic\" lengthAdjust=\"spacingAndGlyphs\" textLength=\"69\" x=\"33.5\" y=\"57.1387\">«attribute»</text><text fill=\"#000000\" font-family=\"sans-serif\" font-size=\"12\" lengthAdjust=\"spacingAndGlyphs\" textLength=\"7\" x=\"64.5\" y=\"71.1074\">c</text><line style=\"stroke: #383838; stroke-width: 1.5;\" x1=\"33.5\" x2=\"102.5\" y1=\"78.9375\" y2=\"78.9375\"/></a><text fill=\"#000000\" font-family=\"sans-serif\" font-size=\"14\" lengthAdjust=\"spacingAndGlyphs\" textLength=\"9\" x=\"567.5\" y=\"42.6982\">p</text><rect fill=\"#383838\" height=\"12\" style=\"stroke: #F8F8F8; stroke-width: 1.5;\" width=\"12\" x=\"566\" y=\"58\"/><text fill=\"#000000\" font-family=\"sans-serif\" font-size=\"14\" lengthAdjust=\"spacingAndGlyphs\" textLength=\"9\" x=\"614.5\" y=\"42.6982\">q</text><rect fill=\"#383838\" height=\"12\" style=\"stroke: #F8F8F8; stroke-width: 1.5;\" width=\"12\" x=\"613\" y=\"58\"/><text fill=\"#000000\" font-family=\"sans-serif\" font-size=\"14\" lengthAdjust=\"spacingAndGlyphs\" textLength=\"57\" x=\"590.5\" y=\"380.7151\">noname</text><rect fill=\"#383838\" height=\"12\" style=\"stroke: #F8F8F8; stroke-width: 1.5;\" width=\"12\" x=\"613\" y=\"355.72\"/><!--MD5=[05d275557350bfb9b23a4ef7222b4c39]\n",
       "link E3 to E2--><a href=\"psysml:982c8c0e-9af2-4f93-8067-230d5c39d8a2\" target=\"_top\" title=\"psysml:982c8c0e-9af2-4f93-8067-230d5c39d8a2\" xlink:actuate=\"onRequest\" xlink:href=\"psysml:982c8c0e-9af2-4f93-8067-230d5c39d8a2\" xlink:show=\"new\" xlink:title=\"psysml:982c8c0e-9af2-4f93-8067-230d5c39d8a2\" xlink:type=\"simple\"><path d=\"M488.12,87.06 C486.14,98.3 483.62,112.6 481.1,126.95 \" fill=\"none\" id=\"E3-&gt;E2\" style=\"stroke: #383838; stroke-width: 1.0;\"/><polygon fill=\"#FFFFFF\" points=\"477.58,146.93,473.9835,127.0035,487.7711,129.4331,477.58,146.93\" style=\"stroke: #383838; stroke-width: 1.0;\"/><ellipse cx=\"476.9423\" cy=\"121.7371\" fill=\"#383838\" rx=\"2\" ry=\"2\" style=\"stroke: #383838; stroke-width: 1.0;\"/><ellipse cx=\"486.7906\" cy=\"123.4725\" fill=\"#383838\" rx=\"2\" ry=\"2\" style=\"stroke: #383838; stroke-width: 1.0;\"/></a><!--MD5=[375b440b470ad68d405f12d01f021ed7]\n",
       "@startuml\r\n",
       " skinparam monochrome true\r\n",
       "skinparam classbackgroundcolor white\r\n",
       "skinparam shadowing false\r\n",
       "skinparam wrapWidth 300\r\n",
       "hide circle\r\n",
       "\r\n",
       "package \"ParameterTest\" as E1  [[psysml:0dacd990-2b3a-4306-80d2-1e4fad6d04cd ]]  {\r\n",
       "comp def \"A\" as E2  <<(T,blue)attribute def>> [[psysml:03a6349f-297b-4a78-b9ab-052989f96479 ]] {\r\n",
       "- - attributes - -\r\n",
       "x: String\r\n",
       "y: A\r\n",
       "}\r\n",
       "comp usage \"a: A\" as E3  <<(T,blue)attribute>> [[psysml:d7af749e-ffc6-4773-972a-b8dfcfe9deb8 ]] {\r\n",
       "}\r\n",
       "rec def \"F\" as E4  <<(T,blue)calculation def>> [[psysml:cd1262f4-d3f9-4f52-89ee-1653680ad782 ]] {\r\n",
       "portin \"p\" as E5  [[psysml:16d77514-2de6-4c2c-add7-8b8555ca417f ]] \r\n",
       "portin \"q\" as E6  [[psysml:85e14753-ca59-4cde-8265-18a8cb4b45d6 ]] \r\n",
       "portout \"noname\" as E7  [[psysml:99b94083-4aa7-41fb-8d8e-135498f03bbe ]] \r\n",
       "}\r\n",
       "\r\n",
       "comp usage \"f\" as E8  <<(T,blue)attribute>> [[psysml:e43abf7c-a809-48bd-8c78-cd0a53fbbdb6 ]] {\r\n",
       "}\r\n",
       "comp usage \"g\" as E9  <<(T,blue)attribute>> [[psysml:04ff0b02-14ab-40e8-a866-ef9bcfd05ef7 ]] {\r\n",
       "}\r\n",
       "comp usage \"b\" as E10  <<(T,blue)attribute>> [[psysml:37f56aff-8c9f-4a8e-95e0-50132129fb99 ]] {\r\n",
       "}\r\n",
       "comp usage \"c\" as E11  <<(T,blue)attribute>> [[psysml:6095b787-d7f9-43be-8b1b-f534282edd43 ]] {\r\n",
       "}\r\n",
       "E3 - -:|> E2 [[psysml:982c8c0e-9af2-4f93-8067-230d5c39d8a2 ]] \r\n",
       "}\r\n",
       "@enduml\r\n",
       "\n",
       "PlantUML version 1.2020.13(Sat Jun 13 12:26:38 UTC 2020)\n",
       "(EPL source distribution)\n",
       "Java Runtime: OpenJDK Runtime Environment\n",
       "JVM: OpenJDK 64-Bit Server VM\n",
       "Default Encoding: UTF-8\n",
       "Language: en\n",
       "Country: null\n",
       "--></g></svg>"
      ]
     },
     "execution_count": 2,
     "metadata": {},
     "output_type": "execute_result"
    }
   ],
   "source": [
    "%viz --style=\"COMPTREE\" --view=\"Default\" \"ParameterTest\""
   ]
  },
  {
   "cell_type": "code",
   "execution_count": 3,
   "id": "young-wheel",
   "metadata": {
    "execution": {
     "iopub.execute_input": "2021-03-24T16:28:52.249089Z",
     "iopub.status.busy": "2021-03-24T16:28:52.248708Z",
     "iopub.status.idle": "2021-03-24T16:28:52.362013Z",
     "shell.execute_reply": "2021-03-24T16:28:52.362396Z"
    }
   },
   "outputs": [
    {
     "data": {
      "image/svg+xml": [
       "<?xml version=\"1.0\" encoding=\"UTF-8\" standalone=\"no\"?><svg xmlns=\"http://www.w3.org/2000/svg\" xmlns:xlink=\"http://www.w3.org/1999/xlink\" contentScriptType=\"application/ecmascript\" contentStyleType=\"text/css\" height=\"280px\" preserveAspectRatio=\"none\" style=\"width:710px;height:280px;\" version=\"1.1\" viewBox=\"0 0 710 280\" width=\"710px\" zoomAndPan=\"magnify\"><defs/><g><!--MD5=[fbc87193dbaf4d95561dea2c320d4a47]\n",
       "cluster E1--><a href=\"psysml:0dacd990-2b3a-4306-80d2-1e4fad6d04cd\" target=\"_top\" title=\"psysml:0dacd990-2b3a-4306-80d2-1e4fad6d04cd\" xlink:actuate=\"onRequest\" xlink:href=\"psysml:0dacd990-2b3a-4306-80d2-1e4fad6d04cd\" xlink:show=\"new\" xlink:title=\"psysml:0dacd990-2b3a-4306-80d2-1e4fad6d04cd\" xlink:type=\"simple\"><polygon fill=\"#FFFFFF\" points=\"16,6,139,6,146,28.2969,688,28.2969,688,268,16,268,16,6\" style=\"stroke: #000000; stroke-width: 1.5;\"/><line style=\"stroke: #000000; stroke-width: 1.5;\" x1=\"16\" x2=\"146\" y1=\"28.2969\" y2=\"28.2969\"/><text fill=\"#000000\" font-family=\"sans-serif\" font-size=\"14\" font-weight=\"bold\" lengthAdjust=\"spacingAndGlyphs\" textLength=\"117\" x=\"20\" y=\"20.9951\">ParameterTest</text></a><!--MD5=[b4997ac47864f28c2f74865a473b2911]\n",
       "class E2--><a href=\"psysml:03a6349f-297b-4a78-b9ab-052989f96479\" target=\"_top\" title=\"psysml:03a6349f-297b-4a78-b9ab-052989f96479\" xlink:actuate=\"onRequest\" xlink:href=\"psysml:03a6349f-297b-4a78-b9ab-052989f96479\" xlink:show=\"new\" xlink:title=\"psysml:03a6349f-297b-4a78-b9ab-052989f96479\" xlink:type=\"simple\"><rect fill=\"#FFFFFF\" height=\"88.3516\" id=\"E2\" style=\"stroke: #383838; stroke-width: 1.5;\" width=\"95\" x=\"498.5\" y=\"164\"/><text fill=\"#000000\" font-family=\"sans-serif\" font-size=\"12\" font-style=\"italic\" lengthAdjust=\"spacingAndGlyphs\" textLength=\"93\" x=\"499.5\" y=\"180.1387\">«attribute def»</text><text fill=\"#000000\" font-family=\"sans-serif\" font-size=\"12\" lengthAdjust=\"spacingAndGlyphs\" textLength=\"8\" x=\"542\" y=\"194.1074\">A</text><line style=\"stroke: #383838; stroke-width: 1.5;\" x1=\"499.5\" x2=\"592.5\" y1=\"201.9375\" y2=\"201.9375\"/><text fill=\"#000000\" font-family=\"sans-serif\" font-size=\"11\" lengthAdjust=\"spacingAndGlyphs\" textLength=\"48\" x=\"504.5\" y=\"232.9526\">x: String</text><text fill=\"#000000\" font-family=\"sans-serif\" font-size=\"11\" lengthAdjust=\"spacingAndGlyphs\" textLength=\"21\" x=\"504.5\" y=\"245.7573\">y: A</text><line style=\"stroke: #383838; stroke-width: 1.0;\" x1=\"499.5\" x2=\"518.5\" y1=\"216.3398\" y2=\"216.3398\"/><text fill=\"#000000\" font-family=\"sans-serif\" font-size=\"11\" lengthAdjust=\"spacingAndGlyphs\" textLength=\"55\" x=\"518.5\" y=\"219.6479\">attributes</text><line style=\"stroke: #383838; stroke-width: 1.0;\" x1=\"573.5\" x2=\"592.5\" y1=\"216.3398\" y2=\"216.3398\"/></a><!--MD5=[09b614a08d8cba4a07c9adeb5e0fee81]\n",
       "class E3--><a href=\"psysml:d7af749e-ffc6-4773-972a-b8dfcfe9deb8\" target=\"_top\" title=\"psysml:d7af749e-ffc6-4773-972a-b8dfcfe9deb8\" xlink:actuate=\"onRequest\" xlink:href=\"psysml:d7af749e-ffc6-4773-972a-b8dfcfe9deb8\" xlink:show=\"new\" xlink:title=\"psysml:d7af749e-ffc6-4773-972a-b8dfcfe9deb8\" xlink:type=\"simple\"><rect fill=\"#FFFFFF\" height=\"45.9375\" id=\"E3\" rx=\"10\" ry=\"10\" style=\"stroke: #383838; stroke-width: 1.5;\" width=\"71\" x=\"600.5\" y=\"41\"/><text fill=\"#000000\" font-family=\"sans-serif\" font-size=\"12\" font-style=\"italic\" lengthAdjust=\"spacingAndGlyphs\" textLength=\"69\" x=\"601.5\" y=\"57.1387\">«attribute»</text><text fill=\"#000000\" font-family=\"sans-serif\" font-size=\"12\" lengthAdjust=\"spacingAndGlyphs\" textLength=\"24\" x=\"624\" y=\"71.1074\">a: A</text><line style=\"stroke: #383838; stroke-width: 1.5;\" x1=\"601.5\" x2=\"670.5\" y1=\"78.9375\" y2=\"78.9375\"/></a><!--MD5=[ebbe1d658d1005bcc118a6aa81145e00]\n",
       "class E4--><a href=\"psysml:cd1262f4-d3f9-4f52-89ee-1653680ad782\" target=\"_top\" title=\"psysml:cd1262f4-d3f9-4f52-89ee-1653680ad782\" xlink:actuate=\"onRequest\" xlink:href=\"psysml:cd1262f4-d3f9-4f52-89ee-1653680ad782\" xlink:show=\"new\" xlink:title=\"psysml:cd1262f4-d3f9-4f52-89ee-1653680ad782\" xlink:type=\"simple\"><rect fill=\"#FFFFFF\" height=\"45.9375\" id=\"E4\" style=\"stroke: #383838; stroke-width: 1.5;\" width=\"108\" x=\"457\" y=\"41\"/><text fill=\"#000000\" font-family=\"sans-serif\" font-size=\"12\" font-style=\"italic\" lengthAdjust=\"spacingAndGlyphs\" textLength=\"106\" x=\"458\" y=\"57.1387\">«calculation def»</text><text fill=\"#000000\" font-family=\"sans-serif\" font-size=\"12\" lengthAdjust=\"spacingAndGlyphs\" textLength=\"7\" x=\"507.5\" y=\"71.1074\">F</text><line style=\"stroke: #383838; stroke-width: 1.5;\" x1=\"458\" x2=\"564\" y1=\"78.9375\" y2=\"78.9375\"/></a><!--MD5=[270fce915f116d4de14055a7c1d9a0f3]\n",
       "class E5--><a href=\"psysml:e43abf7c-a809-48bd-8c78-cd0a53fbbdb6\" target=\"_top\" title=\"psysml:e43abf7c-a809-48bd-8c78-cd0a53fbbdb6\" xlink:actuate=\"onRequest\" xlink:href=\"psysml:e43abf7c-a809-48bd-8c78-cd0a53fbbdb6\" xlink:show=\"new\" xlink:title=\"psysml:e43abf7c-a809-48bd-8c78-cd0a53fbbdb6\" xlink:type=\"simple\"><rect fill=\"#FFFFFF\" height=\"45.9375\" id=\"E5\" rx=\"10\" ry=\"10\" style=\"stroke: #383838; stroke-width: 1.5;\" width=\"71\" x=\"350.5\" y=\"41\"/><text fill=\"#000000\" font-family=\"sans-serif\" font-size=\"12\" font-style=\"italic\" lengthAdjust=\"spacingAndGlyphs\" textLength=\"69\" x=\"351.5\" y=\"57.1387\">«attribute»</text><text fill=\"#000000\" font-family=\"sans-serif\" font-size=\"12\" lengthAdjust=\"spacingAndGlyphs\" textLength=\"4\" x=\"384\" y=\"71.1074\">f</text><line style=\"stroke: #383838; stroke-width: 1.5;\" x1=\"351.5\" x2=\"420.5\" y1=\"78.9375\" y2=\"78.9375\"/></a><!--MD5=[60a26617385b1d2d0262a64233df1f8d]\n",
       "class E6--><a href=\"psysml:04ff0b02-14ab-40e8-a866-ef9bcfd05ef7\" target=\"_top\" title=\"psysml:04ff0b02-14ab-40e8-a866-ef9bcfd05ef7\" xlink:actuate=\"onRequest\" xlink:href=\"psysml:04ff0b02-14ab-40e8-a866-ef9bcfd05ef7\" xlink:show=\"new\" xlink:title=\"psysml:04ff0b02-14ab-40e8-a866-ef9bcfd05ef7\" xlink:type=\"simple\"><rect fill=\"#FFFFFF\" height=\"45.9375\" id=\"E6\" rx=\"10\" ry=\"10\" style=\"stroke: #383838; stroke-width: 1.5;\" width=\"71\" x=\"244.5\" y=\"41\"/><text fill=\"#000000\" font-family=\"sans-serif\" font-size=\"12\" font-style=\"italic\" lengthAdjust=\"spacingAndGlyphs\" textLength=\"69\" x=\"245.5\" y=\"57.1387\">«attribute»</text><text fill=\"#000000\" font-family=\"sans-serif\" font-size=\"12\" lengthAdjust=\"spacingAndGlyphs\" textLength=\"8\" x=\"276\" y=\"71.1074\">g</text><line style=\"stroke: #383838; stroke-width: 1.5;\" x1=\"245.5\" x2=\"314.5\" y1=\"78.9375\" y2=\"78.9375\"/></a><!--MD5=[2156ba9850f5573cc1fc38a6a4b2f02b]\n",
       "class E7--><a href=\"psysml:37f56aff-8c9f-4a8e-95e0-50132129fb99\" target=\"_top\" title=\"psysml:37f56aff-8c9f-4a8e-95e0-50132129fb99\" xlink:actuate=\"onRequest\" xlink:href=\"psysml:37f56aff-8c9f-4a8e-95e0-50132129fb99\" xlink:show=\"new\" xlink:title=\"psysml:37f56aff-8c9f-4a8e-95e0-50132129fb99\" xlink:type=\"simple\"><rect fill=\"#FFFFFF\" height=\"45.9375\" id=\"E7\" rx=\"10\" ry=\"10\" style=\"stroke: #383838; stroke-width: 1.5;\" width=\"71\" x=\"138.5\" y=\"41\"/><text fill=\"#000000\" font-family=\"sans-serif\" font-size=\"12\" font-style=\"italic\" lengthAdjust=\"spacingAndGlyphs\" textLength=\"69\" x=\"139.5\" y=\"57.1387\">«attribute»</text><text fill=\"#000000\" font-family=\"sans-serif\" font-size=\"12\" lengthAdjust=\"spacingAndGlyphs\" textLength=\"8\" x=\"170\" y=\"71.1074\">b</text><line style=\"stroke: #383838; stroke-width: 1.5;\" x1=\"139.5\" x2=\"208.5\" y1=\"78.9375\" y2=\"78.9375\"/></a><!--MD5=[b9389687b975829384b498ac4b7476b2]\n",
       "class E8--><a href=\"psysml:6095b787-d7f9-43be-8b1b-f534282edd43\" target=\"_top\" title=\"psysml:6095b787-d7f9-43be-8b1b-f534282edd43\" xlink:actuate=\"onRequest\" xlink:href=\"psysml:6095b787-d7f9-43be-8b1b-f534282edd43\" xlink:show=\"new\" xlink:title=\"psysml:6095b787-d7f9-43be-8b1b-f534282edd43\" xlink:type=\"simple\"><rect fill=\"#FFFFFF\" height=\"45.9375\" id=\"E8\" rx=\"10\" ry=\"10\" style=\"stroke: #383838; stroke-width: 1.5;\" width=\"71\" x=\"32.5\" y=\"41\"/><text fill=\"#000000\" font-family=\"sans-serif\" font-size=\"12\" font-style=\"italic\" lengthAdjust=\"spacingAndGlyphs\" textLength=\"69\" x=\"33.5\" y=\"57.1387\">«attribute»</text><text fill=\"#000000\" font-family=\"sans-serif\" font-size=\"12\" lengthAdjust=\"spacingAndGlyphs\" textLength=\"7\" x=\"64.5\" y=\"71.1074\">c</text><line style=\"stroke: #383838; stroke-width: 1.5;\" x1=\"33.5\" x2=\"102.5\" y1=\"78.9375\" y2=\"78.9375\"/></a><!--MD5=[05d275557350bfb9b23a4ef7222b4c39]\n",
       "link E3 to E2--><a href=\"psysml:982c8c0e-9af2-4f93-8067-230d5c39d8a2\" target=\"_top\" title=\"psysml:982c8c0e-9af2-4f93-8067-230d5c39d8a2\" xlink:actuate=\"onRequest\" xlink:href=\"psysml:982c8c0e-9af2-4f93-8067-230d5c39d8a2\" xlink:show=\"new\" xlink:title=\"psysml:982c8c0e-9af2-4f93-8067-230d5c39d8a2\" xlink:type=\"simple\"><path d=\"M621.94,87.19 C611.77,103.23 597.51,125.73 584.09,146.9 \" fill=\"none\" id=\"E3-&gt;E2\" style=\"stroke: #383838; stroke-width: 1.0;\"/><polygon fill=\"#FFFFFF\" points=\"573.37,163.82,577.6195,144.0225,589.448,151.5115,573.37,163.82\" style=\"stroke: #383838; stroke-width: 1.0;\"/><ellipse cx=\"582.3584\" cy=\"140.2764\" fill=\"#383838\" rx=\"2\" ry=\"2\" style=\"stroke: #383838; stroke-width: 1.0;\"/><ellipse cx=\"590.8073\" cy=\"145.6258\" fill=\"#383838\" rx=\"2\" ry=\"2\" style=\"stroke: #383838; stroke-width: 1.0;\"/></a><!--MD5=[ddeed8deb2209213b62e6cfabaa108b2]\n",
       "reverse link E4 to E2--><a href=\"psysml:16d77514-2de6-4c2c-add7-8b8555ca417f\" target=\"_top\" title=\"psysml:16d77514-2de6-4c2c-add7-8b8555ca417f\" xlink:actuate=\"onRequest\" xlink:href=\"psysml:16d77514-2de6-4c2c-add7-8b8555ca417f\" xlink:show=\"new\" xlink:title=\"psysml:16d77514-2de6-4c2c-add7-8b8555ca417f\" xlink:type=\"simple\"><path d=\"M519.62,99.96 C524.37,119.25 530.31,143.36 535.36,163.82 \" fill=\"none\" id=\"E4&lt;-E2\" style=\"stroke: #383838; stroke-width: 1.0;\"/><polygon fill=\"#FFFFFF\" points=\"516.47,87.19,514.0229,93.9732,519.3432,98.841,521.7903,92.0577,516.47,87.19\" style=\"stroke: #383838; stroke-width: 1.0;\"/><text fill=\"#000000\" font-family=\"sans-serif\" font-size=\"13\" lengthAdjust=\"spacingAndGlyphs\" textLength=\"8\" x=\"528\" y=\"130.0669\">p</text></a><!--MD5=[14492f85f9652d98a42412aa7a4bb99e]\n",
       "@startuml\r\n",
       " skinparam monochrome true\r\n",
       "skinparam classbackgroundcolor white\r\n",
       "skinparam shadowing false\r\n",
       "skinparam wrapWidth 300\r\n",
       "hide circle\r\n",
       "\r\n",
       "package \"ParameterTest\" as E1  [[psysml:0dacd990-2b3a-4306-80d2-1e4fad6d04cd ]]  {\r\n",
       "comp def \"A\" as E2  <<(T,blue)attribute def>> [[psysml:03a6349f-297b-4a78-b9ab-052989f96479 ]] {\r\n",
       "- - attributes - -\r\n",
       "x: String\r\n",
       "y: A\r\n",
       "}\r\n",
       "comp usage \"a: A\" as E3  <<(T,blue)attribute>> [[psysml:d7af749e-ffc6-4773-972a-b8dfcfe9deb8 ]] {\r\n",
       "}\r\n",
       "comp def \"F\" as E4  <<(T,blue)calculation def>> [[psysml:cd1262f4-d3f9-4f52-89ee-1653680ad782 ]] {\r\n",
       "}\r\n",
       "comp usage \"f\" as E5  <<(T,blue)attribute>> [[psysml:e43abf7c-a809-48bd-8c78-cd0a53fbbdb6 ]] {\r\n",
       "}\r\n",
       "comp usage \"g\" as E6  <<(T,blue)attribute>> [[psysml:04ff0b02-14ab-40e8-a866-ef9bcfd05ef7 ]] {\r\n",
       "}\r\n",
       "comp usage \"b\" as E7  <<(T,blue)attribute>> [[psysml:37f56aff-8c9f-4a8e-95e0-50132129fb99 ]] {\r\n",
       "}\r\n",
       "comp usage \"c\" as E8  <<(T,blue)attribute>> [[psysml:6095b787-d7f9-43be-8b1b-f534282edd43 ]] {\r\n",
       "}\r\n",
       "E3 - -:|> E2 [[psysml:982c8c0e-9af2-4f93-8067-230d5c39d8a2 ]] \r\n",
       "E4 o- - E2 [[psysml:16d77514-2de6-4c2c-add7-8b8555ca417f ]] : p\r\n",
       "}\r\n",
       "@enduml\r\n",
       "\n",
       "PlantUML version 1.2020.13(Sat Jun 13 12:26:38 UTC 2020)\n",
       "(EPL source distribution)\n",
       "Java Runtime: OpenJDK Runtime Environment\n",
       "JVM: OpenJDK 64-Bit Server VM\n",
       "Default Encoding: UTF-8\n",
       "Language: en\n",
       "Country: null\n",
       "--></g></svg>"
      ]
     },
     "execution_count": 3,
     "metadata": {},
     "output_type": "execute_result"
    }
   ],
   "source": [
    "%viz --style=\"COMPTREE\" --view=\"Tree\" \"ParameterTest\""
   ]
  },
  {
   "cell_type": "code",
   "execution_count": 4,
   "id": "operating-shelf",
   "metadata": {
    "execution": {
     "iopub.execute_input": "2021-03-24T16:28:52.412552Z",
     "iopub.status.busy": "2021-03-24T16:28:52.412221Z",
     "iopub.status.idle": "2021-03-24T16:28:52.421503Z",
     "shell.execute_reply": "2021-03-24T16:28:52.421814Z"
    }
   },
   "outputs": [
    {
     "data": {
      "image/svg+xml": [
       "<?xml version=\"1.0\" encoding=\"UTF-8\" standalone=\"no\"?><svg xmlns=\"http://www.w3.org/2000/svg\" xmlns:xlink=\"http://www.w3.org/1999/xlink\" contentScriptType=\"application/ecmascript\" contentStyleType=\"text/css\" height=\"12px\" preserveAspectRatio=\"none\" style=\"width:12px;height:12px;\" version=\"1.1\" viewBox=\"0 0 12 12\" width=\"12px\" zoomAndPan=\"magnify\"><defs/><g><!--MD5=[f19188ef49e11757b5c46753f95d9edc]\n",
       "@startuml\r\n",
       " skinparam monochrome true\r\n",
       "skinparam classbackgroundcolor white\r\n",
       "skinparam shadowing false\r\n",
       "skinparam wrapWidth 300\r\n",
       "hide circle\r\n",
       "\r\n",
       "@enduml\r\n",
       "\n",
       "PlantUML version 1.2020.13(Sat Jun 13 12:26:38 UTC 2020)\n",
       "(EPL source distribution)\n",
       "Java Runtime: OpenJDK Runtime Environment\n",
       "JVM: OpenJDK 64-Bit Server VM\n",
       "Default Encoding: UTF-8\n",
       "Language: en\n",
       "Country: null\n",
       "--></g></svg>"
      ]
     },
     "execution_count": 4,
     "metadata": {},
     "output_type": "execute_result"
    }
   ],
   "source": [
    "%viz --style=\"COMPTREE\" --view=\"State\" \"ParameterTest\""
   ]
  },
  {
   "cell_type": "code",
   "execution_count": 5,
   "id": "confidential-actor",
   "metadata": {
    "execution": {
     "iopub.execute_input": "2021-03-24T16:28:52.473264Z",
     "iopub.status.busy": "2021-03-24T16:28:52.472632Z",
     "iopub.status.idle": "2021-03-24T16:28:52.551571Z",
     "shell.execute_reply": "2021-03-24T16:28:52.551259Z"
    }
   },
   "outputs": [
    {
     "data": {
      "image/svg+xml": [
       "<?xml version=\"1.0\" encoding=\"UTF-8\" standalone=\"no\"?><svg xmlns=\"http://www.w3.org/2000/svg\" xmlns:xlink=\"http://www.w3.org/1999/xlink\" contentScriptType=\"application/ecmascript\" contentStyleType=\"text/css\" height=\"216px\" preserveAspectRatio=\"none\" style=\"width:740px;height:216px;\" version=\"1.1\" viewBox=\"0 0 740 216\" width=\"740px\" zoomAndPan=\"magnify\"><defs/><g><!--MD5=[fbc87193dbaf4d95561dea2c320d4a47]\n",
       "cluster E1--><a href=\"psysml:0dacd990-2b3a-4306-80d2-1e4fad6d04cd\" target=\"_top\" title=\"psysml:0dacd990-2b3a-4306-80d2-1e4fad6d04cd\" xlink:actuate=\"onRequest\" xlink:href=\"psysml:0dacd990-2b3a-4306-80d2-1e4fad6d04cd\" xlink:show=\"new\" xlink:title=\"psysml:0dacd990-2b3a-4306-80d2-1e4fad6d04cd\" xlink:type=\"simple\"><polygon fill=\"#FFFFFF\" points=\"16,6,139,6,146,28.2969,718,28.2969,718,204.72,16,204.72,16,6\" style=\"stroke: #000000; stroke-width: 1.5;\"/><line style=\"stroke: #000000; stroke-width: 1.5;\" x1=\"16\" x2=\"146\" y1=\"28.2969\" y2=\"28.2969\"/><text fill=\"#000000\" font-family=\"sans-serif\" font-size=\"14\" font-weight=\"bold\" lengthAdjust=\"spacingAndGlyphs\" textLength=\"117\" x=\"20\" y=\"20.9951\">ParameterTest</text></a><!--MD5=[f6df4d0ebaf0b5dfb2ced0ae5af7c670]\n",
       "cluster E4--><a href=\"psysml:cd1262f4-d3f9-4f52-89ee-1653680ad782\" target=\"_top\" title=\"psysml:cd1262f4-d3f9-4f52-89ee-1653680ad782\" xlink:actuate=\"onRequest\" xlink:href=\"psysml:cd1262f4-d3f9-4f52-89ee-1653680ad782\" xlink:show=\"new\" xlink:title=\"psysml:cd1262f4-d3f9-4f52-89ee-1653680ad782\" xlink:type=\"simple\"><rect fill=\"#FFFFFF\" height=\"110.72\" id=\"E4\" style=\"stroke: #383838; stroke-width: 1.5;\" width=\"148\" x=\"554\" y=\"64\"/><rect fill=\"#F8F8F8\" height=\"37.9375\" style=\"stroke: #383838; stroke-width: 1.5;\" width=\"148\" x=\"554\" y=\"64\"/><text fill=\"#000000\" font-family=\"sans-serif\" font-size=\"12\" font-style=\"italic\" lengthAdjust=\"spacingAndGlyphs\" textLength=\"106\" x=\"575\" y=\"80.1387\">«calculation def»</text><text fill=\"#000000\" font-family=\"sans-serif\" font-size=\"12\" lengthAdjust=\"spacingAndGlyphs\" textLength=\"7\" x=\"624.5\" y=\"94.1074\">F</text></a><g id=\"E1.E2\"><a href=\"psysml:03a6349f-297b-4a78-b9ab-052989f96479\" target=\"_top\" title=\"psysml:03a6349f-297b-4a78-b9ab-052989f96479\" xlink:actuate=\"onRequest\" xlink:href=\"psysml:03a6349f-297b-4a78-b9ab-052989f96479\" xlink:show=\"new\" xlink:title=\"psysml:03a6349f-297b-4a78-b9ab-052989f96479\" xlink:type=\"simple\"><rect fill=\"#FFFFFF\" height=\"42.9375\" id=\"E2\" style=\"stroke: #383838; stroke-width: 1.5;\" width=\"100\" x=\"417\" y=\"99\"/><rect fill=\"#F8F8F8\" height=\"37.9375\" style=\"stroke: #383838; stroke-width: 1.5;\" width=\"100\" x=\"417\" y=\"99\"/><text fill=\"#000000\" font-family=\"sans-serif\" font-size=\"12\" font-style=\"italic\" lengthAdjust=\"spacingAndGlyphs\" textLength=\"93\" x=\"420.5\" y=\"115.1387\">«attribute def»</text><text fill=\"#000000\" font-family=\"sans-serif\" font-size=\"12\" lengthAdjust=\"spacingAndGlyphs\" textLength=\"8\" x=\"463\" y=\"129.1074\">A</text></a></g><!--MD5=[09b614a08d8cba4a07c9adeb5e0fee81]\n",
       "class E3--><a href=\"psysml:d7af749e-ffc6-4773-972a-b8dfcfe9deb8\" target=\"_top\" title=\"psysml:d7af749e-ffc6-4773-972a-b8dfcfe9deb8\" xlink:actuate=\"onRequest\" xlink:href=\"psysml:d7af749e-ffc6-4773-972a-b8dfcfe9deb8\" xlink:show=\"new\" xlink:title=\"psysml:d7af749e-ffc6-4773-972a-b8dfcfe9deb8\" xlink:type=\"simple\"><rect fill=\"#FFFFFF\" height=\"45.9375\" id=\"E3\" rx=\"10\" ry=\"10\" style=\"stroke: #383838; stroke-width: 1.5;\" width=\"71\" x=\"456.5\" y=\"41\"/><text fill=\"#000000\" font-family=\"sans-serif\" font-size=\"12\" font-style=\"italic\" lengthAdjust=\"spacingAndGlyphs\" textLength=\"69\" x=\"457.5\" y=\"57.1387\">«attribute»</text><text fill=\"#000000\" font-family=\"sans-serif\" font-size=\"12\" lengthAdjust=\"spacingAndGlyphs\" textLength=\"24\" x=\"480\" y=\"71.1074\">a: A</text><line style=\"stroke: #383838; stroke-width: 1.5;\" x1=\"457.5\" x2=\"526.5\" y1=\"78.9375\" y2=\"78.9375\"/></a><!--MD5=[b9389687b975829384b498ac4b7476b2]\n",
       "class E8--><a href=\"psysml:e43abf7c-a809-48bd-8c78-cd0a53fbbdb6\" target=\"_top\" title=\"psysml:e43abf7c-a809-48bd-8c78-cd0a53fbbdb6\" xlink:actuate=\"onRequest\" xlink:href=\"psysml:e43abf7c-a809-48bd-8c78-cd0a53fbbdb6\" xlink:show=\"new\" xlink:title=\"psysml:e43abf7c-a809-48bd-8c78-cd0a53fbbdb6\" xlink:type=\"simple\"><rect fill=\"#FFFFFF\" height=\"45.9375\" id=\"E8\" rx=\"10\" ry=\"10\" style=\"stroke: #383838; stroke-width: 1.5;\" width=\"71\" x=\"350.5\" y=\"41\"/><text fill=\"#000000\" font-family=\"sans-serif\" font-size=\"12\" font-style=\"italic\" lengthAdjust=\"spacingAndGlyphs\" textLength=\"69\" x=\"351.5\" y=\"57.1387\">«attribute»</text><text fill=\"#000000\" font-family=\"sans-serif\" font-size=\"12\" lengthAdjust=\"spacingAndGlyphs\" textLength=\"4\" x=\"384\" y=\"71.1074\">f</text><line style=\"stroke: #383838; stroke-width: 1.5;\" x1=\"351.5\" x2=\"420.5\" y1=\"78.9375\" y2=\"78.9375\"/></a><!--MD5=[fd4143e9d270a159db93a4ea2a975926]\n",
       "class E9--><a href=\"psysml:04ff0b02-14ab-40e8-a866-ef9bcfd05ef7\" target=\"_top\" title=\"psysml:04ff0b02-14ab-40e8-a866-ef9bcfd05ef7\" xlink:actuate=\"onRequest\" xlink:href=\"psysml:04ff0b02-14ab-40e8-a866-ef9bcfd05ef7\" xlink:show=\"new\" xlink:title=\"psysml:04ff0b02-14ab-40e8-a866-ef9bcfd05ef7\" xlink:type=\"simple\"><rect fill=\"#FFFFFF\" height=\"45.9375\" id=\"E9\" rx=\"10\" ry=\"10\" style=\"stroke: #383838; stroke-width: 1.5;\" width=\"71\" x=\"244.5\" y=\"41\"/><text fill=\"#000000\" font-family=\"sans-serif\" font-size=\"12\" font-style=\"italic\" lengthAdjust=\"spacingAndGlyphs\" textLength=\"69\" x=\"245.5\" y=\"57.1387\">«attribute»</text><text fill=\"#000000\" font-family=\"sans-serif\" font-size=\"12\" lengthAdjust=\"spacingAndGlyphs\" textLength=\"8\" x=\"276\" y=\"71.1074\">g</text><line style=\"stroke: #383838; stroke-width: 1.5;\" x1=\"245.5\" x2=\"314.5\" y1=\"78.9375\" y2=\"78.9375\"/></a><!--MD5=[96f4274e9e20536e775497830990834d]\n",
       "class E10--><a href=\"psysml:37f56aff-8c9f-4a8e-95e0-50132129fb99\" target=\"_top\" title=\"psysml:37f56aff-8c9f-4a8e-95e0-50132129fb99\" xlink:actuate=\"onRequest\" xlink:href=\"psysml:37f56aff-8c9f-4a8e-95e0-50132129fb99\" xlink:show=\"new\" xlink:title=\"psysml:37f56aff-8c9f-4a8e-95e0-50132129fb99\" xlink:type=\"simple\"><rect fill=\"#FFFFFF\" height=\"45.9375\" id=\"E10\" rx=\"10\" ry=\"10\" style=\"stroke: #383838; stroke-width: 1.5;\" width=\"71\" x=\"138.5\" y=\"41\"/><text fill=\"#000000\" font-family=\"sans-serif\" font-size=\"12\" font-style=\"italic\" lengthAdjust=\"spacingAndGlyphs\" textLength=\"69\" x=\"139.5\" y=\"57.1387\">«attribute»</text><text fill=\"#000000\" font-family=\"sans-serif\" font-size=\"12\" lengthAdjust=\"spacingAndGlyphs\" textLength=\"8\" x=\"170\" y=\"71.1074\">b</text><line style=\"stroke: #383838; stroke-width: 1.5;\" x1=\"139.5\" x2=\"208.5\" y1=\"78.9375\" y2=\"78.9375\"/></a><!--MD5=[1dd1bfd58a279cf63c5f349dbc8fc6a1]\n",
       "class E11--><a href=\"psysml:6095b787-d7f9-43be-8b1b-f534282edd43\" target=\"_top\" title=\"psysml:6095b787-d7f9-43be-8b1b-f534282edd43\" xlink:actuate=\"onRequest\" xlink:href=\"psysml:6095b787-d7f9-43be-8b1b-f534282edd43\" xlink:show=\"new\" xlink:title=\"psysml:6095b787-d7f9-43be-8b1b-f534282edd43\" xlink:type=\"simple\"><rect fill=\"#FFFFFF\" height=\"45.9375\" id=\"E11\" rx=\"10\" ry=\"10\" style=\"stroke: #383838; stroke-width: 1.5;\" width=\"71\" x=\"32.5\" y=\"41\"/><text fill=\"#000000\" font-family=\"sans-serif\" font-size=\"12\" font-style=\"italic\" lengthAdjust=\"spacingAndGlyphs\" textLength=\"69\" x=\"33.5\" y=\"57.1387\">«attribute»</text><text fill=\"#000000\" font-family=\"sans-serif\" font-size=\"12\" lengthAdjust=\"spacingAndGlyphs\" textLength=\"7\" x=\"64.5\" y=\"71.1074\">c</text><line style=\"stroke: #383838; stroke-width: 1.5;\" x1=\"33.5\" x2=\"102.5\" y1=\"78.9375\" y2=\"78.9375\"/></a><text fill=\"#000000\" font-family=\"sans-serif\" font-size=\"14\" lengthAdjust=\"spacingAndGlyphs\" textLength=\"9\" x=\"567.5\" y=\"42.6982\">p</text><rect fill=\"#383838\" height=\"12\" style=\"stroke: #F8F8F8; stroke-width: 1.5;\" width=\"12\" x=\"566\" y=\"58\"/><text fill=\"#000000\" font-family=\"sans-serif\" font-size=\"14\" lengthAdjust=\"spacingAndGlyphs\" textLength=\"9\" x=\"614.5\" y=\"42.6982\">q</text><rect fill=\"#383838\" height=\"12\" style=\"stroke: #F8F8F8; stroke-width: 1.5;\" width=\"12\" x=\"613\" y=\"58\"/><text fill=\"#000000\" font-family=\"sans-serif\" font-size=\"14\" lengthAdjust=\"spacingAndGlyphs\" textLength=\"57\" x=\"590.5\" y=\"193.7151\">noname</text><rect fill=\"#383838\" height=\"12\" style=\"stroke: #F8F8F8; stroke-width: 1.5;\" width=\"12\" x=\"613\" y=\"168.72\"/><!--MD5=[05d275557350bfb9b23a4ef7222b4c39]\n",
       "link E3 to E2--><a href=\"psysml:982c8c0e-9af2-4f93-8067-230d5c39d8a2\" target=\"_top\" title=\"psysml:982c8c0e-9af2-4f93-8067-230d5c39d8a2\" xlink:actuate=\"onRequest\" xlink:href=\"psysml:982c8c0e-9af2-4f93-8067-230d5c39d8a2\" xlink:show=\"new\" xlink:title=\"psysml:982c8c0e-9af2-4f93-8067-230d5c39d8a2\" xlink:type=\"simple\"><path d=\"M481.83,87.17 C481.78,87.29 481.72,87.41 481.66,87.53 \" fill=\"none\" id=\"E3-&gt;E2\" style=\"stroke: #383838; stroke-width: 1.0;\"/><polygon fill=\"#FFFFFF\" points=\"476.43,98.93,477.977,78.7407,490.7056,84.5701,476.43,98.93\" style=\"stroke: #383838; stroke-width: 1.0;\"/><ellipse cx=\"482.1687\" cy=\"74.3911\" fill=\"#383838\" rx=\"2\" ry=\"2\" style=\"stroke: #383838; stroke-width: 1.0;\"/><ellipse cx=\"491.2606\" cy=\"78.555\" fill=\"#383838\" rx=\"2\" ry=\"2\" style=\"stroke: #383838; stroke-width: 1.0;\"/></a><!--MD5=[80ce99f6f6aae51ea6e380a97a149a82]\n",
       "@startuml\r\n",
       "skinparam ranksep 10\r\n",
       "skinparam rectangle {\r\n",
       " backgroundColor<<block>> LightGreen\r\n",
       "}\r\n",
       " skinparam monochrome true\r\n",
       "skinparam classbackgroundcolor white\r\n",
       "skinparam shadowing false\r\n",
       "skinparam wrapWidth 300\r\n",
       "hide circle\r\n",
       "\r\n",
       "package \"ParameterTest\" as E1  [[psysml:0dacd990-2b3a-4306-80d2-1e4fad6d04cd ]]  {\r\n",
       "def \"A\" as E2  <<(T,blue)attribute def>> [[psysml:03a6349f-297b-4a78-b9ab-052989f96479 ]] \r\n",
       "comp usage \"a: A\" as E3  <<(T,blue)attribute>> [[psysml:d7af749e-ffc6-4773-972a-b8dfcfe9deb8 ]] {\r\n",
       "}\r\n",
       "rec def \"F\" as E4  <<(T,blue)calculation def>> [[psysml:cd1262f4-d3f9-4f52-89ee-1653680ad782 ]] {\r\n",
       "portin \"p\" as E5  [[psysml:16d77514-2de6-4c2c-add7-8b8555ca417f ]] \r\n",
       "portin \"q\" as E6  [[psysml:85e14753-ca59-4cde-8265-18a8cb4b45d6 ]] \r\n",
       "portout \"noname\" as E7  [[psysml:99b94083-4aa7-41fb-8d8e-135498f03bbe ]] \r\n",
       "}\r\n",
       "\r\n",
       "comp usage \"f\" as E8  <<(T,blue)attribute>> [[psysml:e43abf7c-a809-48bd-8c78-cd0a53fbbdb6 ]] {\r\n",
       "}\r\n",
       "comp usage \"g\" as E9  <<(T,blue)attribute>> [[psysml:04ff0b02-14ab-40e8-a866-ef9bcfd05ef7 ]] {\r\n",
       "}\r\n",
       "comp usage \"b\" as E10  <<(T,blue)attribute>> [[psysml:37f56aff-8c9f-4a8e-95e0-50132129fb99 ]] {\r\n",
       "}\r\n",
       "comp usage \"c\" as E11  <<(T,blue)attribute>> [[psysml:6095b787-d7f9-43be-8b1b-f534282edd43 ]] {\r\n",
       "}\r\n",
       "E3 - -:|> E2 [[psysml:982c8c0e-9af2-4f93-8067-230d5c39d8a2 ]] \r\n",
       "}\r\n",
       "@enduml\r\n",
       "\n",
       "PlantUML version 1.2020.13(Sat Jun 13 12:26:38 UTC 2020)\n",
       "(EPL source distribution)\n",
       "Java Runtime: OpenJDK Runtime Environment\n",
       "JVM: OpenJDK 64-Bit Server VM\n",
       "Default Encoding: UTF-8\n",
       "Language: en\n",
       "Country: null\n",
       "--></g></svg>"
      ]
     },
     "execution_count": 5,
     "metadata": {},
     "output_type": "execute_result"
    }
   ],
   "source": [
    "%viz --style=\"COMPTREE\" --view=\"Interconnection\" \"ParameterTest\""
   ]
  },
  {
   "cell_type": "code",
   "execution_count": 6,
   "id": "powerful-justice",
   "metadata": {
    "execution": {
     "iopub.execute_input": "2021-03-24T16:28:52.601809Z",
     "iopub.status.busy": "2021-03-24T16:28:52.601378Z",
     "iopub.status.idle": "2021-03-24T16:28:52.640682Z",
     "shell.execute_reply": "2021-03-24T16:28:52.640374Z"
    }
   },
   "outputs": [
    {
     "data": {
      "image/svg+xml": [
       "<?xml version=\"1.0\" encoding=\"UTF-8\" standalone=\"no\"?><svg xmlns=\"http://www.w3.org/2000/svg\" xmlns:xlink=\"http://www.w3.org/1999/xlink\" contentScriptType=\"application/ecmascript\" contentStyleType=\"text/css\" height=\"162px\" preserveAspectRatio=\"none\" style=\"width:166px;height:162px;\" version=\"1.1\" viewBox=\"0 0 166 162\" width=\"166px\" zoomAndPan=\"magnify\"><defs/><g><!--MD5=[fbc87193dbaf4d95561dea2c320d4a47]\n",
       "cluster E1--><a href=\"psysml:cd1262f4-d3f9-4f52-89ee-1653680ad782\" target=\"_top\" title=\"psysml:cd1262f4-d3f9-4f52-89ee-1653680ad782\" xlink:actuate=\"onRequest\" xlink:href=\"psysml:cd1262f4-d3f9-4f52-89ee-1653680ad782\" xlink:show=\"new\" xlink:title=\"psysml:cd1262f4-d3f9-4f52-89ee-1653680ad782\" xlink:type=\"simple\"><rect fill=\"#FFFFFF\" height=\"87.72\" id=\"E1\" style=\"stroke: #383838; stroke-width: 1.5;\" width=\"148\" x=\"7\" y=\"42.0986\"/><rect fill=\"#F8F8F8\" height=\"37.9375\" style=\"stroke: #383838; stroke-width: 1.5;\" width=\"148\" x=\"7\" y=\"42.0986\"/><text fill=\"#000000\" font-family=\"sans-serif\" font-size=\"12\" font-style=\"italic\" lengthAdjust=\"spacingAndGlyphs\" textLength=\"106\" x=\"28\" y=\"58.2373\">«calculation def»</text><text fill=\"#000000\" font-family=\"sans-serif\" font-size=\"12\" lengthAdjust=\"spacingAndGlyphs\" textLength=\"7\" x=\"77.5\" y=\"72.2061\">F</text></a><text fill=\"#000000\" font-family=\"sans-serif\" font-size=\"14\" lengthAdjust=\"spacingAndGlyphs\" textLength=\"9\" x=\"20.5\" y=\"20.7969\">p</text><rect fill=\"#383838\" height=\"12\" style=\"stroke: #F8F8F8; stroke-width: 1.5;\" width=\"12\" x=\"19\" y=\"36.0986\"/><text fill=\"#000000\" font-family=\"sans-serif\" font-size=\"14\" lengthAdjust=\"spacingAndGlyphs\" textLength=\"9\" x=\"67.5\" y=\"20.7969\">q</text><rect fill=\"#383838\" height=\"12\" style=\"stroke: #F8F8F8; stroke-width: 1.5;\" width=\"12\" x=\"66\" y=\"36.0986\"/><text fill=\"#000000\" font-family=\"sans-serif\" font-size=\"14\" lengthAdjust=\"spacingAndGlyphs\" textLength=\"57\" x=\"43.5\" y=\"148.8138\">noname</text><rect fill=\"#383838\" height=\"12\" style=\"stroke: #F8F8F8; stroke-width: 1.5;\" width=\"12\" x=\"66\" y=\"123.8186\"/><!--MD5=[8c991c6b63810770a2600dde7105131f]\n",
       "@startuml\r\n",
       "skinparam ranksep 8\r\n",
       " skinparam monochrome true\r\n",
       "skinparam classbackgroundcolor white\r\n",
       "skinparam shadowing false\r\n",
       "skinparam wrapWidth 300\r\n",
       "hide circle\r\n",
       "\r\n",
       "rec def \"F\" as E1  <<(T,blue)calculation def>> [[psysml:cd1262f4-d3f9-4f52-89ee-1653680ad782 ]] {\r\n",
       "portin \"p\" as E2  [[psysml:16d77514-2de6-4c2c-add7-8b8555ca417f ]] \r\n",
       "portin \"q\" as E3  [[psysml:85e14753-ca59-4cde-8265-18a8cb4b45d6 ]] \r\n",
       "portout \"noname\" as E4  [[psysml:99b94083-4aa7-41fb-8d8e-135498f03bbe ]] \r\n",
       "}\r\n",
       "\r\n",
       "@enduml\r\n",
       "\n",
       "PlantUML version 1.2020.13(Sat Jun 13 12:26:38 UTC 2020)\n",
       "(EPL source distribution)\n",
       "Java Runtime: OpenJDK Runtime Environment\n",
       "JVM: OpenJDK 64-Bit Server VM\n",
       "Default Encoding: UTF-8\n",
       "Language: en\n",
       "Country: null\n",
       "--></g></svg>"
      ]
     },
     "execution_count": 6,
     "metadata": {},
     "output_type": "execute_result"
    }
   ],
   "source": [
    "%viz --style=\"COMPTREE\" --view=\"Action\" \"ParameterTest\""
   ]
  },
  {
   "cell_type": "code",
   "execution_count": 7,
   "id": "incorporate-variety",
   "metadata": {
    "execution": {
     "iopub.execute_input": "2021-03-24T16:28:52.695602Z",
     "iopub.status.busy": "2021-03-24T16:28:52.695213Z",
     "iopub.status.idle": "2021-03-24T16:28:52.774618Z",
     "shell.execute_reply": "2021-03-24T16:28:52.773320Z"
    }
   },
   "outputs": [
    {
     "data": {
      "image/svg+xml": [
       "<?xml version=\"1.0\" encoding=\"UTF-8\" standalone=\"no\"?><svg xmlns=\"http://www.w3.org/2000/svg\" xmlns:xlink=\"http://www.w3.org/1999/xlink\" contentScriptType=\"application/ecmascript\" contentStyleType=\"text/css\" height=\"280px\" preserveAspectRatio=\"none\" style=\"width:710px;height:280px;\" version=\"1.1\" viewBox=\"0 0 710 280\" width=\"710px\" zoomAndPan=\"magnify\"><defs/><g><!--MD5=[fbc87193dbaf4d95561dea2c320d4a47]\n",
       "cluster E1--><a href=\"psysml:0dacd990-2b3a-4306-80d2-1e4fad6d04cd\" target=\"_top\" title=\"psysml:0dacd990-2b3a-4306-80d2-1e4fad6d04cd\" xlink:actuate=\"onRequest\" xlink:href=\"psysml:0dacd990-2b3a-4306-80d2-1e4fad6d04cd\" xlink:show=\"new\" xlink:title=\"psysml:0dacd990-2b3a-4306-80d2-1e4fad6d04cd\" xlink:type=\"simple\"><polygon fill=\"#FFFFFF\" points=\"16,6,139,6,146,28.2969,688,28.2969,688,268,16,268,16,6\" style=\"stroke: #000000; stroke-width: 1.5;\"/><line style=\"stroke: #000000; stroke-width: 1.5;\" x1=\"16\" x2=\"146\" y1=\"28.2969\" y2=\"28.2969\"/><text fill=\"#000000\" font-family=\"sans-serif\" font-size=\"14\" font-weight=\"bold\" lengthAdjust=\"spacingAndGlyphs\" textLength=\"117\" x=\"20\" y=\"20.9951\">ParameterTest</text></a><!--MD5=[b4997ac47864f28c2f74865a473b2911]\n",
       "class E2--><a href=\"psysml:03a6349f-297b-4a78-b9ab-052989f96479\" target=\"_top\" title=\"psysml:03a6349f-297b-4a78-b9ab-052989f96479\" xlink:actuate=\"onRequest\" xlink:href=\"psysml:03a6349f-297b-4a78-b9ab-052989f96479\" xlink:show=\"new\" xlink:title=\"psysml:03a6349f-297b-4a78-b9ab-052989f96479\" xlink:type=\"simple\"><rect fill=\"#FFFFFF\" height=\"88.3516\" id=\"E2\" style=\"stroke: #383838; stroke-width: 1.5;\" width=\"95\" x=\"498.5\" y=\"164\"/><text fill=\"#000000\" font-family=\"sans-serif\" font-size=\"12\" font-style=\"italic\" lengthAdjust=\"spacingAndGlyphs\" textLength=\"93\" x=\"499.5\" y=\"180.1387\">«attribute def»</text><text fill=\"#000000\" font-family=\"sans-serif\" font-size=\"12\" lengthAdjust=\"spacingAndGlyphs\" textLength=\"8\" x=\"542\" y=\"194.1074\">A</text><line style=\"stroke: #383838; stroke-width: 1.5;\" x1=\"499.5\" x2=\"592.5\" y1=\"201.9375\" y2=\"201.9375\"/><text fill=\"#000000\" font-family=\"sans-serif\" font-size=\"11\" lengthAdjust=\"spacingAndGlyphs\" textLength=\"48\" x=\"504.5\" y=\"232.9526\">x: String</text><text fill=\"#000000\" font-family=\"sans-serif\" font-size=\"11\" lengthAdjust=\"spacingAndGlyphs\" textLength=\"21\" x=\"504.5\" y=\"245.7573\">y: A</text><line style=\"stroke: #383838; stroke-width: 1.0;\" x1=\"499.5\" x2=\"518.5\" y1=\"216.3398\" y2=\"216.3398\"/><text fill=\"#000000\" font-family=\"sans-serif\" font-size=\"11\" lengthAdjust=\"spacingAndGlyphs\" textLength=\"55\" x=\"518.5\" y=\"219.6479\">attributes</text><line style=\"stroke: #383838; stroke-width: 1.0;\" x1=\"573.5\" x2=\"592.5\" y1=\"216.3398\" y2=\"216.3398\"/></a><!--MD5=[09b614a08d8cba4a07c9adeb5e0fee81]\n",
       "class E3--><a href=\"psysml:d7af749e-ffc6-4773-972a-b8dfcfe9deb8\" target=\"_top\" title=\"psysml:d7af749e-ffc6-4773-972a-b8dfcfe9deb8\" xlink:actuate=\"onRequest\" xlink:href=\"psysml:d7af749e-ffc6-4773-972a-b8dfcfe9deb8\" xlink:show=\"new\" xlink:title=\"psysml:d7af749e-ffc6-4773-972a-b8dfcfe9deb8\" xlink:type=\"simple\"><rect fill=\"#FFFFFF\" height=\"45.9375\" id=\"E3\" rx=\"10\" ry=\"10\" style=\"stroke: #383838; stroke-width: 1.5;\" width=\"71\" x=\"600.5\" y=\"41\"/><text fill=\"#000000\" font-family=\"sans-serif\" font-size=\"12\" font-style=\"italic\" lengthAdjust=\"spacingAndGlyphs\" textLength=\"69\" x=\"601.5\" y=\"57.1387\">«attribute»</text><text fill=\"#000000\" font-family=\"sans-serif\" font-size=\"12\" lengthAdjust=\"spacingAndGlyphs\" textLength=\"24\" x=\"624\" y=\"71.1074\">a: A</text><line style=\"stroke: #383838; stroke-width: 1.5;\" x1=\"601.5\" x2=\"670.5\" y1=\"78.9375\" y2=\"78.9375\"/></a><!--MD5=[ebbe1d658d1005bcc118a6aa81145e00]\n",
       "class E4--><a href=\"psysml:cd1262f4-d3f9-4f52-89ee-1653680ad782\" target=\"_top\" title=\"psysml:cd1262f4-d3f9-4f52-89ee-1653680ad782\" xlink:actuate=\"onRequest\" xlink:href=\"psysml:cd1262f4-d3f9-4f52-89ee-1653680ad782\" xlink:show=\"new\" xlink:title=\"psysml:cd1262f4-d3f9-4f52-89ee-1653680ad782\" xlink:type=\"simple\"><rect fill=\"#FFFFFF\" height=\"45.9375\" id=\"E4\" style=\"stroke: #383838; stroke-width: 1.5;\" width=\"108\" x=\"457\" y=\"41\"/><text fill=\"#000000\" font-family=\"sans-serif\" font-size=\"12\" font-style=\"italic\" lengthAdjust=\"spacingAndGlyphs\" textLength=\"106\" x=\"458\" y=\"57.1387\">«calculation def»</text><text fill=\"#000000\" font-family=\"sans-serif\" font-size=\"12\" lengthAdjust=\"spacingAndGlyphs\" textLength=\"7\" x=\"507.5\" y=\"71.1074\">F</text><line style=\"stroke: #383838; stroke-width: 1.5;\" x1=\"458\" x2=\"564\" y1=\"78.9375\" y2=\"78.9375\"/></a><!--MD5=[270fce915f116d4de14055a7c1d9a0f3]\n",
       "class E5--><a href=\"psysml:e43abf7c-a809-48bd-8c78-cd0a53fbbdb6\" target=\"_top\" title=\"psysml:e43abf7c-a809-48bd-8c78-cd0a53fbbdb6\" xlink:actuate=\"onRequest\" xlink:href=\"psysml:e43abf7c-a809-48bd-8c78-cd0a53fbbdb6\" xlink:show=\"new\" xlink:title=\"psysml:e43abf7c-a809-48bd-8c78-cd0a53fbbdb6\" xlink:type=\"simple\"><rect fill=\"#FFFFFF\" height=\"45.9375\" id=\"E5\" rx=\"10\" ry=\"10\" style=\"stroke: #383838; stroke-width: 1.5;\" width=\"71\" x=\"350.5\" y=\"41\"/><text fill=\"#000000\" font-family=\"sans-serif\" font-size=\"12\" font-style=\"italic\" lengthAdjust=\"spacingAndGlyphs\" textLength=\"69\" x=\"351.5\" y=\"57.1387\">«attribute»</text><text fill=\"#000000\" font-family=\"sans-serif\" font-size=\"12\" lengthAdjust=\"spacingAndGlyphs\" textLength=\"4\" x=\"384\" y=\"71.1074\">f</text><line style=\"stroke: #383838; stroke-width: 1.5;\" x1=\"351.5\" x2=\"420.5\" y1=\"78.9375\" y2=\"78.9375\"/></a><!--MD5=[60a26617385b1d2d0262a64233df1f8d]\n",
       "class E6--><a href=\"psysml:04ff0b02-14ab-40e8-a866-ef9bcfd05ef7\" target=\"_top\" title=\"psysml:04ff0b02-14ab-40e8-a866-ef9bcfd05ef7\" xlink:actuate=\"onRequest\" xlink:href=\"psysml:04ff0b02-14ab-40e8-a866-ef9bcfd05ef7\" xlink:show=\"new\" xlink:title=\"psysml:04ff0b02-14ab-40e8-a866-ef9bcfd05ef7\" xlink:type=\"simple\"><rect fill=\"#FFFFFF\" height=\"45.9375\" id=\"E6\" rx=\"10\" ry=\"10\" style=\"stroke: #383838; stroke-width: 1.5;\" width=\"71\" x=\"244.5\" y=\"41\"/><text fill=\"#000000\" font-family=\"sans-serif\" font-size=\"12\" font-style=\"italic\" lengthAdjust=\"spacingAndGlyphs\" textLength=\"69\" x=\"245.5\" y=\"57.1387\">«attribute»</text><text fill=\"#000000\" font-family=\"sans-serif\" font-size=\"12\" lengthAdjust=\"spacingAndGlyphs\" textLength=\"8\" x=\"276\" y=\"71.1074\">g</text><line style=\"stroke: #383838; stroke-width: 1.5;\" x1=\"245.5\" x2=\"314.5\" y1=\"78.9375\" y2=\"78.9375\"/></a><!--MD5=[2156ba9850f5573cc1fc38a6a4b2f02b]\n",
       "class E7--><a href=\"psysml:37f56aff-8c9f-4a8e-95e0-50132129fb99\" target=\"_top\" title=\"psysml:37f56aff-8c9f-4a8e-95e0-50132129fb99\" xlink:actuate=\"onRequest\" xlink:href=\"psysml:37f56aff-8c9f-4a8e-95e0-50132129fb99\" xlink:show=\"new\" xlink:title=\"psysml:37f56aff-8c9f-4a8e-95e0-50132129fb99\" xlink:type=\"simple\"><rect fill=\"#FFFFFF\" height=\"45.9375\" id=\"E7\" rx=\"10\" ry=\"10\" style=\"stroke: #383838; stroke-width: 1.5;\" width=\"71\" x=\"138.5\" y=\"41\"/><text fill=\"#000000\" font-family=\"sans-serif\" font-size=\"12\" font-style=\"italic\" lengthAdjust=\"spacingAndGlyphs\" textLength=\"69\" x=\"139.5\" y=\"57.1387\">«attribute»</text><text fill=\"#000000\" font-family=\"sans-serif\" font-size=\"12\" lengthAdjust=\"spacingAndGlyphs\" textLength=\"8\" x=\"170\" y=\"71.1074\">b</text><line style=\"stroke: #383838; stroke-width: 1.5;\" x1=\"139.5\" x2=\"208.5\" y1=\"78.9375\" y2=\"78.9375\"/></a><!--MD5=[b9389687b975829384b498ac4b7476b2]\n",
       "class E8--><a href=\"psysml:6095b787-d7f9-43be-8b1b-f534282edd43\" target=\"_top\" title=\"psysml:6095b787-d7f9-43be-8b1b-f534282edd43\" xlink:actuate=\"onRequest\" xlink:href=\"psysml:6095b787-d7f9-43be-8b1b-f534282edd43\" xlink:show=\"new\" xlink:title=\"psysml:6095b787-d7f9-43be-8b1b-f534282edd43\" xlink:type=\"simple\"><rect fill=\"#FFFFFF\" height=\"45.9375\" id=\"E8\" rx=\"10\" ry=\"10\" style=\"stroke: #383838; stroke-width: 1.5;\" width=\"71\" x=\"32.5\" y=\"41\"/><text fill=\"#000000\" font-family=\"sans-serif\" font-size=\"12\" font-style=\"italic\" lengthAdjust=\"spacingAndGlyphs\" textLength=\"69\" x=\"33.5\" y=\"57.1387\">«attribute»</text><text fill=\"#000000\" font-family=\"sans-serif\" font-size=\"12\" lengthAdjust=\"spacingAndGlyphs\" textLength=\"7\" x=\"64.5\" y=\"71.1074\">c</text><line style=\"stroke: #383838; stroke-width: 1.5;\" x1=\"33.5\" x2=\"102.5\" y1=\"78.9375\" y2=\"78.9375\"/></a><!--MD5=[05d275557350bfb9b23a4ef7222b4c39]\n",
       "link E3 to E2--><a href=\"psysml:982c8c0e-9af2-4f93-8067-230d5c39d8a2\" target=\"_top\" title=\"psysml:982c8c0e-9af2-4f93-8067-230d5c39d8a2\" xlink:actuate=\"onRequest\" xlink:href=\"psysml:982c8c0e-9af2-4f93-8067-230d5c39d8a2\" xlink:show=\"new\" xlink:title=\"psysml:982c8c0e-9af2-4f93-8067-230d5c39d8a2\" xlink:type=\"simple\"><path d=\"M621.94,87.19 C611.77,103.23 597.51,125.73 584.09,146.9 \" fill=\"none\" id=\"E3-&gt;E2\" style=\"stroke: #383838; stroke-width: 1.0;\"/><polygon fill=\"#FFFFFF\" points=\"573.37,163.82,577.6195,144.0225,589.448,151.5115,573.37,163.82\" style=\"stroke: #383838; stroke-width: 1.0;\"/><ellipse cx=\"582.3584\" cy=\"140.2764\" fill=\"#383838\" rx=\"2\" ry=\"2\" style=\"stroke: #383838; stroke-width: 1.0;\"/><ellipse cx=\"590.8073\" cy=\"145.6258\" fill=\"#383838\" rx=\"2\" ry=\"2\" style=\"stroke: #383838; stroke-width: 1.0;\"/></a><!--MD5=[ddeed8deb2209213b62e6cfabaa108b2]\n",
       "reverse link E4 to E2--><a href=\"psysml:16d77514-2de6-4c2c-add7-8b8555ca417f\" target=\"_top\" title=\"psysml:16d77514-2de6-4c2c-add7-8b8555ca417f\" xlink:actuate=\"onRequest\" xlink:href=\"psysml:16d77514-2de6-4c2c-add7-8b8555ca417f\" xlink:show=\"new\" xlink:title=\"psysml:16d77514-2de6-4c2c-add7-8b8555ca417f\" xlink:type=\"simple\"><path d=\"M519.62,99.96 C524.37,119.25 530.31,143.36 535.36,163.82 \" fill=\"none\" id=\"E4&lt;-E2\" style=\"stroke: #383838; stroke-width: 1.0;\"/><polygon fill=\"#FFFFFF\" points=\"516.47,87.19,514.0229,93.9732,519.3432,98.841,521.7903,92.0577,516.47,87.19\" style=\"stroke: #383838; stroke-width: 1.0;\"/><text fill=\"#000000\" font-family=\"sans-serif\" font-size=\"13\" lengthAdjust=\"spacingAndGlyphs\" textLength=\"8\" x=\"528\" y=\"130.0669\">p</text></a><!--MD5=[14492f85f9652d98a42412aa7a4bb99e]\n",
       "@startuml\r\n",
       " skinparam monochrome true\r\n",
       "skinparam classbackgroundcolor white\r\n",
       "skinparam shadowing false\r\n",
       "skinparam wrapWidth 300\r\n",
       "hide circle\r\n",
       "\r\n",
       "package \"ParameterTest\" as E1  [[psysml:0dacd990-2b3a-4306-80d2-1e4fad6d04cd ]]  {\r\n",
       "comp def \"A\" as E2  <<(T,blue)attribute def>> [[psysml:03a6349f-297b-4a78-b9ab-052989f96479 ]] {\r\n",
       "- - attributes - -\r\n",
       "x: String\r\n",
       "y: A\r\n",
       "}\r\n",
       "comp usage \"a: A\" as E3  <<(T,blue)attribute>> [[psysml:d7af749e-ffc6-4773-972a-b8dfcfe9deb8 ]] {\r\n",
       "}\r\n",
       "comp def \"F\" as E4  <<(T,blue)calculation def>> [[psysml:cd1262f4-d3f9-4f52-89ee-1653680ad782 ]] {\r\n",
       "}\r\n",
       "comp usage \"f\" as E5  <<(T,blue)attribute>> [[psysml:e43abf7c-a809-48bd-8c78-cd0a53fbbdb6 ]] {\r\n",
       "}\r\n",
       "comp usage \"g\" as E6  <<(T,blue)attribute>> [[psysml:04ff0b02-14ab-40e8-a866-ef9bcfd05ef7 ]] {\r\n",
       "}\r\n",
       "comp usage \"b\" as E7  <<(T,blue)attribute>> [[psysml:37f56aff-8c9f-4a8e-95e0-50132129fb99 ]] {\r\n",
       "}\r\n",
       "comp usage \"c\" as E8  <<(T,blue)attribute>> [[psysml:6095b787-d7f9-43be-8b1b-f534282edd43 ]] {\r\n",
       "}\r\n",
       "E3 - -:|> E2 [[psysml:982c8c0e-9af2-4f93-8067-230d5c39d8a2 ]] \r\n",
       "E4 o- - E2 [[psysml:16d77514-2de6-4c2c-add7-8b8555ca417f ]] : p\r\n",
       "}\r\n",
       "@enduml\r\n",
       "\n",
       "PlantUML version 1.2020.13(Sat Jun 13 12:26:38 UTC 2020)\n",
       "(EPL source distribution)\n",
       "Java Runtime: OpenJDK Runtime Environment\n",
       "JVM: OpenJDK 64-Bit Server VM\n",
       "Default Encoding: UTF-8\n",
       "Language: en\n",
       "Country: null\n",
       "--></g></svg>"
      ]
     },
     "execution_count": 7,
     "metadata": {},
     "output_type": "execute_result"
    }
   ],
   "source": [
    "%viz --style=\"COMPTREE\" --view=\"Sequence\" \"ParameterTest\""
   ]
  },
  {
   "cell_type": "code",
   "execution_count": 8,
   "id": "hollywood-terminology",
   "metadata": {
    "execution": {
     "iopub.execute_input": "2021-03-24T16:28:52.825283Z",
     "iopub.status.busy": "2021-03-24T16:28:52.824776Z",
     "iopub.status.idle": "2021-03-24T16:28:52.898056Z",
     "shell.execute_reply": "2021-03-24T16:28:52.894432Z"
    }
   },
   "outputs": [
    {
     "data": {
      "image/svg+xml": [
       "<?xml version=\"1.0\" encoding=\"UTF-8\" standalone=\"no\"?><svg xmlns=\"http://www.w3.org/2000/svg\" xmlns:xlink=\"http://www.w3.org/1999/xlink\" contentScriptType=\"application/ecmascript\" contentStyleType=\"text/css\" height=\"403px\" preserveAspectRatio=\"none\" style=\"width:740px;height:403px;\" version=\"1.1\" viewBox=\"0 0 740 403\" width=\"740px\" zoomAndPan=\"magnify\"><defs/><g><!--MD5=[fbc87193dbaf4d95561dea2c320d4a47]\n",
       "cluster E1--><a href=\"psysml:0dacd990-2b3a-4306-80d2-1e4fad6d04cd\" target=\"_top\" title=\"psysml:0dacd990-2b3a-4306-80d2-1e4fad6d04cd\" xlink:actuate=\"onRequest\" xlink:href=\"psysml:0dacd990-2b3a-4306-80d2-1e4fad6d04cd\" xlink:show=\"new\" xlink:title=\"psysml:0dacd990-2b3a-4306-80d2-1e4fad6d04cd\" xlink:type=\"simple\"><polygon fill=\"#FFFFFF\" points=\"16,6,139,6,146,28.2969,718,28.2969,718,391.72,16,391.72,16,6\" style=\"stroke: #000000; stroke-width: 1.5;\"/><line style=\"stroke: #000000; stroke-width: 1.5;\" x1=\"16\" x2=\"146\" y1=\"28.2969\" y2=\"28.2969\"/><text fill=\"#000000\" font-family=\"sans-serif\" font-size=\"14\" font-weight=\"bold\" lengthAdjust=\"spacingAndGlyphs\" textLength=\"117\" x=\"20\" y=\"20.9951\">ParameterTest</text></a><!--MD5=[f6df4d0ebaf0b5dfb2ced0ae5af7c670]\n",
       "cluster E4--><a href=\"psysml:cd1262f4-d3f9-4f52-89ee-1653680ad782\" target=\"_top\" title=\"psysml:cd1262f4-d3f9-4f52-89ee-1653680ad782\" xlink:actuate=\"onRequest\" xlink:href=\"psysml:cd1262f4-d3f9-4f52-89ee-1653680ad782\" xlink:show=\"new\" xlink:title=\"psysml:cd1262f4-d3f9-4f52-89ee-1653680ad782\" xlink:type=\"simple\"><rect fill=\"#FFFFFF\" height=\"297.72\" id=\"E4\" style=\"stroke: #383838; stroke-width: 1.5;\" width=\"148\" x=\"554\" y=\"64\"/><rect fill=\"#F8F8F8\" height=\"37.9375\" style=\"stroke: #383838; stroke-width: 1.5;\" width=\"148\" x=\"554\" y=\"64\"/><text fill=\"#000000\" font-family=\"sans-serif\" font-size=\"12\" font-style=\"italic\" lengthAdjust=\"spacingAndGlyphs\" textLength=\"106\" x=\"575\" y=\"80.1387\">«calculation def»</text><text fill=\"#000000\" font-family=\"sans-serif\" font-size=\"12\" lengthAdjust=\"spacingAndGlyphs\" textLength=\"7\" x=\"624.5\" y=\"94.1074\">F</text></a><!--MD5=[b4997ac47864f28c2f74865a473b2911]\n",
       "class E2--><a href=\"psysml:03a6349f-297b-4a78-b9ab-052989f96479\" target=\"_top\" title=\"psysml:03a6349f-297b-4a78-b9ab-052989f96479\" xlink:actuate=\"onRequest\" xlink:href=\"psysml:03a6349f-297b-4a78-b9ab-052989f96479\" xlink:show=\"new\" xlink:title=\"psysml:03a6349f-297b-4a78-b9ab-052989f96479\" xlink:type=\"simple\"><rect fill=\"#FFFFFF\" height=\"88.3516\" id=\"E2\" style=\"stroke: #383838; stroke-width: 1.5;\" width=\"95\" x=\"422.5\" y=\"147\"/><text fill=\"#000000\" font-family=\"sans-serif\" font-size=\"12\" font-style=\"italic\" lengthAdjust=\"spacingAndGlyphs\" textLength=\"93\" x=\"423.5\" y=\"163.1387\">«attribute def»</text><text fill=\"#000000\" font-family=\"sans-serif\" font-size=\"12\" lengthAdjust=\"spacingAndGlyphs\" textLength=\"8\" x=\"466\" y=\"177.1074\">A</text><line style=\"stroke: #383838; stroke-width: 1.5;\" x1=\"423.5\" x2=\"516.5\" y1=\"184.9375\" y2=\"184.9375\"/><text fill=\"#000000\" font-family=\"sans-serif\" font-size=\"11\" lengthAdjust=\"spacingAndGlyphs\" textLength=\"48\" x=\"428.5\" y=\"215.9526\">x: String</text><text fill=\"#000000\" font-family=\"sans-serif\" font-size=\"11\" lengthAdjust=\"spacingAndGlyphs\" textLength=\"21\" x=\"428.5\" y=\"228.7573\">y: A</text><line style=\"stroke: #383838; stroke-width: 1.0;\" x1=\"423.5\" x2=\"442.5\" y1=\"199.3398\" y2=\"199.3398\"/><text fill=\"#000000\" font-family=\"sans-serif\" font-size=\"11\" lengthAdjust=\"spacingAndGlyphs\" textLength=\"55\" x=\"442.5\" y=\"202.6479\">attributes</text><line style=\"stroke: #383838; stroke-width: 1.0;\" x1=\"497.5\" x2=\"516.5\" y1=\"199.3398\" y2=\"199.3398\"/></a><!--MD5=[09b614a08d8cba4a07c9adeb5e0fee81]\n",
       "class E3--><a href=\"psysml:d7af749e-ffc6-4773-972a-b8dfcfe9deb8\" target=\"_top\" title=\"psysml:d7af749e-ffc6-4773-972a-b8dfcfe9deb8\" xlink:actuate=\"onRequest\" xlink:href=\"psysml:d7af749e-ffc6-4773-972a-b8dfcfe9deb8\" xlink:show=\"new\" xlink:title=\"psysml:d7af749e-ffc6-4773-972a-b8dfcfe9deb8\" xlink:type=\"simple\"><rect fill=\"#FFFFFF\" height=\"45.9375\" id=\"E3\" rx=\"10\" ry=\"10\" style=\"stroke: #383838; stroke-width: 1.5;\" width=\"71\" x=\"456.5\" y=\"41\"/><text fill=\"#000000\" font-family=\"sans-serif\" font-size=\"12\" font-style=\"italic\" lengthAdjust=\"spacingAndGlyphs\" textLength=\"69\" x=\"457.5\" y=\"57.1387\">«attribute»</text><text fill=\"#000000\" font-family=\"sans-serif\" font-size=\"12\" lengthAdjust=\"spacingAndGlyphs\" textLength=\"24\" x=\"480\" y=\"71.1074\">a: A</text><line style=\"stroke: #383838; stroke-width: 1.5;\" x1=\"457.5\" x2=\"526.5\" y1=\"78.9375\" y2=\"78.9375\"/></a><!--MD5=[b9389687b975829384b498ac4b7476b2]\n",
       "class E8--><a href=\"psysml:e43abf7c-a809-48bd-8c78-cd0a53fbbdb6\" target=\"_top\" title=\"psysml:e43abf7c-a809-48bd-8c78-cd0a53fbbdb6\" xlink:actuate=\"onRequest\" xlink:href=\"psysml:e43abf7c-a809-48bd-8c78-cd0a53fbbdb6\" xlink:show=\"new\" xlink:title=\"psysml:e43abf7c-a809-48bd-8c78-cd0a53fbbdb6\" xlink:type=\"simple\"><rect fill=\"#FFFFFF\" height=\"45.9375\" id=\"E8\" rx=\"10\" ry=\"10\" style=\"stroke: #383838; stroke-width: 1.5;\" width=\"71\" x=\"350.5\" y=\"41\"/><text fill=\"#000000\" font-family=\"sans-serif\" font-size=\"12\" font-style=\"italic\" lengthAdjust=\"spacingAndGlyphs\" textLength=\"69\" x=\"351.5\" y=\"57.1387\">«attribute»</text><text fill=\"#000000\" font-family=\"sans-serif\" font-size=\"12\" lengthAdjust=\"spacingAndGlyphs\" textLength=\"4\" x=\"384\" y=\"71.1074\">f</text><line style=\"stroke: #383838; stroke-width: 1.5;\" x1=\"351.5\" x2=\"420.5\" y1=\"78.9375\" y2=\"78.9375\"/></a><!--MD5=[fd4143e9d270a159db93a4ea2a975926]\n",
       "class E9--><a href=\"psysml:04ff0b02-14ab-40e8-a866-ef9bcfd05ef7\" target=\"_top\" title=\"psysml:04ff0b02-14ab-40e8-a866-ef9bcfd05ef7\" xlink:actuate=\"onRequest\" xlink:href=\"psysml:04ff0b02-14ab-40e8-a866-ef9bcfd05ef7\" xlink:show=\"new\" xlink:title=\"psysml:04ff0b02-14ab-40e8-a866-ef9bcfd05ef7\" xlink:type=\"simple\"><rect fill=\"#FFFFFF\" height=\"45.9375\" id=\"E9\" rx=\"10\" ry=\"10\" style=\"stroke: #383838; stroke-width: 1.5;\" width=\"71\" x=\"244.5\" y=\"41\"/><text fill=\"#000000\" font-family=\"sans-serif\" font-size=\"12\" font-style=\"italic\" lengthAdjust=\"spacingAndGlyphs\" textLength=\"69\" x=\"245.5\" y=\"57.1387\">«attribute»</text><text fill=\"#000000\" font-family=\"sans-serif\" font-size=\"12\" lengthAdjust=\"spacingAndGlyphs\" textLength=\"8\" x=\"276\" y=\"71.1074\">g</text><line style=\"stroke: #383838; stroke-width: 1.5;\" x1=\"245.5\" x2=\"314.5\" y1=\"78.9375\" y2=\"78.9375\"/></a><!--MD5=[96f4274e9e20536e775497830990834d]\n",
       "class E10--><a href=\"psysml:37f56aff-8c9f-4a8e-95e0-50132129fb99\" target=\"_top\" title=\"psysml:37f56aff-8c9f-4a8e-95e0-50132129fb99\" xlink:actuate=\"onRequest\" xlink:href=\"psysml:37f56aff-8c9f-4a8e-95e0-50132129fb99\" xlink:show=\"new\" xlink:title=\"psysml:37f56aff-8c9f-4a8e-95e0-50132129fb99\" xlink:type=\"simple\"><rect fill=\"#FFFFFF\" height=\"45.9375\" id=\"E10\" rx=\"10\" ry=\"10\" style=\"stroke: #383838; stroke-width: 1.5;\" width=\"71\" x=\"138.5\" y=\"41\"/><text fill=\"#000000\" font-family=\"sans-serif\" font-size=\"12\" font-style=\"italic\" lengthAdjust=\"spacingAndGlyphs\" textLength=\"69\" x=\"139.5\" y=\"57.1387\">«attribute»</text><text fill=\"#000000\" font-family=\"sans-serif\" font-size=\"12\" lengthAdjust=\"spacingAndGlyphs\" textLength=\"8\" x=\"170\" y=\"71.1074\">b</text><line style=\"stroke: #383838; stroke-width: 1.5;\" x1=\"139.5\" x2=\"208.5\" y1=\"78.9375\" y2=\"78.9375\"/></a><!--MD5=[1dd1bfd58a279cf63c5f349dbc8fc6a1]\n",
       "class E11--><a href=\"psysml:6095b787-d7f9-43be-8b1b-f534282edd43\" target=\"_top\" title=\"psysml:6095b787-d7f9-43be-8b1b-f534282edd43\" xlink:actuate=\"onRequest\" xlink:href=\"psysml:6095b787-d7f9-43be-8b1b-f534282edd43\" xlink:show=\"new\" xlink:title=\"psysml:6095b787-d7f9-43be-8b1b-f534282edd43\" xlink:type=\"simple\"><rect fill=\"#FFFFFF\" height=\"45.9375\" id=\"E11\" rx=\"10\" ry=\"10\" style=\"stroke: #383838; stroke-width: 1.5;\" width=\"71\" x=\"32.5\" y=\"41\"/><text fill=\"#000000\" font-family=\"sans-serif\" font-size=\"12\" font-style=\"italic\" lengthAdjust=\"spacingAndGlyphs\" textLength=\"69\" x=\"33.5\" y=\"57.1387\">«attribute»</text><text fill=\"#000000\" font-family=\"sans-serif\" font-size=\"12\" lengthAdjust=\"spacingAndGlyphs\" textLength=\"7\" x=\"64.5\" y=\"71.1074\">c</text><line style=\"stroke: #383838; stroke-width: 1.5;\" x1=\"33.5\" x2=\"102.5\" y1=\"78.9375\" y2=\"78.9375\"/></a><text fill=\"#000000\" font-family=\"sans-serif\" font-size=\"14\" lengthAdjust=\"spacingAndGlyphs\" textLength=\"9\" x=\"567.5\" y=\"42.6982\">p</text><rect fill=\"#383838\" height=\"12\" style=\"stroke: #F8F8F8; stroke-width: 1.5;\" width=\"12\" x=\"566\" y=\"58\"/><text fill=\"#000000\" font-family=\"sans-serif\" font-size=\"14\" lengthAdjust=\"spacingAndGlyphs\" textLength=\"9\" x=\"614.5\" y=\"42.6982\">q</text><rect fill=\"#383838\" height=\"12\" style=\"stroke: #F8F8F8; stroke-width: 1.5;\" width=\"12\" x=\"613\" y=\"58\"/><text fill=\"#000000\" font-family=\"sans-serif\" font-size=\"14\" lengthAdjust=\"spacingAndGlyphs\" textLength=\"57\" x=\"590.5\" y=\"380.7151\">noname</text><rect fill=\"#383838\" height=\"12\" style=\"stroke: #F8F8F8; stroke-width: 1.5;\" width=\"12\" x=\"613\" y=\"355.72\"/><!--MD5=[05d275557350bfb9b23a4ef7222b4c39]\n",
       "link E3 to E2--><a href=\"psysml:982c8c0e-9af2-4f93-8067-230d5c39d8a2\" target=\"_top\" title=\"psysml:982c8c0e-9af2-4f93-8067-230d5c39d8a2\" xlink:actuate=\"onRequest\" xlink:href=\"psysml:982c8c0e-9af2-4f93-8067-230d5c39d8a2\" xlink:show=\"new\" xlink:title=\"psysml:982c8c0e-9af2-4f93-8067-230d5c39d8a2\" xlink:type=\"simple\"><path d=\"M488.12,87.06 C486.14,98.3 483.62,112.6 481.1,126.95 \" fill=\"none\" id=\"E3-&gt;E2\" style=\"stroke: #383838; stroke-width: 1.0;\"/><polygon fill=\"#FFFFFF\" points=\"477.58,146.93,473.9835,127.0035,487.7711,129.4331,477.58,146.93\" style=\"stroke: #383838; stroke-width: 1.0;\"/><ellipse cx=\"476.9423\" cy=\"121.7371\" fill=\"#383838\" rx=\"2\" ry=\"2\" style=\"stroke: #383838; stroke-width: 1.0;\"/><ellipse cx=\"486.7906\" cy=\"123.4725\" fill=\"#383838\" rx=\"2\" ry=\"2\" style=\"stroke: #383838; stroke-width: 1.0;\"/></a><!--MD5=[375b440b470ad68d405f12d01f021ed7]\n",
       "@startuml\r\n",
       " skinparam monochrome true\r\n",
       "skinparam classbackgroundcolor white\r\n",
       "skinparam shadowing false\r\n",
       "skinparam wrapWidth 300\r\n",
       "hide circle\r\n",
       "\r\n",
       "package \"ParameterTest\" as E1  [[psysml:0dacd990-2b3a-4306-80d2-1e4fad6d04cd ]]  {\r\n",
       "comp def \"A\" as E2  <<(T,blue)attribute def>> [[psysml:03a6349f-297b-4a78-b9ab-052989f96479 ]] {\r\n",
       "- - attributes - -\r\n",
       "x: String\r\n",
       "y: A\r\n",
       "}\r\n",
       "comp usage \"a: A\" as E3  <<(T,blue)attribute>> [[psysml:d7af749e-ffc6-4773-972a-b8dfcfe9deb8 ]] {\r\n",
       "}\r\n",
       "rec def \"F\" as E4  <<(T,blue)calculation def>> [[psysml:cd1262f4-d3f9-4f52-89ee-1653680ad782 ]] {\r\n",
       "portin \"p\" as E5  [[psysml:16d77514-2de6-4c2c-add7-8b8555ca417f ]] \r\n",
       "portin \"q\" as E6  [[psysml:85e14753-ca59-4cde-8265-18a8cb4b45d6 ]] \r\n",
       "portout \"noname\" as E7  [[psysml:99b94083-4aa7-41fb-8d8e-135498f03bbe ]] \r\n",
       "}\r\n",
       "\r\n",
       "comp usage \"f\" as E8  <<(T,blue)attribute>> [[psysml:e43abf7c-a809-48bd-8c78-cd0a53fbbdb6 ]] {\r\n",
       "}\r\n",
       "comp usage \"g\" as E9  <<(T,blue)attribute>> [[psysml:04ff0b02-14ab-40e8-a866-ef9bcfd05ef7 ]] {\r\n",
       "}\r\n",
       "comp usage \"b\" as E10  <<(T,blue)attribute>> [[psysml:37f56aff-8c9f-4a8e-95e0-50132129fb99 ]] {\r\n",
       "}\r\n",
       "comp usage \"c\" as E11  <<(T,blue)attribute>> [[psysml:6095b787-d7f9-43be-8b1b-f534282edd43 ]] {\r\n",
       "}\r\n",
       "E3 - -:|> E2 [[psysml:982c8c0e-9af2-4f93-8067-230d5c39d8a2 ]] \r\n",
       "}\r\n",
       "@enduml\r\n",
       "\n",
       "PlantUML version 1.2020.13(Sat Jun 13 12:26:38 UTC 2020)\n",
       "(EPL source distribution)\n",
       "Java Runtime: OpenJDK Runtime Environment\n",
       "JVM: OpenJDK 64-Bit Server VM\n",
       "Default Encoding: UTF-8\n",
       "Language: en\n",
       "Country: null\n",
       "--></g></svg>"
      ]
     },
     "execution_count": 8,
     "metadata": {},
     "output_type": "execute_result"
    }
   ],
   "source": [
    "%viz --style=\"COMPTREE\" --view=\"MIXED\" \"ParameterTest\""
   ]
  },
  {
   "cell_type": "code",
   "execution_count": 9,
   "id": "metric-night",
   "metadata": {
    "execution": {
     "iopub.execute_input": "2021-03-24T16:28:52.946942Z",
     "iopub.status.busy": "2021-03-24T16:28:52.945921Z",
     "iopub.status.idle": "2021-03-24T16:28:53.025571Z",
     "shell.execute_reply": "2021-03-24T16:28:53.024131Z"
    }
   },
   "outputs": [
    {
     "data": {
      "image/svg+xml": [
       "<?xml version=\"1.0\" encoding=\"UTF-8\" standalone=\"no\"?><svg xmlns=\"http://www.w3.org/2000/svg\" xmlns:xlink=\"http://www.w3.org/1999/xlink\" contentScriptType=\"application/ecmascript\" contentStyleType=\"text/css\" height=\"403px\" preserveAspectRatio=\"none\" style=\"width:740px;height:403px;\" version=\"1.1\" viewBox=\"0 0 740 403\" width=\"740px\" zoomAndPan=\"magnify\"><defs/><g><!--MD5=[fbc87193dbaf4d95561dea2c320d4a47]\n",
       "cluster E1--><a href=\"psysml:0dacd990-2b3a-4306-80d2-1e4fad6d04cd\" target=\"_top\" title=\"psysml:0dacd990-2b3a-4306-80d2-1e4fad6d04cd\" xlink:actuate=\"onRequest\" xlink:href=\"psysml:0dacd990-2b3a-4306-80d2-1e4fad6d04cd\" xlink:show=\"new\" xlink:title=\"psysml:0dacd990-2b3a-4306-80d2-1e4fad6d04cd\" xlink:type=\"simple\"><polygon fill=\"#FFFFFF\" points=\"16,6,139,6,146,28.2969,718,28.2969,718,391.72,16,391.72,16,6\" style=\"stroke: #000000; stroke-width: 1.5;\"/><line style=\"stroke: #000000; stroke-width: 1.5;\" x1=\"16\" x2=\"146\" y1=\"28.2969\" y2=\"28.2969\"/><text fill=\"#000000\" font-family=\"sans-serif\" font-size=\"14\" font-weight=\"bold\" lengthAdjust=\"spacingAndGlyphs\" textLength=\"117\" x=\"20\" y=\"20.9951\">ParameterTest</text></a><!--MD5=[f6df4d0ebaf0b5dfb2ced0ae5af7c670]\n",
       "cluster E4--><a href=\"psysml:cd1262f4-d3f9-4f52-89ee-1653680ad782\" target=\"_top\" title=\"psysml:cd1262f4-d3f9-4f52-89ee-1653680ad782\" xlink:actuate=\"onRequest\" xlink:href=\"psysml:cd1262f4-d3f9-4f52-89ee-1653680ad782\" xlink:show=\"new\" xlink:title=\"psysml:cd1262f4-d3f9-4f52-89ee-1653680ad782\" xlink:type=\"simple\"><rect fill=\"#FFFFFF\" height=\"297.72\" id=\"E4\" style=\"stroke: #383838; stroke-width: 1.5;\" width=\"148\" x=\"554\" y=\"64\"/><rect fill=\"#F8F8F8\" height=\"37.9375\" style=\"stroke: #383838; stroke-width: 1.5;\" width=\"148\" x=\"554\" y=\"64\"/><text fill=\"#000000\" font-family=\"sans-serif\" font-size=\"12\" font-style=\"italic\" lengthAdjust=\"spacingAndGlyphs\" textLength=\"106\" x=\"575\" y=\"80.1387\">«calculation def»</text><text fill=\"#000000\" font-family=\"sans-serif\" font-size=\"12\" lengthAdjust=\"spacingAndGlyphs\" textLength=\"7\" x=\"624.5\" y=\"94.1074\">F</text></a><!--MD5=[b4997ac47864f28c2f74865a473b2911]\n",
       "class E2--><a href=\"psysml:03a6349f-297b-4a78-b9ab-052989f96479\" target=\"_top\" title=\"psysml:03a6349f-297b-4a78-b9ab-052989f96479\" xlink:actuate=\"onRequest\" xlink:href=\"psysml:03a6349f-297b-4a78-b9ab-052989f96479\" xlink:show=\"new\" xlink:title=\"psysml:03a6349f-297b-4a78-b9ab-052989f96479\" xlink:type=\"simple\"><rect fill=\"#FFFFFF\" height=\"88.3516\" id=\"E2\" style=\"stroke: #383838; stroke-width: 1.5;\" width=\"95\" x=\"422.5\" y=\"147\"/><text fill=\"#000000\" font-family=\"sans-serif\" font-size=\"12\" font-style=\"italic\" lengthAdjust=\"spacingAndGlyphs\" textLength=\"93\" x=\"423.5\" y=\"163.1387\">«attribute def»</text><text fill=\"#000000\" font-family=\"sans-serif\" font-size=\"12\" lengthAdjust=\"spacingAndGlyphs\" textLength=\"8\" x=\"466\" y=\"177.1074\">A</text><line style=\"stroke: #383838; stroke-width: 1.5;\" x1=\"423.5\" x2=\"516.5\" y1=\"184.9375\" y2=\"184.9375\"/><text fill=\"#000000\" font-family=\"sans-serif\" font-size=\"11\" lengthAdjust=\"spacingAndGlyphs\" textLength=\"48\" x=\"428.5\" y=\"215.9526\">x: String</text><text fill=\"#000000\" font-family=\"sans-serif\" font-size=\"11\" lengthAdjust=\"spacingAndGlyphs\" textLength=\"21\" x=\"428.5\" y=\"228.7573\">y: A</text><line style=\"stroke: #383838; stroke-width: 1.0;\" x1=\"423.5\" x2=\"442.5\" y1=\"199.3398\" y2=\"199.3398\"/><text fill=\"#000000\" font-family=\"sans-serif\" font-size=\"11\" lengthAdjust=\"spacingAndGlyphs\" textLength=\"55\" x=\"442.5\" y=\"202.6479\">attributes</text><line style=\"stroke: #383838; stroke-width: 1.0;\" x1=\"497.5\" x2=\"516.5\" y1=\"199.3398\" y2=\"199.3398\"/></a><!--MD5=[09b614a08d8cba4a07c9adeb5e0fee81]\n",
       "class E3--><a href=\"psysml:d7af749e-ffc6-4773-972a-b8dfcfe9deb8\" target=\"_top\" title=\"psysml:d7af749e-ffc6-4773-972a-b8dfcfe9deb8\" xlink:actuate=\"onRequest\" xlink:href=\"psysml:d7af749e-ffc6-4773-972a-b8dfcfe9deb8\" xlink:show=\"new\" xlink:title=\"psysml:d7af749e-ffc6-4773-972a-b8dfcfe9deb8\" xlink:type=\"simple\"><rect fill=\"#FFFFFF\" height=\"45.9375\" id=\"E3\" rx=\"10\" ry=\"10\" style=\"stroke: #383838; stroke-width: 1.5;\" width=\"71\" x=\"456.5\" y=\"41\"/><text fill=\"#000000\" font-family=\"sans-serif\" font-size=\"12\" font-style=\"italic\" lengthAdjust=\"spacingAndGlyphs\" textLength=\"69\" x=\"457.5\" y=\"57.1387\">«attribute»</text><text fill=\"#000000\" font-family=\"sans-serif\" font-size=\"12\" lengthAdjust=\"spacingAndGlyphs\" textLength=\"24\" x=\"480\" y=\"71.1074\">a: A</text><line style=\"stroke: #383838; stroke-width: 1.5;\" x1=\"457.5\" x2=\"526.5\" y1=\"78.9375\" y2=\"78.9375\"/></a><!--MD5=[b9389687b975829384b498ac4b7476b2]\n",
       "class E8--><a href=\"psysml:e43abf7c-a809-48bd-8c78-cd0a53fbbdb6\" target=\"_top\" title=\"psysml:e43abf7c-a809-48bd-8c78-cd0a53fbbdb6\" xlink:actuate=\"onRequest\" xlink:href=\"psysml:e43abf7c-a809-48bd-8c78-cd0a53fbbdb6\" xlink:show=\"new\" xlink:title=\"psysml:e43abf7c-a809-48bd-8c78-cd0a53fbbdb6\" xlink:type=\"simple\"><rect fill=\"#FFFFFF\" height=\"45.9375\" id=\"E8\" rx=\"10\" ry=\"10\" style=\"stroke: #383838; stroke-width: 1.5;\" width=\"71\" x=\"350.5\" y=\"41\"/><text fill=\"#000000\" font-family=\"sans-serif\" font-size=\"12\" font-style=\"italic\" lengthAdjust=\"spacingAndGlyphs\" textLength=\"69\" x=\"351.5\" y=\"57.1387\">«attribute»</text><text fill=\"#000000\" font-family=\"sans-serif\" font-size=\"12\" lengthAdjust=\"spacingAndGlyphs\" textLength=\"4\" x=\"384\" y=\"71.1074\">f</text><line style=\"stroke: #383838; stroke-width: 1.5;\" x1=\"351.5\" x2=\"420.5\" y1=\"78.9375\" y2=\"78.9375\"/></a><!--MD5=[fd4143e9d270a159db93a4ea2a975926]\n",
       "class E9--><a href=\"psysml:04ff0b02-14ab-40e8-a866-ef9bcfd05ef7\" target=\"_top\" title=\"psysml:04ff0b02-14ab-40e8-a866-ef9bcfd05ef7\" xlink:actuate=\"onRequest\" xlink:href=\"psysml:04ff0b02-14ab-40e8-a866-ef9bcfd05ef7\" xlink:show=\"new\" xlink:title=\"psysml:04ff0b02-14ab-40e8-a866-ef9bcfd05ef7\" xlink:type=\"simple\"><rect fill=\"#FFFFFF\" height=\"45.9375\" id=\"E9\" rx=\"10\" ry=\"10\" style=\"stroke: #383838; stroke-width: 1.5;\" width=\"71\" x=\"244.5\" y=\"41\"/><text fill=\"#000000\" font-family=\"sans-serif\" font-size=\"12\" font-style=\"italic\" lengthAdjust=\"spacingAndGlyphs\" textLength=\"69\" x=\"245.5\" y=\"57.1387\">«attribute»</text><text fill=\"#000000\" font-family=\"sans-serif\" font-size=\"12\" lengthAdjust=\"spacingAndGlyphs\" textLength=\"8\" x=\"276\" y=\"71.1074\">g</text><line style=\"stroke: #383838; stroke-width: 1.5;\" x1=\"245.5\" x2=\"314.5\" y1=\"78.9375\" y2=\"78.9375\"/></a><!--MD5=[96f4274e9e20536e775497830990834d]\n",
       "class E10--><a href=\"psysml:37f56aff-8c9f-4a8e-95e0-50132129fb99\" target=\"_top\" title=\"psysml:37f56aff-8c9f-4a8e-95e0-50132129fb99\" xlink:actuate=\"onRequest\" xlink:href=\"psysml:37f56aff-8c9f-4a8e-95e0-50132129fb99\" xlink:show=\"new\" xlink:title=\"psysml:37f56aff-8c9f-4a8e-95e0-50132129fb99\" xlink:type=\"simple\"><rect fill=\"#FFFFFF\" height=\"45.9375\" id=\"E10\" rx=\"10\" ry=\"10\" style=\"stroke: #383838; stroke-width: 1.5;\" width=\"71\" x=\"138.5\" y=\"41\"/><text fill=\"#000000\" font-family=\"sans-serif\" font-size=\"12\" font-style=\"italic\" lengthAdjust=\"spacingAndGlyphs\" textLength=\"69\" x=\"139.5\" y=\"57.1387\">«attribute»</text><text fill=\"#000000\" font-family=\"sans-serif\" font-size=\"12\" lengthAdjust=\"spacingAndGlyphs\" textLength=\"8\" x=\"170\" y=\"71.1074\">b</text><line style=\"stroke: #383838; stroke-width: 1.5;\" x1=\"139.5\" x2=\"208.5\" y1=\"78.9375\" y2=\"78.9375\"/></a><!--MD5=[1dd1bfd58a279cf63c5f349dbc8fc6a1]\n",
       "class E11--><a href=\"psysml:6095b787-d7f9-43be-8b1b-f534282edd43\" target=\"_top\" title=\"psysml:6095b787-d7f9-43be-8b1b-f534282edd43\" xlink:actuate=\"onRequest\" xlink:href=\"psysml:6095b787-d7f9-43be-8b1b-f534282edd43\" xlink:show=\"new\" xlink:title=\"psysml:6095b787-d7f9-43be-8b1b-f534282edd43\" xlink:type=\"simple\"><rect fill=\"#FFFFFF\" height=\"45.9375\" id=\"E11\" rx=\"10\" ry=\"10\" style=\"stroke: #383838; stroke-width: 1.5;\" width=\"71\" x=\"32.5\" y=\"41\"/><text fill=\"#000000\" font-family=\"sans-serif\" font-size=\"12\" font-style=\"italic\" lengthAdjust=\"spacingAndGlyphs\" textLength=\"69\" x=\"33.5\" y=\"57.1387\">«attribute»</text><text fill=\"#000000\" font-family=\"sans-serif\" font-size=\"12\" lengthAdjust=\"spacingAndGlyphs\" textLength=\"7\" x=\"64.5\" y=\"71.1074\">c</text><line style=\"stroke: #383838; stroke-width: 1.5;\" x1=\"33.5\" x2=\"102.5\" y1=\"78.9375\" y2=\"78.9375\"/></a><text fill=\"#000000\" font-family=\"sans-serif\" font-size=\"14\" lengthAdjust=\"spacingAndGlyphs\" textLength=\"9\" x=\"567.5\" y=\"42.6982\">p</text><rect fill=\"#383838\" height=\"12\" style=\"stroke: #F8F8F8; stroke-width: 1.5;\" width=\"12\" x=\"566\" y=\"58\"/><text fill=\"#000000\" font-family=\"sans-serif\" font-size=\"14\" lengthAdjust=\"spacingAndGlyphs\" textLength=\"9\" x=\"614.5\" y=\"42.6982\">q</text><rect fill=\"#383838\" height=\"12\" style=\"stroke: #F8F8F8; stroke-width: 1.5;\" width=\"12\" x=\"613\" y=\"58\"/><text fill=\"#000000\" font-family=\"sans-serif\" font-size=\"14\" lengthAdjust=\"spacingAndGlyphs\" textLength=\"57\" x=\"590.5\" y=\"380.7151\">noname</text><rect fill=\"#383838\" height=\"12\" style=\"stroke: #F8F8F8; stroke-width: 1.5;\" width=\"12\" x=\"613\" y=\"355.72\"/><!--MD5=[05d275557350bfb9b23a4ef7222b4c39]\n",
       "link E3 to E2--><a href=\"psysml:982c8c0e-9af2-4f93-8067-230d5c39d8a2\" target=\"_top\" title=\"psysml:982c8c0e-9af2-4f93-8067-230d5c39d8a2\" xlink:actuate=\"onRequest\" xlink:href=\"psysml:982c8c0e-9af2-4f93-8067-230d5c39d8a2\" xlink:show=\"new\" xlink:title=\"psysml:982c8c0e-9af2-4f93-8067-230d5c39d8a2\" xlink:type=\"simple\"><path d=\"M488.12,87.06 C486.14,98.3 483.62,112.6 481.1,126.95 \" fill=\"none\" id=\"E3-&gt;E2\" style=\"stroke: #383838; stroke-width: 1.0;\"/><polygon fill=\"#FFFFFF\" points=\"477.58,146.93,473.9835,127.0035,487.7711,129.4331,477.58,146.93\" style=\"stroke: #383838; stroke-width: 1.0;\"/><ellipse cx=\"476.9423\" cy=\"121.7371\" fill=\"#383838\" rx=\"2\" ry=\"2\" style=\"stroke: #383838; stroke-width: 1.0;\"/><ellipse cx=\"486.7906\" cy=\"123.4725\" fill=\"#383838\" rx=\"2\" ry=\"2\" style=\"stroke: #383838; stroke-width: 1.0;\"/></a><!--MD5=[bb3c1d1e008524c86a398d0b1abdc481]\n",
       "@startuml\r\n",
       "skinparam linetype polyline\r\n",
       "skinparam monochrome true\r\n",
       "skinparam classbackgroundcolor white\r\n",
       "skinparam shadowing false\r\n",
       "skinparam wrapWidth 300\r\n",
       "hide circle\r\n",
       "\r\n",
       "package \"ParameterTest\" as E1  [[psysml:0dacd990-2b3a-4306-80d2-1e4fad6d04cd ]]  {\r\n",
       "comp def \"A\" as E2  <<(T,blue)attribute def>> [[psysml:03a6349f-297b-4a78-b9ab-052989f96479 ]] {\r\n",
       "- - attributes - -\r\n",
       "x: String\r\n",
       "y: A\r\n",
       "}\r\n",
       "comp usage \"a: A\" as E3  <<(T,blue)attribute>> [[psysml:d7af749e-ffc6-4773-972a-b8dfcfe9deb8 ]] {\r\n",
       "}\r\n",
       "rec def \"F\" as E4  <<(T,blue)calculation def>> [[psysml:cd1262f4-d3f9-4f52-89ee-1653680ad782 ]] {\r\n",
       "portin \"p\" as E5  [[psysml:16d77514-2de6-4c2c-add7-8b8555ca417f ]] \r\n",
       "portin \"q\" as E6  [[psysml:85e14753-ca59-4cde-8265-18a8cb4b45d6 ]] \r\n",
       "portout \"noname\" as E7  [[psysml:99b94083-4aa7-41fb-8d8e-135498f03bbe ]] \r\n",
       "}\r\n",
       "\r\n",
       "comp usage \"f\" as E8  <<(T,blue)attribute>> [[psysml:e43abf7c-a809-48bd-8c78-cd0a53fbbdb6 ]] {\r\n",
       "}\r\n",
       "comp usage \"g\" as E9  <<(T,blue)attribute>> [[psysml:04ff0b02-14ab-40e8-a866-ef9bcfd05ef7 ]] {\r\n",
       "}\r\n",
       "comp usage \"b\" as E10  <<(T,blue)attribute>> [[psysml:37f56aff-8c9f-4a8e-95e0-50132129fb99 ]] {\r\n",
       "}\r\n",
       "comp usage \"c\" as E11  <<(T,blue)attribute>> [[psysml:6095b787-d7f9-43be-8b1b-f534282edd43 ]] {\r\n",
       "}\r\n",
       "E3 - -:|> E2 [[psysml:982c8c0e-9af2-4f93-8067-230d5c39d8a2 ]] \r\n",
       "}\r\n",
       "@enduml\r\n",
       "\n",
       "PlantUML version 1.2020.13(Sat Jun 13 12:26:38 UTC 2020)\n",
       "(EPL source distribution)\n",
       "Java Runtime: OpenJDK Runtime Environment\n",
       "JVM: OpenJDK 64-Bit Server VM\n",
       "Default Encoding: UTF-8\n",
       "Language: en\n",
       "Country: null\n",
       "--></g></svg>"
      ]
     },
     "execution_count": 9,
     "metadata": {},
     "output_type": "execute_result"
    }
   ],
   "source": [
    "%viz --style=\"POLYLINE\" --view=\"Default\" \"ParameterTest\""
   ]
  },
  {
   "cell_type": "code",
   "execution_count": 10,
   "id": "incident-preserve",
   "metadata": {
    "execution": {
     "iopub.execute_input": "2021-03-24T16:28:53.076394Z",
     "iopub.status.busy": "2021-03-24T16:28:53.075738Z",
     "iopub.status.idle": "2021-03-24T16:28:53.135670Z",
     "shell.execute_reply": "2021-03-24T16:28:53.135377Z"
    }
   },
   "outputs": [
    {
     "data": {
      "image/svg+xml": [
       "<?xml version=\"1.0\" encoding=\"UTF-8\" standalone=\"no\"?><svg xmlns=\"http://www.w3.org/2000/svg\" xmlns:xlink=\"http://www.w3.org/1999/xlink\" contentScriptType=\"application/ecmascript\" contentStyleType=\"text/css\" height=\"280px\" preserveAspectRatio=\"none\" style=\"width:710px;height:280px;\" version=\"1.1\" viewBox=\"0 0 710 280\" width=\"710px\" zoomAndPan=\"magnify\"><defs/><g><!--MD5=[fbc87193dbaf4d95561dea2c320d4a47]\n",
       "cluster E1--><a href=\"psysml:0dacd990-2b3a-4306-80d2-1e4fad6d04cd\" target=\"_top\" title=\"psysml:0dacd990-2b3a-4306-80d2-1e4fad6d04cd\" xlink:actuate=\"onRequest\" xlink:href=\"psysml:0dacd990-2b3a-4306-80d2-1e4fad6d04cd\" xlink:show=\"new\" xlink:title=\"psysml:0dacd990-2b3a-4306-80d2-1e4fad6d04cd\" xlink:type=\"simple\"><polygon fill=\"#FFFFFF\" points=\"16,6,139,6,146,28.2969,688,28.2969,688,268,16,268,16,6\" style=\"stroke: #000000; stroke-width: 1.5;\"/><line style=\"stroke: #000000; stroke-width: 1.5;\" x1=\"16\" x2=\"146\" y1=\"28.2969\" y2=\"28.2969\"/><text fill=\"#000000\" font-family=\"sans-serif\" font-size=\"14\" font-weight=\"bold\" lengthAdjust=\"spacingAndGlyphs\" textLength=\"117\" x=\"20\" y=\"20.9951\">ParameterTest</text></a><!--MD5=[b4997ac47864f28c2f74865a473b2911]\n",
       "class E2--><a href=\"psysml:03a6349f-297b-4a78-b9ab-052989f96479\" target=\"_top\" title=\"psysml:03a6349f-297b-4a78-b9ab-052989f96479\" xlink:actuate=\"onRequest\" xlink:href=\"psysml:03a6349f-297b-4a78-b9ab-052989f96479\" xlink:show=\"new\" xlink:title=\"psysml:03a6349f-297b-4a78-b9ab-052989f96479\" xlink:type=\"simple\"><rect fill=\"#FFFFFF\" height=\"88.3516\" id=\"E2\" style=\"stroke: #383838; stroke-width: 1.5;\" width=\"95\" x=\"498.5\" y=\"164\"/><text fill=\"#000000\" font-family=\"sans-serif\" font-size=\"12\" font-style=\"italic\" lengthAdjust=\"spacingAndGlyphs\" textLength=\"93\" x=\"499.5\" y=\"180.1387\">«attribute def»</text><text fill=\"#000000\" font-family=\"sans-serif\" font-size=\"12\" lengthAdjust=\"spacingAndGlyphs\" textLength=\"8\" x=\"542\" y=\"194.1074\">A</text><line style=\"stroke: #383838; stroke-width: 1.5;\" x1=\"499.5\" x2=\"592.5\" y1=\"201.9375\" y2=\"201.9375\"/><text fill=\"#000000\" font-family=\"sans-serif\" font-size=\"11\" lengthAdjust=\"spacingAndGlyphs\" textLength=\"48\" x=\"504.5\" y=\"232.9526\">x: String</text><text fill=\"#000000\" font-family=\"sans-serif\" font-size=\"11\" lengthAdjust=\"spacingAndGlyphs\" textLength=\"21\" x=\"504.5\" y=\"245.7573\">y: A</text><line style=\"stroke: #383838; stroke-width: 1.0;\" x1=\"499.5\" x2=\"518.5\" y1=\"216.3398\" y2=\"216.3398\"/><text fill=\"#000000\" font-family=\"sans-serif\" font-size=\"11\" lengthAdjust=\"spacingAndGlyphs\" textLength=\"55\" x=\"518.5\" y=\"219.6479\">attributes</text><line style=\"stroke: #383838; stroke-width: 1.0;\" x1=\"573.5\" x2=\"592.5\" y1=\"216.3398\" y2=\"216.3398\"/></a><!--MD5=[09b614a08d8cba4a07c9adeb5e0fee81]\n",
       "class E3--><a href=\"psysml:d7af749e-ffc6-4773-972a-b8dfcfe9deb8\" target=\"_top\" title=\"psysml:d7af749e-ffc6-4773-972a-b8dfcfe9deb8\" xlink:actuate=\"onRequest\" xlink:href=\"psysml:d7af749e-ffc6-4773-972a-b8dfcfe9deb8\" xlink:show=\"new\" xlink:title=\"psysml:d7af749e-ffc6-4773-972a-b8dfcfe9deb8\" xlink:type=\"simple\"><rect fill=\"#FFFFFF\" height=\"45.9375\" id=\"E3\" rx=\"10\" ry=\"10\" style=\"stroke: #383838; stroke-width: 1.5;\" width=\"71\" x=\"600.5\" y=\"41\"/><text fill=\"#000000\" font-family=\"sans-serif\" font-size=\"12\" font-style=\"italic\" lengthAdjust=\"spacingAndGlyphs\" textLength=\"69\" x=\"601.5\" y=\"57.1387\">«attribute»</text><text fill=\"#000000\" font-family=\"sans-serif\" font-size=\"12\" lengthAdjust=\"spacingAndGlyphs\" textLength=\"24\" x=\"624\" y=\"71.1074\">a: A</text><line style=\"stroke: #383838; stroke-width: 1.5;\" x1=\"601.5\" x2=\"670.5\" y1=\"78.9375\" y2=\"78.9375\"/></a><!--MD5=[ebbe1d658d1005bcc118a6aa81145e00]\n",
       "class E4--><a href=\"psysml:cd1262f4-d3f9-4f52-89ee-1653680ad782\" target=\"_top\" title=\"psysml:cd1262f4-d3f9-4f52-89ee-1653680ad782\" xlink:actuate=\"onRequest\" xlink:href=\"psysml:cd1262f4-d3f9-4f52-89ee-1653680ad782\" xlink:show=\"new\" xlink:title=\"psysml:cd1262f4-d3f9-4f52-89ee-1653680ad782\" xlink:type=\"simple\"><rect fill=\"#FFFFFF\" height=\"45.9375\" id=\"E4\" style=\"stroke: #383838; stroke-width: 1.5;\" width=\"108\" x=\"457\" y=\"41\"/><text fill=\"#000000\" font-family=\"sans-serif\" font-size=\"12\" font-style=\"italic\" lengthAdjust=\"spacingAndGlyphs\" textLength=\"106\" x=\"458\" y=\"57.1387\">«calculation def»</text><text fill=\"#000000\" font-family=\"sans-serif\" font-size=\"12\" lengthAdjust=\"spacingAndGlyphs\" textLength=\"7\" x=\"507.5\" y=\"71.1074\">F</text><line style=\"stroke: #383838; stroke-width: 1.5;\" x1=\"458\" x2=\"564\" y1=\"78.9375\" y2=\"78.9375\"/></a><!--MD5=[270fce915f116d4de14055a7c1d9a0f3]\n",
       "class E5--><a href=\"psysml:e43abf7c-a809-48bd-8c78-cd0a53fbbdb6\" target=\"_top\" title=\"psysml:e43abf7c-a809-48bd-8c78-cd0a53fbbdb6\" xlink:actuate=\"onRequest\" xlink:href=\"psysml:e43abf7c-a809-48bd-8c78-cd0a53fbbdb6\" xlink:show=\"new\" xlink:title=\"psysml:e43abf7c-a809-48bd-8c78-cd0a53fbbdb6\" xlink:type=\"simple\"><rect fill=\"#FFFFFF\" height=\"45.9375\" id=\"E5\" rx=\"10\" ry=\"10\" style=\"stroke: #383838; stroke-width: 1.5;\" width=\"71\" x=\"350.5\" y=\"41\"/><text fill=\"#000000\" font-family=\"sans-serif\" font-size=\"12\" font-style=\"italic\" lengthAdjust=\"spacingAndGlyphs\" textLength=\"69\" x=\"351.5\" y=\"57.1387\">«attribute»</text><text fill=\"#000000\" font-family=\"sans-serif\" font-size=\"12\" lengthAdjust=\"spacingAndGlyphs\" textLength=\"4\" x=\"384\" y=\"71.1074\">f</text><line style=\"stroke: #383838; stroke-width: 1.5;\" x1=\"351.5\" x2=\"420.5\" y1=\"78.9375\" y2=\"78.9375\"/></a><!--MD5=[60a26617385b1d2d0262a64233df1f8d]\n",
       "class E6--><a href=\"psysml:04ff0b02-14ab-40e8-a866-ef9bcfd05ef7\" target=\"_top\" title=\"psysml:04ff0b02-14ab-40e8-a866-ef9bcfd05ef7\" xlink:actuate=\"onRequest\" xlink:href=\"psysml:04ff0b02-14ab-40e8-a866-ef9bcfd05ef7\" xlink:show=\"new\" xlink:title=\"psysml:04ff0b02-14ab-40e8-a866-ef9bcfd05ef7\" xlink:type=\"simple\"><rect fill=\"#FFFFFF\" height=\"45.9375\" id=\"E6\" rx=\"10\" ry=\"10\" style=\"stroke: #383838; stroke-width: 1.5;\" width=\"71\" x=\"244.5\" y=\"41\"/><text fill=\"#000000\" font-family=\"sans-serif\" font-size=\"12\" font-style=\"italic\" lengthAdjust=\"spacingAndGlyphs\" textLength=\"69\" x=\"245.5\" y=\"57.1387\">«attribute»</text><text fill=\"#000000\" font-family=\"sans-serif\" font-size=\"12\" lengthAdjust=\"spacingAndGlyphs\" textLength=\"8\" x=\"276\" y=\"71.1074\">g</text><line style=\"stroke: #383838; stroke-width: 1.5;\" x1=\"245.5\" x2=\"314.5\" y1=\"78.9375\" y2=\"78.9375\"/></a><!--MD5=[2156ba9850f5573cc1fc38a6a4b2f02b]\n",
       "class E7--><a href=\"psysml:37f56aff-8c9f-4a8e-95e0-50132129fb99\" target=\"_top\" title=\"psysml:37f56aff-8c9f-4a8e-95e0-50132129fb99\" xlink:actuate=\"onRequest\" xlink:href=\"psysml:37f56aff-8c9f-4a8e-95e0-50132129fb99\" xlink:show=\"new\" xlink:title=\"psysml:37f56aff-8c9f-4a8e-95e0-50132129fb99\" xlink:type=\"simple\"><rect fill=\"#FFFFFF\" height=\"45.9375\" id=\"E7\" rx=\"10\" ry=\"10\" style=\"stroke: #383838; stroke-width: 1.5;\" width=\"71\" x=\"138.5\" y=\"41\"/><text fill=\"#000000\" font-family=\"sans-serif\" font-size=\"12\" font-style=\"italic\" lengthAdjust=\"spacingAndGlyphs\" textLength=\"69\" x=\"139.5\" y=\"57.1387\">«attribute»</text><text fill=\"#000000\" font-family=\"sans-serif\" font-size=\"12\" lengthAdjust=\"spacingAndGlyphs\" textLength=\"8\" x=\"170\" y=\"71.1074\">b</text><line style=\"stroke: #383838; stroke-width: 1.5;\" x1=\"139.5\" x2=\"208.5\" y1=\"78.9375\" y2=\"78.9375\"/></a><!--MD5=[b9389687b975829384b498ac4b7476b2]\n",
       "class E8--><a href=\"psysml:6095b787-d7f9-43be-8b1b-f534282edd43\" target=\"_top\" title=\"psysml:6095b787-d7f9-43be-8b1b-f534282edd43\" xlink:actuate=\"onRequest\" xlink:href=\"psysml:6095b787-d7f9-43be-8b1b-f534282edd43\" xlink:show=\"new\" xlink:title=\"psysml:6095b787-d7f9-43be-8b1b-f534282edd43\" xlink:type=\"simple\"><rect fill=\"#FFFFFF\" height=\"45.9375\" id=\"E8\" rx=\"10\" ry=\"10\" style=\"stroke: #383838; stroke-width: 1.5;\" width=\"71\" x=\"32.5\" y=\"41\"/><text fill=\"#000000\" font-family=\"sans-serif\" font-size=\"12\" font-style=\"italic\" lengthAdjust=\"spacingAndGlyphs\" textLength=\"69\" x=\"33.5\" y=\"57.1387\">«attribute»</text><text fill=\"#000000\" font-family=\"sans-serif\" font-size=\"12\" lengthAdjust=\"spacingAndGlyphs\" textLength=\"7\" x=\"64.5\" y=\"71.1074\">c</text><line style=\"stroke: #383838; stroke-width: 1.5;\" x1=\"33.5\" x2=\"102.5\" y1=\"78.9375\" y2=\"78.9375\"/></a><!--MD5=[05d275557350bfb9b23a4ef7222b4c39]\n",
       "link E3 to E2--><a href=\"psysml:982c8c0e-9af2-4f93-8067-230d5c39d8a2\" target=\"_top\" title=\"psysml:982c8c0e-9af2-4f93-8067-230d5c39d8a2\" xlink:actuate=\"onRequest\" xlink:href=\"psysml:982c8c0e-9af2-4f93-8067-230d5c39d8a2\" xlink:show=\"new\" xlink:title=\"psysml:982c8c0e-9af2-4f93-8067-230d5c39d8a2\" xlink:type=\"simple\"><path d=\"M621.94,87.19 C611.77,103.23 597.51,125.73 584.09,146.9 \" fill=\"none\" id=\"E3-&gt;E2\" style=\"stroke: #383838; stroke-width: 1.0;\"/><polygon fill=\"#FFFFFF\" points=\"573.37,163.82,577.6195,144.0225,589.448,151.5115,573.37,163.82\" style=\"stroke: #383838; stroke-width: 1.0;\"/><ellipse cx=\"582.3584\" cy=\"140.2764\" fill=\"#383838\" rx=\"2\" ry=\"2\" style=\"stroke: #383838; stroke-width: 1.0;\"/><ellipse cx=\"590.8073\" cy=\"145.6258\" fill=\"#383838\" rx=\"2\" ry=\"2\" style=\"stroke: #383838; stroke-width: 1.0;\"/></a><!--MD5=[ddeed8deb2209213b62e6cfabaa108b2]\n",
       "reverse link E4 to E2--><a href=\"psysml:16d77514-2de6-4c2c-add7-8b8555ca417f\" target=\"_top\" title=\"psysml:16d77514-2de6-4c2c-add7-8b8555ca417f\" xlink:actuate=\"onRequest\" xlink:href=\"psysml:16d77514-2de6-4c2c-add7-8b8555ca417f\" xlink:show=\"new\" xlink:title=\"psysml:16d77514-2de6-4c2c-add7-8b8555ca417f\" xlink:type=\"simple\"><path d=\"M519.62,99.96 C524.37,119.25 530.31,143.36 535.36,163.82 \" fill=\"none\" id=\"E4&lt;-E2\" style=\"stroke: #383838; stroke-width: 1.0;\"/><polygon fill=\"#FFFFFF\" points=\"516.47,87.19,514.0229,93.9732,519.3432,98.841,521.7903,92.0577,516.47,87.19\" style=\"stroke: #383838; stroke-width: 1.0;\"/><text fill=\"#000000\" font-family=\"sans-serif\" font-size=\"13\" lengthAdjust=\"spacingAndGlyphs\" textLength=\"8\" x=\"528\" y=\"130.0669\">p</text></a><!--MD5=[81efbabe9ba68ad6c96c0837bb74ab03]\n",
       "@startuml\r\n",
       "skinparam linetype polyline\r\n",
       "skinparam monochrome true\r\n",
       "skinparam classbackgroundcolor white\r\n",
       "skinparam shadowing false\r\n",
       "skinparam wrapWidth 300\r\n",
       "hide circle\r\n",
       "\r\n",
       "package \"ParameterTest\" as E1  [[psysml:0dacd990-2b3a-4306-80d2-1e4fad6d04cd ]]  {\r\n",
       "comp def \"A\" as E2  <<(T,blue)attribute def>> [[psysml:03a6349f-297b-4a78-b9ab-052989f96479 ]] {\r\n",
       "- - attributes - -\r\n",
       "x: String\r\n",
       "y: A\r\n",
       "}\r\n",
       "comp usage \"a: A\" as E3  <<(T,blue)attribute>> [[psysml:d7af749e-ffc6-4773-972a-b8dfcfe9deb8 ]] {\r\n",
       "}\r\n",
       "comp def \"F\" as E4  <<(T,blue)calculation def>> [[psysml:cd1262f4-d3f9-4f52-89ee-1653680ad782 ]] {\r\n",
       "}\r\n",
       "comp usage \"f\" as E5  <<(T,blue)attribute>> [[psysml:e43abf7c-a809-48bd-8c78-cd0a53fbbdb6 ]] {\r\n",
       "}\r\n",
       "comp usage \"g\" as E6  <<(T,blue)attribute>> [[psysml:04ff0b02-14ab-40e8-a866-ef9bcfd05ef7 ]] {\r\n",
       "}\r\n",
       "comp usage \"b\" as E7  <<(T,blue)attribute>> [[psysml:37f56aff-8c9f-4a8e-95e0-50132129fb99 ]] {\r\n",
       "}\r\n",
       "comp usage \"c\" as E8  <<(T,blue)attribute>> [[psysml:6095b787-d7f9-43be-8b1b-f534282edd43 ]] {\r\n",
       "}\r\n",
       "E3 - -:|> E2 [[psysml:982c8c0e-9af2-4f93-8067-230d5c39d8a2 ]] \r\n",
       "E4 o- - E2 [[psysml:16d77514-2de6-4c2c-add7-8b8555ca417f ]] : p\r\n",
       "}\r\n",
       "@enduml\r\n",
       "\n",
       "PlantUML version 1.2020.13(Sat Jun 13 12:26:38 UTC 2020)\n",
       "(EPL source distribution)\n",
       "Java Runtime: OpenJDK Runtime Environment\n",
       "JVM: OpenJDK 64-Bit Server VM\n",
       "Default Encoding: UTF-8\n",
       "Language: en\n",
       "Country: null\n",
       "--></g></svg>"
      ]
     },
     "execution_count": 10,
     "metadata": {},
     "output_type": "execute_result"
    }
   ],
   "source": [
    "%viz --style=\"POLYLINE\" --view=\"Tree\" \"ParameterTest\""
   ]
  },
  {
   "cell_type": "code",
   "execution_count": 11,
   "id": "baking-quebec",
   "metadata": {
    "execution": {
     "iopub.execute_input": "2021-03-24T16:28:53.187413Z",
     "iopub.status.busy": "2021-03-24T16:28:53.186945Z",
     "iopub.status.idle": "2021-03-24T16:28:53.194770Z",
     "shell.execute_reply": "2021-03-24T16:28:53.194231Z"
    }
   },
   "outputs": [
    {
     "data": {
      "image/svg+xml": [
       "<?xml version=\"1.0\" encoding=\"UTF-8\" standalone=\"no\"?><svg xmlns=\"http://www.w3.org/2000/svg\" xmlns:xlink=\"http://www.w3.org/1999/xlink\" contentScriptType=\"application/ecmascript\" contentStyleType=\"text/css\" height=\"12px\" preserveAspectRatio=\"none\" style=\"width:12px;height:12px;\" version=\"1.1\" viewBox=\"0 0 12 12\" width=\"12px\" zoomAndPan=\"magnify\"><defs/><g><!--MD5=[896ac0e7a515d8dd7765a661cb4ee08b]\n",
       "@startuml\r\n",
       "skinparam linetype polyline\r\n",
       "skinparam monochrome true\r\n",
       "skinparam classbackgroundcolor white\r\n",
       "skinparam shadowing false\r\n",
       "skinparam wrapWidth 300\r\n",
       "hide circle\r\n",
       "\r\n",
       "@enduml\r\n",
       "\n",
       "PlantUML version 1.2020.13(Sat Jun 13 12:26:38 UTC 2020)\n",
       "(EPL source distribution)\n",
       "Java Runtime: OpenJDK Runtime Environment\n",
       "JVM: OpenJDK 64-Bit Server VM\n",
       "Default Encoding: UTF-8\n",
       "Language: en\n",
       "Country: null\n",
       "--></g></svg>"
      ]
     },
     "execution_count": 11,
     "metadata": {},
     "output_type": "execute_result"
    }
   ],
   "source": [
    "%viz --style=\"POLYLINE\" --view=\"State\" \"ParameterTest\""
   ]
  },
  {
   "cell_type": "code",
   "execution_count": 12,
   "id": "prescription-jumping",
   "metadata": {
    "execution": {
     "iopub.execute_input": "2021-03-24T16:28:53.247337Z",
     "iopub.status.busy": "2021-03-24T16:28:53.246277Z",
     "iopub.status.idle": "2021-03-24T16:28:53.288942Z",
     "shell.execute_reply": "2021-03-24T16:28:53.287283Z"
    }
   },
   "outputs": [
    {
     "data": {
      "image/svg+xml": [
       "<?xml version=\"1.0\" encoding=\"UTF-8\" standalone=\"no\"?><svg xmlns=\"http://www.w3.org/2000/svg\" xmlns:xlink=\"http://www.w3.org/1999/xlink\" contentScriptType=\"application/ecmascript\" contentStyleType=\"text/css\" height=\"216px\" preserveAspectRatio=\"none\" style=\"width:740px;height:216px;\" version=\"1.1\" viewBox=\"0 0 740 216\" width=\"740px\" zoomAndPan=\"magnify\"><defs/><g><!--MD5=[fbc87193dbaf4d95561dea2c320d4a47]\n",
       "cluster E1--><a href=\"psysml:0dacd990-2b3a-4306-80d2-1e4fad6d04cd\" target=\"_top\" title=\"psysml:0dacd990-2b3a-4306-80d2-1e4fad6d04cd\" xlink:actuate=\"onRequest\" xlink:href=\"psysml:0dacd990-2b3a-4306-80d2-1e4fad6d04cd\" xlink:show=\"new\" xlink:title=\"psysml:0dacd990-2b3a-4306-80d2-1e4fad6d04cd\" xlink:type=\"simple\"><polygon fill=\"#FFFFFF\" points=\"16,6,139,6,146,28.2969,718,28.2969,718,204.72,16,204.72,16,6\" style=\"stroke: #000000; stroke-width: 1.5;\"/><line style=\"stroke: #000000; stroke-width: 1.5;\" x1=\"16\" x2=\"146\" y1=\"28.2969\" y2=\"28.2969\"/><text fill=\"#000000\" font-family=\"sans-serif\" font-size=\"14\" font-weight=\"bold\" lengthAdjust=\"spacingAndGlyphs\" textLength=\"117\" x=\"20\" y=\"20.9951\">ParameterTest</text></a><!--MD5=[f6df4d0ebaf0b5dfb2ced0ae5af7c670]\n",
       "cluster E4--><a href=\"psysml:cd1262f4-d3f9-4f52-89ee-1653680ad782\" target=\"_top\" title=\"psysml:cd1262f4-d3f9-4f52-89ee-1653680ad782\" xlink:actuate=\"onRequest\" xlink:href=\"psysml:cd1262f4-d3f9-4f52-89ee-1653680ad782\" xlink:show=\"new\" xlink:title=\"psysml:cd1262f4-d3f9-4f52-89ee-1653680ad782\" xlink:type=\"simple\"><rect fill=\"#FFFFFF\" height=\"110.72\" id=\"E4\" style=\"stroke: #383838; stroke-width: 1.5;\" width=\"148\" x=\"554\" y=\"64\"/><rect fill=\"#F8F8F8\" height=\"37.9375\" style=\"stroke: #383838; stroke-width: 1.5;\" width=\"148\" x=\"554\" y=\"64\"/><text fill=\"#000000\" font-family=\"sans-serif\" font-size=\"12\" font-style=\"italic\" lengthAdjust=\"spacingAndGlyphs\" textLength=\"106\" x=\"575\" y=\"80.1387\">«calculation def»</text><text fill=\"#000000\" font-family=\"sans-serif\" font-size=\"12\" lengthAdjust=\"spacingAndGlyphs\" textLength=\"7\" x=\"624.5\" y=\"94.1074\">F</text></a><g id=\"E1.E2\"><a href=\"psysml:03a6349f-297b-4a78-b9ab-052989f96479\" target=\"_top\" title=\"psysml:03a6349f-297b-4a78-b9ab-052989f96479\" xlink:actuate=\"onRequest\" xlink:href=\"psysml:03a6349f-297b-4a78-b9ab-052989f96479\" xlink:show=\"new\" xlink:title=\"psysml:03a6349f-297b-4a78-b9ab-052989f96479\" xlink:type=\"simple\"><rect fill=\"#FFFFFF\" height=\"42.9375\" id=\"E2\" style=\"stroke: #383838; stroke-width: 1.5;\" width=\"100\" x=\"417\" y=\"99\"/><rect fill=\"#F8F8F8\" height=\"37.9375\" style=\"stroke: #383838; stroke-width: 1.5;\" width=\"100\" x=\"417\" y=\"99\"/><text fill=\"#000000\" font-family=\"sans-serif\" font-size=\"12\" font-style=\"italic\" lengthAdjust=\"spacingAndGlyphs\" textLength=\"93\" x=\"420.5\" y=\"115.1387\">«attribute def»</text><text fill=\"#000000\" font-family=\"sans-serif\" font-size=\"12\" lengthAdjust=\"spacingAndGlyphs\" textLength=\"8\" x=\"463\" y=\"129.1074\">A</text></a></g><!--MD5=[09b614a08d8cba4a07c9adeb5e0fee81]\n",
       "class E3--><a href=\"psysml:d7af749e-ffc6-4773-972a-b8dfcfe9deb8\" target=\"_top\" title=\"psysml:d7af749e-ffc6-4773-972a-b8dfcfe9deb8\" xlink:actuate=\"onRequest\" xlink:href=\"psysml:d7af749e-ffc6-4773-972a-b8dfcfe9deb8\" xlink:show=\"new\" xlink:title=\"psysml:d7af749e-ffc6-4773-972a-b8dfcfe9deb8\" xlink:type=\"simple\"><rect fill=\"#FFFFFF\" height=\"45.9375\" id=\"E3\" rx=\"10\" ry=\"10\" style=\"stroke: #383838; stroke-width: 1.5;\" width=\"71\" x=\"456.5\" y=\"41\"/><text fill=\"#000000\" font-family=\"sans-serif\" font-size=\"12\" font-style=\"italic\" lengthAdjust=\"spacingAndGlyphs\" textLength=\"69\" x=\"457.5\" y=\"57.1387\">«attribute»</text><text fill=\"#000000\" font-family=\"sans-serif\" font-size=\"12\" lengthAdjust=\"spacingAndGlyphs\" textLength=\"24\" x=\"480\" y=\"71.1074\">a: A</text><line style=\"stroke: #383838; stroke-width: 1.5;\" x1=\"457.5\" x2=\"526.5\" y1=\"78.9375\" y2=\"78.9375\"/></a><!--MD5=[b9389687b975829384b498ac4b7476b2]\n",
       "class E8--><a href=\"psysml:e43abf7c-a809-48bd-8c78-cd0a53fbbdb6\" target=\"_top\" title=\"psysml:e43abf7c-a809-48bd-8c78-cd0a53fbbdb6\" xlink:actuate=\"onRequest\" xlink:href=\"psysml:e43abf7c-a809-48bd-8c78-cd0a53fbbdb6\" xlink:show=\"new\" xlink:title=\"psysml:e43abf7c-a809-48bd-8c78-cd0a53fbbdb6\" xlink:type=\"simple\"><rect fill=\"#FFFFFF\" height=\"45.9375\" id=\"E8\" rx=\"10\" ry=\"10\" style=\"stroke: #383838; stroke-width: 1.5;\" width=\"71\" x=\"350.5\" y=\"41\"/><text fill=\"#000000\" font-family=\"sans-serif\" font-size=\"12\" font-style=\"italic\" lengthAdjust=\"spacingAndGlyphs\" textLength=\"69\" x=\"351.5\" y=\"57.1387\">«attribute»</text><text fill=\"#000000\" font-family=\"sans-serif\" font-size=\"12\" lengthAdjust=\"spacingAndGlyphs\" textLength=\"4\" x=\"384\" y=\"71.1074\">f</text><line style=\"stroke: #383838; stroke-width: 1.5;\" x1=\"351.5\" x2=\"420.5\" y1=\"78.9375\" y2=\"78.9375\"/></a><!--MD5=[fd4143e9d270a159db93a4ea2a975926]\n",
       "class E9--><a href=\"psysml:04ff0b02-14ab-40e8-a866-ef9bcfd05ef7\" target=\"_top\" title=\"psysml:04ff0b02-14ab-40e8-a866-ef9bcfd05ef7\" xlink:actuate=\"onRequest\" xlink:href=\"psysml:04ff0b02-14ab-40e8-a866-ef9bcfd05ef7\" xlink:show=\"new\" xlink:title=\"psysml:04ff0b02-14ab-40e8-a866-ef9bcfd05ef7\" xlink:type=\"simple\"><rect fill=\"#FFFFFF\" height=\"45.9375\" id=\"E9\" rx=\"10\" ry=\"10\" style=\"stroke: #383838; stroke-width: 1.5;\" width=\"71\" x=\"244.5\" y=\"41\"/><text fill=\"#000000\" font-family=\"sans-serif\" font-size=\"12\" font-style=\"italic\" lengthAdjust=\"spacingAndGlyphs\" textLength=\"69\" x=\"245.5\" y=\"57.1387\">«attribute»</text><text fill=\"#000000\" font-family=\"sans-serif\" font-size=\"12\" lengthAdjust=\"spacingAndGlyphs\" textLength=\"8\" x=\"276\" y=\"71.1074\">g</text><line style=\"stroke: #383838; stroke-width: 1.5;\" x1=\"245.5\" x2=\"314.5\" y1=\"78.9375\" y2=\"78.9375\"/></a><!--MD5=[96f4274e9e20536e775497830990834d]\n",
       "class E10--><a href=\"psysml:37f56aff-8c9f-4a8e-95e0-50132129fb99\" target=\"_top\" title=\"psysml:37f56aff-8c9f-4a8e-95e0-50132129fb99\" xlink:actuate=\"onRequest\" xlink:href=\"psysml:37f56aff-8c9f-4a8e-95e0-50132129fb99\" xlink:show=\"new\" xlink:title=\"psysml:37f56aff-8c9f-4a8e-95e0-50132129fb99\" xlink:type=\"simple\"><rect fill=\"#FFFFFF\" height=\"45.9375\" id=\"E10\" rx=\"10\" ry=\"10\" style=\"stroke: #383838; stroke-width: 1.5;\" width=\"71\" x=\"138.5\" y=\"41\"/><text fill=\"#000000\" font-family=\"sans-serif\" font-size=\"12\" font-style=\"italic\" lengthAdjust=\"spacingAndGlyphs\" textLength=\"69\" x=\"139.5\" y=\"57.1387\">«attribute»</text><text fill=\"#000000\" font-family=\"sans-serif\" font-size=\"12\" lengthAdjust=\"spacingAndGlyphs\" textLength=\"8\" x=\"170\" y=\"71.1074\">b</text><line style=\"stroke: #383838; stroke-width: 1.5;\" x1=\"139.5\" x2=\"208.5\" y1=\"78.9375\" y2=\"78.9375\"/></a><!--MD5=[1dd1bfd58a279cf63c5f349dbc8fc6a1]\n",
       "class E11--><a href=\"psysml:6095b787-d7f9-43be-8b1b-f534282edd43\" target=\"_top\" title=\"psysml:6095b787-d7f9-43be-8b1b-f534282edd43\" xlink:actuate=\"onRequest\" xlink:href=\"psysml:6095b787-d7f9-43be-8b1b-f534282edd43\" xlink:show=\"new\" xlink:title=\"psysml:6095b787-d7f9-43be-8b1b-f534282edd43\" xlink:type=\"simple\"><rect fill=\"#FFFFFF\" height=\"45.9375\" id=\"E11\" rx=\"10\" ry=\"10\" style=\"stroke: #383838; stroke-width: 1.5;\" width=\"71\" x=\"32.5\" y=\"41\"/><text fill=\"#000000\" font-family=\"sans-serif\" font-size=\"12\" font-style=\"italic\" lengthAdjust=\"spacingAndGlyphs\" textLength=\"69\" x=\"33.5\" y=\"57.1387\">«attribute»</text><text fill=\"#000000\" font-family=\"sans-serif\" font-size=\"12\" lengthAdjust=\"spacingAndGlyphs\" textLength=\"7\" x=\"64.5\" y=\"71.1074\">c</text><line style=\"stroke: #383838; stroke-width: 1.5;\" x1=\"33.5\" x2=\"102.5\" y1=\"78.9375\" y2=\"78.9375\"/></a><text fill=\"#000000\" font-family=\"sans-serif\" font-size=\"14\" lengthAdjust=\"spacingAndGlyphs\" textLength=\"9\" x=\"567.5\" y=\"42.6982\">p</text><rect fill=\"#383838\" height=\"12\" style=\"stroke: #F8F8F8; stroke-width: 1.5;\" width=\"12\" x=\"566\" y=\"58\"/><text fill=\"#000000\" font-family=\"sans-serif\" font-size=\"14\" lengthAdjust=\"spacingAndGlyphs\" textLength=\"9\" x=\"614.5\" y=\"42.6982\">q</text><rect fill=\"#383838\" height=\"12\" style=\"stroke: #F8F8F8; stroke-width: 1.5;\" width=\"12\" x=\"613\" y=\"58\"/><text fill=\"#000000\" font-family=\"sans-serif\" font-size=\"14\" lengthAdjust=\"spacingAndGlyphs\" textLength=\"57\" x=\"590.5\" y=\"193.7151\">noname</text><rect fill=\"#383838\" height=\"12\" style=\"stroke: #F8F8F8; stroke-width: 1.5;\" width=\"12\" x=\"613\" y=\"168.72\"/><!--MD5=[05d275557350bfb9b23a4ef7222b4c39]\n",
       "link E3 to E2--><a href=\"psysml:982c8c0e-9af2-4f93-8067-230d5c39d8a2\" target=\"_top\" title=\"psysml:982c8c0e-9af2-4f93-8067-230d5c39d8a2\" xlink:actuate=\"onRequest\" xlink:href=\"psysml:982c8c0e-9af2-4f93-8067-230d5c39d8a2\" xlink:show=\"new\" xlink:title=\"psysml:982c8c0e-9af2-4f93-8067-230d5c39d8a2\" xlink:type=\"simple\"><path d=\"M481.83,87.17 C481.78,87.29 481.72,87.41 481.66,87.53 \" fill=\"none\" id=\"E3-&gt;E2\" style=\"stroke: #383838; stroke-width: 1.0;\"/><polygon fill=\"#FFFFFF\" points=\"476.43,98.93,477.977,78.7407,490.7056,84.5701,476.43,98.93\" style=\"stroke: #383838; stroke-width: 1.0;\"/><ellipse cx=\"482.1687\" cy=\"74.3911\" fill=\"#383838\" rx=\"2\" ry=\"2\" style=\"stroke: #383838; stroke-width: 1.0;\"/><ellipse cx=\"491.2606\" cy=\"78.555\" fill=\"#383838\" rx=\"2\" ry=\"2\" style=\"stroke: #383838; stroke-width: 1.0;\"/></a><!--MD5=[d291816b84dc8933be0b50af65901872]\n",
       "@startuml\r\n",
       "skinparam ranksep 10\r\n",
       "skinparam rectangle {\r\n",
       " backgroundColor<<block>> LightGreen\r\n",
       "}\r\n",
       "skinparam linetype polyline\r\n",
       "skinparam monochrome true\r\n",
       "skinparam classbackgroundcolor white\r\n",
       "skinparam shadowing false\r\n",
       "skinparam wrapWidth 300\r\n",
       "hide circle\r\n",
       "\r\n",
       "package \"ParameterTest\" as E1  [[psysml:0dacd990-2b3a-4306-80d2-1e4fad6d04cd ]]  {\r\n",
       "def \"A\" as E2  <<(T,blue)attribute def>> [[psysml:03a6349f-297b-4a78-b9ab-052989f96479 ]] \r\n",
       "comp usage \"a: A\" as E3  <<(T,blue)attribute>> [[psysml:d7af749e-ffc6-4773-972a-b8dfcfe9deb8 ]] {\r\n",
       "}\r\n",
       "rec def \"F\" as E4  <<(T,blue)calculation def>> [[psysml:cd1262f4-d3f9-4f52-89ee-1653680ad782 ]] {\r\n",
       "portin \"p\" as E5  [[psysml:16d77514-2de6-4c2c-add7-8b8555ca417f ]] \r\n",
       "portin \"q\" as E6  [[psysml:85e14753-ca59-4cde-8265-18a8cb4b45d6 ]] \r\n",
       "portout \"noname\" as E7  [[psysml:99b94083-4aa7-41fb-8d8e-135498f03bbe ]] \r\n",
       "}\r\n",
       "\r\n",
       "comp usage \"f\" as E8  <<(T,blue)attribute>> [[psysml:e43abf7c-a809-48bd-8c78-cd0a53fbbdb6 ]] {\r\n",
       "}\r\n",
       "comp usage \"g\" as E9  <<(T,blue)attribute>> [[psysml:04ff0b02-14ab-40e8-a866-ef9bcfd05ef7 ]] {\r\n",
       "}\r\n",
       "comp usage \"b\" as E10  <<(T,blue)attribute>> [[psysml:37f56aff-8c9f-4a8e-95e0-50132129fb99 ]] {\r\n",
       "}\r\n",
       "comp usage \"c\" as E11  <<(T,blue)attribute>> [[psysml:6095b787-d7f9-43be-8b1b-f534282edd43 ]] {\r\n",
       "}\r\n",
       "E3 - -:|> E2 [[psysml:982c8c0e-9af2-4f93-8067-230d5c39d8a2 ]] \r\n",
       "}\r\n",
       "@enduml\r\n",
       "\n",
       "PlantUML version 1.2020.13(Sat Jun 13 12:26:38 UTC 2020)\n",
       "(EPL source distribution)\n",
       "Java Runtime: OpenJDK Runtime Environment\n",
       "JVM: OpenJDK 64-Bit Server VM\n",
       "Default Encoding: UTF-8\n",
       "Language: en\n",
       "Country: null\n",
       "--></g></svg>"
      ]
     },
     "execution_count": 12,
     "metadata": {},
     "output_type": "execute_result"
    }
   ],
   "source": [
    "%viz --style=\"POLYLINE\" --view=\"Interconnection\" \"ParameterTest\""
   ]
  },
  {
   "cell_type": "code",
   "execution_count": 13,
   "id": "demographic-grammar",
   "metadata": {
    "execution": {
     "iopub.execute_input": "2021-03-24T16:28:53.338907Z",
     "iopub.status.busy": "2021-03-24T16:28:53.338515Z",
     "iopub.status.idle": "2021-03-24T16:28:53.367143Z",
     "shell.execute_reply": "2021-03-24T16:28:53.366807Z"
    }
   },
   "outputs": [
    {
     "data": {
      "image/svg+xml": [
       "<?xml version=\"1.0\" encoding=\"UTF-8\" standalone=\"no\"?><svg xmlns=\"http://www.w3.org/2000/svg\" xmlns:xlink=\"http://www.w3.org/1999/xlink\" contentScriptType=\"application/ecmascript\" contentStyleType=\"text/css\" height=\"162px\" preserveAspectRatio=\"none\" style=\"width:166px;height:162px;\" version=\"1.1\" viewBox=\"0 0 166 162\" width=\"166px\" zoomAndPan=\"magnify\"><defs/><g><!--MD5=[fbc87193dbaf4d95561dea2c320d4a47]\n",
       "cluster E1--><a href=\"psysml:cd1262f4-d3f9-4f52-89ee-1653680ad782\" target=\"_top\" title=\"psysml:cd1262f4-d3f9-4f52-89ee-1653680ad782\" xlink:actuate=\"onRequest\" xlink:href=\"psysml:cd1262f4-d3f9-4f52-89ee-1653680ad782\" xlink:show=\"new\" xlink:title=\"psysml:cd1262f4-d3f9-4f52-89ee-1653680ad782\" xlink:type=\"simple\"><rect fill=\"#FFFFFF\" height=\"87.72\" id=\"E1\" style=\"stroke: #383838; stroke-width: 1.5;\" width=\"148\" x=\"7\" y=\"42.0986\"/><rect fill=\"#F8F8F8\" height=\"37.9375\" style=\"stroke: #383838; stroke-width: 1.5;\" width=\"148\" x=\"7\" y=\"42.0986\"/><text fill=\"#000000\" font-family=\"sans-serif\" font-size=\"12\" font-style=\"italic\" lengthAdjust=\"spacingAndGlyphs\" textLength=\"106\" x=\"28\" y=\"58.2373\">«calculation def»</text><text fill=\"#000000\" font-family=\"sans-serif\" font-size=\"12\" lengthAdjust=\"spacingAndGlyphs\" textLength=\"7\" x=\"77.5\" y=\"72.2061\">F</text></a><text fill=\"#000000\" font-family=\"sans-serif\" font-size=\"14\" lengthAdjust=\"spacingAndGlyphs\" textLength=\"9\" x=\"20.5\" y=\"20.7969\">p</text><rect fill=\"#383838\" height=\"12\" style=\"stroke: #F8F8F8; stroke-width: 1.5;\" width=\"12\" x=\"19\" y=\"36.0986\"/><text fill=\"#000000\" font-family=\"sans-serif\" font-size=\"14\" lengthAdjust=\"spacingAndGlyphs\" textLength=\"9\" x=\"67.5\" y=\"20.7969\">q</text><rect fill=\"#383838\" height=\"12\" style=\"stroke: #F8F8F8; stroke-width: 1.5;\" width=\"12\" x=\"66\" y=\"36.0986\"/><text fill=\"#000000\" font-family=\"sans-serif\" font-size=\"14\" lengthAdjust=\"spacingAndGlyphs\" textLength=\"57\" x=\"43.5\" y=\"148.8138\">noname</text><rect fill=\"#383838\" height=\"12\" style=\"stroke: #F8F8F8; stroke-width: 1.5;\" width=\"12\" x=\"66\" y=\"123.8186\"/><!--MD5=[8c06b63153811b3ab7cbbab134fd117a]\n",
       "@startuml\r\n",
       "skinparam ranksep 8\r\n",
       "skinparam linetype polyline\r\n",
       "skinparam monochrome true\r\n",
       "skinparam classbackgroundcolor white\r\n",
       "skinparam shadowing false\r\n",
       "skinparam wrapWidth 300\r\n",
       "hide circle\r\n",
       "\r\n",
       "rec def \"F\" as E1  <<(T,blue)calculation def>> [[psysml:cd1262f4-d3f9-4f52-89ee-1653680ad782 ]] {\r\n",
       "portin \"p\" as E2  [[psysml:16d77514-2de6-4c2c-add7-8b8555ca417f ]] \r\n",
       "portin \"q\" as E3  [[psysml:85e14753-ca59-4cde-8265-18a8cb4b45d6 ]] \r\n",
       "portout \"noname\" as E4  [[psysml:99b94083-4aa7-41fb-8d8e-135498f03bbe ]] \r\n",
       "}\r\n",
       "\r\n",
       "@enduml\r\n",
       "\n",
       "PlantUML version 1.2020.13(Sat Jun 13 12:26:38 UTC 2020)\n",
       "(EPL source distribution)\n",
       "Java Runtime: OpenJDK Runtime Environment\n",
       "JVM: OpenJDK 64-Bit Server VM\n",
       "Default Encoding: UTF-8\n",
       "Language: en\n",
       "Country: null\n",
       "--></g></svg>"
      ]
     },
     "execution_count": 13,
     "metadata": {},
     "output_type": "execute_result"
    }
   ],
   "source": [
    "%viz --style=\"POLYLINE\" --view=\"Action\" \"ParameterTest\""
   ]
  },
  {
   "cell_type": "code",
   "execution_count": 14,
   "id": "instructional-powell",
   "metadata": {
    "execution": {
     "iopub.execute_input": "2021-03-24T16:28:53.417904Z",
     "iopub.status.busy": "2021-03-24T16:28:53.417365Z",
     "iopub.status.idle": "2021-03-24T16:28:53.470711Z",
     "shell.execute_reply": "2021-03-24T16:28:53.470438Z"
    }
   },
   "outputs": [
    {
     "data": {
      "image/svg+xml": [
       "<?xml version=\"1.0\" encoding=\"UTF-8\" standalone=\"no\"?><svg xmlns=\"http://www.w3.org/2000/svg\" xmlns:xlink=\"http://www.w3.org/1999/xlink\" contentScriptType=\"application/ecmascript\" contentStyleType=\"text/css\" height=\"280px\" preserveAspectRatio=\"none\" style=\"width:710px;height:280px;\" version=\"1.1\" viewBox=\"0 0 710 280\" width=\"710px\" zoomAndPan=\"magnify\"><defs/><g><!--MD5=[fbc87193dbaf4d95561dea2c320d4a47]\n",
       "cluster E1--><a href=\"psysml:0dacd990-2b3a-4306-80d2-1e4fad6d04cd\" target=\"_top\" title=\"psysml:0dacd990-2b3a-4306-80d2-1e4fad6d04cd\" xlink:actuate=\"onRequest\" xlink:href=\"psysml:0dacd990-2b3a-4306-80d2-1e4fad6d04cd\" xlink:show=\"new\" xlink:title=\"psysml:0dacd990-2b3a-4306-80d2-1e4fad6d04cd\" xlink:type=\"simple\"><polygon fill=\"#FFFFFF\" points=\"16,6,139,6,146,28.2969,688,28.2969,688,268,16,268,16,6\" style=\"stroke: #000000; stroke-width: 1.5;\"/><line style=\"stroke: #000000; stroke-width: 1.5;\" x1=\"16\" x2=\"146\" y1=\"28.2969\" y2=\"28.2969\"/><text fill=\"#000000\" font-family=\"sans-serif\" font-size=\"14\" font-weight=\"bold\" lengthAdjust=\"spacingAndGlyphs\" textLength=\"117\" x=\"20\" y=\"20.9951\">ParameterTest</text></a><!--MD5=[b4997ac47864f28c2f74865a473b2911]\n",
       "class E2--><a href=\"psysml:03a6349f-297b-4a78-b9ab-052989f96479\" target=\"_top\" title=\"psysml:03a6349f-297b-4a78-b9ab-052989f96479\" xlink:actuate=\"onRequest\" xlink:href=\"psysml:03a6349f-297b-4a78-b9ab-052989f96479\" xlink:show=\"new\" xlink:title=\"psysml:03a6349f-297b-4a78-b9ab-052989f96479\" xlink:type=\"simple\"><rect fill=\"#FFFFFF\" height=\"88.3516\" id=\"E2\" style=\"stroke: #383838; stroke-width: 1.5;\" width=\"95\" x=\"498.5\" y=\"164\"/><text fill=\"#000000\" font-family=\"sans-serif\" font-size=\"12\" font-style=\"italic\" lengthAdjust=\"spacingAndGlyphs\" textLength=\"93\" x=\"499.5\" y=\"180.1387\">«attribute def»</text><text fill=\"#000000\" font-family=\"sans-serif\" font-size=\"12\" lengthAdjust=\"spacingAndGlyphs\" textLength=\"8\" x=\"542\" y=\"194.1074\">A</text><line style=\"stroke: #383838; stroke-width: 1.5;\" x1=\"499.5\" x2=\"592.5\" y1=\"201.9375\" y2=\"201.9375\"/><text fill=\"#000000\" font-family=\"sans-serif\" font-size=\"11\" lengthAdjust=\"spacingAndGlyphs\" textLength=\"48\" x=\"504.5\" y=\"232.9526\">x: String</text><text fill=\"#000000\" font-family=\"sans-serif\" font-size=\"11\" lengthAdjust=\"spacingAndGlyphs\" textLength=\"21\" x=\"504.5\" y=\"245.7573\">y: A</text><line style=\"stroke: #383838; stroke-width: 1.0;\" x1=\"499.5\" x2=\"518.5\" y1=\"216.3398\" y2=\"216.3398\"/><text fill=\"#000000\" font-family=\"sans-serif\" font-size=\"11\" lengthAdjust=\"spacingAndGlyphs\" textLength=\"55\" x=\"518.5\" y=\"219.6479\">attributes</text><line style=\"stroke: #383838; stroke-width: 1.0;\" x1=\"573.5\" x2=\"592.5\" y1=\"216.3398\" y2=\"216.3398\"/></a><!--MD5=[09b614a08d8cba4a07c9adeb5e0fee81]\n",
       "class E3--><a href=\"psysml:d7af749e-ffc6-4773-972a-b8dfcfe9deb8\" target=\"_top\" title=\"psysml:d7af749e-ffc6-4773-972a-b8dfcfe9deb8\" xlink:actuate=\"onRequest\" xlink:href=\"psysml:d7af749e-ffc6-4773-972a-b8dfcfe9deb8\" xlink:show=\"new\" xlink:title=\"psysml:d7af749e-ffc6-4773-972a-b8dfcfe9deb8\" xlink:type=\"simple\"><rect fill=\"#FFFFFF\" height=\"45.9375\" id=\"E3\" rx=\"10\" ry=\"10\" style=\"stroke: #383838; stroke-width: 1.5;\" width=\"71\" x=\"600.5\" y=\"41\"/><text fill=\"#000000\" font-family=\"sans-serif\" font-size=\"12\" font-style=\"italic\" lengthAdjust=\"spacingAndGlyphs\" textLength=\"69\" x=\"601.5\" y=\"57.1387\">«attribute»</text><text fill=\"#000000\" font-family=\"sans-serif\" font-size=\"12\" lengthAdjust=\"spacingAndGlyphs\" textLength=\"24\" x=\"624\" y=\"71.1074\">a: A</text><line style=\"stroke: #383838; stroke-width: 1.5;\" x1=\"601.5\" x2=\"670.5\" y1=\"78.9375\" y2=\"78.9375\"/></a><!--MD5=[ebbe1d658d1005bcc118a6aa81145e00]\n",
       "class E4--><a href=\"psysml:cd1262f4-d3f9-4f52-89ee-1653680ad782\" target=\"_top\" title=\"psysml:cd1262f4-d3f9-4f52-89ee-1653680ad782\" xlink:actuate=\"onRequest\" xlink:href=\"psysml:cd1262f4-d3f9-4f52-89ee-1653680ad782\" xlink:show=\"new\" xlink:title=\"psysml:cd1262f4-d3f9-4f52-89ee-1653680ad782\" xlink:type=\"simple\"><rect fill=\"#FFFFFF\" height=\"45.9375\" id=\"E4\" style=\"stroke: #383838; stroke-width: 1.5;\" width=\"108\" x=\"457\" y=\"41\"/><text fill=\"#000000\" font-family=\"sans-serif\" font-size=\"12\" font-style=\"italic\" lengthAdjust=\"spacingAndGlyphs\" textLength=\"106\" x=\"458\" y=\"57.1387\">«calculation def»</text><text fill=\"#000000\" font-family=\"sans-serif\" font-size=\"12\" lengthAdjust=\"spacingAndGlyphs\" textLength=\"7\" x=\"507.5\" y=\"71.1074\">F</text><line style=\"stroke: #383838; stroke-width: 1.5;\" x1=\"458\" x2=\"564\" y1=\"78.9375\" y2=\"78.9375\"/></a><!--MD5=[270fce915f116d4de14055a7c1d9a0f3]\n",
       "class E5--><a href=\"psysml:e43abf7c-a809-48bd-8c78-cd0a53fbbdb6\" target=\"_top\" title=\"psysml:e43abf7c-a809-48bd-8c78-cd0a53fbbdb6\" xlink:actuate=\"onRequest\" xlink:href=\"psysml:e43abf7c-a809-48bd-8c78-cd0a53fbbdb6\" xlink:show=\"new\" xlink:title=\"psysml:e43abf7c-a809-48bd-8c78-cd0a53fbbdb6\" xlink:type=\"simple\"><rect fill=\"#FFFFFF\" height=\"45.9375\" id=\"E5\" rx=\"10\" ry=\"10\" style=\"stroke: #383838; stroke-width: 1.5;\" width=\"71\" x=\"350.5\" y=\"41\"/><text fill=\"#000000\" font-family=\"sans-serif\" font-size=\"12\" font-style=\"italic\" lengthAdjust=\"spacingAndGlyphs\" textLength=\"69\" x=\"351.5\" y=\"57.1387\">«attribute»</text><text fill=\"#000000\" font-family=\"sans-serif\" font-size=\"12\" lengthAdjust=\"spacingAndGlyphs\" textLength=\"4\" x=\"384\" y=\"71.1074\">f</text><line style=\"stroke: #383838; stroke-width: 1.5;\" x1=\"351.5\" x2=\"420.5\" y1=\"78.9375\" y2=\"78.9375\"/></a><!--MD5=[60a26617385b1d2d0262a64233df1f8d]\n",
       "class E6--><a href=\"psysml:04ff0b02-14ab-40e8-a866-ef9bcfd05ef7\" target=\"_top\" title=\"psysml:04ff0b02-14ab-40e8-a866-ef9bcfd05ef7\" xlink:actuate=\"onRequest\" xlink:href=\"psysml:04ff0b02-14ab-40e8-a866-ef9bcfd05ef7\" xlink:show=\"new\" xlink:title=\"psysml:04ff0b02-14ab-40e8-a866-ef9bcfd05ef7\" xlink:type=\"simple\"><rect fill=\"#FFFFFF\" height=\"45.9375\" id=\"E6\" rx=\"10\" ry=\"10\" style=\"stroke: #383838; stroke-width: 1.5;\" width=\"71\" x=\"244.5\" y=\"41\"/><text fill=\"#000000\" font-family=\"sans-serif\" font-size=\"12\" font-style=\"italic\" lengthAdjust=\"spacingAndGlyphs\" textLength=\"69\" x=\"245.5\" y=\"57.1387\">«attribute»</text><text fill=\"#000000\" font-family=\"sans-serif\" font-size=\"12\" lengthAdjust=\"spacingAndGlyphs\" textLength=\"8\" x=\"276\" y=\"71.1074\">g</text><line style=\"stroke: #383838; stroke-width: 1.5;\" x1=\"245.5\" x2=\"314.5\" y1=\"78.9375\" y2=\"78.9375\"/></a><!--MD5=[2156ba9850f5573cc1fc38a6a4b2f02b]\n",
       "class E7--><a href=\"psysml:37f56aff-8c9f-4a8e-95e0-50132129fb99\" target=\"_top\" title=\"psysml:37f56aff-8c9f-4a8e-95e0-50132129fb99\" xlink:actuate=\"onRequest\" xlink:href=\"psysml:37f56aff-8c9f-4a8e-95e0-50132129fb99\" xlink:show=\"new\" xlink:title=\"psysml:37f56aff-8c9f-4a8e-95e0-50132129fb99\" xlink:type=\"simple\"><rect fill=\"#FFFFFF\" height=\"45.9375\" id=\"E7\" rx=\"10\" ry=\"10\" style=\"stroke: #383838; stroke-width: 1.5;\" width=\"71\" x=\"138.5\" y=\"41\"/><text fill=\"#000000\" font-family=\"sans-serif\" font-size=\"12\" font-style=\"italic\" lengthAdjust=\"spacingAndGlyphs\" textLength=\"69\" x=\"139.5\" y=\"57.1387\">«attribute»</text><text fill=\"#000000\" font-family=\"sans-serif\" font-size=\"12\" lengthAdjust=\"spacingAndGlyphs\" textLength=\"8\" x=\"170\" y=\"71.1074\">b</text><line style=\"stroke: #383838; stroke-width: 1.5;\" x1=\"139.5\" x2=\"208.5\" y1=\"78.9375\" y2=\"78.9375\"/></a><!--MD5=[b9389687b975829384b498ac4b7476b2]\n",
       "class E8--><a href=\"psysml:6095b787-d7f9-43be-8b1b-f534282edd43\" target=\"_top\" title=\"psysml:6095b787-d7f9-43be-8b1b-f534282edd43\" xlink:actuate=\"onRequest\" xlink:href=\"psysml:6095b787-d7f9-43be-8b1b-f534282edd43\" xlink:show=\"new\" xlink:title=\"psysml:6095b787-d7f9-43be-8b1b-f534282edd43\" xlink:type=\"simple\"><rect fill=\"#FFFFFF\" height=\"45.9375\" id=\"E8\" rx=\"10\" ry=\"10\" style=\"stroke: #383838; stroke-width: 1.5;\" width=\"71\" x=\"32.5\" y=\"41\"/><text fill=\"#000000\" font-family=\"sans-serif\" font-size=\"12\" font-style=\"italic\" lengthAdjust=\"spacingAndGlyphs\" textLength=\"69\" x=\"33.5\" y=\"57.1387\">«attribute»</text><text fill=\"#000000\" font-family=\"sans-serif\" font-size=\"12\" lengthAdjust=\"spacingAndGlyphs\" textLength=\"7\" x=\"64.5\" y=\"71.1074\">c</text><line style=\"stroke: #383838; stroke-width: 1.5;\" x1=\"33.5\" x2=\"102.5\" y1=\"78.9375\" y2=\"78.9375\"/></a><!--MD5=[05d275557350bfb9b23a4ef7222b4c39]\n",
       "link E3 to E2--><a href=\"psysml:982c8c0e-9af2-4f93-8067-230d5c39d8a2\" target=\"_top\" title=\"psysml:982c8c0e-9af2-4f93-8067-230d5c39d8a2\" xlink:actuate=\"onRequest\" xlink:href=\"psysml:982c8c0e-9af2-4f93-8067-230d5c39d8a2\" xlink:show=\"new\" xlink:title=\"psysml:982c8c0e-9af2-4f93-8067-230d5c39d8a2\" xlink:type=\"simple\"><path d=\"M621.94,87.19 C611.77,103.23 597.51,125.73 584.09,146.9 \" fill=\"none\" id=\"E3-&gt;E2\" style=\"stroke: #383838; stroke-width: 1.0;\"/><polygon fill=\"#FFFFFF\" points=\"573.37,163.82,577.6195,144.0225,589.448,151.5115,573.37,163.82\" style=\"stroke: #383838; stroke-width: 1.0;\"/><ellipse cx=\"582.3584\" cy=\"140.2764\" fill=\"#383838\" rx=\"2\" ry=\"2\" style=\"stroke: #383838; stroke-width: 1.0;\"/><ellipse cx=\"590.8073\" cy=\"145.6258\" fill=\"#383838\" rx=\"2\" ry=\"2\" style=\"stroke: #383838; stroke-width: 1.0;\"/></a><!--MD5=[ddeed8deb2209213b62e6cfabaa108b2]\n",
       "reverse link E4 to E2--><a href=\"psysml:16d77514-2de6-4c2c-add7-8b8555ca417f\" target=\"_top\" title=\"psysml:16d77514-2de6-4c2c-add7-8b8555ca417f\" xlink:actuate=\"onRequest\" xlink:href=\"psysml:16d77514-2de6-4c2c-add7-8b8555ca417f\" xlink:show=\"new\" xlink:title=\"psysml:16d77514-2de6-4c2c-add7-8b8555ca417f\" xlink:type=\"simple\"><path d=\"M519.62,99.96 C524.37,119.25 530.31,143.36 535.36,163.82 \" fill=\"none\" id=\"E4&lt;-E2\" style=\"stroke: #383838; stroke-width: 1.0;\"/><polygon fill=\"#FFFFFF\" points=\"516.47,87.19,514.0229,93.9732,519.3432,98.841,521.7903,92.0577,516.47,87.19\" style=\"stroke: #383838; stroke-width: 1.0;\"/><text fill=\"#000000\" font-family=\"sans-serif\" font-size=\"13\" lengthAdjust=\"spacingAndGlyphs\" textLength=\"8\" x=\"528\" y=\"130.0669\">p</text></a><!--MD5=[81efbabe9ba68ad6c96c0837bb74ab03]\n",
       "@startuml\r\n",
       "skinparam linetype polyline\r\n",
       "skinparam monochrome true\r\n",
       "skinparam classbackgroundcolor white\r\n",
       "skinparam shadowing false\r\n",
       "skinparam wrapWidth 300\r\n",
       "hide circle\r\n",
       "\r\n",
       "package \"ParameterTest\" as E1  [[psysml:0dacd990-2b3a-4306-80d2-1e4fad6d04cd ]]  {\r\n",
       "comp def \"A\" as E2  <<(T,blue)attribute def>> [[psysml:03a6349f-297b-4a78-b9ab-052989f96479 ]] {\r\n",
       "- - attributes - -\r\n",
       "x: String\r\n",
       "y: A\r\n",
       "}\r\n",
       "comp usage \"a: A\" as E3  <<(T,blue)attribute>> [[psysml:d7af749e-ffc6-4773-972a-b8dfcfe9deb8 ]] {\r\n",
       "}\r\n",
       "comp def \"F\" as E4  <<(T,blue)calculation def>> [[psysml:cd1262f4-d3f9-4f52-89ee-1653680ad782 ]] {\r\n",
       "}\r\n",
       "comp usage \"f\" as E5  <<(T,blue)attribute>> [[psysml:e43abf7c-a809-48bd-8c78-cd0a53fbbdb6 ]] {\r\n",
       "}\r\n",
       "comp usage \"g\" as E6  <<(T,blue)attribute>> [[psysml:04ff0b02-14ab-40e8-a866-ef9bcfd05ef7 ]] {\r\n",
       "}\r\n",
       "comp usage \"b\" as E7  <<(T,blue)attribute>> [[psysml:37f56aff-8c9f-4a8e-95e0-50132129fb99 ]] {\r\n",
       "}\r\n",
       "comp usage \"c\" as E8  <<(T,blue)attribute>> [[psysml:6095b787-d7f9-43be-8b1b-f534282edd43 ]] {\r\n",
       "}\r\n",
       "E3 - -:|> E2 [[psysml:982c8c0e-9af2-4f93-8067-230d5c39d8a2 ]] \r\n",
       "E4 o- - E2 [[psysml:16d77514-2de6-4c2c-add7-8b8555ca417f ]] : p\r\n",
       "}\r\n",
       "@enduml\r\n",
       "\n",
       "PlantUML version 1.2020.13(Sat Jun 13 12:26:38 UTC 2020)\n",
       "(EPL source distribution)\n",
       "Java Runtime: OpenJDK Runtime Environment\n",
       "JVM: OpenJDK 64-Bit Server VM\n",
       "Default Encoding: UTF-8\n",
       "Language: en\n",
       "Country: null\n",
       "--></g></svg>"
      ]
     },
     "execution_count": 14,
     "metadata": {},
     "output_type": "execute_result"
    }
   ],
   "source": [
    "%viz --style=\"POLYLINE\" --view=\"Sequence\" \"ParameterTest\""
   ]
  },
  {
   "cell_type": "code",
   "execution_count": 15,
   "id": "atmospheric-cutting",
   "metadata": {
    "execution": {
     "iopub.execute_input": "2021-03-24T16:28:53.520962Z",
     "iopub.status.busy": "2021-03-24T16:28:53.520361Z",
     "iopub.status.idle": "2021-03-24T16:28:53.574616Z",
     "shell.execute_reply": "2021-03-24T16:28:53.574180Z"
    }
   },
   "outputs": [
    {
     "data": {
      "image/svg+xml": [
       "<?xml version=\"1.0\" encoding=\"UTF-8\" standalone=\"no\"?><svg xmlns=\"http://www.w3.org/2000/svg\" xmlns:xlink=\"http://www.w3.org/1999/xlink\" contentScriptType=\"application/ecmascript\" contentStyleType=\"text/css\" height=\"403px\" preserveAspectRatio=\"none\" style=\"width:740px;height:403px;\" version=\"1.1\" viewBox=\"0 0 740 403\" width=\"740px\" zoomAndPan=\"magnify\"><defs/><g><!--MD5=[fbc87193dbaf4d95561dea2c320d4a47]\n",
       "cluster E1--><a href=\"psysml:0dacd990-2b3a-4306-80d2-1e4fad6d04cd\" target=\"_top\" title=\"psysml:0dacd990-2b3a-4306-80d2-1e4fad6d04cd\" xlink:actuate=\"onRequest\" xlink:href=\"psysml:0dacd990-2b3a-4306-80d2-1e4fad6d04cd\" xlink:show=\"new\" xlink:title=\"psysml:0dacd990-2b3a-4306-80d2-1e4fad6d04cd\" xlink:type=\"simple\"><polygon fill=\"#FFFFFF\" points=\"16,6,139,6,146,28.2969,718,28.2969,718,391.72,16,391.72,16,6\" style=\"stroke: #000000; stroke-width: 1.5;\"/><line style=\"stroke: #000000; stroke-width: 1.5;\" x1=\"16\" x2=\"146\" y1=\"28.2969\" y2=\"28.2969\"/><text fill=\"#000000\" font-family=\"sans-serif\" font-size=\"14\" font-weight=\"bold\" lengthAdjust=\"spacingAndGlyphs\" textLength=\"117\" x=\"20\" y=\"20.9951\">ParameterTest</text></a><!--MD5=[f6df4d0ebaf0b5dfb2ced0ae5af7c670]\n",
       "cluster E4--><a href=\"psysml:cd1262f4-d3f9-4f52-89ee-1653680ad782\" target=\"_top\" title=\"psysml:cd1262f4-d3f9-4f52-89ee-1653680ad782\" xlink:actuate=\"onRequest\" xlink:href=\"psysml:cd1262f4-d3f9-4f52-89ee-1653680ad782\" xlink:show=\"new\" xlink:title=\"psysml:cd1262f4-d3f9-4f52-89ee-1653680ad782\" xlink:type=\"simple\"><rect fill=\"#FFFFFF\" height=\"297.72\" id=\"E4\" style=\"stroke: #383838; stroke-width: 1.5;\" width=\"148\" x=\"554\" y=\"64\"/><rect fill=\"#F8F8F8\" height=\"37.9375\" style=\"stroke: #383838; stroke-width: 1.5;\" width=\"148\" x=\"554\" y=\"64\"/><text fill=\"#000000\" font-family=\"sans-serif\" font-size=\"12\" font-style=\"italic\" lengthAdjust=\"spacingAndGlyphs\" textLength=\"106\" x=\"575\" y=\"80.1387\">«calculation def»</text><text fill=\"#000000\" font-family=\"sans-serif\" font-size=\"12\" lengthAdjust=\"spacingAndGlyphs\" textLength=\"7\" x=\"624.5\" y=\"94.1074\">F</text></a><!--MD5=[b4997ac47864f28c2f74865a473b2911]\n",
       "class E2--><a href=\"psysml:03a6349f-297b-4a78-b9ab-052989f96479\" target=\"_top\" title=\"psysml:03a6349f-297b-4a78-b9ab-052989f96479\" xlink:actuate=\"onRequest\" xlink:href=\"psysml:03a6349f-297b-4a78-b9ab-052989f96479\" xlink:show=\"new\" xlink:title=\"psysml:03a6349f-297b-4a78-b9ab-052989f96479\" xlink:type=\"simple\"><rect fill=\"#FFFFFF\" height=\"88.3516\" id=\"E2\" style=\"stroke: #383838; stroke-width: 1.5;\" width=\"95\" x=\"422.5\" y=\"147\"/><text fill=\"#000000\" font-family=\"sans-serif\" font-size=\"12\" font-style=\"italic\" lengthAdjust=\"spacingAndGlyphs\" textLength=\"93\" x=\"423.5\" y=\"163.1387\">«attribute def»</text><text fill=\"#000000\" font-family=\"sans-serif\" font-size=\"12\" lengthAdjust=\"spacingAndGlyphs\" textLength=\"8\" x=\"466\" y=\"177.1074\">A</text><line style=\"stroke: #383838; stroke-width: 1.5;\" x1=\"423.5\" x2=\"516.5\" y1=\"184.9375\" y2=\"184.9375\"/><text fill=\"#000000\" font-family=\"sans-serif\" font-size=\"11\" lengthAdjust=\"spacingAndGlyphs\" textLength=\"48\" x=\"428.5\" y=\"215.9526\">x: String</text><text fill=\"#000000\" font-family=\"sans-serif\" font-size=\"11\" lengthAdjust=\"spacingAndGlyphs\" textLength=\"21\" x=\"428.5\" y=\"228.7573\">y: A</text><line style=\"stroke: #383838; stroke-width: 1.0;\" x1=\"423.5\" x2=\"442.5\" y1=\"199.3398\" y2=\"199.3398\"/><text fill=\"#000000\" font-family=\"sans-serif\" font-size=\"11\" lengthAdjust=\"spacingAndGlyphs\" textLength=\"55\" x=\"442.5\" y=\"202.6479\">attributes</text><line style=\"stroke: #383838; stroke-width: 1.0;\" x1=\"497.5\" x2=\"516.5\" y1=\"199.3398\" y2=\"199.3398\"/></a><!--MD5=[09b614a08d8cba4a07c9adeb5e0fee81]\n",
       "class E3--><a href=\"psysml:d7af749e-ffc6-4773-972a-b8dfcfe9deb8\" target=\"_top\" title=\"psysml:d7af749e-ffc6-4773-972a-b8dfcfe9deb8\" xlink:actuate=\"onRequest\" xlink:href=\"psysml:d7af749e-ffc6-4773-972a-b8dfcfe9deb8\" xlink:show=\"new\" xlink:title=\"psysml:d7af749e-ffc6-4773-972a-b8dfcfe9deb8\" xlink:type=\"simple\"><rect fill=\"#FFFFFF\" height=\"45.9375\" id=\"E3\" rx=\"10\" ry=\"10\" style=\"stroke: #383838; stroke-width: 1.5;\" width=\"71\" x=\"456.5\" y=\"41\"/><text fill=\"#000000\" font-family=\"sans-serif\" font-size=\"12\" font-style=\"italic\" lengthAdjust=\"spacingAndGlyphs\" textLength=\"69\" x=\"457.5\" y=\"57.1387\">«attribute»</text><text fill=\"#000000\" font-family=\"sans-serif\" font-size=\"12\" lengthAdjust=\"spacingAndGlyphs\" textLength=\"24\" x=\"480\" y=\"71.1074\">a: A</text><line style=\"stroke: #383838; stroke-width: 1.5;\" x1=\"457.5\" x2=\"526.5\" y1=\"78.9375\" y2=\"78.9375\"/></a><!--MD5=[b9389687b975829384b498ac4b7476b2]\n",
       "class E8--><a href=\"psysml:e43abf7c-a809-48bd-8c78-cd0a53fbbdb6\" target=\"_top\" title=\"psysml:e43abf7c-a809-48bd-8c78-cd0a53fbbdb6\" xlink:actuate=\"onRequest\" xlink:href=\"psysml:e43abf7c-a809-48bd-8c78-cd0a53fbbdb6\" xlink:show=\"new\" xlink:title=\"psysml:e43abf7c-a809-48bd-8c78-cd0a53fbbdb6\" xlink:type=\"simple\"><rect fill=\"#FFFFFF\" height=\"45.9375\" id=\"E8\" rx=\"10\" ry=\"10\" style=\"stroke: #383838; stroke-width: 1.5;\" width=\"71\" x=\"350.5\" y=\"41\"/><text fill=\"#000000\" font-family=\"sans-serif\" font-size=\"12\" font-style=\"italic\" lengthAdjust=\"spacingAndGlyphs\" textLength=\"69\" x=\"351.5\" y=\"57.1387\">«attribute»</text><text fill=\"#000000\" font-family=\"sans-serif\" font-size=\"12\" lengthAdjust=\"spacingAndGlyphs\" textLength=\"4\" x=\"384\" y=\"71.1074\">f</text><line style=\"stroke: #383838; stroke-width: 1.5;\" x1=\"351.5\" x2=\"420.5\" y1=\"78.9375\" y2=\"78.9375\"/></a><!--MD5=[fd4143e9d270a159db93a4ea2a975926]\n",
       "class E9--><a href=\"psysml:04ff0b02-14ab-40e8-a866-ef9bcfd05ef7\" target=\"_top\" title=\"psysml:04ff0b02-14ab-40e8-a866-ef9bcfd05ef7\" xlink:actuate=\"onRequest\" xlink:href=\"psysml:04ff0b02-14ab-40e8-a866-ef9bcfd05ef7\" xlink:show=\"new\" xlink:title=\"psysml:04ff0b02-14ab-40e8-a866-ef9bcfd05ef7\" xlink:type=\"simple\"><rect fill=\"#FFFFFF\" height=\"45.9375\" id=\"E9\" rx=\"10\" ry=\"10\" style=\"stroke: #383838; stroke-width: 1.5;\" width=\"71\" x=\"244.5\" y=\"41\"/><text fill=\"#000000\" font-family=\"sans-serif\" font-size=\"12\" font-style=\"italic\" lengthAdjust=\"spacingAndGlyphs\" textLength=\"69\" x=\"245.5\" y=\"57.1387\">«attribute»</text><text fill=\"#000000\" font-family=\"sans-serif\" font-size=\"12\" lengthAdjust=\"spacingAndGlyphs\" textLength=\"8\" x=\"276\" y=\"71.1074\">g</text><line style=\"stroke: #383838; stroke-width: 1.5;\" x1=\"245.5\" x2=\"314.5\" y1=\"78.9375\" y2=\"78.9375\"/></a><!--MD5=[96f4274e9e20536e775497830990834d]\n",
       "class E10--><a href=\"psysml:37f56aff-8c9f-4a8e-95e0-50132129fb99\" target=\"_top\" title=\"psysml:37f56aff-8c9f-4a8e-95e0-50132129fb99\" xlink:actuate=\"onRequest\" xlink:href=\"psysml:37f56aff-8c9f-4a8e-95e0-50132129fb99\" xlink:show=\"new\" xlink:title=\"psysml:37f56aff-8c9f-4a8e-95e0-50132129fb99\" xlink:type=\"simple\"><rect fill=\"#FFFFFF\" height=\"45.9375\" id=\"E10\" rx=\"10\" ry=\"10\" style=\"stroke: #383838; stroke-width: 1.5;\" width=\"71\" x=\"138.5\" y=\"41\"/><text fill=\"#000000\" font-family=\"sans-serif\" font-size=\"12\" font-style=\"italic\" lengthAdjust=\"spacingAndGlyphs\" textLength=\"69\" x=\"139.5\" y=\"57.1387\">«attribute»</text><text fill=\"#000000\" font-family=\"sans-serif\" font-size=\"12\" lengthAdjust=\"spacingAndGlyphs\" textLength=\"8\" x=\"170\" y=\"71.1074\">b</text><line style=\"stroke: #383838; stroke-width: 1.5;\" x1=\"139.5\" x2=\"208.5\" y1=\"78.9375\" y2=\"78.9375\"/></a><!--MD5=[1dd1bfd58a279cf63c5f349dbc8fc6a1]\n",
       "class E11--><a href=\"psysml:6095b787-d7f9-43be-8b1b-f534282edd43\" target=\"_top\" title=\"psysml:6095b787-d7f9-43be-8b1b-f534282edd43\" xlink:actuate=\"onRequest\" xlink:href=\"psysml:6095b787-d7f9-43be-8b1b-f534282edd43\" xlink:show=\"new\" xlink:title=\"psysml:6095b787-d7f9-43be-8b1b-f534282edd43\" xlink:type=\"simple\"><rect fill=\"#FFFFFF\" height=\"45.9375\" id=\"E11\" rx=\"10\" ry=\"10\" style=\"stroke: #383838; stroke-width: 1.5;\" width=\"71\" x=\"32.5\" y=\"41\"/><text fill=\"#000000\" font-family=\"sans-serif\" font-size=\"12\" font-style=\"italic\" lengthAdjust=\"spacingAndGlyphs\" textLength=\"69\" x=\"33.5\" y=\"57.1387\">«attribute»</text><text fill=\"#000000\" font-family=\"sans-serif\" font-size=\"12\" lengthAdjust=\"spacingAndGlyphs\" textLength=\"7\" x=\"64.5\" y=\"71.1074\">c</text><line style=\"stroke: #383838; stroke-width: 1.5;\" x1=\"33.5\" x2=\"102.5\" y1=\"78.9375\" y2=\"78.9375\"/></a><text fill=\"#000000\" font-family=\"sans-serif\" font-size=\"14\" lengthAdjust=\"spacingAndGlyphs\" textLength=\"9\" x=\"567.5\" y=\"42.6982\">p</text><rect fill=\"#383838\" height=\"12\" style=\"stroke: #F8F8F8; stroke-width: 1.5;\" width=\"12\" x=\"566\" y=\"58\"/><text fill=\"#000000\" font-family=\"sans-serif\" font-size=\"14\" lengthAdjust=\"spacingAndGlyphs\" textLength=\"9\" x=\"614.5\" y=\"42.6982\">q</text><rect fill=\"#383838\" height=\"12\" style=\"stroke: #F8F8F8; stroke-width: 1.5;\" width=\"12\" x=\"613\" y=\"58\"/><text fill=\"#000000\" font-family=\"sans-serif\" font-size=\"14\" lengthAdjust=\"spacingAndGlyphs\" textLength=\"57\" x=\"590.5\" y=\"380.7151\">noname</text><rect fill=\"#383838\" height=\"12\" style=\"stroke: #F8F8F8; stroke-width: 1.5;\" width=\"12\" x=\"613\" y=\"355.72\"/><!--MD5=[05d275557350bfb9b23a4ef7222b4c39]\n",
       "link E3 to E2--><a href=\"psysml:982c8c0e-9af2-4f93-8067-230d5c39d8a2\" target=\"_top\" title=\"psysml:982c8c0e-9af2-4f93-8067-230d5c39d8a2\" xlink:actuate=\"onRequest\" xlink:href=\"psysml:982c8c0e-9af2-4f93-8067-230d5c39d8a2\" xlink:show=\"new\" xlink:title=\"psysml:982c8c0e-9af2-4f93-8067-230d5c39d8a2\" xlink:type=\"simple\"><path d=\"M488.12,87.06 C486.14,98.3 483.62,112.6 481.1,126.95 \" fill=\"none\" id=\"E3-&gt;E2\" style=\"stroke: #383838; stroke-width: 1.0;\"/><polygon fill=\"#FFFFFF\" points=\"477.58,146.93,473.9835,127.0035,487.7711,129.4331,477.58,146.93\" style=\"stroke: #383838; stroke-width: 1.0;\"/><ellipse cx=\"476.9423\" cy=\"121.7371\" fill=\"#383838\" rx=\"2\" ry=\"2\" style=\"stroke: #383838; stroke-width: 1.0;\"/><ellipse cx=\"486.7906\" cy=\"123.4725\" fill=\"#383838\" rx=\"2\" ry=\"2\" style=\"stroke: #383838; stroke-width: 1.0;\"/></a><!--MD5=[bb3c1d1e008524c86a398d0b1abdc481]\n",
       "@startuml\r\n",
       "skinparam linetype polyline\r\n",
       "skinparam monochrome true\r\n",
       "skinparam classbackgroundcolor white\r\n",
       "skinparam shadowing false\r\n",
       "skinparam wrapWidth 300\r\n",
       "hide circle\r\n",
       "\r\n",
       "package \"ParameterTest\" as E1  [[psysml:0dacd990-2b3a-4306-80d2-1e4fad6d04cd ]]  {\r\n",
       "comp def \"A\" as E2  <<(T,blue)attribute def>> [[psysml:03a6349f-297b-4a78-b9ab-052989f96479 ]] {\r\n",
       "- - attributes - -\r\n",
       "x: String\r\n",
       "y: A\r\n",
       "}\r\n",
       "comp usage \"a: A\" as E3  <<(T,blue)attribute>> [[psysml:d7af749e-ffc6-4773-972a-b8dfcfe9deb8 ]] {\r\n",
       "}\r\n",
       "rec def \"F\" as E4  <<(T,blue)calculation def>> [[psysml:cd1262f4-d3f9-4f52-89ee-1653680ad782 ]] {\r\n",
       "portin \"p\" as E5  [[psysml:16d77514-2de6-4c2c-add7-8b8555ca417f ]] \r\n",
       "portin \"q\" as E6  [[psysml:85e14753-ca59-4cde-8265-18a8cb4b45d6 ]] \r\n",
       "portout \"noname\" as E7  [[psysml:99b94083-4aa7-41fb-8d8e-135498f03bbe ]] \r\n",
       "}\r\n",
       "\r\n",
       "comp usage \"f\" as E8  <<(T,blue)attribute>> [[psysml:e43abf7c-a809-48bd-8c78-cd0a53fbbdb6 ]] {\r\n",
       "}\r\n",
       "comp usage \"g\" as E9  <<(T,blue)attribute>> [[psysml:04ff0b02-14ab-40e8-a866-ef9bcfd05ef7 ]] {\r\n",
       "}\r\n",
       "comp usage \"b\" as E10  <<(T,blue)attribute>> [[psysml:37f56aff-8c9f-4a8e-95e0-50132129fb99 ]] {\r\n",
       "}\r\n",
       "comp usage \"c\" as E11  <<(T,blue)attribute>> [[psysml:6095b787-d7f9-43be-8b1b-f534282edd43 ]] {\r\n",
       "}\r\n",
       "E3 - -:|> E2 [[psysml:982c8c0e-9af2-4f93-8067-230d5c39d8a2 ]] \r\n",
       "}\r\n",
       "@enduml\r\n",
       "\n",
       "PlantUML version 1.2020.13(Sat Jun 13 12:26:38 UTC 2020)\n",
       "(EPL source distribution)\n",
       "Java Runtime: OpenJDK Runtime Environment\n",
       "JVM: OpenJDK 64-Bit Server VM\n",
       "Default Encoding: UTF-8\n",
       "Language: en\n",
       "Country: null\n",
       "--></g></svg>"
      ]
     },
     "execution_count": 15,
     "metadata": {},
     "output_type": "execute_result"
    }
   ],
   "source": [
    "%viz --style=\"POLYLINE\" --view=\"MIXED\" \"ParameterTest\""
   ]
  },
  {
   "cell_type": "code",
   "execution_count": 16,
   "id": "regular-integral",
   "metadata": {
    "execution": {
     "iopub.execute_input": "2021-03-24T16:28:53.625425Z",
     "iopub.status.busy": "2021-03-24T16:28:53.624808Z",
     "iopub.status.idle": "2021-03-24T16:28:53.689380Z",
     "shell.execute_reply": "2021-03-24T16:28:53.689050Z"
    }
   },
   "outputs": [
    {
     "data": {
      "image/svg+xml": [
       "<?xml version=\"1.0\" encoding=\"UTF-8\" standalone=\"no\"?><svg xmlns=\"http://www.w3.org/2000/svg\" xmlns:xlink=\"http://www.w3.org/1999/xlink\" contentScriptType=\"application/ecmascript\" contentStyleType=\"text/css\" height=\"541px\" preserveAspectRatio=\"none\" style=\"width:474px;height:541px;\" version=\"1.1\" viewBox=\"0 0 474 541\" width=\"474px\" zoomAndPan=\"magnify\"><defs/><g><!--MD5=[fbc87193dbaf4d95561dea2c320d4a47]\n",
       "cluster E1--><a href=\"psysml:0dacd990-2b3a-4306-80d2-1e4fad6d04cd\" target=\"_top\" title=\"psysml:0dacd990-2b3a-4306-80d2-1e4fad6d04cd\" xlink:actuate=\"onRequest\" xlink:href=\"psysml:0dacd990-2b3a-4306-80d2-1e4fad6d04cd\" xlink:show=\"new\" xlink:title=\"psysml:0dacd990-2b3a-4306-80d2-1e4fad6d04cd\" xlink:type=\"simple\"><polygon fill=\"#FFFFFF\" points=\"16,6,139,6,146,28.2969,452.72,28.2969,452.72,529,16,529,16,6\" style=\"stroke: #000000; stroke-width: 1.5;\"/><line style=\"stroke: #000000; stroke-width: 1.5;\" x1=\"16\" x2=\"146\" y1=\"28.2969\" y2=\"28.2969\"/><text fill=\"#000000\" font-family=\"sans-serif\" font-size=\"14\" font-weight=\"bold\" lengthAdjust=\"spacingAndGlyphs\" textLength=\"117\" x=\"20\" y=\"20.9951\">ParameterTest</text></a><!--MD5=[f6df4d0ebaf0b5dfb2ced0ae5af7c670]\n",
       "cluster E4--><a href=\"psysml:cd1262f4-d3f9-4f52-89ee-1653680ad782\" target=\"_top\" title=\"psysml:cd1262f4-d3f9-4f52-89ee-1653680ad782\" xlink:actuate=\"onRequest\" xlink:href=\"psysml:cd1262f4-d3f9-4f52-89ee-1653680ad782\" xlink:show=\"new\" xlink:title=\"psysml:cd1262f4-d3f9-4f52-89ee-1653680ad782\" xlink:type=\"simple\"><rect fill=\"#FFFFFF\" height=\"47\" id=\"E4\" style=\"stroke: #383838; stroke-width: 1.5;\" width=\"373.22\" x=\"49.5\" y=\"55\"/><rect fill=\"#F8F8F8\" height=\"37.9375\" style=\"stroke: #383838; stroke-width: 1.5;\" width=\"373.22\" x=\"49.5\" y=\"55\"/><text fill=\"#000000\" font-family=\"sans-serif\" font-size=\"12\" font-style=\"italic\" lengthAdjust=\"spacingAndGlyphs\" textLength=\"106\" x=\"183.11\" y=\"71.1387\">«calculation def»</text><text fill=\"#000000\" font-family=\"sans-serif\" font-size=\"12\" lengthAdjust=\"spacingAndGlyphs\" textLength=\"7\" x=\"232.61\" y=\"85.1074\">F</text></a><!--MD5=[b4997ac47864f28c2f74865a473b2911]\n",
       "class E2--><a href=\"psysml:03a6349f-297b-4a78-b9ab-052989f96479\" target=\"_top\" title=\"psysml:03a6349f-297b-4a78-b9ab-052989f96479\" xlink:actuate=\"onRequest\" xlink:href=\"psysml:03a6349f-297b-4a78-b9ab-052989f96479\" xlink:show=\"new\" xlink:title=\"psysml:03a6349f-297b-4a78-b9ab-052989f96479\" xlink:type=\"simple\"><rect fill=\"#FFFFFF\" height=\"88.3516\" id=\"E2\" style=\"stroke: #383838; stroke-width: 1.5;\" width=\"95\" x=\"182\" y=\"128\"/><text fill=\"#000000\" font-family=\"sans-serif\" font-size=\"12\" font-style=\"italic\" lengthAdjust=\"spacingAndGlyphs\" textLength=\"93\" x=\"183\" y=\"144.1387\">«attribute def»</text><text fill=\"#000000\" font-family=\"sans-serif\" font-size=\"12\" lengthAdjust=\"spacingAndGlyphs\" textLength=\"8\" x=\"225.5\" y=\"158.1074\">A</text><line style=\"stroke: #383838; stroke-width: 1.5;\" x1=\"183\" x2=\"276\" y1=\"165.9375\" y2=\"165.9375\"/><text fill=\"#000000\" font-family=\"sans-serif\" font-size=\"11\" lengthAdjust=\"spacingAndGlyphs\" textLength=\"48\" x=\"188\" y=\"196.9526\">x: String</text><text fill=\"#000000\" font-family=\"sans-serif\" font-size=\"11\" lengthAdjust=\"spacingAndGlyphs\" textLength=\"21\" x=\"188\" y=\"209.7573\">y: A</text><line style=\"stroke: #383838; stroke-width: 1.0;\" x1=\"183\" x2=\"202\" y1=\"180.3398\" y2=\"180.3398\"/><text fill=\"#000000\" font-family=\"sans-serif\" font-size=\"11\" lengthAdjust=\"spacingAndGlyphs\" textLength=\"55\" x=\"202\" y=\"183.6479\">attributes</text><line style=\"stroke: #383838; stroke-width: 1.0;\" x1=\"257\" x2=\"276\" y1=\"180.3398\" y2=\"180.3398\"/></a><!--MD5=[09b614a08d8cba4a07c9adeb5e0fee81]\n",
       "class E3--><a href=\"psysml:d7af749e-ffc6-4773-972a-b8dfcfe9deb8\" target=\"_top\" title=\"psysml:d7af749e-ffc6-4773-972a-b8dfcfe9deb8\" xlink:actuate=\"onRequest\" xlink:href=\"psysml:d7af749e-ffc6-4773-972a-b8dfcfe9deb8\" xlink:show=\"new\" xlink:title=\"psysml:d7af749e-ffc6-4773-972a-b8dfcfe9deb8\" xlink:type=\"simple\"><rect fill=\"#FFFFFF\" height=\"45.9375\" id=\"E3\" rx=\"10\" ry=\"10\" style=\"stroke: #383838; stroke-width: 1.5;\" width=\"71\" x=\"32\" y=\"143\"/><text fill=\"#000000\" font-family=\"sans-serif\" font-size=\"12\" font-style=\"italic\" lengthAdjust=\"spacingAndGlyphs\" textLength=\"69\" x=\"33\" y=\"159.1387\">«attribute»</text><text fill=\"#000000\" font-family=\"sans-serif\" font-size=\"12\" lengthAdjust=\"spacingAndGlyphs\" textLength=\"24\" x=\"55.5\" y=\"173.1074\">a: A</text><line style=\"stroke: #383838; stroke-width: 1.5;\" x1=\"33\" x2=\"102\" y1=\"180.9375\" y2=\"180.9375\"/></a><!--MD5=[b9389687b975829384b498ac4b7476b2]\n",
       "class E8--><a href=\"psysml:e43abf7c-a809-48bd-8c78-cd0a53fbbdb6\" target=\"_top\" title=\"psysml:e43abf7c-a809-48bd-8c78-cd0a53fbbdb6\" xlink:actuate=\"onRequest\" xlink:href=\"psysml:e43abf7c-a809-48bd-8c78-cd0a53fbbdb6\" xlink:show=\"new\" xlink:title=\"psysml:e43abf7c-a809-48bd-8c78-cd0a53fbbdb6\" xlink:type=\"simple\"><rect fill=\"#FFFFFF\" height=\"45.9375\" id=\"E8\" rx=\"10\" ry=\"10\" style=\"stroke: #383838; stroke-width: 1.5;\" width=\"71\" x=\"32\" y=\"224\"/><text fill=\"#000000\" font-family=\"sans-serif\" font-size=\"12\" font-style=\"italic\" lengthAdjust=\"spacingAndGlyphs\" textLength=\"69\" x=\"33\" y=\"240.1387\">«attribute»</text><text fill=\"#000000\" font-family=\"sans-serif\" font-size=\"12\" lengthAdjust=\"spacingAndGlyphs\" textLength=\"4\" x=\"65.5\" y=\"254.1074\">f</text><line style=\"stroke: #383838; stroke-width: 1.5;\" x1=\"33\" x2=\"102\" y1=\"261.9375\" y2=\"261.9375\"/></a><!--MD5=[fd4143e9d270a159db93a4ea2a975926]\n",
       "class E9--><a href=\"psysml:04ff0b02-14ab-40e8-a866-ef9bcfd05ef7\" target=\"_top\" title=\"psysml:04ff0b02-14ab-40e8-a866-ef9bcfd05ef7\" xlink:actuate=\"onRequest\" xlink:href=\"psysml:04ff0b02-14ab-40e8-a866-ef9bcfd05ef7\" xlink:show=\"new\" xlink:title=\"psysml:04ff0b02-14ab-40e8-a866-ef9bcfd05ef7\" xlink:type=\"simple\"><rect fill=\"#FFFFFF\" height=\"45.9375\" id=\"E9\" rx=\"10\" ry=\"10\" style=\"stroke: #383838; stroke-width: 1.5;\" width=\"71\" x=\"32\" y=\"305\"/><text fill=\"#000000\" font-family=\"sans-serif\" font-size=\"12\" font-style=\"italic\" lengthAdjust=\"spacingAndGlyphs\" textLength=\"69\" x=\"33\" y=\"321.1387\">«attribute»</text><text fill=\"#000000\" font-family=\"sans-serif\" font-size=\"12\" lengthAdjust=\"spacingAndGlyphs\" textLength=\"8\" x=\"63.5\" y=\"335.1074\">g</text><line style=\"stroke: #383838; stroke-width: 1.5;\" x1=\"33\" x2=\"102\" y1=\"342.9375\" y2=\"342.9375\"/></a><!--MD5=[96f4274e9e20536e775497830990834d]\n",
       "class E10--><a href=\"psysml:37f56aff-8c9f-4a8e-95e0-50132129fb99\" target=\"_top\" title=\"psysml:37f56aff-8c9f-4a8e-95e0-50132129fb99\" xlink:actuate=\"onRequest\" xlink:href=\"psysml:37f56aff-8c9f-4a8e-95e0-50132129fb99\" xlink:show=\"new\" xlink:title=\"psysml:37f56aff-8c9f-4a8e-95e0-50132129fb99\" xlink:type=\"simple\"><rect fill=\"#FFFFFF\" height=\"45.9375\" id=\"E10\" rx=\"10\" ry=\"10\" style=\"stroke: #383838; stroke-width: 1.5;\" width=\"71\" x=\"32\" y=\"386\"/><text fill=\"#000000\" font-family=\"sans-serif\" font-size=\"12\" font-style=\"italic\" lengthAdjust=\"spacingAndGlyphs\" textLength=\"69\" x=\"33\" y=\"402.1387\">«attribute»</text><text fill=\"#000000\" font-family=\"sans-serif\" font-size=\"12\" lengthAdjust=\"spacingAndGlyphs\" textLength=\"8\" x=\"63.5\" y=\"416.1074\">b</text><line style=\"stroke: #383838; stroke-width: 1.5;\" x1=\"33\" x2=\"102\" y1=\"423.9375\" y2=\"423.9375\"/></a><!--MD5=[1dd1bfd58a279cf63c5f349dbc8fc6a1]\n",
       "class E11--><a href=\"psysml:6095b787-d7f9-43be-8b1b-f534282edd43\" target=\"_top\" title=\"psysml:6095b787-d7f9-43be-8b1b-f534282edd43\" xlink:actuate=\"onRequest\" xlink:href=\"psysml:6095b787-d7f9-43be-8b1b-f534282edd43\" xlink:show=\"new\" xlink:title=\"psysml:6095b787-d7f9-43be-8b1b-f534282edd43\" xlink:type=\"simple\"><rect fill=\"#FFFFFF\" height=\"45.9375\" id=\"E11\" rx=\"10\" ry=\"10\" style=\"stroke: #383838; stroke-width: 1.5;\" width=\"71\" x=\"32\" y=\"467\"/><text fill=\"#000000\" font-family=\"sans-serif\" font-size=\"12\" font-style=\"italic\" lengthAdjust=\"spacingAndGlyphs\" textLength=\"69\" x=\"33\" y=\"483.1387\">«attribute»</text><text fill=\"#000000\" font-family=\"sans-serif\" font-size=\"12\" lengthAdjust=\"spacingAndGlyphs\" textLength=\"7\" x=\"64\" y=\"497.1074\">c</text><line style=\"stroke: #383838; stroke-width: 1.5;\" x1=\"33\" x2=\"102\" y1=\"504.9375\" y2=\"504.9375\"/></a><text fill=\"#000000\" font-family=\"sans-serif\" font-size=\"14\" lengthAdjust=\"spacingAndGlyphs\" textLength=\"9\" x=\"63\" y=\"120.9951\">p</text><rect fill=\"#383838\" height=\"12\" style=\"stroke: #F8F8F8; stroke-width: 1.5;\" width=\"12\" x=\"61.5\" y=\"96\"/><text fill=\"#000000\" font-family=\"sans-serif\" font-size=\"14\" lengthAdjust=\"spacingAndGlyphs\" textLength=\"9\" x=\"63\" y=\"33.6982\">q</text><rect fill=\"#383838\" height=\"12\" style=\"stroke: #F8F8F8; stroke-width: 1.5;\" width=\"12\" x=\"61.5\" y=\"49\"/><text fill=\"#000000\" font-family=\"sans-serif\" font-size=\"14\" lengthAdjust=\"spacingAndGlyphs\" textLength=\"57\" x=\"394.22\" y=\"53.6982\">noname</text><rect fill=\"#383838\" height=\"12\" style=\"stroke: #F8F8F8; stroke-width: 1.5;\" width=\"12\" x=\"416.72\" y=\"69\"/><!--MD5=[05d275557350bfb9b23a4ef7222b4c39]\n",
       "link E3 to E2--><a href=\"psysml:982c8c0e-9af2-4f93-8067-230d5c39d8a2\" target=\"_top\" title=\"psysml:982c8c0e-9af2-4f93-8067-230d5c39d8a2\" xlink:actuate=\"onRequest\" xlink:href=\"psysml:982c8c0e-9af2-4f93-8067-230d5c39d8a2\" xlink:show=\"new\" xlink:title=\"psysml:982c8c0e-9af2-4f93-8067-230d5c39d8a2\" xlink:type=\"simple\"><path d=\"M103.22,167.3 C120.27,167.94 141.42,168.73 161.45,169.49 \" fill=\"none\" id=\"E3-&gt;E2\" style=\"stroke: #383838; stroke-width: 1.0;\"/><polygon fill=\"#FFFFFF\" points=\"181.71,170.25,162.4631,176.5394,162.9831,162.5491,181.71,170.25\" style=\"stroke: #383838; stroke-width: 1.0;\"/><ellipse cx=\"156.8413\" cy=\"174.3291\" fill=\"#383838\" rx=\"2\" ry=\"2\" style=\"stroke: #383838; stroke-width: 1.0;\"/><ellipse cx=\"157.2128\" cy=\"164.336\" fill=\"#383838\" rx=\"2\" ry=\"2\" style=\"stroke: #383838; stroke-width: 1.0;\"/></a><!--MD5=[58a4f4289bb9a9f41f910b276f6b70c4]\n",
       "@startuml\r\n",
       "left to right direction\r\n",
       "skinparam monochrome true\r\n",
       "skinparam classbackgroundcolor white\r\n",
       "skinparam shadowing false\r\n",
       "skinparam wrapWidth 300\r\n",
       "hide circle\r\n",
       "\r\n",
       "package \"ParameterTest\" as E1  [[psysml:0dacd990-2b3a-4306-80d2-1e4fad6d04cd ]]  {\r\n",
       "comp def \"A\" as E2  <<(T,blue)attribute def>> [[psysml:03a6349f-297b-4a78-b9ab-052989f96479 ]] {\r\n",
       "- - attributes - -\r\n",
       "x: String\r\n",
       "y: A\r\n",
       "}\r\n",
       "comp usage \"a: A\" as E3  <<(T,blue)attribute>> [[psysml:d7af749e-ffc6-4773-972a-b8dfcfe9deb8 ]] {\r\n",
       "}\r\n",
       "rec def \"F\" as E4  <<(T,blue)calculation def>> [[psysml:cd1262f4-d3f9-4f52-89ee-1653680ad782 ]] {\r\n",
       "portin \"p\" as E5  [[psysml:16d77514-2de6-4c2c-add7-8b8555ca417f ]] \r\n",
       "portin \"q\" as E6  [[psysml:85e14753-ca59-4cde-8265-18a8cb4b45d6 ]] \r\n",
       "portout \"noname\" as E7  [[psysml:99b94083-4aa7-41fb-8d8e-135498f03bbe ]] \r\n",
       "}\r\n",
       "\r\n",
       "comp usage \"f\" as E8  <<(T,blue)attribute>> [[psysml:e43abf7c-a809-48bd-8c78-cd0a53fbbdb6 ]] {\r\n",
       "}\r\n",
       "comp usage \"g\" as E9  <<(T,blue)attribute>> [[psysml:04ff0b02-14ab-40e8-a866-ef9bcfd05ef7 ]] {\r\n",
       "}\r\n",
       "comp usage \"b\" as E10  <<(T,blue)attribute>> [[psysml:37f56aff-8c9f-4a8e-95e0-50132129fb99 ]] {\r\n",
       "}\r\n",
       "comp usage \"c\" as E11  <<(T,blue)attribute>> [[psysml:6095b787-d7f9-43be-8b1b-f534282edd43 ]] {\r\n",
       "}\r\n",
       "E3 - -:|> E2 [[psysml:982c8c0e-9af2-4f93-8067-230d5c39d8a2 ]] \r\n",
       "}\r\n",
       "@enduml\r\n",
       "\n",
       "PlantUML version 1.2020.13(Sat Jun 13 12:26:38 UTC 2020)\n",
       "(EPL source distribution)\n",
       "Java Runtime: OpenJDK Runtime Environment\n",
       "JVM: OpenJDK 64-Bit Server VM\n",
       "Default Encoding: UTF-8\n",
       "Language: en\n",
       "Country: null\n",
       "--></g></svg>"
      ]
     },
     "execution_count": 16,
     "metadata": {},
     "output_type": "execute_result"
    }
   ],
   "source": [
    "%viz --style=\"LR\" --view=\"Default\" \"ParameterTest\""
   ]
  },
  {
   "cell_type": "code",
   "execution_count": 17,
   "id": "international-profession",
   "metadata": {
    "execution": {
     "iopub.execute_input": "2021-03-24T16:28:53.740259Z",
     "iopub.status.busy": "2021-03-24T16:28:53.739638Z",
     "iopub.status.idle": "2021-03-24T16:28:53.793232Z",
     "shell.execute_reply": "2021-03-24T16:28:53.791655Z"
    }
   },
   "outputs": [
    {
     "data": {
      "image/svg+xml": [
       "<?xml version=\"1.0\" encoding=\"UTF-8\" standalone=\"no\"?><svg xmlns=\"http://www.w3.org/2000/svg\" xmlns:xlink=\"http://www.w3.org/1999/xlink\" contentScriptType=\"application/ecmascript\" contentStyleType=\"text/css\" height=\"520px\" preserveAspectRatio=\"none\" style=\"width:343px;height:520px;\" version=\"1.1\" viewBox=\"0 0 343 520\" width=\"343px\" zoomAndPan=\"magnify\"><defs/><g><!--MD5=[fbc87193dbaf4d95561dea2c320d4a47]\n",
       "cluster E1--><a href=\"psysml:0dacd990-2b3a-4306-80d2-1e4fad6d04cd\" target=\"_top\" title=\"psysml:0dacd990-2b3a-4306-80d2-1e4fad6d04cd\" xlink:actuate=\"onRequest\" xlink:href=\"psysml:0dacd990-2b3a-4306-80d2-1e4fad6d04cd\" xlink:show=\"new\" xlink:title=\"psysml:0dacd990-2b3a-4306-80d2-1e4fad6d04cd\" xlink:type=\"simple\"><polygon fill=\"#FFFFFF\" points=\"16,6,139,6,146,28.2969,321,28.2969,321,508,16,508,16,6\" style=\"stroke: #000000; stroke-width: 1.5;\"/><line style=\"stroke: #000000; stroke-width: 1.5;\" x1=\"16\" x2=\"146\" y1=\"28.2969\" y2=\"28.2969\"/><text fill=\"#000000\" font-family=\"sans-serif\" font-size=\"14\" font-weight=\"bold\" lengthAdjust=\"spacingAndGlyphs\" textLength=\"117\" x=\"20\" y=\"20.9951\">ParameterTest</text></a><!--MD5=[b4997ac47864f28c2f74865a473b2911]\n",
       "class E2--><a href=\"psysml:03a6349f-297b-4a78-b9ab-052989f96479\" target=\"_top\" title=\"psysml:03a6349f-297b-4a78-b9ab-052989f96479\" xlink:actuate=\"onRequest\" xlink:href=\"psysml:03a6349f-297b-4a78-b9ab-052989f96479\" xlink:show=\"new\" xlink:title=\"psysml:03a6349f-297b-4a78-b9ab-052989f96479\" xlink:type=\"simple\"><rect fill=\"#FFFFFF\" height=\"88.3516\" id=\"E2\" style=\"stroke: #383838; stroke-width: 1.5;\" width=\"95\" x=\"210\" y=\"76\"/><text fill=\"#000000\" font-family=\"sans-serif\" font-size=\"12\" font-style=\"italic\" lengthAdjust=\"spacingAndGlyphs\" textLength=\"93\" x=\"211\" y=\"92.1387\">«attribute def»</text><text fill=\"#000000\" font-family=\"sans-serif\" font-size=\"12\" lengthAdjust=\"spacingAndGlyphs\" textLength=\"8\" x=\"253.5\" y=\"106.1074\">A</text><line style=\"stroke: #383838; stroke-width: 1.5;\" x1=\"211\" x2=\"304\" y1=\"113.9375\" y2=\"113.9375\"/><text fill=\"#000000\" font-family=\"sans-serif\" font-size=\"11\" lengthAdjust=\"spacingAndGlyphs\" textLength=\"48\" x=\"216\" y=\"144.9526\">x: String</text><text fill=\"#000000\" font-family=\"sans-serif\" font-size=\"11\" lengthAdjust=\"spacingAndGlyphs\" textLength=\"21\" x=\"216\" y=\"157.7573\">y: A</text><line style=\"stroke: #383838; stroke-width: 1.0;\" x1=\"211\" x2=\"230\" y1=\"128.3398\" y2=\"128.3398\"/><text fill=\"#000000\" font-family=\"sans-serif\" font-size=\"11\" lengthAdjust=\"spacingAndGlyphs\" textLength=\"55\" x=\"230\" y=\"131.6479\">attributes</text><line style=\"stroke: #383838; stroke-width: 1.0;\" x1=\"285\" x2=\"304\" y1=\"128.3398\" y2=\"128.3398\"/></a><!--MD5=[09b614a08d8cba4a07c9adeb5e0fee81]\n",
       "class E3--><a href=\"psysml:d7af749e-ffc6-4773-972a-b8dfcfe9deb8\" target=\"_top\" title=\"psysml:d7af749e-ffc6-4773-972a-b8dfcfe9deb8\" xlink:actuate=\"onRequest\" xlink:href=\"psysml:d7af749e-ffc6-4773-972a-b8dfcfe9deb8\" xlink:show=\"new\" xlink:title=\"psysml:d7af749e-ffc6-4773-972a-b8dfcfe9deb8\" xlink:type=\"simple\"><rect fill=\"#FFFFFF\" height=\"45.9375\" id=\"E3\" rx=\"10\" ry=\"10\" style=\"stroke: #383838; stroke-width: 1.5;\" width=\"71\" x=\"50.5\" y=\"41\"/><text fill=\"#000000\" font-family=\"sans-serif\" font-size=\"12\" font-style=\"italic\" lengthAdjust=\"spacingAndGlyphs\" textLength=\"69\" x=\"51.5\" y=\"57.1387\">«attribute»</text><text fill=\"#000000\" font-family=\"sans-serif\" font-size=\"12\" lengthAdjust=\"spacingAndGlyphs\" textLength=\"24\" x=\"74\" y=\"71.1074\">a: A</text><line style=\"stroke: #383838; stroke-width: 1.5;\" x1=\"51.5\" x2=\"120.5\" y1=\"78.9375\" y2=\"78.9375\"/></a><!--MD5=[ebbe1d658d1005bcc118a6aa81145e00]\n",
       "class E4--><a href=\"psysml:cd1262f4-d3f9-4f52-89ee-1653680ad782\" target=\"_top\" title=\"psysml:cd1262f4-d3f9-4f52-89ee-1653680ad782\" xlink:actuate=\"onRequest\" xlink:href=\"psysml:cd1262f4-d3f9-4f52-89ee-1653680ad782\" xlink:show=\"new\" xlink:title=\"psysml:cd1262f4-d3f9-4f52-89ee-1653680ad782\" xlink:type=\"simple\"><rect fill=\"#FFFFFF\" height=\"45.9375\" id=\"E4\" style=\"stroke: #383838; stroke-width: 1.5;\" width=\"108\" x=\"32\" y=\"122\"/><text fill=\"#000000\" font-family=\"sans-serif\" font-size=\"12\" font-style=\"italic\" lengthAdjust=\"spacingAndGlyphs\" textLength=\"106\" x=\"33\" y=\"138.1387\">«calculation def»</text><text fill=\"#000000\" font-family=\"sans-serif\" font-size=\"12\" lengthAdjust=\"spacingAndGlyphs\" textLength=\"7\" x=\"82.5\" y=\"152.1074\">F</text><line style=\"stroke: #383838; stroke-width: 1.5;\" x1=\"33\" x2=\"139\" y1=\"159.9375\" y2=\"159.9375\"/></a><!--MD5=[270fce915f116d4de14055a7c1d9a0f3]\n",
       "class E5--><a href=\"psysml:e43abf7c-a809-48bd-8c78-cd0a53fbbdb6\" target=\"_top\" title=\"psysml:e43abf7c-a809-48bd-8c78-cd0a53fbbdb6\" xlink:actuate=\"onRequest\" xlink:href=\"psysml:e43abf7c-a809-48bd-8c78-cd0a53fbbdb6\" xlink:show=\"new\" xlink:title=\"psysml:e43abf7c-a809-48bd-8c78-cd0a53fbbdb6\" xlink:type=\"simple\"><rect fill=\"#FFFFFF\" height=\"45.9375\" id=\"E5\" rx=\"10\" ry=\"10\" style=\"stroke: #383838; stroke-width: 1.5;\" width=\"71\" x=\"50.5\" y=\"203\"/><text fill=\"#000000\" font-family=\"sans-serif\" font-size=\"12\" font-style=\"italic\" lengthAdjust=\"spacingAndGlyphs\" textLength=\"69\" x=\"51.5\" y=\"219.1387\">«attribute»</text><text fill=\"#000000\" font-family=\"sans-serif\" font-size=\"12\" lengthAdjust=\"spacingAndGlyphs\" textLength=\"4\" x=\"84\" y=\"233.1074\">f</text><line style=\"stroke: #383838; stroke-width: 1.5;\" x1=\"51.5\" x2=\"120.5\" y1=\"240.9375\" y2=\"240.9375\"/></a><!--MD5=[60a26617385b1d2d0262a64233df1f8d]\n",
       "class E6--><a href=\"psysml:04ff0b02-14ab-40e8-a866-ef9bcfd05ef7\" target=\"_top\" title=\"psysml:04ff0b02-14ab-40e8-a866-ef9bcfd05ef7\" xlink:actuate=\"onRequest\" xlink:href=\"psysml:04ff0b02-14ab-40e8-a866-ef9bcfd05ef7\" xlink:show=\"new\" xlink:title=\"psysml:04ff0b02-14ab-40e8-a866-ef9bcfd05ef7\" xlink:type=\"simple\"><rect fill=\"#FFFFFF\" height=\"45.9375\" id=\"E6\" rx=\"10\" ry=\"10\" style=\"stroke: #383838; stroke-width: 1.5;\" width=\"71\" x=\"50.5\" y=\"284\"/><text fill=\"#000000\" font-family=\"sans-serif\" font-size=\"12\" font-style=\"italic\" lengthAdjust=\"spacingAndGlyphs\" textLength=\"69\" x=\"51.5\" y=\"300.1387\">«attribute»</text><text fill=\"#000000\" font-family=\"sans-serif\" font-size=\"12\" lengthAdjust=\"spacingAndGlyphs\" textLength=\"8\" x=\"82\" y=\"314.1074\">g</text><line style=\"stroke: #383838; stroke-width: 1.5;\" x1=\"51.5\" x2=\"120.5\" y1=\"321.9375\" y2=\"321.9375\"/></a><!--MD5=[2156ba9850f5573cc1fc38a6a4b2f02b]\n",
       "class E7--><a href=\"psysml:37f56aff-8c9f-4a8e-95e0-50132129fb99\" target=\"_top\" title=\"psysml:37f56aff-8c9f-4a8e-95e0-50132129fb99\" xlink:actuate=\"onRequest\" xlink:href=\"psysml:37f56aff-8c9f-4a8e-95e0-50132129fb99\" xlink:show=\"new\" xlink:title=\"psysml:37f56aff-8c9f-4a8e-95e0-50132129fb99\" xlink:type=\"simple\"><rect fill=\"#FFFFFF\" height=\"45.9375\" id=\"E7\" rx=\"10\" ry=\"10\" style=\"stroke: #383838; stroke-width: 1.5;\" width=\"71\" x=\"50.5\" y=\"365\"/><text fill=\"#000000\" font-family=\"sans-serif\" font-size=\"12\" font-style=\"italic\" lengthAdjust=\"spacingAndGlyphs\" textLength=\"69\" x=\"51.5\" y=\"381.1387\">«attribute»</text><text fill=\"#000000\" font-family=\"sans-serif\" font-size=\"12\" lengthAdjust=\"spacingAndGlyphs\" textLength=\"8\" x=\"82\" y=\"395.1074\">b</text><line style=\"stroke: #383838; stroke-width: 1.5;\" x1=\"51.5\" x2=\"120.5\" y1=\"402.9375\" y2=\"402.9375\"/></a><!--MD5=[b9389687b975829384b498ac4b7476b2]\n",
       "class E8--><a href=\"psysml:6095b787-d7f9-43be-8b1b-f534282edd43\" target=\"_top\" title=\"psysml:6095b787-d7f9-43be-8b1b-f534282edd43\" xlink:actuate=\"onRequest\" xlink:href=\"psysml:6095b787-d7f9-43be-8b1b-f534282edd43\" xlink:show=\"new\" xlink:title=\"psysml:6095b787-d7f9-43be-8b1b-f534282edd43\" xlink:type=\"simple\"><rect fill=\"#FFFFFF\" height=\"45.9375\" id=\"E8\" rx=\"10\" ry=\"10\" style=\"stroke: #383838; stroke-width: 1.5;\" width=\"71\" x=\"50.5\" y=\"446\"/><text fill=\"#000000\" font-family=\"sans-serif\" font-size=\"12\" font-style=\"italic\" lengthAdjust=\"spacingAndGlyphs\" textLength=\"69\" x=\"51.5\" y=\"462.1387\">«attribute»</text><text fill=\"#000000\" font-family=\"sans-serif\" font-size=\"12\" lengthAdjust=\"spacingAndGlyphs\" textLength=\"7\" x=\"82.5\" y=\"476.1074\">c</text><line style=\"stroke: #383838; stroke-width: 1.5;\" x1=\"51.5\" x2=\"120.5\" y1=\"483.9375\" y2=\"483.9375\"/></a><!--MD5=[05d275557350bfb9b23a4ef7222b4c39]\n",
       "link E3 to E2--><a href=\"psysml:982c8c0e-9af2-4f93-8067-230d5c39d8a2\" target=\"_top\" title=\"psysml:982c8c0e-9af2-4f93-8067-230d5c39d8a2\" xlink:actuate=\"onRequest\" xlink:href=\"psysml:982c8c0e-9af2-4f93-8067-230d5c39d8a2\" xlink:show=\"new\" xlink:title=\"psysml:982c8c0e-9af2-4f93-8067-230d5c39d8a2\" xlink:type=\"simple\"><path d=\"M121.71,75.47 C141.61,82.04 167.25,90.51 190.81,98.3 \" fill=\"none\" id=\"E3-&gt;E2\" style=\"stroke: #383838; stroke-width: 1.0;\"/><polygon fill=\"#FFFFFF\" points=\"209.94,104.62,189.7032,105.3073,194.0944,92.0138,209.94,104.62\" style=\"stroke: #383838; stroke-width: 1.0;\"/><ellipse cx=\"184.9182\" cy=\"101.6204\" fill=\"#383838\" rx=\"2\" ry=\"2\" style=\"stroke: #383838; stroke-width: 1.0;\"/><ellipse cx=\"188.0547\" cy=\"92.125\" fill=\"#383838\" rx=\"2\" ry=\"2\" style=\"stroke: #383838; stroke-width: 1.0;\"/></a><!--MD5=[ddeed8deb2209213b62e6cfabaa108b2]\n",
       "reverse link E4 to E2--><a href=\"psysml:16d77514-2de6-4c2c-add7-8b8555ca417f\" target=\"_top\" title=\"psysml:16d77514-2de6-4c2c-add7-8b8555ca417f\" xlink:actuate=\"onRequest\" xlink:href=\"psysml:16d77514-2de6-4c2c-add7-8b8555ca417f\" xlink:show=\"new\" xlink:title=\"psysml:16d77514-2de6-4c2c-add7-8b8555ca417f\" xlink:type=\"simple\"><path d=\"M153.04,135.26 C172,132.46 192.29,129.47 209.82,126.88 \" fill=\"none\" id=\"E4&lt;-E2\" style=\"stroke: #383838; stroke-width: 1.0;\"/><polygon fill=\"#FFFFFF\" points=\"140.17,137.16,146.6903,140.2399,152.0411,135.4057,145.5208,132.3258,140.17,137.16\" style=\"stroke: #383838; stroke-width: 1.0;\"/><text fill=\"#000000\" font-family=\"sans-serif\" font-size=\"13\" lengthAdjust=\"spacingAndGlyphs\" textLength=\"8\" x=\"171\" y=\"128.0669\">p</text></a><!--MD5=[c3839e6b537aadaa326dcb795071f7d7]\n",
       "@startuml\r\n",
       "left to right direction\r\n",
       "skinparam monochrome true\r\n",
       "skinparam classbackgroundcolor white\r\n",
       "skinparam shadowing false\r\n",
       "skinparam wrapWidth 300\r\n",
       "hide circle\r\n",
       "\r\n",
       "package \"ParameterTest\" as E1  [[psysml:0dacd990-2b3a-4306-80d2-1e4fad6d04cd ]]  {\r\n",
       "comp def \"A\" as E2  <<(T,blue)attribute def>> [[psysml:03a6349f-297b-4a78-b9ab-052989f96479 ]] {\r\n",
       "- - attributes - -\r\n",
       "x: String\r\n",
       "y: A\r\n",
       "}\r\n",
       "comp usage \"a: A\" as E3  <<(T,blue)attribute>> [[psysml:d7af749e-ffc6-4773-972a-b8dfcfe9deb8 ]] {\r\n",
       "}\r\n",
       "comp def \"F\" as E4  <<(T,blue)calculation def>> [[psysml:cd1262f4-d3f9-4f52-89ee-1653680ad782 ]] {\r\n",
       "}\r\n",
       "comp usage \"f\" as E5  <<(T,blue)attribute>> [[psysml:e43abf7c-a809-48bd-8c78-cd0a53fbbdb6 ]] {\r\n",
       "}\r\n",
       "comp usage \"g\" as E6  <<(T,blue)attribute>> [[psysml:04ff0b02-14ab-40e8-a866-ef9bcfd05ef7 ]] {\r\n",
       "}\r\n",
       "comp usage \"b\" as E7  <<(T,blue)attribute>> [[psysml:37f56aff-8c9f-4a8e-95e0-50132129fb99 ]] {\r\n",
       "}\r\n",
       "comp usage \"c\" as E8  <<(T,blue)attribute>> [[psysml:6095b787-d7f9-43be-8b1b-f534282edd43 ]] {\r\n",
       "}\r\n",
       "E3 - -:|> E2 [[psysml:982c8c0e-9af2-4f93-8067-230d5c39d8a2 ]] \r\n",
       "E4 o- - E2 [[psysml:16d77514-2de6-4c2c-add7-8b8555ca417f ]] : p\r\n",
       "}\r\n",
       "@enduml\r\n",
       "\n",
       "PlantUML version 1.2020.13(Sat Jun 13 12:26:38 UTC 2020)\n",
       "(EPL source distribution)\n",
       "Java Runtime: OpenJDK Runtime Environment\n",
       "JVM: OpenJDK 64-Bit Server VM\n",
       "Default Encoding: UTF-8\n",
       "Language: en\n",
       "Country: null\n",
       "--></g></svg>"
      ]
     },
     "execution_count": 17,
     "metadata": {},
     "output_type": "execute_result"
    }
   ],
   "source": [
    "%viz --style=\"LR\" --view=\"Tree\" \"ParameterTest\""
   ]
  },
  {
   "cell_type": "code",
   "execution_count": 18,
   "id": "fitted-foster",
   "metadata": {
    "execution": {
     "iopub.execute_input": "2021-03-24T16:28:53.845112Z",
     "iopub.status.busy": "2021-03-24T16:28:53.844486Z",
     "iopub.status.idle": "2021-03-24T16:28:53.851257Z",
     "shell.execute_reply": "2021-03-24T16:28:53.850926Z"
    }
   },
   "outputs": [
    {
     "data": {
      "image/svg+xml": [
       "<?xml version=\"1.0\" encoding=\"UTF-8\" standalone=\"no\"?><svg xmlns=\"http://www.w3.org/2000/svg\" xmlns:xlink=\"http://www.w3.org/1999/xlink\" contentScriptType=\"application/ecmascript\" contentStyleType=\"text/css\" height=\"12px\" preserveAspectRatio=\"none\" style=\"width:12px;height:12px;\" version=\"1.1\" viewBox=\"0 0 12 12\" width=\"12px\" zoomAndPan=\"magnify\"><defs/><g><!--MD5=[19d285c9d72a204eba4e2cd117d745e8]\n",
       "@startuml\r\n",
       "left to right direction\r\n",
       "skinparam monochrome true\r\n",
       "skinparam classbackgroundcolor white\r\n",
       "skinparam shadowing false\r\n",
       "skinparam wrapWidth 300\r\n",
       "hide circle\r\n",
       "\r\n",
       "@enduml\r\n",
       "\n",
       "PlantUML version 1.2020.13(Sat Jun 13 12:26:38 UTC 2020)\n",
       "(EPL source distribution)\n",
       "Java Runtime: OpenJDK Runtime Environment\n",
       "JVM: OpenJDK 64-Bit Server VM\n",
       "Default Encoding: UTF-8\n",
       "Language: en\n",
       "Country: null\n",
       "--></g></svg>"
      ]
     },
     "execution_count": 18,
     "metadata": {},
     "output_type": "execute_result"
    }
   ],
   "source": [
    "%viz --style=\"LR\" --view=\"State\" \"ParameterTest\""
   ]
  },
  {
   "cell_type": "code",
   "execution_count": 19,
   "id": "satisfactory-ivory",
   "metadata": {
    "execution": {
     "iopub.execute_input": "2021-03-24T16:28:53.901304Z",
     "iopub.status.busy": "2021-03-24T16:28:53.900905Z",
     "iopub.status.idle": "2021-03-24T16:28:53.938253Z",
     "shell.execute_reply": "2021-03-24T16:28:53.937929Z"
    }
   },
   "outputs": [
    {
     "data": {
      "image/svg+xml": [
       "<?xml version=\"1.0\" encoding=\"UTF-8\" standalone=\"no\"?><svg xmlns=\"http://www.w3.org/2000/svg\" xmlns:xlink=\"http://www.w3.org/1999/xlink\" contentScriptType=\"application/ecmascript\" contentStyleType=\"text/css\" height=\"541px\" preserveAspectRatio=\"none\" style=\"width:336px;height:541px;\" version=\"1.1\" viewBox=\"0 0 336 541\" width=\"336px\" zoomAndPan=\"magnify\"><defs/><g><!--MD5=[fbc87193dbaf4d95561dea2c320d4a47]\n",
       "cluster E1--><a href=\"psysml:0dacd990-2b3a-4306-80d2-1e4fad6d04cd\" target=\"_top\" title=\"psysml:0dacd990-2b3a-4306-80d2-1e4fad6d04cd\" xlink:actuate=\"onRequest\" xlink:href=\"psysml:0dacd990-2b3a-4306-80d2-1e4fad6d04cd\" xlink:show=\"new\" xlink:title=\"psysml:0dacd990-2b3a-4306-80d2-1e4fad6d04cd\" xlink:type=\"simple\"><polygon fill=\"#FFFFFF\" points=\"16,6,139,6,146,28.2969,314.72,28.2969,314.72,529,16,529,16,6\" style=\"stroke: #000000; stroke-width: 1.5;\"/><line style=\"stroke: #000000; stroke-width: 1.5;\" x1=\"16\" x2=\"146\" y1=\"28.2969\" y2=\"28.2969\"/><text fill=\"#000000\" font-family=\"sans-serif\" font-size=\"14\" font-weight=\"bold\" lengthAdjust=\"spacingAndGlyphs\" textLength=\"117\" x=\"20\" y=\"20.9951\">ParameterTest</text></a><!--MD5=[f6df4d0ebaf0b5dfb2ced0ae5af7c670]\n",
       "cluster E4--><a href=\"psysml:cd1262f4-d3f9-4f52-89ee-1653680ad782\" target=\"_top\" title=\"psysml:cd1262f4-d3f9-4f52-89ee-1653680ad782\" xlink:actuate=\"onRequest\" xlink:href=\"psysml:cd1262f4-d3f9-4f52-89ee-1653680ad782\" xlink:show=\"new\" xlink:title=\"psysml:cd1262f4-d3f9-4f52-89ee-1653680ad782\" xlink:type=\"simple\"><rect fill=\"#FFFFFF\" height=\"47\" id=\"E4\" style=\"stroke: #383838; stroke-width: 1.5;\" width=\"235.22\" x=\"49.5\" y=\"55\"/><rect fill=\"#F8F8F8\" height=\"37.9375\" style=\"stroke: #383838; stroke-width: 1.5;\" width=\"235.22\" x=\"49.5\" y=\"55\"/><text fill=\"#000000\" font-family=\"sans-serif\" font-size=\"12\" font-style=\"italic\" lengthAdjust=\"spacingAndGlyphs\" textLength=\"106\" x=\"114.11\" y=\"71.1387\">«calculation def»</text><text fill=\"#000000\" font-family=\"sans-serif\" font-size=\"12\" lengthAdjust=\"spacingAndGlyphs\" textLength=\"7\" x=\"163.61\" y=\"85.1074\">F</text></a><g id=\"E1.E2\"><a href=\"psysml:03a6349f-297b-4a78-b9ab-052989f96479\" target=\"_top\" title=\"psysml:03a6349f-297b-4a78-b9ab-052989f96479\" xlink:actuate=\"onRequest\" xlink:href=\"psysml:03a6349f-297b-4a78-b9ab-052989f96479\" xlink:show=\"new\" xlink:title=\"psysml:03a6349f-297b-4a78-b9ab-052989f96479\" xlink:type=\"simple\"><rect fill=\"#FFFFFF\" height=\"42.9375\" id=\"E2\" style=\"stroke: #383838; stroke-width: 1.5;\" width=\"100\" x=\"135.5\" y=\"144.5\"/><rect fill=\"#F8F8F8\" height=\"37.9375\" style=\"stroke: #383838; stroke-width: 1.5;\" width=\"100\" x=\"135.5\" y=\"144.5\"/><text fill=\"#000000\" font-family=\"sans-serif\" font-size=\"12\" font-style=\"italic\" lengthAdjust=\"spacingAndGlyphs\" textLength=\"93\" x=\"139\" y=\"160.6387\">«attribute def»</text><text fill=\"#000000\" font-family=\"sans-serif\" font-size=\"12\" lengthAdjust=\"spacingAndGlyphs\" textLength=\"8\" x=\"181.5\" y=\"174.6074\">A</text></a></g><!--MD5=[09b614a08d8cba4a07c9adeb5e0fee81]\n",
       "class E3--><a href=\"psysml:d7af749e-ffc6-4773-972a-b8dfcfe9deb8\" target=\"_top\" title=\"psysml:d7af749e-ffc6-4773-972a-b8dfcfe9deb8\" xlink:actuate=\"onRequest\" xlink:href=\"psysml:d7af749e-ffc6-4773-972a-b8dfcfe9deb8\" xlink:show=\"new\" xlink:title=\"psysml:d7af749e-ffc6-4773-972a-b8dfcfe9deb8\" xlink:type=\"simple\"><rect fill=\"#FFFFFF\" height=\"45.9375\" id=\"E3\" rx=\"10\" ry=\"10\" style=\"stroke: #383838; stroke-width: 1.5;\" width=\"71\" x=\"32\" y=\"143\"/><text fill=\"#000000\" font-family=\"sans-serif\" font-size=\"12\" font-style=\"italic\" lengthAdjust=\"spacingAndGlyphs\" textLength=\"69\" x=\"33\" y=\"159.1387\">«attribute»</text><text fill=\"#000000\" font-family=\"sans-serif\" font-size=\"12\" lengthAdjust=\"spacingAndGlyphs\" textLength=\"24\" x=\"55.5\" y=\"173.1074\">a: A</text><line style=\"stroke: #383838; stroke-width: 1.5;\" x1=\"33\" x2=\"102\" y1=\"180.9375\" y2=\"180.9375\"/></a><!--MD5=[b9389687b975829384b498ac4b7476b2]\n",
       "class E8--><a href=\"psysml:e43abf7c-a809-48bd-8c78-cd0a53fbbdb6\" target=\"_top\" title=\"psysml:e43abf7c-a809-48bd-8c78-cd0a53fbbdb6\" xlink:actuate=\"onRequest\" xlink:href=\"psysml:e43abf7c-a809-48bd-8c78-cd0a53fbbdb6\" xlink:show=\"new\" xlink:title=\"psysml:e43abf7c-a809-48bd-8c78-cd0a53fbbdb6\" xlink:type=\"simple\"><rect fill=\"#FFFFFF\" height=\"45.9375\" id=\"E8\" rx=\"10\" ry=\"10\" style=\"stroke: #383838; stroke-width: 1.5;\" width=\"71\" x=\"32\" y=\"224\"/><text fill=\"#000000\" font-family=\"sans-serif\" font-size=\"12\" font-style=\"italic\" lengthAdjust=\"spacingAndGlyphs\" textLength=\"69\" x=\"33\" y=\"240.1387\">«attribute»</text><text fill=\"#000000\" font-family=\"sans-serif\" font-size=\"12\" lengthAdjust=\"spacingAndGlyphs\" textLength=\"4\" x=\"65.5\" y=\"254.1074\">f</text><line style=\"stroke: #383838; stroke-width: 1.5;\" x1=\"33\" x2=\"102\" y1=\"261.9375\" y2=\"261.9375\"/></a><!--MD5=[fd4143e9d270a159db93a4ea2a975926]\n",
       "class E9--><a href=\"psysml:04ff0b02-14ab-40e8-a866-ef9bcfd05ef7\" target=\"_top\" title=\"psysml:04ff0b02-14ab-40e8-a866-ef9bcfd05ef7\" xlink:actuate=\"onRequest\" xlink:href=\"psysml:04ff0b02-14ab-40e8-a866-ef9bcfd05ef7\" xlink:show=\"new\" xlink:title=\"psysml:04ff0b02-14ab-40e8-a866-ef9bcfd05ef7\" xlink:type=\"simple\"><rect fill=\"#FFFFFF\" height=\"45.9375\" id=\"E9\" rx=\"10\" ry=\"10\" style=\"stroke: #383838; stroke-width: 1.5;\" width=\"71\" x=\"32\" y=\"305\"/><text fill=\"#000000\" font-family=\"sans-serif\" font-size=\"12\" font-style=\"italic\" lengthAdjust=\"spacingAndGlyphs\" textLength=\"69\" x=\"33\" y=\"321.1387\">«attribute»</text><text fill=\"#000000\" font-family=\"sans-serif\" font-size=\"12\" lengthAdjust=\"spacingAndGlyphs\" textLength=\"8\" x=\"63.5\" y=\"335.1074\">g</text><line style=\"stroke: #383838; stroke-width: 1.5;\" x1=\"33\" x2=\"102\" y1=\"342.9375\" y2=\"342.9375\"/></a><!--MD5=[96f4274e9e20536e775497830990834d]\n",
       "class E10--><a href=\"psysml:37f56aff-8c9f-4a8e-95e0-50132129fb99\" target=\"_top\" title=\"psysml:37f56aff-8c9f-4a8e-95e0-50132129fb99\" xlink:actuate=\"onRequest\" xlink:href=\"psysml:37f56aff-8c9f-4a8e-95e0-50132129fb99\" xlink:show=\"new\" xlink:title=\"psysml:37f56aff-8c9f-4a8e-95e0-50132129fb99\" xlink:type=\"simple\"><rect fill=\"#FFFFFF\" height=\"45.9375\" id=\"E10\" rx=\"10\" ry=\"10\" style=\"stroke: #383838; stroke-width: 1.5;\" width=\"71\" x=\"32\" y=\"386\"/><text fill=\"#000000\" font-family=\"sans-serif\" font-size=\"12\" font-style=\"italic\" lengthAdjust=\"spacingAndGlyphs\" textLength=\"69\" x=\"33\" y=\"402.1387\">«attribute»</text><text fill=\"#000000\" font-family=\"sans-serif\" font-size=\"12\" lengthAdjust=\"spacingAndGlyphs\" textLength=\"8\" x=\"63.5\" y=\"416.1074\">b</text><line style=\"stroke: #383838; stroke-width: 1.5;\" x1=\"33\" x2=\"102\" y1=\"423.9375\" y2=\"423.9375\"/></a><!--MD5=[1dd1bfd58a279cf63c5f349dbc8fc6a1]\n",
       "class E11--><a href=\"psysml:6095b787-d7f9-43be-8b1b-f534282edd43\" target=\"_top\" title=\"psysml:6095b787-d7f9-43be-8b1b-f534282edd43\" xlink:actuate=\"onRequest\" xlink:href=\"psysml:6095b787-d7f9-43be-8b1b-f534282edd43\" xlink:show=\"new\" xlink:title=\"psysml:6095b787-d7f9-43be-8b1b-f534282edd43\" xlink:type=\"simple\"><rect fill=\"#FFFFFF\" height=\"45.9375\" id=\"E11\" rx=\"10\" ry=\"10\" style=\"stroke: #383838; stroke-width: 1.5;\" width=\"71\" x=\"32\" y=\"467\"/><text fill=\"#000000\" font-family=\"sans-serif\" font-size=\"12\" font-style=\"italic\" lengthAdjust=\"spacingAndGlyphs\" textLength=\"69\" x=\"33\" y=\"483.1387\">«attribute»</text><text fill=\"#000000\" font-family=\"sans-serif\" font-size=\"12\" lengthAdjust=\"spacingAndGlyphs\" textLength=\"7\" x=\"64\" y=\"497.1074\">c</text><line style=\"stroke: #383838; stroke-width: 1.5;\" x1=\"33\" x2=\"102\" y1=\"504.9375\" y2=\"504.9375\"/></a><text fill=\"#000000\" font-family=\"sans-serif\" font-size=\"14\" lengthAdjust=\"spacingAndGlyphs\" textLength=\"9\" x=\"63\" y=\"120.9951\">p</text><rect fill=\"#383838\" height=\"12\" style=\"stroke: #F8F8F8; stroke-width: 1.5;\" width=\"12\" x=\"61.5\" y=\"96\"/><text fill=\"#000000\" font-family=\"sans-serif\" font-size=\"14\" lengthAdjust=\"spacingAndGlyphs\" textLength=\"9\" x=\"63\" y=\"33.6982\">q</text><rect fill=\"#383838\" height=\"12\" style=\"stroke: #F8F8F8; stroke-width: 1.5;\" width=\"12\" x=\"61.5\" y=\"49\"/><text fill=\"#000000\" font-family=\"sans-serif\" font-size=\"14\" lengthAdjust=\"spacingAndGlyphs\" textLength=\"57\" x=\"256.22\" y=\"53.6982\">noname</text><rect fill=\"#383838\" height=\"12\" style=\"stroke: #F8F8F8; stroke-width: 1.5;\" width=\"12\" x=\"278.72\" y=\"69\"/><!--MD5=[05d275557350bfb9b23a4ef7222b4c39]\n",
       "link E3 to E2--><a href=\"psysml:982c8c0e-9af2-4f93-8067-230d5c39d8a2\" target=\"_top\" title=\"psysml:982c8c0e-9af2-4f93-8067-230d5c39d8a2\" xlink:actuate=\"onRequest\" xlink:href=\"psysml:982c8c0e-9af2-4f93-8067-230d5c39d8a2\" xlink:show=\"new\" xlink:title=\"psysml:982c8c0e-9af2-4f93-8067-230d5c39d8a2\" xlink:type=\"simple\"><path d=\"M103.3,166 C107.06,166 110.97,166 114.95,166 \" fill=\"none\" id=\"E3-&gt;E2\" style=\"stroke: #383838; stroke-width: 1.0;\"/><polygon fill=\"#FFFFFF\" points=\"135.14,166,116.14,173,116.14,159,135.14,166\" style=\"stroke: #383838; stroke-width: 1.0;\"/><ellipse cx=\"110.44\" cy=\"171\" fill=\"#383838\" rx=\"2\" ry=\"2\" style=\"stroke: #383838; stroke-width: 1.0;\"/><ellipse cx=\"110.44\" cy=\"161\" fill=\"#383838\" rx=\"2\" ry=\"2\" style=\"stroke: #383838; stroke-width: 1.0;\"/></a><!--MD5=[9b5516ab48ee33b7b2d0ad133ed781b3]\n",
       "@startuml\r\n",
       "skinparam ranksep 10\r\n",
       "skinparam rectangle {\r\n",
       " backgroundColor<<block>> LightGreen\r\n",
       "}\r\n",
       "left to right direction\r\n",
       "skinparam monochrome true\r\n",
       "skinparam classbackgroundcolor white\r\n",
       "skinparam shadowing false\r\n",
       "skinparam wrapWidth 300\r\n",
       "hide circle\r\n",
       "\r\n",
       "package \"ParameterTest\" as E1  [[psysml:0dacd990-2b3a-4306-80d2-1e4fad6d04cd ]]  {\r\n",
       "def \"A\" as E2  <<(T,blue)attribute def>> [[psysml:03a6349f-297b-4a78-b9ab-052989f96479 ]] \r\n",
       "comp usage \"a: A\" as E3  <<(T,blue)attribute>> [[psysml:d7af749e-ffc6-4773-972a-b8dfcfe9deb8 ]] {\r\n",
       "}\r\n",
       "rec def \"F\" as E4  <<(T,blue)calculation def>> [[psysml:cd1262f4-d3f9-4f52-89ee-1653680ad782 ]] {\r\n",
       "portin \"p\" as E5  [[psysml:16d77514-2de6-4c2c-add7-8b8555ca417f ]] \r\n",
       "portin \"q\" as E6  [[psysml:85e14753-ca59-4cde-8265-18a8cb4b45d6 ]] \r\n",
       "portout \"noname\" as E7  [[psysml:99b94083-4aa7-41fb-8d8e-135498f03bbe ]] \r\n",
       "}\r\n",
       "\r\n",
       "comp usage \"f\" as E8  <<(T,blue)attribute>> [[psysml:e43abf7c-a809-48bd-8c78-cd0a53fbbdb6 ]] {\r\n",
       "}\r\n",
       "comp usage \"g\" as E9  <<(T,blue)attribute>> [[psysml:04ff0b02-14ab-40e8-a866-ef9bcfd05ef7 ]] {\r\n",
       "}\r\n",
       "comp usage \"b\" as E10  <<(T,blue)attribute>> [[psysml:37f56aff-8c9f-4a8e-95e0-50132129fb99 ]] {\r\n",
       "}\r\n",
       "comp usage \"c\" as E11  <<(T,blue)attribute>> [[psysml:6095b787-d7f9-43be-8b1b-f534282edd43 ]] {\r\n",
       "}\r\n",
       "E3 - -:|> E2 [[psysml:982c8c0e-9af2-4f93-8067-230d5c39d8a2 ]] \r\n",
       "}\r\n",
       "@enduml\r\n",
       "\n",
       "PlantUML version 1.2020.13(Sat Jun 13 12:26:38 UTC 2020)\n",
       "(EPL source distribution)\n",
       "Java Runtime: OpenJDK Runtime Environment\n",
       "JVM: OpenJDK 64-Bit Server VM\n",
       "Default Encoding: UTF-8\n",
       "Language: en\n",
       "Country: null\n",
       "--></g></svg>"
      ]
     },
     "execution_count": 19,
     "metadata": {},
     "output_type": "execute_result"
    }
   ],
   "source": [
    "%viz --style=\"LR\" --view=\"Interconnection\" \"ParameterTest\""
   ]
  },
  {
   "cell_type": "code",
   "execution_count": 20,
   "id": "imperial-student",
   "metadata": {
    "execution": {
     "iopub.execute_input": "2021-03-24T16:28:53.988665Z",
     "iopub.status.busy": "2021-03-24T16:28:53.988001Z",
     "iopub.status.idle": "2021-03-24T16:28:54.013848Z",
     "shell.execute_reply": "2021-03-24T16:28:54.013512Z"
    }
   },
   "outputs": [
    {
     "data": {
      "image/svg+xml": [
       "<?xml version=\"1.0\" encoding=\"UTF-8\" standalone=\"no\"?><svg xmlns=\"http://www.w3.org/2000/svg\" xmlns:xlink=\"http://www.w3.org/1999/xlink\" contentScriptType=\"application/ecmascript\" contentStyleType=\"text/css\" height=\"121px\" preserveAspectRatio=\"none\" style=\"width:251px;height:121px;\" version=\"1.1\" viewBox=\"0 0 251 121\" width=\"251px\" zoomAndPan=\"magnify\"><defs/><g><!--MD5=[fbc87193dbaf4d95561dea2c320d4a47]\n",
       "cluster E1--><a href=\"psysml:cd1262f4-d3f9-4f52-89ee-1653680ad782\" target=\"_top\" title=\"psysml:cd1262f4-d3f9-4f52-89ee-1653680ad782\" xlink:actuate=\"onRequest\" xlink:href=\"psysml:cd1262f4-d3f9-4f52-89ee-1653680ad782\" xlink:show=\"new\" xlink:title=\"psysml:cd1262f4-d3f9-4f52-89ee-1653680ad782\" xlink:type=\"simple\"><rect fill=\"#FFFFFF\" height=\"47\" id=\"E1\" style=\"stroke: #383838; stroke-width: 1.5;\" width=\"203.72\" x=\"7\" y=\"42.0986\"/><rect fill=\"#F8F8F8\" height=\"37.9375\" style=\"stroke: #383838; stroke-width: 1.5;\" width=\"203.72\" x=\"7\" y=\"42.0986\"/><text fill=\"#000000\" font-family=\"sans-serif\" font-size=\"12\" font-style=\"italic\" lengthAdjust=\"spacingAndGlyphs\" textLength=\"106\" x=\"55.86\" y=\"58.2373\">«calculation def»</text><text fill=\"#000000\" font-family=\"sans-serif\" font-size=\"12\" lengthAdjust=\"spacingAndGlyphs\" textLength=\"7\" x=\"105.36\" y=\"72.2061\">F</text></a><text fill=\"#000000\" font-family=\"sans-serif\" font-size=\"14\" lengthAdjust=\"spacingAndGlyphs\" textLength=\"9\" x=\"20.5\" y=\"108.0938\">p</text><rect fill=\"#383838\" height=\"12\" style=\"stroke: #F8F8F8; stroke-width: 1.5;\" width=\"12\" x=\"19\" y=\"83.0986\"/><text fill=\"#000000\" font-family=\"sans-serif\" font-size=\"14\" lengthAdjust=\"spacingAndGlyphs\" textLength=\"9\" x=\"20.5\" y=\"20.7969\">q</text><rect fill=\"#383838\" height=\"12\" style=\"stroke: #F8F8F8; stroke-width: 1.5;\" width=\"12\" x=\"19\" y=\"36.0986\"/><text fill=\"#000000\" font-family=\"sans-serif\" font-size=\"14\" lengthAdjust=\"spacingAndGlyphs\" textLength=\"57\" x=\"182.22\" y=\"40.7969\">noname</text><rect fill=\"#383838\" height=\"12\" style=\"stroke: #F8F8F8; stroke-width: 1.5;\" width=\"12\" x=\"204.72\" y=\"56.0986\"/><!--MD5=[edc216aca47e77e01e23221d25103932]\n",
       "@startuml\r\n",
       "skinparam ranksep 8\r\n",
       "left to right direction\r\n",
       "skinparam monochrome true\r\n",
       "skinparam classbackgroundcolor white\r\n",
       "skinparam shadowing false\r\n",
       "skinparam wrapWidth 300\r\n",
       "hide circle\r\n",
       "\r\n",
       "rec def \"F\" as E1  <<(T,blue)calculation def>> [[psysml:cd1262f4-d3f9-4f52-89ee-1653680ad782 ]] {\r\n",
       "portin \"p\" as E2  [[psysml:16d77514-2de6-4c2c-add7-8b8555ca417f ]] \r\n",
       "portin \"q\" as E3  [[psysml:85e14753-ca59-4cde-8265-18a8cb4b45d6 ]] \r\n",
       "portout \"noname\" as E4  [[psysml:99b94083-4aa7-41fb-8d8e-135498f03bbe ]] \r\n",
       "}\r\n",
       "\r\n",
       "@enduml\r\n",
       "\n",
       "PlantUML version 1.2020.13(Sat Jun 13 12:26:38 UTC 2020)\n",
       "(EPL source distribution)\n",
       "Java Runtime: OpenJDK Runtime Environment\n",
       "JVM: OpenJDK 64-Bit Server VM\n",
       "Default Encoding: UTF-8\n",
       "Language: en\n",
       "Country: null\n",
       "--></g></svg>"
      ]
     },
     "execution_count": 20,
     "metadata": {},
     "output_type": "execute_result"
    }
   ],
   "source": [
    "%viz --style=\"LR\" --view=\"Action\" \"ParameterTest\""
   ]
  },
  {
   "cell_type": "code",
   "execution_count": 21,
   "id": "coupled-insight",
   "metadata": {
    "execution": {
     "iopub.execute_input": "2021-03-24T16:28:54.065157Z",
     "iopub.status.busy": "2021-03-24T16:28:54.064720Z",
     "iopub.status.idle": "2021-03-24T16:28:54.120784Z",
     "shell.execute_reply": "2021-03-24T16:28:54.118233Z"
    }
   },
   "outputs": [
    {
     "data": {
      "image/svg+xml": [
       "<?xml version=\"1.0\" encoding=\"UTF-8\" standalone=\"no\"?><svg xmlns=\"http://www.w3.org/2000/svg\" xmlns:xlink=\"http://www.w3.org/1999/xlink\" contentScriptType=\"application/ecmascript\" contentStyleType=\"text/css\" height=\"520px\" preserveAspectRatio=\"none\" style=\"width:343px;height:520px;\" version=\"1.1\" viewBox=\"0 0 343 520\" width=\"343px\" zoomAndPan=\"magnify\"><defs/><g><!--MD5=[fbc87193dbaf4d95561dea2c320d4a47]\n",
       "cluster E1--><a href=\"psysml:0dacd990-2b3a-4306-80d2-1e4fad6d04cd\" target=\"_top\" title=\"psysml:0dacd990-2b3a-4306-80d2-1e4fad6d04cd\" xlink:actuate=\"onRequest\" xlink:href=\"psysml:0dacd990-2b3a-4306-80d2-1e4fad6d04cd\" xlink:show=\"new\" xlink:title=\"psysml:0dacd990-2b3a-4306-80d2-1e4fad6d04cd\" xlink:type=\"simple\"><polygon fill=\"#FFFFFF\" points=\"16,6,139,6,146,28.2969,321,28.2969,321,508,16,508,16,6\" style=\"stroke: #000000; stroke-width: 1.5;\"/><line style=\"stroke: #000000; stroke-width: 1.5;\" x1=\"16\" x2=\"146\" y1=\"28.2969\" y2=\"28.2969\"/><text fill=\"#000000\" font-family=\"sans-serif\" font-size=\"14\" font-weight=\"bold\" lengthAdjust=\"spacingAndGlyphs\" textLength=\"117\" x=\"20\" y=\"20.9951\">ParameterTest</text></a><!--MD5=[b4997ac47864f28c2f74865a473b2911]\n",
       "class E2--><a href=\"psysml:03a6349f-297b-4a78-b9ab-052989f96479\" target=\"_top\" title=\"psysml:03a6349f-297b-4a78-b9ab-052989f96479\" xlink:actuate=\"onRequest\" xlink:href=\"psysml:03a6349f-297b-4a78-b9ab-052989f96479\" xlink:show=\"new\" xlink:title=\"psysml:03a6349f-297b-4a78-b9ab-052989f96479\" xlink:type=\"simple\"><rect fill=\"#FFFFFF\" height=\"88.3516\" id=\"E2\" style=\"stroke: #383838; stroke-width: 1.5;\" width=\"95\" x=\"210\" y=\"76\"/><text fill=\"#000000\" font-family=\"sans-serif\" font-size=\"12\" font-style=\"italic\" lengthAdjust=\"spacingAndGlyphs\" textLength=\"93\" x=\"211\" y=\"92.1387\">«attribute def»</text><text fill=\"#000000\" font-family=\"sans-serif\" font-size=\"12\" lengthAdjust=\"spacingAndGlyphs\" textLength=\"8\" x=\"253.5\" y=\"106.1074\">A</text><line style=\"stroke: #383838; stroke-width: 1.5;\" x1=\"211\" x2=\"304\" y1=\"113.9375\" y2=\"113.9375\"/><text fill=\"#000000\" font-family=\"sans-serif\" font-size=\"11\" lengthAdjust=\"spacingAndGlyphs\" textLength=\"48\" x=\"216\" y=\"144.9526\">x: String</text><text fill=\"#000000\" font-family=\"sans-serif\" font-size=\"11\" lengthAdjust=\"spacingAndGlyphs\" textLength=\"21\" x=\"216\" y=\"157.7573\">y: A</text><line style=\"stroke: #383838; stroke-width: 1.0;\" x1=\"211\" x2=\"230\" y1=\"128.3398\" y2=\"128.3398\"/><text fill=\"#000000\" font-family=\"sans-serif\" font-size=\"11\" lengthAdjust=\"spacingAndGlyphs\" textLength=\"55\" x=\"230\" y=\"131.6479\">attributes</text><line style=\"stroke: #383838; stroke-width: 1.0;\" x1=\"285\" x2=\"304\" y1=\"128.3398\" y2=\"128.3398\"/></a><!--MD5=[09b614a08d8cba4a07c9adeb5e0fee81]\n",
       "class E3--><a href=\"psysml:d7af749e-ffc6-4773-972a-b8dfcfe9deb8\" target=\"_top\" title=\"psysml:d7af749e-ffc6-4773-972a-b8dfcfe9deb8\" xlink:actuate=\"onRequest\" xlink:href=\"psysml:d7af749e-ffc6-4773-972a-b8dfcfe9deb8\" xlink:show=\"new\" xlink:title=\"psysml:d7af749e-ffc6-4773-972a-b8dfcfe9deb8\" xlink:type=\"simple\"><rect fill=\"#FFFFFF\" height=\"45.9375\" id=\"E3\" rx=\"10\" ry=\"10\" style=\"stroke: #383838; stroke-width: 1.5;\" width=\"71\" x=\"50.5\" y=\"41\"/><text fill=\"#000000\" font-family=\"sans-serif\" font-size=\"12\" font-style=\"italic\" lengthAdjust=\"spacingAndGlyphs\" textLength=\"69\" x=\"51.5\" y=\"57.1387\">«attribute»</text><text fill=\"#000000\" font-family=\"sans-serif\" font-size=\"12\" lengthAdjust=\"spacingAndGlyphs\" textLength=\"24\" x=\"74\" y=\"71.1074\">a: A</text><line style=\"stroke: #383838; stroke-width: 1.5;\" x1=\"51.5\" x2=\"120.5\" y1=\"78.9375\" y2=\"78.9375\"/></a><!--MD5=[ebbe1d658d1005bcc118a6aa81145e00]\n",
       "class E4--><a href=\"psysml:cd1262f4-d3f9-4f52-89ee-1653680ad782\" target=\"_top\" title=\"psysml:cd1262f4-d3f9-4f52-89ee-1653680ad782\" xlink:actuate=\"onRequest\" xlink:href=\"psysml:cd1262f4-d3f9-4f52-89ee-1653680ad782\" xlink:show=\"new\" xlink:title=\"psysml:cd1262f4-d3f9-4f52-89ee-1653680ad782\" xlink:type=\"simple\"><rect fill=\"#FFFFFF\" height=\"45.9375\" id=\"E4\" style=\"stroke: #383838; stroke-width: 1.5;\" width=\"108\" x=\"32\" y=\"122\"/><text fill=\"#000000\" font-family=\"sans-serif\" font-size=\"12\" font-style=\"italic\" lengthAdjust=\"spacingAndGlyphs\" textLength=\"106\" x=\"33\" y=\"138.1387\">«calculation def»</text><text fill=\"#000000\" font-family=\"sans-serif\" font-size=\"12\" lengthAdjust=\"spacingAndGlyphs\" textLength=\"7\" x=\"82.5\" y=\"152.1074\">F</text><line style=\"stroke: #383838; stroke-width: 1.5;\" x1=\"33\" x2=\"139\" y1=\"159.9375\" y2=\"159.9375\"/></a><!--MD5=[270fce915f116d4de14055a7c1d9a0f3]\n",
       "class E5--><a href=\"psysml:e43abf7c-a809-48bd-8c78-cd0a53fbbdb6\" target=\"_top\" title=\"psysml:e43abf7c-a809-48bd-8c78-cd0a53fbbdb6\" xlink:actuate=\"onRequest\" xlink:href=\"psysml:e43abf7c-a809-48bd-8c78-cd0a53fbbdb6\" xlink:show=\"new\" xlink:title=\"psysml:e43abf7c-a809-48bd-8c78-cd0a53fbbdb6\" xlink:type=\"simple\"><rect fill=\"#FFFFFF\" height=\"45.9375\" id=\"E5\" rx=\"10\" ry=\"10\" style=\"stroke: #383838; stroke-width: 1.5;\" width=\"71\" x=\"50.5\" y=\"203\"/><text fill=\"#000000\" font-family=\"sans-serif\" font-size=\"12\" font-style=\"italic\" lengthAdjust=\"spacingAndGlyphs\" textLength=\"69\" x=\"51.5\" y=\"219.1387\">«attribute»</text><text fill=\"#000000\" font-family=\"sans-serif\" font-size=\"12\" lengthAdjust=\"spacingAndGlyphs\" textLength=\"4\" x=\"84\" y=\"233.1074\">f</text><line style=\"stroke: #383838; stroke-width: 1.5;\" x1=\"51.5\" x2=\"120.5\" y1=\"240.9375\" y2=\"240.9375\"/></a><!--MD5=[60a26617385b1d2d0262a64233df1f8d]\n",
       "class E6--><a href=\"psysml:04ff0b02-14ab-40e8-a866-ef9bcfd05ef7\" target=\"_top\" title=\"psysml:04ff0b02-14ab-40e8-a866-ef9bcfd05ef7\" xlink:actuate=\"onRequest\" xlink:href=\"psysml:04ff0b02-14ab-40e8-a866-ef9bcfd05ef7\" xlink:show=\"new\" xlink:title=\"psysml:04ff0b02-14ab-40e8-a866-ef9bcfd05ef7\" xlink:type=\"simple\"><rect fill=\"#FFFFFF\" height=\"45.9375\" id=\"E6\" rx=\"10\" ry=\"10\" style=\"stroke: #383838; stroke-width: 1.5;\" width=\"71\" x=\"50.5\" y=\"284\"/><text fill=\"#000000\" font-family=\"sans-serif\" font-size=\"12\" font-style=\"italic\" lengthAdjust=\"spacingAndGlyphs\" textLength=\"69\" x=\"51.5\" y=\"300.1387\">«attribute»</text><text fill=\"#000000\" font-family=\"sans-serif\" font-size=\"12\" lengthAdjust=\"spacingAndGlyphs\" textLength=\"8\" x=\"82\" y=\"314.1074\">g</text><line style=\"stroke: #383838; stroke-width: 1.5;\" x1=\"51.5\" x2=\"120.5\" y1=\"321.9375\" y2=\"321.9375\"/></a><!--MD5=[2156ba9850f5573cc1fc38a6a4b2f02b]\n",
       "class E7--><a href=\"psysml:37f56aff-8c9f-4a8e-95e0-50132129fb99\" target=\"_top\" title=\"psysml:37f56aff-8c9f-4a8e-95e0-50132129fb99\" xlink:actuate=\"onRequest\" xlink:href=\"psysml:37f56aff-8c9f-4a8e-95e0-50132129fb99\" xlink:show=\"new\" xlink:title=\"psysml:37f56aff-8c9f-4a8e-95e0-50132129fb99\" xlink:type=\"simple\"><rect fill=\"#FFFFFF\" height=\"45.9375\" id=\"E7\" rx=\"10\" ry=\"10\" style=\"stroke: #383838; stroke-width: 1.5;\" width=\"71\" x=\"50.5\" y=\"365\"/><text fill=\"#000000\" font-family=\"sans-serif\" font-size=\"12\" font-style=\"italic\" lengthAdjust=\"spacingAndGlyphs\" textLength=\"69\" x=\"51.5\" y=\"381.1387\">«attribute»</text><text fill=\"#000000\" font-family=\"sans-serif\" font-size=\"12\" lengthAdjust=\"spacingAndGlyphs\" textLength=\"8\" x=\"82\" y=\"395.1074\">b</text><line style=\"stroke: #383838; stroke-width: 1.5;\" x1=\"51.5\" x2=\"120.5\" y1=\"402.9375\" y2=\"402.9375\"/></a><!--MD5=[b9389687b975829384b498ac4b7476b2]\n",
       "class E8--><a href=\"psysml:6095b787-d7f9-43be-8b1b-f534282edd43\" target=\"_top\" title=\"psysml:6095b787-d7f9-43be-8b1b-f534282edd43\" xlink:actuate=\"onRequest\" xlink:href=\"psysml:6095b787-d7f9-43be-8b1b-f534282edd43\" xlink:show=\"new\" xlink:title=\"psysml:6095b787-d7f9-43be-8b1b-f534282edd43\" xlink:type=\"simple\"><rect fill=\"#FFFFFF\" height=\"45.9375\" id=\"E8\" rx=\"10\" ry=\"10\" style=\"stroke: #383838; stroke-width: 1.5;\" width=\"71\" x=\"50.5\" y=\"446\"/><text fill=\"#000000\" font-family=\"sans-serif\" font-size=\"12\" font-style=\"italic\" lengthAdjust=\"spacingAndGlyphs\" textLength=\"69\" x=\"51.5\" y=\"462.1387\">«attribute»</text><text fill=\"#000000\" font-family=\"sans-serif\" font-size=\"12\" lengthAdjust=\"spacingAndGlyphs\" textLength=\"7\" x=\"82.5\" y=\"476.1074\">c</text><line style=\"stroke: #383838; stroke-width: 1.5;\" x1=\"51.5\" x2=\"120.5\" y1=\"483.9375\" y2=\"483.9375\"/></a><!--MD5=[05d275557350bfb9b23a4ef7222b4c39]\n",
       "link E3 to E2--><a href=\"psysml:982c8c0e-9af2-4f93-8067-230d5c39d8a2\" target=\"_top\" title=\"psysml:982c8c0e-9af2-4f93-8067-230d5c39d8a2\" xlink:actuate=\"onRequest\" xlink:href=\"psysml:982c8c0e-9af2-4f93-8067-230d5c39d8a2\" xlink:show=\"new\" xlink:title=\"psysml:982c8c0e-9af2-4f93-8067-230d5c39d8a2\" xlink:type=\"simple\"><path d=\"M121.71,75.47 C141.61,82.04 167.25,90.51 190.81,98.3 \" fill=\"none\" id=\"E3-&gt;E2\" style=\"stroke: #383838; stroke-width: 1.0;\"/><polygon fill=\"#FFFFFF\" points=\"209.94,104.62,189.7032,105.3073,194.0944,92.0138,209.94,104.62\" style=\"stroke: #383838; stroke-width: 1.0;\"/><ellipse cx=\"184.9182\" cy=\"101.6204\" fill=\"#383838\" rx=\"2\" ry=\"2\" style=\"stroke: #383838; stroke-width: 1.0;\"/><ellipse cx=\"188.0547\" cy=\"92.125\" fill=\"#383838\" rx=\"2\" ry=\"2\" style=\"stroke: #383838; stroke-width: 1.0;\"/></a><!--MD5=[ddeed8deb2209213b62e6cfabaa108b2]\n",
       "reverse link E4 to E2--><a href=\"psysml:16d77514-2de6-4c2c-add7-8b8555ca417f\" target=\"_top\" title=\"psysml:16d77514-2de6-4c2c-add7-8b8555ca417f\" xlink:actuate=\"onRequest\" xlink:href=\"psysml:16d77514-2de6-4c2c-add7-8b8555ca417f\" xlink:show=\"new\" xlink:title=\"psysml:16d77514-2de6-4c2c-add7-8b8555ca417f\" xlink:type=\"simple\"><path d=\"M153.04,135.26 C172,132.46 192.29,129.47 209.82,126.88 \" fill=\"none\" id=\"E4&lt;-E2\" style=\"stroke: #383838; stroke-width: 1.0;\"/><polygon fill=\"#FFFFFF\" points=\"140.17,137.16,146.6903,140.2399,152.0411,135.4057,145.5208,132.3258,140.17,137.16\" style=\"stroke: #383838; stroke-width: 1.0;\"/><text fill=\"#000000\" font-family=\"sans-serif\" font-size=\"13\" lengthAdjust=\"spacingAndGlyphs\" textLength=\"8\" x=\"171\" y=\"128.0669\">p</text></a><!--MD5=[c3839e6b537aadaa326dcb795071f7d7]\n",
       "@startuml\r\n",
       "left to right direction\r\n",
       "skinparam monochrome true\r\n",
       "skinparam classbackgroundcolor white\r\n",
       "skinparam shadowing false\r\n",
       "skinparam wrapWidth 300\r\n",
       "hide circle\r\n",
       "\r\n",
       "package \"ParameterTest\" as E1  [[psysml:0dacd990-2b3a-4306-80d2-1e4fad6d04cd ]]  {\r\n",
       "comp def \"A\" as E2  <<(T,blue)attribute def>> [[psysml:03a6349f-297b-4a78-b9ab-052989f96479 ]] {\r\n",
       "- - attributes - -\r\n",
       "x: String\r\n",
       "y: A\r\n",
       "}\r\n",
       "comp usage \"a: A\" as E3  <<(T,blue)attribute>> [[psysml:d7af749e-ffc6-4773-972a-b8dfcfe9deb8 ]] {\r\n",
       "}\r\n",
       "comp def \"F\" as E4  <<(T,blue)calculation def>> [[psysml:cd1262f4-d3f9-4f52-89ee-1653680ad782 ]] {\r\n",
       "}\r\n",
       "comp usage \"f\" as E5  <<(T,blue)attribute>> [[psysml:e43abf7c-a809-48bd-8c78-cd0a53fbbdb6 ]] {\r\n",
       "}\r\n",
       "comp usage \"g\" as E6  <<(T,blue)attribute>> [[psysml:04ff0b02-14ab-40e8-a866-ef9bcfd05ef7 ]] {\r\n",
       "}\r\n",
       "comp usage \"b\" as E7  <<(T,blue)attribute>> [[psysml:37f56aff-8c9f-4a8e-95e0-50132129fb99 ]] {\r\n",
       "}\r\n",
       "comp usage \"c\" as E8  <<(T,blue)attribute>> [[psysml:6095b787-d7f9-43be-8b1b-f534282edd43 ]] {\r\n",
       "}\r\n",
       "E3 - -:|> E2 [[psysml:982c8c0e-9af2-4f93-8067-230d5c39d8a2 ]] \r\n",
       "E4 o- - E2 [[psysml:16d77514-2de6-4c2c-add7-8b8555ca417f ]] : p\r\n",
       "}\r\n",
       "@enduml\r\n",
       "\n",
       "PlantUML version 1.2020.13(Sat Jun 13 12:26:38 UTC 2020)\n",
       "(EPL source distribution)\n",
       "Java Runtime: OpenJDK Runtime Environment\n",
       "JVM: OpenJDK 64-Bit Server VM\n",
       "Default Encoding: UTF-8\n",
       "Language: en\n",
       "Country: null\n",
       "--></g></svg>"
      ]
     },
     "execution_count": 21,
     "metadata": {},
     "output_type": "execute_result"
    }
   ],
   "source": [
    "%viz --style=\"LR\" --view=\"Sequence\" \"ParameterTest\""
   ]
  },
  {
   "cell_type": "code",
   "execution_count": 22,
   "id": "detected-effects",
   "metadata": {
    "execution": {
     "iopub.execute_input": "2021-03-24T16:28:54.171498Z",
     "iopub.status.busy": "2021-03-24T16:28:54.170352Z",
     "iopub.status.idle": "2021-03-24T16:28:54.222849Z",
     "shell.execute_reply": "2021-03-24T16:28:54.221414Z"
    }
   },
   "outputs": [
    {
     "data": {
      "image/svg+xml": [
       "<?xml version=\"1.0\" encoding=\"UTF-8\" standalone=\"no\"?><svg xmlns=\"http://www.w3.org/2000/svg\" xmlns:xlink=\"http://www.w3.org/1999/xlink\" contentScriptType=\"application/ecmascript\" contentStyleType=\"text/css\" height=\"541px\" preserveAspectRatio=\"none\" style=\"width:474px;height:541px;\" version=\"1.1\" viewBox=\"0 0 474 541\" width=\"474px\" zoomAndPan=\"magnify\"><defs/><g><!--MD5=[fbc87193dbaf4d95561dea2c320d4a47]\n",
       "cluster E1--><a href=\"psysml:0dacd990-2b3a-4306-80d2-1e4fad6d04cd\" target=\"_top\" title=\"psysml:0dacd990-2b3a-4306-80d2-1e4fad6d04cd\" xlink:actuate=\"onRequest\" xlink:href=\"psysml:0dacd990-2b3a-4306-80d2-1e4fad6d04cd\" xlink:show=\"new\" xlink:title=\"psysml:0dacd990-2b3a-4306-80d2-1e4fad6d04cd\" xlink:type=\"simple\"><polygon fill=\"#FFFFFF\" points=\"16,6,139,6,146,28.2969,452.72,28.2969,452.72,529,16,529,16,6\" style=\"stroke: #000000; stroke-width: 1.5;\"/><line style=\"stroke: #000000; stroke-width: 1.5;\" x1=\"16\" x2=\"146\" y1=\"28.2969\" y2=\"28.2969\"/><text fill=\"#000000\" font-family=\"sans-serif\" font-size=\"14\" font-weight=\"bold\" lengthAdjust=\"spacingAndGlyphs\" textLength=\"117\" x=\"20\" y=\"20.9951\">ParameterTest</text></a><!--MD5=[f6df4d0ebaf0b5dfb2ced0ae5af7c670]\n",
       "cluster E4--><a href=\"psysml:cd1262f4-d3f9-4f52-89ee-1653680ad782\" target=\"_top\" title=\"psysml:cd1262f4-d3f9-4f52-89ee-1653680ad782\" xlink:actuate=\"onRequest\" xlink:href=\"psysml:cd1262f4-d3f9-4f52-89ee-1653680ad782\" xlink:show=\"new\" xlink:title=\"psysml:cd1262f4-d3f9-4f52-89ee-1653680ad782\" xlink:type=\"simple\"><rect fill=\"#FFFFFF\" height=\"47\" id=\"E4\" style=\"stroke: #383838; stroke-width: 1.5;\" width=\"373.22\" x=\"49.5\" y=\"55\"/><rect fill=\"#F8F8F8\" height=\"37.9375\" style=\"stroke: #383838; stroke-width: 1.5;\" width=\"373.22\" x=\"49.5\" y=\"55\"/><text fill=\"#000000\" font-family=\"sans-serif\" font-size=\"12\" font-style=\"italic\" lengthAdjust=\"spacingAndGlyphs\" textLength=\"106\" x=\"183.11\" y=\"71.1387\">«calculation def»</text><text fill=\"#000000\" font-family=\"sans-serif\" font-size=\"12\" lengthAdjust=\"spacingAndGlyphs\" textLength=\"7\" x=\"232.61\" y=\"85.1074\">F</text></a><!--MD5=[b4997ac47864f28c2f74865a473b2911]\n",
       "class E2--><a href=\"psysml:03a6349f-297b-4a78-b9ab-052989f96479\" target=\"_top\" title=\"psysml:03a6349f-297b-4a78-b9ab-052989f96479\" xlink:actuate=\"onRequest\" xlink:href=\"psysml:03a6349f-297b-4a78-b9ab-052989f96479\" xlink:show=\"new\" xlink:title=\"psysml:03a6349f-297b-4a78-b9ab-052989f96479\" xlink:type=\"simple\"><rect fill=\"#FFFFFF\" height=\"88.3516\" id=\"E2\" style=\"stroke: #383838; stroke-width: 1.5;\" width=\"95\" x=\"182\" y=\"128\"/><text fill=\"#000000\" font-family=\"sans-serif\" font-size=\"12\" font-style=\"italic\" lengthAdjust=\"spacingAndGlyphs\" textLength=\"93\" x=\"183\" y=\"144.1387\">«attribute def»</text><text fill=\"#000000\" font-family=\"sans-serif\" font-size=\"12\" lengthAdjust=\"spacingAndGlyphs\" textLength=\"8\" x=\"225.5\" y=\"158.1074\">A</text><line style=\"stroke: #383838; stroke-width: 1.5;\" x1=\"183\" x2=\"276\" y1=\"165.9375\" y2=\"165.9375\"/><text fill=\"#000000\" font-family=\"sans-serif\" font-size=\"11\" lengthAdjust=\"spacingAndGlyphs\" textLength=\"48\" x=\"188\" y=\"196.9526\">x: String</text><text fill=\"#000000\" font-family=\"sans-serif\" font-size=\"11\" lengthAdjust=\"spacingAndGlyphs\" textLength=\"21\" x=\"188\" y=\"209.7573\">y: A</text><line style=\"stroke: #383838; stroke-width: 1.0;\" x1=\"183\" x2=\"202\" y1=\"180.3398\" y2=\"180.3398\"/><text fill=\"#000000\" font-family=\"sans-serif\" font-size=\"11\" lengthAdjust=\"spacingAndGlyphs\" textLength=\"55\" x=\"202\" y=\"183.6479\">attributes</text><line style=\"stroke: #383838; stroke-width: 1.0;\" x1=\"257\" x2=\"276\" y1=\"180.3398\" y2=\"180.3398\"/></a><!--MD5=[09b614a08d8cba4a07c9adeb5e0fee81]\n",
       "class E3--><a href=\"psysml:d7af749e-ffc6-4773-972a-b8dfcfe9deb8\" target=\"_top\" title=\"psysml:d7af749e-ffc6-4773-972a-b8dfcfe9deb8\" xlink:actuate=\"onRequest\" xlink:href=\"psysml:d7af749e-ffc6-4773-972a-b8dfcfe9deb8\" xlink:show=\"new\" xlink:title=\"psysml:d7af749e-ffc6-4773-972a-b8dfcfe9deb8\" xlink:type=\"simple\"><rect fill=\"#FFFFFF\" height=\"45.9375\" id=\"E3\" rx=\"10\" ry=\"10\" style=\"stroke: #383838; stroke-width: 1.5;\" width=\"71\" x=\"32\" y=\"143\"/><text fill=\"#000000\" font-family=\"sans-serif\" font-size=\"12\" font-style=\"italic\" lengthAdjust=\"spacingAndGlyphs\" textLength=\"69\" x=\"33\" y=\"159.1387\">«attribute»</text><text fill=\"#000000\" font-family=\"sans-serif\" font-size=\"12\" lengthAdjust=\"spacingAndGlyphs\" textLength=\"24\" x=\"55.5\" y=\"173.1074\">a: A</text><line style=\"stroke: #383838; stroke-width: 1.5;\" x1=\"33\" x2=\"102\" y1=\"180.9375\" y2=\"180.9375\"/></a><!--MD5=[b9389687b975829384b498ac4b7476b2]\n",
       "class E8--><a href=\"psysml:e43abf7c-a809-48bd-8c78-cd0a53fbbdb6\" target=\"_top\" title=\"psysml:e43abf7c-a809-48bd-8c78-cd0a53fbbdb6\" xlink:actuate=\"onRequest\" xlink:href=\"psysml:e43abf7c-a809-48bd-8c78-cd0a53fbbdb6\" xlink:show=\"new\" xlink:title=\"psysml:e43abf7c-a809-48bd-8c78-cd0a53fbbdb6\" xlink:type=\"simple\"><rect fill=\"#FFFFFF\" height=\"45.9375\" id=\"E8\" rx=\"10\" ry=\"10\" style=\"stroke: #383838; stroke-width: 1.5;\" width=\"71\" x=\"32\" y=\"224\"/><text fill=\"#000000\" font-family=\"sans-serif\" font-size=\"12\" font-style=\"italic\" lengthAdjust=\"spacingAndGlyphs\" textLength=\"69\" x=\"33\" y=\"240.1387\">«attribute»</text><text fill=\"#000000\" font-family=\"sans-serif\" font-size=\"12\" lengthAdjust=\"spacingAndGlyphs\" textLength=\"4\" x=\"65.5\" y=\"254.1074\">f</text><line style=\"stroke: #383838; stroke-width: 1.5;\" x1=\"33\" x2=\"102\" y1=\"261.9375\" y2=\"261.9375\"/></a><!--MD5=[fd4143e9d270a159db93a4ea2a975926]\n",
       "class E9--><a href=\"psysml:04ff0b02-14ab-40e8-a866-ef9bcfd05ef7\" target=\"_top\" title=\"psysml:04ff0b02-14ab-40e8-a866-ef9bcfd05ef7\" xlink:actuate=\"onRequest\" xlink:href=\"psysml:04ff0b02-14ab-40e8-a866-ef9bcfd05ef7\" xlink:show=\"new\" xlink:title=\"psysml:04ff0b02-14ab-40e8-a866-ef9bcfd05ef7\" xlink:type=\"simple\"><rect fill=\"#FFFFFF\" height=\"45.9375\" id=\"E9\" rx=\"10\" ry=\"10\" style=\"stroke: #383838; stroke-width: 1.5;\" width=\"71\" x=\"32\" y=\"305\"/><text fill=\"#000000\" font-family=\"sans-serif\" font-size=\"12\" font-style=\"italic\" lengthAdjust=\"spacingAndGlyphs\" textLength=\"69\" x=\"33\" y=\"321.1387\">«attribute»</text><text fill=\"#000000\" font-family=\"sans-serif\" font-size=\"12\" lengthAdjust=\"spacingAndGlyphs\" textLength=\"8\" x=\"63.5\" y=\"335.1074\">g</text><line style=\"stroke: #383838; stroke-width: 1.5;\" x1=\"33\" x2=\"102\" y1=\"342.9375\" y2=\"342.9375\"/></a><!--MD5=[96f4274e9e20536e775497830990834d]\n",
       "class E10--><a href=\"psysml:37f56aff-8c9f-4a8e-95e0-50132129fb99\" target=\"_top\" title=\"psysml:37f56aff-8c9f-4a8e-95e0-50132129fb99\" xlink:actuate=\"onRequest\" xlink:href=\"psysml:37f56aff-8c9f-4a8e-95e0-50132129fb99\" xlink:show=\"new\" xlink:title=\"psysml:37f56aff-8c9f-4a8e-95e0-50132129fb99\" xlink:type=\"simple\"><rect fill=\"#FFFFFF\" height=\"45.9375\" id=\"E10\" rx=\"10\" ry=\"10\" style=\"stroke: #383838; stroke-width: 1.5;\" width=\"71\" x=\"32\" y=\"386\"/><text fill=\"#000000\" font-family=\"sans-serif\" font-size=\"12\" font-style=\"italic\" lengthAdjust=\"spacingAndGlyphs\" textLength=\"69\" x=\"33\" y=\"402.1387\">«attribute»</text><text fill=\"#000000\" font-family=\"sans-serif\" font-size=\"12\" lengthAdjust=\"spacingAndGlyphs\" textLength=\"8\" x=\"63.5\" y=\"416.1074\">b</text><line style=\"stroke: #383838; stroke-width: 1.5;\" x1=\"33\" x2=\"102\" y1=\"423.9375\" y2=\"423.9375\"/></a><!--MD5=[1dd1bfd58a279cf63c5f349dbc8fc6a1]\n",
       "class E11--><a href=\"psysml:6095b787-d7f9-43be-8b1b-f534282edd43\" target=\"_top\" title=\"psysml:6095b787-d7f9-43be-8b1b-f534282edd43\" xlink:actuate=\"onRequest\" xlink:href=\"psysml:6095b787-d7f9-43be-8b1b-f534282edd43\" xlink:show=\"new\" xlink:title=\"psysml:6095b787-d7f9-43be-8b1b-f534282edd43\" xlink:type=\"simple\"><rect fill=\"#FFFFFF\" height=\"45.9375\" id=\"E11\" rx=\"10\" ry=\"10\" style=\"stroke: #383838; stroke-width: 1.5;\" width=\"71\" x=\"32\" y=\"467\"/><text fill=\"#000000\" font-family=\"sans-serif\" font-size=\"12\" font-style=\"italic\" lengthAdjust=\"spacingAndGlyphs\" textLength=\"69\" x=\"33\" y=\"483.1387\">«attribute»</text><text fill=\"#000000\" font-family=\"sans-serif\" font-size=\"12\" lengthAdjust=\"spacingAndGlyphs\" textLength=\"7\" x=\"64\" y=\"497.1074\">c</text><line style=\"stroke: #383838; stroke-width: 1.5;\" x1=\"33\" x2=\"102\" y1=\"504.9375\" y2=\"504.9375\"/></a><text fill=\"#000000\" font-family=\"sans-serif\" font-size=\"14\" lengthAdjust=\"spacingAndGlyphs\" textLength=\"9\" x=\"63\" y=\"120.9951\">p</text><rect fill=\"#383838\" height=\"12\" style=\"stroke: #F8F8F8; stroke-width: 1.5;\" width=\"12\" x=\"61.5\" y=\"96\"/><text fill=\"#000000\" font-family=\"sans-serif\" font-size=\"14\" lengthAdjust=\"spacingAndGlyphs\" textLength=\"9\" x=\"63\" y=\"33.6982\">q</text><rect fill=\"#383838\" height=\"12\" style=\"stroke: #F8F8F8; stroke-width: 1.5;\" width=\"12\" x=\"61.5\" y=\"49\"/><text fill=\"#000000\" font-family=\"sans-serif\" font-size=\"14\" lengthAdjust=\"spacingAndGlyphs\" textLength=\"57\" x=\"394.22\" y=\"53.6982\">noname</text><rect fill=\"#383838\" height=\"12\" style=\"stroke: #F8F8F8; stroke-width: 1.5;\" width=\"12\" x=\"416.72\" y=\"69\"/><!--MD5=[05d275557350bfb9b23a4ef7222b4c39]\n",
       "link E3 to E2--><a href=\"psysml:982c8c0e-9af2-4f93-8067-230d5c39d8a2\" target=\"_top\" title=\"psysml:982c8c0e-9af2-4f93-8067-230d5c39d8a2\" xlink:actuate=\"onRequest\" xlink:href=\"psysml:982c8c0e-9af2-4f93-8067-230d5c39d8a2\" xlink:show=\"new\" xlink:title=\"psysml:982c8c0e-9af2-4f93-8067-230d5c39d8a2\" xlink:type=\"simple\"><path d=\"M103.22,167.3 C120.27,167.94 141.42,168.73 161.45,169.49 \" fill=\"none\" id=\"E3-&gt;E2\" style=\"stroke: #383838; stroke-width: 1.0;\"/><polygon fill=\"#FFFFFF\" points=\"181.71,170.25,162.4631,176.5394,162.9831,162.5491,181.71,170.25\" style=\"stroke: #383838; stroke-width: 1.0;\"/><ellipse cx=\"156.8413\" cy=\"174.3291\" fill=\"#383838\" rx=\"2\" ry=\"2\" style=\"stroke: #383838; stroke-width: 1.0;\"/><ellipse cx=\"157.2128\" cy=\"164.336\" fill=\"#383838\" rx=\"2\" ry=\"2\" style=\"stroke: #383838; stroke-width: 1.0;\"/></a><!--MD5=[58a4f4289bb9a9f41f910b276f6b70c4]\n",
       "@startuml\r\n",
       "left to right direction\r\n",
       "skinparam monochrome true\r\n",
       "skinparam classbackgroundcolor white\r\n",
       "skinparam shadowing false\r\n",
       "skinparam wrapWidth 300\r\n",
       "hide circle\r\n",
       "\r\n",
       "package \"ParameterTest\" as E1  [[psysml:0dacd990-2b3a-4306-80d2-1e4fad6d04cd ]]  {\r\n",
       "comp def \"A\" as E2  <<(T,blue)attribute def>> [[psysml:03a6349f-297b-4a78-b9ab-052989f96479 ]] {\r\n",
       "- - attributes - -\r\n",
       "x: String\r\n",
       "y: A\r\n",
       "}\r\n",
       "comp usage \"a: A\" as E3  <<(T,blue)attribute>> [[psysml:d7af749e-ffc6-4773-972a-b8dfcfe9deb8 ]] {\r\n",
       "}\r\n",
       "rec def \"F\" as E4  <<(T,blue)calculation def>> [[psysml:cd1262f4-d3f9-4f52-89ee-1653680ad782 ]] {\r\n",
       "portin \"p\" as E5  [[psysml:16d77514-2de6-4c2c-add7-8b8555ca417f ]] \r\n",
       "portin \"q\" as E6  [[psysml:85e14753-ca59-4cde-8265-18a8cb4b45d6 ]] \r\n",
       "portout \"noname\" as E7  [[psysml:99b94083-4aa7-41fb-8d8e-135498f03bbe ]] \r\n",
       "}\r\n",
       "\r\n",
       "comp usage \"f\" as E8  <<(T,blue)attribute>> [[psysml:e43abf7c-a809-48bd-8c78-cd0a53fbbdb6 ]] {\r\n",
       "}\r\n",
       "comp usage \"g\" as E9  <<(T,blue)attribute>> [[psysml:04ff0b02-14ab-40e8-a866-ef9bcfd05ef7 ]] {\r\n",
       "}\r\n",
       "comp usage \"b\" as E10  <<(T,blue)attribute>> [[psysml:37f56aff-8c9f-4a8e-95e0-50132129fb99 ]] {\r\n",
       "}\r\n",
       "comp usage \"c\" as E11  <<(T,blue)attribute>> [[psysml:6095b787-d7f9-43be-8b1b-f534282edd43 ]] {\r\n",
       "}\r\n",
       "E3 - -:|> E2 [[psysml:982c8c0e-9af2-4f93-8067-230d5c39d8a2 ]] \r\n",
       "}\r\n",
       "@enduml\r\n",
       "\n",
       "PlantUML version 1.2020.13(Sat Jun 13 12:26:38 UTC 2020)\n",
       "(EPL source distribution)\n",
       "Java Runtime: OpenJDK Runtime Environment\n",
       "JVM: OpenJDK 64-Bit Server VM\n",
       "Default Encoding: UTF-8\n",
       "Language: en\n",
       "Country: null\n",
       "--></g></svg>"
      ]
     },
     "execution_count": 22,
     "metadata": {},
     "output_type": "execute_result"
    }
   ],
   "source": [
    "%viz --style=\"LR\" --view=\"MIXED\" \"ParameterTest\""
   ]
  },
  {
   "cell_type": "code",
   "execution_count": 23,
   "id": "broadband-hanging",
   "metadata": {
    "execution": {
     "iopub.execute_input": "2021-03-24T16:28:54.274527Z",
     "iopub.status.busy": "2021-03-24T16:28:54.273947Z",
     "iopub.status.idle": "2021-03-24T16:28:54.322229Z",
     "shell.execute_reply": "2021-03-24T16:28:54.321898Z"
    }
   },
   "outputs": [
    {
     "data": {
      "image/svg+xml": [
       "<?xml version=\"1.0\" encoding=\"UTF-8\" standalone=\"no\"?><svg xmlns=\"http://www.w3.org/2000/svg\" xmlns:xlink=\"http://www.w3.org/1999/xlink\" contentScriptType=\"application/ecmascript\" contentStyleType=\"text/css\" height=\"387px\" preserveAspectRatio=\"none\" style=\"width:740px;height:387px;\" version=\"1.1\" viewBox=\"0 0 740 387\" width=\"740px\" zoomAndPan=\"magnify\"><defs><filter height=\"300%\" id=\"f1w3uv1q1tjt2h\" width=\"300%\" x=\"-1\" y=\"-1\"><feGaussianBlur result=\"blurOut\" stdDeviation=\"2.0\"/><feColorMatrix in=\"blurOut\" result=\"blurOut2\" type=\"matrix\" values=\"0 0 0 0 0 0 0 0 0 0 0 0 0 0 0 0 0 0 .4 0\"/><feOffset dx=\"4.0\" dy=\"4.0\" in=\"blurOut2\" result=\"blurOut3\"/><feBlend in=\"SourceGraphic\" in2=\"blurOut3\" mode=\"normal\"/></filter></defs><g><!--MD5=[fbc87193dbaf4d95561dea2c320d4a47]\n",
       "cluster E1--><a href=\"psysml:0dacd990-2b3a-4306-80d2-1e4fad6d04cd\" target=\"_top\" title=\"psysml:0dacd990-2b3a-4306-80d2-1e4fad6d04cd\" xlink:actuate=\"onRequest\" xlink:href=\"psysml:0dacd990-2b3a-4306-80d2-1e4fad6d04cd\" xlink:show=\"new\" xlink:title=\"psysml:0dacd990-2b3a-4306-80d2-1e4fad6d04cd\" xlink:type=\"simple\"><polygon fill=\"#FFFFFF\" filter=\"url(#f1w3uv1q1tjt2h)\" points=\"16,6,139,6,146,28.2969,718,28.2969,718,375.72,16,375.72,16,6\" style=\"stroke: #000000; stroke-width: 1.5;\"/><line style=\"stroke: #000000; stroke-width: 1.5;\" x1=\"16\" x2=\"146\" y1=\"28.2969\" y2=\"28.2969\"/><text fill=\"#000000\" font-family=\"sans-serif\" font-size=\"14\" font-weight=\"bold\" lengthAdjust=\"spacingAndGlyphs\" textLength=\"117\" x=\"20\" y=\"20.9951\">ParameterTest</text></a><!--MD5=[f6df4d0ebaf0b5dfb2ced0ae5af7c670]\n",
       "cluster E4--><a href=\"psysml:cd1262f4-d3f9-4f52-89ee-1653680ad782\" target=\"_top\" title=\"psysml:cd1262f4-d3f9-4f52-89ee-1653680ad782\" xlink:actuate=\"onRequest\" xlink:href=\"psysml:cd1262f4-d3f9-4f52-89ee-1653680ad782\" xlink:show=\"new\" xlink:title=\"psysml:cd1262f4-d3f9-4f52-89ee-1653680ad782\" xlink:type=\"simple\"><rect fill=\"#FFFFFF\" filter=\"url(#f1w3uv1q1tjt2h)\" height=\"281.72\" id=\"E4\" style=\"stroke: #A80036; stroke-width: 1.5;\" width=\"148\" x=\"554\" y=\"64\"/><rect fill=\"#FEFECE\" height=\"37.9375\" style=\"stroke: #A80036; stroke-width: 1.5;\" width=\"148\" x=\"554\" y=\"64\"/><text fill=\"#000000\" font-family=\"sans-serif\" font-size=\"12\" font-style=\"italic\" lengthAdjust=\"spacingAndGlyphs\" textLength=\"106\" x=\"575\" y=\"80.1387\">«calculation def»</text><text fill=\"#000000\" font-family=\"sans-serif\" font-size=\"12\" lengthAdjust=\"spacingAndGlyphs\" textLength=\"7\" x=\"624.5\" y=\"94.1074\">F</text></a><!--MD5=[b4997ac47864f28c2f74865a473b2911]\n",
       "class E2--><a href=\"psysml:03a6349f-297b-4a78-b9ab-052989f96479\" target=\"_top\" title=\"psysml:03a6349f-297b-4a78-b9ab-052989f96479\" xlink:actuate=\"onRequest\" xlink:href=\"psysml:03a6349f-297b-4a78-b9ab-052989f96479\" xlink:show=\"new\" xlink:title=\"psysml:03a6349f-297b-4a78-b9ab-052989f96479\" xlink:type=\"simple\"><rect fill=\"#FEFECE\" filter=\"url(#f1w3uv1q1tjt2h)\" height=\"71.5469\" id=\"E2\" style=\"stroke: #A80036; stroke-width: 1.5;\" width=\"95\" x=\"422.5\" y=\"147\"/><text fill=\"#000000\" font-family=\"sans-serif\" font-size=\"12\" font-style=\"italic\" lengthAdjust=\"spacingAndGlyphs\" textLength=\"93\" x=\"423.5\" y=\"163.1387\">«attribute def»</text><text fill=\"#000000\" font-family=\"sans-serif\" font-size=\"12\" lengthAdjust=\"spacingAndGlyphs\" textLength=\"8\" x=\"466\" y=\"177.1074\">A</text><line style=\"stroke: #A80036; stroke-width: 1.5;\" x1=\"423.5\" x2=\"516.5\" y1=\"184.9375\" y2=\"184.9375\"/><text fill=\"#000000\" font-family=\"sans-serif\" font-size=\"11\" lengthAdjust=\"spacingAndGlyphs\" textLength=\"48\" x=\"428.5\" y=\"199.1479\">x: String</text><text fill=\"#000000\" font-family=\"sans-serif\" font-size=\"11\" lengthAdjust=\"spacingAndGlyphs\" textLength=\"21\" x=\"428.5\" y=\"211.9526\">y: A</text></a><!--MD5=[09b614a08d8cba4a07c9adeb5e0fee81]\n",
       "class E3--><a href=\"psysml:d7af749e-ffc6-4773-972a-b8dfcfe9deb8\" target=\"_top\" title=\"psysml:d7af749e-ffc6-4773-972a-b8dfcfe9deb8\" xlink:actuate=\"onRequest\" xlink:href=\"psysml:d7af749e-ffc6-4773-972a-b8dfcfe9deb8\" xlink:show=\"new\" xlink:title=\"psysml:d7af749e-ffc6-4773-972a-b8dfcfe9deb8\" xlink:type=\"simple\"><rect fill=\"#FEFECE\" filter=\"url(#f1w3uv1q1tjt2h)\" height=\"45.9375\" id=\"E3\" rx=\"10\" ry=\"10\" style=\"stroke: #A80036; stroke-width: 1.5;\" width=\"71\" x=\"456.5\" y=\"41\"/><text fill=\"#000000\" font-family=\"sans-serif\" font-size=\"12\" font-style=\"italic\" lengthAdjust=\"spacingAndGlyphs\" textLength=\"69\" x=\"457.5\" y=\"57.1387\">«attribute»</text><text fill=\"#000000\" font-family=\"sans-serif\" font-size=\"12\" lengthAdjust=\"spacingAndGlyphs\" textLength=\"24\" x=\"480\" y=\"71.1074\">a: A</text><line style=\"stroke: #A80036; stroke-width: 1.5;\" x1=\"457.5\" x2=\"526.5\" y1=\"78.9375\" y2=\"78.9375\"/></a><!--MD5=[b9389687b975829384b498ac4b7476b2]\n",
       "class E8--><a href=\"psysml:e43abf7c-a809-48bd-8c78-cd0a53fbbdb6\" target=\"_top\" title=\"psysml:e43abf7c-a809-48bd-8c78-cd0a53fbbdb6\" xlink:actuate=\"onRequest\" xlink:href=\"psysml:e43abf7c-a809-48bd-8c78-cd0a53fbbdb6\" xlink:show=\"new\" xlink:title=\"psysml:e43abf7c-a809-48bd-8c78-cd0a53fbbdb6\" xlink:type=\"simple\"><rect fill=\"#FEFECE\" filter=\"url(#f1w3uv1q1tjt2h)\" height=\"45.9375\" id=\"E8\" rx=\"10\" ry=\"10\" style=\"stroke: #A80036; stroke-width: 1.5;\" width=\"71\" x=\"350.5\" y=\"41\"/><text fill=\"#000000\" font-family=\"sans-serif\" font-size=\"12\" font-style=\"italic\" lengthAdjust=\"spacingAndGlyphs\" textLength=\"69\" x=\"351.5\" y=\"57.1387\">«attribute»</text><text fill=\"#000000\" font-family=\"sans-serif\" font-size=\"12\" lengthAdjust=\"spacingAndGlyphs\" textLength=\"4\" x=\"384\" y=\"71.1074\">f</text><line style=\"stroke: #A80036; stroke-width: 1.5;\" x1=\"351.5\" x2=\"420.5\" y1=\"78.9375\" y2=\"78.9375\"/></a><!--MD5=[fd4143e9d270a159db93a4ea2a975926]\n",
       "class E9--><a href=\"psysml:04ff0b02-14ab-40e8-a866-ef9bcfd05ef7\" target=\"_top\" title=\"psysml:04ff0b02-14ab-40e8-a866-ef9bcfd05ef7\" xlink:actuate=\"onRequest\" xlink:href=\"psysml:04ff0b02-14ab-40e8-a866-ef9bcfd05ef7\" xlink:show=\"new\" xlink:title=\"psysml:04ff0b02-14ab-40e8-a866-ef9bcfd05ef7\" xlink:type=\"simple\"><rect fill=\"#FEFECE\" filter=\"url(#f1w3uv1q1tjt2h)\" height=\"45.9375\" id=\"E9\" rx=\"10\" ry=\"10\" style=\"stroke: #A80036; stroke-width: 1.5;\" width=\"71\" x=\"244.5\" y=\"41\"/><text fill=\"#000000\" font-family=\"sans-serif\" font-size=\"12\" font-style=\"italic\" lengthAdjust=\"spacingAndGlyphs\" textLength=\"69\" x=\"245.5\" y=\"57.1387\">«attribute»</text><text fill=\"#000000\" font-family=\"sans-serif\" font-size=\"12\" lengthAdjust=\"spacingAndGlyphs\" textLength=\"8\" x=\"276\" y=\"71.1074\">g</text><line style=\"stroke: #A80036; stroke-width: 1.5;\" x1=\"245.5\" x2=\"314.5\" y1=\"78.9375\" y2=\"78.9375\"/></a><!--MD5=[96f4274e9e20536e775497830990834d]\n",
       "class E10--><a href=\"psysml:37f56aff-8c9f-4a8e-95e0-50132129fb99\" target=\"_top\" title=\"psysml:37f56aff-8c9f-4a8e-95e0-50132129fb99\" xlink:actuate=\"onRequest\" xlink:href=\"psysml:37f56aff-8c9f-4a8e-95e0-50132129fb99\" xlink:show=\"new\" xlink:title=\"psysml:37f56aff-8c9f-4a8e-95e0-50132129fb99\" xlink:type=\"simple\"><rect fill=\"#FEFECE\" filter=\"url(#f1w3uv1q1tjt2h)\" height=\"45.9375\" id=\"E10\" rx=\"10\" ry=\"10\" style=\"stroke: #A80036; stroke-width: 1.5;\" width=\"71\" x=\"138.5\" y=\"41\"/><text fill=\"#000000\" font-family=\"sans-serif\" font-size=\"12\" font-style=\"italic\" lengthAdjust=\"spacingAndGlyphs\" textLength=\"69\" x=\"139.5\" y=\"57.1387\">«attribute»</text><text fill=\"#000000\" font-family=\"sans-serif\" font-size=\"12\" lengthAdjust=\"spacingAndGlyphs\" textLength=\"8\" x=\"170\" y=\"71.1074\">b</text><line style=\"stroke: #A80036; stroke-width: 1.5;\" x1=\"139.5\" x2=\"208.5\" y1=\"78.9375\" y2=\"78.9375\"/></a><!--MD5=[1dd1bfd58a279cf63c5f349dbc8fc6a1]\n",
       "class E11--><a href=\"psysml:6095b787-d7f9-43be-8b1b-f534282edd43\" target=\"_top\" title=\"psysml:6095b787-d7f9-43be-8b1b-f534282edd43\" xlink:actuate=\"onRequest\" xlink:href=\"psysml:6095b787-d7f9-43be-8b1b-f534282edd43\" xlink:show=\"new\" xlink:title=\"psysml:6095b787-d7f9-43be-8b1b-f534282edd43\" xlink:type=\"simple\"><rect fill=\"#FEFECE\" filter=\"url(#f1w3uv1q1tjt2h)\" height=\"45.9375\" id=\"E11\" rx=\"10\" ry=\"10\" style=\"stroke: #A80036; stroke-width: 1.5;\" width=\"71\" x=\"32.5\" y=\"41\"/><text fill=\"#000000\" font-family=\"sans-serif\" font-size=\"12\" font-style=\"italic\" lengthAdjust=\"spacingAndGlyphs\" textLength=\"69\" x=\"33.5\" y=\"57.1387\">«attribute»</text><text fill=\"#000000\" font-family=\"sans-serif\" font-size=\"12\" lengthAdjust=\"spacingAndGlyphs\" textLength=\"7\" x=\"64.5\" y=\"71.1074\">c</text><line style=\"stroke: #A80036; stroke-width: 1.5;\" x1=\"33.5\" x2=\"102.5\" y1=\"78.9375\" y2=\"78.9375\"/></a><text fill=\"#000000\" font-family=\"sans-serif\" font-size=\"14\" lengthAdjust=\"spacingAndGlyphs\" textLength=\"9\" x=\"567.5\" y=\"42.6982\">p</text><rect fill=\"#A80036\" height=\"12\" style=\"stroke: #FEFECE; stroke-width: 1.5;\" width=\"12\" x=\"566\" y=\"58\"/><text fill=\"#000000\" font-family=\"sans-serif\" font-size=\"14\" lengthAdjust=\"spacingAndGlyphs\" textLength=\"9\" x=\"614.5\" y=\"42.6982\">q</text><rect fill=\"#A80036\" height=\"12\" style=\"stroke: #FEFECE; stroke-width: 1.5;\" width=\"12\" x=\"613\" y=\"58\"/><text fill=\"#000000\" font-family=\"sans-serif\" font-size=\"14\" lengthAdjust=\"spacingAndGlyphs\" textLength=\"57\" x=\"590.5\" y=\"364.7151\">noname</text><rect fill=\"#A80036\" height=\"12\" style=\"stroke: #FEFECE; stroke-width: 1.5;\" width=\"12\" x=\"613\" y=\"339.72\"/><!--MD5=[05d275557350bfb9b23a4ef7222b4c39]\n",
       "link E3 to E2--><a href=\"psysml:982c8c0e-9af2-4f93-8067-230d5c39d8a2\" target=\"_top\" title=\"psysml:982c8c0e-9af2-4f93-8067-230d5c39d8a2\" xlink:actuate=\"onRequest\" xlink:href=\"psysml:982c8c0e-9af2-4f93-8067-230d5c39d8a2\" xlink:show=\"new\" xlink:title=\"psysml:982c8c0e-9af2-4f93-8067-230d5c39d8a2\" xlink:type=\"simple\"><path d=\"M487.86,87.01 C485.74,98.3 483.05,112.62 480.4,126.7 \" fill=\"none\" id=\"E3-&gt;E2\" style=\"stroke: #A80036; stroke-width: 1.0;\"/><polygon fill=\"#FFFFFF\" points=\"476.63,146.75,473.2514,126.7854,487.0116,129.3654,476.63,146.75\" style=\"stroke: #A80036; stroke-width: 1.0;\"/><ellipse cx=\"476.2676\" cy=\"121.5516\" fill=\"#A80036\" rx=\"2\" ry=\"2\" style=\"stroke: #A80036; stroke-width: 1.0;\"/><ellipse cx=\"486.0963\" cy=\"123.3945\" fill=\"#A80036\" rx=\"2\" ry=\"2\" style=\"stroke: #A80036; stroke-width: 1.0;\"/></a><!--MD5=[19d522e3c74a803d57a13f8f2cb1bbbb]\n",
       "@startuml\r\n",
       "skinparam wrapWidth 300\r\n",
       "hide circle\r\n",
       "\r\n",
       "package \"ParameterTest\" as E1  [[psysml:0dacd990-2b3a-4306-80d2-1e4fad6d04cd ]]  {\r\n",
       "comp def \"A\" as E2  <<(T,blue)attribute def>> [[psysml:03a6349f-297b-4a78-b9ab-052989f96479 ]] {\r\n",
       "x: String\r\n",
       "y: A\r\n",
       "}\r\n",
       "comp usage \"a: A\" as E3  <<(T,blue)attribute>> [[psysml:d7af749e-ffc6-4773-972a-b8dfcfe9deb8 ]] {\r\n",
       "}\r\n",
       "rec def \"F\" as E4  <<(T,blue)calculation def>> [[psysml:cd1262f4-d3f9-4f52-89ee-1653680ad782 ]] {\r\n",
       "portin \"p\" as E5  [[psysml:16d77514-2de6-4c2c-add7-8b8555ca417f ]] \r\n",
       "portin \"q\" as E6  [[psysml:85e14753-ca59-4cde-8265-18a8cb4b45d6 ]] \r\n",
       "portout \"noname\" as E7  [[psysml:99b94083-4aa7-41fb-8d8e-135498f03bbe ]] \r\n",
       "}\r\n",
       "\r\n",
       "comp usage \"f\" as E8  <<(T,blue)attribute>> [[psysml:e43abf7c-a809-48bd-8c78-cd0a53fbbdb6 ]] {\r\n",
       "}\r\n",
       "comp usage \"g\" as E9  <<(T,blue)attribute>> [[psysml:04ff0b02-14ab-40e8-a866-ef9bcfd05ef7 ]] {\r\n",
       "}\r\n",
       "comp usage \"b\" as E10  <<(T,blue)attribute>> [[psysml:37f56aff-8c9f-4a8e-95e0-50132129fb99 ]] {\r\n",
       "}\r\n",
       "comp usage \"c\" as E11  <<(T,blue)attribute>> [[psysml:6095b787-d7f9-43be-8b1b-f534282edd43 ]] {\r\n",
       "}\r\n",
       "E3 - -:|> E2 [[psysml:982c8c0e-9af2-4f93-8067-230d5c39d8a2 ]] \r\n",
       "}\r\n",
       "@enduml\r\n",
       "\n",
       "PlantUML version 1.2020.13(Sat Jun 13 12:26:38 UTC 2020)\n",
       "(EPL source distribution)\n",
       "Java Runtime: OpenJDK Runtime Environment\n",
       "JVM: OpenJDK 64-Bit Server VM\n",
       "Default Encoding: UTF-8\n",
       "Language: en\n",
       "Country: null\n",
       "--></g></svg>"
      ]
     },
     "execution_count": 23,
     "metadata": {},
     "output_type": "execute_result"
    }
   ],
   "source": [
    "%viz --style=\"STDCOLOR\" --view=\"Default\" \"ParameterTest\""
   ]
  },
  {
   "cell_type": "code",
   "execution_count": 24,
   "id": "declared-hobby",
   "metadata": {
    "execution": {
     "iopub.execute_input": "2021-03-24T16:28:54.373229Z",
     "iopub.status.busy": "2021-03-24T16:28:54.372446Z",
     "iopub.status.idle": "2021-03-24T16:28:54.410648Z",
     "shell.execute_reply": "2021-03-24T16:28:54.409271Z"
    }
   },
   "outputs": [
    {
     "data": {
      "image/svg+xml": [
       "<?xml version=\"1.0\" encoding=\"UTF-8\" standalone=\"no\"?><svg xmlns=\"http://www.w3.org/2000/svg\" xmlns:xlink=\"http://www.w3.org/1999/xlink\" contentScriptType=\"application/ecmascript\" contentStyleType=\"text/css\" height=\"264px\" preserveAspectRatio=\"none\" style=\"width:710px;height:264px;\" version=\"1.1\" viewBox=\"0 0 710 264\" width=\"710px\" zoomAndPan=\"magnify\"><defs><filter height=\"300%\" id=\"f1fguy7ifsoj35\" width=\"300%\" x=\"-1\" y=\"-1\"><feGaussianBlur result=\"blurOut\" stdDeviation=\"2.0\"/><feColorMatrix in=\"blurOut\" result=\"blurOut2\" type=\"matrix\" values=\"0 0 0 0 0 0 0 0 0 0 0 0 0 0 0 0 0 0 .4 0\"/><feOffset dx=\"4.0\" dy=\"4.0\" in=\"blurOut2\" result=\"blurOut3\"/><feBlend in=\"SourceGraphic\" in2=\"blurOut3\" mode=\"normal\"/></filter></defs><g><!--MD5=[fbc87193dbaf4d95561dea2c320d4a47]\n",
       "cluster E1--><a href=\"psysml:0dacd990-2b3a-4306-80d2-1e4fad6d04cd\" target=\"_top\" title=\"psysml:0dacd990-2b3a-4306-80d2-1e4fad6d04cd\" xlink:actuate=\"onRequest\" xlink:href=\"psysml:0dacd990-2b3a-4306-80d2-1e4fad6d04cd\" xlink:show=\"new\" xlink:title=\"psysml:0dacd990-2b3a-4306-80d2-1e4fad6d04cd\" xlink:type=\"simple\"><polygon fill=\"#FFFFFF\" filter=\"url(#f1fguy7ifsoj35)\" points=\"16,6,139,6,146,28.2969,688,28.2969,688,252,16,252,16,6\" style=\"stroke: #000000; stroke-width: 1.5;\"/><line style=\"stroke: #000000; stroke-width: 1.5;\" x1=\"16\" x2=\"146\" y1=\"28.2969\" y2=\"28.2969\"/><text fill=\"#000000\" font-family=\"sans-serif\" font-size=\"14\" font-weight=\"bold\" lengthAdjust=\"spacingAndGlyphs\" textLength=\"117\" x=\"20\" y=\"20.9951\">ParameterTest</text></a><!--MD5=[b4997ac47864f28c2f74865a473b2911]\n",
       "class E2--><a href=\"psysml:03a6349f-297b-4a78-b9ab-052989f96479\" target=\"_top\" title=\"psysml:03a6349f-297b-4a78-b9ab-052989f96479\" xlink:actuate=\"onRequest\" xlink:href=\"psysml:03a6349f-297b-4a78-b9ab-052989f96479\" xlink:show=\"new\" xlink:title=\"psysml:03a6349f-297b-4a78-b9ab-052989f96479\" xlink:type=\"simple\"><rect fill=\"#FEFECE\" filter=\"url(#f1fguy7ifsoj35)\" height=\"71.5469\" id=\"E2\" style=\"stroke: #A80036; stroke-width: 1.5;\" width=\"95\" x=\"498.5\" y=\"164\"/><text fill=\"#000000\" font-family=\"sans-serif\" font-size=\"12\" font-style=\"italic\" lengthAdjust=\"spacingAndGlyphs\" textLength=\"93\" x=\"499.5\" y=\"180.1387\">«attribute def»</text><text fill=\"#000000\" font-family=\"sans-serif\" font-size=\"12\" lengthAdjust=\"spacingAndGlyphs\" textLength=\"8\" x=\"542\" y=\"194.1074\">A</text><line style=\"stroke: #A80036; stroke-width: 1.5;\" x1=\"499.5\" x2=\"592.5\" y1=\"201.9375\" y2=\"201.9375\"/><text fill=\"#000000\" font-family=\"sans-serif\" font-size=\"11\" lengthAdjust=\"spacingAndGlyphs\" textLength=\"48\" x=\"504.5\" y=\"216.1479\">x: String</text><text fill=\"#000000\" font-family=\"sans-serif\" font-size=\"11\" lengthAdjust=\"spacingAndGlyphs\" textLength=\"21\" x=\"504.5\" y=\"228.9526\">y: A</text></a><!--MD5=[09b614a08d8cba4a07c9adeb5e0fee81]\n",
       "class E3--><a href=\"psysml:d7af749e-ffc6-4773-972a-b8dfcfe9deb8\" target=\"_top\" title=\"psysml:d7af749e-ffc6-4773-972a-b8dfcfe9deb8\" xlink:actuate=\"onRequest\" xlink:href=\"psysml:d7af749e-ffc6-4773-972a-b8dfcfe9deb8\" xlink:show=\"new\" xlink:title=\"psysml:d7af749e-ffc6-4773-972a-b8dfcfe9deb8\" xlink:type=\"simple\"><rect fill=\"#FEFECE\" filter=\"url(#f1fguy7ifsoj35)\" height=\"45.9375\" id=\"E3\" rx=\"10\" ry=\"10\" style=\"stroke: #A80036; stroke-width: 1.5;\" width=\"71\" x=\"600.5\" y=\"41\"/><text fill=\"#000000\" font-family=\"sans-serif\" font-size=\"12\" font-style=\"italic\" lengthAdjust=\"spacingAndGlyphs\" textLength=\"69\" x=\"601.5\" y=\"57.1387\">«attribute»</text><text fill=\"#000000\" font-family=\"sans-serif\" font-size=\"12\" lengthAdjust=\"spacingAndGlyphs\" textLength=\"24\" x=\"624\" y=\"71.1074\">a: A</text><line style=\"stroke: #A80036; stroke-width: 1.5;\" x1=\"601.5\" x2=\"670.5\" y1=\"78.9375\" y2=\"78.9375\"/></a><!--MD5=[ebbe1d658d1005bcc118a6aa81145e00]\n",
       "class E4--><a href=\"psysml:cd1262f4-d3f9-4f52-89ee-1653680ad782\" target=\"_top\" title=\"psysml:cd1262f4-d3f9-4f52-89ee-1653680ad782\" xlink:actuate=\"onRequest\" xlink:href=\"psysml:cd1262f4-d3f9-4f52-89ee-1653680ad782\" xlink:show=\"new\" xlink:title=\"psysml:cd1262f4-d3f9-4f52-89ee-1653680ad782\" xlink:type=\"simple\"><rect fill=\"#FEFECE\" filter=\"url(#f1fguy7ifsoj35)\" height=\"45.9375\" id=\"E4\" style=\"stroke: #A80036; stroke-width: 1.5;\" width=\"108\" x=\"457\" y=\"41\"/><text fill=\"#000000\" font-family=\"sans-serif\" font-size=\"12\" font-style=\"italic\" lengthAdjust=\"spacingAndGlyphs\" textLength=\"106\" x=\"458\" y=\"57.1387\">«calculation def»</text><text fill=\"#000000\" font-family=\"sans-serif\" font-size=\"12\" lengthAdjust=\"spacingAndGlyphs\" textLength=\"7\" x=\"507.5\" y=\"71.1074\">F</text><line style=\"stroke: #A80036; stroke-width: 1.5;\" x1=\"458\" x2=\"564\" y1=\"78.9375\" y2=\"78.9375\"/></a><!--MD5=[270fce915f116d4de14055a7c1d9a0f3]\n",
       "class E5--><a href=\"psysml:e43abf7c-a809-48bd-8c78-cd0a53fbbdb6\" target=\"_top\" title=\"psysml:e43abf7c-a809-48bd-8c78-cd0a53fbbdb6\" xlink:actuate=\"onRequest\" xlink:href=\"psysml:e43abf7c-a809-48bd-8c78-cd0a53fbbdb6\" xlink:show=\"new\" xlink:title=\"psysml:e43abf7c-a809-48bd-8c78-cd0a53fbbdb6\" xlink:type=\"simple\"><rect fill=\"#FEFECE\" filter=\"url(#f1fguy7ifsoj35)\" height=\"45.9375\" id=\"E5\" rx=\"10\" ry=\"10\" style=\"stroke: #A80036; stroke-width: 1.5;\" width=\"71\" x=\"350.5\" y=\"41\"/><text fill=\"#000000\" font-family=\"sans-serif\" font-size=\"12\" font-style=\"italic\" lengthAdjust=\"spacingAndGlyphs\" textLength=\"69\" x=\"351.5\" y=\"57.1387\">«attribute»</text><text fill=\"#000000\" font-family=\"sans-serif\" font-size=\"12\" lengthAdjust=\"spacingAndGlyphs\" textLength=\"4\" x=\"384\" y=\"71.1074\">f</text><line style=\"stroke: #A80036; stroke-width: 1.5;\" x1=\"351.5\" x2=\"420.5\" y1=\"78.9375\" y2=\"78.9375\"/></a><!--MD5=[60a26617385b1d2d0262a64233df1f8d]\n",
       "class E6--><a href=\"psysml:04ff0b02-14ab-40e8-a866-ef9bcfd05ef7\" target=\"_top\" title=\"psysml:04ff0b02-14ab-40e8-a866-ef9bcfd05ef7\" xlink:actuate=\"onRequest\" xlink:href=\"psysml:04ff0b02-14ab-40e8-a866-ef9bcfd05ef7\" xlink:show=\"new\" xlink:title=\"psysml:04ff0b02-14ab-40e8-a866-ef9bcfd05ef7\" xlink:type=\"simple\"><rect fill=\"#FEFECE\" filter=\"url(#f1fguy7ifsoj35)\" height=\"45.9375\" id=\"E6\" rx=\"10\" ry=\"10\" style=\"stroke: #A80036; stroke-width: 1.5;\" width=\"71\" x=\"244.5\" y=\"41\"/><text fill=\"#000000\" font-family=\"sans-serif\" font-size=\"12\" font-style=\"italic\" lengthAdjust=\"spacingAndGlyphs\" textLength=\"69\" x=\"245.5\" y=\"57.1387\">«attribute»</text><text fill=\"#000000\" font-family=\"sans-serif\" font-size=\"12\" lengthAdjust=\"spacingAndGlyphs\" textLength=\"8\" x=\"276\" y=\"71.1074\">g</text><line style=\"stroke: #A80036; stroke-width: 1.5;\" x1=\"245.5\" x2=\"314.5\" y1=\"78.9375\" y2=\"78.9375\"/></a><!--MD5=[2156ba9850f5573cc1fc38a6a4b2f02b]\n",
       "class E7--><a href=\"psysml:37f56aff-8c9f-4a8e-95e0-50132129fb99\" target=\"_top\" title=\"psysml:37f56aff-8c9f-4a8e-95e0-50132129fb99\" xlink:actuate=\"onRequest\" xlink:href=\"psysml:37f56aff-8c9f-4a8e-95e0-50132129fb99\" xlink:show=\"new\" xlink:title=\"psysml:37f56aff-8c9f-4a8e-95e0-50132129fb99\" xlink:type=\"simple\"><rect fill=\"#FEFECE\" filter=\"url(#f1fguy7ifsoj35)\" height=\"45.9375\" id=\"E7\" rx=\"10\" ry=\"10\" style=\"stroke: #A80036; stroke-width: 1.5;\" width=\"71\" x=\"138.5\" y=\"41\"/><text fill=\"#000000\" font-family=\"sans-serif\" font-size=\"12\" font-style=\"italic\" lengthAdjust=\"spacingAndGlyphs\" textLength=\"69\" x=\"139.5\" y=\"57.1387\">«attribute»</text><text fill=\"#000000\" font-family=\"sans-serif\" font-size=\"12\" lengthAdjust=\"spacingAndGlyphs\" textLength=\"8\" x=\"170\" y=\"71.1074\">b</text><line style=\"stroke: #A80036; stroke-width: 1.5;\" x1=\"139.5\" x2=\"208.5\" y1=\"78.9375\" y2=\"78.9375\"/></a><!--MD5=[b9389687b975829384b498ac4b7476b2]\n",
       "class E8--><a href=\"psysml:6095b787-d7f9-43be-8b1b-f534282edd43\" target=\"_top\" title=\"psysml:6095b787-d7f9-43be-8b1b-f534282edd43\" xlink:actuate=\"onRequest\" xlink:href=\"psysml:6095b787-d7f9-43be-8b1b-f534282edd43\" xlink:show=\"new\" xlink:title=\"psysml:6095b787-d7f9-43be-8b1b-f534282edd43\" xlink:type=\"simple\"><rect fill=\"#FEFECE\" filter=\"url(#f1fguy7ifsoj35)\" height=\"45.9375\" id=\"E8\" rx=\"10\" ry=\"10\" style=\"stroke: #A80036; stroke-width: 1.5;\" width=\"71\" x=\"32.5\" y=\"41\"/><text fill=\"#000000\" font-family=\"sans-serif\" font-size=\"12\" font-style=\"italic\" lengthAdjust=\"spacingAndGlyphs\" textLength=\"69\" x=\"33.5\" y=\"57.1387\">«attribute»</text><text fill=\"#000000\" font-family=\"sans-serif\" font-size=\"12\" lengthAdjust=\"spacingAndGlyphs\" textLength=\"7\" x=\"64.5\" y=\"71.1074\">c</text><line style=\"stroke: #A80036; stroke-width: 1.5;\" x1=\"33.5\" x2=\"102.5\" y1=\"78.9375\" y2=\"78.9375\"/></a><!--MD5=[05d275557350bfb9b23a4ef7222b4c39]\n",
       "link E3 to E2--><a href=\"psysml:982c8c0e-9af2-4f93-8067-230d5c39d8a2\" target=\"_top\" title=\"psysml:982c8c0e-9af2-4f93-8067-230d5c39d8a2\" xlink:actuate=\"onRequest\" xlink:href=\"psysml:982c8c0e-9af2-4f93-8067-230d5c39d8a2\" xlink:show=\"new\" xlink:title=\"psysml:982c8c0e-9af2-4f93-8067-230d5c39d8a2\" xlink:type=\"simple\"><path d=\"M621.14,87.13 C610.18,103.45 594.8,126.34 580.81,147.17 \" fill=\"none\" id=\"E3-&gt;E2\" style=\"stroke: #A80036; stroke-width: 1.0;\"/><polygon fill=\"#FFFFFF\" points=\"569.52,163.99,574.309,144.316,585.9284,152.1256,569.52,163.99\" style=\"stroke: #A80036; stroke-width: 1.0;\"/><ellipse cx=\"579.1486\" cy=\"140.7009\" fill=\"#A80036\" rx=\"2\" ry=\"2\" style=\"stroke: #A80036; stroke-width: 1.0;\"/><ellipse cx=\"587.4481\" cy=\"146.2792\" fill=\"#A80036\" rx=\"2\" ry=\"2\" style=\"stroke: #A80036; stroke-width: 1.0;\"/></a><!--MD5=[ddeed8deb2209213b62e6cfabaa108b2]\n",
       "reverse link E4 to E2--><a href=\"psysml:16d77514-2de6-4c2c-add7-8b8555ca417f\" target=\"_top\" title=\"psysml:16d77514-2de6-4c2c-add7-8b8555ca417f\" xlink:actuate=\"onRequest\" xlink:href=\"psysml:16d77514-2de6-4c2c-add7-8b8555ca417f\" xlink:show=\"new\" xlink:title=\"psysml:16d77514-2de6-4c2c-add7-8b8555ca417f\" xlink:type=\"simple\"><path d=\"M520.11,99.89 C525.27,119.63 531.69,144.23 536.85,163.99 \" fill=\"none\" id=\"E4&lt;-E2\" style=\"stroke: #A80036; stroke-width: 1.0;\"/><polygon fill=\"#FFFFFF\" points=\"516.78,87.13,514.4253,93.9458,519.8112,98.7408,522.1659,91.925,516.78,87.13\" style=\"stroke: #A80036; stroke-width: 1.0;\"/><text fill=\"#000000\" font-family=\"sans-serif\" font-size=\"13\" lengthAdjust=\"spacingAndGlyphs\" textLength=\"8\" x=\"529\" y=\"130.0669\">p</text></a><!--MD5=[c963c6a538a00887a71eaf7a004c0f70]\n",
       "@startuml\r\n",
       "skinparam wrapWidth 300\r\n",
       "hide circle\r\n",
       "\r\n",
       "package \"ParameterTest\" as E1  [[psysml:0dacd990-2b3a-4306-80d2-1e4fad6d04cd ]]  {\r\n",
       "comp def \"A\" as E2  <<(T,blue)attribute def>> [[psysml:03a6349f-297b-4a78-b9ab-052989f96479 ]] {\r\n",
       "x: String\r\n",
       "y: A\r\n",
       "}\r\n",
       "comp usage \"a: A\" as E3  <<(T,blue)attribute>> [[psysml:d7af749e-ffc6-4773-972a-b8dfcfe9deb8 ]] {\r\n",
       "}\r\n",
       "comp def \"F\" as E4  <<(T,blue)calculation def>> [[psysml:cd1262f4-d3f9-4f52-89ee-1653680ad782 ]] {\r\n",
       "}\r\n",
       "comp usage \"f\" as E5  <<(T,blue)attribute>> [[psysml:e43abf7c-a809-48bd-8c78-cd0a53fbbdb6 ]] {\r\n",
       "}\r\n",
       "comp usage \"g\" as E6  <<(T,blue)attribute>> [[psysml:04ff0b02-14ab-40e8-a866-ef9bcfd05ef7 ]] {\r\n",
       "}\r\n",
       "comp usage \"b\" as E7  <<(T,blue)attribute>> [[psysml:37f56aff-8c9f-4a8e-95e0-50132129fb99 ]] {\r\n",
       "}\r\n",
       "comp usage \"c\" as E8  <<(T,blue)attribute>> [[psysml:6095b787-d7f9-43be-8b1b-f534282edd43 ]] {\r\n",
       "}\r\n",
       "E3 - -:|> E2 [[psysml:982c8c0e-9af2-4f93-8067-230d5c39d8a2 ]] \r\n",
       "E4 o- - E2 [[psysml:16d77514-2de6-4c2c-add7-8b8555ca417f ]] : p\r\n",
       "}\r\n",
       "@enduml\r\n",
       "\n",
       "PlantUML version 1.2020.13(Sat Jun 13 12:26:38 UTC 2020)\n",
       "(EPL source distribution)\n",
       "Java Runtime: OpenJDK Runtime Environment\n",
       "JVM: OpenJDK 64-Bit Server VM\n",
       "Default Encoding: UTF-8\n",
       "Language: en\n",
       "Country: null\n",
       "--></g></svg>"
      ]
     },
     "execution_count": 24,
     "metadata": {},
     "output_type": "execute_result"
    }
   ],
   "source": [
    "%viz --style=\"STDCOLOR\" --view=\"Tree\" \"ParameterTest\""
   ]
  },
  {
   "cell_type": "code",
   "execution_count": 25,
   "id": "material-charge",
   "metadata": {
    "execution": {
     "iopub.execute_input": "2021-03-24T16:28:54.463169Z",
     "iopub.status.busy": "2021-03-24T16:28:54.462378Z",
     "iopub.status.idle": "2021-03-24T16:28:54.469552Z",
     "shell.execute_reply": "2021-03-24T16:28:54.469194Z"
    }
   },
   "outputs": [
    {
     "data": {
      "image/svg+xml": [
       "<?xml version=\"1.0\" encoding=\"UTF-8\" standalone=\"no\"?><svg xmlns=\"http://www.w3.org/2000/svg\" xmlns:xlink=\"http://www.w3.org/1999/xlink\" contentScriptType=\"application/ecmascript\" contentStyleType=\"text/css\" height=\"12px\" preserveAspectRatio=\"none\" style=\"width:12px;height:12px;\" version=\"1.1\" viewBox=\"0 0 12 12\" width=\"12px\" zoomAndPan=\"magnify\"><defs/><g><!--MD5=[aeeef50f102b80d730deb6443d14f702]\n",
       "@startuml\r\n",
       "skinparam wrapWidth 300\r\n",
       "hide circle\r\n",
       "\r\n",
       "@enduml\r\n",
       "\n",
       "PlantUML version 1.2020.13(Sat Jun 13 12:26:38 UTC 2020)\n",
       "(EPL source distribution)\n",
       "Java Runtime: OpenJDK Runtime Environment\n",
       "JVM: OpenJDK 64-Bit Server VM\n",
       "Default Encoding: UTF-8\n",
       "Language: en\n",
       "Country: null\n",
       "--></g></svg>"
      ]
     },
     "execution_count": 25,
     "metadata": {},
     "output_type": "execute_result"
    }
   ],
   "source": [
    "%viz --style=\"STDCOLOR\" --view=\"State\" \"ParameterTest\""
   ]
  },
  {
   "cell_type": "code",
   "execution_count": 26,
   "id": "dying-reality",
   "metadata": {
    "execution": {
     "iopub.execute_input": "2021-03-24T16:28:54.520920Z",
     "iopub.status.busy": "2021-03-24T16:28:54.520162Z",
     "iopub.status.idle": "2021-03-24T16:28:54.554359Z",
     "shell.execute_reply": "2021-03-24T16:28:54.553007Z"
    }
   },
   "outputs": [
    {
     "data": {
      "image/svg+xml": [
       "<?xml version=\"1.0\" encoding=\"UTF-8\" standalone=\"no\"?><svg xmlns=\"http://www.w3.org/2000/svg\" xmlns:xlink=\"http://www.w3.org/1999/xlink\" contentScriptType=\"application/ecmascript\" contentStyleType=\"text/css\" height=\"216px\" preserveAspectRatio=\"none\" style=\"width:740px;height:216px;\" version=\"1.1\" viewBox=\"0 0 740 216\" width=\"740px\" zoomAndPan=\"magnify\"><defs><filter height=\"300%\" id=\"f19139cs4riruf\" width=\"300%\" x=\"-1\" y=\"-1\"><feGaussianBlur result=\"blurOut\" stdDeviation=\"2.0\"/><feColorMatrix in=\"blurOut\" result=\"blurOut2\" type=\"matrix\" values=\"0 0 0 0 0 0 0 0 0 0 0 0 0 0 0 0 0 0 .4 0\"/><feOffset dx=\"4.0\" dy=\"4.0\" in=\"blurOut2\" result=\"blurOut3\"/><feBlend in=\"SourceGraphic\" in2=\"blurOut3\" mode=\"normal\"/></filter></defs><g><!--MD5=[fbc87193dbaf4d95561dea2c320d4a47]\n",
       "cluster E1--><a href=\"psysml:0dacd990-2b3a-4306-80d2-1e4fad6d04cd\" target=\"_top\" title=\"psysml:0dacd990-2b3a-4306-80d2-1e4fad6d04cd\" xlink:actuate=\"onRequest\" xlink:href=\"psysml:0dacd990-2b3a-4306-80d2-1e4fad6d04cd\" xlink:show=\"new\" xlink:title=\"psysml:0dacd990-2b3a-4306-80d2-1e4fad6d04cd\" xlink:type=\"simple\"><polygon fill=\"#FFFFFF\" filter=\"url(#f19139cs4riruf)\" points=\"16,6,139,6,146,28.2969,718,28.2969,718,204.72,16,204.72,16,6\" style=\"stroke: #000000; stroke-width: 1.5;\"/><line style=\"stroke: #000000; stroke-width: 1.5;\" x1=\"16\" x2=\"146\" y1=\"28.2969\" y2=\"28.2969\"/><text fill=\"#000000\" font-family=\"sans-serif\" font-size=\"14\" font-weight=\"bold\" lengthAdjust=\"spacingAndGlyphs\" textLength=\"117\" x=\"20\" y=\"20.9951\">ParameterTest</text></a><!--MD5=[f6df4d0ebaf0b5dfb2ced0ae5af7c670]\n",
       "cluster E4--><a href=\"psysml:cd1262f4-d3f9-4f52-89ee-1653680ad782\" target=\"_top\" title=\"psysml:cd1262f4-d3f9-4f52-89ee-1653680ad782\" xlink:actuate=\"onRequest\" xlink:href=\"psysml:cd1262f4-d3f9-4f52-89ee-1653680ad782\" xlink:show=\"new\" xlink:title=\"psysml:cd1262f4-d3f9-4f52-89ee-1653680ad782\" xlink:type=\"simple\"><rect fill=\"#FFFFFF\" filter=\"url(#f19139cs4riruf)\" height=\"110.72\" id=\"E4\" style=\"stroke: #A80036; stroke-width: 1.5;\" width=\"148\" x=\"554\" y=\"64\"/><rect fill=\"#FEFECE\" height=\"37.9375\" style=\"stroke: #A80036; stroke-width: 1.5;\" width=\"148\" x=\"554\" y=\"64\"/><text fill=\"#000000\" font-family=\"sans-serif\" font-size=\"12\" font-style=\"italic\" lengthAdjust=\"spacingAndGlyphs\" textLength=\"106\" x=\"575\" y=\"80.1387\">«calculation def»</text><text fill=\"#000000\" font-family=\"sans-serif\" font-size=\"12\" lengthAdjust=\"spacingAndGlyphs\" textLength=\"7\" x=\"624.5\" y=\"94.1074\">F</text></a><g id=\"E1.E2\"><a href=\"psysml:03a6349f-297b-4a78-b9ab-052989f96479\" target=\"_top\" title=\"psysml:03a6349f-297b-4a78-b9ab-052989f96479\" xlink:actuate=\"onRequest\" xlink:href=\"psysml:03a6349f-297b-4a78-b9ab-052989f96479\" xlink:show=\"new\" xlink:title=\"psysml:03a6349f-297b-4a78-b9ab-052989f96479\" xlink:type=\"simple\"><rect fill=\"#FEFECE\" filter=\"url(#f19139cs4riruf)\" height=\"42.9375\" id=\"E2\" style=\"stroke: #A80036; stroke-width: 1.5;\" width=\"100\" x=\"417\" y=\"99\"/><text fill=\"#000000\" font-family=\"sans-serif\" font-size=\"12\" font-style=\"italic\" lengthAdjust=\"spacingAndGlyphs\" textLength=\"93\" x=\"420.5\" y=\"115.1387\">«attribute def»</text><text fill=\"#000000\" font-family=\"sans-serif\" font-size=\"12\" lengthAdjust=\"spacingAndGlyphs\" textLength=\"8\" x=\"463\" y=\"129.1074\">A</text></a></g><!--MD5=[09b614a08d8cba4a07c9adeb5e0fee81]\n",
       "class E3--><a href=\"psysml:d7af749e-ffc6-4773-972a-b8dfcfe9deb8\" target=\"_top\" title=\"psysml:d7af749e-ffc6-4773-972a-b8dfcfe9deb8\" xlink:actuate=\"onRequest\" xlink:href=\"psysml:d7af749e-ffc6-4773-972a-b8dfcfe9deb8\" xlink:show=\"new\" xlink:title=\"psysml:d7af749e-ffc6-4773-972a-b8dfcfe9deb8\" xlink:type=\"simple\"><rect fill=\"#FEFECE\" filter=\"url(#f19139cs4riruf)\" height=\"45.9375\" id=\"E3\" rx=\"10\" ry=\"10\" style=\"stroke: #A80036; stroke-width: 1.5;\" width=\"71\" x=\"456.5\" y=\"41\"/><text fill=\"#000000\" font-family=\"sans-serif\" font-size=\"12\" font-style=\"italic\" lengthAdjust=\"spacingAndGlyphs\" textLength=\"69\" x=\"457.5\" y=\"57.1387\">«attribute»</text><text fill=\"#000000\" font-family=\"sans-serif\" font-size=\"12\" lengthAdjust=\"spacingAndGlyphs\" textLength=\"24\" x=\"480\" y=\"71.1074\">a: A</text><line style=\"stroke: #A80036; stroke-width: 1.5;\" x1=\"457.5\" x2=\"526.5\" y1=\"78.9375\" y2=\"78.9375\"/></a><!--MD5=[b9389687b975829384b498ac4b7476b2]\n",
       "class E8--><a href=\"psysml:e43abf7c-a809-48bd-8c78-cd0a53fbbdb6\" target=\"_top\" title=\"psysml:e43abf7c-a809-48bd-8c78-cd0a53fbbdb6\" xlink:actuate=\"onRequest\" xlink:href=\"psysml:e43abf7c-a809-48bd-8c78-cd0a53fbbdb6\" xlink:show=\"new\" xlink:title=\"psysml:e43abf7c-a809-48bd-8c78-cd0a53fbbdb6\" xlink:type=\"simple\"><rect fill=\"#FEFECE\" filter=\"url(#f19139cs4riruf)\" height=\"45.9375\" id=\"E8\" rx=\"10\" ry=\"10\" style=\"stroke: #A80036; stroke-width: 1.5;\" width=\"71\" x=\"350.5\" y=\"41\"/><text fill=\"#000000\" font-family=\"sans-serif\" font-size=\"12\" font-style=\"italic\" lengthAdjust=\"spacingAndGlyphs\" textLength=\"69\" x=\"351.5\" y=\"57.1387\">«attribute»</text><text fill=\"#000000\" font-family=\"sans-serif\" font-size=\"12\" lengthAdjust=\"spacingAndGlyphs\" textLength=\"4\" x=\"384\" y=\"71.1074\">f</text><line style=\"stroke: #A80036; stroke-width: 1.5;\" x1=\"351.5\" x2=\"420.5\" y1=\"78.9375\" y2=\"78.9375\"/></a><!--MD5=[fd4143e9d270a159db93a4ea2a975926]\n",
       "class E9--><a href=\"psysml:04ff0b02-14ab-40e8-a866-ef9bcfd05ef7\" target=\"_top\" title=\"psysml:04ff0b02-14ab-40e8-a866-ef9bcfd05ef7\" xlink:actuate=\"onRequest\" xlink:href=\"psysml:04ff0b02-14ab-40e8-a866-ef9bcfd05ef7\" xlink:show=\"new\" xlink:title=\"psysml:04ff0b02-14ab-40e8-a866-ef9bcfd05ef7\" xlink:type=\"simple\"><rect fill=\"#FEFECE\" filter=\"url(#f19139cs4riruf)\" height=\"45.9375\" id=\"E9\" rx=\"10\" ry=\"10\" style=\"stroke: #A80036; stroke-width: 1.5;\" width=\"71\" x=\"244.5\" y=\"41\"/><text fill=\"#000000\" font-family=\"sans-serif\" font-size=\"12\" font-style=\"italic\" lengthAdjust=\"spacingAndGlyphs\" textLength=\"69\" x=\"245.5\" y=\"57.1387\">«attribute»</text><text fill=\"#000000\" font-family=\"sans-serif\" font-size=\"12\" lengthAdjust=\"spacingAndGlyphs\" textLength=\"8\" x=\"276\" y=\"71.1074\">g</text><line style=\"stroke: #A80036; stroke-width: 1.5;\" x1=\"245.5\" x2=\"314.5\" y1=\"78.9375\" y2=\"78.9375\"/></a><!--MD5=[96f4274e9e20536e775497830990834d]\n",
       "class E10--><a href=\"psysml:37f56aff-8c9f-4a8e-95e0-50132129fb99\" target=\"_top\" title=\"psysml:37f56aff-8c9f-4a8e-95e0-50132129fb99\" xlink:actuate=\"onRequest\" xlink:href=\"psysml:37f56aff-8c9f-4a8e-95e0-50132129fb99\" xlink:show=\"new\" xlink:title=\"psysml:37f56aff-8c9f-4a8e-95e0-50132129fb99\" xlink:type=\"simple\"><rect fill=\"#FEFECE\" filter=\"url(#f19139cs4riruf)\" height=\"45.9375\" id=\"E10\" rx=\"10\" ry=\"10\" style=\"stroke: #A80036; stroke-width: 1.5;\" width=\"71\" x=\"138.5\" y=\"41\"/><text fill=\"#000000\" font-family=\"sans-serif\" font-size=\"12\" font-style=\"italic\" lengthAdjust=\"spacingAndGlyphs\" textLength=\"69\" x=\"139.5\" y=\"57.1387\">«attribute»</text><text fill=\"#000000\" font-family=\"sans-serif\" font-size=\"12\" lengthAdjust=\"spacingAndGlyphs\" textLength=\"8\" x=\"170\" y=\"71.1074\">b</text><line style=\"stroke: #A80036; stroke-width: 1.5;\" x1=\"139.5\" x2=\"208.5\" y1=\"78.9375\" y2=\"78.9375\"/></a><!--MD5=[1dd1bfd58a279cf63c5f349dbc8fc6a1]\n",
       "class E11--><a href=\"psysml:6095b787-d7f9-43be-8b1b-f534282edd43\" target=\"_top\" title=\"psysml:6095b787-d7f9-43be-8b1b-f534282edd43\" xlink:actuate=\"onRequest\" xlink:href=\"psysml:6095b787-d7f9-43be-8b1b-f534282edd43\" xlink:show=\"new\" xlink:title=\"psysml:6095b787-d7f9-43be-8b1b-f534282edd43\" xlink:type=\"simple\"><rect fill=\"#FEFECE\" filter=\"url(#f19139cs4riruf)\" height=\"45.9375\" id=\"E11\" rx=\"10\" ry=\"10\" style=\"stroke: #A80036; stroke-width: 1.5;\" width=\"71\" x=\"32.5\" y=\"41\"/><text fill=\"#000000\" font-family=\"sans-serif\" font-size=\"12\" font-style=\"italic\" lengthAdjust=\"spacingAndGlyphs\" textLength=\"69\" x=\"33.5\" y=\"57.1387\">«attribute»</text><text fill=\"#000000\" font-family=\"sans-serif\" font-size=\"12\" lengthAdjust=\"spacingAndGlyphs\" textLength=\"7\" x=\"64.5\" y=\"71.1074\">c</text><line style=\"stroke: #A80036; stroke-width: 1.5;\" x1=\"33.5\" x2=\"102.5\" y1=\"78.9375\" y2=\"78.9375\"/></a><text fill=\"#000000\" font-family=\"sans-serif\" font-size=\"14\" lengthAdjust=\"spacingAndGlyphs\" textLength=\"9\" x=\"567.5\" y=\"42.6982\">p</text><rect fill=\"#A80036\" height=\"12\" style=\"stroke: #FEFECE; stroke-width: 1.5;\" width=\"12\" x=\"566\" y=\"58\"/><text fill=\"#000000\" font-family=\"sans-serif\" font-size=\"14\" lengthAdjust=\"spacingAndGlyphs\" textLength=\"9\" x=\"614.5\" y=\"42.6982\">q</text><rect fill=\"#A80036\" height=\"12\" style=\"stroke: #FEFECE; stroke-width: 1.5;\" width=\"12\" x=\"613\" y=\"58\"/><text fill=\"#000000\" font-family=\"sans-serif\" font-size=\"14\" lengthAdjust=\"spacingAndGlyphs\" textLength=\"57\" x=\"590.5\" y=\"193.7151\">noname</text><rect fill=\"#A80036\" height=\"12\" style=\"stroke: #FEFECE; stroke-width: 1.5;\" width=\"12\" x=\"613\" y=\"168.72\"/><!--MD5=[05d275557350bfb9b23a4ef7222b4c39]\n",
       "link E3 to E2--><a href=\"psysml:982c8c0e-9af2-4f93-8067-230d5c39d8a2\" target=\"_top\" title=\"psysml:982c8c0e-9af2-4f93-8067-230d5c39d8a2\" xlink:actuate=\"onRequest\" xlink:href=\"psysml:982c8c0e-9af2-4f93-8067-230d5c39d8a2\" xlink:show=\"new\" xlink:title=\"psysml:982c8c0e-9af2-4f93-8067-230d5c39d8a2\" xlink:type=\"simple\"><path d=\"M481.83,87.17 C481.78,87.29 481.72,87.41 481.66,87.53 \" fill=\"none\" id=\"E3-&gt;E2\" style=\"stroke: #A80036; stroke-width: 1.0;\"/><polygon fill=\"#FFFFFF\" points=\"476.43,98.93,477.977,78.7407,490.7056,84.5701,476.43,98.93\" style=\"stroke: #A80036; stroke-width: 1.0;\"/><ellipse cx=\"482.1687\" cy=\"74.3911\" fill=\"#A80036\" rx=\"2\" ry=\"2\" style=\"stroke: #A80036; stroke-width: 1.0;\"/><ellipse cx=\"491.2606\" cy=\"78.555\" fill=\"#A80036\" rx=\"2\" ry=\"2\" style=\"stroke: #A80036; stroke-width: 1.0;\"/></a><!--MD5=[3880e65678066e7bfb5aa0494a4932bc]\n",
       "@startuml\r\n",
       "skinparam ranksep 10\r\n",
       "skinparam rectangle {\r\n",
       " backgroundColor<<block>> LightGreen\r\n",
       "}\r\n",
       "skinparam wrapWidth 300\r\n",
       "hide circle\r\n",
       "\r\n",
       "package \"ParameterTest\" as E1  [[psysml:0dacd990-2b3a-4306-80d2-1e4fad6d04cd ]]  {\r\n",
       "def \"A\" as E2  <<(T,blue)attribute def>> [[psysml:03a6349f-297b-4a78-b9ab-052989f96479 ]] \r\n",
       "comp usage \"a: A\" as E3  <<(T,blue)attribute>> [[psysml:d7af749e-ffc6-4773-972a-b8dfcfe9deb8 ]] {\r\n",
       "}\r\n",
       "rec def \"F\" as E4  <<(T,blue)calculation def>> [[psysml:cd1262f4-d3f9-4f52-89ee-1653680ad782 ]] {\r\n",
       "portin \"p\" as E5  [[psysml:16d77514-2de6-4c2c-add7-8b8555ca417f ]] \r\n",
       "portin \"q\" as E6  [[psysml:85e14753-ca59-4cde-8265-18a8cb4b45d6 ]] \r\n",
       "portout \"noname\" as E7  [[psysml:99b94083-4aa7-41fb-8d8e-135498f03bbe ]] \r\n",
       "}\r\n",
       "\r\n",
       "comp usage \"f\" as E8  <<(T,blue)attribute>> [[psysml:e43abf7c-a809-48bd-8c78-cd0a53fbbdb6 ]] {\r\n",
       "}\r\n",
       "comp usage \"g\" as E9  <<(T,blue)attribute>> [[psysml:04ff0b02-14ab-40e8-a866-ef9bcfd05ef7 ]] {\r\n",
       "}\r\n",
       "comp usage \"b\" as E10  <<(T,blue)attribute>> [[psysml:37f56aff-8c9f-4a8e-95e0-50132129fb99 ]] {\r\n",
       "}\r\n",
       "comp usage \"c\" as E11  <<(T,blue)attribute>> [[psysml:6095b787-d7f9-43be-8b1b-f534282edd43 ]] {\r\n",
       "}\r\n",
       "E3 - -:|> E2 [[psysml:982c8c0e-9af2-4f93-8067-230d5c39d8a2 ]] \r\n",
       "}\r\n",
       "@enduml\r\n",
       "\n",
       "PlantUML version 1.2020.13(Sat Jun 13 12:26:38 UTC 2020)\n",
       "(EPL source distribution)\n",
       "Java Runtime: OpenJDK Runtime Environment\n",
       "JVM: OpenJDK 64-Bit Server VM\n",
       "Default Encoding: UTF-8\n",
       "Language: en\n",
       "Country: null\n",
       "--></g></svg>"
      ]
     },
     "execution_count": 26,
     "metadata": {},
     "output_type": "execute_result"
    }
   ],
   "source": [
    "%viz --style=\"STDCOLOR\" --view=\"Interconnection\" \"ParameterTest\""
   ]
  },
  {
   "cell_type": "code",
   "execution_count": 27,
   "id": "acknowledged-block",
   "metadata": {
    "execution": {
     "iopub.execute_input": "2021-03-24T16:28:54.606260Z",
     "iopub.status.busy": "2021-03-24T16:28:54.605361Z",
     "iopub.status.idle": "2021-03-24T16:28:54.629435Z",
     "shell.execute_reply": "2021-03-24T16:28:54.629031Z"
    }
   },
   "outputs": [
    {
     "data": {
      "image/svg+xml": [
       "<?xml version=\"1.0\" encoding=\"UTF-8\" standalone=\"no\"?><svg xmlns=\"http://www.w3.org/2000/svg\" xmlns:xlink=\"http://www.w3.org/1999/xlink\" contentScriptType=\"application/ecmascript\" contentStyleType=\"text/css\" height=\"162px\" preserveAspectRatio=\"none\" style=\"width:174px;height:162px;\" version=\"1.1\" viewBox=\"0 0 174 162\" width=\"174px\" zoomAndPan=\"magnify\"><defs><filter height=\"300%\" id=\"fjv80b6qzc2sj\" width=\"300%\" x=\"-1\" y=\"-1\"><feGaussianBlur result=\"blurOut\" stdDeviation=\"2.0\"/><feColorMatrix in=\"blurOut\" result=\"blurOut2\" type=\"matrix\" values=\"0 0 0 0 0 0 0 0 0 0 0 0 0 0 0 0 0 0 .4 0\"/><feOffset dx=\"4.0\" dy=\"4.0\" in=\"blurOut2\" result=\"blurOut3\"/><feBlend in=\"SourceGraphic\" in2=\"blurOut3\" mode=\"normal\"/></filter></defs><g><!--MD5=[fbc87193dbaf4d95561dea2c320d4a47]\n",
       "cluster E1--><a href=\"psysml:cd1262f4-d3f9-4f52-89ee-1653680ad782\" target=\"_top\" title=\"psysml:cd1262f4-d3f9-4f52-89ee-1653680ad782\" xlink:actuate=\"onRequest\" xlink:href=\"psysml:cd1262f4-d3f9-4f52-89ee-1653680ad782\" xlink:show=\"new\" xlink:title=\"psysml:cd1262f4-d3f9-4f52-89ee-1653680ad782\" xlink:type=\"simple\"><rect fill=\"#FFFFFF\" filter=\"url(#fjv80b6qzc2sj)\" height=\"87.72\" id=\"E1\" style=\"stroke: #A80036; stroke-width: 1.5;\" width=\"148\" x=\"7\" y=\"42.0986\"/><rect fill=\"#FEFECE\" height=\"37.9375\" style=\"stroke: #A80036; stroke-width: 1.5;\" width=\"148\" x=\"7\" y=\"42.0986\"/><text fill=\"#000000\" font-family=\"sans-serif\" font-size=\"12\" font-style=\"italic\" lengthAdjust=\"spacingAndGlyphs\" textLength=\"106\" x=\"28\" y=\"58.2373\">«calculation def»</text><text fill=\"#000000\" font-family=\"sans-serif\" font-size=\"12\" lengthAdjust=\"spacingAndGlyphs\" textLength=\"7\" x=\"77.5\" y=\"72.2061\">F</text></a><text fill=\"#000000\" font-family=\"sans-serif\" font-size=\"14\" lengthAdjust=\"spacingAndGlyphs\" textLength=\"9\" x=\"20.5\" y=\"20.7969\">p</text><rect fill=\"#A80036\" height=\"12\" style=\"stroke: #FEFECE; stroke-width: 1.5;\" width=\"12\" x=\"19\" y=\"36.0986\"/><text fill=\"#000000\" font-family=\"sans-serif\" font-size=\"14\" lengthAdjust=\"spacingAndGlyphs\" textLength=\"9\" x=\"67.5\" y=\"20.7969\">q</text><rect fill=\"#A80036\" height=\"12\" style=\"stroke: #FEFECE; stroke-width: 1.5;\" width=\"12\" x=\"66\" y=\"36.0986\"/><text fill=\"#000000\" font-family=\"sans-serif\" font-size=\"14\" lengthAdjust=\"spacingAndGlyphs\" textLength=\"57\" x=\"43.5\" y=\"148.8138\">noname</text><rect fill=\"#A80036\" height=\"12\" style=\"stroke: #FEFECE; stroke-width: 1.5;\" width=\"12\" x=\"66\" y=\"123.8186\"/><!--MD5=[932844065f6642c5133fba997cecdddf]\n",
       "@startuml\r\n",
       "skinparam ranksep 8\r\n",
       "skinparam wrapWidth 300\r\n",
       "hide circle\r\n",
       "\r\n",
       "rec def \"F\" as E1  <<(T,blue)calculation def>> [[psysml:cd1262f4-d3f9-4f52-89ee-1653680ad782 ]] {\r\n",
       "portin \"p\" as E2  [[psysml:16d77514-2de6-4c2c-add7-8b8555ca417f ]] \r\n",
       "portin \"q\" as E3  [[psysml:85e14753-ca59-4cde-8265-18a8cb4b45d6 ]] \r\n",
       "portout \"noname\" as E4  [[psysml:99b94083-4aa7-41fb-8d8e-135498f03bbe ]] \r\n",
       "}\r\n",
       "\r\n",
       "@enduml\r\n",
       "\n",
       "PlantUML version 1.2020.13(Sat Jun 13 12:26:38 UTC 2020)\n",
       "(EPL source distribution)\n",
       "Java Runtime: OpenJDK Runtime Environment\n",
       "JVM: OpenJDK 64-Bit Server VM\n",
       "Default Encoding: UTF-8\n",
       "Language: en\n",
       "Country: null\n",
       "--></g></svg>"
      ]
     },
     "execution_count": 27,
     "metadata": {},
     "output_type": "execute_result"
    }
   ],
   "source": [
    "%viz --style=\"STDCOLOR\" --view=\"Action\" \"ParameterTest\""
   ]
  },
  {
   "cell_type": "code",
   "execution_count": 28,
   "id": "perceived-spanking",
   "metadata": {
    "execution": {
     "iopub.execute_input": "2021-03-24T16:28:54.681356Z",
     "iopub.status.busy": "2021-03-24T16:28:54.680672Z",
     "iopub.status.idle": "2021-03-24T16:28:54.719002Z",
     "shell.execute_reply": "2021-03-24T16:28:54.717436Z"
    }
   },
   "outputs": [
    {
     "data": {
      "image/svg+xml": [
       "<?xml version=\"1.0\" encoding=\"UTF-8\" standalone=\"no\"?><svg xmlns=\"http://www.w3.org/2000/svg\" xmlns:xlink=\"http://www.w3.org/1999/xlink\" contentScriptType=\"application/ecmascript\" contentStyleType=\"text/css\" height=\"264px\" preserveAspectRatio=\"none\" style=\"width:710px;height:264px;\" version=\"1.1\" viewBox=\"0 0 710 264\" width=\"710px\" zoomAndPan=\"magnify\"><defs><filter height=\"300%\" id=\"f1fguy7ifsoj35\" width=\"300%\" x=\"-1\" y=\"-1\"><feGaussianBlur result=\"blurOut\" stdDeviation=\"2.0\"/><feColorMatrix in=\"blurOut\" result=\"blurOut2\" type=\"matrix\" values=\"0 0 0 0 0 0 0 0 0 0 0 0 0 0 0 0 0 0 .4 0\"/><feOffset dx=\"4.0\" dy=\"4.0\" in=\"blurOut2\" result=\"blurOut3\"/><feBlend in=\"SourceGraphic\" in2=\"blurOut3\" mode=\"normal\"/></filter></defs><g><!--MD5=[fbc87193dbaf4d95561dea2c320d4a47]\n",
       "cluster E1--><a href=\"psysml:0dacd990-2b3a-4306-80d2-1e4fad6d04cd\" target=\"_top\" title=\"psysml:0dacd990-2b3a-4306-80d2-1e4fad6d04cd\" xlink:actuate=\"onRequest\" xlink:href=\"psysml:0dacd990-2b3a-4306-80d2-1e4fad6d04cd\" xlink:show=\"new\" xlink:title=\"psysml:0dacd990-2b3a-4306-80d2-1e4fad6d04cd\" xlink:type=\"simple\"><polygon fill=\"#FFFFFF\" filter=\"url(#f1fguy7ifsoj35)\" points=\"16,6,139,6,146,28.2969,688,28.2969,688,252,16,252,16,6\" style=\"stroke: #000000; stroke-width: 1.5;\"/><line style=\"stroke: #000000; stroke-width: 1.5;\" x1=\"16\" x2=\"146\" y1=\"28.2969\" y2=\"28.2969\"/><text fill=\"#000000\" font-family=\"sans-serif\" font-size=\"14\" font-weight=\"bold\" lengthAdjust=\"spacingAndGlyphs\" textLength=\"117\" x=\"20\" y=\"20.9951\">ParameterTest</text></a><!--MD5=[b4997ac47864f28c2f74865a473b2911]\n",
       "class E2--><a href=\"psysml:03a6349f-297b-4a78-b9ab-052989f96479\" target=\"_top\" title=\"psysml:03a6349f-297b-4a78-b9ab-052989f96479\" xlink:actuate=\"onRequest\" xlink:href=\"psysml:03a6349f-297b-4a78-b9ab-052989f96479\" xlink:show=\"new\" xlink:title=\"psysml:03a6349f-297b-4a78-b9ab-052989f96479\" xlink:type=\"simple\"><rect fill=\"#FEFECE\" filter=\"url(#f1fguy7ifsoj35)\" height=\"71.5469\" id=\"E2\" style=\"stroke: #A80036; stroke-width: 1.5;\" width=\"95\" x=\"498.5\" y=\"164\"/><text fill=\"#000000\" font-family=\"sans-serif\" font-size=\"12\" font-style=\"italic\" lengthAdjust=\"spacingAndGlyphs\" textLength=\"93\" x=\"499.5\" y=\"180.1387\">«attribute def»</text><text fill=\"#000000\" font-family=\"sans-serif\" font-size=\"12\" lengthAdjust=\"spacingAndGlyphs\" textLength=\"8\" x=\"542\" y=\"194.1074\">A</text><line style=\"stroke: #A80036; stroke-width: 1.5;\" x1=\"499.5\" x2=\"592.5\" y1=\"201.9375\" y2=\"201.9375\"/><text fill=\"#000000\" font-family=\"sans-serif\" font-size=\"11\" lengthAdjust=\"spacingAndGlyphs\" textLength=\"48\" x=\"504.5\" y=\"216.1479\">x: String</text><text fill=\"#000000\" font-family=\"sans-serif\" font-size=\"11\" lengthAdjust=\"spacingAndGlyphs\" textLength=\"21\" x=\"504.5\" y=\"228.9526\">y: A</text></a><!--MD5=[09b614a08d8cba4a07c9adeb5e0fee81]\n",
       "class E3--><a href=\"psysml:d7af749e-ffc6-4773-972a-b8dfcfe9deb8\" target=\"_top\" title=\"psysml:d7af749e-ffc6-4773-972a-b8dfcfe9deb8\" xlink:actuate=\"onRequest\" xlink:href=\"psysml:d7af749e-ffc6-4773-972a-b8dfcfe9deb8\" xlink:show=\"new\" xlink:title=\"psysml:d7af749e-ffc6-4773-972a-b8dfcfe9deb8\" xlink:type=\"simple\"><rect fill=\"#FEFECE\" filter=\"url(#f1fguy7ifsoj35)\" height=\"45.9375\" id=\"E3\" rx=\"10\" ry=\"10\" style=\"stroke: #A80036; stroke-width: 1.5;\" width=\"71\" x=\"600.5\" y=\"41\"/><text fill=\"#000000\" font-family=\"sans-serif\" font-size=\"12\" font-style=\"italic\" lengthAdjust=\"spacingAndGlyphs\" textLength=\"69\" x=\"601.5\" y=\"57.1387\">«attribute»</text><text fill=\"#000000\" font-family=\"sans-serif\" font-size=\"12\" lengthAdjust=\"spacingAndGlyphs\" textLength=\"24\" x=\"624\" y=\"71.1074\">a: A</text><line style=\"stroke: #A80036; stroke-width: 1.5;\" x1=\"601.5\" x2=\"670.5\" y1=\"78.9375\" y2=\"78.9375\"/></a><!--MD5=[ebbe1d658d1005bcc118a6aa81145e00]\n",
       "class E4--><a href=\"psysml:cd1262f4-d3f9-4f52-89ee-1653680ad782\" target=\"_top\" title=\"psysml:cd1262f4-d3f9-4f52-89ee-1653680ad782\" xlink:actuate=\"onRequest\" xlink:href=\"psysml:cd1262f4-d3f9-4f52-89ee-1653680ad782\" xlink:show=\"new\" xlink:title=\"psysml:cd1262f4-d3f9-4f52-89ee-1653680ad782\" xlink:type=\"simple\"><rect fill=\"#FEFECE\" filter=\"url(#f1fguy7ifsoj35)\" height=\"45.9375\" id=\"E4\" style=\"stroke: #A80036; stroke-width: 1.5;\" width=\"108\" x=\"457\" y=\"41\"/><text fill=\"#000000\" font-family=\"sans-serif\" font-size=\"12\" font-style=\"italic\" lengthAdjust=\"spacingAndGlyphs\" textLength=\"106\" x=\"458\" y=\"57.1387\">«calculation def»</text><text fill=\"#000000\" font-family=\"sans-serif\" font-size=\"12\" lengthAdjust=\"spacingAndGlyphs\" textLength=\"7\" x=\"507.5\" y=\"71.1074\">F</text><line style=\"stroke: #A80036; stroke-width: 1.5;\" x1=\"458\" x2=\"564\" y1=\"78.9375\" y2=\"78.9375\"/></a><!--MD5=[270fce915f116d4de14055a7c1d9a0f3]\n",
       "class E5--><a href=\"psysml:e43abf7c-a809-48bd-8c78-cd0a53fbbdb6\" target=\"_top\" title=\"psysml:e43abf7c-a809-48bd-8c78-cd0a53fbbdb6\" xlink:actuate=\"onRequest\" xlink:href=\"psysml:e43abf7c-a809-48bd-8c78-cd0a53fbbdb6\" xlink:show=\"new\" xlink:title=\"psysml:e43abf7c-a809-48bd-8c78-cd0a53fbbdb6\" xlink:type=\"simple\"><rect fill=\"#FEFECE\" filter=\"url(#f1fguy7ifsoj35)\" height=\"45.9375\" id=\"E5\" rx=\"10\" ry=\"10\" style=\"stroke: #A80036; stroke-width: 1.5;\" width=\"71\" x=\"350.5\" y=\"41\"/><text fill=\"#000000\" font-family=\"sans-serif\" font-size=\"12\" font-style=\"italic\" lengthAdjust=\"spacingAndGlyphs\" textLength=\"69\" x=\"351.5\" y=\"57.1387\">«attribute»</text><text fill=\"#000000\" font-family=\"sans-serif\" font-size=\"12\" lengthAdjust=\"spacingAndGlyphs\" textLength=\"4\" x=\"384\" y=\"71.1074\">f</text><line style=\"stroke: #A80036; stroke-width: 1.5;\" x1=\"351.5\" x2=\"420.5\" y1=\"78.9375\" y2=\"78.9375\"/></a><!--MD5=[60a26617385b1d2d0262a64233df1f8d]\n",
       "class E6--><a href=\"psysml:04ff0b02-14ab-40e8-a866-ef9bcfd05ef7\" target=\"_top\" title=\"psysml:04ff0b02-14ab-40e8-a866-ef9bcfd05ef7\" xlink:actuate=\"onRequest\" xlink:href=\"psysml:04ff0b02-14ab-40e8-a866-ef9bcfd05ef7\" xlink:show=\"new\" xlink:title=\"psysml:04ff0b02-14ab-40e8-a866-ef9bcfd05ef7\" xlink:type=\"simple\"><rect fill=\"#FEFECE\" filter=\"url(#f1fguy7ifsoj35)\" height=\"45.9375\" id=\"E6\" rx=\"10\" ry=\"10\" style=\"stroke: #A80036; stroke-width: 1.5;\" width=\"71\" x=\"244.5\" y=\"41\"/><text fill=\"#000000\" font-family=\"sans-serif\" font-size=\"12\" font-style=\"italic\" lengthAdjust=\"spacingAndGlyphs\" textLength=\"69\" x=\"245.5\" y=\"57.1387\">«attribute»</text><text fill=\"#000000\" font-family=\"sans-serif\" font-size=\"12\" lengthAdjust=\"spacingAndGlyphs\" textLength=\"8\" x=\"276\" y=\"71.1074\">g</text><line style=\"stroke: #A80036; stroke-width: 1.5;\" x1=\"245.5\" x2=\"314.5\" y1=\"78.9375\" y2=\"78.9375\"/></a><!--MD5=[2156ba9850f5573cc1fc38a6a4b2f02b]\n",
       "class E7--><a href=\"psysml:37f56aff-8c9f-4a8e-95e0-50132129fb99\" target=\"_top\" title=\"psysml:37f56aff-8c9f-4a8e-95e0-50132129fb99\" xlink:actuate=\"onRequest\" xlink:href=\"psysml:37f56aff-8c9f-4a8e-95e0-50132129fb99\" xlink:show=\"new\" xlink:title=\"psysml:37f56aff-8c9f-4a8e-95e0-50132129fb99\" xlink:type=\"simple\"><rect fill=\"#FEFECE\" filter=\"url(#f1fguy7ifsoj35)\" height=\"45.9375\" id=\"E7\" rx=\"10\" ry=\"10\" style=\"stroke: #A80036; stroke-width: 1.5;\" width=\"71\" x=\"138.5\" y=\"41\"/><text fill=\"#000000\" font-family=\"sans-serif\" font-size=\"12\" font-style=\"italic\" lengthAdjust=\"spacingAndGlyphs\" textLength=\"69\" x=\"139.5\" y=\"57.1387\">«attribute»</text><text fill=\"#000000\" font-family=\"sans-serif\" font-size=\"12\" lengthAdjust=\"spacingAndGlyphs\" textLength=\"8\" x=\"170\" y=\"71.1074\">b</text><line style=\"stroke: #A80036; stroke-width: 1.5;\" x1=\"139.5\" x2=\"208.5\" y1=\"78.9375\" y2=\"78.9375\"/></a><!--MD5=[b9389687b975829384b498ac4b7476b2]\n",
       "class E8--><a href=\"psysml:6095b787-d7f9-43be-8b1b-f534282edd43\" target=\"_top\" title=\"psysml:6095b787-d7f9-43be-8b1b-f534282edd43\" xlink:actuate=\"onRequest\" xlink:href=\"psysml:6095b787-d7f9-43be-8b1b-f534282edd43\" xlink:show=\"new\" xlink:title=\"psysml:6095b787-d7f9-43be-8b1b-f534282edd43\" xlink:type=\"simple\"><rect fill=\"#FEFECE\" filter=\"url(#f1fguy7ifsoj35)\" height=\"45.9375\" id=\"E8\" rx=\"10\" ry=\"10\" style=\"stroke: #A80036; stroke-width: 1.5;\" width=\"71\" x=\"32.5\" y=\"41\"/><text fill=\"#000000\" font-family=\"sans-serif\" font-size=\"12\" font-style=\"italic\" lengthAdjust=\"spacingAndGlyphs\" textLength=\"69\" x=\"33.5\" y=\"57.1387\">«attribute»</text><text fill=\"#000000\" font-family=\"sans-serif\" font-size=\"12\" lengthAdjust=\"spacingAndGlyphs\" textLength=\"7\" x=\"64.5\" y=\"71.1074\">c</text><line style=\"stroke: #A80036; stroke-width: 1.5;\" x1=\"33.5\" x2=\"102.5\" y1=\"78.9375\" y2=\"78.9375\"/></a><!--MD5=[05d275557350bfb9b23a4ef7222b4c39]\n",
       "link E3 to E2--><a href=\"psysml:982c8c0e-9af2-4f93-8067-230d5c39d8a2\" target=\"_top\" title=\"psysml:982c8c0e-9af2-4f93-8067-230d5c39d8a2\" xlink:actuate=\"onRequest\" xlink:href=\"psysml:982c8c0e-9af2-4f93-8067-230d5c39d8a2\" xlink:show=\"new\" xlink:title=\"psysml:982c8c0e-9af2-4f93-8067-230d5c39d8a2\" xlink:type=\"simple\"><path d=\"M621.14,87.13 C610.18,103.45 594.8,126.34 580.81,147.17 \" fill=\"none\" id=\"E3-&gt;E2\" style=\"stroke: #A80036; stroke-width: 1.0;\"/><polygon fill=\"#FFFFFF\" points=\"569.52,163.99,574.309,144.316,585.9284,152.1256,569.52,163.99\" style=\"stroke: #A80036; stroke-width: 1.0;\"/><ellipse cx=\"579.1486\" cy=\"140.7009\" fill=\"#A80036\" rx=\"2\" ry=\"2\" style=\"stroke: #A80036; stroke-width: 1.0;\"/><ellipse cx=\"587.4481\" cy=\"146.2792\" fill=\"#A80036\" rx=\"2\" ry=\"2\" style=\"stroke: #A80036; stroke-width: 1.0;\"/></a><!--MD5=[ddeed8deb2209213b62e6cfabaa108b2]\n",
       "reverse link E4 to E2--><a href=\"psysml:16d77514-2de6-4c2c-add7-8b8555ca417f\" target=\"_top\" title=\"psysml:16d77514-2de6-4c2c-add7-8b8555ca417f\" xlink:actuate=\"onRequest\" xlink:href=\"psysml:16d77514-2de6-4c2c-add7-8b8555ca417f\" xlink:show=\"new\" xlink:title=\"psysml:16d77514-2de6-4c2c-add7-8b8555ca417f\" xlink:type=\"simple\"><path d=\"M520.11,99.89 C525.27,119.63 531.69,144.23 536.85,163.99 \" fill=\"none\" id=\"E4&lt;-E2\" style=\"stroke: #A80036; stroke-width: 1.0;\"/><polygon fill=\"#FFFFFF\" points=\"516.78,87.13,514.4253,93.9458,519.8112,98.7408,522.1659,91.925,516.78,87.13\" style=\"stroke: #A80036; stroke-width: 1.0;\"/><text fill=\"#000000\" font-family=\"sans-serif\" font-size=\"13\" lengthAdjust=\"spacingAndGlyphs\" textLength=\"8\" x=\"529\" y=\"130.0669\">p</text></a><!--MD5=[c963c6a538a00887a71eaf7a004c0f70]\n",
       "@startuml\r\n",
       "skinparam wrapWidth 300\r\n",
       "hide circle\r\n",
       "\r\n",
       "package \"ParameterTest\" as E1  [[psysml:0dacd990-2b3a-4306-80d2-1e4fad6d04cd ]]  {\r\n",
       "comp def \"A\" as E2  <<(T,blue)attribute def>> [[psysml:03a6349f-297b-4a78-b9ab-052989f96479 ]] {\r\n",
       "x: String\r\n",
       "y: A\r\n",
       "}\r\n",
       "comp usage \"a: A\" as E3  <<(T,blue)attribute>> [[psysml:d7af749e-ffc6-4773-972a-b8dfcfe9deb8 ]] {\r\n",
       "}\r\n",
       "comp def \"F\" as E4  <<(T,blue)calculation def>> [[psysml:cd1262f4-d3f9-4f52-89ee-1653680ad782 ]] {\r\n",
       "}\r\n",
       "comp usage \"f\" as E5  <<(T,blue)attribute>> [[psysml:e43abf7c-a809-48bd-8c78-cd0a53fbbdb6 ]] {\r\n",
       "}\r\n",
       "comp usage \"g\" as E6  <<(T,blue)attribute>> [[psysml:04ff0b02-14ab-40e8-a866-ef9bcfd05ef7 ]] {\r\n",
       "}\r\n",
       "comp usage \"b\" as E7  <<(T,blue)attribute>> [[psysml:37f56aff-8c9f-4a8e-95e0-50132129fb99 ]] {\r\n",
       "}\r\n",
       "comp usage \"c\" as E8  <<(T,blue)attribute>> [[psysml:6095b787-d7f9-43be-8b1b-f534282edd43 ]] {\r\n",
       "}\r\n",
       "E3 - -:|> E2 [[psysml:982c8c0e-9af2-4f93-8067-230d5c39d8a2 ]] \r\n",
       "E4 o- - E2 [[psysml:16d77514-2de6-4c2c-add7-8b8555ca417f ]] : p\r\n",
       "}\r\n",
       "@enduml\r\n",
       "\n",
       "PlantUML version 1.2020.13(Sat Jun 13 12:26:38 UTC 2020)\n",
       "(EPL source distribution)\n",
       "Java Runtime: OpenJDK Runtime Environment\n",
       "JVM: OpenJDK 64-Bit Server VM\n",
       "Default Encoding: UTF-8\n",
       "Language: en\n",
       "Country: null\n",
       "--></g></svg>"
      ]
     },
     "execution_count": 28,
     "metadata": {},
     "output_type": "execute_result"
    }
   ],
   "source": [
    "%viz --style=\"STDCOLOR\" --view=\"Sequence\" \"ParameterTest\""
   ]
  },
  {
   "cell_type": "code",
   "execution_count": 29,
   "id": "acoustic-sally",
   "metadata": {
    "execution": {
     "iopub.execute_input": "2021-03-24T16:28:54.770353Z",
     "iopub.status.busy": "2021-03-24T16:28:54.769652Z",
     "iopub.status.idle": "2021-03-24T16:28:54.812139Z",
     "shell.execute_reply": "2021-03-24T16:28:54.810580Z"
    }
   },
   "outputs": [
    {
     "data": {
      "image/svg+xml": [
       "<?xml version=\"1.0\" encoding=\"UTF-8\" standalone=\"no\"?><svg xmlns=\"http://www.w3.org/2000/svg\" xmlns:xlink=\"http://www.w3.org/1999/xlink\" contentScriptType=\"application/ecmascript\" contentStyleType=\"text/css\" height=\"387px\" preserveAspectRatio=\"none\" style=\"width:740px;height:387px;\" version=\"1.1\" viewBox=\"0 0 740 387\" width=\"740px\" zoomAndPan=\"magnify\"><defs><filter height=\"300%\" id=\"f1w3uv1q1tjt2h\" width=\"300%\" x=\"-1\" y=\"-1\"><feGaussianBlur result=\"blurOut\" stdDeviation=\"2.0\"/><feColorMatrix in=\"blurOut\" result=\"blurOut2\" type=\"matrix\" values=\"0 0 0 0 0 0 0 0 0 0 0 0 0 0 0 0 0 0 .4 0\"/><feOffset dx=\"4.0\" dy=\"4.0\" in=\"blurOut2\" result=\"blurOut3\"/><feBlend in=\"SourceGraphic\" in2=\"blurOut3\" mode=\"normal\"/></filter></defs><g><!--MD5=[fbc87193dbaf4d95561dea2c320d4a47]\n",
       "cluster E1--><a href=\"psysml:0dacd990-2b3a-4306-80d2-1e4fad6d04cd\" target=\"_top\" title=\"psysml:0dacd990-2b3a-4306-80d2-1e4fad6d04cd\" xlink:actuate=\"onRequest\" xlink:href=\"psysml:0dacd990-2b3a-4306-80d2-1e4fad6d04cd\" xlink:show=\"new\" xlink:title=\"psysml:0dacd990-2b3a-4306-80d2-1e4fad6d04cd\" xlink:type=\"simple\"><polygon fill=\"#FFFFFF\" filter=\"url(#f1w3uv1q1tjt2h)\" points=\"16,6,139,6,146,28.2969,718,28.2969,718,375.72,16,375.72,16,6\" style=\"stroke: #000000; stroke-width: 1.5;\"/><line style=\"stroke: #000000; stroke-width: 1.5;\" x1=\"16\" x2=\"146\" y1=\"28.2969\" y2=\"28.2969\"/><text fill=\"#000000\" font-family=\"sans-serif\" font-size=\"14\" font-weight=\"bold\" lengthAdjust=\"spacingAndGlyphs\" textLength=\"117\" x=\"20\" y=\"20.9951\">ParameterTest</text></a><!--MD5=[f6df4d0ebaf0b5dfb2ced0ae5af7c670]\n",
       "cluster E4--><a href=\"psysml:cd1262f4-d3f9-4f52-89ee-1653680ad782\" target=\"_top\" title=\"psysml:cd1262f4-d3f9-4f52-89ee-1653680ad782\" xlink:actuate=\"onRequest\" xlink:href=\"psysml:cd1262f4-d3f9-4f52-89ee-1653680ad782\" xlink:show=\"new\" xlink:title=\"psysml:cd1262f4-d3f9-4f52-89ee-1653680ad782\" xlink:type=\"simple\"><rect fill=\"#FFFFFF\" filter=\"url(#f1w3uv1q1tjt2h)\" height=\"281.72\" id=\"E4\" style=\"stroke: #A80036; stroke-width: 1.5;\" width=\"148\" x=\"554\" y=\"64\"/><rect fill=\"#FEFECE\" height=\"37.9375\" style=\"stroke: #A80036; stroke-width: 1.5;\" width=\"148\" x=\"554\" y=\"64\"/><text fill=\"#000000\" font-family=\"sans-serif\" font-size=\"12\" font-style=\"italic\" lengthAdjust=\"spacingAndGlyphs\" textLength=\"106\" x=\"575\" y=\"80.1387\">«calculation def»</text><text fill=\"#000000\" font-family=\"sans-serif\" font-size=\"12\" lengthAdjust=\"spacingAndGlyphs\" textLength=\"7\" x=\"624.5\" y=\"94.1074\">F</text></a><!--MD5=[b4997ac47864f28c2f74865a473b2911]\n",
       "class E2--><a href=\"psysml:03a6349f-297b-4a78-b9ab-052989f96479\" target=\"_top\" title=\"psysml:03a6349f-297b-4a78-b9ab-052989f96479\" xlink:actuate=\"onRequest\" xlink:href=\"psysml:03a6349f-297b-4a78-b9ab-052989f96479\" xlink:show=\"new\" xlink:title=\"psysml:03a6349f-297b-4a78-b9ab-052989f96479\" xlink:type=\"simple\"><rect fill=\"#FEFECE\" filter=\"url(#f1w3uv1q1tjt2h)\" height=\"71.5469\" id=\"E2\" style=\"stroke: #A80036; stroke-width: 1.5;\" width=\"95\" x=\"422.5\" y=\"147\"/><text fill=\"#000000\" font-family=\"sans-serif\" font-size=\"12\" font-style=\"italic\" lengthAdjust=\"spacingAndGlyphs\" textLength=\"93\" x=\"423.5\" y=\"163.1387\">«attribute def»</text><text fill=\"#000000\" font-family=\"sans-serif\" font-size=\"12\" lengthAdjust=\"spacingAndGlyphs\" textLength=\"8\" x=\"466\" y=\"177.1074\">A</text><line style=\"stroke: #A80036; stroke-width: 1.5;\" x1=\"423.5\" x2=\"516.5\" y1=\"184.9375\" y2=\"184.9375\"/><text fill=\"#000000\" font-family=\"sans-serif\" font-size=\"11\" lengthAdjust=\"spacingAndGlyphs\" textLength=\"48\" x=\"428.5\" y=\"199.1479\">x: String</text><text fill=\"#000000\" font-family=\"sans-serif\" font-size=\"11\" lengthAdjust=\"spacingAndGlyphs\" textLength=\"21\" x=\"428.5\" y=\"211.9526\">y: A</text></a><!--MD5=[09b614a08d8cba4a07c9adeb5e0fee81]\n",
       "class E3--><a href=\"psysml:d7af749e-ffc6-4773-972a-b8dfcfe9deb8\" target=\"_top\" title=\"psysml:d7af749e-ffc6-4773-972a-b8dfcfe9deb8\" xlink:actuate=\"onRequest\" xlink:href=\"psysml:d7af749e-ffc6-4773-972a-b8dfcfe9deb8\" xlink:show=\"new\" xlink:title=\"psysml:d7af749e-ffc6-4773-972a-b8dfcfe9deb8\" xlink:type=\"simple\"><rect fill=\"#FEFECE\" filter=\"url(#f1w3uv1q1tjt2h)\" height=\"45.9375\" id=\"E3\" rx=\"10\" ry=\"10\" style=\"stroke: #A80036; stroke-width: 1.5;\" width=\"71\" x=\"456.5\" y=\"41\"/><text fill=\"#000000\" font-family=\"sans-serif\" font-size=\"12\" font-style=\"italic\" lengthAdjust=\"spacingAndGlyphs\" textLength=\"69\" x=\"457.5\" y=\"57.1387\">«attribute»</text><text fill=\"#000000\" font-family=\"sans-serif\" font-size=\"12\" lengthAdjust=\"spacingAndGlyphs\" textLength=\"24\" x=\"480\" y=\"71.1074\">a: A</text><line style=\"stroke: #A80036; stroke-width: 1.5;\" x1=\"457.5\" x2=\"526.5\" y1=\"78.9375\" y2=\"78.9375\"/></a><!--MD5=[b9389687b975829384b498ac4b7476b2]\n",
       "class E8--><a href=\"psysml:e43abf7c-a809-48bd-8c78-cd0a53fbbdb6\" target=\"_top\" title=\"psysml:e43abf7c-a809-48bd-8c78-cd0a53fbbdb6\" xlink:actuate=\"onRequest\" xlink:href=\"psysml:e43abf7c-a809-48bd-8c78-cd0a53fbbdb6\" xlink:show=\"new\" xlink:title=\"psysml:e43abf7c-a809-48bd-8c78-cd0a53fbbdb6\" xlink:type=\"simple\"><rect fill=\"#FEFECE\" filter=\"url(#f1w3uv1q1tjt2h)\" height=\"45.9375\" id=\"E8\" rx=\"10\" ry=\"10\" style=\"stroke: #A80036; stroke-width: 1.5;\" width=\"71\" x=\"350.5\" y=\"41\"/><text fill=\"#000000\" font-family=\"sans-serif\" font-size=\"12\" font-style=\"italic\" lengthAdjust=\"spacingAndGlyphs\" textLength=\"69\" x=\"351.5\" y=\"57.1387\">«attribute»</text><text fill=\"#000000\" font-family=\"sans-serif\" font-size=\"12\" lengthAdjust=\"spacingAndGlyphs\" textLength=\"4\" x=\"384\" y=\"71.1074\">f</text><line style=\"stroke: #A80036; stroke-width: 1.5;\" x1=\"351.5\" x2=\"420.5\" y1=\"78.9375\" y2=\"78.9375\"/></a><!--MD5=[fd4143e9d270a159db93a4ea2a975926]\n",
       "class E9--><a href=\"psysml:04ff0b02-14ab-40e8-a866-ef9bcfd05ef7\" target=\"_top\" title=\"psysml:04ff0b02-14ab-40e8-a866-ef9bcfd05ef7\" xlink:actuate=\"onRequest\" xlink:href=\"psysml:04ff0b02-14ab-40e8-a866-ef9bcfd05ef7\" xlink:show=\"new\" xlink:title=\"psysml:04ff0b02-14ab-40e8-a866-ef9bcfd05ef7\" xlink:type=\"simple\"><rect fill=\"#FEFECE\" filter=\"url(#f1w3uv1q1tjt2h)\" height=\"45.9375\" id=\"E9\" rx=\"10\" ry=\"10\" style=\"stroke: #A80036; stroke-width: 1.5;\" width=\"71\" x=\"244.5\" y=\"41\"/><text fill=\"#000000\" font-family=\"sans-serif\" font-size=\"12\" font-style=\"italic\" lengthAdjust=\"spacingAndGlyphs\" textLength=\"69\" x=\"245.5\" y=\"57.1387\">«attribute»</text><text fill=\"#000000\" font-family=\"sans-serif\" font-size=\"12\" lengthAdjust=\"spacingAndGlyphs\" textLength=\"8\" x=\"276\" y=\"71.1074\">g</text><line style=\"stroke: #A80036; stroke-width: 1.5;\" x1=\"245.5\" x2=\"314.5\" y1=\"78.9375\" y2=\"78.9375\"/></a><!--MD5=[96f4274e9e20536e775497830990834d]\n",
       "class E10--><a href=\"psysml:37f56aff-8c9f-4a8e-95e0-50132129fb99\" target=\"_top\" title=\"psysml:37f56aff-8c9f-4a8e-95e0-50132129fb99\" xlink:actuate=\"onRequest\" xlink:href=\"psysml:37f56aff-8c9f-4a8e-95e0-50132129fb99\" xlink:show=\"new\" xlink:title=\"psysml:37f56aff-8c9f-4a8e-95e0-50132129fb99\" xlink:type=\"simple\"><rect fill=\"#FEFECE\" filter=\"url(#f1w3uv1q1tjt2h)\" height=\"45.9375\" id=\"E10\" rx=\"10\" ry=\"10\" style=\"stroke: #A80036; stroke-width: 1.5;\" width=\"71\" x=\"138.5\" y=\"41\"/><text fill=\"#000000\" font-family=\"sans-serif\" font-size=\"12\" font-style=\"italic\" lengthAdjust=\"spacingAndGlyphs\" textLength=\"69\" x=\"139.5\" y=\"57.1387\">«attribute»</text><text fill=\"#000000\" font-family=\"sans-serif\" font-size=\"12\" lengthAdjust=\"spacingAndGlyphs\" textLength=\"8\" x=\"170\" y=\"71.1074\">b</text><line style=\"stroke: #A80036; stroke-width: 1.5;\" x1=\"139.5\" x2=\"208.5\" y1=\"78.9375\" y2=\"78.9375\"/></a><!--MD5=[1dd1bfd58a279cf63c5f349dbc8fc6a1]\n",
       "class E11--><a href=\"psysml:6095b787-d7f9-43be-8b1b-f534282edd43\" target=\"_top\" title=\"psysml:6095b787-d7f9-43be-8b1b-f534282edd43\" xlink:actuate=\"onRequest\" xlink:href=\"psysml:6095b787-d7f9-43be-8b1b-f534282edd43\" xlink:show=\"new\" xlink:title=\"psysml:6095b787-d7f9-43be-8b1b-f534282edd43\" xlink:type=\"simple\"><rect fill=\"#FEFECE\" filter=\"url(#f1w3uv1q1tjt2h)\" height=\"45.9375\" id=\"E11\" rx=\"10\" ry=\"10\" style=\"stroke: #A80036; stroke-width: 1.5;\" width=\"71\" x=\"32.5\" y=\"41\"/><text fill=\"#000000\" font-family=\"sans-serif\" font-size=\"12\" font-style=\"italic\" lengthAdjust=\"spacingAndGlyphs\" textLength=\"69\" x=\"33.5\" y=\"57.1387\">«attribute»</text><text fill=\"#000000\" font-family=\"sans-serif\" font-size=\"12\" lengthAdjust=\"spacingAndGlyphs\" textLength=\"7\" x=\"64.5\" y=\"71.1074\">c</text><line style=\"stroke: #A80036; stroke-width: 1.5;\" x1=\"33.5\" x2=\"102.5\" y1=\"78.9375\" y2=\"78.9375\"/></a><text fill=\"#000000\" font-family=\"sans-serif\" font-size=\"14\" lengthAdjust=\"spacingAndGlyphs\" textLength=\"9\" x=\"567.5\" y=\"42.6982\">p</text><rect fill=\"#A80036\" height=\"12\" style=\"stroke: #FEFECE; stroke-width: 1.5;\" width=\"12\" x=\"566\" y=\"58\"/><text fill=\"#000000\" font-family=\"sans-serif\" font-size=\"14\" lengthAdjust=\"spacingAndGlyphs\" textLength=\"9\" x=\"614.5\" y=\"42.6982\">q</text><rect fill=\"#A80036\" height=\"12\" style=\"stroke: #FEFECE; stroke-width: 1.5;\" width=\"12\" x=\"613\" y=\"58\"/><text fill=\"#000000\" font-family=\"sans-serif\" font-size=\"14\" lengthAdjust=\"spacingAndGlyphs\" textLength=\"57\" x=\"590.5\" y=\"364.7151\">noname</text><rect fill=\"#A80036\" height=\"12\" style=\"stroke: #FEFECE; stroke-width: 1.5;\" width=\"12\" x=\"613\" y=\"339.72\"/><!--MD5=[05d275557350bfb9b23a4ef7222b4c39]\n",
       "link E3 to E2--><a href=\"psysml:982c8c0e-9af2-4f93-8067-230d5c39d8a2\" target=\"_top\" title=\"psysml:982c8c0e-9af2-4f93-8067-230d5c39d8a2\" xlink:actuate=\"onRequest\" xlink:href=\"psysml:982c8c0e-9af2-4f93-8067-230d5c39d8a2\" xlink:show=\"new\" xlink:title=\"psysml:982c8c0e-9af2-4f93-8067-230d5c39d8a2\" xlink:type=\"simple\"><path d=\"M487.86,87.01 C485.74,98.3 483.05,112.62 480.4,126.7 \" fill=\"none\" id=\"E3-&gt;E2\" style=\"stroke: #A80036; stroke-width: 1.0;\"/><polygon fill=\"#FFFFFF\" points=\"476.63,146.75,473.2514,126.7854,487.0116,129.3654,476.63,146.75\" style=\"stroke: #A80036; stroke-width: 1.0;\"/><ellipse cx=\"476.2676\" cy=\"121.5516\" fill=\"#A80036\" rx=\"2\" ry=\"2\" style=\"stroke: #A80036; stroke-width: 1.0;\"/><ellipse cx=\"486.0963\" cy=\"123.3945\" fill=\"#A80036\" rx=\"2\" ry=\"2\" style=\"stroke: #A80036; stroke-width: 1.0;\"/></a><!--MD5=[19d522e3c74a803d57a13f8f2cb1bbbb]\n",
       "@startuml\r\n",
       "skinparam wrapWidth 300\r\n",
       "hide circle\r\n",
       "\r\n",
       "package \"ParameterTest\" as E1  [[psysml:0dacd990-2b3a-4306-80d2-1e4fad6d04cd ]]  {\r\n",
       "comp def \"A\" as E2  <<(T,blue)attribute def>> [[psysml:03a6349f-297b-4a78-b9ab-052989f96479 ]] {\r\n",
       "x: String\r\n",
       "y: A\r\n",
       "}\r\n",
       "comp usage \"a: A\" as E3  <<(T,blue)attribute>> [[psysml:d7af749e-ffc6-4773-972a-b8dfcfe9deb8 ]] {\r\n",
       "}\r\n",
       "rec def \"F\" as E4  <<(T,blue)calculation def>> [[psysml:cd1262f4-d3f9-4f52-89ee-1653680ad782 ]] {\r\n",
       "portin \"p\" as E5  [[psysml:16d77514-2de6-4c2c-add7-8b8555ca417f ]] \r\n",
       "portin \"q\" as E6  [[psysml:85e14753-ca59-4cde-8265-18a8cb4b45d6 ]] \r\n",
       "portout \"noname\" as E7  [[psysml:99b94083-4aa7-41fb-8d8e-135498f03bbe ]] \r\n",
       "}\r\n",
       "\r\n",
       "comp usage \"f\" as E8  <<(T,blue)attribute>> [[psysml:e43abf7c-a809-48bd-8c78-cd0a53fbbdb6 ]] {\r\n",
       "}\r\n",
       "comp usage \"g\" as E9  <<(T,blue)attribute>> [[psysml:04ff0b02-14ab-40e8-a866-ef9bcfd05ef7 ]] {\r\n",
       "}\r\n",
       "comp usage \"b\" as E10  <<(T,blue)attribute>> [[psysml:37f56aff-8c9f-4a8e-95e0-50132129fb99 ]] {\r\n",
       "}\r\n",
       "comp usage \"c\" as E11  <<(T,blue)attribute>> [[psysml:6095b787-d7f9-43be-8b1b-f534282edd43 ]] {\r\n",
       "}\r\n",
       "E3 - -:|> E2 [[psysml:982c8c0e-9af2-4f93-8067-230d5c39d8a2 ]] \r\n",
       "}\r\n",
       "@enduml\r\n",
       "\n",
       "PlantUML version 1.2020.13(Sat Jun 13 12:26:38 UTC 2020)\n",
       "(EPL source distribution)\n",
       "Java Runtime: OpenJDK Runtime Environment\n",
       "JVM: OpenJDK 64-Bit Server VM\n",
       "Default Encoding: UTF-8\n",
       "Language: en\n",
       "Country: null\n",
       "--></g></svg>"
      ]
     },
     "execution_count": 29,
     "metadata": {},
     "output_type": "execute_result"
    }
   ],
   "source": [
    "%viz --style=\"STDCOLOR\" --view=\"MIXED\" \"ParameterTest\""
   ]
  },
  {
   "cell_type": "code",
   "execution_count": 30,
   "id": "disciplinary-modem",
   "metadata": {
    "execution": {
     "iopub.execute_input": "2021-03-24T16:28:54.863435Z",
     "iopub.status.busy": "2021-03-24T16:28:54.862831Z",
     "iopub.status.idle": "2021-03-24T16:28:54.924922Z",
     "shell.execute_reply": "2021-03-24T16:28:54.924580Z"
    }
   },
   "outputs": [
    {
     "data": {
      "image/svg+xml": [
       "<?xml version=\"1.0\" encoding=\"UTF-8\" standalone=\"no\"?><svg xmlns=\"http://www.w3.org/2000/svg\" xmlns:xlink=\"http://www.w3.org/1999/xlink\" contentScriptType=\"application/ecmascript\" contentStyleType=\"text/css\" height=\"387px\" preserveAspectRatio=\"none\" style=\"width:868px;height:387px;\" version=\"1.1\" viewBox=\"0 0 868 387\" width=\"868px\" zoomAndPan=\"magnify\"><defs><filter height=\"300%\" id=\"fxh1n9vq4v8sp\" width=\"300%\" x=\"-1\" y=\"-1\"><feGaussianBlur result=\"blurOut\" stdDeviation=\"2.0\"/><feColorMatrix in=\"blurOut\" result=\"blurOut2\" type=\"matrix\" values=\"0 0 0 0 0 0 0 0 0 0 0 0 0 0 0 0 0 0 .4 0\"/><feOffset dx=\"4.0\" dy=\"4.0\" in=\"blurOut2\" result=\"blurOut3\"/><feBlend in=\"SourceGraphic\" in2=\"blurOut3\" mode=\"normal\"/></filter></defs><g><!--MD5=[fbc87193dbaf4d95561dea2c320d4a47]\n",
       "cluster E1--><a href=\"psysml:0dacd990-2b3a-4306-80d2-1e4fad6d04cd\" target=\"_top\" title=\"psysml:0dacd990-2b3a-4306-80d2-1e4fad6d04cd\" xlink:actuate=\"onRequest\" xlink:href=\"psysml:0dacd990-2b3a-4306-80d2-1e4fad6d04cd\" xlink:show=\"new\" xlink:title=\"psysml:0dacd990-2b3a-4306-80d2-1e4fad6d04cd\" xlink:type=\"simple\"><polygon fill=\"#FFFFFF\" filter=\"url(#fxh1n9vq4v8sp)\" points=\"16,6,139,6,146,28.2969,846,28.2969,846,375.72,16,375.72,16,6\" style=\"stroke: #000000; stroke-width: 1.5;\"/><line style=\"stroke: #000000; stroke-width: 1.5;\" x1=\"16\" x2=\"146\" y1=\"28.2969\" y2=\"28.2969\"/><text fill=\"#000000\" font-family=\"sans-serif\" font-size=\"14\" font-weight=\"bold\" lengthAdjust=\"spacingAndGlyphs\" textLength=\"117\" x=\"20\" y=\"20.9951\">ParameterTest</text></a><!--MD5=[f6df4d0ebaf0b5dfb2ced0ae5af7c670]\n",
       "cluster E4--><a href=\"psysml:cd1262f4-d3f9-4f52-89ee-1653680ad782\" target=\"_top\" title=\"psysml:cd1262f4-d3f9-4f52-89ee-1653680ad782\" xlink:actuate=\"onRequest\" xlink:href=\"psysml:cd1262f4-d3f9-4f52-89ee-1653680ad782\" xlink:show=\"new\" xlink:title=\"psysml:cd1262f4-d3f9-4f52-89ee-1653680ad782\" xlink:type=\"simple\"><rect fill=\"#FFFFFF\" filter=\"url(#fxh1n9vq4v8sp)\" height=\"281.72\" id=\"E4\" style=\"stroke: #A80036; stroke-width: 1.5;\" width=\"148\" x=\"682\" y=\"64\"/><rect fill=\"#FEFECE\" height=\"37.9375\" style=\"stroke: #A80036; stroke-width: 1.5;\" width=\"148\" x=\"682\" y=\"64\"/><text fill=\"#000000\" font-family=\"sans-serif\" font-size=\"12\" font-style=\"italic\" lengthAdjust=\"spacingAndGlyphs\" textLength=\"106\" x=\"703\" y=\"80.1387\">«calculation def»</text><text fill=\"#000000\" font-family=\"sans-serif\" font-size=\"12\" lengthAdjust=\"spacingAndGlyphs\" textLength=\"7\" x=\"752.5\" y=\"94.1074\">F</text></a><!--MD5=[b4997ac47864f28c2f74865a473b2911]\n",
       "class E2--><a href=\"psysml:03a6349f-297b-4a78-b9ab-052989f96479\" target=\"_top\" title=\"psysml:03a6349f-297b-4a78-b9ab-052989f96479\" xlink:actuate=\"onRequest\" xlink:href=\"psysml:03a6349f-297b-4a78-b9ab-052989f96479\" xlink:show=\"new\" xlink:title=\"psysml:03a6349f-297b-4a78-b9ab-052989f96479\" xlink:type=\"simple\"><rect fill=\"#FEFECE\" filter=\"url(#fxh1n9vq4v8sp)\" height=\"71.5469\" id=\"E2\" style=\"stroke: #A80036; stroke-width: 1.5;\" width=\"121\" x=\"524.5\" y=\"147\"/><ellipse cx=\"539.5\" cy=\"165.9688\" fill=\"#A52A2A\" rx=\"11\" ry=\"11\" style=\"stroke: #A80036; stroke-width: 1.0;\"/><path d=\"M539.0938,161.7813 L539.0938,169.7656 L539.75,169.7656 Q541.1875,169.7656 541.7969,168.8594 Q542.4219,167.9375 542.4219,165.7656 Q542.4219,163.5938 541.7969,162.6875 Q541.1875,161.7813 539.75,161.7813 L539.0938,161.7813 Z M536.6406,159.5781 L539.2656,159.5781 Q542.2969,159.5781 543.625,161.0313 Q544.9688,162.4688 544.9688,165.7656 Q544.9688,169.0625 543.625,170.5156 Q542.2969,171.9688 539.2656,171.9688 L536.6406,171.9688 L536.6406,159.5781 Z \"/><text fill=\"#000000\" font-family=\"sans-serif\" font-size=\"12\" font-style=\"italic\" lengthAdjust=\"spacingAndGlyphs\" textLength=\"93\" x=\"551.5\" y=\"163.1387\">«attribute def»</text><text fill=\"#000000\" font-family=\"sans-serif\" font-size=\"12\" lengthAdjust=\"spacingAndGlyphs\" textLength=\"8\" x=\"594\" y=\"177.1074\">A</text><line style=\"stroke: #A80036; stroke-width: 1.5;\" x1=\"525.5\" x2=\"644.5\" y1=\"184.9375\" y2=\"184.9375\"/><text fill=\"#000000\" font-family=\"sans-serif\" font-size=\"11\" lengthAdjust=\"spacingAndGlyphs\" textLength=\"48\" x=\"530.5\" y=\"199.1479\">x: String</text><text fill=\"#000000\" font-family=\"sans-serif\" font-size=\"11\" lengthAdjust=\"spacingAndGlyphs\" textLength=\"21\" x=\"530.5\" y=\"211.9526\">y: A</text></a><!--MD5=[09b614a08d8cba4a07c9adeb5e0fee81]\n",
       "class E3--><a href=\"psysml:d7af749e-ffc6-4773-972a-b8dfcfe9deb8\" target=\"_top\" title=\"psysml:d7af749e-ffc6-4773-972a-b8dfcfe9deb8\" xlink:actuate=\"onRequest\" xlink:href=\"psysml:d7af749e-ffc6-4773-972a-b8dfcfe9deb8\" xlink:show=\"new\" xlink:title=\"psysml:d7af749e-ffc6-4773-972a-b8dfcfe9deb8\" xlink:type=\"simple\"><rect fill=\"#FEFECE\" filter=\"url(#fxh1n9vq4v8sp)\" height=\"45.9375\" id=\"E3\" rx=\"10\" ry=\"10\" style=\"stroke: #A80036; stroke-width: 1.5;\" width=\"97\" x=\"559.5\" y=\"41\"/><ellipse cx=\"574.5\" cy=\"59.9688\" fill=\"#FFA500\" rx=\"11\" ry=\"11\" style=\"stroke: #A80036; stroke-width: 1.0;\"/><path d=\"M570.375,61.8906 L570.375,54.0781 L572.8281,54.0781 L572.8281,62.5156 Q572.8281,63.4375 573.2969,63.9688 Q573.7813,64.5 574.6094,64.5 Q575.4531,64.5 575.9219,63.9688 Q576.3906,63.4375 576.3906,62.5156 L576.3906,54.0781 L578.8438,54.0781 L578.8438,61.8906 Q578.8438,64.4219 577.8438,65.5625 Q576.8438,66.7031 574.6094,66.7031 Q572.3906,66.7031 571.375,65.5625 Q570.375,64.4219 570.375,61.8906 Z \"/><text fill=\"#000000\" font-family=\"sans-serif\" font-size=\"12\" font-style=\"italic\" lengthAdjust=\"spacingAndGlyphs\" textLength=\"69\" x=\"586.5\" y=\"57.1387\">«attribute»</text><text fill=\"#000000\" font-family=\"sans-serif\" font-size=\"12\" lengthAdjust=\"spacingAndGlyphs\" textLength=\"24\" x=\"609\" y=\"71.1074\">a: A</text><line style=\"stroke: #A80036; stroke-width: 1.5;\" x1=\"560.5\" x2=\"655.5\" y1=\"78.9375\" y2=\"78.9375\"/></a><!--MD5=[b9389687b975829384b498ac4b7476b2]\n",
       "class E8--><a href=\"psysml:e43abf7c-a809-48bd-8c78-cd0a53fbbdb6\" target=\"_top\" title=\"psysml:e43abf7c-a809-48bd-8c78-cd0a53fbbdb6\" xlink:actuate=\"onRequest\" xlink:href=\"psysml:e43abf7c-a809-48bd-8c78-cd0a53fbbdb6\" xlink:show=\"new\" xlink:title=\"psysml:e43abf7c-a809-48bd-8c78-cd0a53fbbdb6\" xlink:type=\"simple\"><rect fill=\"#FEFECE\" filter=\"url(#fxh1n9vq4v8sp)\" height=\"45.9375\" id=\"E8\" rx=\"10\" ry=\"10\" style=\"stroke: #A80036; stroke-width: 1.5;\" width=\"97\" x=\"427.5\" y=\"41\"/><ellipse cx=\"442.5\" cy=\"59.9688\" fill=\"#FFA500\" rx=\"11\" ry=\"11\" style=\"stroke: #A80036; stroke-width: 1.0;\"/><path d=\"M438.375,61.8906 L438.375,54.0781 L440.8281,54.0781 L440.8281,62.5156 Q440.8281,63.4375 441.2969,63.9688 Q441.7813,64.5 442.6094,64.5 Q443.4531,64.5 443.9219,63.9688 Q444.3906,63.4375 444.3906,62.5156 L444.3906,54.0781 L446.8438,54.0781 L446.8438,61.8906 Q446.8438,64.4219 445.8438,65.5625 Q444.8438,66.7031 442.6094,66.7031 Q440.3906,66.7031 439.375,65.5625 Q438.375,64.4219 438.375,61.8906 Z \"/><text fill=\"#000000\" font-family=\"sans-serif\" font-size=\"12\" font-style=\"italic\" lengthAdjust=\"spacingAndGlyphs\" textLength=\"69\" x=\"454.5\" y=\"57.1387\">«attribute»</text><text fill=\"#000000\" font-family=\"sans-serif\" font-size=\"12\" lengthAdjust=\"spacingAndGlyphs\" textLength=\"4\" x=\"487\" y=\"71.1074\">f</text><line style=\"stroke: #A80036; stroke-width: 1.5;\" x1=\"428.5\" x2=\"523.5\" y1=\"78.9375\" y2=\"78.9375\"/></a><!--MD5=[fd4143e9d270a159db93a4ea2a975926]\n",
       "class E9--><a href=\"psysml:04ff0b02-14ab-40e8-a866-ef9bcfd05ef7\" target=\"_top\" title=\"psysml:04ff0b02-14ab-40e8-a866-ef9bcfd05ef7\" xlink:actuate=\"onRequest\" xlink:href=\"psysml:04ff0b02-14ab-40e8-a866-ef9bcfd05ef7\" xlink:show=\"new\" xlink:title=\"psysml:04ff0b02-14ab-40e8-a866-ef9bcfd05ef7\" xlink:type=\"simple\"><rect fill=\"#FEFECE\" filter=\"url(#fxh1n9vq4v8sp)\" height=\"45.9375\" id=\"E9\" rx=\"10\" ry=\"10\" style=\"stroke: #A80036; stroke-width: 1.5;\" width=\"97\" x=\"295.5\" y=\"41\"/><ellipse cx=\"310.5\" cy=\"59.9688\" fill=\"#FFA500\" rx=\"11\" ry=\"11\" style=\"stroke: #A80036; stroke-width: 1.0;\"/><path d=\"M306.375,61.8906 L306.375,54.0781 L308.8281,54.0781 L308.8281,62.5156 Q308.8281,63.4375 309.2969,63.9688 Q309.7813,64.5 310.6094,64.5 Q311.4531,64.5 311.9219,63.9688 Q312.3906,63.4375 312.3906,62.5156 L312.3906,54.0781 L314.8438,54.0781 L314.8438,61.8906 Q314.8438,64.4219 313.8438,65.5625 Q312.8438,66.7031 310.6094,66.7031 Q308.3906,66.7031 307.375,65.5625 Q306.375,64.4219 306.375,61.8906 Z \"/><text fill=\"#000000\" font-family=\"sans-serif\" font-size=\"12\" font-style=\"italic\" lengthAdjust=\"spacingAndGlyphs\" textLength=\"69\" x=\"322.5\" y=\"57.1387\">«attribute»</text><text fill=\"#000000\" font-family=\"sans-serif\" font-size=\"12\" lengthAdjust=\"spacingAndGlyphs\" textLength=\"8\" x=\"353\" y=\"71.1074\">g</text><line style=\"stroke: #A80036; stroke-width: 1.5;\" x1=\"296.5\" x2=\"391.5\" y1=\"78.9375\" y2=\"78.9375\"/></a><!--MD5=[96f4274e9e20536e775497830990834d]\n",
       "class E10--><a href=\"psysml:37f56aff-8c9f-4a8e-95e0-50132129fb99\" target=\"_top\" title=\"psysml:37f56aff-8c9f-4a8e-95e0-50132129fb99\" xlink:actuate=\"onRequest\" xlink:href=\"psysml:37f56aff-8c9f-4a8e-95e0-50132129fb99\" xlink:show=\"new\" xlink:title=\"psysml:37f56aff-8c9f-4a8e-95e0-50132129fb99\" xlink:type=\"simple\"><rect fill=\"#FEFECE\" filter=\"url(#fxh1n9vq4v8sp)\" height=\"45.9375\" id=\"E10\" rx=\"10\" ry=\"10\" style=\"stroke: #A80036; stroke-width: 1.5;\" width=\"97\" x=\"163.5\" y=\"41\"/><ellipse cx=\"178.5\" cy=\"59.9688\" fill=\"#FFA500\" rx=\"11\" ry=\"11\" style=\"stroke: #A80036; stroke-width: 1.0;\"/><path d=\"M174.375,61.8906 L174.375,54.0781 L176.8281,54.0781 L176.8281,62.5156 Q176.8281,63.4375 177.2969,63.9688 Q177.7813,64.5 178.6094,64.5 Q179.4531,64.5 179.9219,63.9688 Q180.3906,63.4375 180.3906,62.5156 L180.3906,54.0781 L182.8438,54.0781 L182.8438,61.8906 Q182.8438,64.4219 181.8438,65.5625 Q180.8438,66.7031 178.6094,66.7031 Q176.3906,66.7031 175.375,65.5625 Q174.375,64.4219 174.375,61.8906 Z \"/><text fill=\"#000000\" font-family=\"sans-serif\" font-size=\"12\" font-style=\"italic\" lengthAdjust=\"spacingAndGlyphs\" textLength=\"69\" x=\"190.5\" y=\"57.1387\">«attribute»</text><text fill=\"#000000\" font-family=\"sans-serif\" font-size=\"12\" lengthAdjust=\"spacingAndGlyphs\" textLength=\"8\" x=\"221\" y=\"71.1074\">b</text><line style=\"stroke: #A80036; stroke-width: 1.5;\" x1=\"164.5\" x2=\"259.5\" y1=\"78.9375\" y2=\"78.9375\"/></a><!--MD5=[1dd1bfd58a279cf63c5f349dbc8fc6a1]\n",
       "class E11--><a href=\"psysml:6095b787-d7f9-43be-8b1b-f534282edd43\" target=\"_top\" title=\"psysml:6095b787-d7f9-43be-8b1b-f534282edd43\" xlink:actuate=\"onRequest\" xlink:href=\"psysml:6095b787-d7f9-43be-8b1b-f534282edd43\" xlink:show=\"new\" xlink:title=\"psysml:6095b787-d7f9-43be-8b1b-f534282edd43\" xlink:type=\"simple\"><rect fill=\"#FEFECE\" filter=\"url(#fxh1n9vq4v8sp)\" height=\"45.9375\" id=\"E11\" rx=\"10\" ry=\"10\" style=\"stroke: #A80036; stroke-width: 1.5;\" width=\"97\" x=\"31.5\" y=\"41\"/><ellipse cx=\"46.5\" cy=\"59.9688\" fill=\"#FFA500\" rx=\"11\" ry=\"11\" style=\"stroke: #A80036; stroke-width: 1.0;\"/><path d=\"M42.375,61.8906 L42.375,54.0781 L44.8281,54.0781 L44.8281,62.5156 Q44.8281,63.4375 45.2969,63.9688 Q45.7813,64.5 46.6094,64.5 Q47.4531,64.5 47.9219,63.9688 Q48.3906,63.4375 48.3906,62.5156 L48.3906,54.0781 L50.8438,54.0781 L50.8438,61.8906 Q50.8438,64.4219 49.8438,65.5625 Q48.8438,66.7031 46.6094,66.7031 Q44.3906,66.7031 43.375,65.5625 Q42.375,64.4219 42.375,61.8906 Z \"/><text fill=\"#000000\" font-family=\"sans-serif\" font-size=\"12\" font-style=\"italic\" lengthAdjust=\"spacingAndGlyphs\" textLength=\"69\" x=\"58.5\" y=\"57.1387\">«attribute»</text><text fill=\"#000000\" font-family=\"sans-serif\" font-size=\"12\" lengthAdjust=\"spacingAndGlyphs\" textLength=\"7\" x=\"89.5\" y=\"71.1074\">c</text><line style=\"stroke: #A80036; stroke-width: 1.5;\" x1=\"32.5\" x2=\"127.5\" y1=\"78.9375\" y2=\"78.9375\"/></a><text fill=\"#000000\" font-family=\"sans-serif\" font-size=\"14\" lengthAdjust=\"spacingAndGlyphs\" textLength=\"9\" x=\"695.5\" y=\"42.6982\">p</text><rect fill=\"#A80036\" height=\"12\" style=\"stroke: #FEFECE; stroke-width: 1.5;\" width=\"12\" x=\"694\" y=\"58\"/><text fill=\"#000000\" font-family=\"sans-serif\" font-size=\"14\" lengthAdjust=\"spacingAndGlyphs\" textLength=\"9\" x=\"742.5\" y=\"42.6982\">q</text><rect fill=\"#A80036\" height=\"12\" style=\"stroke: #FEFECE; stroke-width: 1.5;\" width=\"12\" x=\"741\" y=\"58\"/><text fill=\"#000000\" font-family=\"sans-serif\" font-size=\"14\" lengthAdjust=\"spacingAndGlyphs\" textLength=\"57\" x=\"718.5\" y=\"364.7151\">noname</text><rect fill=\"#A80036\" height=\"12\" style=\"stroke: #FEFECE; stroke-width: 1.5;\" width=\"12\" x=\"741\" y=\"339.72\"/><!--MD5=[05d275557350bfb9b23a4ef7222b4c39]\n",
       "link E3 to E2--><a href=\"psysml:982c8c0e-9af2-4f93-8067-230d5c39d8a2\" target=\"_top\" title=\"psysml:982c8c0e-9af2-4f93-8067-230d5c39d8a2\" xlink:actuate=\"onRequest\" xlink:href=\"psysml:982c8c0e-9af2-4f93-8067-230d5c39d8a2\" xlink:show=\"new\" xlink:title=\"psysml:982c8c0e-9af2-4f93-8067-230d5c39d8a2\" xlink:type=\"simple\"><path d=\"M603.67,87.01 C601.45,98.3 598.64,112.62 595.87,126.7 \" fill=\"none\" id=\"E3-&gt;E2\" style=\"stroke: #A80036; stroke-width: 1.0;\"/><polygon fill=\"#FFFFFF\" points=\"591.93,146.75,588.7277,126.7564,602.4646,129.4577,591.93,146.75\" style=\"stroke: #A80036; stroke-width: 1.0;\"/><ellipse cx=\"591.7899\" cy=\"121.5494\" fill=\"#A80036\" rx=\"2\" ry=\"2\" style=\"stroke: #A80036; stroke-width: 1.0;\"/><ellipse cx=\"601.602\" cy=\"123.4789\" fill=\"#A80036\" rx=\"2\" ry=\"2\" style=\"stroke: #A80036; stroke-width: 1.0;\"/></a><!--MD5=[b1da75552bb3e3bb2b1869ddacca64b3]\n",
       "@startuml\r\n",
       " \r\n",
       "package \"ParameterTest\" as E1  [[psysml:0dacd990-2b3a-4306-80d2-1e4fad6d04cd ]]  {\r\n",
       "comp def \"A\" as E2  <<(D,brown)attribute def>> [[psysml:03a6349f-297b-4a78-b9ab-052989f96479 ]] {\r\n",
       "x: String\r\n",
       "y: A\r\n",
       "}\r\n",
       "comp usage \"a: A\" as E3  <<(U,orange)attribute>> [[psysml:d7af749e-ffc6-4773-972a-b8dfcfe9deb8 ]] {\r\n",
       "}\r\n",
       "rec def \"F\" as E4  <<(D,brown)calculation def>> [[psysml:cd1262f4-d3f9-4f52-89ee-1653680ad782 ]] {\r\n",
       "portin \"p\" as E5  [[psysml:16d77514-2de6-4c2c-add7-8b8555ca417f ]] \r\n",
       "portin \"q\" as E6  [[psysml:85e14753-ca59-4cde-8265-18a8cb4b45d6 ]] \r\n",
       "portout \"noname\" as E7  [[psysml:99b94083-4aa7-41fb-8d8e-135498f03bbe ]] \r\n",
       "}\r\n",
       "\r\n",
       "comp usage \"f\" as E8  <<(U,orange)attribute>> [[psysml:e43abf7c-a809-48bd-8c78-cd0a53fbbdb6 ]] {\r\n",
       "}\r\n",
       "comp usage \"g\" as E9  <<(U,orange)attribute>> [[psysml:04ff0b02-14ab-40e8-a866-ef9bcfd05ef7 ]] {\r\n",
       "}\r\n",
       "comp usage \"b\" as E10  <<(U,orange)attribute>> [[psysml:37f56aff-8c9f-4a8e-95e0-50132129fb99 ]] {\r\n",
       "}\r\n",
       "comp usage \"c\" as E11  <<(U,orange)attribute>> [[psysml:6095b787-d7f9-43be-8b1b-f534282edd43 ]] {\r\n",
       "}\r\n",
       "E3 - -:|> E2 [[psysml:982c8c0e-9af2-4f93-8067-230d5c39d8a2 ]] \r\n",
       "}\r\n",
       "@enduml\r\n",
       "\n",
       "PlantUML version 1.2020.13(Sat Jun 13 12:26:38 UTC 2020)\n",
       "(EPL source distribution)\n",
       "Java Runtime: OpenJDK Runtime Environment\n",
       "JVM: OpenJDK 64-Bit Server VM\n",
       "Default Encoding: UTF-8\n",
       "Language: en\n",
       "Country: null\n",
       "--></g></svg>"
      ]
     },
     "execution_count": 30,
     "metadata": {},
     "output_type": "execute_result"
    }
   ],
   "source": [
    "%viz --style=\"PLANTUML\" --view=\"Default\" \"ParameterTest\""
   ]
  },
  {
   "cell_type": "code",
   "execution_count": 31,
   "id": "occupied-invitation",
   "metadata": {
    "execution": {
     "iopub.execute_input": "2021-03-24T16:28:54.975360Z",
     "iopub.status.busy": "2021-03-24T16:28:54.974927Z",
     "iopub.status.idle": "2021-03-24T16:28:55.014482Z",
     "shell.execute_reply": "2021-03-24T16:28:55.012112Z"
    }
   },
   "outputs": [
    {
     "data": {
      "image/svg+xml": [
       "<?xml version=\"1.0\" encoding=\"UTF-8\" standalone=\"no\"?><svg xmlns=\"http://www.w3.org/2000/svg\" xmlns:xlink=\"http://www.w3.org/1999/xlink\" contentScriptType=\"application/ecmascript\" contentStyleType=\"text/css\" height=\"264px\" preserveAspectRatio=\"none\" style=\"width:864px;height:264px;\" version=\"1.1\" viewBox=\"0 0 864 264\" width=\"864px\" zoomAndPan=\"magnify\"><defs><filter height=\"300%\" id=\"f1khj77lo9frwv\" width=\"300%\" x=\"-1\" y=\"-1\"><feGaussianBlur result=\"blurOut\" stdDeviation=\"2.0\"/><feColorMatrix in=\"blurOut\" result=\"blurOut2\" type=\"matrix\" values=\"0 0 0 0 0 0 0 0 0 0 0 0 0 0 0 0 0 0 .4 0\"/><feOffset dx=\"4.0\" dy=\"4.0\" in=\"blurOut2\" result=\"blurOut3\"/><feBlend in=\"SourceGraphic\" in2=\"blurOut3\" mode=\"normal\"/></filter></defs><g><!--MD5=[fbc87193dbaf4d95561dea2c320d4a47]\n",
       "cluster E1--><a href=\"psysml:0dacd990-2b3a-4306-80d2-1e4fad6d04cd\" target=\"_top\" title=\"psysml:0dacd990-2b3a-4306-80d2-1e4fad6d04cd\" xlink:actuate=\"onRequest\" xlink:href=\"psysml:0dacd990-2b3a-4306-80d2-1e4fad6d04cd\" xlink:show=\"new\" xlink:title=\"psysml:0dacd990-2b3a-4306-80d2-1e4fad6d04cd\" xlink:type=\"simple\"><polygon fill=\"#FFFFFF\" filter=\"url(#f1khj77lo9frwv)\" points=\"16,6,139,6,146,28.2969,842,28.2969,842,252,16,252,16,6\" style=\"stroke: #000000; stroke-width: 1.5;\"/><line style=\"stroke: #000000; stroke-width: 1.5;\" x1=\"16\" x2=\"146\" y1=\"28.2969\" y2=\"28.2969\"/><text fill=\"#000000\" font-family=\"sans-serif\" font-size=\"14\" font-weight=\"bold\" lengthAdjust=\"spacingAndGlyphs\" textLength=\"117\" x=\"20\" y=\"20.9951\">ParameterTest</text></a><!--MD5=[b4997ac47864f28c2f74865a473b2911]\n",
       "class E2--><a href=\"psysml:03a6349f-297b-4a78-b9ab-052989f96479\" target=\"_top\" title=\"psysml:03a6349f-297b-4a78-b9ab-052989f96479\" xlink:actuate=\"onRequest\" xlink:href=\"psysml:03a6349f-297b-4a78-b9ab-052989f96479\" xlink:show=\"new\" xlink:title=\"psysml:03a6349f-297b-4a78-b9ab-052989f96479\" xlink:type=\"simple\"><rect fill=\"#FEFECE\" filter=\"url(#f1khj77lo9frwv)\" height=\"71.5469\" id=\"E2\" style=\"stroke: #A80036; stroke-width: 1.5;\" width=\"121\" x=\"642.5\" y=\"164\"/><ellipse cx=\"657.5\" cy=\"182.9688\" fill=\"#A52A2A\" rx=\"11\" ry=\"11\" style=\"stroke: #A80036; stroke-width: 1.0;\"/><path d=\"M657.0938,178.7813 L657.0938,186.7656 L657.75,186.7656 Q659.1875,186.7656 659.7969,185.8594 Q660.4219,184.9375 660.4219,182.7656 Q660.4219,180.5938 659.7969,179.6875 Q659.1875,178.7813 657.75,178.7813 L657.0938,178.7813 Z M654.6406,176.5781 L657.2656,176.5781 Q660.2969,176.5781 661.625,178.0313 Q662.9688,179.4688 662.9688,182.7656 Q662.9688,186.0625 661.625,187.5156 Q660.2969,188.9688 657.2656,188.9688 L654.6406,188.9688 L654.6406,176.5781 Z \"/><text fill=\"#000000\" font-family=\"sans-serif\" font-size=\"12\" font-style=\"italic\" lengthAdjust=\"spacingAndGlyphs\" textLength=\"93\" x=\"669.5\" y=\"180.1387\">«attribute def»</text><text fill=\"#000000\" font-family=\"sans-serif\" font-size=\"12\" lengthAdjust=\"spacingAndGlyphs\" textLength=\"8\" x=\"712\" y=\"194.1074\">A</text><line style=\"stroke: #A80036; stroke-width: 1.5;\" x1=\"643.5\" x2=\"762.5\" y1=\"201.9375\" y2=\"201.9375\"/><text fill=\"#000000\" font-family=\"sans-serif\" font-size=\"11\" lengthAdjust=\"spacingAndGlyphs\" textLength=\"48\" x=\"648.5\" y=\"216.1479\">x: String</text><text fill=\"#000000\" font-family=\"sans-serif\" font-size=\"11\" lengthAdjust=\"spacingAndGlyphs\" textLength=\"21\" x=\"648.5\" y=\"228.9526\">y: A</text></a><!--MD5=[09b614a08d8cba4a07c9adeb5e0fee81]\n",
       "class E3--><a href=\"psysml:d7af749e-ffc6-4773-972a-b8dfcfe9deb8\" target=\"_top\" title=\"psysml:d7af749e-ffc6-4773-972a-b8dfcfe9deb8\" xlink:actuate=\"onRequest\" xlink:href=\"psysml:d7af749e-ffc6-4773-972a-b8dfcfe9deb8\" xlink:show=\"new\" xlink:title=\"psysml:d7af749e-ffc6-4773-972a-b8dfcfe9deb8\" xlink:type=\"simple\"><rect fill=\"#FEFECE\" filter=\"url(#f1khj77lo9frwv)\" height=\"45.9375\" id=\"E3\" rx=\"10\" ry=\"10\" style=\"stroke: #A80036; stroke-width: 1.5;\" width=\"97\" x=\"729.5\" y=\"41\"/><ellipse cx=\"744.5\" cy=\"59.9688\" fill=\"#FFA500\" rx=\"11\" ry=\"11\" style=\"stroke: #A80036; stroke-width: 1.0;\"/><path d=\"M740.375,61.8906 L740.375,54.0781 L742.8281,54.0781 L742.8281,62.5156 Q742.8281,63.4375 743.2969,63.9688 Q743.7813,64.5 744.6094,64.5 Q745.4531,64.5 745.9219,63.9688 Q746.3906,63.4375 746.3906,62.5156 L746.3906,54.0781 L748.8438,54.0781 L748.8438,61.8906 Q748.8438,64.4219 747.8438,65.5625 Q746.8438,66.7031 744.6094,66.7031 Q742.3906,66.7031 741.375,65.5625 Q740.375,64.4219 740.375,61.8906 Z \"/><text fill=\"#000000\" font-family=\"sans-serif\" font-size=\"12\" font-style=\"italic\" lengthAdjust=\"spacingAndGlyphs\" textLength=\"69\" x=\"756.5\" y=\"57.1387\">«attribute»</text><text fill=\"#000000\" font-family=\"sans-serif\" font-size=\"12\" lengthAdjust=\"spacingAndGlyphs\" textLength=\"24\" x=\"779\" y=\"71.1074\">a: A</text><line style=\"stroke: #A80036; stroke-width: 1.5;\" x1=\"730.5\" x2=\"825.5\" y1=\"78.9375\" y2=\"78.9375\"/></a><!--MD5=[ebbe1d658d1005bcc118a6aa81145e00]\n",
       "class E4--><a href=\"psysml:cd1262f4-d3f9-4f52-89ee-1653680ad782\" target=\"_top\" title=\"psysml:cd1262f4-d3f9-4f52-89ee-1653680ad782\" xlink:actuate=\"onRequest\" xlink:href=\"psysml:cd1262f4-d3f9-4f52-89ee-1653680ad782\" xlink:show=\"new\" xlink:title=\"psysml:cd1262f4-d3f9-4f52-89ee-1653680ad782\" xlink:type=\"simple\"><rect fill=\"#FEFECE\" filter=\"url(#f1khj77lo9frwv)\" height=\"45.9375\" id=\"E4\" style=\"stroke: #A80036; stroke-width: 1.5;\" width=\"134\" x=\"560\" y=\"41\"/><ellipse cx=\"575\" cy=\"59.9688\" fill=\"#A52A2A\" rx=\"11\" ry=\"11\" style=\"stroke: #A80036; stroke-width: 1.0;\"/><path d=\"M574.5938,55.7813 L574.5938,63.7656 L575.25,63.7656 Q576.6875,63.7656 577.2969,62.8594 Q577.9219,61.9375 577.9219,59.7656 Q577.9219,57.5938 577.2969,56.6875 Q576.6875,55.7813 575.25,55.7813 L574.5938,55.7813 Z M572.1406,53.5781 L574.7656,53.5781 Q577.7969,53.5781 579.125,55.0313 Q580.4688,56.4688 580.4688,59.7656 Q580.4688,63.0625 579.125,64.5156 Q577.7969,65.9688 574.7656,65.9688 L572.1406,65.9688 L572.1406,53.5781 Z \"/><text fill=\"#000000\" font-family=\"sans-serif\" font-size=\"12\" font-style=\"italic\" lengthAdjust=\"spacingAndGlyphs\" textLength=\"106\" x=\"587\" y=\"57.1387\">«calculation def»</text><text fill=\"#000000\" font-family=\"sans-serif\" font-size=\"12\" lengthAdjust=\"spacingAndGlyphs\" textLength=\"7\" x=\"636.5\" y=\"71.1074\">F</text><line style=\"stroke: #A80036; stroke-width: 1.5;\" x1=\"561\" x2=\"693\" y1=\"78.9375\" y2=\"78.9375\"/></a><!--MD5=[270fce915f116d4de14055a7c1d9a0f3]\n",
       "class E5--><a href=\"psysml:e43abf7c-a809-48bd-8c78-cd0a53fbbdb6\" target=\"_top\" title=\"psysml:e43abf7c-a809-48bd-8c78-cd0a53fbbdb6\" xlink:actuate=\"onRequest\" xlink:href=\"psysml:e43abf7c-a809-48bd-8c78-cd0a53fbbdb6\" xlink:show=\"new\" xlink:title=\"psysml:e43abf7c-a809-48bd-8c78-cd0a53fbbdb6\" xlink:type=\"simple\"><rect fill=\"#FEFECE\" filter=\"url(#f1khj77lo9frwv)\" height=\"45.9375\" id=\"E5\" rx=\"10\" ry=\"10\" style=\"stroke: #A80036; stroke-width: 1.5;\" width=\"97\" x=\"427.5\" y=\"41\"/><ellipse cx=\"442.5\" cy=\"59.9688\" fill=\"#FFA500\" rx=\"11\" ry=\"11\" style=\"stroke: #A80036; stroke-width: 1.0;\"/><path d=\"M438.375,61.8906 L438.375,54.0781 L440.8281,54.0781 L440.8281,62.5156 Q440.8281,63.4375 441.2969,63.9688 Q441.7813,64.5 442.6094,64.5 Q443.4531,64.5 443.9219,63.9688 Q444.3906,63.4375 444.3906,62.5156 L444.3906,54.0781 L446.8438,54.0781 L446.8438,61.8906 Q446.8438,64.4219 445.8438,65.5625 Q444.8438,66.7031 442.6094,66.7031 Q440.3906,66.7031 439.375,65.5625 Q438.375,64.4219 438.375,61.8906 Z \"/><text fill=\"#000000\" font-family=\"sans-serif\" font-size=\"12\" font-style=\"italic\" lengthAdjust=\"spacingAndGlyphs\" textLength=\"69\" x=\"454.5\" y=\"57.1387\">«attribute»</text><text fill=\"#000000\" font-family=\"sans-serif\" font-size=\"12\" lengthAdjust=\"spacingAndGlyphs\" textLength=\"4\" x=\"487\" y=\"71.1074\">f</text><line style=\"stroke: #A80036; stroke-width: 1.5;\" x1=\"428.5\" x2=\"523.5\" y1=\"78.9375\" y2=\"78.9375\"/></a><!--MD5=[60a26617385b1d2d0262a64233df1f8d]\n",
       "class E6--><a href=\"psysml:04ff0b02-14ab-40e8-a866-ef9bcfd05ef7\" target=\"_top\" title=\"psysml:04ff0b02-14ab-40e8-a866-ef9bcfd05ef7\" xlink:actuate=\"onRequest\" xlink:href=\"psysml:04ff0b02-14ab-40e8-a866-ef9bcfd05ef7\" xlink:show=\"new\" xlink:title=\"psysml:04ff0b02-14ab-40e8-a866-ef9bcfd05ef7\" xlink:type=\"simple\"><rect fill=\"#FEFECE\" filter=\"url(#f1khj77lo9frwv)\" height=\"45.9375\" id=\"E6\" rx=\"10\" ry=\"10\" style=\"stroke: #A80036; stroke-width: 1.5;\" width=\"97\" x=\"295.5\" y=\"41\"/><ellipse cx=\"310.5\" cy=\"59.9688\" fill=\"#FFA500\" rx=\"11\" ry=\"11\" style=\"stroke: #A80036; stroke-width: 1.0;\"/><path d=\"M306.375,61.8906 L306.375,54.0781 L308.8281,54.0781 L308.8281,62.5156 Q308.8281,63.4375 309.2969,63.9688 Q309.7813,64.5 310.6094,64.5 Q311.4531,64.5 311.9219,63.9688 Q312.3906,63.4375 312.3906,62.5156 L312.3906,54.0781 L314.8438,54.0781 L314.8438,61.8906 Q314.8438,64.4219 313.8438,65.5625 Q312.8438,66.7031 310.6094,66.7031 Q308.3906,66.7031 307.375,65.5625 Q306.375,64.4219 306.375,61.8906 Z \"/><text fill=\"#000000\" font-family=\"sans-serif\" font-size=\"12\" font-style=\"italic\" lengthAdjust=\"spacingAndGlyphs\" textLength=\"69\" x=\"322.5\" y=\"57.1387\">«attribute»</text><text fill=\"#000000\" font-family=\"sans-serif\" font-size=\"12\" lengthAdjust=\"spacingAndGlyphs\" textLength=\"8\" x=\"353\" y=\"71.1074\">g</text><line style=\"stroke: #A80036; stroke-width: 1.5;\" x1=\"296.5\" x2=\"391.5\" y1=\"78.9375\" y2=\"78.9375\"/></a><!--MD5=[2156ba9850f5573cc1fc38a6a4b2f02b]\n",
       "class E7--><a href=\"psysml:37f56aff-8c9f-4a8e-95e0-50132129fb99\" target=\"_top\" title=\"psysml:37f56aff-8c9f-4a8e-95e0-50132129fb99\" xlink:actuate=\"onRequest\" xlink:href=\"psysml:37f56aff-8c9f-4a8e-95e0-50132129fb99\" xlink:show=\"new\" xlink:title=\"psysml:37f56aff-8c9f-4a8e-95e0-50132129fb99\" xlink:type=\"simple\"><rect fill=\"#FEFECE\" filter=\"url(#f1khj77lo9frwv)\" height=\"45.9375\" id=\"E7\" rx=\"10\" ry=\"10\" style=\"stroke: #A80036; stroke-width: 1.5;\" width=\"97\" x=\"163.5\" y=\"41\"/><ellipse cx=\"178.5\" cy=\"59.9688\" fill=\"#FFA500\" rx=\"11\" ry=\"11\" style=\"stroke: #A80036; stroke-width: 1.0;\"/><path d=\"M174.375,61.8906 L174.375,54.0781 L176.8281,54.0781 L176.8281,62.5156 Q176.8281,63.4375 177.2969,63.9688 Q177.7813,64.5 178.6094,64.5 Q179.4531,64.5 179.9219,63.9688 Q180.3906,63.4375 180.3906,62.5156 L180.3906,54.0781 L182.8438,54.0781 L182.8438,61.8906 Q182.8438,64.4219 181.8438,65.5625 Q180.8438,66.7031 178.6094,66.7031 Q176.3906,66.7031 175.375,65.5625 Q174.375,64.4219 174.375,61.8906 Z \"/><text fill=\"#000000\" font-family=\"sans-serif\" font-size=\"12\" font-style=\"italic\" lengthAdjust=\"spacingAndGlyphs\" textLength=\"69\" x=\"190.5\" y=\"57.1387\">«attribute»</text><text fill=\"#000000\" font-family=\"sans-serif\" font-size=\"12\" lengthAdjust=\"spacingAndGlyphs\" textLength=\"8\" x=\"221\" y=\"71.1074\">b</text><line style=\"stroke: #A80036; stroke-width: 1.5;\" x1=\"164.5\" x2=\"259.5\" y1=\"78.9375\" y2=\"78.9375\"/></a><!--MD5=[b9389687b975829384b498ac4b7476b2]\n",
       "class E8--><a href=\"psysml:6095b787-d7f9-43be-8b1b-f534282edd43\" target=\"_top\" title=\"psysml:6095b787-d7f9-43be-8b1b-f534282edd43\" xlink:actuate=\"onRequest\" xlink:href=\"psysml:6095b787-d7f9-43be-8b1b-f534282edd43\" xlink:show=\"new\" xlink:title=\"psysml:6095b787-d7f9-43be-8b1b-f534282edd43\" xlink:type=\"simple\"><rect fill=\"#FEFECE\" filter=\"url(#f1khj77lo9frwv)\" height=\"45.9375\" id=\"E8\" rx=\"10\" ry=\"10\" style=\"stroke: #A80036; stroke-width: 1.5;\" width=\"97\" x=\"31.5\" y=\"41\"/><ellipse cx=\"46.5\" cy=\"59.9688\" fill=\"#FFA500\" rx=\"11\" ry=\"11\" style=\"stroke: #A80036; stroke-width: 1.0;\"/><path d=\"M42.375,61.8906 L42.375,54.0781 L44.8281,54.0781 L44.8281,62.5156 Q44.8281,63.4375 45.2969,63.9688 Q45.7813,64.5 46.6094,64.5 Q47.4531,64.5 47.9219,63.9688 Q48.3906,63.4375 48.3906,62.5156 L48.3906,54.0781 L50.8438,54.0781 L50.8438,61.8906 Q50.8438,64.4219 49.8438,65.5625 Q48.8438,66.7031 46.6094,66.7031 Q44.3906,66.7031 43.375,65.5625 Q42.375,64.4219 42.375,61.8906 Z \"/><text fill=\"#000000\" font-family=\"sans-serif\" font-size=\"12\" font-style=\"italic\" lengthAdjust=\"spacingAndGlyphs\" textLength=\"69\" x=\"58.5\" y=\"57.1387\">«attribute»</text><text fill=\"#000000\" font-family=\"sans-serif\" font-size=\"12\" lengthAdjust=\"spacingAndGlyphs\" textLength=\"7\" x=\"89.5\" y=\"71.1074\">c</text><line style=\"stroke: #A80036; stroke-width: 1.5;\" x1=\"32.5\" x2=\"127.5\" y1=\"78.9375\" y2=\"78.9375\"/></a><!--MD5=[05d275557350bfb9b23a4ef7222b4c39]\n",
       "link E3 to E2--><a href=\"psysml:982c8c0e-9af2-4f93-8067-230d5c39d8a2\" target=\"_top\" title=\"psysml:982c8c0e-9af2-4f93-8067-230d5c39d8a2\" xlink:actuate=\"onRequest\" xlink:href=\"psysml:982c8c0e-9af2-4f93-8067-230d5c39d8a2\" xlink:show=\"new\" xlink:title=\"psysml:982c8c0e-9af2-4f93-8067-230d5c39d8a2\" xlink:type=\"simple\"><path d=\"M765.62,87.13 C756.62,103.2 744.05,125.65 732.54,146.23 \" fill=\"none\" id=\"E3-&gt;E2\" style=\"stroke: #A80036; stroke-width: 1.0;\"/><polygon fill=\"#FFFFFF\" points=\"722.6,163.99,725.7664,143.9907,737.9848,150.8253,722.6,163.99\" style=\"stroke: #A80036; stroke-width: 1.0;\"/><ellipse cx=\"730.2946\" cy=\"139.9924\" fill=\"#A80036\" rx=\"2\" ry=\"2\" style=\"stroke: #A80036; stroke-width: 1.0;\"/><ellipse cx=\"739.022\" cy=\"144.8743\" fill=\"#A80036\" rx=\"2\" ry=\"2\" style=\"stroke: #A80036; stroke-width: 1.0;\"/></a><!--MD5=[ddeed8deb2209213b62e6cfabaa108b2]\n",
       "reverse link E4 to E2--><a href=\"psysml:16d77514-2de6-4c2c-add7-8b8555ca417f\" target=\"_top\" title=\"psysml:16d77514-2de6-4c2c-add7-8b8555ca417f\" xlink:actuate=\"onRequest\" xlink:href=\"psysml:16d77514-2de6-4c2c-add7-8b8555ca417f\" xlink:show=\"new\" xlink:title=\"psysml:16d77514-2de6-4c2c-add7-8b8555ca417f\" xlink:type=\"simple\"><path d=\"M645.99,98.48 C657.31,118.44 671.67,143.76 683.14,163.99 \" fill=\"none\" id=\"E4&lt;-E2\" style=\"stroke: #A80036; stroke-width: 1.0;\"/><polygon fill=\"#FFFFFF\" points=\"639.55,87.13,639.0333,94.3226,645.4738,97.5659,645.9905,90.3734,639.55,87.13\" style=\"stroke: #A80036; stroke-width: 1.0;\"/><text fill=\"#000000\" font-family=\"sans-serif\" font-size=\"13\" lengthAdjust=\"spacingAndGlyphs\" textLength=\"8\" x=\"666\" y=\"130.0669\">p</text></a><!--MD5=[3b1d45b178f77657d8b7f1277be74a25]\n",
       "@startuml\r\n",
       " \r\n",
       "package \"ParameterTest\" as E1  [[psysml:0dacd990-2b3a-4306-80d2-1e4fad6d04cd ]]  {\r\n",
       "comp def \"A\" as E2  <<(D,brown)attribute def>> [[psysml:03a6349f-297b-4a78-b9ab-052989f96479 ]] {\r\n",
       "x: String\r\n",
       "y: A\r\n",
       "}\r\n",
       "comp usage \"a: A\" as E3  <<(U,orange)attribute>> [[psysml:d7af749e-ffc6-4773-972a-b8dfcfe9deb8 ]] {\r\n",
       "}\r\n",
       "comp def \"F\" as E4  <<(D,brown)calculation def>> [[psysml:cd1262f4-d3f9-4f52-89ee-1653680ad782 ]] {\r\n",
       "}\r\n",
       "comp usage \"f\" as E5  <<(U,orange)attribute>> [[psysml:e43abf7c-a809-48bd-8c78-cd0a53fbbdb6 ]] {\r\n",
       "}\r\n",
       "comp usage \"g\" as E6  <<(U,orange)attribute>> [[psysml:04ff0b02-14ab-40e8-a866-ef9bcfd05ef7 ]] {\r\n",
       "}\r\n",
       "comp usage \"b\" as E7  <<(U,orange)attribute>> [[psysml:37f56aff-8c9f-4a8e-95e0-50132129fb99 ]] {\r\n",
       "}\r\n",
       "comp usage \"c\" as E8  <<(U,orange)attribute>> [[psysml:6095b787-d7f9-43be-8b1b-f534282edd43 ]] {\r\n",
       "}\r\n",
       "E3 - -:|> E2 [[psysml:982c8c0e-9af2-4f93-8067-230d5c39d8a2 ]] \r\n",
       "E4 o- - E2 [[psysml:16d77514-2de6-4c2c-add7-8b8555ca417f ]] : p\r\n",
       "}\r\n",
       "@enduml\r\n",
       "\n",
       "PlantUML version 1.2020.13(Sat Jun 13 12:26:38 UTC 2020)\n",
       "(EPL source distribution)\n",
       "Java Runtime: OpenJDK Runtime Environment\n",
       "JVM: OpenJDK 64-Bit Server VM\n",
       "Default Encoding: UTF-8\n",
       "Language: en\n",
       "Country: null\n",
       "--></g></svg>"
      ]
     },
     "execution_count": 31,
     "metadata": {},
     "output_type": "execute_result"
    }
   ],
   "source": [
    "%viz --style=\"PLANTUML\" --view=\"Tree\" \"ParameterTest\""
   ]
  },
  {
   "cell_type": "code",
   "execution_count": 32,
   "id": "compliant-pearl",
   "metadata": {
    "execution": {
     "iopub.execute_input": "2021-03-24T16:28:55.064251Z",
     "iopub.status.busy": "2021-03-24T16:28:55.063518Z",
     "iopub.status.idle": "2021-03-24T16:28:55.140873Z",
     "shell.execute_reply": "2021-03-24T16:28:55.139240Z"
    }
   },
   "outputs": [
    {
     "data": {
      "image/svg+xml": [
       "<?xml version=\"1.0\" encoding=\"UTF-8\" standalone=\"no\"?><svg xmlns=\"http://www.w3.org/2000/svg\" xmlns:xlink=\"http://www.w3.org/1999/xlink\" contentScriptType=\"application/ecmascript\" contentStyleType=\"text/css\" height=\"303px\" preserveAspectRatio=\"none\" style=\"width:603px;height:303px;background:#000000;\" version=\"1.1\" viewBox=\"0 0 603 303\" width=\"603px\" zoomAndPan=\"magnify\"><defs/><g><rect fill=\"#0C0B13\" height=\"1\" style=\"stroke: #0C0B13; stroke-width: 1.0;\" width=\"1\" x=\"0\" y=\"0\"/><rect fill=\"#FFFFFF\" height=\"205.5625\" style=\"stroke: #FFFFFF; stroke-width: 1.0;\" width=\"602\" x=\"0\" y=\"0\"/><text fill=\"#000000\" font-family=\"sans-serif\" font-size=\"12\" font-weight=\"bold\" lengthAdjust=\"spacingAndGlyphs\" textLength=\"159\" x=\"5\" y=\"16.1387\">Welcome to PlantUML!</text><text fill=\"#000000\" font-family=\"sans-serif\" font-size=\"12\" lengthAdjust=\"spacingAndGlyphs\" textLength=\"0\" x=\"9\" y=\"30.1074\"/><text fill=\"#000000\" font-family=\"sans-serif\" font-size=\"12\" lengthAdjust=\"spacingAndGlyphs\" textLength=\"293\" x=\"5\" y=\"44.0762\">If you use this software, you accept its license.</text><text fill=\"#000000\" font-family=\"sans-serif\" font-size=\"12\" lengthAdjust=\"spacingAndGlyphs\" textLength=\"107\" x=\"5\" y=\"58.0449\">(details by typing</text><text fill=\"#000000\" font-family=\"monospace\" font-size=\"12\" lengthAdjust=\"spacingAndGlyphs\" textLength=\"49\" x=\"116\" y=\"58.0449\">license</text><text fill=\"#000000\" font-family=\"sans-serif\" font-size=\"12\" lengthAdjust=\"spacingAndGlyphs\" textLength=\"56\" x=\"169\" y=\"58.0449\">keyword)</text><text fill=\"#000000\" font-family=\"sans-serif\" font-size=\"12\" lengthAdjust=\"spacingAndGlyphs\" textLength=\"0\" x=\"9\" y=\"72.0137\"/><text fill=\"#000000\" font-family=\"sans-serif\" font-size=\"12\" lengthAdjust=\"spacingAndGlyphs\" textLength=\"283\" x=\"5\" y=\"85.9824\">You can start with a simple UML Diagram like:</text><text fill=\"#000000\" font-family=\"sans-serif\" font-size=\"12\" lengthAdjust=\"spacingAndGlyphs\" textLength=\"0\" x=\"9\" y=\"99.9512\"/><text fill=\"#000000\" font-family=\"monospace\" font-size=\"12\" lengthAdjust=\"spacingAndGlyphs\" textLength=\"119\" x=\"5\" y=\"113.9199\">Bob-&gt;Alice: Hello</text><text fill=\"#000000\" font-family=\"sans-serif\" font-size=\"12\" lengthAdjust=\"spacingAndGlyphs\" textLength=\"0\" x=\"9\" y=\"127.8887\"/><text fill=\"#000000\" font-family=\"sans-serif\" font-size=\"12\" lengthAdjust=\"spacingAndGlyphs\" textLength=\"14\" x=\"5\" y=\"141.8574\">Or</text><text fill=\"#000000\" font-family=\"sans-serif\" font-size=\"12\" lengthAdjust=\"spacingAndGlyphs\" textLength=\"0\" x=\"9\" y=\"155.8262\"/><text fill=\"#000000\" font-family=\"monospace\" font-size=\"12\" lengthAdjust=\"spacingAndGlyphs\" textLength=\"91\" x=\"5\" y=\"169.7949\">class Example</text><text fill=\"#000000\" font-family=\"sans-serif\" font-size=\"12\" lengthAdjust=\"spacingAndGlyphs\" textLength=\"0\" x=\"9\" y=\"183.7637\"/><text fill=\"#000000\" font-family=\"sans-serif\" font-size=\"12\" lengthAdjust=\"spacingAndGlyphs\" textLength=\"349\" x=\"5\" y=\"197.7324\">You will find more information about PlantUML syntax on</text><text fill=\"#000000\" font-family=\"sans-serif\" font-size=\"12\" lengthAdjust=\"spacingAndGlyphs\" text-decoration=\"underline\" textLength=\"129\" x=\"358\" y=\"197.7324\">https://plantuml.com</text><image height=\"71\" width=\"80\" x=\"516\" xlink:href=\"data:image/png;base64,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\" y=\"6\"/><rect fill=\"#000000\" height=\"96.4844\" style=\"stroke: #000000; stroke-width: 1.0;\" width=\"602\" x=\"0\" y=\"205.5625\"/><rect fill=\"#33FF02\" height=\"21.2969\" style=\"stroke: #33FF02; stroke-width: 1.0;\" width=\"170\" x=\"5\" y=\"210.5625\"/><text fill=\"#000000\" font-family=\"sans-serif\" font-size=\"14\" font-weight=\"bold\" lengthAdjust=\"spacingAndGlyphs\" textLength=\"168\" x=\"6\" y=\"225.5625\">[From string (line 2) ]</text><text fill=\"#33FF02\" font-family=\"sans-serif\" font-size=\"14\" font-weight=\"bold\" lengthAdjust=\"spacingAndGlyphs\" textLength=\"0\" x=\"10\" y=\"245.8594\"/><text fill=\"#33FF02\" font-family=\"sans-serif\" font-size=\"14\" font-weight=\"bold\" lengthAdjust=\"spacingAndGlyphs\" textLength=\"79\" x=\"5\" y=\"262.1563\">@startuml</text><text fill=\"#33FF02\" font-family=\"sans-serif\" font-size=\"14\" font-weight=\"bold\" lengthAdjust=\"spacingAndGlyphs\" textLength=\"0\" x=\"10\" y=\"278.4531\"/><text fill=\"#FF0000\" font-family=\"sans-serif\" font-size=\"14\" font-weight=\"bold\" lengthAdjust=\"spacingAndGlyphs\" textLength=\"142\" x=\"10\" y=\"294.75\">Empty description</text><!--MD5=[f59edd8218d337f74d0c332fc6737304]\n",
       "@startuml\r\n",
       " \r\n",
       "@enduml\r\n",
       "\n",
       "PlantUML version 1.2020.13(Sat Jun 13 12:26:38 UTC 2020)\n",
       "(EPL source distribution)\n",
       "Java Runtime: OpenJDK Runtime Environment\n",
       "JVM: OpenJDK 64-Bit Server VM\n",
       "Default Encoding: UTF-8\n",
       "Language: en\n",
       "Country: null\n",
       "--></g></svg>"
      ]
     },
     "execution_count": 32,
     "metadata": {},
     "output_type": "execute_result"
    }
   ],
   "source": [
    "%viz --style=\"PLANTUML\" --view=\"State\" \"ParameterTest\""
   ]
  },
  {
   "cell_type": "code",
   "execution_count": 33,
   "id": "premier-consumer",
   "metadata": {
    "execution": {
     "iopub.execute_input": "2021-03-24T16:28:55.191616Z",
     "iopub.status.busy": "2021-03-24T16:28:55.191041Z",
     "iopub.status.idle": "2021-03-24T16:28:55.228541Z",
     "shell.execute_reply": "2021-03-24T16:28:55.227192Z"
    }
   },
   "outputs": [
    {
     "data": {
      "image/svg+xml": [
       "<?xml version=\"1.0\" encoding=\"UTF-8\" standalone=\"no\"?><svg xmlns=\"http://www.w3.org/2000/svg\" xmlns:xlink=\"http://www.w3.org/1999/xlink\" contentScriptType=\"application/ecmascript\" contentStyleType=\"text/css\" height=\"216px\" preserveAspectRatio=\"none\" style=\"width:868px;height:216px;\" version=\"1.1\" viewBox=\"0 0 868 216\" width=\"868px\" zoomAndPan=\"magnify\"><defs><filter height=\"300%\" id=\"f17b60wwsnypyx\" width=\"300%\" x=\"-1\" y=\"-1\"><feGaussianBlur result=\"blurOut\" stdDeviation=\"2.0\"/><feColorMatrix in=\"blurOut\" result=\"blurOut2\" type=\"matrix\" values=\"0 0 0 0 0 0 0 0 0 0 0 0 0 0 0 0 0 0 .4 0\"/><feOffset dx=\"4.0\" dy=\"4.0\" in=\"blurOut2\" result=\"blurOut3\"/><feBlend in=\"SourceGraphic\" in2=\"blurOut3\" mode=\"normal\"/></filter></defs><g><!--MD5=[fbc87193dbaf4d95561dea2c320d4a47]\n",
       "cluster E1--><a href=\"psysml:0dacd990-2b3a-4306-80d2-1e4fad6d04cd\" target=\"_top\" title=\"psysml:0dacd990-2b3a-4306-80d2-1e4fad6d04cd\" xlink:actuate=\"onRequest\" xlink:href=\"psysml:0dacd990-2b3a-4306-80d2-1e4fad6d04cd\" xlink:show=\"new\" xlink:title=\"psysml:0dacd990-2b3a-4306-80d2-1e4fad6d04cd\" xlink:type=\"simple\"><polygon fill=\"#FFFFFF\" filter=\"url(#f17b60wwsnypyx)\" points=\"16,6,139,6,146,28.2969,846,28.2969,846,204.72,16,204.72,16,6\" style=\"stroke: #000000; stroke-width: 1.5;\"/><line style=\"stroke: #000000; stroke-width: 1.5;\" x1=\"16\" x2=\"146\" y1=\"28.2969\" y2=\"28.2969\"/><text fill=\"#000000\" font-family=\"sans-serif\" font-size=\"14\" font-weight=\"bold\" lengthAdjust=\"spacingAndGlyphs\" textLength=\"117\" x=\"20\" y=\"20.9951\">ParameterTest</text></a><!--MD5=[f6df4d0ebaf0b5dfb2ced0ae5af7c670]\n",
       "cluster E4--><a href=\"psysml:cd1262f4-d3f9-4f52-89ee-1653680ad782\" target=\"_top\" title=\"psysml:cd1262f4-d3f9-4f52-89ee-1653680ad782\" xlink:actuate=\"onRequest\" xlink:href=\"psysml:cd1262f4-d3f9-4f52-89ee-1653680ad782\" xlink:show=\"new\" xlink:title=\"psysml:cd1262f4-d3f9-4f52-89ee-1653680ad782\" xlink:type=\"simple\"><rect fill=\"#FFFFFF\" filter=\"url(#f17b60wwsnypyx)\" height=\"110.72\" id=\"E4\" style=\"stroke: #A80036; stroke-width: 1.5;\" width=\"148\" x=\"682\" y=\"64\"/><rect fill=\"#FEFECE\" height=\"37.9375\" style=\"stroke: #A80036; stroke-width: 1.5;\" width=\"148\" x=\"682\" y=\"64\"/><text fill=\"#000000\" font-family=\"sans-serif\" font-size=\"12\" font-style=\"italic\" lengthAdjust=\"spacingAndGlyphs\" textLength=\"106\" x=\"703\" y=\"80.1387\">«calculation def»</text><text fill=\"#000000\" font-family=\"sans-serif\" font-size=\"12\" lengthAdjust=\"spacingAndGlyphs\" textLength=\"7\" x=\"752.5\" y=\"94.1074\">F</text></a><g id=\"E1.E2\"><a href=\"psysml:03a6349f-297b-4a78-b9ab-052989f96479\" target=\"_top\" title=\"psysml:03a6349f-297b-4a78-b9ab-052989f96479\" xlink:actuate=\"onRequest\" xlink:href=\"psysml:03a6349f-297b-4a78-b9ab-052989f96479\" xlink:show=\"new\" xlink:title=\"psysml:03a6349f-297b-4a78-b9ab-052989f96479\" xlink:type=\"simple\"><rect fill=\"#FEFECE\" filter=\"url(#f17b60wwsnypyx)\" height=\"42.9375\" id=\"E2\" style=\"stroke: #A80036; stroke-width: 1.5;\" width=\"126\" x=\"519\" y=\"99\"/><ellipse cx=\"536.25\" cy=\"117.9688\" fill=\"#A52A2A\" rx=\"11\" ry=\"11\" style=\"stroke: #A80036; stroke-width: 1.0;\"/><path d=\"M535.8438,113.7813 L535.8438,121.7656 L536.5,121.7656 Q537.9375,121.7656 538.5469,120.8594 Q539.1719,119.9375 539.1719,117.7656 Q539.1719,115.5938 538.5469,114.6875 Q537.9375,113.7813 536.5,113.7813 L535.8438,113.7813 Z M533.3906,111.5781 L536.0156,111.5781 Q539.0469,111.5781 540.375,113.0313 Q541.7188,114.4688 541.7188,117.7656 Q541.7188,121.0625 540.375,122.5156 Q539.0469,123.9688 536.0156,123.9688 L533.3906,123.9688 L533.3906,111.5781 Z \"/><text fill=\"#000000\" font-family=\"sans-serif\" font-size=\"12\" font-style=\"italic\" lengthAdjust=\"spacingAndGlyphs\" textLength=\"93\" x=\"548.75\" y=\"115.1387\">«attribute def»</text><text fill=\"#000000\" font-family=\"sans-serif\" font-size=\"12\" lengthAdjust=\"spacingAndGlyphs\" textLength=\"8\" x=\"591.25\" y=\"129.1074\">A</text></a></g><!--MD5=[09b614a08d8cba4a07c9adeb5e0fee81]\n",
       "class E3--><a href=\"psysml:d7af749e-ffc6-4773-972a-b8dfcfe9deb8\" target=\"_top\" title=\"psysml:d7af749e-ffc6-4773-972a-b8dfcfe9deb8\" xlink:actuate=\"onRequest\" xlink:href=\"psysml:d7af749e-ffc6-4773-972a-b8dfcfe9deb8\" xlink:show=\"new\" xlink:title=\"psysml:d7af749e-ffc6-4773-972a-b8dfcfe9deb8\" xlink:type=\"simple\"><rect fill=\"#FEFECE\" filter=\"url(#f17b60wwsnypyx)\" height=\"45.9375\" id=\"E3\" rx=\"10\" ry=\"10\" style=\"stroke: #A80036; stroke-width: 1.5;\" width=\"97\" x=\"559.5\" y=\"41\"/><ellipse cx=\"574.5\" cy=\"59.9688\" fill=\"#FFA500\" rx=\"11\" ry=\"11\" style=\"stroke: #A80036; stroke-width: 1.0;\"/><path d=\"M570.375,61.8906 L570.375,54.0781 L572.8281,54.0781 L572.8281,62.5156 Q572.8281,63.4375 573.2969,63.9688 Q573.7813,64.5 574.6094,64.5 Q575.4531,64.5 575.9219,63.9688 Q576.3906,63.4375 576.3906,62.5156 L576.3906,54.0781 L578.8438,54.0781 L578.8438,61.8906 Q578.8438,64.4219 577.8438,65.5625 Q576.8438,66.7031 574.6094,66.7031 Q572.3906,66.7031 571.375,65.5625 Q570.375,64.4219 570.375,61.8906 Z \"/><text fill=\"#000000\" font-family=\"sans-serif\" font-size=\"12\" font-style=\"italic\" lengthAdjust=\"spacingAndGlyphs\" textLength=\"69\" x=\"586.5\" y=\"57.1387\">«attribute»</text><text fill=\"#000000\" font-family=\"sans-serif\" font-size=\"12\" lengthAdjust=\"spacingAndGlyphs\" textLength=\"24\" x=\"609\" y=\"71.1074\">a: A</text><line style=\"stroke: #A80036; stroke-width: 1.5;\" x1=\"560.5\" x2=\"655.5\" y1=\"78.9375\" y2=\"78.9375\"/></a><!--MD5=[b9389687b975829384b498ac4b7476b2]\n",
       "class E8--><a href=\"psysml:e43abf7c-a809-48bd-8c78-cd0a53fbbdb6\" target=\"_top\" title=\"psysml:e43abf7c-a809-48bd-8c78-cd0a53fbbdb6\" xlink:actuate=\"onRequest\" xlink:href=\"psysml:e43abf7c-a809-48bd-8c78-cd0a53fbbdb6\" xlink:show=\"new\" xlink:title=\"psysml:e43abf7c-a809-48bd-8c78-cd0a53fbbdb6\" xlink:type=\"simple\"><rect fill=\"#FEFECE\" filter=\"url(#f17b60wwsnypyx)\" height=\"45.9375\" id=\"E8\" rx=\"10\" ry=\"10\" style=\"stroke: #A80036; stroke-width: 1.5;\" width=\"97\" x=\"427.5\" y=\"41\"/><ellipse cx=\"442.5\" cy=\"59.9688\" fill=\"#FFA500\" rx=\"11\" ry=\"11\" style=\"stroke: #A80036; stroke-width: 1.0;\"/><path d=\"M438.375,61.8906 L438.375,54.0781 L440.8281,54.0781 L440.8281,62.5156 Q440.8281,63.4375 441.2969,63.9688 Q441.7813,64.5 442.6094,64.5 Q443.4531,64.5 443.9219,63.9688 Q444.3906,63.4375 444.3906,62.5156 L444.3906,54.0781 L446.8438,54.0781 L446.8438,61.8906 Q446.8438,64.4219 445.8438,65.5625 Q444.8438,66.7031 442.6094,66.7031 Q440.3906,66.7031 439.375,65.5625 Q438.375,64.4219 438.375,61.8906 Z \"/><text fill=\"#000000\" font-family=\"sans-serif\" font-size=\"12\" font-style=\"italic\" lengthAdjust=\"spacingAndGlyphs\" textLength=\"69\" x=\"454.5\" y=\"57.1387\">«attribute»</text><text fill=\"#000000\" font-family=\"sans-serif\" font-size=\"12\" lengthAdjust=\"spacingAndGlyphs\" textLength=\"4\" x=\"487\" y=\"71.1074\">f</text><line style=\"stroke: #A80036; stroke-width: 1.5;\" x1=\"428.5\" x2=\"523.5\" y1=\"78.9375\" y2=\"78.9375\"/></a><!--MD5=[fd4143e9d270a159db93a4ea2a975926]\n",
       "class E9--><a href=\"psysml:04ff0b02-14ab-40e8-a866-ef9bcfd05ef7\" target=\"_top\" title=\"psysml:04ff0b02-14ab-40e8-a866-ef9bcfd05ef7\" xlink:actuate=\"onRequest\" xlink:href=\"psysml:04ff0b02-14ab-40e8-a866-ef9bcfd05ef7\" xlink:show=\"new\" xlink:title=\"psysml:04ff0b02-14ab-40e8-a866-ef9bcfd05ef7\" xlink:type=\"simple\"><rect fill=\"#FEFECE\" filter=\"url(#f17b60wwsnypyx)\" height=\"45.9375\" id=\"E9\" rx=\"10\" ry=\"10\" style=\"stroke: #A80036; stroke-width: 1.5;\" width=\"97\" x=\"295.5\" y=\"41\"/><ellipse cx=\"310.5\" cy=\"59.9688\" fill=\"#FFA500\" rx=\"11\" ry=\"11\" style=\"stroke: #A80036; stroke-width: 1.0;\"/><path d=\"M306.375,61.8906 L306.375,54.0781 L308.8281,54.0781 L308.8281,62.5156 Q308.8281,63.4375 309.2969,63.9688 Q309.7813,64.5 310.6094,64.5 Q311.4531,64.5 311.9219,63.9688 Q312.3906,63.4375 312.3906,62.5156 L312.3906,54.0781 L314.8438,54.0781 L314.8438,61.8906 Q314.8438,64.4219 313.8438,65.5625 Q312.8438,66.7031 310.6094,66.7031 Q308.3906,66.7031 307.375,65.5625 Q306.375,64.4219 306.375,61.8906 Z \"/><text fill=\"#000000\" font-family=\"sans-serif\" font-size=\"12\" font-style=\"italic\" lengthAdjust=\"spacingAndGlyphs\" textLength=\"69\" x=\"322.5\" y=\"57.1387\">«attribute»</text><text fill=\"#000000\" font-family=\"sans-serif\" font-size=\"12\" lengthAdjust=\"spacingAndGlyphs\" textLength=\"8\" x=\"353\" y=\"71.1074\">g</text><line style=\"stroke: #A80036; stroke-width: 1.5;\" x1=\"296.5\" x2=\"391.5\" y1=\"78.9375\" y2=\"78.9375\"/></a><!--MD5=[96f4274e9e20536e775497830990834d]\n",
       "class E10--><a href=\"psysml:37f56aff-8c9f-4a8e-95e0-50132129fb99\" target=\"_top\" title=\"psysml:37f56aff-8c9f-4a8e-95e0-50132129fb99\" xlink:actuate=\"onRequest\" xlink:href=\"psysml:37f56aff-8c9f-4a8e-95e0-50132129fb99\" xlink:show=\"new\" xlink:title=\"psysml:37f56aff-8c9f-4a8e-95e0-50132129fb99\" xlink:type=\"simple\"><rect fill=\"#FEFECE\" filter=\"url(#f17b60wwsnypyx)\" height=\"45.9375\" id=\"E10\" rx=\"10\" ry=\"10\" style=\"stroke: #A80036; stroke-width: 1.5;\" width=\"97\" x=\"163.5\" y=\"41\"/><ellipse cx=\"178.5\" cy=\"59.9688\" fill=\"#FFA500\" rx=\"11\" ry=\"11\" style=\"stroke: #A80036; stroke-width: 1.0;\"/><path d=\"M174.375,61.8906 L174.375,54.0781 L176.8281,54.0781 L176.8281,62.5156 Q176.8281,63.4375 177.2969,63.9688 Q177.7813,64.5 178.6094,64.5 Q179.4531,64.5 179.9219,63.9688 Q180.3906,63.4375 180.3906,62.5156 L180.3906,54.0781 L182.8438,54.0781 L182.8438,61.8906 Q182.8438,64.4219 181.8438,65.5625 Q180.8438,66.7031 178.6094,66.7031 Q176.3906,66.7031 175.375,65.5625 Q174.375,64.4219 174.375,61.8906 Z \"/><text fill=\"#000000\" font-family=\"sans-serif\" font-size=\"12\" font-style=\"italic\" lengthAdjust=\"spacingAndGlyphs\" textLength=\"69\" x=\"190.5\" y=\"57.1387\">«attribute»</text><text fill=\"#000000\" font-family=\"sans-serif\" font-size=\"12\" lengthAdjust=\"spacingAndGlyphs\" textLength=\"8\" x=\"221\" y=\"71.1074\">b</text><line style=\"stroke: #A80036; stroke-width: 1.5;\" x1=\"164.5\" x2=\"259.5\" y1=\"78.9375\" y2=\"78.9375\"/></a><!--MD5=[1dd1bfd58a279cf63c5f349dbc8fc6a1]\n",
       "class E11--><a href=\"psysml:6095b787-d7f9-43be-8b1b-f534282edd43\" target=\"_top\" title=\"psysml:6095b787-d7f9-43be-8b1b-f534282edd43\" xlink:actuate=\"onRequest\" xlink:href=\"psysml:6095b787-d7f9-43be-8b1b-f534282edd43\" xlink:show=\"new\" xlink:title=\"psysml:6095b787-d7f9-43be-8b1b-f534282edd43\" xlink:type=\"simple\"><rect fill=\"#FEFECE\" filter=\"url(#f17b60wwsnypyx)\" height=\"45.9375\" id=\"E11\" rx=\"10\" ry=\"10\" style=\"stroke: #A80036; stroke-width: 1.5;\" width=\"97\" x=\"31.5\" y=\"41\"/><ellipse cx=\"46.5\" cy=\"59.9688\" fill=\"#FFA500\" rx=\"11\" ry=\"11\" style=\"stroke: #A80036; stroke-width: 1.0;\"/><path d=\"M42.375,61.8906 L42.375,54.0781 L44.8281,54.0781 L44.8281,62.5156 Q44.8281,63.4375 45.2969,63.9688 Q45.7813,64.5 46.6094,64.5 Q47.4531,64.5 47.9219,63.9688 Q48.3906,63.4375 48.3906,62.5156 L48.3906,54.0781 L50.8438,54.0781 L50.8438,61.8906 Q50.8438,64.4219 49.8438,65.5625 Q48.8438,66.7031 46.6094,66.7031 Q44.3906,66.7031 43.375,65.5625 Q42.375,64.4219 42.375,61.8906 Z \"/><text fill=\"#000000\" font-family=\"sans-serif\" font-size=\"12\" font-style=\"italic\" lengthAdjust=\"spacingAndGlyphs\" textLength=\"69\" x=\"58.5\" y=\"57.1387\">«attribute»</text><text fill=\"#000000\" font-family=\"sans-serif\" font-size=\"12\" lengthAdjust=\"spacingAndGlyphs\" textLength=\"7\" x=\"89.5\" y=\"71.1074\">c</text><line style=\"stroke: #A80036; stroke-width: 1.5;\" x1=\"32.5\" x2=\"127.5\" y1=\"78.9375\" y2=\"78.9375\"/></a><text fill=\"#000000\" font-family=\"sans-serif\" font-size=\"14\" lengthAdjust=\"spacingAndGlyphs\" textLength=\"9\" x=\"695.5\" y=\"42.6982\">p</text><rect fill=\"#A80036\" height=\"12\" style=\"stroke: #FEFECE; stroke-width: 1.5;\" width=\"12\" x=\"694\" y=\"58\"/><text fill=\"#000000\" font-family=\"sans-serif\" font-size=\"14\" lengthAdjust=\"spacingAndGlyphs\" textLength=\"9\" x=\"742.5\" y=\"42.6982\">q</text><rect fill=\"#A80036\" height=\"12\" style=\"stroke: #FEFECE; stroke-width: 1.5;\" width=\"12\" x=\"741\" y=\"58\"/><text fill=\"#000000\" font-family=\"sans-serif\" font-size=\"14\" lengthAdjust=\"spacingAndGlyphs\" textLength=\"57\" x=\"718.5\" y=\"193.7151\">noname</text><rect fill=\"#A80036\" height=\"12\" style=\"stroke: #FEFECE; stroke-width: 1.5;\" width=\"12\" x=\"741\" y=\"168.72\"/><!--MD5=[05d275557350bfb9b23a4ef7222b4c39]\n",
       "link E3 to E2--><a href=\"psysml:982c8c0e-9af2-4f93-8067-230d5c39d8a2\" target=\"_top\" title=\"psysml:982c8c0e-9af2-4f93-8067-230d5c39d8a2\" xlink:actuate=\"onRequest\" xlink:href=\"psysml:982c8c0e-9af2-4f93-8067-230d5c39d8a2\" xlink:show=\"new\" xlink:title=\"psysml:982c8c0e-9af2-4f93-8067-230d5c39d8a2\" xlink:type=\"simple\"><path d=\"M597.42,87.17 C597.37,87.29 597.31,87.41 597.25,87.53 \" fill=\"none\" id=\"E3-&gt;E2\" style=\"stroke: #A80036; stroke-width: 1.0;\"/><polygon fill=\"#FFFFFF\" points=\"591.81,98.93,593.673,78.7674,606.3087,84.7954,591.81,98.93\" style=\"stroke: #A80036; stroke-width: 1.0;\"/><ellipse cx=\"597.9323\" cy=\"74.484\" fill=\"#A80036\" rx=\"2\" ry=\"2\" style=\"stroke: #A80036; stroke-width: 1.0;\"/><ellipse cx=\"606.9579\" cy=\"78.7897\" fill=\"#A80036\" rx=\"2\" ry=\"2\" style=\"stroke: #A80036; stroke-width: 1.0;\"/></a><!--MD5=[5ef23a9d829d51b637e39993f01448ba]\n",
       "@startuml\r\n",
       "skinparam ranksep 10\r\n",
       "skinparam rectangle {\r\n",
       " backgroundColor<<block>> LightGreen\r\n",
       "}\r\n",
       " \r\n",
       "package \"ParameterTest\" as E1  [[psysml:0dacd990-2b3a-4306-80d2-1e4fad6d04cd ]]  {\r\n",
       "def \"A\" as E2  <<(D,brown)attribute def>> [[psysml:03a6349f-297b-4a78-b9ab-052989f96479 ]] \r\n",
       "comp usage \"a: A\" as E3  <<(U,orange)attribute>> [[psysml:d7af749e-ffc6-4773-972a-b8dfcfe9deb8 ]] {\r\n",
       "}\r\n",
       "rec def \"F\" as E4  <<(D,brown)calculation def>> [[psysml:cd1262f4-d3f9-4f52-89ee-1653680ad782 ]] {\r\n",
       "portin \"p\" as E5  [[psysml:16d77514-2de6-4c2c-add7-8b8555ca417f ]] \r\n",
       "portin \"q\" as E6  [[psysml:85e14753-ca59-4cde-8265-18a8cb4b45d6 ]] \r\n",
       "portout \"noname\" as E7  [[psysml:99b94083-4aa7-41fb-8d8e-135498f03bbe ]] \r\n",
       "}\r\n",
       "\r\n",
       "comp usage \"f\" as E8  <<(U,orange)attribute>> [[psysml:e43abf7c-a809-48bd-8c78-cd0a53fbbdb6 ]] {\r\n",
       "}\r\n",
       "comp usage \"g\" as E9  <<(U,orange)attribute>> [[psysml:04ff0b02-14ab-40e8-a866-ef9bcfd05ef7 ]] {\r\n",
       "}\r\n",
       "comp usage \"b\" as E10  <<(U,orange)attribute>> [[psysml:37f56aff-8c9f-4a8e-95e0-50132129fb99 ]] {\r\n",
       "}\r\n",
       "comp usage \"c\" as E11  <<(U,orange)attribute>> [[psysml:6095b787-d7f9-43be-8b1b-f534282edd43 ]] {\r\n",
       "}\r\n",
       "E3 - -:|> E2 [[psysml:982c8c0e-9af2-4f93-8067-230d5c39d8a2 ]] \r\n",
       "}\r\n",
       "@enduml\r\n",
       "\n",
       "PlantUML version 1.2020.13(Sat Jun 13 12:26:38 UTC 2020)\n",
       "(EPL source distribution)\n",
       "Java Runtime: OpenJDK Runtime Environment\n",
       "JVM: OpenJDK 64-Bit Server VM\n",
       "Default Encoding: UTF-8\n",
       "Language: en\n",
       "Country: null\n",
       "--></g></svg>"
      ]
     },
     "execution_count": 33,
     "metadata": {},
     "output_type": "execute_result"
    }
   ],
   "source": [
    "%viz --style=\"PLANTUML\" --view=\"Interconnection\" \"ParameterTest\""
   ]
  },
  {
   "cell_type": "code",
   "execution_count": 34,
   "id": "floating-machine",
   "metadata": {
    "execution": {
     "iopub.execute_input": "2021-03-24T16:28:55.280622Z",
     "iopub.status.busy": "2021-03-24T16:28:55.280142Z",
     "iopub.status.idle": "2021-03-24T16:28:55.300822Z",
     "shell.execute_reply": "2021-03-24T16:28:55.301189Z"
    }
   },
   "outputs": [
    {
     "data": {
      "image/svg+xml": [
       "<?xml version=\"1.0\" encoding=\"UTF-8\" standalone=\"no\"?><svg xmlns=\"http://www.w3.org/2000/svg\" xmlns:xlink=\"http://www.w3.org/1999/xlink\" contentScriptType=\"application/ecmascript\" contentStyleType=\"text/css\" height=\"162px\" preserveAspectRatio=\"none\" style=\"width:174px;height:162px;\" version=\"1.1\" viewBox=\"0 0 174 162\" width=\"174px\" zoomAndPan=\"magnify\"><defs><filter height=\"300%\" id=\"f102s5ttabk4ee\" width=\"300%\" x=\"-1\" y=\"-1\"><feGaussianBlur result=\"blurOut\" stdDeviation=\"2.0\"/><feColorMatrix in=\"blurOut\" result=\"blurOut2\" type=\"matrix\" values=\"0 0 0 0 0 0 0 0 0 0 0 0 0 0 0 0 0 0 .4 0\"/><feOffset dx=\"4.0\" dy=\"4.0\" in=\"blurOut2\" result=\"blurOut3\"/><feBlend in=\"SourceGraphic\" in2=\"blurOut3\" mode=\"normal\"/></filter></defs><g><!--MD5=[fbc87193dbaf4d95561dea2c320d4a47]\n",
       "cluster E1--><a href=\"psysml:cd1262f4-d3f9-4f52-89ee-1653680ad782\" target=\"_top\" title=\"psysml:cd1262f4-d3f9-4f52-89ee-1653680ad782\" xlink:actuate=\"onRequest\" xlink:href=\"psysml:cd1262f4-d3f9-4f52-89ee-1653680ad782\" xlink:show=\"new\" xlink:title=\"psysml:cd1262f4-d3f9-4f52-89ee-1653680ad782\" xlink:type=\"simple\"><rect fill=\"#FFFFFF\" filter=\"url(#f102s5ttabk4ee)\" height=\"87.72\" id=\"E1\" style=\"stroke: #A80036; stroke-width: 1.5;\" width=\"148\" x=\"7\" y=\"42.0986\"/><rect fill=\"#FEFECE\" height=\"37.9375\" style=\"stroke: #A80036; stroke-width: 1.5;\" width=\"148\" x=\"7\" y=\"42.0986\"/><text fill=\"#000000\" font-family=\"sans-serif\" font-size=\"12\" font-style=\"italic\" lengthAdjust=\"spacingAndGlyphs\" textLength=\"106\" x=\"28\" y=\"58.2373\">«calculation def»</text><text fill=\"#000000\" font-family=\"sans-serif\" font-size=\"12\" lengthAdjust=\"spacingAndGlyphs\" textLength=\"7\" x=\"77.5\" y=\"72.2061\">F</text></a><text fill=\"#000000\" font-family=\"sans-serif\" font-size=\"14\" lengthAdjust=\"spacingAndGlyphs\" textLength=\"9\" x=\"20.5\" y=\"20.7969\">p</text><rect fill=\"#A80036\" height=\"12\" style=\"stroke: #FEFECE; stroke-width: 1.5;\" width=\"12\" x=\"19\" y=\"36.0986\"/><text fill=\"#000000\" font-family=\"sans-serif\" font-size=\"14\" lengthAdjust=\"spacingAndGlyphs\" textLength=\"9\" x=\"67.5\" y=\"20.7969\">q</text><rect fill=\"#A80036\" height=\"12\" style=\"stroke: #FEFECE; stroke-width: 1.5;\" width=\"12\" x=\"66\" y=\"36.0986\"/><text fill=\"#000000\" font-family=\"sans-serif\" font-size=\"14\" lengthAdjust=\"spacingAndGlyphs\" textLength=\"57\" x=\"43.5\" y=\"148.8138\">noname</text><rect fill=\"#A80036\" height=\"12\" style=\"stroke: #FEFECE; stroke-width: 1.5;\" width=\"12\" x=\"66\" y=\"123.8186\"/><!--MD5=[f1f69e3a47b7c885ed1d3197781db6a5]\n",
       "@startuml\r\n",
       "skinparam ranksep 8\r\n",
       " \r\n",
       "rec def \"F\" as E1  <<(D,brown)calculation def>> [[psysml:cd1262f4-d3f9-4f52-89ee-1653680ad782 ]] {\r\n",
       "portin \"p\" as E2  [[psysml:16d77514-2de6-4c2c-add7-8b8555ca417f ]] \r\n",
       "portin \"q\" as E3  [[psysml:85e14753-ca59-4cde-8265-18a8cb4b45d6 ]] \r\n",
       "portout \"noname\" as E4  [[psysml:99b94083-4aa7-41fb-8d8e-135498f03bbe ]] \r\n",
       "}\r\n",
       "\r\n",
       "@enduml\r\n",
       "\n",
       "PlantUML version 1.2020.13(Sat Jun 13 12:26:38 UTC 2020)\n",
       "(EPL source distribution)\n",
       "Java Runtime: OpenJDK Runtime Environment\n",
       "JVM: OpenJDK 64-Bit Server VM\n",
       "Default Encoding: UTF-8\n",
       "Language: en\n",
       "Country: null\n",
       "--></g></svg>"
      ]
     },
     "execution_count": 34,
     "metadata": {},
     "output_type": "execute_result"
    }
   ],
   "source": [
    "%viz --style=\"PLANTUML\" --view=\"Action\" \"ParameterTest\""
   ]
  },
  {
   "cell_type": "code",
   "execution_count": 35,
   "id": "residential-clearance",
   "metadata": {
    "execution": {
     "iopub.execute_input": "2021-03-24T16:28:55.353716Z",
     "iopub.status.busy": "2021-03-24T16:28:55.352968Z",
     "iopub.status.idle": "2021-03-24T16:28:55.392952Z",
     "shell.execute_reply": "2021-03-24T16:28:55.391407Z"
    }
   },
   "outputs": [
    {
     "data": {
      "image/svg+xml": [
       "<?xml version=\"1.0\" encoding=\"UTF-8\" standalone=\"no\"?><svg xmlns=\"http://www.w3.org/2000/svg\" xmlns:xlink=\"http://www.w3.org/1999/xlink\" contentScriptType=\"application/ecmascript\" contentStyleType=\"text/css\" height=\"264px\" preserveAspectRatio=\"none\" style=\"width:864px;height:264px;\" version=\"1.1\" viewBox=\"0 0 864 264\" width=\"864px\" zoomAndPan=\"magnify\"><defs><filter height=\"300%\" id=\"f1khj77lo9frwv\" width=\"300%\" x=\"-1\" y=\"-1\"><feGaussianBlur result=\"blurOut\" stdDeviation=\"2.0\"/><feColorMatrix in=\"blurOut\" result=\"blurOut2\" type=\"matrix\" values=\"0 0 0 0 0 0 0 0 0 0 0 0 0 0 0 0 0 0 .4 0\"/><feOffset dx=\"4.0\" dy=\"4.0\" in=\"blurOut2\" result=\"blurOut3\"/><feBlend in=\"SourceGraphic\" in2=\"blurOut3\" mode=\"normal\"/></filter></defs><g><!--MD5=[fbc87193dbaf4d95561dea2c320d4a47]\n",
       "cluster E1--><a href=\"psysml:0dacd990-2b3a-4306-80d2-1e4fad6d04cd\" target=\"_top\" title=\"psysml:0dacd990-2b3a-4306-80d2-1e4fad6d04cd\" xlink:actuate=\"onRequest\" xlink:href=\"psysml:0dacd990-2b3a-4306-80d2-1e4fad6d04cd\" xlink:show=\"new\" xlink:title=\"psysml:0dacd990-2b3a-4306-80d2-1e4fad6d04cd\" xlink:type=\"simple\"><polygon fill=\"#FFFFFF\" filter=\"url(#f1khj77lo9frwv)\" points=\"16,6,139,6,146,28.2969,842,28.2969,842,252,16,252,16,6\" style=\"stroke: #000000; stroke-width: 1.5;\"/><line style=\"stroke: #000000; stroke-width: 1.5;\" x1=\"16\" x2=\"146\" y1=\"28.2969\" y2=\"28.2969\"/><text fill=\"#000000\" font-family=\"sans-serif\" font-size=\"14\" font-weight=\"bold\" lengthAdjust=\"spacingAndGlyphs\" textLength=\"117\" x=\"20\" y=\"20.9951\">ParameterTest</text></a><!--MD5=[b4997ac47864f28c2f74865a473b2911]\n",
       "class E2--><a href=\"psysml:03a6349f-297b-4a78-b9ab-052989f96479\" target=\"_top\" title=\"psysml:03a6349f-297b-4a78-b9ab-052989f96479\" xlink:actuate=\"onRequest\" xlink:href=\"psysml:03a6349f-297b-4a78-b9ab-052989f96479\" xlink:show=\"new\" xlink:title=\"psysml:03a6349f-297b-4a78-b9ab-052989f96479\" xlink:type=\"simple\"><rect fill=\"#FEFECE\" filter=\"url(#f1khj77lo9frwv)\" height=\"71.5469\" id=\"E2\" style=\"stroke: #A80036; stroke-width: 1.5;\" width=\"121\" x=\"642.5\" y=\"164\"/><ellipse cx=\"657.5\" cy=\"182.9688\" fill=\"#A52A2A\" rx=\"11\" ry=\"11\" style=\"stroke: #A80036; stroke-width: 1.0;\"/><path d=\"M657.0938,178.7813 L657.0938,186.7656 L657.75,186.7656 Q659.1875,186.7656 659.7969,185.8594 Q660.4219,184.9375 660.4219,182.7656 Q660.4219,180.5938 659.7969,179.6875 Q659.1875,178.7813 657.75,178.7813 L657.0938,178.7813 Z M654.6406,176.5781 L657.2656,176.5781 Q660.2969,176.5781 661.625,178.0313 Q662.9688,179.4688 662.9688,182.7656 Q662.9688,186.0625 661.625,187.5156 Q660.2969,188.9688 657.2656,188.9688 L654.6406,188.9688 L654.6406,176.5781 Z \"/><text fill=\"#000000\" font-family=\"sans-serif\" font-size=\"12\" font-style=\"italic\" lengthAdjust=\"spacingAndGlyphs\" textLength=\"93\" x=\"669.5\" y=\"180.1387\">«attribute def»</text><text fill=\"#000000\" font-family=\"sans-serif\" font-size=\"12\" lengthAdjust=\"spacingAndGlyphs\" textLength=\"8\" x=\"712\" y=\"194.1074\">A</text><line style=\"stroke: #A80036; stroke-width: 1.5;\" x1=\"643.5\" x2=\"762.5\" y1=\"201.9375\" y2=\"201.9375\"/><text fill=\"#000000\" font-family=\"sans-serif\" font-size=\"11\" lengthAdjust=\"spacingAndGlyphs\" textLength=\"48\" x=\"648.5\" y=\"216.1479\">x: String</text><text fill=\"#000000\" font-family=\"sans-serif\" font-size=\"11\" lengthAdjust=\"spacingAndGlyphs\" textLength=\"21\" x=\"648.5\" y=\"228.9526\">y: A</text></a><!--MD5=[09b614a08d8cba4a07c9adeb5e0fee81]\n",
       "class E3--><a href=\"psysml:d7af749e-ffc6-4773-972a-b8dfcfe9deb8\" target=\"_top\" title=\"psysml:d7af749e-ffc6-4773-972a-b8dfcfe9deb8\" xlink:actuate=\"onRequest\" xlink:href=\"psysml:d7af749e-ffc6-4773-972a-b8dfcfe9deb8\" xlink:show=\"new\" xlink:title=\"psysml:d7af749e-ffc6-4773-972a-b8dfcfe9deb8\" xlink:type=\"simple\"><rect fill=\"#FEFECE\" filter=\"url(#f1khj77lo9frwv)\" height=\"45.9375\" id=\"E3\" rx=\"10\" ry=\"10\" style=\"stroke: #A80036; stroke-width: 1.5;\" width=\"97\" x=\"729.5\" y=\"41\"/><ellipse cx=\"744.5\" cy=\"59.9688\" fill=\"#FFA500\" rx=\"11\" ry=\"11\" style=\"stroke: #A80036; stroke-width: 1.0;\"/><path d=\"M740.375,61.8906 L740.375,54.0781 L742.8281,54.0781 L742.8281,62.5156 Q742.8281,63.4375 743.2969,63.9688 Q743.7813,64.5 744.6094,64.5 Q745.4531,64.5 745.9219,63.9688 Q746.3906,63.4375 746.3906,62.5156 L746.3906,54.0781 L748.8438,54.0781 L748.8438,61.8906 Q748.8438,64.4219 747.8438,65.5625 Q746.8438,66.7031 744.6094,66.7031 Q742.3906,66.7031 741.375,65.5625 Q740.375,64.4219 740.375,61.8906 Z \"/><text fill=\"#000000\" font-family=\"sans-serif\" font-size=\"12\" font-style=\"italic\" lengthAdjust=\"spacingAndGlyphs\" textLength=\"69\" x=\"756.5\" y=\"57.1387\">«attribute»</text><text fill=\"#000000\" font-family=\"sans-serif\" font-size=\"12\" lengthAdjust=\"spacingAndGlyphs\" textLength=\"24\" x=\"779\" y=\"71.1074\">a: A</text><line style=\"stroke: #A80036; stroke-width: 1.5;\" x1=\"730.5\" x2=\"825.5\" y1=\"78.9375\" y2=\"78.9375\"/></a><!--MD5=[ebbe1d658d1005bcc118a6aa81145e00]\n",
       "class E4--><a href=\"psysml:cd1262f4-d3f9-4f52-89ee-1653680ad782\" target=\"_top\" title=\"psysml:cd1262f4-d3f9-4f52-89ee-1653680ad782\" xlink:actuate=\"onRequest\" xlink:href=\"psysml:cd1262f4-d3f9-4f52-89ee-1653680ad782\" xlink:show=\"new\" xlink:title=\"psysml:cd1262f4-d3f9-4f52-89ee-1653680ad782\" xlink:type=\"simple\"><rect fill=\"#FEFECE\" filter=\"url(#f1khj77lo9frwv)\" height=\"45.9375\" id=\"E4\" style=\"stroke: #A80036; stroke-width: 1.5;\" width=\"134\" x=\"560\" y=\"41\"/><ellipse cx=\"575\" cy=\"59.9688\" fill=\"#A52A2A\" rx=\"11\" ry=\"11\" style=\"stroke: #A80036; stroke-width: 1.0;\"/><path d=\"M574.5938,55.7813 L574.5938,63.7656 L575.25,63.7656 Q576.6875,63.7656 577.2969,62.8594 Q577.9219,61.9375 577.9219,59.7656 Q577.9219,57.5938 577.2969,56.6875 Q576.6875,55.7813 575.25,55.7813 L574.5938,55.7813 Z M572.1406,53.5781 L574.7656,53.5781 Q577.7969,53.5781 579.125,55.0313 Q580.4688,56.4688 580.4688,59.7656 Q580.4688,63.0625 579.125,64.5156 Q577.7969,65.9688 574.7656,65.9688 L572.1406,65.9688 L572.1406,53.5781 Z \"/><text fill=\"#000000\" font-family=\"sans-serif\" font-size=\"12\" font-style=\"italic\" lengthAdjust=\"spacingAndGlyphs\" textLength=\"106\" x=\"587\" y=\"57.1387\">«calculation def»</text><text fill=\"#000000\" font-family=\"sans-serif\" font-size=\"12\" lengthAdjust=\"spacingAndGlyphs\" textLength=\"7\" x=\"636.5\" y=\"71.1074\">F</text><line style=\"stroke: #A80036; stroke-width: 1.5;\" x1=\"561\" x2=\"693\" y1=\"78.9375\" y2=\"78.9375\"/></a><!--MD5=[270fce915f116d4de14055a7c1d9a0f3]\n",
       "class E5--><a href=\"psysml:e43abf7c-a809-48bd-8c78-cd0a53fbbdb6\" target=\"_top\" title=\"psysml:e43abf7c-a809-48bd-8c78-cd0a53fbbdb6\" xlink:actuate=\"onRequest\" xlink:href=\"psysml:e43abf7c-a809-48bd-8c78-cd0a53fbbdb6\" xlink:show=\"new\" xlink:title=\"psysml:e43abf7c-a809-48bd-8c78-cd0a53fbbdb6\" xlink:type=\"simple\"><rect fill=\"#FEFECE\" filter=\"url(#f1khj77lo9frwv)\" height=\"45.9375\" id=\"E5\" rx=\"10\" ry=\"10\" style=\"stroke: #A80036; stroke-width: 1.5;\" width=\"97\" x=\"427.5\" y=\"41\"/><ellipse cx=\"442.5\" cy=\"59.9688\" fill=\"#FFA500\" rx=\"11\" ry=\"11\" style=\"stroke: #A80036; stroke-width: 1.0;\"/><path d=\"M438.375,61.8906 L438.375,54.0781 L440.8281,54.0781 L440.8281,62.5156 Q440.8281,63.4375 441.2969,63.9688 Q441.7813,64.5 442.6094,64.5 Q443.4531,64.5 443.9219,63.9688 Q444.3906,63.4375 444.3906,62.5156 L444.3906,54.0781 L446.8438,54.0781 L446.8438,61.8906 Q446.8438,64.4219 445.8438,65.5625 Q444.8438,66.7031 442.6094,66.7031 Q440.3906,66.7031 439.375,65.5625 Q438.375,64.4219 438.375,61.8906 Z \"/><text fill=\"#000000\" font-family=\"sans-serif\" font-size=\"12\" font-style=\"italic\" lengthAdjust=\"spacingAndGlyphs\" textLength=\"69\" x=\"454.5\" y=\"57.1387\">«attribute»</text><text fill=\"#000000\" font-family=\"sans-serif\" font-size=\"12\" lengthAdjust=\"spacingAndGlyphs\" textLength=\"4\" x=\"487\" y=\"71.1074\">f</text><line style=\"stroke: #A80036; stroke-width: 1.5;\" x1=\"428.5\" x2=\"523.5\" y1=\"78.9375\" y2=\"78.9375\"/></a><!--MD5=[60a26617385b1d2d0262a64233df1f8d]\n",
       "class E6--><a href=\"psysml:04ff0b02-14ab-40e8-a866-ef9bcfd05ef7\" target=\"_top\" title=\"psysml:04ff0b02-14ab-40e8-a866-ef9bcfd05ef7\" xlink:actuate=\"onRequest\" xlink:href=\"psysml:04ff0b02-14ab-40e8-a866-ef9bcfd05ef7\" xlink:show=\"new\" xlink:title=\"psysml:04ff0b02-14ab-40e8-a866-ef9bcfd05ef7\" xlink:type=\"simple\"><rect fill=\"#FEFECE\" filter=\"url(#f1khj77lo9frwv)\" height=\"45.9375\" id=\"E6\" rx=\"10\" ry=\"10\" style=\"stroke: #A80036; stroke-width: 1.5;\" width=\"97\" x=\"295.5\" y=\"41\"/><ellipse cx=\"310.5\" cy=\"59.9688\" fill=\"#FFA500\" rx=\"11\" ry=\"11\" style=\"stroke: #A80036; stroke-width: 1.0;\"/><path d=\"M306.375,61.8906 L306.375,54.0781 L308.8281,54.0781 L308.8281,62.5156 Q308.8281,63.4375 309.2969,63.9688 Q309.7813,64.5 310.6094,64.5 Q311.4531,64.5 311.9219,63.9688 Q312.3906,63.4375 312.3906,62.5156 L312.3906,54.0781 L314.8438,54.0781 L314.8438,61.8906 Q314.8438,64.4219 313.8438,65.5625 Q312.8438,66.7031 310.6094,66.7031 Q308.3906,66.7031 307.375,65.5625 Q306.375,64.4219 306.375,61.8906 Z \"/><text fill=\"#000000\" font-family=\"sans-serif\" font-size=\"12\" font-style=\"italic\" lengthAdjust=\"spacingAndGlyphs\" textLength=\"69\" x=\"322.5\" y=\"57.1387\">«attribute»</text><text fill=\"#000000\" font-family=\"sans-serif\" font-size=\"12\" lengthAdjust=\"spacingAndGlyphs\" textLength=\"8\" x=\"353\" y=\"71.1074\">g</text><line style=\"stroke: #A80036; stroke-width: 1.5;\" x1=\"296.5\" x2=\"391.5\" y1=\"78.9375\" y2=\"78.9375\"/></a><!--MD5=[2156ba9850f5573cc1fc38a6a4b2f02b]\n",
       "class E7--><a href=\"psysml:37f56aff-8c9f-4a8e-95e0-50132129fb99\" target=\"_top\" title=\"psysml:37f56aff-8c9f-4a8e-95e0-50132129fb99\" xlink:actuate=\"onRequest\" xlink:href=\"psysml:37f56aff-8c9f-4a8e-95e0-50132129fb99\" xlink:show=\"new\" xlink:title=\"psysml:37f56aff-8c9f-4a8e-95e0-50132129fb99\" xlink:type=\"simple\"><rect fill=\"#FEFECE\" filter=\"url(#f1khj77lo9frwv)\" height=\"45.9375\" id=\"E7\" rx=\"10\" ry=\"10\" style=\"stroke: #A80036; stroke-width: 1.5;\" width=\"97\" x=\"163.5\" y=\"41\"/><ellipse cx=\"178.5\" cy=\"59.9688\" fill=\"#FFA500\" rx=\"11\" ry=\"11\" style=\"stroke: #A80036; stroke-width: 1.0;\"/><path d=\"M174.375,61.8906 L174.375,54.0781 L176.8281,54.0781 L176.8281,62.5156 Q176.8281,63.4375 177.2969,63.9688 Q177.7813,64.5 178.6094,64.5 Q179.4531,64.5 179.9219,63.9688 Q180.3906,63.4375 180.3906,62.5156 L180.3906,54.0781 L182.8438,54.0781 L182.8438,61.8906 Q182.8438,64.4219 181.8438,65.5625 Q180.8438,66.7031 178.6094,66.7031 Q176.3906,66.7031 175.375,65.5625 Q174.375,64.4219 174.375,61.8906 Z \"/><text fill=\"#000000\" font-family=\"sans-serif\" font-size=\"12\" font-style=\"italic\" lengthAdjust=\"spacingAndGlyphs\" textLength=\"69\" x=\"190.5\" y=\"57.1387\">«attribute»</text><text fill=\"#000000\" font-family=\"sans-serif\" font-size=\"12\" lengthAdjust=\"spacingAndGlyphs\" textLength=\"8\" x=\"221\" y=\"71.1074\">b</text><line style=\"stroke: #A80036; stroke-width: 1.5;\" x1=\"164.5\" x2=\"259.5\" y1=\"78.9375\" y2=\"78.9375\"/></a><!--MD5=[b9389687b975829384b498ac4b7476b2]\n",
       "class E8--><a href=\"psysml:6095b787-d7f9-43be-8b1b-f534282edd43\" target=\"_top\" title=\"psysml:6095b787-d7f9-43be-8b1b-f534282edd43\" xlink:actuate=\"onRequest\" xlink:href=\"psysml:6095b787-d7f9-43be-8b1b-f534282edd43\" xlink:show=\"new\" xlink:title=\"psysml:6095b787-d7f9-43be-8b1b-f534282edd43\" xlink:type=\"simple\"><rect fill=\"#FEFECE\" filter=\"url(#f1khj77lo9frwv)\" height=\"45.9375\" id=\"E8\" rx=\"10\" ry=\"10\" style=\"stroke: #A80036; stroke-width: 1.5;\" width=\"97\" x=\"31.5\" y=\"41\"/><ellipse cx=\"46.5\" cy=\"59.9688\" fill=\"#FFA500\" rx=\"11\" ry=\"11\" style=\"stroke: #A80036; stroke-width: 1.0;\"/><path d=\"M42.375,61.8906 L42.375,54.0781 L44.8281,54.0781 L44.8281,62.5156 Q44.8281,63.4375 45.2969,63.9688 Q45.7813,64.5 46.6094,64.5 Q47.4531,64.5 47.9219,63.9688 Q48.3906,63.4375 48.3906,62.5156 L48.3906,54.0781 L50.8438,54.0781 L50.8438,61.8906 Q50.8438,64.4219 49.8438,65.5625 Q48.8438,66.7031 46.6094,66.7031 Q44.3906,66.7031 43.375,65.5625 Q42.375,64.4219 42.375,61.8906 Z \"/><text fill=\"#000000\" font-family=\"sans-serif\" font-size=\"12\" font-style=\"italic\" lengthAdjust=\"spacingAndGlyphs\" textLength=\"69\" x=\"58.5\" y=\"57.1387\">«attribute»</text><text fill=\"#000000\" font-family=\"sans-serif\" font-size=\"12\" lengthAdjust=\"spacingAndGlyphs\" textLength=\"7\" x=\"89.5\" y=\"71.1074\">c</text><line style=\"stroke: #A80036; stroke-width: 1.5;\" x1=\"32.5\" x2=\"127.5\" y1=\"78.9375\" y2=\"78.9375\"/></a><!--MD5=[05d275557350bfb9b23a4ef7222b4c39]\n",
       "link E3 to E2--><a href=\"psysml:982c8c0e-9af2-4f93-8067-230d5c39d8a2\" target=\"_top\" title=\"psysml:982c8c0e-9af2-4f93-8067-230d5c39d8a2\" xlink:actuate=\"onRequest\" xlink:href=\"psysml:982c8c0e-9af2-4f93-8067-230d5c39d8a2\" xlink:show=\"new\" xlink:title=\"psysml:982c8c0e-9af2-4f93-8067-230d5c39d8a2\" xlink:type=\"simple\"><path d=\"M765.62,87.13 C756.62,103.2 744.05,125.65 732.54,146.23 \" fill=\"none\" id=\"E3-&gt;E2\" style=\"stroke: #A80036; stroke-width: 1.0;\"/><polygon fill=\"#FFFFFF\" points=\"722.6,163.99,725.7664,143.9907,737.9848,150.8253,722.6,163.99\" style=\"stroke: #A80036; stroke-width: 1.0;\"/><ellipse cx=\"730.2946\" cy=\"139.9924\" fill=\"#A80036\" rx=\"2\" ry=\"2\" style=\"stroke: #A80036; stroke-width: 1.0;\"/><ellipse cx=\"739.022\" cy=\"144.8743\" fill=\"#A80036\" rx=\"2\" ry=\"2\" style=\"stroke: #A80036; stroke-width: 1.0;\"/></a><!--MD5=[ddeed8deb2209213b62e6cfabaa108b2]\n",
       "reverse link E4 to E2--><a href=\"psysml:16d77514-2de6-4c2c-add7-8b8555ca417f\" target=\"_top\" title=\"psysml:16d77514-2de6-4c2c-add7-8b8555ca417f\" xlink:actuate=\"onRequest\" xlink:href=\"psysml:16d77514-2de6-4c2c-add7-8b8555ca417f\" xlink:show=\"new\" xlink:title=\"psysml:16d77514-2de6-4c2c-add7-8b8555ca417f\" xlink:type=\"simple\"><path d=\"M645.99,98.48 C657.31,118.44 671.67,143.76 683.14,163.99 \" fill=\"none\" id=\"E4&lt;-E2\" style=\"stroke: #A80036; stroke-width: 1.0;\"/><polygon fill=\"#FFFFFF\" points=\"639.55,87.13,639.0333,94.3226,645.4738,97.5659,645.9905,90.3734,639.55,87.13\" style=\"stroke: #A80036; stroke-width: 1.0;\"/><text fill=\"#000000\" font-family=\"sans-serif\" font-size=\"13\" lengthAdjust=\"spacingAndGlyphs\" textLength=\"8\" x=\"666\" y=\"130.0669\">p</text></a><!--MD5=[3b1d45b178f77657d8b7f1277be74a25]\n",
       "@startuml\r\n",
       " \r\n",
       "package \"ParameterTest\" as E1  [[psysml:0dacd990-2b3a-4306-80d2-1e4fad6d04cd ]]  {\r\n",
       "comp def \"A\" as E2  <<(D,brown)attribute def>> [[psysml:03a6349f-297b-4a78-b9ab-052989f96479 ]] {\r\n",
       "x: String\r\n",
       "y: A\r\n",
       "}\r\n",
       "comp usage \"a: A\" as E3  <<(U,orange)attribute>> [[psysml:d7af749e-ffc6-4773-972a-b8dfcfe9deb8 ]] {\r\n",
       "}\r\n",
       "comp def \"F\" as E4  <<(D,brown)calculation def>> [[psysml:cd1262f4-d3f9-4f52-89ee-1653680ad782 ]] {\r\n",
       "}\r\n",
       "comp usage \"f\" as E5  <<(U,orange)attribute>> [[psysml:e43abf7c-a809-48bd-8c78-cd0a53fbbdb6 ]] {\r\n",
       "}\r\n",
       "comp usage \"g\" as E6  <<(U,orange)attribute>> [[psysml:04ff0b02-14ab-40e8-a866-ef9bcfd05ef7 ]] {\r\n",
       "}\r\n",
       "comp usage \"b\" as E7  <<(U,orange)attribute>> [[psysml:37f56aff-8c9f-4a8e-95e0-50132129fb99 ]] {\r\n",
       "}\r\n",
       "comp usage \"c\" as E8  <<(U,orange)attribute>> [[psysml:6095b787-d7f9-43be-8b1b-f534282edd43 ]] {\r\n",
       "}\r\n",
       "E3 - -:|> E2 [[psysml:982c8c0e-9af2-4f93-8067-230d5c39d8a2 ]] \r\n",
       "E4 o- - E2 [[psysml:16d77514-2de6-4c2c-add7-8b8555ca417f ]] : p\r\n",
       "}\r\n",
       "@enduml\r\n",
       "\n",
       "PlantUML version 1.2020.13(Sat Jun 13 12:26:38 UTC 2020)\n",
       "(EPL source distribution)\n",
       "Java Runtime: OpenJDK Runtime Environment\n",
       "JVM: OpenJDK 64-Bit Server VM\n",
       "Default Encoding: UTF-8\n",
       "Language: en\n",
       "Country: null\n",
       "--></g></svg>"
      ]
     },
     "execution_count": 35,
     "metadata": {},
     "output_type": "execute_result"
    }
   ],
   "source": [
    "%viz --style=\"PLANTUML\" --view=\"Sequence\" \"ParameterTest\""
   ]
  },
  {
   "cell_type": "code",
   "execution_count": 36,
   "id": "atomic-beatles",
   "metadata": {
    "execution": {
     "iopub.execute_input": "2021-03-24T16:28:55.443113Z",
     "iopub.status.busy": "2021-03-24T16:28:55.442629Z",
     "iopub.status.idle": "2021-03-24T16:28:55.484512Z",
     "shell.execute_reply": "2021-03-24T16:28:55.483081Z"
    }
   },
   "outputs": [
    {
     "data": {
      "image/svg+xml": [
       "<?xml version=\"1.0\" encoding=\"UTF-8\" standalone=\"no\"?><svg xmlns=\"http://www.w3.org/2000/svg\" xmlns:xlink=\"http://www.w3.org/1999/xlink\" contentScriptType=\"application/ecmascript\" contentStyleType=\"text/css\" height=\"387px\" preserveAspectRatio=\"none\" style=\"width:868px;height:387px;\" version=\"1.1\" viewBox=\"0 0 868 387\" width=\"868px\" zoomAndPan=\"magnify\"><defs><filter height=\"300%\" id=\"fxh1n9vq4v8sp\" width=\"300%\" x=\"-1\" y=\"-1\"><feGaussianBlur result=\"blurOut\" stdDeviation=\"2.0\"/><feColorMatrix in=\"blurOut\" result=\"blurOut2\" type=\"matrix\" values=\"0 0 0 0 0 0 0 0 0 0 0 0 0 0 0 0 0 0 .4 0\"/><feOffset dx=\"4.0\" dy=\"4.0\" in=\"blurOut2\" result=\"blurOut3\"/><feBlend in=\"SourceGraphic\" in2=\"blurOut3\" mode=\"normal\"/></filter></defs><g><!--MD5=[fbc87193dbaf4d95561dea2c320d4a47]\n",
       "cluster E1--><a href=\"psysml:0dacd990-2b3a-4306-80d2-1e4fad6d04cd\" target=\"_top\" title=\"psysml:0dacd990-2b3a-4306-80d2-1e4fad6d04cd\" xlink:actuate=\"onRequest\" xlink:href=\"psysml:0dacd990-2b3a-4306-80d2-1e4fad6d04cd\" xlink:show=\"new\" xlink:title=\"psysml:0dacd990-2b3a-4306-80d2-1e4fad6d04cd\" xlink:type=\"simple\"><polygon fill=\"#FFFFFF\" filter=\"url(#fxh1n9vq4v8sp)\" points=\"16,6,139,6,146,28.2969,846,28.2969,846,375.72,16,375.72,16,6\" style=\"stroke: #000000; stroke-width: 1.5;\"/><line style=\"stroke: #000000; stroke-width: 1.5;\" x1=\"16\" x2=\"146\" y1=\"28.2969\" y2=\"28.2969\"/><text fill=\"#000000\" font-family=\"sans-serif\" font-size=\"14\" font-weight=\"bold\" lengthAdjust=\"spacingAndGlyphs\" textLength=\"117\" x=\"20\" y=\"20.9951\">ParameterTest</text></a><!--MD5=[f6df4d0ebaf0b5dfb2ced0ae5af7c670]\n",
       "cluster E4--><a href=\"psysml:cd1262f4-d3f9-4f52-89ee-1653680ad782\" target=\"_top\" title=\"psysml:cd1262f4-d3f9-4f52-89ee-1653680ad782\" xlink:actuate=\"onRequest\" xlink:href=\"psysml:cd1262f4-d3f9-4f52-89ee-1653680ad782\" xlink:show=\"new\" xlink:title=\"psysml:cd1262f4-d3f9-4f52-89ee-1653680ad782\" xlink:type=\"simple\"><rect fill=\"#FFFFFF\" filter=\"url(#fxh1n9vq4v8sp)\" height=\"281.72\" id=\"E4\" style=\"stroke: #A80036; stroke-width: 1.5;\" width=\"148\" x=\"682\" y=\"64\"/><rect fill=\"#FEFECE\" height=\"37.9375\" style=\"stroke: #A80036; stroke-width: 1.5;\" width=\"148\" x=\"682\" y=\"64\"/><text fill=\"#000000\" font-family=\"sans-serif\" font-size=\"12\" font-style=\"italic\" lengthAdjust=\"spacingAndGlyphs\" textLength=\"106\" x=\"703\" y=\"80.1387\">«calculation def»</text><text fill=\"#000000\" font-family=\"sans-serif\" font-size=\"12\" lengthAdjust=\"spacingAndGlyphs\" textLength=\"7\" x=\"752.5\" y=\"94.1074\">F</text></a><!--MD5=[b4997ac47864f28c2f74865a473b2911]\n",
       "class E2--><a href=\"psysml:03a6349f-297b-4a78-b9ab-052989f96479\" target=\"_top\" title=\"psysml:03a6349f-297b-4a78-b9ab-052989f96479\" xlink:actuate=\"onRequest\" xlink:href=\"psysml:03a6349f-297b-4a78-b9ab-052989f96479\" xlink:show=\"new\" xlink:title=\"psysml:03a6349f-297b-4a78-b9ab-052989f96479\" xlink:type=\"simple\"><rect fill=\"#FEFECE\" filter=\"url(#fxh1n9vq4v8sp)\" height=\"71.5469\" id=\"E2\" style=\"stroke: #A80036; stroke-width: 1.5;\" width=\"121\" x=\"524.5\" y=\"147\"/><ellipse cx=\"539.5\" cy=\"165.9688\" fill=\"#A52A2A\" rx=\"11\" ry=\"11\" style=\"stroke: #A80036; stroke-width: 1.0;\"/><path d=\"M539.0938,161.7813 L539.0938,169.7656 L539.75,169.7656 Q541.1875,169.7656 541.7969,168.8594 Q542.4219,167.9375 542.4219,165.7656 Q542.4219,163.5938 541.7969,162.6875 Q541.1875,161.7813 539.75,161.7813 L539.0938,161.7813 Z M536.6406,159.5781 L539.2656,159.5781 Q542.2969,159.5781 543.625,161.0313 Q544.9688,162.4688 544.9688,165.7656 Q544.9688,169.0625 543.625,170.5156 Q542.2969,171.9688 539.2656,171.9688 L536.6406,171.9688 L536.6406,159.5781 Z \"/><text fill=\"#000000\" font-family=\"sans-serif\" font-size=\"12\" font-style=\"italic\" lengthAdjust=\"spacingAndGlyphs\" textLength=\"93\" x=\"551.5\" y=\"163.1387\">«attribute def»</text><text fill=\"#000000\" font-family=\"sans-serif\" font-size=\"12\" lengthAdjust=\"spacingAndGlyphs\" textLength=\"8\" x=\"594\" y=\"177.1074\">A</text><line style=\"stroke: #A80036; stroke-width: 1.5;\" x1=\"525.5\" x2=\"644.5\" y1=\"184.9375\" y2=\"184.9375\"/><text fill=\"#000000\" font-family=\"sans-serif\" font-size=\"11\" lengthAdjust=\"spacingAndGlyphs\" textLength=\"48\" x=\"530.5\" y=\"199.1479\">x: String</text><text fill=\"#000000\" font-family=\"sans-serif\" font-size=\"11\" lengthAdjust=\"spacingAndGlyphs\" textLength=\"21\" x=\"530.5\" y=\"211.9526\">y: A</text></a><!--MD5=[09b614a08d8cba4a07c9adeb5e0fee81]\n",
       "class E3--><a href=\"psysml:d7af749e-ffc6-4773-972a-b8dfcfe9deb8\" target=\"_top\" title=\"psysml:d7af749e-ffc6-4773-972a-b8dfcfe9deb8\" xlink:actuate=\"onRequest\" xlink:href=\"psysml:d7af749e-ffc6-4773-972a-b8dfcfe9deb8\" xlink:show=\"new\" xlink:title=\"psysml:d7af749e-ffc6-4773-972a-b8dfcfe9deb8\" xlink:type=\"simple\"><rect fill=\"#FEFECE\" filter=\"url(#fxh1n9vq4v8sp)\" height=\"45.9375\" id=\"E3\" rx=\"10\" ry=\"10\" style=\"stroke: #A80036; stroke-width: 1.5;\" width=\"97\" x=\"559.5\" y=\"41\"/><ellipse cx=\"574.5\" cy=\"59.9688\" fill=\"#FFA500\" rx=\"11\" ry=\"11\" style=\"stroke: #A80036; stroke-width: 1.0;\"/><path d=\"M570.375,61.8906 L570.375,54.0781 L572.8281,54.0781 L572.8281,62.5156 Q572.8281,63.4375 573.2969,63.9688 Q573.7813,64.5 574.6094,64.5 Q575.4531,64.5 575.9219,63.9688 Q576.3906,63.4375 576.3906,62.5156 L576.3906,54.0781 L578.8438,54.0781 L578.8438,61.8906 Q578.8438,64.4219 577.8438,65.5625 Q576.8438,66.7031 574.6094,66.7031 Q572.3906,66.7031 571.375,65.5625 Q570.375,64.4219 570.375,61.8906 Z \"/><text fill=\"#000000\" font-family=\"sans-serif\" font-size=\"12\" font-style=\"italic\" lengthAdjust=\"spacingAndGlyphs\" textLength=\"69\" x=\"586.5\" y=\"57.1387\">«attribute»</text><text fill=\"#000000\" font-family=\"sans-serif\" font-size=\"12\" lengthAdjust=\"spacingAndGlyphs\" textLength=\"24\" x=\"609\" y=\"71.1074\">a: A</text><line style=\"stroke: #A80036; stroke-width: 1.5;\" x1=\"560.5\" x2=\"655.5\" y1=\"78.9375\" y2=\"78.9375\"/></a><!--MD5=[b9389687b975829384b498ac4b7476b2]\n",
       "class E8--><a href=\"psysml:e43abf7c-a809-48bd-8c78-cd0a53fbbdb6\" target=\"_top\" title=\"psysml:e43abf7c-a809-48bd-8c78-cd0a53fbbdb6\" xlink:actuate=\"onRequest\" xlink:href=\"psysml:e43abf7c-a809-48bd-8c78-cd0a53fbbdb6\" xlink:show=\"new\" xlink:title=\"psysml:e43abf7c-a809-48bd-8c78-cd0a53fbbdb6\" xlink:type=\"simple\"><rect fill=\"#FEFECE\" filter=\"url(#fxh1n9vq4v8sp)\" height=\"45.9375\" id=\"E8\" rx=\"10\" ry=\"10\" style=\"stroke: #A80036; stroke-width: 1.5;\" width=\"97\" x=\"427.5\" y=\"41\"/><ellipse cx=\"442.5\" cy=\"59.9688\" fill=\"#FFA500\" rx=\"11\" ry=\"11\" style=\"stroke: #A80036; stroke-width: 1.0;\"/><path d=\"M438.375,61.8906 L438.375,54.0781 L440.8281,54.0781 L440.8281,62.5156 Q440.8281,63.4375 441.2969,63.9688 Q441.7813,64.5 442.6094,64.5 Q443.4531,64.5 443.9219,63.9688 Q444.3906,63.4375 444.3906,62.5156 L444.3906,54.0781 L446.8438,54.0781 L446.8438,61.8906 Q446.8438,64.4219 445.8438,65.5625 Q444.8438,66.7031 442.6094,66.7031 Q440.3906,66.7031 439.375,65.5625 Q438.375,64.4219 438.375,61.8906 Z \"/><text fill=\"#000000\" font-family=\"sans-serif\" font-size=\"12\" font-style=\"italic\" lengthAdjust=\"spacingAndGlyphs\" textLength=\"69\" x=\"454.5\" y=\"57.1387\">«attribute»</text><text fill=\"#000000\" font-family=\"sans-serif\" font-size=\"12\" lengthAdjust=\"spacingAndGlyphs\" textLength=\"4\" x=\"487\" y=\"71.1074\">f</text><line style=\"stroke: #A80036; stroke-width: 1.5;\" x1=\"428.5\" x2=\"523.5\" y1=\"78.9375\" y2=\"78.9375\"/></a><!--MD5=[fd4143e9d270a159db93a4ea2a975926]\n",
       "class E9--><a href=\"psysml:04ff0b02-14ab-40e8-a866-ef9bcfd05ef7\" target=\"_top\" title=\"psysml:04ff0b02-14ab-40e8-a866-ef9bcfd05ef7\" xlink:actuate=\"onRequest\" xlink:href=\"psysml:04ff0b02-14ab-40e8-a866-ef9bcfd05ef7\" xlink:show=\"new\" xlink:title=\"psysml:04ff0b02-14ab-40e8-a866-ef9bcfd05ef7\" xlink:type=\"simple\"><rect fill=\"#FEFECE\" filter=\"url(#fxh1n9vq4v8sp)\" height=\"45.9375\" id=\"E9\" rx=\"10\" ry=\"10\" style=\"stroke: #A80036; stroke-width: 1.5;\" width=\"97\" x=\"295.5\" y=\"41\"/><ellipse cx=\"310.5\" cy=\"59.9688\" fill=\"#FFA500\" rx=\"11\" ry=\"11\" style=\"stroke: #A80036; stroke-width: 1.0;\"/><path d=\"M306.375,61.8906 L306.375,54.0781 L308.8281,54.0781 L308.8281,62.5156 Q308.8281,63.4375 309.2969,63.9688 Q309.7813,64.5 310.6094,64.5 Q311.4531,64.5 311.9219,63.9688 Q312.3906,63.4375 312.3906,62.5156 L312.3906,54.0781 L314.8438,54.0781 L314.8438,61.8906 Q314.8438,64.4219 313.8438,65.5625 Q312.8438,66.7031 310.6094,66.7031 Q308.3906,66.7031 307.375,65.5625 Q306.375,64.4219 306.375,61.8906 Z \"/><text fill=\"#000000\" font-family=\"sans-serif\" font-size=\"12\" font-style=\"italic\" lengthAdjust=\"spacingAndGlyphs\" textLength=\"69\" x=\"322.5\" y=\"57.1387\">«attribute»</text><text fill=\"#000000\" font-family=\"sans-serif\" font-size=\"12\" lengthAdjust=\"spacingAndGlyphs\" textLength=\"8\" x=\"353\" y=\"71.1074\">g</text><line style=\"stroke: #A80036; stroke-width: 1.5;\" x1=\"296.5\" x2=\"391.5\" y1=\"78.9375\" y2=\"78.9375\"/></a><!--MD5=[96f4274e9e20536e775497830990834d]\n",
       "class E10--><a href=\"psysml:37f56aff-8c9f-4a8e-95e0-50132129fb99\" target=\"_top\" title=\"psysml:37f56aff-8c9f-4a8e-95e0-50132129fb99\" xlink:actuate=\"onRequest\" xlink:href=\"psysml:37f56aff-8c9f-4a8e-95e0-50132129fb99\" xlink:show=\"new\" xlink:title=\"psysml:37f56aff-8c9f-4a8e-95e0-50132129fb99\" xlink:type=\"simple\"><rect fill=\"#FEFECE\" filter=\"url(#fxh1n9vq4v8sp)\" height=\"45.9375\" id=\"E10\" rx=\"10\" ry=\"10\" style=\"stroke: #A80036; stroke-width: 1.5;\" width=\"97\" x=\"163.5\" y=\"41\"/><ellipse cx=\"178.5\" cy=\"59.9688\" fill=\"#FFA500\" rx=\"11\" ry=\"11\" style=\"stroke: #A80036; stroke-width: 1.0;\"/><path d=\"M174.375,61.8906 L174.375,54.0781 L176.8281,54.0781 L176.8281,62.5156 Q176.8281,63.4375 177.2969,63.9688 Q177.7813,64.5 178.6094,64.5 Q179.4531,64.5 179.9219,63.9688 Q180.3906,63.4375 180.3906,62.5156 L180.3906,54.0781 L182.8438,54.0781 L182.8438,61.8906 Q182.8438,64.4219 181.8438,65.5625 Q180.8438,66.7031 178.6094,66.7031 Q176.3906,66.7031 175.375,65.5625 Q174.375,64.4219 174.375,61.8906 Z \"/><text fill=\"#000000\" font-family=\"sans-serif\" font-size=\"12\" font-style=\"italic\" lengthAdjust=\"spacingAndGlyphs\" textLength=\"69\" x=\"190.5\" y=\"57.1387\">«attribute»</text><text fill=\"#000000\" font-family=\"sans-serif\" font-size=\"12\" lengthAdjust=\"spacingAndGlyphs\" textLength=\"8\" x=\"221\" y=\"71.1074\">b</text><line style=\"stroke: #A80036; stroke-width: 1.5;\" x1=\"164.5\" x2=\"259.5\" y1=\"78.9375\" y2=\"78.9375\"/></a><!--MD5=[1dd1bfd58a279cf63c5f349dbc8fc6a1]\n",
       "class E11--><a href=\"psysml:6095b787-d7f9-43be-8b1b-f534282edd43\" target=\"_top\" title=\"psysml:6095b787-d7f9-43be-8b1b-f534282edd43\" xlink:actuate=\"onRequest\" xlink:href=\"psysml:6095b787-d7f9-43be-8b1b-f534282edd43\" xlink:show=\"new\" xlink:title=\"psysml:6095b787-d7f9-43be-8b1b-f534282edd43\" xlink:type=\"simple\"><rect fill=\"#FEFECE\" filter=\"url(#fxh1n9vq4v8sp)\" height=\"45.9375\" id=\"E11\" rx=\"10\" ry=\"10\" style=\"stroke: #A80036; stroke-width: 1.5;\" width=\"97\" x=\"31.5\" y=\"41\"/><ellipse cx=\"46.5\" cy=\"59.9688\" fill=\"#FFA500\" rx=\"11\" ry=\"11\" style=\"stroke: #A80036; stroke-width: 1.0;\"/><path d=\"M42.375,61.8906 L42.375,54.0781 L44.8281,54.0781 L44.8281,62.5156 Q44.8281,63.4375 45.2969,63.9688 Q45.7813,64.5 46.6094,64.5 Q47.4531,64.5 47.9219,63.9688 Q48.3906,63.4375 48.3906,62.5156 L48.3906,54.0781 L50.8438,54.0781 L50.8438,61.8906 Q50.8438,64.4219 49.8438,65.5625 Q48.8438,66.7031 46.6094,66.7031 Q44.3906,66.7031 43.375,65.5625 Q42.375,64.4219 42.375,61.8906 Z \"/><text fill=\"#000000\" font-family=\"sans-serif\" font-size=\"12\" font-style=\"italic\" lengthAdjust=\"spacingAndGlyphs\" textLength=\"69\" x=\"58.5\" y=\"57.1387\">«attribute»</text><text fill=\"#000000\" font-family=\"sans-serif\" font-size=\"12\" lengthAdjust=\"spacingAndGlyphs\" textLength=\"7\" x=\"89.5\" y=\"71.1074\">c</text><line style=\"stroke: #A80036; stroke-width: 1.5;\" x1=\"32.5\" x2=\"127.5\" y1=\"78.9375\" y2=\"78.9375\"/></a><text fill=\"#000000\" font-family=\"sans-serif\" font-size=\"14\" lengthAdjust=\"spacingAndGlyphs\" textLength=\"9\" x=\"695.5\" y=\"42.6982\">p</text><rect fill=\"#A80036\" height=\"12\" style=\"stroke: #FEFECE; stroke-width: 1.5;\" width=\"12\" x=\"694\" y=\"58\"/><text fill=\"#000000\" font-family=\"sans-serif\" font-size=\"14\" lengthAdjust=\"spacingAndGlyphs\" textLength=\"9\" x=\"742.5\" y=\"42.6982\">q</text><rect fill=\"#A80036\" height=\"12\" style=\"stroke: #FEFECE; stroke-width: 1.5;\" width=\"12\" x=\"741\" y=\"58\"/><text fill=\"#000000\" font-family=\"sans-serif\" font-size=\"14\" lengthAdjust=\"spacingAndGlyphs\" textLength=\"57\" x=\"718.5\" y=\"364.7151\">noname</text><rect fill=\"#A80036\" height=\"12\" style=\"stroke: #FEFECE; stroke-width: 1.5;\" width=\"12\" x=\"741\" y=\"339.72\"/><!--MD5=[05d275557350bfb9b23a4ef7222b4c39]\n",
       "link E3 to E2--><a href=\"psysml:982c8c0e-9af2-4f93-8067-230d5c39d8a2\" target=\"_top\" title=\"psysml:982c8c0e-9af2-4f93-8067-230d5c39d8a2\" xlink:actuate=\"onRequest\" xlink:href=\"psysml:982c8c0e-9af2-4f93-8067-230d5c39d8a2\" xlink:show=\"new\" xlink:title=\"psysml:982c8c0e-9af2-4f93-8067-230d5c39d8a2\" xlink:type=\"simple\"><path d=\"M603.67,87.01 C601.45,98.3 598.64,112.62 595.87,126.7 \" fill=\"none\" id=\"E3-&gt;E2\" style=\"stroke: #A80036; stroke-width: 1.0;\"/><polygon fill=\"#FFFFFF\" points=\"591.93,146.75,588.7277,126.7564,602.4646,129.4577,591.93,146.75\" style=\"stroke: #A80036; stroke-width: 1.0;\"/><ellipse cx=\"591.7899\" cy=\"121.5494\" fill=\"#A80036\" rx=\"2\" ry=\"2\" style=\"stroke: #A80036; stroke-width: 1.0;\"/><ellipse cx=\"601.602\" cy=\"123.4789\" fill=\"#A80036\" rx=\"2\" ry=\"2\" style=\"stroke: #A80036; stroke-width: 1.0;\"/></a><!--MD5=[b1da75552bb3e3bb2b1869ddacca64b3]\n",
       "@startuml\r\n",
       " \r\n",
       "package \"ParameterTest\" as E1  [[psysml:0dacd990-2b3a-4306-80d2-1e4fad6d04cd ]]  {\r\n",
       "comp def \"A\" as E2  <<(D,brown)attribute def>> [[psysml:03a6349f-297b-4a78-b9ab-052989f96479 ]] {\r\n",
       "x: String\r\n",
       "y: A\r\n",
       "}\r\n",
       "comp usage \"a: A\" as E3  <<(U,orange)attribute>> [[psysml:d7af749e-ffc6-4773-972a-b8dfcfe9deb8 ]] {\r\n",
       "}\r\n",
       "rec def \"F\" as E4  <<(D,brown)calculation def>> [[psysml:cd1262f4-d3f9-4f52-89ee-1653680ad782 ]] {\r\n",
       "portin \"p\" as E5  [[psysml:16d77514-2de6-4c2c-add7-8b8555ca417f ]] \r\n",
       "portin \"q\" as E6  [[psysml:85e14753-ca59-4cde-8265-18a8cb4b45d6 ]] \r\n",
       "portout \"noname\" as E7  [[psysml:99b94083-4aa7-41fb-8d8e-135498f03bbe ]] \r\n",
       "}\r\n",
       "\r\n",
       "comp usage \"f\" as E8  <<(U,orange)attribute>> [[psysml:e43abf7c-a809-48bd-8c78-cd0a53fbbdb6 ]] {\r\n",
       "}\r\n",
       "comp usage \"g\" as E9  <<(U,orange)attribute>> [[psysml:04ff0b02-14ab-40e8-a866-ef9bcfd05ef7 ]] {\r\n",
       "}\r\n",
       "comp usage \"b\" as E10  <<(U,orange)attribute>> [[psysml:37f56aff-8c9f-4a8e-95e0-50132129fb99 ]] {\r\n",
       "}\r\n",
       "comp usage \"c\" as E11  <<(U,orange)attribute>> [[psysml:6095b787-d7f9-43be-8b1b-f534282edd43 ]] {\r\n",
       "}\r\n",
       "E3 - -:|> E2 [[psysml:982c8c0e-9af2-4f93-8067-230d5c39d8a2 ]] \r\n",
       "}\r\n",
       "@enduml\r\n",
       "\n",
       "PlantUML version 1.2020.13(Sat Jun 13 12:26:38 UTC 2020)\n",
       "(EPL source distribution)\n",
       "Java Runtime: OpenJDK Runtime Environment\n",
       "JVM: OpenJDK 64-Bit Server VM\n",
       "Default Encoding: UTF-8\n",
       "Language: en\n",
       "Country: null\n",
       "--></g></svg>"
      ]
     },
     "execution_count": 36,
     "metadata": {},
     "output_type": "execute_result"
    }
   ],
   "source": [
    "%viz --style=\"PLANTUML\" --view=\"MIXED\" \"ParameterTest\""
   ]
  },
  {
   "cell_type": "code",
   "execution_count": 37,
   "id": "going-death",
   "metadata": {
    "execution": {
     "iopub.execute_input": "2021-03-24T16:28:55.536528Z",
     "iopub.status.busy": "2021-03-24T16:28:55.535763Z",
     "iopub.status.idle": "2021-03-24T16:28:55.583182Z",
     "shell.execute_reply": "2021-03-24T16:28:55.581893Z"
    }
   },
   "outputs": [
    {
     "data": {
      "image/svg+xml": [
       "<?xml version=\"1.0\" encoding=\"UTF-8\" standalone=\"no\"?><svg xmlns=\"http://www.w3.org/2000/svg\" xmlns:xlink=\"http://www.w3.org/1999/xlink\" contentScriptType=\"application/ecmascript\" contentStyleType=\"text/css\" height=\"403px\" preserveAspectRatio=\"none\" style=\"width:740px;height:403px;\" version=\"1.1\" viewBox=\"0 0 740 403\" width=\"740px\" zoomAndPan=\"magnify\"><defs/><g><!--MD5=[fbc87193dbaf4d95561dea2c320d4a47]\n",
       "cluster E1--><a href=\"psysml:0dacd990-2b3a-4306-80d2-1e4fad6d04cd\" target=\"_top\" title=\"psysml:0dacd990-2b3a-4306-80d2-1e4fad6d04cd\" xlink:actuate=\"onRequest\" xlink:href=\"psysml:0dacd990-2b3a-4306-80d2-1e4fad6d04cd\" xlink:show=\"new\" xlink:title=\"psysml:0dacd990-2b3a-4306-80d2-1e4fad6d04cd\" xlink:type=\"simple\"><polygon fill=\"#FFFFFF\" points=\"16,6,139,6,146,28.2969,718,28.2969,718,391.72,16,391.72,16,6\" style=\"stroke: #000000; stroke-width: 1.5;\"/><line style=\"stroke: #000000; stroke-width: 1.5;\" x1=\"16\" x2=\"146\" y1=\"28.2969\" y2=\"28.2969\"/><text fill=\"#000000\" font-family=\"sans-serif\" font-size=\"14\" font-weight=\"bold\" lengthAdjust=\"spacingAndGlyphs\" textLength=\"117\" x=\"20\" y=\"20.9951\">ParameterTest</text></a><!--MD5=[f6df4d0ebaf0b5dfb2ced0ae5af7c670]\n",
       "cluster E4--><a href=\"psysml:cd1262f4-d3f9-4f52-89ee-1653680ad782\" target=\"_top\" title=\"psysml:cd1262f4-d3f9-4f52-89ee-1653680ad782\" xlink:actuate=\"onRequest\" xlink:href=\"psysml:cd1262f4-d3f9-4f52-89ee-1653680ad782\" xlink:show=\"new\" xlink:title=\"psysml:cd1262f4-d3f9-4f52-89ee-1653680ad782\" xlink:type=\"simple\"><rect fill=\"#FFFFFF\" height=\"297.72\" id=\"E4\" style=\"stroke: #383838; stroke-width: 1.5;\" width=\"148\" x=\"554\" y=\"64\"/><rect fill=\"#F8F8F8\" height=\"37.9375\" style=\"stroke: #383838; stroke-width: 1.5;\" width=\"148\" x=\"554\" y=\"64\"/><text fill=\"#000000\" font-family=\"sans-serif\" font-size=\"12\" font-style=\"italic\" lengthAdjust=\"spacingAndGlyphs\" textLength=\"106\" x=\"575\" y=\"80.1387\">«calculation def»</text><text fill=\"#000000\" font-family=\"sans-serif\" font-size=\"12\" lengthAdjust=\"spacingAndGlyphs\" textLength=\"7\" x=\"624.5\" y=\"94.1074\">F</text></a><!--MD5=[b4997ac47864f28c2f74865a473b2911]\n",
       "class E2--><a href=\"psysml:03a6349f-297b-4a78-b9ab-052989f96479\" target=\"_top\" title=\"psysml:03a6349f-297b-4a78-b9ab-052989f96479\" xlink:actuate=\"onRequest\" xlink:href=\"psysml:03a6349f-297b-4a78-b9ab-052989f96479\" xlink:show=\"new\" xlink:title=\"psysml:03a6349f-297b-4a78-b9ab-052989f96479\" xlink:type=\"simple\"><rect fill=\"#FFFFFF\" height=\"88.3516\" id=\"E2\" style=\"stroke: #383838; stroke-width: 1.5;\" width=\"95\" x=\"422.5\" y=\"147\"/><text fill=\"#000000\" font-family=\"sans-serif\" font-size=\"12\" font-style=\"italic\" lengthAdjust=\"spacingAndGlyphs\" textLength=\"93\" x=\"423.5\" y=\"163.1387\">«attribute def»</text><text fill=\"#000000\" font-family=\"sans-serif\" font-size=\"12\" lengthAdjust=\"spacingAndGlyphs\" textLength=\"8\" x=\"466\" y=\"177.1074\">A</text><line style=\"stroke: #383838; stroke-width: 1.5;\" x1=\"423.5\" x2=\"516.5\" y1=\"184.9375\" y2=\"184.9375\"/><text fill=\"#000000\" font-family=\"sans-serif\" font-size=\"11\" lengthAdjust=\"spacingAndGlyphs\" textLength=\"48\" x=\"428.5\" y=\"215.9526\">x: String</text><text fill=\"#000000\" font-family=\"sans-serif\" font-size=\"11\" lengthAdjust=\"spacingAndGlyphs\" textLength=\"21\" x=\"428.5\" y=\"228.7573\">y: A</text><line style=\"stroke: #383838; stroke-width: 1.0;\" x1=\"423.5\" x2=\"442.5\" y1=\"199.3398\" y2=\"199.3398\"/><text fill=\"#000000\" font-family=\"sans-serif\" font-size=\"11\" lengthAdjust=\"spacingAndGlyphs\" textLength=\"55\" x=\"442.5\" y=\"202.6479\">attributes</text><line style=\"stroke: #383838; stroke-width: 1.0;\" x1=\"497.5\" x2=\"516.5\" y1=\"199.3398\" y2=\"199.3398\"/></a><!--MD5=[09b614a08d8cba4a07c9adeb5e0fee81]\n",
       "class E3--><a href=\"psysml:d7af749e-ffc6-4773-972a-b8dfcfe9deb8\" target=\"_top\" title=\"psysml:d7af749e-ffc6-4773-972a-b8dfcfe9deb8\" xlink:actuate=\"onRequest\" xlink:href=\"psysml:d7af749e-ffc6-4773-972a-b8dfcfe9deb8\" xlink:show=\"new\" xlink:title=\"psysml:d7af749e-ffc6-4773-972a-b8dfcfe9deb8\" xlink:type=\"simple\"><rect fill=\"#FFFFFF\" height=\"45.9375\" id=\"E3\" rx=\"10\" ry=\"10\" style=\"stroke: #383838; stroke-width: 1.5;\" width=\"71\" x=\"456.5\" y=\"41\"/><text fill=\"#000000\" font-family=\"sans-serif\" font-size=\"12\" font-style=\"italic\" lengthAdjust=\"spacingAndGlyphs\" textLength=\"69\" x=\"457.5\" y=\"57.1387\">«attribute»</text><text fill=\"#000000\" font-family=\"sans-serif\" font-size=\"12\" lengthAdjust=\"spacingAndGlyphs\" textLength=\"24\" x=\"480\" y=\"71.1074\">a: A</text><line style=\"stroke: #383838; stroke-width: 1.5;\" x1=\"457.5\" x2=\"526.5\" y1=\"78.9375\" y2=\"78.9375\"/></a><!--MD5=[b9389687b975829384b498ac4b7476b2]\n",
       "class E8--><a href=\"psysml:e43abf7c-a809-48bd-8c78-cd0a53fbbdb6\" target=\"_top\" title=\"psysml:e43abf7c-a809-48bd-8c78-cd0a53fbbdb6\" xlink:actuate=\"onRequest\" xlink:href=\"psysml:e43abf7c-a809-48bd-8c78-cd0a53fbbdb6\" xlink:show=\"new\" xlink:title=\"psysml:e43abf7c-a809-48bd-8c78-cd0a53fbbdb6\" xlink:type=\"simple\"><rect fill=\"#FFFFFF\" height=\"45.9375\" id=\"E8\" rx=\"10\" ry=\"10\" style=\"stroke: #383838; stroke-width: 1.5;\" width=\"71\" x=\"350.5\" y=\"41\"/><text fill=\"#000000\" font-family=\"sans-serif\" font-size=\"12\" font-style=\"italic\" lengthAdjust=\"spacingAndGlyphs\" textLength=\"69\" x=\"351.5\" y=\"57.1387\">«attribute»</text><text fill=\"#000000\" font-family=\"sans-serif\" font-size=\"12\" lengthAdjust=\"spacingAndGlyphs\" textLength=\"4\" x=\"384\" y=\"71.1074\">f</text><line style=\"stroke: #383838; stroke-width: 1.5;\" x1=\"351.5\" x2=\"420.5\" y1=\"78.9375\" y2=\"78.9375\"/></a><!--MD5=[fd4143e9d270a159db93a4ea2a975926]\n",
       "class E9--><a href=\"psysml:04ff0b02-14ab-40e8-a866-ef9bcfd05ef7\" target=\"_top\" title=\"psysml:04ff0b02-14ab-40e8-a866-ef9bcfd05ef7\" xlink:actuate=\"onRequest\" xlink:href=\"psysml:04ff0b02-14ab-40e8-a866-ef9bcfd05ef7\" xlink:show=\"new\" xlink:title=\"psysml:04ff0b02-14ab-40e8-a866-ef9bcfd05ef7\" xlink:type=\"simple\"><rect fill=\"#FFFFFF\" height=\"45.9375\" id=\"E9\" rx=\"10\" ry=\"10\" style=\"stroke: #383838; stroke-width: 1.5;\" width=\"71\" x=\"244.5\" y=\"41\"/><text fill=\"#000000\" font-family=\"sans-serif\" font-size=\"12\" font-style=\"italic\" lengthAdjust=\"spacingAndGlyphs\" textLength=\"69\" x=\"245.5\" y=\"57.1387\">«attribute»</text><text fill=\"#000000\" font-family=\"sans-serif\" font-size=\"12\" lengthAdjust=\"spacingAndGlyphs\" textLength=\"8\" x=\"276\" y=\"71.1074\">g</text><line style=\"stroke: #383838; stroke-width: 1.5;\" x1=\"245.5\" x2=\"314.5\" y1=\"78.9375\" y2=\"78.9375\"/></a><!--MD5=[96f4274e9e20536e775497830990834d]\n",
       "class E10--><a href=\"psysml:37f56aff-8c9f-4a8e-95e0-50132129fb99\" target=\"_top\" title=\"psysml:37f56aff-8c9f-4a8e-95e0-50132129fb99\" xlink:actuate=\"onRequest\" xlink:href=\"psysml:37f56aff-8c9f-4a8e-95e0-50132129fb99\" xlink:show=\"new\" xlink:title=\"psysml:37f56aff-8c9f-4a8e-95e0-50132129fb99\" xlink:type=\"simple\"><rect fill=\"#FFFFFF\" height=\"45.9375\" id=\"E10\" rx=\"10\" ry=\"10\" style=\"stroke: #383838; stroke-width: 1.5;\" width=\"71\" x=\"138.5\" y=\"41\"/><text fill=\"#000000\" font-family=\"sans-serif\" font-size=\"12\" font-style=\"italic\" lengthAdjust=\"spacingAndGlyphs\" textLength=\"69\" x=\"139.5\" y=\"57.1387\">«attribute»</text><text fill=\"#000000\" font-family=\"sans-serif\" font-size=\"12\" lengthAdjust=\"spacingAndGlyphs\" textLength=\"8\" x=\"170\" y=\"71.1074\">b</text><line style=\"stroke: #383838; stroke-width: 1.5;\" x1=\"139.5\" x2=\"208.5\" y1=\"78.9375\" y2=\"78.9375\"/></a><!--MD5=[1dd1bfd58a279cf63c5f349dbc8fc6a1]\n",
       "class E11--><a href=\"psysml:6095b787-d7f9-43be-8b1b-f534282edd43\" target=\"_top\" title=\"psysml:6095b787-d7f9-43be-8b1b-f534282edd43\" xlink:actuate=\"onRequest\" xlink:href=\"psysml:6095b787-d7f9-43be-8b1b-f534282edd43\" xlink:show=\"new\" xlink:title=\"psysml:6095b787-d7f9-43be-8b1b-f534282edd43\" xlink:type=\"simple\"><rect fill=\"#FFFFFF\" height=\"45.9375\" id=\"E11\" rx=\"10\" ry=\"10\" style=\"stroke: #383838; stroke-width: 1.5;\" width=\"71\" x=\"32.5\" y=\"41\"/><text fill=\"#000000\" font-family=\"sans-serif\" font-size=\"12\" font-style=\"italic\" lengthAdjust=\"spacingAndGlyphs\" textLength=\"69\" x=\"33.5\" y=\"57.1387\">«attribute»</text><text fill=\"#000000\" font-family=\"sans-serif\" font-size=\"12\" lengthAdjust=\"spacingAndGlyphs\" textLength=\"7\" x=\"64.5\" y=\"71.1074\">c</text><line style=\"stroke: #383838; stroke-width: 1.5;\" x1=\"33.5\" x2=\"102.5\" y1=\"78.9375\" y2=\"78.9375\"/></a><text fill=\"#000000\" font-family=\"sans-serif\" font-size=\"14\" lengthAdjust=\"spacingAndGlyphs\" textLength=\"9\" x=\"567.5\" y=\"42.6982\">p</text><rect fill=\"#383838\" height=\"12\" style=\"stroke: #F8F8F8; stroke-width: 1.5;\" width=\"12\" x=\"566\" y=\"58\"/><text fill=\"#000000\" font-family=\"sans-serif\" font-size=\"14\" lengthAdjust=\"spacingAndGlyphs\" textLength=\"9\" x=\"614.5\" y=\"42.6982\">q</text><rect fill=\"#383838\" height=\"12\" style=\"stroke: #F8F8F8; stroke-width: 1.5;\" width=\"12\" x=\"613\" y=\"58\"/><text fill=\"#000000\" font-family=\"sans-serif\" font-size=\"14\" lengthAdjust=\"spacingAndGlyphs\" textLength=\"57\" x=\"590.5\" y=\"380.7151\">noname</text><rect fill=\"#383838\" height=\"12\" style=\"stroke: #F8F8F8; stroke-width: 1.5;\" width=\"12\" x=\"613\" y=\"355.72\"/><!--MD5=[05d275557350bfb9b23a4ef7222b4c39]\n",
       "link E3 to E2--><a href=\"psysml:982c8c0e-9af2-4f93-8067-230d5c39d8a2\" target=\"_top\" title=\"psysml:982c8c0e-9af2-4f93-8067-230d5c39d8a2\" xlink:actuate=\"onRequest\" xlink:href=\"psysml:982c8c0e-9af2-4f93-8067-230d5c39d8a2\" xlink:show=\"new\" xlink:title=\"psysml:982c8c0e-9af2-4f93-8067-230d5c39d8a2\" xlink:type=\"simple\"><path d=\"M488.12,87.06 C486.14,98.3 483.62,112.6 481.1,126.95 \" fill=\"none\" id=\"E3-&gt;E2\" style=\"stroke: #383838; stroke-width: 1.0;\"/><polygon fill=\"#FFFFFF\" points=\"477.58,146.93,473.9835,127.0035,487.7711,129.4331,477.58,146.93\" style=\"stroke: #383838; stroke-width: 1.0;\"/><ellipse cx=\"476.9423\" cy=\"121.7371\" fill=\"#383838\" rx=\"2\" ry=\"2\" style=\"stroke: #383838; stroke-width: 1.0;\"/><ellipse cx=\"486.7906\" cy=\"123.4725\" fill=\"#383838\" rx=\"2\" ry=\"2\" style=\"stroke: #383838; stroke-width: 1.0;\"/></a><!--MD5=[0ba22f8318a6c4ff18d8c24fbcd46230]\n",
       "@startuml\r\n",
       "skinparam monochrome true\r\n",
       "skinparam classbackgroundcolor white\r\n",
       "skinparam shadowing false\r\n",
       "skinparam wrapWidth 300\r\n",
       "hide circle\r\n",
       "\r\n",
       "package \"ParameterTest\" as E1  [[psysml:0dacd990-2b3a-4306-80d2-1e4fad6d04cd ]]  {\r\n",
       "comp def \"A\" as E2  <<(T,blue)attribute def>> [[psysml:03a6349f-297b-4a78-b9ab-052989f96479 ]] {\r\n",
       "- - attributes - -\r\n",
       "x: String\r\n",
       "y: A\r\n",
       "}\r\n",
       "comp usage \"a: A\" as E3  <<(T,blue)attribute>> [[psysml:d7af749e-ffc6-4773-972a-b8dfcfe9deb8 ]] {\r\n",
       "}\r\n",
       "rec def \"F\" as E4  <<(T,blue)calculation def>> [[psysml:cd1262f4-d3f9-4f52-89ee-1653680ad782 ]] {\r\n",
       "portin \"p\" as E5  [[psysml:16d77514-2de6-4c2c-add7-8b8555ca417f ]] \r\n",
       "portin \"q\" as E6  [[psysml:85e14753-ca59-4cde-8265-18a8cb4b45d6 ]] \r\n",
       "portout \"noname\" as E7  [[psysml:99b94083-4aa7-41fb-8d8e-135498f03bbe ]] \r\n",
       "}\r\n",
       "\r\n",
       "comp usage \"f\" as E8  <<(T,blue)attribute>> [[psysml:e43abf7c-a809-48bd-8c78-cd0a53fbbdb6 ]] {\r\n",
       "}\r\n",
       "comp usage \"g\" as E9  <<(T,blue)attribute>> [[psysml:04ff0b02-14ab-40e8-a866-ef9bcfd05ef7 ]] {\r\n",
       "}\r\n",
       "comp usage \"b\" as E10  <<(T,blue)attribute>> [[psysml:37f56aff-8c9f-4a8e-95e0-50132129fb99 ]] {\r\n",
       "}\r\n",
       "comp usage \"c\" as E11  <<(T,blue)attribute>> [[psysml:6095b787-d7f9-43be-8b1b-f534282edd43 ]] {\r\n",
       "}\r\n",
       "E3 - -:|> E2 [[psysml:982c8c0e-9af2-4f93-8067-230d5c39d8a2 ]] \r\n",
       "}\r\n",
       "@enduml\r\n",
       "\n",
       "PlantUML version 1.2020.13(Sat Jun 13 12:26:38 UTC 2020)\n",
       "(EPL source distribution)\n",
       "Java Runtime: OpenJDK Runtime Environment\n",
       "JVM: OpenJDK 64-Bit Server VM\n",
       "Default Encoding: UTF-8\n",
       "Language: en\n",
       "Country: null\n",
       "--></g></svg>"
      ]
     },
     "execution_count": 37,
     "metadata": {},
     "output_type": "execute_result"
    }
   ],
   "source": [
    "%viz --style=\"DEFAULT\" --view=\"Default\" \"ParameterTest\""
   ]
  },
  {
   "cell_type": "code",
   "execution_count": 38,
   "id": "focal-cuisine",
   "metadata": {
    "execution": {
     "iopub.execute_input": "2021-03-24T16:28:55.635462Z",
     "iopub.status.busy": "2021-03-24T16:28:55.634430Z",
     "iopub.status.idle": "2021-03-24T16:28:55.680553Z",
     "shell.execute_reply": "2021-03-24T16:28:55.679295Z"
    }
   },
   "outputs": [
    {
     "data": {
      "image/svg+xml": [
       "<?xml version=\"1.0\" encoding=\"UTF-8\" standalone=\"no\"?><svg xmlns=\"http://www.w3.org/2000/svg\" xmlns:xlink=\"http://www.w3.org/1999/xlink\" contentScriptType=\"application/ecmascript\" contentStyleType=\"text/css\" height=\"280px\" preserveAspectRatio=\"none\" style=\"width:710px;height:280px;\" version=\"1.1\" viewBox=\"0 0 710 280\" width=\"710px\" zoomAndPan=\"magnify\"><defs/><g><!--MD5=[fbc87193dbaf4d95561dea2c320d4a47]\n",
       "cluster E1--><a href=\"psysml:0dacd990-2b3a-4306-80d2-1e4fad6d04cd\" target=\"_top\" title=\"psysml:0dacd990-2b3a-4306-80d2-1e4fad6d04cd\" xlink:actuate=\"onRequest\" xlink:href=\"psysml:0dacd990-2b3a-4306-80d2-1e4fad6d04cd\" xlink:show=\"new\" xlink:title=\"psysml:0dacd990-2b3a-4306-80d2-1e4fad6d04cd\" xlink:type=\"simple\"><polygon fill=\"#FFFFFF\" points=\"16,6,139,6,146,28.2969,688,28.2969,688,268,16,268,16,6\" style=\"stroke: #000000; stroke-width: 1.5;\"/><line style=\"stroke: #000000; stroke-width: 1.5;\" x1=\"16\" x2=\"146\" y1=\"28.2969\" y2=\"28.2969\"/><text fill=\"#000000\" font-family=\"sans-serif\" font-size=\"14\" font-weight=\"bold\" lengthAdjust=\"spacingAndGlyphs\" textLength=\"117\" x=\"20\" y=\"20.9951\">ParameterTest</text></a><!--MD5=[b4997ac47864f28c2f74865a473b2911]\n",
       "class E2--><a href=\"psysml:03a6349f-297b-4a78-b9ab-052989f96479\" target=\"_top\" title=\"psysml:03a6349f-297b-4a78-b9ab-052989f96479\" xlink:actuate=\"onRequest\" xlink:href=\"psysml:03a6349f-297b-4a78-b9ab-052989f96479\" xlink:show=\"new\" xlink:title=\"psysml:03a6349f-297b-4a78-b9ab-052989f96479\" xlink:type=\"simple\"><rect fill=\"#FFFFFF\" height=\"88.3516\" id=\"E2\" style=\"stroke: #383838; stroke-width: 1.5;\" width=\"95\" x=\"498.5\" y=\"164\"/><text fill=\"#000000\" font-family=\"sans-serif\" font-size=\"12\" font-style=\"italic\" lengthAdjust=\"spacingAndGlyphs\" textLength=\"93\" x=\"499.5\" y=\"180.1387\">«attribute def»</text><text fill=\"#000000\" font-family=\"sans-serif\" font-size=\"12\" lengthAdjust=\"spacingAndGlyphs\" textLength=\"8\" x=\"542\" y=\"194.1074\">A</text><line style=\"stroke: #383838; stroke-width: 1.5;\" x1=\"499.5\" x2=\"592.5\" y1=\"201.9375\" y2=\"201.9375\"/><text fill=\"#000000\" font-family=\"sans-serif\" font-size=\"11\" lengthAdjust=\"spacingAndGlyphs\" textLength=\"48\" x=\"504.5\" y=\"232.9526\">x: String</text><text fill=\"#000000\" font-family=\"sans-serif\" font-size=\"11\" lengthAdjust=\"spacingAndGlyphs\" textLength=\"21\" x=\"504.5\" y=\"245.7573\">y: A</text><line style=\"stroke: #383838; stroke-width: 1.0;\" x1=\"499.5\" x2=\"518.5\" y1=\"216.3398\" y2=\"216.3398\"/><text fill=\"#000000\" font-family=\"sans-serif\" font-size=\"11\" lengthAdjust=\"spacingAndGlyphs\" textLength=\"55\" x=\"518.5\" y=\"219.6479\">attributes</text><line style=\"stroke: #383838; stroke-width: 1.0;\" x1=\"573.5\" x2=\"592.5\" y1=\"216.3398\" y2=\"216.3398\"/></a><!--MD5=[09b614a08d8cba4a07c9adeb5e0fee81]\n",
       "class E3--><a href=\"psysml:d7af749e-ffc6-4773-972a-b8dfcfe9deb8\" target=\"_top\" title=\"psysml:d7af749e-ffc6-4773-972a-b8dfcfe9deb8\" xlink:actuate=\"onRequest\" xlink:href=\"psysml:d7af749e-ffc6-4773-972a-b8dfcfe9deb8\" xlink:show=\"new\" xlink:title=\"psysml:d7af749e-ffc6-4773-972a-b8dfcfe9deb8\" xlink:type=\"simple\"><rect fill=\"#FFFFFF\" height=\"45.9375\" id=\"E3\" rx=\"10\" ry=\"10\" style=\"stroke: #383838; stroke-width: 1.5;\" width=\"71\" x=\"600.5\" y=\"41\"/><text fill=\"#000000\" font-family=\"sans-serif\" font-size=\"12\" font-style=\"italic\" lengthAdjust=\"spacingAndGlyphs\" textLength=\"69\" x=\"601.5\" y=\"57.1387\">«attribute»</text><text fill=\"#000000\" font-family=\"sans-serif\" font-size=\"12\" lengthAdjust=\"spacingAndGlyphs\" textLength=\"24\" x=\"624\" y=\"71.1074\">a: A</text><line style=\"stroke: #383838; stroke-width: 1.5;\" x1=\"601.5\" x2=\"670.5\" y1=\"78.9375\" y2=\"78.9375\"/></a><!--MD5=[ebbe1d658d1005bcc118a6aa81145e00]\n",
       "class E4--><a href=\"psysml:cd1262f4-d3f9-4f52-89ee-1653680ad782\" target=\"_top\" title=\"psysml:cd1262f4-d3f9-4f52-89ee-1653680ad782\" xlink:actuate=\"onRequest\" xlink:href=\"psysml:cd1262f4-d3f9-4f52-89ee-1653680ad782\" xlink:show=\"new\" xlink:title=\"psysml:cd1262f4-d3f9-4f52-89ee-1653680ad782\" xlink:type=\"simple\"><rect fill=\"#FFFFFF\" height=\"45.9375\" id=\"E4\" style=\"stroke: #383838; stroke-width: 1.5;\" width=\"108\" x=\"457\" y=\"41\"/><text fill=\"#000000\" font-family=\"sans-serif\" font-size=\"12\" font-style=\"italic\" lengthAdjust=\"spacingAndGlyphs\" textLength=\"106\" x=\"458\" y=\"57.1387\">«calculation def»</text><text fill=\"#000000\" font-family=\"sans-serif\" font-size=\"12\" lengthAdjust=\"spacingAndGlyphs\" textLength=\"7\" x=\"507.5\" y=\"71.1074\">F</text><line style=\"stroke: #383838; stroke-width: 1.5;\" x1=\"458\" x2=\"564\" y1=\"78.9375\" y2=\"78.9375\"/></a><!--MD5=[270fce915f116d4de14055a7c1d9a0f3]\n",
       "class E5--><a href=\"psysml:e43abf7c-a809-48bd-8c78-cd0a53fbbdb6\" target=\"_top\" title=\"psysml:e43abf7c-a809-48bd-8c78-cd0a53fbbdb6\" xlink:actuate=\"onRequest\" xlink:href=\"psysml:e43abf7c-a809-48bd-8c78-cd0a53fbbdb6\" xlink:show=\"new\" xlink:title=\"psysml:e43abf7c-a809-48bd-8c78-cd0a53fbbdb6\" xlink:type=\"simple\"><rect fill=\"#FFFFFF\" height=\"45.9375\" id=\"E5\" rx=\"10\" ry=\"10\" style=\"stroke: #383838; stroke-width: 1.5;\" width=\"71\" x=\"350.5\" y=\"41\"/><text fill=\"#000000\" font-family=\"sans-serif\" font-size=\"12\" font-style=\"italic\" lengthAdjust=\"spacingAndGlyphs\" textLength=\"69\" x=\"351.5\" y=\"57.1387\">«attribute»</text><text fill=\"#000000\" font-family=\"sans-serif\" font-size=\"12\" lengthAdjust=\"spacingAndGlyphs\" textLength=\"4\" x=\"384\" y=\"71.1074\">f</text><line style=\"stroke: #383838; stroke-width: 1.5;\" x1=\"351.5\" x2=\"420.5\" y1=\"78.9375\" y2=\"78.9375\"/></a><!--MD5=[60a26617385b1d2d0262a64233df1f8d]\n",
       "class E6--><a href=\"psysml:04ff0b02-14ab-40e8-a866-ef9bcfd05ef7\" target=\"_top\" title=\"psysml:04ff0b02-14ab-40e8-a866-ef9bcfd05ef7\" xlink:actuate=\"onRequest\" xlink:href=\"psysml:04ff0b02-14ab-40e8-a866-ef9bcfd05ef7\" xlink:show=\"new\" xlink:title=\"psysml:04ff0b02-14ab-40e8-a866-ef9bcfd05ef7\" xlink:type=\"simple\"><rect fill=\"#FFFFFF\" height=\"45.9375\" id=\"E6\" rx=\"10\" ry=\"10\" style=\"stroke: #383838; stroke-width: 1.5;\" width=\"71\" x=\"244.5\" y=\"41\"/><text fill=\"#000000\" font-family=\"sans-serif\" font-size=\"12\" font-style=\"italic\" lengthAdjust=\"spacingAndGlyphs\" textLength=\"69\" x=\"245.5\" y=\"57.1387\">«attribute»</text><text fill=\"#000000\" font-family=\"sans-serif\" font-size=\"12\" lengthAdjust=\"spacingAndGlyphs\" textLength=\"8\" x=\"276\" y=\"71.1074\">g</text><line style=\"stroke: #383838; stroke-width: 1.5;\" x1=\"245.5\" x2=\"314.5\" y1=\"78.9375\" y2=\"78.9375\"/></a><!--MD5=[2156ba9850f5573cc1fc38a6a4b2f02b]\n",
       "class E7--><a href=\"psysml:37f56aff-8c9f-4a8e-95e0-50132129fb99\" target=\"_top\" title=\"psysml:37f56aff-8c9f-4a8e-95e0-50132129fb99\" xlink:actuate=\"onRequest\" xlink:href=\"psysml:37f56aff-8c9f-4a8e-95e0-50132129fb99\" xlink:show=\"new\" xlink:title=\"psysml:37f56aff-8c9f-4a8e-95e0-50132129fb99\" xlink:type=\"simple\"><rect fill=\"#FFFFFF\" height=\"45.9375\" id=\"E7\" rx=\"10\" ry=\"10\" style=\"stroke: #383838; stroke-width: 1.5;\" width=\"71\" x=\"138.5\" y=\"41\"/><text fill=\"#000000\" font-family=\"sans-serif\" font-size=\"12\" font-style=\"italic\" lengthAdjust=\"spacingAndGlyphs\" textLength=\"69\" x=\"139.5\" y=\"57.1387\">«attribute»</text><text fill=\"#000000\" font-family=\"sans-serif\" font-size=\"12\" lengthAdjust=\"spacingAndGlyphs\" textLength=\"8\" x=\"170\" y=\"71.1074\">b</text><line style=\"stroke: #383838; stroke-width: 1.5;\" x1=\"139.5\" x2=\"208.5\" y1=\"78.9375\" y2=\"78.9375\"/></a><!--MD5=[b9389687b975829384b498ac4b7476b2]\n",
       "class E8--><a href=\"psysml:6095b787-d7f9-43be-8b1b-f534282edd43\" target=\"_top\" title=\"psysml:6095b787-d7f9-43be-8b1b-f534282edd43\" xlink:actuate=\"onRequest\" xlink:href=\"psysml:6095b787-d7f9-43be-8b1b-f534282edd43\" xlink:show=\"new\" xlink:title=\"psysml:6095b787-d7f9-43be-8b1b-f534282edd43\" xlink:type=\"simple\"><rect fill=\"#FFFFFF\" height=\"45.9375\" id=\"E8\" rx=\"10\" ry=\"10\" style=\"stroke: #383838; stroke-width: 1.5;\" width=\"71\" x=\"32.5\" y=\"41\"/><text fill=\"#000000\" font-family=\"sans-serif\" font-size=\"12\" font-style=\"italic\" lengthAdjust=\"spacingAndGlyphs\" textLength=\"69\" x=\"33.5\" y=\"57.1387\">«attribute»</text><text fill=\"#000000\" font-family=\"sans-serif\" font-size=\"12\" lengthAdjust=\"spacingAndGlyphs\" textLength=\"7\" x=\"64.5\" y=\"71.1074\">c</text><line style=\"stroke: #383838; stroke-width: 1.5;\" x1=\"33.5\" x2=\"102.5\" y1=\"78.9375\" y2=\"78.9375\"/></a><!--MD5=[05d275557350bfb9b23a4ef7222b4c39]\n",
       "link E3 to E2--><a href=\"psysml:982c8c0e-9af2-4f93-8067-230d5c39d8a2\" target=\"_top\" title=\"psysml:982c8c0e-9af2-4f93-8067-230d5c39d8a2\" xlink:actuate=\"onRequest\" xlink:href=\"psysml:982c8c0e-9af2-4f93-8067-230d5c39d8a2\" xlink:show=\"new\" xlink:title=\"psysml:982c8c0e-9af2-4f93-8067-230d5c39d8a2\" xlink:type=\"simple\"><path d=\"M621.94,87.19 C611.77,103.23 597.51,125.73 584.09,146.9 \" fill=\"none\" id=\"E3-&gt;E2\" style=\"stroke: #383838; stroke-width: 1.0;\"/><polygon fill=\"#FFFFFF\" points=\"573.37,163.82,577.6195,144.0225,589.448,151.5115,573.37,163.82\" style=\"stroke: #383838; stroke-width: 1.0;\"/><ellipse cx=\"582.3584\" cy=\"140.2764\" fill=\"#383838\" rx=\"2\" ry=\"2\" style=\"stroke: #383838; stroke-width: 1.0;\"/><ellipse cx=\"590.8073\" cy=\"145.6258\" fill=\"#383838\" rx=\"2\" ry=\"2\" style=\"stroke: #383838; stroke-width: 1.0;\"/></a><!--MD5=[ddeed8deb2209213b62e6cfabaa108b2]\n",
       "reverse link E4 to E2--><a href=\"psysml:16d77514-2de6-4c2c-add7-8b8555ca417f\" target=\"_top\" title=\"psysml:16d77514-2de6-4c2c-add7-8b8555ca417f\" xlink:actuate=\"onRequest\" xlink:href=\"psysml:16d77514-2de6-4c2c-add7-8b8555ca417f\" xlink:show=\"new\" xlink:title=\"psysml:16d77514-2de6-4c2c-add7-8b8555ca417f\" xlink:type=\"simple\"><path d=\"M519.62,99.96 C524.37,119.25 530.31,143.36 535.36,163.82 \" fill=\"none\" id=\"E4&lt;-E2\" style=\"stroke: #383838; stroke-width: 1.0;\"/><polygon fill=\"#FFFFFF\" points=\"516.47,87.19,514.0229,93.9732,519.3432,98.841,521.7903,92.0577,516.47,87.19\" style=\"stroke: #383838; stroke-width: 1.0;\"/><text fill=\"#000000\" font-family=\"sans-serif\" font-size=\"13\" lengthAdjust=\"spacingAndGlyphs\" textLength=\"8\" x=\"528\" y=\"130.0669\">p</text></a><!--MD5=[78154e88347af41bce3b6919a51eb215]\n",
       "@startuml\r\n",
       "skinparam monochrome true\r\n",
       "skinparam classbackgroundcolor white\r\n",
       "skinparam shadowing false\r\n",
       "skinparam wrapWidth 300\r\n",
       "hide circle\r\n",
       "\r\n",
       "package \"ParameterTest\" as E1  [[psysml:0dacd990-2b3a-4306-80d2-1e4fad6d04cd ]]  {\r\n",
       "comp def \"A\" as E2  <<(T,blue)attribute def>> [[psysml:03a6349f-297b-4a78-b9ab-052989f96479 ]] {\r\n",
       "- - attributes - -\r\n",
       "x: String\r\n",
       "y: A\r\n",
       "}\r\n",
       "comp usage \"a: A\" as E3  <<(T,blue)attribute>> [[psysml:d7af749e-ffc6-4773-972a-b8dfcfe9deb8 ]] {\r\n",
       "}\r\n",
       "comp def \"F\" as E4  <<(T,blue)calculation def>> [[psysml:cd1262f4-d3f9-4f52-89ee-1653680ad782 ]] {\r\n",
       "}\r\n",
       "comp usage \"f\" as E5  <<(T,blue)attribute>> [[psysml:e43abf7c-a809-48bd-8c78-cd0a53fbbdb6 ]] {\r\n",
       "}\r\n",
       "comp usage \"g\" as E6  <<(T,blue)attribute>> [[psysml:04ff0b02-14ab-40e8-a866-ef9bcfd05ef7 ]] {\r\n",
       "}\r\n",
       "comp usage \"b\" as E7  <<(T,blue)attribute>> [[psysml:37f56aff-8c9f-4a8e-95e0-50132129fb99 ]] {\r\n",
       "}\r\n",
       "comp usage \"c\" as E8  <<(T,blue)attribute>> [[psysml:6095b787-d7f9-43be-8b1b-f534282edd43 ]] {\r\n",
       "}\r\n",
       "E3 - -:|> E2 [[psysml:982c8c0e-9af2-4f93-8067-230d5c39d8a2 ]] \r\n",
       "E4 o- - E2 [[psysml:16d77514-2de6-4c2c-add7-8b8555ca417f ]] : p\r\n",
       "}\r\n",
       "@enduml\r\n",
       "\n",
       "PlantUML version 1.2020.13(Sat Jun 13 12:26:38 UTC 2020)\n",
       "(EPL source distribution)\n",
       "Java Runtime: OpenJDK Runtime Environment\n",
       "JVM: OpenJDK 64-Bit Server VM\n",
       "Default Encoding: UTF-8\n",
       "Language: en\n",
       "Country: null\n",
       "--></g></svg>"
      ]
     },
     "execution_count": 38,
     "metadata": {},
     "output_type": "execute_result"
    }
   ],
   "source": [
    "%viz --style=\"DEFAULT\" --view=\"Tree\" \"ParameterTest\""
   ]
  },
  {
   "cell_type": "code",
   "execution_count": 39,
   "id": "annoying-respect",
   "metadata": {
    "execution": {
     "iopub.execute_input": "2021-03-24T16:28:55.730585Z",
     "iopub.status.busy": "2021-03-24T16:28:55.730237Z",
     "iopub.status.idle": "2021-03-24T16:28:55.734820Z",
     "shell.execute_reply": "2021-03-24T16:28:55.734529Z"
    }
   },
   "outputs": [
    {
     "data": {
      "image/svg+xml": [
       "<?xml version=\"1.0\" encoding=\"UTF-8\" standalone=\"no\"?><svg xmlns=\"http://www.w3.org/2000/svg\" xmlns:xlink=\"http://www.w3.org/1999/xlink\" contentScriptType=\"application/ecmascript\" contentStyleType=\"text/css\" height=\"12px\" preserveAspectRatio=\"none\" style=\"width:12px;height:12px;\" version=\"1.1\" viewBox=\"0 0 12 12\" width=\"12px\" zoomAndPan=\"magnify\"><defs/><g><!--MD5=[c5f280e076d0d61ccf4b0f27871bda1d]\n",
       "@startuml\r\n",
       "skinparam monochrome true\r\n",
       "skinparam classbackgroundcolor white\r\n",
       "skinparam shadowing false\r\n",
       "skinparam wrapWidth 300\r\n",
       "hide circle\r\n",
       "\r\n",
       "@enduml\r\n",
       "\n",
       "PlantUML version 1.2020.13(Sat Jun 13 12:26:38 UTC 2020)\n",
       "(EPL source distribution)\n",
       "Java Runtime: OpenJDK Runtime Environment\n",
       "JVM: OpenJDK 64-Bit Server VM\n",
       "Default Encoding: UTF-8\n",
       "Language: en\n",
       "Country: null\n",
       "--></g></svg>"
      ]
     },
     "execution_count": 39,
     "metadata": {},
     "output_type": "execute_result"
    }
   ],
   "source": [
    "%viz --style=\"DEFAULT\" --view=\"State\" \"ParameterTest\""
   ]
  },
  {
   "cell_type": "code",
   "execution_count": 40,
   "id": "bizarre-chosen",
   "metadata": {
    "execution": {
     "iopub.execute_input": "2021-03-24T16:28:55.787342Z",
     "iopub.status.busy": "2021-03-24T16:28:55.786554Z",
     "iopub.status.idle": "2021-03-24T16:28:55.823692Z",
     "shell.execute_reply": "2021-03-24T16:28:55.822400Z"
    }
   },
   "outputs": [
    {
     "data": {
      "image/svg+xml": [
       "<?xml version=\"1.0\" encoding=\"UTF-8\" standalone=\"no\"?><svg xmlns=\"http://www.w3.org/2000/svg\" xmlns:xlink=\"http://www.w3.org/1999/xlink\" contentScriptType=\"application/ecmascript\" contentStyleType=\"text/css\" height=\"216px\" preserveAspectRatio=\"none\" style=\"width:740px;height:216px;\" version=\"1.1\" viewBox=\"0 0 740 216\" width=\"740px\" zoomAndPan=\"magnify\"><defs/><g><!--MD5=[fbc87193dbaf4d95561dea2c320d4a47]\n",
       "cluster E1--><a href=\"psysml:0dacd990-2b3a-4306-80d2-1e4fad6d04cd\" target=\"_top\" title=\"psysml:0dacd990-2b3a-4306-80d2-1e4fad6d04cd\" xlink:actuate=\"onRequest\" xlink:href=\"psysml:0dacd990-2b3a-4306-80d2-1e4fad6d04cd\" xlink:show=\"new\" xlink:title=\"psysml:0dacd990-2b3a-4306-80d2-1e4fad6d04cd\" xlink:type=\"simple\"><polygon fill=\"#FFFFFF\" points=\"16,6,139,6,146,28.2969,718,28.2969,718,204.72,16,204.72,16,6\" style=\"stroke: #000000; stroke-width: 1.5;\"/><line style=\"stroke: #000000; stroke-width: 1.5;\" x1=\"16\" x2=\"146\" y1=\"28.2969\" y2=\"28.2969\"/><text fill=\"#000000\" font-family=\"sans-serif\" font-size=\"14\" font-weight=\"bold\" lengthAdjust=\"spacingAndGlyphs\" textLength=\"117\" x=\"20\" y=\"20.9951\">ParameterTest</text></a><!--MD5=[f6df4d0ebaf0b5dfb2ced0ae5af7c670]\n",
       "cluster E4--><a href=\"psysml:cd1262f4-d3f9-4f52-89ee-1653680ad782\" target=\"_top\" title=\"psysml:cd1262f4-d3f9-4f52-89ee-1653680ad782\" xlink:actuate=\"onRequest\" xlink:href=\"psysml:cd1262f4-d3f9-4f52-89ee-1653680ad782\" xlink:show=\"new\" xlink:title=\"psysml:cd1262f4-d3f9-4f52-89ee-1653680ad782\" xlink:type=\"simple\"><rect fill=\"#FFFFFF\" height=\"110.72\" id=\"E4\" style=\"stroke: #383838; stroke-width: 1.5;\" width=\"148\" x=\"554\" y=\"64\"/><rect fill=\"#F8F8F8\" height=\"37.9375\" style=\"stroke: #383838; stroke-width: 1.5;\" width=\"148\" x=\"554\" y=\"64\"/><text fill=\"#000000\" font-family=\"sans-serif\" font-size=\"12\" font-style=\"italic\" lengthAdjust=\"spacingAndGlyphs\" textLength=\"106\" x=\"575\" y=\"80.1387\">«calculation def»</text><text fill=\"#000000\" font-family=\"sans-serif\" font-size=\"12\" lengthAdjust=\"spacingAndGlyphs\" textLength=\"7\" x=\"624.5\" y=\"94.1074\">F</text></a><g id=\"E1.E2\"><a href=\"psysml:03a6349f-297b-4a78-b9ab-052989f96479\" target=\"_top\" title=\"psysml:03a6349f-297b-4a78-b9ab-052989f96479\" xlink:actuate=\"onRequest\" xlink:href=\"psysml:03a6349f-297b-4a78-b9ab-052989f96479\" xlink:show=\"new\" xlink:title=\"psysml:03a6349f-297b-4a78-b9ab-052989f96479\" xlink:type=\"simple\"><rect fill=\"#FFFFFF\" height=\"42.9375\" id=\"E2\" style=\"stroke: #383838; stroke-width: 1.5;\" width=\"100\" x=\"417\" y=\"99\"/><rect fill=\"#F8F8F8\" height=\"37.9375\" style=\"stroke: #383838; stroke-width: 1.5;\" width=\"100\" x=\"417\" y=\"99\"/><text fill=\"#000000\" font-family=\"sans-serif\" font-size=\"12\" font-style=\"italic\" lengthAdjust=\"spacingAndGlyphs\" textLength=\"93\" x=\"420.5\" y=\"115.1387\">«attribute def»</text><text fill=\"#000000\" font-family=\"sans-serif\" font-size=\"12\" lengthAdjust=\"spacingAndGlyphs\" textLength=\"8\" x=\"463\" y=\"129.1074\">A</text></a></g><!--MD5=[09b614a08d8cba4a07c9adeb5e0fee81]\n",
       "class E3--><a href=\"psysml:d7af749e-ffc6-4773-972a-b8dfcfe9deb8\" target=\"_top\" title=\"psysml:d7af749e-ffc6-4773-972a-b8dfcfe9deb8\" xlink:actuate=\"onRequest\" xlink:href=\"psysml:d7af749e-ffc6-4773-972a-b8dfcfe9deb8\" xlink:show=\"new\" xlink:title=\"psysml:d7af749e-ffc6-4773-972a-b8dfcfe9deb8\" xlink:type=\"simple\"><rect fill=\"#FFFFFF\" height=\"45.9375\" id=\"E3\" rx=\"10\" ry=\"10\" style=\"stroke: #383838; stroke-width: 1.5;\" width=\"71\" x=\"456.5\" y=\"41\"/><text fill=\"#000000\" font-family=\"sans-serif\" font-size=\"12\" font-style=\"italic\" lengthAdjust=\"spacingAndGlyphs\" textLength=\"69\" x=\"457.5\" y=\"57.1387\">«attribute»</text><text fill=\"#000000\" font-family=\"sans-serif\" font-size=\"12\" lengthAdjust=\"spacingAndGlyphs\" textLength=\"24\" x=\"480\" y=\"71.1074\">a: A</text><line style=\"stroke: #383838; stroke-width: 1.5;\" x1=\"457.5\" x2=\"526.5\" y1=\"78.9375\" y2=\"78.9375\"/></a><!--MD5=[b9389687b975829384b498ac4b7476b2]\n",
       "class E8--><a href=\"psysml:e43abf7c-a809-48bd-8c78-cd0a53fbbdb6\" target=\"_top\" title=\"psysml:e43abf7c-a809-48bd-8c78-cd0a53fbbdb6\" xlink:actuate=\"onRequest\" xlink:href=\"psysml:e43abf7c-a809-48bd-8c78-cd0a53fbbdb6\" xlink:show=\"new\" xlink:title=\"psysml:e43abf7c-a809-48bd-8c78-cd0a53fbbdb6\" xlink:type=\"simple\"><rect fill=\"#FFFFFF\" height=\"45.9375\" id=\"E8\" rx=\"10\" ry=\"10\" style=\"stroke: #383838; stroke-width: 1.5;\" width=\"71\" x=\"350.5\" y=\"41\"/><text fill=\"#000000\" font-family=\"sans-serif\" font-size=\"12\" font-style=\"italic\" lengthAdjust=\"spacingAndGlyphs\" textLength=\"69\" x=\"351.5\" y=\"57.1387\">«attribute»</text><text fill=\"#000000\" font-family=\"sans-serif\" font-size=\"12\" lengthAdjust=\"spacingAndGlyphs\" textLength=\"4\" x=\"384\" y=\"71.1074\">f</text><line style=\"stroke: #383838; stroke-width: 1.5;\" x1=\"351.5\" x2=\"420.5\" y1=\"78.9375\" y2=\"78.9375\"/></a><!--MD5=[fd4143e9d270a159db93a4ea2a975926]\n",
       "class E9--><a href=\"psysml:04ff0b02-14ab-40e8-a866-ef9bcfd05ef7\" target=\"_top\" title=\"psysml:04ff0b02-14ab-40e8-a866-ef9bcfd05ef7\" xlink:actuate=\"onRequest\" xlink:href=\"psysml:04ff0b02-14ab-40e8-a866-ef9bcfd05ef7\" xlink:show=\"new\" xlink:title=\"psysml:04ff0b02-14ab-40e8-a866-ef9bcfd05ef7\" xlink:type=\"simple\"><rect fill=\"#FFFFFF\" height=\"45.9375\" id=\"E9\" rx=\"10\" ry=\"10\" style=\"stroke: #383838; stroke-width: 1.5;\" width=\"71\" x=\"244.5\" y=\"41\"/><text fill=\"#000000\" font-family=\"sans-serif\" font-size=\"12\" font-style=\"italic\" lengthAdjust=\"spacingAndGlyphs\" textLength=\"69\" x=\"245.5\" y=\"57.1387\">«attribute»</text><text fill=\"#000000\" font-family=\"sans-serif\" font-size=\"12\" lengthAdjust=\"spacingAndGlyphs\" textLength=\"8\" x=\"276\" y=\"71.1074\">g</text><line style=\"stroke: #383838; stroke-width: 1.5;\" x1=\"245.5\" x2=\"314.5\" y1=\"78.9375\" y2=\"78.9375\"/></a><!--MD5=[96f4274e9e20536e775497830990834d]\n",
       "class E10--><a href=\"psysml:37f56aff-8c9f-4a8e-95e0-50132129fb99\" target=\"_top\" title=\"psysml:37f56aff-8c9f-4a8e-95e0-50132129fb99\" xlink:actuate=\"onRequest\" xlink:href=\"psysml:37f56aff-8c9f-4a8e-95e0-50132129fb99\" xlink:show=\"new\" xlink:title=\"psysml:37f56aff-8c9f-4a8e-95e0-50132129fb99\" xlink:type=\"simple\"><rect fill=\"#FFFFFF\" height=\"45.9375\" id=\"E10\" rx=\"10\" ry=\"10\" style=\"stroke: #383838; stroke-width: 1.5;\" width=\"71\" x=\"138.5\" y=\"41\"/><text fill=\"#000000\" font-family=\"sans-serif\" font-size=\"12\" font-style=\"italic\" lengthAdjust=\"spacingAndGlyphs\" textLength=\"69\" x=\"139.5\" y=\"57.1387\">«attribute»</text><text fill=\"#000000\" font-family=\"sans-serif\" font-size=\"12\" lengthAdjust=\"spacingAndGlyphs\" textLength=\"8\" x=\"170\" y=\"71.1074\">b</text><line style=\"stroke: #383838; stroke-width: 1.5;\" x1=\"139.5\" x2=\"208.5\" y1=\"78.9375\" y2=\"78.9375\"/></a><!--MD5=[1dd1bfd58a279cf63c5f349dbc8fc6a1]\n",
       "class E11--><a href=\"psysml:6095b787-d7f9-43be-8b1b-f534282edd43\" target=\"_top\" title=\"psysml:6095b787-d7f9-43be-8b1b-f534282edd43\" xlink:actuate=\"onRequest\" xlink:href=\"psysml:6095b787-d7f9-43be-8b1b-f534282edd43\" xlink:show=\"new\" xlink:title=\"psysml:6095b787-d7f9-43be-8b1b-f534282edd43\" xlink:type=\"simple\"><rect fill=\"#FFFFFF\" height=\"45.9375\" id=\"E11\" rx=\"10\" ry=\"10\" style=\"stroke: #383838; stroke-width: 1.5;\" width=\"71\" x=\"32.5\" y=\"41\"/><text fill=\"#000000\" font-family=\"sans-serif\" font-size=\"12\" font-style=\"italic\" lengthAdjust=\"spacingAndGlyphs\" textLength=\"69\" x=\"33.5\" y=\"57.1387\">«attribute»</text><text fill=\"#000000\" font-family=\"sans-serif\" font-size=\"12\" lengthAdjust=\"spacingAndGlyphs\" textLength=\"7\" x=\"64.5\" y=\"71.1074\">c</text><line style=\"stroke: #383838; stroke-width: 1.5;\" x1=\"33.5\" x2=\"102.5\" y1=\"78.9375\" y2=\"78.9375\"/></a><text fill=\"#000000\" font-family=\"sans-serif\" font-size=\"14\" lengthAdjust=\"spacingAndGlyphs\" textLength=\"9\" x=\"567.5\" y=\"42.6982\">p</text><rect fill=\"#383838\" height=\"12\" style=\"stroke: #F8F8F8; stroke-width: 1.5;\" width=\"12\" x=\"566\" y=\"58\"/><text fill=\"#000000\" font-family=\"sans-serif\" font-size=\"14\" lengthAdjust=\"spacingAndGlyphs\" textLength=\"9\" x=\"614.5\" y=\"42.6982\">q</text><rect fill=\"#383838\" height=\"12\" style=\"stroke: #F8F8F8; stroke-width: 1.5;\" width=\"12\" x=\"613\" y=\"58\"/><text fill=\"#000000\" font-family=\"sans-serif\" font-size=\"14\" lengthAdjust=\"spacingAndGlyphs\" textLength=\"57\" x=\"590.5\" y=\"193.7151\">noname</text><rect fill=\"#383838\" height=\"12\" style=\"stroke: #F8F8F8; stroke-width: 1.5;\" width=\"12\" x=\"613\" y=\"168.72\"/><!--MD5=[05d275557350bfb9b23a4ef7222b4c39]\n",
       "link E3 to E2--><a href=\"psysml:982c8c0e-9af2-4f93-8067-230d5c39d8a2\" target=\"_top\" title=\"psysml:982c8c0e-9af2-4f93-8067-230d5c39d8a2\" xlink:actuate=\"onRequest\" xlink:href=\"psysml:982c8c0e-9af2-4f93-8067-230d5c39d8a2\" xlink:show=\"new\" xlink:title=\"psysml:982c8c0e-9af2-4f93-8067-230d5c39d8a2\" xlink:type=\"simple\"><path d=\"M481.83,87.17 C481.78,87.29 481.72,87.41 481.66,87.53 \" fill=\"none\" id=\"E3-&gt;E2\" style=\"stroke: #383838; stroke-width: 1.0;\"/><polygon fill=\"#FFFFFF\" points=\"476.43,98.93,477.977,78.7407,490.7056,84.5701,476.43,98.93\" style=\"stroke: #383838; stroke-width: 1.0;\"/><ellipse cx=\"482.1687\" cy=\"74.3911\" fill=\"#383838\" rx=\"2\" ry=\"2\" style=\"stroke: #383838; stroke-width: 1.0;\"/><ellipse cx=\"491.2606\" cy=\"78.555\" fill=\"#383838\" rx=\"2\" ry=\"2\" style=\"stroke: #383838; stroke-width: 1.0;\"/></a><!--MD5=[95dfd278a3bee80defdecfab2fbef9a9]\n",
       "@startuml\r\n",
       "skinparam ranksep 10\r\n",
       "skinparam rectangle {\r\n",
       " backgroundColor<<block>> LightGreen\r\n",
       "}\r\n",
       "skinparam monochrome true\r\n",
       "skinparam classbackgroundcolor white\r\n",
       "skinparam shadowing false\r\n",
       "skinparam wrapWidth 300\r\n",
       "hide circle\r\n",
       "\r\n",
       "package \"ParameterTest\" as E1  [[psysml:0dacd990-2b3a-4306-80d2-1e4fad6d04cd ]]  {\r\n",
       "def \"A\" as E2  <<(T,blue)attribute def>> [[psysml:03a6349f-297b-4a78-b9ab-052989f96479 ]] \r\n",
       "comp usage \"a: A\" as E3  <<(T,blue)attribute>> [[psysml:d7af749e-ffc6-4773-972a-b8dfcfe9deb8 ]] {\r\n",
       "}\r\n",
       "rec def \"F\" as E4  <<(T,blue)calculation def>> [[psysml:cd1262f4-d3f9-4f52-89ee-1653680ad782 ]] {\r\n",
       "portin \"p\" as E5  [[psysml:16d77514-2de6-4c2c-add7-8b8555ca417f ]] \r\n",
       "portin \"q\" as E6  [[psysml:85e14753-ca59-4cde-8265-18a8cb4b45d6 ]] \r\n",
       "portout \"noname\" as E7  [[psysml:99b94083-4aa7-41fb-8d8e-135498f03bbe ]] \r\n",
       "}\r\n",
       "\r\n",
       "comp usage \"f\" as E8  <<(T,blue)attribute>> [[psysml:e43abf7c-a809-48bd-8c78-cd0a53fbbdb6 ]] {\r\n",
       "}\r\n",
       "comp usage \"g\" as E9  <<(T,blue)attribute>> [[psysml:04ff0b02-14ab-40e8-a866-ef9bcfd05ef7 ]] {\r\n",
       "}\r\n",
       "comp usage \"b\" as E10  <<(T,blue)attribute>> [[psysml:37f56aff-8c9f-4a8e-95e0-50132129fb99 ]] {\r\n",
       "}\r\n",
       "comp usage \"c\" as E11  <<(T,blue)attribute>> [[psysml:6095b787-d7f9-43be-8b1b-f534282edd43 ]] {\r\n",
       "}\r\n",
       "E3 - -:|> E2 [[psysml:982c8c0e-9af2-4f93-8067-230d5c39d8a2 ]] \r\n",
       "}\r\n",
       "@enduml\r\n",
       "\n",
       "PlantUML version 1.2020.13(Sat Jun 13 12:26:38 UTC 2020)\n",
       "(EPL source distribution)\n",
       "Java Runtime: OpenJDK Runtime Environment\n",
       "JVM: OpenJDK 64-Bit Server VM\n",
       "Default Encoding: UTF-8\n",
       "Language: en\n",
       "Country: null\n",
       "--></g></svg>"
      ]
     },
     "execution_count": 40,
     "metadata": {},
     "output_type": "execute_result"
    }
   ],
   "source": [
    "%viz --style=\"DEFAULT\" --view=\"Interconnection\" \"ParameterTest\""
   ]
  },
  {
   "cell_type": "code",
   "execution_count": 41,
   "id": "frequent-southeast",
   "metadata": {
    "execution": {
     "iopub.execute_input": "2021-03-24T16:28:55.874746Z",
     "iopub.status.busy": "2021-03-24T16:28:55.874267Z",
     "iopub.status.idle": "2021-03-24T16:28:55.896118Z",
     "shell.execute_reply": "2021-03-24T16:28:55.895771Z"
    }
   },
   "outputs": [
    {
     "data": {
      "image/svg+xml": [
       "<?xml version=\"1.0\" encoding=\"UTF-8\" standalone=\"no\"?><svg xmlns=\"http://www.w3.org/2000/svg\" xmlns:xlink=\"http://www.w3.org/1999/xlink\" contentScriptType=\"application/ecmascript\" contentStyleType=\"text/css\" height=\"162px\" preserveAspectRatio=\"none\" style=\"width:166px;height:162px;\" version=\"1.1\" viewBox=\"0 0 166 162\" width=\"166px\" zoomAndPan=\"magnify\"><defs/><g><!--MD5=[fbc87193dbaf4d95561dea2c320d4a47]\n",
       "cluster E1--><a href=\"psysml:cd1262f4-d3f9-4f52-89ee-1653680ad782\" target=\"_top\" title=\"psysml:cd1262f4-d3f9-4f52-89ee-1653680ad782\" xlink:actuate=\"onRequest\" xlink:href=\"psysml:cd1262f4-d3f9-4f52-89ee-1653680ad782\" xlink:show=\"new\" xlink:title=\"psysml:cd1262f4-d3f9-4f52-89ee-1653680ad782\" xlink:type=\"simple\"><rect fill=\"#FFFFFF\" height=\"87.72\" id=\"E1\" style=\"stroke: #383838; stroke-width: 1.5;\" width=\"148\" x=\"7\" y=\"42.0986\"/><rect fill=\"#F8F8F8\" height=\"37.9375\" style=\"stroke: #383838; stroke-width: 1.5;\" width=\"148\" x=\"7\" y=\"42.0986\"/><text fill=\"#000000\" font-family=\"sans-serif\" font-size=\"12\" font-style=\"italic\" lengthAdjust=\"spacingAndGlyphs\" textLength=\"106\" x=\"28\" y=\"58.2373\">«calculation def»</text><text fill=\"#000000\" font-family=\"sans-serif\" font-size=\"12\" lengthAdjust=\"spacingAndGlyphs\" textLength=\"7\" x=\"77.5\" y=\"72.2061\">F</text></a><text fill=\"#000000\" font-family=\"sans-serif\" font-size=\"14\" lengthAdjust=\"spacingAndGlyphs\" textLength=\"9\" x=\"20.5\" y=\"20.7969\">p</text><rect fill=\"#383838\" height=\"12\" style=\"stroke: #F8F8F8; stroke-width: 1.5;\" width=\"12\" x=\"19\" y=\"36.0986\"/><text fill=\"#000000\" font-family=\"sans-serif\" font-size=\"14\" lengthAdjust=\"spacingAndGlyphs\" textLength=\"9\" x=\"67.5\" y=\"20.7969\">q</text><rect fill=\"#383838\" height=\"12\" style=\"stroke: #F8F8F8; stroke-width: 1.5;\" width=\"12\" x=\"66\" y=\"36.0986\"/><text fill=\"#000000\" font-family=\"sans-serif\" font-size=\"14\" lengthAdjust=\"spacingAndGlyphs\" textLength=\"57\" x=\"43.5\" y=\"148.8138\">noname</text><rect fill=\"#383838\" height=\"12\" style=\"stroke: #F8F8F8; stroke-width: 1.5;\" width=\"12\" x=\"66\" y=\"123.8186\"/><!--MD5=[285aedc6a0a6e4e510e4528850c5fc4c]\n",
       "@startuml\r\n",
       "skinparam ranksep 8\r\n",
       "skinparam monochrome true\r\n",
       "skinparam classbackgroundcolor white\r\n",
       "skinparam shadowing false\r\n",
       "skinparam wrapWidth 300\r\n",
       "hide circle\r\n",
       "\r\n",
       "rec def \"F\" as E1  <<(T,blue)calculation def>> [[psysml:cd1262f4-d3f9-4f52-89ee-1653680ad782 ]] {\r\n",
       "portin \"p\" as E2  [[psysml:16d77514-2de6-4c2c-add7-8b8555ca417f ]] \r\n",
       "portin \"q\" as E3  [[psysml:85e14753-ca59-4cde-8265-18a8cb4b45d6 ]] \r\n",
       "portout \"noname\" as E4  [[psysml:99b94083-4aa7-41fb-8d8e-135498f03bbe ]] \r\n",
       "}\r\n",
       "\r\n",
       "@enduml\r\n",
       "\n",
       "PlantUML version 1.2020.13(Sat Jun 13 12:26:38 UTC 2020)\n",
       "(EPL source distribution)\n",
       "Java Runtime: OpenJDK Runtime Environment\n",
       "JVM: OpenJDK 64-Bit Server VM\n",
       "Default Encoding: UTF-8\n",
       "Language: en\n",
       "Country: null\n",
       "--></g></svg>"
      ]
     },
     "execution_count": 41,
     "metadata": {},
     "output_type": "execute_result"
    }
   ],
   "source": [
    "%viz --style=\"DEFAULT\" --view=\"Action\" \"ParameterTest\""
   ]
  },
  {
   "cell_type": "code",
   "execution_count": 42,
   "id": "referenced-extraction",
   "metadata": {
    "execution": {
     "iopub.execute_input": "2021-03-24T16:28:55.946656Z",
     "iopub.status.busy": "2021-03-24T16:28:55.946263Z",
     "iopub.status.idle": "2021-03-24T16:28:55.991262Z",
     "shell.execute_reply": "2021-03-24T16:28:55.989994Z"
    }
   },
   "outputs": [
    {
     "data": {
      "image/svg+xml": [
       "<?xml version=\"1.0\" encoding=\"UTF-8\" standalone=\"no\"?><svg xmlns=\"http://www.w3.org/2000/svg\" xmlns:xlink=\"http://www.w3.org/1999/xlink\" contentScriptType=\"application/ecmascript\" contentStyleType=\"text/css\" height=\"280px\" preserveAspectRatio=\"none\" style=\"width:710px;height:280px;\" version=\"1.1\" viewBox=\"0 0 710 280\" width=\"710px\" zoomAndPan=\"magnify\"><defs/><g><!--MD5=[fbc87193dbaf4d95561dea2c320d4a47]\n",
       "cluster E1--><a href=\"psysml:0dacd990-2b3a-4306-80d2-1e4fad6d04cd\" target=\"_top\" title=\"psysml:0dacd990-2b3a-4306-80d2-1e4fad6d04cd\" xlink:actuate=\"onRequest\" xlink:href=\"psysml:0dacd990-2b3a-4306-80d2-1e4fad6d04cd\" xlink:show=\"new\" xlink:title=\"psysml:0dacd990-2b3a-4306-80d2-1e4fad6d04cd\" xlink:type=\"simple\"><polygon fill=\"#FFFFFF\" points=\"16,6,139,6,146,28.2969,688,28.2969,688,268,16,268,16,6\" style=\"stroke: #000000; stroke-width: 1.5;\"/><line style=\"stroke: #000000; stroke-width: 1.5;\" x1=\"16\" x2=\"146\" y1=\"28.2969\" y2=\"28.2969\"/><text fill=\"#000000\" font-family=\"sans-serif\" font-size=\"14\" font-weight=\"bold\" lengthAdjust=\"spacingAndGlyphs\" textLength=\"117\" x=\"20\" y=\"20.9951\">ParameterTest</text></a><!--MD5=[b4997ac47864f28c2f74865a473b2911]\n",
       "class E2--><a href=\"psysml:03a6349f-297b-4a78-b9ab-052989f96479\" target=\"_top\" title=\"psysml:03a6349f-297b-4a78-b9ab-052989f96479\" xlink:actuate=\"onRequest\" xlink:href=\"psysml:03a6349f-297b-4a78-b9ab-052989f96479\" xlink:show=\"new\" xlink:title=\"psysml:03a6349f-297b-4a78-b9ab-052989f96479\" xlink:type=\"simple\"><rect fill=\"#FFFFFF\" height=\"88.3516\" id=\"E2\" style=\"stroke: #383838; stroke-width: 1.5;\" width=\"95\" x=\"498.5\" y=\"164\"/><text fill=\"#000000\" font-family=\"sans-serif\" font-size=\"12\" font-style=\"italic\" lengthAdjust=\"spacingAndGlyphs\" textLength=\"93\" x=\"499.5\" y=\"180.1387\">«attribute def»</text><text fill=\"#000000\" font-family=\"sans-serif\" font-size=\"12\" lengthAdjust=\"spacingAndGlyphs\" textLength=\"8\" x=\"542\" y=\"194.1074\">A</text><line style=\"stroke: #383838; stroke-width: 1.5;\" x1=\"499.5\" x2=\"592.5\" y1=\"201.9375\" y2=\"201.9375\"/><text fill=\"#000000\" font-family=\"sans-serif\" font-size=\"11\" lengthAdjust=\"spacingAndGlyphs\" textLength=\"48\" x=\"504.5\" y=\"232.9526\">x: String</text><text fill=\"#000000\" font-family=\"sans-serif\" font-size=\"11\" lengthAdjust=\"spacingAndGlyphs\" textLength=\"21\" x=\"504.5\" y=\"245.7573\">y: A</text><line style=\"stroke: #383838; stroke-width: 1.0;\" x1=\"499.5\" x2=\"518.5\" y1=\"216.3398\" y2=\"216.3398\"/><text fill=\"#000000\" font-family=\"sans-serif\" font-size=\"11\" lengthAdjust=\"spacingAndGlyphs\" textLength=\"55\" x=\"518.5\" y=\"219.6479\">attributes</text><line style=\"stroke: #383838; stroke-width: 1.0;\" x1=\"573.5\" x2=\"592.5\" y1=\"216.3398\" y2=\"216.3398\"/></a><!--MD5=[09b614a08d8cba4a07c9adeb5e0fee81]\n",
       "class E3--><a href=\"psysml:d7af749e-ffc6-4773-972a-b8dfcfe9deb8\" target=\"_top\" title=\"psysml:d7af749e-ffc6-4773-972a-b8dfcfe9deb8\" xlink:actuate=\"onRequest\" xlink:href=\"psysml:d7af749e-ffc6-4773-972a-b8dfcfe9deb8\" xlink:show=\"new\" xlink:title=\"psysml:d7af749e-ffc6-4773-972a-b8dfcfe9deb8\" xlink:type=\"simple\"><rect fill=\"#FFFFFF\" height=\"45.9375\" id=\"E3\" rx=\"10\" ry=\"10\" style=\"stroke: #383838; stroke-width: 1.5;\" width=\"71\" x=\"600.5\" y=\"41\"/><text fill=\"#000000\" font-family=\"sans-serif\" font-size=\"12\" font-style=\"italic\" lengthAdjust=\"spacingAndGlyphs\" textLength=\"69\" x=\"601.5\" y=\"57.1387\">«attribute»</text><text fill=\"#000000\" font-family=\"sans-serif\" font-size=\"12\" lengthAdjust=\"spacingAndGlyphs\" textLength=\"24\" x=\"624\" y=\"71.1074\">a: A</text><line style=\"stroke: #383838; stroke-width: 1.5;\" x1=\"601.5\" x2=\"670.5\" y1=\"78.9375\" y2=\"78.9375\"/></a><!--MD5=[ebbe1d658d1005bcc118a6aa81145e00]\n",
       "class E4--><a href=\"psysml:cd1262f4-d3f9-4f52-89ee-1653680ad782\" target=\"_top\" title=\"psysml:cd1262f4-d3f9-4f52-89ee-1653680ad782\" xlink:actuate=\"onRequest\" xlink:href=\"psysml:cd1262f4-d3f9-4f52-89ee-1653680ad782\" xlink:show=\"new\" xlink:title=\"psysml:cd1262f4-d3f9-4f52-89ee-1653680ad782\" xlink:type=\"simple\"><rect fill=\"#FFFFFF\" height=\"45.9375\" id=\"E4\" style=\"stroke: #383838; stroke-width: 1.5;\" width=\"108\" x=\"457\" y=\"41\"/><text fill=\"#000000\" font-family=\"sans-serif\" font-size=\"12\" font-style=\"italic\" lengthAdjust=\"spacingAndGlyphs\" textLength=\"106\" x=\"458\" y=\"57.1387\">«calculation def»</text><text fill=\"#000000\" font-family=\"sans-serif\" font-size=\"12\" lengthAdjust=\"spacingAndGlyphs\" textLength=\"7\" x=\"507.5\" y=\"71.1074\">F</text><line style=\"stroke: #383838; stroke-width: 1.5;\" x1=\"458\" x2=\"564\" y1=\"78.9375\" y2=\"78.9375\"/></a><!--MD5=[270fce915f116d4de14055a7c1d9a0f3]\n",
       "class E5--><a href=\"psysml:e43abf7c-a809-48bd-8c78-cd0a53fbbdb6\" target=\"_top\" title=\"psysml:e43abf7c-a809-48bd-8c78-cd0a53fbbdb6\" xlink:actuate=\"onRequest\" xlink:href=\"psysml:e43abf7c-a809-48bd-8c78-cd0a53fbbdb6\" xlink:show=\"new\" xlink:title=\"psysml:e43abf7c-a809-48bd-8c78-cd0a53fbbdb6\" xlink:type=\"simple\"><rect fill=\"#FFFFFF\" height=\"45.9375\" id=\"E5\" rx=\"10\" ry=\"10\" style=\"stroke: #383838; stroke-width: 1.5;\" width=\"71\" x=\"350.5\" y=\"41\"/><text fill=\"#000000\" font-family=\"sans-serif\" font-size=\"12\" font-style=\"italic\" lengthAdjust=\"spacingAndGlyphs\" textLength=\"69\" x=\"351.5\" y=\"57.1387\">«attribute»</text><text fill=\"#000000\" font-family=\"sans-serif\" font-size=\"12\" lengthAdjust=\"spacingAndGlyphs\" textLength=\"4\" x=\"384\" y=\"71.1074\">f</text><line style=\"stroke: #383838; stroke-width: 1.5;\" x1=\"351.5\" x2=\"420.5\" y1=\"78.9375\" y2=\"78.9375\"/></a><!--MD5=[60a26617385b1d2d0262a64233df1f8d]\n",
       "class E6--><a href=\"psysml:04ff0b02-14ab-40e8-a866-ef9bcfd05ef7\" target=\"_top\" title=\"psysml:04ff0b02-14ab-40e8-a866-ef9bcfd05ef7\" xlink:actuate=\"onRequest\" xlink:href=\"psysml:04ff0b02-14ab-40e8-a866-ef9bcfd05ef7\" xlink:show=\"new\" xlink:title=\"psysml:04ff0b02-14ab-40e8-a866-ef9bcfd05ef7\" xlink:type=\"simple\"><rect fill=\"#FFFFFF\" height=\"45.9375\" id=\"E6\" rx=\"10\" ry=\"10\" style=\"stroke: #383838; stroke-width: 1.5;\" width=\"71\" x=\"244.5\" y=\"41\"/><text fill=\"#000000\" font-family=\"sans-serif\" font-size=\"12\" font-style=\"italic\" lengthAdjust=\"spacingAndGlyphs\" textLength=\"69\" x=\"245.5\" y=\"57.1387\">«attribute»</text><text fill=\"#000000\" font-family=\"sans-serif\" font-size=\"12\" lengthAdjust=\"spacingAndGlyphs\" textLength=\"8\" x=\"276\" y=\"71.1074\">g</text><line style=\"stroke: #383838; stroke-width: 1.5;\" x1=\"245.5\" x2=\"314.5\" y1=\"78.9375\" y2=\"78.9375\"/></a><!--MD5=[2156ba9850f5573cc1fc38a6a4b2f02b]\n",
       "class E7--><a href=\"psysml:37f56aff-8c9f-4a8e-95e0-50132129fb99\" target=\"_top\" title=\"psysml:37f56aff-8c9f-4a8e-95e0-50132129fb99\" xlink:actuate=\"onRequest\" xlink:href=\"psysml:37f56aff-8c9f-4a8e-95e0-50132129fb99\" xlink:show=\"new\" xlink:title=\"psysml:37f56aff-8c9f-4a8e-95e0-50132129fb99\" xlink:type=\"simple\"><rect fill=\"#FFFFFF\" height=\"45.9375\" id=\"E7\" rx=\"10\" ry=\"10\" style=\"stroke: #383838; stroke-width: 1.5;\" width=\"71\" x=\"138.5\" y=\"41\"/><text fill=\"#000000\" font-family=\"sans-serif\" font-size=\"12\" font-style=\"italic\" lengthAdjust=\"spacingAndGlyphs\" textLength=\"69\" x=\"139.5\" y=\"57.1387\">«attribute»</text><text fill=\"#000000\" font-family=\"sans-serif\" font-size=\"12\" lengthAdjust=\"spacingAndGlyphs\" textLength=\"8\" x=\"170\" y=\"71.1074\">b</text><line style=\"stroke: #383838; stroke-width: 1.5;\" x1=\"139.5\" x2=\"208.5\" y1=\"78.9375\" y2=\"78.9375\"/></a><!--MD5=[b9389687b975829384b498ac4b7476b2]\n",
       "class E8--><a href=\"psysml:6095b787-d7f9-43be-8b1b-f534282edd43\" target=\"_top\" title=\"psysml:6095b787-d7f9-43be-8b1b-f534282edd43\" xlink:actuate=\"onRequest\" xlink:href=\"psysml:6095b787-d7f9-43be-8b1b-f534282edd43\" xlink:show=\"new\" xlink:title=\"psysml:6095b787-d7f9-43be-8b1b-f534282edd43\" xlink:type=\"simple\"><rect fill=\"#FFFFFF\" height=\"45.9375\" id=\"E8\" rx=\"10\" ry=\"10\" style=\"stroke: #383838; stroke-width: 1.5;\" width=\"71\" x=\"32.5\" y=\"41\"/><text fill=\"#000000\" font-family=\"sans-serif\" font-size=\"12\" font-style=\"italic\" lengthAdjust=\"spacingAndGlyphs\" textLength=\"69\" x=\"33.5\" y=\"57.1387\">«attribute»</text><text fill=\"#000000\" font-family=\"sans-serif\" font-size=\"12\" lengthAdjust=\"spacingAndGlyphs\" textLength=\"7\" x=\"64.5\" y=\"71.1074\">c</text><line style=\"stroke: #383838; stroke-width: 1.5;\" x1=\"33.5\" x2=\"102.5\" y1=\"78.9375\" y2=\"78.9375\"/></a><!--MD5=[05d275557350bfb9b23a4ef7222b4c39]\n",
       "link E3 to E2--><a href=\"psysml:982c8c0e-9af2-4f93-8067-230d5c39d8a2\" target=\"_top\" title=\"psysml:982c8c0e-9af2-4f93-8067-230d5c39d8a2\" xlink:actuate=\"onRequest\" xlink:href=\"psysml:982c8c0e-9af2-4f93-8067-230d5c39d8a2\" xlink:show=\"new\" xlink:title=\"psysml:982c8c0e-9af2-4f93-8067-230d5c39d8a2\" xlink:type=\"simple\"><path d=\"M621.94,87.19 C611.77,103.23 597.51,125.73 584.09,146.9 \" fill=\"none\" id=\"E3-&gt;E2\" style=\"stroke: #383838; stroke-width: 1.0;\"/><polygon fill=\"#FFFFFF\" points=\"573.37,163.82,577.6195,144.0225,589.448,151.5115,573.37,163.82\" style=\"stroke: #383838; stroke-width: 1.0;\"/><ellipse cx=\"582.3584\" cy=\"140.2764\" fill=\"#383838\" rx=\"2\" ry=\"2\" style=\"stroke: #383838; stroke-width: 1.0;\"/><ellipse cx=\"590.8073\" cy=\"145.6258\" fill=\"#383838\" rx=\"2\" ry=\"2\" style=\"stroke: #383838; stroke-width: 1.0;\"/></a><!--MD5=[ddeed8deb2209213b62e6cfabaa108b2]\n",
       "reverse link E4 to E2--><a href=\"psysml:16d77514-2de6-4c2c-add7-8b8555ca417f\" target=\"_top\" title=\"psysml:16d77514-2de6-4c2c-add7-8b8555ca417f\" xlink:actuate=\"onRequest\" xlink:href=\"psysml:16d77514-2de6-4c2c-add7-8b8555ca417f\" xlink:show=\"new\" xlink:title=\"psysml:16d77514-2de6-4c2c-add7-8b8555ca417f\" xlink:type=\"simple\"><path d=\"M519.62,99.96 C524.37,119.25 530.31,143.36 535.36,163.82 \" fill=\"none\" id=\"E4&lt;-E2\" style=\"stroke: #383838; stroke-width: 1.0;\"/><polygon fill=\"#FFFFFF\" points=\"516.47,87.19,514.0229,93.9732,519.3432,98.841,521.7903,92.0577,516.47,87.19\" style=\"stroke: #383838; stroke-width: 1.0;\"/><text fill=\"#000000\" font-family=\"sans-serif\" font-size=\"13\" lengthAdjust=\"spacingAndGlyphs\" textLength=\"8\" x=\"528\" y=\"130.0669\">p</text></a><!--MD5=[78154e88347af41bce3b6919a51eb215]\n",
       "@startuml\r\n",
       "skinparam monochrome true\r\n",
       "skinparam classbackgroundcolor white\r\n",
       "skinparam shadowing false\r\n",
       "skinparam wrapWidth 300\r\n",
       "hide circle\r\n",
       "\r\n",
       "package \"ParameterTest\" as E1  [[psysml:0dacd990-2b3a-4306-80d2-1e4fad6d04cd ]]  {\r\n",
       "comp def \"A\" as E2  <<(T,blue)attribute def>> [[psysml:03a6349f-297b-4a78-b9ab-052989f96479 ]] {\r\n",
       "- - attributes - -\r\n",
       "x: String\r\n",
       "y: A\r\n",
       "}\r\n",
       "comp usage \"a: A\" as E3  <<(T,blue)attribute>> [[psysml:d7af749e-ffc6-4773-972a-b8dfcfe9deb8 ]] {\r\n",
       "}\r\n",
       "comp def \"F\" as E4  <<(T,blue)calculation def>> [[psysml:cd1262f4-d3f9-4f52-89ee-1653680ad782 ]] {\r\n",
       "}\r\n",
       "comp usage \"f\" as E5  <<(T,blue)attribute>> [[psysml:e43abf7c-a809-48bd-8c78-cd0a53fbbdb6 ]] {\r\n",
       "}\r\n",
       "comp usage \"g\" as E6  <<(T,blue)attribute>> [[psysml:04ff0b02-14ab-40e8-a866-ef9bcfd05ef7 ]] {\r\n",
       "}\r\n",
       "comp usage \"b\" as E7  <<(T,blue)attribute>> [[psysml:37f56aff-8c9f-4a8e-95e0-50132129fb99 ]] {\r\n",
       "}\r\n",
       "comp usage \"c\" as E8  <<(T,blue)attribute>> [[psysml:6095b787-d7f9-43be-8b1b-f534282edd43 ]] {\r\n",
       "}\r\n",
       "E3 - -:|> E2 [[psysml:982c8c0e-9af2-4f93-8067-230d5c39d8a2 ]] \r\n",
       "E4 o- - E2 [[psysml:16d77514-2de6-4c2c-add7-8b8555ca417f ]] : p\r\n",
       "}\r\n",
       "@enduml\r\n",
       "\n",
       "PlantUML version 1.2020.13(Sat Jun 13 12:26:38 UTC 2020)\n",
       "(EPL source distribution)\n",
       "Java Runtime: OpenJDK Runtime Environment\n",
       "JVM: OpenJDK 64-Bit Server VM\n",
       "Default Encoding: UTF-8\n",
       "Language: en\n",
       "Country: null\n",
       "--></g></svg>"
      ]
     },
     "execution_count": 42,
     "metadata": {},
     "output_type": "execute_result"
    }
   ],
   "source": [
    "%viz --style=\"DEFAULT\" --view=\"Sequence\" \"ParameterTest\""
   ]
  },
  {
   "cell_type": "code",
   "execution_count": 43,
   "id": "separate-lincoln",
   "metadata": {
    "execution": {
     "iopub.execute_input": "2021-03-24T16:28:56.040850Z",
     "iopub.status.busy": "2021-03-24T16:28:56.040282Z",
     "iopub.status.idle": "2021-03-24T16:28:56.087397Z",
     "shell.execute_reply": "2021-03-24T16:28:56.085780Z"
    }
   },
   "outputs": [
    {
     "data": {
      "image/svg+xml": [
       "<?xml version=\"1.0\" encoding=\"UTF-8\" standalone=\"no\"?><svg xmlns=\"http://www.w3.org/2000/svg\" xmlns:xlink=\"http://www.w3.org/1999/xlink\" contentScriptType=\"application/ecmascript\" contentStyleType=\"text/css\" height=\"403px\" preserveAspectRatio=\"none\" style=\"width:740px;height:403px;\" version=\"1.1\" viewBox=\"0 0 740 403\" width=\"740px\" zoomAndPan=\"magnify\"><defs/><g><!--MD5=[fbc87193dbaf4d95561dea2c320d4a47]\n",
       "cluster E1--><a href=\"psysml:0dacd990-2b3a-4306-80d2-1e4fad6d04cd\" target=\"_top\" title=\"psysml:0dacd990-2b3a-4306-80d2-1e4fad6d04cd\" xlink:actuate=\"onRequest\" xlink:href=\"psysml:0dacd990-2b3a-4306-80d2-1e4fad6d04cd\" xlink:show=\"new\" xlink:title=\"psysml:0dacd990-2b3a-4306-80d2-1e4fad6d04cd\" xlink:type=\"simple\"><polygon fill=\"#FFFFFF\" points=\"16,6,139,6,146,28.2969,718,28.2969,718,391.72,16,391.72,16,6\" style=\"stroke: #000000; stroke-width: 1.5;\"/><line style=\"stroke: #000000; stroke-width: 1.5;\" x1=\"16\" x2=\"146\" y1=\"28.2969\" y2=\"28.2969\"/><text fill=\"#000000\" font-family=\"sans-serif\" font-size=\"14\" font-weight=\"bold\" lengthAdjust=\"spacingAndGlyphs\" textLength=\"117\" x=\"20\" y=\"20.9951\">ParameterTest</text></a><!--MD5=[f6df4d0ebaf0b5dfb2ced0ae5af7c670]\n",
       "cluster E4--><a href=\"psysml:cd1262f4-d3f9-4f52-89ee-1653680ad782\" target=\"_top\" title=\"psysml:cd1262f4-d3f9-4f52-89ee-1653680ad782\" xlink:actuate=\"onRequest\" xlink:href=\"psysml:cd1262f4-d3f9-4f52-89ee-1653680ad782\" xlink:show=\"new\" xlink:title=\"psysml:cd1262f4-d3f9-4f52-89ee-1653680ad782\" xlink:type=\"simple\"><rect fill=\"#FFFFFF\" height=\"297.72\" id=\"E4\" style=\"stroke: #383838; stroke-width: 1.5;\" width=\"148\" x=\"554\" y=\"64\"/><rect fill=\"#F8F8F8\" height=\"37.9375\" style=\"stroke: #383838; stroke-width: 1.5;\" width=\"148\" x=\"554\" y=\"64\"/><text fill=\"#000000\" font-family=\"sans-serif\" font-size=\"12\" font-style=\"italic\" lengthAdjust=\"spacingAndGlyphs\" textLength=\"106\" x=\"575\" y=\"80.1387\">«calculation def»</text><text fill=\"#000000\" font-family=\"sans-serif\" font-size=\"12\" lengthAdjust=\"spacingAndGlyphs\" textLength=\"7\" x=\"624.5\" y=\"94.1074\">F</text></a><!--MD5=[b4997ac47864f28c2f74865a473b2911]\n",
       "class E2--><a href=\"psysml:03a6349f-297b-4a78-b9ab-052989f96479\" target=\"_top\" title=\"psysml:03a6349f-297b-4a78-b9ab-052989f96479\" xlink:actuate=\"onRequest\" xlink:href=\"psysml:03a6349f-297b-4a78-b9ab-052989f96479\" xlink:show=\"new\" xlink:title=\"psysml:03a6349f-297b-4a78-b9ab-052989f96479\" xlink:type=\"simple\"><rect fill=\"#FFFFFF\" height=\"88.3516\" id=\"E2\" style=\"stroke: #383838; stroke-width: 1.5;\" width=\"95\" x=\"422.5\" y=\"147\"/><text fill=\"#000000\" font-family=\"sans-serif\" font-size=\"12\" font-style=\"italic\" lengthAdjust=\"spacingAndGlyphs\" textLength=\"93\" x=\"423.5\" y=\"163.1387\">«attribute def»</text><text fill=\"#000000\" font-family=\"sans-serif\" font-size=\"12\" lengthAdjust=\"spacingAndGlyphs\" textLength=\"8\" x=\"466\" y=\"177.1074\">A</text><line style=\"stroke: #383838; stroke-width: 1.5;\" x1=\"423.5\" x2=\"516.5\" y1=\"184.9375\" y2=\"184.9375\"/><text fill=\"#000000\" font-family=\"sans-serif\" font-size=\"11\" lengthAdjust=\"spacingAndGlyphs\" textLength=\"48\" x=\"428.5\" y=\"215.9526\">x: String</text><text fill=\"#000000\" font-family=\"sans-serif\" font-size=\"11\" lengthAdjust=\"spacingAndGlyphs\" textLength=\"21\" x=\"428.5\" y=\"228.7573\">y: A</text><line style=\"stroke: #383838; stroke-width: 1.0;\" x1=\"423.5\" x2=\"442.5\" y1=\"199.3398\" y2=\"199.3398\"/><text fill=\"#000000\" font-family=\"sans-serif\" font-size=\"11\" lengthAdjust=\"spacingAndGlyphs\" textLength=\"55\" x=\"442.5\" y=\"202.6479\">attributes</text><line style=\"stroke: #383838; stroke-width: 1.0;\" x1=\"497.5\" x2=\"516.5\" y1=\"199.3398\" y2=\"199.3398\"/></a><!--MD5=[09b614a08d8cba4a07c9adeb5e0fee81]\n",
       "class E3--><a href=\"psysml:d7af749e-ffc6-4773-972a-b8dfcfe9deb8\" target=\"_top\" title=\"psysml:d7af749e-ffc6-4773-972a-b8dfcfe9deb8\" xlink:actuate=\"onRequest\" xlink:href=\"psysml:d7af749e-ffc6-4773-972a-b8dfcfe9deb8\" xlink:show=\"new\" xlink:title=\"psysml:d7af749e-ffc6-4773-972a-b8dfcfe9deb8\" xlink:type=\"simple\"><rect fill=\"#FFFFFF\" height=\"45.9375\" id=\"E3\" rx=\"10\" ry=\"10\" style=\"stroke: #383838; stroke-width: 1.5;\" width=\"71\" x=\"456.5\" y=\"41\"/><text fill=\"#000000\" font-family=\"sans-serif\" font-size=\"12\" font-style=\"italic\" lengthAdjust=\"spacingAndGlyphs\" textLength=\"69\" x=\"457.5\" y=\"57.1387\">«attribute»</text><text fill=\"#000000\" font-family=\"sans-serif\" font-size=\"12\" lengthAdjust=\"spacingAndGlyphs\" textLength=\"24\" x=\"480\" y=\"71.1074\">a: A</text><line style=\"stroke: #383838; stroke-width: 1.5;\" x1=\"457.5\" x2=\"526.5\" y1=\"78.9375\" y2=\"78.9375\"/></a><!--MD5=[b9389687b975829384b498ac4b7476b2]\n",
       "class E8--><a href=\"psysml:e43abf7c-a809-48bd-8c78-cd0a53fbbdb6\" target=\"_top\" title=\"psysml:e43abf7c-a809-48bd-8c78-cd0a53fbbdb6\" xlink:actuate=\"onRequest\" xlink:href=\"psysml:e43abf7c-a809-48bd-8c78-cd0a53fbbdb6\" xlink:show=\"new\" xlink:title=\"psysml:e43abf7c-a809-48bd-8c78-cd0a53fbbdb6\" xlink:type=\"simple\"><rect fill=\"#FFFFFF\" height=\"45.9375\" id=\"E8\" rx=\"10\" ry=\"10\" style=\"stroke: #383838; stroke-width: 1.5;\" width=\"71\" x=\"350.5\" y=\"41\"/><text fill=\"#000000\" font-family=\"sans-serif\" font-size=\"12\" font-style=\"italic\" lengthAdjust=\"spacingAndGlyphs\" textLength=\"69\" x=\"351.5\" y=\"57.1387\">«attribute»</text><text fill=\"#000000\" font-family=\"sans-serif\" font-size=\"12\" lengthAdjust=\"spacingAndGlyphs\" textLength=\"4\" x=\"384\" y=\"71.1074\">f</text><line style=\"stroke: #383838; stroke-width: 1.5;\" x1=\"351.5\" x2=\"420.5\" y1=\"78.9375\" y2=\"78.9375\"/></a><!--MD5=[fd4143e9d270a159db93a4ea2a975926]\n",
       "class E9--><a href=\"psysml:04ff0b02-14ab-40e8-a866-ef9bcfd05ef7\" target=\"_top\" title=\"psysml:04ff0b02-14ab-40e8-a866-ef9bcfd05ef7\" xlink:actuate=\"onRequest\" xlink:href=\"psysml:04ff0b02-14ab-40e8-a866-ef9bcfd05ef7\" xlink:show=\"new\" xlink:title=\"psysml:04ff0b02-14ab-40e8-a866-ef9bcfd05ef7\" xlink:type=\"simple\"><rect fill=\"#FFFFFF\" height=\"45.9375\" id=\"E9\" rx=\"10\" ry=\"10\" style=\"stroke: #383838; stroke-width: 1.5;\" width=\"71\" x=\"244.5\" y=\"41\"/><text fill=\"#000000\" font-family=\"sans-serif\" font-size=\"12\" font-style=\"italic\" lengthAdjust=\"spacingAndGlyphs\" textLength=\"69\" x=\"245.5\" y=\"57.1387\">«attribute»</text><text fill=\"#000000\" font-family=\"sans-serif\" font-size=\"12\" lengthAdjust=\"spacingAndGlyphs\" textLength=\"8\" x=\"276\" y=\"71.1074\">g</text><line style=\"stroke: #383838; stroke-width: 1.5;\" x1=\"245.5\" x2=\"314.5\" y1=\"78.9375\" y2=\"78.9375\"/></a><!--MD5=[96f4274e9e20536e775497830990834d]\n",
       "class E10--><a href=\"psysml:37f56aff-8c9f-4a8e-95e0-50132129fb99\" target=\"_top\" title=\"psysml:37f56aff-8c9f-4a8e-95e0-50132129fb99\" xlink:actuate=\"onRequest\" xlink:href=\"psysml:37f56aff-8c9f-4a8e-95e0-50132129fb99\" xlink:show=\"new\" xlink:title=\"psysml:37f56aff-8c9f-4a8e-95e0-50132129fb99\" xlink:type=\"simple\"><rect fill=\"#FFFFFF\" height=\"45.9375\" id=\"E10\" rx=\"10\" ry=\"10\" style=\"stroke: #383838; stroke-width: 1.5;\" width=\"71\" x=\"138.5\" y=\"41\"/><text fill=\"#000000\" font-family=\"sans-serif\" font-size=\"12\" font-style=\"italic\" lengthAdjust=\"spacingAndGlyphs\" textLength=\"69\" x=\"139.5\" y=\"57.1387\">«attribute»</text><text fill=\"#000000\" font-family=\"sans-serif\" font-size=\"12\" lengthAdjust=\"spacingAndGlyphs\" textLength=\"8\" x=\"170\" y=\"71.1074\">b</text><line style=\"stroke: #383838; stroke-width: 1.5;\" x1=\"139.5\" x2=\"208.5\" y1=\"78.9375\" y2=\"78.9375\"/></a><!--MD5=[1dd1bfd58a279cf63c5f349dbc8fc6a1]\n",
       "class E11--><a href=\"psysml:6095b787-d7f9-43be-8b1b-f534282edd43\" target=\"_top\" title=\"psysml:6095b787-d7f9-43be-8b1b-f534282edd43\" xlink:actuate=\"onRequest\" xlink:href=\"psysml:6095b787-d7f9-43be-8b1b-f534282edd43\" xlink:show=\"new\" xlink:title=\"psysml:6095b787-d7f9-43be-8b1b-f534282edd43\" xlink:type=\"simple\"><rect fill=\"#FFFFFF\" height=\"45.9375\" id=\"E11\" rx=\"10\" ry=\"10\" style=\"stroke: #383838; stroke-width: 1.5;\" width=\"71\" x=\"32.5\" y=\"41\"/><text fill=\"#000000\" font-family=\"sans-serif\" font-size=\"12\" font-style=\"italic\" lengthAdjust=\"spacingAndGlyphs\" textLength=\"69\" x=\"33.5\" y=\"57.1387\">«attribute»</text><text fill=\"#000000\" font-family=\"sans-serif\" font-size=\"12\" lengthAdjust=\"spacingAndGlyphs\" textLength=\"7\" x=\"64.5\" y=\"71.1074\">c</text><line style=\"stroke: #383838; stroke-width: 1.5;\" x1=\"33.5\" x2=\"102.5\" y1=\"78.9375\" y2=\"78.9375\"/></a><text fill=\"#000000\" font-family=\"sans-serif\" font-size=\"14\" lengthAdjust=\"spacingAndGlyphs\" textLength=\"9\" x=\"567.5\" y=\"42.6982\">p</text><rect fill=\"#383838\" height=\"12\" style=\"stroke: #F8F8F8; stroke-width: 1.5;\" width=\"12\" x=\"566\" y=\"58\"/><text fill=\"#000000\" font-family=\"sans-serif\" font-size=\"14\" lengthAdjust=\"spacingAndGlyphs\" textLength=\"9\" x=\"614.5\" y=\"42.6982\">q</text><rect fill=\"#383838\" height=\"12\" style=\"stroke: #F8F8F8; stroke-width: 1.5;\" width=\"12\" x=\"613\" y=\"58\"/><text fill=\"#000000\" font-family=\"sans-serif\" font-size=\"14\" lengthAdjust=\"spacingAndGlyphs\" textLength=\"57\" x=\"590.5\" y=\"380.7151\">noname</text><rect fill=\"#383838\" height=\"12\" style=\"stroke: #F8F8F8; stroke-width: 1.5;\" width=\"12\" x=\"613\" y=\"355.72\"/><!--MD5=[05d275557350bfb9b23a4ef7222b4c39]\n",
       "link E3 to E2--><a href=\"psysml:982c8c0e-9af2-4f93-8067-230d5c39d8a2\" target=\"_top\" title=\"psysml:982c8c0e-9af2-4f93-8067-230d5c39d8a2\" xlink:actuate=\"onRequest\" xlink:href=\"psysml:982c8c0e-9af2-4f93-8067-230d5c39d8a2\" xlink:show=\"new\" xlink:title=\"psysml:982c8c0e-9af2-4f93-8067-230d5c39d8a2\" xlink:type=\"simple\"><path d=\"M488.12,87.06 C486.14,98.3 483.62,112.6 481.1,126.95 \" fill=\"none\" id=\"E3-&gt;E2\" style=\"stroke: #383838; stroke-width: 1.0;\"/><polygon fill=\"#FFFFFF\" points=\"477.58,146.93,473.9835,127.0035,487.7711,129.4331,477.58,146.93\" style=\"stroke: #383838; stroke-width: 1.0;\"/><ellipse cx=\"476.9423\" cy=\"121.7371\" fill=\"#383838\" rx=\"2\" ry=\"2\" style=\"stroke: #383838; stroke-width: 1.0;\"/><ellipse cx=\"486.7906\" cy=\"123.4725\" fill=\"#383838\" rx=\"2\" ry=\"2\" style=\"stroke: #383838; stroke-width: 1.0;\"/></a><!--MD5=[0ba22f8318a6c4ff18d8c24fbcd46230]\n",
       "@startuml\r\n",
       "skinparam monochrome true\r\n",
       "skinparam classbackgroundcolor white\r\n",
       "skinparam shadowing false\r\n",
       "skinparam wrapWidth 300\r\n",
       "hide circle\r\n",
       "\r\n",
       "package \"ParameterTest\" as E1  [[psysml:0dacd990-2b3a-4306-80d2-1e4fad6d04cd ]]  {\r\n",
       "comp def \"A\" as E2  <<(T,blue)attribute def>> [[psysml:03a6349f-297b-4a78-b9ab-052989f96479 ]] {\r\n",
       "- - attributes - -\r\n",
       "x: String\r\n",
       "y: A\r\n",
       "}\r\n",
       "comp usage \"a: A\" as E3  <<(T,blue)attribute>> [[psysml:d7af749e-ffc6-4773-972a-b8dfcfe9deb8 ]] {\r\n",
       "}\r\n",
       "rec def \"F\" as E4  <<(T,blue)calculation def>> [[psysml:cd1262f4-d3f9-4f52-89ee-1653680ad782 ]] {\r\n",
       "portin \"p\" as E5  [[psysml:16d77514-2de6-4c2c-add7-8b8555ca417f ]] \r\n",
       "portin \"q\" as E6  [[psysml:85e14753-ca59-4cde-8265-18a8cb4b45d6 ]] \r\n",
       "portout \"noname\" as E7  [[psysml:99b94083-4aa7-41fb-8d8e-135498f03bbe ]] \r\n",
       "}\r\n",
       "\r\n",
       "comp usage \"f\" as E8  <<(T,blue)attribute>> [[psysml:e43abf7c-a809-48bd-8c78-cd0a53fbbdb6 ]] {\r\n",
       "}\r\n",
       "comp usage \"g\" as E9  <<(T,blue)attribute>> [[psysml:04ff0b02-14ab-40e8-a866-ef9bcfd05ef7 ]] {\r\n",
       "}\r\n",
       "comp usage \"b\" as E10  <<(T,blue)attribute>> [[psysml:37f56aff-8c9f-4a8e-95e0-50132129fb99 ]] {\r\n",
       "}\r\n",
       "comp usage \"c\" as E11  <<(T,blue)attribute>> [[psysml:6095b787-d7f9-43be-8b1b-f534282edd43 ]] {\r\n",
       "}\r\n",
       "E3 - -:|> E2 [[psysml:982c8c0e-9af2-4f93-8067-230d5c39d8a2 ]] \r\n",
       "}\r\n",
       "@enduml\r\n",
       "\n",
       "PlantUML version 1.2020.13(Sat Jun 13 12:26:38 UTC 2020)\n",
       "(EPL source distribution)\n",
       "Java Runtime: OpenJDK Runtime Environment\n",
       "JVM: OpenJDK 64-Bit Server VM\n",
       "Default Encoding: UTF-8\n",
       "Language: en\n",
       "Country: null\n",
       "--></g></svg>"
      ]
     },
     "execution_count": 43,
     "metadata": {},
     "output_type": "execute_result"
    }
   ],
   "source": [
    "%viz --style=\"DEFAULT\" --view=\"MIXED\" \"ParameterTest\""
   ]
  },
  {
   "cell_type": "code",
   "execution_count": 44,
   "id": "restricted-university",
   "metadata": {
    "execution": {
     "iopub.execute_input": "2021-03-24T16:28:56.136905Z",
     "iopub.status.busy": "2021-03-24T16:28:56.136177Z",
     "iopub.status.idle": "2021-03-24T16:28:56.185508Z",
     "shell.execute_reply": "2021-03-24T16:28:56.185207Z"
    }
   },
   "outputs": [
    {
     "data": {
      "image/svg+xml": [
       "<?xml version=\"1.0\" encoding=\"UTF-8\" standalone=\"no\"?><svg xmlns=\"http://www.w3.org/2000/svg\" xmlns:xlink=\"http://www.w3.org/1999/xlink\" contentScriptType=\"application/ecmascript\" contentStyleType=\"text/css\" height=\"403px\" preserveAspectRatio=\"none\" style=\"width:740px;height:403px;\" version=\"1.1\" viewBox=\"0 0 740 403\" width=\"740px\" zoomAndPan=\"magnify\"><defs/><g><!--MD5=[fbc87193dbaf4d95561dea2c320d4a47]\n",
       "cluster E1--><a href=\"psysml:0dacd990-2b3a-4306-80d2-1e4fad6d04cd\" target=\"_top\" title=\"psysml:0dacd990-2b3a-4306-80d2-1e4fad6d04cd\" xlink:actuate=\"onRequest\" xlink:href=\"psysml:0dacd990-2b3a-4306-80d2-1e4fad6d04cd\" xlink:show=\"new\" xlink:title=\"psysml:0dacd990-2b3a-4306-80d2-1e4fad6d04cd\" xlink:type=\"simple\"><polygon fill=\"#FFFFFF\" points=\"16,6,139,6,146,28.2969,718,28.2969,718,391.72,16,391.72,16,6\" style=\"stroke: #000000; stroke-width: 1.5;\"/><line style=\"stroke: #000000; stroke-width: 1.5;\" x1=\"16\" x2=\"146\" y1=\"28.2969\" y2=\"28.2969\"/><text fill=\"#000000\" font-family=\"sans-serif\" font-size=\"14\" font-weight=\"bold\" lengthAdjust=\"spacingAndGlyphs\" textLength=\"117\" x=\"20\" y=\"20.9951\">ParameterTest</text></a><!--MD5=[f6df4d0ebaf0b5dfb2ced0ae5af7c670]\n",
       "cluster E4--><a href=\"psysml:cd1262f4-d3f9-4f52-89ee-1653680ad782\" target=\"_top\" title=\"psysml:cd1262f4-d3f9-4f52-89ee-1653680ad782\" xlink:actuate=\"onRequest\" xlink:href=\"psysml:cd1262f4-d3f9-4f52-89ee-1653680ad782\" xlink:show=\"new\" xlink:title=\"psysml:cd1262f4-d3f9-4f52-89ee-1653680ad782\" xlink:type=\"simple\"><rect fill=\"#FFFFFF\" height=\"297.72\" id=\"E4\" style=\"stroke: #383838; stroke-width: 1.5;\" width=\"148\" x=\"554\" y=\"64\"/><rect fill=\"#F8F8F8\" height=\"37.9375\" style=\"stroke: #383838; stroke-width: 1.5;\" width=\"148\" x=\"554\" y=\"64\"/><text fill=\"#000000\" font-family=\"sans-serif\" font-size=\"12\" font-style=\"italic\" lengthAdjust=\"spacingAndGlyphs\" textLength=\"106\" x=\"575\" y=\"80.1387\">«calculation def»</text><text fill=\"#000000\" font-family=\"sans-serif\" font-size=\"12\" lengthAdjust=\"spacingAndGlyphs\" textLength=\"7\" x=\"624.5\" y=\"94.1074\">F</text></a><!--MD5=[b4997ac47864f28c2f74865a473b2911]\n",
       "class E2--><a href=\"psysml:03a6349f-297b-4a78-b9ab-052989f96479\" target=\"_top\" title=\"psysml:03a6349f-297b-4a78-b9ab-052989f96479\" xlink:actuate=\"onRequest\" xlink:href=\"psysml:03a6349f-297b-4a78-b9ab-052989f96479\" xlink:show=\"new\" xlink:title=\"psysml:03a6349f-297b-4a78-b9ab-052989f96479\" xlink:type=\"simple\"><rect fill=\"#FFFFFF\" height=\"88.3516\" id=\"E2\" style=\"stroke: #383838; stroke-width: 1.5;\" width=\"95\" x=\"422.5\" y=\"147\"/><text fill=\"#000000\" font-family=\"sans-serif\" font-size=\"12\" font-style=\"italic\" lengthAdjust=\"spacingAndGlyphs\" textLength=\"93\" x=\"423.5\" y=\"163.1387\">«attribute def»</text><text fill=\"#000000\" font-family=\"sans-serif\" font-size=\"12\" lengthAdjust=\"spacingAndGlyphs\" textLength=\"8\" x=\"466\" y=\"177.1074\">A</text><line style=\"stroke: #383838; stroke-width: 1.5;\" x1=\"423.5\" x2=\"516.5\" y1=\"184.9375\" y2=\"184.9375\"/><text fill=\"#000000\" font-family=\"sans-serif\" font-size=\"11\" lengthAdjust=\"spacingAndGlyphs\" textLength=\"48\" x=\"428.5\" y=\"215.9526\">x: String</text><text fill=\"#000000\" font-family=\"sans-serif\" font-size=\"11\" lengthAdjust=\"spacingAndGlyphs\" textLength=\"21\" x=\"428.5\" y=\"228.7573\">y: A</text><line style=\"stroke: #383838; stroke-width: 1.0;\" x1=\"423.5\" x2=\"442.5\" y1=\"199.3398\" y2=\"199.3398\"/><text fill=\"#000000\" font-family=\"sans-serif\" font-size=\"11\" lengthAdjust=\"spacingAndGlyphs\" textLength=\"55\" x=\"442.5\" y=\"202.6479\">attributes</text><line style=\"stroke: #383838; stroke-width: 1.0;\" x1=\"497.5\" x2=\"516.5\" y1=\"199.3398\" y2=\"199.3398\"/></a><!--MD5=[09b614a08d8cba4a07c9adeb5e0fee81]\n",
       "class E3--><a href=\"psysml:d7af749e-ffc6-4773-972a-b8dfcfe9deb8\" target=\"_top\" title=\"psysml:d7af749e-ffc6-4773-972a-b8dfcfe9deb8\" xlink:actuate=\"onRequest\" xlink:href=\"psysml:d7af749e-ffc6-4773-972a-b8dfcfe9deb8\" xlink:show=\"new\" xlink:title=\"psysml:d7af749e-ffc6-4773-972a-b8dfcfe9deb8\" xlink:type=\"simple\"><rect fill=\"#FFFFFF\" height=\"45.9375\" id=\"E3\" rx=\"10\" ry=\"10\" style=\"stroke: #383838; stroke-width: 1.5;\" width=\"71\" x=\"456.5\" y=\"41\"/><text fill=\"#000000\" font-family=\"sans-serif\" font-size=\"12\" font-style=\"italic\" lengthAdjust=\"spacingAndGlyphs\" textLength=\"69\" x=\"457.5\" y=\"57.1387\">«attribute»</text><text fill=\"#000000\" font-family=\"sans-serif\" font-size=\"12\" lengthAdjust=\"spacingAndGlyphs\" textLength=\"24\" x=\"480\" y=\"71.1074\">a: A</text><line style=\"stroke: #383838; stroke-width: 1.5;\" x1=\"457.5\" x2=\"526.5\" y1=\"78.9375\" y2=\"78.9375\"/></a><!--MD5=[b9389687b975829384b498ac4b7476b2]\n",
       "class E8--><a href=\"psysml:e43abf7c-a809-48bd-8c78-cd0a53fbbdb6\" target=\"_top\" title=\"psysml:e43abf7c-a809-48bd-8c78-cd0a53fbbdb6\" xlink:actuate=\"onRequest\" xlink:href=\"psysml:e43abf7c-a809-48bd-8c78-cd0a53fbbdb6\" xlink:show=\"new\" xlink:title=\"psysml:e43abf7c-a809-48bd-8c78-cd0a53fbbdb6\" xlink:type=\"simple\"><rect fill=\"#FFFFFF\" height=\"45.9375\" id=\"E8\" rx=\"10\" ry=\"10\" style=\"stroke: #383838; stroke-width: 1.5;\" width=\"71\" x=\"350.5\" y=\"41\"/><text fill=\"#000000\" font-family=\"sans-serif\" font-size=\"12\" font-style=\"italic\" lengthAdjust=\"spacingAndGlyphs\" textLength=\"69\" x=\"351.5\" y=\"57.1387\">«attribute»</text><text fill=\"#000000\" font-family=\"sans-serif\" font-size=\"12\" lengthAdjust=\"spacingAndGlyphs\" textLength=\"4\" x=\"384\" y=\"71.1074\">f</text><line style=\"stroke: #383838; stroke-width: 1.5;\" x1=\"351.5\" x2=\"420.5\" y1=\"78.9375\" y2=\"78.9375\"/></a><!--MD5=[fd4143e9d270a159db93a4ea2a975926]\n",
       "class E9--><a href=\"psysml:04ff0b02-14ab-40e8-a866-ef9bcfd05ef7\" target=\"_top\" title=\"psysml:04ff0b02-14ab-40e8-a866-ef9bcfd05ef7\" xlink:actuate=\"onRequest\" xlink:href=\"psysml:04ff0b02-14ab-40e8-a866-ef9bcfd05ef7\" xlink:show=\"new\" xlink:title=\"psysml:04ff0b02-14ab-40e8-a866-ef9bcfd05ef7\" xlink:type=\"simple\"><rect fill=\"#FFFFFF\" height=\"45.9375\" id=\"E9\" rx=\"10\" ry=\"10\" style=\"stroke: #383838; stroke-width: 1.5;\" width=\"71\" x=\"244.5\" y=\"41\"/><text fill=\"#000000\" font-family=\"sans-serif\" font-size=\"12\" font-style=\"italic\" lengthAdjust=\"spacingAndGlyphs\" textLength=\"69\" x=\"245.5\" y=\"57.1387\">«attribute»</text><text fill=\"#000000\" font-family=\"sans-serif\" font-size=\"12\" lengthAdjust=\"spacingAndGlyphs\" textLength=\"8\" x=\"276\" y=\"71.1074\">g</text><line style=\"stroke: #383838; stroke-width: 1.5;\" x1=\"245.5\" x2=\"314.5\" y1=\"78.9375\" y2=\"78.9375\"/></a><!--MD5=[96f4274e9e20536e775497830990834d]\n",
       "class E10--><a href=\"psysml:37f56aff-8c9f-4a8e-95e0-50132129fb99\" target=\"_top\" title=\"psysml:37f56aff-8c9f-4a8e-95e0-50132129fb99\" xlink:actuate=\"onRequest\" xlink:href=\"psysml:37f56aff-8c9f-4a8e-95e0-50132129fb99\" xlink:show=\"new\" xlink:title=\"psysml:37f56aff-8c9f-4a8e-95e0-50132129fb99\" xlink:type=\"simple\"><rect fill=\"#FFFFFF\" height=\"45.9375\" id=\"E10\" rx=\"10\" ry=\"10\" style=\"stroke: #383838; stroke-width: 1.5;\" width=\"71\" x=\"138.5\" y=\"41\"/><text fill=\"#000000\" font-family=\"sans-serif\" font-size=\"12\" font-style=\"italic\" lengthAdjust=\"spacingAndGlyphs\" textLength=\"69\" x=\"139.5\" y=\"57.1387\">«attribute»</text><text fill=\"#000000\" font-family=\"sans-serif\" font-size=\"12\" lengthAdjust=\"spacingAndGlyphs\" textLength=\"8\" x=\"170\" y=\"71.1074\">b</text><line style=\"stroke: #383838; stroke-width: 1.5;\" x1=\"139.5\" x2=\"208.5\" y1=\"78.9375\" y2=\"78.9375\"/></a><!--MD5=[1dd1bfd58a279cf63c5f349dbc8fc6a1]\n",
       "class E11--><a href=\"psysml:6095b787-d7f9-43be-8b1b-f534282edd43\" target=\"_top\" title=\"psysml:6095b787-d7f9-43be-8b1b-f534282edd43\" xlink:actuate=\"onRequest\" xlink:href=\"psysml:6095b787-d7f9-43be-8b1b-f534282edd43\" xlink:show=\"new\" xlink:title=\"psysml:6095b787-d7f9-43be-8b1b-f534282edd43\" xlink:type=\"simple\"><rect fill=\"#FFFFFF\" height=\"45.9375\" id=\"E11\" rx=\"10\" ry=\"10\" style=\"stroke: #383838; stroke-width: 1.5;\" width=\"71\" x=\"32.5\" y=\"41\"/><text fill=\"#000000\" font-family=\"sans-serif\" font-size=\"12\" font-style=\"italic\" lengthAdjust=\"spacingAndGlyphs\" textLength=\"69\" x=\"33.5\" y=\"57.1387\">«attribute»</text><text fill=\"#000000\" font-family=\"sans-serif\" font-size=\"12\" lengthAdjust=\"spacingAndGlyphs\" textLength=\"7\" x=\"64.5\" y=\"71.1074\">c</text><line style=\"stroke: #383838; stroke-width: 1.5;\" x1=\"33.5\" x2=\"102.5\" y1=\"78.9375\" y2=\"78.9375\"/></a><text fill=\"#000000\" font-family=\"sans-serif\" font-size=\"14\" lengthAdjust=\"spacingAndGlyphs\" textLength=\"9\" x=\"567.5\" y=\"42.6982\">p</text><rect fill=\"#383838\" height=\"12\" style=\"stroke: #F8F8F8; stroke-width: 1.5;\" width=\"12\" x=\"566\" y=\"58\"/><text fill=\"#000000\" font-family=\"sans-serif\" font-size=\"14\" lengthAdjust=\"spacingAndGlyphs\" textLength=\"9\" x=\"614.5\" y=\"42.6982\">q</text><rect fill=\"#383838\" height=\"12\" style=\"stroke: #F8F8F8; stroke-width: 1.5;\" width=\"12\" x=\"613\" y=\"58\"/><text fill=\"#000000\" font-family=\"sans-serif\" font-size=\"14\" lengthAdjust=\"spacingAndGlyphs\" textLength=\"57\" x=\"590.5\" y=\"380.7151\">noname</text><rect fill=\"#383838\" height=\"12\" style=\"stroke: #F8F8F8; stroke-width: 1.5;\" width=\"12\" x=\"613\" y=\"355.72\"/><!--MD5=[05d275557350bfb9b23a4ef7222b4c39]\n",
       "link E3 to E2--><a href=\"psysml:982c8c0e-9af2-4f93-8067-230d5c39d8a2\" target=\"_top\" title=\"psysml:982c8c0e-9af2-4f93-8067-230d5c39d8a2\" xlink:actuate=\"onRequest\" xlink:href=\"psysml:982c8c0e-9af2-4f93-8067-230d5c39d8a2\" xlink:show=\"new\" xlink:title=\"psysml:982c8c0e-9af2-4f93-8067-230d5c39d8a2\" xlink:type=\"simple\"><path d=\"M488.12,87.06 C486.14,98.3 483.62,112.6 481.1,126.95 \" fill=\"none\" id=\"E3-&gt;E2\" style=\"stroke: #383838; stroke-width: 1.0;\"/><polygon fill=\"#FFFFFF\" points=\"477.58,146.93,473.9835,127.0035,487.7711,129.4331,477.58,146.93\" style=\"stroke: #383838; stroke-width: 1.0;\"/><ellipse cx=\"476.9423\" cy=\"121.7371\" fill=\"#383838\" rx=\"2\" ry=\"2\" style=\"stroke: #383838; stroke-width: 1.0;\"/><ellipse cx=\"486.7906\" cy=\"123.4725\" fill=\"#383838\" rx=\"2\" ry=\"2\" style=\"stroke: #383838; stroke-width: 1.0;\"/></a><!--MD5=[324ff9de0c7b6f4ae5b3ee327f0deee7]\n",
       "@startuml\r\n",
       "top to bottom direction\r\n",
       "skinparam monochrome true\r\n",
       "skinparam classbackgroundcolor white\r\n",
       "skinparam shadowing false\r\n",
       "skinparam wrapWidth 300\r\n",
       "hide circle\r\n",
       "\r\n",
       "package \"ParameterTest\" as E1  [[psysml:0dacd990-2b3a-4306-80d2-1e4fad6d04cd ]]  {\r\n",
       "comp def \"A\" as E2  <<(T,blue)attribute def>> [[psysml:03a6349f-297b-4a78-b9ab-052989f96479 ]] {\r\n",
       "- - attributes - -\r\n",
       "x: String\r\n",
       "y: A\r\n",
       "}\r\n",
       "comp usage \"a: A\" as E3  <<(T,blue)attribute>> [[psysml:d7af749e-ffc6-4773-972a-b8dfcfe9deb8 ]] {\r\n",
       "}\r\n",
       "rec def \"F\" as E4  <<(T,blue)calculation def>> [[psysml:cd1262f4-d3f9-4f52-89ee-1653680ad782 ]] {\r\n",
       "portin \"p\" as E5  [[psysml:16d77514-2de6-4c2c-add7-8b8555ca417f ]] \r\n",
       "portin \"q\" as E6  [[psysml:85e14753-ca59-4cde-8265-18a8cb4b45d6 ]] \r\n",
       "portout \"noname\" as E7  [[psysml:99b94083-4aa7-41fb-8d8e-135498f03bbe ]] \r\n",
       "}\r\n",
       "\r\n",
       "comp usage \"f\" as E8  <<(T,blue)attribute>> [[psysml:e43abf7c-a809-48bd-8c78-cd0a53fbbdb6 ]] {\r\n",
       "}\r\n",
       "comp usage \"g\" as E9  <<(T,blue)attribute>> [[psysml:04ff0b02-14ab-40e8-a866-ef9bcfd05ef7 ]] {\r\n",
       "}\r\n",
       "comp usage \"b\" as E10  <<(T,blue)attribute>> [[psysml:37f56aff-8c9f-4a8e-95e0-50132129fb99 ]] {\r\n",
       "}\r\n",
       "comp usage \"c\" as E11  <<(T,blue)attribute>> [[psysml:6095b787-d7f9-43be-8b1b-f534282edd43 ]] {\r\n",
       "}\r\n",
       "E3 - -:|> E2 [[psysml:982c8c0e-9af2-4f93-8067-230d5c39d8a2 ]] \r\n",
       "}\r\n",
       "@enduml\r\n",
       "\n",
       "PlantUML version 1.2020.13(Sat Jun 13 12:26:38 UTC 2020)\n",
       "(EPL source distribution)\n",
       "Java Runtime: OpenJDK Runtime Environment\n",
       "JVM: OpenJDK 64-Bit Server VM\n",
       "Default Encoding: UTF-8\n",
       "Language: en\n",
       "Country: null\n",
       "--></g></svg>"
      ]
     },
     "execution_count": 44,
     "metadata": {},
     "output_type": "execute_result"
    }
   ],
   "source": [
    "%viz --style=\"TB\" --view=\"Default\" \"ParameterTest\""
   ]
  },
  {
   "cell_type": "code",
   "execution_count": 45,
   "id": "choice-columbia",
   "metadata": {
    "execution": {
     "iopub.execute_input": "2021-03-24T16:28:56.237094Z",
     "iopub.status.busy": "2021-03-24T16:28:56.236250Z",
     "iopub.status.idle": "2021-03-24T16:28:56.280091Z",
     "shell.execute_reply": "2021-03-24T16:28:56.278770Z"
    }
   },
   "outputs": [
    {
     "data": {
      "image/svg+xml": [
       "<?xml version=\"1.0\" encoding=\"UTF-8\" standalone=\"no\"?><svg xmlns=\"http://www.w3.org/2000/svg\" xmlns:xlink=\"http://www.w3.org/1999/xlink\" contentScriptType=\"application/ecmascript\" contentStyleType=\"text/css\" height=\"280px\" preserveAspectRatio=\"none\" style=\"width:710px;height:280px;\" version=\"1.1\" viewBox=\"0 0 710 280\" width=\"710px\" zoomAndPan=\"magnify\"><defs/><g><!--MD5=[fbc87193dbaf4d95561dea2c320d4a47]\n",
       "cluster E1--><a href=\"psysml:0dacd990-2b3a-4306-80d2-1e4fad6d04cd\" target=\"_top\" title=\"psysml:0dacd990-2b3a-4306-80d2-1e4fad6d04cd\" xlink:actuate=\"onRequest\" xlink:href=\"psysml:0dacd990-2b3a-4306-80d2-1e4fad6d04cd\" xlink:show=\"new\" xlink:title=\"psysml:0dacd990-2b3a-4306-80d2-1e4fad6d04cd\" xlink:type=\"simple\"><polygon fill=\"#FFFFFF\" points=\"16,6,139,6,146,28.2969,688,28.2969,688,268,16,268,16,6\" style=\"stroke: #000000; stroke-width: 1.5;\"/><line style=\"stroke: #000000; stroke-width: 1.5;\" x1=\"16\" x2=\"146\" y1=\"28.2969\" y2=\"28.2969\"/><text fill=\"#000000\" font-family=\"sans-serif\" font-size=\"14\" font-weight=\"bold\" lengthAdjust=\"spacingAndGlyphs\" textLength=\"117\" x=\"20\" y=\"20.9951\">ParameterTest</text></a><!--MD5=[b4997ac47864f28c2f74865a473b2911]\n",
       "class E2--><a href=\"psysml:03a6349f-297b-4a78-b9ab-052989f96479\" target=\"_top\" title=\"psysml:03a6349f-297b-4a78-b9ab-052989f96479\" xlink:actuate=\"onRequest\" xlink:href=\"psysml:03a6349f-297b-4a78-b9ab-052989f96479\" xlink:show=\"new\" xlink:title=\"psysml:03a6349f-297b-4a78-b9ab-052989f96479\" xlink:type=\"simple\"><rect fill=\"#FFFFFF\" height=\"88.3516\" id=\"E2\" style=\"stroke: #383838; stroke-width: 1.5;\" width=\"95\" x=\"498.5\" y=\"164\"/><text fill=\"#000000\" font-family=\"sans-serif\" font-size=\"12\" font-style=\"italic\" lengthAdjust=\"spacingAndGlyphs\" textLength=\"93\" x=\"499.5\" y=\"180.1387\">«attribute def»</text><text fill=\"#000000\" font-family=\"sans-serif\" font-size=\"12\" lengthAdjust=\"spacingAndGlyphs\" textLength=\"8\" x=\"542\" y=\"194.1074\">A</text><line style=\"stroke: #383838; stroke-width: 1.5;\" x1=\"499.5\" x2=\"592.5\" y1=\"201.9375\" y2=\"201.9375\"/><text fill=\"#000000\" font-family=\"sans-serif\" font-size=\"11\" lengthAdjust=\"spacingAndGlyphs\" textLength=\"48\" x=\"504.5\" y=\"232.9526\">x: String</text><text fill=\"#000000\" font-family=\"sans-serif\" font-size=\"11\" lengthAdjust=\"spacingAndGlyphs\" textLength=\"21\" x=\"504.5\" y=\"245.7573\">y: A</text><line style=\"stroke: #383838; stroke-width: 1.0;\" x1=\"499.5\" x2=\"518.5\" y1=\"216.3398\" y2=\"216.3398\"/><text fill=\"#000000\" font-family=\"sans-serif\" font-size=\"11\" lengthAdjust=\"spacingAndGlyphs\" textLength=\"55\" x=\"518.5\" y=\"219.6479\">attributes</text><line style=\"stroke: #383838; stroke-width: 1.0;\" x1=\"573.5\" x2=\"592.5\" y1=\"216.3398\" y2=\"216.3398\"/></a><!--MD5=[09b614a08d8cba4a07c9adeb5e0fee81]\n",
       "class E3--><a href=\"psysml:d7af749e-ffc6-4773-972a-b8dfcfe9deb8\" target=\"_top\" title=\"psysml:d7af749e-ffc6-4773-972a-b8dfcfe9deb8\" xlink:actuate=\"onRequest\" xlink:href=\"psysml:d7af749e-ffc6-4773-972a-b8dfcfe9deb8\" xlink:show=\"new\" xlink:title=\"psysml:d7af749e-ffc6-4773-972a-b8dfcfe9deb8\" xlink:type=\"simple\"><rect fill=\"#FFFFFF\" height=\"45.9375\" id=\"E3\" rx=\"10\" ry=\"10\" style=\"stroke: #383838; stroke-width: 1.5;\" width=\"71\" x=\"600.5\" y=\"41\"/><text fill=\"#000000\" font-family=\"sans-serif\" font-size=\"12\" font-style=\"italic\" lengthAdjust=\"spacingAndGlyphs\" textLength=\"69\" x=\"601.5\" y=\"57.1387\">«attribute»</text><text fill=\"#000000\" font-family=\"sans-serif\" font-size=\"12\" lengthAdjust=\"spacingAndGlyphs\" textLength=\"24\" x=\"624\" y=\"71.1074\">a: A</text><line style=\"stroke: #383838; stroke-width: 1.5;\" x1=\"601.5\" x2=\"670.5\" y1=\"78.9375\" y2=\"78.9375\"/></a><!--MD5=[ebbe1d658d1005bcc118a6aa81145e00]\n",
       "class E4--><a href=\"psysml:cd1262f4-d3f9-4f52-89ee-1653680ad782\" target=\"_top\" title=\"psysml:cd1262f4-d3f9-4f52-89ee-1653680ad782\" xlink:actuate=\"onRequest\" xlink:href=\"psysml:cd1262f4-d3f9-4f52-89ee-1653680ad782\" xlink:show=\"new\" xlink:title=\"psysml:cd1262f4-d3f9-4f52-89ee-1653680ad782\" xlink:type=\"simple\"><rect fill=\"#FFFFFF\" height=\"45.9375\" id=\"E4\" style=\"stroke: #383838; stroke-width: 1.5;\" width=\"108\" x=\"457\" y=\"41\"/><text fill=\"#000000\" font-family=\"sans-serif\" font-size=\"12\" font-style=\"italic\" lengthAdjust=\"spacingAndGlyphs\" textLength=\"106\" x=\"458\" y=\"57.1387\">«calculation def»</text><text fill=\"#000000\" font-family=\"sans-serif\" font-size=\"12\" lengthAdjust=\"spacingAndGlyphs\" textLength=\"7\" x=\"507.5\" y=\"71.1074\">F</text><line style=\"stroke: #383838; stroke-width: 1.5;\" x1=\"458\" x2=\"564\" y1=\"78.9375\" y2=\"78.9375\"/></a><!--MD5=[270fce915f116d4de14055a7c1d9a0f3]\n",
       "class E5--><a href=\"psysml:e43abf7c-a809-48bd-8c78-cd0a53fbbdb6\" target=\"_top\" title=\"psysml:e43abf7c-a809-48bd-8c78-cd0a53fbbdb6\" xlink:actuate=\"onRequest\" xlink:href=\"psysml:e43abf7c-a809-48bd-8c78-cd0a53fbbdb6\" xlink:show=\"new\" xlink:title=\"psysml:e43abf7c-a809-48bd-8c78-cd0a53fbbdb6\" xlink:type=\"simple\"><rect fill=\"#FFFFFF\" height=\"45.9375\" id=\"E5\" rx=\"10\" ry=\"10\" style=\"stroke: #383838; stroke-width: 1.5;\" width=\"71\" x=\"350.5\" y=\"41\"/><text fill=\"#000000\" font-family=\"sans-serif\" font-size=\"12\" font-style=\"italic\" lengthAdjust=\"spacingAndGlyphs\" textLength=\"69\" x=\"351.5\" y=\"57.1387\">«attribute»</text><text fill=\"#000000\" font-family=\"sans-serif\" font-size=\"12\" lengthAdjust=\"spacingAndGlyphs\" textLength=\"4\" x=\"384\" y=\"71.1074\">f</text><line style=\"stroke: #383838; stroke-width: 1.5;\" x1=\"351.5\" x2=\"420.5\" y1=\"78.9375\" y2=\"78.9375\"/></a><!--MD5=[60a26617385b1d2d0262a64233df1f8d]\n",
       "class E6--><a href=\"psysml:04ff0b02-14ab-40e8-a866-ef9bcfd05ef7\" target=\"_top\" title=\"psysml:04ff0b02-14ab-40e8-a866-ef9bcfd05ef7\" xlink:actuate=\"onRequest\" xlink:href=\"psysml:04ff0b02-14ab-40e8-a866-ef9bcfd05ef7\" xlink:show=\"new\" xlink:title=\"psysml:04ff0b02-14ab-40e8-a866-ef9bcfd05ef7\" xlink:type=\"simple\"><rect fill=\"#FFFFFF\" height=\"45.9375\" id=\"E6\" rx=\"10\" ry=\"10\" style=\"stroke: #383838; stroke-width: 1.5;\" width=\"71\" x=\"244.5\" y=\"41\"/><text fill=\"#000000\" font-family=\"sans-serif\" font-size=\"12\" font-style=\"italic\" lengthAdjust=\"spacingAndGlyphs\" textLength=\"69\" x=\"245.5\" y=\"57.1387\">«attribute»</text><text fill=\"#000000\" font-family=\"sans-serif\" font-size=\"12\" lengthAdjust=\"spacingAndGlyphs\" textLength=\"8\" x=\"276\" y=\"71.1074\">g</text><line style=\"stroke: #383838; stroke-width: 1.5;\" x1=\"245.5\" x2=\"314.5\" y1=\"78.9375\" y2=\"78.9375\"/></a><!--MD5=[2156ba9850f5573cc1fc38a6a4b2f02b]\n",
       "class E7--><a href=\"psysml:37f56aff-8c9f-4a8e-95e0-50132129fb99\" target=\"_top\" title=\"psysml:37f56aff-8c9f-4a8e-95e0-50132129fb99\" xlink:actuate=\"onRequest\" xlink:href=\"psysml:37f56aff-8c9f-4a8e-95e0-50132129fb99\" xlink:show=\"new\" xlink:title=\"psysml:37f56aff-8c9f-4a8e-95e0-50132129fb99\" xlink:type=\"simple\"><rect fill=\"#FFFFFF\" height=\"45.9375\" id=\"E7\" rx=\"10\" ry=\"10\" style=\"stroke: #383838; stroke-width: 1.5;\" width=\"71\" x=\"138.5\" y=\"41\"/><text fill=\"#000000\" font-family=\"sans-serif\" font-size=\"12\" font-style=\"italic\" lengthAdjust=\"spacingAndGlyphs\" textLength=\"69\" x=\"139.5\" y=\"57.1387\">«attribute»</text><text fill=\"#000000\" font-family=\"sans-serif\" font-size=\"12\" lengthAdjust=\"spacingAndGlyphs\" textLength=\"8\" x=\"170\" y=\"71.1074\">b</text><line style=\"stroke: #383838; stroke-width: 1.5;\" x1=\"139.5\" x2=\"208.5\" y1=\"78.9375\" y2=\"78.9375\"/></a><!--MD5=[b9389687b975829384b498ac4b7476b2]\n",
       "class E8--><a href=\"psysml:6095b787-d7f9-43be-8b1b-f534282edd43\" target=\"_top\" title=\"psysml:6095b787-d7f9-43be-8b1b-f534282edd43\" xlink:actuate=\"onRequest\" xlink:href=\"psysml:6095b787-d7f9-43be-8b1b-f534282edd43\" xlink:show=\"new\" xlink:title=\"psysml:6095b787-d7f9-43be-8b1b-f534282edd43\" xlink:type=\"simple\"><rect fill=\"#FFFFFF\" height=\"45.9375\" id=\"E8\" rx=\"10\" ry=\"10\" style=\"stroke: #383838; stroke-width: 1.5;\" width=\"71\" x=\"32.5\" y=\"41\"/><text fill=\"#000000\" font-family=\"sans-serif\" font-size=\"12\" font-style=\"italic\" lengthAdjust=\"spacingAndGlyphs\" textLength=\"69\" x=\"33.5\" y=\"57.1387\">«attribute»</text><text fill=\"#000000\" font-family=\"sans-serif\" font-size=\"12\" lengthAdjust=\"spacingAndGlyphs\" textLength=\"7\" x=\"64.5\" y=\"71.1074\">c</text><line style=\"stroke: #383838; stroke-width: 1.5;\" x1=\"33.5\" x2=\"102.5\" y1=\"78.9375\" y2=\"78.9375\"/></a><!--MD5=[05d275557350bfb9b23a4ef7222b4c39]\n",
       "link E3 to E2--><a href=\"psysml:982c8c0e-9af2-4f93-8067-230d5c39d8a2\" target=\"_top\" title=\"psysml:982c8c0e-9af2-4f93-8067-230d5c39d8a2\" xlink:actuate=\"onRequest\" xlink:href=\"psysml:982c8c0e-9af2-4f93-8067-230d5c39d8a2\" xlink:show=\"new\" xlink:title=\"psysml:982c8c0e-9af2-4f93-8067-230d5c39d8a2\" xlink:type=\"simple\"><path d=\"M621.94,87.19 C611.77,103.23 597.51,125.73 584.09,146.9 \" fill=\"none\" id=\"E3-&gt;E2\" style=\"stroke: #383838; stroke-width: 1.0;\"/><polygon fill=\"#FFFFFF\" points=\"573.37,163.82,577.6195,144.0225,589.448,151.5115,573.37,163.82\" style=\"stroke: #383838; stroke-width: 1.0;\"/><ellipse cx=\"582.3584\" cy=\"140.2764\" fill=\"#383838\" rx=\"2\" ry=\"2\" style=\"stroke: #383838; stroke-width: 1.0;\"/><ellipse cx=\"590.8073\" cy=\"145.6258\" fill=\"#383838\" rx=\"2\" ry=\"2\" style=\"stroke: #383838; stroke-width: 1.0;\"/></a><!--MD5=[ddeed8deb2209213b62e6cfabaa108b2]\n",
       "reverse link E4 to E2--><a href=\"psysml:16d77514-2de6-4c2c-add7-8b8555ca417f\" target=\"_top\" title=\"psysml:16d77514-2de6-4c2c-add7-8b8555ca417f\" xlink:actuate=\"onRequest\" xlink:href=\"psysml:16d77514-2de6-4c2c-add7-8b8555ca417f\" xlink:show=\"new\" xlink:title=\"psysml:16d77514-2de6-4c2c-add7-8b8555ca417f\" xlink:type=\"simple\"><path d=\"M519.62,99.96 C524.37,119.25 530.31,143.36 535.36,163.82 \" fill=\"none\" id=\"E4&lt;-E2\" style=\"stroke: #383838; stroke-width: 1.0;\"/><polygon fill=\"#FFFFFF\" points=\"516.47,87.19,514.0229,93.9732,519.3432,98.841,521.7903,92.0577,516.47,87.19\" style=\"stroke: #383838; stroke-width: 1.0;\"/><text fill=\"#000000\" font-family=\"sans-serif\" font-size=\"13\" lengthAdjust=\"spacingAndGlyphs\" textLength=\"8\" x=\"528\" y=\"130.0669\">p</text></a><!--MD5=[e56a0f5158ca92c65c00e33f059bc497]\n",
       "@startuml\r\n",
       "top to bottom direction\r\n",
       "skinparam monochrome true\r\n",
       "skinparam classbackgroundcolor white\r\n",
       "skinparam shadowing false\r\n",
       "skinparam wrapWidth 300\r\n",
       "hide circle\r\n",
       "\r\n",
       "package \"ParameterTest\" as E1  [[psysml:0dacd990-2b3a-4306-80d2-1e4fad6d04cd ]]  {\r\n",
       "comp def \"A\" as E2  <<(T,blue)attribute def>> [[psysml:03a6349f-297b-4a78-b9ab-052989f96479 ]] {\r\n",
       "- - attributes - -\r\n",
       "x: String\r\n",
       "y: A\r\n",
       "}\r\n",
       "comp usage \"a: A\" as E3  <<(T,blue)attribute>> [[psysml:d7af749e-ffc6-4773-972a-b8dfcfe9deb8 ]] {\r\n",
       "}\r\n",
       "comp def \"F\" as E4  <<(T,blue)calculation def>> [[psysml:cd1262f4-d3f9-4f52-89ee-1653680ad782 ]] {\r\n",
       "}\r\n",
       "comp usage \"f\" as E5  <<(T,blue)attribute>> [[psysml:e43abf7c-a809-48bd-8c78-cd0a53fbbdb6 ]] {\r\n",
       "}\r\n",
       "comp usage \"g\" as E6  <<(T,blue)attribute>> [[psysml:04ff0b02-14ab-40e8-a866-ef9bcfd05ef7 ]] {\r\n",
       "}\r\n",
       "comp usage \"b\" as E7  <<(T,blue)attribute>> [[psysml:37f56aff-8c9f-4a8e-95e0-50132129fb99 ]] {\r\n",
       "}\r\n",
       "comp usage \"c\" as E8  <<(T,blue)attribute>> [[psysml:6095b787-d7f9-43be-8b1b-f534282edd43 ]] {\r\n",
       "}\r\n",
       "E3 - -:|> E2 [[psysml:982c8c0e-9af2-4f93-8067-230d5c39d8a2 ]] \r\n",
       "E4 o- - E2 [[psysml:16d77514-2de6-4c2c-add7-8b8555ca417f ]] : p\r\n",
       "}\r\n",
       "@enduml\r\n",
       "\n",
       "PlantUML version 1.2020.13(Sat Jun 13 12:26:38 UTC 2020)\n",
       "(EPL source distribution)\n",
       "Java Runtime: OpenJDK Runtime Environment\n",
       "JVM: OpenJDK 64-Bit Server VM\n",
       "Default Encoding: UTF-8\n",
       "Language: en\n",
       "Country: null\n",
       "--></g></svg>"
      ]
     },
     "execution_count": 45,
     "metadata": {},
     "output_type": "execute_result"
    }
   ],
   "source": [
    "%viz --style=\"TB\" --view=\"Tree\" \"ParameterTest\""
   ]
  },
  {
   "cell_type": "code",
   "execution_count": 46,
   "id": "vertical-columbus",
   "metadata": {
    "execution": {
     "iopub.execute_input": "2021-03-24T16:28:56.330574Z",
     "iopub.status.busy": "2021-03-24T16:28:56.330139Z",
     "iopub.status.idle": "2021-03-24T16:28:56.334083Z",
     "shell.execute_reply": "2021-03-24T16:28:56.334395Z"
    }
   },
   "outputs": [
    {
     "data": {
      "image/svg+xml": [
       "<?xml version=\"1.0\" encoding=\"UTF-8\" standalone=\"no\"?><svg xmlns=\"http://www.w3.org/2000/svg\" xmlns:xlink=\"http://www.w3.org/1999/xlink\" contentScriptType=\"application/ecmascript\" contentStyleType=\"text/css\" height=\"12px\" preserveAspectRatio=\"none\" style=\"width:12px;height:12px;\" version=\"1.1\" viewBox=\"0 0 12 12\" width=\"12px\" zoomAndPan=\"magnify\"><defs/><g><!--MD5=[f4ee21bc66e489b5061b7c3e9601fdef]\n",
       "@startuml\r\n",
       "top to bottom direction\r\n",
       "skinparam monochrome true\r\n",
       "skinparam classbackgroundcolor white\r\n",
       "skinparam shadowing false\r\n",
       "skinparam wrapWidth 300\r\n",
       "hide circle\r\n",
       "\r\n",
       "@enduml\r\n",
       "\n",
       "PlantUML version 1.2020.13(Sat Jun 13 12:26:38 UTC 2020)\n",
       "(EPL source distribution)\n",
       "Java Runtime: OpenJDK Runtime Environment\n",
       "JVM: OpenJDK 64-Bit Server VM\n",
       "Default Encoding: UTF-8\n",
       "Language: en\n",
       "Country: null\n",
       "--></g></svg>"
      ]
     },
     "execution_count": 46,
     "metadata": {},
     "output_type": "execute_result"
    }
   ],
   "source": [
    "%viz --style=\"TB\" --view=\"State\" \"ParameterTest\""
   ]
  },
  {
   "cell_type": "code",
   "execution_count": 47,
   "id": "liked-swaziland",
   "metadata": {
    "execution": {
     "iopub.execute_input": "2021-03-24T16:28:56.386523Z",
     "iopub.status.busy": "2021-03-24T16:28:56.385759Z",
     "iopub.status.idle": "2021-03-24T16:28:56.418097Z",
     "shell.execute_reply": "2021-03-24T16:28:56.416831Z"
    }
   },
   "outputs": [
    {
     "data": {
      "image/svg+xml": [
       "<?xml version=\"1.0\" encoding=\"UTF-8\" standalone=\"no\"?><svg xmlns=\"http://www.w3.org/2000/svg\" xmlns:xlink=\"http://www.w3.org/1999/xlink\" contentScriptType=\"application/ecmascript\" contentStyleType=\"text/css\" height=\"216px\" preserveAspectRatio=\"none\" style=\"width:740px;height:216px;\" version=\"1.1\" viewBox=\"0 0 740 216\" width=\"740px\" zoomAndPan=\"magnify\"><defs/><g><!--MD5=[fbc87193dbaf4d95561dea2c320d4a47]\n",
       "cluster E1--><a href=\"psysml:0dacd990-2b3a-4306-80d2-1e4fad6d04cd\" target=\"_top\" title=\"psysml:0dacd990-2b3a-4306-80d2-1e4fad6d04cd\" xlink:actuate=\"onRequest\" xlink:href=\"psysml:0dacd990-2b3a-4306-80d2-1e4fad6d04cd\" xlink:show=\"new\" xlink:title=\"psysml:0dacd990-2b3a-4306-80d2-1e4fad6d04cd\" xlink:type=\"simple\"><polygon fill=\"#FFFFFF\" points=\"16,6,139,6,146,28.2969,718,28.2969,718,204.72,16,204.72,16,6\" style=\"stroke: #000000; stroke-width: 1.5;\"/><line style=\"stroke: #000000; stroke-width: 1.5;\" x1=\"16\" x2=\"146\" y1=\"28.2969\" y2=\"28.2969\"/><text fill=\"#000000\" font-family=\"sans-serif\" font-size=\"14\" font-weight=\"bold\" lengthAdjust=\"spacingAndGlyphs\" textLength=\"117\" x=\"20\" y=\"20.9951\">ParameterTest</text></a><!--MD5=[f6df4d0ebaf0b5dfb2ced0ae5af7c670]\n",
       "cluster E4--><a href=\"psysml:cd1262f4-d3f9-4f52-89ee-1653680ad782\" target=\"_top\" title=\"psysml:cd1262f4-d3f9-4f52-89ee-1653680ad782\" xlink:actuate=\"onRequest\" xlink:href=\"psysml:cd1262f4-d3f9-4f52-89ee-1653680ad782\" xlink:show=\"new\" xlink:title=\"psysml:cd1262f4-d3f9-4f52-89ee-1653680ad782\" xlink:type=\"simple\"><rect fill=\"#FFFFFF\" height=\"110.72\" id=\"E4\" style=\"stroke: #383838; stroke-width: 1.5;\" width=\"148\" x=\"554\" y=\"64\"/><rect fill=\"#F8F8F8\" height=\"37.9375\" style=\"stroke: #383838; stroke-width: 1.5;\" width=\"148\" x=\"554\" y=\"64\"/><text fill=\"#000000\" font-family=\"sans-serif\" font-size=\"12\" font-style=\"italic\" lengthAdjust=\"spacingAndGlyphs\" textLength=\"106\" x=\"575\" y=\"80.1387\">«calculation def»</text><text fill=\"#000000\" font-family=\"sans-serif\" font-size=\"12\" lengthAdjust=\"spacingAndGlyphs\" textLength=\"7\" x=\"624.5\" y=\"94.1074\">F</text></a><g id=\"E1.E2\"><a href=\"psysml:03a6349f-297b-4a78-b9ab-052989f96479\" target=\"_top\" title=\"psysml:03a6349f-297b-4a78-b9ab-052989f96479\" xlink:actuate=\"onRequest\" xlink:href=\"psysml:03a6349f-297b-4a78-b9ab-052989f96479\" xlink:show=\"new\" xlink:title=\"psysml:03a6349f-297b-4a78-b9ab-052989f96479\" xlink:type=\"simple\"><rect fill=\"#FFFFFF\" height=\"42.9375\" id=\"E2\" style=\"stroke: #383838; stroke-width: 1.5;\" width=\"100\" x=\"417\" y=\"99\"/><rect fill=\"#F8F8F8\" height=\"37.9375\" style=\"stroke: #383838; stroke-width: 1.5;\" width=\"100\" x=\"417\" y=\"99\"/><text fill=\"#000000\" font-family=\"sans-serif\" font-size=\"12\" font-style=\"italic\" lengthAdjust=\"spacingAndGlyphs\" textLength=\"93\" x=\"420.5\" y=\"115.1387\">«attribute def»</text><text fill=\"#000000\" font-family=\"sans-serif\" font-size=\"12\" lengthAdjust=\"spacingAndGlyphs\" textLength=\"8\" x=\"463\" y=\"129.1074\">A</text></a></g><!--MD5=[09b614a08d8cba4a07c9adeb5e0fee81]\n",
       "class E3--><a href=\"psysml:d7af749e-ffc6-4773-972a-b8dfcfe9deb8\" target=\"_top\" title=\"psysml:d7af749e-ffc6-4773-972a-b8dfcfe9deb8\" xlink:actuate=\"onRequest\" xlink:href=\"psysml:d7af749e-ffc6-4773-972a-b8dfcfe9deb8\" xlink:show=\"new\" xlink:title=\"psysml:d7af749e-ffc6-4773-972a-b8dfcfe9deb8\" xlink:type=\"simple\"><rect fill=\"#FFFFFF\" height=\"45.9375\" id=\"E3\" rx=\"10\" ry=\"10\" style=\"stroke: #383838; stroke-width: 1.5;\" width=\"71\" x=\"456.5\" y=\"41\"/><text fill=\"#000000\" font-family=\"sans-serif\" font-size=\"12\" font-style=\"italic\" lengthAdjust=\"spacingAndGlyphs\" textLength=\"69\" x=\"457.5\" y=\"57.1387\">«attribute»</text><text fill=\"#000000\" font-family=\"sans-serif\" font-size=\"12\" lengthAdjust=\"spacingAndGlyphs\" textLength=\"24\" x=\"480\" y=\"71.1074\">a: A</text><line style=\"stroke: #383838; stroke-width: 1.5;\" x1=\"457.5\" x2=\"526.5\" y1=\"78.9375\" y2=\"78.9375\"/></a><!--MD5=[b9389687b975829384b498ac4b7476b2]\n",
       "class E8--><a href=\"psysml:e43abf7c-a809-48bd-8c78-cd0a53fbbdb6\" target=\"_top\" title=\"psysml:e43abf7c-a809-48bd-8c78-cd0a53fbbdb6\" xlink:actuate=\"onRequest\" xlink:href=\"psysml:e43abf7c-a809-48bd-8c78-cd0a53fbbdb6\" xlink:show=\"new\" xlink:title=\"psysml:e43abf7c-a809-48bd-8c78-cd0a53fbbdb6\" xlink:type=\"simple\"><rect fill=\"#FFFFFF\" height=\"45.9375\" id=\"E8\" rx=\"10\" ry=\"10\" style=\"stroke: #383838; stroke-width: 1.5;\" width=\"71\" x=\"350.5\" y=\"41\"/><text fill=\"#000000\" font-family=\"sans-serif\" font-size=\"12\" font-style=\"italic\" lengthAdjust=\"spacingAndGlyphs\" textLength=\"69\" x=\"351.5\" y=\"57.1387\">«attribute»</text><text fill=\"#000000\" font-family=\"sans-serif\" font-size=\"12\" lengthAdjust=\"spacingAndGlyphs\" textLength=\"4\" x=\"384\" y=\"71.1074\">f</text><line style=\"stroke: #383838; stroke-width: 1.5;\" x1=\"351.5\" x2=\"420.5\" y1=\"78.9375\" y2=\"78.9375\"/></a><!--MD5=[fd4143e9d270a159db93a4ea2a975926]\n",
       "class E9--><a href=\"psysml:04ff0b02-14ab-40e8-a866-ef9bcfd05ef7\" target=\"_top\" title=\"psysml:04ff0b02-14ab-40e8-a866-ef9bcfd05ef7\" xlink:actuate=\"onRequest\" xlink:href=\"psysml:04ff0b02-14ab-40e8-a866-ef9bcfd05ef7\" xlink:show=\"new\" xlink:title=\"psysml:04ff0b02-14ab-40e8-a866-ef9bcfd05ef7\" xlink:type=\"simple\"><rect fill=\"#FFFFFF\" height=\"45.9375\" id=\"E9\" rx=\"10\" ry=\"10\" style=\"stroke: #383838; stroke-width: 1.5;\" width=\"71\" x=\"244.5\" y=\"41\"/><text fill=\"#000000\" font-family=\"sans-serif\" font-size=\"12\" font-style=\"italic\" lengthAdjust=\"spacingAndGlyphs\" textLength=\"69\" x=\"245.5\" y=\"57.1387\">«attribute»</text><text fill=\"#000000\" font-family=\"sans-serif\" font-size=\"12\" lengthAdjust=\"spacingAndGlyphs\" textLength=\"8\" x=\"276\" y=\"71.1074\">g</text><line style=\"stroke: #383838; stroke-width: 1.5;\" x1=\"245.5\" x2=\"314.5\" y1=\"78.9375\" y2=\"78.9375\"/></a><!--MD5=[96f4274e9e20536e775497830990834d]\n",
       "class E10--><a href=\"psysml:37f56aff-8c9f-4a8e-95e0-50132129fb99\" target=\"_top\" title=\"psysml:37f56aff-8c9f-4a8e-95e0-50132129fb99\" xlink:actuate=\"onRequest\" xlink:href=\"psysml:37f56aff-8c9f-4a8e-95e0-50132129fb99\" xlink:show=\"new\" xlink:title=\"psysml:37f56aff-8c9f-4a8e-95e0-50132129fb99\" xlink:type=\"simple\"><rect fill=\"#FFFFFF\" height=\"45.9375\" id=\"E10\" rx=\"10\" ry=\"10\" style=\"stroke: #383838; stroke-width: 1.5;\" width=\"71\" x=\"138.5\" y=\"41\"/><text fill=\"#000000\" font-family=\"sans-serif\" font-size=\"12\" font-style=\"italic\" lengthAdjust=\"spacingAndGlyphs\" textLength=\"69\" x=\"139.5\" y=\"57.1387\">«attribute»</text><text fill=\"#000000\" font-family=\"sans-serif\" font-size=\"12\" lengthAdjust=\"spacingAndGlyphs\" textLength=\"8\" x=\"170\" y=\"71.1074\">b</text><line style=\"stroke: #383838; stroke-width: 1.5;\" x1=\"139.5\" x2=\"208.5\" y1=\"78.9375\" y2=\"78.9375\"/></a><!--MD5=[1dd1bfd58a279cf63c5f349dbc8fc6a1]\n",
       "class E11--><a href=\"psysml:6095b787-d7f9-43be-8b1b-f534282edd43\" target=\"_top\" title=\"psysml:6095b787-d7f9-43be-8b1b-f534282edd43\" xlink:actuate=\"onRequest\" xlink:href=\"psysml:6095b787-d7f9-43be-8b1b-f534282edd43\" xlink:show=\"new\" xlink:title=\"psysml:6095b787-d7f9-43be-8b1b-f534282edd43\" xlink:type=\"simple\"><rect fill=\"#FFFFFF\" height=\"45.9375\" id=\"E11\" rx=\"10\" ry=\"10\" style=\"stroke: #383838; stroke-width: 1.5;\" width=\"71\" x=\"32.5\" y=\"41\"/><text fill=\"#000000\" font-family=\"sans-serif\" font-size=\"12\" font-style=\"italic\" lengthAdjust=\"spacingAndGlyphs\" textLength=\"69\" x=\"33.5\" y=\"57.1387\">«attribute»</text><text fill=\"#000000\" font-family=\"sans-serif\" font-size=\"12\" lengthAdjust=\"spacingAndGlyphs\" textLength=\"7\" x=\"64.5\" y=\"71.1074\">c</text><line style=\"stroke: #383838; stroke-width: 1.5;\" x1=\"33.5\" x2=\"102.5\" y1=\"78.9375\" y2=\"78.9375\"/></a><text fill=\"#000000\" font-family=\"sans-serif\" font-size=\"14\" lengthAdjust=\"spacingAndGlyphs\" textLength=\"9\" x=\"567.5\" y=\"42.6982\">p</text><rect fill=\"#383838\" height=\"12\" style=\"stroke: #F8F8F8; stroke-width: 1.5;\" width=\"12\" x=\"566\" y=\"58\"/><text fill=\"#000000\" font-family=\"sans-serif\" font-size=\"14\" lengthAdjust=\"spacingAndGlyphs\" textLength=\"9\" x=\"614.5\" y=\"42.6982\">q</text><rect fill=\"#383838\" height=\"12\" style=\"stroke: #F8F8F8; stroke-width: 1.5;\" width=\"12\" x=\"613\" y=\"58\"/><text fill=\"#000000\" font-family=\"sans-serif\" font-size=\"14\" lengthAdjust=\"spacingAndGlyphs\" textLength=\"57\" x=\"590.5\" y=\"193.7151\">noname</text><rect fill=\"#383838\" height=\"12\" style=\"stroke: #F8F8F8; stroke-width: 1.5;\" width=\"12\" x=\"613\" y=\"168.72\"/><!--MD5=[05d275557350bfb9b23a4ef7222b4c39]\n",
       "link E3 to E2--><a href=\"psysml:982c8c0e-9af2-4f93-8067-230d5c39d8a2\" target=\"_top\" title=\"psysml:982c8c0e-9af2-4f93-8067-230d5c39d8a2\" xlink:actuate=\"onRequest\" xlink:href=\"psysml:982c8c0e-9af2-4f93-8067-230d5c39d8a2\" xlink:show=\"new\" xlink:title=\"psysml:982c8c0e-9af2-4f93-8067-230d5c39d8a2\" xlink:type=\"simple\"><path d=\"M481.83,87.17 C481.78,87.29 481.72,87.41 481.66,87.53 \" fill=\"none\" id=\"E3-&gt;E2\" style=\"stroke: #383838; stroke-width: 1.0;\"/><polygon fill=\"#FFFFFF\" points=\"476.43,98.93,477.977,78.7407,490.7056,84.5701,476.43,98.93\" style=\"stroke: #383838; stroke-width: 1.0;\"/><ellipse cx=\"482.1687\" cy=\"74.3911\" fill=\"#383838\" rx=\"2\" ry=\"2\" style=\"stroke: #383838; stroke-width: 1.0;\"/><ellipse cx=\"491.2606\" cy=\"78.555\" fill=\"#383838\" rx=\"2\" ry=\"2\" style=\"stroke: #383838; stroke-width: 1.0;\"/></a><!--MD5=[c9747b87276f9eb368128889d771e165]\n",
       "@startuml\r\n",
       "skinparam ranksep 10\r\n",
       "skinparam rectangle {\r\n",
       " backgroundColor<<block>> LightGreen\r\n",
       "}\r\n",
       "top to bottom direction\r\n",
       "skinparam monochrome true\r\n",
       "skinparam classbackgroundcolor white\r\n",
       "skinparam shadowing false\r\n",
       "skinparam wrapWidth 300\r\n",
       "hide circle\r\n",
       "\r\n",
       "package \"ParameterTest\" as E1  [[psysml:0dacd990-2b3a-4306-80d2-1e4fad6d04cd ]]  {\r\n",
       "def \"A\" as E2  <<(T,blue)attribute def>> [[psysml:03a6349f-297b-4a78-b9ab-052989f96479 ]] \r\n",
       "comp usage \"a: A\" as E3  <<(T,blue)attribute>> [[psysml:d7af749e-ffc6-4773-972a-b8dfcfe9deb8 ]] {\r\n",
       "}\r\n",
       "rec def \"F\" as E4  <<(T,blue)calculation def>> [[psysml:cd1262f4-d3f9-4f52-89ee-1653680ad782 ]] {\r\n",
       "portin \"p\" as E5  [[psysml:16d77514-2de6-4c2c-add7-8b8555ca417f ]] \r\n",
       "portin \"q\" as E6  [[psysml:85e14753-ca59-4cde-8265-18a8cb4b45d6 ]] \r\n",
       "portout \"noname\" as E7  [[psysml:99b94083-4aa7-41fb-8d8e-135498f03bbe ]] \r\n",
       "}\r\n",
       "\r\n",
       "comp usage \"f\" as E8  <<(T,blue)attribute>> [[psysml:e43abf7c-a809-48bd-8c78-cd0a53fbbdb6 ]] {\r\n",
       "}\r\n",
       "comp usage \"g\" as E9  <<(T,blue)attribute>> [[psysml:04ff0b02-14ab-40e8-a866-ef9bcfd05ef7 ]] {\r\n",
       "}\r\n",
       "comp usage \"b\" as E10  <<(T,blue)attribute>> [[psysml:37f56aff-8c9f-4a8e-95e0-50132129fb99 ]] {\r\n",
       "}\r\n",
       "comp usage \"c\" as E11  <<(T,blue)attribute>> [[psysml:6095b787-d7f9-43be-8b1b-f534282edd43 ]] {\r\n",
       "}\r\n",
       "E3 - -:|> E2 [[psysml:982c8c0e-9af2-4f93-8067-230d5c39d8a2 ]] \r\n",
       "}\r\n",
       "@enduml\r\n",
       "\n",
       "PlantUML version 1.2020.13(Sat Jun 13 12:26:38 UTC 2020)\n",
       "(EPL source distribution)\n",
       "Java Runtime: OpenJDK Runtime Environment\n",
       "JVM: OpenJDK 64-Bit Server VM\n",
       "Default Encoding: UTF-8\n",
       "Language: en\n",
       "Country: null\n",
       "--></g></svg>"
      ]
     },
     "execution_count": 47,
     "metadata": {},
     "output_type": "execute_result"
    }
   ],
   "source": [
    "%viz --style=\"TB\" --view=\"Interconnection\" \"ParameterTest\""
   ]
  },
  {
   "cell_type": "code",
   "execution_count": 48,
   "id": "medieval-webster",
   "metadata": {
    "execution": {
     "iopub.execute_input": "2021-03-24T16:28:56.468521Z",
     "iopub.status.busy": "2021-03-24T16:28:56.468024Z",
     "iopub.status.idle": "2021-03-24T16:28:56.502245Z",
     "shell.execute_reply": "2021-03-24T16:28:56.501951Z"
    }
   },
   "outputs": [
    {
     "data": {
      "image/svg+xml": [
       "<?xml version=\"1.0\" encoding=\"UTF-8\" standalone=\"no\"?><svg xmlns=\"http://www.w3.org/2000/svg\" xmlns:xlink=\"http://www.w3.org/1999/xlink\" contentScriptType=\"application/ecmascript\" contentStyleType=\"text/css\" height=\"162px\" preserveAspectRatio=\"none\" style=\"width:166px;height:162px;\" version=\"1.1\" viewBox=\"0 0 166 162\" width=\"166px\" zoomAndPan=\"magnify\"><defs/><g><!--MD5=[fbc87193dbaf4d95561dea2c320d4a47]\n",
       "cluster E1--><a href=\"psysml:cd1262f4-d3f9-4f52-89ee-1653680ad782\" target=\"_top\" title=\"psysml:cd1262f4-d3f9-4f52-89ee-1653680ad782\" xlink:actuate=\"onRequest\" xlink:href=\"psysml:cd1262f4-d3f9-4f52-89ee-1653680ad782\" xlink:show=\"new\" xlink:title=\"psysml:cd1262f4-d3f9-4f52-89ee-1653680ad782\" xlink:type=\"simple\"><rect fill=\"#FFFFFF\" height=\"87.72\" id=\"E1\" style=\"stroke: #383838; stroke-width: 1.5;\" width=\"148\" x=\"7\" y=\"42.0986\"/><rect fill=\"#F8F8F8\" height=\"37.9375\" style=\"stroke: #383838; stroke-width: 1.5;\" width=\"148\" x=\"7\" y=\"42.0986\"/><text fill=\"#000000\" font-family=\"sans-serif\" font-size=\"12\" font-style=\"italic\" lengthAdjust=\"spacingAndGlyphs\" textLength=\"106\" x=\"28\" y=\"58.2373\">«calculation def»</text><text fill=\"#000000\" font-family=\"sans-serif\" font-size=\"12\" lengthAdjust=\"spacingAndGlyphs\" textLength=\"7\" x=\"77.5\" y=\"72.2061\">F</text></a><text fill=\"#000000\" font-family=\"sans-serif\" font-size=\"14\" lengthAdjust=\"spacingAndGlyphs\" textLength=\"9\" x=\"20.5\" y=\"20.7969\">p</text><rect fill=\"#383838\" height=\"12\" style=\"stroke: #F8F8F8; stroke-width: 1.5;\" width=\"12\" x=\"19\" y=\"36.0986\"/><text fill=\"#000000\" font-family=\"sans-serif\" font-size=\"14\" lengthAdjust=\"spacingAndGlyphs\" textLength=\"9\" x=\"67.5\" y=\"20.7969\">q</text><rect fill=\"#383838\" height=\"12\" style=\"stroke: #F8F8F8; stroke-width: 1.5;\" width=\"12\" x=\"66\" y=\"36.0986\"/><text fill=\"#000000\" font-family=\"sans-serif\" font-size=\"14\" lengthAdjust=\"spacingAndGlyphs\" textLength=\"57\" x=\"43.5\" y=\"148.8138\">noname</text><rect fill=\"#383838\" height=\"12\" style=\"stroke: #F8F8F8; stroke-width: 1.5;\" width=\"12\" x=\"66\" y=\"123.8186\"/><!--MD5=[f5b145ff69608597d71e5498c30e6d09]\n",
       "@startuml\r\n",
       "skinparam ranksep 8\r\n",
       "top to bottom direction\r\n",
       "skinparam monochrome true\r\n",
       "skinparam classbackgroundcolor white\r\n",
       "skinparam shadowing false\r\n",
       "skinparam wrapWidth 300\r\n",
       "hide circle\r\n",
       "\r\n",
       "rec def \"F\" as E1  <<(T,blue)calculation def>> [[psysml:cd1262f4-d3f9-4f52-89ee-1653680ad782 ]] {\r\n",
       "portin \"p\" as E2  [[psysml:16d77514-2de6-4c2c-add7-8b8555ca417f ]] \r\n",
       "portin \"q\" as E3  [[psysml:85e14753-ca59-4cde-8265-18a8cb4b45d6 ]] \r\n",
       "portout \"noname\" as E4  [[psysml:99b94083-4aa7-41fb-8d8e-135498f03bbe ]] \r\n",
       "}\r\n",
       "\r\n",
       "@enduml\r\n",
       "\n",
       "PlantUML version 1.2020.13(Sat Jun 13 12:26:38 UTC 2020)\n",
       "(EPL source distribution)\n",
       "Java Runtime: OpenJDK Runtime Environment\n",
       "JVM: OpenJDK 64-Bit Server VM\n",
       "Default Encoding: UTF-8\n",
       "Language: en\n",
       "Country: null\n",
       "--></g></svg>"
      ]
     },
     "execution_count": 48,
     "metadata": {},
     "output_type": "execute_result"
    }
   ],
   "source": [
    "%viz --style=\"TB\" --view=\"Action\" \"ParameterTest\""
   ]
  },
  {
   "cell_type": "code",
   "execution_count": 49,
   "id": "charged-conviction",
   "metadata": {
    "execution": {
     "iopub.execute_input": "2021-03-24T16:28:56.564011Z",
     "iopub.status.busy": "2021-03-24T16:28:56.563595Z",
     "iopub.status.idle": "2021-03-24T16:28:56.612960Z",
     "shell.execute_reply": "2021-03-24T16:28:56.611464Z"
    }
   },
   "outputs": [
    {
     "data": {
      "image/svg+xml": [
       "<?xml version=\"1.0\" encoding=\"UTF-8\" standalone=\"no\"?><svg xmlns=\"http://www.w3.org/2000/svg\" xmlns:xlink=\"http://www.w3.org/1999/xlink\" contentScriptType=\"application/ecmascript\" contentStyleType=\"text/css\" height=\"280px\" preserveAspectRatio=\"none\" style=\"width:710px;height:280px;\" version=\"1.1\" viewBox=\"0 0 710 280\" width=\"710px\" zoomAndPan=\"magnify\"><defs/><g><!--MD5=[fbc87193dbaf4d95561dea2c320d4a47]\n",
       "cluster E1--><a href=\"psysml:0dacd990-2b3a-4306-80d2-1e4fad6d04cd\" target=\"_top\" title=\"psysml:0dacd990-2b3a-4306-80d2-1e4fad6d04cd\" xlink:actuate=\"onRequest\" xlink:href=\"psysml:0dacd990-2b3a-4306-80d2-1e4fad6d04cd\" xlink:show=\"new\" xlink:title=\"psysml:0dacd990-2b3a-4306-80d2-1e4fad6d04cd\" xlink:type=\"simple\"><polygon fill=\"#FFFFFF\" points=\"16,6,139,6,146,28.2969,688,28.2969,688,268,16,268,16,6\" style=\"stroke: #000000; stroke-width: 1.5;\"/><line style=\"stroke: #000000; stroke-width: 1.5;\" x1=\"16\" x2=\"146\" y1=\"28.2969\" y2=\"28.2969\"/><text fill=\"#000000\" font-family=\"sans-serif\" font-size=\"14\" font-weight=\"bold\" lengthAdjust=\"spacingAndGlyphs\" textLength=\"117\" x=\"20\" y=\"20.9951\">ParameterTest</text></a><!--MD5=[b4997ac47864f28c2f74865a473b2911]\n",
       "class E2--><a href=\"psysml:03a6349f-297b-4a78-b9ab-052989f96479\" target=\"_top\" title=\"psysml:03a6349f-297b-4a78-b9ab-052989f96479\" xlink:actuate=\"onRequest\" xlink:href=\"psysml:03a6349f-297b-4a78-b9ab-052989f96479\" xlink:show=\"new\" xlink:title=\"psysml:03a6349f-297b-4a78-b9ab-052989f96479\" xlink:type=\"simple\"><rect fill=\"#FFFFFF\" height=\"88.3516\" id=\"E2\" style=\"stroke: #383838; stroke-width: 1.5;\" width=\"95\" x=\"498.5\" y=\"164\"/><text fill=\"#000000\" font-family=\"sans-serif\" font-size=\"12\" font-style=\"italic\" lengthAdjust=\"spacingAndGlyphs\" textLength=\"93\" x=\"499.5\" y=\"180.1387\">«attribute def»</text><text fill=\"#000000\" font-family=\"sans-serif\" font-size=\"12\" lengthAdjust=\"spacingAndGlyphs\" textLength=\"8\" x=\"542\" y=\"194.1074\">A</text><line style=\"stroke: #383838; stroke-width: 1.5;\" x1=\"499.5\" x2=\"592.5\" y1=\"201.9375\" y2=\"201.9375\"/><text fill=\"#000000\" font-family=\"sans-serif\" font-size=\"11\" lengthAdjust=\"spacingAndGlyphs\" textLength=\"48\" x=\"504.5\" y=\"232.9526\">x: String</text><text fill=\"#000000\" font-family=\"sans-serif\" font-size=\"11\" lengthAdjust=\"spacingAndGlyphs\" textLength=\"21\" x=\"504.5\" y=\"245.7573\">y: A</text><line style=\"stroke: #383838; stroke-width: 1.0;\" x1=\"499.5\" x2=\"518.5\" y1=\"216.3398\" y2=\"216.3398\"/><text fill=\"#000000\" font-family=\"sans-serif\" font-size=\"11\" lengthAdjust=\"spacingAndGlyphs\" textLength=\"55\" x=\"518.5\" y=\"219.6479\">attributes</text><line style=\"stroke: #383838; stroke-width: 1.0;\" x1=\"573.5\" x2=\"592.5\" y1=\"216.3398\" y2=\"216.3398\"/></a><!--MD5=[09b614a08d8cba4a07c9adeb5e0fee81]\n",
       "class E3--><a href=\"psysml:d7af749e-ffc6-4773-972a-b8dfcfe9deb8\" target=\"_top\" title=\"psysml:d7af749e-ffc6-4773-972a-b8dfcfe9deb8\" xlink:actuate=\"onRequest\" xlink:href=\"psysml:d7af749e-ffc6-4773-972a-b8dfcfe9deb8\" xlink:show=\"new\" xlink:title=\"psysml:d7af749e-ffc6-4773-972a-b8dfcfe9deb8\" xlink:type=\"simple\"><rect fill=\"#FFFFFF\" height=\"45.9375\" id=\"E3\" rx=\"10\" ry=\"10\" style=\"stroke: #383838; stroke-width: 1.5;\" width=\"71\" x=\"600.5\" y=\"41\"/><text fill=\"#000000\" font-family=\"sans-serif\" font-size=\"12\" font-style=\"italic\" lengthAdjust=\"spacingAndGlyphs\" textLength=\"69\" x=\"601.5\" y=\"57.1387\">«attribute»</text><text fill=\"#000000\" font-family=\"sans-serif\" font-size=\"12\" lengthAdjust=\"spacingAndGlyphs\" textLength=\"24\" x=\"624\" y=\"71.1074\">a: A</text><line style=\"stroke: #383838; stroke-width: 1.5;\" x1=\"601.5\" x2=\"670.5\" y1=\"78.9375\" y2=\"78.9375\"/></a><!--MD5=[ebbe1d658d1005bcc118a6aa81145e00]\n",
       "class E4--><a href=\"psysml:cd1262f4-d3f9-4f52-89ee-1653680ad782\" target=\"_top\" title=\"psysml:cd1262f4-d3f9-4f52-89ee-1653680ad782\" xlink:actuate=\"onRequest\" xlink:href=\"psysml:cd1262f4-d3f9-4f52-89ee-1653680ad782\" xlink:show=\"new\" xlink:title=\"psysml:cd1262f4-d3f9-4f52-89ee-1653680ad782\" xlink:type=\"simple\"><rect fill=\"#FFFFFF\" height=\"45.9375\" id=\"E4\" style=\"stroke: #383838; stroke-width: 1.5;\" width=\"108\" x=\"457\" y=\"41\"/><text fill=\"#000000\" font-family=\"sans-serif\" font-size=\"12\" font-style=\"italic\" lengthAdjust=\"spacingAndGlyphs\" textLength=\"106\" x=\"458\" y=\"57.1387\">«calculation def»</text><text fill=\"#000000\" font-family=\"sans-serif\" font-size=\"12\" lengthAdjust=\"spacingAndGlyphs\" textLength=\"7\" x=\"507.5\" y=\"71.1074\">F</text><line style=\"stroke: #383838; stroke-width: 1.5;\" x1=\"458\" x2=\"564\" y1=\"78.9375\" y2=\"78.9375\"/></a><!--MD5=[270fce915f116d4de14055a7c1d9a0f3]\n",
       "class E5--><a href=\"psysml:e43abf7c-a809-48bd-8c78-cd0a53fbbdb6\" target=\"_top\" title=\"psysml:e43abf7c-a809-48bd-8c78-cd0a53fbbdb6\" xlink:actuate=\"onRequest\" xlink:href=\"psysml:e43abf7c-a809-48bd-8c78-cd0a53fbbdb6\" xlink:show=\"new\" xlink:title=\"psysml:e43abf7c-a809-48bd-8c78-cd0a53fbbdb6\" xlink:type=\"simple\"><rect fill=\"#FFFFFF\" height=\"45.9375\" id=\"E5\" rx=\"10\" ry=\"10\" style=\"stroke: #383838; stroke-width: 1.5;\" width=\"71\" x=\"350.5\" y=\"41\"/><text fill=\"#000000\" font-family=\"sans-serif\" font-size=\"12\" font-style=\"italic\" lengthAdjust=\"spacingAndGlyphs\" textLength=\"69\" x=\"351.5\" y=\"57.1387\">«attribute»</text><text fill=\"#000000\" font-family=\"sans-serif\" font-size=\"12\" lengthAdjust=\"spacingAndGlyphs\" textLength=\"4\" x=\"384\" y=\"71.1074\">f</text><line style=\"stroke: #383838; stroke-width: 1.5;\" x1=\"351.5\" x2=\"420.5\" y1=\"78.9375\" y2=\"78.9375\"/></a><!--MD5=[60a26617385b1d2d0262a64233df1f8d]\n",
       "class E6--><a href=\"psysml:04ff0b02-14ab-40e8-a866-ef9bcfd05ef7\" target=\"_top\" title=\"psysml:04ff0b02-14ab-40e8-a866-ef9bcfd05ef7\" xlink:actuate=\"onRequest\" xlink:href=\"psysml:04ff0b02-14ab-40e8-a866-ef9bcfd05ef7\" xlink:show=\"new\" xlink:title=\"psysml:04ff0b02-14ab-40e8-a866-ef9bcfd05ef7\" xlink:type=\"simple\"><rect fill=\"#FFFFFF\" height=\"45.9375\" id=\"E6\" rx=\"10\" ry=\"10\" style=\"stroke: #383838; stroke-width: 1.5;\" width=\"71\" x=\"244.5\" y=\"41\"/><text fill=\"#000000\" font-family=\"sans-serif\" font-size=\"12\" font-style=\"italic\" lengthAdjust=\"spacingAndGlyphs\" textLength=\"69\" x=\"245.5\" y=\"57.1387\">«attribute»</text><text fill=\"#000000\" font-family=\"sans-serif\" font-size=\"12\" lengthAdjust=\"spacingAndGlyphs\" textLength=\"8\" x=\"276\" y=\"71.1074\">g</text><line style=\"stroke: #383838; stroke-width: 1.5;\" x1=\"245.5\" x2=\"314.5\" y1=\"78.9375\" y2=\"78.9375\"/></a><!--MD5=[2156ba9850f5573cc1fc38a6a4b2f02b]\n",
       "class E7--><a href=\"psysml:37f56aff-8c9f-4a8e-95e0-50132129fb99\" target=\"_top\" title=\"psysml:37f56aff-8c9f-4a8e-95e0-50132129fb99\" xlink:actuate=\"onRequest\" xlink:href=\"psysml:37f56aff-8c9f-4a8e-95e0-50132129fb99\" xlink:show=\"new\" xlink:title=\"psysml:37f56aff-8c9f-4a8e-95e0-50132129fb99\" xlink:type=\"simple\"><rect fill=\"#FFFFFF\" height=\"45.9375\" id=\"E7\" rx=\"10\" ry=\"10\" style=\"stroke: #383838; stroke-width: 1.5;\" width=\"71\" x=\"138.5\" y=\"41\"/><text fill=\"#000000\" font-family=\"sans-serif\" font-size=\"12\" font-style=\"italic\" lengthAdjust=\"spacingAndGlyphs\" textLength=\"69\" x=\"139.5\" y=\"57.1387\">«attribute»</text><text fill=\"#000000\" font-family=\"sans-serif\" font-size=\"12\" lengthAdjust=\"spacingAndGlyphs\" textLength=\"8\" x=\"170\" y=\"71.1074\">b</text><line style=\"stroke: #383838; stroke-width: 1.5;\" x1=\"139.5\" x2=\"208.5\" y1=\"78.9375\" y2=\"78.9375\"/></a><!--MD5=[b9389687b975829384b498ac4b7476b2]\n",
       "class E8--><a href=\"psysml:6095b787-d7f9-43be-8b1b-f534282edd43\" target=\"_top\" title=\"psysml:6095b787-d7f9-43be-8b1b-f534282edd43\" xlink:actuate=\"onRequest\" xlink:href=\"psysml:6095b787-d7f9-43be-8b1b-f534282edd43\" xlink:show=\"new\" xlink:title=\"psysml:6095b787-d7f9-43be-8b1b-f534282edd43\" xlink:type=\"simple\"><rect fill=\"#FFFFFF\" height=\"45.9375\" id=\"E8\" rx=\"10\" ry=\"10\" style=\"stroke: #383838; stroke-width: 1.5;\" width=\"71\" x=\"32.5\" y=\"41\"/><text fill=\"#000000\" font-family=\"sans-serif\" font-size=\"12\" font-style=\"italic\" lengthAdjust=\"spacingAndGlyphs\" textLength=\"69\" x=\"33.5\" y=\"57.1387\">«attribute»</text><text fill=\"#000000\" font-family=\"sans-serif\" font-size=\"12\" lengthAdjust=\"spacingAndGlyphs\" textLength=\"7\" x=\"64.5\" y=\"71.1074\">c</text><line style=\"stroke: #383838; stroke-width: 1.5;\" x1=\"33.5\" x2=\"102.5\" y1=\"78.9375\" y2=\"78.9375\"/></a><!--MD5=[05d275557350bfb9b23a4ef7222b4c39]\n",
       "link E3 to E2--><a href=\"psysml:982c8c0e-9af2-4f93-8067-230d5c39d8a2\" target=\"_top\" title=\"psysml:982c8c0e-9af2-4f93-8067-230d5c39d8a2\" xlink:actuate=\"onRequest\" xlink:href=\"psysml:982c8c0e-9af2-4f93-8067-230d5c39d8a2\" xlink:show=\"new\" xlink:title=\"psysml:982c8c0e-9af2-4f93-8067-230d5c39d8a2\" xlink:type=\"simple\"><path d=\"M621.94,87.19 C611.77,103.23 597.51,125.73 584.09,146.9 \" fill=\"none\" id=\"E3-&gt;E2\" style=\"stroke: #383838; stroke-width: 1.0;\"/><polygon fill=\"#FFFFFF\" points=\"573.37,163.82,577.6195,144.0225,589.448,151.5115,573.37,163.82\" style=\"stroke: #383838; stroke-width: 1.0;\"/><ellipse cx=\"582.3584\" cy=\"140.2764\" fill=\"#383838\" rx=\"2\" ry=\"2\" style=\"stroke: #383838; stroke-width: 1.0;\"/><ellipse cx=\"590.8073\" cy=\"145.6258\" fill=\"#383838\" rx=\"2\" ry=\"2\" style=\"stroke: #383838; stroke-width: 1.0;\"/></a><!--MD5=[ddeed8deb2209213b62e6cfabaa108b2]\n",
       "reverse link E4 to E2--><a href=\"psysml:16d77514-2de6-4c2c-add7-8b8555ca417f\" target=\"_top\" title=\"psysml:16d77514-2de6-4c2c-add7-8b8555ca417f\" xlink:actuate=\"onRequest\" xlink:href=\"psysml:16d77514-2de6-4c2c-add7-8b8555ca417f\" xlink:show=\"new\" xlink:title=\"psysml:16d77514-2de6-4c2c-add7-8b8555ca417f\" xlink:type=\"simple\"><path d=\"M519.62,99.96 C524.37,119.25 530.31,143.36 535.36,163.82 \" fill=\"none\" id=\"E4&lt;-E2\" style=\"stroke: #383838; stroke-width: 1.0;\"/><polygon fill=\"#FFFFFF\" points=\"516.47,87.19,514.0229,93.9732,519.3432,98.841,521.7903,92.0577,516.47,87.19\" style=\"stroke: #383838; stroke-width: 1.0;\"/><text fill=\"#000000\" font-family=\"sans-serif\" font-size=\"13\" lengthAdjust=\"spacingAndGlyphs\" textLength=\"8\" x=\"528\" y=\"130.0669\">p</text></a><!--MD5=[e56a0f5158ca92c65c00e33f059bc497]\n",
       "@startuml\r\n",
       "top to bottom direction\r\n",
       "skinparam monochrome true\r\n",
       "skinparam classbackgroundcolor white\r\n",
       "skinparam shadowing false\r\n",
       "skinparam wrapWidth 300\r\n",
       "hide circle\r\n",
       "\r\n",
       "package \"ParameterTest\" as E1  [[psysml:0dacd990-2b3a-4306-80d2-1e4fad6d04cd ]]  {\r\n",
       "comp def \"A\" as E2  <<(T,blue)attribute def>> [[psysml:03a6349f-297b-4a78-b9ab-052989f96479 ]] {\r\n",
       "- - attributes - -\r\n",
       "x: String\r\n",
       "y: A\r\n",
       "}\r\n",
       "comp usage \"a: A\" as E3  <<(T,blue)attribute>> [[psysml:d7af749e-ffc6-4773-972a-b8dfcfe9deb8 ]] {\r\n",
       "}\r\n",
       "comp def \"F\" as E4  <<(T,blue)calculation def>> [[psysml:cd1262f4-d3f9-4f52-89ee-1653680ad782 ]] {\r\n",
       "}\r\n",
       "comp usage \"f\" as E5  <<(T,blue)attribute>> [[psysml:e43abf7c-a809-48bd-8c78-cd0a53fbbdb6 ]] {\r\n",
       "}\r\n",
       "comp usage \"g\" as E6  <<(T,blue)attribute>> [[psysml:04ff0b02-14ab-40e8-a866-ef9bcfd05ef7 ]] {\r\n",
       "}\r\n",
       "comp usage \"b\" as E7  <<(T,blue)attribute>> [[psysml:37f56aff-8c9f-4a8e-95e0-50132129fb99 ]] {\r\n",
       "}\r\n",
       "comp usage \"c\" as E8  <<(T,blue)attribute>> [[psysml:6095b787-d7f9-43be-8b1b-f534282edd43 ]] {\r\n",
       "}\r\n",
       "E3 - -:|> E2 [[psysml:982c8c0e-9af2-4f93-8067-230d5c39d8a2 ]] \r\n",
       "E4 o- - E2 [[psysml:16d77514-2de6-4c2c-add7-8b8555ca417f ]] : p\r\n",
       "}\r\n",
       "@enduml\r\n",
       "\n",
       "PlantUML version 1.2020.13(Sat Jun 13 12:26:38 UTC 2020)\n",
       "(EPL source distribution)\n",
       "Java Runtime: OpenJDK Runtime Environment\n",
       "JVM: OpenJDK 64-Bit Server VM\n",
       "Default Encoding: UTF-8\n",
       "Language: en\n",
       "Country: null\n",
       "--></g></svg>"
      ]
     },
     "execution_count": 49,
     "metadata": {},
     "output_type": "execute_result"
    }
   ],
   "source": [
    "%viz --style=\"TB\" --view=\"Sequence\" \"ParameterTest\""
   ]
  },
  {
   "cell_type": "code",
   "execution_count": 50,
   "id": "every-green",
   "metadata": {
    "execution": {
     "iopub.execute_input": "2021-03-24T16:28:56.664772Z",
     "iopub.status.busy": "2021-03-24T16:28:56.664410Z",
     "iopub.status.idle": "2021-03-24T16:28:56.716191Z",
     "shell.execute_reply": "2021-03-24T16:28:56.714648Z"
    }
   },
   "outputs": [
    {
     "data": {
      "image/svg+xml": [
       "<?xml version=\"1.0\" encoding=\"UTF-8\" standalone=\"no\"?><svg xmlns=\"http://www.w3.org/2000/svg\" xmlns:xlink=\"http://www.w3.org/1999/xlink\" contentScriptType=\"application/ecmascript\" contentStyleType=\"text/css\" height=\"403px\" preserveAspectRatio=\"none\" style=\"width:740px;height:403px;\" version=\"1.1\" viewBox=\"0 0 740 403\" width=\"740px\" zoomAndPan=\"magnify\"><defs/><g><!--MD5=[fbc87193dbaf4d95561dea2c320d4a47]\n",
       "cluster E1--><a href=\"psysml:0dacd990-2b3a-4306-80d2-1e4fad6d04cd\" target=\"_top\" title=\"psysml:0dacd990-2b3a-4306-80d2-1e4fad6d04cd\" xlink:actuate=\"onRequest\" xlink:href=\"psysml:0dacd990-2b3a-4306-80d2-1e4fad6d04cd\" xlink:show=\"new\" xlink:title=\"psysml:0dacd990-2b3a-4306-80d2-1e4fad6d04cd\" xlink:type=\"simple\"><polygon fill=\"#FFFFFF\" points=\"16,6,139,6,146,28.2969,718,28.2969,718,391.72,16,391.72,16,6\" style=\"stroke: #000000; stroke-width: 1.5;\"/><line style=\"stroke: #000000; stroke-width: 1.5;\" x1=\"16\" x2=\"146\" y1=\"28.2969\" y2=\"28.2969\"/><text fill=\"#000000\" font-family=\"sans-serif\" font-size=\"14\" font-weight=\"bold\" lengthAdjust=\"spacingAndGlyphs\" textLength=\"117\" x=\"20\" y=\"20.9951\">ParameterTest</text></a><!--MD5=[f6df4d0ebaf0b5dfb2ced0ae5af7c670]\n",
       "cluster E4--><a href=\"psysml:cd1262f4-d3f9-4f52-89ee-1653680ad782\" target=\"_top\" title=\"psysml:cd1262f4-d3f9-4f52-89ee-1653680ad782\" xlink:actuate=\"onRequest\" xlink:href=\"psysml:cd1262f4-d3f9-4f52-89ee-1653680ad782\" xlink:show=\"new\" xlink:title=\"psysml:cd1262f4-d3f9-4f52-89ee-1653680ad782\" xlink:type=\"simple\"><rect fill=\"#FFFFFF\" height=\"297.72\" id=\"E4\" style=\"stroke: #383838; stroke-width: 1.5;\" width=\"148\" x=\"554\" y=\"64\"/><rect fill=\"#F8F8F8\" height=\"37.9375\" style=\"stroke: #383838; stroke-width: 1.5;\" width=\"148\" x=\"554\" y=\"64\"/><text fill=\"#000000\" font-family=\"sans-serif\" font-size=\"12\" font-style=\"italic\" lengthAdjust=\"spacingAndGlyphs\" textLength=\"106\" x=\"575\" y=\"80.1387\">«calculation def»</text><text fill=\"#000000\" font-family=\"sans-serif\" font-size=\"12\" lengthAdjust=\"spacingAndGlyphs\" textLength=\"7\" x=\"624.5\" y=\"94.1074\">F</text></a><!--MD5=[b4997ac47864f28c2f74865a473b2911]\n",
       "class E2--><a href=\"psysml:03a6349f-297b-4a78-b9ab-052989f96479\" target=\"_top\" title=\"psysml:03a6349f-297b-4a78-b9ab-052989f96479\" xlink:actuate=\"onRequest\" xlink:href=\"psysml:03a6349f-297b-4a78-b9ab-052989f96479\" xlink:show=\"new\" xlink:title=\"psysml:03a6349f-297b-4a78-b9ab-052989f96479\" xlink:type=\"simple\"><rect fill=\"#FFFFFF\" height=\"88.3516\" id=\"E2\" style=\"stroke: #383838; stroke-width: 1.5;\" width=\"95\" x=\"422.5\" y=\"147\"/><text fill=\"#000000\" font-family=\"sans-serif\" font-size=\"12\" font-style=\"italic\" lengthAdjust=\"spacingAndGlyphs\" textLength=\"93\" x=\"423.5\" y=\"163.1387\">«attribute def»</text><text fill=\"#000000\" font-family=\"sans-serif\" font-size=\"12\" lengthAdjust=\"spacingAndGlyphs\" textLength=\"8\" x=\"466\" y=\"177.1074\">A</text><line style=\"stroke: #383838; stroke-width: 1.5;\" x1=\"423.5\" x2=\"516.5\" y1=\"184.9375\" y2=\"184.9375\"/><text fill=\"#000000\" font-family=\"sans-serif\" font-size=\"11\" lengthAdjust=\"spacingAndGlyphs\" textLength=\"48\" x=\"428.5\" y=\"215.9526\">x: String</text><text fill=\"#000000\" font-family=\"sans-serif\" font-size=\"11\" lengthAdjust=\"spacingAndGlyphs\" textLength=\"21\" x=\"428.5\" y=\"228.7573\">y: A</text><line style=\"stroke: #383838; stroke-width: 1.0;\" x1=\"423.5\" x2=\"442.5\" y1=\"199.3398\" y2=\"199.3398\"/><text fill=\"#000000\" font-family=\"sans-serif\" font-size=\"11\" lengthAdjust=\"spacingAndGlyphs\" textLength=\"55\" x=\"442.5\" y=\"202.6479\">attributes</text><line style=\"stroke: #383838; stroke-width: 1.0;\" x1=\"497.5\" x2=\"516.5\" y1=\"199.3398\" y2=\"199.3398\"/></a><!--MD5=[09b614a08d8cba4a07c9adeb5e0fee81]\n",
       "class E3--><a href=\"psysml:d7af749e-ffc6-4773-972a-b8dfcfe9deb8\" target=\"_top\" title=\"psysml:d7af749e-ffc6-4773-972a-b8dfcfe9deb8\" xlink:actuate=\"onRequest\" xlink:href=\"psysml:d7af749e-ffc6-4773-972a-b8dfcfe9deb8\" xlink:show=\"new\" xlink:title=\"psysml:d7af749e-ffc6-4773-972a-b8dfcfe9deb8\" xlink:type=\"simple\"><rect fill=\"#FFFFFF\" height=\"45.9375\" id=\"E3\" rx=\"10\" ry=\"10\" style=\"stroke: #383838; stroke-width: 1.5;\" width=\"71\" x=\"456.5\" y=\"41\"/><text fill=\"#000000\" font-family=\"sans-serif\" font-size=\"12\" font-style=\"italic\" lengthAdjust=\"spacingAndGlyphs\" textLength=\"69\" x=\"457.5\" y=\"57.1387\">«attribute»</text><text fill=\"#000000\" font-family=\"sans-serif\" font-size=\"12\" lengthAdjust=\"spacingAndGlyphs\" textLength=\"24\" x=\"480\" y=\"71.1074\">a: A</text><line style=\"stroke: #383838; stroke-width: 1.5;\" x1=\"457.5\" x2=\"526.5\" y1=\"78.9375\" y2=\"78.9375\"/></a><!--MD5=[b9389687b975829384b498ac4b7476b2]\n",
       "class E8--><a href=\"psysml:e43abf7c-a809-48bd-8c78-cd0a53fbbdb6\" target=\"_top\" title=\"psysml:e43abf7c-a809-48bd-8c78-cd0a53fbbdb6\" xlink:actuate=\"onRequest\" xlink:href=\"psysml:e43abf7c-a809-48bd-8c78-cd0a53fbbdb6\" xlink:show=\"new\" xlink:title=\"psysml:e43abf7c-a809-48bd-8c78-cd0a53fbbdb6\" xlink:type=\"simple\"><rect fill=\"#FFFFFF\" height=\"45.9375\" id=\"E8\" rx=\"10\" ry=\"10\" style=\"stroke: #383838; stroke-width: 1.5;\" width=\"71\" x=\"350.5\" y=\"41\"/><text fill=\"#000000\" font-family=\"sans-serif\" font-size=\"12\" font-style=\"italic\" lengthAdjust=\"spacingAndGlyphs\" textLength=\"69\" x=\"351.5\" y=\"57.1387\">«attribute»</text><text fill=\"#000000\" font-family=\"sans-serif\" font-size=\"12\" lengthAdjust=\"spacingAndGlyphs\" textLength=\"4\" x=\"384\" y=\"71.1074\">f</text><line style=\"stroke: #383838; stroke-width: 1.5;\" x1=\"351.5\" x2=\"420.5\" y1=\"78.9375\" y2=\"78.9375\"/></a><!--MD5=[fd4143e9d270a159db93a4ea2a975926]\n",
       "class E9--><a href=\"psysml:04ff0b02-14ab-40e8-a866-ef9bcfd05ef7\" target=\"_top\" title=\"psysml:04ff0b02-14ab-40e8-a866-ef9bcfd05ef7\" xlink:actuate=\"onRequest\" xlink:href=\"psysml:04ff0b02-14ab-40e8-a866-ef9bcfd05ef7\" xlink:show=\"new\" xlink:title=\"psysml:04ff0b02-14ab-40e8-a866-ef9bcfd05ef7\" xlink:type=\"simple\"><rect fill=\"#FFFFFF\" height=\"45.9375\" id=\"E9\" rx=\"10\" ry=\"10\" style=\"stroke: #383838; stroke-width: 1.5;\" width=\"71\" x=\"244.5\" y=\"41\"/><text fill=\"#000000\" font-family=\"sans-serif\" font-size=\"12\" font-style=\"italic\" lengthAdjust=\"spacingAndGlyphs\" textLength=\"69\" x=\"245.5\" y=\"57.1387\">«attribute»</text><text fill=\"#000000\" font-family=\"sans-serif\" font-size=\"12\" lengthAdjust=\"spacingAndGlyphs\" textLength=\"8\" x=\"276\" y=\"71.1074\">g</text><line style=\"stroke: #383838; stroke-width: 1.5;\" x1=\"245.5\" x2=\"314.5\" y1=\"78.9375\" y2=\"78.9375\"/></a><!--MD5=[96f4274e9e20536e775497830990834d]\n",
       "class E10--><a href=\"psysml:37f56aff-8c9f-4a8e-95e0-50132129fb99\" target=\"_top\" title=\"psysml:37f56aff-8c9f-4a8e-95e0-50132129fb99\" xlink:actuate=\"onRequest\" xlink:href=\"psysml:37f56aff-8c9f-4a8e-95e0-50132129fb99\" xlink:show=\"new\" xlink:title=\"psysml:37f56aff-8c9f-4a8e-95e0-50132129fb99\" xlink:type=\"simple\"><rect fill=\"#FFFFFF\" height=\"45.9375\" id=\"E10\" rx=\"10\" ry=\"10\" style=\"stroke: #383838; stroke-width: 1.5;\" width=\"71\" x=\"138.5\" y=\"41\"/><text fill=\"#000000\" font-family=\"sans-serif\" font-size=\"12\" font-style=\"italic\" lengthAdjust=\"spacingAndGlyphs\" textLength=\"69\" x=\"139.5\" y=\"57.1387\">«attribute»</text><text fill=\"#000000\" font-family=\"sans-serif\" font-size=\"12\" lengthAdjust=\"spacingAndGlyphs\" textLength=\"8\" x=\"170\" y=\"71.1074\">b</text><line style=\"stroke: #383838; stroke-width: 1.5;\" x1=\"139.5\" x2=\"208.5\" y1=\"78.9375\" y2=\"78.9375\"/></a><!--MD5=[1dd1bfd58a279cf63c5f349dbc8fc6a1]\n",
       "class E11--><a href=\"psysml:6095b787-d7f9-43be-8b1b-f534282edd43\" target=\"_top\" title=\"psysml:6095b787-d7f9-43be-8b1b-f534282edd43\" xlink:actuate=\"onRequest\" xlink:href=\"psysml:6095b787-d7f9-43be-8b1b-f534282edd43\" xlink:show=\"new\" xlink:title=\"psysml:6095b787-d7f9-43be-8b1b-f534282edd43\" xlink:type=\"simple\"><rect fill=\"#FFFFFF\" height=\"45.9375\" id=\"E11\" rx=\"10\" ry=\"10\" style=\"stroke: #383838; stroke-width: 1.5;\" width=\"71\" x=\"32.5\" y=\"41\"/><text fill=\"#000000\" font-family=\"sans-serif\" font-size=\"12\" font-style=\"italic\" lengthAdjust=\"spacingAndGlyphs\" textLength=\"69\" x=\"33.5\" y=\"57.1387\">«attribute»</text><text fill=\"#000000\" font-family=\"sans-serif\" font-size=\"12\" lengthAdjust=\"spacingAndGlyphs\" textLength=\"7\" x=\"64.5\" y=\"71.1074\">c</text><line style=\"stroke: #383838; stroke-width: 1.5;\" x1=\"33.5\" x2=\"102.5\" y1=\"78.9375\" y2=\"78.9375\"/></a><text fill=\"#000000\" font-family=\"sans-serif\" font-size=\"14\" lengthAdjust=\"spacingAndGlyphs\" textLength=\"9\" x=\"567.5\" y=\"42.6982\">p</text><rect fill=\"#383838\" height=\"12\" style=\"stroke: #F8F8F8; stroke-width: 1.5;\" width=\"12\" x=\"566\" y=\"58\"/><text fill=\"#000000\" font-family=\"sans-serif\" font-size=\"14\" lengthAdjust=\"spacingAndGlyphs\" textLength=\"9\" x=\"614.5\" y=\"42.6982\">q</text><rect fill=\"#383838\" height=\"12\" style=\"stroke: #F8F8F8; stroke-width: 1.5;\" width=\"12\" x=\"613\" y=\"58\"/><text fill=\"#000000\" font-family=\"sans-serif\" font-size=\"14\" lengthAdjust=\"spacingAndGlyphs\" textLength=\"57\" x=\"590.5\" y=\"380.7151\">noname</text><rect fill=\"#383838\" height=\"12\" style=\"stroke: #F8F8F8; stroke-width: 1.5;\" width=\"12\" x=\"613\" y=\"355.72\"/><!--MD5=[05d275557350bfb9b23a4ef7222b4c39]\n",
       "link E3 to E2--><a href=\"psysml:982c8c0e-9af2-4f93-8067-230d5c39d8a2\" target=\"_top\" title=\"psysml:982c8c0e-9af2-4f93-8067-230d5c39d8a2\" xlink:actuate=\"onRequest\" xlink:href=\"psysml:982c8c0e-9af2-4f93-8067-230d5c39d8a2\" xlink:show=\"new\" xlink:title=\"psysml:982c8c0e-9af2-4f93-8067-230d5c39d8a2\" xlink:type=\"simple\"><path d=\"M488.12,87.06 C486.14,98.3 483.62,112.6 481.1,126.95 \" fill=\"none\" id=\"E3-&gt;E2\" style=\"stroke: #383838; stroke-width: 1.0;\"/><polygon fill=\"#FFFFFF\" points=\"477.58,146.93,473.9835,127.0035,487.7711,129.4331,477.58,146.93\" style=\"stroke: #383838; stroke-width: 1.0;\"/><ellipse cx=\"476.9423\" cy=\"121.7371\" fill=\"#383838\" rx=\"2\" ry=\"2\" style=\"stroke: #383838; stroke-width: 1.0;\"/><ellipse cx=\"486.7906\" cy=\"123.4725\" fill=\"#383838\" rx=\"2\" ry=\"2\" style=\"stroke: #383838; stroke-width: 1.0;\"/></a><!--MD5=[324ff9de0c7b6f4ae5b3ee327f0deee7]\n",
       "@startuml\r\n",
       "top to bottom direction\r\n",
       "skinparam monochrome true\r\n",
       "skinparam classbackgroundcolor white\r\n",
       "skinparam shadowing false\r\n",
       "skinparam wrapWidth 300\r\n",
       "hide circle\r\n",
       "\r\n",
       "package \"ParameterTest\" as E1  [[psysml:0dacd990-2b3a-4306-80d2-1e4fad6d04cd ]]  {\r\n",
       "comp def \"A\" as E2  <<(T,blue)attribute def>> [[psysml:03a6349f-297b-4a78-b9ab-052989f96479 ]] {\r\n",
       "- - attributes - -\r\n",
       "x: String\r\n",
       "y: A\r\n",
       "}\r\n",
       "comp usage \"a: A\" as E3  <<(T,blue)attribute>> [[psysml:d7af749e-ffc6-4773-972a-b8dfcfe9deb8 ]] {\r\n",
       "}\r\n",
       "rec def \"F\" as E4  <<(T,blue)calculation def>> [[psysml:cd1262f4-d3f9-4f52-89ee-1653680ad782 ]] {\r\n",
       "portin \"p\" as E5  [[psysml:16d77514-2de6-4c2c-add7-8b8555ca417f ]] \r\n",
       "portin \"q\" as E6  [[psysml:85e14753-ca59-4cde-8265-18a8cb4b45d6 ]] \r\n",
       "portout \"noname\" as E7  [[psysml:99b94083-4aa7-41fb-8d8e-135498f03bbe ]] \r\n",
       "}\r\n",
       "\r\n",
       "comp usage \"f\" as E8  <<(T,blue)attribute>> [[psysml:e43abf7c-a809-48bd-8c78-cd0a53fbbdb6 ]] {\r\n",
       "}\r\n",
       "comp usage \"g\" as E9  <<(T,blue)attribute>> [[psysml:04ff0b02-14ab-40e8-a866-ef9bcfd05ef7 ]] {\r\n",
       "}\r\n",
       "comp usage \"b\" as E10  <<(T,blue)attribute>> [[psysml:37f56aff-8c9f-4a8e-95e0-50132129fb99 ]] {\r\n",
       "}\r\n",
       "comp usage \"c\" as E11  <<(T,blue)attribute>> [[psysml:6095b787-d7f9-43be-8b1b-f534282edd43 ]] {\r\n",
       "}\r\n",
       "E3 - -:|> E2 [[psysml:982c8c0e-9af2-4f93-8067-230d5c39d8a2 ]] \r\n",
       "}\r\n",
       "@enduml\r\n",
       "\n",
       "PlantUML version 1.2020.13(Sat Jun 13 12:26:38 UTC 2020)\n",
       "(EPL source distribution)\n",
       "Java Runtime: OpenJDK Runtime Environment\n",
       "JVM: OpenJDK 64-Bit Server VM\n",
       "Default Encoding: UTF-8\n",
       "Language: en\n",
       "Country: null\n",
       "--></g></svg>"
      ]
     },
     "execution_count": 50,
     "metadata": {},
     "output_type": "execute_result"
    }
   ],
   "source": [
    "%viz --style=\"TB\" --view=\"MIXED\" \"ParameterTest\""
   ]
  },
  {
   "cell_type": "code",
   "execution_count": 51,
   "id": "suffering-pioneer",
   "metadata": {
    "execution": {
     "iopub.execute_input": "2021-03-24T16:28:56.768361Z",
     "iopub.status.busy": "2021-03-24T16:28:56.767948Z",
     "iopub.status.idle": "2021-03-24T16:28:56.815662Z",
     "shell.execute_reply": "2021-03-24T16:28:56.814393Z"
    }
   },
   "outputs": [
    {
     "data": {
      "image/svg+xml": [
       "<?xml version=\"1.0\" encoding=\"UTF-8\" standalone=\"no\"?><svg xmlns=\"http://www.w3.org/2000/svg\" xmlns:xlink=\"http://www.w3.org/1999/xlink\" contentScriptType=\"application/ecmascript\" contentStyleType=\"text/css\" height=\"403px\" preserveAspectRatio=\"none\" style=\"width:740px;height:403px;\" version=\"1.1\" viewBox=\"0 0 740 403\" width=\"740px\" zoomAndPan=\"magnify\"><defs/><g><!--MD5=[fbc87193dbaf4d95561dea2c320d4a47]\n",
       "cluster E1--><a href=\"psysml:0dacd990-2b3a-4306-80d2-1e4fad6d04cd\" target=\"_top\" title=\"psysml:0dacd990-2b3a-4306-80d2-1e4fad6d04cd\" xlink:actuate=\"onRequest\" xlink:href=\"psysml:0dacd990-2b3a-4306-80d2-1e4fad6d04cd\" xlink:show=\"new\" xlink:title=\"psysml:0dacd990-2b3a-4306-80d2-1e4fad6d04cd\" xlink:type=\"simple\"><polygon fill=\"#FFFFFF\" points=\"16,6,139,6,146,28.2969,718,28.2969,718,391.72,16,391.72,16,6\" style=\"stroke: #000000; stroke-width: 1.5;\"/><line style=\"stroke: #000000; stroke-width: 1.5;\" x1=\"16\" x2=\"146\" y1=\"28.2969\" y2=\"28.2969\"/><text fill=\"#000000\" font-family=\"sans-serif\" font-size=\"14\" font-weight=\"bold\" lengthAdjust=\"spacingAndGlyphs\" textLength=\"117\" x=\"20\" y=\"20.9951\">ParameterTest</text></a><!--MD5=[f6df4d0ebaf0b5dfb2ced0ae5af7c670]\n",
       "cluster E4--><a href=\"psysml:cd1262f4-d3f9-4f52-89ee-1653680ad782\" target=\"_top\" title=\"psysml:cd1262f4-d3f9-4f52-89ee-1653680ad782\" xlink:actuate=\"onRequest\" xlink:href=\"psysml:cd1262f4-d3f9-4f52-89ee-1653680ad782\" xlink:show=\"new\" xlink:title=\"psysml:cd1262f4-d3f9-4f52-89ee-1653680ad782\" xlink:type=\"simple\"><rect fill=\"#FFFFFF\" height=\"297.72\" id=\"E4\" style=\"stroke: #383838; stroke-width: 1.5;\" width=\"148\" x=\"554\" y=\"64\"/><rect fill=\"#F8F8F8\" height=\"37.9375\" style=\"stroke: #383838; stroke-width: 1.5;\" width=\"148\" x=\"554\" y=\"64\"/><text fill=\"#000000\" font-family=\"sans-serif\" font-size=\"12\" font-style=\"italic\" lengthAdjust=\"spacingAndGlyphs\" textLength=\"106\" x=\"575\" y=\"80.1387\">«calculation def»</text><text fill=\"#000000\" font-family=\"sans-serif\" font-size=\"12\" lengthAdjust=\"spacingAndGlyphs\" textLength=\"7\" x=\"624.5\" y=\"94.1074\">F</text></a><!--MD5=[b4997ac47864f28c2f74865a473b2911]\n",
       "class E2--><a href=\"psysml:03a6349f-297b-4a78-b9ab-052989f96479\" target=\"_top\" title=\"psysml:03a6349f-297b-4a78-b9ab-052989f96479\" xlink:actuate=\"onRequest\" xlink:href=\"psysml:03a6349f-297b-4a78-b9ab-052989f96479\" xlink:show=\"new\" xlink:title=\"psysml:03a6349f-297b-4a78-b9ab-052989f96479\" xlink:type=\"simple\"><rect fill=\"#FFFFFF\" height=\"88.3516\" id=\"E2\" style=\"stroke: #383838; stroke-width: 1.5;\" width=\"95\" x=\"422.5\" y=\"147\"/><text fill=\"#000000\" font-family=\"sans-serif\" font-size=\"12\" font-style=\"italic\" lengthAdjust=\"spacingAndGlyphs\" textLength=\"93\" x=\"423.5\" y=\"163.1387\">«attribute def»</text><text fill=\"#000000\" font-family=\"sans-serif\" font-size=\"12\" lengthAdjust=\"spacingAndGlyphs\" textLength=\"8\" x=\"466\" y=\"177.1074\">A</text><line style=\"stroke: #383838; stroke-width: 1.5;\" x1=\"423.5\" x2=\"516.5\" y1=\"184.9375\" y2=\"184.9375\"/><text fill=\"#000000\" font-family=\"sans-serif\" font-size=\"11\" lengthAdjust=\"spacingAndGlyphs\" textLength=\"48\" x=\"428.5\" y=\"215.9526\">x: String</text><text fill=\"#000000\" font-family=\"sans-serif\" font-size=\"11\" lengthAdjust=\"spacingAndGlyphs\" textLength=\"21\" x=\"428.5\" y=\"228.7573\">y: A</text><line style=\"stroke: #383838; stroke-width: 1.0;\" x1=\"423.5\" x2=\"442.5\" y1=\"199.3398\" y2=\"199.3398\"/><text fill=\"#000000\" font-family=\"sans-serif\" font-size=\"11\" lengthAdjust=\"spacingAndGlyphs\" textLength=\"55\" x=\"442.5\" y=\"202.6479\">attributes</text><line style=\"stroke: #383838; stroke-width: 1.0;\" x1=\"497.5\" x2=\"516.5\" y1=\"199.3398\" y2=\"199.3398\"/></a><!--MD5=[09b614a08d8cba4a07c9adeb5e0fee81]\n",
       "class E3--><a href=\"psysml:d7af749e-ffc6-4773-972a-b8dfcfe9deb8\" target=\"_top\" title=\"psysml:d7af749e-ffc6-4773-972a-b8dfcfe9deb8\" xlink:actuate=\"onRequest\" xlink:href=\"psysml:d7af749e-ffc6-4773-972a-b8dfcfe9deb8\" xlink:show=\"new\" xlink:title=\"psysml:d7af749e-ffc6-4773-972a-b8dfcfe9deb8\" xlink:type=\"simple\"><rect fill=\"#FFFFFF\" height=\"45.9375\" id=\"E3\" rx=\"10\" ry=\"10\" style=\"stroke: #383838; stroke-width: 1.5;\" width=\"71\" x=\"456.5\" y=\"41\"/><text fill=\"#000000\" font-family=\"sans-serif\" font-size=\"12\" font-style=\"italic\" lengthAdjust=\"spacingAndGlyphs\" textLength=\"69\" x=\"457.5\" y=\"57.1387\">«attribute»</text><text fill=\"#000000\" font-family=\"sans-serif\" font-size=\"12\" lengthAdjust=\"spacingAndGlyphs\" textLength=\"24\" x=\"480\" y=\"71.1074\">a: A</text><line style=\"stroke: #383838; stroke-width: 1.5;\" x1=\"457.5\" x2=\"526.5\" y1=\"78.9375\" y2=\"78.9375\"/></a><!--MD5=[b9389687b975829384b498ac4b7476b2]\n",
       "class E8--><a href=\"psysml:e43abf7c-a809-48bd-8c78-cd0a53fbbdb6\" target=\"_top\" title=\"psysml:e43abf7c-a809-48bd-8c78-cd0a53fbbdb6\" xlink:actuate=\"onRequest\" xlink:href=\"psysml:e43abf7c-a809-48bd-8c78-cd0a53fbbdb6\" xlink:show=\"new\" xlink:title=\"psysml:e43abf7c-a809-48bd-8c78-cd0a53fbbdb6\" xlink:type=\"simple\"><rect fill=\"#FFFFFF\" height=\"45.9375\" id=\"E8\" rx=\"10\" ry=\"10\" style=\"stroke: #383838; stroke-width: 1.5;\" width=\"71\" x=\"350.5\" y=\"41\"/><text fill=\"#000000\" font-family=\"sans-serif\" font-size=\"12\" font-style=\"italic\" lengthAdjust=\"spacingAndGlyphs\" textLength=\"69\" x=\"351.5\" y=\"57.1387\">«attribute»</text><text fill=\"#000000\" font-family=\"sans-serif\" font-size=\"12\" lengthAdjust=\"spacingAndGlyphs\" textLength=\"4\" x=\"384\" y=\"71.1074\">f</text><line style=\"stroke: #383838; stroke-width: 1.5;\" x1=\"351.5\" x2=\"420.5\" y1=\"78.9375\" y2=\"78.9375\"/></a><!--MD5=[fd4143e9d270a159db93a4ea2a975926]\n",
       "class E9--><a href=\"psysml:04ff0b02-14ab-40e8-a866-ef9bcfd05ef7\" target=\"_top\" title=\"psysml:04ff0b02-14ab-40e8-a866-ef9bcfd05ef7\" xlink:actuate=\"onRequest\" xlink:href=\"psysml:04ff0b02-14ab-40e8-a866-ef9bcfd05ef7\" xlink:show=\"new\" xlink:title=\"psysml:04ff0b02-14ab-40e8-a866-ef9bcfd05ef7\" xlink:type=\"simple\"><rect fill=\"#FFFFFF\" height=\"45.9375\" id=\"E9\" rx=\"10\" ry=\"10\" style=\"stroke: #383838; stroke-width: 1.5;\" width=\"71\" x=\"244.5\" y=\"41\"/><text fill=\"#000000\" font-family=\"sans-serif\" font-size=\"12\" font-style=\"italic\" lengthAdjust=\"spacingAndGlyphs\" textLength=\"69\" x=\"245.5\" y=\"57.1387\">«attribute»</text><text fill=\"#000000\" font-family=\"sans-serif\" font-size=\"12\" lengthAdjust=\"spacingAndGlyphs\" textLength=\"8\" x=\"276\" y=\"71.1074\">g</text><line style=\"stroke: #383838; stroke-width: 1.5;\" x1=\"245.5\" x2=\"314.5\" y1=\"78.9375\" y2=\"78.9375\"/></a><!--MD5=[96f4274e9e20536e775497830990834d]\n",
       "class E10--><a href=\"psysml:37f56aff-8c9f-4a8e-95e0-50132129fb99\" target=\"_top\" title=\"psysml:37f56aff-8c9f-4a8e-95e0-50132129fb99\" xlink:actuate=\"onRequest\" xlink:href=\"psysml:37f56aff-8c9f-4a8e-95e0-50132129fb99\" xlink:show=\"new\" xlink:title=\"psysml:37f56aff-8c9f-4a8e-95e0-50132129fb99\" xlink:type=\"simple\"><rect fill=\"#FFFFFF\" height=\"45.9375\" id=\"E10\" rx=\"10\" ry=\"10\" style=\"stroke: #383838; stroke-width: 1.5;\" width=\"71\" x=\"138.5\" y=\"41\"/><text fill=\"#000000\" font-family=\"sans-serif\" font-size=\"12\" font-style=\"italic\" lengthAdjust=\"spacingAndGlyphs\" textLength=\"69\" x=\"139.5\" y=\"57.1387\">«attribute»</text><text fill=\"#000000\" font-family=\"sans-serif\" font-size=\"12\" lengthAdjust=\"spacingAndGlyphs\" textLength=\"8\" x=\"170\" y=\"71.1074\">b</text><line style=\"stroke: #383838; stroke-width: 1.5;\" x1=\"139.5\" x2=\"208.5\" y1=\"78.9375\" y2=\"78.9375\"/></a><!--MD5=[1dd1bfd58a279cf63c5f349dbc8fc6a1]\n",
       "class E11--><a href=\"psysml:6095b787-d7f9-43be-8b1b-f534282edd43\" target=\"_top\" title=\"psysml:6095b787-d7f9-43be-8b1b-f534282edd43\" xlink:actuate=\"onRequest\" xlink:href=\"psysml:6095b787-d7f9-43be-8b1b-f534282edd43\" xlink:show=\"new\" xlink:title=\"psysml:6095b787-d7f9-43be-8b1b-f534282edd43\" xlink:type=\"simple\"><rect fill=\"#FFFFFF\" height=\"45.9375\" id=\"E11\" rx=\"10\" ry=\"10\" style=\"stroke: #383838; stroke-width: 1.5;\" width=\"71\" x=\"32.5\" y=\"41\"/><text fill=\"#000000\" font-family=\"sans-serif\" font-size=\"12\" font-style=\"italic\" lengthAdjust=\"spacingAndGlyphs\" textLength=\"69\" x=\"33.5\" y=\"57.1387\">«attribute»</text><text fill=\"#000000\" font-family=\"sans-serif\" font-size=\"12\" lengthAdjust=\"spacingAndGlyphs\" textLength=\"7\" x=\"64.5\" y=\"71.1074\">c</text><line style=\"stroke: #383838; stroke-width: 1.5;\" x1=\"33.5\" x2=\"102.5\" y1=\"78.9375\" y2=\"78.9375\"/></a><text fill=\"#000000\" font-family=\"sans-serif\" font-size=\"14\" lengthAdjust=\"spacingAndGlyphs\" textLength=\"9\" x=\"567.5\" y=\"42.6982\">p</text><rect fill=\"#383838\" height=\"12\" style=\"stroke: #F8F8F8; stroke-width: 1.5;\" width=\"12\" x=\"566\" y=\"58\"/><text fill=\"#000000\" font-family=\"sans-serif\" font-size=\"14\" lengthAdjust=\"spacingAndGlyphs\" textLength=\"9\" x=\"614.5\" y=\"42.6982\">q</text><rect fill=\"#383838\" height=\"12\" style=\"stroke: #F8F8F8; stroke-width: 1.5;\" width=\"12\" x=\"613\" y=\"58\"/><text fill=\"#000000\" font-family=\"sans-serif\" font-size=\"14\" lengthAdjust=\"spacingAndGlyphs\" textLength=\"57\" x=\"590.5\" y=\"380.7151\">noname</text><rect fill=\"#383838\" height=\"12\" style=\"stroke: #F8F8F8; stroke-width: 1.5;\" width=\"12\" x=\"613\" y=\"355.72\"/><!--MD5=[05d275557350bfb9b23a4ef7222b4c39]\n",
       "link E3 to E2--><a href=\"psysml:982c8c0e-9af2-4f93-8067-230d5c39d8a2\" target=\"_top\" title=\"psysml:982c8c0e-9af2-4f93-8067-230d5c39d8a2\" xlink:actuate=\"onRequest\" xlink:href=\"psysml:982c8c0e-9af2-4f93-8067-230d5c39d8a2\" xlink:show=\"new\" xlink:title=\"psysml:982c8c0e-9af2-4f93-8067-230d5c39d8a2\" xlink:type=\"simple\"><path d=\"M487,87.29 C487,87.29 487,126.78 487,126.78 \" fill=\"none\" id=\"E3-&gt;E2\" style=\"stroke: #383838; stroke-width: 1.0;\"/><polygon fill=\"#FFFFFF\" points=\"487,146.78,480,127.78,494,127.78,487,146.78\" style=\"stroke: #383838; stroke-width: 1.0;\"/><ellipse cx=\"482\" cy=\"122.08\" fill=\"#383838\" rx=\"2\" ry=\"2\" style=\"stroke: #383838; stroke-width: 1.0;\"/><ellipse cx=\"492\" cy=\"122.08\" fill=\"#383838\" rx=\"2\" ry=\"2\" style=\"stroke: #383838; stroke-width: 1.0;\"/></a><!--MD5=[59a3d07efb4bf7c784ceca763195b243]\n",
       "@startuml\r\n",
       "skinparam linetype ortho\r\n",
       "skinparam monochrome true\r\n",
       "skinparam classbackgroundcolor white\r\n",
       "skinparam shadowing false\r\n",
       "skinparam wrapWidth 300\r\n",
       "hide circle\r\n",
       "\r\n",
       "package \"ParameterTest\" as E1  [[psysml:0dacd990-2b3a-4306-80d2-1e4fad6d04cd ]]  {\r\n",
       "comp def \"A\" as E2  <<(T,blue)attribute def>> [[psysml:03a6349f-297b-4a78-b9ab-052989f96479 ]] {\r\n",
       "- - attributes - -\r\n",
       "x: String\r\n",
       "y: A\r\n",
       "}\r\n",
       "comp usage \"a: A\" as E3  <<(T,blue)attribute>> [[psysml:d7af749e-ffc6-4773-972a-b8dfcfe9deb8 ]] {\r\n",
       "}\r\n",
       "rec def \"F\" as E4  <<(T,blue)calculation def>> [[psysml:cd1262f4-d3f9-4f52-89ee-1653680ad782 ]] {\r\n",
       "portin \"p\" as E5  [[psysml:16d77514-2de6-4c2c-add7-8b8555ca417f ]] \r\n",
       "portin \"q\" as E6  [[psysml:85e14753-ca59-4cde-8265-18a8cb4b45d6 ]] \r\n",
       "portout \"noname\" as E7  [[psysml:99b94083-4aa7-41fb-8d8e-135498f03bbe ]] \r\n",
       "}\r\n",
       "\r\n",
       "comp usage \"f\" as E8  <<(T,blue)attribute>> [[psysml:e43abf7c-a809-48bd-8c78-cd0a53fbbdb6 ]] {\r\n",
       "}\r\n",
       "comp usage \"g\" as E9  <<(T,blue)attribute>> [[psysml:04ff0b02-14ab-40e8-a866-ef9bcfd05ef7 ]] {\r\n",
       "}\r\n",
       "comp usage \"b\" as E10  <<(T,blue)attribute>> [[psysml:37f56aff-8c9f-4a8e-95e0-50132129fb99 ]] {\r\n",
       "}\r\n",
       "comp usage \"c\" as E11  <<(T,blue)attribute>> [[psysml:6095b787-d7f9-43be-8b1b-f534282edd43 ]] {\r\n",
       "}\r\n",
       "E3 - -:|> E2 [[psysml:982c8c0e-9af2-4f93-8067-230d5c39d8a2 ]] \r\n",
       "}\r\n",
       "@enduml\r\n",
       "\n",
       "PlantUML version 1.2020.13(Sat Jun 13 12:26:38 UTC 2020)\n",
       "(EPL source distribution)\n",
       "Java Runtime: OpenJDK Runtime Environment\n",
       "JVM: OpenJDK 64-Bit Server VM\n",
       "Default Encoding: UTF-8\n",
       "Language: en\n",
       "Country: null\n",
       "--></g></svg>"
      ]
     },
     "execution_count": 51,
     "metadata": {},
     "output_type": "execute_result"
    }
   ],
   "source": [
    "%viz --style=\"ORTHOLINE\" --view=\"Default\" \"ParameterTest\""
   ]
  },
  {
   "cell_type": "code",
   "execution_count": 52,
   "id": "unusual-saudi",
   "metadata": {
    "execution": {
     "iopub.execute_input": "2021-03-24T16:28:56.868450Z",
     "iopub.status.busy": "2021-03-24T16:28:56.867878Z",
     "iopub.status.idle": "2021-03-24T16:28:56.910924Z",
     "shell.execute_reply": "2021-03-24T16:28:56.909581Z"
    }
   },
   "outputs": [
    {
     "data": {
      "image/svg+xml": [
       "<?xml version=\"1.0\" encoding=\"UTF-8\" standalone=\"no\"?><svg xmlns=\"http://www.w3.org/2000/svg\" xmlns:xlink=\"http://www.w3.org/1999/xlink\" contentScriptType=\"application/ecmascript\" contentStyleType=\"text/css\" height=\"280px\" preserveAspectRatio=\"none\" style=\"width:710px;height:280px;\" version=\"1.1\" viewBox=\"0 0 710 280\" width=\"710px\" zoomAndPan=\"magnify\"><defs/><g><!--MD5=[fbc87193dbaf4d95561dea2c320d4a47]\n",
       "cluster E1--><a href=\"psysml:0dacd990-2b3a-4306-80d2-1e4fad6d04cd\" target=\"_top\" title=\"psysml:0dacd990-2b3a-4306-80d2-1e4fad6d04cd\" xlink:actuate=\"onRequest\" xlink:href=\"psysml:0dacd990-2b3a-4306-80d2-1e4fad6d04cd\" xlink:show=\"new\" xlink:title=\"psysml:0dacd990-2b3a-4306-80d2-1e4fad6d04cd\" xlink:type=\"simple\"><polygon fill=\"#FFFFFF\" points=\"16,6,139,6,146,28.2969,688,28.2969,688,268,16,268,16,6\" style=\"stroke: #000000; stroke-width: 1.5;\"/><line style=\"stroke: #000000; stroke-width: 1.5;\" x1=\"16\" x2=\"146\" y1=\"28.2969\" y2=\"28.2969\"/><text fill=\"#000000\" font-family=\"sans-serif\" font-size=\"14\" font-weight=\"bold\" lengthAdjust=\"spacingAndGlyphs\" textLength=\"117\" x=\"20\" y=\"20.9951\">ParameterTest</text></a><!--MD5=[b4997ac47864f28c2f74865a473b2911]\n",
       "class E2--><a href=\"psysml:03a6349f-297b-4a78-b9ab-052989f96479\" target=\"_top\" title=\"psysml:03a6349f-297b-4a78-b9ab-052989f96479\" xlink:actuate=\"onRequest\" xlink:href=\"psysml:03a6349f-297b-4a78-b9ab-052989f96479\" xlink:show=\"new\" xlink:title=\"psysml:03a6349f-297b-4a78-b9ab-052989f96479\" xlink:type=\"simple\"><rect fill=\"#FFFFFF\" height=\"88.3516\" id=\"E2\" style=\"stroke: #383838; stroke-width: 1.5;\" width=\"95\" x=\"498.5\" y=\"164\"/><text fill=\"#000000\" font-family=\"sans-serif\" font-size=\"12\" font-style=\"italic\" lengthAdjust=\"spacingAndGlyphs\" textLength=\"93\" x=\"499.5\" y=\"180.1387\">«attribute def»</text><text fill=\"#000000\" font-family=\"sans-serif\" font-size=\"12\" lengthAdjust=\"spacingAndGlyphs\" textLength=\"8\" x=\"542\" y=\"194.1074\">A</text><line style=\"stroke: #383838; stroke-width: 1.5;\" x1=\"499.5\" x2=\"592.5\" y1=\"201.9375\" y2=\"201.9375\"/><text fill=\"#000000\" font-family=\"sans-serif\" font-size=\"11\" lengthAdjust=\"spacingAndGlyphs\" textLength=\"48\" x=\"504.5\" y=\"232.9526\">x: String</text><text fill=\"#000000\" font-family=\"sans-serif\" font-size=\"11\" lengthAdjust=\"spacingAndGlyphs\" textLength=\"21\" x=\"504.5\" y=\"245.7573\">y: A</text><line style=\"stroke: #383838; stroke-width: 1.0;\" x1=\"499.5\" x2=\"518.5\" y1=\"216.3398\" y2=\"216.3398\"/><text fill=\"#000000\" font-family=\"sans-serif\" font-size=\"11\" lengthAdjust=\"spacingAndGlyphs\" textLength=\"55\" x=\"518.5\" y=\"219.6479\">attributes</text><line style=\"stroke: #383838; stroke-width: 1.0;\" x1=\"573.5\" x2=\"592.5\" y1=\"216.3398\" y2=\"216.3398\"/></a><!--MD5=[09b614a08d8cba4a07c9adeb5e0fee81]\n",
       "class E3--><a href=\"psysml:d7af749e-ffc6-4773-972a-b8dfcfe9deb8\" target=\"_top\" title=\"psysml:d7af749e-ffc6-4773-972a-b8dfcfe9deb8\" xlink:actuate=\"onRequest\" xlink:href=\"psysml:d7af749e-ffc6-4773-972a-b8dfcfe9deb8\" xlink:show=\"new\" xlink:title=\"psysml:d7af749e-ffc6-4773-972a-b8dfcfe9deb8\" xlink:type=\"simple\"><rect fill=\"#FFFFFF\" height=\"45.9375\" id=\"E3\" rx=\"10\" ry=\"10\" style=\"stroke: #383838; stroke-width: 1.5;\" width=\"71\" x=\"600.5\" y=\"41\"/><text fill=\"#000000\" font-family=\"sans-serif\" font-size=\"12\" font-style=\"italic\" lengthAdjust=\"spacingAndGlyphs\" textLength=\"69\" x=\"601.5\" y=\"57.1387\">«attribute»</text><text fill=\"#000000\" font-family=\"sans-serif\" font-size=\"12\" lengthAdjust=\"spacingAndGlyphs\" textLength=\"24\" x=\"624\" y=\"71.1074\">a: A</text><line style=\"stroke: #383838; stroke-width: 1.5;\" x1=\"601.5\" x2=\"670.5\" y1=\"78.9375\" y2=\"78.9375\"/></a><!--MD5=[ebbe1d658d1005bcc118a6aa81145e00]\n",
       "class E4--><a href=\"psysml:cd1262f4-d3f9-4f52-89ee-1653680ad782\" target=\"_top\" title=\"psysml:cd1262f4-d3f9-4f52-89ee-1653680ad782\" xlink:actuate=\"onRequest\" xlink:href=\"psysml:cd1262f4-d3f9-4f52-89ee-1653680ad782\" xlink:show=\"new\" xlink:title=\"psysml:cd1262f4-d3f9-4f52-89ee-1653680ad782\" xlink:type=\"simple\"><rect fill=\"#FFFFFF\" height=\"45.9375\" id=\"E4\" style=\"stroke: #383838; stroke-width: 1.5;\" width=\"108\" x=\"457\" y=\"41\"/><text fill=\"#000000\" font-family=\"sans-serif\" font-size=\"12\" font-style=\"italic\" lengthAdjust=\"spacingAndGlyphs\" textLength=\"106\" x=\"458\" y=\"57.1387\">«calculation def»</text><text fill=\"#000000\" font-family=\"sans-serif\" font-size=\"12\" lengthAdjust=\"spacingAndGlyphs\" textLength=\"7\" x=\"507.5\" y=\"71.1074\">F</text><line style=\"stroke: #383838; stroke-width: 1.5;\" x1=\"458\" x2=\"564\" y1=\"78.9375\" y2=\"78.9375\"/></a><!--MD5=[270fce915f116d4de14055a7c1d9a0f3]\n",
       "class E5--><a href=\"psysml:e43abf7c-a809-48bd-8c78-cd0a53fbbdb6\" target=\"_top\" title=\"psysml:e43abf7c-a809-48bd-8c78-cd0a53fbbdb6\" xlink:actuate=\"onRequest\" xlink:href=\"psysml:e43abf7c-a809-48bd-8c78-cd0a53fbbdb6\" xlink:show=\"new\" xlink:title=\"psysml:e43abf7c-a809-48bd-8c78-cd0a53fbbdb6\" xlink:type=\"simple\"><rect fill=\"#FFFFFF\" height=\"45.9375\" id=\"E5\" rx=\"10\" ry=\"10\" style=\"stroke: #383838; stroke-width: 1.5;\" width=\"71\" x=\"350.5\" y=\"41\"/><text fill=\"#000000\" font-family=\"sans-serif\" font-size=\"12\" font-style=\"italic\" lengthAdjust=\"spacingAndGlyphs\" textLength=\"69\" x=\"351.5\" y=\"57.1387\">«attribute»</text><text fill=\"#000000\" font-family=\"sans-serif\" font-size=\"12\" lengthAdjust=\"spacingAndGlyphs\" textLength=\"4\" x=\"384\" y=\"71.1074\">f</text><line style=\"stroke: #383838; stroke-width: 1.5;\" x1=\"351.5\" x2=\"420.5\" y1=\"78.9375\" y2=\"78.9375\"/></a><!--MD5=[60a26617385b1d2d0262a64233df1f8d]\n",
       "class E6--><a href=\"psysml:04ff0b02-14ab-40e8-a866-ef9bcfd05ef7\" target=\"_top\" title=\"psysml:04ff0b02-14ab-40e8-a866-ef9bcfd05ef7\" xlink:actuate=\"onRequest\" xlink:href=\"psysml:04ff0b02-14ab-40e8-a866-ef9bcfd05ef7\" xlink:show=\"new\" xlink:title=\"psysml:04ff0b02-14ab-40e8-a866-ef9bcfd05ef7\" xlink:type=\"simple\"><rect fill=\"#FFFFFF\" height=\"45.9375\" id=\"E6\" rx=\"10\" ry=\"10\" style=\"stroke: #383838; stroke-width: 1.5;\" width=\"71\" x=\"244.5\" y=\"41\"/><text fill=\"#000000\" font-family=\"sans-serif\" font-size=\"12\" font-style=\"italic\" lengthAdjust=\"spacingAndGlyphs\" textLength=\"69\" x=\"245.5\" y=\"57.1387\">«attribute»</text><text fill=\"#000000\" font-family=\"sans-serif\" font-size=\"12\" lengthAdjust=\"spacingAndGlyphs\" textLength=\"8\" x=\"276\" y=\"71.1074\">g</text><line style=\"stroke: #383838; stroke-width: 1.5;\" x1=\"245.5\" x2=\"314.5\" y1=\"78.9375\" y2=\"78.9375\"/></a><!--MD5=[2156ba9850f5573cc1fc38a6a4b2f02b]\n",
       "class E7--><a href=\"psysml:37f56aff-8c9f-4a8e-95e0-50132129fb99\" target=\"_top\" title=\"psysml:37f56aff-8c9f-4a8e-95e0-50132129fb99\" xlink:actuate=\"onRequest\" xlink:href=\"psysml:37f56aff-8c9f-4a8e-95e0-50132129fb99\" xlink:show=\"new\" xlink:title=\"psysml:37f56aff-8c9f-4a8e-95e0-50132129fb99\" xlink:type=\"simple\"><rect fill=\"#FFFFFF\" height=\"45.9375\" id=\"E7\" rx=\"10\" ry=\"10\" style=\"stroke: #383838; stroke-width: 1.5;\" width=\"71\" x=\"138.5\" y=\"41\"/><text fill=\"#000000\" font-family=\"sans-serif\" font-size=\"12\" font-style=\"italic\" lengthAdjust=\"spacingAndGlyphs\" textLength=\"69\" x=\"139.5\" y=\"57.1387\">«attribute»</text><text fill=\"#000000\" font-family=\"sans-serif\" font-size=\"12\" lengthAdjust=\"spacingAndGlyphs\" textLength=\"8\" x=\"170\" y=\"71.1074\">b</text><line style=\"stroke: #383838; stroke-width: 1.5;\" x1=\"139.5\" x2=\"208.5\" y1=\"78.9375\" y2=\"78.9375\"/></a><!--MD5=[b9389687b975829384b498ac4b7476b2]\n",
       "class E8--><a href=\"psysml:6095b787-d7f9-43be-8b1b-f534282edd43\" target=\"_top\" title=\"psysml:6095b787-d7f9-43be-8b1b-f534282edd43\" xlink:actuate=\"onRequest\" xlink:href=\"psysml:6095b787-d7f9-43be-8b1b-f534282edd43\" xlink:show=\"new\" xlink:title=\"psysml:6095b787-d7f9-43be-8b1b-f534282edd43\" xlink:type=\"simple\"><rect fill=\"#FFFFFF\" height=\"45.9375\" id=\"E8\" rx=\"10\" ry=\"10\" style=\"stroke: #383838; stroke-width: 1.5;\" width=\"71\" x=\"32.5\" y=\"41\"/><text fill=\"#000000\" font-family=\"sans-serif\" font-size=\"12\" font-style=\"italic\" lengthAdjust=\"spacingAndGlyphs\" textLength=\"69\" x=\"33.5\" y=\"57.1387\">«attribute»</text><text fill=\"#000000\" font-family=\"sans-serif\" font-size=\"12\" lengthAdjust=\"spacingAndGlyphs\" textLength=\"7\" x=\"64.5\" y=\"71.1074\">c</text><line style=\"stroke: #383838; stroke-width: 1.5;\" x1=\"33.5\" x2=\"102.5\" y1=\"78.9375\" y2=\"78.9375\"/></a><!--MD5=[05d275557350bfb9b23a4ef7222b4c39]\n",
       "link E3 to E2--><a href=\"psysml:982c8c0e-9af2-4f93-8067-230d5c39d8a2\" target=\"_top\" title=\"psysml:982c8c0e-9af2-4f93-8067-230d5c39d8a2\" xlink:actuate=\"onRequest\" xlink:href=\"psysml:982c8c0e-9af2-4f93-8067-230d5c39d8a2\" xlink:show=\"new\" xlink:title=\"psysml:982c8c0e-9af2-4f93-8067-230d5c39d8a2\" xlink:type=\"simple\"><path d=\"M600.38,64 C588.98,64 579.25,64 579.25,64 C579.25,64 579.25,143.62 579.25,143.62 \" fill=\"none\" id=\"E3-&gt;E2\" style=\"stroke: #383838; stroke-width: 1.0;\"/><polygon fill=\"#FFFFFF\" points=\"579.25,163.62,572.25,144.62,586.25,144.62,579.25,163.62\" style=\"stroke: #383838; stroke-width: 1.0;\"/><ellipse cx=\"574.25\" cy=\"138.92\" fill=\"#383838\" rx=\"2\" ry=\"2\" style=\"stroke: #383838; stroke-width: 1.0;\"/><ellipse cx=\"584.25\" cy=\"138.92\" fill=\"#383838\" rx=\"2\" ry=\"2\" style=\"stroke: #383838; stroke-width: 1.0;\"/></a><!--MD5=[ddeed8deb2209213b62e6cfabaa108b2]\n",
       "reverse link E4 to E2--><a href=\"psysml:16d77514-2de6-4c2c-add7-8b8555ca417f\" target=\"_top\" title=\"psysml:16d77514-2de6-4c2c-add7-8b8555ca417f\" xlink:actuate=\"onRequest\" xlink:href=\"psysml:16d77514-2de6-4c2c-add7-8b8555ca417f\" xlink:show=\"new\" xlink:title=\"psysml:16d77514-2de6-4c2c-add7-8b8555ca417f\" xlink:type=\"simple\"><path d=\"M531.75,100.14 C531.75,100.14 531.75,163.71 531.75,163.71 \" fill=\"none\" id=\"E4&lt;-E2\" style=\"stroke: #383838; stroke-width: 1.0;\"/><polygon fill=\"#FFFFFF\" points=\"531.75,87.14,527.75,93.14,531.75,99.14,535.75,93.14,531.75,87.14\" style=\"stroke: #383838; stroke-width: 1.0;\"/><text fill=\"#000000\" font-family=\"sans-serif\" font-size=\"13\" lengthAdjust=\"spacingAndGlyphs\" textLength=\"8\" x=\"539\" y=\"130.0669\">p</text></a><!--MD5=[b90114eb79dd423e4b216553af7ee136]\n",
       "@startuml\r\n",
       "skinparam linetype ortho\r\n",
       "skinparam monochrome true\r\n",
       "skinparam classbackgroundcolor white\r\n",
       "skinparam shadowing false\r\n",
       "skinparam wrapWidth 300\r\n",
       "hide circle\r\n",
       "\r\n",
       "package \"ParameterTest\" as E1  [[psysml:0dacd990-2b3a-4306-80d2-1e4fad6d04cd ]]  {\r\n",
       "comp def \"A\" as E2  <<(T,blue)attribute def>> [[psysml:03a6349f-297b-4a78-b9ab-052989f96479 ]] {\r\n",
       "- - attributes - -\r\n",
       "x: String\r\n",
       "y: A\r\n",
       "}\r\n",
       "comp usage \"a: A\" as E3  <<(T,blue)attribute>> [[psysml:d7af749e-ffc6-4773-972a-b8dfcfe9deb8 ]] {\r\n",
       "}\r\n",
       "comp def \"F\" as E4  <<(T,blue)calculation def>> [[psysml:cd1262f4-d3f9-4f52-89ee-1653680ad782 ]] {\r\n",
       "}\r\n",
       "comp usage \"f\" as E5  <<(T,blue)attribute>> [[psysml:e43abf7c-a809-48bd-8c78-cd0a53fbbdb6 ]] {\r\n",
       "}\r\n",
       "comp usage \"g\" as E6  <<(T,blue)attribute>> [[psysml:04ff0b02-14ab-40e8-a866-ef9bcfd05ef7 ]] {\r\n",
       "}\r\n",
       "comp usage \"b\" as E7  <<(T,blue)attribute>> [[psysml:37f56aff-8c9f-4a8e-95e0-50132129fb99 ]] {\r\n",
       "}\r\n",
       "comp usage \"c\" as E8  <<(T,blue)attribute>> [[psysml:6095b787-d7f9-43be-8b1b-f534282edd43 ]] {\r\n",
       "}\r\n",
       "E3 - -:|> E2 [[psysml:982c8c0e-9af2-4f93-8067-230d5c39d8a2 ]] \r\n",
       "E4 o- - E2 [[psysml:16d77514-2de6-4c2c-add7-8b8555ca417f ]] : p\r\n",
       "}\r\n",
       "@enduml\r\n",
       "\n",
       "PlantUML version 1.2020.13(Sat Jun 13 12:26:38 UTC 2020)\n",
       "(EPL source distribution)\n",
       "Java Runtime: OpenJDK Runtime Environment\n",
       "JVM: OpenJDK 64-Bit Server VM\n",
       "Default Encoding: UTF-8\n",
       "Language: en\n",
       "Country: null\n",
       "--></g></svg>"
      ]
     },
     "execution_count": 52,
     "metadata": {},
     "output_type": "execute_result"
    }
   ],
   "source": [
    "%viz --style=\"ORTHOLINE\" --view=\"Tree\" \"ParameterTest\""
   ]
  },
  {
   "cell_type": "code",
   "execution_count": 53,
   "id": "packed-fields",
   "metadata": {
    "execution": {
     "iopub.execute_input": "2021-03-24T16:28:56.961301Z",
     "iopub.status.busy": "2021-03-24T16:28:56.960817Z",
     "iopub.status.idle": "2021-03-24T16:28:56.965188Z",
     "shell.execute_reply": "2021-03-24T16:28:56.964848Z"
    }
   },
   "outputs": [
    {
     "data": {
      "image/svg+xml": [
       "<?xml version=\"1.0\" encoding=\"UTF-8\" standalone=\"no\"?><svg xmlns=\"http://www.w3.org/2000/svg\" xmlns:xlink=\"http://www.w3.org/1999/xlink\" contentScriptType=\"application/ecmascript\" contentStyleType=\"text/css\" height=\"12px\" preserveAspectRatio=\"none\" style=\"width:12px;height:12px;\" version=\"1.1\" viewBox=\"0 0 12 12\" width=\"12px\" zoomAndPan=\"magnify\"><defs/><g><!--MD5=[97d6f38768b311333d388e66b2b27985]\n",
       "@startuml\r\n",
       "skinparam linetype ortho\r\n",
       "skinparam monochrome true\r\n",
       "skinparam classbackgroundcolor white\r\n",
       "skinparam shadowing false\r\n",
       "skinparam wrapWidth 300\r\n",
       "hide circle\r\n",
       "\r\n",
       "@enduml\r\n",
       "\n",
       "PlantUML version 1.2020.13(Sat Jun 13 12:26:38 UTC 2020)\n",
       "(EPL source distribution)\n",
       "Java Runtime: OpenJDK Runtime Environment\n",
       "JVM: OpenJDK 64-Bit Server VM\n",
       "Default Encoding: UTF-8\n",
       "Language: en\n",
       "Country: null\n",
       "--></g></svg>"
      ]
     },
     "execution_count": 53,
     "metadata": {},
     "output_type": "execute_result"
    }
   ],
   "source": [
    "%viz --style=\"ORTHOLINE\" --view=\"State\" \"ParameterTest\""
   ]
  },
  {
   "cell_type": "code",
   "execution_count": 54,
   "id": "restricted-dominant",
   "metadata": {
    "execution": {
     "iopub.execute_input": "2021-03-24T16:28:57.015884Z",
     "iopub.status.busy": "2021-03-24T16:28:57.015475Z",
     "iopub.status.idle": "2021-03-24T16:28:57.045138Z",
     "shell.execute_reply": "2021-03-24T16:28:57.043618Z"
    }
   },
   "outputs": [
    {
     "data": {
      "image/svg+xml": [
       "<?xml version=\"1.0\" encoding=\"UTF-8\" standalone=\"no\"?><svg xmlns=\"http://www.w3.org/2000/svg\" xmlns:xlink=\"http://www.w3.org/1999/xlink\" contentScriptType=\"application/ecmascript\" contentStyleType=\"text/css\" height=\"216px\" preserveAspectRatio=\"none\" style=\"width:740px;height:216px;\" version=\"1.1\" viewBox=\"0 0 740 216\" width=\"740px\" zoomAndPan=\"magnify\"><defs/><g><!--MD5=[fbc87193dbaf4d95561dea2c320d4a47]\n",
       "cluster E1--><a href=\"psysml:0dacd990-2b3a-4306-80d2-1e4fad6d04cd\" target=\"_top\" title=\"psysml:0dacd990-2b3a-4306-80d2-1e4fad6d04cd\" xlink:actuate=\"onRequest\" xlink:href=\"psysml:0dacd990-2b3a-4306-80d2-1e4fad6d04cd\" xlink:show=\"new\" xlink:title=\"psysml:0dacd990-2b3a-4306-80d2-1e4fad6d04cd\" xlink:type=\"simple\"><polygon fill=\"#FFFFFF\" points=\"16,6,139,6,146,28.2969,718,28.2969,718,204.72,16,204.72,16,6\" style=\"stroke: #000000; stroke-width: 1.5;\"/><line style=\"stroke: #000000; stroke-width: 1.5;\" x1=\"16\" x2=\"146\" y1=\"28.2969\" y2=\"28.2969\"/><text fill=\"#000000\" font-family=\"sans-serif\" font-size=\"14\" font-weight=\"bold\" lengthAdjust=\"spacingAndGlyphs\" textLength=\"117\" x=\"20\" y=\"20.9951\">ParameterTest</text></a><!--MD5=[f6df4d0ebaf0b5dfb2ced0ae5af7c670]\n",
       "cluster E4--><a href=\"psysml:cd1262f4-d3f9-4f52-89ee-1653680ad782\" target=\"_top\" title=\"psysml:cd1262f4-d3f9-4f52-89ee-1653680ad782\" xlink:actuate=\"onRequest\" xlink:href=\"psysml:cd1262f4-d3f9-4f52-89ee-1653680ad782\" xlink:show=\"new\" xlink:title=\"psysml:cd1262f4-d3f9-4f52-89ee-1653680ad782\" xlink:type=\"simple\"><rect fill=\"#FFFFFF\" height=\"110.72\" id=\"E4\" style=\"stroke: #383838; stroke-width: 1.5;\" width=\"148\" x=\"554\" y=\"64\"/><rect fill=\"#F8F8F8\" height=\"37.9375\" style=\"stroke: #383838; stroke-width: 1.5;\" width=\"148\" x=\"554\" y=\"64\"/><text fill=\"#000000\" font-family=\"sans-serif\" font-size=\"12\" font-style=\"italic\" lengthAdjust=\"spacingAndGlyphs\" textLength=\"106\" x=\"575\" y=\"80.1387\">«calculation def»</text><text fill=\"#000000\" font-family=\"sans-serif\" font-size=\"12\" lengthAdjust=\"spacingAndGlyphs\" textLength=\"7\" x=\"624.5\" y=\"94.1074\">F</text></a><g id=\"E1.E2\"><a href=\"psysml:03a6349f-297b-4a78-b9ab-052989f96479\" target=\"_top\" title=\"psysml:03a6349f-297b-4a78-b9ab-052989f96479\" xlink:actuate=\"onRequest\" xlink:href=\"psysml:03a6349f-297b-4a78-b9ab-052989f96479\" xlink:show=\"new\" xlink:title=\"psysml:03a6349f-297b-4a78-b9ab-052989f96479\" xlink:type=\"simple\"><rect fill=\"#FFFFFF\" height=\"42.9375\" id=\"E2\" style=\"stroke: #383838; stroke-width: 1.5;\" width=\"100\" x=\"417\" y=\"99\"/><rect fill=\"#F8F8F8\" height=\"37.9375\" style=\"stroke: #383838; stroke-width: 1.5;\" width=\"100\" x=\"417\" y=\"99\"/><text fill=\"#000000\" font-family=\"sans-serif\" font-size=\"12\" font-style=\"italic\" lengthAdjust=\"spacingAndGlyphs\" textLength=\"93\" x=\"420.5\" y=\"115.1387\">«attribute def»</text><text fill=\"#000000\" font-family=\"sans-serif\" font-size=\"12\" lengthAdjust=\"spacingAndGlyphs\" textLength=\"8\" x=\"463\" y=\"129.1074\">A</text></a></g><!--MD5=[09b614a08d8cba4a07c9adeb5e0fee81]\n",
       "class E3--><a href=\"psysml:d7af749e-ffc6-4773-972a-b8dfcfe9deb8\" target=\"_top\" title=\"psysml:d7af749e-ffc6-4773-972a-b8dfcfe9deb8\" xlink:actuate=\"onRequest\" xlink:href=\"psysml:d7af749e-ffc6-4773-972a-b8dfcfe9deb8\" xlink:show=\"new\" xlink:title=\"psysml:d7af749e-ffc6-4773-972a-b8dfcfe9deb8\" xlink:type=\"simple\"><rect fill=\"#FFFFFF\" height=\"45.9375\" id=\"E3\" rx=\"10\" ry=\"10\" style=\"stroke: #383838; stroke-width: 1.5;\" width=\"71\" x=\"456.5\" y=\"41\"/><text fill=\"#000000\" font-family=\"sans-serif\" font-size=\"12\" font-style=\"italic\" lengthAdjust=\"spacingAndGlyphs\" textLength=\"69\" x=\"457.5\" y=\"57.1387\">«attribute»</text><text fill=\"#000000\" font-family=\"sans-serif\" font-size=\"12\" lengthAdjust=\"spacingAndGlyphs\" textLength=\"24\" x=\"480\" y=\"71.1074\">a: A</text><line style=\"stroke: #383838; stroke-width: 1.5;\" x1=\"457.5\" x2=\"526.5\" y1=\"78.9375\" y2=\"78.9375\"/></a><!--MD5=[b9389687b975829384b498ac4b7476b2]\n",
       "class E8--><a href=\"psysml:e43abf7c-a809-48bd-8c78-cd0a53fbbdb6\" target=\"_top\" title=\"psysml:e43abf7c-a809-48bd-8c78-cd0a53fbbdb6\" xlink:actuate=\"onRequest\" xlink:href=\"psysml:e43abf7c-a809-48bd-8c78-cd0a53fbbdb6\" xlink:show=\"new\" xlink:title=\"psysml:e43abf7c-a809-48bd-8c78-cd0a53fbbdb6\" xlink:type=\"simple\"><rect fill=\"#FFFFFF\" height=\"45.9375\" id=\"E8\" rx=\"10\" ry=\"10\" style=\"stroke: #383838; stroke-width: 1.5;\" width=\"71\" x=\"350.5\" y=\"41\"/><text fill=\"#000000\" font-family=\"sans-serif\" font-size=\"12\" font-style=\"italic\" lengthAdjust=\"spacingAndGlyphs\" textLength=\"69\" x=\"351.5\" y=\"57.1387\">«attribute»</text><text fill=\"#000000\" font-family=\"sans-serif\" font-size=\"12\" lengthAdjust=\"spacingAndGlyphs\" textLength=\"4\" x=\"384\" y=\"71.1074\">f</text><line style=\"stroke: #383838; stroke-width: 1.5;\" x1=\"351.5\" x2=\"420.5\" y1=\"78.9375\" y2=\"78.9375\"/></a><!--MD5=[fd4143e9d270a159db93a4ea2a975926]\n",
       "class E9--><a href=\"psysml:04ff0b02-14ab-40e8-a866-ef9bcfd05ef7\" target=\"_top\" title=\"psysml:04ff0b02-14ab-40e8-a866-ef9bcfd05ef7\" xlink:actuate=\"onRequest\" xlink:href=\"psysml:04ff0b02-14ab-40e8-a866-ef9bcfd05ef7\" xlink:show=\"new\" xlink:title=\"psysml:04ff0b02-14ab-40e8-a866-ef9bcfd05ef7\" xlink:type=\"simple\"><rect fill=\"#FFFFFF\" height=\"45.9375\" id=\"E9\" rx=\"10\" ry=\"10\" style=\"stroke: #383838; stroke-width: 1.5;\" width=\"71\" x=\"244.5\" y=\"41\"/><text fill=\"#000000\" font-family=\"sans-serif\" font-size=\"12\" font-style=\"italic\" lengthAdjust=\"spacingAndGlyphs\" textLength=\"69\" x=\"245.5\" y=\"57.1387\">«attribute»</text><text fill=\"#000000\" font-family=\"sans-serif\" font-size=\"12\" lengthAdjust=\"spacingAndGlyphs\" textLength=\"8\" x=\"276\" y=\"71.1074\">g</text><line style=\"stroke: #383838; stroke-width: 1.5;\" x1=\"245.5\" x2=\"314.5\" y1=\"78.9375\" y2=\"78.9375\"/></a><!--MD5=[96f4274e9e20536e775497830990834d]\n",
       "class E10--><a href=\"psysml:37f56aff-8c9f-4a8e-95e0-50132129fb99\" target=\"_top\" title=\"psysml:37f56aff-8c9f-4a8e-95e0-50132129fb99\" xlink:actuate=\"onRequest\" xlink:href=\"psysml:37f56aff-8c9f-4a8e-95e0-50132129fb99\" xlink:show=\"new\" xlink:title=\"psysml:37f56aff-8c9f-4a8e-95e0-50132129fb99\" xlink:type=\"simple\"><rect fill=\"#FFFFFF\" height=\"45.9375\" id=\"E10\" rx=\"10\" ry=\"10\" style=\"stroke: #383838; stroke-width: 1.5;\" width=\"71\" x=\"138.5\" y=\"41\"/><text fill=\"#000000\" font-family=\"sans-serif\" font-size=\"12\" font-style=\"italic\" lengthAdjust=\"spacingAndGlyphs\" textLength=\"69\" x=\"139.5\" y=\"57.1387\">«attribute»</text><text fill=\"#000000\" font-family=\"sans-serif\" font-size=\"12\" lengthAdjust=\"spacingAndGlyphs\" textLength=\"8\" x=\"170\" y=\"71.1074\">b</text><line style=\"stroke: #383838; stroke-width: 1.5;\" x1=\"139.5\" x2=\"208.5\" y1=\"78.9375\" y2=\"78.9375\"/></a><!--MD5=[1dd1bfd58a279cf63c5f349dbc8fc6a1]\n",
       "class E11--><a href=\"psysml:6095b787-d7f9-43be-8b1b-f534282edd43\" target=\"_top\" title=\"psysml:6095b787-d7f9-43be-8b1b-f534282edd43\" xlink:actuate=\"onRequest\" xlink:href=\"psysml:6095b787-d7f9-43be-8b1b-f534282edd43\" xlink:show=\"new\" xlink:title=\"psysml:6095b787-d7f9-43be-8b1b-f534282edd43\" xlink:type=\"simple\"><rect fill=\"#FFFFFF\" height=\"45.9375\" id=\"E11\" rx=\"10\" ry=\"10\" style=\"stroke: #383838; stroke-width: 1.5;\" width=\"71\" x=\"32.5\" y=\"41\"/><text fill=\"#000000\" font-family=\"sans-serif\" font-size=\"12\" font-style=\"italic\" lengthAdjust=\"spacingAndGlyphs\" textLength=\"69\" x=\"33.5\" y=\"57.1387\">«attribute»</text><text fill=\"#000000\" font-family=\"sans-serif\" font-size=\"12\" lengthAdjust=\"spacingAndGlyphs\" textLength=\"7\" x=\"64.5\" y=\"71.1074\">c</text><line style=\"stroke: #383838; stroke-width: 1.5;\" x1=\"33.5\" x2=\"102.5\" y1=\"78.9375\" y2=\"78.9375\"/></a><text fill=\"#000000\" font-family=\"sans-serif\" font-size=\"14\" lengthAdjust=\"spacingAndGlyphs\" textLength=\"9\" x=\"567.5\" y=\"42.6982\">p</text><rect fill=\"#383838\" height=\"12\" style=\"stroke: #F8F8F8; stroke-width: 1.5;\" width=\"12\" x=\"566\" y=\"58\"/><text fill=\"#000000\" font-family=\"sans-serif\" font-size=\"14\" lengthAdjust=\"spacingAndGlyphs\" textLength=\"9\" x=\"614.5\" y=\"42.6982\">q</text><rect fill=\"#383838\" height=\"12\" style=\"stroke: #F8F8F8; stroke-width: 1.5;\" width=\"12\" x=\"613\" y=\"58\"/><text fill=\"#000000\" font-family=\"sans-serif\" font-size=\"14\" lengthAdjust=\"spacingAndGlyphs\" textLength=\"57\" x=\"590.5\" y=\"193.7151\">noname</text><rect fill=\"#383838\" height=\"12\" style=\"stroke: #F8F8F8; stroke-width: 1.5;\" width=\"12\" x=\"613\" y=\"168.72\"/><!--MD5=[05d275557350bfb9b23a4ef7222b4c39]\n",
       "link E3 to E2--><a href=\"psysml:982c8c0e-9af2-4f93-8067-230d5c39d8a2\" target=\"_top\" title=\"psysml:982c8c0e-9af2-4f93-8067-230d5c39d8a2\" xlink:actuate=\"onRequest\" xlink:href=\"psysml:982c8c0e-9af2-4f93-8067-230d5c39d8a2\" xlink:show=\"new\" xlink:title=\"psysml:982c8c0e-9af2-4f93-8067-230d5c39d8a2\" xlink:type=\"simple\"><path d=\"M486.75,87.31 C486.75,87.31 486.75,88.45 486.75,88.45 \" fill=\"none\" id=\"E3-&gt;E2\" style=\"stroke: #383838; stroke-width: 1.0;\"/><polygon fill=\"#FFFFFF\" points=\"486.75,98.7,479.75,79.7,493.75,79.7,486.75,98.7\" style=\"stroke: #383838; stroke-width: 1.0;\"/><ellipse cx=\"481.75\" cy=\"74\" fill=\"#383838\" rx=\"2\" ry=\"2\" style=\"stroke: #383838; stroke-width: 1.0;\"/><ellipse cx=\"491.75\" cy=\"74\" fill=\"#383838\" rx=\"2\" ry=\"2\" style=\"stroke: #383838; stroke-width: 1.0;\"/></a><!--MD5=[d0f733227b089be94380309e37e0f7af]\n",
       "@startuml\r\n",
       "skinparam ranksep 10\r\n",
       "skinparam rectangle {\r\n",
       " backgroundColor<<block>> LightGreen\r\n",
       "}\r\n",
       "skinparam linetype ortho\r\n",
       "skinparam monochrome true\r\n",
       "skinparam classbackgroundcolor white\r\n",
       "skinparam shadowing false\r\n",
       "skinparam wrapWidth 300\r\n",
       "hide circle\r\n",
       "\r\n",
       "package \"ParameterTest\" as E1  [[psysml:0dacd990-2b3a-4306-80d2-1e4fad6d04cd ]]  {\r\n",
       "def \"A\" as E2  <<(T,blue)attribute def>> [[psysml:03a6349f-297b-4a78-b9ab-052989f96479 ]] \r\n",
       "comp usage \"a: A\" as E3  <<(T,blue)attribute>> [[psysml:d7af749e-ffc6-4773-972a-b8dfcfe9deb8 ]] {\r\n",
       "}\r\n",
       "rec def \"F\" as E4  <<(T,blue)calculation def>> [[psysml:cd1262f4-d3f9-4f52-89ee-1653680ad782 ]] {\r\n",
       "portin \"p\" as E5  [[psysml:16d77514-2de6-4c2c-add7-8b8555ca417f ]] \r\n",
       "portin \"q\" as E6  [[psysml:85e14753-ca59-4cde-8265-18a8cb4b45d6 ]] \r\n",
       "portout \"noname\" as E7  [[psysml:99b94083-4aa7-41fb-8d8e-135498f03bbe ]] \r\n",
       "}\r\n",
       "\r\n",
       "comp usage \"f\" as E8  <<(T,blue)attribute>> [[psysml:e43abf7c-a809-48bd-8c78-cd0a53fbbdb6 ]] {\r\n",
       "}\r\n",
       "comp usage \"g\" as E9  <<(T,blue)attribute>> [[psysml:04ff0b02-14ab-40e8-a866-ef9bcfd05ef7 ]] {\r\n",
       "}\r\n",
       "comp usage \"b\" as E10  <<(T,blue)attribute>> [[psysml:37f56aff-8c9f-4a8e-95e0-50132129fb99 ]] {\r\n",
       "}\r\n",
       "comp usage \"c\" as E11  <<(T,blue)attribute>> [[psysml:6095b787-d7f9-43be-8b1b-f534282edd43 ]] {\r\n",
       "}\r\n",
       "E3 - -:|> E2 [[psysml:982c8c0e-9af2-4f93-8067-230d5c39d8a2 ]] \r\n",
       "}\r\n",
       "@enduml\r\n",
       "\n",
       "PlantUML version 1.2020.13(Sat Jun 13 12:26:38 UTC 2020)\n",
       "(EPL source distribution)\n",
       "Java Runtime: OpenJDK Runtime Environment\n",
       "JVM: OpenJDK 64-Bit Server VM\n",
       "Default Encoding: UTF-8\n",
       "Language: en\n",
       "Country: null\n",
       "--></g></svg>"
      ]
     },
     "execution_count": 54,
     "metadata": {},
     "output_type": "execute_result"
    }
   ],
   "source": [
    "%viz --style=\"ORTHOLINE\" --view=\"Interconnection\" \"ParameterTest\""
   ]
  },
  {
   "cell_type": "code",
   "execution_count": 55,
   "id": "interracial-guarantee",
   "metadata": {
    "execution": {
     "iopub.execute_input": "2021-03-24T16:28:57.095723Z",
     "iopub.status.busy": "2021-03-24T16:28:57.095217Z",
     "iopub.status.idle": "2021-03-24T16:28:57.115403Z",
     "shell.execute_reply": "2021-03-24T16:28:57.115079Z"
    }
   },
   "outputs": [
    {
     "data": {
      "image/svg+xml": [
       "<?xml version=\"1.0\" encoding=\"UTF-8\" standalone=\"no\"?><svg xmlns=\"http://www.w3.org/2000/svg\" xmlns:xlink=\"http://www.w3.org/1999/xlink\" contentScriptType=\"application/ecmascript\" contentStyleType=\"text/css\" height=\"162px\" preserveAspectRatio=\"none\" style=\"width:166px;height:162px;\" version=\"1.1\" viewBox=\"0 0 166 162\" width=\"166px\" zoomAndPan=\"magnify\"><defs/><g><!--MD5=[fbc87193dbaf4d95561dea2c320d4a47]\n",
       "cluster E1--><a href=\"psysml:cd1262f4-d3f9-4f52-89ee-1653680ad782\" target=\"_top\" title=\"psysml:cd1262f4-d3f9-4f52-89ee-1653680ad782\" xlink:actuate=\"onRequest\" xlink:href=\"psysml:cd1262f4-d3f9-4f52-89ee-1653680ad782\" xlink:show=\"new\" xlink:title=\"psysml:cd1262f4-d3f9-4f52-89ee-1653680ad782\" xlink:type=\"simple\"><rect fill=\"#FFFFFF\" height=\"87.72\" id=\"E1\" style=\"stroke: #383838; stroke-width: 1.5;\" width=\"148\" x=\"7\" y=\"42.0986\"/><rect fill=\"#F8F8F8\" height=\"37.9375\" style=\"stroke: #383838; stroke-width: 1.5;\" width=\"148\" x=\"7\" y=\"42.0986\"/><text fill=\"#000000\" font-family=\"sans-serif\" font-size=\"12\" font-style=\"italic\" lengthAdjust=\"spacingAndGlyphs\" textLength=\"106\" x=\"28\" y=\"58.2373\">«calculation def»</text><text fill=\"#000000\" font-family=\"sans-serif\" font-size=\"12\" lengthAdjust=\"spacingAndGlyphs\" textLength=\"7\" x=\"77.5\" y=\"72.2061\">F</text></a><text fill=\"#000000\" font-family=\"sans-serif\" font-size=\"14\" lengthAdjust=\"spacingAndGlyphs\" textLength=\"9\" x=\"20.5\" y=\"20.7969\">p</text><rect fill=\"#383838\" height=\"12\" style=\"stroke: #F8F8F8; stroke-width: 1.5;\" width=\"12\" x=\"19\" y=\"36.0986\"/><text fill=\"#000000\" font-family=\"sans-serif\" font-size=\"14\" lengthAdjust=\"spacingAndGlyphs\" textLength=\"9\" x=\"67.5\" y=\"20.7969\">q</text><rect fill=\"#383838\" height=\"12\" style=\"stroke: #F8F8F8; stroke-width: 1.5;\" width=\"12\" x=\"66\" y=\"36.0986\"/><text fill=\"#000000\" font-family=\"sans-serif\" font-size=\"14\" lengthAdjust=\"spacingAndGlyphs\" textLength=\"57\" x=\"43.5\" y=\"148.8138\">noname</text><rect fill=\"#383838\" height=\"12\" style=\"stroke: #F8F8F8; stroke-width: 1.5;\" width=\"12\" x=\"66\" y=\"123.8186\"/><!--MD5=[305aeed2e2aad5470cf312c91ffa800f]\n",
       "@startuml\r\n",
       "skinparam ranksep 8\r\n",
       "skinparam linetype ortho\r\n",
       "skinparam monochrome true\r\n",
       "skinparam classbackgroundcolor white\r\n",
       "skinparam shadowing false\r\n",
       "skinparam wrapWidth 300\r\n",
       "hide circle\r\n",
       "\r\n",
       "rec def \"F\" as E1  <<(T,blue)calculation def>> [[psysml:cd1262f4-d3f9-4f52-89ee-1653680ad782 ]] {\r\n",
       "portin \"p\" as E2  [[psysml:16d77514-2de6-4c2c-add7-8b8555ca417f ]] \r\n",
       "portin \"q\" as E3  [[psysml:85e14753-ca59-4cde-8265-18a8cb4b45d6 ]] \r\n",
       "portout \"noname\" as E4  [[psysml:99b94083-4aa7-41fb-8d8e-135498f03bbe ]] \r\n",
       "}\r\n",
       "\r\n",
       "@enduml\r\n",
       "\n",
       "PlantUML version 1.2020.13(Sat Jun 13 12:26:38 UTC 2020)\n",
       "(EPL source distribution)\n",
       "Java Runtime: OpenJDK Runtime Environment\n",
       "JVM: OpenJDK 64-Bit Server VM\n",
       "Default Encoding: UTF-8\n",
       "Language: en\n",
       "Country: null\n",
       "--></g></svg>"
      ]
     },
     "execution_count": 55,
     "metadata": {},
     "output_type": "execute_result"
    }
   ],
   "source": [
    "%viz --style=\"ORTHOLINE\" --view=\"Action\" \"ParameterTest\""
   ]
  },
  {
   "cell_type": "code",
   "execution_count": 56,
   "id": "clinical-restaurant",
   "metadata": {
    "execution": {
     "iopub.execute_input": "2021-03-24T16:28:57.165557Z",
     "iopub.status.busy": "2021-03-24T16:28:57.165153Z",
     "iopub.status.idle": "2021-03-24T16:28:57.207674Z",
     "shell.execute_reply": "2021-03-24T16:28:57.206353Z"
    }
   },
   "outputs": [
    {
     "data": {
      "image/svg+xml": [
       "<?xml version=\"1.0\" encoding=\"UTF-8\" standalone=\"no\"?><svg xmlns=\"http://www.w3.org/2000/svg\" xmlns:xlink=\"http://www.w3.org/1999/xlink\" contentScriptType=\"application/ecmascript\" contentStyleType=\"text/css\" height=\"280px\" preserveAspectRatio=\"none\" style=\"width:710px;height:280px;\" version=\"1.1\" viewBox=\"0 0 710 280\" width=\"710px\" zoomAndPan=\"magnify\"><defs/><g><!--MD5=[fbc87193dbaf4d95561dea2c320d4a47]\n",
       "cluster E1--><a href=\"psysml:0dacd990-2b3a-4306-80d2-1e4fad6d04cd\" target=\"_top\" title=\"psysml:0dacd990-2b3a-4306-80d2-1e4fad6d04cd\" xlink:actuate=\"onRequest\" xlink:href=\"psysml:0dacd990-2b3a-4306-80d2-1e4fad6d04cd\" xlink:show=\"new\" xlink:title=\"psysml:0dacd990-2b3a-4306-80d2-1e4fad6d04cd\" xlink:type=\"simple\"><polygon fill=\"#FFFFFF\" points=\"16,6,139,6,146,28.2969,688,28.2969,688,268,16,268,16,6\" style=\"stroke: #000000; stroke-width: 1.5;\"/><line style=\"stroke: #000000; stroke-width: 1.5;\" x1=\"16\" x2=\"146\" y1=\"28.2969\" y2=\"28.2969\"/><text fill=\"#000000\" font-family=\"sans-serif\" font-size=\"14\" font-weight=\"bold\" lengthAdjust=\"spacingAndGlyphs\" textLength=\"117\" x=\"20\" y=\"20.9951\">ParameterTest</text></a><!--MD5=[b4997ac47864f28c2f74865a473b2911]\n",
       "class E2--><a href=\"psysml:03a6349f-297b-4a78-b9ab-052989f96479\" target=\"_top\" title=\"psysml:03a6349f-297b-4a78-b9ab-052989f96479\" xlink:actuate=\"onRequest\" xlink:href=\"psysml:03a6349f-297b-4a78-b9ab-052989f96479\" xlink:show=\"new\" xlink:title=\"psysml:03a6349f-297b-4a78-b9ab-052989f96479\" xlink:type=\"simple\"><rect fill=\"#FFFFFF\" height=\"88.3516\" id=\"E2\" style=\"stroke: #383838; stroke-width: 1.5;\" width=\"95\" x=\"498.5\" y=\"164\"/><text fill=\"#000000\" font-family=\"sans-serif\" font-size=\"12\" font-style=\"italic\" lengthAdjust=\"spacingAndGlyphs\" textLength=\"93\" x=\"499.5\" y=\"180.1387\">«attribute def»</text><text fill=\"#000000\" font-family=\"sans-serif\" font-size=\"12\" lengthAdjust=\"spacingAndGlyphs\" textLength=\"8\" x=\"542\" y=\"194.1074\">A</text><line style=\"stroke: #383838; stroke-width: 1.5;\" x1=\"499.5\" x2=\"592.5\" y1=\"201.9375\" y2=\"201.9375\"/><text fill=\"#000000\" font-family=\"sans-serif\" font-size=\"11\" lengthAdjust=\"spacingAndGlyphs\" textLength=\"48\" x=\"504.5\" y=\"232.9526\">x: String</text><text fill=\"#000000\" font-family=\"sans-serif\" font-size=\"11\" lengthAdjust=\"spacingAndGlyphs\" textLength=\"21\" x=\"504.5\" y=\"245.7573\">y: A</text><line style=\"stroke: #383838; stroke-width: 1.0;\" x1=\"499.5\" x2=\"518.5\" y1=\"216.3398\" y2=\"216.3398\"/><text fill=\"#000000\" font-family=\"sans-serif\" font-size=\"11\" lengthAdjust=\"spacingAndGlyphs\" textLength=\"55\" x=\"518.5\" y=\"219.6479\">attributes</text><line style=\"stroke: #383838; stroke-width: 1.0;\" x1=\"573.5\" x2=\"592.5\" y1=\"216.3398\" y2=\"216.3398\"/></a><!--MD5=[09b614a08d8cba4a07c9adeb5e0fee81]\n",
       "class E3--><a href=\"psysml:d7af749e-ffc6-4773-972a-b8dfcfe9deb8\" target=\"_top\" title=\"psysml:d7af749e-ffc6-4773-972a-b8dfcfe9deb8\" xlink:actuate=\"onRequest\" xlink:href=\"psysml:d7af749e-ffc6-4773-972a-b8dfcfe9deb8\" xlink:show=\"new\" xlink:title=\"psysml:d7af749e-ffc6-4773-972a-b8dfcfe9deb8\" xlink:type=\"simple\"><rect fill=\"#FFFFFF\" height=\"45.9375\" id=\"E3\" rx=\"10\" ry=\"10\" style=\"stroke: #383838; stroke-width: 1.5;\" width=\"71\" x=\"600.5\" y=\"41\"/><text fill=\"#000000\" font-family=\"sans-serif\" font-size=\"12\" font-style=\"italic\" lengthAdjust=\"spacingAndGlyphs\" textLength=\"69\" x=\"601.5\" y=\"57.1387\">«attribute»</text><text fill=\"#000000\" font-family=\"sans-serif\" font-size=\"12\" lengthAdjust=\"spacingAndGlyphs\" textLength=\"24\" x=\"624\" y=\"71.1074\">a: A</text><line style=\"stroke: #383838; stroke-width: 1.5;\" x1=\"601.5\" x2=\"670.5\" y1=\"78.9375\" y2=\"78.9375\"/></a><!--MD5=[ebbe1d658d1005bcc118a6aa81145e00]\n",
       "class E4--><a href=\"psysml:cd1262f4-d3f9-4f52-89ee-1653680ad782\" target=\"_top\" title=\"psysml:cd1262f4-d3f9-4f52-89ee-1653680ad782\" xlink:actuate=\"onRequest\" xlink:href=\"psysml:cd1262f4-d3f9-4f52-89ee-1653680ad782\" xlink:show=\"new\" xlink:title=\"psysml:cd1262f4-d3f9-4f52-89ee-1653680ad782\" xlink:type=\"simple\"><rect fill=\"#FFFFFF\" height=\"45.9375\" id=\"E4\" style=\"stroke: #383838; stroke-width: 1.5;\" width=\"108\" x=\"457\" y=\"41\"/><text fill=\"#000000\" font-family=\"sans-serif\" font-size=\"12\" font-style=\"italic\" lengthAdjust=\"spacingAndGlyphs\" textLength=\"106\" x=\"458\" y=\"57.1387\">«calculation def»</text><text fill=\"#000000\" font-family=\"sans-serif\" font-size=\"12\" lengthAdjust=\"spacingAndGlyphs\" textLength=\"7\" x=\"507.5\" y=\"71.1074\">F</text><line style=\"stroke: #383838; stroke-width: 1.5;\" x1=\"458\" x2=\"564\" y1=\"78.9375\" y2=\"78.9375\"/></a><!--MD5=[270fce915f116d4de14055a7c1d9a0f3]\n",
       "class E5--><a href=\"psysml:e43abf7c-a809-48bd-8c78-cd0a53fbbdb6\" target=\"_top\" title=\"psysml:e43abf7c-a809-48bd-8c78-cd0a53fbbdb6\" xlink:actuate=\"onRequest\" xlink:href=\"psysml:e43abf7c-a809-48bd-8c78-cd0a53fbbdb6\" xlink:show=\"new\" xlink:title=\"psysml:e43abf7c-a809-48bd-8c78-cd0a53fbbdb6\" xlink:type=\"simple\"><rect fill=\"#FFFFFF\" height=\"45.9375\" id=\"E5\" rx=\"10\" ry=\"10\" style=\"stroke: #383838; stroke-width: 1.5;\" width=\"71\" x=\"350.5\" y=\"41\"/><text fill=\"#000000\" font-family=\"sans-serif\" font-size=\"12\" font-style=\"italic\" lengthAdjust=\"spacingAndGlyphs\" textLength=\"69\" x=\"351.5\" y=\"57.1387\">«attribute»</text><text fill=\"#000000\" font-family=\"sans-serif\" font-size=\"12\" lengthAdjust=\"spacingAndGlyphs\" textLength=\"4\" x=\"384\" y=\"71.1074\">f</text><line style=\"stroke: #383838; stroke-width: 1.5;\" x1=\"351.5\" x2=\"420.5\" y1=\"78.9375\" y2=\"78.9375\"/></a><!--MD5=[60a26617385b1d2d0262a64233df1f8d]\n",
       "class E6--><a href=\"psysml:04ff0b02-14ab-40e8-a866-ef9bcfd05ef7\" target=\"_top\" title=\"psysml:04ff0b02-14ab-40e8-a866-ef9bcfd05ef7\" xlink:actuate=\"onRequest\" xlink:href=\"psysml:04ff0b02-14ab-40e8-a866-ef9bcfd05ef7\" xlink:show=\"new\" xlink:title=\"psysml:04ff0b02-14ab-40e8-a866-ef9bcfd05ef7\" xlink:type=\"simple\"><rect fill=\"#FFFFFF\" height=\"45.9375\" id=\"E6\" rx=\"10\" ry=\"10\" style=\"stroke: #383838; stroke-width: 1.5;\" width=\"71\" x=\"244.5\" y=\"41\"/><text fill=\"#000000\" font-family=\"sans-serif\" font-size=\"12\" font-style=\"italic\" lengthAdjust=\"spacingAndGlyphs\" textLength=\"69\" x=\"245.5\" y=\"57.1387\">«attribute»</text><text fill=\"#000000\" font-family=\"sans-serif\" font-size=\"12\" lengthAdjust=\"spacingAndGlyphs\" textLength=\"8\" x=\"276\" y=\"71.1074\">g</text><line style=\"stroke: #383838; stroke-width: 1.5;\" x1=\"245.5\" x2=\"314.5\" y1=\"78.9375\" y2=\"78.9375\"/></a><!--MD5=[2156ba9850f5573cc1fc38a6a4b2f02b]\n",
       "class E7--><a href=\"psysml:37f56aff-8c9f-4a8e-95e0-50132129fb99\" target=\"_top\" title=\"psysml:37f56aff-8c9f-4a8e-95e0-50132129fb99\" xlink:actuate=\"onRequest\" xlink:href=\"psysml:37f56aff-8c9f-4a8e-95e0-50132129fb99\" xlink:show=\"new\" xlink:title=\"psysml:37f56aff-8c9f-4a8e-95e0-50132129fb99\" xlink:type=\"simple\"><rect fill=\"#FFFFFF\" height=\"45.9375\" id=\"E7\" rx=\"10\" ry=\"10\" style=\"stroke: #383838; stroke-width: 1.5;\" width=\"71\" x=\"138.5\" y=\"41\"/><text fill=\"#000000\" font-family=\"sans-serif\" font-size=\"12\" font-style=\"italic\" lengthAdjust=\"spacingAndGlyphs\" textLength=\"69\" x=\"139.5\" y=\"57.1387\">«attribute»</text><text fill=\"#000000\" font-family=\"sans-serif\" font-size=\"12\" lengthAdjust=\"spacingAndGlyphs\" textLength=\"8\" x=\"170\" y=\"71.1074\">b</text><line style=\"stroke: #383838; stroke-width: 1.5;\" x1=\"139.5\" x2=\"208.5\" y1=\"78.9375\" y2=\"78.9375\"/></a><!--MD5=[b9389687b975829384b498ac4b7476b2]\n",
       "class E8--><a href=\"psysml:6095b787-d7f9-43be-8b1b-f534282edd43\" target=\"_top\" title=\"psysml:6095b787-d7f9-43be-8b1b-f534282edd43\" xlink:actuate=\"onRequest\" xlink:href=\"psysml:6095b787-d7f9-43be-8b1b-f534282edd43\" xlink:show=\"new\" xlink:title=\"psysml:6095b787-d7f9-43be-8b1b-f534282edd43\" xlink:type=\"simple\"><rect fill=\"#FFFFFF\" height=\"45.9375\" id=\"E8\" rx=\"10\" ry=\"10\" style=\"stroke: #383838; stroke-width: 1.5;\" width=\"71\" x=\"32.5\" y=\"41\"/><text fill=\"#000000\" font-family=\"sans-serif\" font-size=\"12\" font-style=\"italic\" lengthAdjust=\"spacingAndGlyphs\" textLength=\"69\" x=\"33.5\" y=\"57.1387\">«attribute»</text><text fill=\"#000000\" font-family=\"sans-serif\" font-size=\"12\" lengthAdjust=\"spacingAndGlyphs\" textLength=\"7\" x=\"64.5\" y=\"71.1074\">c</text><line style=\"stroke: #383838; stroke-width: 1.5;\" x1=\"33.5\" x2=\"102.5\" y1=\"78.9375\" y2=\"78.9375\"/></a><!--MD5=[05d275557350bfb9b23a4ef7222b4c39]\n",
       "link E3 to E2--><a href=\"psysml:982c8c0e-9af2-4f93-8067-230d5c39d8a2\" target=\"_top\" title=\"psysml:982c8c0e-9af2-4f93-8067-230d5c39d8a2\" xlink:actuate=\"onRequest\" xlink:href=\"psysml:982c8c0e-9af2-4f93-8067-230d5c39d8a2\" xlink:show=\"new\" xlink:title=\"psysml:982c8c0e-9af2-4f93-8067-230d5c39d8a2\" xlink:type=\"simple\"><path d=\"M600.38,64 C588.98,64 579.25,64 579.25,64 C579.25,64 579.25,143.62 579.25,143.62 \" fill=\"none\" id=\"E3-&gt;E2\" style=\"stroke: #383838; stroke-width: 1.0;\"/><polygon fill=\"#FFFFFF\" points=\"579.25,163.62,572.25,144.62,586.25,144.62,579.25,163.62\" style=\"stroke: #383838; stroke-width: 1.0;\"/><ellipse cx=\"574.25\" cy=\"138.92\" fill=\"#383838\" rx=\"2\" ry=\"2\" style=\"stroke: #383838; stroke-width: 1.0;\"/><ellipse cx=\"584.25\" cy=\"138.92\" fill=\"#383838\" rx=\"2\" ry=\"2\" style=\"stroke: #383838; stroke-width: 1.0;\"/></a><!--MD5=[ddeed8deb2209213b62e6cfabaa108b2]\n",
       "reverse link E4 to E2--><a href=\"psysml:16d77514-2de6-4c2c-add7-8b8555ca417f\" target=\"_top\" title=\"psysml:16d77514-2de6-4c2c-add7-8b8555ca417f\" xlink:actuate=\"onRequest\" xlink:href=\"psysml:16d77514-2de6-4c2c-add7-8b8555ca417f\" xlink:show=\"new\" xlink:title=\"psysml:16d77514-2de6-4c2c-add7-8b8555ca417f\" xlink:type=\"simple\"><path d=\"M531.75,100.14 C531.75,100.14 531.75,163.71 531.75,163.71 \" fill=\"none\" id=\"E4&lt;-E2\" style=\"stroke: #383838; stroke-width: 1.0;\"/><polygon fill=\"#FFFFFF\" points=\"531.75,87.14,527.75,93.14,531.75,99.14,535.75,93.14,531.75,87.14\" style=\"stroke: #383838; stroke-width: 1.0;\"/><text fill=\"#000000\" font-family=\"sans-serif\" font-size=\"13\" lengthAdjust=\"spacingAndGlyphs\" textLength=\"8\" x=\"539\" y=\"130.0669\">p</text></a><!--MD5=[b90114eb79dd423e4b216553af7ee136]\n",
       "@startuml\r\n",
       "skinparam linetype ortho\r\n",
       "skinparam monochrome true\r\n",
       "skinparam classbackgroundcolor white\r\n",
       "skinparam shadowing false\r\n",
       "skinparam wrapWidth 300\r\n",
       "hide circle\r\n",
       "\r\n",
       "package \"ParameterTest\" as E1  [[psysml:0dacd990-2b3a-4306-80d2-1e4fad6d04cd ]]  {\r\n",
       "comp def \"A\" as E2  <<(T,blue)attribute def>> [[psysml:03a6349f-297b-4a78-b9ab-052989f96479 ]] {\r\n",
       "- - attributes - -\r\n",
       "x: String\r\n",
       "y: A\r\n",
       "}\r\n",
       "comp usage \"a: A\" as E3  <<(T,blue)attribute>> [[psysml:d7af749e-ffc6-4773-972a-b8dfcfe9deb8 ]] {\r\n",
       "}\r\n",
       "comp def \"F\" as E4  <<(T,blue)calculation def>> [[psysml:cd1262f4-d3f9-4f52-89ee-1653680ad782 ]] {\r\n",
       "}\r\n",
       "comp usage \"f\" as E5  <<(T,blue)attribute>> [[psysml:e43abf7c-a809-48bd-8c78-cd0a53fbbdb6 ]] {\r\n",
       "}\r\n",
       "comp usage \"g\" as E6  <<(T,blue)attribute>> [[psysml:04ff0b02-14ab-40e8-a866-ef9bcfd05ef7 ]] {\r\n",
       "}\r\n",
       "comp usage \"b\" as E7  <<(T,blue)attribute>> [[psysml:37f56aff-8c9f-4a8e-95e0-50132129fb99 ]] {\r\n",
       "}\r\n",
       "comp usage \"c\" as E8  <<(T,blue)attribute>> [[psysml:6095b787-d7f9-43be-8b1b-f534282edd43 ]] {\r\n",
       "}\r\n",
       "E3 - -:|> E2 [[psysml:982c8c0e-9af2-4f93-8067-230d5c39d8a2 ]] \r\n",
       "E4 o- - E2 [[psysml:16d77514-2de6-4c2c-add7-8b8555ca417f ]] : p\r\n",
       "}\r\n",
       "@enduml\r\n",
       "\n",
       "PlantUML version 1.2020.13(Sat Jun 13 12:26:38 UTC 2020)\n",
       "(EPL source distribution)\n",
       "Java Runtime: OpenJDK Runtime Environment\n",
       "JVM: OpenJDK 64-Bit Server VM\n",
       "Default Encoding: UTF-8\n",
       "Language: en\n",
       "Country: null\n",
       "--></g></svg>"
      ]
     },
     "execution_count": 56,
     "metadata": {},
     "output_type": "execute_result"
    }
   ],
   "source": [
    "%viz --style=\"ORTHOLINE\" --view=\"Sequence\" \"ParameterTest\""
   ]
  },
  {
   "cell_type": "code",
   "execution_count": 57,
   "id": "distinct-difference",
   "metadata": {
    "execution": {
     "iopub.execute_input": "2021-03-24T16:28:57.257824Z",
     "iopub.status.busy": "2021-03-24T16:28:57.257480Z",
     "iopub.status.idle": "2021-03-24T16:28:57.299352Z",
     "shell.execute_reply": "2021-03-24T16:28:57.298117Z"
    }
   },
   "outputs": [
    {
     "data": {
      "image/svg+xml": [
       "<?xml version=\"1.0\" encoding=\"UTF-8\" standalone=\"no\"?><svg xmlns=\"http://www.w3.org/2000/svg\" xmlns:xlink=\"http://www.w3.org/1999/xlink\" contentScriptType=\"application/ecmascript\" contentStyleType=\"text/css\" height=\"403px\" preserveAspectRatio=\"none\" style=\"width:740px;height:403px;\" version=\"1.1\" viewBox=\"0 0 740 403\" width=\"740px\" zoomAndPan=\"magnify\"><defs/><g><!--MD5=[fbc87193dbaf4d95561dea2c320d4a47]\n",
       "cluster E1--><a href=\"psysml:0dacd990-2b3a-4306-80d2-1e4fad6d04cd\" target=\"_top\" title=\"psysml:0dacd990-2b3a-4306-80d2-1e4fad6d04cd\" xlink:actuate=\"onRequest\" xlink:href=\"psysml:0dacd990-2b3a-4306-80d2-1e4fad6d04cd\" xlink:show=\"new\" xlink:title=\"psysml:0dacd990-2b3a-4306-80d2-1e4fad6d04cd\" xlink:type=\"simple\"><polygon fill=\"#FFFFFF\" points=\"16,6,139,6,146,28.2969,718,28.2969,718,391.72,16,391.72,16,6\" style=\"stroke: #000000; stroke-width: 1.5;\"/><line style=\"stroke: #000000; stroke-width: 1.5;\" x1=\"16\" x2=\"146\" y1=\"28.2969\" y2=\"28.2969\"/><text fill=\"#000000\" font-family=\"sans-serif\" font-size=\"14\" font-weight=\"bold\" lengthAdjust=\"spacingAndGlyphs\" textLength=\"117\" x=\"20\" y=\"20.9951\">ParameterTest</text></a><!--MD5=[f6df4d0ebaf0b5dfb2ced0ae5af7c670]\n",
       "cluster E4--><a href=\"psysml:cd1262f4-d3f9-4f52-89ee-1653680ad782\" target=\"_top\" title=\"psysml:cd1262f4-d3f9-4f52-89ee-1653680ad782\" xlink:actuate=\"onRequest\" xlink:href=\"psysml:cd1262f4-d3f9-4f52-89ee-1653680ad782\" xlink:show=\"new\" xlink:title=\"psysml:cd1262f4-d3f9-4f52-89ee-1653680ad782\" xlink:type=\"simple\"><rect fill=\"#FFFFFF\" height=\"297.72\" id=\"E4\" style=\"stroke: #383838; stroke-width: 1.5;\" width=\"148\" x=\"554\" y=\"64\"/><rect fill=\"#F8F8F8\" height=\"37.9375\" style=\"stroke: #383838; stroke-width: 1.5;\" width=\"148\" x=\"554\" y=\"64\"/><text fill=\"#000000\" font-family=\"sans-serif\" font-size=\"12\" font-style=\"italic\" lengthAdjust=\"spacingAndGlyphs\" textLength=\"106\" x=\"575\" y=\"80.1387\">«calculation def»</text><text fill=\"#000000\" font-family=\"sans-serif\" font-size=\"12\" lengthAdjust=\"spacingAndGlyphs\" textLength=\"7\" x=\"624.5\" y=\"94.1074\">F</text></a><!--MD5=[b4997ac47864f28c2f74865a473b2911]\n",
       "class E2--><a href=\"psysml:03a6349f-297b-4a78-b9ab-052989f96479\" target=\"_top\" title=\"psysml:03a6349f-297b-4a78-b9ab-052989f96479\" xlink:actuate=\"onRequest\" xlink:href=\"psysml:03a6349f-297b-4a78-b9ab-052989f96479\" xlink:show=\"new\" xlink:title=\"psysml:03a6349f-297b-4a78-b9ab-052989f96479\" xlink:type=\"simple\"><rect fill=\"#FFFFFF\" height=\"88.3516\" id=\"E2\" style=\"stroke: #383838; stroke-width: 1.5;\" width=\"95\" x=\"422.5\" y=\"147\"/><text fill=\"#000000\" font-family=\"sans-serif\" font-size=\"12\" font-style=\"italic\" lengthAdjust=\"spacingAndGlyphs\" textLength=\"93\" x=\"423.5\" y=\"163.1387\">«attribute def»</text><text fill=\"#000000\" font-family=\"sans-serif\" font-size=\"12\" lengthAdjust=\"spacingAndGlyphs\" textLength=\"8\" x=\"466\" y=\"177.1074\">A</text><line style=\"stroke: #383838; stroke-width: 1.5;\" x1=\"423.5\" x2=\"516.5\" y1=\"184.9375\" y2=\"184.9375\"/><text fill=\"#000000\" font-family=\"sans-serif\" font-size=\"11\" lengthAdjust=\"spacingAndGlyphs\" textLength=\"48\" x=\"428.5\" y=\"215.9526\">x: String</text><text fill=\"#000000\" font-family=\"sans-serif\" font-size=\"11\" lengthAdjust=\"spacingAndGlyphs\" textLength=\"21\" x=\"428.5\" y=\"228.7573\">y: A</text><line style=\"stroke: #383838; stroke-width: 1.0;\" x1=\"423.5\" x2=\"442.5\" y1=\"199.3398\" y2=\"199.3398\"/><text fill=\"#000000\" font-family=\"sans-serif\" font-size=\"11\" lengthAdjust=\"spacingAndGlyphs\" textLength=\"55\" x=\"442.5\" y=\"202.6479\">attributes</text><line style=\"stroke: #383838; stroke-width: 1.0;\" x1=\"497.5\" x2=\"516.5\" y1=\"199.3398\" y2=\"199.3398\"/></a><!--MD5=[09b614a08d8cba4a07c9adeb5e0fee81]\n",
       "class E3--><a href=\"psysml:d7af749e-ffc6-4773-972a-b8dfcfe9deb8\" target=\"_top\" title=\"psysml:d7af749e-ffc6-4773-972a-b8dfcfe9deb8\" xlink:actuate=\"onRequest\" xlink:href=\"psysml:d7af749e-ffc6-4773-972a-b8dfcfe9deb8\" xlink:show=\"new\" xlink:title=\"psysml:d7af749e-ffc6-4773-972a-b8dfcfe9deb8\" xlink:type=\"simple\"><rect fill=\"#FFFFFF\" height=\"45.9375\" id=\"E3\" rx=\"10\" ry=\"10\" style=\"stroke: #383838; stroke-width: 1.5;\" width=\"71\" x=\"456.5\" y=\"41\"/><text fill=\"#000000\" font-family=\"sans-serif\" font-size=\"12\" font-style=\"italic\" lengthAdjust=\"spacingAndGlyphs\" textLength=\"69\" x=\"457.5\" y=\"57.1387\">«attribute»</text><text fill=\"#000000\" font-family=\"sans-serif\" font-size=\"12\" lengthAdjust=\"spacingAndGlyphs\" textLength=\"24\" x=\"480\" y=\"71.1074\">a: A</text><line style=\"stroke: #383838; stroke-width: 1.5;\" x1=\"457.5\" x2=\"526.5\" y1=\"78.9375\" y2=\"78.9375\"/></a><!--MD5=[b9389687b975829384b498ac4b7476b2]\n",
       "class E8--><a href=\"psysml:e43abf7c-a809-48bd-8c78-cd0a53fbbdb6\" target=\"_top\" title=\"psysml:e43abf7c-a809-48bd-8c78-cd0a53fbbdb6\" xlink:actuate=\"onRequest\" xlink:href=\"psysml:e43abf7c-a809-48bd-8c78-cd0a53fbbdb6\" xlink:show=\"new\" xlink:title=\"psysml:e43abf7c-a809-48bd-8c78-cd0a53fbbdb6\" xlink:type=\"simple\"><rect fill=\"#FFFFFF\" height=\"45.9375\" id=\"E8\" rx=\"10\" ry=\"10\" style=\"stroke: #383838; stroke-width: 1.5;\" width=\"71\" x=\"350.5\" y=\"41\"/><text fill=\"#000000\" font-family=\"sans-serif\" font-size=\"12\" font-style=\"italic\" lengthAdjust=\"spacingAndGlyphs\" textLength=\"69\" x=\"351.5\" y=\"57.1387\">«attribute»</text><text fill=\"#000000\" font-family=\"sans-serif\" font-size=\"12\" lengthAdjust=\"spacingAndGlyphs\" textLength=\"4\" x=\"384\" y=\"71.1074\">f</text><line style=\"stroke: #383838; stroke-width: 1.5;\" x1=\"351.5\" x2=\"420.5\" y1=\"78.9375\" y2=\"78.9375\"/></a><!--MD5=[fd4143e9d270a159db93a4ea2a975926]\n",
       "class E9--><a href=\"psysml:04ff0b02-14ab-40e8-a866-ef9bcfd05ef7\" target=\"_top\" title=\"psysml:04ff0b02-14ab-40e8-a866-ef9bcfd05ef7\" xlink:actuate=\"onRequest\" xlink:href=\"psysml:04ff0b02-14ab-40e8-a866-ef9bcfd05ef7\" xlink:show=\"new\" xlink:title=\"psysml:04ff0b02-14ab-40e8-a866-ef9bcfd05ef7\" xlink:type=\"simple\"><rect fill=\"#FFFFFF\" height=\"45.9375\" id=\"E9\" rx=\"10\" ry=\"10\" style=\"stroke: #383838; stroke-width: 1.5;\" width=\"71\" x=\"244.5\" y=\"41\"/><text fill=\"#000000\" font-family=\"sans-serif\" font-size=\"12\" font-style=\"italic\" lengthAdjust=\"spacingAndGlyphs\" textLength=\"69\" x=\"245.5\" y=\"57.1387\">«attribute»</text><text fill=\"#000000\" font-family=\"sans-serif\" font-size=\"12\" lengthAdjust=\"spacingAndGlyphs\" textLength=\"8\" x=\"276\" y=\"71.1074\">g</text><line style=\"stroke: #383838; stroke-width: 1.5;\" x1=\"245.5\" x2=\"314.5\" y1=\"78.9375\" y2=\"78.9375\"/></a><!--MD5=[96f4274e9e20536e775497830990834d]\n",
       "class E10--><a href=\"psysml:37f56aff-8c9f-4a8e-95e0-50132129fb99\" target=\"_top\" title=\"psysml:37f56aff-8c9f-4a8e-95e0-50132129fb99\" xlink:actuate=\"onRequest\" xlink:href=\"psysml:37f56aff-8c9f-4a8e-95e0-50132129fb99\" xlink:show=\"new\" xlink:title=\"psysml:37f56aff-8c9f-4a8e-95e0-50132129fb99\" xlink:type=\"simple\"><rect fill=\"#FFFFFF\" height=\"45.9375\" id=\"E10\" rx=\"10\" ry=\"10\" style=\"stroke: #383838; stroke-width: 1.5;\" width=\"71\" x=\"138.5\" y=\"41\"/><text fill=\"#000000\" font-family=\"sans-serif\" font-size=\"12\" font-style=\"italic\" lengthAdjust=\"spacingAndGlyphs\" textLength=\"69\" x=\"139.5\" y=\"57.1387\">«attribute»</text><text fill=\"#000000\" font-family=\"sans-serif\" font-size=\"12\" lengthAdjust=\"spacingAndGlyphs\" textLength=\"8\" x=\"170\" y=\"71.1074\">b</text><line style=\"stroke: #383838; stroke-width: 1.5;\" x1=\"139.5\" x2=\"208.5\" y1=\"78.9375\" y2=\"78.9375\"/></a><!--MD5=[1dd1bfd58a279cf63c5f349dbc8fc6a1]\n",
       "class E11--><a href=\"psysml:6095b787-d7f9-43be-8b1b-f534282edd43\" target=\"_top\" title=\"psysml:6095b787-d7f9-43be-8b1b-f534282edd43\" xlink:actuate=\"onRequest\" xlink:href=\"psysml:6095b787-d7f9-43be-8b1b-f534282edd43\" xlink:show=\"new\" xlink:title=\"psysml:6095b787-d7f9-43be-8b1b-f534282edd43\" xlink:type=\"simple\"><rect fill=\"#FFFFFF\" height=\"45.9375\" id=\"E11\" rx=\"10\" ry=\"10\" style=\"stroke: #383838; stroke-width: 1.5;\" width=\"71\" x=\"32.5\" y=\"41\"/><text fill=\"#000000\" font-family=\"sans-serif\" font-size=\"12\" font-style=\"italic\" lengthAdjust=\"spacingAndGlyphs\" textLength=\"69\" x=\"33.5\" y=\"57.1387\">«attribute»</text><text fill=\"#000000\" font-family=\"sans-serif\" font-size=\"12\" lengthAdjust=\"spacingAndGlyphs\" textLength=\"7\" x=\"64.5\" y=\"71.1074\">c</text><line style=\"stroke: #383838; stroke-width: 1.5;\" x1=\"33.5\" x2=\"102.5\" y1=\"78.9375\" y2=\"78.9375\"/></a><text fill=\"#000000\" font-family=\"sans-serif\" font-size=\"14\" lengthAdjust=\"spacingAndGlyphs\" textLength=\"9\" x=\"567.5\" y=\"42.6982\">p</text><rect fill=\"#383838\" height=\"12\" style=\"stroke: #F8F8F8; stroke-width: 1.5;\" width=\"12\" x=\"566\" y=\"58\"/><text fill=\"#000000\" font-family=\"sans-serif\" font-size=\"14\" lengthAdjust=\"spacingAndGlyphs\" textLength=\"9\" x=\"614.5\" y=\"42.6982\">q</text><rect fill=\"#383838\" height=\"12\" style=\"stroke: #F8F8F8; stroke-width: 1.5;\" width=\"12\" x=\"613\" y=\"58\"/><text fill=\"#000000\" font-family=\"sans-serif\" font-size=\"14\" lengthAdjust=\"spacingAndGlyphs\" textLength=\"57\" x=\"590.5\" y=\"380.7151\">noname</text><rect fill=\"#383838\" height=\"12\" style=\"stroke: #F8F8F8; stroke-width: 1.5;\" width=\"12\" x=\"613\" y=\"355.72\"/><!--MD5=[05d275557350bfb9b23a4ef7222b4c39]\n",
       "link E3 to E2--><a href=\"psysml:982c8c0e-9af2-4f93-8067-230d5c39d8a2\" target=\"_top\" title=\"psysml:982c8c0e-9af2-4f93-8067-230d5c39d8a2\" xlink:actuate=\"onRequest\" xlink:href=\"psysml:982c8c0e-9af2-4f93-8067-230d5c39d8a2\" xlink:show=\"new\" xlink:title=\"psysml:982c8c0e-9af2-4f93-8067-230d5c39d8a2\" xlink:type=\"simple\"><path d=\"M487,87.29 C487,87.29 487,126.78 487,126.78 \" fill=\"none\" id=\"E3-&gt;E2\" style=\"stroke: #383838; stroke-width: 1.0;\"/><polygon fill=\"#FFFFFF\" points=\"487,146.78,480,127.78,494,127.78,487,146.78\" style=\"stroke: #383838; stroke-width: 1.0;\"/><ellipse cx=\"482\" cy=\"122.08\" fill=\"#383838\" rx=\"2\" ry=\"2\" style=\"stroke: #383838; stroke-width: 1.0;\"/><ellipse cx=\"492\" cy=\"122.08\" fill=\"#383838\" rx=\"2\" ry=\"2\" style=\"stroke: #383838; stroke-width: 1.0;\"/></a><!--MD5=[59a3d07efb4bf7c784ceca763195b243]\n",
       "@startuml\r\n",
       "skinparam linetype ortho\r\n",
       "skinparam monochrome true\r\n",
       "skinparam classbackgroundcolor white\r\n",
       "skinparam shadowing false\r\n",
       "skinparam wrapWidth 300\r\n",
       "hide circle\r\n",
       "\r\n",
       "package \"ParameterTest\" as E1  [[psysml:0dacd990-2b3a-4306-80d2-1e4fad6d04cd ]]  {\r\n",
       "comp def \"A\" as E2  <<(T,blue)attribute def>> [[psysml:03a6349f-297b-4a78-b9ab-052989f96479 ]] {\r\n",
       "- - attributes - -\r\n",
       "x: String\r\n",
       "y: A\r\n",
       "}\r\n",
       "comp usage \"a: A\" as E3  <<(T,blue)attribute>> [[psysml:d7af749e-ffc6-4773-972a-b8dfcfe9deb8 ]] {\r\n",
       "}\r\n",
       "rec def \"F\" as E4  <<(T,blue)calculation def>> [[psysml:cd1262f4-d3f9-4f52-89ee-1653680ad782 ]] {\r\n",
       "portin \"p\" as E5  [[psysml:16d77514-2de6-4c2c-add7-8b8555ca417f ]] \r\n",
       "portin \"q\" as E6  [[psysml:85e14753-ca59-4cde-8265-18a8cb4b45d6 ]] \r\n",
       "portout \"noname\" as E7  [[psysml:99b94083-4aa7-41fb-8d8e-135498f03bbe ]] \r\n",
       "}\r\n",
       "\r\n",
       "comp usage \"f\" as E8  <<(T,blue)attribute>> [[psysml:e43abf7c-a809-48bd-8c78-cd0a53fbbdb6 ]] {\r\n",
       "}\r\n",
       "comp usage \"g\" as E9  <<(T,blue)attribute>> [[psysml:04ff0b02-14ab-40e8-a866-ef9bcfd05ef7 ]] {\r\n",
       "}\r\n",
       "comp usage \"b\" as E10  <<(T,blue)attribute>> [[psysml:37f56aff-8c9f-4a8e-95e0-50132129fb99 ]] {\r\n",
       "}\r\n",
       "comp usage \"c\" as E11  <<(T,blue)attribute>> [[psysml:6095b787-d7f9-43be-8b1b-f534282edd43 ]] {\r\n",
       "}\r\n",
       "E3 - -:|> E2 [[psysml:982c8c0e-9af2-4f93-8067-230d5c39d8a2 ]] \r\n",
       "}\r\n",
       "@enduml\r\n",
       "\n",
       "PlantUML version 1.2020.13(Sat Jun 13 12:26:38 UTC 2020)\n",
       "(EPL source distribution)\n",
       "Java Runtime: OpenJDK Runtime Environment\n",
       "JVM: OpenJDK 64-Bit Server VM\n",
       "Default Encoding: UTF-8\n",
       "Language: en\n",
       "Country: null\n",
       "--></g></svg>"
      ]
     },
     "execution_count": 57,
     "metadata": {},
     "output_type": "execute_result"
    }
   ],
   "source": [
    "%viz --style=\"ORTHOLINE\" --view=\"MIXED\" \"ParameterTest\""
   ]
  }
 ],
 "metadata": {
  "kernelspec": {
   "display_name": "SysML",
   "language": "sysml",
   "name": "sysml"
  },
  "language_info": {
   "codemirror_mode": "sysml",
   "file_extension": ".sysml",
   "mimetype": "text/x-sysml",
   "name": "SysML",
   "pygments_lexer": "java",
   "version": "1.0.0"
  }
 },
 "nbformat": 4,
 "nbformat_minor": 5
}
