{
 "cells": [
  {
   "cell_type": "markdown",
   "id": "5607f6dd",
   "metadata": {},
   "source": [
    "# SysML v2 Test Suite\n",
    "\n",
    "This can notebook can be cleared using menu `Edit --> Clear All Outputs` and then all cells can be\n",
    "run using menu `Run --> Run All Cells`.\n",
    "\n",
    "**WARNING**: This file is generated, all modifications here will be ignored.\n"
   ]
  },
  {
   "cell_type": "markdown",
   "id": "4e2637b3",
   "metadata": {},
   "source": [
    "## File: ../../sysml/src/examples/Simple Tests/ParameterTest.sysml"
   ]
  },
  {
   "cell_type": "code",
   "execution_count": 1,
   "id": "882c0610",
   "metadata": {
    "execution": {
     "iopub.execute_input": "2024-12-16T03:23:32.389893Z",
     "iopub.status.busy": "2024-12-16T03:23:32.388198Z",
     "iopub.status.idle": "2024-12-16T03:23:32.681341Z",
     "shell.execute_reply": "2024-12-16T03:23:32.681097Z"
    }
   },
   "outputs": [
    {
     "data": {
      "text/plain": [
       "Package ParameterTest (23a083da-d633-42aa-b737-bc534de6ad98)\n"
      ]
     },
     "execution_count": 1,
     "metadata": {},
     "output_type": "execute_result"
    }
   ],
   "source": [
    "package ParameterTest {\n",
    "\tattribute def A {\n",
    "\t\tattribute x : ScalarValues::String;\n",
    "\t\tattribute y : A;\n",
    "\t}\n",
    "\t\n",
    "\tattribute a : A;\n",
    "\t\n",
    "\tcalc def F { in p : A; in q : ScalarValues::Integer; return :  ScalarValues::Integer; }\n",
    "\t\n",
    "\tattribute f = F(a, 2);\n",
    "\tattribute g = F(q = 1, p = a);\n",
    "\t\n",
    "\tattribute b = A(y=a, x=\"\"); \n",
    "\tattribute c = A(\"test2\");\n",
    "}"
   ]
  },
  {
   "cell_type": "code",
   "execution_count": 2,
   "id": "ca0b7a00",
   "metadata": {
    "execution": {
     "iopub.execute_input": "2024-12-16T03:23:32.738175Z",
     "iopub.status.busy": "2024-12-16T03:23:32.737593Z",
     "iopub.status.idle": "2024-12-16T03:23:33.186929Z",
     "shell.execute_reply": "2024-12-16T03:23:33.187096Z"
    }
   },
   "outputs": [
    {
     "data": {
      "image/svg+xml": [
       "<?xml version=\"1.0\" encoding=\"UTF-8\" standalone=\"no\"?><svg xmlns=\"http://www.w3.org/2000/svg\" xmlns:xlink=\"http://www.w3.org/1999/xlink\" contentStyleType=\"text/css\" height=\"430px\" preserveAspectRatio=\"none\" style=\"width:858px;height:430px;background:#FFFFFF;\" version=\"1.1\" viewBox=\"0 0 858 430\" width=\"858px\" zoomAndPan=\"magnify\"><defs/><g><!--MD5=[fbc87193dbaf4d95561dea2c320d4a47]\n",
       "cluster E1--><g id=\"cluster_E1\"><a href=\"psysml:23a083da-d633-42aa-b737-bc534de6ad98\" target=\"_top\" title=\"psysml:23a083da-d633-42aa-b737-bc534de6ad98\" xlink:actuate=\"onRequest\" xlink:href=\"psysml:23a083da-d633-42aa-b737-bc534de6ad98\" xlink:show=\"new\" xlink:title=\"psysml:23a083da-d633-42aa-b737-bc534de6ad98\" xlink:type=\"simple\"><polygon fill=\"none\" points=\"16,6,129.6875,6,136.6875,28.2969,841,28.2969,841,423.72,16,423.72,16,6\" style=\"stroke:#000000;stroke-width:1.5;\"/><line style=\"stroke:#000000;stroke-width:1.5;\" x1=\"16\" x2=\"136.6875\" y1=\"28.2969\" y2=\"28.2969\"/><text fill=\"#000000\" font-family=\"sans-serif\" font-size=\"14\" font-weight=\"bold\" lengthAdjust=\"spacing\" textLength=\"107.6875\" x=\"20\" y=\"20.9951\">ParameterTest</text></a></g><!--MD5=[f6df4d0ebaf0b5dfb2ced0ae5af7c670]\n",
       "cluster E4--><g id=\"cluster_E4\"><a href=\"psysml:9fc68d1c-0eda-4ba7-8d2a-4dac99044350\" target=\"_top\" title=\"psysml:9fc68d1c-0eda-4ba7-8d2a-4dac99044350\" xlink:actuate=\"onRequest\" xlink:href=\"psysml:9fc68d1c-0eda-4ba7-8d2a-4dac99044350\" xlink:show=\"new\" xlink:title=\"psysml:9fc68d1c-0eda-4ba7-8d2a-4dac99044350\" xlink:type=\"simple\"><rect fill=\"#FFFFFF\" height=\"315.22\" id=\"E4\" style=\"stroke:#383838;stroke-width:1.5;\" width=\"150\" x=\"675\" y=\"78.5\"/><text fill=\"#000000\" font-family=\"sans-serif\" font-size=\"12\" font-style=\"italic\" lengthAdjust=\"spacing\" textLength=\"110\" x=\"695\" y=\"94.6387\">«calculation  def»</text><text fill=\"#000000\" font-family=\"sans-serif\" font-size=\"14\" lengthAdjust=\"spacing\" textLength=\"8\" x=\"746\" y=\"110.4639\">F</text><line style=\"stroke:#383838;stroke-width:1.0;\" x1=\"675\" x2=\"825\" y1=\"118.7656\" y2=\"118.7656\"/></a></g><!--MD5=[b4997ac47864f28c2f74865a473b2911]\n",
       "class E2--><a href=\"psysml:04ef3948-8524-44aa-a324-078bab0d23fb\" target=\"_top\" title=\"psysml:04ef3948-8524-44aa-a324-078bab0d23fb\" xlink:actuate=\"onRequest\" xlink:href=\"psysml:04ef3948-8524-44aa-a324-078bab0d23fb\" xlink:show=\"new\" xlink:title=\"psysml:04ef3948-8524-44aa-a324-078bab0d23fb\" xlink:type=\"simple\"><g id=\"elem_E2\"><rect fill=\"#FFFFFF\" height=\"91.3781\" id=\"E2\" style=\"stroke:#181818;stroke-width:0.5;\" width=\"99\" x=\"537.5\" y=\"176\"/><text fill=\"#000000\" font-family=\"sans-serif\" font-size=\"12\" font-style=\"italic\" lengthAdjust=\"spacing\" textLength=\"97\" x=\"538.5\" y=\"192.1387\">«attribute  def»</text><text fill=\"#000000\" font-family=\"sans-serif\" font-size=\"14\" lengthAdjust=\"spacing\" textLength=\"9\" x=\"582.5\" y=\"207.9639\">A</text><line style=\"stroke:#181818;stroke-width:0.5;\" x1=\"538.5\" x2=\"635.5\" y1=\"216.2656\" y2=\"216.2656\"/><text fill=\"#000000\" font-family=\"sans-serif\" font-size=\"14\" lengthAdjust=\"spacing\" textLength=\"56\" x=\"543.5\" y=\"243.7795\">x: String</text><text fill=\"#000000\" font-family=\"sans-serif\" font-size=\"14\" lengthAdjust=\"spacing\" textLength=\"25\" x=\"543.5\" y=\"260.0764\">y: A</text><text fill=\"#000000\" font-family=\"sans-serif\" font-size=\"14\" font-style=\"italic\" lengthAdjust=\"spacing\" textLength=\"66\" x=\"554\" y=\"228.6123\">attributes</text></g></a><!--MD5=[09b614a08d8cba4a07c9adeb5e0fee81]\n",
       "class E3--><a href=\"psysml:30f6a8e4-9ac7-4724-976d-d9f1147f3701\" target=\"_top\" title=\"psysml:30f6a8e4-9ac7-4724-976d-d9f1147f3701\" xlink:actuate=\"onRequest\" xlink:href=\"psysml:30f6a8e4-9ac7-4724-976d-d9f1147f3701\" xlink:show=\"new\" xlink:title=\"psysml:30f6a8e4-9ac7-4724-976d-d9f1147f3701\" xlink:type=\"simple\"><g id=\"elem_E3\"><rect fill=\"#FFFFFF\" height=\"48.2656\" id=\"E3\" rx=\"10\" ry=\"10\" style=\"stroke:#181818;stroke-width:0.5;\" width=\"71\" x=\"575.5\" y=\"54.5\"/><text fill=\"#000000\" font-family=\"sans-serif\" font-size=\"12\" font-style=\"italic\" lengthAdjust=\"spacing\" textLength=\"69\" x=\"576.5\" y=\"70.6387\">«attribute»</text><text fill=\"#000000\" font-family=\"sans-serif\" font-size=\"14\" lengthAdjust=\"spacing\" textLength=\"26\" x=\"594\" y=\"86.4639\">a: A</text><line style=\"stroke:#181818;stroke-width:0.5;\" x1=\"576.5\" x2=\"645.5\" y1=\"94.7656\" y2=\"94.7656\"/></g></a><!--MD5=[b9389687b975829384b498ac4b7476b2]\n",
       "class E8--><a href=\"psysml:201caa5e-7003-43c9-93c7-31c1dd2687e1\" target=\"_top\" title=\"psysml:201caa5e-7003-43c9-93c7-31c1dd2687e1\" xlink:actuate=\"onRequest\" xlink:href=\"psysml:201caa5e-7003-43c9-93c7-31c1dd2687e1\" xlink:show=\"new\" xlink:title=\"psysml:201caa5e-7003-43c9-93c7-31c1dd2687e1\" xlink:type=\"simple\"><g id=\"elem_E8\"><rect fill=\"#FFFFFF\" height=\"75.0813\" id=\"E8\" rx=\"10\" ry=\"10\" style=\"stroke:#181818;stroke-width:0.5;\" width=\"71\" x=\"469.5\" y=\"41\"/><text fill=\"#000000\" font-family=\"sans-serif\" font-size=\"12\" font-style=\"italic\" lengthAdjust=\"spacing\" textLength=\"69\" x=\"470.5\" y=\"57.1387\">«attribute»</text><text fill=\"#000000\" font-family=\"sans-serif\" font-size=\"14\" lengthAdjust=\"spacing\" textLength=\"4\" x=\"499\" y=\"72.9639\">f</text><line style=\"stroke:#181818;stroke-width:0.5;\" x1=\"470.5\" x2=\"539.5\" y1=\"81.2656\" y2=\"81.2656\"/><text fill=\"#000000\" font-family=\"sans-serif\" font-size=\"14\" lengthAdjust=\"spacing\" textLength=\"59\" x=\"475.5\" y=\"108.7795\">= F(a, 2)</text><text fill=\"#000000\" font-family=\"sans-serif\" font-size=\"14\" font-style=\"italic\" lengthAdjust=\"spacing\" textLength=\"44\" x=\"483\" y=\"93.6123\">values</text></g></a><!--MD5=[fd4143e9d270a159db93a4ea2a975926]\n",
       "class E9--><a href=\"psysml:ef9d06c8-83aa-4b51-a725-4880c3e71513\" target=\"_top\" title=\"psysml:ef9d06c8-83aa-4b51-a725-4880c3e71513\" xlink:actuate=\"onRequest\" xlink:href=\"psysml:ef9d06c8-83aa-4b51-a725-4880c3e71513\" xlink:show=\"new\" xlink:title=\"psysml:ef9d06c8-83aa-4b51-a725-4880c3e71513\" xlink:type=\"simple\"><g id=\"elem_E9\"><rect fill=\"#FFFFFF\" height=\"75.0813\" id=\"E9\" rx=\"10\" ry=\"10\" style=\"stroke:#181818;stroke-width:0.5;\" width=\"129\" x=\"305.5\" y=\"41\"/><text fill=\"#000000\" font-family=\"sans-serif\" font-size=\"12\" font-style=\"italic\" lengthAdjust=\"spacing\" textLength=\"69\" x=\"335.5\" y=\"57.1387\">«attribute»</text><text fill=\"#000000\" font-family=\"sans-serif\" font-size=\"14\" lengthAdjust=\"spacing\" textLength=\"9\" x=\"361.5\" y=\"72.9639\">g</text><line style=\"stroke:#181818;stroke-width:0.5;\" x1=\"306.5\" x2=\"433.5\" y1=\"81.2656\" y2=\"81.2656\"/><text fill=\"#000000\" font-family=\"sans-serif\" font-size=\"14\" lengthAdjust=\"spacing\" textLength=\"117\" x=\"311.5\" y=\"108.7795\">= F(q = 1, p = a)</text><text fill=\"#000000\" font-family=\"sans-serif\" font-size=\"14\" font-style=\"italic\" lengthAdjust=\"spacing\" textLength=\"44\" x=\"348\" y=\"93.6123\">values</text></g></a><!--MD5=[96f4274e9e20536e775497830990834d]\n",
       "class E10--><a href=\"psysml:472a68ff-87fb-48cb-b812-c0679e72bd97\" target=\"_top\" title=\"psysml:472a68ff-87fb-48cb-b812-c0679e72bd97\" xlink:actuate=\"onRequest\" xlink:href=\"psysml:472a68ff-87fb-48cb-b812-c0679e72bd97\" xlink:show=\"new\" xlink:title=\"psysml:472a68ff-87fb-48cb-b812-c0679e72bd97\" xlink:type=\"simple\"><g id=\"elem_E10\"><rect fill=\"#FFFFFF\" height=\"75.0813\" id=\"E10\" rx=\"10\" ry=\"10\" style=\"stroke:#181818;stroke-width:0.5;\" width=\"111\" x=\"159.5\" y=\"41\"/><text fill=\"#000000\" font-family=\"sans-serif\" font-size=\"12\" font-style=\"italic\" lengthAdjust=\"spacing\" textLength=\"69\" x=\"180.5\" y=\"57.1387\">«attribute»</text><text fill=\"#000000\" font-family=\"sans-serif\" font-size=\"14\" lengthAdjust=\"spacing\" textLength=\"9\" x=\"206.5\" y=\"72.9639\">b</text><line style=\"stroke:#181818;stroke-width:0.5;\" x1=\"160.5\" x2=\"269.5\" y1=\"81.2656\" y2=\"81.2656\"/><text fill=\"#000000\" font-family=\"sans-serif\" font-size=\"14\" lengthAdjust=\"spacing\" textLength=\"99\" x=\"165.5\" y=\"108.7795\">= A(y=a, x=\"\")</text><text fill=\"#000000\" font-family=\"sans-serif\" font-size=\"14\" font-style=\"italic\" lengthAdjust=\"spacing\" textLength=\"44\" x=\"193\" y=\"93.6123\">values</text></g></a><!--MD5=[1dd1bfd58a279cf63c5f349dbc8fc6a1]\n",
       "class E11--><a href=\"psysml:b12c6daa-efd4-472f-91f1-7e0209b6a2bc\" target=\"_top\" title=\"psysml:b12c6daa-efd4-472f-91f1-7e0209b6a2bc\" xlink:actuate=\"onRequest\" xlink:href=\"psysml:b12c6daa-efd4-472f-91f1-7e0209b6a2bc\" xlink:show=\"new\" xlink:title=\"psysml:b12c6daa-efd4-472f-91f1-7e0209b6a2bc\" xlink:type=\"simple\"><g id=\"elem_E11\"><rect fill=\"#FFFFFF\" height=\"75.0813\" id=\"E11\" rx=\"10\" ry=\"10\" style=\"stroke:#181818;stroke-width:0.5;\" width=\"93\" x=\"31.5\" y=\"41\"/><text fill=\"#000000\" font-family=\"sans-serif\" font-size=\"12\" font-style=\"italic\" lengthAdjust=\"spacing\" textLength=\"69\" x=\"43.5\" y=\"57.1387\">«attribute»</text><text fill=\"#000000\" font-family=\"sans-serif\" font-size=\"14\" lengthAdjust=\"spacing\" textLength=\"8\" x=\"70\" y=\"72.9639\">c</text><line style=\"stroke:#181818;stroke-width:0.5;\" x1=\"32.5\" x2=\"123.5\" y1=\"81.2656\" y2=\"81.2656\"/><text fill=\"#000000\" font-family=\"sans-serif\" font-size=\"14\" lengthAdjust=\"spacing\" textLength=\"81\" x=\"37.5\" y=\"108.7795\">= A(\"test2\")</text><text fill=\"#000000\" font-family=\"sans-serif\" font-size=\"14\" font-style=\"italic\" lengthAdjust=\"spacing\" textLength=\"44\" x=\"56\" y=\"93.6123\">values</text></g></a><text fill=\"#000000\" font-family=\"sans-serif\" font-size=\"14\" lengthAdjust=\"spacing\" textLength=\"9\" x=\"688.5\" y=\"57.1982\">p</text><rect fill=\"#FFFFFF\" height=\"12\" style=\"stroke:#181818;stroke-width:1.5;\" width=\"12\" x=\"687\" y=\"72.5\"/><text fill=\"#000000\" font-family=\"sans-serif\" font-size=\"14\" lengthAdjust=\"spacing\" textLength=\"9\" x=\"735.5\" y=\"57.1982\">q</text><rect fill=\"#FFFFFF\" height=\"12\" style=\"stroke:#181818;stroke-width:1.5;\" width=\"12\" x=\"734\" y=\"72.5\"/><text fill=\"#000000\" font-family=\"sans-serif\" font-size=\"14\" lengthAdjust=\"spacing\" textLength=\"39\" x=\"720.5\" y=\"412.7151\">result</text><rect fill=\"#FFFFFF\" height=\"12\" style=\"stroke:#181818;stroke-width:1.5;\" width=\"12\" x=\"734\" y=\"387.72\"/><!--MD5=[05d275557350bfb9b23a4ef7222b4c39]\n",
       "link E3 to E2--><g id=\"link_E3_E2\"><a href=\"psysml:de703d0e-2ba0-4603-81fc-fcf4f6dc7e4d\" target=\"_top\" title=\"psysml:de703d0e-2ba0-4603-81fc-fcf4f6dc7e4d\" xlink:actuate=\"onRequest\" xlink:href=\"psysml:de703d0e-2ba0-4603-81fc-fcf4f6dc7e4d\" xlink:show=\"new\" xlink:title=\"psysml:de703d0e-2ba0-4603-81fc-fcf4f6dc7e4d\" xlink:type=\"simple\"><path d=\"M607.04,102.78 C604.55,117.39 601.21,137.01 597.97,156.04 \" fill=\"none\" id=\"E3-to-E2\" style=\"stroke:#181818;stroke-width:1.0;\"/><polygon fill=\"#FFFFFF\" points=\"594.61,175.8,590.8965,155.895,604.6981,158.2435,594.61,175.8\" style=\"stroke:#181818;stroke-width:1.0;\"/><ellipse cx=\"593.8244\" cy=\"150.6113\" fill=\"#181818\" rx=\"2\" ry=\"2\" style=\"stroke:#181818;stroke-width:1.0;\"/><ellipse cx=\"603.6827\" cy=\"152.2888\" fill=\"#181818\" rx=\"2\" ry=\"2\" style=\"stroke:#181818;stroke-width:1.0;\"/></a></g><!--MD5=[d5ca42253103d88b8404f22aa9210be9]\n",
       "@startuml\r\n",
       "skin sysmlbw\r\n",
       "skinparam monochrome true\r\n",
       "skinparam wrapWidth 300\r\n",
       "hide circle\r\n",
       " \r\n",
       "package \"ParameterTest\" as E1  [[psysml:23a083da-d633-42aa-b737-bc534de6ad98 ]]  {\r\n",
       "comp def \"A\" as E2  <<(T,blue) attribute  def>> [[psysml:04ef3948-8524-44aa-a324-078bab0d23fb ]] {\r\n",
       "##//attributes//##\r\n",
       "x: String\r\n",
       "y: A\r\n",
       "}\r\n",
       "comp usage \"a: A  \" as E3  <<(T,blue) attribute>> [[psysml:30f6a8e4-9ac7-4724-976d-d9f1147f3701 ]] {\r\n",
       "}\r\n",
       "rec def \"F\" as E4  <<(T,blue) calculation  def>> [[psysml:9fc68d1c-0eda-4ba7-8d2a-4dac99044350 ]] {\r\n",
       "portin \"p\" as E5  [[psysml:c0525d75-8c24-4ff5-9432-36973c13d292 ]] \r\n",
       "portin \"q\" as E6  [[psysml:ea5aeb99-c612-42a4-b65a-a51f249da328 ]] \r\n",
       "portout \"result\" as E7  [[psysml:ef9cf0a8-f443-48d9-b6fd-29ed95d8a001 ]] \r\n",
       "}\r\n",
       "\r\n",
       "comp usage \"f  \" as E8  <<(T,blue) attribute>> [[psysml:201caa5e-7003-43c9-93c7-31c1dd2687e1 ]] {\r\n",
       "##//values//##\r\n",
       " <U+003D> F(a, 2)\r\n",
       "}\r\n",
       "comp usage \"g  \" as E9  <<(T,blue) attribute>> [[psysml:ef9d06c8-83aa-4b51-a725-4880c3e71513 ]] {\r\n",
       "##//values//##\r\n",
       " <U+003D> F(q <U+003D> 1, p <U+003D> a)\r\n",
       "}\r\n",
       "comp usage \"b  \" as E10  <<(T,blue) attribute>> [[psysml:472a68ff-87fb-48cb-b812-c0679e72bd97 ]] {\r\n",
       "##//values//##\r\n",
       " <U+003D> A(y<U+003D>a, x<U+003D>\"\")\r\n",
       "}\r\n",
       "comp usage \"c  \" as E11  <<(T,blue) attribute>> [[psysml:b12c6daa-efd4-472f-91f1-7e0209b6a2bc ]] {\r\n",
       "##//values//##\r\n",
       " <U+003D> A(\"test2\")\r\n",
       "}\r\n",
       "}\r\n",
       "E3 - -:|> E2 [[psysml:de703d0e-2ba0-4603-81fc-fcf4f6dc7e4d ]] \r\n",
       "@enduml\r\n",
       "\n",
       "PlantUML version 1.2022.7(Mon Aug 22 17:01:30 UTC 2022)\n",
       "(EPL source distribution)\n",
       "Java Runtime: OpenJDK Runtime Environment\n",
       "JVM: OpenJDK 64-Bit Server VM\n",
       "Default Encoding: UTF-8\n",
       "Language: en\n",
       "Country: null\n",
       "--></g></svg>"
      ]
     },
     "execution_count": 2,
     "metadata": {},
     "output_type": "execute_result"
    }
   ],
   "source": [
    "%viz --style=\"COMPTREE\" --view=\"Default\" \"ParameterTest\""
   ]
  },
  {
   "cell_type": "code",
   "execution_count": 3,
   "id": "f4d53368",
   "metadata": {
    "execution": {
     "iopub.execute_input": "2024-12-16T03:23:33.242863Z",
     "iopub.status.busy": "2024-12-16T03:23:33.242605Z",
     "iopub.status.idle": "2024-12-16T03:23:33.309003Z",
     "shell.execute_reply": "2024-12-16T03:23:33.309161Z"
    }
   },
   "outputs": [
    {
     "data": {
      "image/svg+xml": [
       "<?xml version=\"1.0\" encoding=\"UTF-8\" standalone=\"no\"?><svg xmlns=\"http://www.w3.org/2000/svg\" xmlns:xlink=\"http://www.w3.org/1999/xlink\" contentStyleType=\"text/css\" height=\"307px\" preserveAspectRatio=\"none\" style=\"width:828px;height:307px;background:#FFFFFF;\" version=\"1.1\" viewBox=\"0 0 828 307\" width=\"828px\" zoomAndPan=\"magnify\"><defs/><g><!--MD5=[fbc87193dbaf4d95561dea2c320d4a47]\n",
       "cluster E1--><g id=\"cluster_E1\"><a href=\"psysml:23a083da-d633-42aa-b737-bc534de6ad98\" target=\"_top\" title=\"psysml:23a083da-d633-42aa-b737-bc534de6ad98\" xlink:actuate=\"onRequest\" xlink:href=\"psysml:23a083da-d633-42aa-b737-bc534de6ad98\" xlink:show=\"new\" xlink:title=\"psysml:23a083da-d633-42aa-b737-bc534de6ad98\" xlink:type=\"simple\"><polygon fill=\"none\" points=\"16,6,129.6875,6,136.6875,28.2969,811,28.2969,811,300,16,300,16,6\" style=\"stroke:#000000;stroke-width:1.5;\"/><line style=\"stroke:#000000;stroke-width:1.5;\" x1=\"16\" x2=\"136.6875\" y1=\"28.2969\" y2=\"28.2969\"/><text fill=\"#000000\" font-family=\"sans-serif\" font-size=\"14\" font-weight=\"bold\" lengthAdjust=\"spacing\" textLength=\"107.6875\" x=\"20\" y=\"20.9951\">ParameterTest</text></a></g><!--MD5=[b4997ac47864f28c2f74865a473b2911]\n",
       "class E2--><a href=\"psysml:04ef3948-8524-44aa-a324-078bab0d23fb\" target=\"_top\" title=\"psysml:04ef3948-8524-44aa-a324-078bab0d23fb\" xlink:actuate=\"onRequest\" xlink:href=\"psysml:04ef3948-8524-44aa-a324-078bab0d23fb\" xlink:show=\"new\" xlink:title=\"psysml:04ef3948-8524-44aa-a324-078bab0d23fb\" xlink:type=\"simple\"><g id=\"elem_E2\"><rect fill=\"#FFFFFF\" height=\"91.3781\" id=\"E2\" style=\"stroke:#181818;stroke-width:0.5;\" width=\"99\" x=\"618.5\" y=\"193\"/><text fill=\"#000000\" font-family=\"sans-serif\" font-size=\"12\" font-style=\"italic\" lengthAdjust=\"spacing\" textLength=\"97\" x=\"619.5\" y=\"209.1387\">«attribute  def»</text><text fill=\"#000000\" font-family=\"sans-serif\" font-size=\"14\" lengthAdjust=\"spacing\" textLength=\"9\" x=\"663.5\" y=\"224.9639\">A</text><line style=\"stroke:#181818;stroke-width:0.5;\" x1=\"619.5\" x2=\"716.5\" y1=\"233.2656\" y2=\"233.2656\"/><text fill=\"#000000\" font-family=\"sans-serif\" font-size=\"14\" lengthAdjust=\"spacing\" textLength=\"56\" x=\"624.5\" y=\"260.7795\">x: String</text><text fill=\"#000000\" font-family=\"sans-serif\" font-size=\"14\" lengthAdjust=\"spacing\" textLength=\"25\" x=\"624.5\" y=\"277.0764\">y: A</text><text fill=\"#000000\" font-family=\"sans-serif\" font-size=\"14\" font-style=\"italic\" lengthAdjust=\"spacing\" textLength=\"66\" x=\"635\" y=\"245.6123\">attributes</text></g></a><!--MD5=[09b614a08d8cba4a07c9adeb5e0fee81]\n",
       "class E3--><a href=\"psysml:30f6a8e4-9ac7-4724-976d-d9f1147f3701\" target=\"_top\" title=\"psysml:30f6a8e4-9ac7-4724-976d-d9f1147f3701\" xlink:actuate=\"onRequest\" xlink:href=\"psysml:30f6a8e4-9ac7-4724-976d-d9f1147f3701\" xlink:show=\"new\" xlink:title=\"psysml:30f6a8e4-9ac7-4724-976d-d9f1147f3701\" xlink:type=\"simple\"><g id=\"elem_E3\"><rect fill=\"#FFFFFF\" height=\"48.2656\" id=\"E3\" rx=\"10\" ry=\"10\" style=\"stroke:#181818;stroke-width:0.5;\" width=\"71\" x=\"723.5\" y=\"54.5\"/><text fill=\"#000000\" font-family=\"sans-serif\" font-size=\"12\" font-style=\"italic\" lengthAdjust=\"spacing\" textLength=\"69\" x=\"724.5\" y=\"70.6387\">«attribute»</text><text fill=\"#000000\" font-family=\"sans-serif\" font-size=\"14\" lengthAdjust=\"spacing\" textLength=\"26\" x=\"742\" y=\"86.4639\">a: A</text><line style=\"stroke:#181818;stroke-width:0.5;\" x1=\"724.5\" x2=\"793.5\" y1=\"94.7656\" y2=\"94.7656\"/></g></a><!--MD5=[ebbe1d658d1005bcc118a6aa81145e00]\n",
       "class E4--><a href=\"psysml:9fc68d1c-0eda-4ba7-8d2a-4dac99044350\" target=\"_top\" title=\"psysml:9fc68d1c-0eda-4ba7-8d2a-4dac99044350\" xlink:actuate=\"onRequest\" xlink:href=\"psysml:9fc68d1c-0eda-4ba7-8d2a-4dac99044350\" xlink:show=\"new\" xlink:title=\"psysml:9fc68d1c-0eda-4ba7-8d2a-4dac99044350\" xlink:type=\"simple\"><g id=\"elem_E4\"><rect fill=\"#FFFFFF\" height=\"48.2656\" id=\"E4\" style=\"stroke:#181818;stroke-width:0.5;\" width=\"112\" x=\"576\" y=\"54.5\"/><text fill=\"#000000\" font-family=\"sans-serif\" font-size=\"12\" font-style=\"italic\" lengthAdjust=\"spacing\" textLength=\"110\" x=\"577\" y=\"70.6387\">«calculation  def»</text><text fill=\"#000000\" font-family=\"sans-serif\" font-size=\"14\" lengthAdjust=\"spacing\" textLength=\"8\" x=\"628\" y=\"86.4639\">F</text><line style=\"stroke:#181818;stroke-width:0.5;\" x1=\"577\" x2=\"687\" y1=\"94.7656\" y2=\"94.7656\"/></g></a><!--MD5=[270fce915f116d4de14055a7c1d9a0f3]\n",
       "class E5--><a href=\"psysml:201caa5e-7003-43c9-93c7-31c1dd2687e1\" target=\"_top\" title=\"psysml:201caa5e-7003-43c9-93c7-31c1dd2687e1\" xlink:actuate=\"onRequest\" xlink:href=\"psysml:201caa5e-7003-43c9-93c7-31c1dd2687e1\" xlink:show=\"new\" xlink:title=\"psysml:201caa5e-7003-43c9-93c7-31c1dd2687e1\" xlink:type=\"simple\"><g id=\"elem_E5\"><rect fill=\"#FFFFFF\" height=\"75.0813\" id=\"E5\" rx=\"10\" ry=\"10\" style=\"stroke:#181818;stroke-width:0.5;\" width=\"71\" x=\"469.5\" y=\"41\"/><text fill=\"#000000\" font-family=\"sans-serif\" font-size=\"12\" font-style=\"italic\" lengthAdjust=\"spacing\" textLength=\"69\" x=\"470.5\" y=\"57.1387\">«attribute»</text><text fill=\"#000000\" font-family=\"sans-serif\" font-size=\"14\" lengthAdjust=\"spacing\" textLength=\"4\" x=\"499\" y=\"72.9639\">f</text><line style=\"stroke:#181818;stroke-width:0.5;\" x1=\"470.5\" x2=\"539.5\" y1=\"81.2656\" y2=\"81.2656\"/><text fill=\"#000000\" font-family=\"sans-serif\" font-size=\"14\" lengthAdjust=\"spacing\" textLength=\"59\" x=\"475.5\" y=\"108.7795\">= F(a, 2)</text><text fill=\"#000000\" font-family=\"sans-serif\" font-size=\"14\" font-style=\"italic\" lengthAdjust=\"spacing\" textLength=\"44\" x=\"483\" y=\"93.6123\">values</text></g></a><!--MD5=[60a26617385b1d2d0262a64233df1f8d]\n",
       "class E6--><a href=\"psysml:ef9d06c8-83aa-4b51-a725-4880c3e71513\" target=\"_top\" title=\"psysml:ef9d06c8-83aa-4b51-a725-4880c3e71513\" xlink:actuate=\"onRequest\" xlink:href=\"psysml:ef9d06c8-83aa-4b51-a725-4880c3e71513\" xlink:show=\"new\" xlink:title=\"psysml:ef9d06c8-83aa-4b51-a725-4880c3e71513\" xlink:type=\"simple\"><g id=\"elem_E6\"><rect fill=\"#FFFFFF\" height=\"75.0813\" id=\"E6\" rx=\"10\" ry=\"10\" style=\"stroke:#181818;stroke-width:0.5;\" width=\"129\" x=\"305.5\" y=\"41\"/><text fill=\"#000000\" font-family=\"sans-serif\" font-size=\"12\" font-style=\"italic\" lengthAdjust=\"spacing\" textLength=\"69\" x=\"335.5\" y=\"57.1387\">«attribute»</text><text fill=\"#000000\" font-family=\"sans-serif\" font-size=\"14\" lengthAdjust=\"spacing\" textLength=\"9\" x=\"361.5\" y=\"72.9639\">g</text><line style=\"stroke:#181818;stroke-width:0.5;\" x1=\"306.5\" x2=\"433.5\" y1=\"81.2656\" y2=\"81.2656\"/><text fill=\"#000000\" font-family=\"sans-serif\" font-size=\"14\" lengthAdjust=\"spacing\" textLength=\"117\" x=\"311.5\" y=\"108.7795\">= F(q = 1, p = a)</text><text fill=\"#000000\" font-family=\"sans-serif\" font-size=\"14\" font-style=\"italic\" lengthAdjust=\"spacing\" textLength=\"44\" x=\"348\" y=\"93.6123\">values</text></g></a><!--MD5=[2156ba9850f5573cc1fc38a6a4b2f02b]\n",
       "class E7--><a href=\"psysml:472a68ff-87fb-48cb-b812-c0679e72bd97\" target=\"_top\" title=\"psysml:472a68ff-87fb-48cb-b812-c0679e72bd97\" xlink:actuate=\"onRequest\" xlink:href=\"psysml:472a68ff-87fb-48cb-b812-c0679e72bd97\" xlink:show=\"new\" xlink:title=\"psysml:472a68ff-87fb-48cb-b812-c0679e72bd97\" xlink:type=\"simple\"><g id=\"elem_E7\"><rect fill=\"#FFFFFF\" height=\"75.0813\" id=\"E7\" rx=\"10\" ry=\"10\" style=\"stroke:#181818;stroke-width:0.5;\" width=\"111\" x=\"159.5\" y=\"41\"/><text fill=\"#000000\" font-family=\"sans-serif\" font-size=\"12\" font-style=\"italic\" lengthAdjust=\"spacing\" textLength=\"69\" x=\"180.5\" y=\"57.1387\">«attribute»</text><text fill=\"#000000\" font-family=\"sans-serif\" font-size=\"14\" lengthAdjust=\"spacing\" textLength=\"9\" x=\"206.5\" y=\"72.9639\">b</text><line style=\"stroke:#181818;stroke-width:0.5;\" x1=\"160.5\" x2=\"269.5\" y1=\"81.2656\" y2=\"81.2656\"/><text fill=\"#000000\" font-family=\"sans-serif\" font-size=\"14\" lengthAdjust=\"spacing\" textLength=\"99\" x=\"165.5\" y=\"108.7795\">= A(y=a, x=\"\")</text><text fill=\"#000000\" font-family=\"sans-serif\" font-size=\"14\" font-style=\"italic\" lengthAdjust=\"spacing\" textLength=\"44\" x=\"193\" y=\"93.6123\">values</text></g></a><!--MD5=[b9389687b975829384b498ac4b7476b2]\n",
       "class E8--><a href=\"psysml:b12c6daa-efd4-472f-91f1-7e0209b6a2bc\" target=\"_top\" title=\"psysml:b12c6daa-efd4-472f-91f1-7e0209b6a2bc\" xlink:actuate=\"onRequest\" xlink:href=\"psysml:b12c6daa-efd4-472f-91f1-7e0209b6a2bc\" xlink:show=\"new\" xlink:title=\"psysml:b12c6daa-efd4-472f-91f1-7e0209b6a2bc\" xlink:type=\"simple\"><g id=\"elem_E8\"><rect fill=\"#FFFFFF\" height=\"75.0813\" id=\"E8\" rx=\"10\" ry=\"10\" style=\"stroke:#181818;stroke-width:0.5;\" width=\"93\" x=\"31.5\" y=\"41\"/><text fill=\"#000000\" font-family=\"sans-serif\" font-size=\"12\" font-style=\"italic\" lengthAdjust=\"spacing\" textLength=\"69\" x=\"43.5\" y=\"57.1387\">«attribute»</text><text fill=\"#000000\" font-family=\"sans-serif\" font-size=\"14\" lengthAdjust=\"spacing\" textLength=\"8\" x=\"70\" y=\"72.9639\">c</text><line style=\"stroke:#181818;stroke-width:0.5;\" x1=\"32.5\" x2=\"123.5\" y1=\"81.2656\" y2=\"81.2656\"/><text fill=\"#000000\" font-family=\"sans-serif\" font-size=\"14\" lengthAdjust=\"spacing\" textLength=\"81\" x=\"37.5\" y=\"108.7795\">= A(\"test2\")</text><text fill=\"#000000\" font-family=\"sans-serif\" font-size=\"14\" font-style=\"italic\" lengthAdjust=\"spacing\" textLength=\"44\" x=\"56\" y=\"93.6123\">values</text></g></a><!--MD5=[05d275557350bfb9b23a4ef7222b4c39]\n",
       "link E3 to E2--><g id=\"link_E3_E2\"><a href=\"psysml:de703d0e-2ba0-4603-81fc-fcf4f6dc7e4d\" target=\"_top\" title=\"psysml:de703d0e-2ba0-4603-81fc-fcf4f6dc7e4d\" xlink:actuate=\"onRequest\" xlink:href=\"psysml:de703d0e-2ba0-4603-81fc-fcf4f6dc7e4d\" xlink:show=\"new\" xlink:title=\"psysml:de703d0e-2ba0-4603-81fc-fcf4f6dc7e4d\" xlink:type=\"simple\"><path d=\"M745.57,102.81 C734.58,121.9 718.5,149.81 703.83,175.29 \" fill=\"none\" id=\"E3-to-E2\" style=\"stroke:#181818;stroke-width:1.0;\"/><polygon fill=\"#FFFFFF\" points=\"693.74,192.81,697.1615,172.8527,709.2915,179.8428,693.74,192.81\" style=\"stroke:#181818;stroke-width:1.0;\"/><ellipse cx=\"701.7403\" cy=\"168.9126\" fill=\"#181818\" rx=\"2\" ry=\"2\" style=\"stroke:#181818;stroke-width:1.0;\"/><ellipse cx=\"710.4046\" cy=\"173.9055\" fill=\"#181818\" rx=\"2\" ry=\"2\" style=\"stroke:#181818;stroke-width:1.0;\"/></a></g><!--MD5=[ddeed8deb2209213b62e6cfabaa108b2]\n",
       "reverse link E4 to E2--><g id=\"link_E4_E2\"><a href=\"psysml:c0525d75-8c24-4ff5-9432-36973c13d292\" target=\"_top\" title=\"psysml:c0525d75-8c24-4ff5-9432-36973c13d292\" xlink:actuate=\"onRequest\" xlink:href=\"psysml:c0525d75-8c24-4ff5-9432-36973c13d292\" xlink:show=\"new\" xlink:title=\"psysml:c0525d75-8c24-4ff5-9432-36973c13d292\" xlink:type=\"simple\"><path d=\"M640.26,115.75 C645.48,138.66 652.27,168.44 657.82,192.81 \" fill=\"none\" id=\"E4-backto-E2\" style=\"stroke:#181818;stroke-width:1.0;\"/><polygon fill=\"none\" points=\"637.31,102.81,634.7405,109.5478,639.9717,114.5111,642.5412,107.7733,637.31,102.81\" style=\"stroke:#181818;stroke-width:1.0;\"/><text fill=\"#000000\" font-family=\"sans-serif\" font-size=\"13\" lengthAdjust=\"spacing\" textLength=\"8\" x=\"651\" y=\"159.0669\">p</text></a></g><!--MD5=[4c310aaca9052ffac10167ee8860e100]\n",
       "@startuml\r\n",
       "skin sysmlbw\r\n",
       "skinparam monochrome true\r\n",
       "skinparam wrapWidth 300\r\n",
       "hide circle\r\n",
       " \r\n",
       "package \"ParameterTest\" as E1  [[psysml:23a083da-d633-42aa-b737-bc534de6ad98 ]]  {\r\n",
       "comp def \"A\" as E2  <<(T,blue) attribute  def>> [[psysml:04ef3948-8524-44aa-a324-078bab0d23fb ]] {\r\n",
       "##//attributes//##\r\n",
       "x: String\r\n",
       "y: A\r\n",
       "}\r\n",
       "comp usage \"a: A  \" as E3  <<(T,blue) attribute>> [[psysml:30f6a8e4-9ac7-4724-976d-d9f1147f3701 ]] {\r\n",
       "}\r\n",
       "comp def \"F\" as E4  <<(T,blue) calculation  def>> [[psysml:9fc68d1c-0eda-4ba7-8d2a-4dac99044350 ]] {\r\n",
       "}\r\n",
       "comp usage \"f  \" as E5  <<(T,blue) attribute>> [[psysml:201caa5e-7003-43c9-93c7-31c1dd2687e1 ]] {\r\n",
       "##//values//##\r\n",
       " <U+003D> F(a, 2)\r\n",
       "}\r\n",
       "comp usage \"g  \" as E6  <<(T,blue) attribute>> [[psysml:ef9d06c8-83aa-4b51-a725-4880c3e71513 ]] {\r\n",
       "##//values//##\r\n",
       " <U+003D> F(q <U+003D> 1, p <U+003D> a)\r\n",
       "}\r\n",
       "comp usage \"b  \" as E7  <<(T,blue) attribute>> [[psysml:472a68ff-87fb-48cb-b812-c0679e72bd97 ]] {\r\n",
       "##//values//##\r\n",
       " <U+003D> A(y<U+003D>a, x<U+003D>\"\")\r\n",
       "}\r\n",
       "comp usage \"c  \" as E8  <<(T,blue) attribute>> [[psysml:b12c6daa-efd4-472f-91f1-7e0209b6a2bc ]] {\r\n",
       "##//values//##\r\n",
       " <U+003D> A(\"test2\")\r\n",
       "}\r\n",
       "}\r\n",
       "E3 - -:|> E2 [[psysml:de703d0e-2ba0-4603-81fc-fcf4f6dc7e4d ]] \r\n",
       "E4 o- - E2 [[psysml:c0525d75-8c24-4ff5-9432-36973c13d292 ]] : p\r\n",
       "@enduml\r\n",
       "\n",
       "PlantUML version 1.2022.7(Mon Aug 22 17:01:30 UTC 2022)\n",
       "(EPL source distribution)\n",
       "Java Runtime: OpenJDK Runtime Environment\n",
       "JVM: OpenJDK 64-Bit Server VM\n",
       "Default Encoding: UTF-8\n",
       "Language: en\n",
       "Country: null\n",
       "--></g></svg>"
      ]
     },
     "execution_count": 3,
     "metadata": {},
     "output_type": "execute_result"
    }
   ],
   "source": [
    "%viz --style=\"COMPTREE\" --view=\"Tree\" \"ParameterTest\""
   ]
  },
  {
   "cell_type": "code",
   "execution_count": 4,
   "id": "86c1ce17",
   "metadata": {
    "execution": {
     "iopub.execute_input": "2024-12-16T03:23:33.362684Z",
     "iopub.status.busy": "2024-12-16T03:23:33.362496Z",
     "iopub.status.idle": "2024-12-16T03:23:33.373278Z",
     "shell.execute_reply": "2024-12-16T03:23:33.373410Z"
    }
   },
   "outputs": [
    {
     "data": {
      "image/svg+xml": [
       "<?xml version=\"1.0\" encoding=\"UTF-8\" standalone=\"no\"?><svg xmlns=\"http://www.w3.org/2000/svg\" xmlns:xlink=\"http://www.w3.org/1999/xlink\" contentStyleType=\"text/css\" height=\"10px\" preserveAspectRatio=\"none\" style=\"width:10px;height:10px;background:#FFFFFF;\" version=\"1.1\" viewBox=\"0 0 10 10\" width=\"10px\" zoomAndPan=\"magnify\"><defs/><g><!--MD5=[ee07d3037018df61283447c7fdb4a44f]\n",
       "@startuml\r\n",
       "skin sysmlbw\r\n",
       "skinparam monochrome true\r\n",
       "skinparam wrapWidth 300\r\n",
       "hide circle\r\n",
       " \r\n",
       "@enduml\r\n",
       "\n",
       "PlantUML version 1.2022.7(Mon Aug 22 17:01:30 UTC 2022)\n",
       "(EPL source distribution)\n",
       "Java Runtime: OpenJDK Runtime Environment\n",
       "JVM: OpenJDK 64-Bit Server VM\n",
       "Default Encoding: UTF-8\n",
       "Language: en\n",
       "Country: null\n",
       "--></g></svg>"
      ]
     },
     "execution_count": 4,
     "metadata": {},
     "output_type": "execute_result"
    }
   ],
   "source": [
    "%viz --style=\"COMPTREE\" --view=\"State\" \"ParameterTest\""
   ]
  },
  {
   "cell_type": "code",
   "execution_count": 5,
   "id": "8b9efdfb",
   "metadata": {
    "execution": {
     "iopub.execute_input": "2024-12-16T03:23:33.426928Z",
     "iopub.status.busy": "2024-12-16T03:23:33.426490Z",
     "iopub.status.idle": "2024-12-16T03:23:33.468819Z",
     "shell.execute_reply": "2024-12-16T03:23:33.468952Z"
    }
   },
   "outputs": [
    {
     "data": {
      "image/svg+xml": [
       "<?xml version=\"1.0\" encoding=\"UTF-8\" standalone=\"no\"?><svg xmlns=\"http://www.w3.org/2000/svg\" xmlns:xlink=\"http://www.w3.org/1999/xlink\" contentStyleType=\"text/css\" height=\"241px\" preserveAspectRatio=\"none\" style=\"width:858px;height:241px;background:#FFFFFF;\" version=\"1.1\" viewBox=\"0 0 858 241\" width=\"858px\" zoomAndPan=\"magnify\"><defs/><g><!--MD5=[fbc87193dbaf4d95561dea2c320d4a47]\n",
       "cluster E1--><g id=\"cluster_E1\"><a href=\"psysml:23a083da-d633-42aa-b737-bc534de6ad98\" target=\"_top\" title=\"psysml:23a083da-d633-42aa-b737-bc534de6ad98\" xlink:actuate=\"onRequest\" xlink:href=\"psysml:23a083da-d633-42aa-b737-bc534de6ad98\" xlink:show=\"new\" xlink:title=\"psysml:23a083da-d633-42aa-b737-bc534de6ad98\" xlink:type=\"simple\"><polygon fill=\"none\" points=\"16,6,129.6875,6,136.6875,28.2969,841,28.2969,841,234.72,16,234.72,16,6\" style=\"stroke:#000000;stroke-width:1.5;\"/><line style=\"stroke:#000000;stroke-width:1.5;\" x1=\"16\" x2=\"136.6875\" y1=\"28.2969\" y2=\"28.2969\"/><text fill=\"#000000\" font-family=\"sans-serif\" font-size=\"14\" font-weight=\"bold\" lengthAdjust=\"spacing\" textLength=\"107.6875\" x=\"20\" y=\"20.9951\">ParameterTest</text></a></g><!--MD5=[f6df4d0ebaf0b5dfb2ced0ae5af7c670]\n",
       "cluster E4--><g id=\"cluster_E4\"><a href=\"psysml:9fc68d1c-0eda-4ba7-8d2a-4dac99044350\" target=\"_top\" title=\"psysml:9fc68d1c-0eda-4ba7-8d2a-4dac99044350\" xlink:actuate=\"onRequest\" xlink:href=\"psysml:9fc68d1c-0eda-4ba7-8d2a-4dac99044350\" xlink:show=\"new\" xlink:title=\"psysml:9fc68d1c-0eda-4ba7-8d2a-4dac99044350\" xlink:type=\"simple\"><rect fill=\"#FFFFFF\" height=\"126.22\" id=\"E4\" style=\"stroke:#383838;stroke-width:1.5;\" width=\"150\" x=\"675\" y=\"78.5\"/><text fill=\"#000000\" font-family=\"sans-serif\" font-size=\"12\" font-style=\"italic\" lengthAdjust=\"spacing\" textLength=\"110\" x=\"695\" y=\"94.6387\">«calculation  def»</text><text fill=\"#000000\" font-family=\"sans-serif\" font-size=\"14\" lengthAdjust=\"spacing\" textLength=\"8\" x=\"746\" y=\"110.4639\">F</text><line style=\"stroke:#383838;stroke-width:1.0;\" x1=\"675\" x2=\"825\" y1=\"118.7656\" y2=\"118.7656\"/></a></g><g><a href=\"psysml:04ef3948-8524-44aa-a324-078bab0d23fb\" target=\"_top\" title=\"psysml:04ef3948-8524-44aa-a324-078bab0d23fb\" xlink:actuate=\"onRequest\" xlink:href=\"psysml:04ef3948-8524-44aa-a324-078bab0d23fb\" xlink:show=\"new\" xlink:title=\"psysml:04ef3948-8524-44aa-a324-078bab0d23fb\" xlink:type=\"simple\"><rect fill=\"#FFFFFF\" height=\"45.2656\" id=\"E2\" style=\"stroke:#383838;stroke-width:1.5;\" width=\"104\" x=\"532\" y=\"127\"/><text fill=\"#000000\" font-family=\"sans-serif\" font-size=\"12\" font-style=\"italic\" lengthAdjust=\"spacing\" textLength=\"97\" x=\"535.5\" y=\"143.1387\">«attribute  def»</text><text fill=\"#000000\" font-family=\"sans-serif\" font-size=\"14\" lengthAdjust=\"spacing\" textLength=\"9\" x=\"579.5\" y=\"158.9639\">A</text></a></g><!--MD5=[09b614a08d8cba4a07c9adeb5e0fee81]\n",
       "class E3--><a href=\"psysml:30f6a8e4-9ac7-4724-976d-d9f1147f3701\" target=\"_top\" title=\"psysml:30f6a8e4-9ac7-4724-976d-d9f1147f3701\" xlink:actuate=\"onRequest\" xlink:href=\"psysml:30f6a8e4-9ac7-4724-976d-d9f1147f3701\" xlink:show=\"new\" xlink:title=\"psysml:30f6a8e4-9ac7-4724-976d-d9f1147f3701\" xlink:type=\"simple\"><g id=\"elem_E3\"><rect fill=\"#FFFFFF\" height=\"48.2656\" id=\"E3\" rx=\"10\" ry=\"10\" style=\"stroke:#181818;stroke-width:0.5;\" width=\"71\" x=\"575.5\" y=\"54.5\"/><text fill=\"#000000\" font-family=\"sans-serif\" font-size=\"12\" font-style=\"italic\" lengthAdjust=\"spacing\" textLength=\"69\" x=\"576.5\" y=\"70.6387\">«attribute»</text><text fill=\"#000000\" font-family=\"sans-serif\" font-size=\"14\" lengthAdjust=\"spacing\" textLength=\"26\" x=\"594\" y=\"86.4639\">a: A</text><line style=\"stroke:#181818;stroke-width:0.5;\" x1=\"576.5\" x2=\"645.5\" y1=\"94.7656\" y2=\"94.7656\"/></g></a><!--MD5=[b9389687b975829384b498ac4b7476b2]\n",
       "class E8--><a href=\"psysml:201caa5e-7003-43c9-93c7-31c1dd2687e1\" target=\"_top\" title=\"psysml:201caa5e-7003-43c9-93c7-31c1dd2687e1\" xlink:actuate=\"onRequest\" xlink:href=\"psysml:201caa5e-7003-43c9-93c7-31c1dd2687e1\" xlink:show=\"new\" xlink:title=\"psysml:201caa5e-7003-43c9-93c7-31c1dd2687e1\" xlink:type=\"simple\"><g id=\"elem_E8\"><rect fill=\"#FFFFFF\" height=\"75.0813\" id=\"E8\" rx=\"10\" ry=\"10\" style=\"stroke:#181818;stroke-width:0.5;\" width=\"71\" x=\"469.5\" y=\"41\"/><text fill=\"#000000\" font-family=\"sans-serif\" font-size=\"12\" font-style=\"italic\" lengthAdjust=\"spacing\" textLength=\"69\" x=\"470.5\" y=\"57.1387\">«attribute»</text><text fill=\"#000000\" font-family=\"sans-serif\" font-size=\"14\" lengthAdjust=\"spacing\" textLength=\"4\" x=\"499\" y=\"72.9639\">f</text><line style=\"stroke:#181818;stroke-width:0.5;\" x1=\"470.5\" x2=\"539.5\" y1=\"81.2656\" y2=\"81.2656\"/><text fill=\"#000000\" font-family=\"sans-serif\" font-size=\"14\" lengthAdjust=\"spacing\" textLength=\"59\" x=\"475.5\" y=\"108.7795\">= F(a, 2)</text><text fill=\"#000000\" font-family=\"sans-serif\" font-size=\"14\" font-style=\"italic\" lengthAdjust=\"spacing\" textLength=\"44\" x=\"483\" y=\"93.6123\">values</text></g></a><!--MD5=[fd4143e9d270a159db93a4ea2a975926]\n",
       "class E9--><a href=\"psysml:ef9d06c8-83aa-4b51-a725-4880c3e71513\" target=\"_top\" title=\"psysml:ef9d06c8-83aa-4b51-a725-4880c3e71513\" xlink:actuate=\"onRequest\" xlink:href=\"psysml:ef9d06c8-83aa-4b51-a725-4880c3e71513\" xlink:show=\"new\" xlink:title=\"psysml:ef9d06c8-83aa-4b51-a725-4880c3e71513\" xlink:type=\"simple\"><g id=\"elem_E9\"><rect fill=\"#FFFFFF\" height=\"75.0813\" id=\"E9\" rx=\"10\" ry=\"10\" style=\"stroke:#181818;stroke-width:0.5;\" width=\"129\" x=\"305.5\" y=\"41\"/><text fill=\"#000000\" font-family=\"sans-serif\" font-size=\"12\" font-style=\"italic\" lengthAdjust=\"spacing\" textLength=\"69\" x=\"335.5\" y=\"57.1387\">«attribute»</text><text fill=\"#000000\" font-family=\"sans-serif\" font-size=\"14\" lengthAdjust=\"spacing\" textLength=\"9\" x=\"361.5\" y=\"72.9639\">g</text><line style=\"stroke:#181818;stroke-width:0.5;\" x1=\"306.5\" x2=\"433.5\" y1=\"81.2656\" y2=\"81.2656\"/><text fill=\"#000000\" font-family=\"sans-serif\" font-size=\"14\" lengthAdjust=\"spacing\" textLength=\"117\" x=\"311.5\" y=\"108.7795\">= F(q = 1, p = a)</text><text fill=\"#000000\" font-family=\"sans-serif\" font-size=\"14\" font-style=\"italic\" lengthAdjust=\"spacing\" textLength=\"44\" x=\"348\" y=\"93.6123\">values</text></g></a><!--MD5=[96f4274e9e20536e775497830990834d]\n",
       "class E10--><a href=\"psysml:472a68ff-87fb-48cb-b812-c0679e72bd97\" target=\"_top\" title=\"psysml:472a68ff-87fb-48cb-b812-c0679e72bd97\" xlink:actuate=\"onRequest\" xlink:href=\"psysml:472a68ff-87fb-48cb-b812-c0679e72bd97\" xlink:show=\"new\" xlink:title=\"psysml:472a68ff-87fb-48cb-b812-c0679e72bd97\" xlink:type=\"simple\"><g id=\"elem_E10\"><rect fill=\"#FFFFFF\" height=\"75.0813\" id=\"E10\" rx=\"10\" ry=\"10\" style=\"stroke:#181818;stroke-width:0.5;\" width=\"111\" x=\"159.5\" y=\"41\"/><text fill=\"#000000\" font-family=\"sans-serif\" font-size=\"12\" font-style=\"italic\" lengthAdjust=\"spacing\" textLength=\"69\" x=\"180.5\" y=\"57.1387\">«attribute»</text><text fill=\"#000000\" font-family=\"sans-serif\" font-size=\"14\" lengthAdjust=\"spacing\" textLength=\"9\" x=\"206.5\" y=\"72.9639\">b</text><line style=\"stroke:#181818;stroke-width:0.5;\" x1=\"160.5\" x2=\"269.5\" y1=\"81.2656\" y2=\"81.2656\"/><text fill=\"#000000\" font-family=\"sans-serif\" font-size=\"14\" lengthAdjust=\"spacing\" textLength=\"99\" x=\"165.5\" y=\"108.7795\">= A(y=a, x=\"\")</text><text fill=\"#000000\" font-family=\"sans-serif\" font-size=\"14\" font-style=\"italic\" lengthAdjust=\"spacing\" textLength=\"44\" x=\"193\" y=\"93.6123\">values</text></g></a><!--MD5=[1dd1bfd58a279cf63c5f349dbc8fc6a1]\n",
       "class E11--><a href=\"psysml:b12c6daa-efd4-472f-91f1-7e0209b6a2bc\" target=\"_top\" title=\"psysml:b12c6daa-efd4-472f-91f1-7e0209b6a2bc\" xlink:actuate=\"onRequest\" xlink:href=\"psysml:b12c6daa-efd4-472f-91f1-7e0209b6a2bc\" xlink:show=\"new\" xlink:title=\"psysml:b12c6daa-efd4-472f-91f1-7e0209b6a2bc\" xlink:type=\"simple\"><g id=\"elem_E11\"><rect fill=\"#FFFFFF\" height=\"75.0813\" id=\"E11\" rx=\"10\" ry=\"10\" style=\"stroke:#181818;stroke-width:0.5;\" width=\"93\" x=\"31.5\" y=\"41\"/><text fill=\"#000000\" font-family=\"sans-serif\" font-size=\"12\" font-style=\"italic\" lengthAdjust=\"spacing\" textLength=\"69\" x=\"43.5\" y=\"57.1387\">«attribute»</text><text fill=\"#000000\" font-family=\"sans-serif\" font-size=\"14\" lengthAdjust=\"spacing\" textLength=\"8\" x=\"70\" y=\"72.9639\">c</text><line style=\"stroke:#181818;stroke-width:0.5;\" x1=\"32.5\" x2=\"123.5\" y1=\"81.2656\" y2=\"81.2656\"/><text fill=\"#000000\" font-family=\"sans-serif\" font-size=\"14\" lengthAdjust=\"spacing\" textLength=\"81\" x=\"37.5\" y=\"108.7795\">= A(\"test2\")</text><text fill=\"#000000\" font-family=\"sans-serif\" font-size=\"14\" font-style=\"italic\" lengthAdjust=\"spacing\" textLength=\"44\" x=\"56\" y=\"93.6123\">values</text></g></a><text fill=\"#000000\" font-family=\"sans-serif\" font-size=\"14\" lengthAdjust=\"spacing\" textLength=\"9\" x=\"688.5\" y=\"57.1982\">p</text><rect fill=\"#FFFFFF\" height=\"12\" style=\"stroke:#181818;stroke-width:1.5;\" width=\"12\" x=\"687\" y=\"72.5\"/><text fill=\"#000000\" font-family=\"sans-serif\" font-size=\"14\" lengthAdjust=\"spacing\" textLength=\"9\" x=\"735.5\" y=\"57.1982\">q</text><rect fill=\"#FFFFFF\" height=\"12\" style=\"stroke:#181818;stroke-width:1.5;\" width=\"12\" x=\"734\" y=\"72.5\"/><text fill=\"#000000\" font-family=\"sans-serif\" font-size=\"14\" lengthAdjust=\"spacing\" textLength=\"39\" x=\"720.5\" y=\"223.7151\">result</text><rect fill=\"#FFFFFF\" height=\"12\" style=\"stroke:#181818;stroke-width:1.5;\" width=\"12\" x=\"734\" y=\"198.72\"/><!--MD5=[05d275557350bfb9b23a4ef7222b4c39]\n",
       "link E3 to E2--><g id=\"link_E3_E2\"><a href=\"psysml:de703d0e-2ba0-4603-81fc-fcf4f6dc7e4d\" target=\"_top\" title=\"psysml:de703d0e-2ba0-4603-81fc-fcf4f6dc7e4d\" xlink:actuate=\"onRequest\" xlink:href=\"psysml:de703d0e-2ba0-4603-81fc-fcf4f6dc7e4d\" xlink:show=\"new\" xlink:title=\"psysml:de703d0e-2ba0-4603-81fc-fcf4f6dc7e4d\" xlink:type=\"simple\"><path d=\"M601.86,102.86 C601.25,104.42 600.63,106.01 600,107.62 \" fill=\"none\" id=\"E3-to-E2\" style=\"stroke:#181818;stroke-width:1.0;\"/><polygon fill=\"#FFFFFF\" points=\"592.58,126.56,592.9814,106.3155,606.0197,111.4149,592.58,126.56\" style=\"stroke:#181818;stroke-width:1.0;\"/><ellipse cx=\"596.9201\" cy=\"101.7356\" fill=\"#181818\" rx=\"2\" ry=\"2\" style=\"stroke:#181818;stroke-width:1.0;\"/><ellipse cx=\"606.2332\" cy=\"105.3779\" fill=\"#181818\" rx=\"2\" ry=\"2\" style=\"stroke:#181818;stroke-width:1.0;\"/></a></g><!--MD5=[b7940ea99a784c0effe2661ee613a685]\n",
       "@startuml\r\n",
       "skin sysmlbw\r\n",
       "skinparam monochrome true\r\n",
       "skinparam wrapWidth 300\r\n",
       "hide circle\r\n",
       " skinparam ranksep 10\r\n",
       "skinparam rectangle {\r\n",
       " backgroundColor<<block>> LightGreen\r\n",
       "}\r\n",
       "\r\n",
       "package \"ParameterTest\" as E1  [[psysml:23a083da-d633-42aa-b737-bc534de6ad98 ]]  {\r\n",
       "def \"A\" as E2  <<(T,blue) attribute  def>> [[psysml:04ef3948-8524-44aa-a324-078bab0d23fb ]] \r\n",
       "comp usage \"a: A  \" as E3  <<(T,blue) attribute>> [[psysml:30f6a8e4-9ac7-4724-976d-d9f1147f3701 ]] {\r\n",
       "}\r\n",
       "rec def \"F\" as E4  <<(T,blue) calculation  def>> [[psysml:9fc68d1c-0eda-4ba7-8d2a-4dac99044350 ]] {\r\n",
       "portin \"p\" as E5  [[psysml:c0525d75-8c24-4ff5-9432-36973c13d292 ]] \r\n",
       "portin \"q\" as E6  [[psysml:ea5aeb99-c612-42a4-b65a-a51f249da328 ]] \r\n",
       "portout \"result\" as E7  [[psysml:ef9cf0a8-f443-48d9-b6fd-29ed95d8a001 ]] \r\n",
       "}\r\n",
       "\r\n",
       "comp usage \"f  \" as E8  <<(T,blue) attribute>> [[psysml:201caa5e-7003-43c9-93c7-31c1dd2687e1 ]] {\r\n",
       "##//values//##\r\n",
       " <U+003D> F(a, 2)\r\n",
       "}\r\n",
       "comp usage \"g  \" as E9  <<(T,blue) attribute>> [[psysml:ef9d06c8-83aa-4b51-a725-4880c3e71513 ]] {\r\n",
       "##//values//##\r\n",
       " <U+003D> F(q <U+003D> 1, p <U+003D> a)\r\n",
       "}\r\n",
       "comp usage \"b  \" as E10  <<(T,blue) attribute>> [[psysml:472a68ff-87fb-48cb-b812-c0679e72bd97 ]] {\r\n",
       "##//values//##\r\n",
       " <U+003D> A(y<U+003D>a, x<U+003D>\"\")\r\n",
       "}\r\n",
       "comp usage \"c  \" as E11  <<(T,blue) attribute>> [[psysml:b12c6daa-efd4-472f-91f1-7e0209b6a2bc ]] {\r\n",
       "##//values//##\r\n",
       " <U+003D> A(\"test2\")\r\n",
       "}\r\n",
       "}\r\n",
       "E3 - -:|> E2 [[psysml:de703d0e-2ba0-4603-81fc-fcf4f6dc7e4d ]] \r\n",
       "@enduml\r\n",
       "\n",
       "PlantUML version 1.2022.7(Mon Aug 22 17:01:30 UTC 2022)\n",
       "(EPL source distribution)\n",
       "Java Runtime: OpenJDK Runtime Environment\n",
       "JVM: OpenJDK 64-Bit Server VM\n",
       "Default Encoding: UTF-8\n",
       "Language: en\n",
       "Country: null\n",
       "--></g></svg>"
      ]
     },
     "execution_count": 5,
     "metadata": {},
     "output_type": "execute_result"
    }
   ],
   "source": [
    "%viz --style=\"COMPTREE\" --view=\"Interconnection\" \"ParameterTest\""
   ]
  },
  {
   "cell_type": "code",
   "execution_count": 6,
   "id": "9ee285ab",
   "metadata": {
    "execution": {
     "iopub.execute_input": "2024-12-16T03:23:33.526372Z",
     "iopub.status.busy": "2024-12-16T03:23:33.526142Z",
     "iopub.status.idle": "2024-12-16T03:23:33.550987Z",
     "shell.execute_reply": "2024-12-16T03:23:33.550815Z"
    }
   },
   "outputs": [
    {
     "data": {
      "image/svg+xml": [
       "<?xml version=\"1.0\" encoding=\"UTF-8\" standalone=\"no\"?><svg xmlns=\"http://www.w3.org/2000/svg\" xmlns:xlink=\"http://www.w3.org/1999/xlink\" contentStyleType=\"text/css\" height=\"157px\" preserveAspectRatio=\"none\" style=\"width:164px;height:157px;background:#FFFFFF;\" version=\"1.1\" viewBox=\"0 0 164 157\" width=\"164px\" zoomAndPan=\"magnify\"><defs/><g><!--MD5=[fbc87193dbaf4d95561dea2c320d4a47]\n",
       "cluster E1--><g id=\"cluster_E1\"><a href=\"psysml:9fc68d1c-0eda-4ba7-8d2a-4dac99044350\" target=\"_top\" title=\"psysml:9fc68d1c-0eda-4ba7-8d2a-4dac99044350\" xlink:actuate=\"onRequest\" xlink:href=\"psysml:9fc68d1c-0eda-4ba7-8d2a-4dac99044350\" xlink:show=\"new\" xlink:title=\"psysml:9fc68d1c-0eda-4ba7-8d2a-4dac99044350\" xlink:type=\"simple\"><rect fill=\"#FFFFFF\" height=\"87.72\" id=\"E1\" style=\"stroke:#383838;stroke-width:1.5;\" width=\"150\" x=\"7\" y=\"42.0986\"/><text fill=\"#000000\" font-family=\"sans-serif\" font-size=\"12\" font-style=\"italic\" lengthAdjust=\"spacing\" textLength=\"110\" x=\"27\" y=\"58.2373\">«calculation  def»</text><text fill=\"#000000\" font-family=\"sans-serif\" font-size=\"14\" lengthAdjust=\"spacing\" textLength=\"8\" x=\"78\" y=\"74.0625\">F</text><line style=\"stroke:#383838;stroke-width:1.0;\" x1=\"7\" x2=\"157\" y1=\"82.3643\" y2=\"82.3643\"/></a></g><text fill=\"#000000\" font-family=\"sans-serif\" font-size=\"14\" lengthAdjust=\"spacing\" textLength=\"9\" x=\"20.5\" y=\"20.7969\">p</text><rect fill=\"#FFFFFF\" height=\"12\" style=\"stroke:#181818;stroke-width:1.5;\" width=\"12\" x=\"19\" y=\"36.0986\"/><text fill=\"#000000\" font-family=\"sans-serif\" font-size=\"14\" lengthAdjust=\"spacing\" textLength=\"9\" x=\"67.5\" y=\"20.7969\">q</text><rect fill=\"#FFFFFF\" height=\"12\" style=\"stroke:#181818;stroke-width:1.5;\" width=\"12\" x=\"66\" y=\"36.0986\"/><text fill=\"#000000\" font-family=\"sans-serif\" font-size=\"14\" lengthAdjust=\"spacing\" textLength=\"39\" x=\"52.5\" y=\"148.8138\">result</text><rect fill=\"#FFFFFF\" height=\"12\" style=\"stroke:#181818;stroke-width:1.5;\" width=\"12\" x=\"66\" y=\"123.8186\"/><!--MD5=[121193ff6804c2812f9c9d60c179d05b]\n",
       "@startuml\r\n",
       "skin sysmlbw\r\n",
       "skinparam monochrome true\r\n",
       "skinparam wrapWidth 300\r\n",
       "hide circle\r\n",
       " skinparam ranksep 8\r\n",
       "\r\n",
       "rec def \"F\" as E1  <<(T,blue) calculation  def>> [[psysml:9fc68d1c-0eda-4ba7-8d2a-4dac99044350 ]] {\r\n",
       "portin \"p\" as E2  [[psysml:c0525d75-8c24-4ff5-9432-36973c13d292 ]] \r\n",
       "portin \"q\" as E3  [[psysml:ea5aeb99-c612-42a4-b65a-a51f249da328 ]] \r\n",
       "portout \"result\" as E4  [[psysml:ef9cf0a8-f443-48d9-b6fd-29ed95d8a001 ]] \r\n",
       "}\r\n",
       "\r\n",
       "@enduml\r\n",
       "\n",
       "PlantUML version 1.2022.7(Mon Aug 22 17:01:30 UTC 2022)\n",
       "(EPL source distribution)\n",
       "Java Runtime: OpenJDK Runtime Environment\n",
       "JVM: OpenJDK 64-Bit Server VM\n",
       "Default Encoding: UTF-8\n",
       "Language: en\n",
       "Country: null\n",
       "--></g></svg>"
      ]
     },
     "execution_count": 6,
     "metadata": {},
     "output_type": "execute_result"
    }
   ],
   "source": [
    "%viz --style=\"COMPTREE\" --view=\"Action\" \"ParameterTest\""
   ]
  },
  {
   "cell_type": "code",
   "execution_count": 7,
   "id": "ebead130",
   "metadata": {
    "execution": {
     "iopub.execute_input": "2024-12-16T03:23:33.602787Z",
     "iopub.status.busy": "2024-12-16T03:23:33.602563Z",
     "iopub.status.idle": "2024-12-16T03:23:33.618912Z",
     "shell.execute_reply": "2024-12-16T03:23:33.618733Z"
    }
   },
   "outputs": [
    {
     "data": {
      "image/svg+xml": [
       "<?xml version=\"1.0\" encoding=\"UTF-8\" standalone=\"no\"?><svg xmlns=\"http://www.w3.org/2000/svg\" xmlns:xlink=\"http://www.w3.org/1999/xlink\" contentStyleType=\"text/css\" height=\"10px\" preserveAspectRatio=\"none\" style=\"width:10px;height:10px;background:#FFFFFF;\" version=\"1.1\" viewBox=\"0 0 10 10\" width=\"10px\" zoomAndPan=\"magnify\"><defs/><g><!--MD5=[f5e9abf0a6c8dccaf40d0172f495ca0b]\n",
       "@startuml\r\n",
       "skin sysmlbw\r\n",
       "skinparam monochrome true\r\n",
       "skinparam wrapWidth 300\r\n",
       "hide circle\r\n",
       " skinparam roundcorner 20\r\n",
       "skinparam BoxPadding 20\r\n",
       "skinparam SequenceBoxBackgroundColor #white\r\n",
       "skinparam style strictuml\r\n",
       "skinparam maxMessageSize 100\r\n",
       "\r\n",
       "@enduml\r\n",
       "\n",
       "PlantUML version 1.2022.7(Mon Aug 22 17:01:30 UTC 2022)\n",
       "(EPL source distribution)\n",
       "Java Runtime: OpenJDK Runtime Environment\n",
       "JVM: OpenJDK 64-Bit Server VM\n",
       "Default Encoding: UTF-8\n",
       "Language: en\n",
       "Country: null\n",
       "--></g></svg>"
      ]
     },
     "execution_count": 7,
     "metadata": {},
     "output_type": "execute_result"
    }
   ],
   "source": [
    "%viz --style=\"COMPTREE\" --view=\"Sequence\" \"ParameterTest\""
   ]
  },
  {
   "cell_type": "code",
   "execution_count": 8,
   "id": "e0ef305a",
   "metadata": {
    "execution": {
     "iopub.execute_input": "2024-12-16T03:23:33.675150Z",
     "iopub.status.busy": "2024-12-16T03:23:33.674884Z",
     "iopub.status.idle": "2024-12-16T03:23:33.719259Z",
     "shell.execute_reply": "2024-12-16T03:23:33.718461Z"
    }
   },
   "outputs": [
    {
     "data": {
      "image/svg+xml": [
       "<?xml version=\"1.0\" encoding=\"UTF-8\" standalone=\"no\"?><svg xmlns=\"http://www.w3.org/2000/svg\" xmlns:xlink=\"http://www.w3.org/1999/xlink\" contentStyleType=\"text/css\" height=\"430px\" preserveAspectRatio=\"none\" style=\"width:858px;height:430px;background:#FFFFFF;\" version=\"1.1\" viewBox=\"0 0 858 430\" width=\"858px\" zoomAndPan=\"magnify\"><defs/><g><!--MD5=[fbc87193dbaf4d95561dea2c320d4a47]\n",
       "cluster E1--><g id=\"cluster_E1\"><a href=\"psysml:23a083da-d633-42aa-b737-bc534de6ad98\" target=\"_top\" title=\"psysml:23a083da-d633-42aa-b737-bc534de6ad98\" xlink:actuate=\"onRequest\" xlink:href=\"psysml:23a083da-d633-42aa-b737-bc534de6ad98\" xlink:show=\"new\" xlink:title=\"psysml:23a083da-d633-42aa-b737-bc534de6ad98\" xlink:type=\"simple\"><polygon fill=\"none\" points=\"16,6,129.6875,6,136.6875,28.2969,841,28.2969,841,423.72,16,423.72,16,6\" style=\"stroke:#000000;stroke-width:1.5;\"/><line style=\"stroke:#000000;stroke-width:1.5;\" x1=\"16\" x2=\"136.6875\" y1=\"28.2969\" y2=\"28.2969\"/><text fill=\"#000000\" font-family=\"sans-serif\" font-size=\"14\" font-weight=\"bold\" lengthAdjust=\"spacing\" textLength=\"107.6875\" x=\"20\" y=\"20.9951\">ParameterTest</text></a></g><!--MD5=[f6df4d0ebaf0b5dfb2ced0ae5af7c670]\n",
       "cluster E4--><g id=\"cluster_E4\"><a href=\"psysml:9fc68d1c-0eda-4ba7-8d2a-4dac99044350\" target=\"_top\" title=\"psysml:9fc68d1c-0eda-4ba7-8d2a-4dac99044350\" xlink:actuate=\"onRequest\" xlink:href=\"psysml:9fc68d1c-0eda-4ba7-8d2a-4dac99044350\" xlink:show=\"new\" xlink:title=\"psysml:9fc68d1c-0eda-4ba7-8d2a-4dac99044350\" xlink:type=\"simple\"><rect fill=\"#FFFFFF\" height=\"315.22\" id=\"E4\" style=\"stroke:#383838;stroke-width:1.5;\" width=\"150\" x=\"675\" y=\"78.5\"/><text fill=\"#000000\" font-family=\"sans-serif\" font-size=\"12\" font-style=\"italic\" lengthAdjust=\"spacing\" textLength=\"110\" x=\"695\" y=\"94.6387\">«calculation  def»</text><text fill=\"#000000\" font-family=\"sans-serif\" font-size=\"14\" lengthAdjust=\"spacing\" textLength=\"8\" x=\"746\" y=\"110.4639\">F</text><line style=\"stroke:#383838;stroke-width:1.0;\" x1=\"675\" x2=\"825\" y1=\"118.7656\" y2=\"118.7656\"/></a></g><!--MD5=[b4997ac47864f28c2f74865a473b2911]\n",
       "class E2--><a href=\"psysml:04ef3948-8524-44aa-a324-078bab0d23fb\" target=\"_top\" title=\"psysml:04ef3948-8524-44aa-a324-078bab0d23fb\" xlink:actuate=\"onRequest\" xlink:href=\"psysml:04ef3948-8524-44aa-a324-078bab0d23fb\" xlink:show=\"new\" xlink:title=\"psysml:04ef3948-8524-44aa-a324-078bab0d23fb\" xlink:type=\"simple\"><g id=\"elem_E2\"><rect fill=\"#FFFFFF\" height=\"91.3781\" id=\"E2\" style=\"stroke:#181818;stroke-width:0.5;\" width=\"99\" x=\"537.5\" y=\"176\"/><text fill=\"#000000\" font-family=\"sans-serif\" font-size=\"12\" font-style=\"italic\" lengthAdjust=\"spacing\" textLength=\"97\" x=\"538.5\" y=\"192.1387\">«attribute  def»</text><text fill=\"#000000\" font-family=\"sans-serif\" font-size=\"14\" lengthAdjust=\"spacing\" textLength=\"9\" x=\"582.5\" y=\"207.9639\">A</text><line style=\"stroke:#181818;stroke-width:0.5;\" x1=\"538.5\" x2=\"635.5\" y1=\"216.2656\" y2=\"216.2656\"/><text fill=\"#000000\" font-family=\"sans-serif\" font-size=\"14\" lengthAdjust=\"spacing\" textLength=\"56\" x=\"543.5\" y=\"243.7795\">x: String</text><text fill=\"#000000\" font-family=\"sans-serif\" font-size=\"14\" lengthAdjust=\"spacing\" textLength=\"25\" x=\"543.5\" y=\"260.0764\">y: A</text><text fill=\"#000000\" font-family=\"sans-serif\" font-size=\"14\" font-style=\"italic\" lengthAdjust=\"spacing\" textLength=\"66\" x=\"554\" y=\"228.6123\">attributes</text></g></a><!--MD5=[09b614a08d8cba4a07c9adeb5e0fee81]\n",
       "class E3--><a href=\"psysml:30f6a8e4-9ac7-4724-976d-d9f1147f3701\" target=\"_top\" title=\"psysml:30f6a8e4-9ac7-4724-976d-d9f1147f3701\" xlink:actuate=\"onRequest\" xlink:href=\"psysml:30f6a8e4-9ac7-4724-976d-d9f1147f3701\" xlink:show=\"new\" xlink:title=\"psysml:30f6a8e4-9ac7-4724-976d-d9f1147f3701\" xlink:type=\"simple\"><g id=\"elem_E3\"><rect fill=\"#FFFFFF\" height=\"48.2656\" id=\"E3\" rx=\"10\" ry=\"10\" style=\"stroke:#181818;stroke-width:0.5;\" width=\"71\" x=\"575.5\" y=\"54.5\"/><text fill=\"#000000\" font-family=\"sans-serif\" font-size=\"12\" font-style=\"italic\" lengthAdjust=\"spacing\" textLength=\"69\" x=\"576.5\" y=\"70.6387\">«attribute»</text><text fill=\"#000000\" font-family=\"sans-serif\" font-size=\"14\" lengthAdjust=\"spacing\" textLength=\"26\" x=\"594\" y=\"86.4639\">a: A</text><line style=\"stroke:#181818;stroke-width:0.5;\" x1=\"576.5\" x2=\"645.5\" y1=\"94.7656\" y2=\"94.7656\"/></g></a><!--MD5=[b9389687b975829384b498ac4b7476b2]\n",
       "class E8--><a href=\"psysml:201caa5e-7003-43c9-93c7-31c1dd2687e1\" target=\"_top\" title=\"psysml:201caa5e-7003-43c9-93c7-31c1dd2687e1\" xlink:actuate=\"onRequest\" xlink:href=\"psysml:201caa5e-7003-43c9-93c7-31c1dd2687e1\" xlink:show=\"new\" xlink:title=\"psysml:201caa5e-7003-43c9-93c7-31c1dd2687e1\" xlink:type=\"simple\"><g id=\"elem_E8\"><rect fill=\"#FFFFFF\" height=\"75.0813\" id=\"E8\" rx=\"10\" ry=\"10\" style=\"stroke:#181818;stroke-width:0.5;\" width=\"71\" x=\"469.5\" y=\"41\"/><text fill=\"#000000\" font-family=\"sans-serif\" font-size=\"12\" font-style=\"italic\" lengthAdjust=\"spacing\" textLength=\"69\" x=\"470.5\" y=\"57.1387\">«attribute»</text><text fill=\"#000000\" font-family=\"sans-serif\" font-size=\"14\" lengthAdjust=\"spacing\" textLength=\"4\" x=\"499\" y=\"72.9639\">f</text><line style=\"stroke:#181818;stroke-width:0.5;\" x1=\"470.5\" x2=\"539.5\" y1=\"81.2656\" y2=\"81.2656\"/><text fill=\"#000000\" font-family=\"sans-serif\" font-size=\"14\" lengthAdjust=\"spacing\" textLength=\"59\" x=\"475.5\" y=\"108.7795\">= F(a, 2)</text><text fill=\"#000000\" font-family=\"sans-serif\" font-size=\"14\" font-style=\"italic\" lengthAdjust=\"spacing\" textLength=\"44\" x=\"483\" y=\"93.6123\">values</text></g></a><!--MD5=[fd4143e9d270a159db93a4ea2a975926]\n",
       "class E9--><a href=\"psysml:ef9d06c8-83aa-4b51-a725-4880c3e71513\" target=\"_top\" title=\"psysml:ef9d06c8-83aa-4b51-a725-4880c3e71513\" xlink:actuate=\"onRequest\" xlink:href=\"psysml:ef9d06c8-83aa-4b51-a725-4880c3e71513\" xlink:show=\"new\" xlink:title=\"psysml:ef9d06c8-83aa-4b51-a725-4880c3e71513\" xlink:type=\"simple\"><g id=\"elem_E9\"><rect fill=\"#FFFFFF\" height=\"75.0813\" id=\"E9\" rx=\"10\" ry=\"10\" style=\"stroke:#181818;stroke-width:0.5;\" width=\"129\" x=\"305.5\" y=\"41\"/><text fill=\"#000000\" font-family=\"sans-serif\" font-size=\"12\" font-style=\"italic\" lengthAdjust=\"spacing\" textLength=\"69\" x=\"335.5\" y=\"57.1387\">«attribute»</text><text fill=\"#000000\" font-family=\"sans-serif\" font-size=\"14\" lengthAdjust=\"spacing\" textLength=\"9\" x=\"361.5\" y=\"72.9639\">g</text><line style=\"stroke:#181818;stroke-width:0.5;\" x1=\"306.5\" x2=\"433.5\" y1=\"81.2656\" y2=\"81.2656\"/><text fill=\"#000000\" font-family=\"sans-serif\" font-size=\"14\" lengthAdjust=\"spacing\" textLength=\"117\" x=\"311.5\" y=\"108.7795\">= F(q = 1, p = a)</text><text fill=\"#000000\" font-family=\"sans-serif\" font-size=\"14\" font-style=\"italic\" lengthAdjust=\"spacing\" textLength=\"44\" x=\"348\" y=\"93.6123\">values</text></g></a><!--MD5=[96f4274e9e20536e775497830990834d]\n",
       "class E10--><a href=\"psysml:472a68ff-87fb-48cb-b812-c0679e72bd97\" target=\"_top\" title=\"psysml:472a68ff-87fb-48cb-b812-c0679e72bd97\" xlink:actuate=\"onRequest\" xlink:href=\"psysml:472a68ff-87fb-48cb-b812-c0679e72bd97\" xlink:show=\"new\" xlink:title=\"psysml:472a68ff-87fb-48cb-b812-c0679e72bd97\" xlink:type=\"simple\"><g id=\"elem_E10\"><rect fill=\"#FFFFFF\" height=\"75.0813\" id=\"E10\" rx=\"10\" ry=\"10\" style=\"stroke:#181818;stroke-width:0.5;\" width=\"111\" x=\"159.5\" y=\"41\"/><text fill=\"#000000\" font-family=\"sans-serif\" font-size=\"12\" font-style=\"italic\" lengthAdjust=\"spacing\" textLength=\"69\" x=\"180.5\" y=\"57.1387\">«attribute»</text><text fill=\"#000000\" font-family=\"sans-serif\" font-size=\"14\" lengthAdjust=\"spacing\" textLength=\"9\" x=\"206.5\" y=\"72.9639\">b</text><line style=\"stroke:#181818;stroke-width:0.5;\" x1=\"160.5\" x2=\"269.5\" y1=\"81.2656\" y2=\"81.2656\"/><text fill=\"#000000\" font-family=\"sans-serif\" font-size=\"14\" lengthAdjust=\"spacing\" textLength=\"99\" x=\"165.5\" y=\"108.7795\">= A(y=a, x=\"\")</text><text fill=\"#000000\" font-family=\"sans-serif\" font-size=\"14\" font-style=\"italic\" lengthAdjust=\"spacing\" textLength=\"44\" x=\"193\" y=\"93.6123\">values</text></g></a><!--MD5=[1dd1bfd58a279cf63c5f349dbc8fc6a1]\n",
       "class E11--><a href=\"psysml:b12c6daa-efd4-472f-91f1-7e0209b6a2bc\" target=\"_top\" title=\"psysml:b12c6daa-efd4-472f-91f1-7e0209b6a2bc\" xlink:actuate=\"onRequest\" xlink:href=\"psysml:b12c6daa-efd4-472f-91f1-7e0209b6a2bc\" xlink:show=\"new\" xlink:title=\"psysml:b12c6daa-efd4-472f-91f1-7e0209b6a2bc\" xlink:type=\"simple\"><g id=\"elem_E11\"><rect fill=\"#FFFFFF\" height=\"75.0813\" id=\"E11\" rx=\"10\" ry=\"10\" style=\"stroke:#181818;stroke-width:0.5;\" width=\"93\" x=\"31.5\" y=\"41\"/><text fill=\"#000000\" font-family=\"sans-serif\" font-size=\"12\" font-style=\"italic\" lengthAdjust=\"spacing\" textLength=\"69\" x=\"43.5\" y=\"57.1387\">«attribute»</text><text fill=\"#000000\" font-family=\"sans-serif\" font-size=\"14\" lengthAdjust=\"spacing\" textLength=\"8\" x=\"70\" y=\"72.9639\">c</text><line style=\"stroke:#181818;stroke-width:0.5;\" x1=\"32.5\" x2=\"123.5\" y1=\"81.2656\" y2=\"81.2656\"/><text fill=\"#000000\" font-family=\"sans-serif\" font-size=\"14\" lengthAdjust=\"spacing\" textLength=\"81\" x=\"37.5\" y=\"108.7795\">= A(\"test2\")</text><text fill=\"#000000\" font-family=\"sans-serif\" font-size=\"14\" font-style=\"italic\" lengthAdjust=\"spacing\" textLength=\"44\" x=\"56\" y=\"93.6123\">values</text></g></a><text fill=\"#000000\" font-family=\"sans-serif\" font-size=\"14\" lengthAdjust=\"spacing\" textLength=\"9\" x=\"688.5\" y=\"57.1982\">p</text><rect fill=\"#FFFFFF\" height=\"12\" style=\"stroke:#181818;stroke-width:1.5;\" width=\"12\" x=\"687\" y=\"72.5\"/><text fill=\"#000000\" font-family=\"sans-serif\" font-size=\"14\" lengthAdjust=\"spacing\" textLength=\"9\" x=\"735.5\" y=\"57.1982\">q</text><rect fill=\"#FFFFFF\" height=\"12\" style=\"stroke:#181818;stroke-width:1.5;\" width=\"12\" x=\"734\" y=\"72.5\"/><text fill=\"#000000\" font-family=\"sans-serif\" font-size=\"14\" lengthAdjust=\"spacing\" textLength=\"39\" x=\"720.5\" y=\"412.7151\">result</text><rect fill=\"#FFFFFF\" height=\"12\" style=\"stroke:#181818;stroke-width:1.5;\" width=\"12\" x=\"734\" y=\"387.72\"/><!--MD5=[05d275557350bfb9b23a4ef7222b4c39]\n",
       "link E3 to E2--><g id=\"link_E3_E2\"><a href=\"psysml:de703d0e-2ba0-4603-81fc-fcf4f6dc7e4d\" target=\"_top\" title=\"psysml:de703d0e-2ba0-4603-81fc-fcf4f6dc7e4d\" xlink:actuate=\"onRequest\" xlink:href=\"psysml:de703d0e-2ba0-4603-81fc-fcf4f6dc7e4d\" xlink:show=\"new\" xlink:title=\"psysml:de703d0e-2ba0-4603-81fc-fcf4f6dc7e4d\" xlink:type=\"simple\"><path d=\"M607.04,102.78 C604.55,117.39 601.21,137.01 597.97,156.04 \" fill=\"none\" id=\"E3-to-E2\" style=\"stroke:#181818;stroke-width:1.0;\"/><polygon fill=\"#FFFFFF\" points=\"594.61,175.8,590.8965,155.895,604.6981,158.2435,594.61,175.8\" style=\"stroke:#181818;stroke-width:1.0;\"/><ellipse cx=\"593.8244\" cy=\"150.6113\" fill=\"#181818\" rx=\"2\" ry=\"2\" style=\"stroke:#181818;stroke-width:1.0;\"/><ellipse cx=\"603.6827\" cy=\"152.2888\" fill=\"#181818\" rx=\"2\" ry=\"2\" style=\"stroke:#181818;stroke-width:1.0;\"/></a></g><!--MD5=[d5ca42253103d88b8404f22aa9210be9]\n",
       "@startuml\r\n",
       "skin sysmlbw\r\n",
       "skinparam monochrome true\r\n",
       "skinparam wrapWidth 300\r\n",
       "hide circle\r\n",
       " \r\n",
       "package \"ParameterTest\" as E1  [[psysml:23a083da-d633-42aa-b737-bc534de6ad98 ]]  {\r\n",
       "comp def \"A\" as E2  <<(T,blue) attribute  def>> [[psysml:04ef3948-8524-44aa-a324-078bab0d23fb ]] {\r\n",
       "##//attributes//##\r\n",
       "x: String\r\n",
       "y: A\r\n",
       "}\r\n",
       "comp usage \"a: A  \" as E3  <<(T,blue) attribute>> [[psysml:30f6a8e4-9ac7-4724-976d-d9f1147f3701 ]] {\r\n",
       "}\r\n",
       "rec def \"F\" as E4  <<(T,blue) calculation  def>> [[psysml:9fc68d1c-0eda-4ba7-8d2a-4dac99044350 ]] {\r\n",
       "portin \"p\" as E5  [[psysml:c0525d75-8c24-4ff5-9432-36973c13d292 ]] \r\n",
       "portin \"q\" as E6  [[psysml:ea5aeb99-c612-42a4-b65a-a51f249da328 ]] \r\n",
       "portout \"result\" as E7  [[psysml:ef9cf0a8-f443-48d9-b6fd-29ed95d8a001 ]] \r\n",
       "}\r\n",
       "\r\n",
       "comp usage \"f  \" as E8  <<(T,blue) attribute>> [[psysml:201caa5e-7003-43c9-93c7-31c1dd2687e1 ]] {\r\n",
       "##//values//##\r\n",
       " <U+003D> F(a, 2)\r\n",
       "}\r\n",
       "comp usage \"g  \" as E9  <<(T,blue) attribute>> [[psysml:ef9d06c8-83aa-4b51-a725-4880c3e71513 ]] {\r\n",
       "##//values//##\r\n",
       " <U+003D> F(q <U+003D> 1, p <U+003D> a)\r\n",
       "}\r\n",
       "comp usage \"b  \" as E10  <<(T,blue) attribute>> [[psysml:472a68ff-87fb-48cb-b812-c0679e72bd97 ]] {\r\n",
       "##//values//##\r\n",
       " <U+003D> A(y<U+003D>a, x<U+003D>\"\")\r\n",
       "}\r\n",
       "comp usage \"c  \" as E11  <<(T,blue) attribute>> [[psysml:b12c6daa-efd4-472f-91f1-7e0209b6a2bc ]] {\r\n",
       "##//values//##\r\n",
       " <U+003D> A(\"test2\")\r\n",
       "}\r\n",
       "}\r\n",
       "E3 - -:|> E2 [[psysml:de703d0e-2ba0-4603-81fc-fcf4f6dc7e4d ]] \r\n",
       "@enduml\r\n",
       "\n",
       "PlantUML version 1.2022.7(Mon Aug 22 17:01:30 UTC 2022)\n",
       "(EPL source distribution)\n",
       "Java Runtime: OpenJDK Runtime Environment\n",
       "JVM: OpenJDK 64-Bit Server VM\n",
       "Default Encoding: UTF-8\n",
       "Language: en\n",
       "Country: null\n",
       "--></g></svg>"
      ]
     },
     "execution_count": 8,
     "metadata": {},
     "output_type": "execute_result"
    }
   ],
   "source": [
    "%viz --style=\"COMPTREE\" --view=\"MIXED\" \"ParameterTest\""
   ]
  },
  {
   "cell_type": "code",
   "execution_count": 9,
   "id": "1e097476",
   "metadata": {
    "execution": {
     "iopub.execute_input": "2024-12-16T03:23:33.772153Z",
     "iopub.status.busy": "2024-12-16T03:23:33.771911Z",
     "iopub.status.idle": "2024-12-16T03:23:33.808715Z",
     "shell.execute_reply": "2024-12-16T03:23:33.807882Z"
    }
   },
   "outputs": [
    {
     "data": {
      "image/svg+xml": [
       "<?xml version=\"1.0\" encoding=\"UTF-8\" standalone=\"no\"?><svg xmlns=\"http://www.w3.org/2000/svg\" xmlns:xlink=\"http://www.w3.org/1999/xlink\" contentStyleType=\"text/css\" height=\"430px\" preserveAspectRatio=\"none\" style=\"width:858px;height:430px;background:#FFFFFF;\" version=\"1.1\" viewBox=\"0 0 858 430\" width=\"858px\" zoomAndPan=\"magnify\"><defs/><g><!--MD5=[fbc87193dbaf4d95561dea2c320d4a47]\n",
       "cluster E1--><g id=\"cluster_E1\"><a href=\"psysml:23a083da-d633-42aa-b737-bc534de6ad98\" target=\"_top\" title=\"psysml:23a083da-d633-42aa-b737-bc534de6ad98\" xlink:actuate=\"onRequest\" xlink:href=\"psysml:23a083da-d633-42aa-b737-bc534de6ad98\" xlink:show=\"new\" xlink:title=\"psysml:23a083da-d633-42aa-b737-bc534de6ad98\" xlink:type=\"simple\"><polygon fill=\"none\" points=\"16,6,129.6875,6,136.6875,28.2969,841,28.2969,841,423.72,16,423.72,16,6\" style=\"stroke:#000000;stroke-width:1.5;\"/><line style=\"stroke:#000000;stroke-width:1.5;\" x1=\"16\" x2=\"136.6875\" y1=\"28.2969\" y2=\"28.2969\"/><text fill=\"#000000\" font-family=\"sans-serif\" font-size=\"14\" font-weight=\"bold\" lengthAdjust=\"spacing\" textLength=\"107.6875\" x=\"20\" y=\"20.9951\">ParameterTest</text></a></g><!--MD5=[f6df4d0ebaf0b5dfb2ced0ae5af7c670]\n",
       "cluster E4--><g id=\"cluster_E4\"><a href=\"psysml:9fc68d1c-0eda-4ba7-8d2a-4dac99044350\" target=\"_top\" title=\"psysml:9fc68d1c-0eda-4ba7-8d2a-4dac99044350\" xlink:actuate=\"onRequest\" xlink:href=\"psysml:9fc68d1c-0eda-4ba7-8d2a-4dac99044350\" xlink:show=\"new\" xlink:title=\"psysml:9fc68d1c-0eda-4ba7-8d2a-4dac99044350\" xlink:type=\"simple\"><rect fill=\"#FFFFFF\" height=\"315.22\" id=\"E4\" style=\"stroke:#383838;stroke-width:1.5;\" width=\"150\" x=\"675\" y=\"78.5\"/><text fill=\"#000000\" font-family=\"sans-serif\" font-size=\"12\" font-style=\"italic\" lengthAdjust=\"spacing\" textLength=\"110\" x=\"695\" y=\"94.6387\">«calculation  def»</text><text fill=\"#000000\" font-family=\"sans-serif\" font-size=\"14\" lengthAdjust=\"spacing\" textLength=\"8\" x=\"746\" y=\"110.4639\">F</text><line style=\"stroke:#383838;stroke-width:1.0;\" x1=\"675\" x2=\"825\" y1=\"118.7656\" y2=\"118.7656\"/></a></g><!--MD5=[b4997ac47864f28c2f74865a473b2911]\n",
       "class E2--><a href=\"psysml:04ef3948-8524-44aa-a324-078bab0d23fb\" target=\"_top\" title=\"psysml:04ef3948-8524-44aa-a324-078bab0d23fb\" xlink:actuate=\"onRequest\" xlink:href=\"psysml:04ef3948-8524-44aa-a324-078bab0d23fb\" xlink:show=\"new\" xlink:title=\"psysml:04ef3948-8524-44aa-a324-078bab0d23fb\" xlink:type=\"simple\"><g id=\"elem_E2\"><rect fill=\"#FFFFFF\" height=\"91.3781\" id=\"E2\" style=\"stroke:#181818;stroke-width:0.5;\" width=\"99\" x=\"537.5\" y=\"176\"/><text fill=\"#000000\" font-family=\"sans-serif\" font-size=\"12\" font-style=\"italic\" lengthAdjust=\"spacing\" textLength=\"97\" x=\"538.5\" y=\"192.1387\">«attribute  def»</text><text fill=\"#000000\" font-family=\"sans-serif\" font-size=\"14\" lengthAdjust=\"spacing\" textLength=\"9\" x=\"582.5\" y=\"207.9639\">A</text><line style=\"stroke:#181818;stroke-width:0.5;\" x1=\"538.5\" x2=\"635.5\" y1=\"216.2656\" y2=\"216.2656\"/><text fill=\"#000000\" font-family=\"sans-serif\" font-size=\"14\" lengthAdjust=\"spacing\" textLength=\"56\" x=\"543.5\" y=\"243.7795\">x: String</text><text fill=\"#000000\" font-family=\"sans-serif\" font-size=\"14\" lengthAdjust=\"spacing\" textLength=\"25\" x=\"543.5\" y=\"260.0764\">y: A</text><text fill=\"#000000\" font-family=\"sans-serif\" font-size=\"14\" font-style=\"italic\" lengthAdjust=\"spacing\" textLength=\"66\" x=\"554\" y=\"228.6123\">attributes</text></g></a><!--MD5=[09b614a08d8cba4a07c9adeb5e0fee81]\n",
       "class E3--><a href=\"psysml:30f6a8e4-9ac7-4724-976d-d9f1147f3701\" target=\"_top\" title=\"psysml:30f6a8e4-9ac7-4724-976d-d9f1147f3701\" xlink:actuate=\"onRequest\" xlink:href=\"psysml:30f6a8e4-9ac7-4724-976d-d9f1147f3701\" xlink:show=\"new\" xlink:title=\"psysml:30f6a8e4-9ac7-4724-976d-d9f1147f3701\" xlink:type=\"simple\"><g id=\"elem_E3\"><rect fill=\"#FFFFFF\" height=\"48.2656\" id=\"E3\" rx=\"10\" ry=\"10\" style=\"stroke:#181818;stroke-width:0.5;\" width=\"71\" x=\"575.5\" y=\"54.5\"/><text fill=\"#000000\" font-family=\"sans-serif\" font-size=\"12\" font-style=\"italic\" lengthAdjust=\"spacing\" textLength=\"69\" x=\"576.5\" y=\"70.6387\">«attribute»</text><text fill=\"#000000\" font-family=\"sans-serif\" font-size=\"14\" lengthAdjust=\"spacing\" textLength=\"26\" x=\"594\" y=\"86.4639\">a: A</text><line style=\"stroke:#181818;stroke-width:0.5;\" x1=\"576.5\" x2=\"645.5\" y1=\"94.7656\" y2=\"94.7656\"/></g></a><!--MD5=[b9389687b975829384b498ac4b7476b2]\n",
       "class E8--><a href=\"psysml:201caa5e-7003-43c9-93c7-31c1dd2687e1\" target=\"_top\" title=\"psysml:201caa5e-7003-43c9-93c7-31c1dd2687e1\" xlink:actuate=\"onRequest\" xlink:href=\"psysml:201caa5e-7003-43c9-93c7-31c1dd2687e1\" xlink:show=\"new\" xlink:title=\"psysml:201caa5e-7003-43c9-93c7-31c1dd2687e1\" xlink:type=\"simple\"><g id=\"elem_E8\"><rect fill=\"#FFFFFF\" height=\"75.0813\" id=\"E8\" rx=\"10\" ry=\"10\" style=\"stroke:#181818;stroke-width:0.5;\" width=\"71\" x=\"469.5\" y=\"41\"/><text fill=\"#000000\" font-family=\"sans-serif\" font-size=\"12\" font-style=\"italic\" lengthAdjust=\"spacing\" textLength=\"69\" x=\"470.5\" y=\"57.1387\">«attribute»</text><text fill=\"#000000\" font-family=\"sans-serif\" font-size=\"14\" lengthAdjust=\"spacing\" textLength=\"4\" x=\"499\" y=\"72.9639\">f</text><line style=\"stroke:#181818;stroke-width:0.5;\" x1=\"470.5\" x2=\"539.5\" y1=\"81.2656\" y2=\"81.2656\"/><text fill=\"#000000\" font-family=\"sans-serif\" font-size=\"14\" lengthAdjust=\"spacing\" textLength=\"59\" x=\"475.5\" y=\"108.7795\">= F(a, 2)</text><text fill=\"#000000\" font-family=\"sans-serif\" font-size=\"14\" font-style=\"italic\" lengthAdjust=\"spacing\" textLength=\"44\" x=\"483\" y=\"93.6123\">values</text></g></a><!--MD5=[fd4143e9d270a159db93a4ea2a975926]\n",
       "class E9--><a href=\"psysml:ef9d06c8-83aa-4b51-a725-4880c3e71513\" target=\"_top\" title=\"psysml:ef9d06c8-83aa-4b51-a725-4880c3e71513\" xlink:actuate=\"onRequest\" xlink:href=\"psysml:ef9d06c8-83aa-4b51-a725-4880c3e71513\" xlink:show=\"new\" xlink:title=\"psysml:ef9d06c8-83aa-4b51-a725-4880c3e71513\" xlink:type=\"simple\"><g id=\"elem_E9\"><rect fill=\"#FFFFFF\" height=\"75.0813\" id=\"E9\" rx=\"10\" ry=\"10\" style=\"stroke:#181818;stroke-width:0.5;\" width=\"129\" x=\"305.5\" y=\"41\"/><text fill=\"#000000\" font-family=\"sans-serif\" font-size=\"12\" font-style=\"italic\" lengthAdjust=\"spacing\" textLength=\"69\" x=\"335.5\" y=\"57.1387\">«attribute»</text><text fill=\"#000000\" font-family=\"sans-serif\" font-size=\"14\" lengthAdjust=\"spacing\" textLength=\"9\" x=\"361.5\" y=\"72.9639\">g</text><line style=\"stroke:#181818;stroke-width:0.5;\" x1=\"306.5\" x2=\"433.5\" y1=\"81.2656\" y2=\"81.2656\"/><text fill=\"#000000\" font-family=\"sans-serif\" font-size=\"14\" lengthAdjust=\"spacing\" textLength=\"117\" x=\"311.5\" y=\"108.7795\">= F(q = 1, p = a)</text><text fill=\"#000000\" font-family=\"sans-serif\" font-size=\"14\" font-style=\"italic\" lengthAdjust=\"spacing\" textLength=\"44\" x=\"348\" y=\"93.6123\">values</text></g></a><!--MD5=[96f4274e9e20536e775497830990834d]\n",
       "class E10--><a href=\"psysml:472a68ff-87fb-48cb-b812-c0679e72bd97\" target=\"_top\" title=\"psysml:472a68ff-87fb-48cb-b812-c0679e72bd97\" xlink:actuate=\"onRequest\" xlink:href=\"psysml:472a68ff-87fb-48cb-b812-c0679e72bd97\" xlink:show=\"new\" xlink:title=\"psysml:472a68ff-87fb-48cb-b812-c0679e72bd97\" xlink:type=\"simple\"><g id=\"elem_E10\"><rect fill=\"#FFFFFF\" height=\"75.0813\" id=\"E10\" rx=\"10\" ry=\"10\" style=\"stroke:#181818;stroke-width:0.5;\" width=\"111\" x=\"159.5\" y=\"41\"/><text fill=\"#000000\" font-family=\"sans-serif\" font-size=\"12\" font-style=\"italic\" lengthAdjust=\"spacing\" textLength=\"69\" x=\"180.5\" y=\"57.1387\">«attribute»</text><text fill=\"#000000\" font-family=\"sans-serif\" font-size=\"14\" lengthAdjust=\"spacing\" textLength=\"9\" x=\"206.5\" y=\"72.9639\">b</text><line style=\"stroke:#181818;stroke-width:0.5;\" x1=\"160.5\" x2=\"269.5\" y1=\"81.2656\" y2=\"81.2656\"/><text fill=\"#000000\" font-family=\"sans-serif\" font-size=\"14\" lengthAdjust=\"spacing\" textLength=\"99\" x=\"165.5\" y=\"108.7795\">= A(y=a, x=\"\")</text><text fill=\"#000000\" font-family=\"sans-serif\" font-size=\"14\" font-style=\"italic\" lengthAdjust=\"spacing\" textLength=\"44\" x=\"193\" y=\"93.6123\">values</text></g></a><!--MD5=[1dd1bfd58a279cf63c5f349dbc8fc6a1]\n",
       "class E11--><a href=\"psysml:b12c6daa-efd4-472f-91f1-7e0209b6a2bc\" target=\"_top\" title=\"psysml:b12c6daa-efd4-472f-91f1-7e0209b6a2bc\" xlink:actuate=\"onRequest\" xlink:href=\"psysml:b12c6daa-efd4-472f-91f1-7e0209b6a2bc\" xlink:show=\"new\" xlink:title=\"psysml:b12c6daa-efd4-472f-91f1-7e0209b6a2bc\" xlink:type=\"simple\"><g id=\"elem_E11\"><rect fill=\"#FFFFFF\" height=\"75.0813\" id=\"E11\" rx=\"10\" ry=\"10\" style=\"stroke:#181818;stroke-width:0.5;\" width=\"93\" x=\"31.5\" y=\"41\"/><text fill=\"#000000\" font-family=\"sans-serif\" font-size=\"12\" font-style=\"italic\" lengthAdjust=\"spacing\" textLength=\"69\" x=\"43.5\" y=\"57.1387\">«attribute»</text><text fill=\"#000000\" font-family=\"sans-serif\" font-size=\"14\" lengthAdjust=\"spacing\" textLength=\"8\" x=\"70\" y=\"72.9639\">c</text><line style=\"stroke:#181818;stroke-width:0.5;\" x1=\"32.5\" x2=\"123.5\" y1=\"81.2656\" y2=\"81.2656\"/><text fill=\"#000000\" font-family=\"sans-serif\" font-size=\"14\" lengthAdjust=\"spacing\" textLength=\"81\" x=\"37.5\" y=\"108.7795\">= A(\"test2\")</text><text fill=\"#000000\" font-family=\"sans-serif\" font-size=\"14\" font-style=\"italic\" lengthAdjust=\"spacing\" textLength=\"44\" x=\"56\" y=\"93.6123\">values</text></g></a><text fill=\"#000000\" font-family=\"sans-serif\" font-size=\"14\" lengthAdjust=\"spacing\" textLength=\"9\" x=\"688.5\" y=\"57.1982\">p</text><rect fill=\"#FFFFFF\" height=\"12\" style=\"stroke:#181818;stroke-width:1.5;\" width=\"12\" x=\"687\" y=\"72.5\"/><text fill=\"#000000\" font-family=\"sans-serif\" font-size=\"14\" lengthAdjust=\"spacing\" textLength=\"9\" x=\"735.5\" y=\"57.1982\">q</text><rect fill=\"#FFFFFF\" height=\"12\" style=\"stroke:#181818;stroke-width:1.5;\" width=\"12\" x=\"734\" y=\"72.5\"/><text fill=\"#000000\" font-family=\"sans-serif\" font-size=\"14\" lengthAdjust=\"spacing\" textLength=\"39\" x=\"720.5\" y=\"412.7151\">result</text><rect fill=\"#FFFFFF\" height=\"12\" style=\"stroke:#181818;stroke-width:1.5;\" width=\"12\" x=\"734\" y=\"387.72\"/><!--MD5=[05d275557350bfb9b23a4ef7222b4c39]\n",
       "link E3 to E2--><g id=\"link_E3_E2\"><a href=\"psysml:de703d0e-2ba0-4603-81fc-fcf4f6dc7e4d\" target=\"_top\" title=\"psysml:de703d0e-2ba0-4603-81fc-fcf4f6dc7e4d\" xlink:actuate=\"onRequest\" xlink:href=\"psysml:de703d0e-2ba0-4603-81fc-fcf4f6dc7e4d\" xlink:show=\"new\" xlink:title=\"psysml:de703d0e-2ba0-4603-81fc-fcf4f6dc7e4d\" xlink:type=\"simple\"><path d=\"M607.04,102.78 C604.55,117.39 601.21,137.01 597.97,156.04 \" fill=\"none\" id=\"E3-to-E2\" style=\"stroke:#181818;stroke-width:1.0;\"/><polygon fill=\"#FFFFFF\" points=\"594.61,175.8,590.8965,155.895,604.6981,158.2435,594.61,175.8\" style=\"stroke:#181818;stroke-width:1.0;\"/><ellipse cx=\"593.8244\" cy=\"150.6113\" fill=\"#181818\" rx=\"2\" ry=\"2\" style=\"stroke:#181818;stroke-width:1.0;\"/><ellipse cx=\"603.6827\" cy=\"152.2888\" fill=\"#181818\" rx=\"2\" ry=\"2\" style=\"stroke:#181818;stroke-width:1.0;\"/></a></g><!--MD5=[30b14138df863588fa6eb6817a06a6b8]\n",
       "@startuml\r\n",
       "skin sysmlbw\r\n",
       "skinparam monochrome true\r\n",
       "skinparam wrapWidth 300\r\n",
       "hide circle\r\n",
       "skinparam linetype polyline\r\n",
       "\r\n",
       "package \"ParameterTest\" as E1  [[psysml:23a083da-d633-42aa-b737-bc534de6ad98 ]]  {\r\n",
       "comp def \"A\" as E2  <<(T,blue) attribute  def>> [[psysml:04ef3948-8524-44aa-a324-078bab0d23fb ]] {\r\n",
       "##//attributes//##\r\n",
       "x: String\r\n",
       "y: A\r\n",
       "}\r\n",
       "comp usage \"a: A  \" as E3  <<(T,blue) attribute>> [[psysml:30f6a8e4-9ac7-4724-976d-d9f1147f3701 ]] {\r\n",
       "}\r\n",
       "rec def \"F\" as E4  <<(T,blue) calculation  def>> [[psysml:9fc68d1c-0eda-4ba7-8d2a-4dac99044350 ]] {\r\n",
       "portin \"p\" as E5  [[psysml:c0525d75-8c24-4ff5-9432-36973c13d292 ]] \r\n",
       "portin \"q\" as E6  [[psysml:ea5aeb99-c612-42a4-b65a-a51f249da328 ]] \r\n",
       "portout \"result\" as E7  [[psysml:ef9cf0a8-f443-48d9-b6fd-29ed95d8a001 ]] \r\n",
       "}\r\n",
       "\r\n",
       "comp usage \"f  \" as E8  <<(T,blue) attribute>> [[psysml:201caa5e-7003-43c9-93c7-31c1dd2687e1 ]] {\r\n",
       "##//values//##\r\n",
       " <U+003D> F(a, 2)\r\n",
       "}\r\n",
       "comp usage \"g  \" as E9  <<(T,blue) attribute>> [[psysml:ef9d06c8-83aa-4b51-a725-4880c3e71513 ]] {\r\n",
       "##//values//##\r\n",
       " <U+003D> F(q <U+003D> 1, p <U+003D> a)\r\n",
       "}\r\n",
       "comp usage \"b  \" as E10  <<(T,blue) attribute>> [[psysml:472a68ff-87fb-48cb-b812-c0679e72bd97 ]] {\r\n",
       "##//values//##\r\n",
       " <U+003D> A(y<U+003D>a, x<U+003D>\"\")\r\n",
       "}\r\n",
       "comp usage \"c  \" as E11  <<(T,blue) attribute>> [[psysml:b12c6daa-efd4-472f-91f1-7e0209b6a2bc ]] {\r\n",
       "##//values//##\r\n",
       " <U+003D> A(\"test2\")\r\n",
       "}\r\n",
       "}\r\n",
       "E3 - -:|> E2 [[psysml:de703d0e-2ba0-4603-81fc-fcf4f6dc7e4d ]] \r\n",
       "@enduml\r\n",
       "\n",
       "PlantUML version 1.2022.7(Mon Aug 22 17:01:30 UTC 2022)\n",
       "(EPL source distribution)\n",
       "Java Runtime: OpenJDK Runtime Environment\n",
       "JVM: OpenJDK 64-Bit Server VM\n",
       "Default Encoding: UTF-8\n",
       "Language: en\n",
       "Country: null\n",
       "--></g></svg>"
      ]
     },
     "execution_count": 9,
     "metadata": {},
     "output_type": "execute_result"
    }
   ],
   "source": [
    "%viz --style=\"POLYLINE\" --view=\"Default\" \"ParameterTest\""
   ]
  },
  {
   "cell_type": "code",
   "execution_count": 10,
   "id": "c3a1917f",
   "metadata": {
    "execution": {
     "iopub.execute_input": "2024-12-16T03:23:33.864717Z",
     "iopub.status.busy": "2024-12-16T03:23:33.864526Z",
     "iopub.status.idle": "2024-12-16T03:23:33.899095Z",
     "shell.execute_reply": "2024-12-16T03:23:33.899228Z"
    }
   },
   "outputs": [
    {
     "data": {
      "image/svg+xml": [
       "<?xml version=\"1.0\" encoding=\"UTF-8\" standalone=\"no\"?><svg xmlns=\"http://www.w3.org/2000/svg\" xmlns:xlink=\"http://www.w3.org/1999/xlink\" contentStyleType=\"text/css\" height=\"307px\" preserveAspectRatio=\"none\" style=\"width:828px;height:307px;background:#FFFFFF;\" version=\"1.1\" viewBox=\"0 0 828 307\" width=\"828px\" zoomAndPan=\"magnify\"><defs/><g><!--MD5=[fbc87193dbaf4d95561dea2c320d4a47]\n",
       "cluster E1--><g id=\"cluster_E1\"><a href=\"psysml:23a083da-d633-42aa-b737-bc534de6ad98\" target=\"_top\" title=\"psysml:23a083da-d633-42aa-b737-bc534de6ad98\" xlink:actuate=\"onRequest\" xlink:href=\"psysml:23a083da-d633-42aa-b737-bc534de6ad98\" xlink:show=\"new\" xlink:title=\"psysml:23a083da-d633-42aa-b737-bc534de6ad98\" xlink:type=\"simple\"><polygon fill=\"none\" points=\"16,6,129.6875,6,136.6875,28.2969,811,28.2969,811,300,16,300,16,6\" style=\"stroke:#000000;stroke-width:1.5;\"/><line style=\"stroke:#000000;stroke-width:1.5;\" x1=\"16\" x2=\"136.6875\" y1=\"28.2969\" y2=\"28.2969\"/><text fill=\"#000000\" font-family=\"sans-serif\" font-size=\"14\" font-weight=\"bold\" lengthAdjust=\"spacing\" textLength=\"107.6875\" x=\"20\" y=\"20.9951\">ParameterTest</text></a></g><!--MD5=[b4997ac47864f28c2f74865a473b2911]\n",
       "class E2--><a href=\"psysml:04ef3948-8524-44aa-a324-078bab0d23fb\" target=\"_top\" title=\"psysml:04ef3948-8524-44aa-a324-078bab0d23fb\" xlink:actuate=\"onRequest\" xlink:href=\"psysml:04ef3948-8524-44aa-a324-078bab0d23fb\" xlink:show=\"new\" xlink:title=\"psysml:04ef3948-8524-44aa-a324-078bab0d23fb\" xlink:type=\"simple\"><g id=\"elem_E2\"><rect fill=\"#FFFFFF\" height=\"91.3781\" id=\"E2\" style=\"stroke:#181818;stroke-width:0.5;\" width=\"99\" x=\"618.5\" y=\"193\"/><text fill=\"#000000\" font-family=\"sans-serif\" font-size=\"12\" font-style=\"italic\" lengthAdjust=\"spacing\" textLength=\"97\" x=\"619.5\" y=\"209.1387\">«attribute  def»</text><text fill=\"#000000\" font-family=\"sans-serif\" font-size=\"14\" lengthAdjust=\"spacing\" textLength=\"9\" x=\"663.5\" y=\"224.9639\">A</text><line style=\"stroke:#181818;stroke-width:0.5;\" x1=\"619.5\" x2=\"716.5\" y1=\"233.2656\" y2=\"233.2656\"/><text fill=\"#000000\" font-family=\"sans-serif\" font-size=\"14\" lengthAdjust=\"spacing\" textLength=\"56\" x=\"624.5\" y=\"260.7795\">x: String</text><text fill=\"#000000\" font-family=\"sans-serif\" font-size=\"14\" lengthAdjust=\"spacing\" textLength=\"25\" x=\"624.5\" y=\"277.0764\">y: A</text><text fill=\"#000000\" font-family=\"sans-serif\" font-size=\"14\" font-style=\"italic\" lengthAdjust=\"spacing\" textLength=\"66\" x=\"635\" y=\"245.6123\">attributes</text></g></a><!--MD5=[09b614a08d8cba4a07c9adeb5e0fee81]\n",
       "class E3--><a href=\"psysml:30f6a8e4-9ac7-4724-976d-d9f1147f3701\" target=\"_top\" title=\"psysml:30f6a8e4-9ac7-4724-976d-d9f1147f3701\" xlink:actuate=\"onRequest\" xlink:href=\"psysml:30f6a8e4-9ac7-4724-976d-d9f1147f3701\" xlink:show=\"new\" xlink:title=\"psysml:30f6a8e4-9ac7-4724-976d-d9f1147f3701\" xlink:type=\"simple\"><g id=\"elem_E3\"><rect fill=\"#FFFFFF\" height=\"48.2656\" id=\"E3\" rx=\"10\" ry=\"10\" style=\"stroke:#181818;stroke-width:0.5;\" width=\"71\" x=\"723.5\" y=\"54.5\"/><text fill=\"#000000\" font-family=\"sans-serif\" font-size=\"12\" font-style=\"italic\" lengthAdjust=\"spacing\" textLength=\"69\" x=\"724.5\" y=\"70.6387\">«attribute»</text><text fill=\"#000000\" font-family=\"sans-serif\" font-size=\"14\" lengthAdjust=\"spacing\" textLength=\"26\" x=\"742\" y=\"86.4639\">a: A</text><line style=\"stroke:#181818;stroke-width:0.5;\" x1=\"724.5\" x2=\"793.5\" y1=\"94.7656\" y2=\"94.7656\"/></g></a><!--MD5=[ebbe1d658d1005bcc118a6aa81145e00]\n",
       "class E4--><a href=\"psysml:9fc68d1c-0eda-4ba7-8d2a-4dac99044350\" target=\"_top\" title=\"psysml:9fc68d1c-0eda-4ba7-8d2a-4dac99044350\" xlink:actuate=\"onRequest\" xlink:href=\"psysml:9fc68d1c-0eda-4ba7-8d2a-4dac99044350\" xlink:show=\"new\" xlink:title=\"psysml:9fc68d1c-0eda-4ba7-8d2a-4dac99044350\" xlink:type=\"simple\"><g id=\"elem_E4\"><rect fill=\"#FFFFFF\" height=\"48.2656\" id=\"E4\" style=\"stroke:#181818;stroke-width:0.5;\" width=\"112\" x=\"576\" y=\"54.5\"/><text fill=\"#000000\" font-family=\"sans-serif\" font-size=\"12\" font-style=\"italic\" lengthAdjust=\"spacing\" textLength=\"110\" x=\"577\" y=\"70.6387\">«calculation  def»</text><text fill=\"#000000\" font-family=\"sans-serif\" font-size=\"14\" lengthAdjust=\"spacing\" textLength=\"8\" x=\"628\" y=\"86.4639\">F</text><line style=\"stroke:#181818;stroke-width:0.5;\" x1=\"577\" x2=\"687\" y1=\"94.7656\" y2=\"94.7656\"/></g></a><!--MD5=[270fce915f116d4de14055a7c1d9a0f3]\n",
       "class E5--><a href=\"psysml:201caa5e-7003-43c9-93c7-31c1dd2687e1\" target=\"_top\" title=\"psysml:201caa5e-7003-43c9-93c7-31c1dd2687e1\" xlink:actuate=\"onRequest\" xlink:href=\"psysml:201caa5e-7003-43c9-93c7-31c1dd2687e1\" xlink:show=\"new\" xlink:title=\"psysml:201caa5e-7003-43c9-93c7-31c1dd2687e1\" xlink:type=\"simple\"><g id=\"elem_E5\"><rect fill=\"#FFFFFF\" height=\"75.0813\" id=\"E5\" rx=\"10\" ry=\"10\" style=\"stroke:#181818;stroke-width:0.5;\" width=\"71\" x=\"469.5\" y=\"41\"/><text fill=\"#000000\" font-family=\"sans-serif\" font-size=\"12\" font-style=\"italic\" lengthAdjust=\"spacing\" textLength=\"69\" x=\"470.5\" y=\"57.1387\">«attribute»</text><text fill=\"#000000\" font-family=\"sans-serif\" font-size=\"14\" lengthAdjust=\"spacing\" textLength=\"4\" x=\"499\" y=\"72.9639\">f</text><line style=\"stroke:#181818;stroke-width:0.5;\" x1=\"470.5\" x2=\"539.5\" y1=\"81.2656\" y2=\"81.2656\"/><text fill=\"#000000\" font-family=\"sans-serif\" font-size=\"14\" lengthAdjust=\"spacing\" textLength=\"59\" x=\"475.5\" y=\"108.7795\">= F(a, 2)</text><text fill=\"#000000\" font-family=\"sans-serif\" font-size=\"14\" font-style=\"italic\" lengthAdjust=\"spacing\" textLength=\"44\" x=\"483\" y=\"93.6123\">values</text></g></a><!--MD5=[60a26617385b1d2d0262a64233df1f8d]\n",
       "class E6--><a href=\"psysml:ef9d06c8-83aa-4b51-a725-4880c3e71513\" target=\"_top\" title=\"psysml:ef9d06c8-83aa-4b51-a725-4880c3e71513\" xlink:actuate=\"onRequest\" xlink:href=\"psysml:ef9d06c8-83aa-4b51-a725-4880c3e71513\" xlink:show=\"new\" xlink:title=\"psysml:ef9d06c8-83aa-4b51-a725-4880c3e71513\" xlink:type=\"simple\"><g id=\"elem_E6\"><rect fill=\"#FFFFFF\" height=\"75.0813\" id=\"E6\" rx=\"10\" ry=\"10\" style=\"stroke:#181818;stroke-width:0.5;\" width=\"129\" x=\"305.5\" y=\"41\"/><text fill=\"#000000\" font-family=\"sans-serif\" font-size=\"12\" font-style=\"italic\" lengthAdjust=\"spacing\" textLength=\"69\" x=\"335.5\" y=\"57.1387\">«attribute»</text><text fill=\"#000000\" font-family=\"sans-serif\" font-size=\"14\" lengthAdjust=\"spacing\" textLength=\"9\" x=\"361.5\" y=\"72.9639\">g</text><line style=\"stroke:#181818;stroke-width:0.5;\" x1=\"306.5\" x2=\"433.5\" y1=\"81.2656\" y2=\"81.2656\"/><text fill=\"#000000\" font-family=\"sans-serif\" font-size=\"14\" lengthAdjust=\"spacing\" textLength=\"117\" x=\"311.5\" y=\"108.7795\">= F(q = 1, p = a)</text><text fill=\"#000000\" font-family=\"sans-serif\" font-size=\"14\" font-style=\"italic\" lengthAdjust=\"spacing\" textLength=\"44\" x=\"348\" y=\"93.6123\">values</text></g></a><!--MD5=[2156ba9850f5573cc1fc38a6a4b2f02b]\n",
       "class E7--><a href=\"psysml:472a68ff-87fb-48cb-b812-c0679e72bd97\" target=\"_top\" title=\"psysml:472a68ff-87fb-48cb-b812-c0679e72bd97\" xlink:actuate=\"onRequest\" xlink:href=\"psysml:472a68ff-87fb-48cb-b812-c0679e72bd97\" xlink:show=\"new\" xlink:title=\"psysml:472a68ff-87fb-48cb-b812-c0679e72bd97\" xlink:type=\"simple\"><g id=\"elem_E7\"><rect fill=\"#FFFFFF\" height=\"75.0813\" id=\"E7\" rx=\"10\" ry=\"10\" style=\"stroke:#181818;stroke-width:0.5;\" width=\"111\" x=\"159.5\" y=\"41\"/><text fill=\"#000000\" font-family=\"sans-serif\" font-size=\"12\" font-style=\"italic\" lengthAdjust=\"spacing\" textLength=\"69\" x=\"180.5\" y=\"57.1387\">«attribute»</text><text fill=\"#000000\" font-family=\"sans-serif\" font-size=\"14\" lengthAdjust=\"spacing\" textLength=\"9\" x=\"206.5\" y=\"72.9639\">b</text><line style=\"stroke:#181818;stroke-width:0.5;\" x1=\"160.5\" x2=\"269.5\" y1=\"81.2656\" y2=\"81.2656\"/><text fill=\"#000000\" font-family=\"sans-serif\" font-size=\"14\" lengthAdjust=\"spacing\" textLength=\"99\" x=\"165.5\" y=\"108.7795\">= A(y=a, x=\"\")</text><text fill=\"#000000\" font-family=\"sans-serif\" font-size=\"14\" font-style=\"italic\" lengthAdjust=\"spacing\" textLength=\"44\" x=\"193\" y=\"93.6123\">values</text></g></a><!--MD5=[b9389687b975829384b498ac4b7476b2]\n",
       "class E8--><a href=\"psysml:b12c6daa-efd4-472f-91f1-7e0209b6a2bc\" target=\"_top\" title=\"psysml:b12c6daa-efd4-472f-91f1-7e0209b6a2bc\" xlink:actuate=\"onRequest\" xlink:href=\"psysml:b12c6daa-efd4-472f-91f1-7e0209b6a2bc\" xlink:show=\"new\" xlink:title=\"psysml:b12c6daa-efd4-472f-91f1-7e0209b6a2bc\" xlink:type=\"simple\"><g id=\"elem_E8\"><rect fill=\"#FFFFFF\" height=\"75.0813\" id=\"E8\" rx=\"10\" ry=\"10\" style=\"stroke:#181818;stroke-width:0.5;\" width=\"93\" x=\"31.5\" y=\"41\"/><text fill=\"#000000\" font-family=\"sans-serif\" font-size=\"12\" font-style=\"italic\" lengthAdjust=\"spacing\" textLength=\"69\" x=\"43.5\" y=\"57.1387\">«attribute»</text><text fill=\"#000000\" font-family=\"sans-serif\" font-size=\"14\" lengthAdjust=\"spacing\" textLength=\"8\" x=\"70\" y=\"72.9639\">c</text><line style=\"stroke:#181818;stroke-width:0.5;\" x1=\"32.5\" x2=\"123.5\" y1=\"81.2656\" y2=\"81.2656\"/><text fill=\"#000000\" font-family=\"sans-serif\" font-size=\"14\" lengthAdjust=\"spacing\" textLength=\"81\" x=\"37.5\" y=\"108.7795\">= A(\"test2\")</text><text fill=\"#000000\" font-family=\"sans-serif\" font-size=\"14\" font-style=\"italic\" lengthAdjust=\"spacing\" textLength=\"44\" x=\"56\" y=\"93.6123\">values</text></g></a><!--MD5=[05d275557350bfb9b23a4ef7222b4c39]\n",
       "link E3 to E2--><g id=\"link_E3_E2\"><a href=\"psysml:de703d0e-2ba0-4603-81fc-fcf4f6dc7e4d\" target=\"_top\" title=\"psysml:de703d0e-2ba0-4603-81fc-fcf4f6dc7e4d\" xlink:actuate=\"onRequest\" xlink:href=\"psysml:de703d0e-2ba0-4603-81fc-fcf4f6dc7e4d\" xlink:show=\"new\" xlink:title=\"psysml:de703d0e-2ba0-4603-81fc-fcf4f6dc7e4d\" xlink:type=\"simple\"><path d=\"M745.57,102.81 C734.58,121.9 718.5,149.81 703.83,175.29 \" fill=\"none\" id=\"E3-to-E2\" style=\"stroke:#181818;stroke-width:1.0;\"/><polygon fill=\"#FFFFFF\" points=\"693.74,192.81,697.1615,172.8527,709.2915,179.8428,693.74,192.81\" style=\"stroke:#181818;stroke-width:1.0;\"/><ellipse cx=\"701.7403\" cy=\"168.9126\" fill=\"#181818\" rx=\"2\" ry=\"2\" style=\"stroke:#181818;stroke-width:1.0;\"/><ellipse cx=\"710.4046\" cy=\"173.9055\" fill=\"#181818\" rx=\"2\" ry=\"2\" style=\"stroke:#181818;stroke-width:1.0;\"/></a></g><!--MD5=[ddeed8deb2209213b62e6cfabaa108b2]\n",
       "reverse link E4 to E2--><g id=\"link_E4_E2\"><a href=\"psysml:c0525d75-8c24-4ff5-9432-36973c13d292\" target=\"_top\" title=\"psysml:c0525d75-8c24-4ff5-9432-36973c13d292\" xlink:actuate=\"onRequest\" xlink:href=\"psysml:c0525d75-8c24-4ff5-9432-36973c13d292\" xlink:show=\"new\" xlink:title=\"psysml:c0525d75-8c24-4ff5-9432-36973c13d292\" xlink:type=\"simple\"><path d=\"M640.26,115.75 C645.48,138.66 652.27,168.44 657.82,192.81 \" fill=\"none\" id=\"E4-backto-E2\" style=\"stroke:#181818;stroke-width:1.0;\"/><polygon fill=\"none\" points=\"637.31,102.81,634.7405,109.5478,639.9717,114.5111,642.5412,107.7733,637.31,102.81\" style=\"stroke:#181818;stroke-width:1.0;\"/><text fill=\"#000000\" font-family=\"sans-serif\" font-size=\"13\" lengthAdjust=\"spacing\" textLength=\"8\" x=\"651\" y=\"159.0669\">p</text></a></g><!--MD5=[72987c8e5a545198e85abcda3a7bf368]\n",
       "@startuml\r\n",
       "skin sysmlbw\r\n",
       "skinparam monochrome true\r\n",
       "skinparam wrapWidth 300\r\n",
       "hide circle\r\n",
       "skinparam linetype polyline\r\n",
       "\r\n",
       "package \"ParameterTest\" as E1  [[psysml:23a083da-d633-42aa-b737-bc534de6ad98 ]]  {\r\n",
       "comp def \"A\" as E2  <<(T,blue) attribute  def>> [[psysml:04ef3948-8524-44aa-a324-078bab0d23fb ]] {\r\n",
       "##//attributes//##\r\n",
       "x: String\r\n",
       "y: A\r\n",
       "}\r\n",
       "comp usage \"a: A  \" as E3  <<(T,blue) attribute>> [[psysml:30f6a8e4-9ac7-4724-976d-d9f1147f3701 ]] {\r\n",
       "}\r\n",
       "comp def \"F\" as E4  <<(T,blue) calculation  def>> [[psysml:9fc68d1c-0eda-4ba7-8d2a-4dac99044350 ]] {\r\n",
       "}\r\n",
       "comp usage \"f  \" as E5  <<(T,blue) attribute>> [[psysml:201caa5e-7003-43c9-93c7-31c1dd2687e1 ]] {\r\n",
       "##//values//##\r\n",
       " <U+003D> F(a, 2)\r\n",
       "}\r\n",
       "comp usage \"g  \" as E6  <<(T,blue) attribute>> [[psysml:ef9d06c8-83aa-4b51-a725-4880c3e71513 ]] {\r\n",
       "##//values//##\r\n",
       " <U+003D> F(q <U+003D> 1, p <U+003D> a)\r\n",
       "}\r\n",
       "comp usage \"b  \" as E7  <<(T,blue) attribute>> [[psysml:472a68ff-87fb-48cb-b812-c0679e72bd97 ]] {\r\n",
       "##//values//##\r\n",
       " <U+003D> A(y<U+003D>a, x<U+003D>\"\")\r\n",
       "}\r\n",
       "comp usage \"c  \" as E8  <<(T,blue) attribute>> [[psysml:b12c6daa-efd4-472f-91f1-7e0209b6a2bc ]] {\r\n",
       "##//values//##\r\n",
       " <U+003D> A(\"test2\")\r\n",
       "}\r\n",
       "}\r\n",
       "E3 - -:|> E2 [[psysml:de703d0e-2ba0-4603-81fc-fcf4f6dc7e4d ]] \r\n",
       "E4 o- - E2 [[psysml:c0525d75-8c24-4ff5-9432-36973c13d292 ]] : p\r\n",
       "@enduml\r\n",
       "\n",
       "PlantUML version 1.2022.7(Mon Aug 22 17:01:30 UTC 2022)\n",
       "(EPL source distribution)\n",
       "Java Runtime: OpenJDK Runtime Environment\n",
       "JVM: OpenJDK 64-Bit Server VM\n",
       "Default Encoding: UTF-8\n",
       "Language: en\n",
       "Country: null\n",
       "--></g></svg>"
      ]
     },
     "execution_count": 10,
     "metadata": {},
     "output_type": "execute_result"
    }
   ],
   "source": [
    "%viz --style=\"POLYLINE\" --view=\"Tree\" \"ParameterTest\""
   ]
  },
  {
   "cell_type": "code",
   "execution_count": 11,
   "id": "3c11dfa3",
   "metadata": {
    "execution": {
     "iopub.execute_input": "2024-12-16T03:23:33.956312Z",
     "iopub.status.busy": "2024-12-16T03:23:33.956071Z",
     "iopub.status.idle": "2024-12-16T03:23:33.966093Z",
     "shell.execute_reply": "2024-12-16T03:23:33.965886Z"
    }
   },
   "outputs": [
    {
     "data": {
      "image/svg+xml": [
       "<?xml version=\"1.0\" encoding=\"UTF-8\" standalone=\"no\"?><svg xmlns=\"http://www.w3.org/2000/svg\" xmlns:xlink=\"http://www.w3.org/1999/xlink\" contentStyleType=\"text/css\" height=\"10px\" preserveAspectRatio=\"none\" style=\"width:10px;height:10px;background:#FFFFFF;\" version=\"1.1\" viewBox=\"0 0 10 10\" width=\"10px\" zoomAndPan=\"magnify\"><defs/><g><!--MD5=[20bed88d98f2aabbefdc8661420d403d]\n",
       "@startuml\r\n",
       "skin sysmlbw\r\n",
       "skinparam monochrome true\r\n",
       "skinparam wrapWidth 300\r\n",
       "hide circle\r\n",
       "skinparam linetype polyline\r\n",
       "\r\n",
       "@enduml\r\n",
       "\n",
       "PlantUML version 1.2022.7(Mon Aug 22 17:01:30 UTC 2022)\n",
       "(EPL source distribution)\n",
       "Java Runtime: OpenJDK Runtime Environment\n",
       "JVM: OpenJDK 64-Bit Server VM\n",
       "Default Encoding: UTF-8\n",
       "Language: en\n",
       "Country: null\n",
       "--></g></svg>"
      ]
     },
     "execution_count": 11,
     "metadata": {},
     "output_type": "execute_result"
    }
   ],
   "source": [
    "%viz --style=\"POLYLINE\" --view=\"State\" \"ParameterTest\""
   ]
  },
  {
   "cell_type": "code",
   "execution_count": 12,
   "id": "aed8e00b",
   "metadata": {
    "execution": {
     "iopub.execute_input": "2024-12-16T03:23:34.019100Z",
     "iopub.status.busy": "2024-12-16T03:23:34.018030Z",
     "iopub.status.idle": "2024-12-16T03:23:34.051214Z",
     "shell.execute_reply": "2024-12-16T03:23:34.050204Z"
    }
   },
   "outputs": [
    {
     "data": {
      "image/svg+xml": [
       "<?xml version=\"1.0\" encoding=\"UTF-8\" standalone=\"no\"?><svg xmlns=\"http://www.w3.org/2000/svg\" xmlns:xlink=\"http://www.w3.org/1999/xlink\" contentStyleType=\"text/css\" height=\"241px\" preserveAspectRatio=\"none\" style=\"width:858px;height:241px;background:#FFFFFF;\" version=\"1.1\" viewBox=\"0 0 858 241\" width=\"858px\" zoomAndPan=\"magnify\"><defs/><g><!--MD5=[fbc87193dbaf4d95561dea2c320d4a47]\n",
       "cluster E1--><g id=\"cluster_E1\"><a href=\"psysml:23a083da-d633-42aa-b737-bc534de6ad98\" target=\"_top\" title=\"psysml:23a083da-d633-42aa-b737-bc534de6ad98\" xlink:actuate=\"onRequest\" xlink:href=\"psysml:23a083da-d633-42aa-b737-bc534de6ad98\" xlink:show=\"new\" xlink:title=\"psysml:23a083da-d633-42aa-b737-bc534de6ad98\" xlink:type=\"simple\"><polygon fill=\"none\" points=\"16,6,129.6875,6,136.6875,28.2969,841,28.2969,841,234.72,16,234.72,16,6\" style=\"stroke:#000000;stroke-width:1.5;\"/><line style=\"stroke:#000000;stroke-width:1.5;\" x1=\"16\" x2=\"136.6875\" y1=\"28.2969\" y2=\"28.2969\"/><text fill=\"#000000\" font-family=\"sans-serif\" font-size=\"14\" font-weight=\"bold\" lengthAdjust=\"spacing\" textLength=\"107.6875\" x=\"20\" y=\"20.9951\">ParameterTest</text></a></g><!--MD5=[f6df4d0ebaf0b5dfb2ced0ae5af7c670]\n",
       "cluster E4--><g id=\"cluster_E4\"><a href=\"psysml:9fc68d1c-0eda-4ba7-8d2a-4dac99044350\" target=\"_top\" title=\"psysml:9fc68d1c-0eda-4ba7-8d2a-4dac99044350\" xlink:actuate=\"onRequest\" xlink:href=\"psysml:9fc68d1c-0eda-4ba7-8d2a-4dac99044350\" xlink:show=\"new\" xlink:title=\"psysml:9fc68d1c-0eda-4ba7-8d2a-4dac99044350\" xlink:type=\"simple\"><rect fill=\"#FFFFFF\" height=\"126.22\" id=\"E4\" style=\"stroke:#383838;stroke-width:1.5;\" width=\"150\" x=\"675\" y=\"78.5\"/><text fill=\"#000000\" font-family=\"sans-serif\" font-size=\"12\" font-style=\"italic\" lengthAdjust=\"spacing\" textLength=\"110\" x=\"695\" y=\"94.6387\">«calculation  def»</text><text fill=\"#000000\" font-family=\"sans-serif\" font-size=\"14\" lengthAdjust=\"spacing\" textLength=\"8\" x=\"746\" y=\"110.4639\">F</text><line style=\"stroke:#383838;stroke-width:1.0;\" x1=\"675\" x2=\"825\" y1=\"118.7656\" y2=\"118.7656\"/></a></g><g><a href=\"psysml:04ef3948-8524-44aa-a324-078bab0d23fb\" target=\"_top\" title=\"psysml:04ef3948-8524-44aa-a324-078bab0d23fb\" xlink:actuate=\"onRequest\" xlink:href=\"psysml:04ef3948-8524-44aa-a324-078bab0d23fb\" xlink:show=\"new\" xlink:title=\"psysml:04ef3948-8524-44aa-a324-078bab0d23fb\" xlink:type=\"simple\"><rect fill=\"#FFFFFF\" height=\"45.2656\" id=\"E2\" style=\"stroke:#383838;stroke-width:1.5;\" width=\"104\" x=\"532\" y=\"127\"/><text fill=\"#000000\" font-family=\"sans-serif\" font-size=\"12\" font-style=\"italic\" lengthAdjust=\"spacing\" textLength=\"97\" x=\"535.5\" y=\"143.1387\">«attribute  def»</text><text fill=\"#000000\" font-family=\"sans-serif\" font-size=\"14\" lengthAdjust=\"spacing\" textLength=\"9\" x=\"579.5\" y=\"158.9639\">A</text></a></g><!--MD5=[09b614a08d8cba4a07c9adeb5e0fee81]\n",
       "class E3--><a href=\"psysml:30f6a8e4-9ac7-4724-976d-d9f1147f3701\" target=\"_top\" title=\"psysml:30f6a8e4-9ac7-4724-976d-d9f1147f3701\" xlink:actuate=\"onRequest\" xlink:href=\"psysml:30f6a8e4-9ac7-4724-976d-d9f1147f3701\" xlink:show=\"new\" xlink:title=\"psysml:30f6a8e4-9ac7-4724-976d-d9f1147f3701\" xlink:type=\"simple\"><g id=\"elem_E3\"><rect fill=\"#FFFFFF\" height=\"48.2656\" id=\"E3\" rx=\"10\" ry=\"10\" style=\"stroke:#181818;stroke-width:0.5;\" width=\"71\" x=\"575.5\" y=\"54.5\"/><text fill=\"#000000\" font-family=\"sans-serif\" font-size=\"12\" font-style=\"italic\" lengthAdjust=\"spacing\" textLength=\"69\" x=\"576.5\" y=\"70.6387\">«attribute»</text><text fill=\"#000000\" font-family=\"sans-serif\" font-size=\"14\" lengthAdjust=\"spacing\" textLength=\"26\" x=\"594\" y=\"86.4639\">a: A</text><line style=\"stroke:#181818;stroke-width:0.5;\" x1=\"576.5\" x2=\"645.5\" y1=\"94.7656\" y2=\"94.7656\"/></g></a><!--MD5=[b9389687b975829384b498ac4b7476b2]\n",
       "class E8--><a href=\"psysml:201caa5e-7003-43c9-93c7-31c1dd2687e1\" target=\"_top\" title=\"psysml:201caa5e-7003-43c9-93c7-31c1dd2687e1\" xlink:actuate=\"onRequest\" xlink:href=\"psysml:201caa5e-7003-43c9-93c7-31c1dd2687e1\" xlink:show=\"new\" xlink:title=\"psysml:201caa5e-7003-43c9-93c7-31c1dd2687e1\" xlink:type=\"simple\"><g id=\"elem_E8\"><rect fill=\"#FFFFFF\" height=\"75.0813\" id=\"E8\" rx=\"10\" ry=\"10\" style=\"stroke:#181818;stroke-width:0.5;\" width=\"71\" x=\"469.5\" y=\"41\"/><text fill=\"#000000\" font-family=\"sans-serif\" font-size=\"12\" font-style=\"italic\" lengthAdjust=\"spacing\" textLength=\"69\" x=\"470.5\" y=\"57.1387\">«attribute»</text><text fill=\"#000000\" font-family=\"sans-serif\" font-size=\"14\" lengthAdjust=\"spacing\" textLength=\"4\" x=\"499\" y=\"72.9639\">f</text><line style=\"stroke:#181818;stroke-width:0.5;\" x1=\"470.5\" x2=\"539.5\" y1=\"81.2656\" y2=\"81.2656\"/><text fill=\"#000000\" font-family=\"sans-serif\" font-size=\"14\" lengthAdjust=\"spacing\" textLength=\"59\" x=\"475.5\" y=\"108.7795\">= F(a, 2)</text><text fill=\"#000000\" font-family=\"sans-serif\" font-size=\"14\" font-style=\"italic\" lengthAdjust=\"spacing\" textLength=\"44\" x=\"483\" y=\"93.6123\">values</text></g></a><!--MD5=[fd4143e9d270a159db93a4ea2a975926]\n",
       "class E9--><a href=\"psysml:ef9d06c8-83aa-4b51-a725-4880c3e71513\" target=\"_top\" title=\"psysml:ef9d06c8-83aa-4b51-a725-4880c3e71513\" xlink:actuate=\"onRequest\" xlink:href=\"psysml:ef9d06c8-83aa-4b51-a725-4880c3e71513\" xlink:show=\"new\" xlink:title=\"psysml:ef9d06c8-83aa-4b51-a725-4880c3e71513\" xlink:type=\"simple\"><g id=\"elem_E9\"><rect fill=\"#FFFFFF\" height=\"75.0813\" id=\"E9\" rx=\"10\" ry=\"10\" style=\"stroke:#181818;stroke-width:0.5;\" width=\"129\" x=\"305.5\" y=\"41\"/><text fill=\"#000000\" font-family=\"sans-serif\" font-size=\"12\" font-style=\"italic\" lengthAdjust=\"spacing\" textLength=\"69\" x=\"335.5\" y=\"57.1387\">«attribute»</text><text fill=\"#000000\" font-family=\"sans-serif\" font-size=\"14\" lengthAdjust=\"spacing\" textLength=\"9\" x=\"361.5\" y=\"72.9639\">g</text><line style=\"stroke:#181818;stroke-width:0.5;\" x1=\"306.5\" x2=\"433.5\" y1=\"81.2656\" y2=\"81.2656\"/><text fill=\"#000000\" font-family=\"sans-serif\" font-size=\"14\" lengthAdjust=\"spacing\" textLength=\"117\" x=\"311.5\" y=\"108.7795\">= F(q = 1, p = a)</text><text fill=\"#000000\" font-family=\"sans-serif\" font-size=\"14\" font-style=\"italic\" lengthAdjust=\"spacing\" textLength=\"44\" x=\"348\" y=\"93.6123\">values</text></g></a><!--MD5=[96f4274e9e20536e775497830990834d]\n",
       "class E10--><a href=\"psysml:472a68ff-87fb-48cb-b812-c0679e72bd97\" target=\"_top\" title=\"psysml:472a68ff-87fb-48cb-b812-c0679e72bd97\" xlink:actuate=\"onRequest\" xlink:href=\"psysml:472a68ff-87fb-48cb-b812-c0679e72bd97\" xlink:show=\"new\" xlink:title=\"psysml:472a68ff-87fb-48cb-b812-c0679e72bd97\" xlink:type=\"simple\"><g id=\"elem_E10\"><rect fill=\"#FFFFFF\" height=\"75.0813\" id=\"E10\" rx=\"10\" ry=\"10\" style=\"stroke:#181818;stroke-width:0.5;\" width=\"111\" x=\"159.5\" y=\"41\"/><text fill=\"#000000\" font-family=\"sans-serif\" font-size=\"12\" font-style=\"italic\" lengthAdjust=\"spacing\" textLength=\"69\" x=\"180.5\" y=\"57.1387\">«attribute»</text><text fill=\"#000000\" font-family=\"sans-serif\" font-size=\"14\" lengthAdjust=\"spacing\" textLength=\"9\" x=\"206.5\" y=\"72.9639\">b</text><line style=\"stroke:#181818;stroke-width:0.5;\" x1=\"160.5\" x2=\"269.5\" y1=\"81.2656\" y2=\"81.2656\"/><text fill=\"#000000\" font-family=\"sans-serif\" font-size=\"14\" lengthAdjust=\"spacing\" textLength=\"99\" x=\"165.5\" y=\"108.7795\">= A(y=a, x=\"\")</text><text fill=\"#000000\" font-family=\"sans-serif\" font-size=\"14\" font-style=\"italic\" lengthAdjust=\"spacing\" textLength=\"44\" x=\"193\" y=\"93.6123\">values</text></g></a><!--MD5=[1dd1bfd58a279cf63c5f349dbc8fc6a1]\n",
       "class E11--><a href=\"psysml:b12c6daa-efd4-472f-91f1-7e0209b6a2bc\" target=\"_top\" title=\"psysml:b12c6daa-efd4-472f-91f1-7e0209b6a2bc\" xlink:actuate=\"onRequest\" xlink:href=\"psysml:b12c6daa-efd4-472f-91f1-7e0209b6a2bc\" xlink:show=\"new\" xlink:title=\"psysml:b12c6daa-efd4-472f-91f1-7e0209b6a2bc\" xlink:type=\"simple\"><g id=\"elem_E11\"><rect fill=\"#FFFFFF\" height=\"75.0813\" id=\"E11\" rx=\"10\" ry=\"10\" style=\"stroke:#181818;stroke-width:0.5;\" width=\"93\" x=\"31.5\" y=\"41\"/><text fill=\"#000000\" font-family=\"sans-serif\" font-size=\"12\" font-style=\"italic\" lengthAdjust=\"spacing\" textLength=\"69\" x=\"43.5\" y=\"57.1387\">«attribute»</text><text fill=\"#000000\" font-family=\"sans-serif\" font-size=\"14\" lengthAdjust=\"spacing\" textLength=\"8\" x=\"70\" y=\"72.9639\">c</text><line style=\"stroke:#181818;stroke-width:0.5;\" x1=\"32.5\" x2=\"123.5\" y1=\"81.2656\" y2=\"81.2656\"/><text fill=\"#000000\" font-family=\"sans-serif\" font-size=\"14\" lengthAdjust=\"spacing\" textLength=\"81\" x=\"37.5\" y=\"108.7795\">= A(\"test2\")</text><text fill=\"#000000\" font-family=\"sans-serif\" font-size=\"14\" font-style=\"italic\" lengthAdjust=\"spacing\" textLength=\"44\" x=\"56\" y=\"93.6123\">values</text></g></a><text fill=\"#000000\" font-family=\"sans-serif\" font-size=\"14\" lengthAdjust=\"spacing\" textLength=\"9\" x=\"688.5\" y=\"57.1982\">p</text><rect fill=\"#FFFFFF\" height=\"12\" style=\"stroke:#181818;stroke-width:1.5;\" width=\"12\" x=\"687\" y=\"72.5\"/><text fill=\"#000000\" font-family=\"sans-serif\" font-size=\"14\" lengthAdjust=\"spacing\" textLength=\"9\" x=\"735.5\" y=\"57.1982\">q</text><rect fill=\"#FFFFFF\" height=\"12\" style=\"stroke:#181818;stroke-width:1.5;\" width=\"12\" x=\"734\" y=\"72.5\"/><text fill=\"#000000\" font-family=\"sans-serif\" font-size=\"14\" lengthAdjust=\"spacing\" textLength=\"39\" x=\"720.5\" y=\"223.7151\">result</text><rect fill=\"#FFFFFF\" height=\"12\" style=\"stroke:#181818;stroke-width:1.5;\" width=\"12\" x=\"734\" y=\"198.72\"/><!--MD5=[05d275557350bfb9b23a4ef7222b4c39]\n",
       "link E3 to E2--><g id=\"link_E3_E2\"><a href=\"psysml:de703d0e-2ba0-4603-81fc-fcf4f6dc7e4d\" target=\"_top\" title=\"psysml:de703d0e-2ba0-4603-81fc-fcf4f6dc7e4d\" xlink:actuate=\"onRequest\" xlink:href=\"psysml:de703d0e-2ba0-4603-81fc-fcf4f6dc7e4d\" xlink:show=\"new\" xlink:title=\"psysml:de703d0e-2ba0-4603-81fc-fcf4f6dc7e4d\" xlink:type=\"simple\"><path d=\"M601.86,102.86 C601.25,104.42 600.63,106.01 600,107.62 \" fill=\"none\" id=\"E3-to-E2\" style=\"stroke:#181818;stroke-width:1.0;\"/><polygon fill=\"#FFFFFF\" points=\"592.58,126.56,592.9814,106.3155,606.0197,111.4149,592.58,126.56\" style=\"stroke:#181818;stroke-width:1.0;\"/><ellipse cx=\"596.9201\" cy=\"101.7356\" fill=\"#181818\" rx=\"2\" ry=\"2\" style=\"stroke:#181818;stroke-width:1.0;\"/><ellipse cx=\"606.2332\" cy=\"105.3779\" fill=\"#181818\" rx=\"2\" ry=\"2\" style=\"stroke:#181818;stroke-width:1.0;\"/></a></g><!--MD5=[c7bd31e0ab86743bb94f13717ea997e7]\n",
       "@startuml\r\n",
       "skin sysmlbw\r\n",
       "skinparam monochrome true\r\n",
       "skinparam wrapWidth 300\r\n",
       "hide circle\r\n",
       "skinparam linetype polyline\r\n",
       "skinparam ranksep 10\r\n",
       "skinparam rectangle {\r\n",
       " backgroundColor<<block>> LightGreen\r\n",
       "}\r\n",
       "\r\n",
       "package \"ParameterTest\" as E1  [[psysml:23a083da-d633-42aa-b737-bc534de6ad98 ]]  {\r\n",
       "def \"A\" as E2  <<(T,blue) attribute  def>> [[psysml:04ef3948-8524-44aa-a324-078bab0d23fb ]] \r\n",
       "comp usage \"a: A  \" as E3  <<(T,blue) attribute>> [[psysml:30f6a8e4-9ac7-4724-976d-d9f1147f3701 ]] {\r\n",
       "}\r\n",
       "rec def \"F\" as E4  <<(T,blue) calculation  def>> [[psysml:9fc68d1c-0eda-4ba7-8d2a-4dac99044350 ]] {\r\n",
       "portin \"p\" as E5  [[psysml:c0525d75-8c24-4ff5-9432-36973c13d292 ]] \r\n",
       "portin \"q\" as E6  [[psysml:ea5aeb99-c612-42a4-b65a-a51f249da328 ]] \r\n",
       "portout \"result\" as E7  [[psysml:ef9cf0a8-f443-48d9-b6fd-29ed95d8a001 ]] \r\n",
       "}\r\n",
       "\r\n",
       "comp usage \"f  \" as E8  <<(T,blue) attribute>> [[psysml:201caa5e-7003-43c9-93c7-31c1dd2687e1 ]] {\r\n",
       "##//values//##\r\n",
       " <U+003D> F(a, 2)\r\n",
       "}\r\n",
       "comp usage \"g  \" as E9  <<(T,blue) attribute>> [[psysml:ef9d06c8-83aa-4b51-a725-4880c3e71513 ]] {\r\n",
       "##//values//##\r\n",
       " <U+003D> F(q <U+003D> 1, p <U+003D> a)\r\n",
       "}\r\n",
       "comp usage \"b  \" as E10  <<(T,blue) attribute>> [[psysml:472a68ff-87fb-48cb-b812-c0679e72bd97 ]] {\r\n",
       "##//values//##\r\n",
       " <U+003D> A(y<U+003D>a, x<U+003D>\"\")\r\n",
       "}\r\n",
       "comp usage \"c  \" as E11  <<(T,blue) attribute>> [[psysml:b12c6daa-efd4-472f-91f1-7e0209b6a2bc ]] {\r\n",
       "##//values//##\r\n",
       " <U+003D> A(\"test2\")\r\n",
       "}\r\n",
       "}\r\n",
       "E3 - -:|> E2 [[psysml:de703d0e-2ba0-4603-81fc-fcf4f6dc7e4d ]] \r\n",
       "@enduml\r\n",
       "\n",
       "PlantUML version 1.2022.7(Mon Aug 22 17:01:30 UTC 2022)\n",
       "(EPL source distribution)\n",
       "Java Runtime: OpenJDK Runtime Environment\n",
       "JVM: OpenJDK 64-Bit Server VM\n",
       "Default Encoding: UTF-8\n",
       "Language: en\n",
       "Country: null\n",
       "--></g></svg>"
      ]
     },
     "execution_count": 12,
     "metadata": {},
     "output_type": "execute_result"
    }
   ],
   "source": [
    "%viz --style=\"POLYLINE\" --view=\"Interconnection\" \"ParameterTest\""
   ]
  },
  {
   "cell_type": "code",
   "execution_count": 13,
   "id": "5a9ab4d4",
   "metadata": {
    "execution": {
     "iopub.execute_input": "2024-12-16T03:23:34.107188Z",
     "iopub.status.busy": "2024-12-16T03:23:34.106909Z",
     "iopub.status.idle": "2024-12-16T03:23:34.124675Z",
     "shell.execute_reply": "2024-12-16T03:23:34.124809Z"
    }
   },
   "outputs": [
    {
     "data": {
      "image/svg+xml": [
       "<?xml version=\"1.0\" encoding=\"UTF-8\" standalone=\"no\"?><svg xmlns=\"http://www.w3.org/2000/svg\" xmlns:xlink=\"http://www.w3.org/1999/xlink\" contentStyleType=\"text/css\" height=\"157px\" preserveAspectRatio=\"none\" style=\"width:164px;height:157px;background:#FFFFFF;\" version=\"1.1\" viewBox=\"0 0 164 157\" width=\"164px\" zoomAndPan=\"magnify\"><defs/><g><!--MD5=[fbc87193dbaf4d95561dea2c320d4a47]\n",
       "cluster E1--><g id=\"cluster_E1\"><a href=\"psysml:9fc68d1c-0eda-4ba7-8d2a-4dac99044350\" target=\"_top\" title=\"psysml:9fc68d1c-0eda-4ba7-8d2a-4dac99044350\" xlink:actuate=\"onRequest\" xlink:href=\"psysml:9fc68d1c-0eda-4ba7-8d2a-4dac99044350\" xlink:show=\"new\" xlink:title=\"psysml:9fc68d1c-0eda-4ba7-8d2a-4dac99044350\" xlink:type=\"simple\"><rect fill=\"#FFFFFF\" height=\"87.72\" id=\"E1\" style=\"stroke:#383838;stroke-width:1.5;\" width=\"150\" x=\"7\" y=\"42.0986\"/><text fill=\"#000000\" font-family=\"sans-serif\" font-size=\"12\" font-style=\"italic\" lengthAdjust=\"spacing\" textLength=\"110\" x=\"27\" y=\"58.2373\">«calculation  def»</text><text fill=\"#000000\" font-family=\"sans-serif\" font-size=\"14\" lengthAdjust=\"spacing\" textLength=\"8\" x=\"78\" y=\"74.0625\">F</text><line style=\"stroke:#383838;stroke-width:1.0;\" x1=\"7\" x2=\"157\" y1=\"82.3643\" y2=\"82.3643\"/></a></g><text fill=\"#000000\" font-family=\"sans-serif\" font-size=\"14\" lengthAdjust=\"spacing\" textLength=\"9\" x=\"20.5\" y=\"20.7969\">p</text><rect fill=\"#FFFFFF\" height=\"12\" style=\"stroke:#181818;stroke-width:1.5;\" width=\"12\" x=\"19\" y=\"36.0986\"/><text fill=\"#000000\" font-family=\"sans-serif\" font-size=\"14\" lengthAdjust=\"spacing\" textLength=\"9\" x=\"67.5\" y=\"20.7969\">q</text><rect fill=\"#FFFFFF\" height=\"12\" style=\"stroke:#181818;stroke-width:1.5;\" width=\"12\" x=\"66\" y=\"36.0986\"/><text fill=\"#000000\" font-family=\"sans-serif\" font-size=\"14\" lengthAdjust=\"spacing\" textLength=\"39\" x=\"52.5\" y=\"148.8138\">result</text><rect fill=\"#FFFFFF\" height=\"12\" style=\"stroke:#181818;stroke-width:1.5;\" width=\"12\" x=\"66\" y=\"123.8186\"/><!--MD5=[fdf3baaf259f920e2d9cc336a6325412]\n",
       "@startuml\r\n",
       "skin sysmlbw\r\n",
       "skinparam monochrome true\r\n",
       "skinparam wrapWidth 300\r\n",
       "hide circle\r\n",
       "skinparam linetype polyline\r\n",
       "skinparam ranksep 8\r\n",
       "\r\n",
       "rec def \"F\" as E1  <<(T,blue) calculation  def>> [[psysml:9fc68d1c-0eda-4ba7-8d2a-4dac99044350 ]] {\r\n",
       "portin \"p\" as E2  [[psysml:c0525d75-8c24-4ff5-9432-36973c13d292 ]] \r\n",
       "portin \"q\" as E3  [[psysml:ea5aeb99-c612-42a4-b65a-a51f249da328 ]] \r\n",
       "portout \"result\" as E4  [[psysml:ef9cf0a8-f443-48d9-b6fd-29ed95d8a001 ]] \r\n",
       "}\r\n",
       "\r\n",
       "@enduml\r\n",
       "\n",
       "PlantUML version 1.2022.7(Mon Aug 22 17:01:30 UTC 2022)\n",
       "(EPL source distribution)\n",
       "Java Runtime: OpenJDK Runtime Environment\n",
       "JVM: OpenJDK 64-Bit Server VM\n",
       "Default Encoding: UTF-8\n",
       "Language: en\n",
       "Country: null\n",
       "--></g></svg>"
      ]
     },
     "execution_count": 13,
     "metadata": {},
     "output_type": "execute_result"
    }
   ],
   "source": [
    "%viz --style=\"POLYLINE\" --view=\"Action\" \"ParameterTest\""
   ]
  },
  {
   "cell_type": "code",
   "execution_count": 14,
   "id": "a443cb3d",
   "metadata": {
    "execution": {
     "iopub.execute_input": "2024-12-16T03:23:34.177687Z",
     "iopub.status.busy": "2024-12-16T03:23:34.177448Z",
     "iopub.status.idle": "2024-12-16T03:23:34.187200Z",
     "shell.execute_reply": "2024-12-16T03:23:34.186991Z"
    }
   },
   "outputs": [
    {
     "data": {
      "image/svg+xml": [
       "<?xml version=\"1.0\" encoding=\"UTF-8\" standalone=\"no\"?><svg xmlns=\"http://www.w3.org/2000/svg\" xmlns:xlink=\"http://www.w3.org/1999/xlink\" contentStyleType=\"text/css\" height=\"10px\" preserveAspectRatio=\"none\" style=\"width:10px;height:10px;background:#FFFFFF;\" version=\"1.1\" viewBox=\"0 0 10 10\" width=\"10px\" zoomAndPan=\"magnify\"><defs/><g><!--MD5=[efefafbf36b45173e0355713d9054f90]\n",
       "@startuml\r\n",
       "skin sysmlbw\r\n",
       "skinparam monochrome true\r\n",
       "skinparam wrapWidth 300\r\n",
       "hide circle\r\n",
       "skinparam linetype polyline\r\n",
       "skinparam roundcorner 20\r\n",
       "skinparam BoxPadding 20\r\n",
       "skinparam SequenceBoxBackgroundColor #white\r\n",
       "skinparam style strictuml\r\n",
       "skinparam maxMessageSize 100\r\n",
       "\r\n",
       "@enduml\r\n",
       "\n",
       "PlantUML version 1.2022.7(Mon Aug 22 17:01:30 UTC 2022)\n",
       "(EPL source distribution)\n",
       "Java Runtime: OpenJDK Runtime Environment\n",
       "JVM: OpenJDK 64-Bit Server VM\n",
       "Default Encoding: UTF-8\n",
       "Language: en\n",
       "Country: null\n",
       "--></g></svg>"
      ]
     },
     "execution_count": 14,
     "metadata": {},
     "output_type": "execute_result"
    }
   ],
   "source": [
    "%viz --style=\"POLYLINE\" --view=\"Sequence\" \"ParameterTest\""
   ]
  },
  {
   "cell_type": "code",
   "execution_count": 15,
   "id": "6eb4f807",
   "metadata": {
    "execution": {
     "iopub.execute_input": "2024-12-16T03:23:34.244222Z",
     "iopub.status.busy": "2024-12-16T03:23:34.243952Z",
     "iopub.status.idle": "2024-12-16T03:23:34.283784Z",
     "shell.execute_reply": "2024-12-16T03:23:34.282789Z"
    }
   },
   "outputs": [
    {
     "data": {
      "image/svg+xml": [
       "<?xml version=\"1.0\" encoding=\"UTF-8\" standalone=\"no\"?><svg xmlns=\"http://www.w3.org/2000/svg\" xmlns:xlink=\"http://www.w3.org/1999/xlink\" contentStyleType=\"text/css\" height=\"430px\" preserveAspectRatio=\"none\" style=\"width:858px;height:430px;background:#FFFFFF;\" version=\"1.1\" viewBox=\"0 0 858 430\" width=\"858px\" zoomAndPan=\"magnify\"><defs/><g><!--MD5=[fbc87193dbaf4d95561dea2c320d4a47]\n",
       "cluster E1--><g id=\"cluster_E1\"><a href=\"psysml:23a083da-d633-42aa-b737-bc534de6ad98\" target=\"_top\" title=\"psysml:23a083da-d633-42aa-b737-bc534de6ad98\" xlink:actuate=\"onRequest\" xlink:href=\"psysml:23a083da-d633-42aa-b737-bc534de6ad98\" xlink:show=\"new\" xlink:title=\"psysml:23a083da-d633-42aa-b737-bc534de6ad98\" xlink:type=\"simple\"><polygon fill=\"none\" points=\"16,6,129.6875,6,136.6875,28.2969,841,28.2969,841,423.72,16,423.72,16,6\" style=\"stroke:#000000;stroke-width:1.5;\"/><line style=\"stroke:#000000;stroke-width:1.5;\" x1=\"16\" x2=\"136.6875\" y1=\"28.2969\" y2=\"28.2969\"/><text fill=\"#000000\" font-family=\"sans-serif\" font-size=\"14\" font-weight=\"bold\" lengthAdjust=\"spacing\" textLength=\"107.6875\" x=\"20\" y=\"20.9951\">ParameterTest</text></a></g><!--MD5=[f6df4d0ebaf0b5dfb2ced0ae5af7c670]\n",
       "cluster E4--><g id=\"cluster_E4\"><a href=\"psysml:9fc68d1c-0eda-4ba7-8d2a-4dac99044350\" target=\"_top\" title=\"psysml:9fc68d1c-0eda-4ba7-8d2a-4dac99044350\" xlink:actuate=\"onRequest\" xlink:href=\"psysml:9fc68d1c-0eda-4ba7-8d2a-4dac99044350\" xlink:show=\"new\" xlink:title=\"psysml:9fc68d1c-0eda-4ba7-8d2a-4dac99044350\" xlink:type=\"simple\"><rect fill=\"#FFFFFF\" height=\"315.22\" id=\"E4\" style=\"stroke:#383838;stroke-width:1.5;\" width=\"150\" x=\"675\" y=\"78.5\"/><text fill=\"#000000\" font-family=\"sans-serif\" font-size=\"12\" font-style=\"italic\" lengthAdjust=\"spacing\" textLength=\"110\" x=\"695\" y=\"94.6387\">«calculation  def»</text><text fill=\"#000000\" font-family=\"sans-serif\" font-size=\"14\" lengthAdjust=\"spacing\" textLength=\"8\" x=\"746\" y=\"110.4639\">F</text><line style=\"stroke:#383838;stroke-width:1.0;\" x1=\"675\" x2=\"825\" y1=\"118.7656\" y2=\"118.7656\"/></a></g><!--MD5=[b4997ac47864f28c2f74865a473b2911]\n",
       "class E2--><a href=\"psysml:04ef3948-8524-44aa-a324-078bab0d23fb\" target=\"_top\" title=\"psysml:04ef3948-8524-44aa-a324-078bab0d23fb\" xlink:actuate=\"onRequest\" xlink:href=\"psysml:04ef3948-8524-44aa-a324-078bab0d23fb\" xlink:show=\"new\" xlink:title=\"psysml:04ef3948-8524-44aa-a324-078bab0d23fb\" xlink:type=\"simple\"><g id=\"elem_E2\"><rect fill=\"#FFFFFF\" height=\"91.3781\" id=\"E2\" style=\"stroke:#181818;stroke-width:0.5;\" width=\"99\" x=\"537.5\" y=\"176\"/><text fill=\"#000000\" font-family=\"sans-serif\" font-size=\"12\" font-style=\"italic\" lengthAdjust=\"spacing\" textLength=\"97\" x=\"538.5\" y=\"192.1387\">«attribute  def»</text><text fill=\"#000000\" font-family=\"sans-serif\" font-size=\"14\" lengthAdjust=\"spacing\" textLength=\"9\" x=\"582.5\" y=\"207.9639\">A</text><line style=\"stroke:#181818;stroke-width:0.5;\" x1=\"538.5\" x2=\"635.5\" y1=\"216.2656\" y2=\"216.2656\"/><text fill=\"#000000\" font-family=\"sans-serif\" font-size=\"14\" lengthAdjust=\"spacing\" textLength=\"56\" x=\"543.5\" y=\"243.7795\">x: String</text><text fill=\"#000000\" font-family=\"sans-serif\" font-size=\"14\" lengthAdjust=\"spacing\" textLength=\"25\" x=\"543.5\" y=\"260.0764\">y: A</text><text fill=\"#000000\" font-family=\"sans-serif\" font-size=\"14\" font-style=\"italic\" lengthAdjust=\"spacing\" textLength=\"66\" x=\"554\" y=\"228.6123\">attributes</text></g></a><!--MD5=[09b614a08d8cba4a07c9adeb5e0fee81]\n",
       "class E3--><a href=\"psysml:30f6a8e4-9ac7-4724-976d-d9f1147f3701\" target=\"_top\" title=\"psysml:30f6a8e4-9ac7-4724-976d-d9f1147f3701\" xlink:actuate=\"onRequest\" xlink:href=\"psysml:30f6a8e4-9ac7-4724-976d-d9f1147f3701\" xlink:show=\"new\" xlink:title=\"psysml:30f6a8e4-9ac7-4724-976d-d9f1147f3701\" xlink:type=\"simple\"><g id=\"elem_E3\"><rect fill=\"#FFFFFF\" height=\"48.2656\" id=\"E3\" rx=\"10\" ry=\"10\" style=\"stroke:#181818;stroke-width:0.5;\" width=\"71\" x=\"575.5\" y=\"54.5\"/><text fill=\"#000000\" font-family=\"sans-serif\" font-size=\"12\" font-style=\"italic\" lengthAdjust=\"spacing\" textLength=\"69\" x=\"576.5\" y=\"70.6387\">«attribute»</text><text fill=\"#000000\" font-family=\"sans-serif\" font-size=\"14\" lengthAdjust=\"spacing\" textLength=\"26\" x=\"594\" y=\"86.4639\">a: A</text><line style=\"stroke:#181818;stroke-width:0.5;\" x1=\"576.5\" x2=\"645.5\" y1=\"94.7656\" y2=\"94.7656\"/></g></a><!--MD5=[b9389687b975829384b498ac4b7476b2]\n",
       "class E8--><a href=\"psysml:201caa5e-7003-43c9-93c7-31c1dd2687e1\" target=\"_top\" title=\"psysml:201caa5e-7003-43c9-93c7-31c1dd2687e1\" xlink:actuate=\"onRequest\" xlink:href=\"psysml:201caa5e-7003-43c9-93c7-31c1dd2687e1\" xlink:show=\"new\" xlink:title=\"psysml:201caa5e-7003-43c9-93c7-31c1dd2687e1\" xlink:type=\"simple\"><g id=\"elem_E8\"><rect fill=\"#FFFFFF\" height=\"75.0813\" id=\"E8\" rx=\"10\" ry=\"10\" style=\"stroke:#181818;stroke-width:0.5;\" width=\"71\" x=\"469.5\" y=\"41\"/><text fill=\"#000000\" font-family=\"sans-serif\" font-size=\"12\" font-style=\"italic\" lengthAdjust=\"spacing\" textLength=\"69\" x=\"470.5\" y=\"57.1387\">«attribute»</text><text fill=\"#000000\" font-family=\"sans-serif\" font-size=\"14\" lengthAdjust=\"spacing\" textLength=\"4\" x=\"499\" y=\"72.9639\">f</text><line style=\"stroke:#181818;stroke-width:0.5;\" x1=\"470.5\" x2=\"539.5\" y1=\"81.2656\" y2=\"81.2656\"/><text fill=\"#000000\" font-family=\"sans-serif\" font-size=\"14\" lengthAdjust=\"spacing\" textLength=\"59\" x=\"475.5\" y=\"108.7795\">= F(a, 2)</text><text fill=\"#000000\" font-family=\"sans-serif\" font-size=\"14\" font-style=\"italic\" lengthAdjust=\"spacing\" textLength=\"44\" x=\"483\" y=\"93.6123\">values</text></g></a><!--MD5=[fd4143e9d270a159db93a4ea2a975926]\n",
       "class E9--><a href=\"psysml:ef9d06c8-83aa-4b51-a725-4880c3e71513\" target=\"_top\" title=\"psysml:ef9d06c8-83aa-4b51-a725-4880c3e71513\" xlink:actuate=\"onRequest\" xlink:href=\"psysml:ef9d06c8-83aa-4b51-a725-4880c3e71513\" xlink:show=\"new\" xlink:title=\"psysml:ef9d06c8-83aa-4b51-a725-4880c3e71513\" xlink:type=\"simple\"><g id=\"elem_E9\"><rect fill=\"#FFFFFF\" height=\"75.0813\" id=\"E9\" rx=\"10\" ry=\"10\" style=\"stroke:#181818;stroke-width:0.5;\" width=\"129\" x=\"305.5\" y=\"41\"/><text fill=\"#000000\" font-family=\"sans-serif\" font-size=\"12\" font-style=\"italic\" lengthAdjust=\"spacing\" textLength=\"69\" x=\"335.5\" y=\"57.1387\">«attribute»</text><text fill=\"#000000\" font-family=\"sans-serif\" font-size=\"14\" lengthAdjust=\"spacing\" textLength=\"9\" x=\"361.5\" y=\"72.9639\">g</text><line style=\"stroke:#181818;stroke-width:0.5;\" x1=\"306.5\" x2=\"433.5\" y1=\"81.2656\" y2=\"81.2656\"/><text fill=\"#000000\" font-family=\"sans-serif\" font-size=\"14\" lengthAdjust=\"spacing\" textLength=\"117\" x=\"311.5\" y=\"108.7795\">= F(q = 1, p = a)</text><text fill=\"#000000\" font-family=\"sans-serif\" font-size=\"14\" font-style=\"italic\" lengthAdjust=\"spacing\" textLength=\"44\" x=\"348\" y=\"93.6123\">values</text></g></a><!--MD5=[96f4274e9e20536e775497830990834d]\n",
       "class E10--><a href=\"psysml:472a68ff-87fb-48cb-b812-c0679e72bd97\" target=\"_top\" title=\"psysml:472a68ff-87fb-48cb-b812-c0679e72bd97\" xlink:actuate=\"onRequest\" xlink:href=\"psysml:472a68ff-87fb-48cb-b812-c0679e72bd97\" xlink:show=\"new\" xlink:title=\"psysml:472a68ff-87fb-48cb-b812-c0679e72bd97\" xlink:type=\"simple\"><g id=\"elem_E10\"><rect fill=\"#FFFFFF\" height=\"75.0813\" id=\"E10\" rx=\"10\" ry=\"10\" style=\"stroke:#181818;stroke-width:0.5;\" width=\"111\" x=\"159.5\" y=\"41\"/><text fill=\"#000000\" font-family=\"sans-serif\" font-size=\"12\" font-style=\"italic\" lengthAdjust=\"spacing\" textLength=\"69\" x=\"180.5\" y=\"57.1387\">«attribute»</text><text fill=\"#000000\" font-family=\"sans-serif\" font-size=\"14\" lengthAdjust=\"spacing\" textLength=\"9\" x=\"206.5\" y=\"72.9639\">b</text><line style=\"stroke:#181818;stroke-width:0.5;\" x1=\"160.5\" x2=\"269.5\" y1=\"81.2656\" y2=\"81.2656\"/><text fill=\"#000000\" font-family=\"sans-serif\" font-size=\"14\" lengthAdjust=\"spacing\" textLength=\"99\" x=\"165.5\" y=\"108.7795\">= A(y=a, x=\"\")</text><text fill=\"#000000\" font-family=\"sans-serif\" font-size=\"14\" font-style=\"italic\" lengthAdjust=\"spacing\" textLength=\"44\" x=\"193\" y=\"93.6123\">values</text></g></a><!--MD5=[1dd1bfd58a279cf63c5f349dbc8fc6a1]\n",
       "class E11--><a href=\"psysml:b12c6daa-efd4-472f-91f1-7e0209b6a2bc\" target=\"_top\" title=\"psysml:b12c6daa-efd4-472f-91f1-7e0209b6a2bc\" xlink:actuate=\"onRequest\" xlink:href=\"psysml:b12c6daa-efd4-472f-91f1-7e0209b6a2bc\" xlink:show=\"new\" xlink:title=\"psysml:b12c6daa-efd4-472f-91f1-7e0209b6a2bc\" xlink:type=\"simple\"><g id=\"elem_E11\"><rect fill=\"#FFFFFF\" height=\"75.0813\" id=\"E11\" rx=\"10\" ry=\"10\" style=\"stroke:#181818;stroke-width:0.5;\" width=\"93\" x=\"31.5\" y=\"41\"/><text fill=\"#000000\" font-family=\"sans-serif\" font-size=\"12\" font-style=\"italic\" lengthAdjust=\"spacing\" textLength=\"69\" x=\"43.5\" y=\"57.1387\">«attribute»</text><text fill=\"#000000\" font-family=\"sans-serif\" font-size=\"14\" lengthAdjust=\"spacing\" textLength=\"8\" x=\"70\" y=\"72.9639\">c</text><line style=\"stroke:#181818;stroke-width:0.5;\" x1=\"32.5\" x2=\"123.5\" y1=\"81.2656\" y2=\"81.2656\"/><text fill=\"#000000\" font-family=\"sans-serif\" font-size=\"14\" lengthAdjust=\"spacing\" textLength=\"81\" x=\"37.5\" y=\"108.7795\">= A(\"test2\")</text><text fill=\"#000000\" font-family=\"sans-serif\" font-size=\"14\" font-style=\"italic\" lengthAdjust=\"spacing\" textLength=\"44\" x=\"56\" y=\"93.6123\">values</text></g></a><text fill=\"#000000\" font-family=\"sans-serif\" font-size=\"14\" lengthAdjust=\"spacing\" textLength=\"9\" x=\"688.5\" y=\"57.1982\">p</text><rect fill=\"#FFFFFF\" height=\"12\" style=\"stroke:#181818;stroke-width:1.5;\" width=\"12\" x=\"687\" y=\"72.5\"/><text fill=\"#000000\" font-family=\"sans-serif\" font-size=\"14\" lengthAdjust=\"spacing\" textLength=\"9\" x=\"735.5\" y=\"57.1982\">q</text><rect fill=\"#FFFFFF\" height=\"12\" style=\"stroke:#181818;stroke-width:1.5;\" width=\"12\" x=\"734\" y=\"72.5\"/><text fill=\"#000000\" font-family=\"sans-serif\" font-size=\"14\" lengthAdjust=\"spacing\" textLength=\"39\" x=\"720.5\" y=\"412.7151\">result</text><rect fill=\"#FFFFFF\" height=\"12\" style=\"stroke:#181818;stroke-width:1.5;\" width=\"12\" x=\"734\" y=\"387.72\"/><!--MD5=[05d275557350bfb9b23a4ef7222b4c39]\n",
       "link E3 to E2--><g id=\"link_E3_E2\"><a href=\"psysml:de703d0e-2ba0-4603-81fc-fcf4f6dc7e4d\" target=\"_top\" title=\"psysml:de703d0e-2ba0-4603-81fc-fcf4f6dc7e4d\" xlink:actuate=\"onRequest\" xlink:href=\"psysml:de703d0e-2ba0-4603-81fc-fcf4f6dc7e4d\" xlink:show=\"new\" xlink:title=\"psysml:de703d0e-2ba0-4603-81fc-fcf4f6dc7e4d\" xlink:type=\"simple\"><path d=\"M607.04,102.78 C604.55,117.39 601.21,137.01 597.97,156.04 \" fill=\"none\" id=\"E3-to-E2\" style=\"stroke:#181818;stroke-width:1.0;\"/><polygon fill=\"#FFFFFF\" points=\"594.61,175.8,590.8965,155.895,604.6981,158.2435,594.61,175.8\" style=\"stroke:#181818;stroke-width:1.0;\"/><ellipse cx=\"593.8244\" cy=\"150.6113\" fill=\"#181818\" rx=\"2\" ry=\"2\" style=\"stroke:#181818;stroke-width:1.0;\"/><ellipse cx=\"603.6827\" cy=\"152.2888\" fill=\"#181818\" rx=\"2\" ry=\"2\" style=\"stroke:#181818;stroke-width:1.0;\"/></a></g><!--MD5=[30b14138df863588fa6eb6817a06a6b8]\n",
       "@startuml\r\n",
       "skin sysmlbw\r\n",
       "skinparam monochrome true\r\n",
       "skinparam wrapWidth 300\r\n",
       "hide circle\r\n",
       "skinparam linetype polyline\r\n",
       "\r\n",
       "package \"ParameterTest\" as E1  [[psysml:23a083da-d633-42aa-b737-bc534de6ad98 ]]  {\r\n",
       "comp def \"A\" as E2  <<(T,blue) attribute  def>> [[psysml:04ef3948-8524-44aa-a324-078bab0d23fb ]] {\r\n",
       "##//attributes//##\r\n",
       "x: String\r\n",
       "y: A\r\n",
       "}\r\n",
       "comp usage \"a: A  \" as E3  <<(T,blue) attribute>> [[psysml:30f6a8e4-9ac7-4724-976d-d9f1147f3701 ]] {\r\n",
       "}\r\n",
       "rec def \"F\" as E4  <<(T,blue) calculation  def>> [[psysml:9fc68d1c-0eda-4ba7-8d2a-4dac99044350 ]] {\r\n",
       "portin \"p\" as E5  [[psysml:c0525d75-8c24-4ff5-9432-36973c13d292 ]] \r\n",
       "portin \"q\" as E6  [[psysml:ea5aeb99-c612-42a4-b65a-a51f249da328 ]] \r\n",
       "portout \"result\" as E7  [[psysml:ef9cf0a8-f443-48d9-b6fd-29ed95d8a001 ]] \r\n",
       "}\r\n",
       "\r\n",
       "comp usage \"f  \" as E8  <<(T,blue) attribute>> [[psysml:201caa5e-7003-43c9-93c7-31c1dd2687e1 ]] {\r\n",
       "##//values//##\r\n",
       " <U+003D> F(a, 2)\r\n",
       "}\r\n",
       "comp usage \"g  \" as E9  <<(T,blue) attribute>> [[psysml:ef9d06c8-83aa-4b51-a725-4880c3e71513 ]] {\r\n",
       "##//values//##\r\n",
       " <U+003D> F(q <U+003D> 1, p <U+003D> a)\r\n",
       "}\r\n",
       "comp usage \"b  \" as E10  <<(T,blue) attribute>> [[psysml:472a68ff-87fb-48cb-b812-c0679e72bd97 ]] {\r\n",
       "##//values//##\r\n",
       " <U+003D> A(y<U+003D>a, x<U+003D>\"\")\r\n",
       "}\r\n",
       "comp usage \"c  \" as E11  <<(T,blue) attribute>> [[psysml:b12c6daa-efd4-472f-91f1-7e0209b6a2bc ]] {\r\n",
       "##//values//##\r\n",
       " <U+003D> A(\"test2\")\r\n",
       "}\r\n",
       "}\r\n",
       "E3 - -:|> E2 [[psysml:de703d0e-2ba0-4603-81fc-fcf4f6dc7e4d ]] \r\n",
       "@enduml\r\n",
       "\n",
       "PlantUML version 1.2022.7(Mon Aug 22 17:01:30 UTC 2022)\n",
       "(EPL source distribution)\n",
       "Java Runtime: OpenJDK Runtime Environment\n",
       "JVM: OpenJDK 64-Bit Server VM\n",
       "Default Encoding: UTF-8\n",
       "Language: en\n",
       "Country: null\n",
       "--></g></svg>"
      ]
     },
     "execution_count": 15,
     "metadata": {},
     "output_type": "execute_result"
    }
   ],
   "source": [
    "%viz --style=\"POLYLINE\" --view=\"MIXED\" \"ParameterTest\""
   ]
  },
  {
   "cell_type": "code",
   "execution_count": 16,
   "id": "57d68333",
   "metadata": {
    "execution": {
     "iopub.execute_input": "2024-12-16T03:23:34.339611Z",
     "iopub.status.busy": "2024-12-16T03:23:34.339389Z",
     "iopub.status.idle": "2024-12-16T03:23:34.369299Z",
     "shell.execute_reply": "2024-12-16T03:23:34.368483Z"
    }
   },
   "outputs": [
    {
     "data": {
      "image/svg+xml": [
       "<?xml version=\"1.0\" encoding=\"UTF-8\" standalone=\"no\"?><svg xmlns=\"http://www.w3.org/2000/svg\" xmlns:xlink=\"http://www.w3.org/1999/xlink\" contentStyleType=\"text/css\" height=\"654px\" preserveAspectRatio=\"none\" style=\"width:531px;height:654px;background:#FFFFFF;\" version=\"1.1\" viewBox=\"0 0 531 654\" width=\"531px\" zoomAndPan=\"magnify\"><defs/><g><!--MD5=[fbc87193dbaf4d95561dea2c320d4a47]\n",
       "cluster E1--><g id=\"cluster_E1\"><a href=\"psysml:23a083da-d633-42aa-b737-bc534de6ad98\" target=\"_top\" title=\"psysml:23a083da-d633-42aa-b737-bc534de6ad98\" xlink:actuate=\"onRequest\" xlink:href=\"psysml:23a083da-d633-42aa-b737-bc534de6ad98\" xlink:show=\"new\" xlink:title=\"psysml:23a083da-d633-42aa-b737-bc534de6ad98\" xlink:type=\"simple\"><polygon fill=\"none\" points=\"16,6,129.6875,6,136.6875,28.2969,514.72,28.2969,514.72,647,16,647,16,6\" style=\"stroke:#000000;stroke-width:1.5;\"/><line style=\"stroke:#000000;stroke-width:1.5;\" x1=\"16\" x2=\"136.6875\" y1=\"28.2969\" y2=\"28.2969\"/><text fill=\"#000000\" font-family=\"sans-serif\" font-size=\"14\" font-weight=\"bold\" lengthAdjust=\"spacing\" textLength=\"107.6875\" x=\"20\" y=\"20.9951\">ParameterTest</text></a></g><!--MD5=[f6df4d0ebaf0b5dfb2ced0ae5af7c670]\n",
       "cluster E4--><g id=\"cluster_E4\"><a href=\"psysml:9fc68d1c-0eda-4ba7-8d2a-4dac99044350\" target=\"_top\" title=\"psysml:9fc68d1c-0eda-4ba7-8d2a-4dac99044350\" xlink:actuate=\"onRequest\" xlink:href=\"psysml:9fc68d1c-0eda-4ba7-8d2a-4dac99044350\" xlink:show=\"new\" xlink:title=\"psysml:9fc68d1c-0eda-4ba7-8d2a-4dac99044350\" xlink:type=\"simple\"><rect fill=\"#FFFFFF\" height=\"47\" id=\"E4\" style=\"stroke:#383838;stroke-width:1.5;\" width=\"406.22\" x=\"78.5\" y=\"55\"/><text fill=\"#000000\" font-family=\"sans-serif\" font-size=\"12\" font-style=\"italic\" lengthAdjust=\"spacing\" textLength=\"110\" x=\"226.61\" y=\"71.1387\">«calculation  def»</text><text fill=\"#000000\" font-family=\"sans-serif\" font-size=\"14\" lengthAdjust=\"spacing\" textLength=\"8\" x=\"277.61\" y=\"86.9639\">F</text><line style=\"stroke:#383838;stroke-width:1.0;\" x1=\"78.5\" x2=\"484.72\" y1=\"95.2656\" y2=\"95.2656\"/></a></g><!--MD5=[b4997ac47864f28c2f74865a473b2911]\n",
       "class E2--><a href=\"psysml:04ef3948-8524-44aa-a324-078bab0d23fb\" target=\"_top\" title=\"psysml:04ef3948-8524-44aa-a324-078bab0d23fb\" xlink:actuate=\"onRequest\" xlink:href=\"psysml:04ef3948-8524-44aa-a324-078bab0d23fb\" xlink:show=\"new\" xlink:title=\"psysml:04ef3948-8524-44aa-a324-078bab0d23fb\" xlink:type=\"simple\"><g id=\"elem_E2\"><rect fill=\"#FFFFFF\" height=\"91.3781\" id=\"E2\" style=\"stroke:#181818;stroke-width:0.5;\" width=\"99\" x=\"240\" y=\"127.5\"/><text fill=\"#000000\" font-family=\"sans-serif\" font-size=\"12\" font-style=\"italic\" lengthAdjust=\"spacing\" textLength=\"97\" x=\"241\" y=\"143.6387\">«attribute  def»</text><text fill=\"#000000\" font-family=\"sans-serif\" font-size=\"14\" lengthAdjust=\"spacing\" textLength=\"9\" x=\"285\" y=\"159.4639\">A</text><line style=\"stroke:#181818;stroke-width:0.5;\" x1=\"241\" x2=\"338\" y1=\"167.7656\" y2=\"167.7656\"/><text fill=\"#000000\" font-family=\"sans-serif\" font-size=\"14\" lengthAdjust=\"spacing\" textLength=\"56\" x=\"246\" y=\"195.2795\">x: String</text><text fill=\"#000000\" font-family=\"sans-serif\" font-size=\"14\" lengthAdjust=\"spacing\" textLength=\"25\" x=\"246\" y=\"211.5764\">y: A</text><text fill=\"#000000\" font-family=\"sans-serif\" font-size=\"14\" font-style=\"italic\" lengthAdjust=\"spacing\" textLength=\"66\" x=\"256.5\" y=\"180.1123\">attributes</text></g></a><!--MD5=[09b614a08d8cba4a07c9adeb5e0fee81]\n",
       "class E3--><a href=\"psysml:30f6a8e4-9ac7-4724-976d-d9f1147f3701\" target=\"_top\" title=\"psysml:30f6a8e4-9ac7-4724-976d-d9f1147f3701\" xlink:actuate=\"onRequest\" xlink:href=\"psysml:30f6a8e4-9ac7-4724-976d-d9f1147f3701\" xlink:show=\"new\" xlink:title=\"psysml:30f6a8e4-9ac7-4724-976d-d9f1147f3701\" xlink:type=\"simple\"><g id=\"elem_E3\"><rect fill=\"#FFFFFF\" height=\"48.2656\" id=\"E3\" rx=\"10\" ry=\"10\" style=\"stroke:#181818;stroke-width:0.5;\" width=\"71\" x=\"61\" y=\"143\"/><text fill=\"#000000\" font-family=\"sans-serif\" font-size=\"12\" font-style=\"italic\" lengthAdjust=\"spacing\" textLength=\"69\" x=\"62\" y=\"159.1387\">«attribute»</text><text fill=\"#000000\" font-family=\"sans-serif\" font-size=\"14\" lengthAdjust=\"spacing\" textLength=\"26\" x=\"79.5\" y=\"174.9639\">a: A</text><line style=\"stroke:#181818;stroke-width:0.5;\" x1=\"62\" x2=\"131\" y1=\"183.2656\" y2=\"183.2656\"/></g></a><!--MD5=[b9389687b975829384b498ac4b7476b2]\n",
       "class E8--><a href=\"psysml:201caa5e-7003-43c9-93c7-31c1dd2687e1\" target=\"_top\" title=\"psysml:201caa5e-7003-43c9-93c7-31c1dd2687e1\" xlink:actuate=\"onRequest\" xlink:href=\"psysml:201caa5e-7003-43c9-93c7-31c1dd2687e1\" xlink:show=\"new\" xlink:title=\"psysml:201caa5e-7003-43c9-93c7-31c1dd2687e1\" xlink:type=\"simple\"><g id=\"elem_E8\"><rect fill=\"#FFFFFF\" height=\"75.0813\" id=\"E8\" rx=\"10\" ry=\"10\" style=\"stroke:#181818;stroke-width:0.5;\" width=\"71\" x=\"61\" y=\"226.5\"/><text fill=\"#000000\" font-family=\"sans-serif\" font-size=\"12\" font-style=\"italic\" lengthAdjust=\"spacing\" textLength=\"69\" x=\"62\" y=\"242.6387\">«attribute»</text><text fill=\"#000000\" font-family=\"sans-serif\" font-size=\"14\" lengthAdjust=\"spacing\" textLength=\"4\" x=\"90.5\" y=\"258.4639\">f</text><line style=\"stroke:#181818;stroke-width:0.5;\" x1=\"62\" x2=\"131\" y1=\"266.7656\" y2=\"266.7656\"/><text fill=\"#000000\" font-family=\"sans-serif\" font-size=\"14\" lengthAdjust=\"spacing\" textLength=\"59\" x=\"67\" y=\"294.2795\">= F(a, 2)</text><text fill=\"#000000\" font-family=\"sans-serif\" font-size=\"14\" font-style=\"italic\" lengthAdjust=\"spacing\" textLength=\"44\" x=\"74.5\" y=\"279.1123\">values</text></g></a><!--MD5=[fd4143e9d270a159db93a4ea2a975926]\n",
       "class E9--><a href=\"psysml:ef9d06c8-83aa-4b51-a725-4880c3e71513\" target=\"_top\" title=\"psysml:ef9d06c8-83aa-4b51-a725-4880c3e71513\" xlink:actuate=\"onRequest\" xlink:href=\"psysml:ef9d06c8-83aa-4b51-a725-4880c3e71513\" xlink:show=\"new\" xlink:title=\"psysml:ef9d06c8-83aa-4b51-a725-4880c3e71513\" xlink:type=\"simple\"><g id=\"elem_E9\"><rect fill=\"#FFFFFF\" height=\"75.0813\" id=\"E9\" rx=\"10\" ry=\"10\" style=\"stroke:#181818;stroke-width:0.5;\" width=\"129\" x=\"32\" y=\"336.5\"/><text fill=\"#000000\" font-family=\"sans-serif\" font-size=\"12\" font-style=\"italic\" lengthAdjust=\"spacing\" textLength=\"69\" x=\"62\" y=\"352.6387\">«attribute»</text><text fill=\"#000000\" font-family=\"sans-serif\" font-size=\"14\" lengthAdjust=\"spacing\" textLength=\"9\" x=\"88\" y=\"368.4639\">g</text><line style=\"stroke:#181818;stroke-width:0.5;\" x1=\"33\" x2=\"160\" y1=\"376.7656\" y2=\"376.7656\"/><text fill=\"#000000\" font-family=\"sans-serif\" font-size=\"14\" lengthAdjust=\"spacing\" textLength=\"117\" x=\"38\" y=\"404.2795\">= F(q = 1, p = a)</text><text fill=\"#000000\" font-family=\"sans-serif\" font-size=\"14\" font-style=\"italic\" lengthAdjust=\"spacing\" textLength=\"44\" x=\"74.5\" y=\"389.1123\">values</text></g></a><!--MD5=[96f4274e9e20536e775497830990834d]\n",
       "class E10--><a href=\"psysml:472a68ff-87fb-48cb-b812-c0679e72bd97\" target=\"_top\" title=\"psysml:472a68ff-87fb-48cb-b812-c0679e72bd97\" xlink:actuate=\"onRequest\" xlink:href=\"psysml:472a68ff-87fb-48cb-b812-c0679e72bd97\" xlink:show=\"new\" xlink:title=\"psysml:472a68ff-87fb-48cb-b812-c0679e72bd97\" xlink:type=\"simple\"><g id=\"elem_E10\"><rect fill=\"#FFFFFF\" height=\"75.0813\" id=\"E10\" rx=\"10\" ry=\"10\" style=\"stroke:#181818;stroke-width:0.5;\" width=\"111\" x=\"41\" y=\"446.5\"/><text fill=\"#000000\" font-family=\"sans-serif\" font-size=\"12\" font-style=\"italic\" lengthAdjust=\"spacing\" textLength=\"69\" x=\"62\" y=\"462.6387\">«attribute»</text><text fill=\"#000000\" font-family=\"sans-serif\" font-size=\"14\" lengthAdjust=\"spacing\" textLength=\"9\" x=\"88\" y=\"478.4639\">b</text><line style=\"stroke:#181818;stroke-width:0.5;\" x1=\"42\" x2=\"151\" y1=\"486.7656\" y2=\"486.7656\"/><text fill=\"#000000\" font-family=\"sans-serif\" font-size=\"14\" lengthAdjust=\"spacing\" textLength=\"99\" x=\"47\" y=\"514.2795\">= A(y=a, x=\"\")</text><text fill=\"#000000\" font-family=\"sans-serif\" font-size=\"14\" font-style=\"italic\" lengthAdjust=\"spacing\" textLength=\"44\" x=\"74.5\" y=\"499.1123\">values</text></g></a><!--MD5=[1dd1bfd58a279cf63c5f349dbc8fc6a1]\n",
       "class E11--><a href=\"psysml:b12c6daa-efd4-472f-91f1-7e0209b6a2bc\" target=\"_top\" title=\"psysml:b12c6daa-efd4-472f-91f1-7e0209b6a2bc\" xlink:actuate=\"onRequest\" xlink:href=\"psysml:b12c6daa-efd4-472f-91f1-7e0209b6a2bc\" xlink:show=\"new\" xlink:title=\"psysml:b12c6daa-efd4-472f-91f1-7e0209b6a2bc\" xlink:type=\"simple\"><g id=\"elem_E11\"><rect fill=\"#FFFFFF\" height=\"75.0813\" id=\"E11\" rx=\"10\" ry=\"10\" style=\"stroke:#181818;stroke-width:0.5;\" width=\"93\" x=\"50\" y=\"556.5\"/><text fill=\"#000000\" font-family=\"sans-serif\" font-size=\"12\" font-style=\"italic\" lengthAdjust=\"spacing\" textLength=\"69\" x=\"62\" y=\"572.6387\">«attribute»</text><text fill=\"#000000\" font-family=\"sans-serif\" font-size=\"14\" lengthAdjust=\"spacing\" textLength=\"8\" x=\"88.5\" y=\"588.4639\">c</text><line style=\"stroke:#181818;stroke-width:0.5;\" x1=\"51\" x2=\"142\" y1=\"596.7656\" y2=\"596.7656\"/><text fill=\"#000000\" font-family=\"sans-serif\" font-size=\"14\" lengthAdjust=\"spacing\" textLength=\"81\" x=\"56\" y=\"624.2795\">= A(\"test2\")</text><text fill=\"#000000\" font-family=\"sans-serif\" font-size=\"14\" font-style=\"italic\" lengthAdjust=\"spacing\" textLength=\"44\" x=\"74.5\" y=\"609.1123\">values</text></g></a><text fill=\"#000000\" font-family=\"sans-serif\" font-size=\"14\" lengthAdjust=\"spacing\" textLength=\"9\" x=\"92\" y=\"120.9951\">p</text><rect fill=\"#FFFFFF\" height=\"12\" style=\"stroke:#181818;stroke-width:1.5;\" width=\"12\" x=\"90.5\" y=\"96\"/><text fill=\"#000000\" font-family=\"sans-serif\" font-size=\"14\" lengthAdjust=\"spacing\" textLength=\"9\" x=\"92\" y=\"33.6982\">q</text><rect fill=\"#FFFFFF\" height=\"12\" style=\"stroke:#181818;stroke-width:1.5;\" width=\"12\" x=\"90.5\" y=\"49\"/><text fill=\"#000000\" font-family=\"sans-serif\" font-size=\"14\" lengthAdjust=\"spacing\" textLength=\"39\" x=\"465.22\" y=\"53.6982\">result</text><rect fill=\"#FFFFFF\" height=\"12\" style=\"stroke:#181818;stroke-width:1.5;\" width=\"12\" x=\"478.72\" y=\"69\"/><!--MD5=[05d275557350bfb9b23a4ef7222b4c39]\n",
       "link E3 to E2--><g id=\"link_E3_E2\"><a href=\"psysml:de703d0e-2ba0-4603-81fc-fcf4f6dc7e4d\" target=\"_top\" title=\"psysml:de703d0e-2ba0-4603-81fc-fcf4f6dc7e4d\" xlink:actuate=\"onRequest\" xlink:href=\"psysml:de703d0e-2ba0-4603-81fc-fcf4f6dc7e4d\" xlink:show=\"new\" xlink:title=\"psysml:de703d0e-2ba0-4603-81fc-fcf4f6dc7e4d\" xlink:type=\"simple\"><path d=\"M132.09,168.09 C156.43,168.85 189.83,169.9 219.51,170.83 \" fill=\"none\" id=\"E3-to-E2\" style=\"stroke:#181818;stroke-width:1.0;\"/><polygon fill=\"#FFFFFF\" points=\"239.8,171.47,220.5893,177.8693,221.0294,163.8762,239.8,171.47\" style=\"stroke:#181818;stroke-width:1.0;\"/><ellipse cx=\"214.955\" cy=\"175.6911\" fill=\"#181818\" rx=\"2\" ry=\"2\" style=\"stroke:#181818;stroke-width:1.0;\"/><ellipse cx=\"215.2694\" cy=\"165.696\" fill=\"#181818\" rx=\"2\" ry=\"2\" style=\"stroke:#181818;stroke-width:1.0;\"/></a></g><!--MD5=[4710c2c6ed3513462917da33ee1e393c]\n",
       "@startuml\r\n",
       "skin sysmlbw\r\n",
       "skinparam monochrome true\r\n",
       "skinparam wrapWidth 300\r\n",
       "hide circle\r\n",
       "left to right direction\r\n",
       "\r\n",
       "package \"ParameterTest\" as E1  [[psysml:23a083da-d633-42aa-b737-bc534de6ad98 ]]  {\r\n",
       "comp def \"A\" as E2  <<(T,blue) attribute  def>> [[psysml:04ef3948-8524-44aa-a324-078bab0d23fb ]] {\r\n",
       "##//attributes//##\r\n",
       "x: String\r\n",
       "y: A\r\n",
       "}\r\n",
       "comp usage \"a: A  \" as E3  <<(T,blue) attribute>> [[psysml:30f6a8e4-9ac7-4724-976d-d9f1147f3701 ]] {\r\n",
       "}\r\n",
       "rec def \"F\" as E4  <<(T,blue) calculation  def>> [[psysml:9fc68d1c-0eda-4ba7-8d2a-4dac99044350 ]] {\r\n",
       "portin \"p\" as E5  [[psysml:c0525d75-8c24-4ff5-9432-36973c13d292 ]] \r\n",
       "portin \"q\" as E6  [[psysml:ea5aeb99-c612-42a4-b65a-a51f249da328 ]] \r\n",
       "portout \"result\" as E7  [[psysml:ef9cf0a8-f443-48d9-b6fd-29ed95d8a001 ]] \r\n",
       "}\r\n",
       "\r\n",
       "comp usage \"f  \" as E8  <<(T,blue) attribute>> [[psysml:201caa5e-7003-43c9-93c7-31c1dd2687e1 ]] {\r\n",
       "##//values//##\r\n",
       " <U+003D> F(a, 2)\r\n",
       "}\r\n",
       "comp usage \"g  \" as E9  <<(T,blue) attribute>> [[psysml:ef9d06c8-83aa-4b51-a725-4880c3e71513 ]] {\r\n",
       "##//values//##\r\n",
       " <U+003D> F(q <U+003D> 1, p <U+003D> a)\r\n",
       "}\r\n",
       "comp usage \"b  \" as E10  <<(T,blue) attribute>> [[psysml:472a68ff-87fb-48cb-b812-c0679e72bd97 ]] {\r\n",
       "##//values//##\r\n",
       " <U+003D> A(y<U+003D>a, x<U+003D>\"\")\r\n",
       "}\r\n",
       "comp usage \"c  \" as E11  <<(T,blue) attribute>> [[psysml:b12c6daa-efd4-472f-91f1-7e0209b6a2bc ]] {\r\n",
       "##//values//##\r\n",
       " <U+003D> A(\"test2\")\r\n",
       "}\r\n",
       "}\r\n",
       "E3 - -:|> E2 [[psysml:de703d0e-2ba0-4603-81fc-fcf4f6dc7e4d ]] \r\n",
       "@enduml\r\n",
       "\n",
       "PlantUML version 1.2022.7(Mon Aug 22 17:01:30 UTC 2022)\n",
       "(EPL source distribution)\n",
       "Java Runtime: OpenJDK Runtime Environment\n",
       "JVM: OpenJDK 64-Bit Server VM\n",
       "Default Encoding: UTF-8\n",
       "Language: en\n",
       "Country: null\n",
       "--></g></svg>"
      ]
     },
     "execution_count": 16,
     "metadata": {},
     "output_type": "execute_result"
    }
   ],
   "source": [
    "%viz --style=\"LR\" --view=\"Default\" \"ParameterTest\""
   ]
  },
  {
   "cell_type": "code",
   "execution_count": 17,
   "id": "0028bfb5",
   "metadata": {
    "execution": {
     "iopub.execute_input": "2024-12-16T03:23:34.426036Z",
     "iopub.status.busy": "2024-12-16T03:23:34.425711Z",
     "iopub.status.idle": "2024-12-16T03:23:34.453539Z",
     "shell.execute_reply": "2024-12-16T03:23:34.452757Z"
    }
   },
   "outputs": [
    {
     "data": {
      "image/svg+xml": [
       "<?xml version=\"1.0\" encoding=\"UTF-8\" standalone=\"no\"?><svg xmlns=\"http://www.w3.org/2000/svg\" xmlns:xlink=\"http://www.w3.org/1999/xlink\" contentStyleType=\"text/css\" height=\"635px\" preserveAspectRatio=\"none\" style=\"width:363px;height:635px;background:#FFFFFF;\" version=\"1.1\" viewBox=\"0 0 363 635\" width=\"363px\" zoomAndPan=\"magnify\"><defs/><g><!--MD5=[fbc87193dbaf4d95561dea2c320d4a47]\n",
       "cluster E1--><g id=\"cluster_E1\"><a href=\"psysml:23a083da-d633-42aa-b737-bc534de6ad98\" target=\"_top\" title=\"psysml:23a083da-d633-42aa-b737-bc534de6ad98\" xlink:actuate=\"onRequest\" xlink:href=\"psysml:23a083da-d633-42aa-b737-bc534de6ad98\" xlink:show=\"new\" xlink:title=\"psysml:23a083da-d633-42aa-b737-bc534de6ad98\" xlink:type=\"simple\"><polygon fill=\"none\" points=\"16,6,129.6875,6,136.6875,28.2969,346,28.2969,346,628,16,628,16,6\" style=\"stroke:#000000;stroke-width:1.5;\"/><line style=\"stroke:#000000;stroke-width:1.5;\" x1=\"16\" x2=\"136.6875\" y1=\"28.2969\" y2=\"28.2969\"/><text fill=\"#000000\" font-family=\"sans-serif\" font-size=\"14\" font-weight=\"bold\" lengthAdjust=\"spacing\" textLength=\"107.6875\" x=\"20\" y=\"20.9951\">ParameterTest</text></a></g><!--MD5=[b4997ac47864f28c2f74865a473b2911]\n",
       "class E2--><a href=\"psysml:04ef3948-8524-44aa-a324-078bab0d23fb\" target=\"_top\" title=\"psysml:04ef3948-8524-44aa-a324-078bab0d23fb\" xlink:actuate=\"onRequest\" xlink:href=\"psysml:04ef3948-8524-44aa-a324-078bab0d23fb\" xlink:show=\"new\" xlink:title=\"psysml:04ef3948-8524-44aa-a324-078bab0d23fb\" xlink:type=\"simple\"><g id=\"elem_E2\"><rect fill=\"#FFFFFF\" height=\"91.3781\" id=\"E2\" style=\"stroke:#181818;stroke-width:0.5;\" width=\"99\" x=\"231\" y=\"76.5\"/><text fill=\"#000000\" font-family=\"sans-serif\" font-size=\"12\" font-style=\"italic\" lengthAdjust=\"spacing\" textLength=\"97\" x=\"232\" y=\"92.6387\">«attribute  def»</text><text fill=\"#000000\" font-family=\"sans-serif\" font-size=\"14\" lengthAdjust=\"spacing\" textLength=\"9\" x=\"276\" y=\"108.4639\">A</text><line style=\"stroke:#181818;stroke-width:0.5;\" x1=\"232\" x2=\"329\" y1=\"116.7656\" y2=\"116.7656\"/><text fill=\"#000000\" font-family=\"sans-serif\" font-size=\"14\" lengthAdjust=\"spacing\" textLength=\"56\" x=\"237\" y=\"144.2795\">x: String</text><text fill=\"#000000\" font-family=\"sans-serif\" font-size=\"14\" lengthAdjust=\"spacing\" textLength=\"25\" x=\"237\" y=\"160.5764\">y: A</text><text fill=\"#000000\" font-family=\"sans-serif\" font-size=\"14\" font-style=\"italic\" lengthAdjust=\"spacing\" textLength=\"66\" x=\"247.5\" y=\"129.1123\">attributes</text></g></a><!--MD5=[09b614a08d8cba4a07c9adeb5e0fee81]\n",
       "class E3--><a href=\"psysml:30f6a8e4-9ac7-4724-976d-d9f1147f3701\" target=\"_top\" title=\"psysml:30f6a8e4-9ac7-4724-976d-d9f1147f3701\" xlink:actuate=\"onRequest\" xlink:href=\"psysml:30f6a8e4-9ac7-4724-976d-d9f1147f3701\" xlink:show=\"new\" xlink:title=\"psysml:30f6a8e4-9ac7-4724-976d-d9f1147f3701\" xlink:type=\"simple\"><g id=\"elem_E3\"><rect fill=\"#FFFFFF\" height=\"48.2656\" id=\"E3\" rx=\"10\" ry=\"10\" style=\"stroke:#181818;stroke-width:0.5;\" width=\"71\" x=\"61\" y=\"41\"/><text fill=\"#000000\" font-family=\"sans-serif\" font-size=\"12\" font-style=\"italic\" lengthAdjust=\"spacing\" textLength=\"69\" x=\"62\" y=\"57.1387\">«attribute»</text><text fill=\"#000000\" font-family=\"sans-serif\" font-size=\"14\" lengthAdjust=\"spacing\" textLength=\"26\" x=\"79.5\" y=\"72.9639\">a: A</text><line style=\"stroke:#181818;stroke-width:0.5;\" x1=\"62\" x2=\"131\" y1=\"81.2656\" y2=\"81.2656\"/></g></a><!--MD5=[ebbe1d658d1005bcc118a6aa81145e00]\n",
       "class E4--><a href=\"psysml:9fc68d1c-0eda-4ba7-8d2a-4dac99044350\" target=\"_top\" title=\"psysml:9fc68d1c-0eda-4ba7-8d2a-4dac99044350\" xlink:actuate=\"onRequest\" xlink:href=\"psysml:9fc68d1c-0eda-4ba7-8d2a-4dac99044350\" xlink:show=\"new\" xlink:title=\"psysml:9fc68d1c-0eda-4ba7-8d2a-4dac99044350\" xlink:type=\"simple\"><g id=\"elem_E4\"><rect fill=\"#FFFFFF\" height=\"48.2656\" id=\"E4\" style=\"stroke:#181818;stroke-width:0.5;\" width=\"112\" x=\"40.5\" y=\"124\"/><text fill=\"#000000\" font-family=\"sans-serif\" font-size=\"12\" font-style=\"italic\" lengthAdjust=\"spacing\" textLength=\"110\" x=\"41.5\" y=\"140.1387\">«calculation  def»</text><text fill=\"#000000\" font-family=\"sans-serif\" font-size=\"14\" lengthAdjust=\"spacing\" textLength=\"8\" x=\"92.5\" y=\"155.9639\">F</text><line style=\"stroke:#181818;stroke-width:0.5;\" x1=\"41.5\" x2=\"151.5\" y1=\"164.2656\" y2=\"164.2656\"/></g></a><!--MD5=[270fce915f116d4de14055a7c1d9a0f3]\n",
       "class E5--><a href=\"psysml:201caa5e-7003-43c9-93c7-31c1dd2687e1\" target=\"_top\" title=\"psysml:201caa5e-7003-43c9-93c7-31c1dd2687e1\" xlink:actuate=\"onRequest\" xlink:href=\"psysml:201caa5e-7003-43c9-93c7-31c1dd2687e1\" xlink:show=\"new\" xlink:title=\"psysml:201caa5e-7003-43c9-93c7-31c1dd2687e1\" xlink:type=\"simple\"><g id=\"elem_E5\"><rect fill=\"#FFFFFF\" height=\"75.0813\" id=\"E5\" rx=\"10\" ry=\"10\" style=\"stroke:#181818;stroke-width:0.5;\" width=\"71\" x=\"61\" y=\"207.5\"/><text fill=\"#000000\" font-family=\"sans-serif\" font-size=\"12\" font-style=\"italic\" lengthAdjust=\"spacing\" textLength=\"69\" x=\"62\" y=\"223.6387\">«attribute»</text><text fill=\"#000000\" font-family=\"sans-serif\" font-size=\"14\" lengthAdjust=\"spacing\" textLength=\"4\" x=\"90.5\" y=\"239.4639\">f</text><line style=\"stroke:#181818;stroke-width:0.5;\" x1=\"62\" x2=\"131\" y1=\"247.7656\" y2=\"247.7656\"/><text fill=\"#000000\" font-family=\"sans-serif\" font-size=\"14\" lengthAdjust=\"spacing\" textLength=\"59\" x=\"67\" y=\"275.2795\">= F(a, 2)</text><text fill=\"#000000\" font-family=\"sans-serif\" font-size=\"14\" font-style=\"italic\" lengthAdjust=\"spacing\" textLength=\"44\" x=\"74.5\" y=\"260.1123\">values</text></g></a><!--MD5=[60a26617385b1d2d0262a64233df1f8d]\n",
       "class E6--><a href=\"psysml:ef9d06c8-83aa-4b51-a725-4880c3e71513\" target=\"_top\" title=\"psysml:ef9d06c8-83aa-4b51-a725-4880c3e71513\" xlink:actuate=\"onRequest\" xlink:href=\"psysml:ef9d06c8-83aa-4b51-a725-4880c3e71513\" xlink:show=\"new\" xlink:title=\"psysml:ef9d06c8-83aa-4b51-a725-4880c3e71513\" xlink:type=\"simple\"><g id=\"elem_E6\"><rect fill=\"#FFFFFF\" height=\"75.0813\" id=\"E6\" rx=\"10\" ry=\"10\" style=\"stroke:#181818;stroke-width:0.5;\" width=\"129\" x=\"32\" y=\"317.5\"/><text fill=\"#000000\" font-family=\"sans-serif\" font-size=\"12\" font-style=\"italic\" lengthAdjust=\"spacing\" textLength=\"69\" x=\"62\" y=\"333.6387\">«attribute»</text><text fill=\"#000000\" font-family=\"sans-serif\" font-size=\"14\" lengthAdjust=\"spacing\" textLength=\"9\" x=\"88\" y=\"349.4639\">g</text><line style=\"stroke:#181818;stroke-width:0.5;\" x1=\"33\" x2=\"160\" y1=\"357.7656\" y2=\"357.7656\"/><text fill=\"#000000\" font-family=\"sans-serif\" font-size=\"14\" lengthAdjust=\"spacing\" textLength=\"117\" x=\"38\" y=\"385.2795\">= F(q = 1, p = a)</text><text fill=\"#000000\" font-family=\"sans-serif\" font-size=\"14\" font-style=\"italic\" lengthAdjust=\"spacing\" textLength=\"44\" x=\"74.5\" y=\"370.1123\">values</text></g></a><!--MD5=[2156ba9850f5573cc1fc38a6a4b2f02b]\n",
       "class E7--><a href=\"psysml:472a68ff-87fb-48cb-b812-c0679e72bd97\" target=\"_top\" title=\"psysml:472a68ff-87fb-48cb-b812-c0679e72bd97\" xlink:actuate=\"onRequest\" xlink:href=\"psysml:472a68ff-87fb-48cb-b812-c0679e72bd97\" xlink:show=\"new\" xlink:title=\"psysml:472a68ff-87fb-48cb-b812-c0679e72bd97\" xlink:type=\"simple\"><g id=\"elem_E7\"><rect fill=\"#FFFFFF\" height=\"75.0813\" id=\"E7\" rx=\"10\" ry=\"10\" style=\"stroke:#181818;stroke-width:0.5;\" width=\"111\" x=\"41\" y=\"427.5\"/><text fill=\"#000000\" font-family=\"sans-serif\" font-size=\"12\" font-style=\"italic\" lengthAdjust=\"spacing\" textLength=\"69\" x=\"62\" y=\"443.6387\">«attribute»</text><text fill=\"#000000\" font-family=\"sans-serif\" font-size=\"14\" lengthAdjust=\"spacing\" textLength=\"9\" x=\"88\" y=\"459.4639\">b</text><line style=\"stroke:#181818;stroke-width:0.5;\" x1=\"42\" x2=\"151\" y1=\"467.7656\" y2=\"467.7656\"/><text fill=\"#000000\" font-family=\"sans-serif\" font-size=\"14\" lengthAdjust=\"spacing\" textLength=\"99\" x=\"47\" y=\"495.2795\">= A(y=a, x=\"\")</text><text fill=\"#000000\" font-family=\"sans-serif\" font-size=\"14\" font-style=\"italic\" lengthAdjust=\"spacing\" textLength=\"44\" x=\"74.5\" y=\"480.1123\">values</text></g></a><!--MD5=[b9389687b975829384b498ac4b7476b2]\n",
       "class E8--><a href=\"psysml:b12c6daa-efd4-472f-91f1-7e0209b6a2bc\" target=\"_top\" title=\"psysml:b12c6daa-efd4-472f-91f1-7e0209b6a2bc\" xlink:actuate=\"onRequest\" xlink:href=\"psysml:b12c6daa-efd4-472f-91f1-7e0209b6a2bc\" xlink:show=\"new\" xlink:title=\"psysml:b12c6daa-efd4-472f-91f1-7e0209b6a2bc\" xlink:type=\"simple\"><g id=\"elem_E8\"><rect fill=\"#FFFFFF\" height=\"75.0813\" id=\"E8\" rx=\"10\" ry=\"10\" style=\"stroke:#181818;stroke-width:0.5;\" width=\"93\" x=\"50\" y=\"537.5\"/><text fill=\"#000000\" font-family=\"sans-serif\" font-size=\"12\" font-style=\"italic\" lengthAdjust=\"spacing\" textLength=\"69\" x=\"62\" y=\"553.6387\">«attribute»</text><text fill=\"#000000\" font-family=\"sans-serif\" font-size=\"14\" lengthAdjust=\"spacing\" textLength=\"8\" x=\"88.5\" y=\"569.4639\">c</text><line style=\"stroke:#181818;stroke-width:0.5;\" x1=\"51\" x2=\"142\" y1=\"577.7656\" y2=\"577.7656\"/><text fill=\"#000000\" font-family=\"sans-serif\" font-size=\"14\" lengthAdjust=\"spacing\" textLength=\"81\" x=\"56\" y=\"605.2795\">= A(\"test2\")</text><text fill=\"#000000\" font-family=\"sans-serif\" font-size=\"14\" font-style=\"italic\" lengthAdjust=\"spacing\" textLength=\"44\" x=\"74.5\" y=\"590.1123\">values</text></g></a><!--MD5=[05d275557350bfb9b23a4ef7222b4c39]\n",
       "link E3 to E2--><g id=\"link_E3_E2\"><a href=\"psysml:de703d0e-2ba0-4603-81fc-fcf4f6dc7e4d\" target=\"_top\" title=\"psysml:de703d0e-2ba0-4603-81fc-fcf4f6dc7e4d\" xlink:actuate=\"onRequest\" xlink:href=\"psysml:de703d0e-2ba0-4603-81fc-fcf4f6dc7e4d\" xlink:show=\"new\" xlink:title=\"psysml:de703d0e-2ba0-4603-81fc-fcf4f6dc7e4d\" xlink:type=\"simple\"><path d=\"M132.16,75.86 C154.54,82.87 184.42,92.22 211.42,100.68 \" fill=\"none\" id=\"E3-to-E2\" style=\"stroke:#181818;stroke-width:1.0;\"/><polygon fill=\"#FFFFFF\" points=\"230.88,106.77,210.6566,107.7772,214.837,94.4159,230.88,106.77\" style=\"stroke:#181818;stroke-width:1.0;\"/><ellipse cx=\"205.8139\" cy=\"104.1665\" fill=\"#181818\" rx=\"2\" ry=\"2\" style=\"stroke:#181818;stroke-width:1.0;\"/><ellipse cx=\"208.7999\" cy=\"94.6227\" fill=\"#181818\" rx=\"2\" ry=\"2\" style=\"stroke:#181818;stroke-width:1.0;\"/></a></g><!--MD5=[ddeed8deb2209213b62e6cfabaa108b2]\n",
       "reverse link E4 to E2--><g id=\"link_E4_E2\"><a href=\"psysml:c0525d75-8c24-4ff5-9432-36973c13d292\" target=\"_top\" title=\"psysml:c0525d75-8c24-4ff5-9432-36973c13d292\" xlink:actuate=\"onRequest\" xlink:href=\"psysml:c0525d75-8c24-4ff5-9432-36973c13d292\" xlink:show=\"new\" xlink:title=\"psysml:c0525d75-8c24-4ff5-9432-36973c13d292\" xlink:type=\"simple\"><path d=\"M165.77,138.25 C187.38,135.16 210.81,131.81 230.76,128.96 \" fill=\"none\" id=\"E4-backto-E2\" style=\"stroke:#181818;stroke-width:1.0;\"/><polygon fill=\"none\" points=\"152.6,140.13,159.1034,143.2453,164.4804,138.4403,157.977,135.325,152.6,140.13\" style=\"stroke:#181818;stroke-width:1.0;\"/><text fill=\"#000000\" font-family=\"sans-serif\" font-size=\"13\" lengthAdjust=\"spacing\" textLength=\"8\" x=\"192\" y=\"130.0669\">p</text></a></g><!--MD5=[cd54ca6c8b45cbe3027a58d8c5991f1d]\n",
       "@startuml\r\n",
       "skin sysmlbw\r\n",
       "skinparam monochrome true\r\n",
       "skinparam wrapWidth 300\r\n",
       "hide circle\r\n",
       "left to right direction\r\n",
       "\r\n",
       "package \"ParameterTest\" as E1  [[psysml:23a083da-d633-42aa-b737-bc534de6ad98 ]]  {\r\n",
       "comp def \"A\" as E2  <<(T,blue) attribute  def>> [[psysml:04ef3948-8524-44aa-a324-078bab0d23fb ]] {\r\n",
       "##//attributes//##\r\n",
       "x: String\r\n",
       "y: A\r\n",
       "}\r\n",
       "comp usage \"a: A  \" as E3  <<(T,blue) attribute>> [[psysml:30f6a8e4-9ac7-4724-976d-d9f1147f3701 ]] {\r\n",
       "}\r\n",
       "comp def \"F\" as E4  <<(T,blue) calculation  def>> [[psysml:9fc68d1c-0eda-4ba7-8d2a-4dac99044350 ]] {\r\n",
       "}\r\n",
       "comp usage \"f  \" as E5  <<(T,blue) attribute>> [[psysml:201caa5e-7003-43c9-93c7-31c1dd2687e1 ]] {\r\n",
       "##//values//##\r\n",
       " <U+003D> F(a, 2)\r\n",
       "}\r\n",
       "comp usage \"g  \" as E6  <<(T,blue) attribute>> [[psysml:ef9d06c8-83aa-4b51-a725-4880c3e71513 ]] {\r\n",
       "##//values//##\r\n",
       " <U+003D> F(q <U+003D> 1, p <U+003D> a)\r\n",
       "}\r\n",
       "comp usage \"b  \" as E7  <<(T,blue) attribute>> [[psysml:472a68ff-87fb-48cb-b812-c0679e72bd97 ]] {\r\n",
       "##//values//##\r\n",
       " <U+003D> A(y<U+003D>a, x<U+003D>\"\")\r\n",
       "}\r\n",
       "comp usage \"c  \" as E8  <<(T,blue) attribute>> [[psysml:b12c6daa-efd4-472f-91f1-7e0209b6a2bc ]] {\r\n",
       "##//values//##\r\n",
       " <U+003D> A(\"test2\")\r\n",
       "}\r\n",
       "}\r\n",
       "E3 - -:|> E2 [[psysml:de703d0e-2ba0-4603-81fc-fcf4f6dc7e4d ]] \r\n",
       "E4 o- - E2 [[psysml:c0525d75-8c24-4ff5-9432-36973c13d292 ]] : p\r\n",
       "@enduml\r\n",
       "\n",
       "PlantUML version 1.2022.7(Mon Aug 22 17:01:30 UTC 2022)\n",
       "(EPL source distribution)\n",
       "Java Runtime: OpenJDK Runtime Environment\n",
       "JVM: OpenJDK 64-Bit Server VM\n",
       "Default Encoding: UTF-8\n",
       "Language: en\n",
       "Country: null\n",
       "--></g></svg>"
      ]
     },
     "execution_count": 17,
     "metadata": {},
     "output_type": "execute_result"
    }
   ],
   "source": [
    "%viz --style=\"LR\" --view=\"Tree\" \"ParameterTest\""
   ]
  },
  {
   "cell_type": "code",
   "execution_count": 18,
   "id": "d59493b6",
   "metadata": {
    "execution": {
     "iopub.execute_input": "2024-12-16T03:23:34.509791Z",
     "iopub.status.busy": "2024-12-16T03:23:34.509548Z",
     "iopub.status.idle": "2024-12-16T03:23:34.517731Z",
     "shell.execute_reply": "2024-12-16T03:23:34.517509Z"
    }
   },
   "outputs": [
    {
     "data": {
      "image/svg+xml": [
       "<?xml version=\"1.0\" encoding=\"UTF-8\" standalone=\"no\"?><svg xmlns=\"http://www.w3.org/2000/svg\" xmlns:xlink=\"http://www.w3.org/1999/xlink\" contentStyleType=\"text/css\" height=\"10px\" preserveAspectRatio=\"none\" style=\"width:10px;height:10px;background:#FFFFFF;\" version=\"1.1\" viewBox=\"0 0 10 10\" width=\"10px\" zoomAndPan=\"magnify\"><defs/><g><!--MD5=[fb420fbd7a91d32138f4344b927a323c]\n",
       "@startuml\r\n",
       "skin sysmlbw\r\n",
       "skinparam monochrome true\r\n",
       "skinparam wrapWidth 300\r\n",
       "hide circle\r\n",
       "left to right direction\r\n",
       "\r\n",
       "@enduml\r\n",
       "\n",
       "PlantUML version 1.2022.7(Mon Aug 22 17:01:30 UTC 2022)\n",
       "(EPL source distribution)\n",
       "Java Runtime: OpenJDK Runtime Environment\n",
       "JVM: OpenJDK 64-Bit Server VM\n",
       "Default Encoding: UTF-8\n",
       "Language: en\n",
       "Country: null\n",
       "--></g></svg>"
      ]
     },
     "execution_count": 18,
     "metadata": {},
     "output_type": "execute_result"
    }
   ],
   "source": [
    "%viz --style=\"LR\" --view=\"State\" \"ParameterTest\""
   ]
  },
  {
   "cell_type": "code",
   "execution_count": 19,
   "id": "e29fac84",
   "metadata": {
    "execution": {
     "iopub.execute_input": "2024-12-16T03:23:34.572971Z",
     "iopub.status.busy": "2024-12-16T03:23:34.572747Z",
     "iopub.status.idle": "2024-12-16T03:23:34.600741Z",
     "shell.execute_reply": "2024-12-16T03:23:34.599957Z"
    }
   },
   "outputs": [
    {
     "data": {
      "image/svg+xml": [
       "<?xml version=\"1.0\" encoding=\"UTF-8\" standalone=\"no\"?><svg xmlns=\"http://www.w3.org/2000/svg\" xmlns:xlink=\"http://www.w3.org/1999/xlink\" contentStyleType=\"text/css\" height=\"654px\" preserveAspectRatio=\"none\" style=\"width:393px;height:654px;background:#FFFFFF;\" version=\"1.1\" viewBox=\"0 0 393 654\" width=\"393px\" zoomAndPan=\"magnify\"><defs/><g><!--MD5=[fbc87193dbaf4d95561dea2c320d4a47]\n",
       "cluster E1--><g id=\"cluster_E1\"><a href=\"psysml:23a083da-d633-42aa-b737-bc534de6ad98\" target=\"_top\" title=\"psysml:23a083da-d633-42aa-b737-bc534de6ad98\" xlink:actuate=\"onRequest\" xlink:href=\"psysml:23a083da-d633-42aa-b737-bc534de6ad98\" xlink:show=\"new\" xlink:title=\"psysml:23a083da-d633-42aa-b737-bc534de6ad98\" xlink:type=\"simple\"><polygon fill=\"none\" points=\"16,6,129.6875,6,136.6875,28.2969,376.72,28.2969,376.72,647,16,647,16,6\" style=\"stroke:#000000;stroke-width:1.5;\"/><line style=\"stroke:#000000;stroke-width:1.5;\" x1=\"16\" x2=\"136.6875\" y1=\"28.2969\" y2=\"28.2969\"/><text fill=\"#000000\" font-family=\"sans-serif\" font-size=\"14\" font-weight=\"bold\" lengthAdjust=\"spacing\" textLength=\"107.6875\" x=\"20\" y=\"20.9951\">ParameterTest</text></a></g><!--MD5=[f6df4d0ebaf0b5dfb2ced0ae5af7c670]\n",
       "cluster E4--><g id=\"cluster_E4\"><a href=\"psysml:9fc68d1c-0eda-4ba7-8d2a-4dac99044350\" target=\"_top\" title=\"psysml:9fc68d1c-0eda-4ba7-8d2a-4dac99044350\" xlink:actuate=\"onRequest\" xlink:href=\"psysml:9fc68d1c-0eda-4ba7-8d2a-4dac99044350\" xlink:show=\"new\" xlink:title=\"psysml:9fc68d1c-0eda-4ba7-8d2a-4dac99044350\" xlink:type=\"simple\"><rect fill=\"#FFFFFF\" height=\"47\" id=\"E4\" style=\"stroke:#383838;stroke-width:1.5;\" width=\"268.22\" x=\"78.5\" y=\"55\"/><text fill=\"#000000\" font-family=\"sans-serif\" font-size=\"12\" font-style=\"italic\" lengthAdjust=\"spacing\" textLength=\"110\" x=\"157.61\" y=\"71.1387\">«calculation  def»</text><text fill=\"#000000\" font-family=\"sans-serif\" font-size=\"14\" lengthAdjust=\"spacing\" textLength=\"8\" x=\"208.61\" y=\"86.9639\">F</text><line style=\"stroke:#383838;stroke-width:1.0;\" x1=\"78.5\" x2=\"346.72\" y1=\"95.2656\" y2=\"95.2656\"/></a></g><g><a href=\"psysml:04ef3948-8524-44aa-a324-078bab0d23fb\" target=\"_top\" title=\"psysml:04ef3948-8524-44aa-a324-078bab0d23fb\" xlink:actuate=\"onRequest\" xlink:href=\"psysml:04ef3948-8524-44aa-a324-078bab0d23fb\" xlink:show=\"new\" xlink:title=\"psysml:04ef3948-8524-44aa-a324-078bab0d23fb\" xlink:type=\"simple\"><rect fill=\"#FFFFFF\" height=\"45.2656\" id=\"E2\" style=\"stroke:#383838;stroke-width:1.5;\" width=\"104\" x=\"193.5\" y=\"144.5\"/><text fill=\"#000000\" font-family=\"sans-serif\" font-size=\"12\" font-style=\"italic\" lengthAdjust=\"spacing\" textLength=\"97\" x=\"197\" y=\"160.6387\">«attribute  def»</text><text fill=\"#000000\" font-family=\"sans-serif\" font-size=\"14\" lengthAdjust=\"spacing\" textLength=\"9\" x=\"241\" y=\"176.4639\">A</text></a></g><!--MD5=[09b614a08d8cba4a07c9adeb5e0fee81]\n",
       "class E3--><a href=\"psysml:30f6a8e4-9ac7-4724-976d-d9f1147f3701\" target=\"_top\" title=\"psysml:30f6a8e4-9ac7-4724-976d-d9f1147f3701\" xlink:actuate=\"onRequest\" xlink:href=\"psysml:30f6a8e4-9ac7-4724-976d-d9f1147f3701\" xlink:show=\"new\" xlink:title=\"psysml:30f6a8e4-9ac7-4724-976d-d9f1147f3701\" xlink:type=\"simple\"><g id=\"elem_E3\"><rect fill=\"#FFFFFF\" height=\"48.2656\" id=\"E3\" rx=\"10\" ry=\"10\" style=\"stroke:#181818;stroke-width:0.5;\" width=\"71\" x=\"61\" y=\"143\"/><text fill=\"#000000\" font-family=\"sans-serif\" font-size=\"12\" font-style=\"italic\" lengthAdjust=\"spacing\" textLength=\"69\" x=\"62\" y=\"159.1387\">«attribute»</text><text fill=\"#000000\" font-family=\"sans-serif\" font-size=\"14\" lengthAdjust=\"spacing\" textLength=\"26\" x=\"79.5\" y=\"174.9639\">a: A</text><line style=\"stroke:#181818;stroke-width:0.5;\" x1=\"62\" x2=\"131\" y1=\"183.2656\" y2=\"183.2656\"/></g></a><!--MD5=[b9389687b975829384b498ac4b7476b2]\n",
       "class E8--><a href=\"psysml:201caa5e-7003-43c9-93c7-31c1dd2687e1\" target=\"_top\" title=\"psysml:201caa5e-7003-43c9-93c7-31c1dd2687e1\" xlink:actuate=\"onRequest\" xlink:href=\"psysml:201caa5e-7003-43c9-93c7-31c1dd2687e1\" xlink:show=\"new\" xlink:title=\"psysml:201caa5e-7003-43c9-93c7-31c1dd2687e1\" xlink:type=\"simple\"><g id=\"elem_E8\"><rect fill=\"#FFFFFF\" height=\"75.0813\" id=\"E8\" rx=\"10\" ry=\"10\" style=\"stroke:#181818;stroke-width:0.5;\" width=\"71\" x=\"61\" y=\"226.5\"/><text fill=\"#000000\" font-family=\"sans-serif\" font-size=\"12\" font-style=\"italic\" lengthAdjust=\"spacing\" textLength=\"69\" x=\"62\" y=\"242.6387\">«attribute»</text><text fill=\"#000000\" font-family=\"sans-serif\" font-size=\"14\" lengthAdjust=\"spacing\" textLength=\"4\" x=\"90.5\" y=\"258.4639\">f</text><line style=\"stroke:#181818;stroke-width:0.5;\" x1=\"62\" x2=\"131\" y1=\"266.7656\" y2=\"266.7656\"/><text fill=\"#000000\" font-family=\"sans-serif\" font-size=\"14\" lengthAdjust=\"spacing\" textLength=\"59\" x=\"67\" y=\"294.2795\">= F(a, 2)</text><text fill=\"#000000\" font-family=\"sans-serif\" font-size=\"14\" font-style=\"italic\" lengthAdjust=\"spacing\" textLength=\"44\" x=\"74.5\" y=\"279.1123\">values</text></g></a><!--MD5=[fd4143e9d270a159db93a4ea2a975926]\n",
       "class E9--><a href=\"psysml:ef9d06c8-83aa-4b51-a725-4880c3e71513\" target=\"_top\" title=\"psysml:ef9d06c8-83aa-4b51-a725-4880c3e71513\" xlink:actuate=\"onRequest\" xlink:href=\"psysml:ef9d06c8-83aa-4b51-a725-4880c3e71513\" xlink:show=\"new\" xlink:title=\"psysml:ef9d06c8-83aa-4b51-a725-4880c3e71513\" xlink:type=\"simple\"><g id=\"elem_E9\"><rect fill=\"#FFFFFF\" height=\"75.0813\" id=\"E9\" rx=\"10\" ry=\"10\" style=\"stroke:#181818;stroke-width:0.5;\" width=\"129\" x=\"32\" y=\"336.5\"/><text fill=\"#000000\" font-family=\"sans-serif\" font-size=\"12\" font-style=\"italic\" lengthAdjust=\"spacing\" textLength=\"69\" x=\"62\" y=\"352.6387\">«attribute»</text><text fill=\"#000000\" font-family=\"sans-serif\" font-size=\"14\" lengthAdjust=\"spacing\" textLength=\"9\" x=\"88\" y=\"368.4639\">g</text><line style=\"stroke:#181818;stroke-width:0.5;\" x1=\"33\" x2=\"160\" y1=\"376.7656\" y2=\"376.7656\"/><text fill=\"#000000\" font-family=\"sans-serif\" font-size=\"14\" lengthAdjust=\"spacing\" textLength=\"117\" x=\"38\" y=\"404.2795\">= F(q = 1, p = a)</text><text fill=\"#000000\" font-family=\"sans-serif\" font-size=\"14\" font-style=\"italic\" lengthAdjust=\"spacing\" textLength=\"44\" x=\"74.5\" y=\"389.1123\">values</text></g></a><!--MD5=[96f4274e9e20536e775497830990834d]\n",
       "class E10--><a href=\"psysml:472a68ff-87fb-48cb-b812-c0679e72bd97\" target=\"_top\" title=\"psysml:472a68ff-87fb-48cb-b812-c0679e72bd97\" xlink:actuate=\"onRequest\" xlink:href=\"psysml:472a68ff-87fb-48cb-b812-c0679e72bd97\" xlink:show=\"new\" xlink:title=\"psysml:472a68ff-87fb-48cb-b812-c0679e72bd97\" xlink:type=\"simple\"><g id=\"elem_E10\"><rect fill=\"#FFFFFF\" height=\"75.0813\" id=\"E10\" rx=\"10\" ry=\"10\" style=\"stroke:#181818;stroke-width:0.5;\" width=\"111\" x=\"41\" y=\"446.5\"/><text fill=\"#000000\" font-family=\"sans-serif\" font-size=\"12\" font-style=\"italic\" lengthAdjust=\"spacing\" textLength=\"69\" x=\"62\" y=\"462.6387\">«attribute»</text><text fill=\"#000000\" font-family=\"sans-serif\" font-size=\"14\" lengthAdjust=\"spacing\" textLength=\"9\" x=\"88\" y=\"478.4639\">b</text><line style=\"stroke:#181818;stroke-width:0.5;\" x1=\"42\" x2=\"151\" y1=\"486.7656\" y2=\"486.7656\"/><text fill=\"#000000\" font-family=\"sans-serif\" font-size=\"14\" lengthAdjust=\"spacing\" textLength=\"99\" x=\"47\" y=\"514.2795\">= A(y=a, x=\"\")</text><text fill=\"#000000\" font-family=\"sans-serif\" font-size=\"14\" font-style=\"italic\" lengthAdjust=\"spacing\" textLength=\"44\" x=\"74.5\" y=\"499.1123\">values</text></g></a><!--MD5=[1dd1bfd58a279cf63c5f349dbc8fc6a1]\n",
       "class E11--><a href=\"psysml:b12c6daa-efd4-472f-91f1-7e0209b6a2bc\" target=\"_top\" title=\"psysml:b12c6daa-efd4-472f-91f1-7e0209b6a2bc\" xlink:actuate=\"onRequest\" xlink:href=\"psysml:b12c6daa-efd4-472f-91f1-7e0209b6a2bc\" xlink:show=\"new\" xlink:title=\"psysml:b12c6daa-efd4-472f-91f1-7e0209b6a2bc\" xlink:type=\"simple\"><g id=\"elem_E11\"><rect fill=\"#FFFFFF\" height=\"75.0813\" id=\"E11\" rx=\"10\" ry=\"10\" style=\"stroke:#181818;stroke-width:0.5;\" width=\"93\" x=\"50\" y=\"556.5\"/><text fill=\"#000000\" font-family=\"sans-serif\" font-size=\"12\" font-style=\"italic\" lengthAdjust=\"spacing\" textLength=\"69\" x=\"62\" y=\"572.6387\">«attribute»</text><text fill=\"#000000\" font-family=\"sans-serif\" font-size=\"14\" lengthAdjust=\"spacing\" textLength=\"8\" x=\"88.5\" y=\"588.4639\">c</text><line style=\"stroke:#181818;stroke-width:0.5;\" x1=\"51\" x2=\"142\" y1=\"596.7656\" y2=\"596.7656\"/><text fill=\"#000000\" font-family=\"sans-serif\" font-size=\"14\" lengthAdjust=\"spacing\" textLength=\"81\" x=\"56\" y=\"624.2795\">= A(\"test2\")</text><text fill=\"#000000\" font-family=\"sans-serif\" font-size=\"14\" font-style=\"italic\" lengthAdjust=\"spacing\" textLength=\"44\" x=\"74.5\" y=\"609.1123\">values</text></g></a><text fill=\"#000000\" font-family=\"sans-serif\" font-size=\"14\" lengthAdjust=\"spacing\" textLength=\"9\" x=\"92\" y=\"120.9951\">p</text><rect fill=\"#FFFFFF\" height=\"12\" style=\"stroke:#181818;stroke-width:1.5;\" width=\"12\" x=\"90.5\" y=\"96\"/><text fill=\"#000000\" font-family=\"sans-serif\" font-size=\"14\" lengthAdjust=\"spacing\" textLength=\"9\" x=\"92\" y=\"33.6982\">q</text><rect fill=\"#FFFFFF\" height=\"12\" style=\"stroke:#181818;stroke-width:1.5;\" width=\"12\" x=\"90.5\" y=\"49\"/><text fill=\"#000000\" font-family=\"sans-serif\" font-size=\"14\" lengthAdjust=\"spacing\" textLength=\"39\" x=\"327.22\" y=\"53.6982\">result</text><rect fill=\"#FFFFFF\" height=\"12\" style=\"stroke:#181818;stroke-width:1.5;\" width=\"12\" x=\"340.72\" y=\"69\"/><!--MD5=[05d275557350bfb9b23a4ef7222b4c39]\n",
       "link E3 to E2--><g id=\"link_E3_E2\"><a href=\"psysml:de703d0e-2ba0-4603-81fc-fcf4f6dc7e4d\" target=\"_top\" title=\"psysml:de703d0e-2ba0-4603-81fc-fcf4f6dc7e4d\" xlink:actuate=\"onRequest\" xlink:href=\"psysml:de703d0e-2ba0-4603-81fc-fcf4f6dc7e4d\" xlink:show=\"new\" xlink:title=\"psysml:de703d0e-2ba0-4603-81fc-fcf4f6dc7e4d\" xlink:type=\"simple\"><path d=\"M132.34,167 C144.6,167 158.87,167 173.04,167 \" fill=\"none\" id=\"E3-to-E2\" style=\"stroke:#181818;stroke-width:1.0;\"/><polygon fill=\"#FFFFFF\" points=\"193.49,167,174.49,174,174.49,160,193.49,167\" style=\"stroke:#181818;stroke-width:1.0;\"/><ellipse cx=\"168.79\" cy=\"172\" fill=\"#181818\" rx=\"2\" ry=\"2\" style=\"stroke:#181818;stroke-width:1.0;\"/><ellipse cx=\"168.79\" cy=\"162\" fill=\"#181818\" rx=\"2\" ry=\"2\" style=\"stroke:#181818;stroke-width:1.0;\"/></a></g><!--MD5=[60c85304ae7023046b7d919a0a04cff3]\n",
       "@startuml\r\n",
       "skin sysmlbw\r\n",
       "skinparam monochrome true\r\n",
       "skinparam wrapWidth 300\r\n",
       "hide circle\r\n",
       "left to right direction\r\n",
       "skinparam ranksep 10\r\n",
       "skinparam rectangle {\r\n",
       " backgroundColor<<block>> LightGreen\r\n",
       "}\r\n",
       "\r\n",
       "package \"ParameterTest\" as E1  [[psysml:23a083da-d633-42aa-b737-bc534de6ad98 ]]  {\r\n",
       "def \"A\" as E2  <<(T,blue) attribute  def>> [[psysml:04ef3948-8524-44aa-a324-078bab0d23fb ]] \r\n",
       "comp usage \"a: A  \" as E3  <<(T,blue) attribute>> [[psysml:30f6a8e4-9ac7-4724-976d-d9f1147f3701 ]] {\r\n",
       "}\r\n",
       "rec def \"F\" as E4  <<(T,blue) calculation  def>> [[psysml:9fc68d1c-0eda-4ba7-8d2a-4dac99044350 ]] {\r\n",
       "portin \"p\" as E5  [[psysml:c0525d75-8c24-4ff5-9432-36973c13d292 ]] \r\n",
       "portin \"q\" as E6  [[psysml:ea5aeb99-c612-42a4-b65a-a51f249da328 ]] \r\n",
       "portout \"result\" as E7  [[psysml:ef9cf0a8-f443-48d9-b6fd-29ed95d8a001 ]] \r\n",
       "}\r\n",
       "\r\n",
       "comp usage \"f  \" as E8  <<(T,blue) attribute>> [[psysml:201caa5e-7003-43c9-93c7-31c1dd2687e1 ]] {\r\n",
       "##//values//##\r\n",
       " <U+003D> F(a, 2)\r\n",
       "}\r\n",
       "comp usage \"g  \" as E9  <<(T,blue) attribute>> [[psysml:ef9d06c8-83aa-4b51-a725-4880c3e71513 ]] {\r\n",
       "##//values//##\r\n",
       " <U+003D> F(q <U+003D> 1, p <U+003D> a)\r\n",
       "}\r\n",
       "comp usage \"b  \" as E10  <<(T,blue) attribute>> [[psysml:472a68ff-87fb-48cb-b812-c0679e72bd97 ]] {\r\n",
       "##//values//##\r\n",
       " <U+003D> A(y<U+003D>a, x<U+003D>\"\")\r\n",
       "}\r\n",
       "comp usage \"c  \" as E11  <<(T,blue) attribute>> [[psysml:b12c6daa-efd4-472f-91f1-7e0209b6a2bc ]] {\r\n",
       "##//values//##\r\n",
       " <U+003D> A(\"test2\")\r\n",
       "}\r\n",
       "}\r\n",
       "E3 - -:|> E2 [[psysml:de703d0e-2ba0-4603-81fc-fcf4f6dc7e4d ]] \r\n",
       "@enduml\r\n",
       "\n",
       "PlantUML version 1.2022.7(Mon Aug 22 17:01:30 UTC 2022)\n",
       "(EPL source distribution)\n",
       "Java Runtime: OpenJDK Runtime Environment\n",
       "JVM: OpenJDK 64-Bit Server VM\n",
       "Default Encoding: UTF-8\n",
       "Language: en\n",
       "Country: null\n",
       "--></g></svg>"
      ]
     },
     "execution_count": 19,
     "metadata": {},
     "output_type": "execute_result"
    }
   ],
   "source": [
    "%viz --style=\"LR\" --view=\"Interconnection\" \"ParameterTest\""
   ]
  },
  {
   "cell_type": "code",
   "execution_count": 20,
   "id": "b3366372",
   "metadata": {
    "execution": {
     "iopub.execute_input": "2024-12-16T03:23:34.652035Z",
     "iopub.status.busy": "2024-12-16T03:23:34.651658Z",
     "iopub.status.idle": "2024-12-16T03:23:34.670668Z",
     "shell.execute_reply": "2024-12-16T03:23:34.670475Z"
    }
   },
   "outputs": [
    {
     "data": {
      "image/svg+xml": [
       "<?xml version=\"1.0\" encoding=\"UTF-8\" standalone=\"no\"?><svg xmlns=\"http://www.w3.org/2000/svg\" xmlns:xlink=\"http://www.w3.org/1999/xlink\" contentStyleType=\"text/css\" height=\"116px\" preserveAspectRatio=\"none\" style=\"width:241px;height:116px;background:#FFFFFF;\" version=\"1.1\" viewBox=\"0 0 241 116\" width=\"241px\" zoomAndPan=\"magnify\"><defs/><g><!--MD5=[fbc87193dbaf4d95561dea2c320d4a47]\n",
       "cluster E1--><g id=\"cluster_E1\"><a href=\"psysml:9fc68d1c-0eda-4ba7-8d2a-4dac99044350\" target=\"_top\" title=\"psysml:9fc68d1c-0eda-4ba7-8d2a-4dac99044350\" xlink:actuate=\"onRequest\" xlink:href=\"psysml:9fc68d1c-0eda-4ba7-8d2a-4dac99044350\" xlink:show=\"new\" xlink:title=\"psysml:9fc68d1c-0eda-4ba7-8d2a-4dac99044350\" xlink:type=\"simple\"><rect fill=\"#FFFFFF\" height=\"47\" id=\"E1\" style=\"stroke:#383838;stroke-width:1.5;\" width=\"207.72\" x=\"7\" y=\"42.0986\"/><text fill=\"#000000\" font-family=\"sans-serif\" font-size=\"12\" font-style=\"italic\" lengthAdjust=\"spacing\" textLength=\"110\" x=\"55.86\" y=\"58.2373\">«calculation  def»</text><text fill=\"#000000\" font-family=\"sans-serif\" font-size=\"14\" lengthAdjust=\"spacing\" textLength=\"8\" x=\"106.86\" y=\"74.0625\">F</text><line style=\"stroke:#383838;stroke-width:1.0;\" x1=\"7\" x2=\"214.72\" y1=\"82.3643\" y2=\"82.3643\"/></a></g><text fill=\"#000000\" font-family=\"sans-serif\" font-size=\"14\" lengthAdjust=\"spacing\" textLength=\"9\" x=\"20.5\" y=\"108.0938\">p</text><rect fill=\"#FFFFFF\" height=\"12\" style=\"stroke:#181818;stroke-width:1.5;\" width=\"12\" x=\"19\" y=\"83.0986\"/><text fill=\"#000000\" font-family=\"sans-serif\" font-size=\"14\" lengthAdjust=\"spacing\" textLength=\"9\" x=\"20.5\" y=\"20.7969\">q</text><rect fill=\"#FFFFFF\" height=\"12\" style=\"stroke:#181818;stroke-width:1.5;\" width=\"12\" x=\"19\" y=\"36.0986\"/><text fill=\"#000000\" font-family=\"sans-serif\" font-size=\"14\" lengthAdjust=\"spacing\" textLength=\"39\" x=\"195.22\" y=\"40.7969\">result</text><rect fill=\"#FFFFFF\" height=\"12\" style=\"stroke:#181818;stroke-width:1.5;\" width=\"12\" x=\"208.72\" y=\"56.0986\"/><!--MD5=[fd1c9cbed4ca45a72ca7dc8900a0d646]\n",
       "@startuml\r\n",
       "skin sysmlbw\r\n",
       "skinparam monochrome true\r\n",
       "skinparam wrapWidth 300\r\n",
       "hide circle\r\n",
       "left to right direction\r\n",
       "skinparam ranksep 8\r\n",
       "\r\n",
       "rec def \"F\" as E1  <<(T,blue) calculation  def>> [[psysml:9fc68d1c-0eda-4ba7-8d2a-4dac99044350 ]] {\r\n",
       "portin \"p\" as E2  [[psysml:c0525d75-8c24-4ff5-9432-36973c13d292 ]] \r\n",
       "portin \"q\" as E3  [[psysml:ea5aeb99-c612-42a4-b65a-a51f249da328 ]] \r\n",
       "portout \"result\" as E4  [[psysml:ef9cf0a8-f443-48d9-b6fd-29ed95d8a001 ]] \r\n",
       "}\r\n",
       "\r\n",
       "@enduml\r\n",
       "\n",
       "PlantUML version 1.2022.7(Mon Aug 22 17:01:30 UTC 2022)\n",
       "(EPL source distribution)\n",
       "Java Runtime: OpenJDK Runtime Environment\n",
       "JVM: OpenJDK 64-Bit Server VM\n",
       "Default Encoding: UTF-8\n",
       "Language: en\n",
       "Country: null\n",
       "--></g></svg>"
      ]
     },
     "execution_count": 20,
     "metadata": {},
     "output_type": "execute_result"
    }
   ],
   "source": [
    "%viz --style=\"LR\" --view=\"Action\" \"ParameterTest\""
   ]
  },
  {
   "cell_type": "code",
   "execution_count": 21,
   "id": "948d15a7",
   "metadata": {
    "execution": {
     "iopub.execute_input": "2024-12-16T03:23:34.726575Z",
     "iopub.status.busy": "2024-12-16T03:23:34.726347Z",
     "iopub.status.idle": "2024-12-16T03:23:34.733030Z",
     "shell.execute_reply": "2024-12-16T03:23:34.732854Z"
    }
   },
   "outputs": [
    {
     "data": {
      "image/svg+xml": [
       "<?xml version=\"1.0\" encoding=\"UTF-8\" standalone=\"no\"?><svg xmlns=\"http://www.w3.org/2000/svg\" xmlns:xlink=\"http://www.w3.org/1999/xlink\" contentStyleType=\"text/css\" height=\"10px\" preserveAspectRatio=\"none\" style=\"width:10px;height:10px;background:#FFFFFF;\" version=\"1.1\" viewBox=\"0 0 10 10\" width=\"10px\" zoomAndPan=\"magnify\"><defs/><g><!--MD5=[3d7abb46b795db4c9d99c7acf425de78]\n",
       "@startuml\r\n",
       "skin sysmlbw\r\n",
       "skinparam monochrome true\r\n",
       "skinparam wrapWidth 300\r\n",
       "hide circle\r\n",
       "left to right direction\r\n",
       "skinparam roundcorner 20\r\n",
       "skinparam BoxPadding 20\r\n",
       "skinparam SequenceBoxBackgroundColor #white\r\n",
       "skinparam style strictuml\r\n",
       "skinparam maxMessageSize 100\r\n",
       "\r\n",
       "@enduml\r\n",
       "\n",
       "PlantUML version 1.2022.7(Mon Aug 22 17:01:30 UTC 2022)\n",
       "(EPL source distribution)\n",
       "Java Runtime: OpenJDK Runtime Environment\n",
       "JVM: OpenJDK 64-Bit Server VM\n",
       "Default Encoding: UTF-8\n",
       "Language: en\n",
       "Country: null\n",
       "--></g></svg>"
      ]
     },
     "execution_count": 21,
     "metadata": {},
     "output_type": "execute_result"
    }
   ],
   "source": [
    "%viz --style=\"LR\" --view=\"Sequence\" \"ParameterTest\""
   ]
  },
  {
   "cell_type": "code",
   "execution_count": 22,
   "id": "c0a62484",
   "metadata": {
    "execution": {
     "iopub.execute_input": "2024-12-16T03:23:34.785749Z",
     "iopub.status.busy": "2024-12-16T03:23:34.785554Z",
     "iopub.status.idle": "2024-12-16T03:23:34.816602Z",
     "shell.execute_reply": "2024-12-16T03:23:34.815725Z"
    }
   },
   "outputs": [
    {
     "data": {
      "image/svg+xml": [
       "<?xml version=\"1.0\" encoding=\"UTF-8\" standalone=\"no\"?><svg xmlns=\"http://www.w3.org/2000/svg\" xmlns:xlink=\"http://www.w3.org/1999/xlink\" contentStyleType=\"text/css\" height=\"654px\" preserveAspectRatio=\"none\" style=\"width:531px;height:654px;background:#FFFFFF;\" version=\"1.1\" viewBox=\"0 0 531 654\" width=\"531px\" zoomAndPan=\"magnify\"><defs/><g><!--MD5=[fbc87193dbaf4d95561dea2c320d4a47]\n",
       "cluster E1--><g id=\"cluster_E1\"><a href=\"psysml:23a083da-d633-42aa-b737-bc534de6ad98\" target=\"_top\" title=\"psysml:23a083da-d633-42aa-b737-bc534de6ad98\" xlink:actuate=\"onRequest\" xlink:href=\"psysml:23a083da-d633-42aa-b737-bc534de6ad98\" xlink:show=\"new\" xlink:title=\"psysml:23a083da-d633-42aa-b737-bc534de6ad98\" xlink:type=\"simple\"><polygon fill=\"none\" points=\"16,6,129.6875,6,136.6875,28.2969,514.72,28.2969,514.72,647,16,647,16,6\" style=\"stroke:#000000;stroke-width:1.5;\"/><line style=\"stroke:#000000;stroke-width:1.5;\" x1=\"16\" x2=\"136.6875\" y1=\"28.2969\" y2=\"28.2969\"/><text fill=\"#000000\" font-family=\"sans-serif\" font-size=\"14\" font-weight=\"bold\" lengthAdjust=\"spacing\" textLength=\"107.6875\" x=\"20\" y=\"20.9951\">ParameterTest</text></a></g><!--MD5=[f6df4d0ebaf0b5dfb2ced0ae5af7c670]\n",
       "cluster E4--><g id=\"cluster_E4\"><a href=\"psysml:9fc68d1c-0eda-4ba7-8d2a-4dac99044350\" target=\"_top\" title=\"psysml:9fc68d1c-0eda-4ba7-8d2a-4dac99044350\" xlink:actuate=\"onRequest\" xlink:href=\"psysml:9fc68d1c-0eda-4ba7-8d2a-4dac99044350\" xlink:show=\"new\" xlink:title=\"psysml:9fc68d1c-0eda-4ba7-8d2a-4dac99044350\" xlink:type=\"simple\"><rect fill=\"#FFFFFF\" height=\"47\" id=\"E4\" style=\"stroke:#383838;stroke-width:1.5;\" width=\"406.22\" x=\"78.5\" y=\"55\"/><text fill=\"#000000\" font-family=\"sans-serif\" font-size=\"12\" font-style=\"italic\" lengthAdjust=\"spacing\" textLength=\"110\" x=\"226.61\" y=\"71.1387\">«calculation  def»</text><text fill=\"#000000\" font-family=\"sans-serif\" font-size=\"14\" lengthAdjust=\"spacing\" textLength=\"8\" x=\"277.61\" y=\"86.9639\">F</text><line style=\"stroke:#383838;stroke-width:1.0;\" x1=\"78.5\" x2=\"484.72\" y1=\"95.2656\" y2=\"95.2656\"/></a></g><!--MD5=[b4997ac47864f28c2f74865a473b2911]\n",
       "class E2--><a href=\"psysml:04ef3948-8524-44aa-a324-078bab0d23fb\" target=\"_top\" title=\"psysml:04ef3948-8524-44aa-a324-078bab0d23fb\" xlink:actuate=\"onRequest\" xlink:href=\"psysml:04ef3948-8524-44aa-a324-078bab0d23fb\" xlink:show=\"new\" xlink:title=\"psysml:04ef3948-8524-44aa-a324-078bab0d23fb\" xlink:type=\"simple\"><g id=\"elem_E2\"><rect fill=\"#FFFFFF\" height=\"91.3781\" id=\"E2\" style=\"stroke:#181818;stroke-width:0.5;\" width=\"99\" x=\"240\" y=\"127.5\"/><text fill=\"#000000\" font-family=\"sans-serif\" font-size=\"12\" font-style=\"italic\" lengthAdjust=\"spacing\" textLength=\"97\" x=\"241\" y=\"143.6387\">«attribute  def»</text><text fill=\"#000000\" font-family=\"sans-serif\" font-size=\"14\" lengthAdjust=\"spacing\" textLength=\"9\" x=\"285\" y=\"159.4639\">A</text><line style=\"stroke:#181818;stroke-width:0.5;\" x1=\"241\" x2=\"338\" y1=\"167.7656\" y2=\"167.7656\"/><text fill=\"#000000\" font-family=\"sans-serif\" font-size=\"14\" lengthAdjust=\"spacing\" textLength=\"56\" x=\"246\" y=\"195.2795\">x: String</text><text fill=\"#000000\" font-family=\"sans-serif\" font-size=\"14\" lengthAdjust=\"spacing\" textLength=\"25\" x=\"246\" y=\"211.5764\">y: A</text><text fill=\"#000000\" font-family=\"sans-serif\" font-size=\"14\" font-style=\"italic\" lengthAdjust=\"spacing\" textLength=\"66\" x=\"256.5\" y=\"180.1123\">attributes</text></g></a><!--MD5=[09b614a08d8cba4a07c9adeb5e0fee81]\n",
       "class E3--><a href=\"psysml:30f6a8e4-9ac7-4724-976d-d9f1147f3701\" target=\"_top\" title=\"psysml:30f6a8e4-9ac7-4724-976d-d9f1147f3701\" xlink:actuate=\"onRequest\" xlink:href=\"psysml:30f6a8e4-9ac7-4724-976d-d9f1147f3701\" xlink:show=\"new\" xlink:title=\"psysml:30f6a8e4-9ac7-4724-976d-d9f1147f3701\" xlink:type=\"simple\"><g id=\"elem_E3\"><rect fill=\"#FFFFFF\" height=\"48.2656\" id=\"E3\" rx=\"10\" ry=\"10\" style=\"stroke:#181818;stroke-width:0.5;\" width=\"71\" x=\"61\" y=\"143\"/><text fill=\"#000000\" font-family=\"sans-serif\" font-size=\"12\" font-style=\"italic\" lengthAdjust=\"spacing\" textLength=\"69\" x=\"62\" y=\"159.1387\">«attribute»</text><text fill=\"#000000\" font-family=\"sans-serif\" font-size=\"14\" lengthAdjust=\"spacing\" textLength=\"26\" x=\"79.5\" y=\"174.9639\">a: A</text><line style=\"stroke:#181818;stroke-width:0.5;\" x1=\"62\" x2=\"131\" y1=\"183.2656\" y2=\"183.2656\"/></g></a><!--MD5=[b9389687b975829384b498ac4b7476b2]\n",
       "class E8--><a href=\"psysml:201caa5e-7003-43c9-93c7-31c1dd2687e1\" target=\"_top\" title=\"psysml:201caa5e-7003-43c9-93c7-31c1dd2687e1\" xlink:actuate=\"onRequest\" xlink:href=\"psysml:201caa5e-7003-43c9-93c7-31c1dd2687e1\" xlink:show=\"new\" xlink:title=\"psysml:201caa5e-7003-43c9-93c7-31c1dd2687e1\" xlink:type=\"simple\"><g id=\"elem_E8\"><rect fill=\"#FFFFFF\" height=\"75.0813\" id=\"E8\" rx=\"10\" ry=\"10\" style=\"stroke:#181818;stroke-width:0.5;\" width=\"71\" x=\"61\" y=\"226.5\"/><text fill=\"#000000\" font-family=\"sans-serif\" font-size=\"12\" font-style=\"italic\" lengthAdjust=\"spacing\" textLength=\"69\" x=\"62\" y=\"242.6387\">«attribute»</text><text fill=\"#000000\" font-family=\"sans-serif\" font-size=\"14\" lengthAdjust=\"spacing\" textLength=\"4\" x=\"90.5\" y=\"258.4639\">f</text><line style=\"stroke:#181818;stroke-width:0.5;\" x1=\"62\" x2=\"131\" y1=\"266.7656\" y2=\"266.7656\"/><text fill=\"#000000\" font-family=\"sans-serif\" font-size=\"14\" lengthAdjust=\"spacing\" textLength=\"59\" x=\"67\" y=\"294.2795\">= F(a, 2)</text><text fill=\"#000000\" font-family=\"sans-serif\" font-size=\"14\" font-style=\"italic\" lengthAdjust=\"spacing\" textLength=\"44\" x=\"74.5\" y=\"279.1123\">values</text></g></a><!--MD5=[fd4143e9d270a159db93a4ea2a975926]\n",
       "class E9--><a href=\"psysml:ef9d06c8-83aa-4b51-a725-4880c3e71513\" target=\"_top\" title=\"psysml:ef9d06c8-83aa-4b51-a725-4880c3e71513\" xlink:actuate=\"onRequest\" xlink:href=\"psysml:ef9d06c8-83aa-4b51-a725-4880c3e71513\" xlink:show=\"new\" xlink:title=\"psysml:ef9d06c8-83aa-4b51-a725-4880c3e71513\" xlink:type=\"simple\"><g id=\"elem_E9\"><rect fill=\"#FFFFFF\" height=\"75.0813\" id=\"E9\" rx=\"10\" ry=\"10\" style=\"stroke:#181818;stroke-width:0.5;\" width=\"129\" x=\"32\" y=\"336.5\"/><text fill=\"#000000\" font-family=\"sans-serif\" font-size=\"12\" font-style=\"italic\" lengthAdjust=\"spacing\" textLength=\"69\" x=\"62\" y=\"352.6387\">«attribute»</text><text fill=\"#000000\" font-family=\"sans-serif\" font-size=\"14\" lengthAdjust=\"spacing\" textLength=\"9\" x=\"88\" y=\"368.4639\">g</text><line style=\"stroke:#181818;stroke-width:0.5;\" x1=\"33\" x2=\"160\" y1=\"376.7656\" y2=\"376.7656\"/><text fill=\"#000000\" font-family=\"sans-serif\" font-size=\"14\" lengthAdjust=\"spacing\" textLength=\"117\" x=\"38\" y=\"404.2795\">= F(q = 1, p = a)</text><text fill=\"#000000\" font-family=\"sans-serif\" font-size=\"14\" font-style=\"italic\" lengthAdjust=\"spacing\" textLength=\"44\" x=\"74.5\" y=\"389.1123\">values</text></g></a><!--MD5=[96f4274e9e20536e775497830990834d]\n",
       "class E10--><a href=\"psysml:472a68ff-87fb-48cb-b812-c0679e72bd97\" target=\"_top\" title=\"psysml:472a68ff-87fb-48cb-b812-c0679e72bd97\" xlink:actuate=\"onRequest\" xlink:href=\"psysml:472a68ff-87fb-48cb-b812-c0679e72bd97\" xlink:show=\"new\" xlink:title=\"psysml:472a68ff-87fb-48cb-b812-c0679e72bd97\" xlink:type=\"simple\"><g id=\"elem_E10\"><rect fill=\"#FFFFFF\" height=\"75.0813\" id=\"E10\" rx=\"10\" ry=\"10\" style=\"stroke:#181818;stroke-width:0.5;\" width=\"111\" x=\"41\" y=\"446.5\"/><text fill=\"#000000\" font-family=\"sans-serif\" font-size=\"12\" font-style=\"italic\" lengthAdjust=\"spacing\" textLength=\"69\" x=\"62\" y=\"462.6387\">«attribute»</text><text fill=\"#000000\" font-family=\"sans-serif\" font-size=\"14\" lengthAdjust=\"spacing\" textLength=\"9\" x=\"88\" y=\"478.4639\">b</text><line style=\"stroke:#181818;stroke-width:0.5;\" x1=\"42\" x2=\"151\" y1=\"486.7656\" y2=\"486.7656\"/><text fill=\"#000000\" font-family=\"sans-serif\" font-size=\"14\" lengthAdjust=\"spacing\" textLength=\"99\" x=\"47\" y=\"514.2795\">= A(y=a, x=\"\")</text><text fill=\"#000000\" font-family=\"sans-serif\" font-size=\"14\" font-style=\"italic\" lengthAdjust=\"spacing\" textLength=\"44\" x=\"74.5\" y=\"499.1123\">values</text></g></a><!--MD5=[1dd1bfd58a279cf63c5f349dbc8fc6a1]\n",
       "class E11--><a href=\"psysml:b12c6daa-efd4-472f-91f1-7e0209b6a2bc\" target=\"_top\" title=\"psysml:b12c6daa-efd4-472f-91f1-7e0209b6a2bc\" xlink:actuate=\"onRequest\" xlink:href=\"psysml:b12c6daa-efd4-472f-91f1-7e0209b6a2bc\" xlink:show=\"new\" xlink:title=\"psysml:b12c6daa-efd4-472f-91f1-7e0209b6a2bc\" xlink:type=\"simple\"><g id=\"elem_E11\"><rect fill=\"#FFFFFF\" height=\"75.0813\" id=\"E11\" rx=\"10\" ry=\"10\" style=\"stroke:#181818;stroke-width:0.5;\" width=\"93\" x=\"50\" y=\"556.5\"/><text fill=\"#000000\" font-family=\"sans-serif\" font-size=\"12\" font-style=\"italic\" lengthAdjust=\"spacing\" textLength=\"69\" x=\"62\" y=\"572.6387\">«attribute»</text><text fill=\"#000000\" font-family=\"sans-serif\" font-size=\"14\" lengthAdjust=\"spacing\" textLength=\"8\" x=\"88.5\" y=\"588.4639\">c</text><line style=\"stroke:#181818;stroke-width:0.5;\" x1=\"51\" x2=\"142\" y1=\"596.7656\" y2=\"596.7656\"/><text fill=\"#000000\" font-family=\"sans-serif\" font-size=\"14\" lengthAdjust=\"spacing\" textLength=\"81\" x=\"56\" y=\"624.2795\">= A(\"test2\")</text><text fill=\"#000000\" font-family=\"sans-serif\" font-size=\"14\" font-style=\"italic\" lengthAdjust=\"spacing\" textLength=\"44\" x=\"74.5\" y=\"609.1123\">values</text></g></a><text fill=\"#000000\" font-family=\"sans-serif\" font-size=\"14\" lengthAdjust=\"spacing\" textLength=\"9\" x=\"92\" y=\"120.9951\">p</text><rect fill=\"#FFFFFF\" height=\"12\" style=\"stroke:#181818;stroke-width:1.5;\" width=\"12\" x=\"90.5\" y=\"96\"/><text fill=\"#000000\" font-family=\"sans-serif\" font-size=\"14\" lengthAdjust=\"spacing\" textLength=\"9\" x=\"92\" y=\"33.6982\">q</text><rect fill=\"#FFFFFF\" height=\"12\" style=\"stroke:#181818;stroke-width:1.5;\" width=\"12\" x=\"90.5\" y=\"49\"/><text fill=\"#000000\" font-family=\"sans-serif\" font-size=\"14\" lengthAdjust=\"spacing\" textLength=\"39\" x=\"465.22\" y=\"53.6982\">result</text><rect fill=\"#FFFFFF\" height=\"12\" style=\"stroke:#181818;stroke-width:1.5;\" width=\"12\" x=\"478.72\" y=\"69\"/><!--MD5=[05d275557350bfb9b23a4ef7222b4c39]\n",
       "link E3 to E2--><g id=\"link_E3_E2\"><a href=\"psysml:de703d0e-2ba0-4603-81fc-fcf4f6dc7e4d\" target=\"_top\" title=\"psysml:de703d0e-2ba0-4603-81fc-fcf4f6dc7e4d\" xlink:actuate=\"onRequest\" xlink:href=\"psysml:de703d0e-2ba0-4603-81fc-fcf4f6dc7e4d\" xlink:show=\"new\" xlink:title=\"psysml:de703d0e-2ba0-4603-81fc-fcf4f6dc7e4d\" xlink:type=\"simple\"><path d=\"M132.09,168.09 C156.43,168.85 189.83,169.9 219.51,170.83 \" fill=\"none\" id=\"E3-to-E2\" style=\"stroke:#181818;stroke-width:1.0;\"/><polygon fill=\"#FFFFFF\" points=\"239.8,171.47,220.5893,177.8693,221.0294,163.8762,239.8,171.47\" style=\"stroke:#181818;stroke-width:1.0;\"/><ellipse cx=\"214.955\" cy=\"175.6911\" fill=\"#181818\" rx=\"2\" ry=\"2\" style=\"stroke:#181818;stroke-width:1.0;\"/><ellipse cx=\"215.2694\" cy=\"165.696\" fill=\"#181818\" rx=\"2\" ry=\"2\" style=\"stroke:#181818;stroke-width:1.0;\"/></a></g><!--MD5=[4710c2c6ed3513462917da33ee1e393c]\n",
       "@startuml\r\n",
       "skin sysmlbw\r\n",
       "skinparam monochrome true\r\n",
       "skinparam wrapWidth 300\r\n",
       "hide circle\r\n",
       "left to right direction\r\n",
       "\r\n",
       "package \"ParameterTest\" as E1  [[psysml:23a083da-d633-42aa-b737-bc534de6ad98 ]]  {\r\n",
       "comp def \"A\" as E2  <<(T,blue) attribute  def>> [[psysml:04ef3948-8524-44aa-a324-078bab0d23fb ]] {\r\n",
       "##//attributes//##\r\n",
       "x: String\r\n",
       "y: A\r\n",
       "}\r\n",
       "comp usage \"a: A  \" as E3  <<(T,blue) attribute>> [[psysml:30f6a8e4-9ac7-4724-976d-d9f1147f3701 ]] {\r\n",
       "}\r\n",
       "rec def \"F\" as E4  <<(T,blue) calculation  def>> [[psysml:9fc68d1c-0eda-4ba7-8d2a-4dac99044350 ]] {\r\n",
       "portin \"p\" as E5  [[psysml:c0525d75-8c24-4ff5-9432-36973c13d292 ]] \r\n",
       "portin \"q\" as E6  [[psysml:ea5aeb99-c612-42a4-b65a-a51f249da328 ]] \r\n",
       "portout \"result\" as E7  [[psysml:ef9cf0a8-f443-48d9-b6fd-29ed95d8a001 ]] \r\n",
       "}\r\n",
       "\r\n",
       "comp usage \"f  \" as E8  <<(T,blue) attribute>> [[psysml:201caa5e-7003-43c9-93c7-31c1dd2687e1 ]] {\r\n",
       "##//values//##\r\n",
       " <U+003D> F(a, 2)\r\n",
       "}\r\n",
       "comp usage \"g  \" as E9  <<(T,blue) attribute>> [[psysml:ef9d06c8-83aa-4b51-a725-4880c3e71513 ]] {\r\n",
       "##//values//##\r\n",
       " <U+003D> F(q <U+003D> 1, p <U+003D> a)\r\n",
       "}\r\n",
       "comp usage \"b  \" as E10  <<(T,blue) attribute>> [[psysml:472a68ff-87fb-48cb-b812-c0679e72bd97 ]] {\r\n",
       "##//values//##\r\n",
       " <U+003D> A(y<U+003D>a, x<U+003D>\"\")\r\n",
       "}\r\n",
       "comp usage \"c  \" as E11  <<(T,blue) attribute>> [[psysml:b12c6daa-efd4-472f-91f1-7e0209b6a2bc ]] {\r\n",
       "##//values//##\r\n",
       " <U+003D> A(\"test2\")\r\n",
       "}\r\n",
       "}\r\n",
       "E3 - -:|> E2 [[psysml:de703d0e-2ba0-4603-81fc-fcf4f6dc7e4d ]] \r\n",
       "@enduml\r\n",
       "\n",
       "PlantUML version 1.2022.7(Mon Aug 22 17:01:30 UTC 2022)\n",
       "(EPL source distribution)\n",
       "Java Runtime: OpenJDK Runtime Environment\n",
       "JVM: OpenJDK 64-Bit Server VM\n",
       "Default Encoding: UTF-8\n",
       "Language: en\n",
       "Country: null\n",
       "--></g></svg>"
      ]
     },
     "execution_count": 22,
     "metadata": {},
     "output_type": "execute_result"
    }
   ],
   "source": [
    "%viz --style=\"LR\" --view=\"MIXED\" \"ParameterTest\""
   ]
  },
  {
   "cell_type": "code",
   "execution_count": 23,
   "id": "d6708c21",
   "metadata": {
    "execution": {
     "iopub.execute_input": "2024-12-16T03:23:34.872613Z",
     "iopub.status.busy": "2024-12-16T03:23:34.872399Z",
     "iopub.status.idle": "2024-12-16T03:23:34.902687Z",
     "shell.execute_reply": "2024-12-16T03:23:34.901885Z"
    }
   },
   "outputs": [
    {
     "data": {
      "image/svg+xml": [
       "<?xml version=\"1.0\" encoding=\"UTF-8\" standalone=\"no\"?><svg xmlns=\"http://www.w3.org/2000/svg\" xmlns:xlink=\"http://www.w3.org/1999/xlink\" contentStyleType=\"text/css\" height=\"430px\" preserveAspectRatio=\"none\" style=\"width:858px;height:430px;background:#FFFFFF;\" version=\"1.1\" viewBox=\"0 0 858 430\" width=\"858px\" zoomAndPan=\"magnify\"><defs><filter height=\"300%\" id=\"f15soyzcthdg2t\" width=\"300%\" x=\"-1\" y=\"-1\"><feGaussianBlur result=\"blurOut\" stdDeviation=\"2.0\"/><feColorMatrix in=\"blurOut\" result=\"blurOut2\" type=\"matrix\" values=\"0 0 0 0 0 0 0 0 0 0 0 0 0 0 0 0 0 0 .4 0\"/><feOffset dx=\"4.0\" dy=\"4.0\" in=\"blurOut2\" result=\"blurOut3\"/><feBlend in=\"SourceGraphic\" in2=\"blurOut3\" mode=\"normal\"/></filter></defs><g><!--MD5=[fbc87193dbaf4d95561dea2c320d4a47]\n",
       "cluster E1--><g id=\"cluster_E1\"><a href=\"psysml:23a083da-d633-42aa-b737-bc534de6ad98\" target=\"_top\" title=\"psysml:23a083da-d633-42aa-b737-bc534de6ad98\" xlink:actuate=\"onRequest\" xlink:href=\"psysml:23a083da-d633-42aa-b737-bc534de6ad98\" xlink:show=\"new\" xlink:title=\"psysml:23a083da-d633-42aa-b737-bc534de6ad98\" xlink:type=\"simple\"><polygon fill=\"none\" filter=\"url(#f15soyzcthdg2t)\" points=\"16,6,129.6875,6,136.6875,28.2969,841,28.2969,841,423.72,16,423.72,16,6\" style=\"stroke:#000000;stroke-width:1.5;\"/><line style=\"stroke:#000000;stroke-width:1.5;\" x1=\"16\" x2=\"136.6875\" y1=\"28.2969\" y2=\"28.2969\"/><text fill=\"#000000\" font-family=\"sans-serif\" font-size=\"14\" font-weight=\"bold\" lengthAdjust=\"spacing\" textLength=\"107.6875\" x=\"20\" y=\"20.9951\">ParameterTest</text></a></g><!--MD5=[f6df4d0ebaf0b5dfb2ced0ae5af7c670]\n",
       "cluster E4--><g id=\"cluster_E4\"><a href=\"psysml:9fc68d1c-0eda-4ba7-8d2a-4dac99044350\" target=\"_top\" title=\"psysml:9fc68d1c-0eda-4ba7-8d2a-4dac99044350\" xlink:actuate=\"onRequest\" xlink:href=\"psysml:9fc68d1c-0eda-4ba7-8d2a-4dac99044350\" xlink:show=\"new\" xlink:title=\"psysml:9fc68d1c-0eda-4ba7-8d2a-4dac99044350\" xlink:type=\"simple\"><rect fill=\"#FFFFFF\" filter=\"url(#f15soyzcthdg2t)\" height=\"315.22\" id=\"E4\" style=\"stroke:#A80036;stroke-width:1.5;\" width=\"150\" x=\"675\" y=\"78.5\"/><rect fill=\"#FFFACD\" height=\"40.2656\" style=\"stroke:#A80036;stroke-width:1.5;\" width=\"150\" x=\"675\" y=\"78.5\"/><text fill=\"#000000\" font-family=\"sans-serif\" font-size=\"12\" font-style=\"italic\" lengthAdjust=\"spacing\" textLength=\"110\" x=\"695\" y=\"94.6387\">«calculation  def»</text><text fill=\"#000000\" font-family=\"sans-serif\" font-size=\"14\" lengthAdjust=\"spacing\" textLength=\"8\" x=\"746\" y=\"110.4639\">F</text></a></g><!--MD5=[b4997ac47864f28c2f74865a473b2911]\n",
       "class E2--><a href=\"psysml:04ef3948-8524-44aa-a324-078bab0d23fb\" target=\"_top\" title=\"psysml:04ef3948-8524-44aa-a324-078bab0d23fb\" xlink:actuate=\"onRequest\" xlink:href=\"psysml:04ef3948-8524-44aa-a324-078bab0d23fb\" xlink:show=\"new\" xlink:title=\"psysml:04ef3948-8524-44aa-a324-078bab0d23fb\" xlink:type=\"simple\"><g id=\"elem_E2\"><rect fill=\"#FFFACD\" filter=\"url(#f15soyzcthdg2t)\" height=\"91.3781\" id=\"E2\" style=\"stroke:#181818;stroke-width:0.5;\" width=\"99\" x=\"537.5\" y=\"176\"/><text fill=\"#000000\" font-family=\"sans-serif\" font-size=\"12\" font-style=\"italic\" lengthAdjust=\"spacing\" textLength=\"97\" x=\"538.5\" y=\"192.1387\">«attribute  def»</text><text fill=\"#000000\" font-family=\"sans-serif\" font-size=\"14\" lengthAdjust=\"spacing\" textLength=\"9\" x=\"582.5\" y=\"207.9639\">A</text><line style=\"stroke:#181818;stroke-width:0.5;\" x1=\"538.5\" x2=\"635.5\" y1=\"216.2656\" y2=\"216.2656\"/><text fill=\"#000000\" font-family=\"sans-serif\" font-size=\"14\" lengthAdjust=\"spacing\" textLength=\"56\" x=\"543.5\" y=\"243.7795\">x: String</text><text fill=\"#000000\" font-family=\"sans-serif\" font-size=\"14\" lengthAdjust=\"spacing\" textLength=\"25\" x=\"543.5\" y=\"260.0764\">y: A</text><text fill=\"#000000\" font-family=\"sans-serif\" font-size=\"14\" font-style=\"italic\" lengthAdjust=\"spacing\" textLength=\"66\" x=\"554\" y=\"228.6123\">attributes</text></g></a><!--MD5=[09b614a08d8cba4a07c9adeb5e0fee81]\n",
       "class E3--><a href=\"psysml:30f6a8e4-9ac7-4724-976d-d9f1147f3701\" target=\"_top\" title=\"psysml:30f6a8e4-9ac7-4724-976d-d9f1147f3701\" xlink:actuate=\"onRequest\" xlink:href=\"psysml:30f6a8e4-9ac7-4724-976d-d9f1147f3701\" xlink:show=\"new\" xlink:title=\"psysml:30f6a8e4-9ac7-4724-976d-d9f1147f3701\" xlink:type=\"simple\"><g id=\"elem_E3\"><rect fill=\"#FFFACD\" filter=\"url(#f15soyzcthdg2t)\" height=\"48.2656\" id=\"E3\" rx=\"10\" ry=\"10\" style=\"stroke:#181818;stroke-width:0.5;\" width=\"71\" x=\"575.5\" y=\"54.5\"/><text fill=\"#000000\" font-family=\"sans-serif\" font-size=\"12\" font-style=\"italic\" lengthAdjust=\"spacing\" textLength=\"69\" x=\"576.5\" y=\"70.6387\">«attribute»</text><text fill=\"#000000\" font-family=\"sans-serif\" font-size=\"14\" lengthAdjust=\"spacing\" textLength=\"26\" x=\"594\" y=\"86.4639\">a: A</text><line style=\"stroke:#181818;stroke-width:0.5;\" x1=\"576.5\" x2=\"645.5\" y1=\"94.7656\" y2=\"94.7656\"/></g></a><!--MD5=[b9389687b975829384b498ac4b7476b2]\n",
       "class E8--><a href=\"psysml:201caa5e-7003-43c9-93c7-31c1dd2687e1\" target=\"_top\" title=\"psysml:201caa5e-7003-43c9-93c7-31c1dd2687e1\" xlink:actuate=\"onRequest\" xlink:href=\"psysml:201caa5e-7003-43c9-93c7-31c1dd2687e1\" xlink:show=\"new\" xlink:title=\"psysml:201caa5e-7003-43c9-93c7-31c1dd2687e1\" xlink:type=\"simple\"><g id=\"elem_E8\"><rect fill=\"#FFFACD\" filter=\"url(#f15soyzcthdg2t)\" height=\"75.0813\" id=\"E8\" rx=\"10\" ry=\"10\" style=\"stroke:#181818;stroke-width:0.5;\" width=\"71\" x=\"469.5\" y=\"41\"/><text fill=\"#000000\" font-family=\"sans-serif\" font-size=\"12\" font-style=\"italic\" lengthAdjust=\"spacing\" textLength=\"69\" x=\"470.5\" y=\"57.1387\">«attribute»</text><text fill=\"#000000\" font-family=\"sans-serif\" font-size=\"14\" lengthAdjust=\"spacing\" textLength=\"4\" x=\"499\" y=\"72.9639\">f</text><line style=\"stroke:#181818;stroke-width:0.5;\" x1=\"470.5\" x2=\"539.5\" y1=\"81.2656\" y2=\"81.2656\"/><text fill=\"#000000\" font-family=\"sans-serif\" font-size=\"14\" lengthAdjust=\"spacing\" textLength=\"59\" x=\"475.5\" y=\"108.7795\">= F(a, 2)</text><text fill=\"#000000\" font-family=\"sans-serif\" font-size=\"14\" font-style=\"italic\" lengthAdjust=\"spacing\" textLength=\"44\" x=\"483\" y=\"93.6123\">values</text></g></a><!--MD5=[fd4143e9d270a159db93a4ea2a975926]\n",
       "class E9--><a href=\"psysml:ef9d06c8-83aa-4b51-a725-4880c3e71513\" target=\"_top\" title=\"psysml:ef9d06c8-83aa-4b51-a725-4880c3e71513\" xlink:actuate=\"onRequest\" xlink:href=\"psysml:ef9d06c8-83aa-4b51-a725-4880c3e71513\" xlink:show=\"new\" xlink:title=\"psysml:ef9d06c8-83aa-4b51-a725-4880c3e71513\" xlink:type=\"simple\"><g id=\"elem_E9\"><rect fill=\"#FFFACD\" filter=\"url(#f15soyzcthdg2t)\" height=\"75.0813\" id=\"E9\" rx=\"10\" ry=\"10\" style=\"stroke:#181818;stroke-width:0.5;\" width=\"129\" x=\"305.5\" y=\"41\"/><text fill=\"#000000\" font-family=\"sans-serif\" font-size=\"12\" font-style=\"italic\" lengthAdjust=\"spacing\" textLength=\"69\" x=\"335.5\" y=\"57.1387\">«attribute»</text><text fill=\"#000000\" font-family=\"sans-serif\" font-size=\"14\" lengthAdjust=\"spacing\" textLength=\"9\" x=\"361.5\" y=\"72.9639\">g</text><line style=\"stroke:#181818;stroke-width:0.5;\" x1=\"306.5\" x2=\"433.5\" y1=\"81.2656\" y2=\"81.2656\"/><text fill=\"#000000\" font-family=\"sans-serif\" font-size=\"14\" lengthAdjust=\"spacing\" textLength=\"117\" x=\"311.5\" y=\"108.7795\">= F(q = 1, p = a)</text><text fill=\"#000000\" font-family=\"sans-serif\" font-size=\"14\" font-style=\"italic\" lengthAdjust=\"spacing\" textLength=\"44\" x=\"348\" y=\"93.6123\">values</text></g></a><!--MD5=[96f4274e9e20536e775497830990834d]\n",
       "class E10--><a href=\"psysml:472a68ff-87fb-48cb-b812-c0679e72bd97\" target=\"_top\" title=\"psysml:472a68ff-87fb-48cb-b812-c0679e72bd97\" xlink:actuate=\"onRequest\" xlink:href=\"psysml:472a68ff-87fb-48cb-b812-c0679e72bd97\" xlink:show=\"new\" xlink:title=\"psysml:472a68ff-87fb-48cb-b812-c0679e72bd97\" xlink:type=\"simple\"><g id=\"elem_E10\"><rect fill=\"#FFFACD\" filter=\"url(#f15soyzcthdg2t)\" height=\"75.0813\" id=\"E10\" rx=\"10\" ry=\"10\" style=\"stroke:#181818;stroke-width:0.5;\" width=\"111\" x=\"159.5\" y=\"41\"/><text fill=\"#000000\" font-family=\"sans-serif\" font-size=\"12\" font-style=\"italic\" lengthAdjust=\"spacing\" textLength=\"69\" x=\"180.5\" y=\"57.1387\">«attribute»</text><text fill=\"#000000\" font-family=\"sans-serif\" font-size=\"14\" lengthAdjust=\"spacing\" textLength=\"9\" x=\"206.5\" y=\"72.9639\">b</text><line style=\"stroke:#181818;stroke-width:0.5;\" x1=\"160.5\" x2=\"269.5\" y1=\"81.2656\" y2=\"81.2656\"/><text fill=\"#000000\" font-family=\"sans-serif\" font-size=\"14\" lengthAdjust=\"spacing\" textLength=\"99\" x=\"165.5\" y=\"108.7795\">= A(y=a, x=\"\")</text><text fill=\"#000000\" font-family=\"sans-serif\" font-size=\"14\" font-style=\"italic\" lengthAdjust=\"spacing\" textLength=\"44\" x=\"193\" y=\"93.6123\">values</text></g></a><!--MD5=[1dd1bfd58a279cf63c5f349dbc8fc6a1]\n",
       "class E11--><a href=\"psysml:b12c6daa-efd4-472f-91f1-7e0209b6a2bc\" target=\"_top\" title=\"psysml:b12c6daa-efd4-472f-91f1-7e0209b6a2bc\" xlink:actuate=\"onRequest\" xlink:href=\"psysml:b12c6daa-efd4-472f-91f1-7e0209b6a2bc\" xlink:show=\"new\" xlink:title=\"psysml:b12c6daa-efd4-472f-91f1-7e0209b6a2bc\" xlink:type=\"simple\"><g id=\"elem_E11\"><rect fill=\"#FFFACD\" filter=\"url(#f15soyzcthdg2t)\" height=\"75.0813\" id=\"E11\" rx=\"10\" ry=\"10\" style=\"stroke:#181818;stroke-width:0.5;\" width=\"93\" x=\"31.5\" y=\"41\"/><text fill=\"#000000\" font-family=\"sans-serif\" font-size=\"12\" font-style=\"italic\" lengthAdjust=\"spacing\" textLength=\"69\" x=\"43.5\" y=\"57.1387\">«attribute»</text><text fill=\"#000000\" font-family=\"sans-serif\" font-size=\"14\" lengthAdjust=\"spacing\" textLength=\"8\" x=\"70\" y=\"72.9639\">c</text><line style=\"stroke:#181818;stroke-width:0.5;\" x1=\"32.5\" x2=\"123.5\" y1=\"81.2656\" y2=\"81.2656\"/><text fill=\"#000000\" font-family=\"sans-serif\" font-size=\"14\" lengthAdjust=\"spacing\" textLength=\"81\" x=\"37.5\" y=\"108.7795\">= A(\"test2\")</text><text fill=\"#000000\" font-family=\"sans-serif\" font-size=\"14\" font-style=\"italic\" lengthAdjust=\"spacing\" textLength=\"44\" x=\"56\" y=\"93.6123\">values</text></g></a><text fill=\"#000000\" font-family=\"sans-serif\" font-size=\"14\" lengthAdjust=\"spacing\" textLength=\"9\" x=\"688.5\" y=\"57.1982\">p</text><rect fill=\"#FFFACD\" height=\"12\" style=\"stroke:#181818;stroke-width:1.5;\" width=\"12\" x=\"687\" y=\"72.5\"/><text fill=\"#000000\" font-family=\"sans-serif\" font-size=\"14\" lengthAdjust=\"spacing\" textLength=\"9\" x=\"735.5\" y=\"57.1982\">q</text><rect fill=\"#FFFACD\" height=\"12\" style=\"stroke:#181818;stroke-width:1.5;\" width=\"12\" x=\"734\" y=\"72.5\"/><text fill=\"#000000\" font-family=\"sans-serif\" font-size=\"14\" lengthAdjust=\"spacing\" textLength=\"39\" x=\"720.5\" y=\"412.7151\">result</text><rect fill=\"#FFFACD\" height=\"12\" style=\"stroke:#181818;stroke-width:1.5;\" width=\"12\" x=\"734\" y=\"387.72\"/><!--MD5=[05d275557350bfb9b23a4ef7222b4c39]\n",
       "link E3 to E2--><g id=\"link_E3_E2\"><a href=\"psysml:de703d0e-2ba0-4603-81fc-fcf4f6dc7e4d\" target=\"_top\" title=\"psysml:de703d0e-2ba0-4603-81fc-fcf4f6dc7e4d\" xlink:actuate=\"onRequest\" xlink:href=\"psysml:de703d0e-2ba0-4603-81fc-fcf4f6dc7e4d\" xlink:show=\"new\" xlink:title=\"psysml:de703d0e-2ba0-4603-81fc-fcf4f6dc7e4d\" xlink:type=\"simple\"><path d=\"M607.04,102.78 C604.55,117.39 601.21,137.01 597.97,156.04 \" fill=\"none\" id=\"E3-to-E2\" style=\"stroke:#181818;stroke-width:1.0;\"/><polygon fill=\"#FFFFFF\" points=\"594.61,175.8,590.8965,155.895,604.6981,158.2435,594.61,175.8\" style=\"stroke:#181818;stroke-width:1.0;\"/><ellipse cx=\"593.8244\" cy=\"150.6113\" fill=\"#181818\" rx=\"2\" ry=\"2\" style=\"stroke:#181818;stroke-width:1.0;\"/><ellipse cx=\"603.6827\" cy=\"152.2888\" fill=\"#181818\" rx=\"2\" ry=\"2\" style=\"stroke:#181818;stroke-width:1.0;\"/></a></g><!--MD5=[1a6d14c4ae8136cef4d31ec6e4817bb1]\n",
       "@startuml\r\n",
       "skin sysmlc\r\n",
       "skinparam wrapWidth 300\r\n",
       "hide circle\r\n",
       "\r\n",
       "package \"ParameterTest\" as E1  [[psysml:23a083da-d633-42aa-b737-bc534de6ad98 ]]  {\r\n",
       "comp def \"A\" as E2  <<(T,blue) attribute  def>> [[psysml:04ef3948-8524-44aa-a324-078bab0d23fb ]] {\r\n",
       "##//attributes//##\r\n",
       "x: String\r\n",
       "y: A\r\n",
       "}\r\n",
       "comp usage \"a: A  \" as E3  <<(T,blue) attribute>> [[psysml:30f6a8e4-9ac7-4724-976d-d9f1147f3701 ]] {\r\n",
       "}\r\n",
       "rec def \"F\" as E4  <<(T,blue) calculation  def>> [[psysml:9fc68d1c-0eda-4ba7-8d2a-4dac99044350 ]] {\r\n",
       "portin \"p\" as E5  [[psysml:c0525d75-8c24-4ff5-9432-36973c13d292 ]] \r\n",
       "portin \"q\" as E6  [[psysml:ea5aeb99-c612-42a4-b65a-a51f249da328 ]] \r\n",
       "portout \"result\" as E7  [[psysml:ef9cf0a8-f443-48d9-b6fd-29ed95d8a001 ]] \r\n",
       "}\r\n",
       "\r\n",
       "comp usage \"f  \" as E8  <<(T,blue) attribute>> [[psysml:201caa5e-7003-43c9-93c7-31c1dd2687e1 ]] {\r\n",
       "##//values//##\r\n",
       " <U+003D> F(a, 2)\r\n",
       "}\r\n",
       "comp usage \"g  \" as E9  <<(T,blue) attribute>> [[psysml:ef9d06c8-83aa-4b51-a725-4880c3e71513 ]] {\r\n",
       "##//values//##\r\n",
       " <U+003D> F(q <U+003D> 1, p <U+003D> a)\r\n",
       "}\r\n",
       "comp usage \"b  \" as E10  <<(T,blue) attribute>> [[psysml:472a68ff-87fb-48cb-b812-c0679e72bd97 ]] {\r\n",
       "##//values//##\r\n",
       " <U+003D> A(y<U+003D>a, x<U+003D>\"\")\r\n",
       "}\r\n",
       "comp usage \"c  \" as E11  <<(T,blue) attribute>> [[psysml:b12c6daa-efd4-472f-91f1-7e0209b6a2bc ]] {\r\n",
       "##//values//##\r\n",
       " <U+003D> A(\"test2\")\r\n",
       "}\r\n",
       "}\r\n",
       "E3 - -:|> E2 [[psysml:de703d0e-2ba0-4603-81fc-fcf4f6dc7e4d ]] \r\n",
       "@enduml\r\n",
       "\n",
       "PlantUML version 1.2022.7(Mon Aug 22 17:01:30 UTC 2022)\n",
       "(EPL source distribution)\n",
       "Java Runtime: OpenJDK Runtime Environment\n",
       "JVM: OpenJDK 64-Bit Server VM\n",
       "Default Encoding: UTF-8\n",
       "Language: en\n",
       "Country: null\n",
       "--></g></svg>"
      ]
     },
     "execution_count": 23,
     "metadata": {},
     "output_type": "execute_result"
    }
   ],
   "source": [
    "%viz --style=\"STDCOLOR\" --view=\"Default\" \"ParameterTest\""
   ]
  },
  {
   "cell_type": "code",
   "execution_count": 24,
   "id": "c8d1efcf",
   "metadata": {
    "execution": {
     "iopub.execute_input": "2024-12-16T03:23:34.958620Z",
     "iopub.status.busy": "2024-12-16T03:23:34.958309Z",
     "iopub.status.idle": "2024-12-16T03:23:34.985168Z",
     "shell.execute_reply": "2024-12-16T03:23:34.984360Z"
    }
   },
   "outputs": [
    {
     "data": {
      "image/svg+xml": [
       "<?xml version=\"1.0\" encoding=\"UTF-8\" standalone=\"no\"?><svg xmlns=\"http://www.w3.org/2000/svg\" xmlns:xlink=\"http://www.w3.org/1999/xlink\" contentStyleType=\"text/css\" height=\"307px\" preserveAspectRatio=\"none\" style=\"width:828px;height:307px;background:#FFFFFF;\" version=\"1.1\" viewBox=\"0 0 828 307\" width=\"828px\" zoomAndPan=\"magnify\"><defs><filter height=\"300%\" id=\"f1dyj1mjk1hzoo\" width=\"300%\" x=\"-1\" y=\"-1\"><feGaussianBlur result=\"blurOut\" stdDeviation=\"2.0\"/><feColorMatrix in=\"blurOut\" result=\"blurOut2\" type=\"matrix\" values=\"0 0 0 0 0 0 0 0 0 0 0 0 0 0 0 0 0 0 .4 0\"/><feOffset dx=\"4.0\" dy=\"4.0\" in=\"blurOut2\" result=\"blurOut3\"/><feBlend in=\"SourceGraphic\" in2=\"blurOut3\" mode=\"normal\"/></filter></defs><g><!--MD5=[fbc87193dbaf4d95561dea2c320d4a47]\n",
       "cluster E1--><g id=\"cluster_E1\"><a href=\"psysml:23a083da-d633-42aa-b737-bc534de6ad98\" target=\"_top\" title=\"psysml:23a083da-d633-42aa-b737-bc534de6ad98\" xlink:actuate=\"onRequest\" xlink:href=\"psysml:23a083da-d633-42aa-b737-bc534de6ad98\" xlink:show=\"new\" xlink:title=\"psysml:23a083da-d633-42aa-b737-bc534de6ad98\" xlink:type=\"simple\"><polygon fill=\"none\" filter=\"url(#f1dyj1mjk1hzoo)\" points=\"16,6,129.6875,6,136.6875,28.2969,811,28.2969,811,300,16,300,16,6\" style=\"stroke:#000000;stroke-width:1.5;\"/><line style=\"stroke:#000000;stroke-width:1.5;\" x1=\"16\" x2=\"136.6875\" y1=\"28.2969\" y2=\"28.2969\"/><text fill=\"#000000\" font-family=\"sans-serif\" font-size=\"14\" font-weight=\"bold\" lengthAdjust=\"spacing\" textLength=\"107.6875\" x=\"20\" y=\"20.9951\">ParameterTest</text></a></g><!--MD5=[b4997ac47864f28c2f74865a473b2911]\n",
       "class E2--><a href=\"psysml:04ef3948-8524-44aa-a324-078bab0d23fb\" target=\"_top\" title=\"psysml:04ef3948-8524-44aa-a324-078bab0d23fb\" xlink:actuate=\"onRequest\" xlink:href=\"psysml:04ef3948-8524-44aa-a324-078bab0d23fb\" xlink:show=\"new\" xlink:title=\"psysml:04ef3948-8524-44aa-a324-078bab0d23fb\" xlink:type=\"simple\"><g id=\"elem_E2\"><rect fill=\"#FFFACD\" filter=\"url(#f1dyj1mjk1hzoo)\" height=\"91.3781\" id=\"E2\" style=\"stroke:#181818;stroke-width:0.5;\" width=\"99\" x=\"618.5\" y=\"193\"/><text fill=\"#000000\" font-family=\"sans-serif\" font-size=\"12\" font-style=\"italic\" lengthAdjust=\"spacing\" textLength=\"97\" x=\"619.5\" y=\"209.1387\">«attribute  def»</text><text fill=\"#000000\" font-family=\"sans-serif\" font-size=\"14\" lengthAdjust=\"spacing\" textLength=\"9\" x=\"663.5\" y=\"224.9639\">A</text><line style=\"stroke:#181818;stroke-width:0.5;\" x1=\"619.5\" x2=\"716.5\" y1=\"233.2656\" y2=\"233.2656\"/><text fill=\"#000000\" font-family=\"sans-serif\" font-size=\"14\" lengthAdjust=\"spacing\" textLength=\"56\" x=\"624.5\" y=\"260.7795\">x: String</text><text fill=\"#000000\" font-family=\"sans-serif\" font-size=\"14\" lengthAdjust=\"spacing\" textLength=\"25\" x=\"624.5\" y=\"277.0764\">y: A</text><text fill=\"#000000\" font-family=\"sans-serif\" font-size=\"14\" font-style=\"italic\" lengthAdjust=\"spacing\" textLength=\"66\" x=\"635\" y=\"245.6123\">attributes</text></g></a><!--MD5=[09b614a08d8cba4a07c9adeb5e0fee81]\n",
       "class E3--><a href=\"psysml:30f6a8e4-9ac7-4724-976d-d9f1147f3701\" target=\"_top\" title=\"psysml:30f6a8e4-9ac7-4724-976d-d9f1147f3701\" xlink:actuate=\"onRequest\" xlink:href=\"psysml:30f6a8e4-9ac7-4724-976d-d9f1147f3701\" xlink:show=\"new\" xlink:title=\"psysml:30f6a8e4-9ac7-4724-976d-d9f1147f3701\" xlink:type=\"simple\"><g id=\"elem_E3\"><rect fill=\"#FFFACD\" filter=\"url(#f1dyj1mjk1hzoo)\" height=\"48.2656\" id=\"E3\" rx=\"10\" ry=\"10\" style=\"stroke:#181818;stroke-width:0.5;\" width=\"71\" x=\"723.5\" y=\"54.5\"/><text fill=\"#000000\" font-family=\"sans-serif\" font-size=\"12\" font-style=\"italic\" lengthAdjust=\"spacing\" textLength=\"69\" x=\"724.5\" y=\"70.6387\">«attribute»</text><text fill=\"#000000\" font-family=\"sans-serif\" font-size=\"14\" lengthAdjust=\"spacing\" textLength=\"26\" x=\"742\" y=\"86.4639\">a: A</text><line style=\"stroke:#181818;stroke-width:0.5;\" x1=\"724.5\" x2=\"793.5\" y1=\"94.7656\" y2=\"94.7656\"/></g></a><!--MD5=[ebbe1d658d1005bcc118a6aa81145e00]\n",
       "class E4--><a href=\"psysml:9fc68d1c-0eda-4ba7-8d2a-4dac99044350\" target=\"_top\" title=\"psysml:9fc68d1c-0eda-4ba7-8d2a-4dac99044350\" xlink:actuate=\"onRequest\" xlink:href=\"psysml:9fc68d1c-0eda-4ba7-8d2a-4dac99044350\" xlink:show=\"new\" xlink:title=\"psysml:9fc68d1c-0eda-4ba7-8d2a-4dac99044350\" xlink:type=\"simple\"><g id=\"elem_E4\"><rect fill=\"#FFFACD\" filter=\"url(#f1dyj1mjk1hzoo)\" height=\"48.2656\" id=\"E4\" style=\"stroke:#181818;stroke-width:0.5;\" width=\"112\" x=\"576\" y=\"54.5\"/><text fill=\"#000000\" font-family=\"sans-serif\" font-size=\"12\" font-style=\"italic\" lengthAdjust=\"spacing\" textLength=\"110\" x=\"577\" y=\"70.6387\">«calculation  def»</text><text fill=\"#000000\" font-family=\"sans-serif\" font-size=\"14\" lengthAdjust=\"spacing\" textLength=\"8\" x=\"628\" y=\"86.4639\">F</text><line style=\"stroke:#181818;stroke-width:0.5;\" x1=\"577\" x2=\"687\" y1=\"94.7656\" y2=\"94.7656\"/></g></a><!--MD5=[270fce915f116d4de14055a7c1d9a0f3]\n",
       "class E5--><a href=\"psysml:201caa5e-7003-43c9-93c7-31c1dd2687e1\" target=\"_top\" title=\"psysml:201caa5e-7003-43c9-93c7-31c1dd2687e1\" xlink:actuate=\"onRequest\" xlink:href=\"psysml:201caa5e-7003-43c9-93c7-31c1dd2687e1\" xlink:show=\"new\" xlink:title=\"psysml:201caa5e-7003-43c9-93c7-31c1dd2687e1\" xlink:type=\"simple\"><g id=\"elem_E5\"><rect fill=\"#FFFACD\" filter=\"url(#f1dyj1mjk1hzoo)\" height=\"75.0813\" id=\"E5\" rx=\"10\" ry=\"10\" style=\"stroke:#181818;stroke-width:0.5;\" width=\"71\" x=\"469.5\" y=\"41\"/><text fill=\"#000000\" font-family=\"sans-serif\" font-size=\"12\" font-style=\"italic\" lengthAdjust=\"spacing\" textLength=\"69\" x=\"470.5\" y=\"57.1387\">«attribute»</text><text fill=\"#000000\" font-family=\"sans-serif\" font-size=\"14\" lengthAdjust=\"spacing\" textLength=\"4\" x=\"499\" y=\"72.9639\">f</text><line style=\"stroke:#181818;stroke-width:0.5;\" x1=\"470.5\" x2=\"539.5\" y1=\"81.2656\" y2=\"81.2656\"/><text fill=\"#000000\" font-family=\"sans-serif\" font-size=\"14\" lengthAdjust=\"spacing\" textLength=\"59\" x=\"475.5\" y=\"108.7795\">= F(a, 2)</text><text fill=\"#000000\" font-family=\"sans-serif\" font-size=\"14\" font-style=\"italic\" lengthAdjust=\"spacing\" textLength=\"44\" x=\"483\" y=\"93.6123\">values</text></g></a><!--MD5=[60a26617385b1d2d0262a64233df1f8d]\n",
       "class E6--><a href=\"psysml:ef9d06c8-83aa-4b51-a725-4880c3e71513\" target=\"_top\" title=\"psysml:ef9d06c8-83aa-4b51-a725-4880c3e71513\" xlink:actuate=\"onRequest\" xlink:href=\"psysml:ef9d06c8-83aa-4b51-a725-4880c3e71513\" xlink:show=\"new\" xlink:title=\"psysml:ef9d06c8-83aa-4b51-a725-4880c3e71513\" xlink:type=\"simple\"><g id=\"elem_E6\"><rect fill=\"#FFFACD\" filter=\"url(#f1dyj1mjk1hzoo)\" height=\"75.0813\" id=\"E6\" rx=\"10\" ry=\"10\" style=\"stroke:#181818;stroke-width:0.5;\" width=\"129\" x=\"305.5\" y=\"41\"/><text fill=\"#000000\" font-family=\"sans-serif\" font-size=\"12\" font-style=\"italic\" lengthAdjust=\"spacing\" textLength=\"69\" x=\"335.5\" y=\"57.1387\">«attribute»</text><text fill=\"#000000\" font-family=\"sans-serif\" font-size=\"14\" lengthAdjust=\"spacing\" textLength=\"9\" x=\"361.5\" y=\"72.9639\">g</text><line style=\"stroke:#181818;stroke-width:0.5;\" x1=\"306.5\" x2=\"433.5\" y1=\"81.2656\" y2=\"81.2656\"/><text fill=\"#000000\" font-family=\"sans-serif\" font-size=\"14\" lengthAdjust=\"spacing\" textLength=\"117\" x=\"311.5\" y=\"108.7795\">= F(q = 1, p = a)</text><text fill=\"#000000\" font-family=\"sans-serif\" font-size=\"14\" font-style=\"italic\" lengthAdjust=\"spacing\" textLength=\"44\" x=\"348\" y=\"93.6123\">values</text></g></a><!--MD5=[2156ba9850f5573cc1fc38a6a4b2f02b]\n",
       "class E7--><a href=\"psysml:472a68ff-87fb-48cb-b812-c0679e72bd97\" target=\"_top\" title=\"psysml:472a68ff-87fb-48cb-b812-c0679e72bd97\" xlink:actuate=\"onRequest\" xlink:href=\"psysml:472a68ff-87fb-48cb-b812-c0679e72bd97\" xlink:show=\"new\" xlink:title=\"psysml:472a68ff-87fb-48cb-b812-c0679e72bd97\" xlink:type=\"simple\"><g id=\"elem_E7\"><rect fill=\"#FFFACD\" filter=\"url(#f1dyj1mjk1hzoo)\" height=\"75.0813\" id=\"E7\" rx=\"10\" ry=\"10\" style=\"stroke:#181818;stroke-width:0.5;\" width=\"111\" x=\"159.5\" y=\"41\"/><text fill=\"#000000\" font-family=\"sans-serif\" font-size=\"12\" font-style=\"italic\" lengthAdjust=\"spacing\" textLength=\"69\" x=\"180.5\" y=\"57.1387\">«attribute»</text><text fill=\"#000000\" font-family=\"sans-serif\" font-size=\"14\" lengthAdjust=\"spacing\" textLength=\"9\" x=\"206.5\" y=\"72.9639\">b</text><line style=\"stroke:#181818;stroke-width:0.5;\" x1=\"160.5\" x2=\"269.5\" y1=\"81.2656\" y2=\"81.2656\"/><text fill=\"#000000\" font-family=\"sans-serif\" font-size=\"14\" lengthAdjust=\"spacing\" textLength=\"99\" x=\"165.5\" y=\"108.7795\">= A(y=a, x=\"\")</text><text fill=\"#000000\" font-family=\"sans-serif\" font-size=\"14\" font-style=\"italic\" lengthAdjust=\"spacing\" textLength=\"44\" x=\"193\" y=\"93.6123\">values</text></g></a><!--MD5=[b9389687b975829384b498ac4b7476b2]\n",
       "class E8--><a href=\"psysml:b12c6daa-efd4-472f-91f1-7e0209b6a2bc\" target=\"_top\" title=\"psysml:b12c6daa-efd4-472f-91f1-7e0209b6a2bc\" xlink:actuate=\"onRequest\" xlink:href=\"psysml:b12c6daa-efd4-472f-91f1-7e0209b6a2bc\" xlink:show=\"new\" xlink:title=\"psysml:b12c6daa-efd4-472f-91f1-7e0209b6a2bc\" xlink:type=\"simple\"><g id=\"elem_E8\"><rect fill=\"#FFFACD\" filter=\"url(#f1dyj1mjk1hzoo)\" height=\"75.0813\" id=\"E8\" rx=\"10\" ry=\"10\" style=\"stroke:#181818;stroke-width:0.5;\" width=\"93\" x=\"31.5\" y=\"41\"/><text fill=\"#000000\" font-family=\"sans-serif\" font-size=\"12\" font-style=\"italic\" lengthAdjust=\"spacing\" textLength=\"69\" x=\"43.5\" y=\"57.1387\">«attribute»</text><text fill=\"#000000\" font-family=\"sans-serif\" font-size=\"14\" lengthAdjust=\"spacing\" textLength=\"8\" x=\"70\" y=\"72.9639\">c</text><line style=\"stroke:#181818;stroke-width:0.5;\" x1=\"32.5\" x2=\"123.5\" y1=\"81.2656\" y2=\"81.2656\"/><text fill=\"#000000\" font-family=\"sans-serif\" font-size=\"14\" lengthAdjust=\"spacing\" textLength=\"81\" x=\"37.5\" y=\"108.7795\">= A(\"test2\")</text><text fill=\"#000000\" font-family=\"sans-serif\" font-size=\"14\" font-style=\"italic\" lengthAdjust=\"spacing\" textLength=\"44\" x=\"56\" y=\"93.6123\">values</text></g></a><!--MD5=[05d275557350bfb9b23a4ef7222b4c39]\n",
       "link E3 to E2--><g id=\"link_E3_E2\"><a href=\"psysml:de703d0e-2ba0-4603-81fc-fcf4f6dc7e4d\" target=\"_top\" title=\"psysml:de703d0e-2ba0-4603-81fc-fcf4f6dc7e4d\" xlink:actuate=\"onRequest\" xlink:href=\"psysml:de703d0e-2ba0-4603-81fc-fcf4f6dc7e4d\" xlink:show=\"new\" xlink:title=\"psysml:de703d0e-2ba0-4603-81fc-fcf4f6dc7e4d\" xlink:type=\"simple\"><path d=\"M745.57,102.81 C734.58,121.9 718.5,149.81 703.83,175.29 \" fill=\"none\" id=\"E3-to-E2\" style=\"stroke:#181818;stroke-width:1.0;\"/><polygon fill=\"#FFFFFF\" points=\"693.74,192.81,697.1615,172.8527,709.2915,179.8428,693.74,192.81\" style=\"stroke:#181818;stroke-width:1.0;\"/><ellipse cx=\"701.7403\" cy=\"168.9126\" fill=\"#181818\" rx=\"2\" ry=\"2\" style=\"stroke:#181818;stroke-width:1.0;\"/><ellipse cx=\"710.4046\" cy=\"173.9055\" fill=\"#181818\" rx=\"2\" ry=\"2\" style=\"stroke:#181818;stroke-width:1.0;\"/></a></g><!--MD5=[ddeed8deb2209213b62e6cfabaa108b2]\n",
       "reverse link E4 to E2--><g id=\"link_E4_E2\"><a href=\"psysml:c0525d75-8c24-4ff5-9432-36973c13d292\" target=\"_top\" title=\"psysml:c0525d75-8c24-4ff5-9432-36973c13d292\" xlink:actuate=\"onRequest\" xlink:href=\"psysml:c0525d75-8c24-4ff5-9432-36973c13d292\" xlink:show=\"new\" xlink:title=\"psysml:c0525d75-8c24-4ff5-9432-36973c13d292\" xlink:type=\"simple\"><path d=\"M640.26,115.75 C645.48,138.66 652.27,168.44 657.82,192.81 \" fill=\"none\" id=\"E4-backto-E2\" style=\"stroke:#181818;stroke-width:1.0;\"/><polygon fill=\"none\" points=\"637.31,102.81,634.7405,109.5478,639.9717,114.5111,642.5412,107.7733,637.31,102.81\" style=\"stroke:#181818;stroke-width:1.0;\"/><text fill=\"#000000\" font-family=\"sans-serif\" font-size=\"13\" lengthAdjust=\"spacing\" textLength=\"8\" x=\"651\" y=\"159.0669\">p</text></a></g><!--MD5=[1dd2f28d935e625b940b2ccfa058b8e4]\n",
       "@startuml\r\n",
       "skin sysmlc\r\n",
       "skinparam wrapWidth 300\r\n",
       "hide circle\r\n",
       "\r\n",
       "package \"ParameterTest\" as E1  [[psysml:23a083da-d633-42aa-b737-bc534de6ad98 ]]  {\r\n",
       "comp def \"A\" as E2  <<(T,blue) attribute  def>> [[psysml:04ef3948-8524-44aa-a324-078bab0d23fb ]] {\r\n",
       "##//attributes//##\r\n",
       "x: String\r\n",
       "y: A\r\n",
       "}\r\n",
       "comp usage \"a: A  \" as E3  <<(T,blue) attribute>> [[psysml:30f6a8e4-9ac7-4724-976d-d9f1147f3701 ]] {\r\n",
       "}\r\n",
       "comp def \"F\" as E4  <<(T,blue) calculation  def>> [[psysml:9fc68d1c-0eda-4ba7-8d2a-4dac99044350 ]] {\r\n",
       "}\r\n",
       "comp usage \"f  \" as E5  <<(T,blue) attribute>> [[psysml:201caa5e-7003-43c9-93c7-31c1dd2687e1 ]] {\r\n",
       "##//values//##\r\n",
       " <U+003D> F(a, 2)\r\n",
       "}\r\n",
       "comp usage \"g  \" as E6  <<(T,blue) attribute>> [[psysml:ef9d06c8-83aa-4b51-a725-4880c3e71513 ]] {\r\n",
       "##//values//##\r\n",
       " <U+003D> F(q <U+003D> 1, p <U+003D> a)\r\n",
       "}\r\n",
       "comp usage \"b  \" as E7  <<(T,blue) attribute>> [[psysml:472a68ff-87fb-48cb-b812-c0679e72bd97 ]] {\r\n",
       "##//values//##\r\n",
       " <U+003D> A(y<U+003D>a, x<U+003D>\"\")\r\n",
       "}\r\n",
       "comp usage \"c  \" as E8  <<(T,blue) attribute>> [[psysml:b12c6daa-efd4-472f-91f1-7e0209b6a2bc ]] {\r\n",
       "##//values//##\r\n",
       " <U+003D> A(\"test2\")\r\n",
       "}\r\n",
       "}\r\n",
       "E3 - -:|> E2 [[psysml:de703d0e-2ba0-4603-81fc-fcf4f6dc7e4d ]] \r\n",
       "E4 o- - E2 [[psysml:c0525d75-8c24-4ff5-9432-36973c13d292 ]] : p\r\n",
       "@enduml\r\n",
       "\n",
       "PlantUML version 1.2022.7(Mon Aug 22 17:01:30 UTC 2022)\n",
       "(EPL source distribution)\n",
       "Java Runtime: OpenJDK Runtime Environment\n",
       "JVM: OpenJDK 64-Bit Server VM\n",
       "Default Encoding: UTF-8\n",
       "Language: en\n",
       "Country: null\n",
       "--></g></svg>"
      ]
     },
     "execution_count": 24,
     "metadata": {},
     "output_type": "execute_result"
    }
   ],
   "source": [
    "%viz --style=\"STDCOLOR\" --view=\"Tree\" \"ParameterTest\""
   ]
  },
  {
   "cell_type": "code",
   "execution_count": 25,
   "id": "865d19de",
   "metadata": {
    "execution": {
     "iopub.execute_input": "2024-12-16T03:23:35.040327Z",
     "iopub.status.busy": "2024-12-16T03:23:35.040101Z",
     "iopub.status.idle": "2024-12-16T03:23:35.047342Z",
     "shell.execute_reply": "2024-12-16T03:23:35.047164Z"
    }
   },
   "outputs": [
    {
     "data": {
      "image/svg+xml": [
       "<?xml version=\"1.0\" encoding=\"UTF-8\" standalone=\"no\"?><svg xmlns=\"http://www.w3.org/2000/svg\" xmlns:xlink=\"http://www.w3.org/1999/xlink\" contentStyleType=\"text/css\" height=\"10px\" preserveAspectRatio=\"none\" style=\"width:10px;height:10px;background:#FFFFFF;\" version=\"1.1\" viewBox=\"0 0 10 10\" width=\"10px\" zoomAndPan=\"magnify\"><defs/><g><!--MD5=[a1048f16c75022af837d4b7065e6f600]\n",
       "@startuml\r\n",
       "skin sysmlc\r\n",
       "skinparam wrapWidth 300\r\n",
       "hide circle\r\n",
       "\r\n",
       "@enduml\r\n",
       "\n",
       "PlantUML version 1.2022.7(Mon Aug 22 17:01:30 UTC 2022)\n",
       "(EPL source distribution)\n",
       "Java Runtime: OpenJDK Runtime Environment\n",
       "JVM: OpenJDK 64-Bit Server VM\n",
       "Default Encoding: UTF-8\n",
       "Language: en\n",
       "Country: null\n",
       "--></g></svg>"
      ]
     },
     "execution_count": 25,
     "metadata": {},
     "output_type": "execute_result"
    }
   ],
   "source": [
    "%viz --style=\"STDCOLOR\" --view=\"State\" \"ParameterTest\""
   ]
  },
  {
   "cell_type": "code",
   "execution_count": 26,
   "id": "71886154",
   "metadata": {
    "execution": {
     "iopub.execute_input": "2024-12-16T03:23:35.103641Z",
     "iopub.status.busy": "2024-12-16T03:23:35.103424Z",
     "iopub.status.idle": "2024-12-16T03:23:35.132427Z",
     "shell.execute_reply": "2024-12-16T03:23:35.131648Z"
    }
   },
   "outputs": [
    {
     "data": {
      "image/svg+xml": [
       "<?xml version=\"1.0\" encoding=\"UTF-8\" standalone=\"no\"?><svg xmlns=\"http://www.w3.org/2000/svg\" xmlns:xlink=\"http://www.w3.org/1999/xlink\" contentStyleType=\"text/css\" height=\"241px\" preserveAspectRatio=\"none\" style=\"width:858px;height:241px;background:#FFFFFF;\" version=\"1.1\" viewBox=\"0 0 858 241\" width=\"858px\" zoomAndPan=\"magnify\"><defs><filter height=\"300%\" id=\"f15m6hmetrbggv\" width=\"300%\" x=\"-1\" y=\"-1\"><feGaussianBlur result=\"blurOut\" stdDeviation=\"2.0\"/><feColorMatrix in=\"blurOut\" result=\"blurOut2\" type=\"matrix\" values=\"0 0 0 0 0 0 0 0 0 0 0 0 0 0 0 0 0 0 .4 0\"/><feOffset dx=\"4.0\" dy=\"4.0\" in=\"blurOut2\" result=\"blurOut3\"/><feBlend in=\"SourceGraphic\" in2=\"blurOut3\" mode=\"normal\"/></filter></defs><g><!--MD5=[fbc87193dbaf4d95561dea2c320d4a47]\n",
       "cluster E1--><g id=\"cluster_E1\"><a href=\"psysml:23a083da-d633-42aa-b737-bc534de6ad98\" target=\"_top\" title=\"psysml:23a083da-d633-42aa-b737-bc534de6ad98\" xlink:actuate=\"onRequest\" xlink:href=\"psysml:23a083da-d633-42aa-b737-bc534de6ad98\" xlink:show=\"new\" xlink:title=\"psysml:23a083da-d633-42aa-b737-bc534de6ad98\" xlink:type=\"simple\"><polygon fill=\"none\" filter=\"url(#f15m6hmetrbggv)\" points=\"16,6,129.6875,6,136.6875,28.2969,841,28.2969,841,234.72,16,234.72,16,6\" style=\"stroke:#000000;stroke-width:1.5;\"/><line style=\"stroke:#000000;stroke-width:1.5;\" x1=\"16\" x2=\"136.6875\" y1=\"28.2969\" y2=\"28.2969\"/><text fill=\"#000000\" font-family=\"sans-serif\" font-size=\"14\" font-weight=\"bold\" lengthAdjust=\"spacing\" textLength=\"107.6875\" x=\"20\" y=\"20.9951\">ParameterTest</text></a></g><!--MD5=[f6df4d0ebaf0b5dfb2ced0ae5af7c670]\n",
       "cluster E4--><g id=\"cluster_E4\"><a href=\"psysml:9fc68d1c-0eda-4ba7-8d2a-4dac99044350\" target=\"_top\" title=\"psysml:9fc68d1c-0eda-4ba7-8d2a-4dac99044350\" xlink:actuate=\"onRequest\" xlink:href=\"psysml:9fc68d1c-0eda-4ba7-8d2a-4dac99044350\" xlink:show=\"new\" xlink:title=\"psysml:9fc68d1c-0eda-4ba7-8d2a-4dac99044350\" xlink:type=\"simple\"><rect fill=\"#FFFFFF\" filter=\"url(#f15m6hmetrbggv)\" height=\"126.22\" id=\"E4\" style=\"stroke:#A80036;stroke-width:1.5;\" width=\"150\" x=\"675\" y=\"78.5\"/><rect fill=\"#FFFACD\" height=\"40.2656\" style=\"stroke:#A80036;stroke-width:1.5;\" width=\"150\" x=\"675\" y=\"78.5\"/><text fill=\"#000000\" font-family=\"sans-serif\" font-size=\"12\" font-style=\"italic\" lengthAdjust=\"spacing\" textLength=\"110\" x=\"695\" y=\"94.6387\">«calculation  def»</text><text fill=\"#000000\" font-family=\"sans-serif\" font-size=\"14\" lengthAdjust=\"spacing\" textLength=\"8\" x=\"746\" y=\"110.4639\">F</text></a></g><g><a href=\"psysml:04ef3948-8524-44aa-a324-078bab0d23fb\" target=\"_top\" title=\"psysml:04ef3948-8524-44aa-a324-078bab0d23fb\" xlink:actuate=\"onRequest\" xlink:href=\"psysml:04ef3948-8524-44aa-a324-078bab0d23fb\" xlink:show=\"new\" xlink:title=\"psysml:04ef3948-8524-44aa-a324-078bab0d23fb\" xlink:type=\"simple\"><rect fill=\"#FFFACD\" filter=\"url(#f15m6hmetrbggv)\" height=\"45.2656\" id=\"E2\" style=\"stroke:#A80036;stroke-width:1.5;\" width=\"104\" x=\"532\" y=\"127\"/><text fill=\"#000000\" font-family=\"sans-serif\" font-size=\"12\" font-style=\"italic\" lengthAdjust=\"spacing\" textLength=\"97\" x=\"535.5\" y=\"143.1387\">«attribute  def»</text><text fill=\"#000000\" font-family=\"sans-serif\" font-size=\"14\" lengthAdjust=\"spacing\" textLength=\"9\" x=\"579.5\" y=\"158.9639\">A</text></a></g><!--MD5=[09b614a08d8cba4a07c9adeb5e0fee81]\n",
       "class E3--><a href=\"psysml:30f6a8e4-9ac7-4724-976d-d9f1147f3701\" target=\"_top\" title=\"psysml:30f6a8e4-9ac7-4724-976d-d9f1147f3701\" xlink:actuate=\"onRequest\" xlink:href=\"psysml:30f6a8e4-9ac7-4724-976d-d9f1147f3701\" xlink:show=\"new\" xlink:title=\"psysml:30f6a8e4-9ac7-4724-976d-d9f1147f3701\" xlink:type=\"simple\"><g id=\"elem_E3\"><rect fill=\"#FFFACD\" filter=\"url(#f15m6hmetrbggv)\" height=\"48.2656\" id=\"E3\" rx=\"10\" ry=\"10\" style=\"stroke:#181818;stroke-width:0.5;\" width=\"71\" x=\"575.5\" y=\"54.5\"/><text fill=\"#000000\" font-family=\"sans-serif\" font-size=\"12\" font-style=\"italic\" lengthAdjust=\"spacing\" textLength=\"69\" x=\"576.5\" y=\"70.6387\">«attribute»</text><text fill=\"#000000\" font-family=\"sans-serif\" font-size=\"14\" lengthAdjust=\"spacing\" textLength=\"26\" x=\"594\" y=\"86.4639\">a: A</text><line style=\"stroke:#181818;stroke-width:0.5;\" x1=\"576.5\" x2=\"645.5\" y1=\"94.7656\" y2=\"94.7656\"/></g></a><!--MD5=[b9389687b975829384b498ac4b7476b2]\n",
       "class E8--><a href=\"psysml:201caa5e-7003-43c9-93c7-31c1dd2687e1\" target=\"_top\" title=\"psysml:201caa5e-7003-43c9-93c7-31c1dd2687e1\" xlink:actuate=\"onRequest\" xlink:href=\"psysml:201caa5e-7003-43c9-93c7-31c1dd2687e1\" xlink:show=\"new\" xlink:title=\"psysml:201caa5e-7003-43c9-93c7-31c1dd2687e1\" xlink:type=\"simple\"><g id=\"elem_E8\"><rect fill=\"#FFFACD\" filter=\"url(#f15m6hmetrbggv)\" height=\"75.0813\" id=\"E8\" rx=\"10\" ry=\"10\" style=\"stroke:#181818;stroke-width:0.5;\" width=\"71\" x=\"469.5\" y=\"41\"/><text fill=\"#000000\" font-family=\"sans-serif\" font-size=\"12\" font-style=\"italic\" lengthAdjust=\"spacing\" textLength=\"69\" x=\"470.5\" y=\"57.1387\">«attribute»</text><text fill=\"#000000\" font-family=\"sans-serif\" font-size=\"14\" lengthAdjust=\"spacing\" textLength=\"4\" x=\"499\" y=\"72.9639\">f</text><line style=\"stroke:#181818;stroke-width:0.5;\" x1=\"470.5\" x2=\"539.5\" y1=\"81.2656\" y2=\"81.2656\"/><text fill=\"#000000\" font-family=\"sans-serif\" font-size=\"14\" lengthAdjust=\"spacing\" textLength=\"59\" x=\"475.5\" y=\"108.7795\">= F(a, 2)</text><text fill=\"#000000\" font-family=\"sans-serif\" font-size=\"14\" font-style=\"italic\" lengthAdjust=\"spacing\" textLength=\"44\" x=\"483\" y=\"93.6123\">values</text></g></a><!--MD5=[fd4143e9d270a159db93a4ea2a975926]\n",
       "class E9--><a href=\"psysml:ef9d06c8-83aa-4b51-a725-4880c3e71513\" target=\"_top\" title=\"psysml:ef9d06c8-83aa-4b51-a725-4880c3e71513\" xlink:actuate=\"onRequest\" xlink:href=\"psysml:ef9d06c8-83aa-4b51-a725-4880c3e71513\" xlink:show=\"new\" xlink:title=\"psysml:ef9d06c8-83aa-4b51-a725-4880c3e71513\" xlink:type=\"simple\"><g id=\"elem_E9\"><rect fill=\"#FFFACD\" filter=\"url(#f15m6hmetrbggv)\" height=\"75.0813\" id=\"E9\" rx=\"10\" ry=\"10\" style=\"stroke:#181818;stroke-width:0.5;\" width=\"129\" x=\"305.5\" y=\"41\"/><text fill=\"#000000\" font-family=\"sans-serif\" font-size=\"12\" font-style=\"italic\" lengthAdjust=\"spacing\" textLength=\"69\" x=\"335.5\" y=\"57.1387\">«attribute»</text><text fill=\"#000000\" font-family=\"sans-serif\" font-size=\"14\" lengthAdjust=\"spacing\" textLength=\"9\" x=\"361.5\" y=\"72.9639\">g</text><line style=\"stroke:#181818;stroke-width:0.5;\" x1=\"306.5\" x2=\"433.5\" y1=\"81.2656\" y2=\"81.2656\"/><text fill=\"#000000\" font-family=\"sans-serif\" font-size=\"14\" lengthAdjust=\"spacing\" textLength=\"117\" x=\"311.5\" y=\"108.7795\">= F(q = 1, p = a)</text><text fill=\"#000000\" font-family=\"sans-serif\" font-size=\"14\" font-style=\"italic\" lengthAdjust=\"spacing\" textLength=\"44\" x=\"348\" y=\"93.6123\">values</text></g></a><!--MD5=[96f4274e9e20536e775497830990834d]\n",
       "class E10--><a href=\"psysml:472a68ff-87fb-48cb-b812-c0679e72bd97\" target=\"_top\" title=\"psysml:472a68ff-87fb-48cb-b812-c0679e72bd97\" xlink:actuate=\"onRequest\" xlink:href=\"psysml:472a68ff-87fb-48cb-b812-c0679e72bd97\" xlink:show=\"new\" xlink:title=\"psysml:472a68ff-87fb-48cb-b812-c0679e72bd97\" xlink:type=\"simple\"><g id=\"elem_E10\"><rect fill=\"#FFFACD\" filter=\"url(#f15m6hmetrbggv)\" height=\"75.0813\" id=\"E10\" rx=\"10\" ry=\"10\" style=\"stroke:#181818;stroke-width:0.5;\" width=\"111\" x=\"159.5\" y=\"41\"/><text fill=\"#000000\" font-family=\"sans-serif\" font-size=\"12\" font-style=\"italic\" lengthAdjust=\"spacing\" textLength=\"69\" x=\"180.5\" y=\"57.1387\">«attribute»</text><text fill=\"#000000\" font-family=\"sans-serif\" font-size=\"14\" lengthAdjust=\"spacing\" textLength=\"9\" x=\"206.5\" y=\"72.9639\">b</text><line style=\"stroke:#181818;stroke-width:0.5;\" x1=\"160.5\" x2=\"269.5\" y1=\"81.2656\" y2=\"81.2656\"/><text fill=\"#000000\" font-family=\"sans-serif\" font-size=\"14\" lengthAdjust=\"spacing\" textLength=\"99\" x=\"165.5\" y=\"108.7795\">= A(y=a, x=\"\")</text><text fill=\"#000000\" font-family=\"sans-serif\" font-size=\"14\" font-style=\"italic\" lengthAdjust=\"spacing\" textLength=\"44\" x=\"193\" y=\"93.6123\">values</text></g></a><!--MD5=[1dd1bfd58a279cf63c5f349dbc8fc6a1]\n",
       "class E11--><a href=\"psysml:b12c6daa-efd4-472f-91f1-7e0209b6a2bc\" target=\"_top\" title=\"psysml:b12c6daa-efd4-472f-91f1-7e0209b6a2bc\" xlink:actuate=\"onRequest\" xlink:href=\"psysml:b12c6daa-efd4-472f-91f1-7e0209b6a2bc\" xlink:show=\"new\" xlink:title=\"psysml:b12c6daa-efd4-472f-91f1-7e0209b6a2bc\" xlink:type=\"simple\"><g id=\"elem_E11\"><rect fill=\"#FFFACD\" filter=\"url(#f15m6hmetrbggv)\" height=\"75.0813\" id=\"E11\" rx=\"10\" ry=\"10\" style=\"stroke:#181818;stroke-width:0.5;\" width=\"93\" x=\"31.5\" y=\"41\"/><text fill=\"#000000\" font-family=\"sans-serif\" font-size=\"12\" font-style=\"italic\" lengthAdjust=\"spacing\" textLength=\"69\" x=\"43.5\" y=\"57.1387\">«attribute»</text><text fill=\"#000000\" font-family=\"sans-serif\" font-size=\"14\" lengthAdjust=\"spacing\" textLength=\"8\" x=\"70\" y=\"72.9639\">c</text><line style=\"stroke:#181818;stroke-width:0.5;\" x1=\"32.5\" x2=\"123.5\" y1=\"81.2656\" y2=\"81.2656\"/><text fill=\"#000000\" font-family=\"sans-serif\" font-size=\"14\" lengthAdjust=\"spacing\" textLength=\"81\" x=\"37.5\" y=\"108.7795\">= A(\"test2\")</text><text fill=\"#000000\" font-family=\"sans-serif\" font-size=\"14\" font-style=\"italic\" lengthAdjust=\"spacing\" textLength=\"44\" x=\"56\" y=\"93.6123\">values</text></g></a><text fill=\"#000000\" font-family=\"sans-serif\" font-size=\"14\" lengthAdjust=\"spacing\" textLength=\"9\" x=\"688.5\" y=\"57.1982\">p</text><rect fill=\"#FFFACD\" height=\"12\" style=\"stroke:#181818;stroke-width:1.5;\" width=\"12\" x=\"687\" y=\"72.5\"/><text fill=\"#000000\" font-family=\"sans-serif\" font-size=\"14\" lengthAdjust=\"spacing\" textLength=\"9\" x=\"735.5\" y=\"57.1982\">q</text><rect fill=\"#FFFACD\" height=\"12\" style=\"stroke:#181818;stroke-width:1.5;\" width=\"12\" x=\"734\" y=\"72.5\"/><text fill=\"#000000\" font-family=\"sans-serif\" font-size=\"14\" lengthAdjust=\"spacing\" textLength=\"39\" x=\"720.5\" y=\"223.7151\">result</text><rect fill=\"#FFFACD\" height=\"12\" style=\"stroke:#181818;stroke-width:1.5;\" width=\"12\" x=\"734\" y=\"198.72\"/><!--MD5=[05d275557350bfb9b23a4ef7222b4c39]\n",
       "link E3 to E2--><g id=\"link_E3_E2\"><a href=\"psysml:de703d0e-2ba0-4603-81fc-fcf4f6dc7e4d\" target=\"_top\" title=\"psysml:de703d0e-2ba0-4603-81fc-fcf4f6dc7e4d\" xlink:actuate=\"onRequest\" xlink:href=\"psysml:de703d0e-2ba0-4603-81fc-fcf4f6dc7e4d\" xlink:show=\"new\" xlink:title=\"psysml:de703d0e-2ba0-4603-81fc-fcf4f6dc7e4d\" xlink:type=\"simple\"><path d=\"M601.86,102.86 C601.25,104.42 600.63,106.01 600,107.62 \" fill=\"none\" id=\"E3-to-E2\" style=\"stroke:#181818;stroke-width:1.0;\"/><polygon fill=\"#FFFFFF\" points=\"592.58,126.56,592.9814,106.3155,606.0197,111.4149,592.58,126.56\" style=\"stroke:#181818;stroke-width:1.0;\"/><ellipse cx=\"596.9201\" cy=\"101.7356\" fill=\"#181818\" rx=\"2\" ry=\"2\" style=\"stroke:#181818;stroke-width:1.0;\"/><ellipse cx=\"606.2332\" cy=\"105.3779\" fill=\"#181818\" rx=\"2\" ry=\"2\" style=\"stroke:#181818;stroke-width:1.0;\"/></a></g><!--MD5=[fbb1f97aabe85094e289b9c6f8d63a50]\n",
       "@startuml\r\n",
       "skin sysmlc\r\n",
       "skinparam wrapWidth 300\r\n",
       "hide circle\r\n",
       "skinparam ranksep 10\r\n",
       "skinparam rectangle {\r\n",
       " backgroundColor<<block>> LightGreen\r\n",
       "}\r\n",
       "\r\n",
       "package \"ParameterTest\" as E1  [[psysml:23a083da-d633-42aa-b737-bc534de6ad98 ]]  {\r\n",
       "def \"A\" as E2  <<(T,blue) attribute  def>> [[psysml:04ef3948-8524-44aa-a324-078bab0d23fb ]] \r\n",
       "comp usage \"a: A  \" as E3  <<(T,blue) attribute>> [[psysml:30f6a8e4-9ac7-4724-976d-d9f1147f3701 ]] {\r\n",
       "}\r\n",
       "rec def \"F\" as E4  <<(T,blue) calculation  def>> [[psysml:9fc68d1c-0eda-4ba7-8d2a-4dac99044350 ]] {\r\n",
       "portin \"p\" as E5  [[psysml:c0525d75-8c24-4ff5-9432-36973c13d292 ]] \r\n",
       "portin \"q\" as E6  [[psysml:ea5aeb99-c612-42a4-b65a-a51f249da328 ]] \r\n",
       "portout \"result\" as E7  [[psysml:ef9cf0a8-f443-48d9-b6fd-29ed95d8a001 ]] \r\n",
       "}\r\n",
       "\r\n",
       "comp usage \"f  \" as E8  <<(T,blue) attribute>> [[psysml:201caa5e-7003-43c9-93c7-31c1dd2687e1 ]] {\r\n",
       "##//values//##\r\n",
       " <U+003D> F(a, 2)\r\n",
       "}\r\n",
       "comp usage \"g  \" as E9  <<(T,blue) attribute>> [[psysml:ef9d06c8-83aa-4b51-a725-4880c3e71513 ]] {\r\n",
       "##//values//##\r\n",
       " <U+003D> F(q <U+003D> 1, p <U+003D> a)\r\n",
       "}\r\n",
       "comp usage \"b  \" as E10  <<(T,blue) attribute>> [[psysml:472a68ff-87fb-48cb-b812-c0679e72bd97 ]] {\r\n",
       "##//values//##\r\n",
       " <U+003D> A(y<U+003D>a, x<U+003D>\"\")\r\n",
       "}\r\n",
       "comp usage \"c  \" as E11  <<(T,blue) attribute>> [[psysml:b12c6daa-efd4-472f-91f1-7e0209b6a2bc ]] {\r\n",
       "##//values//##\r\n",
       " <U+003D> A(\"test2\")\r\n",
       "}\r\n",
       "}\r\n",
       "E3 - -:|> E2 [[psysml:de703d0e-2ba0-4603-81fc-fcf4f6dc7e4d ]] \r\n",
       "@enduml\r\n",
       "\n",
       "PlantUML version 1.2022.7(Mon Aug 22 17:01:30 UTC 2022)\n",
       "(EPL source distribution)\n",
       "Java Runtime: OpenJDK Runtime Environment\n",
       "JVM: OpenJDK 64-Bit Server VM\n",
       "Default Encoding: UTF-8\n",
       "Language: en\n",
       "Country: null\n",
       "--></g></svg>"
      ]
     },
     "execution_count": 26,
     "metadata": {},
     "output_type": "execute_result"
    }
   ],
   "source": [
    "%viz --style=\"STDCOLOR\" --view=\"Interconnection\" \"ParameterTest\""
   ]
  },
  {
   "cell_type": "code",
   "execution_count": 27,
   "id": "3cd7799f",
   "metadata": {
    "execution": {
     "iopub.execute_input": "2024-12-16T03:23:35.188925Z",
     "iopub.status.busy": "2024-12-16T03:23:35.188676Z",
     "iopub.status.idle": "2024-12-16T03:23:35.203655Z",
     "shell.execute_reply": "2024-12-16T03:23:35.203496Z"
    }
   },
   "outputs": [
    {
     "data": {
      "image/svg+xml": [
       "<?xml version=\"1.0\" encoding=\"UTF-8\" standalone=\"no\"?><svg xmlns=\"http://www.w3.org/2000/svg\" xmlns:xlink=\"http://www.w3.org/1999/xlink\" contentStyleType=\"text/css\" height=\"157px\" preserveAspectRatio=\"none\" style=\"width:169px;height:157px;background:#FFFFFF;\" version=\"1.1\" viewBox=\"0 0 169 157\" width=\"169px\" zoomAndPan=\"magnify\"><defs><filter height=\"300%\" id=\"f1txu1st3pogpd\" width=\"300%\" x=\"-1\" y=\"-1\"><feGaussianBlur result=\"blurOut\" stdDeviation=\"2.0\"/><feColorMatrix in=\"blurOut\" result=\"blurOut2\" type=\"matrix\" values=\"0 0 0 0 0 0 0 0 0 0 0 0 0 0 0 0 0 0 .4 0\"/><feOffset dx=\"4.0\" dy=\"4.0\" in=\"blurOut2\" result=\"blurOut3\"/><feBlend in=\"SourceGraphic\" in2=\"blurOut3\" mode=\"normal\"/></filter></defs><g><!--MD5=[fbc87193dbaf4d95561dea2c320d4a47]\n",
       "cluster E1--><g id=\"cluster_E1\"><a href=\"psysml:9fc68d1c-0eda-4ba7-8d2a-4dac99044350\" target=\"_top\" title=\"psysml:9fc68d1c-0eda-4ba7-8d2a-4dac99044350\" xlink:actuate=\"onRequest\" xlink:href=\"psysml:9fc68d1c-0eda-4ba7-8d2a-4dac99044350\" xlink:show=\"new\" xlink:title=\"psysml:9fc68d1c-0eda-4ba7-8d2a-4dac99044350\" xlink:type=\"simple\"><rect fill=\"#FFFFFF\" filter=\"url(#f1txu1st3pogpd)\" height=\"87.72\" id=\"E1\" style=\"stroke:#A80036;stroke-width:1.5;\" width=\"150\" x=\"7\" y=\"42.0986\"/><rect fill=\"#FFFACD\" height=\"40.2656\" style=\"stroke:#A80036;stroke-width:1.5;\" width=\"150\" x=\"7\" y=\"42.0986\"/><text fill=\"#000000\" font-family=\"sans-serif\" font-size=\"12\" font-style=\"italic\" lengthAdjust=\"spacing\" textLength=\"110\" x=\"27\" y=\"58.2373\">«calculation  def»</text><text fill=\"#000000\" font-family=\"sans-serif\" font-size=\"14\" lengthAdjust=\"spacing\" textLength=\"8\" x=\"78\" y=\"74.0625\">F</text></a></g><text fill=\"#000000\" font-family=\"sans-serif\" font-size=\"14\" lengthAdjust=\"spacing\" textLength=\"9\" x=\"20.5\" y=\"20.7969\">p</text><rect fill=\"#FFFACD\" height=\"12\" style=\"stroke:#181818;stroke-width:1.5;\" width=\"12\" x=\"19\" y=\"36.0986\"/><text fill=\"#000000\" font-family=\"sans-serif\" font-size=\"14\" lengthAdjust=\"spacing\" textLength=\"9\" x=\"67.5\" y=\"20.7969\">q</text><rect fill=\"#FFFACD\" height=\"12\" style=\"stroke:#181818;stroke-width:1.5;\" width=\"12\" x=\"66\" y=\"36.0986\"/><text fill=\"#000000\" font-family=\"sans-serif\" font-size=\"14\" lengthAdjust=\"spacing\" textLength=\"39\" x=\"52.5\" y=\"148.8138\">result</text><rect fill=\"#FFFACD\" height=\"12\" style=\"stroke:#181818;stroke-width:1.5;\" width=\"12\" x=\"66\" y=\"123.8186\"/><!--MD5=[f6670227dc7bc82dbbac0ae894abddcc]\n",
       "@startuml\r\n",
       "skin sysmlc\r\n",
       "skinparam wrapWidth 300\r\n",
       "hide circle\r\n",
       "skinparam ranksep 8\r\n",
       "\r\n",
       "rec def \"F\" as E1  <<(T,blue) calculation  def>> [[psysml:9fc68d1c-0eda-4ba7-8d2a-4dac99044350 ]] {\r\n",
       "portin \"p\" as E2  [[psysml:c0525d75-8c24-4ff5-9432-36973c13d292 ]] \r\n",
       "portin \"q\" as E3  [[psysml:ea5aeb99-c612-42a4-b65a-a51f249da328 ]] \r\n",
       "portout \"result\" as E4  [[psysml:ef9cf0a8-f443-48d9-b6fd-29ed95d8a001 ]] \r\n",
       "}\r\n",
       "\r\n",
       "@enduml\r\n",
       "\n",
       "PlantUML version 1.2022.7(Mon Aug 22 17:01:30 UTC 2022)\n",
       "(EPL source distribution)\n",
       "Java Runtime: OpenJDK Runtime Environment\n",
       "JVM: OpenJDK 64-Bit Server VM\n",
       "Default Encoding: UTF-8\n",
       "Language: en\n",
       "Country: null\n",
       "--></g></svg>"
      ]
     },
     "execution_count": 27,
     "metadata": {},
     "output_type": "execute_result"
    }
   ],
   "source": [
    "%viz --style=\"STDCOLOR\" --view=\"Action\" \"ParameterTest\""
   ]
  },
  {
   "cell_type": "code",
   "execution_count": 28,
   "id": "b7c67d04",
   "metadata": {
    "execution": {
     "iopub.execute_input": "2024-12-16T03:23:35.257914Z",
     "iopub.status.busy": "2024-12-16T03:23:35.257685Z",
     "iopub.status.idle": "2024-12-16T03:23:35.267965Z",
     "shell.execute_reply": "2024-12-16T03:23:35.267782Z"
    }
   },
   "outputs": [
    {
     "data": {
      "image/svg+xml": [
       "<?xml version=\"1.0\" encoding=\"UTF-8\" standalone=\"no\"?><svg xmlns=\"http://www.w3.org/2000/svg\" xmlns:xlink=\"http://www.w3.org/1999/xlink\" contentStyleType=\"text/css\" height=\"10px\" preserveAspectRatio=\"none\" style=\"width:10px;height:10px;background:#FFFFFF;\" version=\"1.1\" viewBox=\"0 0 10 10\" width=\"10px\" zoomAndPan=\"magnify\"><defs/><g><!--MD5=[e54413e611bf323face5c486cd3a32bb]\n",
       "@startuml\r\n",
       "skin sysmlc\r\n",
       "skinparam wrapWidth 300\r\n",
       "hide circle\r\n",
       "skinparam roundcorner 20\r\n",
       "skinparam BoxPadding 20\r\n",
       "skinparam SequenceBoxBackgroundColor #white\r\n",
       "skinparam style strictuml\r\n",
       "skinparam maxMessageSize 100\r\n",
       "\r\n",
       "@enduml\r\n",
       "\n",
       "PlantUML version 1.2022.7(Mon Aug 22 17:01:30 UTC 2022)\n",
       "(EPL source distribution)\n",
       "Java Runtime: OpenJDK Runtime Environment\n",
       "JVM: OpenJDK 64-Bit Server VM\n",
       "Default Encoding: UTF-8\n",
       "Language: en\n",
       "Country: null\n",
       "--></g></svg>"
      ]
     },
     "execution_count": 28,
     "metadata": {},
     "output_type": "execute_result"
    }
   ],
   "source": [
    "%viz --style=\"STDCOLOR\" --view=\"Sequence\" \"ParameterTest\""
   ]
  },
  {
   "cell_type": "code",
   "execution_count": 29,
   "id": "45746c79",
   "metadata": {
    "execution": {
     "iopub.execute_input": "2024-12-16T03:23:35.320856Z",
     "iopub.status.busy": "2024-12-16T03:23:35.320625Z",
     "iopub.status.idle": "2024-12-16T03:23:35.358667Z",
     "shell.execute_reply": "2024-12-16T03:23:35.357777Z"
    }
   },
   "outputs": [
    {
     "data": {
      "image/svg+xml": [
       "<?xml version=\"1.0\" encoding=\"UTF-8\" standalone=\"no\"?><svg xmlns=\"http://www.w3.org/2000/svg\" xmlns:xlink=\"http://www.w3.org/1999/xlink\" contentStyleType=\"text/css\" height=\"430px\" preserveAspectRatio=\"none\" style=\"width:858px;height:430px;background:#FFFFFF;\" version=\"1.1\" viewBox=\"0 0 858 430\" width=\"858px\" zoomAndPan=\"magnify\"><defs><filter height=\"300%\" id=\"f15soyzcthdg2t\" width=\"300%\" x=\"-1\" y=\"-1\"><feGaussianBlur result=\"blurOut\" stdDeviation=\"2.0\"/><feColorMatrix in=\"blurOut\" result=\"blurOut2\" type=\"matrix\" values=\"0 0 0 0 0 0 0 0 0 0 0 0 0 0 0 0 0 0 .4 0\"/><feOffset dx=\"4.0\" dy=\"4.0\" in=\"blurOut2\" result=\"blurOut3\"/><feBlend in=\"SourceGraphic\" in2=\"blurOut3\" mode=\"normal\"/></filter></defs><g><!--MD5=[fbc87193dbaf4d95561dea2c320d4a47]\n",
       "cluster E1--><g id=\"cluster_E1\"><a href=\"psysml:23a083da-d633-42aa-b737-bc534de6ad98\" target=\"_top\" title=\"psysml:23a083da-d633-42aa-b737-bc534de6ad98\" xlink:actuate=\"onRequest\" xlink:href=\"psysml:23a083da-d633-42aa-b737-bc534de6ad98\" xlink:show=\"new\" xlink:title=\"psysml:23a083da-d633-42aa-b737-bc534de6ad98\" xlink:type=\"simple\"><polygon fill=\"none\" filter=\"url(#f15soyzcthdg2t)\" points=\"16,6,129.6875,6,136.6875,28.2969,841,28.2969,841,423.72,16,423.72,16,6\" style=\"stroke:#000000;stroke-width:1.5;\"/><line style=\"stroke:#000000;stroke-width:1.5;\" x1=\"16\" x2=\"136.6875\" y1=\"28.2969\" y2=\"28.2969\"/><text fill=\"#000000\" font-family=\"sans-serif\" font-size=\"14\" font-weight=\"bold\" lengthAdjust=\"spacing\" textLength=\"107.6875\" x=\"20\" y=\"20.9951\">ParameterTest</text></a></g><!--MD5=[f6df4d0ebaf0b5dfb2ced0ae5af7c670]\n",
       "cluster E4--><g id=\"cluster_E4\"><a href=\"psysml:9fc68d1c-0eda-4ba7-8d2a-4dac99044350\" target=\"_top\" title=\"psysml:9fc68d1c-0eda-4ba7-8d2a-4dac99044350\" xlink:actuate=\"onRequest\" xlink:href=\"psysml:9fc68d1c-0eda-4ba7-8d2a-4dac99044350\" xlink:show=\"new\" xlink:title=\"psysml:9fc68d1c-0eda-4ba7-8d2a-4dac99044350\" xlink:type=\"simple\"><rect fill=\"#FFFFFF\" filter=\"url(#f15soyzcthdg2t)\" height=\"315.22\" id=\"E4\" style=\"stroke:#A80036;stroke-width:1.5;\" width=\"150\" x=\"675\" y=\"78.5\"/><rect fill=\"#FFFACD\" height=\"40.2656\" style=\"stroke:#A80036;stroke-width:1.5;\" width=\"150\" x=\"675\" y=\"78.5\"/><text fill=\"#000000\" font-family=\"sans-serif\" font-size=\"12\" font-style=\"italic\" lengthAdjust=\"spacing\" textLength=\"110\" x=\"695\" y=\"94.6387\">«calculation  def»</text><text fill=\"#000000\" font-family=\"sans-serif\" font-size=\"14\" lengthAdjust=\"spacing\" textLength=\"8\" x=\"746\" y=\"110.4639\">F</text></a></g><!--MD5=[b4997ac47864f28c2f74865a473b2911]\n",
       "class E2--><a href=\"psysml:04ef3948-8524-44aa-a324-078bab0d23fb\" target=\"_top\" title=\"psysml:04ef3948-8524-44aa-a324-078bab0d23fb\" xlink:actuate=\"onRequest\" xlink:href=\"psysml:04ef3948-8524-44aa-a324-078bab0d23fb\" xlink:show=\"new\" xlink:title=\"psysml:04ef3948-8524-44aa-a324-078bab0d23fb\" xlink:type=\"simple\"><g id=\"elem_E2\"><rect fill=\"#FFFACD\" filter=\"url(#f15soyzcthdg2t)\" height=\"91.3781\" id=\"E2\" style=\"stroke:#181818;stroke-width:0.5;\" width=\"99\" x=\"537.5\" y=\"176\"/><text fill=\"#000000\" font-family=\"sans-serif\" font-size=\"12\" font-style=\"italic\" lengthAdjust=\"spacing\" textLength=\"97\" x=\"538.5\" y=\"192.1387\">«attribute  def»</text><text fill=\"#000000\" font-family=\"sans-serif\" font-size=\"14\" lengthAdjust=\"spacing\" textLength=\"9\" x=\"582.5\" y=\"207.9639\">A</text><line style=\"stroke:#181818;stroke-width:0.5;\" x1=\"538.5\" x2=\"635.5\" y1=\"216.2656\" y2=\"216.2656\"/><text fill=\"#000000\" font-family=\"sans-serif\" font-size=\"14\" lengthAdjust=\"spacing\" textLength=\"56\" x=\"543.5\" y=\"243.7795\">x: String</text><text fill=\"#000000\" font-family=\"sans-serif\" font-size=\"14\" lengthAdjust=\"spacing\" textLength=\"25\" x=\"543.5\" y=\"260.0764\">y: A</text><text fill=\"#000000\" font-family=\"sans-serif\" font-size=\"14\" font-style=\"italic\" lengthAdjust=\"spacing\" textLength=\"66\" x=\"554\" y=\"228.6123\">attributes</text></g></a><!--MD5=[09b614a08d8cba4a07c9adeb5e0fee81]\n",
       "class E3--><a href=\"psysml:30f6a8e4-9ac7-4724-976d-d9f1147f3701\" target=\"_top\" title=\"psysml:30f6a8e4-9ac7-4724-976d-d9f1147f3701\" xlink:actuate=\"onRequest\" xlink:href=\"psysml:30f6a8e4-9ac7-4724-976d-d9f1147f3701\" xlink:show=\"new\" xlink:title=\"psysml:30f6a8e4-9ac7-4724-976d-d9f1147f3701\" xlink:type=\"simple\"><g id=\"elem_E3\"><rect fill=\"#FFFACD\" filter=\"url(#f15soyzcthdg2t)\" height=\"48.2656\" id=\"E3\" rx=\"10\" ry=\"10\" style=\"stroke:#181818;stroke-width:0.5;\" width=\"71\" x=\"575.5\" y=\"54.5\"/><text fill=\"#000000\" font-family=\"sans-serif\" font-size=\"12\" font-style=\"italic\" lengthAdjust=\"spacing\" textLength=\"69\" x=\"576.5\" y=\"70.6387\">«attribute»</text><text fill=\"#000000\" font-family=\"sans-serif\" font-size=\"14\" lengthAdjust=\"spacing\" textLength=\"26\" x=\"594\" y=\"86.4639\">a: A</text><line style=\"stroke:#181818;stroke-width:0.5;\" x1=\"576.5\" x2=\"645.5\" y1=\"94.7656\" y2=\"94.7656\"/></g></a><!--MD5=[b9389687b975829384b498ac4b7476b2]\n",
       "class E8--><a href=\"psysml:201caa5e-7003-43c9-93c7-31c1dd2687e1\" target=\"_top\" title=\"psysml:201caa5e-7003-43c9-93c7-31c1dd2687e1\" xlink:actuate=\"onRequest\" xlink:href=\"psysml:201caa5e-7003-43c9-93c7-31c1dd2687e1\" xlink:show=\"new\" xlink:title=\"psysml:201caa5e-7003-43c9-93c7-31c1dd2687e1\" xlink:type=\"simple\"><g id=\"elem_E8\"><rect fill=\"#FFFACD\" filter=\"url(#f15soyzcthdg2t)\" height=\"75.0813\" id=\"E8\" rx=\"10\" ry=\"10\" style=\"stroke:#181818;stroke-width:0.5;\" width=\"71\" x=\"469.5\" y=\"41\"/><text fill=\"#000000\" font-family=\"sans-serif\" font-size=\"12\" font-style=\"italic\" lengthAdjust=\"spacing\" textLength=\"69\" x=\"470.5\" y=\"57.1387\">«attribute»</text><text fill=\"#000000\" font-family=\"sans-serif\" font-size=\"14\" lengthAdjust=\"spacing\" textLength=\"4\" x=\"499\" y=\"72.9639\">f</text><line style=\"stroke:#181818;stroke-width:0.5;\" x1=\"470.5\" x2=\"539.5\" y1=\"81.2656\" y2=\"81.2656\"/><text fill=\"#000000\" font-family=\"sans-serif\" font-size=\"14\" lengthAdjust=\"spacing\" textLength=\"59\" x=\"475.5\" y=\"108.7795\">= F(a, 2)</text><text fill=\"#000000\" font-family=\"sans-serif\" font-size=\"14\" font-style=\"italic\" lengthAdjust=\"spacing\" textLength=\"44\" x=\"483\" y=\"93.6123\">values</text></g></a><!--MD5=[fd4143e9d270a159db93a4ea2a975926]\n",
       "class E9--><a href=\"psysml:ef9d06c8-83aa-4b51-a725-4880c3e71513\" target=\"_top\" title=\"psysml:ef9d06c8-83aa-4b51-a725-4880c3e71513\" xlink:actuate=\"onRequest\" xlink:href=\"psysml:ef9d06c8-83aa-4b51-a725-4880c3e71513\" xlink:show=\"new\" xlink:title=\"psysml:ef9d06c8-83aa-4b51-a725-4880c3e71513\" xlink:type=\"simple\"><g id=\"elem_E9\"><rect fill=\"#FFFACD\" filter=\"url(#f15soyzcthdg2t)\" height=\"75.0813\" id=\"E9\" rx=\"10\" ry=\"10\" style=\"stroke:#181818;stroke-width:0.5;\" width=\"129\" x=\"305.5\" y=\"41\"/><text fill=\"#000000\" font-family=\"sans-serif\" font-size=\"12\" font-style=\"italic\" lengthAdjust=\"spacing\" textLength=\"69\" x=\"335.5\" y=\"57.1387\">«attribute»</text><text fill=\"#000000\" font-family=\"sans-serif\" font-size=\"14\" lengthAdjust=\"spacing\" textLength=\"9\" x=\"361.5\" y=\"72.9639\">g</text><line style=\"stroke:#181818;stroke-width:0.5;\" x1=\"306.5\" x2=\"433.5\" y1=\"81.2656\" y2=\"81.2656\"/><text fill=\"#000000\" font-family=\"sans-serif\" font-size=\"14\" lengthAdjust=\"spacing\" textLength=\"117\" x=\"311.5\" y=\"108.7795\">= F(q = 1, p = a)</text><text fill=\"#000000\" font-family=\"sans-serif\" font-size=\"14\" font-style=\"italic\" lengthAdjust=\"spacing\" textLength=\"44\" x=\"348\" y=\"93.6123\">values</text></g></a><!--MD5=[96f4274e9e20536e775497830990834d]\n",
       "class E10--><a href=\"psysml:472a68ff-87fb-48cb-b812-c0679e72bd97\" target=\"_top\" title=\"psysml:472a68ff-87fb-48cb-b812-c0679e72bd97\" xlink:actuate=\"onRequest\" xlink:href=\"psysml:472a68ff-87fb-48cb-b812-c0679e72bd97\" xlink:show=\"new\" xlink:title=\"psysml:472a68ff-87fb-48cb-b812-c0679e72bd97\" xlink:type=\"simple\"><g id=\"elem_E10\"><rect fill=\"#FFFACD\" filter=\"url(#f15soyzcthdg2t)\" height=\"75.0813\" id=\"E10\" rx=\"10\" ry=\"10\" style=\"stroke:#181818;stroke-width:0.5;\" width=\"111\" x=\"159.5\" y=\"41\"/><text fill=\"#000000\" font-family=\"sans-serif\" font-size=\"12\" font-style=\"italic\" lengthAdjust=\"spacing\" textLength=\"69\" x=\"180.5\" y=\"57.1387\">«attribute»</text><text fill=\"#000000\" font-family=\"sans-serif\" font-size=\"14\" lengthAdjust=\"spacing\" textLength=\"9\" x=\"206.5\" y=\"72.9639\">b</text><line style=\"stroke:#181818;stroke-width:0.5;\" x1=\"160.5\" x2=\"269.5\" y1=\"81.2656\" y2=\"81.2656\"/><text fill=\"#000000\" font-family=\"sans-serif\" font-size=\"14\" lengthAdjust=\"spacing\" textLength=\"99\" x=\"165.5\" y=\"108.7795\">= A(y=a, x=\"\")</text><text fill=\"#000000\" font-family=\"sans-serif\" font-size=\"14\" font-style=\"italic\" lengthAdjust=\"spacing\" textLength=\"44\" x=\"193\" y=\"93.6123\">values</text></g></a><!--MD5=[1dd1bfd58a279cf63c5f349dbc8fc6a1]\n",
       "class E11--><a href=\"psysml:b12c6daa-efd4-472f-91f1-7e0209b6a2bc\" target=\"_top\" title=\"psysml:b12c6daa-efd4-472f-91f1-7e0209b6a2bc\" xlink:actuate=\"onRequest\" xlink:href=\"psysml:b12c6daa-efd4-472f-91f1-7e0209b6a2bc\" xlink:show=\"new\" xlink:title=\"psysml:b12c6daa-efd4-472f-91f1-7e0209b6a2bc\" xlink:type=\"simple\"><g id=\"elem_E11\"><rect fill=\"#FFFACD\" filter=\"url(#f15soyzcthdg2t)\" height=\"75.0813\" id=\"E11\" rx=\"10\" ry=\"10\" style=\"stroke:#181818;stroke-width:0.5;\" width=\"93\" x=\"31.5\" y=\"41\"/><text fill=\"#000000\" font-family=\"sans-serif\" font-size=\"12\" font-style=\"italic\" lengthAdjust=\"spacing\" textLength=\"69\" x=\"43.5\" y=\"57.1387\">«attribute»</text><text fill=\"#000000\" font-family=\"sans-serif\" font-size=\"14\" lengthAdjust=\"spacing\" textLength=\"8\" x=\"70\" y=\"72.9639\">c</text><line style=\"stroke:#181818;stroke-width:0.5;\" x1=\"32.5\" x2=\"123.5\" y1=\"81.2656\" y2=\"81.2656\"/><text fill=\"#000000\" font-family=\"sans-serif\" font-size=\"14\" lengthAdjust=\"spacing\" textLength=\"81\" x=\"37.5\" y=\"108.7795\">= A(\"test2\")</text><text fill=\"#000000\" font-family=\"sans-serif\" font-size=\"14\" font-style=\"italic\" lengthAdjust=\"spacing\" textLength=\"44\" x=\"56\" y=\"93.6123\">values</text></g></a><text fill=\"#000000\" font-family=\"sans-serif\" font-size=\"14\" lengthAdjust=\"spacing\" textLength=\"9\" x=\"688.5\" y=\"57.1982\">p</text><rect fill=\"#FFFACD\" height=\"12\" style=\"stroke:#181818;stroke-width:1.5;\" width=\"12\" x=\"687\" y=\"72.5\"/><text fill=\"#000000\" font-family=\"sans-serif\" font-size=\"14\" lengthAdjust=\"spacing\" textLength=\"9\" x=\"735.5\" y=\"57.1982\">q</text><rect fill=\"#FFFACD\" height=\"12\" style=\"stroke:#181818;stroke-width:1.5;\" width=\"12\" x=\"734\" y=\"72.5\"/><text fill=\"#000000\" font-family=\"sans-serif\" font-size=\"14\" lengthAdjust=\"spacing\" textLength=\"39\" x=\"720.5\" y=\"412.7151\">result</text><rect fill=\"#FFFACD\" height=\"12\" style=\"stroke:#181818;stroke-width:1.5;\" width=\"12\" x=\"734\" y=\"387.72\"/><!--MD5=[05d275557350bfb9b23a4ef7222b4c39]\n",
       "link E3 to E2--><g id=\"link_E3_E2\"><a href=\"psysml:de703d0e-2ba0-4603-81fc-fcf4f6dc7e4d\" target=\"_top\" title=\"psysml:de703d0e-2ba0-4603-81fc-fcf4f6dc7e4d\" xlink:actuate=\"onRequest\" xlink:href=\"psysml:de703d0e-2ba0-4603-81fc-fcf4f6dc7e4d\" xlink:show=\"new\" xlink:title=\"psysml:de703d0e-2ba0-4603-81fc-fcf4f6dc7e4d\" xlink:type=\"simple\"><path d=\"M607.04,102.78 C604.55,117.39 601.21,137.01 597.97,156.04 \" fill=\"none\" id=\"E3-to-E2\" style=\"stroke:#181818;stroke-width:1.0;\"/><polygon fill=\"#FFFFFF\" points=\"594.61,175.8,590.8965,155.895,604.6981,158.2435,594.61,175.8\" style=\"stroke:#181818;stroke-width:1.0;\"/><ellipse cx=\"593.8244\" cy=\"150.6113\" fill=\"#181818\" rx=\"2\" ry=\"2\" style=\"stroke:#181818;stroke-width:1.0;\"/><ellipse cx=\"603.6827\" cy=\"152.2888\" fill=\"#181818\" rx=\"2\" ry=\"2\" style=\"stroke:#181818;stroke-width:1.0;\"/></a></g><!--MD5=[1a6d14c4ae8136cef4d31ec6e4817bb1]\n",
       "@startuml\r\n",
       "skin sysmlc\r\n",
       "skinparam wrapWidth 300\r\n",
       "hide circle\r\n",
       "\r\n",
       "package \"ParameterTest\" as E1  [[psysml:23a083da-d633-42aa-b737-bc534de6ad98 ]]  {\r\n",
       "comp def \"A\" as E2  <<(T,blue) attribute  def>> [[psysml:04ef3948-8524-44aa-a324-078bab0d23fb ]] {\r\n",
       "##//attributes//##\r\n",
       "x: String\r\n",
       "y: A\r\n",
       "}\r\n",
       "comp usage \"a: A  \" as E3  <<(T,blue) attribute>> [[psysml:30f6a8e4-9ac7-4724-976d-d9f1147f3701 ]] {\r\n",
       "}\r\n",
       "rec def \"F\" as E4  <<(T,blue) calculation  def>> [[psysml:9fc68d1c-0eda-4ba7-8d2a-4dac99044350 ]] {\r\n",
       "portin \"p\" as E5  [[psysml:c0525d75-8c24-4ff5-9432-36973c13d292 ]] \r\n",
       "portin \"q\" as E6  [[psysml:ea5aeb99-c612-42a4-b65a-a51f249da328 ]] \r\n",
       "portout \"result\" as E7  [[psysml:ef9cf0a8-f443-48d9-b6fd-29ed95d8a001 ]] \r\n",
       "}\r\n",
       "\r\n",
       "comp usage \"f  \" as E8  <<(T,blue) attribute>> [[psysml:201caa5e-7003-43c9-93c7-31c1dd2687e1 ]] {\r\n",
       "##//values//##\r\n",
       " <U+003D> F(a, 2)\r\n",
       "}\r\n",
       "comp usage \"g  \" as E9  <<(T,blue) attribute>> [[psysml:ef9d06c8-83aa-4b51-a725-4880c3e71513 ]] {\r\n",
       "##//values//##\r\n",
       " <U+003D> F(q <U+003D> 1, p <U+003D> a)\r\n",
       "}\r\n",
       "comp usage \"b  \" as E10  <<(T,blue) attribute>> [[psysml:472a68ff-87fb-48cb-b812-c0679e72bd97 ]] {\r\n",
       "##//values//##\r\n",
       " <U+003D> A(y<U+003D>a, x<U+003D>\"\")\r\n",
       "}\r\n",
       "comp usage \"c  \" as E11  <<(T,blue) attribute>> [[psysml:b12c6daa-efd4-472f-91f1-7e0209b6a2bc ]] {\r\n",
       "##//values//##\r\n",
       " <U+003D> A(\"test2\")\r\n",
       "}\r\n",
       "}\r\n",
       "E3 - -:|> E2 [[psysml:de703d0e-2ba0-4603-81fc-fcf4f6dc7e4d ]] \r\n",
       "@enduml\r\n",
       "\n",
       "PlantUML version 1.2022.7(Mon Aug 22 17:01:30 UTC 2022)\n",
       "(EPL source distribution)\n",
       "Java Runtime: OpenJDK Runtime Environment\n",
       "JVM: OpenJDK 64-Bit Server VM\n",
       "Default Encoding: UTF-8\n",
       "Language: en\n",
       "Country: null\n",
       "--></g></svg>"
      ]
     },
     "execution_count": 29,
     "metadata": {},
     "output_type": "execute_result"
    }
   ],
   "source": [
    "%viz --style=\"STDCOLOR\" --view=\"MIXED\" \"ParameterTest\""
   ]
  },
  {
   "cell_type": "code",
   "execution_count": 30,
   "id": "60ae271d",
   "metadata": {
    "execution": {
     "iopub.execute_input": "2024-12-16T03:23:35.414417Z",
     "iopub.status.busy": "2024-12-16T03:23:35.414180Z",
     "iopub.status.idle": "2024-12-16T03:23:35.575376Z",
     "shell.execute_reply": "2024-12-16T03:23:35.575168Z"
    }
   },
   "outputs": [
    {
     "data": {
      "image/svg+xml": [
       "<?xml version=\"1.0\" encoding=\"UTF-8\" standalone=\"no\"?><svg xmlns=\"http://www.w3.org/2000/svg\" xmlns:xlink=\"http://www.w3.org/1999/xlink\" contentStyleType=\"text/css\" height=\"430px\" preserveAspectRatio=\"none\" style=\"width:893px;height:430px;background:#FFFFFF;\" version=\"1.1\" viewBox=\"0 0 893 430\" width=\"893px\" zoomAndPan=\"magnify\"><defs/><g><!--MD5=[fbc87193dbaf4d95561dea2c320d4a47]\n",
       "cluster E1--><g id=\"cluster_E1\"><a href=\"psysml:23a083da-d633-42aa-b737-bc534de6ad98\" target=\"_top\" title=\"psysml:23a083da-d633-42aa-b737-bc534de6ad98\" xlink:actuate=\"onRequest\" xlink:href=\"psysml:23a083da-d633-42aa-b737-bc534de6ad98\" xlink:show=\"new\" xlink:title=\"psysml:23a083da-d633-42aa-b737-bc534de6ad98\" xlink:type=\"simple\"><path d=\"M8.5,6 L117.1875,6 A3.75,3.75 0 0 1 119.6875,8.5 L126.6875,28.2969 L883.5,28.2969 A2.5,2.5 0 0 1 886,30.7969 L886,421.22 A2.5,2.5 0 0 1 883.5,423.72 L8.5,423.72 A2.5,2.5 0 0 1 6,421.22 L6,8.5 A2.5,2.5 0 0 1 8.5,6 \" fill=\"none\" style=\"stroke:#000000;stroke-width:1.5;\"/><line style=\"stroke:#000000;stroke-width:1.5;\" x1=\"6\" x2=\"126.6875\" y1=\"28.2969\" y2=\"28.2969\"/><text fill=\"#000000\" font-family=\"sans-serif\" font-size=\"14\" font-weight=\"bold\" lengthAdjust=\"spacing\" textLength=\"107.6875\" x=\"10\" y=\"20.9951\">ParameterTest</text></a></g><!--MD5=[f6df4d0ebaf0b5dfb2ced0ae5af7c670]\n",
       "cluster E4--><g id=\"cluster_E4\"><a href=\"psysml:9fc68d1c-0eda-4ba7-8d2a-4dac99044350\" target=\"_top\" title=\"psysml:9fc68d1c-0eda-4ba7-8d2a-4dac99044350\" xlink:actuate=\"onRequest\" xlink:href=\"psysml:9fc68d1c-0eda-4ba7-8d2a-4dac99044350\" xlink:show=\"new\" xlink:title=\"psysml:9fc68d1c-0eda-4ba7-8d2a-4dac99044350\" xlink:type=\"simple\"><rect fill=\"#FFFFFF\" height=\"315.22\" id=\"E4\" style=\"stroke:#A80036;stroke-width:1.5;\" width=\"150\" x=\"720\" y=\"78.5\"/><rect fill=\"#F1F1F1\" height=\"40.2656\" style=\"stroke:#A80036;stroke-width:1.5;\" width=\"150\" x=\"720\" y=\"78.5\"/><text fill=\"#000000\" font-family=\"sans-serif\" font-size=\"12\" font-style=\"italic\" lengthAdjust=\"spacing\" textLength=\"110\" x=\"740\" y=\"94.6387\">«calculation  def»</text><text fill=\"#000000\" font-family=\"sans-serif\" font-size=\"14\" lengthAdjust=\"spacing\" textLength=\"8\" x=\"791\" y=\"110.4639\">F</text></a></g><!--MD5=[b4997ac47864f28c2f74865a473b2911]\n",
       "class E2--><a href=\"psysml:04ef3948-8524-44aa-a324-078bab0d23fb\" target=\"_top\" title=\"psysml:04ef3948-8524-44aa-a324-078bab0d23fb\" xlink:actuate=\"onRequest\" xlink:href=\"psysml:04ef3948-8524-44aa-a324-078bab0d23fb\" xlink:show=\"new\" xlink:title=\"psysml:04ef3948-8524-44aa-a324-078bab0d23fb\" xlink:type=\"simple\"><g id=\"elem_E2\"><rect fill=\"#F1F1F1\" height=\"91.3781\" id=\"E2\" rx=\"2.5\" ry=\"2.5\" style=\"stroke:#181818;stroke-width:0.5;\" width=\"125\" x=\"556.5\" y=\"176\"/><ellipse cx=\"571.5\" cy=\"196.1328\" fill=\"#A52A2A\" rx=\"11\" ry=\"11\" style=\"stroke:#181818;stroke-width:1.0;\"/><path d=\"M568.2656,202.6328 L568.2656,190.4922 L572.0156,190.4922 Q574.3906,190.4922 575.7813,192.0078 Q577.1875,193.5078 577.1875,196.4609 Q577.1875,199.4297 575.75,201.0391 Q574.3125,202.6328 571.8281,202.6328 L568.2656,202.6328 Z M571.7031,200.5391 Q573.25,200.5391 573.9688,199.5391 Q574.6875,198.5391 574.6875,196.4766 Q574.6875,194.4453 573.9844,193.5234 Q573.2969,192.5859 571.9063,192.5859 L570.7031,192.5859 L570.7031,200.5391 L571.7031,200.5391 Z \" fill=\"#000000\"/><text fill=\"#000000\" font-family=\"sans-serif\" font-size=\"12\" font-style=\"italic\" lengthAdjust=\"spacing\" textLength=\"97\" x=\"583.5\" y=\"192.1387\">«attribute  def»</text><text fill=\"#000000\" font-family=\"sans-serif\" font-size=\"14\" lengthAdjust=\"spacing\" textLength=\"9\" x=\"627.5\" y=\"207.9639\">A</text><line style=\"stroke:#181818;stroke-width:0.5;\" x1=\"557.5\" x2=\"680.5\" y1=\"216.2656\" y2=\"216.2656\"/><text fill=\"#000000\" font-family=\"sans-serif\" font-size=\"14\" lengthAdjust=\"spacing\" textLength=\"56\" x=\"562.5\" y=\"243.7795\">x: String</text><text fill=\"#000000\" font-family=\"sans-serif\" font-size=\"14\" lengthAdjust=\"spacing\" textLength=\"25\" x=\"562.5\" y=\"260.0764\">y: A</text><text fill=\"#000000\" font-family=\"sans-serif\" font-size=\"14\" font-style=\"italic\" lengthAdjust=\"spacing\" textLength=\"66\" x=\"586\" y=\"228.6123\">attributes</text></g></a><!--MD5=[09b614a08d8cba4a07c9adeb5e0fee81]\n",
       "class E3--><a href=\"psysml:30f6a8e4-9ac7-4724-976d-d9f1147f3701\" target=\"_top\" title=\"psysml:30f6a8e4-9ac7-4724-976d-d9f1147f3701\" xlink:actuate=\"onRequest\" xlink:href=\"psysml:30f6a8e4-9ac7-4724-976d-d9f1147f3701\" xlink:show=\"new\" xlink:title=\"psysml:30f6a8e4-9ac7-4724-976d-d9f1147f3701\" xlink:type=\"simple\"><g id=\"elem_E3\"><rect fill=\"#F1F1F1\" height=\"48.2656\" id=\"E3\" rx=\"10\" ry=\"10\" style=\"stroke:#181818;stroke-width:0.5;\" width=\"97\" x=\"595.5\" y=\"54.5\"/><ellipse cx=\"610.5\" cy=\"74.6328\" fill=\"#FFA500\" rx=\"11\" ry=\"11\" style=\"stroke:#181818;stroke-width:1.0;\"/><path d=\"M610.5625,81.8047 Q608.4531,81.8047 607.3594,80.6797 Q606.2656,79.5547 606.2656,77.5078 L606.2656,69.4922 L608.7344,69.4922 L608.7344,77.0703 Q608.7344,78.5078 609.1875,79.1016 Q609.6406,79.6797 610.5938,79.6797 Q611.6094,79.6797 612.0313,79.0703 Q612.4688,78.4609 612.4688,77.0547 L612.4688,69.4922 L614.9375,69.4922 L614.9375,77.4922 Q614.9375,79.4766 613.8438,80.6484 Q612.7656,81.8047 610.5625,81.8047 Z \" fill=\"#000000\"/><text fill=\"#000000\" font-family=\"sans-serif\" font-size=\"12\" font-style=\"italic\" lengthAdjust=\"spacing\" textLength=\"69\" x=\"622.5\" y=\"70.6387\">«attribute»</text><text fill=\"#000000\" font-family=\"sans-serif\" font-size=\"14\" lengthAdjust=\"spacing\" textLength=\"26\" x=\"640\" y=\"86.4639\">a: A</text><line style=\"stroke:#181818;stroke-width:0.5;\" x1=\"596.5\" x2=\"691.5\" y1=\"94.7656\" y2=\"94.7656\"/></g></a><!--MD5=[b9389687b975829384b498ac4b7476b2]\n",
       "class E8--><a href=\"psysml:201caa5e-7003-43c9-93c7-31c1dd2687e1\" target=\"_top\" title=\"psysml:201caa5e-7003-43c9-93c7-31c1dd2687e1\" xlink:actuate=\"onRequest\" xlink:href=\"psysml:201caa5e-7003-43c9-93c7-31c1dd2687e1\" xlink:show=\"new\" xlink:title=\"psysml:201caa5e-7003-43c9-93c7-31c1dd2687e1\" xlink:type=\"simple\"><g id=\"elem_E8\"><rect fill=\"#F1F1F1\" height=\"75.0813\" id=\"E8\" rx=\"10\" ry=\"10\" style=\"stroke:#181818;stroke-width:0.5;\" width=\"97\" x=\"463.5\" y=\"41\"/><ellipse cx=\"478.5\" cy=\"61.1328\" fill=\"#FFA500\" rx=\"11\" ry=\"11\" style=\"stroke:#181818;stroke-width:1.0;\"/><path d=\"M478.5625,68.3047 Q476.4531,68.3047 475.3594,67.1797 Q474.2656,66.0547 474.2656,64.0078 L474.2656,55.9922 L476.7344,55.9922 L476.7344,63.5703 Q476.7344,65.0078 477.1875,65.6016 Q477.6406,66.1797 478.5938,66.1797 Q479.6094,66.1797 480.0313,65.5703 Q480.4688,64.9609 480.4688,63.5547 L480.4688,55.9922 L482.9375,55.9922 L482.9375,63.9922 Q482.9375,65.9766 481.8438,67.1484 Q480.7656,68.3047 478.5625,68.3047 Z \" fill=\"#000000\"/><text fill=\"#000000\" font-family=\"sans-serif\" font-size=\"12\" font-style=\"italic\" lengthAdjust=\"spacing\" textLength=\"69\" x=\"490.5\" y=\"57.1387\">«attribute»</text><text fill=\"#000000\" font-family=\"sans-serif\" font-size=\"14\" lengthAdjust=\"spacing\" textLength=\"4\" x=\"519\" y=\"72.9639\">f</text><line style=\"stroke:#181818;stroke-width:0.5;\" x1=\"464.5\" x2=\"559.5\" y1=\"81.2656\" y2=\"81.2656\"/><text fill=\"#000000\" font-family=\"sans-serif\" font-size=\"14\" lengthAdjust=\"spacing\" textLength=\"59\" x=\"469.5\" y=\"108.7795\">= F(a, 2)</text><text fill=\"#000000\" font-family=\"sans-serif\" font-size=\"14\" font-style=\"italic\" lengthAdjust=\"spacing\" textLength=\"44\" x=\"490\" y=\"93.6123\">values</text></g></a><!--MD5=[fd4143e9d270a159db93a4ea2a975926]\n",
       "class E9--><a href=\"psysml:ef9d06c8-83aa-4b51-a725-4880c3e71513\" target=\"_top\" title=\"psysml:ef9d06c8-83aa-4b51-a725-4880c3e71513\" xlink:actuate=\"onRequest\" xlink:href=\"psysml:ef9d06c8-83aa-4b51-a725-4880c3e71513\" xlink:show=\"new\" xlink:title=\"psysml:ef9d06c8-83aa-4b51-a725-4880c3e71513\" xlink:type=\"simple\"><g id=\"elem_E9\"><rect fill=\"#F1F1F1\" height=\"75.0813\" id=\"E9\" rx=\"10\" ry=\"10\" style=\"stroke:#181818;stroke-width:0.5;\" width=\"129\" x=\"299.5\" y=\"41\"/><ellipse cx=\"328.9\" cy=\"61.1328\" fill=\"#FFA500\" rx=\"11\" ry=\"11\" style=\"stroke:#181818;stroke-width:1.0;\"/><path d=\"M328.9625,68.3047 Q326.8531,68.3047 325.7594,67.1797 Q324.6656,66.0547 324.6656,64.0078 L324.6656,55.9922 L327.1344,55.9922 L327.1344,63.5703 Q327.1344,65.0078 327.5875,65.6016 Q328.0406,66.1797 328.9938,66.1797 Q330.0094,66.1797 330.4313,65.5703 Q330.8688,64.9609 330.8688,63.5547 L330.8688,55.9922 L333.3375,55.9922 L333.3375,63.9922 Q333.3375,65.9766 332.2438,67.1484 Q331.1656,68.3047 328.9625,68.3047 Z \" fill=\"#000000\"/><text fill=\"#000000\" font-family=\"sans-serif\" font-size=\"12\" font-style=\"italic\" lengthAdjust=\"spacing\" textLength=\"69\" x=\"344.1\" y=\"57.1387\">«attribute»</text><text fill=\"#000000\" font-family=\"sans-serif\" font-size=\"14\" lengthAdjust=\"spacing\" textLength=\"9\" x=\"370.1\" y=\"72.9639\">g</text><line style=\"stroke:#181818;stroke-width:0.5;\" x1=\"300.5\" x2=\"427.5\" y1=\"81.2656\" y2=\"81.2656\"/><text fill=\"#000000\" font-family=\"sans-serif\" font-size=\"14\" lengthAdjust=\"spacing\" textLength=\"117\" x=\"305.5\" y=\"108.7795\">= F(q = 1, p = a)</text><text fill=\"#000000\" font-family=\"sans-serif\" font-size=\"14\" font-style=\"italic\" lengthAdjust=\"spacing\" textLength=\"44\" x=\"342\" y=\"93.6123\">values</text></g></a><!--MD5=[96f4274e9e20536e775497830990834d]\n",
       "class E10--><a href=\"psysml:472a68ff-87fb-48cb-b812-c0679e72bd97\" target=\"_top\" title=\"psysml:472a68ff-87fb-48cb-b812-c0679e72bd97\" xlink:actuate=\"onRequest\" xlink:href=\"psysml:472a68ff-87fb-48cb-b812-c0679e72bd97\" xlink:show=\"new\" xlink:title=\"psysml:472a68ff-87fb-48cb-b812-c0679e72bd97\" xlink:type=\"simple\"><g id=\"elem_E10\"><rect fill=\"#F1F1F1\" height=\"75.0813\" id=\"E10\" rx=\"10\" ry=\"10\" style=\"stroke:#181818;stroke-width:0.5;\" width=\"111\" x=\"153.5\" y=\"41\"/><ellipse cx=\"174.8\" cy=\"61.1328\" fill=\"#FFA500\" rx=\"11\" ry=\"11\" style=\"stroke:#181818;stroke-width:1.0;\"/><path d=\"M174.8625,68.3047 Q172.7531,68.3047 171.6594,67.1797 Q170.5656,66.0547 170.5656,64.0078 L170.5656,55.9922 L173.0344,55.9922 L173.0344,63.5703 Q173.0344,65.0078 173.4875,65.6016 Q173.9406,66.1797 174.8938,66.1797 Q175.9094,66.1797 176.3313,65.5703 Q176.7688,64.9609 176.7688,63.5547 L176.7688,55.9922 L179.2375,55.9922 L179.2375,63.9922 Q179.2375,65.9766 178.1438,67.1484 Q177.0656,68.3047 174.8625,68.3047 Z \" fill=\"#000000\"/><text fill=\"#000000\" font-family=\"sans-serif\" font-size=\"12\" font-style=\"italic\" lengthAdjust=\"spacing\" textLength=\"69\" x=\"188.2\" y=\"57.1387\">«attribute»</text><text fill=\"#000000\" font-family=\"sans-serif\" font-size=\"14\" lengthAdjust=\"spacing\" textLength=\"9\" x=\"214.2\" y=\"72.9639\">b</text><line style=\"stroke:#181818;stroke-width:0.5;\" x1=\"154.5\" x2=\"263.5\" y1=\"81.2656\" y2=\"81.2656\"/><text fill=\"#000000\" font-family=\"sans-serif\" font-size=\"14\" lengthAdjust=\"spacing\" textLength=\"99\" x=\"159.5\" y=\"108.7795\">= A(y=a, x=\"\")</text><text fill=\"#000000\" font-family=\"sans-serif\" font-size=\"14\" font-style=\"italic\" lengthAdjust=\"spacing\" textLength=\"44\" x=\"187\" y=\"93.6123\">values</text></g></a><!--MD5=[1dd1bfd58a279cf63c5f349dbc8fc6a1]\n",
       "class E11--><a href=\"psysml:b12c6daa-efd4-472f-91f1-7e0209b6a2bc\" target=\"_top\" title=\"psysml:b12c6daa-efd4-472f-91f1-7e0209b6a2bc\" xlink:actuate=\"onRequest\" xlink:href=\"psysml:b12c6daa-efd4-472f-91f1-7e0209b6a2bc\" xlink:show=\"new\" xlink:title=\"psysml:b12c6daa-efd4-472f-91f1-7e0209b6a2bc\" xlink:type=\"simple\"><g id=\"elem_E11\"><rect fill=\"#F1F1F1\" height=\"75.0813\" id=\"E11\" rx=\"10\" ry=\"10\" style=\"stroke:#181818;stroke-width:0.5;\" width=\"97\" x=\"21.5\" y=\"41\"/><ellipse cx=\"36.5\" cy=\"61.1328\" fill=\"#FFA500\" rx=\"11\" ry=\"11\" style=\"stroke:#181818;stroke-width:1.0;\"/><path d=\"M36.5625,68.3047 Q34.4531,68.3047 33.3594,67.1797 Q32.2656,66.0547 32.2656,64.0078 L32.2656,55.9922 L34.7344,55.9922 L34.7344,63.5703 Q34.7344,65.0078 35.1875,65.6016 Q35.6406,66.1797 36.5938,66.1797 Q37.6094,66.1797 38.0313,65.5703 Q38.4688,64.9609 38.4688,63.5547 L38.4688,55.9922 L40.9375,55.9922 L40.9375,63.9922 Q40.9375,65.9766 39.8438,67.1484 Q38.7656,68.3047 36.5625,68.3047 Z \" fill=\"#000000\"/><text fill=\"#000000\" font-family=\"sans-serif\" font-size=\"12\" font-style=\"italic\" lengthAdjust=\"spacing\" textLength=\"69\" x=\"48.5\" y=\"57.1387\">«attribute»</text><text fill=\"#000000\" font-family=\"sans-serif\" font-size=\"14\" lengthAdjust=\"spacing\" textLength=\"8\" x=\"75\" y=\"72.9639\">c</text><line style=\"stroke:#181818;stroke-width:0.5;\" x1=\"22.5\" x2=\"117.5\" y1=\"81.2656\" y2=\"81.2656\"/><text fill=\"#000000\" font-family=\"sans-serif\" font-size=\"14\" lengthAdjust=\"spacing\" textLength=\"81\" x=\"27.5\" y=\"108.7795\">= A(\"test2\")</text><text fill=\"#000000\" font-family=\"sans-serif\" font-size=\"14\" font-style=\"italic\" lengthAdjust=\"spacing\" textLength=\"44\" x=\"48\" y=\"93.6123\">values</text></g></a><text fill=\"#000000\" font-family=\"sans-serif\" font-size=\"14\" lengthAdjust=\"spacing\" textLength=\"9\" x=\"733.5\" y=\"57.1982\">p</text><rect fill=\"#F1F1F1\" height=\"12\" style=\"stroke:#181818;stroke-width:1.5;\" width=\"12\" x=\"732\" y=\"72.5\"/><text fill=\"#000000\" font-family=\"sans-serif\" font-size=\"14\" lengthAdjust=\"spacing\" textLength=\"9\" x=\"780.5\" y=\"57.1982\">q</text><rect fill=\"#F1F1F1\" height=\"12\" style=\"stroke:#181818;stroke-width:1.5;\" width=\"12\" x=\"779\" y=\"72.5\"/><text fill=\"#000000\" font-family=\"sans-serif\" font-size=\"14\" lengthAdjust=\"spacing\" textLength=\"39\" x=\"765.5\" y=\"412.7151\">result</text><rect fill=\"#F1F1F1\" height=\"12\" style=\"stroke:#181818;stroke-width:1.5;\" width=\"12\" x=\"779\" y=\"387.72\"/><!--MD5=[05d275557350bfb9b23a4ef7222b4c39]\n",
       "link E3 to E2--><g id=\"link_E3_E2\"><a href=\"psysml:de703d0e-2ba0-4603-81fc-fcf4f6dc7e4d\" target=\"_top\" title=\"psysml:de703d0e-2ba0-4603-81fc-fcf4f6dc7e4d\" xlink:actuate=\"onRequest\" xlink:href=\"psysml:de703d0e-2ba0-4603-81fc-fcf4f6dc7e4d\" xlink:show=\"new\" xlink:title=\"psysml:de703d0e-2ba0-4603-81fc-fcf4f6dc7e4d\" xlink:type=\"simple\"><path d=\"M639.87,102.78 C637.28,117.39 633.8,137.01 630.43,156.04 \" fill=\"none\" id=\"E3-to-E2\" style=\"stroke:#181818;stroke-width:1.0;\"/><polygon fill=\"#FFFFFF\" points=\"626.93,175.8,623.3615,155.8685,637.1457,158.3174,626.93,175.8\" style=\"stroke:#181818;stroke-width:1.0;\"/><ellipse cx=\"626.3278\" cy=\"150.6062\" fill=\"#181818\" rx=\"2\" ry=\"2\" style=\"stroke:#181818;stroke-width:1.0;\"/><ellipse cx=\"636.1736\" cy=\"152.3555\" fill=\"#181818\" rx=\"2\" ry=\"2\" style=\"stroke:#181818;stroke-width:1.0;\"/></a></g><!--MD5=[edef0da188ddceffb77fdef3b8689e46]\n",
       "@startuml\r\n",
       " \r\n",
       "package \"ParameterTest\" as E1  [[psysml:23a083da-d633-42aa-b737-bc534de6ad98 ]]  {\r\n",
       "comp def \"A\" as E2  << <<(D,brown) attribute  def>> [[psysml:04ef3948-8524-44aa-a324-078bab0d23fb ]] {\r\n",
       "##//attributes//##\r\n",
       "x: String\r\n",
       "y: A\r\n",
       "}\r\n",
       "comp usage \"a: A  \" as E3  << <<(U,orange) attribute>> [[psysml:30f6a8e4-9ac7-4724-976d-d9f1147f3701 ]] {\r\n",
       "}\r\n",
       "rec def \"F\" as E4  << <<(B,lemonchiffon) calculation  def>> [[psysml:9fc68d1c-0eda-4ba7-8d2a-4dac99044350 ]] {\r\n",
       "portin \"p\" as E5  [[psysml:c0525d75-8c24-4ff5-9432-36973c13d292 ]] \r\n",
       "portin \"q\" as E6  [[psysml:ea5aeb99-c612-42a4-b65a-a51f249da328 ]] \r\n",
       "portout \"result\" as E7  [[psysml:ef9cf0a8-f443-48d9-b6fd-29ed95d8a001 ]] \r\n",
       "}\r\n",
       "\r\n",
       "comp usage \"f  \" as E8  << <<(U,orange) attribute>> [[psysml:201caa5e-7003-43c9-93c7-31c1dd2687e1 ]] {\r\n",
       "##//values//##\r\n",
       " <U+003D> F(a, 2)\r\n",
       "}\r\n",
       "comp usage \"g  \" as E9  << <<(U,orange) attribute>> [[psysml:ef9d06c8-83aa-4b51-a725-4880c3e71513 ]] {\r\n",
       "##//values//##\r\n",
       " <U+003D> F(q <U+003D> 1, p <U+003D> a)\r\n",
       "}\r\n",
       "comp usage \"b  \" as E10  << <<(U,orange) attribute>> [[psysml:472a68ff-87fb-48cb-b812-c0679e72bd97 ]] {\r\n",
       "##//values//##\r\n",
       " <U+003D> A(y<U+003D>a, x<U+003D>\"\")\r\n",
       "}\r\n",
       "comp usage \"c  \" as E11  << <<(U,orange) attribute>> [[psysml:b12c6daa-efd4-472f-91f1-7e0209b6a2bc ]] {\r\n",
       "##//values//##\r\n",
       " <U+003D> A(\"test2\")\r\n",
       "}\r\n",
       "}\r\n",
       "E3 - -:|> E2 [[psysml:de703d0e-2ba0-4603-81fc-fcf4f6dc7e4d ]] \r\n",
       "@enduml\r\n",
       "\n",
       "PlantUML version 1.2022.7(Mon Aug 22 17:01:30 UTC 2022)\n",
       "(EPL source distribution)\n",
       "Java Runtime: OpenJDK Runtime Environment\n",
       "JVM: OpenJDK 64-Bit Server VM\n",
       "Default Encoding: UTF-8\n",
       "Language: en\n",
       "Country: null\n",
       "--></g></svg>"
      ]
     },
     "execution_count": 30,
     "metadata": {},
     "output_type": "execute_result"
    }
   ],
   "source": [
    "%viz --style=\"PLANTUML\" --view=\"Default\" \"ParameterTest\""
   ]
  },
  {
   "cell_type": "code",
   "execution_count": 31,
   "id": "7fed6083",
   "metadata": {
    "execution": {
     "iopub.execute_input": "2024-12-16T03:23:35.630872Z",
     "iopub.status.busy": "2024-12-16T03:23:35.630653Z",
     "iopub.status.idle": "2024-12-16T03:23:35.671461Z",
     "shell.execute_reply": "2024-12-16T03:23:35.670590Z"
    }
   },
   "outputs": [
    {
     "data": {
      "image/svg+xml": [
       "<?xml version=\"1.0\" encoding=\"UTF-8\" standalone=\"no\"?><svg xmlns=\"http://www.w3.org/2000/svg\" xmlns:xlink=\"http://www.w3.org/1999/xlink\" contentStyleType=\"text/css\" height=\"307px\" preserveAspectRatio=\"none\" style=\"width:889px;height:307px;background:#FFFFFF;\" version=\"1.1\" viewBox=\"0 0 889 307\" width=\"889px\" zoomAndPan=\"magnify\"><defs/><g><!--MD5=[fbc87193dbaf4d95561dea2c320d4a47]\n",
       "cluster E1--><g id=\"cluster_E1\"><a href=\"psysml:23a083da-d633-42aa-b737-bc534de6ad98\" target=\"_top\" title=\"psysml:23a083da-d633-42aa-b737-bc534de6ad98\" xlink:actuate=\"onRequest\" xlink:href=\"psysml:23a083da-d633-42aa-b737-bc534de6ad98\" xlink:show=\"new\" xlink:title=\"psysml:23a083da-d633-42aa-b737-bc534de6ad98\" xlink:type=\"simple\"><path d=\"M8.5,6 L117.1875,6 A3.75,3.75 0 0 1 119.6875,8.5 L126.6875,28.2969 L879.5,28.2969 A2.5,2.5 0 0 1 882,30.7969 L882,297.5 A2.5,2.5 0 0 1 879.5,300 L8.5,300 A2.5,2.5 0 0 1 6,297.5 L6,8.5 A2.5,2.5 0 0 1 8.5,6 \" fill=\"none\" style=\"stroke:#000000;stroke-width:1.5;\"/><line style=\"stroke:#000000;stroke-width:1.5;\" x1=\"6\" x2=\"126.6875\" y1=\"28.2969\" y2=\"28.2969\"/><text fill=\"#000000\" font-family=\"sans-serif\" font-size=\"14\" font-weight=\"bold\" lengthAdjust=\"spacing\" textLength=\"107.6875\" x=\"10\" y=\"20.9951\">ParameterTest</text></a></g><!--MD5=[b4997ac47864f28c2f74865a473b2911]\n",
       "class E2--><a href=\"psysml:04ef3948-8524-44aa-a324-078bab0d23fb\" target=\"_top\" title=\"psysml:04ef3948-8524-44aa-a324-078bab0d23fb\" xlink:actuate=\"onRequest\" xlink:href=\"psysml:04ef3948-8524-44aa-a324-078bab0d23fb\" xlink:show=\"new\" xlink:title=\"psysml:04ef3948-8524-44aa-a324-078bab0d23fb\" xlink:type=\"simple\"><g id=\"elem_E2\"><rect fill=\"#F1F1F1\" height=\"91.3781\" id=\"E2\" rx=\"2.5\" ry=\"2.5\" style=\"stroke:#181818;stroke-width:0.5;\" width=\"125\" x=\"679.5\" y=\"193\"/><ellipse cx=\"694.5\" cy=\"213.1328\" fill=\"#A52A2A\" rx=\"11\" ry=\"11\" style=\"stroke:#181818;stroke-width:1.0;\"/><path d=\"M691.2656,219.6328 L691.2656,207.4922 L695.0156,207.4922 Q697.3906,207.4922 698.7813,209.0078 Q700.1875,210.5078 700.1875,213.4609 Q700.1875,216.4297 698.75,218.0391 Q697.3125,219.6328 694.8281,219.6328 L691.2656,219.6328 Z M694.7031,217.5391 Q696.25,217.5391 696.9688,216.5391 Q697.6875,215.5391 697.6875,213.4766 Q697.6875,211.4453 696.9844,210.5234 Q696.2969,209.5859 694.9063,209.5859 L693.7031,209.5859 L693.7031,217.5391 L694.7031,217.5391 Z \" fill=\"#000000\"/><text fill=\"#000000\" font-family=\"sans-serif\" font-size=\"12\" font-style=\"italic\" lengthAdjust=\"spacing\" textLength=\"97\" x=\"706.5\" y=\"209.1387\">«attribute  def»</text><text fill=\"#000000\" font-family=\"sans-serif\" font-size=\"14\" lengthAdjust=\"spacing\" textLength=\"9\" x=\"750.5\" y=\"224.9639\">A</text><line style=\"stroke:#181818;stroke-width:0.5;\" x1=\"680.5\" x2=\"803.5\" y1=\"233.2656\" y2=\"233.2656\"/><text fill=\"#000000\" font-family=\"sans-serif\" font-size=\"14\" lengthAdjust=\"spacing\" textLength=\"56\" x=\"685.5\" y=\"260.7795\">x: String</text><text fill=\"#000000\" font-family=\"sans-serif\" font-size=\"14\" lengthAdjust=\"spacing\" textLength=\"25\" x=\"685.5\" y=\"277.0764\">y: A</text><text fill=\"#000000\" font-family=\"sans-serif\" font-size=\"14\" font-style=\"italic\" lengthAdjust=\"spacing\" textLength=\"66\" x=\"709\" y=\"245.6123\">attributes</text></g></a><!--MD5=[09b614a08d8cba4a07c9adeb5e0fee81]\n",
       "class E3--><a href=\"psysml:30f6a8e4-9ac7-4724-976d-d9f1147f3701\" target=\"_top\" title=\"psysml:30f6a8e4-9ac7-4724-976d-d9f1147f3701\" xlink:actuate=\"onRequest\" xlink:href=\"psysml:30f6a8e4-9ac7-4724-976d-d9f1147f3701\" xlink:show=\"new\" xlink:title=\"psysml:30f6a8e4-9ac7-4724-976d-d9f1147f3701\" xlink:type=\"simple\"><g id=\"elem_E3\"><rect fill=\"#F1F1F1\" height=\"48.2656\" id=\"E3\" rx=\"10\" ry=\"10\" style=\"stroke:#181818;stroke-width:0.5;\" width=\"97\" x=\"769.5\" y=\"54.5\"/><ellipse cx=\"784.5\" cy=\"74.6328\" fill=\"#FFA500\" rx=\"11\" ry=\"11\" style=\"stroke:#181818;stroke-width:1.0;\"/><path d=\"M784.5625,81.8047 Q782.4531,81.8047 781.3594,80.6797 Q780.2656,79.5547 780.2656,77.5078 L780.2656,69.4922 L782.7344,69.4922 L782.7344,77.0703 Q782.7344,78.5078 783.1875,79.1016 Q783.6406,79.6797 784.5938,79.6797 Q785.6094,79.6797 786.0313,79.0703 Q786.4688,78.4609 786.4688,77.0547 L786.4688,69.4922 L788.9375,69.4922 L788.9375,77.4922 Q788.9375,79.4766 787.8438,80.6484 Q786.7656,81.8047 784.5625,81.8047 Z \" fill=\"#000000\"/><text fill=\"#000000\" font-family=\"sans-serif\" font-size=\"12\" font-style=\"italic\" lengthAdjust=\"spacing\" textLength=\"69\" x=\"796.5\" y=\"70.6387\">«attribute»</text><text fill=\"#000000\" font-family=\"sans-serif\" font-size=\"14\" lengthAdjust=\"spacing\" textLength=\"26\" x=\"814\" y=\"86.4639\">a: A</text><line style=\"stroke:#181818;stroke-width:0.5;\" x1=\"770.5\" x2=\"865.5\" y1=\"94.7656\" y2=\"94.7656\"/></g></a><!--MD5=[ebbe1d658d1005bcc118a6aa81145e00]\n",
       "class E4--><a href=\"psysml:9fc68d1c-0eda-4ba7-8d2a-4dac99044350\" target=\"_top\" title=\"psysml:9fc68d1c-0eda-4ba7-8d2a-4dac99044350\" xlink:actuate=\"onRequest\" xlink:href=\"psysml:9fc68d1c-0eda-4ba7-8d2a-4dac99044350\" xlink:show=\"new\" xlink:title=\"psysml:9fc68d1c-0eda-4ba7-8d2a-4dac99044350\" xlink:type=\"simple\"><g id=\"elem_E4\"><rect fill=\"#F1F1F1\" height=\"48.2656\" id=\"E4\" rx=\"2.5\" ry=\"2.5\" style=\"stroke:#181818;stroke-width:0.5;\" width=\"138\" x=\"596\" y=\"54.5\"/><ellipse cx=\"611\" cy=\"74.6328\" fill=\"#FFFACD\" rx=\"11\" ry=\"11\" style=\"stroke:#181818;stroke-width:1.0;\"/><path d=\"M607.8594,81.1328 L607.8594,68.9922 L611.6563,68.9922 Q613.6563,68.9922 614.7031,69.6953 Q615.7656,70.3984 615.7656,71.9766 Q615.7656,73.0703 615.2656,73.7891 Q614.7813,74.5078 613.9531,74.6953 L613.9531,74.7734 Q614.875,74.9922 615.4375,75.6641 Q616.0156,76.3203 616.0156,77.5859 Q616.0156,79.2422 614.9688,80.1953 Q613.9219,81.1328 612.0625,81.1328 L607.8594,81.1328 Z M611.6406,73.7734 Q612.5313,73.7734 612.8906,73.4453 Q613.2656,73.1016 613.2656,72.3984 Q613.2656,71.6641 612.875,71.3516 Q612.4844,71.0234 611.5469,71.0234 L610.1563,71.0234 L610.1563,73.7734 L611.6406,73.7734 Z M611.8281,79.1172 Q612.7344,79.1172 613.0938,78.6797 Q613.4531,78.2266 613.4531,77.4453 Q613.4531,76.6641 613.0781,76.2734 Q612.7188,75.8672 611.7344,75.8672 L610.1563,75.8672 L610.1563,79.1172 L611.8281,79.1172 Z \" fill=\"#000000\"/><text fill=\"#000000\" font-family=\"sans-serif\" font-size=\"12\" font-style=\"italic\" lengthAdjust=\"spacing\" textLength=\"110\" x=\"623\" y=\"70.6387\">«calculation  def»</text><text fill=\"#000000\" font-family=\"sans-serif\" font-size=\"14\" lengthAdjust=\"spacing\" textLength=\"8\" x=\"674\" y=\"86.4639\">F</text><line style=\"stroke:#181818;stroke-width:0.5;\" x1=\"597\" x2=\"733\" y1=\"94.7656\" y2=\"94.7656\"/></g></a><!--MD5=[270fce915f116d4de14055a7c1d9a0f3]\n",
       "class E5--><a href=\"psysml:201caa5e-7003-43c9-93c7-31c1dd2687e1\" target=\"_top\" title=\"psysml:201caa5e-7003-43c9-93c7-31c1dd2687e1\" xlink:actuate=\"onRequest\" xlink:href=\"psysml:201caa5e-7003-43c9-93c7-31c1dd2687e1\" xlink:show=\"new\" xlink:title=\"psysml:201caa5e-7003-43c9-93c7-31c1dd2687e1\" xlink:type=\"simple\"><g id=\"elem_E5\"><rect fill=\"#F1F1F1\" height=\"75.0813\" id=\"E5\" rx=\"10\" ry=\"10\" style=\"stroke:#181818;stroke-width:0.5;\" width=\"97\" x=\"463.5\" y=\"41\"/><ellipse cx=\"478.5\" cy=\"61.1328\" fill=\"#FFA500\" rx=\"11\" ry=\"11\" style=\"stroke:#181818;stroke-width:1.0;\"/><path d=\"M478.5625,68.3047 Q476.4531,68.3047 475.3594,67.1797 Q474.2656,66.0547 474.2656,64.0078 L474.2656,55.9922 L476.7344,55.9922 L476.7344,63.5703 Q476.7344,65.0078 477.1875,65.6016 Q477.6406,66.1797 478.5938,66.1797 Q479.6094,66.1797 480.0313,65.5703 Q480.4688,64.9609 480.4688,63.5547 L480.4688,55.9922 L482.9375,55.9922 L482.9375,63.9922 Q482.9375,65.9766 481.8438,67.1484 Q480.7656,68.3047 478.5625,68.3047 Z \" fill=\"#000000\"/><text fill=\"#000000\" font-family=\"sans-serif\" font-size=\"12\" font-style=\"italic\" lengthAdjust=\"spacing\" textLength=\"69\" x=\"490.5\" y=\"57.1387\">«attribute»</text><text fill=\"#000000\" font-family=\"sans-serif\" font-size=\"14\" lengthAdjust=\"spacing\" textLength=\"4\" x=\"519\" y=\"72.9639\">f</text><line style=\"stroke:#181818;stroke-width:0.5;\" x1=\"464.5\" x2=\"559.5\" y1=\"81.2656\" y2=\"81.2656\"/><text fill=\"#000000\" font-family=\"sans-serif\" font-size=\"14\" lengthAdjust=\"spacing\" textLength=\"59\" x=\"469.5\" y=\"108.7795\">= F(a, 2)</text><text fill=\"#000000\" font-family=\"sans-serif\" font-size=\"14\" font-style=\"italic\" lengthAdjust=\"spacing\" textLength=\"44\" x=\"490\" y=\"93.6123\">values</text></g></a><!--MD5=[60a26617385b1d2d0262a64233df1f8d]\n",
       "class E6--><a href=\"psysml:ef9d06c8-83aa-4b51-a725-4880c3e71513\" target=\"_top\" title=\"psysml:ef9d06c8-83aa-4b51-a725-4880c3e71513\" xlink:actuate=\"onRequest\" xlink:href=\"psysml:ef9d06c8-83aa-4b51-a725-4880c3e71513\" xlink:show=\"new\" xlink:title=\"psysml:ef9d06c8-83aa-4b51-a725-4880c3e71513\" xlink:type=\"simple\"><g id=\"elem_E6\"><rect fill=\"#F1F1F1\" height=\"75.0813\" id=\"E6\" rx=\"10\" ry=\"10\" style=\"stroke:#181818;stroke-width:0.5;\" width=\"129\" x=\"299.5\" y=\"41\"/><ellipse cx=\"328.9\" cy=\"61.1328\" fill=\"#FFA500\" rx=\"11\" ry=\"11\" style=\"stroke:#181818;stroke-width:1.0;\"/><path d=\"M328.9625,68.3047 Q326.8531,68.3047 325.7594,67.1797 Q324.6656,66.0547 324.6656,64.0078 L324.6656,55.9922 L327.1344,55.9922 L327.1344,63.5703 Q327.1344,65.0078 327.5875,65.6016 Q328.0406,66.1797 328.9938,66.1797 Q330.0094,66.1797 330.4313,65.5703 Q330.8688,64.9609 330.8688,63.5547 L330.8688,55.9922 L333.3375,55.9922 L333.3375,63.9922 Q333.3375,65.9766 332.2438,67.1484 Q331.1656,68.3047 328.9625,68.3047 Z \" fill=\"#000000\"/><text fill=\"#000000\" font-family=\"sans-serif\" font-size=\"12\" font-style=\"italic\" lengthAdjust=\"spacing\" textLength=\"69\" x=\"344.1\" y=\"57.1387\">«attribute»</text><text fill=\"#000000\" font-family=\"sans-serif\" font-size=\"14\" lengthAdjust=\"spacing\" textLength=\"9\" x=\"370.1\" y=\"72.9639\">g</text><line style=\"stroke:#181818;stroke-width:0.5;\" x1=\"300.5\" x2=\"427.5\" y1=\"81.2656\" y2=\"81.2656\"/><text fill=\"#000000\" font-family=\"sans-serif\" font-size=\"14\" lengthAdjust=\"spacing\" textLength=\"117\" x=\"305.5\" y=\"108.7795\">= F(q = 1, p = a)</text><text fill=\"#000000\" font-family=\"sans-serif\" font-size=\"14\" font-style=\"italic\" lengthAdjust=\"spacing\" textLength=\"44\" x=\"342\" y=\"93.6123\">values</text></g></a><!--MD5=[2156ba9850f5573cc1fc38a6a4b2f02b]\n",
       "class E7--><a href=\"psysml:472a68ff-87fb-48cb-b812-c0679e72bd97\" target=\"_top\" title=\"psysml:472a68ff-87fb-48cb-b812-c0679e72bd97\" xlink:actuate=\"onRequest\" xlink:href=\"psysml:472a68ff-87fb-48cb-b812-c0679e72bd97\" xlink:show=\"new\" xlink:title=\"psysml:472a68ff-87fb-48cb-b812-c0679e72bd97\" xlink:type=\"simple\"><g id=\"elem_E7\"><rect fill=\"#F1F1F1\" height=\"75.0813\" id=\"E7\" rx=\"10\" ry=\"10\" style=\"stroke:#181818;stroke-width:0.5;\" width=\"111\" x=\"153.5\" y=\"41\"/><ellipse cx=\"174.8\" cy=\"61.1328\" fill=\"#FFA500\" rx=\"11\" ry=\"11\" style=\"stroke:#181818;stroke-width:1.0;\"/><path d=\"M174.8625,68.3047 Q172.7531,68.3047 171.6594,67.1797 Q170.5656,66.0547 170.5656,64.0078 L170.5656,55.9922 L173.0344,55.9922 L173.0344,63.5703 Q173.0344,65.0078 173.4875,65.6016 Q173.9406,66.1797 174.8938,66.1797 Q175.9094,66.1797 176.3313,65.5703 Q176.7688,64.9609 176.7688,63.5547 L176.7688,55.9922 L179.2375,55.9922 L179.2375,63.9922 Q179.2375,65.9766 178.1438,67.1484 Q177.0656,68.3047 174.8625,68.3047 Z \" fill=\"#000000\"/><text fill=\"#000000\" font-family=\"sans-serif\" font-size=\"12\" font-style=\"italic\" lengthAdjust=\"spacing\" textLength=\"69\" x=\"188.2\" y=\"57.1387\">«attribute»</text><text fill=\"#000000\" font-family=\"sans-serif\" font-size=\"14\" lengthAdjust=\"spacing\" textLength=\"9\" x=\"214.2\" y=\"72.9639\">b</text><line style=\"stroke:#181818;stroke-width:0.5;\" x1=\"154.5\" x2=\"263.5\" y1=\"81.2656\" y2=\"81.2656\"/><text fill=\"#000000\" font-family=\"sans-serif\" font-size=\"14\" lengthAdjust=\"spacing\" textLength=\"99\" x=\"159.5\" y=\"108.7795\">= A(y=a, x=\"\")</text><text fill=\"#000000\" font-family=\"sans-serif\" font-size=\"14\" font-style=\"italic\" lengthAdjust=\"spacing\" textLength=\"44\" x=\"187\" y=\"93.6123\">values</text></g></a><!--MD5=[b9389687b975829384b498ac4b7476b2]\n",
       "class E8--><a href=\"psysml:b12c6daa-efd4-472f-91f1-7e0209b6a2bc\" target=\"_top\" title=\"psysml:b12c6daa-efd4-472f-91f1-7e0209b6a2bc\" xlink:actuate=\"onRequest\" xlink:href=\"psysml:b12c6daa-efd4-472f-91f1-7e0209b6a2bc\" xlink:show=\"new\" xlink:title=\"psysml:b12c6daa-efd4-472f-91f1-7e0209b6a2bc\" xlink:type=\"simple\"><g id=\"elem_E8\"><rect fill=\"#F1F1F1\" height=\"75.0813\" id=\"E8\" rx=\"10\" ry=\"10\" style=\"stroke:#181818;stroke-width:0.5;\" width=\"97\" x=\"21.5\" y=\"41\"/><ellipse cx=\"36.5\" cy=\"61.1328\" fill=\"#FFA500\" rx=\"11\" ry=\"11\" style=\"stroke:#181818;stroke-width:1.0;\"/><path d=\"M36.5625,68.3047 Q34.4531,68.3047 33.3594,67.1797 Q32.2656,66.0547 32.2656,64.0078 L32.2656,55.9922 L34.7344,55.9922 L34.7344,63.5703 Q34.7344,65.0078 35.1875,65.6016 Q35.6406,66.1797 36.5938,66.1797 Q37.6094,66.1797 38.0313,65.5703 Q38.4688,64.9609 38.4688,63.5547 L38.4688,55.9922 L40.9375,55.9922 L40.9375,63.9922 Q40.9375,65.9766 39.8438,67.1484 Q38.7656,68.3047 36.5625,68.3047 Z \" fill=\"#000000\"/><text fill=\"#000000\" font-family=\"sans-serif\" font-size=\"12\" font-style=\"italic\" lengthAdjust=\"spacing\" textLength=\"69\" x=\"48.5\" y=\"57.1387\">«attribute»</text><text fill=\"#000000\" font-family=\"sans-serif\" font-size=\"14\" lengthAdjust=\"spacing\" textLength=\"8\" x=\"75\" y=\"72.9639\">c</text><line style=\"stroke:#181818;stroke-width:0.5;\" x1=\"22.5\" x2=\"117.5\" y1=\"81.2656\" y2=\"81.2656\"/><text fill=\"#000000\" font-family=\"sans-serif\" font-size=\"14\" lengthAdjust=\"spacing\" textLength=\"81\" x=\"27.5\" y=\"108.7795\">= A(\"test2\")</text><text fill=\"#000000\" font-family=\"sans-serif\" font-size=\"14\" font-style=\"italic\" lengthAdjust=\"spacing\" textLength=\"44\" x=\"48\" y=\"93.6123\">values</text></g></a><!--MD5=[05d275557350bfb9b23a4ef7222b4c39]\n",
       "link E3 to E2--><g id=\"link_E3_E2\"><a href=\"psysml:de703d0e-2ba0-4603-81fc-fcf4f6dc7e4d\" target=\"_top\" title=\"psysml:de703d0e-2ba0-4603-81fc-fcf4f6dc7e4d\" xlink:actuate=\"onRequest\" xlink:href=\"psysml:de703d0e-2ba0-4603-81fc-fcf4f6dc7e4d\" xlink:show=\"new\" xlink:title=\"psysml:de703d0e-2ba0-4603-81fc-fcf4f6dc7e4d\" xlink:type=\"simple\"><path d=\"M806.79,102.81 C797.69,121.72 784.44,149.28 772.28,174.55 \" fill=\"none\" id=\"E3-to-E2\" style=\"stroke:#181818;stroke-width:1.0;\"/><polygon fill=\"#FFFFFF\" points=\"763.49,192.81,765.4236,172.6541,778.0382,178.7263,763.49,192.81\" style=\"stroke:#181818;stroke-width:1.0;\"/><ellipse cx=\"769.6979\" cy=\"168.3856\" fill=\"#181818\" rx=\"2\" ry=\"2\" style=\"stroke:#181818;stroke-width:1.0;\"/><ellipse cx=\"778.7083\" cy=\"172.7229\" fill=\"#181818\" rx=\"2\" ry=\"2\" style=\"stroke:#181818;stroke-width:1.0;\"/></a></g><!--MD5=[ddeed8deb2209213b62e6cfabaa108b2]\n",
       "reverse link E4 to E2--><g id=\"link_E4_E2\"><a href=\"psysml:c0525d75-8c24-4ff5-9432-36973c13d292\" target=\"_top\" title=\"psysml:c0525d75-8c24-4ff5-9432-36973c13d292\" xlink:actuate=\"onRequest\" xlink:href=\"psysml:c0525d75-8c24-4ff5-9432-36973c13d292\" xlink:show=\"new\" xlink:title=\"psysml:c0525d75-8c24-4ff5-9432-36973c13d292\" xlink:type=\"simple\"><path d=\"M682.2,114.79 C693.42,137.82 708.18,168.1 720.22,192.81 \" fill=\"none\" id=\"E4-backto-E2\" style=\"stroke:#181818;stroke-width:1.0;\"/><polygon fill=\"none\" points=\"676.36,102.81,675.3882,109.9553,681.6102,113.6005,682.5819,106.4552,676.36,102.81\" style=\"stroke:#181818;stroke-width:1.0;\"/><text fill=\"#000000\" font-family=\"sans-serif\" font-size=\"13\" lengthAdjust=\"spacing\" textLength=\"8\" x=\"704\" y=\"159.0669\">p</text></a></g><!--MD5=[79e04a59e61f1b3435c86a38c1c77b54]\n",
       "@startuml\r\n",
       " \r\n",
       "package \"ParameterTest\" as E1  [[psysml:23a083da-d633-42aa-b737-bc534de6ad98 ]]  {\r\n",
       "comp def \"A\" as E2  << <<(D,brown) attribute  def>> [[psysml:04ef3948-8524-44aa-a324-078bab0d23fb ]] {\r\n",
       "##//attributes//##\r\n",
       "x: String\r\n",
       "y: A\r\n",
       "}\r\n",
       "comp usage \"a: A  \" as E3  << <<(U,orange) attribute>> [[psysml:30f6a8e4-9ac7-4724-976d-d9f1147f3701 ]] {\r\n",
       "}\r\n",
       "comp def \"F\" as E4  << <<(B,lemonchiffon) calculation  def>> [[psysml:9fc68d1c-0eda-4ba7-8d2a-4dac99044350 ]] {\r\n",
       "}\r\n",
       "comp usage \"f  \" as E5  << <<(U,orange) attribute>> [[psysml:201caa5e-7003-43c9-93c7-31c1dd2687e1 ]] {\r\n",
       "##//values//##\r\n",
       " <U+003D> F(a, 2)\r\n",
       "}\r\n",
       "comp usage \"g  \" as E6  << <<(U,orange) attribute>> [[psysml:ef9d06c8-83aa-4b51-a725-4880c3e71513 ]] {\r\n",
       "##//values//##\r\n",
       " <U+003D> F(q <U+003D> 1, p <U+003D> a)\r\n",
       "}\r\n",
       "comp usage \"b  \" as E7  << <<(U,orange) attribute>> [[psysml:472a68ff-87fb-48cb-b812-c0679e72bd97 ]] {\r\n",
       "##//values//##\r\n",
       " <U+003D> A(y<U+003D>a, x<U+003D>\"\")\r\n",
       "}\r\n",
       "comp usage \"c  \" as E8  << <<(U,orange) attribute>> [[psysml:b12c6daa-efd4-472f-91f1-7e0209b6a2bc ]] {\r\n",
       "##//values//##\r\n",
       " <U+003D> A(\"test2\")\r\n",
       "}\r\n",
       "}\r\n",
       "E3 - -:|> E2 [[psysml:de703d0e-2ba0-4603-81fc-fcf4f6dc7e4d ]] \r\n",
       "E4 o- - E2 [[psysml:c0525d75-8c24-4ff5-9432-36973c13d292 ]] : p\r\n",
       "@enduml\r\n",
       "\n",
       "PlantUML version 1.2022.7(Mon Aug 22 17:01:30 UTC 2022)\n",
       "(EPL source distribution)\n",
       "Java Runtime: OpenJDK Runtime Environment\n",
       "JVM: OpenJDK 64-Bit Server VM\n",
       "Default Encoding: UTF-8\n",
       "Language: en\n",
       "Country: null\n",
       "--></g></svg>"
      ]
     },
     "execution_count": 31,
     "metadata": {},
     "output_type": "execute_result"
    }
   ],
   "source": [
    "%viz --style=\"PLANTUML\" --view=\"Tree\" \"ParameterTest\""
   ]
  },
  {
   "cell_type": "code",
   "execution_count": 32,
   "id": "5dec58ec",
   "metadata": {
    "execution": {
     "iopub.execute_input": "2024-12-16T03:23:35.727536Z",
     "iopub.status.busy": "2024-12-16T03:23:35.727315Z",
     "iopub.status.idle": "2024-12-16T03:23:35.778004Z",
     "shell.execute_reply": "2024-12-16T03:23:35.775427Z"
    }
   },
   "outputs": [
    {
     "data": {
      "image/svg+xml": [
       "<?xml version=\"1.0\" encoding=\"UTF-8\" standalone=\"no\"?><svg xmlns=\"http://www.w3.org/2000/svg\" xmlns:xlink=\"http://www.w3.org/1999/xlink\" contentStyleType=\"text/css\" height=\"389px\" preserveAspectRatio=\"none\" style=\"width:603px;height:389px;background:#000000;\" version=\"1.1\" viewBox=\"0 0 603 389\" width=\"603px\" zoomAndPan=\"magnify\"><defs/><g><rect fill=\"#170C05\" height=\"1\" style=\"stroke:#170C05;stroke-width:1.0;\" width=\"1\" x=\"0\" y=\"0\"/><rect fill=\"#FFFFFF\" height=\"226.6573\" style=\"stroke:#FFFFFF;stroke-width:1.0;\" width=\"602\" x=\"0\" y=\"0\"/><text fill=\"#000000\" font-family=\"sans-serif\" font-size=\"12\" font-weight=\"bold\" lengthAdjust=\"spacing\" textLength=\"145.75\" x=\"5\" y=\"16.1387\">Welcome to PlantUML!</text><text fill=\"#000000\" font-family=\"sans-serif\" font-size=\"12\" lengthAdjust=\"spacing\" textLength=\"4\" x=\"5\" y=\"30.1074\"> </text><text fill=\"#000000\" font-family=\"sans-serif\" font-size=\"12\" lengthAdjust=\"spacing\" textLength=\"283\" x=\"5\" y=\"44.0762\">You can start with a simple UML Diagram like:</text><text fill=\"#000000\" font-family=\"sans-serif\" font-size=\"12\" lengthAdjust=\"spacing\" textLength=\"4\" x=\"5\" y=\"58.0449\"> </text><text fill=\"#000000\" font-family=\"monospace\" font-size=\"12\" lengthAdjust=\"spacing\" textLength=\"119\" x=\"5\" y=\"73.7031\">Bob-&gt;Alice: Hello</text><text fill=\"#000000\" font-family=\"sans-serif\" font-size=\"12\" lengthAdjust=\"spacing\" textLength=\"4\" x=\"5\" y=\"88.3578\"> </text><text fill=\"#000000\" font-family=\"sans-serif\" font-size=\"12\" lengthAdjust=\"spacing\" textLength=\"14\" x=\"5\" y=\"102.3265\">Or</text><text fill=\"#000000\" font-family=\"sans-serif\" font-size=\"12\" lengthAdjust=\"spacing\" textLength=\"4\" x=\"5\" y=\"116.2953\"> </text><text fill=\"#000000\" font-family=\"monospace\" font-size=\"12\" lengthAdjust=\"spacing\" textLength=\"91\" x=\"5\" y=\"131.9535\">class Example</text><text fill=\"#000000\" font-family=\"sans-serif\" font-size=\"12\" lengthAdjust=\"spacing\" textLength=\"4\" x=\"5\" y=\"146.6082\"> </text><text fill=\"#000000\" font-family=\"sans-serif\" font-size=\"12\" lengthAdjust=\"spacing\" textLength=\"349\" x=\"5\" y=\"160.5769\">You will find more information about PlantUML syntax on</text><text fill=\"#000000\" font-family=\"sans-serif\" font-size=\"12\" lengthAdjust=\"spacing\" text-decoration=\"underline\" textLength=\"129\" x=\"358\" y=\"160.5769\">https://plantuml.com</text><text fill=\"#000000\" font-family=\"sans-serif\" font-size=\"12\" lengthAdjust=\"spacing\" textLength=\"4\" x=\"5\" y=\"174.5457\"> </text><text fill=\"#000000\" font-family=\"sans-serif\" font-size=\"12\" lengthAdjust=\"spacing\" textLength=\"299\" x=\"5\" y=\"188.5144\">(If you use this software, you accept its license)</text><text fill=\"#000000\" font-family=\"sans-serif\" font-size=\"12\" lengthAdjust=\"spacing\" textLength=\"108\" x=\"5\" y=\"204.8585\">(Details by typing</text><text fill=\"#000000\" font-family=\"monospace\" font-size=\"12\" lengthAdjust=\"spacing\" textLength=\"49\" x=\"117\" y=\"204.1726\">license</text><text fill=\"#000000\" font-family=\"sans-serif\" font-size=\"12\" lengthAdjust=\"spacing\" textLength=\"56\" x=\"170\" y=\"204.8585\">keyword)</text><text fill=\"#000000\" font-family=\"sans-serif\" font-size=\"12\" lengthAdjust=\"spacing\" textLength=\"4\" x=\"5\" y=\"218.8273\"> </text><image height=\"71\" width=\"80\" x=\"516\" xlink:href=\"data:image/png;base64,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\" y=\"6\"/><rect fill=\"#000000\" height=\"160.3594\" style=\"stroke:#000000;stroke-width:1.0;\" width=\"602\" x=\"0\" y=\"226.6573\"/><text fill=\"#33FF02\" font-family=\"sans-serif\" font-size=\"12\" font-style=\"italic\" font-weight=\"bold\" lengthAdjust=\"spacing\" textLength=\"123\" x=\"5\" y=\"243.6573\">PlantUML 1.2022.7</text><text fill=\"#33FF02\" font-family=\"sans-serif\" font-size=\"12\" font-style=\"italic\" font-weight=\"bold\" lengthAdjust=\"spacing\" textLength=\"4\" x=\"5\" y=\"257.6261\"> </text><text fill=\"#33FF02\" font-family=\"sans-serif\" font-size=\"12\" font-style=\"italic\" font-weight=\"bold\" lengthAdjust=\"spacing\" textLength=\"390\" x=\"5\" y=\"271.5948\">&lt;b&gt;This version of PlantUML is 846 days old, so you should</text><text fill=\"#33FF02\" font-family=\"sans-serif\" font-size=\"12\" font-style=\"italic\" font-weight=\"bold\" lengthAdjust=\"spacing\" textLength=\"398.875\" x=\"5\" y=\"285.5636\">&lt;b&gt;consider upgrading from https://plantuml.com/download</text><rect fill=\"#33FF02\" height=\"21.2969\" style=\"stroke:#33FF02;stroke-width:1.0;\" width=\"153.3125\" x=\"5\" y=\"295.5323\"/><text fill=\"#000000\" font-family=\"sans-serif\" font-size=\"14\" font-weight=\"bold\" lengthAdjust=\"spacing\" textLength=\"151.3125\" x=\"6\" y=\"310.5323\">[From string (line 2) ]</text><text fill=\"#33FF02\" font-family=\"sans-serif\" font-size=\"14\" font-weight=\"bold\" lengthAdjust=\"spacing\" textLength=\"4\" x=\"5\" y=\"330.8292\"> </text><text fill=\"#33FF02\" font-family=\"sans-serif\" font-size=\"14\" font-weight=\"bold\" lengthAdjust=\"spacing\" textLength=\"73.9375\" x=\"5\" y=\"347.1261\">@startuml</text><text fill=\"#33FF02\" font-family=\"sans-serif\" font-size=\"14\" font-weight=\"bold\" lengthAdjust=\"spacing\" text-decoration=\"wavy underline\" textLength=\"4\" x=\"5\" y=\"363.423\"> </text><text fill=\"#FF0000\" font-family=\"sans-serif\" font-size=\"14\" font-weight=\"bold\" lengthAdjust=\"spacing\" textLength=\"131\" x=\"9\" y=\"379.7198\">Empty description</text><!--MD5=[5b6570bdd48fecdb4121f0162c378f28]\n",
       "@startuml\r\n",
       " \r\n",
       "@enduml\r\n",
       "\n",
       "PlantUML version 1.2022.7(Mon Aug 22 17:01:30 UTC 2022)\n",
       "(EPL source distribution)\n",
       "Java Runtime: OpenJDK Runtime Environment\n",
       "JVM: OpenJDK 64-Bit Server VM\n",
       "Default Encoding: UTF-8\n",
       "Language: en\n",
       "Country: null\n",
       "--></g></svg>"
      ]
     },
     "execution_count": 32,
     "metadata": {},
     "output_type": "execute_result"
    }
   ],
   "source": [
    "%viz --style=\"PLANTUML\" --view=\"State\" \"ParameterTest\""
   ]
  },
  {
   "cell_type": "code",
   "execution_count": 33,
   "id": "d98687f0",
   "metadata": {
    "execution": {
     "iopub.execute_input": "2024-12-16T03:23:35.830675Z",
     "iopub.status.busy": "2024-12-16T03:23:35.830438Z",
     "iopub.status.idle": "2024-12-16T03:23:35.870329Z",
     "shell.execute_reply": "2024-12-16T03:23:35.869507Z"
    }
   },
   "outputs": [
    {
     "data": {
      "image/svg+xml": [
       "<?xml version=\"1.0\" encoding=\"UTF-8\" standalone=\"no\"?><svg xmlns=\"http://www.w3.org/2000/svg\" xmlns:xlink=\"http://www.w3.org/1999/xlink\" contentStyleType=\"text/css\" height=\"241px\" preserveAspectRatio=\"none\" style=\"width:893px;height:241px;background:#FFFFFF;\" version=\"1.1\" viewBox=\"0 0 893 241\" width=\"893px\" zoomAndPan=\"magnify\"><defs/><g><!--MD5=[fbc87193dbaf4d95561dea2c320d4a47]\n",
       "cluster E1--><g id=\"cluster_E1\"><a href=\"psysml:23a083da-d633-42aa-b737-bc534de6ad98\" target=\"_top\" title=\"psysml:23a083da-d633-42aa-b737-bc534de6ad98\" xlink:actuate=\"onRequest\" xlink:href=\"psysml:23a083da-d633-42aa-b737-bc534de6ad98\" xlink:show=\"new\" xlink:title=\"psysml:23a083da-d633-42aa-b737-bc534de6ad98\" xlink:type=\"simple\"><path d=\"M8.5,6 L117.1875,6 A3.75,3.75 0 0 1 119.6875,8.5 L126.6875,28.2969 L883.5,28.2969 A2.5,2.5 0 0 1 886,30.7969 L886,232.22 A2.5,2.5 0 0 1 883.5,234.72 L8.5,234.72 A2.5,2.5 0 0 1 6,232.22 L6,8.5 A2.5,2.5 0 0 1 8.5,6 \" fill=\"none\" style=\"stroke:#000000;stroke-width:1.5;\"/><line style=\"stroke:#000000;stroke-width:1.5;\" x1=\"6\" x2=\"126.6875\" y1=\"28.2969\" y2=\"28.2969\"/><text fill=\"#000000\" font-family=\"sans-serif\" font-size=\"14\" font-weight=\"bold\" lengthAdjust=\"spacing\" textLength=\"107.6875\" x=\"10\" y=\"20.9951\">ParameterTest</text></a></g><!--MD5=[f6df4d0ebaf0b5dfb2ced0ae5af7c670]\n",
       "cluster E4--><g id=\"cluster_E4\"><a href=\"psysml:9fc68d1c-0eda-4ba7-8d2a-4dac99044350\" target=\"_top\" title=\"psysml:9fc68d1c-0eda-4ba7-8d2a-4dac99044350\" xlink:actuate=\"onRequest\" xlink:href=\"psysml:9fc68d1c-0eda-4ba7-8d2a-4dac99044350\" xlink:show=\"new\" xlink:title=\"psysml:9fc68d1c-0eda-4ba7-8d2a-4dac99044350\" xlink:type=\"simple\"><rect fill=\"#FFFFFF\" height=\"126.22\" id=\"E4\" style=\"stroke:#A80036;stroke-width:1.5;\" width=\"150\" x=\"720\" y=\"78.5\"/><rect fill=\"#F1F1F1\" height=\"40.2656\" style=\"stroke:#A80036;stroke-width:1.5;\" width=\"150\" x=\"720\" y=\"78.5\"/><text fill=\"#000000\" font-family=\"sans-serif\" font-size=\"12\" font-style=\"italic\" lengthAdjust=\"spacing\" textLength=\"110\" x=\"740\" y=\"94.6387\">«calculation  def»</text><text fill=\"#000000\" font-family=\"sans-serif\" font-size=\"14\" lengthAdjust=\"spacing\" textLength=\"8\" x=\"791\" y=\"110.4639\">F</text></a></g><g><a href=\"psysml:04ef3948-8524-44aa-a324-078bab0d23fb\" target=\"_top\" title=\"psysml:04ef3948-8524-44aa-a324-078bab0d23fb\" xlink:actuate=\"onRequest\" xlink:href=\"psysml:04ef3948-8524-44aa-a324-078bab0d23fb\" xlink:show=\"new\" xlink:title=\"psysml:04ef3948-8524-44aa-a324-078bab0d23fb\" xlink:type=\"simple\"><rect fill=\"#F1F1F1\" height=\"45.2656\" id=\"E2\" style=\"stroke:#A80036;stroke-width:1.5;\" width=\"130\" x=\"551\" y=\"127\"/><ellipse cx=\"568.25\" cy=\"147.1328\" fill=\"#A52A2A\" rx=\"11\" ry=\"11\" style=\"stroke:#181818;stroke-width:1.0;\"/><path d=\"M565.0156,153.6328 L565.0156,141.4922 L568.7656,141.4922 Q571.1406,141.4922 572.5313,143.0078 Q573.9375,144.5078 573.9375,147.4609 Q573.9375,150.4297 572.5,152.0391 Q571.0625,153.6328 568.5781,153.6328 L565.0156,153.6328 Z M568.4531,151.5391 Q570,151.5391 570.7188,150.5391 Q571.4375,149.5391 571.4375,147.4766 Q571.4375,145.4453 570.7344,144.5234 Q570.0469,143.5859 568.6563,143.5859 L567.4531,143.5859 L567.4531,151.5391 L568.4531,151.5391 Z \" fill=\"#000000\"/><text fill=\"#000000\" font-family=\"sans-serif\" font-size=\"12\" font-style=\"italic\" lengthAdjust=\"spacing\" textLength=\"97\" x=\"580.75\" y=\"143.1387\">«attribute  def»</text><text fill=\"#000000\" font-family=\"sans-serif\" font-size=\"14\" lengthAdjust=\"spacing\" textLength=\"9\" x=\"624.75\" y=\"158.9639\">A</text></a></g><!--MD5=[09b614a08d8cba4a07c9adeb5e0fee81]\n",
       "class E3--><a href=\"psysml:30f6a8e4-9ac7-4724-976d-d9f1147f3701\" target=\"_top\" title=\"psysml:30f6a8e4-9ac7-4724-976d-d9f1147f3701\" xlink:actuate=\"onRequest\" xlink:href=\"psysml:30f6a8e4-9ac7-4724-976d-d9f1147f3701\" xlink:show=\"new\" xlink:title=\"psysml:30f6a8e4-9ac7-4724-976d-d9f1147f3701\" xlink:type=\"simple\"><g id=\"elem_E3\"><rect fill=\"#F1F1F1\" height=\"48.2656\" id=\"E3\" rx=\"10\" ry=\"10\" style=\"stroke:#181818;stroke-width:0.5;\" width=\"97\" x=\"595.5\" y=\"54.5\"/><ellipse cx=\"610.5\" cy=\"74.6328\" fill=\"#FFA500\" rx=\"11\" ry=\"11\" style=\"stroke:#181818;stroke-width:1.0;\"/><path d=\"M610.5625,81.8047 Q608.4531,81.8047 607.3594,80.6797 Q606.2656,79.5547 606.2656,77.5078 L606.2656,69.4922 L608.7344,69.4922 L608.7344,77.0703 Q608.7344,78.5078 609.1875,79.1016 Q609.6406,79.6797 610.5938,79.6797 Q611.6094,79.6797 612.0313,79.0703 Q612.4688,78.4609 612.4688,77.0547 L612.4688,69.4922 L614.9375,69.4922 L614.9375,77.4922 Q614.9375,79.4766 613.8438,80.6484 Q612.7656,81.8047 610.5625,81.8047 Z \" fill=\"#000000\"/><text fill=\"#000000\" font-family=\"sans-serif\" font-size=\"12\" font-style=\"italic\" lengthAdjust=\"spacing\" textLength=\"69\" x=\"622.5\" y=\"70.6387\">«attribute»</text><text fill=\"#000000\" font-family=\"sans-serif\" font-size=\"14\" lengthAdjust=\"spacing\" textLength=\"26\" x=\"640\" y=\"86.4639\">a: A</text><line style=\"stroke:#181818;stroke-width:0.5;\" x1=\"596.5\" x2=\"691.5\" y1=\"94.7656\" y2=\"94.7656\"/></g></a><!--MD5=[b9389687b975829384b498ac4b7476b2]\n",
       "class E8--><a href=\"psysml:201caa5e-7003-43c9-93c7-31c1dd2687e1\" target=\"_top\" title=\"psysml:201caa5e-7003-43c9-93c7-31c1dd2687e1\" xlink:actuate=\"onRequest\" xlink:href=\"psysml:201caa5e-7003-43c9-93c7-31c1dd2687e1\" xlink:show=\"new\" xlink:title=\"psysml:201caa5e-7003-43c9-93c7-31c1dd2687e1\" xlink:type=\"simple\"><g id=\"elem_E8\"><rect fill=\"#F1F1F1\" height=\"75.0813\" id=\"E8\" rx=\"10\" ry=\"10\" style=\"stroke:#181818;stroke-width:0.5;\" width=\"97\" x=\"463.5\" y=\"41\"/><ellipse cx=\"478.5\" cy=\"61.1328\" fill=\"#FFA500\" rx=\"11\" ry=\"11\" style=\"stroke:#181818;stroke-width:1.0;\"/><path d=\"M478.5625,68.3047 Q476.4531,68.3047 475.3594,67.1797 Q474.2656,66.0547 474.2656,64.0078 L474.2656,55.9922 L476.7344,55.9922 L476.7344,63.5703 Q476.7344,65.0078 477.1875,65.6016 Q477.6406,66.1797 478.5938,66.1797 Q479.6094,66.1797 480.0313,65.5703 Q480.4688,64.9609 480.4688,63.5547 L480.4688,55.9922 L482.9375,55.9922 L482.9375,63.9922 Q482.9375,65.9766 481.8438,67.1484 Q480.7656,68.3047 478.5625,68.3047 Z \" fill=\"#000000\"/><text fill=\"#000000\" font-family=\"sans-serif\" font-size=\"12\" font-style=\"italic\" lengthAdjust=\"spacing\" textLength=\"69\" x=\"490.5\" y=\"57.1387\">«attribute»</text><text fill=\"#000000\" font-family=\"sans-serif\" font-size=\"14\" lengthAdjust=\"spacing\" textLength=\"4\" x=\"519\" y=\"72.9639\">f</text><line style=\"stroke:#181818;stroke-width:0.5;\" x1=\"464.5\" x2=\"559.5\" y1=\"81.2656\" y2=\"81.2656\"/><text fill=\"#000000\" font-family=\"sans-serif\" font-size=\"14\" lengthAdjust=\"spacing\" textLength=\"59\" x=\"469.5\" y=\"108.7795\">= F(a, 2)</text><text fill=\"#000000\" font-family=\"sans-serif\" font-size=\"14\" font-style=\"italic\" lengthAdjust=\"spacing\" textLength=\"44\" x=\"490\" y=\"93.6123\">values</text></g></a><!--MD5=[fd4143e9d270a159db93a4ea2a975926]\n",
       "class E9--><a href=\"psysml:ef9d06c8-83aa-4b51-a725-4880c3e71513\" target=\"_top\" title=\"psysml:ef9d06c8-83aa-4b51-a725-4880c3e71513\" xlink:actuate=\"onRequest\" xlink:href=\"psysml:ef9d06c8-83aa-4b51-a725-4880c3e71513\" xlink:show=\"new\" xlink:title=\"psysml:ef9d06c8-83aa-4b51-a725-4880c3e71513\" xlink:type=\"simple\"><g id=\"elem_E9\"><rect fill=\"#F1F1F1\" height=\"75.0813\" id=\"E9\" rx=\"10\" ry=\"10\" style=\"stroke:#181818;stroke-width:0.5;\" width=\"129\" x=\"299.5\" y=\"41\"/><ellipse cx=\"328.9\" cy=\"61.1328\" fill=\"#FFA500\" rx=\"11\" ry=\"11\" style=\"stroke:#181818;stroke-width:1.0;\"/><path d=\"M328.9625,68.3047 Q326.8531,68.3047 325.7594,67.1797 Q324.6656,66.0547 324.6656,64.0078 L324.6656,55.9922 L327.1344,55.9922 L327.1344,63.5703 Q327.1344,65.0078 327.5875,65.6016 Q328.0406,66.1797 328.9938,66.1797 Q330.0094,66.1797 330.4313,65.5703 Q330.8688,64.9609 330.8688,63.5547 L330.8688,55.9922 L333.3375,55.9922 L333.3375,63.9922 Q333.3375,65.9766 332.2438,67.1484 Q331.1656,68.3047 328.9625,68.3047 Z \" fill=\"#000000\"/><text fill=\"#000000\" font-family=\"sans-serif\" font-size=\"12\" font-style=\"italic\" lengthAdjust=\"spacing\" textLength=\"69\" x=\"344.1\" y=\"57.1387\">«attribute»</text><text fill=\"#000000\" font-family=\"sans-serif\" font-size=\"14\" lengthAdjust=\"spacing\" textLength=\"9\" x=\"370.1\" y=\"72.9639\">g</text><line style=\"stroke:#181818;stroke-width:0.5;\" x1=\"300.5\" x2=\"427.5\" y1=\"81.2656\" y2=\"81.2656\"/><text fill=\"#000000\" font-family=\"sans-serif\" font-size=\"14\" lengthAdjust=\"spacing\" textLength=\"117\" x=\"305.5\" y=\"108.7795\">= F(q = 1, p = a)</text><text fill=\"#000000\" font-family=\"sans-serif\" font-size=\"14\" font-style=\"italic\" lengthAdjust=\"spacing\" textLength=\"44\" x=\"342\" y=\"93.6123\">values</text></g></a><!--MD5=[96f4274e9e20536e775497830990834d]\n",
       "class E10--><a href=\"psysml:472a68ff-87fb-48cb-b812-c0679e72bd97\" target=\"_top\" title=\"psysml:472a68ff-87fb-48cb-b812-c0679e72bd97\" xlink:actuate=\"onRequest\" xlink:href=\"psysml:472a68ff-87fb-48cb-b812-c0679e72bd97\" xlink:show=\"new\" xlink:title=\"psysml:472a68ff-87fb-48cb-b812-c0679e72bd97\" xlink:type=\"simple\"><g id=\"elem_E10\"><rect fill=\"#F1F1F1\" height=\"75.0813\" id=\"E10\" rx=\"10\" ry=\"10\" style=\"stroke:#181818;stroke-width:0.5;\" width=\"111\" x=\"153.5\" y=\"41\"/><ellipse cx=\"174.8\" cy=\"61.1328\" fill=\"#FFA500\" rx=\"11\" ry=\"11\" style=\"stroke:#181818;stroke-width:1.0;\"/><path d=\"M174.8625,68.3047 Q172.7531,68.3047 171.6594,67.1797 Q170.5656,66.0547 170.5656,64.0078 L170.5656,55.9922 L173.0344,55.9922 L173.0344,63.5703 Q173.0344,65.0078 173.4875,65.6016 Q173.9406,66.1797 174.8938,66.1797 Q175.9094,66.1797 176.3313,65.5703 Q176.7688,64.9609 176.7688,63.5547 L176.7688,55.9922 L179.2375,55.9922 L179.2375,63.9922 Q179.2375,65.9766 178.1438,67.1484 Q177.0656,68.3047 174.8625,68.3047 Z \" fill=\"#000000\"/><text fill=\"#000000\" font-family=\"sans-serif\" font-size=\"12\" font-style=\"italic\" lengthAdjust=\"spacing\" textLength=\"69\" x=\"188.2\" y=\"57.1387\">«attribute»</text><text fill=\"#000000\" font-family=\"sans-serif\" font-size=\"14\" lengthAdjust=\"spacing\" textLength=\"9\" x=\"214.2\" y=\"72.9639\">b</text><line style=\"stroke:#181818;stroke-width:0.5;\" x1=\"154.5\" x2=\"263.5\" y1=\"81.2656\" y2=\"81.2656\"/><text fill=\"#000000\" font-family=\"sans-serif\" font-size=\"14\" lengthAdjust=\"spacing\" textLength=\"99\" x=\"159.5\" y=\"108.7795\">= A(y=a, x=\"\")</text><text fill=\"#000000\" font-family=\"sans-serif\" font-size=\"14\" font-style=\"italic\" lengthAdjust=\"spacing\" textLength=\"44\" x=\"187\" y=\"93.6123\">values</text></g></a><!--MD5=[1dd1bfd58a279cf63c5f349dbc8fc6a1]\n",
       "class E11--><a href=\"psysml:b12c6daa-efd4-472f-91f1-7e0209b6a2bc\" target=\"_top\" title=\"psysml:b12c6daa-efd4-472f-91f1-7e0209b6a2bc\" xlink:actuate=\"onRequest\" xlink:href=\"psysml:b12c6daa-efd4-472f-91f1-7e0209b6a2bc\" xlink:show=\"new\" xlink:title=\"psysml:b12c6daa-efd4-472f-91f1-7e0209b6a2bc\" xlink:type=\"simple\"><g id=\"elem_E11\"><rect fill=\"#F1F1F1\" height=\"75.0813\" id=\"E11\" rx=\"10\" ry=\"10\" style=\"stroke:#181818;stroke-width:0.5;\" width=\"97\" x=\"21.5\" y=\"41\"/><ellipse cx=\"36.5\" cy=\"61.1328\" fill=\"#FFA500\" rx=\"11\" ry=\"11\" style=\"stroke:#181818;stroke-width:1.0;\"/><path d=\"M36.5625,68.3047 Q34.4531,68.3047 33.3594,67.1797 Q32.2656,66.0547 32.2656,64.0078 L32.2656,55.9922 L34.7344,55.9922 L34.7344,63.5703 Q34.7344,65.0078 35.1875,65.6016 Q35.6406,66.1797 36.5938,66.1797 Q37.6094,66.1797 38.0313,65.5703 Q38.4688,64.9609 38.4688,63.5547 L38.4688,55.9922 L40.9375,55.9922 L40.9375,63.9922 Q40.9375,65.9766 39.8438,67.1484 Q38.7656,68.3047 36.5625,68.3047 Z \" fill=\"#000000\"/><text fill=\"#000000\" font-family=\"sans-serif\" font-size=\"12\" font-style=\"italic\" lengthAdjust=\"spacing\" textLength=\"69\" x=\"48.5\" y=\"57.1387\">«attribute»</text><text fill=\"#000000\" font-family=\"sans-serif\" font-size=\"14\" lengthAdjust=\"spacing\" textLength=\"8\" x=\"75\" y=\"72.9639\">c</text><line style=\"stroke:#181818;stroke-width:0.5;\" x1=\"22.5\" x2=\"117.5\" y1=\"81.2656\" y2=\"81.2656\"/><text fill=\"#000000\" font-family=\"sans-serif\" font-size=\"14\" lengthAdjust=\"spacing\" textLength=\"81\" x=\"27.5\" y=\"108.7795\">= A(\"test2\")</text><text fill=\"#000000\" font-family=\"sans-serif\" font-size=\"14\" font-style=\"italic\" lengthAdjust=\"spacing\" textLength=\"44\" x=\"48\" y=\"93.6123\">values</text></g></a><text fill=\"#000000\" font-family=\"sans-serif\" font-size=\"14\" lengthAdjust=\"spacing\" textLength=\"9\" x=\"733.5\" y=\"57.1982\">p</text><rect fill=\"#F1F1F1\" height=\"12\" style=\"stroke:#181818;stroke-width:1.5;\" width=\"12\" x=\"732\" y=\"72.5\"/><text fill=\"#000000\" font-family=\"sans-serif\" font-size=\"14\" lengthAdjust=\"spacing\" textLength=\"9\" x=\"780.5\" y=\"57.1982\">q</text><rect fill=\"#F1F1F1\" height=\"12\" style=\"stroke:#181818;stroke-width:1.5;\" width=\"12\" x=\"779\" y=\"72.5\"/><text fill=\"#000000\" font-family=\"sans-serif\" font-size=\"14\" lengthAdjust=\"spacing\" textLength=\"39\" x=\"765.5\" y=\"223.7151\">result</text><rect fill=\"#F1F1F1\" height=\"12\" style=\"stroke:#181818;stroke-width:1.5;\" width=\"12\" x=\"779\" y=\"198.72\"/><!--MD5=[05d275557350bfb9b23a4ef7222b4c39]\n",
       "link E3 to E2--><g id=\"link_E3_E2\"><a href=\"psysml:de703d0e-2ba0-4603-81fc-fcf4f6dc7e4d\" target=\"_top\" title=\"psysml:de703d0e-2ba0-4603-81fc-fcf4f6dc7e4d\" xlink:actuate=\"onRequest\" xlink:href=\"psysml:de703d0e-2ba0-4603-81fc-fcf4f6dc7e4d\" xlink:show=\"new\" xlink:title=\"psysml:de703d0e-2ba0-4603-81fc-fcf4f6dc7e4d\" xlink:type=\"simple\"><path d=\"M634.52,102.86 C633.84,104.54 633.14,106.25 632.44,107.99 \" fill=\"none\" id=\"E3-to-E2\" style=\"stroke:#181818;stroke-width:1.0;\"/><polygon fill=\"#FFFFFF\" points=\"624.9,126.56,625.5538,106.3221,638.5274,111.5836,624.9,126.56\" style=\"stroke:#181818;stroke-width:1.0;\"/><ellipse cx=\"629.5493\" cy=\"101.7916\" fill=\"#181818\" rx=\"2\" ry=\"2\" style=\"stroke:#181818;stroke-width:1.0;\"/><ellipse cx=\"638.8162\" cy=\"105.5498\" fill=\"#181818\" rx=\"2\" ry=\"2\" style=\"stroke:#181818;stroke-width:1.0;\"/></a></g><!--MD5=[3b1213d17b025997c03078e4e04bd57c]\n",
       "@startuml\r\n",
       " skinparam ranksep 10\r\n",
       "skinparam rectangle {\r\n",
       " backgroundColor<<block>> LightGreen\r\n",
       "}\r\n",
       "\r\n",
       "package \"ParameterTest\" as E1  [[psysml:23a083da-d633-42aa-b737-bc534de6ad98 ]]  {\r\n",
       "def \"A\" as E2  << <<(D,brown) attribute  def>> [[psysml:04ef3948-8524-44aa-a324-078bab0d23fb ]] \r\n",
       "comp usage \"a: A  \" as E3  << <<(U,orange) attribute>> [[psysml:30f6a8e4-9ac7-4724-976d-d9f1147f3701 ]] {\r\n",
       "}\r\n",
       "rec def \"F\" as E4  << <<(B,lemonchiffon) calculation  def>> [[psysml:9fc68d1c-0eda-4ba7-8d2a-4dac99044350 ]] {\r\n",
       "portin \"p\" as E5  [[psysml:c0525d75-8c24-4ff5-9432-36973c13d292 ]] \r\n",
       "portin \"q\" as E6  [[psysml:ea5aeb99-c612-42a4-b65a-a51f249da328 ]] \r\n",
       "portout \"result\" as E7  [[psysml:ef9cf0a8-f443-48d9-b6fd-29ed95d8a001 ]] \r\n",
       "}\r\n",
       "\r\n",
       "comp usage \"f  \" as E8  << <<(U,orange) attribute>> [[psysml:201caa5e-7003-43c9-93c7-31c1dd2687e1 ]] {\r\n",
       "##//values//##\r\n",
       " <U+003D> F(a, 2)\r\n",
       "}\r\n",
       "comp usage \"g  \" as E9  << <<(U,orange) attribute>> [[psysml:ef9d06c8-83aa-4b51-a725-4880c3e71513 ]] {\r\n",
       "##//values//##\r\n",
       " <U+003D> F(q <U+003D> 1, p <U+003D> a)\r\n",
       "}\r\n",
       "comp usage \"b  \" as E10  << <<(U,orange) attribute>> [[psysml:472a68ff-87fb-48cb-b812-c0679e72bd97 ]] {\r\n",
       "##//values//##\r\n",
       " <U+003D> A(y<U+003D>a, x<U+003D>\"\")\r\n",
       "}\r\n",
       "comp usage \"c  \" as E11  << <<(U,orange) attribute>> [[psysml:b12c6daa-efd4-472f-91f1-7e0209b6a2bc ]] {\r\n",
       "##//values//##\r\n",
       " <U+003D> A(\"test2\")\r\n",
       "}\r\n",
       "}\r\n",
       "E3 - -:|> E2 [[psysml:de703d0e-2ba0-4603-81fc-fcf4f6dc7e4d ]] \r\n",
       "@enduml\r\n",
       "\n",
       "PlantUML version 1.2022.7(Mon Aug 22 17:01:30 UTC 2022)\n",
       "(EPL source distribution)\n",
       "Java Runtime: OpenJDK Runtime Environment\n",
       "JVM: OpenJDK 64-Bit Server VM\n",
       "Default Encoding: UTF-8\n",
       "Language: en\n",
       "Country: null\n",
       "--></g></svg>"
      ]
     },
     "execution_count": 33,
     "metadata": {},
     "output_type": "execute_result"
    }
   ],
   "source": [
    "%viz --style=\"PLANTUML\" --view=\"Interconnection\" \"ParameterTest\""
   ]
  },
  {
   "cell_type": "code",
   "execution_count": 34,
   "id": "7f71c69a",
   "metadata": {
    "execution": {
     "iopub.execute_input": "2024-12-16T03:23:35.925707Z",
     "iopub.status.busy": "2024-12-16T03:23:35.925472Z",
     "iopub.status.idle": "2024-12-16T03:23:35.938919Z",
     "shell.execute_reply": "2024-12-16T03:23:35.938741Z"
    }
   },
   "outputs": [
    {
     "data": {
      "image/svg+xml": [
       "<?xml version=\"1.0\" encoding=\"UTF-8\" standalone=\"no\"?><svg xmlns=\"http://www.w3.org/2000/svg\" xmlns:xlink=\"http://www.w3.org/1999/xlink\" contentStyleType=\"text/css\" height=\"157px\" preserveAspectRatio=\"none\" style=\"width:163px;height:157px;background:#FFFFFF;\" version=\"1.1\" viewBox=\"0 0 163 157\" width=\"163px\" zoomAndPan=\"magnify\"><defs/><g><!--MD5=[fbc87193dbaf4d95561dea2c320d4a47]\n",
       "cluster E1--><g id=\"cluster_E1\"><a href=\"psysml:9fc68d1c-0eda-4ba7-8d2a-4dac99044350\" target=\"_top\" title=\"psysml:9fc68d1c-0eda-4ba7-8d2a-4dac99044350\" xlink:actuate=\"onRequest\" xlink:href=\"psysml:9fc68d1c-0eda-4ba7-8d2a-4dac99044350\" xlink:show=\"new\" xlink:title=\"psysml:9fc68d1c-0eda-4ba7-8d2a-4dac99044350\" xlink:type=\"simple\"><rect fill=\"#FFFFFF\" height=\"87.72\" id=\"E1\" style=\"stroke:#A80036;stroke-width:1.5;\" width=\"150\" x=\"7\" y=\"42.0986\"/><rect fill=\"#F1F1F1\" height=\"40.2656\" style=\"stroke:#A80036;stroke-width:1.5;\" width=\"150\" x=\"7\" y=\"42.0986\"/><text fill=\"#000000\" font-family=\"sans-serif\" font-size=\"12\" font-style=\"italic\" lengthAdjust=\"spacing\" textLength=\"110\" x=\"27\" y=\"58.2373\">«calculation  def»</text><text fill=\"#000000\" font-family=\"sans-serif\" font-size=\"14\" lengthAdjust=\"spacing\" textLength=\"8\" x=\"78\" y=\"74.0625\">F</text></a></g><text fill=\"#000000\" font-family=\"sans-serif\" font-size=\"14\" lengthAdjust=\"spacing\" textLength=\"9\" x=\"20.5\" y=\"20.7969\">p</text><rect fill=\"#F1F1F1\" height=\"12\" style=\"stroke:#181818;stroke-width:1.5;\" width=\"12\" x=\"19\" y=\"36.0986\"/><text fill=\"#000000\" font-family=\"sans-serif\" font-size=\"14\" lengthAdjust=\"spacing\" textLength=\"9\" x=\"67.5\" y=\"20.7969\">q</text><rect fill=\"#F1F1F1\" height=\"12\" style=\"stroke:#181818;stroke-width:1.5;\" width=\"12\" x=\"66\" y=\"36.0986\"/><text fill=\"#000000\" font-family=\"sans-serif\" font-size=\"14\" lengthAdjust=\"spacing\" textLength=\"39\" x=\"52.5\" y=\"148.8138\">result</text><rect fill=\"#F1F1F1\" height=\"12\" style=\"stroke:#181818;stroke-width:1.5;\" width=\"12\" x=\"66\" y=\"123.8186\"/><!--MD5=[f5a1bc478c52e3103a9393ee085e8a94]\n",
       "@startuml\r\n",
       " skinparam ranksep 8\r\n",
       "\r\n",
       "rec def \"F\" as E1  << <<(B,lemonchiffon) calculation  def>> [[psysml:9fc68d1c-0eda-4ba7-8d2a-4dac99044350 ]] {\r\n",
       "portin \"p\" as E2  [[psysml:c0525d75-8c24-4ff5-9432-36973c13d292 ]] \r\n",
       "portin \"q\" as E3  [[psysml:ea5aeb99-c612-42a4-b65a-a51f249da328 ]] \r\n",
       "portout \"result\" as E4  [[psysml:ef9cf0a8-f443-48d9-b6fd-29ed95d8a001 ]] \r\n",
       "}\r\n",
       "\r\n",
       "@enduml\r\n",
       "\n",
       "PlantUML version 1.2022.7(Mon Aug 22 17:01:30 UTC 2022)\n",
       "(EPL source distribution)\n",
       "Java Runtime: OpenJDK Runtime Environment\n",
       "JVM: OpenJDK 64-Bit Server VM\n",
       "Default Encoding: UTF-8\n",
       "Language: en\n",
       "Country: null\n",
       "--></g></svg>"
      ]
     },
     "execution_count": 34,
     "metadata": {},
     "output_type": "execute_result"
    }
   ],
   "source": [
    "%viz --style=\"PLANTUML\" --view=\"Action\" \"ParameterTest\""
   ]
  },
  {
   "cell_type": "code",
   "execution_count": 35,
   "id": "556e58e5",
   "metadata": {
    "execution": {
     "iopub.execute_input": "2024-12-16T03:23:35.992270Z",
     "iopub.status.busy": "2024-12-16T03:23:35.992005Z",
     "iopub.status.idle": "2024-12-16T03:23:35.999862Z",
     "shell.execute_reply": "2024-12-16T03:23:35.999673Z"
    }
   },
   "outputs": [
    {
     "data": {
      "image/svg+xml": [
       "<?xml version=\"1.0\" encoding=\"UTF-8\" standalone=\"no\"?><svg xmlns=\"http://www.w3.org/2000/svg\" xmlns:xlink=\"http://www.w3.org/1999/xlink\" contentStyleType=\"text/css\" height=\"10px\" preserveAspectRatio=\"none\" style=\"width:10px;height:10px;background:#FFFFFF;\" version=\"1.1\" viewBox=\"0 0 10 10\" width=\"10px\" zoomAndPan=\"magnify\"><defs/><g><!--MD5=[395e82ba475bd2e80052467b56fa0251]\n",
       "@startuml\r\n",
       " skinparam roundcorner 20\r\n",
       "skinparam BoxPadding 20\r\n",
       "skinparam SequenceBoxBackgroundColor #white\r\n",
       "skinparam style strictuml\r\n",
       "skinparam maxMessageSize 100\r\n",
       "\r\n",
       "@enduml\r\n",
       "\n",
       "PlantUML version 1.2022.7(Mon Aug 22 17:01:30 UTC 2022)\n",
       "(EPL source distribution)\n",
       "Java Runtime: OpenJDK Runtime Environment\n",
       "JVM: OpenJDK 64-Bit Server VM\n",
       "Default Encoding: UTF-8\n",
       "Language: en\n",
       "Country: null\n",
       "--></g></svg>"
      ]
     },
     "execution_count": 35,
     "metadata": {},
     "output_type": "execute_result"
    }
   ],
   "source": [
    "%viz --style=\"PLANTUML\" --view=\"Sequence\" \"ParameterTest\""
   ]
  },
  {
   "cell_type": "code",
   "execution_count": 36,
   "id": "009415c5",
   "metadata": {
    "execution": {
     "iopub.execute_input": "2024-12-16T03:23:36.053332Z",
     "iopub.status.busy": "2024-12-16T03:23:36.053104Z",
     "iopub.status.idle": "2024-12-16T03:23:36.086469Z",
     "shell.execute_reply": "2024-12-16T03:23:36.085526Z"
    }
   },
   "outputs": [
    {
     "data": {
      "image/svg+xml": [
       "<?xml version=\"1.0\" encoding=\"UTF-8\" standalone=\"no\"?><svg xmlns=\"http://www.w3.org/2000/svg\" xmlns:xlink=\"http://www.w3.org/1999/xlink\" contentStyleType=\"text/css\" height=\"430px\" preserveAspectRatio=\"none\" style=\"width:893px;height:430px;background:#FFFFFF;\" version=\"1.1\" viewBox=\"0 0 893 430\" width=\"893px\" zoomAndPan=\"magnify\"><defs/><g><!--MD5=[fbc87193dbaf4d95561dea2c320d4a47]\n",
       "cluster E1--><g id=\"cluster_E1\"><a href=\"psysml:23a083da-d633-42aa-b737-bc534de6ad98\" target=\"_top\" title=\"psysml:23a083da-d633-42aa-b737-bc534de6ad98\" xlink:actuate=\"onRequest\" xlink:href=\"psysml:23a083da-d633-42aa-b737-bc534de6ad98\" xlink:show=\"new\" xlink:title=\"psysml:23a083da-d633-42aa-b737-bc534de6ad98\" xlink:type=\"simple\"><path d=\"M8.5,6 L117.1875,6 A3.75,3.75 0 0 1 119.6875,8.5 L126.6875,28.2969 L883.5,28.2969 A2.5,2.5 0 0 1 886,30.7969 L886,421.22 A2.5,2.5 0 0 1 883.5,423.72 L8.5,423.72 A2.5,2.5 0 0 1 6,421.22 L6,8.5 A2.5,2.5 0 0 1 8.5,6 \" fill=\"none\" style=\"stroke:#000000;stroke-width:1.5;\"/><line style=\"stroke:#000000;stroke-width:1.5;\" x1=\"6\" x2=\"126.6875\" y1=\"28.2969\" y2=\"28.2969\"/><text fill=\"#000000\" font-family=\"sans-serif\" font-size=\"14\" font-weight=\"bold\" lengthAdjust=\"spacing\" textLength=\"107.6875\" x=\"10\" y=\"20.9951\">ParameterTest</text></a></g><!--MD5=[f6df4d0ebaf0b5dfb2ced0ae5af7c670]\n",
       "cluster E4--><g id=\"cluster_E4\"><a href=\"psysml:9fc68d1c-0eda-4ba7-8d2a-4dac99044350\" target=\"_top\" title=\"psysml:9fc68d1c-0eda-4ba7-8d2a-4dac99044350\" xlink:actuate=\"onRequest\" xlink:href=\"psysml:9fc68d1c-0eda-4ba7-8d2a-4dac99044350\" xlink:show=\"new\" xlink:title=\"psysml:9fc68d1c-0eda-4ba7-8d2a-4dac99044350\" xlink:type=\"simple\"><rect fill=\"#FFFFFF\" height=\"315.22\" id=\"E4\" style=\"stroke:#A80036;stroke-width:1.5;\" width=\"150\" x=\"720\" y=\"78.5\"/><rect fill=\"#F1F1F1\" height=\"40.2656\" style=\"stroke:#A80036;stroke-width:1.5;\" width=\"150\" x=\"720\" y=\"78.5\"/><text fill=\"#000000\" font-family=\"sans-serif\" font-size=\"12\" font-style=\"italic\" lengthAdjust=\"spacing\" textLength=\"110\" x=\"740\" y=\"94.6387\">«calculation  def»</text><text fill=\"#000000\" font-family=\"sans-serif\" font-size=\"14\" lengthAdjust=\"spacing\" textLength=\"8\" x=\"791\" y=\"110.4639\">F</text></a></g><!--MD5=[b4997ac47864f28c2f74865a473b2911]\n",
       "class E2--><a href=\"psysml:04ef3948-8524-44aa-a324-078bab0d23fb\" target=\"_top\" title=\"psysml:04ef3948-8524-44aa-a324-078bab0d23fb\" xlink:actuate=\"onRequest\" xlink:href=\"psysml:04ef3948-8524-44aa-a324-078bab0d23fb\" xlink:show=\"new\" xlink:title=\"psysml:04ef3948-8524-44aa-a324-078bab0d23fb\" xlink:type=\"simple\"><g id=\"elem_E2\"><rect fill=\"#F1F1F1\" height=\"91.3781\" id=\"E2\" rx=\"2.5\" ry=\"2.5\" style=\"stroke:#181818;stroke-width:0.5;\" width=\"125\" x=\"556.5\" y=\"176\"/><ellipse cx=\"571.5\" cy=\"196.1328\" fill=\"#A52A2A\" rx=\"11\" ry=\"11\" style=\"stroke:#181818;stroke-width:1.0;\"/><path d=\"M568.2656,202.6328 L568.2656,190.4922 L572.0156,190.4922 Q574.3906,190.4922 575.7813,192.0078 Q577.1875,193.5078 577.1875,196.4609 Q577.1875,199.4297 575.75,201.0391 Q574.3125,202.6328 571.8281,202.6328 L568.2656,202.6328 Z M571.7031,200.5391 Q573.25,200.5391 573.9688,199.5391 Q574.6875,198.5391 574.6875,196.4766 Q574.6875,194.4453 573.9844,193.5234 Q573.2969,192.5859 571.9063,192.5859 L570.7031,192.5859 L570.7031,200.5391 L571.7031,200.5391 Z \" fill=\"#000000\"/><text fill=\"#000000\" font-family=\"sans-serif\" font-size=\"12\" font-style=\"italic\" lengthAdjust=\"spacing\" textLength=\"97\" x=\"583.5\" y=\"192.1387\">«attribute  def»</text><text fill=\"#000000\" font-family=\"sans-serif\" font-size=\"14\" lengthAdjust=\"spacing\" textLength=\"9\" x=\"627.5\" y=\"207.9639\">A</text><line style=\"stroke:#181818;stroke-width:0.5;\" x1=\"557.5\" x2=\"680.5\" y1=\"216.2656\" y2=\"216.2656\"/><text fill=\"#000000\" font-family=\"sans-serif\" font-size=\"14\" lengthAdjust=\"spacing\" textLength=\"56\" x=\"562.5\" y=\"243.7795\">x: String</text><text fill=\"#000000\" font-family=\"sans-serif\" font-size=\"14\" lengthAdjust=\"spacing\" textLength=\"25\" x=\"562.5\" y=\"260.0764\">y: A</text><text fill=\"#000000\" font-family=\"sans-serif\" font-size=\"14\" font-style=\"italic\" lengthAdjust=\"spacing\" textLength=\"66\" x=\"586\" y=\"228.6123\">attributes</text></g></a><!--MD5=[09b614a08d8cba4a07c9adeb5e0fee81]\n",
       "class E3--><a href=\"psysml:30f6a8e4-9ac7-4724-976d-d9f1147f3701\" target=\"_top\" title=\"psysml:30f6a8e4-9ac7-4724-976d-d9f1147f3701\" xlink:actuate=\"onRequest\" xlink:href=\"psysml:30f6a8e4-9ac7-4724-976d-d9f1147f3701\" xlink:show=\"new\" xlink:title=\"psysml:30f6a8e4-9ac7-4724-976d-d9f1147f3701\" xlink:type=\"simple\"><g id=\"elem_E3\"><rect fill=\"#F1F1F1\" height=\"48.2656\" id=\"E3\" rx=\"10\" ry=\"10\" style=\"stroke:#181818;stroke-width:0.5;\" width=\"97\" x=\"595.5\" y=\"54.5\"/><ellipse cx=\"610.5\" cy=\"74.6328\" fill=\"#FFA500\" rx=\"11\" ry=\"11\" style=\"stroke:#181818;stroke-width:1.0;\"/><path d=\"M610.5625,81.8047 Q608.4531,81.8047 607.3594,80.6797 Q606.2656,79.5547 606.2656,77.5078 L606.2656,69.4922 L608.7344,69.4922 L608.7344,77.0703 Q608.7344,78.5078 609.1875,79.1016 Q609.6406,79.6797 610.5938,79.6797 Q611.6094,79.6797 612.0313,79.0703 Q612.4688,78.4609 612.4688,77.0547 L612.4688,69.4922 L614.9375,69.4922 L614.9375,77.4922 Q614.9375,79.4766 613.8438,80.6484 Q612.7656,81.8047 610.5625,81.8047 Z \" fill=\"#000000\"/><text fill=\"#000000\" font-family=\"sans-serif\" font-size=\"12\" font-style=\"italic\" lengthAdjust=\"spacing\" textLength=\"69\" x=\"622.5\" y=\"70.6387\">«attribute»</text><text fill=\"#000000\" font-family=\"sans-serif\" font-size=\"14\" lengthAdjust=\"spacing\" textLength=\"26\" x=\"640\" y=\"86.4639\">a: A</text><line style=\"stroke:#181818;stroke-width:0.5;\" x1=\"596.5\" x2=\"691.5\" y1=\"94.7656\" y2=\"94.7656\"/></g></a><!--MD5=[b9389687b975829384b498ac4b7476b2]\n",
       "class E8--><a href=\"psysml:201caa5e-7003-43c9-93c7-31c1dd2687e1\" target=\"_top\" title=\"psysml:201caa5e-7003-43c9-93c7-31c1dd2687e1\" xlink:actuate=\"onRequest\" xlink:href=\"psysml:201caa5e-7003-43c9-93c7-31c1dd2687e1\" xlink:show=\"new\" xlink:title=\"psysml:201caa5e-7003-43c9-93c7-31c1dd2687e1\" xlink:type=\"simple\"><g id=\"elem_E8\"><rect fill=\"#F1F1F1\" height=\"75.0813\" id=\"E8\" rx=\"10\" ry=\"10\" style=\"stroke:#181818;stroke-width:0.5;\" width=\"97\" x=\"463.5\" y=\"41\"/><ellipse cx=\"478.5\" cy=\"61.1328\" fill=\"#FFA500\" rx=\"11\" ry=\"11\" style=\"stroke:#181818;stroke-width:1.0;\"/><path d=\"M478.5625,68.3047 Q476.4531,68.3047 475.3594,67.1797 Q474.2656,66.0547 474.2656,64.0078 L474.2656,55.9922 L476.7344,55.9922 L476.7344,63.5703 Q476.7344,65.0078 477.1875,65.6016 Q477.6406,66.1797 478.5938,66.1797 Q479.6094,66.1797 480.0313,65.5703 Q480.4688,64.9609 480.4688,63.5547 L480.4688,55.9922 L482.9375,55.9922 L482.9375,63.9922 Q482.9375,65.9766 481.8438,67.1484 Q480.7656,68.3047 478.5625,68.3047 Z \" fill=\"#000000\"/><text fill=\"#000000\" font-family=\"sans-serif\" font-size=\"12\" font-style=\"italic\" lengthAdjust=\"spacing\" textLength=\"69\" x=\"490.5\" y=\"57.1387\">«attribute»</text><text fill=\"#000000\" font-family=\"sans-serif\" font-size=\"14\" lengthAdjust=\"spacing\" textLength=\"4\" x=\"519\" y=\"72.9639\">f</text><line style=\"stroke:#181818;stroke-width:0.5;\" x1=\"464.5\" x2=\"559.5\" y1=\"81.2656\" y2=\"81.2656\"/><text fill=\"#000000\" font-family=\"sans-serif\" font-size=\"14\" lengthAdjust=\"spacing\" textLength=\"59\" x=\"469.5\" y=\"108.7795\">= F(a, 2)</text><text fill=\"#000000\" font-family=\"sans-serif\" font-size=\"14\" font-style=\"italic\" lengthAdjust=\"spacing\" textLength=\"44\" x=\"490\" y=\"93.6123\">values</text></g></a><!--MD5=[fd4143e9d270a159db93a4ea2a975926]\n",
       "class E9--><a href=\"psysml:ef9d06c8-83aa-4b51-a725-4880c3e71513\" target=\"_top\" title=\"psysml:ef9d06c8-83aa-4b51-a725-4880c3e71513\" xlink:actuate=\"onRequest\" xlink:href=\"psysml:ef9d06c8-83aa-4b51-a725-4880c3e71513\" xlink:show=\"new\" xlink:title=\"psysml:ef9d06c8-83aa-4b51-a725-4880c3e71513\" xlink:type=\"simple\"><g id=\"elem_E9\"><rect fill=\"#F1F1F1\" height=\"75.0813\" id=\"E9\" rx=\"10\" ry=\"10\" style=\"stroke:#181818;stroke-width:0.5;\" width=\"129\" x=\"299.5\" y=\"41\"/><ellipse cx=\"328.9\" cy=\"61.1328\" fill=\"#FFA500\" rx=\"11\" ry=\"11\" style=\"stroke:#181818;stroke-width:1.0;\"/><path d=\"M328.9625,68.3047 Q326.8531,68.3047 325.7594,67.1797 Q324.6656,66.0547 324.6656,64.0078 L324.6656,55.9922 L327.1344,55.9922 L327.1344,63.5703 Q327.1344,65.0078 327.5875,65.6016 Q328.0406,66.1797 328.9938,66.1797 Q330.0094,66.1797 330.4313,65.5703 Q330.8688,64.9609 330.8688,63.5547 L330.8688,55.9922 L333.3375,55.9922 L333.3375,63.9922 Q333.3375,65.9766 332.2438,67.1484 Q331.1656,68.3047 328.9625,68.3047 Z \" fill=\"#000000\"/><text fill=\"#000000\" font-family=\"sans-serif\" font-size=\"12\" font-style=\"italic\" lengthAdjust=\"spacing\" textLength=\"69\" x=\"344.1\" y=\"57.1387\">«attribute»</text><text fill=\"#000000\" font-family=\"sans-serif\" font-size=\"14\" lengthAdjust=\"spacing\" textLength=\"9\" x=\"370.1\" y=\"72.9639\">g</text><line style=\"stroke:#181818;stroke-width:0.5;\" x1=\"300.5\" x2=\"427.5\" y1=\"81.2656\" y2=\"81.2656\"/><text fill=\"#000000\" font-family=\"sans-serif\" font-size=\"14\" lengthAdjust=\"spacing\" textLength=\"117\" x=\"305.5\" y=\"108.7795\">= F(q = 1, p = a)</text><text fill=\"#000000\" font-family=\"sans-serif\" font-size=\"14\" font-style=\"italic\" lengthAdjust=\"spacing\" textLength=\"44\" x=\"342\" y=\"93.6123\">values</text></g></a><!--MD5=[96f4274e9e20536e775497830990834d]\n",
       "class E10--><a href=\"psysml:472a68ff-87fb-48cb-b812-c0679e72bd97\" target=\"_top\" title=\"psysml:472a68ff-87fb-48cb-b812-c0679e72bd97\" xlink:actuate=\"onRequest\" xlink:href=\"psysml:472a68ff-87fb-48cb-b812-c0679e72bd97\" xlink:show=\"new\" xlink:title=\"psysml:472a68ff-87fb-48cb-b812-c0679e72bd97\" xlink:type=\"simple\"><g id=\"elem_E10\"><rect fill=\"#F1F1F1\" height=\"75.0813\" id=\"E10\" rx=\"10\" ry=\"10\" style=\"stroke:#181818;stroke-width:0.5;\" width=\"111\" x=\"153.5\" y=\"41\"/><ellipse cx=\"174.8\" cy=\"61.1328\" fill=\"#FFA500\" rx=\"11\" ry=\"11\" style=\"stroke:#181818;stroke-width:1.0;\"/><path d=\"M174.8625,68.3047 Q172.7531,68.3047 171.6594,67.1797 Q170.5656,66.0547 170.5656,64.0078 L170.5656,55.9922 L173.0344,55.9922 L173.0344,63.5703 Q173.0344,65.0078 173.4875,65.6016 Q173.9406,66.1797 174.8938,66.1797 Q175.9094,66.1797 176.3313,65.5703 Q176.7688,64.9609 176.7688,63.5547 L176.7688,55.9922 L179.2375,55.9922 L179.2375,63.9922 Q179.2375,65.9766 178.1438,67.1484 Q177.0656,68.3047 174.8625,68.3047 Z \" fill=\"#000000\"/><text fill=\"#000000\" font-family=\"sans-serif\" font-size=\"12\" font-style=\"italic\" lengthAdjust=\"spacing\" textLength=\"69\" x=\"188.2\" y=\"57.1387\">«attribute»</text><text fill=\"#000000\" font-family=\"sans-serif\" font-size=\"14\" lengthAdjust=\"spacing\" textLength=\"9\" x=\"214.2\" y=\"72.9639\">b</text><line style=\"stroke:#181818;stroke-width:0.5;\" x1=\"154.5\" x2=\"263.5\" y1=\"81.2656\" y2=\"81.2656\"/><text fill=\"#000000\" font-family=\"sans-serif\" font-size=\"14\" lengthAdjust=\"spacing\" textLength=\"99\" x=\"159.5\" y=\"108.7795\">= A(y=a, x=\"\")</text><text fill=\"#000000\" font-family=\"sans-serif\" font-size=\"14\" font-style=\"italic\" lengthAdjust=\"spacing\" textLength=\"44\" x=\"187\" y=\"93.6123\">values</text></g></a><!--MD5=[1dd1bfd58a279cf63c5f349dbc8fc6a1]\n",
       "class E11--><a href=\"psysml:b12c6daa-efd4-472f-91f1-7e0209b6a2bc\" target=\"_top\" title=\"psysml:b12c6daa-efd4-472f-91f1-7e0209b6a2bc\" xlink:actuate=\"onRequest\" xlink:href=\"psysml:b12c6daa-efd4-472f-91f1-7e0209b6a2bc\" xlink:show=\"new\" xlink:title=\"psysml:b12c6daa-efd4-472f-91f1-7e0209b6a2bc\" xlink:type=\"simple\"><g id=\"elem_E11\"><rect fill=\"#F1F1F1\" height=\"75.0813\" id=\"E11\" rx=\"10\" ry=\"10\" style=\"stroke:#181818;stroke-width:0.5;\" width=\"97\" x=\"21.5\" y=\"41\"/><ellipse cx=\"36.5\" cy=\"61.1328\" fill=\"#FFA500\" rx=\"11\" ry=\"11\" style=\"stroke:#181818;stroke-width:1.0;\"/><path d=\"M36.5625,68.3047 Q34.4531,68.3047 33.3594,67.1797 Q32.2656,66.0547 32.2656,64.0078 L32.2656,55.9922 L34.7344,55.9922 L34.7344,63.5703 Q34.7344,65.0078 35.1875,65.6016 Q35.6406,66.1797 36.5938,66.1797 Q37.6094,66.1797 38.0313,65.5703 Q38.4688,64.9609 38.4688,63.5547 L38.4688,55.9922 L40.9375,55.9922 L40.9375,63.9922 Q40.9375,65.9766 39.8438,67.1484 Q38.7656,68.3047 36.5625,68.3047 Z \" fill=\"#000000\"/><text fill=\"#000000\" font-family=\"sans-serif\" font-size=\"12\" font-style=\"italic\" lengthAdjust=\"spacing\" textLength=\"69\" x=\"48.5\" y=\"57.1387\">«attribute»</text><text fill=\"#000000\" font-family=\"sans-serif\" font-size=\"14\" lengthAdjust=\"spacing\" textLength=\"8\" x=\"75\" y=\"72.9639\">c</text><line style=\"stroke:#181818;stroke-width:0.5;\" x1=\"22.5\" x2=\"117.5\" y1=\"81.2656\" y2=\"81.2656\"/><text fill=\"#000000\" font-family=\"sans-serif\" font-size=\"14\" lengthAdjust=\"spacing\" textLength=\"81\" x=\"27.5\" y=\"108.7795\">= A(\"test2\")</text><text fill=\"#000000\" font-family=\"sans-serif\" font-size=\"14\" font-style=\"italic\" lengthAdjust=\"spacing\" textLength=\"44\" x=\"48\" y=\"93.6123\">values</text></g></a><text fill=\"#000000\" font-family=\"sans-serif\" font-size=\"14\" lengthAdjust=\"spacing\" textLength=\"9\" x=\"733.5\" y=\"57.1982\">p</text><rect fill=\"#F1F1F1\" height=\"12\" style=\"stroke:#181818;stroke-width:1.5;\" width=\"12\" x=\"732\" y=\"72.5\"/><text fill=\"#000000\" font-family=\"sans-serif\" font-size=\"14\" lengthAdjust=\"spacing\" textLength=\"9\" x=\"780.5\" y=\"57.1982\">q</text><rect fill=\"#F1F1F1\" height=\"12\" style=\"stroke:#181818;stroke-width:1.5;\" width=\"12\" x=\"779\" y=\"72.5\"/><text fill=\"#000000\" font-family=\"sans-serif\" font-size=\"14\" lengthAdjust=\"spacing\" textLength=\"39\" x=\"765.5\" y=\"412.7151\">result</text><rect fill=\"#F1F1F1\" height=\"12\" style=\"stroke:#181818;stroke-width:1.5;\" width=\"12\" x=\"779\" y=\"387.72\"/><!--MD5=[05d275557350bfb9b23a4ef7222b4c39]\n",
       "link E3 to E2--><g id=\"link_E3_E2\"><a href=\"psysml:de703d0e-2ba0-4603-81fc-fcf4f6dc7e4d\" target=\"_top\" title=\"psysml:de703d0e-2ba0-4603-81fc-fcf4f6dc7e4d\" xlink:actuate=\"onRequest\" xlink:href=\"psysml:de703d0e-2ba0-4603-81fc-fcf4f6dc7e4d\" xlink:show=\"new\" xlink:title=\"psysml:de703d0e-2ba0-4603-81fc-fcf4f6dc7e4d\" xlink:type=\"simple\"><path d=\"M639.87,102.78 C637.28,117.39 633.8,137.01 630.43,156.04 \" fill=\"none\" id=\"E3-to-E2\" style=\"stroke:#181818;stroke-width:1.0;\"/><polygon fill=\"#FFFFFF\" points=\"626.93,175.8,623.3615,155.8685,637.1457,158.3174,626.93,175.8\" style=\"stroke:#181818;stroke-width:1.0;\"/><ellipse cx=\"626.3278\" cy=\"150.6062\" fill=\"#181818\" rx=\"2\" ry=\"2\" style=\"stroke:#181818;stroke-width:1.0;\"/><ellipse cx=\"636.1736\" cy=\"152.3555\" fill=\"#181818\" rx=\"2\" ry=\"2\" style=\"stroke:#181818;stroke-width:1.0;\"/></a></g><!--MD5=[edef0da188ddceffb77fdef3b8689e46]\n",
       "@startuml\r\n",
       " \r\n",
       "package \"ParameterTest\" as E1  [[psysml:23a083da-d633-42aa-b737-bc534de6ad98 ]]  {\r\n",
       "comp def \"A\" as E2  << <<(D,brown) attribute  def>> [[psysml:04ef3948-8524-44aa-a324-078bab0d23fb ]] {\r\n",
       "##//attributes//##\r\n",
       "x: String\r\n",
       "y: A\r\n",
       "}\r\n",
       "comp usage \"a: A  \" as E3  << <<(U,orange) attribute>> [[psysml:30f6a8e4-9ac7-4724-976d-d9f1147f3701 ]] {\r\n",
       "}\r\n",
       "rec def \"F\" as E4  << <<(B,lemonchiffon) calculation  def>> [[psysml:9fc68d1c-0eda-4ba7-8d2a-4dac99044350 ]] {\r\n",
       "portin \"p\" as E5  [[psysml:c0525d75-8c24-4ff5-9432-36973c13d292 ]] \r\n",
       "portin \"q\" as E6  [[psysml:ea5aeb99-c612-42a4-b65a-a51f249da328 ]] \r\n",
       "portout \"result\" as E7  [[psysml:ef9cf0a8-f443-48d9-b6fd-29ed95d8a001 ]] \r\n",
       "}\r\n",
       "\r\n",
       "comp usage \"f  \" as E8  << <<(U,orange) attribute>> [[psysml:201caa5e-7003-43c9-93c7-31c1dd2687e1 ]] {\r\n",
       "##//values//##\r\n",
       " <U+003D> F(a, 2)\r\n",
       "}\r\n",
       "comp usage \"g  \" as E9  << <<(U,orange) attribute>> [[psysml:ef9d06c8-83aa-4b51-a725-4880c3e71513 ]] {\r\n",
       "##//values//##\r\n",
       " <U+003D> F(q <U+003D> 1, p <U+003D> a)\r\n",
       "}\r\n",
       "comp usage \"b  \" as E10  << <<(U,orange) attribute>> [[psysml:472a68ff-87fb-48cb-b812-c0679e72bd97 ]] {\r\n",
       "##//values//##\r\n",
       " <U+003D> A(y<U+003D>a, x<U+003D>\"\")\r\n",
       "}\r\n",
       "comp usage \"c  \" as E11  << <<(U,orange) attribute>> [[psysml:b12c6daa-efd4-472f-91f1-7e0209b6a2bc ]] {\r\n",
       "##//values//##\r\n",
       " <U+003D> A(\"test2\")\r\n",
       "}\r\n",
       "}\r\n",
       "E3 - -:|> E2 [[psysml:de703d0e-2ba0-4603-81fc-fcf4f6dc7e4d ]] \r\n",
       "@enduml\r\n",
       "\n",
       "PlantUML version 1.2022.7(Mon Aug 22 17:01:30 UTC 2022)\n",
       "(EPL source distribution)\n",
       "Java Runtime: OpenJDK Runtime Environment\n",
       "JVM: OpenJDK 64-Bit Server VM\n",
       "Default Encoding: UTF-8\n",
       "Language: en\n",
       "Country: null\n",
       "--></g></svg>"
      ]
     },
     "execution_count": 36,
     "metadata": {},
     "output_type": "execute_result"
    }
   ],
   "source": [
    "%viz --style=\"PLANTUML\" --view=\"MIXED\" \"ParameterTest\""
   ]
  },
  {
   "cell_type": "code",
   "execution_count": 37,
   "id": "57aef433",
   "metadata": {
    "execution": {
     "iopub.execute_input": "2024-12-16T03:23:36.137615Z",
     "iopub.status.busy": "2024-12-16T03:23:36.137393Z",
     "iopub.status.idle": "2024-12-16T03:23:36.162344Z",
     "shell.execute_reply": "2024-12-16T03:23:36.161566Z"
    }
   },
   "outputs": [
    {
     "data": {
      "image/svg+xml": [
       "<?xml version=\"1.0\" encoding=\"UTF-8\" standalone=\"no\"?><svg xmlns=\"http://www.w3.org/2000/svg\" xmlns:xlink=\"http://www.w3.org/1999/xlink\" contentStyleType=\"text/css\" height=\"430px\" preserveAspectRatio=\"none\" style=\"width:858px;height:430px;background:#FFFFFF;\" version=\"1.1\" viewBox=\"0 0 858 430\" width=\"858px\" zoomAndPan=\"magnify\"><defs/><g><!--MD5=[fbc87193dbaf4d95561dea2c320d4a47]\n",
       "cluster E1--><g id=\"cluster_E1\"><a href=\"psysml:23a083da-d633-42aa-b737-bc534de6ad98\" target=\"_top\" title=\"psysml:23a083da-d633-42aa-b737-bc534de6ad98\" xlink:actuate=\"onRequest\" xlink:href=\"psysml:23a083da-d633-42aa-b737-bc534de6ad98\" xlink:show=\"new\" xlink:title=\"psysml:23a083da-d633-42aa-b737-bc534de6ad98\" xlink:type=\"simple\"><polygon fill=\"none\" points=\"16,6,129.6875,6,136.6875,28.2969,841,28.2969,841,423.72,16,423.72,16,6\" style=\"stroke:#000000;stroke-width:1.5;\"/><line style=\"stroke:#000000;stroke-width:1.5;\" x1=\"16\" x2=\"136.6875\" y1=\"28.2969\" y2=\"28.2969\"/><text fill=\"#000000\" font-family=\"sans-serif\" font-size=\"14\" font-weight=\"bold\" lengthAdjust=\"spacing\" textLength=\"107.6875\" x=\"20\" y=\"20.9951\">ParameterTest</text></a></g><!--MD5=[f6df4d0ebaf0b5dfb2ced0ae5af7c670]\n",
       "cluster E4--><g id=\"cluster_E4\"><a href=\"psysml:9fc68d1c-0eda-4ba7-8d2a-4dac99044350\" target=\"_top\" title=\"psysml:9fc68d1c-0eda-4ba7-8d2a-4dac99044350\" xlink:actuate=\"onRequest\" xlink:href=\"psysml:9fc68d1c-0eda-4ba7-8d2a-4dac99044350\" xlink:show=\"new\" xlink:title=\"psysml:9fc68d1c-0eda-4ba7-8d2a-4dac99044350\" xlink:type=\"simple\"><rect fill=\"#FFFFFF\" height=\"315.22\" id=\"E4\" style=\"stroke:#383838;stroke-width:1.5;\" width=\"150\" x=\"675\" y=\"78.5\"/><text fill=\"#000000\" font-family=\"sans-serif\" font-size=\"12\" font-style=\"italic\" lengthAdjust=\"spacing\" textLength=\"110\" x=\"695\" y=\"94.6387\">«calculation  def»</text><text fill=\"#000000\" font-family=\"sans-serif\" font-size=\"14\" lengthAdjust=\"spacing\" textLength=\"8\" x=\"746\" y=\"110.4639\">F</text><line style=\"stroke:#383838;stroke-width:1.0;\" x1=\"675\" x2=\"825\" y1=\"118.7656\" y2=\"118.7656\"/></a></g><!--MD5=[b4997ac47864f28c2f74865a473b2911]\n",
       "class E2--><a href=\"psysml:04ef3948-8524-44aa-a324-078bab0d23fb\" target=\"_top\" title=\"psysml:04ef3948-8524-44aa-a324-078bab0d23fb\" xlink:actuate=\"onRequest\" xlink:href=\"psysml:04ef3948-8524-44aa-a324-078bab0d23fb\" xlink:show=\"new\" xlink:title=\"psysml:04ef3948-8524-44aa-a324-078bab0d23fb\" xlink:type=\"simple\"><g id=\"elem_E2\"><rect fill=\"#FFFFFF\" height=\"91.3781\" id=\"E2\" style=\"stroke:#181818;stroke-width:0.5;\" width=\"99\" x=\"537.5\" y=\"176\"/><text fill=\"#000000\" font-family=\"sans-serif\" font-size=\"12\" font-style=\"italic\" lengthAdjust=\"spacing\" textLength=\"97\" x=\"538.5\" y=\"192.1387\">«attribute  def»</text><text fill=\"#000000\" font-family=\"sans-serif\" font-size=\"14\" lengthAdjust=\"spacing\" textLength=\"9\" x=\"582.5\" y=\"207.9639\">A</text><line style=\"stroke:#181818;stroke-width:0.5;\" x1=\"538.5\" x2=\"635.5\" y1=\"216.2656\" y2=\"216.2656\"/><text fill=\"#000000\" font-family=\"sans-serif\" font-size=\"14\" lengthAdjust=\"spacing\" textLength=\"56\" x=\"543.5\" y=\"243.7795\">x: String</text><text fill=\"#000000\" font-family=\"sans-serif\" font-size=\"14\" lengthAdjust=\"spacing\" textLength=\"25\" x=\"543.5\" y=\"260.0764\">y: A</text><text fill=\"#000000\" font-family=\"sans-serif\" font-size=\"14\" font-style=\"italic\" lengthAdjust=\"spacing\" textLength=\"66\" x=\"554\" y=\"228.6123\">attributes</text></g></a><!--MD5=[09b614a08d8cba4a07c9adeb5e0fee81]\n",
       "class E3--><a href=\"psysml:30f6a8e4-9ac7-4724-976d-d9f1147f3701\" target=\"_top\" title=\"psysml:30f6a8e4-9ac7-4724-976d-d9f1147f3701\" xlink:actuate=\"onRequest\" xlink:href=\"psysml:30f6a8e4-9ac7-4724-976d-d9f1147f3701\" xlink:show=\"new\" xlink:title=\"psysml:30f6a8e4-9ac7-4724-976d-d9f1147f3701\" xlink:type=\"simple\"><g id=\"elem_E3\"><rect fill=\"#FFFFFF\" height=\"48.2656\" id=\"E3\" rx=\"10\" ry=\"10\" style=\"stroke:#181818;stroke-width:0.5;\" width=\"71\" x=\"575.5\" y=\"54.5\"/><text fill=\"#000000\" font-family=\"sans-serif\" font-size=\"12\" font-style=\"italic\" lengthAdjust=\"spacing\" textLength=\"69\" x=\"576.5\" y=\"70.6387\">«attribute»</text><text fill=\"#000000\" font-family=\"sans-serif\" font-size=\"14\" lengthAdjust=\"spacing\" textLength=\"26\" x=\"594\" y=\"86.4639\">a: A</text><line style=\"stroke:#181818;stroke-width:0.5;\" x1=\"576.5\" x2=\"645.5\" y1=\"94.7656\" y2=\"94.7656\"/></g></a><!--MD5=[b9389687b975829384b498ac4b7476b2]\n",
       "class E8--><a href=\"psysml:201caa5e-7003-43c9-93c7-31c1dd2687e1\" target=\"_top\" title=\"psysml:201caa5e-7003-43c9-93c7-31c1dd2687e1\" xlink:actuate=\"onRequest\" xlink:href=\"psysml:201caa5e-7003-43c9-93c7-31c1dd2687e1\" xlink:show=\"new\" xlink:title=\"psysml:201caa5e-7003-43c9-93c7-31c1dd2687e1\" xlink:type=\"simple\"><g id=\"elem_E8\"><rect fill=\"#FFFFFF\" height=\"75.0813\" id=\"E8\" rx=\"10\" ry=\"10\" style=\"stroke:#181818;stroke-width:0.5;\" width=\"71\" x=\"469.5\" y=\"41\"/><text fill=\"#000000\" font-family=\"sans-serif\" font-size=\"12\" font-style=\"italic\" lengthAdjust=\"spacing\" textLength=\"69\" x=\"470.5\" y=\"57.1387\">«attribute»</text><text fill=\"#000000\" font-family=\"sans-serif\" font-size=\"14\" lengthAdjust=\"spacing\" textLength=\"4\" x=\"499\" y=\"72.9639\">f</text><line style=\"stroke:#181818;stroke-width:0.5;\" x1=\"470.5\" x2=\"539.5\" y1=\"81.2656\" y2=\"81.2656\"/><text fill=\"#000000\" font-family=\"sans-serif\" font-size=\"14\" lengthAdjust=\"spacing\" textLength=\"59\" x=\"475.5\" y=\"108.7795\">= F(a, 2)</text><text fill=\"#000000\" font-family=\"sans-serif\" font-size=\"14\" font-style=\"italic\" lengthAdjust=\"spacing\" textLength=\"44\" x=\"483\" y=\"93.6123\">values</text></g></a><!--MD5=[fd4143e9d270a159db93a4ea2a975926]\n",
       "class E9--><a href=\"psysml:ef9d06c8-83aa-4b51-a725-4880c3e71513\" target=\"_top\" title=\"psysml:ef9d06c8-83aa-4b51-a725-4880c3e71513\" xlink:actuate=\"onRequest\" xlink:href=\"psysml:ef9d06c8-83aa-4b51-a725-4880c3e71513\" xlink:show=\"new\" xlink:title=\"psysml:ef9d06c8-83aa-4b51-a725-4880c3e71513\" xlink:type=\"simple\"><g id=\"elem_E9\"><rect fill=\"#FFFFFF\" height=\"75.0813\" id=\"E9\" rx=\"10\" ry=\"10\" style=\"stroke:#181818;stroke-width:0.5;\" width=\"129\" x=\"305.5\" y=\"41\"/><text fill=\"#000000\" font-family=\"sans-serif\" font-size=\"12\" font-style=\"italic\" lengthAdjust=\"spacing\" textLength=\"69\" x=\"335.5\" y=\"57.1387\">«attribute»</text><text fill=\"#000000\" font-family=\"sans-serif\" font-size=\"14\" lengthAdjust=\"spacing\" textLength=\"9\" x=\"361.5\" y=\"72.9639\">g</text><line style=\"stroke:#181818;stroke-width:0.5;\" x1=\"306.5\" x2=\"433.5\" y1=\"81.2656\" y2=\"81.2656\"/><text fill=\"#000000\" font-family=\"sans-serif\" font-size=\"14\" lengthAdjust=\"spacing\" textLength=\"117\" x=\"311.5\" y=\"108.7795\">= F(q = 1, p = a)</text><text fill=\"#000000\" font-family=\"sans-serif\" font-size=\"14\" font-style=\"italic\" lengthAdjust=\"spacing\" textLength=\"44\" x=\"348\" y=\"93.6123\">values</text></g></a><!--MD5=[96f4274e9e20536e775497830990834d]\n",
       "class E10--><a href=\"psysml:472a68ff-87fb-48cb-b812-c0679e72bd97\" target=\"_top\" title=\"psysml:472a68ff-87fb-48cb-b812-c0679e72bd97\" xlink:actuate=\"onRequest\" xlink:href=\"psysml:472a68ff-87fb-48cb-b812-c0679e72bd97\" xlink:show=\"new\" xlink:title=\"psysml:472a68ff-87fb-48cb-b812-c0679e72bd97\" xlink:type=\"simple\"><g id=\"elem_E10\"><rect fill=\"#FFFFFF\" height=\"75.0813\" id=\"E10\" rx=\"10\" ry=\"10\" style=\"stroke:#181818;stroke-width:0.5;\" width=\"111\" x=\"159.5\" y=\"41\"/><text fill=\"#000000\" font-family=\"sans-serif\" font-size=\"12\" font-style=\"italic\" lengthAdjust=\"spacing\" textLength=\"69\" x=\"180.5\" y=\"57.1387\">«attribute»</text><text fill=\"#000000\" font-family=\"sans-serif\" font-size=\"14\" lengthAdjust=\"spacing\" textLength=\"9\" x=\"206.5\" y=\"72.9639\">b</text><line style=\"stroke:#181818;stroke-width:0.5;\" x1=\"160.5\" x2=\"269.5\" y1=\"81.2656\" y2=\"81.2656\"/><text fill=\"#000000\" font-family=\"sans-serif\" font-size=\"14\" lengthAdjust=\"spacing\" textLength=\"99\" x=\"165.5\" y=\"108.7795\">= A(y=a, x=\"\")</text><text fill=\"#000000\" font-family=\"sans-serif\" font-size=\"14\" font-style=\"italic\" lengthAdjust=\"spacing\" textLength=\"44\" x=\"193\" y=\"93.6123\">values</text></g></a><!--MD5=[1dd1bfd58a279cf63c5f349dbc8fc6a1]\n",
       "class E11--><a href=\"psysml:b12c6daa-efd4-472f-91f1-7e0209b6a2bc\" target=\"_top\" title=\"psysml:b12c6daa-efd4-472f-91f1-7e0209b6a2bc\" xlink:actuate=\"onRequest\" xlink:href=\"psysml:b12c6daa-efd4-472f-91f1-7e0209b6a2bc\" xlink:show=\"new\" xlink:title=\"psysml:b12c6daa-efd4-472f-91f1-7e0209b6a2bc\" xlink:type=\"simple\"><g id=\"elem_E11\"><rect fill=\"#FFFFFF\" height=\"75.0813\" id=\"E11\" rx=\"10\" ry=\"10\" style=\"stroke:#181818;stroke-width:0.5;\" width=\"93\" x=\"31.5\" y=\"41\"/><text fill=\"#000000\" font-family=\"sans-serif\" font-size=\"12\" font-style=\"italic\" lengthAdjust=\"spacing\" textLength=\"69\" x=\"43.5\" y=\"57.1387\">«attribute»</text><text fill=\"#000000\" font-family=\"sans-serif\" font-size=\"14\" lengthAdjust=\"spacing\" textLength=\"8\" x=\"70\" y=\"72.9639\">c</text><line style=\"stroke:#181818;stroke-width:0.5;\" x1=\"32.5\" x2=\"123.5\" y1=\"81.2656\" y2=\"81.2656\"/><text fill=\"#000000\" font-family=\"sans-serif\" font-size=\"14\" lengthAdjust=\"spacing\" textLength=\"81\" x=\"37.5\" y=\"108.7795\">= A(\"test2\")</text><text fill=\"#000000\" font-family=\"sans-serif\" font-size=\"14\" font-style=\"italic\" lengthAdjust=\"spacing\" textLength=\"44\" x=\"56\" y=\"93.6123\">values</text></g></a><text fill=\"#000000\" font-family=\"sans-serif\" font-size=\"14\" lengthAdjust=\"spacing\" textLength=\"9\" x=\"688.5\" y=\"57.1982\">p</text><rect fill=\"#FFFFFF\" height=\"12\" style=\"stroke:#181818;stroke-width:1.5;\" width=\"12\" x=\"687\" y=\"72.5\"/><text fill=\"#000000\" font-family=\"sans-serif\" font-size=\"14\" lengthAdjust=\"spacing\" textLength=\"9\" x=\"735.5\" y=\"57.1982\">q</text><rect fill=\"#FFFFFF\" height=\"12\" style=\"stroke:#181818;stroke-width:1.5;\" width=\"12\" x=\"734\" y=\"72.5\"/><text fill=\"#000000\" font-family=\"sans-serif\" font-size=\"14\" lengthAdjust=\"spacing\" textLength=\"39\" x=\"720.5\" y=\"412.7151\">result</text><rect fill=\"#FFFFFF\" height=\"12\" style=\"stroke:#181818;stroke-width:1.5;\" width=\"12\" x=\"734\" y=\"387.72\"/><!--MD5=[05d275557350bfb9b23a4ef7222b4c39]\n",
       "link E3 to E2--><g id=\"link_E3_E2\"><a href=\"psysml:de703d0e-2ba0-4603-81fc-fcf4f6dc7e4d\" target=\"_top\" title=\"psysml:de703d0e-2ba0-4603-81fc-fcf4f6dc7e4d\" xlink:actuate=\"onRequest\" xlink:href=\"psysml:de703d0e-2ba0-4603-81fc-fcf4f6dc7e4d\" xlink:show=\"new\" xlink:title=\"psysml:de703d0e-2ba0-4603-81fc-fcf4f6dc7e4d\" xlink:type=\"simple\"><path d=\"M607.04,102.78 C604.55,117.39 601.21,137.01 597.97,156.04 \" fill=\"none\" id=\"E3-to-E2\" style=\"stroke:#181818;stroke-width:1.0;\"/><polygon fill=\"#FFFFFF\" points=\"594.61,175.8,590.8965,155.895,604.6981,158.2435,594.61,175.8\" style=\"stroke:#181818;stroke-width:1.0;\"/><ellipse cx=\"593.8244\" cy=\"150.6113\" fill=\"#181818\" rx=\"2\" ry=\"2\" style=\"stroke:#181818;stroke-width:1.0;\"/><ellipse cx=\"603.6827\" cy=\"152.2888\" fill=\"#181818\" rx=\"2\" ry=\"2\" style=\"stroke:#181818;stroke-width:1.0;\"/></a></g><!--MD5=[eeedfd1a74495869559f3ec92f463bdc]\n",
       "@startuml\r\n",
       "skin sysmlbw\r\n",
       "skinparam monochrome true\r\n",
       "skinparam wrapWidth 300\r\n",
       "hide circle\r\n",
       "\r\n",
       "package \"ParameterTest\" as E1  [[psysml:23a083da-d633-42aa-b737-bc534de6ad98 ]]  {\r\n",
       "comp def \"A\" as E2  <<(T,blue) attribute  def>> [[psysml:04ef3948-8524-44aa-a324-078bab0d23fb ]] {\r\n",
       "##//attributes//##\r\n",
       "x: String\r\n",
       "y: A\r\n",
       "}\r\n",
       "comp usage \"a: A  \" as E3  <<(T,blue) attribute>> [[psysml:30f6a8e4-9ac7-4724-976d-d9f1147f3701 ]] {\r\n",
       "}\r\n",
       "rec def \"F\" as E4  <<(T,blue) calculation  def>> [[psysml:9fc68d1c-0eda-4ba7-8d2a-4dac99044350 ]] {\r\n",
       "portin \"p\" as E5  [[psysml:c0525d75-8c24-4ff5-9432-36973c13d292 ]] \r\n",
       "portin \"q\" as E6  [[psysml:ea5aeb99-c612-42a4-b65a-a51f249da328 ]] \r\n",
       "portout \"result\" as E7  [[psysml:ef9cf0a8-f443-48d9-b6fd-29ed95d8a001 ]] \r\n",
       "}\r\n",
       "\r\n",
       "comp usage \"f  \" as E8  <<(T,blue) attribute>> [[psysml:201caa5e-7003-43c9-93c7-31c1dd2687e1 ]] {\r\n",
       "##//values//##\r\n",
       " <U+003D> F(a, 2)\r\n",
       "}\r\n",
       "comp usage \"g  \" as E9  <<(T,blue) attribute>> [[psysml:ef9d06c8-83aa-4b51-a725-4880c3e71513 ]] {\r\n",
       "##//values//##\r\n",
       " <U+003D> F(q <U+003D> 1, p <U+003D> a)\r\n",
       "}\r\n",
       "comp usage \"b  \" as E10  <<(T,blue) attribute>> [[psysml:472a68ff-87fb-48cb-b812-c0679e72bd97 ]] {\r\n",
       "##//values//##\r\n",
       " <U+003D> A(y<U+003D>a, x<U+003D>\"\")\r\n",
       "}\r\n",
       "comp usage \"c  \" as E11  <<(T,blue) attribute>> [[psysml:b12c6daa-efd4-472f-91f1-7e0209b6a2bc ]] {\r\n",
       "##//values//##\r\n",
       " <U+003D> A(\"test2\")\r\n",
       "}\r\n",
       "}\r\n",
       "E3 - -:|> E2 [[psysml:de703d0e-2ba0-4603-81fc-fcf4f6dc7e4d ]] \r\n",
       "@enduml\r\n",
       "\n",
       "PlantUML version 1.2022.7(Mon Aug 22 17:01:30 UTC 2022)\n",
       "(EPL source distribution)\n",
       "Java Runtime: OpenJDK Runtime Environment\n",
       "JVM: OpenJDK 64-Bit Server VM\n",
       "Default Encoding: UTF-8\n",
       "Language: en\n",
       "Country: null\n",
       "--></g></svg>"
      ]
     },
     "execution_count": 37,
     "metadata": {},
     "output_type": "execute_result"
    }
   ],
   "source": [
    "%viz --style=\"DEFAULT\" --view=\"Default\" \"ParameterTest\""
   ]
  },
  {
   "cell_type": "code",
   "execution_count": 38,
   "id": "6e0e688c",
   "metadata": {
    "execution": {
     "iopub.execute_input": "2024-12-16T03:23:36.219109Z",
     "iopub.status.busy": "2024-12-16T03:23:36.218860Z",
     "iopub.status.idle": "2024-12-16T03:23:36.246127Z",
     "shell.execute_reply": "2024-12-16T03:23:36.245226Z"
    }
   },
   "outputs": [
    {
     "data": {
      "image/svg+xml": [
       "<?xml version=\"1.0\" encoding=\"UTF-8\" standalone=\"no\"?><svg xmlns=\"http://www.w3.org/2000/svg\" xmlns:xlink=\"http://www.w3.org/1999/xlink\" contentStyleType=\"text/css\" height=\"307px\" preserveAspectRatio=\"none\" style=\"width:828px;height:307px;background:#FFFFFF;\" version=\"1.1\" viewBox=\"0 0 828 307\" width=\"828px\" zoomAndPan=\"magnify\"><defs/><g><!--MD5=[fbc87193dbaf4d95561dea2c320d4a47]\n",
       "cluster E1--><g id=\"cluster_E1\"><a href=\"psysml:23a083da-d633-42aa-b737-bc534de6ad98\" target=\"_top\" title=\"psysml:23a083da-d633-42aa-b737-bc534de6ad98\" xlink:actuate=\"onRequest\" xlink:href=\"psysml:23a083da-d633-42aa-b737-bc534de6ad98\" xlink:show=\"new\" xlink:title=\"psysml:23a083da-d633-42aa-b737-bc534de6ad98\" xlink:type=\"simple\"><polygon fill=\"none\" points=\"16,6,129.6875,6,136.6875,28.2969,811,28.2969,811,300,16,300,16,6\" style=\"stroke:#000000;stroke-width:1.5;\"/><line style=\"stroke:#000000;stroke-width:1.5;\" x1=\"16\" x2=\"136.6875\" y1=\"28.2969\" y2=\"28.2969\"/><text fill=\"#000000\" font-family=\"sans-serif\" font-size=\"14\" font-weight=\"bold\" lengthAdjust=\"spacing\" textLength=\"107.6875\" x=\"20\" y=\"20.9951\">ParameterTest</text></a></g><!--MD5=[b4997ac47864f28c2f74865a473b2911]\n",
       "class E2--><a href=\"psysml:04ef3948-8524-44aa-a324-078bab0d23fb\" target=\"_top\" title=\"psysml:04ef3948-8524-44aa-a324-078bab0d23fb\" xlink:actuate=\"onRequest\" xlink:href=\"psysml:04ef3948-8524-44aa-a324-078bab0d23fb\" xlink:show=\"new\" xlink:title=\"psysml:04ef3948-8524-44aa-a324-078bab0d23fb\" xlink:type=\"simple\"><g id=\"elem_E2\"><rect fill=\"#FFFFFF\" height=\"91.3781\" id=\"E2\" style=\"stroke:#181818;stroke-width:0.5;\" width=\"99\" x=\"618.5\" y=\"193\"/><text fill=\"#000000\" font-family=\"sans-serif\" font-size=\"12\" font-style=\"italic\" lengthAdjust=\"spacing\" textLength=\"97\" x=\"619.5\" y=\"209.1387\">«attribute  def»</text><text fill=\"#000000\" font-family=\"sans-serif\" font-size=\"14\" lengthAdjust=\"spacing\" textLength=\"9\" x=\"663.5\" y=\"224.9639\">A</text><line style=\"stroke:#181818;stroke-width:0.5;\" x1=\"619.5\" x2=\"716.5\" y1=\"233.2656\" y2=\"233.2656\"/><text fill=\"#000000\" font-family=\"sans-serif\" font-size=\"14\" lengthAdjust=\"spacing\" textLength=\"56\" x=\"624.5\" y=\"260.7795\">x: String</text><text fill=\"#000000\" font-family=\"sans-serif\" font-size=\"14\" lengthAdjust=\"spacing\" textLength=\"25\" x=\"624.5\" y=\"277.0764\">y: A</text><text fill=\"#000000\" font-family=\"sans-serif\" font-size=\"14\" font-style=\"italic\" lengthAdjust=\"spacing\" textLength=\"66\" x=\"635\" y=\"245.6123\">attributes</text></g></a><!--MD5=[09b614a08d8cba4a07c9adeb5e0fee81]\n",
       "class E3--><a href=\"psysml:30f6a8e4-9ac7-4724-976d-d9f1147f3701\" target=\"_top\" title=\"psysml:30f6a8e4-9ac7-4724-976d-d9f1147f3701\" xlink:actuate=\"onRequest\" xlink:href=\"psysml:30f6a8e4-9ac7-4724-976d-d9f1147f3701\" xlink:show=\"new\" xlink:title=\"psysml:30f6a8e4-9ac7-4724-976d-d9f1147f3701\" xlink:type=\"simple\"><g id=\"elem_E3\"><rect fill=\"#FFFFFF\" height=\"48.2656\" id=\"E3\" rx=\"10\" ry=\"10\" style=\"stroke:#181818;stroke-width:0.5;\" width=\"71\" x=\"723.5\" y=\"54.5\"/><text fill=\"#000000\" font-family=\"sans-serif\" font-size=\"12\" font-style=\"italic\" lengthAdjust=\"spacing\" textLength=\"69\" x=\"724.5\" y=\"70.6387\">«attribute»</text><text fill=\"#000000\" font-family=\"sans-serif\" font-size=\"14\" lengthAdjust=\"spacing\" textLength=\"26\" x=\"742\" y=\"86.4639\">a: A</text><line style=\"stroke:#181818;stroke-width:0.5;\" x1=\"724.5\" x2=\"793.5\" y1=\"94.7656\" y2=\"94.7656\"/></g></a><!--MD5=[ebbe1d658d1005bcc118a6aa81145e00]\n",
       "class E4--><a href=\"psysml:9fc68d1c-0eda-4ba7-8d2a-4dac99044350\" target=\"_top\" title=\"psysml:9fc68d1c-0eda-4ba7-8d2a-4dac99044350\" xlink:actuate=\"onRequest\" xlink:href=\"psysml:9fc68d1c-0eda-4ba7-8d2a-4dac99044350\" xlink:show=\"new\" xlink:title=\"psysml:9fc68d1c-0eda-4ba7-8d2a-4dac99044350\" xlink:type=\"simple\"><g id=\"elem_E4\"><rect fill=\"#FFFFFF\" height=\"48.2656\" id=\"E4\" style=\"stroke:#181818;stroke-width:0.5;\" width=\"112\" x=\"576\" y=\"54.5\"/><text fill=\"#000000\" font-family=\"sans-serif\" font-size=\"12\" font-style=\"italic\" lengthAdjust=\"spacing\" textLength=\"110\" x=\"577\" y=\"70.6387\">«calculation  def»</text><text fill=\"#000000\" font-family=\"sans-serif\" font-size=\"14\" lengthAdjust=\"spacing\" textLength=\"8\" x=\"628\" y=\"86.4639\">F</text><line style=\"stroke:#181818;stroke-width:0.5;\" x1=\"577\" x2=\"687\" y1=\"94.7656\" y2=\"94.7656\"/></g></a><!--MD5=[270fce915f116d4de14055a7c1d9a0f3]\n",
       "class E5--><a href=\"psysml:201caa5e-7003-43c9-93c7-31c1dd2687e1\" target=\"_top\" title=\"psysml:201caa5e-7003-43c9-93c7-31c1dd2687e1\" xlink:actuate=\"onRequest\" xlink:href=\"psysml:201caa5e-7003-43c9-93c7-31c1dd2687e1\" xlink:show=\"new\" xlink:title=\"psysml:201caa5e-7003-43c9-93c7-31c1dd2687e1\" xlink:type=\"simple\"><g id=\"elem_E5\"><rect fill=\"#FFFFFF\" height=\"75.0813\" id=\"E5\" rx=\"10\" ry=\"10\" style=\"stroke:#181818;stroke-width:0.5;\" width=\"71\" x=\"469.5\" y=\"41\"/><text fill=\"#000000\" font-family=\"sans-serif\" font-size=\"12\" font-style=\"italic\" lengthAdjust=\"spacing\" textLength=\"69\" x=\"470.5\" y=\"57.1387\">«attribute»</text><text fill=\"#000000\" font-family=\"sans-serif\" font-size=\"14\" lengthAdjust=\"spacing\" textLength=\"4\" x=\"499\" y=\"72.9639\">f</text><line style=\"stroke:#181818;stroke-width:0.5;\" x1=\"470.5\" x2=\"539.5\" y1=\"81.2656\" y2=\"81.2656\"/><text fill=\"#000000\" font-family=\"sans-serif\" font-size=\"14\" lengthAdjust=\"spacing\" textLength=\"59\" x=\"475.5\" y=\"108.7795\">= F(a, 2)</text><text fill=\"#000000\" font-family=\"sans-serif\" font-size=\"14\" font-style=\"italic\" lengthAdjust=\"spacing\" textLength=\"44\" x=\"483\" y=\"93.6123\">values</text></g></a><!--MD5=[60a26617385b1d2d0262a64233df1f8d]\n",
       "class E6--><a href=\"psysml:ef9d06c8-83aa-4b51-a725-4880c3e71513\" target=\"_top\" title=\"psysml:ef9d06c8-83aa-4b51-a725-4880c3e71513\" xlink:actuate=\"onRequest\" xlink:href=\"psysml:ef9d06c8-83aa-4b51-a725-4880c3e71513\" xlink:show=\"new\" xlink:title=\"psysml:ef9d06c8-83aa-4b51-a725-4880c3e71513\" xlink:type=\"simple\"><g id=\"elem_E6\"><rect fill=\"#FFFFFF\" height=\"75.0813\" id=\"E6\" rx=\"10\" ry=\"10\" style=\"stroke:#181818;stroke-width:0.5;\" width=\"129\" x=\"305.5\" y=\"41\"/><text fill=\"#000000\" font-family=\"sans-serif\" font-size=\"12\" font-style=\"italic\" lengthAdjust=\"spacing\" textLength=\"69\" x=\"335.5\" y=\"57.1387\">«attribute»</text><text fill=\"#000000\" font-family=\"sans-serif\" font-size=\"14\" lengthAdjust=\"spacing\" textLength=\"9\" x=\"361.5\" y=\"72.9639\">g</text><line style=\"stroke:#181818;stroke-width:0.5;\" x1=\"306.5\" x2=\"433.5\" y1=\"81.2656\" y2=\"81.2656\"/><text fill=\"#000000\" font-family=\"sans-serif\" font-size=\"14\" lengthAdjust=\"spacing\" textLength=\"117\" x=\"311.5\" y=\"108.7795\">= F(q = 1, p = a)</text><text fill=\"#000000\" font-family=\"sans-serif\" font-size=\"14\" font-style=\"italic\" lengthAdjust=\"spacing\" textLength=\"44\" x=\"348\" y=\"93.6123\">values</text></g></a><!--MD5=[2156ba9850f5573cc1fc38a6a4b2f02b]\n",
       "class E7--><a href=\"psysml:472a68ff-87fb-48cb-b812-c0679e72bd97\" target=\"_top\" title=\"psysml:472a68ff-87fb-48cb-b812-c0679e72bd97\" xlink:actuate=\"onRequest\" xlink:href=\"psysml:472a68ff-87fb-48cb-b812-c0679e72bd97\" xlink:show=\"new\" xlink:title=\"psysml:472a68ff-87fb-48cb-b812-c0679e72bd97\" xlink:type=\"simple\"><g id=\"elem_E7\"><rect fill=\"#FFFFFF\" height=\"75.0813\" id=\"E7\" rx=\"10\" ry=\"10\" style=\"stroke:#181818;stroke-width:0.5;\" width=\"111\" x=\"159.5\" y=\"41\"/><text fill=\"#000000\" font-family=\"sans-serif\" font-size=\"12\" font-style=\"italic\" lengthAdjust=\"spacing\" textLength=\"69\" x=\"180.5\" y=\"57.1387\">«attribute»</text><text fill=\"#000000\" font-family=\"sans-serif\" font-size=\"14\" lengthAdjust=\"spacing\" textLength=\"9\" x=\"206.5\" y=\"72.9639\">b</text><line style=\"stroke:#181818;stroke-width:0.5;\" x1=\"160.5\" x2=\"269.5\" y1=\"81.2656\" y2=\"81.2656\"/><text fill=\"#000000\" font-family=\"sans-serif\" font-size=\"14\" lengthAdjust=\"spacing\" textLength=\"99\" x=\"165.5\" y=\"108.7795\">= A(y=a, x=\"\")</text><text fill=\"#000000\" font-family=\"sans-serif\" font-size=\"14\" font-style=\"italic\" lengthAdjust=\"spacing\" textLength=\"44\" x=\"193\" y=\"93.6123\">values</text></g></a><!--MD5=[b9389687b975829384b498ac4b7476b2]\n",
       "class E8--><a href=\"psysml:b12c6daa-efd4-472f-91f1-7e0209b6a2bc\" target=\"_top\" title=\"psysml:b12c6daa-efd4-472f-91f1-7e0209b6a2bc\" xlink:actuate=\"onRequest\" xlink:href=\"psysml:b12c6daa-efd4-472f-91f1-7e0209b6a2bc\" xlink:show=\"new\" xlink:title=\"psysml:b12c6daa-efd4-472f-91f1-7e0209b6a2bc\" xlink:type=\"simple\"><g id=\"elem_E8\"><rect fill=\"#FFFFFF\" height=\"75.0813\" id=\"E8\" rx=\"10\" ry=\"10\" style=\"stroke:#181818;stroke-width:0.5;\" width=\"93\" x=\"31.5\" y=\"41\"/><text fill=\"#000000\" font-family=\"sans-serif\" font-size=\"12\" font-style=\"italic\" lengthAdjust=\"spacing\" textLength=\"69\" x=\"43.5\" y=\"57.1387\">«attribute»</text><text fill=\"#000000\" font-family=\"sans-serif\" font-size=\"14\" lengthAdjust=\"spacing\" textLength=\"8\" x=\"70\" y=\"72.9639\">c</text><line style=\"stroke:#181818;stroke-width:0.5;\" x1=\"32.5\" x2=\"123.5\" y1=\"81.2656\" y2=\"81.2656\"/><text fill=\"#000000\" font-family=\"sans-serif\" font-size=\"14\" lengthAdjust=\"spacing\" textLength=\"81\" x=\"37.5\" y=\"108.7795\">= A(\"test2\")</text><text fill=\"#000000\" font-family=\"sans-serif\" font-size=\"14\" font-style=\"italic\" lengthAdjust=\"spacing\" textLength=\"44\" x=\"56\" y=\"93.6123\">values</text></g></a><!--MD5=[05d275557350bfb9b23a4ef7222b4c39]\n",
       "link E3 to E2--><g id=\"link_E3_E2\"><a href=\"psysml:de703d0e-2ba0-4603-81fc-fcf4f6dc7e4d\" target=\"_top\" title=\"psysml:de703d0e-2ba0-4603-81fc-fcf4f6dc7e4d\" xlink:actuate=\"onRequest\" xlink:href=\"psysml:de703d0e-2ba0-4603-81fc-fcf4f6dc7e4d\" xlink:show=\"new\" xlink:title=\"psysml:de703d0e-2ba0-4603-81fc-fcf4f6dc7e4d\" xlink:type=\"simple\"><path d=\"M745.57,102.81 C734.58,121.9 718.5,149.81 703.83,175.29 \" fill=\"none\" id=\"E3-to-E2\" style=\"stroke:#181818;stroke-width:1.0;\"/><polygon fill=\"#FFFFFF\" points=\"693.74,192.81,697.1615,172.8527,709.2915,179.8428,693.74,192.81\" style=\"stroke:#181818;stroke-width:1.0;\"/><ellipse cx=\"701.7403\" cy=\"168.9126\" fill=\"#181818\" rx=\"2\" ry=\"2\" style=\"stroke:#181818;stroke-width:1.0;\"/><ellipse cx=\"710.4046\" cy=\"173.9055\" fill=\"#181818\" rx=\"2\" ry=\"2\" style=\"stroke:#181818;stroke-width:1.0;\"/></a></g><!--MD5=[ddeed8deb2209213b62e6cfabaa108b2]\n",
       "reverse link E4 to E2--><g id=\"link_E4_E2\"><a href=\"psysml:c0525d75-8c24-4ff5-9432-36973c13d292\" target=\"_top\" title=\"psysml:c0525d75-8c24-4ff5-9432-36973c13d292\" xlink:actuate=\"onRequest\" xlink:href=\"psysml:c0525d75-8c24-4ff5-9432-36973c13d292\" xlink:show=\"new\" xlink:title=\"psysml:c0525d75-8c24-4ff5-9432-36973c13d292\" xlink:type=\"simple\"><path d=\"M640.26,115.75 C645.48,138.66 652.27,168.44 657.82,192.81 \" fill=\"none\" id=\"E4-backto-E2\" style=\"stroke:#181818;stroke-width:1.0;\"/><polygon fill=\"none\" points=\"637.31,102.81,634.7405,109.5478,639.9717,114.5111,642.5412,107.7733,637.31,102.81\" style=\"stroke:#181818;stroke-width:1.0;\"/><text fill=\"#000000\" font-family=\"sans-serif\" font-size=\"13\" lengthAdjust=\"spacing\" textLength=\"8\" x=\"651\" y=\"159.0669\">p</text></a></g><!--MD5=[4f0e5e6e99030219fe37635c5060498a]\n",
       "@startuml\r\n",
       "skin sysmlbw\r\n",
       "skinparam monochrome true\r\n",
       "skinparam wrapWidth 300\r\n",
       "hide circle\r\n",
       "\r\n",
       "package \"ParameterTest\" as E1  [[psysml:23a083da-d633-42aa-b737-bc534de6ad98 ]]  {\r\n",
       "comp def \"A\" as E2  <<(T,blue) attribute  def>> [[psysml:04ef3948-8524-44aa-a324-078bab0d23fb ]] {\r\n",
       "##//attributes//##\r\n",
       "x: String\r\n",
       "y: A\r\n",
       "}\r\n",
       "comp usage \"a: A  \" as E3  <<(T,blue) attribute>> [[psysml:30f6a8e4-9ac7-4724-976d-d9f1147f3701 ]] {\r\n",
       "}\r\n",
       "comp def \"F\" as E4  <<(T,blue) calculation  def>> [[psysml:9fc68d1c-0eda-4ba7-8d2a-4dac99044350 ]] {\r\n",
       "}\r\n",
       "comp usage \"f  \" as E5  <<(T,blue) attribute>> [[psysml:201caa5e-7003-43c9-93c7-31c1dd2687e1 ]] {\r\n",
       "##//values//##\r\n",
       " <U+003D> F(a, 2)\r\n",
       "}\r\n",
       "comp usage \"g  \" as E6  <<(T,blue) attribute>> [[psysml:ef9d06c8-83aa-4b51-a725-4880c3e71513 ]] {\r\n",
       "##//values//##\r\n",
       " <U+003D> F(q <U+003D> 1, p <U+003D> a)\r\n",
       "}\r\n",
       "comp usage \"b  \" as E7  <<(T,blue) attribute>> [[psysml:472a68ff-87fb-48cb-b812-c0679e72bd97 ]] {\r\n",
       "##//values//##\r\n",
       " <U+003D> A(y<U+003D>a, x<U+003D>\"\")\r\n",
       "}\r\n",
       "comp usage \"c  \" as E8  <<(T,blue) attribute>> [[psysml:b12c6daa-efd4-472f-91f1-7e0209b6a2bc ]] {\r\n",
       "##//values//##\r\n",
       " <U+003D> A(\"test2\")\r\n",
       "}\r\n",
       "}\r\n",
       "E3 - -:|> E2 [[psysml:de703d0e-2ba0-4603-81fc-fcf4f6dc7e4d ]] \r\n",
       "E4 o- - E2 [[psysml:c0525d75-8c24-4ff5-9432-36973c13d292 ]] : p\r\n",
       "@enduml\r\n",
       "\n",
       "PlantUML version 1.2022.7(Mon Aug 22 17:01:30 UTC 2022)\n",
       "(EPL source distribution)\n",
       "Java Runtime: OpenJDK Runtime Environment\n",
       "JVM: OpenJDK 64-Bit Server VM\n",
       "Default Encoding: UTF-8\n",
       "Language: en\n",
       "Country: null\n",
       "--></g></svg>"
      ]
     },
     "execution_count": 38,
     "metadata": {},
     "output_type": "execute_result"
    }
   ],
   "source": [
    "%viz --style=\"DEFAULT\" --view=\"Tree\" \"ParameterTest\""
   ]
  },
  {
   "cell_type": "code",
   "execution_count": 39,
   "id": "c9b66151",
   "metadata": {
    "execution": {
     "iopub.execute_input": "2024-12-16T03:23:36.298505Z",
     "iopub.status.busy": "2024-12-16T03:23:36.298279Z",
     "iopub.status.idle": "2024-12-16T03:23:36.304165Z",
     "shell.execute_reply": "2024-12-16T03:23:36.303964Z"
    }
   },
   "outputs": [
    {
     "data": {
      "image/svg+xml": [
       "<?xml version=\"1.0\" encoding=\"UTF-8\" standalone=\"no\"?><svg xmlns=\"http://www.w3.org/2000/svg\" xmlns:xlink=\"http://www.w3.org/1999/xlink\" contentStyleType=\"text/css\" height=\"10px\" preserveAspectRatio=\"none\" style=\"width:10px;height:10px;background:#FFFFFF;\" version=\"1.1\" viewBox=\"0 0 10 10\" width=\"10px\" zoomAndPan=\"magnify\"><defs/><g><!--MD5=[ac12e6954f3af68464267ee74ddf8a9f]\n",
       "@startuml\r\n",
       "skin sysmlbw\r\n",
       "skinparam monochrome true\r\n",
       "skinparam wrapWidth 300\r\n",
       "hide circle\r\n",
       "\r\n",
       "@enduml\r\n",
       "\n",
       "PlantUML version 1.2022.7(Mon Aug 22 17:01:30 UTC 2022)\n",
       "(EPL source distribution)\n",
       "Java Runtime: OpenJDK Runtime Environment\n",
       "JVM: OpenJDK 64-Bit Server VM\n",
       "Default Encoding: UTF-8\n",
       "Language: en\n",
       "Country: null\n",
       "--></g></svg>"
      ]
     },
     "execution_count": 39,
     "metadata": {},
     "output_type": "execute_result"
    }
   ],
   "source": [
    "%viz --style=\"DEFAULT\" --view=\"State\" \"ParameterTest\""
   ]
  },
  {
   "cell_type": "code",
   "execution_count": 40,
   "id": "e5e97a76",
   "metadata": {
    "execution": {
     "iopub.execute_input": "2024-12-16T03:23:36.361230Z",
     "iopub.status.busy": "2024-12-16T03:23:36.360956Z",
     "iopub.status.idle": "2024-12-16T03:23:36.387579Z",
     "shell.execute_reply": "2024-12-16T03:23:36.386770Z"
    }
   },
   "outputs": [
    {
     "data": {
      "image/svg+xml": [
       "<?xml version=\"1.0\" encoding=\"UTF-8\" standalone=\"no\"?><svg xmlns=\"http://www.w3.org/2000/svg\" xmlns:xlink=\"http://www.w3.org/1999/xlink\" contentStyleType=\"text/css\" height=\"241px\" preserveAspectRatio=\"none\" style=\"width:858px;height:241px;background:#FFFFFF;\" version=\"1.1\" viewBox=\"0 0 858 241\" width=\"858px\" zoomAndPan=\"magnify\"><defs/><g><!--MD5=[fbc87193dbaf4d95561dea2c320d4a47]\n",
       "cluster E1--><g id=\"cluster_E1\"><a href=\"psysml:23a083da-d633-42aa-b737-bc534de6ad98\" target=\"_top\" title=\"psysml:23a083da-d633-42aa-b737-bc534de6ad98\" xlink:actuate=\"onRequest\" xlink:href=\"psysml:23a083da-d633-42aa-b737-bc534de6ad98\" xlink:show=\"new\" xlink:title=\"psysml:23a083da-d633-42aa-b737-bc534de6ad98\" xlink:type=\"simple\"><polygon fill=\"none\" points=\"16,6,129.6875,6,136.6875,28.2969,841,28.2969,841,234.72,16,234.72,16,6\" style=\"stroke:#000000;stroke-width:1.5;\"/><line style=\"stroke:#000000;stroke-width:1.5;\" x1=\"16\" x2=\"136.6875\" y1=\"28.2969\" y2=\"28.2969\"/><text fill=\"#000000\" font-family=\"sans-serif\" font-size=\"14\" font-weight=\"bold\" lengthAdjust=\"spacing\" textLength=\"107.6875\" x=\"20\" y=\"20.9951\">ParameterTest</text></a></g><!--MD5=[f6df4d0ebaf0b5dfb2ced0ae5af7c670]\n",
       "cluster E4--><g id=\"cluster_E4\"><a href=\"psysml:9fc68d1c-0eda-4ba7-8d2a-4dac99044350\" target=\"_top\" title=\"psysml:9fc68d1c-0eda-4ba7-8d2a-4dac99044350\" xlink:actuate=\"onRequest\" xlink:href=\"psysml:9fc68d1c-0eda-4ba7-8d2a-4dac99044350\" xlink:show=\"new\" xlink:title=\"psysml:9fc68d1c-0eda-4ba7-8d2a-4dac99044350\" xlink:type=\"simple\"><rect fill=\"#FFFFFF\" height=\"126.22\" id=\"E4\" style=\"stroke:#383838;stroke-width:1.5;\" width=\"150\" x=\"675\" y=\"78.5\"/><text fill=\"#000000\" font-family=\"sans-serif\" font-size=\"12\" font-style=\"italic\" lengthAdjust=\"spacing\" textLength=\"110\" x=\"695\" y=\"94.6387\">«calculation  def»</text><text fill=\"#000000\" font-family=\"sans-serif\" font-size=\"14\" lengthAdjust=\"spacing\" textLength=\"8\" x=\"746\" y=\"110.4639\">F</text><line style=\"stroke:#383838;stroke-width:1.0;\" x1=\"675\" x2=\"825\" y1=\"118.7656\" y2=\"118.7656\"/></a></g><g><a href=\"psysml:04ef3948-8524-44aa-a324-078bab0d23fb\" target=\"_top\" title=\"psysml:04ef3948-8524-44aa-a324-078bab0d23fb\" xlink:actuate=\"onRequest\" xlink:href=\"psysml:04ef3948-8524-44aa-a324-078bab0d23fb\" xlink:show=\"new\" xlink:title=\"psysml:04ef3948-8524-44aa-a324-078bab0d23fb\" xlink:type=\"simple\"><rect fill=\"#FFFFFF\" height=\"45.2656\" id=\"E2\" style=\"stroke:#383838;stroke-width:1.5;\" width=\"104\" x=\"532\" y=\"127\"/><text fill=\"#000000\" font-family=\"sans-serif\" font-size=\"12\" font-style=\"italic\" lengthAdjust=\"spacing\" textLength=\"97\" x=\"535.5\" y=\"143.1387\">«attribute  def»</text><text fill=\"#000000\" font-family=\"sans-serif\" font-size=\"14\" lengthAdjust=\"spacing\" textLength=\"9\" x=\"579.5\" y=\"158.9639\">A</text></a></g><!--MD5=[09b614a08d8cba4a07c9adeb5e0fee81]\n",
       "class E3--><a href=\"psysml:30f6a8e4-9ac7-4724-976d-d9f1147f3701\" target=\"_top\" title=\"psysml:30f6a8e4-9ac7-4724-976d-d9f1147f3701\" xlink:actuate=\"onRequest\" xlink:href=\"psysml:30f6a8e4-9ac7-4724-976d-d9f1147f3701\" xlink:show=\"new\" xlink:title=\"psysml:30f6a8e4-9ac7-4724-976d-d9f1147f3701\" xlink:type=\"simple\"><g id=\"elem_E3\"><rect fill=\"#FFFFFF\" height=\"48.2656\" id=\"E3\" rx=\"10\" ry=\"10\" style=\"stroke:#181818;stroke-width:0.5;\" width=\"71\" x=\"575.5\" y=\"54.5\"/><text fill=\"#000000\" font-family=\"sans-serif\" font-size=\"12\" font-style=\"italic\" lengthAdjust=\"spacing\" textLength=\"69\" x=\"576.5\" y=\"70.6387\">«attribute»</text><text fill=\"#000000\" font-family=\"sans-serif\" font-size=\"14\" lengthAdjust=\"spacing\" textLength=\"26\" x=\"594\" y=\"86.4639\">a: A</text><line style=\"stroke:#181818;stroke-width:0.5;\" x1=\"576.5\" x2=\"645.5\" y1=\"94.7656\" y2=\"94.7656\"/></g></a><!--MD5=[b9389687b975829384b498ac4b7476b2]\n",
       "class E8--><a href=\"psysml:201caa5e-7003-43c9-93c7-31c1dd2687e1\" target=\"_top\" title=\"psysml:201caa5e-7003-43c9-93c7-31c1dd2687e1\" xlink:actuate=\"onRequest\" xlink:href=\"psysml:201caa5e-7003-43c9-93c7-31c1dd2687e1\" xlink:show=\"new\" xlink:title=\"psysml:201caa5e-7003-43c9-93c7-31c1dd2687e1\" xlink:type=\"simple\"><g id=\"elem_E8\"><rect fill=\"#FFFFFF\" height=\"75.0813\" id=\"E8\" rx=\"10\" ry=\"10\" style=\"stroke:#181818;stroke-width:0.5;\" width=\"71\" x=\"469.5\" y=\"41\"/><text fill=\"#000000\" font-family=\"sans-serif\" font-size=\"12\" font-style=\"italic\" lengthAdjust=\"spacing\" textLength=\"69\" x=\"470.5\" y=\"57.1387\">«attribute»</text><text fill=\"#000000\" font-family=\"sans-serif\" font-size=\"14\" lengthAdjust=\"spacing\" textLength=\"4\" x=\"499\" y=\"72.9639\">f</text><line style=\"stroke:#181818;stroke-width:0.5;\" x1=\"470.5\" x2=\"539.5\" y1=\"81.2656\" y2=\"81.2656\"/><text fill=\"#000000\" font-family=\"sans-serif\" font-size=\"14\" lengthAdjust=\"spacing\" textLength=\"59\" x=\"475.5\" y=\"108.7795\">= F(a, 2)</text><text fill=\"#000000\" font-family=\"sans-serif\" font-size=\"14\" font-style=\"italic\" lengthAdjust=\"spacing\" textLength=\"44\" x=\"483\" y=\"93.6123\">values</text></g></a><!--MD5=[fd4143e9d270a159db93a4ea2a975926]\n",
       "class E9--><a href=\"psysml:ef9d06c8-83aa-4b51-a725-4880c3e71513\" target=\"_top\" title=\"psysml:ef9d06c8-83aa-4b51-a725-4880c3e71513\" xlink:actuate=\"onRequest\" xlink:href=\"psysml:ef9d06c8-83aa-4b51-a725-4880c3e71513\" xlink:show=\"new\" xlink:title=\"psysml:ef9d06c8-83aa-4b51-a725-4880c3e71513\" xlink:type=\"simple\"><g id=\"elem_E9\"><rect fill=\"#FFFFFF\" height=\"75.0813\" id=\"E9\" rx=\"10\" ry=\"10\" style=\"stroke:#181818;stroke-width:0.5;\" width=\"129\" x=\"305.5\" y=\"41\"/><text fill=\"#000000\" font-family=\"sans-serif\" font-size=\"12\" font-style=\"italic\" lengthAdjust=\"spacing\" textLength=\"69\" x=\"335.5\" y=\"57.1387\">«attribute»</text><text fill=\"#000000\" font-family=\"sans-serif\" font-size=\"14\" lengthAdjust=\"spacing\" textLength=\"9\" x=\"361.5\" y=\"72.9639\">g</text><line style=\"stroke:#181818;stroke-width:0.5;\" x1=\"306.5\" x2=\"433.5\" y1=\"81.2656\" y2=\"81.2656\"/><text fill=\"#000000\" font-family=\"sans-serif\" font-size=\"14\" lengthAdjust=\"spacing\" textLength=\"117\" x=\"311.5\" y=\"108.7795\">= F(q = 1, p = a)</text><text fill=\"#000000\" font-family=\"sans-serif\" font-size=\"14\" font-style=\"italic\" lengthAdjust=\"spacing\" textLength=\"44\" x=\"348\" y=\"93.6123\">values</text></g></a><!--MD5=[96f4274e9e20536e775497830990834d]\n",
       "class E10--><a href=\"psysml:472a68ff-87fb-48cb-b812-c0679e72bd97\" target=\"_top\" title=\"psysml:472a68ff-87fb-48cb-b812-c0679e72bd97\" xlink:actuate=\"onRequest\" xlink:href=\"psysml:472a68ff-87fb-48cb-b812-c0679e72bd97\" xlink:show=\"new\" xlink:title=\"psysml:472a68ff-87fb-48cb-b812-c0679e72bd97\" xlink:type=\"simple\"><g id=\"elem_E10\"><rect fill=\"#FFFFFF\" height=\"75.0813\" id=\"E10\" rx=\"10\" ry=\"10\" style=\"stroke:#181818;stroke-width:0.5;\" width=\"111\" x=\"159.5\" y=\"41\"/><text fill=\"#000000\" font-family=\"sans-serif\" font-size=\"12\" font-style=\"italic\" lengthAdjust=\"spacing\" textLength=\"69\" x=\"180.5\" y=\"57.1387\">«attribute»</text><text fill=\"#000000\" font-family=\"sans-serif\" font-size=\"14\" lengthAdjust=\"spacing\" textLength=\"9\" x=\"206.5\" y=\"72.9639\">b</text><line style=\"stroke:#181818;stroke-width:0.5;\" x1=\"160.5\" x2=\"269.5\" y1=\"81.2656\" y2=\"81.2656\"/><text fill=\"#000000\" font-family=\"sans-serif\" font-size=\"14\" lengthAdjust=\"spacing\" textLength=\"99\" x=\"165.5\" y=\"108.7795\">= A(y=a, x=\"\")</text><text fill=\"#000000\" font-family=\"sans-serif\" font-size=\"14\" font-style=\"italic\" lengthAdjust=\"spacing\" textLength=\"44\" x=\"193\" y=\"93.6123\">values</text></g></a><!--MD5=[1dd1bfd58a279cf63c5f349dbc8fc6a1]\n",
       "class E11--><a href=\"psysml:b12c6daa-efd4-472f-91f1-7e0209b6a2bc\" target=\"_top\" title=\"psysml:b12c6daa-efd4-472f-91f1-7e0209b6a2bc\" xlink:actuate=\"onRequest\" xlink:href=\"psysml:b12c6daa-efd4-472f-91f1-7e0209b6a2bc\" xlink:show=\"new\" xlink:title=\"psysml:b12c6daa-efd4-472f-91f1-7e0209b6a2bc\" xlink:type=\"simple\"><g id=\"elem_E11\"><rect fill=\"#FFFFFF\" height=\"75.0813\" id=\"E11\" rx=\"10\" ry=\"10\" style=\"stroke:#181818;stroke-width:0.5;\" width=\"93\" x=\"31.5\" y=\"41\"/><text fill=\"#000000\" font-family=\"sans-serif\" font-size=\"12\" font-style=\"italic\" lengthAdjust=\"spacing\" textLength=\"69\" x=\"43.5\" y=\"57.1387\">«attribute»</text><text fill=\"#000000\" font-family=\"sans-serif\" font-size=\"14\" lengthAdjust=\"spacing\" textLength=\"8\" x=\"70\" y=\"72.9639\">c</text><line style=\"stroke:#181818;stroke-width:0.5;\" x1=\"32.5\" x2=\"123.5\" y1=\"81.2656\" y2=\"81.2656\"/><text fill=\"#000000\" font-family=\"sans-serif\" font-size=\"14\" lengthAdjust=\"spacing\" textLength=\"81\" x=\"37.5\" y=\"108.7795\">= A(\"test2\")</text><text fill=\"#000000\" font-family=\"sans-serif\" font-size=\"14\" font-style=\"italic\" lengthAdjust=\"spacing\" textLength=\"44\" x=\"56\" y=\"93.6123\">values</text></g></a><text fill=\"#000000\" font-family=\"sans-serif\" font-size=\"14\" lengthAdjust=\"spacing\" textLength=\"9\" x=\"688.5\" y=\"57.1982\">p</text><rect fill=\"#FFFFFF\" height=\"12\" style=\"stroke:#181818;stroke-width:1.5;\" width=\"12\" x=\"687\" y=\"72.5\"/><text fill=\"#000000\" font-family=\"sans-serif\" font-size=\"14\" lengthAdjust=\"spacing\" textLength=\"9\" x=\"735.5\" y=\"57.1982\">q</text><rect fill=\"#FFFFFF\" height=\"12\" style=\"stroke:#181818;stroke-width:1.5;\" width=\"12\" x=\"734\" y=\"72.5\"/><text fill=\"#000000\" font-family=\"sans-serif\" font-size=\"14\" lengthAdjust=\"spacing\" textLength=\"39\" x=\"720.5\" y=\"223.7151\">result</text><rect fill=\"#FFFFFF\" height=\"12\" style=\"stroke:#181818;stroke-width:1.5;\" width=\"12\" x=\"734\" y=\"198.72\"/><!--MD5=[05d275557350bfb9b23a4ef7222b4c39]\n",
       "link E3 to E2--><g id=\"link_E3_E2\"><a href=\"psysml:de703d0e-2ba0-4603-81fc-fcf4f6dc7e4d\" target=\"_top\" title=\"psysml:de703d0e-2ba0-4603-81fc-fcf4f6dc7e4d\" xlink:actuate=\"onRequest\" xlink:href=\"psysml:de703d0e-2ba0-4603-81fc-fcf4f6dc7e4d\" xlink:show=\"new\" xlink:title=\"psysml:de703d0e-2ba0-4603-81fc-fcf4f6dc7e4d\" xlink:type=\"simple\"><path d=\"M601.86,102.86 C601.25,104.42 600.63,106.01 600,107.62 \" fill=\"none\" id=\"E3-to-E2\" style=\"stroke:#181818;stroke-width:1.0;\"/><polygon fill=\"#FFFFFF\" points=\"592.58,126.56,592.9814,106.3155,606.0197,111.4149,592.58,126.56\" style=\"stroke:#181818;stroke-width:1.0;\"/><ellipse cx=\"596.9201\" cy=\"101.7356\" fill=\"#181818\" rx=\"2\" ry=\"2\" style=\"stroke:#181818;stroke-width:1.0;\"/><ellipse cx=\"606.2332\" cy=\"105.3779\" fill=\"#181818\" rx=\"2\" ry=\"2\" style=\"stroke:#181818;stroke-width:1.0;\"/></a></g><!--MD5=[ed0465d685f3f6251b371eadd577a4c7]\n",
       "@startuml\r\n",
       "skin sysmlbw\r\n",
       "skinparam monochrome true\r\n",
       "skinparam wrapWidth 300\r\n",
       "hide circle\r\n",
       "skinparam ranksep 10\r\n",
       "skinparam rectangle {\r\n",
       " backgroundColor<<block>> LightGreen\r\n",
       "}\r\n",
       "\r\n",
       "package \"ParameterTest\" as E1  [[psysml:23a083da-d633-42aa-b737-bc534de6ad98 ]]  {\r\n",
       "def \"A\" as E2  <<(T,blue) attribute  def>> [[psysml:04ef3948-8524-44aa-a324-078bab0d23fb ]] \r\n",
       "comp usage \"a: A  \" as E3  <<(T,blue) attribute>> [[psysml:30f6a8e4-9ac7-4724-976d-d9f1147f3701 ]] {\r\n",
       "}\r\n",
       "rec def \"F\" as E4  <<(T,blue) calculation  def>> [[psysml:9fc68d1c-0eda-4ba7-8d2a-4dac99044350 ]] {\r\n",
       "portin \"p\" as E5  [[psysml:c0525d75-8c24-4ff5-9432-36973c13d292 ]] \r\n",
       "portin \"q\" as E6  [[psysml:ea5aeb99-c612-42a4-b65a-a51f249da328 ]] \r\n",
       "portout \"result\" as E7  [[psysml:ef9cf0a8-f443-48d9-b6fd-29ed95d8a001 ]] \r\n",
       "}\r\n",
       "\r\n",
       "comp usage \"f  \" as E8  <<(T,blue) attribute>> [[psysml:201caa5e-7003-43c9-93c7-31c1dd2687e1 ]] {\r\n",
       "##//values//##\r\n",
       " <U+003D> F(a, 2)\r\n",
       "}\r\n",
       "comp usage \"g  \" as E9  <<(T,blue) attribute>> [[psysml:ef9d06c8-83aa-4b51-a725-4880c3e71513 ]] {\r\n",
       "##//values//##\r\n",
       " <U+003D> F(q <U+003D> 1, p <U+003D> a)\r\n",
       "}\r\n",
       "comp usage \"b  \" as E10  <<(T,blue) attribute>> [[psysml:472a68ff-87fb-48cb-b812-c0679e72bd97 ]] {\r\n",
       "##//values//##\r\n",
       " <U+003D> A(y<U+003D>a, x<U+003D>\"\")\r\n",
       "}\r\n",
       "comp usage \"c  \" as E11  <<(T,blue) attribute>> [[psysml:b12c6daa-efd4-472f-91f1-7e0209b6a2bc ]] {\r\n",
       "##//values//##\r\n",
       " <U+003D> A(\"test2\")\r\n",
       "}\r\n",
       "}\r\n",
       "E3 - -:|> E2 [[psysml:de703d0e-2ba0-4603-81fc-fcf4f6dc7e4d ]] \r\n",
       "@enduml\r\n",
       "\n",
       "PlantUML version 1.2022.7(Mon Aug 22 17:01:30 UTC 2022)\n",
       "(EPL source distribution)\n",
       "Java Runtime: OpenJDK Runtime Environment\n",
       "JVM: OpenJDK 64-Bit Server VM\n",
       "Default Encoding: UTF-8\n",
       "Language: en\n",
       "Country: null\n",
       "--></g></svg>"
      ]
     },
     "execution_count": 40,
     "metadata": {},
     "output_type": "execute_result"
    }
   ],
   "source": [
    "%viz --style=\"DEFAULT\" --view=\"Interconnection\" \"ParameterTest\""
   ]
  },
  {
   "cell_type": "code",
   "execution_count": 41,
   "id": "28e22f3a",
   "metadata": {
    "execution": {
     "iopub.execute_input": "2024-12-16T03:23:36.443854Z",
     "iopub.status.busy": "2024-12-16T03:23:36.443615Z",
     "iopub.status.idle": "2024-12-16T03:23:36.458859Z",
     "shell.execute_reply": "2024-12-16T03:23:36.458675Z"
    }
   },
   "outputs": [
    {
     "data": {
      "image/svg+xml": [
       "<?xml version=\"1.0\" encoding=\"UTF-8\" standalone=\"no\"?><svg xmlns=\"http://www.w3.org/2000/svg\" xmlns:xlink=\"http://www.w3.org/1999/xlink\" contentStyleType=\"text/css\" height=\"157px\" preserveAspectRatio=\"none\" style=\"width:164px;height:157px;background:#FFFFFF;\" version=\"1.1\" viewBox=\"0 0 164 157\" width=\"164px\" zoomAndPan=\"magnify\"><defs/><g><!--MD5=[fbc87193dbaf4d95561dea2c320d4a47]\n",
       "cluster E1--><g id=\"cluster_E1\"><a href=\"psysml:9fc68d1c-0eda-4ba7-8d2a-4dac99044350\" target=\"_top\" title=\"psysml:9fc68d1c-0eda-4ba7-8d2a-4dac99044350\" xlink:actuate=\"onRequest\" xlink:href=\"psysml:9fc68d1c-0eda-4ba7-8d2a-4dac99044350\" xlink:show=\"new\" xlink:title=\"psysml:9fc68d1c-0eda-4ba7-8d2a-4dac99044350\" xlink:type=\"simple\"><rect fill=\"#FFFFFF\" height=\"87.72\" id=\"E1\" style=\"stroke:#383838;stroke-width:1.5;\" width=\"150\" x=\"7\" y=\"42.0986\"/><text fill=\"#000000\" font-family=\"sans-serif\" font-size=\"12\" font-style=\"italic\" lengthAdjust=\"spacing\" textLength=\"110\" x=\"27\" y=\"58.2373\">«calculation  def»</text><text fill=\"#000000\" font-family=\"sans-serif\" font-size=\"14\" lengthAdjust=\"spacing\" textLength=\"8\" x=\"78\" y=\"74.0625\">F</text><line style=\"stroke:#383838;stroke-width:1.0;\" x1=\"7\" x2=\"157\" y1=\"82.3643\" y2=\"82.3643\"/></a></g><text fill=\"#000000\" font-family=\"sans-serif\" font-size=\"14\" lengthAdjust=\"spacing\" textLength=\"9\" x=\"20.5\" y=\"20.7969\">p</text><rect fill=\"#FFFFFF\" height=\"12\" style=\"stroke:#181818;stroke-width:1.5;\" width=\"12\" x=\"19\" y=\"36.0986\"/><text fill=\"#000000\" font-family=\"sans-serif\" font-size=\"14\" lengthAdjust=\"spacing\" textLength=\"9\" x=\"67.5\" y=\"20.7969\">q</text><rect fill=\"#FFFFFF\" height=\"12\" style=\"stroke:#181818;stroke-width:1.5;\" width=\"12\" x=\"66\" y=\"36.0986\"/><text fill=\"#000000\" font-family=\"sans-serif\" font-size=\"14\" lengthAdjust=\"spacing\" textLength=\"39\" x=\"52.5\" y=\"148.8138\">result</text><rect fill=\"#FFFFFF\" height=\"12\" style=\"stroke:#181818;stroke-width:1.5;\" width=\"12\" x=\"66\" y=\"123.8186\"/><!--MD5=[6606264c6ed8cedc0d5819a577bab233]\n",
       "@startuml\r\n",
       "skin sysmlbw\r\n",
       "skinparam monochrome true\r\n",
       "skinparam wrapWidth 300\r\n",
       "hide circle\r\n",
       "skinparam ranksep 8\r\n",
       "\r\n",
       "rec def \"F\" as E1  <<(T,blue) calculation  def>> [[psysml:9fc68d1c-0eda-4ba7-8d2a-4dac99044350 ]] {\r\n",
       "portin \"p\" as E2  [[psysml:c0525d75-8c24-4ff5-9432-36973c13d292 ]] \r\n",
       "portin \"q\" as E3  [[psysml:ea5aeb99-c612-42a4-b65a-a51f249da328 ]] \r\n",
       "portout \"result\" as E4  [[psysml:ef9cf0a8-f443-48d9-b6fd-29ed95d8a001 ]] \r\n",
       "}\r\n",
       "\r\n",
       "@enduml\r\n",
       "\n",
       "PlantUML version 1.2022.7(Mon Aug 22 17:01:30 UTC 2022)\n",
       "(EPL source distribution)\n",
       "Java Runtime: OpenJDK Runtime Environment\n",
       "JVM: OpenJDK 64-Bit Server VM\n",
       "Default Encoding: UTF-8\n",
       "Language: en\n",
       "Country: null\n",
       "--></g></svg>"
      ]
     },
     "execution_count": 41,
     "metadata": {},
     "output_type": "execute_result"
    }
   ],
   "source": [
    "%viz --style=\"DEFAULT\" --view=\"Action\" \"ParameterTest\""
   ]
  },
  {
   "cell_type": "code",
   "execution_count": 42,
   "id": "c344599a",
   "metadata": {
    "execution": {
     "iopub.execute_input": "2024-12-16T03:23:36.511661Z",
     "iopub.status.busy": "2024-12-16T03:23:36.511405Z",
     "iopub.status.idle": "2024-12-16T03:23:36.519230Z",
     "shell.execute_reply": "2024-12-16T03:23:36.519011Z"
    }
   },
   "outputs": [
    {
     "data": {
      "image/svg+xml": [
       "<?xml version=\"1.0\" encoding=\"UTF-8\" standalone=\"no\"?><svg xmlns=\"http://www.w3.org/2000/svg\" xmlns:xlink=\"http://www.w3.org/1999/xlink\" contentStyleType=\"text/css\" height=\"10px\" preserveAspectRatio=\"none\" style=\"width:10px;height:10px;background:#FFFFFF;\" version=\"1.1\" viewBox=\"0 0 10 10\" width=\"10px\" zoomAndPan=\"magnify\"><defs/><g><!--MD5=[075159388321915a295a256e9638f934]\n",
       "@startuml\r\n",
       "skin sysmlbw\r\n",
       "skinparam monochrome true\r\n",
       "skinparam wrapWidth 300\r\n",
       "hide circle\r\n",
       "skinparam roundcorner 20\r\n",
       "skinparam BoxPadding 20\r\n",
       "skinparam SequenceBoxBackgroundColor #white\r\n",
       "skinparam style strictuml\r\n",
       "skinparam maxMessageSize 100\r\n",
       "\r\n",
       "@enduml\r\n",
       "\n",
       "PlantUML version 1.2022.7(Mon Aug 22 17:01:30 UTC 2022)\n",
       "(EPL source distribution)\n",
       "Java Runtime: OpenJDK Runtime Environment\n",
       "JVM: OpenJDK 64-Bit Server VM\n",
       "Default Encoding: UTF-8\n",
       "Language: en\n",
       "Country: null\n",
       "--></g></svg>"
      ]
     },
     "execution_count": 42,
     "metadata": {},
     "output_type": "execute_result"
    }
   ],
   "source": [
    "%viz --style=\"DEFAULT\" --view=\"Sequence\" \"ParameterTest\""
   ]
  },
  {
   "cell_type": "code",
   "execution_count": 43,
   "id": "734c42e4",
   "metadata": {
    "execution": {
     "iopub.execute_input": "2024-12-16T03:23:36.575107Z",
     "iopub.status.busy": "2024-12-16T03:23:36.574830Z",
     "iopub.status.idle": "2024-12-16T03:23:36.602258Z",
     "shell.execute_reply": "2024-12-16T03:23:36.602090Z"
    }
   },
   "outputs": [
    {
     "data": {
      "image/svg+xml": [
       "<?xml version=\"1.0\" encoding=\"UTF-8\" standalone=\"no\"?><svg xmlns=\"http://www.w3.org/2000/svg\" xmlns:xlink=\"http://www.w3.org/1999/xlink\" contentStyleType=\"text/css\" height=\"430px\" preserveAspectRatio=\"none\" style=\"width:858px;height:430px;background:#FFFFFF;\" version=\"1.1\" viewBox=\"0 0 858 430\" width=\"858px\" zoomAndPan=\"magnify\"><defs/><g><!--MD5=[fbc87193dbaf4d95561dea2c320d4a47]\n",
       "cluster E1--><g id=\"cluster_E1\"><a href=\"psysml:23a083da-d633-42aa-b737-bc534de6ad98\" target=\"_top\" title=\"psysml:23a083da-d633-42aa-b737-bc534de6ad98\" xlink:actuate=\"onRequest\" xlink:href=\"psysml:23a083da-d633-42aa-b737-bc534de6ad98\" xlink:show=\"new\" xlink:title=\"psysml:23a083da-d633-42aa-b737-bc534de6ad98\" xlink:type=\"simple\"><polygon fill=\"none\" points=\"16,6,129.6875,6,136.6875,28.2969,841,28.2969,841,423.72,16,423.72,16,6\" style=\"stroke:#000000;stroke-width:1.5;\"/><line style=\"stroke:#000000;stroke-width:1.5;\" x1=\"16\" x2=\"136.6875\" y1=\"28.2969\" y2=\"28.2969\"/><text fill=\"#000000\" font-family=\"sans-serif\" font-size=\"14\" font-weight=\"bold\" lengthAdjust=\"spacing\" textLength=\"107.6875\" x=\"20\" y=\"20.9951\">ParameterTest</text></a></g><!--MD5=[f6df4d0ebaf0b5dfb2ced0ae5af7c670]\n",
       "cluster E4--><g id=\"cluster_E4\"><a href=\"psysml:9fc68d1c-0eda-4ba7-8d2a-4dac99044350\" target=\"_top\" title=\"psysml:9fc68d1c-0eda-4ba7-8d2a-4dac99044350\" xlink:actuate=\"onRequest\" xlink:href=\"psysml:9fc68d1c-0eda-4ba7-8d2a-4dac99044350\" xlink:show=\"new\" xlink:title=\"psysml:9fc68d1c-0eda-4ba7-8d2a-4dac99044350\" xlink:type=\"simple\"><rect fill=\"#FFFFFF\" height=\"315.22\" id=\"E4\" style=\"stroke:#383838;stroke-width:1.5;\" width=\"150\" x=\"675\" y=\"78.5\"/><text fill=\"#000000\" font-family=\"sans-serif\" font-size=\"12\" font-style=\"italic\" lengthAdjust=\"spacing\" textLength=\"110\" x=\"695\" y=\"94.6387\">«calculation  def»</text><text fill=\"#000000\" font-family=\"sans-serif\" font-size=\"14\" lengthAdjust=\"spacing\" textLength=\"8\" x=\"746\" y=\"110.4639\">F</text><line style=\"stroke:#383838;stroke-width:1.0;\" x1=\"675\" x2=\"825\" y1=\"118.7656\" y2=\"118.7656\"/></a></g><!--MD5=[b4997ac47864f28c2f74865a473b2911]\n",
       "class E2--><a href=\"psysml:04ef3948-8524-44aa-a324-078bab0d23fb\" target=\"_top\" title=\"psysml:04ef3948-8524-44aa-a324-078bab0d23fb\" xlink:actuate=\"onRequest\" xlink:href=\"psysml:04ef3948-8524-44aa-a324-078bab0d23fb\" xlink:show=\"new\" xlink:title=\"psysml:04ef3948-8524-44aa-a324-078bab0d23fb\" xlink:type=\"simple\"><g id=\"elem_E2\"><rect fill=\"#FFFFFF\" height=\"91.3781\" id=\"E2\" style=\"stroke:#181818;stroke-width:0.5;\" width=\"99\" x=\"537.5\" y=\"176\"/><text fill=\"#000000\" font-family=\"sans-serif\" font-size=\"12\" font-style=\"italic\" lengthAdjust=\"spacing\" textLength=\"97\" x=\"538.5\" y=\"192.1387\">«attribute  def»</text><text fill=\"#000000\" font-family=\"sans-serif\" font-size=\"14\" lengthAdjust=\"spacing\" textLength=\"9\" x=\"582.5\" y=\"207.9639\">A</text><line style=\"stroke:#181818;stroke-width:0.5;\" x1=\"538.5\" x2=\"635.5\" y1=\"216.2656\" y2=\"216.2656\"/><text fill=\"#000000\" font-family=\"sans-serif\" font-size=\"14\" lengthAdjust=\"spacing\" textLength=\"56\" x=\"543.5\" y=\"243.7795\">x: String</text><text fill=\"#000000\" font-family=\"sans-serif\" font-size=\"14\" lengthAdjust=\"spacing\" textLength=\"25\" x=\"543.5\" y=\"260.0764\">y: A</text><text fill=\"#000000\" font-family=\"sans-serif\" font-size=\"14\" font-style=\"italic\" lengthAdjust=\"spacing\" textLength=\"66\" x=\"554\" y=\"228.6123\">attributes</text></g></a><!--MD5=[09b614a08d8cba4a07c9adeb5e0fee81]\n",
       "class E3--><a href=\"psysml:30f6a8e4-9ac7-4724-976d-d9f1147f3701\" target=\"_top\" title=\"psysml:30f6a8e4-9ac7-4724-976d-d9f1147f3701\" xlink:actuate=\"onRequest\" xlink:href=\"psysml:30f6a8e4-9ac7-4724-976d-d9f1147f3701\" xlink:show=\"new\" xlink:title=\"psysml:30f6a8e4-9ac7-4724-976d-d9f1147f3701\" xlink:type=\"simple\"><g id=\"elem_E3\"><rect fill=\"#FFFFFF\" height=\"48.2656\" id=\"E3\" rx=\"10\" ry=\"10\" style=\"stroke:#181818;stroke-width:0.5;\" width=\"71\" x=\"575.5\" y=\"54.5\"/><text fill=\"#000000\" font-family=\"sans-serif\" font-size=\"12\" font-style=\"italic\" lengthAdjust=\"spacing\" textLength=\"69\" x=\"576.5\" y=\"70.6387\">«attribute»</text><text fill=\"#000000\" font-family=\"sans-serif\" font-size=\"14\" lengthAdjust=\"spacing\" textLength=\"26\" x=\"594\" y=\"86.4639\">a: A</text><line style=\"stroke:#181818;stroke-width:0.5;\" x1=\"576.5\" x2=\"645.5\" y1=\"94.7656\" y2=\"94.7656\"/></g></a><!--MD5=[b9389687b975829384b498ac4b7476b2]\n",
       "class E8--><a href=\"psysml:201caa5e-7003-43c9-93c7-31c1dd2687e1\" target=\"_top\" title=\"psysml:201caa5e-7003-43c9-93c7-31c1dd2687e1\" xlink:actuate=\"onRequest\" xlink:href=\"psysml:201caa5e-7003-43c9-93c7-31c1dd2687e1\" xlink:show=\"new\" xlink:title=\"psysml:201caa5e-7003-43c9-93c7-31c1dd2687e1\" xlink:type=\"simple\"><g id=\"elem_E8\"><rect fill=\"#FFFFFF\" height=\"75.0813\" id=\"E8\" rx=\"10\" ry=\"10\" style=\"stroke:#181818;stroke-width:0.5;\" width=\"71\" x=\"469.5\" y=\"41\"/><text fill=\"#000000\" font-family=\"sans-serif\" font-size=\"12\" font-style=\"italic\" lengthAdjust=\"spacing\" textLength=\"69\" x=\"470.5\" y=\"57.1387\">«attribute»</text><text fill=\"#000000\" font-family=\"sans-serif\" font-size=\"14\" lengthAdjust=\"spacing\" textLength=\"4\" x=\"499\" y=\"72.9639\">f</text><line style=\"stroke:#181818;stroke-width:0.5;\" x1=\"470.5\" x2=\"539.5\" y1=\"81.2656\" y2=\"81.2656\"/><text fill=\"#000000\" font-family=\"sans-serif\" font-size=\"14\" lengthAdjust=\"spacing\" textLength=\"59\" x=\"475.5\" y=\"108.7795\">= F(a, 2)</text><text fill=\"#000000\" font-family=\"sans-serif\" font-size=\"14\" font-style=\"italic\" lengthAdjust=\"spacing\" textLength=\"44\" x=\"483\" y=\"93.6123\">values</text></g></a><!--MD5=[fd4143e9d270a159db93a4ea2a975926]\n",
       "class E9--><a href=\"psysml:ef9d06c8-83aa-4b51-a725-4880c3e71513\" target=\"_top\" title=\"psysml:ef9d06c8-83aa-4b51-a725-4880c3e71513\" xlink:actuate=\"onRequest\" xlink:href=\"psysml:ef9d06c8-83aa-4b51-a725-4880c3e71513\" xlink:show=\"new\" xlink:title=\"psysml:ef9d06c8-83aa-4b51-a725-4880c3e71513\" xlink:type=\"simple\"><g id=\"elem_E9\"><rect fill=\"#FFFFFF\" height=\"75.0813\" id=\"E9\" rx=\"10\" ry=\"10\" style=\"stroke:#181818;stroke-width:0.5;\" width=\"129\" x=\"305.5\" y=\"41\"/><text fill=\"#000000\" font-family=\"sans-serif\" font-size=\"12\" font-style=\"italic\" lengthAdjust=\"spacing\" textLength=\"69\" x=\"335.5\" y=\"57.1387\">«attribute»</text><text fill=\"#000000\" font-family=\"sans-serif\" font-size=\"14\" lengthAdjust=\"spacing\" textLength=\"9\" x=\"361.5\" y=\"72.9639\">g</text><line style=\"stroke:#181818;stroke-width:0.5;\" x1=\"306.5\" x2=\"433.5\" y1=\"81.2656\" y2=\"81.2656\"/><text fill=\"#000000\" font-family=\"sans-serif\" font-size=\"14\" lengthAdjust=\"spacing\" textLength=\"117\" x=\"311.5\" y=\"108.7795\">= F(q = 1, p = a)</text><text fill=\"#000000\" font-family=\"sans-serif\" font-size=\"14\" font-style=\"italic\" lengthAdjust=\"spacing\" textLength=\"44\" x=\"348\" y=\"93.6123\">values</text></g></a><!--MD5=[96f4274e9e20536e775497830990834d]\n",
       "class E10--><a href=\"psysml:472a68ff-87fb-48cb-b812-c0679e72bd97\" target=\"_top\" title=\"psysml:472a68ff-87fb-48cb-b812-c0679e72bd97\" xlink:actuate=\"onRequest\" xlink:href=\"psysml:472a68ff-87fb-48cb-b812-c0679e72bd97\" xlink:show=\"new\" xlink:title=\"psysml:472a68ff-87fb-48cb-b812-c0679e72bd97\" xlink:type=\"simple\"><g id=\"elem_E10\"><rect fill=\"#FFFFFF\" height=\"75.0813\" id=\"E10\" rx=\"10\" ry=\"10\" style=\"stroke:#181818;stroke-width:0.5;\" width=\"111\" x=\"159.5\" y=\"41\"/><text fill=\"#000000\" font-family=\"sans-serif\" font-size=\"12\" font-style=\"italic\" lengthAdjust=\"spacing\" textLength=\"69\" x=\"180.5\" y=\"57.1387\">«attribute»</text><text fill=\"#000000\" font-family=\"sans-serif\" font-size=\"14\" lengthAdjust=\"spacing\" textLength=\"9\" x=\"206.5\" y=\"72.9639\">b</text><line style=\"stroke:#181818;stroke-width:0.5;\" x1=\"160.5\" x2=\"269.5\" y1=\"81.2656\" y2=\"81.2656\"/><text fill=\"#000000\" font-family=\"sans-serif\" font-size=\"14\" lengthAdjust=\"spacing\" textLength=\"99\" x=\"165.5\" y=\"108.7795\">= A(y=a, x=\"\")</text><text fill=\"#000000\" font-family=\"sans-serif\" font-size=\"14\" font-style=\"italic\" lengthAdjust=\"spacing\" textLength=\"44\" x=\"193\" y=\"93.6123\">values</text></g></a><!--MD5=[1dd1bfd58a279cf63c5f349dbc8fc6a1]\n",
       "class E11--><a href=\"psysml:b12c6daa-efd4-472f-91f1-7e0209b6a2bc\" target=\"_top\" title=\"psysml:b12c6daa-efd4-472f-91f1-7e0209b6a2bc\" xlink:actuate=\"onRequest\" xlink:href=\"psysml:b12c6daa-efd4-472f-91f1-7e0209b6a2bc\" xlink:show=\"new\" xlink:title=\"psysml:b12c6daa-efd4-472f-91f1-7e0209b6a2bc\" xlink:type=\"simple\"><g id=\"elem_E11\"><rect fill=\"#FFFFFF\" height=\"75.0813\" id=\"E11\" rx=\"10\" ry=\"10\" style=\"stroke:#181818;stroke-width:0.5;\" width=\"93\" x=\"31.5\" y=\"41\"/><text fill=\"#000000\" font-family=\"sans-serif\" font-size=\"12\" font-style=\"italic\" lengthAdjust=\"spacing\" textLength=\"69\" x=\"43.5\" y=\"57.1387\">«attribute»</text><text fill=\"#000000\" font-family=\"sans-serif\" font-size=\"14\" lengthAdjust=\"spacing\" textLength=\"8\" x=\"70\" y=\"72.9639\">c</text><line style=\"stroke:#181818;stroke-width:0.5;\" x1=\"32.5\" x2=\"123.5\" y1=\"81.2656\" y2=\"81.2656\"/><text fill=\"#000000\" font-family=\"sans-serif\" font-size=\"14\" lengthAdjust=\"spacing\" textLength=\"81\" x=\"37.5\" y=\"108.7795\">= A(\"test2\")</text><text fill=\"#000000\" font-family=\"sans-serif\" font-size=\"14\" font-style=\"italic\" lengthAdjust=\"spacing\" textLength=\"44\" x=\"56\" y=\"93.6123\">values</text></g></a><text fill=\"#000000\" font-family=\"sans-serif\" font-size=\"14\" lengthAdjust=\"spacing\" textLength=\"9\" x=\"688.5\" y=\"57.1982\">p</text><rect fill=\"#FFFFFF\" height=\"12\" style=\"stroke:#181818;stroke-width:1.5;\" width=\"12\" x=\"687\" y=\"72.5\"/><text fill=\"#000000\" font-family=\"sans-serif\" font-size=\"14\" lengthAdjust=\"spacing\" textLength=\"9\" x=\"735.5\" y=\"57.1982\">q</text><rect fill=\"#FFFFFF\" height=\"12\" style=\"stroke:#181818;stroke-width:1.5;\" width=\"12\" x=\"734\" y=\"72.5\"/><text fill=\"#000000\" font-family=\"sans-serif\" font-size=\"14\" lengthAdjust=\"spacing\" textLength=\"39\" x=\"720.5\" y=\"412.7151\">result</text><rect fill=\"#FFFFFF\" height=\"12\" style=\"stroke:#181818;stroke-width:1.5;\" width=\"12\" x=\"734\" y=\"387.72\"/><!--MD5=[05d275557350bfb9b23a4ef7222b4c39]\n",
       "link E3 to E2--><g id=\"link_E3_E2\"><a href=\"psysml:de703d0e-2ba0-4603-81fc-fcf4f6dc7e4d\" target=\"_top\" title=\"psysml:de703d0e-2ba0-4603-81fc-fcf4f6dc7e4d\" xlink:actuate=\"onRequest\" xlink:href=\"psysml:de703d0e-2ba0-4603-81fc-fcf4f6dc7e4d\" xlink:show=\"new\" xlink:title=\"psysml:de703d0e-2ba0-4603-81fc-fcf4f6dc7e4d\" xlink:type=\"simple\"><path d=\"M607.04,102.78 C604.55,117.39 601.21,137.01 597.97,156.04 \" fill=\"none\" id=\"E3-to-E2\" style=\"stroke:#181818;stroke-width:1.0;\"/><polygon fill=\"#FFFFFF\" points=\"594.61,175.8,590.8965,155.895,604.6981,158.2435,594.61,175.8\" style=\"stroke:#181818;stroke-width:1.0;\"/><ellipse cx=\"593.8244\" cy=\"150.6113\" fill=\"#181818\" rx=\"2\" ry=\"2\" style=\"stroke:#181818;stroke-width:1.0;\"/><ellipse cx=\"603.6827\" cy=\"152.2888\" fill=\"#181818\" rx=\"2\" ry=\"2\" style=\"stroke:#181818;stroke-width:1.0;\"/></a></g><!--MD5=[eeedfd1a74495869559f3ec92f463bdc]\n",
       "@startuml\r\n",
       "skin sysmlbw\r\n",
       "skinparam monochrome true\r\n",
       "skinparam wrapWidth 300\r\n",
       "hide circle\r\n",
       "\r\n",
       "package \"ParameterTest\" as E1  [[psysml:23a083da-d633-42aa-b737-bc534de6ad98 ]]  {\r\n",
       "comp def \"A\" as E2  <<(T,blue) attribute  def>> [[psysml:04ef3948-8524-44aa-a324-078bab0d23fb ]] {\r\n",
       "##//attributes//##\r\n",
       "x: String\r\n",
       "y: A\r\n",
       "}\r\n",
       "comp usage \"a: A  \" as E3  <<(T,blue) attribute>> [[psysml:30f6a8e4-9ac7-4724-976d-d9f1147f3701 ]] {\r\n",
       "}\r\n",
       "rec def \"F\" as E4  <<(T,blue) calculation  def>> [[psysml:9fc68d1c-0eda-4ba7-8d2a-4dac99044350 ]] {\r\n",
       "portin \"p\" as E5  [[psysml:c0525d75-8c24-4ff5-9432-36973c13d292 ]] \r\n",
       "portin \"q\" as E6  [[psysml:ea5aeb99-c612-42a4-b65a-a51f249da328 ]] \r\n",
       "portout \"result\" as E7  [[psysml:ef9cf0a8-f443-48d9-b6fd-29ed95d8a001 ]] \r\n",
       "}\r\n",
       "\r\n",
       "comp usage \"f  \" as E8  <<(T,blue) attribute>> [[psysml:201caa5e-7003-43c9-93c7-31c1dd2687e1 ]] {\r\n",
       "##//values//##\r\n",
       " <U+003D> F(a, 2)\r\n",
       "}\r\n",
       "comp usage \"g  \" as E9  <<(T,blue) attribute>> [[psysml:ef9d06c8-83aa-4b51-a725-4880c3e71513 ]] {\r\n",
       "##//values//##\r\n",
       " <U+003D> F(q <U+003D> 1, p <U+003D> a)\r\n",
       "}\r\n",
       "comp usage \"b  \" as E10  <<(T,blue) attribute>> [[psysml:472a68ff-87fb-48cb-b812-c0679e72bd97 ]] {\r\n",
       "##//values//##\r\n",
       " <U+003D> A(y<U+003D>a, x<U+003D>\"\")\r\n",
       "}\r\n",
       "comp usage \"c  \" as E11  <<(T,blue) attribute>> [[psysml:b12c6daa-efd4-472f-91f1-7e0209b6a2bc ]] {\r\n",
       "##//values//##\r\n",
       " <U+003D> A(\"test2\")\r\n",
       "}\r\n",
       "}\r\n",
       "E3 - -:|> E2 [[psysml:de703d0e-2ba0-4603-81fc-fcf4f6dc7e4d ]] \r\n",
       "@enduml\r\n",
       "\n",
       "PlantUML version 1.2022.7(Mon Aug 22 17:01:30 UTC 2022)\n",
       "(EPL source distribution)\n",
       "Java Runtime: OpenJDK Runtime Environment\n",
       "JVM: OpenJDK 64-Bit Server VM\n",
       "Default Encoding: UTF-8\n",
       "Language: en\n",
       "Country: null\n",
       "--></g></svg>"
      ]
     },
     "execution_count": 43,
     "metadata": {},
     "output_type": "execute_result"
    }
   ],
   "source": [
    "%viz --style=\"DEFAULT\" --view=\"MIXED\" \"ParameterTest\""
   ]
  },
  {
   "cell_type": "code",
   "execution_count": 44,
   "id": "8b20556a",
   "metadata": {
    "execution": {
     "iopub.execute_input": "2024-12-16T03:23:36.655017Z",
     "iopub.status.busy": "2024-12-16T03:23:36.654813Z",
     "iopub.status.idle": "2024-12-16T03:23:36.680523Z",
     "shell.execute_reply": "2024-12-16T03:23:36.679642Z"
    }
   },
   "outputs": [
    {
     "data": {
      "image/svg+xml": [
       "<?xml version=\"1.0\" encoding=\"UTF-8\" standalone=\"no\"?><svg xmlns=\"http://www.w3.org/2000/svg\" xmlns:xlink=\"http://www.w3.org/1999/xlink\" contentStyleType=\"text/css\" height=\"430px\" preserveAspectRatio=\"none\" style=\"width:858px;height:430px;background:#FFFFFF;\" version=\"1.1\" viewBox=\"0 0 858 430\" width=\"858px\" zoomAndPan=\"magnify\"><defs/><g><!--MD5=[fbc87193dbaf4d95561dea2c320d4a47]\n",
       "cluster E1--><g id=\"cluster_E1\"><a href=\"psysml:23a083da-d633-42aa-b737-bc534de6ad98\" target=\"_top\" title=\"psysml:23a083da-d633-42aa-b737-bc534de6ad98\" xlink:actuate=\"onRequest\" xlink:href=\"psysml:23a083da-d633-42aa-b737-bc534de6ad98\" xlink:show=\"new\" xlink:title=\"psysml:23a083da-d633-42aa-b737-bc534de6ad98\" xlink:type=\"simple\"><polygon fill=\"none\" points=\"16,6,129.6875,6,136.6875,28.2969,841,28.2969,841,423.72,16,423.72,16,6\" style=\"stroke:#000000;stroke-width:1.5;\"/><line style=\"stroke:#000000;stroke-width:1.5;\" x1=\"16\" x2=\"136.6875\" y1=\"28.2969\" y2=\"28.2969\"/><text fill=\"#000000\" font-family=\"sans-serif\" font-size=\"14\" font-weight=\"bold\" lengthAdjust=\"spacing\" textLength=\"107.6875\" x=\"20\" y=\"20.9951\">ParameterTest</text></a></g><!--MD5=[f6df4d0ebaf0b5dfb2ced0ae5af7c670]\n",
       "cluster E4--><g id=\"cluster_E4\"><a href=\"psysml:9fc68d1c-0eda-4ba7-8d2a-4dac99044350\" target=\"_top\" title=\"psysml:9fc68d1c-0eda-4ba7-8d2a-4dac99044350\" xlink:actuate=\"onRequest\" xlink:href=\"psysml:9fc68d1c-0eda-4ba7-8d2a-4dac99044350\" xlink:show=\"new\" xlink:title=\"psysml:9fc68d1c-0eda-4ba7-8d2a-4dac99044350\" xlink:type=\"simple\"><rect fill=\"#FFFFFF\" height=\"315.22\" id=\"E4\" style=\"stroke:#383838;stroke-width:1.5;\" width=\"150\" x=\"675\" y=\"78.5\"/><text fill=\"#000000\" font-family=\"sans-serif\" font-size=\"12\" font-style=\"italic\" lengthAdjust=\"spacing\" textLength=\"110\" x=\"695\" y=\"94.6387\">«calculation  def»</text><text fill=\"#000000\" font-family=\"sans-serif\" font-size=\"14\" lengthAdjust=\"spacing\" textLength=\"8\" x=\"746\" y=\"110.4639\">F</text><line style=\"stroke:#383838;stroke-width:1.0;\" x1=\"675\" x2=\"825\" y1=\"118.7656\" y2=\"118.7656\"/></a></g><!--MD5=[b4997ac47864f28c2f74865a473b2911]\n",
       "class E2--><a href=\"psysml:04ef3948-8524-44aa-a324-078bab0d23fb\" target=\"_top\" title=\"psysml:04ef3948-8524-44aa-a324-078bab0d23fb\" xlink:actuate=\"onRequest\" xlink:href=\"psysml:04ef3948-8524-44aa-a324-078bab0d23fb\" xlink:show=\"new\" xlink:title=\"psysml:04ef3948-8524-44aa-a324-078bab0d23fb\" xlink:type=\"simple\"><g id=\"elem_E2\"><rect fill=\"#FFFFFF\" height=\"91.3781\" id=\"E2\" style=\"stroke:#181818;stroke-width:0.5;\" width=\"99\" x=\"537.5\" y=\"176\"/><text fill=\"#000000\" font-family=\"sans-serif\" font-size=\"12\" font-style=\"italic\" lengthAdjust=\"spacing\" textLength=\"97\" x=\"538.5\" y=\"192.1387\">«attribute  def»</text><text fill=\"#000000\" font-family=\"sans-serif\" font-size=\"14\" lengthAdjust=\"spacing\" textLength=\"9\" x=\"582.5\" y=\"207.9639\">A</text><line style=\"stroke:#181818;stroke-width:0.5;\" x1=\"538.5\" x2=\"635.5\" y1=\"216.2656\" y2=\"216.2656\"/><text fill=\"#000000\" font-family=\"sans-serif\" font-size=\"14\" lengthAdjust=\"spacing\" textLength=\"56\" x=\"543.5\" y=\"243.7795\">x: String</text><text fill=\"#000000\" font-family=\"sans-serif\" font-size=\"14\" lengthAdjust=\"spacing\" textLength=\"25\" x=\"543.5\" y=\"260.0764\">y: A</text><text fill=\"#000000\" font-family=\"sans-serif\" font-size=\"14\" font-style=\"italic\" lengthAdjust=\"spacing\" textLength=\"66\" x=\"554\" y=\"228.6123\">attributes</text></g></a><!--MD5=[09b614a08d8cba4a07c9adeb5e0fee81]\n",
       "class E3--><a href=\"psysml:30f6a8e4-9ac7-4724-976d-d9f1147f3701\" target=\"_top\" title=\"psysml:30f6a8e4-9ac7-4724-976d-d9f1147f3701\" xlink:actuate=\"onRequest\" xlink:href=\"psysml:30f6a8e4-9ac7-4724-976d-d9f1147f3701\" xlink:show=\"new\" xlink:title=\"psysml:30f6a8e4-9ac7-4724-976d-d9f1147f3701\" xlink:type=\"simple\"><g id=\"elem_E3\"><rect fill=\"#FFFFFF\" height=\"48.2656\" id=\"E3\" rx=\"10\" ry=\"10\" style=\"stroke:#181818;stroke-width:0.5;\" width=\"71\" x=\"575.5\" y=\"54.5\"/><text fill=\"#000000\" font-family=\"sans-serif\" font-size=\"12\" font-style=\"italic\" lengthAdjust=\"spacing\" textLength=\"69\" x=\"576.5\" y=\"70.6387\">«attribute»</text><text fill=\"#000000\" font-family=\"sans-serif\" font-size=\"14\" lengthAdjust=\"spacing\" textLength=\"26\" x=\"594\" y=\"86.4639\">a: A</text><line style=\"stroke:#181818;stroke-width:0.5;\" x1=\"576.5\" x2=\"645.5\" y1=\"94.7656\" y2=\"94.7656\"/></g></a><!--MD5=[b9389687b975829384b498ac4b7476b2]\n",
       "class E8--><a href=\"psysml:201caa5e-7003-43c9-93c7-31c1dd2687e1\" target=\"_top\" title=\"psysml:201caa5e-7003-43c9-93c7-31c1dd2687e1\" xlink:actuate=\"onRequest\" xlink:href=\"psysml:201caa5e-7003-43c9-93c7-31c1dd2687e1\" xlink:show=\"new\" xlink:title=\"psysml:201caa5e-7003-43c9-93c7-31c1dd2687e1\" xlink:type=\"simple\"><g id=\"elem_E8\"><rect fill=\"#FFFFFF\" height=\"75.0813\" id=\"E8\" rx=\"10\" ry=\"10\" style=\"stroke:#181818;stroke-width:0.5;\" width=\"71\" x=\"469.5\" y=\"41\"/><text fill=\"#000000\" font-family=\"sans-serif\" font-size=\"12\" font-style=\"italic\" lengthAdjust=\"spacing\" textLength=\"69\" x=\"470.5\" y=\"57.1387\">«attribute»</text><text fill=\"#000000\" font-family=\"sans-serif\" font-size=\"14\" lengthAdjust=\"spacing\" textLength=\"4\" x=\"499\" y=\"72.9639\">f</text><line style=\"stroke:#181818;stroke-width:0.5;\" x1=\"470.5\" x2=\"539.5\" y1=\"81.2656\" y2=\"81.2656\"/><text fill=\"#000000\" font-family=\"sans-serif\" font-size=\"14\" lengthAdjust=\"spacing\" textLength=\"59\" x=\"475.5\" y=\"108.7795\">= F(a, 2)</text><text fill=\"#000000\" font-family=\"sans-serif\" font-size=\"14\" font-style=\"italic\" lengthAdjust=\"spacing\" textLength=\"44\" x=\"483\" y=\"93.6123\">values</text></g></a><!--MD5=[fd4143e9d270a159db93a4ea2a975926]\n",
       "class E9--><a href=\"psysml:ef9d06c8-83aa-4b51-a725-4880c3e71513\" target=\"_top\" title=\"psysml:ef9d06c8-83aa-4b51-a725-4880c3e71513\" xlink:actuate=\"onRequest\" xlink:href=\"psysml:ef9d06c8-83aa-4b51-a725-4880c3e71513\" xlink:show=\"new\" xlink:title=\"psysml:ef9d06c8-83aa-4b51-a725-4880c3e71513\" xlink:type=\"simple\"><g id=\"elem_E9\"><rect fill=\"#FFFFFF\" height=\"75.0813\" id=\"E9\" rx=\"10\" ry=\"10\" style=\"stroke:#181818;stroke-width:0.5;\" width=\"129\" x=\"305.5\" y=\"41\"/><text fill=\"#000000\" font-family=\"sans-serif\" font-size=\"12\" font-style=\"italic\" lengthAdjust=\"spacing\" textLength=\"69\" x=\"335.5\" y=\"57.1387\">«attribute»</text><text fill=\"#000000\" font-family=\"sans-serif\" font-size=\"14\" lengthAdjust=\"spacing\" textLength=\"9\" x=\"361.5\" y=\"72.9639\">g</text><line style=\"stroke:#181818;stroke-width:0.5;\" x1=\"306.5\" x2=\"433.5\" y1=\"81.2656\" y2=\"81.2656\"/><text fill=\"#000000\" font-family=\"sans-serif\" font-size=\"14\" lengthAdjust=\"spacing\" textLength=\"117\" x=\"311.5\" y=\"108.7795\">= F(q = 1, p = a)</text><text fill=\"#000000\" font-family=\"sans-serif\" font-size=\"14\" font-style=\"italic\" lengthAdjust=\"spacing\" textLength=\"44\" x=\"348\" y=\"93.6123\">values</text></g></a><!--MD5=[96f4274e9e20536e775497830990834d]\n",
       "class E10--><a href=\"psysml:472a68ff-87fb-48cb-b812-c0679e72bd97\" target=\"_top\" title=\"psysml:472a68ff-87fb-48cb-b812-c0679e72bd97\" xlink:actuate=\"onRequest\" xlink:href=\"psysml:472a68ff-87fb-48cb-b812-c0679e72bd97\" xlink:show=\"new\" xlink:title=\"psysml:472a68ff-87fb-48cb-b812-c0679e72bd97\" xlink:type=\"simple\"><g id=\"elem_E10\"><rect fill=\"#FFFFFF\" height=\"75.0813\" id=\"E10\" rx=\"10\" ry=\"10\" style=\"stroke:#181818;stroke-width:0.5;\" width=\"111\" x=\"159.5\" y=\"41\"/><text fill=\"#000000\" font-family=\"sans-serif\" font-size=\"12\" font-style=\"italic\" lengthAdjust=\"spacing\" textLength=\"69\" x=\"180.5\" y=\"57.1387\">«attribute»</text><text fill=\"#000000\" font-family=\"sans-serif\" font-size=\"14\" lengthAdjust=\"spacing\" textLength=\"9\" x=\"206.5\" y=\"72.9639\">b</text><line style=\"stroke:#181818;stroke-width:0.5;\" x1=\"160.5\" x2=\"269.5\" y1=\"81.2656\" y2=\"81.2656\"/><text fill=\"#000000\" font-family=\"sans-serif\" font-size=\"14\" lengthAdjust=\"spacing\" textLength=\"99\" x=\"165.5\" y=\"108.7795\">= A(y=a, x=\"\")</text><text fill=\"#000000\" font-family=\"sans-serif\" font-size=\"14\" font-style=\"italic\" lengthAdjust=\"spacing\" textLength=\"44\" x=\"193\" y=\"93.6123\">values</text></g></a><!--MD5=[1dd1bfd58a279cf63c5f349dbc8fc6a1]\n",
       "class E11--><a href=\"psysml:b12c6daa-efd4-472f-91f1-7e0209b6a2bc\" target=\"_top\" title=\"psysml:b12c6daa-efd4-472f-91f1-7e0209b6a2bc\" xlink:actuate=\"onRequest\" xlink:href=\"psysml:b12c6daa-efd4-472f-91f1-7e0209b6a2bc\" xlink:show=\"new\" xlink:title=\"psysml:b12c6daa-efd4-472f-91f1-7e0209b6a2bc\" xlink:type=\"simple\"><g id=\"elem_E11\"><rect fill=\"#FFFFFF\" height=\"75.0813\" id=\"E11\" rx=\"10\" ry=\"10\" style=\"stroke:#181818;stroke-width:0.5;\" width=\"93\" x=\"31.5\" y=\"41\"/><text fill=\"#000000\" font-family=\"sans-serif\" font-size=\"12\" font-style=\"italic\" lengthAdjust=\"spacing\" textLength=\"69\" x=\"43.5\" y=\"57.1387\">«attribute»</text><text fill=\"#000000\" font-family=\"sans-serif\" font-size=\"14\" lengthAdjust=\"spacing\" textLength=\"8\" x=\"70\" y=\"72.9639\">c</text><line style=\"stroke:#181818;stroke-width:0.5;\" x1=\"32.5\" x2=\"123.5\" y1=\"81.2656\" y2=\"81.2656\"/><text fill=\"#000000\" font-family=\"sans-serif\" font-size=\"14\" lengthAdjust=\"spacing\" textLength=\"81\" x=\"37.5\" y=\"108.7795\">= A(\"test2\")</text><text fill=\"#000000\" font-family=\"sans-serif\" font-size=\"14\" font-style=\"italic\" lengthAdjust=\"spacing\" textLength=\"44\" x=\"56\" y=\"93.6123\">values</text></g></a><text fill=\"#000000\" font-family=\"sans-serif\" font-size=\"14\" lengthAdjust=\"spacing\" textLength=\"9\" x=\"688.5\" y=\"57.1982\">p</text><rect fill=\"#FFFFFF\" height=\"12\" style=\"stroke:#181818;stroke-width:1.5;\" width=\"12\" x=\"687\" y=\"72.5\"/><text fill=\"#000000\" font-family=\"sans-serif\" font-size=\"14\" lengthAdjust=\"spacing\" textLength=\"9\" x=\"735.5\" y=\"57.1982\">q</text><rect fill=\"#FFFFFF\" height=\"12\" style=\"stroke:#181818;stroke-width:1.5;\" width=\"12\" x=\"734\" y=\"72.5\"/><text fill=\"#000000\" font-family=\"sans-serif\" font-size=\"14\" lengthAdjust=\"spacing\" textLength=\"39\" x=\"720.5\" y=\"412.7151\">result</text><rect fill=\"#FFFFFF\" height=\"12\" style=\"stroke:#181818;stroke-width:1.5;\" width=\"12\" x=\"734\" y=\"387.72\"/><!--MD5=[05d275557350bfb9b23a4ef7222b4c39]\n",
       "link E3 to E2--><g id=\"link_E3_E2\"><a href=\"psysml:de703d0e-2ba0-4603-81fc-fcf4f6dc7e4d\" target=\"_top\" title=\"psysml:de703d0e-2ba0-4603-81fc-fcf4f6dc7e4d\" xlink:actuate=\"onRequest\" xlink:href=\"psysml:de703d0e-2ba0-4603-81fc-fcf4f6dc7e4d\" xlink:show=\"new\" xlink:title=\"psysml:de703d0e-2ba0-4603-81fc-fcf4f6dc7e4d\" xlink:type=\"simple\"><path d=\"M607.04,102.78 C604.55,117.39 601.21,137.01 597.97,156.04 \" fill=\"none\" id=\"E3-to-E2\" style=\"stroke:#181818;stroke-width:1.0;\"/><polygon fill=\"#FFFFFF\" points=\"594.61,175.8,590.8965,155.895,604.6981,158.2435,594.61,175.8\" style=\"stroke:#181818;stroke-width:1.0;\"/><ellipse cx=\"593.8244\" cy=\"150.6113\" fill=\"#181818\" rx=\"2\" ry=\"2\" style=\"stroke:#181818;stroke-width:1.0;\"/><ellipse cx=\"603.6827\" cy=\"152.2888\" fill=\"#181818\" rx=\"2\" ry=\"2\" style=\"stroke:#181818;stroke-width:1.0;\"/></a></g><!--MD5=[81b2b54f715ccf81881ffddfdf7426c8]\n",
       "@startuml\r\n",
       "skin sysmlbw\r\n",
       "skinparam monochrome true\r\n",
       "skinparam wrapWidth 300\r\n",
       "hide circle\r\n",
       "top to bottom direction\r\n",
       "\r\n",
       "package \"ParameterTest\" as E1  [[psysml:23a083da-d633-42aa-b737-bc534de6ad98 ]]  {\r\n",
       "comp def \"A\" as E2  <<(T,blue) attribute  def>> [[psysml:04ef3948-8524-44aa-a324-078bab0d23fb ]] {\r\n",
       "##//attributes//##\r\n",
       "x: String\r\n",
       "y: A\r\n",
       "}\r\n",
       "comp usage \"a: A  \" as E3  <<(T,blue) attribute>> [[psysml:30f6a8e4-9ac7-4724-976d-d9f1147f3701 ]] {\r\n",
       "}\r\n",
       "rec def \"F\" as E4  <<(T,blue) calculation  def>> [[psysml:9fc68d1c-0eda-4ba7-8d2a-4dac99044350 ]] {\r\n",
       "portin \"p\" as E5  [[psysml:c0525d75-8c24-4ff5-9432-36973c13d292 ]] \r\n",
       "portin \"q\" as E6  [[psysml:ea5aeb99-c612-42a4-b65a-a51f249da328 ]] \r\n",
       "portout \"result\" as E7  [[psysml:ef9cf0a8-f443-48d9-b6fd-29ed95d8a001 ]] \r\n",
       "}\r\n",
       "\r\n",
       "comp usage \"f  \" as E8  <<(T,blue) attribute>> [[psysml:201caa5e-7003-43c9-93c7-31c1dd2687e1 ]] {\r\n",
       "##//values//##\r\n",
       " <U+003D> F(a, 2)\r\n",
       "}\r\n",
       "comp usage \"g  \" as E9  <<(T,blue) attribute>> [[psysml:ef9d06c8-83aa-4b51-a725-4880c3e71513 ]] {\r\n",
       "##//values//##\r\n",
       " <U+003D> F(q <U+003D> 1, p <U+003D> a)\r\n",
       "}\r\n",
       "comp usage \"b  \" as E10  <<(T,blue) attribute>> [[psysml:472a68ff-87fb-48cb-b812-c0679e72bd97 ]] {\r\n",
       "##//values//##\r\n",
       " <U+003D> A(y<U+003D>a, x<U+003D>\"\")\r\n",
       "}\r\n",
       "comp usage \"c  \" as E11  <<(T,blue) attribute>> [[psysml:b12c6daa-efd4-472f-91f1-7e0209b6a2bc ]] {\r\n",
       "##//values//##\r\n",
       " <U+003D> A(\"test2\")\r\n",
       "}\r\n",
       "}\r\n",
       "E3 - -:|> E2 [[psysml:de703d0e-2ba0-4603-81fc-fcf4f6dc7e4d ]] \r\n",
       "@enduml\r\n",
       "\n",
       "PlantUML version 1.2022.7(Mon Aug 22 17:01:30 UTC 2022)\n",
       "(EPL source distribution)\n",
       "Java Runtime: OpenJDK Runtime Environment\n",
       "JVM: OpenJDK 64-Bit Server VM\n",
       "Default Encoding: UTF-8\n",
       "Language: en\n",
       "Country: null\n",
       "--></g></svg>"
      ]
     },
     "execution_count": 44,
     "metadata": {},
     "output_type": "execute_result"
    }
   ],
   "source": [
    "%viz --style=\"TB\" --view=\"Default\" \"ParameterTest\""
   ]
  },
  {
   "cell_type": "code",
   "execution_count": 45,
   "id": "c5fda38e",
   "metadata": {
    "execution": {
     "iopub.execute_input": "2024-12-16T03:23:36.736905Z",
     "iopub.status.busy": "2024-12-16T03:23:36.736566Z",
     "iopub.status.idle": "2024-12-16T03:23:36.762774Z",
     "shell.execute_reply": "2024-12-16T03:23:36.761881Z"
    }
   },
   "outputs": [
    {
     "data": {
      "image/svg+xml": [
       "<?xml version=\"1.0\" encoding=\"UTF-8\" standalone=\"no\"?><svg xmlns=\"http://www.w3.org/2000/svg\" xmlns:xlink=\"http://www.w3.org/1999/xlink\" contentStyleType=\"text/css\" height=\"307px\" preserveAspectRatio=\"none\" style=\"width:828px;height:307px;background:#FFFFFF;\" version=\"1.1\" viewBox=\"0 0 828 307\" width=\"828px\" zoomAndPan=\"magnify\"><defs/><g><!--MD5=[fbc87193dbaf4d95561dea2c320d4a47]\n",
       "cluster E1--><g id=\"cluster_E1\"><a href=\"psysml:23a083da-d633-42aa-b737-bc534de6ad98\" target=\"_top\" title=\"psysml:23a083da-d633-42aa-b737-bc534de6ad98\" xlink:actuate=\"onRequest\" xlink:href=\"psysml:23a083da-d633-42aa-b737-bc534de6ad98\" xlink:show=\"new\" xlink:title=\"psysml:23a083da-d633-42aa-b737-bc534de6ad98\" xlink:type=\"simple\"><polygon fill=\"none\" points=\"16,6,129.6875,6,136.6875,28.2969,811,28.2969,811,300,16,300,16,6\" style=\"stroke:#000000;stroke-width:1.5;\"/><line style=\"stroke:#000000;stroke-width:1.5;\" x1=\"16\" x2=\"136.6875\" y1=\"28.2969\" y2=\"28.2969\"/><text fill=\"#000000\" font-family=\"sans-serif\" font-size=\"14\" font-weight=\"bold\" lengthAdjust=\"spacing\" textLength=\"107.6875\" x=\"20\" y=\"20.9951\">ParameterTest</text></a></g><!--MD5=[b4997ac47864f28c2f74865a473b2911]\n",
       "class E2--><a href=\"psysml:04ef3948-8524-44aa-a324-078bab0d23fb\" target=\"_top\" title=\"psysml:04ef3948-8524-44aa-a324-078bab0d23fb\" xlink:actuate=\"onRequest\" xlink:href=\"psysml:04ef3948-8524-44aa-a324-078bab0d23fb\" xlink:show=\"new\" xlink:title=\"psysml:04ef3948-8524-44aa-a324-078bab0d23fb\" xlink:type=\"simple\"><g id=\"elem_E2\"><rect fill=\"#FFFFFF\" height=\"91.3781\" id=\"E2\" style=\"stroke:#181818;stroke-width:0.5;\" width=\"99\" x=\"618.5\" y=\"193\"/><text fill=\"#000000\" font-family=\"sans-serif\" font-size=\"12\" font-style=\"italic\" lengthAdjust=\"spacing\" textLength=\"97\" x=\"619.5\" y=\"209.1387\">«attribute  def»</text><text fill=\"#000000\" font-family=\"sans-serif\" font-size=\"14\" lengthAdjust=\"spacing\" textLength=\"9\" x=\"663.5\" y=\"224.9639\">A</text><line style=\"stroke:#181818;stroke-width:0.5;\" x1=\"619.5\" x2=\"716.5\" y1=\"233.2656\" y2=\"233.2656\"/><text fill=\"#000000\" font-family=\"sans-serif\" font-size=\"14\" lengthAdjust=\"spacing\" textLength=\"56\" x=\"624.5\" y=\"260.7795\">x: String</text><text fill=\"#000000\" font-family=\"sans-serif\" font-size=\"14\" lengthAdjust=\"spacing\" textLength=\"25\" x=\"624.5\" y=\"277.0764\">y: A</text><text fill=\"#000000\" font-family=\"sans-serif\" font-size=\"14\" font-style=\"italic\" lengthAdjust=\"spacing\" textLength=\"66\" x=\"635\" y=\"245.6123\">attributes</text></g></a><!--MD5=[09b614a08d8cba4a07c9adeb5e0fee81]\n",
       "class E3--><a href=\"psysml:30f6a8e4-9ac7-4724-976d-d9f1147f3701\" target=\"_top\" title=\"psysml:30f6a8e4-9ac7-4724-976d-d9f1147f3701\" xlink:actuate=\"onRequest\" xlink:href=\"psysml:30f6a8e4-9ac7-4724-976d-d9f1147f3701\" xlink:show=\"new\" xlink:title=\"psysml:30f6a8e4-9ac7-4724-976d-d9f1147f3701\" xlink:type=\"simple\"><g id=\"elem_E3\"><rect fill=\"#FFFFFF\" height=\"48.2656\" id=\"E3\" rx=\"10\" ry=\"10\" style=\"stroke:#181818;stroke-width:0.5;\" width=\"71\" x=\"723.5\" y=\"54.5\"/><text fill=\"#000000\" font-family=\"sans-serif\" font-size=\"12\" font-style=\"italic\" lengthAdjust=\"spacing\" textLength=\"69\" x=\"724.5\" y=\"70.6387\">«attribute»</text><text fill=\"#000000\" font-family=\"sans-serif\" font-size=\"14\" lengthAdjust=\"spacing\" textLength=\"26\" x=\"742\" y=\"86.4639\">a: A</text><line style=\"stroke:#181818;stroke-width:0.5;\" x1=\"724.5\" x2=\"793.5\" y1=\"94.7656\" y2=\"94.7656\"/></g></a><!--MD5=[ebbe1d658d1005bcc118a6aa81145e00]\n",
       "class E4--><a href=\"psysml:9fc68d1c-0eda-4ba7-8d2a-4dac99044350\" target=\"_top\" title=\"psysml:9fc68d1c-0eda-4ba7-8d2a-4dac99044350\" xlink:actuate=\"onRequest\" xlink:href=\"psysml:9fc68d1c-0eda-4ba7-8d2a-4dac99044350\" xlink:show=\"new\" xlink:title=\"psysml:9fc68d1c-0eda-4ba7-8d2a-4dac99044350\" xlink:type=\"simple\"><g id=\"elem_E4\"><rect fill=\"#FFFFFF\" height=\"48.2656\" id=\"E4\" style=\"stroke:#181818;stroke-width:0.5;\" width=\"112\" x=\"576\" y=\"54.5\"/><text fill=\"#000000\" font-family=\"sans-serif\" font-size=\"12\" font-style=\"italic\" lengthAdjust=\"spacing\" textLength=\"110\" x=\"577\" y=\"70.6387\">«calculation  def»</text><text fill=\"#000000\" font-family=\"sans-serif\" font-size=\"14\" lengthAdjust=\"spacing\" textLength=\"8\" x=\"628\" y=\"86.4639\">F</text><line style=\"stroke:#181818;stroke-width:0.5;\" x1=\"577\" x2=\"687\" y1=\"94.7656\" y2=\"94.7656\"/></g></a><!--MD5=[270fce915f116d4de14055a7c1d9a0f3]\n",
       "class E5--><a href=\"psysml:201caa5e-7003-43c9-93c7-31c1dd2687e1\" target=\"_top\" title=\"psysml:201caa5e-7003-43c9-93c7-31c1dd2687e1\" xlink:actuate=\"onRequest\" xlink:href=\"psysml:201caa5e-7003-43c9-93c7-31c1dd2687e1\" xlink:show=\"new\" xlink:title=\"psysml:201caa5e-7003-43c9-93c7-31c1dd2687e1\" xlink:type=\"simple\"><g id=\"elem_E5\"><rect fill=\"#FFFFFF\" height=\"75.0813\" id=\"E5\" rx=\"10\" ry=\"10\" style=\"stroke:#181818;stroke-width:0.5;\" width=\"71\" x=\"469.5\" y=\"41\"/><text fill=\"#000000\" font-family=\"sans-serif\" font-size=\"12\" font-style=\"italic\" lengthAdjust=\"spacing\" textLength=\"69\" x=\"470.5\" y=\"57.1387\">«attribute»</text><text fill=\"#000000\" font-family=\"sans-serif\" font-size=\"14\" lengthAdjust=\"spacing\" textLength=\"4\" x=\"499\" y=\"72.9639\">f</text><line style=\"stroke:#181818;stroke-width:0.5;\" x1=\"470.5\" x2=\"539.5\" y1=\"81.2656\" y2=\"81.2656\"/><text fill=\"#000000\" font-family=\"sans-serif\" font-size=\"14\" lengthAdjust=\"spacing\" textLength=\"59\" x=\"475.5\" y=\"108.7795\">= F(a, 2)</text><text fill=\"#000000\" font-family=\"sans-serif\" font-size=\"14\" font-style=\"italic\" lengthAdjust=\"spacing\" textLength=\"44\" x=\"483\" y=\"93.6123\">values</text></g></a><!--MD5=[60a26617385b1d2d0262a64233df1f8d]\n",
       "class E6--><a href=\"psysml:ef9d06c8-83aa-4b51-a725-4880c3e71513\" target=\"_top\" title=\"psysml:ef9d06c8-83aa-4b51-a725-4880c3e71513\" xlink:actuate=\"onRequest\" xlink:href=\"psysml:ef9d06c8-83aa-4b51-a725-4880c3e71513\" xlink:show=\"new\" xlink:title=\"psysml:ef9d06c8-83aa-4b51-a725-4880c3e71513\" xlink:type=\"simple\"><g id=\"elem_E6\"><rect fill=\"#FFFFFF\" height=\"75.0813\" id=\"E6\" rx=\"10\" ry=\"10\" style=\"stroke:#181818;stroke-width:0.5;\" width=\"129\" x=\"305.5\" y=\"41\"/><text fill=\"#000000\" font-family=\"sans-serif\" font-size=\"12\" font-style=\"italic\" lengthAdjust=\"spacing\" textLength=\"69\" x=\"335.5\" y=\"57.1387\">«attribute»</text><text fill=\"#000000\" font-family=\"sans-serif\" font-size=\"14\" lengthAdjust=\"spacing\" textLength=\"9\" x=\"361.5\" y=\"72.9639\">g</text><line style=\"stroke:#181818;stroke-width:0.5;\" x1=\"306.5\" x2=\"433.5\" y1=\"81.2656\" y2=\"81.2656\"/><text fill=\"#000000\" font-family=\"sans-serif\" font-size=\"14\" lengthAdjust=\"spacing\" textLength=\"117\" x=\"311.5\" y=\"108.7795\">= F(q = 1, p = a)</text><text fill=\"#000000\" font-family=\"sans-serif\" font-size=\"14\" font-style=\"italic\" lengthAdjust=\"spacing\" textLength=\"44\" x=\"348\" y=\"93.6123\">values</text></g></a><!--MD5=[2156ba9850f5573cc1fc38a6a4b2f02b]\n",
       "class E7--><a href=\"psysml:472a68ff-87fb-48cb-b812-c0679e72bd97\" target=\"_top\" title=\"psysml:472a68ff-87fb-48cb-b812-c0679e72bd97\" xlink:actuate=\"onRequest\" xlink:href=\"psysml:472a68ff-87fb-48cb-b812-c0679e72bd97\" xlink:show=\"new\" xlink:title=\"psysml:472a68ff-87fb-48cb-b812-c0679e72bd97\" xlink:type=\"simple\"><g id=\"elem_E7\"><rect fill=\"#FFFFFF\" height=\"75.0813\" id=\"E7\" rx=\"10\" ry=\"10\" style=\"stroke:#181818;stroke-width:0.5;\" width=\"111\" x=\"159.5\" y=\"41\"/><text fill=\"#000000\" font-family=\"sans-serif\" font-size=\"12\" font-style=\"italic\" lengthAdjust=\"spacing\" textLength=\"69\" x=\"180.5\" y=\"57.1387\">«attribute»</text><text fill=\"#000000\" font-family=\"sans-serif\" font-size=\"14\" lengthAdjust=\"spacing\" textLength=\"9\" x=\"206.5\" y=\"72.9639\">b</text><line style=\"stroke:#181818;stroke-width:0.5;\" x1=\"160.5\" x2=\"269.5\" y1=\"81.2656\" y2=\"81.2656\"/><text fill=\"#000000\" font-family=\"sans-serif\" font-size=\"14\" lengthAdjust=\"spacing\" textLength=\"99\" x=\"165.5\" y=\"108.7795\">= A(y=a, x=\"\")</text><text fill=\"#000000\" font-family=\"sans-serif\" font-size=\"14\" font-style=\"italic\" lengthAdjust=\"spacing\" textLength=\"44\" x=\"193\" y=\"93.6123\">values</text></g></a><!--MD5=[b9389687b975829384b498ac4b7476b2]\n",
       "class E8--><a href=\"psysml:b12c6daa-efd4-472f-91f1-7e0209b6a2bc\" target=\"_top\" title=\"psysml:b12c6daa-efd4-472f-91f1-7e0209b6a2bc\" xlink:actuate=\"onRequest\" xlink:href=\"psysml:b12c6daa-efd4-472f-91f1-7e0209b6a2bc\" xlink:show=\"new\" xlink:title=\"psysml:b12c6daa-efd4-472f-91f1-7e0209b6a2bc\" xlink:type=\"simple\"><g id=\"elem_E8\"><rect fill=\"#FFFFFF\" height=\"75.0813\" id=\"E8\" rx=\"10\" ry=\"10\" style=\"stroke:#181818;stroke-width:0.5;\" width=\"93\" x=\"31.5\" y=\"41\"/><text fill=\"#000000\" font-family=\"sans-serif\" font-size=\"12\" font-style=\"italic\" lengthAdjust=\"spacing\" textLength=\"69\" x=\"43.5\" y=\"57.1387\">«attribute»</text><text fill=\"#000000\" font-family=\"sans-serif\" font-size=\"14\" lengthAdjust=\"spacing\" textLength=\"8\" x=\"70\" y=\"72.9639\">c</text><line style=\"stroke:#181818;stroke-width:0.5;\" x1=\"32.5\" x2=\"123.5\" y1=\"81.2656\" y2=\"81.2656\"/><text fill=\"#000000\" font-family=\"sans-serif\" font-size=\"14\" lengthAdjust=\"spacing\" textLength=\"81\" x=\"37.5\" y=\"108.7795\">= A(\"test2\")</text><text fill=\"#000000\" font-family=\"sans-serif\" font-size=\"14\" font-style=\"italic\" lengthAdjust=\"spacing\" textLength=\"44\" x=\"56\" y=\"93.6123\">values</text></g></a><!--MD5=[05d275557350bfb9b23a4ef7222b4c39]\n",
       "link E3 to E2--><g id=\"link_E3_E2\"><a href=\"psysml:de703d0e-2ba0-4603-81fc-fcf4f6dc7e4d\" target=\"_top\" title=\"psysml:de703d0e-2ba0-4603-81fc-fcf4f6dc7e4d\" xlink:actuate=\"onRequest\" xlink:href=\"psysml:de703d0e-2ba0-4603-81fc-fcf4f6dc7e4d\" xlink:show=\"new\" xlink:title=\"psysml:de703d0e-2ba0-4603-81fc-fcf4f6dc7e4d\" xlink:type=\"simple\"><path d=\"M745.57,102.81 C734.58,121.9 718.5,149.81 703.83,175.29 \" fill=\"none\" id=\"E3-to-E2\" style=\"stroke:#181818;stroke-width:1.0;\"/><polygon fill=\"#FFFFFF\" points=\"693.74,192.81,697.1615,172.8527,709.2915,179.8428,693.74,192.81\" style=\"stroke:#181818;stroke-width:1.0;\"/><ellipse cx=\"701.7403\" cy=\"168.9126\" fill=\"#181818\" rx=\"2\" ry=\"2\" style=\"stroke:#181818;stroke-width:1.0;\"/><ellipse cx=\"710.4046\" cy=\"173.9055\" fill=\"#181818\" rx=\"2\" ry=\"2\" style=\"stroke:#181818;stroke-width:1.0;\"/></a></g><!--MD5=[ddeed8deb2209213b62e6cfabaa108b2]\n",
       "reverse link E4 to E2--><g id=\"link_E4_E2\"><a href=\"psysml:c0525d75-8c24-4ff5-9432-36973c13d292\" target=\"_top\" title=\"psysml:c0525d75-8c24-4ff5-9432-36973c13d292\" xlink:actuate=\"onRequest\" xlink:href=\"psysml:c0525d75-8c24-4ff5-9432-36973c13d292\" xlink:show=\"new\" xlink:title=\"psysml:c0525d75-8c24-4ff5-9432-36973c13d292\" xlink:type=\"simple\"><path d=\"M640.26,115.75 C645.48,138.66 652.27,168.44 657.82,192.81 \" fill=\"none\" id=\"E4-backto-E2\" style=\"stroke:#181818;stroke-width:1.0;\"/><polygon fill=\"none\" points=\"637.31,102.81,634.7405,109.5478,639.9717,114.5111,642.5412,107.7733,637.31,102.81\" style=\"stroke:#181818;stroke-width:1.0;\"/><text fill=\"#000000\" font-family=\"sans-serif\" font-size=\"13\" lengthAdjust=\"spacing\" textLength=\"8\" x=\"651\" y=\"159.0669\">p</text></a></g><!--MD5=[0e2d7f2f2d5f6c90457e1437c07c5c82]\n",
       "@startuml\r\n",
       "skin sysmlbw\r\n",
       "skinparam monochrome true\r\n",
       "skinparam wrapWidth 300\r\n",
       "hide circle\r\n",
       "top to bottom direction\r\n",
       "\r\n",
       "package \"ParameterTest\" as E1  [[psysml:23a083da-d633-42aa-b737-bc534de6ad98 ]]  {\r\n",
       "comp def \"A\" as E2  <<(T,blue) attribute  def>> [[psysml:04ef3948-8524-44aa-a324-078bab0d23fb ]] {\r\n",
       "##//attributes//##\r\n",
       "x: String\r\n",
       "y: A\r\n",
       "}\r\n",
       "comp usage \"a: A  \" as E3  <<(T,blue) attribute>> [[psysml:30f6a8e4-9ac7-4724-976d-d9f1147f3701 ]] {\r\n",
       "}\r\n",
       "comp def \"F\" as E4  <<(T,blue) calculation  def>> [[psysml:9fc68d1c-0eda-4ba7-8d2a-4dac99044350 ]] {\r\n",
       "}\r\n",
       "comp usage \"f  \" as E5  <<(T,blue) attribute>> [[psysml:201caa5e-7003-43c9-93c7-31c1dd2687e1 ]] {\r\n",
       "##//values//##\r\n",
       " <U+003D> F(a, 2)\r\n",
       "}\r\n",
       "comp usage \"g  \" as E6  <<(T,blue) attribute>> [[psysml:ef9d06c8-83aa-4b51-a725-4880c3e71513 ]] {\r\n",
       "##//values//##\r\n",
       " <U+003D> F(q <U+003D> 1, p <U+003D> a)\r\n",
       "}\r\n",
       "comp usage \"b  \" as E7  <<(T,blue) attribute>> [[psysml:472a68ff-87fb-48cb-b812-c0679e72bd97 ]] {\r\n",
       "##//values//##\r\n",
       " <U+003D> A(y<U+003D>a, x<U+003D>\"\")\r\n",
       "}\r\n",
       "comp usage \"c  \" as E8  <<(T,blue) attribute>> [[psysml:b12c6daa-efd4-472f-91f1-7e0209b6a2bc ]] {\r\n",
       "##//values//##\r\n",
       " <U+003D> A(\"test2\")\r\n",
       "}\r\n",
       "}\r\n",
       "E3 - -:|> E2 [[psysml:de703d0e-2ba0-4603-81fc-fcf4f6dc7e4d ]] \r\n",
       "E4 o- - E2 [[psysml:c0525d75-8c24-4ff5-9432-36973c13d292 ]] : p\r\n",
       "@enduml\r\n",
       "\n",
       "PlantUML version 1.2022.7(Mon Aug 22 17:01:30 UTC 2022)\n",
       "(EPL source distribution)\n",
       "Java Runtime: OpenJDK Runtime Environment\n",
       "JVM: OpenJDK 64-Bit Server VM\n",
       "Default Encoding: UTF-8\n",
       "Language: en\n",
       "Country: null\n",
       "--></g></svg>"
      ]
     },
     "execution_count": 45,
     "metadata": {},
     "output_type": "execute_result"
    }
   ],
   "source": [
    "%viz --style=\"TB\" --view=\"Tree\" \"ParameterTest\""
   ]
  },
  {
   "cell_type": "code",
   "execution_count": 46,
   "id": "c51b1c62",
   "metadata": {
    "execution": {
     "iopub.execute_input": "2024-12-16T03:23:36.818455Z",
     "iopub.status.busy": "2024-12-16T03:23:36.818228Z",
     "iopub.status.idle": "2024-12-16T03:23:36.824112Z",
     "shell.execute_reply": "2024-12-16T03:23:36.823913Z"
    }
   },
   "outputs": [
    {
     "data": {
      "image/svg+xml": [
       "<?xml version=\"1.0\" encoding=\"UTF-8\" standalone=\"no\"?><svg xmlns=\"http://www.w3.org/2000/svg\" xmlns:xlink=\"http://www.w3.org/1999/xlink\" contentStyleType=\"text/css\" height=\"10px\" preserveAspectRatio=\"none\" style=\"width:10px;height:10px;background:#FFFFFF;\" version=\"1.1\" viewBox=\"0 0 10 10\" width=\"10px\" zoomAndPan=\"magnify\"><defs/><g><!--MD5=[457d54036ad86991b1ebb71db2c9a3b1]\n",
       "@startuml\r\n",
       "skin sysmlbw\r\n",
       "skinparam monochrome true\r\n",
       "skinparam wrapWidth 300\r\n",
       "hide circle\r\n",
       "top to bottom direction\r\n",
       "\r\n",
       "@enduml\r\n",
       "\n",
       "PlantUML version 1.2022.7(Mon Aug 22 17:01:30 UTC 2022)\n",
       "(EPL source distribution)\n",
       "Java Runtime: OpenJDK Runtime Environment\n",
       "JVM: OpenJDK 64-Bit Server VM\n",
       "Default Encoding: UTF-8\n",
       "Language: en\n",
       "Country: null\n",
       "--></g></svg>"
      ]
     },
     "execution_count": 46,
     "metadata": {},
     "output_type": "execute_result"
    }
   ],
   "source": [
    "%viz --style=\"TB\" --view=\"State\" \"ParameterTest\""
   ]
  },
  {
   "cell_type": "code",
   "execution_count": 47,
   "id": "a9d0582e",
   "metadata": {
    "execution": {
     "iopub.execute_input": "2024-12-16T03:23:36.878879Z",
     "iopub.status.busy": "2024-12-16T03:23:36.878659Z",
     "iopub.status.idle": "2024-12-16T03:23:36.900727Z",
     "shell.execute_reply": "2024-12-16T03:23:36.899616Z"
    }
   },
   "outputs": [
    {
     "data": {
      "image/svg+xml": [
       "<?xml version=\"1.0\" encoding=\"UTF-8\" standalone=\"no\"?><svg xmlns=\"http://www.w3.org/2000/svg\" xmlns:xlink=\"http://www.w3.org/1999/xlink\" contentStyleType=\"text/css\" height=\"241px\" preserveAspectRatio=\"none\" style=\"width:858px;height:241px;background:#FFFFFF;\" version=\"1.1\" viewBox=\"0 0 858 241\" width=\"858px\" zoomAndPan=\"magnify\"><defs/><g><!--MD5=[fbc87193dbaf4d95561dea2c320d4a47]\n",
       "cluster E1--><g id=\"cluster_E1\"><a href=\"psysml:23a083da-d633-42aa-b737-bc534de6ad98\" target=\"_top\" title=\"psysml:23a083da-d633-42aa-b737-bc534de6ad98\" xlink:actuate=\"onRequest\" xlink:href=\"psysml:23a083da-d633-42aa-b737-bc534de6ad98\" xlink:show=\"new\" xlink:title=\"psysml:23a083da-d633-42aa-b737-bc534de6ad98\" xlink:type=\"simple\"><polygon fill=\"none\" points=\"16,6,129.6875,6,136.6875,28.2969,841,28.2969,841,234.72,16,234.72,16,6\" style=\"stroke:#000000;stroke-width:1.5;\"/><line style=\"stroke:#000000;stroke-width:1.5;\" x1=\"16\" x2=\"136.6875\" y1=\"28.2969\" y2=\"28.2969\"/><text fill=\"#000000\" font-family=\"sans-serif\" font-size=\"14\" font-weight=\"bold\" lengthAdjust=\"spacing\" textLength=\"107.6875\" x=\"20\" y=\"20.9951\">ParameterTest</text></a></g><!--MD5=[f6df4d0ebaf0b5dfb2ced0ae5af7c670]\n",
       "cluster E4--><g id=\"cluster_E4\"><a href=\"psysml:9fc68d1c-0eda-4ba7-8d2a-4dac99044350\" target=\"_top\" title=\"psysml:9fc68d1c-0eda-4ba7-8d2a-4dac99044350\" xlink:actuate=\"onRequest\" xlink:href=\"psysml:9fc68d1c-0eda-4ba7-8d2a-4dac99044350\" xlink:show=\"new\" xlink:title=\"psysml:9fc68d1c-0eda-4ba7-8d2a-4dac99044350\" xlink:type=\"simple\"><rect fill=\"#FFFFFF\" height=\"126.22\" id=\"E4\" style=\"stroke:#383838;stroke-width:1.5;\" width=\"150\" x=\"675\" y=\"78.5\"/><text fill=\"#000000\" font-family=\"sans-serif\" font-size=\"12\" font-style=\"italic\" lengthAdjust=\"spacing\" textLength=\"110\" x=\"695\" y=\"94.6387\">«calculation  def»</text><text fill=\"#000000\" font-family=\"sans-serif\" font-size=\"14\" lengthAdjust=\"spacing\" textLength=\"8\" x=\"746\" y=\"110.4639\">F</text><line style=\"stroke:#383838;stroke-width:1.0;\" x1=\"675\" x2=\"825\" y1=\"118.7656\" y2=\"118.7656\"/></a></g><g><a href=\"psysml:04ef3948-8524-44aa-a324-078bab0d23fb\" target=\"_top\" title=\"psysml:04ef3948-8524-44aa-a324-078bab0d23fb\" xlink:actuate=\"onRequest\" xlink:href=\"psysml:04ef3948-8524-44aa-a324-078bab0d23fb\" xlink:show=\"new\" xlink:title=\"psysml:04ef3948-8524-44aa-a324-078bab0d23fb\" xlink:type=\"simple\"><rect fill=\"#FFFFFF\" height=\"45.2656\" id=\"E2\" style=\"stroke:#383838;stroke-width:1.5;\" width=\"104\" x=\"532\" y=\"127\"/><text fill=\"#000000\" font-family=\"sans-serif\" font-size=\"12\" font-style=\"italic\" lengthAdjust=\"spacing\" textLength=\"97\" x=\"535.5\" y=\"143.1387\">«attribute  def»</text><text fill=\"#000000\" font-family=\"sans-serif\" font-size=\"14\" lengthAdjust=\"spacing\" textLength=\"9\" x=\"579.5\" y=\"158.9639\">A</text></a></g><!--MD5=[09b614a08d8cba4a07c9adeb5e0fee81]\n",
       "class E3--><a href=\"psysml:30f6a8e4-9ac7-4724-976d-d9f1147f3701\" target=\"_top\" title=\"psysml:30f6a8e4-9ac7-4724-976d-d9f1147f3701\" xlink:actuate=\"onRequest\" xlink:href=\"psysml:30f6a8e4-9ac7-4724-976d-d9f1147f3701\" xlink:show=\"new\" xlink:title=\"psysml:30f6a8e4-9ac7-4724-976d-d9f1147f3701\" xlink:type=\"simple\"><g id=\"elem_E3\"><rect fill=\"#FFFFFF\" height=\"48.2656\" id=\"E3\" rx=\"10\" ry=\"10\" style=\"stroke:#181818;stroke-width:0.5;\" width=\"71\" x=\"575.5\" y=\"54.5\"/><text fill=\"#000000\" font-family=\"sans-serif\" font-size=\"12\" font-style=\"italic\" lengthAdjust=\"spacing\" textLength=\"69\" x=\"576.5\" y=\"70.6387\">«attribute»</text><text fill=\"#000000\" font-family=\"sans-serif\" font-size=\"14\" lengthAdjust=\"spacing\" textLength=\"26\" x=\"594\" y=\"86.4639\">a: A</text><line style=\"stroke:#181818;stroke-width:0.5;\" x1=\"576.5\" x2=\"645.5\" y1=\"94.7656\" y2=\"94.7656\"/></g></a><!--MD5=[b9389687b975829384b498ac4b7476b2]\n",
       "class E8--><a href=\"psysml:201caa5e-7003-43c9-93c7-31c1dd2687e1\" target=\"_top\" title=\"psysml:201caa5e-7003-43c9-93c7-31c1dd2687e1\" xlink:actuate=\"onRequest\" xlink:href=\"psysml:201caa5e-7003-43c9-93c7-31c1dd2687e1\" xlink:show=\"new\" xlink:title=\"psysml:201caa5e-7003-43c9-93c7-31c1dd2687e1\" xlink:type=\"simple\"><g id=\"elem_E8\"><rect fill=\"#FFFFFF\" height=\"75.0813\" id=\"E8\" rx=\"10\" ry=\"10\" style=\"stroke:#181818;stroke-width:0.5;\" width=\"71\" x=\"469.5\" y=\"41\"/><text fill=\"#000000\" font-family=\"sans-serif\" font-size=\"12\" font-style=\"italic\" lengthAdjust=\"spacing\" textLength=\"69\" x=\"470.5\" y=\"57.1387\">«attribute»</text><text fill=\"#000000\" font-family=\"sans-serif\" font-size=\"14\" lengthAdjust=\"spacing\" textLength=\"4\" x=\"499\" y=\"72.9639\">f</text><line style=\"stroke:#181818;stroke-width:0.5;\" x1=\"470.5\" x2=\"539.5\" y1=\"81.2656\" y2=\"81.2656\"/><text fill=\"#000000\" font-family=\"sans-serif\" font-size=\"14\" lengthAdjust=\"spacing\" textLength=\"59\" x=\"475.5\" y=\"108.7795\">= F(a, 2)</text><text fill=\"#000000\" font-family=\"sans-serif\" font-size=\"14\" font-style=\"italic\" lengthAdjust=\"spacing\" textLength=\"44\" x=\"483\" y=\"93.6123\">values</text></g></a><!--MD5=[fd4143e9d270a159db93a4ea2a975926]\n",
       "class E9--><a href=\"psysml:ef9d06c8-83aa-4b51-a725-4880c3e71513\" target=\"_top\" title=\"psysml:ef9d06c8-83aa-4b51-a725-4880c3e71513\" xlink:actuate=\"onRequest\" xlink:href=\"psysml:ef9d06c8-83aa-4b51-a725-4880c3e71513\" xlink:show=\"new\" xlink:title=\"psysml:ef9d06c8-83aa-4b51-a725-4880c3e71513\" xlink:type=\"simple\"><g id=\"elem_E9\"><rect fill=\"#FFFFFF\" height=\"75.0813\" id=\"E9\" rx=\"10\" ry=\"10\" style=\"stroke:#181818;stroke-width:0.5;\" width=\"129\" x=\"305.5\" y=\"41\"/><text fill=\"#000000\" font-family=\"sans-serif\" font-size=\"12\" font-style=\"italic\" lengthAdjust=\"spacing\" textLength=\"69\" x=\"335.5\" y=\"57.1387\">«attribute»</text><text fill=\"#000000\" font-family=\"sans-serif\" font-size=\"14\" lengthAdjust=\"spacing\" textLength=\"9\" x=\"361.5\" y=\"72.9639\">g</text><line style=\"stroke:#181818;stroke-width:0.5;\" x1=\"306.5\" x2=\"433.5\" y1=\"81.2656\" y2=\"81.2656\"/><text fill=\"#000000\" font-family=\"sans-serif\" font-size=\"14\" lengthAdjust=\"spacing\" textLength=\"117\" x=\"311.5\" y=\"108.7795\">= F(q = 1, p = a)</text><text fill=\"#000000\" font-family=\"sans-serif\" font-size=\"14\" font-style=\"italic\" lengthAdjust=\"spacing\" textLength=\"44\" x=\"348\" y=\"93.6123\">values</text></g></a><!--MD5=[96f4274e9e20536e775497830990834d]\n",
       "class E10--><a href=\"psysml:472a68ff-87fb-48cb-b812-c0679e72bd97\" target=\"_top\" title=\"psysml:472a68ff-87fb-48cb-b812-c0679e72bd97\" xlink:actuate=\"onRequest\" xlink:href=\"psysml:472a68ff-87fb-48cb-b812-c0679e72bd97\" xlink:show=\"new\" xlink:title=\"psysml:472a68ff-87fb-48cb-b812-c0679e72bd97\" xlink:type=\"simple\"><g id=\"elem_E10\"><rect fill=\"#FFFFFF\" height=\"75.0813\" id=\"E10\" rx=\"10\" ry=\"10\" style=\"stroke:#181818;stroke-width:0.5;\" width=\"111\" x=\"159.5\" y=\"41\"/><text fill=\"#000000\" font-family=\"sans-serif\" font-size=\"12\" font-style=\"italic\" lengthAdjust=\"spacing\" textLength=\"69\" x=\"180.5\" y=\"57.1387\">«attribute»</text><text fill=\"#000000\" font-family=\"sans-serif\" font-size=\"14\" lengthAdjust=\"spacing\" textLength=\"9\" x=\"206.5\" y=\"72.9639\">b</text><line style=\"stroke:#181818;stroke-width:0.5;\" x1=\"160.5\" x2=\"269.5\" y1=\"81.2656\" y2=\"81.2656\"/><text fill=\"#000000\" font-family=\"sans-serif\" font-size=\"14\" lengthAdjust=\"spacing\" textLength=\"99\" x=\"165.5\" y=\"108.7795\">= A(y=a, x=\"\")</text><text fill=\"#000000\" font-family=\"sans-serif\" font-size=\"14\" font-style=\"italic\" lengthAdjust=\"spacing\" textLength=\"44\" x=\"193\" y=\"93.6123\">values</text></g></a><!--MD5=[1dd1bfd58a279cf63c5f349dbc8fc6a1]\n",
       "class E11--><a href=\"psysml:b12c6daa-efd4-472f-91f1-7e0209b6a2bc\" target=\"_top\" title=\"psysml:b12c6daa-efd4-472f-91f1-7e0209b6a2bc\" xlink:actuate=\"onRequest\" xlink:href=\"psysml:b12c6daa-efd4-472f-91f1-7e0209b6a2bc\" xlink:show=\"new\" xlink:title=\"psysml:b12c6daa-efd4-472f-91f1-7e0209b6a2bc\" xlink:type=\"simple\"><g id=\"elem_E11\"><rect fill=\"#FFFFFF\" height=\"75.0813\" id=\"E11\" rx=\"10\" ry=\"10\" style=\"stroke:#181818;stroke-width:0.5;\" width=\"93\" x=\"31.5\" y=\"41\"/><text fill=\"#000000\" font-family=\"sans-serif\" font-size=\"12\" font-style=\"italic\" lengthAdjust=\"spacing\" textLength=\"69\" x=\"43.5\" y=\"57.1387\">«attribute»</text><text fill=\"#000000\" font-family=\"sans-serif\" font-size=\"14\" lengthAdjust=\"spacing\" textLength=\"8\" x=\"70\" y=\"72.9639\">c</text><line style=\"stroke:#181818;stroke-width:0.5;\" x1=\"32.5\" x2=\"123.5\" y1=\"81.2656\" y2=\"81.2656\"/><text fill=\"#000000\" font-family=\"sans-serif\" font-size=\"14\" lengthAdjust=\"spacing\" textLength=\"81\" x=\"37.5\" y=\"108.7795\">= A(\"test2\")</text><text fill=\"#000000\" font-family=\"sans-serif\" font-size=\"14\" font-style=\"italic\" lengthAdjust=\"spacing\" textLength=\"44\" x=\"56\" y=\"93.6123\">values</text></g></a><text fill=\"#000000\" font-family=\"sans-serif\" font-size=\"14\" lengthAdjust=\"spacing\" textLength=\"9\" x=\"688.5\" y=\"57.1982\">p</text><rect fill=\"#FFFFFF\" height=\"12\" style=\"stroke:#181818;stroke-width:1.5;\" width=\"12\" x=\"687\" y=\"72.5\"/><text fill=\"#000000\" font-family=\"sans-serif\" font-size=\"14\" lengthAdjust=\"spacing\" textLength=\"9\" x=\"735.5\" y=\"57.1982\">q</text><rect fill=\"#FFFFFF\" height=\"12\" style=\"stroke:#181818;stroke-width:1.5;\" width=\"12\" x=\"734\" y=\"72.5\"/><text fill=\"#000000\" font-family=\"sans-serif\" font-size=\"14\" lengthAdjust=\"spacing\" textLength=\"39\" x=\"720.5\" y=\"223.7151\">result</text><rect fill=\"#FFFFFF\" height=\"12\" style=\"stroke:#181818;stroke-width:1.5;\" width=\"12\" x=\"734\" y=\"198.72\"/><!--MD5=[05d275557350bfb9b23a4ef7222b4c39]\n",
       "link E3 to E2--><g id=\"link_E3_E2\"><a href=\"psysml:de703d0e-2ba0-4603-81fc-fcf4f6dc7e4d\" target=\"_top\" title=\"psysml:de703d0e-2ba0-4603-81fc-fcf4f6dc7e4d\" xlink:actuate=\"onRequest\" xlink:href=\"psysml:de703d0e-2ba0-4603-81fc-fcf4f6dc7e4d\" xlink:show=\"new\" xlink:title=\"psysml:de703d0e-2ba0-4603-81fc-fcf4f6dc7e4d\" xlink:type=\"simple\"><path d=\"M601.86,102.86 C601.25,104.42 600.63,106.01 600,107.62 \" fill=\"none\" id=\"E3-to-E2\" style=\"stroke:#181818;stroke-width:1.0;\"/><polygon fill=\"#FFFFFF\" points=\"592.58,126.56,592.9814,106.3155,606.0197,111.4149,592.58,126.56\" style=\"stroke:#181818;stroke-width:1.0;\"/><ellipse cx=\"596.9201\" cy=\"101.7356\" fill=\"#181818\" rx=\"2\" ry=\"2\" style=\"stroke:#181818;stroke-width:1.0;\"/><ellipse cx=\"606.2332\" cy=\"105.3779\" fill=\"#181818\" rx=\"2\" ry=\"2\" style=\"stroke:#181818;stroke-width:1.0;\"/></a></g><!--MD5=[70cbdbc0b274a71b28e97cf69ec2f26b]\n",
       "@startuml\r\n",
       "skin sysmlbw\r\n",
       "skinparam monochrome true\r\n",
       "skinparam wrapWidth 300\r\n",
       "hide circle\r\n",
       "top to bottom direction\r\n",
       "skinparam ranksep 10\r\n",
       "skinparam rectangle {\r\n",
       " backgroundColor<<block>> LightGreen\r\n",
       "}\r\n",
       "\r\n",
       "package \"ParameterTest\" as E1  [[psysml:23a083da-d633-42aa-b737-bc534de6ad98 ]]  {\r\n",
       "def \"A\" as E2  <<(T,blue) attribute  def>> [[psysml:04ef3948-8524-44aa-a324-078bab0d23fb ]] \r\n",
       "comp usage \"a: A  \" as E3  <<(T,blue) attribute>> [[psysml:30f6a8e4-9ac7-4724-976d-d9f1147f3701 ]] {\r\n",
       "}\r\n",
       "rec def \"F\" as E4  <<(T,blue) calculation  def>> [[psysml:9fc68d1c-0eda-4ba7-8d2a-4dac99044350 ]] {\r\n",
       "portin \"p\" as E5  [[psysml:c0525d75-8c24-4ff5-9432-36973c13d292 ]] \r\n",
       "portin \"q\" as E6  [[psysml:ea5aeb99-c612-42a4-b65a-a51f249da328 ]] \r\n",
       "portout \"result\" as E7  [[psysml:ef9cf0a8-f443-48d9-b6fd-29ed95d8a001 ]] \r\n",
       "}\r\n",
       "\r\n",
       "comp usage \"f  \" as E8  <<(T,blue) attribute>> [[psysml:201caa5e-7003-43c9-93c7-31c1dd2687e1 ]] {\r\n",
       "##//values//##\r\n",
       " <U+003D> F(a, 2)\r\n",
       "}\r\n",
       "comp usage \"g  \" as E9  <<(T,blue) attribute>> [[psysml:ef9d06c8-83aa-4b51-a725-4880c3e71513 ]] {\r\n",
       "##//values//##\r\n",
       " <U+003D> F(q <U+003D> 1, p <U+003D> a)\r\n",
       "}\r\n",
       "comp usage \"b  \" as E10  <<(T,blue) attribute>> [[psysml:472a68ff-87fb-48cb-b812-c0679e72bd97 ]] {\r\n",
       "##//values//##\r\n",
       " <U+003D> A(y<U+003D>a, x<U+003D>\"\")\r\n",
       "}\r\n",
       "comp usage \"c  \" as E11  <<(T,blue) attribute>> [[psysml:b12c6daa-efd4-472f-91f1-7e0209b6a2bc ]] {\r\n",
       "##//values//##\r\n",
       " <U+003D> A(\"test2\")\r\n",
       "}\r\n",
       "}\r\n",
       "E3 - -:|> E2 [[psysml:de703d0e-2ba0-4603-81fc-fcf4f6dc7e4d ]] \r\n",
       "@enduml\r\n",
       "\n",
       "PlantUML version 1.2022.7(Mon Aug 22 17:01:30 UTC 2022)\n",
       "(EPL source distribution)\n",
       "Java Runtime: OpenJDK Runtime Environment\n",
       "JVM: OpenJDK 64-Bit Server VM\n",
       "Default Encoding: UTF-8\n",
       "Language: en\n",
       "Country: null\n",
       "--></g></svg>"
      ]
     },
     "execution_count": 47,
     "metadata": {},
     "output_type": "execute_result"
    }
   ],
   "source": [
    "%viz --style=\"TB\" --view=\"Interconnection\" \"ParameterTest\""
   ]
  },
  {
   "cell_type": "code",
   "execution_count": 48,
   "id": "bd0206ab",
   "metadata": {
    "execution": {
     "iopub.execute_input": "2024-12-16T03:23:36.956902Z",
     "iopub.status.busy": "2024-12-16T03:23:36.956675Z",
     "iopub.status.idle": "2024-12-16T03:23:36.971578Z",
     "shell.execute_reply": "2024-12-16T03:23:36.971397Z"
    }
   },
   "outputs": [
    {
     "data": {
      "image/svg+xml": [
       "<?xml version=\"1.0\" encoding=\"UTF-8\" standalone=\"no\"?><svg xmlns=\"http://www.w3.org/2000/svg\" xmlns:xlink=\"http://www.w3.org/1999/xlink\" contentStyleType=\"text/css\" height=\"157px\" preserveAspectRatio=\"none\" style=\"width:164px;height:157px;background:#FFFFFF;\" version=\"1.1\" viewBox=\"0 0 164 157\" width=\"164px\" zoomAndPan=\"magnify\"><defs/><g><!--MD5=[fbc87193dbaf4d95561dea2c320d4a47]\n",
       "cluster E1--><g id=\"cluster_E1\"><a href=\"psysml:9fc68d1c-0eda-4ba7-8d2a-4dac99044350\" target=\"_top\" title=\"psysml:9fc68d1c-0eda-4ba7-8d2a-4dac99044350\" xlink:actuate=\"onRequest\" xlink:href=\"psysml:9fc68d1c-0eda-4ba7-8d2a-4dac99044350\" xlink:show=\"new\" xlink:title=\"psysml:9fc68d1c-0eda-4ba7-8d2a-4dac99044350\" xlink:type=\"simple\"><rect fill=\"#FFFFFF\" height=\"87.72\" id=\"E1\" style=\"stroke:#383838;stroke-width:1.5;\" width=\"150\" x=\"7\" y=\"42.0986\"/><text fill=\"#000000\" font-family=\"sans-serif\" font-size=\"12\" font-style=\"italic\" lengthAdjust=\"spacing\" textLength=\"110\" x=\"27\" y=\"58.2373\">«calculation  def»</text><text fill=\"#000000\" font-family=\"sans-serif\" font-size=\"14\" lengthAdjust=\"spacing\" textLength=\"8\" x=\"78\" y=\"74.0625\">F</text><line style=\"stroke:#383838;stroke-width:1.0;\" x1=\"7\" x2=\"157\" y1=\"82.3643\" y2=\"82.3643\"/></a></g><text fill=\"#000000\" font-family=\"sans-serif\" font-size=\"14\" lengthAdjust=\"spacing\" textLength=\"9\" x=\"20.5\" y=\"20.7969\">p</text><rect fill=\"#FFFFFF\" height=\"12\" style=\"stroke:#181818;stroke-width:1.5;\" width=\"12\" x=\"19\" y=\"36.0986\"/><text fill=\"#000000\" font-family=\"sans-serif\" font-size=\"14\" lengthAdjust=\"spacing\" textLength=\"9\" x=\"67.5\" y=\"20.7969\">q</text><rect fill=\"#FFFFFF\" height=\"12\" style=\"stroke:#181818;stroke-width:1.5;\" width=\"12\" x=\"66\" y=\"36.0986\"/><text fill=\"#000000\" font-family=\"sans-serif\" font-size=\"14\" lengthAdjust=\"spacing\" textLength=\"39\" x=\"52.5\" y=\"148.8138\">result</text><rect fill=\"#FFFFFF\" height=\"12\" style=\"stroke:#181818;stroke-width:1.5;\" width=\"12\" x=\"66\" y=\"123.8186\"/><!--MD5=[93074094ac22d8b7bde6ed23ba585b75]\n",
       "@startuml\r\n",
       "skin sysmlbw\r\n",
       "skinparam monochrome true\r\n",
       "skinparam wrapWidth 300\r\n",
       "hide circle\r\n",
       "top to bottom direction\r\n",
       "skinparam ranksep 8\r\n",
       "\r\n",
       "rec def \"F\" as E1  <<(T,blue) calculation  def>> [[psysml:9fc68d1c-0eda-4ba7-8d2a-4dac99044350 ]] {\r\n",
       "portin \"p\" as E2  [[psysml:c0525d75-8c24-4ff5-9432-36973c13d292 ]] \r\n",
       "portin \"q\" as E3  [[psysml:ea5aeb99-c612-42a4-b65a-a51f249da328 ]] \r\n",
       "portout \"result\" as E4  [[psysml:ef9cf0a8-f443-48d9-b6fd-29ed95d8a001 ]] \r\n",
       "}\r\n",
       "\r\n",
       "@enduml\r\n",
       "\n",
       "PlantUML version 1.2022.7(Mon Aug 22 17:01:30 UTC 2022)\n",
       "(EPL source distribution)\n",
       "Java Runtime: OpenJDK Runtime Environment\n",
       "JVM: OpenJDK 64-Bit Server VM\n",
       "Default Encoding: UTF-8\n",
       "Language: en\n",
       "Country: null\n",
       "--></g></svg>"
      ]
     },
     "execution_count": 48,
     "metadata": {},
     "output_type": "execute_result"
    }
   ],
   "source": [
    "%viz --style=\"TB\" --view=\"Action\" \"ParameterTest\""
   ]
  },
  {
   "cell_type": "code",
   "execution_count": 49,
   "id": "5fbc3e09",
   "metadata": {
    "execution": {
     "iopub.execute_input": "2024-12-16T03:23:37.027910Z",
     "iopub.status.busy": "2024-12-16T03:23:37.027662Z",
     "iopub.status.idle": "2024-12-16T03:23:37.035085Z",
     "shell.execute_reply": "2024-12-16T03:23:37.034672Z"
    }
   },
   "outputs": [
    {
     "data": {
      "image/svg+xml": [
       "<?xml version=\"1.0\" encoding=\"UTF-8\" standalone=\"no\"?><svg xmlns=\"http://www.w3.org/2000/svg\" xmlns:xlink=\"http://www.w3.org/1999/xlink\" contentStyleType=\"text/css\" height=\"10px\" preserveAspectRatio=\"none\" style=\"width:10px;height:10px;background:#FFFFFF;\" version=\"1.1\" viewBox=\"0 0 10 10\" width=\"10px\" zoomAndPan=\"magnify\"><defs/><g><!--MD5=[228a58293b408a2cee091b1559da5a28]\n",
       "@startuml\r\n",
       "skin sysmlbw\r\n",
       "skinparam monochrome true\r\n",
       "skinparam wrapWidth 300\r\n",
       "hide circle\r\n",
       "top to bottom direction\r\n",
       "skinparam roundcorner 20\r\n",
       "skinparam BoxPadding 20\r\n",
       "skinparam SequenceBoxBackgroundColor #white\r\n",
       "skinparam style strictuml\r\n",
       "skinparam maxMessageSize 100\r\n",
       "\r\n",
       "@enduml\r\n",
       "\n",
       "PlantUML version 1.2022.7(Mon Aug 22 17:01:30 UTC 2022)\n",
       "(EPL source distribution)\n",
       "Java Runtime: OpenJDK Runtime Environment\n",
       "JVM: OpenJDK 64-Bit Server VM\n",
       "Default Encoding: UTF-8\n",
       "Language: en\n",
       "Country: null\n",
       "--></g></svg>"
      ]
     },
     "execution_count": 49,
     "metadata": {},
     "output_type": "execute_result"
    }
   ],
   "source": [
    "%viz --style=\"TB\" --view=\"Sequence\" \"ParameterTest\""
   ]
  },
  {
   "cell_type": "code",
   "execution_count": 50,
   "id": "47da1a3f",
   "metadata": {
    "execution": {
     "iopub.execute_input": "2024-12-16T03:23:37.087030Z",
     "iopub.status.busy": "2024-12-16T03:23:37.086751Z",
     "iopub.status.idle": "2024-12-16T03:23:37.117124Z",
     "shell.execute_reply": "2024-12-16T03:23:37.116203Z"
    }
   },
   "outputs": [
    {
     "data": {
      "image/svg+xml": [
       "<?xml version=\"1.0\" encoding=\"UTF-8\" standalone=\"no\"?><svg xmlns=\"http://www.w3.org/2000/svg\" xmlns:xlink=\"http://www.w3.org/1999/xlink\" contentStyleType=\"text/css\" height=\"430px\" preserveAspectRatio=\"none\" style=\"width:858px;height:430px;background:#FFFFFF;\" version=\"1.1\" viewBox=\"0 0 858 430\" width=\"858px\" zoomAndPan=\"magnify\"><defs/><g><!--MD5=[fbc87193dbaf4d95561dea2c320d4a47]\n",
       "cluster E1--><g id=\"cluster_E1\"><a href=\"psysml:23a083da-d633-42aa-b737-bc534de6ad98\" target=\"_top\" title=\"psysml:23a083da-d633-42aa-b737-bc534de6ad98\" xlink:actuate=\"onRequest\" xlink:href=\"psysml:23a083da-d633-42aa-b737-bc534de6ad98\" xlink:show=\"new\" xlink:title=\"psysml:23a083da-d633-42aa-b737-bc534de6ad98\" xlink:type=\"simple\"><polygon fill=\"none\" points=\"16,6,129.6875,6,136.6875,28.2969,841,28.2969,841,423.72,16,423.72,16,6\" style=\"stroke:#000000;stroke-width:1.5;\"/><line style=\"stroke:#000000;stroke-width:1.5;\" x1=\"16\" x2=\"136.6875\" y1=\"28.2969\" y2=\"28.2969\"/><text fill=\"#000000\" font-family=\"sans-serif\" font-size=\"14\" font-weight=\"bold\" lengthAdjust=\"spacing\" textLength=\"107.6875\" x=\"20\" y=\"20.9951\">ParameterTest</text></a></g><!--MD5=[f6df4d0ebaf0b5dfb2ced0ae5af7c670]\n",
       "cluster E4--><g id=\"cluster_E4\"><a href=\"psysml:9fc68d1c-0eda-4ba7-8d2a-4dac99044350\" target=\"_top\" title=\"psysml:9fc68d1c-0eda-4ba7-8d2a-4dac99044350\" xlink:actuate=\"onRequest\" xlink:href=\"psysml:9fc68d1c-0eda-4ba7-8d2a-4dac99044350\" xlink:show=\"new\" xlink:title=\"psysml:9fc68d1c-0eda-4ba7-8d2a-4dac99044350\" xlink:type=\"simple\"><rect fill=\"#FFFFFF\" height=\"315.22\" id=\"E4\" style=\"stroke:#383838;stroke-width:1.5;\" width=\"150\" x=\"675\" y=\"78.5\"/><text fill=\"#000000\" font-family=\"sans-serif\" font-size=\"12\" font-style=\"italic\" lengthAdjust=\"spacing\" textLength=\"110\" x=\"695\" y=\"94.6387\">«calculation  def»</text><text fill=\"#000000\" font-family=\"sans-serif\" font-size=\"14\" lengthAdjust=\"spacing\" textLength=\"8\" x=\"746\" y=\"110.4639\">F</text><line style=\"stroke:#383838;stroke-width:1.0;\" x1=\"675\" x2=\"825\" y1=\"118.7656\" y2=\"118.7656\"/></a></g><!--MD5=[b4997ac47864f28c2f74865a473b2911]\n",
       "class E2--><a href=\"psysml:04ef3948-8524-44aa-a324-078bab0d23fb\" target=\"_top\" title=\"psysml:04ef3948-8524-44aa-a324-078bab0d23fb\" xlink:actuate=\"onRequest\" xlink:href=\"psysml:04ef3948-8524-44aa-a324-078bab0d23fb\" xlink:show=\"new\" xlink:title=\"psysml:04ef3948-8524-44aa-a324-078bab0d23fb\" xlink:type=\"simple\"><g id=\"elem_E2\"><rect fill=\"#FFFFFF\" height=\"91.3781\" id=\"E2\" style=\"stroke:#181818;stroke-width:0.5;\" width=\"99\" x=\"537.5\" y=\"176\"/><text fill=\"#000000\" font-family=\"sans-serif\" font-size=\"12\" font-style=\"italic\" lengthAdjust=\"spacing\" textLength=\"97\" x=\"538.5\" y=\"192.1387\">«attribute  def»</text><text fill=\"#000000\" font-family=\"sans-serif\" font-size=\"14\" lengthAdjust=\"spacing\" textLength=\"9\" x=\"582.5\" y=\"207.9639\">A</text><line style=\"stroke:#181818;stroke-width:0.5;\" x1=\"538.5\" x2=\"635.5\" y1=\"216.2656\" y2=\"216.2656\"/><text fill=\"#000000\" font-family=\"sans-serif\" font-size=\"14\" lengthAdjust=\"spacing\" textLength=\"56\" x=\"543.5\" y=\"243.7795\">x: String</text><text fill=\"#000000\" font-family=\"sans-serif\" font-size=\"14\" lengthAdjust=\"spacing\" textLength=\"25\" x=\"543.5\" y=\"260.0764\">y: A</text><text fill=\"#000000\" font-family=\"sans-serif\" font-size=\"14\" font-style=\"italic\" lengthAdjust=\"spacing\" textLength=\"66\" x=\"554\" y=\"228.6123\">attributes</text></g></a><!--MD5=[09b614a08d8cba4a07c9adeb5e0fee81]\n",
       "class E3--><a href=\"psysml:30f6a8e4-9ac7-4724-976d-d9f1147f3701\" target=\"_top\" title=\"psysml:30f6a8e4-9ac7-4724-976d-d9f1147f3701\" xlink:actuate=\"onRequest\" xlink:href=\"psysml:30f6a8e4-9ac7-4724-976d-d9f1147f3701\" xlink:show=\"new\" xlink:title=\"psysml:30f6a8e4-9ac7-4724-976d-d9f1147f3701\" xlink:type=\"simple\"><g id=\"elem_E3\"><rect fill=\"#FFFFFF\" height=\"48.2656\" id=\"E3\" rx=\"10\" ry=\"10\" style=\"stroke:#181818;stroke-width:0.5;\" width=\"71\" x=\"575.5\" y=\"54.5\"/><text fill=\"#000000\" font-family=\"sans-serif\" font-size=\"12\" font-style=\"italic\" lengthAdjust=\"spacing\" textLength=\"69\" x=\"576.5\" y=\"70.6387\">«attribute»</text><text fill=\"#000000\" font-family=\"sans-serif\" font-size=\"14\" lengthAdjust=\"spacing\" textLength=\"26\" x=\"594\" y=\"86.4639\">a: A</text><line style=\"stroke:#181818;stroke-width:0.5;\" x1=\"576.5\" x2=\"645.5\" y1=\"94.7656\" y2=\"94.7656\"/></g></a><!--MD5=[b9389687b975829384b498ac4b7476b2]\n",
       "class E8--><a href=\"psysml:201caa5e-7003-43c9-93c7-31c1dd2687e1\" target=\"_top\" title=\"psysml:201caa5e-7003-43c9-93c7-31c1dd2687e1\" xlink:actuate=\"onRequest\" xlink:href=\"psysml:201caa5e-7003-43c9-93c7-31c1dd2687e1\" xlink:show=\"new\" xlink:title=\"psysml:201caa5e-7003-43c9-93c7-31c1dd2687e1\" xlink:type=\"simple\"><g id=\"elem_E8\"><rect fill=\"#FFFFFF\" height=\"75.0813\" id=\"E8\" rx=\"10\" ry=\"10\" style=\"stroke:#181818;stroke-width:0.5;\" width=\"71\" x=\"469.5\" y=\"41\"/><text fill=\"#000000\" font-family=\"sans-serif\" font-size=\"12\" font-style=\"italic\" lengthAdjust=\"spacing\" textLength=\"69\" x=\"470.5\" y=\"57.1387\">«attribute»</text><text fill=\"#000000\" font-family=\"sans-serif\" font-size=\"14\" lengthAdjust=\"spacing\" textLength=\"4\" x=\"499\" y=\"72.9639\">f</text><line style=\"stroke:#181818;stroke-width:0.5;\" x1=\"470.5\" x2=\"539.5\" y1=\"81.2656\" y2=\"81.2656\"/><text fill=\"#000000\" font-family=\"sans-serif\" font-size=\"14\" lengthAdjust=\"spacing\" textLength=\"59\" x=\"475.5\" y=\"108.7795\">= F(a, 2)</text><text fill=\"#000000\" font-family=\"sans-serif\" font-size=\"14\" font-style=\"italic\" lengthAdjust=\"spacing\" textLength=\"44\" x=\"483\" y=\"93.6123\">values</text></g></a><!--MD5=[fd4143e9d270a159db93a4ea2a975926]\n",
       "class E9--><a href=\"psysml:ef9d06c8-83aa-4b51-a725-4880c3e71513\" target=\"_top\" title=\"psysml:ef9d06c8-83aa-4b51-a725-4880c3e71513\" xlink:actuate=\"onRequest\" xlink:href=\"psysml:ef9d06c8-83aa-4b51-a725-4880c3e71513\" xlink:show=\"new\" xlink:title=\"psysml:ef9d06c8-83aa-4b51-a725-4880c3e71513\" xlink:type=\"simple\"><g id=\"elem_E9\"><rect fill=\"#FFFFFF\" height=\"75.0813\" id=\"E9\" rx=\"10\" ry=\"10\" style=\"stroke:#181818;stroke-width:0.5;\" width=\"129\" x=\"305.5\" y=\"41\"/><text fill=\"#000000\" font-family=\"sans-serif\" font-size=\"12\" font-style=\"italic\" lengthAdjust=\"spacing\" textLength=\"69\" x=\"335.5\" y=\"57.1387\">«attribute»</text><text fill=\"#000000\" font-family=\"sans-serif\" font-size=\"14\" lengthAdjust=\"spacing\" textLength=\"9\" x=\"361.5\" y=\"72.9639\">g</text><line style=\"stroke:#181818;stroke-width:0.5;\" x1=\"306.5\" x2=\"433.5\" y1=\"81.2656\" y2=\"81.2656\"/><text fill=\"#000000\" font-family=\"sans-serif\" font-size=\"14\" lengthAdjust=\"spacing\" textLength=\"117\" x=\"311.5\" y=\"108.7795\">= F(q = 1, p = a)</text><text fill=\"#000000\" font-family=\"sans-serif\" font-size=\"14\" font-style=\"italic\" lengthAdjust=\"spacing\" textLength=\"44\" x=\"348\" y=\"93.6123\">values</text></g></a><!--MD5=[96f4274e9e20536e775497830990834d]\n",
       "class E10--><a href=\"psysml:472a68ff-87fb-48cb-b812-c0679e72bd97\" target=\"_top\" title=\"psysml:472a68ff-87fb-48cb-b812-c0679e72bd97\" xlink:actuate=\"onRequest\" xlink:href=\"psysml:472a68ff-87fb-48cb-b812-c0679e72bd97\" xlink:show=\"new\" xlink:title=\"psysml:472a68ff-87fb-48cb-b812-c0679e72bd97\" xlink:type=\"simple\"><g id=\"elem_E10\"><rect fill=\"#FFFFFF\" height=\"75.0813\" id=\"E10\" rx=\"10\" ry=\"10\" style=\"stroke:#181818;stroke-width:0.5;\" width=\"111\" x=\"159.5\" y=\"41\"/><text fill=\"#000000\" font-family=\"sans-serif\" font-size=\"12\" font-style=\"italic\" lengthAdjust=\"spacing\" textLength=\"69\" x=\"180.5\" y=\"57.1387\">«attribute»</text><text fill=\"#000000\" font-family=\"sans-serif\" font-size=\"14\" lengthAdjust=\"spacing\" textLength=\"9\" x=\"206.5\" y=\"72.9639\">b</text><line style=\"stroke:#181818;stroke-width:0.5;\" x1=\"160.5\" x2=\"269.5\" y1=\"81.2656\" y2=\"81.2656\"/><text fill=\"#000000\" font-family=\"sans-serif\" font-size=\"14\" lengthAdjust=\"spacing\" textLength=\"99\" x=\"165.5\" y=\"108.7795\">= A(y=a, x=\"\")</text><text fill=\"#000000\" font-family=\"sans-serif\" font-size=\"14\" font-style=\"italic\" lengthAdjust=\"spacing\" textLength=\"44\" x=\"193\" y=\"93.6123\">values</text></g></a><!--MD5=[1dd1bfd58a279cf63c5f349dbc8fc6a1]\n",
       "class E11--><a href=\"psysml:b12c6daa-efd4-472f-91f1-7e0209b6a2bc\" target=\"_top\" title=\"psysml:b12c6daa-efd4-472f-91f1-7e0209b6a2bc\" xlink:actuate=\"onRequest\" xlink:href=\"psysml:b12c6daa-efd4-472f-91f1-7e0209b6a2bc\" xlink:show=\"new\" xlink:title=\"psysml:b12c6daa-efd4-472f-91f1-7e0209b6a2bc\" xlink:type=\"simple\"><g id=\"elem_E11\"><rect fill=\"#FFFFFF\" height=\"75.0813\" id=\"E11\" rx=\"10\" ry=\"10\" style=\"stroke:#181818;stroke-width:0.5;\" width=\"93\" x=\"31.5\" y=\"41\"/><text fill=\"#000000\" font-family=\"sans-serif\" font-size=\"12\" font-style=\"italic\" lengthAdjust=\"spacing\" textLength=\"69\" x=\"43.5\" y=\"57.1387\">«attribute»</text><text fill=\"#000000\" font-family=\"sans-serif\" font-size=\"14\" lengthAdjust=\"spacing\" textLength=\"8\" x=\"70\" y=\"72.9639\">c</text><line style=\"stroke:#181818;stroke-width:0.5;\" x1=\"32.5\" x2=\"123.5\" y1=\"81.2656\" y2=\"81.2656\"/><text fill=\"#000000\" font-family=\"sans-serif\" font-size=\"14\" lengthAdjust=\"spacing\" textLength=\"81\" x=\"37.5\" y=\"108.7795\">= A(\"test2\")</text><text fill=\"#000000\" font-family=\"sans-serif\" font-size=\"14\" font-style=\"italic\" lengthAdjust=\"spacing\" textLength=\"44\" x=\"56\" y=\"93.6123\">values</text></g></a><text fill=\"#000000\" font-family=\"sans-serif\" font-size=\"14\" lengthAdjust=\"spacing\" textLength=\"9\" x=\"688.5\" y=\"57.1982\">p</text><rect fill=\"#FFFFFF\" height=\"12\" style=\"stroke:#181818;stroke-width:1.5;\" width=\"12\" x=\"687\" y=\"72.5\"/><text fill=\"#000000\" font-family=\"sans-serif\" font-size=\"14\" lengthAdjust=\"spacing\" textLength=\"9\" x=\"735.5\" y=\"57.1982\">q</text><rect fill=\"#FFFFFF\" height=\"12\" style=\"stroke:#181818;stroke-width:1.5;\" width=\"12\" x=\"734\" y=\"72.5\"/><text fill=\"#000000\" font-family=\"sans-serif\" font-size=\"14\" lengthAdjust=\"spacing\" textLength=\"39\" x=\"720.5\" y=\"412.7151\">result</text><rect fill=\"#FFFFFF\" height=\"12\" style=\"stroke:#181818;stroke-width:1.5;\" width=\"12\" x=\"734\" y=\"387.72\"/><!--MD5=[05d275557350bfb9b23a4ef7222b4c39]\n",
       "link E3 to E2--><g id=\"link_E3_E2\"><a href=\"psysml:de703d0e-2ba0-4603-81fc-fcf4f6dc7e4d\" target=\"_top\" title=\"psysml:de703d0e-2ba0-4603-81fc-fcf4f6dc7e4d\" xlink:actuate=\"onRequest\" xlink:href=\"psysml:de703d0e-2ba0-4603-81fc-fcf4f6dc7e4d\" xlink:show=\"new\" xlink:title=\"psysml:de703d0e-2ba0-4603-81fc-fcf4f6dc7e4d\" xlink:type=\"simple\"><path d=\"M607.04,102.78 C604.55,117.39 601.21,137.01 597.97,156.04 \" fill=\"none\" id=\"E3-to-E2\" style=\"stroke:#181818;stroke-width:1.0;\"/><polygon fill=\"#FFFFFF\" points=\"594.61,175.8,590.8965,155.895,604.6981,158.2435,594.61,175.8\" style=\"stroke:#181818;stroke-width:1.0;\"/><ellipse cx=\"593.8244\" cy=\"150.6113\" fill=\"#181818\" rx=\"2\" ry=\"2\" style=\"stroke:#181818;stroke-width:1.0;\"/><ellipse cx=\"603.6827\" cy=\"152.2888\" fill=\"#181818\" rx=\"2\" ry=\"2\" style=\"stroke:#181818;stroke-width:1.0;\"/></a></g><!--MD5=[81b2b54f715ccf81881ffddfdf7426c8]\n",
       "@startuml\r\n",
       "skin sysmlbw\r\n",
       "skinparam monochrome true\r\n",
       "skinparam wrapWidth 300\r\n",
       "hide circle\r\n",
       "top to bottom direction\r\n",
       "\r\n",
       "package \"ParameterTest\" as E1  [[psysml:23a083da-d633-42aa-b737-bc534de6ad98 ]]  {\r\n",
       "comp def \"A\" as E2  <<(T,blue) attribute  def>> [[psysml:04ef3948-8524-44aa-a324-078bab0d23fb ]] {\r\n",
       "##//attributes//##\r\n",
       "x: String\r\n",
       "y: A\r\n",
       "}\r\n",
       "comp usage \"a: A  \" as E3  <<(T,blue) attribute>> [[psysml:30f6a8e4-9ac7-4724-976d-d9f1147f3701 ]] {\r\n",
       "}\r\n",
       "rec def \"F\" as E4  <<(T,blue) calculation  def>> [[psysml:9fc68d1c-0eda-4ba7-8d2a-4dac99044350 ]] {\r\n",
       "portin \"p\" as E5  [[psysml:c0525d75-8c24-4ff5-9432-36973c13d292 ]] \r\n",
       "portin \"q\" as E6  [[psysml:ea5aeb99-c612-42a4-b65a-a51f249da328 ]] \r\n",
       "portout \"result\" as E7  [[psysml:ef9cf0a8-f443-48d9-b6fd-29ed95d8a001 ]] \r\n",
       "}\r\n",
       "\r\n",
       "comp usage \"f  \" as E8  <<(T,blue) attribute>> [[psysml:201caa5e-7003-43c9-93c7-31c1dd2687e1 ]] {\r\n",
       "##//values//##\r\n",
       " <U+003D> F(a, 2)\r\n",
       "}\r\n",
       "comp usage \"g  \" as E9  <<(T,blue) attribute>> [[psysml:ef9d06c8-83aa-4b51-a725-4880c3e71513 ]] {\r\n",
       "##//values//##\r\n",
       " <U+003D> F(q <U+003D> 1, p <U+003D> a)\r\n",
       "}\r\n",
       "comp usage \"b  \" as E10  <<(T,blue) attribute>> [[psysml:472a68ff-87fb-48cb-b812-c0679e72bd97 ]] {\r\n",
       "##//values//##\r\n",
       " <U+003D> A(y<U+003D>a, x<U+003D>\"\")\r\n",
       "}\r\n",
       "comp usage \"c  \" as E11  <<(T,blue) attribute>> [[psysml:b12c6daa-efd4-472f-91f1-7e0209b6a2bc ]] {\r\n",
       "##//values//##\r\n",
       " <U+003D> A(\"test2\")\r\n",
       "}\r\n",
       "}\r\n",
       "E3 - -:|> E2 [[psysml:de703d0e-2ba0-4603-81fc-fcf4f6dc7e4d ]] \r\n",
       "@enduml\r\n",
       "\n",
       "PlantUML version 1.2022.7(Mon Aug 22 17:01:30 UTC 2022)\n",
       "(EPL source distribution)\n",
       "Java Runtime: OpenJDK Runtime Environment\n",
       "JVM: OpenJDK 64-Bit Server VM\n",
       "Default Encoding: UTF-8\n",
       "Language: en\n",
       "Country: null\n",
       "--></g></svg>"
      ]
     },
     "execution_count": 50,
     "metadata": {},
     "output_type": "execute_result"
    }
   ],
   "source": [
    "%viz --style=\"TB\" --view=\"MIXED\" \"ParameterTest\""
   ]
  },
  {
   "cell_type": "code",
   "execution_count": 51,
   "id": "6c909eff",
   "metadata": {
    "execution": {
     "iopub.execute_input": "2024-12-16T03:23:37.172860Z",
     "iopub.status.busy": "2024-12-16T03:23:37.172551Z",
     "iopub.status.idle": "2024-12-16T03:23:37.200362Z",
     "shell.execute_reply": "2024-12-16T03:23:37.199508Z"
    }
   },
   "outputs": [
    {
     "data": {
      "image/svg+xml": [
       "<?xml version=\"1.0\" encoding=\"UTF-8\" standalone=\"no\"?><svg xmlns=\"http://www.w3.org/2000/svg\" xmlns:xlink=\"http://www.w3.org/1999/xlink\" contentStyleType=\"text/css\" height=\"430px\" preserveAspectRatio=\"none\" style=\"width:858px;height:430px;background:#FFFFFF;\" version=\"1.1\" viewBox=\"0 0 858 430\" width=\"858px\" zoomAndPan=\"magnify\"><defs/><g><!--MD5=[fbc87193dbaf4d95561dea2c320d4a47]\n",
       "cluster E1--><g id=\"cluster_E1\"><a href=\"psysml:23a083da-d633-42aa-b737-bc534de6ad98\" target=\"_top\" title=\"psysml:23a083da-d633-42aa-b737-bc534de6ad98\" xlink:actuate=\"onRequest\" xlink:href=\"psysml:23a083da-d633-42aa-b737-bc534de6ad98\" xlink:show=\"new\" xlink:title=\"psysml:23a083da-d633-42aa-b737-bc534de6ad98\" xlink:type=\"simple\"><polygon fill=\"none\" points=\"16,6,129.6875,6,136.6875,28.2969,841,28.2969,841,423.72,16,423.72,16,6\" style=\"stroke:#000000;stroke-width:1.5;\"/><line style=\"stroke:#000000;stroke-width:1.5;\" x1=\"16\" x2=\"136.6875\" y1=\"28.2969\" y2=\"28.2969\"/><text fill=\"#000000\" font-family=\"sans-serif\" font-size=\"14\" font-weight=\"bold\" lengthAdjust=\"spacing\" textLength=\"107.6875\" x=\"20\" y=\"20.9951\">ParameterTest</text></a></g><!--MD5=[f6df4d0ebaf0b5dfb2ced0ae5af7c670]\n",
       "cluster E4--><g id=\"cluster_E4\"><a href=\"psysml:9fc68d1c-0eda-4ba7-8d2a-4dac99044350\" target=\"_top\" title=\"psysml:9fc68d1c-0eda-4ba7-8d2a-4dac99044350\" xlink:actuate=\"onRequest\" xlink:href=\"psysml:9fc68d1c-0eda-4ba7-8d2a-4dac99044350\" xlink:show=\"new\" xlink:title=\"psysml:9fc68d1c-0eda-4ba7-8d2a-4dac99044350\" xlink:type=\"simple\"><rect fill=\"#FFFFFF\" height=\"315.22\" id=\"E4\" style=\"stroke:#383838;stroke-width:1.5;\" width=\"150\" x=\"675\" y=\"78.5\"/><text fill=\"#000000\" font-family=\"sans-serif\" font-size=\"12\" font-style=\"italic\" lengthAdjust=\"spacing\" textLength=\"110\" x=\"695\" y=\"94.6387\">«calculation  def»</text><text fill=\"#000000\" font-family=\"sans-serif\" font-size=\"14\" lengthAdjust=\"spacing\" textLength=\"8\" x=\"746\" y=\"110.4639\">F</text><line style=\"stroke:#383838;stroke-width:1.0;\" x1=\"675\" x2=\"825\" y1=\"118.7656\" y2=\"118.7656\"/></a></g><!--MD5=[b4997ac47864f28c2f74865a473b2911]\n",
       "class E2--><a href=\"psysml:04ef3948-8524-44aa-a324-078bab0d23fb\" target=\"_top\" title=\"psysml:04ef3948-8524-44aa-a324-078bab0d23fb\" xlink:actuate=\"onRequest\" xlink:href=\"psysml:04ef3948-8524-44aa-a324-078bab0d23fb\" xlink:show=\"new\" xlink:title=\"psysml:04ef3948-8524-44aa-a324-078bab0d23fb\" xlink:type=\"simple\"><g id=\"elem_E2\"><rect fill=\"#FFFFFF\" height=\"91.3781\" id=\"E2\" style=\"stroke:#181818;stroke-width:0.5;\" width=\"99\" x=\"537.5\" y=\"176\"/><text fill=\"#000000\" font-family=\"sans-serif\" font-size=\"12\" font-style=\"italic\" lengthAdjust=\"spacing\" textLength=\"97\" x=\"538.5\" y=\"192.1387\">«attribute  def»</text><text fill=\"#000000\" font-family=\"sans-serif\" font-size=\"14\" lengthAdjust=\"spacing\" textLength=\"9\" x=\"582.5\" y=\"207.9639\">A</text><line style=\"stroke:#181818;stroke-width:0.5;\" x1=\"538.5\" x2=\"635.5\" y1=\"216.2656\" y2=\"216.2656\"/><text fill=\"#000000\" font-family=\"sans-serif\" font-size=\"14\" lengthAdjust=\"spacing\" textLength=\"56\" x=\"543.5\" y=\"243.7795\">x: String</text><text fill=\"#000000\" font-family=\"sans-serif\" font-size=\"14\" lengthAdjust=\"spacing\" textLength=\"25\" x=\"543.5\" y=\"260.0764\">y: A</text><text fill=\"#000000\" font-family=\"sans-serif\" font-size=\"14\" font-style=\"italic\" lengthAdjust=\"spacing\" textLength=\"66\" x=\"554\" y=\"228.6123\">attributes</text></g></a><!--MD5=[09b614a08d8cba4a07c9adeb5e0fee81]\n",
       "class E3--><a href=\"psysml:30f6a8e4-9ac7-4724-976d-d9f1147f3701\" target=\"_top\" title=\"psysml:30f6a8e4-9ac7-4724-976d-d9f1147f3701\" xlink:actuate=\"onRequest\" xlink:href=\"psysml:30f6a8e4-9ac7-4724-976d-d9f1147f3701\" xlink:show=\"new\" xlink:title=\"psysml:30f6a8e4-9ac7-4724-976d-d9f1147f3701\" xlink:type=\"simple\"><g id=\"elem_E3\"><rect fill=\"#FFFFFF\" height=\"48.2656\" id=\"E3\" rx=\"10\" ry=\"10\" style=\"stroke:#181818;stroke-width:0.5;\" width=\"71\" x=\"575.5\" y=\"54.5\"/><text fill=\"#000000\" font-family=\"sans-serif\" font-size=\"12\" font-style=\"italic\" lengthAdjust=\"spacing\" textLength=\"69\" x=\"576.5\" y=\"70.6387\">«attribute»</text><text fill=\"#000000\" font-family=\"sans-serif\" font-size=\"14\" lengthAdjust=\"spacing\" textLength=\"26\" x=\"594\" y=\"86.4639\">a: A</text><line style=\"stroke:#181818;stroke-width:0.5;\" x1=\"576.5\" x2=\"645.5\" y1=\"94.7656\" y2=\"94.7656\"/></g></a><!--MD5=[b9389687b975829384b498ac4b7476b2]\n",
       "class E8--><a href=\"psysml:201caa5e-7003-43c9-93c7-31c1dd2687e1\" target=\"_top\" title=\"psysml:201caa5e-7003-43c9-93c7-31c1dd2687e1\" xlink:actuate=\"onRequest\" xlink:href=\"psysml:201caa5e-7003-43c9-93c7-31c1dd2687e1\" xlink:show=\"new\" xlink:title=\"psysml:201caa5e-7003-43c9-93c7-31c1dd2687e1\" xlink:type=\"simple\"><g id=\"elem_E8\"><rect fill=\"#FFFFFF\" height=\"75.0813\" id=\"E8\" rx=\"10\" ry=\"10\" style=\"stroke:#181818;stroke-width:0.5;\" width=\"71\" x=\"469.5\" y=\"41\"/><text fill=\"#000000\" font-family=\"sans-serif\" font-size=\"12\" font-style=\"italic\" lengthAdjust=\"spacing\" textLength=\"69\" x=\"470.5\" y=\"57.1387\">«attribute»</text><text fill=\"#000000\" font-family=\"sans-serif\" font-size=\"14\" lengthAdjust=\"spacing\" textLength=\"4\" x=\"499\" y=\"72.9639\">f</text><line style=\"stroke:#181818;stroke-width:0.5;\" x1=\"470.5\" x2=\"539.5\" y1=\"81.2656\" y2=\"81.2656\"/><text fill=\"#000000\" font-family=\"sans-serif\" font-size=\"14\" lengthAdjust=\"spacing\" textLength=\"59\" x=\"475.5\" y=\"108.7795\">= F(a, 2)</text><text fill=\"#000000\" font-family=\"sans-serif\" font-size=\"14\" font-style=\"italic\" lengthAdjust=\"spacing\" textLength=\"44\" x=\"483\" y=\"93.6123\">values</text></g></a><!--MD5=[fd4143e9d270a159db93a4ea2a975926]\n",
       "class E9--><a href=\"psysml:ef9d06c8-83aa-4b51-a725-4880c3e71513\" target=\"_top\" title=\"psysml:ef9d06c8-83aa-4b51-a725-4880c3e71513\" xlink:actuate=\"onRequest\" xlink:href=\"psysml:ef9d06c8-83aa-4b51-a725-4880c3e71513\" xlink:show=\"new\" xlink:title=\"psysml:ef9d06c8-83aa-4b51-a725-4880c3e71513\" xlink:type=\"simple\"><g id=\"elem_E9\"><rect fill=\"#FFFFFF\" height=\"75.0813\" id=\"E9\" rx=\"10\" ry=\"10\" style=\"stroke:#181818;stroke-width:0.5;\" width=\"129\" x=\"305.5\" y=\"41\"/><text fill=\"#000000\" font-family=\"sans-serif\" font-size=\"12\" font-style=\"italic\" lengthAdjust=\"spacing\" textLength=\"69\" x=\"335.5\" y=\"57.1387\">«attribute»</text><text fill=\"#000000\" font-family=\"sans-serif\" font-size=\"14\" lengthAdjust=\"spacing\" textLength=\"9\" x=\"361.5\" y=\"72.9639\">g</text><line style=\"stroke:#181818;stroke-width:0.5;\" x1=\"306.5\" x2=\"433.5\" y1=\"81.2656\" y2=\"81.2656\"/><text fill=\"#000000\" font-family=\"sans-serif\" font-size=\"14\" lengthAdjust=\"spacing\" textLength=\"117\" x=\"311.5\" y=\"108.7795\">= F(q = 1, p = a)</text><text fill=\"#000000\" font-family=\"sans-serif\" font-size=\"14\" font-style=\"italic\" lengthAdjust=\"spacing\" textLength=\"44\" x=\"348\" y=\"93.6123\">values</text></g></a><!--MD5=[96f4274e9e20536e775497830990834d]\n",
       "class E10--><a href=\"psysml:472a68ff-87fb-48cb-b812-c0679e72bd97\" target=\"_top\" title=\"psysml:472a68ff-87fb-48cb-b812-c0679e72bd97\" xlink:actuate=\"onRequest\" xlink:href=\"psysml:472a68ff-87fb-48cb-b812-c0679e72bd97\" xlink:show=\"new\" xlink:title=\"psysml:472a68ff-87fb-48cb-b812-c0679e72bd97\" xlink:type=\"simple\"><g id=\"elem_E10\"><rect fill=\"#FFFFFF\" height=\"75.0813\" id=\"E10\" rx=\"10\" ry=\"10\" style=\"stroke:#181818;stroke-width:0.5;\" width=\"111\" x=\"159.5\" y=\"41\"/><text fill=\"#000000\" font-family=\"sans-serif\" font-size=\"12\" font-style=\"italic\" lengthAdjust=\"spacing\" textLength=\"69\" x=\"180.5\" y=\"57.1387\">«attribute»</text><text fill=\"#000000\" font-family=\"sans-serif\" font-size=\"14\" lengthAdjust=\"spacing\" textLength=\"9\" x=\"206.5\" y=\"72.9639\">b</text><line style=\"stroke:#181818;stroke-width:0.5;\" x1=\"160.5\" x2=\"269.5\" y1=\"81.2656\" y2=\"81.2656\"/><text fill=\"#000000\" font-family=\"sans-serif\" font-size=\"14\" lengthAdjust=\"spacing\" textLength=\"99\" x=\"165.5\" y=\"108.7795\">= A(y=a, x=\"\")</text><text fill=\"#000000\" font-family=\"sans-serif\" font-size=\"14\" font-style=\"italic\" lengthAdjust=\"spacing\" textLength=\"44\" x=\"193\" y=\"93.6123\">values</text></g></a><!--MD5=[1dd1bfd58a279cf63c5f349dbc8fc6a1]\n",
       "class E11--><a href=\"psysml:b12c6daa-efd4-472f-91f1-7e0209b6a2bc\" target=\"_top\" title=\"psysml:b12c6daa-efd4-472f-91f1-7e0209b6a2bc\" xlink:actuate=\"onRequest\" xlink:href=\"psysml:b12c6daa-efd4-472f-91f1-7e0209b6a2bc\" xlink:show=\"new\" xlink:title=\"psysml:b12c6daa-efd4-472f-91f1-7e0209b6a2bc\" xlink:type=\"simple\"><g id=\"elem_E11\"><rect fill=\"#FFFFFF\" height=\"75.0813\" id=\"E11\" rx=\"10\" ry=\"10\" style=\"stroke:#181818;stroke-width:0.5;\" width=\"93\" x=\"31.5\" y=\"41\"/><text fill=\"#000000\" font-family=\"sans-serif\" font-size=\"12\" font-style=\"italic\" lengthAdjust=\"spacing\" textLength=\"69\" x=\"43.5\" y=\"57.1387\">«attribute»</text><text fill=\"#000000\" font-family=\"sans-serif\" font-size=\"14\" lengthAdjust=\"spacing\" textLength=\"8\" x=\"70\" y=\"72.9639\">c</text><line style=\"stroke:#181818;stroke-width:0.5;\" x1=\"32.5\" x2=\"123.5\" y1=\"81.2656\" y2=\"81.2656\"/><text fill=\"#000000\" font-family=\"sans-serif\" font-size=\"14\" lengthAdjust=\"spacing\" textLength=\"81\" x=\"37.5\" y=\"108.7795\">= A(\"test2\")</text><text fill=\"#000000\" font-family=\"sans-serif\" font-size=\"14\" font-style=\"italic\" lengthAdjust=\"spacing\" textLength=\"44\" x=\"56\" y=\"93.6123\">values</text></g></a><text fill=\"#000000\" font-family=\"sans-serif\" font-size=\"14\" lengthAdjust=\"spacing\" textLength=\"9\" x=\"688.5\" y=\"57.1982\">p</text><rect fill=\"#FFFFFF\" height=\"12\" style=\"stroke:#181818;stroke-width:1.5;\" width=\"12\" x=\"687\" y=\"72.5\"/><text fill=\"#000000\" font-family=\"sans-serif\" font-size=\"14\" lengthAdjust=\"spacing\" textLength=\"9\" x=\"735.5\" y=\"57.1982\">q</text><rect fill=\"#FFFFFF\" height=\"12\" style=\"stroke:#181818;stroke-width:1.5;\" width=\"12\" x=\"734\" y=\"72.5\"/><text fill=\"#000000\" font-family=\"sans-serif\" font-size=\"14\" lengthAdjust=\"spacing\" textLength=\"39\" x=\"720.5\" y=\"412.7151\">result</text><rect fill=\"#FFFFFF\" height=\"12\" style=\"stroke:#181818;stroke-width:1.5;\" width=\"12\" x=\"734\" y=\"387.72\"/><!--MD5=[05d275557350bfb9b23a4ef7222b4c39]\n",
       "link E3 to E2--><g id=\"link_E3_E2\"><a href=\"psysml:de703d0e-2ba0-4603-81fc-fcf4f6dc7e4d\" target=\"_top\" title=\"psysml:de703d0e-2ba0-4603-81fc-fcf4f6dc7e4d\" xlink:actuate=\"onRequest\" xlink:href=\"psysml:de703d0e-2ba0-4603-81fc-fcf4f6dc7e4d\" xlink:show=\"new\" xlink:title=\"psysml:de703d0e-2ba0-4603-81fc-fcf4f6dc7e4d\" xlink:type=\"simple\"><path d=\"M606,102.76 C606,102.76 606,155.98 606,155.98 \" fill=\"none\" id=\"E3-to-E2\" style=\"stroke:#181818;stroke-width:1.0;\"/><polygon fill=\"#FFFFFF\" points=\"606,175.98,599,156.98,613,156.98,606,175.98\" style=\"stroke:#181818;stroke-width:1.0;\"/><ellipse cx=\"601\" cy=\"151.28\" fill=\"#181818\" rx=\"2\" ry=\"2\" style=\"stroke:#181818;stroke-width:1.0;\"/><ellipse cx=\"611\" cy=\"151.28\" fill=\"#181818\" rx=\"2\" ry=\"2\" style=\"stroke:#181818;stroke-width:1.0;\"/></a></g><!--MD5=[51f27d568597833a51ade29ef598114d]\n",
       "@startuml\r\n",
       "skin sysmlbw\r\n",
       "skinparam monochrome true\r\n",
       "skinparam wrapWidth 300\r\n",
       "hide circle\r\n",
       "skinparam linetype ortho\r\n",
       "\r\n",
       "package \"ParameterTest\" as E1  [[psysml:23a083da-d633-42aa-b737-bc534de6ad98 ]]  {\r\n",
       "comp def \"A\" as E2  <<(T,blue) attribute  def>> [[psysml:04ef3948-8524-44aa-a324-078bab0d23fb ]] {\r\n",
       "##//attributes//##\r\n",
       "x: String\r\n",
       "y: A\r\n",
       "}\r\n",
       "comp usage \"a: A  \" as E3  <<(T,blue) attribute>> [[psysml:30f6a8e4-9ac7-4724-976d-d9f1147f3701 ]] {\r\n",
       "}\r\n",
       "rec def \"F\" as E4  <<(T,blue) calculation  def>> [[psysml:9fc68d1c-0eda-4ba7-8d2a-4dac99044350 ]] {\r\n",
       "portin \"p\" as E5  [[psysml:c0525d75-8c24-4ff5-9432-36973c13d292 ]] \r\n",
       "portin \"q\" as E6  [[psysml:ea5aeb99-c612-42a4-b65a-a51f249da328 ]] \r\n",
       "portout \"result\" as E7  [[psysml:ef9cf0a8-f443-48d9-b6fd-29ed95d8a001 ]] \r\n",
       "}\r\n",
       "\r\n",
       "comp usage \"f  \" as E8  <<(T,blue) attribute>> [[psysml:201caa5e-7003-43c9-93c7-31c1dd2687e1 ]] {\r\n",
       "##//values//##\r\n",
       " <U+003D> F(a, 2)\r\n",
       "}\r\n",
       "comp usage \"g  \" as E9  <<(T,blue) attribute>> [[psysml:ef9d06c8-83aa-4b51-a725-4880c3e71513 ]] {\r\n",
       "##//values//##\r\n",
       " <U+003D> F(q <U+003D> 1, p <U+003D> a)\r\n",
       "}\r\n",
       "comp usage \"b  \" as E10  <<(T,blue) attribute>> [[psysml:472a68ff-87fb-48cb-b812-c0679e72bd97 ]] {\r\n",
       "##//values//##\r\n",
       " <U+003D> A(y<U+003D>a, x<U+003D>\"\")\r\n",
       "}\r\n",
       "comp usage \"c  \" as E11  <<(T,blue) attribute>> [[psysml:b12c6daa-efd4-472f-91f1-7e0209b6a2bc ]] {\r\n",
       "##//values//##\r\n",
       " <U+003D> A(\"test2\")\r\n",
       "}\r\n",
       "}\r\n",
       "E3 - -:|> E2 [[psysml:de703d0e-2ba0-4603-81fc-fcf4f6dc7e4d ]] \r\n",
       "@enduml\r\n",
       "\n",
       "PlantUML version 1.2022.7(Mon Aug 22 17:01:30 UTC 2022)\n",
       "(EPL source distribution)\n",
       "Java Runtime: OpenJDK Runtime Environment\n",
       "JVM: OpenJDK 64-Bit Server VM\n",
       "Default Encoding: UTF-8\n",
       "Language: en\n",
       "Country: null\n",
       "--></g></svg>"
      ]
     },
     "execution_count": 51,
     "metadata": {},
     "output_type": "execute_result"
    }
   ],
   "source": [
    "%viz --style=\"ORTHOLINE\" --view=\"Default\" \"ParameterTest\""
   ]
  },
  {
   "cell_type": "code",
   "execution_count": 52,
   "id": "620a059f",
   "metadata": {
    "execution": {
     "iopub.execute_input": "2024-12-16T03:23:37.255724Z",
     "iopub.status.busy": "2024-12-16T03:23:37.255477Z",
     "iopub.status.idle": "2024-12-16T03:23:37.283101Z",
     "shell.execute_reply": "2024-12-16T03:23:37.282267Z"
    }
   },
   "outputs": [
    {
     "data": {
      "image/svg+xml": [
       "<?xml version=\"1.0\" encoding=\"UTF-8\" standalone=\"no\"?><svg xmlns=\"http://www.w3.org/2000/svg\" xmlns:xlink=\"http://www.w3.org/1999/xlink\" contentStyleType=\"text/css\" height=\"290px\" preserveAspectRatio=\"none\" style=\"width:828px;height:290px;background:#FFFFFF;\" version=\"1.1\" viewBox=\"0 0 828 290\" width=\"828px\" zoomAndPan=\"magnify\"><defs/><g><!--MD5=[fbc87193dbaf4d95561dea2c320d4a47]\n",
       "cluster E1--><g id=\"cluster_E1\"><a href=\"psysml:23a083da-d633-42aa-b737-bc534de6ad98\" target=\"_top\" title=\"psysml:23a083da-d633-42aa-b737-bc534de6ad98\" xlink:actuate=\"onRequest\" xlink:href=\"psysml:23a083da-d633-42aa-b737-bc534de6ad98\" xlink:show=\"new\" xlink:title=\"psysml:23a083da-d633-42aa-b737-bc534de6ad98\" xlink:type=\"simple\"><polygon fill=\"none\" points=\"16,6,129.6875,6,136.6875,28.2969,811,28.2969,811,283,16,283,16,6\" style=\"stroke:#000000;stroke-width:1.5;\"/><line style=\"stroke:#000000;stroke-width:1.5;\" x1=\"16\" x2=\"136.6875\" y1=\"28.2969\" y2=\"28.2969\"/><text fill=\"#000000\" font-family=\"sans-serif\" font-size=\"14\" font-weight=\"bold\" lengthAdjust=\"spacing\" textLength=\"107.6875\" x=\"20\" y=\"20.9951\">ParameterTest</text></a></g><!--MD5=[b4997ac47864f28c2f74865a473b2911]\n",
       "class E2--><a href=\"psysml:04ef3948-8524-44aa-a324-078bab0d23fb\" target=\"_top\" title=\"psysml:04ef3948-8524-44aa-a324-078bab0d23fb\" xlink:actuate=\"onRequest\" xlink:href=\"psysml:04ef3948-8524-44aa-a324-078bab0d23fb\" xlink:show=\"new\" xlink:title=\"psysml:04ef3948-8524-44aa-a324-078bab0d23fb\" xlink:type=\"simple\"><g id=\"elem_E2\"><rect fill=\"#FFFFFF\" height=\"91.3781\" id=\"E2\" style=\"stroke:#181818;stroke-width:0.5;\" width=\"99\" x=\"638.5\" y=\"176\"/><text fill=\"#000000\" font-family=\"sans-serif\" font-size=\"12\" font-style=\"italic\" lengthAdjust=\"spacing\" textLength=\"97\" x=\"639.5\" y=\"192.1387\">«attribute  def»</text><text fill=\"#000000\" font-family=\"sans-serif\" font-size=\"14\" lengthAdjust=\"spacing\" textLength=\"9\" x=\"683.5\" y=\"207.9639\">A</text><line style=\"stroke:#181818;stroke-width:0.5;\" x1=\"639.5\" x2=\"736.5\" y1=\"216.2656\" y2=\"216.2656\"/><text fill=\"#000000\" font-family=\"sans-serif\" font-size=\"14\" lengthAdjust=\"spacing\" textLength=\"56\" x=\"644.5\" y=\"243.7795\">x: String</text><text fill=\"#000000\" font-family=\"sans-serif\" font-size=\"14\" lengthAdjust=\"spacing\" textLength=\"25\" x=\"644.5\" y=\"260.0764\">y: A</text><text fill=\"#000000\" font-family=\"sans-serif\" font-size=\"14\" font-style=\"italic\" lengthAdjust=\"spacing\" textLength=\"66\" x=\"655\" y=\"228.6123\">attributes</text></g></a><!--MD5=[09b614a08d8cba4a07c9adeb5e0fee81]\n",
       "class E3--><a href=\"psysml:30f6a8e4-9ac7-4724-976d-d9f1147f3701\" target=\"_top\" title=\"psysml:30f6a8e4-9ac7-4724-976d-d9f1147f3701\" xlink:actuate=\"onRequest\" xlink:href=\"psysml:30f6a8e4-9ac7-4724-976d-d9f1147f3701\" xlink:show=\"new\" xlink:title=\"psysml:30f6a8e4-9ac7-4724-976d-d9f1147f3701\" xlink:type=\"simple\"><g id=\"elem_E3\"><rect fill=\"#FFFFFF\" height=\"48.2656\" id=\"E3\" rx=\"10\" ry=\"10\" style=\"stroke:#181818;stroke-width:0.5;\" width=\"71\" x=\"723.5\" y=\"54.5\"/><text fill=\"#000000\" font-family=\"sans-serif\" font-size=\"12\" font-style=\"italic\" lengthAdjust=\"spacing\" textLength=\"69\" x=\"724.5\" y=\"70.6387\">«attribute»</text><text fill=\"#000000\" font-family=\"sans-serif\" font-size=\"14\" lengthAdjust=\"spacing\" textLength=\"26\" x=\"742\" y=\"86.4639\">a: A</text><line style=\"stroke:#181818;stroke-width:0.5;\" x1=\"724.5\" x2=\"793.5\" y1=\"94.7656\" y2=\"94.7656\"/></g></a><!--MD5=[ebbe1d658d1005bcc118a6aa81145e00]\n",
       "class E4--><a href=\"psysml:9fc68d1c-0eda-4ba7-8d2a-4dac99044350\" target=\"_top\" title=\"psysml:9fc68d1c-0eda-4ba7-8d2a-4dac99044350\" xlink:actuate=\"onRequest\" xlink:href=\"psysml:9fc68d1c-0eda-4ba7-8d2a-4dac99044350\" xlink:show=\"new\" xlink:title=\"psysml:9fc68d1c-0eda-4ba7-8d2a-4dac99044350\" xlink:type=\"simple\"><g id=\"elem_E4\"><rect fill=\"#FFFFFF\" height=\"48.2656\" id=\"E4\" style=\"stroke:#181818;stroke-width:0.5;\" width=\"112\" x=\"576\" y=\"54.5\"/><text fill=\"#000000\" font-family=\"sans-serif\" font-size=\"12\" font-style=\"italic\" lengthAdjust=\"spacing\" textLength=\"110\" x=\"577\" y=\"70.6387\">«calculation  def»</text><text fill=\"#000000\" font-family=\"sans-serif\" font-size=\"14\" lengthAdjust=\"spacing\" textLength=\"8\" x=\"628\" y=\"86.4639\">F</text><line style=\"stroke:#181818;stroke-width:0.5;\" x1=\"577\" x2=\"687\" y1=\"94.7656\" y2=\"94.7656\"/></g></a><!--MD5=[270fce915f116d4de14055a7c1d9a0f3]\n",
       "class E5--><a href=\"psysml:201caa5e-7003-43c9-93c7-31c1dd2687e1\" target=\"_top\" title=\"psysml:201caa5e-7003-43c9-93c7-31c1dd2687e1\" xlink:actuate=\"onRequest\" xlink:href=\"psysml:201caa5e-7003-43c9-93c7-31c1dd2687e1\" xlink:show=\"new\" xlink:title=\"psysml:201caa5e-7003-43c9-93c7-31c1dd2687e1\" xlink:type=\"simple\"><g id=\"elem_E5\"><rect fill=\"#FFFFFF\" height=\"75.0813\" id=\"E5\" rx=\"10\" ry=\"10\" style=\"stroke:#181818;stroke-width:0.5;\" width=\"71\" x=\"469.5\" y=\"41\"/><text fill=\"#000000\" font-family=\"sans-serif\" font-size=\"12\" font-style=\"italic\" lengthAdjust=\"spacing\" textLength=\"69\" x=\"470.5\" y=\"57.1387\">«attribute»</text><text fill=\"#000000\" font-family=\"sans-serif\" font-size=\"14\" lengthAdjust=\"spacing\" textLength=\"4\" x=\"499\" y=\"72.9639\">f</text><line style=\"stroke:#181818;stroke-width:0.5;\" x1=\"470.5\" x2=\"539.5\" y1=\"81.2656\" y2=\"81.2656\"/><text fill=\"#000000\" font-family=\"sans-serif\" font-size=\"14\" lengthAdjust=\"spacing\" textLength=\"59\" x=\"475.5\" y=\"108.7795\">= F(a, 2)</text><text fill=\"#000000\" font-family=\"sans-serif\" font-size=\"14\" font-style=\"italic\" lengthAdjust=\"spacing\" textLength=\"44\" x=\"483\" y=\"93.6123\">values</text></g></a><!--MD5=[60a26617385b1d2d0262a64233df1f8d]\n",
       "class E6--><a href=\"psysml:ef9d06c8-83aa-4b51-a725-4880c3e71513\" target=\"_top\" title=\"psysml:ef9d06c8-83aa-4b51-a725-4880c3e71513\" xlink:actuate=\"onRequest\" xlink:href=\"psysml:ef9d06c8-83aa-4b51-a725-4880c3e71513\" xlink:show=\"new\" xlink:title=\"psysml:ef9d06c8-83aa-4b51-a725-4880c3e71513\" xlink:type=\"simple\"><g id=\"elem_E6\"><rect fill=\"#FFFFFF\" height=\"75.0813\" id=\"E6\" rx=\"10\" ry=\"10\" style=\"stroke:#181818;stroke-width:0.5;\" width=\"129\" x=\"305.5\" y=\"41\"/><text fill=\"#000000\" font-family=\"sans-serif\" font-size=\"12\" font-style=\"italic\" lengthAdjust=\"spacing\" textLength=\"69\" x=\"335.5\" y=\"57.1387\">«attribute»</text><text fill=\"#000000\" font-family=\"sans-serif\" font-size=\"14\" lengthAdjust=\"spacing\" textLength=\"9\" x=\"361.5\" y=\"72.9639\">g</text><line style=\"stroke:#181818;stroke-width:0.5;\" x1=\"306.5\" x2=\"433.5\" y1=\"81.2656\" y2=\"81.2656\"/><text fill=\"#000000\" font-family=\"sans-serif\" font-size=\"14\" lengthAdjust=\"spacing\" textLength=\"117\" x=\"311.5\" y=\"108.7795\">= F(q = 1, p = a)</text><text fill=\"#000000\" font-family=\"sans-serif\" font-size=\"14\" font-style=\"italic\" lengthAdjust=\"spacing\" textLength=\"44\" x=\"348\" y=\"93.6123\">values</text></g></a><!--MD5=[2156ba9850f5573cc1fc38a6a4b2f02b]\n",
       "class E7--><a href=\"psysml:472a68ff-87fb-48cb-b812-c0679e72bd97\" target=\"_top\" title=\"psysml:472a68ff-87fb-48cb-b812-c0679e72bd97\" xlink:actuate=\"onRequest\" xlink:href=\"psysml:472a68ff-87fb-48cb-b812-c0679e72bd97\" xlink:show=\"new\" xlink:title=\"psysml:472a68ff-87fb-48cb-b812-c0679e72bd97\" xlink:type=\"simple\"><g id=\"elem_E7\"><rect fill=\"#FFFFFF\" height=\"75.0813\" id=\"E7\" rx=\"10\" ry=\"10\" style=\"stroke:#181818;stroke-width:0.5;\" width=\"111\" x=\"159.5\" y=\"41\"/><text fill=\"#000000\" font-family=\"sans-serif\" font-size=\"12\" font-style=\"italic\" lengthAdjust=\"spacing\" textLength=\"69\" x=\"180.5\" y=\"57.1387\">«attribute»</text><text fill=\"#000000\" font-family=\"sans-serif\" font-size=\"14\" lengthAdjust=\"spacing\" textLength=\"9\" x=\"206.5\" y=\"72.9639\">b</text><line style=\"stroke:#181818;stroke-width:0.5;\" x1=\"160.5\" x2=\"269.5\" y1=\"81.2656\" y2=\"81.2656\"/><text fill=\"#000000\" font-family=\"sans-serif\" font-size=\"14\" lengthAdjust=\"spacing\" textLength=\"99\" x=\"165.5\" y=\"108.7795\">= A(y=a, x=\"\")</text><text fill=\"#000000\" font-family=\"sans-serif\" font-size=\"14\" font-style=\"italic\" lengthAdjust=\"spacing\" textLength=\"44\" x=\"193\" y=\"93.6123\">values</text></g></a><!--MD5=[b9389687b975829384b498ac4b7476b2]\n",
       "class E8--><a href=\"psysml:b12c6daa-efd4-472f-91f1-7e0209b6a2bc\" target=\"_top\" title=\"psysml:b12c6daa-efd4-472f-91f1-7e0209b6a2bc\" xlink:actuate=\"onRequest\" xlink:href=\"psysml:b12c6daa-efd4-472f-91f1-7e0209b6a2bc\" xlink:show=\"new\" xlink:title=\"psysml:b12c6daa-efd4-472f-91f1-7e0209b6a2bc\" xlink:type=\"simple\"><g id=\"elem_E8\"><rect fill=\"#FFFFFF\" height=\"75.0813\" id=\"E8\" rx=\"10\" ry=\"10\" style=\"stroke:#181818;stroke-width:0.5;\" width=\"93\" x=\"31.5\" y=\"41\"/><text fill=\"#000000\" font-family=\"sans-serif\" font-size=\"12\" font-style=\"italic\" lengthAdjust=\"spacing\" textLength=\"69\" x=\"43.5\" y=\"57.1387\">«attribute»</text><text fill=\"#000000\" font-family=\"sans-serif\" font-size=\"14\" lengthAdjust=\"spacing\" textLength=\"8\" x=\"70\" y=\"72.9639\">c</text><line style=\"stroke:#181818;stroke-width:0.5;\" x1=\"32.5\" x2=\"123.5\" y1=\"81.2656\" y2=\"81.2656\"/><text fill=\"#000000\" font-family=\"sans-serif\" font-size=\"14\" lengthAdjust=\"spacing\" textLength=\"81\" x=\"37.5\" y=\"108.7795\">= A(\"test2\")</text><text fill=\"#000000\" font-family=\"sans-serif\" font-size=\"14\" font-style=\"italic\" lengthAdjust=\"spacing\" textLength=\"44\" x=\"56\" y=\"93.6123\">values</text></g></a><!--MD5=[05d275557350bfb9b23a4ef7222b4c39]\n",
       "link E3 to E2--><g id=\"link_E3_E2\"><a href=\"psysml:de703d0e-2ba0-4603-81fc-fcf4f6dc7e4d\" target=\"_top\" title=\"psysml:de703d0e-2ba0-4603-81fc-fcf4f6dc7e4d\" xlink:actuate=\"onRequest\" xlink:href=\"psysml:de703d0e-2ba0-4603-81fc-fcf4f6dc7e4d\" xlink:show=\"new\" xlink:title=\"psysml:de703d0e-2ba0-4603-81fc-fcf4f6dc7e4d\" xlink:type=\"simple\"><path d=\"M730.5,102.76 C730.5,102.76 730.5,155.98 730.5,155.98 \" fill=\"none\" id=\"E3-to-E2\" style=\"stroke:#181818;stroke-width:1.0;\"/><polygon fill=\"#FFFFFF\" points=\"730.5,175.98,723.5,156.98,737.5,156.98,730.5,175.98\" style=\"stroke:#181818;stroke-width:1.0;\"/><ellipse cx=\"725.5\" cy=\"151.28\" fill=\"#181818\" rx=\"2\" ry=\"2\" style=\"stroke:#181818;stroke-width:1.0;\"/><ellipse cx=\"735.5\" cy=\"151.28\" fill=\"#181818\" rx=\"2\" ry=\"2\" style=\"stroke:#181818;stroke-width:1.0;\"/></a></g><!--MD5=[ddeed8deb2209213b62e6cfabaa108b2]\n",
       "reverse link E4 to E2--><g id=\"link_E4_E2\"><a href=\"psysml:c0525d75-8c24-4ff5-9432-36973c13d292\" target=\"_top\" title=\"psysml:c0525d75-8c24-4ff5-9432-36973c13d292\" xlink:actuate=\"onRequest\" xlink:href=\"psysml:c0525d75-8c24-4ff5-9432-36973c13d292\" xlink:show=\"new\" xlink:title=\"psysml:c0525d75-8c24-4ff5-9432-36973c13d292\" xlink:type=\"simple\"><path d=\"M663.25,115.76 C663.25,115.76 663.25,175.98 663.25,175.98 \" fill=\"none\" id=\"E4-backto-E2\" style=\"stroke:#181818;stroke-width:1.0;\"/><polygon fill=\"none\" points=\"663.25,102.76,659.25,108.76,663.25,114.76,667.25,108.76,663.25,102.76\" style=\"stroke:#181818;stroke-width:1.0;\"/><text fill=\"#000000\" font-family=\"sans-serif\" font-size=\"13\" lengthAdjust=\"spacing\" textLength=\"8\" x=\"654.25\" y=\"141.9369\">p</text></a></g><!--MD5=[c5f4e58d007d9b0bed4e93f9408328b4]\n",
       "@startuml\r\n",
       "skin sysmlbw\r\n",
       "skinparam monochrome true\r\n",
       "skinparam wrapWidth 300\r\n",
       "hide circle\r\n",
       "skinparam linetype ortho\r\n",
       "\r\n",
       "package \"ParameterTest\" as E1  [[psysml:23a083da-d633-42aa-b737-bc534de6ad98 ]]  {\r\n",
       "comp def \"A\" as E2  <<(T,blue) attribute  def>> [[psysml:04ef3948-8524-44aa-a324-078bab0d23fb ]] {\r\n",
       "##//attributes//##\r\n",
       "x: String\r\n",
       "y: A\r\n",
       "}\r\n",
       "comp usage \"a: A  \" as E3  <<(T,blue) attribute>> [[psysml:30f6a8e4-9ac7-4724-976d-d9f1147f3701 ]] {\r\n",
       "}\r\n",
       "comp def \"F\" as E4  <<(T,blue) calculation  def>> [[psysml:9fc68d1c-0eda-4ba7-8d2a-4dac99044350 ]] {\r\n",
       "}\r\n",
       "comp usage \"f  \" as E5  <<(T,blue) attribute>> [[psysml:201caa5e-7003-43c9-93c7-31c1dd2687e1 ]] {\r\n",
       "##//values//##\r\n",
       " <U+003D> F(a, 2)\r\n",
       "}\r\n",
       "comp usage \"g  \" as E6  <<(T,blue) attribute>> [[psysml:ef9d06c8-83aa-4b51-a725-4880c3e71513 ]] {\r\n",
       "##//values//##\r\n",
       " <U+003D> F(q <U+003D> 1, p <U+003D> a)\r\n",
       "}\r\n",
       "comp usage \"b  \" as E7  <<(T,blue) attribute>> [[psysml:472a68ff-87fb-48cb-b812-c0679e72bd97 ]] {\r\n",
       "##//values//##\r\n",
       " <U+003D> A(y<U+003D>a, x<U+003D>\"\")\r\n",
       "}\r\n",
       "comp usage \"c  \" as E8  <<(T,blue) attribute>> [[psysml:b12c6daa-efd4-472f-91f1-7e0209b6a2bc ]] {\r\n",
       "##//values//##\r\n",
       " <U+003D> A(\"test2\")\r\n",
       "}\r\n",
       "}\r\n",
       "E3 - -:|> E2 [[psysml:de703d0e-2ba0-4603-81fc-fcf4f6dc7e4d ]] \r\n",
       "E4 o- - E2 [[psysml:c0525d75-8c24-4ff5-9432-36973c13d292 ]] : p\r\n",
       "@enduml\r\n",
       "\n",
       "PlantUML version 1.2022.7(Mon Aug 22 17:01:30 UTC 2022)\n",
       "(EPL source distribution)\n",
       "Java Runtime: OpenJDK Runtime Environment\n",
       "JVM: OpenJDK 64-Bit Server VM\n",
       "Default Encoding: UTF-8\n",
       "Language: en\n",
       "Country: null\n",
       "--></g></svg>"
      ]
     },
     "execution_count": 52,
     "metadata": {},
     "output_type": "execute_result"
    }
   ],
   "source": [
    "%viz --style=\"ORTHOLINE\" --view=\"Tree\" \"ParameterTest\""
   ]
  },
  {
   "cell_type": "code",
   "execution_count": 53,
   "id": "886c3d79",
   "metadata": {
    "execution": {
     "iopub.execute_input": "2024-12-16T03:23:37.335715Z",
     "iopub.status.busy": "2024-12-16T03:23:37.335406Z",
     "iopub.status.idle": "2024-12-16T03:23:37.343583Z",
     "shell.execute_reply": "2024-12-16T03:23:37.343408Z"
    }
   },
   "outputs": [
    {
     "data": {
      "image/svg+xml": [
       "<?xml version=\"1.0\" encoding=\"UTF-8\" standalone=\"no\"?><svg xmlns=\"http://www.w3.org/2000/svg\" xmlns:xlink=\"http://www.w3.org/1999/xlink\" contentStyleType=\"text/css\" height=\"10px\" preserveAspectRatio=\"none\" style=\"width:10px;height:10px;background:#FFFFFF;\" version=\"1.1\" viewBox=\"0 0 10 10\" width=\"10px\" zoomAndPan=\"magnify\"><defs/><g><!--MD5=[db5337d1ba6fd3a35e07e04988169323]\n",
       "@startuml\r\n",
       "skin sysmlbw\r\n",
       "skinparam monochrome true\r\n",
       "skinparam wrapWidth 300\r\n",
       "hide circle\r\n",
       "skinparam linetype ortho\r\n",
       "\r\n",
       "@enduml\r\n",
       "\n",
       "PlantUML version 1.2022.7(Mon Aug 22 17:01:30 UTC 2022)\n",
       "(EPL source distribution)\n",
       "Java Runtime: OpenJDK Runtime Environment\n",
       "JVM: OpenJDK 64-Bit Server VM\n",
       "Default Encoding: UTF-8\n",
       "Language: en\n",
       "Country: null\n",
       "--></g></svg>"
      ]
     },
     "execution_count": 53,
     "metadata": {},
     "output_type": "execute_result"
    }
   ],
   "source": [
    "%viz --style=\"ORTHOLINE\" --view=\"State\" \"ParameterTest\""
   ]
  },
  {
   "cell_type": "code",
   "execution_count": 54,
   "id": "3f5d1092",
   "metadata": {
    "execution": {
     "iopub.execute_input": "2024-12-16T03:23:37.395482Z",
     "iopub.status.busy": "2024-12-16T03:23:37.395098Z",
     "iopub.status.idle": "2024-12-16T03:23:37.425970Z",
     "shell.execute_reply": "2024-12-16T03:23:37.425159Z"
    }
   },
   "outputs": [
    {
     "data": {
      "image/svg+xml": [
       "<?xml version=\"1.0\" encoding=\"UTF-8\" standalone=\"no\"?><svg xmlns=\"http://www.w3.org/2000/svg\" xmlns:xlink=\"http://www.w3.org/1999/xlink\" contentStyleType=\"text/css\" height=\"241px\" preserveAspectRatio=\"none\" style=\"width:858px;height:241px;background:#FFFFFF;\" version=\"1.1\" viewBox=\"0 0 858 241\" width=\"858px\" zoomAndPan=\"magnify\"><defs/><g><!--MD5=[fbc87193dbaf4d95561dea2c320d4a47]\n",
       "cluster E1--><g id=\"cluster_E1\"><a href=\"psysml:23a083da-d633-42aa-b737-bc534de6ad98\" target=\"_top\" title=\"psysml:23a083da-d633-42aa-b737-bc534de6ad98\" xlink:actuate=\"onRequest\" xlink:href=\"psysml:23a083da-d633-42aa-b737-bc534de6ad98\" xlink:show=\"new\" xlink:title=\"psysml:23a083da-d633-42aa-b737-bc534de6ad98\" xlink:type=\"simple\"><polygon fill=\"none\" points=\"16,6,129.6875,6,136.6875,28.2969,841,28.2969,841,234.72,16,234.72,16,6\" style=\"stroke:#000000;stroke-width:1.5;\"/><line style=\"stroke:#000000;stroke-width:1.5;\" x1=\"16\" x2=\"136.6875\" y1=\"28.2969\" y2=\"28.2969\"/><text fill=\"#000000\" font-family=\"sans-serif\" font-size=\"14\" font-weight=\"bold\" lengthAdjust=\"spacing\" textLength=\"107.6875\" x=\"20\" y=\"20.9951\">ParameterTest</text></a></g><!--MD5=[f6df4d0ebaf0b5dfb2ced0ae5af7c670]\n",
       "cluster E4--><g id=\"cluster_E4\"><a href=\"psysml:9fc68d1c-0eda-4ba7-8d2a-4dac99044350\" target=\"_top\" title=\"psysml:9fc68d1c-0eda-4ba7-8d2a-4dac99044350\" xlink:actuate=\"onRequest\" xlink:href=\"psysml:9fc68d1c-0eda-4ba7-8d2a-4dac99044350\" xlink:show=\"new\" xlink:title=\"psysml:9fc68d1c-0eda-4ba7-8d2a-4dac99044350\" xlink:type=\"simple\"><rect fill=\"#FFFFFF\" height=\"126.22\" id=\"E4\" style=\"stroke:#383838;stroke-width:1.5;\" width=\"150\" x=\"675\" y=\"78.5\"/><text fill=\"#000000\" font-family=\"sans-serif\" font-size=\"12\" font-style=\"italic\" lengthAdjust=\"spacing\" textLength=\"110\" x=\"695\" y=\"94.6387\">«calculation  def»</text><text fill=\"#000000\" font-family=\"sans-serif\" font-size=\"14\" lengthAdjust=\"spacing\" textLength=\"8\" x=\"746\" y=\"110.4639\">F</text><line style=\"stroke:#383838;stroke-width:1.0;\" x1=\"675\" x2=\"825\" y1=\"118.7656\" y2=\"118.7656\"/></a></g><g><a href=\"psysml:04ef3948-8524-44aa-a324-078bab0d23fb\" target=\"_top\" title=\"psysml:04ef3948-8524-44aa-a324-078bab0d23fb\" xlink:actuate=\"onRequest\" xlink:href=\"psysml:04ef3948-8524-44aa-a324-078bab0d23fb\" xlink:show=\"new\" xlink:title=\"psysml:04ef3948-8524-44aa-a324-078bab0d23fb\" xlink:type=\"simple\"><rect fill=\"#FFFFFF\" height=\"45.2656\" id=\"E2\" style=\"stroke:#383838;stroke-width:1.5;\" width=\"104\" x=\"532\" y=\"127\"/><text fill=\"#000000\" font-family=\"sans-serif\" font-size=\"12\" font-style=\"italic\" lengthAdjust=\"spacing\" textLength=\"97\" x=\"535.5\" y=\"143.1387\">«attribute  def»</text><text fill=\"#000000\" font-family=\"sans-serif\" font-size=\"14\" lengthAdjust=\"spacing\" textLength=\"9\" x=\"579.5\" y=\"158.9639\">A</text></a></g><!--MD5=[09b614a08d8cba4a07c9adeb5e0fee81]\n",
       "class E3--><a href=\"psysml:30f6a8e4-9ac7-4724-976d-d9f1147f3701\" target=\"_top\" title=\"psysml:30f6a8e4-9ac7-4724-976d-d9f1147f3701\" xlink:actuate=\"onRequest\" xlink:href=\"psysml:30f6a8e4-9ac7-4724-976d-d9f1147f3701\" xlink:show=\"new\" xlink:title=\"psysml:30f6a8e4-9ac7-4724-976d-d9f1147f3701\" xlink:type=\"simple\"><g id=\"elem_E3\"><rect fill=\"#FFFFFF\" height=\"48.2656\" id=\"E3\" rx=\"10\" ry=\"10\" style=\"stroke:#181818;stroke-width:0.5;\" width=\"71\" x=\"575.5\" y=\"54.5\"/><text fill=\"#000000\" font-family=\"sans-serif\" font-size=\"12\" font-style=\"italic\" lengthAdjust=\"spacing\" textLength=\"69\" x=\"576.5\" y=\"70.6387\">«attribute»</text><text fill=\"#000000\" font-family=\"sans-serif\" font-size=\"14\" lengthAdjust=\"spacing\" textLength=\"26\" x=\"594\" y=\"86.4639\">a: A</text><line style=\"stroke:#181818;stroke-width:0.5;\" x1=\"576.5\" x2=\"645.5\" y1=\"94.7656\" y2=\"94.7656\"/></g></a><!--MD5=[b9389687b975829384b498ac4b7476b2]\n",
       "class E8--><a href=\"psysml:201caa5e-7003-43c9-93c7-31c1dd2687e1\" target=\"_top\" title=\"psysml:201caa5e-7003-43c9-93c7-31c1dd2687e1\" xlink:actuate=\"onRequest\" xlink:href=\"psysml:201caa5e-7003-43c9-93c7-31c1dd2687e1\" xlink:show=\"new\" xlink:title=\"psysml:201caa5e-7003-43c9-93c7-31c1dd2687e1\" xlink:type=\"simple\"><g id=\"elem_E8\"><rect fill=\"#FFFFFF\" height=\"75.0813\" id=\"E8\" rx=\"10\" ry=\"10\" style=\"stroke:#181818;stroke-width:0.5;\" width=\"71\" x=\"469.5\" y=\"41\"/><text fill=\"#000000\" font-family=\"sans-serif\" font-size=\"12\" font-style=\"italic\" lengthAdjust=\"spacing\" textLength=\"69\" x=\"470.5\" y=\"57.1387\">«attribute»</text><text fill=\"#000000\" font-family=\"sans-serif\" font-size=\"14\" lengthAdjust=\"spacing\" textLength=\"4\" x=\"499\" y=\"72.9639\">f</text><line style=\"stroke:#181818;stroke-width:0.5;\" x1=\"470.5\" x2=\"539.5\" y1=\"81.2656\" y2=\"81.2656\"/><text fill=\"#000000\" font-family=\"sans-serif\" font-size=\"14\" lengthAdjust=\"spacing\" textLength=\"59\" x=\"475.5\" y=\"108.7795\">= F(a, 2)</text><text fill=\"#000000\" font-family=\"sans-serif\" font-size=\"14\" font-style=\"italic\" lengthAdjust=\"spacing\" textLength=\"44\" x=\"483\" y=\"93.6123\">values</text></g></a><!--MD5=[fd4143e9d270a159db93a4ea2a975926]\n",
       "class E9--><a href=\"psysml:ef9d06c8-83aa-4b51-a725-4880c3e71513\" target=\"_top\" title=\"psysml:ef9d06c8-83aa-4b51-a725-4880c3e71513\" xlink:actuate=\"onRequest\" xlink:href=\"psysml:ef9d06c8-83aa-4b51-a725-4880c3e71513\" xlink:show=\"new\" xlink:title=\"psysml:ef9d06c8-83aa-4b51-a725-4880c3e71513\" xlink:type=\"simple\"><g id=\"elem_E9\"><rect fill=\"#FFFFFF\" height=\"75.0813\" id=\"E9\" rx=\"10\" ry=\"10\" style=\"stroke:#181818;stroke-width:0.5;\" width=\"129\" x=\"305.5\" y=\"41\"/><text fill=\"#000000\" font-family=\"sans-serif\" font-size=\"12\" font-style=\"italic\" lengthAdjust=\"spacing\" textLength=\"69\" x=\"335.5\" y=\"57.1387\">«attribute»</text><text fill=\"#000000\" font-family=\"sans-serif\" font-size=\"14\" lengthAdjust=\"spacing\" textLength=\"9\" x=\"361.5\" y=\"72.9639\">g</text><line style=\"stroke:#181818;stroke-width:0.5;\" x1=\"306.5\" x2=\"433.5\" y1=\"81.2656\" y2=\"81.2656\"/><text fill=\"#000000\" font-family=\"sans-serif\" font-size=\"14\" lengthAdjust=\"spacing\" textLength=\"117\" x=\"311.5\" y=\"108.7795\">= F(q = 1, p = a)</text><text fill=\"#000000\" font-family=\"sans-serif\" font-size=\"14\" font-style=\"italic\" lengthAdjust=\"spacing\" textLength=\"44\" x=\"348\" y=\"93.6123\">values</text></g></a><!--MD5=[96f4274e9e20536e775497830990834d]\n",
       "class E10--><a href=\"psysml:472a68ff-87fb-48cb-b812-c0679e72bd97\" target=\"_top\" title=\"psysml:472a68ff-87fb-48cb-b812-c0679e72bd97\" xlink:actuate=\"onRequest\" xlink:href=\"psysml:472a68ff-87fb-48cb-b812-c0679e72bd97\" xlink:show=\"new\" xlink:title=\"psysml:472a68ff-87fb-48cb-b812-c0679e72bd97\" xlink:type=\"simple\"><g id=\"elem_E10\"><rect fill=\"#FFFFFF\" height=\"75.0813\" id=\"E10\" rx=\"10\" ry=\"10\" style=\"stroke:#181818;stroke-width:0.5;\" width=\"111\" x=\"159.5\" y=\"41\"/><text fill=\"#000000\" font-family=\"sans-serif\" font-size=\"12\" font-style=\"italic\" lengthAdjust=\"spacing\" textLength=\"69\" x=\"180.5\" y=\"57.1387\">«attribute»</text><text fill=\"#000000\" font-family=\"sans-serif\" font-size=\"14\" lengthAdjust=\"spacing\" textLength=\"9\" x=\"206.5\" y=\"72.9639\">b</text><line style=\"stroke:#181818;stroke-width:0.5;\" x1=\"160.5\" x2=\"269.5\" y1=\"81.2656\" y2=\"81.2656\"/><text fill=\"#000000\" font-family=\"sans-serif\" font-size=\"14\" lengthAdjust=\"spacing\" textLength=\"99\" x=\"165.5\" y=\"108.7795\">= A(y=a, x=\"\")</text><text fill=\"#000000\" font-family=\"sans-serif\" font-size=\"14\" font-style=\"italic\" lengthAdjust=\"spacing\" textLength=\"44\" x=\"193\" y=\"93.6123\">values</text></g></a><!--MD5=[1dd1bfd58a279cf63c5f349dbc8fc6a1]\n",
       "class E11--><a href=\"psysml:b12c6daa-efd4-472f-91f1-7e0209b6a2bc\" target=\"_top\" title=\"psysml:b12c6daa-efd4-472f-91f1-7e0209b6a2bc\" xlink:actuate=\"onRequest\" xlink:href=\"psysml:b12c6daa-efd4-472f-91f1-7e0209b6a2bc\" xlink:show=\"new\" xlink:title=\"psysml:b12c6daa-efd4-472f-91f1-7e0209b6a2bc\" xlink:type=\"simple\"><g id=\"elem_E11\"><rect fill=\"#FFFFFF\" height=\"75.0813\" id=\"E11\" rx=\"10\" ry=\"10\" style=\"stroke:#181818;stroke-width:0.5;\" width=\"93\" x=\"31.5\" y=\"41\"/><text fill=\"#000000\" font-family=\"sans-serif\" font-size=\"12\" font-style=\"italic\" lengthAdjust=\"spacing\" textLength=\"69\" x=\"43.5\" y=\"57.1387\">«attribute»</text><text fill=\"#000000\" font-family=\"sans-serif\" font-size=\"14\" lengthAdjust=\"spacing\" textLength=\"8\" x=\"70\" y=\"72.9639\">c</text><line style=\"stroke:#181818;stroke-width:0.5;\" x1=\"32.5\" x2=\"123.5\" y1=\"81.2656\" y2=\"81.2656\"/><text fill=\"#000000\" font-family=\"sans-serif\" font-size=\"14\" lengthAdjust=\"spacing\" textLength=\"81\" x=\"37.5\" y=\"108.7795\">= A(\"test2\")</text><text fill=\"#000000\" font-family=\"sans-serif\" font-size=\"14\" font-style=\"italic\" lengthAdjust=\"spacing\" textLength=\"44\" x=\"56\" y=\"93.6123\">values</text></g></a><text fill=\"#000000\" font-family=\"sans-serif\" font-size=\"14\" lengthAdjust=\"spacing\" textLength=\"9\" x=\"688.5\" y=\"57.1982\">p</text><rect fill=\"#FFFFFF\" height=\"12\" style=\"stroke:#181818;stroke-width:1.5;\" width=\"12\" x=\"687\" y=\"72.5\"/><text fill=\"#000000\" font-family=\"sans-serif\" font-size=\"14\" lengthAdjust=\"spacing\" textLength=\"9\" x=\"735.5\" y=\"57.1982\">q</text><rect fill=\"#FFFFFF\" height=\"12\" style=\"stroke:#181818;stroke-width:1.5;\" width=\"12\" x=\"734\" y=\"72.5\"/><text fill=\"#000000\" font-family=\"sans-serif\" font-size=\"14\" lengthAdjust=\"spacing\" textLength=\"39\" x=\"720.5\" y=\"223.7151\">result</text><rect fill=\"#FFFFFF\" height=\"12\" style=\"stroke:#181818;stroke-width:1.5;\" width=\"12\" x=\"734\" y=\"198.72\"/><!--MD5=[05d275557350bfb9b23a4ef7222b4c39]\n",
       "link E3 to E2--><g id=\"link_E3_E2\"><a href=\"psysml:de703d0e-2ba0-4603-81fc-fcf4f6dc7e4d\" target=\"_top\" title=\"psysml:de703d0e-2ba0-4603-81fc-fcf4f6dc7e4d\" xlink:actuate=\"onRequest\" xlink:href=\"psysml:de703d0e-2ba0-4603-81fc-fcf4f6dc7e4d\" xlink:show=\"new\" xlink:title=\"psysml:de703d0e-2ba0-4603-81fc-fcf4f6dc7e4d\" xlink:type=\"simple\"><path d=\"M605.75,102.54 C605.75,102.54 605.75,106.93 605.75,106.93 \" fill=\"none\" id=\"E3-to-E2\" style=\"stroke:#181818;stroke-width:1.0;\"/><polygon fill=\"#FFFFFF\" points=\"605.75,126.93,598.75,107.93,612.75,107.93,605.75,126.93\" style=\"stroke:#181818;stroke-width:1.0;\"/><ellipse cx=\"600.75\" cy=\"102.23\" fill=\"#181818\" rx=\"2\" ry=\"2\" style=\"stroke:#181818;stroke-width:1.0;\"/><ellipse cx=\"610.75\" cy=\"102.23\" fill=\"#181818\" rx=\"2\" ry=\"2\" style=\"stroke:#181818;stroke-width:1.0;\"/></a></g><!--MD5=[f20b912b8b21235e2edcc8696e741663]\n",
       "@startuml\r\n",
       "skin sysmlbw\r\n",
       "skinparam monochrome true\r\n",
       "skinparam wrapWidth 300\r\n",
       "hide circle\r\n",
       "skinparam linetype ortho\r\n",
       "skinparam ranksep 10\r\n",
       "skinparam rectangle {\r\n",
       " backgroundColor<<block>> LightGreen\r\n",
       "}\r\n",
       "\r\n",
       "package \"ParameterTest\" as E1  [[psysml:23a083da-d633-42aa-b737-bc534de6ad98 ]]  {\r\n",
       "def \"A\" as E2  <<(T,blue) attribute  def>> [[psysml:04ef3948-8524-44aa-a324-078bab0d23fb ]] \r\n",
       "comp usage \"a: A  \" as E3  <<(T,blue) attribute>> [[psysml:30f6a8e4-9ac7-4724-976d-d9f1147f3701 ]] {\r\n",
       "}\r\n",
       "rec def \"F\" as E4  <<(T,blue) calculation  def>> [[psysml:9fc68d1c-0eda-4ba7-8d2a-4dac99044350 ]] {\r\n",
       "portin \"p\" as E5  [[psysml:c0525d75-8c24-4ff5-9432-36973c13d292 ]] \r\n",
       "portin \"q\" as E6  [[psysml:ea5aeb99-c612-42a4-b65a-a51f249da328 ]] \r\n",
       "portout \"result\" as E7  [[psysml:ef9cf0a8-f443-48d9-b6fd-29ed95d8a001 ]] \r\n",
       "}\r\n",
       "\r\n",
       "comp usage \"f  \" as E8  <<(T,blue) attribute>> [[psysml:201caa5e-7003-43c9-93c7-31c1dd2687e1 ]] {\r\n",
       "##//values//##\r\n",
       " <U+003D> F(a, 2)\r\n",
       "}\r\n",
       "comp usage \"g  \" as E9  <<(T,blue) attribute>> [[psysml:ef9d06c8-83aa-4b51-a725-4880c3e71513 ]] {\r\n",
       "##//values//##\r\n",
       " <U+003D> F(q <U+003D> 1, p <U+003D> a)\r\n",
       "}\r\n",
       "comp usage \"b  \" as E10  <<(T,blue) attribute>> [[psysml:472a68ff-87fb-48cb-b812-c0679e72bd97 ]] {\r\n",
       "##//values//##\r\n",
       " <U+003D> A(y<U+003D>a, x<U+003D>\"\")\r\n",
       "}\r\n",
       "comp usage \"c  \" as E11  <<(T,blue) attribute>> [[psysml:b12c6daa-efd4-472f-91f1-7e0209b6a2bc ]] {\r\n",
       "##//values//##\r\n",
       " <U+003D> A(\"test2\")\r\n",
       "}\r\n",
       "}\r\n",
       "E3 - -:|> E2 [[psysml:de703d0e-2ba0-4603-81fc-fcf4f6dc7e4d ]] \r\n",
       "@enduml\r\n",
       "\n",
       "PlantUML version 1.2022.7(Mon Aug 22 17:01:30 UTC 2022)\n",
       "(EPL source distribution)\n",
       "Java Runtime: OpenJDK Runtime Environment\n",
       "JVM: OpenJDK 64-Bit Server VM\n",
       "Default Encoding: UTF-8\n",
       "Language: en\n",
       "Country: null\n",
       "--></g></svg>"
      ]
     },
     "execution_count": 54,
     "metadata": {},
     "output_type": "execute_result"
    }
   ],
   "source": [
    "%viz --style=\"ORTHOLINE\" --view=\"Interconnection\" \"ParameterTest\""
   ]
  },
  {
   "cell_type": "code",
   "execution_count": 55,
   "id": "1726f3d1",
   "metadata": {
    "execution": {
     "iopub.execute_input": "2024-12-16T03:23:37.481373Z",
     "iopub.status.busy": "2024-12-16T03:23:37.481104Z",
     "iopub.status.idle": "2024-12-16T03:23:37.495663Z",
     "shell.execute_reply": "2024-12-16T03:23:37.495485Z"
    }
   },
   "outputs": [
    {
     "data": {
      "image/svg+xml": [
       "<?xml version=\"1.0\" encoding=\"UTF-8\" standalone=\"no\"?><svg xmlns=\"http://www.w3.org/2000/svg\" xmlns:xlink=\"http://www.w3.org/1999/xlink\" contentStyleType=\"text/css\" height=\"157px\" preserveAspectRatio=\"none\" style=\"width:164px;height:157px;background:#FFFFFF;\" version=\"1.1\" viewBox=\"0 0 164 157\" width=\"164px\" zoomAndPan=\"magnify\"><defs/><g><!--MD5=[fbc87193dbaf4d95561dea2c320d4a47]\n",
       "cluster E1--><g id=\"cluster_E1\"><a href=\"psysml:9fc68d1c-0eda-4ba7-8d2a-4dac99044350\" target=\"_top\" title=\"psysml:9fc68d1c-0eda-4ba7-8d2a-4dac99044350\" xlink:actuate=\"onRequest\" xlink:href=\"psysml:9fc68d1c-0eda-4ba7-8d2a-4dac99044350\" xlink:show=\"new\" xlink:title=\"psysml:9fc68d1c-0eda-4ba7-8d2a-4dac99044350\" xlink:type=\"simple\"><rect fill=\"#FFFFFF\" height=\"87.72\" id=\"E1\" style=\"stroke:#383838;stroke-width:1.5;\" width=\"150\" x=\"7\" y=\"42.0986\"/><text fill=\"#000000\" font-family=\"sans-serif\" font-size=\"12\" font-style=\"italic\" lengthAdjust=\"spacing\" textLength=\"110\" x=\"27\" y=\"58.2373\">«calculation  def»</text><text fill=\"#000000\" font-family=\"sans-serif\" font-size=\"14\" lengthAdjust=\"spacing\" textLength=\"8\" x=\"78\" y=\"74.0625\">F</text><line style=\"stroke:#383838;stroke-width:1.0;\" x1=\"7\" x2=\"157\" y1=\"82.3643\" y2=\"82.3643\"/></a></g><text fill=\"#000000\" font-family=\"sans-serif\" font-size=\"14\" lengthAdjust=\"spacing\" textLength=\"9\" x=\"20.5\" y=\"20.7969\">p</text><rect fill=\"#FFFFFF\" height=\"12\" style=\"stroke:#181818;stroke-width:1.5;\" width=\"12\" x=\"19\" y=\"36.0986\"/><text fill=\"#000000\" font-family=\"sans-serif\" font-size=\"14\" lengthAdjust=\"spacing\" textLength=\"9\" x=\"67.5\" y=\"20.7969\">q</text><rect fill=\"#FFFFFF\" height=\"12\" style=\"stroke:#181818;stroke-width:1.5;\" width=\"12\" x=\"66\" y=\"36.0986\"/><text fill=\"#000000\" font-family=\"sans-serif\" font-size=\"14\" lengthAdjust=\"spacing\" textLength=\"39\" x=\"52.5\" y=\"148.8138\">result</text><rect fill=\"#FFFFFF\" height=\"12\" style=\"stroke:#181818;stroke-width:1.5;\" width=\"12\" x=\"66\" y=\"123.8186\"/><!--MD5=[9dc71ec5d4e0c96e81e22a7a97dccdad]\n",
       "@startuml\r\n",
       "skin sysmlbw\r\n",
       "skinparam monochrome true\r\n",
       "skinparam wrapWidth 300\r\n",
       "hide circle\r\n",
       "skinparam linetype ortho\r\n",
       "skinparam ranksep 8\r\n",
       "\r\n",
       "rec def \"F\" as E1  <<(T,blue) calculation  def>> [[psysml:9fc68d1c-0eda-4ba7-8d2a-4dac99044350 ]] {\r\n",
       "portin \"p\" as E2  [[psysml:c0525d75-8c24-4ff5-9432-36973c13d292 ]] \r\n",
       "portin \"q\" as E3  [[psysml:ea5aeb99-c612-42a4-b65a-a51f249da328 ]] \r\n",
       "portout \"result\" as E4  [[psysml:ef9cf0a8-f443-48d9-b6fd-29ed95d8a001 ]] \r\n",
       "}\r\n",
       "\r\n",
       "@enduml\r\n",
       "\n",
       "PlantUML version 1.2022.7(Mon Aug 22 17:01:30 UTC 2022)\n",
       "(EPL source distribution)\n",
       "Java Runtime: OpenJDK Runtime Environment\n",
       "JVM: OpenJDK 64-Bit Server VM\n",
       "Default Encoding: UTF-8\n",
       "Language: en\n",
       "Country: null\n",
       "--></g></svg>"
      ]
     },
     "execution_count": 55,
     "metadata": {},
     "output_type": "execute_result"
    }
   ],
   "source": [
    "%viz --style=\"ORTHOLINE\" --view=\"Action\" \"ParameterTest\""
   ]
  },
  {
   "cell_type": "code",
   "execution_count": 56,
   "id": "e5cd68ed",
   "metadata": {
    "execution": {
     "iopub.execute_input": "2024-12-16T03:23:37.551091Z",
     "iopub.status.busy": "2024-12-16T03:23:37.550857Z",
     "iopub.status.idle": "2024-12-16T03:23:37.558267Z",
     "shell.execute_reply": "2024-12-16T03:23:37.558087Z"
    }
   },
   "outputs": [
    {
     "data": {
      "image/svg+xml": [
       "<?xml version=\"1.0\" encoding=\"UTF-8\" standalone=\"no\"?><svg xmlns=\"http://www.w3.org/2000/svg\" xmlns:xlink=\"http://www.w3.org/1999/xlink\" contentStyleType=\"text/css\" height=\"10px\" preserveAspectRatio=\"none\" style=\"width:10px;height:10px;background:#FFFFFF;\" version=\"1.1\" viewBox=\"0 0 10 10\" width=\"10px\" zoomAndPan=\"magnify\"><defs/><g><!--MD5=[5b6eb85285460e34b0e63326afe72cc5]\n",
       "@startuml\r\n",
       "skin sysmlbw\r\n",
       "skinparam monochrome true\r\n",
       "skinparam wrapWidth 300\r\n",
       "hide circle\r\n",
       "skinparam linetype ortho\r\n",
       "skinparam roundcorner 20\r\n",
       "skinparam BoxPadding 20\r\n",
       "skinparam SequenceBoxBackgroundColor #white\r\n",
       "skinparam style strictuml\r\n",
       "skinparam maxMessageSize 100\r\n",
       "\r\n",
       "@enduml\r\n",
       "\n",
       "PlantUML version 1.2022.7(Mon Aug 22 17:01:30 UTC 2022)\n",
       "(EPL source distribution)\n",
       "Java Runtime: OpenJDK Runtime Environment\n",
       "JVM: OpenJDK 64-Bit Server VM\n",
       "Default Encoding: UTF-8\n",
       "Language: en\n",
       "Country: null\n",
       "--></g></svg>"
      ]
     },
     "execution_count": 56,
     "metadata": {},
     "output_type": "execute_result"
    }
   ],
   "source": [
    "%viz --style=\"ORTHOLINE\" --view=\"Sequence\" \"ParameterTest\""
   ]
  },
  {
   "cell_type": "code",
   "execution_count": 57,
   "id": "e16a08fd",
   "metadata": {
    "execution": {
     "iopub.execute_input": "2024-12-16T03:23:37.611392Z",
     "iopub.status.busy": "2024-12-16T03:23:37.611172Z",
     "iopub.status.idle": "2024-12-16T03:23:37.642483Z",
     "shell.execute_reply": "2024-12-16T03:23:37.641673Z"
    }
   },
   "outputs": [
    {
     "data": {
      "image/svg+xml": [
       "<?xml version=\"1.0\" encoding=\"UTF-8\" standalone=\"no\"?><svg xmlns=\"http://www.w3.org/2000/svg\" xmlns:xlink=\"http://www.w3.org/1999/xlink\" contentStyleType=\"text/css\" height=\"430px\" preserveAspectRatio=\"none\" style=\"width:858px;height:430px;background:#FFFFFF;\" version=\"1.1\" viewBox=\"0 0 858 430\" width=\"858px\" zoomAndPan=\"magnify\"><defs/><g><!--MD5=[fbc87193dbaf4d95561dea2c320d4a47]\n",
       "cluster E1--><g id=\"cluster_E1\"><a href=\"psysml:23a083da-d633-42aa-b737-bc534de6ad98\" target=\"_top\" title=\"psysml:23a083da-d633-42aa-b737-bc534de6ad98\" xlink:actuate=\"onRequest\" xlink:href=\"psysml:23a083da-d633-42aa-b737-bc534de6ad98\" xlink:show=\"new\" xlink:title=\"psysml:23a083da-d633-42aa-b737-bc534de6ad98\" xlink:type=\"simple\"><polygon fill=\"none\" points=\"16,6,129.6875,6,136.6875,28.2969,841,28.2969,841,423.72,16,423.72,16,6\" style=\"stroke:#000000;stroke-width:1.5;\"/><line style=\"stroke:#000000;stroke-width:1.5;\" x1=\"16\" x2=\"136.6875\" y1=\"28.2969\" y2=\"28.2969\"/><text fill=\"#000000\" font-family=\"sans-serif\" font-size=\"14\" font-weight=\"bold\" lengthAdjust=\"spacing\" textLength=\"107.6875\" x=\"20\" y=\"20.9951\">ParameterTest</text></a></g><!--MD5=[f6df4d0ebaf0b5dfb2ced0ae5af7c670]\n",
       "cluster E4--><g id=\"cluster_E4\"><a href=\"psysml:9fc68d1c-0eda-4ba7-8d2a-4dac99044350\" target=\"_top\" title=\"psysml:9fc68d1c-0eda-4ba7-8d2a-4dac99044350\" xlink:actuate=\"onRequest\" xlink:href=\"psysml:9fc68d1c-0eda-4ba7-8d2a-4dac99044350\" xlink:show=\"new\" xlink:title=\"psysml:9fc68d1c-0eda-4ba7-8d2a-4dac99044350\" xlink:type=\"simple\"><rect fill=\"#FFFFFF\" height=\"315.22\" id=\"E4\" style=\"stroke:#383838;stroke-width:1.5;\" width=\"150\" x=\"675\" y=\"78.5\"/><text fill=\"#000000\" font-family=\"sans-serif\" font-size=\"12\" font-style=\"italic\" lengthAdjust=\"spacing\" textLength=\"110\" x=\"695\" y=\"94.6387\">«calculation  def»</text><text fill=\"#000000\" font-family=\"sans-serif\" font-size=\"14\" lengthAdjust=\"spacing\" textLength=\"8\" x=\"746\" y=\"110.4639\">F</text><line style=\"stroke:#383838;stroke-width:1.0;\" x1=\"675\" x2=\"825\" y1=\"118.7656\" y2=\"118.7656\"/></a></g><!--MD5=[b4997ac47864f28c2f74865a473b2911]\n",
       "class E2--><a href=\"psysml:04ef3948-8524-44aa-a324-078bab0d23fb\" target=\"_top\" title=\"psysml:04ef3948-8524-44aa-a324-078bab0d23fb\" xlink:actuate=\"onRequest\" xlink:href=\"psysml:04ef3948-8524-44aa-a324-078bab0d23fb\" xlink:show=\"new\" xlink:title=\"psysml:04ef3948-8524-44aa-a324-078bab0d23fb\" xlink:type=\"simple\"><g id=\"elem_E2\"><rect fill=\"#FFFFFF\" height=\"91.3781\" id=\"E2\" style=\"stroke:#181818;stroke-width:0.5;\" width=\"99\" x=\"537.5\" y=\"176\"/><text fill=\"#000000\" font-family=\"sans-serif\" font-size=\"12\" font-style=\"italic\" lengthAdjust=\"spacing\" textLength=\"97\" x=\"538.5\" y=\"192.1387\">«attribute  def»</text><text fill=\"#000000\" font-family=\"sans-serif\" font-size=\"14\" lengthAdjust=\"spacing\" textLength=\"9\" x=\"582.5\" y=\"207.9639\">A</text><line style=\"stroke:#181818;stroke-width:0.5;\" x1=\"538.5\" x2=\"635.5\" y1=\"216.2656\" y2=\"216.2656\"/><text fill=\"#000000\" font-family=\"sans-serif\" font-size=\"14\" lengthAdjust=\"spacing\" textLength=\"56\" x=\"543.5\" y=\"243.7795\">x: String</text><text fill=\"#000000\" font-family=\"sans-serif\" font-size=\"14\" lengthAdjust=\"spacing\" textLength=\"25\" x=\"543.5\" y=\"260.0764\">y: A</text><text fill=\"#000000\" font-family=\"sans-serif\" font-size=\"14\" font-style=\"italic\" lengthAdjust=\"spacing\" textLength=\"66\" x=\"554\" y=\"228.6123\">attributes</text></g></a><!--MD5=[09b614a08d8cba4a07c9adeb5e0fee81]\n",
       "class E3--><a href=\"psysml:30f6a8e4-9ac7-4724-976d-d9f1147f3701\" target=\"_top\" title=\"psysml:30f6a8e4-9ac7-4724-976d-d9f1147f3701\" xlink:actuate=\"onRequest\" xlink:href=\"psysml:30f6a8e4-9ac7-4724-976d-d9f1147f3701\" xlink:show=\"new\" xlink:title=\"psysml:30f6a8e4-9ac7-4724-976d-d9f1147f3701\" xlink:type=\"simple\"><g id=\"elem_E3\"><rect fill=\"#FFFFFF\" height=\"48.2656\" id=\"E3\" rx=\"10\" ry=\"10\" style=\"stroke:#181818;stroke-width:0.5;\" width=\"71\" x=\"575.5\" y=\"54.5\"/><text fill=\"#000000\" font-family=\"sans-serif\" font-size=\"12\" font-style=\"italic\" lengthAdjust=\"spacing\" textLength=\"69\" x=\"576.5\" y=\"70.6387\">«attribute»</text><text fill=\"#000000\" font-family=\"sans-serif\" font-size=\"14\" lengthAdjust=\"spacing\" textLength=\"26\" x=\"594\" y=\"86.4639\">a: A</text><line style=\"stroke:#181818;stroke-width:0.5;\" x1=\"576.5\" x2=\"645.5\" y1=\"94.7656\" y2=\"94.7656\"/></g></a><!--MD5=[b9389687b975829384b498ac4b7476b2]\n",
       "class E8--><a href=\"psysml:201caa5e-7003-43c9-93c7-31c1dd2687e1\" target=\"_top\" title=\"psysml:201caa5e-7003-43c9-93c7-31c1dd2687e1\" xlink:actuate=\"onRequest\" xlink:href=\"psysml:201caa5e-7003-43c9-93c7-31c1dd2687e1\" xlink:show=\"new\" xlink:title=\"psysml:201caa5e-7003-43c9-93c7-31c1dd2687e1\" xlink:type=\"simple\"><g id=\"elem_E8\"><rect fill=\"#FFFFFF\" height=\"75.0813\" id=\"E8\" rx=\"10\" ry=\"10\" style=\"stroke:#181818;stroke-width:0.5;\" width=\"71\" x=\"469.5\" y=\"41\"/><text fill=\"#000000\" font-family=\"sans-serif\" font-size=\"12\" font-style=\"italic\" lengthAdjust=\"spacing\" textLength=\"69\" x=\"470.5\" y=\"57.1387\">«attribute»</text><text fill=\"#000000\" font-family=\"sans-serif\" font-size=\"14\" lengthAdjust=\"spacing\" textLength=\"4\" x=\"499\" y=\"72.9639\">f</text><line style=\"stroke:#181818;stroke-width:0.5;\" x1=\"470.5\" x2=\"539.5\" y1=\"81.2656\" y2=\"81.2656\"/><text fill=\"#000000\" font-family=\"sans-serif\" font-size=\"14\" lengthAdjust=\"spacing\" textLength=\"59\" x=\"475.5\" y=\"108.7795\">= F(a, 2)</text><text fill=\"#000000\" font-family=\"sans-serif\" font-size=\"14\" font-style=\"italic\" lengthAdjust=\"spacing\" textLength=\"44\" x=\"483\" y=\"93.6123\">values</text></g></a><!--MD5=[fd4143e9d270a159db93a4ea2a975926]\n",
       "class E9--><a href=\"psysml:ef9d06c8-83aa-4b51-a725-4880c3e71513\" target=\"_top\" title=\"psysml:ef9d06c8-83aa-4b51-a725-4880c3e71513\" xlink:actuate=\"onRequest\" xlink:href=\"psysml:ef9d06c8-83aa-4b51-a725-4880c3e71513\" xlink:show=\"new\" xlink:title=\"psysml:ef9d06c8-83aa-4b51-a725-4880c3e71513\" xlink:type=\"simple\"><g id=\"elem_E9\"><rect fill=\"#FFFFFF\" height=\"75.0813\" id=\"E9\" rx=\"10\" ry=\"10\" style=\"stroke:#181818;stroke-width:0.5;\" width=\"129\" x=\"305.5\" y=\"41\"/><text fill=\"#000000\" font-family=\"sans-serif\" font-size=\"12\" font-style=\"italic\" lengthAdjust=\"spacing\" textLength=\"69\" x=\"335.5\" y=\"57.1387\">«attribute»</text><text fill=\"#000000\" font-family=\"sans-serif\" font-size=\"14\" lengthAdjust=\"spacing\" textLength=\"9\" x=\"361.5\" y=\"72.9639\">g</text><line style=\"stroke:#181818;stroke-width:0.5;\" x1=\"306.5\" x2=\"433.5\" y1=\"81.2656\" y2=\"81.2656\"/><text fill=\"#000000\" font-family=\"sans-serif\" font-size=\"14\" lengthAdjust=\"spacing\" textLength=\"117\" x=\"311.5\" y=\"108.7795\">= F(q = 1, p = a)</text><text fill=\"#000000\" font-family=\"sans-serif\" font-size=\"14\" font-style=\"italic\" lengthAdjust=\"spacing\" textLength=\"44\" x=\"348\" y=\"93.6123\">values</text></g></a><!--MD5=[96f4274e9e20536e775497830990834d]\n",
       "class E10--><a href=\"psysml:472a68ff-87fb-48cb-b812-c0679e72bd97\" target=\"_top\" title=\"psysml:472a68ff-87fb-48cb-b812-c0679e72bd97\" xlink:actuate=\"onRequest\" xlink:href=\"psysml:472a68ff-87fb-48cb-b812-c0679e72bd97\" xlink:show=\"new\" xlink:title=\"psysml:472a68ff-87fb-48cb-b812-c0679e72bd97\" xlink:type=\"simple\"><g id=\"elem_E10\"><rect fill=\"#FFFFFF\" height=\"75.0813\" id=\"E10\" rx=\"10\" ry=\"10\" style=\"stroke:#181818;stroke-width:0.5;\" width=\"111\" x=\"159.5\" y=\"41\"/><text fill=\"#000000\" font-family=\"sans-serif\" font-size=\"12\" font-style=\"italic\" lengthAdjust=\"spacing\" textLength=\"69\" x=\"180.5\" y=\"57.1387\">«attribute»</text><text fill=\"#000000\" font-family=\"sans-serif\" font-size=\"14\" lengthAdjust=\"spacing\" textLength=\"9\" x=\"206.5\" y=\"72.9639\">b</text><line style=\"stroke:#181818;stroke-width:0.5;\" x1=\"160.5\" x2=\"269.5\" y1=\"81.2656\" y2=\"81.2656\"/><text fill=\"#000000\" font-family=\"sans-serif\" font-size=\"14\" lengthAdjust=\"spacing\" textLength=\"99\" x=\"165.5\" y=\"108.7795\">= A(y=a, x=\"\")</text><text fill=\"#000000\" font-family=\"sans-serif\" font-size=\"14\" font-style=\"italic\" lengthAdjust=\"spacing\" textLength=\"44\" x=\"193\" y=\"93.6123\">values</text></g></a><!--MD5=[1dd1bfd58a279cf63c5f349dbc8fc6a1]\n",
       "class E11--><a href=\"psysml:b12c6daa-efd4-472f-91f1-7e0209b6a2bc\" target=\"_top\" title=\"psysml:b12c6daa-efd4-472f-91f1-7e0209b6a2bc\" xlink:actuate=\"onRequest\" xlink:href=\"psysml:b12c6daa-efd4-472f-91f1-7e0209b6a2bc\" xlink:show=\"new\" xlink:title=\"psysml:b12c6daa-efd4-472f-91f1-7e0209b6a2bc\" xlink:type=\"simple\"><g id=\"elem_E11\"><rect fill=\"#FFFFFF\" height=\"75.0813\" id=\"E11\" rx=\"10\" ry=\"10\" style=\"stroke:#181818;stroke-width:0.5;\" width=\"93\" x=\"31.5\" y=\"41\"/><text fill=\"#000000\" font-family=\"sans-serif\" font-size=\"12\" font-style=\"italic\" lengthAdjust=\"spacing\" textLength=\"69\" x=\"43.5\" y=\"57.1387\">«attribute»</text><text fill=\"#000000\" font-family=\"sans-serif\" font-size=\"14\" lengthAdjust=\"spacing\" textLength=\"8\" x=\"70\" y=\"72.9639\">c</text><line style=\"stroke:#181818;stroke-width:0.5;\" x1=\"32.5\" x2=\"123.5\" y1=\"81.2656\" y2=\"81.2656\"/><text fill=\"#000000\" font-family=\"sans-serif\" font-size=\"14\" lengthAdjust=\"spacing\" textLength=\"81\" x=\"37.5\" y=\"108.7795\">= A(\"test2\")</text><text fill=\"#000000\" font-family=\"sans-serif\" font-size=\"14\" font-style=\"italic\" lengthAdjust=\"spacing\" textLength=\"44\" x=\"56\" y=\"93.6123\">values</text></g></a><text fill=\"#000000\" font-family=\"sans-serif\" font-size=\"14\" lengthAdjust=\"spacing\" textLength=\"9\" x=\"688.5\" y=\"57.1982\">p</text><rect fill=\"#FFFFFF\" height=\"12\" style=\"stroke:#181818;stroke-width:1.5;\" width=\"12\" x=\"687\" y=\"72.5\"/><text fill=\"#000000\" font-family=\"sans-serif\" font-size=\"14\" lengthAdjust=\"spacing\" textLength=\"9\" x=\"735.5\" y=\"57.1982\">q</text><rect fill=\"#FFFFFF\" height=\"12\" style=\"stroke:#181818;stroke-width:1.5;\" width=\"12\" x=\"734\" y=\"72.5\"/><text fill=\"#000000\" font-family=\"sans-serif\" font-size=\"14\" lengthAdjust=\"spacing\" textLength=\"39\" x=\"720.5\" y=\"412.7151\">result</text><rect fill=\"#FFFFFF\" height=\"12\" style=\"stroke:#181818;stroke-width:1.5;\" width=\"12\" x=\"734\" y=\"387.72\"/><!--MD5=[05d275557350bfb9b23a4ef7222b4c39]\n",
       "link E3 to E2--><g id=\"link_E3_E2\"><a href=\"psysml:de703d0e-2ba0-4603-81fc-fcf4f6dc7e4d\" target=\"_top\" title=\"psysml:de703d0e-2ba0-4603-81fc-fcf4f6dc7e4d\" xlink:actuate=\"onRequest\" xlink:href=\"psysml:de703d0e-2ba0-4603-81fc-fcf4f6dc7e4d\" xlink:show=\"new\" xlink:title=\"psysml:de703d0e-2ba0-4603-81fc-fcf4f6dc7e4d\" xlink:type=\"simple\"><path d=\"M606,102.76 C606,102.76 606,155.98 606,155.98 \" fill=\"none\" id=\"E3-to-E2\" style=\"stroke:#181818;stroke-width:1.0;\"/><polygon fill=\"#FFFFFF\" points=\"606,175.98,599,156.98,613,156.98,606,175.98\" style=\"stroke:#181818;stroke-width:1.0;\"/><ellipse cx=\"601\" cy=\"151.28\" fill=\"#181818\" rx=\"2\" ry=\"2\" style=\"stroke:#181818;stroke-width:1.0;\"/><ellipse cx=\"611\" cy=\"151.28\" fill=\"#181818\" rx=\"2\" ry=\"2\" style=\"stroke:#181818;stroke-width:1.0;\"/></a></g><!--MD5=[51f27d568597833a51ade29ef598114d]\n",
       "@startuml\r\n",
       "skin sysmlbw\r\n",
       "skinparam monochrome true\r\n",
       "skinparam wrapWidth 300\r\n",
       "hide circle\r\n",
       "skinparam linetype ortho\r\n",
       "\r\n",
       "package \"ParameterTest\" as E1  [[psysml:23a083da-d633-42aa-b737-bc534de6ad98 ]]  {\r\n",
       "comp def \"A\" as E2  <<(T,blue) attribute  def>> [[psysml:04ef3948-8524-44aa-a324-078bab0d23fb ]] {\r\n",
       "##//attributes//##\r\n",
       "x: String\r\n",
       "y: A\r\n",
       "}\r\n",
       "comp usage \"a: A  \" as E3  <<(T,blue) attribute>> [[psysml:30f6a8e4-9ac7-4724-976d-d9f1147f3701 ]] {\r\n",
       "}\r\n",
       "rec def \"F\" as E4  <<(T,blue) calculation  def>> [[psysml:9fc68d1c-0eda-4ba7-8d2a-4dac99044350 ]] {\r\n",
       "portin \"p\" as E5  [[psysml:c0525d75-8c24-4ff5-9432-36973c13d292 ]] \r\n",
       "portin \"q\" as E6  [[psysml:ea5aeb99-c612-42a4-b65a-a51f249da328 ]] \r\n",
       "portout \"result\" as E7  [[psysml:ef9cf0a8-f443-48d9-b6fd-29ed95d8a001 ]] \r\n",
       "}\r\n",
       "\r\n",
       "comp usage \"f  \" as E8  <<(T,blue) attribute>> [[psysml:201caa5e-7003-43c9-93c7-31c1dd2687e1 ]] {\r\n",
       "##//values//##\r\n",
       " <U+003D> F(a, 2)\r\n",
       "}\r\n",
       "comp usage \"g  \" as E9  <<(T,blue) attribute>> [[psysml:ef9d06c8-83aa-4b51-a725-4880c3e71513 ]] {\r\n",
       "##//values//##\r\n",
       " <U+003D> F(q <U+003D> 1, p <U+003D> a)\r\n",
       "}\r\n",
       "comp usage \"b  \" as E10  <<(T,blue) attribute>> [[psysml:472a68ff-87fb-48cb-b812-c0679e72bd97 ]] {\r\n",
       "##//values//##\r\n",
       " <U+003D> A(y<U+003D>a, x<U+003D>\"\")\r\n",
       "}\r\n",
       "comp usage \"c  \" as E11  <<(T,blue) attribute>> [[psysml:b12c6daa-efd4-472f-91f1-7e0209b6a2bc ]] {\r\n",
       "##//values//##\r\n",
       " <U+003D> A(\"test2\")\r\n",
       "}\r\n",
       "}\r\n",
       "E3 - -:|> E2 [[psysml:de703d0e-2ba0-4603-81fc-fcf4f6dc7e4d ]] \r\n",
       "@enduml\r\n",
       "\n",
       "PlantUML version 1.2022.7(Mon Aug 22 17:01:30 UTC 2022)\n",
       "(EPL source distribution)\n",
       "Java Runtime: OpenJDK Runtime Environment\n",
       "JVM: OpenJDK 64-Bit Server VM\n",
       "Default Encoding: UTF-8\n",
       "Language: en\n",
       "Country: null\n",
       "--></g></svg>"
      ]
     },
     "execution_count": 57,
     "metadata": {},
     "output_type": "execute_result"
    }
   ],
   "source": [
    "%viz --style=\"ORTHOLINE\" --view=\"MIXED\" \"ParameterTest\""
   ]
  }
 ],
 "metadata": {
  "kernelspec": {
   "display_name": "SysML",
   "language": "sysml",
   "name": "sysml"
  },
  "language_info": {
   "codemirror_mode": "sysml",
   "file_extension": ".sysml",
   "mimetype": "text/x-sysml",
   "name": "SysML",
   "pygments_lexer": "java",
   "version": "1.0.0"
  }
 },
 "nbformat": 4,
 "nbformat_minor": 5
}
