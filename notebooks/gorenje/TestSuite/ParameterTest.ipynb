{
 "cells": [
  {
   "cell_type": "markdown",
   "id": "valued-webster",
   "metadata": {},
   "source": [
    "# SysML v2 Test Suite\n",
    "\n",
    "This can notebook can be cleared using menu `Edit --> Clear All Outputs` and then all cells can be\n",
    "run using menu `Run --> Run All Cells`.\n",
    "\n",
    "**WARNING**: This file is generated, all modifications here will be ignored.\n"
   ]
  },
  {
   "cell_type": "markdown",
   "id": "casual-referral",
   "metadata": {},
   "source": [
    "## File: ../../sysml/src/examples/Simple Tests/ParameterTest.sysml"
   ]
  },
  {
   "cell_type": "code",
   "execution_count": 1,
   "id": "controlling-brush",
   "metadata": {
    "execution": {
     "iopub.execute_input": "2021-03-25T13:43:54.953908Z",
     "iopub.status.busy": "2021-03-25T13:43:54.953177Z",
     "iopub.status.idle": "2021-03-25T13:43:55.269287Z",
     "shell.execute_reply": "2021-03-25T13:43:55.268794Z"
    }
   },
   "outputs": [
    {
     "data": {
      "text/plain": [
       "Package ParameterTest (04a0cd0a-714c-415c-be32-d3c8c1dbdd01)\n"
      ]
     },
     "execution_count": 1,
     "metadata": {},
     "output_type": "execute_result"
    }
   ],
   "source": [
    "package ParameterTest {\n",
    "\tattribute def A {\n",
    "\t\tattribute x : ScalarValues::String;\n",
    "\t\tattribute y : A;\n",
    "\t}\n",
    "\t\n",
    "\tattribute a : A;\n",
    "\t\n",
    "\tcalc def F (p : A, q : ScalarValues::Integer): ScalarValues::Integer;\n",
    "\t\n",
    "\tattribute f = F(a, 2);\n",
    "\tattribute g = F(q => 1, p => a);\n",
    "\t\n",
    "\tattribute b = A(y=>a, x=>\"\"); \n",
    "\tattribute c = A(\"test2\");\n",
    "}"
   ]
  },
  {
   "cell_type": "code",
   "execution_count": 2,
   "id": "killing-bridge",
   "metadata": {
    "execution": {
     "iopub.execute_input": "2021-03-25T13:43:55.322114Z",
     "iopub.status.busy": "2021-03-25T13:43:55.321555Z",
     "iopub.status.idle": "2021-03-25T13:43:56.386158Z",
     "shell.execute_reply": "2021-03-25T13:43:56.385437Z"
    }
   },
   "outputs": [
    {
     "data": {
      "image/svg+xml": [
       "<?xml version=\"1.0\" encoding=\"UTF-8\" standalone=\"no\"?><svg xmlns=\"http://www.w3.org/2000/svg\" xmlns:xlink=\"http://www.w3.org/1999/xlink\" contentScriptType=\"application/ecmascript\" contentStyleType=\"text/css\" height=\"263px\" preserveAspectRatio=\"none\" style=\"width:740px;height:263px;\" version=\"1.1\" viewBox=\"0 0 740 263\" width=\"740px\" zoomAndPan=\"magnify\"><defs/><g><!--MD5=[fbc87193dbaf4d95561dea2c320d4a47]\n",
       "cluster E1--><a href=\"psysml:edb9bc9d-436b-4f02-a049-a38172af8e0d\" target=\"_top\" title=\"psysml:edb9bc9d-436b-4f02-a049-a38172af8e0d\" xlink:actuate=\"onRequest\" xlink:href=\"psysml:edb9bc9d-436b-4f02-a049-a38172af8e0d\" xlink:show=\"new\" xlink:title=\"psysml:edb9bc9d-436b-4f02-a049-a38172af8e0d\" xlink:type=\"simple\"><polygon fill=\"#FFFFFF\" points=\"16,6,139,6,146,28.2969,718,28.2969,718,251,16,251,16,6\" style=\"stroke: #000000; stroke-width: 1.5;\"/><line style=\"stroke: #000000; stroke-width: 1.5;\" x1=\"16\" x2=\"146\" y1=\"28.2969\" y2=\"28.2969\"/><text fill=\"#000000\" font-family=\"sans-serif\" font-size=\"14\" font-weight=\"bold\" lengthAdjust=\"spacingAndGlyphs\" textLength=\"117\" x=\"20\" y=\"20.9951\">ParameterTest</text></a><!--MD5=[f6df4d0ebaf0b5dfb2ced0ae5af7c670]\n",
       "cluster E4--><a href=\"psysml:42a33a96-c599-425f-a532-027e99d4f603\" target=\"_top\" title=\"psysml:42a33a96-c599-425f-a532-027e99d4f603\" xlink:actuate=\"onRequest\" xlink:href=\"psysml:42a33a96-c599-425f-a532-027e99d4f603\" xlink:show=\"new\" xlink:title=\"psysml:42a33a96-c599-425f-a532-027e99d4f603\" xlink:type=\"simple\"><rect fill=\"#FFFFFF\" height=\"160.5\" id=\"E4\" style=\"stroke: #383838; stroke-width: 1.5;\" width=\"148\" x=\"554\" y=\"64\"/><rect fill=\"#F8F8F8\" height=\"37.9375\" style=\"stroke: #383838; stroke-width: 1.5;\" width=\"148\" x=\"554\" y=\"64\"/><text fill=\"#000000\" font-family=\"sans-serif\" font-size=\"12\" font-style=\"italic\" lengthAdjust=\"spacingAndGlyphs\" textLength=\"106\" x=\"575\" y=\"80.1387\">«calculation def»</text><text fill=\"#000000\" font-family=\"sans-serif\" font-size=\"12\" lengthAdjust=\"spacingAndGlyphs\" textLength=\"7\" x=\"624.5\" y=\"94.1074\">F</text></a><!--MD5=[b4997ac47864f28c2f74865a473b2911]\n",
       "class E2--><a href=\"psysml:72c120f1-27bf-4069-82f6-2517ea0440e6\" target=\"_top\" title=\"psysml:72c120f1-27bf-4069-82f6-2517ea0440e6\" xlink:actuate=\"onRequest\" xlink:href=\"psysml:72c120f1-27bf-4069-82f6-2517ea0440e6\" xlink:show=\"new\" xlink:title=\"psysml:72c120f1-27bf-4069-82f6-2517ea0440e6\" xlink:type=\"simple\"><rect fill=\"#FFFFFF\" height=\"88.3516\" id=\"E2\" style=\"stroke: #383838; stroke-width: 1.5;\" width=\"95\" x=\"422.5\" y=\"147\"/><text fill=\"#000000\" font-family=\"sans-serif\" font-size=\"12\" font-style=\"italic\" lengthAdjust=\"spacingAndGlyphs\" textLength=\"93\" x=\"423.5\" y=\"163.1387\">«attribute def»</text><text fill=\"#000000\" font-family=\"sans-serif\" font-size=\"12\" lengthAdjust=\"spacingAndGlyphs\" textLength=\"8\" x=\"466\" y=\"177.1074\">A</text><line style=\"stroke: #383838; stroke-width: 1.5;\" x1=\"423.5\" x2=\"516.5\" y1=\"184.9375\" y2=\"184.9375\"/><text fill=\"#000000\" font-family=\"sans-serif\" font-size=\"11\" lengthAdjust=\"spacingAndGlyphs\" textLength=\"48\" x=\"428.5\" y=\"215.9526\">x: String</text><text fill=\"#000000\" font-family=\"sans-serif\" font-size=\"11\" lengthAdjust=\"spacingAndGlyphs\" textLength=\"21\" x=\"428.5\" y=\"228.7573\">y: A</text><line style=\"stroke: #383838; stroke-width: 1.0;\" x1=\"423.5\" x2=\"442.5\" y1=\"199.3398\" y2=\"199.3398\"/><text fill=\"#000000\" font-family=\"sans-serif\" font-size=\"11\" lengthAdjust=\"spacingAndGlyphs\" textLength=\"55\" x=\"442.5\" y=\"202.6479\">attributes</text><line style=\"stroke: #383838; stroke-width: 1.0;\" x1=\"497.5\" x2=\"516.5\" y1=\"199.3398\" y2=\"199.3398\"/></a><!--MD5=[09b614a08d8cba4a07c9adeb5e0fee81]\n",
       "class E3--><a href=\"psysml:449a2126-050e-4d76-9596-2419df0cfe8a\" target=\"_top\" title=\"psysml:449a2126-050e-4d76-9596-2419df0cfe8a\" xlink:actuate=\"onRequest\" xlink:href=\"psysml:449a2126-050e-4d76-9596-2419df0cfe8a\" xlink:show=\"new\" xlink:title=\"psysml:449a2126-050e-4d76-9596-2419df0cfe8a\" xlink:type=\"simple\"><rect fill=\"#FFFFFF\" height=\"45.9375\" id=\"E3\" rx=\"10\" ry=\"10\" style=\"stroke: #383838; stroke-width: 1.5;\" width=\"71\" x=\"456.5\" y=\"41\"/><text fill=\"#000000\" font-family=\"sans-serif\" font-size=\"12\" font-style=\"italic\" lengthAdjust=\"spacingAndGlyphs\" textLength=\"69\" x=\"457.5\" y=\"57.1387\">«attribute»</text><text fill=\"#000000\" font-family=\"sans-serif\" font-size=\"12\" lengthAdjust=\"spacingAndGlyphs\" textLength=\"24\" x=\"480\" y=\"71.1074\">a: A</text><line style=\"stroke: #383838; stroke-width: 1.5;\" x1=\"457.5\" x2=\"526.5\" y1=\"78.9375\" y2=\"78.9375\"/></a><!--MD5=[2156ba9850f5573cc1fc38a6a4b2f02b]\n",
       "class E7--><a href=\"psysml:04c0c290-1f5b-4b73-9b90-1720c7950e1a\" target=\"_top\" title=\"psysml:04c0c290-1f5b-4b73-9b90-1720c7950e1a\" xlink:actuate=\"onRequest\" xlink:href=\"psysml:04c0c290-1f5b-4b73-9b90-1720c7950e1a\" xlink:show=\"new\" xlink:title=\"psysml:04c0c290-1f5b-4b73-9b90-1720c7950e1a\" xlink:type=\"simple\"><rect fill=\"#FFFFFF\" height=\"45.9375\" id=\"E7\" rx=\"10\" ry=\"10\" style=\"stroke: #383838; stroke-width: 1.5;\" width=\"71\" x=\"350.5\" y=\"41\"/><text fill=\"#000000\" font-family=\"sans-serif\" font-size=\"12\" font-style=\"italic\" lengthAdjust=\"spacingAndGlyphs\" textLength=\"69\" x=\"351.5\" y=\"57.1387\">«attribute»</text><text fill=\"#000000\" font-family=\"sans-serif\" font-size=\"12\" lengthAdjust=\"spacingAndGlyphs\" textLength=\"4\" x=\"384\" y=\"71.1074\">f</text><line style=\"stroke: #383838; stroke-width: 1.5;\" x1=\"351.5\" x2=\"420.5\" y1=\"78.9375\" y2=\"78.9375\"/></a><!--MD5=[b9389687b975829384b498ac4b7476b2]\n",
       "class E8--><a href=\"psysml:514c602a-a137-45fe-b85f-d9c421e6e02c\" target=\"_top\" title=\"psysml:514c602a-a137-45fe-b85f-d9c421e6e02c\" xlink:actuate=\"onRequest\" xlink:href=\"psysml:514c602a-a137-45fe-b85f-d9c421e6e02c\" xlink:show=\"new\" xlink:title=\"psysml:514c602a-a137-45fe-b85f-d9c421e6e02c\" xlink:type=\"simple\"><rect fill=\"#FFFFFF\" height=\"45.9375\" id=\"E8\" rx=\"10\" ry=\"10\" style=\"stroke: #383838; stroke-width: 1.5;\" width=\"71\" x=\"244.5\" y=\"41\"/><text fill=\"#000000\" font-family=\"sans-serif\" font-size=\"12\" font-style=\"italic\" lengthAdjust=\"spacingAndGlyphs\" textLength=\"69\" x=\"245.5\" y=\"57.1387\">«attribute»</text><text fill=\"#000000\" font-family=\"sans-serif\" font-size=\"12\" lengthAdjust=\"spacingAndGlyphs\" textLength=\"8\" x=\"276\" y=\"71.1074\">g</text><line style=\"stroke: #383838; stroke-width: 1.5;\" x1=\"245.5\" x2=\"314.5\" y1=\"78.9375\" y2=\"78.9375\"/></a><!--MD5=[fd4143e9d270a159db93a4ea2a975926]\n",
       "class E9--><a href=\"psysml:1980a670-9bad-4a6e-b892-05e752677470\" target=\"_top\" title=\"psysml:1980a670-9bad-4a6e-b892-05e752677470\" xlink:actuate=\"onRequest\" xlink:href=\"psysml:1980a670-9bad-4a6e-b892-05e752677470\" xlink:show=\"new\" xlink:title=\"psysml:1980a670-9bad-4a6e-b892-05e752677470\" xlink:type=\"simple\"><rect fill=\"#FFFFFF\" height=\"45.9375\" id=\"E9\" rx=\"10\" ry=\"10\" style=\"stroke: #383838; stroke-width: 1.5;\" width=\"71\" x=\"138.5\" y=\"41\"/><text fill=\"#000000\" font-family=\"sans-serif\" font-size=\"12\" font-style=\"italic\" lengthAdjust=\"spacingAndGlyphs\" textLength=\"69\" x=\"139.5\" y=\"57.1387\">«attribute»</text><text fill=\"#000000\" font-family=\"sans-serif\" font-size=\"12\" lengthAdjust=\"spacingAndGlyphs\" textLength=\"8\" x=\"170\" y=\"71.1074\">b</text><line style=\"stroke: #383838; stroke-width: 1.5;\" x1=\"139.5\" x2=\"208.5\" y1=\"78.9375\" y2=\"78.9375\"/></a><!--MD5=[96f4274e9e20536e775497830990834d]\n",
       "class E10--><a href=\"psysml:c3372668-2566-45ef-b19a-e891239054bd\" target=\"_top\" title=\"psysml:c3372668-2566-45ef-b19a-e891239054bd\" xlink:actuate=\"onRequest\" xlink:href=\"psysml:c3372668-2566-45ef-b19a-e891239054bd\" xlink:show=\"new\" xlink:title=\"psysml:c3372668-2566-45ef-b19a-e891239054bd\" xlink:type=\"simple\"><rect fill=\"#FFFFFF\" height=\"45.9375\" id=\"E10\" rx=\"10\" ry=\"10\" style=\"stroke: #383838; stroke-width: 1.5;\" width=\"71\" x=\"32.5\" y=\"41\"/><text fill=\"#000000\" font-family=\"sans-serif\" font-size=\"12\" font-style=\"italic\" lengthAdjust=\"spacingAndGlyphs\" textLength=\"69\" x=\"33.5\" y=\"57.1387\">«attribute»</text><text fill=\"#000000\" font-family=\"sans-serif\" font-size=\"12\" lengthAdjust=\"spacingAndGlyphs\" textLength=\"7\" x=\"64.5\" y=\"71.1074\">c</text><line style=\"stroke: #383838; stroke-width: 1.5;\" x1=\"33.5\" x2=\"102.5\" y1=\"78.9375\" y2=\"78.9375\"/></a><text fill=\"#000000\" font-family=\"sans-serif\" font-size=\"14\" lengthAdjust=\"spacingAndGlyphs\" textLength=\"9\" x=\"567.5\" y=\"42.6982\">p</text><rect fill=\"#383838\" height=\"12\" style=\"stroke: #F8F8F8; stroke-width: 1.5;\" width=\"12\" x=\"566\" y=\"58\"/><text fill=\"#000000\" font-family=\"sans-serif\" font-size=\"14\" lengthAdjust=\"spacingAndGlyphs\" textLength=\"9\" x=\"614.5\" y=\"42.6982\">q</text><rect fill=\"#383838\" height=\"12\" style=\"stroke: #F8F8F8; stroke-width: 1.5;\" width=\"12\" x=\"613\" y=\"58\"/><!--MD5=[05d275557350bfb9b23a4ef7222b4c39]\n",
       "link E3 to E2--><a href=\"psysml:c16b553f-69e4-4116-bada-9588c5abaa28\" target=\"_top\" title=\"psysml:c16b553f-69e4-4116-bada-9588c5abaa28\" xlink:actuate=\"onRequest\" xlink:href=\"psysml:c16b553f-69e4-4116-bada-9588c5abaa28\" xlink:show=\"new\" xlink:title=\"psysml:c16b553f-69e4-4116-bada-9588c5abaa28\" xlink:type=\"simple\"><path d=\"M488.12,87.06 C486.14,98.3 483.62,112.6 481.1,126.95 \" fill=\"none\" id=\"E3-&gt;E2\" style=\"stroke: #383838; stroke-width: 1.0;\"/><polygon fill=\"#FFFFFF\" points=\"477.58,146.93,473.9835,127.0035,487.7711,129.4331,477.58,146.93\" style=\"stroke: #383838; stroke-width: 1.0;\"/><ellipse cx=\"476.9423\" cy=\"121.7371\" fill=\"#383838\" rx=\"2\" ry=\"2\" style=\"stroke: #383838; stroke-width: 1.0;\"/><ellipse cx=\"486.7906\" cy=\"123.4725\" fill=\"#383838\" rx=\"2\" ry=\"2\" style=\"stroke: #383838; stroke-width: 1.0;\"/></a><!--MD5=[f5d3a9b68cab36c6aedfad7693127b0e]\n",
       "@startuml\r\n",
       " skinparam monochrome true\r\n",
       "skinparam classbackgroundcolor white\r\n",
       "skinparam shadowing false\r\n",
       "skinparam wrapWidth 300\r\n",
       "hide circle\r\n",
       "\r\n",
       "package \"ParameterTest\" as E1  [[psysml:edb9bc9d-436b-4f02-a049-a38172af8e0d ]]  {\r\n",
       "comp def \"A\" as E2  <<(T,blue)attribute def>> [[psysml:72c120f1-27bf-4069-82f6-2517ea0440e6 ]] {\r\n",
       "- - attributes - -\r\n",
       "x: String\r\n",
       "y: A\r\n",
       "}\r\n",
       "comp usage \"a: A\" as E3  <<(T,blue)attribute>> [[psysml:449a2126-050e-4d76-9596-2419df0cfe8a ]] {\r\n",
       "}\r\n",
       "rec def \"F\" as E4  <<(T,blue)calculation def>> [[psysml:42a33a96-c599-425f-a532-027e99d4f603 ]] {\r\n",
       "portin \"p\" as E5  [[psysml:7844d093-18d6-4bcd-8bc7-6ee8559e13ae ]] \r\n",
       "portin \"q\" as E6  [[psysml:60bdf07c-a2db-456e-a058-70cb9f3de468 ]] \r\n",
       "}\r\n",
       "\r\n",
       "comp usage \"f\" as E7  <<(T,blue)attribute>> [[psysml:04c0c290-1f5b-4b73-9b90-1720c7950e1a ]] {\r\n",
       "}\r\n",
       "comp usage \"g\" as E8  <<(T,blue)attribute>> [[psysml:514c602a-a137-45fe-b85f-d9c421e6e02c ]] {\r\n",
       "}\r\n",
       "comp usage \"b\" as E9  <<(T,blue)attribute>> [[psysml:1980a670-9bad-4a6e-b892-05e752677470 ]] {\r\n",
       "}\r\n",
       "comp usage \"c\" as E10  <<(T,blue)attribute>> [[psysml:c3372668-2566-45ef-b19a-e891239054bd ]] {\r\n",
       "}\r\n",
       "E3 - -:|> E2 [[psysml:c16b553f-69e4-4116-bada-9588c5abaa28 ]] \r\n",
       "}\r\n",
       "@enduml\r\n",
       "\n",
       "PlantUML version 1.2020.13(Sat Jun 13 12:26:38 UTC 2020)\n",
       "(EPL source distribution)\n",
       "Java Runtime: OpenJDK Runtime Environment\n",
       "JVM: OpenJDK 64-Bit Server VM\n",
       "Default Encoding: UTF-8\n",
       "Language: en\n",
       "Country: null\n",
       "--></g></svg>"
      ]
     },
     "execution_count": 2,
     "metadata": {},
     "output_type": "execute_result"
    }
   ],
   "source": [
    "%viz --style=\"COMPTREE\" --view=\"Default\" \"ParameterTest\""
   ]
  },
  {
   "cell_type": "code",
   "execution_count": 3,
   "id": "sorted-indiana",
   "metadata": {
    "execution": {
     "iopub.execute_input": "2021-03-25T13:43:56.437994Z",
     "iopub.status.busy": "2021-03-25T13:43:56.437427Z",
     "iopub.status.idle": "2021-03-25T13:43:56.754563Z",
     "shell.execute_reply": "2021-03-25T13:43:56.752848Z"
    }
   },
   "outputs": [
    {
     "data": {
      "image/svg+xml": [
       "<?xml version=\"1.0\" encoding=\"UTF-8\" standalone=\"no\"?><svg xmlns=\"http://www.w3.org/2000/svg\" xmlns:xlink=\"http://www.w3.org/1999/xlink\" contentScriptType=\"application/ecmascript\" contentStyleType=\"text/css\" height=\"280px\" preserveAspectRatio=\"none\" style=\"width:710px;height:280px;\" version=\"1.1\" viewBox=\"0 0 710 280\" width=\"710px\" zoomAndPan=\"magnify\"><defs/><g><!--MD5=[fbc87193dbaf4d95561dea2c320d4a47]\n",
       "cluster E1--><a href=\"psysml:edb9bc9d-436b-4f02-a049-a38172af8e0d\" target=\"_top\" title=\"psysml:edb9bc9d-436b-4f02-a049-a38172af8e0d\" xlink:actuate=\"onRequest\" xlink:href=\"psysml:edb9bc9d-436b-4f02-a049-a38172af8e0d\" xlink:show=\"new\" xlink:title=\"psysml:edb9bc9d-436b-4f02-a049-a38172af8e0d\" xlink:type=\"simple\"><polygon fill=\"#FFFFFF\" points=\"16,6,139,6,146,28.2969,688,28.2969,688,268,16,268,16,6\" style=\"stroke: #000000; stroke-width: 1.5;\"/><line style=\"stroke: #000000; stroke-width: 1.5;\" x1=\"16\" x2=\"146\" y1=\"28.2969\" y2=\"28.2969\"/><text fill=\"#000000\" font-family=\"sans-serif\" font-size=\"14\" font-weight=\"bold\" lengthAdjust=\"spacingAndGlyphs\" textLength=\"117\" x=\"20\" y=\"20.9951\">ParameterTest</text></a><!--MD5=[b4997ac47864f28c2f74865a473b2911]\n",
       "class E2--><a href=\"psysml:72c120f1-27bf-4069-82f6-2517ea0440e6\" target=\"_top\" title=\"psysml:72c120f1-27bf-4069-82f6-2517ea0440e6\" xlink:actuate=\"onRequest\" xlink:href=\"psysml:72c120f1-27bf-4069-82f6-2517ea0440e6\" xlink:show=\"new\" xlink:title=\"psysml:72c120f1-27bf-4069-82f6-2517ea0440e6\" xlink:type=\"simple\"><rect fill=\"#FFFFFF\" height=\"88.3516\" id=\"E2\" style=\"stroke: #383838; stroke-width: 1.5;\" width=\"95\" x=\"498.5\" y=\"164\"/><text fill=\"#000000\" font-family=\"sans-serif\" font-size=\"12\" font-style=\"italic\" lengthAdjust=\"spacingAndGlyphs\" textLength=\"93\" x=\"499.5\" y=\"180.1387\">«attribute def»</text><text fill=\"#000000\" font-family=\"sans-serif\" font-size=\"12\" lengthAdjust=\"spacingAndGlyphs\" textLength=\"8\" x=\"542\" y=\"194.1074\">A</text><line style=\"stroke: #383838; stroke-width: 1.5;\" x1=\"499.5\" x2=\"592.5\" y1=\"201.9375\" y2=\"201.9375\"/><text fill=\"#000000\" font-family=\"sans-serif\" font-size=\"11\" lengthAdjust=\"spacingAndGlyphs\" textLength=\"48\" x=\"504.5\" y=\"232.9526\">x: String</text><text fill=\"#000000\" font-family=\"sans-serif\" font-size=\"11\" lengthAdjust=\"spacingAndGlyphs\" textLength=\"21\" x=\"504.5\" y=\"245.7573\">y: A</text><line style=\"stroke: #383838; stroke-width: 1.0;\" x1=\"499.5\" x2=\"518.5\" y1=\"216.3398\" y2=\"216.3398\"/><text fill=\"#000000\" font-family=\"sans-serif\" font-size=\"11\" lengthAdjust=\"spacingAndGlyphs\" textLength=\"55\" x=\"518.5\" y=\"219.6479\">attributes</text><line style=\"stroke: #383838; stroke-width: 1.0;\" x1=\"573.5\" x2=\"592.5\" y1=\"216.3398\" y2=\"216.3398\"/></a><!--MD5=[09b614a08d8cba4a07c9adeb5e0fee81]\n",
       "class E3--><a href=\"psysml:449a2126-050e-4d76-9596-2419df0cfe8a\" target=\"_top\" title=\"psysml:449a2126-050e-4d76-9596-2419df0cfe8a\" xlink:actuate=\"onRequest\" xlink:href=\"psysml:449a2126-050e-4d76-9596-2419df0cfe8a\" xlink:show=\"new\" xlink:title=\"psysml:449a2126-050e-4d76-9596-2419df0cfe8a\" xlink:type=\"simple\"><rect fill=\"#FFFFFF\" height=\"45.9375\" id=\"E3\" rx=\"10\" ry=\"10\" style=\"stroke: #383838; stroke-width: 1.5;\" width=\"71\" x=\"600.5\" y=\"41\"/><text fill=\"#000000\" font-family=\"sans-serif\" font-size=\"12\" font-style=\"italic\" lengthAdjust=\"spacingAndGlyphs\" textLength=\"69\" x=\"601.5\" y=\"57.1387\">«attribute»</text><text fill=\"#000000\" font-family=\"sans-serif\" font-size=\"12\" lengthAdjust=\"spacingAndGlyphs\" textLength=\"24\" x=\"624\" y=\"71.1074\">a: A</text><line style=\"stroke: #383838; stroke-width: 1.5;\" x1=\"601.5\" x2=\"670.5\" y1=\"78.9375\" y2=\"78.9375\"/></a><!--MD5=[ebbe1d658d1005bcc118a6aa81145e00]\n",
       "class E4--><a href=\"psysml:42a33a96-c599-425f-a532-027e99d4f603\" target=\"_top\" title=\"psysml:42a33a96-c599-425f-a532-027e99d4f603\" xlink:actuate=\"onRequest\" xlink:href=\"psysml:42a33a96-c599-425f-a532-027e99d4f603\" xlink:show=\"new\" xlink:title=\"psysml:42a33a96-c599-425f-a532-027e99d4f603\" xlink:type=\"simple\"><rect fill=\"#FFFFFF\" height=\"45.9375\" id=\"E4\" style=\"stroke: #383838; stroke-width: 1.5;\" width=\"108\" x=\"457\" y=\"41\"/><text fill=\"#000000\" font-family=\"sans-serif\" font-size=\"12\" font-style=\"italic\" lengthAdjust=\"spacingAndGlyphs\" textLength=\"106\" x=\"458\" y=\"57.1387\">«calculation def»</text><text fill=\"#000000\" font-family=\"sans-serif\" font-size=\"12\" lengthAdjust=\"spacingAndGlyphs\" textLength=\"7\" x=\"507.5\" y=\"71.1074\">F</text><line style=\"stroke: #383838; stroke-width: 1.5;\" x1=\"458\" x2=\"564\" y1=\"78.9375\" y2=\"78.9375\"/></a><!--MD5=[270fce915f116d4de14055a7c1d9a0f3]\n",
       "class E5--><a href=\"psysml:04c0c290-1f5b-4b73-9b90-1720c7950e1a\" target=\"_top\" title=\"psysml:04c0c290-1f5b-4b73-9b90-1720c7950e1a\" xlink:actuate=\"onRequest\" xlink:href=\"psysml:04c0c290-1f5b-4b73-9b90-1720c7950e1a\" xlink:show=\"new\" xlink:title=\"psysml:04c0c290-1f5b-4b73-9b90-1720c7950e1a\" xlink:type=\"simple\"><rect fill=\"#FFFFFF\" height=\"45.9375\" id=\"E5\" rx=\"10\" ry=\"10\" style=\"stroke: #383838; stroke-width: 1.5;\" width=\"71\" x=\"350.5\" y=\"41\"/><text fill=\"#000000\" font-family=\"sans-serif\" font-size=\"12\" font-style=\"italic\" lengthAdjust=\"spacingAndGlyphs\" textLength=\"69\" x=\"351.5\" y=\"57.1387\">«attribute»</text><text fill=\"#000000\" font-family=\"sans-serif\" font-size=\"12\" lengthAdjust=\"spacingAndGlyphs\" textLength=\"4\" x=\"384\" y=\"71.1074\">f</text><line style=\"stroke: #383838; stroke-width: 1.5;\" x1=\"351.5\" x2=\"420.5\" y1=\"78.9375\" y2=\"78.9375\"/></a><!--MD5=[60a26617385b1d2d0262a64233df1f8d]\n",
       "class E6--><a href=\"psysml:514c602a-a137-45fe-b85f-d9c421e6e02c\" target=\"_top\" title=\"psysml:514c602a-a137-45fe-b85f-d9c421e6e02c\" xlink:actuate=\"onRequest\" xlink:href=\"psysml:514c602a-a137-45fe-b85f-d9c421e6e02c\" xlink:show=\"new\" xlink:title=\"psysml:514c602a-a137-45fe-b85f-d9c421e6e02c\" xlink:type=\"simple\"><rect fill=\"#FFFFFF\" height=\"45.9375\" id=\"E6\" rx=\"10\" ry=\"10\" style=\"stroke: #383838; stroke-width: 1.5;\" width=\"71\" x=\"244.5\" y=\"41\"/><text fill=\"#000000\" font-family=\"sans-serif\" font-size=\"12\" font-style=\"italic\" lengthAdjust=\"spacingAndGlyphs\" textLength=\"69\" x=\"245.5\" y=\"57.1387\">«attribute»</text><text fill=\"#000000\" font-family=\"sans-serif\" font-size=\"12\" lengthAdjust=\"spacingAndGlyphs\" textLength=\"8\" x=\"276\" y=\"71.1074\">g</text><line style=\"stroke: #383838; stroke-width: 1.5;\" x1=\"245.5\" x2=\"314.5\" y1=\"78.9375\" y2=\"78.9375\"/></a><!--MD5=[2156ba9850f5573cc1fc38a6a4b2f02b]\n",
       "class E7--><a href=\"psysml:1980a670-9bad-4a6e-b892-05e752677470\" target=\"_top\" title=\"psysml:1980a670-9bad-4a6e-b892-05e752677470\" xlink:actuate=\"onRequest\" xlink:href=\"psysml:1980a670-9bad-4a6e-b892-05e752677470\" xlink:show=\"new\" xlink:title=\"psysml:1980a670-9bad-4a6e-b892-05e752677470\" xlink:type=\"simple\"><rect fill=\"#FFFFFF\" height=\"45.9375\" id=\"E7\" rx=\"10\" ry=\"10\" style=\"stroke: #383838; stroke-width: 1.5;\" width=\"71\" x=\"138.5\" y=\"41\"/><text fill=\"#000000\" font-family=\"sans-serif\" font-size=\"12\" font-style=\"italic\" lengthAdjust=\"spacingAndGlyphs\" textLength=\"69\" x=\"139.5\" y=\"57.1387\">«attribute»</text><text fill=\"#000000\" font-family=\"sans-serif\" font-size=\"12\" lengthAdjust=\"spacingAndGlyphs\" textLength=\"8\" x=\"170\" y=\"71.1074\">b</text><line style=\"stroke: #383838; stroke-width: 1.5;\" x1=\"139.5\" x2=\"208.5\" y1=\"78.9375\" y2=\"78.9375\"/></a><!--MD5=[b9389687b975829384b498ac4b7476b2]\n",
       "class E8--><a href=\"psysml:c3372668-2566-45ef-b19a-e891239054bd\" target=\"_top\" title=\"psysml:c3372668-2566-45ef-b19a-e891239054bd\" xlink:actuate=\"onRequest\" xlink:href=\"psysml:c3372668-2566-45ef-b19a-e891239054bd\" xlink:show=\"new\" xlink:title=\"psysml:c3372668-2566-45ef-b19a-e891239054bd\" xlink:type=\"simple\"><rect fill=\"#FFFFFF\" height=\"45.9375\" id=\"E8\" rx=\"10\" ry=\"10\" style=\"stroke: #383838; stroke-width: 1.5;\" width=\"71\" x=\"32.5\" y=\"41\"/><text fill=\"#000000\" font-family=\"sans-serif\" font-size=\"12\" font-style=\"italic\" lengthAdjust=\"spacingAndGlyphs\" textLength=\"69\" x=\"33.5\" y=\"57.1387\">«attribute»</text><text fill=\"#000000\" font-family=\"sans-serif\" font-size=\"12\" lengthAdjust=\"spacingAndGlyphs\" textLength=\"7\" x=\"64.5\" y=\"71.1074\">c</text><line style=\"stroke: #383838; stroke-width: 1.5;\" x1=\"33.5\" x2=\"102.5\" y1=\"78.9375\" y2=\"78.9375\"/></a><!--MD5=[05d275557350bfb9b23a4ef7222b4c39]\n",
       "link E3 to E2--><a href=\"psysml:c16b553f-69e4-4116-bada-9588c5abaa28\" target=\"_top\" title=\"psysml:c16b553f-69e4-4116-bada-9588c5abaa28\" xlink:actuate=\"onRequest\" xlink:href=\"psysml:c16b553f-69e4-4116-bada-9588c5abaa28\" xlink:show=\"new\" xlink:title=\"psysml:c16b553f-69e4-4116-bada-9588c5abaa28\" xlink:type=\"simple\"><path d=\"M621.94,87.19 C611.77,103.23 597.51,125.73 584.09,146.9 \" fill=\"none\" id=\"E3-&gt;E2\" style=\"stroke: #383838; stroke-width: 1.0;\"/><polygon fill=\"#FFFFFF\" points=\"573.37,163.82,577.6195,144.0225,589.448,151.5115,573.37,163.82\" style=\"stroke: #383838; stroke-width: 1.0;\"/><ellipse cx=\"582.3584\" cy=\"140.2764\" fill=\"#383838\" rx=\"2\" ry=\"2\" style=\"stroke: #383838; stroke-width: 1.0;\"/><ellipse cx=\"590.8073\" cy=\"145.6258\" fill=\"#383838\" rx=\"2\" ry=\"2\" style=\"stroke: #383838; stroke-width: 1.0;\"/></a><!--MD5=[ddeed8deb2209213b62e6cfabaa108b2]\n",
       "reverse link E4 to E2--><a href=\"psysml:7844d093-18d6-4bcd-8bc7-6ee8559e13ae\" target=\"_top\" title=\"psysml:7844d093-18d6-4bcd-8bc7-6ee8559e13ae\" xlink:actuate=\"onRequest\" xlink:href=\"psysml:7844d093-18d6-4bcd-8bc7-6ee8559e13ae\" xlink:show=\"new\" xlink:title=\"psysml:7844d093-18d6-4bcd-8bc7-6ee8559e13ae\" xlink:type=\"simple\"><path d=\"M519.62,99.96 C524.37,119.25 530.31,143.36 535.36,163.82 \" fill=\"none\" id=\"E4&lt;-E2\" style=\"stroke: #383838; stroke-width: 1.0;\"/><polygon fill=\"#FFFFFF\" points=\"516.47,87.19,514.0229,93.9732,519.3432,98.841,521.7903,92.0577,516.47,87.19\" style=\"stroke: #383838; stroke-width: 1.0;\"/><text fill=\"#000000\" font-family=\"sans-serif\" font-size=\"13\" lengthAdjust=\"spacingAndGlyphs\" textLength=\"8\" x=\"528\" y=\"130.0669\">p</text></a><!--MD5=[b4698fefb8d26e1d7574d8d45cc5d9d8]\n",
       "@startuml\r\n",
       " skinparam monochrome true\r\n",
       "skinparam classbackgroundcolor white\r\n",
       "skinparam shadowing false\r\n",
       "skinparam wrapWidth 300\r\n",
       "hide circle\r\n",
       "\r\n",
       "package \"ParameterTest\" as E1  [[psysml:edb9bc9d-436b-4f02-a049-a38172af8e0d ]]  {\r\n",
       "comp def \"A\" as E2  <<(T,blue)attribute def>> [[psysml:72c120f1-27bf-4069-82f6-2517ea0440e6 ]] {\r\n",
       "- - attributes - -\r\n",
       "x: String\r\n",
       "y: A\r\n",
       "}\r\n",
       "comp usage \"a: A\" as E3  <<(T,blue)attribute>> [[psysml:449a2126-050e-4d76-9596-2419df0cfe8a ]] {\r\n",
       "}\r\n",
       "comp def \"F\" as E4  <<(T,blue)calculation def>> [[psysml:42a33a96-c599-425f-a532-027e99d4f603 ]] {\r\n",
       "}\r\n",
       "comp usage \"f\" as E5  <<(T,blue)attribute>> [[psysml:04c0c290-1f5b-4b73-9b90-1720c7950e1a ]] {\r\n",
       "}\r\n",
       "comp usage \"g\" as E6  <<(T,blue)attribute>> [[psysml:514c602a-a137-45fe-b85f-d9c421e6e02c ]] {\r\n",
       "}\r\n",
       "comp usage \"b\" as E7  <<(T,blue)attribute>> [[psysml:1980a670-9bad-4a6e-b892-05e752677470 ]] {\r\n",
       "}\r\n",
       "comp usage \"c\" as E8  <<(T,blue)attribute>> [[psysml:c3372668-2566-45ef-b19a-e891239054bd ]] {\r\n",
       "}\r\n",
       "E3 - -:|> E2 [[psysml:c16b553f-69e4-4116-bada-9588c5abaa28 ]] \r\n",
       "E4 o- - E2 [[psysml:7844d093-18d6-4bcd-8bc7-6ee8559e13ae ]] : p\r\n",
       "}\r\n",
       "@enduml\r\n",
       "\n",
       "PlantUML version 1.2020.13(Sat Jun 13 12:26:38 UTC 2020)\n",
       "(EPL source distribution)\n",
       "Java Runtime: OpenJDK Runtime Environment\n",
       "JVM: OpenJDK 64-Bit Server VM\n",
       "Default Encoding: UTF-8\n",
       "Language: en\n",
       "Country: null\n",
       "--></g></svg>"
      ]
     },
     "execution_count": 3,
     "metadata": {},
     "output_type": "execute_result"
    }
   ],
   "source": [
    "%viz --style=\"COMPTREE\" --view=\"Tree\" \"ParameterTest\""
   ]
  },
  {
   "cell_type": "code",
   "execution_count": 4,
   "id": "unusual-mainland",
   "metadata": {
    "execution": {
     "iopub.execute_input": "2021-03-25T13:43:56.805853Z",
     "iopub.status.busy": "2021-03-25T13:43:56.805300Z",
     "iopub.status.idle": "2021-03-25T13:43:56.815939Z",
     "shell.execute_reply": "2021-03-25T13:43:56.816356Z"
    }
   },
   "outputs": [
    {
     "data": {
      "image/svg+xml": [
       "<?xml version=\"1.0\" encoding=\"UTF-8\" standalone=\"no\"?><svg xmlns=\"http://www.w3.org/2000/svg\" xmlns:xlink=\"http://www.w3.org/1999/xlink\" contentScriptType=\"application/ecmascript\" contentStyleType=\"text/css\" height=\"12px\" preserveAspectRatio=\"none\" style=\"width:12px;height:12px;\" version=\"1.1\" viewBox=\"0 0 12 12\" width=\"12px\" zoomAndPan=\"magnify\"><defs/><g><!--MD5=[f19188ef49e11757b5c46753f95d9edc]\n",
       "@startuml\r\n",
       " skinparam monochrome true\r\n",
       "skinparam classbackgroundcolor white\r\n",
       "skinparam shadowing false\r\n",
       "skinparam wrapWidth 300\r\n",
       "hide circle\r\n",
       "\r\n",
       "@enduml\r\n",
       "\n",
       "PlantUML version 1.2020.13(Sat Jun 13 12:26:38 UTC 2020)\n",
       "(EPL source distribution)\n",
       "Java Runtime: OpenJDK Runtime Environment\n",
       "JVM: OpenJDK 64-Bit Server VM\n",
       "Default Encoding: UTF-8\n",
       "Language: en\n",
       "Country: null\n",
       "--></g></svg>"
      ]
     },
     "execution_count": 4,
     "metadata": {},
     "output_type": "execute_result"
    }
   ],
   "source": [
    "%viz --style=\"COMPTREE\" --view=\"State\" \"ParameterTest\""
   ]
  },
  {
   "cell_type": "code",
   "execution_count": 5,
   "id": "unnecessary-burton",
   "metadata": {
    "execution": {
     "iopub.execute_input": "2021-03-25T13:43:56.871078Z",
     "iopub.status.busy": "2021-03-25T13:43:56.870272Z",
     "iopub.status.idle": "2021-03-25T13:43:56.981187Z",
     "shell.execute_reply": "2021-03-25T13:43:56.979742Z"
    }
   },
   "outputs": [
    {
     "data": {
      "image/svg+xml": [
       "<?xml version=\"1.0\" encoding=\"UTF-8\" standalone=\"no\"?><svg xmlns=\"http://www.w3.org/2000/svg\" xmlns:xlink=\"http://www.w3.org/1999/xlink\" contentScriptType=\"application/ecmascript\" contentStyleType=\"text/css\" height=\"112px\" preserveAspectRatio=\"none\" style=\"width:874px;height:112px;\" version=\"1.1\" viewBox=\"0 0 874 112\" width=\"874px\" zoomAndPan=\"magnify\"><defs/><g><!--MD5=[fbc87193dbaf4d95561dea2c320d4a47]\n",
       "cluster E1--><a href=\"psysml:edb9bc9d-436b-4f02-a049-a38172af8e0d\" target=\"_top\" title=\"psysml:edb9bc9d-436b-4f02-a049-a38172af8e0d\" xlink:actuate=\"onRequest\" xlink:href=\"psysml:edb9bc9d-436b-4f02-a049-a38172af8e0d\" xlink:show=\"new\" xlink:title=\"psysml:edb9bc9d-436b-4f02-a049-a38172af8e0d\" xlink:type=\"simple\"><polygon fill=\"#FFFFFF\" points=\"16,6,139,6,146,28.2969,852,28.2969,852,100,16,100,16,6\" style=\"stroke: #000000; stroke-width: 1.5;\"/><line style=\"stroke: #000000; stroke-width: 1.5;\" x1=\"16\" x2=\"146\" y1=\"28.2969\" y2=\"28.2969\"/><text fill=\"#000000\" font-family=\"sans-serif\" font-size=\"14\" font-weight=\"bold\" lengthAdjust=\"spacingAndGlyphs\" textLength=\"117\" x=\"20\" y=\"20.9951\">ParameterTest</text></a><g id=\"E1.E2\"><a href=\"psysml:72c120f1-27bf-4069-82f6-2517ea0440e6\" target=\"_top\" title=\"psysml:72c120f1-27bf-4069-82f6-2517ea0440e6\" xlink:actuate=\"onRequest\" xlink:href=\"psysml:72c120f1-27bf-4069-82f6-2517ea0440e6\" xlink:show=\"new\" xlink:title=\"psysml:72c120f1-27bf-4069-82f6-2517ea0440e6\" xlink:type=\"simple\"><rect fill=\"#FFFFFF\" height=\"42.9375\" id=\"E2\" style=\"stroke: #383838; stroke-width: 1.5;\" width=\"100\" x=\"736\" y=\"41\"/><rect fill=\"#F8F8F8\" height=\"37.9375\" style=\"stroke: #383838; stroke-width: 1.5;\" width=\"100\" x=\"736\" y=\"41\"/><text fill=\"#000000\" font-family=\"sans-serif\" font-size=\"12\" font-style=\"italic\" lengthAdjust=\"spacingAndGlyphs\" textLength=\"93\" x=\"739.5\" y=\"57.1387\">«attribute def»</text><text fill=\"#000000\" font-family=\"sans-serif\" font-size=\"12\" lengthAdjust=\"spacingAndGlyphs\" textLength=\"8\" x=\"782\" y=\"71.1074\">A</text></a></g><g id=\"E1.E4\"><a href=\"psysml:42a33a96-c599-425f-a532-027e99d4f603\" target=\"_top\" title=\"psysml:42a33a96-c599-425f-a532-027e99d4f603\" xlink:actuate=\"onRequest\" xlink:href=\"psysml:42a33a96-c599-425f-a532-027e99d4f603\" xlink:show=\"new\" xlink:title=\"psysml:42a33a96-c599-425f-a532-027e99d4f603\" xlink:type=\"simple\"><rect fill=\"#FFFFFF\" height=\"42.9375\" id=\"E4\" style=\"stroke: #383838; stroke-width: 1.5;\" width=\"113\" x=\"587.5\" y=\"41\"/><rect fill=\"#F8F8F8\" height=\"37.9375\" style=\"stroke: #383838; stroke-width: 1.5;\" width=\"113\" x=\"587.5\" y=\"41\"/><text fill=\"#000000\" font-family=\"sans-serif\" font-size=\"12\" font-style=\"italic\" lengthAdjust=\"spacingAndGlyphs\" textLength=\"106\" x=\"591\" y=\"57.1387\">«calculation def»</text><text fill=\"#000000\" font-family=\"sans-serif\" font-size=\"12\" lengthAdjust=\"spacingAndGlyphs\" textLength=\"7\" x=\"640.5\" y=\"71.1074\">F</text></a></g><g id=\"E1.E3\"><a href=\"psysml:449a2126-050e-4d76-9596-2419df0cfe8a\" target=\"_top\" title=\"psysml:449a2126-050e-4d76-9596-2419df0cfe8a\" xlink:actuate=\"onRequest\" xlink:href=\"psysml:449a2126-050e-4d76-9596-2419df0cfe8a\" xlink:show=\"new\" xlink:title=\"psysml:449a2126-050e-4d76-9596-2419df0cfe8a\" xlink:type=\"simple\"><rect fill=\"#FFFFFF\" height=\"42.9375\" id=\"E3\" rx=\"10\" ry=\"10\" style=\"stroke: #383838; stroke-width: 1.5;\" width=\"76\" x=\"476\" y=\"41\"/><rect fill=\"#F8F8F8\" height=\"37.9375\" rx=\"10\" ry=\"10\" style=\"stroke: #F8F8F8; stroke-width: 1.5;\" width=\"76\" x=\"476\" y=\"41\"/><rect fill=\"#F8F8F8\" height=\"10\" style=\"stroke: #F8F8F8; stroke-width: 1.5;\" width=\"76\" x=\"476\" y=\"68.9375\"/><rect fill=\"none\" height=\"42.9375\" id=\"E3\" rx=\"10\" ry=\"10\" style=\"stroke: #383838; stroke-width: 1.5;\" width=\"76\" x=\"476\" y=\"41\"/><text fill=\"#000000\" font-family=\"sans-serif\" font-size=\"12\" font-style=\"italic\" lengthAdjust=\"spacingAndGlyphs\" textLength=\"69\" x=\"479.5\" y=\"57.1387\">«attribute»</text><text fill=\"#000000\" font-family=\"sans-serif\" font-size=\"12\" lengthAdjust=\"spacingAndGlyphs\" textLength=\"24\" x=\"502\" y=\"71.1074\">a: A</text></a></g><g id=\"E1.E5\"><a href=\"psysml:04c0c290-1f5b-4b73-9b90-1720c7950e1a\" target=\"_top\" title=\"psysml:04c0c290-1f5b-4b73-9b90-1720c7950e1a\" xlink:actuate=\"onRequest\" xlink:href=\"psysml:04c0c290-1f5b-4b73-9b90-1720c7950e1a\" xlink:show=\"new\" xlink:title=\"psysml:04c0c290-1f5b-4b73-9b90-1720c7950e1a\" xlink:type=\"simple\"><rect fill=\"#FFFFFF\" height=\"42.9375\" id=\"E5\" rx=\"10\" ry=\"10\" style=\"stroke: #383838; stroke-width: 1.5;\" width=\"76\" x=\"365\" y=\"41\"/><rect fill=\"#F8F8F8\" height=\"37.9375\" rx=\"10\" ry=\"10\" style=\"stroke: #F8F8F8; stroke-width: 1.5;\" width=\"76\" x=\"365\" y=\"41\"/><rect fill=\"#F8F8F8\" height=\"10\" style=\"stroke: #F8F8F8; stroke-width: 1.5;\" width=\"76\" x=\"365\" y=\"68.9375\"/><rect fill=\"none\" height=\"42.9375\" id=\"E5\" rx=\"10\" ry=\"10\" style=\"stroke: #383838; stroke-width: 1.5;\" width=\"76\" x=\"365\" y=\"41\"/><text fill=\"#000000\" font-family=\"sans-serif\" font-size=\"12\" font-style=\"italic\" lengthAdjust=\"spacingAndGlyphs\" textLength=\"69\" x=\"368.5\" y=\"57.1387\">«attribute»</text><text fill=\"#000000\" font-family=\"sans-serif\" font-size=\"12\" lengthAdjust=\"spacingAndGlyphs\" textLength=\"4\" x=\"401\" y=\"71.1074\">f</text></a></g><g id=\"E1.E6\"><a href=\"psysml:514c602a-a137-45fe-b85f-d9c421e6e02c\" target=\"_top\" title=\"psysml:514c602a-a137-45fe-b85f-d9c421e6e02c\" xlink:actuate=\"onRequest\" xlink:href=\"psysml:514c602a-a137-45fe-b85f-d9c421e6e02c\" xlink:show=\"new\" xlink:title=\"psysml:514c602a-a137-45fe-b85f-d9c421e6e02c\" xlink:type=\"simple\"><rect fill=\"#FFFFFF\" height=\"42.9375\" id=\"E6\" rx=\"10\" ry=\"10\" style=\"stroke: #383838; stroke-width: 1.5;\" width=\"76\" x=\"254\" y=\"41\"/><rect fill=\"#F8F8F8\" height=\"37.9375\" rx=\"10\" ry=\"10\" style=\"stroke: #F8F8F8; stroke-width: 1.5;\" width=\"76\" x=\"254\" y=\"41\"/><rect fill=\"#F8F8F8\" height=\"10\" style=\"stroke: #F8F8F8; stroke-width: 1.5;\" width=\"76\" x=\"254\" y=\"68.9375\"/><rect fill=\"none\" height=\"42.9375\" id=\"E6\" rx=\"10\" ry=\"10\" style=\"stroke: #383838; stroke-width: 1.5;\" width=\"76\" x=\"254\" y=\"41\"/><text fill=\"#000000\" font-family=\"sans-serif\" font-size=\"12\" font-style=\"italic\" lengthAdjust=\"spacingAndGlyphs\" textLength=\"69\" x=\"257.5\" y=\"57.1387\">«attribute»</text><text fill=\"#000000\" font-family=\"sans-serif\" font-size=\"12\" lengthAdjust=\"spacingAndGlyphs\" textLength=\"8\" x=\"288\" y=\"71.1074\">g</text></a></g><g id=\"E1.E7\"><a href=\"psysml:1980a670-9bad-4a6e-b892-05e752677470\" target=\"_top\" title=\"psysml:1980a670-9bad-4a6e-b892-05e752677470\" xlink:actuate=\"onRequest\" xlink:href=\"psysml:1980a670-9bad-4a6e-b892-05e752677470\" xlink:show=\"new\" xlink:title=\"psysml:1980a670-9bad-4a6e-b892-05e752677470\" xlink:type=\"simple\"><rect fill=\"#FFFFFF\" height=\"42.9375\" id=\"E7\" rx=\"10\" ry=\"10\" style=\"stroke: #383838; stroke-width: 1.5;\" width=\"76\" x=\"143\" y=\"41\"/><rect fill=\"#F8F8F8\" height=\"37.9375\" rx=\"10\" ry=\"10\" style=\"stroke: #F8F8F8; stroke-width: 1.5;\" width=\"76\" x=\"143\" y=\"41\"/><rect fill=\"#F8F8F8\" height=\"10\" style=\"stroke: #F8F8F8; stroke-width: 1.5;\" width=\"76\" x=\"143\" y=\"68.9375\"/><rect fill=\"none\" height=\"42.9375\" id=\"E7\" rx=\"10\" ry=\"10\" style=\"stroke: #383838; stroke-width: 1.5;\" width=\"76\" x=\"143\" y=\"41\"/><text fill=\"#000000\" font-family=\"sans-serif\" font-size=\"12\" font-style=\"italic\" lengthAdjust=\"spacingAndGlyphs\" textLength=\"69\" x=\"146.5\" y=\"57.1387\">«attribute»</text><text fill=\"#000000\" font-family=\"sans-serif\" font-size=\"12\" lengthAdjust=\"spacingAndGlyphs\" textLength=\"8\" x=\"177\" y=\"71.1074\">b</text></a></g><g id=\"E1.E8\"><a href=\"psysml:c3372668-2566-45ef-b19a-e891239054bd\" target=\"_top\" title=\"psysml:c3372668-2566-45ef-b19a-e891239054bd\" xlink:actuate=\"onRequest\" xlink:href=\"psysml:c3372668-2566-45ef-b19a-e891239054bd\" xlink:show=\"new\" xlink:title=\"psysml:c3372668-2566-45ef-b19a-e891239054bd\" xlink:type=\"simple\"><rect fill=\"#FFFFFF\" height=\"42.9375\" id=\"E8\" rx=\"10\" ry=\"10\" style=\"stroke: #383838; stroke-width: 1.5;\" width=\"76\" x=\"32\" y=\"41\"/><rect fill=\"#F8F8F8\" height=\"37.9375\" rx=\"10\" ry=\"10\" style=\"stroke: #F8F8F8; stroke-width: 1.5;\" width=\"76\" x=\"32\" y=\"41\"/><rect fill=\"#F8F8F8\" height=\"10\" style=\"stroke: #F8F8F8; stroke-width: 1.5;\" width=\"76\" x=\"32\" y=\"68.9375\"/><rect fill=\"none\" height=\"42.9375\" id=\"E8\" rx=\"10\" ry=\"10\" style=\"stroke: #383838; stroke-width: 1.5;\" width=\"76\" x=\"32\" y=\"41\"/><text fill=\"#000000\" font-family=\"sans-serif\" font-size=\"12\" font-style=\"italic\" lengthAdjust=\"spacingAndGlyphs\" textLength=\"69\" x=\"35.5\" y=\"57.1387\">«attribute»</text><text fill=\"#000000\" font-family=\"sans-serif\" font-size=\"12\" lengthAdjust=\"spacingAndGlyphs\" textLength=\"7\" x=\"66.5\" y=\"71.1074\">c</text></a></g><!--MD5=[08b83b9da8b9f73428aece3303d48bed]\n",
       "@startuml\r\n",
       "skinparam ranksep 8\r\n",
       "skinparam rectangle {\r\n",
       " backgroundColor<<block>> LightGreen\r\n",
       "}\r\n",
       " skinparam monochrome true\r\n",
       "skinparam classbackgroundcolor white\r\n",
       "skinparam shadowing false\r\n",
       "skinparam wrapWidth 300\r\n",
       "hide circle\r\n",
       "\r\n",
       "package \"ParameterTest\" as E1  [[psysml:edb9bc9d-436b-4f02-a049-a38172af8e0d ]]  {\r\n",
       "def \"A\" as E2  <<(T,blue)attribute def>> [[psysml:72c120f1-27bf-4069-82f6-2517ea0440e6 ]] \r\n",
       "rec usage \"a: A\" as E3  <<(T,blue)attribute>> [[psysml:449a2126-050e-4d76-9596-2419df0cfe8a ]] {\r\n",
       "}\r\n",
       "def \"F\" as E4  <<(T,blue)calculation def>> [[psysml:42a33a96-c599-425f-a532-027e99d4f603 ]] \r\n",
       "rec usage \"f\" as E5  <<(T,blue)attribute>> [[psysml:04c0c290-1f5b-4b73-9b90-1720c7950e1a ]] {\r\n",
       "}\r\n",
       "rec usage \"g\" as E6  <<(T,blue)attribute>> [[psysml:514c602a-a137-45fe-b85f-d9c421e6e02c ]] {\r\n",
       "}\r\n",
       "rec usage \"b\" as E7  <<(T,blue)attribute>> [[psysml:1980a670-9bad-4a6e-b892-05e752677470 ]] {\r\n",
       "}\r\n",
       "rec usage \"c\" as E8  <<(T,blue)attribute>> [[psysml:c3372668-2566-45ef-b19a-e891239054bd ]] {\r\n",
       "}\r\n",
       "}\r\n",
       "@enduml\r\n",
       "\n",
       "PlantUML version 1.2020.13(Sat Jun 13 12:26:38 UTC 2020)\n",
       "(EPL source distribution)\n",
       "Java Runtime: OpenJDK Runtime Environment\n",
       "JVM: OpenJDK 64-Bit Server VM\n",
       "Default Encoding: UTF-8\n",
       "Language: en\n",
       "Country: null\n",
       "--></g></svg>"
      ]
     },
     "execution_count": 5,
     "metadata": {},
     "output_type": "execute_result"
    }
   ],
   "source": [
    "%viz --style=\"COMPTREE\" --view=\"Interconnection\" \"ParameterTest\""
   ]
  },
  {
   "cell_type": "code",
   "execution_count": 6,
   "id": "compressed-activity",
   "metadata": {
    "execution": {
     "iopub.execute_input": "2021-03-25T13:43:57.032087Z",
     "iopub.status.busy": "2021-03-25T13:43:57.031472Z",
     "iopub.status.idle": "2021-03-25T13:43:57.108728Z",
     "shell.execute_reply": "2021-03-25T13:43:57.107532Z"
    }
   },
   "outputs": [
    {
     "data": {
      "image/svg+xml": [
       "<?xml version=\"1.0\" encoding=\"UTF-8\" standalone=\"no\"?><svg xmlns=\"http://www.w3.org/2000/svg\" xmlns:xlink=\"http://www.w3.org/1999/xlink\" contentScriptType=\"application/ecmascript\" contentStyleType=\"text/css\" height=\"126px\" preserveAspectRatio=\"none\" style=\"width:166px;height:126px;\" version=\"1.1\" viewBox=\"0 0 166 126\" width=\"166px\" zoomAndPan=\"magnify\"><defs/><g><!--MD5=[fbc87193dbaf4d95561dea2c320d4a47]\n",
       "cluster E1--><a href=\"psysml:42a33a96-c599-425f-a532-027e99d4f603\" target=\"_top\" title=\"psysml:42a33a96-c599-425f-a532-027e99d4f603\" xlink:actuate=\"onRequest\" xlink:href=\"psysml:42a33a96-c599-425f-a532-027e99d4f603\" xlink:show=\"new\" xlink:title=\"psysml:42a33a96-c599-425f-a532-027e99d4f603\" xlink:type=\"simple\"><rect fill=\"#FFFFFF\" height=\"73\" id=\"E1\" style=\"stroke: #383838; stroke-width: 1.5;\" width=\"148\" x=\"7\" y=\"42.0986\"/><rect fill=\"#F8F8F8\" height=\"37.9375\" style=\"stroke: #383838; stroke-width: 1.5;\" width=\"148\" x=\"7\" y=\"42.0986\"/><text fill=\"#000000\" font-family=\"sans-serif\" font-size=\"12\" font-style=\"italic\" lengthAdjust=\"spacingAndGlyphs\" textLength=\"106\" x=\"28\" y=\"58.2373\">«calculation def»</text><text fill=\"#000000\" font-family=\"sans-serif\" font-size=\"12\" lengthAdjust=\"spacingAndGlyphs\" textLength=\"7\" x=\"77.5\" y=\"72.2061\">F</text></a><text fill=\"#000000\" font-family=\"sans-serif\" font-size=\"14\" lengthAdjust=\"spacingAndGlyphs\" textLength=\"9\" x=\"20.5\" y=\"20.7969\">p</text><rect fill=\"#383838\" height=\"12\" style=\"stroke: #F8F8F8; stroke-width: 1.5;\" width=\"12\" x=\"19\" y=\"36.0986\"/><text fill=\"#000000\" font-family=\"sans-serif\" font-size=\"14\" lengthAdjust=\"spacingAndGlyphs\" textLength=\"9\" x=\"67.5\" y=\"20.7969\">q</text><rect fill=\"#383838\" height=\"12\" style=\"stroke: #F8F8F8; stroke-width: 1.5;\" width=\"12\" x=\"66\" y=\"36.0986\"/><!--MD5=[29fa788a13af6fa7696cf2848a335081]\n",
       "@startuml\r\n",
       "skinparam ranksep 8\r\n",
       " skinparam monochrome true\r\n",
       "skinparam classbackgroundcolor white\r\n",
       "skinparam shadowing false\r\n",
       "skinparam wrapWidth 300\r\n",
       "hide circle\r\n",
       "\r\n",
       "rec def \"F\" as E1  <<(T,blue)calculation def>> [[psysml:42a33a96-c599-425f-a532-027e99d4f603 ]] {\r\n",
       "portin \"p\" as E2  [[psysml:7844d093-18d6-4bcd-8bc7-6ee8559e13ae ]] \r\n",
       "portin \"q\" as E3  [[psysml:60bdf07c-a2db-456e-a058-70cb9f3de468 ]] \r\n",
       "}\r\n",
       "\r\n",
       "@enduml\r\n",
       "\n",
       "PlantUML version 1.2020.13(Sat Jun 13 12:26:38 UTC 2020)\n",
       "(EPL source distribution)\n",
       "Java Runtime: OpenJDK Runtime Environment\n",
       "JVM: OpenJDK 64-Bit Server VM\n",
       "Default Encoding: UTF-8\n",
       "Language: en\n",
       "Country: null\n",
       "--></g></svg>"
      ]
     },
     "execution_count": 6,
     "metadata": {},
     "output_type": "execute_result"
    }
   ],
   "source": [
    "%viz --style=\"COMPTREE\" --view=\"Action\" \"ParameterTest\""
   ]
  },
  {
   "cell_type": "code",
   "execution_count": 7,
   "id": "stuck-chemical",
   "metadata": {
    "execution": {
     "iopub.execute_input": "2021-03-25T13:43:57.162184Z",
     "iopub.status.busy": "2021-03-25T13:43:57.161096Z",
     "iopub.status.idle": "2021-03-25T13:43:57.479334Z",
     "shell.execute_reply": "2021-03-25T13:43:57.478662Z"
    }
   },
   "outputs": [
    {
     "data": {
      "image/svg+xml": [
       "<?xml version=\"1.0\" encoding=\"UTF-8\" standalone=\"no\"?><svg xmlns=\"http://www.w3.org/2000/svg\" xmlns:xlink=\"http://www.w3.org/1999/xlink\" contentScriptType=\"application/ecmascript\" contentStyleType=\"text/css\" height=\"280px\" preserveAspectRatio=\"none\" style=\"width:710px;height:280px;\" version=\"1.1\" viewBox=\"0 0 710 280\" width=\"710px\" zoomAndPan=\"magnify\"><defs/><g><!--MD5=[fbc87193dbaf4d95561dea2c320d4a47]\n",
       "cluster E1--><a href=\"psysml:edb9bc9d-436b-4f02-a049-a38172af8e0d\" target=\"_top\" title=\"psysml:edb9bc9d-436b-4f02-a049-a38172af8e0d\" xlink:actuate=\"onRequest\" xlink:href=\"psysml:edb9bc9d-436b-4f02-a049-a38172af8e0d\" xlink:show=\"new\" xlink:title=\"psysml:edb9bc9d-436b-4f02-a049-a38172af8e0d\" xlink:type=\"simple\"><polygon fill=\"#FFFFFF\" points=\"16,6,139,6,146,28.2969,688,28.2969,688,268,16,268,16,6\" style=\"stroke: #000000; stroke-width: 1.5;\"/><line style=\"stroke: #000000; stroke-width: 1.5;\" x1=\"16\" x2=\"146\" y1=\"28.2969\" y2=\"28.2969\"/><text fill=\"#000000\" font-family=\"sans-serif\" font-size=\"14\" font-weight=\"bold\" lengthAdjust=\"spacingAndGlyphs\" textLength=\"117\" x=\"20\" y=\"20.9951\">ParameterTest</text></a><!--MD5=[b4997ac47864f28c2f74865a473b2911]\n",
       "class E2--><a href=\"psysml:72c120f1-27bf-4069-82f6-2517ea0440e6\" target=\"_top\" title=\"psysml:72c120f1-27bf-4069-82f6-2517ea0440e6\" xlink:actuate=\"onRequest\" xlink:href=\"psysml:72c120f1-27bf-4069-82f6-2517ea0440e6\" xlink:show=\"new\" xlink:title=\"psysml:72c120f1-27bf-4069-82f6-2517ea0440e6\" xlink:type=\"simple\"><rect fill=\"#FFFFFF\" height=\"88.3516\" id=\"E2\" style=\"stroke: #383838; stroke-width: 1.5;\" width=\"95\" x=\"498.5\" y=\"164\"/><text fill=\"#000000\" font-family=\"sans-serif\" font-size=\"12\" font-style=\"italic\" lengthAdjust=\"spacingAndGlyphs\" textLength=\"93\" x=\"499.5\" y=\"180.1387\">«attribute def»</text><text fill=\"#000000\" font-family=\"sans-serif\" font-size=\"12\" lengthAdjust=\"spacingAndGlyphs\" textLength=\"8\" x=\"542\" y=\"194.1074\">A</text><line style=\"stroke: #383838; stroke-width: 1.5;\" x1=\"499.5\" x2=\"592.5\" y1=\"201.9375\" y2=\"201.9375\"/><text fill=\"#000000\" font-family=\"sans-serif\" font-size=\"11\" lengthAdjust=\"spacingAndGlyphs\" textLength=\"48\" x=\"504.5\" y=\"232.9526\">x: String</text><text fill=\"#000000\" font-family=\"sans-serif\" font-size=\"11\" lengthAdjust=\"spacingAndGlyphs\" textLength=\"21\" x=\"504.5\" y=\"245.7573\">y: A</text><line style=\"stroke: #383838; stroke-width: 1.0;\" x1=\"499.5\" x2=\"518.5\" y1=\"216.3398\" y2=\"216.3398\"/><text fill=\"#000000\" font-family=\"sans-serif\" font-size=\"11\" lengthAdjust=\"spacingAndGlyphs\" textLength=\"55\" x=\"518.5\" y=\"219.6479\">attributes</text><line style=\"stroke: #383838; stroke-width: 1.0;\" x1=\"573.5\" x2=\"592.5\" y1=\"216.3398\" y2=\"216.3398\"/></a><!--MD5=[09b614a08d8cba4a07c9adeb5e0fee81]\n",
       "class E3--><a href=\"psysml:449a2126-050e-4d76-9596-2419df0cfe8a\" target=\"_top\" title=\"psysml:449a2126-050e-4d76-9596-2419df0cfe8a\" xlink:actuate=\"onRequest\" xlink:href=\"psysml:449a2126-050e-4d76-9596-2419df0cfe8a\" xlink:show=\"new\" xlink:title=\"psysml:449a2126-050e-4d76-9596-2419df0cfe8a\" xlink:type=\"simple\"><rect fill=\"#FFFFFF\" height=\"45.9375\" id=\"E3\" rx=\"10\" ry=\"10\" style=\"stroke: #383838; stroke-width: 1.5;\" width=\"71\" x=\"600.5\" y=\"41\"/><text fill=\"#000000\" font-family=\"sans-serif\" font-size=\"12\" font-style=\"italic\" lengthAdjust=\"spacingAndGlyphs\" textLength=\"69\" x=\"601.5\" y=\"57.1387\">«attribute»</text><text fill=\"#000000\" font-family=\"sans-serif\" font-size=\"12\" lengthAdjust=\"spacingAndGlyphs\" textLength=\"24\" x=\"624\" y=\"71.1074\">a: A</text><line style=\"stroke: #383838; stroke-width: 1.5;\" x1=\"601.5\" x2=\"670.5\" y1=\"78.9375\" y2=\"78.9375\"/></a><!--MD5=[ebbe1d658d1005bcc118a6aa81145e00]\n",
       "class E4--><a href=\"psysml:42a33a96-c599-425f-a532-027e99d4f603\" target=\"_top\" title=\"psysml:42a33a96-c599-425f-a532-027e99d4f603\" xlink:actuate=\"onRequest\" xlink:href=\"psysml:42a33a96-c599-425f-a532-027e99d4f603\" xlink:show=\"new\" xlink:title=\"psysml:42a33a96-c599-425f-a532-027e99d4f603\" xlink:type=\"simple\"><rect fill=\"#FFFFFF\" height=\"45.9375\" id=\"E4\" style=\"stroke: #383838; stroke-width: 1.5;\" width=\"108\" x=\"457\" y=\"41\"/><text fill=\"#000000\" font-family=\"sans-serif\" font-size=\"12\" font-style=\"italic\" lengthAdjust=\"spacingAndGlyphs\" textLength=\"106\" x=\"458\" y=\"57.1387\">«calculation def»</text><text fill=\"#000000\" font-family=\"sans-serif\" font-size=\"12\" lengthAdjust=\"spacingAndGlyphs\" textLength=\"7\" x=\"507.5\" y=\"71.1074\">F</text><line style=\"stroke: #383838; stroke-width: 1.5;\" x1=\"458\" x2=\"564\" y1=\"78.9375\" y2=\"78.9375\"/></a><!--MD5=[270fce915f116d4de14055a7c1d9a0f3]\n",
       "class E5--><a href=\"psysml:04c0c290-1f5b-4b73-9b90-1720c7950e1a\" target=\"_top\" title=\"psysml:04c0c290-1f5b-4b73-9b90-1720c7950e1a\" xlink:actuate=\"onRequest\" xlink:href=\"psysml:04c0c290-1f5b-4b73-9b90-1720c7950e1a\" xlink:show=\"new\" xlink:title=\"psysml:04c0c290-1f5b-4b73-9b90-1720c7950e1a\" xlink:type=\"simple\"><rect fill=\"#FFFFFF\" height=\"45.9375\" id=\"E5\" rx=\"10\" ry=\"10\" style=\"stroke: #383838; stroke-width: 1.5;\" width=\"71\" x=\"350.5\" y=\"41\"/><text fill=\"#000000\" font-family=\"sans-serif\" font-size=\"12\" font-style=\"italic\" lengthAdjust=\"spacingAndGlyphs\" textLength=\"69\" x=\"351.5\" y=\"57.1387\">«attribute»</text><text fill=\"#000000\" font-family=\"sans-serif\" font-size=\"12\" lengthAdjust=\"spacingAndGlyphs\" textLength=\"4\" x=\"384\" y=\"71.1074\">f</text><line style=\"stroke: #383838; stroke-width: 1.5;\" x1=\"351.5\" x2=\"420.5\" y1=\"78.9375\" y2=\"78.9375\"/></a><!--MD5=[60a26617385b1d2d0262a64233df1f8d]\n",
       "class E6--><a href=\"psysml:514c602a-a137-45fe-b85f-d9c421e6e02c\" target=\"_top\" title=\"psysml:514c602a-a137-45fe-b85f-d9c421e6e02c\" xlink:actuate=\"onRequest\" xlink:href=\"psysml:514c602a-a137-45fe-b85f-d9c421e6e02c\" xlink:show=\"new\" xlink:title=\"psysml:514c602a-a137-45fe-b85f-d9c421e6e02c\" xlink:type=\"simple\"><rect fill=\"#FFFFFF\" height=\"45.9375\" id=\"E6\" rx=\"10\" ry=\"10\" style=\"stroke: #383838; stroke-width: 1.5;\" width=\"71\" x=\"244.5\" y=\"41\"/><text fill=\"#000000\" font-family=\"sans-serif\" font-size=\"12\" font-style=\"italic\" lengthAdjust=\"spacingAndGlyphs\" textLength=\"69\" x=\"245.5\" y=\"57.1387\">«attribute»</text><text fill=\"#000000\" font-family=\"sans-serif\" font-size=\"12\" lengthAdjust=\"spacingAndGlyphs\" textLength=\"8\" x=\"276\" y=\"71.1074\">g</text><line style=\"stroke: #383838; stroke-width: 1.5;\" x1=\"245.5\" x2=\"314.5\" y1=\"78.9375\" y2=\"78.9375\"/></a><!--MD5=[2156ba9850f5573cc1fc38a6a4b2f02b]\n",
       "class E7--><a href=\"psysml:1980a670-9bad-4a6e-b892-05e752677470\" target=\"_top\" title=\"psysml:1980a670-9bad-4a6e-b892-05e752677470\" xlink:actuate=\"onRequest\" xlink:href=\"psysml:1980a670-9bad-4a6e-b892-05e752677470\" xlink:show=\"new\" xlink:title=\"psysml:1980a670-9bad-4a6e-b892-05e752677470\" xlink:type=\"simple\"><rect fill=\"#FFFFFF\" height=\"45.9375\" id=\"E7\" rx=\"10\" ry=\"10\" style=\"stroke: #383838; stroke-width: 1.5;\" width=\"71\" x=\"138.5\" y=\"41\"/><text fill=\"#000000\" font-family=\"sans-serif\" font-size=\"12\" font-style=\"italic\" lengthAdjust=\"spacingAndGlyphs\" textLength=\"69\" x=\"139.5\" y=\"57.1387\">«attribute»</text><text fill=\"#000000\" font-family=\"sans-serif\" font-size=\"12\" lengthAdjust=\"spacingAndGlyphs\" textLength=\"8\" x=\"170\" y=\"71.1074\">b</text><line style=\"stroke: #383838; stroke-width: 1.5;\" x1=\"139.5\" x2=\"208.5\" y1=\"78.9375\" y2=\"78.9375\"/></a><!--MD5=[b9389687b975829384b498ac4b7476b2]\n",
       "class E8--><a href=\"psysml:c3372668-2566-45ef-b19a-e891239054bd\" target=\"_top\" title=\"psysml:c3372668-2566-45ef-b19a-e891239054bd\" xlink:actuate=\"onRequest\" xlink:href=\"psysml:c3372668-2566-45ef-b19a-e891239054bd\" xlink:show=\"new\" xlink:title=\"psysml:c3372668-2566-45ef-b19a-e891239054bd\" xlink:type=\"simple\"><rect fill=\"#FFFFFF\" height=\"45.9375\" id=\"E8\" rx=\"10\" ry=\"10\" style=\"stroke: #383838; stroke-width: 1.5;\" width=\"71\" x=\"32.5\" y=\"41\"/><text fill=\"#000000\" font-family=\"sans-serif\" font-size=\"12\" font-style=\"italic\" lengthAdjust=\"spacingAndGlyphs\" textLength=\"69\" x=\"33.5\" y=\"57.1387\">«attribute»</text><text fill=\"#000000\" font-family=\"sans-serif\" font-size=\"12\" lengthAdjust=\"spacingAndGlyphs\" textLength=\"7\" x=\"64.5\" y=\"71.1074\">c</text><line style=\"stroke: #383838; stroke-width: 1.5;\" x1=\"33.5\" x2=\"102.5\" y1=\"78.9375\" y2=\"78.9375\"/></a><!--MD5=[05d275557350bfb9b23a4ef7222b4c39]\n",
       "link E3 to E2--><a href=\"psysml:c16b553f-69e4-4116-bada-9588c5abaa28\" target=\"_top\" title=\"psysml:c16b553f-69e4-4116-bada-9588c5abaa28\" xlink:actuate=\"onRequest\" xlink:href=\"psysml:c16b553f-69e4-4116-bada-9588c5abaa28\" xlink:show=\"new\" xlink:title=\"psysml:c16b553f-69e4-4116-bada-9588c5abaa28\" xlink:type=\"simple\"><path d=\"M621.94,87.19 C611.77,103.23 597.51,125.73 584.09,146.9 \" fill=\"none\" id=\"E3-&gt;E2\" style=\"stroke: #383838; stroke-width: 1.0;\"/><polygon fill=\"#FFFFFF\" points=\"573.37,163.82,577.6195,144.0225,589.448,151.5115,573.37,163.82\" style=\"stroke: #383838; stroke-width: 1.0;\"/><ellipse cx=\"582.3584\" cy=\"140.2764\" fill=\"#383838\" rx=\"2\" ry=\"2\" style=\"stroke: #383838; stroke-width: 1.0;\"/><ellipse cx=\"590.8073\" cy=\"145.6258\" fill=\"#383838\" rx=\"2\" ry=\"2\" style=\"stroke: #383838; stroke-width: 1.0;\"/></a><!--MD5=[ddeed8deb2209213b62e6cfabaa108b2]\n",
       "reverse link E4 to E2--><a href=\"psysml:7844d093-18d6-4bcd-8bc7-6ee8559e13ae\" target=\"_top\" title=\"psysml:7844d093-18d6-4bcd-8bc7-6ee8559e13ae\" xlink:actuate=\"onRequest\" xlink:href=\"psysml:7844d093-18d6-4bcd-8bc7-6ee8559e13ae\" xlink:show=\"new\" xlink:title=\"psysml:7844d093-18d6-4bcd-8bc7-6ee8559e13ae\" xlink:type=\"simple\"><path d=\"M519.62,99.96 C524.37,119.25 530.31,143.36 535.36,163.82 \" fill=\"none\" id=\"E4&lt;-E2\" style=\"stroke: #383838; stroke-width: 1.0;\"/><polygon fill=\"#FFFFFF\" points=\"516.47,87.19,514.0229,93.9732,519.3432,98.841,521.7903,92.0577,516.47,87.19\" style=\"stroke: #383838; stroke-width: 1.0;\"/><text fill=\"#000000\" font-family=\"sans-serif\" font-size=\"13\" lengthAdjust=\"spacingAndGlyphs\" textLength=\"8\" x=\"528\" y=\"130.0669\">p</text></a><!--MD5=[b4698fefb8d26e1d7574d8d45cc5d9d8]\n",
       "@startuml\r\n",
       " skinparam monochrome true\r\n",
       "skinparam classbackgroundcolor white\r\n",
       "skinparam shadowing false\r\n",
       "skinparam wrapWidth 300\r\n",
       "hide circle\r\n",
       "\r\n",
       "package \"ParameterTest\" as E1  [[psysml:edb9bc9d-436b-4f02-a049-a38172af8e0d ]]  {\r\n",
       "comp def \"A\" as E2  <<(T,blue)attribute def>> [[psysml:72c120f1-27bf-4069-82f6-2517ea0440e6 ]] {\r\n",
       "- - attributes - -\r\n",
       "x: String\r\n",
       "y: A\r\n",
       "}\r\n",
       "comp usage \"a: A\" as E3  <<(T,blue)attribute>> [[psysml:449a2126-050e-4d76-9596-2419df0cfe8a ]] {\r\n",
       "}\r\n",
       "comp def \"F\" as E4  <<(T,blue)calculation def>> [[psysml:42a33a96-c599-425f-a532-027e99d4f603 ]] {\r\n",
       "}\r\n",
       "comp usage \"f\" as E5  <<(T,blue)attribute>> [[psysml:04c0c290-1f5b-4b73-9b90-1720c7950e1a ]] {\r\n",
       "}\r\n",
       "comp usage \"g\" as E6  <<(T,blue)attribute>> [[psysml:514c602a-a137-45fe-b85f-d9c421e6e02c ]] {\r\n",
       "}\r\n",
       "comp usage \"b\" as E7  <<(T,blue)attribute>> [[psysml:1980a670-9bad-4a6e-b892-05e752677470 ]] {\r\n",
       "}\r\n",
       "comp usage \"c\" as E8  <<(T,blue)attribute>> [[psysml:c3372668-2566-45ef-b19a-e891239054bd ]] {\r\n",
       "}\r\n",
       "E3 - -:|> E2 [[psysml:c16b553f-69e4-4116-bada-9588c5abaa28 ]] \r\n",
       "E4 o- - E2 [[psysml:7844d093-18d6-4bcd-8bc7-6ee8559e13ae ]] : p\r\n",
       "}\r\n",
       "@enduml\r\n",
       "\n",
       "PlantUML version 1.2020.13(Sat Jun 13 12:26:38 UTC 2020)\n",
       "(EPL source distribution)\n",
       "Java Runtime: OpenJDK Runtime Environment\n",
       "JVM: OpenJDK 64-Bit Server VM\n",
       "Default Encoding: UTF-8\n",
       "Language: en\n",
       "Country: null\n",
       "--></g></svg>"
      ]
     },
     "execution_count": 7,
     "metadata": {},
     "output_type": "execute_result"
    }
   ],
   "source": [
    "%viz --style=\"COMPTREE\" --view=\"Sequence\" \"ParameterTest\""
   ]
  },
  {
   "cell_type": "code",
   "execution_count": 8,
   "id": "exposed-installation",
   "metadata": {
    "execution": {
     "iopub.execute_input": "2021-03-25T13:43:57.535599Z",
     "iopub.status.busy": "2021-03-25T13:43:57.531468Z",
     "iopub.status.idle": "2021-03-25T13:43:57.849791Z",
     "shell.execute_reply": "2021-03-25T13:43:57.850201Z"
    }
   },
   "outputs": [
    {
     "data": {
      "image/svg+xml": [
       "<?xml version=\"1.0\" encoding=\"UTF-8\" standalone=\"no\"?><svg xmlns=\"http://www.w3.org/2000/svg\" xmlns:xlink=\"http://www.w3.org/1999/xlink\" contentScriptType=\"application/ecmascript\" contentStyleType=\"text/css\" height=\"263px\" preserveAspectRatio=\"none\" style=\"width:740px;height:263px;\" version=\"1.1\" viewBox=\"0 0 740 263\" width=\"740px\" zoomAndPan=\"magnify\"><defs/><g><!--MD5=[fbc87193dbaf4d95561dea2c320d4a47]\n",
       "cluster E1--><a href=\"psysml:edb9bc9d-436b-4f02-a049-a38172af8e0d\" target=\"_top\" title=\"psysml:edb9bc9d-436b-4f02-a049-a38172af8e0d\" xlink:actuate=\"onRequest\" xlink:href=\"psysml:edb9bc9d-436b-4f02-a049-a38172af8e0d\" xlink:show=\"new\" xlink:title=\"psysml:edb9bc9d-436b-4f02-a049-a38172af8e0d\" xlink:type=\"simple\"><polygon fill=\"#FFFFFF\" points=\"16,6,139,6,146,28.2969,718,28.2969,718,251,16,251,16,6\" style=\"stroke: #000000; stroke-width: 1.5;\"/><line style=\"stroke: #000000; stroke-width: 1.5;\" x1=\"16\" x2=\"146\" y1=\"28.2969\" y2=\"28.2969\"/><text fill=\"#000000\" font-family=\"sans-serif\" font-size=\"14\" font-weight=\"bold\" lengthAdjust=\"spacingAndGlyphs\" textLength=\"117\" x=\"20\" y=\"20.9951\">ParameterTest</text></a><!--MD5=[f6df4d0ebaf0b5dfb2ced0ae5af7c670]\n",
       "cluster E4--><a href=\"psysml:42a33a96-c599-425f-a532-027e99d4f603\" target=\"_top\" title=\"psysml:42a33a96-c599-425f-a532-027e99d4f603\" xlink:actuate=\"onRequest\" xlink:href=\"psysml:42a33a96-c599-425f-a532-027e99d4f603\" xlink:show=\"new\" xlink:title=\"psysml:42a33a96-c599-425f-a532-027e99d4f603\" xlink:type=\"simple\"><rect fill=\"#FFFFFF\" height=\"160.5\" id=\"E4\" style=\"stroke: #383838; stroke-width: 1.5;\" width=\"148\" x=\"554\" y=\"64\"/><rect fill=\"#F8F8F8\" height=\"37.9375\" style=\"stroke: #383838; stroke-width: 1.5;\" width=\"148\" x=\"554\" y=\"64\"/><text fill=\"#000000\" font-family=\"sans-serif\" font-size=\"12\" font-style=\"italic\" lengthAdjust=\"spacingAndGlyphs\" textLength=\"106\" x=\"575\" y=\"80.1387\">«calculation def»</text><text fill=\"#000000\" font-family=\"sans-serif\" font-size=\"12\" lengthAdjust=\"spacingAndGlyphs\" textLength=\"7\" x=\"624.5\" y=\"94.1074\">F</text></a><!--MD5=[b4997ac47864f28c2f74865a473b2911]\n",
       "class E2--><a href=\"psysml:72c120f1-27bf-4069-82f6-2517ea0440e6\" target=\"_top\" title=\"psysml:72c120f1-27bf-4069-82f6-2517ea0440e6\" xlink:actuate=\"onRequest\" xlink:href=\"psysml:72c120f1-27bf-4069-82f6-2517ea0440e6\" xlink:show=\"new\" xlink:title=\"psysml:72c120f1-27bf-4069-82f6-2517ea0440e6\" xlink:type=\"simple\"><rect fill=\"#FFFFFF\" height=\"88.3516\" id=\"E2\" style=\"stroke: #383838; stroke-width: 1.5;\" width=\"95\" x=\"422.5\" y=\"147\"/><text fill=\"#000000\" font-family=\"sans-serif\" font-size=\"12\" font-style=\"italic\" lengthAdjust=\"spacingAndGlyphs\" textLength=\"93\" x=\"423.5\" y=\"163.1387\">«attribute def»</text><text fill=\"#000000\" font-family=\"sans-serif\" font-size=\"12\" lengthAdjust=\"spacingAndGlyphs\" textLength=\"8\" x=\"466\" y=\"177.1074\">A</text><line style=\"stroke: #383838; stroke-width: 1.5;\" x1=\"423.5\" x2=\"516.5\" y1=\"184.9375\" y2=\"184.9375\"/><text fill=\"#000000\" font-family=\"sans-serif\" font-size=\"11\" lengthAdjust=\"spacingAndGlyphs\" textLength=\"48\" x=\"428.5\" y=\"215.9526\">x: String</text><text fill=\"#000000\" font-family=\"sans-serif\" font-size=\"11\" lengthAdjust=\"spacingAndGlyphs\" textLength=\"21\" x=\"428.5\" y=\"228.7573\">y: A</text><line style=\"stroke: #383838; stroke-width: 1.0;\" x1=\"423.5\" x2=\"442.5\" y1=\"199.3398\" y2=\"199.3398\"/><text fill=\"#000000\" font-family=\"sans-serif\" font-size=\"11\" lengthAdjust=\"spacingAndGlyphs\" textLength=\"55\" x=\"442.5\" y=\"202.6479\">attributes</text><line style=\"stroke: #383838; stroke-width: 1.0;\" x1=\"497.5\" x2=\"516.5\" y1=\"199.3398\" y2=\"199.3398\"/></a><!--MD5=[09b614a08d8cba4a07c9adeb5e0fee81]\n",
       "class E3--><a href=\"psysml:449a2126-050e-4d76-9596-2419df0cfe8a\" target=\"_top\" title=\"psysml:449a2126-050e-4d76-9596-2419df0cfe8a\" xlink:actuate=\"onRequest\" xlink:href=\"psysml:449a2126-050e-4d76-9596-2419df0cfe8a\" xlink:show=\"new\" xlink:title=\"psysml:449a2126-050e-4d76-9596-2419df0cfe8a\" xlink:type=\"simple\"><rect fill=\"#FFFFFF\" height=\"45.9375\" id=\"E3\" rx=\"10\" ry=\"10\" style=\"stroke: #383838; stroke-width: 1.5;\" width=\"71\" x=\"456.5\" y=\"41\"/><text fill=\"#000000\" font-family=\"sans-serif\" font-size=\"12\" font-style=\"italic\" lengthAdjust=\"spacingAndGlyphs\" textLength=\"69\" x=\"457.5\" y=\"57.1387\">«attribute»</text><text fill=\"#000000\" font-family=\"sans-serif\" font-size=\"12\" lengthAdjust=\"spacingAndGlyphs\" textLength=\"24\" x=\"480\" y=\"71.1074\">a: A</text><line style=\"stroke: #383838; stroke-width: 1.5;\" x1=\"457.5\" x2=\"526.5\" y1=\"78.9375\" y2=\"78.9375\"/></a><!--MD5=[2156ba9850f5573cc1fc38a6a4b2f02b]\n",
       "class E7--><a href=\"psysml:04c0c290-1f5b-4b73-9b90-1720c7950e1a\" target=\"_top\" title=\"psysml:04c0c290-1f5b-4b73-9b90-1720c7950e1a\" xlink:actuate=\"onRequest\" xlink:href=\"psysml:04c0c290-1f5b-4b73-9b90-1720c7950e1a\" xlink:show=\"new\" xlink:title=\"psysml:04c0c290-1f5b-4b73-9b90-1720c7950e1a\" xlink:type=\"simple\"><rect fill=\"#FFFFFF\" height=\"45.9375\" id=\"E7\" rx=\"10\" ry=\"10\" style=\"stroke: #383838; stroke-width: 1.5;\" width=\"71\" x=\"350.5\" y=\"41\"/><text fill=\"#000000\" font-family=\"sans-serif\" font-size=\"12\" font-style=\"italic\" lengthAdjust=\"spacingAndGlyphs\" textLength=\"69\" x=\"351.5\" y=\"57.1387\">«attribute»</text><text fill=\"#000000\" font-family=\"sans-serif\" font-size=\"12\" lengthAdjust=\"spacingAndGlyphs\" textLength=\"4\" x=\"384\" y=\"71.1074\">f</text><line style=\"stroke: #383838; stroke-width: 1.5;\" x1=\"351.5\" x2=\"420.5\" y1=\"78.9375\" y2=\"78.9375\"/></a><!--MD5=[b9389687b975829384b498ac4b7476b2]\n",
       "class E8--><a href=\"psysml:514c602a-a137-45fe-b85f-d9c421e6e02c\" target=\"_top\" title=\"psysml:514c602a-a137-45fe-b85f-d9c421e6e02c\" xlink:actuate=\"onRequest\" xlink:href=\"psysml:514c602a-a137-45fe-b85f-d9c421e6e02c\" xlink:show=\"new\" xlink:title=\"psysml:514c602a-a137-45fe-b85f-d9c421e6e02c\" xlink:type=\"simple\"><rect fill=\"#FFFFFF\" height=\"45.9375\" id=\"E8\" rx=\"10\" ry=\"10\" style=\"stroke: #383838; stroke-width: 1.5;\" width=\"71\" x=\"244.5\" y=\"41\"/><text fill=\"#000000\" font-family=\"sans-serif\" font-size=\"12\" font-style=\"italic\" lengthAdjust=\"spacingAndGlyphs\" textLength=\"69\" x=\"245.5\" y=\"57.1387\">«attribute»</text><text fill=\"#000000\" font-family=\"sans-serif\" font-size=\"12\" lengthAdjust=\"spacingAndGlyphs\" textLength=\"8\" x=\"276\" y=\"71.1074\">g</text><line style=\"stroke: #383838; stroke-width: 1.5;\" x1=\"245.5\" x2=\"314.5\" y1=\"78.9375\" y2=\"78.9375\"/></a><!--MD5=[fd4143e9d270a159db93a4ea2a975926]\n",
       "class E9--><a href=\"psysml:1980a670-9bad-4a6e-b892-05e752677470\" target=\"_top\" title=\"psysml:1980a670-9bad-4a6e-b892-05e752677470\" xlink:actuate=\"onRequest\" xlink:href=\"psysml:1980a670-9bad-4a6e-b892-05e752677470\" xlink:show=\"new\" xlink:title=\"psysml:1980a670-9bad-4a6e-b892-05e752677470\" xlink:type=\"simple\"><rect fill=\"#FFFFFF\" height=\"45.9375\" id=\"E9\" rx=\"10\" ry=\"10\" style=\"stroke: #383838; stroke-width: 1.5;\" width=\"71\" x=\"138.5\" y=\"41\"/><text fill=\"#000000\" font-family=\"sans-serif\" font-size=\"12\" font-style=\"italic\" lengthAdjust=\"spacingAndGlyphs\" textLength=\"69\" x=\"139.5\" y=\"57.1387\">«attribute»</text><text fill=\"#000000\" font-family=\"sans-serif\" font-size=\"12\" lengthAdjust=\"spacingAndGlyphs\" textLength=\"8\" x=\"170\" y=\"71.1074\">b</text><line style=\"stroke: #383838; stroke-width: 1.5;\" x1=\"139.5\" x2=\"208.5\" y1=\"78.9375\" y2=\"78.9375\"/></a><!--MD5=[96f4274e9e20536e775497830990834d]\n",
       "class E10--><a href=\"psysml:c3372668-2566-45ef-b19a-e891239054bd\" target=\"_top\" title=\"psysml:c3372668-2566-45ef-b19a-e891239054bd\" xlink:actuate=\"onRequest\" xlink:href=\"psysml:c3372668-2566-45ef-b19a-e891239054bd\" xlink:show=\"new\" xlink:title=\"psysml:c3372668-2566-45ef-b19a-e891239054bd\" xlink:type=\"simple\"><rect fill=\"#FFFFFF\" height=\"45.9375\" id=\"E10\" rx=\"10\" ry=\"10\" style=\"stroke: #383838; stroke-width: 1.5;\" width=\"71\" x=\"32.5\" y=\"41\"/><text fill=\"#000000\" font-family=\"sans-serif\" font-size=\"12\" font-style=\"italic\" lengthAdjust=\"spacingAndGlyphs\" textLength=\"69\" x=\"33.5\" y=\"57.1387\">«attribute»</text><text fill=\"#000000\" font-family=\"sans-serif\" font-size=\"12\" lengthAdjust=\"spacingAndGlyphs\" textLength=\"7\" x=\"64.5\" y=\"71.1074\">c</text><line style=\"stroke: #383838; stroke-width: 1.5;\" x1=\"33.5\" x2=\"102.5\" y1=\"78.9375\" y2=\"78.9375\"/></a><text fill=\"#000000\" font-family=\"sans-serif\" font-size=\"14\" lengthAdjust=\"spacingAndGlyphs\" textLength=\"9\" x=\"567.5\" y=\"42.6982\">p</text><rect fill=\"#383838\" height=\"12\" style=\"stroke: #F8F8F8; stroke-width: 1.5;\" width=\"12\" x=\"566\" y=\"58\"/><text fill=\"#000000\" font-family=\"sans-serif\" font-size=\"14\" lengthAdjust=\"spacingAndGlyphs\" textLength=\"9\" x=\"614.5\" y=\"42.6982\">q</text><rect fill=\"#383838\" height=\"12\" style=\"stroke: #F8F8F8; stroke-width: 1.5;\" width=\"12\" x=\"613\" y=\"58\"/><!--MD5=[05d275557350bfb9b23a4ef7222b4c39]\n",
       "link E3 to E2--><a href=\"psysml:c16b553f-69e4-4116-bada-9588c5abaa28\" target=\"_top\" title=\"psysml:c16b553f-69e4-4116-bada-9588c5abaa28\" xlink:actuate=\"onRequest\" xlink:href=\"psysml:c16b553f-69e4-4116-bada-9588c5abaa28\" xlink:show=\"new\" xlink:title=\"psysml:c16b553f-69e4-4116-bada-9588c5abaa28\" xlink:type=\"simple\"><path d=\"M488.12,87.06 C486.14,98.3 483.62,112.6 481.1,126.95 \" fill=\"none\" id=\"E3-&gt;E2\" style=\"stroke: #383838; stroke-width: 1.0;\"/><polygon fill=\"#FFFFFF\" points=\"477.58,146.93,473.9835,127.0035,487.7711,129.4331,477.58,146.93\" style=\"stroke: #383838; stroke-width: 1.0;\"/><ellipse cx=\"476.9423\" cy=\"121.7371\" fill=\"#383838\" rx=\"2\" ry=\"2\" style=\"stroke: #383838; stroke-width: 1.0;\"/><ellipse cx=\"486.7906\" cy=\"123.4725\" fill=\"#383838\" rx=\"2\" ry=\"2\" style=\"stroke: #383838; stroke-width: 1.0;\"/></a><!--MD5=[f5d3a9b68cab36c6aedfad7693127b0e]\n",
       "@startuml\r\n",
       " skinparam monochrome true\r\n",
       "skinparam classbackgroundcolor white\r\n",
       "skinparam shadowing false\r\n",
       "skinparam wrapWidth 300\r\n",
       "hide circle\r\n",
       "\r\n",
       "package \"ParameterTest\" as E1  [[psysml:edb9bc9d-436b-4f02-a049-a38172af8e0d ]]  {\r\n",
       "comp def \"A\" as E2  <<(T,blue)attribute def>> [[psysml:72c120f1-27bf-4069-82f6-2517ea0440e6 ]] {\r\n",
       "- - attributes - -\r\n",
       "x: String\r\n",
       "y: A\r\n",
       "}\r\n",
       "comp usage \"a: A\" as E3  <<(T,blue)attribute>> [[psysml:449a2126-050e-4d76-9596-2419df0cfe8a ]] {\r\n",
       "}\r\n",
       "rec def \"F\" as E4  <<(T,blue)calculation def>> [[psysml:42a33a96-c599-425f-a532-027e99d4f603 ]] {\r\n",
       "portin \"p\" as E5  [[psysml:7844d093-18d6-4bcd-8bc7-6ee8559e13ae ]] \r\n",
       "portin \"q\" as E6  [[psysml:60bdf07c-a2db-456e-a058-70cb9f3de468 ]] \r\n",
       "}\r\n",
       "\r\n",
       "comp usage \"f\" as E7  <<(T,blue)attribute>> [[psysml:04c0c290-1f5b-4b73-9b90-1720c7950e1a ]] {\r\n",
       "}\r\n",
       "comp usage \"g\" as E8  <<(T,blue)attribute>> [[psysml:514c602a-a137-45fe-b85f-d9c421e6e02c ]] {\r\n",
       "}\r\n",
       "comp usage \"b\" as E9  <<(T,blue)attribute>> [[psysml:1980a670-9bad-4a6e-b892-05e752677470 ]] {\r\n",
       "}\r\n",
       "comp usage \"c\" as E10  <<(T,blue)attribute>> [[psysml:c3372668-2566-45ef-b19a-e891239054bd ]] {\r\n",
       "}\r\n",
       "E3 - -:|> E2 [[psysml:c16b553f-69e4-4116-bada-9588c5abaa28 ]] \r\n",
       "}\r\n",
       "@enduml\r\n",
       "\n",
       "PlantUML version 1.2020.13(Sat Jun 13 12:26:38 UTC 2020)\n",
       "(EPL source distribution)\n",
       "Java Runtime: OpenJDK Runtime Environment\n",
       "JVM: OpenJDK 64-Bit Server VM\n",
       "Default Encoding: UTF-8\n",
       "Language: en\n",
       "Country: null\n",
       "--></g></svg>"
      ]
     },
     "execution_count": 8,
     "metadata": {},
     "output_type": "execute_result"
    }
   ],
   "source": [
    "%viz --style=\"COMPTREE\" --view=\"MIXED\" \"ParameterTest\""
   ]
  },
  {
   "cell_type": "code",
   "execution_count": 9,
   "id": "metropolitan-slope",
   "metadata": {
    "execution": {
     "iopub.execute_input": "2021-03-25T13:43:57.902148Z",
     "iopub.status.busy": "2021-03-25T13:43:57.901179Z",
     "iopub.status.idle": "2021-03-25T13:43:58.217312Z",
     "shell.execute_reply": "2021-03-25T13:43:58.215942Z"
    }
   },
   "outputs": [
    {
     "data": {
      "image/svg+xml": [
       "<?xml version=\"1.0\" encoding=\"UTF-8\" standalone=\"no\"?><svg xmlns=\"http://www.w3.org/2000/svg\" xmlns:xlink=\"http://www.w3.org/1999/xlink\" contentScriptType=\"application/ecmascript\" contentStyleType=\"text/css\" height=\"263px\" preserveAspectRatio=\"none\" style=\"width:740px;height:263px;\" version=\"1.1\" viewBox=\"0 0 740 263\" width=\"740px\" zoomAndPan=\"magnify\"><defs/><g><!--MD5=[fbc87193dbaf4d95561dea2c320d4a47]\n",
       "cluster E1--><a href=\"psysml:edb9bc9d-436b-4f02-a049-a38172af8e0d\" target=\"_top\" title=\"psysml:edb9bc9d-436b-4f02-a049-a38172af8e0d\" xlink:actuate=\"onRequest\" xlink:href=\"psysml:edb9bc9d-436b-4f02-a049-a38172af8e0d\" xlink:show=\"new\" xlink:title=\"psysml:edb9bc9d-436b-4f02-a049-a38172af8e0d\" xlink:type=\"simple\"><polygon fill=\"#FFFFFF\" points=\"16,6,139,6,146,28.2969,718,28.2969,718,251,16,251,16,6\" style=\"stroke: #000000; stroke-width: 1.5;\"/><line style=\"stroke: #000000; stroke-width: 1.5;\" x1=\"16\" x2=\"146\" y1=\"28.2969\" y2=\"28.2969\"/><text fill=\"#000000\" font-family=\"sans-serif\" font-size=\"14\" font-weight=\"bold\" lengthAdjust=\"spacingAndGlyphs\" textLength=\"117\" x=\"20\" y=\"20.9951\">ParameterTest</text></a><!--MD5=[f6df4d0ebaf0b5dfb2ced0ae5af7c670]\n",
       "cluster E4--><a href=\"psysml:42a33a96-c599-425f-a532-027e99d4f603\" target=\"_top\" title=\"psysml:42a33a96-c599-425f-a532-027e99d4f603\" xlink:actuate=\"onRequest\" xlink:href=\"psysml:42a33a96-c599-425f-a532-027e99d4f603\" xlink:show=\"new\" xlink:title=\"psysml:42a33a96-c599-425f-a532-027e99d4f603\" xlink:type=\"simple\"><rect fill=\"#FFFFFF\" height=\"160.5\" id=\"E4\" style=\"stroke: #383838; stroke-width: 1.5;\" width=\"148\" x=\"554\" y=\"64\"/><rect fill=\"#F8F8F8\" height=\"37.9375\" style=\"stroke: #383838; stroke-width: 1.5;\" width=\"148\" x=\"554\" y=\"64\"/><text fill=\"#000000\" font-family=\"sans-serif\" font-size=\"12\" font-style=\"italic\" lengthAdjust=\"spacingAndGlyphs\" textLength=\"106\" x=\"575\" y=\"80.1387\">«calculation def»</text><text fill=\"#000000\" font-family=\"sans-serif\" font-size=\"12\" lengthAdjust=\"spacingAndGlyphs\" textLength=\"7\" x=\"624.5\" y=\"94.1074\">F</text></a><!--MD5=[b4997ac47864f28c2f74865a473b2911]\n",
       "class E2--><a href=\"psysml:72c120f1-27bf-4069-82f6-2517ea0440e6\" target=\"_top\" title=\"psysml:72c120f1-27bf-4069-82f6-2517ea0440e6\" xlink:actuate=\"onRequest\" xlink:href=\"psysml:72c120f1-27bf-4069-82f6-2517ea0440e6\" xlink:show=\"new\" xlink:title=\"psysml:72c120f1-27bf-4069-82f6-2517ea0440e6\" xlink:type=\"simple\"><rect fill=\"#FFFFFF\" height=\"88.3516\" id=\"E2\" style=\"stroke: #383838; stroke-width: 1.5;\" width=\"95\" x=\"422.5\" y=\"147\"/><text fill=\"#000000\" font-family=\"sans-serif\" font-size=\"12\" font-style=\"italic\" lengthAdjust=\"spacingAndGlyphs\" textLength=\"93\" x=\"423.5\" y=\"163.1387\">«attribute def»</text><text fill=\"#000000\" font-family=\"sans-serif\" font-size=\"12\" lengthAdjust=\"spacingAndGlyphs\" textLength=\"8\" x=\"466\" y=\"177.1074\">A</text><line style=\"stroke: #383838; stroke-width: 1.5;\" x1=\"423.5\" x2=\"516.5\" y1=\"184.9375\" y2=\"184.9375\"/><text fill=\"#000000\" font-family=\"sans-serif\" font-size=\"11\" lengthAdjust=\"spacingAndGlyphs\" textLength=\"48\" x=\"428.5\" y=\"215.9526\">x: String</text><text fill=\"#000000\" font-family=\"sans-serif\" font-size=\"11\" lengthAdjust=\"spacingAndGlyphs\" textLength=\"21\" x=\"428.5\" y=\"228.7573\">y: A</text><line style=\"stroke: #383838; stroke-width: 1.0;\" x1=\"423.5\" x2=\"442.5\" y1=\"199.3398\" y2=\"199.3398\"/><text fill=\"#000000\" font-family=\"sans-serif\" font-size=\"11\" lengthAdjust=\"spacingAndGlyphs\" textLength=\"55\" x=\"442.5\" y=\"202.6479\">attributes</text><line style=\"stroke: #383838; stroke-width: 1.0;\" x1=\"497.5\" x2=\"516.5\" y1=\"199.3398\" y2=\"199.3398\"/></a><!--MD5=[09b614a08d8cba4a07c9adeb5e0fee81]\n",
       "class E3--><a href=\"psysml:449a2126-050e-4d76-9596-2419df0cfe8a\" target=\"_top\" title=\"psysml:449a2126-050e-4d76-9596-2419df0cfe8a\" xlink:actuate=\"onRequest\" xlink:href=\"psysml:449a2126-050e-4d76-9596-2419df0cfe8a\" xlink:show=\"new\" xlink:title=\"psysml:449a2126-050e-4d76-9596-2419df0cfe8a\" xlink:type=\"simple\"><rect fill=\"#FFFFFF\" height=\"45.9375\" id=\"E3\" rx=\"10\" ry=\"10\" style=\"stroke: #383838; stroke-width: 1.5;\" width=\"71\" x=\"456.5\" y=\"41\"/><text fill=\"#000000\" font-family=\"sans-serif\" font-size=\"12\" font-style=\"italic\" lengthAdjust=\"spacingAndGlyphs\" textLength=\"69\" x=\"457.5\" y=\"57.1387\">«attribute»</text><text fill=\"#000000\" font-family=\"sans-serif\" font-size=\"12\" lengthAdjust=\"spacingAndGlyphs\" textLength=\"24\" x=\"480\" y=\"71.1074\">a: A</text><line style=\"stroke: #383838; stroke-width: 1.5;\" x1=\"457.5\" x2=\"526.5\" y1=\"78.9375\" y2=\"78.9375\"/></a><!--MD5=[2156ba9850f5573cc1fc38a6a4b2f02b]\n",
       "class E7--><a href=\"psysml:04c0c290-1f5b-4b73-9b90-1720c7950e1a\" target=\"_top\" title=\"psysml:04c0c290-1f5b-4b73-9b90-1720c7950e1a\" xlink:actuate=\"onRequest\" xlink:href=\"psysml:04c0c290-1f5b-4b73-9b90-1720c7950e1a\" xlink:show=\"new\" xlink:title=\"psysml:04c0c290-1f5b-4b73-9b90-1720c7950e1a\" xlink:type=\"simple\"><rect fill=\"#FFFFFF\" height=\"45.9375\" id=\"E7\" rx=\"10\" ry=\"10\" style=\"stroke: #383838; stroke-width: 1.5;\" width=\"71\" x=\"350.5\" y=\"41\"/><text fill=\"#000000\" font-family=\"sans-serif\" font-size=\"12\" font-style=\"italic\" lengthAdjust=\"spacingAndGlyphs\" textLength=\"69\" x=\"351.5\" y=\"57.1387\">«attribute»</text><text fill=\"#000000\" font-family=\"sans-serif\" font-size=\"12\" lengthAdjust=\"spacingAndGlyphs\" textLength=\"4\" x=\"384\" y=\"71.1074\">f</text><line style=\"stroke: #383838; stroke-width: 1.5;\" x1=\"351.5\" x2=\"420.5\" y1=\"78.9375\" y2=\"78.9375\"/></a><!--MD5=[b9389687b975829384b498ac4b7476b2]\n",
       "class E8--><a href=\"psysml:514c602a-a137-45fe-b85f-d9c421e6e02c\" target=\"_top\" title=\"psysml:514c602a-a137-45fe-b85f-d9c421e6e02c\" xlink:actuate=\"onRequest\" xlink:href=\"psysml:514c602a-a137-45fe-b85f-d9c421e6e02c\" xlink:show=\"new\" xlink:title=\"psysml:514c602a-a137-45fe-b85f-d9c421e6e02c\" xlink:type=\"simple\"><rect fill=\"#FFFFFF\" height=\"45.9375\" id=\"E8\" rx=\"10\" ry=\"10\" style=\"stroke: #383838; stroke-width: 1.5;\" width=\"71\" x=\"244.5\" y=\"41\"/><text fill=\"#000000\" font-family=\"sans-serif\" font-size=\"12\" font-style=\"italic\" lengthAdjust=\"spacingAndGlyphs\" textLength=\"69\" x=\"245.5\" y=\"57.1387\">«attribute»</text><text fill=\"#000000\" font-family=\"sans-serif\" font-size=\"12\" lengthAdjust=\"spacingAndGlyphs\" textLength=\"8\" x=\"276\" y=\"71.1074\">g</text><line style=\"stroke: #383838; stroke-width: 1.5;\" x1=\"245.5\" x2=\"314.5\" y1=\"78.9375\" y2=\"78.9375\"/></a><!--MD5=[fd4143e9d270a159db93a4ea2a975926]\n",
       "class E9--><a href=\"psysml:1980a670-9bad-4a6e-b892-05e752677470\" target=\"_top\" title=\"psysml:1980a670-9bad-4a6e-b892-05e752677470\" xlink:actuate=\"onRequest\" xlink:href=\"psysml:1980a670-9bad-4a6e-b892-05e752677470\" xlink:show=\"new\" xlink:title=\"psysml:1980a670-9bad-4a6e-b892-05e752677470\" xlink:type=\"simple\"><rect fill=\"#FFFFFF\" height=\"45.9375\" id=\"E9\" rx=\"10\" ry=\"10\" style=\"stroke: #383838; stroke-width: 1.5;\" width=\"71\" x=\"138.5\" y=\"41\"/><text fill=\"#000000\" font-family=\"sans-serif\" font-size=\"12\" font-style=\"italic\" lengthAdjust=\"spacingAndGlyphs\" textLength=\"69\" x=\"139.5\" y=\"57.1387\">«attribute»</text><text fill=\"#000000\" font-family=\"sans-serif\" font-size=\"12\" lengthAdjust=\"spacingAndGlyphs\" textLength=\"8\" x=\"170\" y=\"71.1074\">b</text><line style=\"stroke: #383838; stroke-width: 1.5;\" x1=\"139.5\" x2=\"208.5\" y1=\"78.9375\" y2=\"78.9375\"/></a><!--MD5=[96f4274e9e20536e775497830990834d]\n",
       "class E10--><a href=\"psysml:c3372668-2566-45ef-b19a-e891239054bd\" target=\"_top\" title=\"psysml:c3372668-2566-45ef-b19a-e891239054bd\" xlink:actuate=\"onRequest\" xlink:href=\"psysml:c3372668-2566-45ef-b19a-e891239054bd\" xlink:show=\"new\" xlink:title=\"psysml:c3372668-2566-45ef-b19a-e891239054bd\" xlink:type=\"simple\"><rect fill=\"#FFFFFF\" height=\"45.9375\" id=\"E10\" rx=\"10\" ry=\"10\" style=\"stroke: #383838; stroke-width: 1.5;\" width=\"71\" x=\"32.5\" y=\"41\"/><text fill=\"#000000\" font-family=\"sans-serif\" font-size=\"12\" font-style=\"italic\" lengthAdjust=\"spacingAndGlyphs\" textLength=\"69\" x=\"33.5\" y=\"57.1387\">«attribute»</text><text fill=\"#000000\" font-family=\"sans-serif\" font-size=\"12\" lengthAdjust=\"spacingAndGlyphs\" textLength=\"7\" x=\"64.5\" y=\"71.1074\">c</text><line style=\"stroke: #383838; stroke-width: 1.5;\" x1=\"33.5\" x2=\"102.5\" y1=\"78.9375\" y2=\"78.9375\"/></a><text fill=\"#000000\" font-family=\"sans-serif\" font-size=\"14\" lengthAdjust=\"spacingAndGlyphs\" textLength=\"9\" x=\"567.5\" y=\"42.6982\">p</text><rect fill=\"#383838\" height=\"12\" style=\"stroke: #F8F8F8; stroke-width: 1.5;\" width=\"12\" x=\"566\" y=\"58\"/><text fill=\"#000000\" font-family=\"sans-serif\" font-size=\"14\" lengthAdjust=\"spacingAndGlyphs\" textLength=\"9\" x=\"614.5\" y=\"42.6982\">q</text><rect fill=\"#383838\" height=\"12\" style=\"stroke: #F8F8F8; stroke-width: 1.5;\" width=\"12\" x=\"613\" y=\"58\"/><!--MD5=[05d275557350bfb9b23a4ef7222b4c39]\n",
       "link E3 to E2--><a href=\"psysml:c16b553f-69e4-4116-bada-9588c5abaa28\" target=\"_top\" title=\"psysml:c16b553f-69e4-4116-bada-9588c5abaa28\" xlink:actuate=\"onRequest\" xlink:href=\"psysml:c16b553f-69e4-4116-bada-9588c5abaa28\" xlink:show=\"new\" xlink:title=\"psysml:c16b553f-69e4-4116-bada-9588c5abaa28\" xlink:type=\"simple\"><path d=\"M488.12,87.06 C486.14,98.3 483.62,112.6 481.1,126.95 \" fill=\"none\" id=\"E3-&gt;E2\" style=\"stroke: #383838; stroke-width: 1.0;\"/><polygon fill=\"#FFFFFF\" points=\"477.58,146.93,473.9835,127.0035,487.7711,129.4331,477.58,146.93\" style=\"stroke: #383838; stroke-width: 1.0;\"/><ellipse cx=\"476.9423\" cy=\"121.7371\" fill=\"#383838\" rx=\"2\" ry=\"2\" style=\"stroke: #383838; stroke-width: 1.0;\"/><ellipse cx=\"486.7906\" cy=\"123.4725\" fill=\"#383838\" rx=\"2\" ry=\"2\" style=\"stroke: #383838; stroke-width: 1.0;\"/></a><!--MD5=[4898d9bbf413eabb5534dbdbf922574b]\n",
       "@startuml\r\n",
       "skinparam linetype polyline\r\n",
       "skinparam monochrome true\r\n",
       "skinparam classbackgroundcolor white\r\n",
       "skinparam shadowing false\r\n",
       "skinparam wrapWidth 300\r\n",
       "hide circle\r\n",
       "\r\n",
       "package \"ParameterTest\" as E1  [[psysml:edb9bc9d-436b-4f02-a049-a38172af8e0d ]]  {\r\n",
       "comp def \"A\" as E2  <<(T,blue)attribute def>> [[psysml:72c120f1-27bf-4069-82f6-2517ea0440e6 ]] {\r\n",
       "- - attributes - -\r\n",
       "x: String\r\n",
       "y: A\r\n",
       "}\r\n",
       "comp usage \"a: A\" as E3  <<(T,blue)attribute>> [[psysml:449a2126-050e-4d76-9596-2419df0cfe8a ]] {\r\n",
       "}\r\n",
       "rec def \"F\" as E4  <<(T,blue)calculation def>> [[psysml:42a33a96-c599-425f-a532-027e99d4f603 ]] {\r\n",
       "portin \"p\" as E5  [[psysml:7844d093-18d6-4bcd-8bc7-6ee8559e13ae ]] \r\n",
       "portin \"q\" as E6  [[psysml:60bdf07c-a2db-456e-a058-70cb9f3de468 ]] \r\n",
       "}\r\n",
       "\r\n",
       "comp usage \"f\" as E7  <<(T,blue)attribute>> [[psysml:04c0c290-1f5b-4b73-9b90-1720c7950e1a ]] {\r\n",
       "}\r\n",
       "comp usage \"g\" as E8  <<(T,blue)attribute>> [[psysml:514c602a-a137-45fe-b85f-d9c421e6e02c ]] {\r\n",
       "}\r\n",
       "comp usage \"b\" as E9  <<(T,blue)attribute>> [[psysml:1980a670-9bad-4a6e-b892-05e752677470 ]] {\r\n",
       "}\r\n",
       "comp usage \"c\" as E10  <<(T,blue)attribute>> [[psysml:c3372668-2566-45ef-b19a-e891239054bd ]] {\r\n",
       "}\r\n",
       "E3 - -:|> E2 [[psysml:c16b553f-69e4-4116-bada-9588c5abaa28 ]] \r\n",
       "}\r\n",
       "@enduml\r\n",
       "\n",
       "PlantUML version 1.2020.13(Sat Jun 13 12:26:38 UTC 2020)\n",
       "(EPL source distribution)\n",
       "Java Runtime: OpenJDK Runtime Environment\n",
       "JVM: OpenJDK 64-Bit Server VM\n",
       "Default Encoding: UTF-8\n",
       "Language: en\n",
       "Country: null\n",
       "--></g></svg>"
      ]
     },
     "execution_count": 9,
     "metadata": {},
     "output_type": "execute_result"
    }
   ],
   "source": [
    "%viz --style=\"POLYLINE\" --view=\"Default\" \"ParameterTest\""
   ]
  },
  {
   "cell_type": "code",
   "execution_count": 10,
   "id": "documented-identity",
   "metadata": {
    "execution": {
     "iopub.execute_input": "2021-03-25T13:43:58.268924Z",
     "iopub.status.busy": "2021-03-25T13:43:58.268345Z",
     "iopub.status.idle": "2021-03-25T13:43:58.558909Z",
     "shell.execute_reply": "2021-03-25T13:43:58.557222Z"
    }
   },
   "outputs": [
    {
     "data": {
      "image/svg+xml": [
       "<?xml version=\"1.0\" encoding=\"UTF-8\" standalone=\"no\"?><svg xmlns=\"http://www.w3.org/2000/svg\" xmlns:xlink=\"http://www.w3.org/1999/xlink\" contentScriptType=\"application/ecmascript\" contentStyleType=\"text/css\" height=\"280px\" preserveAspectRatio=\"none\" style=\"width:710px;height:280px;\" version=\"1.1\" viewBox=\"0 0 710 280\" width=\"710px\" zoomAndPan=\"magnify\"><defs/><g><!--MD5=[fbc87193dbaf4d95561dea2c320d4a47]\n",
       "cluster E1--><a href=\"psysml:edb9bc9d-436b-4f02-a049-a38172af8e0d\" target=\"_top\" title=\"psysml:edb9bc9d-436b-4f02-a049-a38172af8e0d\" xlink:actuate=\"onRequest\" xlink:href=\"psysml:edb9bc9d-436b-4f02-a049-a38172af8e0d\" xlink:show=\"new\" xlink:title=\"psysml:edb9bc9d-436b-4f02-a049-a38172af8e0d\" xlink:type=\"simple\"><polygon fill=\"#FFFFFF\" points=\"16,6,139,6,146,28.2969,688,28.2969,688,268,16,268,16,6\" style=\"stroke: #000000; stroke-width: 1.5;\"/><line style=\"stroke: #000000; stroke-width: 1.5;\" x1=\"16\" x2=\"146\" y1=\"28.2969\" y2=\"28.2969\"/><text fill=\"#000000\" font-family=\"sans-serif\" font-size=\"14\" font-weight=\"bold\" lengthAdjust=\"spacingAndGlyphs\" textLength=\"117\" x=\"20\" y=\"20.9951\">ParameterTest</text></a><!--MD5=[b4997ac47864f28c2f74865a473b2911]\n",
       "class E2--><a href=\"psysml:72c120f1-27bf-4069-82f6-2517ea0440e6\" target=\"_top\" title=\"psysml:72c120f1-27bf-4069-82f6-2517ea0440e6\" xlink:actuate=\"onRequest\" xlink:href=\"psysml:72c120f1-27bf-4069-82f6-2517ea0440e6\" xlink:show=\"new\" xlink:title=\"psysml:72c120f1-27bf-4069-82f6-2517ea0440e6\" xlink:type=\"simple\"><rect fill=\"#FFFFFF\" height=\"88.3516\" id=\"E2\" style=\"stroke: #383838; stroke-width: 1.5;\" width=\"95\" x=\"498.5\" y=\"164\"/><text fill=\"#000000\" font-family=\"sans-serif\" font-size=\"12\" font-style=\"italic\" lengthAdjust=\"spacingAndGlyphs\" textLength=\"93\" x=\"499.5\" y=\"180.1387\">«attribute def»</text><text fill=\"#000000\" font-family=\"sans-serif\" font-size=\"12\" lengthAdjust=\"spacingAndGlyphs\" textLength=\"8\" x=\"542\" y=\"194.1074\">A</text><line style=\"stroke: #383838; stroke-width: 1.5;\" x1=\"499.5\" x2=\"592.5\" y1=\"201.9375\" y2=\"201.9375\"/><text fill=\"#000000\" font-family=\"sans-serif\" font-size=\"11\" lengthAdjust=\"spacingAndGlyphs\" textLength=\"48\" x=\"504.5\" y=\"232.9526\">x: String</text><text fill=\"#000000\" font-family=\"sans-serif\" font-size=\"11\" lengthAdjust=\"spacingAndGlyphs\" textLength=\"21\" x=\"504.5\" y=\"245.7573\">y: A</text><line style=\"stroke: #383838; stroke-width: 1.0;\" x1=\"499.5\" x2=\"518.5\" y1=\"216.3398\" y2=\"216.3398\"/><text fill=\"#000000\" font-family=\"sans-serif\" font-size=\"11\" lengthAdjust=\"spacingAndGlyphs\" textLength=\"55\" x=\"518.5\" y=\"219.6479\">attributes</text><line style=\"stroke: #383838; stroke-width: 1.0;\" x1=\"573.5\" x2=\"592.5\" y1=\"216.3398\" y2=\"216.3398\"/></a><!--MD5=[09b614a08d8cba4a07c9adeb5e0fee81]\n",
       "class E3--><a href=\"psysml:449a2126-050e-4d76-9596-2419df0cfe8a\" target=\"_top\" title=\"psysml:449a2126-050e-4d76-9596-2419df0cfe8a\" xlink:actuate=\"onRequest\" xlink:href=\"psysml:449a2126-050e-4d76-9596-2419df0cfe8a\" xlink:show=\"new\" xlink:title=\"psysml:449a2126-050e-4d76-9596-2419df0cfe8a\" xlink:type=\"simple\"><rect fill=\"#FFFFFF\" height=\"45.9375\" id=\"E3\" rx=\"10\" ry=\"10\" style=\"stroke: #383838; stroke-width: 1.5;\" width=\"71\" x=\"600.5\" y=\"41\"/><text fill=\"#000000\" font-family=\"sans-serif\" font-size=\"12\" font-style=\"italic\" lengthAdjust=\"spacingAndGlyphs\" textLength=\"69\" x=\"601.5\" y=\"57.1387\">«attribute»</text><text fill=\"#000000\" font-family=\"sans-serif\" font-size=\"12\" lengthAdjust=\"spacingAndGlyphs\" textLength=\"24\" x=\"624\" y=\"71.1074\">a: A</text><line style=\"stroke: #383838; stroke-width: 1.5;\" x1=\"601.5\" x2=\"670.5\" y1=\"78.9375\" y2=\"78.9375\"/></a><!--MD5=[ebbe1d658d1005bcc118a6aa81145e00]\n",
       "class E4--><a href=\"psysml:42a33a96-c599-425f-a532-027e99d4f603\" target=\"_top\" title=\"psysml:42a33a96-c599-425f-a532-027e99d4f603\" xlink:actuate=\"onRequest\" xlink:href=\"psysml:42a33a96-c599-425f-a532-027e99d4f603\" xlink:show=\"new\" xlink:title=\"psysml:42a33a96-c599-425f-a532-027e99d4f603\" xlink:type=\"simple\"><rect fill=\"#FFFFFF\" height=\"45.9375\" id=\"E4\" style=\"stroke: #383838; stroke-width: 1.5;\" width=\"108\" x=\"457\" y=\"41\"/><text fill=\"#000000\" font-family=\"sans-serif\" font-size=\"12\" font-style=\"italic\" lengthAdjust=\"spacingAndGlyphs\" textLength=\"106\" x=\"458\" y=\"57.1387\">«calculation def»</text><text fill=\"#000000\" font-family=\"sans-serif\" font-size=\"12\" lengthAdjust=\"spacingAndGlyphs\" textLength=\"7\" x=\"507.5\" y=\"71.1074\">F</text><line style=\"stroke: #383838; stroke-width: 1.5;\" x1=\"458\" x2=\"564\" y1=\"78.9375\" y2=\"78.9375\"/></a><!--MD5=[270fce915f116d4de14055a7c1d9a0f3]\n",
       "class E5--><a href=\"psysml:04c0c290-1f5b-4b73-9b90-1720c7950e1a\" target=\"_top\" title=\"psysml:04c0c290-1f5b-4b73-9b90-1720c7950e1a\" xlink:actuate=\"onRequest\" xlink:href=\"psysml:04c0c290-1f5b-4b73-9b90-1720c7950e1a\" xlink:show=\"new\" xlink:title=\"psysml:04c0c290-1f5b-4b73-9b90-1720c7950e1a\" xlink:type=\"simple\"><rect fill=\"#FFFFFF\" height=\"45.9375\" id=\"E5\" rx=\"10\" ry=\"10\" style=\"stroke: #383838; stroke-width: 1.5;\" width=\"71\" x=\"350.5\" y=\"41\"/><text fill=\"#000000\" font-family=\"sans-serif\" font-size=\"12\" font-style=\"italic\" lengthAdjust=\"spacingAndGlyphs\" textLength=\"69\" x=\"351.5\" y=\"57.1387\">«attribute»</text><text fill=\"#000000\" font-family=\"sans-serif\" font-size=\"12\" lengthAdjust=\"spacingAndGlyphs\" textLength=\"4\" x=\"384\" y=\"71.1074\">f</text><line style=\"stroke: #383838; stroke-width: 1.5;\" x1=\"351.5\" x2=\"420.5\" y1=\"78.9375\" y2=\"78.9375\"/></a><!--MD5=[60a26617385b1d2d0262a64233df1f8d]\n",
       "class E6--><a href=\"psysml:514c602a-a137-45fe-b85f-d9c421e6e02c\" target=\"_top\" title=\"psysml:514c602a-a137-45fe-b85f-d9c421e6e02c\" xlink:actuate=\"onRequest\" xlink:href=\"psysml:514c602a-a137-45fe-b85f-d9c421e6e02c\" xlink:show=\"new\" xlink:title=\"psysml:514c602a-a137-45fe-b85f-d9c421e6e02c\" xlink:type=\"simple\"><rect fill=\"#FFFFFF\" height=\"45.9375\" id=\"E6\" rx=\"10\" ry=\"10\" style=\"stroke: #383838; stroke-width: 1.5;\" width=\"71\" x=\"244.5\" y=\"41\"/><text fill=\"#000000\" font-family=\"sans-serif\" font-size=\"12\" font-style=\"italic\" lengthAdjust=\"spacingAndGlyphs\" textLength=\"69\" x=\"245.5\" y=\"57.1387\">«attribute»</text><text fill=\"#000000\" font-family=\"sans-serif\" font-size=\"12\" lengthAdjust=\"spacingAndGlyphs\" textLength=\"8\" x=\"276\" y=\"71.1074\">g</text><line style=\"stroke: #383838; stroke-width: 1.5;\" x1=\"245.5\" x2=\"314.5\" y1=\"78.9375\" y2=\"78.9375\"/></a><!--MD5=[2156ba9850f5573cc1fc38a6a4b2f02b]\n",
       "class E7--><a href=\"psysml:1980a670-9bad-4a6e-b892-05e752677470\" target=\"_top\" title=\"psysml:1980a670-9bad-4a6e-b892-05e752677470\" xlink:actuate=\"onRequest\" xlink:href=\"psysml:1980a670-9bad-4a6e-b892-05e752677470\" xlink:show=\"new\" xlink:title=\"psysml:1980a670-9bad-4a6e-b892-05e752677470\" xlink:type=\"simple\"><rect fill=\"#FFFFFF\" height=\"45.9375\" id=\"E7\" rx=\"10\" ry=\"10\" style=\"stroke: #383838; stroke-width: 1.5;\" width=\"71\" x=\"138.5\" y=\"41\"/><text fill=\"#000000\" font-family=\"sans-serif\" font-size=\"12\" font-style=\"italic\" lengthAdjust=\"spacingAndGlyphs\" textLength=\"69\" x=\"139.5\" y=\"57.1387\">«attribute»</text><text fill=\"#000000\" font-family=\"sans-serif\" font-size=\"12\" lengthAdjust=\"spacingAndGlyphs\" textLength=\"8\" x=\"170\" y=\"71.1074\">b</text><line style=\"stroke: #383838; stroke-width: 1.5;\" x1=\"139.5\" x2=\"208.5\" y1=\"78.9375\" y2=\"78.9375\"/></a><!--MD5=[b9389687b975829384b498ac4b7476b2]\n",
       "class E8--><a href=\"psysml:c3372668-2566-45ef-b19a-e891239054bd\" target=\"_top\" title=\"psysml:c3372668-2566-45ef-b19a-e891239054bd\" xlink:actuate=\"onRequest\" xlink:href=\"psysml:c3372668-2566-45ef-b19a-e891239054bd\" xlink:show=\"new\" xlink:title=\"psysml:c3372668-2566-45ef-b19a-e891239054bd\" xlink:type=\"simple\"><rect fill=\"#FFFFFF\" height=\"45.9375\" id=\"E8\" rx=\"10\" ry=\"10\" style=\"stroke: #383838; stroke-width: 1.5;\" width=\"71\" x=\"32.5\" y=\"41\"/><text fill=\"#000000\" font-family=\"sans-serif\" font-size=\"12\" font-style=\"italic\" lengthAdjust=\"spacingAndGlyphs\" textLength=\"69\" x=\"33.5\" y=\"57.1387\">«attribute»</text><text fill=\"#000000\" font-family=\"sans-serif\" font-size=\"12\" lengthAdjust=\"spacingAndGlyphs\" textLength=\"7\" x=\"64.5\" y=\"71.1074\">c</text><line style=\"stroke: #383838; stroke-width: 1.5;\" x1=\"33.5\" x2=\"102.5\" y1=\"78.9375\" y2=\"78.9375\"/></a><!--MD5=[05d275557350bfb9b23a4ef7222b4c39]\n",
       "link E3 to E2--><a href=\"psysml:c16b553f-69e4-4116-bada-9588c5abaa28\" target=\"_top\" title=\"psysml:c16b553f-69e4-4116-bada-9588c5abaa28\" xlink:actuate=\"onRequest\" xlink:href=\"psysml:c16b553f-69e4-4116-bada-9588c5abaa28\" xlink:show=\"new\" xlink:title=\"psysml:c16b553f-69e4-4116-bada-9588c5abaa28\" xlink:type=\"simple\"><path d=\"M621.94,87.19 C611.77,103.23 597.51,125.73 584.09,146.9 \" fill=\"none\" id=\"E3-&gt;E2\" style=\"stroke: #383838; stroke-width: 1.0;\"/><polygon fill=\"#FFFFFF\" points=\"573.37,163.82,577.6195,144.0225,589.448,151.5115,573.37,163.82\" style=\"stroke: #383838; stroke-width: 1.0;\"/><ellipse cx=\"582.3584\" cy=\"140.2764\" fill=\"#383838\" rx=\"2\" ry=\"2\" style=\"stroke: #383838; stroke-width: 1.0;\"/><ellipse cx=\"590.8073\" cy=\"145.6258\" fill=\"#383838\" rx=\"2\" ry=\"2\" style=\"stroke: #383838; stroke-width: 1.0;\"/></a><!--MD5=[ddeed8deb2209213b62e6cfabaa108b2]\n",
       "reverse link E4 to E2--><a href=\"psysml:7844d093-18d6-4bcd-8bc7-6ee8559e13ae\" target=\"_top\" title=\"psysml:7844d093-18d6-4bcd-8bc7-6ee8559e13ae\" xlink:actuate=\"onRequest\" xlink:href=\"psysml:7844d093-18d6-4bcd-8bc7-6ee8559e13ae\" xlink:show=\"new\" xlink:title=\"psysml:7844d093-18d6-4bcd-8bc7-6ee8559e13ae\" xlink:type=\"simple\"><path d=\"M519.62,99.96 C524.37,119.25 530.31,143.36 535.36,163.82 \" fill=\"none\" id=\"E4&lt;-E2\" style=\"stroke: #383838; stroke-width: 1.0;\"/><polygon fill=\"#FFFFFF\" points=\"516.47,87.19,514.0229,93.9732,519.3432,98.841,521.7903,92.0577,516.47,87.19\" style=\"stroke: #383838; stroke-width: 1.0;\"/><text fill=\"#000000\" font-family=\"sans-serif\" font-size=\"13\" lengthAdjust=\"spacingAndGlyphs\" textLength=\"8\" x=\"528\" y=\"130.0669\">p</text></a><!--MD5=[197b9caf2600258cf4b5ac28acb1b50e]\n",
       "@startuml\r\n",
       "skinparam linetype polyline\r\n",
       "skinparam monochrome true\r\n",
       "skinparam classbackgroundcolor white\r\n",
       "skinparam shadowing false\r\n",
       "skinparam wrapWidth 300\r\n",
       "hide circle\r\n",
       "\r\n",
       "package \"ParameterTest\" as E1  [[psysml:edb9bc9d-436b-4f02-a049-a38172af8e0d ]]  {\r\n",
       "comp def \"A\" as E2  <<(T,blue)attribute def>> [[psysml:72c120f1-27bf-4069-82f6-2517ea0440e6 ]] {\r\n",
       "- - attributes - -\r\n",
       "x: String\r\n",
       "y: A\r\n",
       "}\r\n",
       "comp usage \"a: A\" as E3  <<(T,blue)attribute>> [[psysml:449a2126-050e-4d76-9596-2419df0cfe8a ]] {\r\n",
       "}\r\n",
       "comp def \"F\" as E4  <<(T,blue)calculation def>> [[psysml:42a33a96-c599-425f-a532-027e99d4f603 ]] {\r\n",
       "}\r\n",
       "comp usage \"f\" as E5  <<(T,blue)attribute>> [[psysml:04c0c290-1f5b-4b73-9b90-1720c7950e1a ]] {\r\n",
       "}\r\n",
       "comp usage \"g\" as E6  <<(T,blue)attribute>> [[psysml:514c602a-a137-45fe-b85f-d9c421e6e02c ]] {\r\n",
       "}\r\n",
       "comp usage \"b\" as E7  <<(T,blue)attribute>> [[psysml:1980a670-9bad-4a6e-b892-05e752677470 ]] {\r\n",
       "}\r\n",
       "comp usage \"c\" as E8  <<(T,blue)attribute>> [[psysml:c3372668-2566-45ef-b19a-e891239054bd ]] {\r\n",
       "}\r\n",
       "E3 - -:|> E2 [[psysml:c16b553f-69e4-4116-bada-9588c5abaa28 ]] \r\n",
       "E4 o- - E2 [[psysml:7844d093-18d6-4bcd-8bc7-6ee8559e13ae ]] : p\r\n",
       "}\r\n",
       "@enduml\r\n",
       "\n",
       "PlantUML version 1.2020.13(Sat Jun 13 12:26:38 UTC 2020)\n",
       "(EPL source distribution)\n",
       "Java Runtime: OpenJDK Runtime Environment\n",
       "JVM: OpenJDK 64-Bit Server VM\n",
       "Default Encoding: UTF-8\n",
       "Language: en\n",
       "Country: null\n",
       "--></g></svg>"
      ]
     },
     "execution_count": 10,
     "metadata": {},
     "output_type": "execute_result"
    }
   ],
   "source": [
    "%viz --style=\"POLYLINE\" --view=\"Tree\" \"ParameterTest\""
   ]
  },
  {
   "cell_type": "code",
   "execution_count": 11,
   "id": "religious-instrument",
   "metadata": {
    "execution": {
     "iopub.execute_input": "2021-03-25T13:43:58.609879Z",
     "iopub.status.busy": "2021-03-25T13:43:58.609446Z",
     "iopub.status.idle": "2021-03-25T13:43:58.617121Z",
     "shell.execute_reply": "2021-03-25T13:43:58.617567Z"
    }
   },
   "outputs": [
    {
     "data": {
      "image/svg+xml": [
       "<?xml version=\"1.0\" encoding=\"UTF-8\" standalone=\"no\"?><svg xmlns=\"http://www.w3.org/2000/svg\" xmlns:xlink=\"http://www.w3.org/1999/xlink\" contentScriptType=\"application/ecmascript\" contentStyleType=\"text/css\" height=\"12px\" preserveAspectRatio=\"none\" style=\"width:12px;height:12px;\" version=\"1.1\" viewBox=\"0 0 12 12\" width=\"12px\" zoomAndPan=\"magnify\"><defs/><g><!--MD5=[896ac0e7a515d8dd7765a661cb4ee08b]\n",
       "@startuml\r\n",
       "skinparam linetype polyline\r\n",
       "skinparam monochrome true\r\n",
       "skinparam classbackgroundcolor white\r\n",
       "skinparam shadowing false\r\n",
       "skinparam wrapWidth 300\r\n",
       "hide circle\r\n",
       "\r\n",
       "@enduml\r\n",
       "\n",
       "PlantUML version 1.2020.13(Sat Jun 13 12:26:38 UTC 2020)\n",
       "(EPL source distribution)\n",
       "Java Runtime: OpenJDK Runtime Environment\n",
       "JVM: OpenJDK 64-Bit Server VM\n",
       "Default Encoding: UTF-8\n",
       "Language: en\n",
       "Country: null\n",
       "--></g></svg>"
      ]
     },
     "execution_count": 11,
     "metadata": {},
     "output_type": "execute_result"
    }
   ],
   "source": [
    "%viz --style=\"POLYLINE\" --view=\"State\" \"ParameterTest\""
   ]
  },
  {
   "cell_type": "code",
   "execution_count": 12,
   "id": "killing-semiconductor",
   "metadata": {
    "execution": {
     "iopub.execute_input": "2021-03-25T13:43:58.673357Z",
     "iopub.status.busy": "2021-03-25T13:43:58.670750Z",
     "iopub.status.idle": "2021-03-25T13:43:58.766616Z",
     "shell.execute_reply": "2021-03-25T13:43:58.766243Z"
    }
   },
   "outputs": [
    {
     "data": {
      "image/svg+xml": [
       "<?xml version=\"1.0\" encoding=\"UTF-8\" standalone=\"no\"?><svg xmlns=\"http://www.w3.org/2000/svg\" xmlns:xlink=\"http://www.w3.org/1999/xlink\" contentScriptType=\"application/ecmascript\" contentStyleType=\"text/css\" height=\"112px\" preserveAspectRatio=\"none\" style=\"width:874px;height:112px;\" version=\"1.1\" viewBox=\"0 0 874 112\" width=\"874px\" zoomAndPan=\"magnify\"><defs/><g><!--MD5=[fbc87193dbaf4d95561dea2c320d4a47]\n",
       "cluster E1--><a href=\"psysml:edb9bc9d-436b-4f02-a049-a38172af8e0d\" target=\"_top\" title=\"psysml:edb9bc9d-436b-4f02-a049-a38172af8e0d\" xlink:actuate=\"onRequest\" xlink:href=\"psysml:edb9bc9d-436b-4f02-a049-a38172af8e0d\" xlink:show=\"new\" xlink:title=\"psysml:edb9bc9d-436b-4f02-a049-a38172af8e0d\" xlink:type=\"simple\"><polygon fill=\"#FFFFFF\" points=\"16,6,139,6,146,28.2969,852,28.2969,852,100,16,100,16,6\" style=\"stroke: #000000; stroke-width: 1.5;\"/><line style=\"stroke: #000000; stroke-width: 1.5;\" x1=\"16\" x2=\"146\" y1=\"28.2969\" y2=\"28.2969\"/><text fill=\"#000000\" font-family=\"sans-serif\" font-size=\"14\" font-weight=\"bold\" lengthAdjust=\"spacingAndGlyphs\" textLength=\"117\" x=\"20\" y=\"20.9951\">ParameterTest</text></a><g id=\"E1.E2\"><a href=\"psysml:72c120f1-27bf-4069-82f6-2517ea0440e6\" target=\"_top\" title=\"psysml:72c120f1-27bf-4069-82f6-2517ea0440e6\" xlink:actuate=\"onRequest\" xlink:href=\"psysml:72c120f1-27bf-4069-82f6-2517ea0440e6\" xlink:show=\"new\" xlink:title=\"psysml:72c120f1-27bf-4069-82f6-2517ea0440e6\" xlink:type=\"simple\"><rect fill=\"#FFFFFF\" height=\"42.9375\" id=\"E2\" style=\"stroke: #383838; stroke-width: 1.5;\" width=\"100\" x=\"736\" y=\"41\"/><rect fill=\"#F8F8F8\" height=\"37.9375\" style=\"stroke: #383838; stroke-width: 1.5;\" width=\"100\" x=\"736\" y=\"41\"/><text fill=\"#000000\" font-family=\"sans-serif\" font-size=\"12\" font-style=\"italic\" lengthAdjust=\"spacingAndGlyphs\" textLength=\"93\" x=\"739.5\" y=\"57.1387\">«attribute def»</text><text fill=\"#000000\" font-family=\"sans-serif\" font-size=\"12\" lengthAdjust=\"spacingAndGlyphs\" textLength=\"8\" x=\"782\" y=\"71.1074\">A</text></a></g><g id=\"E1.E4\"><a href=\"psysml:42a33a96-c599-425f-a532-027e99d4f603\" target=\"_top\" title=\"psysml:42a33a96-c599-425f-a532-027e99d4f603\" xlink:actuate=\"onRequest\" xlink:href=\"psysml:42a33a96-c599-425f-a532-027e99d4f603\" xlink:show=\"new\" xlink:title=\"psysml:42a33a96-c599-425f-a532-027e99d4f603\" xlink:type=\"simple\"><rect fill=\"#FFFFFF\" height=\"42.9375\" id=\"E4\" style=\"stroke: #383838; stroke-width: 1.5;\" width=\"113\" x=\"587.5\" y=\"41\"/><rect fill=\"#F8F8F8\" height=\"37.9375\" style=\"stroke: #383838; stroke-width: 1.5;\" width=\"113\" x=\"587.5\" y=\"41\"/><text fill=\"#000000\" font-family=\"sans-serif\" font-size=\"12\" font-style=\"italic\" lengthAdjust=\"spacingAndGlyphs\" textLength=\"106\" x=\"591\" y=\"57.1387\">«calculation def»</text><text fill=\"#000000\" font-family=\"sans-serif\" font-size=\"12\" lengthAdjust=\"spacingAndGlyphs\" textLength=\"7\" x=\"640.5\" y=\"71.1074\">F</text></a></g><g id=\"E1.E3\"><a href=\"psysml:449a2126-050e-4d76-9596-2419df0cfe8a\" target=\"_top\" title=\"psysml:449a2126-050e-4d76-9596-2419df0cfe8a\" xlink:actuate=\"onRequest\" xlink:href=\"psysml:449a2126-050e-4d76-9596-2419df0cfe8a\" xlink:show=\"new\" xlink:title=\"psysml:449a2126-050e-4d76-9596-2419df0cfe8a\" xlink:type=\"simple\"><rect fill=\"#FFFFFF\" height=\"42.9375\" id=\"E3\" rx=\"10\" ry=\"10\" style=\"stroke: #383838; stroke-width: 1.5;\" width=\"76\" x=\"476\" y=\"41\"/><rect fill=\"#F8F8F8\" height=\"37.9375\" rx=\"10\" ry=\"10\" style=\"stroke: #F8F8F8; stroke-width: 1.5;\" width=\"76\" x=\"476\" y=\"41\"/><rect fill=\"#F8F8F8\" height=\"10\" style=\"stroke: #F8F8F8; stroke-width: 1.5;\" width=\"76\" x=\"476\" y=\"68.9375\"/><rect fill=\"none\" height=\"42.9375\" id=\"E3\" rx=\"10\" ry=\"10\" style=\"stroke: #383838; stroke-width: 1.5;\" width=\"76\" x=\"476\" y=\"41\"/><text fill=\"#000000\" font-family=\"sans-serif\" font-size=\"12\" font-style=\"italic\" lengthAdjust=\"spacingAndGlyphs\" textLength=\"69\" x=\"479.5\" y=\"57.1387\">«attribute»</text><text fill=\"#000000\" font-family=\"sans-serif\" font-size=\"12\" lengthAdjust=\"spacingAndGlyphs\" textLength=\"24\" x=\"502\" y=\"71.1074\">a: A</text></a></g><g id=\"E1.E5\"><a href=\"psysml:04c0c290-1f5b-4b73-9b90-1720c7950e1a\" target=\"_top\" title=\"psysml:04c0c290-1f5b-4b73-9b90-1720c7950e1a\" xlink:actuate=\"onRequest\" xlink:href=\"psysml:04c0c290-1f5b-4b73-9b90-1720c7950e1a\" xlink:show=\"new\" xlink:title=\"psysml:04c0c290-1f5b-4b73-9b90-1720c7950e1a\" xlink:type=\"simple\"><rect fill=\"#FFFFFF\" height=\"42.9375\" id=\"E5\" rx=\"10\" ry=\"10\" style=\"stroke: #383838; stroke-width: 1.5;\" width=\"76\" x=\"365\" y=\"41\"/><rect fill=\"#F8F8F8\" height=\"37.9375\" rx=\"10\" ry=\"10\" style=\"stroke: #F8F8F8; stroke-width: 1.5;\" width=\"76\" x=\"365\" y=\"41\"/><rect fill=\"#F8F8F8\" height=\"10\" style=\"stroke: #F8F8F8; stroke-width: 1.5;\" width=\"76\" x=\"365\" y=\"68.9375\"/><rect fill=\"none\" height=\"42.9375\" id=\"E5\" rx=\"10\" ry=\"10\" style=\"stroke: #383838; stroke-width: 1.5;\" width=\"76\" x=\"365\" y=\"41\"/><text fill=\"#000000\" font-family=\"sans-serif\" font-size=\"12\" font-style=\"italic\" lengthAdjust=\"spacingAndGlyphs\" textLength=\"69\" x=\"368.5\" y=\"57.1387\">«attribute»</text><text fill=\"#000000\" font-family=\"sans-serif\" font-size=\"12\" lengthAdjust=\"spacingAndGlyphs\" textLength=\"4\" x=\"401\" y=\"71.1074\">f</text></a></g><g id=\"E1.E6\"><a href=\"psysml:514c602a-a137-45fe-b85f-d9c421e6e02c\" target=\"_top\" title=\"psysml:514c602a-a137-45fe-b85f-d9c421e6e02c\" xlink:actuate=\"onRequest\" xlink:href=\"psysml:514c602a-a137-45fe-b85f-d9c421e6e02c\" xlink:show=\"new\" xlink:title=\"psysml:514c602a-a137-45fe-b85f-d9c421e6e02c\" xlink:type=\"simple\"><rect fill=\"#FFFFFF\" height=\"42.9375\" id=\"E6\" rx=\"10\" ry=\"10\" style=\"stroke: #383838; stroke-width: 1.5;\" width=\"76\" x=\"254\" y=\"41\"/><rect fill=\"#F8F8F8\" height=\"37.9375\" rx=\"10\" ry=\"10\" style=\"stroke: #F8F8F8; stroke-width: 1.5;\" width=\"76\" x=\"254\" y=\"41\"/><rect fill=\"#F8F8F8\" height=\"10\" style=\"stroke: #F8F8F8; stroke-width: 1.5;\" width=\"76\" x=\"254\" y=\"68.9375\"/><rect fill=\"none\" height=\"42.9375\" id=\"E6\" rx=\"10\" ry=\"10\" style=\"stroke: #383838; stroke-width: 1.5;\" width=\"76\" x=\"254\" y=\"41\"/><text fill=\"#000000\" font-family=\"sans-serif\" font-size=\"12\" font-style=\"italic\" lengthAdjust=\"spacingAndGlyphs\" textLength=\"69\" x=\"257.5\" y=\"57.1387\">«attribute»</text><text fill=\"#000000\" font-family=\"sans-serif\" font-size=\"12\" lengthAdjust=\"spacingAndGlyphs\" textLength=\"8\" x=\"288\" y=\"71.1074\">g</text></a></g><g id=\"E1.E7\"><a href=\"psysml:1980a670-9bad-4a6e-b892-05e752677470\" target=\"_top\" title=\"psysml:1980a670-9bad-4a6e-b892-05e752677470\" xlink:actuate=\"onRequest\" xlink:href=\"psysml:1980a670-9bad-4a6e-b892-05e752677470\" xlink:show=\"new\" xlink:title=\"psysml:1980a670-9bad-4a6e-b892-05e752677470\" xlink:type=\"simple\"><rect fill=\"#FFFFFF\" height=\"42.9375\" id=\"E7\" rx=\"10\" ry=\"10\" style=\"stroke: #383838; stroke-width: 1.5;\" width=\"76\" x=\"143\" y=\"41\"/><rect fill=\"#F8F8F8\" height=\"37.9375\" rx=\"10\" ry=\"10\" style=\"stroke: #F8F8F8; stroke-width: 1.5;\" width=\"76\" x=\"143\" y=\"41\"/><rect fill=\"#F8F8F8\" height=\"10\" style=\"stroke: #F8F8F8; stroke-width: 1.5;\" width=\"76\" x=\"143\" y=\"68.9375\"/><rect fill=\"none\" height=\"42.9375\" id=\"E7\" rx=\"10\" ry=\"10\" style=\"stroke: #383838; stroke-width: 1.5;\" width=\"76\" x=\"143\" y=\"41\"/><text fill=\"#000000\" font-family=\"sans-serif\" font-size=\"12\" font-style=\"italic\" lengthAdjust=\"spacingAndGlyphs\" textLength=\"69\" x=\"146.5\" y=\"57.1387\">«attribute»</text><text fill=\"#000000\" font-family=\"sans-serif\" font-size=\"12\" lengthAdjust=\"spacingAndGlyphs\" textLength=\"8\" x=\"177\" y=\"71.1074\">b</text></a></g><g id=\"E1.E8\"><a href=\"psysml:c3372668-2566-45ef-b19a-e891239054bd\" target=\"_top\" title=\"psysml:c3372668-2566-45ef-b19a-e891239054bd\" xlink:actuate=\"onRequest\" xlink:href=\"psysml:c3372668-2566-45ef-b19a-e891239054bd\" xlink:show=\"new\" xlink:title=\"psysml:c3372668-2566-45ef-b19a-e891239054bd\" xlink:type=\"simple\"><rect fill=\"#FFFFFF\" height=\"42.9375\" id=\"E8\" rx=\"10\" ry=\"10\" style=\"stroke: #383838; stroke-width: 1.5;\" width=\"76\" x=\"32\" y=\"41\"/><rect fill=\"#F8F8F8\" height=\"37.9375\" rx=\"10\" ry=\"10\" style=\"stroke: #F8F8F8; stroke-width: 1.5;\" width=\"76\" x=\"32\" y=\"41\"/><rect fill=\"#F8F8F8\" height=\"10\" style=\"stroke: #F8F8F8; stroke-width: 1.5;\" width=\"76\" x=\"32\" y=\"68.9375\"/><rect fill=\"none\" height=\"42.9375\" id=\"E8\" rx=\"10\" ry=\"10\" style=\"stroke: #383838; stroke-width: 1.5;\" width=\"76\" x=\"32\" y=\"41\"/><text fill=\"#000000\" font-family=\"sans-serif\" font-size=\"12\" font-style=\"italic\" lengthAdjust=\"spacingAndGlyphs\" textLength=\"69\" x=\"35.5\" y=\"57.1387\">«attribute»</text><text fill=\"#000000\" font-family=\"sans-serif\" font-size=\"12\" lengthAdjust=\"spacingAndGlyphs\" textLength=\"7\" x=\"66.5\" y=\"71.1074\">c</text></a></g><!--MD5=[a5a2645c4cbc063e666bfa1d41c4a446]\n",
       "@startuml\r\n",
       "skinparam ranksep 8\r\n",
       "skinparam rectangle {\r\n",
       " backgroundColor<<block>> LightGreen\r\n",
       "}\r\n",
       "skinparam linetype polyline\r\n",
       "skinparam monochrome true\r\n",
       "skinparam classbackgroundcolor white\r\n",
       "skinparam shadowing false\r\n",
       "skinparam wrapWidth 300\r\n",
       "hide circle\r\n",
       "\r\n",
       "package \"ParameterTest\" as E1  [[psysml:edb9bc9d-436b-4f02-a049-a38172af8e0d ]]  {\r\n",
       "def \"A\" as E2  <<(T,blue)attribute def>> [[psysml:72c120f1-27bf-4069-82f6-2517ea0440e6 ]] \r\n",
       "rec usage \"a: A\" as E3  <<(T,blue)attribute>> [[psysml:449a2126-050e-4d76-9596-2419df0cfe8a ]] {\r\n",
       "}\r\n",
       "def \"F\" as E4  <<(T,blue)calculation def>> [[psysml:42a33a96-c599-425f-a532-027e99d4f603 ]] \r\n",
       "rec usage \"f\" as E5  <<(T,blue)attribute>> [[psysml:04c0c290-1f5b-4b73-9b90-1720c7950e1a ]] {\r\n",
       "}\r\n",
       "rec usage \"g\" as E6  <<(T,blue)attribute>> [[psysml:514c602a-a137-45fe-b85f-d9c421e6e02c ]] {\r\n",
       "}\r\n",
       "rec usage \"b\" as E7  <<(T,blue)attribute>> [[psysml:1980a670-9bad-4a6e-b892-05e752677470 ]] {\r\n",
       "}\r\n",
       "rec usage \"c\" as E8  <<(T,blue)attribute>> [[psysml:c3372668-2566-45ef-b19a-e891239054bd ]] {\r\n",
       "}\r\n",
       "}\r\n",
       "@enduml\r\n",
       "\n",
       "PlantUML version 1.2020.13(Sat Jun 13 12:26:38 UTC 2020)\n",
       "(EPL source distribution)\n",
       "Java Runtime: OpenJDK Runtime Environment\n",
       "JVM: OpenJDK 64-Bit Server VM\n",
       "Default Encoding: UTF-8\n",
       "Language: en\n",
       "Country: null\n",
       "--></g></svg>"
      ]
     },
     "execution_count": 12,
     "metadata": {},
     "output_type": "execute_result"
    }
   ],
   "source": [
    "%viz --style=\"POLYLINE\" --view=\"Interconnection\" \"ParameterTest\""
   ]
  },
  {
   "cell_type": "code",
   "execution_count": 13,
   "id": "textile-grocery",
   "metadata": {
    "execution": {
     "iopub.execute_input": "2021-03-25T13:43:58.817881Z",
     "iopub.status.busy": "2021-03-25T13:43:58.817306Z",
     "iopub.status.idle": "2021-03-25T13:43:58.883529Z",
     "shell.execute_reply": "2021-03-25T13:43:58.883960Z"
    }
   },
   "outputs": [
    {
     "data": {
      "image/svg+xml": [
       "<?xml version=\"1.0\" encoding=\"UTF-8\" standalone=\"no\"?><svg xmlns=\"http://www.w3.org/2000/svg\" xmlns:xlink=\"http://www.w3.org/1999/xlink\" contentScriptType=\"application/ecmascript\" contentStyleType=\"text/css\" height=\"126px\" preserveAspectRatio=\"none\" style=\"width:166px;height:126px;\" version=\"1.1\" viewBox=\"0 0 166 126\" width=\"166px\" zoomAndPan=\"magnify\"><defs/><g><!--MD5=[fbc87193dbaf4d95561dea2c320d4a47]\n",
       "cluster E1--><a href=\"psysml:42a33a96-c599-425f-a532-027e99d4f603\" target=\"_top\" title=\"psysml:42a33a96-c599-425f-a532-027e99d4f603\" xlink:actuate=\"onRequest\" xlink:href=\"psysml:42a33a96-c599-425f-a532-027e99d4f603\" xlink:show=\"new\" xlink:title=\"psysml:42a33a96-c599-425f-a532-027e99d4f603\" xlink:type=\"simple\"><rect fill=\"#FFFFFF\" height=\"73\" id=\"E1\" style=\"stroke: #383838; stroke-width: 1.5;\" width=\"148\" x=\"7\" y=\"42.0986\"/><rect fill=\"#F8F8F8\" height=\"37.9375\" style=\"stroke: #383838; stroke-width: 1.5;\" width=\"148\" x=\"7\" y=\"42.0986\"/><text fill=\"#000000\" font-family=\"sans-serif\" font-size=\"12\" font-style=\"italic\" lengthAdjust=\"spacingAndGlyphs\" textLength=\"106\" x=\"28\" y=\"58.2373\">«calculation def»</text><text fill=\"#000000\" font-family=\"sans-serif\" font-size=\"12\" lengthAdjust=\"spacingAndGlyphs\" textLength=\"7\" x=\"77.5\" y=\"72.2061\">F</text></a><text fill=\"#000000\" font-family=\"sans-serif\" font-size=\"14\" lengthAdjust=\"spacingAndGlyphs\" textLength=\"9\" x=\"20.5\" y=\"20.7969\">p</text><rect fill=\"#383838\" height=\"12\" style=\"stroke: #F8F8F8; stroke-width: 1.5;\" width=\"12\" x=\"19\" y=\"36.0986\"/><text fill=\"#000000\" font-family=\"sans-serif\" font-size=\"14\" lengthAdjust=\"spacingAndGlyphs\" textLength=\"9\" x=\"67.5\" y=\"20.7969\">q</text><rect fill=\"#383838\" height=\"12\" style=\"stroke: #F8F8F8; stroke-width: 1.5;\" width=\"12\" x=\"66\" y=\"36.0986\"/><!--MD5=[3492574d152b8e3a27413fdd32fbe109]\n",
       "@startuml\r\n",
       "skinparam ranksep 8\r\n",
       "skinparam linetype polyline\r\n",
       "skinparam monochrome true\r\n",
       "skinparam classbackgroundcolor white\r\n",
       "skinparam shadowing false\r\n",
       "skinparam wrapWidth 300\r\n",
       "hide circle\r\n",
       "\r\n",
       "rec def \"F\" as E1  <<(T,blue)calculation def>> [[psysml:42a33a96-c599-425f-a532-027e99d4f603 ]] {\r\n",
       "portin \"p\" as E2  [[psysml:7844d093-18d6-4bcd-8bc7-6ee8559e13ae ]] \r\n",
       "portin \"q\" as E3  [[psysml:60bdf07c-a2db-456e-a058-70cb9f3de468 ]] \r\n",
       "}\r\n",
       "\r\n",
       "@enduml\r\n",
       "\n",
       "PlantUML version 1.2020.13(Sat Jun 13 12:26:38 UTC 2020)\n",
       "(EPL source distribution)\n",
       "Java Runtime: OpenJDK Runtime Environment\n",
       "JVM: OpenJDK 64-Bit Server VM\n",
       "Default Encoding: UTF-8\n",
       "Language: en\n",
       "Country: null\n",
       "--></g></svg>"
      ]
     },
     "execution_count": 13,
     "metadata": {},
     "output_type": "execute_result"
    }
   ],
   "source": [
    "%viz --style=\"POLYLINE\" --view=\"Action\" \"ParameterTest\""
   ]
  },
  {
   "cell_type": "code",
   "execution_count": 14,
   "id": "purple-automation",
   "metadata": {
    "execution": {
     "iopub.execute_input": "2021-03-25T13:43:58.936148Z",
     "iopub.status.busy": "2021-03-25T13:43:58.935365Z",
     "iopub.status.idle": "2021-03-25T13:43:59.212450Z",
     "shell.execute_reply": "2021-03-25T13:43:59.210896Z"
    }
   },
   "outputs": [
    {
     "data": {
      "image/svg+xml": [
       "<?xml version=\"1.0\" encoding=\"UTF-8\" standalone=\"no\"?><svg xmlns=\"http://www.w3.org/2000/svg\" xmlns:xlink=\"http://www.w3.org/1999/xlink\" contentScriptType=\"application/ecmascript\" contentStyleType=\"text/css\" height=\"280px\" preserveAspectRatio=\"none\" style=\"width:710px;height:280px;\" version=\"1.1\" viewBox=\"0 0 710 280\" width=\"710px\" zoomAndPan=\"magnify\"><defs/><g><!--MD5=[fbc87193dbaf4d95561dea2c320d4a47]\n",
       "cluster E1--><a href=\"psysml:edb9bc9d-436b-4f02-a049-a38172af8e0d\" target=\"_top\" title=\"psysml:edb9bc9d-436b-4f02-a049-a38172af8e0d\" xlink:actuate=\"onRequest\" xlink:href=\"psysml:edb9bc9d-436b-4f02-a049-a38172af8e0d\" xlink:show=\"new\" xlink:title=\"psysml:edb9bc9d-436b-4f02-a049-a38172af8e0d\" xlink:type=\"simple\"><polygon fill=\"#FFFFFF\" points=\"16,6,139,6,146,28.2969,688,28.2969,688,268,16,268,16,6\" style=\"stroke: #000000; stroke-width: 1.5;\"/><line style=\"stroke: #000000; stroke-width: 1.5;\" x1=\"16\" x2=\"146\" y1=\"28.2969\" y2=\"28.2969\"/><text fill=\"#000000\" font-family=\"sans-serif\" font-size=\"14\" font-weight=\"bold\" lengthAdjust=\"spacingAndGlyphs\" textLength=\"117\" x=\"20\" y=\"20.9951\">ParameterTest</text></a><!--MD5=[b4997ac47864f28c2f74865a473b2911]\n",
       "class E2--><a href=\"psysml:72c120f1-27bf-4069-82f6-2517ea0440e6\" target=\"_top\" title=\"psysml:72c120f1-27bf-4069-82f6-2517ea0440e6\" xlink:actuate=\"onRequest\" xlink:href=\"psysml:72c120f1-27bf-4069-82f6-2517ea0440e6\" xlink:show=\"new\" xlink:title=\"psysml:72c120f1-27bf-4069-82f6-2517ea0440e6\" xlink:type=\"simple\"><rect fill=\"#FFFFFF\" height=\"88.3516\" id=\"E2\" style=\"stroke: #383838; stroke-width: 1.5;\" width=\"95\" x=\"498.5\" y=\"164\"/><text fill=\"#000000\" font-family=\"sans-serif\" font-size=\"12\" font-style=\"italic\" lengthAdjust=\"spacingAndGlyphs\" textLength=\"93\" x=\"499.5\" y=\"180.1387\">«attribute def»</text><text fill=\"#000000\" font-family=\"sans-serif\" font-size=\"12\" lengthAdjust=\"spacingAndGlyphs\" textLength=\"8\" x=\"542\" y=\"194.1074\">A</text><line style=\"stroke: #383838; stroke-width: 1.5;\" x1=\"499.5\" x2=\"592.5\" y1=\"201.9375\" y2=\"201.9375\"/><text fill=\"#000000\" font-family=\"sans-serif\" font-size=\"11\" lengthAdjust=\"spacingAndGlyphs\" textLength=\"48\" x=\"504.5\" y=\"232.9526\">x: String</text><text fill=\"#000000\" font-family=\"sans-serif\" font-size=\"11\" lengthAdjust=\"spacingAndGlyphs\" textLength=\"21\" x=\"504.5\" y=\"245.7573\">y: A</text><line style=\"stroke: #383838; stroke-width: 1.0;\" x1=\"499.5\" x2=\"518.5\" y1=\"216.3398\" y2=\"216.3398\"/><text fill=\"#000000\" font-family=\"sans-serif\" font-size=\"11\" lengthAdjust=\"spacingAndGlyphs\" textLength=\"55\" x=\"518.5\" y=\"219.6479\">attributes</text><line style=\"stroke: #383838; stroke-width: 1.0;\" x1=\"573.5\" x2=\"592.5\" y1=\"216.3398\" y2=\"216.3398\"/></a><!--MD5=[09b614a08d8cba4a07c9adeb5e0fee81]\n",
       "class E3--><a href=\"psysml:449a2126-050e-4d76-9596-2419df0cfe8a\" target=\"_top\" title=\"psysml:449a2126-050e-4d76-9596-2419df0cfe8a\" xlink:actuate=\"onRequest\" xlink:href=\"psysml:449a2126-050e-4d76-9596-2419df0cfe8a\" xlink:show=\"new\" xlink:title=\"psysml:449a2126-050e-4d76-9596-2419df0cfe8a\" xlink:type=\"simple\"><rect fill=\"#FFFFFF\" height=\"45.9375\" id=\"E3\" rx=\"10\" ry=\"10\" style=\"stroke: #383838; stroke-width: 1.5;\" width=\"71\" x=\"600.5\" y=\"41\"/><text fill=\"#000000\" font-family=\"sans-serif\" font-size=\"12\" font-style=\"italic\" lengthAdjust=\"spacingAndGlyphs\" textLength=\"69\" x=\"601.5\" y=\"57.1387\">«attribute»</text><text fill=\"#000000\" font-family=\"sans-serif\" font-size=\"12\" lengthAdjust=\"spacingAndGlyphs\" textLength=\"24\" x=\"624\" y=\"71.1074\">a: A</text><line style=\"stroke: #383838; stroke-width: 1.5;\" x1=\"601.5\" x2=\"670.5\" y1=\"78.9375\" y2=\"78.9375\"/></a><!--MD5=[ebbe1d658d1005bcc118a6aa81145e00]\n",
       "class E4--><a href=\"psysml:42a33a96-c599-425f-a532-027e99d4f603\" target=\"_top\" title=\"psysml:42a33a96-c599-425f-a532-027e99d4f603\" xlink:actuate=\"onRequest\" xlink:href=\"psysml:42a33a96-c599-425f-a532-027e99d4f603\" xlink:show=\"new\" xlink:title=\"psysml:42a33a96-c599-425f-a532-027e99d4f603\" xlink:type=\"simple\"><rect fill=\"#FFFFFF\" height=\"45.9375\" id=\"E4\" style=\"stroke: #383838; stroke-width: 1.5;\" width=\"108\" x=\"457\" y=\"41\"/><text fill=\"#000000\" font-family=\"sans-serif\" font-size=\"12\" font-style=\"italic\" lengthAdjust=\"spacingAndGlyphs\" textLength=\"106\" x=\"458\" y=\"57.1387\">«calculation def»</text><text fill=\"#000000\" font-family=\"sans-serif\" font-size=\"12\" lengthAdjust=\"spacingAndGlyphs\" textLength=\"7\" x=\"507.5\" y=\"71.1074\">F</text><line style=\"stroke: #383838; stroke-width: 1.5;\" x1=\"458\" x2=\"564\" y1=\"78.9375\" y2=\"78.9375\"/></a><!--MD5=[270fce915f116d4de14055a7c1d9a0f3]\n",
       "class E5--><a href=\"psysml:04c0c290-1f5b-4b73-9b90-1720c7950e1a\" target=\"_top\" title=\"psysml:04c0c290-1f5b-4b73-9b90-1720c7950e1a\" xlink:actuate=\"onRequest\" xlink:href=\"psysml:04c0c290-1f5b-4b73-9b90-1720c7950e1a\" xlink:show=\"new\" xlink:title=\"psysml:04c0c290-1f5b-4b73-9b90-1720c7950e1a\" xlink:type=\"simple\"><rect fill=\"#FFFFFF\" height=\"45.9375\" id=\"E5\" rx=\"10\" ry=\"10\" style=\"stroke: #383838; stroke-width: 1.5;\" width=\"71\" x=\"350.5\" y=\"41\"/><text fill=\"#000000\" font-family=\"sans-serif\" font-size=\"12\" font-style=\"italic\" lengthAdjust=\"spacingAndGlyphs\" textLength=\"69\" x=\"351.5\" y=\"57.1387\">«attribute»</text><text fill=\"#000000\" font-family=\"sans-serif\" font-size=\"12\" lengthAdjust=\"spacingAndGlyphs\" textLength=\"4\" x=\"384\" y=\"71.1074\">f</text><line style=\"stroke: #383838; stroke-width: 1.5;\" x1=\"351.5\" x2=\"420.5\" y1=\"78.9375\" y2=\"78.9375\"/></a><!--MD5=[60a26617385b1d2d0262a64233df1f8d]\n",
       "class E6--><a href=\"psysml:514c602a-a137-45fe-b85f-d9c421e6e02c\" target=\"_top\" title=\"psysml:514c602a-a137-45fe-b85f-d9c421e6e02c\" xlink:actuate=\"onRequest\" xlink:href=\"psysml:514c602a-a137-45fe-b85f-d9c421e6e02c\" xlink:show=\"new\" xlink:title=\"psysml:514c602a-a137-45fe-b85f-d9c421e6e02c\" xlink:type=\"simple\"><rect fill=\"#FFFFFF\" height=\"45.9375\" id=\"E6\" rx=\"10\" ry=\"10\" style=\"stroke: #383838; stroke-width: 1.5;\" width=\"71\" x=\"244.5\" y=\"41\"/><text fill=\"#000000\" font-family=\"sans-serif\" font-size=\"12\" font-style=\"italic\" lengthAdjust=\"spacingAndGlyphs\" textLength=\"69\" x=\"245.5\" y=\"57.1387\">«attribute»</text><text fill=\"#000000\" font-family=\"sans-serif\" font-size=\"12\" lengthAdjust=\"spacingAndGlyphs\" textLength=\"8\" x=\"276\" y=\"71.1074\">g</text><line style=\"stroke: #383838; stroke-width: 1.5;\" x1=\"245.5\" x2=\"314.5\" y1=\"78.9375\" y2=\"78.9375\"/></a><!--MD5=[2156ba9850f5573cc1fc38a6a4b2f02b]\n",
       "class E7--><a href=\"psysml:1980a670-9bad-4a6e-b892-05e752677470\" target=\"_top\" title=\"psysml:1980a670-9bad-4a6e-b892-05e752677470\" xlink:actuate=\"onRequest\" xlink:href=\"psysml:1980a670-9bad-4a6e-b892-05e752677470\" xlink:show=\"new\" xlink:title=\"psysml:1980a670-9bad-4a6e-b892-05e752677470\" xlink:type=\"simple\"><rect fill=\"#FFFFFF\" height=\"45.9375\" id=\"E7\" rx=\"10\" ry=\"10\" style=\"stroke: #383838; stroke-width: 1.5;\" width=\"71\" x=\"138.5\" y=\"41\"/><text fill=\"#000000\" font-family=\"sans-serif\" font-size=\"12\" font-style=\"italic\" lengthAdjust=\"spacingAndGlyphs\" textLength=\"69\" x=\"139.5\" y=\"57.1387\">«attribute»</text><text fill=\"#000000\" font-family=\"sans-serif\" font-size=\"12\" lengthAdjust=\"spacingAndGlyphs\" textLength=\"8\" x=\"170\" y=\"71.1074\">b</text><line style=\"stroke: #383838; stroke-width: 1.5;\" x1=\"139.5\" x2=\"208.5\" y1=\"78.9375\" y2=\"78.9375\"/></a><!--MD5=[b9389687b975829384b498ac4b7476b2]\n",
       "class E8--><a href=\"psysml:c3372668-2566-45ef-b19a-e891239054bd\" target=\"_top\" title=\"psysml:c3372668-2566-45ef-b19a-e891239054bd\" xlink:actuate=\"onRequest\" xlink:href=\"psysml:c3372668-2566-45ef-b19a-e891239054bd\" xlink:show=\"new\" xlink:title=\"psysml:c3372668-2566-45ef-b19a-e891239054bd\" xlink:type=\"simple\"><rect fill=\"#FFFFFF\" height=\"45.9375\" id=\"E8\" rx=\"10\" ry=\"10\" style=\"stroke: #383838; stroke-width: 1.5;\" width=\"71\" x=\"32.5\" y=\"41\"/><text fill=\"#000000\" font-family=\"sans-serif\" font-size=\"12\" font-style=\"italic\" lengthAdjust=\"spacingAndGlyphs\" textLength=\"69\" x=\"33.5\" y=\"57.1387\">«attribute»</text><text fill=\"#000000\" font-family=\"sans-serif\" font-size=\"12\" lengthAdjust=\"spacingAndGlyphs\" textLength=\"7\" x=\"64.5\" y=\"71.1074\">c</text><line style=\"stroke: #383838; stroke-width: 1.5;\" x1=\"33.5\" x2=\"102.5\" y1=\"78.9375\" y2=\"78.9375\"/></a><!--MD5=[05d275557350bfb9b23a4ef7222b4c39]\n",
       "link E3 to E2--><a href=\"psysml:c16b553f-69e4-4116-bada-9588c5abaa28\" target=\"_top\" title=\"psysml:c16b553f-69e4-4116-bada-9588c5abaa28\" xlink:actuate=\"onRequest\" xlink:href=\"psysml:c16b553f-69e4-4116-bada-9588c5abaa28\" xlink:show=\"new\" xlink:title=\"psysml:c16b553f-69e4-4116-bada-9588c5abaa28\" xlink:type=\"simple\"><path d=\"M621.94,87.19 C611.77,103.23 597.51,125.73 584.09,146.9 \" fill=\"none\" id=\"E3-&gt;E2\" style=\"stroke: #383838; stroke-width: 1.0;\"/><polygon fill=\"#FFFFFF\" points=\"573.37,163.82,577.6195,144.0225,589.448,151.5115,573.37,163.82\" style=\"stroke: #383838; stroke-width: 1.0;\"/><ellipse cx=\"582.3584\" cy=\"140.2764\" fill=\"#383838\" rx=\"2\" ry=\"2\" style=\"stroke: #383838; stroke-width: 1.0;\"/><ellipse cx=\"590.8073\" cy=\"145.6258\" fill=\"#383838\" rx=\"2\" ry=\"2\" style=\"stroke: #383838; stroke-width: 1.0;\"/></a><!--MD5=[ddeed8deb2209213b62e6cfabaa108b2]\n",
       "reverse link E4 to E2--><a href=\"psysml:7844d093-18d6-4bcd-8bc7-6ee8559e13ae\" target=\"_top\" title=\"psysml:7844d093-18d6-4bcd-8bc7-6ee8559e13ae\" xlink:actuate=\"onRequest\" xlink:href=\"psysml:7844d093-18d6-4bcd-8bc7-6ee8559e13ae\" xlink:show=\"new\" xlink:title=\"psysml:7844d093-18d6-4bcd-8bc7-6ee8559e13ae\" xlink:type=\"simple\"><path d=\"M519.62,99.96 C524.37,119.25 530.31,143.36 535.36,163.82 \" fill=\"none\" id=\"E4&lt;-E2\" style=\"stroke: #383838; stroke-width: 1.0;\"/><polygon fill=\"#FFFFFF\" points=\"516.47,87.19,514.0229,93.9732,519.3432,98.841,521.7903,92.0577,516.47,87.19\" style=\"stroke: #383838; stroke-width: 1.0;\"/><text fill=\"#000000\" font-family=\"sans-serif\" font-size=\"13\" lengthAdjust=\"spacingAndGlyphs\" textLength=\"8\" x=\"528\" y=\"130.0669\">p</text></a><!--MD5=[197b9caf2600258cf4b5ac28acb1b50e]\n",
       "@startuml\r\n",
       "skinparam linetype polyline\r\n",
       "skinparam monochrome true\r\n",
       "skinparam classbackgroundcolor white\r\n",
       "skinparam shadowing false\r\n",
       "skinparam wrapWidth 300\r\n",
       "hide circle\r\n",
       "\r\n",
       "package \"ParameterTest\" as E1  [[psysml:edb9bc9d-436b-4f02-a049-a38172af8e0d ]]  {\r\n",
       "comp def \"A\" as E2  <<(T,blue)attribute def>> [[psysml:72c120f1-27bf-4069-82f6-2517ea0440e6 ]] {\r\n",
       "- - attributes - -\r\n",
       "x: String\r\n",
       "y: A\r\n",
       "}\r\n",
       "comp usage \"a: A\" as E3  <<(T,blue)attribute>> [[psysml:449a2126-050e-4d76-9596-2419df0cfe8a ]] {\r\n",
       "}\r\n",
       "comp def \"F\" as E4  <<(T,blue)calculation def>> [[psysml:42a33a96-c599-425f-a532-027e99d4f603 ]] {\r\n",
       "}\r\n",
       "comp usage \"f\" as E5  <<(T,blue)attribute>> [[psysml:04c0c290-1f5b-4b73-9b90-1720c7950e1a ]] {\r\n",
       "}\r\n",
       "comp usage \"g\" as E6  <<(T,blue)attribute>> [[psysml:514c602a-a137-45fe-b85f-d9c421e6e02c ]] {\r\n",
       "}\r\n",
       "comp usage \"b\" as E7  <<(T,blue)attribute>> [[psysml:1980a670-9bad-4a6e-b892-05e752677470 ]] {\r\n",
       "}\r\n",
       "comp usage \"c\" as E8  <<(T,blue)attribute>> [[psysml:c3372668-2566-45ef-b19a-e891239054bd ]] {\r\n",
       "}\r\n",
       "E3 - -:|> E2 [[psysml:c16b553f-69e4-4116-bada-9588c5abaa28 ]] \r\n",
       "E4 o- - E2 [[psysml:7844d093-18d6-4bcd-8bc7-6ee8559e13ae ]] : p\r\n",
       "}\r\n",
       "@enduml\r\n",
       "\n",
       "PlantUML version 1.2020.13(Sat Jun 13 12:26:38 UTC 2020)\n",
       "(EPL source distribution)\n",
       "Java Runtime: OpenJDK Runtime Environment\n",
       "JVM: OpenJDK 64-Bit Server VM\n",
       "Default Encoding: UTF-8\n",
       "Language: en\n",
       "Country: null\n",
       "--></g></svg>"
      ]
     },
     "execution_count": 14,
     "metadata": {},
     "output_type": "execute_result"
    }
   ],
   "source": [
    "%viz --style=\"POLYLINE\" --view=\"Sequence\" \"ParameterTest\""
   ]
  },
  {
   "cell_type": "code",
   "execution_count": 15,
   "id": "eleven-frank",
   "metadata": {
    "execution": {
     "iopub.execute_input": "2021-03-25T13:43:59.264446Z",
     "iopub.status.busy": "2021-03-25T13:43:59.263834Z",
     "iopub.status.idle": "2021-03-25T13:43:59.564341Z",
     "shell.execute_reply": "2021-03-25T13:43:59.564863Z"
    }
   },
   "outputs": [
    {
     "data": {
      "image/svg+xml": [
       "<?xml version=\"1.0\" encoding=\"UTF-8\" standalone=\"no\"?><svg xmlns=\"http://www.w3.org/2000/svg\" xmlns:xlink=\"http://www.w3.org/1999/xlink\" contentScriptType=\"application/ecmascript\" contentStyleType=\"text/css\" height=\"263px\" preserveAspectRatio=\"none\" style=\"width:740px;height:263px;\" version=\"1.1\" viewBox=\"0 0 740 263\" width=\"740px\" zoomAndPan=\"magnify\"><defs/><g><!--MD5=[fbc87193dbaf4d95561dea2c320d4a47]\n",
       "cluster E1--><a href=\"psysml:edb9bc9d-436b-4f02-a049-a38172af8e0d\" target=\"_top\" title=\"psysml:edb9bc9d-436b-4f02-a049-a38172af8e0d\" xlink:actuate=\"onRequest\" xlink:href=\"psysml:edb9bc9d-436b-4f02-a049-a38172af8e0d\" xlink:show=\"new\" xlink:title=\"psysml:edb9bc9d-436b-4f02-a049-a38172af8e0d\" xlink:type=\"simple\"><polygon fill=\"#FFFFFF\" points=\"16,6,139,6,146,28.2969,718,28.2969,718,251,16,251,16,6\" style=\"stroke: #000000; stroke-width: 1.5;\"/><line style=\"stroke: #000000; stroke-width: 1.5;\" x1=\"16\" x2=\"146\" y1=\"28.2969\" y2=\"28.2969\"/><text fill=\"#000000\" font-family=\"sans-serif\" font-size=\"14\" font-weight=\"bold\" lengthAdjust=\"spacingAndGlyphs\" textLength=\"117\" x=\"20\" y=\"20.9951\">ParameterTest</text></a><!--MD5=[f6df4d0ebaf0b5dfb2ced0ae5af7c670]\n",
       "cluster E4--><a href=\"psysml:42a33a96-c599-425f-a532-027e99d4f603\" target=\"_top\" title=\"psysml:42a33a96-c599-425f-a532-027e99d4f603\" xlink:actuate=\"onRequest\" xlink:href=\"psysml:42a33a96-c599-425f-a532-027e99d4f603\" xlink:show=\"new\" xlink:title=\"psysml:42a33a96-c599-425f-a532-027e99d4f603\" xlink:type=\"simple\"><rect fill=\"#FFFFFF\" height=\"160.5\" id=\"E4\" style=\"stroke: #383838; stroke-width: 1.5;\" width=\"148\" x=\"554\" y=\"64\"/><rect fill=\"#F8F8F8\" height=\"37.9375\" style=\"stroke: #383838; stroke-width: 1.5;\" width=\"148\" x=\"554\" y=\"64\"/><text fill=\"#000000\" font-family=\"sans-serif\" font-size=\"12\" font-style=\"italic\" lengthAdjust=\"spacingAndGlyphs\" textLength=\"106\" x=\"575\" y=\"80.1387\">«calculation def»</text><text fill=\"#000000\" font-family=\"sans-serif\" font-size=\"12\" lengthAdjust=\"spacingAndGlyphs\" textLength=\"7\" x=\"624.5\" y=\"94.1074\">F</text></a><!--MD5=[b4997ac47864f28c2f74865a473b2911]\n",
       "class E2--><a href=\"psysml:72c120f1-27bf-4069-82f6-2517ea0440e6\" target=\"_top\" title=\"psysml:72c120f1-27bf-4069-82f6-2517ea0440e6\" xlink:actuate=\"onRequest\" xlink:href=\"psysml:72c120f1-27bf-4069-82f6-2517ea0440e6\" xlink:show=\"new\" xlink:title=\"psysml:72c120f1-27bf-4069-82f6-2517ea0440e6\" xlink:type=\"simple\"><rect fill=\"#FFFFFF\" height=\"88.3516\" id=\"E2\" style=\"stroke: #383838; stroke-width: 1.5;\" width=\"95\" x=\"422.5\" y=\"147\"/><text fill=\"#000000\" font-family=\"sans-serif\" font-size=\"12\" font-style=\"italic\" lengthAdjust=\"spacingAndGlyphs\" textLength=\"93\" x=\"423.5\" y=\"163.1387\">«attribute def»</text><text fill=\"#000000\" font-family=\"sans-serif\" font-size=\"12\" lengthAdjust=\"spacingAndGlyphs\" textLength=\"8\" x=\"466\" y=\"177.1074\">A</text><line style=\"stroke: #383838; stroke-width: 1.5;\" x1=\"423.5\" x2=\"516.5\" y1=\"184.9375\" y2=\"184.9375\"/><text fill=\"#000000\" font-family=\"sans-serif\" font-size=\"11\" lengthAdjust=\"spacingAndGlyphs\" textLength=\"48\" x=\"428.5\" y=\"215.9526\">x: String</text><text fill=\"#000000\" font-family=\"sans-serif\" font-size=\"11\" lengthAdjust=\"spacingAndGlyphs\" textLength=\"21\" x=\"428.5\" y=\"228.7573\">y: A</text><line style=\"stroke: #383838; stroke-width: 1.0;\" x1=\"423.5\" x2=\"442.5\" y1=\"199.3398\" y2=\"199.3398\"/><text fill=\"#000000\" font-family=\"sans-serif\" font-size=\"11\" lengthAdjust=\"spacingAndGlyphs\" textLength=\"55\" x=\"442.5\" y=\"202.6479\">attributes</text><line style=\"stroke: #383838; stroke-width: 1.0;\" x1=\"497.5\" x2=\"516.5\" y1=\"199.3398\" y2=\"199.3398\"/></a><!--MD5=[09b614a08d8cba4a07c9adeb5e0fee81]\n",
       "class E3--><a href=\"psysml:449a2126-050e-4d76-9596-2419df0cfe8a\" target=\"_top\" title=\"psysml:449a2126-050e-4d76-9596-2419df0cfe8a\" xlink:actuate=\"onRequest\" xlink:href=\"psysml:449a2126-050e-4d76-9596-2419df0cfe8a\" xlink:show=\"new\" xlink:title=\"psysml:449a2126-050e-4d76-9596-2419df0cfe8a\" xlink:type=\"simple\"><rect fill=\"#FFFFFF\" height=\"45.9375\" id=\"E3\" rx=\"10\" ry=\"10\" style=\"stroke: #383838; stroke-width: 1.5;\" width=\"71\" x=\"456.5\" y=\"41\"/><text fill=\"#000000\" font-family=\"sans-serif\" font-size=\"12\" font-style=\"italic\" lengthAdjust=\"spacingAndGlyphs\" textLength=\"69\" x=\"457.5\" y=\"57.1387\">«attribute»</text><text fill=\"#000000\" font-family=\"sans-serif\" font-size=\"12\" lengthAdjust=\"spacingAndGlyphs\" textLength=\"24\" x=\"480\" y=\"71.1074\">a: A</text><line style=\"stroke: #383838; stroke-width: 1.5;\" x1=\"457.5\" x2=\"526.5\" y1=\"78.9375\" y2=\"78.9375\"/></a><!--MD5=[2156ba9850f5573cc1fc38a6a4b2f02b]\n",
       "class E7--><a href=\"psysml:04c0c290-1f5b-4b73-9b90-1720c7950e1a\" target=\"_top\" title=\"psysml:04c0c290-1f5b-4b73-9b90-1720c7950e1a\" xlink:actuate=\"onRequest\" xlink:href=\"psysml:04c0c290-1f5b-4b73-9b90-1720c7950e1a\" xlink:show=\"new\" xlink:title=\"psysml:04c0c290-1f5b-4b73-9b90-1720c7950e1a\" xlink:type=\"simple\"><rect fill=\"#FFFFFF\" height=\"45.9375\" id=\"E7\" rx=\"10\" ry=\"10\" style=\"stroke: #383838; stroke-width: 1.5;\" width=\"71\" x=\"350.5\" y=\"41\"/><text fill=\"#000000\" font-family=\"sans-serif\" font-size=\"12\" font-style=\"italic\" lengthAdjust=\"spacingAndGlyphs\" textLength=\"69\" x=\"351.5\" y=\"57.1387\">«attribute»</text><text fill=\"#000000\" font-family=\"sans-serif\" font-size=\"12\" lengthAdjust=\"spacingAndGlyphs\" textLength=\"4\" x=\"384\" y=\"71.1074\">f</text><line style=\"stroke: #383838; stroke-width: 1.5;\" x1=\"351.5\" x2=\"420.5\" y1=\"78.9375\" y2=\"78.9375\"/></a><!--MD5=[b9389687b975829384b498ac4b7476b2]\n",
       "class E8--><a href=\"psysml:514c602a-a137-45fe-b85f-d9c421e6e02c\" target=\"_top\" title=\"psysml:514c602a-a137-45fe-b85f-d9c421e6e02c\" xlink:actuate=\"onRequest\" xlink:href=\"psysml:514c602a-a137-45fe-b85f-d9c421e6e02c\" xlink:show=\"new\" xlink:title=\"psysml:514c602a-a137-45fe-b85f-d9c421e6e02c\" xlink:type=\"simple\"><rect fill=\"#FFFFFF\" height=\"45.9375\" id=\"E8\" rx=\"10\" ry=\"10\" style=\"stroke: #383838; stroke-width: 1.5;\" width=\"71\" x=\"244.5\" y=\"41\"/><text fill=\"#000000\" font-family=\"sans-serif\" font-size=\"12\" font-style=\"italic\" lengthAdjust=\"spacingAndGlyphs\" textLength=\"69\" x=\"245.5\" y=\"57.1387\">«attribute»</text><text fill=\"#000000\" font-family=\"sans-serif\" font-size=\"12\" lengthAdjust=\"spacingAndGlyphs\" textLength=\"8\" x=\"276\" y=\"71.1074\">g</text><line style=\"stroke: #383838; stroke-width: 1.5;\" x1=\"245.5\" x2=\"314.5\" y1=\"78.9375\" y2=\"78.9375\"/></a><!--MD5=[fd4143e9d270a159db93a4ea2a975926]\n",
       "class E9--><a href=\"psysml:1980a670-9bad-4a6e-b892-05e752677470\" target=\"_top\" title=\"psysml:1980a670-9bad-4a6e-b892-05e752677470\" xlink:actuate=\"onRequest\" xlink:href=\"psysml:1980a670-9bad-4a6e-b892-05e752677470\" xlink:show=\"new\" xlink:title=\"psysml:1980a670-9bad-4a6e-b892-05e752677470\" xlink:type=\"simple\"><rect fill=\"#FFFFFF\" height=\"45.9375\" id=\"E9\" rx=\"10\" ry=\"10\" style=\"stroke: #383838; stroke-width: 1.5;\" width=\"71\" x=\"138.5\" y=\"41\"/><text fill=\"#000000\" font-family=\"sans-serif\" font-size=\"12\" font-style=\"italic\" lengthAdjust=\"spacingAndGlyphs\" textLength=\"69\" x=\"139.5\" y=\"57.1387\">«attribute»</text><text fill=\"#000000\" font-family=\"sans-serif\" font-size=\"12\" lengthAdjust=\"spacingAndGlyphs\" textLength=\"8\" x=\"170\" y=\"71.1074\">b</text><line style=\"stroke: #383838; stroke-width: 1.5;\" x1=\"139.5\" x2=\"208.5\" y1=\"78.9375\" y2=\"78.9375\"/></a><!--MD5=[96f4274e9e20536e775497830990834d]\n",
       "class E10--><a href=\"psysml:c3372668-2566-45ef-b19a-e891239054bd\" target=\"_top\" title=\"psysml:c3372668-2566-45ef-b19a-e891239054bd\" xlink:actuate=\"onRequest\" xlink:href=\"psysml:c3372668-2566-45ef-b19a-e891239054bd\" xlink:show=\"new\" xlink:title=\"psysml:c3372668-2566-45ef-b19a-e891239054bd\" xlink:type=\"simple\"><rect fill=\"#FFFFFF\" height=\"45.9375\" id=\"E10\" rx=\"10\" ry=\"10\" style=\"stroke: #383838; stroke-width: 1.5;\" width=\"71\" x=\"32.5\" y=\"41\"/><text fill=\"#000000\" font-family=\"sans-serif\" font-size=\"12\" font-style=\"italic\" lengthAdjust=\"spacingAndGlyphs\" textLength=\"69\" x=\"33.5\" y=\"57.1387\">«attribute»</text><text fill=\"#000000\" font-family=\"sans-serif\" font-size=\"12\" lengthAdjust=\"spacingAndGlyphs\" textLength=\"7\" x=\"64.5\" y=\"71.1074\">c</text><line style=\"stroke: #383838; stroke-width: 1.5;\" x1=\"33.5\" x2=\"102.5\" y1=\"78.9375\" y2=\"78.9375\"/></a><text fill=\"#000000\" font-family=\"sans-serif\" font-size=\"14\" lengthAdjust=\"spacingAndGlyphs\" textLength=\"9\" x=\"567.5\" y=\"42.6982\">p</text><rect fill=\"#383838\" height=\"12\" style=\"stroke: #F8F8F8; stroke-width: 1.5;\" width=\"12\" x=\"566\" y=\"58\"/><text fill=\"#000000\" font-family=\"sans-serif\" font-size=\"14\" lengthAdjust=\"spacingAndGlyphs\" textLength=\"9\" x=\"614.5\" y=\"42.6982\">q</text><rect fill=\"#383838\" height=\"12\" style=\"stroke: #F8F8F8; stroke-width: 1.5;\" width=\"12\" x=\"613\" y=\"58\"/><!--MD5=[05d275557350bfb9b23a4ef7222b4c39]\n",
       "link E3 to E2--><a href=\"psysml:c16b553f-69e4-4116-bada-9588c5abaa28\" target=\"_top\" title=\"psysml:c16b553f-69e4-4116-bada-9588c5abaa28\" xlink:actuate=\"onRequest\" xlink:href=\"psysml:c16b553f-69e4-4116-bada-9588c5abaa28\" xlink:show=\"new\" xlink:title=\"psysml:c16b553f-69e4-4116-bada-9588c5abaa28\" xlink:type=\"simple\"><path d=\"M488.12,87.06 C486.14,98.3 483.62,112.6 481.1,126.95 \" fill=\"none\" id=\"E3-&gt;E2\" style=\"stroke: #383838; stroke-width: 1.0;\"/><polygon fill=\"#FFFFFF\" points=\"477.58,146.93,473.9835,127.0035,487.7711,129.4331,477.58,146.93\" style=\"stroke: #383838; stroke-width: 1.0;\"/><ellipse cx=\"476.9423\" cy=\"121.7371\" fill=\"#383838\" rx=\"2\" ry=\"2\" style=\"stroke: #383838; stroke-width: 1.0;\"/><ellipse cx=\"486.7906\" cy=\"123.4725\" fill=\"#383838\" rx=\"2\" ry=\"2\" style=\"stroke: #383838; stroke-width: 1.0;\"/></a><!--MD5=[4898d9bbf413eabb5534dbdbf922574b]\n",
       "@startuml\r\n",
       "skinparam linetype polyline\r\n",
       "skinparam monochrome true\r\n",
       "skinparam classbackgroundcolor white\r\n",
       "skinparam shadowing false\r\n",
       "skinparam wrapWidth 300\r\n",
       "hide circle\r\n",
       "\r\n",
       "package \"ParameterTest\" as E1  [[psysml:edb9bc9d-436b-4f02-a049-a38172af8e0d ]]  {\r\n",
       "comp def \"A\" as E2  <<(T,blue)attribute def>> [[psysml:72c120f1-27bf-4069-82f6-2517ea0440e6 ]] {\r\n",
       "- - attributes - -\r\n",
       "x: String\r\n",
       "y: A\r\n",
       "}\r\n",
       "comp usage \"a: A\" as E3  <<(T,blue)attribute>> [[psysml:449a2126-050e-4d76-9596-2419df0cfe8a ]] {\r\n",
       "}\r\n",
       "rec def \"F\" as E4  <<(T,blue)calculation def>> [[psysml:42a33a96-c599-425f-a532-027e99d4f603 ]] {\r\n",
       "portin \"p\" as E5  [[psysml:7844d093-18d6-4bcd-8bc7-6ee8559e13ae ]] \r\n",
       "portin \"q\" as E6  [[psysml:60bdf07c-a2db-456e-a058-70cb9f3de468 ]] \r\n",
       "}\r\n",
       "\r\n",
       "comp usage \"f\" as E7  <<(T,blue)attribute>> [[psysml:04c0c290-1f5b-4b73-9b90-1720c7950e1a ]] {\r\n",
       "}\r\n",
       "comp usage \"g\" as E8  <<(T,blue)attribute>> [[psysml:514c602a-a137-45fe-b85f-d9c421e6e02c ]] {\r\n",
       "}\r\n",
       "comp usage \"b\" as E9  <<(T,blue)attribute>> [[psysml:1980a670-9bad-4a6e-b892-05e752677470 ]] {\r\n",
       "}\r\n",
       "comp usage \"c\" as E10  <<(T,blue)attribute>> [[psysml:c3372668-2566-45ef-b19a-e891239054bd ]] {\r\n",
       "}\r\n",
       "E3 - -:|> E2 [[psysml:c16b553f-69e4-4116-bada-9588c5abaa28 ]] \r\n",
       "}\r\n",
       "@enduml\r\n",
       "\n",
       "PlantUML version 1.2020.13(Sat Jun 13 12:26:38 UTC 2020)\n",
       "(EPL source distribution)\n",
       "Java Runtime: OpenJDK Runtime Environment\n",
       "JVM: OpenJDK 64-Bit Server VM\n",
       "Default Encoding: UTF-8\n",
       "Language: en\n",
       "Country: null\n",
       "--></g></svg>"
      ]
     },
     "execution_count": 15,
     "metadata": {},
     "output_type": "execute_result"
    }
   ],
   "source": [
    "%viz --style=\"POLYLINE\" --view=\"MIXED\" \"ParameterTest\""
   ]
  },
  {
   "cell_type": "code",
   "execution_count": 16,
   "id": "romance-piece",
   "metadata": {
    "execution": {
     "iopub.execute_input": "2021-03-25T13:43:59.617819Z",
     "iopub.status.busy": "2021-03-25T13:43:59.616894Z",
     "iopub.status.idle": "2021-03-25T13:43:59.917623Z",
     "shell.execute_reply": "2021-03-25T13:43:59.917277Z"
    }
   },
   "outputs": [
    {
     "data": {
      "image/svg+xml": [
       "<?xml version=\"1.0\" encoding=\"UTF-8\" standalone=\"no\"?><svg xmlns=\"http://www.w3.org/2000/svg\" xmlns:xlink=\"http://www.w3.org/1999/xlink\" contentScriptType=\"application/ecmascript\" contentStyleType=\"text/css\" height=\"541px\" preserveAspectRatio=\"none\" style=\"width:350px;height:541px;\" version=\"1.1\" viewBox=\"0 0 350 541\" width=\"350px\" zoomAndPan=\"magnify\"><defs/><g><!--MD5=[fbc87193dbaf4d95561dea2c320d4a47]\n",
       "cluster E1--><a href=\"psysml:edb9bc9d-436b-4f02-a049-a38172af8e0d\" target=\"_top\" title=\"psysml:edb9bc9d-436b-4f02-a049-a38172af8e0d\" xlink:actuate=\"onRequest\" xlink:href=\"psysml:edb9bc9d-436b-4f02-a049-a38172af8e0d\" xlink:show=\"new\" xlink:title=\"psysml:edb9bc9d-436b-4f02-a049-a38172af8e0d\" xlink:type=\"simple\"><polygon fill=\"#FFFFFF\" points=\"16,6,139,6,146,28.2969,328,28.2969,328,529,16,529,16,6\" style=\"stroke: #000000; stroke-width: 1.5;\"/><line style=\"stroke: #000000; stroke-width: 1.5;\" x1=\"16\" x2=\"146\" y1=\"28.2969\" y2=\"28.2969\"/><text fill=\"#000000\" font-family=\"sans-serif\" font-size=\"14\" font-weight=\"bold\" lengthAdjust=\"spacingAndGlyphs\" textLength=\"117\" x=\"20\" y=\"20.9951\">ParameterTest</text></a><!--MD5=[f6df4d0ebaf0b5dfb2ced0ae5af7c670]\n",
       "cluster E4--><a href=\"psysml:42a33a96-c599-425f-a532-027e99d4f603\" target=\"_top\" title=\"psysml:42a33a96-c599-425f-a532-027e99d4f603\" xlink:actuate=\"onRequest\" xlink:href=\"psysml:42a33a96-c599-425f-a532-027e99d4f603\" xlink:show=\"new\" xlink:title=\"psysml:42a33a96-c599-425f-a532-027e99d4f603\" xlink:type=\"simple\"><rect fill=\"#FFFFFF\" height=\"47\" id=\"E4\" style=\"stroke: #383838; stroke-width: 1.5;\" width=\"262.5\" x=\"49.5\" y=\"55\"/><rect fill=\"#F8F8F8\" height=\"37.9375\" style=\"stroke: #383838; stroke-width: 1.5;\" width=\"262.5\" x=\"49.5\" y=\"55\"/><text fill=\"#000000\" font-family=\"sans-serif\" font-size=\"12\" font-style=\"italic\" lengthAdjust=\"spacingAndGlyphs\" textLength=\"106\" x=\"127.75\" y=\"71.1387\">«calculation def»</text><text fill=\"#000000\" font-family=\"sans-serif\" font-size=\"12\" lengthAdjust=\"spacingAndGlyphs\" textLength=\"7\" x=\"177.25\" y=\"85.1074\">F</text></a><!--MD5=[b4997ac47864f28c2f74865a473b2911]\n",
       "class E2--><a href=\"psysml:72c120f1-27bf-4069-82f6-2517ea0440e6\" target=\"_top\" title=\"psysml:72c120f1-27bf-4069-82f6-2517ea0440e6\" xlink:actuate=\"onRequest\" xlink:href=\"psysml:72c120f1-27bf-4069-82f6-2517ea0440e6\" xlink:show=\"new\" xlink:title=\"psysml:72c120f1-27bf-4069-82f6-2517ea0440e6\" xlink:type=\"simple\"><rect fill=\"#FFFFFF\" height=\"88.3516\" id=\"E2\" style=\"stroke: #383838; stroke-width: 1.5;\" width=\"95\" x=\"182\" y=\"128\"/><text fill=\"#000000\" font-family=\"sans-serif\" font-size=\"12\" font-style=\"italic\" lengthAdjust=\"spacingAndGlyphs\" textLength=\"93\" x=\"183\" y=\"144.1387\">«attribute def»</text><text fill=\"#000000\" font-family=\"sans-serif\" font-size=\"12\" lengthAdjust=\"spacingAndGlyphs\" textLength=\"8\" x=\"225.5\" y=\"158.1074\">A</text><line style=\"stroke: #383838; stroke-width: 1.5;\" x1=\"183\" x2=\"276\" y1=\"165.9375\" y2=\"165.9375\"/><text fill=\"#000000\" font-family=\"sans-serif\" font-size=\"11\" lengthAdjust=\"spacingAndGlyphs\" textLength=\"48\" x=\"188\" y=\"196.9526\">x: String</text><text fill=\"#000000\" font-family=\"sans-serif\" font-size=\"11\" lengthAdjust=\"spacingAndGlyphs\" textLength=\"21\" x=\"188\" y=\"209.7573\">y: A</text><line style=\"stroke: #383838; stroke-width: 1.0;\" x1=\"183\" x2=\"202\" y1=\"180.3398\" y2=\"180.3398\"/><text fill=\"#000000\" font-family=\"sans-serif\" font-size=\"11\" lengthAdjust=\"spacingAndGlyphs\" textLength=\"55\" x=\"202\" y=\"183.6479\">attributes</text><line style=\"stroke: #383838; stroke-width: 1.0;\" x1=\"257\" x2=\"276\" y1=\"180.3398\" y2=\"180.3398\"/></a><!--MD5=[09b614a08d8cba4a07c9adeb5e0fee81]\n",
       "class E3--><a href=\"psysml:449a2126-050e-4d76-9596-2419df0cfe8a\" target=\"_top\" title=\"psysml:449a2126-050e-4d76-9596-2419df0cfe8a\" xlink:actuate=\"onRequest\" xlink:href=\"psysml:449a2126-050e-4d76-9596-2419df0cfe8a\" xlink:show=\"new\" xlink:title=\"psysml:449a2126-050e-4d76-9596-2419df0cfe8a\" xlink:type=\"simple\"><rect fill=\"#FFFFFF\" height=\"45.9375\" id=\"E3\" rx=\"10\" ry=\"10\" style=\"stroke: #383838; stroke-width: 1.5;\" width=\"71\" x=\"32\" y=\"143\"/><text fill=\"#000000\" font-family=\"sans-serif\" font-size=\"12\" font-style=\"italic\" lengthAdjust=\"spacingAndGlyphs\" textLength=\"69\" x=\"33\" y=\"159.1387\">«attribute»</text><text fill=\"#000000\" font-family=\"sans-serif\" font-size=\"12\" lengthAdjust=\"spacingAndGlyphs\" textLength=\"24\" x=\"55.5\" y=\"173.1074\">a: A</text><line style=\"stroke: #383838; stroke-width: 1.5;\" x1=\"33\" x2=\"102\" y1=\"180.9375\" y2=\"180.9375\"/></a><!--MD5=[2156ba9850f5573cc1fc38a6a4b2f02b]\n",
       "class E7--><a href=\"psysml:04c0c290-1f5b-4b73-9b90-1720c7950e1a\" target=\"_top\" title=\"psysml:04c0c290-1f5b-4b73-9b90-1720c7950e1a\" xlink:actuate=\"onRequest\" xlink:href=\"psysml:04c0c290-1f5b-4b73-9b90-1720c7950e1a\" xlink:show=\"new\" xlink:title=\"psysml:04c0c290-1f5b-4b73-9b90-1720c7950e1a\" xlink:type=\"simple\"><rect fill=\"#FFFFFF\" height=\"45.9375\" id=\"E7\" rx=\"10\" ry=\"10\" style=\"stroke: #383838; stroke-width: 1.5;\" width=\"71\" x=\"32\" y=\"224\"/><text fill=\"#000000\" font-family=\"sans-serif\" font-size=\"12\" font-style=\"italic\" lengthAdjust=\"spacingAndGlyphs\" textLength=\"69\" x=\"33\" y=\"240.1387\">«attribute»</text><text fill=\"#000000\" font-family=\"sans-serif\" font-size=\"12\" lengthAdjust=\"spacingAndGlyphs\" textLength=\"4\" x=\"65.5\" y=\"254.1074\">f</text><line style=\"stroke: #383838; stroke-width: 1.5;\" x1=\"33\" x2=\"102\" y1=\"261.9375\" y2=\"261.9375\"/></a><!--MD5=[b9389687b975829384b498ac4b7476b2]\n",
       "class E8--><a href=\"psysml:514c602a-a137-45fe-b85f-d9c421e6e02c\" target=\"_top\" title=\"psysml:514c602a-a137-45fe-b85f-d9c421e6e02c\" xlink:actuate=\"onRequest\" xlink:href=\"psysml:514c602a-a137-45fe-b85f-d9c421e6e02c\" xlink:show=\"new\" xlink:title=\"psysml:514c602a-a137-45fe-b85f-d9c421e6e02c\" xlink:type=\"simple\"><rect fill=\"#FFFFFF\" height=\"45.9375\" id=\"E8\" rx=\"10\" ry=\"10\" style=\"stroke: #383838; stroke-width: 1.5;\" width=\"71\" x=\"32\" y=\"305\"/><text fill=\"#000000\" font-family=\"sans-serif\" font-size=\"12\" font-style=\"italic\" lengthAdjust=\"spacingAndGlyphs\" textLength=\"69\" x=\"33\" y=\"321.1387\">«attribute»</text><text fill=\"#000000\" font-family=\"sans-serif\" font-size=\"12\" lengthAdjust=\"spacingAndGlyphs\" textLength=\"8\" x=\"63.5\" y=\"335.1074\">g</text><line style=\"stroke: #383838; stroke-width: 1.5;\" x1=\"33\" x2=\"102\" y1=\"342.9375\" y2=\"342.9375\"/></a><!--MD5=[fd4143e9d270a159db93a4ea2a975926]\n",
       "class E9--><a href=\"psysml:1980a670-9bad-4a6e-b892-05e752677470\" target=\"_top\" title=\"psysml:1980a670-9bad-4a6e-b892-05e752677470\" xlink:actuate=\"onRequest\" xlink:href=\"psysml:1980a670-9bad-4a6e-b892-05e752677470\" xlink:show=\"new\" xlink:title=\"psysml:1980a670-9bad-4a6e-b892-05e752677470\" xlink:type=\"simple\"><rect fill=\"#FFFFFF\" height=\"45.9375\" id=\"E9\" rx=\"10\" ry=\"10\" style=\"stroke: #383838; stroke-width: 1.5;\" width=\"71\" x=\"32\" y=\"386\"/><text fill=\"#000000\" font-family=\"sans-serif\" font-size=\"12\" font-style=\"italic\" lengthAdjust=\"spacingAndGlyphs\" textLength=\"69\" x=\"33\" y=\"402.1387\">«attribute»</text><text fill=\"#000000\" font-family=\"sans-serif\" font-size=\"12\" lengthAdjust=\"spacingAndGlyphs\" textLength=\"8\" x=\"63.5\" y=\"416.1074\">b</text><line style=\"stroke: #383838; stroke-width: 1.5;\" x1=\"33\" x2=\"102\" y1=\"423.9375\" y2=\"423.9375\"/></a><!--MD5=[96f4274e9e20536e775497830990834d]\n",
       "class E10--><a href=\"psysml:c3372668-2566-45ef-b19a-e891239054bd\" target=\"_top\" title=\"psysml:c3372668-2566-45ef-b19a-e891239054bd\" xlink:actuate=\"onRequest\" xlink:href=\"psysml:c3372668-2566-45ef-b19a-e891239054bd\" xlink:show=\"new\" xlink:title=\"psysml:c3372668-2566-45ef-b19a-e891239054bd\" xlink:type=\"simple\"><rect fill=\"#FFFFFF\" height=\"45.9375\" id=\"E10\" rx=\"10\" ry=\"10\" style=\"stroke: #383838; stroke-width: 1.5;\" width=\"71\" x=\"32\" y=\"467\"/><text fill=\"#000000\" font-family=\"sans-serif\" font-size=\"12\" font-style=\"italic\" lengthAdjust=\"spacingAndGlyphs\" textLength=\"69\" x=\"33\" y=\"483.1387\">«attribute»</text><text fill=\"#000000\" font-family=\"sans-serif\" font-size=\"12\" lengthAdjust=\"spacingAndGlyphs\" textLength=\"7\" x=\"64\" y=\"497.1074\">c</text><line style=\"stroke: #383838; stroke-width: 1.5;\" x1=\"33\" x2=\"102\" y1=\"504.9375\" y2=\"504.9375\"/></a><text fill=\"#000000\" font-family=\"sans-serif\" font-size=\"14\" lengthAdjust=\"spacingAndGlyphs\" textLength=\"9\" x=\"63\" y=\"120.9951\">p</text><rect fill=\"#383838\" height=\"12\" style=\"stroke: #F8F8F8; stroke-width: 1.5;\" width=\"12\" x=\"61.5\" y=\"96\"/><text fill=\"#000000\" font-family=\"sans-serif\" font-size=\"14\" lengthAdjust=\"spacingAndGlyphs\" textLength=\"9\" x=\"63\" y=\"33.6982\">q</text><rect fill=\"#383838\" height=\"12\" style=\"stroke: #F8F8F8; stroke-width: 1.5;\" width=\"12\" x=\"61.5\" y=\"49\"/><!--MD5=[05d275557350bfb9b23a4ef7222b4c39]\n",
       "link E3 to E2--><a href=\"psysml:c16b553f-69e4-4116-bada-9588c5abaa28\" target=\"_top\" title=\"psysml:c16b553f-69e4-4116-bada-9588c5abaa28\" xlink:actuate=\"onRequest\" xlink:href=\"psysml:c16b553f-69e4-4116-bada-9588c5abaa28\" xlink:show=\"new\" xlink:title=\"psysml:c16b553f-69e4-4116-bada-9588c5abaa28\" xlink:type=\"simple\"><path d=\"M103.22,167.3 C120.27,167.94 141.42,168.73 161.45,169.49 \" fill=\"none\" id=\"E3-&gt;E2\" style=\"stroke: #383838; stroke-width: 1.0;\"/><polygon fill=\"#FFFFFF\" points=\"181.71,170.25,162.4631,176.5394,162.9831,162.5491,181.71,170.25\" style=\"stroke: #383838; stroke-width: 1.0;\"/><ellipse cx=\"156.8413\" cy=\"174.3291\" fill=\"#383838\" rx=\"2\" ry=\"2\" style=\"stroke: #383838; stroke-width: 1.0;\"/><ellipse cx=\"157.2128\" cy=\"164.336\" fill=\"#383838\" rx=\"2\" ry=\"2\" style=\"stroke: #383838; stroke-width: 1.0;\"/></a><!--MD5=[1419eba025ce055d6ed8e9d589f3c6fe]\n",
       "@startuml\r\n",
       "left to right direction\r\n",
       "skinparam monochrome true\r\n",
       "skinparam classbackgroundcolor white\r\n",
       "skinparam shadowing false\r\n",
       "skinparam wrapWidth 300\r\n",
       "hide circle\r\n",
       "\r\n",
       "package \"ParameterTest\" as E1  [[psysml:edb9bc9d-436b-4f02-a049-a38172af8e0d ]]  {\r\n",
       "comp def \"A\" as E2  <<(T,blue)attribute def>> [[psysml:72c120f1-27bf-4069-82f6-2517ea0440e6 ]] {\r\n",
       "- - attributes - -\r\n",
       "x: String\r\n",
       "y: A\r\n",
       "}\r\n",
       "comp usage \"a: A\" as E3  <<(T,blue)attribute>> [[psysml:449a2126-050e-4d76-9596-2419df0cfe8a ]] {\r\n",
       "}\r\n",
       "rec def \"F\" as E4  <<(T,blue)calculation def>> [[psysml:42a33a96-c599-425f-a532-027e99d4f603 ]] {\r\n",
       "portin \"p\" as E5  [[psysml:7844d093-18d6-4bcd-8bc7-6ee8559e13ae ]] \r\n",
       "portin \"q\" as E6  [[psysml:60bdf07c-a2db-456e-a058-70cb9f3de468 ]] \r\n",
       "}\r\n",
       "\r\n",
       "comp usage \"f\" as E7  <<(T,blue)attribute>> [[psysml:04c0c290-1f5b-4b73-9b90-1720c7950e1a ]] {\r\n",
       "}\r\n",
       "comp usage \"g\" as E8  <<(T,blue)attribute>> [[psysml:514c602a-a137-45fe-b85f-d9c421e6e02c ]] {\r\n",
       "}\r\n",
       "comp usage \"b\" as E9  <<(T,blue)attribute>> [[psysml:1980a670-9bad-4a6e-b892-05e752677470 ]] {\r\n",
       "}\r\n",
       "comp usage \"c\" as E10  <<(T,blue)attribute>> [[psysml:c3372668-2566-45ef-b19a-e891239054bd ]] {\r\n",
       "}\r\n",
       "E3 - -:|> E2 [[psysml:c16b553f-69e4-4116-bada-9588c5abaa28 ]] \r\n",
       "}\r\n",
       "@enduml\r\n",
       "\n",
       "PlantUML version 1.2020.13(Sat Jun 13 12:26:38 UTC 2020)\n",
       "(EPL source distribution)\n",
       "Java Runtime: OpenJDK Runtime Environment\n",
       "JVM: OpenJDK 64-Bit Server VM\n",
       "Default Encoding: UTF-8\n",
       "Language: en\n",
       "Country: null\n",
       "--></g></svg>"
      ]
     },
     "execution_count": 16,
     "metadata": {},
     "output_type": "execute_result"
    }
   ],
   "source": [
    "%viz --style=\"LR\" --view=\"Default\" \"ParameterTest\""
   ]
  },
  {
   "cell_type": "code",
   "execution_count": 17,
   "id": "bright-sierra",
   "metadata": {
    "execution": {
     "iopub.execute_input": "2021-03-25T13:43:59.968376Z",
     "iopub.status.busy": "2021-03-25T13:43:59.967944Z",
     "iopub.status.idle": "2021-03-25T13:44:00.235381Z",
     "shell.execute_reply": "2021-03-25T13:44:00.233896Z"
    }
   },
   "outputs": [
    {
     "data": {
      "image/svg+xml": [
       "<?xml version=\"1.0\" encoding=\"UTF-8\" standalone=\"no\"?><svg xmlns=\"http://www.w3.org/2000/svg\" xmlns:xlink=\"http://www.w3.org/1999/xlink\" contentScriptType=\"application/ecmascript\" contentStyleType=\"text/css\" height=\"520px\" preserveAspectRatio=\"none\" style=\"width:343px;height:520px;\" version=\"1.1\" viewBox=\"0 0 343 520\" width=\"343px\" zoomAndPan=\"magnify\"><defs/><g><!--MD5=[fbc87193dbaf4d95561dea2c320d4a47]\n",
       "cluster E1--><a href=\"psysml:edb9bc9d-436b-4f02-a049-a38172af8e0d\" target=\"_top\" title=\"psysml:edb9bc9d-436b-4f02-a049-a38172af8e0d\" xlink:actuate=\"onRequest\" xlink:href=\"psysml:edb9bc9d-436b-4f02-a049-a38172af8e0d\" xlink:show=\"new\" xlink:title=\"psysml:edb9bc9d-436b-4f02-a049-a38172af8e0d\" xlink:type=\"simple\"><polygon fill=\"#FFFFFF\" points=\"16,6,139,6,146,28.2969,321,28.2969,321,508,16,508,16,6\" style=\"stroke: #000000; stroke-width: 1.5;\"/><line style=\"stroke: #000000; stroke-width: 1.5;\" x1=\"16\" x2=\"146\" y1=\"28.2969\" y2=\"28.2969\"/><text fill=\"#000000\" font-family=\"sans-serif\" font-size=\"14\" font-weight=\"bold\" lengthAdjust=\"spacingAndGlyphs\" textLength=\"117\" x=\"20\" y=\"20.9951\">ParameterTest</text></a><!--MD5=[b4997ac47864f28c2f74865a473b2911]\n",
       "class E2--><a href=\"psysml:72c120f1-27bf-4069-82f6-2517ea0440e6\" target=\"_top\" title=\"psysml:72c120f1-27bf-4069-82f6-2517ea0440e6\" xlink:actuate=\"onRequest\" xlink:href=\"psysml:72c120f1-27bf-4069-82f6-2517ea0440e6\" xlink:show=\"new\" xlink:title=\"psysml:72c120f1-27bf-4069-82f6-2517ea0440e6\" xlink:type=\"simple\"><rect fill=\"#FFFFFF\" height=\"88.3516\" id=\"E2\" style=\"stroke: #383838; stroke-width: 1.5;\" width=\"95\" x=\"210\" y=\"76\"/><text fill=\"#000000\" font-family=\"sans-serif\" font-size=\"12\" font-style=\"italic\" lengthAdjust=\"spacingAndGlyphs\" textLength=\"93\" x=\"211\" y=\"92.1387\">«attribute def»</text><text fill=\"#000000\" font-family=\"sans-serif\" font-size=\"12\" lengthAdjust=\"spacingAndGlyphs\" textLength=\"8\" x=\"253.5\" y=\"106.1074\">A</text><line style=\"stroke: #383838; stroke-width: 1.5;\" x1=\"211\" x2=\"304\" y1=\"113.9375\" y2=\"113.9375\"/><text fill=\"#000000\" font-family=\"sans-serif\" font-size=\"11\" lengthAdjust=\"spacingAndGlyphs\" textLength=\"48\" x=\"216\" y=\"144.9526\">x: String</text><text fill=\"#000000\" font-family=\"sans-serif\" font-size=\"11\" lengthAdjust=\"spacingAndGlyphs\" textLength=\"21\" x=\"216\" y=\"157.7573\">y: A</text><line style=\"stroke: #383838; stroke-width: 1.0;\" x1=\"211\" x2=\"230\" y1=\"128.3398\" y2=\"128.3398\"/><text fill=\"#000000\" font-family=\"sans-serif\" font-size=\"11\" lengthAdjust=\"spacingAndGlyphs\" textLength=\"55\" x=\"230\" y=\"131.6479\">attributes</text><line style=\"stroke: #383838; stroke-width: 1.0;\" x1=\"285\" x2=\"304\" y1=\"128.3398\" y2=\"128.3398\"/></a><!--MD5=[09b614a08d8cba4a07c9adeb5e0fee81]\n",
       "class E3--><a href=\"psysml:449a2126-050e-4d76-9596-2419df0cfe8a\" target=\"_top\" title=\"psysml:449a2126-050e-4d76-9596-2419df0cfe8a\" xlink:actuate=\"onRequest\" xlink:href=\"psysml:449a2126-050e-4d76-9596-2419df0cfe8a\" xlink:show=\"new\" xlink:title=\"psysml:449a2126-050e-4d76-9596-2419df0cfe8a\" xlink:type=\"simple\"><rect fill=\"#FFFFFF\" height=\"45.9375\" id=\"E3\" rx=\"10\" ry=\"10\" style=\"stroke: #383838; stroke-width: 1.5;\" width=\"71\" x=\"50.5\" y=\"41\"/><text fill=\"#000000\" font-family=\"sans-serif\" font-size=\"12\" font-style=\"italic\" lengthAdjust=\"spacingAndGlyphs\" textLength=\"69\" x=\"51.5\" y=\"57.1387\">«attribute»</text><text fill=\"#000000\" font-family=\"sans-serif\" font-size=\"12\" lengthAdjust=\"spacingAndGlyphs\" textLength=\"24\" x=\"74\" y=\"71.1074\">a: A</text><line style=\"stroke: #383838; stroke-width: 1.5;\" x1=\"51.5\" x2=\"120.5\" y1=\"78.9375\" y2=\"78.9375\"/></a><!--MD5=[ebbe1d658d1005bcc118a6aa81145e00]\n",
       "class E4--><a href=\"psysml:42a33a96-c599-425f-a532-027e99d4f603\" target=\"_top\" title=\"psysml:42a33a96-c599-425f-a532-027e99d4f603\" xlink:actuate=\"onRequest\" xlink:href=\"psysml:42a33a96-c599-425f-a532-027e99d4f603\" xlink:show=\"new\" xlink:title=\"psysml:42a33a96-c599-425f-a532-027e99d4f603\" xlink:type=\"simple\"><rect fill=\"#FFFFFF\" height=\"45.9375\" id=\"E4\" style=\"stroke: #383838; stroke-width: 1.5;\" width=\"108\" x=\"32\" y=\"122\"/><text fill=\"#000000\" font-family=\"sans-serif\" font-size=\"12\" font-style=\"italic\" lengthAdjust=\"spacingAndGlyphs\" textLength=\"106\" x=\"33\" y=\"138.1387\">«calculation def»</text><text fill=\"#000000\" font-family=\"sans-serif\" font-size=\"12\" lengthAdjust=\"spacingAndGlyphs\" textLength=\"7\" x=\"82.5\" y=\"152.1074\">F</text><line style=\"stroke: #383838; stroke-width: 1.5;\" x1=\"33\" x2=\"139\" y1=\"159.9375\" y2=\"159.9375\"/></a><!--MD5=[270fce915f116d4de14055a7c1d9a0f3]\n",
       "class E5--><a href=\"psysml:04c0c290-1f5b-4b73-9b90-1720c7950e1a\" target=\"_top\" title=\"psysml:04c0c290-1f5b-4b73-9b90-1720c7950e1a\" xlink:actuate=\"onRequest\" xlink:href=\"psysml:04c0c290-1f5b-4b73-9b90-1720c7950e1a\" xlink:show=\"new\" xlink:title=\"psysml:04c0c290-1f5b-4b73-9b90-1720c7950e1a\" xlink:type=\"simple\"><rect fill=\"#FFFFFF\" height=\"45.9375\" id=\"E5\" rx=\"10\" ry=\"10\" style=\"stroke: #383838; stroke-width: 1.5;\" width=\"71\" x=\"50.5\" y=\"203\"/><text fill=\"#000000\" font-family=\"sans-serif\" font-size=\"12\" font-style=\"italic\" lengthAdjust=\"spacingAndGlyphs\" textLength=\"69\" x=\"51.5\" y=\"219.1387\">«attribute»</text><text fill=\"#000000\" font-family=\"sans-serif\" font-size=\"12\" lengthAdjust=\"spacingAndGlyphs\" textLength=\"4\" x=\"84\" y=\"233.1074\">f</text><line style=\"stroke: #383838; stroke-width: 1.5;\" x1=\"51.5\" x2=\"120.5\" y1=\"240.9375\" y2=\"240.9375\"/></a><!--MD5=[60a26617385b1d2d0262a64233df1f8d]\n",
       "class E6--><a href=\"psysml:514c602a-a137-45fe-b85f-d9c421e6e02c\" target=\"_top\" title=\"psysml:514c602a-a137-45fe-b85f-d9c421e6e02c\" xlink:actuate=\"onRequest\" xlink:href=\"psysml:514c602a-a137-45fe-b85f-d9c421e6e02c\" xlink:show=\"new\" xlink:title=\"psysml:514c602a-a137-45fe-b85f-d9c421e6e02c\" xlink:type=\"simple\"><rect fill=\"#FFFFFF\" height=\"45.9375\" id=\"E6\" rx=\"10\" ry=\"10\" style=\"stroke: #383838; stroke-width: 1.5;\" width=\"71\" x=\"50.5\" y=\"284\"/><text fill=\"#000000\" font-family=\"sans-serif\" font-size=\"12\" font-style=\"italic\" lengthAdjust=\"spacingAndGlyphs\" textLength=\"69\" x=\"51.5\" y=\"300.1387\">«attribute»</text><text fill=\"#000000\" font-family=\"sans-serif\" font-size=\"12\" lengthAdjust=\"spacingAndGlyphs\" textLength=\"8\" x=\"82\" y=\"314.1074\">g</text><line style=\"stroke: #383838; stroke-width: 1.5;\" x1=\"51.5\" x2=\"120.5\" y1=\"321.9375\" y2=\"321.9375\"/></a><!--MD5=[2156ba9850f5573cc1fc38a6a4b2f02b]\n",
       "class E7--><a href=\"psysml:1980a670-9bad-4a6e-b892-05e752677470\" target=\"_top\" title=\"psysml:1980a670-9bad-4a6e-b892-05e752677470\" xlink:actuate=\"onRequest\" xlink:href=\"psysml:1980a670-9bad-4a6e-b892-05e752677470\" xlink:show=\"new\" xlink:title=\"psysml:1980a670-9bad-4a6e-b892-05e752677470\" xlink:type=\"simple\"><rect fill=\"#FFFFFF\" height=\"45.9375\" id=\"E7\" rx=\"10\" ry=\"10\" style=\"stroke: #383838; stroke-width: 1.5;\" width=\"71\" x=\"50.5\" y=\"365\"/><text fill=\"#000000\" font-family=\"sans-serif\" font-size=\"12\" font-style=\"italic\" lengthAdjust=\"spacingAndGlyphs\" textLength=\"69\" x=\"51.5\" y=\"381.1387\">«attribute»</text><text fill=\"#000000\" font-family=\"sans-serif\" font-size=\"12\" lengthAdjust=\"spacingAndGlyphs\" textLength=\"8\" x=\"82\" y=\"395.1074\">b</text><line style=\"stroke: #383838; stroke-width: 1.5;\" x1=\"51.5\" x2=\"120.5\" y1=\"402.9375\" y2=\"402.9375\"/></a><!--MD5=[b9389687b975829384b498ac4b7476b2]\n",
       "class E8--><a href=\"psysml:c3372668-2566-45ef-b19a-e891239054bd\" target=\"_top\" title=\"psysml:c3372668-2566-45ef-b19a-e891239054bd\" xlink:actuate=\"onRequest\" xlink:href=\"psysml:c3372668-2566-45ef-b19a-e891239054bd\" xlink:show=\"new\" xlink:title=\"psysml:c3372668-2566-45ef-b19a-e891239054bd\" xlink:type=\"simple\"><rect fill=\"#FFFFFF\" height=\"45.9375\" id=\"E8\" rx=\"10\" ry=\"10\" style=\"stroke: #383838; stroke-width: 1.5;\" width=\"71\" x=\"50.5\" y=\"446\"/><text fill=\"#000000\" font-family=\"sans-serif\" font-size=\"12\" font-style=\"italic\" lengthAdjust=\"spacingAndGlyphs\" textLength=\"69\" x=\"51.5\" y=\"462.1387\">«attribute»</text><text fill=\"#000000\" font-family=\"sans-serif\" font-size=\"12\" lengthAdjust=\"spacingAndGlyphs\" textLength=\"7\" x=\"82.5\" y=\"476.1074\">c</text><line style=\"stroke: #383838; stroke-width: 1.5;\" x1=\"51.5\" x2=\"120.5\" y1=\"483.9375\" y2=\"483.9375\"/></a><!--MD5=[05d275557350bfb9b23a4ef7222b4c39]\n",
       "link E3 to E2--><a href=\"psysml:c16b553f-69e4-4116-bada-9588c5abaa28\" target=\"_top\" title=\"psysml:c16b553f-69e4-4116-bada-9588c5abaa28\" xlink:actuate=\"onRequest\" xlink:href=\"psysml:c16b553f-69e4-4116-bada-9588c5abaa28\" xlink:show=\"new\" xlink:title=\"psysml:c16b553f-69e4-4116-bada-9588c5abaa28\" xlink:type=\"simple\"><path d=\"M121.71,75.47 C141.61,82.04 167.25,90.51 190.81,98.3 \" fill=\"none\" id=\"E3-&gt;E2\" style=\"stroke: #383838; stroke-width: 1.0;\"/><polygon fill=\"#FFFFFF\" points=\"209.94,104.62,189.7032,105.3073,194.0944,92.0138,209.94,104.62\" style=\"stroke: #383838; stroke-width: 1.0;\"/><ellipse cx=\"184.9182\" cy=\"101.6204\" fill=\"#383838\" rx=\"2\" ry=\"2\" style=\"stroke: #383838; stroke-width: 1.0;\"/><ellipse cx=\"188.0547\" cy=\"92.125\" fill=\"#383838\" rx=\"2\" ry=\"2\" style=\"stroke: #383838; stroke-width: 1.0;\"/></a><!--MD5=[ddeed8deb2209213b62e6cfabaa108b2]\n",
       "reverse link E4 to E2--><a href=\"psysml:7844d093-18d6-4bcd-8bc7-6ee8559e13ae\" target=\"_top\" title=\"psysml:7844d093-18d6-4bcd-8bc7-6ee8559e13ae\" xlink:actuate=\"onRequest\" xlink:href=\"psysml:7844d093-18d6-4bcd-8bc7-6ee8559e13ae\" xlink:show=\"new\" xlink:title=\"psysml:7844d093-18d6-4bcd-8bc7-6ee8559e13ae\" xlink:type=\"simple\"><path d=\"M153.04,135.26 C172,132.46 192.29,129.47 209.82,126.88 \" fill=\"none\" id=\"E4&lt;-E2\" style=\"stroke: #383838; stroke-width: 1.0;\"/><polygon fill=\"#FFFFFF\" points=\"140.17,137.16,146.6903,140.2399,152.0411,135.4057,145.5208,132.3258,140.17,137.16\" style=\"stroke: #383838; stroke-width: 1.0;\"/><text fill=\"#000000\" font-family=\"sans-serif\" font-size=\"13\" lengthAdjust=\"spacingAndGlyphs\" textLength=\"8\" x=\"171\" y=\"128.0669\">p</text></a><!--MD5=[9909b865b2a9420dbde614792861ee77]\n",
       "@startuml\r\n",
       "left to right direction\r\n",
       "skinparam monochrome true\r\n",
       "skinparam classbackgroundcolor white\r\n",
       "skinparam shadowing false\r\n",
       "skinparam wrapWidth 300\r\n",
       "hide circle\r\n",
       "\r\n",
       "package \"ParameterTest\" as E1  [[psysml:edb9bc9d-436b-4f02-a049-a38172af8e0d ]]  {\r\n",
       "comp def \"A\" as E2  <<(T,blue)attribute def>> [[psysml:72c120f1-27bf-4069-82f6-2517ea0440e6 ]] {\r\n",
       "- - attributes - -\r\n",
       "x: String\r\n",
       "y: A\r\n",
       "}\r\n",
       "comp usage \"a: A\" as E3  <<(T,blue)attribute>> [[psysml:449a2126-050e-4d76-9596-2419df0cfe8a ]] {\r\n",
       "}\r\n",
       "comp def \"F\" as E4  <<(T,blue)calculation def>> [[psysml:42a33a96-c599-425f-a532-027e99d4f603 ]] {\r\n",
       "}\r\n",
       "comp usage \"f\" as E5  <<(T,blue)attribute>> [[psysml:04c0c290-1f5b-4b73-9b90-1720c7950e1a ]] {\r\n",
       "}\r\n",
       "comp usage \"g\" as E6  <<(T,blue)attribute>> [[psysml:514c602a-a137-45fe-b85f-d9c421e6e02c ]] {\r\n",
       "}\r\n",
       "comp usage \"b\" as E7  <<(T,blue)attribute>> [[psysml:1980a670-9bad-4a6e-b892-05e752677470 ]] {\r\n",
       "}\r\n",
       "comp usage \"c\" as E8  <<(T,blue)attribute>> [[psysml:c3372668-2566-45ef-b19a-e891239054bd ]] {\r\n",
       "}\r\n",
       "E3 - -:|> E2 [[psysml:c16b553f-69e4-4116-bada-9588c5abaa28 ]] \r\n",
       "E4 o- - E2 [[psysml:7844d093-18d6-4bcd-8bc7-6ee8559e13ae ]] : p\r\n",
       "}\r\n",
       "@enduml\r\n",
       "\n",
       "PlantUML version 1.2020.13(Sat Jun 13 12:26:38 UTC 2020)\n",
       "(EPL source distribution)\n",
       "Java Runtime: OpenJDK Runtime Environment\n",
       "JVM: OpenJDK 64-Bit Server VM\n",
       "Default Encoding: UTF-8\n",
       "Language: en\n",
       "Country: null\n",
       "--></g></svg>"
      ]
     },
     "execution_count": 17,
     "metadata": {},
     "output_type": "execute_result"
    }
   ],
   "source": [
    "%viz --style=\"LR\" --view=\"Tree\" \"ParameterTest\""
   ]
  },
  {
   "cell_type": "code",
   "execution_count": 18,
   "id": "tired-spectacular",
   "metadata": {
    "execution": {
     "iopub.execute_input": "2021-03-25T13:44:00.286441Z",
     "iopub.status.busy": "2021-03-25T13:44:00.285951Z",
     "iopub.status.idle": "2021-03-25T13:44:00.293362Z",
     "shell.execute_reply": "2021-03-25T13:44:00.293786Z"
    }
   },
   "outputs": [
    {
     "data": {
      "image/svg+xml": [
       "<?xml version=\"1.0\" encoding=\"UTF-8\" standalone=\"no\"?><svg xmlns=\"http://www.w3.org/2000/svg\" xmlns:xlink=\"http://www.w3.org/1999/xlink\" contentScriptType=\"application/ecmascript\" contentStyleType=\"text/css\" height=\"12px\" preserveAspectRatio=\"none\" style=\"width:12px;height:12px;\" version=\"1.1\" viewBox=\"0 0 12 12\" width=\"12px\" zoomAndPan=\"magnify\"><defs/><g><!--MD5=[19d285c9d72a204eba4e2cd117d745e8]\n",
       "@startuml\r\n",
       "left to right direction\r\n",
       "skinparam monochrome true\r\n",
       "skinparam classbackgroundcolor white\r\n",
       "skinparam shadowing false\r\n",
       "skinparam wrapWidth 300\r\n",
       "hide circle\r\n",
       "\r\n",
       "@enduml\r\n",
       "\n",
       "PlantUML version 1.2020.13(Sat Jun 13 12:26:38 UTC 2020)\n",
       "(EPL source distribution)\n",
       "Java Runtime: OpenJDK Runtime Environment\n",
       "JVM: OpenJDK 64-Bit Server VM\n",
       "Default Encoding: UTF-8\n",
       "Language: en\n",
       "Country: null\n",
       "--></g></svg>"
      ]
     },
     "execution_count": 18,
     "metadata": {},
     "output_type": "execute_result"
    }
   ],
   "source": [
    "%viz --style=\"LR\" --view=\"State\" \"ParameterTest\""
   ]
  },
  {
   "cell_type": "code",
   "execution_count": 19,
   "id": "korean-evaluation",
   "metadata": {
    "execution": {
     "iopub.execute_input": "2021-03-25T13:44:00.346748Z",
     "iopub.status.busy": "2021-03-25T13:44:00.346261Z",
     "iopub.status.idle": "2021-03-25T13:44:00.433141Z",
     "shell.execute_reply": "2021-03-25T13:44:00.431736Z"
    }
   },
   "outputs": [
    {
     "data": {
      "image/svg+xml": [
       "<?xml version=\"1.0\" encoding=\"UTF-8\" standalone=\"no\"?><svg xmlns=\"http://www.w3.org/2000/svg\" xmlns:xlink=\"http://www.w3.org/1999/xlink\" contentScriptType=\"application/ecmascript\" contentStyleType=\"text/css\" height=\"581px\" preserveAspectRatio=\"none\" style=\"width:183px;height:581px;\" version=\"1.1\" viewBox=\"0 0 183 581\" width=\"183px\" zoomAndPan=\"magnify\"><defs/><g><!--MD5=[fbc87193dbaf4d95561dea2c320d4a47]\n",
       "cluster E1--><a href=\"psysml:edb9bc9d-436b-4f02-a049-a38172af8e0d\" target=\"_top\" title=\"psysml:edb9bc9d-436b-4f02-a049-a38172af8e0d\" xlink:actuate=\"onRequest\" xlink:href=\"psysml:edb9bc9d-436b-4f02-a049-a38172af8e0d\" xlink:show=\"new\" xlink:title=\"psysml:edb9bc9d-436b-4f02-a049-a38172af8e0d\" xlink:type=\"simple\"><polygon fill=\"#FFFFFF\" points=\"16,6,139,6,146,28.2969,161,28.2969,161,569,16,569,16,6\" style=\"stroke: #000000; stroke-width: 1.5;\"/><line style=\"stroke: #000000; stroke-width: 1.5;\" x1=\"16\" x2=\"146\" y1=\"28.2969\" y2=\"28.2969\"/><text fill=\"#000000\" font-family=\"sans-serif\" font-size=\"14\" font-weight=\"bold\" lengthAdjust=\"spacingAndGlyphs\" textLength=\"117\" x=\"20\" y=\"20.9951\">ParameterTest</text></a><g id=\"E1.E2\"><a href=\"psysml:72c120f1-27bf-4069-82f6-2517ea0440e6\" target=\"_top\" title=\"psysml:72c120f1-27bf-4069-82f6-2517ea0440e6\" xlink:actuate=\"onRequest\" xlink:href=\"psysml:72c120f1-27bf-4069-82f6-2517ea0440e6\" xlink:show=\"new\" xlink:title=\"psysml:72c120f1-27bf-4069-82f6-2517ea0440e6\" xlink:type=\"simple\"><rect fill=\"#FFFFFF\" height=\"42.9375\" id=\"E2\" style=\"stroke: #383838; stroke-width: 1.5;\" width=\"100\" x=\"38.5\" y=\"41.5\"/><rect fill=\"#F8F8F8\" height=\"37.9375\" style=\"stroke: #383838; stroke-width: 1.5;\" width=\"100\" x=\"38.5\" y=\"41.5\"/><text fill=\"#000000\" font-family=\"sans-serif\" font-size=\"12\" font-style=\"italic\" lengthAdjust=\"spacingAndGlyphs\" textLength=\"93\" x=\"42\" y=\"57.6387\">«attribute def»</text><text fill=\"#000000\" font-family=\"sans-serif\" font-size=\"12\" lengthAdjust=\"spacingAndGlyphs\" textLength=\"8\" x=\"84.5\" y=\"71.6074\">A</text></a></g><g id=\"E1.E4\"><a href=\"psysml:42a33a96-c599-425f-a532-027e99d4f603\" target=\"_top\" title=\"psysml:42a33a96-c599-425f-a532-027e99d4f603\" xlink:actuate=\"onRequest\" xlink:href=\"psysml:42a33a96-c599-425f-a532-027e99d4f603\" xlink:show=\"new\" xlink:title=\"psysml:42a33a96-c599-425f-a532-027e99d4f603\" xlink:type=\"simple\"><rect fill=\"#FFFFFF\" height=\"42.9375\" id=\"E4\" style=\"stroke: #383838; stroke-width: 1.5;\" width=\"113\" x=\"32\" y=\"119.5\"/><rect fill=\"#F8F8F8\" height=\"37.9375\" style=\"stroke: #383838; stroke-width: 1.5;\" width=\"113\" x=\"32\" y=\"119.5\"/><text fill=\"#000000\" font-family=\"sans-serif\" font-size=\"12\" font-style=\"italic\" lengthAdjust=\"spacingAndGlyphs\" textLength=\"106\" x=\"35.5\" y=\"135.6387\">«calculation def»</text><text fill=\"#000000\" font-family=\"sans-serif\" font-size=\"12\" lengthAdjust=\"spacingAndGlyphs\" textLength=\"7\" x=\"85\" y=\"149.6074\">F</text></a></g><g id=\"E1.E3\"><a href=\"psysml:449a2126-050e-4d76-9596-2419df0cfe8a\" target=\"_top\" title=\"psysml:449a2126-050e-4d76-9596-2419df0cfe8a\" xlink:actuate=\"onRequest\" xlink:href=\"psysml:449a2126-050e-4d76-9596-2419df0cfe8a\" xlink:show=\"new\" xlink:title=\"psysml:449a2126-050e-4d76-9596-2419df0cfe8a\" xlink:type=\"simple\"><rect fill=\"#FFFFFF\" height=\"42.9375\" id=\"E3\" rx=\"10\" ry=\"10\" style=\"stroke: #383838; stroke-width: 1.5;\" width=\"76\" x=\"50.5\" y=\"197.5\"/><rect fill=\"#F8F8F8\" height=\"37.9375\" rx=\"10\" ry=\"10\" style=\"stroke: #F8F8F8; stroke-width: 1.5;\" width=\"76\" x=\"50.5\" y=\"197.5\"/><rect fill=\"#F8F8F8\" height=\"10\" style=\"stroke: #F8F8F8; stroke-width: 1.5;\" width=\"76\" x=\"50.5\" y=\"225.4375\"/><rect fill=\"none\" height=\"42.9375\" id=\"E3\" rx=\"10\" ry=\"10\" style=\"stroke: #383838; stroke-width: 1.5;\" width=\"76\" x=\"50.5\" y=\"197.5\"/><text fill=\"#000000\" font-family=\"sans-serif\" font-size=\"12\" font-style=\"italic\" lengthAdjust=\"spacingAndGlyphs\" textLength=\"69\" x=\"54\" y=\"213.6387\">«attribute»</text><text fill=\"#000000\" font-family=\"sans-serif\" font-size=\"12\" lengthAdjust=\"spacingAndGlyphs\" textLength=\"24\" x=\"76.5\" y=\"227.6074\">a: A</text></a></g><g id=\"E1.E5\"><a href=\"psysml:04c0c290-1f5b-4b73-9b90-1720c7950e1a\" target=\"_top\" title=\"psysml:04c0c290-1f5b-4b73-9b90-1720c7950e1a\" xlink:actuate=\"onRequest\" xlink:href=\"psysml:04c0c290-1f5b-4b73-9b90-1720c7950e1a\" xlink:show=\"new\" xlink:title=\"psysml:04c0c290-1f5b-4b73-9b90-1720c7950e1a\" xlink:type=\"simple\"><rect fill=\"#FFFFFF\" height=\"42.9375\" id=\"E5\" rx=\"10\" ry=\"10\" style=\"stroke: #383838; stroke-width: 1.5;\" width=\"76\" x=\"50.5\" y=\"275.5\"/><rect fill=\"#F8F8F8\" height=\"37.9375\" rx=\"10\" ry=\"10\" style=\"stroke: #F8F8F8; stroke-width: 1.5;\" width=\"76\" x=\"50.5\" y=\"275.5\"/><rect fill=\"#F8F8F8\" height=\"10\" style=\"stroke: #F8F8F8; stroke-width: 1.5;\" width=\"76\" x=\"50.5\" y=\"303.4375\"/><rect fill=\"none\" height=\"42.9375\" id=\"E5\" rx=\"10\" ry=\"10\" style=\"stroke: #383838; stroke-width: 1.5;\" width=\"76\" x=\"50.5\" y=\"275.5\"/><text fill=\"#000000\" font-family=\"sans-serif\" font-size=\"12\" font-style=\"italic\" lengthAdjust=\"spacingAndGlyphs\" textLength=\"69\" x=\"54\" y=\"291.6387\">«attribute»</text><text fill=\"#000000\" font-family=\"sans-serif\" font-size=\"12\" lengthAdjust=\"spacingAndGlyphs\" textLength=\"4\" x=\"86.5\" y=\"305.6074\">f</text></a></g><g id=\"E1.E6\"><a href=\"psysml:514c602a-a137-45fe-b85f-d9c421e6e02c\" target=\"_top\" title=\"psysml:514c602a-a137-45fe-b85f-d9c421e6e02c\" xlink:actuate=\"onRequest\" xlink:href=\"psysml:514c602a-a137-45fe-b85f-d9c421e6e02c\" xlink:show=\"new\" xlink:title=\"psysml:514c602a-a137-45fe-b85f-d9c421e6e02c\" xlink:type=\"simple\"><rect fill=\"#FFFFFF\" height=\"42.9375\" id=\"E6\" rx=\"10\" ry=\"10\" style=\"stroke: #383838; stroke-width: 1.5;\" width=\"76\" x=\"50.5\" y=\"353.5\"/><rect fill=\"#F8F8F8\" height=\"37.9375\" rx=\"10\" ry=\"10\" style=\"stroke: #F8F8F8; stroke-width: 1.5;\" width=\"76\" x=\"50.5\" y=\"353.5\"/><rect fill=\"#F8F8F8\" height=\"10\" style=\"stroke: #F8F8F8; stroke-width: 1.5;\" width=\"76\" x=\"50.5\" y=\"381.4375\"/><rect fill=\"none\" height=\"42.9375\" id=\"E6\" rx=\"10\" ry=\"10\" style=\"stroke: #383838; stroke-width: 1.5;\" width=\"76\" x=\"50.5\" y=\"353.5\"/><text fill=\"#000000\" font-family=\"sans-serif\" font-size=\"12\" font-style=\"italic\" lengthAdjust=\"spacingAndGlyphs\" textLength=\"69\" x=\"54\" y=\"369.6387\">«attribute»</text><text fill=\"#000000\" font-family=\"sans-serif\" font-size=\"12\" lengthAdjust=\"spacingAndGlyphs\" textLength=\"8\" x=\"84.5\" y=\"383.6074\">g</text></a></g><g id=\"E1.E7\"><a href=\"psysml:1980a670-9bad-4a6e-b892-05e752677470\" target=\"_top\" title=\"psysml:1980a670-9bad-4a6e-b892-05e752677470\" xlink:actuate=\"onRequest\" xlink:href=\"psysml:1980a670-9bad-4a6e-b892-05e752677470\" xlink:show=\"new\" xlink:title=\"psysml:1980a670-9bad-4a6e-b892-05e752677470\" xlink:type=\"simple\"><rect fill=\"#FFFFFF\" height=\"42.9375\" id=\"E7\" rx=\"10\" ry=\"10\" style=\"stroke: #383838; stroke-width: 1.5;\" width=\"76\" x=\"50.5\" y=\"431.5\"/><rect fill=\"#F8F8F8\" height=\"37.9375\" rx=\"10\" ry=\"10\" style=\"stroke: #F8F8F8; stroke-width: 1.5;\" width=\"76\" x=\"50.5\" y=\"431.5\"/><rect fill=\"#F8F8F8\" height=\"10\" style=\"stroke: #F8F8F8; stroke-width: 1.5;\" width=\"76\" x=\"50.5\" y=\"459.4375\"/><rect fill=\"none\" height=\"42.9375\" id=\"E7\" rx=\"10\" ry=\"10\" style=\"stroke: #383838; stroke-width: 1.5;\" width=\"76\" x=\"50.5\" y=\"431.5\"/><text fill=\"#000000\" font-family=\"sans-serif\" font-size=\"12\" font-style=\"italic\" lengthAdjust=\"spacingAndGlyphs\" textLength=\"69\" x=\"54\" y=\"447.6387\">«attribute»</text><text fill=\"#000000\" font-family=\"sans-serif\" font-size=\"12\" lengthAdjust=\"spacingAndGlyphs\" textLength=\"8\" x=\"84.5\" y=\"461.6074\">b</text></a></g><g id=\"E1.E8\"><a href=\"psysml:c3372668-2566-45ef-b19a-e891239054bd\" target=\"_top\" title=\"psysml:c3372668-2566-45ef-b19a-e891239054bd\" xlink:actuate=\"onRequest\" xlink:href=\"psysml:c3372668-2566-45ef-b19a-e891239054bd\" xlink:show=\"new\" xlink:title=\"psysml:c3372668-2566-45ef-b19a-e891239054bd\" xlink:type=\"simple\"><rect fill=\"#FFFFFF\" height=\"42.9375\" id=\"E8\" rx=\"10\" ry=\"10\" style=\"stroke: #383838; stroke-width: 1.5;\" width=\"76\" x=\"50.5\" y=\"509.5\"/><rect fill=\"#F8F8F8\" height=\"37.9375\" rx=\"10\" ry=\"10\" style=\"stroke: #F8F8F8; stroke-width: 1.5;\" width=\"76\" x=\"50.5\" y=\"509.5\"/><rect fill=\"#F8F8F8\" height=\"10\" style=\"stroke: #F8F8F8; stroke-width: 1.5;\" width=\"76\" x=\"50.5\" y=\"537.4375\"/><rect fill=\"none\" height=\"42.9375\" id=\"E8\" rx=\"10\" ry=\"10\" style=\"stroke: #383838; stroke-width: 1.5;\" width=\"76\" x=\"50.5\" y=\"509.5\"/><text fill=\"#000000\" font-family=\"sans-serif\" font-size=\"12\" font-style=\"italic\" lengthAdjust=\"spacingAndGlyphs\" textLength=\"69\" x=\"54\" y=\"525.6387\">«attribute»</text><text fill=\"#000000\" font-family=\"sans-serif\" font-size=\"12\" lengthAdjust=\"spacingAndGlyphs\" textLength=\"7\" x=\"85\" y=\"539.6074\">c</text></a></g><!--MD5=[7efd77c0f1a3bf476dfdd73ecdc3fd43]\n",
       "@startuml\r\n",
       "skinparam ranksep 8\r\n",
       "skinparam rectangle {\r\n",
       " backgroundColor<<block>> LightGreen\r\n",
       "}\r\n",
       "left to right direction\r\n",
       "skinparam monochrome true\r\n",
       "skinparam classbackgroundcolor white\r\n",
       "skinparam shadowing false\r\n",
       "skinparam wrapWidth 300\r\n",
       "hide circle\r\n",
       "\r\n",
       "package \"ParameterTest\" as E1  [[psysml:edb9bc9d-436b-4f02-a049-a38172af8e0d ]]  {\r\n",
       "def \"A\" as E2  <<(T,blue)attribute def>> [[psysml:72c120f1-27bf-4069-82f6-2517ea0440e6 ]] \r\n",
       "rec usage \"a: A\" as E3  <<(T,blue)attribute>> [[psysml:449a2126-050e-4d76-9596-2419df0cfe8a ]] {\r\n",
       "}\r\n",
       "def \"F\" as E4  <<(T,blue)calculation def>> [[psysml:42a33a96-c599-425f-a532-027e99d4f603 ]] \r\n",
       "rec usage \"f\" as E5  <<(T,blue)attribute>> [[psysml:04c0c290-1f5b-4b73-9b90-1720c7950e1a ]] {\r\n",
       "}\r\n",
       "rec usage \"g\" as E6  <<(T,blue)attribute>> [[psysml:514c602a-a137-45fe-b85f-d9c421e6e02c ]] {\r\n",
       "}\r\n",
       "rec usage \"b\" as E7  <<(T,blue)attribute>> [[psysml:1980a670-9bad-4a6e-b892-05e752677470 ]] {\r\n",
       "}\r\n",
       "rec usage \"c\" as E8  <<(T,blue)attribute>> [[psysml:c3372668-2566-45ef-b19a-e891239054bd ]] {\r\n",
       "}\r\n",
       "}\r\n",
       "@enduml\r\n",
       "\n",
       "PlantUML version 1.2020.13(Sat Jun 13 12:26:38 UTC 2020)\n",
       "(EPL source distribution)\n",
       "Java Runtime: OpenJDK Runtime Environment\n",
       "JVM: OpenJDK 64-Bit Server VM\n",
       "Default Encoding: UTF-8\n",
       "Language: en\n",
       "Country: null\n",
       "--></g></svg>"
      ]
     },
     "execution_count": 19,
     "metadata": {},
     "output_type": "execute_result"
    }
   ],
   "source": [
    "%viz --style=\"LR\" --view=\"Interconnection\" \"ParameterTest\""
   ]
  },
  {
   "cell_type": "code",
   "execution_count": 20,
   "id": "growing-store",
   "metadata": {
    "execution": {
     "iopub.execute_input": "2021-03-25T13:44:00.483799Z",
     "iopub.status.busy": "2021-03-25T13:44:00.483400Z",
     "iopub.status.idle": "2021-03-25T13:44:00.547492Z",
     "shell.execute_reply": "2021-03-25T13:44:00.547144Z"
    }
   },
   "outputs": [
    {
     "data": {
      "image/svg+xml": [
       "<?xml version=\"1.0\" encoding=\"UTF-8\" standalone=\"no\"?><svg xmlns=\"http://www.w3.org/2000/svg\" xmlns:xlink=\"http://www.w3.org/1999/xlink\" contentScriptType=\"application/ecmascript\" contentStyleType=\"text/css\" height=\"121px\" preserveAspectRatio=\"none\" style=\"width:207px;height:121px;\" version=\"1.1\" viewBox=\"0 0 207 121\" width=\"207px\" zoomAndPan=\"magnify\"><defs/><g><!--MD5=[fbc87193dbaf4d95561dea2c320d4a47]\n",
       "cluster E1--><a href=\"psysml:42a33a96-c599-425f-a532-027e99d4f603\" target=\"_top\" title=\"psysml:42a33a96-c599-425f-a532-027e99d4f603\" xlink:actuate=\"onRequest\" xlink:href=\"psysml:42a33a96-c599-425f-a532-027e99d4f603\" xlink:show=\"new\" xlink:title=\"psysml:42a33a96-c599-425f-a532-027e99d4f603\" xlink:type=\"simple\"><rect fill=\"#FFFFFF\" height=\"47\" id=\"E1\" style=\"stroke: #383838; stroke-width: 1.5;\" width=\"189\" x=\"7\" y=\"42.0986\"/><rect fill=\"#F8F8F8\" height=\"37.9375\" style=\"stroke: #383838; stroke-width: 1.5;\" width=\"189\" x=\"7\" y=\"42.0986\"/><text fill=\"#000000\" font-family=\"sans-serif\" font-size=\"12\" font-style=\"italic\" lengthAdjust=\"spacingAndGlyphs\" textLength=\"106\" x=\"48.5\" y=\"58.2373\">«calculation def»</text><text fill=\"#000000\" font-family=\"sans-serif\" font-size=\"12\" lengthAdjust=\"spacingAndGlyphs\" textLength=\"7\" x=\"98\" y=\"72.2061\">F</text></a><text fill=\"#000000\" font-family=\"sans-serif\" font-size=\"14\" lengthAdjust=\"spacingAndGlyphs\" textLength=\"9\" x=\"20.5\" y=\"108.0938\">p</text><rect fill=\"#383838\" height=\"12\" style=\"stroke: #F8F8F8; stroke-width: 1.5;\" width=\"12\" x=\"19\" y=\"83.0986\"/><text fill=\"#000000\" font-family=\"sans-serif\" font-size=\"14\" lengthAdjust=\"spacingAndGlyphs\" textLength=\"9\" x=\"20.5\" y=\"20.7969\">q</text><rect fill=\"#383838\" height=\"12\" style=\"stroke: #F8F8F8; stroke-width: 1.5;\" width=\"12\" x=\"19\" y=\"36.0986\"/><!--MD5=[471c5ed5e6bbd08fd08b391af4c1a07b]\n",
       "@startuml\r\n",
       "skinparam ranksep 8\r\n",
       "left to right direction\r\n",
       "skinparam monochrome true\r\n",
       "skinparam classbackgroundcolor white\r\n",
       "skinparam shadowing false\r\n",
       "skinparam wrapWidth 300\r\n",
       "hide circle\r\n",
       "\r\n",
       "rec def \"F\" as E1  <<(T,blue)calculation def>> [[psysml:42a33a96-c599-425f-a532-027e99d4f603 ]] {\r\n",
       "portin \"p\" as E2  [[psysml:7844d093-18d6-4bcd-8bc7-6ee8559e13ae ]] \r\n",
       "portin \"q\" as E3  [[psysml:60bdf07c-a2db-456e-a058-70cb9f3de468 ]] \r\n",
       "}\r\n",
       "\r\n",
       "@enduml\r\n",
       "\n",
       "PlantUML version 1.2020.13(Sat Jun 13 12:26:38 UTC 2020)\n",
       "(EPL source distribution)\n",
       "Java Runtime: OpenJDK Runtime Environment\n",
       "JVM: OpenJDK 64-Bit Server VM\n",
       "Default Encoding: UTF-8\n",
       "Language: en\n",
       "Country: null\n",
       "--></g></svg>"
      ]
     },
     "execution_count": 20,
     "metadata": {},
     "output_type": "execute_result"
    }
   ],
   "source": [
    "%viz --style=\"LR\" --view=\"Action\" \"ParameterTest\""
   ]
  },
  {
   "cell_type": "code",
   "execution_count": 21,
   "id": "yellow-student",
   "metadata": {
    "execution": {
     "iopub.execute_input": "2021-03-25T13:44:00.601101Z",
     "iopub.status.busy": "2021-03-25T13:44:00.600292Z",
     "iopub.status.idle": "2021-03-25T13:44:00.868787Z",
     "shell.execute_reply": "2021-03-25T13:44:00.867177Z"
    }
   },
   "outputs": [
    {
     "data": {
      "image/svg+xml": [
       "<?xml version=\"1.0\" encoding=\"UTF-8\" standalone=\"no\"?><svg xmlns=\"http://www.w3.org/2000/svg\" xmlns:xlink=\"http://www.w3.org/1999/xlink\" contentScriptType=\"application/ecmascript\" contentStyleType=\"text/css\" height=\"520px\" preserveAspectRatio=\"none\" style=\"width:343px;height:520px;\" version=\"1.1\" viewBox=\"0 0 343 520\" width=\"343px\" zoomAndPan=\"magnify\"><defs/><g><!--MD5=[fbc87193dbaf4d95561dea2c320d4a47]\n",
       "cluster E1--><a href=\"psysml:edb9bc9d-436b-4f02-a049-a38172af8e0d\" target=\"_top\" title=\"psysml:edb9bc9d-436b-4f02-a049-a38172af8e0d\" xlink:actuate=\"onRequest\" xlink:href=\"psysml:edb9bc9d-436b-4f02-a049-a38172af8e0d\" xlink:show=\"new\" xlink:title=\"psysml:edb9bc9d-436b-4f02-a049-a38172af8e0d\" xlink:type=\"simple\"><polygon fill=\"#FFFFFF\" points=\"16,6,139,6,146,28.2969,321,28.2969,321,508,16,508,16,6\" style=\"stroke: #000000; stroke-width: 1.5;\"/><line style=\"stroke: #000000; stroke-width: 1.5;\" x1=\"16\" x2=\"146\" y1=\"28.2969\" y2=\"28.2969\"/><text fill=\"#000000\" font-family=\"sans-serif\" font-size=\"14\" font-weight=\"bold\" lengthAdjust=\"spacingAndGlyphs\" textLength=\"117\" x=\"20\" y=\"20.9951\">ParameterTest</text></a><!--MD5=[b4997ac47864f28c2f74865a473b2911]\n",
       "class E2--><a href=\"psysml:72c120f1-27bf-4069-82f6-2517ea0440e6\" target=\"_top\" title=\"psysml:72c120f1-27bf-4069-82f6-2517ea0440e6\" xlink:actuate=\"onRequest\" xlink:href=\"psysml:72c120f1-27bf-4069-82f6-2517ea0440e6\" xlink:show=\"new\" xlink:title=\"psysml:72c120f1-27bf-4069-82f6-2517ea0440e6\" xlink:type=\"simple\"><rect fill=\"#FFFFFF\" height=\"88.3516\" id=\"E2\" style=\"stroke: #383838; stroke-width: 1.5;\" width=\"95\" x=\"210\" y=\"76\"/><text fill=\"#000000\" font-family=\"sans-serif\" font-size=\"12\" font-style=\"italic\" lengthAdjust=\"spacingAndGlyphs\" textLength=\"93\" x=\"211\" y=\"92.1387\">«attribute def»</text><text fill=\"#000000\" font-family=\"sans-serif\" font-size=\"12\" lengthAdjust=\"spacingAndGlyphs\" textLength=\"8\" x=\"253.5\" y=\"106.1074\">A</text><line style=\"stroke: #383838; stroke-width: 1.5;\" x1=\"211\" x2=\"304\" y1=\"113.9375\" y2=\"113.9375\"/><text fill=\"#000000\" font-family=\"sans-serif\" font-size=\"11\" lengthAdjust=\"spacingAndGlyphs\" textLength=\"48\" x=\"216\" y=\"144.9526\">x: String</text><text fill=\"#000000\" font-family=\"sans-serif\" font-size=\"11\" lengthAdjust=\"spacingAndGlyphs\" textLength=\"21\" x=\"216\" y=\"157.7573\">y: A</text><line style=\"stroke: #383838; stroke-width: 1.0;\" x1=\"211\" x2=\"230\" y1=\"128.3398\" y2=\"128.3398\"/><text fill=\"#000000\" font-family=\"sans-serif\" font-size=\"11\" lengthAdjust=\"spacingAndGlyphs\" textLength=\"55\" x=\"230\" y=\"131.6479\">attributes</text><line style=\"stroke: #383838; stroke-width: 1.0;\" x1=\"285\" x2=\"304\" y1=\"128.3398\" y2=\"128.3398\"/></a><!--MD5=[09b614a08d8cba4a07c9adeb5e0fee81]\n",
       "class E3--><a href=\"psysml:449a2126-050e-4d76-9596-2419df0cfe8a\" target=\"_top\" title=\"psysml:449a2126-050e-4d76-9596-2419df0cfe8a\" xlink:actuate=\"onRequest\" xlink:href=\"psysml:449a2126-050e-4d76-9596-2419df0cfe8a\" xlink:show=\"new\" xlink:title=\"psysml:449a2126-050e-4d76-9596-2419df0cfe8a\" xlink:type=\"simple\"><rect fill=\"#FFFFFF\" height=\"45.9375\" id=\"E3\" rx=\"10\" ry=\"10\" style=\"stroke: #383838; stroke-width: 1.5;\" width=\"71\" x=\"50.5\" y=\"41\"/><text fill=\"#000000\" font-family=\"sans-serif\" font-size=\"12\" font-style=\"italic\" lengthAdjust=\"spacingAndGlyphs\" textLength=\"69\" x=\"51.5\" y=\"57.1387\">«attribute»</text><text fill=\"#000000\" font-family=\"sans-serif\" font-size=\"12\" lengthAdjust=\"spacingAndGlyphs\" textLength=\"24\" x=\"74\" y=\"71.1074\">a: A</text><line style=\"stroke: #383838; stroke-width: 1.5;\" x1=\"51.5\" x2=\"120.5\" y1=\"78.9375\" y2=\"78.9375\"/></a><!--MD5=[ebbe1d658d1005bcc118a6aa81145e00]\n",
       "class E4--><a href=\"psysml:42a33a96-c599-425f-a532-027e99d4f603\" target=\"_top\" title=\"psysml:42a33a96-c599-425f-a532-027e99d4f603\" xlink:actuate=\"onRequest\" xlink:href=\"psysml:42a33a96-c599-425f-a532-027e99d4f603\" xlink:show=\"new\" xlink:title=\"psysml:42a33a96-c599-425f-a532-027e99d4f603\" xlink:type=\"simple\"><rect fill=\"#FFFFFF\" height=\"45.9375\" id=\"E4\" style=\"stroke: #383838; stroke-width: 1.5;\" width=\"108\" x=\"32\" y=\"122\"/><text fill=\"#000000\" font-family=\"sans-serif\" font-size=\"12\" font-style=\"italic\" lengthAdjust=\"spacingAndGlyphs\" textLength=\"106\" x=\"33\" y=\"138.1387\">«calculation def»</text><text fill=\"#000000\" font-family=\"sans-serif\" font-size=\"12\" lengthAdjust=\"spacingAndGlyphs\" textLength=\"7\" x=\"82.5\" y=\"152.1074\">F</text><line style=\"stroke: #383838; stroke-width: 1.5;\" x1=\"33\" x2=\"139\" y1=\"159.9375\" y2=\"159.9375\"/></a><!--MD5=[270fce915f116d4de14055a7c1d9a0f3]\n",
       "class E5--><a href=\"psysml:04c0c290-1f5b-4b73-9b90-1720c7950e1a\" target=\"_top\" title=\"psysml:04c0c290-1f5b-4b73-9b90-1720c7950e1a\" xlink:actuate=\"onRequest\" xlink:href=\"psysml:04c0c290-1f5b-4b73-9b90-1720c7950e1a\" xlink:show=\"new\" xlink:title=\"psysml:04c0c290-1f5b-4b73-9b90-1720c7950e1a\" xlink:type=\"simple\"><rect fill=\"#FFFFFF\" height=\"45.9375\" id=\"E5\" rx=\"10\" ry=\"10\" style=\"stroke: #383838; stroke-width: 1.5;\" width=\"71\" x=\"50.5\" y=\"203\"/><text fill=\"#000000\" font-family=\"sans-serif\" font-size=\"12\" font-style=\"italic\" lengthAdjust=\"spacingAndGlyphs\" textLength=\"69\" x=\"51.5\" y=\"219.1387\">«attribute»</text><text fill=\"#000000\" font-family=\"sans-serif\" font-size=\"12\" lengthAdjust=\"spacingAndGlyphs\" textLength=\"4\" x=\"84\" y=\"233.1074\">f</text><line style=\"stroke: #383838; stroke-width: 1.5;\" x1=\"51.5\" x2=\"120.5\" y1=\"240.9375\" y2=\"240.9375\"/></a><!--MD5=[60a26617385b1d2d0262a64233df1f8d]\n",
       "class E6--><a href=\"psysml:514c602a-a137-45fe-b85f-d9c421e6e02c\" target=\"_top\" title=\"psysml:514c602a-a137-45fe-b85f-d9c421e6e02c\" xlink:actuate=\"onRequest\" xlink:href=\"psysml:514c602a-a137-45fe-b85f-d9c421e6e02c\" xlink:show=\"new\" xlink:title=\"psysml:514c602a-a137-45fe-b85f-d9c421e6e02c\" xlink:type=\"simple\"><rect fill=\"#FFFFFF\" height=\"45.9375\" id=\"E6\" rx=\"10\" ry=\"10\" style=\"stroke: #383838; stroke-width: 1.5;\" width=\"71\" x=\"50.5\" y=\"284\"/><text fill=\"#000000\" font-family=\"sans-serif\" font-size=\"12\" font-style=\"italic\" lengthAdjust=\"spacingAndGlyphs\" textLength=\"69\" x=\"51.5\" y=\"300.1387\">«attribute»</text><text fill=\"#000000\" font-family=\"sans-serif\" font-size=\"12\" lengthAdjust=\"spacingAndGlyphs\" textLength=\"8\" x=\"82\" y=\"314.1074\">g</text><line style=\"stroke: #383838; stroke-width: 1.5;\" x1=\"51.5\" x2=\"120.5\" y1=\"321.9375\" y2=\"321.9375\"/></a><!--MD5=[2156ba9850f5573cc1fc38a6a4b2f02b]\n",
       "class E7--><a href=\"psysml:1980a670-9bad-4a6e-b892-05e752677470\" target=\"_top\" title=\"psysml:1980a670-9bad-4a6e-b892-05e752677470\" xlink:actuate=\"onRequest\" xlink:href=\"psysml:1980a670-9bad-4a6e-b892-05e752677470\" xlink:show=\"new\" xlink:title=\"psysml:1980a670-9bad-4a6e-b892-05e752677470\" xlink:type=\"simple\"><rect fill=\"#FFFFFF\" height=\"45.9375\" id=\"E7\" rx=\"10\" ry=\"10\" style=\"stroke: #383838; stroke-width: 1.5;\" width=\"71\" x=\"50.5\" y=\"365\"/><text fill=\"#000000\" font-family=\"sans-serif\" font-size=\"12\" font-style=\"italic\" lengthAdjust=\"spacingAndGlyphs\" textLength=\"69\" x=\"51.5\" y=\"381.1387\">«attribute»</text><text fill=\"#000000\" font-family=\"sans-serif\" font-size=\"12\" lengthAdjust=\"spacingAndGlyphs\" textLength=\"8\" x=\"82\" y=\"395.1074\">b</text><line style=\"stroke: #383838; stroke-width: 1.5;\" x1=\"51.5\" x2=\"120.5\" y1=\"402.9375\" y2=\"402.9375\"/></a><!--MD5=[b9389687b975829384b498ac4b7476b2]\n",
       "class E8--><a href=\"psysml:c3372668-2566-45ef-b19a-e891239054bd\" target=\"_top\" title=\"psysml:c3372668-2566-45ef-b19a-e891239054bd\" xlink:actuate=\"onRequest\" xlink:href=\"psysml:c3372668-2566-45ef-b19a-e891239054bd\" xlink:show=\"new\" xlink:title=\"psysml:c3372668-2566-45ef-b19a-e891239054bd\" xlink:type=\"simple\"><rect fill=\"#FFFFFF\" height=\"45.9375\" id=\"E8\" rx=\"10\" ry=\"10\" style=\"stroke: #383838; stroke-width: 1.5;\" width=\"71\" x=\"50.5\" y=\"446\"/><text fill=\"#000000\" font-family=\"sans-serif\" font-size=\"12\" font-style=\"italic\" lengthAdjust=\"spacingAndGlyphs\" textLength=\"69\" x=\"51.5\" y=\"462.1387\">«attribute»</text><text fill=\"#000000\" font-family=\"sans-serif\" font-size=\"12\" lengthAdjust=\"spacingAndGlyphs\" textLength=\"7\" x=\"82.5\" y=\"476.1074\">c</text><line style=\"stroke: #383838; stroke-width: 1.5;\" x1=\"51.5\" x2=\"120.5\" y1=\"483.9375\" y2=\"483.9375\"/></a><!--MD5=[05d275557350bfb9b23a4ef7222b4c39]\n",
       "link E3 to E2--><a href=\"psysml:c16b553f-69e4-4116-bada-9588c5abaa28\" target=\"_top\" title=\"psysml:c16b553f-69e4-4116-bada-9588c5abaa28\" xlink:actuate=\"onRequest\" xlink:href=\"psysml:c16b553f-69e4-4116-bada-9588c5abaa28\" xlink:show=\"new\" xlink:title=\"psysml:c16b553f-69e4-4116-bada-9588c5abaa28\" xlink:type=\"simple\"><path d=\"M121.71,75.47 C141.61,82.04 167.25,90.51 190.81,98.3 \" fill=\"none\" id=\"E3-&gt;E2\" style=\"stroke: #383838; stroke-width: 1.0;\"/><polygon fill=\"#FFFFFF\" points=\"209.94,104.62,189.7032,105.3073,194.0944,92.0138,209.94,104.62\" style=\"stroke: #383838; stroke-width: 1.0;\"/><ellipse cx=\"184.9182\" cy=\"101.6204\" fill=\"#383838\" rx=\"2\" ry=\"2\" style=\"stroke: #383838; stroke-width: 1.0;\"/><ellipse cx=\"188.0547\" cy=\"92.125\" fill=\"#383838\" rx=\"2\" ry=\"2\" style=\"stroke: #383838; stroke-width: 1.0;\"/></a><!--MD5=[ddeed8deb2209213b62e6cfabaa108b2]\n",
       "reverse link E4 to E2--><a href=\"psysml:7844d093-18d6-4bcd-8bc7-6ee8559e13ae\" target=\"_top\" title=\"psysml:7844d093-18d6-4bcd-8bc7-6ee8559e13ae\" xlink:actuate=\"onRequest\" xlink:href=\"psysml:7844d093-18d6-4bcd-8bc7-6ee8559e13ae\" xlink:show=\"new\" xlink:title=\"psysml:7844d093-18d6-4bcd-8bc7-6ee8559e13ae\" xlink:type=\"simple\"><path d=\"M153.04,135.26 C172,132.46 192.29,129.47 209.82,126.88 \" fill=\"none\" id=\"E4&lt;-E2\" style=\"stroke: #383838; stroke-width: 1.0;\"/><polygon fill=\"#FFFFFF\" points=\"140.17,137.16,146.6903,140.2399,152.0411,135.4057,145.5208,132.3258,140.17,137.16\" style=\"stroke: #383838; stroke-width: 1.0;\"/><text fill=\"#000000\" font-family=\"sans-serif\" font-size=\"13\" lengthAdjust=\"spacingAndGlyphs\" textLength=\"8\" x=\"171\" y=\"128.0669\">p</text></a><!--MD5=[9909b865b2a9420dbde614792861ee77]\n",
       "@startuml\r\n",
       "left to right direction\r\n",
       "skinparam monochrome true\r\n",
       "skinparam classbackgroundcolor white\r\n",
       "skinparam shadowing false\r\n",
       "skinparam wrapWidth 300\r\n",
       "hide circle\r\n",
       "\r\n",
       "package \"ParameterTest\" as E1  [[psysml:edb9bc9d-436b-4f02-a049-a38172af8e0d ]]  {\r\n",
       "comp def \"A\" as E2  <<(T,blue)attribute def>> [[psysml:72c120f1-27bf-4069-82f6-2517ea0440e6 ]] {\r\n",
       "- - attributes - -\r\n",
       "x: String\r\n",
       "y: A\r\n",
       "}\r\n",
       "comp usage \"a: A\" as E3  <<(T,blue)attribute>> [[psysml:449a2126-050e-4d76-9596-2419df0cfe8a ]] {\r\n",
       "}\r\n",
       "comp def \"F\" as E4  <<(T,blue)calculation def>> [[psysml:42a33a96-c599-425f-a532-027e99d4f603 ]] {\r\n",
       "}\r\n",
       "comp usage \"f\" as E5  <<(T,blue)attribute>> [[psysml:04c0c290-1f5b-4b73-9b90-1720c7950e1a ]] {\r\n",
       "}\r\n",
       "comp usage \"g\" as E6  <<(T,blue)attribute>> [[psysml:514c602a-a137-45fe-b85f-d9c421e6e02c ]] {\r\n",
       "}\r\n",
       "comp usage \"b\" as E7  <<(T,blue)attribute>> [[psysml:1980a670-9bad-4a6e-b892-05e752677470 ]] {\r\n",
       "}\r\n",
       "comp usage \"c\" as E8  <<(T,blue)attribute>> [[psysml:c3372668-2566-45ef-b19a-e891239054bd ]] {\r\n",
       "}\r\n",
       "E3 - -:|> E2 [[psysml:c16b553f-69e4-4116-bada-9588c5abaa28 ]] \r\n",
       "E4 o- - E2 [[psysml:7844d093-18d6-4bcd-8bc7-6ee8559e13ae ]] : p\r\n",
       "}\r\n",
       "@enduml\r\n",
       "\n",
       "PlantUML version 1.2020.13(Sat Jun 13 12:26:38 UTC 2020)\n",
       "(EPL source distribution)\n",
       "Java Runtime: OpenJDK Runtime Environment\n",
       "JVM: OpenJDK 64-Bit Server VM\n",
       "Default Encoding: UTF-8\n",
       "Language: en\n",
       "Country: null\n",
       "--></g></svg>"
      ]
     },
     "execution_count": 21,
     "metadata": {},
     "output_type": "execute_result"
    }
   ],
   "source": [
    "%viz --style=\"LR\" --view=\"Sequence\" \"ParameterTest\""
   ]
  },
  {
   "cell_type": "code",
   "execution_count": 22,
   "id": "higher-atmosphere",
   "metadata": {
    "execution": {
     "iopub.execute_input": "2021-03-25T13:44:00.919581Z",
     "iopub.status.busy": "2021-03-25T13:44:00.919159Z",
     "iopub.status.idle": "2021-03-25T13:44:01.213478Z",
     "shell.execute_reply": "2021-03-25T13:44:01.213158Z"
    }
   },
   "outputs": [
    {
     "data": {
      "image/svg+xml": [
       "<?xml version=\"1.0\" encoding=\"UTF-8\" standalone=\"no\"?><svg xmlns=\"http://www.w3.org/2000/svg\" xmlns:xlink=\"http://www.w3.org/1999/xlink\" contentScriptType=\"application/ecmascript\" contentStyleType=\"text/css\" height=\"541px\" preserveAspectRatio=\"none\" style=\"width:350px;height:541px;\" version=\"1.1\" viewBox=\"0 0 350 541\" width=\"350px\" zoomAndPan=\"magnify\"><defs/><g><!--MD5=[fbc87193dbaf4d95561dea2c320d4a47]\n",
       "cluster E1--><a href=\"psysml:edb9bc9d-436b-4f02-a049-a38172af8e0d\" target=\"_top\" title=\"psysml:edb9bc9d-436b-4f02-a049-a38172af8e0d\" xlink:actuate=\"onRequest\" xlink:href=\"psysml:edb9bc9d-436b-4f02-a049-a38172af8e0d\" xlink:show=\"new\" xlink:title=\"psysml:edb9bc9d-436b-4f02-a049-a38172af8e0d\" xlink:type=\"simple\"><polygon fill=\"#FFFFFF\" points=\"16,6,139,6,146,28.2969,328,28.2969,328,529,16,529,16,6\" style=\"stroke: #000000; stroke-width: 1.5;\"/><line style=\"stroke: #000000; stroke-width: 1.5;\" x1=\"16\" x2=\"146\" y1=\"28.2969\" y2=\"28.2969\"/><text fill=\"#000000\" font-family=\"sans-serif\" font-size=\"14\" font-weight=\"bold\" lengthAdjust=\"spacingAndGlyphs\" textLength=\"117\" x=\"20\" y=\"20.9951\">ParameterTest</text></a><!--MD5=[f6df4d0ebaf0b5dfb2ced0ae5af7c670]\n",
       "cluster E4--><a href=\"psysml:42a33a96-c599-425f-a532-027e99d4f603\" target=\"_top\" title=\"psysml:42a33a96-c599-425f-a532-027e99d4f603\" xlink:actuate=\"onRequest\" xlink:href=\"psysml:42a33a96-c599-425f-a532-027e99d4f603\" xlink:show=\"new\" xlink:title=\"psysml:42a33a96-c599-425f-a532-027e99d4f603\" xlink:type=\"simple\"><rect fill=\"#FFFFFF\" height=\"47\" id=\"E4\" style=\"stroke: #383838; stroke-width: 1.5;\" width=\"262.5\" x=\"49.5\" y=\"55\"/><rect fill=\"#F8F8F8\" height=\"37.9375\" style=\"stroke: #383838; stroke-width: 1.5;\" width=\"262.5\" x=\"49.5\" y=\"55\"/><text fill=\"#000000\" font-family=\"sans-serif\" font-size=\"12\" font-style=\"italic\" lengthAdjust=\"spacingAndGlyphs\" textLength=\"106\" x=\"127.75\" y=\"71.1387\">«calculation def»</text><text fill=\"#000000\" font-family=\"sans-serif\" font-size=\"12\" lengthAdjust=\"spacingAndGlyphs\" textLength=\"7\" x=\"177.25\" y=\"85.1074\">F</text></a><!--MD5=[b4997ac47864f28c2f74865a473b2911]\n",
       "class E2--><a href=\"psysml:72c120f1-27bf-4069-82f6-2517ea0440e6\" target=\"_top\" title=\"psysml:72c120f1-27bf-4069-82f6-2517ea0440e6\" xlink:actuate=\"onRequest\" xlink:href=\"psysml:72c120f1-27bf-4069-82f6-2517ea0440e6\" xlink:show=\"new\" xlink:title=\"psysml:72c120f1-27bf-4069-82f6-2517ea0440e6\" xlink:type=\"simple\"><rect fill=\"#FFFFFF\" height=\"88.3516\" id=\"E2\" style=\"stroke: #383838; stroke-width: 1.5;\" width=\"95\" x=\"182\" y=\"128\"/><text fill=\"#000000\" font-family=\"sans-serif\" font-size=\"12\" font-style=\"italic\" lengthAdjust=\"spacingAndGlyphs\" textLength=\"93\" x=\"183\" y=\"144.1387\">«attribute def»</text><text fill=\"#000000\" font-family=\"sans-serif\" font-size=\"12\" lengthAdjust=\"spacingAndGlyphs\" textLength=\"8\" x=\"225.5\" y=\"158.1074\">A</text><line style=\"stroke: #383838; stroke-width: 1.5;\" x1=\"183\" x2=\"276\" y1=\"165.9375\" y2=\"165.9375\"/><text fill=\"#000000\" font-family=\"sans-serif\" font-size=\"11\" lengthAdjust=\"spacingAndGlyphs\" textLength=\"48\" x=\"188\" y=\"196.9526\">x: String</text><text fill=\"#000000\" font-family=\"sans-serif\" font-size=\"11\" lengthAdjust=\"spacingAndGlyphs\" textLength=\"21\" x=\"188\" y=\"209.7573\">y: A</text><line style=\"stroke: #383838; stroke-width: 1.0;\" x1=\"183\" x2=\"202\" y1=\"180.3398\" y2=\"180.3398\"/><text fill=\"#000000\" font-family=\"sans-serif\" font-size=\"11\" lengthAdjust=\"spacingAndGlyphs\" textLength=\"55\" x=\"202\" y=\"183.6479\">attributes</text><line style=\"stroke: #383838; stroke-width: 1.0;\" x1=\"257\" x2=\"276\" y1=\"180.3398\" y2=\"180.3398\"/></a><!--MD5=[09b614a08d8cba4a07c9adeb5e0fee81]\n",
       "class E3--><a href=\"psysml:449a2126-050e-4d76-9596-2419df0cfe8a\" target=\"_top\" title=\"psysml:449a2126-050e-4d76-9596-2419df0cfe8a\" xlink:actuate=\"onRequest\" xlink:href=\"psysml:449a2126-050e-4d76-9596-2419df0cfe8a\" xlink:show=\"new\" xlink:title=\"psysml:449a2126-050e-4d76-9596-2419df0cfe8a\" xlink:type=\"simple\"><rect fill=\"#FFFFFF\" height=\"45.9375\" id=\"E3\" rx=\"10\" ry=\"10\" style=\"stroke: #383838; stroke-width: 1.5;\" width=\"71\" x=\"32\" y=\"143\"/><text fill=\"#000000\" font-family=\"sans-serif\" font-size=\"12\" font-style=\"italic\" lengthAdjust=\"spacingAndGlyphs\" textLength=\"69\" x=\"33\" y=\"159.1387\">«attribute»</text><text fill=\"#000000\" font-family=\"sans-serif\" font-size=\"12\" lengthAdjust=\"spacingAndGlyphs\" textLength=\"24\" x=\"55.5\" y=\"173.1074\">a: A</text><line style=\"stroke: #383838; stroke-width: 1.5;\" x1=\"33\" x2=\"102\" y1=\"180.9375\" y2=\"180.9375\"/></a><!--MD5=[2156ba9850f5573cc1fc38a6a4b2f02b]\n",
       "class E7--><a href=\"psysml:04c0c290-1f5b-4b73-9b90-1720c7950e1a\" target=\"_top\" title=\"psysml:04c0c290-1f5b-4b73-9b90-1720c7950e1a\" xlink:actuate=\"onRequest\" xlink:href=\"psysml:04c0c290-1f5b-4b73-9b90-1720c7950e1a\" xlink:show=\"new\" xlink:title=\"psysml:04c0c290-1f5b-4b73-9b90-1720c7950e1a\" xlink:type=\"simple\"><rect fill=\"#FFFFFF\" height=\"45.9375\" id=\"E7\" rx=\"10\" ry=\"10\" style=\"stroke: #383838; stroke-width: 1.5;\" width=\"71\" x=\"32\" y=\"224\"/><text fill=\"#000000\" font-family=\"sans-serif\" font-size=\"12\" font-style=\"italic\" lengthAdjust=\"spacingAndGlyphs\" textLength=\"69\" x=\"33\" y=\"240.1387\">«attribute»</text><text fill=\"#000000\" font-family=\"sans-serif\" font-size=\"12\" lengthAdjust=\"spacingAndGlyphs\" textLength=\"4\" x=\"65.5\" y=\"254.1074\">f</text><line style=\"stroke: #383838; stroke-width: 1.5;\" x1=\"33\" x2=\"102\" y1=\"261.9375\" y2=\"261.9375\"/></a><!--MD5=[b9389687b975829384b498ac4b7476b2]\n",
       "class E8--><a href=\"psysml:514c602a-a137-45fe-b85f-d9c421e6e02c\" target=\"_top\" title=\"psysml:514c602a-a137-45fe-b85f-d9c421e6e02c\" xlink:actuate=\"onRequest\" xlink:href=\"psysml:514c602a-a137-45fe-b85f-d9c421e6e02c\" xlink:show=\"new\" xlink:title=\"psysml:514c602a-a137-45fe-b85f-d9c421e6e02c\" xlink:type=\"simple\"><rect fill=\"#FFFFFF\" height=\"45.9375\" id=\"E8\" rx=\"10\" ry=\"10\" style=\"stroke: #383838; stroke-width: 1.5;\" width=\"71\" x=\"32\" y=\"305\"/><text fill=\"#000000\" font-family=\"sans-serif\" font-size=\"12\" font-style=\"italic\" lengthAdjust=\"spacingAndGlyphs\" textLength=\"69\" x=\"33\" y=\"321.1387\">«attribute»</text><text fill=\"#000000\" font-family=\"sans-serif\" font-size=\"12\" lengthAdjust=\"spacingAndGlyphs\" textLength=\"8\" x=\"63.5\" y=\"335.1074\">g</text><line style=\"stroke: #383838; stroke-width: 1.5;\" x1=\"33\" x2=\"102\" y1=\"342.9375\" y2=\"342.9375\"/></a><!--MD5=[fd4143e9d270a159db93a4ea2a975926]\n",
       "class E9--><a href=\"psysml:1980a670-9bad-4a6e-b892-05e752677470\" target=\"_top\" title=\"psysml:1980a670-9bad-4a6e-b892-05e752677470\" xlink:actuate=\"onRequest\" xlink:href=\"psysml:1980a670-9bad-4a6e-b892-05e752677470\" xlink:show=\"new\" xlink:title=\"psysml:1980a670-9bad-4a6e-b892-05e752677470\" xlink:type=\"simple\"><rect fill=\"#FFFFFF\" height=\"45.9375\" id=\"E9\" rx=\"10\" ry=\"10\" style=\"stroke: #383838; stroke-width: 1.5;\" width=\"71\" x=\"32\" y=\"386\"/><text fill=\"#000000\" font-family=\"sans-serif\" font-size=\"12\" font-style=\"italic\" lengthAdjust=\"spacingAndGlyphs\" textLength=\"69\" x=\"33\" y=\"402.1387\">«attribute»</text><text fill=\"#000000\" font-family=\"sans-serif\" font-size=\"12\" lengthAdjust=\"spacingAndGlyphs\" textLength=\"8\" x=\"63.5\" y=\"416.1074\">b</text><line style=\"stroke: #383838; stroke-width: 1.5;\" x1=\"33\" x2=\"102\" y1=\"423.9375\" y2=\"423.9375\"/></a><!--MD5=[96f4274e9e20536e775497830990834d]\n",
       "class E10--><a href=\"psysml:c3372668-2566-45ef-b19a-e891239054bd\" target=\"_top\" title=\"psysml:c3372668-2566-45ef-b19a-e891239054bd\" xlink:actuate=\"onRequest\" xlink:href=\"psysml:c3372668-2566-45ef-b19a-e891239054bd\" xlink:show=\"new\" xlink:title=\"psysml:c3372668-2566-45ef-b19a-e891239054bd\" xlink:type=\"simple\"><rect fill=\"#FFFFFF\" height=\"45.9375\" id=\"E10\" rx=\"10\" ry=\"10\" style=\"stroke: #383838; stroke-width: 1.5;\" width=\"71\" x=\"32\" y=\"467\"/><text fill=\"#000000\" font-family=\"sans-serif\" font-size=\"12\" font-style=\"italic\" lengthAdjust=\"spacingAndGlyphs\" textLength=\"69\" x=\"33\" y=\"483.1387\">«attribute»</text><text fill=\"#000000\" font-family=\"sans-serif\" font-size=\"12\" lengthAdjust=\"spacingAndGlyphs\" textLength=\"7\" x=\"64\" y=\"497.1074\">c</text><line style=\"stroke: #383838; stroke-width: 1.5;\" x1=\"33\" x2=\"102\" y1=\"504.9375\" y2=\"504.9375\"/></a><text fill=\"#000000\" font-family=\"sans-serif\" font-size=\"14\" lengthAdjust=\"spacingAndGlyphs\" textLength=\"9\" x=\"63\" y=\"120.9951\">p</text><rect fill=\"#383838\" height=\"12\" style=\"stroke: #F8F8F8; stroke-width: 1.5;\" width=\"12\" x=\"61.5\" y=\"96\"/><text fill=\"#000000\" font-family=\"sans-serif\" font-size=\"14\" lengthAdjust=\"spacingAndGlyphs\" textLength=\"9\" x=\"63\" y=\"33.6982\">q</text><rect fill=\"#383838\" height=\"12\" style=\"stroke: #F8F8F8; stroke-width: 1.5;\" width=\"12\" x=\"61.5\" y=\"49\"/><!--MD5=[05d275557350bfb9b23a4ef7222b4c39]\n",
       "link E3 to E2--><a href=\"psysml:c16b553f-69e4-4116-bada-9588c5abaa28\" target=\"_top\" title=\"psysml:c16b553f-69e4-4116-bada-9588c5abaa28\" xlink:actuate=\"onRequest\" xlink:href=\"psysml:c16b553f-69e4-4116-bada-9588c5abaa28\" xlink:show=\"new\" xlink:title=\"psysml:c16b553f-69e4-4116-bada-9588c5abaa28\" xlink:type=\"simple\"><path d=\"M103.22,167.3 C120.27,167.94 141.42,168.73 161.45,169.49 \" fill=\"none\" id=\"E3-&gt;E2\" style=\"stroke: #383838; stroke-width: 1.0;\"/><polygon fill=\"#FFFFFF\" points=\"181.71,170.25,162.4631,176.5394,162.9831,162.5491,181.71,170.25\" style=\"stroke: #383838; stroke-width: 1.0;\"/><ellipse cx=\"156.8413\" cy=\"174.3291\" fill=\"#383838\" rx=\"2\" ry=\"2\" style=\"stroke: #383838; stroke-width: 1.0;\"/><ellipse cx=\"157.2128\" cy=\"164.336\" fill=\"#383838\" rx=\"2\" ry=\"2\" style=\"stroke: #383838; stroke-width: 1.0;\"/></a><!--MD5=[1419eba025ce055d6ed8e9d589f3c6fe]\n",
       "@startuml\r\n",
       "left to right direction\r\n",
       "skinparam monochrome true\r\n",
       "skinparam classbackgroundcolor white\r\n",
       "skinparam shadowing false\r\n",
       "skinparam wrapWidth 300\r\n",
       "hide circle\r\n",
       "\r\n",
       "package \"ParameterTest\" as E1  [[psysml:edb9bc9d-436b-4f02-a049-a38172af8e0d ]]  {\r\n",
       "comp def \"A\" as E2  <<(T,blue)attribute def>> [[psysml:72c120f1-27bf-4069-82f6-2517ea0440e6 ]] {\r\n",
       "- - attributes - -\r\n",
       "x: String\r\n",
       "y: A\r\n",
       "}\r\n",
       "comp usage \"a: A\" as E3  <<(T,blue)attribute>> [[psysml:449a2126-050e-4d76-9596-2419df0cfe8a ]] {\r\n",
       "}\r\n",
       "rec def \"F\" as E4  <<(T,blue)calculation def>> [[psysml:42a33a96-c599-425f-a532-027e99d4f603 ]] {\r\n",
       "portin \"p\" as E5  [[psysml:7844d093-18d6-4bcd-8bc7-6ee8559e13ae ]] \r\n",
       "portin \"q\" as E6  [[psysml:60bdf07c-a2db-456e-a058-70cb9f3de468 ]] \r\n",
       "}\r\n",
       "\r\n",
       "comp usage \"f\" as E7  <<(T,blue)attribute>> [[psysml:04c0c290-1f5b-4b73-9b90-1720c7950e1a ]] {\r\n",
       "}\r\n",
       "comp usage \"g\" as E8  <<(T,blue)attribute>> [[psysml:514c602a-a137-45fe-b85f-d9c421e6e02c ]] {\r\n",
       "}\r\n",
       "comp usage \"b\" as E9  <<(T,blue)attribute>> [[psysml:1980a670-9bad-4a6e-b892-05e752677470 ]] {\r\n",
       "}\r\n",
       "comp usage \"c\" as E10  <<(T,blue)attribute>> [[psysml:c3372668-2566-45ef-b19a-e891239054bd ]] {\r\n",
       "}\r\n",
       "E3 - -:|> E2 [[psysml:c16b553f-69e4-4116-bada-9588c5abaa28 ]] \r\n",
       "}\r\n",
       "@enduml\r\n",
       "\n",
       "PlantUML version 1.2020.13(Sat Jun 13 12:26:38 UTC 2020)\n",
       "(EPL source distribution)\n",
       "Java Runtime: OpenJDK Runtime Environment\n",
       "JVM: OpenJDK 64-Bit Server VM\n",
       "Default Encoding: UTF-8\n",
       "Language: en\n",
       "Country: null\n",
       "--></g></svg>"
      ]
     },
     "execution_count": 22,
     "metadata": {},
     "output_type": "execute_result"
    }
   ],
   "source": [
    "%viz --style=\"LR\" --view=\"MIXED\" \"ParameterTest\""
   ]
  },
  {
   "cell_type": "code",
   "execution_count": 23,
   "id": "constant-thumbnail",
   "metadata": {
    "execution": {
     "iopub.execute_input": "2021-03-25T13:44:01.264411Z",
     "iopub.status.busy": "2021-03-25T13:44:01.263784Z",
     "iopub.status.idle": "2021-03-25T13:44:01.447871Z",
     "shell.execute_reply": "2021-03-25T13:44:01.446433Z"
    }
   },
   "outputs": [
    {
     "data": {
      "image/svg+xml": [
       "<?xml version=\"1.0\" encoding=\"UTF-8\" standalone=\"no\"?><svg xmlns=\"http://www.w3.org/2000/svg\" xmlns:xlink=\"http://www.w3.org/1999/xlink\" contentScriptType=\"application/ecmascript\" contentStyleType=\"text/css\" height=\"247px\" preserveAspectRatio=\"none\" style=\"width:740px;height:247px;\" version=\"1.1\" viewBox=\"0 0 740 247\" width=\"740px\" zoomAndPan=\"magnify\"><defs><filter height=\"300%\" id=\"fnqglib5lkg0l\" width=\"300%\" x=\"-1\" y=\"-1\"><feGaussianBlur result=\"blurOut\" stdDeviation=\"2.0\"/><feColorMatrix in=\"blurOut\" result=\"blurOut2\" type=\"matrix\" values=\"0 0 0 0 0 0 0 0 0 0 0 0 0 0 0 0 0 0 .4 0\"/><feOffset dx=\"4.0\" dy=\"4.0\" in=\"blurOut2\" result=\"blurOut3\"/><feBlend in=\"SourceGraphic\" in2=\"blurOut3\" mode=\"normal\"/></filter></defs><g><!--MD5=[fbc87193dbaf4d95561dea2c320d4a47]\n",
       "cluster E1--><a href=\"psysml:edb9bc9d-436b-4f02-a049-a38172af8e0d\" target=\"_top\" title=\"psysml:edb9bc9d-436b-4f02-a049-a38172af8e0d\" xlink:actuate=\"onRequest\" xlink:href=\"psysml:edb9bc9d-436b-4f02-a049-a38172af8e0d\" xlink:show=\"new\" xlink:title=\"psysml:edb9bc9d-436b-4f02-a049-a38172af8e0d\" xlink:type=\"simple\"><polygon fill=\"#FFFFFF\" filter=\"url(#fnqglib5lkg0l)\" points=\"16,6,139,6,146,28.2969,718,28.2969,718,235,16,235,16,6\" style=\"stroke: #000000; stroke-width: 1.5;\"/><line style=\"stroke: #000000; stroke-width: 1.5;\" x1=\"16\" x2=\"146\" y1=\"28.2969\" y2=\"28.2969\"/><text fill=\"#000000\" font-family=\"sans-serif\" font-size=\"14\" font-weight=\"bold\" lengthAdjust=\"spacingAndGlyphs\" textLength=\"117\" x=\"20\" y=\"20.9951\">ParameterTest</text></a><!--MD5=[f6df4d0ebaf0b5dfb2ced0ae5af7c670]\n",
       "cluster E4--><a href=\"psysml:42a33a96-c599-425f-a532-027e99d4f603\" target=\"_top\" title=\"psysml:42a33a96-c599-425f-a532-027e99d4f603\" xlink:actuate=\"onRequest\" xlink:href=\"psysml:42a33a96-c599-425f-a532-027e99d4f603\" xlink:show=\"new\" xlink:title=\"psysml:42a33a96-c599-425f-a532-027e99d4f603\" xlink:type=\"simple\"><rect fill=\"#FFFFFF\" filter=\"url(#fnqglib5lkg0l)\" height=\"152.5\" id=\"E4\" style=\"stroke: #A80036; stroke-width: 1.5;\" width=\"148\" x=\"554\" y=\"64\"/><rect fill=\"#FEFECE\" height=\"37.9375\" style=\"stroke: #A80036; stroke-width: 1.5;\" width=\"148\" x=\"554\" y=\"64\"/><text fill=\"#000000\" font-family=\"sans-serif\" font-size=\"12\" font-style=\"italic\" lengthAdjust=\"spacingAndGlyphs\" textLength=\"106\" x=\"575\" y=\"80.1387\">«calculation def»</text><text fill=\"#000000\" font-family=\"sans-serif\" font-size=\"12\" lengthAdjust=\"spacingAndGlyphs\" textLength=\"7\" x=\"624.5\" y=\"94.1074\">F</text></a><!--MD5=[b4997ac47864f28c2f74865a473b2911]\n",
       "class E2--><a href=\"psysml:72c120f1-27bf-4069-82f6-2517ea0440e6\" target=\"_top\" title=\"psysml:72c120f1-27bf-4069-82f6-2517ea0440e6\" xlink:actuate=\"onRequest\" xlink:href=\"psysml:72c120f1-27bf-4069-82f6-2517ea0440e6\" xlink:show=\"new\" xlink:title=\"psysml:72c120f1-27bf-4069-82f6-2517ea0440e6\" xlink:type=\"simple\"><rect fill=\"#FEFECE\" filter=\"url(#fnqglib5lkg0l)\" height=\"71.5469\" id=\"E2\" style=\"stroke: #A80036; stroke-width: 1.5;\" width=\"95\" x=\"422.5\" y=\"147\"/><text fill=\"#000000\" font-family=\"sans-serif\" font-size=\"12\" font-style=\"italic\" lengthAdjust=\"spacingAndGlyphs\" textLength=\"93\" x=\"423.5\" y=\"163.1387\">«attribute def»</text><text fill=\"#000000\" font-family=\"sans-serif\" font-size=\"12\" lengthAdjust=\"spacingAndGlyphs\" textLength=\"8\" x=\"466\" y=\"177.1074\">A</text><line style=\"stroke: #A80036; stroke-width: 1.5;\" x1=\"423.5\" x2=\"516.5\" y1=\"184.9375\" y2=\"184.9375\"/><text fill=\"#000000\" font-family=\"sans-serif\" font-size=\"11\" lengthAdjust=\"spacingAndGlyphs\" textLength=\"48\" x=\"428.5\" y=\"199.1479\">x: String</text><text fill=\"#000000\" font-family=\"sans-serif\" font-size=\"11\" lengthAdjust=\"spacingAndGlyphs\" textLength=\"21\" x=\"428.5\" y=\"211.9526\">y: A</text></a><!--MD5=[09b614a08d8cba4a07c9adeb5e0fee81]\n",
       "class E3--><a href=\"psysml:449a2126-050e-4d76-9596-2419df0cfe8a\" target=\"_top\" title=\"psysml:449a2126-050e-4d76-9596-2419df0cfe8a\" xlink:actuate=\"onRequest\" xlink:href=\"psysml:449a2126-050e-4d76-9596-2419df0cfe8a\" xlink:show=\"new\" xlink:title=\"psysml:449a2126-050e-4d76-9596-2419df0cfe8a\" xlink:type=\"simple\"><rect fill=\"#FEFECE\" filter=\"url(#fnqglib5lkg0l)\" height=\"45.9375\" id=\"E3\" rx=\"10\" ry=\"10\" style=\"stroke: #A80036; stroke-width: 1.5;\" width=\"71\" x=\"456.5\" y=\"41\"/><text fill=\"#000000\" font-family=\"sans-serif\" font-size=\"12\" font-style=\"italic\" lengthAdjust=\"spacingAndGlyphs\" textLength=\"69\" x=\"457.5\" y=\"57.1387\">«attribute»</text><text fill=\"#000000\" font-family=\"sans-serif\" font-size=\"12\" lengthAdjust=\"spacingAndGlyphs\" textLength=\"24\" x=\"480\" y=\"71.1074\">a: A</text><line style=\"stroke: #A80036; stroke-width: 1.5;\" x1=\"457.5\" x2=\"526.5\" y1=\"78.9375\" y2=\"78.9375\"/></a><!--MD5=[2156ba9850f5573cc1fc38a6a4b2f02b]\n",
       "class E7--><a href=\"psysml:04c0c290-1f5b-4b73-9b90-1720c7950e1a\" target=\"_top\" title=\"psysml:04c0c290-1f5b-4b73-9b90-1720c7950e1a\" xlink:actuate=\"onRequest\" xlink:href=\"psysml:04c0c290-1f5b-4b73-9b90-1720c7950e1a\" xlink:show=\"new\" xlink:title=\"psysml:04c0c290-1f5b-4b73-9b90-1720c7950e1a\" xlink:type=\"simple\"><rect fill=\"#FEFECE\" filter=\"url(#fnqglib5lkg0l)\" height=\"45.9375\" id=\"E7\" rx=\"10\" ry=\"10\" style=\"stroke: #A80036; stroke-width: 1.5;\" width=\"71\" x=\"350.5\" y=\"41\"/><text fill=\"#000000\" font-family=\"sans-serif\" font-size=\"12\" font-style=\"italic\" lengthAdjust=\"spacingAndGlyphs\" textLength=\"69\" x=\"351.5\" y=\"57.1387\">«attribute»</text><text fill=\"#000000\" font-family=\"sans-serif\" font-size=\"12\" lengthAdjust=\"spacingAndGlyphs\" textLength=\"4\" x=\"384\" y=\"71.1074\">f</text><line style=\"stroke: #A80036; stroke-width: 1.5;\" x1=\"351.5\" x2=\"420.5\" y1=\"78.9375\" y2=\"78.9375\"/></a><!--MD5=[b9389687b975829384b498ac4b7476b2]\n",
       "class E8--><a href=\"psysml:514c602a-a137-45fe-b85f-d9c421e6e02c\" target=\"_top\" title=\"psysml:514c602a-a137-45fe-b85f-d9c421e6e02c\" xlink:actuate=\"onRequest\" xlink:href=\"psysml:514c602a-a137-45fe-b85f-d9c421e6e02c\" xlink:show=\"new\" xlink:title=\"psysml:514c602a-a137-45fe-b85f-d9c421e6e02c\" xlink:type=\"simple\"><rect fill=\"#FEFECE\" filter=\"url(#fnqglib5lkg0l)\" height=\"45.9375\" id=\"E8\" rx=\"10\" ry=\"10\" style=\"stroke: #A80036; stroke-width: 1.5;\" width=\"71\" x=\"244.5\" y=\"41\"/><text fill=\"#000000\" font-family=\"sans-serif\" font-size=\"12\" font-style=\"italic\" lengthAdjust=\"spacingAndGlyphs\" textLength=\"69\" x=\"245.5\" y=\"57.1387\">«attribute»</text><text fill=\"#000000\" font-family=\"sans-serif\" font-size=\"12\" lengthAdjust=\"spacingAndGlyphs\" textLength=\"8\" x=\"276\" y=\"71.1074\">g</text><line style=\"stroke: #A80036; stroke-width: 1.5;\" x1=\"245.5\" x2=\"314.5\" y1=\"78.9375\" y2=\"78.9375\"/></a><!--MD5=[fd4143e9d270a159db93a4ea2a975926]\n",
       "class E9--><a href=\"psysml:1980a670-9bad-4a6e-b892-05e752677470\" target=\"_top\" title=\"psysml:1980a670-9bad-4a6e-b892-05e752677470\" xlink:actuate=\"onRequest\" xlink:href=\"psysml:1980a670-9bad-4a6e-b892-05e752677470\" xlink:show=\"new\" xlink:title=\"psysml:1980a670-9bad-4a6e-b892-05e752677470\" xlink:type=\"simple\"><rect fill=\"#FEFECE\" filter=\"url(#fnqglib5lkg0l)\" height=\"45.9375\" id=\"E9\" rx=\"10\" ry=\"10\" style=\"stroke: #A80036; stroke-width: 1.5;\" width=\"71\" x=\"138.5\" y=\"41\"/><text fill=\"#000000\" font-family=\"sans-serif\" font-size=\"12\" font-style=\"italic\" lengthAdjust=\"spacingAndGlyphs\" textLength=\"69\" x=\"139.5\" y=\"57.1387\">«attribute»</text><text fill=\"#000000\" font-family=\"sans-serif\" font-size=\"12\" lengthAdjust=\"spacingAndGlyphs\" textLength=\"8\" x=\"170\" y=\"71.1074\">b</text><line style=\"stroke: #A80036; stroke-width: 1.5;\" x1=\"139.5\" x2=\"208.5\" y1=\"78.9375\" y2=\"78.9375\"/></a><!--MD5=[96f4274e9e20536e775497830990834d]\n",
       "class E10--><a href=\"psysml:c3372668-2566-45ef-b19a-e891239054bd\" target=\"_top\" title=\"psysml:c3372668-2566-45ef-b19a-e891239054bd\" xlink:actuate=\"onRequest\" xlink:href=\"psysml:c3372668-2566-45ef-b19a-e891239054bd\" xlink:show=\"new\" xlink:title=\"psysml:c3372668-2566-45ef-b19a-e891239054bd\" xlink:type=\"simple\"><rect fill=\"#FEFECE\" filter=\"url(#fnqglib5lkg0l)\" height=\"45.9375\" id=\"E10\" rx=\"10\" ry=\"10\" style=\"stroke: #A80036; stroke-width: 1.5;\" width=\"71\" x=\"32.5\" y=\"41\"/><text fill=\"#000000\" font-family=\"sans-serif\" font-size=\"12\" font-style=\"italic\" lengthAdjust=\"spacingAndGlyphs\" textLength=\"69\" x=\"33.5\" y=\"57.1387\">«attribute»</text><text fill=\"#000000\" font-family=\"sans-serif\" font-size=\"12\" lengthAdjust=\"spacingAndGlyphs\" textLength=\"7\" x=\"64.5\" y=\"71.1074\">c</text><line style=\"stroke: #A80036; stroke-width: 1.5;\" x1=\"33.5\" x2=\"102.5\" y1=\"78.9375\" y2=\"78.9375\"/></a><text fill=\"#000000\" font-family=\"sans-serif\" font-size=\"14\" lengthAdjust=\"spacingAndGlyphs\" textLength=\"9\" x=\"567.5\" y=\"42.6982\">p</text><rect fill=\"#A80036\" height=\"12\" style=\"stroke: #FEFECE; stroke-width: 1.5;\" width=\"12\" x=\"566\" y=\"58\"/><text fill=\"#000000\" font-family=\"sans-serif\" font-size=\"14\" lengthAdjust=\"spacingAndGlyphs\" textLength=\"9\" x=\"614.5\" y=\"42.6982\">q</text><rect fill=\"#A80036\" height=\"12\" style=\"stroke: #FEFECE; stroke-width: 1.5;\" width=\"12\" x=\"613\" y=\"58\"/><!--MD5=[05d275557350bfb9b23a4ef7222b4c39]\n",
       "link E3 to E2--><a href=\"psysml:c16b553f-69e4-4116-bada-9588c5abaa28\" target=\"_top\" title=\"psysml:c16b553f-69e4-4116-bada-9588c5abaa28\" xlink:actuate=\"onRequest\" xlink:href=\"psysml:c16b553f-69e4-4116-bada-9588c5abaa28\" xlink:show=\"new\" xlink:title=\"psysml:c16b553f-69e4-4116-bada-9588c5abaa28\" xlink:type=\"simple\"><path d=\"M487.86,87.01 C485.74,98.3 483.05,112.62 480.4,126.7 \" fill=\"none\" id=\"E3-&gt;E2\" style=\"stroke: #A80036; stroke-width: 1.0;\"/><polygon fill=\"#FFFFFF\" points=\"476.63,146.75,473.2514,126.7854,487.0116,129.3654,476.63,146.75\" style=\"stroke: #A80036; stroke-width: 1.0;\"/><ellipse cx=\"476.2676\" cy=\"121.5516\" fill=\"#A80036\" rx=\"2\" ry=\"2\" style=\"stroke: #A80036; stroke-width: 1.0;\"/><ellipse cx=\"486.0963\" cy=\"123.3945\" fill=\"#A80036\" rx=\"2\" ry=\"2\" style=\"stroke: #A80036; stroke-width: 1.0;\"/></a><!--MD5=[f5069da42b022a70bc3b56f909d8ee8d]\n",
       "@startuml\r\n",
       "skinparam wrapWidth 300\r\n",
       "hide circle\r\n",
       "\r\n",
       "package \"ParameterTest\" as E1  [[psysml:edb9bc9d-436b-4f02-a049-a38172af8e0d ]]  {\r\n",
       "comp def \"A\" as E2  <<(T,blue)attribute def>> [[psysml:72c120f1-27bf-4069-82f6-2517ea0440e6 ]] {\r\n",
       "x: String\r\n",
       "y: A\r\n",
       "}\r\n",
       "comp usage \"a: A\" as E3  <<(T,blue)attribute>> [[psysml:449a2126-050e-4d76-9596-2419df0cfe8a ]] {\r\n",
       "}\r\n",
       "rec def \"F\" as E4  <<(T,blue)calculation def>> [[psysml:42a33a96-c599-425f-a532-027e99d4f603 ]] {\r\n",
       "portin \"p\" as E5  [[psysml:7844d093-18d6-4bcd-8bc7-6ee8559e13ae ]] \r\n",
       "portin \"q\" as E6  [[psysml:60bdf07c-a2db-456e-a058-70cb9f3de468 ]] \r\n",
       "}\r\n",
       "\r\n",
       "comp usage \"f\" as E7  <<(T,blue)attribute>> [[psysml:04c0c290-1f5b-4b73-9b90-1720c7950e1a ]] {\r\n",
       "}\r\n",
       "comp usage \"g\" as E8  <<(T,blue)attribute>> [[psysml:514c602a-a137-45fe-b85f-d9c421e6e02c ]] {\r\n",
       "}\r\n",
       "comp usage \"b\" as E9  <<(T,blue)attribute>> [[psysml:1980a670-9bad-4a6e-b892-05e752677470 ]] {\r\n",
       "}\r\n",
       "comp usage \"c\" as E10  <<(T,blue)attribute>> [[psysml:c3372668-2566-45ef-b19a-e891239054bd ]] {\r\n",
       "}\r\n",
       "E3 - -:|> E2 [[psysml:c16b553f-69e4-4116-bada-9588c5abaa28 ]] \r\n",
       "}\r\n",
       "@enduml\r\n",
       "\n",
       "PlantUML version 1.2020.13(Sat Jun 13 12:26:38 UTC 2020)\n",
       "(EPL source distribution)\n",
       "Java Runtime: OpenJDK Runtime Environment\n",
       "JVM: OpenJDK 64-Bit Server VM\n",
       "Default Encoding: UTF-8\n",
       "Language: en\n",
       "Country: null\n",
       "--></g></svg>"
      ]
     },
     "execution_count": 23,
     "metadata": {},
     "output_type": "execute_result"
    }
   ],
   "source": [
    "%viz --style=\"STDCOLOR\" --view=\"Default\" \"ParameterTest\""
   ]
  },
  {
   "cell_type": "code",
   "execution_count": 24,
   "id": "interior-multiple",
   "metadata": {
    "execution": {
     "iopub.execute_input": "2021-03-25T13:44:01.499032Z",
     "iopub.status.busy": "2021-03-25T13:44:01.498228Z",
     "iopub.status.idle": "2021-03-25T13:44:01.653668Z",
     "shell.execute_reply": "2021-03-25T13:44:01.652358Z"
    }
   },
   "outputs": [
    {
     "data": {
      "image/svg+xml": [
       "<?xml version=\"1.0\" encoding=\"UTF-8\" standalone=\"no\"?><svg xmlns=\"http://www.w3.org/2000/svg\" xmlns:xlink=\"http://www.w3.org/1999/xlink\" contentScriptType=\"application/ecmascript\" contentStyleType=\"text/css\" height=\"264px\" preserveAspectRatio=\"none\" style=\"width:710px;height:264px;\" version=\"1.1\" viewBox=\"0 0 710 264\" width=\"710px\" zoomAndPan=\"magnify\"><defs><filter height=\"300%\" id=\"fop5bm62c8k5o\" width=\"300%\" x=\"-1\" y=\"-1\"><feGaussianBlur result=\"blurOut\" stdDeviation=\"2.0\"/><feColorMatrix in=\"blurOut\" result=\"blurOut2\" type=\"matrix\" values=\"0 0 0 0 0 0 0 0 0 0 0 0 0 0 0 0 0 0 .4 0\"/><feOffset dx=\"4.0\" dy=\"4.0\" in=\"blurOut2\" result=\"blurOut3\"/><feBlend in=\"SourceGraphic\" in2=\"blurOut3\" mode=\"normal\"/></filter></defs><g><!--MD5=[fbc87193dbaf4d95561dea2c320d4a47]\n",
       "cluster E1--><a href=\"psysml:edb9bc9d-436b-4f02-a049-a38172af8e0d\" target=\"_top\" title=\"psysml:edb9bc9d-436b-4f02-a049-a38172af8e0d\" xlink:actuate=\"onRequest\" xlink:href=\"psysml:edb9bc9d-436b-4f02-a049-a38172af8e0d\" xlink:show=\"new\" xlink:title=\"psysml:edb9bc9d-436b-4f02-a049-a38172af8e0d\" xlink:type=\"simple\"><polygon fill=\"#FFFFFF\" filter=\"url(#fop5bm62c8k5o)\" points=\"16,6,139,6,146,28.2969,688,28.2969,688,252,16,252,16,6\" style=\"stroke: #000000; stroke-width: 1.5;\"/><line style=\"stroke: #000000; stroke-width: 1.5;\" x1=\"16\" x2=\"146\" y1=\"28.2969\" y2=\"28.2969\"/><text fill=\"#000000\" font-family=\"sans-serif\" font-size=\"14\" font-weight=\"bold\" lengthAdjust=\"spacingAndGlyphs\" textLength=\"117\" x=\"20\" y=\"20.9951\">ParameterTest</text></a><!--MD5=[b4997ac47864f28c2f74865a473b2911]\n",
       "class E2--><a href=\"psysml:72c120f1-27bf-4069-82f6-2517ea0440e6\" target=\"_top\" title=\"psysml:72c120f1-27bf-4069-82f6-2517ea0440e6\" xlink:actuate=\"onRequest\" xlink:href=\"psysml:72c120f1-27bf-4069-82f6-2517ea0440e6\" xlink:show=\"new\" xlink:title=\"psysml:72c120f1-27bf-4069-82f6-2517ea0440e6\" xlink:type=\"simple\"><rect fill=\"#FEFECE\" filter=\"url(#fop5bm62c8k5o)\" height=\"71.5469\" id=\"E2\" style=\"stroke: #A80036; stroke-width: 1.5;\" width=\"95\" x=\"498.5\" y=\"164\"/><text fill=\"#000000\" font-family=\"sans-serif\" font-size=\"12\" font-style=\"italic\" lengthAdjust=\"spacingAndGlyphs\" textLength=\"93\" x=\"499.5\" y=\"180.1387\">«attribute def»</text><text fill=\"#000000\" font-family=\"sans-serif\" font-size=\"12\" lengthAdjust=\"spacingAndGlyphs\" textLength=\"8\" x=\"542\" y=\"194.1074\">A</text><line style=\"stroke: #A80036; stroke-width: 1.5;\" x1=\"499.5\" x2=\"592.5\" y1=\"201.9375\" y2=\"201.9375\"/><text fill=\"#000000\" font-family=\"sans-serif\" font-size=\"11\" lengthAdjust=\"spacingAndGlyphs\" textLength=\"48\" x=\"504.5\" y=\"216.1479\">x: String</text><text fill=\"#000000\" font-family=\"sans-serif\" font-size=\"11\" lengthAdjust=\"spacingAndGlyphs\" textLength=\"21\" x=\"504.5\" y=\"228.9526\">y: A</text></a><!--MD5=[09b614a08d8cba4a07c9adeb5e0fee81]\n",
       "class E3--><a href=\"psysml:449a2126-050e-4d76-9596-2419df0cfe8a\" target=\"_top\" title=\"psysml:449a2126-050e-4d76-9596-2419df0cfe8a\" xlink:actuate=\"onRequest\" xlink:href=\"psysml:449a2126-050e-4d76-9596-2419df0cfe8a\" xlink:show=\"new\" xlink:title=\"psysml:449a2126-050e-4d76-9596-2419df0cfe8a\" xlink:type=\"simple\"><rect fill=\"#FEFECE\" filter=\"url(#fop5bm62c8k5o)\" height=\"45.9375\" id=\"E3\" rx=\"10\" ry=\"10\" style=\"stroke: #A80036; stroke-width: 1.5;\" width=\"71\" x=\"600.5\" y=\"41\"/><text fill=\"#000000\" font-family=\"sans-serif\" font-size=\"12\" font-style=\"italic\" lengthAdjust=\"spacingAndGlyphs\" textLength=\"69\" x=\"601.5\" y=\"57.1387\">«attribute»</text><text fill=\"#000000\" font-family=\"sans-serif\" font-size=\"12\" lengthAdjust=\"spacingAndGlyphs\" textLength=\"24\" x=\"624\" y=\"71.1074\">a: A</text><line style=\"stroke: #A80036; stroke-width: 1.5;\" x1=\"601.5\" x2=\"670.5\" y1=\"78.9375\" y2=\"78.9375\"/></a><!--MD5=[ebbe1d658d1005bcc118a6aa81145e00]\n",
       "class E4--><a href=\"psysml:42a33a96-c599-425f-a532-027e99d4f603\" target=\"_top\" title=\"psysml:42a33a96-c599-425f-a532-027e99d4f603\" xlink:actuate=\"onRequest\" xlink:href=\"psysml:42a33a96-c599-425f-a532-027e99d4f603\" xlink:show=\"new\" xlink:title=\"psysml:42a33a96-c599-425f-a532-027e99d4f603\" xlink:type=\"simple\"><rect fill=\"#FEFECE\" filter=\"url(#fop5bm62c8k5o)\" height=\"45.9375\" id=\"E4\" style=\"stroke: #A80036; stroke-width: 1.5;\" width=\"108\" x=\"457\" y=\"41\"/><text fill=\"#000000\" font-family=\"sans-serif\" font-size=\"12\" font-style=\"italic\" lengthAdjust=\"spacingAndGlyphs\" textLength=\"106\" x=\"458\" y=\"57.1387\">«calculation def»</text><text fill=\"#000000\" font-family=\"sans-serif\" font-size=\"12\" lengthAdjust=\"spacingAndGlyphs\" textLength=\"7\" x=\"507.5\" y=\"71.1074\">F</text><line style=\"stroke: #A80036; stroke-width: 1.5;\" x1=\"458\" x2=\"564\" y1=\"78.9375\" y2=\"78.9375\"/></a><!--MD5=[270fce915f116d4de14055a7c1d9a0f3]\n",
       "class E5--><a href=\"psysml:04c0c290-1f5b-4b73-9b90-1720c7950e1a\" target=\"_top\" title=\"psysml:04c0c290-1f5b-4b73-9b90-1720c7950e1a\" xlink:actuate=\"onRequest\" xlink:href=\"psysml:04c0c290-1f5b-4b73-9b90-1720c7950e1a\" xlink:show=\"new\" xlink:title=\"psysml:04c0c290-1f5b-4b73-9b90-1720c7950e1a\" xlink:type=\"simple\"><rect fill=\"#FEFECE\" filter=\"url(#fop5bm62c8k5o)\" height=\"45.9375\" id=\"E5\" rx=\"10\" ry=\"10\" style=\"stroke: #A80036; stroke-width: 1.5;\" width=\"71\" x=\"350.5\" y=\"41\"/><text fill=\"#000000\" font-family=\"sans-serif\" font-size=\"12\" font-style=\"italic\" lengthAdjust=\"spacingAndGlyphs\" textLength=\"69\" x=\"351.5\" y=\"57.1387\">«attribute»</text><text fill=\"#000000\" font-family=\"sans-serif\" font-size=\"12\" lengthAdjust=\"spacingAndGlyphs\" textLength=\"4\" x=\"384\" y=\"71.1074\">f</text><line style=\"stroke: #A80036; stroke-width: 1.5;\" x1=\"351.5\" x2=\"420.5\" y1=\"78.9375\" y2=\"78.9375\"/></a><!--MD5=[60a26617385b1d2d0262a64233df1f8d]\n",
       "class E6--><a href=\"psysml:514c602a-a137-45fe-b85f-d9c421e6e02c\" target=\"_top\" title=\"psysml:514c602a-a137-45fe-b85f-d9c421e6e02c\" xlink:actuate=\"onRequest\" xlink:href=\"psysml:514c602a-a137-45fe-b85f-d9c421e6e02c\" xlink:show=\"new\" xlink:title=\"psysml:514c602a-a137-45fe-b85f-d9c421e6e02c\" xlink:type=\"simple\"><rect fill=\"#FEFECE\" filter=\"url(#fop5bm62c8k5o)\" height=\"45.9375\" id=\"E6\" rx=\"10\" ry=\"10\" style=\"stroke: #A80036; stroke-width: 1.5;\" width=\"71\" x=\"244.5\" y=\"41\"/><text fill=\"#000000\" font-family=\"sans-serif\" font-size=\"12\" font-style=\"italic\" lengthAdjust=\"spacingAndGlyphs\" textLength=\"69\" x=\"245.5\" y=\"57.1387\">«attribute»</text><text fill=\"#000000\" font-family=\"sans-serif\" font-size=\"12\" lengthAdjust=\"spacingAndGlyphs\" textLength=\"8\" x=\"276\" y=\"71.1074\">g</text><line style=\"stroke: #A80036; stroke-width: 1.5;\" x1=\"245.5\" x2=\"314.5\" y1=\"78.9375\" y2=\"78.9375\"/></a><!--MD5=[2156ba9850f5573cc1fc38a6a4b2f02b]\n",
       "class E7--><a href=\"psysml:1980a670-9bad-4a6e-b892-05e752677470\" target=\"_top\" title=\"psysml:1980a670-9bad-4a6e-b892-05e752677470\" xlink:actuate=\"onRequest\" xlink:href=\"psysml:1980a670-9bad-4a6e-b892-05e752677470\" xlink:show=\"new\" xlink:title=\"psysml:1980a670-9bad-4a6e-b892-05e752677470\" xlink:type=\"simple\"><rect fill=\"#FEFECE\" filter=\"url(#fop5bm62c8k5o)\" height=\"45.9375\" id=\"E7\" rx=\"10\" ry=\"10\" style=\"stroke: #A80036; stroke-width: 1.5;\" width=\"71\" x=\"138.5\" y=\"41\"/><text fill=\"#000000\" font-family=\"sans-serif\" font-size=\"12\" font-style=\"italic\" lengthAdjust=\"spacingAndGlyphs\" textLength=\"69\" x=\"139.5\" y=\"57.1387\">«attribute»</text><text fill=\"#000000\" font-family=\"sans-serif\" font-size=\"12\" lengthAdjust=\"spacingAndGlyphs\" textLength=\"8\" x=\"170\" y=\"71.1074\">b</text><line style=\"stroke: #A80036; stroke-width: 1.5;\" x1=\"139.5\" x2=\"208.5\" y1=\"78.9375\" y2=\"78.9375\"/></a><!--MD5=[b9389687b975829384b498ac4b7476b2]\n",
       "class E8--><a href=\"psysml:c3372668-2566-45ef-b19a-e891239054bd\" target=\"_top\" title=\"psysml:c3372668-2566-45ef-b19a-e891239054bd\" xlink:actuate=\"onRequest\" xlink:href=\"psysml:c3372668-2566-45ef-b19a-e891239054bd\" xlink:show=\"new\" xlink:title=\"psysml:c3372668-2566-45ef-b19a-e891239054bd\" xlink:type=\"simple\"><rect fill=\"#FEFECE\" filter=\"url(#fop5bm62c8k5o)\" height=\"45.9375\" id=\"E8\" rx=\"10\" ry=\"10\" style=\"stroke: #A80036; stroke-width: 1.5;\" width=\"71\" x=\"32.5\" y=\"41\"/><text fill=\"#000000\" font-family=\"sans-serif\" font-size=\"12\" font-style=\"italic\" lengthAdjust=\"spacingAndGlyphs\" textLength=\"69\" x=\"33.5\" y=\"57.1387\">«attribute»</text><text fill=\"#000000\" font-family=\"sans-serif\" font-size=\"12\" lengthAdjust=\"spacingAndGlyphs\" textLength=\"7\" x=\"64.5\" y=\"71.1074\">c</text><line style=\"stroke: #A80036; stroke-width: 1.5;\" x1=\"33.5\" x2=\"102.5\" y1=\"78.9375\" y2=\"78.9375\"/></a><!--MD5=[05d275557350bfb9b23a4ef7222b4c39]\n",
       "link E3 to E2--><a href=\"psysml:c16b553f-69e4-4116-bada-9588c5abaa28\" target=\"_top\" title=\"psysml:c16b553f-69e4-4116-bada-9588c5abaa28\" xlink:actuate=\"onRequest\" xlink:href=\"psysml:c16b553f-69e4-4116-bada-9588c5abaa28\" xlink:show=\"new\" xlink:title=\"psysml:c16b553f-69e4-4116-bada-9588c5abaa28\" xlink:type=\"simple\"><path d=\"M621.14,87.13 C610.18,103.45 594.8,126.34 580.81,147.17 \" fill=\"none\" id=\"E3-&gt;E2\" style=\"stroke: #A80036; stroke-width: 1.0;\"/><polygon fill=\"#FFFFFF\" points=\"569.52,163.99,574.309,144.316,585.9284,152.1256,569.52,163.99\" style=\"stroke: #A80036; stroke-width: 1.0;\"/><ellipse cx=\"579.1486\" cy=\"140.7009\" fill=\"#A80036\" rx=\"2\" ry=\"2\" style=\"stroke: #A80036; stroke-width: 1.0;\"/><ellipse cx=\"587.4481\" cy=\"146.2792\" fill=\"#A80036\" rx=\"2\" ry=\"2\" style=\"stroke: #A80036; stroke-width: 1.0;\"/></a><!--MD5=[ddeed8deb2209213b62e6cfabaa108b2]\n",
       "reverse link E4 to E2--><a href=\"psysml:7844d093-18d6-4bcd-8bc7-6ee8559e13ae\" target=\"_top\" title=\"psysml:7844d093-18d6-4bcd-8bc7-6ee8559e13ae\" xlink:actuate=\"onRequest\" xlink:href=\"psysml:7844d093-18d6-4bcd-8bc7-6ee8559e13ae\" xlink:show=\"new\" xlink:title=\"psysml:7844d093-18d6-4bcd-8bc7-6ee8559e13ae\" xlink:type=\"simple\"><path d=\"M520.11,99.89 C525.27,119.63 531.69,144.23 536.85,163.99 \" fill=\"none\" id=\"E4&lt;-E2\" style=\"stroke: #A80036; stroke-width: 1.0;\"/><polygon fill=\"#FFFFFF\" points=\"516.78,87.13,514.4253,93.9458,519.8112,98.7408,522.1659,91.925,516.78,87.13\" style=\"stroke: #A80036; stroke-width: 1.0;\"/><text fill=\"#000000\" font-family=\"sans-serif\" font-size=\"13\" lengthAdjust=\"spacingAndGlyphs\" textLength=\"8\" x=\"529\" y=\"130.0669\">p</text></a><!--MD5=[fec55e611c6ac18ad313112df9d9c57d]\n",
       "@startuml\r\n",
       "skinparam wrapWidth 300\r\n",
       "hide circle\r\n",
       "\r\n",
       "package \"ParameterTest\" as E1  [[psysml:edb9bc9d-436b-4f02-a049-a38172af8e0d ]]  {\r\n",
       "comp def \"A\" as E2  <<(T,blue)attribute def>> [[psysml:72c120f1-27bf-4069-82f6-2517ea0440e6 ]] {\r\n",
       "x: String\r\n",
       "y: A\r\n",
       "}\r\n",
       "comp usage \"a: A\" as E3  <<(T,blue)attribute>> [[psysml:449a2126-050e-4d76-9596-2419df0cfe8a ]] {\r\n",
       "}\r\n",
       "comp def \"F\" as E4  <<(T,blue)calculation def>> [[psysml:42a33a96-c599-425f-a532-027e99d4f603 ]] {\r\n",
       "}\r\n",
       "comp usage \"f\" as E5  <<(T,blue)attribute>> [[psysml:04c0c290-1f5b-4b73-9b90-1720c7950e1a ]] {\r\n",
       "}\r\n",
       "comp usage \"g\" as E6  <<(T,blue)attribute>> [[psysml:514c602a-a137-45fe-b85f-d9c421e6e02c ]] {\r\n",
       "}\r\n",
       "comp usage \"b\" as E7  <<(T,blue)attribute>> [[psysml:1980a670-9bad-4a6e-b892-05e752677470 ]] {\r\n",
       "}\r\n",
       "comp usage \"c\" as E8  <<(T,blue)attribute>> [[psysml:c3372668-2566-45ef-b19a-e891239054bd ]] {\r\n",
       "}\r\n",
       "E3 - -:|> E2 [[psysml:c16b553f-69e4-4116-bada-9588c5abaa28 ]] \r\n",
       "E4 o- - E2 [[psysml:7844d093-18d6-4bcd-8bc7-6ee8559e13ae ]] : p\r\n",
       "}\r\n",
       "@enduml\r\n",
       "\n",
       "PlantUML version 1.2020.13(Sat Jun 13 12:26:38 UTC 2020)\n",
       "(EPL source distribution)\n",
       "Java Runtime: OpenJDK Runtime Environment\n",
       "JVM: OpenJDK 64-Bit Server VM\n",
       "Default Encoding: UTF-8\n",
       "Language: en\n",
       "Country: null\n",
       "--></g></svg>"
      ]
     },
     "execution_count": 24,
     "metadata": {},
     "output_type": "execute_result"
    }
   ],
   "source": [
    "%viz --style=\"STDCOLOR\" --view=\"Tree\" \"ParameterTest\""
   ]
  },
  {
   "cell_type": "code",
   "execution_count": 25,
   "id": "married-cheat",
   "metadata": {
    "execution": {
     "iopub.execute_input": "2021-03-25T13:44:01.704400Z",
     "iopub.status.busy": "2021-03-25T13:44:01.703981Z",
     "iopub.status.idle": "2021-03-25T13:44:01.746236Z",
     "shell.execute_reply": "2021-03-25T13:44:01.746712Z"
    }
   },
   "outputs": [
    {
     "data": {
      "image/svg+xml": [
       "<?xml version=\"1.0\" encoding=\"UTF-8\" standalone=\"no\"?><svg xmlns=\"http://www.w3.org/2000/svg\" xmlns:xlink=\"http://www.w3.org/1999/xlink\" contentScriptType=\"application/ecmascript\" contentStyleType=\"text/css\" height=\"12px\" preserveAspectRatio=\"none\" style=\"width:12px;height:12px;\" version=\"1.1\" viewBox=\"0 0 12 12\" width=\"12px\" zoomAndPan=\"magnify\"><defs/><g><!--MD5=[aeeef50f102b80d730deb6443d14f702]\n",
       "@startuml\r\n",
       "skinparam wrapWidth 300\r\n",
       "hide circle\r\n",
       "\r\n",
       "@enduml\r\n",
       "\n",
       "PlantUML version 1.2020.13(Sat Jun 13 12:26:38 UTC 2020)\n",
       "(EPL source distribution)\n",
       "Java Runtime: OpenJDK Runtime Environment\n",
       "JVM: OpenJDK 64-Bit Server VM\n",
       "Default Encoding: UTF-8\n",
       "Language: en\n",
       "Country: null\n",
       "--></g></svg>"
      ]
     },
     "execution_count": 25,
     "metadata": {},
     "output_type": "execute_result"
    }
   ],
   "source": [
    "%viz --style=\"STDCOLOR\" --view=\"State\" \"ParameterTest\""
   ]
  },
  {
   "cell_type": "code",
   "execution_count": 26,
   "id": "comic-semiconductor",
   "metadata": {
    "execution": {
     "iopub.execute_input": "2021-03-25T13:44:01.762350Z",
     "iopub.status.busy": "2021-03-25T13:44:01.761686Z",
     "iopub.status.idle": "2021-03-25T13:44:01.847133Z",
     "shell.execute_reply": "2021-03-25T13:44:01.847603Z"
    }
   },
   "outputs": [
    {
     "data": {
      "image/svg+xml": [
       "<?xml version=\"1.0\" encoding=\"UTF-8\" standalone=\"no\"?><svg xmlns=\"http://www.w3.org/2000/svg\" xmlns:xlink=\"http://www.w3.org/1999/xlink\" contentScriptType=\"application/ecmascript\" contentStyleType=\"text/css\" height=\"112px\" preserveAspectRatio=\"none\" style=\"width:874px;height:112px;\" version=\"1.1\" viewBox=\"0 0 874 112\" width=\"874px\" zoomAndPan=\"magnify\"><defs><filter height=\"300%\" id=\"fl3yu57y71rjd\" width=\"300%\" x=\"-1\" y=\"-1\"><feGaussianBlur result=\"blurOut\" stdDeviation=\"2.0\"/><feColorMatrix in=\"blurOut\" result=\"blurOut2\" type=\"matrix\" values=\"0 0 0 0 0 0 0 0 0 0 0 0 0 0 0 0 0 0 .4 0\"/><feOffset dx=\"4.0\" dy=\"4.0\" in=\"blurOut2\" result=\"blurOut3\"/><feBlend in=\"SourceGraphic\" in2=\"blurOut3\" mode=\"normal\"/></filter></defs><g><!--MD5=[fbc87193dbaf4d95561dea2c320d4a47]\n",
       "cluster E1--><a href=\"psysml:edb9bc9d-436b-4f02-a049-a38172af8e0d\" target=\"_top\" title=\"psysml:edb9bc9d-436b-4f02-a049-a38172af8e0d\" xlink:actuate=\"onRequest\" xlink:href=\"psysml:edb9bc9d-436b-4f02-a049-a38172af8e0d\" xlink:show=\"new\" xlink:title=\"psysml:edb9bc9d-436b-4f02-a049-a38172af8e0d\" xlink:type=\"simple\"><polygon fill=\"#FFFFFF\" filter=\"url(#fl3yu57y71rjd)\" points=\"16,6,139,6,146,28.2969,852,28.2969,852,100,16,100,16,6\" style=\"stroke: #000000; stroke-width: 1.5;\"/><line style=\"stroke: #000000; stroke-width: 1.5;\" x1=\"16\" x2=\"146\" y1=\"28.2969\" y2=\"28.2969\"/><text fill=\"#000000\" font-family=\"sans-serif\" font-size=\"14\" font-weight=\"bold\" lengthAdjust=\"spacingAndGlyphs\" textLength=\"117\" x=\"20\" y=\"20.9951\">ParameterTest</text></a><g id=\"E1.E2\"><a href=\"psysml:72c120f1-27bf-4069-82f6-2517ea0440e6\" target=\"_top\" title=\"psysml:72c120f1-27bf-4069-82f6-2517ea0440e6\" xlink:actuate=\"onRequest\" xlink:href=\"psysml:72c120f1-27bf-4069-82f6-2517ea0440e6\" xlink:show=\"new\" xlink:title=\"psysml:72c120f1-27bf-4069-82f6-2517ea0440e6\" xlink:type=\"simple\"><rect fill=\"#FEFECE\" filter=\"url(#fl3yu57y71rjd)\" height=\"42.9375\" id=\"E2\" style=\"stroke: #A80036; stroke-width: 1.5;\" width=\"100\" x=\"736\" y=\"41\"/><text fill=\"#000000\" font-family=\"sans-serif\" font-size=\"12\" font-style=\"italic\" lengthAdjust=\"spacingAndGlyphs\" textLength=\"93\" x=\"739.5\" y=\"57.1387\">«attribute def»</text><text fill=\"#000000\" font-family=\"sans-serif\" font-size=\"12\" lengthAdjust=\"spacingAndGlyphs\" textLength=\"8\" x=\"782\" y=\"71.1074\">A</text></a></g><g id=\"E1.E4\"><a href=\"psysml:42a33a96-c599-425f-a532-027e99d4f603\" target=\"_top\" title=\"psysml:42a33a96-c599-425f-a532-027e99d4f603\" xlink:actuate=\"onRequest\" xlink:href=\"psysml:42a33a96-c599-425f-a532-027e99d4f603\" xlink:show=\"new\" xlink:title=\"psysml:42a33a96-c599-425f-a532-027e99d4f603\" xlink:type=\"simple\"><rect fill=\"#FEFECE\" filter=\"url(#fl3yu57y71rjd)\" height=\"42.9375\" id=\"E4\" style=\"stroke: #A80036; stroke-width: 1.5;\" width=\"113\" x=\"587.5\" y=\"41\"/><text fill=\"#000000\" font-family=\"sans-serif\" font-size=\"12\" font-style=\"italic\" lengthAdjust=\"spacingAndGlyphs\" textLength=\"106\" x=\"591\" y=\"57.1387\">«calculation def»</text><text fill=\"#000000\" font-family=\"sans-serif\" font-size=\"12\" lengthAdjust=\"spacingAndGlyphs\" textLength=\"7\" x=\"640.5\" y=\"71.1074\">F</text></a></g><g id=\"E1.E3\"><a href=\"psysml:449a2126-050e-4d76-9596-2419df0cfe8a\" target=\"_top\" title=\"psysml:449a2126-050e-4d76-9596-2419df0cfe8a\" xlink:actuate=\"onRequest\" xlink:href=\"psysml:449a2126-050e-4d76-9596-2419df0cfe8a\" xlink:show=\"new\" xlink:title=\"psysml:449a2126-050e-4d76-9596-2419df0cfe8a\" xlink:type=\"simple\"><rect fill=\"#FEFECE\" filter=\"url(#fl3yu57y71rjd)\" height=\"42.9375\" id=\"E3\" rx=\"10\" ry=\"10\" style=\"stroke: #A80036; stroke-width: 1.5;\" width=\"76\" x=\"476\" y=\"41\"/><text fill=\"#000000\" font-family=\"sans-serif\" font-size=\"12\" font-style=\"italic\" lengthAdjust=\"spacingAndGlyphs\" textLength=\"69\" x=\"479.5\" y=\"57.1387\">«attribute»</text><text fill=\"#000000\" font-family=\"sans-serif\" font-size=\"12\" lengthAdjust=\"spacingAndGlyphs\" textLength=\"24\" x=\"502\" y=\"71.1074\">a: A</text></a></g><g id=\"E1.E5\"><a href=\"psysml:04c0c290-1f5b-4b73-9b90-1720c7950e1a\" target=\"_top\" title=\"psysml:04c0c290-1f5b-4b73-9b90-1720c7950e1a\" xlink:actuate=\"onRequest\" xlink:href=\"psysml:04c0c290-1f5b-4b73-9b90-1720c7950e1a\" xlink:show=\"new\" xlink:title=\"psysml:04c0c290-1f5b-4b73-9b90-1720c7950e1a\" xlink:type=\"simple\"><rect fill=\"#FEFECE\" filter=\"url(#fl3yu57y71rjd)\" height=\"42.9375\" id=\"E5\" rx=\"10\" ry=\"10\" style=\"stroke: #A80036; stroke-width: 1.5;\" width=\"76\" x=\"365\" y=\"41\"/><text fill=\"#000000\" font-family=\"sans-serif\" font-size=\"12\" font-style=\"italic\" lengthAdjust=\"spacingAndGlyphs\" textLength=\"69\" x=\"368.5\" y=\"57.1387\">«attribute»</text><text fill=\"#000000\" font-family=\"sans-serif\" font-size=\"12\" lengthAdjust=\"spacingAndGlyphs\" textLength=\"4\" x=\"401\" y=\"71.1074\">f</text></a></g><g id=\"E1.E6\"><a href=\"psysml:514c602a-a137-45fe-b85f-d9c421e6e02c\" target=\"_top\" title=\"psysml:514c602a-a137-45fe-b85f-d9c421e6e02c\" xlink:actuate=\"onRequest\" xlink:href=\"psysml:514c602a-a137-45fe-b85f-d9c421e6e02c\" xlink:show=\"new\" xlink:title=\"psysml:514c602a-a137-45fe-b85f-d9c421e6e02c\" xlink:type=\"simple\"><rect fill=\"#FEFECE\" filter=\"url(#fl3yu57y71rjd)\" height=\"42.9375\" id=\"E6\" rx=\"10\" ry=\"10\" style=\"stroke: #A80036; stroke-width: 1.5;\" width=\"76\" x=\"254\" y=\"41\"/><text fill=\"#000000\" font-family=\"sans-serif\" font-size=\"12\" font-style=\"italic\" lengthAdjust=\"spacingAndGlyphs\" textLength=\"69\" x=\"257.5\" y=\"57.1387\">«attribute»</text><text fill=\"#000000\" font-family=\"sans-serif\" font-size=\"12\" lengthAdjust=\"spacingAndGlyphs\" textLength=\"8\" x=\"288\" y=\"71.1074\">g</text></a></g><g id=\"E1.E7\"><a href=\"psysml:1980a670-9bad-4a6e-b892-05e752677470\" target=\"_top\" title=\"psysml:1980a670-9bad-4a6e-b892-05e752677470\" xlink:actuate=\"onRequest\" xlink:href=\"psysml:1980a670-9bad-4a6e-b892-05e752677470\" xlink:show=\"new\" xlink:title=\"psysml:1980a670-9bad-4a6e-b892-05e752677470\" xlink:type=\"simple\"><rect fill=\"#FEFECE\" filter=\"url(#fl3yu57y71rjd)\" height=\"42.9375\" id=\"E7\" rx=\"10\" ry=\"10\" style=\"stroke: #A80036; stroke-width: 1.5;\" width=\"76\" x=\"143\" y=\"41\"/><text fill=\"#000000\" font-family=\"sans-serif\" font-size=\"12\" font-style=\"italic\" lengthAdjust=\"spacingAndGlyphs\" textLength=\"69\" x=\"146.5\" y=\"57.1387\">«attribute»</text><text fill=\"#000000\" font-family=\"sans-serif\" font-size=\"12\" lengthAdjust=\"spacingAndGlyphs\" textLength=\"8\" x=\"177\" y=\"71.1074\">b</text></a></g><g id=\"E1.E8\"><a href=\"psysml:c3372668-2566-45ef-b19a-e891239054bd\" target=\"_top\" title=\"psysml:c3372668-2566-45ef-b19a-e891239054bd\" xlink:actuate=\"onRequest\" xlink:href=\"psysml:c3372668-2566-45ef-b19a-e891239054bd\" xlink:show=\"new\" xlink:title=\"psysml:c3372668-2566-45ef-b19a-e891239054bd\" xlink:type=\"simple\"><rect fill=\"#FEFECE\" filter=\"url(#fl3yu57y71rjd)\" height=\"42.9375\" id=\"E8\" rx=\"10\" ry=\"10\" style=\"stroke: #A80036; stroke-width: 1.5;\" width=\"76\" x=\"32\" y=\"41\"/><text fill=\"#000000\" font-family=\"sans-serif\" font-size=\"12\" font-style=\"italic\" lengthAdjust=\"spacingAndGlyphs\" textLength=\"69\" x=\"35.5\" y=\"57.1387\">«attribute»</text><text fill=\"#000000\" font-family=\"sans-serif\" font-size=\"12\" lengthAdjust=\"spacingAndGlyphs\" textLength=\"7\" x=\"66.5\" y=\"71.1074\">c</text></a></g><!--MD5=[aba9407cd56bd80ebd0100c952e52c24]\n",
       "@startuml\r\n",
       "skinparam ranksep 8\r\n",
       "skinparam rectangle {\r\n",
       " backgroundColor<<block>> LightGreen\r\n",
       "}\r\n",
       "skinparam wrapWidth 300\r\n",
       "hide circle\r\n",
       "\r\n",
       "package \"ParameterTest\" as E1  [[psysml:edb9bc9d-436b-4f02-a049-a38172af8e0d ]]  {\r\n",
       "def \"A\" as E2  <<(T,blue)attribute def>> [[psysml:72c120f1-27bf-4069-82f6-2517ea0440e6 ]] \r\n",
       "rec usage \"a: A\" as E3  <<(T,blue)attribute>> [[psysml:449a2126-050e-4d76-9596-2419df0cfe8a ]] {\r\n",
       "}\r\n",
       "def \"F\" as E4  <<(T,blue)calculation def>> [[psysml:42a33a96-c599-425f-a532-027e99d4f603 ]] \r\n",
       "rec usage \"f\" as E5  <<(T,blue)attribute>> [[psysml:04c0c290-1f5b-4b73-9b90-1720c7950e1a ]] {\r\n",
       "}\r\n",
       "rec usage \"g\" as E6  <<(T,blue)attribute>> [[psysml:514c602a-a137-45fe-b85f-d9c421e6e02c ]] {\r\n",
       "}\r\n",
       "rec usage \"b\" as E7  <<(T,blue)attribute>> [[psysml:1980a670-9bad-4a6e-b892-05e752677470 ]] {\r\n",
       "}\r\n",
       "rec usage \"c\" as E8  <<(T,blue)attribute>> [[psysml:c3372668-2566-45ef-b19a-e891239054bd ]] {\r\n",
       "}\r\n",
       "}\r\n",
       "@enduml\r\n",
       "\n",
       "PlantUML version 1.2020.13(Sat Jun 13 12:26:38 UTC 2020)\n",
       "(EPL source distribution)\n",
       "Java Runtime: OpenJDK Runtime Environment\n",
       "JVM: OpenJDK 64-Bit Server VM\n",
       "Default Encoding: UTF-8\n",
       "Language: en\n",
       "Country: null\n",
       "--></g></svg>"
      ]
     },
     "execution_count": 26,
     "metadata": {},
     "output_type": "execute_result"
    }
   ],
   "source": [
    "%viz --style=\"STDCOLOR\" --view=\"Interconnection\" \"ParameterTest\""
   ]
  },
  {
   "cell_type": "code",
   "execution_count": 27,
   "id": "entire-participation",
   "metadata": {
    "execution": {
     "iopub.execute_input": "2021-03-25T13:44:01.898430Z",
     "iopub.status.busy": "2021-03-25T13:44:01.897948Z",
     "iopub.status.idle": "2021-03-25T13:44:01.958779Z",
     "shell.execute_reply": "2021-03-25T13:44:01.958383Z"
    }
   },
   "outputs": [
    {
     "data": {
      "image/svg+xml": [
       "<?xml version=\"1.0\" encoding=\"UTF-8\" standalone=\"no\"?><svg xmlns=\"http://www.w3.org/2000/svg\" xmlns:xlink=\"http://www.w3.org/1999/xlink\" contentScriptType=\"application/ecmascript\" contentStyleType=\"text/css\" height=\"134px\" preserveAspectRatio=\"none\" style=\"width:174px;height:134px;\" version=\"1.1\" viewBox=\"0 0 174 134\" width=\"174px\" zoomAndPan=\"magnify\"><defs><filter height=\"300%\" id=\"fpejbqcnzck51\" width=\"300%\" x=\"-1\" y=\"-1\"><feGaussianBlur result=\"blurOut\" stdDeviation=\"2.0\"/><feColorMatrix in=\"blurOut\" result=\"blurOut2\" type=\"matrix\" values=\"0 0 0 0 0 0 0 0 0 0 0 0 0 0 0 0 0 0 .4 0\"/><feOffset dx=\"4.0\" dy=\"4.0\" in=\"blurOut2\" result=\"blurOut3\"/><feBlend in=\"SourceGraphic\" in2=\"blurOut3\" mode=\"normal\"/></filter></defs><g><!--MD5=[fbc87193dbaf4d95561dea2c320d4a47]\n",
       "cluster E1--><a href=\"psysml:42a33a96-c599-425f-a532-027e99d4f603\" target=\"_top\" title=\"psysml:42a33a96-c599-425f-a532-027e99d4f603\" xlink:actuate=\"onRequest\" xlink:href=\"psysml:42a33a96-c599-425f-a532-027e99d4f603\" xlink:show=\"new\" xlink:title=\"psysml:42a33a96-c599-425f-a532-027e99d4f603\" xlink:type=\"simple\"><rect fill=\"#FFFFFF\" filter=\"url(#fpejbqcnzck51)\" height=\"73\" id=\"E1\" style=\"stroke: #A80036; stroke-width: 1.5;\" width=\"148\" x=\"7\" y=\"42.0986\"/><rect fill=\"#FEFECE\" height=\"37.9375\" style=\"stroke: #A80036; stroke-width: 1.5;\" width=\"148\" x=\"7\" y=\"42.0986\"/><text fill=\"#000000\" font-family=\"sans-serif\" font-size=\"12\" font-style=\"italic\" lengthAdjust=\"spacingAndGlyphs\" textLength=\"106\" x=\"28\" y=\"58.2373\">«calculation def»</text><text fill=\"#000000\" font-family=\"sans-serif\" font-size=\"12\" lengthAdjust=\"spacingAndGlyphs\" textLength=\"7\" x=\"77.5\" y=\"72.2061\">F</text></a><text fill=\"#000000\" font-family=\"sans-serif\" font-size=\"14\" lengthAdjust=\"spacingAndGlyphs\" textLength=\"9\" x=\"20.5\" y=\"20.7969\">p</text><rect fill=\"#A80036\" height=\"12\" style=\"stroke: #FEFECE; stroke-width: 1.5;\" width=\"12\" x=\"19\" y=\"36.0986\"/><text fill=\"#000000\" font-family=\"sans-serif\" font-size=\"14\" lengthAdjust=\"spacingAndGlyphs\" textLength=\"9\" x=\"67.5\" y=\"20.7969\">q</text><rect fill=\"#A80036\" height=\"12\" style=\"stroke: #FEFECE; stroke-width: 1.5;\" width=\"12\" x=\"66\" y=\"36.0986\"/><!--MD5=[7c8da3305df25d311722ffb35e120ddf]\n",
       "@startuml\r\n",
       "skinparam ranksep 8\r\n",
       "skinparam wrapWidth 300\r\n",
       "hide circle\r\n",
       "\r\n",
       "rec def \"F\" as E1  <<(T,blue)calculation def>> [[psysml:42a33a96-c599-425f-a532-027e99d4f603 ]] {\r\n",
       "portin \"p\" as E2  [[psysml:7844d093-18d6-4bcd-8bc7-6ee8559e13ae ]] \r\n",
       "portin \"q\" as E3  [[psysml:60bdf07c-a2db-456e-a058-70cb9f3de468 ]] \r\n",
       "}\r\n",
       "\r\n",
       "@enduml\r\n",
       "\n",
       "PlantUML version 1.2020.13(Sat Jun 13 12:26:38 UTC 2020)\n",
       "(EPL source distribution)\n",
       "Java Runtime: OpenJDK Runtime Environment\n",
       "JVM: OpenJDK 64-Bit Server VM\n",
       "Default Encoding: UTF-8\n",
       "Language: en\n",
       "Country: null\n",
       "--></g></svg>"
      ]
     },
     "execution_count": 27,
     "metadata": {},
     "output_type": "execute_result"
    }
   ],
   "source": [
    "%viz --style=\"STDCOLOR\" --view=\"Action\" \"ParameterTest\""
   ]
  },
  {
   "cell_type": "code",
   "execution_count": 28,
   "id": "sixth-production",
   "metadata": {
    "execution": {
     "iopub.execute_input": "2021-03-25T13:44:02.011698Z",
     "iopub.status.busy": "2021-03-25T13:44:02.010850Z",
     "iopub.status.idle": "2021-03-25T13:44:02.166655Z",
     "shell.execute_reply": "2021-03-25T13:44:02.167190Z"
    }
   },
   "outputs": [
    {
     "data": {
      "image/svg+xml": [
       "<?xml version=\"1.0\" encoding=\"UTF-8\" standalone=\"no\"?><svg xmlns=\"http://www.w3.org/2000/svg\" xmlns:xlink=\"http://www.w3.org/1999/xlink\" contentScriptType=\"application/ecmascript\" contentStyleType=\"text/css\" height=\"264px\" preserveAspectRatio=\"none\" style=\"width:710px;height:264px;\" version=\"1.1\" viewBox=\"0 0 710 264\" width=\"710px\" zoomAndPan=\"magnify\"><defs><filter height=\"300%\" id=\"fop5bm62c8k5o\" width=\"300%\" x=\"-1\" y=\"-1\"><feGaussianBlur result=\"blurOut\" stdDeviation=\"2.0\"/><feColorMatrix in=\"blurOut\" result=\"blurOut2\" type=\"matrix\" values=\"0 0 0 0 0 0 0 0 0 0 0 0 0 0 0 0 0 0 .4 0\"/><feOffset dx=\"4.0\" dy=\"4.0\" in=\"blurOut2\" result=\"blurOut3\"/><feBlend in=\"SourceGraphic\" in2=\"blurOut3\" mode=\"normal\"/></filter></defs><g><!--MD5=[fbc87193dbaf4d95561dea2c320d4a47]\n",
       "cluster E1--><a href=\"psysml:edb9bc9d-436b-4f02-a049-a38172af8e0d\" target=\"_top\" title=\"psysml:edb9bc9d-436b-4f02-a049-a38172af8e0d\" xlink:actuate=\"onRequest\" xlink:href=\"psysml:edb9bc9d-436b-4f02-a049-a38172af8e0d\" xlink:show=\"new\" xlink:title=\"psysml:edb9bc9d-436b-4f02-a049-a38172af8e0d\" xlink:type=\"simple\"><polygon fill=\"#FFFFFF\" filter=\"url(#fop5bm62c8k5o)\" points=\"16,6,139,6,146,28.2969,688,28.2969,688,252,16,252,16,6\" style=\"stroke: #000000; stroke-width: 1.5;\"/><line style=\"stroke: #000000; stroke-width: 1.5;\" x1=\"16\" x2=\"146\" y1=\"28.2969\" y2=\"28.2969\"/><text fill=\"#000000\" font-family=\"sans-serif\" font-size=\"14\" font-weight=\"bold\" lengthAdjust=\"spacingAndGlyphs\" textLength=\"117\" x=\"20\" y=\"20.9951\">ParameterTest</text></a><!--MD5=[b4997ac47864f28c2f74865a473b2911]\n",
       "class E2--><a href=\"psysml:72c120f1-27bf-4069-82f6-2517ea0440e6\" target=\"_top\" title=\"psysml:72c120f1-27bf-4069-82f6-2517ea0440e6\" xlink:actuate=\"onRequest\" xlink:href=\"psysml:72c120f1-27bf-4069-82f6-2517ea0440e6\" xlink:show=\"new\" xlink:title=\"psysml:72c120f1-27bf-4069-82f6-2517ea0440e6\" xlink:type=\"simple\"><rect fill=\"#FEFECE\" filter=\"url(#fop5bm62c8k5o)\" height=\"71.5469\" id=\"E2\" style=\"stroke: #A80036; stroke-width: 1.5;\" width=\"95\" x=\"498.5\" y=\"164\"/><text fill=\"#000000\" font-family=\"sans-serif\" font-size=\"12\" font-style=\"italic\" lengthAdjust=\"spacingAndGlyphs\" textLength=\"93\" x=\"499.5\" y=\"180.1387\">«attribute def»</text><text fill=\"#000000\" font-family=\"sans-serif\" font-size=\"12\" lengthAdjust=\"spacingAndGlyphs\" textLength=\"8\" x=\"542\" y=\"194.1074\">A</text><line style=\"stroke: #A80036; stroke-width: 1.5;\" x1=\"499.5\" x2=\"592.5\" y1=\"201.9375\" y2=\"201.9375\"/><text fill=\"#000000\" font-family=\"sans-serif\" font-size=\"11\" lengthAdjust=\"spacingAndGlyphs\" textLength=\"48\" x=\"504.5\" y=\"216.1479\">x: String</text><text fill=\"#000000\" font-family=\"sans-serif\" font-size=\"11\" lengthAdjust=\"spacingAndGlyphs\" textLength=\"21\" x=\"504.5\" y=\"228.9526\">y: A</text></a><!--MD5=[09b614a08d8cba4a07c9adeb5e0fee81]\n",
       "class E3--><a href=\"psysml:449a2126-050e-4d76-9596-2419df0cfe8a\" target=\"_top\" title=\"psysml:449a2126-050e-4d76-9596-2419df0cfe8a\" xlink:actuate=\"onRequest\" xlink:href=\"psysml:449a2126-050e-4d76-9596-2419df0cfe8a\" xlink:show=\"new\" xlink:title=\"psysml:449a2126-050e-4d76-9596-2419df0cfe8a\" xlink:type=\"simple\"><rect fill=\"#FEFECE\" filter=\"url(#fop5bm62c8k5o)\" height=\"45.9375\" id=\"E3\" rx=\"10\" ry=\"10\" style=\"stroke: #A80036; stroke-width: 1.5;\" width=\"71\" x=\"600.5\" y=\"41\"/><text fill=\"#000000\" font-family=\"sans-serif\" font-size=\"12\" font-style=\"italic\" lengthAdjust=\"spacingAndGlyphs\" textLength=\"69\" x=\"601.5\" y=\"57.1387\">«attribute»</text><text fill=\"#000000\" font-family=\"sans-serif\" font-size=\"12\" lengthAdjust=\"spacingAndGlyphs\" textLength=\"24\" x=\"624\" y=\"71.1074\">a: A</text><line style=\"stroke: #A80036; stroke-width: 1.5;\" x1=\"601.5\" x2=\"670.5\" y1=\"78.9375\" y2=\"78.9375\"/></a><!--MD5=[ebbe1d658d1005bcc118a6aa81145e00]\n",
       "class E4--><a href=\"psysml:42a33a96-c599-425f-a532-027e99d4f603\" target=\"_top\" title=\"psysml:42a33a96-c599-425f-a532-027e99d4f603\" xlink:actuate=\"onRequest\" xlink:href=\"psysml:42a33a96-c599-425f-a532-027e99d4f603\" xlink:show=\"new\" xlink:title=\"psysml:42a33a96-c599-425f-a532-027e99d4f603\" xlink:type=\"simple\"><rect fill=\"#FEFECE\" filter=\"url(#fop5bm62c8k5o)\" height=\"45.9375\" id=\"E4\" style=\"stroke: #A80036; stroke-width: 1.5;\" width=\"108\" x=\"457\" y=\"41\"/><text fill=\"#000000\" font-family=\"sans-serif\" font-size=\"12\" font-style=\"italic\" lengthAdjust=\"spacingAndGlyphs\" textLength=\"106\" x=\"458\" y=\"57.1387\">«calculation def»</text><text fill=\"#000000\" font-family=\"sans-serif\" font-size=\"12\" lengthAdjust=\"spacingAndGlyphs\" textLength=\"7\" x=\"507.5\" y=\"71.1074\">F</text><line style=\"stroke: #A80036; stroke-width: 1.5;\" x1=\"458\" x2=\"564\" y1=\"78.9375\" y2=\"78.9375\"/></a><!--MD5=[270fce915f116d4de14055a7c1d9a0f3]\n",
       "class E5--><a href=\"psysml:04c0c290-1f5b-4b73-9b90-1720c7950e1a\" target=\"_top\" title=\"psysml:04c0c290-1f5b-4b73-9b90-1720c7950e1a\" xlink:actuate=\"onRequest\" xlink:href=\"psysml:04c0c290-1f5b-4b73-9b90-1720c7950e1a\" xlink:show=\"new\" xlink:title=\"psysml:04c0c290-1f5b-4b73-9b90-1720c7950e1a\" xlink:type=\"simple\"><rect fill=\"#FEFECE\" filter=\"url(#fop5bm62c8k5o)\" height=\"45.9375\" id=\"E5\" rx=\"10\" ry=\"10\" style=\"stroke: #A80036; stroke-width: 1.5;\" width=\"71\" x=\"350.5\" y=\"41\"/><text fill=\"#000000\" font-family=\"sans-serif\" font-size=\"12\" font-style=\"italic\" lengthAdjust=\"spacingAndGlyphs\" textLength=\"69\" x=\"351.5\" y=\"57.1387\">«attribute»</text><text fill=\"#000000\" font-family=\"sans-serif\" font-size=\"12\" lengthAdjust=\"spacingAndGlyphs\" textLength=\"4\" x=\"384\" y=\"71.1074\">f</text><line style=\"stroke: #A80036; stroke-width: 1.5;\" x1=\"351.5\" x2=\"420.5\" y1=\"78.9375\" y2=\"78.9375\"/></a><!--MD5=[60a26617385b1d2d0262a64233df1f8d]\n",
       "class E6--><a href=\"psysml:514c602a-a137-45fe-b85f-d9c421e6e02c\" target=\"_top\" title=\"psysml:514c602a-a137-45fe-b85f-d9c421e6e02c\" xlink:actuate=\"onRequest\" xlink:href=\"psysml:514c602a-a137-45fe-b85f-d9c421e6e02c\" xlink:show=\"new\" xlink:title=\"psysml:514c602a-a137-45fe-b85f-d9c421e6e02c\" xlink:type=\"simple\"><rect fill=\"#FEFECE\" filter=\"url(#fop5bm62c8k5o)\" height=\"45.9375\" id=\"E6\" rx=\"10\" ry=\"10\" style=\"stroke: #A80036; stroke-width: 1.5;\" width=\"71\" x=\"244.5\" y=\"41\"/><text fill=\"#000000\" font-family=\"sans-serif\" font-size=\"12\" font-style=\"italic\" lengthAdjust=\"spacingAndGlyphs\" textLength=\"69\" x=\"245.5\" y=\"57.1387\">«attribute»</text><text fill=\"#000000\" font-family=\"sans-serif\" font-size=\"12\" lengthAdjust=\"spacingAndGlyphs\" textLength=\"8\" x=\"276\" y=\"71.1074\">g</text><line style=\"stroke: #A80036; stroke-width: 1.5;\" x1=\"245.5\" x2=\"314.5\" y1=\"78.9375\" y2=\"78.9375\"/></a><!--MD5=[2156ba9850f5573cc1fc38a6a4b2f02b]\n",
       "class E7--><a href=\"psysml:1980a670-9bad-4a6e-b892-05e752677470\" target=\"_top\" title=\"psysml:1980a670-9bad-4a6e-b892-05e752677470\" xlink:actuate=\"onRequest\" xlink:href=\"psysml:1980a670-9bad-4a6e-b892-05e752677470\" xlink:show=\"new\" xlink:title=\"psysml:1980a670-9bad-4a6e-b892-05e752677470\" xlink:type=\"simple\"><rect fill=\"#FEFECE\" filter=\"url(#fop5bm62c8k5o)\" height=\"45.9375\" id=\"E7\" rx=\"10\" ry=\"10\" style=\"stroke: #A80036; stroke-width: 1.5;\" width=\"71\" x=\"138.5\" y=\"41\"/><text fill=\"#000000\" font-family=\"sans-serif\" font-size=\"12\" font-style=\"italic\" lengthAdjust=\"spacingAndGlyphs\" textLength=\"69\" x=\"139.5\" y=\"57.1387\">«attribute»</text><text fill=\"#000000\" font-family=\"sans-serif\" font-size=\"12\" lengthAdjust=\"spacingAndGlyphs\" textLength=\"8\" x=\"170\" y=\"71.1074\">b</text><line style=\"stroke: #A80036; stroke-width: 1.5;\" x1=\"139.5\" x2=\"208.5\" y1=\"78.9375\" y2=\"78.9375\"/></a><!--MD5=[b9389687b975829384b498ac4b7476b2]\n",
       "class E8--><a href=\"psysml:c3372668-2566-45ef-b19a-e891239054bd\" target=\"_top\" title=\"psysml:c3372668-2566-45ef-b19a-e891239054bd\" xlink:actuate=\"onRequest\" xlink:href=\"psysml:c3372668-2566-45ef-b19a-e891239054bd\" xlink:show=\"new\" xlink:title=\"psysml:c3372668-2566-45ef-b19a-e891239054bd\" xlink:type=\"simple\"><rect fill=\"#FEFECE\" filter=\"url(#fop5bm62c8k5o)\" height=\"45.9375\" id=\"E8\" rx=\"10\" ry=\"10\" style=\"stroke: #A80036; stroke-width: 1.5;\" width=\"71\" x=\"32.5\" y=\"41\"/><text fill=\"#000000\" font-family=\"sans-serif\" font-size=\"12\" font-style=\"italic\" lengthAdjust=\"spacingAndGlyphs\" textLength=\"69\" x=\"33.5\" y=\"57.1387\">«attribute»</text><text fill=\"#000000\" font-family=\"sans-serif\" font-size=\"12\" lengthAdjust=\"spacingAndGlyphs\" textLength=\"7\" x=\"64.5\" y=\"71.1074\">c</text><line style=\"stroke: #A80036; stroke-width: 1.5;\" x1=\"33.5\" x2=\"102.5\" y1=\"78.9375\" y2=\"78.9375\"/></a><!--MD5=[05d275557350bfb9b23a4ef7222b4c39]\n",
       "link E3 to E2--><a href=\"psysml:c16b553f-69e4-4116-bada-9588c5abaa28\" target=\"_top\" title=\"psysml:c16b553f-69e4-4116-bada-9588c5abaa28\" xlink:actuate=\"onRequest\" xlink:href=\"psysml:c16b553f-69e4-4116-bada-9588c5abaa28\" xlink:show=\"new\" xlink:title=\"psysml:c16b553f-69e4-4116-bada-9588c5abaa28\" xlink:type=\"simple\"><path d=\"M621.14,87.13 C610.18,103.45 594.8,126.34 580.81,147.17 \" fill=\"none\" id=\"E3-&gt;E2\" style=\"stroke: #A80036; stroke-width: 1.0;\"/><polygon fill=\"#FFFFFF\" points=\"569.52,163.99,574.309,144.316,585.9284,152.1256,569.52,163.99\" style=\"stroke: #A80036; stroke-width: 1.0;\"/><ellipse cx=\"579.1486\" cy=\"140.7009\" fill=\"#A80036\" rx=\"2\" ry=\"2\" style=\"stroke: #A80036; stroke-width: 1.0;\"/><ellipse cx=\"587.4481\" cy=\"146.2792\" fill=\"#A80036\" rx=\"2\" ry=\"2\" style=\"stroke: #A80036; stroke-width: 1.0;\"/></a><!--MD5=[ddeed8deb2209213b62e6cfabaa108b2]\n",
       "reverse link E4 to E2--><a href=\"psysml:7844d093-18d6-4bcd-8bc7-6ee8559e13ae\" target=\"_top\" title=\"psysml:7844d093-18d6-4bcd-8bc7-6ee8559e13ae\" xlink:actuate=\"onRequest\" xlink:href=\"psysml:7844d093-18d6-4bcd-8bc7-6ee8559e13ae\" xlink:show=\"new\" xlink:title=\"psysml:7844d093-18d6-4bcd-8bc7-6ee8559e13ae\" xlink:type=\"simple\"><path d=\"M520.11,99.89 C525.27,119.63 531.69,144.23 536.85,163.99 \" fill=\"none\" id=\"E4&lt;-E2\" style=\"stroke: #A80036; stroke-width: 1.0;\"/><polygon fill=\"#FFFFFF\" points=\"516.78,87.13,514.4253,93.9458,519.8112,98.7408,522.1659,91.925,516.78,87.13\" style=\"stroke: #A80036; stroke-width: 1.0;\"/><text fill=\"#000000\" font-family=\"sans-serif\" font-size=\"13\" lengthAdjust=\"spacingAndGlyphs\" textLength=\"8\" x=\"529\" y=\"130.0669\">p</text></a><!--MD5=[fec55e611c6ac18ad313112df9d9c57d]\n",
       "@startuml\r\n",
       "skinparam wrapWidth 300\r\n",
       "hide circle\r\n",
       "\r\n",
       "package \"ParameterTest\" as E1  [[psysml:edb9bc9d-436b-4f02-a049-a38172af8e0d ]]  {\r\n",
       "comp def \"A\" as E2  <<(T,blue)attribute def>> [[psysml:72c120f1-27bf-4069-82f6-2517ea0440e6 ]] {\r\n",
       "x: String\r\n",
       "y: A\r\n",
       "}\r\n",
       "comp usage \"a: A\" as E3  <<(T,blue)attribute>> [[psysml:449a2126-050e-4d76-9596-2419df0cfe8a ]] {\r\n",
       "}\r\n",
       "comp def \"F\" as E4  <<(T,blue)calculation def>> [[psysml:42a33a96-c599-425f-a532-027e99d4f603 ]] {\r\n",
       "}\r\n",
       "comp usage \"f\" as E5  <<(T,blue)attribute>> [[psysml:04c0c290-1f5b-4b73-9b90-1720c7950e1a ]] {\r\n",
       "}\r\n",
       "comp usage \"g\" as E6  <<(T,blue)attribute>> [[psysml:514c602a-a137-45fe-b85f-d9c421e6e02c ]] {\r\n",
       "}\r\n",
       "comp usage \"b\" as E7  <<(T,blue)attribute>> [[psysml:1980a670-9bad-4a6e-b892-05e752677470 ]] {\r\n",
       "}\r\n",
       "comp usage \"c\" as E8  <<(T,blue)attribute>> [[psysml:c3372668-2566-45ef-b19a-e891239054bd ]] {\r\n",
       "}\r\n",
       "E3 - -:|> E2 [[psysml:c16b553f-69e4-4116-bada-9588c5abaa28 ]] \r\n",
       "E4 o- - E2 [[psysml:7844d093-18d6-4bcd-8bc7-6ee8559e13ae ]] : p\r\n",
       "}\r\n",
       "@enduml\r\n",
       "\n",
       "PlantUML version 1.2020.13(Sat Jun 13 12:26:38 UTC 2020)\n",
       "(EPL source distribution)\n",
       "Java Runtime: OpenJDK Runtime Environment\n",
       "JVM: OpenJDK 64-Bit Server VM\n",
       "Default Encoding: UTF-8\n",
       "Language: en\n",
       "Country: null\n",
       "--></g></svg>"
      ]
     },
     "execution_count": 28,
     "metadata": {},
     "output_type": "execute_result"
    }
   ],
   "source": [
    "%viz --style=\"STDCOLOR\" --view=\"Sequence\" \"ParameterTest\""
   ]
  },
  {
   "cell_type": "code",
   "execution_count": 29,
   "id": "downtown-threshold",
   "metadata": {
    "execution": {
     "iopub.execute_input": "2021-03-25T13:44:02.221071Z",
     "iopub.status.busy": "2021-03-25T13:44:02.220092Z",
     "iopub.status.idle": "2021-03-25T13:44:02.402041Z",
     "shell.execute_reply": "2021-03-25T13:44:02.400379Z"
    }
   },
   "outputs": [
    {
     "data": {
      "image/svg+xml": [
       "<?xml version=\"1.0\" encoding=\"UTF-8\" standalone=\"no\"?><svg xmlns=\"http://www.w3.org/2000/svg\" xmlns:xlink=\"http://www.w3.org/1999/xlink\" contentScriptType=\"application/ecmascript\" contentStyleType=\"text/css\" height=\"247px\" preserveAspectRatio=\"none\" style=\"width:740px;height:247px;\" version=\"1.1\" viewBox=\"0 0 740 247\" width=\"740px\" zoomAndPan=\"magnify\"><defs><filter height=\"300%\" id=\"fnqglib5lkg0l\" width=\"300%\" x=\"-1\" y=\"-1\"><feGaussianBlur result=\"blurOut\" stdDeviation=\"2.0\"/><feColorMatrix in=\"blurOut\" result=\"blurOut2\" type=\"matrix\" values=\"0 0 0 0 0 0 0 0 0 0 0 0 0 0 0 0 0 0 .4 0\"/><feOffset dx=\"4.0\" dy=\"4.0\" in=\"blurOut2\" result=\"blurOut3\"/><feBlend in=\"SourceGraphic\" in2=\"blurOut3\" mode=\"normal\"/></filter></defs><g><!--MD5=[fbc87193dbaf4d95561dea2c320d4a47]\n",
       "cluster E1--><a href=\"psysml:edb9bc9d-436b-4f02-a049-a38172af8e0d\" target=\"_top\" title=\"psysml:edb9bc9d-436b-4f02-a049-a38172af8e0d\" xlink:actuate=\"onRequest\" xlink:href=\"psysml:edb9bc9d-436b-4f02-a049-a38172af8e0d\" xlink:show=\"new\" xlink:title=\"psysml:edb9bc9d-436b-4f02-a049-a38172af8e0d\" xlink:type=\"simple\"><polygon fill=\"#FFFFFF\" filter=\"url(#fnqglib5lkg0l)\" points=\"16,6,139,6,146,28.2969,718,28.2969,718,235,16,235,16,6\" style=\"stroke: #000000; stroke-width: 1.5;\"/><line style=\"stroke: #000000; stroke-width: 1.5;\" x1=\"16\" x2=\"146\" y1=\"28.2969\" y2=\"28.2969\"/><text fill=\"#000000\" font-family=\"sans-serif\" font-size=\"14\" font-weight=\"bold\" lengthAdjust=\"spacingAndGlyphs\" textLength=\"117\" x=\"20\" y=\"20.9951\">ParameterTest</text></a><!--MD5=[f6df4d0ebaf0b5dfb2ced0ae5af7c670]\n",
       "cluster E4--><a href=\"psysml:42a33a96-c599-425f-a532-027e99d4f603\" target=\"_top\" title=\"psysml:42a33a96-c599-425f-a532-027e99d4f603\" xlink:actuate=\"onRequest\" xlink:href=\"psysml:42a33a96-c599-425f-a532-027e99d4f603\" xlink:show=\"new\" xlink:title=\"psysml:42a33a96-c599-425f-a532-027e99d4f603\" xlink:type=\"simple\"><rect fill=\"#FFFFFF\" filter=\"url(#fnqglib5lkg0l)\" height=\"152.5\" id=\"E4\" style=\"stroke: #A80036; stroke-width: 1.5;\" width=\"148\" x=\"554\" y=\"64\"/><rect fill=\"#FEFECE\" height=\"37.9375\" style=\"stroke: #A80036; stroke-width: 1.5;\" width=\"148\" x=\"554\" y=\"64\"/><text fill=\"#000000\" font-family=\"sans-serif\" font-size=\"12\" font-style=\"italic\" lengthAdjust=\"spacingAndGlyphs\" textLength=\"106\" x=\"575\" y=\"80.1387\">«calculation def»</text><text fill=\"#000000\" font-family=\"sans-serif\" font-size=\"12\" lengthAdjust=\"spacingAndGlyphs\" textLength=\"7\" x=\"624.5\" y=\"94.1074\">F</text></a><!--MD5=[b4997ac47864f28c2f74865a473b2911]\n",
       "class E2--><a href=\"psysml:72c120f1-27bf-4069-82f6-2517ea0440e6\" target=\"_top\" title=\"psysml:72c120f1-27bf-4069-82f6-2517ea0440e6\" xlink:actuate=\"onRequest\" xlink:href=\"psysml:72c120f1-27bf-4069-82f6-2517ea0440e6\" xlink:show=\"new\" xlink:title=\"psysml:72c120f1-27bf-4069-82f6-2517ea0440e6\" xlink:type=\"simple\"><rect fill=\"#FEFECE\" filter=\"url(#fnqglib5lkg0l)\" height=\"71.5469\" id=\"E2\" style=\"stroke: #A80036; stroke-width: 1.5;\" width=\"95\" x=\"422.5\" y=\"147\"/><text fill=\"#000000\" font-family=\"sans-serif\" font-size=\"12\" font-style=\"italic\" lengthAdjust=\"spacingAndGlyphs\" textLength=\"93\" x=\"423.5\" y=\"163.1387\">«attribute def»</text><text fill=\"#000000\" font-family=\"sans-serif\" font-size=\"12\" lengthAdjust=\"spacingAndGlyphs\" textLength=\"8\" x=\"466\" y=\"177.1074\">A</text><line style=\"stroke: #A80036; stroke-width: 1.5;\" x1=\"423.5\" x2=\"516.5\" y1=\"184.9375\" y2=\"184.9375\"/><text fill=\"#000000\" font-family=\"sans-serif\" font-size=\"11\" lengthAdjust=\"spacingAndGlyphs\" textLength=\"48\" x=\"428.5\" y=\"199.1479\">x: String</text><text fill=\"#000000\" font-family=\"sans-serif\" font-size=\"11\" lengthAdjust=\"spacingAndGlyphs\" textLength=\"21\" x=\"428.5\" y=\"211.9526\">y: A</text></a><!--MD5=[09b614a08d8cba4a07c9adeb5e0fee81]\n",
       "class E3--><a href=\"psysml:449a2126-050e-4d76-9596-2419df0cfe8a\" target=\"_top\" title=\"psysml:449a2126-050e-4d76-9596-2419df0cfe8a\" xlink:actuate=\"onRequest\" xlink:href=\"psysml:449a2126-050e-4d76-9596-2419df0cfe8a\" xlink:show=\"new\" xlink:title=\"psysml:449a2126-050e-4d76-9596-2419df0cfe8a\" xlink:type=\"simple\"><rect fill=\"#FEFECE\" filter=\"url(#fnqglib5lkg0l)\" height=\"45.9375\" id=\"E3\" rx=\"10\" ry=\"10\" style=\"stroke: #A80036; stroke-width: 1.5;\" width=\"71\" x=\"456.5\" y=\"41\"/><text fill=\"#000000\" font-family=\"sans-serif\" font-size=\"12\" font-style=\"italic\" lengthAdjust=\"spacingAndGlyphs\" textLength=\"69\" x=\"457.5\" y=\"57.1387\">«attribute»</text><text fill=\"#000000\" font-family=\"sans-serif\" font-size=\"12\" lengthAdjust=\"spacingAndGlyphs\" textLength=\"24\" x=\"480\" y=\"71.1074\">a: A</text><line style=\"stroke: #A80036; stroke-width: 1.5;\" x1=\"457.5\" x2=\"526.5\" y1=\"78.9375\" y2=\"78.9375\"/></a><!--MD5=[2156ba9850f5573cc1fc38a6a4b2f02b]\n",
       "class E7--><a href=\"psysml:04c0c290-1f5b-4b73-9b90-1720c7950e1a\" target=\"_top\" title=\"psysml:04c0c290-1f5b-4b73-9b90-1720c7950e1a\" xlink:actuate=\"onRequest\" xlink:href=\"psysml:04c0c290-1f5b-4b73-9b90-1720c7950e1a\" xlink:show=\"new\" xlink:title=\"psysml:04c0c290-1f5b-4b73-9b90-1720c7950e1a\" xlink:type=\"simple\"><rect fill=\"#FEFECE\" filter=\"url(#fnqglib5lkg0l)\" height=\"45.9375\" id=\"E7\" rx=\"10\" ry=\"10\" style=\"stroke: #A80036; stroke-width: 1.5;\" width=\"71\" x=\"350.5\" y=\"41\"/><text fill=\"#000000\" font-family=\"sans-serif\" font-size=\"12\" font-style=\"italic\" lengthAdjust=\"spacingAndGlyphs\" textLength=\"69\" x=\"351.5\" y=\"57.1387\">«attribute»</text><text fill=\"#000000\" font-family=\"sans-serif\" font-size=\"12\" lengthAdjust=\"spacingAndGlyphs\" textLength=\"4\" x=\"384\" y=\"71.1074\">f</text><line style=\"stroke: #A80036; stroke-width: 1.5;\" x1=\"351.5\" x2=\"420.5\" y1=\"78.9375\" y2=\"78.9375\"/></a><!--MD5=[b9389687b975829384b498ac4b7476b2]\n",
       "class E8--><a href=\"psysml:514c602a-a137-45fe-b85f-d9c421e6e02c\" target=\"_top\" title=\"psysml:514c602a-a137-45fe-b85f-d9c421e6e02c\" xlink:actuate=\"onRequest\" xlink:href=\"psysml:514c602a-a137-45fe-b85f-d9c421e6e02c\" xlink:show=\"new\" xlink:title=\"psysml:514c602a-a137-45fe-b85f-d9c421e6e02c\" xlink:type=\"simple\"><rect fill=\"#FEFECE\" filter=\"url(#fnqglib5lkg0l)\" height=\"45.9375\" id=\"E8\" rx=\"10\" ry=\"10\" style=\"stroke: #A80036; stroke-width: 1.5;\" width=\"71\" x=\"244.5\" y=\"41\"/><text fill=\"#000000\" font-family=\"sans-serif\" font-size=\"12\" font-style=\"italic\" lengthAdjust=\"spacingAndGlyphs\" textLength=\"69\" x=\"245.5\" y=\"57.1387\">«attribute»</text><text fill=\"#000000\" font-family=\"sans-serif\" font-size=\"12\" lengthAdjust=\"spacingAndGlyphs\" textLength=\"8\" x=\"276\" y=\"71.1074\">g</text><line style=\"stroke: #A80036; stroke-width: 1.5;\" x1=\"245.5\" x2=\"314.5\" y1=\"78.9375\" y2=\"78.9375\"/></a><!--MD5=[fd4143e9d270a159db93a4ea2a975926]\n",
       "class E9--><a href=\"psysml:1980a670-9bad-4a6e-b892-05e752677470\" target=\"_top\" title=\"psysml:1980a670-9bad-4a6e-b892-05e752677470\" xlink:actuate=\"onRequest\" xlink:href=\"psysml:1980a670-9bad-4a6e-b892-05e752677470\" xlink:show=\"new\" xlink:title=\"psysml:1980a670-9bad-4a6e-b892-05e752677470\" xlink:type=\"simple\"><rect fill=\"#FEFECE\" filter=\"url(#fnqglib5lkg0l)\" height=\"45.9375\" id=\"E9\" rx=\"10\" ry=\"10\" style=\"stroke: #A80036; stroke-width: 1.5;\" width=\"71\" x=\"138.5\" y=\"41\"/><text fill=\"#000000\" font-family=\"sans-serif\" font-size=\"12\" font-style=\"italic\" lengthAdjust=\"spacingAndGlyphs\" textLength=\"69\" x=\"139.5\" y=\"57.1387\">«attribute»</text><text fill=\"#000000\" font-family=\"sans-serif\" font-size=\"12\" lengthAdjust=\"spacingAndGlyphs\" textLength=\"8\" x=\"170\" y=\"71.1074\">b</text><line style=\"stroke: #A80036; stroke-width: 1.5;\" x1=\"139.5\" x2=\"208.5\" y1=\"78.9375\" y2=\"78.9375\"/></a><!--MD5=[96f4274e9e20536e775497830990834d]\n",
       "class E10--><a href=\"psysml:c3372668-2566-45ef-b19a-e891239054bd\" target=\"_top\" title=\"psysml:c3372668-2566-45ef-b19a-e891239054bd\" xlink:actuate=\"onRequest\" xlink:href=\"psysml:c3372668-2566-45ef-b19a-e891239054bd\" xlink:show=\"new\" xlink:title=\"psysml:c3372668-2566-45ef-b19a-e891239054bd\" xlink:type=\"simple\"><rect fill=\"#FEFECE\" filter=\"url(#fnqglib5lkg0l)\" height=\"45.9375\" id=\"E10\" rx=\"10\" ry=\"10\" style=\"stroke: #A80036; stroke-width: 1.5;\" width=\"71\" x=\"32.5\" y=\"41\"/><text fill=\"#000000\" font-family=\"sans-serif\" font-size=\"12\" font-style=\"italic\" lengthAdjust=\"spacingAndGlyphs\" textLength=\"69\" x=\"33.5\" y=\"57.1387\">«attribute»</text><text fill=\"#000000\" font-family=\"sans-serif\" font-size=\"12\" lengthAdjust=\"spacingAndGlyphs\" textLength=\"7\" x=\"64.5\" y=\"71.1074\">c</text><line style=\"stroke: #A80036; stroke-width: 1.5;\" x1=\"33.5\" x2=\"102.5\" y1=\"78.9375\" y2=\"78.9375\"/></a><text fill=\"#000000\" font-family=\"sans-serif\" font-size=\"14\" lengthAdjust=\"spacingAndGlyphs\" textLength=\"9\" x=\"567.5\" y=\"42.6982\">p</text><rect fill=\"#A80036\" height=\"12\" style=\"stroke: #FEFECE; stroke-width: 1.5;\" width=\"12\" x=\"566\" y=\"58\"/><text fill=\"#000000\" font-family=\"sans-serif\" font-size=\"14\" lengthAdjust=\"spacingAndGlyphs\" textLength=\"9\" x=\"614.5\" y=\"42.6982\">q</text><rect fill=\"#A80036\" height=\"12\" style=\"stroke: #FEFECE; stroke-width: 1.5;\" width=\"12\" x=\"613\" y=\"58\"/><!--MD5=[05d275557350bfb9b23a4ef7222b4c39]\n",
       "link E3 to E2--><a href=\"psysml:c16b553f-69e4-4116-bada-9588c5abaa28\" target=\"_top\" title=\"psysml:c16b553f-69e4-4116-bada-9588c5abaa28\" xlink:actuate=\"onRequest\" xlink:href=\"psysml:c16b553f-69e4-4116-bada-9588c5abaa28\" xlink:show=\"new\" xlink:title=\"psysml:c16b553f-69e4-4116-bada-9588c5abaa28\" xlink:type=\"simple\"><path d=\"M487.86,87.01 C485.74,98.3 483.05,112.62 480.4,126.7 \" fill=\"none\" id=\"E3-&gt;E2\" style=\"stroke: #A80036; stroke-width: 1.0;\"/><polygon fill=\"#FFFFFF\" points=\"476.63,146.75,473.2514,126.7854,487.0116,129.3654,476.63,146.75\" style=\"stroke: #A80036; stroke-width: 1.0;\"/><ellipse cx=\"476.2676\" cy=\"121.5516\" fill=\"#A80036\" rx=\"2\" ry=\"2\" style=\"stroke: #A80036; stroke-width: 1.0;\"/><ellipse cx=\"486.0963\" cy=\"123.3945\" fill=\"#A80036\" rx=\"2\" ry=\"2\" style=\"stroke: #A80036; stroke-width: 1.0;\"/></a><!--MD5=[f5069da42b022a70bc3b56f909d8ee8d]\n",
       "@startuml\r\n",
       "skinparam wrapWidth 300\r\n",
       "hide circle\r\n",
       "\r\n",
       "package \"ParameterTest\" as E1  [[psysml:edb9bc9d-436b-4f02-a049-a38172af8e0d ]]  {\r\n",
       "comp def \"A\" as E2  <<(T,blue)attribute def>> [[psysml:72c120f1-27bf-4069-82f6-2517ea0440e6 ]] {\r\n",
       "x: String\r\n",
       "y: A\r\n",
       "}\r\n",
       "comp usage \"a: A\" as E3  <<(T,blue)attribute>> [[psysml:449a2126-050e-4d76-9596-2419df0cfe8a ]] {\r\n",
       "}\r\n",
       "rec def \"F\" as E4  <<(T,blue)calculation def>> [[psysml:42a33a96-c599-425f-a532-027e99d4f603 ]] {\r\n",
       "portin \"p\" as E5  [[psysml:7844d093-18d6-4bcd-8bc7-6ee8559e13ae ]] \r\n",
       "portin \"q\" as E6  [[psysml:60bdf07c-a2db-456e-a058-70cb9f3de468 ]] \r\n",
       "}\r\n",
       "\r\n",
       "comp usage \"f\" as E7  <<(T,blue)attribute>> [[psysml:04c0c290-1f5b-4b73-9b90-1720c7950e1a ]] {\r\n",
       "}\r\n",
       "comp usage \"g\" as E8  <<(T,blue)attribute>> [[psysml:514c602a-a137-45fe-b85f-d9c421e6e02c ]] {\r\n",
       "}\r\n",
       "comp usage \"b\" as E9  <<(T,blue)attribute>> [[psysml:1980a670-9bad-4a6e-b892-05e752677470 ]] {\r\n",
       "}\r\n",
       "comp usage \"c\" as E10  <<(T,blue)attribute>> [[psysml:c3372668-2566-45ef-b19a-e891239054bd ]] {\r\n",
       "}\r\n",
       "E3 - -:|> E2 [[psysml:c16b553f-69e4-4116-bada-9588c5abaa28 ]] \r\n",
       "}\r\n",
       "@enduml\r\n",
       "\n",
       "PlantUML version 1.2020.13(Sat Jun 13 12:26:38 UTC 2020)\n",
       "(EPL source distribution)\n",
       "Java Runtime: OpenJDK Runtime Environment\n",
       "JVM: OpenJDK 64-Bit Server VM\n",
       "Default Encoding: UTF-8\n",
       "Language: en\n",
       "Country: null\n",
       "--></g></svg>"
      ]
     },
     "execution_count": 29,
     "metadata": {},
     "output_type": "execute_result"
    }
   ],
   "source": [
    "%viz --style=\"STDCOLOR\" --view=\"MIXED\" \"ParameterTest\""
   ]
  },
  {
   "cell_type": "code",
   "execution_count": 30,
   "id": "daily-intermediate",
   "metadata": {
    "execution": {
     "iopub.execute_input": "2021-03-25T13:44:02.452311Z",
     "iopub.status.busy": "2021-03-25T13:44:02.451929Z",
     "iopub.status.idle": "2021-03-25T13:44:02.651868Z",
     "shell.execute_reply": "2021-03-25T13:44:02.650080Z"
    }
   },
   "outputs": [
    {
     "data": {
      "image/svg+xml": [
       "<?xml version=\"1.0\" encoding=\"UTF-8\" standalone=\"no\"?><svg xmlns=\"http://www.w3.org/2000/svg\" xmlns:xlink=\"http://www.w3.org/1999/xlink\" contentScriptType=\"application/ecmascript\" contentStyleType=\"text/css\" height=\"247px\" preserveAspectRatio=\"none\" style=\"width:868px;height:247px;\" version=\"1.1\" viewBox=\"0 0 868 247\" width=\"868px\" zoomAndPan=\"magnify\"><defs><filter height=\"300%\" id=\"fxue3nd5u213b\" width=\"300%\" x=\"-1\" y=\"-1\"><feGaussianBlur result=\"blurOut\" stdDeviation=\"2.0\"/><feColorMatrix in=\"blurOut\" result=\"blurOut2\" type=\"matrix\" values=\"0 0 0 0 0 0 0 0 0 0 0 0 0 0 0 0 0 0 .4 0\"/><feOffset dx=\"4.0\" dy=\"4.0\" in=\"blurOut2\" result=\"blurOut3\"/><feBlend in=\"SourceGraphic\" in2=\"blurOut3\" mode=\"normal\"/></filter></defs><g><!--MD5=[fbc87193dbaf4d95561dea2c320d4a47]\n",
       "cluster E1--><a href=\"psysml:edb9bc9d-436b-4f02-a049-a38172af8e0d\" target=\"_top\" title=\"psysml:edb9bc9d-436b-4f02-a049-a38172af8e0d\" xlink:actuate=\"onRequest\" xlink:href=\"psysml:edb9bc9d-436b-4f02-a049-a38172af8e0d\" xlink:show=\"new\" xlink:title=\"psysml:edb9bc9d-436b-4f02-a049-a38172af8e0d\" xlink:type=\"simple\"><polygon fill=\"#FFFFFF\" filter=\"url(#fxue3nd5u213b)\" points=\"16,6,139,6,146,28.2969,846,28.2969,846,235,16,235,16,6\" style=\"stroke: #000000; stroke-width: 1.5;\"/><line style=\"stroke: #000000; stroke-width: 1.5;\" x1=\"16\" x2=\"146\" y1=\"28.2969\" y2=\"28.2969\"/><text fill=\"#000000\" font-family=\"sans-serif\" font-size=\"14\" font-weight=\"bold\" lengthAdjust=\"spacingAndGlyphs\" textLength=\"117\" x=\"20\" y=\"20.9951\">ParameterTest</text></a><!--MD5=[f6df4d0ebaf0b5dfb2ced0ae5af7c670]\n",
       "cluster E4--><a href=\"psysml:42a33a96-c599-425f-a532-027e99d4f603\" target=\"_top\" title=\"psysml:42a33a96-c599-425f-a532-027e99d4f603\" xlink:actuate=\"onRequest\" xlink:href=\"psysml:42a33a96-c599-425f-a532-027e99d4f603\" xlink:show=\"new\" xlink:title=\"psysml:42a33a96-c599-425f-a532-027e99d4f603\" xlink:type=\"simple\"><rect fill=\"#FFFFFF\" filter=\"url(#fxue3nd5u213b)\" height=\"152.5\" id=\"E4\" style=\"stroke: #A80036; stroke-width: 1.5;\" width=\"148\" x=\"682\" y=\"64\"/><rect fill=\"#FEFECE\" height=\"37.9375\" style=\"stroke: #A80036; stroke-width: 1.5;\" width=\"148\" x=\"682\" y=\"64\"/><text fill=\"#000000\" font-family=\"sans-serif\" font-size=\"12\" font-style=\"italic\" lengthAdjust=\"spacingAndGlyphs\" textLength=\"106\" x=\"703\" y=\"80.1387\">«calculation def»</text><text fill=\"#000000\" font-family=\"sans-serif\" font-size=\"12\" lengthAdjust=\"spacingAndGlyphs\" textLength=\"7\" x=\"752.5\" y=\"94.1074\">F</text></a><!--MD5=[b4997ac47864f28c2f74865a473b2911]\n",
       "class E2--><a href=\"psysml:72c120f1-27bf-4069-82f6-2517ea0440e6\" target=\"_top\" title=\"psysml:72c120f1-27bf-4069-82f6-2517ea0440e6\" xlink:actuate=\"onRequest\" xlink:href=\"psysml:72c120f1-27bf-4069-82f6-2517ea0440e6\" xlink:show=\"new\" xlink:title=\"psysml:72c120f1-27bf-4069-82f6-2517ea0440e6\" xlink:type=\"simple\"><rect fill=\"#FEFECE\" filter=\"url(#fxue3nd5u213b)\" height=\"71.5469\" id=\"E2\" style=\"stroke: #A80036; stroke-width: 1.5;\" width=\"121\" x=\"524.5\" y=\"147\"/><ellipse cx=\"539.5\" cy=\"165.9688\" fill=\"#A52A2A\" rx=\"11\" ry=\"11\" style=\"stroke: #A80036; stroke-width: 1.0;\"/><path d=\"M539.0938,161.7813 L539.0938,169.7656 L539.75,169.7656 Q541.1875,169.7656 541.7969,168.8594 Q542.4219,167.9375 542.4219,165.7656 Q542.4219,163.5938 541.7969,162.6875 Q541.1875,161.7813 539.75,161.7813 L539.0938,161.7813 Z M536.6406,159.5781 L539.2656,159.5781 Q542.2969,159.5781 543.625,161.0313 Q544.9688,162.4688 544.9688,165.7656 Q544.9688,169.0625 543.625,170.5156 Q542.2969,171.9688 539.2656,171.9688 L536.6406,171.9688 L536.6406,159.5781 Z \"/><text fill=\"#000000\" font-family=\"sans-serif\" font-size=\"12\" font-style=\"italic\" lengthAdjust=\"spacingAndGlyphs\" textLength=\"93\" x=\"551.5\" y=\"163.1387\">«attribute def»</text><text fill=\"#000000\" font-family=\"sans-serif\" font-size=\"12\" lengthAdjust=\"spacingAndGlyphs\" textLength=\"8\" x=\"594\" y=\"177.1074\">A</text><line style=\"stroke: #A80036; stroke-width: 1.5;\" x1=\"525.5\" x2=\"644.5\" y1=\"184.9375\" y2=\"184.9375\"/><text fill=\"#000000\" font-family=\"sans-serif\" font-size=\"11\" lengthAdjust=\"spacingAndGlyphs\" textLength=\"48\" x=\"530.5\" y=\"199.1479\">x: String</text><text fill=\"#000000\" font-family=\"sans-serif\" font-size=\"11\" lengthAdjust=\"spacingAndGlyphs\" textLength=\"21\" x=\"530.5\" y=\"211.9526\">y: A</text></a><!--MD5=[09b614a08d8cba4a07c9adeb5e0fee81]\n",
       "class E3--><a href=\"psysml:449a2126-050e-4d76-9596-2419df0cfe8a\" target=\"_top\" title=\"psysml:449a2126-050e-4d76-9596-2419df0cfe8a\" xlink:actuate=\"onRequest\" xlink:href=\"psysml:449a2126-050e-4d76-9596-2419df0cfe8a\" xlink:show=\"new\" xlink:title=\"psysml:449a2126-050e-4d76-9596-2419df0cfe8a\" xlink:type=\"simple\"><rect fill=\"#FEFECE\" filter=\"url(#fxue3nd5u213b)\" height=\"45.9375\" id=\"E3\" rx=\"10\" ry=\"10\" style=\"stroke: #A80036; stroke-width: 1.5;\" width=\"97\" x=\"559.5\" y=\"41\"/><ellipse cx=\"574.5\" cy=\"59.9688\" fill=\"#FFA500\" rx=\"11\" ry=\"11\" style=\"stroke: #A80036; stroke-width: 1.0;\"/><path d=\"M570.375,61.8906 L570.375,54.0781 L572.8281,54.0781 L572.8281,62.5156 Q572.8281,63.4375 573.2969,63.9688 Q573.7813,64.5 574.6094,64.5 Q575.4531,64.5 575.9219,63.9688 Q576.3906,63.4375 576.3906,62.5156 L576.3906,54.0781 L578.8438,54.0781 L578.8438,61.8906 Q578.8438,64.4219 577.8438,65.5625 Q576.8438,66.7031 574.6094,66.7031 Q572.3906,66.7031 571.375,65.5625 Q570.375,64.4219 570.375,61.8906 Z \"/><text fill=\"#000000\" font-family=\"sans-serif\" font-size=\"12\" font-style=\"italic\" lengthAdjust=\"spacingAndGlyphs\" textLength=\"69\" x=\"586.5\" y=\"57.1387\">«attribute»</text><text fill=\"#000000\" font-family=\"sans-serif\" font-size=\"12\" lengthAdjust=\"spacingAndGlyphs\" textLength=\"24\" x=\"609\" y=\"71.1074\">a: A</text><line style=\"stroke: #A80036; stroke-width: 1.5;\" x1=\"560.5\" x2=\"655.5\" y1=\"78.9375\" y2=\"78.9375\"/></a><!--MD5=[2156ba9850f5573cc1fc38a6a4b2f02b]\n",
       "class E7--><a href=\"psysml:04c0c290-1f5b-4b73-9b90-1720c7950e1a\" target=\"_top\" title=\"psysml:04c0c290-1f5b-4b73-9b90-1720c7950e1a\" xlink:actuate=\"onRequest\" xlink:href=\"psysml:04c0c290-1f5b-4b73-9b90-1720c7950e1a\" xlink:show=\"new\" xlink:title=\"psysml:04c0c290-1f5b-4b73-9b90-1720c7950e1a\" xlink:type=\"simple\"><rect fill=\"#FEFECE\" filter=\"url(#fxue3nd5u213b)\" height=\"45.9375\" id=\"E7\" rx=\"10\" ry=\"10\" style=\"stroke: #A80036; stroke-width: 1.5;\" width=\"97\" x=\"427.5\" y=\"41\"/><ellipse cx=\"442.5\" cy=\"59.9688\" fill=\"#FFA500\" rx=\"11\" ry=\"11\" style=\"stroke: #A80036; stroke-width: 1.0;\"/><path d=\"M438.375,61.8906 L438.375,54.0781 L440.8281,54.0781 L440.8281,62.5156 Q440.8281,63.4375 441.2969,63.9688 Q441.7813,64.5 442.6094,64.5 Q443.4531,64.5 443.9219,63.9688 Q444.3906,63.4375 444.3906,62.5156 L444.3906,54.0781 L446.8438,54.0781 L446.8438,61.8906 Q446.8438,64.4219 445.8438,65.5625 Q444.8438,66.7031 442.6094,66.7031 Q440.3906,66.7031 439.375,65.5625 Q438.375,64.4219 438.375,61.8906 Z \"/><text fill=\"#000000\" font-family=\"sans-serif\" font-size=\"12\" font-style=\"italic\" lengthAdjust=\"spacingAndGlyphs\" textLength=\"69\" x=\"454.5\" y=\"57.1387\">«attribute»</text><text fill=\"#000000\" font-family=\"sans-serif\" font-size=\"12\" lengthAdjust=\"spacingAndGlyphs\" textLength=\"4\" x=\"487\" y=\"71.1074\">f</text><line style=\"stroke: #A80036; stroke-width: 1.5;\" x1=\"428.5\" x2=\"523.5\" y1=\"78.9375\" y2=\"78.9375\"/></a><!--MD5=[b9389687b975829384b498ac4b7476b2]\n",
       "class E8--><a href=\"psysml:514c602a-a137-45fe-b85f-d9c421e6e02c\" target=\"_top\" title=\"psysml:514c602a-a137-45fe-b85f-d9c421e6e02c\" xlink:actuate=\"onRequest\" xlink:href=\"psysml:514c602a-a137-45fe-b85f-d9c421e6e02c\" xlink:show=\"new\" xlink:title=\"psysml:514c602a-a137-45fe-b85f-d9c421e6e02c\" xlink:type=\"simple\"><rect fill=\"#FEFECE\" filter=\"url(#fxue3nd5u213b)\" height=\"45.9375\" id=\"E8\" rx=\"10\" ry=\"10\" style=\"stroke: #A80036; stroke-width: 1.5;\" width=\"97\" x=\"295.5\" y=\"41\"/><ellipse cx=\"310.5\" cy=\"59.9688\" fill=\"#FFA500\" rx=\"11\" ry=\"11\" style=\"stroke: #A80036; stroke-width: 1.0;\"/><path d=\"M306.375,61.8906 L306.375,54.0781 L308.8281,54.0781 L308.8281,62.5156 Q308.8281,63.4375 309.2969,63.9688 Q309.7813,64.5 310.6094,64.5 Q311.4531,64.5 311.9219,63.9688 Q312.3906,63.4375 312.3906,62.5156 L312.3906,54.0781 L314.8438,54.0781 L314.8438,61.8906 Q314.8438,64.4219 313.8438,65.5625 Q312.8438,66.7031 310.6094,66.7031 Q308.3906,66.7031 307.375,65.5625 Q306.375,64.4219 306.375,61.8906 Z \"/><text fill=\"#000000\" font-family=\"sans-serif\" font-size=\"12\" font-style=\"italic\" lengthAdjust=\"spacingAndGlyphs\" textLength=\"69\" x=\"322.5\" y=\"57.1387\">«attribute»</text><text fill=\"#000000\" font-family=\"sans-serif\" font-size=\"12\" lengthAdjust=\"spacingAndGlyphs\" textLength=\"8\" x=\"353\" y=\"71.1074\">g</text><line style=\"stroke: #A80036; stroke-width: 1.5;\" x1=\"296.5\" x2=\"391.5\" y1=\"78.9375\" y2=\"78.9375\"/></a><!--MD5=[fd4143e9d270a159db93a4ea2a975926]\n",
       "class E9--><a href=\"psysml:1980a670-9bad-4a6e-b892-05e752677470\" target=\"_top\" title=\"psysml:1980a670-9bad-4a6e-b892-05e752677470\" xlink:actuate=\"onRequest\" xlink:href=\"psysml:1980a670-9bad-4a6e-b892-05e752677470\" xlink:show=\"new\" xlink:title=\"psysml:1980a670-9bad-4a6e-b892-05e752677470\" xlink:type=\"simple\"><rect fill=\"#FEFECE\" filter=\"url(#fxue3nd5u213b)\" height=\"45.9375\" id=\"E9\" rx=\"10\" ry=\"10\" style=\"stroke: #A80036; stroke-width: 1.5;\" width=\"97\" x=\"163.5\" y=\"41\"/><ellipse cx=\"178.5\" cy=\"59.9688\" fill=\"#FFA500\" rx=\"11\" ry=\"11\" style=\"stroke: #A80036; stroke-width: 1.0;\"/><path d=\"M174.375,61.8906 L174.375,54.0781 L176.8281,54.0781 L176.8281,62.5156 Q176.8281,63.4375 177.2969,63.9688 Q177.7813,64.5 178.6094,64.5 Q179.4531,64.5 179.9219,63.9688 Q180.3906,63.4375 180.3906,62.5156 L180.3906,54.0781 L182.8438,54.0781 L182.8438,61.8906 Q182.8438,64.4219 181.8438,65.5625 Q180.8438,66.7031 178.6094,66.7031 Q176.3906,66.7031 175.375,65.5625 Q174.375,64.4219 174.375,61.8906 Z \"/><text fill=\"#000000\" font-family=\"sans-serif\" font-size=\"12\" font-style=\"italic\" lengthAdjust=\"spacingAndGlyphs\" textLength=\"69\" x=\"190.5\" y=\"57.1387\">«attribute»</text><text fill=\"#000000\" font-family=\"sans-serif\" font-size=\"12\" lengthAdjust=\"spacingAndGlyphs\" textLength=\"8\" x=\"221\" y=\"71.1074\">b</text><line style=\"stroke: #A80036; stroke-width: 1.5;\" x1=\"164.5\" x2=\"259.5\" y1=\"78.9375\" y2=\"78.9375\"/></a><!--MD5=[96f4274e9e20536e775497830990834d]\n",
       "class E10--><a href=\"psysml:c3372668-2566-45ef-b19a-e891239054bd\" target=\"_top\" title=\"psysml:c3372668-2566-45ef-b19a-e891239054bd\" xlink:actuate=\"onRequest\" xlink:href=\"psysml:c3372668-2566-45ef-b19a-e891239054bd\" xlink:show=\"new\" xlink:title=\"psysml:c3372668-2566-45ef-b19a-e891239054bd\" xlink:type=\"simple\"><rect fill=\"#FEFECE\" filter=\"url(#fxue3nd5u213b)\" height=\"45.9375\" id=\"E10\" rx=\"10\" ry=\"10\" style=\"stroke: #A80036; stroke-width: 1.5;\" width=\"97\" x=\"31.5\" y=\"41\"/><ellipse cx=\"46.5\" cy=\"59.9688\" fill=\"#FFA500\" rx=\"11\" ry=\"11\" style=\"stroke: #A80036; stroke-width: 1.0;\"/><path d=\"M42.375,61.8906 L42.375,54.0781 L44.8281,54.0781 L44.8281,62.5156 Q44.8281,63.4375 45.2969,63.9688 Q45.7813,64.5 46.6094,64.5 Q47.4531,64.5 47.9219,63.9688 Q48.3906,63.4375 48.3906,62.5156 L48.3906,54.0781 L50.8438,54.0781 L50.8438,61.8906 Q50.8438,64.4219 49.8438,65.5625 Q48.8438,66.7031 46.6094,66.7031 Q44.3906,66.7031 43.375,65.5625 Q42.375,64.4219 42.375,61.8906 Z \"/><text fill=\"#000000\" font-family=\"sans-serif\" font-size=\"12\" font-style=\"italic\" lengthAdjust=\"spacingAndGlyphs\" textLength=\"69\" x=\"58.5\" y=\"57.1387\">«attribute»</text><text fill=\"#000000\" font-family=\"sans-serif\" font-size=\"12\" lengthAdjust=\"spacingAndGlyphs\" textLength=\"7\" x=\"89.5\" y=\"71.1074\">c</text><line style=\"stroke: #A80036; stroke-width: 1.5;\" x1=\"32.5\" x2=\"127.5\" y1=\"78.9375\" y2=\"78.9375\"/></a><text fill=\"#000000\" font-family=\"sans-serif\" font-size=\"14\" lengthAdjust=\"spacingAndGlyphs\" textLength=\"9\" x=\"695.5\" y=\"42.6982\">p</text><rect fill=\"#A80036\" height=\"12\" style=\"stroke: #FEFECE; stroke-width: 1.5;\" width=\"12\" x=\"694\" y=\"58\"/><text fill=\"#000000\" font-family=\"sans-serif\" font-size=\"14\" lengthAdjust=\"spacingAndGlyphs\" textLength=\"9\" x=\"742.5\" y=\"42.6982\">q</text><rect fill=\"#A80036\" height=\"12\" style=\"stroke: #FEFECE; stroke-width: 1.5;\" width=\"12\" x=\"741\" y=\"58\"/><!--MD5=[05d275557350bfb9b23a4ef7222b4c39]\n",
       "link E3 to E2--><a href=\"psysml:c16b553f-69e4-4116-bada-9588c5abaa28\" target=\"_top\" title=\"psysml:c16b553f-69e4-4116-bada-9588c5abaa28\" xlink:actuate=\"onRequest\" xlink:href=\"psysml:c16b553f-69e4-4116-bada-9588c5abaa28\" xlink:show=\"new\" xlink:title=\"psysml:c16b553f-69e4-4116-bada-9588c5abaa28\" xlink:type=\"simple\"><path d=\"M603.67,87.01 C601.45,98.3 598.64,112.62 595.87,126.7 \" fill=\"none\" id=\"E3-&gt;E2\" style=\"stroke: #A80036; stroke-width: 1.0;\"/><polygon fill=\"#FFFFFF\" points=\"591.93,146.75,588.7277,126.7564,602.4646,129.4577,591.93,146.75\" style=\"stroke: #A80036; stroke-width: 1.0;\"/><ellipse cx=\"591.7899\" cy=\"121.5494\" fill=\"#A80036\" rx=\"2\" ry=\"2\" style=\"stroke: #A80036; stroke-width: 1.0;\"/><ellipse cx=\"601.602\" cy=\"123.4789\" fill=\"#A80036\" rx=\"2\" ry=\"2\" style=\"stroke: #A80036; stroke-width: 1.0;\"/></a><!--MD5=[ecf973ca2477041e4fddd8fc4eb85751]\n",
       "@startuml\r\n",
       " \r\n",
       "package \"ParameterTest\" as E1  [[psysml:edb9bc9d-436b-4f02-a049-a38172af8e0d ]]  {\r\n",
       "comp def \"A\" as E2  <<(D,brown)attribute def>> [[psysml:72c120f1-27bf-4069-82f6-2517ea0440e6 ]] {\r\n",
       "x: String\r\n",
       "y: A\r\n",
       "}\r\n",
       "comp usage \"a: A\" as E3  <<(U,orange)attribute>> [[psysml:449a2126-050e-4d76-9596-2419df0cfe8a ]] {\r\n",
       "}\r\n",
       "rec def \"F\" as E4  <<(D,brown)calculation def>> [[psysml:42a33a96-c599-425f-a532-027e99d4f603 ]] {\r\n",
       "portin \"p\" as E5  [[psysml:7844d093-18d6-4bcd-8bc7-6ee8559e13ae ]] \r\n",
       "portin \"q\" as E6  [[psysml:60bdf07c-a2db-456e-a058-70cb9f3de468 ]] \r\n",
       "}\r\n",
       "\r\n",
       "comp usage \"f\" as E7  <<(U,orange)attribute>> [[psysml:04c0c290-1f5b-4b73-9b90-1720c7950e1a ]] {\r\n",
       "}\r\n",
       "comp usage \"g\" as E8  <<(U,orange)attribute>> [[psysml:514c602a-a137-45fe-b85f-d9c421e6e02c ]] {\r\n",
       "}\r\n",
       "comp usage \"b\" as E9  <<(U,orange)attribute>> [[psysml:1980a670-9bad-4a6e-b892-05e752677470 ]] {\r\n",
       "}\r\n",
       "comp usage \"c\" as E10  <<(U,orange)attribute>> [[psysml:c3372668-2566-45ef-b19a-e891239054bd ]] {\r\n",
       "}\r\n",
       "E3 - -:|> E2 [[psysml:c16b553f-69e4-4116-bada-9588c5abaa28 ]] \r\n",
       "}\r\n",
       "@enduml\r\n",
       "\n",
       "PlantUML version 1.2020.13(Sat Jun 13 12:26:38 UTC 2020)\n",
       "(EPL source distribution)\n",
       "Java Runtime: OpenJDK Runtime Environment\n",
       "JVM: OpenJDK 64-Bit Server VM\n",
       "Default Encoding: UTF-8\n",
       "Language: en\n",
       "Country: null\n",
       "--></g></svg>"
      ]
     },
     "execution_count": 30,
     "metadata": {},
     "output_type": "execute_result"
    }
   ],
   "source": [
    "%viz --style=\"PLANTUML\" --view=\"Default\" \"ParameterTest\""
   ]
  },
  {
   "cell_type": "code",
   "execution_count": 31,
   "id": "stunning-luxembourg",
   "metadata": {
    "execution": {
     "iopub.execute_input": "2021-03-25T13:44:02.702096Z",
     "iopub.status.busy": "2021-03-25T13:44:02.701626Z",
     "iopub.status.idle": "2021-03-25T13:44:02.857901Z",
     "shell.execute_reply": "2021-03-25T13:44:02.857501Z"
    }
   },
   "outputs": [
    {
     "data": {
      "image/svg+xml": [
       "<?xml version=\"1.0\" encoding=\"UTF-8\" standalone=\"no\"?><svg xmlns=\"http://www.w3.org/2000/svg\" xmlns:xlink=\"http://www.w3.org/1999/xlink\" contentScriptType=\"application/ecmascript\" contentStyleType=\"text/css\" height=\"264px\" preserveAspectRatio=\"none\" style=\"width:864px;height:264px;\" version=\"1.1\" viewBox=\"0 0 864 264\" width=\"864px\" zoomAndPan=\"magnify\"><defs><filter height=\"300%\" id=\"f1fiynd71nh5aw\" width=\"300%\" x=\"-1\" y=\"-1\"><feGaussianBlur result=\"blurOut\" stdDeviation=\"2.0\"/><feColorMatrix in=\"blurOut\" result=\"blurOut2\" type=\"matrix\" values=\"0 0 0 0 0 0 0 0 0 0 0 0 0 0 0 0 0 0 .4 0\"/><feOffset dx=\"4.0\" dy=\"4.0\" in=\"blurOut2\" result=\"blurOut3\"/><feBlend in=\"SourceGraphic\" in2=\"blurOut3\" mode=\"normal\"/></filter></defs><g><!--MD5=[fbc87193dbaf4d95561dea2c320d4a47]\n",
       "cluster E1--><a href=\"psysml:edb9bc9d-436b-4f02-a049-a38172af8e0d\" target=\"_top\" title=\"psysml:edb9bc9d-436b-4f02-a049-a38172af8e0d\" xlink:actuate=\"onRequest\" xlink:href=\"psysml:edb9bc9d-436b-4f02-a049-a38172af8e0d\" xlink:show=\"new\" xlink:title=\"psysml:edb9bc9d-436b-4f02-a049-a38172af8e0d\" xlink:type=\"simple\"><polygon fill=\"#FFFFFF\" filter=\"url(#f1fiynd71nh5aw)\" points=\"16,6,139,6,146,28.2969,842,28.2969,842,252,16,252,16,6\" style=\"stroke: #000000; stroke-width: 1.5;\"/><line style=\"stroke: #000000; stroke-width: 1.5;\" x1=\"16\" x2=\"146\" y1=\"28.2969\" y2=\"28.2969\"/><text fill=\"#000000\" font-family=\"sans-serif\" font-size=\"14\" font-weight=\"bold\" lengthAdjust=\"spacingAndGlyphs\" textLength=\"117\" x=\"20\" y=\"20.9951\">ParameterTest</text></a><!--MD5=[b4997ac47864f28c2f74865a473b2911]\n",
       "class E2--><a href=\"psysml:72c120f1-27bf-4069-82f6-2517ea0440e6\" target=\"_top\" title=\"psysml:72c120f1-27bf-4069-82f6-2517ea0440e6\" xlink:actuate=\"onRequest\" xlink:href=\"psysml:72c120f1-27bf-4069-82f6-2517ea0440e6\" xlink:show=\"new\" xlink:title=\"psysml:72c120f1-27bf-4069-82f6-2517ea0440e6\" xlink:type=\"simple\"><rect fill=\"#FEFECE\" filter=\"url(#f1fiynd71nh5aw)\" height=\"71.5469\" id=\"E2\" style=\"stroke: #A80036; stroke-width: 1.5;\" width=\"121\" x=\"642.5\" y=\"164\"/><ellipse cx=\"657.5\" cy=\"182.9688\" fill=\"#A52A2A\" rx=\"11\" ry=\"11\" style=\"stroke: #A80036; stroke-width: 1.0;\"/><path d=\"M657.0938,178.7813 L657.0938,186.7656 L657.75,186.7656 Q659.1875,186.7656 659.7969,185.8594 Q660.4219,184.9375 660.4219,182.7656 Q660.4219,180.5938 659.7969,179.6875 Q659.1875,178.7813 657.75,178.7813 L657.0938,178.7813 Z M654.6406,176.5781 L657.2656,176.5781 Q660.2969,176.5781 661.625,178.0313 Q662.9688,179.4688 662.9688,182.7656 Q662.9688,186.0625 661.625,187.5156 Q660.2969,188.9688 657.2656,188.9688 L654.6406,188.9688 L654.6406,176.5781 Z \"/><text fill=\"#000000\" font-family=\"sans-serif\" font-size=\"12\" font-style=\"italic\" lengthAdjust=\"spacingAndGlyphs\" textLength=\"93\" x=\"669.5\" y=\"180.1387\">«attribute def»</text><text fill=\"#000000\" font-family=\"sans-serif\" font-size=\"12\" lengthAdjust=\"spacingAndGlyphs\" textLength=\"8\" x=\"712\" y=\"194.1074\">A</text><line style=\"stroke: #A80036; stroke-width: 1.5;\" x1=\"643.5\" x2=\"762.5\" y1=\"201.9375\" y2=\"201.9375\"/><text fill=\"#000000\" font-family=\"sans-serif\" font-size=\"11\" lengthAdjust=\"spacingAndGlyphs\" textLength=\"48\" x=\"648.5\" y=\"216.1479\">x: String</text><text fill=\"#000000\" font-family=\"sans-serif\" font-size=\"11\" lengthAdjust=\"spacingAndGlyphs\" textLength=\"21\" x=\"648.5\" y=\"228.9526\">y: A</text></a><!--MD5=[09b614a08d8cba4a07c9adeb5e0fee81]\n",
       "class E3--><a href=\"psysml:449a2126-050e-4d76-9596-2419df0cfe8a\" target=\"_top\" title=\"psysml:449a2126-050e-4d76-9596-2419df0cfe8a\" xlink:actuate=\"onRequest\" xlink:href=\"psysml:449a2126-050e-4d76-9596-2419df0cfe8a\" xlink:show=\"new\" xlink:title=\"psysml:449a2126-050e-4d76-9596-2419df0cfe8a\" xlink:type=\"simple\"><rect fill=\"#FEFECE\" filter=\"url(#f1fiynd71nh5aw)\" height=\"45.9375\" id=\"E3\" rx=\"10\" ry=\"10\" style=\"stroke: #A80036; stroke-width: 1.5;\" width=\"97\" x=\"729.5\" y=\"41\"/><ellipse cx=\"744.5\" cy=\"59.9688\" fill=\"#FFA500\" rx=\"11\" ry=\"11\" style=\"stroke: #A80036; stroke-width: 1.0;\"/><path d=\"M740.375,61.8906 L740.375,54.0781 L742.8281,54.0781 L742.8281,62.5156 Q742.8281,63.4375 743.2969,63.9688 Q743.7813,64.5 744.6094,64.5 Q745.4531,64.5 745.9219,63.9688 Q746.3906,63.4375 746.3906,62.5156 L746.3906,54.0781 L748.8438,54.0781 L748.8438,61.8906 Q748.8438,64.4219 747.8438,65.5625 Q746.8438,66.7031 744.6094,66.7031 Q742.3906,66.7031 741.375,65.5625 Q740.375,64.4219 740.375,61.8906 Z \"/><text fill=\"#000000\" font-family=\"sans-serif\" font-size=\"12\" font-style=\"italic\" lengthAdjust=\"spacingAndGlyphs\" textLength=\"69\" x=\"756.5\" y=\"57.1387\">«attribute»</text><text fill=\"#000000\" font-family=\"sans-serif\" font-size=\"12\" lengthAdjust=\"spacingAndGlyphs\" textLength=\"24\" x=\"779\" y=\"71.1074\">a: A</text><line style=\"stroke: #A80036; stroke-width: 1.5;\" x1=\"730.5\" x2=\"825.5\" y1=\"78.9375\" y2=\"78.9375\"/></a><!--MD5=[ebbe1d658d1005bcc118a6aa81145e00]\n",
       "class E4--><a href=\"psysml:42a33a96-c599-425f-a532-027e99d4f603\" target=\"_top\" title=\"psysml:42a33a96-c599-425f-a532-027e99d4f603\" xlink:actuate=\"onRequest\" xlink:href=\"psysml:42a33a96-c599-425f-a532-027e99d4f603\" xlink:show=\"new\" xlink:title=\"psysml:42a33a96-c599-425f-a532-027e99d4f603\" xlink:type=\"simple\"><rect fill=\"#FEFECE\" filter=\"url(#f1fiynd71nh5aw)\" height=\"45.9375\" id=\"E4\" style=\"stroke: #A80036; stroke-width: 1.5;\" width=\"134\" x=\"560\" y=\"41\"/><ellipse cx=\"575\" cy=\"59.9688\" fill=\"#A52A2A\" rx=\"11\" ry=\"11\" style=\"stroke: #A80036; stroke-width: 1.0;\"/><path d=\"M574.5938,55.7813 L574.5938,63.7656 L575.25,63.7656 Q576.6875,63.7656 577.2969,62.8594 Q577.9219,61.9375 577.9219,59.7656 Q577.9219,57.5938 577.2969,56.6875 Q576.6875,55.7813 575.25,55.7813 L574.5938,55.7813 Z M572.1406,53.5781 L574.7656,53.5781 Q577.7969,53.5781 579.125,55.0313 Q580.4688,56.4688 580.4688,59.7656 Q580.4688,63.0625 579.125,64.5156 Q577.7969,65.9688 574.7656,65.9688 L572.1406,65.9688 L572.1406,53.5781 Z \"/><text fill=\"#000000\" font-family=\"sans-serif\" font-size=\"12\" font-style=\"italic\" lengthAdjust=\"spacingAndGlyphs\" textLength=\"106\" x=\"587\" y=\"57.1387\">«calculation def»</text><text fill=\"#000000\" font-family=\"sans-serif\" font-size=\"12\" lengthAdjust=\"spacingAndGlyphs\" textLength=\"7\" x=\"636.5\" y=\"71.1074\">F</text><line style=\"stroke: #A80036; stroke-width: 1.5;\" x1=\"561\" x2=\"693\" y1=\"78.9375\" y2=\"78.9375\"/></a><!--MD5=[270fce915f116d4de14055a7c1d9a0f3]\n",
       "class E5--><a href=\"psysml:04c0c290-1f5b-4b73-9b90-1720c7950e1a\" target=\"_top\" title=\"psysml:04c0c290-1f5b-4b73-9b90-1720c7950e1a\" xlink:actuate=\"onRequest\" xlink:href=\"psysml:04c0c290-1f5b-4b73-9b90-1720c7950e1a\" xlink:show=\"new\" xlink:title=\"psysml:04c0c290-1f5b-4b73-9b90-1720c7950e1a\" xlink:type=\"simple\"><rect fill=\"#FEFECE\" filter=\"url(#f1fiynd71nh5aw)\" height=\"45.9375\" id=\"E5\" rx=\"10\" ry=\"10\" style=\"stroke: #A80036; stroke-width: 1.5;\" width=\"97\" x=\"427.5\" y=\"41\"/><ellipse cx=\"442.5\" cy=\"59.9688\" fill=\"#FFA500\" rx=\"11\" ry=\"11\" style=\"stroke: #A80036; stroke-width: 1.0;\"/><path d=\"M438.375,61.8906 L438.375,54.0781 L440.8281,54.0781 L440.8281,62.5156 Q440.8281,63.4375 441.2969,63.9688 Q441.7813,64.5 442.6094,64.5 Q443.4531,64.5 443.9219,63.9688 Q444.3906,63.4375 444.3906,62.5156 L444.3906,54.0781 L446.8438,54.0781 L446.8438,61.8906 Q446.8438,64.4219 445.8438,65.5625 Q444.8438,66.7031 442.6094,66.7031 Q440.3906,66.7031 439.375,65.5625 Q438.375,64.4219 438.375,61.8906 Z \"/><text fill=\"#000000\" font-family=\"sans-serif\" font-size=\"12\" font-style=\"italic\" lengthAdjust=\"spacingAndGlyphs\" textLength=\"69\" x=\"454.5\" y=\"57.1387\">«attribute»</text><text fill=\"#000000\" font-family=\"sans-serif\" font-size=\"12\" lengthAdjust=\"spacingAndGlyphs\" textLength=\"4\" x=\"487\" y=\"71.1074\">f</text><line style=\"stroke: #A80036; stroke-width: 1.5;\" x1=\"428.5\" x2=\"523.5\" y1=\"78.9375\" y2=\"78.9375\"/></a><!--MD5=[60a26617385b1d2d0262a64233df1f8d]\n",
       "class E6--><a href=\"psysml:514c602a-a137-45fe-b85f-d9c421e6e02c\" target=\"_top\" title=\"psysml:514c602a-a137-45fe-b85f-d9c421e6e02c\" xlink:actuate=\"onRequest\" xlink:href=\"psysml:514c602a-a137-45fe-b85f-d9c421e6e02c\" xlink:show=\"new\" xlink:title=\"psysml:514c602a-a137-45fe-b85f-d9c421e6e02c\" xlink:type=\"simple\"><rect fill=\"#FEFECE\" filter=\"url(#f1fiynd71nh5aw)\" height=\"45.9375\" id=\"E6\" rx=\"10\" ry=\"10\" style=\"stroke: #A80036; stroke-width: 1.5;\" width=\"97\" x=\"295.5\" y=\"41\"/><ellipse cx=\"310.5\" cy=\"59.9688\" fill=\"#FFA500\" rx=\"11\" ry=\"11\" style=\"stroke: #A80036; stroke-width: 1.0;\"/><path d=\"M306.375,61.8906 L306.375,54.0781 L308.8281,54.0781 L308.8281,62.5156 Q308.8281,63.4375 309.2969,63.9688 Q309.7813,64.5 310.6094,64.5 Q311.4531,64.5 311.9219,63.9688 Q312.3906,63.4375 312.3906,62.5156 L312.3906,54.0781 L314.8438,54.0781 L314.8438,61.8906 Q314.8438,64.4219 313.8438,65.5625 Q312.8438,66.7031 310.6094,66.7031 Q308.3906,66.7031 307.375,65.5625 Q306.375,64.4219 306.375,61.8906 Z \"/><text fill=\"#000000\" font-family=\"sans-serif\" font-size=\"12\" font-style=\"italic\" lengthAdjust=\"spacingAndGlyphs\" textLength=\"69\" x=\"322.5\" y=\"57.1387\">«attribute»</text><text fill=\"#000000\" font-family=\"sans-serif\" font-size=\"12\" lengthAdjust=\"spacingAndGlyphs\" textLength=\"8\" x=\"353\" y=\"71.1074\">g</text><line style=\"stroke: #A80036; stroke-width: 1.5;\" x1=\"296.5\" x2=\"391.5\" y1=\"78.9375\" y2=\"78.9375\"/></a><!--MD5=[2156ba9850f5573cc1fc38a6a4b2f02b]\n",
       "class E7--><a href=\"psysml:1980a670-9bad-4a6e-b892-05e752677470\" target=\"_top\" title=\"psysml:1980a670-9bad-4a6e-b892-05e752677470\" xlink:actuate=\"onRequest\" xlink:href=\"psysml:1980a670-9bad-4a6e-b892-05e752677470\" xlink:show=\"new\" xlink:title=\"psysml:1980a670-9bad-4a6e-b892-05e752677470\" xlink:type=\"simple\"><rect fill=\"#FEFECE\" filter=\"url(#f1fiynd71nh5aw)\" height=\"45.9375\" id=\"E7\" rx=\"10\" ry=\"10\" style=\"stroke: #A80036; stroke-width: 1.5;\" width=\"97\" x=\"163.5\" y=\"41\"/><ellipse cx=\"178.5\" cy=\"59.9688\" fill=\"#FFA500\" rx=\"11\" ry=\"11\" style=\"stroke: #A80036; stroke-width: 1.0;\"/><path d=\"M174.375,61.8906 L174.375,54.0781 L176.8281,54.0781 L176.8281,62.5156 Q176.8281,63.4375 177.2969,63.9688 Q177.7813,64.5 178.6094,64.5 Q179.4531,64.5 179.9219,63.9688 Q180.3906,63.4375 180.3906,62.5156 L180.3906,54.0781 L182.8438,54.0781 L182.8438,61.8906 Q182.8438,64.4219 181.8438,65.5625 Q180.8438,66.7031 178.6094,66.7031 Q176.3906,66.7031 175.375,65.5625 Q174.375,64.4219 174.375,61.8906 Z \"/><text fill=\"#000000\" font-family=\"sans-serif\" font-size=\"12\" font-style=\"italic\" lengthAdjust=\"spacingAndGlyphs\" textLength=\"69\" x=\"190.5\" y=\"57.1387\">«attribute»</text><text fill=\"#000000\" font-family=\"sans-serif\" font-size=\"12\" lengthAdjust=\"spacingAndGlyphs\" textLength=\"8\" x=\"221\" y=\"71.1074\">b</text><line style=\"stroke: #A80036; stroke-width: 1.5;\" x1=\"164.5\" x2=\"259.5\" y1=\"78.9375\" y2=\"78.9375\"/></a><!--MD5=[b9389687b975829384b498ac4b7476b2]\n",
       "class E8--><a href=\"psysml:c3372668-2566-45ef-b19a-e891239054bd\" target=\"_top\" title=\"psysml:c3372668-2566-45ef-b19a-e891239054bd\" xlink:actuate=\"onRequest\" xlink:href=\"psysml:c3372668-2566-45ef-b19a-e891239054bd\" xlink:show=\"new\" xlink:title=\"psysml:c3372668-2566-45ef-b19a-e891239054bd\" xlink:type=\"simple\"><rect fill=\"#FEFECE\" filter=\"url(#f1fiynd71nh5aw)\" height=\"45.9375\" id=\"E8\" rx=\"10\" ry=\"10\" style=\"stroke: #A80036; stroke-width: 1.5;\" width=\"97\" x=\"31.5\" y=\"41\"/><ellipse cx=\"46.5\" cy=\"59.9688\" fill=\"#FFA500\" rx=\"11\" ry=\"11\" style=\"stroke: #A80036; stroke-width: 1.0;\"/><path d=\"M42.375,61.8906 L42.375,54.0781 L44.8281,54.0781 L44.8281,62.5156 Q44.8281,63.4375 45.2969,63.9688 Q45.7813,64.5 46.6094,64.5 Q47.4531,64.5 47.9219,63.9688 Q48.3906,63.4375 48.3906,62.5156 L48.3906,54.0781 L50.8438,54.0781 L50.8438,61.8906 Q50.8438,64.4219 49.8438,65.5625 Q48.8438,66.7031 46.6094,66.7031 Q44.3906,66.7031 43.375,65.5625 Q42.375,64.4219 42.375,61.8906 Z \"/><text fill=\"#000000\" font-family=\"sans-serif\" font-size=\"12\" font-style=\"italic\" lengthAdjust=\"spacingAndGlyphs\" textLength=\"69\" x=\"58.5\" y=\"57.1387\">«attribute»</text><text fill=\"#000000\" font-family=\"sans-serif\" font-size=\"12\" lengthAdjust=\"spacingAndGlyphs\" textLength=\"7\" x=\"89.5\" y=\"71.1074\">c</text><line style=\"stroke: #A80036; stroke-width: 1.5;\" x1=\"32.5\" x2=\"127.5\" y1=\"78.9375\" y2=\"78.9375\"/></a><!--MD5=[05d275557350bfb9b23a4ef7222b4c39]\n",
       "link E3 to E2--><a href=\"psysml:c16b553f-69e4-4116-bada-9588c5abaa28\" target=\"_top\" title=\"psysml:c16b553f-69e4-4116-bada-9588c5abaa28\" xlink:actuate=\"onRequest\" xlink:href=\"psysml:c16b553f-69e4-4116-bada-9588c5abaa28\" xlink:show=\"new\" xlink:title=\"psysml:c16b553f-69e4-4116-bada-9588c5abaa28\" xlink:type=\"simple\"><path d=\"M765.62,87.13 C756.62,103.2 744.05,125.65 732.54,146.23 \" fill=\"none\" id=\"E3-&gt;E2\" style=\"stroke: #A80036; stroke-width: 1.0;\"/><polygon fill=\"#FFFFFF\" points=\"722.6,163.99,725.7664,143.9907,737.9848,150.8253,722.6,163.99\" style=\"stroke: #A80036; stroke-width: 1.0;\"/><ellipse cx=\"730.2946\" cy=\"139.9924\" fill=\"#A80036\" rx=\"2\" ry=\"2\" style=\"stroke: #A80036; stroke-width: 1.0;\"/><ellipse cx=\"739.022\" cy=\"144.8743\" fill=\"#A80036\" rx=\"2\" ry=\"2\" style=\"stroke: #A80036; stroke-width: 1.0;\"/></a><!--MD5=[ddeed8deb2209213b62e6cfabaa108b2]\n",
       "reverse link E4 to E2--><a href=\"psysml:7844d093-18d6-4bcd-8bc7-6ee8559e13ae\" target=\"_top\" title=\"psysml:7844d093-18d6-4bcd-8bc7-6ee8559e13ae\" xlink:actuate=\"onRequest\" xlink:href=\"psysml:7844d093-18d6-4bcd-8bc7-6ee8559e13ae\" xlink:show=\"new\" xlink:title=\"psysml:7844d093-18d6-4bcd-8bc7-6ee8559e13ae\" xlink:type=\"simple\"><path d=\"M645.99,98.48 C657.31,118.44 671.67,143.76 683.14,163.99 \" fill=\"none\" id=\"E4&lt;-E2\" style=\"stroke: #A80036; stroke-width: 1.0;\"/><polygon fill=\"#FFFFFF\" points=\"639.55,87.13,639.0333,94.3226,645.4738,97.5659,645.9905,90.3734,639.55,87.13\" style=\"stroke: #A80036; stroke-width: 1.0;\"/><text fill=\"#000000\" font-family=\"sans-serif\" font-size=\"13\" lengthAdjust=\"spacingAndGlyphs\" textLength=\"8\" x=\"666\" y=\"130.0669\">p</text></a><!--MD5=[8b72c71b5ce37a7e6e32e757d4e25778]\n",
       "@startuml\r\n",
       " \r\n",
       "package \"ParameterTest\" as E1  [[psysml:edb9bc9d-436b-4f02-a049-a38172af8e0d ]]  {\r\n",
       "comp def \"A\" as E2  <<(D,brown)attribute def>> [[psysml:72c120f1-27bf-4069-82f6-2517ea0440e6 ]] {\r\n",
       "x: String\r\n",
       "y: A\r\n",
       "}\r\n",
       "comp usage \"a: A\" as E3  <<(U,orange)attribute>> [[psysml:449a2126-050e-4d76-9596-2419df0cfe8a ]] {\r\n",
       "}\r\n",
       "comp def \"F\" as E4  <<(D,brown)calculation def>> [[psysml:42a33a96-c599-425f-a532-027e99d4f603 ]] {\r\n",
       "}\r\n",
       "comp usage \"f\" as E5  <<(U,orange)attribute>> [[psysml:04c0c290-1f5b-4b73-9b90-1720c7950e1a ]] {\r\n",
       "}\r\n",
       "comp usage \"g\" as E6  <<(U,orange)attribute>> [[psysml:514c602a-a137-45fe-b85f-d9c421e6e02c ]] {\r\n",
       "}\r\n",
       "comp usage \"b\" as E7  <<(U,orange)attribute>> [[psysml:1980a670-9bad-4a6e-b892-05e752677470 ]] {\r\n",
       "}\r\n",
       "comp usage \"c\" as E8  <<(U,orange)attribute>> [[psysml:c3372668-2566-45ef-b19a-e891239054bd ]] {\r\n",
       "}\r\n",
       "E3 - -:|> E2 [[psysml:c16b553f-69e4-4116-bada-9588c5abaa28 ]] \r\n",
       "E4 o- - E2 [[psysml:7844d093-18d6-4bcd-8bc7-6ee8559e13ae ]] : p\r\n",
       "}\r\n",
       "@enduml\r\n",
       "\n",
       "PlantUML version 1.2020.13(Sat Jun 13 12:26:38 UTC 2020)\n",
       "(EPL source distribution)\n",
       "Java Runtime: OpenJDK Runtime Environment\n",
       "JVM: OpenJDK 64-Bit Server VM\n",
       "Default Encoding: UTF-8\n",
       "Language: en\n",
       "Country: null\n",
       "--></g></svg>"
      ]
     },
     "execution_count": 31,
     "metadata": {},
     "output_type": "execute_result"
    }
   ],
   "source": [
    "%viz --style=\"PLANTUML\" --view=\"Tree\" \"ParameterTest\""
   ]
  },
  {
   "cell_type": "code",
   "execution_count": 32,
   "id": "finished-assistant",
   "metadata": {
    "execution": {
     "iopub.execute_input": "2021-03-25T13:44:02.907473Z",
     "iopub.status.busy": "2021-03-25T13:44:02.907106Z",
     "iopub.status.idle": "2021-03-25T13:44:03.785107Z",
     "shell.execute_reply": "2021-03-25T13:44:03.783787Z"
    }
   },
   "outputs": [
    {
     "data": {
      "image/svg+xml": [
       "<?xml version=\"1.0\" encoding=\"UTF-8\" standalone=\"no\"?><svg xmlns=\"http://www.w3.org/2000/svg\" xmlns:xlink=\"http://www.w3.org/1999/xlink\" contentScriptType=\"application/ecmascript\" contentStyleType=\"text/css\" height=\"303px\" preserveAspectRatio=\"none\" style=\"width:603px;height:303px;background:#000000;\" version=\"1.1\" viewBox=\"0 0 603 303\" width=\"603px\" zoomAndPan=\"magnify\"><defs/><g><rect fill=\"#260009\" height=\"1\" style=\"stroke: #260009; stroke-width: 1.0;\" width=\"1\" x=\"0\" y=\"0\"/><rect fill=\"#FFFFFF\" height=\"205.5625\" style=\"stroke: #FFFFFF; stroke-width: 1.0;\" width=\"602\" x=\"0\" y=\"0\"/><text fill=\"#000000\" font-family=\"sans-serif\" font-size=\"12\" font-weight=\"bold\" lengthAdjust=\"spacingAndGlyphs\" textLength=\"159\" x=\"5\" y=\"16.1387\">Welcome to PlantUML!</text><text fill=\"#000000\" font-family=\"sans-serif\" font-size=\"12\" lengthAdjust=\"spacingAndGlyphs\" textLength=\"0\" x=\"9\" y=\"30.1074\"/><text fill=\"#000000\" font-family=\"sans-serif\" font-size=\"12\" lengthAdjust=\"spacingAndGlyphs\" textLength=\"293\" x=\"5\" y=\"44.0762\">If you use this software, you accept its license.</text><text fill=\"#000000\" font-family=\"sans-serif\" font-size=\"12\" lengthAdjust=\"spacingAndGlyphs\" textLength=\"107\" x=\"5\" y=\"58.0449\">(details by typing</text><text fill=\"#000000\" font-family=\"monospace\" font-size=\"12\" lengthAdjust=\"spacingAndGlyphs\" textLength=\"49\" x=\"116\" y=\"58.0449\">license</text><text fill=\"#000000\" font-family=\"sans-serif\" font-size=\"12\" lengthAdjust=\"spacingAndGlyphs\" textLength=\"56\" x=\"169\" y=\"58.0449\">keyword)</text><text fill=\"#000000\" font-family=\"sans-serif\" font-size=\"12\" lengthAdjust=\"spacingAndGlyphs\" textLength=\"0\" x=\"9\" y=\"72.0137\"/><text fill=\"#000000\" font-family=\"sans-serif\" font-size=\"12\" lengthAdjust=\"spacingAndGlyphs\" textLength=\"283\" x=\"5\" y=\"85.9824\">You can start with a simple UML Diagram like:</text><text fill=\"#000000\" font-family=\"sans-serif\" font-size=\"12\" lengthAdjust=\"spacingAndGlyphs\" textLength=\"0\" x=\"9\" y=\"99.9512\"/><text fill=\"#000000\" font-family=\"monospace\" font-size=\"12\" lengthAdjust=\"spacingAndGlyphs\" textLength=\"119\" x=\"5\" y=\"113.9199\">Bob-&gt;Alice: Hello</text><text fill=\"#000000\" font-family=\"sans-serif\" font-size=\"12\" lengthAdjust=\"spacingAndGlyphs\" textLength=\"0\" x=\"9\" y=\"127.8887\"/><text fill=\"#000000\" font-family=\"sans-serif\" font-size=\"12\" lengthAdjust=\"spacingAndGlyphs\" textLength=\"14\" x=\"5\" y=\"141.8574\">Or</text><text fill=\"#000000\" font-family=\"sans-serif\" font-size=\"12\" lengthAdjust=\"spacingAndGlyphs\" textLength=\"0\" x=\"9\" y=\"155.8262\"/><text fill=\"#000000\" font-family=\"monospace\" font-size=\"12\" lengthAdjust=\"spacingAndGlyphs\" textLength=\"91\" x=\"5\" y=\"169.7949\">class Example</text><text fill=\"#000000\" font-family=\"sans-serif\" font-size=\"12\" lengthAdjust=\"spacingAndGlyphs\" textLength=\"0\" x=\"9\" y=\"183.7637\"/><text fill=\"#000000\" font-family=\"sans-serif\" font-size=\"12\" lengthAdjust=\"spacingAndGlyphs\" textLength=\"349\" x=\"5\" y=\"197.7324\">You will find more information about PlantUML syntax on</text><text fill=\"#000000\" font-family=\"sans-serif\" font-size=\"12\" lengthAdjust=\"spacingAndGlyphs\" text-decoration=\"underline\" textLength=\"129\" x=\"358\" y=\"197.7324\">https://plantuml.com</text><image height=\"71\" width=\"80\" x=\"516\" xlink:href=\"data:image/png;base64,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\" y=\"6\"/><rect fill=\"#000000\" height=\"96.4844\" style=\"stroke: #000000; stroke-width: 1.0;\" width=\"602\" x=\"0\" y=\"205.5625\"/><rect fill=\"#33FF02\" height=\"21.2969\" style=\"stroke: #33FF02; stroke-width: 1.0;\" width=\"170\" x=\"5\" y=\"210.5625\"/><text fill=\"#000000\" font-family=\"sans-serif\" font-size=\"14\" font-weight=\"bold\" lengthAdjust=\"spacingAndGlyphs\" textLength=\"168\" x=\"6\" y=\"225.5625\">[From string (line 2) ]</text><text fill=\"#33FF02\" font-family=\"sans-serif\" font-size=\"14\" font-weight=\"bold\" lengthAdjust=\"spacingAndGlyphs\" textLength=\"0\" x=\"10\" y=\"245.8594\"/><text fill=\"#33FF02\" font-family=\"sans-serif\" font-size=\"14\" font-weight=\"bold\" lengthAdjust=\"spacingAndGlyphs\" textLength=\"79\" x=\"5\" y=\"262.1563\">@startuml</text><text fill=\"#33FF02\" font-family=\"sans-serif\" font-size=\"14\" font-weight=\"bold\" lengthAdjust=\"spacingAndGlyphs\" textLength=\"0\" x=\"10\" y=\"278.4531\"/><text fill=\"#FF0000\" font-family=\"sans-serif\" font-size=\"14\" font-weight=\"bold\" lengthAdjust=\"spacingAndGlyphs\" textLength=\"142\" x=\"10\" y=\"294.75\">Empty description</text><!--MD5=[f59edd8218d337f74d0c332fc6737304]\n",
       "@startuml\r\n",
       " \r\n",
       "@enduml\r\n",
       "\n",
       "PlantUML version 1.2020.13(Sat Jun 13 12:26:38 UTC 2020)\n",
       "(EPL source distribution)\n",
       "Java Runtime: OpenJDK Runtime Environment\n",
       "JVM: OpenJDK 64-Bit Server VM\n",
       "Default Encoding: UTF-8\n",
       "Language: en\n",
       "Country: null\n",
       "--></g></svg>"
      ]
     },
     "execution_count": 32,
     "metadata": {},
     "output_type": "execute_result"
    }
   ],
   "source": [
    "%viz --style=\"PLANTUML\" --view=\"State\" \"ParameterTest\""
   ]
  },
  {
   "cell_type": "code",
   "execution_count": 33,
   "id": "fancy-matthew",
   "metadata": {
    "execution": {
     "iopub.execute_input": "2021-03-25T13:44:03.837549Z",
     "iopub.status.busy": "2021-03-25T13:44:03.836323Z",
     "iopub.status.idle": "2021-03-25T13:44:03.920767Z",
     "shell.execute_reply": "2021-03-25T13:44:03.919203Z"
    }
   },
   "outputs": [
    {
     "data": {
      "image/svg+xml": [
       "<?xml version=\"1.0\" encoding=\"UTF-8\" standalone=\"no\"?><svg xmlns=\"http://www.w3.org/2000/svg\" xmlns:xlink=\"http://www.w3.org/1999/xlink\" contentScriptType=\"application/ecmascript\" contentStyleType=\"text/css\" height=\"112px\" preserveAspectRatio=\"none\" style=\"width:1056px;height:112px;\" version=\"1.1\" viewBox=\"0 0 1056 112\" width=\"1056px\" zoomAndPan=\"magnify\"><defs><filter height=\"300%\" id=\"f7yi4473fskin\" width=\"300%\" x=\"-1\" y=\"-1\"><feGaussianBlur result=\"blurOut\" stdDeviation=\"2.0\"/><feColorMatrix in=\"blurOut\" result=\"blurOut2\" type=\"matrix\" values=\"0 0 0 0 0 0 0 0 0 0 0 0 0 0 0 0 0 0 .4 0\"/><feOffset dx=\"4.0\" dy=\"4.0\" in=\"blurOut2\" result=\"blurOut3\"/><feBlend in=\"SourceGraphic\" in2=\"blurOut3\" mode=\"normal\"/></filter></defs><g><!--MD5=[fbc87193dbaf4d95561dea2c320d4a47]\n",
       "cluster E1--><a href=\"psysml:edb9bc9d-436b-4f02-a049-a38172af8e0d\" target=\"_top\" title=\"psysml:edb9bc9d-436b-4f02-a049-a38172af8e0d\" xlink:actuate=\"onRequest\" xlink:href=\"psysml:edb9bc9d-436b-4f02-a049-a38172af8e0d\" xlink:show=\"new\" xlink:title=\"psysml:edb9bc9d-436b-4f02-a049-a38172af8e0d\" xlink:type=\"simple\"><polygon fill=\"#FFFFFF\" filter=\"url(#f7yi4473fskin)\" points=\"16,6,139,6,146,28.2969,1034,28.2969,1034,100,16,100,16,6\" style=\"stroke: #000000; stroke-width: 1.5;\"/><line style=\"stroke: #000000; stroke-width: 1.5;\" x1=\"16\" x2=\"146\" y1=\"28.2969\" y2=\"28.2969\"/><text fill=\"#000000\" font-family=\"sans-serif\" font-size=\"14\" font-weight=\"bold\" lengthAdjust=\"spacingAndGlyphs\" textLength=\"117\" x=\"20\" y=\"20.9951\">ParameterTest</text></a><g id=\"E1.E2\"><a href=\"psysml:72c120f1-27bf-4069-82f6-2517ea0440e6\" target=\"_top\" title=\"psysml:72c120f1-27bf-4069-82f6-2517ea0440e6\" xlink:actuate=\"onRequest\" xlink:href=\"psysml:72c120f1-27bf-4069-82f6-2517ea0440e6\" xlink:show=\"new\" xlink:title=\"psysml:72c120f1-27bf-4069-82f6-2517ea0440e6\" xlink:type=\"simple\"><rect fill=\"#FEFECE\" filter=\"url(#f7yi4473fskin)\" height=\"42.9375\" id=\"E2\" style=\"stroke: #A80036; stroke-width: 1.5;\" width=\"126\" x=\"892\" y=\"41\"/><ellipse cx=\"909.25\" cy=\"59.9688\" fill=\"#A52A2A\" rx=\"11\" ry=\"11\" style=\"stroke: #A80036; stroke-width: 1.0;\"/><path d=\"M908.8438,55.7813 L908.8438,63.7656 L909.5,63.7656 Q910.9375,63.7656 911.5469,62.8594 Q912.1719,61.9375 912.1719,59.7656 Q912.1719,57.5938 911.5469,56.6875 Q910.9375,55.7813 909.5,55.7813 L908.8438,55.7813 Z M906.3906,53.5781 L909.0156,53.5781 Q912.0469,53.5781 913.375,55.0313 Q914.7188,56.4688 914.7188,59.7656 Q914.7188,63.0625 913.375,64.5156 Q912.0469,65.9688 909.0156,65.9688 L906.3906,65.9688 L906.3906,53.5781 Z \"/><text fill=\"#000000\" font-family=\"sans-serif\" font-size=\"12\" font-style=\"italic\" lengthAdjust=\"spacingAndGlyphs\" textLength=\"93\" x=\"921.75\" y=\"57.1387\">«attribute def»</text><text fill=\"#000000\" font-family=\"sans-serif\" font-size=\"12\" lengthAdjust=\"spacingAndGlyphs\" textLength=\"8\" x=\"964.25\" y=\"71.1074\">A</text></a></g><g id=\"E1.E4\"><a href=\"psysml:42a33a96-c599-425f-a532-027e99d4f603\" target=\"_top\" title=\"psysml:42a33a96-c599-425f-a532-027e99d4f603\" xlink:actuate=\"onRequest\" xlink:href=\"psysml:42a33a96-c599-425f-a532-027e99d4f603\" xlink:show=\"new\" xlink:title=\"psysml:42a33a96-c599-425f-a532-027e99d4f603\" xlink:type=\"simple\"><rect fill=\"#FEFECE\" filter=\"url(#f7yi4473fskin)\" height=\"42.9375\" id=\"E4\" style=\"stroke: #A80036; stroke-width: 1.5;\" width=\"139\" x=\"717.5\" y=\"41\"/><ellipse cx=\"734.75\" cy=\"59.9688\" fill=\"#A52A2A\" rx=\"11\" ry=\"11\" style=\"stroke: #A80036; stroke-width: 1.0;\"/><path d=\"M734.3438,55.7813 L734.3438,63.7656 L735,63.7656 Q736.4375,63.7656 737.0469,62.8594 Q737.6719,61.9375 737.6719,59.7656 Q737.6719,57.5938 737.0469,56.6875 Q736.4375,55.7813 735,55.7813 L734.3438,55.7813 Z M731.8906,53.5781 L734.5156,53.5781 Q737.5469,53.5781 738.875,55.0313 Q740.2188,56.4688 740.2188,59.7656 Q740.2188,63.0625 738.875,64.5156 Q737.5469,65.9688 734.5156,65.9688 L731.8906,65.9688 L731.8906,53.5781 Z \"/><text fill=\"#000000\" font-family=\"sans-serif\" font-size=\"12\" font-style=\"italic\" lengthAdjust=\"spacingAndGlyphs\" textLength=\"106\" x=\"747.25\" y=\"57.1387\">«calculation def»</text><text fill=\"#000000\" font-family=\"sans-serif\" font-size=\"12\" lengthAdjust=\"spacingAndGlyphs\" textLength=\"7\" x=\"796.75\" y=\"71.1074\">F</text></a></g><g id=\"E1.E3\"><a href=\"psysml:449a2126-050e-4d76-9596-2419df0cfe8a\" target=\"_top\" title=\"psysml:449a2126-050e-4d76-9596-2419df0cfe8a\" xlink:actuate=\"onRequest\" xlink:href=\"psysml:449a2126-050e-4d76-9596-2419df0cfe8a\" xlink:show=\"new\" xlink:title=\"psysml:449a2126-050e-4d76-9596-2419df0cfe8a\" xlink:type=\"simple\"><rect fill=\"#FEFECE\" filter=\"url(#f7yi4473fskin)\" height=\"42.9375\" id=\"E3\" rx=\"10\" ry=\"10\" style=\"stroke: #A80036; stroke-width: 1.5;\" width=\"102\" x=\"580\" y=\"41\"/><ellipse cx=\"597.25\" cy=\"59.9688\" fill=\"#FFA500\" rx=\"11\" ry=\"11\" style=\"stroke: #A80036; stroke-width: 1.0;\"/><path d=\"M593.125,61.8906 L593.125,54.0781 L595.5781,54.0781 L595.5781,62.5156 Q595.5781,63.4375 596.0469,63.9688 Q596.5313,64.5 597.3594,64.5 Q598.2031,64.5 598.6719,63.9688 Q599.1406,63.4375 599.1406,62.5156 L599.1406,54.0781 L601.5938,54.0781 L601.5938,61.8906 Q601.5938,64.4219 600.5938,65.5625 Q599.5938,66.7031 597.3594,66.7031 Q595.1406,66.7031 594.125,65.5625 Q593.125,64.4219 593.125,61.8906 Z \"/><text fill=\"#000000\" font-family=\"sans-serif\" font-size=\"12\" font-style=\"italic\" lengthAdjust=\"spacingAndGlyphs\" textLength=\"69\" x=\"609.75\" y=\"57.1387\">«attribute»</text><text fill=\"#000000\" font-family=\"sans-serif\" font-size=\"12\" lengthAdjust=\"spacingAndGlyphs\" textLength=\"24\" x=\"632.25\" y=\"71.1074\">a: A</text></a></g><g id=\"E1.E5\"><a href=\"psysml:04c0c290-1f5b-4b73-9b90-1720c7950e1a\" target=\"_top\" title=\"psysml:04c0c290-1f5b-4b73-9b90-1720c7950e1a\" xlink:actuate=\"onRequest\" xlink:href=\"psysml:04c0c290-1f5b-4b73-9b90-1720c7950e1a\" xlink:show=\"new\" xlink:title=\"psysml:04c0c290-1f5b-4b73-9b90-1720c7950e1a\" xlink:type=\"simple\"><rect fill=\"#FEFECE\" filter=\"url(#f7yi4473fskin)\" height=\"42.9375\" id=\"E5\" rx=\"10\" ry=\"10\" style=\"stroke: #A80036; stroke-width: 1.5;\" width=\"102\" x=\"443\" y=\"41\"/><ellipse cx=\"460.25\" cy=\"59.9688\" fill=\"#FFA500\" rx=\"11\" ry=\"11\" style=\"stroke: #A80036; stroke-width: 1.0;\"/><path d=\"M456.125,61.8906 L456.125,54.0781 L458.5781,54.0781 L458.5781,62.5156 Q458.5781,63.4375 459.0469,63.9688 Q459.5313,64.5 460.3594,64.5 Q461.2031,64.5 461.6719,63.9688 Q462.1406,63.4375 462.1406,62.5156 L462.1406,54.0781 L464.5938,54.0781 L464.5938,61.8906 Q464.5938,64.4219 463.5938,65.5625 Q462.5938,66.7031 460.3594,66.7031 Q458.1406,66.7031 457.125,65.5625 Q456.125,64.4219 456.125,61.8906 Z \"/><text fill=\"#000000\" font-family=\"sans-serif\" font-size=\"12\" font-style=\"italic\" lengthAdjust=\"spacingAndGlyphs\" textLength=\"69\" x=\"472.75\" y=\"57.1387\">«attribute»</text><text fill=\"#000000\" font-family=\"sans-serif\" font-size=\"12\" lengthAdjust=\"spacingAndGlyphs\" textLength=\"4\" x=\"505.25\" y=\"71.1074\">f</text></a></g><g id=\"E1.E6\"><a href=\"psysml:514c602a-a137-45fe-b85f-d9c421e6e02c\" target=\"_top\" title=\"psysml:514c602a-a137-45fe-b85f-d9c421e6e02c\" xlink:actuate=\"onRequest\" xlink:href=\"psysml:514c602a-a137-45fe-b85f-d9c421e6e02c\" xlink:show=\"new\" xlink:title=\"psysml:514c602a-a137-45fe-b85f-d9c421e6e02c\" xlink:type=\"simple\"><rect fill=\"#FEFECE\" filter=\"url(#f7yi4473fskin)\" height=\"42.9375\" id=\"E6\" rx=\"10\" ry=\"10\" style=\"stroke: #A80036; stroke-width: 1.5;\" width=\"102\" x=\"306\" y=\"41\"/><ellipse cx=\"323.25\" cy=\"59.9688\" fill=\"#FFA500\" rx=\"11\" ry=\"11\" style=\"stroke: #A80036; stroke-width: 1.0;\"/><path d=\"M319.125,61.8906 L319.125,54.0781 L321.5781,54.0781 L321.5781,62.5156 Q321.5781,63.4375 322.0469,63.9688 Q322.5313,64.5 323.3594,64.5 Q324.2031,64.5 324.6719,63.9688 Q325.1406,63.4375 325.1406,62.5156 L325.1406,54.0781 L327.5938,54.0781 L327.5938,61.8906 Q327.5938,64.4219 326.5938,65.5625 Q325.5938,66.7031 323.3594,66.7031 Q321.1406,66.7031 320.125,65.5625 Q319.125,64.4219 319.125,61.8906 Z \"/><text fill=\"#000000\" font-family=\"sans-serif\" font-size=\"12\" font-style=\"italic\" lengthAdjust=\"spacingAndGlyphs\" textLength=\"69\" x=\"335.75\" y=\"57.1387\">«attribute»</text><text fill=\"#000000\" font-family=\"sans-serif\" font-size=\"12\" lengthAdjust=\"spacingAndGlyphs\" textLength=\"8\" x=\"366.25\" y=\"71.1074\">g</text></a></g><g id=\"E1.E7\"><a href=\"psysml:1980a670-9bad-4a6e-b892-05e752677470\" target=\"_top\" title=\"psysml:1980a670-9bad-4a6e-b892-05e752677470\" xlink:actuate=\"onRequest\" xlink:href=\"psysml:1980a670-9bad-4a6e-b892-05e752677470\" xlink:show=\"new\" xlink:title=\"psysml:1980a670-9bad-4a6e-b892-05e752677470\" xlink:type=\"simple\"><rect fill=\"#FEFECE\" filter=\"url(#f7yi4473fskin)\" height=\"42.9375\" id=\"E7\" rx=\"10\" ry=\"10\" style=\"stroke: #A80036; stroke-width: 1.5;\" width=\"102\" x=\"169\" y=\"41\"/><ellipse cx=\"186.25\" cy=\"59.9688\" fill=\"#FFA500\" rx=\"11\" ry=\"11\" style=\"stroke: #A80036; stroke-width: 1.0;\"/><path d=\"M182.125,61.8906 L182.125,54.0781 L184.5781,54.0781 L184.5781,62.5156 Q184.5781,63.4375 185.0469,63.9688 Q185.5313,64.5 186.3594,64.5 Q187.2031,64.5 187.6719,63.9688 Q188.1406,63.4375 188.1406,62.5156 L188.1406,54.0781 L190.5938,54.0781 L190.5938,61.8906 Q190.5938,64.4219 189.5938,65.5625 Q188.5938,66.7031 186.3594,66.7031 Q184.1406,66.7031 183.125,65.5625 Q182.125,64.4219 182.125,61.8906 Z \"/><text fill=\"#000000\" font-family=\"sans-serif\" font-size=\"12\" font-style=\"italic\" lengthAdjust=\"spacingAndGlyphs\" textLength=\"69\" x=\"198.75\" y=\"57.1387\">«attribute»</text><text fill=\"#000000\" font-family=\"sans-serif\" font-size=\"12\" lengthAdjust=\"spacingAndGlyphs\" textLength=\"8\" x=\"229.25\" y=\"71.1074\">b</text></a></g><g id=\"E1.E8\"><a href=\"psysml:c3372668-2566-45ef-b19a-e891239054bd\" target=\"_top\" title=\"psysml:c3372668-2566-45ef-b19a-e891239054bd\" xlink:actuate=\"onRequest\" xlink:href=\"psysml:c3372668-2566-45ef-b19a-e891239054bd\" xlink:show=\"new\" xlink:title=\"psysml:c3372668-2566-45ef-b19a-e891239054bd\" xlink:type=\"simple\"><rect fill=\"#FEFECE\" filter=\"url(#f7yi4473fskin)\" height=\"42.9375\" id=\"E8\" rx=\"10\" ry=\"10\" style=\"stroke: #A80036; stroke-width: 1.5;\" width=\"102\" x=\"32\" y=\"41\"/><ellipse cx=\"49.25\" cy=\"59.9688\" fill=\"#FFA500\" rx=\"11\" ry=\"11\" style=\"stroke: #A80036; stroke-width: 1.0;\"/><path d=\"M45.125,61.8906 L45.125,54.0781 L47.5781,54.0781 L47.5781,62.5156 Q47.5781,63.4375 48.0469,63.9688 Q48.5313,64.5 49.3594,64.5 Q50.2031,64.5 50.6719,63.9688 Q51.1406,63.4375 51.1406,62.5156 L51.1406,54.0781 L53.5938,54.0781 L53.5938,61.8906 Q53.5938,64.4219 52.5938,65.5625 Q51.5938,66.7031 49.3594,66.7031 Q47.1406,66.7031 46.125,65.5625 Q45.125,64.4219 45.125,61.8906 Z \"/><text fill=\"#000000\" font-family=\"sans-serif\" font-size=\"12\" font-style=\"italic\" lengthAdjust=\"spacingAndGlyphs\" textLength=\"69\" x=\"61.75\" y=\"57.1387\">«attribute»</text><text fill=\"#000000\" font-family=\"sans-serif\" font-size=\"12\" lengthAdjust=\"spacingAndGlyphs\" textLength=\"7\" x=\"92.75\" y=\"71.1074\">c</text></a></g><!--MD5=[2703087f38c1d79ea7ada33d363cb230]\n",
       "@startuml\r\n",
       "skinparam ranksep 8\r\n",
       "skinparam rectangle {\r\n",
       " backgroundColor<<block>> LightGreen\r\n",
       "}\r\n",
       " \r\n",
       "package \"ParameterTest\" as E1  [[psysml:edb9bc9d-436b-4f02-a049-a38172af8e0d ]]  {\r\n",
       "def \"A\" as E2  <<(D,brown)attribute def>> [[psysml:72c120f1-27bf-4069-82f6-2517ea0440e6 ]] \r\n",
       "rec usage \"a: A\" as E3  <<(U,orange)attribute>> [[psysml:449a2126-050e-4d76-9596-2419df0cfe8a ]] {\r\n",
       "}\r\n",
       "def \"F\" as E4  <<(D,brown)calculation def>> [[psysml:42a33a96-c599-425f-a532-027e99d4f603 ]] \r\n",
       "rec usage \"f\" as E5  <<(U,orange)attribute>> [[psysml:04c0c290-1f5b-4b73-9b90-1720c7950e1a ]] {\r\n",
       "}\r\n",
       "rec usage \"g\" as E6  <<(U,orange)attribute>> [[psysml:514c602a-a137-45fe-b85f-d9c421e6e02c ]] {\r\n",
       "}\r\n",
       "rec usage \"b\" as E7  <<(U,orange)attribute>> [[psysml:1980a670-9bad-4a6e-b892-05e752677470 ]] {\r\n",
       "}\r\n",
       "rec usage \"c\" as E8  <<(U,orange)attribute>> [[psysml:c3372668-2566-45ef-b19a-e891239054bd ]] {\r\n",
       "}\r\n",
       "}\r\n",
       "@enduml\r\n",
       "\n",
       "PlantUML version 1.2020.13(Sat Jun 13 12:26:38 UTC 2020)\n",
       "(EPL source distribution)\n",
       "Java Runtime: OpenJDK Runtime Environment\n",
       "JVM: OpenJDK 64-Bit Server VM\n",
       "Default Encoding: UTF-8\n",
       "Language: en\n",
       "Country: null\n",
       "--></g></svg>"
      ]
     },
     "execution_count": 33,
     "metadata": {},
     "output_type": "execute_result"
    }
   ],
   "source": [
    "%viz --style=\"PLANTUML\" --view=\"Interconnection\" \"ParameterTest\""
   ]
  },
  {
   "cell_type": "code",
   "execution_count": 34,
   "id": "disturbed-harassment",
   "metadata": {
    "execution": {
     "iopub.execute_input": "2021-03-25T13:44:03.971246Z",
     "iopub.status.busy": "2021-03-25T13:44:03.970811Z",
     "iopub.status.idle": "2021-03-25T13:44:04.026092Z",
     "shell.execute_reply": "2021-03-25T13:44:04.025546Z"
    }
   },
   "outputs": [
    {
     "data": {
      "image/svg+xml": [
       "<?xml version=\"1.0\" encoding=\"UTF-8\" standalone=\"no\"?><svg xmlns=\"http://www.w3.org/2000/svg\" xmlns:xlink=\"http://www.w3.org/1999/xlink\" contentScriptType=\"application/ecmascript\" contentStyleType=\"text/css\" height=\"134px\" preserveAspectRatio=\"none\" style=\"width:174px;height:134px;\" version=\"1.1\" viewBox=\"0 0 174 134\" width=\"174px\" zoomAndPan=\"magnify\"><defs><filter height=\"300%\" id=\"f805191f3pjg2\" width=\"300%\" x=\"-1\" y=\"-1\"><feGaussianBlur result=\"blurOut\" stdDeviation=\"2.0\"/><feColorMatrix in=\"blurOut\" result=\"blurOut2\" type=\"matrix\" values=\"0 0 0 0 0 0 0 0 0 0 0 0 0 0 0 0 0 0 .4 0\"/><feOffset dx=\"4.0\" dy=\"4.0\" in=\"blurOut2\" result=\"blurOut3\"/><feBlend in=\"SourceGraphic\" in2=\"blurOut3\" mode=\"normal\"/></filter></defs><g><!--MD5=[fbc87193dbaf4d95561dea2c320d4a47]\n",
       "cluster E1--><a href=\"psysml:42a33a96-c599-425f-a532-027e99d4f603\" target=\"_top\" title=\"psysml:42a33a96-c599-425f-a532-027e99d4f603\" xlink:actuate=\"onRequest\" xlink:href=\"psysml:42a33a96-c599-425f-a532-027e99d4f603\" xlink:show=\"new\" xlink:title=\"psysml:42a33a96-c599-425f-a532-027e99d4f603\" xlink:type=\"simple\"><rect fill=\"#FFFFFF\" filter=\"url(#f805191f3pjg2)\" height=\"73\" id=\"E1\" style=\"stroke: #A80036; stroke-width: 1.5;\" width=\"148\" x=\"7\" y=\"42.0986\"/><rect fill=\"#FEFECE\" height=\"37.9375\" style=\"stroke: #A80036; stroke-width: 1.5;\" width=\"148\" x=\"7\" y=\"42.0986\"/><text fill=\"#000000\" font-family=\"sans-serif\" font-size=\"12\" font-style=\"italic\" lengthAdjust=\"spacingAndGlyphs\" textLength=\"106\" x=\"28\" y=\"58.2373\">«calculation def»</text><text fill=\"#000000\" font-family=\"sans-serif\" font-size=\"12\" lengthAdjust=\"spacingAndGlyphs\" textLength=\"7\" x=\"77.5\" y=\"72.2061\">F</text></a><text fill=\"#000000\" font-family=\"sans-serif\" font-size=\"14\" lengthAdjust=\"spacingAndGlyphs\" textLength=\"9\" x=\"20.5\" y=\"20.7969\">p</text><rect fill=\"#A80036\" height=\"12\" style=\"stroke: #FEFECE; stroke-width: 1.5;\" width=\"12\" x=\"19\" y=\"36.0986\"/><text fill=\"#000000\" font-family=\"sans-serif\" font-size=\"14\" lengthAdjust=\"spacingAndGlyphs\" textLength=\"9\" x=\"67.5\" y=\"20.7969\">q</text><rect fill=\"#A80036\" height=\"12\" style=\"stroke: #FEFECE; stroke-width: 1.5;\" width=\"12\" x=\"66\" y=\"36.0986\"/><!--MD5=[4b312806075797f07831e4b845113a93]\n",
       "@startuml\r\n",
       "skinparam ranksep 8\r\n",
       " \r\n",
       "rec def \"F\" as E1  <<(D,brown)calculation def>> [[psysml:42a33a96-c599-425f-a532-027e99d4f603 ]] {\r\n",
       "portin \"p\" as E2  [[psysml:7844d093-18d6-4bcd-8bc7-6ee8559e13ae ]] \r\n",
       "portin \"q\" as E3  [[psysml:60bdf07c-a2db-456e-a058-70cb9f3de468 ]] \r\n",
       "}\r\n",
       "\r\n",
       "@enduml\r\n",
       "\n",
       "PlantUML version 1.2020.13(Sat Jun 13 12:26:38 UTC 2020)\n",
       "(EPL source distribution)\n",
       "Java Runtime: OpenJDK Runtime Environment\n",
       "JVM: OpenJDK 64-Bit Server VM\n",
       "Default Encoding: UTF-8\n",
       "Language: en\n",
       "Country: null\n",
       "--></g></svg>"
      ]
     },
     "execution_count": 34,
     "metadata": {},
     "output_type": "execute_result"
    }
   ],
   "source": [
    "%viz --style=\"PLANTUML\" --view=\"Action\" \"ParameterTest\""
   ]
  },
  {
   "cell_type": "code",
   "execution_count": 35,
   "id": "approximate-minutes",
   "metadata": {
    "execution": {
     "iopub.execute_input": "2021-03-25T13:44:04.077065Z",
     "iopub.status.busy": "2021-03-25T13:44:04.076140Z",
     "iopub.status.idle": "2021-03-25T13:44:04.235696Z",
     "shell.execute_reply": "2021-03-25T13:44:04.235280Z"
    }
   },
   "outputs": [
    {
     "data": {
      "image/svg+xml": [
       "<?xml version=\"1.0\" encoding=\"UTF-8\" standalone=\"no\"?><svg xmlns=\"http://www.w3.org/2000/svg\" xmlns:xlink=\"http://www.w3.org/1999/xlink\" contentScriptType=\"application/ecmascript\" contentStyleType=\"text/css\" height=\"264px\" preserveAspectRatio=\"none\" style=\"width:864px;height:264px;\" version=\"1.1\" viewBox=\"0 0 864 264\" width=\"864px\" zoomAndPan=\"magnify\"><defs><filter height=\"300%\" id=\"f1fiynd71nh5aw\" width=\"300%\" x=\"-1\" y=\"-1\"><feGaussianBlur result=\"blurOut\" stdDeviation=\"2.0\"/><feColorMatrix in=\"blurOut\" result=\"blurOut2\" type=\"matrix\" values=\"0 0 0 0 0 0 0 0 0 0 0 0 0 0 0 0 0 0 .4 0\"/><feOffset dx=\"4.0\" dy=\"4.0\" in=\"blurOut2\" result=\"blurOut3\"/><feBlend in=\"SourceGraphic\" in2=\"blurOut3\" mode=\"normal\"/></filter></defs><g><!--MD5=[fbc87193dbaf4d95561dea2c320d4a47]\n",
       "cluster E1--><a href=\"psysml:edb9bc9d-436b-4f02-a049-a38172af8e0d\" target=\"_top\" title=\"psysml:edb9bc9d-436b-4f02-a049-a38172af8e0d\" xlink:actuate=\"onRequest\" xlink:href=\"psysml:edb9bc9d-436b-4f02-a049-a38172af8e0d\" xlink:show=\"new\" xlink:title=\"psysml:edb9bc9d-436b-4f02-a049-a38172af8e0d\" xlink:type=\"simple\"><polygon fill=\"#FFFFFF\" filter=\"url(#f1fiynd71nh5aw)\" points=\"16,6,139,6,146,28.2969,842,28.2969,842,252,16,252,16,6\" style=\"stroke: #000000; stroke-width: 1.5;\"/><line style=\"stroke: #000000; stroke-width: 1.5;\" x1=\"16\" x2=\"146\" y1=\"28.2969\" y2=\"28.2969\"/><text fill=\"#000000\" font-family=\"sans-serif\" font-size=\"14\" font-weight=\"bold\" lengthAdjust=\"spacingAndGlyphs\" textLength=\"117\" x=\"20\" y=\"20.9951\">ParameterTest</text></a><!--MD5=[b4997ac47864f28c2f74865a473b2911]\n",
       "class E2--><a href=\"psysml:72c120f1-27bf-4069-82f6-2517ea0440e6\" target=\"_top\" title=\"psysml:72c120f1-27bf-4069-82f6-2517ea0440e6\" xlink:actuate=\"onRequest\" xlink:href=\"psysml:72c120f1-27bf-4069-82f6-2517ea0440e6\" xlink:show=\"new\" xlink:title=\"psysml:72c120f1-27bf-4069-82f6-2517ea0440e6\" xlink:type=\"simple\"><rect fill=\"#FEFECE\" filter=\"url(#f1fiynd71nh5aw)\" height=\"71.5469\" id=\"E2\" style=\"stroke: #A80036; stroke-width: 1.5;\" width=\"121\" x=\"642.5\" y=\"164\"/><ellipse cx=\"657.5\" cy=\"182.9688\" fill=\"#A52A2A\" rx=\"11\" ry=\"11\" style=\"stroke: #A80036; stroke-width: 1.0;\"/><path d=\"M657.0938,178.7813 L657.0938,186.7656 L657.75,186.7656 Q659.1875,186.7656 659.7969,185.8594 Q660.4219,184.9375 660.4219,182.7656 Q660.4219,180.5938 659.7969,179.6875 Q659.1875,178.7813 657.75,178.7813 L657.0938,178.7813 Z M654.6406,176.5781 L657.2656,176.5781 Q660.2969,176.5781 661.625,178.0313 Q662.9688,179.4688 662.9688,182.7656 Q662.9688,186.0625 661.625,187.5156 Q660.2969,188.9688 657.2656,188.9688 L654.6406,188.9688 L654.6406,176.5781 Z \"/><text fill=\"#000000\" font-family=\"sans-serif\" font-size=\"12\" font-style=\"italic\" lengthAdjust=\"spacingAndGlyphs\" textLength=\"93\" x=\"669.5\" y=\"180.1387\">«attribute def»</text><text fill=\"#000000\" font-family=\"sans-serif\" font-size=\"12\" lengthAdjust=\"spacingAndGlyphs\" textLength=\"8\" x=\"712\" y=\"194.1074\">A</text><line style=\"stroke: #A80036; stroke-width: 1.5;\" x1=\"643.5\" x2=\"762.5\" y1=\"201.9375\" y2=\"201.9375\"/><text fill=\"#000000\" font-family=\"sans-serif\" font-size=\"11\" lengthAdjust=\"spacingAndGlyphs\" textLength=\"48\" x=\"648.5\" y=\"216.1479\">x: String</text><text fill=\"#000000\" font-family=\"sans-serif\" font-size=\"11\" lengthAdjust=\"spacingAndGlyphs\" textLength=\"21\" x=\"648.5\" y=\"228.9526\">y: A</text></a><!--MD5=[09b614a08d8cba4a07c9adeb5e0fee81]\n",
       "class E3--><a href=\"psysml:449a2126-050e-4d76-9596-2419df0cfe8a\" target=\"_top\" title=\"psysml:449a2126-050e-4d76-9596-2419df0cfe8a\" xlink:actuate=\"onRequest\" xlink:href=\"psysml:449a2126-050e-4d76-9596-2419df0cfe8a\" xlink:show=\"new\" xlink:title=\"psysml:449a2126-050e-4d76-9596-2419df0cfe8a\" xlink:type=\"simple\"><rect fill=\"#FEFECE\" filter=\"url(#f1fiynd71nh5aw)\" height=\"45.9375\" id=\"E3\" rx=\"10\" ry=\"10\" style=\"stroke: #A80036; stroke-width: 1.5;\" width=\"97\" x=\"729.5\" y=\"41\"/><ellipse cx=\"744.5\" cy=\"59.9688\" fill=\"#FFA500\" rx=\"11\" ry=\"11\" style=\"stroke: #A80036; stroke-width: 1.0;\"/><path d=\"M740.375,61.8906 L740.375,54.0781 L742.8281,54.0781 L742.8281,62.5156 Q742.8281,63.4375 743.2969,63.9688 Q743.7813,64.5 744.6094,64.5 Q745.4531,64.5 745.9219,63.9688 Q746.3906,63.4375 746.3906,62.5156 L746.3906,54.0781 L748.8438,54.0781 L748.8438,61.8906 Q748.8438,64.4219 747.8438,65.5625 Q746.8438,66.7031 744.6094,66.7031 Q742.3906,66.7031 741.375,65.5625 Q740.375,64.4219 740.375,61.8906 Z \"/><text fill=\"#000000\" font-family=\"sans-serif\" font-size=\"12\" font-style=\"italic\" lengthAdjust=\"spacingAndGlyphs\" textLength=\"69\" x=\"756.5\" y=\"57.1387\">«attribute»</text><text fill=\"#000000\" font-family=\"sans-serif\" font-size=\"12\" lengthAdjust=\"spacingAndGlyphs\" textLength=\"24\" x=\"779\" y=\"71.1074\">a: A</text><line style=\"stroke: #A80036; stroke-width: 1.5;\" x1=\"730.5\" x2=\"825.5\" y1=\"78.9375\" y2=\"78.9375\"/></a><!--MD5=[ebbe1d658d1005bcc118a6aa81145e00]\n",
       "class E4--><a href=\"psysml:42a33a96-c599-425f-a532-027e99d4f603\" target=\"_top\" title=\"psysml:42a33a96-c599-425f-a532-027e99d4f603\" xlink:actuate=\"onRequest\" xlink:href=\"psysml:42a33a96-c599-425f-a532-027e99d4f603\" xlink:show=\"new\" xlink:title=\"psysml:42a33a96-c599-425f-a532-027e99d4f603\" xlink:type=\"simple\"><rect fill=\"#FEFECE\" filter=\"url(#f1fiynd71nh5aw)\" height=\"45.9375\" id=\"E4\" style=\"stroke: #A80036; stroke-width: 1.5;\" width=\"134\" x=\"560\" y=\"41\"/><ellipse cx=\"575\" cy=\"59.9688\" fill=\"#A52A2A\" rx=\"11\" ry=\"11\" style=\"stroke: #A80036; stroke-width: 1.0;\"/><path d=\"M574.5938,55.7813 L574.5938,63.7656 L575.25,63.7656 Q576.6875,63.7656 577.2969,62.8594 Q577.9219,61.9375 577.9219,59.7656 Q577.9219,57.5938 577.2969,56.6875 Q576.6875,55.7813 575.25,55.7813 L574.5938,55.7813 Z M572.1406,53.5781 L574.7656,53.5781 Q577.7969,53.5781 579.125,55.0313 Q580.4688,56.4688 580.4688,59.7656 Q580.4688,63.0625 579.125,64.5156 Q577.7969,65.9688 574.7656,65.9688 L572.1406,65.9688 L572.1406,53.5781 Z \"/><text fill=\"#000000\" font-family=\"sans-serif\" font-size=\"12\" font-style=\"italic\" lengthAdjust=\"spacingAndGlyphs\" textLength=\"106\" x=\"587\" y=\"57.1387\">«calculation def»</text><text fill=\"#000000\" font-family=\"sans-serif\" font-size=\"12\" lengthAdjust=\"spacingAndGlyphs\" textLength=\"7\" x=\"636.5\" y=\"71.1074\">F</text><line style=\"stroke: #A80036; stroke-width: 1.5;\" x1=\"561\" x2=\"693\" y1=\"78.9375\" y2=\"78.9375\"/></a><!--MD5=[270fce915f116d4de14055a7c1d9a0f3]\n",
       "class E5--><a href=\"psysml:04c0c290-1f5b-4b73-9b90-1720c7950e1a\" target=\"_top\" title=\"psysml:04c0c290-1f5b-4b73-9b90-1720c7950e1a\" xlink:actuate=\"onRequest\" xlink:href=\"psysml:04c0c290-1f5b-4b73-9b90-1720c7950e1a\" xlink:show=\"new\" xlink:title=\"psysml:04c0c290-1f5b-4b73-9b90-1720c7950e1a\" xlink:type=\"simple\"><rect fill=\"#FEFECE\" filter=\"url(#f1fiynd71nh5aw)\" height=\"45.9375\" id=\"E5\" rx=\"10\" ry=\"10\" style=\"stroke: #A80036; stroke-width: 1.5;\" width=\"97\" x=\"427.5\" y=\"41\"/><ellipse cx=\"442.5\" cy=\"59.9688\" fill=\"#FFA500\" rx=\"11\" ry=\"11\" style=\"stroke: #A80036; stroke-width: 1.0;\"/><path d=\"M438.375,61.8906 L438.375,54.0781 L440.8281,54.0781 L440.8281,62.5156 Q440.8281,63.4375 441.2969,63.9688 Q441.7813,64.5 442.6094,64.5 Q443.4531,64.5 443.9219,63.9688 Q444.3906,63.4375 444.3906,62.5156 L444.3906,54.0781 L446.8438,54.0781 L446.8438,61.8906 Q446.8438,64.4219 445.8438,65.5625 Q444.8438,66.7031 442.6094,66.7031 Q440.3906,66.7031 439.375,65.5625 Q438.375,64.4219 438.375,61.8906 Z \"/><text fill=\"#000000\" font-family=\"sans-serif\" font-size=\"12\" font-style=\"italic\" lengthAdjust=\"spacingAndGlyphs\" textLength=\"69\" x=\"454.5\" y=\"57.1387\">«attribute»</text><text fill=\"#000000\" font-family=\"sans-serif\" font-size=\"12\" lengthAdjust=\"spacingAndGlyphs\" textLength=\"4\" x=\"487\" y=\"71.1074\">f</text><line style=\"stroke: #A80036; stroke-width: 1.5;\" x1=\"428.5\" x2=\"523.5\" y1=\"78.9375\" y2=\"78.9375\"/></a><!--MD5=[60a26617385b1d2d0262a64233df1f8d]\n",
       "class E6--><a href=\"psysml:514c602a-a137-45fe-b85f-d9c421e6e02c\" target=\"_top\" title=\"psysml:514c602a-a137-45fe-b85f-d9c421e6e02c\" xlink:actuate=\"onRequest\" xlink:href=\"psysml:514c602a-a137-45fe-b85f-d9c421e6e02c\" xlink:show=\"new\" xlink:title=\"psysml:514c602a-a137-45fe-b85f-d9c421e6e02c\" xlink:type=\"simple\"><rect fill=\"#FEFECE\" filter=\"url(#f1fiynd71nh5aw)\" height=\"45.9375\" id=\"E6\" rx=\"10\" ry=\"10\" style=\"stroke: #A80036; stroke-width: 1.5;\" width=\"97\" x=\"295.5\" y=\"41\"/><ellipse cx=\"310.5\" cy=\"59.9688\" fill=\"#FFA500\" rx=\"11\" ry=\"11\" style=\"stroke: #A80036; stroke-width: 1.0;\"/><path d=\"M306.375,61.8906 L306.375,54.0781 L308.8281,54.0781 L308.8281,62.5156 Q308.8281,63.4375 309.2969,63.9688 Q309.7813,64.5 310.6094,64.5 Q311.4531,64.5 311.9219,63.9688 Q312.3906,63.4375 312.3906,62.5156 L312.3906,54.0781 L314.8438,54.0781 L314.8438,61.8906 Q314.8438,64.4219 313.8438,65.5625 Q312.8438,66.7031 310.6094,66.7031 Q308.3906,66.7031 307.375,65.5625 Q306.375,64.4219 306.375,61.8906 Z \"/><text fill=\"#000000\" font-family=\"sans-serif\" font-size=\"12\" font-style=\"italic\" lengthAdjust=\"spacingAndGlyphs\" textLength=\"69\" x=\"322.5\" y=\"57.1387\">«attribute»</text><text fill=\"#000000\" font-family=\"sans-serif\" font-size=\"12\" lengthAdjust=\"spacingAndGlyphs\" textLength=\"8\" x=\"353\" y=\"71.1074\">g</text><line style=\"stroke: #A80036; stroke-width: 1.5;\" x1=\"296.5\" x2=\"391.5\" y1=\"78.9375\" y2=\"78.9375\"/></a><!--MD5=[2156ba9850f5573cc1fc38a6a4b2f02b]\n",
       "class E7--><a href=\"psysml:1980a670-9bad-4a6e-b892-05e752677470\" target=\"_top\" title=\"psysml:1980a670-9bad-4a6e-b892-05e752677470\" xlink:actuate=\"onRequest\" xlink:href=\"psysml:1980a670-9bad-4a6e-b892-05e752677470\" xlink:show=\"new\" xlink:title=\"psysml:1980a670-9bad-4a6e-b892-05e752677470\" xlink:type=\"simple\"><rect fill=\"#FEFECE\" filter=\"url(#f1fiynd71nh5aw)\" height=\"45.9375\" id=\"E7\" rx=\"10\" ry=\"10\" style=\"stroke: #A80036; stroke-width: 1.5;\" width=\"97\" x=\"163.5\" y=\"41\"/><ellipse cx=\"178.5\" cy=\"59.9688\" fill=\"#FFA500\" rx=\"11\" ry=\"11\" style=\"stroke: #A80036; stroke-width: 1.0;\"/><path d=\"M174.375,61.8906 L174.375,54.0781 L176.8281,54.0781 L176.8281,62.5156 Q176.8281,63.4375 177.2969,63.9688 Q177.7813,64.5 178.6094,64.5 Q179.4531,64.5 179.9219,63.9688 Q180.3906,63.4375 180.3906,62.5156 L180.3906,54.0781 L182.8438,54.0781 L182.8438,61.8906 Q182.8438,64.4219 181.8438,65.5625 Q180.8438,66.7031 178.6094,66.7031 Q176.3906,66.7031 175.375,65.5625 Q174.375,64.4219 174.375,61.8906 Z \"/><text fill=\"#000000\" font-family=\"sans-serif\" font-size=\"12\" font-style=\"italic\" lengthAdjust=\"spacingAndGlyphs\" textLength=\"69\" x=\"190.5\" y=\"57.1387\">«attribute»</text><text fill=\"#000000\" font-family=\"sans-serif\" font-size=\"12\" lengthAdjust=\"spacingAndGlyphs\" textLength=\"8\" x=\"221\" y=\"71.1074\">b</text><line style=\"stroke: #A80036; stroke-width: 1.5;\" x1=\"164.5\" x2=\"259.5\" y1=\"78.9375\" y2=\"78.9375\"/></a><!--MD5=[b9389687b975829384b498ac4b7476b2]\n",
       "class E8--><a href=\"psysml:c3372668-2566-45ef-b19a-e891239054bd\" target=\"_top\" title=\"psysml:c3372668-2566-45ef-b19a-e891239054bd\" xlink:actuate=\"onRequest\" xlink:href=\"psysml:c3372668-2566-45ef-b19a-e891239054bd\" xlink:show=\"new\" xlink:title=\"psysml:c3372668-2566-45ef-b19a-e891239054bd\" xlink:type=\"simple\"><rect fill=\"#FEFECE\" filter=\"url(#f1fiynd71nh5aw)\" height=\"45.9375\" id=\"E8\" rx=\"10\" ry=\"10\" style=\"stroke: #A80036; stroke-width: 1.5;\" width=\"97\" x=\"31.5\" y=\"41\"/><ellipse cx=\"46.5\" cy=\"59.9688\" fill=\"#FFA500\" rx=\"11\" ry=\"11\" style=\"stroke: #A80036; stroke-width: 1.0;\"/><path d=\"M42.375,61.8906 L42.375,54.0781 L44.8281,54.0781 L44.8281,62.5156 Q44.8281,63.4375 45.2969,63.9688 Q45.7813,64.5 46.6094,64.5 Q47.4531,64.5 47.9219,63.9688 Q48.3906,63.4375 48.3906,62.5156 L48.3906,54.0781 L50.8438,54.0781 L50.8438,61.8906 Q50.8438,64.4219 49.8438,65.5625 Q48.8438,66.7031 46.6094,66.7031 Q44.3906,66.7031 43.375,65.5625 Q42.375,64.4219 42.375,61.8906 Z \"/><text fill=\"#000000\" font-family=\"sans-serif\" font-size=\"12\" font-style=\"italic\" lengthAdjust=\"spacingAndGlyphs\" textLength=\"69\" x=\"58.5\" y=\"57.1387\">«attribute»</text><text fill=\"#000000\" font-family=\"sans-serif\" font-size=\"12\" lengthAdjust=\"spacingAndGlyphs\" textLength=\"7\" x=\"89.5\" y=\"71.1074\">c</text><line style=\"stroke: #A80036; stroke-width: 1.5;\" x1=\"32.5\" x2=\"127.5\" y1=\"78.9375\" y2=\"78.9375\"/></a><!--MD5=[05d275557350bfb9b23a4ef7222b4c39]\n",
       "link E3 to E2--><a href=\"psysml:c16b553f-69e4-4116-bada-9588c5abaa28\" target=\"_top\" title=\"psysml:c16b553f-69e4-4116-bada-9588c5abaa28\" xlink:actuate=\"onRequest\" xlink:href=\"psysml:c16b553f-69e4-4116-bada-9588c5abaa28\" xlink:show=\"new\" xlink:title=\"psysml:c16b553f-69e4-4116-bada-9588c5abaa28\" xlink:type=\"simple\"><path d=\"M765.62,87.13 C756.62,103.2 744.05,125.65 732.54,146.23 \" fill=\"none\" id=\"E3-&gt;E2\" style=\"stroke: #A80036; stroke-width: 1.0;\"/><polygon fill=\"#FFFFFF\" points=\"722.6,163.99,725.7664,143.9907,737.9848,150.8253,722.6,163.99\" style=\"stroke: #A80036; stroke-width: 1.0;\"/><ellipse cx=\"730.2946\" cy=\"139.9924\" fill=\"#A80036\" rx=\"2\" ry=\"2\" style=\"stroke: #A80036; stroke-width: 1.0;\"/><ellipse cx=\"739.022\" cy=\"144.8743\" fill=\"#A80036\" rx=\"2\" ry=\"2\" style=\"stroke: #A80036; stroke-width: 1.0;\"/></a><!--MD5=[ddeed8deb2209213b62e6cfabaa108b2]\n",
       "reverse link E4 to E2--><a href=\"psysml:7844d093-18d6-4bcd-8bc7-6ee8559e13ae\" target=\"_top\" title=\"psysml:7844d093-18d6-4bcd-8bc7-6ee8559e13ae\" xlink:actuate=\"onRequest\" xlink:href=\"psysml:7844d093-18d6-4bcd-8bc7-6ee8559e13ae\" xlink:show=\"new\" xlink:title=\"psysml:7844d093-18d6-4bcd-8bc7-6ee8559e13ae\" xlink:type=\"simple\"><path d=\"M645.99,98.48 C657.31,118.44 671.67,143.76 683.14,163.99 \" fill=\"none\" id=\"E4&lt;-E2\" style=\"stroke: #A80036; stroke-width: 1.0;\"/><polygon fill=\"#FFFFFF\" points=\"639.55,87.13,639.0333,94.3226,645.4738,97.5659,645.9905,90.3734,639.55,87.13\" style=\"stroke: #A80036; stroke-width: 1.0;\"/><text fill=\"#000000\" font-family=\"sans-serif\" font-size=\"13\" lengthAdjust=\"spacingAndGlyphs\" textLength=\"8\" x=\"666\" y=\"130.0669\">p</text></a><!--MD5=[8b72c71b5ce37a7e6e32e757d4e25778]\n",
       "@startuml\r\n",
       " \r\n",
       "package \"ParameterTest\" as E1  [[psysml:edb9bc9d-436b-4f02-a049-a38172af8e0d ]]  {\r\n",
       "comp def \"A\" as E2  <<(D,brown)attribute def>> [[psysml:72c120f1-27bf-4069-82f6-2517ea0440e6 ]] {\r\n",
       "x: String\r\n",
       "y: A\r\n",
       "}\r\n",
       "comp usage \"a: A\" as E3  <<(U,orange)attribute>> [[psysml:449a2126-050e-4d76-9596-2419df0cfe8a ]] {\r\n",
       "}\r\n",
       "comp def \"F\" as E4  <<(D,brown)calculation def>> [[psysml:42a33a96-c599-425f-a532-027e99d4f603 ]] {\r\n",
       "}\r\n",
       "comp usage \"f\" as E5  <<(U,orange)attribute>> [[psysml:04c0c290-1f5b-4b73-9b90-1720c7950e1a ]] {\r\n",
       "}\r\n",
       "comp usage \"g\" as E6  <<(U,orange)attribute>> [[psysml:514c602a-a137-45fe-b85f-d9c421e6e02c ]] {\r\n",
       "}\r\n",
       "comp usage \"b\" as E7  <<(U,orange)attribute>> [[psysml:1980a670-9bad-4a6e-b892-05e752677470 ]] {\r\n",
       "}\r\n",
       "comp usage \"c\" as E8  <<(U,orange)attribute>> [[psysml:c3372668-2566-45ef-b19a-e891239054bd ]] {\r\n",
       "}\r\n",
       "E3 - -:|> E2 [[psysml:c16b553f-69e4-4116-bada-9588c5abaa28 ]] \r\n",
       "E4 o- - E2 [[psysml:7844d093-18d6-4bcd-8bc7-6ee8559e13ae ]] : p\r\n",
       "}\r\n",
       "@enduml\r\n",
       "\n",
       "PlantUML version 1.2020.13(Sat Jun 13 12:26:38 UTC 2020)\n",
       "(EPL source distribution)\n",
       "Java Runtime: OpenJDK Runtime Environment\n",
       "JVM: OpenJDK 64-Bit Server VM\n",
       "Default Encoding: UTF-8\n",
       "Language: en\n",
       "Country: null\n",
       "--></g></svg>"
      ]
     },
     "execution_count": 35,
     "metadata": {},
     "output_type": "execute_result"
    }
   ],
   "source": [
    "%viz --style=\"PLANTUML\" --view=\"Sequence\" \"ParameterTest\""
   ]
  },
  {
   "cell_type": "code",
   "execution_count": 36,
   "id": "excess-recipient",
   "metadata": {
    "execution": {
     "iopub.execute_input": "2021-03-25T13:44:04.287176Z",
     "iopub.status.busy": "2021-03-25T13:44:04.286286Z",
     "iopub.status.idle": "2021-03-25T13:44:04.465715Z",
     "shell.execute_reply": "2021-03-25T13:44:04.464005Z"
    }
   },
   "outputs": [
    {
     "data": {
      "image/svg+xml": [
       "<?xml version=\"1.0\" encoding=\"UTF-8\" standalone=\"no\"?><svg xmlns=\"http://www.w3.org/2000/svg\" xmlns:xlink=\"http://www.w3.org/1999/xlink\" contentScriptType=\"application/ecmascript\" contentStyleType=\"text/css\" height=\"247px\" preserveAspectRatio=\"none\" style=\"width:868px;height:247px;\" version=\"1.1\" viewBox=\"0 0 868 247\" width=\"868px\" zoomAndPan=\"magnify\"><defs><filter height=\"300%\" id=\"fxue3nd5u213b\" width=\"300%\" x=\"-1\" y=\"-1\"><feGaussianBlur result=\"blurOut\" stdDeviation=\"2.0\"/><feColorMatrix in=\"blurOut\" result=\"blurOut2\" type=\"matrix\" values=\"0 0 0 0 0 0 0 0 0 0 0 0 0 0 0 0 0 0 .4 0\"/><feOffset dx=\"4.0\" dy=\"4.0\" in=\"blurOut2\" result=\"blurOut3\"/><feBlend in=\"SourceGraphic\" in2=\"blurOut3\" mode=\"normal\"/></filter></defs><g><!--MD5=[fbc87193dbaf4d95561dea2c320d4a47]\n",
       "cluster E1--><a href=\"psysml:edb9bc9d-436b-4f02-a049-a38172af8e0d\" target=\"_top\" title=\"psysml:edb9bc9d-436b-4f02-a049-a38172af8e0d\" xlink:actuate=\"onRequest\" xlink:href=\"psysml:edb9bc9d-436b-4f02-a049-a38172af8e0d\" xlink:show=\"new\" xlink:title=\"psysml:edb9bc9d-436b-4f02-a049-a38172af8e0d\" xlink:type=\"simple\"><polygon fill=\"#FFFFFF\" filter=\"url(#fxue3nd5u213b)\" points=\"16,6,139,6,146,28.2969,846,28.2969,846,235,16,235,16,6\" style=\"stroke: #000000; stroke-width: 1.5;\"/><line style=\"stroke: #000000; stroke-width: 1.5;\" x1=\"16\" x2=\"146\" y1=\"28.2969\" y2=\"28.2969\"/><text fill=\"#000000\" font-family=\"sans-serif\" font-size=\"14\" font-weight=\"bold\" lengthAdjust=\"spacingAndGlyphs\" textLength=\"117\" x=\"20\" y=\"20.9951\">ParameterTest</text></a><!--MD5=[f6df4d0ebaf0b5dfb2ced0ae5af7c670]\n",
       "cluster E4--><a href=\"psysml:42a33a96-c599-425f-a532-027e99d4f603\" target=\"_top\" title=\"psysml:42a33a96-c599-425f-a532-027e99d4f603\" xlink:actuate=\"onRequest\" xlink:href=\"psysml:42a33a96-c599-425f-a532-027e99d4f603\" xlink:show=\"new\" xlink:title=\"psysml:42a33a96-c599-425f-a532-027e99d4f603\" xlink:type=\"simple\"><rect fill=\"#FFFFFF\" filter=\"url(#fxue3nd5u213b)\" height=\"152.5\" id=\"E4\" style=\"stroke: #A80036; stroke-width: 1.5;\" width=\"148\" x=\"682\" y=\"64\"/><rect fill=\"#FEFECE\" height=\"37.9375\" style=\"stroke: #A80036; stroke-width: 1.5;\" width=\"148\" x=\"682\" y=\"64\"/><text fill=\"#000000\" font-family=\"sans-serif\" font-size=\"12\" font-style=\"italic\" lengthAdjust=\"spacingAndGlyphs\" textLength=\"106\" x=\"703\" y=\"80.1387\">«calculation def»</text><text fill=\"#000000\" font-family=\"sans-serif\" font-size=\"12\" lengthAdjust=\"spacingAndGlyphs\" textLength=\"7\" x=\"752.5\" y=\"94.1074\">F</text></a><!--MD5=[b4997ac47864f28c2f74865a473b2911]\n",
       "class E2--><a href=\"psysml:72c120f1-27bf-4069-82f6-2517ea0440e6\" target=\"_top\" title=\"psysml:72c120f1-27bf-4069-82f6-2517ea0440e6\" xlink:actuate=\"onRequest\" xlink:href=\"psysml:72c120f1-27bf-4069-82f6-2517ea0440e6\" xlink:show=\"new\" xlink:title=\"psysml:72c120f1-27bf-4069-82f6-2517ea0440e6\" xlink:type=\"simple\"><rect fill=\"#FEFECE\" filter=\"url(#fxue3nd5u213b)\" height=\"71.5469\" id=\"E2\" style=\"stroke: #A80036; stroke-width: 1.5;\" width=\"121\" x=\"524.5\" y=\"147\"/><ellipse cx=\"539.5\" cy=\"165.9688\" fill=\"#A52A2A\" rx=\"11\" ry=\"11\" style=\"stroke: #A80036; stroke-width: 1.0;\"/><path d=\"M539.0938,161.7813 L539.0938,169.7656 L539.75,169.7656 Q541.1875,169.7656 541.7969,168.8594 Q542.4219,167.9375 542.4219,165.7656 Q542.4219,163.5938 541.7969,162.6875 Q541.1875,161.7813 539.75,161.7813 L539.0938,161.7813 Z M536.6406,159.5781 L539.2656,159.5781 Q542.2969,159.5781 543.625,161.0313 Q544.9688,162.4688 544.9688,165.7656 Q544.9688,169.0625 543.625,170.5156 Q542.2969,171.9688 539.2656,171.9688 L536.6406,171.9688 L536.6406,159.5781 Z \"/><text fill=\"#000000\" font-family=\"sans-serif\" font-size=\"12\" font-style=\"italic\" lengthAdjust=\"spacingAndGlyphs\" textLength=\"93\" x=\"551.5\" y=\"163.1387\">«attribute def»</text><text fill=\"#000000\" font-family=\"sans-serif\" font-size=\"12\" lengthAdjust=\"spacingAndGlyphs\" textLength=\"8\" x=\"594\" y=\"177.1074\">A</text><line style=\"stroke: #A80036; stroke-width: 1.5;\" x1=\"525.5\" x2=\"644.5\" y1=\"184.9375\" y2=\"184.9375\"/><text fill=\"#000000\" font-family=\"sans-serif\" font-size=\"11\" lengthAdjust=\"spacingAndGlyphs\" textLength=\"48\" x=\"530.5\" y=\"199.1479\">x: String</text><text fill=\"#000000\" font-family=\"sans-serif\" font-size=\"11\" lengthAdjust=\"spacingAndGlyphs\" textLength=\"21\" x=\"530.5\" y=\"211.9526\">y: A</text></a><!--MD5=[09b614a08d8cba4a07c9adeb5e0fee81]\n",
       "class E3--><a href=\"psysml:449a2126-050e-4d76-9596-2419df0cfe8a\" target=\"_top\" title=\"psysml:449a2126-050e-4d76-9596-2419df0cfe8a\" xlink:actuate=\"onRequest\" xlink:href=\"psysml:449a2126-050e-4d76-9596-2419df0cfe8a\" xlink:show=\"new\" xlink:title=\"psysml:449a2126-050e-4d76-9596-2419df0cfe8a\" xlink:type=\"simple\"><rect fill=\"#FEFECE\" filter=\"url(#fxue3nd5u213b)\" height=\"45.9375\" id=\"E3\" rx=\"10\" ry=\"10\" style=\"stroke: #A80036; stroke-width: 1.5;\" width=\"97\" x=\"559.5\" y=\"41\"/><ellipse cx=\"574.5\" cy=\"59.9688\" fill=\"#FFA500\" rx=\"11\" ry=\"11\" style=\"stroke: #A80036; stroke-width: 1.0;\"/><path d=\"M570.375,61.8906 L570.375,54.0781 L572.8281,54.0781 L572.8281,62.5156 Q572.8281,63.4375 573.2969,63.9688 Q573.7813,64.5 574.6094,64.5 Q575.4531,64.5 575.9219,63.9688 Q576.3906,63.4375 576.3906,62.5156 L576.3906,54.0781 L578.8438,54.0781 L578.8438,61.8906 Q578.8438,64.4219 577.8438,65.5625 Q576.8438,66.7031 574.6094,66.7031 Q572.3906,66.7031 571.375,65.5625 Q570.375,64.4219 570.375,61.8906 Z \"/><text fill=\"#000000\" font-family=\"sans-serif\" font-size=\"12\" font-style=\"italic\" lengthAdjust=\"spacingAndGlyphs\" textLength=\"69\" x=\"586.5\" y=\"57.1387\">«attribute»</text><text fill=\"#000000\" font-family=\"sans-serif\" font-size=\"12\" lengthAdjust=\"spacingAndGlyphs\" textLength=\"24\" x=\"609\" y=\"71.1074\">a: A</text><line style=\"stroke: #A80036; stroke-width: 1.5;\" x1=\"560.5\" x2=\"655.5\" y1=\"78.9375\" y2=\"78.9375\"/></a><!--MD5=[2156ba9850f5573cc1fc38a6a4b2f02b]\n",
       "class E7--><a href=\"psysml:04c0c290-1f5b-4b73-9b90-1720c7950e1a\" target=\"_top\" title=\"psysml:04c0c290-1f5b-4b73-9b90-1720c7950e1a\" xlink:actuate=\"onRequest\" xlink:href=\"psysml:04c0c290-1f5b-4b73-9b90-1720c7950e1a\" xlink:show=\"new\" xlink:title=\"psysml:04c0c290-1f5b-4b73-9b90-1720c7950e1a\" xlink:type=\"simple\"><rect fill=\"#FEFECE\" filter=\"url(#fxue3nd5u213b)\" height=\"45.9375\" id=\"E7\" rx=\"10\" ry=\"10\" style=\"stroke: #A80036; stroke-width: 1.5;\" width=\"97\" x=\"427.5\" y=\"41\"/><ellipse cx=\"442.5\" cy=\"59.9688\" fill=\"#FFA500\" rx=\"11\" ry=\"11\" style=\"stroke: #A80036; stroke-width: 1.0;\"/><path d=\"M438.375,61.8906 L438.375,54.0781 L440.8281,54.0781 L440.8281,62.5156 Q440.8281,63.4375 441.2969,63.9688 Q441.7813,64.5 442.6094,64.5 Q443.4531,64.5 443.9219,63.9688 Q444.3906,63.4375 444.3906,62.5156 L444.3906,54.0781 L446.8438,54.0781 L446.8438,61.8906 Q446.8438,64.4219 445.8438,65.5625 Q444.8438,66.7031 442.6094,66.7031 Q440.3906,66.7031 439.375,65.5625 Q438.375,64.4219 438.375,61.8906 Z \"/><text fill=\"#000000\" font-family=\"sans-serif\" font-size=\"12\" font-style=\"italic\" lengthAdjust=\"spacingAndGlyphs\" textLength=\"69\" x=\"454.5\" y=\"57.1387\">«attribute»</text><text fill=\"#000000\" font-family=\"sans-serif\" font-size=\"12\" lengthAdjust=\"spacingAndGlyphs\" textLength=\"4\" x=\"487\" y=\"71.1074\">f</text><line style=\"stroke: #A80036; stroke-width: 1.5;\" x1=\"428.5\" x2=\"523.5\" y1=\"78.9375\" y2=\"78.9375\"/></a><!--MD5=[b9389687b975829384b498ac4b7476b2]\n",
       "class E8--><a href=\"psysml:514c602a-a137-45fe-b85f-d9c421e6e02c\" target=\"_top\" title=\"psysml:514c602a-a137-45fe-b85f-d9c421e6e02c\" xlink:actuate=\"onRequest\" xlink:href=\"psysml:514c602a-a137-45fe-b85f-d9c421e6e02c\" xlink:show=\"new\" xlink:title=\"psysml:514c602a-a137-45fe-b85f-d9c421e6e02c\" xlink:type=\"simple\"><rect fill=\"#FEFECE\" filter=\"url(#fxue3nd5u213b)\" height=\"45.9375\" id=\"E8\" rx=\"10\" ry=\"10\" style=\"stroke: #A80036; stroke-width: 1.5;\" width=\"97\" x=\"295.5\" y=\"41\"/><ellipse cx=\"310.5\" cy=\"59.9688\" fill=\"#FFA500\" rx=\"11\" ry=\"11\" style=\"stroke: #A80036; stroke-width: 1.0;\"/><path d=\"M306.375,61.8906 L306.375,54.0781 L308.8281,54.0781 L308.8281,62.5156 Q308.8281,63.4375 309.2969,63.9688 Q309.7813,64.5 310.6094,64.5 Q311.4531,64.5 311.9219,63.9688 Q312.3906,63.4375 312.3906,62.5156 L312.3906,54.0781 L314.8438,54.0781 L314.8438,61.8906 Q314.8438,64.4219 313.8438,65.5625 Q312.8438,66.7031 310.6094,66.7031 Q308.3906,66.7031 307.375,65.5625 Q306.375,64.4219 306.375,61.8906 Z \"/><text fill=\"#000000\" font-family=\"sans-serif\" font-size=\"12\" font-style=\"italic\" lengthAdjust=\"spacingAndGlyphs\" textLength=\"69\" x=\"322.5\" y=\"57.1387\">«attribute»</text><text fill=\"#000000\" font-family=\"sans-serif\" font-size=\"12\" lengthAdjust=\"spacingAndGlyphs\" textLength=\"8\" x=\"353\" y=\"71.1074\">g</text><line style=\"stroke: #A80036; stroke-width: 1.5;\" x1=\"296.5\" x2=\"391.5\" y1=\"78.9375\" y2=\"78.9375\"/></a><!--MD5=[fd4143e9d270a159db93a4ea2a975926]\n",
       "class E9--><a href=\"psysml:1980a670-9bad-4a6e-b892-05e752677470\" target=\"_top\" title=\"psysml:1980a670-9bad-4a6e-b892-05e752677470\" xlink:actuate=\"onRequest\" xlink:href=\"psysml:1980a670-9bad-4a6e-b892-05e752677470\" xlink:show=\"new\" xlink:title=\"psysml:1980a670-9bad-4a6e-b892-05e752677470\" xlink:type=\"simple\"><rect fill=\"#FEFECE\" filter=\"url(#fxue3nd5u213b)\" height=\"45.9375\" id=\"E9\" rx=\"10\" ry=\"10\" style=\"stroke: #A80036; stroke-width: 1.5;\" width=\"97\" x=\"163.5\" y=\"41\"/><ellipse cx=\"178.5\" cy=\"59.9688\" fill=\"#FFA500\" rx=\"11\" ry=\"11\" style=\"stroke: #A80036; stroke-width: 1.0;\"/><path d=\"M174.375,61.8906 L174.375,54.0781 L176.8281,54.0781 L176.8281,62.5156 Q176.8281,63.4375 177.2969,63.9688 Q177.7813,64.5 178.6094,64.5 Q179.4531,64.5 179.9219,63.9688 Q180.3906,63.4375 180.3906,62.5156 L180.3906,54.0781 L182.8438,54.0781 L182.8438,61.8906 Q182.8438,64.4219 181.8438,65.5625 Q180.8438,66.7031 178.6094,66.7031 Q176.3906,66.7031 175.375,65.5625 Q174.375,64.4219 174.375,61.8906 Z \"/><text fill=\"#000000\" font-family=\"sans-serif\" font-size=\"12\" font-style=\"italic\" lengthAdjust=\"spacingAndGlyphs\" textLength=\"69\" x=\"190.5\" y=\"57.1387\">«attribute»</text><text fill=\"#000000\" font-family=\"sans-serif\" font-size=\"12\" lengthAdjust=\"spacingAndGlyphs\" textLength=\"8\" x=\"221\" y=\"71.1074\">b</text><line style=\"stroke: #A80036; stroke-width: 1.5;\" x1=\"164.5\" x2=\"259.5\" y1=\"78.9375\" y2=\"78.9375\"/></a><!--MD5=[96f4274e9e20536e775497830990834d]\n",
       "class E10--><a href=\"psysml:c3372668-2566-45ef-b19a-e891239054bd\" target=\"_top\" title=\"psysml:c3372668-2566-45ef-b19a-e891239054bd\" xlink:actuate=\"onRequest\" xlink:href=\"psysml:c3372668-2566-45ef-b19a-e891239054bd\" xlink:show=\"new\" xlink:title=\"psysml:c3372668-2566-45ef-b19a-e891239054bd\" xlink:type=\"simple\"><rect fill=\"#FEFECE\" filter=\"url(#fxue3nd5u213b)\" height=\"45.9375\" id=\"E10\" rx=\"10\" ry=\"10\" style=\"stroke: #A80036; stroke-width: 1.5;\" width=\"97\" x=\"31.5\" y=\"41\"/><ellipse cx=\"46.5\" cy=\"59.9688\" fill=\"#FFA500\" rx=\"11\" ry=\"11\" style=\"stroke: #A80036; stroke-width: 1.0;\"/><path d=\"M42.375,61.8906 L42.375,54.0781 L44.8281,54.0781 L44.8281,62.5156 Q44.8281,63.4375 45.2969,63.9688 Q45.7813,64.5 46.6094,64.5 Q47.4531,64.5 47.9219,63.9688 Q48.3906,63.4375 48.3906,62.5156 L48.3906,54.0781 L50.8438,54.0781 L50.8438,61.8906 Q50.8438,64.4219 49.8438,65.5625 Q48.8438,66.7031 46.6094,66.7031 Q44.3906,66.7031 43.375,65.5625 Q42.375,64.4219 42.375,61.8906 Z \"/><text fill=\"#000000\" font-family=\"sans-serif\" font-size=\"12\" font-style=\"italic\" lengthAdjust=\"spacingAndGlyphs\" textLength=\"69\" x=\"58.5\" y=\"57.1387\">«attribute»</text><text fill=\"#000000\" font-family=\"sans-serif\" font-size=\"12\" lengthAdjust=\"spacingAndGlyphs\" textLength=\"7\" x=\"89.5\" y=\"71.1074\">c</text><line style=\"stroke: #A80036; stroke-width: 1.5;\" x1=\"32.5\" x2=\"127.5\" y1=\"78.9375\" y2=\"78.9375\"/></a><text fill=\"#000000\" font-family=\"sans-serif\" font-size=\"14\" lengthAdjust=\"spacingAndGlyphs\" textLength=\"9\" x=\"695.5\" y=\"42.6982\">p</text><rect fill=\"#A80036\" height=\"12\" style=\"stroke: #FEFECE; stroke-width: 1.5;\" width=\"12\" x=\"694\" y=\"58\"/><text fill=\"#000000\" font-family=\"sans-serif\" font-size=\"14\" lengthAdjust=\"spacingAndGlyphs\" textLength=\"9\" x=\"742.5\" y=\"42.6982\">q</text><rect fill=\"#A80036\" height=\"12\" style=\"stroke: #FEFECE; stroke-width: 1.5;\" width=\"12\" x=\"741\" y=\"58\"/><!--MD5=[05d275557350bfb9b23a4ef7222b4c39]\n",
       "link E3 to E2--><a href=\"psysml:c16b553f-69e4-4116-bada-9588c5abaa28\" target=\"_top\" title=\"psysml:c16b553f-69e4-4116-bada-9588c5abaa28\" xlink:actuate=\"onRequest\" xlink:href=\"psysml:c16b553f-69e4-4116-bada-9588c5abaa28\" xlink:show=\"new\" xlink:title=\"psysml:c16b553f-69e4-4116-bada-9588c5abaa28\" xlink:type=\"simple\"><path d=\"M603.67,87.01 C601.45,98.3 598.64,112.62 595.87,126.7 \" fill=\"none\" id=\"E3-&gt;E2\" style=\"stroke: #A80036; stroke-width: 1.0;\"/><polygon fill=\"#FFFFFF\" points=\"591.93,146.75,588.7277,126.7564,602.4646,129.4577,591.93,146.75\" style=\"stroke: #A80036; stroke-width: 1.0;\"/><ellipse cx=\"591.7899\" cy=\"121.5494\" fill=\"#A80036\" rx=\"2\" ry=\"2\" style=\"stroke: #A80036; stroke-width: 1.0;\"/><ellipse cx=\"601.602\" cy=\"123.4789\" fill=\"#A80036\" rx=\"2\" ry=\"2\" style=\"stroke: #A80036; stroke-width: 1.0;\"/></a><!--MD5=[ecf973ca2477041e4fddd8fc4eb85751]\n",
       "@startuml\r\n",
       " \r\n",
       "package \"ParameterTest\" as E1  [[psysml:edb9bc9d-436b-4f02-a049-a38172af8e0d ]]  {\r\n",
       "comp def \"A\" as E2  <<(D,brown)attribute def>> [[psysml:72c120f1-27bf-4069-82f6-2517ea0440e6 ]] {\r\n",
       "x: String\r\n",
       "y: A\r\n",
       "}\r\n",
       "comp usage \"a: A\" as E3  <<(U,orange)attribute>> [[psysml:449a2126-050e-4d76-9596-2419df0cfe8a ]] {\r\n",
       "}\r\n",
       "rec def \"F\" as E4  <<(D,brown)calculation def>> [[psysml:42a33a96-c599-425f-a532-027e99d4f603 ]] {\r\n",
       "portin \"p\" as E5  [[psysml:7844d093-18d6-4bcd-8bc7-6ee8559e13ae ]] \r\n",
       "portin \"q\" as E6  [[psysml:60bdf07c-a2db-456e-a058-70cb9f3de468 ]] \r\n",
       "}\r\n",
       "\r\n",
       "comp usage \"f\" as E7  <<(U,orange)attribute>> [[psysml:04c0c290-1f5b-4b73-9b90-1720c7950e1a ]] {\r\n",
       "}\r\n",
       "comp usage \"g\" as E8  <<(U,orange)attribute>> [[psysml:514c602a-a137-45fe-b85f-d9c421e6e02c ]] {\r\n",
       "}\r\n",
       "comp usage \"b\" as E9  <<(U,orange)attribute>> [[psysml:1980a670-9bad-4a6e-b892-05e752677470 ]] {\r\n",
       "}\r\n",
       "comp usage \"c\" as E10  <<(U,orange)attribute>> [[psysml:c3372668-2566-45ef-b19a-e891239054bd ]] {\r\n",
       "}\r\n",
       "E3 - -:|> E2 [[psysml:c16b553f-69e4-4116-bada-9588c5abaa28 ]] \r\n",
       "}\r\n",
       "@enduml\r\n",
       "\n",
       "PlantUML version 1.2020.13(Sat Jun 13 12:26:38 UTC 2020)\n",
       "(EPL source distribution)\n",
       "Java Runtime: OpenJDK Runtime Environment\n",
       "JVM: OpenJDK 64-Bit Server VM\n",
       "Default Encoding: UTF-8\n",
       "Language: en\n",
       "Country: null\n",
       "--></g></svg>"
      ]
     },
     "execution_count": 36,
     "metadata": {},
     "output_type": "execute_result"
    }
   ],
   "source": [
    "%viz --style=\"PLANTUML\" --view=\"MIXED\" \"ParameterTest\""
   ]
  },
  {
   "cell_type": "code",
   "execution_count": 37,
   "id": "particular-retail",
   "metadata": {
    "execution": {
     "iopub.execute_input": "2021-03-25T13:44:04.516335Z",
     "iopub.status.busy": "2021-03-25T13:44:04.515831Z",
     "iopub.status.idle": "2021-03-25T13:44:04.806316Z",
     "shell.execute_reply": "2021-03-25T13:44:04.804732Z"
    }
   },
   "outputs": [
    {
     "data": {
      "image/svg+xml": [
       "<?xml version=\"1.0\" encoding=\"UTF-8\" standalone=\"no\"?><svg xmlns=\"http://www.w3.org/2000/svg\" xmlns:xlink=\"http://www.w3.org/1999/xlink\" contentScriptType=\"application/ecmascript\" contentStyleType=\"text/css\" height=\"263px\" preserveAspectRatio=\"none\" style=\"width:740px;height:263px;\" version=\"1.1\" viewBox=\"0 0 740 263\" width=\"740px\" zoomAndPan=\"magnify\"><defs/><g><!--MD5=[fbc87193dbaf4d95561dea2c320d4a47]\n",
       "cluster E1--><a href=\"psysml:edb9bc9d-436b-4f02-a049-a38172af8e0d\" target=\"_top\" title=\"psysml:edb9bc9d-436b-4f02-a049-a38172af8e0d\" xlink:actuate=\"onRequest\" xlink:href=\"psysml:edb9bc9d-436b-4f02-a049-a38172af8e0d\" xlink:show=\"new\" xlink:title=\"psysml:edb9bc9d-436b-4f02-a049-a38172af8e0d\" xlink:type=\"simple\"><polygon fill=\"#FFFFFF\" points=\"16,6,139,6,146,28.2969,718,28.2969,718,251,16,251,16,6\" style=\"stroke: #000000; stroke-width: 1.5;\"/><line style=\"stroke: #000000; stroke-width: 1.5;\" x1=\"16\" x2=\"146\" y1=\"28.2969\" y2=\"28.2969\"/><text fill=\"#000000\" font-family=\"sans-serif\" font-size=\"14\" font-weight=\"bold\" lengthAdjust=\"spacingAndGlyphs\" textLength=\"117\" x=\"20\" y=\"20.9951\">ParameterTest</text></a><!--MD5=[f6df4d0ebaf0b5dfb2ced0ae5af7c670]\n",
       "cluster E4--><a href=\"psysml:42a33a96-c599-425f-a532-027e99d4f603\" target=\"_top\" title=\"psysml:42a33a96-c599-425f-a532-027e99d4f603\" xlink:actuate=\"onRequest\" xlink:href=\"psysml:42a33a96-c599-425f-a532-027e99d4f603\" xlink:show=\"new\" xlink:title=\"psysml:42a33a96-c599-425f-a532-027e99d4f603\" xlink:type=\"simple\"><rect fill=\"#FFFFFF\" height=\"160.5\" id=\"E4\" style=\"stroke: #383838; stroke-width: 1.5;\" width=\"148\" x=\"554\" y=\"64\"/><rect fill=\"#F8F8F8\" height=\"37.9375\" style=\"stroke: #383838; stroke-width: 1.5;\" width=\"148\" x=\"554\" y=\"64\"/><text fill=\"#000000\" font-family=\"sans-serif\" font-size=\"12\" font-style=\"italic\" lengthAdjust=\"spacingAndGlyphs\" textLength=\"106\" x=\"575\" y=\"80.1387\">«calculation def»</text><text fill=\"#000000\" font-family=\"sans-serif\" font-size=\"12\" lengthAdjust=\"spacingAndGlyphs\" textLength=\"7\" x=\"624.5\" y=\"94.1074\">F</text></a><!--MD5=[b4997ac47864f28c2f74865a473b2911]\n",
       "class E2--><a href=\"psysml:72c120f1-27bf-4069-82f6-2517ea0440e6\" target=\"_top\" title=\"psysml:72c120f1-27bf-4069-82f6-2517ea0440e6\" xlink:actuate=\"onRequest\" xlink:href=\"psysml:72c120f1-27bf-4069-82f6-2517ea0440e6\" xlink:show=\"new\" xlink:title=\"psysml:72c120f1-27bf-4069-82f6-2517ea0440e6\" xlink:type=\"simple\"><rect fill=\"#FFFFFF\" height=\"88.3516\" id=\"E2\" style=\"stroke: #383838; stroke-width: 1.5;\" width=\"95\" x=\"422.5\" y=\"147\"/><text fill=\"#000000\" font-family=\"sans-serif\" font-size=\"12\" font-style=\"italic\" lengthAdjust=\"spacingAndGlyphs\" textLength=\"93\" x=\"423.5\" y=\"163.1387\">«attribute def»</text><text fill=\"#000000\" font-family=\"sans-serif\" font-size=\"12\" lengthAdjust=\"spacingAndGlyphs\" textLength=\"8\" x=\"466\" y=\"177.1074\">A</text><line style=\"stroke: #383838; stroke-width: 1.5;\" x1=\"423.5\" x2=\"516.5\" y1=\"184.9375\" y2=\"184.9375\"/><text fill=\"#000000\" font-family=\"sans-serif\" font-size=\"11\" lengthAdjust=\"spacingAndGlyphs\" textLength=\"48\" x=\"428.5\" y=\"215.9526\">x: String</text><text fill=\"#000000\" font-family=\"sans-serif\" font-size=\"11\" lengthAdjust=\"spacingAndGlyphs\" textLength=\"21\" x=\"428.5\" y=\"228.7573\">y: A</text><line style=\"stroke: #383838; stroke-width: 1.0;\" x1=\"423.5\" x2=\"442.5\" y1=\"199.3398\" y2=\"199.3398\"/><text fill=\"#000000\" font-family=\"sans-serif\" font-size=\"11\" lengthAdjust=\"spacingAndGlyphs\" textLength=\"55\" x=\"442.5\" y=\"202.6479\">attributes</text><line style=\"stroke: #383838; stroke-width: 1.0;\" x1=\"497.5\" x2=\"516.5\" y1=\"199.3398\" y2=\"199.3398\"/></a><!--MD5=[09b614a08d8cba4a07c9adeb5e0fee81]\n",
       "class E3--><a href=\"psysml:449a2126-050e-4d76-9596-2419df0cfe8a\" target=\"_top\" title=\"psysml:449a2126-050e-4d76-9596-2419df0cfe8a\" xlink:actuate=\"onRequest\" xlink:href=\"psysml:449a2126-050e-4d76-9596-2419df0cfe8a\" xlink:show=\"new\" xlink:title=\"psysml:449a2126-050e-4d76-9596-2419df0cfe8a\" xlink:type=\"simple\"><rect fill=\"#FFFFFF\" height=\"45.9375\" id=\"E3\" rx=\"10\" ry=\"10\" style=\"stroke: #383838; stroke-width: 1.5;\" width=\"71\" x=\"456.5\" y=\"41\"/><text fill=\"#000000\" font-family=\"sans-serif\" font-size=\"12\" font-style=\"italic\" lengthAdjust=\"spacingAndGlyphs\" textLength=\"69\" x=\"457.5\" y=\"57.1387\">«attribute»</text><text fill=\"#000000\" font-family=\"sans-serif\" font-size=\"12\" lengthAdjust=\"spacingAndGlyphs\" textLength=\"24\" x=\"480\" y=\"71.1074\">a: A</text><line style=\"stroke: #383838; stroke-width: 1.5;\" x1=\"457.5\" x2=\"526.5\" y1=\"78.9375\" y2=\"78.9375\"/></a><!--MD5=[2156ba9850f5573cc1fc38a6a4b2f02b]\n",
       "class E7--><a href=\"psysml:04c0c290-1f5b-4b73-9b90-1720c7950e1a\" target=\"_top\" title=\"psysml:04c0c290-1f5b-4b73-9b90-1720c7950e1a\" xlink:actuate=\"onRequest\" xlink:href=\"psysml:04c0c290-1f5b-4b73-9b90-1720c7950e1a\" xlink:show=\"new\" xlink:title=\"psysml:04c0c290-1f5b-4b73-9b90-1720c7950e1a\" xlink:type=\"simple\"><rect fill=\"#FFFFFF\" height=\"45.9375\" id=\"E7\" rx=\"10\" ry=\"10\" style=\"stroke: #383838; stroke-width: 1.5;\" width=\"71\" x=\"350.5\" y=\"41\"/><text fill=\"#000000\" font-family=\"sans-serif\" font-size=\"12\" font-style=\"italic\" lengthAdjust=\"spacingAndGlyphs\" textLength=\"69\" x=\"351.5\" y=\"57.1387\">«attribute»</text><text fill=\"#000000\" font-family=\"sans-serif\" font-size=\"12\" lengthAdjust=\"spacingAndGlyphs\" textLength=\"4\" x=\"384\" y=\"71.1074\">f</text><line style=\"stroke: #383838; stroke-width: 1.5;\" x1=\"351.5\" x2=\"420.5\" y1=\"78.9375\" y2=\"78.9375\"/></a><!--MD5=[b9389687b975829384b498ac4b7476b2]\n",
       "class E8--><a href=\"psysml:514c602a-a137-45fe-b85f-d9c421e6e02c\" target=\"_top\" title=\"psysml:514c602a-a137-45fe-b85f-d9c421e6e02c\" xlink:actuate=\"onRequest\" xlink:href=\"psysml:514c602a-a137-45fe-b85f-d9c421e6e02c\" xlink:show=\"new\" xlink:title=\"psysml:514c602a-a137-45fe-b85f-d9c421e6e02c\" xlink:type=\"simple\"><rect fill=\"#FFFFFF\" height=\"45.9375\" id=\"E8\" rx=\"10\" ry=\"10\" style=\"stroke: #383838; stroke-width: 1.5;\" width=\"71\" x=\"244.5\" y=\"41\"/><text fill=\"#000000\" font-family=\"sans-serif\" font-size=\"12\" font-style=\"italic\" lengthAdjust=\"spacingAndGlyphs\" textLength=\"69\" x=\"245.5\" y=\"57.1387\">«attribute»</text><text fill=\"#000000\" font-family=\"sans-serif\" font-size=\"12\" lengthAdjust=\"spacingAndGlyphs\" textLength=\"8\" x=\"276\" y=\"71.1074\">g</text><line style=\"stroke: #383838; stroke-width: 1.5;\" x1=\"245.5\" x2=\"314.5\" y1=\"78.9375\" y2=\"78.9375\"/></a><!--MD5=[fd4143e9d270a159db93a4ea2a975926]\n",
       "class E9--><a href=\"psysml:1980a670-9bad-4a6e-b892-05e752677470\" target=\"_top\" title=\"psysml:1980a670-9bad-4a6e-b892-05e752677470\" xlink:actuate=\"onRequest\" xlink:href=\"psysml:1980a670-9bad-4a6e-b892-05e752677470\" xlink:show=\"new\" xlink:title=\"psysml:1980a670-9bad-4a6e-b892-05e752677470\" xlink:type=\"simple\"><rect fill=\"#FFFFFF\" height=\"45.9375\" id=\"E9\" rx=\"10\" ry=\"10\" style=\"stroke: #383838; stroke-width: 1.5;\" width=\"71\" x=\"138.5\" y=\"41\"/><text fill=\"#000000\" font-family=\"sans-serif\" font-size=\"12\" font-style=\"italic\" lengthAdjust=\"spacingAndGlyphs\" textLength=\"69\" x=\"139.5\" y=\"57.1387\">«attribute»</text><text fill=\"#000000\" font-family=\"sans-serif\" font-size=\"12\" lengthAdjust=\"spacingAndGlyphs\" textLength=\"8\" x=\"170\" y=\"71.1074\">b</text><line style=\"stroke: #383838; stroke-width: 1.5;\" x1=\"139.5\" x2=\"208.5\" y1=\"78.9375\" y2=\"78.9375\"/></a><!--MD5=[96f4274e9e20536e775497830990834d]\n",
       "class E10--><a href=\"psysml:c3372668-2566-45ef-b19a-e891239054bd\" target=\"_top\" title=\"psysml:c3372668-2566-45ef-b19a-e891239054bd\" xlink:actuate=\"onRequest\" xlink:href=\"psysml:c3372668-2566-45ef-b19a-e891239054bd\" xlink:show=\"new\" xlink:title=\"psysml:c3372668-2566-45ef-b19a-e891239054bd\" xlink:type=\"simple\"><rect fill=\"#FFFFFF\" height=\"45.9375\" id=\"E10\" rx=\"10\" ry=\"10\" style=\"stroke: #383838; stroke-width: 1.5;\" width=\"71\" x=\"32.5\" y=\"41\"/><text fill=\"#000000\" font-family=\"sans-serif\" font-size=\"12\" font-style=\"italic\" lengthAdjust=\"spacingAndGlyphs\" textLength=\"69\" x=\"33.5\" y=\"57.1387\">«attribute»</text><text fill=\"#000000\" font-family=\"sans-serif\" font-size=\"12\" lengthAdjust=\"spacingAndGlyphs\" textLength=\"7\" x=\"64.5\" y=\"71.1074\">c</text><line style=\"stroke: #383838; stroke-width: 1.5;\" x1=\"33.5\" x2=\"102.5\" y1=\"78.9375\" y2=\"78.9375\"/></a><text fill=\"#000000\" font-family=\"sans-serif\" font-size=\"14\" lengthAdjust=\"spacingAndGlyphs\" textLength=\"9\" x=\"567.5\" y=\"42.6982\">p</text><rect fill=\"#383838\" height=\"12\" style=\"stroke: #F8F8F8; stroke-width: 1.5;\" width=\"12\" x=\"566\" y=\"58\"/><text fill=\"#000000\" font-family=\"sans-serif\" font-size=\"14\" lengthAdjust=\"spacingAndGlyphs\" textLength=\"9\" x=\"614.5\" y=\"42.6982\">q</text><rect fill=\"#383838\" height=\"12\" style=\"stroke: #F8F8F8; stroke-width: 1.5;\" width=\"12\" x=\"613\" y=\"58\"/><!--MD5=[05d275557350bfb9b23a4ef7222b4c39]\n",
       "link E3 to E2--><a href=\"psysml:c16b553f-69e4-4116-bada-9588c5abaa28\" target=\"_top\" title=\"psysml:c16b553f-69e4-4116-bada-9588c5abaa28\" xlink:actuate=\"onRequest\" xlink:href=\"psysml:c16b553f-69e4-4116-bada-9588c5abaa28\" xlink:show=\"new\" xlink:title=\"psysml:c16b553f-69e4-4116-bada-9588c5abaa28\" xlink:type=\"simple\"><path d=\"M488.12,87.06 C486.14,98.3 483.62,112.6 481.1,126.95 \" fill=\"none\" id=\"E3-&gt;E2\" style=\"stroke: #383838; stroke-width: 1.0;\"/><polygon fill=\"#FFFFFF\" points=\"477.58,146.93,473.9835,127.0035,487.7711,129.4331,477.58,146.93\" style=\"stroke: #383838; stroke-width: 1.0;\"/><ellipse cx=\"476.9423\" cy=\"121.7371\" fill=\"#383838\" rx=\"2\" ry=\"2\" style=\"stroke: #383838; stroke-width: 1.0;\"/><ellipse cx=\"486.7906\" cy=\"123.4725\" fill=\"#383838\" rx=\"2\" ry=\"2\" style=\"stroke: #383838; stroke-width: 1.0;\"/></a><!--MD5=[8c19d50474bfc225d9947ab3ad37c376]\n",
       "@startuml\r\n",
       "skinparam monochrome true\r\n",
       "skinparam classbackgroundcolor white\r\n",
       "skinparam shadowing false\r\n",
       "skinparam wrapWidth 300\r\n",
       "hide circle\r\n",
       "\r\n",
       "package \"ParameterTest\" as E1  [[psysml:edb9bc9d-436b-4f02-a049-a38172af8e0d ]]  {\r\n",
       "comp def \"A\" as E2  <<(T,blue)attribute def>> [[psysml:72c120f1-27bf-4069-82f6-2517ea0440e6 ]] {\r\n",
       "- - attributes - -\r\n",
       "x: String\r\n",
       "y: A\r\n",
       "}\r\n",
       "comp usage \"a: A\" as E3  <<(T,blue)attribute>> [[psysml:449a2126-050e-4d76-9596-2419df0cfe8a ]] {\r\n",
       "}\r\n",
       "rec def \"F\" as E4  <<(T,blue)calculation def>> [[psysml:42a33a96-c599-425f-a532-027e99d4f603 ]] {\r\n",
       "portin \"p\" as E5  [[psysml:7844d093-18d6-4bcd-8bc7-6ee8559e13ae ]] \r\n",
       "portin \"q\" as E6  [[psysml:60bdf07c-a2db-456e-a058-70cb9f3de468 ]] \r\n",
       "}\r\n",
       "\r\n",
       "comp usage \"f\" as E7  <<(T,blue)attribute>> [[psysml:04c0c290-1f5b-4b73-9b90-1720c7950e1a ]] {\r\n",
       "}\r\n",
       "comp usage \"g\" as E8  <<(T,blue)attribute>> [[psysml:514c602a-a137-45fe-b85f-d9c421e6e02c ]] {\r\n",
       "}\r\n",
       "comp usage \"b\" as E9  <<(T,blue)attribute>> [[psysml:1980a670-9bad-4a6e-b892-05e752677470 ]] {\r\n",
       "}\r\n",
       "comp usage \"c\" as E10  <<(T,blue)attribute>> [[psysml:c3372668-2566-45ef-b19a-e891239054bd ]] {\r\n",
       "}\r\n",
       "E3 - -:|> E2 [[psysml:c16b553f-69e4-4116-bada-9588c5abaa28 ]] \r\n",
       "}\r\n",
       "@enduml\r\n",
       "\n",
       "PlantUML version 1.2020.13(Sat Jun 13 12:26:38 UTC 2020)\n",
       "(EPL source distribution)\n",
       "Java Runtime: OpenJDK Runtime Environment\n",
       "JVM: OpenJDK 64-Bit Server VM\n",
       "Default Encoding: UTF-8\n",
       "Language: en\n",
       "Country: null\n",
       "--></g></svg>"
      ]
     },
     "execution_count": 37,
     "metadata": {},
     "output_type": "execute_result"
    }
   ],
   "source": [
    "%viz --style=\"DEFAULT\" --view=\"Default\" \"ParameterTest\""
   ]
  },
  {
   "cell_type": "code",
   "execution_count": 38,
   "id": "racial-climb",
   "metadata": {
    "execution": {
     "iopub.execute_input": "2021-03-25T13:44:04.857461Z",
     "iopub.status.busy": "2021-03-25T13:44:04.856979Z",
     "iopub.status.idle": "2021-03-25T13:44:05.117508Z",
     "shell.execute_reply": "2021-03-25T13:44:05.116205Z"
    }
   },
   "outputs": [
    {
     "data": {
      "image/svg+xml": [
       "<?xml version=\"1.0\" encoding=\"UTF-8\" standalone=\"no\"?><svg xmlns=\"http://www.w3.org/2000/svg\" xmlns:xlink=\"http://www.w3.org/1999/xlink\" contentScriptType=\"application/ecmascript\" contentStyleType=\"text/css\" height=\"280px\" preserveAspectRatio=\"none\" style=\"width:710px;height:280px;\" version=\"1.1\" viewBox=\"0 0 710 280\" width=\"710px\" zoomAndPan=\"magnify\"><defs/><g><!--MD5=[fbc87193dbaf4d95561dea2c320d4a47]\n",
       "cluster E1--><a href=\"psysml:edb9bc9d-436b-4f02-a049-a38172af8e0d\" target=\"_top\" title=\"psysml:edb9bc9d-436b-4f02-a049-a38172af8e0d\" xlink:actuate=\"onRequest\" xlink:href=\"psysml:edb9bc9d-436b-4f02-a049-a38172af8e0d\" xlink:show=\"new\" xlink:title=\"psysml:edb9bc9d-436b-4f02-a049-a38172af8e0d\" xlink:type=\"simple\"><polygon fill=\"#FFFFFF\" points=\"16,6,139,6,146,28.2969,688,28.2969,688,268,16,268,16,6\" style=\"stroke: #000000; stroke-width: 1.5;\"/><line style=\"stroke: #000000; stroke-width: 1.5;\" x1=\"16\" x2=\"146\" y1=\"28.2969\" y2=\"28.2969\"/><text fill=\"#000000\" font-family=\"sans-serif\" font-size=\"14\" font-weight=\"bold\" lengthAdjust=\"spacingAndGlyphs\" textLength=\"117\" x=\"20\" y=\"20.9951\">ParameterTest</text></a><!--MD5=[b4997ac47864f28c2f74865a473b2911]\n",
       "class E2--><a href=\"psysml:72c120f1-27bf-4069-82f6-2517ea0440e6\" target=\"_top\" title=\"psysml:72c120f1-27bf-4069-82f6-2517ea0440e6\" xlink:actuate=\"onRequest\" xlink:href=\"psysml:72c120f1-27bf-4069-82f6-2517ea0440e6\" xlink:show=\"new\" xlink:title=\"psysml:72c120f1-27bf-4069-82f6-2517ea0440e6\" xlink:type=\"simple\"><rect fill=\"#FFFFFF\" height=\"88.3516\" id=\"E2\" style=\"stroke: #383838; stroke-width: 1.5;\" width=\"95\" x=\"498.5\" y=\"164\"/><text fill=\"#000000\" font-family=\"sans-serif\" font-size=\"12\" font-style=\"italic\" lengthAdjust=\"spacingAndGlyphs\" textLength=\"93\" x=\"499.5\" y=\"180.1387\">«attribute def»</text><text fill=\"#000000\" font-family=\"sans-serif\" font-size=\"12\" lengthAdjust=\"spacingAndGlyphs\" textLength=\"8\" x=\"542\" y=\"194.1074\">A</text><line style=\"stroke: #383838; stroke-width: 1.5;\" x1=\"499.5\" x2=\"592.5\" y1=\"201.9375\" y2=\"201.9375\"/><text fill=\"#000000\" font-family=\"sans-serif\" font-size=\"11\" lengthAdjust=\"spacingAndGlyphs\" textLength=\"48\" x=\"504.5\" y=\"232.9526\">x: String</text><text fill=\"#000000\" font-family=\"sans-serif\" font-size=\"11\" lengthAdjust=\"spacingAndGlyphs\" textLength=\"21\" x=\"504.5\" y=\"245.7573\">y: A</text><line style=\"stroke: #383838; stroke-width: 1.0;\" x1=\"499.5\" x2=\"518.5\" y1=\"216.3398\" y2=\"216.3398\"/><text fill=\"#000000\" font-family=\"sans-serif\" font-size=\"11\" lengthAdjust=\"spacingAndGlyphs\" textLength=\"55\" x=\"518.5\" y=\"219.6479\">attributes</text><line style=\"stroke: #383838; stroke-width: 1.0;\" x1=\"573.5\" x2=\"592.5\" y1=\"216.3398\" y2=\"216.3398\"/></a><!--MD5=[09b614a08d8cba4a07c9adeb5e0fee81]\n",
       "class E3--><a href=\"psysml:449a2126-050e-4d76-9596-2419df0cfe8a\" target=\"_top\" title=\"psysml:449a2126-050e-4d76-9596-2419df0cfe8a\" xlink:actuate=\"onRequest\" xlink:href=\"psysml:449a2126-050e-4d76-9596-2419df0cfe8a\" xlink:show=\"new\" xlink:title=\"psysml:449a2126-050e-4d76-9596-2419df0cfe8a\" xlink:type=\"simple\"><rect fill=\"#FFFFFF\" height=\"45.9375\" id=\"E3\" rx=\"10\" ry=\"10\" style=\"stroke: #383838; stroke-width: 1.5;\" width=\"71\" x=\"600.5\" y=\"41\"/><text fill=\"#000000\" font-family=\"sans-serif\" font-size=\"12\" font-style=\"italic\" lengthAdjust=\"spacingAndGlyphs\" textLength=\"69\" x=\"601.5\" y=\"57.1387\">«attribute»</text><text fill=\"#000000\" font-family=\"sans-serif\" font-size=\"12\" lengthAdjust=\"spacingAndGlyphs\" textLength=\"24\" x=\"624\" y=\"71.1074\">a: A</text><line style=\"stroke: #383838; stroke-width: 1.5;\" x1=\"601.5\" x2=\"670.5\" y1=\"78.9375\" y2=\"78.9375\"/></a><!--MD5=[ebbe1d658d1005bcc118a6aa81145e00]\n",
       "class E4--><a href=\"psysml:42a33a96-c599-425f-a532-027e99d4f603\" target=\"_top\" title=\"psysml:42a33a96-c599-425f-a532-027e99d4f603\" xlink:actuate=\"onRequest\" xlink:href=\"psysml:42a33a96-c599-425f-a532-027e99d4f603\" xlink:show=\"new\" xlink:title=\"psysml:42a33a96-c599-425f-a532-027e99d4f603\" xlink:type=\"simple\"><rect fill=\"#FFFFFF\" height=\"45.9375\" id=\"E4\" style=\"stroke: #383838; stroke-width: 1.5;\" width=\"108\" x=\"457\" y=\"41\"/><text fill=\"#000000\" font-family=\"sans-serif\" font-size=\"12\" font-style=\"italic\" lengthAdjust=\"spacingAndGlyphs\" textLength=\"106\" x=\"458\" y=\"57.1387\">«calculation def»</text><text fill=\"#000000\" font-family=\"sans-serif\" font-size=\"12\" lengthAdjust=\"spacingAndGlyphs\" textLength=\"7\" x=\"507.5\" y=\"71.1074\">F</text><line style=\"stroke: #383838; stroke-width: 1.5;\" x1=\"458\" x2=\"564\" y1=\"78.9375\" y2=\"78.9375\"/></a><!--MD5=[270fce915f116d4de14055a7c1d9a0f3]\n",
       "class E5--><a href=\"psysml:04c0c290-1f5b-4b73-9b90-1720c7950e1a\" target=\"_top\" title=\"psysml:04c0c290-1f5b-4b73-9b90-1720c7950e1a\" xlink:actuate=\"onRequest\" xlink:href=\"psysml:04c0c290-1f5b-4b73-9b90-1720c7950e1a\" xlink:show=\"new\" xlink:title=\"psysml:04c0c290-1f5b-4b73-9b90-1720c7950e1a\" xlink:type=\"simple\"><rect fill=\"#FFFFFF\" height=\"45.9375\" id=\"E5\" rx=\"10\" ry=\"10\" style=\"stroke: #383838; stroke-width: 1.5;\" width=\"71\" x=\"350.5\" y=\"41\"/><text fill=\"#000000\" font-family=\"sans-serif\" font-size=\"12\" font-style=\"italic\" lengthAdjust=\"spacingAndGlyphs\" textLength=\"69\" x=\"351.5\" y=\"57.1387\">«attribute»</text><text fill=\"#000000\" font-family=\"sans-serif\" font-size=\"12\" lengthAdjust=\"spacingAndGlyphs\" textLength=\"4\" x=\"384\" y=\"71.1074\">f</text><line style=\"stroke: #383838; stroke-width: 1.5;\" x1=\"351.5\" x2=\"420.5\" y1=\"78.9375\" y2=\"78.9375\"/></a><!--MD5=[60a26617385b1d2d0262a64233df1f8d]\n",
       "class E6--><a href=\"psysml:514c602a-a137-45fe-b85f-d9c421e6e02c\" target=\"_top\" title=\"psysml:514c602a-a137-45fe-b85f-d9c421e6e02c\" xlink:actuate=\"onRequest\" xlink:href=\"psysml:514c602a-a137-45fe-b85f-d9c421e6e02c\" xlink:show=\"new\" xlink:title=\"psysml:514c602a-a137-45fe-b85f-d9c421e6e02c\" xlink:type=\"simple\"><rect fill=\"#FFFFFF\" height=\"45.9375\" id=\"E6\" rx=\"10\" ry=\"10\" style=\"stroke: #383838; stroke-width: 1.5;\" width=\"71\" x=\"244.5\" y=\"41\"/><text fill=\"#000000\" font-family=\"sans-serif\" font-size=\"12\" font-style=\"italic\" lengthAdjust=\"spacingAndGlyphs\" textLength=\"69\" x=\"245.5\" y=\"57.1387\">«attribute»</text><text fill=\"#000000\" font-family=\"sans-serif\" font-size=\"12\" lengthAdjust=\"spacingAndGlyphs\" textLength=\"8\" x=\"276\" y=\"71.1074\">g</text><line style=\"stroke: #383838; stroke-width: 1.5;\" x1=\"245.5\" x2=\"314.5\" y1=\"78.9375\" y2=\"78.9375\"/></a><!--MD5=[2156ba9850f5573cc1fc38a6a4b2f02b]\n",
       "class E7--><a href=\"psysml:1980a670-9bad-4a6e-b892-05e752677470\" target=\"_top\" title=\"psysml:1980a670-9bad-4a6e-b892-05e752677470\" xlink:actuate=\"onRequest\" xlink:href=\"psysml:1980a670-9bad-4a6e-b892-05e752677470\" xlink:show=\"new\" xlink:title=\"psysml:1980a670-9bad-4a6e-b892-05e752677470\" xlink:type=\"simple\"><rect fill=\"#FFFFFF\" height=\"45.9375\" id=\"E7\" rx=\"10\" ry=\"10\" style=\"stroke: #383838; stroke-width: 1.5;\" width=\"71\" x=\"138.5\" y=\"41\"/><text fill=\"#000000\" font-family=\"sans-serif\" font-size=\"12\" font-style=\"italic\" lengthAdjust=\"spacingAndGlyphs\" textLength=\"69\" x=\"139.5\" y=\"57.1387\">«attribute»</text><text fill=\"#000000\" font-family=\"sans-serif\" font-size=\"12\" lengthAdjust=\"spacingAndGlyphs\" textLength=\"8\" x=\"170\" y=\"71.1074\">b</text><line style=\"stroke: #383838; stroke-width: 1.5;\" x1=\"139.5\" x2=\"208.5\" y1=\"78.9375\" y2=\"78.9375\"/></a><!--MD5=[b9389687b975829384b498ac4b7476b2]\n",
       "class E8--><a href=\"psysml:c3372668-2566-45ef-b19a-e891239054bd\" target=\"_top\" title=\"psysml:c3372668-2566-45ef-b19a-e891239054bd\" xlink:actuate=\"onRequest\" xlink:href=\"psysml:c3372668-2566-45ef-b19a-e891239054bd\" xlink:show=\"new\" xlink:title=\"psysml:c3372668-2566-45ef-b19a-e891239054bd\" xlink:type=\"simple\"><rect fill=\"#FFFFFF\" height=\"45.9375\" id=\"E8\" rx=\"10\" ry=\"10\" style=\"stroke: #383838; stroke-width: 1.5;\" width=\"71\" x=\"32.5\" y=\"41\"/><text fill=\"#000000\" font-family=\"sans-serif\" font-size=\"12\" font-style=\"italic\" lengthAdjust=\"spacingAndGlyphs\" textLength=\"69\" x=\"33.5\" y=\"57.1387\">«attribute»</text><text fill=\"#000000\" font-family=\"sans-serif\" font-size=\"12\" lengthAdjust=\"spacingAndGlyphs\" textLength=\"7\" x=\"64.5\" y=\"71.1074\">c</text><line style=\"stroke: #383838; stroke-width: 1.5;\" x1=\"33.5\" x2=\"102.5\" y1=\"78.9375\" y2=\"78.9375\"/></a><!--MD5=[05d275557350bfb9b23a4ef7222b4c39]\n",
       "link E3 to E2--><a href=\"psysml:c16b553f-69e4-4116-bada-9588c5abaa28\" target=\"_top\" title=\"psysml:c16b553f-69e4-4116-bada-9588c5abaa28\" xlink:actuate=\"onRequest\" xlink:href=\"psysml:c16b553f-69e4-4116-bada-9588c5abaa28\" xlink:show=\"new\" xlink:title=\"psysml:c16b553f-69e4-4116-bada-9588c5abaa28\" xlink:type=\"simple\"><path d=\"M621.94,87.19 C611.77,103.23 597.51,125.73 584.09,146.9 \" fill=\"none\" id=\"E3-&gt;E2\" style=\"stroke: #383838; stroke-width: 1.0;\"/><polygon fill=\"#FFFFFF\" points=\"573.37,163.82,577.6195,144.0225,589.448,151.5115,573.37,163.82\" style=\"stroke: #383838; stroke-width: 1.0;\"/><ellipse cx=\"582.3584\" cy=\"140.2764\" fill=\"#383838\" rx=\"2\" ry=\"2\" style=\"stroke: #383838; stroke-width: 1.0;\"/><ellipse cx=\"590.8073\" cy=\"145.6258\" fill=\"#383838\" rx=\"2\" ry=\"2\" style=\"stroke: #383838; stroke-width: 1.0;\"/></a><!--MD5=[ddeed8deb2209213b62e6cfabaa108b2]\n",
       "reverse link E4 to E2--><a href=\"psysml:7844d093-18d6-4bcd-8bc7-6ee8559e13ae\" target=\"_top\" title=\"psysml:7844d093-18d6-4bcd-8bc7-6ee8559e13ae\" xlink:actuate=\"onRequest\" xlink:href=\"psysml:7844d093-18d6-4bcd-8bc7-6ee8559e13ae\" xlink:show=\"new\" xlink:title=\"psysml:7844d093-18d6-4bcd-8bc7-6ee8559e13ae\" xlink:type=\"simple\"><path d=\"M519.62,99.96 C524.37,119.25 530.31,143.36 535.36,163.82 \" fill=\"none\" id=\"E4&lt;-E2\" style=\"stroke: #383838; stroke-width: 1.0;\"/><polygon fill=\"#FFFFFF\" points=\"516.47,87.19,514.0229,93.9732,519.3432,98.841,521.7903,92.0577,516.47,87.19\" style=\"stroke: #383838; stroke-width: 1.0;\"/><text fill=\"#000000\" font-family=\"sans-serif\" font-size=\"13\" lengthAdjust=\"spacingAndGlyphs\" textLength=\"8\" x=\"528\" y=\"130.0669\">p</text></a><!--MD5=[f916c625218820e8c9adf8b03a71dc41]\n",
       "@startuml\r\n",
       "skinparam monochrome true\r\n",
       "skinparam classbackgroundcolor white\r\n",
       "skinparam shadowing false\r\n",
       "skinparam wrapWidth 300\r\n",
       "hide circle\r\n",
       "\r\n",
       "package \"ParameterTest\" as E1  [[psysml:edb9bc9d-436b-4f02-a049-a38172af8e0d ]]  {\r\n",
       "comp def \"A\" as E2  <<(T,blue)attribute def>> [[psysml:72c120f1-27bf-4069-82f6-2517ea0440e6 ]] {\r\n",
       "- - attributes - -\r\n",
       "x: String\r\n",
       "y: A\r\n",
       "}\r\n",
       "comp usage \"a: A\" as E3  <<(T,blue)attribute>> [[psysml:449a2126-050e-4d76-9596-2419df0cfe8a ]] {\r\n",
       "}\r\n",
       "comp def \"F\" as E4  <<(T,blue)calculation def>> [[psysml:42a33a96-c599-425f-a532-027e99d4f603 ]] {\r\n",
       "}\r\n",
       "comp usage \"f\" as E5  <<(T,blue)attribute>> [[psysml:04c0c290-1f5b-4b73-9b90-1720c7950e1a ]] {\r\n",
       "}\r\n",
       "comp usage \"g\" as E6  <<(T,blue)attribute>> [[psysml:514c602a-a137-45fe-b85f-d9c421e6e02c ]] {\r\n",
       "}\r\n",
       "comp usage \"b\" as E7  <<(T,blue)attribute>> [[psysml:1980a670-9bad-4a6e-b892-05e752677470 ]] {\r\n",
       "}\r\n",
       "comp usage \"c\" as E8  <<(T,blue)attribute>> [[psysml:c3372668-2566-45ef-b19a-e891239054bd ]] {\r\n",
       "}\r\n",
       "E3 - -:|> E2 [[psysml:c16b553f-69e4-4116-bada-9588c5abaa28 ]] \r\n",
       "E4 o- - E2 [[psysml:7844d093-18d6-4bcd-8bc7-6ee8559e13ae ]] : p\r\n",
       "}\r\n",
       "@enduml\r\n",
       "\n",
       "PlantUML version 1.2020.13(Sat Jun 13 12:26:38 UTC 2020)\n",
       "(EPL source distribution)\n",
       "Java Runtime: OpenJDK Runtime Environment\n",
       "JVM: OpenJDK 64-Bit Server VM\n",
       "Default Encoding: UTF-8\n",
       "Language: en\n",
       "Country: null\n",
       "--></g></svg>"
      ]
     },
     "execution_count": 38,
     "metadata": {},
     "output_type": "execute_result"
    }
   ],
   "source": [
    "%viz --style=\"DEFAULT\" --view=\"Tree\" \"ParameterTest\""
   ]
  },
  {
   "cell_type": "code",
   "execution_count": 39,
   "id": "changing-knife",
   "metadata": {
    "execution": {
     "iopub.execute_input": "2021-03-25T13:44:05.167951Z",
     "iopub.status.busy": "2021-03-25T13:44:05.167461Z",
     "iopub.status.idle": "2021-03-25T13:44:05.175291Z",
     "shell.execute_reply": "2021-03-25T13:44:05.174943Z"
    }
   },
   "outputs": [
    {
     "data": {
      "image/svg+xml": [
       "<?xml version=\"1.0\" encoding=\"UTF-8\" standalone=\"no\"?><svg xmlns=\"http://www.w3.org/2000/svg\" xmlns:xlink=\"http://www.w3.org/1999/xlink\" contentScriptType=\"application/ecmascript\" contentStyleType=\"text/css\" height=\"12px\" preserveAspectRatio=\"none\" style=\"width:12px;height:12px;\" version=\"1.1\" viewBox=\"0 0 12 12\" width=\"12px\" zoomAndPan=\"magnify\"><defs/><g><!--MD5=[c5f280e076d0d61ccf4b0f27871bda1d]\n",
       "@startuml\r\n",
       "skinparam monochrome true\r\n",
       "skinparam classbackgroundcolor white\r\n",
       "skinparam shadowing false\r\n",
       "skinparam wrapWidth 300\r\n",
       "hide circle\r\n",
       "\r\n",
       "@enduml\r\n",
       "\n",
       "PlantUML version 1.2020.13(Sat Jun 13 12:26:38 UTC 2020)\n",
       "(EPL source distribution)\n",
       "Java Runtime: OpenJDK Runtime Environment\n",
       "JVM: OpenJDK 64-Bit Server VM\n",
       "Default Encoding: UTF-8\n",
       "Language: en\n",
       "Country: null\n",
       "--></g></svg>"
      ]
     },
     "execution_count": 39,
     "metadata": {},
     "output_type": "execute_result"
    }
   ],
   "source": [
    "%viz --style=\"DEFAULT\" --view=\"State\" \"ParameterTest\""
   ]
  },
  {
   "cell_type": "code",
   "execution_count": 40,
   "id": "partial-alcohol",
   "metadata": {
    "execution": {
     "iopub.execute_input": "2021-03-25T13:44:05.227099Z",
     "iopub.status.busy": "2021-03-25T13:44:05.226404Z",
     "iopub.status.idle": "2021-03-25T13:44:05.312188Z",
     "shell.execute_reply": "2021-03-25T13:44:05.310937Z"
    }
   },
   "outputs": [
    {
     "data": {
      "image/svg+xml": [
       "<?xml version=\"1.0\" encoding=\"UTF-8\" standalone=\"no\"?><svg xmlns=\"http://www.w3.org/2000/svg\" xmlns:xlink=\"http://www.w3.org/1999/xlink\" contentScriptType=\"application/ecmascript\" contentStyleType=\"text/css\" height=\"112px\" preserveAspectRatio=\"none\" style=\"width:874px;height:112px;\" version=\"1.1\" viewBox=\"0 0 874 112\" width=\"874px\" zoomAndPan=\"magnify\"><defs/><g><!--MD5=[fbc87193dbaf4d95561dea2c320d4a47]\n",
       "cluster E1--><a href=\"psysml:edb9bc9d-436b-4f02-a049-a38172af8e0d\" target=\"_top\" title=\"psysml:edb9bc9d-436b-4f02-a049-a38172af8e0d\" xlink:actuate=\"onRequest\" xlink:href=\"psysml:edb9bc9d-436b-4f02-a049-a38172af8e0d\" xlink:show=\"new\" xlink:title=\"psysml:edb9bc9d-436b-4f02-a049-a38172af8e0d\" xlink:type=\"simple\"><polygon fill=\"#FFFFFF\" points=\"16,6,139,6,146,28.2969,852,28.2969,852,100,16,100,16,6\" style=\"stroke: #000000; stroke-width: 1.5;\"/><line style=\"stroke: #000000; stroke-width: 1.5;\" x1=\"16\" x2=\"146\" y1=\"28.2969\" y2=\"28.2969\"/><text fill=\"#000000\" font-family=\"sans-serif\" font-size=\"14\" font-weight=\"bold\" lengthAdjust=\"spacingAndGlyphs\" textLength=\"117\" x=\"20\" y=\"20.9951\">ParameterTest</text></a><g id=\"E1.E2\"><a href=\"psysml:72c120f1-27bf-4069-82f6-2517ea0440e6\" target=\"_top\" title=\"psysml:72c120f1-27bf-4069-82f6-2517ea0440e6\" xlink:actuate=\"onRequest\" xlink:href=\"psysml:72c120f1-27bf-4069-82f6-2517ea0440e6\" xlink:show=\"new\" xlink:title=\"psysml:72c120f1-27bf-4069-82f6-2517ea0440e6\" xlink:type=\"simple\"><rect fill=\"#FFFFFF\" height=\"42.9375\" id=\"E2\" style=\"stroke: #383838; stroke-width: 1.5;\" width=\"100\" x=\"736\" y=\"41\"/><rect fill=\"#F8F8F8\" height=\"37.9375\" style=\"stroke: #383838; stroke-width: 1.5;\" width=\"100\" x=\"736\" y=\"41\"/><text fill=\"#000000\" font-family=\"sans-serif\" font-size=\"12\" font-style=\"italic\" lengthAdjust=\"spacingAndGlyphs\" textLength=\"93\" x=\"739.5\" y=\"57.1387\">«attribute def»</text><text fill=\"#000000\" font-family=\"sans-serif\" font-size=\"12\" lengthAdjust=\"spacingAndGlyphs\" textLength=\"8\" x=\"782\" y=\"71.1074\">A</text></a></g><g id=\"E1.E4\"><a href=\"psysml:42a33a96-c599-425f-a532-027e99d4f603\" target=\"_top\" title=\"psysml:42a33a96-c599-425f-a532-027e99d4f603\" xlink:actuate=\"onRequest\" xlink:href=\"psysml:42a33a96-c599-425f-a532-027e99d4f603\" xlink:show=\"new\" xlink:title=\"psysml:42a33a96-c599-425f-a532-027e99d4f603\" xlink:type=\"simple\"><rect fill=\"#FFFFFF\" height=\"42.9375\" id=\"E4\" style=\"stroke: #383838; stroke-width: 1.5;\" width=\"113\" x=\"587.5\" y=\"41\"/><rect fill=\"#F8F8F8\" height=\"37.9375\" style=\"stroke: #383838; stroke-width: 1.5;\" width=\"113\" x=\"587.5\" y=\"41\"/><text fill=\"#000000\" font-family=\"sans-serif\" font-size=\"12\" font-style=\"italic\" lengthAdjust=\"spacingAndGlyphs\" textLength=\"106\" x=\"591\" y=\"57.1387\">«calculation def»</text><text fill=\"#000000\" font-family=\"sans-serif\" font-size=\"12\" lengthAdjust=\"spacingAndGlyphs\" textLength=\"7\" x=\"640.5\" y=\"71.1074\">F</text></a></g><g id=\"E1.E3\"><a href=\"psysml:449a2126-050e-4d76-9596-2419df0cfe8a\" target=\"_top\" title=\"psysml:449a2126-050e-4d76-9596-2419df0cfe8a\" xlink:actuate=\"onRequest\" xlink:href=\"psysml:449a2126-050e-4d76-9596-2419df0cfe8a\" xlink:show=\"new\" xlink:title=\"psysml:449a2126-050e-4d76-9596-2419df0cfe8a\" xlink:type=\"simple\"><rect fill=\"#FFFFFF\" height=\"42.9375\" id=\"E3\" rx=\"10\" ry=\"10\" style=\"stroke: #383838; stroke-width: 1.5;\" width=\"76\" x=\"476\" y=\"41\"/><rect fill=\"#F8F8F8\" height=\"37.9375\" rx=\"10\" ry=\"10\" style=\"stroke: #F8F8F8; stroke-width: 1.5;\" width=\"76\" x=\"476\" y=\"41\"/><rect fill=\"#F8F8F8\" height=\"10\" style=\"stroke: #F8F8F8; stroke-width: 1.5;\" width=\"76\" x=\"476\" y=\"68.9375\"/><rect fill=\"none\" height=\"42.9375\" id=\"E3\" rx=\"10\" ry=\"10\" style=\"stroke: #383838; stroke-width: 1.5;\" width=\"76\" x=\"476\" y=\"41\"/><text fill=\"#000000\" font-family=\"sans-serif\" font-size=\"12\" font-style=\"italic\" lengthAdjust=\"spacingAndGlyphs\" textLength=\"69\" x=\"479.5\" y=\"57.1387\">«attribute»</text><text fill=\"#000000\" font-family=\"sans-serif\" font-size=\"12\" lengthAdjust=\"spacingAndGlyphs\" textLength=\"24\" x=\"502\" y=\"71.1074\">a: A</text></a></g><g id=\"E1.E5\"><a href=\"psysml:04c0c290-1f5b-4b73-9b90-1720c7950e1a\" target=\"_top\" title=\"psysml:04c0c290-1f5b-4b73-9b90-1720c7950e1a\" xlink:actuate=\"onRequest\" xlink:href=\"psysml:04c0c290-1f5b-4b73-9b90-1720c7950e1a\" xlink:show=\"new\" xlink:title=\"psysml:04c0c290-1f5b-4b73-9b90-1720c7950e1a\" xlink:type=\"simple\"><rect fill=\"#FFFFFF\" height=\"42.9375\" id=\"E5\" rx=\"10\" ry=\"10\" style=\"stroke: #383838; stroke-width: 1.5;\" width=\"76\" x=\"365\" y=\"41\"/><rect fill=\"#F8F8F8\" height=\"37.9375\" rx=\"10\" ry=\"10\" style=\"stroke: #F8F8F8; stroke-width: 1.5;\" width=\"76\" x=\"365\" y=\"41\"/><rect fill=\"#F8F8F8\" height=\"10\" style=\"stroke: #F8F8F8; stroke-width: 1.5;\" width=\"76\" x=\"365\" y=\"68.9375\"/><rect fill=\"none\" height=\"42.9375\" id=\"E5\" rx=\"10\" ry=\"10\" style=\"stroke: #383838; stroke-width: 1.5;\" width=\"76\" x=\"365\" y=\"41\"/><text fill=\"#000000\" font-family=\"sans-serif\" font-size=\"12\" font-style=\"italic\" lengthAdjust=\"spacingAndGlyphs\" textLength=\"69\" x=\"368.5\" y=\"57.1387\">«attribute»</text><text fill=\"#000000\" font-family=\"sans-serif\" font-size=\"12\" lengthAdjust=\"spacingAndGlyphs\" textLength=\"4\" x=\"401\" y=\"71.1074\">f</text></a></g><g id=\"E1.E6\"><a href=\"psysml:514c602a-a137-45fe-b85f-d9c421e6e02c\" target=\"_top\" title=\"psysml:514c602a-a137-45fe-b85f-d9c421e6e02c\" xlink:actuate=\"onRequest\" xlink:href=\"psysml:514c602a-a137-45fe-b85f-d9c421e6e02c\" xlink:show=\"new\" xlink:title=\"psysml:514c602a-a137-45fe-b85f-d9c421e6e02c\" xlink:type=\"simple\"><rect fill=\"#FFFFFF\" height=\"42.9375\" id=\"E6\" rx=\"10\" ry=\"10\" style=\"stroke: #383838; stroke-width: 1.5;\" width=\"76\" x=\"254\" y=\"41\"/><rect fill=\"#F8F8F8\" height=\"37.9375\" rx=\"10\" ry=\"10\" style=\"stroke: #F8F8F8; stroke-width: 1.5;\" width=\"76\" x=\"254\" y=\"41\"/><rect fill=\"#F8F8F8\" height=\"10\" style=\"stroke: #F8F8F8; stroke-width: 1.5;\" width=\"76\" x=\"254\" y=\"68.9375\"/><rect fill=\"none\" height=\"42.9375\" id=\"E6\" rx=\"10\" ry=\"10\" style=\"stroke: #383838; stroke-width: 1.5;\" width=\"76\" x=\"254\" y=\"41\"/><text fill=\"#000000\" font-family=\"sans-serif\" font-size=\"12\" font-style=\"italic\" lengthAdjust=\"spacingAndGlyphs\" textLength=\"69\" x=\"257.5\" y=\"57.1387\">«attribute»</text><text fill=\"#000000\" font-family=\"sans-serif\" font-size=\"12\" lengthAdjust=\"spacingAndGlyphs\" textLength=\"8\" x=\"288\" y=\"71.1074\">g</text></a></g><g id=\"E1.E7\"><a href=\"psysml:1980a670-9bad-4a6e-b892-05e752677470\" target=\"_top\" title=\"psysml:1980a670-9bad-4a6e-b892-05e752677470\" xlink:actuate=\"onRequest\" xlink:href=\"psysml:1980a670-9bad-4a6e-b892-05e752677470\" xlink:show=\"new\" xlink:title=\"psysml:1980a670-9bad-4a6e-b892-05e752677470\" xlink:type=\"simple\"><rect fill=\"#FFFFFF\" height=\"42.9375\" id=\"E7\" rx=\"10\" ry=\"10\" style=\"stroke: #383838; stroke-width: 1.5;\" width=\"76\" x=\"143\" y=\"41\"/><rect fill=\"#F8F8F8\" height=\"37.9375\" rx=\"10\" ry=\"10\" style=\"stroke: #F8F8F8; stroke-width: 1.5;\" width=\"76\" x=\"143\" y=\"41\"/><rect fill=\"#F8F8F8\" height=\"10\" style=\"stroke: #F8F8F8; stroke-width: 1.5;\" width=\"76\" x=\"143\" y=\"68.9375\"/><rect fill=\"none\" height=\"42.9375\" id=\"E7\" rx=\"10\" ry=\"10\" style=\"stroke: #383838; stroke-width: 1.5;\" width=\"76\" x=\"143\" y=\"41\"/><text fill=\"#000000\" font-family=\"sans-serif\" font-size=\"12\" font-style=\"italic\" lengthAdjust=\"spacingAndGlyphs\" textLength=\"69\" x=\"146.5\" y=\"57.1387\">«attribute»</text><text fill=\"#000000\" font-family=\"sans-serif\" font-size=\"12\" lengthAdjust=\"spacingAndGlyphs\" textLength=\"8\" x=\"177\" y=\"71.1074\">b</text></a></g><g id=\"E1.E8\"><a href=\"psysml:c3372668-2566-45ef-b19a-e891239054bd\" target=\"_top\" title=\"psysml:c3372668-2566-45ef-b19a-e891239054bd\" xlink:actuate=\"onRequest\" xlink:href=\"psysml:c3372668-2566-45ef-b19a-e891239054bd\" xlink:show=\"new\" xlink:title=\"psysml:c3372668-2566-45ef-b19a-e891239054bd\" xlink:type=\"simple\"><rect fill=\"#FFFFFF\" height=\"42.9375\" id=\"E8\" rx=\"10\" ry=\"10\" style=\"stroke: #383838; stroke-width: 1.5;\" width=\"76\" x=\"32\" y=\"41\"/><rect fill=\"#F8F8F8\" height=\"37.9375\" rx=\"10\" ry=\"10\" style=\"stroke: #F8F8F8; stroke-width: 1.5;\" width=\"76\" x=\"32\" y=\"41\"/><rect fill=\"#F8F8F8\" height=\"10\" style=\"stroke: #F8F8F8; stroke-width: 1.5;\" width=\"76\" x=\"32\" y=\"68.9375\"/><rect fill=\"none\" height=\"42.9375\" id=\"E8\" rx=\"10\" ry=\"10\" style=\"stroke: #383838; stroke-width: 1.5;\" width=\"76\" x=\"32\" y=\"41\"/><text fill=\"#000000\" font-family=\"sans-serif\" font-size=\"12\" font-style=\"italic\" lengthAdjust=\"spacingAndGlyphs\" textLength=\"69\" x=\"35.5\" y=\"57.1387\">«attribute»</text><text fill=\"#000000\" font-family=\"sans-serif\" font-size=\"12\" lengthAdjust=\"spacingAndGlyphs\" textLength=\"7\" x=\"66.5\" y=\"71.1074\">c</text></a></g><!--MD5=[03f656a2889a5685252e8282f8906bc9]\n",
       "@startuml\r\n",
       "skinparam ranksep 8\r\n",
       "skinparam rectangle {\r\n",
       " backgroundColor<<block>> LightGreen\r\n",
       "}\r\n",
       "skinparam monochrome true\r\n",
       "skinparam classbackgroundcolor white\r\n",
       "skinparam shadowing false\r\n",
       "skinparam wrapWidth 300\r\n",
       "hide circle\r\n",
       "\r\n",
       "package \"ParameterTest\" as E1  [[psysml:edb9bc9d-436b-4f02-a049-a38172af8e0d ]]  {\r\n",
       "def \"A\" as E2  <<(T,blue)attribute def>> [[psysml:72c120f1-27bf-4069-82f6-2517ea0440e6 ]] \r\n",
       "rec usage \"a: A\" as E3  <<(T,blue)attribute>> [[psysml:449a2126-050e-4d76-9596-2419df0cfe8a ]] {\r\n",
       "}\r\n",
       "def \"F\" as E4  <<(T,blue)calculation def>> [[psysml:42a33a96-c599-425f-a532-027e99d4f603 ]] \r\n",
       "rec usage \"f\" as E5  <<(T,blue)attribute>> [[psysml:04c0c290-1f5b-4b73-9b90-1720c7950e1a ]] {\r\n",
       "}\r\n",
       "rec usage \"g\" as E6  <<(T,blue)attribute>> [[psysml:514c602a-a137-45fe-b85f-d9c421e6e02c ]] {\r\n",
       "}\r\n",
       "rec usage \"b\" as E7  <<(T,blue)attribute>> [[psysml:1980a670-9bad-4a6e-b892-05e752677470 ]] {\r\n",
       "}\r\n",
       "rec usage \"c\" as E8  <<(T,blue)attribute>> [[psysml:c3372668-2566-45ef-b19a-e891239054bd ]] {\r\n",
       "}\r\n",
       "}\r\n",
       "@enduml\r\n",
       "\n",
       "PlantUML version 1.2020.13(Sat Jun 13 12:26:38 UTC 2020)\n",
       "(EPL source distribution)\n",
       "Java Runtime: OpenJDK Runtime Environment\n",
       "JVM: OpenJDK 64-Bit Server VM\n",
       "Default Encoding: UTF-8\n",
       "Language: en\n",
       "Country: null\n",
       "--></g></svg>"
      ]
     },
     "execution_count": 40,
     "metadata": {},
     "output_type": "execute_result"
    }
   ],
   "source": [
    "%viz --style=\"DEFAULT\" --view=\"Interconnection\" \"ParameterTest\""
   ]
  },
  {
   "cell_type": "code",
   "execution_count": 41,
   "id": "romance-wichita",
   "metadata": {
    "execution": {
     "iopub.execute_input": "2021-03-25T13:44:05.365222Z",
     "iopub.status.busy": "2021-03-25T13:44:05.364311Z",
     "iopub.status.idle": "2021-03-25T13:44:05.426938Z",
     "shell.execute_reply": "2021-03-25T13:44:05.426279Z"
    }
   },
   "outputs": [
    {
     "data": {
      "image/svg+xml": [
       "<?xml version=\"1.0\" encoding=\"UTF-8\" standalone=\"no\"?><svg xmlns=\"http://www.w3.org/2000/svg\" xmlns:xlink=\"http://www.w3.org/1999/xlink\" contentScriptType=\"application/ecmascript\" contentStyleType=\"text/css\" height=\"126px\" preserveAspectRatio=\"none\" style=\"width:166px;height:126px;\" version=\"1.1\" viewBox=\"0 0 166 126\" width=\"166px\" zoomAndPan=\"magnify\"><defs/><g><!--MD5=[fbc87193dbaf4d95561dea2c320d4a47]\n",
       "cluster E1--><a href=\"psysml:42a33a96-c599-425f-a532-027e99d4f603\" target=\"_top\" title=\"psysml:42a33a96-c599-425f-a532-027e99d4f603\" xlink:actuate=\"onRequest\" xlink:href=\"psysml:42a33a96-c599-425f-a532-027e99d4f603\" xlink:show=\"new\" xlink:title=\"psysml:42a33a96-c599-425f-a532-027e99d4f603\" xlink:type=\"simple\"><rect fill=\"#FFFFFF\" height=\"73\" id=\"E1\" style=\"stroke: #383838; stroke-width: 1.5;\" width=\"148\" x=\"7\" y=\"42.0986\"/><rect fill=\"#F8F8F8\" height=\"37.9375\" style=\"stroke: #383838; stroke-width: 1.5;\" width=\"148\" x=\"7\" y=\"42.0986\"/><text fill=\"#000000\" font-family=\"sans-serif\" font-size=\"12\" font-style=\"italic\" lengthAdjust=\"spacingAndGlyphs\" textLength=\"106\" x=\"28\" y=\"58.2373\">«calculation def»</text><text fill=\"#000000\" font-family=\"sans-serif\" font-size=\"12\" lengthAdjust=\"spacingAndGlyphs\" textLength=\"7\" x=\"77.5\" y=\"72.2061\">F</text></a><text fill=\"#000000\" font-family=\"sans-serif\" font-size=\"14\" lengthAdjust=\"spacingAndGlyphs\" textLength=\"9\" x=\"20.5\" y=\"20.7969\">p</text><rect fill=\"#383838\" height=\"12\" style=\"stroke: #F8F8F8; stroke-width: 1.5;\" width=\"12\" x=\"19\" y=\"36.0986\"/><text fill=\"#000000\" font-family=\"sans-serif\" font-size=\"14\" lengthAdjust=\"spacingAndGlyphs\" textLength=\"9\" x=\"67.5\" y=\"20.7969\">q</text><rect fill=\"#383838\" height=\"12\" style=\"stroke: #F8F8F8; stroke-width: 1.5;\" width=\"12\" x=\"66\" y=\"36.0986\"/><!--MD5=[d7322f54f85c1b3dcf2cc200e424ebd8]\n",
       "@startuml\r\n",
       "skinparam ranksep 8\r\n",
       "skinparam monochrome true\r\n",
       "skinparam classbackgroundcolor white\r\n",
       "skinparam shadowing false\r\n",
       "skinparam wrapWidth 300\r\n",
       "hide circle\r\n",
       "\r\n",
       "rec def \"F\" as E1  <<(T,blue)calculation def>> [[psysml:42a33a96-c599-425f-a532-027e99d4f603 ]] {\r\n",
       "portin \"p\" as E2  [[psysml:7844d093-18d6-4bcd-8bc7-6ee8559e13ae ]] \r\n",
       "portin \"q\" as E3  [[psysml:60bdf07c-a2db-456e-a058-70cb9f3de468 ]] \r\n",
       "}\r\n",
       "\r\n",
       "@enduml\r\n",
       "\n",
       "PlantUML version 1.2020.13(Sat Jun 13 12:26:38 UTC 2020)\n",
       "(EPL source distribution)\n",
       "Java Runtime: OpenJDK Runtime Environment\n",
       "JVM: OpenJDK 64-Bit Server VM\n",
       "Default Encoding: UTF-8\n",
       "Language: en\n",
       "Country: null\n",
       "--></g></svg>"
      ]
     },
     "execution_count": 41,
     "metadata": {},
     "output_type": "execute_result"
    }
   ],
   "source": [
    "%viz --style=\"DEFAULT\" --view=\"Action\" \"ParameterTest\""
   ]
  },
  {
   "cell_type": "code",
   "execution_count": 42,
   "id": "amateur-quarter",
   "metadata": {
    "execution": {
     "iopub.execute_input": "2021-03-25T13:44:05.478821Z",
     "iopub.status.busy": "2021-03-25T13:44:05.478316Z",
     "iopub.status.idle": "2021-03-25T13:44:05.736801Z",
     "shell.execute_reply": "2021-03-25T13:44:05.735308Z"
    }
   },
   "outputs": [
    {
     "data": {
      "image/svg+xml": [
       "<?xml version=\"1.0\" encoding=\"UTF-8\" standalone=\"no\"?><svg xmlns=\"http://www.w3.org/2000/svg\" xmlns:xlink=\"http://www.w3.org/1999/xlink\" contentScriptType=\"application/ecmascript\" contentStyleType=\"text/css\" height=\"280px\" preserveAspectRatio=\"none\" style=\"width:710px;height:280px;\" version=\"1.1\" viewBox=\"0 0 710 280\" width=\"710px\" zoomAndPan=\"magnify\"><defs/><g><!--MD5=[fbc87193dbaf4d95561dea2c320d4a47]\n",
       "cluster E1--><a href=\"psysml:edb9bc9d-436b-4f02-a049-a38172af8e0d\" target=\"_top\" title=\"psysml:edb9bc9d-436b-4f02-a049-a38172af8e0d\" xlink:actuate=\"onRequest\" xlink:href=\"psysml:edb9bc9d-436b-4f02-a049-a38172af8e0d\" xlink:show=\"new\" xlink:title=\"psysml:edb9bc9d-436b-4f02-a049-a38172af8e0d\" xlink:type=\"simple\"><polygon fill=\"#FFFFFF\" points=\"16,6,139,6,146,28.2969,688,28.2969,688,268,16,268,16,6\" style=\"stroke: #000000; stroke-width: 1.5;\"/><line style=\"stroke: #000000; stroke-width: 1.5;\" x1=\"16\" x2=\"146\" y1=\"28.2969\" y2=\"28.2969\"/><text fill=\"#000000\" font-family=\"sans-serif\" font-size=\"14\" font-weight=\"bold\" lengthAdjust=\"spacingAndGlyphs\" textLength=\"117\" x=\"20\" y=\"20.9951\">ParameterTest</text></a><!--MD5=[b4997ac47864f28c2f74865a473b2911]\n",
       "class E2--><a href=\"psysml:72c120f1-27bf-4069-82f6-2517ea0440e6\" target=\"_top\" title=\"psysml:72c120f1-27bf-4069-82f6-2517ea0440e6\" xlink:actuate=\"onRequest\" xlink:href=\"psysml:72c120f1-27bf-4069-82f6-2517ea0440e6\" xlink:show=\"new\" xlink:title=\"psysml:72c120f1-27bf-4069-82f6-2517ea0440e6\" xlink:type=\"simple\"><rect fill=\"#FFFFFF\" height=\"88.3516\" id=\"E2\" style=\"stroke: #383838; stroke-width: 1.5;\" width=\"95\" x=\"498.5\" y=\"164\"/><text fill=\"#000000\" font-family=\"sans-serif\" font-size=\"12\" font-style=\"italic\" lengthAdjust=\"spacingAndGlyphs\" textLength=\"93\" x=\"499.5\" y=\"180.1387\">«attribute def»</text><text fill=\"#000000\" font-family=\"sans-serif\" font-size=\"12\" lengthAdjust=\"spacingAndGlyphs\" textLength=\"8\" x=\"542\" y=\"194.1074\">A</text><line style=\"stroke: #383838; stroke-width: 1.5;\" x1=\"499.5\" x2=\"592.5\" y1=\"201.9375\" y2=\"201.9375\"/><text fill=\"#000000\" font-family=\"sans-serif\" font-size=\"11\" lengthAdjust=\"spacingAndGlyphs\" textLength=\"48\" x=\"504.5\" y=\"232.9526\">x: String</text><text fill=\"#000000\" font-family=\"sans-serif\" font-size=\"11\" lengthAdjust=\"spacingAndGlyphs\" textLength=\"21\" x=\"504.5\" y=\"245.7573\">y: A</text><line style=\"stroke: #383838; stroke-width: 1.0;\" x1=\"499.5\" x2=\"518.5\" y1=\"216.3398\" y2=\"216.3398\"/><text fill=\"#000000\" font-family=\"sans-serif\" font-size=\"11\" lengthAdjust=\"spacingAndGlyphs\" textLength=\"55\" x=\"518.5\" y=\"219.6479\">attributes</text><line style=\"stroke: #383838; stroke-width: 1.0;\" x1=\"573.5\" x2=\"592.5\" y1=\"216.3398\" y2=\"216.3398\"/></a><!--MD5=[09b614a08d8cba4a07c9adeb5e0fee81]\n",
       "class E3--><a href=\"psysml:449a2126-050e-4d76-9596-2419df0cfe8a\" target=\"_top\" title=\"psysml:449a2126-050e-4d76-9596-2419df0cfe8a\" xlink:actuate=\"onRequest\" xlink:href=\"psysml:449a2126-050e-4d76-9596-2419df0cfe8a\" xlink:show=\"new\" xlink:title=\"psysml:449a2126-050e-4d76-9596-2419df0cfe8a\" xlink:type=\"simple\"><rect fill=\"#FFFFFF\" height=\"45.9375\" id=\"E3\" rx=\"10\" ry=\"10\" style=\"stroke: #383838; stroke-width: 1.5;\" width=\"71\" x=\"600.5\" y=\"41\"/><text fill=\"#000000\" font-family=\"sans-serif\" font-size=\"12\" font-style=\"italic\" lengthAdjust=\"spacingAndGlyphs\" textLength=\"69\" x=\"601.5\" y=\"57.1387\">«attribute»</text><text fill=\"#000000\" font-family=\"sans-serif\" font-size=\"12\" lengthAdjust=\"spacingAndGlyphs\" textLength=\"24\" x=\"624\" y=\"71.1074\">a: A</text><line style=\"stroke: #383838; stroke-width: 1.5;\" x1=\"601.5\" x2=\"670.5\" y1=\"78.9375\" y2=\"78.9375\"/></a><!--MD5=[ebbe1d658d1005bcc118a6aa81145e00]\n",
       "class E4--><a href=\"psysml:42a33a96-c599-425f-a532-027e99d4f603\" target=\"_top\" title=\"psysml:42a33a96-c599-425f-a532-027e99d4f603\" xlink:actuate=\"onRequest\" xlink:href=\"psysml:42a33a96-c599-425f-a532-027e99d4f603\" xlink:show=\"new\" xlink:title=\"psysml:42a33a96-c599-425f-a532-027e99d4f603\" xlink:type=\"simple\"><rect fill=\"#FFFFFF\" height=\"45.9375\" id=\"E4\" style=\"stroke: #383838; stroke-width: 1.5;\" width=\"108\" x=\"457\" y=\"41\"/><text fill=\"#000000\" font-family=\"sans-serif\" font-size=\"12\" font-style=\"italic\" lengthAdjust=\"spacingAndGlyphs\" textLength=\"106\" x=\"458\" y=\"57.1387\">«calculation def»</text><text fill=\"#000000\" font-family=\"sans-serif\" font-size=\"12\" lengthAdjust=\"spacingAndGlyphs\" textLength=\"7\" x=\"507.5\" y=\"71.1074\">F</text><line style=\"stroke: #383838; stroke-width: 1.5;\" x1=\"458\" x2=\"564\" y1=\"78.9375\" y2=\"78.9375\"/></a><!--MD5=[270fce915f116d4de14055a7c1d9a0f3]\n",
       "class E5--><a href=\"psysml:04c0c290-1f5b-4b73-9b90-1720c7950e1a\" target=\"_top\" title=\"psysml:04c0c290-1f5b-4b73-9b90-1720c7950e1a\" xlink:actuate=\"onRequest\" xlink:href=\"psysml:04c0c290-1f5b-4b73-9b90-1720c7950e1a\" xlink:show=\"new\" xlink:title=\"psysml:04c0c290-1f5b-4b73-9b90-1720c7950e1a\" xlink:type=\"simple\"><rect fill=\"#FFFFFF\" height=\"45.9375\" id=\"E5\" rx=\"10\" ry=\"10\" style=\"stroke: #383838; stroke-width: 1.5;\" width=\"71\" x=\"350.5\" y=\"41\"/><text fill=\"#000000\" font-family=\"sans-serif\" font-size=\"12\" font-style=\"italic\" lengthAdjust=\"spacingAndGlyphs\" textLength=\"69\" x=\"351.5\" y=\"57.1387\">«attribute»</text><text fill=\"#000000\" font-family=\"sans-serif\" font-size=\"12\" lengthAdjust=\"spacingAndGlyphs\" textLength=\"4\" x=\"384\" y=\"71.1074\">f</text><line style=\"stroke: #383838; stroke-width: 1.5;\" x1=\"351.5\" x2=\"420.5\" y1=\"78.9375\" y2=\"78.9375\"/></a><!--MD5=[60a26617385b1d2d0262a64233df1f8d]\n",
       "class E6--><a href=\"psysml:514c602a-a137-45fe-b85f-d9c421e6e02c\" target=\"_top\" title=\"psysml:514c602a-a137-45fe-b85f-d9c421e6e02c\" xlink:actuate=\"onRequest\" xlink:href=\"psysml:514c602a-a137-45fe-b85f-d9c421e6e02c\" xlink:show=\"new\" xlink:title=\"psysml:514c602a-a137-45fe-b85f-d9c421e6e02c\" xlink:type=\"simple\"><rect fill=\"#FFFFFF\" height=\"45.9375\" id=\"E6\" rx=\"10\" ry=\"10\" style=\"stroke: #383838; stroke-width: 1.5;\" width=\"71\" x=\"244.5\" y=\"41\"/><text fill=\"#000000\" font-family=\"sans-serif\" font-size=\"12\" font-style=\"italic\" lengthAdjust=\"spacingAndGlyphs\" textLength=\"69\" x=\"245.5\" y=\"57.1387\">«attribute»</text><text fill=\"#000000\" font-family=\"sans-serif\" font-size=\"12\" lengthAdjust=\"spacingAndGlyphs\" textLength=\"8\" x=\"276\" y=\"71.1074\">g</text><line style=\"stroke: #383838; stroke-width: 1.5;\" x1=\"245.5\" x2=\"314.5\" y1=\"78.9375\" y2=\"78.9375\"/></a><!--MD5=[2156ba9850f5573cc1fc38a6a4b2f02b]\n",
       "class E7--><a href=\"psysml:1980a670-9bad-4a6e-b892-05e752677470\" target=\"_top\" title=\"psysml:1980a670-9bad-4a6e-b892-05e752677470\" xlink:actuate=\"onRequest\" xlink:href=\"psysml:1980a670-9bad-4a6e-b892-05e752677470\" xlink:show=\"new\" xlink:title=\"psysml:1980a670-9bad-4a6e-b892-05e752677470\" xlink:type=\"simple\"><rect fill=\"#FFFFFF\" height=\"45.9375\" id=\"E7\" rx=\"10\" ry=\"10\" style=\"stroke: #383838; stroke-width: 1.5;\" width=\"71\" x=\"138.5\" y=\"41\"/><text fill=\"#000000\" font-family=\"sans-serif\" font-size=\"12\" font-style=\"italic\" lengthAdjust=\"spacingAndGlyphs\" textLength=\"69\" x=\"139.5\" y=\"57.1387\">«attribute»</text><text fill=\"#000000\" font-family=\"sans-serif\" font-size=\"12\" lengthAdjust=\"spacingAndGlyphs\" textLength=\"8\" x=\"170\" y=\"71.1074\">b</text><line style=\"stroke: #383838; stroke-width: 1.5;\" x1=\"139.5\" x2=\"208.5\" y1=\"78.9375\" y2=\"78.9375\"/></a><!--MD5=[b9389687b975829384b498ac4b7476b2]\n",
       "class E8--><a href=\"psysml:c3372668-2566-45ef-b19a-e891239054bd\" target=\"_top\" title=\"psysml:c3372668-2566-45ef-b19a-e891239054bd\" xlink:actuate=\"onRequest\" xlink:href=\"psysml:c3372668-2566-45ef-b19a-e891239054bd\" xlink:show=\"new\" xlink:title=\"psysml:c3372668-2566-45ef-b19a-e891239054bd\" xlink:type=\"simple\"><rect fill=\"#FFFFFF\" height=\"45.9375\" id=\"E8\" rx=\"10\" ry=\"10\" style=\"stroke: #383838; stroke-width: 1.5;\" width=\"71\" x=\"32.5\" y=\"41\"/><text fill=\"#000000\" font-family=\"sans-serif\" font-size=\"12\" font-style=\"italic\" lengthAdjust=\"spacingAndGlyphs\" textLength=\"69\" x=\"33.5\" y=\"57.1387\">«attribute»</text><text fill=\"#000000\" font-family=\"sans-serif\" font-size=\"12\" lengthAdjust=\"spacingAndGlyphs\" textLength=\"7\" x=\"64.5\" y=\"71.1074\">c</text><line style=\"stroke: #383838; stroke-width: 1.5;\" x1=\"33.5\" x2=\"102.5\" y1=\"78.9375\" y2=\"78.9375\"/></a><!--MD5=[05d275557350bfb9b23a4ef7222b4c39]\n",
       "link E3 to E2--><a href=\"psysml:c16b553f-69e4-4116-bada-9588c5abaa28\" target=\"_top\" title=\"psysml:c16b553f-69e4-4116-bada-9588c5abaa28\" xlink:actuate=\"onRequest\" xlink:href=\"psysml:c16b553f-69e4-4116-bada-9588c5abaa28\" xlink:show=\"new\" xlink:title=\"psysml:c16b553f-69e4-4116-bada-9588c5abaa28\" xlink:type=\"simple\"><path d=\"M621.94,87.19 C611.77,103.23 597.51,125.73 584.09,146.9 \" fill=\"none\" id=\"E3-&gt;E2\" style=\"stroke: #383838; stroke-width: 1.0;\"/><polygon fill=\"#FFFFFF\" points=\"573.37,163.82,577.6195,144.0225,589.448,151.5115,573.37,163.82\" style=\"stroke: #383838; stroke-width: 1.0;\"/><ellipse cx=\"582.3584\" cy=\"140.2764\" fill=\"#383838\" rx=\"2\" ry=\"2\" style=\"stroke: #383838; stroke-width: 1.0;\"/><ellipse cx=\"590.8073\" cy=\"145.6258\" fill=\"#383838\" rx=\"2\" ry=\"2\" style=\"stroke: #383838; stroke-width: 1.0;\"/></a><!--MD5=[ddeed8deb2209213b62e6cfabaa108b2]\n",
       "reverse link E4 to E2--><a href=\"psysml:7844d093-18d6-4bcd-8bc7-6ee8559e13ae\" target=\"_top\" title=\"psysml:7844d093-18d6-4bcd-8bc7-6ee8559e13ae\" xlink:actuate=\"onRequest\" xlink:href=\"psysml:7844d093-18d6-4bcd-8bc7-6ee8559e13ae\" xlink:show=\"new\" xlink:title=\"psysml:7844d093-18d6-4bcd-8bc7-6ee8559e13ae\" xlink:type=\"simple\"><path d=\"M519.62,99.96 C524.37,119.25 530.31,143.36 535.36,163.82 \" fill=\"none\" id=\"E4&lt;-E2\" style=\"stroke: #383838; stroke-width: 1.0;\"/><polygon fill=\"#FFFFFF\" points=\"516.47,87.19,514.0229,93.9732,519.3432,98.841,521.7903,92.0577,516.47,87.19\" style=\"stroke: #383838; stroke-width: 1.0;\"/><text fill=\"#000000\" font-family=\"sans-serif\" font-size=\"13\" lengthAdjust=\"spacingAndGlyphs\" textLength=\"8\" x=\"528\" y=\"130.0669\">p</text></a><!--MD5=[f916c625218820e8c9adf8b03a71dc41]\n",
       "@startuml\r\n",
       "skinparam monochrome true\r\n",
       "skinparam classbackgroundcolor white\r\n",
       "skinparam shadowing false\r\n",
       "skinparam wrapWidth 300\r\n",
       "hide circle\r\n",
       "\r\n",
       "package \"ParameterTest\" as E1  [[psysml:edb9bc9d-436b-4f02-a049-a38172af8e0d ]]  {\r\n",
       "comp def \"A\" as E2  <<(T,blue)attribute def>> [[psysml:72c120f1-27bf-4069-82f6-2517ea0440e6 ]] {\r\n",
       "- - attributes - -\r\n",
       "x: String\r\n",
       "y: A\r\n",
       "}\r\n",
       "comp usage \"a: A\" as E3  <<(T,blue)attribute>> [[psysml:449a2126-050e-4d76-9596-2419df0cfe8a ]] {\r\n",
       "}\r\n",
       "comp def \"F\" as E4  <<(T,blue)calculation def>> [[psysml:42a33a96-c599-425f-a532-027e99d4f603 ]] {\r\n",
       "}\r\n",
       "comp usage \"f\" as E5  <<(T,blue)attribute>> [[psysml:04c0c290-1f5b-4b73-9b90-1720c7950e1a ]] {\r\n",
       "}\r\n",
       "comp usage \"g\" as E6  <<(T,blue)attribute>> [[psysml:514c602a-a137-45fe-b85f-d9c421e6e02c ]] {\r\n",
       "}\r\n",
       "comp usage \"b\" as E7  <<(T,blue)attribute>> [[psysml:1980a670-9bad-4a6e-b892-05e752677470 ]] {\r\n",
       "}\r\n",
       "comp usage \"c\" as E8  <<(T,blue)attribute>> [[psysml:c3372668-2566-45ef-b19a-e891239054bd ]] {\r\n",
       "}\r\n",
       "E3 - -:|> E2 [[psysml:c16b553f-69e4-4116-bada-9588c5abaa28 ]] \r\n",
       "E4 o- - E2 [[psysml:7844d093-18d6-4bcd-8bc7-6ee8559e13ae ]] : p\r\n",
       "}\r\n",
       "@enduml\r\n",
       "\n",
       "PlantUML version 1.2020.13(Sat Jun 13 12:26:38 UTC 2020)\n",
       "(EPL source distribution)\n",
       "Java Runtime: OpenJDK Runtime Environment\n",
       "JVM: OpenJDK 64-Bit Server VM\n",
       "Default Encoding: UTF-8\n",
       "Language: en\n",
       "Country: null\n",
       "--></g></svg>"
      ]
     },
     "execution_count": 42,
     "metadata": {},
     "output_type": "execute_result"
    }
   ],
   "source": [
    "%viz --style=\"DEFAULT\" --view=\"Sequence\" \"ParameterTest\""
   ]
  },
  {
   "cell_type": "code",
   "execution_count": 43,
   "id": "theoretical-crime",
   "metadata": {
    "execution": {
     "iopub.execute_input": "2021-03-25T13:44:05.789799Z",
     "iopub.status.busy": "2021-03-25T13:44:05.788321Z",
     "iopub.status.idle": "2021-03-25T13:44:06.041573Z",
     "shell.execute_reply": "2021-03-25T13:44:06.040230Z"
    }
   },
   "outputs": [
    {
     "data": {
      "image/svg+xml": [
       "<?xml version=\"1.0\" encoding=\"UTF-8\" standalone=\"no\"?><svg xmlns=\"http://www.w3.org/2000/svg\" xmlns:xlink=\"http://www.w3.org/1999/xlink\" contentScriptType=\"application/ecmascript\" contentStyleType=\"text/css\" height=\"263px\" preserveAspectRatio=\"none\" style=\"width:740px;height:263px;\" version=\"1.1\" viewBox=\"0 0 740 263\" width=\"740px\" zoomAndPan=\"magnify\"><defs/><g><!--MD5=[fbc87193dbaf4d95561dea2c320d4a47]\n",
       "cluster E1--><a href=\"psysml:edb9bc9d-436b-4f02-a049-a38172af8e0d\" target=\"_top\" title=\"psysml:edb9bc9d-436b-4f02-a049-a38172af8e0d\" xlink:actuate=\"onRequest\" xlink:href=\"psysml:edb9bc9d-436b-4f02-a049-a38172af8e0d\" xlink:show=\"new\" xlink:title=\"psysml:edb9bc9d-436b-4f02-a049-a38172af8e0d\" xlink:type=\"simple\"><polygon fill=\"#FFFFFF\" points=\"16,6,139,6,146,28.2969,718,28.2969,718,251,16,251,16,6\" style=\"stroke: #000000; stroke-width: 1.5;\"/><line style=\"stroke: #000000; stroke-width: 1.5;\" x1=\"16\" x2=\"146\" y1=\"28.2969\" y2=\"28.2969\"/><text fill=\"#000000\" font-family=\"sans-serif\" font-size=\"14\" font-weight=\"bold\" lengthAdjust=\"spacingAndGlyphs\" textLength=\"117\" x=\"20\" y=\"20.9951\">ParameterTest</text></a><!--MD5=[f6df4d0ebaf0b5dfb2ced0ae5af7c670]\n",
       "cluster E4--><a href=\"psysml:42a33a96-c599-425f-a532-027e99d4f603\" target=\"_top\" title=\"psysml:42a33a96-c599-425f-a532-027e99d4f603\" xlink:actuate=\"onRequest\" xlink:href=\"psysml:42a33a96-c599-425f-a532-027e99d4f603\" xlink:show=\"new\" xlink:title=\"psysml:42a33a96-c599-425f-a532-027e99d4f603\" xlink:type=\"simple\"><rect fill=\"#FFFFFF\" height=\"160.5\" id=\"E4\" style=\"stroke: #383838; stroke-width: 1.5;\" width=\"148\" x=\"554\" y=\"64\"/><rect fill=\"#F8F8F8\" height=\"37.9375\" style=\"stroke: #383838; stroke-width: 1.5;\" width=\"148\" x=\"554\" y=\"64\"/><text fill=\"#000000\" font-family=\"sans-serif\" font-size=\"12\" font-style=\"italic\" lengthAdjust=\"spacingAndGlyphs\" textLength=\"106\" x=\"575\" y=\"80.1387\">«calculation def»</text><text fill=\"#000000\" font-family=\"sans-serif\" font-size=\"12\" lengthAdjust=\"spacingAndGlyphs\" textLength=\"7\" x=\"624.5\" y=\"94.1074\">F</text></a><!--MD5=[b4997ac47864f28c2f74865a473b2911]\n",
       "class E2--><a href=\"psysml:72c120f1-27bf-4069-82f6-2517ea0440e6\" target=\"_top\" title=\"psysml:72c120f1-27bf-4069-82f6-2517ea0440e6\" xlink:actuate=\"onRequest\" xlink:href=\"psysml:72c120f1-27bf-4069-82f6-2517ea0440e6\" xlink:show=\"new\" xlink:title=\"psysml:72c120f1-27bf-4069-82f6-2517ea0440e6\" xlink:type=\"simple\"><rect fill=\"#FFFFFF\" height=\"88.3516\" id=\"E2\" style=\"stroke: #383838; stroke-width: 1.5;\" width=\"95\" x=\"422.5\" y=\"147\"/><text fill=\"#000000\" font-family=\"sans-serif\" font-size=\"12\" font-style=\"italic\" lengthAdjust=\"spacingAndGlyphs\" textLength=\"93\" x=\"423.5\" y=\"163.1387\">«attribute def»</text><text fill=\"#000000\" font-family=\"sans-serif\" font-size=\"12\" lengthAdjust=\"spacingAndGlyphs\" textLength=\"8\" x=\"466\" y=\"177.1074\">A</text><line style=\"stroke: #383838; stroke-width: 1.5;\" x1=\"423.5\" x2=\"516.5\" y1=\"184.9375\" y2=\"184.9375\"/><text fill=\"#000000\" font-family=\"sans-serif\" font-size=\"11\" lengthAdjust=\"spacingAndGlyphs\" textLength=\"48\" x=\"428.5\" y=\"215.9526\">x: String</text><text fill=\"#000000\" font-family=\"sans-serif\" font-size=\"11\" lengthAdjust=\"spacingAndGlyphs\" textLength=\"21\" x=\"428.5\" y=\"228.7573\">y: A</text><line style=\"stroke: #383838; stroke-width: 1.0;\" x1=\"423.5\" x2=\"442.5\" y1=\"199.3398\" y2=\"199.3398\"/><text fill=\"#000000\" font-family=\"sans-serif\" font-size=\"11\" lengthAdjust=\"spacingAndGlyphs\" textLength=\"55\" x=\"442.5\" y=\"202.6479\">attributes</text><line style=\"stroke: #383838; stroke-width: 1.0;\" x1=\"497.5\" x2=\"516.5\" y1=\"199.3398\" y2=\"199.3398\"/></a><!--MD5=[09b614a08d8cba4a07c9adeb5e0fee81]\n",
       "class E3--><a href=\"psysml:449a2126-050e-4d76-9596-2419df0cfe8a\" target=\"_top\" title=\"psysml:449a2126-050e-4d76-9596-2419df0cfe8a\" xlink:actuate=\"onRequest\" xlink:href=\"psysml:449a2126-050e-4d76-9596-2419df0cfe8a\" xlink:show=\"new\" xlink:title=\"psysml:449a2126-050e-4d76-9596-2419df0cfe8a\" xlink:type=\"simple\"><rect fill=\"#FFFFFF\" height=\"45.9375\" id=\"E3\" rx=\"10\" ry=\"10\" style=\"stroke: #383838; stroke-width: 1.5;\" width=\"71\" x=\"456.5\" y=\"41\"/><text fill=\"#000000\" font-family=\"sans-serif\" font-size=\"12\" font-style=\"italic\" lengthAdjust=\"spacingAndGlyphs\" textLength=\"69\" x=\"457.5\" y=\"57.1387\">«attribute»</text><text fill=\"#000000\" font-family=\"sans-serif\" font-size=\"12\" lengthAdjust=\"spacingAndGlyphs\" textLength=\"24\" x=\"480\" y=\"71.1074\">a: A</text><line style=\"stroke: #383838; stroke-width: 1.5;\" x1=\"457.5\" x2=\"526.5\" y1=\"78.9375\" y2=\"78.9375\"/></a><!--MD5=[2156ba9850f5573cc1fc38a6a4b2f02b]\n",
       "class E7--><a href=\"psysml:04c0c290-1f5b-4b73-9b90-1720c7950e1a\" target=\"_top\" title=\"psysml:04c0c290-1f5b-4b73-9b90-1720c7950e1a\" xlink:actuate=\"onRequest\" xlink:href=\"psysml:04c0c290-1f5b-4b73-9b90-1720c7950e1a\" xlink:show=\"new\" xlink:title=\"psysml:04c0c290-1f5b-4b73-9b90-1720c7950e1a\" xlink:type=\"simple\"><rect fill=\"#FFFFFF\" height=\"45.9375\" id=\"E7\" rx=\"10\" ry=\"10\" style=\"stroke: #383838; stroke-width: 1.5;\" width=\"71\" x=\"350.5\" y=\"41\"/><text fill=\"#000000\" font-family=\"sans-serif\" font-size=\"12\" font-style=\"italic\" lengthAdjust=\"spacingAndGlyphs\" textLength=\"69\" x=\"351.5\" y=\"57.1387\">«attribute»</text><text fill=\"#000000\" font-family=\"sans-serif\" font-size=\"12\" lengthAdjust=\"spacingAndGlyphs\" textLength=\"4\" x=\"384\" y=\"71.1074\">f</text><line style=\"stroke: #383838; stroke-width: 1.5;\" x1=\"351.5\" x2=\"420.5\" y1=\"78.9375\" y2=\"78.9375\"/></a><!--MD5=[b9389687b975829384b498ac4b7476b2]\n",
       "class E8--><a href=\"psysml:514c602a-a137-45fe-b85f-d9c421e6e02c\" target=\"_top\" title=\"psysml:514c602a-a137-45fe-b85f-d9c421e6e02c\" xlink:actuate=\"onRequest\" xlink:href=\"psysml:514c602a-a137-45fe-b85f-d9c421e6e02c\" xlink:show=\"new\" xlink:title=\"psysml:514c602a-a137-45fe-b85f-d9c421e6e02c\" xlink:type=\"simple\"><rect fill=\"#FFFFFF\" height=\"45.9375\" id=\"E8\" rx=\"10\" ry=\"10\" style=\"stroke: #383838; stroke-width: 1.5;\" width=\"71\" x=\"244.5\" y=\"41\"/><text fill=\"#000000\" font-family=\"sans-serif\" font-size=\"12\" font-style=\"italic\" lengthAdjust=\"spacingAndGlyphs\" textLength=\"69\" x=\"245.5\" y=\"57.1387\">«attribute»</text><text fill=\"#000000\" font-family=\"sans-serif\" font-size=\"12\" lengthAdjust=\"spacingAndGlyphs\" textLength=\"8\" x=\"276\" y=\"71.1074\">g</text><line style=\"stroke: #383838; stroke-width: 1.5;\" x1=\"245.5\" x2=\"314.5\" y1=\"78.9375\" y2=\"78.9375\"/></a><!--MD5=[fd4143e9d270a159db93a4ea2a975926]\n",
       "class E9--><a href=\"psysml:1980a670-9bad-4a6e-b892-05e752677470\" target=\"_top\" title=\"psysml:1980a670-9bad-4a6e-b892-05e752677470\" xlink:actuate=\"onRequest\" xlink:href=\"psysml:1980a670-9bad-4a6e-b892-05e752677470\" xlink:show=\"new\" xlink:title=\"psysml:1980a670-9bad-4a6e-b892-05e752677470\" xlink:type=\"simple\"><rect fill=\"#FFFFFF\" height=\"45.9375\" id=\"E9\" rx=\"10\" ry=\"10\" style=\"stroke: #383838; stroke-width: 1.5;\" width=\"71\" x=\"138.5\" y=\"41\"/><text fill=\"#000000\" font-family=\"sans-serif\" font-size=\"12\" font-style=\"italic\" lengthAdjust=\"spacingAndGlyphs\" textLength=\"69\" x=\"139.5\" y=\"57.1387\">«attribute»</text><text fill=\"#000000\" font-family=\"sans-serif\" font-size=\"12\" lengthAdjust=\"spacingAndGlyphs\" textLength=\"8\" x=\"170\" y=\"71.1074\">b</text><line style=\"stroke: #383838; stroke-width: 1.5;\" x1=\"139.5\" x2=\"208.5\" y1=\"78.9375\" y2=\"78.9375\"/></a><!--MD5=[96f4274e9e20536e775497830990834d]\n",
       "class E10--><a href=\"psysml:c3372668-2566-45ef-b19a-e891239054bd\" target=\"_top\" title=\"psysml:c3372668-2566-45ef-b19a-e891239054bd\" xlink:actuate=\"onRequest\" xlink:href=\"psysml:c3372668-2566-45ef-b19a-e891239054bd\" xlink:show=\"new\" xlink:title=\"psysml:c3372668-2566-45ef-b19a-e891239054bd\" xlink:type=\"simple\"><rect fill=\"#FFFFFF\" height=\"45.9375\" id=\"E10\" rx=\"10\" ry=\"10\" style=\"stroke: #383838; stroke-width: 1.5;\" width=\"71\" x=\"32.5\" y=\"41\"/><text fill=\"#000000\" font-family=\"sans-serif\" font-size=\"12\" font-style=\"italic\" lengthAdjust=\"spacingAndGlyphs\" textLength=\"69\" x=\"33.5\" y=\"57.1387\">«attribute»</text><text fill=\"#000000\" font-family=\"sans-serif\" font-size=\"12\" lengthAdjust=\"spacingAndGlyphs\" textLength=\"7\" x=\"64.5\" y=\"71.1074\">c</text><line style=\"stroke: #383838; stroke-width: 1.5;\" x1=\"33.5\" x2=\"102.5\" y1=\"78.9375\" y2=\"78.9375\"/></a><text fill=\"#000000\" font-family=\"sans-serif\" font-size=\"14\" lengthAdjust=\"spacingAndGlyphs\" textLength=\"9\" x=\"567.5\" y=\"42.6982\">p</text><rect fill=\"#383838\" height=\"12\" style=\"stroke: #F8F8F8; stroke-width: 1.5;\" width=\"12\" x=\"566\" y=\"58\"/><text fill=\"#000000\" font-family=\"sans-serif\" font-size=\"14\" lengthAdjust=\"spacingAndGlyphs\" textLength=\"9\" x=\"614.5\" y=\"42.6982\">q</text><rect fill=\"#383838\" height=\"12\" style=\"stroke: #F8F8F8; stroke-width: 1.5;\" width=\"12\" x=\"613\" y=\"58\"/><!--MD5=[05d275557350bfb9b23a4ef7222b4c39]\n",
       "link E3 to E2--><a href=\"psysml:c16b553f-69e4-4116-bada-9588c5abaa28\" target=\"_top\" title=\"psysml:c16b553f-69e4-4116-bada-9588c5abaa28\" xlink:actuate=\"onRequest\" xlink:href=\"psysml:c16b553f-69e4-4116-bada-9588c5abaa28\" xlink:show=\"new\" xlink:title=\"psysml:c16b553f-69e4-4116-bada-9588c5abaa28\" xlink:type=\"simple\"><path d=\"M488.12,87.06 C486.14,98.3 483.62,112.6 481.1,126.95 \" fill=\"none\" id=\"E3-&gt;E2\" style=\"stroke: #383838; stroke-width: 1.0;\"/><polygon fill=\"#FFFFFF\" points=\"477.58,146.93,473.9835,127.0035,487.7711,129.4331,477.58,146.93\" style=\"stroke: #383838; stroke-width: 1.0;\"/><ellipse cx=\"476.9423\" cy=\"121.7371\" fill=\"#383838\" rx=\"2\" ry=\"2\" style=\"stroke: #383838; stroke-width: 1.0;\"/><ellipse cx=\"486.7906\" cy=\"123.4725\" fill=\"#383838\" rx=\"2\" ry=\"2\" style=\"stroke: #383838; stroke-width: 1.0;\"/></a><!--MD5=[8c19d50474bfc225d9947ab3ad37c376]\n",
       "@startuml\r\n",
       "skinparam monochrome true\r\n",
       "skinparam classbackgroundcolor white\r\n",
       "skinparam shadowing false\r\n",
       "skinparam wrapWidth 300\r\n",
       "hide circle\r\n",
       "\r\n",
       "package \"ParameterTest\" as E1  [[psysml:edb9bc9d-436b-4f02-a049-a38172af8e0d ]]  {\r\n",
       "comp def \"A\" as E2  <<(T,blue)attribute def>> [[psysml:72c120f1-27bf-4069-82f6-2517ea0440e6 ]] {\r\n",
       "- - attributes - -\r\n",
       "x: String\r\n",
       "y: A\r\n",
       "}\r\n",
       "comp usage \"a: A\" as E3  <<(T,blue)attribute>> [[psysml:449a2126-050e-4d76-9596-2419df0cfe8a ]] {\r\n",
       "}\r\n",
       "rec def \"F\" as E4  <<(T,blue)calculation def>> [[psysml:42a33a96-c599-425f-a532-027e99d4f603 ]] {\r\n",
       "portin \"p\" as E5  [[psysml:7844d093-18d6-4bcd-8bc7-6ee8559e13ae ]] \r\n",
       "portin \"q\" as E6  [[psysml:60bdf07c-a2db-456e-a058-70cb9f3de468 ]] \r\n",
       "}\r\n",
       "\r\n",
       "comp usage \"f\" as E7  <<(T,blue)attribute>> [[psysml:04c0c290-1f5b-4b73-9b90-1720c7950e1a ]] {\r\n",
       "}\r\n",
       "comp usage \"g\" as E8  <<(T,blue)attribute>> [[psysml:514c602a-a137-45fe-b85f-d9c421e6e02c ]] {\r\n",
       "}\r\n",
       "comp usage \"b\" as E9  <<(T,blue)attribute>> [[psysml:1980a670-9bad-4a6e-b892-05e752677470 ]] {\r\n",
       "}\r\n",
       "comp usage \"c\" as E10  <<(T,blue)attribute>> [[psysml:c3372668-2566-45ef-b19a-e891239054bd ]] {\r\n",
       "}\r\n",
       "E3 - -:|> E2 [[psysml:c16b553f-69e4-4116-bada-9588c5abaa28 ]] \r\n",
       "}\r\n",
       "@enduml\r\n",
       "\n",
       "PlantUML version 1.2020.13(Sat Jun 13 12:26:38 UTC 2020)\n",
       "(EPL source distribution)\n",
       "Java Runtime: OpenJDK Runtime Environment\n",
       "JVM: OpenJDK 64-Bit Server VM\n",
       "Default Encoding: UTF-8\n",
       "Language: en\n",
       "Country: null\n",
       "--></g></svg>"
      ]
     },
     "execution_count": 43,
     "metadata": {},
     "output_type": "execute_result"
    }
   ],
   "source": [
    "%viz --style=\"DEFAULT\" --view=\"MIXED\" \"ParameterTest\""
   ]
  },
  {
   "cell_type": "code",
   "execution_count": 44,
   "id": "ordered-manufacturer",
   "metadata": {
    "execution": {
     "iopub.execute_input": "2021-03-25T13:44:06.092349Z",
     "iopub.status.busy": "2021-03-25T13:44:06.091800Z",
     "iopub.status.idle": "2021-03-25T13:44:06.373861Z",
     "shell.execute_reply": "2021-03-25T13:44:06.372558Z"
    }
   },
   "outputs": [
    {
     "data": {
      "image/svg+xml": [
       "<?xml version=\"1.0\" encoding=\"UTF-8\" standalone=\"no\"?><svg xmlns=\"http://www.w3.org/2000/svg\" xmlns:xlink=\"http://www.w3.org/1999/xlink\" contentScriptType=\"application/ecmascript\" contentStyleType=\"text/css\" height=\"263px\" preserveAspectRatio=\"none\" style=\"width:740px;height:263px;\" version=\"1.1\" viewBox=\"0 0 740 263\" width=\"740px\" zoomAndPan=\"magnify\"><defs/><g><!--MD5=[fbc87193dbaf4d95561dea2c320d4a47]\n",
       "cluster E1--><a href=\"psysml:edb9bc9d-436b-4f02-a049-a38172af8e0d\" target=\"_top\" title=\"psysml:edb9bc9d-436b-4f02-a049-a38172af8e0d\" xlink:actuate=\"onRequest\" xlink:href=\"psysml:edb9bc9d-436b-4f02-a049-a38172af8e0d\" xlink:show=\"new\" xlink:title=\"psysml:edb9bc9d-436b-4f02-a049-a38172af8e0d\" xlink:type=\"simple\"><polygon fill=\"#FFFFFF\" points=\"16,6,139,6,146,28.2969,718,28.2969,718,251,16,251,16,6\" style=\"stroke: #000000; stroke-width: 1.5;\"/><line style=\"stroke: #000000; stroke-width: 1.5;\" x1=\"16\" x2=\"146\" y1=\"28.2969\" y2=\"28.2969\"/><text fill=\"#000000\" font-family=\"sans-serif\" font-size=\"14\" font-weight=\"bold\" lengthAdjust=\"spacingAndGlyphs\" textLength=\"117\" x=\"20\" y=\"20.9951\">ParameterTest</text></a><!--MD5=[f6df4d0ebaf0b5dfb2ced0ae5af7c670]\n",
       "cluster E4--><a href=\"psysml:42a33a96-c599-425f-a532-027e99d4f603\" target=\"_top\" title=\"psysml:42a33a96-c599-425f-a532-027e99d4f603\" xlink:actuate=\"onRequest\" xlink:href=\"psysml:42a33a96-c599-425f-a532-027e99d4f603\" xlink:show=\"new\" xlink:title=\"psysml:42a33a96-c599-425f-a532-027e99d4f603\" xlink:type=\"simple\"><rect fill=\"#FFFFFF\" height=\"160.5\" id=\"E4\" style=\"stroke: #383838; stroke-width: 1.5;\" width=\"148\" x=\"554\" y=\"64\"/><rect fill=\"#F8F8F8\" height=\"37.9375\" style=\"stroke: #383838; stroke-width: 1.5;\" width=\"148\" x=\"554\" y=\"64\"/><text fill=\"#000000\" font-family=\"sans-serif\" font-size=\"12\" font-style=\"italic\" lengthAdjust=\"spacingAndGlyphs\" textLength=\"106\" x=\"575\" y=\"80.1387\">«calculation def»</text><text fill=\"#000000\" font-family=\"sans-serif\" font-size=\"12\" lengthAdjust=\"spacingAndGlyphs\" textLength=\"7\" x=\"624.5\" y=\"94.1074\">F</text></a><!--MD5=[b4997ac47864f28c2f74865a473b2911]\n",
       "class E2--><a href=\"psysml:72c120f1-27bf-4069-82f6-2517ea0440e6\" target=\"_top\" title=\"psysml:72c120f1-27bf-4069-82f6-2517ea0440e6\" xlink:actuate=\"onRequest\" xlink:href=\"psysml:72c120f1-27bf-4069-82f6-2517ea0440e6\" xlink:show=\"new\" xlink:title=\"psysml:72c120f1-27bf-4069-82f6-2517ea0440e6\" xlink:type=\"simple\"><rect fill=\"#FFFFFF\" height=\"88.3516\" id=\"E2\" style=\"stroke: #383838; stroke-width: 1.5;\" width=\"95\" x=\"422.5\" y=\"147\"/><text fill=\"#000000\" font-family=\"sans-serif\" font-size=\"12\" font-style=\"italic\" lengthAdjust=\"spacingAndGlyphs\" textLength=\"93\" x=\"423.5\" y=\"163.1387\">«attribute def»</text><text fill=\"#000000\" font-family=\"sans-serif\" font-size=\"12\" lengthAdjust=\"spacingAndGlyphs\" textLength=\"8\" x=\"466\" y=\"177.1074\">A</text><line style=\"stroke: #383838; stroke-width: 1.5;\" x1=\"423.5\" x2=\"516.5\" y1=\"184.9375\" y2=\"184.9375\"/><text fill=\"#000000\" font-family=\"sans-serif\" font-size=\"11\" lengthAdjust=\"spacingAndGlyphs\" textLength=\"48\" x=\"428.5\" y=\"215.9526\">x: String</text><text fill=\"#000000\" font-family=\"sans-serif\" font-size=\"11\" lengthAdjust=\"spacingAndGlyphs\" textLength=\"21\" x=\"428.5\" y=\"228.7573\">y: A</text><line style=\"stroke: #383838; stroke-width: 1.0;\" x1=\"423.5\" x2=\"442.5\" y1=\"199.3398\" y2=\"199.3398\"/><text fill=\"#000000\" font-family=\"sans-serif\" font-size=\"11\" lengthAdjust=\"spacingAndGlyphs\" textLength=\"55\" x=\"442.5\" y=\"202.6479\">attributes</text><line style=\"stroke: #383838; stroke-width: 1.0;\" x1=\"497.5\" x2=\"516.5\" y1=\"199.3398\" y2=\"199.3398\"/></a><!--MD5=[09b614a08d8cba4a07c9adeb5e0fee81]\n",
       "class E3--><a href=\"psysml:449a2126-050e-4d76-9596-2419df0cfe8a\" target=\"_top\" title=\"psysml:449a2126-050e-4d76-9596-2419df0cfe8a\" xlink:actuate=\"onRequest\" xlink:href=\"psysml:449a2126-050e-4d76-9596-2419df0cfe8a\" xlink:show=\"new\" xlink:title=\"psysml:449a2126-050e-4d76-9596-2419df0cfe8a\" xlink:type=\"simple\"><rect fill=\"#FFFFFF\" height=\"45.9375\" id=\"E3\" rx=\"10\" ry=\"10\" style=\"stroke: #383838; stroke-width: 1.5;\" width=\"71\" x=\"456.5\" y=\"41\"/><text fill=\"#000000\" font-family=\"sans-serif\" font-size=\"12\" font-style=\"italic\" lengthAdjust=\"spacingAndGlyphs\" textLength=\"69\" x=\"457.5\" y=\"57.1387\">«attribute»</text><text fill=\"#000000\" font-family=\"sans-serif\" font-size=\"12\" lengthAdjust=\"spacingAndGlyphs\" textLength=\"24\" x=\"480\" y=\"71.1074\">a: A</text><line style=\"stroke: #383838; stroke-width: 1.5;\" x1=\"457.5\" x2=\"526.5\" y1=\"78.9375\" y2=\"78.9375\"/></a><!--MD5=[2156ba9850f5573cc1fc38a6a4b2f02b]\n",
       "class E7--><a href=\"psysml:04c0c290-1f5b-4b73-9b90-1720c7950e1a\" target=\"_top\" title=\"psysml:04c0c290-1f5b-4b73-9b90-1720c7950e1a\" xlink:actuate=\"onRequest\" xlink:href=\"psysml:04c0c290-1f5b-4b73-9b90-1720c7950e1a\" xlink:show=\"new\" xlink:title=\"psysml:04c0c290-1f5b-4b73-9b90-1720c7950e1a\" xlink:type=\"simple\"><rect fill=\"#FFFFFF\" height=\"45.9375\" id=\"E7\" rx=\"10\" ry=\"10\" style=\"stroke: #383838; stroke-width: 1.5;\" width=\"71\" x=\"350.5\" y=\"41\"/><text fill=\"#000000\" font-family=\"sans-serif\" font-size=\"12\" font-style=\"italic\" lengthAdjust=\"spacingAndGlyphs\" textLength=\"69\" x=\"351.5\" y=\"57.1387\">«attribute»</text><text fill=\"#000000\" font-family=\"sans-serif\" font-size=\"12\" lengthAdjust=\"spacingAndGlyphs\" textLength=\"4\" x=\"384\" y=\"71.1074\">f</text><line style=\"stroke: #383838; stroke-width: 1.5;\" x1=\"351.5\" x2=\"420.5\" y1=\"78.9375\" y2=\"78.9375\"/></a><!--MD5=[b9389687b975829384b498ac4b7476b2]\n",
       "class E8--><a href=\"psysml:514c602a-a137-45fe-b85f-d9c421e6e02c\" target=\"_top\" title=\"psysml:514c602a-a137-45fe-b85f-d9c421e6e02c\" xlink:actuate=\"onRequest\" xlink:href=\"psysml:514c602a-a137-45fe-b85f-d9c421e6e02c\" xlink:show=\"new\" xlink:title=\"psysml:514c602a-a137-45fe-b85f-d9c421e6e02c\" xlink:type=\"simple\"><rect fill=\"#FFFFFF\" height=\"45.9375\" id=\"E8\" rx=\"10\" ry=\"10\" style=\"stroke: #383838; stroke-width: 1.5;\" width=\"71\" x=\"244.5\" y=\"41\"/><text fill=\"#000000\" font-family=\"sans-serif\" font-size=\"12\" font-style=\"italic\" lengthAdjust=\"spacingAndGlyphs\" textLength=\"69\" x=\"245.5\" y=\"57.1387\">«attribute»</text><text fill=\"#000000\" font-family=\"sans-serif\" font-size=\"12\" lengthAdjust=\"spacingAndGlyphs\" textLength=\"8\" x=\"276\" y=\"71.1074\">g</text><line style=\"stroke: #383838; stroke-width: 1.5;\" x1=\"245.5\" x2=\"314.5\" y1=\"78.9375\" y2=\"78.9375\"/></a><!--MD5=[fd4143e9d270a159db93a4ea2a975926]\n",
       "class E9--><a href=\"psysml:1980a670-9bad-4a6e-b892-05e752677470\" target=\"_top\" title=\"psysml:1980a670-9bad-4a6e-b892-05e752677470\" xlink:actuate=\"onRequest\" xlink:href=\"psysml:1980a670-9bad-4a6e-b892-05e752677470\" xlink:show=\"new\" xlink:title=\"psysml:1980a670-9bad-4a6e-b892-05e752677470\" xlink:type=\"simple\"><rect fill=\"#FFFFFF\" height=\"45.9375\" id=\"E9\" rx=\"10\" ry=\"10\" style=\"stroke: #383838; stroke-width: 1.5;\" width=\"71\" x=\"138.5\" y=\"41\"/><text fill=\"#000000\" font-family=\"sans-serif\" font-size=\"12\" font-style=\"italic\" lengthAdjust=\"spacingAndGlyphs\" textLength=\"69\" x=\"139.5\" y=\"57.1387\">«attribute»</text><text fill=\"#000000\" font-family=\"sans-serif\" font-size=\"12\" lengthAdjust=\"spacingAndGlyphs\" textLength=\"8\" x=\"170\" y=\"71.1074\">b</text><line style=\"stroke: #383838; stroke-width: 1.5;\" x1=\"139.5\" x2=\"208.5\" y1=\"78.9375\" y2=\"78.9375\"/></a><!--MD5=[96f4274e9e20536e775497830990834d]\n",
       "class E10--><a href=\"psysml:c3372668-2566-45ef-b19a-e891239054bd\" target=\"_top\" title=\"psysml:c3372668-2566-45ef-b19a-e891239054bd\" xlink:actuate=\"onRequest\" xlink:href=\"psysml:c3372668-2566-45ef-b19a-e891239054bd\" xlink:show=\"new\" xlink:title=\"psysml:c3372668-2566-45ef-b19a-e891239054bd\" xlink:type=\"simple\"><rect fill=\"#FFFFFF\" height=\"45.9375\" id=\"E10\" rx=\"10\" ry=\"10\" style=\"stroke: #383838; stroke-width: 1.5;\" width=\"71\" x=\"32.5\" y=\"41\"/><text fill=\"#000000\" font-family=\"sans-serif\" font-size=\"12\" font-style=\"italic\" lengthAdjust=\"spacingAndGlyphs\" textLength=\"69\" x=\"33.5\" y=\"57.1387\">«attribute»</text><text fill=\"#000000\" font-family=\"sans-serif\" font-size=\"12\" lengthAdjust=\"spacingAndGlyphs\" textLength=\"7\" x=\"64.5\" y=\"71.1074\">c</text><line style=\"stroke: #383838; stroke-width: 1.5;\" x1=\"33.5\" x2=\"102.5\" y1=\"78.9375\" y2=\"78.9375\"/></a><text fill=\"#000000\" font-family=\"sans-serif\" font-size=\"14\" lengthAdjust=\"spacingAndGlyphs\" textLength=\"9\" x=\"567.5\" y=\"42.6982\">p</text><rect fill=\"#383838\" height=\"12\" style=\"stroke: #F8F8F8; stroke-width: 1.5;\" width=\"12\" x=\"566\" y=\"58\"/><text fill=\"#000000\" font-family=\"sans-serif\" font-size=\"14\" lengthAdjust=\"spacingAndGlyphs\" textLength=\"9\" x=\"614.5\" y=\"42.6982\">q</text><rect fill=\"#383838\" height=\"12\" style=\"stroke: #F8F8F8; stroke-width: 1.5;\" width=\"12\" x=\"613\" y=\"58\"/><!--MD5=[05d275557350bfb9b23a4ef7222b4c39]\n",
       "link E3 to E2--><a href=\"psysml:c16b553f-69e4-4116-bada-9588c5abaa28\" target=\"_top\" title=\"psysml:c16b553f-69e4-4116-bada-9588c5abaa28\" xlink:actuate=\"onRequest\" xlink:href=\"psysml:c16b553f-69e4-4116-bada-9588c5abaa28\" xlink:show=\"new\" xlink:title=\"psysml:c16b553f-69e4-4116-bada-9588c5abaa28\" xlink:type=\"simple\"><path d=\"M488.12,87.06 C486.14,98.3 483.62,112.6 481.1,126.95 \" fill=\"none\" id=\"E3-&gt;E2\" style=\"stroke: #383838; stroke-width: 1.0;\"/><polygon fill=\"#FFFFFF\" points=\"477.58,146.93,473.9835,127.0035,487.7711,129.4331,477.58,146.93\" style=\"stroke: #383838; stroke-width: 1.0;\"/><ellipse cx=\"476.9423\" cy=\"121.7371\" fill=\"#383838\" rx=\"2\" ry=\"2\" style=\"stroke: #383838; stroke-width: 1.0;\"/><ellipse cx=\"486.7906\" cy=\"123.4725\" fill=\"#383838\" rx=\"2\" ry=\"2\" style=\"stroke: #383838; stroke-width: 1.0;\"/></a><!--MD5=[dff1beb519b400329982fee534cb2973]\n",
       "@startuml\r\n",
       "top to bottom direction\r\n",
       "skinparam monochrome true\r\n",
       "skinparam classbackgroundcolor white\r\n",
       "skinparam shadowing false\r\n",
       "skinparam wrapWidth 300\r\n",
       "hide circle\r\n",
       "\r\n",
       "package \"ParameterTest\" as E1  [[psysml:edb9bc9d-436b-4f02-a049-a38172af8e0d ]]  {\r\n",
       "comp def \"A\" as E2  <<(T,blue)attribute def>> [[psysml:72c120f1-27bf-4069-82f6-2517ea0440e6 ]] {\r\n",
       "- - attributes - -\r\n",
       "x: String\r\n",
       "y: A\r\n",
       "}\r\n",
       "comp usage \"a: A\" as E3  <<(T,blue)attribute>> [[psysml:449a2126-050e-4d76-9596-2419df0cfe8a ]] {\r\n",
       "}\r\n",
       "rec def \"F\" as E4  <<(T,blue)calculation def>> [[psysml:42a33a96-c599-425f-a532-027e99d4f603 ]] {\r\n",
       "portin \"p\" as E5  [[psysml:7844d093-18d6-4bcd-8bc7-6ee8559e13ae ]] \r\n",
       "portin \"q\" as E6  [[psysml:60bdf07c-a2db-456e-a058-70cb9f3de468 ]] \r\n",
       "}\r\n",
       "\r\n",
       "comp usage \"f\" as E7  <<(T,blue)attribute>> [[psysml:04c0c290-1f5b-4b73-9b90-1720c7950e1a ]] {\r\n",
       "}\r\n",
       "comp usage \"g\" as E8  <<(T,blue)attribute>> [[psysml:514c602a-a137-45fe-b85f-d9c421e6e02c ]] {\r\n",
       "}\r\n",
       "comp usage \"b\" as E9  <<(T,blue)attribute>> [[psysml:1980a670-9bad-4a6e-b892-05e752677470 ]] {\r\n",
       "}\r\n",
       "comp usage \"c\" as E10  <<(T,blue)attribute>> [[psysml:c3372668-2566-45ef-b19a-e891239054bd ]] {\r\n",
       "}\r\n",
       "E3 - -:|> E2 [[psysml:c16b553f-69e4-4116-bada-9588c5abaa28 ]] \r\n",
       "}\r\n",
       "@enduml\r\n",
       "\n",
       "PlantUML version 1.2020.13(Sat Jun 13 12:26:38 UTC 2020)\n",
       "(EPL source distribution)\n",
       "Java Runtime: OpenJDK Runtime Environment\n",
       "JVM: OpenJDK 64-Bit Server VM\n",
       "Default Encoding: UTF-8\n",
       "Language: en\n",
       "Country: null\n",
       "--></g></svg>"
      ]
     },
     "execution_count": 44,
     "metadata": {},
     "output_type": "execute_result"
    }
   ],
   "source": [
    "%viz --style=\"TB\" --view=\"Default\" \"ParameterTest\""
   ]
  },
  {
   "cell_type": "code",
   "execution_count": 45,
   "id": "surrounded-piano",
   "metadata": {
    "execution": {
     "iopub.execute_input": "2021-03-25T13:44:06.423858Z",
     "iopub.status.busy": "2021-03-25T13:44:06.423495Z",
     "iopub.status.idle": "2021-03-25T13:44:06.678796Z",
     "shell.execute_reply": "2021-03-25T13:44:06.677187Z"
    }
   },
   "outputs": [
    {
     "data": {
      "image/svg+xml": [
       "<?xml version=\"1.0\" encoding=\"UTF-8\" standalone=\"no\"?><svg xmlns=\"http://www.w3.org/2000/svg\" xmlns:xlink=\"http://www.w3.org/1999/xlink\" contentScriptType=\"application/ecmascript\" contentStyleType=\"text/css\" height=\"280px\" preserveAspectRatio=\"none\" style=\"width:710px;height:280px;\" version=\"1.1\" viewBox=\"0 0 710 280\" width=\"710px\" zoomAndPan=\"magnify\"><defs/><g><!--MD5=[fbc87193dbaf4d95561dea2c320d4a47]\n",
       "cluster E1--><a href=\"psysml:edb9bc9d-436b-4f02-a049-a38172af8e0d\" target=\"_top\" title=\"psysml:edb9bc9d-436b-4f02-a049-a38172af8e0d\" xlink:actuate=\"onRequest\" xlink:href=\"psysml:edb9bc9d-436b-4f02-a049-a38172af8e0d\" xlink:show=\"new\" xlink:title=\"psysml:edb9bc9d-436b-4f02-a049-a38172af8e0d\" xlink:type=\"simple\"><polygon fill=\"#FFFFFF\" points=\"16,6,139,6,146,28.2969,688,28.2969,688,268,16,268,16,6\" style=\"stroke: #000000; stroke-width: 1.5;\"/><line style=\"stroke: #000000; stroke-width: 1.5;\" x1=\"16\" x2=\"146\" y1=\"28.2969\" y2=\"28.2969\"/><text fill=\"#000000\" font-family=\"sans-serif\" font-size=\"14\" font-weight=\"bold\" lengthAdjust=\"spacingAndGlyphs\" textLength=\"117\" x=\"20\" y=\"20.9951\">ParameterTest</text></a><!--MD5=[b4997ac47864f28c2f74865a473b2911]\n",
       "class E2--><a href=\"psysml:72c120f1-27bf-4069-82f6-2517ea0440e6\" target=\"_top\" title=\"psysml:72c120f1-27bf-4069-82f6-2517ea0440e6\" xlink:actuate=\"onRequest\" xlink:href=\"psysml:72c120f1-27bf-4069-82f6-2517ea0440e6\" xlink:show=\"new\" xlink:title=\"psysml:72c120f1-27bf-4069-82f6-2517ea0440e6\" xlink:type=\"simple\"><rect fill=\"#FFFFFF\" height=\"88.3516\" id=\"E2\" style=\"stroke: #383838; stroke-width: 1.5;\" width=\"95\" x=\"498.5\" y=\"164\"/><text fill=\"#000000\" font-family=\"sans-serif\" font-size=\"12\" font-style=\"italic\" lengthAdjust=\"spacingAndGlyphs\" textLength=\"93\" x=\"499.5\" y=\"180.1387\">«attribute def»</text><text fill=\"#000000\" font-family=\"sans-serif\" font-size=\"12\" lengthAdjust=\"spacingAndGlyphs\" textLength=\"8\" x=\"542\" y=\"194.1074\">A</text><line style=\"stroke: #383838; stroke-width: 1.5;\" x1=\"499.5\" x2=\"592.5\" y1=\"201.9375\" y2=\"201.9375\"/><text fill=\"#000000\" font-family=\"sans-serif\" font-size=\"11\" lengthAdjust=\"spacingAndGlyphs\" textLength=\"48\" x=\"504.5\" y=\"232.9526\">x: String</text><text fill=\"#000000\" font-family=\"sans-serif\" font-size=\"11\" lengthAdjust=\"spacingAndGlyphs\" textLength=\"21\" x=\"504.5\" y=\"245.7573\">y: A</text><line style=\"stroke: #383838; stroke-width: 1.0;\" x1=\"499.5\" x2=\"518.5\" y1=\"216.3398\" y2=\"216.3398\"/><text fill=\"#000000\" font-family=\"sans-serif\" font-size=\"11\" lengthAdjust=\"spacingAndGlyphs\" textLength=\"55\" x=\"518.5\" y=\"219.6479\">attributes</text><line style=\"stroke: #383838; stroke-width: 1.0;\" x1=\"573.5\" x2=\"592.5\" y1=\"216.3398\" y2=\"216.3398\"/></a><!--MD5=[09b614a08d8cba4a07c9adeb5e0fee81]\n",
       "class E3--><a href=\"psysml:449a2126-050e-4d76-9596-2419df0cfe8a\" target=\"_top\" title=\"psysml:449a2126-050e-4d76-9596-2419df0cfe8a\" xlink:actuate=\"onRequest\" xlink:href=\"psysml:449a2126-050e-4d76-9596-2419df0cfe8a\" xlink:show=\"new\" xlink:title=\"psysml:449a2126-050e-4d76-9596-2419df0cfe8a\" xlink:type=\"simple\"><rect fill=\"#FFFFFF\" height=\"45.9375\" id=\"E3\" rx=\"10\" ry=\"10\" style=\"stroke: #383838; stroke-width: 1.5;\" width=\"71\" x=\"600.5\" y=\"41\"/><text fill=\"#000000\" font-family=\"sans-serif\" font-size=\"12\" font-style=\"italic\" lengthAdjust=\"spacingAndGlyphs\" textLength=\"69\" x=\"601.5\" y=\"57.1387\">«attribute»</text><text fill=\"#000000\" font-family=\"sans-serif\" font-size=\"12\" lengthAdjust=\"spacingAndGlyphs\" textLength=\"24\" x=\"624\" y=\"71.1074\">a: A</text><line style=\"stroke: #383838; stroke-width: 1.5;\" x1=\"601.5\" x2=\"670.5\" y1=\"78.9375\" y2=\"78.9375\"/></a><!--MD5=[ebbe1d658d1005bcc118a6aa81145e00]\n",
       "class E4--><a href=\"psysml:42a33a96-c599-425f-a532-027e99d4f603\" target=\"_top\" title=\"psysml:42a33a96-c599-425f-a532-027e99d4f603\" xlink:actuate=\"onRequest\" xlink:href=\"psysml:42a33a96-c599-425f-a532-027e99d4f603\" xlink:show=\"new\" xlink:title=\"psysml:42a33a96-c599-425f-a532-027e99d4f603\" xlink:type=\"simple\"><rect fill=\"#FFFFFF\" height=\"45.9375\" id=\"E4\" style=\"stroke: #383838; stroke-width: 1.5;\" width=\"108\" x=\"457\" y=\"41\"/><text fill=\"#000000\" font-family=\"sans-serif\" font-size=\"12\" font-style=\"italic\" lengthAdjust=\"spacingAndGlyphs\" textLength=\"106\" x=\"458\" y=\"57.1387\">«calculation def»</text><text fill=\"#000000\" font-family=\"sans-serif\" font-size=\"12\" lengthAdjust=\"spacingAndGlyphs\" textLength=\"7\" x=\"507.5\" y=\"71.1074\">F</text><line style=\"stroke: #383838; stroke-width: 1.5;\" x1=\"458\" x2=\"564\" y1=\"78.9375\" y2=\"78.9375\"/></a><!--MD5=[270fce915f116d4de14055a7c1d9a0f3]\n",
       "class E5--><a href=\"psysml:04c0c290-1f5b-4b73-9b90-1720c7950e1a\" target=\"_top\" title=\"psysml:04c0c290-1f5b-4b73-9b90-1720c7950e1a\" xlink:actuate=\"onRequest\" xlink:href=\"psysml:04c0c290-1f5b-4b73-9b90-1720c7950e1a\" xlink:show=\"new\" xlink:title=\"psysml:04c0c290-1f5b-4b73-9b90-1720c7950e1a\" xlink:type=\"simple\"><rect fill=\"#FFFFFF\" height=\"45.9375\" id=\"E5\" rx=\"10\" ry=\"10\" style=\"stroke: #383838; stroke-width: 1.5;\" width=\"71\" x=\"350.5\" y=\"41\"/><text fill=\"#000000\" font-family=\"sans-serif\" font-size=\"12\" font-style=\"italic\" lengthAdjust=\"spacingAndGlyphs\" textLength=\"69\" x=\"351.5\" y=\"57.1387\">«attribute»</text><text fill=\"#000000\" font-family=\"sans-serif\" font-size=\"12\" lengthAdjust=\"spacingAndGlyphs\" textLength=\"4\" x=\"384\" y=\"71.1074\">f</text><line style=\"stroke: #383838; stroke-width: 1.5;\" x1=\"351.5\" x2=\"420.5\" y1=\"78.9375\" y2=\"78.9375\"/></a><!--MD5=[60a26617385b1d2d0262a64233df1f8d]\n",
       "class E6--><a href=\"psysml:514c602a-a137-45fe-b85f-d9c421e6e02c\" target=\"_top\" title=\"psysml:514c602a-a137-45fe-b85f-d9c421e6e02c\" xlink:actuate=\"onRequest\" xlink:href=\"psysml:514c602a-a137-45fe-b85f-d9c421e6e02c\" xlink:show=\"new\" xlink:title=\"psysml:514c602a-a137-45fe-b85f-d9c421e6e02c\" xlink:type=\"simple\"><rect fill=\"#FFFFFF\" height=\"45.9375\" id=\"E6\" rx=\"10\" ry=\"10\" style=\"stroke: #383838; stroke-width: 1.5;\" width=\"71\" x=\"244.5\" y=\"41\"/><text fill=\"#000000\" font-family=\"sans-serif\" font-size=\"12\" font-style=\"italic\" lengthAdjust=\"spacingAndGlyphs\" textLength=\"69\" x=\"245.5\" y=\"57.1387\">«attribute»</text><text fill=\"#000000\" font-family=\"sans-serif\" font-size=\"12\" lengthAdjust=\"spacingAndGlyphs\" textLength=\"8\" x=\"276\" y=\"71.1074\">g</text><line style=\"stroke: #383838; stroke-width: 1.5;\" x1=\"245.5\" x2=\"314.5\" y1=\"78.9375\" y2=\"78.9375\"/></a><!--MD5=[2156ba9850f5573cc1fc38a6a4b2f02b]\n",
       "class E7--><a href=\"psysml:1980a670-9bad-4a6e-b892-05e752677470\" target=\"_top\" title=\"psysml:1980a670-9bad-4a6e-b892-05e752677470\" xlink:actuate=\"onRequest\" xlink:href=\"psysml:1980a670-9bad-4a6e-b892-05e752677470\" xlink:show=\"new\" xlink:title=\"psysml:1980a670-9bad-4a6e-b892-05e752677470\" xlink:type=\"simple\"><rect fill=\"#FFFFFF\" height=\"45.9375\" id=\"E7\" rx=\"10\" ry=\"10\" style=\"stroke: #383838; stroke-width: 1.5;\" width=\"71\" x=\"138.5\" y=\"41\"/><text fill=\"#000000\" font-family=\"sans-serif\" font-size=\"12\" font-style=\"italic\" lengthAdjust=\"spacingAndGlyphs\" textLength=\"69\" x=\"139.5\" y=\"57.1387\">«attribute»</text><text fill=\"#000000\" font-family=\"sans-serif\" font-size=\"12\" lengthAdjust=\"spacingAndGlyphs\" textLength=\"8\" x=\"170\" y=\"71.1074\">b</text><line style=\"stroke: #383838; stroke-width: 1.5;\" x1=\"139.5\" x2=\"208.5\" y1=\"78.9375\" y2=\"78.9375\"/></a><!--MD5=[b9389687b975829384b498ac4b7476b2]\n",
       "class E8--><a href=\"psysml:c3372668-2566-45ef-b19a-e891239054bd\" target=\"_top\" title=\"psysml:c3372668-2566-45ef-b19a-e891239054bd\" xlink:actuate=\"onRequest\" xlink:href=\"psysml:c3372668-2566-45ef-b19a-e891239054bd\" xlink:show=\"new\" xlink:title=\"psysml:c3372668-2566-45ef-b19a-e891239054bd\" xlink:type=\"simple\"><rect fill=\"#FFFFFF\" height=\"45.9375\" id=\"E8\" rx=\"10\" ry=\"10\" style=\"stroke: #383838; stroke-width: 1.5;\" width=\"71\" x=\"32.5\" y=\"41\"/><text fill=\"#000000\" font-family=\"sans-serif\" font-size=\"12\" font-style=\"italic\" lengthAdjust=\"spacingAndGlyphs\" textLength=\"69\" x=\"33.5\" y=\"57.1387\">«attribute»</text><text fill=\"#000000\" font-family=\"sans-serif\" font-size=\"12\" lengthAdjust=\"spacingAndGlyphs\" textLength=\"7\" x=\"64.5\" y=\"71.1074\">c</text><line style=\"stroke: #383838; stroke-width: 1.5;\" x1=\"33.5\" x2=\"102.5\" y1=\"78.9375\" y2=\"78.9375\"/></a><!--MD5=[05d275557350bfb9b23a4ef7222b4c39]\n",
       "link E3 to E2--><a href=\"psysml:c16b553f-69e4-4116-bada-9588c5abaa28\" target=\"_top\" title=\"psysml:c16b553f-69e4-4116-bada-9588c5abaa28\" xlink:actuate=\"onRequest\" xlink:href=\"psysml:c16b553f-69e4-4116-bada-9588c5abaa28\" xlink:show=\"new\" xlink:title=\"psysml:c16b553f-69e4-4116-bada-9588c5abaa28\" xlink:type=\"simple\"><path d=\"M621.94,87.19 C611.77,103.23 597.51,125.73 584.09,146.9 \" fill=\"none\" id=\"E3-&gt;E2\" style=\"stroke: #383838; stroke-width: 1.0;\"/><polygon fill=\"#FFFFFF\" points=\"573.37,163.82,577.6195,144.0225,589.448,151.5115,573.37,163.82\" style=\"stroke: #383838; stroke-width: 1.0;\"/><ellipse cx=\"582.3584\" cy=\"140.2764\" fill=\"#383838\" rx=\"2\" ry=\"2\" style=\"stroke: #383838; stroke-width: 1.0;\"/><ellipse cx=\"590.8073\" cy=\"145.6258\" fill=\"#383838\" rx=\"2\" ry=\"2\" style=\"stroke: #383838; stroke-width: 1.0;\"/></a><!--MD5=[ddeed8deb2209213b62e6cfabaa108b2]\n",
       "reverse link E4 to E2--><a href=\"psysml:7844d093-18d6-4bcd-8bc7-6ee8559e13ae\" target=\"_top\" title=\"psysml:7844d093-18d6-4bcd-8bc7-6ee8559e13ae\" xlink:actuate=\"onRequest\" xlink:href=\"psysml:7844d093-18d6-4bcd-8bc7-6ee8559e13ae\" xlink:show=\"new\" xlink:title=\"psysml:7844d093-18d6-4bcd-8bc7-6ee8559e13ae\" xlink:type=\"simple\"><path d=\"M519.62,99.96 C524.37,119.25 530.31,143.36 535.36,163.82 \" fill=\"none\" id=\"E4&lt;-E2\" style=\"stroke: #383838; stroke-width: 1.0;\"/><polygon fill=\"#FFFFFF\" points=\"516.47,87.19,514.0229,93.9732,519.3432,98.841,521.7903,92.0577,516.47,87.19\" style=\"stroke: #383838; stroke-width: 1.0;\"/><text fill=\"#000000\" font-family=\"sans-serif\" font-size=\"13\" lengthAdjust=\"spacingAndGlyphs\" textLength=\"8\" x=\"528\" y=\"130.0669\">p</text></a><!--MD5=[5f599b1f87958bb1f2dd40d1aea51832]\n",
       "@startuml\r\n",
       "top to bottom direction\r\n",
       "skinparam monochrome true\r\n",
       "skinparam classbackgroundcolor white\r\n",
       "skinparam shadowing false\r\n",
       "skinparam wrapWidth 300\r\n",
       "hide circle\r\n",
       "\r\n",
       "package \"ParameterTest\" as E1  [[psysml:edb9bc9d-436b-4f02-a049-a38172af8e0d ]]  {\r\n",
       "comp def \"A\" as E2  <<(T,blue)attribute def>> [[psysml:72c120f1-27bf-4069-82f6-2517ea0440e6 ]] {\r\n",
       "- - attributes - -\r\n",
       "x: String\r\n",
       "y: A\r\n",
       "}\r\n",
       "comp usage \"a: A\" as E3  <<(T,blue)attribute>> [[psysml:449a2126-050e-4d76-9596-2419df0cfe8a ]] {\r\n",
       "}\r\n",
       "comp def \"F\" as E4  <<(T,blue)calculation def>> [[psysml:42a33a96-c599-425f-a532-027e99d4f603 ]] {\r\n",
       "}\r\n",
       "comp usage \"f\" as E5  <<(T,blue)attribute>> [[psysml:04c0c290-1f5b-4b73-9b90-1720c7950e1a ]] {\r\n",
       "}\r\n",
       "comp usage \"g\" as E6  <<(T,blue)attribute>> [[psysml:514c602a-a137-45fe-b85f-d9c421e6e02c ]] {\r\n",
       "}\r\n",
       "comp usage \"b\" as E7  <<(T,blue)attribute>> [[psysml:1980a670-9bad-4a6e-b892-05e752677470 ]] {\r\n",
       "}\r\n",
       "comp usage \"c\" as E8  <<(T,blue)attribute>> [[psysml:c3372668-2566-45ef-b19a-e891239054bd ]] {\r\n",
       "}\r\n",
       "E3 - -:|> E2 [[psysml:c16b553f-69e4-4116-bada-9588c5abaa28 ]] \r\n",
       "E4 o- - E2 [[psysml:7844d093-18d6-4bcd-8bc7-6ee8559e13ae ]] : p\r\n",
       "}\r\n",
       "@enduml\r\n",
       "\n",
       "PlantUML version 1.2020.13(Sat Jun 13 12:26:38 UTC 2020)\n",
       "(EPL source distribution)\n",
       "Java Runtime: OpenJDK Runtime Environment\n",
       "JVM: OpenJDK 64-Bit Server VM\n",
       "Default Encoding: UTF-8\n",
       "Language: en\n",
       "Country: null\n",
       "--></g></svg>"
      ]
     },
     "execution_count": 45,
     "metadata": {},
     "output_type": "execute_result"
    }
   ],
   "source": [
    "%viz --style=\"TB\" --view=\"Tree\" \"ParameterTest\""
   ]
  },
  {
   "cell_type": "code",
   "execution_count": 46,
   "id": "living-diesel",
   "metadata": {
    "execution": {
     "iopub.execute_input": "2021-03-25T13:44:06.730466Z",
     "iopub.status.busy": "2021-03-25T13:44:06.729901Z",
     "iopub.status.idle": "2021-03-25T13:44:06.737540Z",
     "shell.execute_reply": "2021-03-25T13:44:06.736972Z"
    }
   },
   "outputs": [
    {
     "data": {
      "image/svg+xml": [
       "<?xml version=\"1.0\" encoding=\"UTF-8\" standalone=\"no\"?><svg xmlns=\"http://www.w3.org/2000/svg\" xmlns:xlink=\"http://www.w3.org/1999/xlink\" contentScriptType=\"application/ecmascript\" contentStyleType=\"text/css\" height=\"12px\" preserveAspectRatio=\"none\" style=\"width:12px;height:12px;\" version=\"1.1\" viewBox=\"0 0 12 12\" width=\"12px\" zoomAndPan=\"magnify\"><defs/><g><!--MD5=[f4ee21bc66e489b5061b7c3e9601fdef]\n",
       "@startuml\r\n",
       "top to bottom direction\r\n",
       "skinparam monochrome true\r\n",
       "skinparam classbackgroundcolor white\r\n",
       "skinparam shadowing false\r\n",
       "skinparam wrapWidth 300\r\n",
       "hide circle\r\n",
       "\r\n",
       "@enduml\r\n",
       "\n",
       "PlantUML version 1.2020.13(Sat Jun 13 12:26:38 UTC 2020)\n",
       "(EPL source distribution)\n",
       "Java Runtime: OpenJDK Runtime Environment\n",
       "JVM: OpenJDK 64-Bit Server VM\n",
       "Default Encoding: UTF-8\n",
       "Language: en\n",
       "Country: null\n",
       "--></g></svg>"
      ]
     },
     "execution_count": 46,
     "metadata": {},
     "output_type": "execute_result"
    }
   ],
   "source": [
    "%viz --style=\"TB\" --view=\"State\" \"ParameterTest\""
   ]
  },
  {
   "cell_type": "code",
   "execution_count": 47,
   "id": "wooden-andrew",
   "metadata": {
    "execution": {
     "iopub.execute_input": "2021-03-25T13:44:06.788239Z",
     "iopub.status.busy": "2021-03-25T13:44:06.787638Z",
     "iopub.status.idle": "2021-03-25T13:44:06.877160Z",
     "shell.execute_reply": "2021-03-25T13:44:06.875441Z"
    }
   },
   "outputs": [
    {
     "data": {
      "image/svg+xml": [
       "<?xml version=\"1.0\" encoding=\"UTF-8\" standalone=\"no\"?><svg xmlns=\"http://www.w3.org/2000/svg\" xmlns:xlink=\"http://www.w3.org/1999/xlink\" contentScriptType=\"application/ecmascript\" contentStyleType=\"text/css\" height=\"112px\" preserveAspectRatio=\"none\" style=\"width:874px;height:112px;\" version=\"1.1\" viewBox=\"0 0 874 112\" width=\"874px\" zoomAndPan=\"magnify\"><defs/><g><!--MD5=[fbc87193dbaf4d95561dea2c320d4a47]\n",
       "cluster E1--><a href=\"psysml:edb9bc9d-436b-4f02-a049-a38172af8e0d\" target=\"_top\" title=\"psysml:edb9bc9d-436b-4f02-a049-a38172af8e0d\" xlink:actuate=\"onRequest\" xlink:href=\"psysml:edb9bc9d-436b-4f02-a049-a38172af8e0d\" xlink:show=\"new\" xlink:title=\"psysml:edb9bc9d-436b-4f02-a049-a38172af8e0d\" xlink:type=\"simple\"><polygon fill=\"#FFFFFF\" points=\"16,6,139,6,146,28.2969,852,28.2969,852,100,16,100,16,6\" style=\"stroke: #000000; stroke-width: 1.5;\"/><line style=\"stroke: #000000; stroke-width: 1.5;\" x1=\"16\" x2=\"146\" y1=\"28.2969\" y2=\"28.2969\"/><text fill=\"#000000\" font-family=\"sans-serif\" font-size=\"14\" font-weight=\"bold\" lengthAdjust=\"spacingAndGlyphs\" textLength=\"117\" x=\"20\" y=\"20.9951\">ParameterTest</text></a><g id=\"E1.E2\"><a href=\"psysml:72c120f1-27bf-4069-82f6-2517ea0440e6\" target=\"_top\" title=\"psysml:72c120f1-27bf-4069-82f6-2517ea0440e6\" xlink:actuate=\"onRequest\" xlink:href=\"psysml:72c120f1-27bf-4069-82f6-2517ea0440e6\" xlink:show=\"new\" xlink:title=\"psysml:72c120f1-27bf-4069-82f6-2517ea0440e6\" xlink:type=\"simple\"><rect fill=\"#FFFFFF\" height=\"42.9375\" id=\"E2\" style=\"stroke: #383838; stroke-width: 1.5;\" width=\"100\" x=\"736\" y=\"41\"/><rect fill=\"#F8F8F8\" height=\"37.9375\" style=\"stroke: #383838; stroke-width: 1.5;\" width=\"100\" x=\"736\" y=\"41\"/><text fill=\"#000000\" font-family=\"sans-serif\" font-size=\"12\" font-style=\"italic\" lengthAdjust=\"spacingAndGlyphs\" textLength=\"93\" x=\"739.5\" y=\"57.1387\">«attribute def»</text><text fill=\"#000000\" font-family=\"sans-serif\" font-size=\"12\" lengthAdjust=\"spacingAndGlyphs\" textLength=\"8\" x=\"782\" y=\"71.1074\">A</text></a></g><g id=\"E1.E4\"><a href=\"psysml:42a33a96-c599-425f-a532-027e99d4f603\" target=\"_top\" title=\"psysml:42a33a96-c599-425f-a532-027e99d4f603\" xlink:actuate=\"onRequest\" xlink:href=\"psysml:42a33a96-c599-425f-a532-027e99d4f603\" xlink:show=\"new\" xlink:title=\"psysml:42a33a96-c599-425f-a532-027e99d4f603\" xlink:type=\"simple\"><rect fill=\"#FFFFFF\" height=\"42.9375\" id=\"E4\" style=\"stroke: #383838; stroke-width: 1.5;\" width=\"113\" x=\"587.5\" y=\"41\"/><rect fill=\"#F8F8F8\" height=\"37.9375\" style=\"stroke: #383838; stroke-width: 1.5;\" width=\"113\" x=\"587.5\" y=\"41\"/><text fill=\"#000000\" font-family=\"sans-serif\" font-size=\"12\" font-style=\"italic\" lengthAdjust=\"spacingAndGlyphs\" textLength=\"106\" x=\"591\" y=\"57.1387\">«calculation def»</text><text fill=\"#000000\" font-family=\"sans-serif\" font-size=\"12\" lengthAdjust=\"spacingAndGlyphs\" textLength=\"7\" x=\"640.5\" y=\"71.1074\">F</text></a></g><g id=\"E1.E3\"><a href=\"psysml:449a2126-050e-4d76-9596-2419df0cfe8a\" target=\"_top\" title=\"psysml:449a2126-050e-4d76-9596-2419df0cfe8a\" xlink:actuate=\"onRequest\" xlink:href=\"psysml:449a2126-050e-4d76-9596-2419df0cfe8a\" xlink:show=\"new\" xlink:title=\"psysml:449a2126-050e-4d76-9596-2419df0cfe8a\" xlink:type=\"simple\"><rect fill=\"#FFFFFF\" height=\"42.9375\" id=\"E3\" rx=\"10\" ry=\"10\" style=\"stroke: #383838; stroke-width: 1.5;\" width=\"76\" x=\"476\" y=\"41\"/><rect fill=\"#F8F8F8\" height=\"37.9375\" rx=\"10\" ry=\"10\" style=\"stroke: #F8F8F8; stroke-width: 1.5;\" width=\"76\" x=\"476\" y=\"41\"/><rect fill=\"#F8F8F8\" height=\"10\" style=\"stroke: #F8F8F8; stroke-width: 1.5;\" width=\"76\" x=\"476\" y=\"68.9375\"/><rect fill=\"none\" height=\"42.9375\" id=\"E3\" rx=\"10\" ry=\"10\" style=\"stroke: #383838; stroke-width: 1.5;\" width=\"76\" x=\"476\" y=\"41\"/><text fill=\"#000000\" font-family=\"sans-serif\" font-size=\"12\" font-style=\"italic\" lengthAdjust=\"spacingAndGlyphs\" textLength=\"69\" x=\"479.5\" y=\"57.1387\">«attribute»</text><text fill=\"#000000\" font-family=\"sans-serif\" font-size=\"12\" lengthAdjust=\"spacingAndGlyphs\" textLength=\"24\" x=\"502\" y=\"71.1074\">a: A</text></a></g><g id=\"E1.E5\"><a href=\"psysml:04c0c290-1f5b-4b73-9b90-1720c7950e1a\" target=\"_top\" title=\"psysml:04c0c290-1f5b-4b73-9b90-1720c7950e1a\" xlink:actuate=\"onRequest\" xlink:href=\"psysml:04c0c290-1f5b-4b73-9b90-1720c7950e1a\" xlink:show=\"new\" xlink:title=\"psysml:04c0c290-1f5b-4b73-9b90-1720c7950e1a\" xlink:type=\"simple\"><rect fill=\"#FFFFFF\" height=\"42.9375\" id=\"E5\" rx=\"10\" ry=\"10\" style=\"stroke: #383838; stroke-width: 1.5;\" width=\"76\" x=\"365\" y=\"41\"/><rect fill=\"#F8F8F8\" height=\"37.9375\" rx=\"10\" ry=\"10\" style=\"stroke: #F8F8F8; stroke-width: 1.5;\" width=\"76\" x=\"365\" y=\"41\"/><rect fill=\"#F8F8F8\" height=\"10\" style=\"stroke: #F8F8F8; stroke-width: 1.5;\" width=\"76\" x=\"365\" y=\"68.9375\"/><rect fill=\"none\" height=\"42.9375\" id=\"E5\" rx=\"10\" ry=\"10\" style=\"stroke: #383838; stroke-width: 1.5;\" width=\"76\" x=\"365\" y=\"41\"/><text fill=\"#000000\" font-family=\"sans-serif\" font-size=\"12\" font-style=\"italic\" lengthAdjust=\"spacingAndGlyphs\" textLength=\"69\" x=\"368.5\" y=\"57.1387\">«attribute»</text><text fill=\"#000000\" font-family=\"sans-serif\" font-size=\"12\" lengthAdjust=\"spacingAndGlyphs\" textLength=\"4\" x=\"401\" y=\"71.1074\">f</text></a></g><g id=\"E1.E6\"><a href=\"psysml:514c602a-a137-45fe-b85f-d9c421e6e02c\" target=\"_top\" title=\"psysml:514c602a-a137-45fe-b85f-d9c421e6e02c\" xlink:actuate=\"onRequest\" xlink:href=\"psysml:514c602a-a137-45fe-b85f-d9c421e6e02c\" xlink:show=\"new\" xlink:title=\"psysml:514c602a-a137-45fe-b85f-d9c421e6e02c\" xlink:type=\"simple\"><rect fill=\"#FFFFFF\" height=\"42.9375\" id=\"E6\" rx=\"10\" ry=\"10\" style=\"stroke: #383838; stroke-width: 1.5;\" width=\"76\" x=\"254\" y=\"41\"/><rect fill=\"#F8F8F8\" height=\"37.9375\" rx=\"10\" ry=\"10\" style=\"stroke: #F8F8F8; stroke-width: 1.5;\" width=\"76\" x=\"254\" y=\"41\"/><rect fill=\"#F8F8F8\" height=\"10\" style=\"stroke: #F8F8F8; stroke-width: 1.5;\" width=\"76\" x=\"254\" y=\"68.9375\"/><rect fill=\"none\" height=\"42.9375\" id=\"E6\" rx=\"10\" ry=\"10\" style=\"stroke: #383838; stroke-width: 1.5;\" width=\"76\" x=\"254\" y=\"41\"/><text fill=\"#000000\" font-family=\"sans-serif\" font-size=\"12\" font-style=\"italic\" lengthAdjust=\"spacingAndGlyphs\" textLength=\"69\" x=\"257.5\" y=\"57.1387\">«attribute»</text><text fill=\"#000000\" font-family=\"sans-serif\" font-size=\"12\" lengthAdjust=\"spacingAndGlyphs\" textLength=\"8\" x=\"288\" y=\"71.1074\">g</text></a></g><g id=\"E1.E7\"><a href=\"psysml:1980a670-9bad-4a6e-b892-05e752677470\" target=\"_top\" title=\"psysml:1980a670-9bad-4a6e-b892-05e752677470\" xlink:actuate=\"onRequest\" xlink:href=\"psysml:1980a670-9bad-4a6e-b892-05e752677470\" xlink:show=\"new\" xlink:title=\"psysml:1980a670-9bad-4a6e-b892-05e752677470\" xlink:type=\"simple\"><rect fill=\"#FFFFFF\" height=\"42.9375\" id=\"E7\" rx=\"10\" ry=\"10\" style=\"stroke: #383838; stroke-width: 1.5;\" width=\"76\" x=\"143\" y=\"41\"/><rect fill=\"#F8F8F8\" height=\"37.9375\" rx=\"10\" ry=\"10\" style=\"stroke: #F8F8F8; stroke-width: 1.5;\" width=\"76\" x=\"143\" y=\"41\"/><rect fill=\"#F8F8F8\" height=\"10\" style=\"stroke: #F8F8F8; stroke-width: 1.5;\" width=\"76\" x=\"143\" y=\"68.9375\"/><rect fill=\"none\" height=\"42.9375\" id=\"E7\" rx=\"10\" ry=\"10\" style=\"stroke: #383838; stroke-width: 1.5;\" width=\"76\" x=\"143\" y=\"41\"/><text fill=\"#000000\" font-family=\"sans-serif\" font-size=\"12\" font-style=\"italic\" lengthAdjust=\"spacingAndGlyphs\" textLength=\"69\" x=\"146.5\" y=\"57.1387\">«attribute»</text><text fill=\"#000000\" font-family=\"sans-serif\" font-size=\"12\" lengthAdjust=\"spacingAndGlyphs\" textLength=\"8\" x=\"177\" y=\"71.1074\">b</text></a></g><g id=\"E1.E8\"><a href=\"psysml:c3372668-2566-45ef-b19a-e891239054bd\" target=\"_top\" title=\"psysml:c3372668-2566-45ef-b19a-e891239054bd\" xlink:actuate=\"onRequest\" xlink:href=\"psysml:c3372668-2566-45ef-b19a-e891239054bd\" xlink:show=\"new\" xlink:title=\"psysml:c3372668-2566-45ef-b19a-e891239054bd\" xlink:type=\"simple\"><rect fill=\"#FFFFFF\" height=\"42.9375\" id=\"E8\" rx=\"10\" ry=\"10\" style=\"stroke: #383838; stroke-width: 1.5;\" width=\"76\" x=\"32\" y=\"41\"/><rect fill=\"#F8F8F8\" height=\"37.9375\" rx=\"10\" ry=\"10\" style=\"stroke: #F8F8F8; stroke-width: 1.5;\" width=\"76\" x=\"32\" y=\"41\"/><rect fill=\"#F8F8F8\" height=\"10\" style=\"stroke: #F8F8F8; stroke-width: 1.5;\" width=\"76\" x=\"32\" y=\"68.9375\"/><rect fill=\"none\" height=\"42.9375\" id=\"E8\" rx=\"10\" ry=\"10\" style=\"stroke: #383838; stroke-width: 1.5;\" width=\"76\" x=\"32\" y=\"41\"/><text fill=\"#000000\" font-family=\"sans-serif\" font-size=\"12\" font-style=\"italic\" lengthAdjust=\"spacingAndGlyphs\" textLength=\"69\" x=\"35.5\" y=\"57.1387\">«attribute»</text><text fill=\"#000000\" font-family=\"sans-serif\" font-size=\"12\" lengthAdjust=\"spacingAndGlyphs\" textLength=\"7\" x=\"66.5\" y=\"71.1074\">c</text></a></g><!--MD5=[2f2d77492bcee4061b6c27d738505171]\n",
       "@startuml\r\n",
       "skinparam ranksep 8\r\n",
       "skinparam rectangle {\r\n",
       " backgroundColor<<block>> LightGreen\r\n",
       "}\r\n",
       "top to bottom direction\r\n",
       "skinparam monochrome true\r\n",
       "skinparam classbackgroundcolor white\r\n",
       "skinparam shadowing false\r\n",
       "skinparam wrapWidth 300\r\n",
       "hide circle\r\n",
       "\r\n",
       "package \"ParameterTest\" as E1  [[psysml:edb9bc9d-436b-4f02-a049-a38172af8e0d ]]  {\r\n",
       "def \"A\" as E2  <<(T,blue)attribute def>> [[psysml:72c120f1-27bf-4069-82f6-2517ea0440e6 ]] \r\n",
       "rec usage \"a: A\" as E3  <<(T,blue)attribute>> [[psysml:449a2126-050e-4d76-9596-2419df0cfe8a ]] {\r\n",
       "}\r\n",
       "def \"F\" as E4  <<(T,blue)calculation def>> [[psysml:42a33a96-c599-425f-a532-027e99d4f603 ]] \r\n",
       "rec usage \"f\" as E5  <<(T,blue)attribute>> [[psysml:04c0c290-1f5b-4b73-9b90-1720c7950e1a ]] {\r\n",
       "}\r\n",
       "rec usage \"g\" as E6  <<(T,blue)attribute>> [[psysml:514c602a-a137-45fe-b85f-d9c421e6e02c ]] {\r\n",
       "}\r\n",
       "rec usage \"b\" as E7  <<(T,blue)attribute>> [[psysml:1980a670-9bad-4a6e-b892-05e752677470 ]] {\r\n",
       "}\r\n",
       "rec usage \"c\" as E8  <<(T,blue)attribute>> [[psysml:c3372668-2566-45ef-b19a-e891239054bd ]] {\r\n",
       "}\r\n",
       "}\r\n",
       "@enduml\r\n",
       "\n",
       "PlantUML version 1.2020.13(Sat Jun 13 12:26:38 UTC 2020)\n",
       "(EPL source distribution)\n",
       "Java Runtime: OpenJDK Runtime Environment\n",
       "JVM: OpenJDK 64-Bit Server VM\n",
       "Default Encoding: UTF-8\n",
       "Language: en\n",
       "Country: null\n",
       "--></g></svg>"
      ]
     },
     "execution_count": 47,
     "metadata": {},
     "output_type": "execute_result"
    }
   ],
   "source": [
    "%viz --style=\"TB\" --view=\"Interconnection\" \"ParameterTest\""
   ]
  },
  {
   "cell_type": "code",
   "execution_count": 48,
   "id": "improved-retailer",
   "metadata": {
    "execution": {
     "iopub.execute_input": "2021-03-25T13:44:06.927520Z",
     "iopub.status.busy": "2021-03-25T13:44:06.927015Z",
     "iopub.status.idle": "2021-03-25T13:44:06.987825Z",
     "shell.execute_reply": "2021-03-25T13:44:06.987434Z"
    }
   },
   "outputs": [
    {
     "data": {
      "image/svg+xml": [
       "<?xml version=\"1.0\" encoding=\"UTF-8\" standalone=\"no\"?><svg xmlns=\"http://www.w3.org/2000/svg\" xmlns:xlink=\"http://www.w3.org/1999/xlink\" contentScriptType=\"application/ecmascript\" contentStyleType=\"text/css\" height=\"126px\" preserveAspectRatio=\"none\" style=\"width:166px;height:126px;\" version=\"1.1\" viewBox=\"0 0 166 126\" width=\"166px\" zoomAndPan=\"magnify\"><defs/><g><!--MD5=[fbc87193dbaf4d95561dea2c320d4a47]\n",
       "cluster E1--><a href=\"psysml:42a33a96-c599-425f-a532-027e99d4f603\" target=\"_top\" title=\"psysml:42a33a96-c599-425f-a532-027e99d4f603\" xlink:actuate=\"onRequest\" xlink:href=\"psysml:42a33a96-c599-425f-a532-027e99d4f603\" xlink:show=\"new\" xlink:title=\"psysml:42a33a96-c599-425f-a532-027e99d4f603\" xlink:type=\"simple\"><rect fill=\"#FFFFFF\" height=\"73\" id=\"E1\" style=\"stroke: #383838; stroke-width: 1.5;\" width=\"148\" x=\"7\" y=\"42.0986\"/><rect fill=\"#F8F8F8\" height=\"37.9375\" style=\"stroke: #383838; stroke-width: 1.5;\" width=\"148\" x=\"7\" y=\"42.0986\"/><text fill=\"#000000\" font-family=\"sans-serif\" font-size=\"12\" font-style=\"italic\" lengthAdjust=\"spacingAndGlyphs\" textLength=\"106\" x=\"28\" y=\"58.2373\">«calculation def»</text><text fill=\"#000000\" font-family=\"sans-serif\" font-size=\"12\" lengthAdjust=\"spacingAndGlyphs\" textLength=\"7\" x=\"77.5\" y=\"72.2061\">F</text></a><text fill=\"#000000\" font-family=\"sans-serif\" font-size=\"14\" lengthAdjust=\"spacingAndGlyphs\" textLength=\"9\" x=\"20.5\" y=\"20.7969\">p</text><rect fill=\"#383838\" height=\"12\" style=\"stroke: #F8F8F8; stroke-width: 1.5;\" width=\"12\" x=\"19\" y=\"36.0986\"/><text fill=\"#000000\" font-family=\"sans-serif\" font-size=\"14\" lengthAdjust=\"spacingAndGlyphs\" textLength=\"9\" x=\"67.5\" y=\"20.7969\">q</text><rect fill=\"#383838\" height=\"12\" style=\"stroke: #F8F8F8; stroke-width: 1.5;\" width=\"12\" x=\"66\" y=\"36.0986\"/><!--MD5=[f5bf3b29b63423b483d16ac126bec65c]\n",
       "@startuml\r\n",
       "skinparam ranksep 8\r\n",
       "top to bottom direction\r\n",
       "skinparam monochrome true\r\n",
       "skinparam classbackgroundcolor white\r\n",
       "skinparam shadowing false\r\n",
       "skinparam wrapWidth 300\r\n",
       "hide circle\r\n",
       "\r\n",
       "rec def \"F\" as E1  <<(T,blue)calculation def>> [[psysml:42a33a96-c599-425f-a532-027e99d4f603 ]] {\r\n",
       "portin \"p\" as E2  [[psysml:7844d093-18d6-4bcd-8bc7-6ee8559e13ae ]] \r\n",
       "portin \"q\" as E3  [[psysml:60bdf07c-a2db-456e-a058-70cb9f3de468 ]] \r\n",
       "}\r\n",
       "\r\n",
       "@enduml\r\n",
       "\n",
       "PlantUML version 1.2020.13(Sat Jun 13 12:26:38 UTC 2020)\n",
       "(EPL source distribution)\n",
       "Java Runtime: OpenJDK Runtime Environment\n",
       "JVM: OpenJDK 64-Bit Server VM\n",
       "Default Encoding: UTF-8\n",
       "Language: en\n",
       "Country: null\n",
       "--></g></svg>"
      ]
     },
     "execution_count": 48,
     "metadata": {},
     "output_type": "execute_result"
    }
   ],
   "source": [
    "%viz --style=\"TB\" --view=\"Action\" \"ParameterTest\""
   ]
  },
  {
   "cell_type": "code",
   "execution_count": 49,
   "id": "focal-investigation",
   "metadata": {
    "execution": {
     "iopub.execute_input": "2021-03-25T13:44:07.039597Z",
     "iopub.status.busy": "2021-03-25T13:44:07.038745Z",
     "iopub.status.idle": "2021-03-25T13:44:07.300297Z",
     "shell.execute_reply": "2021-03-25T13:44:07.298676Z"
    }
   },
   "outputs": [
    {
     "data": {
      "image/svg+xml": [
       "<?xml version=\"1.0\" encoding=\"UTF-8\" standalone=\"no\"?><svg xmlns=\"http://www.w3.org/2000/svg\" xmlns:xlink=\"http://www.w3.org/1999/xlink\" contentScriptType=\"application/ecmascript\" contentStyleType=\"text/css\" height=\"280px\" preserveAspectRatio=\"none\" style=\"width:710px;height:280px;\" version=\"1.1\" viewBox=\"0 0 710 280\" width=\"710px\" zoomAndPan=\"magnify\"><defs/><g><!--MD5=[fbc87193dbaf4d95561dea2c320d4a47]\n",
       "cluster E1--><a href=\"psysml:edb9bc9d-436b-4f02-a049-a38172af8e0d\" target=\"_top\" title=\"psysml:edb9bc9d-436b-4f02-a049-a38172af8e0d\" xlink:actuate=\"onRequest\" xlink:href=\"psysml:edb9bc9d-436b-4f02-a049-a38172af8e0d\" xlink:show=\"new\" xlink:title=\"psysml:edb9bc9d-436b-4f02-a049-a38172af8e0d\" xlink:type=\"simple\"><polygon fill=\"#FFFFFF\" points=\"16,6,139,6,146,28.2969,688,28.2969,688,268,16,268,16,6\" style=\"stroke: #000000; stroke-width: 1.5;\"/><line style=\"stroke: #000000; stroke-width: 1.5;\" x1=\"16\" x2=\"146\" y1=\"28.2969\" y2=\"28.2969\"/><text fill=\"#000000\" font-family=\"sans-serif\" font-size=\"14\" font-weight=\"bold\" lengthAdjust=\"spacingAndGlyphs\" textLength=\"117\" x=\"20\" y=\"20.9951\">ParameterTest</text></a><!--MD5=[b4997ac47864f28c2f74865a473b2911]\n",
       "class E2--><a href=\"psysml:72c120f1-27bf-4069-82f6-2517ea0440e6\" target=\"_top\" title=\"psysml:72c120f1-27bf-4069-82f6-2517ea0440e6\" xlink:actuate=\"onRequest\" xlink:href=\"psysml:72c120f1-27bf-4069-82f6-2517ea0440e6\" xlink:show=\"new\" xlink:title=\"psysml:72c120f1-27bf-4069-82f6-2517ea0440e6\" xlink:type=\"simple\"><rect fill=\"#FFFFFF\" height=\"88.3516\" id=\"E2\" style=\"stroke: #383838; stroke-width: 1.5;\" width=\"95\" x=\"498.5\" y=\"164\"/><text fill=\"#000000\" font-family=\"sans-serif\" font-size=\"12\" font-style=\"italic\" lengthAdjust=\"spacingAndGlyphs\" textLength=\"93\" x=\"499.5\" y=\"180.1387\">«attribute def»</text><text fill=\"#000000\" font-family=\"sans-serif\" font-size=\"12\" lengthAdjust=\"spacingAndGlyphs\" textLength=\"8\" x=\"542\" y=\"194.1074\">A</text><line style=\"stroke: #383838; stroke-width: 1.5;\" x1=\"499.5\" x2=\"592.5\" y1=\"201.9375\" y2=\"201.9375\"/><text fill=\"#000000\" font-family=\"sans-serif\" font-size=\"11\" lengthAdjust=\"spacingAndGlyphs\" textLength=\"48\" x=\"504.5\" y=\"232.9526\">x: String</text><text fill=\"#000000\" font-family=\"sans-serif\" font-size=\"11\" lengthAdjust=\"spacingAndGlyphs\" textLength=\"21\" x=\"504.5\" y=\"245.7573\">y: A</text><line style=\"stroke: #383838; stroke-width: 1.0;\" x1=\"499.5\" x2=\"518.5\" y1=\"216.3398\" y2=\"216.3398\"/><text fill=\"#000000\" font-family=\"sans-serif\" font-size=\"11\" lengthAdjust=\"spacingAndGlyphs\" textLength=\"55\" x=\"518.5\" y=\"219.6479\">attributes</text><line style=\"stroke: #383838; stroke-width: 1.0;\" x1=\"573.5\" x2=\"592.5\" y1=\"216.3398\" y2=\"216.3398\"/></a><!--MD5=[09b614a08d8cba4a07c9adeb5e0fee81]\n",
       "class E3--><a href=\"psysml:449a2126-050e-4d76-9596-2419df0cfe8a\" target=\"_top\" title=\"psysml:449a2126-050e-4d76-9596-2419df0cfe8a\" xlink:actuate=\"onRequest\" xlink:href=\"psysml:449a2126-050e-4d76-9596-2419df0cfe8a\" xlink:show=\"new\" xlink:title=\"psysml:449a2126-050e-4d76-9596-2419df0cfe8a\" xlink:type=\"simple\"><rect fill=\"#FFFFFF\" height=\"45.9375\" id=\"E3\" rx=\"10\" ry=\"10\" style=\"stroke: #383838; stroke-width: 1.5;\" width=\"71\" x=\"600.5\" y=\"41\"/><text fill=\"#000000\" font-family=\"sans-serif\" font-size=\"12\" font-style=\"italic\" lengthAdjust=\"spacingAndGlyphs\" textLength=\"69\" x=\"601.5\" y=\"57.1387\">«attribute»</text><text fill=\"#000000\" font-family=\"sans-serif\" font-size=\"12\" lengthAdjust=\"spacingAndGlyphs\" textLength=\"24\" x=\"624\" y=\"71.1074\">a: A</text><line style=\"stroke: #383838; stroke-width: 1.5;\" x1=\"601.5\" x2=\"670.5\" y1=\"78.9375\" y2=\"78.9375\"/></a><!--MD5=[ebbe1d658d1005bcc118a6aa81145e00]\n",
       "class E4--><a href=\"psysml:42a33a96-c599-425f-a532-027e99d4f603\" target=\"_top\" title=\"psysml:42a33a96-c599-425f-a532-027e99d4f603\" xlink:actuate=\"onRequest\" xlink:href=\"psysml:42a33a96-c599-425f-a532-027e99d4f603\" xlink:show=\"new\" xlink:title=\"psysml:42a33a96-c599-425f-a532-027e99d4f603\" xlink:type=\"simple\"><rect fill=\"#FFFFFF\" height=\"45.9375\" id=\"E4\" style=\"stroke: #383838; stroke-width: 1.5;\" width=\"108\" x=\"457\" y=\"41\"/><text fill=\"#000000\" font-family=\"sans-serif\" font-size=\"12\" font-style=\"italic\" lengthAdjust=\"spacingAndGlyphs\" textLength=\"106\" x=\"458\" y=\"57.1387\">«calculation def»</text><text fill=\"#000000\" font-family=\"sans-serif\" font-size=\"12\" lengthAdjust=\"spacingAndGlyphs\" textLength=\"7\" x=\"507.5\" y=\"71.1074\">F</text><line style=\"stroke: #383838; stroke-width: 1.5;\" x1=\"458\" x2=\"564\" y1=\"78.9375\" y2=\"78.9375\"/></a><!--MD5=[270fce915f116d4de14055a7c1d9a0f3]\n",
       "class E5--><a href=\"psysml:04c0c290-1f5b-4b73-9b90-1720c7950e1a\" target=\"_top\" title=\"psysml:04c0c290-1f5b-4b73-9b90-1720c7950e1a\" xlink:actuate=\"onRequest\" xlink:href=\"psysml:04c0c290-1f5b-4b73-9b90-1720c7950e1a\" xlink:show=\"new\" xlink:title=\"psysml:04c0c290-1f5b-4b73-9b90-1720c7950e1a\" xlink:type=\"simple\"><rect fill=\"#FFFFFF\" height=\"45.9375\" id=\"E5\" rx=\"10\" ry=\"10\" style=\"stroke: #383838; stroke-width: 1.5;\" width=\"71\" x=\"350.5\" y=\"41\"/><text fill=\"#000000\" font-family=\"sans-serif\" font-size=\"12\" font-style=\"italic\" lengthAdjust=\"spacingAndGlyphs\" textLength=\"69\" x=\"351.5\" y=\"57.1387\">«attribute»</text><text fill=\"#000000\" font-family=\"sans-serif\" font-size=\"12\" lengthAdjust=\"spacingAndGlyphs\" textLength=\"4\" x=\"384\" y=\"71.1074\">f</text><line style=\"stroke: #383838; stroke-width: 1.5;\" x1=\"351.5\" x2=\"420.5\" y1=\"78.9375\" y2=\"78.9375\"/></a><!--MD5=[60a26617385b1d2d0262a64233df1f8d]\n",
       "class E6--><a href=\"psysml:514c602a-a137-45fe-b85f-d9c421e6e02c\" target=\"_top\" title=\"psysml:514c602a-a137-45fe-b85f-d9c421e6e02c\" xlink:actuate=\"onRequest\" xlink:href=\"psysml:514c602a-a137-45fe-b85f-d9c421e6e02c\" xlink:show=\"new\" xlink:title=\"psysml:514c602a-a137-45fe-b85f-d9c421e6e02c\" xlink:type=\"simple\"><rect fill=\"#FFFFFF\" height=\"45.9375\" id=\"E6\" rx=\"10\" ry=\"10\" style=\"stroke: #383838; stroke-width: 1.5;\" width=\"71\" x=\"244.5\" y=\"41\"/><text fill=\"#000000\" font-family=\"sans-serif\" font-size=\"12\" font-style=\"italic\" lengthAdjust=\"spacingAndGlyphs\" textLength=\"69\" x=\"245.5\" y=\"57.1387\">«attribute»</text><text fill=\"#000000\" font-family=\"sans-serif\" font-size=\"12\" lengthAdjust=\"spacingAndGlyphs\" textLength=\"8\" x=\"276\" y=\"71.1074\">g</text><line style=\"stroke: #383838; stroke-width: 1.5;\" x1=\"245.5\" x2=\"314.5\" y1=\"78.9375\" y2=\"78.9375\"/></a><!--MD5=[2156ba9850f5573cc1fc38a6a4b2f02b]\n",
       "class E7--><a href=\"psysml:1980a670-9bad-4a6e-b892-05e752677470\" target=\"_top\" title=\"psysml:1980a670-9bad-4a6e-b892-05e752677470\" xlink:actuate=\"onRequest\" xlink:href=\"psysml:1980a670-9bad-4a6e-b892-05e752677470\" xlink:show=\"new\" xlink:title=\"psysml:1980a670-9bad-4a6e-b892-05e752677470\" xlink:type=\"simple\"><rect fill=\"#FFFFFF\" height=\"45.9375\" id=\"E7\" rx=\"10\" ry=\"10\" style=\"stroke: #383838; stroke-width: 1.5;\" width=\"71\" x=\"138.5\" y=\"41\"/><text fill=\"#000000\" font-family=\"sans-serif\" font-size=\"12\" font-style=\"italic\" lengthAdjust=\"spacingAndGlyphs\" textLength=\"69\" x=\"139.5\" y=\"57.1387\">«attribute»</text><text fill=\"#000000\" font-family=\"sans-serif\" font-size=\"12\" lengthAdjust=\"spacingAndGlyphs\" textLength=\"8\" x=\"170\" y=\"71.1074\">b</text><line style=\"stroke: #383838; stroke-width: 1.5;\" x1=\"139.5\" x2=\"208.5\" y1=\"78.9375\" y2=\"78.9375\"/></a><!--MD5=[b9389687b975829384b498ac4b7476b2]\n",
       "class E8--><a href=\"psysml:c3372668-2566-45ef-b19a-e891239054bd\" target=\"_top\" title=\"psysml:c3372668-2566-45ef-b19a-e891239054bd\" xlink:actuate=\"onRequest\" xlink:href=\"psysml:c3372668-2566-45ef-b19a-e891239054bd\" xlink:show=\"new\" xlink:title=\"psysml:c3372668-2566-45ef-b19a-e891239054bd\" xlink:type=\"simple\"><rect fill=\"#FFFFFF\" height=\"45.9375\" id=\"E8\" rx=\"10\" ry=\"10\" style=\"stroke: #383838; stroke-width: 1.5;\" width=\"71\" x=\"32.5\" y=\"41\"/><text fill=\"#000000\" font-family=\"sans-serif\" font-size=\"12\" font-style=\"italic\" lengthAdjust=\"spacingAndGlyphs\" textLength=\"69\" x=\"33.5\" y=\"57.1387\">«attribute»</text><text fill=\"#000000\" font-family=\"sans-serif\" font-size=\"12\" lengthAdjust=\"spacingAndGlyphs\" textLength=\"7\" x=\"64.5\" y=\"71.1074\">c</text><line style=\"stroke: #383838; stroke-width: 1.5;\" x1=\"33.5\" x2=\"102.5\" y1=\"78.9375\" y2=\"78.9375\"/></a><!--MD5=[05d275557350bfb9b23a4ef7222b4c39]\n",
       "link E3 to E2--><a href=\"psysml:c16b553f-69e4-4116-bada-9588c5abaa28\" target=\"_top\" title=\"psysml:c16b553f-69e4-4116-bada-9588c5abaa28\" xlink:actuate=\"onRequest\" xlink:href=\"psysml:c16b553f-69e4-4116-bada-9588c5abaa28\" xlink:show=\"new\" xlink:title=\"psysml:c16b553f-69e4-4116-bada-9588c5abaa28\" xlink:type=\"simple\"><path d=\"M621.94,87.19 C611.77,103.23 597.51,125.73 584.09,146.9 \" fill=\"none\" id=\"E3-&gt;E2\" style=\"stroke: #383838; stroke-width: 1.0;\"/><polygon fill=\"#FFFFFF\" points=\"573.37,163.82,577.6195,144.0225,589.448,151.5115,573.37,163.82\" style=\"stroke: #383838; stroke-width: 1.0;\"/><ellipse cx=\"582.3584\" cy=\"140.2764\" fill=\"#383838\" rx=\"2\" ry=\"2\" style=\"stroke: #383838; stroke-width: 1.0;\"/><ellipse cx=\"590.8073\" cy=\"145.6258\" fill=\"#383838\" rx=\"2\" ry=\"2\" style=\"stroke: #383838; stroke-width: 1.0;\"/></a><!--MD5=[ddeed8deb2209213b62e6cfabaa108b2]\n",
       "reverse link E4 to E2--><a href=\"psysml:7844d093-18d6-4bcd-8bc7-6ee8559e13ae\" target=\"_top\" title=\"psysml:7844d093-18d6-4bcd-8bc7-6ee8559e13ae\" xlink:actuate=\"onRequest\" xlink:href=\"psysml:7844d093-18d6-4bcd-8bc7-6ee8559e13ae\" xlink:show=\"new\" xlink:title=\"psysml:7844d093-18d6-4bcd-8bc7-6ee8559e13ae\" xlink:type=\"simple\"><path d=\"M519.62,99.96 C524.37,119.25 530.31,143.36 535.36,163.82 \" fill=\"none\" id=\"E4&lt;-E2\" style=\"stroke: #383838; stroke-width: 1.0;\"/><polygon fill=\"#FFFFFF\" points=\"516.47,87.19,514.0229,93.9732,519.3432,98.841,521.7903,92.0577,516.47,87.19\" style=\"stroke: #383838; stroke-width: 1.0;\"/><text fill=\"#000000\" font-family=\"sans-serif\" font-size=\"13\" lengthAdjust=\"spacingAndGlyphs\" textLength=\"8\" x=\"528\" y=\"130.0669\">p</text></a><!--MD5=[5f599b1f87958bb1f2dd40d1aea51832]\n",
       "@startuml\r\n",
       "top to bottom direction\r\n",
       "skinparam monochrome true\r\n",
       "skinparam classbackgroundcolor white\r\n",
       "skinparam shadowing false\r\n",
       "skinparam wrapWidth 300\r\n",
       "hide circle\r\n",
       "\r\n",
       "package \"ParameterTest\" as E1  [[psysml:edb9bc9d-436b-4f02-a049-a38172af8e0d ]]  {\r\n",
       "comp def \"A\" as E2  <<(T,blue)attribute def>> [[psysml:72c120f1-27bf-4069-82f6-2517ea0440e6 ]] {\r\n",
       "- - attributes - -\r\n",
       "x: String\r\n",
       "y: A\r\n",
       "}\r\n",
       "comp usage \"a: A\" as E3  <<(T,blue)attribute>> [[psysml:449a2126-050e-4d76-9596-2419df0cfe8a ]] {\r\n",
       "}\r\n",
       "comp def \"F\" as E4  <<(T,blue)calculation def>> [[psysml:42a33a96-c599-425f-a532-027e99d4f603 ]] {\r\n",
       "}\r\n",
       "comp usage \"f\" as E5  <<(T,blue)attribute>> [[psysml:04c0c290-1f5b-4b73-9b90-1720c7950e1a ]] {\r\n",
       "}\r\n",
       "comp usage \"g\" as E6  <<(T,blue)attribute>> [[psysml:514c602a-a137-45fe-b85f-d9c421e6e02c ]] {\r\n",
       "}\r\n",
       "comp usage \"b\" as E7  <<(T,blue)attribute>> [[psysml:1980a670-9bad-4a6e-b892-05e752677470 ]] {\r\n",
       "}\r\n",
       "comp usage \"c\" as E8  <<(T,blue)attribute>> [[psysml:c3372668-2566-45ef-b19a-e891239054bd ]] {\r\n",
       "}\r\n",
       "E3 - -:|> E2 [[psysml:c16b553f-69e4-4116-bada-9588c5abaa28 ]] \r\n",
       "E4 o- - E2 [[psysml:7844d093-18d6-4bcd-8bc7-6ee8559e13ae ]] : p\r\n",
       "}\r\n",
       "@enduml\r\n",
       "\n",
       "PlantUML version 1.2020.13(Sat Jun 13 12:26:38 UTC 2020)\n",
       "(EPL source distribution)\n",
       "Java Runtime: OpenJDK Runtime Environment\n",
       "JVM: OpenJDK 64-Bit Server VM\n",
       "Default Encoding: UTF-8\n",
       "Language: en\n",
       "Country: null\n",
       "--></g></svg>"
      ]
     },
     "execution_count": 49,
     "metadata": {},
     "output_type": "execute_result"
    }
   ],
   "source": [
    "%viz --style=\"TB\" --view=\"Sequence\" \"ParameterTest\""
   ]
  },
  {
   "cell_type": "code",
   "execution_count": 50,
   "id": "saved-lyric",
   "metadata": {
    "execution": {
     "iopub.execute_input": "2021-03-25T13:44:07.351669Z",
     "iopub.status.busy": "2021-03-25T13:44:07.351029Z",
     "iopub.status.idle": "2021-03-25T13:44:07.638826Z",
     "shell.execute_reply": "2021-03-25T13:44:07.637327Z"
    }
   },
   "outputs": [
    {
     "data": {
      "image/svg+xml": [
       "<?xml version=\"1.0\" encoding=\"UTF-8\" standalone=\"no\"?><svg xmlns=\"http://www.w3.org/2000/svg\" xmlns:xlink=\"http://www.w3.org/1999/xlink\" contentScriptType=\"application/ecmascript\" contentStyleType=\"text/css\" height=\"263px\" preserveAspectRatio=\"none\" style=\"width:740px;height:263px;\" version=\"1.1\" viewBox=\"0 0 740 263\" width=\"740px\" zoomAndPan=\"magnify\"><defs/><g><!--MD5=[fbc87193dbaf4d95561dea2c320d4a47]\n",
       "cluster E1--><a href=\"psysml:edb9bc9d-436b-4f02-a049-a38172af8e0d\" target=\"_top\" title=\"psysml:edb9bc9d-436b-4f02-a049-a38172af8e0d\" xlink:actuate=\"onRequest\" xlink:href=\"psysml:edb9bc9d-436b-4f02-a049-a38172af8e0d\" xlink:show=\"new\" xlink:title=\"psysml:edb9bc9d-436b-4f02-a049-a38172af8e0d\" xlink:type=\"simple\"><polygon fill=\"#FFFFFF\" points=\"16,6,139,6,146,28.2969,718,28.2969,718,251,16,251,16,6\" style=\"stroke: #000000; stroke-width: 1.5;\"/><line style=\"stroke: #000000; stroke-width: 1.5;\" x1=\"16\" x2=\"146\" y1=\"28.2969\" y2=\"28.2969\"/><text fill=\"#000000\" font-family=\"sans-serif\" font-size=\"14\" font-weight=\"bold\" lengthAdjust=\"spacingAndGlyphs\" textLength=\"117\" x=\"20\" y=\"20.9951\">ParameterTest</text></a><!--MD5=[f6df4d0ebaf0b5dfb2ced0ae5af7c670]\n",
       "cluster E4--><a href=\"psysml:42a33a96-c599-425f-a532-027e99d4f603\" target=\"_top\" title=\"psysml:42a33a96-c599-425f-a532-027e99d4f603\" xlink:actuate=\"onRequest\" xlink:href=\"psysml:42a33a96-c599-425f-a532-027e99d4f603\" xlink:show=\"new\" xlink:title=\"psysml:42a33a96-c599-425f-a532-027e99d4f603\" xlink:type=\"simple\"><rect fill=\"#FFFFFF\" height=\"160.5\" id=\"E4\" style=\"stroke: #383838; stroke-width: 1.5;\" width=\"148\" x=\"554\" y=\"64\"/><rect fill=\"#F8F8F8\" height=\"37.9375\" style=\"stroke: #383838; stroke-width: 1.5;\" width=\"148\" x=\"554\" y=\"64\"/><text fill=\"#000000\" font-family=\"sans-serif\" font-size=\"12\" font-style=\"italic\" lengthAdjust=\"spacingAndGlyphs\" textLength=\"106\" x=\"575\" y=\"80.1387\">«calculation def»</text><text fill=\"#000000\" font-family=\"sans-serif\" font-size=\"12\" lengthAdjust=\"spacingAndGlyphs\" textLength=\"7\" x=\"624.5\" y=\"94.1074\">F</text></a><!--MD5=[b4997ac47864f28c2f74865a473b2911]\n",
       "class E2--><a href=\"psysml:72c120f1-27bf-4069-82f6-2517ea0440e6\" target=\"_top\" title=\"psysml:72c120f1-27bf-4069-82f6-2517ea0440e6\" xlink:actuate=\"onRequest\" xlink:href=\"psysml:72c120f1-27bf-4069-82f6-2517ea0440e6\" xlink:show=\"new\" xlink:title=\"psysml:72c120f1-27bf-4069-82f6-2517ea0440e6\" xlink:type=\"simple\"><rect fill=\"#FFFFFF\" height=\"88.3516\" id=\"E2\" style=\"stroke: #383838; stroke-width: 1.5;\" width=\"95\" x=\"422.5\" y=\"147\"/><text fill=\"#000000\" font-family=\"sans-serif\" font-size=\"12\" font-style=\"italic\" lengthAdjust=\"spacingAndGlyphs\" textLength=\"93\" x=\"423.5\" y=\"163.1387\">«attribute def»</text><text fill=\"#000000\" font-family=\"sans-serif\" font-size=\"12\" lengthAdjust=\"spacingAndGlyphs\" textLength=\"8\" x=\"466\" y=\"177.1074\">A</text><line style=\"stroke: #383838; stroke-width: 1.5;\" x1=\"423.5\" x2=\"516.5\" y1=\"184.9375\" y2=\"184.9375\"/><text fill=\"#000000\" font-family=\"sans-serif\" font-size=\"11\" lengthAdjust=\"spacingAndGlyphs\" textLength=\"48\" x=\"428.5\" y=\"215.9526\">x: String</text><text fill=\"#000000\" font-family=\"sans-serif\" font-size=\"11\" lengthAdjust=\"spacingAndGlyphs\" textLength=\"21\" x=\"428.5\" y=\"228.7573\">y: A</text><line style=\"stroke: #383838; stroke-width: 1.0;\" x1=\"423.5\" x2=\"442.5\" y1=\"199.3398\" y2=\"199.3398\"/><text fill=\"#000000\" font-family=\"sans-serif\" font-size=\"11\" lengthAdjust=\"spacingAndGlyphs\" textLength=\"55\" x=\"442.5\" y=\"202.6479\">attributes</text><line style=\"stroke: #383838; stroke-width: 1.0;\" x1=\"497.5\" x2=\"516.5\" y1=\"199.3398\" y2=\"199.3398\"/></a><!--MD5=[09b614a08d8cba4a07c9adeb5e0fee81]\n",
       "class E3--><a href=\"psysml:449a2126-050e-4d76-9596-2419df0cfe8a\" target=\"_top\" title=\"psysml:449a2126-050e-4d76-9596-2419df0cfe8a\" xlink:actuate=\"onRequest\" xlink:href=\"psysml:449a2126-050e-4d76-9596-2419df0cfe8a\" xlink:show=\"new\" xlink:title=\"psysml:449a2126-050e-4d76-9596-2419df0cfe8a\" xlink:type=\"simple\"><rect fill=\"#FFFFFF\" height=\"45.9375\" id=\"E3\" rx=\"10\" ry=\"10\" style=\"stroke: #383838; stroke-width: 1.5;\" width=\"71\" x=\"456.5\" y=\"41\"/><text fill=\"#000000\" font-family=\"sans-serif\" font-size=\"12\" font-style=\"italic\" lengthAdjust=\"spacingAndGlyphs\" textLength=\"69\" x=\"457.5\" y=\"57.1387\">«attribute»</text><text fill=\"#000000\" font-family=\"sans-serif\" font-size=\"12\" lengthAdjust=\"spacingAndGlyphs\" textLength=\"24\" x=\"480\" y=\"71.1074\">a: A</text><line style=\"stroke: #383838; stroke-width: 1.5;\" x1=\"457.5\" x2=\"526.5\" y1=\"78.9375\" y2=\"78.9375\"/></a><!--MD5=[2156ba9850f5573cc1fc38a6a4b2f02b]\n",
       "class E7--><a href=\"psysml:04c0c290-1f5b-4b73-9b90-1720c7950e1a\" target=\"_top\" title=\"psysml:04c0c290-1f5b-4b73-9b90-1720c7950e1a\" xlink:actuate=\"onRequest\" xlink:href=\"psysml:04c0c290-1f5b-4b73-9b90-1720c7950e1a\" xlink:show=\"new\" xlink:title=\"psysml:04c0c290-1f5b-4b73-9b90-1720c7950e1a\" xlink:type=\"simple\"><rect fill=\"#FFFFFF\" height=\"45.9375\" id=\"E7\" rx=\"10\" ry=\"10\" style=\"stroke: #383838; stroke-width: 1.5;\" width=\"71\" x=\"350.5\" y=\"41\"/><text fill=\"#000000\" font-family=\"sans-serif\" font-size=\"12\" font-style=\"italic\" lengthAdjust=\"spacingAndGlyphs\" textLength=\"69\" x=\"351.5\" y=\"57.1387\">«attribute»</text><text fill=\"#000000\" font-family=\"sans-serif\" font-size=\"12\" lengthAdjust=\"spacingAndGlyphs\" textLength=\"4\" x=\"384\" y=\"71.1074\">f</text><line style=\"stroke: #383838; stroke-width: 1.5;\" x1=\"351.5\" x2=\"420.5\" y1=\"78.9375\" y2=\"78.9375\"/></a><!--MD5=[b9389687b975829384b498ac4b7476b2]\n",
       "class E8--><a href=\"psysml:514c602a-a137-45fe-b85f-d9c421e6e02c\" target=\"_top\" title=\"psysml:514c602a-a137-45fe-b85f-d9c421e6e02c\" xlink:actuate=\"onRequest\" xlink:href=\"psysml:514c602a-a137-45fe-b85f-d9c421e6e02c\" xlink:show=\"new\" xlink:title=\"psysml:514c602a-a137-45fe-b85f-d9c421e6e02c\" xlink:type=\"simple\"><rect fill=\"#FFFFFF\" height=\"45.9375\" id=\"E8\" rx=\"10\" ry=\"10\" style=\"stroke: #383838; stroke-width: 1.5;\" width=\"71\" x=\"244.5\" y=\"41\"/><text fill=\"#000000\" font-family=\"sans-serif\" font-size=\"12\" font-style=\"italic\" lengthAdjust=\"spacingAndGlyphs\" textLength=\"69\" x=\"245.5\" y=\"57.1387\">«attribute»</text><text fill=\"#000000\" font-family=\"sans-serif\" font-size=\"12\" lengthAdjust=\"spacingAndGlyphs\" textLength=\"8\" x=\"276\" y=\"71.1074\">g</text><line style=\"stroke: #383838; stroke-width: 1.5;\" x1=\"245.5\" x2=\"314.5\" y1=\"78.9375\" y2=\"78.9375\"/></a><!--MD5=[fd4143e9d270a159db93a4ea2a975926]\n",
       "class E9--><a href=\"psysml:1980a670-9bad-4a6e-b892-05e752677470\" target=\"_top\" title=\"psysml:1980a670-9bad-4a6e-b892-05e752677470\" xlink:actuate=\"onRequest\" xlink:href=\"psysml:1980a670-9bad-4a6e-b892-05e752677470\" xlink:show=\"new\" xlink:title=\"psysml:1980a670-9bad-4a6e-b892-05e752677470\" xlink:type=\"simple\"><rect fill=\"#FFFFFF\" height=\"45.9375\" id=\"E9\" rx=\"10\" ry=\"10\" style=\"stroke: #383838; stroke-width: 1.5;\" width=\"71\" x=\"138.5\" y=\"41\"/><text fill=\"#000000\" font-family=\"sans-serif\" font-size=\"12\" font-style=\"italic\" lengthAdjust=\"spacingAndGlyphs\" textLength=\"69\" x=\"139.5\" y=\"57.1387\">«attribute»</text><text fill=\"#000000\" font-family=\"sans-serif\" font-size=\"12\" lengthAdjust=\"spacingAndGlyphs\" textLength=\"8\" x=\"170\" y=\"71.1074\">b</text><line style=\"stroke: #383838; stroke-width: 1.5;\" x1=\"139.5\" x2=\"208.5\" y1=\"78.9375\" y2=\"78.9375\"/></a><!--MD5=[96f4274e9e20536e775497830990834d]\n",
       "class E10--><a href=\"psysml:c3372668-2566-45ef-b19a-e891239054bd\" target=\"_top\" title=\"psysml:c3372668-2566-45ef-b19a-e891239054bd\" xlink:actuate=\"onRequest\" xlink:href=\"psysml:c3372668-2566-45ef-b19a-e891239054bd\" xlink:show=\"new\" xlink:title=\"psysml:c3372668-2566-45ef-b19a-e891239054bd\" xlink:type=\"simple\"><rect fill=\"#FFFFFF\" height=\"45.9375\" id=\"E10\" rx=\"10\" ry=\"10\" style=\"stroke: #383838; stroke-width: 1.5;\" width=\"71\" x=\"32.5\" y=\"41\"/><text fill=\"#000000\" font-family=\"sans-serif\" font-size=\"12\" font-style=\"italic\" lengthAdjust=\"spacingAndGlyphs\" textLength=\"69\" x=\"33.5\" y=\"57.1387\">«attribute»</text><text fill=\"#000000\" font-family=\"sans-serif\" font-size=\"12\" lengthAdjust=\"spacingAndGlyphs\" textLength=\"7\" x=\"64.5\" y=\"71.1074\">c</text><line style=\"stroke: #383838; stroke-width: 1.5;\" x1=\"33.5\" x2=\"102.5\" y1=\"78.9375\" y2=\"78.9375\"/></a><text fill=\"#000000\" font-family=\"sans-serif\" font-size=\"14\" lengthAdjust=\"spacingAndGlyphs\" textLength=\"9\" x=\"567.5\" y=\"42.6982\">p</text><rect fill=\"#383838\" height=\"12\" style=\"stroke: #F8F8F8; stroke-width: 1.5;\" width=\"12\" x=\"566\" y=\"58\"/><text fill=\"#000000\" font-family=\"sans-serif\" font-size=\"14\" lengthAdjust=\"spacingAndGlyphs\" textLength=\"9\" x=\"614.5\" y=\"42.6982\">q</text><rect fill=\"#383838\" height=\"12\" style=\"stroke: #F8F8F8; stroke-width: 1.5;\" width=\"12\" x=\"613\" y=\"58\"/><!--MD5=[05d275557350bfb9b23a4ef7222b4c39]\n",
       "link E3 to E2--><a href=\"psysml:c16b553f-69e4-4116-bada-9588c5abaa28\" target=\"_top\" title=\"psysml:c16b553f-69e4-4116-bada-9588c5abaa28\" xlink:actuate=\"onRequest\" xlink:href=\"psysml:c16b553f-69e4-4116-bada-9588c5abaa28\" xlink:show=\"new\" xlink:title=\"psysml:c16b553f-69e4-4116-bada-9588c5abaa28\" xlink:type=\"simple\"><path d=\"M488.12,87.06 C486.14,98.3 483.62,112.6 481.1,126.95 \" fill=\"none\" id=\"E3-&gt;E2\" style=\"stroke: #383838; stroke-width: 1.0;\"/><polygon fill=\"#FFFFFF\" points=\"477.58,146.93,473.9835,127.0035,487.7711,129.4331,477.58,146.93\" style=\"stroke: #383838; stroke-width: 1.0;\"/><ellipse cx=\"476.9423\" cy=\"121.7371\" fill=\"#383838\" rx=\"2\" ry=\"2\" style=\"stroke: #383838; stroke-width: 1.0;\"/><ellipse cx=\"486.7906\" cy=\"123.4725\" fill=\"#383838\" rx=\"2\" ry=\"2\" style=\"stroke: #383838; stroke-width: 1.0;\"/></a><!--MD5=[dff1beb519b400329982fee534cb2973]\n",
       "@startuml\r\n",
       "top to bottom direction\r\n",
       "skinparam monochrome true\r\n",
       "skinparam classbackgroundcolor white\r\n",
       "skinparam shadowing false\r\n",
       "skinparam wrapWidth 300\r\n",
       "hide circle\r\n",
       "\r\n",
       "package \"ParameterTest\" as E1  [[psysml:edb9bc9d-436b-4f02-a049-a38172af8e0d ]]  {\r\n",
       "comp def \"A\" as E2  <<(T,blue)attribute def>> [[psysml:72c120f1-27bf-4069-82f6-2517ea0440e6 ]] {\r\n",
       "- - attributes - -\r\n",
       "x: String\r\n",
       "y: A\r\n",
       "}\r\n",
       "comp usage \"a: A\" as E3  <<(T,blue)attribute>> [[psysml:449a2126-050e-4d76-9596-2419df0cfe8a ]] {\r\n",
       "}\r\n",
       "rec def \"F\" as E4  <<(T,blue)calculation def>> [[psysml:42a33a96-c599-425f-a532-027e99d4f603 ]] {\r\n",
       "portin \"p\" as E5  [[psysml:7844d093-18d6-4bcd-8bc7-6ee8559e13ae ]] \r\n",
       "portin \"q\" as E6  [[psysml:60bdf07c-a2db-456e-a058-70cb9f3de468 ]] \r\n",
       "}\r\n",
       "\r\n",
       "comp usage \"f\" as E7  <<(T,blue)attribute>> [[psysml:04c0c290-1f5b-4b73-9b90-1720c7950e1a ]] {\r\n",
       "}\r\n",
       "comp usage \"g\" as E8  <<(T,blue)attribute>> [[psysml:514c602a-a137-45fe-b85f-d9c421e6e02c ]] {\r\n",
       "}\r\n",
       "comp usage \"b\" as E9  <<(T,blue)attribute>> [[psysml:1980a670-9bad-4a6e-b892-05e752677470 ]] {\r\n",
       "}\r\n",
       "comp usage \"c\" as E10  <<(T,blue)attribute>> [[psysml:c3372668-2566-45ef-b19a-e891239054bd ]] {\r\n",
       "}\r\n",
       "E3 - -:|> E2 [[psysml:c16b553f-69e4-4116-bada-9588c5abaa28 ]] \r\n",
       "}\r\n",
       "@enduml\r\n",
       "\n",
       "PlantUML version 1.2020.13(Sat Jun 13 12:26:38 UTC 2020)\n",
       "(EPL source distribution)\n",
       "Java Runtime: OpenJDK Runtime Environment\n",
       "JVM: OpenJDK 64-Bit Server VM\n",
       "Default Encoding: UTF-8\n",
       "Language: en\n",
       "Country: null\n",
       "--></g></svg>"
      ]
     },
     "execution_count": 50,
     "metadata": {},
     "output_type": "execute_result"
    }
   ],
   "source": [
    "%viz --style=\"TB\" --view=\"MIXED\" \"ParameterTest\""
   ]
  },
  {
   "cell_type": "code",
   "execution_count": 51,
   "id": "upset-biodiversity",
   "metadata": {
    "execution": {
     "iopub.execute_input": "2021-03-25T13:44:07.690524Z",
     "iopub.status.busy": "2021-03-25T13:44:07.689446Z",
     "iopub.status.idle": "2021-03-25T13:44:07.974878Z",
     "shell.execute_reply": "2021-03-25T13:44:07.973302Z"
    }
   },
   "outputs": [
    {
     "data": {
      "image/svg+xml": [
       "<?xml version=\"1.0\" encoding=\"UTF-8\" standalone=\"no\"?><svg xmlns=\"http://www.w3.org/2000/svg\" xmlns:xlink=\"http://www.w3.org/1999/xlink\" contentScriptType=\"application/ecmascript\" contentStyleType=\"text/css\" height=\"263px\" preserveAspectRatio=\"none\" style=\"width:740px;height:263px;\" version=\"1.1\" viewBox=\"0 0 740 263\" width=\"740px\" zoomAndPan=\"magnify\"><defs/><g><!--MD5=[fbc87193dbaf4d95561dea2c320d4a47]\n",
       "cluster E1--><a href=\"psysml:edb9bc9d-436b-4f02-a049-a38172af8e0d\" target=\"_top\" title=\"psysml:edb9bc9d-436b-4f02-a049-a38172af8e0d\" xlink:actuate=\"onRequest\" xlink:href=\"psysml:edb9bc9d-436b-4f02-a049-a38172af8e0d\" xlink:show=\"new\" xlink:title=\"psysml:edb9bc9d-436b-4f02-a049-a38172af8e0d\" xlink:type=\"simple\"><polygon fill=\"#FFFFFF\" points=\"16,6,139,6,146,28.2969,718,28.2969,718,251,16,251,16,6\" style=\"stroke: #000000; stroke-width: 1.5;\"/><line style=\"stroke: #000000; stroke-width: 1.5;\" x1=\"16\" x2=\"146\" y1=\"28.2969\" y2=\"28.2969\"/><text fill=\"#000000\" font-family=\"sans-serif\" font-size=\"14\" font-weight=\"bold\" lengthAdjust=\"spacingAndGlyphs\" textLength=\"117\" x=\"20\" y=\"20.9951\">ParameterTest</text></a><!--MD5=[f6df4d0ebaf0b5dfb2ced0ae5af7c670]\n",
       "cluster E4--><a href=\"psysml:42a33a96-c599-425f-a532-027e99d4f603\" target=\"_top\" title=\"psysml:42a33a96-c599-425f-a532-027e99d4f603\" xlink:actuate=\"onRequest\" xlink:href=\"psysml:42a33a96-c599-425f-a532-027e99d4f603\" xlink:show=\"new\" xlink:title=\"psysml:42a33a96-c599-425f-a532-027e99d4f603\" xlink:type=\"simple\"><rect fill=\"#FFFFFF\" height=\"160.5\" id=\"E4\" style=\"stroke: #383838; stroke-width: 1.5;\" width=\"148\" x=\"554\" y=\"64\"/><rect fill=\"#F8F8F8\" height=\"37.9375\" style=\"stroke: #383838; stroke-width: 1.5;\" width=\"148\" x=\"554\" y=\"64\"/><text fill=\"#000000\" font-family=\"sans-serif\" font-size=\"12\" font-style=\"italic\" lengthAdjust=\"spacingAndGlyphs\" textLength=\"106\" x=\"575\" y=\"80.1387\">«calculation def»</text><text fill=\"#000000\" font-family=\"sans-serif\" font-size=\"12\" lengthAdjust=\"spacingAndGlyphs\" textLength=\"7\" x=\"624.5\" y=\"94.1074\">F</text></a><!--MD5=[b4997ac47864f28c2f74865a473b2911]\n",
       "class E2--><a href=\"psysml:72c120f1-27bf-4069-82f6-2517ea0440e6\" target=\"_top\" title=\"psysml:72c120f1-27bf-4069-82f6-2517ea0440e6\" xlink:actuate=\"onRequest\" xlink:href=\"psysml:72c120f1-27bf-4069-82f6-2517ea0440e6\" xlink:show=\"new\" xlink:title=\"psysml:72c120f1-27bf-4069-82f6-2517ea0440e6\" xlink:type=\"simple\"><rect fill=\"#FFFFFF\" height=\"88.3516\" id=\"E2\" style=\"stroke: #383838; stroke-width: 1.5;\" width=\"95\" x=\"422.5\" y=\"147\"/><text fill=\"#000000\" font-family=\"sans-serif\" font-size=\"12\" font-style=\"italic\" lengthAdjust=\"spacingAndGlyphs\" textLength=\"93\" x=\"423.5\" y=\"163.1387\">«attribute def»</text><text fill=\"#000000\" font-family=\"sans-serif\" font-size=\"12\" lengthAdjust=\"spacingAndGlyphs\" textLength=\"8\" x=\"466\" y=\"177.1074\">A</text><line style=\"stroke: #383838; stroke-width: 1.5;\" x1=\"423.5\" x2=\"516.5\" y1=\"184.9375\" y2=\"184.9375\"/><text fill=\"#000000\" font-family=\"sans-serif\" font-size=\"11\" lengthAdjust=\"spacingAndGlyphs\" textLength=\"48\" x=\"428.5\" y=\"215.9526\">x: String</text><text fill=\"#000000\" font-family=\"sans-serif\" font-size=\"11\" lengthAdjust=\"spacingAndGlyphs\" textLength=\"21\" x=\"428.5\" y=\"228.7573\">y: A</text><line style=\"stroke: #383838; stroke-width: 1.0;\" x1=\"423.5\" x2=\"442.5\" y1=\"199.3398\" y2=\"199.3398\"/><text fill=\"#000000\" font-family=\"sans-serif\" font-size=\"11\" lengthAdjust=\"spacingAndGlyphs\" textLength=\"55\" x=\"442.5\" y=\"202.6479\">attributes</text><line style=\"stroke: #383838; stroke-width: 1.0;\" x1=\"497.5\" x2=\"516.5\" y1=\"199.3398\" y2=\"199.3398\"/></a><!--MD5=[09b614a08d8cba4a07c9adeb5e0fee81]\n",
       "class E3--><a href=\"psysml:449a2126-050e-4d76-9596-2419df0cfe8a\" target=\"_top\" title=\"psysml:449a2126-050e-4d76-9596-2419df0cfe8a\" xlink:actuate=\"onRequest\" xlink:href=\"psysml:449a2126-050e-4d76-9596-2419df0cfe8a\" xlink:show=\"new\" xlink:title=\"psysml:449a2126-050e-4d76-9596-2419df0cfe8a\" xlink:type=\"simple\"><rect fill=\"#FFFFFF\" height=\"45.9375\" id=\"E3\" rx=\"10\" ry=\"10\" style=\"stroke: #383838; stroke-width: 1.5;\" width=\"71\" x=\"456.5\" y=\"41\"/><text fill=\"#000000\" font-family=\"sans-serif\" font-size=\"12\" font-style=\"italic\" lengthAdjust=\"spacingAndGlyphs\" textLength=\"69\" x=\"457.5\" y=\"57.1387\">«attribute»</text><text fill=\"#000000\" font-family=\"sans-serif\" font-size=\"12\" lengthAdjust=\"spacingAndGlyphs\" textLength=\"24\" x=\"480\" y=\"71.1074\">a: A</text><line style=\"stroke: #383838; stroke-width: 1.5;\" x1=\"457.5\" x2=\"526.5\" y1=\"78.9375\" y2=\"78.9375\"/></a><!--MD5=[2156ba9850f5573cc1fc38a6a4b2f02b]\n",
       "class E7--><a href=\"psysml:04c0c290-1f5b-4b73-9b90-1720c7950e1a\" target=\"_top\" title=\"psysml:04c0c290-1f5b-4b73-9b90-1720c7950e1a\" xlink:actuate=\"onRequest\" xlink:href=\"psysml:04c0c290-1f5b-4b73-9b90-1720c7950e1a\" xlink:show=\"new\" xlink:title=\"psysml:04c0c290-1f5b-4b73-9b90-1720c7950e1a\" xlink:type=\"simple\"><rect fill=\"#FFFFFF\" height=\"45.9375\" id=\"E7\" rx=\"10\" ry=\"10\" style=\"stroke: #383838; stroke-width: 1.5;\" width=\"71\" x=\"350.5\" y=\"41\"/><text fill=\"#000000\" font-family=\"sans-serif\" font-size=\"12\" font-style=\"italic\" lengthAdjust=\"spacingAndGlyphs\" textLength=\"69\" x=\"351.5\" y=\"57.1387\">«attribute»</text><text fill=\"#000000\" font-family=\"sans-serif\" font-size=\"12\" lengthAdjust=\"spacingAndGlyphs\" textLength=\"4\" x=\"384\" y=\"71.1074\">f</text><line style=\"stroke: #383838; stroke-width: 1.5;\" x1=\"351.5\" x2=\"420.5\" y1=\"78.9375\" y2=\"78.9375\"/></a><!--MD5=[b9389687b975829384b498ac4b7476b2]\n",
       "class E8--><a href=\"psysml:514c602a-a137-45fe-b85f-d9c421e6e02c\" target=\"_top\" title=\"psysml:514c602a-a137-45fe-b85f-d9c421e6e02c\" xlink:actuate=\"onRequest\" xlink:href=\"psysml:514c602a-a137-45fe-b85f-d9c421e6e02c\" xlink:show=\"new\" xlink:title=\"psysml:514c602a-a137-45fe-b85f-d9c421e6e02c\" xlink:type=\"simple\"><rect fill=\"#FFFFFF\" height=\"45.9375\" id=\"E8\" rx=\"10\" ry=\"10\" style=\"stroke: #383838; stroke-width: 1.5;\" width=\"71\" x=\"244.5\" y=\"41\"/><text fill=\"#000000\" font-family=\"sans-serif\" font-size=\"12\" font-style=\"italic\" lengthAdjust=\"spacingAndGlyphs\" textLength=\"69\" x=\"245.5\" y=\"57.1387\">«attribute»</text><text fill=\"#000000\" font-family=\"sans-serif\" font-size=\"12\" lengthAdjust=\"spacingAndGlyphs\" textLength=\"8\" x=\"276\" y=\"71.1074\">g</text><line style=\"stroke: #383838; stroke-width: 1.5;\" x1=\"245.5\" x2=\"314.5\" y1=\"78.9375\" y2=\"78.9375\"/></a><!--MD5=[fd4143e9d270a159db93a4ea2a975926]\n",
       "class E9--><a href=\"psysml:1980a670-9bad-4a6e-b892-05e752677470\" target=\"_top\" title=\"psysml:1980a670-9bad-4a6e-b892-05e752677470\" xlink:actuate=\"onRequest\" xlink:href=\"psysml:1980a670-9bad-4a6e-b892-05e752677470\" xlink:show=\"new\" xlink:title=\"psysml:1980a670-9bad-4a6e-b892-05e752677470\" xlink:type=\"simple\"><rect fill=\"#FFFFFF\" height=\"45.9375\" id=\"E9\" rx=\"10\" ry=\"10\" style=\"stroke: #383838; stroke-width: 1.5;\" width=\"71\" x=\"138.5\" y=\"41\"/><text fill=\"#000000\" font-family=\"sans-serif\" font-size=\"12\" font-style=\"italic\" lengthAdjust=\"spacingAndGlyphs\" textLength=\"69\" x=\"139.5\" y=\"57.1387\">«attribute»</text><text fill=\"#000000\" font-family=\"sans-serif\" font-size=\"12\" lengthAdjust=\"spacingAndGlyphs\" textLength=\"8\" x=\"170\" y=\"71.1074\">b</text><line style=\"stroke: #383838; stroke-width: 1.5;\" x1=\"139.5\" x2=\"208.5\" y1=\"78.9375\" y2=\"78.9375\"/></a><!--MD5=[96f4274e9e20536e775497830990834d]\n",
       "class E10--><a href=\"psysml:c3372668-2566-45ef-b19a-e891239054bd\" target=\"_top\" title=\"psysml:c3372668-2566-45ef-b19a-e891239054bd\" xlink:actuate=\"onRequest\" xlink:href=\"psysml:c3372668-2566-45ef-b19a-e891239054bd\" xlink:show=\"new\" xlink:title=\"psysml:c3372668-2566-45ef-b19a-e891239054bd\" xlink:type=\"simple\"><rect fill=\"#FFFFFF\" height=\"45.9375\" id=\"E10\" rx=\"10\" ry=\"10\" style=\"stroke: #383838; stroke-width: 1.5;\" width=\"71\" x=\"32.5\" y=\"41\"/><text fill=\"#000000\" font-family=\"sans-serif\" font-size=\"12\" font-style=\"italic\" lengthAdjust=\"spacingAndGlyphs\" textLength=\"69\" x=\"33.5\" y=\"57.1387\">«attribute»</text><text fill=\"#000000\" font-family=\"sans-serif\" font-size=\"12\" lengthAdjust=\"spacingAndGlyphs\" textLength=\"7\" x=\"64.5\" y=\"71.1074\">c</text><line style=\"stroke: #383838; stroke-width: 1.5;\" x1=\"33.5\" x2=\"102.5\" y1=\"78.9375\" y2=\"78.9375\"/></a><text fill=\"#000000\" font-family=\"sans-serif\" font-size=\"14\" lengthAdjust=\"spacingAndGlyphs\" textLength=\"9\" x=\"567.5\" y=\"42.6982\">p</text><rect fill=\"#383838\" height=\"12\" style=\"stroke: #F8F8F8; stroke-width: 1.5;\" width=\"12\" x=\"566\" y=\"58\"/><text fill=\"#000000\" font-family=\"sans-serif\" font-size=\"14\" lengthAdjust=\"spacingAndGlyphs\" textLength=\"9\" x=\"614.5\" y=\"42.6982\">q</text><rect fill=\"#383838\" height=\"12\" style=\"stroke: #F8F8F8; stroke-width: 1.5;\" width=\"12\" x=\"613\" y=\"58\"/><!--MD5=[05d275557350bfb9b23a4ef7222b4c39]\n",
       "link E3 to E2--><a href=\"psysml:c16b553f-69e4-4116-bada-9588c5abaa28\" target=\"_top\" title=\"psysml:c16b553f-69e4-4116-bada-9588c5abaa28\" xlink:actuate=\"onRequest\" xlink:href=\"psysml:c16b553f-69e4-4116-bada-9588c5abaa28\" xlink:show=\"new\" xlink:title=\"psysml:c16b553f-69e4-4116-bada-9588c5abaa28\" xlink:type=\"simple\"><path d=\"M487,87.29 C487,87.29 487,126.78 487,126.78 \" fill=\"none\" id=\"E3-&gt;E2\" style=\"stroke: #383838; stroke-width: 1.0;\"/><polygon fill=\"#FFFFFF\" points=\"487,146.78,480,127.78,494,127.78,487,146.78\" style=\"stroke: #383838; stroke-width: 1.0;\"/><ellipse cx=\"482\" cy=\"122.08\" fill=\"#383838\" rx=\"2\" ry=\"2\" style=\"stroke: #383838; stroke-width: 1.0;\"/><ellipse cx=\"492\" cy=\"122.08\" fill=\"#383838\" rx=\"2\" ry=\"2\" style=\"stroke: #383838; stroke-width: 1.0;\"/></a><!--MD5=[fb0d6e83f1d323cee62858a45b169df1]\n",
       "@startuml\r\n",
       "skinparam linetype ortho\r\n",
       "skinparam monochrome true\r\n",
       "skinparam classbackgroundcolor white\r\n",
       "skinparam shadowing false\r\n",
       "skinparam wrapWidth 300\r\n",
       "hide circle\r\n",
       "\r\n",
       "package \"ParameterTest\" as E1  [[psysml:edb9bc9d-436b-4f02-a049-a38172af8e0d ]]  {\r\n",
       "comp def \"A\" as E2  <<(T,blue)attribute def>> [[psysml:72c120f1-27bf-4069-82f6-2517ea0440e6 ]] {\r\n",
       "- - attributes - -\r\n",
       "x: String\r\n",
       "y: A\r\n",
       "}\r\n",
       "comp usage \"a: A\" as E3  <<(T,blue)attribute>> [[psysml:449a2126-050e-4d76-9596-2419df0cfe8a ]] {\r\n",
       "}\r\n",
       "rec def \"F\" as E4  <<(T,blue)calculation def>> [[psysml:42a33a96-c599-425f-a532-027e99d4f603 ]] {\r\n",
       "portin \"p\" as E5  [[psysml:7844d093-18d6-4bcd-8bc7-6ee8559e13ae ]] \r\n",
       "portin \"q\" as E6  [[psysml:60bdf07c-a2db-456e-a058-70cb9f3de468 ]] \r\n",
       "}\r\n",
       "\r\n",
       "comp usage \"f\" as E7  <<(T,blue)attribute>> [[psysml:04c0c290-1f5b-4b73-9b90-1720c7950e1a ]] {\r\n",
       "}\r\n",
       "comp usage \"g\" as E8  <<(T,blue)attribute>> [[psysml:514c602a-a137-45fe-b85f-d9c421e6e02c ]] {\r\n",
       "}\r\n",
       "comp usage \"b\" as E9  <<(T,blue)attribute>> [[psysml:1980a670-9bad-4a6e-b892-05e752677470 ]] {\r\n",
       "}\r\n",
       "comp usage \"c\" as E10  <<(T,blue)attribute>> [[psysml:c3372668-2566-45ef-b19a-e891239054bd ]] {\r\n",
       "}\r\n",
       "E3 - -:|> E2 [[psysml:c16b553f-69e4-4116-bada-9588c5abaa28 ]] \r\n",
       "}\r\n",
       "@enduml\r\n",
       "\n",
       "PlantUML version 1.2020.13(Sat Jun 13 12:26:38 UTC 2020)\n",
       "(EPL source distribution)\n",
       "Java Runtime: OpenJDK Runtime Environment\n",
       "JVM: OpenJDK 64-Bit Server VM\n",
       "Default Encoding: UTF-8\n",
       "Language: en\n",
       "Country: null\n",
       "--></g></svg>"
      ]
     },
     "execution_count": 51,
     "metadata": {},
     "output_type": "execute_result"
    }
   ],
   "source": [
    "%viz --style=\"ORTHOLINE\" --view=\"Default\" \"ParameterTest\""
   ]
  },
  {
   "cell_type": "code",
   "execution_count": 52,
   "id": "ahead-colonial",
   "metadata": {
    "execution": {
     "iopub.execute_input": "2021-03-25T13:44:08.024790Z",
     "iopub.status.busy": "2021-03-25T13:44:08.024285Z",
     "iopub.status.idle": "2021-03-25T13:44:08.293301Z",
     "shell.execute_reply": "2021-03-25T13:44:08.291806Z"
    }
   },
   "outputs": [
    {
     "data": {
      "image/svg+xml": [
       "<?xml version=\"1.0\" encoding=\"UTF-8\" standalone=\"no\"?><svg xmlns=\"http://www.w3.org/2000/svg\" xmlns:xlink=\"http://www.w3.org/1999/xlink\" contentScriptType=\"application/ecmascript\" contentStyleType=\"text/css\" height=\"280px\" preserveAspectRatio=\"none\" style=\"width:710px;height:280px;\" version=\"1.1\" viewBox=\"0 0 710 280\" width=\"710px\" zoomAndPan=\"magnify\"><defs/><g><!--MD5=[fbc87193dbaf4d95561dea2c320d4a47]\n",
       "cluster E1--><a href=\"psysml:edb9bc9d-436b-4f02-a049-a38172af8e0d\" target=\"_top\" title=\"psysml:edb9bc9d-436b-4f02-a049-a38172af8e0d\" xlink:actuate=\"onRequest\" xlink:href=\"psysml:edb9bc9d-436b-4f02-a049-a38172af8e0d\" xlink:show=\"new\" xlink:title=\"psysml:edb9bc9d-436b-4f02-a049-a38172af8e0d\" xlink:type=\"simple\"><polygon fill=\"#FFFFFF\" points=\"16,6,139,6,146,28.2969,688,28.2969,688,268,16,268,16,6\" style=\"stroke: #000000; stroke-width: 1.5;\"/><line style=\"stroke: #000000; stroke-width: 1.5;\" x1=\"16\" x2=\"146\" y1=\"28.2969\" y2=\"28.2969\"/><text fill=\"#000000\" font-family=\"sans-serif\" font-size=\"14\" font-weight=\"bold\" lengthAdjust=\"spacingAndGlyphs\" textLength=\"117\" x=\"20\" y=\"20.9951\">ParameterTest</text></a><!--MD5=[b4997ac47864f28c2f74865a473b2911]\n",
       "class E2--><a href=\"psysml:72c120f1-27bf-4069-82f6-2517ea0440e6\" target=\"_top\" title=\"psysml:72c120f1-27bf-4069-82f6-2517ea0440e6\" xlink:actuate=\"onRequest\" xlink:href=\"psysml:72c120f1-27bf-4069-82f6-2517ea0440e6\" xlink:show=\"new\" xlink:title=\"psysml:72c120f1-27bf-4069-82f6-2517ea0440e6\" xlink:type=\"simple\"><rect fill=\"#FFFFFF\" height=\"88.3516\" id=\"E2\" style=\"stroke: #383838; stroke-width: 1.5;\" width=\"95\" x=\"498.5\" y=\"164\"/><text fill=\"#000000\" font-family=\"sans-serif\" font-size=\"12\" font-style=\"italic\" lengthAdjust=\"spacingAndGlyphs\" textLength=\"93\" x=\"499.5\" y=\"180.1387\">«attribute def»</text><text fill=\"#000000\" font-family=\"sans-serif\" font-size=\"12\" lengthAdjust=\"spacingAndGlyphs\" textLength=\"8\" x=\"542\" y=\"194.1074\">A</text><line style=\"stroke: #383838; stroke-width: 1.5;\" x1=\"499.5\" x2=\"592.5\" y1=\"201.9375\" y2=\"201.9375\"/><text fill=\"#000000\" font-family=\"sans-serif\" font-size=\"11\" lengthAdjust=\"spacingAndGlyphs\" textLength=\"48\" x=\"504.5\" y=\"232.9526\">x: String</text><text fill=\"#000000\" font-family=\"sans-serif\" font-size=\"11\" lengthAdjust=\"spacingAndGlyphs\" textLength=\"21\" x=\"504.5\" y=\"245.7573\">y: A</text><line style=\"stroke: #383838; stroke-width: 1.0;\" x1=\"499.5\" x2=\"518.5\" y1=\"216.3398\" y2=\"216.3398\"/><text fill=\"#000000\" font-family=\"sans-serif\" font-size=\"11\" lengthAdjust=\"spacingAndGlyphs\" textLength=\"55\" x=\"518.5\" y=\"219.6479\">attributes</text><line style=\"stroke: #383838; stroke-width: 1.0;\" x1=\"573.5\" x2=\"592.5\" y1=\"216.3398\" y2=\"216.3398\"/></a><!--MD5=[09b614a08d8cba4a07c9adeb5e0fee81]\n",
       "class E3--><a href=\"psysml:449a2126-050e-4d76-9596-2419df0cfe8a\" target=\"_top\" title=\"psysml:449a2126-050e-4d76-9596-2419df0cfe8a\" xlink:actuate=\"onRequest\" xlink:href=\"psysml:449a2126-050e-4d76-9596-2419df0cfe8a\" xlink:show=\"new\" xlink:title=\"psysml:449a2126-050e-4d76-9596-2419df0cfe8a\" xlink:type=\"simple\"><rect fill=\"#FFFFFF\" height=\"45.9375\" id=\"E3\" rx=\"10\" ry=\"10\" style=\"stroke: #383838; stroke-width: 1.5;\" width=\"71\" x=\"600.5\" y=\"41\"/><text fill=\"#000000\" font-family=\"sans-serif\" font-size=\"12\" font-style=\"italic\" lengthAdjust=\"spacingAndGlyphs\" textLength=\"69\" x=\"601.5\" y=\"57.1387\">«attribute»</text><text fill=\"#000000\" font-family=\"sans-serif\" font-size=\"12\" lengthAdjust=\"spacingAndGlyphs\" textLength=\"24\" x=\"624\" y=\"71.1074\">a: A</text><line style=\"stroke: #383838; stroke-width: 1.5;\" x1=\"601.5\" x2=\"670.5\" y1=\"78.9375\" y2=\"78.9375\"/></a><!--MD5=[ebbe1d658d1005bcc118a6aa81145e00]\n",
       "class E4--><a href=\"psysml:42a33a96-c599-425f-a532-027e99d4f603\" target=\"_top\" title=\"psysml:42a33a96-c599-425f-a532-027e99d4f603\" xlink:actuate=\"onRequest\" xlink:href=\"psysml:42a33a96-c599-425f-a532-027e99d4f603\" xlink:show=\"new\" xlink:title=\"psysml:42a33a96-c599-425f-a532-027e99d4f603\" xlink:type=\"simple\"><rect fill=\"#FFFFFF\" height=\"45.9375\" id=\"E4\" style=\"stroke: #383838; stroke-width: 1.5;\" width=\"108\" x=\"457\" y=\"41\"/><text fill=\"#000000\" font-family=\"sans-serif\" font-size=\"12\" font-style=\"italic\" lengthAdjust=\"spacingAndGlyphs\" textLength=\"106\" x=\"458\" y=\"57.1387\">«calculation def»</text><text fill=\"#000000\" font-family=\"sans-serif\" font-size=\"12\" lengthAdjust=\"spacingAndGlyphs\" textLength=\"7\" x=\"507.5\" y=\"71.1074\">F</text><line style=\"stroke: #383838; stroke-width: 1.5;\" x1=\"458\" x2=\"564\" y1=\"78.9375\" y2=\"78.9375\"/></a><!--MD5=[270fce915f116d4de14055a7c1d9a0f3]\n",
       "class E5--><a href=\"psysml:04c0c290-1f5b-4b73-9b90-1720c7950e1a\" target=\"_top\" title=\"psysml:04c0c290-1f5b-4b73-9b90-1720c7950e1a\" xlink:actuate=\"onRequest\" xlink:href=\"psysml:04c0c290-1f5b-4b73-9b90-1720c7950e1a\" xlink:show=\"new\" xlink:title=\"psysml:04c0c290-1f5b-4b73-9b90-1720c7950e1a\" xlink:type=\"simple\"><rect fill=\"#FFFFFF\" height=\"45.9375\" id=\"E5\" rx=\"10\" ry=\"10\" style=\"stroke: #383838; stroke-width: 1.5;\" width=\"71\" x=\"350.5\" y=\"41\"/><text fill=\"#000000\" font-family=\"sans-serif\" font-size=\"12\" font-style=\"italic\" lengthAdjust=\"spacingAndGlyphs\" textLength=\"69\" x=\"351.5\" y=\"57.1387\">«attribute»</text><text fill=\"#000000\" font-family=\"sans-serif\" font-size=\"12\" lengthAdjust=\"spacingAndGlyphs\" textLength=\"4\" x=\"384\" y=\"71.1074\">f</text><line style=\"stroke: #383838; stroke-width: 1.5;\" x1=\"351.5\" x2=\"420.5\" y1=\"78.9375\" y2=\"78.9375\"/></a><!--MD5=[60a26617385b1d2d0262a64233df1f8d]\n",
       "class E6--><a href=\"psysml:514c602a-a137-45fe-b85f-d9c421e6e02c\" target=\"_top\" title=\"psysml:514c602a-a137-45fe-b85f-d9c421e6e02c\" xlink:actuate=\"onRequest\" xlink:href=\"psysml:514c602a-a137-45fe-b85f-d9c421e6e02c\" xlink:show=\"new\" xlink:title=\"psysml:514c602a-a137-45fe-b85f-d9c421e6e02c\" xlink:type=\"simple\"><rect fill=\"#FFFFFF\" height=\"45.9375\" id=\"E6\" rx=\"10\" ry=\"10\" style=\"stroke: #383838; stroke-width: 1.5;\" width=\"71\" x=\"244.5\" y=\"41\"/><text fill=\"#000000\" font-family=\"sans-serif\" font-size=\"12\" font-style=\"italic\" lengthAdjust=\"spacingAndGlyphs\" textLength=\"69\" x=\"245.5\" y=\"57.1387\">«attribute»</text><text fill=\"#000000\" font-family=\"sans-serif\" font-size=\"12\" lengthAdjust=\"spacingAndGlyphs\" textLength=\"8\" x=\"276\" y=\"71.1074\">g</text><line style=\"stroke: #383838; stroke-width: 1.5;\" x1=\"245.5\" x2=\"314.5\" y1=\"78.9375\" y2=\"78.9375\"/></a><!--MD5=[2156ba9850f5573cc1fc38a6a4b2f02b]\n",
       "class E7--><a href=\"psysml:1980a670-9bad-4a6e-b892-05e752677470\" target=\"_top\" title=\"psysml:1980a670-9bad-4a6e-b892-05e752677470\" xlink:actuate=\"onRequest\" xlink:href=\"psysml:1980a670-9bad-4a6e-b892-05e752677470\" xlink:show=\"new\" xlink:title=\"psysml:1980a670-9bad-4a6e-b892-05e752677470\" xlink:type=\"simple\"><rect fill=\"#FFFFFF\" height=\"45.9375\" id=\"E7\" rx=\"10\" ry=\"10\" style=\"stroke: #383838; stroke-width: 1.5;\" width=\"71\" x=\"138.5\" y=\"41\"/><text fill=\"#000000\" font-family=\"sans-serif\" font-size=\"12\" font-style=\"italic\" lengthAdjust=\"spacingAndGlyphs\" textLength=\"69\" x=\"139.5\" y=\"57.1387\">«attribute»</text><text fill=\"#000000\" font-family=\"sans-serif\" font-size=\"12\" lengthAdjust=\"spacingAndGlyphs\" textLength=\"8\" x=\"170\" y=\"71.1074\">b</text><line style=\"stroke: #383838; stroke-width: 1.5;\" x1=\"139.5\" x2=\"208.5\" y1=\"78.9375\" y2=\"78.9375\"/></a><!--MD5=[b9389687b975829384b498ac4b7476b2]\n",
       "class E8--><a href=\"psysml:c3372668-2566-45ef-b19a-e891239054bd\" target=\"_top\" title=\"psysml:c3372668-2566-45ef-b19a-e891239054bd\" xlink:actuate=\"onRequest\" xlink:href=\"psysml:c3372668-2566-45ef-b19a-e891239054bd\" xlink:show=\"new\" xlink:title=\"psysml:c3372668-2566-45ef-b19a-e891239054bd\" xlink:type=\"simple\"><rect fill=\"#FFFFFF\" height=\"45.9375\" id=\"E8\" rx=\"10\" ry=\"10\" style=\"stroke: #383838; stroke-width: 1.5;\" width=\"71\" x=\"32.5\" y=\"41\"/><text fill=\"#000000\" font-family=\"sans-serif\" font-size=\"12\" font-style=\"italic\" lengthAdjust=\"spacingAndGlyphs\" textLength=\"69\" x=\"33.5\" y=\"57.1387\">«attribute»</text><text fill=\"#000000\" font-family=\"sans-serif\" font-size=\"12\" lengthAdjust=\"spacingAndGlyphs\" textLength=\"7\" x=\"64.5\" y=\"71.1074\">c</text><line style=\"stroke: #383838; stroke-width: 1.5;\" x1=\"33.5\" x2=\"102.5\" y1=\"78.9375\" y2=\"78.9375\"/></a><!--MD5=[05d275557350bfb9b23a4ef7222b4c39]\n",
       "link E3 to E2--><a href=\"psysml:c16b553f-69e4-4116-bada-9588c5abaa28\" target=\"_top\" title=\"psysml:c16b553f-69e4-4116-bada-9588c5abaa28\" xlink:actuate=\"onRequest\" xlink:href=\"psysml:c16b553f-69e4-4116-bada-9588c5abaa28\" xlink:show=\"new\" xlink:title=\"psysml:c16b553f-69e4-4116-bada-9588c5abaa28\" xlink:type=\"simple\"><path d=\"M600.38,64 C588.98,64 579.25,64 579.25,64 C579.25,64 579.25,143.62 579.25,143.62 \" fill=\"none\" id=\"E3-&gt;E2\" style=\"stroke: #383838; stroke-width: 1.0;\"/><polygon fill=\"#FFFFFF\" points=\"579.25,163.62,572.25,144.62,586.25,144.62,579.25,163.62\" style=\"stroke: #383838; stroke-width: 1.0;\"/><ellipse cx=\"574.25\" cy=\"138.92\" fill=\"#383838\" rx=\"2\" ry=\"2\" style=\"stroke: #383838; stroke-width: 1.0;\"/><ellipse cx=\"584.25\" cy=\"138.92\" fill=\"#383838\" rx=\"2\" ry=\"2\" style=\"stroke: #383838; stroke-width: 1.0;\"/></a><!--MD5=[ddeed8deb2209213b62e6cfabaa108b2]\n",
       "reverse link E4 to E2--><a href=\"psysml:7844d093-18d6-4bcd-8bc7-6ee8559e13ae\" target=\"_top\" title=\"psysml:7844d093-18d6-4bcd-8bc7-6ee8559e13ae\" xlink:actuate=\"onRequest\" xlink:href=\"psysml:7844d093-18d6-4bcd-8bc7-6ee8559e13ae\" xlink:show=\"new\" xlink:title=\"psysml:7844d093-18d6-4bcd-8bc7-6ee8559e13ae\" xlink:type=\"simple\"><path d=\"M531.75,100.14 C531.75,100.14 531.75,163.71 531.75,163.71 \" fill=\"none\" id=\"E4&lt;-E2\" style=\"stroke: #383838; stroke-width: 1.0;\"/><polygon fill=\"#FFFFFF\" points=\"531.75,87.14,527.75,93.14,531.75,99.14,535.75,93.14,531.75,87.14\" style=\"stroke: #383838; stroke-width: 1.0;\"/><text fill=\"#000000\" font-family=\"sans-serif\" font-size=\"13\" lengthAdjust=\"spacingAndGlyphs\" textLength=\"8\" x=\"539\" y=\"130.0669\">p</text></a><!--MD5=[10da77866d857118074102d74eaf30a8]\n",
       "@startuml\r\n",
       "skinparam linetype ortho\r\n",
       "skinparam monochrome true\r\n",
       "skinparam classbackgroundcolor white\r\n",
       "skinparam shadowing false\r\n",
       "skinparam wrapWidth 300\r\n",
       "hide circle\r\n",
       "\r\n",
       "package \"ParameterTest\" as E1  [[psysml:edb9bc9d-436b-4f02-a049-a38172af8e0d ]]  {\r\n",
       "comp def \"A\" as E2  <<(T,blue)attribute def>> [[psysml:72c120f1-27bf-4069-82f6-2517ea0440e6 ]] {\r\n",
       "- - attributes - -\r\n",
       "x: String\r\n",
       "y: A\r\n",
       "}\r\n",
       "comp usage \"a: A\" as E3  <<(T,blue)attribute>> [[psysml:449a2126-050e-4d76-9596-2419df0cfe8a ]] {\r\n",
       "}\r\n",
       "comp def \"F\" as E4  <<(T,blue)calculation def>> [[psysml:42a33a96-c599-425f-a532-027e99d4f603 ]] {\r\n",
       "}\r\n",
       "comp usage \"f\" as E5  <<(T,blue)attribute>> [[psysml:04c0c290-1f5b-4b73-9b90-1720c7950e1a ]] {\r\n",
       "}\r\n",
       "comp usage \"g\" as E6  <<(T,blue)attribute>> [[psysml:514c602a-a137-45fe-b85f-d9c421e6e02c ]] {\r\n",
       "}\r\n",
       "comp usage \"b\" as E7  <<(T,blue)attribute>> [[psysml:1980a670-9bad-4a6e-b892-05e752677470 ]] {\r\n",
       "}\r\n",
       "comp usage \"c\" as E8  <<(T,blue)attribute>> [[psysml:c3372668-2566-45ef-b19a-e891239054bd ]] {\r\n",
       "}\r\n",
       "E3 - -:|> E2 [[psysml:c16b553f-69e4-4116-bada-9588c5abaa28 ]] \r\n",
       "E4 o- - E2 [[psysml:7844d093-18d6-4bcd-8bc7-6ee8559e13ae ]] : p\r\n",
       "}\r\n",
       "@enduml\r\n",
       "\n",
       "PlantUML version 1.2020.13(Sat Jun 13 12:26:38 UTC 2020)\n",
       "(EPL source distribution)\n",
       "Java Runtime: OpenJDK Runtime Environment\n",
       "JVM: OpenJDK 64-Bit Server VM\n",
       "Default Encoding: UTF-8\n",
       "Language: en\n",
       "Country: null\n",
       "--></g></svg>"
      ]
     },
     "execution_count": 52,
     "metadata": {},
     "output_type": "execute_result"
    }
   ],
   "source": [
    "%viz --style=\"ORTHOLINE\" --view=\"Tree\" \"ParameterTest\""
   ]
  },
  {
   "cell_type": "code",
   "execution_count": 53,
   "id": "biological-deadline",
   "metadata": {
    "execution": {
     "iopub.execute_input": "2021-03-25T13:44:08.344710Z",
     "iopub.status.busy": "2021-03-25T13:44:08.344225Z",
     "iopub.status.idle": "2021-03-25T13:44:08.353134Z",
     "shell.execute_reply": "2021-03-25T13:44:08.352751Z"
    }
   },
   "outputs": [
    {
     "data": {
      "image/svg+xml": [
       "<?xml version=\"1.0\" encoding=\"UTF-8\" standalone=\"no\"?><svg xmlns=\"http://www.w3.org/2000/svg\" xmlns:xlink=\"http://www.w3.org/1999/xlink\" contentScriptType=\"application/ecmascript\" contentStyleType=\"text/css\" height=\"12px\" preserveAspectRatio=\"none\" style=\"width:12px;height:12px;\" version=\"1.1\" viewBox=\"0 0 12 12\" width=\"12px\" zoomAndPan=\"magnify\"><defs/><g><!--MD5=[97d6f38768b311333d388e66b2b27985]\n",
       "@startuml\r\n",
       "skinparam linetype ortho\r\n",
       "skinparam monochrome true\r\n",
       "skinparam classbackgroundcolor white\r\n",
       "skinparam shadowing false\r\n",
       "skinparam wrapWidth 300\r\n",
       "hide circle\r\n",
       "\r\n",
       "@enduml\r\n",
       "\n",
       "PlantUML version 1.2020.13(Sat Jun 13 12:26:38 UTC 2020)\n",
       "(EPL source distribution)\n",
       "Java Runtime: OpenJDK Runtime Environment\n",
       "JVM: OpenJDK 64-Bit Server VM\n",
       "Default Encoding: UTF-8\n",
       "Language: en\n",
       "Country: null\n",
       "--></g></svg>"
      ]
     },
     "execution_count": 53,
     "metadata": {},
     "output_type": "execute_result"
    }
   ],
   "source": [
    "%viz --style=\"ORTHOLINE\" --view=\"State\" \"ParameterTest\""
   ]
  },
  {
   "cell_type": "code",
   "execution_count": 54,
   "id": "changing-hepatitis",
   "metadata": {
    "execution": {
     "iopub.execute_input": "2021-03-25T13:44:08.406807Z",
     "iopub.status.busy": "2021-03-25T13:44:08.406063Z",
     "iopub.status.idle": "2021-03-25T13:44:08.490423Z",
     "shell.execute_reply": "2021-03-25T13:44:08.489068Z"
    }
   },
   "outputs": [
    {
     "data": {
      "image/svg+xml": [
       "<?xml version=\"1.0\" encoding=\"UTF-8\" standalone=\"no\"?><svg xmlns=\"http://www.w3.org/2000/svg\" xmlns:xlink=\"http://www.w3.org/1999/xlink\" contentScriptType=\"application/ecmascript\" contentStyleType=\"text/css\" height=\"112px\" preserveAspectRatio=\"none\" style=\"width:874px;height:112px;\" version=\"1.1\" viewBox=\"0 0 874 112\" width=\"874px\" zoomAndPan=\"magnify\"><defs/><g><!--MD5=[fbc87193dbaf4d95561dea2c320d4a47]\n",
       "cluster E1--><a href=\"psysml:edb9bc9d-436b-4f02-a049-a38172af8e0d\" target=\"_top\" title=\"psysml:edb9bc9d-436b-4f02-a049-a38172af8e0d\" xlink:actuate=\"onRequest\" xlink:href=\"psysml:edb9bc9d-436b-4f02-a049-a38172af8e0d\" xlink:show=\"new\" xlink:title=\"psysml:edb9bc9d-436b-4f02-a049-a38172af8e0d\" xlink:type=\"simple\"><polygon fill=\"#FFFFFF\" points=\"16,6,139,6,146,28.2969,852,28.2969,852,100,16,100,16,6\" style=\"stroke: #000000; stroke-width: 1.5;\"/><line style=\"stroke: #000000; stroke-width: 1.5;\" x1=\"16\" x2=\"146\" y1=\"28.2969\" y2=\"28.2969\"/><text fill=\"#000000\" font-family=\"sans-serif\" font-size=\"14\" font-weight=\"bold\" lengthAdjust=\"spacingAndGlyphs\" textLength=\"117\" x=\"20\" y=\"20.9951\">ParameterTest</text></a><g id=\"E1.E2\"><a href=\"psysml:72c120f1-27bf-4069-82f6-2517ea0440e6\" target=\"_top\" title=\"psysml:72c120f1-27bf-4069-82f6-2517ea0440e6\" xlink:actuate=\"onRequest\" xlink:href=\"psysml:72c120f1-27bf-4069-82f6-2517ea0440e6\" xlink:show=\"new\" xlink:title=\"psysml:72c120f1-27bf-4069-82f6-2517ea0440e6\" xlink:type=\"simple\"><rect fill=\"#FFFFFF\" height=\"42.9375\" id=\"E2\" style=\"stroke: #383838; stroke-width: 1.5;\" width=\"100\" x=\"736\" y=\"41\"/><rect fill=\"#F8F8F8\" height=\"37.9375\" style=\"stroke: #383838; stroke-width: 1.5;\" width=\"100\" x=\"736\" y=\"41\"/><text fill=\"#000000\" font-family=\"sans-serif\" font-size=\"12\" font-style=\"italic\" lengthAdjust=\"spacingAndGlyphs\" textLength=\"93\" x=\"739.5\" y=\"57.1387\">«attribute def»</text><text fill=\"#000000\" font-family=\"sans-serif\" font-size=\"12\" lengthAdjust=\"spacingAndGlyphs\" textLength=\"8\" x=\"782\" y=\"71.1074\">A</text></a></g><g id=\"E1.E4\"><a href=\"psysml:42a33a96-c599-425f-a532-027e99d4f603\" target=\"_top\" title=\"psysml:42a33a96-c599-425f-a532-027e99d4f603\" xlink:actuate=\"onRequest\" xlink:href=\"psysml:42a33a96-c599-425f-a532-027e99d4f603\" xlink:show=\"new\" xlink:title=\"psysml:42a33a96-c599-425f-a532-027e99d4f603\" xlink:type=\"simple\"><rect fill=\"#FFFFFF\" height=\"42.9375\" id=\"E4\" style=\"stroke: #383838; stroke-width: 1.5;\" width=\"113\" x=\"587.5\" y=\"41\"/><rect fill=\"#F8F8F8\" height=\"37.9375\" style=\"stroke: #383838; stroke-width: 1.5;\" width=\"113\" x=\"587.5\" y=\"41\"/><text fill=\"#000000\" font-family=\"sans-serif\" font-size=\"12\" font-style=\"italic\" lengthAdjust=\"spacingAndGlyphs\" textLength=\"106\" x=\"591\" y=\"57.1387\">«calculation def»</text><text fill=\"#000000\" font-family=\"sans-serif\" font-size=\"12\" lengthAdjust=\"spacingAndGlyphs\" textLength=\"7\" x=\"640.5\" y=\"71.1074\">F</text></a></g><g id=\"E1.E3\"><a href=\"psysml:449a2126-050e-4d76-9596-2419df0cfe8a\" target=\"_top\" title=\"psysml:449a2126-050e-4d76-9596-2419df0cfe8a\" xlink:actuate=\"onRequest\" xlink:href=\"psysml:449a2126-050e-4d76-9596-2419df0cfe8a\" xlink:show=\"new\" xlink:title=\"psysml:449a2126-050e-4d76-9596-2419df0cfe8a\" xlink:type=\"simple\"><rect fill=\"#FFFFFF\" height=\"42.9375\" id=\"E3\" rx=\"10\" ry=\"10\" style=\"stroke: #383838; stroke-width: 1.5;\" width=\"76\" x=\"476\" y=\"41\"/><rect fill=\"#F8F8F8\" height=\"37.9375\" rx=\"10\" ry=\"10\" style=\"stroke: #F8F8F8; stroke-width: 1.5;\" width=\"76\" x=\"476\" y=\"41\"/><rect fill=\"#F8F8F8\" height=\"10\" style=\"stroke: #F8F8F8; stroke-width: 1.5;\" width=\"76\" x=\"476\" y=\"68.9375\"/><rect fill=\"none\" height=\"42.9375\" id=\"E3\" rx=\"10\" ry=\"10\" style=\"stroke: #383838; stroke-width: 1.5;\" width=\"76\" x=\"476\" y=\"41\"/><text fill=\"#000000\" font-family=\"sans-serif\" font-size=\"12\" font-style=\"italic\" lengthAdjust=\"spacingAndGlyphs\" textLength=\"69\" x=\"479.5\" y=\"57.1387\">«attribute»</text><text fill=\"#000000\" font-family=\"sans-serif\" font-size=\"12\" lengthAdjust=\"spacingAndGlyphs\" textLength=\"24\" x=\"502\" y=\"71.1074\">a: A</text></a></g><g id=\"E1.E5\"><a href=\"psysml:04c0c290-1f5b-4b73-9b90-1720c7950e1a\" target=\"_top\" title=\"psysml:04c0c290-1f5b-4b73-9b90-1720c7950e1a\" xlink:actuate=\"onRequest\" xlink:href=\"psysml:04c0c290-1f5b-4b73-9b90-1720c7950e1a\" xlink:show=\"new\" xlink:title=\"psysml:04c0c290-1f5b-4b73-9b90-1720c7950e1a\" xlink:type=\"simple\"><rect fill=\"#FFFFFF\" height=\"42.9375\" id=\"E5\" rx=\"10\" ry=\"10\" style=\"stroke: #383838; stroke-width: 1.5;\" width=\"76\" x=\"365\" y=\"41\"/><rect fill=\"#F8F8F8\" height=\"37.9375\" rx=\"10\" ry=\"10\" style=\"stroke: #F8F8F8; stroke-width: 1.5;\" width=\"76\" x=\"365\" y=\"41\"/><rect fill=\"#F8F8F8\" height=\"10\" style=\"stroke: #F8F8F8; stroke-width: 1.5;\" width=\"76\" x=\"365\" y=\"68.9375\"/><rect fill=\"none\" height=\"42.9375\" id=\"E5\" rx=\"10\" ry=\"10\" style=\"stroke: #383838; stroke-width: 1.5;\" width=\"76\" x=\"365\" y=\"41\"/><text fill=\"#000000\" font-family=\"sans-serif\" font-size=\"12\" font-style=\"italic\" lengthAdjust=\"spacingAndGlyphs\" textLength=\"69\" x=\"368.5\" y=\"57.1387\">«attribute»</text><text fill=\"#000000\" font-family=\"sans-serif\" font-size=\"12\" lengthAdjust=\"spacingAndGlyphs\" textLength=\"4\" x=\"401\" y=\"71.1074\">f</text></a></g><g id=\"E1.E6\"><a href=\"psysml:514c602a-a137-45fe-b85f-d9c421e6e02c\" target=\"_top\" title=\"psysml:514c602a-a137-45fe-b85f-d9c421e6e02c\" xlink:actuate=\"onRequest\" xlink:href=\"psysml:514c602a-a137-45fe-b85f-d9c421e6e02c\" xlink:show=\"new\" xlink:title=\"psysml:514c602a-a137-45fe-b85f-d9c421e6e02c\" xlink:type=\"simple\"><rect fill=\"#FFFFFF\" height=\"42.9375\" id=\"E6\" rx=\"10\" ry=\"10\" style=\"stroke: #383838; stroke-width: 1.5;\" width=\"76\" x=\"254\" y=\"41\"/><rect fill=\"#F8F8F8\" height=\"37.9375\" rx=\"10\" ry=\"10\" style=\"stroke: #F8F8F8; stroke-width: 1.5;\" width=\"76\" x=\"254\" y=\"41\"/><rect fill=\"#F8F8F8\" height=\"10\" style=\"stroke: #F8F8F8; stroke-width: 1.5;\" width=\"76\" x=\"254\" y=\"68.9375\"/><rect fill=\"none\" height=\"42.9375\" id=\"E6\" rx=\"10\" ry=\"10\" style=\"stroke: #383838; stroke-width: 1.5;\" width=\"76\" x=\"254\" y=\"41\"/><text fill=\"#000000\" font-family=\"sans-serif\" font-size=\"12\" font-style=\"italic\" lengthAdjust=\"spacingAndGlyphs\" textLength=\"69\" x=\"257.5\" y=\"57.1387\">«attribute»</text><text fill=\"#000000\" font-family=\"sans-serif\" font-size=\"12\" lengthAdjust=\"spacingAndGlyphs\" textLength=\"8\" x=\"288\" y=\"71.1074\">g</text></a></g><g id=\"E1.E7\"><a href=\"psysml:1980a670-9bad-4a6e-b892-05e752677470\" target=\"_top\" title=\"psysml:1980a670-9bad-4a6e-b892-05e752677470\" xlink:actuate=\"onRequest\" xlink:href=\"psysml:1980a670-9bad-4a6e-b892-05e752677470\" xlink:show=\"new\" xlink:title=\"psysml:1980a670-9bad-4a6e-b892-05e752677470\" xlink:type=\"simple\"><rect fill=\"#FFFFFF\" height=\"42.9375\" id=\"E7\" rx=\"10\" ry=\"10\" style=\"stroke: #383838; stroke-width: 1.5;\" width=\"76\" x=\"143\" y=\"41\"/><rect fill=\"#F8F8F8\" height=\"37.9375\" rx=\"10\" ry=\"10\" style=\"stroke: #F8F8F8; stroke-width: 1.5;\" width=\"76\" x=\"143\" y=\"41\"/><rect fill=\"#F8F8F8\" height=\"10\" style=\"stroke: #F8F8F8; stroke-width: 1.5;\" width=\"76\" x=\"143\" y=\"68.9375\"/><rect fill=\"none\" height=\"42.9375\" id=\"E7\" rx=\"10\" ry=\"10\" style=\"stroke: #383838; stroke-width: 1.5;\" width=\"76\" x=\"143\" y=\"41\"/><text fill=\"#000000\" font-family=\"sans-serif\" font-size=\"12\" font-style=\"italic\" lengthAdjust=\"spacingAndGlyphs\" textLength=\"69\" x=\"146.5\" y=\"57.1387\">«attribute»</text><text fill=\"#000000\" font-family=\"sans-serif\" font-size=\"12\" lengthAdjust=\"spacingAndGlyphs\" textLength=\"8\" x=\"177\" y=\"71.1074\">b</text></a></g><g id=\"E1.E8\"><a href=\"psysml:c3372668-2566-45ef-b19a-e891239054bd\" target=\"_top\" title=\"psysml:c3372668-2566-45ef-b19a-e891239054bd\" xlink:actuate=\"onRequest\" xlink:href=\"psysml:c3372668-2566-45ef-b19a-e891239054bd\" xlink:show=\"new\" xlink:title=\"psysml:c3372668-2566-45ef-b19a-e891239054bd\" xlink:type=\"simple\"><rect fill=\"#FFFFFF\" height=\"42.9375\" id=\"E8\" rx=\"10\" ry=\"10\" style=\"stroke: #383838; stroke-width: 1.5;\" width=\"76\" x=\"32\" y=\"41\"/><rect fill=\"#F8F8F8\" height=\"37.9375\" rx=\"10\" ry=\"10\" style=\"stroke: #F8F8F8; stroke-width: 1.5;\" width=\"76\" x=\"32\" y=\"41\"/><rect fill=\"#F8F8F8\" height=\"10\" style=\"stroke: #F8F8F8; stroke-width: 1.5;\" width=\"76\" x=\"32\" y=\"68.9375\"/><rect fill=\"none\" height=\"42.9375\" id=\"E8\" rx=\"10\" ry=\"10\" style=\"stroke: #383838; stroke-width: 1.5;\" width=\"76\" x=\"32\" y=\"41\"/><text fill=\"#000000\" font-family=\"sans-serif\" font-size=\"12\" font-style=\"italic\" lengthAdjust=\"spacingAndGlyphs\" textLength=\"69\" x=\"35.5\" y=\"57.1387\">«attribute»</text><text fill=\"#000000\" font-family=\"sans-serif\" font-size=\"12\" lengthAdjust=\"spacingAndGlyphs\" textLength=\"7\" x=\"66.5\" y=\"71.1074\">c</text></a></g><!--MD5=[819f56b64ee74de87ad6c51266b06294]\n",
       "@startuml\r\n",
       "skinparam ranksep 8\r\n",
       "skinparam rectangle {\r\n",
       " backgroundColor<<block>> LightGreen\r\n",
       "}\r\n",
       "skinparam linetype ortho\r\n",
       "skinparam monochrome true\r\n",
       "skinparam classbackgroundcolor white\r\n",
       "skinparam shadowing false\r\n",
       "skinparam wrapWidth 300\r\n",
       "hide circle\r\n",
       "\r\n",
       "package \"ParameterTest\" as E1  [[psysml:edb9bc9d-436b-4f02-a049-a38172af8e0d ]]  {\r\n",
       "def \"A\" as E2  <<(T,blue)attribute def>> [[psysml:72c120f1-27bf-4069-82f6-2517ea0440e6 ]] \r\n",
       "rec usage \"a: A\" as E3  <<(T,blue)attribute>> [[psysml:449a2126-050e-4d76-9596-2419df0cfe8a ]] {\r\n",
       "}\r\n",
       "def \"F\" as E4  <<(T,blue)calculation def>> [[psysml:42a33a96-c599-425f-a532-027e99d4f603 ]] \r\n",
       "rec usage \"f\" as E5  <<(T,blue)attribute>> [[psysml:04c0c290-1f5b-4b73-9b90-1720c7950e1a ]] {\r\n",
       "}\r\n",
       "rec usage \"g\" as E6  <<(T,blue)attribute>> [[psysml:514c602a-a137-45fe-b85f-d9c421e6e02c ]] {\r\n",
       "}\r\n",
       "rec usage \"b\" as E7  <<(T,blue)attribute>> [[psysml:1980a670-9bad-4a6e-b892-05e752677470 ]] {\r\n",
       "}\r\n",
       "rec usage \"c\" as E8  <<(T,blue)attribute>> [[psysml:c3372668-2566-45ef-b19a-e891239054bd ]] {\r\n",
       "}\r\n",
       "}\r\n",
       "@enduml\r\n",
       "\n",
       "PlantUML version 1.2020.13(Sat Jun 13 12:26:38 UTC 2020)\n",
       "(EPL source distribution)\n",
       "Java Runtime: OpenJDK Runtime Environment\n",
       "JVM: OpenJDK 64-Bit Server VM\n",
       "Default Encoding: UTF-8\n",
       "Language: en\n",
       "Country: null\n",
       "--></g></svg>"
      ]
     },
     "execution_count": 54,
     "metadata": {},
     "output_type": "execute_result"
    }
   ],
   "source": [
    "%viz --style=\"ORTHOLINE\" --view=\"Interconnection\" \"ParameterTest\""
   ]
  },
  {
   "cell_type": "code",
   "execution_count": 55,
   "id": "perceived-radar",
   "metadata": {
    "execution": {
     "iopub.execute_input": "2021-03-25T13:44:08.542410Z",
     "iopub.status.busy": "2021-03-25T13:44:08.541775Z",
     "iopub.status.idle": "2021-03-25T13:44:08.604964Z",
     "shell.execute_reply": "2021-03-25T13:44:08.604495Z"
    }
   },
   "outputs": [
    {
     "data": {
      "image/svg+xml": [
       "<?xml version=\"1.0\" encoding=\"UTF-8\" standalone=\"no\"?><svg xmlns=\"http://www.w3.org/2000/svg\" xmlns:xlink=\"http://www.w3.org/1999/xlink\" contentScriptType=\"application/ecmascript\" contentStyleType=\"text/css\" height=\"126px\" preserveAspectRatio=\"none\" style=\"width:166px;height:126px;\" version=\"1.1\" viewBox=\"0 0 166 126\" width=\"166px\" zoomAndPan=\"magnify\"><defs/><g><!--MD5=[fbc87193dbaf4d95561dea2c320d4a47]\n",
       "cluster E1--><a href=\"psysml:42a33a96-c599-425f-a532-027e99d4f603\" target=\"_top\" title=\"psysml:42a33a96-c599-425f-a532-027e99d4f603\" xlink:actuate=\"onRequest\" xlink:href=\"psysml:42a33a96-c599-425f-a532-027e99d4f603\" xlink:show=\"new\" xlink:title=\"psysml:42a33a96-c599-425f-a532-027e99d4f603\" xlink:type=\"simple\"><rect fill=\"#FFFFFF\" height=\"73\" id=\"E1\" style=\"stroke: #383838; stroke-width: 1.5;\" width=\"148\" x=\"7\" y=\"42.0986\"/><rect fill=\"#F8F8F8\" height=\"37.9375\" style=\"stroke: #383838; stroke-width: 1.5;\" width=\"148\" x=\"7\" y=\"42.0986\"/><text fill=\"#000000\" font-family=\"sans-serif\" font-size=\"12\" font-style=\"italic\" lengthAdjust=\"spacingAndGlyphs\" textLength=\"106\" x=\"28\" y=\"58.2373\">«calculation def»</text><text fill=\"#000000\" font-family=\"sans-serif\" font-size=\"12\" lengthAdjust=\"spacingAndGlyphs\" textLength=\"7\" x=\"77.5\" y=\"72.2061\">F</text></a><text fill=\"#000000\" font-family=\"sans-serif\" font-size=\"14\" lengthAdjust=\"spacingAndGlyphs\" textLength=\"9\" x=\"20.5\" y=\"20.7969\">p</text><rect fill=\"#383838\" height=\"12\" style=\"stroke: #F8F8F8; stroke-width: 1.5;\" width=\"12\" x=\"19\" y=\"36.0986\"/><text fill=\"#000000\" font-family=\"sans-serif\" font-size=\"14\" lengthAdjust=\"spacingAndGlyphs\" textLength=\"9\" x=\"67.5\" y=\"20.7969\">q</text><rect fill=\"#383838\" height=\"12\" style=\"stroke: #F8F8F8; stroke-width: 1.5;\" width=\"12\" x=\"66\" y=\"36.0986\"/><!--MD5=[e6f92fbd9b00f052a7935631d2ed7b47]\n",
       "@startuml\r\n",
       "skinparam ranksep 8\r\n",
       "skinparam linetype ortho\r\n",
       "skinparam monochrome true\r\n",
       "skinparam classbackgroundcolor white\r\n",
       "skinparam shadowing false\r\n",
       "skinparam wrapWidth 300\r\n",
       "hide circle\r\n",
       "\r\n",
       "rec def \"F\" as E1  <<(T,blue)calculation def>> [[psysml:42a33a96-c599-425f-a532-027e99d4f603 ]] {\r\n",
       "portin \"p\" as E2  [[psysml:7844d093-18d6-4bcd-8bc7-6ee8559e13ae ]] \r\n",
       "portin \"q\" as E3  [[psysml:60bdf07c-a2db-456e-a058-70cb9f3de468 ]] \r\n",
       "}\r\n",
       "\r\n",
       "@enduml\r\n",
       "\n",
       "PlantUML version 1.2020.13(Sat Jun 13 12:26:38 UTC 2020)\n",
       "(EPL source distribution)\n",
       "Java Runtime: OpenJDK Runtime Environment\n",
       "JVM: OpenJDK 64-Bit Server VM\n",
       "Default Encoding: UTF-8\n",
       "Language: en\n",
       "Country: null\n",
       "--></g></svg>"
      ]
     },
     "execution_count": 55,
     "metadata": {},
     "output_type": "execute_result"
    }
   ],
   "source": [
    "%viz --style=\"ORTHOLINE\" --view=\"Action\" \"ParameterTest\""
   ]
  },
  {
   "cell_type": "code",
   "execution_count": 56,
   "id": "retired-quebec",
   "metadata": {
    "execution": {
     "iopub.execute_input": "2021-03-25T13:44:08.657541Z",
     "iopub.status.busy": "2021-03-25T13:44:08.657040Z",
     "iopub.status.idle": "2021-03-25T13:44:08.920063Z",
     "shell.execute_reply": "2021-03-25T13:44:08.918671Z"
    }
   },
   "outputs": [
    {
     "data": {
      "image/svg+xml": [
       "<?xml version=\"1.0\" encoding=\"UTF-8\" standalone=\"no\"?><svg xmlns=\"http://www.w3.org/2000/svg\" xmlns:xlink=\"http://www.w3.org/1999/xlink\" contentScriptType=\"application/ecmascript\" contentStyleType=\"text/css\" height=\"280px\" preserveAspectRatio=\"none\" style=\"width:710px;height:280px;\" version=\"1.1\" viewBox=\"0 0 710 280\" width=\"710px\" zoomAndPan=\"magnify\"><defs/><g><!--MD5=[fbc87193dbaf4d95561dea2c320d4a47]\n",
       "cluster E1--><a href=\"psysml:edb9bc9d-436b-4f02-a049-a38172af8e0d\" target=\"_top\" title=\"psysml:edb9bc9d-436b-4f02-a049-a38172af8e0d\" xlink:actuate=\"onRequest\" xlink:href=\"psysml:edb9bc9d-436b-4f02-a049-a38172af8e0d\" xlink:show=\"new\" xlink:title=\"psysml:edb9bc9d-436b-4f02-a049-a38172af8e0d\" xlink:type=\"simple\"><polygon fill=\"#FFFFFF\" points=\"16,6,139,6,146,28.2969,688,28.2969,688,268,16,268,16,6\" style=\"stroke: #000000; stroke-width: 1.5;\"/><line style=\"stroke: #000000; stroke-width: 1.5;\" x1=\"16\" x2=\"146\" y1=\"28.2969\" y2=\"28.2969\"/><text fill=\"#000000\" font-family=\"sans-serif\" font-size=\"14\" font-weight=\"bold\" lengthAdjust=\"spacingAndGlyphs\" textLength=\"117\" x=\"20\" y=\"20.9951\">ParameterTest</text></a><!--MD5=[b4997ac47864f28c2f74865a473b2911]\n",
       "class E2--><a href=\"psysml:72c120f1-27bf-4069-82f6-2517ea0440e6\" target=\"_top\" title=\"psysml:72c120f1-27bf-4069-82f6-2517ea0440e6\" xlink:actuate=\"onRequest\" xlink:href=\"psysml:72c120f1-27bf-4069-82f6-2517ea0440e6\" xlink:show=\"new\" xlink:title=\"psysml:72c120f1-27bf-4069-82f6-2517ea0440e6\" xlink:type=\"simple\"><rect fill=\"#FFFFFF\" height=\"88.3516\" id=\"E2\" style=\"stroke: #383838; stroke-width: 1.5;\" width=\"95\" x=\"498.5\" y=\"164\"/><text fill=\"#000000\" font-family=\"sans-serif\" font-size=\"12\" font-style=\"italic\" lengthAdjust=\"spacingAndGlyphs\" textLength=\"93\" x=\"499.5\" y=\"180.1387\">«attribute def»</text><text fill=\"#000000\" font-family=\"sans-serif\" font-size=\"12\" lengthAdjust=\"spacingAndGlyphs\" textLength=\"8\" x=\"542\" y=\"194.1074\">A</text><line style=\"stroke: #383838; stroke-width: 1.5;\" x1=\"499.5\" x2=\"592.5\" y1=\"201.9375\" y2=\"201.9375\"/><text fill=\"#000000\" font-family=\"sans-serif\" font-size=\"11\" lengthAdjust=\"spacingAndGlyphs\" textLength=\"48\" x=\"504.5\" y=\"232.9526\">x: String</text><text fill=\"#000000\" font-family=\"sans-serif\" font-size=\"11\" lengthAdjust=\"spacingAndGlyphs\" textLength=\"21\" x=\"504.5\" y=\"245.7573\">y: A</text><line style=\"stroke: #383838; stroke-width: 1.0;\" x1=\"499.5\" x2=\"518.5\" y1=\"216.3398\" y2=\"216.3398\"/><text fill=\"#000000\" font-family=\"sans-serif\" font-size=\"11\" lengthAdjust=\"spacingAndGlyphs\" textLength=\"55\" x=\"518.5\" y=\"219.6479\">attributes</text><line style=\"stroke: #383838; stroke-width: 1.0;\" x1=\"573.5\" x2=\"592.5\" y1=\"216.3398\" y2=\"216.3398\"/></a><!--MD5=[09b614a08d8cba4a07c9adeb5e0fee81]\n",
       "class E3--><a href=\"psysml:449a2126-050e-4d76-9596-2419df0cfe8a\" target=\"_top\" title=\"psysml:449a2126-050e-4d76-9596-2419df0cfe8a\" xlink:actuate=\"onRequest\" xlink:href=\"psysml:449a2126-050e-4d76-9596-2419df0cfe8a\" xlink:show=\"new\" xlink:title=\"psysml:449a2126-050e-4d76-9596-2419df0cfe8a\" xlink:type=\"simple\"><rect fill=\"#FFFFFF\" height=\"45.9375\" id=\"E3\" rx=\"10\" ry=\"10\" style=\"stroke: #383838; stroke-width: 1.5;\" width=\"71\" x=\"600.5\" y=\"41\"/><text fill=\"#000000\" font-family=\"sans-serif\" font-size=\"12\" font-style=\"italic\" lengthAdjust=\"spacingAndGlyphs\" textLength=\"69\" x=\"601.5\" y=\"57.1387\">«attribute»</text><text fill=\"#000000\" font-family=\"sans-serif\" font-size=\"12\" lengthAdjust=\"spacingAndGlyphs\" textLength=\"24\" x=\"624\" y=\"71.1074\">a: A</text><line style=\"stroke: #383838; stroke-width: 1.5;\" x1=\"601.5\" x2=\"670.5\" y1=\"78.9375\" y2=\"78.9375\"/></a><!--MD5=[ebbe1d658d1005bcc118a6aa81145e00]\n",
       "class E4--><a href=\"psysml:42a33a96-c599-425f-a532-027e99d4f603\" target=\"_top\" title=\"psysml:42a33a96-c599-425f-a532-027e99d4f603\" xlink:actuate=\"onRequest\" xlink:href=\"psysml:42a33a96-c599-425f-a532-027e99d4f603\" xlink:show=\"new\" xlink:title=\"psysml:42a33a96-c599-425f-a532-027e99d4f603\" xlink:type=\"simple\"><rect fill=\"#FFFFFF\" height=\"45.9375\" id=\"E4\" style=\"stroke: #383838; stroke-width: 1.5;\" width=\"108\" x=\"457\" y=\"41\"/><text fill=\"#000000\" font-family=\"sans-serif\" font-size=\"12\" font-style=\"italic\" lengthAdjust=\"spacingAndGlyphs\" textLength=\"106\" x=\"458\" y=\"57.1387\">«calculation def»</text><text fill=\"#000000\" font-family=\"sans-serif\" font-size=\"12\" lengthAdjust=\"spacingAndGlyphs\" textLength=\"7\" x=\"507.5\" y=\"71.1074\">F</text><line style=\"stroke: #383838; stroke-width: 1.5;\" x1=\"458\" x2=\"564\" y1=\"78.9375\" y2=\"78.9375\"/></a><!--MD5=[270fce915f116d4de14055a7c1d9a0f3]\n",
       "class E5--><a href=\"psysml:04c0c290-1f5b-4b73-9b90-1720c7950e1a\" target=\"_top\" title=\"psysml:04c0c290-1f5b-4b73-9b90-1720c7950e1a\" xlink:actuate=\"onRequest\" xlink:href=\"psysml:04c0c290-1f5b-4b73-9b90-1720c7950e1a\" xlink:show=\"new\" xlink:title=\"psysml:04c0c290-1f5b-4b73-9b90-1720c7950e1a\" xlink:type=\"simple\"><rect fill=\"#FFFFFF\" height=\"45.9375\" id=\"E5\" rx=\"10\" ry=\"10\" style=\"stroke: #383838; stroke-width: 1.5;\" width=\"71\" x=\"350.5\" y=\"41\"/><text fill=\"#000000\" font-family=\"sans-serif\" font-size=\"12\" font-style=\"italic\" lengthAdjust=\"spacingAndGlyphs\" textLength=\"69\" x=\"351.5\" y=\"57.1387\">«attribute»</text><text fill=\"#000000\" font-family=\"sans-serif\" font-size=\"12\" lengthAdjust=\"spacingAndGlyphs\" textLength=\"4\" x=\"384\" y=\"71.1074\">f</text><line style=\"stroke: #383838; stroke-width: 1.5;\" x1=\"351.5\" x2=\"420.5\" y1=\"78.9375\" y2=\"78.9375\"/></a><!--MD5=[60a26617385b1d2d0262a64233df1f8d]\n",
       "class E6--><a href=\"psysml:514c602a-a137-45fe-b85f-d9c421e6e02c\" target=\"_top\" title=\"psysml:514c602a-a137-45fe-b85f-d9c421e6e02c\" xlink:actuate=\"onRequest\" xlink:href=\"psysml:514c602a-a137-45fe-b85f-d9c421e6e02c\" xlink:show=\"new\" xlink:title=\"psysml:514c602a-a137-45fe-b85f-d9c421e6e02c\" xlink:type=\"simple\"><rect fill=\"#FFFFFF\" height=\"45.9375\" id=\"E6\" rx=\"10\" ry=\"10\" style=\"stroke: #383838; stroke-width: 1.5;\" width=\"71\" x=\"244.5\" y=\"41\"/><text fill=\"#000000\" font-family=\"sans-serif\" font-size=\"12\" font-style=\"italic\" lengthAdjust=\"spacingAndGlyphs\" textLength=\"69\" x=\"245.5\" y=\"57.1387\">«attribute»</text><text fill=\"#000000\" font-family=\"sans-serif\" font-size=\"12\" lengthAdjust=\"spacingAndGlyphs\" textLength=\"8\" x=\"276\" y=\"71.1074\">g</text><line style=\"stroke: #383838; stroke-width: 1.5;\" x1=\"245.5\" x2=\"314.5\" y1=\"78.9375\" y2=\"78.9375\"/></a><!--MD5=[2156ba9850f5573cc1fc38a6a4b2f02b]\n",
       "class E7--><a href=\"psysml:1980a670-9bad-4a6e-b892-05e752677470\" target=\"_top\" title=\"psysml:1980a670-9bad-4a6e-b892-05e752677470\" xlink:actuate=\"onRequest\" xlink:href=\"psysml:1980a670-9bad-4a6e-b892-05e752677470\" xlink:show=\"new\" xlink:title=\"psysml:1980a670-9bad-4a6e-b892-05e752677470\" xlink:type=\"simple\"><rect fill=\"#FFFFFF\" height=\"45.9375\" id=\"E7\" rx=\"10\" ry=\"10\" style=\"stroke: #383838; stroke-width: 1.5;\" width=\"71\" x=\"138.5\" y=\"41\"/><text fill=\"#000000\" font-family=\"sans-serif\" font-size=\"12\" font-style=\"italic\" lengthAdjust=\"spacingAndGlyphs\" textLength=\"69\" x=\"139.5\" y=\"57.1387\">«attribute»</text><text fill=\"#000000\" font-family=\"sans-serif\" font-size=\"12\" lengthAdjust=\"spacingAndGlyphs\" textLength=\"8\" x=\"170\" y=\"71.1074\">b</text><line style=\"stroke: #383838; stroke-width: 1.5;\" x1=\"139.5\" x2=\"208.5\" y1=\"78.9375\" y2=\"78.9375\"/></a><!--MD5=[b9389687b975829384b498ac4b7476b2]\n",
       "class E8--><a href=\"psysml:c3372668-2566-45ef-b19a-e891239054bd\" target=\"_top\" title=\"psysml:c3372668-2566-45ef-b19a-e891239054bd\" xlink:actuate=\"onRequest\" xlink:href=\"psysml:c3372668-2566-45ef-b19a-e891239054bd\" xlink:show=\"new\" xlink:title=\"psysml:c3372668-2566-45ef-b19a-e891239054bd\" xlink:type=\"simple\"><rect fill=\"#FFFFFF\" height=\"45.9375\" id=\"E8\" rx=\"10\" ry=\"10\" style=\"stroke: #383838; stroke-width: 1.5;\" width=\"71\" x=\"32.5\" y=\"41\"/><text fill=\"#000000\" font-family=\"sans-serif\" font-size=\"12\" font-style=\"italic\" lengthAdjust=\"spacingAndGlyphs\" textLength=\"69\" x=\"33.5\" y=\"57.1387\">«attribute»</text><text fill=\"#000000\" font-family=\"sans-serif\" font-size=\"12\" lengthAdjust=\"spacingAndGlyphs\" textLength=\"7\" x=\"64.5\" y=\"71.1074\">c</text><line style=\"stroke: #383838; stroke-width: 1.5;\" x1=\"33.5\" x2=\"102.5\" y1=\"78.9375\" y2=\"78.9375\"/></a><!--MD5=[05d275557350bfb9b23a4ef7222b4c39]\n",
       "link E3 to E2--><a href=\"psysml:c16b553f-69e4-4116-bada-9588c5abaa28\" target=\"_top\" title=\"psysml:c16b553f-69e4-4116-bada-9588c5abaa28\" xlink:actuate=\"onRequest\" xlink:href=\"psysml:c16b553f-69e4-4116-bada-9588c5abaa28\" xlink:show=\"new\" xlink:title=\"psysml:c16b553f-69e4-4116-bada-9588c5abaa28\" xlink:type=\"simple\"><path d=\"M600.38,64 C588.98,64 579.25,64 579.25,64 C579.25,64 579.25,143.62 579.25,143.62 \" fill=\"none\" id=\"E3-&gt;E2\" style=\"stroke: #383838; stroke-width: 1.0;\"/><polygon fill=\"#FFFFFF\" points=\"579.25,163.62,572.25,144.62,586.25,144.62,579.25,163.62\" style=\"stroke: #383838; stroke-width: 1.0;\"/><ellipse cx=\"574.25\" cy=\"138.92\" fill=\"#383838\" rx=\"2\" ry=\"2\" style=\"stroke: #383838; stroke-width: 1.0;\"/><ellipse cx=\"584.25\" cy=\"138.92\" fill=\"#383838\" rx=\"2\" ry=\"2\" style=\"stroke: #383838; stroke-width: 1.0;\"/></a><!--MD5=[ddeed8deb2209213b62e6cfabaa108b2]\n",
       "reverse link E4 to E2--><a href=\"psysml:7844d093-18d6-4bcd-8bc7-6ee8559e13ae\" target=\"_top\" title=\"psysml:7844d093-18d6-4bcd-8bc7-6ee8559e13ae\" xlink:actuate=\"onRequest\" xlink:href=\"psysml:7844d093-18d6-4bcd-8bc7-6ee8559e13ae\" xlink:show=\"new\" xlink:title=\"psysml:7844d093-18d6-4bcd-8bc7-6ee8559e13ae\" xlink:type=\"simple\"><path d=\"M531.75,100.14 C531.75,100.14 531.75,163.71 531.75,163.71 \" fill=\"none\" id=\"E4&lt;-E2\" style=\"stroke: #383838; stroke-width: 1.0;\"/><polygon fill=\"#FFFFFF\" points=\"531.75,87.14,527.75,93.14,531.75,99.14,535.75,93.14,531.75,87.14\" style=\"stroke: #383838; stroke-width: 1.0;\"/><text fill=\"#000000\" font-family=\"sans-serif\" font-size=\"13\" lengthAdjust=\"spacingAndGlyphs\" textLength=\"8\" x=\"539\" y=\"130.0669\">p</text></a><!--MD5=[10da77866d857118074102d74eaf30a8]\n",
       "@startuml\r\n",
       "skinparam linetype ortho\r\n",
       "skinparam monochrome true\r\n",
       "skinparam classbackgroundcolor white\r\n",
       "skinparam shadowing false\r\n",
       "skinparam wrapWidth 300\r\n",
       "hide circle\r\n",
       "\r\n",
       "package \"ParameterTest\" as E1  [[psysml:edb9bc9d-436b-4f02-a049-a38172af8e0d ]]  {\r\n",
       "comp def \"A\" as E2  <<(T,blue)attribute def>> [[psysml:72c120f1-27bf-4069-82f6-2517ea0440e6 ]] {\r\n",
       "- - attributes - -\r\n",
       "x: String\r\n",
       "y: A\r\n",
       "}\r\n",
       "comp usage \"a: A\" as E3  <<(T,blue)attribute>> [[psysml:449a2126-050e-4d76-9596-2419df0cfe8a ]] {\r\n",
       "}\r\n",
       "comp def \"F\" as E4  <<(T,blue)calculation def>> [[psysml:42a33a96-c599-425f-a532-027e99d4f603 ]] {\r\n",
       "}\r\n",
       "comp usage \"f\" as E5  <<(T,blue)attribute>> [[psysml:04c0c290-1f5b-4b73-9b90-1720c7950e1a ]] {\r\n",
       "}\r\n",
       "comp usage \"g\" as E6  <<(T,blue)attribute>> [[psysml:514c602a-a137-45fe-b85f-d9c421e6e02c ]] {\r\n",
       "}\r\n",
       "comp usage \"b\" as E7  <<(T,blue)attribute>> [[psysml:1980a670-9bad-4a6e-b892-05e752677470 ]] {\r\n",
       "}\r\n",
       "comp usage \"c\" as E8  <<(T,blue)attribute>> [[psysml:c3372668-2566-45ef-b19a-e891239054bd ]] {\r\n",
       "}\r\n",
       "E3 - -:|> E2 [[psysml:c16b553f-69e4-4116-bada-9588c5abaa28 ]] \r\n",
       "E4 o- - E2 [[psysml:7844d093-18d6-4bcd-8bc7-6ee8559e13ae ]] : p\r\n",
       "}\r\n",
       "@enduml\r\n",
       "\n",
       "PlantUML version 1.2020.13(Sat Jun 13 12:26:38 UTC 2020)\n",
       "(EPL source distribution)\n",
       "Java Runtime: OpenJDK Runtime Environment\n",
       "JVM: OpenJDK 64-Bit Server VM\n",
       "Default Encoding: UTF-8\n",
       "Language: en\n",
       "Country: null\n",
       "--></g></svg>"
      ]
     },
     "execution_count": 56,
     "metadata": {},
     "output_type": "execute_result"
    }
   ],
   "source": [
    "%viz --style=\"ORTHOLINE\" --view=\"Sequence\" \"ParameterTest\""
   ]
  },
  {
   "cell_type": "code",
   "execution_count": 57,
   "id": "abroad-avenue",
   "metadata": {
    "execution": {
     "iopub.execute_input": "2021-03-25T13:44:08.970467Z",
     "iopub.status.busy": "2021-03-25T13:44:08.970066Z",
     "iopub.status.idle": "2021-03-25T13:44:09.255692Z",
     "shell.execute_reply": "2021-03-25T13:44:09.255357Z"
    }
   },
   "outputs": [
    {
     "data": {
      "image/svg+xml": [
       "<?xml version=\"1.0\" encoding=\"UTF-8\" standalone=\"no\"?><svg xmlns=\"http://www.w3.org/2000/svg\" xmlns:xlink=\"http://www.w3.org/1999/xlink\" contentScriptType=\"application/ecmascript\" contentStyleType=\"text/css\" height=\"263px\" preserveAspectRatio=\"none\" style=\"width:740px;height:263px;\" version=\"1.1\" viewBox=\"0 0 740 263\" width=\"740px\" zoomAndPan=\"magnify\"><defs/><g><!--MD5=[fbc87193dbaf4d95561dea2c320d4a47]\n",
       "cluster E1--><a href=\"psysml:edb9bc9d-436b-4f02-a049-a38172af8e0d\" target=\"_top\" title=\"psysml:edb9bc9d-436b-4f02-a049-a38172af8e0d\" xlink:actuate=\"onRequest\" xlink:href=\"psysml:edb9bc9d-436b-4f02-a049-a38172af8e0d\" xlink:show=\"new\" xlink:title=\"psysml:edb9bc9d-436b-4f02-a049-a38172af8e0d\" xlink:type=\"simple\"><polygon fill=\"#FFFFFF\" points=\"16,6,139,6,146,28.2969,718,28.2969,718,251,16,251,16,6\" style=\"stroke: #000000; stroke-width: 1.5;\"/><line style=\"stroke: #000000; stroke-width: 1.5;\" x1=\"16\" x2=\"146\" y1=\"28.2969\" y2=\"28.2969\"/><text fill=\"#000000\" font-family=\"sans-serif\" font-size=\"14\" font-weight=\"bold\" lengthAdjust=\"spacingAndGlyphs\" textLength=\"117\" x=\"20\" y=\"20.9951\">ParameterTest</text></a><!--MD5=[f6df4d0ebaf0b5dfb2ced0ae5af7c670]\n",
       "cluster E4--><a href=\"psysml:42a33a96-c599-425f-a532-027e99d4f603\" target=\"_top\" title=\"psysml:42a33a96-c599-425f-a532-027e99d4f603\" xlink:actuate=\"onRequest\" xlink:href=\"psysml:42a33a96-c599-425f-a532-027e99d4f603\" xlink:show=\"new\" xlink:title=\"psysml:42a33a96-c599-425f-a532-027e99d4f603\" xlink:type=\"simple\"><rect fill=\"#FFFFFF\" height=\"160.5\" id=\"E4\" style=\"stroke: #383838; stroke-width: 1.5;\" width=\"148\" x=\"554\" y=\"64\"/><rect fill=\"#F8F8F8\" height=\"37.9375\" style=\"stroke: #383838; stroke-width: 1.5;\" width=\"148\" x=\"554\" y=\"64\"/><text fill=\"#000000\" font-family=\"sans-serif\" font-size=\"12\" font-style=\"italic\" lengthAdjust=\"spacingAndGlyphs\" textLength=\"106\" x=\"575\" y=\"80.1387\">«calculation def»</text><text fill=\"#000000\" font-family=\"sans-serif\" font-size=\"12\" lengthAdjust=\"spacingAndGlyphs\" textLength=\"7\" x=\"624.5\" y=\"94.1074\">F</text></a><!--MD5=[b4997ac47864f28c2f74865a473b2911]\n",
       "class E2--><a href=\"psysml:72c120f1-27bf-4069-82f6-2517ea0440e6\" target=\"_top\" title=\"psysml:72c120f1-27bf-4069-82f6-2517ea0440e6\" xlink:actuate=\"onRequest\" xlink:href=\"psysml:72c120f1-27bf-4069-82f6-2517ea0440e6\" xlink:show=\"new\" xlink:title=\"psysml:72c120f1-27bf-4069-82f6-2517ea0440e6\" xlink:type=\"simple\"><rect fill=\"#FFFFFF\" height=\"88.3516\" id=\"E2\" style=\"stroke: #383838; stroke-width: 1.5;\" width=\"95\" x=\"422.5\" y=\"147\"/><text fill=\"#000000\" font-family=\"sans-serif\" font-size=\"12\" font-style=\"italic\" lengthAdjust=\"spacingAndGlyphs\" textLength=\"93\" x=\"423.5\" y=\"163.1387\">«attribute def»</text><text fill=\"#000000\" font-family=\"sans-serif\" font-size=\"12\" lengthAdjust=\"spacingAndGlyphs\" textLength=\"8\" x=\"466\" y=\"177.1074\">A</text><line style=\"stroke: #383838; stroke-width: 1.5;\" x1=\"423.5\" x2=\"516.5\" y1=\"184.9375\" y2=\"184.9375\"/><text fill=\"#000000\" font-family=\"sans-serif\" font-size=\"11\" lengthAdjust=\"spacingAndGlyphs\" textLength=\"48\" x=\"428.5\" y=\"215.9526\">x: String</text><text fill=\"#000000\" font-family=\"sans-serif\" font-size=\"11\" lengthAdjust=\"spacingAndGlyphs\" textLength=\"21\" x=\"428.5\" y=\"228.7573\">y: A</text><line style=\"stroke: #383838; stroke-width: 1.0;\" x1=\"423.5\" x2=\"442.5\" y1=\"199.3398\" y2=\"199.3398\"/><text fill=\"#000000\" font-family=\"sans-serif\" font-size=\"11\" lengthAdjust=\"spacingAndGlyphs\" textLength=\"55\" x=\"442.5\" y=\"202.6479\">attributes</text><line style=\"stroke: #383838; stroke-width: 1.0;\" x1=\"497.5\" x2=\"516.5\" y1=\"199.3398\" y2=\"199.3398\"/></a><!--MD5=[09b614a08d8cba4a07c9adeb5e0fee81]\n",
       "class E3--><a href=\"psysml:449a2126-050e-4d76-9596-2419df0cfe8a\" target=\"_top\" title=\"psysml:449a2126-050e-4d76-9596-2419df0cfe8a\" xlink:actuate=\"onRequest\" xlink:href=\"psysml:449a2126-050e-4d76-9596-2419df0cfe8a\" xlink:show=\"new\" xlink:title=\"psysml:449a2126-050e-4d76-9596-2419df0cfe8a\" xlink:type=\"simple\"><rect fill=\"#FFFFFF\" height=\"45.9375\" id=\"E3\" rx=\"10\" ry=\"10\" style=\"stroke: #383838; stroke-width: 1.5;\" width=\"71\" x=\"456.5\" y=\"41\"/><text fill=\"#000000\" font-family=\"sans-serif\" font-size=\"12\" font-style=\"italic\" lengthAdjust=\"spacingAndGlyphs\" textLength=\"69\" x=\"457.5\" y=\"57.1387\">«attribute»</text><text fill=\"#000000\" font-family=\"sans-serif\" font-size=\"12\" lengthAdjust=\"spacingAndGlyphs\" textLength=\"24\" x=\"480\" y=\"71.1074\">a: A</text><line style=\"stroke: #383838; stroke-width: 1.5;\" x1=\"457.5\" x2=\"526.5\" y1=\"78.9375\" y2=\"78.9375\"/></a><!--MD5=[2156ba9850f5573cc1fc38a6a4b2f02b]\n",
       "class E7--><a href=\"psysml:04c0c290-1f5b-4b73-9b90-1720c7950e1a\" target=\"_top\" title=\"psysml:04c0c290-1f5b-4b73-9b90-1720c7950e1a\" xlink:actuate=\"onRequest\" xlink:href=\"psysml:04c0c290-1f5b-4b73-9b90-1720c7950e1a\" xlink:show=\"new\" xlink:title=\"psysml:04c0c290-1f5b-4b73-9b90-1720c7950e1a\" xlink:type=\"simple\"><rect fill=\"#FFFFFF\" height=\"45.9375\" id=\"E7\" rx=\"10\" ry=\"10\" style=\"stroke: #383838; stroke-width: 1.5;\" width=\"71\" x=\"350.5\" y=\"41\"/><text fill=\"#000000\" font-family=\"sans-serif\" font-size=\"12\" font-style=\"italic\" lengthAdjust=\"spacingAndGlyphs\" textLength=\"69\" x=\"351.5\" y=\"57.1387\">«attribute»</text><text fill=\"#000000\" font-family=\"sans-serif\" font-size=\"12\" lengthAdjust=\"spacingAndGlyphs\" textLength=\"4\" x=\"384\" y=\"71.1074\">f</text><line style=\"stroke: #383838; stroke-width: 1.5;\" x1=\"351.5\" x2=\"420.5\" y1=\"78.9375\" y2=\"78.9375\"/></a><!--MD5=[b9389687b975829384b498ac4b7476b2]\n",
       "class E8--><a href=\"psysml:514c602a-a137-45fe-b85f-d9c421e6e02c\" target=\"_top\" title=\"psysml:514c602a-a137-45fe-b85f-d9c421e6e02c\" xlink:actuate=\"onRequest\" xlink:href=\"psysml:514c602a-a137-45fe-b85f-d9c421e6e02c\" xlink:show=\"new\" xlink:title=\"psysml:514c602a-a137-45fe-b85f-d9c421e6e02c\" xlink:type=\"simple\"><rect fill=\"#FFFFFF\" height=\"45.9375\" id=\"E8\" rx=\"10\" ry=\"10\" style=\"stroke: #383838; stroke-width: 1.5;\" width=\"71\" x=\"244.5\" y=\"41\"/><text fill=\"#000000\" font-family=\"sans-serif\" font-size=\"12\" font-style=\"italic\" lengthAdjust=\"spacingAndGlyphs\" textLength=\"69\" x=\"245.5\" y=\"57.1387\">«attribute»</text><text fill=\"#000000\" font-family=\"sans-serif\" font-size=\"12\" lengthAdjust=\"spacingAndGlyphs\" textLength=\"8\" x=\"276\" y=\"71.1074\">g</text><line style=\"stroke: #383838; stroke-width: 1.5;\" x1=\"245.5\" x2=\"314.5\" y1=\"78.9375\" y2=\"78.9375\"/></a><!--MD5=[fd4143e9d270a159db93a4ea2a975926]\n",
       "class E9--><a href=\"psysml:1980a670-9bad-4a6e-b892-05e752677470\" target=\"_top\" title=\"psysml:1980a670-9bad-4a6e-b892-05e752677470\" xlink:actuate=\"onRequest\" xlink:href=\"psysml:1980a670-9bad-4a6e-b892-05e752677470\" xlink:show=\"new\" xlink:title=\"psysml:1980a670-9bad-4a6e-b892-05e752677470\" xlink:type=\"simple\"><rect fill=\"#FFFFFF\" height=\"45.9375\" id=\"E9\" rx=\"10\" ry=\"10\" style=\"stroke: #383838; stroke-width: 1.5;\" width=\"71\" x=\"138.5\" y=\"41\"/><text fill=\"#000000\" font-family=\"sans-serif\" font-size=\"12\" font-style=\"italic\" lengthAdjust=\"spacingAndGlyphs\" textLength=\"69\" x=\"139.5\" y=\"57.1387\">«attribute»</text><text fill=\"#000000\" font-family=\"sans-serif\" font-size=\"12\" lengthAdjust=\"spacingAndGlyphs\" textLength=\"8\" x=\"170\" y=\"71.1074\">b</text><line style=\"stroke: #383838; stroke-width: 1.5;\" x1=\"139.5\" x2=\"208.5\" y1=\"78.9375\" y2=\"78.9375\"/></a><!--MD5=[96f4274e9e20536e775497830990834d]\n",
       "class E10--><a href=\"psysml:c3372668-2566-45ef-b19a-e891239054bd\" target=\"_top\" title=\"psysml:c3372668-2566-45ef-b19a-e891239054bd\" xlink:actuate=\"onRequest\" xlink:href=\"psysml:c3372668-2566-45ef-b19a-e891239054bd\" xlink:show=\"new\" xlink:title=\"psysml:c3372668-2566-45ef-b19a-e891239054bd\" xlink:type=\"simple\"><rect fill=\"#FFFFFF\" height=\"45.9375\" id=\"E10\" rx=\"10\" ry=\"10\" style=\"stroke: #383838; stroke-width: 1.5;\" width=\"71\" x=\"32.5\" y=\"41\"/><text fill=\"#000000\" font-family=\"sans-serif\" font-size=\"12\" font-style=\"italic\" lengthAdjust=\"spacingAndGlyphs\" textLength=\"69\" x=\"33.5\" y=\"57.1387\">«attribute»</text><text fill=\"#000000\" font-family=\"sans-serif\" font-size=\"12\" lengthAdjust=\"spacingAndGlyphs\" textLength=\"7\" x=\"64.5\" y=\"71.1074\">c</text><line style=\"stroke: #383838; stroke-width: 1.5;\" x1=\"33.5\" x2=\"102.5\" y1=\"78.9375\" y2=\"78.9375\"/></a><text fill=\"#000000\" font-family=\"sans-serif\" font-size=\"14\" lengthAdjust=\"spacingAndGlyphs\" textLength=\"9\" x=\"567.5\" y=\"42.6982\">p</text><rect fill=\"#383838\" height=\"12\" style=\"stroke: #F8F8F8; stroke-width: 1.5;\" width=\"12\" x=\"566\" y=\"58\"/><text fill=\"#000000\" font-family=\"sans-serif\" font-size=\"14\" lengthAdjust=\"spacingAndGlyphs\" textLength=\"9\" x=\"614.5\" y=\"42.6982\">q</text><rect fill=\"#383838\" height=\"12\" style=\"stroke: #F8F8F8; stroke-width: 1.5;\" width=\"12\" x=\"613\" y=\"58\"/><!--MD5=[05d275557350bfb9b23a4ef7222b4c39]\n",
       "link E3 to E2--><a href=\"psysml:c16b553f-69e4-4116-bada-9588c5abaa28\" target=\"_top\" title=\"psysml:c16b553f-69e4-4116-bada-9588c5abaa28\" xlink:actuate=\"onRequest\" xlink:href=\"psysml:c16b553f-69e4-4116-bada-9588c5abaa28\" xlink:show=\"new\" xlink:title=\"psysml:c16b553f-69e4-4116-bada-9588c5abaa28\" xlink:type=\"simple\"><path d=\"M487,87.29 C487,87.29 487,126.78 487,126.78 \" fill=\"none\" id=\"E3-&gt;E2\" style=\"stroke: #383838; stroke-width: 1.0;\"/><polygon fill=\"#FFFFFF\" points=\"487,146.78,480,127.78,494,127.78,487,146.78\" style=\"stroke: #383838; stroke-width: 1.0;\"/><ellipse cx=\"482\" cy=\"122.08\" fill=\"#383838\" rx=\"2\" ry=\"2\" style=\"stroke: #383838; stroke-width: 1.0;\"/><ellipse cx=\"492\" cy=\"122.08\" fill=\"#383838\" rx=\"2\" ry=\"2\" style=\"stroke: #383838; stroke-width: 1.0;\"/></a><!--MD5=[fb0d6e83f1d323cee62858a45b169df1]\n",
       "@startuml\r\n",
       "skinparam linetype ortho\r\n",
       "skinparam monochrome true\r\n",
       "skinparam classbackgroundcolor white\r\n",
       "skinparam shadowing false\r\n",
       "skinparam wrapWidth 300\r\n",
       "hide circle\r\n",
       "\r\n",
       "package \"ParameterTest\" as E1  [[psysml:edb9bc9d-436b-4f02-a049-a38172af8e0d ]]  {\r\n",
       "comp def \"A\" as E2  <<(T,blue)attribute def>> [[psysml:72c120f1-27bf-4069-82f6-2517ea0440e6 ]] {\r\n",
       "- - attributes - -\r\n",
       "x: String\r\n",
       "y: A\r\n",
       "}\r\n",
       "comp usage \"a: A\" as E3  <<(T,blue)attribute>> [[psysml:449a2126-050e-4d76-9596-2419df0cfe8a ]] {\r\n",
       "}\r\n",
       "rec def \"F\" as E4  <<(T,blue)calculation def>> [[psysml:42a33a96-c599-425f-a532-027e99d4f603 ]] {\r\n",
       "portin \"p\" as E5  [[psysml:7844d093-18d6-4bcd-8bc7-6ee8559e13ae ]] \r\n",
       "portin \"q\" as E6  [[psysml:60bdf07c-a2db-456e-a058-70cb9f3de468 ]] \r\n",
       "}\r\n",
       "\r\n",
       "comp usage \"f\" as E7  <<(T,blue)attribute>> [[psysml:04c0c290-1f5b-4b73-9b90-1720c7950e1a ]] {\r\n",
       "}\r\n",
       "comp usage \"g\" as E8  <<(T,blue)attribute>> [[psysml:514c602a-a137-45fe-b85f-d9c421e6e02c ]] {\r\n",
       "}\r\n",
       "comp usage \"b\" as E9  <<(T,blue)attribute>> [[psysml:1980a670-9bad-4a6e-b892-05e752677470 ]] {\r\n",
       "}\r\n",
       "comp usage \"c\" as E10  <<(T,blue)attribute>> [[psysml:c3372668-2566-45ef-b19a-e891239054bd ]] {\r\n",
       "}\r\n",
       "E3 - -:|> E2 [[psysml:c16b553f-69e4-4116-bada-9588c5abaa28 ]] \r\n",
       "}\r\n",
       "@enduml\r\n",
       "\n",
       "PlantUML version 1.2020.13(Sat Jun 13 12:26:38 UTC 2020)\n",
       "(EPL source distribution)\n",
       "Java Runtime: OpenJDK Runtime Environment\n",
       "JVM: OpenJDK 64-Bit Server VM\n",
       "Default Encoding: UTF-8\n",
       "Language: en\n",
       "Country: null\n",
       "--></g></svg>"
      ]
     },
     "execution_count": 57,
     "metadata": {},
     "output_type": "execute_result"
    }
   ],
   "source": [
    "%viz --style=\"ORTHOLINE\" --view=\"MIXED\" \"ParameterTest\""
   ]
  }
 ],
 "metadata": {
  "kernelspec": {
   "display_name": "SysML",
   "language": "sysml",
   "name": "sysml"
  },
  "language_info": {
   "codemirror_mode": "sysml",
   "file_extension": ".sysml",
   "mimetype": "text/x-sysml",
   "name": "SysML",
   "pygments_lexer": "java",
   "version": "1.0.0"
  }
 },
 "nbformat": 4,
 "nbformat_minor": 5
}
