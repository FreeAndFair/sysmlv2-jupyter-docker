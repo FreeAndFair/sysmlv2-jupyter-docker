{
 "cells": [
  {
   "cell_type": "markdown",
   "id": "private-gravity",
   "metadata": {},
   "source": [
    "# SysML v2 Test Suite\n",
    "\n",
    "This can notebook can be cleared using menu `Edit --> Clear All Outputs` and then all cells can be\n",
    "run using menu `Run --> Run All Cells`.\n",
    "\n",
    "**WARNING**: This file is generated, all modifications here will be ignored.\n"
   ]
  },
  {
   "cell_type": "markdown",
   "id": "hairy-encounter",
   "metadata": {},
   "source": [
    "## File: ../../sysml/src/examples/Simple Tests/ParameterTest.sysml"
   ]
  },
  {
   "cell_type": "code",
   "execution_count": 1,
   "id": "simplified-zoning",
   "metadata": {
    "execution": {
     "iopub.execute_input": "2021-03-26T09:12:58.436638Z",
     "iopub.status.busy": "2021-03-26T09:12:58.436257Z",
     "iopub.status.idle": "2021-03-26T09:12:58.742585Z",
     "shell.execute_reply": "2021-03-26T09:12:58.742163Z"
    }
   },
   "outputs": [
    {
     "data": {
      "text/plain": [
       "Package ParameterTest (0516fa62-9bbd-4360-bd77-a60d0cec60f8)\n"
      ]
     },
     "execution_count": 1,
     "metadata": {},
     "output_type": "execute_result"
    }
   ],
   "source": [
    "package ParameterTest {\n",
    "\tattribute def A {\n",
    "\t\tattribute x : ScalarValues::String;\n",
    "\t\tattribute y : A;\n",
    "\t}\n",
    "\t\n",
    "\tattribute a : A;\n",
    "\t\n",
    "\tcalc def F (p : A, q : ScalarValues::Integer): ScalarValues::Integer;\n",
    "\t\n",
    "\tattribute f = F(a, 2);\n",
    "\tattribute g = F(q => 1, p => a);\n",
    "\t\n",
    "\tattribute b = A(y=>a, x=>\"\"); \n",
    "\tattribute c = A(\"test2\");\n",
    "}"
   ]
  },
  {
   "cell_type": "code",
   "execution_count": 2,
   "id": "aggregate-advisory",
   "metadata": {
    "execution": {
     "iopub.execute_input": "2021-03-26T09:12:58.796592Z",
     "iopub.status.busy": "2021-03-26T09:12:58.796067Z",
     "iopub.status.idle": "2021-03-26T09:12:59.361265Z",
     "shell.execute_reply": "2021-03-26T09:12:59.360181Z"
    }
   },
   "outputs": [
    {
     "data": {
      "image/svg+xml": [
       "<?xml version=\"1.0\" encoding=\"UTF-8\" standalone=\"no\"?><svg xmlns=\"http://www.w3.org/2000/svg\" xmlns:xlink=\"http://www.w3.org/1999/xlink\" contentScriptType=\"application/ecmascript\" contentStyleType=\"text/css\" height=\"247px\" preserveAspectRatio=\"none\" style=\"width:868px;height:247px;\" version=\"1.1\" viewBox=\"0 0 868 247\" width=\"868px\" zoomAndPan=\"magnify\"><defs><filter height=\"300%\" id=\"fyi5syyhhkwur\" width=\"300%\" x=\"-1\" y=\"-1\"><feGaussianBlur result=\"blurOut\" stdDeviation=\"2.0\"/><feColorMatrix in=\"blurOut\" result=\"blurOut2\" type=\"matrix\" values=\"0 0 0 0 0 0 0 0 0 0 0 0 0 0 0 0 0 0 .4 0\"/><feOffset dx=\"4.0\" dy=\"4.0\" in=\"blurOut2\" result=\"blurOut3\"/><feBlend in=\"SourceGraphic\" in2=\"blurOut3\" mode=\"normal\"/></filter></defs><g><!--MD5=[fbc87193dbaf4d95561dea2c320d4a47]\n",
       "cluster E1--><a href=\"psysml:934b4cb7-0388-44aa-8a43-948e0e0270d7\" target=\"_top\" title=\"psysml:934b4cb7-0388-44aa-8a43-948e0e0270d7\" xlink:actuate=\"onRequest\" xlink:href=\"psysml:934b4cb7-0388-44aa-8a43-948e0e0270d7\" xlink:show=\"new\" xlink:title=\"psysml:934b4cb7-0388-44aa-8a43-948e0e0270d7\" xlink:type=\"simple\"><polygon fill=\"#FFFFFF\" filter=\"url(#fyi5syyhhkwur)\" points=\"16,6,139,6,146,28.2969,846,28.2969,846,235,16,235,16,6\" style=\"stroke: #000000; stroke-width: 1.5;\"/><line style=\"stroke: #000000; stroke-width: 1.5;\" x1=\"16\" x2=\"146\" y1=\"28.2969\" y2=\"28.2969\"/><text fill=\"#000000\" font-family=\"sans-serif\" font-size=\"14\" font-weight=\"bold\" lengthAdjust=\"spacingAndGlyphs\" textLength=\"117\" x=\"20\" y=\"20.9951\">ParameterTest</text></a><!--MD5=[f6df4d0ebaf0b5dfb2ced0ae5af7c670]\n",
       "cluster E4--><a href=\"psysml:84637ab1-2e14-49ab-80b7-3fb2aa846372\" target=\"_top\" title=\"psysml:84637ab1-2e14-49ab-80b7-3fb2aa846372\" xlink:actuate=\"onRequest\" xlink:href=\"psysml:84637ab1-2e14-49ab-80b7-3fb2aa846372\" xlink:show=\"new\" xlink:title=\"psysml:84637ab1-2e14-49ab-80b7-3fb2aa846372\" xlink:type=\"simple\"><rect fill=\"#FFFFFF\" filter=\"url(#fyi5syyhhkwur)\" height=\"152.5\" id=\"E4\" style=\"stroke: #A80036; stroke-width: 1.5;\" width=\"148\" x=\"682\" y=\"64\"/><rect fill=\"#FEFECE\" height=\"37.9375\" style=\"stroke: #A80036; stroke-width: 1.5;\" width=\"148\" x=\"682\" y=\"64\"/><text fill=\"#000000\" font-family=\"sans-serif\" font-size=\"12\" font-style=\"italic\" lengthAdjust=\"spacingAndGlyphs\" textLength=\"106\" x=\"703\" y=\"80.1387\">«calculation def»</text><text fill=\"#000000\" font-family=\"sans-serif\" font-size=\"12\" lengthAdjust=\"spacingAndGlyphs\" textLength=\"7\" x=\"752.5\" y=\"94.1074\">F</text></a><!--MD5=[b4997ac47864f28c2f74865a473b2911]\n",
       "class E2--><a href=\"psysml:129c5bc9-5e36-4fac-a06d-7961ccb64091\" target=\"_top\" title=\"psysml:129c5bc9-5e36-4fac-a06d-7961ccb64091\" xlink:actuate=\"onRequest\" xlink:href=\"psysml:129c5bc9-5e36-4fac-a06d-7961ccb64091\" xlink:show=\"new\" xlink:title=\"psysml:129c5bc9-5e36-4fac-a06d-7961ccb64091\" xlink:type=\"simple\"><rect fill=\"#FEFECE\" filter=\"url(#fyi5syyhhkwur)\" height=\"71.5469\" id=\"E2\" style=\"stroke: #A80036; stroke-width: 1.5;\" width=\"121\" x=\"524.5\" y=\"147\"/><ellipse cx=\"539.5\" cy=\"165.9688\" fill=\"#0000FF\" rx=\"11\" ry=\"11\" style=\"stroke: #A80036; stroke-width: 1.0;\"/><path d=\"M540.3438,172.7188 L537.8906,172.7188 L537.8906,162.4688 L534.75,162.4688 L534.75,160.3281 L543.4844,160.3281 L543.4844,162.4688 L540.3438,162.4688 L540.3438,172.7188 Z \"/><text fill=\"#000000\" font-family=\"sans-serif\" font-size=\"12\" font-style=\"italic\" lengthAdjust=\"spacingAndGlyphs\" textLength=\"93\" x=\"551.5\" y=\"163.1387\">«attribute def»</text><text fill=\"#000000\" font-family=\"sans-serif\" font-size=\"12\" lengthAdjust=\"spacingAndGlyphs\" textLength=\"8\" x=\"594\" y=\"177.1074\">A</text><line style=\"stroke: #A80036; stroke-width: 1.5;\" x1=\"525.5\" x2=\"644.5\" y1=\"184.9375\" y2=\"184.9375\"/><text fill=\"#000000\" font-family=\"sans-serif\" font-size=\"11\" lengthAdjust=\"spacingAndGlyphs\" textLength=\"48\" x=\"530.5\" y=\"199.1479\">x: String</text><text fill=\"#000000\" font-family=\"sans-serif\" font-size=\"11\" lengthAdjust=\"spacingAndGlyphs\" textLength=\"21\" x=\"530.5\" y=\"211.9526\">y: A</text></a><!--MD5=[09b614a08d8cba4a07c9adeb5e0fee81]\n",
       "class E3--><a href=\"psysml:50405f72-7bb1-41da-960b-ed203bf92c2d\" target=\"_top\" title=\"psysml:50405f72-7bb1-41da-960b-ed203bf92c2d\" xlink:actuate=\"onRequest\" xlink:href=\"psysml:50405f72-7bb1-41da-960b-ed203bf92c2d\" xlink:show=\"new\" xlink:title=\"psysml:50405f72-7bb1-41da-960b-ed203bf92c2d\" xlink:type=\"simple\"><rect fill=\"#FEFECE\" filter=\"url(#fyi5syyhhkwur)\" height=\"45.9375\" id=\"E3\" rx=\"10\" ry=\"10\" style=\"stroke: #A80036; stroke-width: 1.5;\" width=\"97\" x=\"559.5\" y=\"41\"/><ellipse cx=\"574.5\" cy=\"59.9688\" fill=\"#0000FF\" rx=\"11\" ry=\"11\" style=\"stroke: #A80036; stroke-width: 1.0;\"/><path d=\"M575.3438,66.7188 L572.8906,66.7188 L572.8906,56.4688 L569.75,56.4688 L569.75,54.3281 L578.4844,54.3281 L578.4844,56.4688 L575.3438,56.4688 L575.3438,66.7188 Z \"/><text fill=\"#000000\" font-family=\"sans-serif\" font-size=\"12\" font-style=\"italic\" lengthAdjust=\"spacingAndGlyphs\" textLength=\"69\" x=\"586.5\" y=\"57.1387\">«attribute»</text><text fill=\"#000000\" font-family=\"sans-serif\" font-size=\"12\" lengthAdjust=\"spacingAndGlyphs\" textLength=\"24\" x=\"609\" y=\"71.1074\">a: A</text><line style=\"stroke: #A80036; stroke-width: 1.5;\" x1=\"560.5\" x2=\"655.5\" y1=\"78.9375\" y2=\"78.9375\"/></a><!--MD5=[2156ba9850f5573cc1fc38a6a4b2f02b]\n",
       "class E7--><a href=\"psysml:88b39ab3-39a3-49e4-a823-2b19bc6cfd18\" target=\"_top\" title=\"psysml:88b39ab3-39a3-49e4-a823-2b19bc6cfd18\" xlink:actuate=\"onRequest\" xlink:href=\"psysml:88b39ab3-39a3-49e4-a823-2b19bc6cfd18\" xlink:show=\"new\" xlink:title=\"psysml:88b39ab3-39a3-49e4-a823-2b19bc6cfd18\" xlink:type=\"simple\"><rect fill=\"#FEFECE\" filter=\"url(#fyi5syyhhkwur)\" height=\"45.9375\" id=\"E7\" rx=\"10\" ry=\"10\" style=\"stroke: #A80036; stroke-width: 1.5;\" width=\"97\" x=\"427.5\" y=\"41\"/><ellipse cx=\"442.5\" cy=\"59.9688\" fill=\"#0000FF\" rx=\"11\" ry=\"11\" style=\"stroke: #A80036; stroke-width: 1.0;\"/><path d=\"M443.3438,66.7188 L440.8906,66.7188 L440.8906,56.4688 L437.75,56.4688 L437.75,54.3281 L446.4844,54.3281 L446.4844,56.4688 L443.3438,56.4688 L443.3438,66.7188 Z \"/><text fill=\"#000000\" font-family=\"sans-serif\" font-size=\"12\" font-style=\"italic\" lengthAdjust=\"spacingAndGlyphs\" textLength=\"69\" x=\"454.5\" y=\"57.1387\">«attribute»</text><text fill=\"#000000\" font-family=\"sans-serif\" font-size=\"12\" lengthAdjust=\"spacingAndGlyphs\" textLength=\"4\" x=\"487\" y=\"71.1074\">f</text><line style=\"stroke: #A80036; stroke-width: 1.5;\" x1=\"428.5\" x2=\"523.5\" y1=\"78.9375\" y2=\"78.9375\"/></a><!--MD5=[b9389687b975829384b498ac4b7476b2]\n",
       "class E8--><a href=\"psysml:3f28e8b6-a431-4098-a991-c6c646c27e19\" target=\"_top\" title=\"psysml:3f28e8b6-a431-4098-a991-c6c646c27e19\" xlink:actuate=\"onRequest\" xlink:href=\"psysml:3f28e8b6-a431-4098-a991-c6c646c27e19\" xlink:show=\"new\" xlink:title=\"psysml:3f28e8b6-a431-4098-a991-c6c646c27e19\" xlink:type=\"simple\"><rect fill=\"#FEFECE\" filter=\"url(#fyi5syyhhkwur)\" height=\"45.9375\" id=\"E8\" rx=\"10\" ry=\"10\" style=\"stroke: #A80036; stroke-width: 1.5;\" width=\"97\" x=\"295.5\" y=\"41\"/><ellipse cx=\"310.5\" cy=\"59.9688\" fill=\"#0000FF\" rx=\"11\" ry=\"11\" style=\"stroke: #A80036; stroke-width: 1.0;\"/><path d=\"M311.3438,66.7188 L308.8906,66.7188 L308.8906,56.4688 L305.75,56.4688 L305.75,54.3281 L314.4844,54.3281 L314.4844,56.4688 L311.3438,56.4688 L311.3438,66.7188 Z \"/><text fill=\"#000000\" font-family=\"sans-serif\" font-size=\"12\" font-style=\"italic\" lengthAdjust=\"spacingAndGlyphs\" textLength=\"69\" x=\"322.5\" y=\"57.1387\">«attribute»</text><text fill=\"#000000\" font-family=\"sans-serif\" font-size=\"12\" lengthAdjust=\"spacingAndGlyphs\" textLength=\"8\" x=\"353\" y=\"71.1074\">g</text><line style=\"stroke: #A80036; stroke-width: 1.5;\" x1=\"296.5\" x2=\"391.5\" y1=\"78.9375\" y2=\"78.9375\"/></a><!--MD5=[fd4143e9d270a159db93a4ea2a975926]\n",
       "class E9--><a href=\"psysml:a48346b2-888a-436e-97f1-e60fac760a88\" target=\"_top\" title=\"psysml:a48346b2-888a-436e-97f1-e60fac760a88\" xlink:actuate=\"onRequest\" xlink:href=\"psysml:a48346b2-888a-436e-97f1-e60fac760a88\" xlink:show=\"new\" xlink:title=\"psysml:a48346b2-888a-436e-97f1-e60fac760a88\" xlink:type=\"simple\"><rect fill=\"#FEFECE\" filter=\"url(#fyi5syyhhkwur)\" height=\"45.9375\" id=\"E9\" rx=\"10\" ry=\"10\" style=\"stroke: #A80036; stroke-width: 1.5;\" width=\"97\" x=\"163.5\" y=\"41\"/><ellipse cx=\"178.5\" cy=\"59.9688\" fill=\"#0000FF\" rx=\"11\" ry=\"11\" style=\"stroke: #A80036; stroke-width: 1.0;\"/><path d=\"M179.3438,66.7188 L176.8906,66.7188 L176.8906,56.4688 L173.75,56.4688 L173.75,54.3281 L182.4844,54.3281 L182.4844,56.4688 L179.3438,56.4688 L179.3438,66.7188 Z \"/><text fill=\"#000000\" font-family=\"sans-serif\" font-size=\"12\" font-style=\"italic\" lengthAdjust=\"spacingAndGlyphs\" textLength=\"69\" x=\"190.5\" y=\"57.1387\">«attribute»</text><text fill=\"#000000\" font-family=\"sans-serif\" font-size=\"12\" lengthAdjust=\"spacingAndGlyphs\" textLength=\"8\" x=\"221\" y=\"71.1074\">b</text><line style=\"stroke: #A80036; stroke-width: 1.5;\" x1=\"164.5\" x2=\"259.5\" y1=\"78.9375\" y2=\"78.9375\"/></a><!--MD5=[96f4274e9e20536e775497830990834d]\n",
       "class E10--><a href=\"psysml:952d2fa1-4eb4-490f-be08-21606a0b2581\" target=\"_top\" title=\"psysml:952d2fa1-4eb4-490f-be08-21606a0b2581\" xlink:actuate=\"onRequest\" xlink:href=\"psysml:952d2fa1-4eb4-490f-be08-21606a0b2581\" xlink:show=\"new\" xlink:title=\"psysml:952d2fa1-4eb4-490f-be08-21606a0b2581\" xlink:type=\"simple\"><rect fill=\"#FEFECE\" filter=\"url(#fyi5syyhhkwur)\" height=\"45.9375\" id=\"E10\" rx=\"10\" ry=\"10\" style=\"stroke: #A80036; stroke-width: 1.5;\" width=\"97\" x=\"31.5\" y=\"41\"/><ellipse cx=\"46.5\" cy=\"59.9688\" fill=\"#0000FF\" rx=\"11\" ry=\"11\" style=\"stroke: #A80036; stroke-width: 1.0;\"/><path d=\"M47.3438,66.7188 L44.8906,66.7188 L44.8906,56.4688 L41.75,56.4688 L41.75,54.3281 L50.4844,54.3281 L50.4844,56.4688 L47.3438,56.4688 L47.3438,66.7188 Z \"/><text fill=\"#000000\" font-family=\"sans-serif\" font-size=\"12\" font-style=\"italic\" lengthAdjust=\"spacingAndGlyphs\" textLength=\"69\" x=\"58.5\" y=\"57.1387\">«attribute»</text><text fill=\"#000000\" font-family=\"sans-serif\" font-size=\"12\" lengthAdjust=\"spacingAndGlyphs\" textLength=\"7\" x=\"89.5\" y=\"71.1074\">c</text><line style=\"stroke: #A80036; stroke-width: 1.5;\" x1=\"32.5\" x2=\"127.5\" y1=\"78.9375\" y2=\"78.9375\"/></a><text fill=\"#000000\" font-family=\"sans-serif\" font-size=\"14\" lengthAdjust=\"spacingAndGlyphs\" textLength=\"9\" x=\"695.5\" y=\"42.6982\">p</text><rect fill=\"#A80036\" height=\"12\" style=\"stroke: #FEFECE; stroke-width: 1.5;\" width=\"12\" x=\"694\" y=\"58\"/><text fill=\"#000000\" font-family=\"sans-serif\" font-size=\"14\" lengthAdjust=\"spacingAndGlyphs\" textLength=\"9\" x=\"742.5\" y=\"42.6982\">q</text><rect fill=\"#A80036\" height=\"12\" style=\"stroke: #FEFECE; stroke-width: 1.5;\" width=\"12\" x=\"741\" y=\"58\"/><!--MD5=[05d275557350bfb9b23a4ef7222b4c39]\n",
       "link E3 to E2--><a href=\"psysml:7569b902-ac88-47a0-a36a-be78510f169c\" target=\"_top\" title=\"psysml:7569b902-ac88-47a0-a36a-be78510f169c\" xlink:actuate=\"onRequest\" xlink:href=\"psysml:7569b902-ac88-47a0-a36a-be78510f169c\" xlink:show=\"new\" xlink:title=\"psysml:7569b902-ac88-47a0-a36a-be78510f169c\" xlink:type=\"simple\"><path d=\"M603.67,87.01 C601.45,98.3 598.64,112.62 595.87,126.7 \" fill=\"none\" id=\"E3-&gt;E2\" style=\"stroke: #A80036; stroke-width: 1.0;\"/><polygon fill=\"#FFFFFF\" points=\"591.93,146.75,588.7277,126.7564,602.4646,129.4577,591.93,146.75\" style=\"stroke: #A80036; stroke-width: 1.0;\"/><ellipse cx=\"591.7899\" cy=\"121.5494\" fill=\"#A80036\" rx=\"2\" ry=\"2\" style=\"stroke: #A80036; stroke-width: 1.0;\"/><ellipse cx=\"601.602\" cy=\"123.4789\" fill=\"#A80036\" rx=\"2\" ry=\"2\" style=\"stroke: #A80036; stroke-width: 1.0;\"/></a><!--MD5=[2fede2788af95184ccc66d9bcb3826b4]\n",
       "@startuml\r\n",
       " \r\n",
       "package \"ParameterTest\" as E1  [[psysml:934b4cb7-0388-44aa-8a43-948e0e0270d7 ]]  {\r\n",
       "comp def \"A\" as E2  <<(T,blue)attribute def>> [[psysml:129c5bc9-5e36-4fac-a06d-7961ccb64091 ]] {\r\n",
       "x: String\r\n",
       "y: A\r\n",
       "}\r\n",
       "comp usage \"a: A\" as E3  <<(T,blue)attribute>> [[psysml:50405f72-7bb1-41da-960b-ed203bf92c2d ]] {\r\n",
       "}\r\n",
       "rec def \"F\" as E4  <<(T,blue)calculation def>> [[psysml:84637ab1-2e14-49ab-80b7-3fb2aa846372 ]] {\r\n",
       "portin \"p\" as E5  [[psysml:64e82b47-cc13-4353-a930-54201d4c743b ]] \r\n",
       "portin \"q\" as E6  [[psysml:647ae971-dc5c-461d-bddf-e9c9561ef010 ]] \r\n",
       "}\r\n",
       "\r\n",
       "comp usage \"f\" as E7  <<(T,blue)attribute>> [[psysml:88b39ab3-39a3-49e4-a823-2b19bc6cfd18 ]] {\r\n",
       "}\r\n",
       "comp usage \"g\" as E8  <<(T,blue)attribute>> [[psysml:3f28e8b6-a431-4098-a991-c6c646c27e19 ]] {\r\n",
       "}\r\n",
       "comp usage \"b\" as E9  <<(T,blue)attribute>> [[psysml:a48346b2-888a-436e-97f1-e60fac760a88 ]] {\r\n",
       "}\r\n",
       "comp usage \"c\" as E10  <<(T,blue)attribute>> [[psysml:952d2fa1-4eb4-490f-be08-21606a0b2581 ]] {\r\n",
       "}\r\n",
       "E3 - -:|> E2 [[psysml:7569b902-ac88-47a0-a36a-be78510f169c ]] \r\n",
       "}\r\n",
       "@enduml\r\n",
       "\n",
       "PlantUML version 1.2020.13(Sat Jun 13 12:26:38 UTC 2020)\n",
       "(EPL source distribution)\n",
       "Java Runtime: OpenJDK Runtime Environment\n",
       "JVM: OpenJDK 64-Bit Server VM\n",
       "Default Encoding: UTF-8\n",
       "Language: en\n",
       "Country: null\n",
       "--></g></svg>"
      ]
     },
     "execution_count": 2,
     "metadata": {},
     "output_type": "execute_result"
    }
   ],
   "source": [
    "%viz --style=\"COMPTREE\" --view=\"Default\" \"ParameterTest\""
   ]
  },
  {
   "cell_type": "code",
   "execution_count": 3,
   "id": "bridal-northwest",
   "metadata": {
    "execution": {
     "iopub.execute_input": "2021-03-26T09:12:59.413616Z",
     "iopub.status.busy": "2021-03-26T09:12:59.412760Z",
     "iopub.status.idle": "2021-03-26T09:12:59.485885Z",
     "shell.execute_reply": "2021-03-26T09:12:59.486217Z"
    }
   },
   "outputs": [
    {
     "data": {
      "image/svg+xml": [
       "<?xml version=\"1.0\" encoding=\"UTF-8\" standalone=\"no\"?><svg xmlns=\"http://www.w3.org/2000/svg\" xmlns:xlink=\"http://www.w3.org/1999/xlink\" contentScriptType=\"application/ecmascript\" contentStyleType=\"text/css\" height=\"264px\" preserveAspectRatio=\"none\" style=\"width:864px;height:264px;\" version=\"1.1\" viewBox=\"0 0 864 264\" width=\"864px\" zoomAndPan=\"magnify\"><defs><filter height=\"300%\" id=\"fg3wjim0i0s3q\" width=\"300%\" x=\"-1\" y=\"-1\"><feGaussianBlur result=\"blurOut\" stdDeviation=\"2.0\"/><feColorMatrix in=\"blurOut\" result=\"blurOut2\" type=\"matrix\" values=\"0 0 0 0 0 0 0 0 0 0 0 0 0 0 0 0 0 0 .4 0\"/><feOffset dx=\"4.0\" dy=\"4.0\" in=\"blurOut2\" result=\"blurOut3\"/><feBlend in=\"SourceGraphic\" in2=\"blurOut3\" mode=\"normal\"/></filter></defs><g><!--MD5=[fbc87193dbaf4d95561dea2c320d4a47]\n",
       "cluster E1--><a href=\"psysml:934b4cb7-0388-44aa-8a43-948e0e0270d7\" target=\"_top\" title=\"psysml:934b4cb7-0388-44aa-8a43-948e0e0270d7\" xlink:actuate=\"onRequest\" xlink:href=\"psysml:934b4cb7-0388-44aa-8a43-948e0e0270d7\" xlink:show=\"new\" xlink:title=\"psysml:934b4cb7-0388-44aa-8a43-948e0e0270d7\" xlink:type=\"simple\"><polygon fill=\"#FFFFFF\" filter=\"url(#fg3wjim0i0s3q)\" points=\"16,6,139,6,146,28.2969,842,28.2969,842,252,16,252,16,6\" style=\"stroke: #000000; stroke-width: 1.5;\"/><line style=\"stroke: #000000; stroke-width: 1.5;\" x1=\"16\" x2=\"146\" y1=\"28.2969\" y2=\"28.2969\"/><text fill=\"#000000\" font-family=\"sans-serif\" font-size=\"14\" font-weight=\"bold\" lengthAdjust=\"spacingAndGlyphs\" textLength=\"117\" x=\"20\" y=\"20.9951\">ParameterTest</text></a><!--MD5=[b4997ac47864f28c2f74865a473b2911]\n",
       "class E2--><a href=\"psysml:129c5bc9-5e36-4fac-a06d-7961ccb64091\" target=\"_top\" title=\"psysml:129c5bc9-5e36-4fac-a06d-7961ccb64091\" xlink:actuate=\"onRequest\" xlink:href=\"psysml:129c5bc9-5e36-4fac-a06d-7961ccb64091\" xlink:show=\"new\" xlink:title=\"psysml:129c5bc9-5e36-4fac-a06d-7961ccb64091\" xlink:type=\"simple\"><rect fill=\"#FEFECE\" filter=\"url(#fg3wjim0i0s3q)\" height=\"71.5469\" id=\"E2\" style=\"stroke: #A80036; stroke-width: 1.5;\" width=\"121\" x=\"642.5\" y=\"164\"/><ellipse cx=\"657.5\" cy=\"182.9688\" fill=\"#0000FF\" rx=\"11\" ry=\"11\" style=\"stroke: #A80036; stroke-width: 1.0;\"/><path d=\"M658.3438,189.7188 L655.8906,189.7188 L655.8906,179.4688 L652.75,179.4688 L652.75,177.3281 L661.4844,177.3281 L661.4844,179.4688 L658.3438,179.4688 L658.3438,189.7188 Z \"/><text fill=\"#000000\" font-family=\"sans-serif\" font-size=\"12\" font-style=\"italic\" lengthAdjust=\"spacingAndGlyphs\" textLength=\"93\" x=\"669.5\" y=\"180.1387\">«attribute def»</text><text fill=\"#000000\" font-family=\"sans-serif\" font-size=\"12\" lengthAdjust=\"spacingAndGlyphs\" textLength=\"8\" x=\"712\" y=\"194.1074\">A</text><line style=\"stroke: #A80036; stroke-width: 1.5;\" x1=\"643.5\" x2=\"762.5\" y1=\"201.9375\" y2=\"201.9375\"/><text fill=\"#000000\" font-family=\"sans-serif\" font-size=\"11\" lengthAdjust=\"spacingAndGlyphs\" textLength=\"48\" x=\"648.5\" y=\"216.1479\">x: String</text><text fill=\"#000000\" font-family=\"sans-serif\" font-size=\"11\" lengthAdjust=\"spacingAndGlyphs\" textLength=\"21\" x=\"648.5\" y=\"228.9526\">y: A</text></a><!--MD5=[09b614a08d8cba4a07c9adeb5e0fee81]\n",
       "class E3--><a href=\"psysml:50405f72-7bb1-41da-960b-ed203bf92c2d\" target=\"_top\" title=\"psysml:50405f72-7bb1-41da-960b-ed203bf92c2d\" xlink:actuate=\"onRequest\" xlink:href=\"psysml:50405f72-7bb1-41da-960b-ed203bf92c2d\" xlink:show=\"new\" xlink:title=\"psysml:50405f72-7bb1-41da-960b-ed203bf92c2d\" xlink:type=\"simple\"><rect fill=\"#FEFECE\" filter=\"url(#fg3wjim0i0s3q)\" height=\"45.9375\" id=\"E3\" rx=\"10\" ry=\"10\" style=\"stroke: #A80036; stroke-width: 1.5;\" width=\"97\" x=\"729.5\" y=\"41\"/><ellipse cx=\"744.5\" cy=\"59.9688\" fill=\"#0000FF\" rx=\"11\" ry=\"11\" style=\"stroke: #A80036; stroke-width: 1.0;\"/><path d=\"M745.3438,66.7188 L742.8906,66.7188 L742.8906,56.4688 L739.75,56.4688 L739.75,54.3281 L748.4844,54.3281 L748.4844,56.4688 L745.3438,56.4688 L745.3438,66.7188 Z \"/><text fill=\"#000000\" font-family=\"sans-serif\" font-size=\"12\" font-style=\"italic\" lengthAdjust=\"spacingAndGlyphs\" textLength=\"69\" x=\"756.5\" y=\"57.1387\">«attribute»</text><text fill=\"#000000\" font-family=\"sans-serif\" font-size=\"12\" lengthAdjust=\"spacingAndGlyphs\" textLength=\"24\" x=\"779\" y=\"71.1074\">a: A</text><line style=\"stroke: #A80036; stroke-width: 1.5;\" x1=\"730.5\" x2=\"825.5\" y1=\"78.9375\" y2=\"78.9375\"/></a><!--MD5=[ebbe1d658d1005bcc118a6aa81145e00]\n",
       "class E4--><a href=\"psysml:84637ab1-2e14-49ab-80b7-3fb2aa846372\" target=\"_top\" title=\"psysml:84637ab1-2e14-49ab-80b7-3fb2aa846372\" xlink:actuate=\"onRequest\" xlink:href=\"psysml:84637ab1-2e14-49ab-80b7-3fb2aa846372\" xlink:show=\"new\" xlink:title=\"psysml:84637ab1-2e14-49ab-80b7-3fb2aa846372\" xlink:type=\"simple\"><rect fill=\"#FEFECE\" filter=\"url(#fg3wjim0i0s3q)\" height=\"45.9375\" id=\"E4\" style=\"stroke: #A80036; stroke-width: 1.5;\" width=\"134\" x=\"560\" y=\"41\"/><ellipse cx=\"575\" cy=\"59.9688\" fill=\"#0000FF\" rx=\"11\" ry=\"11\" style=\"stroke: #A80036; stroke-width: 1.0;\"/><path d=\"M575.8438,66.7188 L573.3906,66.7188 L573.3906,56.4688 L570.25,56.4688 L570.25,54.3281 L578.9844,54.3281 L578.9844,56.4688 L575.8438,56.4688 L575.8438,66.7188 Z \"/><text fill=\"#000000\" font-family=\"sans-serif\" font-size=\"12\" font-style=\"italic\" lengthAdjust=\"spacingAndGlyphs\" textLength=\"106\" x=\"587\" y=\"57.1387\">«calculation def»</text><text fill=\"#000000\" font-family=\"sans-serif\" font-size=\"12\" lengthAdjust=\"spacingAndGlyphs\" textLength=\"7\" x=\"636.5\" y=\"71.1074\">F</text><line style=\"stroke: #A80036; stroke-width: 1.5;\" x1=\"561\" x2=\"693\" y1=\"78.9375\" y2=\"78.9375\"/></a><!--MD5=[270fce915f116d4de14055a7c1d9a0f3]\n",
       "class E5--><a href=\"psysml:88b39ab3-39a3-49e4-a823-2b19bc6cfd18\" target=\"_top\" title=\"psysml:88b39ab3-39a3-49e4-a823-2b19bc6cfd18\" xlink:actuate=\"onRequest\" xlink:href=\"psysml:88b39ab3-39a3-49e4-a823-2b19bc6cfd18\" xlink:show=\"new\" xlink:title=\"psysml:88b39ab3-39a3-49e4-a823-2b19bc6cfd18\" xlink:type=\"simple\"><rect fill=\"#FEFECE\" filter=\"url(#fg3wjim0i0s3q)\" height=\"45.9375\" id=\"E5\" rx=\"10\" ry=\"10\" style=\"stroke: #A80036; stroke-width: 1.5;\" width=\"97\" x=\"427.5\" y=\"41\"/><ellipse cx=\"442.5\" cy=\"59.9688\" fill=\"#0000FF\" rx=\"11\" ry=\"11\" style=\"stroke: #A80036; stroke-width: 1.0;\"/><path d=\"M443.3438,66.7188 L440.8906,66.7188 L440.8906,56.4688 L437.75,56.4688 L437.75,54.3281 L446.4844,54.3281 L446.4844,56.4688 L443.3438,56.4688 L443.3438,66.7188 Z \"/><text fill=\"#000000\" font-family=\"sans-serif\" font-size=\"12\" font-style=\"italic\" lengthAdjust=\"spacingAndGlyphs\" textLength=\"69\" x=\"454.5\" y=\"57.1387\">«attribute»</text><text fill=\"#000000\" font-family=\"sans-serif\" font-size=\"12\" lengthAdjust=\"spacingAndGlyphs\" textLength=\"4\" x=\"487\" y=\"71.1074\">f</text><line style=\"stroke: #A80036; stroke-width: 1.5;\" x1=\"428.5\" x2=\"523.5\" y1=\"78.9375\" y2=\"78.9375\"/></a><!--MD5=[60a26617385b1d2d0262a64233df1f8d]\n",
       "class E6--><a href=\"psysml:3f28e8b6-a431-4098-a991-c6c646c27e19\" target=\"_top\" title=\"psysml:3f28e8b6-a431-4098-a991-c6c646c27e19\" xlink:actuate=\"onRequest\" xlink:href=\"psysml:3f28e8b6-a431-4098-a991-c6c646c27e19\" xlink:show=\"new\" xlink:title=\"psysml:3f28e8b6-a431-4098-a991-c6c646c27e19\" xlink:type=\"simple\"><rect fill=\"#FEFECE\" filter=\"url(#fg3wjim0i0s3q)\" height=\"45.9375\" id=\"E6\" rx=\"10\" ry=\"10\" style=\"stroke: #A80036; stroke-width: 1.5;\" width=\"97\" x=\"295.5\" y=\"41\"/><ellipse cx=\"310.5\" cy=\"59.9688\" fill=\"#0000FF\" rx=\"11\" ry=\"11\" style=\"stroke: #A80036; stroke-width: 1.0;\"/><path d=\"M311.3438,66.7188 L308.8906,66.7188 L308.8906,56.4688 L305.75,56.4688 L305.75,54.3281 L314.4844,54.3281 L314.4844,56.4688 L311.3438,56.4688 L311.3438,66.7188 Z \"/><text fill=\"#000000\" font-family=\"sans-serif\" font-size=\"12\" font-style=\"italic\" lengthAdjust=\"spacingAndGlyphs\" textLength=\"69\" x=\"322.5\" y=\"57.1387\">«attribute»</text><text fill=\"#000000\" font-family=\"sans-serif\" font-size=\"12\" lengthAdjust=\"spacingAndGlyphs\" textLength=\"8\" x=\"353\" y=\"71.1074\">g</text><line style=\"stroke: #A80036; stroke-width: 1.5;\" x1=\"296.5\" x2=\"391.5\" y1=\"78.9375\" y2=\"78.9375\"/></a><!--MD5=[2156ba9850f5573cc1fc38a6a4b2f02b]\n",
       "class E7--><a href=\"psysml:a48346b2-888a-436e-97f1-e60fac760a88\" target=\"_top\" title=\"psysml:a48346b2-888a-436e-97f1-e60fac760a88\" xlink:actuate=\"onRequest\" xlink:href=\"psysml:a48346b2-888a-436e-97f1-e60fac760a88\" xlink:show=\"new\" xlink:title=\"psysml:a48346b2-888a-436e-97f1-e60fac760a88\" xlink:type=\"simple\"><rect fill=\"#FEFECE\" filter=\"url(#fg3wjim0i0s3q)\" height=\"45.9375\" id=\"E7\" rx=\"10\" ry=\"10\" style=\"stroke: #A80036; stroke-width: 1.5;\" width=\"97\" x=\"163.5\" y=\"41\"/><ellipse cx=\"178.5\" cy=\"59.9688\" fill=\"#0000FF\" rx=\"11\" ry=\"11\" style=\"stroke: #A80036; stroke-width: 1.0;\"/><path d=\"M179.3438,66.7188 L176.8906,66.7188 L176.8906,56.4688 L173.75,56.4688 L173.75,54.3281 L182.4844,54.3281 L182.4844,56.4688 L179.3438,56.4688 L179.3438,66.7188 Z \"/><text fill=\"#000000\" font-family=\"sans-serif\" font-size=\"12\" font-style=\"italic\" lengthAdjust=\"spacingAndGlyphs\" textLength=\"69\" x=\"190.5\" y=\"57.1387\">«attribute»</text><text fill=\"#000000\" font-family=\"sans-serif\" font-size=\"12\" lengthAdjust=\"spacingAndGlyphs\" textLength=\"8\" x=\"221\" y=\"71.1074\">b</text><line style=\"stroke: #A80036; stroke-width: 1.5;\" x1=\"164.5\" x2=\"259.5\" y1=\"78.9375\" y2=\"78.9375\"/></a><!--MD5=[b9389687b975829384b498ac4b7476b2]\n",
       "class E8--><a href=\"psysml:952d2fa1-4eb4-490f-be08-21606a0b2581\" target=\"_top\" title=\"psysml:952d2fa1-4eb4-490f-be08-21606a0b2581\" xlink:actuate=\"onRequest\" xlink:href=\"psysml:952d2fa1-4eb4-490f-be08-21606a0b2581\" xlink:show=\"new\" xlink:title=\"psysml:952d2fa1-4eb4-490f-be08-21606a0b2581\" xlink:type=\"simple\"><rect fill=\"#FEFECE\" filter=\"url(#fg3wjim0i0s3q)\" height=\"45.9375\" id=\"E8\" rx=\"10\" ry=\"10\" style=\"stroke: #A80036; stroke-width: 1.5;\" width=\"97\" x=\"31.5\" y=\"41\"/><ellipse cx=\"46.5\" cy=\"59.9688\" fill=\"#0000FF\" rx=\"11\" ry=\"11\" style=\"stroke: #A80036; stroke-width: 1.0;\"/><path d=\"M47.3438,66.7188 L44.8906,66.7188 L44.8906,56.4688 L41.75,56.4688 L41.75,54.3281 L50.4844,54.3281 L50.4844,56.4688 L47.3438,56.4688 L47.3438,66.7188 Z \"/><text fill=\"#000000\" font-family=\"sans-serif\" font-size=\"12\" font-style=\"italic\" lengthAdjust=\"spacingAndGlyphs\" textLength=\"69\" x=\"58.5\" y=\"57.1387\">«attribute»</text><text fill=\"#000000\" font-family=\"sans-serif\" font-size=\"12\" lengthAdjust=\"spacingAndGlyphs\" textLength=\"7\" x=\"89.5\" y=\"71.1074\">c</text><line style=\"stroke: #A80036; stroke-width: 1.5;\" x1=\"32.5\" x2=\"127.5\" y1=\"78.9375\" y2=\"78.9375\"/></a><!--MD5=[05d275557350bfb9b23a4ef7222b4c39]\n",
       "link E3 to E2--><a href=\"psysml:7569b902-ac88-47a0-a36a-be78510f169c\" target=\"_top\" title=\"psysml:7569b902-ac88-47a0-a36a-be78510f169c\" xlink:actuate=\"onRequest\" xlink:href=\"psysml:7569b902-ac88-47a0-a36a-be78510f169c\" xlink:show=\"new\" xlink:title=\"psysml:7569b902-ac88-47a0-a36a-be78510f169c\" xlink:type=\"simple\"><path d=\"M765.62,87.13 C756.62,103.2 744.05,125.65 732.54,146.23 \" fill=\"none\" id=\"E3-&gt;E2\" style=\"stroke: #A80036; stroke-width: 1.0;\"/><polygon fill=\"#FFFFFF\" points=\"722.6,163.99,725.7664,143.9907,737.9848,150.8253,722.6,163.99\" style=\"stroke: #A80036; stroke-width: 1.0;\"/><ellipse cx=\"730.2946\" cy=\"139.9924\" fill=\"#A80036\" rx=\"2\" ry=\"2\" style=\"stroke: #A80036; stroke-width: 1.0;\"/><ellipse cx=\"739.022\" cy=\"144.8743\" fill=\"#A80036\" rx=\"2\" ry=\"2\" style=\"stroke: #A80036; stroke-width: 1.0;\"/></a><!--MD5=[ddeed8deb2209213b62e6cfabaa108b2]\n",
       "reverse link E4 to E2--><a href=\"psysml:64e82b47-cc13-4353-a930-54201d4c743b\" target=\"_top\" title=\"psysml:64e82b47-cc13-4353-a930-54201d4c743b\" xlink:actuate=\"onRequest\" xlink:href=\"psysml:64e82b47-cc13-4353-a930-54201d4c743b\" xlink:show=\"new\" xlink:title=\"psysml:64e82b47-cc13-4353-a930-54201d4c743b\" xlink:type=\"simple\"><path d=\"M645.99,98.48 C657.31,118.44 671.67,143.76 683.14,163.99 \" fill=\"none\" id=\"E4&lt;-E2\" style=\"stroke: #A80036; stroke-width: 1.0;\"/><polygon fill=\"#FFFFFF\" points=\"639.55,87.13,639.0333,94.3226,645.4738,97.5659,645.9905,90.3734,639.55,87.13\" style=\"stroke: #A80036; stroke-width: 1.0;\"/><text fill=\"#000000\" font-family=\"sans-serif\" font-size=\"13\" lengthAdjust=\"spacingAndGlyphs\" textLength=\"8\" x=\"666\" y=\"130.0669\">p</text></a><!--MD5=[5a8dfd9c4a78a3cd29a02b3d424eb238]\n",
       "@startuml\r\n",
       " \r\n",
       "package \"ParameterTest\" as E1  [[psysml:934b4cb7-0388-44aa-8a43-948e0e0270d7 ]]  {\r\n",
       "comp def \"A\" as E2  <<(T,blue)attribute def>> [[psysml:129c5bc9-5e36-4fac-a06d-7961ccb64091 ]] {\r\n",
       "x: String\r\n",
       "y: A\r\n",
       "}\r\n",
       "comp usage \"a: A\" as E3  <<(T,blue)attribute>> [[psysml:50405f72-7bb1-41da-960b-ed203bf92c2d ]] {\r\n",
       "}\r\n",
       "comp def \"F\" as E4  <<(T,blue)calculation def>> [[psysml:84637ab1-2e14-49ab-80b7-3fb2aa846372 ]] {\r\n",
       "}\r\n",
       "comp usage \"f\" as E5  <<(T,blue)attribute>> [[psysml:88b39ab3-39a3-49e4-a823-2b19bc6cfd18 ]] {\r\n",
       "}\r\n",
       "comp usage \"g\" as E6  <<(T,blue)attribute>> [[psysml:3f28e8b6-a431-4098-a991-c6c646c27e19 ]] {\r\n",
       "}\r\n",
       "comp usage \"b\" as E7  <<(T,blue)attribute>> [[psysml:a48346b2-888a-436e-97f1-e60fac760a88 ]] {\r\n",
       "}\r\n",
       "comp usage \"c\" as E8  <<(T,blue)attribute>> [[psysml:952d2fa1-4eb4-490f-be08-21606a0b2581 ]] {\r\n",
       "}\r\n",
       "E3 - -:|> E2 [[psysml:7569b902-ac88-47a0-a36a-be78510f169c ]] \r\n",
       "E4 o- - E2 [[psysml:64e82b47-cc13-4353-a930-54201d4c743b ]] : p\r\n",
       "}\r\n",
       "@enduml\r\n",
       "\n",
       "PlantUML version 1.2020.13(Sat Jun 13 12:26:38 UTC 2020)\n",
       "(EPL source distribution)\n",
       "Java Runtime: OpenJDK Runtime Environment\n",
       "JVM: OpenJDK 64-Bit Server VM\n",
       "Default Encoding: UTF-8\n",
       "Language: en\n",
       "Country: null\n",
       "--></g></svg>"
      ]
     },
     "execution_count": 3,
     "metadata": {},
     "output_type": "execute_result"
    }
   ],
   "source": [
    "%viz --style=\"COMPTREE\" --view=\"Tree\" \"ParameterTest\""
   ]
  },
  {
   "cell_type": "code",
   "execution_count": 4,
   "id": "chinese-volunteer",
   "metadata": {
    "execution": {
     "iopub.execute_input": "2021-03-26T09:12:59.539094Z",
     "iopub.status.busy": "2021-03-26T09:12:59.538456Z",
     "iopub.status.idle": "2021-03-26T09:12:59.623929Z",
     "shell.execute_reply": "2021-03-26T09:12:59.622691Z"
    }
   },
   "outputs": [
    {
     "data": {
      "image/svg+xml": [
       "<?xml version=\"1.0\" encoding=\"UTF-8\" standalone=\"no\"?><svg xmlns=\"http://www.w3.org/2000/svg\" xmlns:xlink=\"http://www.w3.org/1999/xlink\" contentScriptType=\"application/ecmascript\" contentStyleType=\"text/css\" height=\"303px\" preserveAspectRatio=\"none\" style=\"width:603px;height:303px;background:#000000;\" version=\"1.1\" viewBox=\"0 0 603 303\" width=\"603px\" zoomAndPan=\"magnify\"><defs/><g><rect fill=\"#221D06\" height=\"1\" style=\"stroke: #221D06; stroke-width: 1.0;\" width=\"1\" x=\"0\" y=\"0\"/><rect fill=\"#FFFFFF\" height=\"205.5625\" style=\"stroke: #FFFFFF; stroke-width: 1.0;\" width=\"602\" x=\"0\" y=\"0\"/><text fill=\"#000000\" font-family=\"sans-serif\" font-size=\"12\" font-weight=\"bold\" lengthAdjust=\"spacingAndGlyphs\" textLength=\"159\" x=\"5\" y=\"16.1387\">Welcome to PlantUML!</text><text fill=\"#000000\" font-family=\"sans-serif\" font-size=\"12\" lengthAdjust=\"spacingAndGlyphs\" textLength=\"0\" x=\"9\" y=\"30.1074\"/><text fill=\"#000000\" font-family=\"sans-serif\" font-size=\"12\" lengthAdjust=\"spacingAndGlyphs\" textLength=\"293\" x=\"5\" y=\"44.0762\">If you use this software, you accept its license.</text><text fill=\"#000000\" font-family=\"sans-serif\" font-size=\"12\" lengthAdjust=\"spacingAndGlyphs\" textLength=\"107\" x=\"5\" y=\"58.0449\">(details by typing</text><text fill=\"#000000\" font-family=\"monospace\" font-size=\"12\" lengthAdjust=\"spacingAndGlyphs\" textLength=\"49\" x=\"116\" y=\"58.0449\">license</text><text fill=\"#000000\" font-family=\"sans-serif\" font-size=\"12\" lengthAdjust=\"spacingAndGlyphs\" textLength=\"56\" x=\"169\" y=\"58.0449\">keyword)</text><text fill=\"#000000\" font-family=\"sans-serif\" font-size=\"12\" lengthAdjust=\"spacingAndGlyphs\" textLength=\"0\" x=\"9\" y=\"72.0137\"/><text fill=\"#000000\" font-family=\"sans-serif\" font-size=\"12\" lengthAdjust=\"spacingAndGlyphs\" textLength=\"283\" x=\"5\" y=\"85.9824\">You can start with a simple UML Diagram like:</text><text fill=\"#000000\" font-family=\"sans-serif\" font-size=\"12\" lengthAdjust=\"spacingAndGlyphs\" textLength=\"0\" x=\"9\" y=\"99.9512\"/><text fill=\"#000000\" font-family=\"monospace\" font-size=\"12\" lengthAdjust=\"spacingAndGlyphs\" textLength=\"119\" x=\"5\" y=\"113.9199\">Bob-&gt;Alice: Hello</text><text fill=\"#000000\" font-family=\"sans-serif\" font-size=\"12\" lengthAdjust=\"spacingAndGlyphs\" textLength=\"0\" x=\"9\" y=\"127.8887\"/><text fill=\"#000000\" font-family=\"sans-serif\" font-size=\"12\" lengthAdjust=\"spacingAndGlyphs\" textLength=\"14\" x=\"5\" y=\"141.8574\">Or</text><text fill=\"#000000\" font-family=\"sans-serif\" font-size=\"12\" lengthAdjust=\"spacingAndGlyphs\" textLength=\"0\" x=\"9\" y=\"155.8262\"/><text fill=\"#000000\" font-family=\"monospace\" font-size=\"12\" lengthAdjust=\"spacingAndGlyphs\" textLength=\"91\" x=\"5\" y=\"169.7949\">class Example</text><text fill=\"#000000\" font-family=\"sans-serif\" font-size=\"12\" lengthAdjust=\"spacingAndGlyphs\" textLength=\"0\" x=\"9\" y=\"183.7637\"/><text fill=\"#000000\" font-family=\"sans-serif\" font-size=\"12\" lengthAdjust=\"spacingAndGlyphs\" textLength=\"349\" x=\"5\" y=\"197.7324\">You will find more information about PlantUML syntax on</text><text fill=\"#000000\" font-family=\"sans-serif\" font-size=\"12\" lengthAdjust=\"spacingAndGlyphs\" text-decoration=\"underline\" textLength=\"129\" x=\"358\" y=\"197.7324\">https://plantuml.com</text><image height=\"71\" width=\"80\" x=\"516\" xlink:href=\"data:image/png;base64,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\" y=\"6\"/><rect fill=\"#000000\" height=\"96.4844\" style=\"stroke: #000000; stroke-width: 1.0;\" width=\"602\" x=\"0\" y=\"205.5625\"/><rect fill=\"#33FF02\" height=\"21.2969\" style=\"stroke: #33FF02; stroke-width: 1.0;\" width=\"170\" x=\"5\" y=\"210.5625\"/><text fill=\"#000000\" font-family=\"sans-serif\" font-size=\"14\" font-weight=\"bold\" lengthAdjust=\"spacingAndGlyphs\" textLength=\"168\" x=\"6\" y=\"225.5625\">[From string (line 2) ]</text><text fill=\"#33FF02\" font-family=\"sans-serif\" font-size=\"14\" font-weight=\"bold\" lengthAdjust=\"spacingAndGlyphs\" textLength=\"0\" x=\"10\" y=\"245.8594\"/><text fill=\"#33FF02\" font-family=\"sans-serif\" font-size=\"14\" font-weight=\"bold\" lengthAdjust=\"spacingAndGlyphs\" textLength=\"79\" x=\"5\" y=\"262.1563\">@startuml</text><text fill=\"#33FF02\" font-family=\"sans-serif\" font-size=\"14\" font-weight=\"bold\" lengthAdjust=\"spacingAndGlyphs\" textLength=\"0\" x=\"10\" y=\"278.4531\"/><text fill=\"#FF0000\" font-family=\"sans-serif\" font-size=\"14\" font-weight=\"bold\" lengthAdjust=\"spacingAndGlyphs\" textLength=\"142\" x=\"10\" y=\"294.75\">Empty description</text><!--MD5=[f59edd8218d337f74d0c332fc6737304]\n",
       "@startuml\r\n",
       " \r\n",
       "@enduml\r\n",
       "\n",
       "PlantUML version 1.2020.13(Sat Jun 13 12:26:38 UTC 2020)\n",
       "(EPL source distribution)\n",
       "Java Runtime: OpenJDK Runtime Environment\n",
       "JVM: OpenJDK 64-Bit Server VM\n",
       "Default Encoding: UTF-8\n",
       "Language: en\n",
       "Country: null\n",
       "--></g></svg>"
      ]
     },
     "execution_count": 4,
     "metadata": {},
     "output_type": "execute_result"
    }
   ],
   "source": [
    "%viz --style=\"COMPTREE\" --view=\"State\" \"ParameterTest\""
   ]
  },
  {
   "cell_type": "code",
   "execution_count": 5,
   "id": "stone-printer",
   "metadata": {
    "execution": {
     "iopub.execute_input": "2021-03-26T09:12:59.676990Z",
     "iopub.status.busy": "2021-03-26T09:12:59.676383Z",
     "iopub.status.idle": "2021-03-26T09:12:59.727697Z",
     "shell.execute_reply": "2021-03-26T09:12:59.726427Z"
    }
   },
   "outputs": [
    {
     "data": {
      "image/svg+xml": [
       "<?xml version=\"1.0\" encoding=\"UTF-8\" standalone=\"no\"?><svg xmlns=\"http://www.w3.org/2000/svg\" xmlns:xlink=\"http://www.w3.org/1999/xlink\" contentScriptType=\"application/ecmascript\" contentStyleType=\"text/css\" height=\"123px\" preserveAspectRatio=\"none\" style=\"width:1141px;height:123px;\" version=\"1.1\" viewBox=\"0 0 1141 123\" width=\"1141px\" zoomAndPan=\"magnify\"><defs><filter height=\"300%\" id=\"f1we02ear94npx\" width=\"300%\" x=\"-1\" y=\"-1\"><feGaussianBlur result=\"blurOut\" stdDeviation=\"2.0\"/><feColorMatrix in=\"blurOut\" result=\"blurOut2\" type=\"matrix\" values=\"0 0 0 0 0 0 0 0 0 0 0 0 0 0 0 0 0 0 .4 0\"/><feOffset dx=\"4.0\" dy=\"4.0\" in=\"blurOut2\" result=\"blurOut3\"/><feBlend in=\"SourceGraphic\" in2=\"blurOut3\" mode=\"normal\"/></filter></defs><g><!--MD5=[fbc87193dbaf4d95561dea2c320d4a47]\n",
       "cluster E1--><a href=\"psysml:934b4cb7-0388-44aa-8a43-948e0e0270d7\" target=\"_top\" title=\"psysml:934b4cb7-0388-44aa-8a43-948e0e0270d7\" xlink:actuate=\"onRequest\" xlink:href=\"psysml:934b4cb7-0388-44aa-8a43-948e0e0270d7\" xlink:show=\"new\" xlink:title=\"psysml:934b4cb7-0388-44aa-8a43-948e0e0270d7\" xlink:type=\"simple\"><polygon fill=\"#FFFFFF\" filter=\"url(#f1we02ear94npx)\" points=\"16,6,139,6,146,28.2969,1119,28.2969,1119,111,16,111,16,6\" style=\"stroke: #000000; stroke-width: 1.5;\"/><line style=\"stroke: #000000; stroke-width: 1.5;\" x1=\"16\" x2=\"146\" y1=\"28.2969\" y2=\"28.2969\"/><text fill=\"#000000\" font-family=\"sans-serif\" font-size=\"14\" font-weight=\"bold\" lengthAdjust=\"spacingAndGlyphs\" textLength=\"117\" x=\"20\" y=\"20.9951\">ParameterTest</text></a><!--MD5=[b4997ac47864f28c2f74865a473b2911]\n",
       "class E2--><a href=\"psysml:129c5bc9-5e36-4fac-a06d-7961ccb64091\" target=\"_top\" title=\"psysml:129c5bc9-5e36-4fac-a06d-7961ccb64091\" xlink:actuate=\"onRequest\" xlink:href=\"psysml:129c5bc9-5e36-4fac-a06d-7961ccb64091\" xlink:show=\"new\" xlink:title=\"psysml:129c5bc9-5e36-4fac-a06d-7961ccb64091\" xlink:type=\"simple\"><rect fill=\"#FEFECE\" filter=\"url(#f1we02ear94npx)\" height=\"53.9375\" id=\"E2\" style=\"stroke: #A80036; stroke-width: 1.5;\" width=\"169\" x=\"934.5\" y=\"41\"/><ellipse cx=\"949.5\" cy=\"59.9688\" fill=\"#ADD1B2\" rx=\"11\" ry=\"11\" style=\"stroke: #A80036; stroke-width: 1.0;\"/><path d=\"M952.4688,65.6094 Q951.8906,65.9063 951.25,66.0469 Q950.6094,66.2031 949.9063,66.2031 Q947.4063,66.2031 946.0781,64.5625 Q944.7656,62.9063 944.7656,59.7813 Q944.7656,56.6563 946.0781,55 Q947.4063,53.3438 949.9063,53.3438 Q950.6094,53.3438 951.25,53.5 Q951.9063,53.6563 952.4688,53.9531 L952.4688,56.6719 Q951.8438,56.0938 951.25,55.8281 Q950.6563,55.5469 950.0313,55.5469 Q948.6875,55.5469 948,56.625 Q947.3125,57.6875 947.3125,59.7813 Q947.3125,61.875 948,62.9531 Q948.6875,64.0156 950.0313,64.0156 Q950.6563,64.0156 951.25,63.75 Q951.8438,63.4688 952.4688,62.8906 L952.4688,65.6094 Z \"/><text fill=\"#000000\" font-family=\"sans-serif\" font-size=\"12\" font-style=\"italic\" lengthAdjust=\"spacingAndGlyphs\" textLength=\"141\" x=\"961.5\" y=\"57.1387\">«(T,blue)attribute def»</text><text fill=\"#000000\" font-family=\"sans-serif\" font-size=\"12\" lengthAdjust=\"spacingAndGlyphs\" textLength=\"8\" x=\"1028\" y=\"71.1074\">A</text><line style=\"stroke: #A80036; stroke-width: 1.5;\" x1=\"935.5\" x2=\"1102.5\" y1=\"78.9375\" y2=\"78.9375\"/><line style=\"stroke: #A80036; stroke-width: 1.5;\" x1=\"935.5\" x2=\"1102.5\" y1=\"86.9375\" y2=\"86.9375\"/></a><!--MD5=[ebbe1d658d1005bcc118a6aa81145e00]\n",
       "class E4--><a href=\"psysml:84637ab1-2e14-49ab-80b7-3fb2aa846372\" target=\"_top\" title=\"psysml:84637ab1-2e14-49ab-80b7-3fb2aa846372\" xlink:actuate=\"onRequest\" xlink:href=\"psysml:84637ab1-2e14-49ab-80b7-3fb2aa846372\" xlink:show=\"new\" xlink:title=\"psysml:84637ab1-2e14-49ab-80b7-3fb2aa846372\" xlink:type=\"simple\"><rect fill=\"#FEFECE\" filter=\"url(#f1we02ear94npx)\" height=\"53.9375\" id=\"E4\" style=\"stroke: #A80036; stroke-width: 1.5;\" width=\"182\" x=\"717\" y=\"41\"/><ellipse cx=\"732\" cy=\"59.9688\" fill=\"#ADD1B2\" rx=\"11\" ry=\"11\" style=\"stroke: #A80036; stroke-width: 1.0;\"/><path d=\"M734.9688,65.6094 Q734.3906,65.9063 733.75,66.0469 Q733.1094,66.2031 732.4063,66.2031 Q729.9063,66.2031 728.5781,64.5625 Q727.2656,62.9063 727.2656,59.7813 Q727.2656,56.6563 728.5781,55 Q729.9063,53.3438 732.4063,53.3438 Q733.1094,53.3438 733.75,53.5 Q734.4063,53.6563 734.9688,53.9531 L734.9688,56.6719 Q734.3438,56.0938 733.75,55.8281 Q733.1563,55.5469 732.5313,55.5469 Q731.1875,55.5469 730.5,56.625 Q729.8125,57.6875 729.8125,59.7813 Q729.8125,61.875 730.5,62.9531 Q731.1875,64.0156 732.5313,64.0156 Q733.1563,64.0156 733.75,63.75 Q734.3438,63.4688 734.9688,62.8906 L734.9688,65.6094 Z \"/><text fill=\"#000000\" font-family=\"sans-serif\" font-size=\"12\" font-style=\"italic\" lengthAdjust=\"spacingAndGlyphs\" textLength=\"154\" x=\"744\" y=\"57.1387\">«(T,blue)calculation def»</text><text fill=\"#000000\" font-family=\"sans-serif\" font-size=\"12\" lengthAdjust=\"spacingAndGlyphs\" textLength=\"7\" x=\"817.5\" y=\"71.1074\">F</text><line style=\"stroke: #A80036; stroke-width: 1.5;\" x1=\"718\" x2=\"898\" y1=\"78.9375\" y2=\"78.9375\"/><line style=\"stroke: #A80036; stroke-width: 1.5;\" x1=\"718\" x2=\"898\" y1=\"86.9375\" y2=\"86.9375\"/></a><g id=\"E1.E3\"><a href=\"psysml:50405f72-7bb1-41da-960b-ed203bf92c2d\" target=\"_top\" title=\"psysml:50405f72-7bb1-41da-960b-ed203bf92c2d\" xlink:actuate=\"onRequest\" xlink:href=\"psysml:50405f72-7bb1-41da-960b-ed203bf92c2d\" xlink:show=\"new\" xlink:title=\"psysml:50405f72-7bb1-41da-960b-ed203bf92c2d\" xlink:type=\"simple\"><rect fill=\"#FEFECE\" filter=\"url(#f1we02ear94npx)\" height=\"42.9375\" id=\"E3\" rx=\"10\" ry=\"10\" style=\"stroke: #A80036; stroke-width: 1.5;\" width=\"102\" x=\"580\" y=\"46.5\"/><ellipse cx=\"597.25\" cy=\"65.4688\" fill=\"#0000FF\" rx=\"11\" ry=\"11\" style=\"stroke: #A80036; stroke-width: 1.0;\"/><path d=\"M598.0938,72.2188 L595.6406,72.2188 L595.6406,61.9688 L592.5,61.9688 L592.5,59.8281 L601.2344,59.8281 L601.2344,61.9688 L598.0938,61.9688 L598.0938,72.2188 Z \"/><text fill=\"#000000\" font-family=\"sans-serif\" font-size=\"12\" font-style=\"italic\" lengthAdjust=\"spacingAndGlyphs\" textLength=\"69\" x=\"609.75\" y=\"62.6387\">«attribute»</text><text fill=\"#000000\" font-family=\"sans-serif\" font-size=\"12\" lengthAdjust=\"spacingAndGlyphs\" textLength=\"24\" x=\"632.25\" y=\"76.6074\">a: A</text></a></g><g id=\"E1.E5\"><a href=\"psysml:88b39ab3-39a3-49e4-a823-2b19bc6cfd18\" target=\"_top\" title=\"psysml:88b39ab3-39a3-49e4-a823-2b19bc6cfd18\" xlink:actuate=\"onRequest\" xlink:href=\"psysml:88b39ab3-39a3-49e4-a823-2b19bc6cfd18\" xlink:show=\"new\" xlink:title=\"psysml:88b39ab3-39a3-49e4-a823-2b19bc6cfd18\" xlink:type=\"simple\"><rect fill=\"#FEFECE\" filter=\"url(#f1we02ear94npx)\" height=\"42.9375\" id=\"E5\" rx=\"10\" ry=\"10\" style=\"stroke: #A80036; stroke-width: 1.5;\" width=\"102\" x=\"443\" y=\"46.5\"/><ellipse cx=\"460.25\" cy=\"65.4688\" fill=\"#0000FF\" rx=\"11\" ry=\"11\" style=\"stroke: #A80036; stroke-width: 1.0;\"/><path d=\"M461.0938,72.2188 L458.6406,72.2188 L458.6406,61.9688 L455.5,61.9688 L455.5,59.8281 L464.2344,59.8281 L464.2344,61.9688 L461.0938,61.9688 L461.0938,72.2188 Z \"/><text fill=\"#000000\" font-family=\"sans-serif\" font-size=\"12\" font-style=\"italic\" lengthAdjust=\"spacingAndGlyphs\" textLength=\"69\" x=\"472.75\" y=\"62.6387\">«attribute»</text><text fill=\"#000000\" font-family=\"sans-serif\" font-size=\"12\" lengthAdjust=\"spacingAndGlyphs\" textLength=\"4\" x=\"505.25\" y=\"76.6074\">f</text></a></g><g id=\"E1.E6\"><a href=\"psysml:3f28e8b6-a431-4098-a991-c6c646c27e19\" target=\"_top\" title=\"psysml:3f28e8b6-a431-4098-a991-c6c646c27e19\" xlink:actuate=\"onRequest\" xlink:href=\"psysml:3f28e8b6-a431-4098-a991-c6c646c27e19\" xlink:show=\"new\" xlink:title=\"psysml:3f28e8b6-a431-4098-a991-c6c646c27e19\" xlink:type=\"simple\"><rect fill=\"#FEFECE\" filter=\"url(#f1we02ear94npx)\" height=\"42.9375\" id=\"E6\" rx=\"10\" ry=\"10\" style=\"stroke: #A80036; stroke-width: 1.5;\" width=\"102\" x=\"306\" y=\"46.5\"/><ellipse cx=\"323.25\" cy=\"65.4688\" fill=\"#0000FF\" rx=\"11\" ry=\"11\" style=\"stroke: #A80036; stroke-width: 1.0;\"/><path d=\"M324.0938,72.2188 L321.6406,72.2188 L321.6406,61.9688 L318.5,61.9688 L318.5,59.8281 L327.2344,59.8281 L327.2344,61.9688 L324.0938,61.9688 L324.0938,72.2188 Z \"/><text fill=\"#000000\" font-family=\"sans-serif\" font-size=\"12\" font-style=\"italic\" lengthAdjust=\"spacingAndGlyphs\" textLength=\"69\" x=\"335.75\" y=\"62.6387\">«attribute»</text><text fill=\"#000000\" font-family=\"sans-serif\" font-size=\"12\" lengthAdjust=\"spacingAndGlyphs\" textLength=\"8\" x=\"366.25\" y=\"76.6074\">g</text></a></g><g id=\"E1.E7\"><a href=\"psysml:a48346b2-888a-436e-97f1-e60fac760a88\" target=\"_top\" title=\"psysml:a48346b2-888a-436e-97f1-e60fac760a88\" xlink:actuate=\"onRequest\" xlink:href=\"psysml:a48346b2-888a-436e-97f1-e60fac760a88\" xlink:show=\"new\" xlink:title=\"psysml:a48346b2-888a-436e-97f1-e60fac760a88\" xlink:type=\"simple\"><rect fill=\"#FEFECE\" filter=\"url(#f1we02ear94npx)\" height=\"42.9375\" id=\"E7\" rx=\"10\" ry=\"10\" style=\"stroke: #A80036; stroke-width: 1.5;\" width=\"102\" x=\"169\" y=\"46.5\"/><ellipse cx=\"186.25\" cy=\"65.4688\" fill=\"#0000FF\" rx=\"11\" ry=\"11\" style=\"stroke: #A80036; stroke-width: 1.0;\"/><path d=\"M187.0938,72.2188 L184.6406,72.2188 L184.6406,61.9688 L181.5,61.9688 L181.5,59.8281 L190.2344,59.8281 L190.2344,61.9688 L187.0938,61.9688 L187.0938,72.2188 Z \"/><text fill=\"#000000\" font-family=\"sans-serif\" font-size=\"12\" font-style=\"italic\" lengthAdjust=\"spacingAndGlyphs\" textLength=\"69\" x=\"198.75\" y=\"62.6387\">«attribute»</text><text fill=\"#000000\" font-family=\"sans-serif\" font-size=\"12\" lengthAdjust=\"spacingAndGlyphs\" textLength=\"8\" x=\"229.25\" y=\"76.6074\">b</text></a></g><g id=\"E1.E8\"><a href=\"psysml:952d2fa1-4eb4-490f-be08-21606a0b2581\" target=\"_top\" title=\"psysml:952d2fa1-4eb4-490f-be08-21606a0b2581\" xlink:actuate=\"onRequest\" xlink:href=\"psysml:952d2fa1-4eb4-490f-be08-21606a0b2581\" xlink:show=\"new\" xlink:title=\"psysml:952d2fa1-4eb4-490f-be08-21606a0b2581\" xlink:type=\"simple\"><rect fill=\"#FEFECE\" filter=\"url(#f1we02ear94npx)\" height=\"42.9375\" id=\"E8\" rx=\"10\" ry=\"10\" style=\"stroke: #A80036; stroke-width: 1.5;\" width=\"102\" x=\"32\" y=\"46.5\"/><ellipse cx=\"49.25\" cy=\"65.4688\" fill=\"#0000FF\" rx=\"11\" ry=\"11\" style=\"stroke: #A80036; stroke-width: 1.0;\"/><path d=\"M50.0938,72.2188 L47.6406,72.2188 L47.6406,61.9688 L44.5,61.9688 L44.5,59.8281 L53.2344,59.8281 L53.2344,61.9688 L50.0938,61.9688 L50.0938,72.2188 Z \"/><text fill=\"#000000\" font-family=\"sans-serif\" font-size=\"12\" font-style=\"italic\" lengthAdjust=\"spacingAndGlyphs\" textLength=\"69\" x=\"61.75\" y=\"62.6387\">«attribute»</text><text fill=\"#000000\" font-family=\"sans-serif\" font-size=\"12\" lengthAdjust=\"spacingAndGlyphs\" textLength=\"7\" x=\"92.75\" y=\"76.6074\">c</text></a></g><!--MD5=[8b592abe7c99edbca4ecb3ec2f535fa4]\n",
       "@startuml\r\n",
       "skinparam ranksep 8\r\n",
       "skinparam rectangle {\r\n",
       " backgroundColor<<block>> LightGreen\r\n",
       "}\r\n",
       " \r\n",
       "package \"ParameterTest\" as E1  [[psysml:934b4cb7-0388-44aa-8a43-948e0e0270d7 ]]  {\r\n",
       "def \"A\" as E2  <<(T,blue)attribute def>> [[psysml:129c5bc9-5e36-4fac-a06d-7961ccb64091 ]] \r\n",
       "rec usage \"a: A\" as E3  <<(T,blue)attribute>> [[psysml:50405f72-7bb1-41da-960b-ed203bf92c2d ]] {\r\n",
       "}\r\n",
       "def \"F\" as E4  <<(T,blue)calculation def>> [[psysml:84637ab1-2e14-49ab-80b7-3fb2aa846372 ]] \r\n",
       "rec usage \"f\" as E5  <<(T,blue)attribute>> [[psysml:88b39ab3-39a3-49e4-a823-2b19bc6cfd18 ]] {\r\n",
       "}\r\n",
       "rec usage \"g\" as E6  <<(T,blue)attribute>> [[psysml:3f28e8b6-a431-4098-a991-c6c646c27e19 ]] {\r\n",
       "}\r\n",
       "rec usage \"b\" as E7  <<(T,blue)attribute>> [[psysml:a48346b2-888a-436e-97f1-e60fac760a88 ]] {\r\n",
       "}\r\n",
       "rec usage \"c\" as E8  <<(T,blue)attribute>> [[psysml:952d2fa1-4eb4-490f-be08-21606a0b2581 ]] {\r\n",
       "}\r\n",
       "}\r\n",
       "@enduml\r\n",
       "\n",
       "PlantUML version 1.2020.13(Sat Jun 13 12:26:38 UTC 2020)\n",
       "(EPL source distribution)\n",
       "Java Runtime: OpenJDK Runtime Environment\n",
       "JVM: OpenJDK 64-Bit Server VM\n",
       "Default Encoding: UTF-8\n",
       "Language: en\n",
       "Country: null\n",
       "--></g></svg>"
      ]
     },
     "execution_count": 5,
     "metadata": {},
     "output_type": "execute_result"
    }
   ],
   "source": [
    "%viz --style=\"COMPTREE\" --view=\"Interconnection\" \"ParameterTest\""
   ]
  },
  {
   "cell_type": "code",
   "execution_count": 6,
   "id": "graphic-holder",
   "metadata": {
    "execution": {
     "iopub.execute_input": "2021-03-26T09:12:59.780223Z",
     "iopub.status.busy": "2021-03-26T09:12:59.779593Z",
     "iopub.status.idle": "2021-03-26T09:12:59.808156Z",
     "shell.execute_reply": "2021-03-26T09:12:59.807805Z"
    }
   },
   "outputs": [
    {
     "data": {
      "image/svg+xml": [
       "<?xml version=\"1.0\" encoding=\"UTF-8\" standalone=\"no\"?><svg xmlns=\"http://www.w3.org/2000/svg\" xmlns:xlink=\"http://www.w3.org/1999/xlink\" contentScriptType=\"application/ecmascript\" contentStyleType=\"text/css\" height=\"134px\" preserveAspectRatio=\"none\" style=\"width:174px;height:134px;\" version=\"1.1\" viewBox=\"0 0 174 134\" width=\"174px\" zoomAndPan=\"magnify\"><defs><filter height=\"300%\" id=\"f7utftadeb5qw\" width=\"300%\" x=\"-1\" y=\"-1\"><feGaussianBlur result=\"blurOut\" stdDeviation=\"2.0\"/><feColorMatrix in=\"blurOut\" result=\"blurOut2\" type=\"matrix\" values=\"0 0 0 0 0 0 0 0 0 0 0 0 0 0 0 0 0 0 .4 0\"/><feOffset dx=\"4.0\" dy=\"4.0\" in=\"blurOut2\" result=\"blurOut3\"/><feBlend in=\"SourceGraphic\" in2=\"blurOut3\" mode=\"normal\"/></filter></defs><g><!--MD5=[fbc87193dbaf4d95561dea2c320d4a47]\n",
       "cluster E1--><a href=\"psysml:84637ab1-2e14-49ab-80b7-3fb2aa846372\" target=\"_top\" title=\"psysml:84637ab1-2e14-49ab-80b7-3fb2aa846372\" xlink:actuate=\"onRequest\" xlink:href=\"psysml:84637ab1-2e14-49ab-80b7-3fb2aa846372\" xlink:show=\"new\" xlink:title=\"psysml:84637ab1-2e14-49ab-80b7-3fb2aa846372\" xlink:type=\"simple\"><rect fill=\"#FFFFFF\" filter=\"url(#f7utftadeb5qw)\" height=\"73\" id=\"E1\" style=\"stroke: #A80036; stroke-width: 1.5;\" width=\"148\" x=\"7\" y=\"42.0986\"/><rect fill=\"#FEFECE\" height=\"37.9375\" style=\"stroke: #A80036; stroke-width: 1.5;\" width=\"148\" x=\"7\" y=\"42.0986\"/><text fill=\"#000000\" font-family=\"sans-serif\" font-size=\"12\" font-style=\"italic\" lengthAdjust=\"spacingAndGlyphs\" textLength=\"106\" x=\"28\" y=\"58.2373\">«calculation def»</text><text fill=\"#000000\" font-family=\"sans-serif\" font-size=\"12\" lengthAdjust=\"spacingAndGlyphs\" textLength=\"7\" x=\"77.5\" y=\"72.2061\">F</text></a><text fill=\"#000000\" font-family=\"sans-serif\" font-size=\"14\" lengthAdjust=\"spacingAndGlyphs\" textLength=\"9\" x=\"20.5\" y=\"20.7969\">p</text><rect fill=\"#A80036\" height=\"12\" style=\"stroke: #FEFECE; stroke-width: 1.5;\" width=\"12\" x=\"19\" y=\"36.0986\"/><text fill=\"#000000\" font-family=\"sans-serif\" font-size=\"14\" lengthAdjust=\"spacingAndGlyphs\" textLength=\"9\" x=\"67.5\" y=\"20.7969\">q</text><rect fill=\"#A80036\" height=\"12\" style=\"stroke: #FEFECE; stroke-width: 1.5;\" width=\"12\" x=\"66\" y=\"36.0986\"/><!--MD5=[1f7fb10df046d28cc509c0aa53b32de6]\n",
       "@startuml\r\n",
       "skinparam ranksep 8\r\n",
       " \r\n",
       "rec def \"F\" as E1  <<(T,blue)calculation def>> [[psysml:84637ab1-2e14-49ab-80b7-3fb2aa846372 ]] {\r\n",
       "portin \"p\" as E2  [[psysml:64e82b47-cc13-4353-a930-54201d4c743b ]] \r\n",
       "portin \"q\" as E3  [[psysml:647ae971-dc5c-461d-bddf-e9c9561ef010 ]] \r\n",
       "}\r\n",
       "\r\n",
       "@enduml\r\n",
       "\n",
       "PlantUML version 1.2020.13(Sat Jun 13 12:26:38 UTC 2020)\n",
       "(EPL source distribution)\n",
       "Java Runtime: OpenJDK Runtime Environment\n",
       "JVM: OpenJDK 64-Bit Server VM\n",
       "Default Encoding: UTF-8\n",
       "Language: en\n",
       "Country: null\n",
       "--></g></svg>"
      ]
     },
     "execution_count": 6,
     "metadata": {},
     "output_type": "execute_result"
    }
   ],
   "source": [
    "%viz --style=\"COMPTREE\" --view=\"Action\" \"ParameterTest\""
   ]
  },
  {
   "cell_type": "code",
   "execution_count": 7,
   "id": "athletic-marketplace",
   "metadata": {
    "execution": {
     "iopub.execute_input": "2021-03-26T09:12:59.860368Z",
     "iopub.status.busy": "2021-03-26T09:12:59.859713Z",
     "iopub.status.idle": "2021-03-26T09:12:59.937154Z",
     "shell.execute_reply": "2021-03-26T09:12:59.935793Z"
    }
   },
   "outputs": [
    {
     "data": {
      "image/svg+xml": [
       "<?xml version=\"1.0\" encoding=\"UTF-8\" standalone=\"no\"?><svg xmlns=\"http://www.w3.org/2000/svg\" xmlns:xlink=\"http://www.w3.org/1999/xlink\" contentScriptType=\"application/ecmascript\" contentStyleType=\"text/css\" height=\"264px\" preserveAspectRatio=\"none\" style=\"width:864px;height:264px;\" version=\"1.1\" viewBox=\"0 0 864 264\" width=\"864px\" zoomAndPan=\"magnify\"><defs><filter height=\"300%\" id=\"fg3wjim0i0s3q\" width=\"300%\" x=\"-1\" y=\"-1\"><feGaussianBlur result=\"blurOut\" stdDeviation=\"2.0\"/><feColorMatrix in=\"blurOut\" result=\"blurOut2\" type=\"matrix\" values=\"0 0 0 0 0 0 0 0 0 0 0 0 0 0 0 0 0 0 .4 0\"/><feOffset dx=\"4.0\" dy=\"4.0\" in=\"blurOut2\" result=\"blurOut3\"/><feBlend in=\"SourceGraphic\" in2=\"blurOut3\" mode=\"normal\"/></filter></defs><g><!--MD5=[fbc87193dbaf4d95561dea2c320d4a47]\n",
       "cluster E1--><a href=\"psysml:934b4cb7-0388-44aa-8a43-948e0e0270d7\" target=\"_top\" title=\"psysml:934b4cb7-0388-44aa-8a43-948e0e0270d7\" xlink:actuate=\"onRequest\" xlink:href=\"psysml:934b4cb7-0388-44aa-8a43-948e0e0270d7\" xlink:show=\"new\" xlink:title=\"psysml:934b4cb7-0388-44aa-8a43-948e0e0270d7\" xlink:type=\"simple\"><polygon fill=\"#FFFFFF\" filter=\"url(#fg3wjim0i0s3q)\" points=\"16,6,139,6,146,28.2969,842,28.2969,842,252,16,252,16,6\" style=\"stroke: #000000; stroke-width: 1.5;\"/><line style=\"stroke: #000000; stroke-width: 1.5;\" x1=\"16\" x2=\"146\" y1=\"28.2969\" y2=\"28.2969\"/><text fill=\"#000000\" font-family=\"sans-serif\" font-size=\"14\" font-weight=\"bold\" lengthAdjust=\"spacingAndGlyphs\" textLength=\"117\" x=\"20\" y=\"20.9951\">ParameterTest</text></a><!--MD5=[b4997ac47864f28c2f74865a473b2911]\n",
       "class E2--><a href=\"psysml:129c5bc9-5e36-4fac-a06d-7961ccb64091\" target=\"_top\" title=\"psysml:129c5bc9-5e36-4fac-a06d-7961ccb64091\" xlink:actuate=\"onRequest\" xlink:href=\"psysml:129c5bc9-5e36-4fac-a06d-7961ccb64091\" xlink:show=\"new\" xlink:title=\"psysml:129c5bc9-5e36-4fac-a06d-7961ccb64091\" xlink:type=\"simple\"><rect fill=\"#FEFECE\" filter=\"url(#fg3wjim0i0s3q)\" height=\"71.5469\" id=\"E2\" style=\"stroke: #A80036; stroke-width: 1.5;\" width=\"121\" x=\"642.5\" y=\"164\"/><ellipse cx=\"657.5\" cy=\"182.9688\" fill=\"#0000FF\" rx=\"11\" ry=\"11\" style=\"stroke: #A80036; stroke-width: 1.0;\"/><path d=\"M658.3438,189.7188 L655.8906,189.7188 L655.8906,179.4688 L652.75,179.4688 L652.75,177.3281 L661.4844,177.3281 L661.4844,179.4688 L658.3438,179.4688 L658.3438,189.7188 Z \"/><text fill=\"#000000\" font-family=\"sans-serif\" font-size=\"12\" font-style=\"italic\" lengthAdjust=\"spacingAndGlyphs\" textLength=\"93\" x=\"669.5\" y=\"180.1387\">«attribute def»</text><text fill=\"#000000\" font-family=\"sans-serif\" font-size=\"12\" lengthAdjust=\"spacingAndGlyphs\" textLength=\"8\" x=\"712\" y=\"194.1074\">A</text><line style=\"stroke: #A80036; stroke-width: 1.5;\" x1=\"643.5\" x2=\"762.5\" y1=\"201.9375\" y2=\"201.9375\"/><text fill=\"#000000\" font-family=\"sans-serif\" font-size=\"11\" lengthAdjust=\"spacingAndGlyphs\" textLength=\"48\" x=\"648.5\" y=\"216.1479\">x: String</text><text fill=\"#000000\" font-family=\"sans-serif\" font-size=\"11\" lengthAdjust=\"spacingAndGlyphs\" textLength=\"21\" x=\"648.5\" y=\"228.9526\">y: A</text></a><!--MD5=[09b614a08d8cba4a07c9adeb5e0fee81]\n",
       "class E3--><a href=\"psysml:50405f72-7bb1-41da-960b-ed203bf92c2d\" target=\"_top\" title=\"psysml:50405f72-7bb1-41da-960b-ed203bf92c2d\" xlink:actuate=\"onRequest\" xlink:href=\"psysml:50405f72-7bb1-41da-960b-ed203bf92c2d\" xlink:show=\"new\" xlink:title=\"psysml:50405f72-7bb1-41da-960b-ed203bf92c2d\" xlink:type=\"simple\"><rect fill=\"#FEFECE\" filter=\"url(#fg3wjim0i0s3q)\" height=\"45.9375\" id=\"E3\" rx=\"10\" ry=\"10\" style=\"stroke: #A80036; stroke-width: 1.5;\" width=\"97\" x=\"729.5\" y=\"41\"/><ellipse cx=\"744.5\" cy=\"59.9688\" fill=\"#0000FF\" rx=\"11\" ry=\"11\" style=\"stroke: #A80036; stroke-width: 1.0;\"/><path d=\"M745.3438,66.7188 L742.8906,66.7188 L742.8906,56.4688 L739.75,56.4688 L739.75,54.3281 L748.4844,54.3281 L748.4844,56.4688 L745.3438,56.4688 L745.3438,66.7188 Z \"/><text fill=\"#000000\" font-family=\"sans-serif\" font-size=\"12\" font-style=\"italic\" lengthAdjust=\"spacingAndGlyphs\" textLength=\"69\" x=\"756.5\" y=\"57.1387\">«attribute»</text><text fill=\"#000000\" font-family=\"sans-serif\" font-size=\"12\" lengthAdjust=\"spacingAndGlyphs\" textLength=\"24\" x=\"779\" y=\"71.1074\">a: A</text><line style=\"stroke: #A80036; stroke-width: 1.5;\" x1=\"730.5\" x2=\"825.5\" y1=\"78.9375\" y2=\"78.9375\"/></a><!--MD5=[ebbe1d658d1005bcc118a6aa81145e00]\n",
       "class E4--><a href=\"psysml:84637ab1-2e14-49ab-80b7-3fb2aa846372\" target=\"_top\" title=\"psysml:84637ab1-2e14-49ab-80b7-3fb2aa846372\" xlink:actuate=\"onRequest\" xlink:href=\"psysml:84637ab1-2e14-49ab-80b7-3fb2aa846372\" xlink:show=\"new\" xlink:title=\"psysml:84637ab1-2e14-49ab-80b7-3fb2aa846372\" xlink:type=\"simple\"><rect fill=\"#FEFECE\" filter=\"url(#fg3wjim0i0s3q)\" height=\"45.9375\" id=\"E4\" style=\"stroke: #A80036; stroke-width: 1.5;\" width=\"134\" x=\"560\" y=\"41\"/><ellipse cx=\"575\" cy=\"59.9688\" fill=\"#0000FF\" rx=\"11\" ry=\"11\" style=\"stroke: #A80036; stroke-width: 1.0;\"/><path d=\"M575.8438,66.7188 L573.3906,66.7188 L573.3906,56.4688 L570.25,56.4688 L570.25,54.3281 L578.9844,54.3281 L578.9844,56.4688 L575.8438,56.4688 L575.8438,66.7188 Z \"/><text fill=\"#000000\" font-family=\"sans-serif\" font-size=\"12\" font-style=\"italic\" lengthAdjust=\"spacingAndGlyphs\" textLength=\"106\" x=\"587\" y=\"57.1387\">«calculation def»</text><text fill=\"#000000\" font-family=\"sans-serif\" font-size=\"12\" lengthAdjust=\"spacingAndGlyphs\" textLength=\"7\" x=\"636.5\" y=\"71.1074\">F</text><line style=\"stroke: #A80036; stroke-width: 1.5;\" x1=\"561\" x2=\"693\" y1=\"78.9375\" y2=\"78.9375\"/></a><!--MD5=[270fce915f116d4de14055a7c1d9a0f3]\n",
       "class E5--><a href=\"psysml:88b39ab3-39a3-49e4-a823-2b19bc6cfd18\" target=\"_top\" title=\"psysml:88b39ab3-39a3-49e4-a823-2b19bc6cfd18\" xlink:actuate=\"onRequest\" xlink:href=\"psysml:88b39ab3-39a3-49e4-a823-2b19bc6cfd18\" xlink:show=\"new\" xlink:title=\"psysml:88b39ab3-39a3-49e4-a823-2b19bc6cfd18\" xlink:type=\"simple\"><rect fill=\"#FEFECE\" filter=\"url(#fg3wjim0i0s3q)\" height=\"45.9375\" id=\"E5\" rx=\"10\" ry=\"10\" style=\"stroke: #A80036; stroke-width: 1.5;\" width=\"97\" x=\"427.5\" y=\"41\"/><ellipse cx=\"442.5\" cy=\"59.9688\" fill=\"#0000FF\" rx=\"11\" ry=\"11\" style=\"stroke: #A80036; stroke-width: 1.0;\"/><path d=\"M443.3438,66.7188 L440.8906,66.7188 L440.8906,56.4688 L437.75,56.4688 L437.75,54.3281 L446.4844,54.3281 L446.4844,56.4688 L443.3438,56.4688 L443.3438,66.7188 Z \"/><text fill=\"#000000\" font-family=\"sans-serif\" font-size=\"12\" font-style=\"italic\" lengthAdjust=\"spacingAndGlyphs\" textLength=\"69\" x=\"454.5\" y=\"57.1387\">«attribute»</text><text fill=\"#000000\" font-family=\"sans-serif\" font-size=\"12\" lengthAdjust=\"spacingAndGlyphs\" textLength=\"4\" x=\"487\" y=\"71.1074\">f</text><line style=\"stroke: #A80036; stroke-width: 1.5;\" x1=\"428.5\" x2=\"523.5\" y1=\"78.9375\" y2=\"78.9375\"/></a><!--MD5=[60a26617385b1d2d0262a64233df1f8d]\n",
       "class E6--><a href=\"psysml:3f28e8b6-a431-4098-a991-c6c646c27e19\" target=\"_top\" title=\"psysml:3f28e8b6-a431-4098-a991-c6c646c27e19\" xlink:actuate=\"onRequest\" xlink:href=\"psysml:3f28e8b6-a431-4098-a991-c6c646c27e19\" xlink:show=\"new\" xlink:title=\"psysml:3f28e8b6-a431-4098-a991-c6c646c27e19\" xlink:type=\"simple\"><rect fill=\"#FEFECE\" filter=\"url(#fg3wjim0i0s3q)\" height=\"45.9375\" id=\"E6\" rx=\"10\" ry=\"10\" style=\"stroke: #A80036; stroke-width: 1.5;\" width=\"97\" x=\"295.5\" y=\"41\"/><ellipse cx=\"310.5\" cy=\"59.9688\" fill=\"#0000FF\" rx=\"11\" ry=\"11\" style=\"stroke: #A80036; stroke-width: 1.0;\"/><path d=\"M311.3438,66.7188 L308.8906,66.7188 L308.8906,56.4688 L305.75,56.4688 L305.75,54.3281 L314.4844,54.3281 L314.4844,56.4688 L311.3438,56.4688 L311.3438,66.7188 Z \"/><text fill=\"#000000\" font-family=\"sans-serif\" font-size=\"12\" font-style=\"italic\" lengthAdjust=\"spacingAndGlyphs\" textLength=\"69\" x=\"322.5\" y=\"57.1387\">«attribute»</text><text fill=\"#000000\" font-family=\"sans-serif\" font-size=\"12\" lengthAdjust=\"spacingAndGlyphs\" textLength=\"8\" x=\"353\" y=\"71.1074\">g</text><line style=\"stroke: #A80036; stroke-width: 1.5;\" x1=\"296.5\" x2=\"391.5\" y1=\"78.9375\" y2=\"78.9375\"/></a><!--MD5=[2156ba9850f5573cc1fc38a6a4b2f02b]\n",
       "class E7--><a href=\"psysml:a48346b2-888a-436e-97f1-e60fac760a88\" target=\"_top\" title=\"psysml:a48346b2-888a-436e-97f1-e60fac760a88\" xlink:actuate=\"onRequest\" xlink:href=\"psysml:a48346b2-888a-436e-97f1-e60fac760a88\" xlink:show=\"new\" xlink:title=\"psysml:a48346b2-888a-436e-97f1-e60fac760a88\" xlink:type=\"simple\"><rect fill=\"#FEFECE\" filter=\"url(#fg3wjim0i0s3q)\" height=\"45.9375\" id=\"E7\" rx=\"10\" ry=\"10\" style=\"stroke: #A80036; stroke-width: 1.5;\" width=\"97\" x=\"163.5\" y=\"41\"/><ellipse cx=\"178.5\" cy=\"59.9688\" fill=\"#0000FF\" rx=\"11\" ry=\"11\" style=\"stroke: #A80036; stroke-width: 1.0;\"/><path d=\"M179.3438,66.7188 L176.8906,66.7188 L176.8906,56.4688 L173.75,56.4688 L173.75,54.3281 L182.4844,54.3281 L182.4844,56.4688 L179.3438,56.4688 L179.3438,66.7188 Z \"/><text fill=\"#000000\" font-family=\"sans-serif\" font-size=\"12\" font-style=\"italic\" lengthAdjust=\"spacingAndGlyphs\" textLength=\"69\" x=\"190.5\" y=\"57.1387\">«attribute»</text><text fill=\"#000000\" font-family=\"sans-serif\" font-size=\"12\" lengthAdjust=\"spacingAndGlyphs\" textLength=\"8\" x=\"221\" y=\"71.1074\">b</text><line style=\"stroke: #A80036; stroke-width: 1.5;\" x1=\"164.5\" x2=\"259.5\" y1=\"78.9375\" y2=\"78.9375\"/></a><!--MD5=[b9389687b975829384b498ac4b7476b2]\n",
       "class E8--><a href=\"psysml:952d2fa1-4eb4-490f-be08-21606a0b2581\" target=\"_top\" title=\"psysml:952d2fa1-4eb4-490f-be08-21606a0b2581\" xlink:actuate=\"onRequest\" xlink:href=\"psysml:952d2fa1-4eb4-490f-be08-21606a0b2581\" xlink:show=\"new\" xlink:title=\"psysml:952d2fa1-4eb4-490f-be08-21606a0b2581\" xlink:type=\"simple\"><rect fill=\"#FEFECE\" filter=\"url(#fg3wjim0i0s3q)\" height=\"45.9375\" id=\"E8\" rx=\"10\" ry=\"10\" style=\"stroke: #A80036; stroke-width: 1.5;\" width=\"97\" x=\"31.5\" y=\"41\"/><ellipse cx=\"46.5\" cy=\"59.9688\" fill=\"#0000FF\" rx=\"11\" ry=\"11\" style=\"stroke: #A80036; stroke-width: 1.0;\"/><path d=\"M47.3438,66.7188 L44.8906,66.7188 L44.8906,56.4688 L41.75,56.4688 L41.75,54.3281 L50.4844,54.3281 L50.4844,56.4688 L47.3438,56.4688 L47.3438,66.7188 Z \"/><text fill=\"#000000\" font-family=\"sans-serif\" font-size=\"12\" font-style=\"italic\" lengthAdjust=\"spacingAndGlyphs\" textLength=\"69\" x=\"58.5\" y=\"57.1387\">«attribute»</text><text fill=\"#000000\" font-family=\"sans-serif\" font-size=\"12\" lengthAdjust=\"spacingAndGlyphs\" textLength=\"7\" x=\"89.5\" y=\"71.1074\">c</text><line style=\"stroke: #A80036; stroke-width: 1.5;\" x1=\"32.5\" x2=\"127.5\" y1=\"78.9375\" y2=\"78.9375\"/></a><!--MD5=[05d275557350bfb9b23a4ef7222b4c39]\n",
       "link E3 to E2--><a href=\"psysml:7569b902-ac88-47a0-a36a-be78510f169c\" target=\"_top\" title=\"psysml:7569b902-ac88-47a0-a36a-be78510f169c\" xlink:actuate=\"onRequest\" xlink:href=\"psysml:7569b902-ac88-47a0-a36a-be78510f169c\" xlink:show=\"new\" xlink:title=\"psysml:7569b902-ac88-47a0-a36a-be78510f169c\" xlink:type=\"simple\"><path d=\"M765.62,87.13 C756.62,103.2 744.05,125.65 732.54,146.23 \" fill=\"none\" id=\"E3-&gt;E2\" style=\"stroke: #A80036; stroke-width: 1.0;\"/><polygon fill=\"#FFFFFF\" points=\"722.6,163.99,725.7664,143.9907,737.9848,150.8253,722.6,163.99\" style=\"stroke: #A80036; stroke-width: 1.0;\"/><ellipse cx=\"730.2946\" cy=\"139.9924\" fill=\"#A80036\" rx=\"2\" ry=\"2\" style=\"stroke: #A80036; stroke-width: 1.0;\"/><ellipse cx=\"739.022\" cy=\"144.8743\" fill=\"#A80036\" rx=\"2\" ry=\"2\" style=\"stroke: #A80036; stroke-width: 1.0;\"/></a><!--MD5=[ddeed8deb2209213b62e6cfabaa108b2]\n",
       "reverse link E4 to E2--><a href=\"psysml:64e82b47-cc13-4353-a930-54201d4c743b\" target=\"_top\" title=\"psysml:64e82b47-cc13-4353-a930-54201d4c743b\" xlink:actuate=\"onRequest\" xlink:href=\"psysml:64e82b47-cc13-4353-a930-54201d4c743b\" xlink:show=\"new\" xlink:title=\"psysml:64e82b47-cc13-4353-a930-54201d4c743b\" xlink:type=\"simple\"><path d=\"M645.99,98.48 C657.31,118.44 671.67,143.76 683.14,163.99 \" fill=\"none\" id=\"E4&lt;-E2\" style=\"stroke: #A80036; stroke-width: 1.0;\"/><polygon fill=\"#FFFFFF\" points=\"639.55,87.13,639.0333,94.3226,645.4738,97.5659,645.9905,90.3734,639.55,87.13\" style=\"stroke: #A80036; stroke-width: 1.0;\"/><text fill=\"#000000\" font-family=\"sans-serif\" font-size=\"13\" lengthAdjust=\"spacingAndGlyphs\" textLength=\"8\" x=\"666\" y=\"130.0669\">p</text></a><!--MD5=[5a8dfd9c4a78a3cd29a02b3d424eb238]\n",
       "@startuml\r\n",
       " \r\n",
       "package \"ParameterTest\" as E1  [[psysml:934b4cb7-0388-44aa-8a43-948e0e0270d7 ]]  {\r\n",
       "comp def \"A\" as E2  <<(T,blue)attribute def>> [[psysml:129c5bc9-5e36-4fac-a06d-7961ccb64091 ]] {\r\n",
       "x: String\r\n",
       "y: A\r\n",
       "}\r\n",
       "comp usage \"a: A\" as E3  <<(T,blue)attribute>> [[psysml:50405f72-7bb1-41da-960b-ed203bf92c2d ]] {\r\n",
       "}\r\n",
       "comp def \"F\" as E4  <<(T,blue)calculation def>> [[psysml:84637ab1-2e14-49ab-80b7-3fb2aa846372 ]] {\r\n",
       "}\r\n",
       "comp usage \"f\" as E5  <<(T,blue)attribute>> [[psysml:88b39ab3-39a3-49e4-a823-2b19bc6cfd18 ]] {\r\n",
       "}\r\n",
       "comp usage \"g\" as E6  <<(T,blue)attribute>> [[psysml:3f28e8b6-a431-4098-a991-c6c646c27e19 ]] {\r\n",
       "}\r\n",
       "comp usage \"b\" as E7  <<(T,blue)attribute>> [[psysml:a48346b2-888a-436e-97f1-e60fac760a88 ]] {\r\n",
       "}\r\n",
       "comp usage \"c\" as E8  <<(T,blue)attribute>> [[psysml:952d2fa1-4eb4-490f-be08-21606a0b2581 ]] {\r\n",
       "}\r\n",
       "E3 - -:|> E2 [[psysml:7569b902-ac88-47a0-a36a-be78510f169c ]] \r\n",
       "E4 o- - E2 [[psysml:64e82b47-cc13-4353-a930-54201d4c743b ]] : p\r\n",
       "}\r\n",
       "@enduml\r\n",
       "\n",
       "PlantUML version 1.2020.13(Sat Jun 13 12:26:38 UTC 2020)\n",
       "(EPL source distribution)\n",
       "Java Runtime: OpenJDK Runtime Environment\n",
       "JVM: OpenJDK 64-Bit Server VM\n",
       "Default Encoding: UTF-8\n",
       "Language: en\n",
       "Country: null\n",
       "--></g></svg>"
      ]
     },
     "execution_count": 7,
     "metadata": {},
     "output_type": "execute_result"
    }
   ],
   "source": [
    "%viz --style=\"COMPTREE\" --view=\"Sequence\" \"ParameterTest\""
   ]
  },
  {
   "cell_type": "code",
   "execution_count": 8,
   "id": "assigned-basics",
   "metadata": {
    "execution": {
     "iopub.execute_input": "2021-03-26T09:12:59.990666Z",
     "iopub.status.busy": "2021-03-26T09:12:59.989843Z",
     "iopub.status.idle": "2021-03-26T09:13:00.054281Z",
     "shell.execute_reply": "2021-03-26T09:13:00.051446Z"
    }
   },
   "outputs": [
    {
     "data": {
      "image/svg+xml": [
       "<?xml version=\"1.0\" encoding=\"UTF-8\" standalone=\"no\"?><svg xmlns=\"http://www.w3.org/2000/svg\" xmlns:xlink=\"http://www.w3.org/1999/xlink\" contentScriptType=\"application/ecmascript\" contentStyleType=\"text/css\" height=\"247px\" preserveAspectRatio=\"none\" style=\"width:868px;height:247px;\" version=\"1.1\" viewBox=\"0 0 868 247\" width=\"868px\" zoomAndPan=\"magnify\"><defs><filter height=\"300%\" id=\"fyi5syyhhkwur\" width=\"300%\" x=\"-1\" y=\"-1\"><feGaussianBlur result=\"blurOut\" stdDeviation=\"2.0\"/><feColorMatrix in=\"blurOut\" result=\"blurOut2\" type=\"matrix\" values=\"0 0 0 0 0 0 0 0 0 0 0 0 0 0 0 0 0 0 .4 0\"/><feOffset dx=\"4.0\" dy=\"4.0\" in=\"blurOut2\" result=\"blurOut3\"/><feBlend in=\"SourceGraphic\" in2=\"blurOut3\" mode=\"normal\"/></filter></defs><g><!--MD5=[fbc87193dbaf4d95561dea2c320d4a47]\n",
       "cluster E1--><a href=\"psysml:934b4cb7-0388-44aa-8a43-948e0e0270d7\" target=\"_top\" title=\"psysml:934b4cb7-0388-44aa-8a43-948e0e0270d7\" xlink:actuate=\"onRequest\" xlink:href=\"psysml:934b4cb7-0388-44aa-8a43-948e0e0270d7\" xlink:show=\"new\" xlink:title=\"psysml:934b4cb7-0388-44aa-8a43-948e0e0270d7\" xlink:type=\"simple\"><polygon fill=\"#FFFFFF\" filter=\"url(#fyi5syyhhkwur)\" points=\"16,6,139,6,146,28.2969,846,28.2969,846,235,16,235,16,6\" style=\"stroke: #000000; stroke-width: 1.5;\"/><line style=\"stroke: #000000; stroke-width: 1.5;\" x1=\"16\" x2=\"146\" y1=\"28.2969\" y2=\"28.2969\"/><text fill=\"#000000\" font-family=\"sans-serif\" font-size=\"14\" font-weight=\"bold\" lengthAdjust=\"spacingAndGlyphs\" textLength=\"117\" x=\"20\" y=\"20.9951\">ParameterTest</text></a><!--MD5=[f6df4d0ebaf0b5dfb2ced0ae5af7c670]\n",
       "cluster E4--><a href=\"psysml:84637ab1-2e14-49ab-80b7-3fb2aa846372\" target=\"_top\" title=\"psysml:84637ab1-2e14-49ab-80b7-3fb2aa846372\" xlink:actuate=\"onRequest\" xlink:href=\"psysml:84637ab1-2e14-49ab-80b7-3fb2aa846372\" xlink:show=\"new\" xlink:title=\"psysml:84637ab1-2e14-49ab-80b7-3fb2aa846372\" xlink:type=\"simple\"><rect fill=\"#FFFFFF\" filter=\"url(#fyi5syyhhkwur)\" height=\"152.5\" id=\"E4\" style=\"stroke: #A80036; stroke-width: 1.5;\" width=\"148\" x=\"682\" y=\"64\"/><rect fill=\"#FEFECE\" height=\"37.9375\" style=\"stroke: #A80036; stroke-width: 1.5;\" width=\"148\" x=\"682\" y=\"64\"/><text fill=\"#000000\" font-family=\"sans-serif\" font-size=\"12\" font-style=\"italic\" lengthAdjust=\"spacingAndGlyphs\" textLength=\"106\" x=\"703\" y=\"80.1387\">«calculation def»</text><text fill=\"#000000\" font-family=\"sans-serif\" font-size=\"12\" lengthAdjust=\"spacingAndGlyphs\" textLength=\"7\" x=\"752.5\" y=\"94.1074\">F</text></a><!--MD5=[b4997ac47864f28c2f74865a473b2911]\n",
       "class E2--><a href=\"psysml:129c5bc9-5e36-4fac-a06d-7961ccb64091\" target=\"_top\" title=\"psysml:129c5bc9-5e36-4fac-a06d-7961ccb64091\" xlink:actuate=\"onRequest\" xlink:href=\"psysml:129c5bc9-5e36-4fac-a06d-7961ccb64091\" xlink:show=\"new\" xlink:title=\"psysml:129c5bc9-5e36-4fac-a06d-7961ccb64091\" xlink:type=\"simple\"><rect fill=\"#FEFECE\" filter=\"url(#fyi5syyhhkwur)\" height=\"71.5469\" id=\"E2\" style=\"stroke: #A80036; stroke-width: 1.5;\" width=\"121\" x=\"524.5\" y=\"147\"/><ellipse cx=\"539.5\" cy=\"165.9688\" fill=\"#0000FF\" rx=\"11\" ry=\"11\" style=\"stroke: #A80036; stroke-width: 1.0;\"/><path d=\"M540.3438,172.7188 L537.8906,172.7188 L537.8906,162.4688 L534.75,162.4688 L534.75,160.3281 L543.4844,160.3281 L543.4844,162.4688 L540.3438,162.4688 L540.3438,172.7188 Z \"/><text fill=\"#000000\" font-family=\"sans-serif\" font-size=\"12\" font-style=\"italic\" lengthAdjust=\"spacingAndGlyphs\" textLength=\"93\" x=\"551.5\" y=\"163.1387\">«attribute def»</text><text fill=\"#000000\" font-family=\"sans-serif\" font-size=\"12\" lengthAdjust=\"spacingAndGlyphs\" textLength=\"8\" x=\"594\" y=\"177.1074\">A</text><line style=\"stroke: #A80036; stroke-width: 1.5;\" x1=\"525.5\" x2=\"644.5\" y1=\"184.9375\" y2=\"184.9375\"/><text fill=\"#000000\" font-family=\"sans-serif\" font-size=\"11\" lengthAdjust=\"spacingAndGlyphs\" textLength=\"48\" x=\"530.5\" y=\"199.1479\">x: String</text><text fill=\"#000000\" font-family=\"sans-serif\" font-size=\"11\" lengthAdjust=\"spacingAndGlyphs\" textLength=\"21\" x=\"530.5\" y=\"211.9526\">y: A</text></a><!--MD5=[09b614a08d8cba4a07c9adeb5e0fee81]\n",
       "class E3--><a href=\"psysml:50405f72-7bb1-41da-960b-ed203bf92c2d\" target=\"_top\" title=\"psysml:50405f72-7bb1-41da-960b-ed203bf92c2d\" xlink:actuate=\"onRequest\" xlink:href=\"psysml:50405f72-7bb1-41da-960b-ed203bf92c2d\" xlink:show=\"new\" xlink:title=\"psysml:50405f72-7bb1-41da-960b-ed203bf92c2d\" xlink:type=\"simple\"><rect fill=\"#FEFECE\" filter=\"url(#fyi5syyhhkwur)\" height=\"45.9375\" id=\"E3\" rx=\"10\" ry=\"10\" style=\"stroke: #A80036; stroke-width: 1.5;\" width=\"97\" x=\"559.5\" y=\"41\"/><ellipse cx=\"574.5\" cy=\"59.9688\" fill=\"#0000FF\" rx=\"11\" ry=\"11\" style=\"stroke: #A80036; stroke-width: 1.0;\"/><path d=\"M575.3438,66.7188 L572.8906,66.7188 L572.8906,56.4688 L569.75,56.4688 L569.75,54.3281 L578.4844,54.3281 L578.4844,56.4688 L575.3438,56.4688 L575.3438,66.7188 Z \"/><text fill=\"#000000\" font-family=\"sans-serif\" font-size=\"12\" font-style=\"italic\" lengthAdjust=\"spacingAndGlyphs\" textLength=\"69\" x=\"586.5\" y=\"57.1387\">«attribute»</text><text fill=\"#000000\" font-family=\"sans-serif\" font-size=\"12\" lengthAdjust=\"spacingAndGlyphs\" textLength=\"24\" x=\"609\" y=\"71.1074\">a: A</text><line style=\"stroke: #A80036; stroke-width: 1.5;\" x1=\"560.5\" x2=\"655.5\" y1=\"78.9375\" y2=\"78.9375\"/></a><!--MD5=[2156ba9850f5573cc1fc38a6a4b2f02b]\n",
       "class E7--><a href=\"psysml:88b39ab3-39a3-49e4-a823-2b19bc6cfd18\" target=\"_top\" title=\"psysml:88b39ab3-39a3-49e4-a823-2b19bc6cfd18\" xlink:actuate=\"onRequest\" xlink:href=\"psysml:88b39ab3-39a3-49e4-a823-2b19bc6cfd18\" xlink:show=\"new\" xlink:title=\"psysml:88b39ab3-39a3-49e4-a823-2b19bc6cfd18\" xlink:type=\"simple\"><rect fill=\"#FEFECE\" filter=\"url(#fyi5syyhhkwur)\" height=\"45.9375\" id=\"E7\" rx=\"10\" ry=\"10\" style=\"stroke: #A80036; stroke-width: 1.5;\" width=\"97\" x=\"427.5\" y=\"41\"/><ellipse cx=\"442.5\" cy=\"59.9688\" fill=\"#0000FF\" rx=\"11\" ry=\"11\" style=\"stroke: #A80036; stroke-width: 1.0;\"/><path d=\"M443.3438,66.7188 L440.8906,66.7188 L440.8906,56.4688 L437.75,56.4688 L437.75,54.3281 L446.4844,54.3281 L446.4844,56.4688 L443.3438,56.4688 L443.3438,66.7188 Z \"/><text fill=\"#000000\" font-family=\"sans-serif\" font-size=\"12\" font-style=\"italic\" lengthAdjust=\"spacingAndGlyphs\" textLength=\"69\" x=\"454.5\" y=\"57.1387\">«attribute»</text><text fill=\"#000000\" font-family=\"sans-serif\" font-size=\"12\" lengthAdjust=\"spacingAndGlyphs\" textLength=\"4\" x=\"487\" y=\"71.1074\">f</text><line style=\"stroke: #A80036; stroke-width: 1.5;\" x1=\"428.5\" x2=\"523.5\" y1=\"78.9375\" y2=\"78.9375\"/></a><!--MD5=[b9389687b975829384b498ac4b7476b2]\n",
       "class E8--><a href=\"psysml:3f28e8b6-a431-4098-a991-c6c646c27e19\" target=\"_top\" title=\"psysml:3f28e8b6-a431-4098-a991-c6c646c27e19\" xlink:actuate=\"onRequest\" xlink:href=\"psysml:3f28e8b6-a431-4098-a991-c6c646c27e19\" xlink:show=\"new\" xlink:title=\"psysml:3f28e8b6-a431-4098-a991-c6c646c27e19\" xlink:type=\"simple\"><rect fill=\"#FEFECE\" filter=\"url(#fyi5syyhhkwur)\" height=\"45.9375\" id=\"E8\" rx=\"10\" ry=\"10\" style=\"stroke: #A80036; stroke-width: 1.5;\" width=\"97\" x=\"295.5\" y=\"41\"/><ellipse cx=\"310.5\" cy=\"59.9688\" fill=\"#0000FF\" rx=\"11\" ry=\"11\" style=\"stroke: #A80036; stroke-width: 1.0;\"/><path d=\"M311.3438,66.7188 L308.8906,66.7188 L308.8906,56.4688 L305.75,56.4688 L305.75,54.3281 L314.4844,54.3281 L314.4844,56.4688 L311.3438,56.4688 L311.3438,66.7188 Z \"/><text fill=\"#000000\" font-family=\"sans-serif\" font-size=\"12\" font-style=\"italic\" lengthAdjust=\"spacingAndGlyphs\" textLength=\"69\" x=\"322.5\" y=\"57.1387\">«attribute»</text><text fill=\"#000000\" font-family=\"sans-serif\" font-size=\"12\" lengthAdjust=\"spacingAndGlyphs\" textLength=\"8\" x=\"353\" y=\"71.1074\">g</text><line style=\"stroke: #A80036; stroke-width: 1.5;\" x1=\"296.5\" x2=\"391.5\" y1=\"78.9375\" y2=\"78.9375\"/></a><!--MD5=[fd4143e9d270a159db93a4ea2a975926]\n",
       "class E9--><a href=\"psysml:a48346b2-888a-436e-97f1-e60fac760a88\" target=\"_top\" title=\"psysml:a48346b2-888a-436e-97f1-e60fac760a88\" xlink:actuate=\"onRequest\" xlink:href=\"psysml:a48346b2-888a-436e-97f1-e60fac760a88\" xlink:show=\"new\" xlink:title=\"psysml:a48346b2-888a-436e-97f1-e60fac760a88\" xlink:type=\"simple\"><rect fill=\"#FEFECE\" filter=\"url(#fyi5syyhhkwur)\" height=\"45.9375\" id=\"E9\" rx=\"10\" ry=\"10\" style=\"stroke: #A80036; stroke-width: 1.5;\" width=\"97\" x=\"163.5\" y=\"41\"/><ellipse cx=\"178.5\" cy=\"59.9688\" fill=\"#0000FF\" rx=\"11\" ry=\"11\" style=\"stroke: #A80036; stroke-width: 1.0;\"/><path d=\"M179.3438,66.7188 L176.8906,66.7188 L176.8906,56.4688 L173.75,56.4688 L173.75,54.3281 L182.4844,54.3281 L182.4844,56.4688 L179.3438,56.4688 L179.3438,66.7188 Z \"/><text fill=\"#000000\" font-family=\"sans-serif\" font-size=\"12\" font-style=\"italic\" lengthAdjust=\"spacingAndGlyphs\" textLength=\"69\" x=\"190.5\" y=\"57.1387\">«attribute»</text><text fill=\"#000000\" font-family=\"sans-serif\" font-size=\"12\" lengthAdjust=\"spacingAndGlyphs\" textLength=\"8\" x=\"221\" y=\"71.1074\">b</text><line style=\"stroke: #A80036; stroke-width: 1.5;\" x1=\"164.5\" x2=\"259.5\" y1=\"78.9375\" y2=\"78.9375\"/></a><!--MD5=[96f4274e9e20536e775497830990834d]\n",
       "class E10--><a href=\"psysml:952d2fa1-4eb4-490f-be08-21606a0b2581\" target=\"_top\" title=\"psysml:952d2fa1-4eb4-490f-be08-21606a0b2581\" xlink:actuate=\"onRequest\" xlink:href=\"psysml:952d2fa1-4eb4-490f-be08-21606a0b2581\" xlink:show=\"new\" xlink:title=\"psysml:952d2fa1-4eb4-490f-be08-21606a0b2581\" xlink:type=\"simple\"><rect fill=\"#FEFECE\" filter=\"url(#fyi5syyhhkwur)\" height=\"45.9375\" id=\"E10\" rx=\"10\" ry=\"10\" style=\"stroke: #A80036; stroke-width: 1.5;\" width=\"97\" x=\"31.5\" y=\"41\"/><ellipse cx=\"46.5\" cy=\"59.9688\" fill=\"#0000FF\" rx=\"11\" ry=\"11\" style=\"stroke: #A80036; stroke-width: 1.0;\"/><path d=\"M47.3438,66.7188 L44.8906,66.7188 L44.8906,56.4688 L41.75,56.4688 L41.75,54.3281 L50.4844,54.3281 L50.4844,56.4688 L47.3438,56.4688 L47.3438,66.7188 Z \"/><text fill=\"#000000\" font-family=\"sans-serif\" font-size=\"12\" font-style=\"italic\" lengthAdjust=\"spacingAndGlyphs\" textLength=\"69\" x=\"58.5\" y=\"57.1387\">«attribute»</text><text fill=\"#000000\" font-family=\"sans-serif\" font-size=\"12\" lengthAdjust=\"spacingAndGlyphs\" textLength=\"7\" x=\"89.5\" y=\"71.1074\">c</text><line style=\"stroke: #A80036; stroke-width: 1.5;\" x1=\"32.5\" x2=\"127.5\" y1=\"78.9375\" y2=\"78.9375\"/></a><text fill=\"#000000\" font-family=\"sans-serif\" font-size=\"14\" lengthAdjust=\"spacingAndGlyphs\" textLength=\"9\" x=\"695.5\" y=\"42.6982\">p</text><rect fill=\"#A80036\" height=\"12\" style=\"stroke: #FEFECE; stroke-width: 1.5;\" width=\"12\" x=\"694\" y=\"58\"/><text fill=\"#000000\" font-family=\"sans-serif\" font-size=\"14\" lengthAdjust=\"spacingAndGlyphs\" textLength=\"9\" x=\"742.5\" y=\"42.6982\">q</text><rect fill=\"#A80036\" height=\"12\" style=\"stroke: #FEFECE; stroke-width: 1.5;\" width=\"12\" x=\"741\" y=\"58\"/><!--MD5=[05d275557350bfb9b23a4ef7222b4c39]\n",
       "link E3 to E2--><a href=\"psysml:7569b902-ac88-47a0-a36a-be78510f169c\" target=\"_top\" title=\"psysml:7569b902-ac88-47a0-a36a-be78510f169c\" xlink:actuate=\"onRequest\" xlink:href=\"psysml:7569b902-ac88-47a0-a36a-be78510f169c\" xlink:show=\"new\" xlink:title=\"psysml:7569b902-ac88-47a0-a36a-be78510f169c\" xlink:type=\"simple\"><path d=\"M603.67,87.01 C601.45,98.3 598.64,112.62 595.87,126.7 \" fill=\"none\" id=\"E3-&gt;E2\" style=\"stroke: #A80036; stroke-width: 1.0;\"/><polygon fill=\"#FFFFFF\" points=\"591.93,146.75,588.7277,126.7564,602.4646,129.4577,591.93,146.75\" style=\"stroke: #A80036; stroke-width: 1.0;\"/><ellipse cx=\"591.7899\" cy=\"121.5494\" fill=\"#A80036\" rx=\"2\" ry=\"2\" style=\"stroke: #A80036; stroke-width: 1.0;\"/><ellipse cx=\"601.602\" cy=\"123.4789\" fill=\"#A80036\" rx=\"2\" ry=\"2\" style=\"stroke: #A80036; stroke-width: 1.0;\"/></a><!--MD5=[2fede2788af95184ccc66d9bcb3826b4]\n",
       "@startuml\r\n",
       " \r\n",
       "package \"ParameterTest\" as E1  [[psysml:934b4cb7-0388-44aa-8a43-948e0e0270d7 ]]  {\r\n",
       "comp def \"A\" as E2  <<(T,blue)attribute def>> [[psysml:129c5bc9-5e36-4fac-a06d-7961ccb64091 ]] {\r\n",
       "x: String\r\n",
       "y: A\r\n",
       "}\r\n",
       "comp usage \"a: A\" as E3  <<(T,blue)attribute>> [[psysml:50405f72-7bb1-41da-960b-ed203bf92c2d ]] {\r\n",
       "}\r\n",
       "rec def \"F\" as E4  <<(T,blue)calculation def>> [[psysml:84637ab1-2e14-49ab-80b7-3fb2aa846372 ]] {\r\n",
       "portin \"p\" as E5  [[psysml:64e82b47-cc13-4353-a930-54201d4c743b ]] \r\n",
       "portin \"q\" as E6  [[psysml:647ae971-dc5c-461d-bddf-e9c9561ef010 ]] \r\n",
       "}\r\n",
       "\r\n",
       "comp usage \"f\" as E7  <<(T,blue)attribute>> [[psysml:88b39ab3-39a3-49e4-a823-2b19bc6cfd18 ]] {\r\n",
       "}\r\n",
       "comp usage \"g\" as E8  <<(T,blue)attribute>> [[psysml:3f28e8b6-a431-4098-a991-c6c646c27e19 ]] {\r\n",
       "}\r\n",
       "comp usage \"b\" as E9  <<(T,blue)attribute>> [[psysml:a48346b2-888a-436e-97f1-e60fac760a88 ]] {\r\n",
       "}\r\n",
       "comp usage \"c\" as E10  <<(T,blue)attribute>> [[psysml:952d2fa1-4eb4-490f-be08-21606a0b2581 ]] {\r\n",
       "}\r\n",
       "E3 - -:|> E2 [[psysml:7569b902-ac88-47a0-a36a-be78510f169c ]] \r\n",
       "}\r\n",
       "@enduml\r\n",
       "\n",
       "PlantUML version 1.2020.13(Sat Jun 13 12:26:38 UTC 2020)\n",
       "(EPL source distribution)\n",
       "Java Runtime: OpenJDK Runtime Environment\n",
       "JVM: OpenJDK 64-Bit Server VM\n",
       "Default Encoding: UTF-8\n",
       "Language: en\n",
       "Country: null\n",
       "--></g></svg>"
      ]
     },
     "execution_count": 8,
     "metadata": {},
     "output_type": "execute_result"
    }
   ],
   "source": [
    "%viz --style=\"COMPTREE\" --view=\"MIXED\" \"ParameterTest\""
   ]
  },
  {
   "cell_type": "code",
   "execution_count": 9,
   "id": "suspended-electron",
   "metadata": {
    "execution": {
     "iopub.execute_input": "2021-03-26T09:13:00.102408Z",
     "iopub.status.busy": "2021-03-26T09:13:00.102090Z",
     "iopub.status.idle": "2021-03-26T09:13:00.176065Z",
     "shell.execute_reply": "2021-03-26T09:13:00.175662Z"
    }
   },
   "outputs": [
    {
     "data": {
      "image/svg+xml": [
       "<?xml version=\"1.0\" encoding=\"UTF-8\" standalone=\"no\"?><svg xmlns=\"http://www.w3.org/2000/svg\" xmlns:xlink=\"http://www.w3.org/1999/xlink\" contentScriptType=\"application/ecmascript\" contentStyleType=\"text/css\" height=\"263px\" preserveAspectRatio=\"none\" style=\"width:740px;height:263px;\" version=\"1.1\" viewBox=\"0 0 740 263\" width=\"740px\" zoomAndPan=\"magnify\"><defs/><g><!--MD5=[fbc87193dbaf4d95561dea2c320d4a47]\n",
       "cluster E1--><a href=\"psysml:934b4cb7-0388-44aa-8a43-948e0e0270d7\" target=\"_top\" title=\"psysml:934b4cb7-0388-44aa-8a43-948e0e0270d7\" xlink:actuate=\"onRequest\" xlink:href=\"psysml:934b4cb7-0388-44aa-8a43-948e0e0270d7\" xlink:show=\"new\" xlink:title=\"psysml:934b4cb7-0388-44aa-8a43-948e0e0270d7\" xlink:type=\"simple\"><polygon fill=\"#FFFFFF\" points=\"16,6,139,6,146,28.2969,718,28.2969,718,251,16,251,16,6\" style=\"stroke: #000000; stroke-width: 1.5;\"/><line style=\"stroke: #000000; stroke-width: 1.5;\" x1=\"16\" x2=\"146\" y1=\"28.2969\" y2=\"28.2969\"/><text fill=\"#000000\" font-family=\"sans-serif\" font-size=\"14\" font-weight=\"bold\" lengthAdjust=\"spacingAndGlyphs\" textLength=\"117\" x=\"20\" y=\"20.9951\">ParameterTest</text></a><!--MD5=[f6df4d0ebaf0b5dfb2ced0ae5af7c670]\n",
       "cluster E4--><a href=\"psysml:84637ab1-2e14-49ab-80b7-3fb2aa846372\" target=\"_top\" title=\"psysml:84637ab1-2e14-49ab-80b7-3fb2aa846372\" xlink:actuate=\"onRequest\" xlink:href=\"psysml:84637ab1-2e14-49ab-80b7-3fb2aa846372\" xlink:show=\"new\" xlink:title=\"psysml:84637ab1-2e14-49ab-80b7-3fb2aa846372\" xlink:type=\"simple\"><rect fill=\"#FFFFFF\" height=\"160.5\" id=\"E4\" style=\"stroke: #383838; stroke-width: 1.5;\" width=\"148\" x=\"554\" y=\"64\"/><rect fill=\"#F8F8F8\" height=\"37.9375\" style=\"stroke: #383838; stroke-width: 1.5;\" width=\"148\" x=\"554\" y=\"64\"/><text fill=\"#000000\" font-family=\"sans-serif\" font-size=\"12\" font-style=\"italic\" lengthAdjust=\"spacingAndGlyphs\" textLength=\"106\" x=\"575\" y=\"80.1387\">«calculation def»</text><text fill=\"#000000\" font-family=\"sans-serif\" font-size=\"12\" lengthAdjust=\"spacingAndGlyphs\" textLength=\"7\" x=\"624.5\" y=\"94.1074\">F</text></a><!--MD5=[b4997ac47864f28c2f74865a473b2911]\n",
       "class E2--><a href=\"psysml:129c5bc9-5e36-4fac-a06d-7961ccb64091\" target=\"_top\" title=\"psysml:129c5bc9-5e36-4fac-a06d-7961ccb64091\" xlink:actuate=\"onRequest\" xlink:href=\"psysml:129c5bc9-5e36-4fac-a06d-7961ccb64091\" xlink:show=\"new\" xlink:title=\"psysml:129c5bc9-5e36-4fac-a06d-7961ccb64091\" xlink:type=\"simple\"><rect fill=\"#FFFFFF\" height=\"88.3516\" id=\"E2\" style=\"stroke: #383838; stroke-width: 1.5;\" width=\"95\" x=\"422.5\" y=\"147\"/><text fill=\"#000000\" font-family=\"sans-serif\" font-size=\"12\" font-style=\"italic\" lengthAdjust=\"spacingAndGlyphs\" textLength=\"93\" x=\"423.5\" y=\"163.1387\">«attribute def»</text><text fill=\"#000000\" font-family=\"sans-serif\" font-size=\"12\" lengthAdjust=\"spacingAndGlyphs\" textLength=\"8\" x=\"466\" y=\"177.1074\">A</text><line style=\"stroke: #383838; stroke-width: 1.5;\" x1=\"423.5\" x2=\"516.5\" y1=\"184.9375\" y2=\"184.9375\"/><text fill=\"#000000\" font-family=\"sans-serif\" font-size=\"11\" lengthAdjust=\"spacingAndGlyphs\" textLength=\"48\" x=\"428.5\" y=\"215.9526\">x: String</text><text fill=\"#000000\" font-family=\"sans-serif\" font-size=\"11\" lengthAdjust=\"spacingAndGlyphs\" textLength=\"21\" x=\"428.5\" y=\"228.7573\">y: A</text><line style=\"stroke: #383838; stroke-width: 1.0;\" x1=\"423.5\" x2=\"442.5\" y1=\"199.3398\" y2=\"199.3398\"/><text fill=\"#000000\" font-family=\"sans-serif\" font-size=\"11\" lengthAdjust=\"spacingAndGlyphs\" textLength=\"55\" x=\"442.5\" y=\"202.6479\">attributes</text><line style=\"stroke: #383838; stroke-width: 1.0;\" x1=\"497.5\" x2=\"516.5\" y1=\"199.3398\" y2=\"199.3398\"/></a><!--MD5=[09b614a08d8cba4a07c9adeb5e0fee81]\n",
       "class E3--><a href=\"psysml:50405f72-7bb1-41da-960b-ed203bf92c2d\" target=\"_top\" title=\"psysml:50405f72-7bb1-41da-960b-ed203bf92c2d\" xlink:actuate=\"onRequest\" xlink:href=\"psysml:50405f72-7bb1-41da-960b-ed203bf92c2d\" xlink:show=\"new\" xlink:title=\"psysml:50405f72-7bb1-41da-960b-ed203bf92c2d\" xlink:type=\"simple\"><rect fill=\"#FFFFFF\" height=\"45.9375\" id=\"E3\" rx=\"10\" ry=\"10\" style=\"stroke: #383838; stroke-width: 1.5;\" width=\"71\" x=\"456.5\" y=\"41\"/><text fill=\"#000000\" font-family=\"sans-serif\" font-size=\"12\" font-style=\"italic\" lengthAdjust=\"spacingAndGlyphs\" textLength=\"69\" x=\"457.5\" y=\"57.1387\">«attribute»</text><text fill=\"#000000\" font-family=\"sans-serif\" font-size=\"12\" lengthAdjust=\"spacingAndGlyphs\" textLength=\"24\" x=\"480\" y=\"71.1074\">a: A</text><line style=\"stroke: #383838; stroke-width: 1.5;\" x1=\"457.5\" x2=\"526.5\" y1=\"78.9375\" y2=\"78.9375\"/></a><!--MD5=[2156ba9850f5573cc1fc38a6a4b2f02b]\n",
       "class E7--><a href=\"psysml:88b39ab3-39a3-49e4-a823-2b19bc6cfd18\" target=\"_top\" title=\"psysml:88b39ab3-39a3-49e4-a823-2b19bc6cfd18\" xlink:actuate=\"onRequest\" xlink:href=\"psysml:88b39ab3-39a3-49e4-a823-2b19bc6cfd18\" xlink:show=\"new\" xlink:title=\"psysml:88b39ab3-39a3-49e4-a823-2b19bc6cfd18\" xlink:type=\"simple\"><rect fill=\"#FFFFFF\" height=\"45.9375\" id=\"E7\" rx=\"10\" ry=\"10\" style=\"stroke: #383838; stroke-width: 1.5;\" width=\"71\" x=\"350.5\" y=\"41\"/><text fill=\"#000000\" font-family=\"sans-serif\" font-size=\"12\" font-style=\"italic\" lengthAdjust=\"spacingAndGlyphs\" textLength=\"69\" x=\"351.5\" y=\"57.1387\">«attribute»</text><text fill=\"#000000\" font-family=\"sans-serif\" font-size=\"12\" lengthAdjust=\"spacingAndGlyphs\" textLength=\"4\" x=\"384\" y=\"71.1074\">f</text><line style=\"stroke: #383838; stroke-width: 1.5;\" x1=\"351.5\" x2=\"420.5\" y1=\"78.9375\" y2=\"78.9375\"/></a><!--MD5=[b9389687b975829384b498ac4b7476b2]\n",
       "class E8--><a href=\"psysml:3f28e8b6-a431-4098-a991-c6c646c27e19\" target=\"_top\" title=\"psysml:3f28e8b6-a431-4098-a991-c6c646c27e19\" xlink:actuate=\"onRequest\" xlink:href=\"psysml:3f28e8b6-a431-4098-a991-c6c646c27e19\" xlink:show=\"new\" xlink:title=\"psysml:3f28e8b6-a431-4098-a991-c6c646c27e19\" xlink:type=\"simple\"><rect fill=\"#FFFFFF\" height=\"45.9375\" id=\"E8\" rx=\"10\" ry=\"10\" style=\"stroke: #383838; stroke-width: 1.5;\" width=\"71\" x=\"244.5\" y=\"41\"/><text fill=\"#000000\" font-family=\"sans-serif\" font-size=\"12\" font-style=\"italic\" lengthAdjust=\"spacingAndGlyphs\" textLength=\"69\" x=\"245.5\" y=\"57.1387\">«attribute»</text><text fill=\"#000000\" font-family=\"sans-serif\" font-size=\"12\" lengthAdjust=\"spacingAndGlyphs\" textLength=\"8\" x=\"276\" y=\"71.1074\">g</text><line style=\"stroke: #383838; stroke-width: 1.5;\" x1=\"245.5\" x2=\"314.5\" y1=\"78.9375\" y2=\"78.9375\"/></a><!--MD5=[fd4143e9d270a159db93a4ea2a975926]\n",
       "class E9--><a href=\"psysml:a48346b2-888a-436e-97f1-e60fac760a88\" target=\"_top\" title=\"psysml:a48346b2-888a-436e-97f1-e60fac760a88\" xlink:actuate=\"onRequest\" xlink:href=\"psysml:a48346b2-888a-436e-97f1-e60fac760a88\" xlink:show=\"new\" xlink:title=\"psysml:a48346b2-888a-436e-97f1-e60fac760a88\" xlink:type=\"simple\"><rect fill=\"#FFFFFF\" height=\"45.9375\" id=\"E9\" rx=\"10\" ry=\"10\" style=\"stroke: #383838; stroke-width: 1.5;\" width=\"71\" x=\"138.5\" y=\"41\"/><text fill=\"#000000\" font-family=\"sans-serif\" font-size=\"12\" font-style=\"italic\" lengthAdjust=\"spacingAndGlyphs\" textLength=\"69\" x=\"139.5\" y=\"57.1387\">«attribute»</text><text fill=\"#000000\" font-family=\"sans-serif\" font-size=\"12\" lengthAdjust=\"spacingAndGlyphs\" textLength=\"8\" x=\"170\" y=\"71.1074\">b</text><line style=\"stroke: #383838; stroke-width: 1.5;\" x1=\"139.5\" x2=\"208.5\" y1=\"78.9375\" y2=\"78.9375\"/></a><!--MD5=[96f4274e9e20536e775497830990834d]\n",
       "class E10--><a href=\"psysml:952d2fa1-4eb4-490f-be08-21606a0b2581\" target=\"_top\" title=\"psysml:952d2fa1-4eb4-490f-be08-21606a0b2581\" xlink:actuate=\"onRequest\" xlink:href=\"psysml:952d2fa1-4eb4-490f-be08-21606a0b2581\" xlink:show=\"new\" xlink:title=\"psysml:952d2fa1-4eb4-490f-be08-21606a0b2581\" xlink:type=\"simple\"><rect fill=\"#FFFFFF\" height=\"45.9375\" id=\"E10\" rx=\"10\" ry=\"10\" style=\"stroke: #383838; stroke-width: 1.5;\" width=\"71\" x=\"32.5\" y=\"41\"/><text fill=\"#000000\" font-family=\"sans-serif\" font-size=\"12\" font-style=\"italic\" lengthAdjust=\"spacingAndGlyphs\" textLength=\"69\" x=\"33.5\" y=\"57.1387\">«attribute»</text><text fill=\"#000000\" font-family=\"sans-serif\" font-size=\"12\" lengthAdjust=\"spacingAndGlyphs\" textLength=\"7\" x=\"64.5\" y=\"71.1074\">c</text><line style=\"stroke: #383838; stroke-width: 1.5;\" x1=\"33.5\" x2=\"102.5\" y1=\"78.9375\" y2=\"78.9375\"/></a><text fill=\"#000000\" font-family=\"sans-serif\" font-size=\"14\" lengthAdjust=\"spacingAndGlyphs\" textLength=\"9\" x=\"567.5\" y=\"42.6982\">p</text><rect fill=\"#383838\" height=\"12\" style=\"stroke: #F8F8F8; stroke-width: 1.5;\" width=\"12\" x=\"566\" y=\"58\"/><text fill=\"#000000\" font-family=\"sans-serif\" font-size=\"14\" lengthAdjust=\"spacingAndGlyphs\" textLength=\"9\" x=\"614.5\" y=\"42.6982\">q</text><rect fill=\"#383838\" height=\"12\" style=\"stroke: #F8F8F8; stroke-width: 1.5;\" width=\"12\" x=\"613\" y=\"58\"/><!--MD5=[05d275557350bfb9b23a4ef7222b4c39]\n",
       "link E3 to E2--><a href=\"psysml:7569b902-ac88-47a0-a36a-be78510f169c\" target=\"_top\" title=\"psysml:7569b902-ac88-47a0-a36a-be78510f169c\" xlink:actuate=\"onRequest\" xlink:href=\"psysml:7569b902-ac88-47a0-a36a-be78510f169c\" xlink:show=\"new\" xlink:title=\"psysml:7569b902-ac88-47a0-a36a-be78510f169c\" xlink:type=\"simple\"><path d=\"M488.12,87.06 C486.14,98.3 483.62,112.6 481.1,126.95 \" fill=\"none\" id=\"E3-&gt;E2\" style=\"stroke: #383838; stroke-width: 1.0;\"/><polygon fill=\"#FFFFFF\" points=\"477.58,146.93,473.9835,127.0035,487.7711,129.4331,477.58,146.93\" style=\"stroke: #383838; stroke-width: 1.0;\"/><ellipse cx=\"476.9423\" cy=\"121.7371\" fill=\"#383838\" rx=\"2\" ry=\"2\" style=\"stroke: #383838; stroke-width: 1.0;\"/><ellipse cx=\"486.7906\" cy=\"123.4725\" fill=\"#383838\" rx=\"2\" ry=\"2\" style=\"stroke: #383838; stroke-width: 1.0;\"/></a><!--MD5=[35a1fde907d286364ff5ea6e0c309d24]\n",
       "@startuml\r\n",
       "skinparam linetype polyline\r\n",
       "skinparam monochrome true\r\n",
       "skinparam classbackgroundcolor white\r\n",
       "skinparam shadowing false\r\n",
       "skinparam wrapWidth 300\r\n",
       "hide circle\r\n",
       "\r\n",
       "package \"ParameterTest\" as E1  [[psysml:934b4cb7-0388-44aa-8a43-948e0e0270d7 ]]  {\r\n",
       "comp def \"A\" as E2  <<(T,blue)attribute def>> [[psysml:129c5bc9-5e36-4fac-a06d-7961ccb64091 ]] {\r\n",
       "- - attributes - -\r\n",
       "x: String\r\n",
       "y: A\r\n",
       "}\r\n",
       "comp usage \"a: A\" as E3  <<(T,blue)attribute>> [[psysml:50405f72-7bb1-41da-960b-ed203bf92c2d ]] {\r\n",
       "}\r\n",
       "rec def \"F\" as E4  <<(T,blue)calculation def>> [[psysml:84637ab1-2e14-49ab-80b7-3fb2aa846372 ]] {\r\n",
       "portin \"p\" as E5  [[psysml:64e82b47-cc13-4353-a930-54201d4c743b ]] \r\n",
       "portin \"q\" as E6  [[psysml:647ae971-dc5c-461d-bddf-e9c9561ef010 ]] \r\n",
       "}\r\n",
       "\r\n",
       "comp usage \"f\" as E7  <<(T,blue)attribute>> [[psysml:88b39ab3-39a3-49e4-a823-2b19bc6cfd18 ]] {\r\n",
       "}\r\n",
       "comp usage \"g\" as E8  <<(T,blue)attribute>> [[psysml:3f28e8b6-a431-4098-a991-c6c646c27e19 ]] {\r\n",
       "}\r\n",
       "comp usage \"b\" as E9  <<(T,blue)attribute>> [[psysml:a48346b2-888a-436e-97f1-e60fac760a88 ]] {\r\n",
       "}\r\n",
       "comp usage \"c\" as E10  <<(T,blue)attribute>> [[psysml:952d2fa1-4eb4-490f-be08-21606a0b2581 ]] {\r\n",
       "}\r\n",
       "E3 - -:|> E2 [[psysml:7569b902-ac88-47a0-a36a-be78510f169c ]] \r\n",
       "}\r\n",
       "@enduml\r\n",
       "\n",
       "PlantUML version 1.2020.13(Sat Jun 13 12:26:38 UTC 2020)\n",
       "(EPL source distribution)\n",
       "Java Runtime: OpenJDK Runtime Environment\n",
       "JVM: OpenJDK 64-Bit Server VM\n",
       "Default Encoding: UTF-8\n",
       "Language: en\n",
       "Country: null\n",
       "--></g></svg>"
      ]
     },
     "execution_count": 9,
     "metadata": {},
     "output_type": "execute_result"
    }
   ],
   "source": [
    "%viz --style=\"POLYLINE\" --view=\"Default\" \"ParameterTest\""
   ]
  },
  {
   "cell_type": "code",
   "execution_count": 10,
   "id": "increased-assembly",
   "metadata": {
    "execution": {
     "iopub.execute_input": "2021-03-26T09:13:00.227777Z",
     "iopub.status.busy": "2021-03-26T09:13:00.227390Z",
     "iopub.status.idle": "2021-03-26T09:13:00.292137Z",
     "shell.execute_reply": "2021-03-26T09:13:00.290941Z"
    }
   },
   "outputs": [
    {
     "data": {
      "image/svg+xml": [
       "<?xml version=\"1.0\" encoding=\"UTF-8\" standalone=\"no\"?><svg xmlns=\"http://www.w3.org/2000/svg\" xmlns:xlink=\"http://www.w3.org/1999/xlink\" contentScriptType=\"application/ecmascript\" contentStyleType=\"text/css\" height=\"280px\" preserveAspectRatio=\"none\" style=\"width:710px;height:280px;\" version=\"1.1\" viewBox=\"0 0 710 280\" width=\"710px\" zoomAndPan=\"magnify\"><defs/><g><!--MD5=[fbc87193dbaf4d95561dea2c320d4a47]\n",
       "cluster E1--><a href=\"psysml:934b4cb7-0388-44aa-8a43-948e0e0270d7\" target=\"_top\" title=\"psysml:934b4cb7-0388-44aa-8a43-948e0e0270d7\" xlink:actuate=\"onRequest\" xlink:href=\"psysml:934b4cb7-0388-44aa-8a43-948e0e0270d7\" xlink:show=\"new\" xlink:title=\"psysml:934b4cb7-0388-44aa-8a43-948e0e0270d7\" xlink:type=\"simple\"><polygon fill=\"#FFFFFF\" points=\"16,6,139,6,146,28.2969,688,28.2969,688,268,16,268,16,6\" style=\"stroke: #000000; stroke-width: 1.5;\"/><line style=\"stroke: #000000; stroke-width: 1.5;\" x1=\"16\" x2=\"146\" y1=\"28.2969\" y2=\"28.2969\"/><text fill=\"#000000\" font-family=\"sans-serif\" font-size=\"14\" font-weight=\"bold\" lengthAdjust=\"spacingAndGlyphs\" textLength=\"117\" x=\"20\" y=\"20.9951\">ParameterTest</text></a><!--MD5=[b4997ac47864f28c2f74865a473b2911]\n",
       "class E2--><a href=\"psysml:129c5bc9-5e36-4fac-a06d-7961ccb64091\" target=\"_top\" title=\"psysml:129c5bc9-5e36-4fac-a06d-7961ccb64091\" xlink:actuate=\"onRequest\" xlink:href=\"psysml:129c5bc9-5e36-4fac-a06d-7961ccb64091\" xlink:show=\"new\" xlink:title=\"psysml:129c5bc9-5e36-4fac-a06d-7961ccb64091\" xlink:type=\"simple\"><rect fill=\"#FFFFFF\" height=\"88.3516\" id=\"E2\" style=\"stroke: #383838; stroke-width: 1.5;\" width=\"95\" x=\"498.5\" y=\"164\"/><text fill=\"#000000\" font-family=\"sans-serif\" font-size=\"12\" font-style=\"italic\" lengthAdjust=\"spacingAndGlyphs\" textLength=\"93\" x=\"499.5\" y=\"180.1387\">«attribute def»</text><text fill=\"#000000\" font-family=\"sans-serif\" font-size=\"12\" lengthAdjust=\"spacingAndGlyphs\" textLength=\"8\" x=\"542\" y=\"194.1074\">A</text><line style=\"stroke: #383838; stroke-width: 1.5;\" x1=\"499.5\" x2=\"592.5\" y1=\"201.9375\" y2=\"201.9375\"/><text fill=\"#000000\" font-family=\"sans-serif\" font-size=\"11\" lengthAdjust=\"spacingAndGlyphs\" textLength=\"48\" x=\"504.5\" y=\"232.9526\">x: String</text><text fill=\"#000000\" font-family=\"sans-serif\" font-size=\"11\" lengthAdjust=\"spacingAndGlyphs\" textLength=\"21\" x=\"504.5\" y=\"245.7573\">y: A</text><line style=\"stroke: #383838; stroke-width: 1.0;\" x1=\"499.5\" x2=\"518.5\" y1=\"216.3398\" y2=\"216.3398\"/><text fill=\"#000000\" font-family=\"sans-serif\" font-size=\"11\" lengthAdjust=\"spacingAndGlyphs\" textLength=\"55\" x=\"518.5\" y=\"219.6479\">attributes</text><line style=\"stroke: #383838; stroke-width: 1.0;\" x1=\"573.5\" x2=\"592.5\" y1=\"216.3398\" y2=\"216.3398\"/></a><!--MD5=[09b614a08d8cba4a07c9adeb5e0fee81]\n",
       "class E3--><a href=\"psysml:50405f72-7bb1-41da-960b-ed203bf92c2d\" target=\"_top\" title=\"psysml:50405f72-7bb1-41da-960b-ed203bf92c2d\" xlink:actuate=\"onRequest\" xlink:href=\"psysml:50405f72-7bb1-41da-960b-ed203bf92c2d\" xlink:show=\"new\" xlink:title=\"psysml:50405f72-7bb1-41da-960b-ed203bf92c2d\" xlink:type=\"simple\"><rect fill=\"#FFFFFF\" height=\"45.9375\" id=\"E3\" rx=\"10\" ry=\"10\" style=\"stroke: #383838; stroke-width: 1.5;\" width=\"71\" x=\"600.5\" y=\"41\"/><text fill=\"#000000\" font-family=\"sans-serif\" font-size=\"12\" font-style=\"italic\" lengthAdjust=\"spacingAndGlyphs\" textLength=\"69\" x=\"601.5\" y=\"57.1387\">«attribute»</text><text fill=\"#000000\" font-family=\"sans-serif\" font-size=\"12\" lengthAdjust=\"spacingAndGlyphs\" textLength=\"24\" x=\"624\" y=\"71.1074\">a: A</text><line style=\"stroke: #383838; stroke-width: 1.5;\" x1=\"601.5\" x2=\"670.5\" y1=\"78.9375\" y2=\"78.9375\"/></a><!--MD5=[ebbe1d658d1005bcc118a6aa81145e00]\n",
       "class E4--><a href=\"psysml:84637ab1-2e14-49ab-80b7-3fb2aa846372\" target=\"_top\" title=\"psysml:84637ab1-2e14-49ab-80b7-3fb2aa846372\" xlink:actuate=\"onRequest\" xlink:href=\"psysml:84637ab1-2e14-49ab-80b7-3fb2aa846372\" xlink:show=\"new\" xlink:title=\"psysml:84637ab1-2e14-49ab-80b7-3fb2aa846372\" xlink:type=\"simple\"><rect fill=\"#FFFFFF\" height=\"45.9375\" id=\"E4\" style=\"stroke: #383838; stroke-width: 1.5;\" width=\"108\" x=\"457\" y=\"41\"/><text fill=\"#000000\" font-family=\"sans-serif\" font-size=\"12\" font-style=\"italic\" lengthAdjust=\"spacingAndGlyphs\" textLength=\"106\" x=\"458\" y=\"57.1387\">«calculation def»</text><text fill=\"#000000\" font-family=\"sans-serif\" font-size=\"12\" lengthAdjust=\"spacingAndGlyphs\" textLength=\"7\" x=\"507.5\" y=\"71.1074\">F</text><line style=\"stroke: #383838; stroke-width: 1.5;\" x1=\"458\" x2=\"564\" y1=\"78.9375\" y2=\"78.9375\"/></a><!--MD5=[270fce915f116d4de14055a7c1d9a0f3]\n",
       "class E5--><a href=\"psysml:88b39ab3-39a3-49e4-a823-2b19bc6cfd18\" target=\"_top\" title=\"psysml:88b39ab3-39a3-49e4-a823-2b19bc6cfd18\" xlink:actuate=\"onRequest\" xlink:href=\"psysml:88b39ab3-39a3-49e4-a823-2b19bc6cfd18\" xlink:show=\"new\" xlink:title=\"psysml:88b39ab3-39a3-49e4-a823-2b19bc6cfd18\" xlink:type=\"simple\"><rect fill=\"#FFFFFF\" height=\"45.9375\" id=\"E5\" rx=\"10\" ry=\"10\" style=\"stroke: #383838; stroke-width: 1.5;\" width=\"71\" x=\"350.5\" y=\"41\"/><text fill=\"#000000\" font-family=\"sans-serif\" font-size=\"12\" font-style=\"italic\" lengthAdjust=\"spacingAndGlyphs\" textLength=\"69\" x=\"351.5\" y=\"57.1387\">«attribute»</text><text fill=\"#000000\" font-family=\"sans-serif\" font-size=\"12\" lengthAdjust=\"spacingAndGlyphs\" textLength=\"4\" x=\"384\" y=\"71.1074\">f</text><line style=\"stroke: #383838; stroke-width: 1.5;\" x1=\"351.5\" x2=\"420.5\" y1=\"78.9375\" y2=\"78.9375\"/></a><!--MD5=[60a26617385b1d2d0262a64233df1f8d]\n",
       "class E6--><a href=\"psysml:3f28e8b6-a431-4098-a991-c6c646c27e19\" target=\"_top\" title=\"psysml:3f28e8b6-a431-4098-a991-c6c646c27e19\" xlink:actuate=\"onRequest\" xlink:href=\"psysml:3f28e8b6-a431-4098-a991-c6c646c27e19\" xlink:show=\"new\" xlink:title=\"psysml:3f28e8b6-a431-4098-a991-c6c646c27e19\" xlink:type=\"simple\"><rect fill=\"#FFFFFF\" height=\"45.9375\" id=\"E6\" rx=\"10\" ry=\"10\" style=\"stroke: #383838; stroke-width: 1.5;\" width=\"71\" x=\"244.5\" y=\"41\"/><text fill=\"#000000\" font-family=\"sans-serif\" font-size=\"12\" font-style=\"italic\" lengthAdjust=\"spacingAndGlyphs\" textLength=\"69\" x=\"245.5\" y=\"57.1387\">«attribute»</text><text fill=\"#000000\" font-family=\"sans-serif\" font-size=\"12\" lengthAdjust=\"spacingAndGlyphs\" textLength=\"8\" x=\"276\" y=\"71.1074\">g</text><line style=\"stroke: #383838; stroke-width: 1.5;\" x1=\"245.5\" x2=\"314.5\" y1=\"78.9375\" y2=\"78.9375\"/></a><!--MD5=[2156ba9850f5573cc1fc38a6a4b2f02b]\n",
       "class E7--><a href=\"psysml:a48346b2-888a-436e-97f1-e60fac760a88\" target=\"_top\" title=\"psysml:a48346b2-888a-436e-97f1-e60fac760a88\" xlink:actuate=\"onRequest\" xlink:href=\"psysml:a48346b2-888a-436e-97f1-e60fac760a88\" xlink:show=\"new\" xlink:title=\"psysml:a48346b2-888a-436e-97f1-e60fac760a88\" xlink:type=\"simple\"><rect fill=\"#FFFFFF\" height=\"45.9375\" id=\"E7\" rx=\"10\" ry=\"10\" style=\"stroke: #383838; stroke-width: 1.5;\" width=\"71\" x=\"138.5\" y=\"41\"/><text fill=\"#000000\" font-family=\"sans-serif\" font-size=\"12\" font-style=\"italic\" lengthAdjust=\"spacingAndGlyphs\" textLength=\"69\" x=\"139.5\" y=\"57.1387\">«attribute»</text><text fill=\"#000000\" font-family=\"sans-serif\" font-size=\"12\" lengthAdjust=\"spacingAndGlyphs\" textLength=\"8\" x=\"170\" y=\"71.1074\">b</text><line style=\"stroke: #383838; stroke-width: 1.5;\" x1=\"139.5\" x2=\"208.5\" y1=\"78.9375\" y2=\"78.9375\"/></a><!--MD5=[b9389687b975829384b498ac4b7476b2]\n",
       "class E8--><a href=\"psysml:952d2fa1-4eb4-490f-be08-21606a0b2581\" target=\"_top\" title=\"psysml:952d2fa1-4eb4-490f-be08-21606a0b2581\" xlink:actuate=\"onRequest\" xlink:href=\"psysml:952d2fa1-4eb4-490f-be08-21606a0b2581\" xlink:show=\"new\" xlink:title=\"psysml:952d2fa1-4eb4-490f-be08-21606a0b2581\" xlink:type=\"simple\"><rect fill=\"#FFFFFF\" height=\"45.9375\" id=\"E8\" rx=\"10\" ry=\"10\" style=\"stroke: #383838; stroke-width: 1.5;\" width=\"71\" x=\"32.5\" y=\"41\"/><text fill=\"#000000\" font-family=\"sans-serif\" font-size=\"12\" font-style=\"italic\" lengthAdjust=\"spacingAndGlyphs\" textLength=\"69\" x=\"33.5\" y=\"57.1387\">«attribute»</text><text fill=\"#000000\" font-family=\"sans-serif\" font-size=\"12\" lengthAdjust=\"spacingAndGlyphs\" textLength=\"7\" x=\"64.5\" y=\"71.1074\">c</text><line style=\"stroke: #383838; stroke-width: 1.5;\" x1=\"33.5\" x2=\"102.5\" y1=\"78.9375\" y2=\"78.9375\"/></a><!--MD5=[05d275557350bfb9b23a4ef7222b4c39]\n",
       "link E3 to E2--><a href=\"psysml:7569b902-ac88-47a0-a36a-be78510f169c\" target=\"_top\" title=\"psysml:7569b902-ac88-47a0-a36a-be78510f169c\" xlink:actuate=\"onRequest\" xlink:href=\"psysml:7569b902-ac88-47a0-a36a-be78510f169c\" xlink:show=\"new\" xlink:title=\"psysml:7569b902-ac88-47a0-a36a-be78510f169c\" xlink:type=\"simple\"><path d=\"M621.94,87.19 C611.77,103.23 597.51,125.73 584.09,146.9 \" fill=\"none\" id=\"E3-&gt;E2\" style=\"stroke: #383838; stroke-width: 1.0;\"/><polygon fill=\"#FFFFFF\" points=\"573.37,163.82,577.6195,144.0225,589.448,151.5115,573.37,163.82\" style=\"stroke: #383838; stroke-width: 1.0;\"/><ellipse cx=\"582.3584\" cy=\"140.2764\" fill=\"#383838\" rx=\"2\" ry=\"2\" style=\"stroke: #383838; stroke-width: 1.0;\"/><ellipse cx=\"590.8073\" cy=\"145.6258\" fill=\"#383838\" rx=\"2\" ry=\"2\" style=\"stroke: #383838; stroke-width: 1.0;\"/></a><!--MD5=[ddeed8deb2209213b62e6cfabaa108b2]\n",
       "reverse link E4 to E2--><a href=\"psysml:64e82b47-cc13-4353-a930-54201d4c743b\" target=\"_top\" title=\"psysml:64e82b47-cc13-4353-a930-54201d4c743b\" xlink:actuate=\"onRequest\" xlink:href=\"psysml:64e82b47-cc13-4353-a930-54201d4c743b\" xlink:show=\"new\" xlink:title=\"psysml:64e82b47-cc13-4353-a930-54201d4c743b\" xlink:type=\"simple\"><path d=\"M519.62,99.96 C524.37,119.25 530.31,143.36 535.36,163.82 \" fill=\"none\" id=\"E4&lt;-E2\" style=\"stroke: #383838; stroke-width: 1.0;\"/><polygon fill=\"#FFFFFF\" points=\"516.47,87.19,514.0229,93.9732,519.3432,98.841,521.7903,92.0577,516.47,87.19\" style=\"stroke: #383838; stroke-width: 1.0;\"/><text fill=\"#000000\" font-family=\"sans-serif\" font-size=\"13\" lengthAdjust=\"spacingAndGlyphs\" textLength=\"8\" x=\"528\" y=\"130.0669\">p</text></a><!--MD5=[f6fd61e10c10cbe3e54f00ff35960ead]\n",
       "@startuml\r\n",
       "skinparam linetype polyline\r\n",
       "skinparam monochrome true\r\n",
       "skinparam classbackgroundcolor white\r\n",
       "skinparam shadowing false\r\n",
       "skinparam wrapWidth 300\r\n",
       "hide circle\r\n",
       "\r\n",
       "package \"ParameterTest\" as E1  [[psysml:934b4cb7-0388-44aa-8a43-948e0e0270d7 ]]  {\r\n",
       "comp def \"A\" as E2  <<(T,blue)attribute def>> [[psysml:129c5bc9-5e36-4fac-a06d-7961ccb64091 ]] {\r\n",
       "- - attributes - -\r\n",
       "x: String\r\n",
       "y: A\r\n",
       "}\r\n",
       "comp usage \"a: A\" as E3  <<(T,blue)attribute>> [[psysml:50405f72-7bb1-41da-960b-ed203bf92c2d ]] {\r\n",
       "}\r\n",
       "comp def \"F\" as E4  <<(T,blue)calculation def>> [[psysml:84637ab1-2e14-49ab-80b7-3fb2aa846372 ]] {\r\n",
       "}\r\n",
       "comp usage \"f\" as E5  <<(T,blue)attribute>> [[psysml:88b39ab3-39a3-49e4-a823-2b19bc6cfd18 ]] {\r\n",
       "}\r\n",
       "comp usage \"g\" as E6  <<(T,blue)attribute>> [[psysml:3f28e8b6-a431-4098-a991-c6c646c27e19 ]] {\r\n",
       "}\r\n",
       "comp usage \"b\" as E7  <<(T,blue)attribute>> [[psysml:a48346b2-888a-436e-97f1-e60fac760a88 ]] {\r\n",
       "}\r\n",
       "comp usage \"c\" as E8  <<(T,blue)attribute>> [[psysml:952d2fa1-4eb4-490f-be08-21606a0b2581 ]] {\r\n",
       "}\r\n",
       "E3 - -:|> E2 [[psysml:7569b902-ac88-47a0-a36a-be78510f169c ]] \r\n",
       "E4 o- - E2 [[psysml:64e82b47-cc13-4353-a930-54201d4c743b ]] : p\r\n",
       "}\r\n",
       "@enduml\r\n",
       "\n",
       "PlantUML version 1.2020.13(Sat Jun 13 12:26:38 UTC 2020)\n",
       "(EPL source distribution)\n",
       "Java Runtime: OpenJDK Runtime Environment\n",
       "JVM: OpenJDK 64-Bit Server VM\n",
       "Default Encoding: UTF-8\n",
       "Language: en\n",
       "Country: null\n",
       "--></g></svg>"
      ]
     },
     "execution_count": 10,
     "metadata": {},
     "output_type": "execute_result"
    }
   ],
   "source": [
    "%viz --style=\"POLYLINE\" --view=\"Tree\" \"ParameterTest\""
   ]
  },
  {
   "cell_type": "code",
   "execution_count": 11,
   "id": "friendly-portsmouth",
   "metadata": {
    "execution": {
     "iopub.execute_input": "2021-03-26T09:13:00.342824Z",
     "iopub.status.busy": "2021-03-26T09:13:00.342394Z",
     "iopub.status.idle": "2021-03-26T09:13:00.349571Z",
     "shell.execute_reply": "2021-03-26T09:13:00.349054Z"
    }
   },
   "outputs": [
    {
     "data": {
      "image/svg+xml": [
       "<?xml version=\"1.0\" encoding=\"UTF-8\" standalone=\"no\"?><svg xmlns=\"http://www.w3.org/2000/svg\" xmlns:xlink=\"http://www.w3.org/1999/xlink\" contentScriptType=\"application/ecmascript\" contentStyleType=\"text/css\" height=\"12px\" preserveAspectRatio=\"none\" style=\"width:12px;height:12px;\" version=\"1.1\" viewBox=\"0 0 12 12\" width=\"12px\" zoomAndPan=\"magnify\"><defs/><g><!--MD5=[896ac0e7a515d8dd7765a661cb4ee08b]\n",
       "@startuml\r\n",
       "skinparam linetype polyline\r\n",
       "skinparam monochrome true\r\n",
       "skinparam classbackgroundcolor white\r\n",
       "skinparam shadowing false\r\n",
       "skinparam wrapWidth 300\r\n",
       "hide circle\r\n",
       "\r\n",
       "@enduml\r\n",
       "\n",
       "PlantUML version 1.2020.13(Sat Jun 13 12:26:38 UTC 2020)\n",
       "(EPL source distribution)\n",
       "Java Runtime: OpenJDK Runtime Environment\n",
       "JVM: OpenJDK 64-Bit Server VM\n",
       "Default Encoding: UTF-8\n",
       "Language: en\n",
       "Country: null\n",
       "--></g></svg>"
      ]
     },
     "execution_count": 11,
     "metadata": {},
     "output_type": "execute_result"
    }
   ],
   "source": [
    "%viz --style=\"POLYLINE\" --view=\"State\" \"ParameterTest\""
   ]
  },
  {
   "cell_type": "code",
   "execution_count": 12,
   "id": "atmospheric-friendship",
   "metadata": {
    "execution": {
     "iopub.execute_input": "2021-03-26T09:13:00.402460Z",
     "iopub.status.busy": "2021-03-26T09:13:00.401312Z",
     "iopub.status.idle": "2021-03-26T09:13:00.453605Z",
     "shell.execute_reply": "2021-03-26T09:13:00.452133Z"
    }
   },
   "outputs": [
    {
     "data": {
      "image/svg+xml": [
       "<?xml version=\"1.0\" encoding=\"UTF-8\" standalone=\"no\"?><svg xmlns=\"http://www.w3.org/2000/svg\" xmlns:xlink=\"http://www.w3.org/1999/xlink\" contentScriptType=\"application/ecmascript\" contentStyleType=\"text/css\" height=\"123px\" preserveAspectRatio=\"none\" style=\"width:960px;height:123px;\" version=\"1.1\" viewBox=\"0 0 960 123\" width=\"960px\" zoomAndPan=\"magnify\"><defs/><g><!--MD5=[fbc87193dbaf4d95561dea2c320d4a47]\n",
       "cluster E1--><a href=\"psysml:934b4cb7-0388-44aa-8a43-948e0e0270d7\" target=\"_top\" title=\"psysml:934b4cb7-0388-44aa-8a43-948e0e0270d7\" xlink:actuate=\"onRequest\" xlink:href=\"psysml:934b4cb7-0388-44aa-8a43-948e0e0270d7\" xlink:show=\"new\" xlink:title=\"psysml:934b4cb7-0388-44aa-8a43-948e0e0270d7\" xlink:type=\"simple\"><polygon fill=\"#FFFFFF\" points=\"16,6,139,6,146,28.2969,938,28.2969,938,111,16,111,16,6\" style=\"stroke: #000000; stroke-width: 1.5;\"/><line style=\"stroke: #000000; stroke-width: 1.5;\" x1=\"16\" x2=\"146\" y1=\"28.2969\" y2=\"28.2969\"/><text fill=\"#000000\" font-family=\"sans-serif\" font-size=\"14\" font-weight=\"bold\" lengthAdjust=\"spacingAndGlyphs\" textLength=\"117\" x=\"20\" y=\"20.9951\">ParameterTest</text></a><!--MD5=[b4997ac47864f28c2f74865a473b2911]\n",
       "class E2--><a href=\"psysml:129c5bc9-5e36-4fac-a06d-7961ccb64091\" target=\"_top\" title=\"psysml:129c5bc9-5e36-4fac-a06d-7961ccb64091\" xlink:actuate=\"onRequest\" xlink:href=\"psysml:129c5bc9-5e36-4fac-a06d-7961ccb64091\" xlink:show=\"new\" xlink:title=\"psysml:129c5bc9-5e36-4fac-a06d-7961ccb64091\" xlink:type=\"simple\"><rect fill=\"#FFFFFF\" height=\"53.9375\" id=\"E2\" style=\"stroke: #383838; stroke-width: 1.5;\" width=\"143\" x=\"778.5\" y=\"41\"/><text fill=\"#000000\" font-family=\"sans-serif\" font-size=\"12\" font-style=\"italic\" lengthAdjust=\"spacingAndGlyphs\" textLength=\"141\" x=\"779.5\" y=\"57.1387\">«(T,blue)attribute def»</text><text fill=\"#000000\" font-family=\"sans-serif\" font-size=\"12\" lengthAdjust=\"spacingAndGlyphs\" textLength=\"8\" x=\"846\" y=\"71.1074\">A</text><line style=\"stroke: #383838; stroke-width: 1.5;\" x1=\"779.5\" x2=\"920.5\" y1=\"78.9375\" y2=\"78.9375\"/><line style=\"stroke: #383838; stroke-width: 1.5;\" x1=\"779.5\" x2=\"920.5\" y1=\"86.9375\" y2=\"86.9375\"/></a><!--MD5=[ebbe1d658d1005bcc118a6aa81145e00]\n",
       "class E4--><a href=\"psysml:84637ab1-2e14-49ab-80b7-3fb2aa846372\" target=\"_top\" title=\"psysml:84637ab1-2e14-49ab-80b7-3fb2aa846372\" xlink:actuate=\"onRequest\" xlink:href=\"psysml:84637ab1-2e14-49ab-80b7-3fb2aa846372\" xlink:show=\"new\" xlink:title=\"psysml:84637ab1-2e14-49ab-80b7-3fb2aa846372\" xlink:type=\"simple\"><rect fill=\"#FFFFFF\" height=\"53.9375\" id=\"E4\" style=\"stroke: #383838; stroke-width: 1.5;\" width=\"156\" x=\"587\" y=\"41\"/><text fill=\"#000000\" font-family=\"sans-serif\" font-size=\"12\" font-style=\"italic\" lengthAdjust=\"spacingAndGlyphs\" textLength=\"154\" x=\"588\" y=\"57.1387\">«(T,blue)calculation def»</text><text fill=\"#000000\" font-family=\"sans-serif\" font-size=\"12\" lengthAdjust=\"spacingAndGlyphs\" textLength=\"7\" x=\"661.5\" y=\"71.1074\">F</text><line style=\"stroke: #383838; stroke-width: 1.5;\" x1=\"588\" x2=\"742\" y1=\"78.9375\" y2=\"78.9375\"/><line style=\"stroke: #383838; stroke-width: 1.5;\" x1=\"588\" x2=\"742\" y1=\"86.9375\" y2=\"86.9375\"/></a><g id=\"E1.E3\"><a href=\"psysml:50405f72-7bb1-41da-960b-ed203bf92c2d\" target=\"_top\" title=\"psysml:50405f72-7bb1-41da-960b-ed203bf92c2d\" xlink:actuate=\"onRequest\" xlink:href=\"psysml:50405f72-7bb1-41da-960b-ed203bf92c2d\" xlink:show=\"new\" xlink:title=\"psysml:50405f72-7bb1-41da-960b-ed203bf92c2d\" xlink:type=\"simple\"><rect fill=\"#FFFFFF\" height=\"42.9375\" id=\"E3\" rx=\"10\" ry=\"10\" style=\"stroke: #383838; stroke-width: 1.5;\" width=\"76\" x=\"476\" y=\"46.5\"/><rect fill=\"#F8F8F8\" height=\"37.9375\" rx=\"10\" ry=\"10\" style=\"stroke: #F8F8F8; stroke-width: 1.5;\" width=\"76\" x=\"476\" y=\"46.5\"/><rect fill=\"#F8F8F8\" height=\"10\" style=\"stroke: #F8F8F8; stroke-width: 1.5;\" width=\"76\" x=\"476\" y=\"74.4375\"/><rect fill=\"none\" height=\"42.9375\" id=\"E3\" rx=\"10\" ry=\"10\" style=\"stroke: #383838; stroke-width: 1.5;\" width=\"76\" x=\"476\" y=\"46.5\"/><text fill=\"#000000\" font-family=\"sans-serif\" font-size=\"12\" font-style=\"italic\" lengthAdjust=\"spacingAndGlyphs\" textLength=\"69\" x=\"479.5\" y=\"62.6387\">«attribute»</text><text fill=\"#000000\" font-family=\"sans-serif\" font-size=\"12\" lengthAdjust=\"spacingAndGlyphs\" textLength=\"24\" x=\"502\" y=\"76.6074\">a: A</text></a></g><g id=\"E1.E5\"><a href=\"psysml:88b39ab3-39a3-49e4-a823-2b19bc6cfd18\" target=\"_top\" title=\"psysml:88b39ab3-39a3-49e4-a823-2b19bc6cfd18\" xlink:actuate=\"onRequest\" xlink:href=\"psysml:88b39ab3-39a3-49e4-a823-2b19bc6cfd18\" xlink:show=\"new\" xlink:title=\"psysml:88b39ab3-39a3-49e4-a823-2b19bc6cfd18\" xlink:type=\"simple\"><rect fill=\"#FFFFFF\" height=\"42.9375\" id=\"E5\" rx=\"10\" ry=\"10\" style=\"stroke: #383838; stroke-width: 1.5;\" width=\"76\" x=\"365\" y=\"46.5\"/><rect fill=\"#F8F8F8\" height=\"37.9375\" rx=\"10\" ry=\"10\" style=\"stroke: #F8F8F8; stroke-width: 1.5;\" width=\"76\" x=\"365\" y=\"46.5\"/><rect fill=\"#F8F8F8\" height=\"10\" style=\"stroke: #F8F8F8; stroke-width: 1.5;\" width=\"76\" x=\"365\" y=\"74.4375\"/><rect fill=\"none\" height=\"42.9375\" id=\"E5\" rx=\"10\" ry=\"10\" style=\"stroke: #383838; stroke-width: 1.5;\" width=\"76\" x=\"365\" y=\"46.5\"/><text fill=\"#000000\" font-family=\"sans-serif\" font-size=\"12\" font-style=\"italic\" lengthAdjust=\"spacingAndGlyphs\" textLength=\"69\" x=\"368.5\" y=\"62.6387\">«attribute»</text><text fill=\"#000000\" font-family=\"sans-serif\" font-size=\"12\" lengthAdjust=\"spacingAndGlyphs\" textLength=\"4\" x=\"401\" y=\"76.6074\">f</text></a></g><g id=\"E1.E6\"><a href=\"psysml:3f28e8b6-a431-4098-a991-c6c646c27e19\" target=\"_top\" title=\"psysml:3f28e8b6-a431-4098-a991-c6c646c27e19\" xlink:actuate=\"onRequest\" xlink:href=\"psysml:3f28e8b6-a431-4098-a991-c6c646c27e19\" xlink:show=\"new\" xlink:title=\"psysml:3f28e8b6-a431-4098-a991-c6c646c27e19\" xlink:type=\"simple\"><rect fill=\"#FFFFFF\" height=\"42.9375\" id=\"E6\" rx=\"10\" ry=\"10\" style=\"stroke: #383838; stroke-width: 1.5;\" width=\"76\" x=\"254\" y=\"46.5\"/><rect fill=\"#F8F8F8\" height=\"37.9375\" rx=\"10\" ry=\"10\" style=\"stroke: #F8F8F8; stroke-width: 1.5;\" width=\"76\" x=\"254\" y=\"46.5\"/><rect fill=\"#F8F8F8\" height=\"10\" style=\"stroke: #F8F8F8; stroke-width: 1.5;\" width=\"76\" x=\"254\" y=\"74.4375\"/><rect fill=\"none\" height=\"42.9375\" id=\"E6\" rx=\"10\" ry=\"10\" style=\"stroke: #383838; stroke-width: 1.5;\" width=\"76\" x=\"254\" y=\"46.5\"/><text fill=\"#000000\" font-family=\"sans-serif\" font-size=\"12\" font-style=\"italic\" lengthAdjust=\"spacingAndGlyphs\" textLength=\"69\" x=\"257.5\" y=\"62.6387\">«attribute»</text><text fill=\"#000000\" font-family=\"sans-serif\" font-size=\"12\" lengthAdjust=\"spacingAndGlyphs\" textLength=\"8\" x=\"288\" y=\"76.6074\">g</text></a></g><g id=\"E1.E7\"><a href=\"psysml:a48346b2-888a-436e-97f1-e60fac760a88\" target=\"_top\" title=\"psysml:a48346b2-888a-436e-97f1-e60fac760a88\" xlink:actuate=\"onRequest\" xlink:href=\"psysml:a48346b2-888a-436e-97f1-e60fac760a88\" xlink:show=\"new\" xlink:title=\"psysml:a48346b2-888a-436e-97f1-e60fac760a88\" xlink:type=\"simple\"><rect fill=\"#FFFFFF\" height=\"42.9375\" id=\"E7\" rx=\"10\" ry=\"10\" style=\"stroke: #383838; stroke-width: 1.5;\" width=\"76\" x=\"143\" y=\"46.5\"/><rect fill=\"#F8F8F8\" height=\"37.9375\" rx=\"10\" ry=\"10\" style=\"stroke: #F8F8F8; stroke-width: 1.5;\" width=\"76\" x=\"143\" y=\"46.5\"/><rect fill=\"#F8F8F8\" height=\"10\" style=\"stroke: #F8F8F8; stroke-width: 1.5;\" width=\"76\" x=\"143\" y=\"74.4375\"/><rect fill=\"none\" height=\"42.9375\" id=\"E7\" rx=\"10\" ry=\"10\" style=\"stroke: #383838; stroke-width: 1.5;\" width=\"76\" x=\"143\" y=\"46.5\"/><text fill=\"#000000\" font-family=\"sans-serif\" font-size=\"12\" font-style=\"italic\" lengthAdjust=\"spacingAndGlyphs\" textLength=\"69\" x=\"146.5\" y=\"62.6387\">«attribute»</text><text fill=\"#000000\" font-family=\"sans-serif\" font-size=\"12\" lengthAdjust=\"spacingAndGlyphs\" textLength=\"8\" x=\"177\" y=\"76.6074\">b</text></a></g><g id=\"E1.E8\"><a href=\"psysml:952d2fa1-4eb4-490f-be08-21606a0b2581\" target=\"_top\" title=\"psysml:952d2fa1-4eb4-490f-be08-21606a0b2581\" xlink:actuate=\"onRequest\" xlink:href=\"psysml:952d2fa1-4eb4-490f-be08-21606a0b2581\" xlink:show=\"new\" xlink:title=\"psysml:952d2fa1-4eb4-490f-be08-21606a0b2581\" xlink:type=\"simple\"><rect fill=\"#FFFFFF\" height=\"42.9375\" id=\"E8\" rx=\"10\" ry=\"10\" style=\"stroke: #383838; stroke-width: 1.5;\" width=\"76\" x=\"32\" y=\"46.5\"/><rect fill=\"#F8F8F8\" height=\"37.9375\" rx=\"10\" ry=\"10\" style=\"stroke: #F8F8F8; stroke-width: 1.5;\" width=\"76\" x=\"32\" y=\"46.5\"/><rect fill=\"#F8F8F8\" height=\"10\" style=\"stroke: #F8F8F8; stroke-width: 1.5;\" width=\"76\" x=\"32\" y=\"74.4375\"/><rect fill=\"none\" height=\"42.9375\" id=\"E8\" rx=\"10\" ry=\"10\" style=\"stroke: #383838; stroke-width: 1.5;\" width=\"76\" x=\"32\" y=\"46.5\"/><text fill=\"#000000\" font-family=\"sans-serif\" font-size=\"12\" font-style=\"italic\" lengthAdjust=\"spacingAndGlyphs\" textLength=\"69\" x=\"35.5\" y=\"62.6387\">«attribute»</text><text fill=\"#000000\" font-family=\"sans-serif\" font-size=\"12\" lengthAdjust=\"spacingAndGlyphs\" textLength=\"7\" x=\"66.5\" y=\"76.6074\">c</text></a></g><!--MD5=[6a4e1e9c0fd2ec5bddfc2039b961a8e1]\n",
       "@startuml\r\n",
       "skinparam ranksep 8\r\n",
       "skinparam rectangle {\r\n",
       " backgroundColor<<block>> LightGreen\r\n",
       "}\r\n",
       "skinparam linetype polyline\r\n",
       "skinparam monochrome true\r\n",
       "skinparam classbackgroundcolor white\r\n",
       "skinparam shadowing false\r\n",
       "skinparam wrapWidth 300\r\n",
       "hide circle\r\n",
       "\r\n",
       "package \"ParameterTest\" as E1  [[psysml:934b4cb7-0388-44aa-8a43-948e0e0270d7 ]]  {\r\n",
       "def \"A\" as E2  <<(T,blue)attribute def>> [[psysml:129c5bc9-5e36-4fac-a06d-7961ccb64091 ]] \r\n",
       "rec usage \"a: A\" as E3  <<(T,blue)attribute>> [[psysml:50405f72-7bb1-41da-960b-ed203bf92c2d ]] {\r\n",
       "}\r\n",
       "def \"F\" as E4  <<(T,blue)calculation def>> [[psysml:84637ab1-2e14-49ab-80b7-3fb2aa846372 ]] \r\n",
       "rec usage \"f\" as E5  <<(T,blue)attribute>> [[psysml:88b39ab3-39a3-49e4-a823-2b19bc6cfd18 ]] {\r\n",
       "}\r\n",
       "rec usage \"g\" as E6  <<(T,blue)attribute>> [[psysml:3f28e8b6-a431-4098-a991-c6c646c27e19 ]] {\r\n",
       "}\r\n",
       "rec usage \"b\" as E7  <<(T,blue)attribute>> [[psysml:a48346b2-888a-436e-97f1-e60fac760a88 ]] {\r\n",
       "}\r\n",
       "rec usage \"c\" as E8  <<(T,blue)attribute>> [[psysml:952d2fa1-4eb4-490f-be08-21606a0b2581 ]] {\r\n",
       "}\r\n",
       "}\r\n",
       "@enduml\r\n",
       "\n",
       "PlantUML version 1.2020.13(Sat Jun 13 12:26:38 UTC 2020)\n",
       "(EPL source distribution)\n",
       "Java Runtime: OpenJDK Runtime Environment\n",
       "JVM: OpenJDK 64-Bit Server VM\n",
       "Default Encoding: UTF-8\n",
       "Language: en\n",
       "Country: null\n",
       "--></g></svg>"
      ]
     },
     "execution_count": 12,
     "metadata": {},
     "output_type": "execute_result"
    }
   ],
   "source": [
    "%viz --style=\"POLYLINE\" --view=\"Interconnection\" \"ParameterTest\""
   ]
  },
  {
   "cell_type": "code",
   "execution_count": 13,
   "id": "solar-cricket",
   "metadata": {
    "execution": {
     "iopub.execute_input": "2021-03-26T09:13:00.503634Z",
     "iopub.status.busy": "2021-03-26T09:13:00.503058Z",
     "iopub.status.idle": "2021-03-26T09:13:00.526746Z",
     "shell.execute_reply": "2021-03-26T09:13:00.526131Z"
    }
   },
   "outputs": [
    {
     "data": {
      "image/svg+xml": [
       "<?xml version=\"1.0\" encoding=\"UTF-8\" standalone=\"no\"?><svg xmlns=\"http://www.w3.org/2000/svg\" xmlns:xlink=\"http://www.w3.org/1999/xlink\" contentScriptType=\"application/ecmascript\" contentStyleType=\"text/css\" height=\"126px\" preserveAspectRatio=\"none\" style=\"width:166px;height:126px;\" version=\"1.1\" viewBox=\"0 0 166 126\" width=\"166px\" zoomAndPan=\"magnify\"><defs/><g><!--MD5=[fbc87193dbaf4d95561dea2c320d4a47]\n",
       "cluster E1--><a href=\"psysml:84637ab1-2e14-49ab-80b7-3fb2aa846372\" target=\"_top\" title=\"psysml:84637ab1-2e14-49ab-80b7-3fb2aa846372\" xlink:actuate=\"onRequest\" xlink:href=\"psysml:84637ab1-2e14-49ab-80b7-3fb2aa846372\" xlink:show=\"new\" xlink:title=\"psysml:84637ab1-2e14-49ab-80b7-3fb2aa846372\" xlink:type=\"simple\"><rect fill=\"#FFFFFF\" height=\"73\" id=\"E1\" style=\"stroke: #383838; stroke-width: 1.5;\" width=\"148\" x=\"7\" y=\"42.0986\"/><rect fill=\"#F8F8F8\" height=\"37.9375\" style=\"stroke: #383838; stroke-width: 1.5;\" width=\"148\" x=\"7\" y=\"42.0986\"/><text fill=\"#000000\" font-family=\"sans-serif\" font-size=\"12\" font-style=\"italic\" lengthAdjust=\"spacingAndGlyphs\" textLength=\"106\" x=\"28\" y=\"58.2373\">«calculation def»</text><text fill=\"#000000\" font-family=\"sans-serif\" font-size=\"12\" lengthAdjust=\"spacingAndGlyphs\" textLength=\"7\" x=\"77.5\" y=\"72.2061\">F</text></a><text fill=\"#000000\" font-family=\"sans-serif\" font-size=\"14\" lengthAdjust=\"spacingAndGlyphs\" textLength=\"9\" x=\"20.5\" y=\"20.7969\">p</text><rect fill=\"#383838\" height=\"12\" style=\"stroke: #F8F8F8; stroke-width: 1.5;\" width=\"12\" x=\"19\" y=\"36.0986\"/><text fill=\"#000000\" font-family=\"sans-serif\" font-size=\"14\" lengthAdjust=\"spacingAndGlyphs\" textLength=\"9\" x=\"67.5\" y=\"20.7969\">q</text><rect fill=\"#383838\" height=\"12\" style=\"stroke: #F8F8F8; stroke-width: 1.5;\" width=\"12\" x=\"66\" y=\"36.0986\"/><!--MD5=[0dc8639bff01cc9baf4b1cfd67a3c547]\n",
       "@startuml\r\n",
       "skinparam ranksep 8\r\n",
       "skinparam linetype polyline\r\n",
       "skinparam monochrome true\r\n",
       "skinparam classbackgroundcolor white\r\n",
       "skinparam shadowing false\r\n",
       "skinparam wrapWidth 300\r\n",
       "hide circle\r\n",
       "\r\n",
       "rec def \"F\" as E1  <<(T,blue)calculation def>> [[psysml:84637ab1-2e14-49ab-80b7-3fb2aa846372 ]] {\r\n",
       "portin \"p\" as E2  [[psysml:64e82b47-cc13-4353-a930-54201d4c743b ]] \r\n",
       "portin \"q\" as E3  [[psysml:647ae971-dc5c-461d-bddf-e9c9561ef010 ]] \r\n",
       "}\r\n",
       "\r\n",
       "@enduml\r\n",
       "\n",
       "PlantUML version 1.2020.13(Sat Jun 13 12:26:38 UTC 2020)\n",
       "(EPL source distribution)\n",
       "Java Runtime: OpenJDK Runtime Environment\n",
       "JVM: OpenJDK 64-Bit Server VM\n",
       "Default Encoding: UTF-8\n",
       "Language: en\n",
       "Country: null\n",
       "--></g></svg>"
      ]
     },
     "execution_count": 13,
     "metadata": {},
     "output_type": "execute_result"
    }
   ],
   "source": [
    "%viz --style=\"POLYLINE\" --view=\"Action\" \"ParameterTest\""
   ]
  },
  {
   "cell_type": "code",
   "execution_count": 14,
   "id": "signal-investor",
   "metadata": {
    "execution": {
     "iopub.execute_input": "2021-03-26T09:13:00.581106Z",
     "iopub.status.busy": "2021-03-26T09:13:00.580408Z",
     "iopub.status.idle": "2021-03-26T09:13:00.640674Z",
     "shell.execute_reply": "2021-03-26T09:13:00.639092Z"
    }
   },
   "outputs": [
    {
     "data": {
      "image/svg+xml": [
       "<?xml version=\"1.0\" encoding=\"UTF-8\" standalone=\"no\"?><svg xmlns=\"http://www.w3.org/2000/svg\" xmlns:xlink=\"http://www.w3.org/1999/xlink\" contentScriptType=\"application/ecmascript\" contentStyleType=\"text/css\" height=\"280px\" preserveAspectRatio=\"none\" style=\"width:710px;height:280px;\" version=\"1.1\" viewBox=\"0 0 710 280\" width=\"710px\" zoomAndPan=\"magnify\"><defs/><g><!--MD5=[fbc87193dbaf4d95561dea2c320d4a47]\n",
       "cluster E1--><a href=\"psysml:934b4cb7-0388-44aa-8a43-948e0e0270d7\" target=\"_top\" title=\"psysml:934b4cb7-0388-44aa-8a43-948e0e0270d7\" xlink:actuate=\"onRequest\" xlink:href=\"psysml:934b4cb7-0388-44aa-8a43-948e0e0270d7\" xlink:show=\"new\" xlink:title=\"psysml:934b4cb7-0388-44aa-8a43-948e0e0270d7\" xlink:type=\"simple\"><polygon fill=\"#FFFFFF\" points=\"16,6,139,6,146,28.2969,688,28.2969,688,268,16,268,16,6\" style=\"stroke: #000000; stroke-width: 1.5;\"/><line style=\"stroke: #000000; stroke-width: 1.5;\" x1=\"16\" x2=\"146\" y1=\"28.2969\" y2=\"28.2969\"/><text fill=\"#000000\" font-family=\"sans-serif\" font-size=\"14\" font-weight=\"bold\" lengthAdjust=\"spacingAndGlyphs\" textLength=\"117\" x=\"20\" y=\"20.9951\">ParameterTest</text></a><!--MD5=[b4997ac47864f28c2f74865a473b2911]\n",
       "class E2--><a href=\"psysml:129c5bc9-5e36-4fac-a06d-7961ccb64091\" target=\"_top\" title=\"psysml:129c5bc9-5e36-4fac-a06d-7961ccb64091\" xlink:actuate=\"onRequest\" xlink:href=\"psysml:129c5bc9-5e36-4fac-a06d-7961ccb64091\" xlink:show=\"new\" xlink:title=\"psysml:129c5bc9-5e36-4fac-a06d-7961ccb64091\" xlink:type=\"simple\"><rect fill=\"#FFFFFF\" height=\"88.3516\" id=\"E2\" style=\"stroke: #383838; stroke-width: 1.5;\" width=\"95\" x=\"498.5\" y=\"164\"/><text fill=\"#000000\" font-family=\"sans-serif\" font-size=\"12\" font-style=\"italic\" lengthAdjust=\"spacingAndGlyphs\" textLength=\"93\" x=\"499.5\" y=\"180.1387\">«attribute def»</text><text fill=\"#000000\" font-family=\"sans-serif\" font-size=\"12\" lengthAdjust=\"spacingAndGlyphs\" textLength=\"8\" x=\"542\" y=\"194.1074\">A</text><line style=\"stroke: #383838; stroke-width: 1.5;\" x1=\"499.5\" x2=\"592.5\" y1=\"201.9375\" y2=\"201.9375\"/><text fill=\"#000000\" font-family=\"sans-serif\" font-size=\"11\" lengthAdjust=\"spacingAndGlyphs\" textLength=\"48\" x=\"504.5\" y=\"232.9526\">x: String</text><text fill=\"#000000\" font-family=\"sans-serif\" font-size=\"11\" lengthAdjust=\"spacingAndGlyphs\" textLength=\"21\" x=\"504.5\" y=\"245.7573\">y: A</text><line style=\"stroke: #383838; stroke-width: 1.0;\" x1=\"499.5\" x2=\"518.5\" y1=\"216.3398\" y2=\"216.3398\"/><text fill=\"#000000\" font-family=\"sans-serif\" font-size=\"11\" lengthAdjust=\"spacingAndGlyphs\" textLength=\"55\" x=\"518.5\" y=\"219.6479\">attributes</text><line style=\"stroke: #383838; stroke-width: 1.0;\" x1=\"573.5\" x2=\"592.5\" y1=\"216.3398\" y2=\"216.3398\"/></a><!--MD5=[09b614a08d8cba4a07c9adeb5e0fee81]\n",
       "class E3--><a href=\"psysml:50405f72-7bb1-41da-960b-ed203bf92c2d\" target=\"_top\" title=\"psysml:50405f72-7bb1-41da-960b-ed203bf92c2d\" xlink:actuate=\"onRequest\" xlink:href=\"psysml:50405f72-7bb1-41da-960b-ed203bf92c2d\" xlink:show=\"new\" xlink:title=\"psysml:50405f72-7bb1-41da-960b-ed203bf92c2d\" xlink:type=\"simple\"><rect fill=\"#FFFFFF\" height=\"45.9375\" id=\"E3\" rx=\"10\" ry=\"10\" style=\"stroke: #383838; stroke-width: 1.5;\" width=\"71\" x=\"600.5\" y=\"41\"/><text fill=\"#000000\" font-family=\"sans-serif\" font-size=\"12\" font-style=\"italic\" lengthAdjust=\"spacingAndGlyphs\" textLength=\"69\" x=\"601.5\" y=\"57.1387\">«attribute»</text><text fill=\"#000000\" font-family=\"sans-serif\" font-size=\"12\" lengthAdjust=\"spacingAndGlyphs\" textLength=\"24\" x=\"624\" y=\"71.1074\">a: A</text><line style=\"stroke: #383838; stroke-width: 1.5;\" x1=\"601.5\" x2=\"670.5\" y1=\"78.9375\" y2=\"78.9375\"/></a><!--MD5=[ebbe1d658d1005bcc118a6aa81145e00]\n",
       "class E4--><a href=\"psysml:84637ab1-2e14-49ab-80b7-3fb2aa846372\" target=\"_top\" title=\"psysml:84637ab1-2e14-49ab-80b7-3fb2aa846372\" xlink:actuate=\"onRequest\" xlink:href=\"psysml:84637ab1-2e14-49ab-80b7-3fb2aa846372\" xlink:show=\"new\" xlink:title=\"psysml:84637ab1-2e14-49ab-80b7-3fb2aa846372\" xlink:type=\"simple\"><rect fill=\"#FFFFFF\" height=\"45.9375\" id=\"E4\" style=\"stroke: #383838; stroke-width: 1.5;\" width=\"108\" x=\"457\" y=\"41\"/><text fill=\"#000000\" font-family=\"sans-serif\" font-size=\"12\" font-style=\"italic\" lengthAdjust=\"spacingAndGlyphs\" textLength=\"106\" x=\"458\" y=\"57.1387\">«calculation def»</text><text fill=\"#000000\" font-family=\"sans-serif\" font-size=\"12\" lengthAdjust=\"spacingAndGlyphs\" textLength=\"7\" x=\"507.5\" y=\"71.1074\">F</text><line style=\"stroke: #383838; stroke-width: 1.5;\" x1=\"458\" x2=\"564\" y1=\"78.9375\" y2=\"78.9375\"/></a><!--MD5=[270fce915f116d4de14055a7c1d9a0f3]\n",
       "class E5--><a href=\"psysml:88b39ab3-39a3-49e4-a823-2b19bc6cfd18\" target=\"_top\" title=\"psysml:88b39ab3-39a3-49e4-a823-2b19bc6cfd18\" xlink:actuate=\"onRequest\" xlink:href=\"psysml:88b39ab3-39a3-49e4-a823-2b19bc6cfd18\" xlink:show=\"new\" xlink:title=\"psysml:88b39ab3-39a3-49e4-a823-2b19bc6cfd18\" xlink:type=\"simple\"><rect fill=\"#FFFFFF\" height=\"45.9375\" id=\"E5\" rx=\"10\" ry=\"10\" style=\"stroke: #383838; stroke-width: 1.5;\" width=\"71\" x=\"350.5\" y=\"41\"/><text fill=\"#000000\" font-family=\"sans-serif\" font-size=\"12\" font-style=\"italic\" lengthAdjust=\"spacingAndGlyphs\" textLength=\"69\" x=\"351.5\" y=\"57.1387\">«attribute»</text><text fill=\"#000000\" font-family=\"sans-serif\" font-size=\"12\" lengthAdjust=\"spacingAndGlyphs\" textLength=\"4\" x=\"384\" y=\"71.1074\">f</text><line style=\"stroke: #383838; stroke-width: 1.5;\" x1=\"351.5\" x2=\"420.5\" y1=\"78.9375\" y2=\"78.9375\"/></a><!--MD5=[60a26617385b1d2d0262a64233df1f8d]\n",
       "class E6--><a href=\"psysml:3f28e8b6-a431-4098-a991-c6c646c27e19\" target=\"_top\" title=\"psysml:3f28e8b6-a431-4098-a991-c6c646c27e19\" xlink:actuate=\"onRequest\" xlink:href=\"psysml:3f28e8b6-a431-4098-a991-c6c646c27e19\" xlink:show=\"new\" xlink:title=\"psysml:3f28e8b6-a431-4098-a991-c6c646c27e19\" xlink:type=\"simple\"><rect fill=\"#FFFFFF\" height=\"45.9375\" id=\"E6\" rx=\"10\" ry=\"10\" style=\"stroke: #383838; stroke-width: 1.5;\" width=\"71\" x=\"244.5\" y=\"41\"/><text fill=\"#000000\" font-family=\"sans-serif\" font-size=\"12\" font-style=\"italic\" lengthAdjust=\"spacingAndGlyphs\" textLength=\"69\" x=\"245.5\" y=\"57.1387\">«attribute»</text><text fill=\"#000000\" font-family=\"sans-serif\" font-size=\"12\" lengthAdjust=\"spacingAndGlyphs\" textLength=\"8\" x=\"276\" y=\"71.1074\">g</text><line style=\"stroke: #383838; stroke-width: 1.5;\" x1=\"245.5\" x2=\"314.5\" y1=\"78.9375\" y2=\"78.9375\"/></a><!--MD5=[2156ba9850f5573cc1fc38a6a4b2f02b]\n",
       "class E7--><a href=\"psysml:a48346b2-888a-436e-97f1-e60fac760a88\" target=\"_top\" title=\"psysml:a48346b2-888a-436e-97f1-e60fac760a88\" xlink:actuate=\"onRequest\" xlink:href=\"psysml:a48346b2-888a-436e-97f1-e60fac760a88\" xlink:show=\"new\" xlink:title=\"psysml:a48346b2-888a-436e-97f1-e60fac760a88\" xlink:type=\"simple\"><rect fill=\"#FFFFFF\" height=\"45.9375\" id=\"E7\" rx=\"10\" ry=\"10\" style=\"stroke: #383838; stroke-width: 1.5;\" width=\"71\" x=\"138.5\" y=\"41\"/><text fill=\"#000000\" font-family=\"sans-serif\" font-size=\"12\" font-style=\"italic\" lengthAdjust=\"spacingAndGlyphs\" textLength=\"69\" x=\"139.5\" y=\"57.1387\">«attribute»</text><text fill=\"#000000\" font-family=\"sans-serif\" font-size=\"12\" lengthAdjust=\"spacingAndGlyphs\" textLength=\"8\" x=\"170\" y=\"71.1074\">b</text><line style=\"stroke: #383838; stroke-width: 1.5;\" x1=\"139.5\" x2=\"208.5\" y1=\"78.9375\" y2=\"78.9375\"/></a><!--MD5=[b9389687b975829384b498ac4b7476b2]\n",
       "class E8--><a href=\"psysml:952d2fa1-4eb4-490f-be08-21606a0b2581\" target=\"_top\" title=\"psysml:952d2fa1-4eb4-490f-be08-21606a0b2581\" xlink:actuate=\"onRequest\" xlink:href=\"psysml:952d2fa1-4eb4-490f-be08-21606a0b2581\" xlink:show=\"new\" xlink:title=\"psysml:952d2fa1-4eb4-490f-be08-21606a0b2581\" xlink:type=\"simple\"><rect fill=\"#FFFFFF\" height=\"45.9375\" id=\"E8\" rx=\"10\" ry=\"10\" style=\"stroke: #383838; stroke-width: 1.5;\" width=\"71\" x=\"32.5\" y=\"41\"/><text fill=\"#000000\" font-family=\"sans-serif\" font-size=\"12\" font-style=\"italic\" lengthAdjust=\"spacingAndGlyphs\" textLength=\"69\" x=\"33.5\" y=\"57.1387\">«attribute»</text><text fill=\"#000000\" font-family=\"sans-serif\" font-size=\"12\" lengthAdjust=\"spacingAndGlyphs\" textLength=\"7\" x=\"64.5\" y=\"71.1074\">c</text><line style=\"stroke: #383838; stroke-width: 1.5;\" x1=\"33.5\" x2=\"102.5\" y1=\"78.9375\" y2=\"78.9375\"/></a><!--MD5=[05d275557350bfb9b23a4ef7222b4c39]\n",
       "link E3 to E2--><a href=\"psysml:7569b902-ac88-47a0-a36a-be78510f169c\" target=\"_top\" title=\"psysml:7569b902-ac88-47a0-a36a-be78510f169c\" xlink:actuate=\"onRequest\" xlink:href=\"psysml:7569b902-ac88-47a0-a36a-be78510f169c\" xlink:show=\"new\" xlink:title=\"psysml:7569b902-ac88-47a0-a36a-be78510f169c\" xlink:type=\"simple\"><path d=\"M621.94,87.19 C611.77,103.23 597.51,125.73 584.09,146.9 \" fill=\"none\" id=\"E3-&gt;E2\" style=\"stroke: #383838; stroke-width: 1.0;\"/><polygon fill=\"#FFFFFF\" points=\"573.37,163.82,577.6195,144.0225,589.448,151.5115,573.37,163.82\" style=\"stroke: #383838; stroke-width: 1.0;\"/><ellipse cx=\"582.3584\" cy=\"140.2764\" fill=\"#383838\" rx=\"2\" ry=\"2\" style=\"stroke: #383838; stroke-width: 1.0;\"/><ellipse cx=\"590.8073\" cy=\"145.6258\" fill=\"#383838\" rx=\"2\" ry=\"2\" style=\"stroke: #383838; stroke-width: 1.0;\"/></a><!--MD5=[ddeed8deb2209213b62e6cfabaa108b2]\n",
       "reverse link E4 to E2--><a href=\"psysml:64e82b47-cc13-4353-a930-54201d4c743b\" target=\"_top\" title=\"psysml:64e82b47-cc13-4353-a930-54201d4c743b\" xlink:actuate=\"onRequest\" xlink:href=\"psysml:64e82b47-cc13-4353-a930-54201d4c743b\" xlink:show=\"new\" xlink:title=\"psysml:64e82b47-cc13-4353-a930-54201d4c743b\" xlink:type=\"simple\"><path d=\"M519.62,99.96 C524.37,119.25 530.31,143.36 535.36,163.82 \" fill=\"none\" id=\"E4&lt;-E2\" style=\"stroke: #383838; stroke-width: 1.0;\"/><polygon fill=\"#FFFFFF\" points=\"516.47,87.19,514.0229,93.9732,519.3432,98.841,521.7903,92.0577,516.47,87.19\" style=\"stroke: #383838; stroke-width: 1.0;\"/><text fill=\"#000000\" font-family=\"sans-serif\" font-size=\"13\" lengthAdjust=\"spacingAndGlyphs\" textLength=\"8\" x=\"528\" y=\"130.0669\">p</text></a><!--MD5=[f6fd61e10c10cbe3e54f00ff35960ead]\n",
       "@startuml\r\n",
       "skinparam linetype polyline\r\n",
       "skinparam monochrome true\r\n",
       "skinparam classbackgroundcolor white\r\n",
       "skinparam shadowing false\r\n",
       "skinparam wrapWidth 300\r\n",
       "hide circle\r\n",
       "\r\n",
       "package \"ParameterTest\" as E1  [[psysml:934b4cb7-0388-44aa-8a43-948e0e0270d7 ]]  {\r\n",
       "comp def \"A\" as E2  <<(T,blue)attribute def>> [[psysml:129c5bc9-5e36-4fac-a06d-7961ccb64091 ]] {\r\n",
       "- - attributes - -\r\n",
       "x: String\r\n",
       "y: A\r\n",
       "}\r\n",
       "comp usage \"a: A\" as E3  <<(T,blue)attribute>> [[psysml:50405f72-7bb1-41da-960b-ed203bf92c2d ]] {\r\n",
       "}\r\n",
       "comp def \"F\" as E4  <<(T,blue)calculation def>> [[psysml:84637ab1-2e14-49ab-80b7-3fb2aa846372 ]] {\r\n",
       "}\r\n",
       "comp usage \"f\" as E5  <<(T,blue)attribute>> [[psysml:88b39ab3-39a3-49e4-a823-2b19bc6cfd18 ]] {\r\n",
       "}\r\n",
       "comp usage \"g\" as E6  <<(T,blue)attribute>> [[psysml:3f28e8b6-a431-4098-a991-c6c646c27e19 ]] {\r\n",
       "}\r\n",
       "comp usage \"b\" as E7  <<(T,blue)attribute>> [[psysml:a48346b2-888a-436e-97f1-e60fac760a88 ]] {\r\n",
       "}\r\n",
       "comp usage \"c\" as E8  <<(T,blue)attribute>> [[psysml:952d2fa1-4eb4-490f-be08-21606a0b2581 ]] {\r\n",
       "}\r\n",
       "E3 - -:|> E2 [[psysml:7569b902-ac88-47a0-a36a-be78510f169c ]] \r\n",
       "E4 o- - E2 [[psysml:64e82b47-cc13-4353-a930-54201d4c743b ]] : p\r\n",
       "}\r\n",
       "@enduml\r\n",
       "\n",
       "PlantUML version 1.2020.13(Sat Jun 13 12:26:38 UTC 2020)\n",
       "(EPL source distribution)\n",
       "Java Runtime: OpenJDK Runtime Environment\n",
       "JVM: OpenJDK 64-Bit Server VM\n",
       "Default Encoding: UTF-8\n",
       "Language: en\n",
       "Country: null\n",
       "--></g></svg>"
      ]
     },
     "execution_count": 14,
     "metadata": {},
     "output_type": "execute_result"
    }
   ],
   "source": [
    "%viz --style=\"POLYLINE\" --view=\"Sequence\" \"ParameterTest\""
   ]
  },
  {
   "cell_type": "code",
   "execution_count": 15,
   "id": "victorian-switch",
   "metadata": {
    "execution": {
     "iopub.execute_input": "2021-03-26T09:13:00.692497Z",
     "iopub.status.busy": "2021-03-26T09:13:00.691611Z",
     "iopub.status.idle": "2021-03-26T09:13:00.751536Z",
     "shell.execute_reply": "2021-03-26T09:13:00.750959Z"
    }
   },
   "outputs": [
    {
     "data": {
      "image/svg+xml": [
       "<?xml version=\"1.0\" encoding=\"UTF-8\" standalone=\"no\"?><svg xmlns=\"http://www.w3.org/2000/svg\" xmlns:xlink=\"http://www.w3.org/1999/xlink\" contentScriptType=\"application/ecmascript\" contentStyleType=\"text/css\" height=\"263px\" preserveAspectRatio=\"none\" style=\"width:740px;height:263px;\" version=\"1.1\" viewBox=\"0 0 740 263\" width=\"740px\" zoomAndPan=\"magnify\"><defs/><g><!--MD5=[fbc87193dbaf4d95561dea2c320d4a47]\n",
       "cluster E1--><a href=\"psysml:934b4cb7-0388-44aa-8a43-948e0e0270d7\" target=\"_top\" title=\"psysml:934b4cb7-0388-44aa-8a43-948e0e0270d7\" xlink:actuate=\"onRequest\" xlink:href=\"psysml:934b4cb7-0388-44aa-8a43-948e0e0270d7\" xlink:show=\"new\" xlink:title=\"psysml:934b4cb7-0388-44aa-8a43-948e0e0270d7\" xlink:type=\"simple\"><polygon fill=\"#FFFFFF\" points=\"16,6,139,6,146,28.2969,718,28.2969,718,251,16,251,16,6\" style=\"stroke: #000000; stroke-width: 1.5;\"/><line style=\"stroke: #000000; stroke-width: 1.5;\" x1=\"16\" x2=\"146\" y1=\"28.2969\" y2=\"28.2969\"/><text fill=\"#000000\" font-family=\"sans-serif\" font-size=\"14\" font-weight=\"bold\" lengthAdjust=\"spacingAndGlyphs\" textLength=\"117\" x=\"20\" y=\"20.9951\">ParameterTest</text></a><!--MD5=[f6df4d0ebaf0b5dfb2ced0ae5af7c670]\n",
       "cluster E4--><a href=\"psysml:84637ab1-2e14-49ab-80b7-3fb2aa846372\" target=\"_top\" title=\"psysml:84637ab1-2e14-49ab-80b7-3fb2aa846372\" xlink:actuate=\"onRequest\" xlink:href=\"psysml:84637ab1-2e14-49ab-80b7-3fb2aa846372\" xlink:show=\"new\" xlink:title=\"psysml:84637ab1-2e14-49ab-80b7-3fb2aa846372\" xlink:type=\"simple\"><rect fill=\"#FFFFFF\" height=\"160.5\" id=\"E4\" style=\"stroke: #383838; stroke-width: 1.5;\" width=\"148\" x=\"554\" y=\"64\"/><rect fill=\"#F8F8F8\" height=\"37.9375\" style=\"stroke: #383838; stroke-width: 1.5;\" width=\"148\" x=\"554\" y=\"64\"/><text fill=\"#000000\" font-family=\"sans-serif\" font-size=\"12\" font-style=\"italic\" lengthAdjust=\"spacingAndGlyphs\" textLength=\"106\" x=\"575\" y=\"80.1387\">«calculation def»</text><text fill=\"#000000\" font-family=\"sans-serif\" font-size=\"12\" lengthAdjust=\"spacingAndGlyphs\" textLength=\"7\" x=\"624.5\" y=\"94.1074\">F</text></a><!--MD5=[b4997ac47864f28c2f74865a473b2911]\n",
       "class E2--><a href=\"psysml:129c5bc9-5e36-4fac-a06d-7961ccb64091\" target=\"_top\" title=\"psysml:129c5bc9-5e36-4fac-a06d-7961ccb64091\" xlink:actuate=\"onRequest\" xlink:href=\"psysml:129c5bc9-5e36-4fac-a06d-7961ccb64091\" xlink:show=\"new\" xlink:title=\"psysml:129c5bc9-5e36-4fac-a06d-7961ccb64091\" xlink:type=\"simple\"><rect fill=\"#FFFFFF\" height=\"88.3516\" id=\"E2\" style=\"stroke: #383838; stroke-width: 1.5;\" width=\"95\" x=\"422.5\" y=\"147\"/><text fill=\"#000000\" font-family=\"sans-serif\" font-size=\"12\" font-style=\"italic\" lengthAdjust=\"spacingAndGlyphs\" textLength=\"93\" x=\"423.5\" y=\"163.1387\">«attribute def»</text><text fill=\"#000000\" font-family=\"sans-serif\" font-size=\"12\" lengthAdjust=\"spacingAndGlyphs\" textLength=\"8\" x=\"466\" y=\"177.1074\">A</text><line style=\"stroke: #383838; stroke-width: 1.5;\" x1=\"423.5\" x2=\"516.5\" y1=\"184.9375\" y2=\"184.9375\"/><text fill=\"#000000\" font-family=\"sans-serif\" font-size=\"11\" lengthAdjust=\"spacingAndGlyphs\" textLength=\"48\" x=\"428.5\" y=\"215.9526\">x: String</text><text fill=\"#000000\" font-family=\"sans-serif\" font-size=\"11\" lengthAdjust=\"spacingAndGlyphs\" textLength=\"21\" x=\"428.5\" y=\"228.7573\">y: A</text><line style=\"stroke: #383838; stroke-width: 1.0;\" x1=\"423.5\" x2=\"442.5\" y1=\"199.3398\" y2=\"199.3398\"/><text fill=\"#000000\" font-family=\"sans-serif\" font-size=\"11\" lengthAdjust=\"spacingAndGlyphs\" textLength=\"55\" x=\"442.5\" y=\"202.6479\">attributes</text><line style=\"stroke: #383838; stroke-width: 1.0;\" x1=\"497.5\" x2=\"516.5\" y1=\"199.3398\" y2=\"199.3398\"/></a><!--MD5=[09b614a08d8cba4a07c9adeb5e0fee81]\n",
       "class E3--><a href=\"psysml:50405f72-7bb1-41da-960b-ed203bf92c2d\" target=\"_top\" title=\"psysml:50405f72-7bb1-41da-960b-ed203bf92c2d\" xlink:actuate=\"onRequest\" xlink:href=\"psysml:50405f72-7bb1-41da-960b-ed203bf92c2d\" xlink:show=\"new\" xlink:title=\"psysml:50405f72-7bb1-41da-960b-ed203bf92c2d\" xlink:type=\"simple\"><rect fill=\"#FFFFFF\" height=\"45.9375\" id=\"E3\" rx=\"10\" ry=\"10\" style=\"stroke: #383838; stroke-width: 1.5;\" width=\"71\" x=\"456.5\" y=\"41\"/><text fill=\"#000000\" font-family=\"sans-serif\" font-size=\"12\" font-style=\"italic\" lengthAdjust=\"spacingAndGlyphs\" textLength=\"69\" x=\"457.5\" y=\"57.1387\">«attribute»</text><text fill=\"#000000\" font-family=\"sans-serif\" font-size=\"12\" lengthAdjust=\"spacingAndGlyphs\" textLength=\"24\" x=\"480\" y=\"71.1074\">a: A</text><line style=\"stroke: #383838; stroke-width: 1.5;\" x1=\"457.5\" x2=\"526.5\" y1=\"78.9375\" y2=\"78.9375\"/></a><!--MD5=[2156ba9850f5573cc1fc38a6a4b2f02b]\n",
       "class E7--><a href=\"psysml:88b39ab3-39a3-49e4-a823-2b19bc6cfd18\" target=\"_top\" title=\"psysml:88b39ab3-39a3-49e4-a823-2b19bc6cfd18\" xlink:actuate=\"onRequest\" xlink:href=\"psysml:88b39ab3-39a3-49e4-a823-2b19bc6cfd18\" xlink:show=\"new\" xlink:title=\"psysml:88b39ab3-39a3-49e4-a823-2b19bc6cfd18\" xlink:type=\"simple\"><rect fill=\"#FFFFFF\" height=\"45.9375\" id=\"E7\" rx=\"10\" ry=\"10\" style=\"stroke: #383838; stroke-width: 1.5;\" width=\"71\" x=\"350.5\" y=\"41\"/><text fill=\"#000000\" font-family=\"sans-serif\" font-size=\"12\" font-style=\"italic\" lengthAdjust=\"spacingAndGlyphs\" textLength=\"69\" x=\"351.5\" y=\"57.1387\">«attribute»</text><text fill=\"#000000\" font-family=\"sans-serif\" font-size=\"12\" lengthAdjust=\"spacingAndGlyphs\" textLength=\"4\" x=\"384\" y=\"71.1074\">f</text><line style=\"stroke: #383838; stroke-width: 1.5;\" x1=\"351.5\" x2=\"420.5\" y1=\"78.9375\" y2=\"78.9375\"/></a><!--MD5=[b9389687b975829384b498ac4b7476b2]\n",
       "class E8--><a href=\"psysml:3f28e8b6-a431-4098-a991-c6c646c27e19\" target=\"_top\" title=\"psysml:3f28e8b6-a431-4098-a991-c6c646c27e19\" xlink:actuate=\"onRequest\" xlink:href=\"psysml:3f28e8b6-a431-4098-a991-c6c646c27e19\" xlink:show=\"new\" xlink:title=\"psysml:3f28e8b6-a431-4098-a991-c6c646c27e19\" xlink:type=\"simple\"><rect fill=\"#FFFFFF\" height=\"45.9375\" id=\"E8\" rx=\"10\" ry=\"10\" style=\"stroke: #383838; stroke-width: 1.5;\" width=\"71\" x=\"244.5\" y=\"41\"/><text fill=\"#000000\" font-family=\"sans-serif\" font-size=\"12\" font-style=\"italic\" lengthAdjust=\"spacingAndGlyphs\" textLength=\"69\" x=\"245.5\" y=\"57.1387\">«attribute»</text><text fill=\"#000000\" font-family=\"sans-serif\" font-size=\"12\" lengthAdjust=\"spacingAndGlyphs\" textLength=\"8\" x=\"276\" y=\"71.1074\">g</text><line style=\"stroke: #383838; stroke-width: 1.5;\" x1=\"245.5\" x2=\"314.5\" y1=\"78.9375\" y2=\"78.9375\"/></a><!--MD5=[fd4143e9d270a159db93a4ea2a975926]\n",
       "class E9--><a href=\"psysml:a48346b2-888a-436e-97f1-e60fac760a88\" target=\"_top\" title=\"psysml:a48346b2-888a-436e-97f1-e60fac760a88\" xlink:actuate=\"onRequest\" xlink:href=\"psysml:a48346b2-888a-436e-97f1-e60fac760a88\" xlink:show=\"new\" xlink:title=\"psysml:a48346b2-888a-436e-97f1-e60fac760a88\" xlink:type=\"simple\"><rect fill=\"#FFFFFF\" height=\"45.9375\" id=\"E9\" rx=\"10\" ry=\"10\" style=\"stroke: #383838; stroke-width: 1.5;\" width=\"71\" x=\"138.5\" y=\"41\"/><text fill=\"#000000\" font-family=\"sans-serif\" font-size=\"12\" font-style=\"italic\" lengthAdjust=\"spacingAndGlyphs\" textLength=\"69\" x=\"139.5\" y=\"57.1387\">«attribute»</text><text fill=\"#000000\" font-family=\"sans-serif\" font-size=\"12\" lengthAdjust=\"spacingAndGlyphs\" textLength=\"8\" x=\"170\" y=\"71.1074\">b</text><line style=\"stroke: #383838; stroke-width: 1.5;\" x1=\"139.5\" x2=\"208.5\" y1=\"78.9375\" y2=\"78.9375\"/></a><!--MD5=[96f4274e9e20536e775497830990834d]\n",
       "class E10--><a href=\"psysml:952d2fa1-4eb4-490f-be08-21606a0b2581\" target=\"_top\" title=\"psysml:952d2fa1-4eb4-490f-be08-21606a0b2581\" xlink:actuate=\"onRequest\" xlink:href=\"psysml:952d2fa1-4eb4-490f-be08-21606a0b2581\" xlink:show=\"new\" xlink:title=\"psysml:952d2fa1-4eb4-490f-be08-21606a0b2581\" xlink:type=\"simple\"><rect fill=\"#FFFFFF\" height=\"45.9375\" id=\"E10\" rx=\"10\" ry=\"10\" style=\"stroke: #383838; stroke-width: 1.5;\" width=\"71\" x=\"32.5\" y=\"41\"/><text fill=\"#000000\" font-family=\"sans-serif\" font-size=\"12\" font-style=\"italic\" lengthAdjust=\"spacingAndGlyphs\" textLength=\"69\" x=\"33.5\" y=\"57.1387\">«attribute»</text><text fill=\"#000000\" font-family=\"sans-serif\" font-size=\"12\" lengthAdjust=\"spacingAndGlyphs\" textLength=\"7\" x=\"64.5\" y=\"71.1074\">c</text><line style=\"stroke: #383838; stroke-width: 1.5;\" x1=\"33.5\" x2=\"102.5\" y1=\"78.9375\" y2=\"78.9375\"/></a><text fill=\"#000000\" font-family=\"sans-serif\" font-size=\"14\" lengthAdjust=\"spacingAndGlyphs\" textLength=\"9\" x=\"567.5\" y=\"42.6982\">p</text><rect fill=\"#383838\" height=\"12\" style=\"stroke: #F8F8F8; stroke-width: 1.5;\" width=\"12\" x=\"566\" y=\"58\"/><text fill=\"#000000\" font-family=\"sans-serif\" font-size=\"14\" lengthAdjust=\"spacingAndGlyphs\" textLength=\"9\" x=\"614.5\" y=\"42.6982\">q</text><rect fill=\"#383838\" height=\"12\" style=\"stroke: #F8F8F8; stroke-width: 1.5;\" width=\"12\" x=\"613\" y=\"58\"/><!--MD5=[05d275557350bfb9b23a4ef7222b4c39]\n",
       "link E3 to E2--><a href=\"psysml:7569b902-ac88-47a0-a36a-be78510f169c\" target=\"_top\" title=\"psysml:7569b902-ac88-47a0-a36a-be78510f169c\" xlink:actuate=\"onRequest\" xlink:href=\"psysml:7569b902-ac88-47a0-a36a-be78510f169c\" xlink:show=\"new\" xlink:title=\"psysml:7569b902-ac88-47a0-a36a-be78510f169c\" xlink:type=\"simple\"><path d=\"M488.12,87.06 C486.14,98.3 483.62,112.6 481.1,126.95 \" fill=\"none\" id=\"E3-&gt;E2\" style=\"stroke: #383838; stroke-width: 1.0;\"/><polygon fill=\"#FFFFFF\" points=\"477.58,146.93,473.9835,127.0035,487.7711,129.4331,477.58,146.93\" style=\"stroke: #383838; stroke-width: 1.0;\"/><ellipse cx=\"476.9423\" cy=\"121.7371\" fill=\"#383838\" rx=\"2\" ry=\"2\" style=\"stroke: #383838; stroke-width: 1.0;\"/><ellipse cx=\"486.7906\" cy=\"123.4725\" fill=\"#383838\" rx=\"2\" ry=\"2\" style=\"stroke: #383838; stroke-width: 1.0;\"/></a><!--MD5=[35a1fde907d286364ff5ea6e0c309d24]\n",
       "@startuml\r\n",
       "skinparam linetype polyline\r\n",
       "skinparam monochrome true\r\n",
       "skinparam classbackgroundcolor white\r\n",
       "skinparam shadowing false\r\n",
       "skinparam wrapWidth 300\r\n",
       "hide circle\r\n",
       "\r\n",
       "package \"ParameterTest\" as E1  [[psysml:934b4cb7-0388-44aa-8a43-948e0e0270d7 ]]  {\r\n",
       "comp def \"A\" as E2  <<(T,blue)attribute def>> [[psysml:129c5bc9-5e36-4fac-a06d-7961ccb64091 ]] {\r\n",
       "- - attributes - -\r\n",
       "x: String\r\n",
       "y: A\r\n",
       "}\r\n",
       "comp usage \"a: A\" as E3  <<(T,blue)attribute>> [[psysml:50405f72-7bb1-41da-960b-ed203bf92c2d ]] {\r\n",
       "}\r\n",
       "rec def \"F\" as E4  <<(T,blue)calculation def>> [[psysml:84637ab1-2e14-49ab-80b7-3fb2aa846372 ]] {\r\n",
       "portin \"p\" as E5  [[psysml:64e82b47-cc13-4353-a930-54201d4c743b ]] \r\n",
       "portin \"q\" as E6  [[psysml:647ae971-dc5c-461d-bddf-e9c9561ef010 ]] \r\n",
       "}\r\n",
       "\r\n",
       "comp usage \"f\" as E7  <<(T,blue)attribute>> [[psysml:88b39ab3-39a3-49e4-a823-2b19bc6cfd18 ]] {\r\n",
       "}\r\n",
       "comp usage \"g\" as E8  <<(T,blue)attribute>> [[psysml:3f28e8b6-a431-4098-a991-c6c646c27e19 ]] {\r\n",
       "}\r\n",
       "comp usage \"b\" as E9  <<(T,blue)attribute>> [[psysml:a48346b2-888a-436e-97f1-e60fac760a88 ]] {\r\n",
       "}\r\n",
       "comp usage \"c\" as E10  <<(T,blue)attribute>> [[psysml:952d2fa1-4eb4-490f-be08-21606a0b2581 ]] {\r\n",
       "}\r\n",
       "E3 - -:|> E2 [[psysml:7569b902-ac88-47a0-a36a-be78510f169c ]] \r\n",
       "}\r\n",
       "@enduml\r\n",
       "\n",
       "PlantUML version 1.2020.13(Sat Jun 13 12:26:38 UTC 2020)\n",
       "(EPL source distribution)\n",
       "Java Runtime: OpenJDK Runtime Environment\n",
       "JVM: OpenJDK 64-Bit Server VM\n",
       "Default Encoding: UTF-8\n",
       "Language: en\n",
       "Country: null\n",
       "--></g></svg>"
      ]
     },
     "execution_count": 15,
     "metadata": {},
     "output_type": "execute_result"
    }
   ],
   "source": [
    "%viz --style=\"POLYLINE\" --view=\"MIXED\" \"ParameterTest\""
   ]
  },
  {
   "cell_type": "code",
   "execution_count": 16,
   "id": "hazardous-digit",
   "metadata": {
    "execution": {
     "iopub.execute_input": "2021-03-26T09:13:00.804313Z",
     "iopub.status.busy": "2021-03-26T09:13:00.803370Z",
     "iopub.status.idle": "2021-03-26T09:13:00.861454Z",
     "shell.execute_reply": "2021-03-26T09:13:00.861190Z"
    }
   },
   "outputs": [
    {
     "data": {
      "image/svg+xml": [
       "<?xml version=\"1.0\" encoding=\"UTF-8\" standalone=\"no\"?><svg xmlns=\"http://www.w3.org/2000/svg\" xmlns:xlink=\"http://www.w3.org/1999/xlink\" contentScriptType=\"application/ecmascript\" contentStyleType=\"text/css\" height=\"541px\" preserveAspectRatio=\"none\" style=\"width:350px;height:541px;\" version=\"1.1\" viewBox=\"0 0 350 541\" width=\"350px\" zoomAndPan=\"magnify\"><defs/><g><!--MD5=[fbc87193dbaf4d95561dea2c320d4a47]\n",
       "cluster E1--><a href=\"psysml:934b4cb7-0388-44aa-8a43-948e0e0270d7\" target=\"_top\" title=\"psysml:934b4cb7-0388-44aa-8a43-948e0e0270d7\" xlink:actuate=\"onRequest\" xlink:href=\"psysml:934b4cb7-0388-44aa-8a43-948e0e0270d7\" xlink:show=\"new\" xlink:title=\"psysml:934b4cb7-0388-44aa-8a43-948e0e0270d7\" xlink:type=\"simple\"><polygon fill=\"#FFFFFF\" points=\"16,6,139,6,146,28.2969,328,28.2969,328,529,16,529,16,6\" style=\"stroke: #000000; stroke-width: 1.5;\"/><line style=\"stroke: #000000; stroke-width: 1.5;\" x1=\"16\" x2=\"146\" y1=\"28.2969\" y2=\"28.2969\"/><text fill=\"#000000\" font-family=\"sans-serif\" font-size=\"14\" font-weight=\"bold\" lengthAdjust=\"spacingAndGlyphs\" textLength=\"117\" x=\"20\" y=\"20.9951\">ParameterTest</text></a><!--MD5=[f6df4d0ebaf0b5dfb2ced0ae5af7c670]\n",
       "cluster E4--><a href=\"psysml:84637ab1-2e14-49ab-80b7-3fb2aa846372\" target=\"_top\" title=\"psysml:84637ab1-2e14-49ab-80b7-3fb2aa846372\" xlink:actuate=\"onRequest\" xlink:href=\"psysml:84637ab1-2e14-49ab-80b7-3fb2aa846372\" xlink:show=\"new\" xlink:title=\"psysml:84637ab1-2e14-49ab-80b7-3fb2aa846372\" xlink:type=\"simple\"><rect fill=\"#FFFFFF\" height=\"47\" id=\"E4\" style=\"stroke: #383838; stroke-width: 1.5;\" width=\"262.5\" x=\"49.5\" y=\"55\"/><rect fill=\"#F8F8F8\" height=\"37.9375\" style=\"stroke: #383838; stroke-width: 1.5;\" width=\"262.5\" x=\"49.5\" y=\"55\"/><text fill=\"#000000\" font-family=\"sans-serif\" font-size=\"12\" font-style=\"italic\" lengthAdjust=\"spacingAndGlyphs\" textLength=\"106\" x=\"127.75\" y=\"71.1387\">«calculation def»</text><text fill=\"#000000\" font-family=\"sans-serif\" font-size=\"12\" lengthAdjust=\"spacingAndGlyphs\" textLength=\"7\" x=\"177.25\" y=\"85.1074\">F</text></a><!--MD5=[b4997ac47864f28c2f74865a473b2911]\n",
       "class E2--><a href=\"psysml:129c5bc9-5e36-4fac-a06d-7961ccb64091\" target=\"_top\" title=\"psysml:129c5bc9-5e36-4fac-a06d-7961ccb64091\" xlink:actuate=\"onRequest\" xlink:href=\"psysml:129c5bc9-5e36-4fac-a06d-7961ccb64091\" xlink:show=\"new\" xlink:title=\"psysml:129c5bc9-5e36-4fac-a06d-7961ccb64091\" xlink:type=\"simple\"><rect fill=\"#FFFFFF\" height=\"88.3516\" id=\"E2\" style=\"stroke: #383838; stroke-width: 1.5;\" width=\"95\" x=\"182\" y=\"128\"/><text fill=\"#000000\" font-family=\"sans-serif\" font-size=\"12\" font-style=\"italic\" lengthAdjust=\"spacingAndGlyphs\" textLength=\"93\" x=\"183\" y=\"144.1387\">«attribute def»</text><text fill=\"#000000\" font-family=\"sans-serif\" font-size=\"12\" lengthAdjust=\"spacingAndGlyphs\" textLength=\"8\" x=\"225.5\" y=\"158.1074\">A</text><line style=\"stroke: #383838; stroke-width: 1.5;\" x1=\"183\" x2=\"276\" y1=\"165.9375\" y2=\"165.9375\"/><text fill=\"#000000\" font-family=\"sans-serif\" font-size=\"11\" lengthAdjust=\"spacingAndGlyphs\" textLength=\"48\" x=\"188\" y=\"196.9526\">x: String</text><text fill=\"#000000\" font-family=\"sans-serif\" font-size=\"11\" lengthAdjust=\"spacingAndGlyphs\" textLength=\"21\" x=\"188\" y=\"209.7573\">y: A</text><line style=\"stroke: #383838; stroke-width: 1.0;\" x1=\"183\" x2=\"202\" y1=\"180.3398\" y2=\"180.3398\"/><text fill=\"#000000\" font-family=\"sans-serif\" font-size=\"11\" lengthAdjust=\"spacingAndGlyphs\" textLength=\"55\" x=\"202\" y=\"183.6479\">attributes</text><line style=\"stroke: #383838; stroke-width: 1.0;\" x1=\"257\" x2=\"276\" y1=\"180.3398\" y2=\"180.3398\"/></a><!--MD5=[09b614a08d8cba4a07c9adeb5e0fee81]\n",
       "class E3--><a href=\"psysml:50405f72-7bb1-41da-960b-ed203bf92c2d\" target=\"_top\" title=\"psysml:50405f72-7bb1-41da-960b-ed203bf92c2d\" xlink:actuate=\"onRequest\" xlink:href=\"psysml:50405f72-7bb1-41da-960b-ed203bf92c2d\" xlink:show=\"new\" xlink:title=\"psysml:50405f72-7bb1-41da-960b-ed203bf92c2d\" xlink:type=\"simple\"><rect fill=\"#FFFFFF\" height=\"45.9375\" id=\"E3\" rx=\"10\" ry=\"10\" style=\"stroke: #383838; stroke-width: 1.5;\" width=\"71\" x=\"32\" y=\"143\"/><text fill=\"#000000\" font-family=\"sans-serif\" font-size=\"12\" font-style=\"italic\" lengthAdjust=\"spacingAndGlyphs\" textLength=\"69\" x=\"33\" y=\"159.1387\">«attribute»</text><text fill=\"#000000\" font-family=\"sans-serif\" font-size=\"12\" lengthAdjust=\"spacingAndGlyphs\" textLength=\"24\" x=\"55.5\" y=\"173.1074\">a: A</text><line style=\"stroke: #383838; stroke-width: 1.5;\" x1=\"33\" x2=\"102\" y1=\"180.9375\" y2=\"180.9375\"/></a><!--MD5=[2156ba9850f5573cc1fc38a6a4b2f02b]\n",
       "class E7--><a href=\"psysml:88b39ab3-39a3-49e4-a823-2b19bc6cfd18\" target=\"_top\" title=\"psysml:88b39ab3-39a3-49e4-a823-2b19bc6cfd18\" xlink:actuate=\"onRequest\" xlink:href=\"psysml:88b39ab3-39a3-49e4-a823-2b19bc6cfd18\" xlink:show=\"new\" xlink:title=\"psysml:88b39ab3-39a3-49e4-a823-2b19bc6cfd18\" xlink:type=\"simple\"><rect fill=\"#FFFFFF\" height=\"45.9375\" id=\"E7\" rx=\"10\" ry=\"10\" style=\"stroke: #383838; stroke-width: 1.5;\" width=\"71\" x=\"32\" y=\"224\"/><text fill=\"#000000\" font-family=\"sans-serif\" font-size=\"12\" font-style=\"italic\" lengthAdjust=\"spacingAndGlyphs\" textLength=\"69\" x=\"33\" y=\"240.1387\">«attribute»</text><text fill=\"#000000\" font-family=\"sans-serif\" font-size=\"12\" lengthAdjust=\"spacingAndGlyphs\" textLength=\"4\" x=\"65.5\" y=\"254.1074\">f</text><line style=\"stroke: #383838; stroke-width: 1.5;\" x1=\"33\" x2=\"102\" y1=\"261.9375\" y2=\"261.9375\"/></a><!--MD5=[b9389687b975829384b498ac4b7476b2]\n",
       "class E8--><a href=\"psysml:3f28e8b6-a431-4098-a991-c6c646c27e19\" target=\"_top\" title=\"psysml:3f28e8b6-a431-4098-a991-c6c646c27e19\" xlink:actuate=\"onRequest\" xlink:href=\"psysml:3f28e8b6-a431-4098-a991-c6c646c27e19\" xlink:show=\"new\" xlink:title=\"psysml:3f28e8b6-a431-4098-a991-c6c646c27e19\" xlink:type=\"simple\"><rect fill=\"#FFFFFF\" height=\"45.9375\" id=\"E8\" rx=\"10\" ry=\"10\" style=\"stroke: #383838; stroke-width: 1.5;\" width=\"71\" x=\"32\" y=\"305\"/><text fill=\"#000000\" font-family=\"sans-serif\" font-size=\"12\" font-style=\"italic\" lengthAdjust=\"spacingAndGlyphs\" textLength=\"69\" x=\"33\" y=\"321.1387\">«attribute»</text><text fill=\"#000000\" font-family=\"sans-serif\" font-size=\"12\" lengthAdjust=\"spacingAndGlyphs\" textLength=\"8\" x=\"63.5\" y=\"335.1074\">g</text><line style=\"stroke: #383838; stroke-width: 1.5;\" x1=\"33\" x2=\"102\" y1=\"342.9375\" y2=\"342.9375\"/></a><!--MD5=[fd4143e9d270a159db93a4ea2a975926]\n",
       "class E9--><a href=\"psysml:a48346b2-888a-436e-97f1-e60fac760a88\" target=\"_top\" title=\"psysml:a48346b2-888a-436e-97f1-e60fac760a88\" xlink:actuate=\"onRequest\" xlink:href=\"psysml:a48346b2-888a-436e-97f1-e60fac760a88\" xlink:show=\"new\" xlink:title=\"psysml:a48346b2-888a-436e-97f1-e60fac760a88\" xlink:type=\"simple\"><rect fill=\"#FFFFFF\" height=\"45.9375\" id=\"E9\" rx=\"10\" ry=\"10\" style=\"stroke: #383838; stroke-width: 1.5;\" width=\"71\" x=\"32\" y=\"386\"/><text fill=\"#000000\" font-family=\"sans-serif\" font-size=\"12\" font-style=\"italic\" lengthAdjust=\"spacingAndGlyphs\" textLength=\"69\" x=\"33\" y=\"402.1387\">«attribute»</text><text fill=\"#000000\" font-family=\"sans-serif\" font-size=\"12\" lengthAdjust=\"spacingAndGlyphs\" textLength=\"8\" x=\"63.5\" y=\"416.1074\">b</text><line style=\"stroke: #383838; stroke-width: 1.5;\" x1=\"33\" x2=\"102\" y1=\"423.9375\" y2=\"423.9375\"/></a><!--MD5=[96f4274e9e20536e775497830990834d]\n",
       "class E10--><a href=\"psysml:952d2fa1-4eb4-490f-be08-21606a0b2581\" target=\"_top\" title=\"psysml:952d2fa1-4eb4-490f-be08-21606a0b2581\" xlink:actuate=\"onRequest\" xlink:href=\"psysml:952d2fa1-4eb4-490f-be08-21606a0b2581\" xlink:show=\"new\" xlink:title=\"psysml:952d2fa1-4eb4-490f-be08-21606a0b2581\" xlink:type=\"simple\"><rect fill=\"#FFFFFF\" height=\"45.9375\" id=\"E10\" rx=\"10\" ry=\"10\" style=\"stroke: #383838; stroke-width: 1.5;\" width=\"71\" x=\"32\" y=\"467\"/><text fill=\"#000000\" font-family=\"sans-serif\" font-size=\"12\" font-style=\"italic\" lengthAdjust=\"spacingAndGlyphs\" textLength=\"69\" x=\"33\" y=\"483.1387\">«attribute»</text><text fill=\"#000000\" font-family=\"sans-serif\" font-size=\"12\" lengthAdjust=\"spacingAndGlyphs\" textLength=\"7\" x=\"64\" y=\"497.1074\">c</text><line style=\"stroke: #383838; stroke-width: 1.5;\" x1=\"33\" x2=\"102\" y1=\"504.9375\" y2=\"504.9375\"/></a><text fill=\"#000000\" font-family=\"sans-serif\" font-size=\"14\" lengthAdjust=\"spacingAndGlyphs\" textLength=\"9\" x=\"63\" y=\"120.9951\">p</text><rect fill=\"#383838\" height=\"12\" style=\"stroke: #F8F8F8; stroke-width: 1.5;\" width=\"12\" x=\"61.5\" y=\"96\"/><text fill=\"#000000\" font-family=\"sans-serif\" font-size=\"14\" lengthAdjust=\"spacingAndGlyphs\" textLength=\"9\" x=\"63\" y=\"33.6982\">q</text><rect fill=\"#383838\" height=\"12\" style=\"stroke: #F8F8F8; stroke-width: 1.5;\" width=\"12\" x=\"61.5\" y=\"49\"/><!--MD5=[05d275557350bfb9b23a4ef7222b4c39]\n",
       "link E3 to E2--><a href=\"psysml:7569b902-ac88-47a0-a36a-be78510f169c\" target=\"_top\" title=\"psysml:7569b902-ac88-47a0-a36a-be78510f169c\" xlink:actuate=\"onRequest\" xlink:href=\"psysml:7569b902-ac88-47a0-a36a-be78510f169c\" xlink:show=\"new\" xlink:title=\"psysml:7569b902-ac88-47a0-a36a-be78510f169c\" xlink:type=\"simple\"><path d=\"M103.22,167.3 C120.27,167.94 141.42,168.73 161.45,169.49 \" fill=\"none\" id=\"E3-&gt;E2\" style=\"stroke: #383838; stroke-width: 1.0;\"/><polygon fill=\"#FFFFFF\" points=\"181.71,170.25,162.4631,176.5394,162.9831,162.5491,181.71,170.25\" style=\"stroke: #383838; stroke-width: 1.0;\"/><ellipse cx=\"156.8413\" cy=\"174.3291\" fill=\"#383838\" rx=\"2\" ry=\"2\" style=\"stroke: #383838; stroke-width: 1.0;\"/><ellipse cx=\"157.2128\" cy=\"164.336\" fill=\"#383838\" rx=\"2\" ry=\"2\" style=\"stroke: #383838; stroke-width: 1.0;\"/></a><!--MD5=[be02781e328bf065400f83ad173020c2]\n",
       "@startuml\r\n",
       "left to right direction\r\n",
       "skinparam monochrome true\r\n",
       "skinparam classbackgroundcolor white\r\n",
       "skinparam shadowing false\r\n",
       "skinparam wrapWidth 300\r\n",
       "hide circle\r\n",
       "\r\n",
       "package \"ParameterTest\" as E1  [[psysml:934b4cb7-0388-44aa-8a43-948e0e0270d7 ]]  {\r\n",
       "comp def \"A\" as E2  <<(T,blue)attribute def>> [[psysml:129c5bc9-5e36-4fac-a06d-7961ccb64091 ]] {\r\n",
       "- - attributes - -\r\n",
       "x: String\r\n",
       "y: A\r\n",
       "}\r\n",
       "comp usage \"a: A\" as E3  <<(T,blue)attribute>> [[psysml:50405f72-7bb1-41da-960b-ed203bf92c2d ]] {\r\n",
       "}\r\n",
       "rec def \"F\" as E4  <<(T,blue)calculation def>> [[psysml:84637ab1-2e14-49ab-80b7-3fb2aa846372 ]] {\r\n",
       "portin \"p\" as E5  [[psysml:64e82b47-cc13-4353-a930-54201d4c743b ]] \r\n",
       "portin \"q\" as E6  [[psysml:647ae971-dc5c-461d-bddf-e9c9561ef010 ]] \r\n",
       "}\r\n",
       "\r\n",
       "comp usage \"f\" as E7  <<(T,blue)attribute>> [[psysml:88b39ab3-39a3-49e4-a823-2b19bc6cfd18 ]] {\r\n",
       "}\r\n",
       "comp usage \"g\" as E8  <<(T,blue)attribute>> [[psysml:3f28e8b6-a431-4098-a991-c6c646c27e19 ]] {\r\n",
       "}\r\n",
       "comp usage \"b\" as E9  <<(T,blue)attribute>> [[psysml:a48346b2-888a-436e-97f1-e60fac760a88 ]] {\r\n",
       "}\r\n",
       "comp usage \"c\" as E10  <<(T,blue)attribute>> [[psysml:952d2fa1-4eb4-490f-be08-21606a0b2581 ]] {\r\n",
       "}\r\n",
       "E3 - -:|> E2 [[psysml:7569b902-ac88-47a0-a36a-be78510f169c ]] \r\n",
       "}\r\n",
       "@enduml\r\n",
       "\n",
       "PlantUML version 1.2020.13(Sat Jun 13 12:26:38 UTC 2020)\n",
       "(EPL source distribution)\n",
       "Java Runtime: OpenJDK Runtime Environment\n",
       "JVM: OpenJDK 64-Bit Server VM\n",
       "Default Encoding: UTF-8\n",
       "Language: en\n",
       "Country: null\n",
       "--></g></svg>"
      ]
     },
     "execution_count": 16,
     "metadata": {},
     "output_type": "execute_result"
    }
   ],
   "source": [
    "%viz --style=\"LR\" --view=\"Default\" \"ParameterTest\""
   ]
  },
  {
   "cell_type": "code",
   "execution_count": 17,
   "id": "resident-mention",
   "metadata": {
    "execution": {
     "iopub.execute_input": "2021-03-26T09:13:00.913523Z",
     "iopub.status.busy": "2021-03-26T09:13:00.912906Z",
     "iopub.status.idle": "2021-03-26T09:13:00.965561Z",
     "shell.execute_reply": "2021-03-26T09:13:00.963991Z"
    }
   },
   "outputs": [
    {
     "data": {
      "image/svg+xml": [
       "<?xml version=\"1.0\" encoding=\"UTF-8\" standalone=\"no\"?><svg xmlns=\"http://www.w3.org/2000/svg\" xmlns:xlink=\"http://www.w3.org/1999/xlink\" contentScriptType=\"application/ecmascript\" contentStyleType=\"text/css\" height=\"520px\" preserveAspectRatio=\"none\" style=\"width:343px;height:520px;\" version=\"1.1\" viewBox=\"0 0 343 520\" width=\"343px\" zoomAndPan=\"magnify\"><defs/><g><!--MD5=[fbc87193dbaf4d95561dea2c320d4a47]\n",
       "cluster E1--><a href=\"psysml:934b4cb7-0388-44aa-8a43-948e0e0270d7\" target=\"_top\" title=\"psysml:934b4cb7-0388-44aa-8a43-948e0e0270d7\" xlink:actuate=\"onRequest\" xlink:href=\"psysml:934b4cb7-0388-44aa-8a43-948e0e0270d7\" xlink:show=\"new\" xlink:title=\"psysml:934b4cb7-0388-44aa-8a43-948e0e0270d7\" xlink:type=\"simple\"><polygon fill=\"#FFFFFF\" points=\"16,6,139,6,146,28.2969,321,28.2969,321,508,16,508,16,6\" style=\"stroke: #000000; stroke-width: 1.5;\"/><line style=\"stroke: #000000; stroke-width: 1.5;\" x1=\"16\" x2=\"146\" y1=\"28.2969\" y2=\"28.2969\"/><text fill=\"#000000\" font-family=\"sans-serif\" font-size=\"14\" font-weight=\"bold\" lengthAdjust=\"spacingAndGlyphs\" textLength=\"117\" x=\"20\" y=\"20.9951\">ParameterTest</text></a><!--MD5=[b4997ac47864f28c2f74865a473b2911]\n",
       "class E2--><a href=\"psysml:129c5bc9-5e36-4fac-a06d-7961ccb64091\" target=\"_top\" title=\"psysml:129c5bc9-5e36-4fac-a06d-7961ccb64091\" xlink:actuate=\"onRequest\" xlink:href=\"psysml:129c5bc9-5e36-4fac-a06d-7961ccb64091\" xlink:show=\"new\" xlink:title=\"psysml:129c5bc9-5e36-4fac-a06d-7961ccb64091\" xlink:type=\"simple\"><rect fill=\"#FFFFFF\" height=\"88.3516\" id=\"E2\" style=\"stroke: #383838; stroke-width: 1.5;\" width=\"95\" x=\"210\" y=\"76\"/><text fill=\"#000000\" font-family=\"sans-serif\" font-size=\"12\" font-style=\"italic\" lengthAdjust=\"spacingAndGlyphs\" textLength=\"93\" x=\"211\" y=\"92.1387\">«attribute def»</text><text fill=\"#000000\" font-family=\"sans-serif\" font-size=\"12\" lengthAdjust=\"spacingAndGlyphs\" textLength=\"8\" x=\"253.5\" y=\"106.1074\">A</text><line style=\"stroke: #383838; stroke-width: 1.5;\" x1=\"211\" x2=\"304\" y1=\"113.9375\" y2=\"113.9375\"/><text fill=\"#000000\" font-family=\"sans-serif\" font-size=\"11\" lengthAdjust=\"spacingAndGlyphs\" textLength=\"48\" x=\"216\" y=\"144.9526\">x: String</text><text fill=\"#000000\" font-family=\"sans-serif\" font-size=\"11\" lengthAdjust=\"spacingAndGlyphs\" textLength=\"21\" x=\"216\" y=\"157.7573\">y: A</text><line style=\"stroke: #383838; stroke-width: 1.0;\" x1=\"211\" x2=\"230\" y1=\"128.3398\" y2=\"128.3398\"/><text fill=\"#000000\" font-family=\"sans-serif\" font-size=\"11\" lengthAdjust=\"spacingAndGlyphs\" textLength=\"55\" x=\"230\" y=\"131.6479\">attributes</text><line style=\"stroke: #383838; stroke-width: 1.0;\" x1=\"285\" x2=\"304\" y1=\"128.3398\" y2=\"128.3398\"/></a><!--MD5=[09b614a08d8cba4a07c9adeb5e0fee81]\n",
       "class E3--><a href=\"psysml:50405f72-7bb1-41da-960b-ed203bf92c2d\" target=\"_top\" title=\"psysml:50405f72-7bb1-41da-960b-ed203bf92c2d\" xlink:actuate=\"onRequest\" xlink:href=\"psysml:50405f72-7bb1-41da-960b-ed203bf92c2d\" xlink:show=\"new\" xlink:title=\"psysml:50405f72-7bb1-41da-960b-ed203bf92c2d\" xlink:type=\"simple\"><rect fill=\"#FFFFFF\" height=\"45.9375\" id=\"E3\" rx=\"10\" ry=\"10\" style=\"stroke: #383838; stroke-width: 1.5;\" width=\"71\" x=\"50.5\" y=\"41\"/><text fill=\"#000000\" font-family=\"sans-serif\" font-size=\"12\" font-style=\"italic\" lengthAdjust=\"spacingAndGlyphs\" textLength=\"69\" x=\"51.5\" y=\"57.1387\">«attribute»</text><text fill=\"#000000\" font-family=\"sans-serif\" font-size=\"12\" lengthAdjust=\"spacingAndGlyphs\" textLength=\"24\" x=\"74\" y=\"71.1074\">a: A</text><line style=\"stroke: #383838; stroke-width: 1.5;\" x1=\"51.5\" x2=\"120.5\" y1=\"78.9375\" y2=\"78.9375\"/></a><!--MD5=[ebbe1d658d1005bcc118a6aa81145e00]\n",
       "class E4--><a href=\"psysml:84637ab1-2e14-49ab-80b7-3fb2aa846372\" target=\"_top\" title=\"psysml:84637ab1-2e14-49ab-80b7-3fb2aa846372\" xlink:actuate=\"onRequest\" xlink:href=\"psysml:84637ab1-2e14-49ab-80b7-3fb2aa846372\" xlink:show=\"new\" xlink:title=\"psysml:84637ab1-2e14-49ab-80b7-3fb2aa846372\" xlink:type=\"simple\"><rect fill=\"#FFFFFF\" height=\"45.9375\" id=\"E4\" style=\"stroke: #383838; stroke-width: 1.5;\" width=\"108\" x=\"32\" y=\"122\"/><text fill=\"#000000\" font-family=\"sans-serif\" font-size=\"12\" font-style=\"italic\" lengthAdjust=\"spacingAndGlyphs\" textLength=\"106\" x=\"33\" y=\"138.1387\">«calculation def»</text><text fill=\"#000000\" font-family=\"sans-serif\" font-size=\"12\" lengthAdjust=\"spacingAndGlyphs\" textLength=\"7\" x=\"82.5\" y=\"152.1074\">F</text><line style=\"stroke: #383838; stroke-width: 1.5;\" x1=\"33\" x2=\"139\" y1=\"159.9375\" y2=\"159.9375\"/></a><!--MD5=[270fce915f116d4de14055a7c1d9a0f3]\n",
       "class E5--><a href=\"psysml:88b39ab3-39a3-49e4-a823-2b19bc6cfd18\" target=\"_top\" title=\"psysml:88b39ab3-39a3-49e4-a823-2b19bc6cfd18\" xlink:actuate=\"onRequest\" xlink:href=\"psysml:88b39ab3-39a3-49e4-a823-2b19bc6cfd18\" xlink:show=\"new\" xlink:title=\"psysml:88b39ab3-39a3-49e4-a823-2b19bc6cfd18\" xlink:type=\"simple\"><rect fill=\"#FFFFFF\" height=\"45.9375\" id=\"E5\" rx=\"10\" ry=\"10\" style=\"stroke: #383838; stroke-width: 1.5;\" width=\"71\" x=\"50.5\" y=\"203\"/><text fill=\"#000000\" font-family=\"sans-serif\" font-size=\"12\" font-style=\"italic\" lengthAdjust=\"spacingAndGlyphs\" textLength=\"69\" x=\"51.5\" y=\"219.1387\">«attribute»</text><text fill=\"#000000\" font-family=\"sans-serif\" font-size=\"12\" lengthAdjust=\"spacingAndGlyphs\" textLength=\"4\" x=\"84\" y=\"233.1074\">f</text><line style=\"stroke: #383838; stroke-width: 1.5;\" x1=\"51.5\" x2=\"120.5\" y1=\"240.9375\" y2=\"240.9375\"/></a><!--MD5=[60a26617385b1d2d0262a64233df1f8d]\n",
       "class E6--><a href=\"psysml:3f28e8b6-a431-4098-a991-c6c646c27e19\" target=\"_top\" title=\"psysml:3f28e8b6-a431-4098-a991-c6c646c27e19\" xlink:actuate=\"onRequest\" xlink:href=\"psysml:3f28e8b6-a431-4098-a991-c6c646c27e19\" xlink:show=\"new\" xlink:title=\"psysml:3f28e8b6-a431-4098-a991-c6c646c27e19\" xlink:type=\"simple\"><rect fill=\"#FFFFFF\" height=\"45.9375\" id=\"E6\" rx=\"10\" ry=\"10\" style=\"stroke: #383838; stroke-width: 1.5;\" width=\"71\" x=\"50.5\" y=\"284\"/><text fill=\"#000000\" font-family=\"sans-serif\" font-size=\"12\" font-style=\"italic\" lengthAdjust=\"spacingAndGlyphs\" textLength=\"69\" x=\"51.5\" y=\"300.1387\">«attribute»</text><text fill=\"#000000\" font-family=\"sans-serif\" font-size=\"12\" lengthAdjust=\"spacingAndGlyphs\" textLength=\"8\" x=\"82\" y=\"314.1074\">g</text><line style=\"stroke: #383838; stroke-width: 1.5;\" x1=\"51.5\" x2=\"120.5\" y1=\"321.9375\" y2=\"321.9375\"/></a><!--MD5=[2156ba9850f5573cc1fc38a6a4b2f02b]\n",
       "class E7--><a href=\"psysml:a48346b2-888a-436e-97f1-e60fac760a88\" target=\"_top\" title=\"psysml:a48346b2-888a-436e-97f1-e60fac760a88\" xlink:actuate=\"onRequest\" xlink:href=\"psysml:a48346b2-888a-436e-97f1-e60fac760a88\" xlink:show=\"new\" xlink:title=\"psysml:a48346b2-888a-436e-97f1-e60fac760a88\" xlink:type=\"simple\"><rect fill=\"#FFFFFF\" height=\"45.9375\" id=\"E7\" rx=\"10\" ry=\"10\" style=\"stroke: #383838; stroke-width: 1.5;\" width=\"71\" x=\"50.5\" y=\"365\"/><text fill=\"#000000\" font-family=\"sans-serif\" font-size=\"12\" font-style=\"italic\" lengthAdjust=\"spacingAndGlyphs\" textLength=\"69\" x=\"51.5\" y=\"381.1387\">«attribute»</text><text fill=\"#000000\" font-family=\"sans-serif\" font-size=\"12\" lengthAdjust=\"spacingAndGlyphs\" textLength=\"8\" x=\"82\" y=\"395.1074\">b</text><line style=\"stroke: #383838; stroke-width: 1.5;\" x1=\"51.5\" x2=\"120.5\" y1=\"402.9375\" y2=\"402.9375\"/></a><!--MD5=[b9389687b975829384b498ac4b7476b2]\n",
       "class E8--><a href=\"psysml:952d2fa1-4eb4-490f-be08-21606a0b2581\" target=\"_top\" title=\"psysml:952d2fa1-4eb4-490f-be08-21606a0b2581\" xlink:actuate=\"onRequest\" xlink:href=\"psysml:952d2fa1-4eb4-490f-be08-21606a0b2581\" xlink:show=\"new\" xlink:title=\"psysml:952d2fa1-4eb4-490f-be08-21606a0b2581\" xlink:type=\"simple\"><rect fill=\"#FFFFFF\" height=\"45.9375\" id=\"E8\" rx=\"10\" ry=\"10\" style=\"stroke: #383838; stroke-width: 1.5;\" width=\"71\" x=\"50.5\" y=\"446\"/><text fill=\"#000000\" font-family=\"sans-serif\" font-size=\"12\" font-style=\"italic\" lengthAdjust=\"spacingAndGlyphs\" textLength=\"69\" x=\"51.5\" y=\"462.1387\">«attribute»</text><text fill=\"#000000\" font-family=\"sans-serif\" font-size=\"12\" lengthAdjust=\"spacingAndGlyphs\" textLength=\"7\" x=\"82.5\" y=\"476.1074\">c</text><line style=\"stroke: #383838; stroke-width: 1.5;\" x1=\"51.5\" x2=\"120.5\" y1=\"483.9375\" y2=\"483.9375\"/></a><!--MD5=[05d275557350bfb9b23a4ef7222b4c39]\n",
       "link E3 to E2--><a href=\"psysml:7569b902-ac88-47a0-a36a-be78510f169c\" target=\"_top\" title=\"psysml:7569b902-ac88-47a0-a36a-be78510f169c\" xlink:actuate=\"onRequest\" xlink:href=\"psysml:7569b902-ac88-47a0-a36a-be78510f169c\" xlink:show=\"new\" xlink:title=\"psysml:7569b902-ac88-47a0-a36a-be78510f169c\" xlink:type=\"simple\"><path d=\"M121.71,75.47 C141.61,82.04 167.25,90.51 190.81,98.3 \" fill=\"none\" id=\"E3-&gt;E2\" style=\"stroke: #383838; stroke-width: 1.0;\"/><polygon fill=\"#FFFFFF\" points=\"209.94,104.62,189.7032,105.3073,194.0944,92.0138,209.94,104.62\" style=\"stroke: #383838; stroke-width: 1.0;\"/><ellipse cx=\"184.9182\" cy=\"101.6204\" fill=\"#383838\" rx=\"2\" ry=\"2\" style=\"stroke: #383838; stroke-width: 1.0;\"/><ellipse cx=\"188.0547\" cy=\"92.125\" fill=\"#383838\" rx=\"2\" ry=\"2\" style=\"stroke: #383838; stroke-width: 1.0;\"/></a><!--MD5=[ddeed8deb2209213b62e6cfabaa108b2]\n",
       "reverse link E4 to E2--><a href=\"psysml:64e82b47-cc13-4353-a930-54201d4c743b\" target=\"_top\" title=\"psysml:64e82b47-cc13-4353-a930-54201d4c743b\" xlink:actuate=\"onRequest\" xlink:href=\"psysml:64e82b47-cc13-4353-a930-54201d4c743b\" xlink:show=\"new\" xlink:title=\"psysml:64e82b47-cc13-4353-a930-54201d4c743b\" xlink:type=\"simple\"><path d=\"M153.04,135.26 C172,132.46 192.29,129.47 209.82,126.88 \" fill=\"none\" id=\"E4&lt;-E2\" style=\"stroke: #383838; stroke-width: 1.0;\"/><polygon fill=\"#FFFFFF\" points=\"140.17,137.16,146.6903,140.2399,152.0411,135.4057,145.5208,132.3258,140.17,137.16\" style=\"stroke: #383838; stroke-width: 1.0;\"/><text fill=\"#000000\" font-family=\"sans-serif\" font-size=\"13\" lengthAdjust=\"spacingAndGlyphs\" textLength=\"8\" x=\"171\" y=\"128.0669\">p</text></a><!--MD5=[29a6615bfd1eb166d87519f52ee37ed7]\n",
       "@startuml\r\n",
       "left to right direction\r\n",
       "skinparam monochrome true\r\n",
       "skinparam classbackgroundcolor white\r\n",
       "skinparam shadowing false\r\n",
       "skinparam wrapWidth 300\r\n",
       "hide circle\r\n",
       "\r\n",
       "package \"ParameterTest\" as E1  [[psysml:934b4cb7-0388-44aa-8a43-948e0e0270d7 ]]  {\r\n",
       "comp def \"A\" as E2  <<(T,blue)attribute def>> [[psysml:129c5bc9-5e36-4fac-a06d-7961ccb64091 ]] {\r\n",
       "- - attributes - -\r\n",
       "x: String\r\n",
       "y: A\r\n",
       "}\r\n",
       "comp usage \"a: A\" as E3  <<(T,blue)attribute>> [[psysml:50405f72-7bb1-41da-960b-ed203bf92c2d ]] {\r\n",
       "}\r\n",
       "comp def \"F\" as E4  <<(T,blue)calculation def>> [[psysml:84637ab1-2e14-49ab-80b7-3fb2aa846372 ]] {\r\n",
       "}\r\n",
       "comp usage \"f\" as E5  <<(T,blue)attribute>> [[psysml:88b39ab3-39a3-49e4-a823-2b19bc6cfd18 ]] {\r\n",
       "}\r\n",
       "comp usage \"g\" as E6  <<(T,blue)attribute>> [[psysml:3f28e8b6-a431-4098-a991-c6c646c27e19 ]] {\r\n",
       "}\r\n",
       "comp usage \"b\" as E7  <<(T,blue)attribute>> [[psysml:a48346b2-888a-436e-97f1-e60fac760a88 ]] {\r\n",
       "}\r\n",
       "comp usage \"c\" as E8  <<(T,blue)attribute>> [[psysml:952d2fa1-4eb4-490f-be08-21606a0b2581 ]] {\r\n",
       "}\r\n",
       "E3 - -:|> E2 [[psysml:7569b902-ac88-47a0-a36a-be78510f169c ]] \r\n",
       "E4 o- - E2 [[psysml:64e82b47-cc13-4353-a930-54201d4c743b ]] : p\r\n",
       "}\r\n",
       "@enduml\r\n",
       "\n",
       "PlantUML version 1.2020.13(Sat Jun 13 12:26:38 UTC 2020)\n",
       "(EPL source distribution)\n",
       "Java Runtime: OpenJDK Runtime Environment\n",
       "JVM: OpenJDK 64-Bit Server VM\n",
       "Default Encoding: UTF-8\n",
       "Language: en\n",
       "Country: null\n",
       "--></g></svg>"
      ]
     },
     "execution_count": 17,
     "metadata": {},
     "output_type": "execute_result"
    }
   ],
   "source": [
    "%viz --style=\"LR\" --view=\"Tree\" \"ParameterTest\""
   ]
  },
  {
   "cell_type": "code",
   "execution_count": 18,
   "id": "detected-shower",
   "metadata": {
    "execution": {
     "iopub.execute_input": "2021-03-26T09:13:01.017140Z",
     "iopub.status.busy": "2021-03-26T09:13:01.016256Z",
     "iopub.status.idle": "2021-03-26T09:13:01.022681Z",
     "shell.execute_reply": "2021-03-26T09:13:01.022315Z"
    }
   },
   "outputs": [
    {
     "data": {
      "image/svg+xml": [
       "<?xml version=\"1.0\" encoding=\"UTF-8\" standalone=\"no\"?><svg xmlns=\"http://www.w3.org/2000/svg\" xmlns:xlink=\"http://www.w3.org/1999/xlink\" contentScriptType=\"application/ecmascript\" contentStyleType=\"text/css\" height=\"12px\" preserveAspectRatio=\"none\" style=\"width:12px;height:12px;\" version=\"1.1\" viewBox=\"0 0 12 12\" width=\"12px\" zoomAndPan=\"magnify\"><defs/><g><!--MD5=[19d285c9d72a204eba4e2cd117d745e8]\n",
       "@startuml\r\n",
       "left to right direction\r\n",
       "skinparam monochrome true\r\n",
       "skinparam classbackgroundcolor white\r\n",
       "skinparam shadowing false\r\n",
       "skinparam wrapWidth 300\r\n",
       "hide circle\r\n",
       "\r\n",
       "@enduml\r\n",
       "\n",
       "PlantUML version 1.2020.13(Sat Jun 13 12:26:38 UTC 2020)\n",
       "(EPL source distribution)\n",
       "Java Runtime: OpenJDK Runtime Environment\n",
       "JVM: OpenJDK 64-Bit Server VM\n",
       "Default Encoding: UTF-8\n",
       "Language: en\n",
       "Country: null\n",
       "--></g></svg>"
      ]
     },
     "execution_count": 18,
     "metadata": {},
     "output_type": "execute_result"
    }
   ],
   "source": [
    "%viz --style=\"LR\" --view=\"State\" \"ParameterTest\""
   ]
  },
  {
   "cell_type": "code",
   "execution_count": 19,
   "id": "hungarian-harris",
   "metadata": {
    "execution": {
     "iopub.execute_input": "2021-03-26T09:13:01.075644Z",
     "iopub.status.busy": "2021-03-26T09:13:01.074394Z",
     "iopub.status.idle": "2021-03-26T09:13:01.106251Z",
     "shell.execute_reply": "2021-03-26T09:13:01.105064Z"
    }
   },
   "outputs": [
    {
     "data": {
      "image/svg+xml": [
       "<?xml version=\"1.0\" encoding=\"UTF-8\" standalone=\"no\"?><svg xmlns=\"http://www.w3.org/2000/svg\" xmlns:xlink=\"http://www.w3.org/1999/xlink\" contentScriptType=\"application/ecmascript\" contentStyleType=\"text/css\" height=\"603px\" preserveAspectRatio=\"none\" style=\"width:226px;height:603px;\" version=\"1.1\" viewBox=\"0 0 226 603\" width=\"226px\" zoomAndPan=\"magnify\"><defs/><g><!--MD5=[fbc87193dbaf4d95561dea2c320d4a47]\n",
       "cluster E1--><a href=\"psysml:934b4cb7-0388-44aa-8a43-948e0e0270d7\" target=\"_top\" title=\"psysml:934b4cb7-0388-44aa-8a43-948e0e0270d7\" xlink:actuate=\"onRequest\" xlink:href=\"psysml:934b4cb7-0388-44aa-8a43-948e0e0270d7\" xlink:show=\"new\" xlink:title=\"psysml:934b4cb7-0388-44aa-8a43-948e0e0270d7\" xlink:type=\"simple\"><polygon fill=\"#FFFFFF\" points=\"16,6,139,6,146,28.2969,204,28.2969,204,591,16,591,16,6\" style=\"stroke: #000000; stroke-width: 1.5;\"/><line style=\"stroke: #000000; stroke-width: 1.5;\" x1=\"16\" x2=\"146\" y1=\"28.2969\" y2=\"28.2969\"/><text fill=\"#000000\" font-family=\"sans-serif\" font-size=\"14\" font-weight=\"bold\" lengthAdjust=\"spacingAndGlyphs\" textLength=\"117\" x=\"20\" y=\"20.9951\">ParameterTest</text></a><!--MD5=[b4997ac47864f28c2f74865a473b2911]\n",
       "class E2--><a href=\"psysml:129c5bc9-5e36-4fac-a06d-7961ccb64091\" target=\"_top\" title=\"psysml:129c5bc9-5e36-4fac-a06d-7961ccb64091\" xlink:actuate=\"onRequest\" xlink:href=\"psysml:129c5bc9-5e36-4fac-a06d-7961ccb64091\" xlink:show=\"new\" xlink:title=\"psysml:129c5bc9-5e36-4fac-a06d-7961ccb64091\" xlink:type=\"simple\"><rect fill=\"#FFFFFF\" height=\"53.9375\" id=\"E2\" style=\"stroke: #383838; stroke-width: 1.5;\" width=\"143\" x=\"38.5\" y=\"41\"/><text fill=\"#000000\" font-family=\"sans-serif\" font-size=\"12\" font-style=\"italic\" lengthAdjust=\"spacingAndGlyphs\" textLength=\"141\" x=\"39.5\" y=\"57.1387\">«(T,blue)attribute def»</text><text fill=\"#000000\" font-family=\"sans-serif\" font-size=\"12\" lengthAdjust=\"spacingAndGlyphs\" textLength=\"8\" x=\"106\" y=\"71.1074\">A</text><line style=\"stroke: #383838; stroke-width: 1.5;\" x1=\"39.5\" x2=\"180.5\" y1=\"78.9375\" y2=\"78.9375\"/><line style=\"stroke: #383838; stroke-width: 1.5;\" x1=\"39.5\" x2=\"180.5\" y1=\"86.9375\" y2=\"86.9375\"/></a><!--MD5=[ebbe1d658d1005bcc118a6aa81145e00]\n",
       "class E4--><a href=\"psysml:84637ab1-2e14-49ab-80b7-3fb2aa846372\" target=\"_top\" title=\"psysml:84637ab1-2e14-49ab-80b7-3fb2aa846372\" xlink:actuate=\"onRequest\" xlink:href=\"psysml:84637ab1-2e14-49ab-80b7-3fb2aa846372\" xlink:show=\"new\" xlink:title=\"psysml:84637ab1-2e14-49ab-80b7-3fb2aa846372\" xlink:type=\"simple\"><rect fill=\"#FFFFFF\" height=\"53.9375\" id=\"E4\" style=\"stroke: #383838; stroke-width: 1.5;\" width=\"156\" x=\"32\" y=\"130\"/><text fill=\"#000000\" font-family=\"sans-serif\" font-size=\"12\" font-style=\"italic\" lengthAdjust=\"spacingAndGlyphs\" textLength=\"154\" x=\"33\" y=\"146.1387\">«(T,blue)calculation def»</text><text fill=\"#000000\" font-family=\"sans-serif\" font-size=\"12\" lengthAdjust=\"spacingAndGlyphs\" textLength=\"7\" x=\"106.5\" y=\"160.1074\">F</text><line style=\"stroke: #383838; stroke-width: 1.5;\" x1=\"33\" x2=\"187\" y1=\"167.9375\" y2=\"167.9375\"/><line style=\"stroke: #383838; stroke-width: 1.5;\" x1=\"33\" x2=\"187\" y1=\"175.9375\" y2=\"175.9375\"/></a><g id=\"E1.E3\"><a href=\"psysml:50405f72-7bb1-41da-960b-ed203bf92c2d\" target=\"_top\" title=\"psysml:50405f72-7bb1-41da-960b-ed203bf92c2d\" xlink:actuate=\"onRequest\" xlink:href=\"psysml:50405f72-7bb1-41da-960b-ed203bf92c2d\" xlink:show=\"new\" xlink:title=\"psysml:50405f72-7bb1-41da-960b-ed203bf92c2d\" xlink:type=\"simple\"><rect fill=\"#FFFFFF\" height=\"42.9375\" id=\"E3\" rx=\"10\" ry=\"10\" style=\"stroke: #383838; stroke-width: 1.5;\" width=\"76\" x=\"72\" y=\"219.5\"/><rect fill=\"#F8F8F8\" height=\"37.9375\" rx=\"10\" ry=\"10\" style=\"stroke: #F8F8F8; stroke-width: 1.5;\" width=\"76\" x=\"72\" y=\"219.5\"/><rect fill=\"#F8F8F8\" height=\"10\" style=\"stroke: #F8F8F8; stroke-width: 1.5;\" width=\"76\" x=\"72\" y=\"247.4375\"/><rect fill=\"none\" height=\"42.9375\" id=\"E3\" rx=\"10\" ry=\"10\" style=\"stroke: #383838; stroke-width: 1.5;\" width=\"76\" x=\"72\" y=\"219.5\"/><text fill=\"#000000\" font-family=\"sans-serif\" font-size=\"12\" font-style=\"italic\" lengthAdjust=\"spacingAndGlyphs\" textLength=\"69\" x=\"75.5\" y=\"235.6387\">«attribute»</text><text fill=\"#000000\" font-family=\"sans-serif\" font-size=\"12\" lengthAdjust=\"spacingAndGlyphs\" textLength=\"24\" x=\"98\" y=\"249.6074\">a: A</text></a></g><g id=\"E1.E5\"><a href=\"psysml:88b39ab3-39a3-49e4-a823-2b19bc6cfd18\" target=\"_top\" title=\"psysml:88b39ab3-39a3-49e4-a823-2b19bc6cfd18\" xlink:actuate=\"onRequest\" xlink:href=\"psysml:88b39ab3-39a3-49e4-a823-2b19bc6cfd18\" xlink:show=\"new\" xlink:title=\"psysml:88b39ab3-39a3-49e4-a823-2b19bc6cfd18\" xlink:type=\"simple\"><rect fill=\"#FFFFFF\" height=\"42.9375\" id=\"E5\" rx=\"10\" ry=\"10\" style=\"stroke: #383838; stroke-width: 1.5;\" width=\"76\" x=\"72\" y=\"297.5\"/><rect fill=\"#F8F8F8\" height=\"37.9375\" rx=\"10\" ry=\"10\" style=\"stroke: #F8F8F8; stroke-width: 1.5;\" width=\"76\" x=\"72\" y=\"297.5\"/><rect fill=\"#F8F8F8\" height=\"10\" style=\"stroke: #F8F8F8; stroke-width: 1.5;\" width=\"76\" x=\"72\" y=\"325.4375\"/><rect fill=\"none\" height=\"42.9375\" id=\"E5\" rx=\"10\" ry=\"10\" style=\"stroke: #383838; stroke-width: 1.5;\" width=\"76\" x=\"72\" y=\"297.5\"/><text fill=\"#000000\" font-family=\"sans-serif\" font-size=\"12\" font-style=\"italic\" lengthAdjust=\"spacingAndGlyphs\" textLength=\"69\" x=\"75.5\" y=\"313.6387\">«attribute»</text><text fill=\"#000000\" font-family=\"sans-serif\" font-size=\"12\" lengthAdjust=\"spacingAndGlyphs\" textLength=\"4\" x=\"108\" y=\"327.6074\">f</text></a></g><g id=\"E1.E6\"><a href=\"psysml:3f28e8b6-a431-4098-a991-c6c646c27e19\" target=\"_top\" title=\"psysml:3f28e8b6-a431-4098-a991-c6c646c27e19\" xlink:actuate=\"onRequest\" xlink:href=\"psysml:3f28e8b6-a431-4098-a991-c6c646c27e19\" xlink:show=\"new\" xlink:title=\"psysml:3f28e8b6-a431-4098-a991-c6c646c27e19\" xlink:type=\"simple\"><rect fill=\"#FFFFFF\" height=\"42.9375\" id=\"E6\" rx=\"10\" ry=\"10\" style=\"stroke: #383838; stroke-width: 1.5;\" width=\"76\" x=\"72\" y=\"375.5\"/><rect fill=\"#F8F8F8\" height=\"37.9375\" rx=\"10\" ry=\"10\" style=\"stroke: #F8F8F8; stroke-width: 1.5;\" width=\"76\" x=\"72\" y=\"375.5\"/><rect fill=\"#F8F8F8\" height=\"10\" style=\"stroke: #F8F8F8; stroke-width: 1.5;\" width=\"76\" x=\"72\" y=\"403.4375\"/><rect fill=\"none\" height=\"42.9375\" id=\"E6\" rx=\"10\" ry=\"10\" style=\"stroke: #383838; stroke-width: 1.5;\" width=\"76\" x=\"72\" y=\"375.5\"/><text fill=\"#000000\" font-family=\"sans-serif\" font-size=\"12\" font-style=\"italic\" lengthAdjust=\"spacingAndGlyphs\" textLength=\"69\" x=\"75.5\" y=\"391.6387\">«attribute»</text><text fill=\"#000000\" font-family=\"sans-serif\" font-size=\"12\" lengthAdjust=\"spacingAndGlyphs\" textLength=\"8\" x=\"106\" y=\"405.6074\">g</text></a></g><g id=\"E1.E7\"><a href=\"psysml:a48346b2-888a-436e-97f1-e60fac760a88\" target=\"_top\" title=\"psysml:a48346b2-888a-436e-97f1-e60fac760a88\" xlink:actuate=\"onRequest\" xlink:href=\"psysml:a48346b2-888a-436e-97f1-e60fac760a88\" xlink:show=\"new\" xlink:title=\"psysml:a48346b2-888a-436e-97f1-e60fac760a88\" xlink:type=\"simple\"><rect fill=\"#FFFFFF\" height=\"42.9375\" id=\"E7\" rx=\"10\" ry=\"10\" style=\"stroke: #383838; stroke-width: 1.5;\" width=\"76\" x=\"72\" y=\"453.5\"/><rect fill=\"#F8F8F8\" height=\"37.9375\" rx=\"10\" ry=\"10\" style=\"stroke: #F8F8F8; stroke-width: 1.5;\" width=\"76\" x=\"72\" y=\"453.5\"/><rect fill=\"#F8F8F8\" height=\"10\" style=\"stroke: #F8F8F8; stroke-width: 1.5;\" width=\"76\" x=\"72\" y=\"481.4375\"/><rect fill=\"none\" height=\"42.9375\" id=\"E7\" rx=\"10\" ry=\"10\" style=\"stroke: #383838; stroke-width: 1.5;\" width=\"76\" x=\"72\" y=\"453.5\"/><text fill=\"#000000\" font-family=\"sans-serif\" font-size=\"12\" font-style=\"italic\" lengthAdjust=\"spacingAndGlyphs\" textLength=\"69\" x=\"75.5\" y=\"469.6387\">«attribute»</text><text fill=\"#000000\" font-family=\"sans-serif\" font-size=\"12\" lengthAdjust=\"spacingAndGlyphs\" textLength=\"8\" x=\"106\" y=\"483.6074\">b</text></a></g><g id=\"E1.E8\"><a href=\"psysml:952d2fa1-4eb4-490f-be08-21606a0b2581\" target=\"_top\" title=\"psysml:952d2fa1-4eb4-490f-be08-21606a0b2581\" xlink:actuate=\"onRequest\" xlink:href=\"psysml:952d2fa1-4eb4-490f-be08-21606a0b2581\" xlink:show=\"new\" xlink:title=\"psysml:952d2fa1-4eb4-490f-be08-21606a0b2581\" xlink:type=\"simple\"><rect fill=\"#FFFFFF\" height=\"42.9375\" id=\"E8\" rx=\"10\" ry=\"10\" style=\"stroke: #383838; stroke-width: 1.5;\" width=\"76\" x=\"72\" y=\"531.5\"/><rect fill=\"#F8F8F8\" height=\"37.9375\" rx=\"10\" ry=\"10\" style=\"stroke: #F8F8F8; stroke-width: 1.5;\" width=\"76\" x=\"72\" y=\"531.5\"/><rect fill=\"#F8F8F8\" height=\"10\" style=\"stroke: #F8F8F8; stroke-width: 1.5;\" width=\"76\" x=\"72\" y=\"559.4375\"/><rect fill=\"none\" height=\"42.9375\" id=\"E8\" rx=\"10\" ry=\"10\" style=\"stroke: #383838; stroke-width: 1.5;\" width=\"76\" x=\"72\" y=\"531.5\"/><text fill=\"#000000\" font-family=\"sans-serif\" font-size=\"12\" font-style=\"italic\" lengthAdjust=\"spacingAndGlyphs\" textLength=\"69\" x=\"75.5\" y=\"547.6387\">«attribute»</text><text fill=\"#000000\" font-family=\"sans-serif\" font-size=\"12\" lengthAdjust=\"spacingAndGlyphs\" textLength=\"7\" x=\"106.5\" y=\"561.6074\">c</text></a></g><!--MD5=[9c5247255e5582a29ff68f5f2b22f0fa]\n",
       "@startuml\r\n",
       "skinparam ranksep 8\r\n",
       "skinparam rectangle {\r\n",
       " backgroundColor<<block>> LightGreen\r\n",
       "}\r\n",
       "left to right direction\r\n",
       "skinparam monochrome true\r\n",
       "skinparam classbackgroundcolor white\r\n",
       "skinparam shadowing false\r\n",
       "skinparam wrapWidth 300\r\n",
       "hide circle\r\n",
       "\r\n",
       "package \"ParameterTest\" as E1  [[psysml:934b4cb7-0388-44aa-8a43-948e0e0270d7 ]]  {\r\n",
       "def \"A\" as E2  <<(T,blue)attribute def>> [[psysml:129c5bc9-5e36-4fac-a06d-7961ccb64091 ]] \r\n",
       "rec usage \"a: A\" as E3  <<(T,blue)attribute>> [[psysml:50405f72-7bb1-41da-960b-ed203bf92c2d ]] {\r\n",
       "}\r\n",
       "def \"F\" as E4  <<(T,blue)calculation def>> [[psysml:84637ab1-2e14-49ab-80b7-3fb2aa846372 ]] \r\n",
       "rec usage \"f\" as E5  <<(T,blue)attribute>> [[psysml:88b39ab3-39a3-49e4-a823-2b19bc6cfd18 ]] {\r\n",
       "}\r\n",
       "rec usage \"g\" as E6  <<(T,blue)attribute>> [[psysml:3f28e8b6-a431-4098-a991-c6c646c27e19 ]] {\r\n",
       "}\r\n",
       "rec usage \"b\" as E7  <<(T,blue)attribute>> [[psysml:a48346b2-888a-436e-97f1-e60fac760a88 ]] {\r\n",
       "}\r\n",
       "rec usage \"c\" as E8  <<(T,blue)attribute>> [[psysml:952d2fa1-4eb4-490f-be08-21606a0b2581 ]] {\r\n",
       "}\r\n",
       "}\r\n",
       "@enduml\r\n",
       "\n",
       "PlantUML version 1.2020.13(Sat Jun 13 12:26:38 UTC 2020)\n",
       "(EPL source distribution)\n",
       "Java Runtime: OpenJDK Runtime Environment\n",
       "JVM: OpenJDK 64-Bit Server VM\n",
       "Default Encoding: UTF-8\n",
       "Language: en\n",
       "Country: null\n",
       "--></g></svg>"
      ]
     },
     "execution_count": 19,
     "metadata": {},
     "output_type": "execute_result"
    }
   ],
   "source": [
    "%viz --style=\"LR\" --view=\"Interconnection\" \"ParameterTest\""
   ]
  },
  {
   "cell_type": "code",
   "execution_count": 20,
   "id": "subsequent-tennessee",
   "metadata": {
    "execution": {
     "iopub.execute_input": "2021-03-26T09:13:01.158754Z",
     "iopub.status.busy": "2021-03-26T09:13:01.158258Z",
     "iopub.status.idle": "2021-03-26T09:13:01.188840Z",
     "shell.execute_reply": "2021-03-26T09:13:01.189286Z"
    }
   },
   "outputs": [
    {
     "data": {
      "image/svg+xml": [
       "<?xml version=\"1.0\" encoding=\"UTF-8\" standalone=\"no\"?><svg xmlns=\"http://www.w3.org/2000/svg\" xmlns:xlink=\"http://www.w3.org/1999/xlink\" contentScriptType=\"application/ecmascript\" contentStyleType=\"text/css\" height=\"121px\" preserveAspectRatio=\"none\" style=\"width:207px;height:121px;\" version=\"1.1\" viewBox=\"0 0 207 121\" width=\"207px\" zoomAndPan=\"magnify\"><defs/><g><!--MD5=[fbc87193dbaf4d95561dea2c320d4a47]\n",
       "cluster E1--><a href=\"psysml:84637ab1-2e14-49ab-80b7-3fb2aa846372\" target=\"_top\" title=\"psysml:84637ab1-2e14-49ab-80b7-3fb2aa846372\" xlink:actuate=\"onRequest\" xlink:href=\"psysml:84637ab1-2e14-49ab-80b7-3fb2aa846372\" xlink:show=\"new\" xlink:title=\"psysml:84637ab1-2e14-49ab-80b7-3fb2aa846372\" xlink:type=\"simple\"><rect fill=\"#FFFFFF\" height=\"47\" id=\"E1\" style=\"stroke: #383838; stroke-width: 1.5;\" width=\"189\" x=\"7\" y=\"42.0986\"/><rect fill=\"#F8F8F8\" height=\"37.9375\" style=\"stroke: #383838; stroke-width: 1.5;\" width=\"189\" x=\"7\" y=\"42.0986\"/><text fill=\"#000000\" font-family=\"sans-serif\" font-size=\"12\" font-style=\"italic\" lengthAdjust=\"spacingAndGlyphs\" textLength=\"106\" x=\"48.5\" y=\"58.2373\">«calculation def»</text><text fill=\"#000000\" font-family=\"sans-serif\" font-size=\"12\" lengthAdjust=\"spacingAndGlyphs\" textLength=\"7\" x=\"98\" y=\"72.2061\">F</text></a><text fill=\"#000000\" font-family=\"sans-serif\" font-size=\"14\" lengthAdjust=\"spacingAndGlyphs\" textLength=\"9\" x=\"20.5\" y=\"108.0938\">p</text><rect fill=\"#383838\" height=\"12\" style=\"stroke: #F8F8F8; stroke-width: 1.5;\" width=\"12\" x=\"19\" y=\"83.0986\"/><text fill=\"#000000\" font-family=\"sans-serif\" font-size=\"14\" lengthAdjust=\"spacingAndGlyphs\" textLength=\"9\" x=\"20.5\" y=\"20.7969\">q</text><rect fill=\"#383838\" height=\"12\" style=\"stroke: #F8F8F8; stroke-width: 1.5;\" width=\"12\" x=\"19\" y=\"36.0986\"/><!--MD5=[4426b920f72121b525a630e6e6e7e67b]\n",
       "@startuml\r\n",
       "skinparam ranksep 8\r\n",
       "left to right direction\r\n",
       "skinparam monochrome true\r\n",
       "skinparam classbackgroundcolor white\r\n",
       "skinparam shadowing false\r\n",
       "skinparam wrapWidth 300\r\n",
       "hide circle\r\n",
       "\r\n",
       "rec def \"F\" as E1  <<(T,blue)calculation def>> [[psysml:84637ab1-2e14-49ab-80b7-3fb2aa846372 ]] {\r\n",
       "portin \"p\" as E2  [[psysml:64e82b47-cc13-4353-a930-54201d4c743b ]] \r\n",
       "portin \"q\" as E3  [[psysml:647ae971-dc5c-461d-bddf-e9c9561ef010 ]] \r\n",
       "}\r\n",
       "\r\n",
       "@enduml\r\n",
       "\n",
       "PlantUML version 1.2020.13(Sat Jun 13 12:26:38 UTC 2020)\n",
       "(EPL source distribution)\n",
       "Java Runtime: OpenJDK Runtime Environment\n",
       "JVM: OpenJDK 64-Bit Server VM\n",
       "Default Encoding: UTF-8\n",
       "Language: en\n",
       "Country: null\n",
       "--></g></svg>"
      ]
     },
     "execution_count": 20,
     "metadata": {},
     "output_type": "execute_result"
    }
   ],
   "source": [
    "%viz --style=\"LR\" --view=\"Action\" \"ParameterTest\""
   ]
  },
  {
   "cell_type": "code",
   "execution_count": 21,
   "id": "canadian-sport",
   "metadata": {
    "execution": {
     "iopub.execute_input": "2021-03-26T09:13:01.240412Z",
     "iopub.status.busy": "2021-03-26T09:13:01.239692Z",
     "iopub.status.idle": "2021-03-26T09:13:01.285842Z",
     "shell.execute_reply": "2021-03-26T09:13:01.284545Z"
    }
   },
   "outputs": [
    {
     "data": {
      "image/svg+xml": [
       "<?xml version=\"1.0\" encoding=\"UTF-8\" standalone=\"no\"?><svg xmlns=\"http://www.w3.org/2000/svg\" xmlns:xlink=\"http://www.w3.org/1999/xlink\" contentScriptType=\"application/ecmascript\" contentStyleType=\"text/css\" height=\"520px\" preserveAspectRatio=\"none\" style=\"width:343px;height:520px;\" version=\"1.1\" viewBox=\"0 0 343 520\" width=\"343px\" zoomAndPan=\"magnify\"><defs/><g><!--MD5=[fbc87193dbaf4d95561dea2c320d4a47]\n",
       "cluster E1--><a href=\"psysml:934b4cb7-0388-44aa-8a43-948e0e0270d7\" target=\"_top\" title=\"psysml:934b4cb7-0388-44aa-8a43-948e0e0270d7\" xlink:actuate=\"onRequest\" xlink:href=\"psysml:934b4cb7-0388-44aa-8a43-948e0e0270d7\" xlink:show=\"new\" xlink:title=\"psysml:934b4cb7-0388-44aa-8a43-948e0e0270d7\" xlink:type=\"simple\"><polygon fill=\"#FFFFFF\" points=\"16,6,139,6,146,28.2969,321,28.2969,321,508,16,508,16,6\" style=\"stroke: #000000; stroke-width: 1.5;\"/><line style=\"stroke: #000000; stroke-width: 1.5;\" x1=\"16\" x2=\"146\" y1=\"28.2969\" y2=\"28.2969\"/><text fill=\"#000000\" font-family=\"sans-serif\" font-size=\"14\" font-weight=\"bold\" lengthAdjust=\"spacingAndGlyphs\" textLength=\"117\" x=\"20\" y=\"20.9951\">ParameterTest</text></a><!--MD5=[b4997ac47864f28c2f74865a473b2911]\n",
       "class E2--><a href=\"psysml:129c5bc9-5e36-4fac-a06d-7961ccb64091\" target=\"_top\" title=\"psysml:129c5bc9-5e36-4fac-a06d-7961ccb64091\" xlink:actuate=\"onRequest\" xlink:href=\"psysml:129c5bc9-5e36-4fac-a06d-7961ccb64091\" xlink:show=\"new\" xlink:title=\"psysml:129c5bc9-5e36-4fac-a06d-7961ccb64091\" xlink:type=\"simple\"><rect fill=\"#FFFFFF\" height=\"88.3516\" id=\"E2\" style=\"stroke: #383838; stroke-width: 1.5;\" width=\"95\" x=\"210\" y=\"76\"/><text fill=\"#000000\" font-family=\"sans-serif\" font-size=\"12\" font-style=\"italic\" lengthAdjust=\"spacingAndGlyphs\" textLength=\"93\" x=\"211\" y=\"92.1387\">«attribute def»</text><text fill=\"#000000\" font-family=\"sans-serif\" font-size=\"12\" lengthAdjust=\"spacingAndGlyphs\" textLength=\"8\" x=\"253.5\" y=\"106.1074\">A</text><line style=\"stroke: #383838; stroke-width: 1.5;\" x1=\"211\" x2=\"304\" y1=\"113.9375\" y2=\"113.9375\"/><text fill=\"#000000\" font-family=\"sans-serif\" font-size=\"11\" lengthAdjust=\"spacingAndGlyphs\" textLength=\"48\" x=\"216\" y=\"144.9526\">x: String</text><text fill=\"#000000\" font-family=\"sans-serif\" font-size=\"11\" lengthAdjust=\"spacingAndGlyphs\" textLength=\"21\" x=\"216\" y=\"157.7573\">y: A</text><line style=\"stroke: #383838; stroke-width: 1.0;\" x1=\"211\" x2=\"230\" y1=\"128.3398\" y2=\"128.3398\"/><text fill=\"#000000\" font-family=\"sans-serif\" font-size=\"11\" lengthAdjust=\"spacingAndGlyphs\" textLength=\"55\" x=\"230\" y=\"131.6479\">attributes</text><line style=\"stroke: #383838; stroke-width: 1.0;\" x1=\"285\" x2=\"304\" y1=\"128.3398\" y2=\"128.3398\"/></a><!--MD5=[09b614a08d8cba4a07c9adeb5e0fee81]\n",
       "class E3--><a href=\"psysml:50405f72-7bb1-41da-960b-ed203bf92c2d\" target=\"_top\" title=\"psysml:50405f72-7bb1-41da-960b-ed203bf92c2d\" xlink:actuate=\"onRequest\" xlink:href=\"psysml:50405f72-7bb1-41da-960b-ed203bf92c2d\" xlink:show=\"new\" xlink:title=\"psysml:50405f72-7bb1-41da-960b-ed203bf92c2d\" xlink:type=\"simple\"><rect fill=\"#FFFFFF\" height=\"45.9375\" id=\"E3\" rx=\"10\" ry=\"10\" style=\"stroke: #383838; stroke-width: 1.5;\" width=\"71\" x=\"50.5\" y=\"41\"/><text fill=\"#000000\" font-family=\"sans-serif\" font-size=\"12\" font-style=\"italic\" lengthAdjust=\"spacingAndGlyphs\" textLength=\"69\" x=\"51.5\" y=\"57.1387\">«attribute»</text><text fill=\"#000000\" font-family=\"sans-serif\" font-size=\"12\" lengthAdjust=\"spacingAndGlyphs\" textLength=\"24\" x=\"74\" y=\"71.1074\">a: A</text><line style=\"stroke: #383838; stroke-width: 1.5;\" x1=\"51.5\" x2=\"120.5\" y1=\"78.9375\" y2=\"78.9375\"/></a><!--MD5=[ebbe1d658d1005bcc118a6aa81145e00]\n",
       "class E4--><a href=\"psysml:84637ab1-2e14-49ab-80b7-3fb2aa846372\" target=\"_top\" title=\"psysml:84637ab1-2e14-49ab-80b7-3fb2aa846372\" xlink:actuate=\"onRequest\" xlink:href=\"psysml:84637ab1-2e14-49ab-80b7-3fb2aa846372\" xlink:show=\"new\" xlink:title=\"psysml:84637ab1-2e14-49ab-80b7-3fb2aa846372\" xlink:type=\"simple\"><rect fill=\"#FFFFFF\" height=\"45.9375\" id=\"E4\" style=\"stroke: #383838; stroke-width: 1.5;\" width=\"108\" x=\"32\" y=\"122\"/><text fill=\"#000000\" font-family=\"sans-serif\" font-size=\"12\" font-style=\"italic\" lengthAdjust=\"spacingAndGlyphs\" textLength=\"106\" x=\"33\" y=\"138.1387\">«calculation def»</text><text fill=\"#000000\" font-family=\"sans-serif\" font-size=\"12\" lengthAdjust=\"spacingAndGlyphs\" textLength=\"7\" x=\"82.5\" y=\"152.1074\">F</text><line style=\"stroke: #383838; stroke-width: 1.5;\" x1=\"33\" x2=\"139\" y1=\"159.9375\" y2=\"159.9375\"/></a><!--MD5=[270fce915f116d4de14055a7c1d9a0f3]\n",
       "class E5--><a href=\"psysml:88b39ab3-39a3-49e4-a823-2b19bc6cfd18\" target=\"_top\" title=\"psysml:88b39ab3-39a3-49e4-a823-2b19bc6cfd18\" xlink:actuate=\"onRequest\" xlink:href=\"psysml:88b39ab3-39a3-49e4-a823-2b19bc6cfd18\" xlink:show=\"new\" xlink:title=\"psysml:88b39ab3-39a3-49e4-a823-2b19bc6cfd18\" xlink:type=\"simple\"><rect fill=\"#FFFFFF\" height=\"45.9375\" id=\"E5\" rx=\"10\" ry=\"10\" style=\"stroke: #383838; stroke-width: 1.5;\" width=\"71\" x=\"50.5\" y=\"203\"/><text fill=\"#000000\" font-family=\"sans-serif\" font-size=\"12\" font-style=\"italic\" lengthAdjust=\"spacingAndGlyphs\" textLength=\"69\" x=\"51.5\" y=\"219.1387\">«attribute»</text><text fill=\"#000000\" font-family=\"sans-serif\" font-size=\"12\" lengthAdjust=\"spacingAndGlyphs\" textLength=\"4\" x=\"84\" y=\"233.1074\">f</text><line style=\"stroke: #383838; stroke-width: 1.5;\" x1=\"51.5\" x2=\"120.5\" y1=\"240.9375\" y2=\"240.9375\"/></a><!--MD5=[60a26617385b1d2d0262a64233df1f8d]\n",
       "class E6--><a href=\"psysml:3f28e8b6-a431-4098-a991-c6c646c27e19\" target=\"_top\" title=\"psysml:3f28e8b6-a431-4098-a991-c6c646c27e19\" xlink:actuate=\"onRequest\" xlink:href=\"psysml:3f28e8b6-a431-4098-a991-c6c646c27e19\" xlink:show=\"new\" xlink:title=\"psysml:3f28e8b6-a431-4098-a991-c6c646c27e19\" xlink:type=\"simple\"><rect fill=\"#FFFFFF\" height=\"45.9375\" id=\"E6\" rx=\"10\" ry=\"10\" style=\"stroke: #383838; stroke-width: 1.5;\" width=\"71\" x=\"50.5\" y=\"284\"/><text fill=\"#000000\" font-family=\"sans-serif\" font-size=\"12\" font-style=\"italic\" lengthAdjust=\"spacingAndGlyphs\" textLength=\"69\" x=\"51.5\" y=\"300.1387\">«attribute»</text><text fill=\"#000000\" font-family=\"sans-serif\" font-size=\"12\" lengthAdjust=\"spacingAndGlyphs\" textLength=\"8\" x=\"82\" y=\"314.1074\">g</text><line style=\"stroke: #383838; stroke-width: 1.5;\" x1=\"51.5\" x2=\"120.5\" y1=\"321.9375\" y2=\"321.9375\"/></a><!--MD5=[2156ba9850f5573cc1fc38a6a4b2f02b]\n",
       "class E7--><a href=\"psysml:a48346b2-888a-436e-97f1-e60fac760a88\" target=\"_top\" title=\"psysml:a48346b2-888a-436e-97f1-e60fac760a88\" xlink:actuate=\"onRequest\" xlink:href=\"psysml:a48346b2-888a-436e-97f1-e60fac760a88\" xlink:show=\"new\" xlink:title=\"psysml:a48346b2-888a-436e-97f1-e60fac760a88\" xlink:type=\"simple\"><rect fill=\"#FFFFFF\" height=\"45.9375\" id=\"E7\" rx=\"10\" ry=\"10\" style=\"stroke: #383838; stroke-width: 1.5;\" width=\"71\" x=\"50.5\" y=\"365\"/><text fill=\"#000000\" font-family=\"sans-serif\" font-size=\"12\" font-style=\"italic\" lengthAdjust=\"spacingAndGlyphs\" textLength=\"69\" x=\"51.5\" y=\"381.1387\">«attribute»</text><text fill=\"#000000\" font-family=\"sans-serif\" font-size=\"12\" lengthAdjust=\"spacingAndGlyphs\" textLength=\"8\" x=\"82\" y=\"395.1074\">b</text><line style=\"stroke: #383838; stroke-width: 1.5;\" x1=\"51.5\" x2=\"120.5\" y1=\"402.9375\" y2=\"402.9375\"/></a><!--MD5=[b9389687b975829384b498ac4b7476b2]\n",
       "class E8--><a href=\"psysml:952d2fa1-4eb4-490f-be08-21606a0b2581\" target=\"_top\" title=\"psysml:952d2fa1-4eb4-490f-be08-21606a0b2581\" xlink:actuate=\"onRequest\" xlink:href=\"psysml:952d2fa1-4eb4-490f-be08-21606a0b2581\" xlink:show=\"new\" xlink:title=\"psysml:952d2fa1-4eb4-490f-be08-21606a0b2581\" xlink:type=\"simple\"><rect fill=\"#FFFFFF\" height=\"45.9375\" id=\"E8\" rx=\"10\" ry=\"10\" style=\"stroke: #383838; stroke-width: 1.5;\" width=\"71\" x=\"50.5\" y=\"446\"/><text fill=\"#000000\" font-family=\"sans-serif\" font-size=\"12\" font-style=\"italic\" lengthAdjust=\"spacingAndGlyphs\" textLength=\"69\" x=\"51.5\" y=\"462.1387\">«attribute»</text><text fill=\"#000000\" font-family=\"sans-serif\" font-size=\"12\" lengthAdjust=\"spacingAndGlyphs\" textLength=\"7\" x=\"82.5\" y=\"476.1074\">c</text><line style=\"stroke: #383838; stroke-width: 1.5;\" x1=\"51.5\" x2=\"120.5\" y1=\"483.9375\" y2=\"483.9375\"/></a><!--MD5=[05d275557350bfb9b23a4ef7222b4c39]\n",
       "link E3 to E2--><a href=\"psysml:7569b902-ac88-47a0-a36a-be78510f169c\" target=\"_top\" title=\"psysml:7569b902-ac88-47a0-a36a-be78510f169c\" xlink:actuate=\"onRequest\" xlink:href=\"psysml:7569b902-ac88-47a0-a36a-be78510f169c\" xlink:show=\"new\" xlink:title=\"psysml:7569b902-ac88-47a0-a36a-be78510f169c\" xlink:type=\"simple\"><path d=\"M121.71,75.47 C141.61,82.04 167.25,90.51 190.81,98.3 \" fill=\"none\" id=\"E3-&gt;E2\" style=\"stroke: #383838; stroke-width: 1.0;\"/><polygon fill=\"#FFFFFF\" points=\"209.94,104.62,189.7032,105.3073,194.0944,92.0138,209.94,104.62\" style=\"stroke: #383838; stroke-width: 1.0;\"/><ellipse cx=\"184.9182\" cy=\"101.6204\" fill=\"#383838\" rx=\"2\" ry=\"2\" style=\"stroke: #383838; stroke-width: 1.0;\"/><ellipse cx=\"188.0547\" cy=\"92.125\" fill=\"#383838\" rx=\"2\" ry=\"2\" style=\"stroke: #383838; stroke-width: 1.0;\"/></a><!--MD5=[ddeed8deb2209213b62e6cfabaa108b2]\n",
       "reverse link E4 to E2--><a href=\"psysml:64e82b47-cc13-4353-a930-54201d4c743b\" target=\"_top\" title=\"psysml:64e82b47-cc13-4353-a930-54201d4c743b\" xlink:actuate=\"onRequest\" xlink:href=\"psysml:64e82b47-cc13-4353-a930-54201d4c743b\" xlink:show=\"new\" xlink:title=\"psysml:64e82b47-cc13-4353-a930-54201d4c743b\" xlink:type=\"simple\"><path d=\"M153.04,135.26 C172,132.46 192.29,129.47 209.82,126.88 \" fill=\"none\" id=\"E4&lt;-E2\" style=\"stroke: #383838; stroke-width: 1.0;\"/><polygon fill=\"#FFFFFF\" points=\"140.17,137.16,146.6903,140.2399,152.0411,135.4057,145.5208,132.3258,140.17,137.16\" style=\"stroke: #383838; stroke-width: 1.0;\"/><text fill=\"#000000\" font-family=\"sans-serif\" font-size=\"13\" lengthAdjust=\"spacingAndGlyphs\" textLength=\"8\" x=\"171\" y=\"128.0669\">p</text></a><!--MD5=[29a6615bfd1eb166d87519f52ee37ed7]\n",
       "@startuml\r\n",
       "left to right direction\r\n",
       "skinparam monochrome true\r\n",
       "skinparam classbackgroundcolor white\r\n",
       "skinparam shadowing false\r\n",
       "skinparam wrapWidth 300\r\n",
       "hide circle\r\n",
       "\r\n",
       "package \"ParameterTest\" as E1  [[psysml:934b4cb7-0388-44aa-8a43-948e0e0270d7 ]]  {\r\n",
       "comp def \"A\" as E2  <<(T,blue)attribute def>> [[psysml:129c5bc9-5e36-4fac-a06d-7961ccb64091 ]] {\r\n",
       "- - attributes - -\r\n",
       "x: String\r\n",
       "y: A\r\n",
       "}\r\n",
       "comp usage \"a: A\" as E3  <<(T,blue)attribute>> [[psysml:50405f72-7bb1-41da-960b-ed203bf92c2d ]] {\r\n",
       "}\r\n",
       "comp def \"F\" as E4  <<(T,blue)calculation def>> [[psysml:84637ab1-2e14-49ab-80b7-3fb2aa846372 ]] {\r\n",
       "}\r\n",
       "comp usage \"f\" as E5  <<(T,blue)attribute>> [[psysml:88b39ab3-39a3-49e4-a823-2b19bc6cfd18 ]] {\r\n",
       "}\r\n",
       "comp usage \"g\" as E6  <<(T,blue)attribute>> [[psysml:3f28e8b6-a431-4098-a991-c6c646c27e19 ]] {\r\n",
       "}\r\n",
       "comp usage \"b\" as E7  <<(T,blue)attribute>> [[psysml:a48346b2-888a-436e-97f1-e60fac760a88 ]] {\r\n",
       "}\r\n",
       "comp usage \"c\" as E8  <<(T,blue)attribute>> [[psysml:952d2fa1-4eb4-490f-be08-21606a0b2581 ]] {\r\n",
       "}\r\n",
       "E3 - -:|> E2 [[psysml:7569b902-ac88-47a0-a36a-be78510f169c ]] \r\n",
       "E4 o- - E2 [[psysml:64e82b47-cc13-4353-a930-54201d4c743b ]] : p\r\n",
       "}\r\n",
       "@enduml\r\n",
       "\n",
       "PlantUML version 1.2020.13(Sat Jun 13 12:26:38 UTC 2020)\n",
       "(EPL source distribution)\n",
       "Java Runtime: OpenJDK Runtime Environment\n",
       "JVM: OpenJDK 64-Bit Server VM\n",
       "Default Encoding: UTF-8\n",
       "Language: en\n",
       "Country: null\n",
       "--></g></svg>"
      ]
     },
     "execution_count": 21,
     "metadata": {},
     "output_type": "execute_result"
    }
   ],
   "source": [
    "%viz --style=\"LR\" --view=\"Sequence\" \"ParameterTest\""
   ]
  },
  {
   "cell_type": "code",
   "execution_count": 22,
   "id": "seeing-binary",
   "metadata": {
    "execution": {
     "iopub.execute_input": "2021-03-26T09:13:01.335797Z",
     "iopub.status.busy": "2021-03-26T09:13:01.335430Z",
     "iopub.status.idle": "2021-03-26T09:13:01.384750Z",
     "shell.execute_reply": "2021-03-26T09:13:01.383535Z"
    }
   },
   "outputs": [
    {
     "data": {
      "image/svg+xml": [
       "<?xml version=\"1.0\" encoding=\"UTF-8\" standalone=\"no\"?><svg xmlns=\"http://www.w3.org/2000/svg\" xmlns:xlink=\"http://www.w3.org/1999/xlink\" contentScriptType=\"application/ecmascript\" contentStyleType=\"text/css\" height=\"541px\" preserveAspectRatio=\"none\" style=\"width:350px;height:541px;\" version=\"1.1\" viewBox=\"0 0 350 541\" width=\"350px\" zoomAndPan=\"magnify\"><defs/><g><!--MD5=[fbc87193dbaf4d95561dea2c320d4a47]\n",
       "cluster E1--><a href=\"psysml:934b4cb7-0388-44aa-8a43-948e0e0270d7\" target=\"_top\" title=\"psysml:934b4cb7-0388-44aa-8a43-948e0e0270d7\" xlink:actuate=\"onRequest\" xlink:href=\"psysml:934b4cb7-0388-44aa-8a43-948e0e0270d7\" xlink:show=\"new\" xlink:title=\"psysml:934b4cb7-0388-44aa-8a43-948e0e0270d7\" xlink:type=\"simple\"><polygon fill=\"#FFFFFF\" points=\"16,6,139,6,146,28.2969,328,28.2969,328,529,16,529,16,6\" style=\"stroke: #000000; stroke-width: 1.5;\"/><line style=\"stroke: #000000; stroke-width: 1.5;\" x1=\"16\" x2=\"146\" y1=\"28.2969\" y2=\"28.2969\"/><text fill=\"#000000\" font-family=\"sans-serif\" font-size=\"14\" font-weight=\"bold\" lengthAdjust=\"spacingAndGlyphs\" textLength=\"117\" x=\"20\" y=\"20.9951\">ParameterTest</text></a><!--MD5=[f6df4d0ebaf0b5dfb2ced0ae5af7c670]\n",
       "cluster E4--><a href=\"psysml:84637ab1-2e14-49ab-80b7-3fb2aa846372\" target=\"_top\" title=\"psysml:84637ab1-2e14-49ab-80b7-3fb2aa846372\" xlink:actuate=\"onRequest\" xlink:href=\"psysml:84637ab1-2e14-49ab-80b7-3fb2aa846372\" xlink:show=\"new\" xlink:title=\"psysml:84637ab1-2e14-49ab-80b7-3fb2aa846372\" xlink:type=\"simple\"><rect fill=\"#FFFFFF\" height=\"47\" id=\"E4\" style=\"stroke: #383838; stroke-width: 1.5;\" width=\"262.5\" x=\"49.5\" y=\"55\"/><rect fill=\"#F8F8F8\" height=\"37.9375\" style=\"stroke: #383838; stroke-width: 1.5;\" width=\"262.5\" x=\"49.5\" y=\"55\"/><text fill=\"#000000\" font-family=\"sans-serif\" font-size=\"12\" font-style=\"italic\" lengthAdjust=\"spacingAndGlyphs\" textLength=\"106\" x=\"127.75\" y=\"71.1387\">«calculation def»</text><text fill=\"#000000\" font-family=\"sans-serif\" font-size=\"12\" lengthAdjust=\"spacingAndGlyphs\" textLength=\"7\" x=\"177.25\" y=\"85.1074\">F</text></a><!--MD5=[b4997ac47864f28c2f74865a473b2911]\n",
       "class E2--><a href=\"psysml:129c5bc9-5e36-4fac-a06d-7961ccb64091\" target=\"_top\" title=\"psysml:129c5bc9-5e36-4fac-a06d-7961ccb64091\" xlink:actuate=\"onRequest\" xlink:href=\"psysml:129c5bc9-5e36-4fac-a06d-7961ccb64091\" xlink:show=\"new\" xlink:title=\"psysml:129c5bc9-5e36-4fac-a06d-7961ccb64091\" xlink:type=\"simple\"><rect fill=\"#FFFFFF\" height=\"88.3516\" id=\"E2\" style=\"stroke: #383838; stroke-width: 1.5;\" width=\"95\" x=\"182\" y=\"128\"/><text fill=\"#000000\" font-family=\"sans-serif\" font-size=\"12\" font-style=\"italic\" lengthAdjust=\"spacingAndGlyphs\" textLength=\"93\" x=\"183\" y=\"144.1387\">«attribute def»</text><text fill=\"#000000\" font-family=\"sans-serif\" font-size=\"12\" lengthAdjust=\"spacingAndGlyphs\" textLength=\"8\" x=\"225.5\" y=\"158.1074\">A</text><line style=\"stroke: #383838; stroke-width: 1.5;\" x1=\"183\" x2=\"276\" y1=\"165.9375\" y2=\"165.9375\"/><text fill=\"#000000\" font-family=\"sans-serif\" font-size=\"11\" lengthAdjust=\"spacingAndGlyphs\" textLength=\"48\" x=\"188\" y=\"196.9526\">x: String</text><text fill=\"#000000\" font-family=\"sans-serif\" font-size=\"11\" lengthAdjust=\"spacingAndGlyphs\" textLength=\"21\" x=\"188\" y=\"209.7573\">y: A</text><line style=\"stroke: #383838; stroke-width: 1.0;\" x1=\"183\" x2=\"202\" y1=\"180.3398\" y2=\"180.3398\"/><text fill=\"#000000\" font-family=\"sans-serif\" font-size=\"11\" lengthAdjust=\"spacingAndGlyphs\" textLength=\"55\" x=\"202\" y=\"183.6479\">attributes</text><line style=\"stroke: #383838; stroke-width: 1.0;\" x1=\"257\" x2=\"276\" y1=\"180.3398\" y2=\"180.3398\"/></a><!--MD5=[09b614a08d8cba4a07c9adeb5e0fee81]\n",
       "class E3--><a href=\"psysml:50405f72-7bb1-41da-960b-ed203bf92c2d\" target=\"_top\" title=\"psysml:50405f72-7bb1-41da-960b-ed203bf92c2d\" xlink:actuate=\"onRequest\" xlink:href=\"psysml:50405f72-7bb1-41da-960b-ed203bf92c2d\" xlink:show=\"new\" xlink:title=\"psysml:50405f72-7bb1-41da-960b-ed203bf92c2d\" xlink:type=\"simple\"><rect fill=\"#FFFFFF\" height=\"45.9375\" id=\"E3\" rx=\"10\" ry=\"10\" style=\"stroke: #383838; stroke-width: 1.5;\" width=\"71\" x=\"32\" y=\"143\"/><text fill=\"#000000\" font-family=\"sans-serif\" font-size=\"12\" font-style=\"italic\" lengthAdjust=\"spacingAndGlyphs\" textLength=\"69\" x=\"33\" y=\"159.1387\">«attribute»</text><text fill=\"#000000\" font-family=\"sans-serif\" font-size=\"12\" lengthAdjust=\"spacingAndGlyphs\" textLength=\"24\" x=\"55.5\" y=\"173.1074\">a: A</text><line style=\"stroke: #383838; stroke-width: 1.5;\" x1=\"33\" x2=\"102\" y1=\"180.9375\" y2=\"180.9375\"/></a><!--MD5=[2156ba9850f5573cc1fc38a6a4b2f02b]\n",
       "class E7--><a href=\"psysml:88b39ab3-39a3-49e4-a823-2b19bc6cfd18\" target=\"_top\" title=\"psysml:88b39ab3-39a3-49e4-a823-2b19bc6cfd18\" xlink:actuate=\"onRequest\" xlink:href=\"psysml:88b39ab3-39a3-49e4-a823-2b19bc6cfd18\" xlink:show=\"new\" xlink:title=\"psysml:88b39ab3-39a3-49e4-a823-2b19bc6cfd18\" xlink:type=\"simple\"><rect fill=\"#FFFFFF\" height=\"45.9375\" id=\"E7\" rx=\"10\" ry=\"10\" style=\"stroke: #383838; stroke-width: 1.5;\" width=\"71\" x=\"32\" y=\"224\"/><text fill=\"#000000\" font-family=\"sans-serif\" font-size=\"12\" font-style=\"italic\" lengthAdjust=\"spacingAndGlyphs\" textLength=\"69\" x=\"33\" y=\"240.1387\">«attribute»</text><text fill=\"#000000\" font-family=\"sans-serif\" font-size=\"12\" lengthAdjust=\"spacingAndGlyphs\" textLength=\"4\" x=\"65.5\" y=\"254.1074\">f</text><line style=\"stroke: #383838; stroke-width: 1.5;\" x1=\"33\" x2=\"102\" y1=\"261.9375\" y2=\"261.9375\"/></a><!--MD5=[b9389687b975829384b498ac4b7476b2]\n",
       "class E8--><a href=\"psysml:3f28e8b6-a431-4098-a991-c6c646c27e19\" target=\"_top\" title=\"psysml:3f28e8b6-a431-4098-a991-c6c646c27e19\" xlink:actuate=\"onRequest\" xlink:href=\"psysml:3f28e8b6-a431-4098-a991-c6c646c27e19\" xlink:show=\"new\" xlink:title=\"psysml:3f28e8b6-a431-4098-a991-c6c646c27e19\" xlink:type=\"simple\"><rect fill=\"#FFFFFF\" height=\"45.9375\" id=\"E8\" rx=\"10\" ry=\"10\" style=\"stroke: #383838; stroke-width: 1.5;\" width=\"71\" x=\"32\" y=\"305\"/><text fill=\"#000000\" font-family=\"sans-serif\" font-size=\"12\" font-style=\"italic\" lengthAdjust=\"spacingAndGlyphs\" textLength=\"69\" x=\"33\" y=\"321.1387\">«attribute»</text><text fill=\"#000000\" font-family=\"sans-serif\" font-size=\"12\" lengthAdjust=\"spacingAndGlyphs\" textLength=\"8\" x=\"63.5\" y=\"335.1074\">g</text><line style=\"stroke: #383838; stroke-width: 1.5;\" x1=\"33\" x2=\"102\" y1=\"342.9375\" y2=\"342.9375\"/></a><!--MD5=[fd4143e9d270a159db93a4ea2a975926]\n",
       "class E9--><a href=\"psysml:a48346b2-888a-436e-97f1-e60fac760a88\" target=\"_top\" title=\"psysml:a48346b2-888a-436e-97f1-e60fac760a88\" xlink:actuate=\"onRequest\" xlink:href=\"psysml:a48346b2-888a-436e-97f1-e60fac760a88\" xlink:show=\"new\" xlink:title=\"psysml:a48346b2-888a-436e-97f1-e60fac760a88\" xlink:type=\"simple\"><rect fill=\"#FFFFFF\" height=\"45.9375\" id=\"E9\" rx=\"10\" ry=\"10\" style=\"stroke: #383838; stroke-width: 1.5;\" width=\"71\" x=\"32\" y=\"386\"/><text fill=\"#000000\" font-family=\"sans-serif\" font-size=\"12\" font-style=\"italic\" lengthAdjust=\"spacingAndGlyphs\" textLength=\"69\" x=\"33\" y=\"402.1387\">«attribute»</text><text fill=\"#000000\" font-family=\"sans-serif\" font-size=\"12\" lengthAdjust=\"spacingAndGlyphs\" textLength=\"8\" x=\"63.5\" y=\"416.1074\">b</text><line style=\"stroke: #383838; stroke-width: 1.5;\" x1=\"33\" x2=\"102\" y1=\"423.9375\" y2=\"423.9375\"/></a><!--MD5=[96f4274e9e20536e775497830990834d]\n",
       "class E10--><a href=\"psysml:952d2fa1-4eb4-490f-be08-21606a0b2581\" target=\"_top\" title=\"psysml:952d2fa1-4eb4-490f-be08-21606a0b2581\" xlink:actuate=\"onRequest\" xlink:href=\"psysml:952d2fa1-4eb4-490f-be08-21606a0b2581\" xlink:show=\"new\" xlink:title=\"psysml:952d2fa1-4eb4-490f-be08-21606a0b2581\" xlink:type=\"simple\"><rect fill=\"#FFFFFF\" height=\"45.9375\" id=\"E10\" rx=\"10\" ry=\"10\" style=\"stroke: #383838; stroke-width: 1.5;\" width=\"71\" x=\"32\" y=\"467\"/><text fill=\"#000000\" font-family=\"sans-serif\" font-size=\"12\" font-style=\"italic\" lengthAdjust=\"spacingAndGlyphs\" textLength=\"69\" x=\"33\" y=\"483.1387\">«attribute»</text><text fill=\"#000000\" font-family=\"sans-serif\" font-size=\"12\" lengthAdjust=\"spacingAndGlyphs\" textLength=\"7\" x=\"64\" y=\"497.1074\">c</text><line style=\"stroke: #383838; stroke-width: 1.5;\" x1=\"33\" x2=\"102\" y1=\"504.9375\" y2=\"504.9375\"/></a><text fill=\"#000000\" font-family=\"sans-serif\" font-size=\"14\" lengthAdjust=\"spacingAndGlyphs\" textLength=\"9\" x=\"63\" y=\"120.9951\">p</text><rect fill=\"#383838\" height=\"12\" style=\"stroke: #F8F8F8; stroke-width: 1.5;\" width=\"12\" x=\"61.5\" y=\"96\"/><text fill=\"#000000\" font-family=\"sans-serif\" font-size=\"14\" lengthAdjust=\"spacingAndGlyphs\" textLength=\"9\" x=\"63\" y=\"33.6982\">q</text><rect fill=\"#383838\" height=\"12\" style=\"stroke: #F8F8F8; stroke-width: 1.5;\" width=\"12\" x=\"61.5\" y=\"49\"/><!--MD5=[05d275557350bfb9b23a4ef7222b4c39]\n",
       "link E3 to E2--><a href=\"psysml:7569b902-ac88-47a0-a36a-be78510f169c\" target=\"_top\" title=\"psysml:7569b902-ac88-47a0-a36a-be78510f169c\" xlink:actuate=\"onRequest\" xlink:href=\"psysml:7569b902-ac88-47a0-a36a-be78510f169c\" xlink:show=\"new\" xlink:title=\"psysml:7569b902-ac88-47a0-a36a-be78510f169c\" xlink:type=\"simple\"><path d=\"M103.22,167.3 C120.27,167.94 141.42,168.73 161.45,169.49 \" fill=\"none\" id=\"E3-&gt;E2\" style=\"stroke: #383838; stroke-width: 1.0;\"/><polygon fill=\"#FFFFFF\" points=\"181.71,170.25,162.4631,176.5394,162.9831,162.5491,181.71,170.25\" style=\"stroke: #383838; stroke-width: 1.0;\"/><ellipse cx=\"156.8413\" cy=\"174.3291\" fill=\"#383838\" rx=\"2\" ry=\"2\" style=\"stroke: #383838; stroke-width: 1.0;\"/><ellipse cx=\"157.2128\" cy=\"164.336\" fill=\"#383838\" rx=\"2\" ry=\"2\" style=\"stroke: #383838; stroke-width: 1.0;\"/></a><!--MD5=[be02781e328bf065400f83ad173020c2]\n",
       "@startuml\r\n",
       "left to right direction\r\n",
       "skinparam monochrome true\r\n",
       "skinparam classbackgroundcolor white\r\n",
       "skinparam shadowing false\r\n",
       "skinparam wrapWidth 300\r\n",
       "hide circle\r\n",
       "\r\n",
       "package \"ParameterTest\" as E1  [[psysml:934b4cb7-0388-44aa-8a43-948e0e0270d7 ]]  {\r\n",
       "comp def \"A\" as E2  <<(T,blue)attribute def>> [[psysml:129c5bc9-5e36-4fac-a06d-7961ccb64091 ]] {\r\n",
       "- - attributes - -\r\n",
       "x: String\r\n",
       "y: A\r\n",
       "}\r\n",
       "comp usage \"a: A\" as E3  <<(T,blue)attribute>> [[psysml:50405f72-7bb1-41da-960b-ed203bf92c2d ]] {\r\n",
       "}\r\n",
       "rec def \"F\" as E4  <<(T,blue)calculation def>> [[psysml:84637ab1-2e14-49ab-80b7-3fb2aa846372 ]] {\r\n",
       "portin \"p\" as E5  [[psysml:64e82b47-cc13-4353-a930-54201d4c743b ]] \r\n",
       "portin \"q\" as E6  [[psysml:647ae971-dc5c-461d-bddf-e9c9561ef010 ]] \r\n",
       "}\r\n",
       "\r\n",
       "comp usage \"f\" as E7  <<(T,blue)attribute>> [[psysml:88b39ab3-39a3-49e4-a823-2b19bc6cfd18 ]] {\r\n",
       "}\r\n",
       "comp usage \"g\" as E8  <<(T,blue)attribute>> [[psysml:3f28e8b6-a431-4098-a991-c6c646c27e19 ]] {\r\n",
       "}\r\n",
       "comp usage \"b\" as E9  <<(T,blue)attribute>> [[psysml:a48346b2-888a-436e-97f1-e60fac760a88 ]] {\r\n",
       "}\r\n",
       "comp usage \"c\" as E10  <<(T,blue)attribute>> [[psysml:952d2fa1-4eb4-490f-be08-21606a0b2581 ]] {\r\n",
       "}\r\n",
       "E3 - -:|> E2 [[psysml:7569b902-ac88-47a0-a36a-be78510f169c ]] \r\n",
       "}\r\n",
       "@enduml\r\n",
       "\n",
       "PlantUML version 1.2020.13(Sat Jun 13 12:26:38 UTC 2020)\n",
       "(EPL source distribution)\n",
       "Java Runtime: OpenJDK Runtime Environment\n",
       "JVM: OpenJDK 64-Bit Server VM\n",
       "Default Encoding: UTF-8\n",
       "Language: en\n",
       "Country: null\n",
       "--></g></svg>"
      ]
     },
     "execution_count": 22,
     "metadata": {},
     "output_type": "execute_result"
    }
   ],
   "source": [
    "%viz --style=\"LR\" --view=\"MIXED\" \"ParameterTest\""
   ]
  },
  {
   "cell_type": "code",
   "execution_count": 23,
   "id": "according-siemens",
   "metadata": {
    "execution": {
     "iopub.execute_input": "2021-03-26T09:13:01.435080Z",
     "iopub.status.busy": "2021-03-26T09:13:01.434662Z",
     "iopub.status.idle": "2021-03-26T09:13:01.470697Z",
     "shell.execute_reply": "2021-03-26T09:13:01.469471Z"
    }
   },
   "outputs": [
    {
     "data": {
      "image/svg+xml": [
       "<?xml version=\"1.0\" encoding=\"UTF-8\" standalone=\"no\"?><svg xmlns=\"http://www.w3.org/2000/svg\" xmlns:xlink=\"http://www.w3.org/1999/xlink\" contentScriptType=\"application/ecmascript\" contentStyleType=\"text/css\" height=\"247px\" preserveAspectRatio=\"none\" style=\"width:740px;height:247px;\" version=\"1.1\" viewBox=\"0 0 740 247\" width=\"740px\" zoomAndPan=\"magnify\"><defs><filter height=\"300%\" id=\"foep6hgstoxo0\" width=\"300%\" x=\"-1\" y=\"-1\"><feGaussianBlur result=\"blurOut\" stdDeviation=\"2.0\"/><feColorMatrix in=\"blurOut\" result=\"blurOut2\" type=\"matrix\" values=\"0 0 0 0 0 0 0 0 0 0 0 0 0 0 0 0 0 0 .4 0\"/><feOffset dx=\"4.0\" dy=\"4.0\" in=\"blurOut2\" result=\"blurOut3\"/><feBlend in=\"SourceGraphic\" in2=\"blurOut3\" mode=\"normal\"/></filter></defs><g><!--MD5=[fbc87193dbaf4d95561dea2c320d4a47]\n",
       "cluster E1--><a href=\"psysml:934b4cb7-0388-44aa-8a43-948e0e0270d7\" target=\"_top\" title=\"psysml:934b4cb7-0388-44aa-8a43-948e0e0270d7\" xlink:actuate=\"onRequest\" xlink:href=\"psysml:934b4cb7-0388-44aa-8a43-948e0e0270d7\" xlink:show=\"new\" xlink:title=\"psysml:934b4cb7-0388-44aa-8a43-948e0e0270d7\" xlink:type=\"simple\"><polygon fill=\"#FFFFFF\" filter=\"url(#foep6hgstoxo0)\" points=\"16,6,139,6,146,28.2969,718,28.2969,718,235,16,235,16,6\" style=\"stroke: #000000; stroke-width: 1.5;\"/><line style=\"stroke: #000000; stroke-width: 1.5;\" x1=\"16\" x2=\"146\" y1=\"28.2969\" y2=\"28.2969\"/><text fill=\"#000000\" font-family=\"sans-serif\" font-size=\"14\" font-weight=\"bold\" lengthAdjust=\"spacingAndGlyphs\" textLength=\"117\" x=\"20\" y=\"20.9951\">ParameterTest</text></a><!--MD5=[f6df4d0ebaf0b5dfb2ced0ae5af7c670]\n",
       "cluster E4--><a href=\"psysml:84637ab1-2e14-49ab-80b7-3fb2aa846372\" target=\"_top\" title=\"psysml:84637ab1-2e14-49ab-80b7-3fb2aa846372\" xlink:actuate=\"onRequest\" xlink:href=\"psysml:84637ab1-2e14-49ab-80b7-3fb2aa846372\" xlink:show=\"new\" xlink:title=\"psysml:84637ab1-2e14-49ab-80b7-3fb2aa846372\" xlink:type=\"simple\"><rect fill=\"#FFFFFF\" filter=\"url(#foep6hgstoxo0)\" height=\"152.5\" id=\"E4\" style=\"stroke: #A80036; stroke-width: 1.5;\" width=\"148\" x=\"554\" y=\"64\"/><rect fill=\"#FEFECE\" height=\"37.9375\" style=\"stroke: #A80036; stroke-width: 1.5;\" width=\"148\" x=\"554\" y=\"64\"/><text fill=\"#000000\" font-family=\"sans-serif\" font-size=\"12\" font-style=\"italic\" lengthAdjust=\"spacingAndGlyphs\" textLength=\"106\" x=\"575\" y=\"80.1387\">«calculation def»</text><text fill=\"#000000\" font-family=\"sans-serif\" font-size=\"12\" lengthAdjust=\"spacingAndGlyphs\" textLength=\"7\" x=\"624.5\" y=\"94.1074\">F</text></a><!--MD5=[b4997ac47864f28c2f74865a473b2911]\n",
       "class E2--><a href=\"psysml:129c5bc9-5e36-4fac-a06d-7961ccb64091\" target=\"_top\" title=\"psysml:129c5bc9-5e36-4fac-a06d-7961ccb64091\" xlink:actuate=\"onRequest\" xlink:href=\"psysml:129c5bc9-5e36-4fac-a06d-7961ccb64091\" xlink:show=\"new\" xlink:title=\"psysml:129c5bc9-5e36-4fac-a06d-7961ccb64091\" xlink:type=\"simple\"><rect fill=\"#FEFECE\" filter=\"url(#foep6hgstoxo0)\" height=\"71.5469\" id=\"E2\" style=\"stroke: #A80036; stroke-width: 1.5;\" width=\"95\" x=\"422.5\" y=\"147\"/><text fill=\"#000000\" font-family=\"sans-serif\" font-size=\"12\" font-style=\"italic\" lengthAdjust=\"spacingAndGlyphs\" textLength=\"93\" x=\"423.5\" y=\"163.1387\">«attribute def»</text><text fill=\"#000000\" font-family=\"sans-serif\" font-size=\"12\" lengthAdjust=\"spacingAndGlyphs\" textLength=\"8\" x=\"466\" y=\"177.1074\">A</text><line style=\"stroke: #A80036; stroke-width: 1.5;\" x1=\"423.5\" x2=\"516.5\" y1=\"184.9375\" y2=\"184.9375\"/><text fill=\"#000000\" font-family=\"sans-serif\" font-size=\"11\" lengthAdjust=\"spacingAndGlyphs\" textLength=\"48\" x=\"428.5\" y=\"199.1479\">x: String</text><text fill=\"#000000\" font-family=\"sans-serif\" font-size=\"11\" lengthAdjust=\"spacingAndGlyphs\" textLength=\"21\" x=\"428.5\" y=\"211.9526\">y: A</text></a><!--MD5=[09b614a08d8cba4a07c9adeb5e0fee81]\n",
       "class E3--><a href=\"psysml:50405f72-7bb1-41da-960b-ed203bf92c2d\" target=\"_top\" title=\"psysml:50405f72-7bb1-41da-960b-ed203bf92c2d\" xlink:actuate=\"onRequest\" xlink:href=\"psysml:50405f72-7bb1-41da-960b-ed203bf92c2d\" xlink:show=\"new\" xlink:title=\"psysml:50405f72-7bb1-41da-960b-ed203bf92c2d\" xlink:type=\"simple\"><rect fill=\"#FEFECE\" filter=\"url(#foep6hgstoxo0)\" height=\"45.9375\" id=\"E3\" rx=\"10\" ry=\"10\" style=\"stroke: #A80036; stroke-width: 1.5;\" width=\"71\" x=\"456.5\" y=\"41\"/><text fill=\"#000000\" font-family=\"sans-serif\" font-size=\"12\" font-style=\"italic\" lengthAdjust=\"spacingAndGlyphs\" textLength=\"69\" x=\"457.5\" y=\"57.1387\">«attribute»</text><text fill=\"#000000\" font-family=\"sans-serif\" font-size=\"12\" lengthAdjust=\"spacingAndGlyphs\" textLength=\"24\" x=\"480\" y=\"71.1074\">a: A</text><line style=\"stroke: #A80036; stroke-width: 1.5;\" x1=\"457.5\" x2=\"526.5\" y1=\"78.9375\" y2=\"78.9375\"/></a><!--MD5=[2156ba9850f5573cc1fc38a6a4b2f02b]\n",
       "class E7--><a href=\"psysml:88b39ab3-39a3-49e4-a823-2b19bc6cfd18\" target=\"_top\" title=\"psysml:88b39ab3-39a3-49e4-a823-2b19bc6cfd18\" xlink:actuate=\"onRequest\" xlink:href=\"psysml:88b39ab3-39a3-49e4-a823-2b19bc6cfd18\" xlink:show=\"new\" xlink:title=\"psysml:88b39ab3-39a3-49e4-a823-2b19bc6cfd18\" xlink:type=\"simple\"><rect fill=\"#FEFECE\" filter=\"url(#foep6hgstoxo0)\" height=\"45.9375\" id=\"E7\" rx=\"10\" ry=\"10\" style=\"stroke: #A80036; stroke-width: 1.5;\" width=\"71\" x=\"350.5\" y=\"41\"/><text fill=\"#000000\" font-family=\"sans-serif\" font-size=\"12\" font-style=\"italic\" lengthAdjust=\"spacingAndGlyphs\" textLength=\"69\" x=\"351.5\" y=\"57.1387\">«attribute»</text><text fill=\"#000000\" font-family=\"sans-serif\" font-size=\"12\" lengthAdjust=\"spacingAndGlyphs\" textLength=\"4\" x=\"384\" y=\"71.1074\">f</text><line style=\"stroke: #A80036; stroke-width: 1.5;\" x1=\"351.5\" x2=\"420.5\" y1=\"78.9375\" y2=\"78.9375\"/></a><!--MD5=[b9389687b975829384b498ac4b7476b2]\n",
       "class E8--><a href=\"psysml:3f28e8b6-a431-4098-a991-c6c646c27e19\" target=\"_top\" title=\"psysml:3f28e8b6-a431-4098-a991-c6c646c27e19\" xlink:actuate=\"onRequest\" xlink:href=\"psysml:3f28e8b6-a431-4098-a991-c6c646c27e19\" xlink:show=\"new\" xlink:title=\"psysml:3f28e8b6-a431-4098-a991-c6c646c27e19\" xlink:type=\"simple\"><rect fill=\"#FEFECE\" filter=\"url(#foep6hgstoxo0)\" height=\"45.9375\" id=\"E8\" rx=\"10\" ry=\"10\" style=\"stroke: #A80036; stroke-width: 1.5;\" width=\"71\" x=\"244.5\" y=\"41\"/><text fill=\"#000000\" font-family=\"sans-serif\" font-size=\"12\" font-style=\"italic\" lengthAdjust=\"spacingAndGlyphs\" textLength=\"69\" x=\"245.5\" y=\"57.1387\">«attribute»</text><text fill=\"#000000\" font-family=\"sans-serif\" font-size=\"12\" lengthAdjust=\"spacingAndGlyphs\" textLength=\"8\" x=\"276\" y=\"71.1074\">g</text><line style=\"stroke: #A80036; stroke-width: 1.5;\" x1=\"245.5\" x2=\"314.5\" y1=\"78.9375\" y2=\"78.9375\"/></a><!--MD5=[fd4143e9d270a159db93a4ea2a975926]\n",
       "class E9--><a href=\"psysml:a48346b2-888a-436e-97f1-e60fac760a88\" target=\"_top\" title=\"psysml:a48346b2-888a-436e-97f1-e60fac760a88\" xlink:actuate=\"onRequest\" xlink:href=\"psysml:a48346b2-888a-436e-97f1-e60fac760a88\" xlink:show=\"new\" xlink:title=\"psysml:a48346b2-888a-436e-97f1-e60fac760a88\" xlink:type=\"simple\"><rect fill=\"#FEFECE\" filter=\"url(#foep6hgstoxo0)\" height=\"45.9375\" id=\"E9\" rx=\"10\" ry=\"10\" style=\"stroke: #A80036; stroke-width: 1.5;\" width=\"71\" x=\"138.5\" y=\"41\"/><text fill=\"#000000\" font-family=\"sans-serif\" font-size=\"12\" font-style=\"italic\" lengthAdjust=\"spacingAndGlyphs\" textLength=\"69\" x=\"139.5\" y=\"57.1387\">«attribute»</text><text fill=\"#000000\" font-family=\"sans-serif\" font-size=\"12\" lengthAdjust=\"spacingAndGlyphs\" textLength=\"8\" x=\"170\" y=\"71.1074\">b</text><line style=\"stroke: #A80036; stroke-width: 1.5;\" x1=\"139.5\" x2=\"208.5\" y1=\"78.9375\" y2=\"78.9375\"/></a><!--MD5=[96f4274e9e20536e775497830990834d]\n",
       "class E10--><a href=\"psysml:952d2fa1-4eb4-490f-be08-21606a0b2581\" target=\"_top\" title=\"psysml:952d2fa1-4eb4-490f-be08-21606a0b2581\" xlink:actuate=\"onRequest\" xlink:href=\"psysml:952d2fa1-4eb4-490f-be08-21606a0b2581\" xlink:show=\"new\" xlink:title=\"psysml:952d2fa1-4eb4-490f-be08-21606a0b2581\" xlink:type=\"simple\"><rect fill=\"#FEFECE\" filter=\"url(#foep6hgstoxo0)\" height=\"45.9375\" id=\"E10\" rx=\"10\" ry=\"10\" style=\"stroke: #A80036; stroke-width: 1.5;\" width=\"71\" x=\"32.5\" y=\"41\"/><text fill=\"#000000\" font-family=\"sans-serif\" font-size=\"12\" font-style=\"italic\" lengthAdjust=\"spacingAndGlyphs\" textLength=\"69\" x=\"33.5\" y=\"57.1387\">«attribute»</text><text fill=\"#000000\" font-family=\"sans-serif\" font-size=\"12\" lengthAdjust=\"spacingAndGlyphs\" textLength=\"7\" x=\"64.5\" y=\"71.1074\">c</text><line style=\"stroke: #A80036; stroke-width: 1.5;\" x1=\"33.5\" x2=\"102.5\" y1=\"78.9375\" y2=\"78.9375\"/></a><text fill=\"#000000\" font-family=\"sans-serif\" font-size=\"14\" lengthAdjust=\"spacingAndGlyphs\" textLength=\"9\" x=\"567.5\" y=\"42.6982\">p</text><rect fill=\"#A80036\" height=\"12\" style=\"stroke: #FEFECE; stroke-width: 1.5;\" width=\"12\" x=\"566\" y=\"58\"/><text fill=\"#000000\" font-family=\"sans-serif\" font-size=\"14\" lengthAdjust=\"spacingAndGlyphs\" textLength=\"9\" x=\"614.5\" y=\"42.6982\">q</text><rect fill=\"#A80036\" height=\"12\" style=\"stroke: #FEFECE; stroke-width: 1.5;\" width=\"12\" x=\"613\" y=\"58\"/><!--MD5=[05d275557350bfb9b23a4ef7222b4c39]\n",
       "link E3 to E2--><a href=\"psysml:7569b902-ac88-47a0-a36a-be78510f169c\" target=\"_top\" title=\"psysml:7569b902-ac88-47a0-a36a-be78510f169c\" xlink:actuate=\"onRequest\" xlink:href=\"psysml:7569b902-ac88-47a0-a36a-be78510f169c\" xlink:show=\"new\" xlink:title=\"psysml:7569b902-ac88-47a0-a36a-be78510f169c\" xlink:type=\"simple\"><path d=\"M487.86,87.01 C485.74,98.3 483.05,112.62 480.4,126.7 \" fill=\"none\" id=\"E3-&gt;E2\" style=\"stroke: #A80036; stroke-width: 1.0;\"/><polygon fill=\"#FFFFFF\" points=\"476.63,146.75,473.2514,126.7854,487.0116,129.3654,476.63,146.75\" style=\"stroke: #A80036; stroke-width: 1.0;\"/><ellipse cx=\"476.2676\" cy=\"121.5516\" fill=\"#A80036\" rx=\"2\" ry=\"2\" style=\"stroke: #A80036; stroke-width: 1.0;\"/><ellipse cx=\"486.0963\" cy=\"123.3945\" fill=\"#A80036\" rx=\"2\" ry=\"2\" style=\"stroke: #A80036; stroke-width: 1.0;\"/></a><!--MD5=[cc9b4af89f837e967d8cfbaf0e02105d]\n",
       "@startuml\r\n",
       "skinparam wrapWidth 300\r\n",
       "hide circle\r\n",
       "\r\n",
       "package \"ParameterTest\" as E1  [[psysml:934b4cb7-0388-44aa-8a43-948e0e0270d7 ]]  {\r\n",
       "comp def \"A\" as E2  <<(T,blue)attribute def>> [[psysml:129c5bc9-5e36-4fac-a06d-7961ccb64091 ]] {\r\n",
       "x: String\r\n",
       "y: A\r\n",
       "}\r\n",
       "comp usage \"a: A\" as E3  <<(T,blue)attribute>> [[psysml:50405f72-7bb1-41da-960b-ed203bf92c2d ]] {\r\n",
       "}\r\n",
       "rec def \"F\" as E4  <<(T,blue)calculation def>> [[psysml:84637ab1-2e14-49ab-80b7-3fb2aa846372 ]] {\r\n",
       "portin \"p\" as E5  [[psysml:64e82b47-cc13-4353-a930-54201d4c743b ]] \r\n",
       "portin \"q\" as E6  [[psysml:647ae971-dc5c-461d-bddf-e9c9561ef010 ]] \r\n",
       "}\r\n",
       "\r\n",
       "comp usage \"f\" as E7  <<(T,blue)attribute>> [[psysml:88b39ab3-39a3-49e4-a823-2b19bc6cfd18 ]] {\r\n",
       "}\r\n",
       "comp usage \"g\" as E8  <<(T,blue)attribute>> [[psysml:3f28e8b6-a431-4098-a991-c6c646c27e19 ]] {\r\n",
       "}\r\n",
       "comp usage \"b\" as E9  <<(T,blue)attribute>> [[psysml:a48346b2-888a-436e-97f1-e60fac760a88 ]] {\r\n",
       "}\r\n",
       "comp usage \"c\" as E10  <<(T,blue)attribute>> [[psysml:952d2fa1-4eb4-490f-be08-21606a0b2581 ]] {\r\n",
       "}\r\n",
       "E3 - -:|> E2 [[psysml:7569b902-ac88-47a0-a36a-be78510f169c ]] \r\n",
       "}\r\n",
       "@enduml\r\n",
       "\n",
       "PlantUML version 1.2020.13(Sat Jun 13 12:26:38 UTC 2020)\n",
       "(EPL source distribution)\n",
       "Java Runtime: OpenJDK Runtime Environment\n",
       "JVM: OpenJDK 64-Bit Server VM\n",
       "Default Encoding: UTF-8\n",
       "Language: en\n",
       "Country: null\n",
       "--></g></svg>"
      ]
     },
     "execution_count": 23,
     "metadata": {},
     "output_type": "execute_result"
    }
   ],
   "source": [
    "%viz --style=\"STDCOLOR\" --view=\"Default\" \"ParameterTest\""
   ]
  },
  {
   "cell_type": "code",
   "execution_count": 24,
   "id": "informed-dancing",
   "metadata": {
    "execution": {
     "iopub.execute_input": "2021-03-26T09:13:01.524501Z",
     "iopub.status.busy": "2021-03-26T09:13:01.523321Z",
     "iopub.status.idle": "2021-03-26T09:13:01.558567Z",
     "shell.execute_reply": "2021-03-26T09:13:01.558908Z"
    }
   },
   "outputs": [
    {
     "data": {
      "image/svg+xml": [
       "<?xml version=\"1.0\" encoding=\"UTF-8\" standalone=\"no\"?><svg xmlns=\"http://www.w3.org/2000/svg\" xmlns:xlink=\"http://www.w3.org/1999/xlink\" contentScriptType=\"application/ecmascript\" contentStyleType=\"text/css\" height=\"264px\" preserveAspectRatio=\"none\" style=\"width:710px;height:264px;\" version=\"1.1\" viewBox=\"0 0 710 264\" width=\"710px\" zoomAndPan=\"magnify\"><defs><filter height=\"300%\" id=\"f1nwqoh52e52ar\" width=\"300%\" x=\"-1\" y=\"-1\"><feGaussianBlur result=\"blurOut\" stdDeviation=\"2.0\"/><feColorMatrix in=\"blurOut\" result=\"blurOut2\" type=\"matrix\" values=\"0 0 0 0 0 0 0 0 0 0 0 0 0 0 0 0 0 0 .4 0\"/><feOffset dx=\"4.0\" dy=\"4.0\" in=\"blurOut2\" result=\"blurOut3\"/><feBlend in=\"SourceGraphic\" in2=\"blurOut3\" mode=\"normal\"/></filter></defs><g><!--MD5=[fbc87193dbaf4d95561dea2c320d4a47]\n",
       "cluster E1--><a href=\"psysml:934b4cb7-0388-44aa-8a43-948e0e0270d7\" target=\"_top\" title=\"psysml:934b4cb7-0388-44aa-8a43-948e0e0270d7\" xlink:actuate=\"onRequest\" xlink:href=\"psysml:934b4cb7-0388-44aa-8a43-948e0e0270d7\" xlink:show=\"new\" xlink:title=\"psysml:934b4cb7-0388-44aa-8a43-948e0e0270d7\" xlink:type=\"simple\"><polygon fill=\"#FFFFFF\" filter=\"url(#f1nwqoh52e52ar)\" points=\"16,6,139,6,146,28.2969,688,28.2969,688,252,16,252,16,6\" style=\"stroke: #000000; stroke-width: 1.5;\"/><line style=\"stroke: #000000; stroke-width: 1.5;\" x1=\"16\" x2=\"146\" y1=\"28.2969\" y2=\"28.2969\"/><text fill=\"#000000\" font-family=\"sans-serif\" font-size=\"14\" font-weight=\"bold\" lengthAdjust=\"spacingAndGlyphs\" textLength=\"117\" x=\"20\" y=\"20.9951\">ParameterTest</text></a><!--MD5=[b4997ac47864f28c2f74865a473b2911]\n",
       "class E2--><a href=\"psysml:129c5bc9-5e36-4fac-a06d-7961ccb64091\" target=\"_top\" title=\"psysml:129c5bc9-5e36-4fac-a06d-7961ccb64091\" xlink:actuate=\"onRequest\" xlink:href=\"psysml:129c5bc9-5e36-4fac-a06d-7961ccb64091\" xlink:show=\"new\" xlink:title=\"psysml:129c5bc9-5e36-4fac-a06d-7961ccb64091\" xlink:type=\"simple\"><rect fill=\"#FEFECE\" filter=\"url(#f1nwqoh52e52ar)\" height=\"71.5469\" id=\"E2\" style=\"stroke: #A80036; stroke-width: 1.5;\" width=\"95\" x=\"498.5\" y=\"164\"/><text fill=\"#000000\" font-family=\"sans-serif\" font-size=\"12\" font-style=\"italic\" lengthAdjust=\"spacingAndGlyphs\" textLength=\"93\" x=\"499.5\" y=\"180.1387\">«attribute def»</text><text fill=\"#000000\" font-family=\"sans-serif\" font-size=\"12\" lengthAdjust=\"spacingAndGlyphs\" textLength=\"8\" x=\"542\" y=\"194.1074\">A</text><line style=\"stroke: #A80036; stroke-width: 1.5;\" x1=\"499.5\" x2=\"592.5\" y1=\"201.9375\" y2=\"201.9375\"/><text fill=\"#000000\" font-family=\"sans-serif\" font-size=\"11\" lengthAdjust=\"spacingAndGlyphs\" textLength=\"48\" x=\"504.5\" y=\"216.1479\">x: String</text><text fill=\"#000000\" font-family=\"sans-serif\" font-size=\"11\" lengthAdjust=\"spacingAndGlyphs\" textLength=\"21\" x=\"504.5\" y=\"228.9526\">y: A</text></a><!--MD5=[09b614a08d8cba4a07c9adeb5e0fee81]\n",
       "class E3--><a href=\"psysml:50405f72-7bb1-41da-960b-ed203bf92c2d\" target=\"_top\" title=\"psysml:50405f72-7bb1-41da-960b-ed203bf92c2d\" xlink:actuate=\"onRequest\" xlink:href=\"psysml:50405f72-7bb1-41da-960b-ed203bf92c2d\" xlink:show=\"new\" xlink:title=\"psysml:50405f72-7bb1-41da-960b-ed203bf92c2d\" xlink:type=\"simple\"><rect fill=\"#FEFECE\" filter=\"url(#f1nwqoh52e52ar)\" height=\"45.9375\" id=\"E3\" rx=\"10\" ry=\"10\" style=\"stroke: #A80036; stroke-width: 1.5;\" width=\"71\" x=\"600.5\" y=\"41\"/><text fill=\"#000000\" font-family=\"sans-serif\" font-size=\"12\" font-style=\"italic\" lengthAdjust=\"spacingAndGlyphs\" textLength=\"69\" x=\"601.5\" y=\"57.1387\">«attribute»</text><text fill=\"#000000\" font-family=\"sans-serif\" font-size=\"12\" lengthAdjust=\"spacingAndGlyphs\" textLength=\"24\" x=\"624\" y=\"71.1074\">a: A</text><line style=\"stroke: #A80036; stroke-width: 1.5;\" x1=\"601.5\" x2=\"670.5\" y1=\"78.9375\" y2=\"78.9375\"/></a><!--MD5=[ebbe1d658d1005bcc118a6aa81145e00]\n",
       "class E4--><a href=\"psysml:84637ab1-2e14-49ab-80b7-3fb2aa846372\" target=\"_top\" title=\"psysml:84637ab1-2e14-49ab-80b7-3fb2aa846372\" xlink:actuate=\"onRequest\" xlink:href=\"psysml:84637ab1-2e14-49ab-80b7-3fb2aa846372\" xlink:show=\"new\" xlink:title=\"psysml:84637ab1-2e14-49ab-80b7-3fb2aa846372\" xlink:type=\"simple\"><rect fill=\"#FEFECE\" filter=\"url(#f1nwqoh52e52ar)\" height=\"45.9375\" id=\"E4\" style=\"stroke: #A80036; stroke-width: 1.5;\" width=\"108\" x=\"457\" y=\"41\"/><text fill=\"#000000\" font-family=\"sans-serif\" font-size=\"12\" font-style=\"italic\" lengthAdjust=\"spacingAndGlyphs\" textLength=\"106\" x=\"458\" y=\"57.1387\">«calculation def»</text><text fill=\"#000000\" font-family=\"sans-serif\" font-size=\"12\" lengthAdjust=\"spacingAndGlyphs\" textLength=\"7\" x=\"507.5\" y=\"71.1074\">F</text><line style=\"stroke: #A80036; stroke-width: 1.5;\" x1=\"458\" x2=\"564\" y1=\"78.9375\" y2=\"78.9375\"/></a><!--MD5=[270fce915f116d4de14055a7c1d9a0f3]\n",
       "class E5--><a href=\"psysml:88b39ab3-39a3-49e4-a823-2b19bc6cfd18\" target=\"_top\" title=\"psysml:88b39ab3-39a3-49e4-a823-2b19bc6cfd18\" xlink:actuate=\"onRequest\" xlink:href=\"psysml:88b39ab3-39a3-49e4-a823-2b19bc6cfd18\" xlink:show=\"new\" xlink:title=\"psysml:88b39ab3-39a3-49e4-a823-2b19bc6cfd18\" xlink:type=\"simple\"><rect fill=\"#FEFECE\" filter=\"url(#f1nwqoh52e52ar)\" height=\"45.9375\" id=\"E5\" rx=\"10\" ry=\"10\" style=\"stroke: #A80036; stroke-width: 1.5;\" width=\"71\" x=\"350.5\" y=\"41\"/><text fill=\"#000000\" font-family=\"sans-serif\" font-size=\"12\" font-style=\"italic\" lengthAdjust=\"spacingAndGlyphs\" textLength=\"69\" x=\"351.5\" y=\"57.1387\">«attribute»</text><text fill=\"#000000\" font-family=\"sans-serif\" font-size=\"12\" lengthAdjust=\"spacingAndGlyphs\" textLength=\"4\" x=\"384\" y=\"71.1074\">f</text><line style=\"stroke: #A80036; stroke-width: 1.5;\" x1=\"351.5\" x2=\"420.5\" y1=\"78.9375\" y2=\"78.9375\"/></a><!--MD5=[60a26617385b1d2d0262a64233df1f8d]\n",
       "class E6--><a href=\"psysml:3f28e8b6-a431-4098-a991-c6c646c27e19\" target=\"_top\" title=\"psysml:3f28e8b6-a431-4098-a991-c6c646c27e19\" xlink:actuate=\"onRequest\" xlink:href=\"psysml:3f28e8b6-a431-4098-a991-c6c646c27e19\" xlink:show=\"new\" xlink:title=\"psysml:3f28e8b6-a431-4098-a991-c6c646c27e19\" xlink:type=\"simple\"><rect fill=\"#FEFECE\" filter=\"url(#f1nwqoh52e52ar)\" height=\"45.9375\" id=\"E6\" rx=\"10\" ry=\"10\" style=\"stroke: #A80036; stroke-width: 1.5;\" width=\"71\" x=\"244.5\" y=\"41\"/><text fill=\"#000000\" font-family=\"sans-serif\" font-size=\"12\" font-style=\"italic\" lengthAdjust=\"spacingAndGlyphs\" textLength=\"69\" x=\"245.5\" y=\"57.1387\">«attribute»</text><text fill=\"#000000\" font-family=\"sans-serif\" font-size=\"12\" lengthAdjust=\"spacingAndGlyphs\" textLength=\"8\" x=\"276\" y=\"71.1074\">g</text><line style=\"stroke: #A80036; stroke-width: 1.5;\" x1=\"245.5\" x2=\"314.5\" y1=\"78.9375\" y2=\"78.9375\"/></a><!--MD5=[2156ba9850f5573cc1fc38a6a4b2f02b]\n",
       "class E7--><a href=\"psysml:a48346b2-888a-436e-97f1-e60fac760a88\" target=\"_top\" title=\"psysml:a48346b2-888a-436e-97f1-e60fac760a88\" xlink:actuate=\"onRequest\" xlink:href=\"psysml:a48346b2-888a-436e-97f1-e60fac760a88\" xlink:show=\"new\" xlink:title=\"psysml:a48346b2-888a-436e-97f1-e60fac760a88\" xlink:type=\"simple\"><rect fill=\"#FEFECE\" filter=\"url(#f1nwqoh52e52ar)\" height=\"45.9375\" id=\"E7\" rx=\"10\" ry=\"10\" style=\"stroke: #A80036; stroke-width: 1.5;\" width=\"71\" x=\"138.5\" y=\"41\"/><text fill=\"#000000\" font-family=\"sans-serif\" font-size=\"12\" font-style=\"italic\" lengthAdjust=\"spacingAndGlyphs\" textLength=\"69\" x=\"139.5\" y=\"57.1387\">«attribute»</text><text fill=\"#000000\" font-family=\"sans-serif\" font-size=\"12\" lengthAdjust=\"spacingAndGlyphs\" textLength=\"8\" x=\"170\" y=\"71.1074\">b</text><line style=\"stroke: #A80036; stroke-width: 1.5;\" x1=\"139.5\" x2=\"208.5\" y1=\"78.9375\" y2=\"78.9375\"/></a><!--MD5=[b9389687b975829384b498ac4b7476b2]\n",
       "class E8--><a href=\"psysml:952d2fa1-4eb4-490f-be08-21606a0b2581\" target=\"_top\" title=\"psysml:952d2fa1-4eb4-490f-be08-21606a0b2581\" xlink:actuate=\"onRequest\" xlink:href=\"psysml:952d2fa1-4eb4-490f-be08-21606a0b2581\" xlink:show=\"new\" xlink:title=\"psysml:952d2fa1-4eb4-490f-be08-21606a0b2581\" xlink:type=\"simple\"><rect fill=\"#FEFECE\" filter=\"url(#f1nwqoh52e52ar)\" height=\"45.9375\" id=\"E8\" rx=\"10\" ry=\"10\" style=\"stroke: #A80036; stroke-width: 1.5;\" width=\"71\" x=\"32.5\" y=\"41\"/><text fill=\"#000000\" font-family=\"sans-serif\" font-size=\"12\" font-style=\"italic\" lengthAdjust=\"spacingAndGlyphs\" textLength=\"69\" x=\"33.5\" y=\"57.1387\">«attribute»</text><text fill=\"#000000\" font-family=\"sans-serif\" font-size=\"12\" lengthAdjust=\"spacingAndGlyphs\" textLength=\"7\" x=\"64.5\" y=\"71.1074\">c</text><line style=\"stroke: #A80036; stroke-width: 1.5;\" x1=\"33.5\" x2=\"102.5\" y1=\"78.9375\" y2=\"78.9375\"/></a><!--MD5=[05d275557350bfb9b23a4ef7222b4c39]\n",
       "link E3 to E2--><a href=\"psysml:7569b902-ac88-47a0-a36a-be78510f169c\" target=\"_top\" title=\"psysml:7569b902-ac88-47a0-a36a-be78510f169c\" xlink:actuate=\"onRequest\" xlink:href=\"psysml:7569b902-ac88-47a0-a36a-be78510f169c\" xlink:show=\"new\" xlink:title=\"psysml:7569b902-ac88-47a0-a36a-be78510f169c\" xlink:type=\"simple\"><path d=\"M621.14,87.13 C610.18,103.45 594.8,126.34 580.81,147.17 \" fill=\"none\" id=\"E3-&gt;E2\" style=\"stroke: #A80036; stroke-width: 1.0;\"/><polygon fill=\"#FFFFFF\" points=\"569.52,163.99,574.309,144.316,585.9284,152.1256,569.52,163.99\" style=\"stroke: #A80036; stroke-width: 1.0;\"/><ellipse cx=\"579.1486\" cy=\"140.7009\" fill=\"#A80036\" rx=\"2\" ry=\"2\" style=\"stroke: #A80036; stroke-width: 1.0;\"/><ellipse cx=\"587.4481\" cy=\"146.2792\" fill=\"#A80036\" rx=\"2\" ry=\"2\" style=\"stroke: #A80036; stroke-width: 1.0;\"/></a><!--MD5=[ddeed8deb2209213b62e6cfabaa108b2]\n",
       "reverse link E4 to E2--><a href=\"psysml:64e82b47-cc13-4353-a930-54201d4c743b\" target=\"_top\" title=\"psysml:64e82b47-cc13-4353-a930-54201d4c743b\" xlink:actuate=\"onRequest\" xlink:href=\"psysml:64e82b47-cc13-4353-a930-54201d4c743b\" xlink:show=\"new\" xlink:title=\"psysml:64e82b47-cc13-4353-a930-54201d4c743b\" xlink:type=\"simple\"><path d=\"M520.11,99.89 C525.27,119.63 531.69,144.23 536.85,163.99 \" fill=\"none\" id=\"E4&lt;-E2\" style=\"stroke: #A80036; stroke-width: 1.0;\"/><polygon fill=\"#FFFFFF\" points=\"516.78,87.13,514.4253,93.9458,519.8112,98.7408,522.1659,91.925,516.78,87.13\" style=\"stroke: #A80036; stroke-width: 1.0;\"/><text fill=\"#000000\" font-family=\"sans-serif\" font-size=\"13\" lengthAdjust=\"spacingAndGlyphs\" textLength=\"8\" x=\"529\" y=\"130.0669\">p</text></a><!--MD5=[2e7aaca95497c0b3592c15b6df68b571]\n",
       "@startuml\r\n",
       "skinparam wrapWidth 300\r\n",
       "hide circle\r\n",
       "\r\n",
       "package \"ParameterTest\" as E1  [[psysml:934b4cb7-0388-44aa-8a43-948e0e0270d7 ]]  {\r\n",
       "comp def \"A\" as E2  <<(T,blue)attribute def>> [[psysml:129c5bc9-5e36-4fac-a06d-7961ccb64091 ]] {\r\n",
       "x: String\r\n",
       "y: A\r\n",
       "}\r\n",
       "comp usage \"a: A\" as E3  <<(T,blue)attribute>> [[psysml:50405f72-7bb1-41da-960b-ed203bf92c2d ]] {\r\n",
       "}\r\n",
       "comp def \"F\" as E4  <<(T,blue)calculation def>> [[psysml:84637ab1-2e14-49ab-80b7-3fb2aa846372 ]] {\r\n",
       "}\r\n",
       "comp usage \"f\" as E5  <<(T,blue)attribute>> [[psysml:88b39ab3-39a3-49e4-a823-2b19bc6cfd18 ]] {\r\n",
       "}\r\n",
       "comp usage \"g\" as E6  <<(T,blue)attribute>> [[psysml:3f28e8b6-a431-4098-a991-c6c646c27e19 ]] {\r\n",
       "}\r\n",
       "comp usage \"b\" as E7  <<(T,blue)attribute>> [[psysml:a48346b2-888a-436e-97f1-e60fac760a88 ]] {\r\n",
       "}\r\n",
       "comp usage \"c\" as E8  <<(T,blue)attribute>> [[psysml:952d2fa1-4eb4-490f-be08-21606a0b2581 ]] {\r\n",
       "}\r\n",
       "E3 - -:|> E2 [[psysml:7569b902-ac88-47a0-a36a-be78510f169c ]] \r\n",
       "E4 o- - E2 [[psysml:64e82b47-cc13-4353-a930-54201d4c743b ]] : p\r\n",
       "}\r\n",
       "@enduml\r\n",
       "\n",
       "PlantUML version 1.2020.13(Sat Jun 13 12:26:38 UTC 2020)\n",
       "(EPL source distribution)\n",
       "Java Runtime: OpenJDK Runtime Environment\n",
       "JVM: OpenJDK 64-Bit Server VM\n",
       "Default Encoding: UTF-8\n",
       "Language: en\n",
       "Country: null\n",
       "--></g></svg>"
      ]
     },
     "execution_count": 24,
     "metadata": {},
     "output_type": "execute_result"
    }
   ],
   "source": [
    "%viz --style=\"STDCOLOR\" --view=\"Tree\" \"ParameterTest\""
   ]
  },
  {
   "cell_type": "code",
   "execution_count": 25,
   "id": "tropical-cream",
   "metadata": {
    "execution": {
     "iopub.execute_input": "2021-03-26T09:13:01.611135Z",
     "iopub.status.busy": "2021-03-26T09:13:01.610615Z",
     "iopub.status.idle": "2021-03-26T09:13:01.617535Z",
     "shell.execute_reply": "2021-03-26T09:13:01.617925Z"
    }
   },
   "outputs": [
    {
     "data": {
      "image/svg+xml": [
       "<?xml version=\"1.0\" encoding=\"UTF-8\" standalone=\"no\"?><svg xmlns=\"http://www.w3.org/2000/svg\" xmlns:xlink=\"http://www.w3.org/1999/xlink\" contentScriptType=\"application/ecmascript\" contentStyleType=\"text/css\" height=\"12px\" preserveAspectRatio=\"none\" style=\"width:12px;height:12px;\" version=\"1.1\" viewBox=\"0 0 12 12\" width=\"12px\" zoomAndPan=\"magnify\"><defs/><g><!--MD5=[aeeef50f102b80d730deb6443d14f702]\n",
       "@startuml\r\n",
       "skinparam wrapWidth 300\r\n",
       "hide circle\r\n",
       "\r\n",
       "@enduml\r\n",
       "\n",
       "PlantUML version 1.2020.13(Sat Jun 13 12:26:38 UTC 2020)\n",
       "(EPL source distribution)\n",
       "Java Runtime: OpenJDK Runtime Environment\n",
       "JVM: OpenJDK 64-Bit Server VM\n",
       "Default Encoding: UTF-8\n",
       "Language: en\n",
       "Country: null\n",
       "--></g></svg>"
      ]
     },
     "execution_count": 25,
     "metadata": {},
     "output_type": "execute_result"
    }
   ],
   "source": [
    "%viz --style=\"STDCOLOR\" --view=\"State\" \"ParameterTest\""
   ]
  },
  {
   "cell_type": "code",
   "execution_count": 26,
   "id": "labeled-stock",
   "metadata": {
    "execution": {
     "iopub.execute_input": "2021-03-26T09:13:01.670094Z",
     "iopub.status.busy": "2021-03-26T09:13:01.669306Z",
     "iopub.status.idle": "2021-03-26T09:13:01.698708Z",
     "shell.execute_reply": "2021-03-26T09:13:01.699115Z"
    }
   },
   "outputs": [
    {
     "data": {
      "image/svg+xml": [
       "<?xml version=\"1.0\" encoding=\"UTF-8\" standalone=\"no\"?><svg xmlns=\"http://www.w3.org/2000/svg\" xmlns:xlink=\"http://www.w3.org/1999/xlink\" contentScriptType=\"application/ecmascript\" contentStyleType=\"text/css\" height=\"123px\" preserveAspectRatio=\"none\" style=\"width:960px;height:123px;\" version=\"1.1\" viewBox=\"0 0 960 123\" width=\"960px\" zoomAndPan=\"magnify\"><defs><filter height=\"300%\" id=\"f1vfws0m77v1sm\" width=\"300%\" x=\"-1\" y=\"-1\"><feGaussianBlur result=\"blurOut\" stdDeviation=\"2.0\"/><feColorMatrix in=\"blurOut\" result=\"blurOut2\" type=\"matrix\" values=\"0 0 0 0 0 0 0 0 0 0 0 0 0 0 0 0 0 0 .4 0\"/><feOffset dx=\"4.0\" dy=\"4.0\" in=\"blurOut2\" result=\"blurOut3\"/><feBlend in=\"SourceGraphic\" in2=\"blurOut3\" mode=\"normal\"/></filter></defs><g><!--MD5=[fbc87193dbaf4d95561dea2c320d4a47]\n",
       "cluster E1--><a href=\"psysml:934b4cb7-0388-44aa-8a43-948e0e0270d7\" target=\"_top\" title=\"psysml:934b4cb7-0388-44aa-8a43-948e0e0270d7\" xlink:actuate=\"onRequest\" xlink:href=\"psysml:934b4cb7-0388-44aa-8a43-948e0e0270d7\" xlink:show=\"new\" xlink:title=\"psysml:934b4cb7-0388-44aa-8a43-948e0e0270d7\" xlink:type=\"simple\"><polygon fill=\"#FFFFFF\" filter=\"url(#f1vfws0m77v1sm)\" points=\"16,6,139,6,146,28.2969,938,28.2969,938,111,16,111,16,6\" style=\"stroke: #000000; stroke-width: 1.5;\"/><line style=\"stroke: #000000; stroke-width: 1.5;\" x1=\"16\" x2=\"146\" y1=\"28.2969\" y2=\"28.2969\"/><text fill=\"#000000\" font-family=\"sans-serif\" font-size=\"14\" font-weight=\"bold\" lengthAdjust=\"spacingAndGlyphs\" textLength=\"117\" x=\"20\" y=\"20.9951\">ParameterTest</text></a><!--MD5=[b4997ac47864f28c2f74865a473b2911]\n",
       "class E2--><a href=\"psysml:129c5bc9-5e36-4fac-a06d-7961ccb64091\" target=\"_top\" title=\"psysml:129c5bc9-5e36-4fac-a06d-7961ccb64091\" xlink:actuate=\"onRequest\" xlink:href=\"psysml:129c5bc9-5e36-4fac-a06d-7961ccb64091\" xlink:show=\"new\" xlink:title=\"psysml:129c5bc9-5e36-4fac-a06d-7961ccb64091\" xlink:type=\"simple\"><rect fill=\"#FEFECE\" filter=\"url(#f1vfws0m77v1sm)\" height=\"53.9375\" id=\"E2\" style=\"stroke: #A80036; stroke-width: 1.5;\" width=\"143\" x=\"778.5\" y=\"41\"/><text fill=\"#000000\" font-family=\"sans-serif\" font-size=\"12\" font-style=\"italic\" lengthAdjust=\"spacingAndGlyphs\" textLength=\"141\" x=\"779.5\" y=\"57.1387\">«(T,blue)attribute def»</text><text fill=\"#000000\" font-family=\"sans-serif\" font-size=\"12\" lengthAdjust=\"spacingAndGlyphs\" textLength=\"8\" x=\"846\" y=\"71.1074\">A</text><line style=\"stroke: #A80036; stroke-width: 1.5;\" x1=\"779.5\" x2=\"920.5\" y1=\"78.9375\" y2=\"78.9375\"/><line style=\"stroke: #A80036; stroke-width: 1.5;\" x1=\"779.5\" x2=\"920.5\" y1=\"86.9375\" y2=\"86.9375\"/></a><!--MD5=[ebbe1d658d1005bcc118a6aa81145e00]\n",
       "class E4--><a href=\"psysml:84637ab1-2e14-49ab-80b7-3fb2aa846372\" target=\"_top\" title=\"psysml:84637ab1-2e14-49ab-80b7-3fb2aa846372\" xlink:actuate=\"onRequest\" xlink:href=\"psysml:84637ab1-2e14-49ab-80b7-3fb2aa846372\" xlink:show=\"new\" xlink:title=\"psysml:84637ab1-2e14-49ab-80b7-3fb2aa846372\" xlink:type=\"simple\"><rect fill=\"#FEFECE\" filter=\"url(#f1vfws0m77v1sm)\" height=\"53.9375\" id=\"E4\" style=\"stroke: #A80036; stroke-width: 1.5;\" width=\"156\" x=\"587\" y=\"41\"/><text fill=\"#000000\" font-family=\"sans-serif\" font-size=\"12\" font-style=\"italic\" lengthAdjust=\"spacingAndGlyphs\" textLength=\"154\" x=\"588\" y=\"57.1387\">«(T,blue)calculation def»</text><text fill=\"#000000\" font-family=\"sans-serif\" font-size=\"12\" lengthAdjust=\"spacingAndGlyphs\" textLength=\"7\" x=\"661.5\" y=\"71.1074\">F</text><line style=\"stroke: #A80036; stroke-width: 1.5;\" x1=\"588\" x2=\"742\" y1=\"78.9375\" y2=\"78.9375\"/><line style=\"stroke: #A80036; stroke-width: 1.5;\" x1=\"588\" x2=\"742\" y1=\"86.9375\" y2=\"86.9375\"/></a><g id=\"E1.E3\"><a href=\"psysml:50405f72-7bb1-41da-960b-ed203bf92c2d\" target=\"_top\" title=\"psysml:50405f72-7bb1-41da-960b-ed203bf92c2d\" xlink:actuate=\"onRequest\" xlink:href=\"psysml:50405f72-7bb1-41da-960b-ed203bf92c2d\" xlink:show=\"new\" xlink:title=\"psysml:50405f72-7bb1-41da-960b-ed203bf92c2d\" xlink:type=\"simple\"><rect fill=\"#FEFECE\" filter=\"url(#f1vfws0m77v1sm)\" height=\"42.9375\" id=\"E3\" rx=\"10\" ry=\"10\" style=\"stroke: #A80036; stroke-width: 1.5;\" width=\"76\" x=\"476\" y=\"46.5\"/><text fill=\"#000000\" font-family=\"sans-serif\" font-size=\"12\" font-style=\"italic\" lengthAdjust=\"spacingAndGlyphs\" textLength=\"69\" x=\"479.5\" y=\"62.6387\">«attribute»</text><text fill=\"#000000\" font-family=\"sans-serif\" font-size=\"12\" lengthAdjust=\"spacingAndGlyphs\" textLength=\"24\" x=\"502\" y=\"76.6074\">a: A</text></a></g><g id=\"E1.E5\"><a href=\"psysml:88b39ab3-39a3-49e4-a823-2b19bc6cfd18\" target=\"_top\" title=\"psysml:88b39ab3-39a3-49e4-a823-2b19bc6cfd18\" xlink:actuate=\"onRequest\" xlink:href=\"psysml:88b39ab3-39a3-49e4-a823-2b19bc6cfd18\" xlink:show=\"new\" xlink:title=\"psysml:88b39ab3-39a3-49e4-a823-2b19bc6cfd18\" xlink:type=\"simple\"><rect fill=\"#FEFECE\" filter=\"url(#f1vfws0m77v1sm)\" height=\"42.9375\" id=\"E5\" rx=\"10\" ry=\"10\" style=\"stroke: #A80036; stroke-width: 1.5;\" width=\"76\" x=\"365\" y=\"46.5\"/><text fill=\"#000000\" font-family=\"sans-serif\" font-size=\"12\" font-style=\"italic\" lengthAdjust=\"spacingAndGlyphs\" textLength=\"69\" x=\"368.5\" y=\"62.6387\">«attribute»</text><text fill=\"#000000\" font-family=\"sans-serif\" font-size=\"12\" lengthAdjust=\"spacingAndGlyphs\" textLength=\"4\" x=\"401\" y=\"76.6074\">f</text></a></g><g id=\"E1.E6\"><a href=\"psysml:3f28e8b6-a431-4098-a991-c6c646c27e19\" target=\"_top\" title=\"psysml:3f28e8b6-a431-4098-a991-c6c646c27e19\" xlink:actuate=\"onRequest\" xlink:href=\"psysml:3f28e8b6-a431-4098-a991-c6c646c27e19\" xlink:show=\"new\" xlink:title=\"psysml:3f28e8b6-a431-4098-a991-c6c646c27e19\" xlink:type=\"simple\"><rect fill=\"#FEFECE\" filter=\"url(#f1vfws0m77v1sm)\" height=\"42.9375\" id=\"E6\" rx=\"10\" ry=\"10\" style=\"stroke: #A80036; stroke-width: 1.5;\" width=\"76\" x=\"254\" y=\"46.5\"/><text fill=\"#000000\" font-family=\"sans-serif\" font-size=\"12\" font-style=\"italic\" lengthAdjust=\"spacingAndGlyphs\" textLength=\"69\" x=\"257.5\" y=\"62.6387\">«attribute»</text><text fill=\"#000000\" font-family=\"sans-serif\" font-size=\"12\" lengthAdjust=\"spacingAndGlyphs\" textLength=\"8\" x=\"288\" y=\"76.6074\">g</text></a></g><g id=\"E1.E7\"><a href=\"psysml:a48346b2-888a-436e-97f1-e60fac760a88\" target=\"_top\" title=\"psysml:a48346b2-888a-436e-97f1-e60fac760a88\" xlink:actuate=\"onRequest\" xlink:href=\"psysml:a48346b2-888a-436e-97f1-e60fac760a88\" xlink:show=\"new\" xlink:title=\"psysml:a48346b2-888a-436e-97f1-e60fac760a88\" xlink:type=\"simple\"><rect fill=\"#FEFECE\" filter=\"url(#f1vfws0m77v1sm)\" height=\"42.9375\" id=\"E7\" rx=\"10\" ry=\"10\" style=\"stroke: #A80036; stroke-width: 1.5;\" width=\"76\" x=\"143\" y=\"46.5\"/><text fill=\"#000000\" font-family=\"sans-serif\" font-size=\"12\" font-style=\"italic\" lengthAdjust=\"spacingAndGlyphs\" textLength=\"69\" x=\"146.5\" y=\"62.6387\">«attribute»</text><text fill=\"#000000\" font-family=\"sans-serif\" font-size=\"12\" lengthAdjust=\"spacingAndGlyphs\" textLength=\"8\" x=\"177\" y=\"76.6074\">b</text></a></g><g id=\"E1.E8\"><a href=\"psysml:952d2fa1-4eb4-490f-be08-21606a0b2581\" target=\"_top\" title=\"psysml:952d2fa1-4eb4-490f-be08-21606a0b2581\" xlink:actuate=\"onRequest\" xlink:href=\"psysml:952d2fa1-4eb4-490f-be08-21606a0b2581\" xlink:show=\"new\" xlink:title=\"psysml:952d2fa1-4eb4-490f-be08-21606a0b2581\" xlink:type=\"simple\"><rect fill=\"#FEFECE\" filter=\"url(#f1vfws0m77v1sm)\" height=\"42.9375\" id=\"E8\" rx=\"10\" ry=\"10\" style=\"stroke: #A80036; stroke-width: 1.5;\" width=\"76\" x=\"32\" y=\"46.5\"/><text fill=\"#000000\" font-family=\"sans-serif\" font-size=\"12\" font-style=\"italic\" lengthAdjust=\"spacingAndGlyphs\" textLength=\"69\" x=\"35.5\" y=\"62.6387\">«attribute»</text><text fill=\"#000000\" font-family=\"sans-serif\" font-size=\"12\" lengthAdjust=\"spacingAndGlyphs\" textLength=\"7\" x=\"66.5\" y=\"76.6074\">c</text></a></g><!--MD5=[99deec20af1fbc974d668712f07b43e2]\n",
       "@startuml\r\n",
       "skinparam ranksep 8\r\n",
       "skinparam rectangle {\r\n",
       " backgroundColor<<block>> LightGreen\r\n",
       "}\r\n",
       "skinparam wrapWidth 300\r\n",
       "hide circle\r\n",
       "\r\n",
       "package \"ParameterTest\" as E1  [[psysml:934b4cb7-0388-44aa-8a43-948e0e0270d7 ]]  {\r\n",
       "def \"A\" as E2  <<(T,blue)attribute def>> [[psysml:129c5bc9-5e36-4fac-a06d-7961ccb64091 ]] \r\n",
       "rec usage \"a: A\" as E3  <<(T,blue)attribute>> [[psysml:50405f72-7bb1-41da-960b-ed203bf92c2d ]] {\r\n",
       "}\r\n",
       "def \"F\" as E4  <<(T,blue)calculation def>> [[psysml:84637ab1-2e14-49ab-80b7-3fb2aa846372 ]] \r\n",
       "rec usage \"f\" as E5  <<(T,blue)attribute>> [[psysml:88b39ab3-39a3-49e4-a823-2b19bc6cfd18 ]] {\r\n",
       "}\r\n",
       "rec usage \"g\" as E6  <<(T,blue)attribute>> [[psysml:3f28e8b6-a431-4098-a991-c6c646c27e19 ]] {\r\n",
       "}\r\n",
       "rec usage \"b\" as E7  <<(T,blue)attribute>> [[psysml:a48346b2-888a-436e-97f1-e60fac760a88 ]] {\r\n",
       "}\r\n",
       "rec usage \"c\" as E8  <<(T,blue)attribute>> [[psysml:952d2fa1-4eb4-490f-be08-21606a0b2581 ]] {\r\n",
       "}\r\n",
       "}\r\n",
       "@enduml\r\n",
       "\n",
       "PlantUML version 1.2020.13(Sat Jun 13 12:26:38 UTC 2020)\n",
       "(EPL source distribution)\n",
       "Java Runtime: OpenJDK Runtime Environment\n",
       "JVM: OpenJDK 64-Bit Server VM\n",
       "Default Encoding: UTF-8\n",
       "Language: en\n",
       "Country: null\n",
       "--></g></svg>"
      ]
     },
     "execution_count": 26,
     "metadata": {},
     "output_type": "execute_result"
    }
   ],
   "source": [
    "%viz --style=\"STDCOLOR\" --view=\"Interconnection\" \"ParameterTest\""
   ]
  },
  {
   "cell_type": "code",
   "execution_count": 27,
   "id": "perfect-soldier",
   "metadata": {
    "execution": {
     "iopub.execute_input": "2021-03-26T09:13:01.750428Z",
     "iopub.status.busy": "2021-03-26T09:13:01.750045Z",
     "iopub.status.idle": "2021-03-26T09:13:01.772067Z",
     "shell.execute_reply": "2021-03-26T09:13:01.771731Z"
    }
   },
   "outputs": [
    {
     "data": {
      "image/svg+xml": [
       "<?xml version=\"1.0\" encoding=\"UTF-8\" standalone=\"no\"?><svg xmlns=\"http://www.w3.org/2000/svg\" xmlns:xlink=\"http://www.w3.org/1999/xlink\" contentScriptType=\"application/ecmascript\" contentStyleType=\"text/css\" height=\"134px\" preserveAspectRatio=\"none\" style=\"width:174px;height:134px;\" version=\"1.1\" viewBox=\"0 0 174 134\" width=\"174px\" zoomAndPan=\"magnify\"><defs><filter height=\"300%\" id=\"fbuieb644at7z\" width=\"300%\" x=\"-1\" y=\"-1\"><feGaussianBlur result=\"blurOut\" stdDeviation=\"2.0\"/><feColorMatrix in=\"blurOut\" result=\"blurOut2\" type=\"matrix\" values=\"0 0 0 0 0 0 0 0 0 0 0 0 0 0 0 0 0 0 .4 0\"/><feOffset dx=\"4.0\" dy=\"4.0\" in=\"blurOut2\" result=\"blurOut3\"/><feBlend in=\"SourceGraphic\" in2=\"blurOut3\" mode=\"normal\"/></filter></defs><g><!--MD5=[fbc87193dbaf4d95561dea2c320d4a47]\n",
       "cluster E1--><a href=\"psysml:84637ab1-2e14-49ab-80b7-3fb2aa846372\" target=\"_top\" title=\"psysml:84637ab1-2e14-49ab-80b7-3fb2aa846372\" xlink:actuate=\"onRequest\" xlink:href=\"psysml:84637ab1-2e14-49ab-80b7-3fb2aa846372\" xlink:show=\"new\" xlink:title=\"psysml:84637ab1-2e14-49ab-80b7-3fb2aa846372\" xlink:type=\"simple\"><rect fill=\"#FFFFFF\" filter=\"url(#fbuieb644at7z)\" height=\"73\" id=\"E1\" style=\"stroke: #A80036; stroke-width: 1.5;\" width=\"148\" x=\"7\" y=\"42.0986\"/><rect fill=\"#FEFECE\" height=\"37.9375\" style=\"stroke: #A80036; stroke-width: 1.5;\" width=\"148\" x=\"7\" y=\"42.0986\"/><text fill=\"#000000\" font-family=\"sans-serif\" font-size=\"12\" font-style=\"italic\" lengthAdjust=\"spacingAndGlyphs\" textLength=\"106\" x=\"28\" y=\"58.2373\">«calculation def»</text><text fill=\"#000000\" font-family=\"sans-serif\" font-size=\"12\" lengthAdjust=\"spacingAndGlyphs\" textLength=\"7\" x=\"77.5\" y=\"72.2061\">F</text></a><text fill=\"#000000\" font-family=\"sans-serif\" font-size=\"14\" lengthAdjust=\"spacingAndGlyphs\" textLength=\"9\" x=\"20.5\" y=\"20.7969\">p</text><rect fill=\"#A80036\" height=\"12\" style=\"stroke: #FEFECE; stroke-width: 1.5;\" width=\"12\" x=\"19\" y=\"36.0986\"/><text fill=\"#000000\" font-family=\"sans-serif\" font-size=\"14\" lengthAdjust=\"spacingAndGlyphs\" textLength=\"9\" x=\"67.5\" y=\"20.7969\">q</text><rect fill=\"#A80036\" height=\"12\" style=\"stroke: #FEFECE; stroke-width: 1.5;\" width=\"12\" x=\"66\" y=\"36.0986\"/><!--MD5=[c17d6ed902c8c5df9b8d2d3f6489398e]\n",
       "@startuml\r\n",
       "skinparam ranksep 8\r\n",
       "skinparam wrapWidth 300\r\n",
       "hide circle\r\n",
       "\r\n",
       "rec def \"F\" as E1  <<(T,blue)calculation def>> [[psysml:84637ab1-2e14-49ab-80b7-3fb2aa846372 ]] {\r\n",
       "portin \"p\" as E2  [[psysml:64e82b47-cc13-4353-a930-54201d4c743b ]] \r\n",
       "portin \"q\" as E3  [[psysml:647ae971-dc5c-461d-bddf-e9c9561ef010 ]] \r\n",
       "}\r\n",
       "\r\n",
       "@enduml\r\n",
       "\n",
       "PlantUML version 1.2020.13(Sat Jun 13 12:26:38 UTC 2020)\n",
       "(EPL source distribution)\n",
       "Java Runtime: OpenJDK Runtime Environment\n",
       "JVM: OpenJDK 64-Bit Server VM\n",
       "Default Encoding: UTF-8\n",
       "Language: en\n",
       "Country: null\n",
       "--></g></svg>"
      ]
     },
     "execution_count": 27,
     "metadata": {},
     "output_type": "execute_result"
    }
   ],
   "source": [
    "%viz --style=\"STDCOLOR\" --view=\"Action\" \"ParameterTest\""
   ]
  },
  {
   "cell_type": "code",
   "execution_count": 28,
   "id": "drawn-garage",
   "metadata": {
    "execution": {
     "iopub.execute_input": "2021-03-26T09:13:01.821584Z",
     "iopub.status.busy": "2021-03-26T09:13:01.820981Z",
     "iopub.status.idle": "2021-03-26T09:13:01.866726Z",
     "shell.execute_reply": "2021-03-26T09:13:01.866417Z"
    }
   },
   "outputs": [
    {
     "data": {
      "image/svg+xml": [
       "<?xml version=\"1.0\" encoding=\"UTF-8\" standalone=\"no\"?><svg xmlns=\"http://www.w3.org/2000/svg\" xmlns:xlink=\"http://www.w3.org/1999/xlink\" contentScriptType=\"application/ecmascript\" contentStyleType=\"text/css\" height=\"264px\" preserveAspectRatio=\"none\" style=\"width:710px;height:264px;\" version=\"1.1\" viewBox=\"0 0 710 264\" width=\"710px\" zoomAndPan=\"magnify\"><defs><filter height=\"300%\" id=\"f1nwqoh52e52ar\" width=\"300%\" x=\"-1\" y=\"-1\"><feGaussianBlur result=\"blurOut\" stdDeviation=\"2.0\"/><feColorMatrix in=\"blurOut\" result=\"blurOut2\" type=\"matrix\" values=\"0 0 0 0 0 0 0 0 0 0 0 0 0 0 0 0 0 0 .4 0\"/><feOffset dx=\"4.0\" dy=\"4.0\" in=\"blurOut2\" result=\"blurOut3\"/><feBlend in=\"SourceGraphic\" in2=\"blurOut3\" mode=\"normal\"/></filter></defs><g><!--MD5=[fbc87193dbaf4d95561dea2c320d4a47]\n",
       "cluster E1--><a href=\"psysml:934b4cb7-0388-44aa-8a43-948e0e0270d7\" target=\"_top\" title=\"psysml:934b4cb7-0388-44aa-8a43-948e0e0270d7\" xlink:actuate=\"onRequest\" xlink:href=\"psysml:934b4cb7-0388-44aa-8a43-948e0e0270d7\" xlink:show=\"new\" xlink:title=\"psysml:934b4cb7-0388-44aa-8a43-948e0e0270d7\" xlink:type=\"simple\"><polygon fill=\"#FFFFFF\" filter=\"url(#f1nwqoh52e52ar)\" points=\"16,6,139,6,146,28.2969,688,28.2969,688,252,16,252,16,6\" style=\"stroke: #000000; stroke-width: 1.5;\"/><line style=\"stroke: #000000; stroke-width: 1.5;\" x1=\"16\" x2=\"146\" y1=\"28.2969\" y2=\"28.2969\"/><text fill=\"#000000\" font-family=\"sans-serif\" font-size=\"14\" font-weight=\"bold\" lengthAdjust=\"spacingAndGlyphs\" textLength=\"117\" x=\"20\" y=\"20.9951\">ParameterTest</text></a><!--MD5=[b4997ac47864f28c2f74865a473b2911]\n",
       "class E2--><a href=\"psysml:129c5bc9-5e36-4fac-a06d-7961ccb64091\" target=\"_top\" title=\"psysml:129c5bc9-5e36-4fac-a06d-7961ccb64091\" xlink:actuate=\"onRequest\" xlink:href=\"psysml:129c5bc9-5e36-4fac-a06d-7961ccb64091\" xlink:show=\"new\" xlink:title=\"psysml:129c5bc9-5e36-4fac-a06d-7961ccb64091\" xlink:type=\"simple\"><rect fill=\"#FEFECE\" filter=\"url(#f1nwqoh52e52ar)\" height=\"71.5469\" id=\"E2\" style=\"stroke: #A80036; stroke-width: 1.5;\" width=\"95\" x=\"498.5\" y=\"164\"/><text fill=\"#000000\" font-family=\"sans-serif\" font-size=\"12\" font-style=\"italic\" lengthAdjust=\"spacingAndGlyphs\" textLength=\"93\" x=\"499.5\" y=\"180.1387\">«attribute def»</text><text fill=\"#000000\" font-family=\"sans-serif\" font-size=\"12\" lengthAdjust=\"spacingAndGlyphs\" textLength=\"8\" x=\"542\" y=\"194.1074\">A</text><line style=\"stroke: #A80036; stroke-width: 1.5;\" x1=\"499.5\" x2=\"592.5\" y1=\"201.9375\" y2=\"201.9375\"/><text fill=\"#000000\" font-family=\"sans-serif\" font-size=\"11\" lengthAdjust=\"spacingAndGlyphs\" textLength=\"48\" x=\"504.5\" y=\"216.1479\">x: String</text><text fill=\"#000000\" font-family=\"sans-serif\" font-size=\"11\" lengthAdjust=\"spacingAndGlyphs\" textLength=\"21\" x=\"504.5\" y=\"228.9526\">y: A</text></a><!--MD5=[09b614a08d8cba4a07c9adeb5e0fee81]\n",
       "class E3--><a href=\"psysml:50405f72-7bb1-41da-960b-ed203bf92c2d\" target=\"_top\" title=\"psysml:50405f72-7bb1-41da-960b-ed203bf92c2d\" xlink:actuate=\"onRequest\" xlink:href=\"psysml:50405f72-7bb1-41da-960b-ed203bf92c2d\" xlink:show=\"new\" xlink:title=\"psysml:50405f72-7bb1-41da-960b-ed203bf92c2d\" xlink:type=\"simple\"><rect fill=\"#FEFECE\" filter=\"url(#f1nwqoh52e52ar)\" height=\"45.9375\" id=\"E3\" rx=\"10\" ry=\"10\" style=\"stroke: #A80036; stroke-width: 1.5;\" width=\"71\" x=\"600.5\" y=\"41\"/><text fill=\"#000000\" font-family=\"sans-serif\" font-size=\"12\" font-style=\"italic\" lengthAdjust=\"spacingAndGlyphs\" textLength=\"69\" x=\"601.5\" y=\"57.1387\">«attribute»</text><text fill=\"#000000\" font-family=\"sans-serif\" font-size=\"12\" lengthAdjust=\"spacingAndGlyphs\" textLength=\"24\" x=\"624\" y=\"71.1074\">a: A</text><line style=\"stroke: #A80036; stroke-width: 1.5;\" x1=\"601.5\" x2=\"670.5\" y1=\"78.9375\" y2=\"78.9375\"/></a><!--MD5=[ebbe1d658d1005bcc118a6aa81145e00]\n",
       "class E4--><a href=\"psysml:84637ab1-2e14-49ab-80b7-3fb2aa846372\" target=\"_top\" title=\"psysml:84637ab1-2e14-49ab-80b7-3fb2aa846372\" xlink:actuate=\"onRequest\" xlink:href=\"psysml:84637ab1-2e14-49ab-80b7-3fb2aa846372\" xlink:show=\"new\" xlink:title=\"psysml:84637ab1-2e14-49ab-80b7-3fb2aa846372\" xlink:type=\"simple\"><rect fill=\"#FEFECE\" filter=\"url(#f1nwqoh52e52ar)\" height=\"45.9375\" id=\"E4\" style=\"stroke: #A80036; stroke-width: 1.5;\" width=\"108\" x=\"457\" y=\"41\"/><text fill=\"#000000\" font-family=\"sans-serif\" font-size=\"12\" font-style=\"italic\" lengthAdjust=\"spacingAndGlyphs\" textLength=\"106\" x=\"458\" y=\"57.1387\">«calculation def»</text><text fill=\"#000000\" font-family=\"sans-serif\" font-size=\"12\" lengthAdjust=\"spacingAndGlyphs\" textLength=\"7\" x=\"507.5\" y=\"71.1074\">F</text><line style=\"stroke: #A80036; stroke-width: 1.5;\" x1=\"458\" x2=\"564\" y1=\"78.9375\" y2=\"78.9375\"/></a><!--MD5=[270fce915f116d4de14055a7c1d9a0f3]\n",
       "class E5--><a href=\"psysml:88b39ab3-39a3-49e4-a823-2b19bc6cfd18\" target=\"_top\" title=\"psysml:88b39ab3-39a3-49e4-a823-2b19bc6cfd18\" xlink:actuate=\"onRequest\" xlink:href=\"psysml:88b39ab3-39a3-49e4-a823-2b19bc6cfd18\" xlink:show=\"new\" xlink:title=\"psysml:88b39ab3-39a3-49e4-a823-2b19bc6cfd18\" xlink:type=\"simple\"><rect fill=\"#FEFECE\" filter=\"url(#f1nwqoh52e52ar)\" height=\"45.9375\" id=\"E5\" rx=\"10\" ry=\"10\" style=\"stroke: #A80036; stroke-width: 1.5;\" width=\"71\" x=\"350.5\" y=\"41\"/><text fill=\"#000000\" font-family=\"sans-serif\" font-size=\"12\" font-style=\"italic\" lengthAdjust=\"spacingAndGlyphs\" textLength=\"69\" x=\"351.5\" y=\"57.1387\">«attribute»</text><text fill=\"#000000\" font-family=\"sans-serif\" font-size=\"12\" lengthAdjust=\"spacingAndGlyphs\" textLength=\"4\" x=\"384\" y=\"71.1074\">f</text><line style=\"stroke: #A80036; stroke-width: 1.5;\" x1=\"351.5\" x2=\"420.5\" y1=\"78.9375\" y2=\"78.9375\"/></a><!--MD5=[60a26617385b1d2d0262a64233df1f8d]\n",
       "class E6--><a href=\"psysml:3f28e8b6-a431-4098-a991-c6c646c27e19\" target=\"_top\" title=\"psysml:3f28e8b6-a431-4098-a991-c6c646c27e19\" xlink:actuate=\"onRequest\" xlink:href=\"psysml:3f28e8b6-a431-4098-a991-c6c646c27e19\" xlink:show=\"new\" xlink:title=\"psysml:3f28e8b6-a431-4098-a991-c6c646c27e19\" xlink:type=\"simple\"><rect fill=\"#FEFECE\" filter=\"url(#f1nwqoh52e52ar)\" height=\"45.9375\" id=\"E6\" rx=\"10\" ry=\"10\" style=\"stroke: #A80036; stroke-width: 1.5;\" width=\"71\" x=\"244.5\" y=\"41\"/><text fill=\"#000000\" font-family=\"sans-serif\" font-size=\"12\" font-style=\"italic\" lengthAdjust=\"spacingAndGlyphs\" textLength=\"69\" x=\"245.5\" y=\"57.1387\">«attribute»</text><text fill=\"#000000\" font-family=\"sans-serif\" font-size=\"12\" lengthAdjust=\"spacingAndGlyphs\" textLength=\"8\" x=\"276\" y=\"71.1074\">g</text><line style=\"stroke: #A80036; stroke-width: 1.5;\" x1=\"245.5\" x2=\"314.5\" y1=\"78.9375\" y2=\"78.9375\"/></a><!--MD5=[2156ba9850f5573cc1fc38a6a4b2f02b]\n",
       "class E7--><a href=\"psysml:a48346b2-888a-436e-97f1-e60fac760a88\" target=\"_top\" title=\"psysml:a48346b2-888a-436e-97f1-e60fac760a88\" xlink:actuate=\"onRequest\" xlink:href=\"psysml:a48346b2-888a-436e-97f1-e60fac760a88\" xlink:show=\"new\" xlink:title=\"psysml:a48346b2-888a-436e-97f1-e60fac760a88\" xlink:type=\"simple\"><rect fill=\"#FEFECE\" filter=\"url(#f1nwqoh52e52ar)\" height=\"45.9375\" id=\"E7\" rx=\"10\" ry=\"10\" style=\"stroke: #A80036; stroke-width: 1.5;\" width=\"71\" x=\"138.5\" y=\"41\"/><text fill=\"#000000\" font-family=\"sans-serif\" font-size=\"12\" font-style=\"italic\" lengthAdjust=\"spacingAndGlyphs\" textLength=\"69\" x=\"139.5\" y=\"57.1387\">«attribute»</text><text fill=\"#000000\" font-family=\"sans-serif\" font-size=\"12\" lengthAdjust=\"spacingAndGlyphs\" textLength=\"8\" x=\"170\" y=\"71.1074\">b</text><line style=\"stroke: #A80036; stroke-width: 1.5;\" x1=\"139.5\" x2=\"208.5\" y1=\"78.9375\" y2=\"78.9375\"/></a><!--MD5=[b9389687b975829384b498ac4b7476b2]\n",
       "class E8--><a href=\"psysml:952d2fa1-4eb4-490f-be08-21606a0b2581\" target=\"_top\" title=\"psysml:952d2fa1-4eb4-490f-be08-21606a0b2581\" xlink:actuate=\"onRequest\" xlink:href=\"psysml:952d2fa1-4eb4-490f-be08-21606a0b2581\" xlink:show=\"new\" xlink:title=\"psysml:952d2fa1-4eb4-490f-be08-21606a0b2581\" xlink:type=\"simple\"><rect fill=\"#FEFECE\" filter=\"url(#f1nwqoh52e52ar)\" height=\"45.9375\" id=\"E8\" rx=\"10\" ry=\"10\" style=\"stroke: #A80036; stroke-width: 1.5;\" width=\"71\" x=\"32.5\" y=\"41\"/><text fill=\"#000000\" font-family=\"sans-serif\" font-size=\"12\" font-style=\"italic\" lengthAdjust=\"spacingAndGlyphs\" textLength=\"69\" x=\"33.5\" y=\"57.1387\">«attribute»</text><text fill=\"#000000\" font-family=\"sans-serif\" font-size=\"12\" lengthAdjust=\"spacingAndGlyphs\" textLength=\"7\" x=\"64.5\" y=\"71.1074\">c</text><line style=\"stroke: #A80036; stroke-width: 1.5;\" x1=\"33.5\" x2=\"102.5\" y1=\"78.9375\" y2=\"78.9375\"/></a><!--MD5=[05d275557350bfb9b23a4ef7222b4c39]\n",
       "link E3 to E2--><a href=\"psysml:7569b902-ac88-47a0-a36a-be78510f169c\" target=\"_top\" title=\"psysml:7569b902-ac88-47a0-a36a-be78510f169c\" xlink:actuate=\"onRequest\" xlink:href=\"psysml:7569b902-ac88-47a0-a36a-be78510f169c\" xlink:show=\"new\" xlink:title=\"psysml:7569b902-ac88-47a0-a36a-be78510f169c\" xlink:type=\"simple\"><path d=\"M621.14,87.13 C610.18,103.45 594.8,126.34 580.81,147.17 \" fill=\"none\" id=\"E3-&gt;E2\" style=\"stroke: #A80036; stroke-width: 1.0;\"/><polygon fill=\"#FFFFFF\" points=\"569.52,163.99,574.309,144.316,585.9284,152.1256,569.52,163.99\" style=\"stroke: #A80036; stroke-width: 1.0;\"/><ellipse cx=\"579.1486\" cy=\"140.7009\" fill=\"#A80036\" rx=\"2\" ry=\"2\" style=\"stroke: #A80036; stroke-width: 1.0;\"/><ellipse cx=\"587.4481\" cy=\"146.2792\" fill=\"#A80036\" rx=\"2\" ry=\"2\" style=\"stroke: #A80036; stroke-width: 1.0;\"/></a><!--MD5=[ddeed8deb2209213b62e6cfabaa108b2]\n",
       "reverse link E4 to E2--><a href=\"psysml:64e82b47-cc13-4353-a930-54201d4c743b\" target=\"_top\" title=\"psysml:64e82b47-cc13-4353-a930-54201d4c743b\" xlink:actuate=\"onRequest\" xlink:href=\"psysml:64e82b47-cc13-4353-a930-54201d4c743b\" xlink:show=\"new\" xlink:title=\"psysml:64e82b47-cc13-4353-a930-54201d4c743b\" xlink:type=\"simple\"><path d=\"M520.11,99.89 C525.27,119.63 531.69,144.23 536.85,163.99 \" fill=\"none\" id=\"E4&lt;-E2\" style=\"stroke: #A80036; stroke-width: 1.0;\"/><polygon fill=\"#FFFFFF\" points=\"516.78,87.13,514.4253,93.9458,519.8112,98.7408,522.1659,91.925,516.78,87.13\" style=\"stroke: #A80036; stroke-width: 1.0;\"/><text fill=\"#000000\" font-family=\"sans-serif\" font-size=\"13\" lengthAdjust=\"spacingAndGlyphs\" textLength=\"8\" x=\"529\" y=\"130.0669\">p</text></a><!--MD5=[2e7aaca95497c0b3592c15b6df68b571]\n",
       "@startuml\r\n",
       "skinparam wrapWidth 300\r\n",
       "hide circle\r\n",
       "\r\n",
       "package \"ParameterTest\" as E1  [[psysml:934b4cb7-0388-44aa-8a43-948e0e0270d7 ]]  {\r\n",
       "comp def \"A\" as E2  <<(T,blue)attribute def>> [[psysml:129c5bc9-5e36-4fac-a06d-7961ccb64091 ]] {\r\n",
       "x: String\r\n",
       "y: A\r\n",
       "}\r\n",
       "comp usage \"a: A\" as E3  <<(T,blue)attribute>> [[psysml:50405f72-7bb1-41da-960b-ed203bf92c2d ]] {\r\n",
       "}\r\n",
       "comp def \"F\" as E4  <<(T,blue)calculation def>> [[psysml:84637ab1-2e14-49ab-80b7-3fb2aa846372 ]] {\r\n",
       "}\r\n",
       "comp usage \"f\" as E5  <<(T,blue)attribute>> [[psysml:88b39ab3-39a3-49e4-a823-2b19bc6cfd18 ]] {\r\n",
       "}\r\n",
       "comp usage \"g\" as E6  <<(T,blue)attribute>> [[psysml:3f28e8b6-a431-4098-a991-c6c646c27e19 ]] {\r\n",
       "}\r\n",
       "comp usage \"b\" as E7  <<(T,blue)attribute>> [[psysml:a48346b2-888a-436e-97f1-e60fac760a88 ]] {\r\n",
       "}\r\n",
       "comp usage \"c\" as E8  <<(T,blue)attribute>> [[psysml:952d2fa1-4eb4-490f-be08-21606a0b2581 ]] {\r\n",
       "}\r\n",
       "E3 - -:|> E2 [[psysml:7569b902-ac88-47a0-a36a-be78510f169c ]] \r\n",
       "E4 o- - E2 [[psysml:64e82b47-cc13-4353-a930-54201d4c743b ]] : p\r\n",
       "}\r\n",
       "@enduml\r\n",
       "\n",
       "PlantUML version 1.2020.13(Sat Jun 13 12:26:38 UTC 2020)\n",
       "(EPL source distribution)\n",
       "Java Runtime: OpenJDK Runtime Environment\n",
       "JVM: OpenJDK 64-Bit Server VM\n",
       "Default Encoding: UTF-8\n",
       "Language: en\n",
       "Country: null\n",
       "--></g></svg>"
      ]
     },
     "execution_count": 28,
     "metadata": {},
     "output_type": "execute_result"
    }
   ],
   "source": [
    "%viz --style=\"STDCOLOR\" --view=\"Sequence\" \"ParameterTest\""
   ]
  },
  {
   "cell_type": "code",
   "execution_count": 29,
   "id": "helpful-hurricane",
   "metadata": {
    "execution": {
     "iopub.execute_input": "2021-03-26T09:13:01.918092Z",
     "iopub.status.busy": "2021-03-26T09:13:01.917657Z",
     "iopub.status.idle": "2021-03-26T09:13:01.954977Z",
     "shell.execute_reply": "2021-03-26T09:13:01.954517Z"
    }
   },
   "outputs": [
    {
     "data": {
      "image/svg+xml": [
       "<?xml version=\"1.0\" encoding=\"UTF-8\" standalone=\"no\"?><svg xmlns=\"http://www.w3.org/2000/svg\" xmlns:xlink=\"http://www.w3.org/1999/xlink\" contentScriptType=\"application/ecmascript\" contentStyleType=\"text/css\" height=\"247px\" preserveAspectRatio=\"none\" style=\"width:740px;height:247px;\" version=\"1.1\" viewBox=\"0 0 740 247\" width=\"740px\" zoomAndPan=\"magnify\"><defs><filter height=\"300%\" id=\"foep6hgstoxo0\" width=\"300%\" x=\"-1\" y=\"-1\"><feGaussianBlur result=\"blurOut\" stdDeviation=\"2.0\"/><feColorMatrix in=\"blurOut\" result=\"blurOut2\" type=\"matrix\" values=\"0 0 0 0 0 0 0 0 0 0 0 0 0 0 0 0 0 0 .4 0\"/><feOffset dx=\"4.0\" dy=\"4.0\" in=\"blurOut2\" result=\"blurOut3\"/><feBlend in=\"SourceGraphic\" in2=\"blurOut3\" mode=\"normal\"/></filter></defs><g><!--MD5=[fbc87193dbaf4d95561dea2c320d4a47]\n",
       "cluster E1--><a href=\"psysml:934b4cb7-0388-44aa-8a43-948e0e0270d7\" target=\"_top\" title=\"psysml:934b4cb7-0388-44aa-8a43-948e0e0270d7\" xlink:actuate=\"onRequest\" xlink:href=\"psysml:934b4cb7-0388-44aa-8a43-948e0e0270d7\" xlink:show=\"new\" xlink:title=\"psysml:934b4cb7-0388-44aa-8a43-948e0e0270d7\" xlink:type=\"simple\"><polygon fill=\"#FFFFFF\" filter=\"url(#foep6hgstoxo0)\" points=\"16,6,139,6,146,28.2969,718,28.2969,718,235,16,235,16,6\" style=\"stroke: #000000; stroke-width: 1.5;\"/><line style=\"stroke: #000000; stroke-width: 1.5;\" x1=\"16\" x2=\"146\" y1=\"28.2969\" y2=\"28.2969\"/><text fill=\"#000000\" font-family=\"sans-serif\" font-size=\"14\" font-weight=\"bold\" lengthAdjust=\"spacingAndGlyphs\" textLength=\"117\" x=\"20\" y=\"20.9951\">ParameterTest</text></a><!--MD5=[f6df4d0ebaf0b5dfb2ced0ae5af7c670]\n",
       "cluster E4--><a href=\"psysml:84637ab1-2e14-49ab-80b7-3fb2aa846372\" target=\"_top\" title=\"psysml:84637ab1-2e14-49ab-80b7-3fb2aa846372\" xlink:actuate=\"onRequest\" xlink:href=\"psysml:84637ab1-2e14-49ab-80b7-3fb2aa846372\" xlink:show=\"new\" xlink:title=\"psysml:84637ab1-2e14-49ab-80b7-3fb2aa846372\" xlink:type=\"simple\"><rect fill=\"#FFFFFF\" filter=\"url(#foep6hgstoxo0)\" height=\"152.5\" id=\"E4\" style=\"stroke: #A80036; stroke-width: 1.5;\" width=\"148\" x=\"554\" y=\"64\"/><rect fill=\"#FEFECE\" height=\"37.9375\" style=\"stroke: #A80036; stroke-width: 1.5;\" width=\"148\" x=\"554\" y=\"64\"/><text fill=\"#000000\" font-family=\"sans-serif\" font-size=\"12\" font-style=\"italic\" lengthAdjust=\"spacingAndGlyphs\" textLength=\"106\" x=\"575\" y=\"80.1387\">«calculation def»</text><text fill=\"#000000\" font-family=\"sans-serif\" font-size=\"12\" lengthAdjust=\"spacingAndGlyphs\" textLength=\"7\" x=\"624.5\" y=\"94.1074\">F</text></a><!--MD5=[b4997ac47864f28c2f74865a473b2911]\n",
       "class E2--><a href=\"psysml:129c5bc9-5e36-4fac-a06d-7961ccb64091\" target=\"_top\" title=\"psysml:129c5bc9-5e36-4fac-a06d-7961ccb64091\" xlink:actuate=\"onRequest\" xlink:href=\"psysml:129c5bc9-5e36-4fac-a06d-7961ccb64091\" xlink:show=\"new\" xlink:title=\"psysml:129c5bc9-5e36-4fac-a06d-7961ccb64091\" xlink:type=\"simple\"><rect fill=\"#FEFECE\" filter=\"url(#foep6hgstoxo0)\" height=\"71.5469\" id=\"E2\" style=\"stroke: #A80036; stroke-width: 1.5;\" width=\"95\" x=\"422.5\" y=\"147\"/><text fill=\"#000000\" font-family=\"sans-serif\" font-size=\"12\" font-style=\"italic\" lengthAdjust=\"spacingAndGlyphs\" textLength=\"93\" x=\"423.5\" y=\"163.1387\">«attribute def»</text><text fill=\"#000000\" font-family=\"sans-serif\" font-size=\"12\" lengthAdjust=\"spacingAndGlyphs\" textLength=\"8\" x=\"466\" y=\"177.1074\">A</text><line style=\"stroke: #A80036; stroke-width: 1.5;\" x1=\"423.5\" x2=\"516.5\" y1=\"184.9375\" y2=\"184.9375\"/><text fill=\"#000000\" font-family=\"sans-serif\" font-size=\"11\" lengthAdjust=\"spacingAndGlyphs\" textLength=\"48\" x=\"428.5\" y=\"199.1479\">x: String</text><text fill=\"#000000\" font-family=\"sans-serif\" font-size=\"11\" lengthAdjust=\"spacingAndGlyphs\" textLength=\"21\" x=\"428.5\" y=\"211.9526\">y: A</text></a><!--MD5=[09b614a08d8cba4a07c9adeb5e0fee81]\n",
       "class E3--><a href=\"psysml:50405f72-7bb1-41da-960b-ed203bf92c2d\" target=\"_top\" title=\"psysml:50405f72-7bb1-41da-960b-ed203bf92c2d\" xlink:actuate=\"onRequest\" xlink:href=\"psysml:50405f72-7bb1-41da-960b-ed203bf92c2d\" xlink:show=\"new\" xlink:title=\"psysml:50405f72-7bb1-41da-960b-ed203bf92c2d\" xlink:type=\"simple\"><rect fill=\"#FEFECE\" filter=\"url(#foep6hgstoxo0)\" height=\"45.9375\" id=\"E3\" rx=\"10\" ry=\"10\" style=\"stroke: #A80036; stroke-width: 1.5;\" width=\"71\" x=\"456.5\" y=\"41\"/><text fill=\"#000000\" font-family=\"sans-serif\" font-size=\"12\" font-style=\"italic\" lengthAdjust=\"spacingAndGlyphs\" textLength=\"69\" x=\"457.5\" y=\"57.1387\">«attribute»</text><text fill=\"#000000\" font-family=\"sans-serif\" font-size=\"12\" lengthAdjust=\"spacingAndGlyphs\" textLength=\"24\" x=\"480\" y=\"71.1074\">a: A</text><line style=\"stroke: #A80036; stroke-width: 1.5;\" x1=\"457.5\" x2=\"526.5\" y1=\"78.9375\" y2=\"78.9375\"/></a><!--MD5=[2156ba9850f5573cc1fc38a6a4b2f02b]\n",
       "class E7--><a href=\"psysml:88b39ab3-39a3-49e4-a823-2b19bc6cfd18\" target=\"_top\" title=\"psysml:88b39ab3-39a3-49e4-a823-2b19bc6cfd18\" xlink:actuate=\"onRequest\" xlink:href=\"psysml:88b39ab3-39a3-49e4-a823-2b19bc6cfd18\" xlink:show=\"new\" xlink:title=\"psysml:88b39ab3-39a3-49e4-a823-2b19bc6cfd18\" xlink:type=\"simple\"><rect fill=\"#FEFECE\" filter=\"url(#foep6hgstoxo0)\" height=\"45.9375\" id=\"E7\" rx=\"10\" ry=\"10\" style=\"stroke: #A80036; stroke-width: 1.5;\" width=\"71\" x=\"350.5\" y=\"41\"/><text fill=\"#000000\" font-family=\"sans-serif\" font-size=\"12\" font-style=\"italic\" lengthAdjust=\"spacingAndGlyphs\" textLength=\"69\" x=\"351.5\" y=\"57.1387\">«attribute»</text><text fill=\"#000000\" font-family=\"sans-serif\" font-size=\"12\" lengthAdjust=\"spacingAndGlyphs\" textLength=\"4\" x=\"384\" y=\"71.1074\">f</text><line style=\"stroke: #A80036; stroke-width: 1.5;\" x1=\"351.5\" x2=\"420.5\" y1=\"78.9375\" y2=\"78.9375\"/></a><!--MD5=[b9389687b975829384b498ac4b7476b2]\n",
       "class E8--><a href=\"psysml:3f28e8b6-a431-4098-a991-c6c646c27e19\" target=\"_top\" title=\"psysml:3f28e8b6-a431-4098-a991-c6c646c27e19\" xlink:actuate=\"onRequest\" xlink:href=\"psysml:3f28e8b6-a431-4098-a991-c6c646c27e19\" xlink:show=\"new\" xlink:title=\"psysml:3f28e8b6-a431-4098-a991-c6c646c27e19\" xlink:type=\"simple\"><rect fill=\"#FEFECE\" filter=\"url(#foep6hgstoxo0)\" height=\"45.9375\" id=\"E8\" rx=\"10\" ry=\"10\" style=\"stroke: #A80036; stroke-width: 1.5;\" width=\"71\" x=\"244.5\" y=\"41\"/><text fill=\"#000000\" font-family=\"sans-serif\" font-size=\"12\" font-style=\"italic\" lengthAdjust=\"spacingAndGlyphs\" textLength=\"69\" x=\"245.5\" y=\"57.1387\">«attribute»</text><text fill=\"#000000\" font-family=\"sans-serif\" font-size=\"12\" lengthAdjust=\"spacingAndGlyphs\" textLength=\"8\" x=\"276\" y=\"71.1074\">g</text><line style=\"stroke: #A80036; stroke-width: 1.5;\" x1=\"245.5\" x2=\"314.5\" y1=\"78.9375\" y2=\"78.9375\"/></a><!--MD5=[fd4143e9d270a159db93a4ea2a975926]\n",
       "class E9--><a href=\"psysml:a48346b2-888a-436e-97f1-e60fac760a88\" target=\"_top\" title=\"psysml:a48346b2-888a-436e-97f1-e60fac760a88\" xlink:actuate=\"onRequest\" xlink:href=\"psysml:a48346b2-888a-436e-97f1-e60fac760a88\" xlink:show=\"new\" xlink:title=\"psysml:a48346b2-888a-436e-97f1-e60fac760a88\" xlink:type=\"simple\"><rect fill=\"#FEFECE\" filter=\"url(#foep6hgstoxo0)\" height=\"45.9375\" id=\"E9\" rx=\"10\" ry=\"10\" style=\"stroke: #A80036; stroke-width: 1.5;\" width=\"71\" x=\"138.5\" y=\"41\"/><text fill=\"#000000\" font-family=\"sans-serif\" font-size=\"12\" font-style=\"italic\" lengthAdjust=\"spacingAndGlyphs\" textLength=\"69\" x=\"139.5\" y=\"57.1387\">«attribute»</text><text fill=\"#000000\" font-family=\"sans-serif\" font-size=\"12\" lengthAdjust=\"spacingAndGlyphs\" textLength=\"8\" x=\"170\" y=\"71.1074\">b</text><line style=\"stroke: #A80036; stroke-width: 1.5;\" x1=\"139.5\" x2=\"208.5\" y1=\"78.9375\" y2=\"78.9375\"/></a><!--MD5=[96f4274e9e20536e775497830990834d]\n",
       "class E10--><a href=\"psysml:952d2fa1-4eb4-490f-be08-21606a0b2581\" target=\"_top\" title=\"psysml:952d2fa1-4eb4-490f-be08-21606a0b2581\" xlink:actuate=\"onRequest\" xlink:href=\"psysml:952d2fa1-4eb4-490f-be08-21606a0b2581\" xlink:show=\"new\" xlink:title=\"psysml:952d2fa1-4eb4-490f-be08-21606a0b2581\" xlink:type=\"simple\"><rect fill=\"#FEFECE\" filter=\"url(#foep6hgstoxo0)\" height=\"45.9375\" id=\"E10\" rx=\"10\" ry=\"10\" style=\"stroke: #A80036; stroke-width: 1.5;\" width=\"71\" x=\"32.5\" y=\"41\"/><text fill=\"#000000\" font-family=\"sans-serif\" font-size=\"12\" font-style=\"italic\" lengthAdjust=\"spacingAndGlyphs\" textLength=\"69\" x=\"33.5\" y=\"57.1387\">«attribute»</text><text fill=\"#000000\" font-family=\"sans-serif\" font-size=\"12\" lengthAdjust=\"spacingAndGlyphs\" textLength=\"7\" x=\"64.5\" y=\"71.1074\">c</text><line style=\"stroke: #A80036; stroke-width: 1.5;\" x1=\"33.5\" x2=\"102.5\" y1=\"78.9375\" y2=\"78.9375\"/></a><text fill=\"#000000\" font-family=\"sans-serif\" font-size=\"14\" lengthAdjust=\"spacingAndGlyphs\" textLength=\"9\" x=\"567.5\" y=\"42.6982\">p</text><rect fill=\"#A80036\" height=\"12\" style=\"stroke: #FEFECE; stroke-width: 1.5;\" width=\"12\" x=\"566\" y=\"58\"/><text fill=\"#000000\" font-family=\"sans-serif\" font-size=\"14\" lengthAdjust=\"spacingAndGlyphs\" textLength=\"9\" x=\"614.5\" y=\"42.6982\">q</text><rect fill=\"#A80036\" height=\"12\" style=\"stroke: #FEFECE; stroke-width: 1.5;\" width=\"12\" x=\"613\" y=\"58\"/><!--MD5=[05d275557350bfb9b23a4ef7222b4c39]\n",
       "link E3 to E2--><a href=\"psysml:7569b902-ac88-47a0-a36a-be78510f169c\" target=\"_top\" title=\"psysml:7569b902-ac88-47a0-a36a-be78510f169c\" xlink:actuate=\"onRequest\" xlink:href=\"psysml:7569b902-ac88-47a0-a36a-be78510f169c\" xlink:show=\"new\" xlink:title=\"psysml:7569b902-ac88-47a0-a36a-be78510f169c\" xlink:type=\"simple\"><path d=\"M487.86,87.01 C485.74,98.3 483.05,112.62 480.4,126.7 \" fill=\"none\" id=\"E3-&gt;E2\" style=\"stroke: #A80036; stroke-width: 1.0;\"/><polygon fill=\"#FFFFFF\" points=\"476.63,146.75,473.2514,126.7854,487.0116,129.3654,476.63,146.75\" style=\"stroke: #A80036; stroke-width: 1.0;\"/><ellipse cx=\"476.2676\" cy=\"121.5516\" fill=\"#A80036\" rx=\"2\" ry=\"2\" style=\"stroke: #A80036; stroke-width: 1.0;\"/><ellipse cx=\"486.0963\" cy=\"123.3945\" fill=\"#A80036\" rx=\"2\" ry=\"2\" style=\"stroke: #A80036; stroke-width: 1.0;\"/></a><!--MD5=[cc9b4af89f837e967d8cfbaf0e02105d]\n",
       "@startuml\r\n",
       "skinparam wrapWidth 300\r\n",
       "hide circle\r\n",
       "\r\n",
       "package \"ParameterTest\" as E1  [[psysml:934b4cb7-0388-44aa-8a43-948e0e0270d7 ]]  {\r\n",
       "comp def \"A\" as E2  <<(T,blue)attribute def>> [[psysml:129c5bc9-5e36-4fac-a06d-7961ccb64091 ]] {\r\n",
       "x: String\r\n",
       "y: A\r\n",
       "}\r\n",
       "comp usage \"a: A\" as E3  <<(T,blue)attribute>> [[psysml:50405f72-7bb1-41da-960b-ed203bf92c2d ]] {\r\n",
       "}\r\n",
       "rec def \"F\" as E4  <<(T,blue)calculation def>> [[psysml:84637ab1-2e14-49ab-80b7-3fb2aa846372 ]] {\r\n",
       "portin \"p\" as E5  [[psysml:64e82b47-cc13-4353-a930-54201d4c743b ]] \r\n",
       "portin \"q\" as E6  [[psysml:647ae971-dc5c-461d-bddf-e9c9561ef010 ]] \r\n",
       "}\r\n",
       "\r\n",
       "comp usage \"f\" as E7  <<(T,blue)attribute>> [[psysml:88b39ab3-39a3-49e4-a823-2b19bc6cfd18 ]] {\r\n",
       "}\r\n",
       "comp usage \"g\" as E8  <<(T,blue)attribute>> [[psysml:3f28e8b6-a431-4098-a991-c6c646c27e19 ]] {\r\n",
       "}\r\n",
       "comp usage \"b\" as E9  <<(T,blue)attribute>> [[psysml:a48346b2-888a-436e-97f1-e60fac760a88 ]] {\r\n",
       "}\r\n",
       "comp usage \"c\" as E10  <<(T,blue)attribute>> [[psysml:952d2fa1-4eb4-490f-be08-21606a0b2581 ]] {\r\n",
       "}\r\n",
       "E3 - -:|> E2 [[psysml:7569b902-ac88-47a0-a36a-be78510f169c ]] \r\n",
       "}\r\n",
       "@enduml\r\n",
       "\n",
       "PlantUML version 1.2020.13(Sat Jun 13 12:26:38 UTC 2020)\n",
       "(EPL source distribution)\n",
       "Java Runtime: OpenJDK Runtime Environment\n",
       "JVM: OpenJDK 64-Bit Server VM\n",
       "Default Encoding: UTF-8\n",
       "Language: en\n",
       "Country: null\n",
       "--></g></svg>"
      ]
     },
     "execution_count": 29,
     "metadata": {},
     "output_type": "execute_result"
    }
   ],
   "source": [
    "%viz --style=\"STDCOLOR\" --view=\"MIXED\" \"ParameterTest\""
   ]
  },
  {
   "cell_type": "code",
   "execution_count": 30,
   "id": "photographic-bargain",
   "metadata": {
    "execution": {
     "iopub.execute_input": "2021-03-26T09:13:02.004646Z",
     "iopub.status.busy": "2021-03-26T09:13:02.004338Z",
     "iopub.status.idle": "2021-03-26T09:13:02.043501Z",
     "shell.execute_reply": "2021-03-26T09:13:02.042292Z"
    }
   },
   "outputs": [
    {
     "data": {
      "image/svg+xml": [
       "<?xml version=\"1.0\" encoding=\"UTF-8\" standalone=\"no\"?><svg xmlns=\"http://www.w3.org/2000/svg\" xmlns:xlink=\"http://www.w3.org/1999/xlink\" contentScriptType=\"application/ecmascript\" contentStyleType=\"text/css\" height=\"247px\" preserveAspectRatio=\"none\" style=\"width:868px;height:247px;\" version=\"1.1\" viewBox=\"0 0 868 247\" width=\"868px\" zoomAndPan=\"magnify\"><defs><filter height=\"300%\" id=\"f1huokvfjuq3re\" width=\"300%\" x=\"-1\" y=\"-1\"><feGaussianBlur result=\"blurOut\" stdDeviation=\"2.0\"/><feColorMatrix in=\"blurOut\" result=\"blurOut2\" type=\"matrix\" values=\"0 0 0 0 0 0 0 0 0 0 0 0 0 0 0 0 0 0 .4 0\"/><feOffset dx=\"4.0\" dy=\"4.0\" in=\"blurOut2\" result=\"blurOut3\"/><feBlend in=\"SourceGraphic\" in2=\"blurOut3\" mode=\"normal\"/></filter></defs><g><!--MD5=[fbc87193dbaf4d95561dea2c320d4a47]\n",
       "cluster E1--><a href=\"psysml:934b4cb7-0388-44aa-8a43-948e0e0270d7\" target=\"_top\" title=\"psysml:934b4cb7-0388-44aa-8a43-948e0e0270d7\" xlink:actuate=\"onRequest\" xlink:href=\"psysml:934b4cb7-0388-44aa-8a43-948e0e0270d7\" xlink:show=\"new\" xlink:title=\"psysml:934b4cb7-0388-44aa-8a43-948e0e0270d7\" xlink:type=\"simple\"><polygon fill=\"#FFFFFF\" filter=\"url(#f1huokvfjuq3re)\" points=\"16,6,139,6,146,28.2969,846,28.2969,846,235,16,235,16,6\" style=\"stroke: #000000; stroke-width: 1.5;\"/><line style=\"stroke: #000000; stroke-width: 1.5;\" x1=\"16\" x2=\"146\" y1=\"28.2969\" y2=\"28.2969\"/><text fill=\"#000000\" font-family=\"sans-serif\" font-size=\"14\" font-weight=\"bold\" lengthAdjust=\"spacingAndGlyphs\" textLength=\"117\" x=\"20\" y=\"20.9951\">ParameterTest</text></a><!--MD5=[f6df4d0ebaf0b5dfb2ced0ae5af7c670]\n",
       "cluster E4--><a href=\"psysml:84637ab1-2e14-49ab-80b7-3fb2aa846372\" target=\"_top\" title=\"psysml:84637ab1-2e14-49ab-80b7-3fb2aa846372\" xlink:actuate=\"onRequest\" xlink:href=\"psysml:84637ab1-2e14-49ab-80b7-3fb2aa846372\" xlink:show=\"new\" xlink:title=\"psysml:84637ab1-2e14-49ab-80b7-3fb2aa846372\" xlink:type=\"simple\"><rect fill=\"#FFFFFF\" filter=\"url(#f1huokvfjuq3re)\" height=\"152.5\" id=\"E4\" style=\"stroke: #A80036; stroke-width: 1.5;\" width=\"148\" x=\"682\" y=\"64\"/><rect fill=\"#FEFECE\" height=\"37.9375\" style=\"stroke: #A80036; stroke-width: 1.5;\" width=\"148\" x=\"682\" y=\"64\"/><text fill=\"#000000\" font-family=\"sans-serif\" font-size=\"12\" font-style=\"italic\" lengthAdjust=\"spacingAndGlyphs\" textLength=\"106\" x=\"703\" y=\"80.1387\">«calculation def»</text><text fill=\"#000000\" font-family=\"sans-serif\" font-size=\"12\" lengthAdjust=\"spacingAndGlyphs\" textLength=\"7\" x=\"752.5\" y=\"94.1074\">F</text></a><!--MD5=[b4997ac47864f28c2f74865a473b2911]\n",
       "class E2--><a href=\"psysml:129c5bc9-5e36-4fac-a06d-7961ccb64091\" target=\"_top\" title=\"psysml:129c5bc9-5e36-4fac-a06d-7961ccb64091\" xlink:actuate=\"onRequest\" xlink:href=\"psysml:129c5bc9-5e36-4fac-a06d-7961ccb64091\" xlink:show=\"new\" xlink:title=\"psysml:129c5bc9-5e36-4fac-a06d-7961ccb64091\" xlink:type=\"simple\"><rect fill=\"#FEFECE\" filter=\"url(#f1huokvfjuq3re)\" height=\"71.5469\" id=\"E2\" style=\"stroke: #A80036; stroke-width: 1.5;\" width=\"121\" x=\"524.5\" y=\"147\"/><ellipse cx=\"539.5\" cy=\"165.9688\" fill=\"#A52A2A\" rx=\"11\" ry=\"11\" style=\"stroke: #A80036; stroke-width: 1.0;\"/><path d=\"M539.0938,161.7813 L539.0938,169.7656 L539.75,169.7656 Q541.1875,169.7656 541.7969,168.8594 Q542.4219,167.9375 542.4219,165.7656 Q542.4219,163.5938 541.7969,162.6875 Q541.1875,161.7813 539.75,161.7813 L539.0938,161.7813 Z M536.6406,159.5781 L539.2656,159.5781 Q542.2969,159.5781 543.625,161.0313 Q544.9688,162.4688 544.9688,165.7656 Q544.9688,169.0625 543.625,170.5156 Q542.2969,171.9688 539.2656,171.9688 L536.6406,171.9688 L536.6406,159.5781 Z \"/><text fill=\"#000000\" font-family=\"sans-serif\" font-size=\"12\" font-style=\"italic\" lengthAdjust=\"spacingAndGlyphs\" textLength=\"93\" x=\"551.5\" y=\"163.1387\">«attribute def»</text><text fill=\"#000000\" font-family=\"sans-serif\" font-size=\"12\" lengthAdjust=\"spacingAndGlyphs\" textLength=\"8\" x=\"594\" y=\"177.1074\">A</text><line style=\"stroke: #A80036; stroke-width: 1.5;\" x1=\"525.5\" x2=\"644.5\" y1=\"184.9375\" y2=\"184.9375\"/><text fill=\"#000000\" font-family=\"sans-serif\" font-size=\"11\" lengthAdjust=\"spacingAndGlyphs\" textLength=\"48\" x=\"530.5\" y=\"199.1479\">x: String</text><text fill=\"#000000\" font-family=\"sans-serif\" font-size=\"11\" lengthAdjust=\"spacingAndGlyphs\" textLength=\"21\" x=\"530.5\" y=\"211.9526\">y: A</text></a><!--MD5=[09b614a08d8cba4a07c9adeb5e0fee81]\n",
       "class E3--><a href=\"psysml:50405f72-7bb1-41da-960b-ed203bf92c2d\" target=\"_top\" title=\"psysml:50405f72-7bb1-41da-960b-ed203bf92c2d\" xlink:actuate=\"onRequest\" xlink:href=\"psysml:50405f72-7bb1-41da-960b-ed203bf92c2d\" xlink:show=\"new\" xlink:title=\"psysml:50405f72-7bb1-41da-960b-ed203bf92c2d\" xlink:type=\"simple\"><rect fill=\"#FEFECE\" filter=\"url(#f1huokvfjuq3re)\" height=\"45.9375\" id=\"E3\" rx=\"10\" ry=\"10\" style=\"stroke: #A80036; stroke-width: 1.5;\" width=\"97\" x=\"559.5\" y=\"41\"/><ellipse cx=\"574.5\" cy=\"59.9688\" fill=\"#FFA500\" rx=\"11\" ry=\"11\" style=\"stroke: #A80036; stroke-width: 1.0;\"/><path d=\"M570.375,61.8906 L570.375,54.0781 L572.8281,54.0781 L572.8281,62.5156 Q572.8281,63.4375 573.2969,63.9688 Q573.7813,64.5 574.6094,64.5 Q575.4531,64.5 575.9219,63.9688 Q576.3906,63.4375 576.3906,62.5156 L576.3906,54.0781 L578.8438,54.0781 L578.8438,61.8906 Q578.8438,64.4219 577.8438,65.5625 Q576.8438,66.7031 574.6094,66.7031 Q572.3906,66.7031 571.375,65.5625 Q570.375,64.4219 570.375,61.8906 Z \"/><text fill=\"#000000\" font-family=\"sans-serif\" font-size=\"12\" font-style=\"italic\" lengthAdjust=\"spacingAndGlyphs\" textLength=\"69\" x=\"586.5\" y=\"57.1387\">«attribute»</text><text fill=\"#000000\" font-family=\"sans-serif\" font-size=\"12\" lengthAdjust=\"spacingAndGlyphs\" textLength=\"24\" x=\"609\" y=\"71.1074\">a: A</text><line style=\"stroke: #A80036; stroke-width: 1.5;\" x1=\"560.5\" x2=\"655.5\" y1=\"78.9375\" y2=\"78.9375\"/></a><!--MD5=[2156ba9850f5573cc1fc38a6a4b2f02b]\n",
       "class E7--><a href=\"psysml:88b39ab3-39a3-49e4-a823-2b19bc6cfd18\" target=\"_top\" title=\"psysml:88b39ab3-39a3-49e4-a823-2b19bc6cfd18\" xlink:actuate=\"onRequest\" xlink:href=\"psysml:88b39ab3-39a3-49e4-a823-2b19bc6cfd18\" xlink:show=\"new\" xlink:title=\"psysml:88b39ab3-39a3-49e4-a823-2b19bc6cfd18\" xlink:type=\"simple\"><rect fill=\"#FEFECE\" filter=\"url(#f1huokvfjuq3re)\" height=\"45.9375\" id=\"E7\" rx=\"10\" ry=\"10\" style=\"stroke: #A80036; stroke-width: 1.5;\" width=\"97\" x=\"427.5\" y=\"41\"/><ellipse cx=\"442.5\" cy=\"59.9688\" fill=\"#FFA500\" rx=\"11\" ry=\"11\" style=\"stroke: #A80036; stroke-width: 1.0;\"/><path d=\"M438.375,61.8906 L438.375,54.0781 L440.8281,54.0781 L440.8281,62.5156 Q440.8281,63.4375 441.2969,63.9688 Q441.7813,64.5 442.6094,64.5 Q443.4531,64.5 443.9219,63.9688 Q444.3906,63.4375 444.3906,62.5156 L444.3906,54.0781 L446.8438,54.0781 L446.8438,61.8906 Q446.8438,64.4219 445.8438,65.5625 Q444.8438,66.7031 442.6094,66.7031 Q440.3906,66.7031 439.375,65.5625 Q438.375,64.4219 438.375,61.8906 Z \"/><text fill=\"#000000\" font-family=\"sans-serif\" font-size=\"12\" font-style=\"italic\" lengthAdjust=\"spacingAndGlyphs\" textLength=\"69\" x=\"454.5\" y=\"57.1387\">«attribute»</text><text fill=\"#000000\" font-family=\"sans-serif\" font-size=\"12\" lengthAdjust=\"spacingAndGlyphs\" textLength=\"4\" x=\"487\" y=\"71.1074\">f</text><line style=\"stroke: #A80036; stroke-width: 1.5;\" x1=\"428.5\" x2=\"523.5\" y1=\"78.9375\" y2=\"78.9375\"/></a><!--MD5=[b9389687b975829384b498ac4b7476b2]\n",
       "class E8--><a href=\"psysml:3f28e8b6-a431-4098-a991-c6c646c27e19\" target=\"_top\" title=\"psysml:3f28e8b6-a431-4098-a991-c6c646c27e19\" xlink:actuate=\"onRequest\" xlink:href=\"psysml:3f28e8b6-a431-4098-a991-c6c646c27e19\" xlink:show=\"new\" xlink:title=\"psysml:3f28e8b6-a431-4098-a991-c6c646c27e19\" xlink:type=\"simple\"><rect fill=\"#FEFECE\" filter=\"url(#f1huokvfjuq3re)\" height=\"45.9375\" id=\"E8\" rx=\"10\" ry=\"10\" style=\"stroke: #A80036; stroke-width: 1.5;\" width=\"97\" x=\"295.5\" y=\"41\"/><ellipse cx=\"310.5\" cy=\"59.9688\" fill=\"#FFA500\" rx=\"11\" ry=\"11\" style=\"stroke: #A80036; stroke-width: 1.0;\"/><path d=\"M306.375,61.8906 L306.375,54.0781 L308.8281,54.0781 L308.8281,62.5156 Q308.8281,63.4375 309.2969,63.9688 Q309.7813,64.5 310.6094,64.5 Q311.4531,64.5 311.9219,63.9688 Q312.3906,63.4375 312.3906,62.5156 L312.3906,54.0781 L314.8438,54.0781 L314.8438,61.8906 Q314.8438,64.4219 313.8438,65.5625 Q312.8438,66.7031 310.6094,66.7031 Q308.3906,66.7031 307.375,65.5625 Q306.375,64.4219 306.375,61.8906 Z \"/><text fill=\"#000000\" font-family=\"sans-serif\" font-size=\"12\" font-style=\"italic\" lengthAdjust=\"spacingAndGlyphs\" textLength=\"69\" x=\"322.5\" y=\"57.1387\">«attribute»</text><text fill=\"#000000\" font-family=\"sans-serif\" font-size=\"12\" lengthAdjust=\"spacingAndGlyphs\" textLength=\"8\" x=\"353\" y=\"71.1074\">g</text><line style=\"stroke: #A80036; stroke-width: 1.5;\" x1=\"296.5\" x2=\"391.5\" y1=\"78.9375\" y2=\"78.9375\"/></a><!--MD5=[fd4143e9d270a159db93a4ea2a975926]\n",
       "class E9--><a href=\"psysml:a48346b2-888a-436e-97f1-e60fac760a88\" target=\"_top\" title=\"psysml:a48346b2-888a-436e-97f1-e60fac760a88\" xlink:actuate=\"onRequest\" xlink:href=\"psysml:a48346b2-888a-436e-97f1-e60fac760a88\" xlink:show=\"new\" xlink:title=\"psysml:a48346b2-888a-436e-97f1-e60fac760a88\" xlink:type=\"simple\"><rect fill=\"#FEFECE\" filter=\"url(#f1huokvfjuq3re)\" height=\"45.9375\" id=\"E9\" rx=\"10\" ry=\"10\" style=\"stroke: #A80036; stroke-width: 1.5;\" width=\"97\" x=\"163.5\" y=\"41\"/><ellipse cx=\"178.5\" cy=\"59.9688\" fill=\"#FFA500\" rx=\"11\" ry=\"11\" style=\"stroke: #A80036; stroke-width: 1.0;\"/><path d=\"M174.375,61.8906 L174.375,54.0781 L176.8281,54.0781 L176.8281,62.5156 Q176.8281,63.4375 177.2969,63.9688 Q177.7813,64.5 178.6094,64.5 Q179.4531,64.5 179.9219,63.9688 Q180.3906,63.4375 180.3906,62.5156 L180.3906,54.0781 L182.8438,54.0781 L182.8438,61.8906 Q182.8438,64.4219 181.8438,65.5625 Q180.8438,66.7031 178.6094,66.7031 Q176.3906,66.7031 175.375,65.5625 Q174.375,64.4219 174.375,61.8906 Z \"/><text fill=\"#000000\" font-family=\"sans-serif\" font-size=\"12\" font-style=\"italic\" lengthAdjust=\"spacingAndGlyphs\" textLength=\"69\" x=\"190.5\" y=\"57.1387\">«attribute»</text><text fill=\"#000000\" font-family=\"sans-serif\" font-size=\"12\" lengthAdjust=\"spacingAndGlyphs\" textLength=\"8\" x=\"221\" y=\"71.1074\">b</text><line style=\"stroke: #A80036; stroke-width: 1.5;\" x1=\"164.5\" x2=\"259.5\" y1=\"78.9375\" y2=\"78.9375\"/></a><!--MD5=[96f4274e9e20536e775497830990834d]\n",
       "class E10--><a href=\"psysml:952d2fa1-4eb4-490f-be08-21606a0b2581\" target=\"_top\" title=\"psysml:952d2fa1-4eb4-490f-be08-21606a0b2581\" xlink:actuate=\"onRequest\" xlink:href=\"psysml:952d2fa1-4eb4-490f-be08-21606a0b2581\" xlink:show=\"new\" xlink:title=\"psysml:952d2fa1-4eb4-490f-be08-21606a0b2581\" xlink:type=\"simple\"><rect fill=\"#FEFECE\" filter=\"url(#f1huokvfjuq3re)\" height=\"45.9375\" id=\"E10\" rx=\"10\" ry=\"10\" style=\"stroke: #A80036; stroke-width: 1.5;\" width=\"97\" x=\"31.5\" y=\"41\"/><ellipse cx=\"46.5\" cy=\"59.9688\" fill=\"#FFA500\" rx=\"11\" ry=\"11\" style=\"stroke: #A80036; stroke-width: 1.0;\"/><path d=\"M42.375,61.8906 L42.375,54.0781 L44.8281,54.0781 L44.8281,62.5156 Q44.8281,63.4375 45.2969,63.9688 Q45.7813,64.5 46.6094,64.5 Q47.4531,64.5 47.9219,63.9688 Q48.3906,63.4375 48.3906,62.5156 L48.3906,54.0781 L50.8438,54.0781 L50.8438,61.8906 Q50.8438,64.4219 49.8438,65.5625 Q48.8438,66.7031 46.6094,66.7031 Q44.3906,66.7031 43.375,65.5625 Q42.375,64.4219 42.375,61.8906 Z \"/><text fill=\"#000000\" font-family=\"sans-serif\" font-size=\"12\" font-style=\"italic\" lengthAdjust=\"spacingAndGlyphs\" textLength=\"69\" x=\"58.5\" y=\"57.1387\">«attribute»</text><text fill=\"#000000\" font-family=\"sans-serif\" font-size=\"12\" lengthAdjust=\"spacingAndGlyphs\" textLength=\"7\" x=\"89.5\" y=\"71.1074\">c</text><line style=\"stroke: #A80036; stroke-width: 1.5;\" x1=\"32.5\" x2=\"127.5\" y1=\"78.9375\" y2=\"78.9375\"/></a><text fill=\"#000000\" font-family=\"sans-serif\" font-size=\"14\" lengthAdjust=\"spacingAndGlyphs\" textLength=\"9\" x=\"695.5\" y=\"42.6982\">p</text><rect fill=\"#A80036\" height=\"12\" style=\"stroke: #FEFECE; stroke-width: 1.5;\" width=\"12\" x=\"694\" y=\"58\"/><text fill=\"#000000\" font-family=\"sans-serif\" font-size=\"14\" lengthAdjust=\"spacingAndGlyphs\" textLength=\"9\" x=\"742.5\" y=\"42.6982\">q</text><rect fill=\"#A80036\" height=\"12\" style=\"stroke: #FEFECE; stroke-width: 1.5;\" width=\"12\" x=\"741\" y=\"58\"/><!--MD5=[05d275557350bfb9b23a4ef7222b4c39]\n",
       "link E3 to E2--><a href=\"psysml:7569b902-ac88-47a0-a36a-be78510f169c\" target=\"_top\" title=\"psysml:7569b902-ac88-47a0-a36a-be78510f169c\" xlink:actuate=\"onRequest\" xlink:href=\"psysml:7569b902-ac88-47a0-a36a-be78510f169c\" xlink:show=\"new\" xlink:title=\"psysml:7569b902-ac88-47a0-a36a-be78510f169c\" xlink:type=\"simple\"><path d=\"M603.67,87.01 C601.45,98.3 598.64,112.62 595.87,126.7 \" fill=\"none\" id=\"E3-&gt;E2\" style=\"stroke: #A80036; stroke-width: 1.0;\"/><polygon fill=\"#FFFFFF\" points=\"591.93,146.75,588.7277,126.7564,602.4646,129.4577,591.93,146.75\" style=\"stroke: #A80036; stroke-width: 1.0;\"/><ellipse cx=\"591.7899\" cy=\"121.5494\" fill=\"#A80036\" rx=\"2\" ry=\"2\" style=\"stroke: #A80036; stroke-width: 1.0;\"/><ellipse cx=\"601.602\" cy=\"123.4789\" fill=\"#A80036\" rx=\"2\" ry=\"2\" style=\"stroke: #A80036; stroke-width: 1.0;\"/></a><!--MD5=[8b64fb07d70d0d1d6a31b13ecf970dc4]\n",
       "@startuml\r\n",
       " \r\n",
       "package \"ParameterTest\" as E1  [[psysml:934b4cb7-0388-44aa-8a43-948e0e0270d7 ]]  {\r\n",
       "comp def \"A\" as E2  <<(D,brown)attribute def>> [[psysml:129c5bc9-5e36-4fac-a06d-7961ccb64091 ]] {\r\n",
       "x: String\r\n",
       "y: A\r\n",
       "}\r\n",
       "comp usage \"a: A\" as E3  <<(U,orange)attribute>> [[psysml:50405f72-7bb1-41da-960b-ed203bf92c2d ]] {\r\n",
       "}\r\n",
       "rec def \"F\" as E4  <<(D,brown)calculation def>> [[psysml:84637ab1-2e14-49ab-80b7-3fb2aa846372 ]] {\r\n",
       "portin \"p\" as E5  [[psysml:64e82b47-cc13-4353-a930-54201d4c743b ]] \r\n",
       "portin \"q\" as E6  [[psysml:647ae971-dc5c-461d-bddf-e9c9561ef010 ]] \r\n",
       "}\r\n",
       "\r\n",
       "comp usage \"f\" as E7  <<(U,orange)attribute>> [[psysml:88b39ab3-39a3-49e4-a823-2b19bc6cfd18 ]] {\r\n",
       "}\r\n",
       "comp usage \"g\" as E8  <<(U,orange)attribute>> [[psysml:3f28e8b6-a431-4098-a991-c6c646c27e19 ]] {\r\n",
       "}\r\n",
       "comp usage \"b\" as E9  <<(U,orange)attribute>> [[psysml:a48346b2-888a-436e-97f1-e60fac760a88 ]] {\r\n",
       "}\r\n",
       "comp usage \"c\" as E10  <<(U,orange)attribute>> [[psysml:952d2fa1-4eb4-490f-be08-21606a0b2581 ]] {\r\n",
       "}\r\n",
       "E3 - -:|> E2 [[psysml:7569b902-ac88-47a0-a36a-be78510f169c ]] \r\n",
       "}\r\n",
       "@enduml\r\n",
       "\n",
       "PlantUML version 1.2020.13(Sat Jun 13 12:26:38 UTC 2020)\n",
       "(EPL source distribution)\n",
       "Java Runtime: OpenJDK Runtime Environment\n",
       "JVM: OpenJDK 64-Bit Server VM\n",
       "Default Encoding: UTF-8\n",
       "Language: en\n",
       "Country: null\n",
       "--></g></svg>"
      ]
     },
     "execution_count": 30,
     "metadata": {},
     "output_type": "execute_result"
    }
   ],
   "source": [
    "%viz --style=\"PLANTUML\" --view=\"Default\" \"ParameterTest\""
   ]
  },
  {
   "cell_type": "code",
   "execution_count": 31,
   "id": "sublime-chapter",
   "metadata": {
    "execution": {
     "iopub.execute_input": "2021-03-26T09:13:02.096519Z",
     "iopub.status.busy": "2021-03-26T09:13:02.096082Z",
     "iopub.status.idle": "2021-03-26T09:13:02.129398Z",
     "shell.execute_reply": "2021-03-26T09:13:02.129081Z"
    }
   },
   "outputs": [
    {
     "data": {
      "image/svg+xml": [
       "<?xml version=\"1.0\" encoding=\"UTF-8\" standalone=\"no\"?><svg xmlns=\"http://www.w3.org/2000/svg\" xmlns:xlink=\"http://www.w3.org/1999/xlink\" contentScriptType=\"application/ecmascript\" contentStyleType=\"text/css\" height=\"264px\" preserveAspectRatio=\"none\" style=\"width:864px;height:264px;\" version=\"1.1\" viewBox=\"0 0 864 264\" width=\"864px\" zoomAndPan=\"magnify\"><defs><filter height=\"300%\" id=\"f1fdc3runfpelj\" width=\"300%\" x=\"-1\" y=\"-1\"><feGaussianBlur result=\"blurOut\" stdDeviation=\"2.0\"/><feColorMatrix in=\"blurOut\" result=\"blurOut2\" type=\"matrix\" values=\"0 0 0 0 0 0 0 0 0 0 0 0 0 0 0 0 0 0 .4 0\"/><feOffset dx=\"4.0\" dy=\"4.0\" in=\"blurOut2\" result=\"blurOut3\"/><feBlend in=\"SourceGraphic\" in2=\"blurOut3\" mode=\"normal\"/></filter></defs><g><!--MD5=[fbc87193dbaf4d95561dea2c320d4a47]\n",
       "cluster E1--><a href=\"psysml:934b4cb7-0388-44aa-8a43-948e0e0270d7\" target=\"_top\" title=\"psysml:934b4cb7-0388-44aa-8a43-948e0e0270d7\" xlink:actuate=\"onRequest\" xlink:href=\"psysml:934b4cb7-0388-44aa-8a43-948e0e0270d7\" xlink:show=\"new\" xlink:title=\"psysml:934b4cb7-0388-44aa-8a43-948e0e0270d7\" xlink:type=\"simple\"><polygon fill=\"#FFFFFF\" filter=\"url(#f1fdc3runfpelj)\" points=\"16,6,139,6,146,28.2969,842,28.2969,842,252,16,252,16,6\" style=\"stroke: #000000; stroke-width: 1.5;\"/><line style=\"stroke: #000000; stroke-width: 1.5;\" x1=\"16\" x2=\"146\" y1=\"28.2969\" y2=\"28.2969\"/><text fill=\"#000000\" font-family=\"sans-serif\" font-size=\"14\" font-weight=\"bold\" lengthAdjust=\"spacingAndGlyphs\" textLength=\"117\" x=\"20\" y=\"20.9951\">ParameterTest</text></a><!--MD5=[b4997ac47864f28c2f74865a473b2911]\n",
       "class E2--><a href=\"psysml:129c5bc9-5e36-4fac-a06d-7961ccb64091\" target=\"_top\" title=\"psysml:129c5bc9-5e36-4fac-a06d-7961ccb64091\" xlink:actuate=\"onRequest\" xlink:href=\"psysml:129c5bc9-5e36-4fac-a06d-7961ccb64091\" xlink:show=\"new\" xlink:title=\"psysml:129c5bc9-5e36-4fac-a06d-7961ccb64091\" xlink:type=\"simple\"><rect fill=\"#FEFECE\" filter=\"url(#f1fdc3runfpelj)\" height=\"71.5469\" id=\"E2\" style=\"stroke: #A80036; stroke-width: 1.5;\" width=\"121\" x=\"642.5\" y=\"164\"/><ellipse cx=\"657.5\" cy=\"182.9688\" fill=\"#A52A2A\" rx=\"11\" ry=\"11\" style=\"stroke: #A80036; stroke-width: 1.0;\"/><path d=\"M657.0938,178.7813 L657.0938,186.7656 L657.75,186.7656 Q659.1875,186.7656 659.7969,185.8594 Q660.4219,184.9375 660.4219,182.7656 Q660.4219,180.5938 659.7969,179.6875 Q659.1875,178.7813 657.75,178.7813 L657.0938,178.7813 Z M654.6406,176.5781 L657.2656,176.5781 Q660.2969,176.5781 661.625,178.0313 Q662.9688,179.4688 662.9688,182.7656 Q662.9688,186.0625 661.625,187.5156 Q660.2969,188.9688 657.2656,188.9688 L654.6406,188.9688 L654.6406,176.5781 Z \"/><text fill=\"#000000\" font-family=\"sans-serif\" font-size=\"12\" font-style=\"italic\" lengthAdjust=\"spacingAndGlyphs\" textLength=\"93\" x=\"669.5\" y=\"180.1387\">«attribute def»</text><text fill=\"#000000\" font-family=\"sans-serif\" font-size=\"12\" lengthAdjust=\"spacingAndGlyphs\" textLength=\"8\" x=\"712\" y=\"194.1074\">A</text><line style=\"stroke: #A80036; stroke-width: 1.5;\" x1=\"643.5\" x2=\"762.5\" y1=\"201.9375\" y2=\"201.9375\"/><text fill=\"#000000\" font-family=\"sans-serif\" font-size=\"11\" lengthAdjust=\"spacingAndGlyphs\" textLength=\"48\" x=\"648.5\" y=\"216.1479\">x: String</text><text fill=\"#000000\" font-family=\"sans-serif\" font-size=\"11\" lengthAdjust=\"spacingAndGlyphs\" textLength=\"21\" x=\"648.5\" y=\"228.9526\">y: A</text></a><!--MD5=[09b614a08d8cba4a07c9adeb5e0fee81]\n",
       "class E3--><a href=\"psysml:50405f72-7bb1-41da-960b-ed203bf92c2d\" target=\"_top\" title=\"psysml:50405f72-7bb1-41da-960b-ed203bf92c2d\" xlink:actuate=\"onRequest\" xlink:href=\"psysml:50405f72-7bb1-41da-960b-ed203bf92c2d\" xlink:show=\"new\" xlink:title=\"psysml:50405f72-7bb1-41da-960b-ed203bf92c2d\" xlink:type=\"simple\"><rect fill=\"#FEFECE\" filter=\"url(#f1fdc3runfpelj)\" height=\"45.9375\" id=\"E3\" rx=\"10\" ry=\"10\" style=\"stroke: #A80036; stroke-width: 1.5;\" width=\"97\" x=\"729.5\" y=\"41\"/><ellipse cx=\"744.5\" cy=\"59.9688\" fill=\"#FFA500\" rx=\"11\" ry=\"11\" style=\"stroke: #A80036; stroke-width: 1.0;\"/><path d=\"M740.375,61.8906 L740.375,54.0781 L742.8281,54.0781 L742.8281,62.5156 Q742.8281,63.4375 743.2969,63.9688 Q743.7813,64.5 744.6094,64.5 Q745.4531,64.5 745.9219,63.9688 Q746.3906,63.4375 746.3906,62.5156 L746.3906,54.0781 L748.8438,54.0781 L748.8438,61.8906 Q748.8438,64.4219 747.8438,65.5625 Q746.8438,66.7031 744.6094,66.7031 Q742.3906,66.7031 741.375,65.5625 Q740.375,64.4219 740.375,61.8906 Z \"/><text fill=\"#000000\" font-family=\"sans-serif\" font-size=\"12\" font-style=\"italic\" lengthAdjust=\"spacingAndGlyphs\" textLength=\"69\" x=\"756.5\" y=\"57.1387\">«attribute»</text><text fill=\"#000000\" font-family=\"sans-serif\" font-size=\"12\" lengthAdjust=\"spacingAndGlyphs\" textLength=\"24\" x=\"779\" y=\"71.1074\">a: A</text><line style=\"stroke: #A80036; stroke-width: 1.5;\" x1=\"730.5\" x2=\"825.5\" y1=\"78.9375\" y2=\"78.9375\"/></a><!--MD5=[ebbe1d658d1005bcc118a6aa81145e00]\n",
       "class E4--><a href=\"psysml:84637ab1-2e14-49ab-80b7-3fb2aa846372\" target=\"_top\" title=\"psysml:84637ab1-2e14-49ab-80b7-3fb2aa846372\" xlink:actuate=\"onRequest\" xlink:href=\"psysml:84637ab1-2e14-49ab-80b7-3fb2aa846372\" xlink:show=\"new\" xlink:title=\"psysml:84637ab1-2e14-49ab-80b7-3fb2aa846372\" xlink:type=\"simple\"><rect fill=\"#FEFECE\" filter=\"url(#f1fdc3runfpelj)\" height=\"45.9375\" id=\"E4\" style=\"stroke: #A80036; stroke-width: 1.5;\" width=\"134\" x=\"560\" y=\"41\"/><ellipse cx=\"575\" cy=\"59.9688\" fill=\"#A52A2A\" rx=\"11\" ry=\"11\" style=\"stroke: #A80036; stroke-width: 1.0;\"/><path d=\"M574.5938,55.7813 L574.5938,63.7656 L575.25,63.7656 Q576.6875,63.7656 577.2969,62.8594 Q577.9219,61.9375 577.9219,59.7656 Q577.9219,57.5938 577.2969,56.6875 Q576.6875,55.7813 575.25,55.7813 L574.5938,55.7813 Z M572.1406,53.5781 L574.7656,53.5781 Q577.7969,53.5781 579.125,55.0313 Q580.4688,56.4688 580.4688,59.7656 Q580.4688,63.0625 579.125,64.5156 Q577.7969,65.9688 574.7656,65.9688 L572.1406,65.9688 L572.1406,53.5781 Z \"/><text fill=\"#000000\" font-family=\"sans-serif\" font-size=\"12\" font-style=\"italic\" lengthAdjust=\"spacingAndGlyphs\" textLength=\"106\" x=\"587\" y=\"57.1387\">«calculation def»</text><text fill=\"#000000\" font-family=\"sans-serif\" font-size=\"12\" lengthAdjust=\"spacingAndGlyphs\" textLength=\"7\" x=\"636.5\" y=\"71.1074\">F</text><line style=\"stroke: #A80036; stroke-width: 1.5;\" x1=\"561\" x2=\"693\" y1=\"78.9375\" y2=\"78.9375\"/></a><!--MD5=[270fce915f116d4de14055a7c1d9a0f3]\n",
       "class E5--><a href=\"psysml:88b39ab3-39a3-49e4-a823-2b19bc6cfd18\" target=\"_top\" title=\"psysml:88b39ab3-39a3-49e4-a823-2b19bc6cfd18\" xlink:actuate=\"onRequest\" xlink:href=\"psysml:88b39ab3-39a3-49e4-a823-2b19bc6cfd18\" xlink:show=\"new\" xlink:title=\"psysml:88b39ab3-39a3-49e4-a823-2b19bc6cfd18\" xlink:type=\"simple\"><rect fill=\"#FEFECE\" filter=\"url(#f1fdc3runfpelj)\" height=\"45.9375\" id=\"E5\" rx=\"10\" ry=\"10\" style=\"stroke: #A80036; stroke-width: 1.5;\" width=\"97\" x=\"427.5\" y=\"41\"/><ellipse cx=\"442.5\" cy=\"59.9688\" fill=\"#FFA500\" rx=\"11\" ry=\"11\" style=\"stroke: #A80036; stroke-width: 1.0;\"/><path d=\"M438.375,61.8906 L438.375,54.0781 L440.8281,54.0781 L440.8281,62.5156 Q440.8281,63.4375 441.2969,63.9688 Q441.7813,64.5 442.6094,64.5 Q443.4531,64.5 443.9219,63.9688 Q444.3906,63.4375 444.3906,62.5156 L444.3906,54.0781 L446.8438,54.0781 L446.8438,61.8906 Q446.8438,64.4219 445.8438,65.5625 Q444.8438,66.7031 442.6094,66.7031 Q440.3906,66.7031 439.375,65.5625 Q438.375,64.4219 438.375,61.8906 Z \"/><text fill=\"#000000\" font-family=\"sans-serif\" font-size=\"12\" font-style=\"italic\" lengthAdjust=\"spacingAndGlyphs\" textLength=\"69\" x=\"454.5\" y=\"57.1387\">«attribute»</text><text fill=\"#000000\" font-family=\"sans-serif\" font-size=\"12\" lengthAdjust=\"spacingAndGlyphs\" textLength=\"4\" x=\"487\" y=\"71.1074\">f</text><line style=\"stroke: #A80036; stroke-width: 1.5;\" x1=\"428.5\" x2=\"523.5\" y1=\"78.9375\" y2=\"78.9375\"/></a><!--MD5=[60a26617385b1d2d0262a64233df1f8d]\n",
       "class E6--><a href=\"psysml:3f28e8b6-a431-4098-a991-c6c646c27e19\" target=\"_top\" title=\"psysml:3f28e8b6-a431-4098-a991-c6c646c27e19\" xlink:actuate=\"onRequest\" xlink:href=\"psysml:3f28e8b6-a431-4098-a991-c6c646c27e19\" xlink:show=\"new\" xlink:title=\"psysml:3f28e8b6-a431-4098-a991-c6c646c27e19\" xlink:type=\"simple\"><rect fill=\"#FEFECE\" filter=\"url(#f1fdc3runfpelj)\" height=\"45.9375\" id=\"E6\" rx=\"10\" ry=\"10\" style=\"stroke: #A80036; stroke-width: 1.5;\" width=\"97\" x=\"295.5\" y=\"41\"/><ellipse cx=\"310.5\" cy=\"59.9688\" fill=\"#FFA500\" rx=\"11\" ry=\"11\" style=\"stroke: #A80036; stroke-width: 1.0;\"/><path d=\"M306.375,61.8906 L306.375,54.0781 L308.8281,54.0781 L308.8281,62.5156 Q308.8281,63.4375 309.2969,63.9688 Q309.7813,64.5 310.6094,64.5 Q311.4531,64.5 311.9219,63.9688 Q312.3906,63.4375 312.3906,62.5156 L312.3906,54.0781 L314.8438,54.0781 L314.8438,61.8906 Q314.8438,64.4219 313.8438,65.5625 Q312.8438,66.7031 310.6094,66.7031 Q308.3906,66.7031 307.375,65.5625 Q306.375,64.4219 306.375,61.8906 Z \"/><text fill=\"#000000\" font-family=\"sans-serif\" font-size=\"12\" font-style=\"italic\" lengthAdjust=\"spacingAndGlyphs\" textLength=\"69\" x=\"322.5\" y=\"57.1387\">«attribute»</text><text fill=\"#000000\" font-family=\"sans-serif\" font-size=\"12\" lengthAdjust=\"spacingAndGlyphs\" textLength=\"8\" x=\"353\" y=\"71.1074\">g</text><line style=\"stroke: #A80036; stroke-width: 1.5;\" x1=\"296.5\" x2=\"391.5\" y1=\"78.9375\" y2=\"78.9375\"/></a><!--MD5=[2156ba9850f5573cc1fc38a6a4b2f02b]\n",
       "class E7--><a href=\"psysml:a48346b2-888a-436e-97f1-e60fac760a88\" target=\"_top\" title=\"psysml:a48346b2-888a-436e-97f1-e60fac760a88\" xlink:actuate=\"onRequest\" xlink:href=\"psysml:a48346b2-888a-436e-97f1-e60fac760a88\" xlink:show=\"new\" xlink:title=\"psysml:a48346b2-888a-436e-97f1-e60fac760a88\" xlink:type=\"simple\"><rect fill=\"#FEFECE\" filter=\"url(#f1fdc3runfpelj)\" height=\"45.9375\" id=\"E7\" rx=\"10\" ry=\"10\" style=\"stroke: #A80036; stroke-width: 1.5;\" width=\"97\" x=\"163.5\" y=\"41\"/><ellipse cx=\"178.5\" cy=\"59.9688\" fill=\"#FFA500\" rx=\"11\" ry=\"11\" style=\"stroke: #A80036; stroke-width: 1.0;\"/><path d=\"M174.375,61.8906 L174.375,54.0781 L176.8281,54.0781 L176.8281,62.5156 Q176.8281,63.4375 177.2969,63.9688 Q177.7813,64.5 178.6094,64.5 Q179.4531,64.5 179.9219,63.9688 Q180.3906,63.4375 180.3906,62.5156 L180.3906,54.0781 L182.8438,54.0781 L182.8438,61.8906 Q182.8438,64.4219 181.8438,65.5625 Q180.8438,66.7031 178.6094,66.7031 Q176.3906,66.7031 175.375,65.5625 Q174.375,64.4219 174.375,61.8906 Z \"/><text fill=\"#000000\" font-family=\"sans-serif\" font-size=\"12\" font-style=\"italic\" lengthAdjust=\"spacingAndGlyphs\" textLength=\"69\" x=\"190.5\" y=\"57.1387\">«attribute»</text><text fill=\"#000000\" font-family=\"sans-serif\" font-size=\"12\" lengthAdjust=\"spacingAndGlyphs\" textLength=\"8\" x=\"221\" y=\"71.1074\">b</text><line style=\"stroke: #A80036; stroke-width: 1.5;\" x1=\"164.5\" x2=\"259.5\" y1=\"78.9375\" y2=\"78.9375\"/></a><!--MD5=[b9389687b975829384b498ac4b7476b2]\n",
       "class E8--><a href=\"psysml:952d2fa1-4eb4-490f-be08-21606a0b2581\" target=\"_top\" title=\"psysml:952d2fa1-4eb4-490f-be08-21606a0b2581\" xlink:actuate=\"onRequest\" xlink:href=\"psysml:952d2fa1-4eb4-490f-be08-21606a0b2581\" xlink:show=\"new\" xlink:title=\"psysml:952d2fa1-4eb4-490f-be08-21606a0b2581\" xlink:type=\"simple\"><rect fill=\"#FEFECE\" filter=\"url(#f1fdc3runfpelj)\" height=\"45.9375\" id=\"E8\" rx=\"10\" ry=\"10\" style=\"stroke: #A80036; stroke-width: 1.5;\" width=\"97\" x=\"31.5\" y=\"41\"/><ellipse cx=\"46.5\" cy=\"59.9688\" fill=\"#FFA500\" rx=\"11\" ry=\"11\" style=\"stroke: #A80036; stroke-width: 1.0;\"/><path d=\"M42.375,61.8906 L42.375,54.0781 L44.8281,54.0781 L44.8281,62.5156 Q44.8281,63.4375 45.2969,63.9688 Q45.7813,64.5 46.6094,64.5 Q47.4531,64.5 47.9219,63.9688 Q48.3906,63.4375 48.3906,62.5156 L48.3906,54.0781 L50.8438,54.0781 L50.8438,61.8906 Q50.8438,64.4219 49.8438,65.5625 Q48.8438,66.7031 46.6094,66.7031 Q44.3906,66.7031 43.375,65.5625 Q42.375,64.4219 42.375,61.8906 Z \"/><text fill=\"#000000\" font-family=\"sans-serif\" font-size=\"12\" font-style=\"italic\" lengthAdjust=\"spacingAndGlyphs\" textLength=\"69\" x=\"58.5\" y=\"57.1387\">«attribute»</text><text fill=\"#000000\" font-family=\"sans-serif\" font-size=\"12\" lengthAdjust=\"spacingAndGlyphs\" textLength=\"7\" x=\"89.5\" y=\"71.1074\">c</text><line style=\"stroke: #A80036; stroke-width: 1.5;\" x1=\"32.5\" x2=\"127.5\" y1=\"78.9375\" y2=\"78.9375\"/></a><!--MD5=[05d275557350bfb9b23a4ef7222b4c39]\n",
       "link E3 to E2--><a href=\"psysml:7569b902-ac88-47a0-a36a-be78510f169c\" target=\"_top\" title=\"psysml:7569b902-ac88-47a0-a36a-be78510f169c\" xlink:actuate=\"onRequest\" xlink:href=\"psysml:7569b902-ac88-47a0-a36a-be78510f169c\" xlink:show=\"new\" xlink:title=\"psysml:7569b902-ac88-47a0-a36a-be78510f169c\" xlink:type=\"simple\"><path d=\"M765.62,87.13 C756.62,103.2 744.05,125.65 732.54,146.23 \" fill=\"none\" id=\"E3-&gt;E2\" style=\"stroke: #A80036; stroke-width: 1.0;\"/><polygon fill=\"#FFFFFF\" points=\"722.6,163.99,725.7664,143.9907,737.9848,150.8253,722.6,163.99\" style=\"stroke: #A80036; stroke-width: 1.0;\"/><ellipse cx=\"730.2946\" cy=\"139.9924\" fill=\"#A80036\" rx=\"2\" ry=\"2\" style=\"stroke: #A80036; stroke-width: 1.0;\"/><ellipse cx=\"739.022\" cy=\"144.8743\" fill=\"#A80036\" rx=\"2\" ry=\"2\" style=\"stroke: #A80036; stroke-width: 1.0;\"/></a><!--MD5=[ddeed8deb2209213b62e6cfabaa108b2]\n",
       "reverse link E4 to E2--><a href=\"psysml:64e82b47-cc13-4353-a930-54201d4c743b\" target=\"_top\" title=\"psysml:64e82b47-cc13-4353-a930-54201d4c743b\" xlink:actuate=\"onRequest\" xlink:href=\"psysml:64e82b47-cc13-4353-a930-54201d4c743b\" xlink:show=\"new\" xlink:title=\"psysml:64e82b47-cc13-4353-a930-54201d4c743b\" xlink:type=\"simple\"><path d=\"M645.99,98.48 C657.31,118.44 671.67,143.76 683.14,163.99 \" fill=\"none\" id=\"E4&lt;-E2\" style=\"stroke: #A80036; stroke-width: 1.0;\"/><polygon fill=\"#FFFFFF\" points=\"639.55,87.13,639.0333,94.3226,645.4738,97.5659,645.9905,90.3734,639.55,87.13\" style=\"stroke: #A80036; stroke-width: 1.0;\"/><text fill=\"#000000\" font-family=\"sans-serif\" font-size=\"13\" lengthAdjust=\"spacingAndGlyphs\" textLength=\"8\" x=\"666\" y=\"130.0669\">p</text></a><!--MD5=[75dc6b203c6d8288eba5e91ab2533b4c]\n",
       "@startuml\r\n",
       " \r\n",
       "package \"ParameterTest\" as E1  [[psysml:934b4cb7-0388-44aa-8a43-948e0e0270d7 ]]  {\r\n",
       "comp def \"A\" as E2  <<(D,brown)attribute def>> [[psysml:129c5bc9-5e36-4fac-a06d-7961ccb64091 ]] {\r\n",
       "x: String\r\n",
       "y: A\r\n",
       "}\r\n",
       "comp usage \"a: A\" as E3  <<(U,orange)attribute>> [[psysml:50405f72-7bb1-41da-960b-ed203bf92c2d ]] {\r\n",
       "}\r\n",
       "comp def \"F\" as E4  <<(D,brown)calculation def>> [[psysml:84637ab1-2e14-49ab-80b7-3fb2aa846372 ]] {\r\n",
       "}\r\n",
       "comp usage \"f\" as E5  <<(U,orange)attribute>> [[psysml:88b39ab3-39a3-49e4-a823-2b19bc6cfd18 ]] {\r\n",
       "}\r\n",
       "comp usage \"g\" as E6  <<(U,orange)attribute>> [[psysml:3f28e8b6-a431-4098-a991-c6c646c27e19 ]] {\r\n",
       "}\r\n",
       "comp usage \"b\" as E7  <<(U,orange)attribute>> [[psysml:a48346b2-888a-436e-97f1-e60fac760a88 ]] {\r\n",
       "}\r\n",
       "comp usage \"c\" as E8  <<(U,orange)attribute>> [[psysml:952d2fa1-4eb4-490f-be08-21606a0b2581 ]] {\r\n",
       "}\r\n",
       "E3 - -:|> E2 [[psysml:7569b902-ac88-47a0-a36a-be78510f169c ]] \r\n",
       "E4 o- - E2 [[psysml:64e82b47-cc13-4353-a930-54201d4c743b ]] : p\r\n",
       "}\r\n",
       "@enduml\r\n",
       "\n",
       "PlantUML version 1.2020.13(Sat Jun 13 12:26:38 UTC 2020)\n",
       "(EPL source distribution)\n",
       "Java Runtime: OpenJDK Runtime Environment\n",
       "JVM: OpenJDK 64-Bit Server VM\n",
       "Default Encoding: UTF-8\n",
       "Language: en\n",
       "Country: null\n",
       "--></g></svg>"
      ]
     },
     "execution_count": 31,
     "metadata": {},
     "output_type": "execute_result"
    }
   ],
   "source": [
    "%viz --style=\"PLANTUML\" --view=\"Tree\" \"ParameterTest\""
   ]
  },
  {
   "cell_type": "code",
   "execution_count": 32,
   "id": "blind-landscape",
   "metadata": {
    "execution": {
     "iopub.execute_input": "2021-03-26T09:13:02.182076Z",
     "iopub.status.busy": "2021-03-26T09:13:02.181590Z",
     "iopub.status.idle": "2021-03-26T09:13:02.293512Z",
     "shell.execute_reply": "2021-03-26T09:13:02.292191Z"
    }
   },
   "outputs": [
    {
     "data": {
      "image/svg+xml": [
       "<?xml version=\"1.0\" encoding=\"UTF-8\" standalone=\"no\"?><svg xmlns=\"http://www.w3.org/2000/svg\" xmlns:xlink=\"http://www.w3.org/1999/xlink\" contentScriptType=\"application/ecmascript\" contentStyleType=\"text/css\" height=\"410px\" preserveAspectRatio=\"none\" style=\"width:603px;height:410px;background:#000000;\" version=\"1.1\" viewBox=\"0 0 603 410\" width=\"603px\" zoomAndPan=\"magnify\"><defs/><g><rect fill=\"#272418\" height=\"1\" style=\"stroke: #272418; stroke-width: 1.0;\" width=\"1\" x=\"0\" y=\"0\"/><rect fill=\"#FFFFFF\" height=\"53\" style=\"stroke: #FFFFFF; stroke-width: 1.0;\" width=\"602\" x=\"0\" y=\"0\"/><image height=\"53\" width=\"450\" x=\"1\" xlink:href=\"data:image/png;base64,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\" y=\"1\"/><rect fill=\"#FFFFFF\" height=\"205.5625\" style=\"stroke: #FFFFFF; stroke-width: 1.0;\" width=\"602\" x=\"0\" y=\"53\"/><text fill=\"#000000\" font-family=\"sans-serif\" font-size=\"12\" font-weight=\"bold\" lengthAdjust=\"spacingAndGlyphs\" textLength=\"159\" x=\"5\" y=\"69.1387\">Welcome to PlantUML!</text><text fill=\"#000000\" font-family=\"sans-serif\" font-size=\"12\" lengthAdjust=\"spacingAndGlyphs\" textLength=\"0\" x=\"9\" y=\"83.1074\"/><text fill=\"#000000\" font-family=\"sans-serif\" font-size=\"12\" lengthAdjust=\"spacingAndGlyphs\" textLength=\"293\" x=\"5\" y=\"97.0762\">If you use this software, you accept its license.</text><text fill=\"#000000\" font-family=\"sans-serif\" font-size=\"12\" lengthAdjust=\"spacingAndGlyphs\" textLength=\"107\" x=\"5\" y=\"111.0449\">(details by typing</text><text fill=\"#000000\" font-family=\"monospace\" font-size=\"12\" lengthAdjust=\"spacingAndGlyphs\" textLength=\"49\" x=\"116\" y=\"111.0449\">license</text><text fill=\"#000000\" font-family=\"sans-serif\" font-size=\"12\" lengthAdjust=\"spacingAndGlyphs\" textLength=\"56\" x=\"169\" y=\"111.0449\">keyword)</text><text fill=\"#000000\" font-family=\"sans-serif\" font-size=\"12\" lengthAdjust=\"spacingAndGlyphs\" textLength=\"0\" x=\"9\" y=\"125.0137\"/><text fill=\"#000000\" font-family=\"sans-serif\" font-size=\"12\" lengthAdjust=\"spacingAndGlyphs\" textLength=\"283\" x=\"5\" y=\"138.9824\">You can start with a simple UML Diagram like:</text><text fill=\"#000000\" font-family=\"sans-serif\" font-size=\"12\" lengthAdjust=\"spacingAndGlyphs\" textLength=\"0\" x=\"9\" y=\"152.9512\"/><text fill=\"#000000\" font-family=\"monospace\" font-size=\"12\" lengthAdjust=\"spacingAndGlyphs\" textLength=\"119\" x=\"5\" y=\"166.9199\">Bob-&gt;Alice: Hello</text><text fill=\"#000000\" font-family=\"sans-serif\" font-size=\"12\" lengthAdjust=\"spacingAndGlyphs\" textLength=\"0\" x=\"9\" y=\"180.8887\"/><text fill=\"#000000\" font-family=\"sans-serif\" font-size=\"12\" lengthAdjust=\"spacingAndGlyphs\" textLength=\"14\" x=\"5\" y=\"194.8574\">Or</text><text fill=\"#000000\" font-family=\"sans-serif\" font-size=\"12\" lengthAdjust=\"spacingAndGlyphs\" textLength=\"0\" x=\"9\" y=\"208.8262\"/><text fill=\"#000000\" font-family=\"monospace\" font-size=\"12\" lengthAdjust=\"spacingAndGlyphs\" textLength=\"91\" x=\"5\" y=\"222.7949\">class Example</text><text fill=\"#000000\" font-family=\"sans-serif\" font-size=\"12\" lengthAdjust=\"spacingAndGlyphs\" textLength=\"0\" x=\"9\" y=\"236.7637\"/><text fill=\"#000000\" font-family=\"sans-serif\" font-size=\"12\" lengthAdjust=\"spacingAndGlyphs\" textLength=\"349\" x=\"5\" y=\"250.7324\">You will find more information about PlantUML syntax on</text><text fill=\"#000000\" font-family=\"sans-serif\" font-size=\"12\" lengthAdjust=\"spacingAndGlyphs\" text-decoration=\"underline\" textLength=\"129\" x=\"358\" y=\"250.7324\">https://plantuml.com</text><image height=\"71\" width=\"80\" x=\"516\" xlink:href=\"data:image/png;base64,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\" y=\"59\"/><rect fill=\"#000000\" height=\"96.4844\" style=\"stroke: #000000; stroke-width: 1.0;\" width=\"602\" x=\"0\" y=\"258.5625\"/><rect fill=\"#33FF02\" height=\"21.2969\" style=\"stroke: #33FF02; stroke-width: 1.0;\" width=\"170\" x=\"5\" y=\"263.5625\"/><text fill=\"#000000\" font-family=\"sans-serif\" font-size=\"14\" font-weight=\"bold\" lengthAdjust=\"spacingAndGlyphs\" textLength=\"168\" x=\"6\" y=\"278.5625\">[From string (line 2) ]</text><text fill=\"#33FF02\" font-family=\"sans-serif\" font-size=\"14\" font-weight=\"bold\" lengthAdjust=\"spacingAndGlyphs\" textLength=\"0\" x=\"10\" y=\"298.8594\"/><text fill=\"#33FF02\" font-family=\"sans-serif\" font-size=\"14\" font-weight=\"bold\" lengthAdjust=\"spacingAndGlyphs\" textLength=\"79\" x=\"5\" y=\"315.1563\">@startuml</text><text fill=\"#33FF02\" font-family=\"sans-serif\" font-size=\"14\" font-weight=\"bold\" lengthAdjust=\"spacingAndGlyphs\" textLength=\"0\" x=\"10\" y=\"331.4531\"/><text fill=\"#FF0000\" font-family=\"sans-serif\" font-size=\"14\" font-weight=\"bold\" lengthAdjust=\"spacingAndGlyphs\" textLength=\"142\" x=\"10\" y=\"347.75\">Empty description</text><rect fill=\"#FFFFFF\" height=\"53\" style=\"stroke: #FFFFFF; stroke-width: 1.0;\" width=\"602\" x=\"0\" y=\"355.0469\"/><image height=\"53\" width=\"450\" x=\"1\" xlink:href=\"data:image/png;base64,iVBORw0KGgoAAAANSUhEUgAAAcIAAAA1CAMAAADlJhtiAAADAFBMVEX4Z1QAOpD//9tmtv/b//8AADo6AAD///8AAAAALEnbkDqQ2/+QOgA6kNu2ZgBmAAD/tmb//7b/25AAZrYAAGa2////aVQAJ0j5Z1T/alSvVVAAI0ZmOgA6ZpD3Z1Q6Zrbbtma22/+2Zjr3ZlMAOmb+////27YAOjrbtpD4ZlS229tmtts6kLYAZpC2kDpmkNv4ZlP/bVSQZjrb/9sAKkg6ADr4Z1P3VkH3ZlT3VT/3VkD3WEMQMEmhUk86kJA6OgC2kGY6Zmb3YEz3Xkn3ZVH3XEf3Y0/3W0b3V0L3ZVL3ZFH/tpBmZmaQ29vb25BmkLaQttu225Db/7YAZmb+9fT3XUj5gXH3Xkr3Vj/3WEL7vLP3XEj3VUD3X0v4ZFD3X0r///73YU33ZFD7Z1TbkGaQZgCQkDpmtpBmOjrb27b4W0b5g3P5lIX3Yk795+T3X0n3WUX5i3v6loj6n5L4bVr7x8D3YU73ZE/7vbX8vLT3Uz7++/v3Z1P6lYf3XUf939r+7Or+9PL++fj3VD/6koP+9vX7q5/6l4n7ua/8xb74Xkn95uP2VkD+/Pv3Wkb2WEP7sKb7u7L92tX94t35hHX8w7z92dP6pZn80Mn4aFP5f2/3aVX//v/7r6T5nI/4aFX+//73YUz+/v73WkX8zsf5Z1P5dGL7urH93Nf97+3+/Pr3WUT7v7b+7uv2VT/96uf6npH5hnb+aFMAIkb99vT3V0EAKEj3cF4AJkf7ubDfYVGzVlD4hnatVFCXT08AH0b/aVP8y8T++/qaUE/+7+0AIkeoU1D4YU33XUn4cmD3Y1D4bVv4emi2tpCQtv//29vb2/+2kJDb29u2ttu227Y6AGY6OpC2/9tmtraQkGYAAAAAAAAAAAAAAAAAAAAAAAAAAAAAAAAAAAAAAAAAAAAAAAAAAAAAAAAAAAAAAAAAAAAAAAAAAAAAAAAAAAAAAAAAAAAAAAAAAAAAAAAAAAAAAAAAAAAAAAAAAAAAAAAAAAAAAAAAAAAAAAAAAAAAAAAmvaTnAAANRklEQVR4Xu2ca4wkRR3Aq58z0zOzA7e7zL5uNseyx/tiIsKehGDC4+CQ6CdECCJBjYbwwYSESDSaGI2JgolfkOAH4gNjVPjAQzQoJIJ3EXIPPLgHd9ztws3uLbO3u7Pz6q5+WNVVXd1d0zM9u7nZRzK/5Larq+pf///Uv7oeM/8+IQF6bG3k0J0euuuU3ijYUEQ+o8dWo+fCLU/PhVueLrowPShcYvGZPS443XOhZpXApw6fG03KloEkZMCoEedzXLNHiK64cHgX6mddV7Rrk3xRJNB0L4a2wBVQ9u9+aEoQ7CHLq9kKOgTSDqo2LKhunjaIMxNGX6jmpkTKrsVIIXQiYIeKwoz/lzIF9rt56aOhbBBxqEjUVRNqScF6a5fEl0Wh2WUJV0xXshW+DOBsOtB0KUtr8mi2baChgHSW0Z1kKwb6o+OqUDMzQlmzFbdk4yGWRuKZv0qk0LzkTWOF3x4eRmhPvsCKpnYOPFbvH3tsWZtQpOXrz7IC/myJTJEzqp4VxBX4TGcPuVq7yH26ZItZEKSWhJN/exaMNzIph9bkkXUJSWKd+E61dBH9ERI26rLG7mO6qDhLeme2dBtiaSRZYU1GRos0oJRG/OS7QzRj4vaLbpqqTm3fbu667fP3Xn39f68P1Q+TkxYWgVDnBpuEVzF4tWAjH6SEkCNscYlm1QB4AM+C6C+dB11y8zcAcNJaWMQ13Va4RdO2kLd8nVYSQHtcQB8uZfzv0DYJlWxrenjbGNREUKMrR9gxiBZwJptClqOcoWCKKXBMOIrbIJZSAabVbUioZ5qM7IDoifSSP8Lvo8sPv+XMufcTQ4+ID7JaT504cgYGJlN+Ik1XEoaGVy3rqmM0A02QEsSzK85VTcmGaP+iedMGLsJZ5IrKwWjRrUeKoVZFU+J4UbfdGkBLlwBAs2NiRcrUHFt2Wx0/7ahKA+LedSekdGXnzIrUV8k6WDk3RccZlFCFBQ2pA8NFiGdjTyOTI9Uk5I30surJovnb9Q/6ICzlKUBri0THF7aUNMC0koYyxPzV0sKFsoU/zDabuPDWoS/fDwqPP8LqPTJ/5BC7aXJhqoGXIvZBqal4gZRs/IkVA3VR2VsAgdtjZfwPfZqqPSgXUQtj1jnWoZpd+INzV2ls1nRrol7JDxyvSraWvOkV0fUl7pzB7CmsAlAXphowYU9MJwWIrXFN8ok1qH7HGyZaevsqIh5InkaJybm10pW+bJFY78pK9q2vD8rn8FgMpDwFIyfS9zzvdjCylKqhkn2koWCXrYLotTAtOlhZygF47O79xjX3PfPy8qt+vXfu2FlcZHf80HEcvBSZeGi5QLUuiniBrKiaCDVdTgC0Zsl6znvK5GXdQv9EdWmipJRXAJQ0vd7As6qLWlt89jeDA6dITTFjpM9XhLRpKwMz0li1YttWWt85X18EclrFZrtrimQkkvoSdOqKiaxxTWLEGQTkxs0HLytDUaqP1Qw0SqhGJkeGumxdPIsGGJMVnY+Q9aqRsFlKpwoacv5kpnLQBNRSFyZJGgKiYUeva+3pwIUTwtT94OVgNQD2jYwcYTe8C0UT7SNod2KyguKAsbIqoPGLbLYkqSZY40LNU5cVdLEP95AsLmQUJNVXz4NllT02sjX596fL50VSM+OkRN02VSMrLK44C0BAfSxbK/gEKiN3ArI70oCmVpKGjQcU6hgR/2HEGQTlHW9mPlbgF48Bx0xamq+RypFPVk+sbL/xpMpkVStdByk92/BTfVQBVBazIpailrowSdIQ6jdxLS6Ml7ky/+jX+DwA/nrNV/BqGYm7HtkL7DEV6gCOzgG8GTHozqOWPnNpaP4lOxHrcKVk4e3NtDAcnPg+uM5f5x1dL6dNYOBmkyZQ0WAGBtkjmFIDXxoiLnTKQBe90SVbwRNqnEE5abpPVESQh4JoqyGNRI5UU2pTM6+pQdkleHkj43YpTfkKgO4uC9RSCpWkDVnqWnYzHbhw6vGHn+XzED/+7P4Cn+eBejIXsgaqHz9IPiQcNfpMbDSsWoEtJ0JFMn271IQ1gm5G5os7BjO0JLy1NUBtR+XuhIq6R6+jD2DDbB/y1PigCZK2eCeAwybqJrfvGNDOje92BIHtAGMNwh2e+J0oOanyZUxjUA6j7LsUediThTZQ1BNWvRxIYRGigLqOWuo1QLW6DWmDmVbHjbbEunDimAS+yWdiDrUcMmZoyANQvQKMjf0ZbetRd6tFfRlUZTAoHbHLgRl4IDWMBzmoyInZjGifE4QzSWYb155yBjpAGLnRFpEJS6o1WgaSNXNWANWk9JqgzjloFy983RvtuOdzUuWj/SJrKN6gTBIPjstkUIPSDNPI5Nw6UEFGiktMNifttq08PhL5KU+BIo5rpGViqYsneTtpSJg3WnZpO+J2pOqfqncFawT4zkvexiqc70IOAgFSeMc8XBTzZ5vshFpiGWfiwwjav5+z5VRNtPa+0lTRrWmj7eFZabQ4cdLPT2ulwVlcHSkAeEvLgXYUez+k1nq0MUiDieARBG9IfY2uHM22hgK6WAFKdfjd8AUhzoVze564PVjDp7Dng3+RVJQLeVAnrmnH3DXWalBrucB5EcZObheQOF2fWaFPfRMz269ouRiG0JKTFiiY5tqiOrrAWg1qLwfFHJ0rUSpc1F3iXDj81G18lsdZ/2TYllr/SVmYA3jh2hys1aAYOZHtwcUWv7h0h1gXCi0ftYHpGT4rmrNDNwDrcv70uIGs1aC2corunQlQKlzUXVrYw/i22NJPeuE/fFYLZmeBSL4t3SSs1aC1ynWVuKfwR07Lp1C7js/psRHEfcFWfutosEKQ3a8Ky24i7knu0VXinkI1+08+yyM10nKO7bGOxLnwqFXlszwOeL8H99hQYidBIfi1bJCf1p7js3psBHFPIfjY/iWfRSiegHxWj40gbjtTKSUn3suRbUuIJ944doYmY5/kHt0k9ikE+17/efO2pQBWslk+s8eGEO/Cowfs50Dhq+HMmScP/iMQPdNjA4mdSAEoHT/wg+fL4bn0S4de92+aJtJEqh4/NDCa1CAVWYKQMpRWu6g2rEKK07el6cCFYC7x4ffuerGwl0bLFJZ/cZV+OPAdN+9CDSx1FgQCJUhCWljCy7dY7FTnrEKK07e14bs/klNq4smnc/fRu0ePPz/5Nvf7aQj86zuBRp+3CkJPmmny0ypLEHK26UT9HNCqHUIrqQg4fT7tNWxOOnIhOPoz441Tv/qkf264+ukn+7Y7bzZvcALY4jbaQY6uBC48+EWHcIIi1L0GwrRoh9JKqhlen097DZuTTiZSRGnxvf7i6RNzS7PW+dPvvB9eGPlh4Dg1OktJhoinNnJJQUvcodSHKkDKDOB3H0SjSo6WJOGXyxZuAO4qGeHtFm3HMiMnQSKFGV4p4AAE1IBtRVXl9fm6mKVWoYIzHjgsqlabljYDsYEXweIrq/jp419sagq8SNTVhFZSqiRO3v3kOAjdYVHqiTp+LYFFWNNEIJ69bdi944Wxc2HzLPAh1QAAtchi4bno+mZ9VNe/P0c1SCR6Hsr0vQDWEjXF1bJpWNXQOuo6j/dgM+YtlRKouFua6fyl+PfP6fwk6oWb7cFhnOnGd2oOjiEEgQQrl3MagLCUv1peWIR2/901Ubq4TyHNTZpyZhvQFPwT+fKUht/BSBdFOUGkMOla5l0cMYgWPFOURL5ahD6q61pPA8hNGOmHEiBVHBvG4RS0JWYKkd4sdDiRtoUblVC+/KCpKNlUjUSfe+Hyfry6W02s09BCL+FHsbcNu/cD4MNh826wvtsOdH4tWRaksfAWF13frM/2dFENkEbPW/S9AK8lyEwhhm8SuuDCrDCPp7SabXtx8uTix6tjUnqCLIQswcrbh92zMHYubB5LYRdqeCK1LODFwjfC1SL0sYB7qsGm0fPeewFeS5pvymaiC9Yg7+NAeSnpRZ+zIHQapQ4T9r6IaTQYz94u7N4LY+fC5j0cHb+CiPfFJBaeqxahj+nyLXWj5733AryWAqZsJrrgQgOk0UcuXyWMyCT6nFwCUeq2uUfXaSAYS4Si2NuF3QeC54Nh8/j+Vic7YoBrANx9AC9YNBY+VC1Cnx9w72nwPMneC3Bb8k3pNGhoXWjhwr+80If4PZ/dEZdYeKpU3l8petHn7sWPUlfQPKvo9EjoJQJR7IRWYfeB4HkubB6At8V0UQXHBXX/PWUvFj5crT9SH9VFLfWi5733AryWfFNuoTZuCqLXwnt3yof6+/u/sCfqhZgmuLWwwn4lTuZqg1WJXmT9tCR4//GBOklmOz8B/PKanNXRZJuvnMwv5N/Fr1ujA4BQ8ppzQBVNfoKtmBI6XZrCeVTuAAtLWWjtNkdXwFh6GsCRspCvSCBcbSlCn+HpOk81WGX3dAU1Q7DufAd6LX3ETIkO594gos+F4OGX3Ms8K2kHfy6MJu4d1rjyC8166+saLVy4KjpyYdz/yBFXfqFZb33dY/2+aRAXIv/HGEZc+YVmvfV1jXV7Cnt0ixY70h5bh54LtzzhibTHFuT/mGwAUijVTY4AAAAASUVORK5CYII=\" y=\"356.0469\"/><!--MD5=[f59edd8218d337f74d0c332fc6737304]\n",
       "@startuml\r\n",
       " \r\n",
       "@enduml\r\n",
       "\n",
       "PlantUML version 1.2020.13(Sat Jun 13 12:26:38 UTC 2020)\n",
       "(EPL source distribution)\n",
       "Java Runtime: OpenJDK Runtime Environment\n",
       "JVM: OpenJDK 64-Bit Server VM\n",
       "Default Encoding: UTF-8\n",
       "Language: en\n",
       "Country: null\n",
       "--></g></svg>"
      ]
     },
     "execution_count": 32,
     "metadata": {},
     "output_type": "execute_result"
    }
   ],
   "source": [
    "%viz --style=\"PLANTUML\" --view=\"State\" \"ParameterTest\""
   ]
  },
  {
   "cell_type": "code",
   "execution_count": 33,
   "id": "furnished-clerk",
   "metadata": {
    "execution": {
     "iopub.execute_input": "2021-03-26T09:13:02.343808Z",
     "iopub.status.busy": "2021-03-26T09:13:02.343458Z",
     "iopub.status.idle": "2021-03-26T09:13:02.372344Z",
     "shell.execute_reply": "2021-03-26T09:13:02.371084Z"
    }
   },
   "outputs": [
    {
     "data": {
      "image/svg+xml": [
       "<?xml version=\"1.0\" encoding=\"UTF-8\" standalone=\"no\"?><svg xmlns=\"http://www.w3.org/2000/svg\" xmlns:xlink=\"http://www.w3.org/1999/xlink\" contentScriptType=\"application/ecmascript\" contentStyleType=\"text/css\" height=\"123px\" preserveAspectRatio=\"none\" style=\"width:1168px;height:123px;\" version=\"1.1\" viewBox=\"0 0 1168 123\" width=\"1168px\" zoomAndPan=\"magnify\"><defs><filter height=\"300%\" id=\"f117g0rzo129vu\" width=\"300%\" x=\"-1\" y=\"-1\"><feGaussianBlur result=\"blurOut\" stdDeviation=\"2.0\"/><feColorMatrix in=\"blurOut\" result=\"blurOut2\" type=\"matrix\" values=\"0 0 0 0 0 0 0 0 0 0 0 0 0 0 0 0 0 0 .4 0\"/><feOffset dx=\"4.0\" dy=\"4.0\" in=\"blurOut2\" result=\"blurOut3\"/><feBlend in=\"SourceGraphic\" in2=\"blurOut3\" mode=\"normal\"/></filter></defs><g><!--MD5=[fbc87193dbaf4d95561dea2c320d4a47]\n",
       "cluster E1--><a href=\"psysml:934b4cb7-0388-44aa-8a43-948e0e0270d7\" target=\"_top\" title=\"psysml:934b4cb7-0388-44aa-8a43-948e0e0270d7\" xlink:actuate=\"onRequest\" xlink:href=\"psysml:934b4cb7-0388-44aa-8a43-948e0e0270d7\" xlink:show=\"new\" xlink:title=\"psysml:934b4cb7-0388-44aa-8a43-948e0e0270d7\" xlink:type=\"simple\"><polygon fill=\"#FFFFFF\" filter=\"url(#f117g0rzo129vu)\" points=\"16,6,139,6,146,28.2969,1146,28.2969,1146,111,16,111,16,6\" style=\"stroke: #000000; stroke-width: 1.5;\"/><line style=\"stroke: #000000; stroke-width: 1.5;\" x1=\"16\" x2=\"146\" y1=\"28.2969\" y2=\"28.2969\"/><text fill=\"#000000\" font-family=\"sans-serif\" font-size=\"14\" font-weight=\"bold\" lengthAdjust=\"spacingAndGlyphs\" textLength=\"117\" x=\"20\" y=\"20.9951\">ParameterTest</text></a><!--MD5=[b4997ac47864f28c2f74865a473b2911]\n",
       "class E2--><a href=\"psysml:129c5bc9-5e36-4fac-a06d-7961ccb64091\" target=\"_top\" title=\"psysml:129c5bc9-5e36-4fac-a06d-7961ccb64091\" xlink:actuate=\"onRequest\" xlink:href=\"psysml:129c5bc9-5e36-4fac-a06d-7961ccb64091\" xlink:show=\"new\" xlink:title=\"psysml:129c5bc9-5e36-4fac-a06d-7961ccb64091\" xlink:type=\"simple\"><rect fill=\"#FEFECE\" filter=\"url(#f117g0rzo129vu)\" height=\"53.9375\" id=\"E2\" style=\"stroke: #A80036; stroke-width: 1.5;\" width=\"182\" x=\"948\" y=\"41\"/><ellipse cx=\"963\" cy=\"59.9688\" fill=\"#ADD1B2\" rx=\"11\" ry=\"11\" style=\"stroke: #A80036; stroke-width: 1.0;\"/><path d=\"M965.9688,65.6094 Q965.3906,65.9063 964.75,66.0469 Q964.1094,66.2031 963.4063,66.2031 Q960.9063,66.2031 959.5781,64.5625 Q958.2656,62.9063 958.2656,59.7813 Q958.2656,56.6563 959.5781,55 Q960.9063,53.3438 963.4063,53.3438 Q964.1094,53.3438 964.75,53.5 Q965.4063,53.6563 965.9688,53.9531 L965.9688,56.6719 Q965.3438,56.0938 964.75,55.8281 Q964.1563,55.5469 963.5313,55.5469 Q962.1875,55.5469 961.5,56.625 Q960.8125,57.6875 960.8125,59.7813 Q960.8125,61.875 961.5,62.9531 Q962.1875,64.0156 963.5313,64.0156 Q964.1563,64.0156 964.75,63.75 Q965.3438,63.4688 965.9688,62.8906 L965.9688,65.6094 Z \"/><text fill=\"#000000\" font-family=\"sans-serif\" font-size=\"12\" font-style=\"italic\" lengthAdjust=\"spacingAndGlyphs\" textLength=\"154\" x=\"975\" y=\"57.1387\">«(D,brown)attribute def»</text><text fill=\"#000000\" font-family=\"sans-serif\" font-size=\"12\" lengthAdjust=\"spacingAndGlyphs\" textLength=\"8\" x=\"1048\" y=\"71.1074\">A</text><line style=\"stroke: #A80036; stroke-width: 1.5;\" x1=\"949\" x2=\"1129\" y1=\"78.9375\" y2=\"78.9375\"/><line style=\"stroke: #A80036; stroke-width: 1.5;\" x1=\"949\" x2=\"1129\" y1=\"86.9375\" y2=\"86.9375\"/></a><!--MD5=[ebbe1d658d1005bcc118a6aa81145e00]\n",
       "class E4--><a href=\"psysml:84637ab1-2e14-49ab-80b7-3fb2aa846372\" target=\"_top\" title=\"psysml:84637ab1-2e14-49ab-80b7-3fb2aa846372\" xlink:actuate=\"onRequest\" xlink:href=\"psysml:84637ab1-2e14-49ab-80b7-3fb2aa846372\" xlink:show=\"new\" xlink:title=\"psysml:84637ab1-2e14-49ab-80b7-3fb2aa846372\" xlink:type=\"simple\"><rect fill=\"#FEFECE\" filter=\"url(#f117g0rzo129vu)\" height=\"53.9375\" id=\"E4\" style=\"stroke: #A80036; stroke-width: 1.5;\" width=\"195\" x=\"717.5\" y=\"41\"/><ellipse cx=\"732.5\" cy=\"59.9688\" fill=\"#ADD1B2\" rx=\"11\" ry=\"11\" style=\"stroke: #A80036; stroke-width: 1.0;\"/><path d=\"M735.4688,65.6094 Q734.8906,65.9063 734.25,66.0469 Q733.6094,66.2031 732.9063,66.2031 Q730.4063,66.2031 729.0781,64.5625 Q727.7656,62.9063 727.7656,59.7813 Q727.7656,56.6563 729.0781,55 Q730.4063,53.3438 732.9063,53.3438 Q733.6094,53.3438 734.25,53.5 Q734.9063,53.6563 735.4688,53.9531 L735.4688,56.6719 Q734.8438,56.0938 734.25,55.8281 Q733.6563,55.5469 733.0313,55.5469 Q731.6875,55.5469 731,56.625 Q730.3125,57.6875 730.3125,59.7813 Q730.3125,61.875 731,62.9531 Q731.6875,64.0156 733.0313,64.0156 Q733.6563,64.0156 734.25,63.75 Q734.8438,63.4688 735.4688,62.8906 L735.4688,65.6094 Z \"/><text fill=\"#000000\" font-family=\"sans-serif\" font-size=\"12\" font-style=\"italic\" lengthAdjust=\"spacingAndGlyphs\" textLength=\"167\" x=\"744.5\" y=\"57.1387\">«(D,brown)calculation def»</text><text fill=\"#000000\" font-family=\"sans-serif\" font-size=\"12\" lengthAdjust=\"spacingAndGlyphs\" textLength=\"7\" x=\"824.5\" y=\"71.1074\">F</text><line style=\"stroke: #A80036; stroke-width: 1.5;\" x1=\"718.5\" x2=\"911.5\" y1=\"78.9375\" y2=\"78.9375\"/><line style=\"stroke: #A80036; stroke-width: 1.5;\" x1=\"718.5\" x2=\"911.5\" y1=\"86.9375\" y2=\"86.9375\"/></a><g id=\"E1.E3\"><a href=\"psysml:50405f72-7bb1-41da-960b-ed203bf92c2d\" target=\"_top\" title=\"psysml:50405f72-7bb1-41da-960b-ed203bf92c2d\" xlink:actuate=\"onRequest\" xlink:href=\"psysml:50405f72-7bb1-41da-960b-ed203bf92c2d\" xlink:show=\"new\" xlink:title=\"psysml:50405f72-7bb1-41da-960b-ed203bf92c2d\" xlink:type=\"simple\"><rect fill=\"#FEFECE\" filter=\"url(#f117g0rzo129vu)\" height=\"42.9375\" id=\"E3\" rx=\"10\" ry=\"10\" style=\"stroke: #A80036; stroke-width: 1.5;\" width=\"102\" x=\"580\" y=\"46.5\"/><ellipse cx=\"597.25\" cy=\"65.4688\" fill=\"#FFA500\" rx=\"11\" ry=\"11\" style=\"stroke: #A80036; stroke-width: 1.0;\"/><path d=\"M593.125,67.3906 L593.125,59.5781 L595.5781,59.5781 L595.5781,68.0156 Q595.5781,68.9375 596.0469,69.4688 Q596.5313,70 597.3594,70 Q598.2031,70 598.6719,69.4688 Q599.1406,68.9375 599.1406,68.0156 L599.1406,59.5781 L601.5938,59.5781 L601.5938,67.3906 Q601.5938,69.9219 600.5938,71.0625 Q599.5938,72.2031 597.3594,72.2031 Q595.1406,72.2031 594.125,71.0625 Q593.125,69.9219 593.125,67.3906 Z \"/><text fill=\"#000000\" font-family=\"sans-serif\" font-size=\"12\" font-style=\"italic\" lengthAdjust=\"spacingAndGlyphs\" textLength=\"69\" x=\"609.75\" y=\"62.6387\">«attribute»</text><text fill=\"#000000\" font-family=\"sans-serif\" font-size=\"12\" lengthAdjust=\"spacingAndGlyphs\" textLength=\"24\" x=\"632.25\" y=\"76.6074\">a: A</text></a></g><g id=\"E1.E5\"><a href=\"psysml:88b39ab3-39a3-49e4-a823-2b19bc6cfd18\" target=\"_top\" title=\"psysml:88b39ab3-39a3-49e4-a823-2b19bc6cfd18\" xlink:actuate=\"onRequest\" xlink:href=\"psysml:88b39ab3-39a3-49e4-a823-2b19bc6cfd18\" xlink:show=\"new\" xlink:title=\"psysml:88b39ab3-39a3-49e4-a823-2b19bc6cfd18\" xlink:type=\"simple\"><rect fill=\"#FEFECE\" filter=\"url(#f117g0rzo129vu)\" height=\"42.9375\" id=\"E5\" rx=\"10\" ry=\"10\" style=\"stroke: #A80036; stroke-width: 1.5;\" width=\"102\" x=\"443\" y=\"46.5\"/><ellipse cx=\"460.25\" cy=\"65.4688\" fill=\"#FFA500\" rx=\"11\" ry=\"11\" style=\"stroke: #A80036; stroke-width: 1.0;\"/><path d=\"M456.125,67.3906 L456.125,59.5781 L458.5781,59.5781 L458.5781,68.0156 Q458.5781,68.9375 459.0469,69.4688 Q459.5313,70 460.3594,70 Q461.2031,70 461.6719,69.4688 Q462.1406,68.9375 462.1406,68.0156 L462.1406,59.5781 L464.5938,59.5781 L464.5938,67.3906 Q464.5938,69.9219 463.5938,71.0625 Q462.5938,72.2031 460.3594,72.2031 Q458.1406,72.2031 457.125,71.0625 Q456.125,69.9219 456.125,67.3906 Z \"/><text fill=\"#000000\" font-family=\"sans-serif\" font-size=\"12\" font-style=\"italic\" lengthAdjust=\"spacingAndGlyphs\" textLength=\"69\" x=\"472.75\" y=\"62.6387\">«attribute»</text><text fill=\"#000000\" font-family=\"sans-serif\" font-size=\"12\" lengthAdjust=\"spacingAndGlyphs\" textLength=\"4\" x=\"505.25\" y=\"76.6074\">f</text></a></g><g id=\"E1.E6\"><a href=\"psysml:3f28e8b6-a431-4098-a991-c6c646c27e19\" target=\"_top\" title=\"psysml:3f28e8b6-a431-4098-a991-c6c646c27e19\" xlink:actuate=\"onRequest\" xlink:href=\"psysml:3f28e8b6-a431-4098-a991-c6c646c27e19\" xlink:show=\"new\" xlink:title=\"psysml:3f28e8b6-a431-4098-a991-c6c646c27e19\" xlink:type=\"simple\"><rect fill=\"#FEFECE\" filter=\"url(#f117g0rzo129vu)\" height=\"42.9375\" id=\"E6\" rx=\"10\" ry=\"10\" style=\"stroke: #A80036; stroke-width: 1.5;\" width=\"102\" x=\"306\" y=\"46.5\"/><ellipse cx=\"323.25\" cy=\"65.4688\" fill=\"#FFA500\" rx=\"11\" ry=\"11\" style=\"stroke: #A80036; stroke-width: 1.0;\"/><path d=\"M319.125,67.3906 L319.125,59.5781 L321.5781,59.5781 L321.5781,68.0156 Q321.5781,68.9375 322.0469,69.4688 Q322.5313,70 323.3594,70 Q324.2031,70 324.6719,69.4688 Q325.1406,68.9375 325.1406,68.0156 L325.1406,59.5781 L327.5938,59.5781 L327.5938,67.3906 Q327.5938,69.9219 326.5938,71.0625 Q325.5938,72.2031 323.3594,72.2031 Q321.1406,72.2031 320.125,71.0625 Q319.125,69.9219 319.125,67.3906 Z \"/><text fill=\"#000000\" font-family=\"sans-serif\" font-size=\"12\" font-style=\"italic\" lengthAdjust=\"spacingAndGlyphs\" textLength=\"69\" x=\"335.75\" y=\"62.6387\">«attribute»</text><text fill=\"#000000\" font-family=\"sans-serif\" font-size=\"12\" lengthAdjust=\"spacingAndGlyphs\" textLength=\"8\" x=\"366.25\" y=\"76.6074\">g</text></a></g><g id=\"E1.E7\"><a href=\"psysml:a48346b2-888a-436e-97f1-e60fac760a88\" target=\"_top\" title=\"psysml:a48346b2-888a-436e-97f1-e60fac760a88\" xlink:actuate=\"onRequest\" xlink:href=\"psysml:a48346b2-888a-436e-97f1-e60fac760a88\" xlink:show=\"new\" xlink:title=\"psysml:a48346b2-888a-436e-97f1-e60fac760a88\" xlink:type=\"simple\"><rect fill=\"#FEFECE\" filter=\"url(#f117g0rzo129vu)\" height=\"42.9375\" id=\"E7\" rx=\"10\" ry=\"10\" style=\"stroke: #A80036; stroke-width: 1.5;\" width=\"102\" x=\"169\" y=\"46.5\"/><ellipse cx=\"186.25\" cy=\"65.4688\" fill=\"#FFA500\" rx=\"11\" ry=\"11\" style=\"stroke: #A80036; stroke-width: 1.0;\"/><path d=\"M182.125,67.3906 L182.125,59.5781 L184.5781,59.5781 L184.5781,68.0156 Q184.5781,68.9375 185.0469,69.4688 Q185.5313,70 186.3594,70 Q187.2031,70 187.6719,69.4688 Q188.1406,68.9375 188.1406,68.0156 L188.1406,59.5781 L190.5938,59.5781 L190.5938,67.3906 Q190.5938,69.9219 189.5938,71.0625 Q188.5938,72.2031 186.3594,72.2031 Q184.1406,72.2031 183.125,71.0625 Q182.125,69.9219 182.125,67.3906 Z \"/><text fill=\"#000000\" font-family=\"sans-serif\" font-size=\"12\" font-style=\"italic\" lengthAdjust=\"spacingAndGlyphs\" textLength=\"69\" x=\"198.75\" y=\"62.6387\">«attribute»</text><text fill=\"#000000\" font-family=\"sans-serif\" font-size=\"12\" lengthAdjust=\"spacingAndGlyphs\" textLength=\"8\" x=\"229.25\" y=\"76.6074\">b</text></a></g><g id=\"E1.E8\"><a href=\"psysml:952d2fa1-4eb4-490f-be08-21606a0b2581\" target=\"_top\" title=\"psysml:952d2fa1-4eb4-490f-be08-21606a0b2581\" xlink:actuate=\"onRequest\" xlink:href=\"psysml:952d2fa1-4eb4-490f-be08-21606a0b2581\" xlink:show=\"new\" xlink:title=\"psysml:952d2fa1-4eb4-490f-be08-21606a0b2581\" xlink:type=\"simple\"><rect fill=\"#FEFECE\" filter=\"url(#f117g0rzo129vu)\" height=\"42.9375\" id=\"E8\" rx=\"10\" ry=\"10\" style=\"stroke: #A80036; stroke-width: 1.5;\" width=\"102\" x=\"32\" y=\"46.5\"/><ellipse cx=\"49.25\" cy=\"65.4688\" fill=\"#FFA500\" rx=\"11\" ry=\"11\" style=\"stroke: #A80036; stroke-width: 1.0;\"/><path d=\"M45.125,67.3906 L45.125,59.5781 L47.5781,59.5781 L47.5781,68.0156 Q47.5781,68.9375 48.0469,69.4688 Q48.5313,70 49.3594,70 Q50.2031,70 50.6719,69.4688 Q51.1406,68.9375 51.1406,68.0156 L51.1406,59.5781 L53.5938,59.5781 L53.5938,67.3906 Q53.5938,69.9219 52.5938,71.0625 Q51.5938,72.2031 49.3594,72.2031 Q47.1406,72.2031 46.125,71.0625 Q45.125,69.9219 45.125,67.3906 Z \"/><text fill=\"#000000\" font-family=\"sans-serif\" font-size=\"12\" font-style=\"italic\" lengthAdjust=\"spacingAndGlyphs\" textLength=\"69\" x=\"61.75\" y=\"62.6387\">«attribute»</text><text fill=\"#000000\" font-family=\"sans-serif\" font-size=\"12\" lengthAdjust=\"spacingAndGlyphs\" textLength=\"7\" x=\"92.75\" y=\"76.6074\">c</text></a></g><!--MD5=[c4da078e51f1909e4b96d5dadd2daf2c]\n",
       "@startuml\r\n",
       "skinparam ranksep 8\r\n",
       "skinparam rectangle {\r\n",
       " backgroundColor<<block>> LightGreen\r\n",
       "}\r\n",
       " \r\n",
       "package \"ParameterTest\" as E1  [[psysml:934b4cb7-0388-44aa-8a43-948e0e0270d7 ]]  {\r\n",
       "def \"A\" as E2  <<(D,brown)attribute def>> [[psysml:129c5bc9-5e36-4fac-a06d-7961ccb64091 ]] \r\n",
       "rec usage \"a: A\" as E3  <<(U,orange)attribute>> [[psysml:50405f72-7bb1-41da-960b-ed203bf92c2d ]] {\r\n",
       "}\r\n",
       "def \"F\" as E4  <<(D,brown)calculation def>> [[psysml:84637ab1-2e14-49ab-80b7-3fb2aa846372 ]] \r\n",
       "rec usage \"f\" as E5  <<(U,orange)attribute>> [[psysml:88b39ab3-39a3-49e4-a823-2b19bc6cfd18 ]] {\r\n",
       "}\r\n",
       "rec usage \"g\" as E6  <<(U,orange)attribute>> [[psysml:3f28e8b6-a431-4098-a991-c6c646c27e19 ]] {\r\n",
       "}\r\n",
       "rec usage \"b\" as E7  <<(U,orange)attribute>> [[psysml:a48346b2-888a-436e-97f1-e60fac760a88 ]] {\r\n",
       "}\r\n",
       "rec usage \"c\" as E8  <<(U,orange)attribute>> [[psysml:952d2fa1-4eb4-490f-be08-21606a0b2581 ]] {\r\n",
       "}\r\n",
       "}\r\n",
       "@enduml\r\n",
       "\n",
       "PlantUML version 1.2020.13(Sat Jun 13 12:26:38 UTC 2020)\n",
       "(EPL source distribution)\n",
       "Java Runtime: OpenJDK Runtime Environment\n",
       "JVM: OpenJDK 64-Bit Server VM\n",
       "Default Encoding: UTF-8\n",
       "Language: en\n",
       "Country: null\n",
       "--></g></svg>"
      ]
     },
     "execution_count": 33,
     "metadata": {},
     "output_type": "execute_result"
    }
   ],
   "source": [
    "%viz --style=\"PLANTUML\" --view=\"Interconnection\" \"ParameterTest\""
   ]
  },
  {
   "cell_type": "code",
   "execution_count": 34,
   "id": "competent-progressive",
   "metadata": {
    "execution": {
     "iopub.execute_input": "2021-03-26T09:13:02.425474Z",
     "iopub.status.busy": "2021-03-26T09:13:02.424414Z",
     "iopub.status.idle": "2021-03-26T09:13:02.445787Z",
     "shell.execute_reply": "2021-03-26T09:13:02.445486Z"
    }
   },
   "outputs": [
    {
     "data": {
      "image/svg+xml": [
       "<?xml version=\"1.0\" encoding=\"UTF-8\" standalone=\"no\"?><svg xmlns=\"http://www.w3.org/2000/svg\" xmlns:xlink=\"http://www.w3.org/1999/xlink\" contentScriptType=\"application/ecmascript\" contentStyleType=\"text/css\" height=\"134px\" preserveAspectRatio=\"none\" style=\"width:174px;height:134px;\" version=\"1.1\" viewBox=\"0 0 174 134\" width=\"174px\" zoomAndPan=\"magnify\"><defs><filter height=\"300%\" id=\"ft8woshczxtwy\" width=\"300%\" x=\"-1\" y=\"-1\"><feGaussianBlur result=\"blurOut\" stdDeviation=\"2.0\"/><feColorMatrix in=\"blurOut\" result=\"blurOut2\" type=\"matrix\" values=\"0 0 0 0 0 0 0 0 0 0 0 0 0 0 0 0 0 0 .4 0\"/><feOffset dx=\"4.0\" dy=\"4.0\" in=\"blurOut2\" result=\"blurOut3\"/><feBlend in=\"SourceGraphic\" in2=\"blurOut3\" mode=\"normal\"/></filter></defs><g><!--MD5=[fbc87193dbaf4d95561dea2c320d4a47]\n",
       "cluster E1--><a href=\"psysml:84637ab1-2e14-49ab-80b7-3fb2aa846372\" target=\"_top\" title=\"psysml:84637ab1-2e14-49ab-80b7-3fb2aa846372\" xlink:actuate=\"onRequest\" xlink:href=\"psysml:84637ab1-2e14-49ab-80b7-3fb2aa846372\" xlink:show=\"new\" xlink:title=\"psysml:84637ab1-2e14-49ab-80b7-3fb2aa846372\" xlink:type=\"simple\"><rect fill=\"#FFFFFF\" filter=\"url(#ft8woshczxtwy)\" height=\"73\" id=\"E1\" style=\"stroke: #A80036; stroke-width: 1.5;\" width=\"148\" x=\"7\" y=\"42.0986\"/><rect fill=\"#FEFECE\" height=\"37.9375\" style=\"stroke: #A80036; stroke-width: 1.5;\" width=\"148\" x=\"7\" y=\"42.0986\"/><text fill=\"#000000\" font-family=\"sans-serif\" font-size=\"12\" font-style=\"italic\" lengthAdjust=\"spacingAndGlyphs\" textLength=\"106\" x=\"28\" y=\"58.2373\">«calculation def»</text><text fill=\"#000000\" font-family=\"sans-serif\" font-size=\"12\" lengthAdjust=\"spacingAndGlyphs\" textLength=\"7\" x=\"77.5\" y=\"72.2061\">F</text></a><text fill=\"#000000\" font-family=\"sans-serif\" font-size=\"14\" lengthAdjust=\"spacingAndGlyphs\" textLength=\"9\" x=\"20.5\" y=\"20.7969\">p</text><rect fill=\"#A80036\" height=\"12\" style=\"stroke: #FEFECE; stroke-width: 1.5;\" width=\"12\" x=\"19\" y=\"36.0986\"/><text fill=\"#000000\" font-family=\"sans-serif\" font-size=\"14\" lengthAdjust=\"spacingAndGlyphs\" textLength=\"9\" x=\"67.5\" y=\"20.7969\">q</text><rect fill=\"#A80036\" height=\"12\" style=\"stroke: #FEFECE; stroke-width: 1.5;\" width=\"12\" x=\"66\" y=\"36.0986\"/><!--MD5=[6c5ae46cc570d2c71a2ab3827b49cb5a]\n",
       "@startuml\r\n",
       "skinparam ranksep 8\r\n",
       " \r\n",
       "rec def \"F\" as E1  <<(D,brown)calculation def>> [[psysml:84637ab1-2e14-49ab-80b7-3fb2aa846372 ]] {\r\n",
       "portin \"p\" as E2  [[psysml:64e82b47-cc13-4353-a930-54201d4c743b ]] \r\n",
       "portin \"q\" as E3  [[psysml:647ae971-dc5c-461d-bddf-e9c9561ef010 ]] \r\n",
       "}\r\n",
       "\r\n",
       "@enduml\r\n",
       "\n",
       "PlantUML version 1.2020.13(Sat Jun 13 12:26:38 UTC 2020)\n",
       "(EPL source distribution)\n",
       "Java Runtime: OpenJDK Runtime Environment\n",
       "JVM: OpenJDK 64-Bit Server VM\n",
       "Default Encoding: UTF-8\n",
       "Language: en\n",
       "Country: null\n",
       "--></g></svg>"
      ]
     },
     "execution_count": 34,
     "metadata": {},
     "output_type": "execute_result"
    }
   ],
   "source": [
    "%viz --style=\"PLANTUML\" --view=\"Action\" \"ParameterTest\""
   ]
  },
  {
   "cell_type": "code",
   "execution_count": 35,
   "id": "wired-questionnaire",
   "metadata": {
    "execution": {
     "iopub.execute_input": "2021-03-26T09:13:02.499571Z",
     "iopub.status.busy": "2021-03-26T09:13:02.498663Z",
     "iopub.status.idle": "2021-03-26T09:13:02.536438Z",
     "shell.execute_reply": "2021-03-26T09:13:02.535089Z"
    }
   },
   "outputs": [
    {
     "data": {
      "image/svg+xml": [
       "<?xml version=\"1.0\" encoding=\"UTF-8\" standalone=\"no\"?><svg xmlns=\"http://www.w3.org/2000/svg\" xmlns:xlink=\"http://www.w3.org/1999/xlink\" contentScriptType=\"application/ecmascript\" contentStyleType=\"text/css\" height=\"264px\" preserveAspectRatio=\"none\" style=\"width:864px;height:264px;\" version=\"1.1\" viewBox=\"0 0 864 264\" width=\"864px\" zoomAndPan=\"magnify\"><defs><filter height=\"300%\" id=\"f1fdc3runfpelj\" width=\"300%\" x=\"-1\" y=\"-1\"><feGaussianBlur result=\"blurOut\" stdDeviation=\"2.0\"/><feColorMatrix in=\"blurOut\" result=\"blurOut2\" type=\"matrix\" values=\"0 0 0 0 0 0 0 0 0 0 0 0 0 0 0 0 0 0 .4 0\"/><feOffset dx=\"4.0\" dy=\"4.0\" in=\"blurOut2\" result=\"blurOut3\"/><feBlend in=\"SourceGraphic\" in2=\"blurOut3\" mode=\"normal\"/></filter></defs><g><!--MD5=[fbc87193dbaf4d95561dea2c320d4a47]\n",
       "cluster E1--><a href=\"psysml:934b4cb7-0388-44aa-8a43-948e0e0270d7\" target=\"_top\" title=\"psysml:934b4cb7-0388-44aa-8a43-948e0e0270d7\" xlink:actuate=\"onRequest\" xlink:href=\"psysml:934b4cb7-0388-44aa-8a43-948e0e0270d7\" xlink:show=\"new\" xlink:title=\"psysml:934b4cb7-0388-44aa-8a43-948e0e0270d7\" xlink:type=\"simple\"><polygon fill=\"#FFFFFF\" filter=\"url(#f1fdc3runfpelj)\" points=\"16,6,139,6,146,28.2969,842,28.2969,842,252,16,252,16,6\" style=\"stroke: #000000; stroke-width: 1.5;\"/><line style=\"stroke: #000000; stroke-width: 1.5;\" x1=\"16\" x2=\"146\" y1=\"28.2969\" y2=\"28.2969\"/><text fill=\"#000000\" font-family=\"sans-serif\" font-size=\"14\" font-weight=\"bold\" lengthAdjust=\"spacingAndGlyphs\" textLength=\"117\" x=\"20\" y=\"20.9951\">ParameterTest</text></a><!--MD5=[b4997ac47864f28c2f74865a473b2911]\n",
       "class E2--><a href=\"psysml:129c5bc9-5e36-4fac-a06d-7961ccb64091\" target=\"_top\" title=\"psysml:129c5bc9-5e36-4fac-a06d-7961ccb64091\" xlink:actuate=\"onRequest\" xlink:href=\"psysml:129c5bc9-5e36-4fac-a06d-7961ccb64091\" xlink:show=\"new\" xlink:title=\"psysml:129c5bc9-5e36-4fac-a06d-7961ccb64091\" xlink:type=\"simple\"><rect fill=\"#FEFECE\" filter=\"url(#f1fdc3runfpelj)\" height=\"71.5469\" id=\"E2\" style=\"stroke: #A80036; stroke-width: 1.5;\" width=\"121\" x=\"642.5\" y=\"164\"/><ellipse cx=\"657.5\" cy=\"182.9688\" fill=\"#A52A2A\" rx=\"11\" ry=\"11\" style=\"stroke: #A80036; stroke-width: 1.0;\"/><path d=\"M657.0938,178.7813 L657.0938,186.7656 L657.75,186.7656 Q659.1875,186.7656 659.7969,185.8594 Q660.4219,184.9375 660.4219,182.7656 Q660.4219,180.5938 659.7969,179.6875 Q659.1875,178.7813 657.75,178.7813 L657.0938,178.7813 Z M654.6406,176.5781 L657.2656,176.5781 Q660.2969,176.5781 661.625,178.0313 Q662.9688,179.4688 662.9688,182.7656 Q662.9688,186.0625 661.625,187.5156 Q660.2969,188.9688 657.2656,188.9688 L654.6406,188.9688 L654.6406,176.5781 Z \"/><text fill=\"#000000\" font-family=\"sans-serif\" font-size=\"12\" font-style=\"italic\" lengthAdjust=\"spacingAndGlyphs\" textLength=\"93\" x=\"669.5\" y=\"180.1387\">«attribute def»</text><text fill=\"#000000\" font-family=\"sans-serif\" font-size=\"12\" lengthAdjust=\"spacingAndGlyphs\" textLength=\"8\" x=\"712\" y=\"194.1074\">A</text><line style=\"stroke: #A80036; stroke-width: 1.5;\" x1=\"643.5\" x2=\"762.5\" y1=\"201.9375\" y2=\"201.9375\"/><text fill=\"#000000\" font-family=\"sans-serif\" font-size=\"11\" lengthAdjust=\"spacingAndGlyphs\" textLength=\"48\" x=\"648.5\" y=\"216.1479\">x: String</text><text fill=\"#000000\" font-family=\"sans-serif\" font-size=\"11\" lengthAdjust=\"spacingAndGlyphs\" textLength=\"21\" x=\"648.5\" y=\"228.9526\">y: A</text></a><!--MD5=[09b614a08d8cba4a07c9adeb5e0fee81]\n",
       "class E3--><a href=\"psysml:50405f72-7bb1-41da-960b-ed203bf92c2d\" target=\"_top\" title=\"psysml:50405f72-7bb1-41da-960b-ed203bf92c2d\" xlink:actuate=\"onRequest\" xlink:href=\"psysml:50405f72-7bb1-41da-960b-ed203bf92c2d\" xlink:show=\"new\" xlink:title=\"psysml:50405f72-7bb1-41da-960b-ed203bf92c2d\" xlink:type=\"simple\"><rect fill=\"#FEFECE\" filter=\"url(#f1fdc3runfpelj)\" height=\"45.9375\" id=\"E3\" rx=\"10\" ry=\"10\" style=\"stroke: #A80036; stroke-width: 1.5;\" width=\"97\" x=\"729.5\" y=\"41\"/><ellipse cx=\"744.5\" cy=\"59.9688\" fill=\"#FFA500\" rx=\"11\" ry=\"11\" style=\"stroke: #A80036; stroke-width: 1.0;\"/><path d=\"M740.375,61.8906 L740.375,54.0781 L742.8281,54.0781 L742.8281,62.5156 Q742.8281,63.4375 743.2969,63.9688 Q743.7813,64.5 744.6094,64.5 Q745.4531,64.5 745.9219,63.9688 Q746.3906,63.4375 746.3906,62.5156 L746.3906,54.0781 L748.8438,54.0781 L748.8438,61.8906 Q748.8438,64.4219 747.8438,65.5625 Q746.8438,66.7031 744.6094,66.7031 Q742.3906,66.7031 741.375,65.5625 Q740.375,64.4219 740.375,61.8906 Z \"/><text fill=\"#000000\" font-family=\"sans-serif\" font-size=\"12\" font-style=\"italic\" lengthAdjust=\"spacingAndGlyphs\" textLength=\"69\" x=\"756.5\" y=\"57.1387\">«attribute»</text><text fill=\"#000000\" font-family=\"sans-serif\" font-size=\"12\" lengthAdjust=\"spacingAndGlyphs\" textLength=\"24\" x=\"779\" y=\"71.1074\">a: A</text><line style=\"stroke: #A80036; stroke-width: 1.5;\" x1=\"730.5\" x2=\"825.5\" y1=\"78.9375\" y2=\"78.9375\"/></a><!--MD5=[ebbe1d658d1005bcc118a6aa81145e00]\n",
       "class E4--><a href=\"psysml:84637ab1-2e14-49ab-80b7-3fb2aa846372\" target=\"_top\" title=\"psysml:84637ab1-2e14-49ab-80b7-3fb2aa846372\" xlink:actuate=\"onRequest\" xlink:href=\"psysml:84637ab1-2e14-49ab-80b7-3fb2aa846372\" xlink:show=\"new\" xlink:title=\"psysml:84637ab1-2e14-49ab-80b7-3fb2aa846372\" xlink:type=\"simple\"><rect fill=\"#FEFECE\" filter=\"url(#f1fdc3runfpelj)\" height=\"45.9375\" id=\"E4\" style=\"stroke: #A80036; stroke-width: 1.5;\" width=\"134\" x=\"560\" y=\"41\"/><ellipse cx=\"575\" cy=\"59.9688\" fill=\"#A52A2A\" rx=\"11\" ry=\"11\" style=\"stroke: #A80036; stroke-width: 1.0;\"/><path d=\"M574.5938,55.7813 L574.5938,63.7656 L575.25,63.7656 Q576.6875,63.7656 577.2969,62.8594 Q577.9219,61.9375 577.9219,59.7656 Q577.9219,57.5938 577.2969,56.6875 Q576.6875,55.7813 575.25,55.7813 L574.5938,55.7813 Z M572.1406,53.5781 L574.7656,53.5781 Q577.7969,53.5781 579.125,55.0313 Q580.4688,56.4688 580.4688,59.7656 Q580.4688,63.0625 579.125,64.5156 Q577.7969,65.9688 574.7656,65.9688 L572.1406,65.9688 L572.1406,53.5781 Z \"/><text fill=\"#000000\" font-family=\"sans-serif\" font-size=\"12\" font-style=\"italic\" lengthAdjust=\"spacingAndGlyphs\" textLength=\"106\" x=\"587\" y=\"57.1387\">«calculation def»</text><text fill=\"#000000\" font-family=\"sans-serif\" font-size=\"12\" lengthAdjust=\"spacingAndGlyphs\" textLength=\"7\" x=\"636.5\" y=\"71.1074\">F</text><line style=\"stroke: #A80036; stroke-width: 1.5;\" x1=\"561\" x2=\"693\" y1=\"78.9375\" y2=\"78.9375\"/></a><!--MD5=[270fce915f116d4de14055a7c1d9a0f3]\n",
       "class E5--><a href=\"psysml:88b39ab3-39a3-49e4-a823-2b19bc6cfd18\" target=\"_top\" title=\"psysml:88b39ab3-39a3-49e4-a823-2b19bc6cfd18\" xlink:actuate=\"onRequest\" xlink:href=\"psysml:88b39ab3-39a3-49e4-a823-2b19bc6cfd18\" xlink:show=\"new\" xlink:title=\"psysml:88b39ab3-39a3-49e4-a823-2b19bc6cfd18\" xlink:type=\"simple\"><rect fill=\"#FEFECE\" filter=\"url(#f1fdc3runfpelj)\" height=\"45.9375\" id=\"E5\" rx=\"10\" ry=\"10\" style=\"stroke: #A80036; stroke-width: 1.5;\" width=\"97\" x=\"427.5\" y=\"41\"/><ellipse cx=\"442.5\" cy=\"59.9688\" fill=\"#FFA500\" rx=\"11\" ry=\"11\" style=\"stroke: #A80036; stroke-width: 1.0;\"/><path d=\"M438.375,61.8906 L438.375,54.0781 L440.8281,54.0781 L440.8281,62.5156 Q440.8281,63.4375 441.2969,63.9688 Q441.7813,64.5 442.6094,64.5 Q443.4531,64.5 443.9219,63.9688 Q444.3906,63.4375 444.3906,62.5156 L444.3906,54.0781 L446.8438,54.0781 L446.8438,61.8906 Q446.8438,64.4219 445.8438,65.5625 Q444.8438,66.7031 442.6094,66.7031 Q440.3906,66.7031 439.375,65.5625 Q438.375,64.4219 438.375,61.8906 Z \"/><text fill=\"#000000\" font-family=\"sans-serif\" font-size=\"12\" font-style=\"italic\" lengthAdjust=\"spacingAndGlyphs\" textLength=\"69\" x=\"454.5\" y=\"57.1387\">«attribute»</text><text fill=\"#000000\" font-family=\"sans-serif\" font-size=\"12\" lengthAdjust=\"spacingAndGlyphs\" textLength=\"4\" x=\"487\" y=\"71.1074\">f</text><line style=\"stroke: #A80036; stroke-width: 1.5;\" x1=\"428.5\" x2=\"523.5\" y1=\"78.9375\" y2=\"78.9375\"/></a><!--MD5=[60a26617385b1d2d0262a64233df1f8d]\n",
       "class E6--><a href=\"psysml:3f28e8b6-a431-4098-a991-c6c646c27e19\" target=\"_top\" title=\"psysml:3f28e8b6-a431-4098-a991-c6c646c27e19\" xlink:actuate=\"onRequest\" xlink:href=\"psysml:3f28e8b6-a431-4098-a991-c6c646c27e19\" xlink:show=\"new\" xlink:title=\"psysml:3f28e8b6-a431-4098-a991-c6c646c27e19\" xlink:type=\"simple\"><rect fill=\"#FEFECE\" filter=\"url(#f1fdc3runfpelj)\" height=\"45.9375\" id=\"E6\" rx=\"10\" ry=\"10\" style=\"stroke: #A80036; stroke-width: 1.5;\" width=\"97\" x=\"295.5\" y=\"41\"/><ellipse cx=\"310.5\" cy=\"59.9688\" fill=\"#FFA500\" rx=\"11\" ry=\"11\" style=\"stroke: #A80036; stroke-width: 1.0;\"/><path d=\"M306.375,61.8906 L306.375,54.0781 L308.8281,54.0781 L308.8281,62.5156 Q308.8281,63.4375 309.2969,63.9688 Q309.7813,64.5 310.6094,64.5 Q311.4531,64.5 311.9219,63.9688 Q312.3906,63.4375 312.3906,62.5156 L312.3906,54.0781 L314.8438,54.0781 L314.8438,61.8906 Q314.8438,64.4219 313.8438,65.5625 Q312.8438,66.7031 310.6094,66.7031 Q308.3906,66.7031 307.375,65.5625 Q306.375,64.4219 306.375,61.8906 Z \"/><text fill=\"#000000\" font-family=\"sans-serif\" font-size=\"12\" font-style=\"italic\" lengthAdjust=\"spacingAndGlyphs\" textLength=\"69\" x=\"322.5\" y=\"57.1387\">«attribute»</text><text fill=\"#000000\" font-family=\"sans-serif\" font-size=\"12\" lengthAdjust=\"spacingAndGlyphs\" textLength=\"8\" x=\"353\" y=\"71.1074\">g</text><line style=\"stroke: #A80036; stroke-width: 1.5;\" x1=\"296.5\" x2=\"391.5\" y1=\"78.9375\" y2=\"78.9375\"/></a><!--MD5=[2156ba9850f5573cc1fc38a6a4b2f02b]\n",
       "class E7--><a href=\"psysml:a48346b2-888a-436e-97f1-e60fac760a88\" target=\"_top\" title=\"psysml:a48346b2-888a-436e-97f1-e60fac760a88\" xlink:actuate=\"onRequest\" xlink:href=\"psysml:a48346b2-888a-436e-97f1-e60fac760a88\" xlink:show=\"new\" xlink:title=\"psysml:a48346b2-888a-436e-97f1-e60fac760a88\" xlink:type=\"simple\"><rect fill=\"#FEFECE\" filter=\"url(#f1fdc3runfpelj)\" height=\"45.9375\" id=\"E7\" rx=\"10\" ry=\"10\" style=\"stroke: #A80036; stroke-width: 1.5;\" width=\"97\" x=\"163.5\" y=\"41\"/><ellipse cx=\"178.5\" cy=\"59.9688\" fill=\"#FFA500\" rx=\"11\" ry=\"11\" style=\"stroke: #A80036; stroke-width: 1.0;\"/><path d=\"M174.375,61.8906 L174.375,54.0781 L176.8281,54.0781 L176.8281,62.5156 Q176.8281,63.4375 177.2969,63.9688 Q177.7813,64.5 178.6094,64.5 Q179.4531,64.5 179.9219,63.9688 Q180.3906,63.4375 180.3906,62.5156 L180.3906,54.0781 L182.8438,54.0781 L182.8438,61.8906 Q182.8438,64.4219 181.8438,65.5625 Q180.8438,66.7031 178.6094,66.7031 Q176.3906,66.7031 175.375,65.5625 Q174.375,64.4219 174.375,61.8906 Z \"/><text fill=\"#000000\" font-family=\"sans-serif\" font-size=\"12\" font-style=\"italic\" lengthAdjust=\"spacingAndGlyphs\" textLength=\"69\" x=\"190.5\" y=\"57.1387\">«attribute»</text><text fill=\"#000000\" font-family=\"sans-serif\" font-size=\"12\" lengthAdjust=\"spacingAndGlyphs\" textLength=\"8\" x=\"221\" y=\"71.1074\">b</text><line style=\"stroke: #A80036; stroke-width: 1.5;\" x1=\"164.5\" x2=\"259.5\" y1=\"78.9375\" y2=\"78.9375\"/></a><!--MD5=[b9389687b975829384b498ac4b7476b2]\n",
       "class E8--><a href=\"psysml:952d2fa1-4eb4-490f-be08-21606a0b2581\" target=\"_top\" title=\"psysml:952d2fa1-4eb4-490f-be08-21606a0b2581\" xlink:actuate=\"onRequest\" xlink:href=\"psysml:952d2fa1-4eb4-490f-be08-21606a0b2581\" xlink:show=\"new\" xlink:title=\"psysml:952d2fa1-4eb4-490f-be08-21606a0b2581\" xlink:type=\"simple\"><rect fill=\"#FEFECE\" filter=\"url(#f1fdc3runfpelj)\" height=\"45.9375\" id=\"E8\" rx=\"10\" ry=\"10\" style=\"stroke: #A80036; stroke-width: 1.5;\" width=\"97\" x=\"31.5\" y=\"41\"/><ellipse cx=\"46.5\" cy=\"59.9688\" fill=\"#FFA500\" rx=\"11\" ry=\"11\" style=\"stroke: #A80036; stroke-width: 1.0;\"/><path d=\"M42.375,61.8906 L42.375,54.0781 L44.8281,54.0781 L44.8281,62.5156 Q44.8281,63.4375 45.2969,63.9688 Q45.7813,64.5 46.6094,64.5 Q47.4531,64.5 47.9219,63.9688 Q48.3906,63.4375 48.3906,62.5156 L48.3906,54.0781 L50.8438,54.0781 L50.8438,61.8906 Q50.8438,64.4219 49.8438,65.5625 Q48.8438,66.7031 46.6094,66.7031 Q44.3906,66.7031 43.375,65.5625 Q42.375,64.4219 42.375,61.8906 Z \"/><text fill=\"#000000\" font-family=\"sans-serif\" font-size=\"12\" font-style=\"italic\" lengthAdjust=\"spacingAndGlyphs\" textLength=\"69\" x=\"58.5\" y=\"57.1387\">«attribute»</text><text fill=\"#000000\" font-family=\"sans-serif\" font-size=\"12\" lengthAdjust=\"spacingAndGlyphs\" textLength=\"7\" x=\"89.5\" y=\"71.1074\">c</text><line style=\"stroke: #A80036; stroke-width: 1.5;\" x1=\"32.5\" x2=\"127.5\" y1=\"78.9375\" y2=\"78.9375\"/></a><!--MD5=[05d275557350bfb9b23a4ef7222b4c39]\n",
       "link E3 to E2--><a href=\"psysml:7569b902-ac88-47a0-a36a-be78510f169c\" target=\"_top\" title=\"psysml:7569b902-ac88-47a0-a36a-be78510f169c\" xlink:actuate=\"onRequest\" xlink:href=\"psysml:7569b902-ac88-47a0-a36a-be78510f169c\" xlink:show=\"new\" xlink:title=\"psysml:7569b902-ac88-47a0-a36a-be78510f169c\" xlink:type=\"simple\"><path d=\"M765.62,87.13 C756.62,103.2 744.05,125.65 732.54,146.23 \" fill=\"none\" id=\"E3-&gt;E2\" style=\"stroke: #A80036; stroke-width: 1.0;\"/><polygon fill=\"#FFFFFF\" points=\"722.6,163.99,725.7664,143.9907,737.9848,150.8253,722.6,163.99\" style=\"stroke: #A80036; stroke-width: 1.0;\"/><ellipse cx=\"730.2946\" cy=\"139.9924\" fill=\"#A80036\" rx=\"2\" ry=\"2\" style=\"stroke: #A80036; stroke-width: 1.0;\"/><ellipse cx=\"739.022\" cy=\"144.8743\" fill=\"#A80036\" rx=\"2\" ry=\"2\" style=\"stroke: #A80036; stroke-width: 1.0;\"/></a><!--MD5=[ddeed8deb2209213b62e6cfabaa108b2]\n",
       "reverse link E4 to E2--><a href=\"psysml:64e82b47-cc13-4353-a930-54201d4c743b\" target=\"_top\" title=\"psysml:64e82b47-cc13-4353-a930-54201d4c743b\" xlink:actuate=\"onRequest\" xlink:href=\"psysml:64e82b47-cc13-4353-a930-54201d4c743b\" xlink:show=\"new\" xlink:title=\"psysml:64e82b47-cc13-4353-a930-54201d4c743b\" xlink:type=\"simple\"><path d=\"M645.99,98.48 C657.31,118.44 671.67,143.76 683.14,163.99 \" fill=\"none\" id=\"E4&lt;-E2\" style=\"stroke: #A80036; stroke-width: 1.0;\"/><polygon fill=\"#FFFFFF\" points=\"639.55,87.13,639.0333,94.3226,645.4738,97.5659,645.9905,90.3734,639.55,87.13\" style=\"stroke: #A80036; stroke-width: 1.0;\"/><text fill=\"#000000\" font-family=\"sans-serif\" font-size=\"13\" lengthAdjust=\"spacingAndGlyphs\" textLength=\"8\" x=\"666\" y=\"130.0669\">p</text></a><!--MD5=[75dc6b203c6d8288eba5e91ab2533b4c]\n",
       "@startuml\r\n",
       " \r\n",
       "package \"ParameterTest\" as E1  [[psysml:934b4cb7-0388-44aa-8a43-948e0e0270d7 ]]  {\r\n",
       "comp def \"A\" as E2  <<(D,brown)attribute def>> [[psysml:129c5bc9-5e36-4fac-a06d-7961ccb64091 ]] {\r\n",
       "x: String\r\n",
       "y: A\r\n",
       "}\r\n",
       "comp usage \"a: A\" as E3  <<(U,orange)attribute>> [[psysml:50405f72-7bb1-41da-960b-ed203bf92c2d ]] {\r\n",
       "}\r\n",
       "comp def \"F\" as E4  <<(D,brown)calculation def>> [[psysml:84637ab1-2e14-49ab-80b7-3fb2aa846372 ]] {\r\n",
       "}\r\n",
       "comp usage \"f\" as E5  <<(U,orange)attribute>> [[psysml:88b39ab3-39a3-49e4-a823-2b19bc6cfd18 ]] {\r\n",
       "}\r\n",
       "comp usage \"g\" as E6  <<(U,orange)attribute>> [[psysml:3f28e8b6-a431-4098-a991-c6c646c27e19 ]] {\r\n",
       "}\r\n",
       "comp usage \"b\" as E7  <<(U,orange)attribute>> [[psysml:a48346b2-888a-436e-97f1-e60fac760a88 ]] {\r\n",
       "}\r\n",
       "comp usage \"c\" as E8  <<(U,orange)attribute>> [[psysml:952d2fa1-4eb4-490f-be08-21606a0b2581 ]] {\r\n",
       "}\r\n",
       "E3 - -:|> E2 [[psysml:7569b902-ac88-47a0-a36a-be78510f169c ]] \r\n",
       "E4 o- - E2 [[psysml:64e82b47-cc13-4353-a930-54201d4c743b ]] : p\r\n",
       "}\r\n",
       "@enduml\r\n",
       "\n",
       "PlantUML version 1.2020.13(Sat Jun 13 12:26:38 UTC 2020)\n",
       "(EPL source distribution)\n",
       "Java Runtime: OpenJDK Runtime Environment\n",
       "JVM: OpenJDK 64-Bit Server VM\n",
       "Default Encoding: UTF-8\n",
       "Language: en\n",
       "Country: null\n",
       "--></g></svg>"
      ]
     },
     "execution_count": 35,
     "metadata": {},
     "output_type": "execute_result"
    }
   ],
   "source": [
    "%viz --style=\"PLANTUML\" --view=\"Sequence\" \"ParameterTest\""
   ]
  },
  {
   "cell_type": "code",
   "execution_count": 36,
   "id": "facial-league",
   "metadata": {
    "execution": {
     "iopub.execute_input": "2021-03-26T09:13:02.591369Z",
     "iopub.status.busy": "2021-03-26T09:13:02.589374Z",
     "iopub.status.idle": "2021-03-26T09:13:02.642226Z",
     "shell.execute_reply": "2021-03-26T09:13:02.640996Z"
    }
   },
   "outputs": [
    {
     "data": {
      "image/svg+xml": [
       "<?xml version=\"1.0\" encoding=\"UTF-8\" standalone=\"no\"?><svg xmlns=\"http://www.w3.org/2000/svg\" xmlns:xlink=\"http://www.w3.org/1999/xlink\" contentScriptType=\"application/ecmascript\" contentStyleType=\"text/css\" height=\"247px\" preserveAspectRatio=\"none\" style=\"width:868px;height:247px;\" version=\"1.1\" viewBox=\"0 0 868 247\" width=\"868px\" zoomAndPan=\"magnify\"><defs><filter height=\"300%\" id=\"f1huokvfjuq3re\" width=\"300%\" x=\"-1\" y=\"-1\"><feGaussianBlur result=\"blurOut\" stdDeviation=\"2.0\"/><feColorMatrix in=\"blurOut\" result=\"blurOut2\" type=\"matrix\" values=\"0 0 0 0 0 0 0 0 0 0 0 0 0 0 0 0 0 0 .4 0\"/><feOffset dx=\"4.0\" dy=\"4.0\" in=\"blurOut2\" result=\"blurOut3\"/><feBlend in=\"SourceGraphic\" in2=\"blurOut3\" mode=\"normal\"/></filter></defs><g><!--MD5=[fbc87193dbaf4d95561dea2c320d4a47]\n",
       "cluster E1--><a href=\"psysml:934b4cb7-0388-44aa-8a43-948e0e0270d7\" target=\"_top\" title=\"psysml:934b4cb7-0388-44aa-8a43-948e0e0270d7\" xlink:actuate=\"onRequest\" xlink:href=\"psysml:934b4cb7-0388-44aa-8a43-948e0e0270d7\" xlink:show=\"new\" xlink:title=\"psysml:934b4cb7-0388-44aa-8a43-948e0e0270d7\" xlink:type=\"simple\"><polygon fill=\"#FFFFFF\" filter=\"url(#f1huokvfjuq3re)\" points=\"16,6,139,6,146,28.2969,846,28.2969,846,235,16,235,16,6\" style=\"stroke: #000000; stroke-width: 1.5;\"/><line style=\"stroke: #000000; stroke-width: 1.5;\" x1=\"16\" x2=\"146\" y1=\"28.2969\" y2=\"28.2969\"/><text fill=\"#000000\" font-family=\"sans-serif\" font-size=\"14\" font-weight=\"bold\" lengthAdjust=\"spacingAndGlyphs\" textLength=\"117\" x=\"20\" y=\"20.9951\">ParameterTest</text></a><!--MD5=[f6df4d0ebaf0b5dfb2ced0ae5af7c670]\n",
       "cluster E4--><a href=\"psysml:84637ab1-2e14-49ab-80b7-3fb2aa846372\" target=\"_top\" title=\"psysml:84637ab1-2e14-49ab-80b7-3fb2aa846372\" xlink:actuate=\"onRequest\" xlink:href=\"psysml:84637ab1-2e14-49ab-80b7-3fb2aa846372\" xlink:show=\"new\" xlink:title=\"psysml:84637ab1-2e14-49ab-80b7-3fb2aa846372\" xlink:type=\"simple\"><rect fill=\"#FFFFFF\" filter=\"url(#f1huokvfjuq3re)\" height=\"152.5\" id=\"E4\" style=\"stroke: #A80036; stroke-width: 1.5;\" width=\"148\" x=\"682\" y=\"64\"/><rect fill=\"#FEFECE\" height=\"37.9375\" style=\"stroke: #A80036; stroke-width: 1.5;\" width=\"148\" x=\"682\" y=\"64\"/><text fill=\"#000000\" font-family=\"sans-serif\" font-size=\"12\" font-style=\"italic\" lengthAdjust=\"spacingAndGlyphs\" textLength=\"106\" x=\"703\" y=\"80.1387\">«calculation def»</text><text fill=\"#000000\" font-family=\"sans-serif\" font-size=\"12\" lengthAdjust=\"spacingAndGlyphs\" textLength=\"7\" x=\"752.5\" y=\"94.1074\">F</text></a><!--MD5=[b4997ac47864f28c2f74865a473b2911]\n",
       "class E2--><a href=\"psysml:129c5bc9-5e36-4fac-a06d-7961ccb64091\" target=\"_top\" title=\"psysml:129c5bc9-5e36-4fac-a06d-7961ccb64091\" xlink:actuate=\"onRequest\" xlink:href=\"psysml:129c5bc9-5e36-4fac-a06d-7961ccb64091\" xlink:show=\"new\" xlink:title=\"psysml:129c5bc9-5e36-4fac-a06d-7961ccb64091\" xlink:type=\"simple\"><rect fill=\"#FEFECE\" filter=\"url(#f1huokvfjuq3re)\" height=\"71.5469\" id=\"E2\" style=\"stroke: #A80036; stroke-width: 1.5;\" width=\"121\" x=\"524.5\" y=\"147\"/><ellipse cx=\"539.5\" cy=\"165.9688\" fill=\"#A52A2A\" rx=\"11\" ry=\"11\" style=\"stroke: #A80036; stroke-width: 1.0;\"/><path d=\"M539.0938,161.7813 L539.0938,169.7656 L539.75,169.7656 Q541.1875,169.7656 541.7969,168.8594 Q542.4219,167.9375 542.4219,165.7656 Q542.4219,163.5938 541.7969,162.6875 Q541.1875,161.7813 539.75,161.7813 L539.0938,161.7813 Z M536.6406,159.5781 L539.2656,159.5781 Q542.2969,159.5781 543.625,161.0313 Q544.9688,162.4688 544.9688,165.7656 Q544.9688,169.0625 543.625,170.5156 Q542.2969,171.9688 539.2656,171.9688 L536.6406,171.9688 L536.6406,159.5781 Z \"/><text fill=\"#000000\" font-family=\"sans-serif\" font-size=\"12\" font-style=\"italic\" lengthAdjust=\"spacingAndGlyphs\" textLength=\"93\" x=\"551.5\" y=\"163.1387\">«attribute def»</text><text fill=\"#000000\" font-family=\"sans-serif\" font-size=\"12\" lengthAdjust=\"spacingAndGlyphs\" textLength=\"8\" x=\"594\" y=\"177.1074\">A</text><line style=\"stroke: #A80036; stroke-width: 1.5;\" x1=\"525.5\" x2=\"644.5\" y1=\"184.9375\" y2=\"184.9375\"/><text fill=\"#000000\" font-family=\"sans-serif\" font-size=\"11\" lengthAdjust=\"spacingAndGlyphs\" textLength=\"48\" x=\"530.5\" y=\"199.1479\">x: String</text><text fill=\"#000000\" font-family=\"sans-serif\" font-size=\"11\" lengthAdjust=\"spacingAndGlyphs\" textLength=\"21\" x=\"530.5\" y=\"211.9526\">y: A</text></a><!--MD5=[09b614a08d8cba4a07c9adeb5e0fee81]\n",
       "class E3--><a href=\"psysml:50405f72-7bb1-41da-960b-ed203bf92c2d\" target=\"_top\" title=\"psysml:50405f72-7bb1-41da-960b-ed203bf92c2d\" xlink:actuate=\"onRequest\" xlink:href=\"psysml:50405f72-7bb1-41da-960b-ed203bf92c2d\" xlink:show=\"new\" xlink:title=\"psysml:50405f72-7bb1-41da-960b-ed203bf92c2d\" xlink:type=\"simple\"><rect fill=\"#FEFECE\" filter=\"url(#f1huokvfjuq3re)\" height=\"45.9375\" id=\"E3\" rx=\"10\" ry=\"10\" style=\"stroke: #A80036; stroke-width: 1.5;\" width=\"97\" x=\"559.5\" y=\"41\"/><ellipse cx=\"574.5\" cy=\"59.9688\" fill=\"#FFA500\" rx=\"11\" ry=\"11\" style=\"stroke: #A80036; stroke-width: 1.0;\"/><path d=\"M570.375,61.8906 L570.375,54.0781 L572.8281,54.0781 L572.8281,62.5156 Q572.8281,63.4375 573.2969,63.9688 Q573.7813,64.5 574.6094,64.5 Q575.4531,64.5 575.9219,63.9688 Q576.3906,63.4375 576.3906,62.5156 L576.3906,54.0781 L578.8438,54.0781 L578.8438,61.8906 Q578.8438,64.4219 577.8438,65.5625 Q576.8438,66.7031 574.6094,66.7031 Q572.3906,66.7031 571.375,65.5625 Q570.375,64.4219 570.375,61.8906 Z \"/><text fill=\"#000000\" font-family=\"sans-serif\" font-size=\"12\" font-style=\"italic\" lengthAdjust=\"spacingAndGlyphs\" textLength=\"69\" x=\"586.5\" y=\"57.1387\">«attribute»</text><text fill=\"#000000\" font-family=\"sans-serif\" font-size=\"12\" lengthAdjust=\"spacingAndGlyphs\" textLength=\"24\" x=\"609\" y=\"71.1074\">a: A</text><line style=\"stroke: #A80036; stroke-width: 1.5;\" x1=\"560.5\" x2=\"655.5\" y1=\"78.9375\" y2=\"78.9375\"/></a><!--MD5=[2156ba9850f5573cc1fc38a6a4b2f02b]\n",
       "class E7--><a href=\"psysml:88b39ab3-39a3-49e4-a823-2b19bc6cfd18\" target=\"_top\" title=\"psysml:88b39ab3-39a3-49e4-a823-2b19bc6cfd18\" xlink:actuate=\"onRequest\" xlink:href=\"psysml:88b39ab3-39a3-49e4-a823-2b19bc6cfd18\" xlink:show=\"new\" xlink:title=\"psysml:88b39ab3-39a3-49e4-a823-2b19bc6cfd18\" xlink:type=\"simple\"><rect fill=\"#FEFECE\" filter=\"url(#f1huokvfjuq3re)\" height=\"45.9375\" id=\"E7\" rx=\"10\" ry=\"10\" style=\"stroke: #A80036; stroke-width: 1.5;\" width=\"97\" x=\"427.5\" y=\"41\"/><ellipse cx=\"442.5\" cy=\"59.9688\" fill=\"#FFA500\" rx=\"11\" ry=\"11\" style=\"stroke: #A80036; stroke-width: 1.0;\"/><path d=\"M438.375,61.8906 L438.375,54.0781 L440.8281,54.0781 L440.8281,62.5156 Q440.8281,63.4375 441.2969,63.9688 Q441.7813,64.5 442.6094,64.5 Q443.4531,64.5 443.9219,63.9688 Q444.3906,63.4375 444.3906,62.5156 L444.3906,54.0781 L446.8438,54.0781 L446.8438,61.8906 Q446.8438,64.4219 445.8438,65.5625 Q444.8438,66.7031 442.6094,66.7031 Q440.3906,66.7031 439.375,65.5625 Q438.375,64.4219 438.375,61.8906 Z \"/><text fill=\"#000000\" font-family=\"sans-serif\" font-size=\"12\" font-style=\"italic\" lengthAdjust=\"spacingAndGlyphs\" textLength=\"69\" x=\"454.5\" y=\"57.1387\">«attribute»</text><text fill=\"#000000\" font-family=\"sans-serif\" font-size=\"12\" lengthAdjust=\"spacingAndGlyphs\" textLength=\"4\" x=\"487\" y=\"71.1074\">f</text><line style=\"stroke: #A80036; stroke-width: 1.5;\" x1=\"428.5\" x2=\"523.5\" y1=\"78.9375\" y2=\"78.9375\"/></a><!--MD5=[b9389687b975829384b498ac4b7476b2]\n",
       "class E8--><a href=\"psysml:3f28e8b6-a431-4098-a991-c6c646c27e19\" target=\"_top\" title=\"psysml:3f28e8b6-a431-4098-a991-c6c646c27e19\" xlink:actuate=\"onRequest\" xlink:href=\"psysml:3f28e8b6-a431-4098-a991-c6c646c27e19\" xlink:show=\"new\" xlink:title=\"psysml:3f28e8b6-a431-4098-a991-c6c646c27e19\" xlink:type=\"simple\"><rect fill=\"#FEFECE\" filter=\"url(#f1huokvfjuq3re)\" height=\"45.9375\" id=\"E8\" rx=\"10\" ry=\"10\" style=\"stroke: #A80036; stroke-width: 1.5;\" width=\"97\" x=\"295.5\" y=\"41\"/><ellipse cx=\"310.5\" cy=\"59.9688\" fill=\"#FFA500\" rx=\"11\" ry=\"11\" style=\"stroke: #A80036; stroke-width: 1.0;\"/><path d=\"M306.375,61.8906 L306.375,54.0781 L308.8281,54.0781 L308.8281,62.5156 Q308.8281,63.4375 309.2969,63.9688 Q309.7813,64.5 310.6094,64.5 Q311.4531,64.5 311.9219,63.9688 Q312.3906,63.4375 312.3906,62.5156 L312.3906,54.0781 L314.8438,54.0781 L314.8438,61.8906 Q314.8438,64.4219 313.8438,65.5625 Q312.8438,66.7031 310.6094,66.7031 Q308.3906,66.7031 307.375,65.5625 Q306.375,64.4219 306.375,61.8906 Z \"/><text fill=\"#000000\" font-family=\"sans-serif\" font-size=\"12\" font-style=\"italic\" lengthAdjust=\"spacingAndGlyphs\" textLength=\"69\" x=\"322.5\" y=\"57.1387\">«attribute»</text><text fill=\"#000000\" font-family=\"sans-serif\" font-size=\"12\" lengthAdjust=\"spacingAndGlyphs\" textLength=\"8\" x=\"353\" y=\"71.1074\">g</text><line style=\"stroke: #A80036; stroke-width: 1.5;\" x1=\"296.5\" x2=\"391.5\" y1=\"78.9375\" y2=\"78.9375\"/></a><!--MD5=[fd4143e9d270a159db93a4ea2a975926]\n",
       "class E9--><a href=\"psysml:a48346b2-888a-436e-97f1-e60fac760a88\" target=\"_top\" title=\"psysml:a48346b2-888a-436e-97f1-e60fac760a88\" xlink:actuate=\"onRequest\" xlink:href=\"psysml:a48346b2-888a-436e-97f1-e60fac760a88\" xlink:show=\"new\" xlink:title=\"psysml:a48346b2-888a-436e-97f1-e60fac760a88\" xlink:type=\"simple\"><rect fill=\"#FEFECE\" filter=\"url(#f1huokvfjuq3re)\" height=\"45.9375\" id=\"E9\" rx=\"10\" ry=\"10\" style=\"stroke: #A80036; stroke-width: 1.5;\" width=\"97\" x=\"163.5\" y=\"41\"/><ellipse cx=\"178.5\" cy=\"59.9688\" fill=\"#FFA500\" rx=\"11\" ry=\"11\" style=\"stroke: #A80036; stroke-width: 1.0;\"/><path d=\"M174.375,61.8906 L174.375,54.0781 L176.8281,54.0781 L176.8281,62.5156 Q176.8281,63.4375 177.2969,63.9688 Q177.7813,64.5 178.6094,64.5 Q179.4531,64.5 179.9219,63.9688 Q180.3906,63.4375 180.3906,62.5156 L180.3906,54.0781 L182.8438,54.0781 L182.8438,61.8906 Q182.8438,64.4219 181.8438,65.5625 Q180.8438,66.7031 178.6094,66.7031 Q176.3906,66.7031 175.375,65.5625 Q174.375,64.4219 174.375,61.8906 Z \"/><text fill=\"#000000\" font-family=\"sans-serif\" font-size=\"12\" font-style=\"italic\" lengthAdjust=\"spacingAndGlyphs\" textLength=\"69\" x=\"190.5\" y=\"57.1387\">«attribute»</text><text fill=\"#000000\" font-family=\"sans-serif\" font-size=\"12\" lengthAdjust=\"spacingAndGlyphs\" textLength=\"8\" x=\"221\" y=\"71.1074\">b</text><line style=\"stroke: #A80036; stroke-width: 1.5;\" x1=\"164.5\" x2=\"259.5\" y1=\"78.9375\" y2=\"78.9375\"/></a><!--MD5=[96f4274e9e20536e775497830990834d]\n",
       "class E10--><a href=\"psysml:952d2fa1-4eb4-490f-be08-21606a0b2581\" target=\"_top\" title=\"psysml:952d2fa1-4eb4-490f-be08-21606a0b2581\" xlink:actuate=\"onRequest\" xlink:href=\"psysml:952d2fa1-4eb4-490f-be08-21606a0b2581\" xlink:show=\"new\" xlink:title=\"psysml:952d2fa1-4eb4-490f-be08-21606a0b2581\" xlink:type=\"simple\"><rect fill=\"#FEFECE\" filter=\"url(#f1huokvfjuq3re)\" height=\"45.9375\" id=\"E10\" rx=\"10\" ry=\"10\" style=\"stroke: #A80036; stroke-width: 1.5;\" width=\"97\" x=\"31.5\" y=\"41\"/><ellipse cx=\"46.5\" cy=\"59.9688\" fill=\"#FFA500\" rx=\"11\" ry=\"11\" style=\"stroke: #A80036; stroke-width: 1.0;\"/><path d=\"M42.375,61.8906 L42.375,54.0781 L44.8281,54.0781 L44.8281,62.5156 Q44.8281,63.4375 45.2969,63.9688 Q45.7813,64.5 46.6094,64.5 Q47.4531,64.5 47.9219,63.9688 Q48.3906,63.4375 48.3906,62.5156 L48.3906,54.0781 L50.8438,54.0781 L50.8438,61.8906 Q50.8438,64.4219 49.8438,65.5625 Q48.8438,66.7031 46.6094,66.7031 Q44.3906,66.7031 43.375,65.5625 Q42.375,64.4219 42.375,61.8906 Z \"/><text fill=\"#000000\" font-family=\"sans-serif\" font-size=\"12\" font-style=\"italic\" lengthAdjust=\"spacingAndGlyphs\" textLength=\"69\" x=\"58.5\" y=\"57.1387\">«attribute»</text><text fill=\"#000000\" font-family=\"sans-serif\" font-size=\"12\" lengthAdjust=\"spacingAndGlyphs\" textLength=\"7\" x=\"89.5\" y=\"71.1074\">c</text><line style=\"stroke: #A80036; stroke-width: 1.5;\" x1=\"32.5\" x2=\"127.5\" y1=\"78.9375\" y2=\"78.9375\"/></a><text fill=\"#000000\" font-family=\"sans-serif\" font-size=\"14\" lengthAdjust=\"spacingAndGlyphs\" textLength=\"9\" x=\"695.5\" y=\"42.6982\">p</text><rect fill=\"#A80036\" height=\"12\" style=\"stroke: #FEFECE; stroke-width: 1.5;\" width=\"12\" x=\"694\" y=\"58\"/><text fill=\"#000000\" font-family=\"sans-serif\" font-size=\"14\" lengthAdjust=\"spacingAndGlyphs\" textLength=\"9\" x=\"742.5\" y=\"42.6982\">q</text><rect fill=\"#A80036\" height=\"12\" style=\"stroke: #FEFECE; stroke-width: 1.5;\" width=\"12\" x=\"741\" y=\"58\"/><!--MD5=[05d275557350bfb9b23a4ef7222b4c39]\n",
       "link E3 to E2--><a href=\"psysml:7569b902-ac88-47a0-a36a-be78510f169c\" target=\"_top\" title=\"psysml:7569b902-ac88-47a0-a36a-be78510f169c\" xlink:actuate=\"onRequest\" xlink:href=\"psysml:7569b902-ac88-47a0-a36a-be78510f169c\" xlink:show=\"new\" xlink:title=\"psysml:7569b902-ac88-47a0-a36a-be78510f169c\" xlink:type=\"simple\"><path d=\"M603.67,87.01 C601.45,98.3 598.64,112.62 595.87,126.7 \" fill=\"none\" id=\"E3-&gt;E2\" style=\"stroke: #A80036; stroke-width: 1.0;\"/><polygon fill=\"#FFFFFF\" points=\"591.93,146.75,588.7277,126.7564,602.4646,129.4577,591.93,146.75\" style=\"stroke: #A80036; stroke-width: 1.0;\"/><ellipse cx=\"591.7899\" cy=\"121.5494\" fill=\"#A80036\" rx=\"2\" ry=\"2\" style=\"stroke: #A80036; stroke-width: 1.0;\"/><ellipse cx=\"601.602\" cy=\"123.4789\" fill=\"#A80036\" rx=\"2\" ry=\"2\" style=\"stroke: #A80036; stroke-width: 1.0;\"/></a><!--MD5=[8b64fb07d70d0d1d6a31b13ecf970dc4]\n",
       "@startuml\r\n",
       " \r\n",
       "package \"ParameterTest\" as E1  [[psysml:934b4cb7-0388-44aa-8a43-948e0e0270d7 ]]  {\r\n",
       "comp def \"A\" as E2  <<(D,brown)attribute def>> [[psysml:129c5bc9-5e36-4fac-a06d-7961ccb64091 ]] {\r\n",
       "x: String\r\n",
       "y: A\r\n",
       "}\r\n",
       "comp usage \"a: A\" as E3  <<(U,orange)attribute>> [[psysml:50405f72-7bb1-41da-960b-ed203bf92c2d ]] {\r\n",
       "}\r\n",
       "rec def \"F\" as E4  <<(D,brown)calculation def>> [[psysml:84637ab1-2e14-49ab-80b7-3fb2aa846372 ]] {\r\n",
       "portin \"p\" as E5  [[psysml:64e82b47-cc13-4353-a930-54201d4c743b ]] \r\n",
       "portin \"q\" as E6  [[psysml:647ae971-dc5c-461d-bddf-e9c9561ef010 ]] \r\n",
       "}\r\n",
       "\r\n",
       "comp usage \"f\" as E7  <<(U,orange)attribute>> [[psysml:88b39ab3-39a3-49e4-a823-2b19bc6cfd18 ]] {\r\n",
       "}\r\n",
       "comp usage \"g\" as E8  <<(U,orange)attribute>> [[psysml:3f28e8b6-a431-4098-a991-c6c646c27e19 ]] {\r\n",
       "}\r\n",
       "comp usage \"b\" as E9  <<(U,orange)attribute>> [[psysml:a48346b2-888a-436e-97f1-e60fac760a88 ]] {\r\n",
       "}\r\n",
       "comp usage \"c\" as E10  <<(U,orange)attribute>> [[psysml:952d2fa1-4eb4-490f-be08-21606a0b2581 ]] {\r\n",
       "}\r\n",
       "E3 - -:|> E2 [[psysml:7569b902-ac88-47a0-a36a-be78510f169c ]] \r\n",
       "}\r\n",
       "@enduml\r\n",
       "\n",
       "PlantUML version 1.2020.13(Sat Jun 13 12:26:38 UTC 2020)\n",
       "(EPL source distribution)\n",
       "Java Runtime: OpenJDK Runtime Environment\n",
       "JVM: OpenJDK 64-Bit Server VM\n",
       "Default Encoding: UTF-8\n",
       "Language: en\n",
       "Country: null\n",
       "--></g></svg>"
      ]
     },
     "execution_count": 36,
     "metadata": {},
     "output_type": "execute_result"
    }
   ],
   "source": [
    "%viz --style=\"PLANTUML\" --view=\"MIXED\" \"ParameterTest\""
   ]
  },
  {
   "cell_type": "code",
   "execution_count": 37,
   "id": "distinguished-cattle",
   "metadata": {
    "execution": {
     "iopub.execute_input": "2021-03-26T09:13:02.694232Z",
     "iopub.status.busy": "2021-03-26T09:13:02.693429Z",
     "iopub.status.idle": "2021-03-26T09:13:02.743538Z",
     "shell.execute_reply": "2021-03-26T09:13:02.743256Z"
    }
   },
   "outputs": [
    {
     "data": {
      "image/svg+xml": [
       "<?xml version=\"1.0\" encoding=\"UTF-8\" standalone=\"no\"?><svg xmlns=\"http://www.w3.org/2000/svg\" xmlns:xlink=\"http://www.w3.org/1999/xlink\" contentScriptType=\"application/ecmascript\" contentStyleType=\"text/css\" height=\"263px\" preserveAspectRatio=\"none\" style=\"width:740px;height:263px;\" version=\"1.1\" viewBox=\"0 0 740 263\" width=\"740px\" zoomAndPan=\"magnify\"><defs/><g><!--MD5=[fbc87193dbaf4d95561dea2c320d4a47]\n",
       "cluster E1--><a href=\"psysml:934b4cb7-0388-44aa-8a43-948e0e0270d7\" target=\"_top\" title=\"psysml:934b4cb7-0388-44aa-8a43-948e0e0270d7\" xlink:actuate=\"onRequest\" xlink:href=\"psysml:934b4cb7-0388-44aa-8a43-948e0e0270d7\" xlink:show=\"new\" xlink:title=\"psysml:934b4cb7-0388-44aa-8a43-948e0e0270d7\" xlink:type=\"simple\"><polygon fill=\"#FFFFFF\" points=\"16,6,139,6,146,28.2969,718,28.2969,718,251,16,251,16,6\" style=\"stroke: #000000; stroke-width: 1.5;\"/><line style=\"stroke: #000000; stroke-width: 1.5;\" x1=\"16\" x2=\"146\" y1=\"28.2969\" y2=\"28.2969\"/><text fill=\"#000000\" font-family=\"sans-serif\" font-size=\"14\" font-weight=\"bold\" lengthAdjust=\"spacingAndGlyphs\" textLength=\"117\" x=\"20\" y=\"20.9951\">ParameterTest</text></a><!--MD5=[f6df4d0ebaf0b5dfb2ced0ae5af7c670]\n",
       "cluster E4--><a href=\"psysml:84637ab1-2e14-49ab-80b7-3fb2aa846372\" target=\"_top\" title=\"psysml:84637ab1-2e14-49ab-80b7-3fb2aa846372\" xlink:actuate=\"onRequest\" xlink:href=\"psysml:84637ab1-2e14-49ab-80b7-3fb2aa846372\" xlink:show=\"new\" xlink:title=\"psysml:84637ab1-2e14-49ab-80b7-3fb2aa846372\" xlink:type=\"simple\"><rect fill=\"#FFFFFF\" height=\"160.5\" id=\"E4\" style=\"stroke: #383838; stroke-width: 1.5;\" width=\"148\" x=\"554\" y=\"64\"/><rect fill=\"#F8F8F8\" height=\"37.9375\" style=\"stroke: #383838; stroke-width: 1.5;\" width=\"148\" x=\"554\" y=\"64\"/><text fill=\"#000000\" font-family=\"sans-serif\" font-size=\"12\" font-style=\"italic\" lengthAdjust=\"spacingAndGlyphs\" textLength=\"106\" x=\"575\" y=\"80.1387\">«calculation def»</text><text fill=\"#000000\" font-family=\"sans-serif\" font-size=\"12\" lengthAdjust=\"spacingAndGlyphs\" textLength=\"7\" x=\"624.5\" y=\"94.1074\">F</text></a><!--MD5=[b4997ac47864f28c2f74865a473b2911]\n",
       "class E2--><a href=\"psysml:129c5bc9-5e36-4fac-a06d-7961ccb64091\" target=\"_top\" title=\"psysml:129c5bc9-5e36-4fac-a06d-7961ccb64091\" xlink:actuate=\"onRequest\" xlink:href=\"psysml:129c5bc9-5e36-4fac-a06d-7961ccb64091\" xlink:show=\"new\" xlink:title=\"psysml:129c5bc9-5e36-4fac-a06d-7961ccb64091\" xlink:type=\"simple\"><rect fill=\"#FFFFFF\" height=\"88.3516\" id=\"E2\" style=\"stroke: #383838; stroke-width: 1.5;\" width=\"95\" x=\"422.5\" y=\"147\"/><text fill=\"#000000\" font-family=\"sans-serif\" font-size=\"12\" font-style=\"italic\" lengthAdjust=\"spacingAndGlyphs\" textLength=\"93\" x=\"423.5\" y=\"163.1387\">«attribute def»</text><text fill=\"#000000\" font-family=\"sans-serif\" font-size=\"12\" lengthAdjust=\"spacingAndGlyphs\" textLength=\"8\" x=\"466\" y=\"177.1074\">A</text><line style=\"stroke: #383838; stroke-width: 1.5;\" x1=\"423.5\" x2=\"516.5\" y1=\"184.9375\" y2=\"184.9375\"/><text fill=\"#000000\" font-family=\"sans-serif\" font-size=\"11\" lengthAdjust=\"spacingAndGlyphs\" textLength=\"48\" x=\"428.5\" y=\"215.9526\">x: String</text><text fill=\"#000000\" font-family=\"sans-serif\" font-size=\"11\" lengthAdjust=\"spacingAndGlyphs\" textLength=\"21\" x=\"428.5\" y=\"228.7573\">y: A</text><line style=\"stroke: #383838; stroke-width: 1.0;\" x1=\"423.5\" x2=\"442.5\" y1=\"199.3398\" y2=\"199.3398\"/><text fill=\"#000000\" font-family=\"sans-serif\" font-size=\"11\" lengthAdjust=\"spacingAndGlyphs\" textLength=\"55\" x=\"442.5\" y=\"202.6479\">attributes</text><line style=\"stroke: #383838; stroke-width: 1.0;\" x1=\"497.5\" x2=\"516.5\" y1=\"199.3398\" y2=\"199.3398\"/></a><!--MD5=[09b614a08d8cba4a07c9adeb5e0fee81]\n",
       "class E3--><a href=\"psysml:50405f72-7bb1-41da-960b-ed203bf92c2d\" target=\"_top\" title=\"psysml:50405f72-7bb1-41da-960b-ed203bf92c2d\" xlink:actuate=\"onRequest\" xlink:href=\"psysml:50405f72-7bb1-41da-960b-ed203bf92c2d\" xlink:show=\"new\" xlink:title=\"psysml:50405f72-7bb1-41da-960b-ed203bf92c2d\" xlink:type=\"simple\"><rect fill=\"#FFFFFF\" height=\"45.9375\" id=\"E3\" rx=\"10\" ry=\"10\" style=\"stroke: #383838; stroke-width: 1.5;\" width=\"71\" x=\"456.5\" y=\"41\"/><text fill=\"#000000\" font-family=\"sans-serif\" font-size=\"12\" font-style=\"italic\" lengthAdjust=\"spacingAndGlyphs\" textLength=\"69\" x=\"457.5\" y=\"57.1387\">«attribute»</text><text fill=\"#000000\" font-family=\"sans-serif\" font-size=\"12\" lengthAdjust=\"spacingAndGlyphs\" textLength=\"24\" x=\"480\" y=\"71.1074\">a: A</text><line style=\"stroke: #383838; stroke-width: 1.5;\" x1=\"457.5\" x2=\"526.5\" y1=\"78.9375\" y2=\"78.9375\"/></a><!--MD5=[2156ba9850f5573cc1fc38a6a4b2f02b]\n",
       "class E7--><a href=\"psysml:88b39ab3-39a3-49e4-a823-2b19bc6cfd18\" target=\"_top\" title=\"psysml:88b39ab3-39a3-49e4-a823-2b19bc6cfd18\" xlink:actuate=\"onRequest\" xlink:href=\"psysml:88b39ab3-39a3-49e4-a823-2b19bc6cfd18\" xlink:show=\"new\" xlink:title=\"psysml:88b39ab3-39a3-49e4-a823-2b19bc6cfd18\" xlink:type=\"simple\"><rect fill=\"#FFFFFF\" height=\"45.9375\" id=\"E7\" rx=\"10\" ry=\"10\" style=\"stroke: #383838; stroke-width: 1.5;\" width=\"71\" x=\"350.5\" y=\"41\"/><text fill=\"#000000\" font-family=\"sans-serif\" font-size=\"12\" font-style=\"italic\" lengthAdjust=\"spacingAndGlyphs\" textLength=\"69\" x=\"351.5\" y=\"57.1387\">«attribute»</text><text fill=\"#000000\" font-family=\"sans-serif\" font-size=\"12\" lengthAdjust=\"spacingAndGlyphs\" textLength=\"4\" x=\"384\" y=\"71.1074\">f</text><line style=\"stroke: #383838; stroke-width: 1.5;\" x1=\"351.5\" x2=\"420.5\" y1=\"78.9375\" y2=\"78.9375\"/></a><!--MD5=[b9389687b975829384b498ac4b7476b2]\n",
       "class E8--><a href=\"psysml:3f28e8b6-a431-4098-a991-c6c646c27e19\" target=\"_top\" title=\"psysml:3f28e8b6-a431-4098-a991-c6c646c27e19\" xlink:actuate=\"onRequest\" xlink:href=\"psysml:3f28e8b6-a431-4098-a991-c6c646c27e19\" xlink:show=\"new\" xlink:title=\"psysml:3f28e8b6-a431-4098-a991-c6c646c27e19\" xlink:type=\"simple\"><rect fill=\"#FFFFFF\" height=\"45.9375\" id=\"E8\" rx=\"10\" ry=\"10\" style=\"stroke: #383838; stroke-width: 1.5;\" width=\"71\" x=\"244.5\" y=\"41\"/><text fill=\"#000000\" font-family=\"sans-serif\" font-size=\"12\" font-style=\"italic\" lengthAdjust=\"spacingAndGlyphs\" textLength=\"69\" x=\"245.5\" y=\"57.1387\">«attribute»</text><text fill=\"#000000\" font-family=\"sans-serif\" font-size=\"12\" lengthAdjust=\"spacingAndGlyphs\" textLength=\"8\" x=\"276\" y=\"71.1074\">g</text><line style=\"stroke: #383838; stroke-width: 1.5;\" x1=\"245.5\" x2=\"314.5\" y1=\"78.9375\" y2=\"78.9375\"/></a><!--MD5=[fd4143e9d270a159db93a4ea2a975926]\n",
       "class E9--><a href=\"psysml:a48346b2-888a-436e-97f1-e60fac760a88\" target=\"_top\" title=\"psysml:a48346b2-888a-436e-97f1-e60fac760a88\" xlink:actuate=\"onRequest\" xlink:href=\"psysml:a48346b2-888a-436e-97f1-e60fac760a88\" xlink:show=\"new\" xlink:title=\"psysml:a48346b2-888a-436e-97f1-e60fac760a88\" xlink:type=\"simple\"><rect fill=\"#FFFFFF\" height=\"45.9375\" id=\"E9\" rx=\"10\" ry=\"10\" style=\"stroke: #383838; stroke-width: 1.5;\" width=\"71\" x=\"138.5\" y=\"41\"/><text fill=\"#000000\" font-family=\"sans-serif\" font-size=\"12\" font-style=\"italic\" lengthAdjust=\"spacingAndGlyphs\" textLength=\"69\" x=\"139.5\" y=\"57.1387\">«attribute»</text><text fill=\"#000000\" font-family=\"sans-serif\" font-size=\"12\" lengthAdjust=\"spacingAndGlyphs\" textLength=\"8\" x=\"170\" y=\"71.1074\">b</text><line style=\"stroke: #383838; stroke-width: 1.5;\" x1=\"139.5\" x2=\"208.5\" y1=\"78.9375\" y2=\"78.9375\"/></a><!--MD5=[96f4274e9e20536e775497830990834d]\n",
       "class E10--><a href=\"psysml:952d2fa1-4eb4-490f-be08-21606a0b2581\" target=\"_top\" title=\"psysml:952d2fa1-4eb4-490f-be08-21606a0b2581\" xlink:actuate=\"onRequest\" xlink:href=\"psysml:952d2fa1-4eb4-490f-be08-21606a0b2581\" xlink:show=\"new\" xlink:title=\"psysml:952d2fa1-4eb4-490f-be08-21606a0b2581\" xlink:type=\"simple\"><rect fill=\"#FFFFFF\" height=\"45.9375\" id=\"E10\" rx=\"10\" ry=\"10\" style=\"stroke: #383838; stroke-width: 1.5;\" width=\"71\" x=\"32.5\" y=\"41\"/><text fill=\"#000000\" font-family=\"sans-serif\" font-size=\"12\" font-style=\"italic\" lengthAdjust=\"spacingAndGlyphs\" textLength=\"69\" x=\"33.5\" y=\"57.1387\">«attribute»</text><text fill=\"#000000\" font-family=\"sans-serif\" font-size=\"12\" lengthAdjust=\"spacingAndGlyphs\" textLength=\"7\" x=\"64.5\" y=\"71.1074\">c</text><line style=\"stroke: #383838; stroke-width: 1.5;\" x1=\"33.5\" x2=\"102.5\" y1=\"78.9375\" y2=\"78.9375\"/></a><text fill=\"#000000\" font-family=\"sans-serif\" font-size=\"14\" lengthAdjust=\"spacingAndGlyphs\" textLength=\"9\" x=\"567.5\" y=\"42.6982\">p</text><rect fill=\"#383838\" height=\"12\" style=\"stroke: #F8F8F8; stroke-width: 1.5;\" width=\"12\" x=\"566\" y=\"58\"/><text fill=\"#000000\" font-family=\"sans-serif\" font-size=\"14\" lengthAdjust=\"spacingAndGlyphs\" textLength=\"9\" x=\"614.5\" y=\"42.6982\">q</text><rect fill=\"#383838\" height=\"12\" style=\"stroke: #F8F8F8; stroke-width: 1.5;\" width=\"12\" x=\"613\" y=\"58\"/><!--MD5=[05d275557350bfb9b23a4ef7222b4c39]\n",
       "link E3 to E2--><a href=\"psysml:7569b902-ac88-47a0-a36a-be78510f169c\" target=\"_top\" title=\"psysml:7569b902-ac88-47a0-a36a-be78510f169c\" xlink:actuate=\"onRequest\" xlink:href=\"psysml:7569b902-ac88-47a0-a36a-be78510f169c\" xlink:show=\"new\" xlink:title=\"psysml:7569b902-ac88-47a0-a36a-be78510f169c\" xlink:type=\"simple\"><path d=\"M488.12,87.06 C486.14,98.3 483.62,112.6 481.1,126.95 \" fill=\"none\" id=\"E3-&gt;E2\" style=\"stroke: #383838; stroke-width: 1.0;\"/><polygon fill=\"#FFFFFF\" points=\"477.58,146.93,473.9835,127.0035,487.7711,129.4331,477.58,146.93\" style=\"stroke: #383838; stroke-width: 1.0;\"/><ellipse cx=\"476.9423\" cy=\"121.7371\" fill=\"#383838\" rx=\"2\" ry=\"2\" style=\"stroke: #383838; stroke-width: 1.0;\"/><ellipse cx=\"486.7906\" cy=\"123.4725\" fill=\"#383838\" rx=\"2\" ry=\"2\" style=\"stroke: #383838; stroke-width: 1.0;\"/></a><!--MD5=[48997166c08ed20f6df4eefb8c713f8a]\n",
       "@startuml\r\n",
       "skinparam monochrome true\r\n",
       "skinparam classbackgroundcolor white\r\n",
       "skinparam shadowing false\r\n",
       "skinparam wrapWidth 300\r\n",
       "hide circle\r\n",
       "\r\n",
       "package \"ParameterTest\" as E1  [[psysml:934b4cb7-0388-44aa-8a43-948e0e0270d7 ]]  {\r\n",
       "comp def \"A\" as E2  <<(T,blue)attribute def>> [[psysml:129c5bc9-5e36-4fac-a06d-7961ccb64091 ]] {\r\n",
       "- - attributes - -\r\n",
       "x: String\r\n",
       "y: A\r\n",
       "}\r\n",
       "comp usage \"a: A\" as E3  <<(T,blue)attribute>> [[psysml:50405f72-7bb1-41da-960b-ed203bf92c2d ]] {\r\n",
       "}\r\n",
       "rec def \"F\" as E4  <<(T,blue)calculation def>> [[psysml:84637ab1-2e14-49ab-80b7-3fb2aa846372 ]] {\r\n",
       "portin \"p\" as E5  [[psysml:64e82b47-cc13-4353-a930-54201d4c743b ]] \r\n",
       "portin \"q\" as E6  [[psysml:647ae971-dc5c-461d-bddf-e9c9561ef010 ]] \r\n",
       "}\r\n",
       "\r\n",
       "comp usage \"f\" as E7  <<(T,blue)attribute>> [[psysml:88b39ab3-39a3-49e4-a823-2b19bc6cfd18 ]] {\r\n",
       "}\r\n",
       "comp usage \"g\" as E8  <<(T,blue)attribute>> [[psysml:3f28e8b6-a431-4098-a991-c6c646c27e19 ]] {\r\n",
       "}\r\n",
       "comp usage \"b\" as E9  <<(T,blue)attribute>> [[psysml:a48346b2-888a-436e-97f1-e60fac760a88 ]] {\r\n",
       "}\r\n",
       "comp usage \"c\" as E10  <<(T,blue)attribute>> [[psysml:952d2fa1-4eb4-490f-be08-21606a0b2581 ]] {\r\n",
       "}\r\n",
       "E3 - -:|> E2 [[psysml:7569b902-ac88-47a0-a36a-be78510f169c ]] \r\n",
       "}\r\n",
       "@enduml\r\n",
       "\n",
       "PlantUML version 1.2020.13(Sat Jun 13 12:26:38 UTC 2020)\n",
       "(EPL source distribution)\n",
       "Java Runtime: OpenJDK Runtime Environment\n",
       "JVM: OpenJDK 64-Bit Server VM\n",
       "Default Encoding: UTF-8\n",
       "Language: en\n",
       "Country: null\n",
       "--></g></svg>"
      ]
     },
     "execution_count": 37,
     "metadata": {},
     "output_type": "execute_result"
    }
   ],
   "source": [
    "%viz --style=\"DEFAULT\" --view=\"Default\" \"ParameterTest\""
   ]
  },
  {
   "cell_type": "code",
   "execution_count": 38,
   "id": "black-demonstration",
   "metadata": {
    "execution": {
     "iopub.execute_input": "2021-03-26T09:13:02.793275Z",
     "iopub.status.busy": "2021-03-26T09:13:02.792787Z",
     "iopub.status.idle": "2021-03-26T09:13:02.835422Z",
     "shell.execute_reply": "2021-03-26T09:13:02.834266Z"
    }
   },
   "outputs": [
    {
     "data": {
      "image/svg+xml": [
       "<?xml version=\"1.0\" encoding=\"UTF-8\" standalone=\"no\"?><svg xmlns=\"http://www.w3.org/2000/svg\" xmlns:xlink=\"http://www.w3.org/1999/xlink\" contentScriptType=\"application/ecmascript\" contentStyleType=\"text/css\" height=\"280px\" preserveAspectRatio=\"none\" style=\"width:710px;height:280px;\" version=\"1.1\" viewBox=\"0 0 710 280\" width=\"710px\" zoomAndPan=\"magnify\"><defs/><g><!--MD5=[fbc87193dbaf4d95561dea2c320d4a47]\n",
       "cluster E1--><a href=\"psysml:934b4cb7-0388-44aa-8a43-948e0e0270d7\" target=\"_top\" title=\"psysml:934b4cb7-0388-44aa-8a43-948e0e0270d7\" xlink:actuate=\"onRequest\" xlink:href=\"psysml:934b4cb7-0388-44aa-8a43-948e0e0270d7\" xlink:show=\"new\" xlink:title=\"psysml:934b4cb7-0388-44aa-8a43-948e0e0270d7\" xlink:type=\"simple\"><polygon fill=\"#FFFFFF\" points=\"16,6,139,6,146,28.2969,688,28.2969,688,268,16,268,16,6\" style=\"stroke: #000000; stroke-width: 1.5;\"/><line style=\"stroke: #000000; stroke-width: 1.5;\" x1=\"16\" x2=\"146\" y1=\"28.2969\" y2=\"28.2969\"/><text fill=\"#000000\" font-family=\"sans-serif\" font-size=\"14\" font-weight=\"bold\" lengthAdjust=\"spacingAndGlyphs\" textLength=\"117\" x=\"20\" y=\"20.9951\">ParameterTest</text></a><!--MD5=[b4997ac47864f28c2f74865a473b2911]\n",
       "class E2--><a href=\"psysml:129c5bc9-5e36-4fac-a06d-7961ccb64091\" target=\"_top\" title=\"psysml:129c5bc9-5e36-4fac-a06d-7961ccb64091\" xlink:actuate=\"onRequest\" xlink:href=\"psysml:129c5bc9-5e36-4fac-a06d-7961ccb64091\" xlink:show=\"new\" xlink:title=\"psysml:129c5bc9-5e36-4fac-a06d-7961ccb64091\" xlink:type=\"simple\"><rect fill=\"#FFFFFF\" height=\"88.3516\" id=\"E2\" style=\"stroke: #383838; stroke-width: 1.5;\" width=\"95\" x=\"498.5\" y=\"164\"/><text fill=\"#000000\" font-family=\"sans-serif\" font-size=\"12\" font-style=\"italic\" lengthAdjust=\"spacingAndGlyphs\" textLength=\"93\" x=\"499.5\" y=\"180.1387\">«attribute def»</text><text fill=\"#000000\" font-family=\"sans-serif\" font-size=\"12\" lengthAdjust=\"spacingAndGlyphs\" textLength=\"8\" x=\"542\" y=\"194.1074\">A</text><line style=\"stroke: #383838; stroke-width: 1.5;\" x1=\"499.5\" x2=\"592.5\" y1=\"201.9375\" y2=\"201.9375\"/><text fill=\"#000000\" font-family=\"sans-serif\" font-size=\"11\" lengthAdjust=\"spacingAndGlyphs\" textLength=\"48\" x=\"504.5\" y=\"232.9526\">x: String</text><text fill=\"#000000\" font-family=\"sans-serif\" font-size=\"11\" lengthAdjust=\"spacingAndGlyphs\" textLength=\"21\" x=\"504.5\" y=\"245.7573\">y: A</text><line style=\"stroke: #383838; stroke-width: 1.0;\" x1=\"499.5\" x2=\"518.5\" y1=\"216.3398\" y2=\"216.3398\"/><text fill=\"#000000\" font-family=\"sans-serif\" font-size=\"11\" lengthAdjust=\"spacingAndGlyphs\" textLength=\"55\" x=\"518.5\" y=\"219.6479\">attributes</text><line style=\"stroke: #383838; stroke-width: 1.0;\" x1=\"573.5\" x2=\"592.5\" y1=\"216.3398\" y2=\"216.3398\"/></a><!--MD5=[09b614a08d8cba4a07c9adeb5e0fee81]\n",
       "class E3--><a href=\"psysml:50405f72-7bb1-41da-960b-ed203bf92c2d\" target=\"_top\" title=\"psysml:50405f72-7bb1-41da-960b-ed203bf92c2d\" xlink:actuate=\"onRequest\" xlink:href=\"psysml:50405f72-7bb1-41da-960b-ed203bf92c2d\" xlink:show=\"new\" xlink:title=\"psysml:50405f72-7bb1-41da-960b-ed203bf92c2d\" xlink:type=\"simple\"><rect fill=\"#FFFFFF\" height=\"45.9375\" id=\"E3\" rx=\"10\" ry=\"10\" style=\"stroke: #383838; stroke-width: 1.5;\" width=\"71\" x=\"600.5\" y=\"41\"/><text fill=\"#000000\" font-family=\"sans-serif\" font-size=\"12\" font-style=\"italic\" lengthAdjust=\"spacingAndGlyphs\" textLength=\"69\" x=\"601.5\" y=\"57.1387\">«attribute»</text><text fill=\"#000000\" font-family=\"sans-serif\" font-size=\"12\" lengthAdjust=\"spacingAndGlyphs\" textLength=\"24\" x=\"624\" y=\"71.1074\">a: A</text><line style=\"stroke: #383838; stroke-width: 1.5;\" x1=\"601.5\" x2=\"670.5\" y1=\"78.9375\" y2=\"78.9375\"/></a><!--MD5=[ebbe1d658d1005bcc118a6aa81145e00]\n",
       "class E4--><a href=\"psysml:84637ab1-2e14-49ab-80b7-3fb2aa846372\" target=\"_top\" title=\"psysml:84637ab1-2e14-49ab-80b7-3fb2aa846372\" xlink:actuate=\"onRequest\" xlink:href=\"psysml:84637ab1-2e14-49ab-80b7-3fb2aa846372\" xlink:show=\"new\" xlink:title=\"psysml:84637ab1-2e14-49ab-80b7-3fb2aa846372\" xlink:type=\"simple\"><rect fill=\"#FFFFFF\" height=\"45.9375\" id=\"E4\" style=\"stroke: #383838; stroke-width: 1.5;\" width=\"108\" x=\"457\" y=\"41\"/><text fill=\"#000000\" font-family=\"sans-serif\" font-size=\"12\" font-style=\"italic\" lengthAdjust=\"spacingAndGlyphs\" textLength=\"106\" x=\"458\" y=\"57.1387\">«calculation def»</text><text fill=\"#000000\" font-family=\"sans-serif\" font-size=\"12\" lengthAdjust=\"spacingAndGlyphs\" textLength=\"7\" x=\"507.5\" y=\"71.1074\">F</text><line style=\"stroke: #383838; stroke-width: 1.5;\" x1=\"458\" x2=\"564\" y1=\"78.9375\" y2=\"78.9375\"/></a><!--MD5=[270fce915f116d4de14055a7c1d9a0f3]\n",
       "class E5--><a href=\"psysml:88b39ab3-39a3-49e4-a823-2b19bc6cfd18\" target=\"_top\" title=\"psysml:88b39ab3-39a3-49e4-a823-2b19bc6cfd18\" xlink:actuate=\"onRequest\" xlink:href=\"psysml:88b39ab3-39a3-49e4-a823-2b19bc6cfd18\" xlink:show=\"new\" xlink:title=\"psysml:88b39ab3-39a3-49e4-a823-2b19bc6cfd18\" xlink:type=\"simple\"><rect fill=\"#FFFFFF\" height=\"45.9375\" id=\"E5\" rx=\"10\" ry=\"10\" style=\"stroke: #383838; stroke-width: 1.5;\" width=\"71\" x=\"350.5\" y=\"41\"/><text fill=\"#000000\" font-family=\"sans-serif\" font-size=\"12\" font-style=\"italic\" lengthAdjust=\"spacingAndGlyphs\" textLength=\"69\" x=\"351.5\" y=\"57.1387\">«attribute»</text><text fill=\"#000000\" font-family=\"sans-serif\" font-size=\"12\" lengthAdjust=\"spacingAndGlyphs\" textLength=\"4\" x=\"384\" y=\"71.1074\">f</text><line style=\"stroke: #383838; stroke-width: 1.5;\" x1=\"351.5\" x2=\"420.5\" y1=\"78.9375\" y2=\"78.9375\"/></a><!--MD5=[60a26617385b1d2d0262a64233df1f8d]\n",
       "class E6--><a href=\"psysml:3f28e8b6-a431-4098-a991-c6c646c27e19\" target=\"_top\" title=\"psysml:3f28e8b6-a431-4098-a991-c6c646c27e19\" xlink:actuate=\"onRequest\" xlink:href=\"psysml:3f28e8b6-a431-4098-a991-c6c646c27e19\" xlink:show=\"new\" xlink:title=\"psysml:3f28e8b6-a431-4098-a991-c6c646c27e19\" xlink:type=\"simple\"><rect fill=\"#FFFFFF\" height=\"45.9375\" id=\"E6\" rx=\"10\" ry=\"10\" style=\"stroke: #383838; stroke-width: 1.5;\" width=\"71\" x=\"244.5\" y=\"41\"/><text fill=\"#000000\" font-family=\"sans-serif\" font-size=\"12\" font-style=\"italic\" lengthAdjust=\"spacingAndGlyphs\" textLength=\"69\" x=\"245.5\" y=\"57.1387\">«attribute»</text><text fill=\"#000000\" font-family=\"sans-serif\" font-size=\"12\" lengthAdjust=\"spacingAndGlyphs\" textLength=\"8\" x=\"276\" y=\"71.1074\">g</text><line style=\"stroke: #383838; stroke-width: 1.5;\" x1=\"245.5\" x2=\"314.5\" y1=\"78.9375\" y2=\"78.9375\"/></a><!--MD5=[2156ba9850f5573cc1fc38a6a4b2f02b]\n",
       "class E7--><a href=\"psysml:a48346b2-888a-436e-97f1-e60fac760a88\" target=\"_top\" title=\"psysml:a48346b2-888a-436e-97f1-e60fac760a88\" xlink:actuate=\"onRequest\" xlink:href=\"psysml:a48346b2-888a-436e-97f1-e60fac760a88\" xlink:show=\"new\" xlink:title=\"psysml:a48346b2-888a-436e-97f1-e60fac760a88\" xlink:type=\"simple\"><rect fill=\"#FFFFFF\" height=\"45.9375\" id=\"E7\" rx=\"10\" ry=\"10\" style=\"stroke: #383838; stroke-width: 1.5;\" width=\"71\" x=\"138.5\" y=\"41\"/><text fill=\"#000000\" font-family=\"sans-serif\" font-size=\"12\" font-style=\"italic\" lengthAdjust=\"spacingAndGlyphs\" textLength=\"69\" x=\"139.5\" y=\"57.1387\">«attribute»</text><text fill=\"#000000\" font-family=\"sans-serif\" font-size=\"12\" lengthAdjust=\"spacingAndGlyphs\" textLength=\"8\" x=\"170\" y=\"71.1074\">b</text><line style=\"stroke: #383838; stroke-width: 1.5;\" x1=\"139.5\" x2=\"208.5\" y1=\"78.9375\" y2=\"78.9375\"/></a><!--MD5=[b9389687b975829384b498ac4b7476b2]\n",
       "class E8--><a href=\"psysml:952d2fa1-4eb4-490f-be08-21606a0b2581\" target=\"_top\" title=\"psysml:952d2fa1-4eb4-490f-be08-21606a0b2581\" xlink:actuate=\"onRequest\" xlink:href=\"psysml:952d2fa1-4eb4-490f-be08-21606a0b2581\" xlink:show=\"new\" xlink:title=\"psysml:952d2fa1-4eb4-490f-be08-21606a0b2581\" xlink:type=\"simple\"><rect fill=\"#FFFFFF\" height=\"45.9375\" id=\"E8\" rx=\"10\" ry=\"10\" style=\"stroke: #383838; stroke-width: 1.5;\" width=\"71\" x=\"32.5\" y=\"41\"/><text fill=\"#000000\" font-family=\"sans-serif\" font-size=\"12\" font-style=\"italic\" lengthAdjust=\"spacingAndGlyphs\" textLength=\"69\" x=\"33.5\" y=\"57.1387\">«attribute»</text><text fill=\"#000000\" font-family=\"sans-serif\" font-size=\"12\" lengthAdjust=\"spacingAndGlyphs\" textLength=\"7\" x=\"64.5\" y=\"71.1074\">c</text><line style=\"stroke: #383838; stroke-width: 1.5;\" x1=\"33.5\" x2=\"102.5\" y1=\"78.9375\" y2=\"78.9375\"/></a><!--MD5=[05d275557350bfb9b23a4ef7222b4c39]\n",
       "link E3 to E2--><a href=\"psysml:7569b902-ac88-47a0-a36a-be78510f169c\" target=\"_top\" title=\"psysml:7569b902-ac88-47a0-a36a-be78510f169c\" xlink:actuate=\"onRequest\" xlink:href=\"psysml:7569b902-ac88-47a0-a36a-be78510f169c\" xlink:show=\"new\" xlink:title=\"psysml:7569b902-ac88-47a0-a36a-be78510f169c\" xlink:type=\"simple\"><path d=\"M621.94,87.19 C611.77,103.23 597.51,125.73 584.09,146.9 \" fill=\"none\" id=\"E3-&gt;E2\" style=\"stroke: #383838; stroke-width: 1.0;\"/><polygon fill=\"#FFFFFF\" points=\"573.37,163.82,577.6195,144.0225,589.448,151.5115,573.37,163.82\" style=\"stroke: #383838; stroke-width: 1.0;\"/><ellipse cx=\"582.3584\" cy=\"140.2764\" fill=\"#383838\" rx=\"2\" ry=\"2\" style=\"stroke: #383838; stroke-width: 1.0;\"/><ellipse cx=\"590.8073\" cy=\"145.6258\" fill=\"#383838\" rx=\"2\" ry=\"2\" style=\"stroke: #383838; stroke-width: 1.0;\"/></a><!--MD5=[ddeed8deb2209213b62e6cfabaa108b2]\n",
       "reverse link E4 to E2--><a href=\"psysml:64e82b47-cc13-4353-a930-54201d4c743b\" target=\"_top\" title=\"psysml:64e82b47-cc13-4353-a930-54201d4c743b\" xlink:actuate=\"onRequest\" xlink:href=\"psysml:64e82b47-cc13-4353-a930-54201d4c743b\" xlink:show=\"new\" xlink:title=\"psysml:64e82b47-cc13-4353-a930-54201d4c743b\" xlink:type=\"simple\"><path d=\"M519.62,99.96 C524.37,119.25 530.31,143.36 535.36,163.82 \" fill=\"none\" id=\"E4&lt;-E2\" style=\"stroke: #383838; stroke-width: 1.0;\"/><polygon fill=\"#FFFFFF\" points=\"516.47,87.19,514.0229,93.9732,519.3432,98.841,521.7903,92.0577,516.47,87.19\" style=\"stroke: #383838; stroke-width: 1.0;\"/><text fill=\"#000000\" font-family=\"sans-serif\" font-size=\"13\" lengthAdjust=\"spacingAndGlyphs\" textLength=\"8\" x=\"528\" y=\"130.0669\">p</text></a><!--MD5=[3b29b7f3914b3898c9bb0694e5c3707b]\n",
       "@startuml\r\n",
       "skinparam monochrome true\r\n",
       "skinparam classbackgroundcolor white\r\n",
       "skinparam shadowing false\r\n",
       "skinparam wrapWidth 300\r\n",
       "hide circle\r\n",
       "\r\n",
       "package \"ParameterTest\" as E1  [[psysml:934b4cb7-0388-44aa-8a43-948e0e0270d7 ]]  {\r\n",
       "comp def \"A\" as E2  <<(T,blue)attribute def>> [[psysml:129c5bc9-5e36-4fac-a06d-7961ccb64091 ]] {\r\n",
       "- - attributes - -\r\n",
       "x: String\r\n",
       "y: A\r\n",
       "}\r\n",
       "comp usage \"a: A\" as E3  <<(T,blue)attribute>> [[psysml:50405f72-7bb1-41da-960b-ed203bf92c2d ]] {\r\n",
       "}\r\n",
       "comp def \"F\" as E4  <<(T,blue)calculation def>> [[psysml:84637ab1-2e14-49ab-80b7-3fb2aa846372 ]] {\r\n",
       "}\r\n",
       "comp usage \"f\" as E5  <<(T,blue)attribute>> [[psysml:88b39ab3-39a3-49e4-a823-2b19bc6cfd18 ]] {\r\n",
       "}\r\n",
       "comp usage \"g\" as E6  <<(T,blue)attribute>> [[psysml:3f28e8b6-a431-4098-a991-c6c646c27e19 ]] {\r\n",
       "}\r\n",
       "comp usage \"b\" as E7  <<(T,blue)attribute>> [[psysml:a48346b2-888a-436e-97f1-e60fac760a88 ]] {\r\n",
       "}\r\n",
       "comp usage \"c\" as E8  <<(T,blue)attribute>> [[psysml:952d2fa1-4eb4-490f-be08-21606a0b2581 ]] {\r\n",
       "}\r\n",
       "E3 - -:|> E2 [[psysml:7569b902-ac88-47a0-a36a-be78510f169c ]] \r\n",
       "E4 o- - E2 [[psysml:64e82b47-cc13-4353-a930-54201d4c743b ]] : p\r\n",
       "}\r\n",
       "@enduml\r\n",
       "\n",
       "PlantUML version 1.2020.13(Sat Jun 13 12:26:38 UTC 2020)\n",
       "(EPL source distribution)\n",
       "Java Runtime: OpenJDK Runtime Environment\n",
       "JVM: OpenJDK 64-Bit Server VM\n",
       "Default Encoding: UTF-8\n",
       "Language: en\n",
       "Country: null\n",
       "--></g></svg>"
      ]
     },
     "execution_count": 38,
     "metadata": {},
     "output_type": "execute_result"
    }
   ],
   "source": [
    "%viz --style=\"DEFAULT\" --view=\"Tree\" \"ParameterTest\""
   ]
  },
  {
   "cell_type": "code",
   "execution_count": 39,
   "id": "integrated-vehicle",
   "metadata": {
    "execution": {
     "iopub.execute_input": "2021-03-26T09:13:02.888180Z",
     "iopub.status.busy": "2021-03-26T09:13:02.887625Z",
     "iopub.status.idle": "2021-03-26T09:13:02.894606Z",
     "shell.execute_reply": "2021-03-26T09:13:02.893879Z"
    }
   },
   "outputs": [
    {
     "data": {
      "image/svg+xml": [
       "<?xml version=\"1.0\" encoding=\"UTF-8\" standalone=\"no\"?><svg xmlns=\"http://www.w3.org/2000/svg\" xmlns:xlink=\"http://www.w3.org/1999/xlink\" contentScriptType=\"application/ecmascript\" contentStyleType=\"text/css\" height=\"12px\" preserveAspectRatio=\"none\" style=\"width:12px;height:12px;\" version=\"1.1\" viewBox=\"0 0 12 12\" width=\"12px\" zoomAndPan=\"magnify\"><defs/><g><!--MD5=[c5f280e076d0d61ccf4b0f27871bda1d]\n",
       "@startuml\r\n",
       "skinparam monochrome true\r\n",
       "skinparam classbackgroundcolor white\r\n",
       "skinparam shadowing false\r\n",
       "skinparam wrapWidth 300\r\n",
       "hide circle\r\n",
       "\r\n",
       "@enduml\r\n",
       "\n",
       "PlantUML version 1.2020.13(Sat Jun 13 12:26:38 UTC 2020)\n",
       "(EPL source distribution)\n",
       "Java Runtime: OpenJDK Runtime Environment\n",
       "JVM: OpenJDK 64-Bit Server VM\n",
       "Default Encoding: UTF-8\n",
       "Language: en\n",
       "Country: null\n",
       "--></g></svg>"
      ]
     },
     "execution_count": 39,
     "metadata": {},
     "output_type": "execute_result"
    }
   ],
   "source": [
    "%viz --style=\"DEFAULT\" --view=\"State\" \"ParameterTest\""
   ]
  },
  {
   "cell_type": "code",
   "execution_count": 40,
   "id": "affiliated-senate",
   "metadata": {
    "execution": {
     "iopub.execute_input": "2021-03-26T09:13:02.949391Z",
     "iopub.status.busy": "2021-03-26T09:13:02.948430Z",
     "iopub.status.idle": "2021-03-26T09:13:02.987384Z",
     "shell.execute_reply": "2021-03-26T09:13:02.986078Z"
    }
   },
   "outputs": [
    {
     "data": {
      "image/svg+xml": [
       "<?xml version=\"1.0\" encoding=\"UTF-8\" standalone=\"no\"?><svg xmlns=\"http://www.w3.org/2000/svg\" xmlns:xlink=\"http://www.w3.org/1999/xlink\" contentScriptType=\"application/ecmascript\" contentStyleType=\"text/css\" height=\"123px\" preserveAspectRatio=\"none\" style=\"width:960px;height:123px;\" version=\"1.1\" viewBox=\"0 0 960 123\" width=\"960px\" zoomAndPan=\"magnify\"><defs/><g><!--MD5=[fbc87193dbaf4d95561dea2c320d4a47]\n",
       "cluster E1--><a href=\"psysml:934b4cb7-0388-44aa-8a43-948e0e0270d7\" target=\"_top\" title=\"psysml:934b4cb7-0388-44aa-8a43-948e0e0270d7\" xlink:actuate=\"onRequest\" xlink:href=\"psysml:934b4cb7-0388-44aa-8a43-948e0e0270d7\" xlink:show=\"new\" xlink:title=\"psysml:934b4cb7-0388-44aa-8a43-948e0e0270d7\" xlink:type=\"simple\"><polygon fill=\"#FFFFFF\" points=\"16,6,139,6,146,28.2969,938,28.2969,938,111,16,111,16,6\" style=\"stroke: #000000; stroke-width: 1.5;\"/><line style=\"stroke: #000000; stroke-width: 1.5;\" x1=\"16\" x2=\"146\" y1=\"28.2969\" y2=\"28.2969\"/><text fill=\"#000000\" font-family=\"sans-serif\" font-size=\"14\" font-weight=\"bold\" lengthAdjust=\"spacingAndGlyphs\" textLength=\"117\" x=\"20\" y=\"20.9951\">ParameterTest</text></a><!--MD5=[b4997ac47864f28c2f74865a473b2911]\n",
       "class E2--><a href=\"psysml:129c5bc9-5e36-4fac-a06d-7961ccb64091\" target=\"_top\" title=\"psysml:129c5bc9-5e36-4fac-a06d-7961ccb64091\" xlink:actuate=\"onRequest\" xlink:href=\"psysml:129c5bc9-5e36-4fac-a06d-7961ccb64091\" xlink:show=\"new\" xlink:title=\"psysml:129c5bc9-5e36-4fac-a06d-7961ccb64091\" xlink:type=\"simple\"><rect fill=\"#FFFFFF\" height=\"53.9375\" id=\"E2\" style=\"stroke: #383838; stroke-width: 1.5;\" width=\"143\" x=\"778.5\" y=\"41\"/><text fill=\"#000000\" font-family=\"sans-serif\" font-size=\"12\" font-style=\"italic\" lengthAdjust=\"spacingAndGlyphs\" textLength=\"141\" x=\"779.5\" y=\"57.1387\">«(T,blue)attribute def»</text><text fill=\"#000000\" font-family=\"sans-serif\" font-size=\"12\" lengthAdjust=\"spacingAndGlyphs\" textLength=\"8\" x=\"846\" y=\"71.1074\">A</text><line style=\"stroke: #383838; stroke-width: 1.5;\" x1=\"779.5\" x2=\"920.5\" y1=\"78.9375\" y2=\"78.9375\"/><line style=\"stroke: #383838; stroke-width: 1.5;\" x1=\"779.5\" x2=\"920.5\" y1=\"86.9375\" y2=\"86.9375\"/></a><!--MD5=[ebbe1d658d1005bcc118a6aa81145e00]\n",
       "class E4--><a href=\"psysml:84637ab1-2e14-49ab-80b7-3fb2aa846372\" target=\"_top\" title=\"psysml:84637ab1-2e14-49ab-80b7-3fb2aa846372\" xlink:actuate=\"onRequest\" xlink:href=\"psysml:84637ab1-2e14-49ab-80b7-3fb2aa846372\" xlink:show=\"new\" xlink:title=\"psysml:84637ab1-2e14-49ab-80b7-3fb2aa846372\" xlink:type=\"simple\"><rect fill=\"#FFFFFF\" height=\"53.9375\" id=\"E4\" style=\"stroke: #383838; stroke-width: 1.5;\" width=\"156\" x=\"587\" y=\"41\"/><text fill=\"#000000\" font-family=\"sans-serif\" font-size=\"12\" font-style=\"italic\" lengthAdjust=\"spacingAndGlyphs\" textLength=\"154\" x=\"588\" y=\"57.1387\">«(T,blue)calculation def»</text><text fill=\"#000000\" font-family=\"sans-serif\" font-size=\"12\" lengthAdjust=\"spacingAndGlyphs\" textLength=\"7\" x=\"661.5\" y=\"71.1074\">F</text><line style=\"stroke: #383838; stroke-width: 1.5;\" x1=\"588\" x2=\"742\" y1=\"78.9375\" y2=\"78.9375\"/><line style=\"stroke: #383838; stroke-width: 1.5;\" x1=\"588\" x2=\"742\" y1=\"86.9375\" y2=\"86.9375\"/></a><g id=\"E1.E3\"><a href=\"psysml:50405f72-7bb1-41da-960b-ed203bf92c2d\" target=\"_top\" title=\"psysml:50405f72-7bb1-41da-960b-ed203bf92c2d\" xlink:actuate=\"onRequest\" xlink:href=\"psysml:50405f72-7bb1-41da-960b-ed203bf92c2d\" xlink:show=\"new\" xlink:title=\"psysml:50405f72-7bb1-41da-960b-ed203bf92c2d\" xlink:type=\"simple\"><rect fill=\"#FFFFFF\" height=\"42.9375\" id=\"E3\" rx=\"10\" ry=\"10\" style=\"stroke: #383838; stroke-width: 1.5;\" width=\"76\" x=\"476\" y=\"46.5\"/><rect fill=\"#F8F8F8\" height=\"37.9375\" rx=\"10\" ry=\"10\" style=\"stroke: #F8F8F8; stroke-width: 1.5;\" width=\"76\" x=\"476\" y=\"46.5\"/><rect fill=\"#F8F8F8\" height=\"10\" style=\"stroke: #F8F8F8; stroke-width: 1.5;\" width=\"76\" x=\"476\" y=\"74.4375\"/><rect fill=\"none\" height=\"42.9375\" id=\"E3\" rx=\"10\" ry=\"10\" style=\"stroke: #383838; stroke-width: 1.5;\" width=\"76\" x=\"476\" y=\"46.5\"/><text fill=\"#000000\" font-family=\"sans-serif\" font-size=\"12\" font-style=\"italic\" lengthAdjust=\"spacingAndGlyphs\" textLength=\"69\" x=\"479.5\" y=\"62.6387\">«attribute»</text><text fill=\"#000000\" font-family=\"sans-serif\" font-size=\"12\" lengthAdjust=\"spacingAndGlyphs\" textLength=\"24\" x=\"502\" y=\"76.6074\">a: A</text></a></g><g id=\"E1.E5\"><a href=\"psysml:88b39ab3-39a3-49e4-a823-2b19bc6cfd18\" target=\"_top\" title=\"psysml:88b39ab3-39a3-49e4-a823-2b19bc6cfd18\" xlink:actuate=\"onRequest\" xlink:href=\"psysml:88b39ab3-39a3-49e4-a823-2b19bc6cfd18\" xlink:show=\"new\" xlink:title=\"psysml:88b39ab3-39a3-49e4-a823-2b19bc6cfd18\" xlink:type=\"simple\"><rect fill=\"#FFFFFF\" height=\"42.9375\" id=\"E5\" rx=\"10\" ry=\"10\" style=\"stroke: #383838; stroke-width: 1.5;\" width=\"76\" x=\"365\" y=\"46.5\"/><rect fill=\"#F8F8F8\" height=\"37.9375\" rx=\"10\" ry=\"10\" style=\"stroke: #F8F8F8; stroke-width: 1.5;\" width=\"76\" x=\"365\" y=\"46.5\"/><rect fill=\"#F8F8F8\" height=\"10\" style=\"stroke: #F8F8F8; stroke-width: 1.5;\" width=\"76\" x=\"365\" y=\"74.4375\"/><rect fill=\"none\" height=\"42.9375\" id=\"E5\" rx=\"10\" ry=\"10\" style=\"stroke: #383838; stroke-width: 1.5;\" width=\"76\" x=\"365\" y=\"46.5\"/><text fill=\"#000000\" font-family=\"sans-serif\" font-size=\"12\" font-style=\"italic\" lengthAdjust=\"spacingAndGlyphs\" textLength=\"69\" x=\"368.5\" y=\"62.6387\">«attribute»</text><text fill=\"#000000\" font-family=\"sans-serif\" font-size=\"12\" lengthAdjust=\"spacingAndGlyphs\" textLength=\"4\" x=\"401\" y=\"76.6074\">f</text></a></g><g id=\"E1.E6\"><a href=\"psysml:3f28e8b6-a431-4098-a991-c6c646c27e19\" target=\"_top\" title=\"psysml:3f28e8b6-a431-4098-a991-c6c646c27e19\" xlink:actuate=\"onRequest\" xlink:href=\"psysml:3f28e8b6-a431-4098-a991-c6c646c27e19\" xlink:show=\"new\" xlink:title=\"psysml:3f28e8b6-a431-4098-a991-c6c646c27e19\" xlink:type=\"simple\"><rect fill=\"#FFFFFF\" height=\"42.9375\" id=\"E6\" rx=\"10\" ry=\"10\" style=\"stroke: #383838; stroke-width: 1.5;\" width=\"76\" x=\"254\" y=\"46.5\"/><rect fill=\"#F8F8F8\" height=\"37.9375\" rx=\"10\" ry=\"10\" style=\"stroke: #F8F8F8; stroke-width: 1.5;\" width=\"76\" x=\"254\" y=\"46.5\"/><rect fill=\"#F8F8F8\" height=\"10\" style=\"stroke: #F8F8F8; stroke-width: 1.5;\" width=\"76\" x=\"254\" y=\"74.4375\"/><rect fill=\"none\" height=\"42.9375\" id=\"E6\" rx=\"10\" ry=\"10\" style=\"stroke: #383838; stroke-width: 1.5;\" width=\"76\" x=\"254\" y=\"46.5\"/><text fill=\"#000000\" font-family=\"sans-serif\" font-size=\"12\" font-style=\"italic\" lengthAdjust=\"spacingAndGlyphs\" textLength=\"69\" x=\"257.5\" y=\"62.6387\">«attribute»</text><text fill=\"#000000\" font-family=\"sans-serif\" font-size=\"12\" lengthAdjust=\"spacingAndGlyphs\" textLength=\"8\" x=\"288\" y=\"76.6074\">g</text></a></g><g id=\"E1.E7\"><a href=\"psysml:a48346b2-888a-436e-97f1-e60fac760a88\" target=\"_top\" title=\"psysml:a48346b2-888a-436e-97f1-e60fac760a88\" xlink:actuate=\"onRequest\" xlink:href=\"psysml:a48346b2-888a-436e-97f1-e60fac760a88\" xlink:show=\"new\" xlink:title=\"psysml:a48346b2-888a-436e-97f1-e60fac760a88\" xlink:type=\"simple\"><rect fill=\"#FFFFFF\" height=\"42.9375\" id=\"E7\" rx=\"10\" ry=\"10\" style=\"stroke: #383838; stroke-width: 1.5;\" width=\"76\" x=\"143\" y=\"46.5\"/><rect fill=\"#F8F8F8\" height=\"37.9375\" rx=\"10\" ry=\"10\" style=\"stroke: #F8F8F8; stroke-width: 1.5;\" width=\"76\" x=\"143\" y=\"46.5\"/><rect fill=\"#F8F8F8\" height=\"10\" style=\"stroke: #F8F8F8; stroke-width: 1.5;\" width=\"76\" x=\"143\" y=\"74.4375\"/><rect fill=\"none\" height=\"42.9375\" id=\"E7\" rx=\"10\" ry=\"10\" style=\"stroke: #383838; stroke-width: 1.5;\" width=\"76\" x=\"143\" y=\"46.5\"/><text fill=\"#000000\" font-family=\"sans-serif\" font-size=\"12\" font-style=\"italic\" lengthAdjust=\"spacingAndGlyphs\" textLength=\"69\" x=\"146.5\" y=\"62.6387\">«attribute»</text><text fill=\"#000000\" font-family=\"sans-serif\" font-size=\"12\" lengthAdjust=\"spacingAndGlyphs\" textLength=\"8\" x=\"177\" y=\"76.6074\">b</text></a></g><g id=\"E1.E8\"><a href=\"psysml:952d2fa1-4eb4-490f-be08-21606a0b2581\" target=\"_top\" title=\"psysml:952d2fa1-4eb4-490f-be08-21606a0b2581\" xlink:actuate=\"onRequest\" xlink:href=\"psysml:952d2fa1-4eb4-490f-be08-21606a0b2581\" xlink:show=\"new\" xlink:title=\"psysml:952d2fa1-4eb4-490f-be08-21606a0b2581\" xlink:type=\"simple\"><rect fill=\"#FFFFFF\" height=\"42.9375\" id=\"E8\" rx=\"10\" ry=\"10\" style=\"stroke: #383838; stroke-width: 1.5;\" width=\"76\" x=\"32\" y=\"46.5\"/><rect fill=\"#F8F8F8\" height=\"37.9375\" rx=\"10\" ry=\"10\" style=\"stroke: #F8F8F8; stroke-width: 1.5;\" width=\"76\" x=\"32\" y=\"46.5\"/><rect fill=\"#F8F8F8\" height=\"10\" style=\"stroke: #F8F8F8; stroke-width: 1.5;\" width=\"76\" x=\"32\" y=\"74.4375\"/><rect fill=\"none\" height=\"42.9375\" id=\"E8\" rx=\"10\" ry=\"10\" style=\"stroke: #383838; stroke-width: 1.5;\" width=\"76\" x=\"32\" y=\"46.5\"/><text fill=\"#000000\" font-family=\"sans-serif\" font-size=\"12\" font-style=\"italic\" lengthAdjust=\"spacingAndGlyphs\" textLength=\"69\" x=\"35.5\" y=\"62.6387\">«attribute»</text><text fill=\"#000000\" font-family=\"sans-serif\" font-size=\"12\" lengthAdjust=\"spacingAndGlyphs\" textLength=\"7\" x=\"66.5\" y=\"76.6074\">c</text></a></g><!--MD5=[49daf75d70da124abbb0bf7d08f41bf7]\n",
       "@startuml\r\n",
       "skinparam ranksep 8\r\n",
       "skinparam rectangle {\r\n",
       " backgroundColor<<block>> LightGreen\r\n",
       "}\r\n",
       "skinparam monochrome true\r\n",
       "skinparam classbackgroundcolor white\r\n",
       "skinparam shadowing false\r\n",
       "skinparam wrapWidth 300\r\n",
       "hide circle\r\n",
       "\r\n",
       "package \"ParameterTest\" as E1  [[psysml:934b4cb7-0388-44aa-8a43-948e0e0270d7 ]]  {\r\n",
       "def \"A\" as E2  <<(T,blue)attribute def>> [[psysml:129c5bc9-5e36-4fac-a06d-7961ccb64091 ]] \r\n",
       "rec usage \"a: A\" as E3  <<(T,blue)attribute>> [[psysml:50405f72-7bb1-41da-960b-ed203bf92c2d ]] {\r\n",
       "}\r\n",
       "def \"F\" as E4  <<(T,blue)calculation def>> [[psysml:84637ab1-2e14-49ab-80b7-3fb2aa846372 ]] \r\n",
       "rec usage \"f\" as E5  <<(T,blue)attribute>> [[psysml:88b39ab3-39a3-49e4-a823-2b19bc6cfd18 ]] {\r\n",
       "}\r\n",
       "rec usage \"g\" as E6  <<(T,blue)attribute>> [[psysml:3f28e8b6-a431-4098-a991-c6c646c27e19 ]] {\r\n",
       "}\r\n",
       "rec usage \"b\" as E7  <<(T,blue)attribute>> [[psysml:a48346b2-888a-436e-97f1-e60fac760a88 ]] {\r\n",
       "}\r\n",
       "rec usage \"c\" as E8  <<(T,blue)attribute>> [[psysml:952d2fa1-4eb4-490f-be08-21606a0b2581 ]] {\r\n",
       "}\r\n",
       "}\r\n",
       "@enduml\r\n",
       "\n",
       "PlantUML version 1.2020.13(Sat Jun 13 12:26:38 UTC 2020)\n",
       "(EPL source distribution)\n",
       "Java Runtime: OpenJDK Runtime Environment\n",
       "JVM: OpenJDK 64-Bit Server VM\n",
       "Default Encoding: UTF-8\n",
       "Language: en\n",
       "Country: null\n",
       "--></g></svg>"
      ]
     },
     "execution_count": 40,
     "metadata": {},
     "output_type": "execute_result"
    }
   ],
   "source": [
    "%viz --style=\"DEFAULT\" --view=\"Interconnection\" \"ParameterTest\""
   ]
  },
  {
   "cell_type": "code",
   "execution_count": 41,
   "id": "lightweight-sister",
   "metadata": {
    "execution": {
     "iopub.execute_input": "2021-03-26T09:13:03.042863Z",
     "iopub.status.busy": "2021-03-26T09:13:03.042523Z",
     "iopub.status.idle": "2021-03-26T09:13:03.063804Z",
     "shell.execute_reply": "2021-03-26T09:13:03.063502Z"
    }
   },
   "outputs": [
    {
     "data": {
      "image/svg+xml": [
       "<?xml version=\"1.0\" encoding=\"UTF-8\" standalone=\"no\"?><svg xmlns=\"http://www.w3.org/2000/svg\" xmlns:xlink=\"http://www.w3.org/1999/xlink\" contentScriptType=\"application/ecmascript\" contentStyleType=\"text/css\" height=\"126px\" preserveAspectRatio=\"none\" style=\"width:166px;height:126px;\" version=\"1.1\" viewBox=\"0 0 166 126\" width=\"166px\" zoomAndPan=\"magnify\"><defs/><g><!--MD5=[fbc87193dbaf4d95561dea2c320d4a47]\n",
       "cluster E1--><a href=\"psysml:84637ab1-2e14-49ab-80b7-3fb2aa846372\" target=\"_top\" title=\"psysml:84637ab1-2e14-49ab-80b7-3fb2aa846372\" xlink:actuate=\"onRequest\" xlink:href=\"psysml:84637ab1-2e14-49ab-80b7-3fb2aa846372\" xlink:show=\"new\" xlink:title=\"psysml:84637ab1-2e14-49ab-80b7-3fb2aa846372\" xlink:type=\"simple\"><rect fill=\"#FFFFFF\" height=\"73\" id=\"E1\" style=\"stroke: #383838; stroke-width: 1.5;\" width=\"148\" x=\"7\" y=\"42.0986\"/><rect fill=\"#F8F8F8\" height=\"37.9375\" style=\"stroke: #383838; stroke-width: 1.5;\" width=\"148\" x=\"7\" y=\"42.0986\"/><text fill=\"#000000\" font-family=\"sans-serif\" font-size=\"12\" font-style=\"italic\" lengthAdjust=\"spacingAndGlyphs\" textLength=\"106\" x=\"28\" y=\"58.2373\">«calculation def»</text><text fill=\"#000000\" font-family=\"sans-serif\" font-size=\"12\" lengthAdjust=\"spacingAndGlyphs\" textLength=\"7\" x=\"77.5\" y=\"72.2061\">F</text></a><text fill=\"#000000\" font-family=\"sans-serif\" font-size=\"14\" lengthAdjust=\"spacingAndGlyphs\" textLength=\"9\" x=\"20.5\" y=\"20.7969\">p</text><rect fill=\"#383838\" height=\"12\" style=\"stroke: #F8F8F8; stroke-width: 1.5;\" width=\"12\" x=\"19\" y=\"36.0986\"/><text fill=\"#000000\" font-family=\"sans-serif\" font-size=\"14\" lengthAdjust=\"spacingAndGlyphs\" textLength=\"9\" x=\"67.5\" y=\"20.7969\">q</text><rect fill=\"#383838\" height=\"12\" style=\"stroke: #F8F8F8; stroke-width: 1.5;\" width=\"12\" x=\"66\" y=\"36.0986\"/><!--MD5=[29a7964c23c09aa8e1cbd6695349c86a]\n",
       "@startuml\r\n",
       "skinparam ranksep 8\r\n",
       "skinparam monochrome true\r\n",
       "skinparam classbackgroundcolor white\r\n",
       "skinparam shadowing false\r\n",
       "skinparam wrapWidth 300\r\n",
       "hide circle\r\n",
       "\r\n",
       "rec def \"F\" as E1  <<(T,blue)calculation def>> [[psysml:84637ab1-2e14-49ab-80b7-3fb2aa846372 ]] {\r\n",
       "portin \"p\" as E2  [[psysml:64e82b47-cc13-4353-a930-54201d4c743b ]] \r\n",
       "portin \"q\" as E3  [[psysml:647ae971-dc5c-461d-bddf-e9c9561ef010 ]] \r\n",
       "}\r\n",
       "\r\n",
       "@enduml\r\n",
       "\n",
       "PlantUML version 1.2020.13(Sat Jun 13 12:26:38 UTC 2020)\n",
       "(EPL source distribution)\n",
       "Java Runtime: OpenJDK Runtime Environment\n",
       "JVM: OpenJDK 64-Bit Server VM\n",
       "Default Encoding: UTF-8\n",
       "Language: en\n",
       "Country: null\n",
       "--></g></svg>"
      ]
     },
     "execution_count": 41,
     "metadata": {},
     "output_type": "execute_result"
    }
   ],
   "source": [
    "%viz --style=\"DEFAULT\" --view=\"Action\" \"ParameterTest\""
   ]
  },
  {
   "cell_type": "code",
   "execution_count": 42,
   "id": "peaceful-waste",
   "metadata": {
    "execution": {
     "iopub.execute_input": "2021-03-26T09:13:03.116298Z",
     "iopub.status.busy": "2021-03-26T09:13:03.115494Z",
     "iopub.status.idle": "2021-03-26T09:13:03.166536Z",
     "shell.execute_reply": "2021-03-26T09:13:03.164664Z"
    }
   },
   "outputs": [
    {
     "data": {
      "image/svg+xml": [
       "<?xml version=\"1.0\" encoding=\"UTF-8\" standalone=\"no\"?><svg xmlns=\"http://www.w3.org/2000/svg\" xmlns:xlink=\"http://www.w3.org/1999/xlink\" contentScriptType=\"application/ecmascript\" contentStyleType=\"text/css\" height=\"280px\" preserveAspectRatio=\"none\" style=\"width:710px;height:280px;\" version=\"1.1\" viewBox=\"0 0 710 280\" width=\"710px\" zoomAndPan=\"magnify\"><defs/><g><!--MD5=[fbc87193dbaf4d95561dea2c320d4a47]\n",
       "cluster E1--><a href=\"psysml:934b4cb7-0388-44aa-8a43-948e0e0270d7\" target=\"_top\" title=\"psysml:934b4cb7-0388-44aa-8a43-948e0e0270d7\" xlink:actuate=\"onRequest\" xlink:href=\"psysml:934b4cb7-0388-44aa-8a43-948e0e0270d7\" xlink:show=\"new\" xlink:title=\"psysml:934b4cb7-0388-44aa-8a43-948e0e0270d7\" xlink:type=\"simple\"><polygon fill=\"#FFFFFF\" points=\"16,6,139,6,146,28.2969,688,28.2969,688,268,16,268,16,6\" style=\"stroke: #000000; stroke-width: 1.5;\"/><line style=\"stroke: #000000; stroke-width: 1.5;\" x1=\"16\" x2=\"146\" y1=\"28.2969\" y2=\"28.2969\"/><text fill=\"#000000\" font-family=\"sans-serif\" font-size=\"14\" font-weight=\"bold\" lengthAdjust=\"spacingAndGlyphs\" textLength=\"117\" x=\"20\" y=\"20.9951\">ParameterTest</text></a><!--MD5=[b4997ac47864f28c2f74865a473b2911]\n",
       "class E2--><a href=\"psysml:129c5bc9-5e36-4fac-a06d-7961ccb64091\" target=\"_top\" title=\"psysml:129c5bc9-5e36-4fac-a06d-7961ccb64091\" xlink:actuate=\"onRequest\" xlink:href=\"psysml:129c5bc9-5e36-4fac-a06d-7961ccb64091\" xlink:show=\"new\" xlink:title=\"psysml:129c5bc9-5e36-4fac-a06d-7961ccb64091\" xlink:type=\"simple\"><rect fill=\"#FFFFFF\" height=\"88.3516\" id=\"E2\" style=\"stroke: #383838; stroke-width: 1.5;\" width=\"95\" x=\"498.5\" y=\"164\"/><text fill=\"#000000\" font-family=\"sans-serif\" font-size=\"12\" font-style=\"italic\" lengthAdjust=\"spacingAndGlyphs\" textLength=\"93\" x=\"499.5\" y=\"180.1387\">«attribute def»</text><text fill=\"#000000\" font-family=\"sans-serif\" font-size=\"12\" lengthAdjust=\"spacingAndGlyphs\" textLength=\"8\" x=\"542\" y=\"194.1074\">A</text><line style=\"stroke: #383838; stroke-width: 1.5;\" x1=\"499.5\" x2=\"592.5\" y1=\"201.9375\" y2=\"201.9375\"/><text fill=\"#000000\" font-family=\"sans-serif\" font-size=\"11\" lengthAdjust=\"spacingAndGlyphs\" textLength=\"48\" x=\"504.5\" y=\"232.9526\">x: String</text><text fill=\"#000000\" font-family=\"sans-serif\" font-size=\"11\" lengthAdjust=\"spacingAndGlyphs\" textLength=\"21\" x=\"504.5\" y=\"245.7573\">y: A</text><line style=\"stroke: #383838; stroke-width: 1.0;\" x1=\"499.5\" x2=\"518.5\" y1=\"216.3398\" y2=\"216.3398\"/><text fill=\"#000000\" font-family=\"sans-serif\" font-size=\"11\" lengthAdjust=\"spacingAndGlyphs\" textLength=\"55\" x=\"518.5\" y=\"219.6479\">attributes</text><line style=\"stroke: #383838; stroke-width: 1.0;\" x1=\"573.5\" x2=\"592.5\" y1=\"216.3398\" y2=\"216.3398\"/></a><!--MD5=[09b614a08d8cba4a07c9adeb5e0fee81]\n",
       "class E3--><a href=\"psysml:50405f72-7bb1-41da-960b-ed203bf92c2d\" target=\"_top\" title=\"psysml:50405f72-7bb1-41da-960b-ed203bf92c2d\" xlink:actuate=\"onRequest\" xlink:href=\"psysml:50405f72-7bb1-41da-960b-ed203bf92c2d\" xlink:show=\"new\" xlink:title=\"psysml:50405f72-7bb1-41da-960b-ed203bf92c2d\" xlink:type=\"simple\"><rect fill=\"#FFFFFF\" height=\"45.9375\" id=\"E3\" rx=\"10\" ry=\"10\" style=\"stroke: #383838; stroke-width: 1.5;\" width=\"71\" x=\"600.5\" y=\"41\"/><text fill=\"#000000\" font-family=\"sans-serif\" font-size=\"12\" font-style=\"italic\" lengthAdjust=\"spacingAndGlyphs\" textLength=\"69\" x=\"601.5\" y=\"57.1387\">«attribute»</text><text fill=\"#000000\" font-family=\"sans-serif\" font-size=\"12\" lengthAdjust=\"spacingAndGlyphs\" textLength=\"24\" x=\"624\" y=\"71.1074\">a: A</text><line style=\"stroke: #383838; stroke-width: 1.5;\" x1=\"601.5\" x2=\"670.5\" y1=\"78.9375\" y2=\"78.9375\"/></a><!--MD5=[ebbe1d658d1005bcc118a6aa81145e00]\n",
       "class E4--><a href=\"psysml:84637ab1-2e14-49ab-80b7-3fb2aa846372\" target=\"_top\" title=\"psysml:84637ab1-2e14-49ab-80b7-3fb2aa846372\" xlink:actuate=\"onRequest\" xlink:href=\"psysml:84637ab1-2e14-49ab-80b7-3fb2aa846372\" xlink:show=\"new\" xlink:title=\"psysml:84637ab1-2e14-49ab-80b7-3fb2aa846372\" xlink:type=\"simple\"><rect fill=\"#FFFFFF\" height=\"45.9375\" id=\"E4\" style=\"stroke: #383838; stroke-width: 1.5;\" width=\"108\" x=\"457\" y=\"41\"/><text fill=\"#000000\" font-family=\"sans-serif\" font-size=\"12\" font-style=\"italic\" lengthAdjust=\"spacingAndGlyphs\" textLength=\"106\" x=\"458\" y=\"57.1387\">«calculation def»</text><text fill=\"#000000\" font-family=\"sans-serif\" font-size=\"12\" lengthAdjust=\"spacingAndGlyphs\" textLength=\"7\" x=\"507.5\" y=\"71.1074\">F</text><line style=\"stroke: #383838; stroke-width: 1.5;\" x1=\"458\" x2=\"564\" y1=\"78.9375\" y2=\"78.9375\"/></a><!--MD5=[270fce915f116d4de14055a7c1d9a0f3]\n",
       "class E5--><a href=\"psysml:88b39ab3-39a3-49e4-a823-2b19bc6cfd18\" target=\"_top\" title=\"psysml:88b39ab3-39a3-49e4-a823-2b19bc6cfd18\" xlink:actuate=\"onRequest\" xlink:href=\"psysml:88b39ab3-39a3-49e4-a823-2b19bc6cfd18\" xlink:show=\"new\" xlink:title=\"psysml:88b39ab3-39a3-49e4-a823-2b19bc6cfd18\" xlink:type=\"simple\"><rect fill=\"#FFFFFF\" height=\"45.9375\" id=\"E5\" rx=\"10\" ry=\"10\" style=\"stroke: #383838; stroke-width: 1.5;\" width=\"71\" x=\"350.5\" y=\"41\"/><text fill=\"#000000\" font-family=\"sans-serif\" font-size=\"12\" font-style=\"italic\" lengthAdjust=\"spacingAndGlyphs\" textLength=\"69\" x=\"351.5\" y=\"57.1387\">«attribute»</text><text fill=\"#000000\" font-family=\"sans-serif\" font-size=\"12\" lengthAdjust=\"spacingAndGlyphs\" textLength=\"4\" x=\"384\" y=\"71.1074\">f</text><line style=\"stroke: #383838; stroke-width: 1.5;\" x1=\"351.5\" x2=\"420.5\" y1=\"78.9375\" y2=\"78.9375\"/></a><!--MD5=[60a26617385b1d2d0262a64233df1f8d]\n",
       "class E6--><a href=\"psysml:3f28e8b6-a431-4098-a991-c6c646c27e19\" target=\"_top\" title=\"psysml:3f28e8b6-a431-4098-a991-c6c646c27e19\" xlink:actuate=\"onRequest\" xlink:href=\"psysml:3f28e8b6-a431-4098-a991-c6c646c27e19\" xlink:show=\"new\" xlink:title=\"psysml:3f28e8b6-a431-4098-a991-c6c646c27e19\" xlink:type=\"simple\"><rect fill=\"#FFFFFF\" height=\"45.9375\" id=\"E6\" rx=\"10\" ry=\"10\" style=\"stroke: #383838; stroke-width: 1.5;\" width=\"71\" x=\"244.5\" y=\"41\"/><text fill=\"#000000\" font-family=\"sans-serif\" font-size=\"12\" font-style=\"italic\" lengthAdjust=\"spacingAndGlyphs\" textLength=\"69\" x=\"245.5\" y=\"57.1387\">«attribute»</text><text fill=\"#000000\" font-family=\"sans-serif\" font-size=\"12\" lengthAdjust=\"spacingAndGlyphs\" textLength=\"8\" x=\"276\" y=\"71.1074\">g</text><line style=\"stroke: #383838; stroke-width: 1.5;\" x1=\"245.5\" x2=\"314.5\" y1=\"78.9375\" y2=\"78.9375\"/></a><!--MD5=[2156ba9850f5573cc1fc38a6a4b2f02b]\n",
       "class E7--><a href=\"psysml:a48346b2-888a-436e-97f1-e60fac760a88\" target=\"_top\" title=\"psysml:a48346b2-888a-436e-97f1-e60fac760a88\" xlink:actuate=\"onRequest\" xlink:href=\"psysml:a48346b2-888a-436e-97f1-e60fac760a88\" xlink:show=\"new\" xlink:title=\"psysml:a48346b2-888a-436e-97f1-e60fac760a88\" xlink:type=\"simple\"><rect fill=\"#FFFFFF\" height=\"45.9375\" id=\"E7\" rx=\"10\" ry=\"10\" style=\"stroke: #383838; stroke-width: 1.5;\" width=\"71\" x=\"138.5\" y=\"41\"/><text fill=\"#000000\" font-family=\"sans-serif\" font-size=\"12\" font-style=\"italic\" lengthAdjust=\"spacingAndGlyphs\" textLength=\"69\" x=\"139.5\" y=\"57.1387\">«attribute»</text><text fill=\"#000000\" font-family=\"sans-serif\" font-size=\"12\" lengthAdjust=\"spacingAndGlyphs\" textLength=\"8\" x=\"170\" y=\"71.1074\">b</text><line style=\"stroke: #383838; stroke-width: 1.5;\" x1=\"139.5\" x2=\"208.5\" y1=\"78.9375\" y2=\"78.9375\"/></a><!--MD5=[b9389687b975829384b498ac4b7476b2]\n",
       "class E8--><a href=\"psysml:952d2fa1-4eb4-490f-be08-21606a0b2581\" target=\"_top\" title=\"psysml:952d2fa1-4eb4-490f-be08-21606a0b2581\" xlink:actuate=\"onRequest\" xlink:href=\"psysml:952d2fa1-4eb4-490f-be08-21606a0b2581\" xlink:show=\"new\" xlink:title=\"psysml:952d2fa1-4eb4-490f-be08-21606a0b2581\" xlink:type=\"simple\"><rect fill=\"#FFFFFF\" height=\"45.9375\" id=\"E8\" rx=\"10\" ry=\"10\" style=\"stroke: #383838; stroke-width: 1.5;\" width=\"71\" x=\"32.5\" y=\"41\"/><text fill=\"#000000\" font-family=\"sans-serif\" font-size=\"12\" font-style=\"italic\" lengthAdjust=\"spacingAndGlyphs\" textLength=\"69\" x=\"33.5\" y=\"57.1387\">«attribute»</text><text fill=\"#000000\" font-family=\"sans-serif\" font-size=\"12\" lengthAdjust=\"spacingAndGlyphs\" textLength=\"7\" x=\"64.5\" y=\"71.1074\">c</text><line style=\"stroke: #383838; stroke-width: 1.5;\" x1=\"33.5\" x2=\"102.5\" y1=\"78.9375\" y2=\"78.9375\"/></a><!--MD5=[05d275557350bfb9b23a4ef7222b4c39]\n",
       "link E3 to E2--><a href=\"psysml:7569b902-ac88-47a0-a36a-be78510f169c\" target=\"_top\" title=\"psysml:7569b902-ac88-47a0-a36a-be78510f169c\" xlink:actuate=\"onRequest\" xlink:href=\"psysml:7569b902-ac88-47a0-a36a-be78510f169c\" xlink:show=\"new\" xlink:title=\"psysml:7569b902-ac88-47a0-a36a-be78510f169c\" xlink:type=\"simple\"><path d=\"M621.94,87.19 C611.77,103.23 597.51,125.73 584.09,146.9 \" fill=\"none\" id=\"E3-&gt;E2\" style=\"stroke: #383838; stroke-width: 1.0;\"/><polygon fill=\"#FFFFFF\" points=\"573.37,163.82,577.6195,144.0225,589.448,151.5115,573.37,163.82\" style=\"stroke: #383838; stroke-width: 1.0;\"/><ellipse cx=\"582.3584\" cy=\"140.2764\" fill=\"#383838\" rx=\"2\" ry=\"2\" style=\"stroke: #383838; stroke-width: 1.0;\"/><ellipse cx=\"590.8073\" cy=\"145.6258\" fill=\"#383838\" rx=\"2\" ry=\"2\" style=\"stroke: #383838; stroke-width: 1.0;\"/></a><!--MD5=[ddeed8deb2209213b62e6cfabaa108b2]\n",
       "reverse link E4 to E2--><a href=\"psysml:64e82b47-cc13-4353-a930-54201d4c743b\" target=\"_top\" title=\"psysml:64e82b47-cc13-4353-a930-54201d4c743b\" xlink:actuate=\"onRequest\" xlink:href=\"psysml:64e82b47-cc13-4353-a930-54201d4c743b\" xlink:show=\"new\" xlink:title=\"psysml:64e82b47-cc13-4353-a930-54201d4c743b\" xlink:type=\"simple\"><path d=\"M519.62,99.96 C524.37,119.25 530.31,143.36 535.36,163.82 \" fill=\"none\" id=\"E4&lt;-E2\" style=\"stroke: #383838; stroke-width: 1.0;\"/><polygon fill=\"#FFFFFF\" points=\"516.47,87.19,514.0229,93.9732,519.3432,98.841,521.7903,92.0577,516.47,87.19\" style=\"stroke: #383838; stroke-width: 1.0;\"/><text fill=\"#000000\" font-family=\"sans-serif\" font-size=\"13\" lengthAdjust=\"spacingAndGlyphs\" textLength=\"8\" x=\"528\" y=\"130.0669\">p</text></a><!--MD5=[3b29b7f3914b3898c9bb0694e5c3707b]\n",
       "@startuml\r\n",
       "skinparam monochrome true\r\n",
       "skinparam classbackgroundcolor white\r\n",
       "skinparam shadowing false\r\n",
       "skinparam wrapWidth 300\r\n",
       "hide circle\r\n",
       "\r\n",
       "package \"ParameterTest\" as E1  [[psysml:934b4cb7-0388-44aa-8a43-948e0e0270d7 ]]  {\r\n",
       "comp def \"A\" as E2  <<(T,blue)attribute def>> [[psysml:129c5bc9-5e36-4fac-a06d-7961ccb64091 ]] {\r\n",
       "- - attributes - -\r\n",
       "x: String\r\n",
       "y: A\r\n",
       "}\r\n",
       "comp usage \"a: A\" as E3  <<(T,blue)attribute>> [[psysml:50405f72-7bb1-41da-960b-ed203bf92c2d ]] {\r\n",
       "}\r\n",
       "comp def \"F\" as E4  <<(T,blue)calculation def>> [[psysml:84637ab1-2e14-49ab-80b7-3fb2aa846372 ]] {\r\n",
       "}\r\n",
       "comp usage \"f\" as E5  <<(T,blue)attribute>> [[psysml:88b39ab3-39a3-49e4-a823-2b19bc6cfd18 ]] {\r\n",
       "}\r\n",
       "comp usage \"g\" as E6  <<(T,blue)attribute>> [[psysml:3f28e8b6-a431-4098-a991-c6c646c27e19 ]] {\r\n",
       "}\r\n",
       "comp usage \"b\" as E7  <<(T,blue)attribute>> [[psysml:a48346b2-888a-436e-97f1-e60fac760a88 ]] {\r\n",
       "}\r\n",
       "comp usage \"c\" as E8  <<(T,blue)attribute>> [[psysml:952d2fa1-4eb4-490f-be08-21606a0b2581 ]] {\r\n",
       "}\r\n",
       "E3 - -:|> E2 [[psysml:7569b902-ac88-47a0-a36a-be78510f169c ]] \r\n",
       "E4 o- - E2 [[psysml:64e82b47-cc13-4353-a930-54201d4c743b ]] : p\r\n",
       "}\r\n",
       "@enduml\r\n",
       "\n",
       "PlantUML version 1.2020.13(Sat Jun 13 12:26:38 UTC 2020)\n",
       "(EPL source distribution)\n",
       "Java Runtime: OpenJDK Runtime Environment\n",
       "JVM: OpenJDK 64-Bit Server VM\n",
       "Default Encoding: UTF-8\n",
       "Language: en\n",
       "Country: null\n",
       "--></g></svg>"
      ]
     },
     "execution_count": 42,
     "metadata": {},
     "output_type": "execute_result"
    }
   ],
   "source": [
    "%viz --style=\"DEFAULT\" --view=\"Sequence\" \"ParameterTest\""
   ]
  },
  {
   "cell_type": "code",
   "execution_count": 43,
   "id": "trained-float",
   "metadata": {
    "execution": {
     "iopub.execute_input": "2021-03-26T09:13:03.219447Z",
     "iopub.status.busy": "2021-03-26T09:13:03.218415Z",
     "iopub.status.idle": "2021-03-26T09:13:03.264533Z",
     "shell.execute_reply": "2021-03-26T09:13:03.263195Z"
    }
   },
   "outputs": [
    {
     "data": {
      "image/svg+xml": [
       "<?xml version=\"1.0\" encoding=\"UTF-8\" standalone=\"no\"?><svg xmlns=\"http://www.w3.org/2000/svg\" xmlns:xlink=\"http://www.w3.org/1999/xlink\" contentScriptType=\"application/ecmascript\" contentStyleType=\"text/css\" height=\"263px\" preserveAspectRatio=\"none\" style=\"width:740px;height:263px;\" version=\"1.1\" viewBox=\"0 0 740 263\" width=\"740px\" zoomAndPan=\"magnify\"><defs/><g><!--MD5=[fbc87193dbaf4d95561dea2c320d4a47]\n",
       "cluster E1--><a href=\"psysml:934b4cb7-0388-44aa-8a43-948e0e0270d7\" target=\"_top\" title=\"psysml:934b4cb7-0388-44aa-8a43-948e0e0270d7\" xlink:actuate=\"onRequest\" xlink:href=\"psysml:934b4cb7-0388-44aa-8a43-948e0e0270d7\" xlink:show=\"new\" xlink:title=\"psysml:934b4cb7-0388-44aa-8a43-948e0e0270d7\" xlink:type=\"simple\"><polygon fill=\"#FFFFFF\" points=\"16,6,139,6,146,28.2969,718,28.2969,718,251,16,251,16,6\" style=\"stroke: #000000; stroke-width: 1.5;\"/><line style=\"stroke: #000000; stroke-width: 1.5;\" x1=\"16\" x2=\"146\" y1=\"28.2969\" y2=\"28.2969\"/><text fill=\"#000000\" font-family=\"sans-serif\" font-size=\"14\" font-weight=\"bold\" lengthAdjust=\"spacingAndGlyphs\" textLength=\"117\" x=\"20\" y=\"20.9951\">ParameterTest</text></a><!--MD5=[f6df4d0ebaf0b5dfb2ced0ae5af7c670]\n",
       "cluster E4--><a href=\"psysml:84637ab1-2e14-49ab-80b7-3fb2aa846372\" target=\"_top\" title=\"psysml:84637ab1-2e14-49ab-80b7-3fb2aa846372\" xlink:actuate=\"onRequest\" xlink:href=\"psysml:84637ab1-2e14-49ab-80b7-3fb2aa846372\" xlink:show=\"new\" xlink:title=\"psysml:84637ab1-2e14-49ab-80b7-3fb2aa846372\" xlink:type=\"simple\"><rect fill=\"#FFFFFF\" height=\"160.5\" id=\"E4\" style=\"stroke: #383838; stroke-width: 1.5;\" width=\"148\" x=\"554\" y=\"64\"/><rect fill=\"#F8F8F8\" height=\"37.9375\" style=\"stroke: #383838; stroke-width: 1.5;\" width=\"148\" x=\"554\" y=\"64\"/><text fill=\"#000000\" font-family=\"sans-serif\" font-size=\"12\" font-style=\"italic\" lengthAdjust=\"spacingAndGlyphs\" textLength=\"106\" x=\"575\" y=\"80.1387\">«calculation def»</text><text fill=\"#000000\" font-family=\"sans-serif\" font-size=\"12\" lengthAdjust=\"spacingAndGlyphs\" textLength=\"7\" x=\"624.5\" y=\"94.1074\">F</text></a><!--MD5=[b4997ac47864f28c2f74865a473b2911]\n",
       "class E2--><a href=\"psysml:129c5bc9-5e36-4fac-a06d-7961ccb64091\" target=\"_top\" title=\"psysml:129c5bc9-5e36-4fac-a06d-7961ccb64091\" xlink:actuate=\"onRequest\" xlink:href=\"psysml:129c5bc9-5e36-4fac-a06d-7961ccb64091\" xlink:show=\"new\" xlink:title=\"psysml:129c5bc9-5e36-4fac-a06d-7961ccb64091\" xlink:type=\"simple\"><rect fill=\"#FFFFFF\" height=\"88.3516\" id=\"E2\" style=\"stroke: #383838; stroke-width: 1.5;\" width=\"95\" x=\"422.5\" y=\"147\"/><text fill=\"#000000\" font-family=\"sans-serif\" font-size=\"12\" font-style=\"italic\" lengthAdjust=\"spacingAndGlyphs\" textLength=\"93\" x=\"423.5\" y=\"163.1387\">«attribute def»</text><text fill=\"#000000\" font-family=\"sans-serif\" font-size=\"12\" lengthAdjust=\"spacingAndGlyphs\" textLength=\"8\" x=\"466\" y=\"177.1074\">A</text><line style=\"stroke: #383838; stroke-width: 1.5;\" x1=\"423.5\" x2=\"516.5\" y1=\"184.9375\" y2=\"184.9375\"/><text fill=\"#000000\" font-family=\"sans-serif\" font-size=\"11\" lengthAdjust=\"spacingAndGlyphs\" textLength=\"48\" x=\"428.5\" y=\"215.9526\">x: String</text><text fill=\"#000000\" font-family=\"sans-serif\" font-size=\"11\" lengthAdjust=\"spacingAndGlyphs\" textLength=\"21\" x=\"428.5\" y=\"228.7573\">y: A</text><line style=\"stroke: #383838; stroke-width: 1.0;\" x1=\"423.5\" x2=\"442.5\" y1=\"199.3398\" y2=\"199.3398\"/><text fill=\"#000000\" font-family=\"sans-serif\" font-size=\"11\" lengthAdjust=\"spacingAndGlyphs\" textLength=\"55\" x=\"442.5\" y=\"202.6479\">attributes</text><line style=\"stroke: #383838; stroke-width: 1.0;\" x1=\"497.5\" x2=\"516.5\" y1=\"199.3398\" y2=\"199.3398\"/></a><!--MD5=[09b614a08d8cba4a07c9adeb5e0fee81]\n",
       "class E3--><a href=\"psysml:50405f72-7bb1-41da-960b-ed203bf92c2d\" target=\"_top\" title=\"psysml:50405f72-7bb1-41da-960b-ed203bf92c2d\" xlink:actuate=\"onRequest\" xlink:href=\"psysml:50405f72-7bb1-41da-960b-ed203bf92c2d\" xlink:show=\"new\" xlink:title=\"psysml:50405f72-7bb1-41da-960b-ed203bf92c2d\" xlink:type=\"simple\"><rect fill=\"#FFFFFF\" height=\"45.9375\" id=\"E3\" rx=\"10\" ry=\"10\" style=\"stroke: #383838; stroke-width: 1.5;\" width=\"71\" x=\"456.5\" y=\"41\"/><text fill=\"#000000\" font-family=\"sans-serif\" font-size=\"12\" font-style=\"italic\" lengthAdjust=\"spacingAndGlyphs\" textLength=\"69\" x=\"457.5\" y=\"57.1387\">«attribute»</text><text fill=\"#000000\" font-family=\"sans-serif\" font-size=\"12\" lengthAdjust=\"spacingAndGlyphs\" textLength=\"24\" x=\"480\" y=\"71.1074\">a: A</text><line style=\"stroke: #383838; stroke-width: 1.5;\" x1=\"457.5\" x2=\"526.5\" y1=\"78.9375\" y2=\"78.9375\"/></a><!--MD5=[2156ba9850f5573cc1fc38a6a4b2f02b]\n",
       "class E7--><a href=\"psysml:88b39ab3-39a3-49e4-a823-2b19bc6cfd18\" target=\"_top\" title=\"psysml:88b39ab3-39a3-49e4-a823-2b19bc6cfd18\" xlink:actuate=\"onRequest\" xlink:href=\"psysml:88b39ab3-39a3-49e4-a823-2b19bc6cfd18\" xlink:show=\"new\" xlink:title=\"psysml:88b39ab3-39a3-49e4-a823-2b19bc6cfd18\" xlink:type=\"simple\"><rect fill=\"#FFFFFF\" height=\"45.9375\" id=\"E7\" rx=\"10\" ry=\"10\" style=\"stroke: #383838; stroke-width: 1.5;\" width=\"71\" x=\"350.5\" y=\"41\"/><text fill=\"#000000\" font-family=\"sans-serif\" font-size=\"12\" font-style=\"italic\" lengthAdjust=\"spacingAndGlyphs\" textLength=\"69\" x=\"351.5\" y=\"57.1387\">«attribute»</text><text fill=\"#000000\" font-family=\"sans-serif\" font-size=\"12\" lengthAdjust=\"spacingAndGlyphs\" textLength=\"4\" x=\"384\" y=\"71.1074\">f</text><line style=\"stroke: #383838; stroke-width: 1.5;\" x1=\"351.5\" x2=\"420.5\" y1=\"78.9375\" y2=\"78.9375\"/></a><!--MD5=[b9389687b975829384b498ac4b7476b2]\n",
       "class E8--><a href=\"psysml:3f28e8b6-a431-4098-a991-c6c646c27e19\" target=\"_top\" title=\"psysml:3f28e8b6-a431-4098-a991-c6c646c27e19\" xlink:actuate=\"onRequest\" xlink:href=\"psysml:3f28e8b6-a431-4098-a991-c6c646c27e19\" xlink:show=\"new\" xlink:title=\"psysml:3f28e8b6-a431-4098-a991-c6c646c27e19\" xlink:type=\"simple\"><rect fill=\"#FFFFFF\" height=\"45.9375\" id=\"E8\" rx=\"10\" ry=\"10\" style=\"stroke: #383838; stroke-width: 1.5;\" width=\"71\" x=\"244.5\" y=\"41\"/><text fill=\"#000000\" font-family=\"sans-serif\" font-size=\"12\" font-style=\"italic\" lengthAdjust=\"spacingAndGlyphs\" textLength=\"69\" x=\"245.5\" y=\"57.1387\">«attribute»</text><text fill=\"#000000\" font-family=\"sans-serif\" font-size=\"12\" lengthAdjust=\"spacingAndGlyphs\" textLength=\"8\" x=\"276\" y=\"71.1074\">g</text><line style=\"stroke: #383838; stroke-width: 1.5;\" x1=\"245.5\" x2=\"314.5\" y1=\"78.9375\" y2=\"78.9375\"/></a><!--MD5=[fd4143e9d270a159db93a4ea2a975926]\n",
       "class E9--><a href=\"psysml:a48346b2-888a-436e-97f1-e60fac760a88\" target=\"_top\" title=\"psysml:a48346b2-888a-436e-97f1-e60fac760a88\" xlink:actuate=\"onRequest\" xlink:href=\"psysml:a48346b2-888a-436e-97f1-e60fac760a88\" xlink:show=\"new\" xlink:title=\"psysml:a48346b2-888a-436e-97f1-e60fac760a88\" xlink:type=\"simple\"><rect fill=\"#FFFFFF\" height=\"45.9375\" id=\"E9\" rx=\"10\" ry=\"10\" style=\"stroke: #383838; stroke-width: 1.5;\" width=\"71\" x=\"138.5\" y=\"41\"/><text fill=\"#000000\" font-family=\"sans-serif\" font-size=\"12\" font-style=\"italic\" lengthAdjust=\"spacingAndGlyphs\" textLength=\"69\" x=\"139.5\" y=\"57.1387\">«attribute»</text><text fill=\"#000000\" font-family=\"sans-serif\" font-size=\"12\" lengthAdjust=\"spacingAndGlyphs\" textLength=\"8\" x=\"170\" y=\"71.1074\">b</text><line style=\"stroke: #383838; stroke-width: 1.5;\" x1=\"139.5\" x2=\"208.5\" y1=\"78.9375\" y2=\"78.9375\"/></a><!--MD5=[96f4274e9e20536e775497830990834d]\n",
       "class E10--><a href=\"psysml:952d2fa1-4eb4-490f-be08-21606a0b2581\" target=\"_top\" title=\"psysml:952d2fa1-4eb4-490f-be08-21606a0b2581\" xlink:actuate=\"onRequest\" xlink:href=\"psysml:952d2fa1-4eb4-490f-be08-21606a0b2581\" xlink:show=\"new\" xlink:title=\"psysml:952d2fa1-4eb4-490f-be08-21606a0b2581\" xlink:type=\"simple\"><rect fill=\"#FFFFFF\" height=\"45.9375\" id=\"E10\" rx=\"10\" ry=\"10\" style=\"stroke: #383838; stroke-width: 1.5;\" width=\"71\" x=\"32.5\" y=\"41\"/><text fill=\"#000000\" font-family=\"sans-serif\" font-size=\"12\" font-style=\"italic\" lengthAdjust=\"spacingAndGlyphs\" textLength=\"69\" x=\"33.5\" y=\"57.1387\">«attribute»</text><text fill=\"#000000\" font-family=\"sans-serif\" font-size=\"12\" lengthAdjust=\"spacingAndGlyphs\" textLength=\"7\" x=\"64.5\" y=\"71.1074\">c</text><line style=\"stroke: #383838; stroke-width: 1.5;\" x1=\"33.5\" x2=\"102.5\" y1=\"78.9375\" y2=\"78.9375\"/></a><text fill=\"#000000\" font-family=\"sans-serif\" font-size=\"14\" lengthAdjust=\"spacingAndGlyphs\" textLength=\"9\" x=\"567.5\" y=\"42.6982\">p</text><rect fill=\"#383838\" height=\"12\" style=\"stroke: #F8F8F8; stroke-width: 1.5;\" width=\"12\" x=\"566\" y=\"58\"/><text fill=\"#000000\" font-family=\"sans-serif\" font-size=\"14\" lengthAdjust=\"spacingAndGlyphs\" textLength=\"9\" x=\"614.5\" y=\"42.6982\">q</text><rect fill=\"#383838\" height=\"12\" style=\"stroke: #F8F8F8; stroke-width: 1.5;\" width=\"12\" x=\"613\" y=\"58\"/><!--MD5=[05d275557350bfb9b23a4ef7222b4c39]\n",
       "link E3 to E2--><a href=\"psysml:7569b902-ac88-47a0-a36a-be78510f169c\" target=\"_top\" title=\"psysml:7569b902-ac88-47a0-a36a-be78510f169c\" xlink:actuate=\"onRequest\" xlink:href=\"psysml:7569b902-ac88-47a0-a36a-be78510f169c\" xlink:show=\"new\" xlink:title=\"psysml:7569b902-ac88-47a0-a36a-be78510f169c\" xlink:type=\"simple\"><path d=\"M488.12,87.06 C486.14,98.3 483.62,112.6 481.1,126.95 \" fill=\"none\" id=\"E3-&gt;E2\" style=\"stroke: #383838; stroke-width: 1.0;\"/><polygon fill=\"#FFFFFF\" points=\"477.58,146.93,473.9835,127.0035,487.7711,129.4331,477.58,146.93\" style=\"stroke: #383838; stroke-width: 1.0;\"/><ellipse cx=\"476.9423\" cy=\"121.7371\" fill=\"#383838\" rx=\"2\" ry=\"2\" style=\"stroke: #383838; stroke-width: 1.0;\"/><ellipse cx=\"486.7906\" cy=\"123.4725\" fill=\"#383838\" rx=\"2\" ry=\"2\" style=\"stroke: #383838; stroke-width: 1.0;\"/></a><!--MD5=[48997166c08ed20f6df4eefb8c713f8a]\n",
       "@startuml\r\n",
       "skinparam monochrome true\r\n",
       "skinparam classbackgroundcolor white\r\n",
       "skinparam shadowing false\r\n",
       "skinparam wrapWidth 300\r\n",
       "hide circle\r\n",
       "\r\n",
       "package \"ParameterTest\" as E1  [[psysml:934b4cb7-0388-44aa-8a43-948e0e0270d7 ]]  {\r\n",
       "comp def \"A\" as E2  <<(T,blue)attribute def>> [[psysml:129c5bc9-5e36-4fac-a06d-7961ccb64091 ]] {\r\n",
       "- - attributes - -\r\n",
       "x: String\r\n",
       "y: A\r\n",
       "}\r\n",
       "comp usage \"a: A\" as E3  <<(T,blue)attribute>> [[psysml:50405f72-7bb1-41da-960b-ed203bf92c2d ]] {\r\n",
       "}\r\n",
       "rec def \"F\" as E4  <<(T,blue)calculation def>> [[psysml:84637ab1-2e14-49ab-80b7-3fb2aa846372 ]] {\r\n",
       "portin \"p\" as E5  [[psysml:64e82b47-cc13-4353-a930-54201d4c743b ]] \r\n",
       "portin \"q\" as E6  [[psysml:647ae971-dc5c-461d-bddf-e9c9561ef010 ]] \r\n",
       "}\r\n",
       "\r\n",
       "comp usage \"f\" as E7  <<(T,blue)attribute>> [[psysml:88b39ab3-39a3-49e4-a823-2b19bc6cfd18 ]] {\r\n",
       "}\r\n",
       "comp usage \"g\" as E8  <<(T,blue)attribute>> [[psysml:3f28e8b6-a431-4098-a991-c6c646c27e19 ]] {\r\n",
       "}\r\n",
       "comp usage \"b\" as E9  <<(T,blue)attribute>> [[psysml:a48346b2-888a-436e-97f1-e60fac760a88 ]] {\r\n",
       "}\r\n",
       "comp usage \"c\" as E10  <<(T,blue)attribute>> [[psysml:952d2fa1-4eb4-490f-be08-21606a0b2581 ]] {\r\n",
       "}\r\n",
       "E3 - -:|> E2 [[psysml:7569b902-ac88-47a0-a36a-be78510f169c ]] \r\n",
       "}\r\n",
       "@enduml\r\n",
       "\n",
       "PlantUML version 1.2020.13(Sat Jun 13 12:26:38 UTC 2020)\n",
       "(EPL source distribution)\n",
       "Java Runtime: OpenJDK Runtime Environment\n",
       "JVM: OpenJDK 64-Bit Server VM\n",
       "Default Encoding: UTF-8\n",
       "Language: en\n",
       "Country: null\n",
       "--></g></svg>"
      ]
     },
     "execution_count": 43,
     "metadata": {},
     "output_type": "execute_result"
    }
   ],
   "source": [
    "%viz --style=\"DEFAULT\" --view=\"MIXED\" \"ParameterTest\""
   ]
  },
  {
   "cell_type": "code",
   "execution_count": 44,
   "id": "ethical-ticket",
   "metadata": {
    "execution": {
     "iopub.execute_input": "2021-03-26T09:13:03.315006Z",
     "iopub.status.busy": "2021-03-26T09:13:03.314387Z",
     "iopub.status.idle": "2021-03-26T09:13:03.358985Z",
     "shell.execute_reply": "2021-03-26T09:13:03.357640Z"
    }
   },
   "outputs": [
    {
     "data": {
      "image/svg+xml": [
       "<?xml version=\"1.0\" encoding=\"UTF-8\" standalone=\"no\"?><svg xmlns=\"http://www.w3.org/2000/svg\" xmlns:xlink=\"http://www.w3.org/1999/xlink\" contentScriptType=\"application/ecmascript\" contentStyleType=\"text/css\" height=\"263px\" preserveAspectRatio=\"none\" style=\"width:740px;height:263px;\" version=\"1.1\" viewBox=\"0 0 740 263\" width=\"740px\" zoomAndPan=\"magnify\"><defs/><g><!--MD5=[fbc87193dbaf4d95561dea2c320d4a47]\n",
       "cluster E1--><a href=\"psysml:934b4cb7-0388-44aa-8a43-948e0e0270d7\" target=\"_top\" title=\"psysml:934b4cb7-0388-44aa-8a43-948e0e0270d7\" xlink:actuate=\"onRequest\" xlink:href=\"psysml:934b4cb7-0388-44aa-8a43-948e0e0270d7\" xlink:show=\"new\" xlink:title=\"psysml:934b4cb7-0388-44aa-8a43-948e0e0270d7\" xlink:type=\"simple\"><polygon fill=\"#FFFFFF\" points=\"16,6,139,6,146,28.2969,718,28.2969,718,251,16,251,16,6\" style=\"stroke: #000000; stroke-width: 1.5;\"/><line style=\"stroke: #000000; stroke-width: 1.5;\" x1=\"16\" x2=\"146\" y1=\"28.2969\" y2=\"28.2969\"/><text fill=\"#000000\" font-family=\"sans-serif\" font-size=\"14\" font-weight=\"bold\" lengthAdjust=\"spacingAndGlyphs\" textLength=\"117\" x=\"20\" y=\"20.9951\">ParameterTest</text></a><!--MD5=[f6df4d0ebaf0b5dfb2ced0ae5af7c670]\n",
       "cluster E4--><a href=\"psysml:84637ab1-2e14-49ab-80b7-3fb2aa846372\" target=\"_top\" title=\"psysml:84637ab1-2e14-49ab-80b7-3fb2aa846372\" xlink:actuate=\"onRequest\" xlink:href=\"psysml:84637ab1-2e14-49ab-80b7-3fb2aa846372\" xlink:show=\"new\" xlink:title=\"psysml:84637ab1-2e14-49ab-80b7-3fb2aa846372\" xlink:type=\"simple\"><rect fill=\"#FFFFFF\" height=\"160.5\" id=\"E4\" style=\"stroke: #383838; stroke-width: 1.5;\" width=\"148\" x=\"554\" y=\"64\"/><rect fill=\"#F8F8F8\" height=\"37.9375\" style=\"stroke: #383838; stroke-width: 1.5;\" width=\"148\" x=\"554\" y=\"64\"/><text fill=\"#000000\" font-family=\"sans-serif\" font-size=\"12\" font-style=\"italic\" lengthAdjust=\"spacingAndGlyphs\" textLength=\"106\" x=\"575\" y=\"80.1387\">«calculation def»</text><text fill=\"#000000\" font-family=\"sans-serif\" font-size=\"12\" lengthAdjust=\"spacingAndGlyphs\" textLength=\"7\" x=\"624.5\" y=\"94.1074\">F</text></a><!--MD5=[b4997ac47864f28c2f74865a473b2911]\n",
       "class E2--><a href=\"psysml:129c5bc9-5e36-4fac-a06d-7961ccb64091\" target=\"_top\" title=\"psysml:129c5bc9-5e36-4fac-a06d-7961ccb64091\" xlink:actuate=\"onRequest\" xlink:href=\"psysml:129c5bc9-5e36-4fac-a06d-7961ccb64091\" xlink:show=\"new\" xlink:title=\"psysml:129c5bc9-5e36-4fac-a06d-7961ccb64091\" xlink:type=\"simple\"><rect fill=\"#FFFFFF\" height=\"88.3516\" id=\"E2\" style=\"stroke: #383838; stroke-width: 1.5;\" width=\"95\" x=\"422.5\" y=\"147\"/><text fill=\"#000000\" font-family=\"sans-serif\" font-size=\"12\" font-style=\"italic\" lengthAdjust=\"spacingAndGlyphs\" textLength=\"93\" x=\"423.5\" y=\"163.1387\">«attribute def»</text><text fill=\"#000000\" font-family=\"sans-serif\" font-size=\"12\" lengthAdjust=\"spacingAndGlyphs\" textLength=\"8\" x=\"466\" y=\"177.1074\">A</text><line style=\"stroke: #383838; stroke-width: 1.5;\" x1=\"423.5\" x2=\"516.5\" y1=\"184.9375\" y2=\"184.9375\"/><text fill=\"#000000\" font-family=\"sans-serif\" font-size=\"11\" lengthAdjust=\"spacingAndGlyphs\" textLength=\"48\" x=\"428.5\" y=\"215.9526\">x: String</text><text fill=\"#000000\" font-family=\"sans-serif\" font-size=\"11\" lengthAdjust=\"spacingAndGlyphs\" textLength=\"21\" x=\"428.5\" y=\"228.7573\">y: A</text><line style=\"stroke: #383838; stroke-width: 1.0;\" x1=\"423.5\" x2=\"442.5\" y1=\"199.3398\" y2=\"199.3398\"/><text fill=\"#000000\" font-family=\"sans-serif\" font-size=\"11\" lengthAdjust=\"spacingAndGlyphs\" textLength=\"55\" x=\"442.5\" y=\"202.6479\">attributes</text><line style=\"stroke: #383838; stroke-width: 1.0;\" x1=\"497.5\" x2=\"516.5\" y1=\"199.3398\" y2=\"199.3398\"/></a><!--MD5=[09b614a08d8cba4a07c9adeb5e0fee81]\n",
       "class E3--><a href=\"psysml:50405f72-7bb1-41da-960b-ed203bf92c2d\" target=\"_top\" title=\"psysml:50405f72-7bb1-41da-960b-ed203bf92c2d\" xlink:actuate=\"onRequest\" xlink:href=\"psysml:50405f72-7bb1-41da-960b-ed203bf92c2d\" xlink:show=\"new\" xlink:title=\"psysml:50405f72-7bb1-41da-960b-ed203bf92c2d\" xlink:type=\"simple\"><rect fill=\"#FFFFFF\" height=\"45.9375\" id=\"E3\" rx=\"10\" ry=\"10\" style=\"stroke: #383838; stroke-width: 1.5;\" width=\"71\" x=\"456.5\" y=\"41\"/><text fill=\"#000000\" font-family=\"sans-serif\" font-size=\"12\" font-style=\"italic\" lengthAdjust=\"spacingAndGlyphs\" textLength=\"69\" x=\"457.5\" y=\"57.1387\">«attribute»</text><text fill=\"#000000\" font-family=\"sans-serif\" font-size=\"12\" lengthAdjust=\"spacingAndGlyphs\" textLength=\"24\" x=\"480\" y=\"71.1074\">a: A</text><line style=\"stroke: #383838; stroke-width: 1.5;\" x1=\"457.5\" x2=\"526.5\" y1=\"78.9375\" y2=\"78.9375\"/></a><!--MD5=[2156ba9850f5573cc1fc38a6a4b2f02b]\n",
       "class E7--><a href=\"psysml:88b39ab3-39a3-49e4-a823-2b19bc6cfd18\" target=\"_top\" title=\"psysml:88b39ab3-39a3-49e4-a823-2b19bc6cfd18\" xlink:actuate=\"onRequest\" xlink:href=\"psysml:88b39ab3-39a3-49e4-a823-2b19bc6cfd18\" xlink:show=\"new\" xlink:title=\"psysml:88b39ab3-39a3-49e4-a823-2b19bc6cfd18\" xlink:type=\"simple\"><rect fill=\"#FFFFFF\" height=\"45.9375\" id=\"E7\" rx=\"10\" ry=\"10\" style=\"stroke: #383838; stroke-width: 1.5;\" width=\"71\" x=\"350.5\" y=\"41\"/><text fill=\"#000000\" font-family=\"sans-serif\" font-size=\"12\" font-style=\"italic\" lengthAdjust=\"spacingAndGlyphs\" textLength=\"69\" x=\"351.5\" y=\"57.1387\">«attribute»</text><text fill=\"#000000\" font-family=\"sans-serif\" font-size=\"12\" lengthAdjust=\"spacingAndGlyphs\" textLength=\"4\" x=\"384\" y=\"71.1074\">f</text><line style=\"stroke: #383838; stroke-width: 1.5;\" x1=\"351.5\" x2=\"420.5\" y1=\"78.9375\" y2=\"78.9375\"/></a><!--MD5=[b9389687b975829384b498ac4b7476b2]\n",
       "class E8--><a href=\"psysml:3f28e8b6-a431-4098-a991-c6c646c27e19\" target=\"_top\" title=\"psysml:3f28e8b6-a431-4098-a991-c6c646c27e19\" xlink:actuate=\"onRequest\" xlink:href=\"psysml:3f28e8b6-a431-4098-a991-c6c646c27e19\" xlink:show=\"new\" xlink:title=\"psysml:3f28e8b6-a431-4098-a991-c6c646c27e19\" xlink:type=\"simple\"><rect fill=\"#FFFFFF\" height=\"45.9375\" id=\"E8\" rx=\"10\" ry=\"10\" style=\"stroke: #383838; stroke-width: 1.5;\" width=\"71\" x=\"244.5\" y=\"41\"/><text fill=\"#000000\" font-family=\"sans-serif\" font-size=\"12\" font-style=\"italic\" lengthAdjust=\"spacingAndGlyphs\" textLength=\"69\" x=\"245.5\" y=\"57.1387\">«attribute»</text><text fill=\"#000000\" font-family=\"sans-serif\" font-size=\"12\" lengthAdjust=\"spacingAndGlyphs\" textLength=\"8\" x=\"276\" y=\"71.1074\">g</text><line style=\"stroke: #383838; stroke-width: 1.5;\" x1=\"245.5\" x2=\"314.5\" y1=\"78.9375\" y2=\"78.9375\"/></a><!--MD5=[fd4143e9d270a159db93a4ea2a975926]\n",
       "class E9--><a href=\"psysml:a48346b2-888a-436e-97f1-e60fac760a88\" target=\"_top\" title=\"psysml:a48346b2-888a-436e-97f1-e60fac760a88\" xlink:actuate=\"onRequest\" xlink:href=\"psysml:a48346b2-888a-436e-97f1-e60fac760a88\" xlink:show=\"new\" xlink:title=\"psysml:a48346b2-888a-436e-97f1-e60fac760a88\" xlink:type=\"simple\"><rect fill=\"#FFFFFF\" height=\"45.9375\" id=\"E9\" rx=\"10\" ry=\"10\" style=\"stroke: #383838; stroke-width: 1.5;\" width=\"71\" x=\"138.5\" y=\"41\"/><text fill=\"#000000\" font-family=\"sans-serif\" font-size=\"12\" font-style=\"italic\" lengthAdjust=\"spacingAndGlyphs\" textLength=\"69\" x=\"139.5\" y=\"57.1387\">«attribute»</text><text fill=\"#000000\" font-family=\"sans-serif\" font-size=\"12\" lengthAdjust=\"spacingAndGlyphs\" textLength=\"8\" x=\"170\" y=\"71.1074\">b</text><line style=\"stroke: #383838; stroke-width: 1.5;\" x1=\"139.5\" x2=\"208.5\" y1=\"78.9375\" y2=\"78.9375\"/></a><!--MD5=[96f4274e9e20536e775497830990834d]\n",
       "class E10--><a href=\"psysml:952d2fa1-4eb4-490f-be08-21606a0b2581\" target=\"_top\" title=\"psysml:952d2fa1-4eb4-490f-be08-21606a0b2581\" xlink:actuate=\"onRequest\" xlink:href=\"psysml:952d2fa1-4eb4-490f-be08-21606a0b2581\" xlink:show=\"new\" xlink:title=\"psysml:952d2fa1-4eb4-490f-be08-21606a0b2581\" xlink:type=\"simple\"><rect fill=\"#FFFFFF\" height=\"45.9375\" id=\"E10\" rx=\"10\" ry=\"10\" style=\"stroke: #383838; stroke-width: 1.5;\" width=\"71\" x=\"32.5\" y=\"41\"/><text fill=\"#000000\" font-family=\"sans-serif\" font-size=\"12\" font-style=\"italic\" lengthAdjust=\"spacingAndGlyphs\" textLength=\"69\" x=\"33.5\" y=\"57.1387\">«attribute»</text><text fill=\"#000000\" font-family=\"sans-serif\" font-size=\"12\" lengthAdjust=\"spacingAndGlyphs\" textLength=\"7\" x=\"64.5\" y=\"71.1074\">c</text><line style=\"stroke: #383838; stroke-width: 1.5;\" x1=\"33.5\" x2=\"102.5\" y1=\"78.9375\" y2=\"78.9375\"/></a><text fill=\"#000000\" font-family=\"sans-serif\" font-size=\"14\" lengthAdjust=\"spacingAndGlyphs\" textLength=\"9\" x=\"567.5\" y=\"42.6982\">p</text><rect fill=\"#383838\" height=\"12\" style=\"stroke: #F8F8F8; stroke-width: 1.5;\" width=\"12\" x=\"566\" y=\"58\"/><text fill=\"#000000\" font-family=\"sans-serif\" font-size=\"14\" lengthAdjust=\"spacingAndGlyphs\" textLength=\"9\" x=\"614.5\" y=\"42.6982\">q</text><rect fill=\"#383838\" height=\"12\" style=\"stroke: #F8F8F8; stroke-width: 1.5;\" width=\"12\" x=\"613\" y=\"58\"/><!--MD5=[05d275557350bfb9b23a4ef7222b4c39]\n",
       "link E3 to E2--><a href=\"psysml:7569b902-ac88-47a0-a36a-be78510f169c\" target=\"_top\" title=\"psysml:7569b902-ac88-47a0-a36a-be78510f169c\" xlink:actuate=\"onRequest\" xlink:href=\"psysml:7569b902-ac88-47a0-a36a-be78510f169c\" xlink:show=\"new\" xlink:title=\"psysml:7569b902-ac88-47a0-a36a-be78510f169c\" xlink:type=\"simple\"><path d=\"M488.12,87.06 C486.14,98.3 483.62,112.6 481.1,126.95 \" fill=\"none\" id=\"E3-&gt;E2\" style=\"stroke: #383838; stroke-width: 1.0;\"/><polygon fill=\"#FFFFFF\" points=\"477.58,146.93,473.9835,127.0035,487.7711,129.4331,477.58,146.93\" style=\"stroke: #383838; stroke-width: 1.0;\"/><ellipse cx=\"476.9423\" cy=\"121.7371\" fill=\"#383838\" rx=\"2\" ry=\"2\" style=\"stroke: #383838; stroke-width: 1.0;\"/><ellipse cx=\"486.7906\" cy=\"123.4725\" fill=\"#383838\" rx=\"2\" ry=\"2\" style=\"stroke: #383838; stroke-width: 1.0;\"/></a><!--MD5=[6bce94a0f756f49af21648206c168732]\n",
       "@startuml\r\n",
       "top to bottom direction\r\n",
       "skinparam monochrome true\r\n",
       "skinparam classbackgroundcolor white\r\n",
       "skinparam shadowing false\r\n",
       "skinparam wrapWidth 300\r\n",
       "hide circle\r\n",
       "\r\n",
       "package \"ParameterTest\" as E1  [[psysml:934b4cb7-0388-44aa-8a43-948e0e0270d7 ]]  {\r\n",
       "comp def \"A\" as E2  <<(T,blue)attribute def>> [[psysml:129c5bc9-5e36-4fac-a06d-7961ccb64091 ]] {\r\n",
       "- - attributes - -\r\n",
       "x: String\r\n",
       "y: A\r\n",
       "}\r\n",
       "comp usage \"a: A\" as E3  <<(T,blue)attribute>> [[psysml:50405f72-7bb1-41da-960b-ed203bf92c2d ]] {\r\n",
       "}\r\n",
       "rec def \"F\" as E4  <<(T,blue)calculation def>> [[psysml:84637ab1-2e14-49ab-80b7-3fb2aa846372 ]] {\r\n",
       "portin \"p\" as E5  [[psysml:64e82b47-cc13-4353-a930-54201d4c743b ]] \r\n",
       "portin \"q\" as E6  [[psysml:647ae971-dc5c-461d-bddf-e9c9561ef010 ]] \r\n",
       "}\r\n",
       "\r\n",
       "comp usage \"f\" as E7  <<(T,blue)attribute>> [[psysml:88b39ab3-39a3-49e4-a823-2b19bc6cfd18 ]] {\r\n",
       "}\r\n",
       "comp usage \"g\" as E8  <<(T,blue)attribute>> [[psysml:3f28e8b6-a431-4098-a991-c6c646c27e19 ]] {\r\n",
       "}\r\n",
       "comp usage \"b\" as E9  <<(T,blue)attribute>> [[psysml:a48346b2-888a-436e-97f1-e60fac760a88 ]] {\r\n",
       "}\r\n",
       "comp usage \"c\" as E10  <<(T,blue)attribute>> [[psysml:952d2fa1-4eb4-490f-be08-21606a0b2581 ]] {\r\n",
       "}\r\n",
       "E3 - -:|> E2 [[psysml:7569b902-ac88-47a0-a36a-be78510f169c ]] \r\n",
       "}\r\n",
       "@enduml\r\n",
       "\n",
       "PlantUML version 1.2020.13(Sat Jun 13 12:26:38 UTC 2020)\n",
       "(EPL source distribution)\n",
       "Java Runtime: OpenJDK Runtime Environment\n",
       "JVM: OpenJDK 64-Bit Server VM\n",
       "Default Encoding: UTF-8\n",
       "Language: en\n",
       "Country: null\n",
       "--></g></svg>"
      ]
     },
     "execution_count": 44,
     "metadata": {},
     "output_type": "execute_result"
    }
   ],
   "source": [
    "%viz --style=\"TB\" --view=\"Default\" \"ParameterTest\""
   ]
  },
  {
   "cell_type": "code",
   "execution_count": 45,
   "id": "pleased-stage",
   "metadata": {
    "execution": {
     "iopub.execute_input": "2021-03-26T09:13:03.409370Z",
     "iopub.status.busy": "2021-03-26T09:13:03.408885Z",
     "iopub.status.idle": "2021-03-26T09:13:03.455902Z",
     "shell.execute_reply": "2021-03-26T09:13:03.454587Z"
    }
   },
   "outputs": [
    {
     "data": {
      "image/svg+xml": [
       "<?xml version=\"1.0\" encoding=\"UTF-8\" standalone=\"no\"?><svg xmlns=\"http://www.w3.org/2000/svg\" xmlns:xlink=\"http://www.w3.org/1999/xlink\" contentScriptType=\"application/ecmascript\" contentStyleType=\"text/css\" height=\"280px\" preserveAspectRatio=\"none\" style=\"width:710px;height:280px;\" version=\"1.1\" viewBox=\"0 0 710 280\" width=\"710px\" zoomAndPan=\"magnify\"><defs/><g><!--MD5=[fbc87193dbaf4d95561dea2c320d4a47]\n",
       "cluster E1--><a href=\"psysml:934b4cb7-0388-44aa-8a43-948e0e0270d7\" target=\"_top\" title=\"psysml:934b4cb7-0388-44aa-8a43-948e0e0270d7\" xlink:actuate=\"onRequest\" xlink:href=\"psysml:934b4cb7-0388-44aa-8a43-948e0e0270d7\" xlink:show=\"new\" xlink:title=\"psysml:934b4cb7-0388-44aa-8a43-948e0e0270d7\" xlink:type=\"simple\"><polygon fill=\"#FFFFFF\" points=\"16,6,139,6,146,28.2969,688,28.2969,688,268,16,268,16,6\" style=\"stroke: #000000; stroke-width: 1.5;\"/><line style=\"stroke: #000000; stroke-width: 1.5;\" x1=\"16\" x2=\"146\" y1=\"28.2969\" y2=\"28.2969\"/><text fill=\"#000000\" font-family=\"sans-serif\" font-size=\"14\" font-weight=\"bold\" lengthAdjust=\"spacingAndGlyphs\" textLength=\"117\" x=\"20\" y=\"20.9951\">ParameterTest</text></a><!--MD5=[b4997ac47864f28c2f74865a473b2911]\n",
       "class E2--><a href=\"psysml:129c5bc9-5e36-4fac-a06d-7961ccb64091\" target=\"_top\" title=\"psysml:129c5bc9-5e36-4fac-a06d-7961ccb64091\" xlink:actuate=\"onRequest\" xlink:href=\"psysml:129c5bc9-5e36-4fac-a06d-7961ccb64091\" xlink:show=\"new\" xlink:title=\"psysml:129c5bc9-5e36-4fac-a06d-7961ccb64091\" xlink:type=\"simple\"><rect fill=\"#FFFFFF\" height=\"88.3516\" id=\"E2\" style=\"stroke: #383838; stroke-width: 1.5;\" width=\"95\" x=\"498.5\" y=\"164\"/><text fill=\"#000000\" font-family=\"sans-serif\" font-size=\"12\" font-style=\"italic\" lengthAdjust=\"spacingAndGlyphs\" textLength=\"93\" x=\"499.5\" y=\"180.1387\">«attribute def»</text><text fill=\"#000000\" font-family=\"sans-serif\" font-size=\"12\" lengthAdjust=\"spacingAndGlyphs\" textLength=\"8\" x=\"542\" y=\"194.1074\">A</text><line style=\"stroke: #383838; stroke-width: 1.5;\" x1=\"499.5\" x2=\"592.5\" y1=\"201.9375\" y2=\"201.9375\"/><text fill=\"#000000\" font-family=\"sans-serif\" font-size=\"11\" lengthAdjust=\"spacingAndGlyphs\" textLength=\"48\" x=\"504.5\" y=\"232.9526\">x: String</text><text fill=\"#000000\" font-family=\"sans-serif\" font-size=\"11\" lengthAdjust=\"spacingAndGlyphs\" textLength=\"21\" x=\"504.5\" y=\"245.7573\">y: A</text><line style=\"stroke: #383838; stroke-width: 1.0;\" x1=\"499.5\" x2=\"518.5\" y1=\"216.3398\" y2=\"216.3398\"/><text fill=\"#000000\" font-family=\"sans-serif\" font-size=\"11\" lengthAdjust=\"spacingAndGlyphs\" textLength=\"55\" x=\"518.5\" y=\"219.6479\">attributes</text><line style=\"stroke: #383838; stroke-width: 1.0;\" x1=\"573.5\" x2=\"592.5\" y1=\"216.3398\" y2=\"216.3398\"/></a><!--MD5=[09b614a08d8cba4a07c9adeb5e0fee81]\n",
       "class E3--><a href=\"psysml:50405f72-7bb1-41da-960b-ed203bf92c2d\" target=\"_top\" title=\"psysml:50405f72-7bb1-41da-960b-ed203bf92c2d\" xlink:actuate=\"onRequest\" xlink:href=\"psysml:50405f72-7bb1-41da-960b-ed203bf92c2d\" xlink:show=\"new\" xlink:title=\"psysml:50405f72-7bb1-41da-960b-ed203bf92c2d\" xlink:type=\"simple\"><rect fill=\"#FFFFFF\" height=\"45.9375\" id=\"E3\" rx=\"10\" ry=\"10\" style=\"stroke: #383838; stroke-width: 1.5;\" width=\"71\" x=\"600.5\" y=\"41\"/><text fill=\"#000000\" font-family=\"sans-serif\" font-size=\"12\" font-style=\"italic\" lengthAdjust=\"spacingAndGlyphs\" textLength=\"69\" x=\"601.5\" y=\"57.1387\">«attribute»</text><text fill=\"#000000\" font-family=\"sans-serif\" font-size=\"12\" lengthAdjust=\"spacingAndGlyphs\" textLength=\"24\" x=\"624\" y=\"71.1074\">a: A</text><line style=\"stroke: #383838; stroke-width: 1.5;\" x1=\"601.5\" x2=\"670.5\" y1=\"78.9375\" y2=\"78.9375\"/></a><!--MD5=[ebbe1d658d1005bcc118a6aa81145e00]\n",
       "class E4--><a href=\"psysml:84637ab1-2e14-49ab-80b7-3fb2aa846372\" target=\"_top\" title=\"psysml:84637ab1-2e14-49ab-80b7-3fb2aa846372\" xlink:actuate=\"onRequest\" xlink:href=\"psysml:84637ab1-2e14-49ab-80b7-3fb2aa846372\" xlink:show=\"new\" xlink:title=\"psysml:84637ab1-2e14-49ab-80b7-3fb2aa846372\" xlink:type=\"simple\"><rect fill=\"#FFFFFF\" height=\"45.9375\" id=\"E4\" style=\"stroke: #383838; stroke-width: 1.5;\" width=\"108\" x=\"457\" y=\"41\"/><text fill=\"#000000\" font-family=\"sans-serif\" font-size=\"12\" font-style=\"italic\" lengthAdjust=\"spacingAndGlyphs\" textLength=\"106\" x=\"458\" y=\"57.1387\">«calculation def»</text><text fill=\"#000000\" font-family=\"sans-serif\" font-size=\"12\" lengthAdjust=\"spacingAndGlyphs\" textLength=\"7\" x=\"507.5\" y=\"71.1074\">F</text><line style=\"stroke: #383838; stroke-width: 1.5;\" x1=\"458\" x2=\"564\" y1=\"78.9375\" y2=\"78.9375\"/></a><!--MD5=[270fce915f116d4de14055a7c1d9a0f3]\n",
       "class E5--><a href=\"psysml:88b39ab3-39a3-49e4-a823-2b19bc6cfd18\" target=\"_top\" title=\"psysml:88b39ab3-39a3-49e4-a823-2b19bc6cfd18\" xlink:actuate=\"onRequest\" xlink:href=\"psysml:88b39ab3-39a3-49e4-a823-2b19bc6cfd18\" xlink:show=\"new\" xlink:title=\"psysml:88b39ab3-39a3-49e4-a823-2b19bc6cfd18\" xlink:type=\"simple\"><rect fill=\"#FFFFFF\" height=\"45.9375\" id=\"E5\" rx=\"10\" ry=\"10\" style=\"stroke: #383838; stroke-width: 1.5;\" width=\"71\" x=\"350.5\" y=\"41\"/><text fill=\"#000000\" font-family=\"sans-serif\" font-size=\"12\" font-style=\"italic\" lengthAdjust=\"spacingAndGlyphs\" textLength=\"69\" x=\"351.5\" y=\"57.1387\">«attribute»</text><text fill=\"#000000\" font-family=\"sans-serif\" font-size=\"12\" lengthAdjust=\"spacingAndGlyphs\" textLength=\"4\" x=\"384\" y=\"71.1074\">f</text><line style=\"stroke: #383838; stroke-width: 1.5;\" x1=\"351.5\" x2=\"420.5\" y1=\"78.9375\" y2=\"78.9375\"/></a><!--MD5=[60a26617385b1d2d0262a64233df1f8d]\n",
       "class E6--><a href=\"psysml:3f28e8b6-a431-4098-a991-c6c646c27e19\" target=\"_top\" title=\"psysml:3f28e8b6-a431-4098-a991-c6c646c27e19\" xlink:actuate=\"onRequest\" xlink:href=\"psysml:3f28e8b6-a431-4098-a991-c6c646c27e19\" xlink:show=\"new\" xlink:title=\"psysml:3f28e8b6-a431-4098-a991-c6c646c27e19\" xlink:type=\"simple\"><rect fill=\"#FFFFFF\" height=\"45.9375\" id=\"E6\" rx=\"10\" ry=\"10\" style=\"stroke: #383838; stroke-width: 1.5;\" width=\"71\" x=\"244.5\" y=\"41\"/><text fill=\"#000000\" font-family=\"sans-serif\" font-size=\"12\" font-style=\"italic\" lengthAdjust=\"spacingAndGlyphs\" textLength=\"69\" x=\"245.5\" y=\"57.1387\">«attribute»</text><text fill=\"#000000\" font-family=\"sans-serif\" font-size=\"12\" lengthAdjust=\"spacingAndGlyphs\" textLength=\"8\" x=\"276\" y=\"71.1074\">g</text><line style=\"stroke: #383838; stroke-width: 1.5;\" x1=\"245.5\" x2=\"314.5\" y1=\"78.9375\" y2=\"78.9375\"/></a><!--MD5=[2156ba9850f5573cc1fc38a6a4b2f02b]\n",
       "class E7--><a href=\"psysml:a48346b2-888a-436e-97f1-e60fac760a88\" target=\"_top\" title=\"psysml:a48346b2-888a-436e-97f1-e60fac760a88\" xlink:actuate=\"onRequest\" xlink:href=\"psysml:a48346b2-888a-436e-97f1-e60fac760a88\" xlink:show=\"new\" xlink:title=\"psysml:a48346b2-888a-436e-97f1-e60fac760a88\" xlink:type=\"simple\"><rect fill=\"#FFFFFF\" height=\"45.9375\" id=\"E7\" rx=\"10\" ry=\"10\" style=\"stroke: #383838; stroke-width: 1.5;\" width=\"71\" x=\"138.5\" y=\"41\"/><text fill=\"#000000\" font-family=\"sans-serif\" font-size=\"12\" font-style=\"italic\" lengthAdjust=\"spacingAndGlyphs\" textLength=\"69\" x=\"139.5\" y=\"57.1387\">«attribute»</text><text fill=\"#000000\" font-family=\"sans-serif\" font-size=\"12\" lengthAdjust=\"spacingAndGlyphs\" textLength=\"8\" x=\"170\" y=\"71.1074\">b</text><line style=\"stroke: #383838; stroke-width: 1.5;\" x1=\"139.5\" x2=\"208.5\" y1=\"78.9375\" y2=\"78.9375\"/></a><!--MD5=[b9389687b975829384b498ac4b7476b2]\n",
       "class E8--><a href=\"psysml:952d2fa1-4eb4-490f-be08-21606a0b2581\" target=\"_top\" title=\"psysml:952d2fa1-4eb4-490f-be08-21606a0b2581\" xlink:actuate=\"onRequest\" xlink:href=\"psysml:952d2fa1-4eb4-490f-be08-21606a0b2581\" xlink:show=\"new\" xlink:title=\"psysml:952d2fa1-4eb4-490f-be08-21606a0b2581\" xlink:type=\"simple\"><rect fill=\"#FFFFFF\" height=\"45.9375\" id=\"E8\" rx=\"10\" ry=\"10\" style=\"stroke: #383838; stroke-width: 1.5;\" width=\"71\" x=\"32.5\" y=\"41\"/><text fill=\"#000000\" font-family=\"sans-serif\" font-size=\"12\" font-style=\"italic\" lengthAdjust=\"spacingAndGlyphs\" textLength=\"69\" x=\"33.5\" y=\"57.1387\">«attribute»</text><text fill=\"#000000\" font-family=\"sans-serif\" font-size=\"12\" lengthAdjust=\"spacingAndGlyphs\" textLength=\"7\" x=\"64.5\" y=\"71.1074\">c</text><line style=\"stroke: #383838; stroke-width: 1.5;\" x1=\"33.5\" x2=\"102.5\" y1=\"78.9375\" y2=\"78.9375\"/></a><!--MD5=[05d275557350bfb9b23a4ef7222b4c39]\n",
       "link E3 to E2--><a href=\"psysml:7569b902-ac88-47a0-a36a-be78510f169c\" target=\"_top\" title=\"psysml:7569b902-ac88-47a0-a36a-be78510f169c\" xlink:actuate=\"onRequest\" xlink:href=\"psysml:7569b902-ac88-47a0-a36a-be78510f169c\" xlink:show=\"new\" xlink:title=\"psysml:7569b902-ac88-47a0-a36a-be78510f169c\" xlink:type=\"simple\"><path d=\"M621.94,87.19 C611.77,103.23 597.51,125.73 584.09,146.9 \" fill=\"none\" id=\"E3-&gt;E2\" style=\"stroke: #383838; stroke-width: 1.0;\"/><polygon fill=\"#FFFFFF\" points=\"573.37,163.82,577.6195,144.0225,589.448,151.5115,573.37,163.82\" style=\"stroke: #383838; stroke-width: 1.0;\"/><ellipse cx=\"582.3584\" cy=\"140.2764\" fill=\"#383838\" rx=\"2\" ry=\"2\" style=\"stroke: #383838; stroke-width: 1.0;\"/><ellipse cx=\"590.8073\" cy=\"145.6258\" fill=\"#383838\" rx=\"2\" ry=\"2\" style=\"stroke: #383838; stroke-width: 1.0;\"/></a><!--MD5=[ddeed8deb2209213b62e6cfabaa108b2]\n",
       "reverse link E4 to E2--><a href=\"psysml:64e82b47-cc13-4353-a930-54201d4c743b\" target=\"_top\" title=\"psysml:64e82b47-cc13-4353-a930-54201d4c743b\" xlink:actuate=\"onRequest\" xlink:href=\"psysml:64e82b47-cc13-4353-a930-54201d4c743b\" xlink:show=\"new\" xlink:title=\"psysml:64e82b47-cc13-4353-a930-54201d4c743b\" xlink:type=\"simple\"><path d=\"M519.62,99.96 C524.37,119.25 530.31,143.36 535.36,163.82 \" fill=\"none\" id=\"E4&lt;-E2\" style=\"stroke: #383838; stroke-width: 1.0;\"/><polygon fill=\"#FFFFFF\" points=\"516.47,87.19,514.0229,93.9732,519.3432,98.841,521.7903,92.0577,516.47,87.19\" style=\"stroke: #383838; stroke-width: 1.0;\"/><text fill=\"#000000\" font-family=\"sans-serif\" font-size=\"13\" lengthAdjust=\"spacingAndGlyphs\" textLength=\"8\" x=\"528\" y=\"130.0669\">p</text></a><!--MD5=[9bdbb73dd242c4e898a4bf47d91ddec1]\n",
       "@startuml\r\n",
       "top to bottom direction\r\n",
       "skinparam monochrome true\r\n",
       "skinparam classbackgroundcolor white\r\n",
       "skinparam shadowing false\r\n",
       "skinparam wrapWidth 300\r\n",
       "hide circle\r\n",
       "\r\n",
       "package \"ParameterTest\" as E1  [[psysml:934b4cb7-0388-44aa-8a43-948e0e0270d7 ]]  {\r\n",
       "comp def \"A\" as E2  <<(T,blue)attribute def>> [[psysml:129c5bc9-5e36-4fac-a06d-7961ccb64091 ]] {\r\n",
       "- - attributes - -\r\n",
       "x: String\r\n",
       "y: A\r\n",
       "}\r\n",
       "comp usage \"a: A\" as E3  <<(T,blue)attribute>> [[psysml:50405f72-7bb1-41da-960b-ed203bf92c2d ]] {\r\n",
       "}\r\n",
       "comp def \"F\" as E4  <<(T,blue)calculation def>> [[psysml:84637ab1-2e14-49ab-80b7-3fb2aa846372 ]] {\r\n",
       "}\r\n",
       "comp usage \"f\" as E5  <<(T,blue)attribute>> [[psysml:88b39ab3-39a3-49e4-a823-2b19bc6cfd18 ]] {\r\n",
       "}\r\n",
       "comp usage \"g\" as E6  <<(T,blue)attribute>> [[psysml:3f28e8b6-a431-4098-a991-c6c646c27e19 ]] {\r\n",
       "}\r\n",
       "comp usage \"b\" as E7  <<(T,blue)attribute>> [[psysml:a48346b2-888a-436e-97f1-e60fac760a88 ]] {\r\n",
       "}\r\n",
       "comp usage \"c\" as E8  <<(T,blue)attribute>> [[psysml:952d2fa1-4eb4-490f-be08-21606a0b2581 ]] {\r\n",
       "}\r\n",
       "E3 - -:|> E2 [[psysml:7569b902-ac88-47a0-a36a-be78510f169c ]] \r\n",
       "E4 o- - E2 [[psysml:64e82b47-cc13-4353-a930-54201d4c743b ]] : p\r\n",
       "}\r\n",
       "@enduml\r\n",
       "\n",
       "PlantUML version 1.2020.13(Sat Jun 13 12:26:38 UTC 2020)\n",
       "(EPL source distribution)\n",
       "Java Runtime: OpenJDK Runtime Environment\n",
       "JVM: OpenJDK 64-Bit Server VM\n",
       "Default Encoding: UTF-8\n",
       "Language: en\n",
       "Country: null\n",
       "--></g></svg>"
      ]
     },
     "execution_count": 45,
     "metadata": {},
     "output_type": "execute_result"
    }
   ],
   "source": [
    "%viz --style=\"TB\" --view=\"Tree\" \"ParameterTest\""
   ]
  },
  {
   "cell_type": "code",
   "execution_count": 46,
   "id": "thermal-reach",
   "metadata": {
    "execution": {
     "iopub.execute_input": "2021-03-26T09:13:03.506321Z",
     "iopub.status.busy": "2021-03-26T09:13:03.505612Z",
     "iopub.status.idle": "2021-03-26T09:13:03.509829Z",
     "shell.execute_reply": "2021-03-26T09:13:03.509502Z"
    }
   },
   "outputs": [
    {
     "data": {
      "image/svg+xml": [
       "<?xml version=\"1.0\" encoding=\"UTF-8\" standalone=\"no\"?><svg xmlns=\"http://www.w3.org/2000/svg\" xmlns:xlink=\"http://www.w3.org/1999/xlink\" contentScriptType=\"application/ecmascript\" contentStyleType=\"text/css\" height=\"12px\" preserveAspectRatio=\"none\" style=\"width:12px;height:12px;\" version=\"1.1\" viewBox=\"0 0 12 12\" width=\"12px\" zoomAndPan=\"magnify\"><defs/><g><!--MD5=[f4ee21bc66e489b5061b7c3e9601fdef]\n",
       "@startuml\r\n",
       "top to bottom direction\r\n",
       "skinparam monochrome true\r\n",
       "skinparam classbackgroundcolor white\r\n",
       "skinparam shadowing false\r\n",
       "skinparam wrapWidth 300\r\n",
       "hide circle\r\n",
       "\r\n",
       "@enduml\r\n",
       "\n",
       "PlantUML version 1.2020.13(Sat Jun 13 12:26:38 UTC 2020)\n",
       "(EPL source distribution)\n",
       "Java Runtime: OpenJDK Runtime Environment\n",
       "JVM: OpenJDK 64-Bit Server VM\n",
       "Default Encoding: UTF-8\n",
       "Language: en\n",
       "Country: null\n",
       "--></g></svg>"
      ]
     },
     "execution_count": 46,
     "metadata": {},
     "output_type": "execute_result"
    }
   ],
   "source": [
    "%viz --style=\"TB\" --view=\"State\" \"ParameterTest\""
   ]
  },
  {
   "cell_type": "code",
   "execution_count": 47,
   "id": "incident-nebraska",
   "metadata": {
    "execution": {
     "iopub.execute_input": "2021-03-26T09:13:03.560713Z",
     "iopub.status.busy": "2021-03-26T09:13:03.560373Z",
     "iopub.status.idle": "2021-03-26T09:13:03.588244Z",
     "shell.execute_reply": "2021-03-26T09:13:03.586979Z"
    }
   },
   "outputs": [
    {
     "data": {
      "image/svg+xml": [
       "<?xml version=\"1.0\" encoding=\"UTF-8\" standalone=\"no\"?><svg xmlns=\"http://www.w3.org/2000/svg\" xmlns:xlink=\"http://www.w3.org/1999/xlink\" contentScriptType=\"application/ecmascript\" contentStyleType=\"text/css\" height=\"123px\" preserveAspectRatio=\"none\" style=\"width:960px;height:123px;\" version=\"1.1\" viewBox=\"0 0 960 123\" width=\"960px\" zoomAndPan=\"magnify\"><defs/><g><!--MD5=[fbc87193dbaf4d95561dea2c320d4a47]\n",
       "cluster E1--><a href=\"psysml:934b4cb7-0388-44aa-8a43-948e0e0270d7\" target=\"_top\" title=\"psysml:934b4cb7-0388-44aa-8a43-948e0e0270d7\" xlink:actuate=\"onRequest\" xlink:href=\"psysml:934b4cb7-0388-44aa-8a43-948e0e0270d7\" xlink:show=\"new\" xlink:title=\"psysml:934b4cb7-0388-44aa-8a43-948e0e0270d7\" xlink:type=\"simple\"><polygon fill=\"#FFFFFF\" points=\"16,6,139,6,146,28.2969,938,28.2969,938,111,16,111,16,6\" style=\"stroke: #000000; stroke-width: 1.5;\"/><line style=\"stroke: #000000; stroke-width: 1.5;\" x1=\"16\" x2=\"146\" y1=\"28.2969\" y2=\"28.2969\"/><text fill=\"#000000\" font-family=\"sans-serif\" font-size=\"14\" font-weight=\"bold\" lengthAdjust=\"spacingAndGlyphs\" textLength=\"117\" x=\"20\" y=\"20.9951\">ParameterTest</text></a><!--MD5=[b4997ac47864f28c2f74865a473b2911]\n",
       "class E2--><a href=\"psysml:129c5bc9-5e36-4fac-a06d-7961ccb64091\" target=\"_top\" title=\"psysml:129c5bc9-5e36-4fac-a06d-7961ccb64091\" xlink:actuate=\"onRequest\" xlink:href=\"psysml:129c5bc9-5e36-4fac-a06d-7961ccb64091\" xlink:show=\"new\" xlink:title=\"psysml:129c5bc9-5e36-4fac-a06d-7961ccb64091\" xlink:type=\"simple\"><rect fill=\"#FFFFFF\" height=\"53.9375\" id=\"E2\" style=\"stroke: #383838; stroke-width: 1.5;\" width=\"143\" x=\"778.5\" y=\"41\"/><text fill=\"#000000\" font-family=\"sans-serif\" font-size=\"12\" font-style=\"italic\" lengthAdjust=\"spacingAndGlyphs\" textLength=\"141\" x=\"779.5\" y=\"57.1387\">«(T,blue)attribute def»</text><text fill=\"#000000\" font-family=\"sans-serif\" font-size=\"12\" lengthAdjust=\"spacingAndGlyphs\" textLength=\"8\" x=\"846\" y=\"71.1074\">A</text><line style=\"stroke: #383838; stroke-width: 1.5;\" x1=\"779.5\" x2=\"920.5\" y1=\"78.9375\" y2=\"78.9375\"/><line style=\"stroke: #383838; stroke-width: 1.5;\" x1=\"779.5\" x2=\"920.5\" y1=\"86.9375\" y2=\"86.9375\"/></a><!--MD5=[ebbe1d658d1005bcc118a6aa81145e00]\n",
       "class E4--><a href=\"psysml:84637ab1-2e14-49ab-80b7-3fb2aa846372\" target=\"_top\" title=\"psysml:84637ab1-2e14-49ab-80b7-3fb2aa846372\" xlink:actuate=\"onRequest\" xlink:href=\"psysml:84637ab1-2e14-49ab-80b7-3fb2aa846372\" xlink:show=\"new\" xlink:title=\"psysml:84637ab1-2e14-49ab-80b7-3fb2aa846372\" xlink:type=\"simple\"><rect fill=\"#FFFFFF\" height=\"53.9375\" id=\"E4\" style=\"stroke: #383838; stroke-width: 1.5;\" width=\"156\" x=\"587\" y=\"41\"/><text fill=\"#000000\" font-family=\"sans-serif\" font-size=\"12\" font-style=\"italic\" lengthAdjust=\"spacingAndGlyphs\" textLength=\"154\" x=\"588\" y=\"57.1387\">«(T,blue)calculation def»</text><text fill=\"#000000\" font-family=\"sans-serif\" font-size=\"12\" lengthAdjust=\"spacingAndGlyphs\" textLength=\"7\" x=\"661.5\" y=\"71.1074\">F</text><line style=\"stroke: #383838; stroke-width: 1.5;\" x1=\"588\" x2=\"742\" y1=\"78.9375\" y2=\"78.9375\"/><line style=\"stroke: #383838; stroke-width: 1.5;\" x1=\"588\" x2=\"742\" y1=\"86.9375\" y2=\"86.9375\"/></a><g id=\"E1.E3\"><a href=\"psysml:50405f72-7bb1-41da-960b-ed203bf92c2d\" target=\"_top\" title=\"psysml:50405f72-7bb1-41da-960b-ed203bf92c2d\" xlink:actuate=\"onRequest\" xlink:href=\"psysml:50405f72-7bb1-41da-960b-ed203bf92c2d\" xlink:show=\"new\" xlink:title=\"psysml:50405f72-7bb1-41da-960b-ed203bf92c2d\" xlink:type=\"simple\"><rect fill=\"#FFFFFF\" height=\"42.9375\" id=\"E3\" rx=\"10\" ry=\"10\" style=\"stroke: #383838; stroke-width: 1.5;\" width=\"76\" x=\"476\" y=\"46.5\"/><rect fill=\"#F8F8F8\" height=\"37.9375\" rx=\"10\" ry=\"10\" style=\"stroke: #F8F8F8; stroke-width: 1.5;\" width=\"76\" x=\"476\" y=\"46.5\"/><rect fill=\"#F8F8F8\" height=\"10\" style=\"stroke: #F8F8F8; stroke-width: 1.5;\" width=\"76\" x=\"476\" y=\"74.4375\"/><rect fill=\"none\" height=\"42.9375\" id=\"E3\" rx=\"10\" ry=\"10\" style=\"stroke: #383838; stroke-width: 1.5;\" width=\"76\" x=\"476\" y=\"46.5\"/><text fill=\"#000000\" font-family=\"sans-serif\" font-size=\"12\" font-style=\"italic\" lengthAdjust=\"spacingAndGlyphs\" textLength=\"69\" x=\"479.5\" y=\"62.6387\">«attribute»</text><text fill=\"#000000\" font-family=\"sans-serif\" font-size=\"12\" lengthAdjust=\"spacingAndGlyphs\" textLength=\"24\" x=\"502\" y=\"76.6074\">a: A</text></a></g><g id=\"E1.E5\"><a href=\"psysml:88b39ab3-39a3-49e4-a823-2b19bc6cfd18\" target=\"_top\" title=\"psysml:88b39ab3-39a3-49e4-a823-2b19bc6cfd18\" xlink:actuate=\"onRequest\" xlink:href=\"psysml:88b39ab3-39a3-49e4-a823-2b19bc6cfd18\" xlink:show=\"new\" xlink:title=\"psysml:88b39ab3-39a3-49e4-a823-2b19bc6cfd18\" xlink:type=\"simple\"><rect fill=\"#FFFFFF\" height=\"42.9375\" id=\"E5\" rx=\"10\" ry=\"10\" style=\"stroke: #383838; stroke-width: 1.5;\" width=\"76\" x=\"365\" y=\"46.5\"/><rect fill=\"#F8F8F8\" height=\"37.9375\" rx=\"10\" ry=\"10\" style=\"stroke: #F8F8F8; stroke-width: 1.5;\" width=\"76\" x=\"365\" y=\"46.5\"/><rect fill=\"#F8F8F8\" height=\"10\" style=\"stroke: #F8F8F8; stroke-width: 1.5;\" width=\"76\" x=\"365\" y=\"74.4375\"/><rect fill=\"none\" height=\"42.9375\" id=\"E5\" rx=\"10\" ry=\"10\" style=\"stroke: #383838; stroke-width: 1.5;\" width=\"76\" x=\"365\" y=\"46.5\"/><text fill=\"#000000\" font-family=\"sans-serif\" font-size=\"12\" font-style=\"italic\" lengthAdjust=\"spacingAndGlyphs\" textLength=\"69\" x=\"368.5\" y=\"62.6387\">«attribute»</text><text fill=\"#000000\" font-family=\"sans-serif\" font-size=\"12\" lengthAdjust=\"spacingAndGlyphs\" textLength=\"4\" x=\"401\" y=\"76.6074\">f</text></a></g><g id=\"E1.E6\"><a href=\"psysml:3f28e8b6-a431-4098-a991-c6c646c27e19\" target=\"_top\" title=\"psysml:3f28e8b6-a431-4098-a991-c6c646c27e19\" xlink:actuate=\"onRequest\" xlink:href=\"psysml:3f28e8b6-a431-4098-a991-c6c646c27e19\" xlink:show=\"new\" xlink:title=\"psysml:3f28e8b6-a431-4098-a991-c6c646c27e19\" xlink:type=\"simple\"><rect fill=\"#FFFFFF\" height=\"42.9375\" id=\"E6\" rx=\"10\" ry=\"10\" style=\"stroke: #383838; stroke-width: 1.5;\" width=\"76\" x=\"254\" y=\"46.5\"/><rect fill=\"#F8F8F8\" height=\"37.9375\" rx=\"10\" ry=\"10\" style=\"stroke: #F8F8F8; stroke-width: 1.5;\" width=\"76\" x=\"254\" y=\"46.5\"/><rect fill=\"#F8F8F8\" height=\"10\" style=\"stroke: #F8F8F8; stroke-width: 1.5;\" width=\"76\" x=\"254\" y=\"74.4375\"/><rect fill=\"none\" height=\"42.9375\" id=\"E6\" rx=\"10\" ry=\"10\" style=\"stroke: #383838; stroke-width: 1.5;\" width=\"76\" x=\"254\" y=\"46.5\"/><text fill=\"#000000\" font-family=\"sans-serif\" font-size=\"12\" font-style=\"italic\" lengthAdjust=\"spacingAndGlyphs\" textLength=\"69\" x=\"257.5\" y=\"62.6387\">«attribute»</text><text fill=\"#000000\" font-family=\"sans-serif\" font-size=\"12\" lengthAdjust=\"spacingAndGlyphs\" textLength=\"8\" x=\"288\" y=\"76.6074\">g</text></a></g><g id=\"E1.E7\"><a href=\"psysml:a48346b2-888a-436e-97f1-e60fac760a88\" target=\"_top\" title=\"psysml:a48346b2-888a-436e-97f1-e60fac760a88\" xlink:actuate=\"onRequest\" xlink:href=\"psysml:a48346b2-888a-436e-97f1-e60fac760a88\" xlink:show=\"new\" xlink:title=\"psysml:a48346b2-888a-436e-97f1-e60fac760a88\" xlink:type=\"simple\"><rect fill=\"#FFFFFF\" height=\"42.9375\" id=\"E7\" rx=\"10\" ry=\"10\" style=\"stroke: #383838; stroke-width: 1.5;\" width=\"76\" x=\"143\" y=\"46.5\"/><rect fill=\"#F8F8F8\" height=\"37.9375\" rx=\"10\" ry=\"10\" style=\"stroke: #F8F8F8; stroke-width: 1.5;\" width=\"76\" x=\"143\" y=\"46.5\"/><rect fill=\"#F8F8F8\" height=\"10\" style=\"stroke: #F8F8F8; stroke-width: 1.5;\" width=\"76\" x=\"143\" y=\"74.4375\"/><rect fill=\"none\" height=\"42.9375\" id=\"E7\" rx=\"10\" ry=\"10\" style=\"stroke: #383838; stroke-width: 1.5;\" width=\"76\" x=\"143\" y=\"46.5\"/><text fill=\"#000000\" font-family=\"sans-serif\" font-size=\"12\" font-style=\"italic\" lengthAdjust=\"spacingAndGlyphs\" textLength=\"69\" x=\"146.5\" y=\"62.6387\">«attribute»</text><text fill=\"#000000\" font-family=\"sans-serif\" font-size=\"12\" lengthAdjust=\"spacingAndGlyphs\" textLength=\"8\" x=\"177\" y=\"76.6074\">b</text></a></g><g id=\"E1.E8\"><a href=\"psysml:952d2fa1-4eb4-490f-be08-21606a0b2581\" target=\"_top\" title=\"psysml:952d2fa1-4eb4-490f-be08-21606a0b2581\" xlink:actuate=\"onRequest\" xlink:href=\"psysml:952d2fa1-4eb4-490f-be08-21606a0b2581\" xlink:show=\"new\" xlink:title=\"psysml:952d2fa1-4eb4-490f-be08-21606a0b2581\" xlink:type=\"simple\"><rect fill=\"#FFFFFF\" height=\"42.9375\" id=\"E8\" rx=\"10\" ry=\"10\" style=\"stroke: #383838; stroke-width: 1.5;\" width=\"76\" x=\"32\" y=\"46.5\"/><rect fill=\"#F8F8F8\" height=\"37.9375\" rx=\"10\" ry=\"10\" style=\"stroke: #F8F8F8; stroke-width: 1.5;\" width=\"76\" x=\"32\" y=\"46.5\"/><rect fill=\"#F8F8F8\" height=\"10\" style=\"stroke: #F8F8F8; stroke-width: 1.5;\" width=\"76\" x=\"32\" y=\"74.4375\"/><rect fill=\"none\" height=\"42.9375\" id=\"E8\" rx=\"10\" ry=\"10\" style=\"stroke: #383838; stroke-width: 1.5;\" width=\"76\" x=\"32\" y=\"46.5\"/><text fill=\"#000000\" font-family=\"sans-serif\" font-size=\"12\" font-style=\"italic\" lengthAdjust=\"spacingAndGlyphs\" textLength=\"69\" x=\"35.5\" y=\"62.6387\">«attribute»</text><text fill=\"#000000\" font-family=\"sans-serif\" font-size=\"12\" lengthAdjust=\"spacingAndGlyphs\" textLength=\"7\" x=\"66.5\" y=\"76.6074\">c</text></a></g><!--MD5=[fb5c511c1ce6a846d5f17996af286dc3]\n",
       "@startuml\r\n",
       "skinparam ranksep 8\r\n",
       "skinparam rectangle {\r\n",
       " backgroundColor<<block>> LightGreen\r\n",
       "}\r\n",
       "top to bottom direction\r\n",
       "skinparam monochrome true\r\n",
       "skinparam classbackgroundcolor white\r\n",
       "skinparam shadowing false\r\n",
       "skinparam wrapWidth 300\r\n",
       "hide circle\r\n",
       "\r\n",
       "package \"ParameterTest\" as E1  [[psysml:934b4cb7-0388-44aa-8a43-948e0e0270d7 ]]  {\r\n",
       "def \"A\" as E2  <<(T,blue)attribute def>> [[psysml:129c5bc9-5e36-4fac-a06d-7961ccb64091 ]] \r\n",
       "rec usage \"a: A\" as E3  <<(T,blue)attribute>> [[psysml:50405f72-7bb1-41da-960b-ed203bf92c2d ]] {\r\n",
       "}\r\n",
       "def \"F\" as E4  <<(T,blue)calculation def>> [[psysml:84637ab1-2e14-49ab-80b7-3fb2aa846372 ]] \r\n",
       "rec usage \"f\" as E5  <<(T,blue)attribute>> [[psysml:88b39ab3-39a3-49e4-a823-2b19bc6cfd18 ]] {\r\n",
       "}\r\n",
       "rec usage \"g\" as E6  <<(T,blue)attribute>> [[psysml:3f28e8b6-a431-4098-a991-c6c646c27e19 ]] {\r\n",
       "}\r\n",
       "rec usage \"b\" as E7  <<(T,blue)attribute>> [[psysml:a48346b2-888a-436e-97f1-e60fac760a88 ]] {\r\n",
       "}\r\n",
       "rec usage \"c\" as E8  <<(T,blue)attribute>> [[psysml:952d2fa1-4eb4-490f-be08-21606a0b2581 ]] {\r\n",
       "}\r\n",
       "}\r\n",
       "@enduml\r\n",
       "\n",
       "PlantUML version 1.2020.13(Sat Jun 13 12:26:38 UTC 2020)\n",
       "(EPL source distribution)\n",
       "Java Runtime: OpenJDK Runtime Environment\n",
       "JVM: OpenJDK 64-Bit Server VM\n",
       "Default Encoding: UTF-8\n",
       "Language: en\n",
       "Country: null\n",
       "--></g></svg>"
      ]
     },
     "execution_count": 47,
     "metadata": {},
     "output_type": "execute_result"
    }
   ],
   "source": [
    "%viz --style=\"TB\" --view=\"Interconnection\" \"ParameterTest\""
   ]
  },
  {
   "cell_type": "code",
   "execution_count": 48,
   "id": "cordless-count",
   "metadata": {
    "execution": {
     "iopub.execute_input": "2021-03-26T09:13:03.637851Z",
     "iopub.status.busy": "2021-03-26T09:13:03.637503Z",
     "iopub.status.idle": "2021-03-26T09:13:03.656279Z",
     "shell.execute_reply": "2021-03-26T09:13:03.655993Z"
    }
   },
   "outputs": [
    {
     "data": {
      "image/svg+xml": [
       "<?xml version=\"1.0\" encoding=\"UTF-8\" standalone=\"no\"?><svg xmlns=\"http://www.w3.org/2000/svg\" xmlns:xlink=\"http://www.w3.org/1999/xlink\" contentScriptType=\"application/ecmascript\" contentStyleType=\"text/css\" height=\"126px\" preserveAspectRatio=\"none\" style=\"width:166px;height:126px;\" version=\"1.1\" viewBox=\"0 0 166 126\" width=\"166px\" zoomAndPan=\"magnify\"><defs/><g><!--MD5=[fbc87193dbaf4d95561dea2c320d4a47]\n",
       "cluster E1--><a href=\"psysml:84637ab1-2e14-49ab-80b7-3fb2aa846372\" target=\"_top\" title=\"psysml:84637ab1-2e14-49ab-80b7-3fb2aa846372\" xlink:actuate=\"onRequest\" xlink:href=\"psysml:84637ab1-2e14-49ab-80b7-3fb2aa846372\" xlink:show=\"new\" xlink:title=\"psysml:84637ab1-2e14-49ab-80b7-3fb2aa846372\" xlink:type=\"simple\"><rect fill=\"#FFFFFF\" height=\"73\" id=\"E1\" style=\"stroke: #383838; stroke-width: 1.5;\" width=\"148\" x=\"7\" y=\"42.0986\"/><rect fill=\"#F8F8F8\" height=\"37.9375\" style=\"stroke: #383838; stroke-width: 1.5;\" width=\"148\" x=\"7\" y=\"42.0986\"/><text fill=\"#000000\" font-family=\"sans-serif\" font-size=\"12\" font-style=\"italic\" lengthAdjust=\"spacingAndGlyphs\" textLength=\"106\" x=\"28\" y=\"58.2373\">«calculation def»</text><text fill=\"#000000\" font-family=\"sans-serif\" font-size=\"12\" lengthAdjust=\"spacingAndGlyphs\" textLength=\"7\" x=\"77.5\" y=\"72.2061\">F</text></a><text fill=\"#000000\" font-family=\"sans-serif\" font-size=\"14\" lengthAdjust=\"spacingAndGlyphs\" textLength=\"9\" x=\"20.5\" y=\"20.7969\">p</text><rect fill=\"#383838\" height=\"12\" style=\"stroke: #F8F8F8; stroke-width: 1.5;\" width=\"12\" x=\"19\" y=\"36.0986\"/><text fill=\"#000000\" font-family=\"sans-serif\" font-size=\"14\" lengthAdjust=\"spacingAndGlyphs\" textLength=\"9\" x=\"67.5\" y=\"20.7969\">q</text><rect fill=\"#383838\" height=\"12\" style=\"stroke: #F8F8F8; stroke-width: 1.5;\" width=\"12\" x=\"66\" y=\"36.0986\"/><!--MD5=[e78173512f2c68572cf1304fcf7e971b]\n",
       "@startuml\r\n",
       "skinparam ranksep 8\r\n",
       "top to bottom direction\r\n",
       "skinparam monochrome true\r\n",
       "skinparam classbackgroundcolor white\r\n",
       "skinparam shadowing false\r\n",
       "skinparam wrapWidth 300\r\n",
       "hide circle\r\n",
       "\r\n",
       "rec def \"F\" as E1  <<(T,blue)calculation def>> [[psysml:84637ab1-2e14-49ab-80b7-3fb2aa846372 ]] {\r\n",
       "portin \"p\" as E2  [[psysml:64e82b47-cc13-4353-a930-54201d4c743b ]] \r\n",
       "portin \"q\" as E3  [[psysml:647ae971-dc5c-461d-bddf-e9c9561ef010 ]] \r\n",
       "}\r\n",
       "\r\n",
       "@enduml\r\n",
       "\n",
       "PlantUML version 1.2020.13(Sat Jun 13 12:26:38 UTC 2020)\n",
       "(EPL source distribution)\n",
       "Java Runtime: OpenJDK Runtime Environment\n",
       "JVM: OpenJDK 64-Bit Server VM\n",
       "Default Encoding: UTF-8\n",
       "Language: en\n",
       "Country: null\n",
       "--></g></svg>"
      ]
     },
     "execution_count": 48,
     "metadata": {},
     "output_type": "execute_result"
    }
   ],
   "source": [
    "%viz --style=\"TB\" --view=\"Action\" \"ParameterTest\""
   ]
  },
  {
   "cell_type": "code",
   "execution_count": 49,
   "id": "owned-robin",
   "metadata": {
    "execution": {
     "iopub.execute_input": "2021-03-26T09:13:03.710972Z",
     "iopub.status.busy": "2021-03-26T09:13:03.710592Z",
     "iopub.status.idle": "2021-03-26T09:13:03.747652Z",
     "shell.execute_reply": "2021-03-26T09:13:03.747352Z"
    }
   },
   "outputs": [
    {
     "data": {
      "image/svg+xml": [
       "<?xml version=\"1.0\" encoding=\"UTF-8\" standalone=\"no\"?><svg xmlns=\"http://www.w3.org/2000/svg\" xmlns:xlink=\"http://www.w3.org/1999/xlink\" contentScriptType=\"application/ecmascript\" contentStyleType=\"text/css\" height=\"280px\" preserveAspectRatio=\"none\" style=\"width:710px;height:280px;\" version=\"1.1\" viewBox=\"0 0 710 280\" width=\"710px\" zoomAndPan=\"magnify\"><defs/><g><!--MD5=[fbc87193dbaf4d95561dea2c320d4a47]\n",
       "cluster E1--><a href=\"psysml:934b4cb7-0388-44aa-8a43-948e0e0270d7\" target=\"_top\" title=\"psysml:934b4cb7-0388-44aa-8a43-948e0e0270d7\" xlink:actuate=\"onRequest\" xlink:href=\"psysml:934b4cb7-0388-44aa-8a43-948e0e0270d7\" xlink:show=\"new\" xlink:title=\"psysml:934b4cb7-0388-44aa-8a43-948e0e0270d7\" xlink:type=\"simple\"><polygon fill=\"#FFFFFF\" points=\"16,6,139,6,146,28.2969,688,28.2969,688,268,16,268,16,6\" style=\"stroke: #000000; stroke-width: 1.5;\"/><line style=\"stroke: #000000; stroke-width: 1.5;\" x1=\"16\" x2=\"146\" y1=\"28.2969\" y2=\"28.2969\"/><text fill=\"#000000\" font-family=\"sans-serif\" font-size=\"14\" font-weight=\"bold\" lengthAdjust=\"spacingAndGlyphs\" textLength=\"117\" x=\"20\" y=\"20.9951\">ParameterTest</text></a><!--MD5=[b4997ac47864f28c2f74865a473b2911]\n",
       "class E2--><a href=\"psysml:129c5bc9-5e36-4fac-a06d-7961ccb64091\" target=\"_top\" title=\"psysml:129c5bc9-5e36-4fac-a06d-7961ccb64091\" xlink:actuate=\"onRequest\" xlink:href=\"psysml:129c5bc9-5e36-4fac-a06d-7961ccb64091\" xlink:show=\"new\" xlink:title=\"psysml:129c5bc9-5e36-4fac-a06d-7961ccb64091\" xlink:type=\"simple\"><rect fill=\"#FFFFFF\" height=\"88.3516\" id=\"E2\" style=\"stroke: #383838; stroke-width: 1.5;\" width=\"95\" x=\"498.5\" y=\"164\"/><text fill=\"#000000\" font-family=\"sans-serif\" font-size=\"12\" font-style=\"italic\" lengthAdjust=\"spacingAndGlyphs\" textLength=\"93\" x=\"499.5\" y=\"180.1387\">«attribute def»</text><text fill=\"#000000\" font-family=\"sans-serif\" font-size=\"12\" lengthAdjust=\"spacingAndGlyphs\" textLength=\"8\" x=\"542\" y=\"194.1074\">A</text><line style=\"stroke: #383838; stroke-width: 1.5;\" x1=\"499.5\" x2=\"592.5\" y1=\"201.9375\" y2=\"201.9375\"/><text fill=\"#000000\" font-family=\"sans-serif\" font-size=\"11\" lengthAdjust=\"spacingAndGlyphs\" textLength=\"48\" x=\"504.5\" y=\"232.9526\">x: String</text><text fill=\"#000000\" font-family=\"sans-serif\" font-size=\"11\" lengthAdjust=\"spacingAndGlyphs\" textLength=\"21\" x=\"504.5\" y=\"245.7573\">y: A</text><line style=\"stroke: #383838; stroke-width: 1.0;\" x1=\"499.5\" x2=\"518.5\" y1=\"216.3398\" y2=\"216.3398\"/><text fill=\"#000000\" font-family=\"sans-serif\" font-size=\"11\" lengthAdjust=\"spacingAndGlyphs\" textLength=\"55\" x=\"518.5\" y=\"219.6479\">attributes</text><line style=\"stroke: #383838; stroke-width: 1.0;\" x1=\"573.5\" x2=\"592.5\" y1=\"216.3398\" y2=\"216.3398\"/></a><!--MD5=[09b614a08d8cba4a07c9adeb5e0fee81]\n",
       "class E3--><a href=\"psysml:50405f72-7bb1-41da-960b-ed203bf92c2d\" target=\"_top\" title=\"psysml:50405f72-7bb1-41da-960b-ed203bf92c2d\" xlink:actuate=\"onRequest\" xlink:href=\"psysml:50405f72-7bb1-41da-960b-ed203bf92c2d\" xlink:show=\"new\" xlink:title=\"psysml:50405f72-7bb1-41da-960b-ed203bf92c2d\" xlink:type=\"simple\"><rect fill=\"#FFFFFF\" height=\"45.9375\" id=\"E3\" rx=\"10\" ry=\"10\" style=\"stroke: #383838; stroke-width: 1.5;\" width=\"71\" x=\"600.5\" y=\"41\"/><text fill=\"#000000\" font-family=\"sans-serif\" font-size=\"12\" font-style=\"italic\" lengthAdjust=\"spacingAndGlyphs\" textLength=\"69\" x=\"601.5\" y=\"57.1387\">«attribute»</text><text fill=\"#000000\" font-family=\"sans-serif\" font-size=\"12\" lengthAdjust=\"spacingAndGlyphs\" textLength=\"24\" x=\"624\" y=\"71.1074\">a: A</text><line style=\"stroke: #383838; stroke-width: 1.5;\" x1=\"601.5\" x2=\"670.5\" y1=\"78.9375\" y2=\"78.9375\"/></a><!--MD5=[ebbe1d658d1005bcc118a6aa81145e00]\n",
       "class E4--><a href=\"psysml:84637ab1-2e14-49ab-80b7-3fb2aa846372\" target=\"_top\" title=\"psysml:84637ab1-2e14-49ab-80b7-3fb2aa846372\" xlink:actuate=\"onRequest\" xlink:href=\"psysml:84637ab1-2e14-49ab-80b7-3fb2aa846372\" xlink:show=\"new\" xlink:title=\"psysml:84637ab1-2e14-49ab-80b7-3fb2aa846372\" xlink:type=\"simple\"><rect fill=\"#FFFFFF\" height=\"45.9375\" id=\"E4\" style=\"stroke: #383838; stroke-width: 1.5;\" width=\"108\" x=\"457\" y=\"41\"/><text fill=\"#000000\" font-family=\"sans-serif\" font-size=\"12\" font-style=\"italic\" lengthAdjust=\"spacingAndGlyphs\" textLength=\"106\" x=\"458\" y=\"57.1387\">«calculation def»</text><text fill=\"#000000\" font-family=\"sans-serif\" font-size=\"12\" lengthAdjust=\"spacingAndGlyphs\" textLength=\"7\" x=\"507.5\" y=\"71.1074\">F</text><line style=\"stroke: #383838; stroke-width: 1.5;\" x1=\"458\" x2=\"564\" y1=\"78.9375\" y2=\"78.9375\"/></a><!--MD5=[270fce915f116d4de14055a7c1d9a0f3]\n",
       "class E5--><a href=\"psysml:88b39ab3-39a3-49e4-a823-2b19bc6cfd18\" target=\"_top\" title=\"psysml:88b39ab3-39a3-49e4-a823-2b19bc6cfd18\" xlink:actuate=\"onRequest\" xlink:href=\"psysml:88b39ab3-39a3-49e4-a823-2b19bc6cfd18\" xlink:show=\"new\" xlink:title=\"psysml:88b39ab3-39a3-49e4-a823-2b19bc6cfd18\" xlink:type=\"simple\"><rect fill=\"#FFFFFF\" height=\"45.9375\" id=\"E5\" rx=\"10\" ry=\"10\" style=\"stroke: #383838; stroke-width: 1.5;\" width=\"71\" x=\"350.5\" y=\"41\"/><text fill=\"#000000\" font-family=\"sans-serif\" font-size=\"12\" font-style=\"italic\" lengthAdjust=\"spacingAndGlyphs\" textLength=\"69\" x=\"351.5\" y=\"57.1387\">«attribute»</text><text fill=\"#000000\" font-family=\"sans-serif\" font-size=\"12\" lengthAdjust=\"spacingAndGlyphs\" textLength=\"4\" x=\"384\" y=\"71.1074\">f</text><line style=\"stroke: #383838; stroke-width: 1.5;\" x1=\"351.5\" x2=\"420.5\" y1=\"78.9375\" y2=\"78.9375\"/></a><!--MD5=[60a26617385b1d2d0262a64233df1f8d]\n",
       "class E6--><a href=\"psysml:3f28e8b6-a431-4098-a991-c6c646c27e19\" target=\"_top\" title=\"psysml:3f28e8b6-a431-4098-a991-c6c646c27e19\" xlink:actuate=\"onRequest\" xlink:href=\"psysml:3f28e8b6-a431-4098-a991-c6c646c27e19\" xlink:show=\"new\" xlink:title=\"psysml:3f28e8b6-a431-4098-a991-c6c646c27e19\" xlink:type=\"simple\"><rect fill=\"#FFFFFF\" height=\"45.9375\" id=\"E6\" rx=\"10\" ry=\"10\" style=\"stroke: #383838; stroke-width: 1.5;\" width=\"71\" x=\"244.5\" y=\"41\"/><text fill=\"#000000\" font-family=\"sans-serif\" font-size=\"12\" font-style=\"italic\" lengthAdjust=\"spacingAndGlyphs\" textLength=\"69\" x=\"245.5\" y=\"57.1387\">«attribute»</text><text fill=\"#000000\" font-family=\"sans-serif\" font-size=\"12\" lengthAdjust=\"spacingAndGlyphs\" textLength=\"8\" x=\"276\" y=\"71.1074\">g</text><line style=\"stroke: #383838; stroke-width: 1.5;\" x1=\"245.5\" x2=\"314.5\" y1=\"78.9375\" y2=\"78.9375\"/></a><!--MD5=[2156ba9850f5573cc1fc38a6a4b2f02b]\n",
       "class E7--><a href=\"psysml:a48346b2-888a-436e-97f1-e60fac760a88\" target=\"_top\" title=\"psysml:a48346b2-888a-436e-97f1-e60fac760a88\" xlink:actuate=\"onRequest\" xlink:href=\"psysml:a48346b2-888a-436e-97f1-e60fac760a88\" xlink:show=\"new\" xlink:title=\"psysml:a48346b2-888a-436e-97f1-e60fac760a88\" xlink:type=\"simple\"><rect fill=\"#FFFFFF\" height=\"45.9375\" id=\"E7\" rx=\"10\" ry=\"10\" style=\"stroke: #383838; stroke-width: 1.5;\" width=\"71\" x=\"138.5\" y=\"41\"/><text fill=\"#000000\" font-family=\"sans-serif\" font-size=\"12\" font-style=\"italic\" lengthAdjust=\"spacingAndGlyphs\" textLength=\"69\" x=\"139.5\" y=\"57.1387\">«attribute»</text><text fill=\"#000000\" font-family=\"sans-serif\" font-size=\"12\" lengthAdjust=\"spacingAndGlyphs\" textLength=\"8\" x=\"170\" y=\"71.1074\">b</text><line style=\"stroke: #383838; stroke-width: 1.5;\" x1=\"139.5\" x2=\"208.5\" y1=\"78.9375\" y2=\"78.9375\"/></a><!--MD5=[b9389687b975829384b498ac4b7476b2]\n",
       "class E8--><a href=\"psysml:952d2fa1-4eb4-490f-be08-21606a0b2581\" target=\"_top\" title=\"psysml:952d2fa1-4eb4-490f-be08-21606a0b2581\" xlink:actuate=\"onRequest\" xlink:href=\"psysml:952d2fa1-4eb4-490f-be08-21606a0b2581\" xlink:show=\"new\" xlink:title=\"psysml:952d2fa1-4eb4-490f-be08-21606a0b2581\" xlink:type=\"simple\"><rect fill=\"#FFFFFF\" height=\"45.9375\" id=\"E8\" rx=\"10\" ry=\"10\" style=\"stroke: #383838; stroke-width: 1.5;\" width=\"71\" x=\"32.5\" y=\"41\"/><text fill=\"#000000\" font-family=\"sans-serif\" font-size=\"12\" font-style=\"italic\" lengthAdjust=\"spacingAndGlyphs\" textLength=\"69\" x=\"33.5\" y=\"57.1387\">«attribute»</text><text fill=\"#000000\" font-family=\"sans-serif\" font-size=\"12\" lengthAdjust=\"spacingAndGlyphs\" textLength=\"7\" x=\"64.5\" y=\"71.1074\">c</text><line style=\"stroke: #383838; stroke-width: 1.5;\" x1=\"33.5\" x2=\"102.5\" y1=\"78.9375\" y2=\"78.9375\"/></a><!--MD5=[05d275557350bfb9b23a4ef7222b4c39]\n",
       "link E3 to E2--><a href=\"psysml:7569b902-ac88-47a0-a36a-be78510f169c\" target=\"_top\" title=\"psysml:7569b902-ac88-47a0-a36a-be78510f169c\" xlink:actuate=\"onRequest\" xlink:href=\"psysml:7569b902-ac88-47a0-a36a-be78510f169c\" xlink:show=\"new\" xlink:title=\"psysml:7569b902-ac88-47a0-a36a-be78510f169c\" xlink:type=\"simple\"><path d=\"M621.94,87.19 C611.77,103.23 597.51,125.73 584.09,146.9 \" fill=\"none\" id=\"E3-&gt;E2\" style=\"stroke: #383838; stroke-width: 1.0;\"/><polygon fill=\"#FFFFFF\" points=\"573.37,163.82,577.6195,144.0225,589.448,151.5115,573.37,163.82\" style=\"stroke: #383838; stroke-width: 1.0;\"/><ellipse cx=\"582.3584\" cy=\"140.2764\" fill=\"#383838\" rx=\"2\" ry=\"2\" style=\"stroke: #383838; stroke-width: 1.0;\"/><ellipse cx=\"590.8073\" cy=\"145.6258\" fill=\"#383838\" rx=\"2\" ry=\"2\" style=\"stroke: #383838; stroke-width: 1.0;\"/></a><!--MD5=[ddeed8deb2209213b62e6cfabaa108b2]\n",
       "reverse link E4 to E2--><a href=\"psysml:64e82b47-cc13-4353-a930-54201d4c743b\" target=\"_top\" title=\"psysml:64e82b47-cc13-4353-a930-54201d4c743b\" xlink:actuate=\"onRequest\" xlink:href=\"psysml:64e82b47-cc13-4353-a930-54201d4c743b\" xlink:show=\"new\" xlink:title=\"psysml:64e82b47-cc13-4353-a930-54201d4c743b\" xlink:type=\"simple\"><path d=\"M519.62,99.96 C524.37,119.25 530.31,143.36 535.36,163.82 \" fill=\"none\" id=\"E4&lt;-E2\" style=\"stroke: #383838; stroke-width: 1.0;\"/><polygon fill=\"#FFFFFF\" points=\"516.47,87.19,514.0229,93.9732,519.3432,98.841,521.7903,92.0577,516.47,87.19\" style=\"stroke: #383838; stroke-width: 1.0;\"/><text fill=\"#000000\" font-family=\"sans-serif\" font-size=\"13\" lengthAdjust=\"spacingAndGlyphs\" textLength=\"8\" x=\"528\" y=\"130.0669\">p</text></a><!--MD5=[9bdbb73dd242c4e898a4bf47d91ddec1]\n",
       "@startuml\r\n",
       "top to bottom direction\r\n",
       "skinparam monochrome true\r\n",
       "skinparam classbackgroundcolor white\r\n",
       "skinparam shadowing false\r\n",
       "skinparam wrapWidth 300\r\n",
       "hide circle\r\n",
       "\r\n",
       "package \"ParameterTest\" as E1  [[psysml:934b4cb7-0388-44aa-8a43-948e0e0270d7 ]]  {\r\n",
       "comp def \"A\" as E2  <<(T,blue)attribute def>> [[psysml:129c5bc9-5e36-4fac-a06d-7961ccb64091 ]] {\r\n",
       "- - attributes - -\r\n",
       "x: String\r\n",
       "y: A\r\n",
       "}\r\n",
       "comp usage \"a: A\" as E3  <<(T,blue)attribute>> [[psysml:50405f72-7bb1-41da-960b-ed203bf92c2d ]] {\r\n",
       "}\r\n",
       "comp def \"F\" as E4  <<(T,blue)calculation def>> [[psysml:84637ab1-2e14-49ab-80b7-3fb2aa846372 ]] {\r\n",
       "}\r\n",
       "comp usage \"f\" as E5  <<(T,blue)attribute>> [[psysml:88b39ab3-39a3-49e4-a823-2b19bc6cfd18 ]] {\r\n",
       "}\r\n",
       "comp usage \"g\" as E6  <<(T,blue)attribute>> [[psysml:3f28e8b6-a431-4098-a991-c6c646c27e19 ]] {\r\n",
       "}\r\n",
       "comp usage \"b\" as E7  <<(T,blue)attribute>> [[psysml:a48346b2-888a-436e-97f1-e60fac760a88 ]] {\r\n",
       "}\r\n",
       "comp usage \"c\" as E8  <<(T,blue)attribute>> [[psysml:952d2fa1-4eb4-490f-be08-21606a0b2581 ]] {\r\n",
       "}\r\n",
       "E3 - -:|> E2 [[psysml:7569b902-ac88-47a0-a36a-be78510f169c ]] \r\n",
       "E4 o- - E2 [[psysml:64e82b47-cc13-4353-a930-54201d4c743b ]] : p\r\n",
       "}\r\n",
       "@enduml\r\n",
       "\n",
       "PlantUML version 1.2020.13(Sat Jun 13 12:26:38 UTC 2020)\n",
       "(EPL source distribution)\n",
       "Java Runtime: OpenJDK Runtime Environment\n",
       "JVM: OpenJDK 64-Bit Server VM\n",
       "Default Encoding: UTF-8\n",
       "Language: en\n",
       "Country: null\n",
       "--></g></svg>"
      ]
     },
     "execution_count": 49,
     "metadata": {},
     "output_type": "execute_result"
    }
   ],
   "source": [
    "%viz --style=\"TB\" --view=\"Sequence\" \"ParameterTest\""
   ]
  },
  {
   "cell_type": "code",
   "execution_count": 50,
   "id": "sized-crawford",
   "metadata": {
    "execution": {
     "iopub.execute_input": "2021-03-26T09:13:03.798018Z",
     "iopub.status.busy": "2021-03-26T09:13:03.797591Z",
     "iopub.status.idle": "2021-03-26T09:13:03.841170Z",
     "shell.execute_reply": "2021-03-26T09:13:03.839939Z"
    }
   },
   "outputs": [
    {
     "data": {
      "image/svg+xml": [
       "<?xml version=\"1.0\" encoding=\"UTF-8\" standalone=\"no\"?><svg xmlns=\"http://www.w3.org/2000/svg\" xmlns:xlink=\"http://www.w3.org/1999/xlink\" contentScriptType=\"application/ecmascript\" contentStyleType=\"text/css\" height=\"263px\" preserveAspectRatio=\"none\" style=\"width:740px;height:263px;\" version=\"1.1\" viewBox=\"0 0 740 263\" width=\"740px\" zoomAndPan=\"magnify\"><defs/><g><!--MD5=[fbc87193dbaf4d95561dea2c320d4a47]\n",
       "cluster E1--><a href=\"psysml:934b4cb7-0388-44aa-8a43-948e0e0270d7\" target=\"_top\" title=\"psysml:934b4cb7-0388-44aa-8a43-948e0e0270d7\" xlink:actuate=\"onRequest\" xlink:href=\"psysml:934b4cb7-0388-44aa-8a43-948e0e0270d7\" xlink:show=\"new\" xlink:title=\"psysml:934b4cb7-0388-44aa-8a43-948e0e0270d7\" xlink:type=\"simple\"><polygon fill=\"#FFFFFF\" points=\"16,6,139,6,146,28.2969,718,28.2969,718,251,16,251,16,6\" style=\"stroke: #000000; stroke-width: 1.5;\"/><line style=\"stroke: #000000; stroke-width: 1.5;\" x1=\"16\" x2=\"146\" y1=\"28.2969\" y2=\"28.2969\"/><text fill=\"#000000\" font-family=\"sans-serif\" font-size=\"14\" font-weight=\"bold\" lengthAdjust=\"spacingAndGlyphs\" textLength=\"117\" x=\"20\" y=\"20.9951\">ParameterTest</text></a><!--MD5=[f6df4d0ebaf0b5dfb2ced0ae5af7c670]\n",
       "cluster E4--><a href=\"psysml:84637ab1-2e14-49ab-80b7-3fb2aa846372\" target=\"_top\" title=\"psysml:84637ab1-2e14-49ab-80b7-3fb2aa846372\" xlink:actuate=\"onRequest\" xlink:href=\"psysml:84637ab1-2e14-49ab-80b7-3fb2aa846372\" xlink:show=\"new\" xlink:title=\"psysml:84637ab1-2e14-49ab-80b7-3fb2aa846372\" xlink:type=\"simple\"><rect fill=\"#FFFFFF\" height=\"160.5\" id=\"E4\" style=\"stroke: #383838; stroke-width: 1.5;\" width=\"148\" x=\"554\" y=\"64\"/><rect fill=\"#F8F8F8\" height=\"37.9375\" style=\"stroke: #383838; stroke-width: 1.5;\" width=\"148\" x=\"554\" y=\"64\"/><text fill=\"#000000\" font-family=\"sans-serif\" font-size=\"12\" font-style=\"italic\" lengthAdjust=\"spacingAndGlyphs\" textLength=\"106\" x=\"575\" y=\"80.1387\">«calculation def»</text><text fill=\"#000000\" font-family=\"sans-serif\" font-size=\"12\" lengthAdjust=\"spacingAndGlyphs\" textLength=\"7\" x=\"624.5\" y=\"94.1074\">F</text></a><!--MD5=[b4997ac47864f28c2f74865a473b2911]\n",
       "class E2--><a href=\"psysml:129c5bc9-5e36-4fac-a06d-7961ccb64091\" target=\"_top\" title=\"psysml:129c5bc9-5e36-4fac-a06d-7961ccb64091\" xlink:actuate=\"onRequest\" xlink:href=\"psysml:129c5bc9-5e36-4fac-a06d-7961ccb64091\" xlink:show=\"new\" xlink:title=\"psysml:129c5bc9-5e36-4fac-a06d-7961ccb64091\" xlink:type=\"simple\"><rect fill=\"#FFFFFF\" height=\"88.3516\" id=\"E2\" style=\"stroke: #383838; stroke-width: 1.5;\" width=\"95\" x=\"422.5\" y=\"147\"/><text fill=\"#000000\" font-family=\"sans-serif\" font-size=\"12\" font-style=\"italic\" lengthAdjust=\"spacingAndGlyphs\" textLength=\"93\" x=\"423.5\" y=\"163.1387\">«attribute def»</text><text fill=\"#000000\" font-family=\"sans-serif\" font-size=\"12\" lengthAdjust=\"spacingAndGlyphs\" textLength=\"8\" x=\"466\" y=\"177.1074\">A</text><line style=\"stroke: #383838; stroke-width: 1.5;\" x1=\"423.5\" x2=\"516.5\" y1=\"184.9375\" y2=\"184.9375\"/><text fill=\"#000000\" font-family=\"sans-serif\" font-size=\"11\" lengthAdjust=\"spacingAndGlyphs\" textLength=\"48\" x=\"428.5\" y=\"215.9526\">x: String</text><text fill=\"#000000\" font-family=\"sans-serif\" font-size=\"11\" lengthAdjust=\"spacingAndGlyphs\" textLength=\"21\" x=\"428.5\" y=\"228.7573\">y: A</text><line style=\"stroke: #383838; stroke-width: 1.0;\" x1=\"423.5\" x2=\"442.5\" y1=\"199.3398\" y2=\"199.3398\"/><text fill=\"#000000\" font-family=\"sans-serif\" font-size=\"11\" lengthAdjust=\"spacingAndGlyphs\" textLength=\"55\" x=\"442.5\" y=\"202.6479\">attributes</text><line style=\"stroke: #383838; stroke-width: 1.0;\" x1=\"497.5\" x2=\"516.5\" y1=\"199.3398\" y2=\"199.3398\"/></a><!--MD5=[09b614a08d8cba4a07c9adeb5e0fee81]\n",
       "class E3--><a href=\"psysml:50405f72-7bb1-41da-960b-ed203bf92c2d\" target=\"_top\" title=\"psysml:50405f72-7bb1-41da-960b-ed203bf92c2d\" xlink:actuate=\"onRequest\" xlink:href=\"psysml:50405f72-7bb1-41da-960b-ed203bf92c2d\" xlink:show=\"new\" xlink:title=\"psysml:50405f72-7bb1-41da-960b-ed203bf92c2d\" xlink:type=\"simple\"><rect fill=\"#FFFFFF\" height=\"45.9375\" id=\"E3\" rx=\"10\" ry=\"10\" style=\"stroke: #383838; stroke-width: 1.5;\" width=\"71\" x=\"456.5\" y=\"41\"/><text fill=\"#000000\" font-family=\"sans-serif\" font-size=\"12\" font-style=\"italic\" lengthAdjust=\"spacingAndGlyphs\" textLength=\"69\" x=\"457.5\" y=\"57.1387\">«attribute»</text><text fill=\"#000000\" font-family=\"sans-serif\" font-size=\"12\" lengthAdjust=\"spacingAndGlyphs\" textLength=\"24\" x=\"480\" y=\"71.1074\">a: A</text><line style=\"stroke: #383838; stroke-width: 1.5;\" x1=\"457.5\" x2=\"526.5\" y1=\"78.9375\" y2=\"78.9375\"/></a><!--MD5=[2156ba9850f5573cc1fc38a6a4b2f02b]\n",
       "class E7--><a href=\"psysml:88b39ab3-39a3-49e4-a823-2b19bc6cfd18\" target=\"_top\" title=\"psysml:88b39ab3-39a3-49e4-a823-2b19bc6cfd18\" xlink:actuate=\"onRequest\" xlink:href=\"psysml:88b39ab3-39a3-49e4-a823-2b19bc6cfd18\" xlink:show=\"new\" xlink:title=\"psysml:88b39ab3-39a3-49e4-a823-2b19bc6cfd18\" xlink:type=\"simple\"><rect fill=\"#FFFFFF\" height=\"45.9375\" id=\"E7\" rx=\"10\" ry=\"10\" style=\"stroke: #383838; stroke-width: 1.5;\" width=\"71\" x=\"350.5\" y=\"41\"/><text fill=\"#000000\" font-family=\"sans-serif\" font-size=\"12\" font-style=\"italic\" lengthAdjust=\"spacingAndGlyphs\" textLength=\"69\" x=\"351.5\" y=\"57.1387\">«attribute»</text><text fill=\"#000000\" font-family=\"sans-serif\" font-size=\"12\" lengthAdjust=\"spacingAndGlyphs\" textLength=\"4\" x=\"384\" y=\"71.1074\">f</text><line style=\"stroke: #383838; stroke-width: 1.5;\" x1=\"351.5\" x2=\"420.5\" y1=\"78.9375\" y2=\"78.9375\"/></a><!--MD5=[b9389687b975829384b498ac4b7476b2]\n",
       "class E8--><a href=\"psysml:3f28e8b6-a431-4098-a991-c6c646c27e19\" target=\"_top\" title=\"psysml:3f28e8b6-a431-4098-a991-c6c646c27e19\" xlink:actuate=\"onRequest\" xlink:href=\"psysml:3f28e8b6-a431-4098-a991-c6c646c27e19\" xlink:show=\"new\" xlink:title=\"psysml:3f28e8b6-a431-4098-a991-c6c646c27e19\" xlink:type=\"simple\"><rect fill=\"#FFFFFF\" height=\"45.9375\" id=\"E8\" rx=\"10\" ry=\"10\" style=\"stroke: #383838; stroke-width: 1.5;\" width=\"71\" x=\"244.5\" y=\"41\"/><text fill=\"#000000\" font-family=\"sans-serif\" font-size=\"12\" font-style=\"italic\" lengthAdjust=\"spacingAndGlyphs\" textLength=\"69\" x=\"245.5\" y=\"57.1387\">«attribute»</text><text fill=\"#000000\" font-family=\"sans-serif\" font-size=\"12\" lengthAdjust=\"spacingAndGlyphs\" textLength=\"8\" x=\"276\" y=\"71.1074\">g</text><line style=\"stroke: #383838; stroke-width: 1.5;\" x1=\"245.5\" x2=\"314.5\" y1=\"78.9375\" y2=\"78.9375\"/></a><!--MD5=[fd4143e9d270a159db93a4ea2a975926]\n",
       "class E9--><a href=\"psysml:a48346b2-888a-436e-97f1-e60fac760a88\" target=\"_top\" title=\"psysml:a48346b2-888a-436e-97f1-e60fac760a88\" xlink:actuate=\"onRequest\" xlink:href=\"psysml:a48346b2-888a-436e-97f1-e60fac760a88\" xlink:show=\"new\" xlink:title=\"psysml:a48346b2-888a-436e-97f1-e60fac760a88\" xlink:type=\"simple\"><rect fill=\"#FFFFFF\" height=\"45.9375\" id=\"E9\" rx=\"10\" ry=\"10\" style=\"stroke: #383838; stroke-width: 1.5;\" width=\"71\" x=\"138.5\" y=\"41\"/><text fill=\"#000000\" font-family=\"sans-serif\" font-size=\"12\" font-style=\"italic\" lengthAdjust=\"spacingAndGlyphs\" textLength=\"69\" x=\"139.5\" y=\"57.1387\">«attribute»</text><text fill=\"#000000\" font-family=\"sans-serif\" font-size=\"12\" lengthAdjust=\"spacingAndGlyphs\" textLength=\"8\" x=\"170\" y=\"71.1074\">b</text><line style=\"stroke: #383838; stroke-width: 1.5;\" x1=\"139.5\" x2=\"208.5\" y1=\"78.9375\" y2=\"78.9375\"/></a><!--MD5=[96f4274e9e20536e775497830990834d]\n",
       "class E10--><a href=\"psysml:952d2fa1-4eb4-490f-be08-21606a0b2581\" target=\"_top\" title=\"psysml:952d2fa1-4eb4-490f-be08-21606a0b2581\" xlink:actuate=\"onRequest\" xlink:href=\"psysml:952d2fa1-4eb4-490f-be08-21606a0b2581\" xlink:show=\"new\" xlink:title=\"psysml:952d2fa1-4eb4-490f-be08-21606a0b2581\" xlink:type=\"simple\"><rect fill=\"#FFFFFF\" height=\"45.9375\" id=\"E10\" rx=\"10\" ry=\"10\" style=\"stroke: #383838; stroke-width: 1.5;\" width=\"71\" x=\"32.5\" y=\"41\"/><text fill=\"#000000\" font-family=\"sans-serif\" font-size=\"12\" font-style=\"italic\" lengthAdjust=\"spacingAndGlyphs\" textLength=\"69\" x=\"33.5\" y=\"57.1387\">«attribute»</text><text fill=\"#000000\" font-family=\"sans-serif\" font-size=\"12\" lengthAdjust=\"spacingAndGlyphs\" textLength=\"7\" x=\"64.5\" y=\"71.1074\">c</text><line style=\"stroke: #383838; stroke-width: 1.5;\" x1=\"33.5\" x2=\"102.5\" y1=\"78.9375\" y2=\"78.9375\"/></a><text fill=\"#000000\" font-family=\"sans-serif\" font-size=\"14\" lengthAdjust=\"spacingAndGlyphs\" textLength=\"9\" x=\"567.5\" y=\"42.6982\">p</text><rect fill=\"#383838\" height=\"12\" style=\"stroke: #F8F8F8; stroke-width: 1.5;\" width=\"12\" x=\"566\" y=\"58\"/><text fill=\"#000000\" font-family=\"sans-serif\" font-size=\"14\" lengthAdjust=\"spacingAndGlyphs\" textLength=\"9\" x=\"614.5\" y=\"42.6982\">q</text><rect fill=\"#383838\" height=\"12\" style=\"stroke: #F8F8F8; stroke-width: 1.5;\" width=\"12\" x=\"613\" y=\"58\"/><!--MD5=[05d275557350bfb9b23a4ef7222b4c39]\n",
       "link E3 to E2--><a href=\"psysml:7569b902-ac88-47a0-a36a-be78510f169c\" target=\"_top\" title=\"psysml:7569b902-ac88-47a0-a36a-be78510f169c\" xlink:actuate=\"onRequest\" xlink:href=\"psysml:7569b902-ac88-47a0-a36a-be78510f169c\" xlink:show=\"new\" xlink:title=\"psysml:7569b902-ac88-47a0-a36a-be78510f169c\" xlink:type=\"simple\"><path d=\"M488.12,87.06 C486.14,98.3 483.62,112.6 481.1,126.95 \" fill=\"none\" id=\"E3-&gt;E2\" style=\"stroke: #383838; stroke-width: 1.0;\"/><polygon fill=\"#FFFFFF\" points=\"477.58,146.93,473.9835,127.0035,487.7711,129.4331,477.58,146.93\" style=\"stroke: #383838; stroke-width: 1.0;\"/><ellipse cx=\"476.9423\" cy=\"121.7371\" fill=\"#383838\" rx=\"2\" ry=\"2\" style=\"stroke: #383838; stroke-width: 1.0;\"/><ellipse cx=\"486.7906\" cy=\"123.4725\" fill=\"#383838\" rx=\"2\" ry=\"2\" style=\"stroke: #383838; stroke-width: 1.0;\"/></a><!--MD5=[6bce94a0f756f49af21648206c168732]\n",
       "@startuml\r\n",
       "top to bottom direction\r\n",
       "skinparam monochrome true\r\n",
       "skinparam classbackgroundcolor white\r\n",
       "skinparam shadowing false\r\n",
       "skinparam wrapWidth 300\r\n",
       "hide circle\r\n",
       "\r\n",
       "package \"ParameterTest\" as E1  [[psysml:934b4cb7-0388-44aa-8a43-948e0e0270d7 ]]  {\r\n",
       "comp def \"A\" as E2  <<(T,blue)attribute def>> [[psysml:129c5bc9-5e36-4fac-a06d-7961ccb64091 ]] {\r\n",
       "- - attributes - -\r\n",
       "x: String\r\n",
       "y: A\r\n",
       "}\r\n",
       "comp usage \"a: A\" as E3  <<(T,blue)attribute>> [[psysml:50405f72-7bb1-41da-960b-ed203bf92c2d ]] {\r\n",
       "}\r\n",
       "rec def \"F\" as E4  <<(T,blue)calculation def>> [[psysml:84637ab1-2e14-49ab-80b7-3fb2aa846372 ]] {\r\n",
       "portin \"p\" as E5  [[psysml:64e82b47-cc13-4353-a930-54201d4c743b ]] \r\n",
       "portin \"q\" as E6  [[psysml:647ae971-dc5c-461d-bddf-e9c9561ef010 ]] \r\n",
       "}\r\n",
       "\r\n",
       "comp usage \"f\" as E7  <<(T,blue)attribute>> [[psysml:88b39ab3-39a3-49e4-a823-2b19bc6cfd18 ]] {\r\n",
       "}\r\n",
       "comp usage \"g\" as E8  <<(T,blue)attribute>> [[psysml:3f28e8b6-a431-4098-a991-c6c646c27e19 ]] {\r\n",
       "}\r\n",
       "comp usage \"b\" as E9  <<(T,blue)attribute>> [[psysml:a48346b2-888a-436e-97f1-e60fac760a88 ]] {\r\n",
       "}\r\n",
       "comp usage \"c\" as E10  <<(T,blue)attribute>> [[psysml:952d2fa1-4eb4-490f-be08-21606a0b2581 ]] {\r\n",
       "}\r\n",
       "E3 - -:|> E2 [[psysml:7569b902-ac88-47a0-a36a-be78510f169c ]] \r\n",
       "}\r\n",
       "@enduml\r\n",
       "\n",
       "PlantUML version 1.2020.13(Sat Jun 13 12:26:38 UTC 2020)\n",
       "(EPL source distribution)\n",
       "Java Runtime: OpenJDK Runtime Environment\n",
       "JVM: OpenJDK 64-Bit Server VM\n",
       "Default Encoding: UTF-8\n",
       "Language: en\n",
       "Country: null\n",
       "--></g></svg>"
      ]
     },
     "execution_count": 50,
     "metadata": {},
     "output_type": "execute_result"
    }
   ],
   "source": [
    "%viz --style=\"TB\" --view=\"MIXED\" \"ParameterTest\""
   ]
  },
  {
   "cell_type": "code",
   "execution_count": 51,
   "id": "educated-database",
   "metadata": {
    "execution": {
     "iopub.execute_input": "2021-03-26T09:13:03.893150Z",
     "iopub.status.busy": "2021-03-26T09:13:03.892339Z",
     "iopub.status.idle": "2021-03-26T09:13:03.944139Z",
     "shell.execute_reply": "2021-03-26T09:13:03.942954Z"
    }
   },
   "outputs": [
    {
     "data": {
      "image/svg+xml": [
       "<?xml version=\"1.0\" encoding=\"UTF-8\" standalone=\"no\"?><svg xmlns=\"http://www.w3.org/2000/svg\" xmlns:xlink=\"http://www.w3.org/1999/xlink\" contentScriptType=\"application/ecmascript\" contentStyleType=\"text/css\" height=\"263px\" preserveAspectRatio=\"none\" style=\"width:740px;height:263px;\" version=\"1.1\" viewBox=\"0 0 740 263\" width=\"740px\" zoomAndPan=\"magnify\"><defs/><g><!--MD5=[fbc87193dbaf4d95561dea2c320d4a47]\n",
       "cluster E1--><a href=\"psysml:934b4cb7-0388-44aa-8a43-948e0e0270d7\" target=\"_top\" title=\"psysml:934b4cb7-0388-44aa-8a43-948e0e0270d7\" xlink:actuate=\"onRequest\" xlink:href=\"psysml:934b4cb7-0388-44aa-8a43-948e0e0270d7\" xlink:show=\"new\" xlink:title=\"psysml:934b4cb7-0388-44aa-8a43-948e0e0270d7\" xlink:type=\"simple\"><polygon fill=\"#FFFFFF\" points=\"16,6,139,6,146,28.2969,718,28.2969,718,251,16,251,16,6\" style=\"stroke: #000000; stroke-width: 1.5;\"/><line style=\"stroke: #000000; stroke-width: 1.5;\" x1=\"16\" x2=\"146\" y1=\"28.2969\" y2=\"28.2969\"/><text fill=\"#000000\" font-family=\"sans-serif\" font-size=\"14\" font-weight=\"bold\" lengthAdjust=\"spacingAndGlyphs\" textLength=\"117\" x=\"20\" y=\"20.9951\">ParameterTest</text></a><!--MD5=[f6df4d0ebaf0b5dfb2ced0ae5af7c670]\n",
       "cluster E4--><a href=\"psysml:84637ab1-2e14-49ab-80b7-3fb2aa846372\" target=\"_top\" title=\"psysml:84637ab1-2e14-49ab-80b7-3fb2aa846372\" xlink:actuate=\"onRequest\" xlink:href=\"psysml:84637ab1-2e14-49ab-80b7-3fb2aa846372\" xlink:show=\"new\" xlink:title=\"psysml:84637ab1-2e14-49ab-80b7-3fb2aa846372\" xlink:type=\"simple\"><rect fill=\"#FFFFFF\" height=\"160.5\" id=\"E4\" style=\"stroke: #383838; stroke-width: 1.5;\" width=\"148\" x=\"554\" y=\"64\"/><rect fill=\"#F8F8F8\" height=\"37.9375\" style=\"stroke: #383838; stroke-width: 1.5;\" width=\"148\" x=\"554\" y=\"64\"/><text fill=\"#000000\" font-family=\"sans-serif\" font-size=\"12\" font-style=\"italic\" lengthAdjust=\"spacingAndGlyphs\" textLength=\"106\" x=\"575\" y=\"80.1387\">«calculation def»</text><text fill=\"#000000\" font-family=\"sans-serif\" font-size=\"12\" lengthAdjust=\"spacingAndGlyphs\" textLength=\"7\" x=\"624.5\" y=\"94.1074\">F</text></a><!--MD5=[b4997ac47864f28c2f74865a473b2911]\n",
       "class E2--><a href=\"psysml:129c5bc9-5e36-4fac-a06d-7961ccb64091\" target=\"_top\" title=\"psysml:129c5bc9-5e36-4fac-a06d-7961ccb64091\" xlink:actuate=\"onRequest\" xlink:href=\"psysml:129c5bc9-5e36-4fac-a06d-7961ccb64091\" xlink:show=\"new\" xlink:title=\"psysml:129c5bc9-5e36-4fac-a06d-7961ccb64091\" xlink:type=\"simple\"><rect fill=\"#FFFFFF\" height=\"88.3516\" id=\"E2\" style=\"stroke: #383838; stroke-width: 1.5;\" width=\"95\" x=\"422.5\" y=\"147\"/><text fill=\"#000000\" font-family=\"sans-serif\" font-size=\"12\" font-style=\"italic\" lengthAdjust=\"spacingAndGlyphs\" textLength=\"93\" x=\"423.5\" y=\"163.1387\">«attribute def»</text><text fill=\"#000000\" font-family=\"sans-serif\" font-size=\"12\" lengthAdjust=\"spacingAndGlyphs\" textLength=\"8\" x=\"466\" y=\"177.1074\">A</text><line style=\"stroke: #383838; stroke-width: 1.5;\" x1=\"423.5\" x2=\"516.5\" y1=\"184.9375\" y2=\"184.9375\"/><text fill=\"#000000\" font-family=\"sans-serif\" font-size=\"11\" lengthAdjust=\"spacingAndGlyphs\" textLength=\"48\" x=\"428.5\" y=\"215.9526\">x: String</text><text fill=\"#000000\" font-family=\"sans-serif\" font-size=\"11\" lengthAdjust=\"spacingAndGlyphs\" textLength=\"21\" x=\"428.5\" y=\"228.7573\">y: A</text><line style=\"stroke: #383838; stroke-width: 1.0;\" x1=\"423.5\" x2=\"442.5\" y1=\"199.3398\" y2=\"199.3398\"/><text fill=\"#000000\" font-family=\"sans-serif\" font-size=\"11\" lengthAdjust=\"spacingAndGlyphs\" textLength=\"55\" x=\"442.5\" y=\"202.6479\">attributes</text><line style=\"stroke: #383838; stroke-width: 1.0;\" x1=\"497.5\" x2=\"516.5\" y1=\"199.3398\" y2=\"199.3398\"/></a><!--MD5=[09b614a08d8cba4a07c9adeb5e0fee81]\n",
       "class E3--><a href=\"psysml:50405f72-7bb1-41da-960b-ed203bf92c2d\" target=\"_top\" title=\"psysml:50405f72-7bb1-41da-960b-ed203bf92c2d\" xlink:actuate=\"onRequest\" xlink:href=\"psysml:50405f72-7bb1-41da-960b-ed203bf92c2d\" xlink:show=\"new\" xlink:title=\"psysml:50405f72-7bb1-41da-960b-ed203bf92c2d\" xlink:type=\"simple\"><rect fill=\"#FFFFFF\" height=\"45.9375\" id=\"E3\" rx=\"10\" ry=\"10\" style=\"stroke: #383838; stroke-width: 1.5;\" width=\"71\" x=\"456.5\" y=\"41\"/><text fill=\"#000000\" font-family=\"sans-serif\" font-size=\"12\" font-style=\"italic\" lengthAdjust=\"spacingAndGlyphs\" textLength=\"69\" x=\"457.5\" y=\"57.1387\">«attribute»</text><text fill=\"#000000\" font-family=\"sans-serif\" font-size=\"12\" lengthAdjust=\"spacingAndGlyphs\" textLength=\"24\" x=\"480\" y=\"71.1074\">a: A</text><line style=\"stroke: #383838; stroke-width: 1.5;\" x1=\"457.5\" x2=\"526.5\" y1=\"78.9375\" y2=\"78.9375\"/></a><!--MD5=[2156ba9850f5573cc1fc38a6a4b2f02b]\n",
       "class E7--><a href=\"psysml:88b39ab3-39a3-49e4-a823-2b19bc6cfd18\" target=\"_top\" title=\"psysml:88b39ab3-39a3-49e4-a823-2b19bc6cfd18\" xlink:actuate=\"onRequest\" xlink:href=\"psysml:88b39ab3-39a3-49e4-a823-2b19bc6cfd18\" xlink:show=\"new\" xlink:title=\"psysml:88b39ab3-39a3-49e4-a823-2b19bc6cfd18\" xlink:type=\"simple\"><rect fill=\"#FFFFFF\" height=\"45.9375\" id=\"E7\" rx=\"10\" ry=\"10\" style=\"stroke: #383838; stroke-width: 1.5;\" width=\"71\" x=\"350.5\" y=\"41\"/><text fill=\"#000000\" font-family=\"sans-serif\" font-size=\"12\" font-style=\"italic\" lengthAdjust=\"spacingAndGlyphs\" textLength=\"69\" x=\"351.5\" y=\"57.1387\">«attribute»</text><text fill=\"#000000\" font-family=\"sans-serif\" font-size=\"12\" lengthAdjust=\"spacingAndGlyphs\" textLength=\"4\" x=\"384\" y=\"71.1074\">f</text><line style=\"stroke: #383838; stroke-width: 1.5;\" x1=\"351.5\" x2=\"420.5\" y1=\"78.9375\" y2=\"78.9375\"/></a><!--MD5=[b9389687b975829384b498ac4b7476b2]\n",
       "class E8--><a href=\"psysml:3f28e8b6-a431-4098-a991-c6c646c27e19\" target=\"_top\" title=\"psysml:3f28e8b6-a431-4098-a991-c6c646c27e19\" xlink:actuate=\"onRequest\" xlink:href=\"psysml:3f28e8b6-a431-4098-a991-c6c646c27e19\" xlink:show=\"new\" xlink:title=\"psysml:3f28e8b6-a431-4098-a991-c6c646c27e19\" xlink:type=\"simple\"><rect fill=\"#FFFFFF\" height=\"45.9375\" id=\"E8\" rx=\"10\" ry=\"10\" style=\"stroke: #383838; stroke-width: 1.5;\" width=\"71\" x=\"244.5\" y=\"41\"/><text fill=\"#000000\" font-family=\"sans-serif\" font-size=\"12\" font-style=\"italic\" lengthAdjust=\"spacingAndGlyphs\" textLength=\"69\" x=\"245.5\" y=\"57.1387\">«attribute»</text><text fill=\"#000000\" font-family=\"sans-serif\" font-size=\"12\" lengthAdjust=\"spacingAndGlyphs\" textLength=\"8\" x=\"276\" y=\"71.1074\">g</text><line style=\"stroke: #383838; stroke-width: 1.5;\" x1=\"245.5\" x2=\"314.5\" y1=\"78.9375\" y2=\"78.9375\"/></a><!--MD5=[fd4143e9d270a159db93a4ea2a975926]\n",
       "class E9--><a href=\"psysml:a48346b2-888a-436e-97f1-e60fac760a88\" target=\"_top\" title=\"psysml:a48346b2-888a-436e-97f1-e60fac760a88\" xlink:actuate=\"onRequest\" xlink:href=\"psysml:a48346b2-888a-436e-97f1-e60fac760a88\" xlink:show=\"new\" xlink:title=\"psysml:a48346b2-888a-436e-97f1-e60fac760a88\" xlink:type=\"simple\"><rect fill=\"#FFFFFF\" height=\"45.9375\" id=\"E9\" rx=\"10\" ry=\"10\" style=\"stroke: #383838; stroke-width: 1.5;\" width=\"71\" x=\"138.5\" y=\"41\"/><text fill=\"#000000\" font-family=\"sans-serif\" font-size=\"12\" font-style=\"italic\" lengthAdjust=\"spacingAndGlyphs\" textLength=\"69\" x=\"139.5\" y=\"57.1387\">«attribute»</text><text fill=\"#000000\" font-family=\"sans-serif\" font-size=\"12\" lengthAdjust=\"spacingAndGlyphs\" textLength=\"8\" x=\"170\" y=\"71.1074\">b</text><line style=\"stroke: #383838; stroke-width: 1.5;\" x1=\"139.5\" x2=\"208.5\" y1=\"78.9375\" y2=\"78.9375\"/></a><!--MD5=[96f4274e9e20536e775497830990834d]\n",
       "class E10--><a href=\"psysml:952d2fa1-4eb4-490f-be08-21606a0b2581\" target=\"_top\" title=\"psysml:952d2fa1-4eb4-490f-be08-21606a0b2581\" xlink:actuate=\"onRequest\" xlink:href=\"psysml:952d2fa1-4eb4-490f-be08-21606a0b2581\" xlink:show=\"new\" xlink:title=\"psysml:952d2fa1-4eb4-490f-be08-21606a0b2581\" xlink:type=\"simple\"><rect fill=\"#FFFFFF\" height=\"45.9375\" id=\"E10\" rx=\"10\" ry=\"10\" style=\"stroke: #383838; stroke-width: 1.5;\" width=\"71\" x=\"32.5\" y=\"41\"/><text fill=\"#000000\" font-family=\"sans-serif\" font-size=\"12\" font-style=\"italic\" lengthAdjust=\"spacingAndGlyphs\" textLength=\"69\" x=\"33.5\" y=\"57.1387\">«attribute»</text><text fill=\"#000000\" font-family=\"sans-serif\" font-size=\"12\" lengthAdjust=\"spacingAndGlyphs\" textLength=\"7\" x=\"64.5\" y=\"71.1074\">c</text><line style=\"stroke: #383838; stroke-width: 1.5;\" x1=\"33.5\" x2=\"102.5\" y1=\"78.9375\" y2=\"78.9375\"/></a><text fill=\"#000000\" font-family=\"sans-serif\" font-size=\"14\" lengthAdjust=\"spacingAndGlyphs\" textLength=\"9\" x=\"567.5\" y=\"42.6982\">p</text><rect fill=\"#383838\" height=\"12\" style=\"stroke: #F8F8F8; stroke-width: 1.5;\" width=\"12\" x=\"566\" y=\"58\"/><text fill=\"#000000\" font-family=\"sans-serif\" font-size=\"14\" lengthAdjust=\"spacingAndGlyphs\" textLength=\"9\" x=\"614.5\" y=\"42.6982\">q</text><rect fill=\"#383838\" height=\"12\" style=\"stroke: #F8F8F8; stroke-width: 1.5;\" width=\"12\" x=\"613\" y=\"58\"/><!--MD5=[05d275557350bfb9b23a4ef7222b4c39]\n",
       "link E3 to E2--><a href=\"psysml:7569b902-ac88-47a0-a36a-be78510f169c\" target=\"_top\" title=\"psysml:7569b902-ac88-47a0-a36a-be78510f169c\" xlink:actuate=\"onRequest\" xlink:href=\"psysml:7569b902-ac88-47a0-a36a-be78510f169c\" xlink:show=\"new\" xlink:title=\"psysml:7569b902-ac88-47a0-a36a-be78510f169c\" xlink:type=\"simple\"><path d=\"M487,87.29 C487,87.29 487,126.78 487,126.78 \" fill=\"none\" id=\"E3-&gt;E2\" style=\"stroke: #383838; stroke-width: 1.0;\"/><polygon fill=\"#FFFFFF\" points=\"487,146.78,480,127.78,494,127.78,487,146.78\" style=\"stroke: #383838; stroke-width: 1.0;\"/><ellipse cx=\"482\" cy=\"122.08\" fill=\"#383838\" rx=\"2\" ry=\"2\" style=\"stroke: #383838; stroke-width: 1.0;\"/><ellipse cx=\"492\" cy=\"122.08\" fill=\"#383838\" rx=\"2\" ry=\"2\" style=\"stroke: #383838; stroke-width: 1.0;\"/></a><!--MD5=[5bd0246acffb7dca7afe41059126ed35]\n",
       "@startuml\r\n",
       "skinparam linetype ortho\r\n",
       "skinparam monochrome true\r\n",
       "skinparam classbackgroundcolor white\r\n",
       "skinparam shadowing false\r\n",
       "skinparam wrapWidth 300\r\n",
       "hide circle\r\n",
       "\r\n",
       "package \"ParameterTest\" as E1  [[psysml:934b4cb7-0388-44aa-8a43-948e0e0270d7 ]]  {\r\n",
       "comp def \"A\" as E2  <<(T,blue)attribute def>> [[psysml:129c5bc9-5e36-4fac-a06d-7961ccb64091 ]] {\r\n",
       "- - attributes - -\r\n",
       "x: String\r\n",
       "y: A\r\n",
       "}\r\n",
       "comp usage \"a: A\" as E3  <<(T,blue)attribute>> [[psysml:50405f72-7bb1-41da-960b-ed203bf92c2d ]] {\r\n",
       "}\r\n",
       "rec def \"F\" as E4  <<(T,blue)calculation def>> [[psysml:84637ab1-2e14-49ab-80b7-3fb2aa846372 ]] {\r\n",
       "portin \"p\" as E5  [[psysml:64e82b47-cc13-4353-a930-54201d4c743b ]] \r\n",
       "portin \"q\" as E6  [[psysml:647ae971-dc5c-461d-bddf-e9c9561ef010 ]] \r\n",
       "}\r\n",
       "\r\n",
       "comp usage \"f\" as E7  <<(T,blue)attribute>> [[psysml:88b39ab3-39a3-49e4-a823-2b19bc6cfd18 ]] {\r\n",
       "}\r\n",
       "comp usage \"g\" as E8  <<(T,blue)attribute>> [[psysml:3f28e8b6-a431-4098-a991-c6c646c27e19 ]] {\r\n",
       "}\r\n",
       "comp usage \"b\" as E9  <<(T,blue)attribute>> [[psysml:a48346b2-888a-436e-97f1-e60fac760a88 ]] {\r\n",
       "}\r\n",
       "comp usage \"c\" as E10  <<(T,blue)attribute>> [[psysml:952d2fa1-4eb4-490f-be08-21606a0b2581 ]] {\r\n",
       "}\r\n",
       "E3 - -:|> E2 [[psysml:7569b902-ac88-47a0-a36a-be78510f169c ]] \r\n",
       "}\r\n",
       "@enduml\r\n",
       "\n",
       "PlantUML version 1.2020.13(Sat Jun 13 12:26:38 UTC 2020)\n",
       "(EPL source distribution)\n",
       "Java Runtime: OpenJDK Runtime Environment\n",
       "JVM: OpenJDK 64-Bit Server VM\n",
       "Default Encoding: UTF-8\n",
       "Language: en\n",
       "Country: null\n",
       "--></g></svg>"
      ]
     },
     "execution_count": 51,
     "metadata": {},
     "output_type": "execute_result"
    }
   ],
   "source": [
    "%viz --style=\"ORTHOLINE\" --view=\"Default\" \"ParameterTest\""
   ]
  },
  {
   "cell_type": "code",
   "execution_count": 52,
   "id": "likely-commissioner",
   "metadata": {
    "execution": {
     "iopub.execute_input": "2021-03-26T09:13:03.994211Z",
     "iopub.status.busy": "2021-03-26T09:13:03.993846Z",
     "iopub.status.idle": "2021-03-26T09:13:04.032631Z",
     "shell.execute_reply": "2021-03-26T09:13:04.031369Z"
    }
   },
   "outputs": [
    {
     "data": {
      "image/svg+xml": [
       "<?xml version=\"1.0\" encoding=\"UTF-8\" standalone=\"no\"?><svg xmlns=\"http://www.w3.org/2000/svg\" xmlns:xlink=\"http://www.w3.org/1999/xlink\" contentScriptType=\"application/ecmascript\" contentStyleType=\"text/css\" height=\"280px\" preserveAspectRatio=\"none\" style=\"width:710px;height:280px;\" version=\"1.1\" viewBox=\"0 0 710 280\" width=\"710px\" zoomAndPan=\"magnify\"><defs/><g><!--MD5=[fbc87193dbaf4d95561dea2c320d4a47]\n",
       "cluster E1--><a href=\"psysml:934b4cb7-0388-44aa-8a43-948e0e0270d7\" target=\"_top\" title=\"psysml:934b4cb7-0388-44aa-8a43-948e0e0270d7\" xlink:actuate=\"onRequest\" xlink:href=\"psysml:934b4cb7-0388-44aa-8a43-948e0e0270d7\" xlink:show=\"new\" xlink:title=\"psysml:934b4cb7-0388-44aa-8a43-948e0e0270d7\" xlink:type=\"simple\"><polygon fill=\"#FFFFFF\" points=\"16,6,139,6,146,28.2969,688,28.2969,688,268,16,268,16,6\" style=\"stroke: #000000; stroke-width: 1.5;\"/><line style=\"stroke: #000000; stroke-width: 1.5;\" x1=\"16\" x2=\"146\" y1=\"28.2969\" y2=\"28.2969\"/><text fill=\"#000000\" font-family=\"sans-serif\" font-size=\"14\" font-weight=\"bold\" lengthAdjust=\"spacingAndGlyphs\" textLength=\"117\" x=\"20\" y=\"20.9951\">ParameterTest</text></a><!--MD5=[b4997ac47864f28c2f74865a473b2911]\n",
       "class E2--><a href=\"psysml:129c5bc9-5e36-4fac-a06d-7961ccb64091\" target=\"_top\" title=\"psysml:129c5bc9-5e36-4fac-a06d-7961ccb64091\" xlink:actuate=\"onRequest\" xlink:href=\"psysml:129c5bc9-5e36-4fac-a06d-7961ccb64091\" xlink:show=\"new\" xlink:title=\"psysml:129c5bc9-5e36-4fac-a06d-7961ccb64091\" xlink:type=\"simple\"><rect fill=\"#FFFFFF\" height=\"88.3516\" id=\"E2\" style=\"stroke: #383838; stroke-width: 1.5;\" width=\"95\" x=\"498.5\" y=\"164\"/><text fill=\"#000000\" font-family=\"sans-serif\" font-size=\"12\" font-style=\"italic\" lengthAdjust=\"spacingAndGlyphs\" textLength=\"93\" x=\"499.5\" y=\"180.1387\">«attribute def»</text><text fill=\"#000000\" font-family=\"sans-serif\" font-size=\"12\" lengthAdjust=\"spacingAndGlyphs\" textLength=\"8\" x=\"542\" y=\"194.1074\">A</text><line style=\"stroke: #383838; stroke-width: 1.5;\" x1=\"499.5\" x2=\"592.5\" y1=\"201.9375\" y2=\"201.9375\"/><text fill=\"#000000\" font-family=\"sans-serif\" font-size=\"11\" lengthAdjust=\"spacingAndGlyphs\" textLength=\"48\" x=\"504.5\" y=\"232.9526\">x: String</text><text fill=\"#000000\" font-family=\"sans-serif\" font-size=\"11\" lengthAdjust=\"spacingAndGlyphs\" textLength=\"21\" x=\"504.5\" y=\"245.7573\">y: A</text><line style=\"stroke: #383838; stroke-width: 1.0;\" x1=\"499.5\" x2=\"518.5\" y1=\"216.3398\" y2=\"216.3398\"/><text fill=\"#000000\" font-family=\"sans-serif\" font-size=\"11\" lengthAdjust=\"spacingAndGlyphs\" textLength=\"55\" x=\"518.5\" y=\"219.6479\">attributes</text><line style=\"stroke: #383838; stroke-width: 1.0;\" x1=\"573.5\" x2=\"592.5\" y1=\"216.3398\" y2=\"216.3398\"/></a><!--MD5=[09b614a08d8cba4a07c9adeb5e0fee81]\n",
       "class E3--><a href=\"psysml:50405f72-7bb1-41da-960b-ed203bf92c2d\" target=\"_top\" title=\"psysml:50405f72-7bb1-41da-960b-ed203bf92c2d\" xlink:actuate=\"onRequest\" xlink:href=\"psysml:50405f72-7bb1-41da-960b-ed203bf92c2d\" xlink:show=\"new\" xlink:title=\"psysml:50405f72-7bb1-41da-960b-ed203bf92c2d\" xlink:type=\"simple\"><rect fill=\"#FFFFFF\" height=\"45.9375\" id=\"E3\" rx=\"10\" ry=\"10\" style=\"stroke: #383838; stroke-width: 1.5;\" width=\"71\" x=\"600.5\" y=\"41\"/><text fill=\"#000000\" font-family=\"sans-serif\" font-size=\"12\" font-style=\"italic\" lengthAdjust=\"spacingAndGlyphs\" textLength=\"69\" x=\"601.5\" y=\"57.1387\">«attribute»</text><text fill=\"#000000\" font-family=\"sans-serif\" font-size=\"12\" lengthAdjust=\"spacingAndGlyphs\" textLength=\"24\" x=\"624\" y=\"71.1074\">a: A</text><line style=\"stroke: #383838; stroke-width: 1.5;\" x1=\"601.5\" x2=\"670.5\" y1=\"78.9375\" y2=\"78.9375\"/></a><!--MD5=[ebbe1d658d1005bcc118a6aa81145e00]\n",
       "class E4--><a href=\"psysml:84637ab1-2e14-49ab-80b7-3fb2aa846372\" target=\"_top\" title=\"psysml:84637ab1-2e14-49ab-80b7-3fb2aa846372\" xlink:actuate=\"onRequest\" xlink:href=\"psysml:84637ab1-2e14-49ab-80b7-3fb2aa846372\" xlink:show=\"new\" xlink:title=\"psysml:84637ab1-2e14-49ab-80b7-3fb2aa846372\" xlink:type=\"simple\"><rect fill=\"#FFFFFF\" height=\"45.9375\" id=\"E4\" style=\"stroke: #383838; stroke-width: 1.5;\" width=\"108\" x=\"457\" y=\"41\"/><text fill=\"#000000\" font-family=\"sans-serif\" font-size=\"12\" font-style=\"italic\" lengthAdjust=\"spacingAndGlyphs\" textLength=\"106\" x=\"458\" y=\"57.1387\">«calculation def»</text><text fill=\"#000000\" font-family=\"sans-serif\" font-size=\"12\" lengthAdjust=\"spacingAndGlyphs\" textLength=\"7\" x=\"507.5\" y=\"71.1074\">F</text><line style=\"stroke: #383838; stroke-width: 1.5;\" x1=\"458\" x2=\"564\" y1=\"78.9375\" y2=\"78.9375\"/></a><!--MD5=[270fce915f116d4de14055a7c1d9a0f3]\n",
       "class E5--><a href=\"psysml:88b39ab3-39a3-49e4-a823-2b19bc6cfd18\" target=\"_top\" title=\"psysml:88b39ab3-39a3-49e4-a823-2b19bc6cfd18\" xlink:actuate=\"onRequest\" xlink:href=\"psysml:88b39ab3-39a3-49e4-a823-2b19bc6cfd18\" xlink:show=\"new\" xlink:title=\"psysml:88b39ab3-39a3-49e4-a823-2b19bc6cfd18\" xlink:type=\"simple\"><rect fill=\"#FFFFFF\" height=\"45.9375\" id=\"E5\" rx=\"10\" ry=\"10\" style=\"stroke: #383838; stroke-width: 1.5;\" width=\"71\" x=\"350.5\" y=\"41\"/><text fill=\"#000000\" font-family=\"sans-serif\" font-size=\"12\" font-style=\"italic\" lengthAdjust=\"spacingAndGlyphs\" textLength=\"69\" x=\"351.5\" y=\"57.1387\">«attribute»</text><text fill=\"#000000\" font-family=\"sans-serif\" font-size=\"12\" lengthAdjust=\"spacingAndGlyphs\" textLength=\"4\" x=\"384\" y=\"71.1074\">f</text><line style=\"stroke: #383838; stroke-width: 1.5;\" x1=\"351.5\" x2=\"420.5\" y1=\"78.9375\" y2=\"78.9375\"/></a><!--MD5=[60a26617385b1d2d0262a64233df1f8d]\n",
       "class E6--><a href=\"psysml:3f28e8b6-a431-4098-a991-c6c646c27e19\" target=\"_top\" title=\"psysml:3f28e8b6-a431-4098-a991-c6c646c27e19\" xlink:actuate=\"onRequest\" xlink:href=\"psysml:3f28e8b6-a431-4098-a991-c6c646c27e19\" xlink:show=\"new\" xlink:title=\"psysml:3f28e8b6-a431-4098-a991-c6c646c27e19\" xlink:type=\"simple\"><rect fill=\"#FFFFFF\" height=\"45.9375\" id=\"E6\" rx=\"10\" ry=\"10\" style=\"stroke: #383838; stroke-width: 1.5;\" width=\"71\" x=\"244.5\" y=\"41\"/><text fill=\"#000000\" font-family=\"sans-serif\" font-size=\"12\" font-style=\"italic\" lengthAdjust=\"spacingAndGlyphs\" textLength=\"69\" x=\"245.5\" y=\"57.1387\">«attribute»</text><text fill=\"#000000\" font-family=\"sans-serif\" font-size=\"12\" lengthAdjust=\"spacingAndGlyphs\" textLength=\"8\" x=\"276\" y=\"71.1074\">g</text><line style=\"stroke: #383838; stroke-width: 1.5;\" x1=\"245.5\" x2=\"314.5\" y1=\"78.9375\" y2=\"78.9375\"/></a><!--MD5=[2156ba9850f5573cc1fc38a6a4b2f02b]\n",
       "class E7--><a href=\"psysml:a48346b2-888a-436e-97f1-e60fac760a88\" target=\"_top\" title=\"psysml:a48346b2-888a-436e-97f1-e60fac760a88\" xlink:actuate=\"onRequest\" xlink:href=\"psysml:a48346b2-888a-436e-97f1-e60fac760a88\" xlink:show=\"new\" xlink:title=\"psysml:a48346b2-888a-436e-97f1-e60fac760a88\" xlink:type=\"simple\"><rect fill=\"#FFFFFF\" height=\"45.9375\" id=\"E7\" rx=\"10\" ry=\"10\" style=\"stroke: #383838; stroke-width: 1.5;\" width=\"71\" x=\"138.5\" y=\"41\"/><text fill=\"#000000\" font-family=\"sans-serif\" font-size=\"12\" font-style=\"italic\" lengthAdjust=\"spacingAndGlyphs\" textLength=\"69\" x=\"139.5\" y=\"57.1387\">«attribute»</text><text fill=\"#000000\" font-family=\"sans-serif\" font-size=\"12\" lengthAdjust=\"spacingAndGlyphs\" textLength=\"8\" x=\"170\" y=\"71.1074\">b</text><line style=\"stroke: #383838; stroke-width: 1.5;\" x1=\"139.5\" x2=\"208.5\" y1=\"78.9375\" y2=\"78.9375\"/></a><!--MD5=[b9389687b975829384b498ac4b7476b2]\n",
       "class E8--><a href=\"psysml:952d2fa1-4eb4-490f-be08-21606a0b2581\" target=\"_top\" title=\"psysml:952d2fa1-4eb4-490f-be08-21606a0b2581\" xlink:actuate=\"onRequest\" xlink:href=\"psysml:952d2fa1-4eb4-490f-be08-21606a0b2581\" xlink:show=\"new\" xlink:title=\"psysml:952d2fa1-4eb4-490f-be08-21606a0b2581\" xlink:type=\"simple\"><rect fill=\"#FFFFFF\" height=\"45.9375\" id=\"E8\" rx=\"10\" ry=\"10\" style=\"stroke: #383838; stroke-width: 1.5;\" width=\"71\" x=\"32.5\" y=\"41\"/><text fill=\"#000000\" font-family=\"sans-serif\" font-size=\"12\" font-style=\"italic\" lengthAdjust=\"spacingAndGlyphs\" textLength=\"69\" x=\"33.5\" y=\"57.1387\">«attribute»</text><text fill=\"#000000\" font-family=\"sans-serif\" font-size=\"12\" lengthAdjust=\"spacingAndGlyphs\" textLength=\"7\" x=\"64.5\" y=\"71.1074\">c</text><line style=\"stroke: #383838; stroke-width: 1.5;\" x1=\"33.5\" x2=\"102.5\" y1=\"78.9375\" y2=\"78.9375\"/></a><!--MD5=[05d275557350bfb9b23a4ef7222b4c39]\n",
       "link E3 to E2--><a href=\"psysml:7569b902-ac88-47a0-a36a-be78510f169c\" target=\"_top\" title=\"psysml:7569b902-ac88-47a0-a36a-be78510f169c\" xlink:actuate=\"onRequest\" xlink:href=\"psysml:7569b902-ac88-47a0-a36a-be78510f169c\" xlink:show=\"new\" xlink:title=\"psysml:7569b902-ac88-47a0-a36a-be78510f169c\" xlink:type=\"simple\"><path d=\"M600.38,64 C588.98,64 579.25,64 579.25,64 C579.25,64 579.25,143.62 579.25,143.62 \" fill=\"none\" id=\"E3-&gt;E2\" style=\"stroke: #383838; stroke-width: 1.0;\"/><polygon fill=\"#FFFFFF\" points=\"579.25,163.62,572.25,144.62,586.25,144.62,579.25,163.62\" style=\"stroke: #383838; stroke-width: 1.0;\"/><ellipse cx=\"574.25\" cy=\"138.92\" fill=\"#383838\" rx=\"2\" ry=\"2\" style=\"stroke: #383838; stroke-width: 1.0;\"/><ellipse cx=\"584.25\" cy=\"138.92\" fill=\"#383838\" rx=\"2\" ry=\"2\" style=\"stroke: #383838; stroke-width: 1.0;\"/></a><!--MD5=[ddeed8deb2209213b62e6cfabaa108b2]\n",
       "reverse link E4 to E2--><a href=\"psysml:64e82b47-cc13-4353-a930-54201d4c743b\" target=\"_top\" title=\"psysml:64e82b47-cc13-4353-a930-54201d4c743b\" xlink:actuate=\"onRequest\" xlink:href=\"psysml:64e82b47-cc13-4353-a930-54201d4c743b\" xlink:show=\"new\" xlink:title=\"psysml:64e82b47-cc13-4353-a930-54201d4c743b\" xlink:type=\"simple\"><path d=\"M531.75,100.14 C531.75,100.14 531.75,163.71 531.75,163.71 \" fill=\"none\" id=\"E4&lt;-E2\" style=\"stroke: #383838; stroke-width: 1.0;\"/><polygon fill=\"#FFFFFF\" points=\"531.75,87.14,527.75,93.14,531.75,99.14,535.75,93.14,531.75,87.14\" style=\"stroke: #383838; stroke-width: 1.0;\"/><text fill=\"#000000\" font-family=\"sans-serif\" font-size=\"13\" lengthAdjust=\"spacingAndGlyphs\" textLength=\"8\" x=\"539\" y=\"130.0669\">p</text></a><!--MD5=[41acf5f55923519b411f1711ba996c71]\n",
       "@startuml\r\n",
       "skinparam linetype ortho\r\n",
       "skinparam monochrome true\r\n",
       "skinparam classbackgroundcolor white\r\n",
       "skinparam shadowing false\r\n",
       "skinparam wrapWidth 300\r\n",
       "hide circle\r\n",
       "\r\n",
       "package \"ParameterTest\" as E1  [[psysml:934b4cb7-0388-44aa-8a43-948e0e0270d7 ]]  {\r\n",
       "comp def \"A\" as E2  <<(T,blue)attribute def>> [[psysml:129c5bc9-5e36-4fac-a06d-7961ccb64091 ]] {\r\n",
       "- - attributes - -\r\n",
       "x: String\r\n",
       "y: A\r\n",
       "}\r\n",
       "comp usage \"a: A\" as E3  <<(T,blue)attribute>> [[psysml:50405f72-7bb1-41da-960b-ed203bf92c2d ]] {\r\n",
       "}\r\n",
       "comp def \"F\" as E4  <<(T,blue)calculation def>> [[psysml:84637ab1-2e14-49ab-80b7-3fb2aa846372 ]] {\r\n",
       "}\r\n",
       "comp usage \"f\" as E5  <<(T,blue)attribute>> [[psysml:88b39ab3-39a3-49e4-a823-2b19bc6cfd18 ]] {\r\n",
       "}\r\n",
       "comp usage \"g\" as E6  <<(T,blue)attribute>> [[psysml:3f28e8b6-a431-4098-a991-c6c646c27e19 ]] {\r\n",
       "}\r\n",
       "comp usage \"b\" as E7  <<(T,blue)attribute>> [[psysml:a48346b2-888a-436e-97f1-e60fac760a88 ]] {\r\n",
       "}\r\n",
       "comp usage \"c\" as E8  <<(T,blue)attribute>> [[psysml:952d2fa1-4eb4-490f-be08-21606a0b2581 ]] {\r\n",
       "}\r\n",
       "E3 - -:|> E2 [[psysml:7569b902-ac88-47a0-a36a-be78510f169c ]] \r\n",
       "E4 o- - E2 [[psysml:64e82b47-cc13-4353-a930-54201d4c743b ]] : p\r\n",
       "}\r\n",
       "@enduml\r\n",
       "\n",
       "PlantUML version 1.2020.13(Sat Jun 13 12:26:38 UTC 2020)\n",
       "(EPL source distribution)\n",
       "Java Runtime: OpenJDK Runtime Environment\n",
       "JVM: OpenJDK 64-Bit Server VM\n",
       "Default Encoding: UTF-8\n",
       "Language: en\n",
       "Country: null\n",
       "--></g></svg>"
      ]
     },
     "execution_count": 52,
     "metadata": {},
     "output_type": "execute_result"
    }
   ],
   "source": [
    "%viz --style=\"ORTHOLINE\" --view=\"Tree\" \"ParameterTest\""
   ]
  },
  {
   "cell_type": "code",
   "execution_count": 53,
   "id": "supposed-standard",
   "metadata": {
    "execution": {
     "iopub.execute_input": "2021-03-26T09:13:04.085006Z",
     "iopub.status.busy": "2021-03-26T09:13:04.084108Z",
     "iopub.status.idle": "2021-03-26T09:13:04.089404Z",
     "shell.execute_reply": "2021-03-26T09:13:04.089057Z"
    }
   },
   "outputs": [
    {
     "data": {
      "image/svg+xml": [
       "<?xml version=\"1.0\" encoding=\"UTF-8\" standalone=\"no\"?><svg xmlns=\"http://www.w3.org/2000/svg\" xmlns:xlink=\"http://www.w3.org/1999/xlink\" contentScriptType=\"application/ecmascript\" contentStyleType=\"text/css\" height=\"12px\" preserveAspectRatio=\"none\" style=\"width:12px;height:12px;\" version=\"1.1\" viewBox=\"0 0 12 12\" width=\"12px\" zoomAndPan=\"magnify\"><defs/><g><!--MD5=[97d6f38768b311333d388e66b2b27985]\n",
       "@startuml\r\n",
       "skinparam linetype ortho\r\n",
       "skinparam monochrome true\r\n",
       "skinparam classbackgroundcolor white\r\n",
       "skinparam shadowing false\r\n",
       "skinparam wrapWidth 300\r\n",
       "hide circle\r\n",
       "\r\n",
       "@enduml\r\n",
       "\n",
       "PlantUML version 1.2020.13(Sat Jun 13 12:26:38 UTC 2020)\n",
       "(EPL source distribution)\n",
       "Java Runtime: OpenJDK Runtime Environment\n",
       "JVM: OpenJDK 64-Bit Server VM\n",
       "Default Encoding: UTF-8\n",
       "Language: en\n",
       "Country: null\n",
       "--></g></svg>"
      ]
     },
     "execution_count": 53,
     "metadata": {},
     "output_type": "execute_result"
    }
   ],
   "source": [
    "%viz --style=\"ORTHOLINE\" --view=\"State\" \"ParameterTest\""
   ]
  },
  {
   "cell_type": "code",
   "execution_count": 54,
   "id": "swedish-median",
   "metadata": {
    "execution": {
     "iopub.execute_input": "2021-03-26T09:13:04.141161Z",
     "iopub.status.busy": "2021-03-26T09:13:04.140388Z",
     "iopub.status.idle": "2021-03-26T09:13:04.167198Z",
     "shell.execute_reply": "2021-03-26T09:13:04.165576Z"
    }
   },
   "outputs": [
    {
     "data": {
      "image/svg+xml": [
       "<?xml version=\"1.0\" encoding=\"UTF-8\" standalone=\"no\"?><svg xmlns=\"http://www.w3.org/2000/svg\" xmlns:xlink=\"http://www.w3.org/1999/xlink\" contentScriptType=\"application/ecmascript\" contentStyleType=\"text/css\" height=\"123px\" preserveAspectRatio=\"none\" style=\"width:960px;height:123px;\" version=\"1.1\" viewBox=\"0 0 960 123\" width=\"960px\" zoomAndPan=\"magnify\"><defs/><g><!--MD5=[fbc87193dbaf4d95561dea2c320d4a47]\n",
       "cluster E1--><a href=\"psysml:934b4cb7-0388-44aa-8a43-948e0e0270d7\" target=\"_top\" title=\"psysml:934b4cb7-0388-44aa-8a43-948e0e0270d7\" xlink:actuate=\"onRequest\" xlink:href=\"psysml:934b4cb7-0388-44aa-8a43-948e0e0270d7\" xlink:show=\"new\" xlink:title=\"psysml:934b4cb7-0388-44aa-8a43-948e0e0270d7\" xlink:type=\"simple\"><polygon fill=\"#FFFFFF\" points=\"16,6,139,6,146,28.2969,938,28.2969,938,111,16,111,16,6\" style=\"stroke: #000000; stroke-width: 1.5;\"/><line style=\"stroke: #000000; stroke-width: 1.5;\" x1=\"16\" x2=\"146\" y1=\"28.2969\" y2=\"28.2969\"/><text fill=\"#000000\" font-family=\"sans-serif\" font-size=\"14\" font-weight=\"bold\" lengthAdjust=\"spacingAndGlyphs\" textLength=\"117\" x=\"20\" y=\"20.9951\">ParameterTest</text></a><!--MD5=[b4997ac47864f28c2f74865a473b2911]\n",
       "class E2--><a href=\"psysml:129c5bc9-5e36-4fac-a06d-7961ccb64091\" target=\"_top\" title=\"psysml:129c5bc9-5e36-4fac-a06d-7961ccb64091\" xlink:actuate=\"onRequest\" xlink:href=\"psysml:129c5bc9-5e36-4fac-a06d-7961ccb64091\" xlink:show=\"new\" xlink:title=\"psysml:129c5bc9-5e36-4fac-a06d-7961ccb64091\" xlink:type=\"simple\"><rect fill=\"#FFFFFF\" height=\"53.9375\" id=\"E2\" style=\"stroke: #383838; stroke-width: 1.5;\" width=\"143\" x=\"778.5\" y=\"41\"/><text fill=\"#000000\" font-family=\"sans-serif\" font-size=\"12\" font-style=\"italic\" lengthAdjust=\"spacingAndGlyphs\" textLength=\"141\" x=\"779.5\" y=\"57.1387\">«(T,blue)attribute def»</text><text fill=\"#000000\" font-family=\"sans-serif\" font-size=\"12\" lengthAdjust=\"spacingAndGlyphs\" textLength=\"8\" x=\"846\" y=\"71.1074\">A</text><line style=\"stroke: #383838; stroke-width: 1.5;\" x1=\"779.5\" x2=\"920.5\" y1=\"78.9375\" y2=\"78.9375\"/><line style=\"stroke: #383838; stroke-width: 1.5;\" x1=\"779.5\" x2=\"920.5\" y1=\"86.9375\" y2=\"86.9375\"/></a><!--MD5=[ebbe1d658d1005bcc118a6aa81145e00]\n",
       "class E4--><a href=\"psysml:84637ab1-2e14-49ab-80b7-3fb2aa846372\" target=\"_top\" title=\"psysml:84637ab1-2e14-49ab-80b7-3fb2aa846372\" xlink:actuate=\"onRequest\" xlink:href=\"psysml:84637ab1-2e14-49ab-80b7-3fb2aa846372\" xlink:show=\"new\" xlink:title=\"psysml:84637ab1-2e14-49ab-80b7-3fb2aa846372\" xlink:type=\"simple\"><rect fill=\"#FFFFFF\" height=\"53.9375\" id=\"E4\" style=\"stroke: #383838; stroke-width: 1.5;\" width=\"156\" x=\"587\" y=\"41\"/><text fill=\"#000000\" font-family=\"sans-serif\" font-size=\"12\" font-style=\"italic\" lengthAdjust=\"spacingAndGlyphs\" textLength=\"154\" x=\"588\" y=\"57.1387\">«(T,blue)calculation def»</text><text fill=\"#000000\" font-family=\"sans-serif\" font-size=\"12\" lengthAdjust=\"spacingAndGlyphs\" textLength=\"7\" x=\"661.5\" y=\"71.1074\">F</text><line style=\"stroke: #383838; stroke-width: 1.5;\" x1=\"588\" x2=\"742\" y1=\"78.9375\" y2=\"78.9375\"/><line style=\"stroke: #383838; stroke-width: 1.5;\" x1=\"588\" x2=\"742\" y1=\"86.9375\" y2=\"86.9375\"/></a><g id=\"E1.E3\"><a href=\"psysml:50405f72-7bb1-41da-960b-ed203bf92c2d\" target=\"_top\" title=\"psysml:50405f72-7bb1-41da-960b-ed203bf92c2d\" xlink:actuate=\"onRequest\" xlink:href=\"psysml:50405f72-7bb1-41da-960b-ed203bf92c2d\" xlink:show=\"new\" xlink:title=\"psysml:50405f72-7bb1-41da-960b-ed203bf92c2d\" xlink:type=\"simple\"><rect fill=\"#FFFFFF\" height=\"42.9375\" id=\"E3\" rx=\"10\" ry=\"10\" style=\"stroke: #383838; stroke-width: 1.5;\" width=\"76\" x=\"476\" y=\"46.5\"/><rect fill=\"#F8F8F8\" height=\"37.9375\" rx=\"10\" ry=\"10\" style=\"stroke: #F8F8F8; stroke-width: 1.5;\" width=\"76\" x=\"476\" y=\"46.5\"/><rect fill=\"#F8F8F8\" height=\"10\" style=\"stroke: #F8F8F8; stroke-width: 1.5;\" width=\"76\" x=\"476\" y=\"74.4375\"/><rect fill=\"none\" height=\"42.9375\" id=\"E3\" rx=\"10\" ry=\"10\" style=\"stroke: #383838; stroke-width: 1.5;\" width=\"76\" x=\"476\" y=\"46.5\"/><text fill=\"#000000\" font-family=\"sans-serif\" font-size=\"12\" font-style=\"italic\" lengthAdjust=\"spacingAndGlyphs\" textLength=\"69\" x=\"479.5\" y=\"62.6387\">«attribute»</text><text fill=\"#000000\" font-family=\"sans-serif\" font-size=\"12\" lengthAdjust=\"spacingAndGlyphs\" textLength=\"24\" x=\"502\" y=\"76.6074\">a: A</text></a></g><g id=\"E1.E5\"><a href=\"psysml:88b39ab3-39a3-49e4-a823-2b19bc6cfd18\" target=\"_top\" title=\"psysml:88b39ab3-39a3-49e4-a823-2b19bc6cfd18\" xlink:actuate=\"onRequest\" xlink:href=\"psysml:88b39ab3-39a3-49e4-a823-2b19bc6cfd18\" xlink:show=\"new\" xlink:title=\"psysml:88b39ab3-39a3-49e4-a823-2b19bc6cfd18\" xlink:type=\"simple\"><rect fill=\"#FFFFFF\" height=\"42.9375\" id=\"E5\" rx=\"10\" ry=\"10\" style=\"stroke: #383838; stroke-width: 1.5;\" width=\"76\" x=\"365\" y=\"46.5\"/><rect fill=\"#F8F8F8\" height=\"37.9375\" rx=\"10\" ry=\"10\" style=\"stroke: #F8F8F8; stroke-width: 1.5;\" width=\"76\" x=\"365\" y=\"46.5\"/><rect fill=\"#F8F8F8\" height=\"10\" style=\"stroke: #F8F8F8; stroke-width: 1.5;\" width=\"76\" x=\"365\" y=\"74.4375\"/><rect fill=\"none\" height=\"42.9375\" id=\"E5\" rx=\"10\" ry=\"10\" style=\"stroke: #383838; stroke-width: 1.5;\" width=\"76\" x=\"365\" y=\"46.5\"/><text fill=\"#000000\" font-family=\"sans-serif\" font-size=\"12\" font-style=\"italic\" lengthAdjust=\"spacingAndGlyphs\" textLength=\"69\" x=\"368.5\" y=\"62.6387\">«attribute»</text><text fill=\"#000000\" font-family=\"sans-serif\" font-size=\"12\" lengthAdjust=\"spacingAndGlyphs\" textLength=\"4\" x=\"401\" y=\"76.6074\">f</text></a></g><g id=\"E1.E6\"><a href=\"psysml:3f28e8b6-a431-4098-a991-c6c646c27e19\" target=\"_top\" title=\"psysml:3f28e8b6-a431-4098-a991-c6c646c27e19\" xlink:actuate=\"onRequest\" xlink:href=\"psysml:3f28e8b6-a431-4098-a991-c6c646c27e19\" xlink:show=\"new\" xlink:title=\"psysml:3f28e8b6-a431-4098-a991-c6c646c27e19\" xlink:type=\"simple\"><rect fill=\"#FFFFFF\" height=\"42.9375\" id=\"E6\" rx=\"10\" ry=\"10\" style=\"stroke: #383838; stroke-width: 1.5;\" width=\"76\" x=\"254\" y=\"46.5\"/><rect fill=\"#F8F8F8\" height=\"37.9375\" rx=\"10\" ry=\"10\" style=\"stroke: #F8F8F8; stroke-width: 1.5;\" width=\"76\" x=\"254\" y=\"46.5\"/><rect fill=\"#F8F8F8\" height=\"10\" style=\"stroke: #F8F8F8; stroke-width: 1.5;\" width=\"76\" x=\"254\" y=\"74.4375\"/><rect fill=\"none\" height=\"42.9375\" id=\"E6\" rx=\"10\" ry=\"10\" style=\"stroke: #383838; stroke-width: 1.5;\" width=\"76\" x=\"254\" y=\"46.5\"/><text fill=\"#000000\" font-family=\"sans-serif\" font-size=\"12\" font-style=\"italic\" lengthAdjust=\"spacingAndGlyphs\" textLength=\"69\" x=\"257.5\" y=\"62.6387\">«attribute»</text><text fill=\"#000000\" font-family=\"sans-serif\" font-size=\"12\" lengthAdjust=\"spacingAndGlyphs\" textLength=\"8\" x=\"288\" y=\"76.6074\">g</text></a></g><g id=\"E1.E7\"><a href=\"psysml:a48346b2-888a-436e-97f1-e60fac760a88\" target=\"_top\" title=\"psysml:a48346b2-888a-436e-97f1-e60fac760a88\" xlink:actuate=\"onRequest\" xlink:href=\"psysml:a48346b2-888a-436e-97f1-e60fac760a88\" xlink:show=\"new\" xlink:title=\"psysml:a48346b2-888a-436e-97f1-e60fac760a88\" xlink:type=\"simple\"><rect fill=\"#FFFFFF\" height=\"42.9375\" id=\"E7\" rx=\"10\" ry=\"10\" style=\"stroke: #383838; stroke-width: 1.5;\" width=\"76\" x=\"143\" y=\"46.5\"/><rect fill=\"#F8F8F8\" height=\"37.9375\" rx=\"10\" ry=\"10\" style=\"stroke: #F8F8F8; stroke-width: 1.5;\" width=\"76\" x=\"143\" y=\"46.5\"/><rect fill=\"#F8F8F8\" height=\"10\" style=\"stroke: #F8F8F8; stroke-width: 1.5;\" width=\"76\" x=\"143\" y=\"74.4375\"/><rect fill=\"none\" height=\"42.9375\" id=\"E7\" rx=\"10\" ry=\"10\" style=\"stroke: #383838; stroke-width: 1.5;\" width=\"76\" x=\"143\" y=\"46.5\"/><text fill=\"#000000\" font-family=\"sans-serif\" font-size=\"12\" font-style=\"italic\" lengthAdjust=\"spacingAndGlyphs\" textLength=\"69\" x=\"146.5\" y=\"62.6387\">«attribute»</text><text fill=\"#000000\" font-family=\"sans-serif\" font-size=\"12\" lengthAdjust=\"spacingAndGlyphs\" textLength=\"8\" x=\"177\" y=\"76.6074\">b</text></a></g><g id=\"E1.E8\"><a href=\"psysml:952d2fa1-4eb4-490f-be08-21606a0b2581\" target=\"_top\" title=\"psysml:952d2fa1-4eb4-490f-be08-21606a0b2581\" xlink:actuate=\"onRequest\" xlink:href=\"psysml:952d2fa1-4eb4-490f-be08-21606a0b2581\" xlink:show=\"new\" xlink:title=\"psysml:952d2fa1-4eb4-490f-be08-21606a0b2581\" xlink:type=\"simple\"><rect fill=\"#FFFFFF\" height=\"42.9375\" id=\"E8\" rx=\"10\" ry=\"10\" style=\"stroke: #383838; stroke-width: 1.5;\" width=\"76\" x=\"32\" y=\"46.5\"/><rect fill=\"#F8F8F8\" height=\"37.9375\" rx=\"10\" ry=\"10\" style=\"stroke: #F8F8F8; stroke-width: 1.5;\" width=\"76\" x=\"32\" y=\"46.5\"/><rect fill=\"#F8F8F8\" height=\"10\" style=\"stroke: #F8F8F8; stroke-width: 1.5;\" width=\"76\" x=\"32\" y=\"74.4375\"/><rect fill=\"none\" height=\"42.9375\" id=\"E8\" rx=\"10\" ry=\"10\" style=\"stroke: #383838; stroke-width: 1.5;\" width=\"76\" x=\"32\" y=\"46.5\"/><text fill=\"#000000\" font-family=\"sans-serif\" font-size=\"12\" font-style=\"italic\" lengthAdjust=\"spacingAndGlyphs\" textLength=\"69\" x=\"35.5\" y=\"62.6387\">«attribute»</text><text fill=\"#000000\" font-family=\"sans-serif\" font-size=\"12\" lengthAdjust=\"spacingAndGlyphs\" textLength=\"7\" x=\"66.5\" y=\"76.6074\">c</text></a></g><!--MD5=[188431e0e489e5a8993d456fddb2ad96]\n",
       "@startuml\r\n",
       "skinparam ranksep 8\r\n",
       "skinparam rectangle {\r\n",
       " backgroundColor<<block>> LightGreen\r\n",
       "}\r\n",
       "skinparam linetype ortho\r\n",
       "skinparam monochrome true\r\n",
       "skinparam classbackgroundcolor white\r\n",
       "skinparam shadowing false\r\n",
       "skinparam wrapWidth 300\r\n",
       "hide circle\r\n",
       "\r\n",
       "package \"ParameterTest\" as E1  [[psysml:934b4cb7-0388-44aa-8a43-948e0e0270d7 ]]  {\r\n",
       "def \"A\" as E2  <<(T,blue)attribute def>> [[psysml:129c5bc9-5e36-4fac-a06d-7961ccb64091 ]] \r\n",
       "rec usage \"a: A\" as E3  <<(T,blue)attribute>> [[psysml:50405f72-7bb1-41da-960b-ed203bf92c2d ]] {\r\n",
       "}\r\n",
       "def \"F\" as E4  <<(T,blue)calculation def>> [[psysml:84637ab1-2e14-49ab-80b7-3fb2aa846372 ]] \r\n",
       "rec usage \"f\" as E5  <<(T,blue)attribute>> [[psysml:88b39ab3-39a3-49e4-a823-2b19bc6cfd18 ]] {\r\n",
       "}\r\n",
       "rec usage \"g\" as E6  <<(T,blue)attribute>> [[psysml:3f28e8b6-a431-4098-a991-c6c646c27e19 ]] {\r\n",
       "}\r\n",
       "rec usage \"b\" as E7  <<(T,blue)attribute>> [[psysml:a48346b2-888a-436e-97f1-e60fac760a88 ]] {\r\n",
       "}\r\n",
       "rec usage \"c\" as E8  <<(T,blue)attribute>> [[psysml:952d2fa1-4eb4-490f-be08-21606a0b2581 ]] {\r\n",
       "}\r\n",
       "}\r\n",
       "@enduml\r\n",
       "\n",
       "PlantUML version 1.2020.13(Sat Jun 13 12:26:38 UTC 2020)\n",
       "(EPL source distribution)\n",
       "Java Runtime: OpenJDK Runtime Environment\n",
       "JVM: OpenJDK 64-Bit Server VM\n",
       "Default Encoding: UTF-8\n",
       "Language: en\n",
       "Country: null\n",
       "--></g></svg>"
      ]
     },
     "execution_count": 54,
     "metadata": {},
     "output_type": "execute_result"
    }
   ],
   "source": [
    "%viz --style=\"ORTHOLINE\" --view=\"Interconnection\" \"ParameterTest\""
   ]
  },
  {
   "cell_type": "code",
   "execution_count": 55,
   "id": "metallic-turning",
   "metadata": {
    "execution": {
     "iopub.execute_input": "2021-03-26T09:13:04.218258Z",
     "iopub.status.busy": "2021-03-26T09:13:04.217488Z",
     "iopub.status.idle": "2021-03-26T09:13:04.238474Z",
     "shell.execute_reply": "2021-03-26T09:13:04.238182Z"
    }
   },
   "outputs": [
    {
     "data": {
      "image/svg+xml": [
       "<?xml version=\"1.0\" encoding=\"UTF-8\" standalone=\"no\"?><svg xmlns=\"http://www.w3.org/2000/svg\" xmlns:xlink=\"http://www.w3.org/1999/xlink\" contentScriptType=\"application/ecmascript\" contentStyleType=\"text/css\" height=\"126px\" preserveAspectRatio=\"none\" style=\"width:166px;height:126px;\" version=\"1.1\" viewBox=\"0 0 166 126\" width=\"166px\" zoomAndPan=\"magnify\"><defs/><g><!--MD5=[fbc87193dbaf4d95561dea2c320d4a47]\n",
       "cluster E1--><a href=\"psysml:84637ab1-2e14-49ab-80b7-3fb2aa846372\" target=\"_top\" title=\"psysml:84637ab1-2e14-49ab-80b7-3fb2aa846372\" xlink:actuate=\"onRequest\" xlink:href=\"psysml:84637ab1-2e14-49ab-80b7-3fb2aa846372\" xlink:show=\"new\" xlink:title=\"psysml:84637ab1-2e14-49ab-80b7-3fb2aa846372\" xlink:type=\"simple\"><rect fill=\"#FFFFFF\" height=\"73\" id=\"E1\" style=\"stroke: #383838; stroke-width: 1.5;\" width=\"148\" x=\"7\" y=\"42.0986\"/><rect fill=\"#F8F8F8\" height=\"37.9375\" style=\"stroke: #383838; stroke-width: 1.5;\" width=\"148\" x=\"7\" y=\"42.0986\"/><text fill=\"#000000\" font-family=\"sans-serif\" font-size=\"12\" font-style=\"italic\" lengthAdjust=\"spacingAndGlyphs\" textLength=\"106\" x=\"28\" y=\"58.2373\">«calculation def»</text><text fill=\"#000000\" font-family=\"sans-serif\" font-size=\"12\" lengthAdjust=\"spacingAndGlyphs\" textLength=\"7\" x=\"77.5\" y=\"72.2061\">F</text></a><text fill=\"#000000\" font-family=\"sans-serif\" font-size=\"14\" lengthAdjust=\"spacingAndGlyphs\" textLength=\"9\" x=\"20.5\" y=\"20.7969\">p</text><rect fill=\"#383838\" height=\"12\" style=\"stroke: #F8F8F8; stroke-width: 1.5;\" width=\"12\" x=\"19\" y=\"36.0986\"/><text fill=\"#000000\" font-family=\"sans-serif\" font-size=\"14\" lengthAdjust=\"spacingAndGlyphs\" textLength=\"9\" x=\"67.5\" y=\"20.7969\">q</text><rect fill=\"#383838\" height=\"12\" style=\"stroke: #F8F8F8; stroke-width: 1.5;\" width=\"12\" x=\"66\" y=\"36.0986\"/><!--MD5=[299fbdd7ef7c608c1950cdbd449f07b8]\n",
       "@startuml\r\n",
       "skinparam ranksep 8\r\n",
       "skinparam linetype ortho\r\n",
       "skinparam monochrome true\r\n",
       "skinparam classbackgroundcolor white\r\n",
       "skinparam shadowing false\r\n",
       "skinparam wrapWidth 300\r\n",
       "hide circle\r\n",
       "\r\n",
       "rec def \"F\" as E1  <<(T,blue)calculation def>> [[psysml:84637ab1-2e14-49ab-80b7-3fb2aa846372 ]] {\r\n",
       "portin \"p\" as E2  [[psysml:64e82b47-cc13-4353-a930-54201d4c743b ]] \r\n",
       "portin \"q\" as E3  [[psysml:647ae971-dc5c-461d-bddf-e9c9561ef010 ]] \r\n",
       "}\r\n",
       "\r\n",
       "@enduml\r\n",
       "\n",
       "PlantUML version 1.2020.13(Sat Jun 13 12:26:38 UTC 2020)\n",
       "(EPL source distribution)\n",
       "Java Runtime: OpenJDK Runtime Environment\n",
       "JVM: OpenJDK 64-Bit Server VM\n",
       "Default Encoding: UTF-8\n",
       "Language: en\n",
       "Country: null\n",
       "--></g></svg>"
      ]
     },
     "execution_count": 55,
     "metadata": {},
     "output_type": "execute_result"
    }
   ],
   "source": [
    "%viz --style=\"ORTHOLINE\" --view=\"Action\" \"ParameterTest\""
   ]
  },
  {
   "cell_type": "code",
   "execution_count": 56,
   "id": "charitable-billion",
   "metadata": {
    "execution": {
     "iopub.execute_input": "2021-03-26T09:13:04.290632Z",
     "iopub.status.busy": "2021-03-26T09:13:04.289712Z",
     "iopub.status.idle": "2021-03-26T09:13:04.333513Z",
     "shell.execute_reply": "2021-03-26T09:13:04.332054Z"
    }
   },
   "outputs": [
    {
     "data": {
      "image/svg+xml": [
       "<?xml version=\"1.0\" encoding=\"UTF-8\" standalone=\"no\"?><svg xmlns=\"http://www.w3.org/2000/svg\" xmlns:xlink=\"http://www.w3.org/1999/xlink\" contentScriptType=\"application/ecmascript\" contentStyleType=\"text/css\" height=\"280px\" preserveAspectRatio=\"none\" style=\"width:710px;height:280px;\" version=\"1.1\" viewBox=\"0 0 710 280\" width=\"710px\" zoomAndPan=\"magnify\"><defs/><g><!--MD5=[fbc87193dbaf4d95561dea2c320d4a47]\n",
       "cluster E1--><a href=\"psysml:934b4cb7-0388-44aa-8a43-948e0e0270d7\" target=\"_top\" title=\"psysml:934b4cb7-0388-44aa-8a43-948e0e0270d7\" xlink:actuate=\"onRequest\" xlink:href=\"psysml:934b4cb7-0388-44aa-8a43-948e0e0270d7\" xlink:show=\"new\" xlink:title=\"psysml:934b4cb7-0388-44aa-8a43-948e0e0270d7\" xlink:type=\"simple\"><polygon fill=\"#FFFFFF\" points=\"16,6,139,6,146,28.2969,688,28.2969,688,268,16,268,16,6\" style=\"stroke: #000000; stroke-width: 1.5;\"/><line style=\"stroke: #000000; stroke-width: 1.5;\" x1=\"16\" x2=\"146\" y1=\"28.2969\" y2=\"28.2969\"/><text fill=\"#000000\" font-family=\"sans-serif\" font-size=\"14\" font-weight=\"bold\" lengthAdjust=\"spacingAndGlyphs\" textLength=\"117\" x=\"20\" y=\"20.9951\">ParameterTest</text></a><!--MD5=[b4997ac47864f28c2f74865a473b2911]\n",
       "class E2--><a href=\"psysml:129c5bc9-5e36-4fac-a06d-7961ccb64091\" target=\"_top\" title=\"psysml:129c5bc9-5e36-4fac-a06d-7961ccb64091\" xlink:actuate=\"onRequest\" xlink:href=\"psysml:129c5bc9-5e36-4fac-a06d-7961ccb64091\" xlink:show=\"new\" xlink:title=\"psysml:129c5bc9-5e36-4fac-a06d-7961ccb64091\" xlink:type=\"simple\"><rect fill=\"#FFFFFF\" height=\"88.3516\" id=\"E2\" style=\"stroke: #383838; stroke-width: 1.5;\" width=\"95\" x=\"498.5\" y=\"164\"/><text fill=\"#000000\" font-family=\"sans-serif\" font-size=\"12\" font-style=\"italic\" lengthAdjust=\"spacingAndGlyphs\" textLength=\"93\" x=\"499.5\" y=\"180.1387\">«attribute def»</text><text fill=\"#000000\" font-family=\"sans-serif\" font-size=\"12\" lengthAdjust=\"spacingAndGlyphs\" textLength=\"8\" x=\"542\" y=\"194.1074\">A</text><line style=\"stroke: #383838; stroke-width: 1.5;\" x1=\"499.5\" x2=\"592.5\" y1=\"201.9375\" y2=\"201.9375\"/><text fill=\"#000000\" font-family=\"sans-serif\" font-size=\"11\" lengthAdjust=\"spacingAndGlyphs\" textLength=\"48\" x=\"504.5\" y=\"232.9526\">x: String</text><text fill=\"#000000\" font-family=\"sans-serif\" font-size=\"11\" lengthAdjust=\"spacingAndGlyphs\" textLength=\"21\" x=\"504.5\" y=\"245.7573\">y: A</text><line style=\"stroke: #383838; stroke-width: 1.0;\" x1=\"499.5\" x2=\"518.5\" y1=\"216.3398\" y2=\"216.3398\"/><text fill=\"#000000\" font-family=\"sans-serif\" font-size=\"11\" lengthAdjust=\"spacingAndGlyphs\" textLength=\"55\" x=\"518.5\" y=\"219.6479\">attributes</text><line style=\"stroke: #383838; stroke-width: 1.0;\" x1=\"573.5\" x2=\"592.5\" y1=\"216.3398\" y2=\"216.3398\"/></a><!--MD5=[09b614a08d8cba4a07c9adeb5e0fee81]\n",
       "class E3--><a href=\"psysml:50405f72-7bb1-41da-960b-ed203bf92c2d\" target=\"_top\" title=\"psysml:50405f72-7bb1-41da-960b-ed203bf92c2d\" xlink:actuate=\"onRequest\" xlink:href=\"psysml:50405f72-7bb1-41da-960b-ed203bf92c2d\" xlink:show=\"new\" xlink:title=\"psysml:50405f72-7bb1-41da-960b-ed203bf92c2d\" xlink:type=\"simple\"><rect fill=\"#FFFFFF\" height=\"45.9375\" id=\"E3\" rx=\"10\" ry=\"10\" style=\"stroke: #383838; stroke-width: 1.5;\" width=\"71\" x=\"600.5\" y=\"41\"/><text fill=\"#000000\" font-family=\"sans-serif\" font-size=\"12\" font-style=\"italic\" lengthAdjust=\"spacingAndGlyphs\" textLength=\"69\" x=\"601.5\" y=\"57.1387\">«attribute»</text><text fill=\"#000000\" font-family=\"sans-serif\" font-size=\"12\" lengthAdjust=\"spacingAndGlyphs\" textLength=\"24\" x=\"624\" y=\"71.1074\">a: A</text><line style=\"stroke: #383838; stroke-width: 1.5;\" x1=\"601.5\" x2=\"670.5\" y1=\"78.9375\" y2=\"78.9375\"/></a><!--MD5=[ebbe1d658d1005bcc118a6aa81145e00]\n",
       "class E4--><a href=\"psysml:84637ab1-2e14-49ab-80b7-3fb2aa846372\" target=\"_top\" title=\"psysml:84637ab1-2e14-49ab-80b7-3fb2aa846372\" xlink:actuate=\"onRequest\" xlink:href=\"psysml:84637ab1-2e14-49ab-80b7-3fb2aa846372\" xlink:show=\"new\" xlink:title=\"psysml:84637ab1-2e14-49ab-80b7-3fb2aa846372\" xlink:type=\"simple\"><rect fill=\"#FFFFFF\" height=\"45.9375\" id=\"E4\" style=\"stroke: #383838; stroke-width: 1.5;\" width=\"108\" x=\"457\" y=\"41\"/><text fill=\"#000000\" font-family=\"sans-serif\" font-size=\"12\" font-style=\"italic\" lengthAdjust=\"spacingAndGlyphs\" textLength=\"106\" x=\"458\" y=\"57.1387\">«calculation def»</text><text fill=\"#000000\" font-family=\"sans-serif\" font-size=\"12\" lengthAdjust=\"spacingAndGlyphs\" textLength=\"7\" x=\"507.5\" y=\"71.1074\">F</text><line style=\"stroke: #383838; stroke-width: 1.5;\" x1=\"458\" x2=\"564\" y1=\"78.9375\" y2=\"78.9375\"/></a><!--MD5=[270fce915f116d4de14055a7c1d9a0f3]\n",
       "class E5--><a href=\"psysml:88b39ab3-39a3-49e4-a823-2b19bc6cfd18\" target=\"_top\" title=\"psysml:88b39ab3-39a3-49e4-a823-2b19bc6cfd18\" xlink:actuate=\"onRequest\" xlink:href=\"psysml:88b39ab3-39a3-49e4-a823-2b19bc6cfd18\" xlink:show=\"new\" xlink:title=\"psysml:88b39ab3-39a3-49e4-a823-2b19bc6cfd18\" xlink:type=\"simple\"><rect fill=\"#FFFFFF\" height=\"45.9375\" id=\"E5\" rx=\"10\" ry=\"10\" style=\"stroke: #383838; stroke-width: 1.5;\" width=\"71\" x=\"350.5\" y=\"41\"/><text fill=\"#000000\" font-family=\"sans-serif\" font-size=\"12\" font-style=\"italic\" lengthAdjust=\"spacingAndGlyphs\" textLength=\"69\" x=\"351.5\" y=\"57.1387\">«attribute»</text><text fill=\"#000000\" font-family=\"sans-serif\" font-size=\"12\" lengthAdjust=\"spacingAndGlyphs\" textLength=\"4\" x=\"384\" y=\"71.1074\">f</text><line style=\"stroke: #383838; stroke-width: 1.5;\" x1=\"351.5\" x2=\"420.5\" y1=\"78.9375\" y2=\"78.9375\"/></a><!--MD5=[60a26617385b1d2d0262a64233df1f8d]\n",
       "class E6--><a href=\"psysml:3f28e8b6-a431-4098-a991-c6c646c27e19\" target=\"_top\" title=\"psysml:3f28e8b6-a431-4098-a991-c6c646c27e19\" xlink:actuate=\"onRequest\" xlink:href=\"psysml:3f28e8b6-a431-4098-a991-c6c646c27e19\" xlink:show=\"new\" xlink:title=\"psysml:3f28e8b6-a431-4098-a991-c6c646c27e19\" xlink:type=\"simple\"><rect fill=\"#FFFFFF\" height=\"45.9375\" id=\"E6\" rx=\"10\" ry=\"10\" style=\"stroke: #383838; stroke-width: 1.5;\" width=\"71\" x=\"244.5\" y=\"41\"/><text fill=\"#000000\" font-family=\"sans-serif\" font-size=\"12\" font-style=\"italic\" lengthAdjust=\"spacingAndGlyphs\" textLength=\"69\" x=\"245.5\" y=\"57.1387\">«attribute»</text><text fill=\"#000000\" font-family=\"sans-serif\" font-size=\"12\" lengthAdjust=\"spacingAndGlyphs\" textLength=\"8\" x=\"276\" y=\"71.1074\">g</text><line style=\"stroke: #383838; stroke-width: 1.5;\" x1=\"245.5\" x2=\"314.5\" y1=\"78.9375\" y2=\"78.9375\"/></a><!--MD5=[2156ba9850f5573cc1fc38a6a4b2f02b]\n",
       "class E7--><a href=\"psysml:a48346b2-888a-436e-97f1-e60fac760a88\" target=\"_top\" title=\"psysml:a48346b2-888a-436e-97f1-e60fac760a88\" xlink:actuate=\"onRequest\" xlink:href=\"psysml:a48346b2-888a-436e-97f1-e60fac760a88\" xlink:show=\"new\" xlink:title=\"psysml:a48346b2-888a-436e-97f1-e60fac760a88\" xlink:type=\"simple\"><rect fill=\"#FFFFFF\" height=\"45.9375\" id=\"E7\" rx=\"10\" ry=\"10\" style=\"stroke: #383838; stroke-width: 1.5;\" width=\"71\" x=\"138.5\" y=\"41\"/><text fill=\"#000000\" font-family=\"sans-serif\" font-size=\"12\" font-style=\"italic\" lengthAdjust=\"spacingAndGlyphs\" textLength=\"69\" x=\"139.5\" y=\"57.1387\">«attribute»</text><text fill=\"#000000\" font-family=\"sans-serif\" font-size=\"12\" lengthAdjust=\"spacingAndGlyphs\" textLength=\"8\" x=\"170\" y=\"71.1074\">b</text><line style=\"stroke: #383838; stroke-width: 1.5;\" x1=\"139.5\" x2=\"208.5\" y1=\"78.9375\" y2=\"78.9375\"/></a><!--MD5=[b9389687b975829384b498ac4b7476b2]\n",
       "class E8--><a href=\"psysml:952d2fa1-4eb4-490f-be08-21606a0b2581\" target=\"_top\" title=\"psysml:952d2fa1-4eb4-490f-be08-21606a0b2581\" xlink:actuate=\"onRequest\" xlink:href=\"psysml:952d2fa1-4eb4-490f-be08-21606a0b2581\" xlink:show=\"new\" xlink:title=\"psysml:952d2fa1-4eb4-490f-be08-21606a0b2581\" xlink:type=\"simple\"><rect fill=\"#FFFFFF\" height=\"45.9375\" id=\"E8\" rx=\"10\" ry=\"10\" style=\"stroke: #383838; stroke-width: 1.5;\" width=\"71\" x=\"32.5\" y=\"41\"/><text fill=\"#000000\" font-family=\"sans-serif\" font-size=\"12\" font-style=\"italic\" lengthAdjust=\"spacingAndGlyphs\" textLength=\"69\" x=\"33.5\" y=\"57.1387\">«attribute»</text><text fill=\"#000000\" font-family=\"sans-serif\" font-size=\"12\" lengthAdjust=\"spacingAndGlyphs\" textLength=\"7\" x=\"64.5\" y=\"71.1074\">c</text><line style=\"stroke: #383838; stroke-width: 1.5;\" x1=\"33.5\" x2=\"102.5\" y1=\"78.9375\" y2=\"78.9375\"/></a><!--MD5=[05d275557350bfb9b23a4ef7222b4c39]\n",
       "link E3 to E2--><a href=\"psysml:7569b902-ac88-47a0-a36a-be78510f169c\" target=\"_top\" title=\"psysml:7569b902-ac88-47a0-a36a-be78510f169c\" xlink:actuate=\"onRequest\" xlink:href=\"psysml:7569b902-ac88-47a0-a36a-be78510f169c\" xlink:show=\"new\" xlink:title=\"psysml:7569b902-ac88-47a0-a36a-be78510f169c\" xlink:type=\"simple\"><path d=\"M600.38,64 C588.98,64 579.25,64 579.25,64 C579.25,64 579.25,143.62 579.25,143.62 \" fill=\"none\" id=\"E3-&gt;E2\" style=\"stroke: #383838; stroke-width: 1.0;\"/><polygon fill=\"#FFFFFF\" points=\"579.25,163.62,572.25,144.62,586.25,144.62,579.25,163.62\" style=\"stroke: #383838; stroke-width: 1.0;\"/><ellipse cx=\"574.25\" cy=\"138.92\" fill=\"#383838\" rx=\"2\" ry=\"2\" style=\"stroke: #383838; stroke-width: 1.0;\"/><ellipse cx=\"584.25\" cy=\"138.92\" fill=\"#383838\" rx=\"2\" ry=\"2\" style=\"stroke: #383838; stroke-width: 1.0;\"/></a><!--MD5=[ddeed8deb2209213b62e6cfabaa108b2]\n",
       "reverse link E4 to E2--><a href=\"psysml:64e82b47-cc13-4353-a930-54201d4c743b\" target=\"_top\" title=\"psysml:64e82b47-cc13-4353-a930-54201d4c743b\" xlink:actuate=\"onRequest\" xlink:href=\"psysml:64e82b47-cc13-4353-a930-54201d4c743b\" xlink:show=\"new\" xlink:title=\"psysml:64e82b47-cc13-4353-a930-54201d4c743b\" xlink:type=\"simple\"><path d=\"M531.75,100.14 C531.75,100.14 531.75,163.71 531.75,163.71 \" fill=\"none\" id=\"E4&lt;-E2\" style=\"stroke: #383838; stroke-width: 1.0;\"/><polygon fill=\"#FFFFFF\" points=\"531.75,87.14,527.75,93.14,531.75,99.14,535.75,93.14,531.75,87.14\" style=\"stroke: #383838; stroke-width: 1.0;\"/><text fill=\"#000000\" font-family=\"sans-serif\" font-size=\"13\" lengthAdjust=\"spacingAndGlyphs\" textLength=\"8\" x=\"539\" y=\"130.0669\">p</text></a><!--MD5=[41acf5f55923519b411f1711ba996c71]\n",
       "@startuml\r\n",
       "skinparam linetype ortho\r\n",
       "skinparam monochrome true\r\n",
       "skinparam classbackgroundcolor white\r\n",
       "skinparam shadowing false\r\n",
       "skinparam wrapWidth 300\r\n",
       "hide circle\r\n",
       "\r\n",
       "package \"ParameterTest\" as E1  [[psysml:934b4cb7-0388-44aa-8a43-948e0e0270d7 ]]  {\r\n",
       "comp def \"A\" as E2  <<(T,blue)attribute def>> [[psysml:129c5bc9-5e36-4fac-a06d-7961ccb64091 ]] {\r\n",
       "- - attributes - -\r\n",
       "x: String\r\n",
       "y: A\r\n",
       "}\r\n",
       "comp usage \"a: A\" as E3  <<(T,blue)attribute>> [[psysml:50405f72-7bb1-41da-960b-ed203bf92c2d ]] {\r\n",
       "}\r\n",
       "comp def \"F\" as E4  <<(T,blue)calculation def>> [[psysml:84637ab1-2e14-49ab-80b7-3fb2aa846372 ]] {\r\n",
       "}\r\n",
       "comp usage \"f\" as E5  <<(T,blue)attribute>> [[psysml:88b39ab3-39a3-49e4-a823-2b19bc6cfd18 ]] {\r\n",
       "}\r\n",
       "comp usage \"g\" as E6  <<(T,blue)attribute>> [[psysml:3f28e8b6-a431-4098-a991-c6c646c27e19 ]] {\r\n",
       "}\r\n",
       "comp usage \"b\" as E7  <<(T,blue)attribute>> [[psysml:a48346b2-888a-436e-97f1-e60fac760a88 ]] {\r\n",
       "}\r\n",
       "comp usage \"c\" as E8  <<(T,blue)attribute>> [[psysml:952d2fa1-4eb4-490f-be08-21606a0b2581 ]] {\r\n",
       "}\r\n",
       "E3 - -:|> E2 [[psysml:7569b902-ac88-47a0-a36a-be78510f169c ]] \r\n",
       "E4 o- - E2 [[psysml:64e82b47-cc13-4353-a930-54201d4c743b ]] : p\r\n",
       "}\r\n",
       "@enduml\r\n",
       "\n",
       "PlantUML version 1.2020.13(Sat Jun 13 12:26:38 UTC 2020)\n",
       "(EPL source distribution)\n",
       "Java Runtime: OpenJDK Runtime Environment\n",
       "JVM: OpenJDK 64-Bit Server VM\n",
       "Default Encoding: UTF-8\n",
       "Language: en\n",
       "Country: null\n",
       "--></g></svg>"
      ]
     },
     "execution_count": 56,
     "metadata": {},
     "output_type": "execute_result"
    }
   ],
   "source": [
    "%viz --style=\"ORTHOLINE\" --view=\"Sequence\" \"ParameterTest\""
   ]
  },
  {
   "cell_type": "code",
   "execution_count": 57,
   "id": "recorded-budapest",
   "metadata": {
    "execution": {
     "iopub.execute_input": "2021-03-26T09:13:04.385916Z",
     "iopub.status.busy": "2021-03-26T09:13:04.384587Z",
     "iopub.status.idle": "2021-03-26T09:13:04.436653Z",
     "shell.execute_reply": "2021-03-26T09:13:04.435060Z"
    }
   },
   "outputs": [
    {
     "data": {
      "image/svg+xml": [
       "<?xml version=\"1.0\" encoding=\"UTF-8\" standalone=\"no\"?><svg xmlns=\"http://www.w3.org/2000/svg\" xmlns:xlink=\"http://www.w3.org/1999/xlink\" contentScriptType=\"application/ecmascript\" contentStyleType=\"text/css\" height=\"263px\" preserveAspectRatio=\"none\" style=\"width:740px;height:263px;\" version=\"1.1\" viewBox=\"0 0 740 263\" width=\"740px\" zoomAndPan=\"magnify\"><defs/><g><!--MD5=[fbc87193dbaf4d95561dea2c320d4a47]\n",
       "cluster E1--><a href=\"psysml:934b4cb7-0388-44aa-8a43-948e0e0270d7\" target=\"_top\" title=\"psysml:934b4cb7-0388-44aa-8a43-948e0e0270d7\" xlink:actuate=\"onRequest\" xlink:href=\"psysml:934b4cb7-0388-44aa-8a43-948e0e0270d7\" xlink:show=\"new\" xlink:title=\"psysml:934b4cb7-0388-44aa-8a43-948e0e0270d7\" xlink:type=\"simple\"><polygon fill=\"#FFFFFF\" points=\"16,6,139,6,146,28.2969,718,28.2969,718,251,16,251,16,6\" style=\"stroke: #000000; stroke-width: 1.5;\"/><line style=\"stroke: #000000; stroke-width: 1.5;\" x1=\"16\" x2=\"146\" y1=\"28.2969\" y2=\"28.2969\"/><text fill=\"#000000\" font-family=\"sans-serif\" font-size=\"14\" font-weight=\"bold\" lengthAdjust=\"spacingAndGlyphs\" textLength=\"117\" x=\"20\" y=\"20.9951\">ParameterTest</text></a><!--MD5=[f6df4d0ebaf0b5dfb2ced0ae5af7c670]\n",
       "cluster E4--><a href=\"psysml:84637ab1-2e14-49ab-80b7-3fb2aa846372\" target=\"_top\" title=\"psysml:84637ab1-2e14-49ab-80b7-3fb2aa846372\" xlink:actuate=\"onRequest\" xlink:href=\"psysml:84637ab1-2e14-49ab-80b7-3fb2aa846372\" xlink:show=\"new\" xlink:title=\"psysml:84637ab1-2e14-49ab-80b7-3fb2aa846372\" xlink:type=\"simple\"><rect fill=\"#FFFFFF\" height=\"160.5\" id=\"E4\" style=\"stroke: #383838; stroke-width: 1.5;\" width=\"148\" x=\"554\" y=\"64\"/><rect fill=\"#F8F8F8\" height=\"37.9375\" style=\"stroke: #383838; stroke-width: 1.5;\" width=\"148\" x=\"554\" y=\"64\"/><text fill=\"#000000\" font-family=\"sans-serif\" font-size=\"12\" font-style=\"italic\" lengthAdjust=\"spacingAndGlyphs\" textLength=\"106\" x=\"575\" y=\"80.1387\">«calculation def»</text><text fill=\"#000000\" font-family=\"sans-serif\" font-size=\"12\" lengthAdjust=\"spacingAndGlyphs\" textLength=\"7\" x=\"624.5\" y=\"94.1074\">F</text></a><!--MD5=[b4997ac47864f28c2f74865a473b2911]\n",
       "class E2--><a href=\"psysml:129c5bc9-5e36-4fac-a06d-7961ccb64091\" target=\"_top\" title=\"psysml:129c5bc9-5e36-4fac-a06d-7961ccb64091\" xlink:actuate=\"onRequest\" xlink:href=\"psysml:129c5bc9-5e36-4fac-a06d-7961ccb64091\" xlink:show=\"new\" xlink:title=\"psysml:129c5bc9-5e36-4fac-a06d-7961ccb64091\" xlink:type=\"simple\"><rect fill=\"#FFFFFF\" height=\"88.3516\" id=\"E2\" style=\"stroke: #383838; stroke-width: 1.5;\" width=\"95\" x=\"422.5\" y=\"147\"/><text fill=\"#000000\" font-family=\"sans-serif\" font-size=\"12\" font-style=\"italic\" lengthAdjust=\"spacingAndGlyphs\" textLength=\"93\" x=\"423.5\" y=\"163.1387\">«attribute def»</text><text fill=\"#000000\" font-family=\"sans-serif\" font-size=\"12\" lengthAdjust=\"spacingAndGlyphs\" textLength=\"8\" x=\"466\" y=\"177.1074\">A</text><line style=\"stroke: #383838; stroke-width: 1.5;\" x1=\"423.5\" x2=\"516.5\" y1=\"184.9375\" y2=\"184.9375\"/><text fill=\"#000000\" font-family=\"sans-serif\" font-size=\"11\" lengthAdjust=\"spacingAndGlyphs\" textLength=\"48\" x=\"428.5\" y=\"215.9526\">x: String</text><text fill=\"#000000\" font-family=\"sans-serif\" font-size=\"11\" lengthAdjust=\"spacingAndGlyphs\" textLength=\"21\" x=\"428.5\" y=\"228.7573\">y: A</text><line style=\"stroke: #383838; stroke-width: 1.0;\" x1=\"423.5\" x2=\"442.5\" y1=\"199.3398\" y2=\"199.3398\"/><text fill=\"#000000\" font-family=\"sans-serif\" font-size=\"11\" lengthAdjust=\"spacingAndGlyphs\" textLength=\"55\" x=\"442.5\" y=\"202.6479\">attributes</text><line style=\"stroke: #383838; stroke-width: 1.0;\" x1=\"497.5\" x2=\"516.5\" y1=\"199.3398\" y2=\"199.3398\"/></a><!--MD5=[09b614a08d8cba4a07c9adeb5e0fee81]\n",
       "class E3--><a href=\"psysml:50405f72-7bb1-41da-960b-ed203bf92c2d\" target=\"_top\" title=\"psysml:50405f72-7bb1-41da-960b-ed203bf92c2d\" xlink:actuate=\"onRequest\" xlink:href=\"psysml:50405f72-7bb1-41da-960b-ed203bf92c2d\" xlink:show=\"new\" xlink:title=\"psysml:50405f72-7bb1-41da-960b-ed203bf92c2d\" xlink:type=\"simple\"><rect fill=\"#FFFFFF\" height=\"45.9375\" id=\"E3\" rx=\"10\" ry=\"10\" style=\"stroke: #383838; stroke-width: 1.5;\" width=\"71\" x=\"456.5\" y=\"41\"/><text fill=\"#000000\" font-family=\"sans-serif\" font-size=\"12\" font-style=\"italic\" lengthAdjust=\"spacingAndGlyphs\" textLength=\"69\" x=\"457.5\" y=\"57.1387\">«attribute»</text><text fill=\"#000000\" font-family=\"sans-serif\" font-size=\"12\" lengthAdjust=\"spacingAndGlyphs\" textLength=\"24\" x=\"480\" y=\"71.1074\">a: A</text><line style=\"stroke: #383838; stroke-width: 1.5;\" x1=\"457.5\" x2=\"526.5\" y1=\"78.9375\" y2=\"78.9375\"/></a><!--MD5=[2156ba9850f5573cc1fc38a6a4b2f02b]\n",
       "class E7--><a href=\"psysml:88b39ab3-39a3-49e4-a823-2b19bc6cfd18\" target=\"_top\" title=\"psysml:88b39ab3-39a3-49e4-a823-2b19bc6cfd18\" xlink:actuate=\"onRequest\" xlink:href=\"psysml:88b39ab3-39a3-49e4-a823-2b19bc6cfd18\" xlink:show=\"new\" xlink:title=\"psysml:88b39ab3-39a3-49e4-a823-2b19bc6cfd18\" xlink:type=\"simple\"><rect fill=\"#FFFFFF\" height=\"45.9375\" id=\"E7\" rx=\"10\" ry=\"10\" style=\"stroke: #383838; stroke-width: 1.5;\" width=\"71\" x=\"350.5\" y=\"41\"/><text fill=\"#000000\" font-family=\"sans-serif\" font-size=\"12\" font-style=\"italic\" lengthAdjust=\"spacingAndGlyphs\" textLength=\"69\" x=\"351.5\" y=\"57.1387\">«attribute»</text><text fill=\"#000000\" font-family=\"sans-serif\" font-size=\"12\" lengthAdjust=\"spacingAndGlyphs\" textLength=\"4\" x=\"384\" y=\"71.1074\">f</text><line style=\"stroke: #383838; stroke-width: 1.5;\" x1=\"351.5\" x2=\"420.5\" y1=\"78.9375\" y2=\"78.9375\"/></a><!--MD5=[b9389687b975829384b498ac4b7476b2]\n",
       "class E8--><a href=\"psysml:3f28e8b6-a431-4098-a991-c6c646c27e19\" target=\"_top\" title=\"psysml:3f28e8b6-a431-4098-a991-c6c646c27e19\" xlink:actuate=\"onRequest\" xlink:href=\"psysml:3f28e8b6-a431-4098-a991-c6c646c27e19\" xlink:show=\"new\" xlink:title=\"psysml:3f28e8b6-a431-4098-a991-c6c646c27e19\" xlink:type=\"simple\"><rect fill=\"#FFFFFF\" height=\"45.9375\" id=\"E8\" rx=\"10\" ry=\"10\" style=\"stroke: #383838; stroke-width: 1.5;\" width=\"71\" x=\"244.5\" y=\"41\"/><text fill=\"#000000\" font-family=\"sans-serif\" font-size=\"12\" font-style=\"italic\" lengthAdjust=\"spacingAndGlyphs\" textLength=\"69\" x=\"245.5\" y=\"57.1387\">«attribute»</text><text fill=\"#000000\" font-family=\"sans-serif\" font-size=\"12\" lengthAdjust=\"spacingAndGlyphs\" textLength=\"8\" x=\"276\" y=\"71.1074\">g</text><line style=\"stroke: #383838; stroke-width: 1.5;\" x1=\"245.5\" x2=\"314.5\" y1=\"78.9375\" y2=\"78.9375\"/></a><!--MD5=[fd4143e9d270a159db93a4ea2a975926]\n",
       "class E9--><a href=\"psysml:a48346b2-888a-436e-97f1-e60fac760a88\" target=\"_top\" title=\"psysml:a48346b2-888a-436e-97f1-e60fac760a88\" xlink:actuate=\"onRequest\" xlink:href=\"psysml:a48346b2-888a-436e-97f1-e60fac760a88\" xlink:show=\"new\" xlink:title=\"psysml:a48346b2-888a-436e-97f1-e60fac760a88\" xlink:type=\"simple\"><rect fill=\"#FFFFFF\" height=\"45.9375\" id=\"E9\" rx=\"10\" ry=\"10\" style=\"stroke: #383838; stroke-width: 1.5;\" width=\"71\" x=\"138.5\" y=\"41\"/><text fill=\"#000000\" font-family=\"sans-serif\" font-size=\"12\" font-style=\"italic\" lengthAdjust=\"spacingAndGlyphs\" textLength=\"69\" x=\"139.5\" y=\"57.1387\">«attribute»</text><text fill=\"#000000\" font-family=\"sans-serif\" font-size=\"12\" lengthAdjust=\"spacingAndGlyphs\" textLength=\"8\" x=\"170\" y=\"71.1074\">b</text><line style=\"stroke: #383838; stroke-width: 1.5;\" x1=\"139.5\" x2=\"208.5\" y1=\"78.9375\" y2=\"78.9375\"/></a><!--MD5=[96f4274e9e20536e775497830990834d]\n",
       "class E10--><a href=\"psysml:952d2fa1-4eb4-490f-be08-21606a0b2581\" target=\"_top\" title=\"psysml:952d2fa1-4eb4-490f-be08-21606a0b2581\" xlink:actuate=\"onRequest\" xlink:href=\"psysml:952d2fa1-4eb4-490f-be08-21606a0b2581\" xlink:show=\"new\" xlink:title=\"psysml:952d2fa1-4eb4-490f-be08-21606a0b2581\" xlink:type=\"simple\"><rect fill=\"#FFFFFF\" height=\"45.9375\" id=\"E10\" rx=\"10\" ry=\"10\" style=\"stroke: #383838; stroke-width: 1.5;\" width=\"71\" x=\"32.5\" y=\"41\"/><text fill=\"#000000\" font-family=\"sans-serif\" font-size=\"12\" font-style=\"italic\" lengthAdjust=\"spacingAndGlyphs\" textLength=\"69\" x=\"33.5\" y=\"57.1387\">«attribute»</text><text fill=\"#000000\" font-family=\"sans-serif\" font-size=\"12\" lengthAdjust=\"spacingAndGlyphs\" textLength=\"7\" x=\"64.5\" y=\"71.1074\">c</text><line style=\"stroke: #383838; stroke-width: 1.5;\" x1=\"33.5\" x2=\"102.5\" y1=\"78.9375\" y2=\"78.9375\"/></a><text fill=\"#000000\" font-family=\"sans-serif\" font-size=\"14\" lengthAdjust=\"spacingAndGlyphs\" textLength=\"9\" x=\"567.5\" y=\"42.6982\">p</text><rect fill=\"#383838\" height=\"12\" style=\"stroke: #F8F8F8; stroke-width: 1.5;\" width=\"12\" x=\"566\" y=\"58\"/><text fill=\"#000000\" font-family=\"sans-serif\" font-size=\"14\" lengthAdjust=\"spacingAndGlyphs\" textLength=\"9\" x=\"614.5\" y=\"42.6982\">q</text><rect fill=\"#383838\" height=\"12\" style=\"stroke: #F8F8F8; stroke-width: 1.5;\" width=\"12\" x=\"613\" y=\"58\"/><!--MD5=[05d275557350bfb9b23a4ef7222b4c39]\n",
       "link E3 to E2--><a href=\"psysml:7569b902-ac88-47a0-a36a-be78510f169c\" target=\"_top\" title=\"psysml:7569b902-ac88-47a0-a36a-be78510f169c\" xlink:actuate=\"onRequest\" xlink:href=\"psysml:7569b902-ac88-47a0-a36a-be78510f169c\" xlink:show=\"new\" xlink:title=\"psysml:7569b902-ac88-47a0-a36a-be78510f169c\" xlink:type=\"simple\"><path d=\"M487,87.29 C487,87.29 487,126.78 487,126.78 \" fill=\"none\" id=\"E3-&gt;E2\" style=\"stroke: #383838; stroke-width: 1.0;\"/><polygon fill=\"#FFFFFF\" points=\"487,146.78,480,127.78,494,127.78,487,146.78\" style=\"stroke: #383838; stroke-width: 1.0;\"/><ellipse cx=\"482\" cy=\"122.08\" fill=\"#383838\" rx=\"2\" ry=\"2\" style=\"stroke: #383838; stroke-width: 1.0;\"/><ellipse cx=\"492\" cy=\"122.08\" fill=\"#383838\" rx=\"2\" ry=\"2\" style=\"stroke: #383838; stroke-width: 1.0;\"/></a><!--MD5=[5bd0246acffb7dca7afe41059126ed35]\n",
       "@startuml\r\n",
       "skinparam linetype ortho\r\n",
       "skinparam monochrome true\r\n",
       "skinparam classbackgroundcolor white\r\n",
       "skinparam shadowing false\r\n",
       "skinparam wrapWidth 300\r\n",
       "hide circle\r\n",
       "\r\n",
       "package \"ParameterTest\" as E1  [[psysml:934b4cb7-0388-44aa-8a43-948e0e0270d7 ]]  {\r\n",
       "comp def \"A\" as E2  <<(T,blue)attribute def>> [[psysml:129c5bc9-5e36-4fac-a06d-7961ccb64091 ]] {\r\n",
       "- - attributes - -\r\n",
       "x: String\r\n",
       "y: A\r\n",
       "}\r\n",
       "comp usage \"a: A\" as E3  <<(T,blue)attribute>> [[psysml:50405f72-7bb1-41da-960b-ed203bf92c2d ]] {\r\n",
       "}\r\n",
       "rec def \"F\" as E4  <<(T,blue)calculation def>> [[psysml:84637ab1-2e14-49ab-80b7-3fb2aa846372 ]] {\r\n",
       "portin \"p\" as E5  [[psysml:64e82b47-cc13-4353-a930-54201d4c743b ]] \r\n",
       "portin \"q\" as E6  [[psysml:647ae971-dc5c-461d-bddf-e9c9561ef010 ]] \r\n",
       "}\r\n",
       "\r\n",
       "comp usage \"f\" as E7  <<(T,blue)attribute>> [[psysml:88b39ab3-39a3-49e4-a823-2b19bc6cfd18 ]] {\r\n",
       "}\r\n",
       "comp usage \"g\" as E8  <<(T,blue)attribute>> [[psysml:3f28e8b6-a431-4098-a991-c6c646c27e19 ]] {\r\n",
       "}\r\n",
       "comp usage \"b\" as E9  <<(T,blue)attribute>> [[psysml:a48346b2-888a-436e-97f1-e60fac760a88 ]] {\r\n",
       "}\r\n",
       "comp usage \"c\" as E10  <<(T,blue)attribute>> [[psysml:952d2fa1-4eb4-490f-be08-21606a0b2581 ]] {\r\n",
       "}\r\n",
       "E3 - -:|> E2 [[psysml:7569b902-ac88-47a0-a36a-be78510f169c ]] \r\n",
       "}\r\n",
       "@enduml\r\n",
       "\n",
       "PlantUML version 1.2020.13(Sat Jun 13 12:26:38 UTC 2020)\n",
       "(EPL source distribution)\n",
       "Java Runtime: OpenJDK Runtime Environment\n",
       "JVM: OpenJDK 64-Bit Server VM\n",
       "Default Encoding: UTF-8\n",
       "Language: en\n",
       "Country: null\n",
       "--></g></svg>"
      ]
     },
     "execution_count": 57,
     "metadata": {},
     "output_type": "execute_result"
    }
   ],
   "source": [
    "%viz --style=\"ORTHOLINE\" --view=\"MIXED\" \"ParameterTest\""
   ]
  }
 ],
 "metadata": {
  "kernelspec": {
   "display_name": "SysML",
   "language": "sysml",
   "name": "sysml"
  },
  "language_info": {
   "codemirror_mode": "sysml",
   "file_extension": ".sysml",
   "mimetype": "text/x-sysml",
   "name": "SysML",
   "pygments_lexer": "java",
   "version": "1.0.0"
  }
 },
 "nbformat": 4,
 "nbformat_minor": 5
}
