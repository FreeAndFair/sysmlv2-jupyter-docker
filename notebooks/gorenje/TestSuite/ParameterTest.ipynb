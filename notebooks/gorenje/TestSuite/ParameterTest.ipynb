{
 "cells": [
  {
   "cell_type": "markdown",
   "id": "breeding-clause",
   "metadata": {},
   "source": [
    "# SysML v2 Test Suite\n",
    "\n",
    "This can notebook can be cleared using menu `Edit --> Clear All Outputs` and then all cells can be\n",
    "run using menu `Run --> Run All Cells`.\n",
    "\n",
    "**WARNING**: This file is generated, all modifications here will be ignored.\n"
   ]
  },
  {
   "cell_type": "markdown",
   "id": "short-ribbon",
   "metadata": {},
   "source": [
    "## File: ../../sysml/src/examples/Simple Tests/ParameterTest.sysml"
   ]
  },
  {
   "cell_type": "code",
   "execution_count": 1,
   "id": "complete-weekend",
   "metadata": {
    "execution": {
     "iopub.execute_input": "2021-03-25T15:03:06.712946Z",
     "iopub.status.busy": "2021-03-25T15:03:06.712290Z",
     "iopub.status.idle": "2021-03-25T15:03:07.142760Z",
     "shell.execute_reply": "2021-03-25T15:03:07.142281Z"
    }
   },
   "outputs": [
    {
     "data": {
      "text/plain": [
       "Package ParameterTest (fcd2cbae-de7f-498d-88c0-a7bb6bdfd6ef)\n"
      ]
     },
     "execution_count": 1,
     "metadata": {},
     "output_type": "execute_result"
    }
   ],
   "source": [
    "package ParameterTest {\n",
    "\tattribute def A {\n",
    "\t\tattribute x : ScalarValues::String;\n",
    "\t\tattribute y : A;\n",
    "\t}\n",
    "\t\n",
    "\tattribute a : A;\n",
    "\t\n",
    "\tcalc def F (p : A, q : ScalarValues::Integer): ScalarValues::Integer;\n",
    "\t\n",
    "\tattribute f = F(a, 2);\n",
    "\tattribute g = F(q => 1, p => a);\n",
    "\t\n",
    "\tattribute b = A(y=>a, x=>\"\"); \n",
    "\tattribute c = A(\"test2\");\n",
    "}"
   ]
  },
  {
   "cell_type": "code",
   "execution_count": 2,
   "id": "peripheral-investigator",
   "metadata": {
    "execution": {
     "iopub.execute_input": "2021-03-25T15:03:07.195029Z",
     "iopub.status.busy": "2021-03-25T15:03:07.194540Z",
     "iopub.status.idle": "2021-03-25T15:03:08.073874Z",
     "shell.execute_reply": "2021-03-25T15:03:08.073561Z"
    }
   },
   "outputs": [
    {
     "data": {
      "image/svg+xml": [
       "<?xml version=\"1.0\" encoding=\"UTF-8\" standalone=\"no\"?><svg xmlns=\"http://www.w3.org/2000/svg\" xmlns:xlink=\"http://www.w3.org/1999/xlink\" contentScriptType=\"application/ecmascript\" contentStyleType=\"text/css\" height=\"247px\" preserveAspectRatio=\"none\" style=\"width:868px;height:247px;\" version=\"1.1\" viewBox=\"0 0 868 247\" width=\"868px\" zoomAndPan=\"magnify\"><defs><filter height=\"300%\" id=\"fz17njtf5qjoj\" width=\"300%\" x=\"-1\" y=\"-1\"><feGaussianBlur result=\"blurOut\" stdDeviation=\"2.0\"/><feColorMatrix in=\"blurOut\" result=\"blurOut2\" type=\"matrix\" values=\"0 0 0 0 0 0 0 0 0 0 0 0 0 0 0 0 0 0 .4 0\"/><feOffset dx=\"4.0\" dy=\"4.0\" in=\"blurOut2\" result=\"blurOut3\"/><feBlend in=\"SourceGraphic\" in2=\"blurOut3\" mode=\"normal\"/></filter></defs><g><!--MD5=[fbc87193dbaf4d95561dea2c320d4a47]\n",
       "cluster E1--><a href=\"psysml:c7000c50-df42-41d3-9ba9-36eed14db093\" target=\"_top\" title=\"psysml:c7000c50-df42-41d3-9ba9-36eed14db093\" xlink:actuate=\"onRequest\" xlink:href=\"psysml:c7000c50-df42-41d3-9ba9-36eed14db093\" xlink:show=\"new\" xlink:title=\"psysml:c7000c50-df42-41d3-9ba9-36eed14db093\" xlink:type=\"simple\"><polygon fill=\"#FFFFFF\" filter=\"url(#fz17njtf5qjoj)\" points=\"16,6,139,6,146,28.2969,846,28.2969,846,235,16,235,16,6\" style=\"stroke: #000000; stroke-width: 1.5;\"/><line style=\"stroke: #000000; stroke-width: 1.5;\" x1=\"16\" x2=\"146\" y1=\"28.2969\" y2=\"28.2969\"/><text fill=\"#000000\" font-family=\"sans-serif\" font-size=\"14\" font-weight=\"bold\" lengthAdjust=\"spacingAndGlyphs\" textLength=\"117\" x=\"20\" y=\"20.9951\">ParameterTest</text></a><!--MD5=[f6df4d0ebaf0b5dfb2ced0ae5af7c670]\n",
       "cluster E4--><a href=\"psysml:31ea6359-c2ac-42c4-9008-615ad8ad058c\" target=\"_top\" title=\"psysml:31ea6359-c2ac-42c4-9008-615ad8ad058c\" xlink:actuate=\"onRequest\" xlink:href=\"psysml:31ea6359-c2ac-42c4-9008-615ad8ad058c\" xlink:show=\"new\" xlink:title=\"psysml:31ea6359-c2ac-42c4-9008-615ad8ad058c\" xlink:type=\"simple\"><rect fill=\"#FFFFFF\" filter=\"url(#fz17njtf5qjoj)\" height=\"152.5\" id=\"E4\" style=\"stroke: #A80036; stroke-width: 1.5;\" width=\"148\" x=\"682\" y=\"64\"/><rect fill=\"#FEFECE\" height=\"37.9375\" style=\"stroke: #A80036; stroke-width: 1.5;\" width=\"148\" x=\"682\" y=\"64\"/><text fill=\"#000000\" font-family=\"sans-serif\" font-size=\"12\" font-style=\"italic\" lengthAdjust=\"spacingAndGlyphs\" textLength=\"106\" x=\"703\" y=\"80.1387\">«calculation def»</text><text fill=\"#000000\" font-family=\"sans-serif\" font-size=\"12\" lengthAdjust=\"spacingAndGlyphs\" textLength=\"7\" x=\"752.5\" y=\"94.1074\">F</text></a><!--MD5=[b4997ac47864f28c2f74865a473b2911]\n",
       "class E2--><a href=\"psysml:cb02a2ee-bdc8-478c-9636-92278b567e26\" target=\"_top\" title=\"psysml:cb02a2ee-bdc8-478c-9636-92278b567e26\" xlink:actuate=\"onRequest\" xlink:href=\"psysml:cb02a2ee-bdc8-478c-9636-92278b567e26\" xlink:show=\"new\" xlink:title=\"psysml:cb02a2ee-bdc8-478c-9636-92278b567e26\" xlink:type=\"simple\"><rect fill=\"#FEFECE\" filter=\"url(#fz17njtf5qjoj)\" height=\"71.5469\" id=\"E2\" style=\"stroke: #A80036; stroke-width: 1.5;\" width=\"121\" x=\"524.5\" y=\"147\"/><ellipse cx=\"539.5\" cy=\"165.9688\" fill=\"#0000FF\" rx=\"11\" ry=\"11\" style=\"stroke: #A80036; stroke-width: 1.0;\"/><path d=\"M540.3438,172.7188 L537.8906,172.7188 L537.8906,162.4688 L534.75,162.4688 L534.75,160.3281 L543.4844,160.3281 L543.4844,162.4688 L540.3438,162.4688 L540.3438,172.7188 Z \"/><text fill=\"#000000\" font-family=\"sans-serif\" font-size=\"12\" font-style=\"italic\" lengthAdjust=\"spacingAndGlyphs\" textLength=\"93\" x=\"551.5\" y=\"163.1387\">«attribute def»</text><text fill=\"#000000\" font-family=\"sans-serif\" font-size=\"12\" lengthAdjust=\"spacingAndGlyphs\" textLength=\"8\" x=\"594\" y=\"177.1074\">A</text><line style=\"stroke: #A80036; stroke-width: 1.5;\" x1=\"525.5\" x2=\"644.5\" y1=\"184.9375\" y2=\"184.9375\"/><text fill=\"#000000\" font-family=\"sans-serif\" font-size=\"11\" lengthAdjust=\"spacingAndGlyphs\" textLength=\"48\" x=\"530.5\" y=\"199.1479\">x: String</text><text fill=\"#000000\" font-family=\"sans-serif\" font-size=\"11\" lengthAdjust=\"spacingAndGlyphs\" textLength=\"21\" x=\"530.5\" y=\"211.9526\">y: A</text></a><!--MD5=[09b614a08d8cba4a07c9adeb5e0fee81]\n",
       "class E3--><a href=\"psysml:50ebccda-29a4-4ea8-943d-69f99c07f732\" target=\"_top\" title=\"psysml:50ebccda-29a4-4ea8-943d-69f99c07f732\" xlink:actuate=\"onRequest\" xlink:href=\"psysml:50ebccda-29a4-4ea8-943d-69f99c07f732\" xlink:show=\"new\" xlink:title=\"psysml:50ebccda-29a4-4ea8-943d-69f99c07f732\" xlink:type=\"simple\"><rect fill=\"#FEFECE\" filter=\"url(#fz17njtf5qjoj)\" height=\"45.9375\" id=\"E3\" rx=\"10\" ry=\"10\" style=\"stroke: #A80036; stroke-width: 1.5;\" width=\"97\" x=\"559.5\" y=\"41\"/><ellipse cx=\"574.5\" cy=\"59.9688\" fill=\"#0000FF\" rx=\"11\" ry=\"11\" style=\"stroke: #A80036; stroke-width: 1.0;\"/><path d=\"M575.3438,66.7188 L572.8906,66.7188 L572.8906,56.4688 L569.75,56.4688 L569.75,54.3281 L578.4844,54.3281 L578.4844,56.4688 L575.3438,56.4688 L575.3438,66.7188 Z \"/><text fill=\"#000000\" font-family=\"sans-serif\" font-size=\"12\" font-style=\"italic\" lengthAdjust=\"spacingAndGlyphs\" textLength=\"69\" x=\"586.5\" y=\"57.1387\">«attribute»</text><text fill=\"#000000\" font-family=\"sans-serif\" font-size=\"12\" lengthAdjust=\"spacingAndGlyphs\" textLength=\"24\" x=\"609\" y=\"71.1074\">a: A</text><line style=\"stroke: #A80036; stroke-width: 1.5;\" x1=\"560.5\" x2=\"655.5\" y1=\"78.9375\" y2=\"78.9375\"/></a><!--MD5=[2156ba9850f5573cc1fc38a6a4b2f02b]\n",
       "class E7--><a href=\"psysml:a5af055b-f2ee-4ef1-a486-dc312f464f3e\" target=\"_top\" title=\"psysml:a5af055b-f2ee-4ef1-a486-dc312f464f3e\" xlink:actuate=\"onRequest\" xlink:href=\"psysml:a5af055b-f2ee-4ef1-a486-dc312f464f3e\" xlink:show=\"new\" xlink:title=\"psysml:a5af055b-f2ee-4ef1-a486-dc312f464f3e\" xlink:type=\"simple\"><rect fill=\"#FEFECE\" filter=\"url(#fz17njtf5qjoj)\" height=\"45.9375\" id=\"E7\" rx=\"10\" ry=\"10\" style=\"stroke: #A80036; stroke-width: 1.5;\" width=\"97\" x=\"427.5\" y=\"41\"/><ellipse cx=\"442.5\" cy=\"59.9688\" fill=\"#0000FF\" rx=\"11\" ry=\"11\" style=\"stroke: #A80036; stroke-width: 1.0;\"/><path d=\"M443.3438,66.7188 L440.8906,66.7188 L440.8906,56.4688 L437.75,56.4688 L437.75,54.3281 L446.4844,54.3281 L446.4844,56.4688 L443.3438,56.4688 L443.3438,66.7188 Z \"/><text fill=\"#000000\" font-family=\"sans-serif\" font-size=\"12\" font-style=\"italic\" lengthAdjust=\"spacingAndGlyphs\" textLength=\"69\" x=\"454.5\" y=\"57.1387\">«attribute»</text><text fill=\"#000000\" font-family=\"sans-serif\" font-size=\"12\" lengthAdjust=\"spacingAndGlyphs\" textLength=\"4\" x=\"487\" y=\"71.1074\">f</text><line style=\"stroke: #A80036; stroke-width: 1.5;\" x1=\"428.5\" x2=\"523.5\" y1=\"78.9375\" y2=\"78.9375\"/></a><!--MD5=[b9389687b975829384b498ac4b7476b2]\n",
       "class E8--><a href=\"psysml:63113e1f-55f0-4199-b954-2673a0b317ed\" target=\"_top\" title=\"psysml:63113e1f-55f0-4199-b954-2673a0b317ed\" xlink:actuate=\"onRequest\" xlink:href=\"psysml:63113e1f-55f0-4199-b954-2673a0b317ed\" xlink:show=\"new\" xlink:title=\"psysml:63113e1f-55f0-4199-b954-2673a0b317ed\" xlink:type=\"simple\"><rect fill=\"#FEFECE\" filter=\"url(#fz17njtf5qjoj)\" height=\"45.9375\" id=\"E8\" rx=\"10\" ry=\"10\" style=\"stroke: #A80036; stroke-width: 1.5;\" width=\"97\" x=\"295.5\" y=\"41\"/><ellipse cx=\"310.5\" cy=\"59.9688\" fill=\"#0000FF\" rx=\"11\" ry=\"11\" style=\"stroke: #A80036; stroke-width: 1.0;\"/><path d=\"M311.3438,66.7188 L308.8906,66.7188 L308.8906,56.4688 L305.75,56.4688 L305.75,54.3281 L314.4844,54.3281 L314.4844,56.4688 L311.3438,56.4688 L311.3438,66.7188 Z \"/><text fill=\"#000000\" font-family=\"sans-serif\" font-size=\"12\" font-style=\"italic\" lengthAdjust=\"spacingAndGlyphs\" textLength=\"69\" x=\"322.5\" y=\"57.1387\">«attribute»</text><text fill=\"#000000\" font-family=\"sans-serif\" font-size=\"12\" lengthAdjust=\"spacingAndGlyphs\" textLength=\"8\" x=\"353\" y=\"71.1074\">g</text><line style=\"stroke: #A80036; stroke-width: 1.5;\" x1=\"296.5\" x2=\"391.5\" y1=\"78.9375\" y2=\"78.9375\"/></a><!--MD5=[fd4143e9d270a159db93a4ea2a975926]\n",
       "class E9--><a href=\"psysml:537e328f-e5cc-426a-9b09-8cf3e436744c\" target=\"_top\" title=\"psysml:537e328f-e5cc-426a-9b09-8cf3e436744c\" xlink:actuate=\"onRequest\" xlink:href=\"psysml:537e328f-e5cc-426a-9b09-8cf3e436744c\" xlink:show=\"new\" xlink:title=\"psysml:537e328f-e5cc-426a-9b09-8cf3e436744c\" xlink:type=\"simple\"><rect fill=\"#FEFECE\" filter=\"url(#fz17njtf5qjoj)\" height=\"45.9375\" id=\"E9\" rx=\"10\" ry=\"10\" style=\"stroke: #A80036; stroke-width: 1.5;\" width=\"97\" x=\"163.5\" y=\"41\"/><ellipse cx=\"178.5\" cy=\"59.9688\" fill=\"#0000FF\" rx=\"11\" ry=\"11\" style=\"stroke: #A80036; stroke-width: 1.0;\"/><path d=\"M179.3438,66.7188 L176.8906,66.7188 L176.8906,56.4688 L173.75,56.4688 L173.75,54.3281 L182.4844,54.3281 L182.4844,56.4688 L179.3438,56.4688 L179.3438,66.7188 Z \"/><text fill=\"#000000\" font-family=\"sans-serif\" font-size=\"12\" font-style=\"italic\" lengthAdjust=\"spacingAndGlyphs\" textLength=\"69\" x=\"190.5\" y=\"57.1387\">«attribute»</text><text fill=\"#000000\" font-family=\"sans-serif\" font-size=\"12\" lengthAdjust=\"spacingAndGlyphs\" textLength=\"8\" x=\"221\" y=\"71.1074\">b</text><line style=\"stroke: #A80036; stroke-width: 1.5;\" x1=\"164.5\" x2=\"259.5\" y1=\"78.9375\" y2=\"78.9375\"/></a><!--MD5=[96f4274e9e20536e775497830990834d]\n",
       "class E10--><a href=\"psysml:2b35c468-a57b-4dfd-a90f-3e1de4d6204b\" target=\"_top\" title=\"psysml:2b35c468-a57b-4dfd-a90f-3e1de4d6204b\" xlink:actuate=\"onRequest\" xlink:href=\"psysml:2b35c468-a57b-4dfd-a90f-3e1de4d6204b\" xlink:show=\"new\" xlink:title=\"psysml:2b35c468-a57b-4dfd-a90f-3e1de4d6204b\" xlink:type=\"simple\"><rect fill=\"#FEFECE\" filter=\"url(#fz17njtf5qjoj)\" height=\"45.9375\" id=\"E10\" rx=\"10\" ry=\"10\" style=\"stroke: #A80036; stroke-width: 1.5;\" width=\"97\" x=\"31.5\" y=\"41\"/><ellipse cx=\"46.5\" cy=\"59.9688\" fill=\"#0000FF\" rx=\"11\" ry=\"11\" style=\"stroke: #A80036; stroke-width: 1.0;\"/><path d=\"M47.3438,66.7188 L44.8906,66.7188 L44.8906,56.4688 L41.75,56.4688 L41.75,54.3281 L50.4844,54.3281 L50.4844,56.4688 L47.3438,56.4688 L47.3438,66.7188 Z \"/><text fill=\"#000000\" font-family=\"sans-serif\" font-size=\"12\" font-style=\"italic\" lengthAdjust=\"spacingAndGlyphs\" textLength=\"69\" x=\"58.5\" y=\"57.1387\">«attribute»</text><text fill=\"#000000\" font-family=\"sans-serif\" font-size=\"12\" lengthAdjust=\"spacingAndGlyphs\" textLength=\"7\" x=\"89.5\" y=\"71.1074\">c</text><line style=\"stroke: #A80036; stroke-width: 1.5;\" x1=\"32.5\" x2=\"127.5\" y1=\"78.9375\" y2=\"78.9375\"/></a><text fill=\"#000000\" font-family=\"sans-serif\" font-size=\"14\" lengthAdjust=\"spacingAndGlyphs\" textLength=\"9\" x=\"695.5\" y=\"42.6982\">p</text><rect fill=\"#A80036\" height=\"12\" style=\"stroke: #FEFECE; stroke-width: 1.5;\" width=\"12\" x=\"694\" y=\"58\"/><text fill=\"#000000\" font-family=\"sans-serif\" font-size=\"14\" lengthAdjust=\"spacingAndGlyphs\" textLength=\"9\" x=\"742.5\" y=\"42.6982\">q</text><rect fill=\"#A80036\" height=\"12\" style=\"stroke: #FEFECE; stroke-width: 1.5;\" width=\"12\" x=\"741\" y=\"58\"/><!--MD5=[05d275557350bfb9b23a4ef7222b4c39]\n",
       "link E3 to E2--><a href=\"psysml:50b306d4-0f13-410b-aa85-567dae9acdd8\" target=\"_top\" title=\"psysml:50b306d4-0f13-410b-aa85-567dae9acdd8\" xlink:actuate=\"onRequest\" xlink:href=\"psysml:50b306d4-0f13-410b-aa85-567dae9acdd8\" xlink:show=\"new\" xlink:title=\"psysml:50b306d4-0f13-410b-aa85-567dae9acdd8\" xlink:type=\"simple\"><path d=\"M603.67,87.01 C601.45,98.3 598.64,112.62 595.87,126.7 \" fill=\"none\" id=\"E3-&gt;E2\" style=\"stroke: #A80036; stroke-width: 1.0;\"/><polygon fill=\"#FFFFFF\" points=\"591.93,146.75,588.7277,126.7564,602.4646,129.4577,591.93,146.75\" style=\"stroke: #A80036; stroke-width: 1.0;\"/><ellipse cx=\"591.7899\" cy=\"121.5494\" fill=\"#A80036\" rx=\"2\" ry=\"2\" style=\"stroke: #A80036; stroke-width: 1.0;\"/><ellipse cx=\"601.602\" cy=\"123.4789\" fill=\"#A80036\" rx=\"2\" ry=\"2\" style=\"stroke: #A80036; stroke-width: 1.0;\"/></a><!--MD5=[58e3f694f529d031f616ef529ba5259b]\n",
       "@startuml\r\n",
       " \r\n",
       "package \"ParameterTest\" as E1  [[psysml:c7000c50-df42-41d3-9ba9-36eed14db093 ]]  {\r\n",
       "comp def \"A\" as E2  <<(T,blue)attribute def>> [[psysml:cb02a2ee-bdc8-478c-9636-92278b567e26 ]] {\r\n",
       "x: String\r\n",
       "y: A\r\n",
       "}\r\n",
       "comp usage \"a: A\" as E3  <<(T,blue)attribute>> [[psysml:50ebccda-29a4-4ea8-943d-69f99c07f732 ]] {\r\n",
       "}\r\n",
       "rec def \"F\" as E4  <<(T,blue)calculation def>> [[psysml:31ea6359-c2ac-42c4-9008-615ad8ad058c ]] {\r\n",
       "portin \"p\" as E5  [[psysml:c5b3d96c-9fe7-4ab4-b771-6776a88b0ad4 ]] \r\n",
       "portin \"q\" as E6  [[psysml:66adf659-8704-40ab-88b3-19d2477512b1 ]] \r\n",
       "}\r\n",
       "\r\n",
       "comp usage \"f\" as E7  <<(T,blue)attribute>> [[psysml:a5af055b-f2ee-4ef1-a486-dc312f464f3e ]] {\r\n",
       "}\r\n",
       "comp usage \"g\" as E8  <<(T,blue)attribute>> [[psysml:63113e1f-55f0-4199-b954-2673a0b317ed ]] {\r\n",
       "}\r\n",
       "comp usage \"b\" as E9  <<(T,blue)attribute>> [[psysml:537e328f-e5cc-426a-9b09-8cf3e436744c ]] {\r\n",
       "}\r\n",
       "comp usage \"c\" as E10  <<(T,blue)attribute>> [[psysml:2b35c468-a57b-4dfd-a90f-3e1de4d6204b ]] {\r\n",
       "}\r\n",
       "E3 - -:|> E2 [[psysml:50b306d4-0f13-410b-aa85-567dae9acdd8 ]] \r\n",
       "}\r\n",
       "@enduml\r\n",
       "\n",
       "PlantUML version 1.2020.13(Sat Jun 13 12:26:38 UTC 2020)\n",
       "(EPL source distribution)\n",
       "Java Runtime: OpenJDK Runtime Environment\n",
       "JVM: OpenJDK 64-Bit Server VM\n",
       "Default Encoding: UTF-8\n",
       "Language: en\n",
       "Country: null\n",
       "--></g></svg>"
      ]
     },
     "execution_count": 2,
     "metadata": {},
     "output_type": "execute_result"
    }
   ],
   "source": [
    "%viz --style=\"COMPTREE\" --view=\"Default\" \"ParameterTest\""
   ]
  },
  {
   "cell_type": "code",
   "execution_count": 3,
   "id": "competent-project",
   "metadata": {
    "execution": {
     "iopub.execute_input": "2021-03-25T15:03:08.124464Z",
     "iopub.status.busy": "2021-03-25T15:03:08.124081Z",
     "iopub.status.idle": "2021-03-25T15:03:08.326276Z",
     "shell.execute_reply": "2021-03-25T15:03:08.324577Z"
    }
   },
   "outputs": [
    {
     "data": {
      "image/svg+xml": [
       "<?xml version=\"1.0\" encoding=\"UTF-8\" standalone=\"no\"?><svg xmlns=\"http://www.w3.org/2000/svg\" xmlns:xlink=\"http://www.w3.org/1999/xlink\" contentScriptType=\"application/ecmascript\" contentStyleType=\"text/css\" height=\"264px\" preserveAspectRatio=\"none\" style=\"width:864px;height:264px;\" version=\"1.1\" viewBox=\"0 0 864 264\" width=\"864px\" zoomAndPan=\"magnify\"><defs><filter height=\"300%\" id=\"f1qafvdqmoztzp\" width=\"300%\" x=\"-1\" y=\"-1\"><feGaussianBlur result=\"blurOut\" stdDeviation=\"2.0\"/><feColorMatrix in=\"blurOut\" result=\"blurOut2\" type=\"matrix\" values=\"0 0 0 0 0 0 0 0 0 0 0 0 0 0 0 0 0 0 .4 0\"/><feOffset dx=\"4.0\" dy=\"4.0\" in=\"blurOut2\" result=\"blurOut3\"/><feBlend in=\"SourceGraphic\" in2=\"blurOut3\" mode=\"normal\"/></filter></defs><g><!--MD5=[fbc87193dbaf4d95561dea2c320d4a47]\n",
       "cluster E1--><a href=\"psysml:c7000c50-df42-41d3-9ba9-36eed14db093\" target=\"_top\" title=\"psysml:c7000c50-df42-41d3-9ba9-36eed14db093\" xlink:actuate=\"onRequest\" xlink:href=\"psysml:c7000c50-df42-41d3-9ba9-36eed14db093\" xlink:show=\"new\" xlink:title=\"psysml:c7000c50-df42-41d3-9ba9-36eed14db093\" xlink:type=\"simple\"><polygon fill=\"#FFFFFF\" filter=\"url(#f1qafvdqmoztzp)\" points=\"16,6,139,6,146,28.2969,842,28.2969,842,252,16,252,16,6\" style=\"stroke: #000000; stroke-width: 1.5;\"/><line style=\"stroke: #000000; stroke-width: 1.5;\" x1=\"16\" x2=\"146\" y1=\"28.2969\" y2=\"28.2969\"/><text fill=\"#000000\" font-family=\"sans-serif\" font-size=\"14\" font-weight=\"bold\" lengthAdjust=\"spacingAndGlyphs\" textLength=\"117\" x=\"20\" y=\"20.9951\">ParameterTest</text></a><!--MD5=[b4997ac47864f28c2f74865a473b2911]\n",
       "class E2--><a href=\"psysml:cb02a2ee-bdc8-478c-9636-92278b567e26\" target=\"_top\" title=\"psysml:cb02a2ee-bdc8-478c-9636-92278b567e26\" xlink:actuate=\"onRequest\" xlink:href=\"psysml:cb02a2ee-bdc8-478c-9636-92278b567e26\" xlink:show=\"new\" xlink:title=\"psysml:cb02a2ee-bdc8-478c-9636-92278b567e26\" xlink:type=\"simple\"><rect fill=\"#FEFECE\" filter=\"url(#f1qafvdqmoztzp)\" height=\"71.5469\" id=\"E2\" style=\"stroke: #A80036; stroke-width: 1.5;\" width=\"121\" x=\"642.5\" y=\"164\"/><ellipse cx=\"657.5\" cy=\"182.9688\" fill=\"#0000FF\" rx=\"11\" ry=\"11\" style=\"stroke: #A80036; stroke-width: 1.0;\"/><path d=\"M658.3438,189.7188 L655.8906,189.7188 L655.8906,179.4688 L652.75,179.4688 L652.75,177.3281 L661.4844,177.3281 L661.4844,179.4688 L658.3438,179.4688 L658.3438,189.7188 Z \"/><text fill=\"#000000\" font-family=\"sans-serif\" font-size=\"12\" font-style=\"italic\" lengthAdjust=\"spacingAndGlyphs\" textLength=\"93\" x=\"669.5\" y=\"180.1387\">«attribute def»</text><text fill=\"#000000\" font-family=\"sans-serif\" font-size=\"12\" lengthAdjust=\"spacingAndGlyphs\" textLength=\"8\" x=\"712\" y=\"194.1074\">A</text><line style=\"stroke: #A80036; stroke-width: 1.5;\" x1=\"643.5\" x2=\"762.5\" y1=\"201.9375\" y2=\"201.9375\"/><text fill=\"#000000\" font-family=\"sans-serif\" font-size=\"11\" lengthAdjust=\"spacingAndGlyphs\" textLength=\"48\" x=\"648.5\" y=\"216.1479\">x: String</text><text fill=\"#000000\" font-family=\"sans-serif\" font-size=\"11\" lengthAdjust=\"spacingAndGlyphs\" textLength=\"21\" x=\"648.5\" y=\"228.9526\">y: A</text></a><!--MD5=[09b614a08d8cba4a07c9adeb5e0fee81]\n",
       "class E3--><a href=\"psysml:50ebccda-29a4-4ea8-943d-69f99c07f732\" target=\"_top\" title=\"psysml:50ebccda-29a4-4ea8-943d-69f99c07f732\" xlink:actuate=\"onRequest\" xlink:href=\"psysml:50ebccda-29a4-4ea8-943d-69f99c07f732\" xlink:show=\"new\" xlink:title=\"psysml:50ebccda-29a4-4ea8-943d-69f99c07f732\" xlink:type=\"simple\"><rect fill=\"#FEFECE\" filter=\"url(#f1qafvdqmoztzp)\" height=\"45.9375\" id=\"E3\" rx=\"10\" ry=\"10\" style=\"stroke: #A80036; stroke-width: 1.5;\" width=\"97\" x=\"729.5\" y=\"41\"/><ellipse cx=\"744.5\" cy=\"59.9688\" fill=\"#0000FF\" rx=\"11\" ry=\"11\" style=\"stroke: #A80036; stroke-width: 1.0;\"/><path d=\"M745.3438,66.7188 L742.8906,66.7188 L742.8906,56.4688 L739.75,56.4688 L739.75,54.3281 L748.4844,54.3281 L748.4844,56.4688 L745.3438,56.4688 L745.3438,66.7188 Z \"/><text fill=\"#000000\" font-family=\"sans-serif\" font-size=\"12\" font-style=\"italic\" lengthAdjust=\"spacingAndGlyphs\" textLength=\"69\" x=\"756.5\" y=\"57.1387\">«attribute»</text><text fill=\"#000000\" font-family=\"sans-serif\" font-size=\"12\" lengthAdjust=\"spacingAndGlyphs\" textLength=\"24\" x=\"779\" y=\"71.1074\">a: A</text><line style=\"stroke: #A80036; stroke-width: 1.5;\" x1=\"730.5\" x2=\"825.5\" y1=\"78.9375\" y2=\"78.9375\"/></a><!--MD5=[ebbe1d658d1005bcc118a6aa81145e00]\n",
       "class E4--><a href=\"psysml:31ea6359-c2ac-42c4-9008-615ad8ad058c\" target=\"_top\" title=\"psysml:31ea6359-c2ac-42c4-9008-615ad8ad058c\" xlink:actuate=\"onRequest\" xlink:href=\"psysml:31ea6359-c2ac-42c4-9008-615ad8ad058c\" xlink:show=\"new\" xlink:title=\"psysml:31ea6359-c2ac-42c4-9008-615ad8ad058c\" xlink:type=\"simple\"><rect fill=\"#FEFECE\" filter=\"url(#f1qafvdqmoztzp)\" height=\"45.9375\" id=\"E4\" style=\"stroke: #A80036; stroke-width: 1.5;\" width=\"134\" x=\"560\" y=\"41\"/><ellipse cx=\"575\" cy=\"59.9688\" fill=\"#0000FF\" rx=\"11\" ry=\"11\" style=\"stroke: #A80036; stroke-width: 1.0;\"/><path d=\"M575.8438,66.7188 L573.3906,66.7188 L573.3906,56.4688 L570.25,56.4688 L570.25,54.3281 L578.9844,54.3281 L578.9844,56.4688 L575.8438,56.4688 L575.8438,66.7188 Z \"/><text fill=\"#000000\" font-family=\"sans-serif\" font-size=\"12\" font-style=\"italic\" lengthAdjust=\"spacingAndGlyphs\" textLength=\"106\" x=\"587\" y=\"57.1387\">«calculation def»</text><text fill=\"#000000\" font-family=\"sans-serif\" font-size=\"12\" lengthAdjust=\"spacingAndGlyphs\" textLength=\"7\" x=\"636.5\" y=\"71.1074\">F</text><line style=\"stroke: #A80036; stroke-width: 1.5;\" x1=\"561\" x2=\"693\" y1=\"78.9375\" y2=\"78.9375\"/></a><!--MD5=[270fce915f116d4de14055a7c1d9a0f3]\n",
       "class E5--><a href=\"psysml:a5af055b-f2ee-4ef1-a486-dc312f464f3e\" target=\"_top\" title=\"psysml:a5af055b-f2ee-4ef1-a486-dc312f464f3e\" xlink:actuate=\"onRequest\" xlink:href=\"psysml:a5af055b-f2ee-4ef1-a486-dc312f464f3e\" xlink:show=\"new\" xlink:title=\"psysml:a5af055b-f2ee-4ef1-a486-dc312f464f3e\" xlink:type=\"simple\"><rect fill=\"#FEFECE\" filter=\"url(#f1qafvdqmoztzp)\" height=\"45.9375\" id=\"E5\" rx=\"10\" ry=\"10\" style=\"stroke: #A80036; stroke-width: 1.5;\" width=\"97\" x=\"427.5\" y=\"41\"/><ellipse cx=\"442.5\" cy=\"59.9688\" fill=\"#0000FF\" rx=\"11\" ry=\"11\" style=\"stroke: #A80036; stroke-width: 1.0;\"/><path d=\"M443.3438,66.7188 L440.8906,66.7188 L440.8906,56.4688 L437.75,56.4688 L437.75,54.3281 L446.4844,54.3281 L446.4844,56.4688 L443.3438,56.4688 L443.3438,66.7188 Z \"/><text fill=\"#000000\" font-family=\"sans-serif\" font-size=\"12\" font-style=\"italic\" lengthAdjust=\"spacingAndGlyphs\" textLength=\"69\" x=\"454.5\" y=\"57.1387\">«attribute»</text><text fill=\"#000000\" font-family=\"sans-serif\" font-size=\"12\" lengthAdjust=\"spacingAndGlyphs\" textLength=\"4\" x=\"487\" y=\"71.1074\">f</text><line style=\"stroke: #A80036; stroke-width: 1.5;\" x1=\"428.5\" x2=\"523.5\" y1=\"78.9375\" y2=\"78.9375\"/></a><!--MD5=[60a26617385b1d2d0262a64233df1f8d]\n",
       "class E6--><a href=\"psysml:63113e1f-55f0-4199-b954-2673a0b317ed\" target=\"_top\" title=\"psysml:63113e1f-55f0-4199-b954-2673a0b317ed\" xlink:actuate=\"onRequest\" xlink:href=\"psysml:63113e1f-55f0-4199-b954-2673a0b317ed\" xlink:show=\"new\" xlink:title=\"psysml:63113e1f-55f0-4199-b954-2673a0b317ed\" xlink:type=\"simple\"><rect fill=\"#FEFECE\" filter=\"url(#f1qafvdqmoztzp)\" height=\"45.9375\" id=\"E6\" rx=\"10\" ry=\"10\" style=\"stroke: #A80036; stroke-width: 1.5;\" width=\"97\" x=\"295.5\" y=\"41\"/><ellipse cx=\"310.5\" cy=\"59.9688\" fill=\"#0000FF\" rx=\"11\" ry=\"11\" style=\"stroke: #A80036; stroke-width: 1.0;\"/><path d=\"M311.3438,66.7188 L308.8906,66.7188 L308.8906,56.4688 L305.75,56.4688 L305.75,54.3281 L314.4844,54.3281 L314.4844,56.4688 L311.3438,56.4688 L311.3438,66.7188 Z \"/><text fill=\"#000000\" font-family=\"sans-serif\" font-size=\"12\" font-style=\"italic\" lengthAdjust=\"spacingAndGlyphs\" textLength=\"69\" x=\"322.5\" y=\"57.1387\">«attribute»</text><text fill=\"#000000\" font-family=\"sans-serif\" font-size=\"12\" lengthAdjust=\"spacingAndGlyphs\" textLength=\"8\" x=\"353\" y=\"71.1074\">g</text><line style=\"stroke: #A80036; stroke-width: 1.5;\" x1=\"296.5\" x2=\"391.5\" y1=\"78.9375\" y2=\"78.9375\"/></a><!--MD5=[2156ba9850f5573cc1fc38a6a4b2f02b]\n",
       "class E7--><a href=\"psysml:537e328f-e5cc-426a-9b09-8cf3e436744c\" target=\"_top\" title=\"psysml:537e328f-e5cc-426a-9b09-8cf3e436744c\" xlink:actuate=\"onRequest\" xlink:href=\"psysml:537e328f-e5cc-426a-9b09-8cf3e436744c\" xlink:show=\"new\" xlink:title=\"psysml:537e328f-e5cc-426a-9b09-8cf3e436744c\" xlink:type=\"simple\"><rect fill=\"#FEFECE\" filter=\"url(#f1qafvdqmoztzp)\" height=\"45.9375\" id=\"E7\" rx=\"10\" ry=\"10\" style=\"stroke: #A80036; stroke-width: 1.5;\" width=\"97\" x=\"163.5\" y=\"41\"/><ellipse cx=\"178.5\" cy=\"59.9688\" fill=\"#0000FF\" rx=\"11\" ry=\"11\" style=\"stroke: #A80036; stroke-width: 1.0;\"/><path d=\"M179.3438,66.7188 L176.8906,66.7188 L176.8906,56.4688 L173.75,56.4688 L173.75,54.3281 L182.4844,54.3281 L182.4844,56.4688 L179.3438,56.4688 L179.3438,66.7188 Z \"/><text fill=\"#000000\" font-family=\"sans-serif\" font-size=\"12\" font-style=\"italic\" lengthAdjust=\"spacingAndGlyphs\" textLength=\"69\" x=\"190.5\" y=\"57.1387\">«attribute»</text><text fill=\"#000000\" font-family=\"sans-serif\" font-size=\"12\" lengthAdjust=\"spacingAndGlyphs\" textLength=\"8\" x=\"221\" y=\"71.1074\">b</text><line style=\"stroke: #A80036; stroke-width: 1.5;\" x1=\"164.5\" x2=\"259.5\" y1=\"78.9375\" y2=\"78.9375\"/></a><!--MD5=[b9389687b975829384b498ac4b7476b2]\n",
       "class E8--><a href=\"psysml:2b35c468-a57b-4dfd-a90f-3e1de4d6204b\" target=\"_top\" title=\"psysml:2b35c468-a57b-4dfd-a90f-3e1de4d6204b\" xlink:actuate=\"onRequest\" xlink:href=\"psysml:2b35c468-a57b-4dfd-a90f-3e1de4d6204b\" xlink:show=\"new\" xlink:title=\"psysml:2b35c468-a57b-4dfd-a90f-3e1de4d6204b\" xlink:type=\"simple\"><rect fill=\"#FEFECE\" filter=\"url(#f1qafvdqmoztzp)\" height=\"45.9375\" id=\"E8\" rx=\"10\" ry=\"10\" style=\"stroke: #A80036; stroke-width: 1.5;\" width=\"97\" x=\"31.5\" y=\"41\"/><ellipse cx=\"46.5\" cy=\"59.9688\" fill=\"#0000FF\" rx=\"11\" ry=\"11\" style=\"stroke: #A80036; stroke-width: 1.0;\"/><path d=\"M47.3438,66.7188 L44.8906,66.7188 L44.8906,56.4688 L41.75,56.4688 L41.75,54.3281 L50.4844,54.3281 L50.4844,56.4688 L47.3438,56.4688 L47.3438,66.7188 Z \"/><text fill=\"#000000\" font-family=\"sans-serif\" font-size=\"12\" font-style=\"italic\" lengthAdjust=\"spacingAndGlyphs\" textLength=\"69\" x=\"58.5\" y=\"57.1387\">«attribute»</text><text fill=\"#000000\" font-family=\"sans-serif\" font-size=\"12\" lengthAdjust=\"spacingAndGlyphs\" textLength=\"7\" x=\"89.5\" y=\"71.1074\">c</text><line style=\"stroke: #A80036; stroke-width: 1.5;\" x1=\"32.5\" x2=\"127.5\" y1=\"78.9375\" y2=\"78.9375\"/></a><!--MD5=[05d275557350bfb9b23a4ef7222b4c39]\n",
       "link E3 to E2--><a href=\"psysml:50b306d4-0f13-410b-aa85-567dae9acdd8\" target=\"_top\" title=\"psysml:50b306d4-0f13-410b-aa85-567dae9acdd8\" xlink:actuate=\"onRequest\" xlink:href=\"psysml:50b306d4-0f13-410b-aa85-567dae9acdd8\" xlink:show=\"new\" xlink:title=\"psysml:50b306d4-0f13-410b-aa85-567dae9acdd8\" xlink:type=\"simple\"><path d=\"M765.62,87.13 C756.62,103.2 744.05,125.65 732.54,146.23 \" fill=\"none\" id=\"E3-&gt;E2\" style=\"stroke: #A80036; stroke-width: 1.0;\"/><polygon fill=\"#FFFFFF\" points=\"722.6,163.99,725.7664,143.9907,737.9848,150.8253,722.6,163.99\" style=\"stroke: #A80036; stroke-width: 1.0;\"/><ellipse cx=\"730.2946\" cy=\"139.9924\" fill=\"#A80036\" rx=\"2\" ry=\"2\" style=\"stroke: #A80036; stroke-width: 1.0;\"/><ellipse cx=\"739.022\" cy=\"144.8743\" fill=\"#A80036\" rx=\"2\" ry=\"2\" style=\"stroke: #A80036; stroke-width: 1.0;\"/></a><!--MD5=[ddeed8deb2209213b62e6cfabaa108b2]\n",
       "reverse link E4 to E2--><a href=\"psysml:c5b3d96c-9fe7-4ab4-b771-6776a88b0ad4\" target=\"_top\" title=\"psysml:c5b3d96c-9fe7-4ab4-b771-6776a88b0ad4\" xlink:actuate=\"onRequest\" xlink:href=\"psysml:c5b3d96c-9fe7-4ab4-b771-6776a88b0ad4\" xlink:show=\"new\" xlink:title=\"psysml:c5b3d96c-9fe7-4ab4-b771-6776a88b0ad4\" xlink:type=\"simple\"><path d=\"M645.99,98.48 C657.31,118.44 671.67,143.76 683.14,163.99 \" fill=\"none\" id=\"E4&lt;-E2\" style=\"stroke: #A80036; stroke-width: 1.0;\"/><polygon fill=\"#FFFFFF\" points=\"639.55,87.13,639.0333,94.3226,645.4738,97.5659,645.9905,90.3734,639.55,87.13\" style=\"stroke: #A80036; stroke-width: 1.0;\"/><text fill=\"#000000\" font-family=\"sans-serif\" font-size=\"13\" lengthAdjust=\"spacingAndGlyphs\" textLength=\"8\" x=\"666\" y=\"130.0669\">p</text></a><!--MD5=[f2a9634878e1e8551c6de400953d5f61]\n",
       "@startuml\r\n",
       " \r\n",
       "package \"ParameterTest\" as E1  [[psysml:c7000c50-df42-41d3-9ba9-36eed14db093 ]]  {\r\n",
       "comp def \"A\" as E2  <<(T,blue)attribute def>> [[psysml:cb02a2ee-bdc8-478c-9636-92278b567e26 ]] {\r\n",
       "x: String\r\n",
       "y: A\r\n",
       "}\r\n",
       "comp usage \"a: A\" as E3  <<(T,blue)attribute>> [[psysml:50ebccda-29a4-4ea8-943d-69f99c07f732 ]] {\r\n",
       "}\r\n",
       "comp def \"F\" as E4  <<(T,blue)calculation def>> [[psysml:31ea6359-c2ac-42c4-9008-615ad8ad058c ]] {\r\n",
       "}\r\n",
       "comp usage \"f\" as E5  <<(T,blue)attribute>> [[psysml:a5af055b-f2ee-4ef1-a486-dc312f464f3e ]] {\r\n",
       "}\r\n",
       "comp usage \"g\" as E6  <<(T,blue)attribute>> [[psysml:63113e1f-55f0-4199-b954-2673a0b317ed ]] {\r\n",
       "}\r\n",
       "comp usage \"b\" as E7  <<(T,blue)attribute>> [[psysml:537e328f-e5cc-426a-9b09-8cf3e436744c ]] {\r\n",
       "}\r\n",
       "comp usage \"c\" as E8  <<(T,blue)attribute>> [[psysml:2b35c468-a57b-4dfd-a90f-3e1de4d6204b ]] {\r\n",
       "}\r\n",
       "E3 - -:|> E2 [[psysml:50b306d4-0f13-410b-aa85-567dae9acdd8 ]] \r\n",
       "E4 o- - E2 [[psysml:c5b3d96c-9fe7-4ab4-b771-6776a88b0ad4 ]] : p\r\n",
       "}\r\n",
       "@enduml\r\n",
       "\n",
       "PlantUML version 1.2020.13(Sat Jun 13 12:26:38 UTC 2020)\n",
       "(EPL source distribution)\n",
       "Java Runtime: OpenJDK Runtime Environment\n",
       "JVM: OpenJDK 64-Bit Server VM\n",
       "Default Encoding: UTF-8\n",
       "Language: en\n",
       "Country: null\n",
       "--></g></svg>"
      ]
     },
     "execution_count": 3,
     "metadata": {},
     "output_type": "execute_result"
    }
   ],
   "source": [
    "%viz --style=\"COMPTREE\" --view=\"Tree\" \"ParameterTest\""
   ]
  },
  {
   "cell_type": "code",
   "execution_count": 4,
   "id": "returning-reaction",
   "metadata": {
    "execution": {
     "iopub.execute_input": "2021-03-25T15:03:08.376698Z",
     "iopub.status.busy": "2021-03-25T15:03:08.376300Z",
     "iopub.status.idle": "2021-03-25T15:03:09.278628Z",
     "shell.execute_reply": "2021-03-25T15:03:09.279205Z"
    }
   },
   "outputs": [
    {
     "data": {
      "image/svg+xml": [
       "<?xml version=\"1.0\" encoding=\"UTF-8\" standalone=\"no\"?><svg xmlns=\"http://www.w3.org/2000/svg\" xmlns:xlink=\"http://www.w3.org/1999/xlink\" contentScriptType=\"application/ecmascript\" contentStyleType=\"text/css\" height=\"303px\" preserveAspectRatio=\"none\" style=\"width:603px;height:303px;background:#000000;\" version=\"1.1\" viewBox=\"0 0 603 303\" width=\"603px\" zoomAndPan=\"magnify\"><defs/><g><rect fill=\"#110D09\" height=\"1\" style=\"stroke: #110D09; stroke-width: 1.0;\" width=\"1\" x=\"0\" y=\"0\"/><rect fill=\"#FFFFFF\" height=\"205.5625\" style=\"stroke: #FFFFFF; stroke-width: 1.0;\" width=\"602\" x=\"0\" y=\"0\"/><text fill=\"#000000\" font-family=\"sans-serif\" font-size=\"12\" font-weight=\"bold\" lengthAdjust=\"spacingAndGlyphs\" textLength=\"159\" x=\"5\" y=\"16.1387\">Welcome to PlantUML!</text><text fill=\"#000000\" font-family=\"sans-serif\" font-size=\"12\" lengthAdjust=\"spacingAndGlyphs\" textLength=\"0\" x=\"9\" y=\"30.1074\"/><text fill=\"#000000\" font-family=\"sans-serif\" font-size=\"12\" lengthAdjust=\"spacingAndGlyphs\" textLength=\"293\" x=\"5\" y=\"44.0762\">If you use this software, you accept its license.</text><text fill=\"#000000\" font-family=\"sans-serif\" font-size=\"12\" lengthAdjust=\"spacingAndGlyphs\" textLength=\"107\" x=\"5\" y=\"58.0449\">(details by typing</text><text fill=\"#000000\" font-family=\"monospace\" font-size=\"12\" lengthAdjust=\"spacingAndGlyphs\" textLength=\"49\" x=\"116\" y=\"58.0449\">license</text><text fill=\"#000000\" font-family=\"sans-serif\" font-size=\"12\" lengthAdjust=\"spacingAndGlyphs\" textLength=\"56\" x=\"169\" y=\"58.0449\">keyword)</text><text fill=\"#000000\" font-family=\"sans-serif\" font-size=\"12\" lengthAdjust=\"spacingAndGlyphs\" textLength=\"0\" x=\"9\" y=\"72.0137\"/><text fill=\"#000000\" font-family=\"sans-serif\" font-size=\"12\" lengthAdjust=\"spacingAndGlyphs\" textLength=\"283\" x=\"5\" y=\"85.9824\">You can start with a simple UML Diagram like:</text><text fill=\"#000000\" font-family=\"sans-serif\" font-size=\"12\" lengthAdjust=\"spacingAndGlyphs\" textLength=\"0\" x=\"9\" y=\"99.9512\"/><text fill=\"#000000\" font-family=\"monospace\" font-size=\"12\" lengthAdjust=\"spacingAndGlyphs\" textLength=\"119\" x=\"5\" y=\"113.9199\">Bob-&gt;Alice: Hello</text><text fill=\"#000000\" font-family=\"sans-serif\" font-size=\"12\" lengthAdjust=\"spacingAndGlyphs\" textLength=\"0\" x=\"9\" y=\"127.8887\"/><text fill=\"#000000\" font-family=\"sans-serif\" font-size=\"12\" lengthAdjust=\"spacingAndGlyphs\" textLength=\"14\" x=\"5\" y=\"141.8574\">Or</text><text fill=\"#000000\" font-family=\"sans-serif\" font-size=\"12\" lengthAdjust=\"spacingAndGlyphs\" textLength=\"0\" x=\"9\" y=\"155.8262\"/><text fill=\"#000000\" font-family=\"monospace\" font-size=\"12\" lengthAdjust=\"spacingAndGlyphs\" textLength=\"91\" x=\"5\" y=\"169.7949\">class Example</text><text fill=\"#000000\" font-family=\"sans-serif\" font-size=\"12\" lengthAdjust=\"spacingAndGlyphs\" textLength=\"0\" x=\"9\" y=\"183.7637\"/><text fill=\"#000000\" font-family=\"sans-serif\" font-size=\"12\" lengthAdjust=\"spacingAndGlyphs\" textLength=\"349\" x=\"5\" y=\"197.7324\">You will find more information about PlantUML syntax on</text><text fill=\"#000000\" font-family=\"sans-serif\" font-size=\"12\" lengthAdjust=\"spacingAndGlyphs\" text-decoration=\"underline\" textLength=\"129\" x=\"358\" y=\"197.7324\">https://plantuml.com</text><image height=\"71\" width=\"80\" x=\"516\" xlink:href=\"data:image/png;base64,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\" y=\"6\"/><rect fill=\"#000000\" height=\"96.4844\" style=\"stroke: #000000; stroke-width: 1.0;\" width=\"602\" x=\"0\" y=\"205.5625\"/><rect fill=\"#33FF02\" height=\"21.2969\" style=\"stroke: #33FF02; stroke-width: 1.0;\" width=\"170\" x=\"5\" y=\"210.5625\"/><text fill=\"#000000\" font-family=\"sans-serif\" font-size=\"14\" font-weight=\"bold\" lengthAdjust=\"spacingAndGlyphs\" textLength=\"168\" x=\"6\" y=\"225.5625\">[From string (line 2) ]</text><text fill=\"#33FF02\" font-family=\"sans-serif\" font-size=\"14\" font-weight=\"bold\" lengthAdjust=\"spacingAndGlyphs\" textLength=\"0\" x=\"10\" y=\"245.8594\"/><text fill=\"#33FF02\" font-family=\"sans-serif\" font-size=\"14\" font-weight=\"bold\" lengthAdjust=\"spacingAndGlyphs\" textLength=\"79\" x=\"5\" y=\"262.1563\">@startuml</text><text fill=\"#33FF02\" font-family=\"sans-serif\" font-size=\"14\" font-weight=\"bold\" lengthAdjust=\"spacingAndGlyphs\" textLength=\"0\" x=\"10\" y=\"278.4531\"/><text fill=\"#FF0000\" font-family=\"sans-serif\" font-size=\"14\" font-weight=\"bold\" lengthAdjust=\"spacingAndGlyphs\" textLength=\"142\" x=\"10\" y=\"294.75\">Empty description</text><!--MD5=[f59edd8218d337f74d0c332fc6737304]\n",
       "@startuml\r\n",
       " \r\n",
       "@enduml\r\n",
       "\n",
       "PlantUML version 1.2020.13(Sat Jun 13 12:26:38 UTC 2020)\n",
       "(EPL source distribution)\n",
       "Java Runtime: OpenJDK Runtime Environment\n",
       "JVM: OpenJDK 64-Bit Server VM\n",
       "Default Encoding: UTF-8\n",
       "Language: en\n",
       "Country: null\n",
       "--></g></svg>"
      ]
     },
     "execution_count": 4,
     "metadata": {},
     "output_type": "execute_result"
    }
   ],
   "source": [
    "%viz --style=\"COMPTREE\" --view=\"State\" \"ParameterTest\""
   ]
  },
  {
   "cell_type": "code",
   "execution_count": 5,
   "id": "julian-sharp",
   "metadata": {
    "execution": {
     "iopub.execute_input": "2021-03-25T15:03:09.331675Z",
     "iopub.status.busy": "2021-03-25T15:03:09.331208Z",
     "iopub.status.idle": "2021-03-25T15:03:09.446193Z",
     "shell.execute_reply": "2021-03-25T15:03:09.446734Z"
    }
   },
   "outputs": [
    {
     "data": {
      "image/svg+xml": [
       "<?xml version=\"1.0\" encoding=\"UTF-8\" standalone=\"no\"?><svg xmlns=\"http://www.w3.org/2000/svg\" xmlns:xlink=\"http://www.w3.org/1999/xlink\" contentScriptType=\"application/ecmascript\" contentStyleType=\"text/css\" height=\"123px\" preserveAspectRatio=\"none\" style=\"width:1141px;height:123px;\" version=\"1.1\" viewBox=\"0 0 1141 123\" width=\"1141px\" zoomAndPan=\"magnify\"><defs><filter height=\"300%\" id=\"f1e6iiwgq9w7ge\" width=\"300%\" x=\"-1\" y=\"-1\"><feGaussianBlur result=\"blurOut\" stdDeviation=\"2.0\"/><feColorMatrix in=\"blurOut\" result=\"blurOut2\" type=\"matrix\" values=\"0 0 0 0 0 0 0 0 0 0 0 0 0 0 0 0 0 0 .4 0\"/><feOffset dx=\"4.0\" dy=\"4.0\" in=\"blurOut2\" result=\"blurOut3\"/><feBlend in=\"SourceGraphic\" in2=\"blurOut3\" mode=\"normal\"/></filter></defs><g><!--MD5=[fbc87193dbaf4d95561dea2c320d4a47]\n",
       "cluster E1--><a href=\"psysml:c7000c50-df42-41d3-9ba9-36eed14db093\" target=\"_top\" title=\"psysml:c7000c50-df42-41d3-9ba9-36eed14db093\" xlink:actuate=\"onRequest\" xlink:href=\"psysml:c7000c50-df42-41d3-9ba9-36eed14db093\" xlink:show=\"new\" xlink:title=\"psysml:c7000c50-df42-41d3-9ba9-36eed14db093\" xlink:type=\"simple\"><polygon fill=\"#FFFFFF\" filter=\"url(#f1e6iiwgq9w7ge)\" points=\"16,6,139,6,146,28.2969,1119,28.2969,1119,111,16,111,16,6\" style=\"stroke: #000000; stroke-width: 1.5;\"/><line style=\"stroke: #000000; stroke-width: 1.5;\" x1=\"16\" x2=\"146\" y1=\"28.2969\" y2=\"28.2969\"/><text fill=\"#000000\" font-family=\"sans-serif\" font-size=\"14\" font-weight=\"bold\" lengthAdjust=\"spacingAndGlyphs\" textLength=\"117\" x=\"20\" y=\"20.9951\">ParameterTest</text></a><!--MD5=[b4997ac47864f28c2f74865a473b2911]\n",
       "class E2--><a href=\"psysml:cb02a2ee-bdc8-478c-9636-92278b567e26\" target=\"_top\" title=\"psysml:cb02a2ee-bdc8-478c-9636-92278b567e26\" xlink:actuate=\"onRequest\" xlink:href=\"psysml:cb02a2ee-bdc8-478c-9636-92278b567e26\" xlink:show=\"new\" xlink:title=\"psysml:cb02a2ee-bdc8-478c-9636-92278b567e26\" xlink:type=\"simple\"><rect fill=\"#FEFECE\" filter=\"url(#f1e6iiwgq9w7ge)\" height=\"53.9375\" id=\"E2\" style=\"stroke: #A80036; stroke-width: 1.5;\" width=\"169\" x=\"934.5\" y=\"41\"/><ellipse cx=\"949.5\" cy=\"59.9688\" fill=\"#ADD1B2\" rx=\"11\" ry=\"11\" style=\"stroke: #A80036; stroke-width: 1.0;\"/><path d=\"M952.4688,65.6094 Q951.8906,65.9063 951.25,66.0469 Q950.6094,66.2031 949.9063,66.2031 Q947.4063,66.2031 946.0781,64.5625 Q944.7656,62.9063 944.7656,59.7813 Q944.7656,56.6563 946.0781,55 Q947.4063,53.3438 949.9063,53.3438 Q950.6094,53.3438 951.25,53.5 Q951.9063,53.6563 952.4688,53.9531 L952.4688,56.6719 Q951.8438,56.0938 951.25,55.8281 Q950.6563,55.5469 950.0313,55.5469 Q948.6875,55.5469 948,56.625 Q947.3125,57.6875 947.3125,59.7813 Q947.3125,61.875 948,62.9531 Q948.6875,64.0156 950.0313,64.0156 Q950.6563,64.0156 951.25,63.75 Q951.8438,63.4688 952.4688,62.8906 L952.4688,65.6094 Z \"/><text fill=\"#000000\" font-family=\"sans-serif\" font-size=\"12\" font-style=\"italic\" lengthAdjust=\"spacingAndGlyphs\" textLength=\"141\" x=\"961.5\" y=\"57.1387\">«(T,blue)attribute def»</text><text fill=\"#000000\" font-family=\"sans-serif\" font-size=\"12\" lengthAdjust=\"spacingAndGlyphs\" textLength=\"8\" x=\"1028\" y=\"71.1074\">A</text><line style=\"stroke: #A80036; stroke-width: 1.5;\" x1=\"935.5\" x2=\"1102.5\" y1=\"78.9375\" y2=\"78.9375\"/><line style=\"stroke: #A80036; stroke-width: 1.5;\" x1=\"935.5\" x2=\"1102.5\" y1=\"86.9375\" y2=\"86.9375\"/></a><!--MD5=[ebbe1d658d1005bcc118a6aa81145e00]\n",
       "class E4--><a href=\"psysml:31ea6359-c2ac-42c4-9008-615ad8ad058c\" target=\"_top\" title=\"psysml:31ea6359-c2ac-42c4-9008-615ad8ad058c\" xlink:actuate=\"onRequest\" xlink:href=\"psysml:31ea6359-c2ac-42c4-9008-615ad8ad058c\" xlink:show=\"new\" xlink:title=\"psysml:31ea6359-c2ac-42c4-9008-615ad8ad058c\" xlink:type=\"simple\"><rect fill=\"#FEFECE\" filter=\"url(#f1e6iiwgq9w7ge)\" height=\"53.9375\" id=\"E4\" style=\"stroke: #A80036; stroke-width: 1.5;\" width=\"182\" x=\"717\" y=\"41\"/><ellipse cx=\"732\" cy=\"59.9688\" fill=\"#ADD1B2\" rx=\"11\" ry=\"11\" style=\"stroke: #A80036; stroke-width: 1.0;\"/><path d=\"M734.9688,65.6094 Q734.3906,65.9063 733.75,66.0469 Q733.1094,66.2031 732.4063,66.2031 Q729.9063,66.2031 728.5781,64.5625 Q727.2656,62.9063 727.2656,59.7813 Q727.2656,56.6563 728.5781,55 Q729.9063,53.3438 732.4063,53.3438 Q733.1094,53.3438 733.75,53.5 Q734.4063,53.6563 734.9688,53.9531 L734.9688,56.6719 Q734.3438,56.0938 733.75,55.8281 Q733.1563,55.5469 732.5313,55.5469 Q731.1875,55.5469 730.5,56.625 Q729.8125,57.6875 729.8125,59.7813 Q729.8125,61.875 730.5,62.9531 Q731.1875,64.0156 732.5313,64.0156 Q733.1563,64.0156 733.75,63.75 Q734.3438,63.4688 734.9688,62.8906 L734.9688,65.6094 Z \"/><text fill=\"#000000\" font-family=\"sans-serif\" font-size=\"12\" font-style=\"italic\" lengthAdjust=\"spacingAndGlyphs\" textLength=\"154\" x=\"744\" y=\"57.1387\">«(T,blue)calculation def»</text><text fill=\"#000000\" font-family=\"sans-serif\" font-size=\"12\" lengthAdjust=\"spacingAndGlyphs\" textLength=\"7\" x=\"817.5\" y=\"71.1074\">F</text><line style=\"stroke: #A80036; stroke-width: 1.5;\" x1=\"718\" x2=\"898\" y1=\"78.9375\" y2=\"78.9375\"/><line style=\"stroke: #A80036; stroke-width: 1.5;\" x1=\"718\" x2=\"898\" y1=\"86.9375\" y2=\"86.9375\"/></a><g id=\"E1.E3\"><a href=\"psysml:50ebccda-29a4-4ea8-943d-69f99c07f732\" target=\"_top\" title=\"psysml:50ebccda-29a4-4ea8-943d-69f99c07f732\" xlink:actuate=\"onRequest\" xlink:href=\"psysml:50ebccda-29a4-4ea8-943d-69f99c07f732\" xlink:show=\"new\" xlink:title=\"psysml:50ebccda-29a4-4ea8-943d-69f99c07f732\" xlink:type=\"simple\"><rect fill=\"#FEFECE\" filter=\"url(#f1e6iiwgq9w7ge)\" height=\"42.9375\" id=\"E3\" rx=\"10\" ry=\"10\" style=\"stroke: #A80036; stroke-width: 1.5;\" width=\"102\" x=\"580\" y=\"46.5\"/><ellipse cx=\"597.25\" cy=\"65.4688\" fill=\"#0000FF\" rx=\"11\" ry=\"11\" style=\"stroke: #A80036; stroke-width: 1.0;\"/><path d=\"M598.0938,72.2188 L595.6406,72.2188 L595.6406,61.9688 L592.5,61.9688 L592.5,59.8281 L601.2344,59.8281 L601.2344,61.9688 L598.0938,61.9688 L598.0938,72.2188 Z \"/><text fill=\"#000000\" font-family=\"sans-serif\" font-size=\"12\" font-style=\"italic\" lengthAdjust=\"spacingAndGlyphs\" textLength=\"69\" x=\"609.75\" y=\"62.6387\">«attribute»</text><text fill=\"#000000\" font-family=\"sans-serif\" font-size=\"12\" lengthAdjust=\"spacingAndGlyphs\" textLength=\"24\" x=\"632.25\" y=\"76.6074\">a: A</text></a></g><g id=\"E1.E5\"><a href=\"psysml:a5af055b-f2ee-4ef1-a486-dc312f464f3e\" target=\"_top\" title=\"psysml:a5af055b-f2ee-4ef1-a486-dc312f464f3e\" xlink:actuate=\"onRequest\" xlink:href=\"psysml:a5af055b-f2ee-4ef1-a486-dc312f464f3e\" xlink:show=\"new\" xlink:title=\"psysml:a5af055b-f2ee-4ef1-a486-dc312f464f3e\" xlink:type=\"simple\"><rect fill=\"#FEFECE\" filter=\"url(#f1e6iiwgq9w7ge)\" height=\"42.9375\" id=\"E5\" rx=\"10\" ry=\"10\" style=\"stroke: #A80036; stroke-width: 1.5;\" width=\"102\" x=\"443\" y=\"46.5\"/><ellipse cx=\"460.25\" cy=\"65.4688\" fill=\"#0000FF\" rx=\"11\" ry=\"11\" style=\"stroke: #A80036; stroke-width: 1.0;\"/><path d=\"M461.0938,72.2188 L458.6406,72.2188 L458.6406,61.9688 L455.5,61.9688 L455.5,59.8281 L464.2344,59.8281 L464.2344,61.9688 L461.0938,61.9688 L461.0938,72.2188 Z \"/><text fill=\"#000000\" font-family=\"sans-serif\" font-size=\"12\" font-style=\"italic\" lengthAdjust=\"spacingAndGlyphs\" textLength=\"69\" x=\"472.75\" y=\"62.6387\">«attribute»</text><text fill=\"#000000\" font-family=\"sans-serif\" font-size=\"12\" lengthAdjust=\"spacingAndGlyphs\" textLength=\"4\" x=\"505.25\" y=\"76.6074\">f</text></a></g><g id=\"E1.E6\"><a href=\"psysml:63113e1f-55f0-4199-b954-2673a0b317ed\" target=\"_top\" title=\"psysml:63113e1f-55f0-4199-b954-2673a0b317ed\" xlink:actuate=\"onRequest\" xlink:href=\"psysml:63113e1f-55f0-4199-b954-2673a0b317ed\" xlink:show=\"new\" xlink:title=\"psysml:63113e1f-55f0-4199-b954-2673a0b317ed\" xlink:type=\"simple\"><rect fill=\"#FEFECE\" filter=\"url(#f1e6iiwgq9w7ge)\" height=\"42.9375\" id=\"E6\" rx=\"10\" ry=\"10\" style=\"stroke: #A80036; stroke-width: 1.5;\" width=\"102\" x=\"306\" y=\"46.5\"/><ellipse cx=\"323.25\" cy=\"65.4688\" fill=\"#0000FF\" rx=\"11\" ry=\"11\" style=\"stroke: #A80036; stroke-width: 1.0;\"/><path d=\"M324.0938,72.2188 L321.6406,72.2188 L321.6406,61.9688 L318.5,61.9688 L318.5,59.8281 L327.2344,59.8281 L327.2344,61.9688 L324.0938,61.9688 L324.0938,72.2188 Z \"/><text fill=\"#000000\" font-family=\"sans-serif\" font-size=\"12\" font-style=\"italic\" lengthAdjust=\"spacingAndGlyphs\" textLength=\"69\" x=\"335.75\" y=\"62.6387\">«attribute»</text><text fill=\"#000000\" font-family=\"sans-serif\" font-size=\"12\" lengthAdjust=\"spacingAndGlyphs\" textLength=\"8\" x=\"366.25\" y=\"76.6074\">g</text></a></g><g id=\"E1.E7\"><a href=\"psysml:537e328f-e5cc-426a-9b09-8cf3e436744c\" target=\"_top\" title=\"psysml:537e328f-e5cc-426a-9b09-8cf3e436744c\" xlink:actuate=\"onRequest\" xlink:href=\"psysml:537e328f-e5cc-426a-9b09-8cf3e436744c\" xlink:show=\"new\" xlink:title=\"psysml:537e328f-e5cc-426a-9b09-8cf3e436744c\" xlink:type=\"simple\"><rect fill=\"#FEFECE\" filter=\"url(#f1e6iiwgq9w7ge)\" height=\"42.9375\" id=\"E7\" rx=\"10\" ry=\"10\" style=\"stroke: #A80036; stroke-width: 1.5;\" width=\"102\" x=\"169\" y=\"46.5\"/><ellipse cx=\"186.25\" cy=\"65.4688\" fill=\"#0000FF\" rx=\"11\" ry=\"11\" style=\"stroke: #A80036; stroke-width: 1.0;\"/><path d=\"M187.0938,72.2188 L184.6406,72.2188 L184.6406,61.9688 L181.5,61.9688 L181.5,59.8281 L190.2344,59.8281 L190.2344,61.9688 L187.0938,61.9688 L187.0938,72.2188 Z \"/><text fill=\"#000000\" font-family=\"sans-serif\" font-size=\"12\" font-style=\"italic\" lengthAdjust=\"spacingAndGlyphs\" textLength=\"69\" x=\"198.75\" y=\"62.6387\">«attribute»</text><text fill=\"#000000\" font-family=\"sans-serif\" font-size=\"12\" lengthAdjust=\"spacingAndGlyphs\" textLength=\"8\" x=\"229.25\" y=\"76.6074\">b</text></a></g><g id=\"E1.E8\"><a href=\"psysml:2b35c468-a57b-4dfd-a90f-3e1de4d6204b\" target=\"_top\" title=\"psysml:2b35c468-a57b-4dfd-a90f-3e1de4d6204b\" xlink:actuate=\"onRequest\" xlink:href=\"psysml:2b35c468-a57b-4dfd-a90f-3e1de4d6204b\" xlink:show=\"new\" xlink:title=\"psysml:2b35c468-a57b-4dfd-a90f-3e1de4d6204b\" xlink:type=\"simple\"><rect fill=\"#FEFECE\" filter=\"url(#f1e6iiwgq9w7ge)\" height=\"42.9375\" id=\"E8\" rx=\"10\" ry=\"10\" style=\"stroke: #A80036; stroke-width: 1.5;\" width=\"102\" x=\"32\" y=\"46.5\"/><ellipse cx=\"49.25\" cy=\"65.4688\" fill=\"#0000FF\" rx=\"11\" ry=\"11\" style=\"stroke: #A80036; stroke-width: 1.0;\"/><path d=\"M50.0938,72.2188 L47.6406,72.2188 L47.6406,61.9688 L44.5,61.9688 L44.5,59.8281 L53.2344,59.8281 L53.2344,61.9688 L50.0938,61.9688 L50.0938,72.2188 Z \"/><text fill=\"#000000\" font-family=\"sans-serif\" font-size=\"12\" font-style=\"italic\" lengthAdjust=\"spacingAndGlyphs\" textLength=\"69\" x=\"61.75\" y=\"62.6387\">«attribute»</text><text fill=\"#000000\" font-family=\"sans-serif\" font-size=\"12\" lengthAdjust=\"spacingAndGlyphs\" textLength=\"7\" x=\"92.75\" y=\"76.6074\">c</text></a></g><!--MD5=[12e9e5f96360246fbd2a970ae582e91d]\n",
       "@startuml\r\n",
       "skinparam ranksep 8\r\n",
       "skinparam rectangle {\r\n",
       " backgroundColor<<block>> LightGreen\r\n",
       "}\r\n",
       " \r\n",
       "package \"ParameterTest\" as E1  [[psysml:c7000c50-df42-41d3-9ba9-36eed14db093 ]]  {\r\n",
       "def \"A\" as E2  <<(T,blue)attribute def>> [[psysml:cb02a2ee-bdc8-478c-9636-92278b567e26 ]] \r\n",
       "rec usage \"a: A\" as E3  <<(T,blue)attribute>> [[psysml:50ebccda-29a4-4ea8-943d-69f99c07f732 ]] {\r\n",
       "}\r\n",
       "def \"F\" as E4  <<(T,blue)calculation def>> [[psysml:31ea6359-c2ac-42c4-9008-615ad8ad058c ]] \r\n",
       "rec usage \"f\" as E5  <<(T,blue)attribute>> [[psysml:a5af055b-f2ee-4ef1-a486-dc312f464f3e ]] {\r\n",
       "}\r\n",
       "rec usage \"g\" as E6  <<(T,blue)attribute>> [[psysml:63113e1f-55f0-4199-b954-2673a0b317ed ]] {\r\n",
       "}\r\n",
       "rec usage \"b\" as E7  <<(T,blue)attribute>> [[psysml:537e328f-e5cc-426a-9b09-8cf3e436744c ]] {\r\n",
       "}\r\n",
       "rec usage \"c\" as E8  <<(T,blue)attribute>> [[psysml:2b35c468-a57b-4dfd-a90f-3e1de4d6204b ]] {\r\n",
       "}\r\n",
       "}\r\n",
       "@enduml\r\n",
       "\n",
       "PlantUML version 1.2020.13(Sat Jun 13 12:26:38 UTC 2020)\n",
       "(EPL source distribution)\n",
       "Java Runtime: OpenJDK Runtime Environment\n",
       "JVM: OpenJDK 64-Bit Server VM\n",
       "Default Encoding: UTF-8\n",
       "Language: en\n",
       "Country: null\n",
       "--></g></svg>"
      ]
     },
     "execution_count": 5,
     "metadata": {},
     "output_type": "execute_result"
    }
   ],
   "source": [
    "%viz --style=\"COMPTREE\" --view=\"Interconnection\" \"ParameterTest\""
   ]
  },
  {
   "cell_type": "code",
   "execution_count": 6,
   "id": "buried-treat",
   "metadata": {
    "execution": {
     "iopub.execute_input": "2021-03-25T15:03:09.497159Z",
     "iopub.status.busy": "2021-03-25T15:03:09.496682Z",
     "iopub.status.idle": "2021-03-25T15:03:09.563424Z",
     "shell.execute_reply": "2021-03-25T15:03:09.563837Z"
    }
   },
   "outputs": [
    {
     "data": {
      "image/svg+xml": [
       "<?xml version=\"1.0\" encoding=\"UTF-8\" standalone=\"no\"?><svg xmlns=\"http://www.w3.org/2000/svg\" xmlns:xlink=\"http://www.w3.org/1999/xlink\" contentScriptType=\"application/ecmascript\" contentStyleType=\"text/css\" height=\"134px\" preserveAspectRatio=\"none\" style=\"width:174px;height:134px;\" version=\"1.1\" viewBox=\"0 0 174 134\" width=\"174px\" zoomAndPan=\"magnify\"><defs><filter height=\"300%\" id=\"f1p75ywnrigvry\" width=\"300%\" x=\"-1\" y=\"-1\"><feGaussianBlur result=\"blurOut\" stdDeviation=\"2.0\"/><feColorMatrix in=\"blurOut\" result=\"blurOut2\" type=\"matrix\" values=\"0 0 0 0 0 0 0 0 0 0 0 0 0 0 0 0 0 0 .4 0\"/><feOffset dx=\"4.0\" dy=\"4.0\" in=\"blurOut2\" result=\"blurOut3\"/><feBlend in=\"SourceGraphic\" in2=\"blurOut3\" mode=\"normal\"/></filter></defs><g><!--MD5=[fbc87193dbaf4d95561dea2c320d4a47]\n",
       "cluster E1--><a href=\"psysml:31ea6359-c2ac-42c4-9008-615ad8ad058c\" target=\"_top\" title=\"psysml:31ea6359-c2ac-42c4-9008-615ad8ad058c\" xlink:actuate=\"onRequest\" xlink:href=\"psysml:31ea6359-c2ac-42c4-9008-615ad8ad058c\" xlink:show=\"new\" xlink:title=\"psysml:31ea6359-c2ac-42c4-9008-615ad8ad058c\" xlink:type=\"simple\"><rect fill=\"#FFFFFF\" filter=\"url(#f1p75ywnrigvry)\" height=\"73\" id=\"E1\" style=\"stroke: #A80036; stroke-width: 1.5;\" width=\"148\" x=\"7\" y=\"42.0986\"/><rect fill=\"#FEFECE\" height=\"37.9375\" style=\"stroke: #A80036; stroke-width: 1.5;\" width=\"148\" x=\"7\" y=\"42.0986\"/><text fill=\"#000000\" font-family=\"sans-serif\" font-size=\"12\" font-style=\"italic\" lengthAdjust=\"spacingAndGlyphs\" textLength=\"106\" x=\"28\" y=\"58.2373\">«calculation def»</text><text fill=\"#000000\" font-family=\"sans-serif\" font-size=\"12\" lengthAdjust=\"spacingAndGlyphs\" textLength=\"7\" x=\"77.5\" y=\"72.2061\">F</text></a><text fill=\"#000000\" font-family=\"sans-serif\" font-size=\"14\" lengthAdjust=\"spacingAndGlyphs\" textLength=\"9\" x=\"20.5\" y=\"20.7969\">p</text><rect fill=\"#A80036\" height=\"12\" style=\"stroke: #FEFECE; stroke-width: 1.5;\" width=\"12\" x=\"19\" y=\"36.0986\"/><text fill=\"#000000\" font-family=\"sans-serif\" font-size=\"14\" lengthAdjust=\"spacingAndGlyphs\" textLength=\"9\" x=\"67.5\" y=\"20.7969\">q</text><rect fill=\"#A80036\" height=\"12\" style=\"stroke: #FEFECE; stroke-width: 1.5;\" width=\"12\" x=\"66\" y=\"36.0986\"/><!--MD5=[f8c090e7ae428e117709101f60b70e43]\n",
       "@startuml\r\n",
       "skinparam ranksep 8\r\n",
       " \r\n",
       "rec def \"F\" as E1  <<(T,blue)calculation def>> [[psysml:31ea6359-c2ac-42c4-9008-615ad8ad058c ]] {\r\n",
       "portin \"p\" as E2  [[psysml:c5b3d96c-9fe7-4ab4-b771-6776a88b0ad4 ]] \r\n",
       "portin \"q\" as E3  [[psysml:66adf659-8704-40ab-88b3-19d2477512b1 ]] \r\n",
       "}\r\n",
       "\r\n",
       "@enduml\r\n",
       "\n",
       "PlantUML version 1.2020.13(Sat Jun 13 12:26:38 UTC 2020)\n",
       "(EPL source distribution)\n",
       "Java Runtime: OpenJDK Runtime Environment\n",
       "JVM: OpenJDK 64-Bit Server VM\n",
       "Default Encoding: UTF-8\n",
       "Language: en\n",
       "Country: null\n",
       "--></g></svg>"
      ]
     },
     "execution_count": 6,
     "metadata": {},
     "output_type": "execute_result"
    }
   ],
   "source": [
    "%viz --style=\"COMPTREE\" --view=\"Action\" \"ParameterTest\""
   ]
  },
  {
   "cell_type": "code",
   "execution_count": 7,
   "id": "damaged-exploration",
   "metadata": {
    "execution": {
     "iopub.execute_input": "2021-03-25T15:03:09.614458Z",
     "iopub.status.busy": "2021-03-25T15:03:09.613978Z",
     "iopub.status.idle": "2021-03-25T15:03:09.812662Z",
     "shell.execute_reply": "2021-03-25T15:03:09.811293Z"
    }
   },
   "outputs": [
    {
     "data": {
      "image/svg+xml": [
       "<?xml version=\"1.0\" encoding=\"UTF-8\" standalone=\"no\"?><svg xmlns=\"http://www.w3.org/2000/svg\" xmlns:xlink=\"http://www.w3.org/1999/xlink\" contentScriptType=\"application/ecmascript\" contentStyleType=\"text/css\" height=\"264px\" preserveAspectRatio=\"none\" style=\"width:864px;height:264px;\" version=\"1.1\" viewBox=\"0 0 864 264\" width=\"864px\" zoomAndPan=\"magnify\"><defs><filter height=\"300%\" id=\"f1qafvdqmoztzp\" width=\"300%\" x=\"-1\" y=\"-1\"><feGaussianBlur result=\"blurOut\" stdDeviation=\"2.0\"/><feColorMatrix in=\"blurOut\" result=\"blurOut2\" type=\"matrix\" values=\"0 0 0 0 0 0 0 0 0 0 0 0 0 0 0 0 0 0 .4 0\"/><feOffset dx=\"4.0\" dy=\"4.0\" in=\"blurOut2\" result=\"blurOut3\"/><feBlend in=\"SourceGraphic\" in2=\"blurOut3\" mode=\"normal\"/></filter></defs><g><!--MD5=[fbc87193dbaf4d95561dea2c320d4a47]\n",
       "cluster E1--><a href=\"psysml:c7000c50-df42-41d3-9ba9-36eed14db093\" target=\"_top\" title=\"psysml:c7000c50-df42-41d3-9ba9-36eed14db093\" xlink:actuate=\"onRequest\" xlink:href=\"psysml:c7000c50-df42-41d3-9ba9-36eed14db093\" xlink:show=\"new\" xlink:title=\"psysml:c7000c50-df42-41d3-9ba9-36eed14db093\" xlink:type=\"simple\"><polygon fill=\"#FFFFFF\" filter=\"url(#f1qafvdqmoztzp)\" points=\"16,6,139,6,146,28.2969,842,28.2969,842,252,16,252,16,6\" style=\"stroke: #000000; stroke-width: 1.5;\"/><line style=\"stroke: #000000; stroke-width: 1.5;\" x1=\"16\" x2=\"146\" y1=\"28.2969\" y2=\"28.2969\"/><text fill=\"#000000\" font-family=\"sans-serif\" font-size=\"14\" font-weight=\"bold\" lengthAdjust=\"spacingAndGlyphs\" textLength=\"117\" x=\"20\" y=\"20.9951\">ParameterTest</text></a><!--MD5=[b4997ac47864f28c2f74865a473b2911]\n",
       "class E2--><a href=\"psysml:cb02a2ee-bdc8-478c-9636-92278b567e26\" target=\"_top\" title=\"psysml:cb02a2ee-bdc8-478c-9636-92278b567e26\" xlink:actuate=\"onRequest\" xlink:href=\"psysml:cb02a2ee-bdc8-478c-9636-92278b567e26\" xlink:show=\"new\" xlink:title=\"psysml:cb02a2ee-bdc8-478c-9636-92278b567e26\" xlink:type=\"simple\"><rect fill=\"#FEFECE\" filter=\"url(#f1qafvdqmoztzp)\" height=\"71.5469\" id=\"E2\" style=\"stroke: #A80036; stroke-width: 1.5;\" width=\"121\" x=\"642.5\" y=\"164\"/><ellipse cx=\"657.5\" cy=\"182.9688\" fill=\"#0000FF\" rx=\"11\" ry=\"11\" style=\"stroke: #A80036; stroke-width: 1.0;\"/><path d=\"M658.3438,189.7188 L655.8906,189.7188 L655.8906,179.4688 L652.75,179.4688 L652.75,177.3281 L661.4844,177.3281 L661.4844,179.4688 L658.3438,179.4688 L658.3438,189.7188 Z \"/><text fill=\"#000000\" font-family=\"sans-serif\" font-size=\"12\" font-style=\"italic\" lengthAdjust=\"spacingAndGlyphs\" textLength=\"93\" x=\"669.5\" y=\"180.1387\">«attribute def»</text><text fill=\"#000000\" font-family=\"sans-serif\" font-size=\"12\" lengthAdjust=\"spacingAndGlyphs\" textLength=\"8\" x=\"712\" y=\"194.1074\">A</text><line style=\"stroke: #A80036; stroke-width: 1.5;\" x1=\"643.5\" x2=\"762.5\" y1=\"201.9375\" y2=\"201.9375\"/><text fill=\"#000000\" font-family=\"sans-serif\" font-size=\"11\" lengthAdjust=\"spacingAndGlyphs\" textLength=\"48\" x=\"648.5\" y=\"216.1479\">x: String</text><text fill=\"#000000\" font-family=\"sans-serif\" font-size=\"11\" lengthAdjust=\"spacingAndGlyphs\" textLength=\"21\" x=\"648.5\" y=\"228.9526\">y: A</text></a><!--MD5=[09b614a08d8cba4a07c9adeb5e0fee81]\n",
       "class E3--><a href=\"psysml:50ebccda-29a4-4ea8-943d-69f99c07f732\" target=\"_top\" title=\"psysml:50ebccda-29a4-4ea8-943d-69f99c07f732\" xlink:actuate=\"onRequest\" xlink:href=\"psysml:50ebccda-29a4-4ea8-943d-69f99c07f732\" xlink:show=\"new\" xlink:title=\"psysml:50ebccda-29a4-4ea8-943d-69f99c07f732\" xlink:type=\"simple\"><rect fill=\"#FEFECE\" filter=\"url(#f1qafvdqmoztzp)\" height=\"45.9375\" id=\"E3\" rx=\"10\" ry=\"10\" style=\"stroke: #A80036; stroke-width: 1.5;\" width=\"97\" x=\"729.5\" y=\"41\"/><ellipse cx=\"744.5\" cy=\"59.9688\" fill=\"#0000FF\" rx=\"11\" ry=\"11\" style=\"stroke: #A80036; stroke-width: 1.0;\"/><path d=\"M745.3438,66.7188 L742.8906,66.7188 L742.8906,56.4688 L739.75,56.4688 L739.75,54.3281 L748.4844,54.3281 L748.4844,56.4688 L745.3438,56.4688 L745.3438,66.7188 Z \"/><text fill=\"#000000\" font-family=\"sans-serif\" font-size=\"12\" font-style=\"italic\" lengthAdjust=\"spacingAndGlyphs\" textLength=\"69\" x=\"756.5\" y=\"57.1387\">«attribute»</text><text fill=\"#000000\" font-family=\"sans-serif\" font-size=\"12\" lengthAdjust=\"spacingAndGlyphs\" textLength=\"24\" x=\"779\" y=\"71.1074\">a: A</text><line style=\"stroke: #A80036; stroke-width: 1.5;\" x1=\"730.5\" x2=\"825.5\" y1=\"78.9375\" y2=\"78.9375\"/></a><!--MD5=[ebbe1d658d1005bcc118a6aa81145e00]\n",
       "class E4--><a href=\"psysml:31ea6359-c2ac-42c4-9008-615ad8ad058c\" target=\"_top\" title=\"psysml:31ea6359-c2ac-42c4-9008-615ad8ad058c\" xlink:actuate=\"onRequest\" xlink:href=\"psysml:31ea6359-c2ac-42c4-9008-615ad8ad058c\" xlink:show=\"new\" xlink:title=\"psysml:31ea6359-c2ac-42c4-9008-615ad8ad058c\" xlink:type=\"simple\"><rect fill=\"#FEFECE\" filter=\"url(#f1qafvdqmoztzp)\" height=\"45.9375\" id=\"E4\" style=\"stroke: #A80036; stroke-width: 1.5;\" width=\"134\" x=\"560\" y=\"41\"/><ellipse cx=\"575\" cy=\"59.9688\" fill=\"#0000FF\" rx=\"11\" ry=\"11\" style=\"stroke: #A80036; stroke-width: 1.0;\"/><path d=\"M575.8438,66.7188 L573.3906,66.7188 L573.3906,56.4688 L570.25,56.4688 L570.25,54.3281 L578.9844,54.3281 L578.9844,56.4688 L575.8438,56.4688 L575.8438,66.7188 Z \"/><text fill=\"#000000\" font-family=\"sans-serif\" font-size=\"12\" font-style=\"italic\" lengthAdjust=\"spacingAndGlyphs\" textLength=\"106\" x=\"587\" y=\"57.1387\">«calculation def»</text><text fill=\"#000000\" font-family=\"sans-serif\" font-size=\"12\" lengthAdjust=\"spacingAndGlyphs\" textLength=\"7\" x=\"636.5\" y=\"71.1074\">F</text><line style=\"stroke: #A80036; stroke-width: 1.5;\" x1=\"561\" x2=\"693\" y1=\"78.9375\" y2=\"78.9375\"/></a><!--MD5=[270fce915f116d4de14055a7c1d9a0f3]\n",
       "class E5--><a href=\"psysml:a5af055b-f2ee-4ef1-a486-dc312f464f3e\" target=\"_top\" title=\"psysml:a5af055b-f2ee-4ef1-a486-dc312f464f3e\" xlink:actuate=\"onRequest\" xlink:href=\"psysml:a5af055b-f2ee-4ef1-a486-dc312f464f3e\" xlink:show=\"new\" xlink:title=\"psysml:a5af055b-f2ee-4ef1-a486-dc312f464f3e\" xlink:type=\"simple\"><rect fill=\"#FEFECE\" filter=\"url(#f1qafvdqmoztzp)\" height=\"45.9375\" id=\"E5\" rx=\"10\" ry=\"10\" style=\"stroke: #A80036; stroke-width: 1.5;\" width=\"97\" x=\"427.5\" y=\"41\"/><ellipse cx=\"442.5\" cy=\"59.9688\" fill=\"#0000FF\" rx=\"11\" ry=\"11\" style=\"stroke: #A80036; stroke-width: 1.0;\"/><path d=\"M443.3438,66.7188 L440.8906,66.7188 L440.8906,56.4688 L437.75,56.4688 L437.75,54.3281 L446.4844,54.3281 L446.4844,56.4688 L443.3438,56.4688 L443.3438,66.7188 Z \"/><text fill=\"#000000\" font-family=\"sans-serif\" font-size=\"12\" font-style=\"italic\" lengthAdjust=\"spacingAndGlyphs\" textLength=\"69\" x=\"454.5\" y=\"57.1387\">«attribute»</text><text fill=\"#000000\" font-family=\"sans-serif\" font-size=\"12\" lengthAdjust=\"spacingAndGlyphs\" textLength=\"4\" x=\"487\" y=\"71.1074\">f</text><line style=\"stroke: #A80036; stroke-width: 1.5;\" x1=\"428.5\" x2=\"523.5\" y1=\"78.9375\" y2=\"78.9375\"/></a><!--MD5=[60a26617385b1d2d0262a64233df1f8d]\n",
       "class E6--><a href=\"psysml:63113e1f-55f0-4199-b954-2673a0b317ed\" target=\"_top\" title=\"psysml:63113e1f-55f0-4199-b954-2673a0b317ed\" xlink:actuate=\"onRequest\" xlink:href=\"psysml:63113e1f-55f0-4199-b954-2673a0b317ed\" xlink:show=\"new\" xlink:title=\"psysml:63113e1f-55f0-4199-b954-2673a0b317ed\" xlink:type=\"simple\"><rect fill=\"#FEFECE\" filter=\"url(#f1qafvdqmoztzp)\" height=\"45.9375\" id=\"E6\" rx=\"10\" ry=\"10\" style=\"stroke: #A80036; stroke-width: 1.5;\" width=\"97\" x=\"295.5\" y=\"41\"/><ellipse cx=\"310.5\" cy=\"59.9688\" fill=\"#0000FF\" rx=\"11\" ry=\"11\" style=\"stroke: #A80036; stroke-width: 1.0;\"/><path d=\"M311.3438,66.7188 L308.8906,66.7188 L308.8906,56.4688 L305.75,56.4688 L305.75,54.3281 L314.4844,54.3281 L314.4844,56.4688 L311.3438,56.4688 L311.3438,66.7188 Z \"/><text fill=\"#000000\" font-family=\"sans-serif\" font-size=\"12\" font-style=\"italic\" lengthAdjust=\"spacingAndGlyphs\" textLength=\"69\" x=\"322.5\" y=\"57.1387\">«attribute»</text><text fill=\"#000000\" font-family=\"sans-serif\" font-size=\"12\" lengthAdjust=\"spacingAndGlyphs\" textLength=\"8\" x=\"353\" y=\"71.1074\">g</text><line style=\"stroke: #A80036; stroke-width: 1.5;\" x1=\"296.5\" x2=\"391.5\" y1=\"78.9375\" y2=\"78.9375\"/></a><!--MD5=[2156ba9850f5573cc1fc38a6a4b2f02b]\n",
       "class E7--><a href=\"psysml:537e328f-e5cc-426a-9b09-8cf3e436744c\" target=\"_top\" title=\"psysml:537e328f-e5cc-426a-9b09-8cf3e436744c\" xlink:actuate=\"onRequest\" xlink:href=\"psysml:537e328f-e5cc-426a-9b09-8cf3e436744c\" xlink:show=\"new\" xlink:title=\"psysml:537e328f-e5cc-426a-9b09-8cf3e436744c\" xlink:type=\"simple\"><rect fill=\"#FEFECE\" filter=\"url(#f1qafvdqmoztzp)\" height=\"45.9375\" id=\"E7\" rx=\"10\" ry=\"10\" style=\"stroke: #A80036; stroke-width: 1.5;\" width=\"97\" x=\"163.5\" y=\"41\"/><ellipse cx=\"178.5\" cy=\"59.9688\" fill=\"#0000FF\" rx=\"11\" ry=\"11\" style=\"stroke: #A80036; stroke-width: 1.0;\"/><path d=\"M179.3438,66.7188 L176.8906,66.7188 L176.8906,56.4688 L173.75,56.4688 L173.75,54.3281 L182.4844,54.3281 L182.4844,56.4688 L179.3438,56.4688 L179.3438,66.7188 Z \"/><text fill=\"#000000\" font-family=\"sans-serif\" font-size=\"12\" font-style=\"italic\" lengthAdjust=\"spacingAndGlyphs\" textLength=\"69\" x=\"190.5\" y=\"57.1387\">«attribute»</text><text fill=\"#000000\" font-family=\"sans-serif\" font-size=\"12\" lengthAdjust=\"spacingAndGlyphs\" textLength=\"8\" x=\"221\" y=\"71.1074\">b</text><line style=\"stroke: #A80036; stroke-width: 1.5;\" x1=\"164.5\" x2=\"259.5\" y1=\"78.9375\" y2=\"78.9375\"/></a><!--MD5=[b9389687b975829384b498ac4b7476b2]\n",
       "class E8--><a href=\"psysml:2b35c468-a57b-4dfd-a90f-3e1de4d6204b\" target=\"_top\" title=\"psysml:2b35c468-a57b-4dfd-a90f-3e1de4d6204b\" xlink:actuate=\"onRequest\" xlink:href=\"psysml:2b35c468-a57b-4dfd-a90f-3e1de4d6204b\" xlink:show=\"new\" xlink:title=\"psysml:2b35c468-a57b-4dfd-a90f-3e1de4d6204b\" xlink:type=\"simple\"><rect fill=\"#FEFECE\" filter=\"url(#f1qafvdqmoztzp)\" height=\"45.9375\" id=\"E8\" rx=\"10\" ry=\"10\" style=\"stroke: #A80036; stroke-width: 1.5;\" width=\"97\" x=\"31.5\" y=\"41\"/><ellipse cx=\"46.5\" cy=\"59.9688\" fill=\"#0000FF\" rx=\"11\" ry=\"11\" style=\"stroke: #A80036; stroke-width: 1.0;\"/><path d=\"M47.3438,66.7188 L44.8906,66.7188 L44.8906,56.4688 L41.75,56.4688 L41.75,54.3281 L50.4844,54.3281 L50.4844,56.4688 L47.3438,56.4688 L47.3438,66.7188 Z \"/><text fill=\"#000000\" font-family=\"sans-serif\" font-size=\"12\" font-style=\"italic\" lengthAdjust=\"spacingAndGlyphs\" textLength=\"69\" x=\"58.5\" y=\"57.1387\">«attribute»</text><text fill=\"#000000\" font-family=\"sans-serif\" font-size=\"12\" lengthAdjust=\"spacingAndGlyphs\" textLength=\"7\" x=\"89.5\" y=\"71.1074\">c</text><line style=\"stroke: #A80036; stroke-width: 1.5;\" x1=\"32.5\" x2=\"127.5\" y1=\"78.9375\" y2=\"78.9375\"/></a><!--MD5=[05d275557350bfb9b23a4ef7222b4c39]\n",
       "link E3 to E2--><a href=\"psysml:50b306d4-0f13-410b-aa85-567dae9acdd8\" target=\"_top\" title=\"psysml:50b306d4-0f13-410b-aa85-567dae9acdd8\" xlink:actuate=\"onRequest\" xlink:href=\"psysml:50b306d4-0f13-410b-aa85-567dae9acdd8\" xlink:show=\"new\" xlink:title=\"psysml:50b306d4-0f13-410b-aa85-567dae9acdd8\" xlink:type=\"simple\"><path d=\"M765.62,87.13 C756.62,103.2 744.05,125.65 732.54,146.23 \" fill=\"none\" id=\"E3-&gt;E2\" style=\"stroke: #A80036; stroke-width: 1.0;\"/><polygon fill=\"#FFFFFF\" points=\"722.6,163.99,725.7664,143.9907,737.9848,150.8253,722.6,163.99\" style=\"stroke: #A80036; stroke-width: 1.0;\"/><ellipse cx=\"730.2946\" cy=\"139.9924\" fill=\"#A80036\" rx=\"2\" ry=\"2\" style=\"stroke: #A80036; stroke-width: 1.0;\"/><ellipse cx=\"739.022\" cy=\"144.8743\" fill=\"#A80036\" rx=\"2\" ry=\"2\" style=\"stroke: #A80036; stroke-width: 1.0;\"/></a><!--MD5=[ddeed8deb2209213b62e6cfabaa108b2]\n",
       "reverse link E4 to E2--><a href=\"psysml:c5b3d96c-9fe7-4ab4-b771-6776a88b0ad4\" target=\"_top\" title=\"psysml:c5b3d96c-9fe7-4ab4-b771-6776a88b0ad4\" xlink:actuate=\"onRequest\" xlink:href=\"psysml:c5b3d96c-9fe7-4ab4-b771-6776a88b0ad4\" xlink:show=\"new\" xlink:title=\"psysml:c5b3d96c-9fe7-4ab4-b771-6776a88b0ad4\" xlink:type=\"simple\"><path d=\"M645.99,98.48 C657.31,118.44 671.67,143.76 683.14,163.99 \" fill=\"none\" id=\"E4&lt;-E2\" style=\"stroke: #A80036; stroke-width: 1.0;\"/><polygon fill=\"#FFFFFF\" points=\"639.55,87.13,639.0333,94.3226,645.4738,97.5659,645.9905,90.3734,639.55,87.13\" style=\"stroke: #A80036; stroke-width: 1.0;\"/><text fill=\"#000000\" font-family=\"sans-serif\" font-size=\"13\" lengthAdjust=\"spacingAndGlyphs\" textLength=\"8\" x=\"666\" y=\"130.0669\">p</text></a><!--MD5=[f2a9634878e1e8551c6de400953d5f61]\n",
       "@startuml\r\n",
       " \r\n",
       "package \"ParameterTest\" as E1  [[psysml:c7000c50-df42-41d3-9ba9-36eed14db093 ]]  {\r\n",
       "comp def \"A\" as E2  <<(T,blue)attribute def>> [[psysml:cb02a2ee-bdc8-478c-9636-92278b567e26 ]] {\r\n",
       "x: String\r\n",
       "y: A\r\n",
       "}\r\n",
       "comp usage \"a: A\" as E3  <<(T,blue)attribute>> [[psysml:50ebccda-29a4-4ea8-943d-69f99c07f732 ]] {\r\n",
       "}\r\n",
       "comp def \"F\" as E4  <<(T,blue)calculation def>> [[psysml:31ea6359-c2ac-42c4-9008-615ad8ad058c ]] {\r\n",
       "}\r\n",
       "comp usage \"f\" as E5  <<(T,blue)attribute>> [[psysml:a5af055b-f2ee-4ef1-a486-dc312f464f3e ]] {\r\n",
       "}\r\n",
       "comp usage \"g\" as E6  <<(T,blue)attribute>> [[psysml:63113e1f-55f0-4199-b954-2673a0b317ed ]] {\r\n",
       "}\r\n",
       "comp usage \"b\" as E7  <<(T,blue)attribute>> [[psysml:537e328f-e5cc-426a-9b09-8cf3e436744c ]] {\r\n",
       "}\r\n",
       "comp usage \"c\" as E8  <<(T,blue)attribute>> [[psysml:2b35c468-a57b-4dfd-a90f-3e1de4d6204b ]] {\r\n",
       "}\r\n",
       "E3 - -:|> E2 [[psysml:50b306d4-0f13-410b-aa85-567dae9acdd8 ]] \r\n",
       "E4 o- - E2 [[psysml:c5b3d96c-9fe7-4ab4-b771-6776a88b0ad4 ]] : p\r\n",
       "}\r\n",
       "@enduml\r\n",
       "\n",
       "PlantUML version 1.2020.13(Sat Jun 13 12:26:38 UTC 2020)\n",
       "(EPL source distribution)\n",
       "Java Runtime: OpenJDK Runtime Environment\n",
       "JVM: OpenJDK 64-Bit Server VM\n",
       "Default Encoding: UTF-8\n",
       "Language: en\n",
       "Country: null\n",
       "--></g></svg>"
      ]
     },
     "execution_count": 7,
     "metadata": {},
     "output_type": "execute_result"
    }
   ],
   "source": [
    "%viz --style=\"COMPTREE\" --view=\"Sequence\" \"ParameterTest\""
   ]
  },
  {
   "cell_type": "code",
   "execution_count": 8,
   "id": "expanded-outside",
   "metadata": {
    "execution": {
     "iopub.execute_input": "2021-03-25T15:03:09.863571Z",
     "iopub.status.busy": "2021-03-25T15:03:09.862644Z",
     "iopub.status.idle": "2021-03-25T15:03:10.067461Z",
     "shell.execute_reply": "2021-03-25T15:03:10.066074Z"
    }
   },
   "outputs": [
    {
     "data": {
      "image/svg+xml": [
       "<?xml version=\"1.0\" encoding=\"UTF-8\" standalone=\"no\"?><svg xmlns=\"http://www.w3.org/2000/svg\" xmlns:xlink=\"http://www.w3.org/1999/xlink\" contentScriptType=\"application/ecmascript\" contentStyleType=\"text/css\" height=\"247px\" preserveAspectRatio=\"none\" style=\"width:868px;height:247px;\" version=\"1.1\" viewBox=\"0 0 868 247\" width=\"868px\" zoomAndPan=\"magnify\"><defs><filter height=\"300%\" id=\"fz17njtf5qjoj\" width=\"300%\" x=\"-1\" y=\"-1\"><feGaussianBlur result=\"blurOut\" stdDeviation=\"2.0\"/><feColorMatrix in=\"blurOut\" result=\"blurOut2\" type=\"matrix\" values=\"0 0 0 0 0 0 0 0 0 0 0 0 0 0 0 0 0 0 .4 0\"/><feOffset dx=\"4.0\" dy=\"4.0\" in=\"blurOut2\" result=\"blurOut3\"/><feBlend in=\"SourceGraphic\" in2=\"blurOut3\" mode=\"normal\"/></filter></defs><g><!--MD5=[fbc87193dbaf4d95561dea2c320d4a47]\n",
       "cluster E1--><a href=\"psysml:c7000c50-df42-41d3-9ba9-36eed14db093\" target=\"_top\" title=\"psysml:c7000c50-df42-41d3-9ba9-36eed14db093\" xlink:actuate=\"onRequest\" xlink:href=\"psysml:c7000c50-df42-41d3-9ba9-36eed14db093\" xlink:show=\"new\" xlink:title=\"psysml:c7000c50-df42-41d3-9ba9-36eed14db093\" xlink:type=\"simple\"><polygon fill=\"#FFFFFF\" filter=\"url(#fz17njtf5qjoj)\" points=\"16,6,139,6,146,28.2969,846,28.2969,846,235,16,235,16,6\" style=\"stroke: #000000; stroke-width: 1.5;\"/><line style=\"stroke: #000000; stroke-width: 1.5;\" x1=\"16\" x2=\"146\" y1=\"28.2969\" y2=\"28.2969\"/><text fill=\"#000000\" font-family=\"sans-serif\" font-size=\"14\" font-weight=\"bold\" lengthAdjust=\"spacingAndGlyphs\" textLength=\"117\" x=\"20\" y=\"20.9951\">ParameterTest</text></a><!--MD5=[f6df4d0ebaf0b5dfb2ced0ae5af7c670]\n",
       "cluster E4--><a href=\"psysml:31ea6359-c2ac-42c4-9008-615ad8ad058c\" target=\"_top\" title=\"psysml:31ea6359-c2ac-42c4-9008-615ad8ad058c\" xlink:actuate=\"onRequest\" xlink:href=\"psysml:31ea6359-c2ac-42c4-9008-615ad8ad058c\" xlink:show=\"new\" xlink:title=\"psysml:31ea6359-c2ac-42c4-9008-615ad8ad058c\" xlink:type=\"simple\"><rect fill=\"#FFFFFF\" filter=\"url(#fz17njtf5qjoj)\" height=\"152.5\" id=\"E4\" style=\"stroke: #A80036; stroke-width: 1.5;\" width=\"148\" x=\"682\" y=\"64\"/><rect fill=\"#FEFECE\" height=\"37.9375\" style=\"stroke: #A80036; stroke-width: 1.5;\" width=\"148\" x=\"682\" y=\"64\"/><text fill=\"#000000\" font-family=\"sans-serif\" font-size=\"12\" font-style=\"italic\" lengthAdjust=\"spacingAndGlyphs\" textLength=\"106\" x=\"703\" y=\"80.1387\">«calculation def»</text><text fill=\"#000000\" font-family=\"sans-serif\" font-size=\"12\" lengthAdjust=\"spacingAndGlyphs\" textLength=\"7\" x=\"752.5\" y=\"94.1074\">F</text></a><!--MD5=[b4997ac47864f28c2f74865a473b2911]\n",
       "class E2--><a href=\"psysml:cb02a2ee-bdc8-478c-9636-92278b567e26\" target=\"_top\" title=\"psysml:cb02a2ee-bdc8-478c-9636-92278b567e26\" xlink:actuate=\"onRequest\" xlink:href=\"psysml:cb02a2ee-bdc8-478c-9636-92278b567e26\" xlink:show=\"new\" xlink:title=\"psysml:cb02a2ee-bdc8-478c-9636-92278b567e26\" xlink:type=\"simple\"><rect fill=\"#FEFECE\" filter=\"url(#fz17njtf5qjoj)\" height=\"71.5469\" id=\"E2\" style=\"stroke: #A80036; stroke-width: 1.5;\" width=\"121\" x=\"524.5\" y=\"147\"/><ellipse cx=\"539.5\" cy=\"165.9688\" fill=\"#0000FF\" rx=\"11\" ry=\"11\" style=\"stroke: #A80036; stroke-width: 1.0;\"/><path d=\"M540.3438,172.7188 L537.8906,172.7188 L537.8906,162.4688 L534.75,162.4688 L534.75,160.3281 L543.4844,160.3281 L543.4844,162.4688 L540.3438,162.4688 L540.3438,172.7188 Z \"/><text fill=\"#000000\" font-family=\"sans-serif\" font-size=\"12\" font-style=\"italic\" lengthAdjust=\"spacingAndGlyphs\" textLength=\"93\" x=\"551.5\" y=\"163.1387\">«attribute def»</text><text fill=\"#000000\" font-family=\"sans-serif\" font-size=\"12\" lengthAdjust=\"spacingAndGlyphs\" textLength=\"8\" x=\"594\" y=\"177.1074\">A</text><line style=\"stroke: #A80036; stroke-width: 1.5;\" x1=\"525.5\" x2=\"644.5\" y1=\"184.9375\" y2=\"184.9375\"/><text fill=\"#000000\" font-family=\"sans-serif\" font-size=\"11\" lengthAdjust=\"spacingAndGlyphs\" textLength=\"48\" x=\"530.5\" y=\"199.1479\">x: String</text><text fill=\"#000000\" font-family=\"sans-serif\" font-size=\"11\" lengthAdjust=\"spacingAndGlyphs\" textLength=\"21\" x=\"530.5\" y=\"211.9526\">y: A</text></a><!--MD5=[09b614a08d8cba4a07c9adeb5e0fee81]\n",
       "class E3--><a href=\"psysml:50ebccda-29a4-4ea8-943d-69f99c07f732\" target=\"_top\" title=\"psysml:50ebccda-29a4-4ea8-943d-69f99c07f732\" xlink:actuate=\"onRequest\" xlink:href=\"psysml:50ebccda-29a4-4ea8-943d-69f99c07f732\" xlink:show=\"new\" xlink:title=\"psysml:50ebccda-29a4-4ea8-943d-69f99c07f732\" xlink:type=\"simple\"><rect fill=\"#FEFECE\" filter=\"url(#fz17njtf5qjoj)\" height=\"45.9375\" id=\"E3\" rx=\"10\" ry=\"10\" style=\"stroke: #A80036; stroke-width: 1.5;\" width=\"97\" x=\"559.5\" y=\"41\"/><ellipse cx=\"574.5\" cy=\"59.9688\" fill=\"#0000FF\" rx=\"11\" ry=\"11\" style=\"stroke: #A80036; stroke-width: 1.0;\"/><path d=\"M575.3438,66.7188 L572.8906,66.7188 L572.8906,56.4688 L569.75,56.4688 L569.75,54.3281 L578.4844,54.3281 L578.4844,56.4688 L575.3438,56.4688 L575.3438,66.7188 Z \"/><text fill=\"#000000\" font-family=\"sans-serif\" font-size=\"12\" font-style=\"italic\" lengthAdjust=\"spacingAndGlyphs\" textLength=\"69\" x=\"586.5\" y=\"57.1387\">«attribute»</text><text fill=\"#000000\" font-family=\"sans-serif\" font-size=\"12\" lengthAdjust=\"spacingAndGlyphs\" textLength=\"24\" x=\"609\" y=\"71.1074\">a: A</text><line style=\"stroke: #A80036; stroke-width: 1.5;\" x1=\"560.5\" x2=\"655.5\" y1=\"78.9375\" y2=\"78.9375\"/></a><!--MD5=[2156ba9850f5573cc1fc38a6a4b2f02b]\n",
       "class E7--><a href=\"psysml:a5af055b-f2ee-4ef1-a486-dc312f464f3e\" target=\"_top\" title=\"psysml:a5af055b-f2ee-4ef1-a486-dc312f464f3e\" xlink:actuate=\"onRequest\" xlink:href=\"psysml:a5af055b-f2ee-4ef1-a486-dc312f464f3e\" xlink:show=\"new\" xlink:title=\"psysml:a5af055b-f2ee-4ef1-a486-dc312f464f3e\" xlink:type=\"simple\"><rect fill=\"#FEFECE\" filter=\"url(#fz17njtf5qjoj)\" height=\"45.9375\" id=\"E7\" rx=\"10\" ry=\"10\" style=\"stroke: #A80036; stroke-width: 1.5;\" width=\"97\" x=\"427.5\" y=\"41\"/><ellipse cx=\"442.5\" cy=\"59.9688\" fill=\"#0000FF\" rx=\"11\" ry=\"11\" style=\"stroke: #A80036; stroke-width: 1.0;\"/><path d=\"M443.3438,66.7188 L440.8906,66.7188 L440.8906,56.4688 L437.75,56.4688 L437.75,54.3281 L446.4844,54.3281 L446.4844,56.4688 L443.3438,56.4688 L443.3438,66.7188 Z \"/><text fill=\"#000000\" font-family=\"sans-serif\" font-size=\"12\" font-style=\"italic\" lengthAdjust=\"spacingAndGlyphs\" textLength=\"69\" x=\"454.5\" y=\"57.1387\">«attribute»</text><text fill=\"#000000\" font-family=\"sans-serif\" font-size=\"12\" lengthAdjust=\"spacingAndGlyphs\" textLength=\"4\" x=\"487\" y=\"71.1074\">f</text><line style=\"stroke: #A80036; stroke-width: 1.5;\" x1=\"428.5\" x2=\"523.5\" y1=\"78.9375\" y2=\"78.9375\"/></a><!--MD5=[b9389687b975829384b498ac4b7476b2]\n",
       "class E8--><a href=\"psysml:63113e1f-55f0-4199-b954-2673a0b317ed\" target=\"_top\" title=\"psysml:63113e1f-55f0-4199-b954-2673a0b317ed\" xlink:actuate=\"onRequest\" xlink:href=\"psysml:63113e1f-55f0-4199-b954-2673a0b317ed\" xlink:show=\"new\" xlink:title=\"psysml:63113e1f-55f0-4199-b954-2673a0b317ed\" xlink:type=\"simple\"><rect fill=\"#FEFECE\" filter=\"url(#fz17njtf5qjoj)\" height=\"45.9375\" id=\"E8\" rx=\"10\" ry=\"10\" style=\"stroke: #A80036; stroke-width: 1.5;\" width=\"97\" x=\"295.5\" y=\"41\"/><ellipse cx=\"310.5\" cy=\"59.9688\" fill=\"#0000FF\" rx=\"11\" ry=\"11\" style=\"stroke: #A80036; stroke-width: 1.0;\"/><path d=\"M311.3438,66.7188 L308.8906,66.7188 L308.8906,56.4688 L305.75,56.4688 L305.75,54.3281 L314.4844,54.3281 L314.4844,56.4688 L311.3438,56.4688 L311.3438,66.7188 Z \"/><text fill=\"#000000\" font-family=\"sans-serif\" font-size=\"12\" font-style=\"italic\" lengthAdjust=\"spacingAndGlyphs\" textLength=\"69\" x=\"322.5\" y=\"57.1387\">«attribute»</text><text fill=\"#000000\" font-family=\"sans-serif\" font-size=\"12\" lengthAdjust=\"spacingAndGlyphs\" textLength=\"8\" x=\"353\" y=\"71.1074\">g</text><line style=\"stroke: #A80036; stroke-width: 1.5;\" x1=\"296.5\" x2=\"391.5\" y1=\"78.9375\" y2=\"78.9375\"/></a><!--MD5=[fd4143e9d270a159db93a4ea2a975926]\n",
       "class E9--><a href=\"psysml:537e328f-e5cc-426a-9b09-8cf3e436744c\" target=\"_top\" title=\"psysml:537e328f-e5cc-426a-9b09-8cf3e436744c\" xlink:actuate=\"onRequest\" xlink:href=\"psysml:537e328f-e5cc-426a-9b09-8cf3e436744c\" xlink:show=\"new\" xlink:title=\"psysml:537e328f-e5cc-426a-9b09-8cf3e436744c\" xlink:type=\"simple\"><rect fill=\"#FEFECE\" filter=\"url(#fz17njtf5qjoj)\" height=\"45.9375\" id=\"E9\" rx=\"10\" ry=\"10\" style=\"stroke: #A80036; stroke-width: 1.5;\" width=\"97\" x=\"163.5\" y=\"41\"/><ellipse cx=\"178.5\" cy=\"59.9688\" fill=\"#0000FF\" rx=\"11\" ry=\"11\" style=\"stroke: #A80036; stroke-width: 1.0;\"/><path d=\"M179.3438,66.7188 L176.8906,66.7188 L176.8906,56.4688 L173.75,56.4688 L173.75,54.3281 L182.4844,54.3281 L182.4844,56.4688 L179.3438,56.4688 L179.3438,66.7188 Z \"/><text fill=\"#000000\" font-family=\"sans-serif\" font-size=\"12\" font-style=\"italic\" lengthAdjust=\"spacingAndGlyphs\" textLength=\"69\" x=\"190.5\" y=\"57.1387\">«attribute»</text><text fill=\"#000000\" font-family=\"sans-serif\" font-size=\"12\" lengthAdjust=\"spacingAndGlyphs\" textLength=\"8\" x=\"221\" y=\"71.1074\">b</text><line style=\"stroke: #A80036; stroke-width: 1.5;\" x1=\"164.5\" x2=\"259.5\" y1=\"78.9375\" y2=\"78.9375\"/></a><!--MD5=[96f4274e9e20536e775497830990834d]\n",
       "class E10--><a href=\"psysml:2b35c468-a57b-4dfd-a90f-3e1de4d6204b\" target=\"_top\" title=\"psysml:2b35c468-a57b-4dfd-a90f-3e1de4d6204b\" xlink:actuate=\"onRequest\" xlink:href=\"psysml:2b35c468-a57b-4dfd-a90f-3e1de4d6204b\" xlink:show=\"new\" xlink:title=\"psysml:2b35c468-a57b-4dfd-a90f-3e1de4d6204b\" xlink:type=\"simple\"><rect fill=\"#FEFECE\" filter=\"url(#fz17njtf5qjoj)\" height=\"45.9375\" id=\"E10\" rx=\"10\" ry=\"10\" style=\"stroke: #A80036; stroke-width: 1.5;\" width=\"97\" x=\"31.5\" y=\"41\"/><ellipse cx=\"46.5\" cy=\"59.9688\" fill=\"#0000FF\" rx=\"11\" ry=\"11\" style=\"stroke: #A80036; stroke-width: 1.0;\"/><path d=\"M47.3438,66.7188 L44.8906,66.7188 L44.8906,56.4688 L41.75,56.4688 L41.75,54.3281 L50.4844,54.3281 L50.4844,56.4688 L47.3438,56.4688 L47.3438,66.7188 Z \"/><text fill=\"#000000\" font-family=\"sans-serif\" font-size=\"12\" font-style=\"italic\" lengthAdjust=\"spacingAndGlyphs\" textLength=\"69\" x=\"58.5\" y=\"57.1387\">«attribute»</text><text fill=\"#000000\" font-family=\"sans-serif\" font-size=\"12\" lengthAdjust=\"spacingAndGlyphs\" textLength=\"7\" x=\"89.5\" y=\"71.1074\">c</text><line style=\"stroke: #A80036; stroke-width: 1.5;\" x1=\"32.5\" x2=\"127.5\" y1=\"78.9375\" y2=\"78.9375\"/></a><text fill=\"#000000\" font-family=\"sans-serif\" font-size=\"14\" lengthAdjust=\"spacingAndGlyphs\" textLength=\"9\" x=\"695.5\" y=\"42.6982\">p</text><rect fill=\"#A80036\" height=\"12\" style=\"stroke: #FEFECE; stroke-width: 1.5;\" width=\"12\" x=\"694\" y=\"58\"/><text fill=\"#000000\" font-family=\"sans-serif\" font-size=\"14\" lengthAdjust=\"spacingAndGlyphs\" textLength=\"9\" x=\"742.5\" y=\"42.6982\">q</text><rect fill=\"#A80036\" height=\"12\" style=\"stroke: #FEFECE; stroke-width: 1.5;\" width=\"12\" x=\"741\" y=\"58\"/><!--MD5=[05d275557350bfb9b23a4ef7222b4c39]\n",
       "link E3 to E2--><a href=\"psysml:50b306d4-0f13-410b-aa85-567dae9acdd8\" target=\"_top\" title=\"psysml:50b306d4-0f13-410b-aa85-567dae9acdd8\" xlink:actuate=\"onRequest\" xlink:href=\"psysml:50b306d4-0f13-410b-aa85-567dae9acdd8\" xlink:show=\"new\" xlink:title=\"psysml:50b306d4-0f13-410b-aa85-567dae9acdd8\" xlink:type=\"simple\"><path d=\"M603.67,87.01 C601.45,98.3 598.64,112.62 595.87,126.7 \" fill=\"none\" id=\"E3-&gt;E2\" style=\"stroke: #A80036; stroke-width: 1.0;\"/><polygon fill=\"#FFFFFF\" points=\"591.93,146.75,588.7277,126.7564,602.4646,129.4577,591.93,146.75\" style=\"stroke: #A80036; stroke-width: 1.0;\"/><ellipse cx=\"591.7899\" cy=\"121.5494\" fill=\"#A80036\" rx=\"2\" ry=\"2\" style=\"stroke: #A80036; stroke-width: 1.0;\"/><ellipse cx=\"601.602\" cy=\"123.4789\" fill=\"#A80036\" rx=\"2\" ry=\"2\" style=\"stroke: #A80036; stroke-width: 1.0;\"/></a><!--MD5=[58e3f694f529d031f616ef529ba5259b]\n",
       "@startuml\r\n",
       " \r\n",
       "package \"ParameterTest\" as E1  [[psysml:c7000c50-df42-41d3-9ba9-36eed14db093 ]]  {\r\n",
       "comp def \"A\" as E2  <<(T,blue)attribute def>> [[psysml:cb02a2ee-bdc8-478c-9636-92278b567e26 ]] {\r\n",
       "x: String\r\n",
       "y: A\r\n",
       "}\r\n",
       "comp usage \"a: A\" as E3  <<(T,blue)attribute>> [[psysml:50ebccda-29a4-4ea8-943d-69f99c07f732 ]] {\r\n",
       "}\r\n",
       "rec def \"F\" as E4  <<(T,blue)calculation def>> [[psysml:31ea6359-c2ac-42c4-9008-615ad8ad058c ]] {\r\n",
       "portin \"p\" as E5  [[psysml:c5b3d96c-9fe7-4ab4-b771-6776a88b0ad4 ]] \r\n",
       "portin \"q\" as E6  [[psysml:66adf659-8704-40ab-88b3-19d2477512b1 ]] \r\n",
       "}\r\n",
       "\r\n",
       "comp usage \"f\" as E7  <<(T,blue)attribute>> [[psysml:a5af055b-f2ee-4ef1-a486-dc312f464f3e ]] {\r\n",
       "}\r\n",
       "comp usage \"g\" as E8  <<(T,blue)attribute>> [[psysml:63113e1f-55f0-4199-b954-2673a0b317ed ]] {\r\n",
       "}\r\n",
       "comp usage \"b\" as E9  <<(T,blue)attribute>> [[psysml:537e328f-e5cc-426a-9b09-8cf3e436744c ]] {\r\n",
       "}\r\n",
       "comp usage \"c\" as E10  <<(T,blue)attribute>> [[psysml:2b35c468-a57b-4dfd-a90f-3e1de4d6204b ]] {\r\n",
       "}\r\n",
       "E3 - -:|> E2 [[psysml:50b306d4-0f13-410b-aa85-567dae9acdd8 ]] \r\n",
       "}\r\n",
       "@enduml\r\n",
       "\n",
       "PlantUML version 1.2020.13(Sat Jun 13 12:26:38 UTC 2020)\n",
       "(EPL source distribution)\n",
       "Java Runtime: OpenJDK Runtime Environment\n",
       "JVM: OpenJDK 64-Bit Server VM\n",
       "Default Encoding: UTF-8\n",
       "Language: en\n",
       "Country: null\n",
       "--></g></svg>"
      ]
     },
     "execution_count": 8,
     "metadata": {},
     "output_type": "execute_result"
    }
   ],
   "source": [
    "%viz --style=\"COMPTREE\" --view=\"MIXED\" \"ParameterTest\""
   ]
  },
  {
   "cell_type": "code",
   "execution_count": 9,
   "id": "forced-stretch",
   "metadata": {
    "execution": {
     "iopub.execute_input": "2021-03-25T15:03:10.117215Z",
     "iopub.status.busy": "2021-03-25T15:03:10.116809Z",
     "iopub.status.idle": "2021-03-25T15:03:10.447960Z",
     "shell.execute_reply": "2021-03-25T15:03:10.446256Z"
    }
   },
   "outputs": [
    {
     "data": {
      "image/svg+xml": [
       "<?xml version=\"1.0\" encoding=\"UTF-8\" standalone=\"no\"?><svg xmlns=\"http://www.w3.org/2000/svg\" xmlns:xlink=\"http://www.w3.org/1999/xlink\" contentScriptType=\"application/ecmascript\" contentStyleType=\"text/css\" height=\"263px\" preserveAspectRatio=\"none\" style=\"width:740px;height:263px;\" version=\"1.1\" viewBox=\"0 0 740 263\" width=\"740px\" zoomAndPan=\"magnify\"><defs/><g><!--MD5=[fbc87193dbaf4d95561dea2c320d4a47]\n",
       "cluster E1--><a href=\"psysml:c7000c50-df42-41d3-9ba9-36eed14db093\" target=\"_top\" title=\"psysml:c7000c50-df42-41d3-9ba9-36eed14db093\" xlink:actuate=\"onRequest\" xlink:href=\"psysml:c7000c50-df42-41d3-9ba9-36eed14db093\" xlink:show=\"new\" xlink:title=\"psysml:c7000c50-df42-41d3-9ba9-36eed14db093\" xlink:type=\"simple\"><polygon fill=\"#FFFFFF\" points=\"16,6,139,6,146,28.2969,718,28.2969,718,251,16,251,16,6\" style=\"stroke: #000000; stroke-width: 1.5;\"/><line style=\"stroke: #000000; stroke-width: 1.5;\" x1=\"16\" x2=\"146\" y1=\"28.2969\" y2=\"28.2969\"/><text fill=\"#000000\" font-family=\"sans-serif\" font-size=\"14\" font-weight=\"bold\" lengthAdjust=\"spacingAndGlyphs\" textLength=\"117\" x=\"20\" y=\"20.9951\">ParameterTest</text></a><!--MD5=[f6df4d0ebaf0b5dfb2ced0ae5af7c670]\n",
       "cluster E4--><a href=\"psysml:31ea6359-c2ac-42c4-9008-615ad8ad058c\" target=\"_top\" title=\"psysml:31ea6359-c2ac-42c4-9008-615ad8ad058c\" xlink:actuate=\"onRequest\" xlink:href=\"psysml:31ea6359-c2ac-42c4-9008-615ad8ad058c\" xlink:show=\"new\" xlink:title=\"psysml:31ea6359-c2ac-42c4-9008-615ad8ad058c\" xlink:type=\"simple\"><rect fill=\"#FFFFFF\" height=\"160.5\" id=\"E4\" style=\"stroke: #383838; stroke-width: 1.5;\" width=\"148\" x=\"554\" y=\"64\"/><rect fill=\"#F8F8F8\" height=\"37.9375\" style=\"stroke: #383838; stroke-width: 1.5;\" width=\"148\" x=\"554\" y=\"64\"/><text fill=\"#000000\" font-family=\"sans-serif\" font-size=\"12\" font-style=\"italic\" lengthAdjust=\"spacingAndGlyphs\" textLength=\"106\" x=\"575\" y=\"80.1387\">«calculation def»</text><text fill=\"#000000\" font-family=\"sans-serif\" font-size=\"12\" lengthAdjust=\"spacingAndGlyphs\" textLength=\"7\" x=\"624.5\" y=\"94.1074\">F</text></a><!--MD5=[b4997ac47864f28c2f74865a473b2911]\n",
       "class E2--><a href=\"psysml:cb02a2ee-bdc8-478c-9636-92278b567e26\" target=\"_top\" title=\"psysml:cb02a2ee-bdc8-478c-9636-92278b567e26\" xlink:actuate=\"onRequest\" xlink:href=\"psysml:cb02a2ee-bdc8-478c-9636-92278b567e26\" xlink:show=\"new\" xlink:title=\"psysml:cb02a2ee-bdc8-478c-9636-92278b567e26\" xlink:type=\"simple\"><rect fill=\"#FFFFFF\" height=\"88.3516\" id=\"E2\" style=\"stroke: #383838; stroke-width: 1.5;\" width=\"95\" x=\"422.5\" y=\"147\"/><text fill=\"#000000\" font-family=\"sans-serif\" font-size=\"12\" font-style=\"italic\" lengthAdjust=\"spacingAndGlyphs\" textLength=\"93\" x=\"423.5\" y=\"163.1387\">«attribute def»</text><text fill=\"#000000\" font-family=\"sans-serif\" font-size=\"12\" lengthAdjust=\"spacingAndGlyphs\" textLength=\"8\" x=\"466\" y=\"177.1074\">A</text><line style=\"stroke: #383838; stroke-width: 1.5;\" x1=\"423.5\" x2=\"516.5\" y1=\"184.9375\" y2=\"184.9375\"/><text fill=\"#000000\" font-family=\"sans-serif\" font-size=\"11\" lengthAdjust=\"spacingAndGlyphs\" textLength=\"48\" x=\"428.5\" y=\"215.9526\">x: String</text><text fill=\"#000000\" font-family=\"sans-serif\" font-size=\"11\" lengthAdjust=\"spacingAndGlyphs\" textLength=\"21\" x=\"428.5\" y=\"228.7573\">y: A</text><line style=\"stroke: #383838; stroke-width: 1.0;\" x1=\"423.5\" x2=\"442.5\" y1=\"199.3398\" y2=\"199.3398\"/><text fill=\"#000000\" font-family=\"sans-serif\" font-size=\"11\" lengthAdjust=\"spacingAndGlyphs\" textLength=\"55\" x=\"442.5\" y=\"202.6479\">attributes</text><line style=\"stroke: #383838; stroke-width: 1.0;\" x1=\"497.5\" x2=\"516.5\" y1=\"199.3398\" y2=\"199.3398\"/></a><!--MD5=[09b614a08d8cba4a07c9adeb5e0fee81]\n",
       "class E3--><a href=\"psysml:50ebccda-29a4-4ea8-943d-69f99c07f732\" target=\"_top\" title=\"psysml:50ebccda-29a4-4ea8-943d-69f99c07f732\" xlink:actuate=\"onRequest\" xlink:href=\"psysml:50ebccda-29a4-4ea8-943d-69f99c07f732\" xlink:show=\"new\" xlink:title=\"psysml:50ebccda-29a4-4ea8-943d-69f99c07f732\" xlink:type=\"simple\"><rect fill=\"#FFFFFF\" height=\"45.9375\" id=\"E3\" rx=\"10\" ry=\"10\" style=\"stroke: #383838; stroke-width: 1.5;\" width=\"71\" x=\"456.5\" y=\"41\"/><text fill=\"#000000\" font-family=\"sans-serif\" font-size=\"12\" font-style=\"italic\" lengthAdjust=\"spacingAndGlyphs\" textLength=\"69\" x=\"457.5\" y=\"57.1387\">«attribute»</text><text fill=\"#000000\" font-family=\"sans-serif\" font-size=\"12\" lengthAdjust=\"spacingAndGlyphs\" textLength=\"24\" x=\"480\" y=\"71.1074\">a: A</text><line style=\"stroke: #383838; stroke-width: 1.5;\" x1=\"457.5\" x2=\"526.5\" y1=\"78.9375\" y2=\"78.9375\"/></a><!--MD5=[2156ba9850f5573cc1fc38a6a4b2f02b]\n",
       "class E7--><a href=\"psysml:a5af055b-f2ee-4ef1-a486-dc312f464f3e\" target=\"_top\" title=\"psysml:a5af055b-f2ee-4ef1-a486-dc312f464f3e\" xlink:actuate=\"onRequest\" xlink:href=\"psysml:a5af055b-f2ee-4ef1-a486-dc312f464f3e\" xlink:show=\"new\" xlink:title=\"psysml:a5af055b-f2ee-4ef1-a486-dc312f464f3e\" xlink:type=\"simple\"><rect fill=\"#FFFFFF\" height=\"45.9375\" id=\"E7\" rx=\"10\" ry=\"10\" style=\"stroke: #383838; stroke-width: 1.5;\" width=\"71\" x=\"350.5\" y=\"41\"/><text fill=\"#000000\" font-family=\"sans-serif\" font-size=\"12\" font-style=\"italic\" lengthAdjust=\"spacingAndGlyphs\" textLength=\"69\" x=\"351.5\" y=\"57.1387\">«attribute»</text><text fill=\"#000000\" font-family=\"sans-serif\" font-size=\"12\" lengthAdjust=\"spacingAndGlyphs\" textLength=\"4\" x=\"384\" y=\"71.1074\">f</text><line style=\"stroke: #383838; stroke-width: 1.5;\" x1=\"351.5\" x2=\"420.5\" y1=\"78.9375\" y2=\"78.9375\"/></a><!--MD5=[b9389687b975829384b498ac4b7476b2]\n",
       "class E8--><a href=\"psysml:63113e1f-55f0-4199-b954-2673a0b317ed\" target=\"_top\" title=\"psysml:63113e1f-55f0-4199-b954-2673a0b317ed\" xlink:actuate=\"onRequest\" xlink:href=\"psysml:63113e1f-55f0-4199-b954-2673a0b317ed\" xlink:show=\"new\" xlink:title=\"psysml:63113e1f-55f0-4199-b954-2673a0b317ed\" xlink:type=\"simple\"><rect fill=\"#FFFFFF\" height=\"45.9375\" id=\"E8\" rx=\"10\" ry=\"10\" style=\"stroke: #383838; stroke-width: 1.5;\" width=\"71\" x=\"244.5\" y=\"41\"/><text fill=\"#000000\" font-family=\"sans-serif\" font-size=\"12\" font-style=\"italic\" lengthAdjust=\"spacingAndGlyphs\" textLength=\"69\" x=\"245.5\" y=\"57.1387\">«attribute»</text><text fill=\"#000000\" font-family=\"sans-serif\" font-size=\"12\" lengthAdjust=\"spacingAndGlyphs\" textLength=\"8\" x=\"276\" y=\"71.1074\">g</text><line style=\"stroke: #383838; stroke-width: 1.5;\" x1=\"245.5\" x2=\"314.5\" y1=\"78.9375\" y2=\"78.9375\"/></a><!--MD5=[fd4143e9d270a159db93a4ea2a975926]\n",
       "class E9--><a href=\"psysml:537e328f-e5cc-426a-9b09-8cf3e436744c\" target=\"_top\" title=\"psysml:537e328f-e5cc-426a-9b09-8cf3e436744c\" xlink:actuate=\"onRequest\" xlink:href=\"psysml:537e328f-e5cc-426a-9b09-8cf3e436744c\" xlink:show=\"new\" xlink:title=\"psysml:537e328f-e5cc-426a-9b09-8cf3e436744c\" xlink:type=\"simple\"><rect fill=\"#FFFFFF\" height=\"45.9375\" id=\"E9\" rx=\"10\" ry=\"10\" style=\"stroke: #383838; stroke-width: 1.5;\" width=\"71\" x=\"138.5\" y=\"41\"/><text fill=\"#000000\" font-family=\"sans-serif\" font-size=\"12\" font-style=\"italic\" lengthAdjust=\"spacingAndGlyphs\" textLength=\"69\" x=\"139.5\" y=\"57.1387\">«attribute»</text><text fill=\"#000000\" font-family=\"sans-serif\" font-size=\"12\" lengthAdjust=\"spacingAndGlyphs\" textLength=\"8\" x=\"170\" y=\"71.1074\">b</text><line style=\"stroke: #383838; stroke-width: 1.5;\" x1=\"139.5\" x2=\"208.5\" y1=\"78.9375\" y2=\"78.9375\"/></a><!--MD5=[96f4274e9e20536e775497830990834d]\n",
       "class E10--><a href=\"psysml:2b35c468-a57b-4dfd-a90f-3e1de4d6204b\" target=\"_top\" title=\"psysml:2b35c468-a57b-4dfd-a90f-3e1de4d6204b\" xlink:actuate=\"onRequest\" xlink:href=\"psysml:2b35c468-a57b-4dfd-a90f-3e1de4d6204b\" xlink:show=\"new\" xlink:title=\"psysml:2b35c468-a57b-4dfd-a90f-3e1de4d6204b\" xlink:type=\"simple\"><rect fill=\"#FFFFFF\" height=\"45.9375\" id=\"E10\" rx=\"10\" ry=\"10\" style=\"stroke: #383838; stroke-width: 1.5;\" width=\"71\" x=\"32.5\" y=\"41\"/><text fill=\"#000000\" font-family=\"sans-serif\" font-size=\"12\" font-style=\"italic\" lengthAdjust=\"spacingAndGlyphs\" textLength=\"69\" x=\"33.5\" y=\"57.1387\">«attribute»</text><text fill=\"#000000\" font-family=\"sans-serif\" font-size=\"12\" lengthAdjust=\"spacingAndGlyphs\" textLength=\"7\" x=\"64.5\" y=\"71.1074\">c</text><line style=\"stroke: #383838; stroke-width: 1.5;\" x1=\"33.5\" x2=\"102.5\" y1=\"78.9375\" y2=\"78.9375\"/></a><text fill=\"#000000\" font-family=\"sans-serif\" font-size=\"14\" lengthAdjust=\"spacingAndGlyphs\" textLength=\"9\" x=\"567.5\" y=\"42.6982\">p</text><rect fill=\"#383838\" height=\"12\" style=\"stroke: #F8F8F8; stroke-width: 1.5;\" width=\"12\" x=\"566\" y=\"58\"/><text fill=\"#000000\" font-family=\"sans-serif\" font-size=\"14\" lengthAdjust=\"spacingAndGlyphs\" textLength=\"9\" x=\"614.5\" y=\"42.6982\">q</text><rect fill=\"#383838\" height=\"12\" style=\"stroke: #F8F8F8; stroke-width: 1.5;\" width=\"12\" x=\"613\" y=\"58\"/><!--MD5=[05d275557350bfb9b23a4ef7222b4c39]\n",
       "link E3 to E2--><a href=\"psysml:50b306d4-0f13-410b-aa85-567dae9acdd8\" target=\"_top\" title=\"psysml:50b306d4-0f13-410b-aa85-567dae9acdd8\" xlink:actuate=\"onRequest\" xlink:href=\"psysml:50b306d4-0f13-410b-aa85-567dae9acdd8\" xlink:show=\"new\" xlink:title=\"psysml:50b306d4-0f13-410b-aa85-567dae9acdd8\" xlink:type=\"simple\"><path d=\"M488.12,87.06 C486.14,98.3 483.62,112.6 481.1,126.95 \" fill=\"none\" id=\"E3-&gt;E2\" style=\"stroke: #383838; stroke-width: 1.0;\"/><polygon fill=\"#FFFFFF\" points=\"477.58,146.93,473.9835,127.0035,487.7711,129.4331,477.58,146.93\" style=\"stroke: #383838; stroke-width: 1.0;\"/><ellipse cx=\"476.9423\" cy=\"121.7371\" fill=\"#383838\" rx=\"2\" ry=\"2\" style=\"stroke: #383838; stroke-width: 1.0;\"/><ellipse cx=\"486.7906\" cy=\"123.4725\" fill=\"#383838\" rx=\"2\" ry=\"2\" style=\"stroke: #383838; stroke-width: 1.0;\"/></a><!--MD5=[d20704f4181a17fa0d4a74f7564f62c1]\n",
       "@startuml\r\n",
       "skinparam linetype polyline\r\n",
       "skinparam monochrome true\r\n",
       "skinparam classbackgroundcolor white\r\n",
       "skinparam shadowing false\r\n",
       "skinparam wrapWidth 300\r\n",
       "hide circle\r\n",
       "\r\n",
       "package \"ParameterTest\" as E1  [[psysml:c7000c50-df42-41d3-9ba9-36eed14db093 ]]  {\r\n",
       "comp def \"A\" as E2  <<(T,blue)attribute def>> [[psysml:cb02a2ee-bdc8-478c-9636-92278b567e26 ]] {\r\n",
       "- - attributes - -\r\n",
       "x: String\r\n",
       "y: A\r\n",
       "}\r\n",
       "comp usage \"a: A\" as E3  <<(T,blue)attribute>> [[psysml:50ebccda-29a4-4ea8-943d-69f99c07f732 ]] {\r\n",
       "}\r\n",
       "rec def \"F\" as E4  <<(T,blue)calculation def>> [[psysml:31ea6359-c2ac-42c4-9008-615ad8ad058c ]] {\r\n",
       "portin \"p\" as E5  [[psysml:c5b3d96c-9fe7-4ab4-b771-6776a88b0ad4 ]] \r\n",
       "portin \"q\" as E6  [[psysml:66adf659-8704-40ab-88b3-19d2477512b1 ]] \r\n",
       "}\r\n",
       "\r\n",
       "comp usage \"f\" as E7  <<(T,blue)attribute>> [[psysml:a5af055b-f2ee-4ef1-a486-dc312f464f3e ]] {\r\n",
       "}\r\n",
       "comp usage \"g\" as E8  <<(T,blue)attribute>> [[psysml:63113e1f-55f0-4199-b954-2673a0b317ed ]] {\r\n",
       "}\r\n",
       "comp usage \"b\" as E9  <<(T,blue)attribute>> [[psysml:537e328f-e5cc-426a-9b09-8cf3e436744c ]] {\r\n",
       "}\r\n",
       "comp usage \"c\" as E10  <<(T,blue)attribute>> [[psysml:2b35c468-a57b-4dfd-a90f-3e1de4d6204b ]] {\r\n",
       "}\r\n",
       "E3 - -:|> E2 [[psysml:50b306d4-0f13-410b-aa85-567dae9acdd8 ]] \r\n",
       "}\r\n",
       "@enduml\r\n",
       "\n",
       "PlantUML version 1.2020.13(Sat Jun 13 12:26:38 UTC 2020)\n",
       "(EPL source distribution)\n",
       "Java Runtime: OpenJDK Runtime Environment\n",
       "JVM: OpenJDK 64-Bit Server VM\n",
       "Default Encoding: UTF-8\n",
       "Language: en\n",
       "Country: null\n",
       "--></g></svg>"
      ]
     },
     "execution_count": 9,
     "metadata": {},
     "output_type": "execute_result"
    }
   ],
   "source": [
    "%viz --style=\"POLYLINE\" --view=\"Default\" \"ParameterTest\""
   ]
  },
  {
   "cell_type": "code",
   "execution_count": 10,
   "id": "elect-shuttle",
   "metadata": {
    "execution": {
     "iopub.execute_input": "2021-03-25T15:03:10.498348Z",
     "iopub.status.busy": "2021-03-25T15:03:10.497664Z",
     "iopub.status.idle": "2021-03-25T15:03:10.784335Z",
     "shell.execute_reply": "2021-03-25T15:03:10.783026Z"
    }
   },
   "outputs": [
    {
     "data": {
      "image/svg+xml": [
       "<?xml version=\"1.0\" encoding=\"UTF-8\" standalone=\"no\"?><svg xmlns=\"http://www.w3.org/2000/svg\" xmlns:xlink=\"http://www.w3.org/1999/xlink\" contentScriptType=\"application/ecmascript\" contentStyleType=\"text/css\" height=\"280px\" preserveAspectRatio=\"none\" style=\"width:710px;height:280px;\" version=\"1.1\" viewBox=\"0 0 710 280\" width=\"710px\" zoomAndPan=\"magnify\"><defs/><g><!--MD5=[fbc87193dbaf4d95561dea2c320d4a47]\n",
       "cluster E1--><a href=\"psysml:c7000c50-df42-41d3-9ba9-36eed14db093\" target=\"_top\" title=\"psysml:c7000c50-df42-41d3-9ba9-36eed14db093\" xlink:actuate=\"onRequest\" xlink:href=\"psysml:c7000c50-df42-41d3-9ba9-36eed14db093\" xlink:show=\"new\" xlink:title=\"psysml:c7000c50-df42-41d3-9ba9-36eed14db093\" xlink:type=\"simple\"><polygon fill=\"#FFFFFF\" points=\"16,6,139,6,146,28.2969,688,28.2969,688,268,16,268,16,6\" style=\"stroke: #000000; stroke-width: 1.5;\"/><line style=\"stroke: #000000; stroke-width: 1.5;\" x1=\"16\" x2=\"146\" y1=\"28.2969\" y2=\"28.2969\"/><text fill=\"#000000\" font-family=\"sans-serif\" font-size=\"14\" font-weight=\"bold\" lengthAdjust=\"spacingAndGlyphs\" textLength=\"117\" x=\"20\" y=\"20.9951\">ParameterTest</text></a><!--MD5=[b4997ac47864f28c2f74865a473b2911]\n",
       "class E2--><a href=\"psysml:cb02a2ee-bdc8-478c-9636-92278b567e26\" target=\"_top\" title=\"psysml:cb02a2ee-bdc8-478c-9636-92278b567e26\" xlink:actuate=\"onRequest\" xlink:href=\"psysml:cb02a2ee-bdc8-478c-9636-92278b567e26\" xlink:show=\"new\" xlink:title=\"psysml:cb02a2ee-bdc8-478c-9636-92278b567e26\" xlink:type=\"simple\"><rect fill=\"#FFFFFF\" height=\"88.3516\" id=\"E2\" style=\"stroke: #383838; stroke-width: 1.5;\" width=\"95\" x=\"498.5\" y=\"164\"/><text fill=\"#000000\" font-family=\"sans-serif\" font-size=\"12\" font-style=\"italic\" lengthAdjust=\"spacingAndGlyphs\" textLength=\"93\" x=\"499.5\" y=\"180.1387\">«attribute def»</text><text fill=\"#000000\" font-family=\"sans-serif\" font-size=\"12\" lengthAdjust=\"spacingAndGlyphs\" textLength=\"8\" x=\"542\" y=\"194.1074\">A</text><line style=\"stroke: #383838; stroke-width: 1.5;\" x1=\"499.5\" x2=\"592.5\" y1=\"201.9375\" y2=\"201.9375\"/><text fill=\"#000000\" font-family=\"sans-serif\" font-size=\"11\" lengthAdjust=\"spacingAndGlyphs\" textLength=\"48\" x=\"504.5\" y=\"232.9526\">x: String</text><text fill=\"#000000\" font-family=\"sans-serif\" font-size=\"11\" lengthAdjust=\"spacingAndGlyphs\" textLength=\"21\" x=\"504.5\" y=\"245.7573\">y: A</text><line style=\"stroke: #383838; stroke-width: 1.0;\" x1=\"499.5\" x2=\"518.5\" y1=\"216.3398\" y2=\"216.3398\"/><text fill=\"#000000\" font-family=\"sans-serif\" font-size=\"11\" lengthAdjust=\"spacingAndGlyphs\" textLength=\"55\" x=\"518.5\" y=\"219.6479\">attributes</text><line style=\"stroke: #383838; stroke-width: 1.0;\" x1=\"573.5\" x2=\"592.5\" y1=\"216.3398\" y2=\"216.3398\"/></a><!--MD5=[09b614a08d8cba4a07c9adeb5e0fee81]\n",
       "class E3--><a href=\"psysml:50ebccda-29a4-4ea8-943d-69f99c07f732\" target=\"_top\" title=\"psysml:50ebccda-29a4-4ea8-943d-69f99c07f732\" xlink:actuate=\"onRequest\" xlink:href=\"psysml:50ebccda-29a4-4ea8-943d-69f99c07f732\" xlink:show=\"new\" xlink:title=\"psysml:50ebccda-29a4-4ea8-943d-69f99c07f732\" xlink:type=\"simple\"><rect fill=\"#FFFFFF\" height=\"45.9375\" id=\"E3\" rx=\"10\" ry=\"10\" style=\"stroke: #383838; stroke-width: 1.5;\" width=\"71\" x=\"600.5\" y=\"41\"/><text fill=\"#000000\" font-family=\"sans-serif\" font-size=\"12\" font-style=\"italic\" lengthAdjust=\"spacingAndGlyphs\" textLength=\"69\" x=\"601.5\" y=\"57.1387\">«attribute»</text><text fill=\"#000000\" font-family=\"sans-serif\" font-size=\"12\" lengthAdjust=\"spacingAndGlyphs\" textLength=\"24\" x=\"624\" y=\"71.1074\">a: A</text><line style=\"stroke: #383838; stroke-width: 1.5;\" x1=\"601.5\" x2=\"670.5\" y1=\"78.9375\" y2=\"78.9375\"/></a><!--MD5=[ebbe1d658d1005bcc118a6aa81145e00]\n",
       "class E4--><a href=\"psysml:31ea6359-c2ac-42c4-9008-615ad8ad058c\" target=\"_top\" title=\"psysml:31ea6359-c2ac-42c4-9008-615ad8ad058c\" xlink:actuate=\"onRequest\" xlink:href=\"psysml:31ea6359-c2ac-42c4-9008-615ad8ad058c\" xlink:show=\"new\" xlink:title=\"psysml:31ea6359-c2ac-42c4-9008-615ad8ad058c\" xlink:type=\"simple\"><rect fill=\"#FFFFFF\" height=\"45.9375\" id=\"E4\" style=\"stroke: #383838; stroke-width: 1.5;\" width=\"108\" x=\"457\" y=\"41\"/><text fill=\"#000000\" font-family=\"sans-serif\" font-size=\"12\" font-style=\"italic\" lengthAdjust=\"spacingAndGlyphs\" textLength=\"106\" x=\"458\" y=\"57.1387\">«calculation def»</text><text fill=\"#000000\" font-family=\"sans-serif\" font-size=\"12\" lengthAdjust=\"spacingAndGlyphs\" textLength=\"7\" x=\"507.5\" y=\"71.1074\">F</text><line style=\"stroke: #383838; stroke-width: 1.5;\" x1=\"458\" x2=\"564\" y1=\"78.9375\" y2=\"78.9375\"/></a><!--MD5=[270fce915f116d4de14055a7c1d9a0f3]\n",
       "class E5--><a href=\"psysml:a5af055b-f2ee-4ef1-a486-dc312f464f3e\" target=\"_top\" title=\"psysml:a5af055b-f2ee-4ef1-a486-dc312f464f3e\" xlink:actuate=\"onRequest\" xlink:href=\"psysml:a5af055b-f2ee-4ef1-a486-dc312f464f3e\" xlink:show=\"new\" xlink:title=\"psysml:a5af055b-f2ee-4ef1-a486-dc312f464f3e\" xlink:type=\"simple\"><rect fill=\"#FFFFFF\" height=\"45.9375\" id=\"E5\" rx=\"10\" ry=\"10\" style=\"stroke: #383838; stroke-width: 1.5;\" width=\"71\" x=\"350.5\" y=\"41\"/><text fill=\"#000000\" font-family=\"sans-serif\" font-size=\"12\" font-style=\"italic\" lengthAdjust=\"spacingAndGlyphs\" textLength=\"69\" x=\"351.5\" y=\"57.1387\">«attribute»</text><text fill=\"#000000\" font-family=\"sans-serif\" font-size=\"12\" lengthAdjust=\"spacingAndGlyphs\" textLength=\"4\" x=\"384\" y=\"71.1074\">f</text><line style=\"stroke: #383838; stroke-width: 1.5;\" x1=\"351.5\" x2=\"420.5\" y1=\"78.9375\" y2=\"78.9375\"/></a><!--MD5=[60a26617385b1d2d0262a64233df1f8d]\n",
       "class E6--><a href=\"psysml:63113e1f-55f0-4199-b954-2673a0b317ed\" target=\"_top\" title=\"psysml:63113e1f-55f0-4199-b954-2673a0b317ed\" xlink:actuate=\"onRequest\" xlink:href=\"psysml:63113e1f-55f0-4199-b954-2673a0b317ed\" xlink:show=\"new\" xlink:title=\"psysml:63113e1f-55f0-4199-b954-2673a0b317ed\" xlink:type=\"simple\"><rect fill=\"#FFFFFF\" height=\"45.9375\" id=\"E6\" rx=\"10\" ry=\"10\" style=\"stroke: #383838; stroke-width: 1.5;\" width=\"71\" x=\"244.5\" y=\"41\"/><text fill=\"#000000\" font-family=\"sans-serif\" font-size=\"12\" font-style=\"italic\" lengthAdjust=\"spacingAndGlyphs\" textLength=\"69\" x=\"245.5\" y=\"57.1387\">«attribute»</text><text fill=\"#000000\" font-family=\"sans-serif\" font-size=\"12\" lengthAdjust=\"spacingAndGlyphs\" textLength=\"8\" x=\"276\" y=\"71.1074\">g</text><line style=\"stroke: #383838; stroke-width: 1.5;\" x1=\"245.5\" x2=\"314.5\" y1=\"78.9375\" y2=\"78.9375\"/></a><!--MD5=[2156ba9850f5573cc1fc38a6a4b2f02b]\n",
       "class E7--><a href=\"psysml:537e328f-e5cc-426a-9b09-8cf3e436744c\" target=\"_top\" title=\"psysml:537e328f-e5cc-426a-9b09-8cf3e436744c\" xlink:actuate=\"onRequest\" xlink:href=\"psysml:537e328f-e5cc-426a-9b09-8cf3e436744c\" xlink:show=\"new\" xlink:title=\"psysml:537e328f-e5cc-426a-9b09-8cf3e436744c\" xlink:type=\"simple\"><rect fill=\"#FFFFFF\" height=\"45.9375\" id=\"E7\" rx=\"10\" ry=\"10\" style=\"stroke: #383838; stroke-width: 1.5;\" width=\"71\" x=\"138.5\" y=\"41\"/><text fill=\"#000000\" font-family=\"sans-serif\" font-size=\"12\" font-style=\"italic\" lengthAdjust=\"spacingAndGlyphs\" textLength=\"69\" x=\"139.5\" y=\"57.1387\">«attribute»</text><text fill=\"#000000\" font-family=\"sans-serif\" font-size=\"12\" lengthAdjust=\"spacingAndGlyphs\" textLength=\"8\" x=\"170\" y=\"71.1074\">b</text><line style=\"stroke: #383838; stroke-width: 1.5;\" x1=\"139.5\" x2=\"208.5\" y1=\"78.9375\" y2=\"78.9375\"/></a><!--MD5=[b9389687b975829384b498ac4b7476b2]\n",
       "class E8--><a href=\"psysml:2b35c468-a57b-4dfd-a90f-3e1de4d6204b\" target=\"_top\" title=\"psysml:2b35c468-a57b-4dfd-a90f-3e1de4d6204b\" xlink:actuate=\"onRequest\" xlink:href=\"psysml:2b35c468-a57b-4dfd-a90f-3e1de4d6204b\" xlink:show=\"new\" xlink:title=\"psysml:2b35c468-a57b-4dfd-a90f-3e1de4d6204b\" xlink:type=\"simple\"><rect fill=\"#FFFFFF\" height=\"45.9375\" id=\"E8\" rx=\"10\" ry=\"10\" style=\"stroke: #383838; stroke-width: 1.5;\" width=\"71\" x=\"32.5\" y=\"41\"/><text fill=\"#000000\" font-family=\"sans-serif\" font-size=\"12\" font-style=\"italic\" lengthAdjust=\"spacingAndGlyphs\" textLength=\"69\" x=\"33.5\" y=\"57.1387\">«attribute»</text><text fill=\"#000000\" font-family=\"sans-serif\" font-size=\"12\" lengthAdjust=\"spacingAndGlyphs\" textLength=\"7\" x=\"64.5\" y=\"71.1074\">c</text><line style=\"stroke: #383838; stroke-width: 1.5;\" x1=\"33.5\" x2=\"102.5\" y1=\"78.9375\" y2=\"78.9375\"/></a><!--MD5=[05d275557350bfb9b23a4ef7222b4c39]\n",
       "link E3 to E2--><a href=\"psysml:50b306d4-0f13-410b-aa85-567dae9acdd8\" target=\"_top\" title=\"psysml:50b306d4-0f13-410b-aa85-567dae9acdd8\" xlink:actuate=\"onRequest\" xlink:href=\"psysml:50b306d4-0f13-410b-aa85-567dae9acdd8\" xlink:show=\"new\" xlink:title=\"psysml:50b306d4-0f13-410b-aa85-567dae9acdd8\" xlink:type=\"simple\"><path d=\"M621.94,87.19 C611.77,103.23 597.51,125.73 584.09,146.9 \" fill=\"none\" id=\"E3-&gt;E2\" style=\"stroke: #383838; stroke-width: 1.0;\"/><polygon fill=\"#FFFFFF\" points=\"573.37,163.82,577.6195,144.0225,589.448,151.5115,573.37,163.82\" style=\"stroke: #383838; stroke-width: 1.0;\"/><ellipse cx=\"582.3584\" cy=\"140.2764\" fill=\"#383838\" rx=\"2\" ry=\"2\" style=\"stroke: #383838; stroke-width: 1.0;\"/><ellipse cx=\"590.8073\" cy=\"145.6258\" fill=\"#383838\" rx=\"2\" ry=\"2\" style=\"stroke: #383838; stroke-width: 1.0;\"/></a><!--MD5=[ddeed8deb2209213b62e6cfabaa108b2]\n",
       "reverse link E4 to E2--><a href=\"psysml:c5b3d96c-9fe7-4ab4-b771-6776a88b0ad4\" target=\"_top\" title=\"psysml:c5b3d96c-9fe7-4ab4-b771-6776a88b0ad4\" xlink:actuate=\"onRequest\" xlink:href=\"psysml:c5b3d96c-9fe7-4ab4-b771-6776a88b0ad4\" xlink:show=\"new\" xlink:title=\"psysml:c5b3d96c-9fe7-4ab4-b771-6776a88b0ad4\" xlink:type=\"simple\"><path d=\"M519.62,99.96 C524.37,119.25 530.31,143.36 535.36,163.82 \" fill=\"none\" id=\"E4&lt;-E2\" style=\"stroke: #383838; stroke-width: 1.0;\"/><polygon fill=\"#FFFFFF\" points=\"516.47,87.19,514.0229,93.9732,519.3432,98.841,521.7903,92.0577,516.47,87.19\" style=\"stroke: #383838; stroke-width: 1.0;\"/><text fill=\"#000000\" font-family=\"sans-serif\" font-size=\"13\" lengthAdjust=\"spacingAndGlyphs\" textLength=\"8\" x=\"528\" y=\"130.0669\">p</text></a><!--MD5=[fca6b5ca594cf81462d937a088278997]\n",
       "@startuml\r\n",
       "skinparam linetype polyline\r\n",
       "skinparam monochrome true\r\n",
       "skinparam classbackgroundcolor white\r\n",
       "skinparam shadowing false\r\n",
       "skinparam wrapWidth 300\r\n",
       "hide circle\r\n",
       "\r\n",
       "package \"ParameterTest\" as E1  [[psysml:c7000c50-df42-41d3-9ba9-36eed14db093 ]]  {\r\n",
       "comp def \"A\" as E2  <<(T,blue)attribute def>> [[psysml:cb02a2ee-bdc8-478c-9636-92278b567e26 ]] {\r\n",
       "- - attributes - -\r\n",
       "x: String\r\n",
       "y: A\r\n",
       "}\r\n",
       "comp usage \"a: A\" as E3  <<(T,blue)attribute>> [[psysml:50ebccda-29a4-4ea8-943d-69f99c07f732 ]] {\r\n",
       "}\r\n",
       "comp def \"F\" as E4  <<(T,blue)calculation def>> [[psysml:31ea6359-c2ac-42c4-9008-615ad8ad058c ]] {\r\n",
       "}\r\n",
       "comp usage \"f\" as E5  <<(T,blue)attribute>> [[psysml:a5af055b-f2ee-4ef1-a486-dc312f464f3e ]] {\r\n",
       "}\r\n",
       "comp usage \"g\" as E6  <<(T,blue)attribute>> [[psysml:63113e1f-55f0-4199-b954-2673a0b317ed ]] {\r\n",
       "}\r\n",
       "comp usage \"b\" as E7  <<(T,blue)attribute>> [[psysml:537e328f-e5cc-426a-9b09-8cf3e436744c ]] {\r\n",
       "}\r\n",
       "comp usage \"c\" as E8  <<(T,blue)attribute>> [[psysml:2b35c468-a57b-4dfd-a90f-3e1de4d6204b ]] {\r\n",
       "}\r\n",
       "E3 - -:|> E2 [[psysml:50b306d4-0f13-410b-aa85-567dae9acdd8 ]] \r\n",
       "E4 o- - E2 [[psysml:c5b3d96c-9fe7-4ab4-b771-6776a88b0ad4 ]] : p\r\n",
       "}\r\n",
       "@enduml\r\n",
       "\n",
       "PlantUML version 1.2020.13(Sat Jun 13 12:26:38 UTC 2020)\n",
       "(EPL source distribution)\n",
       "Java Runtime: OpenJDK Runtime Environment\n",
       "JVM: OpenJDK 64-Bit Server VM\n",
       "Default Encoding: UTF-8\n",
       "Language: en\n",
       "Country: null\n",
       "--></g></svg>"
      ]
     },
     "execution_count": 10,
     "metadata": {},
     "output_type": "execute_result"
    }
   ],
   "source": [
    "%viz --style=\"POLYLINE\" --view=\"Tree\" \"ParameterTest\""
   ]
  },
  {
   "cell_type": "code",
   "execution_count": 11,
   "id": "sublime-sheriff",
   "metadata": {
    "execution": {
     "iopub.execute_input": "2021-03-25T15:03:10.838119Z",
     "iopub.status.busy": "2021-03-25T15:03:10.835762Z",
     "iopub.status.idle": "2021-03-25T15:03:10.849198Z",
     "shell.execute_reply": "2021-03-25T15:03:10.848848Z"
    }
   },
   "outputs": [
    {
     "data": {
      "image/svg+xml": [
       "<?xml version=\"1.0\" encoding=\"UTF-8\" standalone=\"no\"?><svg xmlns=\"http://www.w3.org/2000/svg\" xmlns:xlink=\"http://www.w3.org/1999/xlink\" contentScriptType=\"application/ecmascript\" contentStyleType=\"text/css\" height=\"12px\" preserveAspectRatio=\"none\" style=\"width:12px;height:12px;\" version=\"1.1\" viewBox=\"0 0 12 12\" width=\"12px\" zoomAndPan=\"magnify\"><defs/><g><!--MD5=[896ac0e7a515d8dd7765a661cb4ee08b]\n",
       "@startuml\r\n",
       "skinparam linetype polyline\r\n",
       "skinparam monochrome true\r\n",
       "skinparam classbackgroundcolor white\r\n",
       "skinparam shadowing false\r\n",
       "skinparam wrapWidth 300\r\n",
       "hide circle\r\n",
       "\r\n",
       "@enduml\r\n",
       "\n",
       "PlantUML version 1.2020.13(Sat Jun 13 12:26:38 UTC 2020)\n",
       "(EPL source distribution)\n",
       "Java Runtime: OpenJDK Runtime Environment\n",
       "JVM: OpenJDK 64-Bit Server VM\n",
       "Default Encoding: UTF-8\n",
       "Language: en\n",
       "Country: null\n",
       "--></g></svg>"
      ]
     },
     "execution_count": 11,
     "metadata": {},
     "output_type": "execute_result"
    }
   ],
   "source": [
    "%viz --style=\"POLYLINE\" --view=\"State\" \"ParameterTest\""
   ]
  },
  {
   "cell_type": "code",
   "execution_count": 12,
   "id": "alert-referral",
   "metadata": {
    "execution": {
     "iopub.execute_input": "2021-03-25T15:03:10.901407Z",
     "iopub.status.busy": "2021-03-25T15:03:10.900877Z",
     "iopub.status.idle": "2021-03-25T15:03:11.015124Z",
     "shell.execute_reply": "2021-03-25T15:03:11.013855Z"
    }
   },
   "outputs": [
    {
     "data": {
      "image/svg+xml": [
       "<?xml version=\"1.0\" encoding=\"UTF-8\" standalone=\"no\"?><svg xmlns=\"http://www.w3.org/2000/svg\" xmlns:xlink=\"http://www.w3.org/1999/xlink\" contentScriptType=\"application/ecmascript\" contentStyleType=\"text/css\" height=\"123px\" preserveAspectRatio=\"none\" style=\"width:960px;height:123px;\" version=\"1.1\" viewBox=\"0 0 960 123\" width=\"960px\" zoomAndPan=\"magnify\"><defs/><g><!--MD5=[fbc87193dbaf4d95561dea2c320d4a47]\n",
       "cluster E1--><a href=\"psysml:c7000c50-df42-41d3-9ba9-36eed14db093\" target=\"_top\" title=\"psysml:c7000c50-df42-41d3-9ba9-36eed14db093\" xlink:actuate=\"onRequest\" xlink:href=\"psysml:c7000c50-df42-41d3-9ba9-36eed14db093\" xlink:show=\"new\" xlink:title=\"psysml:c7000c50-df42-41d3-9ba9-36eed14db093\" xlink:type=\"simple\"><polygon fill=\"#FFFFFF\" points=\"16,6,139,6,146,28.2969,938,28.2969,938,111,16,111,16,6\" style=\"stroke: #000000; stroke-width: 1.5;\"/><line style=\"stroke: #000000; stroke-width: 1.5;\" x1=\"16\" x2=\"146\" y1=\"28.2969\" y2=\"28.2969\"/><text fill=\"#000000\" font-family=\"sans-serif\" font-size=\"14\" font-weight=\"bold\" lengthAdjust=\"spacingAndGlyphs\" textLength=\"117\" x=\"20\" y=\"20.9951\">ParameterTest</text></a><!--MD5=[b4997ac47864f28c2f74865a473b2911]\n",
       "class E2--><a href=\"psysml:cb02a2ee-bdc8-478c-9636-92278b567e26\" target=\"_top\" title=\"psysml:cb02a2ee-bdc8-478c-9636-92278b567e26\" xlink:actuate=\"onRequest\" xlink:href=\"psysml:cb02a2ee-bdc8-478c-9636-92278b567e26\" xlink:show=\"new\" xlink:title=\"psysml:cb02a2ee-bdc8-478c-9636-92278b567e26\" xlink:type=\"simple\"><rect fill=\"#FFFFFF\" height=\"53.9375\" id=\"E2\" style=\"stroke: #383838; stroke-width: 1.5;\" width=\"143\" x=\"778.5\" y=\"41\"/><text fill=\"#000000\" font-family=\"sans-serif\" font-size=\"12\" font-style=\"italic\" lengthAdjust=\"spacingAndGlyphs\" textLength=\"141\" x=\"779.5\" y=\"57.1387\">«(T,blue)attribute def»</text><text fill=\"#000000\" font-family=\"sans-serif\" font-size=\"12\" lengthAdjust=\"spacingAndGlyphs\" textLength=\"8\" x=\"846\" y=\"71.1074\">A</text><line style=\"stroke: #383838; stroke-width: 1.5;\" x1=\"779.5\" x2=\"920.5\" y1=\"78.9375\" y2=\"78.9375\"/><line style=\"stroke: #383838; stroke-width: 1.5;\" x1=\"779.5\" x2=\"920.5\" y1=\"86.9375\" y2=\"86.9375\"/></a><!--MD5=[ebbe1d658d1005bcc118a6aa81145e00]\n",
       "class E4--><a href=\"psysml:31ea6359-c2ac-42c4-9008-615ad8ad058c\" target=\"_top\" title=\"psysml:31ea6359-c2ac-42c4-9008-615ad8ad058c\" xlink:actuate=\"onRequest\" xlink:href=\"psysml:31ea6359-c2ac-42c4-9008-615ad8ad058c\" xlink:show=\"new\" xlink:title=\"psysml:31ea6359-c2ac-42c4-9008-615ad8ad058c\" xlink:type=\"simple\"><rect fill=\"#FFFFFF\" height=\"53.9375\" id=\"E4\" style=\"stroke: #383838; stroke-width: 1.5;\" width=\"156\" x=\"587\" y=\"41\"/><text fill=\"#000000\" font-family=\"sans-serif\" font-size=\"12\" font-style=\"italic\" lengthAdjust=\"spacingAndGlyphs\" textLength=\"154\" x=\"588\" y=\"57.1387\">«(T,blue)calculation def»</text><text fill=\"#000000\" font-family=\"sans-serif\" font-size=\"12\" lengthAdjust=\"spacingAndGlyphs\" textLength=\"7\" x=\"661.5\" y=\"71.1074\">F</text><line style=\"stroke: #383838; stroke-width: 1.5;\" x1=\"588\" x2=\"742\" y1=\"78.9375\" y2=\"78.9375\"/><line style=\"stroke: #383838; stroke-width: 1.5;\" x1=\"588\" x2=\"742\" y1=\"86.9375\" y2=\"86.9375\"/></a><g id=\"E1.E3\"><a href=\"psysml:50ebccda-29a4-4ea8-943d-69f99c07f732\" target=\"_top\" title=\"psysml:50ebccda-29a4-4ea8-943d-69f99c07f732\" xlink:actuate=\"onRequest\" xlink:href=\"psysml:50ebccda-29a4-4ea8-943d-69f99c07f732\" xlink:show=\"new\" xlink:title=\"psysml:50ebccda-29a4-4ea8-943d-69f99c07f732\" xlink:type=\"simple\"><rect fill=\"#FFFFFF\" height=\"42.9375\" id=\"E3\" rx=\"10\" ry=\"10\" style=\"stroke: #383838; stroke-width: 1.5;\" width=\"76\" x=\"476\" y=\"46.5\"/><rect fill=\"#F8F8F8\" height=\"37.9375\" rx=\"10\" ry=\"10\" style=\"stroke: #F8F8F8; stroke-width: 1.5;\" width=\"76\" x=\"476\" y=\"46.5\"/><rect fill=\"#F8F8F8\" height=\"10\" style=\"stroke: #F8F8F8; stroke-width: 1.5;\" width=\"76\" x=\"476\" y=\"74.4375\"/><rect fill=\"none\" height=\"42.9375\" id=\"E3\" rx=\"10\" ry=\"10\" style=\"stroke: #383838; stroke-width: 1.5;\" width=\"76\" x=\"476\" y=\"46.5\"/><text fill=\"#000000\" font-family=\"sans-serif\" font-size=\"12\" font-style=\"italic\" lengthAdjust=\"spacingAndGlyphs\" textLength=\"69\" x=\"479.5\" y=\"62.6387\">«attribute»</text><text fill=\"#000000\" font-family=\"sans-serif\" font-size=\"12\" lengthAdjust=\"spacingAndGlyphs\" textLength=\"24\" x=\"502\" y=\"76.6074\">a: A</text></a></g><g id=\"E1.E5\"><a href=\"psysml:a5af055b-f2ee-4ef1-a486-dc312f464f3e\" target=\"_top\" title=\"psysml:a5af055b-f2ee-4ef1-a486-dc312f464f3e\" xlink:actuate=\"onRequest\" xlink:href=\"psysml:a5af055b-f2ee-4ef1-a486-dc312f464f3e\" xlink:show=\"new\" xlink:title=\"psysml:a5af055b-f2ee-4ef1-a486-dc312f464f3e\" xlink:type=\"simple\"><rect fill=\"#FFFFFF\" height=\"42.9375\" id=\"E5\" rx=\"10\" ry=\"10\" style=\"stroke: #383838; stroke-width: 1.5;\" width=\"76\" x=\"365\" y=\"46.5\"/><rect fill=\"#F8F8F8\" height=\"37.9375\" rx=\"10\" ry=\"10\" style=\"stroke: #F8F8F8; stroke-width: 1.5;\" width=\"76\" x=\"365\" y=\"46.5\"/><rect fill=\"#F8F8F8\" height=\"10\" style=\"stroke: #F8F8F8; stroke-width: 1.5;\" width=\"76\" x=\"365\" y=\"74.4375\"/><rect fill=\"none\" height=\"42.9375\" id=\"E5\" rx=\"10\" ry=\"10\" style=\"stroke: #383838; stroke-width: 1.5;\" width=\"76\" x=\"365\" y=\"46.5\"/><text fill=\"#000000\" font-family=\"sans-serif\" font-size=\"12\" font-style=\"italic\" lengthAdjust=\"spacingAndGlyphs\" textLength=\"69\" x=\"368.5\" y=\"62.6387\">«attribute»</text><text fill=\"#000000\" font-family=\"sans-serif\" font-size=\"12\" lengthAdjust=\"spacingAndGlyphs\" textLength=\"4\" x=\"401\" y=\"76.6074\">f</text></a></g><g id=\"E1.E6\"><a href=\"psysml:63113e1f-55f0-4199-b954-2673a0b317ed\" target=\"_top\" title=\"psysml:63113e1f-55f0-4199-b954-2673a0b317ed\" xlink:actuate=\"onRequest\" xlink:href=\"psysml:63113e1f-55f0-4199-b954-2673a0b317ed\" xlink:show=\"new\" xlink:title=\"psysml:63113e1f-55f0-4199-b954-2673a0b317ed\" xlink:type=\"simple\"><rect fill=\"#FFFFFF\" height=\"42.9375\" id=\"E6\" rx=\"10\" ry=\"10\" style=\"stroke: #383838; stroke-width: 1.5;\" width=\"76\" x=\"254\" y=\"46.5\"/><rect fill=\"#F8F8F8\" height=\"37.9375\" rx=\"10\" ry=\"10\" style=\"stroke: #F8F8F8; stroke-width: 1.5;\" width=\"76\" x=\"254\" y=\"46.5\"/><rect fill=\"#F8F8F8\" height=\"10\" style=\"stroke: #F8F8F8; stroke-width: 1.5;\" width=\"76\" x=\"254\" y=\"74.4375\"/><rect fill=\"none\" height=\"42.9375\" id=\"E6\" rx=\"10\" ry=\"10\" style=\"stroke: #383838; stroke-width: 1.5;\" width=\"76\" x=\"254\" y=\"46.5\"/><text fill=\"#000000\" font-family=\"sans-serif\" font-size=\"12\" font-style=\"italic\" lengthAdjust=\"spacingAndGlyphs\" textLength=\"69\" x=\"257.5\" y=\"62.6387\">«attribute»</text><text fill=\"#000000\" font-family=\"sans-serif\" font-size=\"12\" lengthAdjust=\"spacingAndGlyphs\" textLength=\"8\" x=\"288\" y=\"76.6074\">g</text></a></g><g id=\"E1.E7\"><a href=\"psysml:537e328f-e5cc-426a-9b09-8cf3e436744c\" target=\"_top\" title=\"psysml:537e328f-e5cc-426a-9b09-8cf3e436744c\" xlink:actuate=\"onRequest\" xlink:href=\"psysml:537e328f-e5cc-426a-9b09-8cf3e436744c\" xlink:show=\"new\" xlink:title=\"psysml:537e328f-e5cc-426a-9b09-8cf3e436744c\" xlink:type=\"simple\"><rect fill=\"#FFFFFF\" height=\"42.9375\" id=\"E7\" rx=\"10\" ry=\"10\" style=\"stroke: #383838; stroke-width: 1.5;\" width=\"76\" x=\"143\" y=\"46.5\"/><rect fill=\"#F8F8F8\" height=\"37.9375\" rx=\"10\" ry=\"10\" style=\"stroke: #F8F8F8; stroke-width: 1.5;\" width=\"76\" x=\"143\" y=\"46.5\"/><rect fill=\"#F8F8F8\" height=\"10\" style=\"stroke: #F8F8F8; stroke-width: 1.5;\" width=\"76\" x=\"143\" y=\"74.4375\"/><rect fill=\"none\" height=\"42.9375\" id=\"E7\" rx=\"10\" ry=\"10\" style=\"stroke: #383838; stroke-width: 1.5;\" width=\"76\" x=\"143\" y=\"46.5\"/><text fill=\"#000000\" font-family=\"sans-serif\" font-size=\"12\" font-style=\"italic\" lengthAdjust=\"spacingAndGlyphs\" textLength=\"69\" x=\"146.5\" y=\"62.6387\">«attribute»</text><text fill=\"#000000\" font-family=\"sans-serif\" font-size=\"12\" lengthAdjust=\"spacingAndGlyphs\" textLength=\"8\" x=\"177\" y=\"76.6074\">b</text></a></g><g id=\"E1.E8\"><a href=\"psysml:2b35c468-a57b-4dfd-a90f-3e1de4d6204b\" target=\"_top\" title=\"psysml:2b35c468-a57b-4dfd-a90f-3e1de4d6204b\" xlink:actuate=\"onRequest\" xlink:href=\"psysml:2b35c468-a57b-4dfd-a90f-3e1de4d6204b\" xlink:show=\"new\" xlink:title=\"psysml:2b35c468-a57b-4dfd-a90f-3e1de4d6204b\" xlink:type=\"simple\"><rect fill=\"#FFFFFF\" height=\"42.9375\" id=\"E8\" rx=\"10\" ry=\"10\" style=\"stroke: #383838; stroke-width: 1.5;\" width=\"76\" x=\"32\" y=\"46.5\"/><rect fill=\"#F8F8F8\" height=\"37.9375\" rx=\"10\" ry=\"10\" style=\"stroke: #F8F8F8; stroke-width: 1.5;\" width=\"76\" x=\"32\" y=\"46.5\"/><rect fill=\"#F8F8F8\" height=\"10\" style=\"stroke: #F8F8F8; stroke-width: 1.5;\" width=\"76\" x=\"32\" y=\"74.4375\"/><rect fill=\"none\" height=\"42.9375\" id=\"E8\" rx=\"10\" ry=\"10\" style=\"stroke: #383838; stroke-width: 1.5;\" width=\"76\" x=\"32\" y=\"46.5\"/><text fill=\"#000000\" font-family=\"sans-serif\" font-size=\"12\" font-style=\"italic\" lengthAdjust=\"spacingAndGlyphs\" textLength=\"69\" x=\"35.5\" y=\"62.6387\">«attribute»</text><text fill=\"#000000\" font-family=\"sans-serif\" font-size=\"12\" lengthAdjust=\"spacingAndGlyphs\" textLength=\"7\" x=\"66.5\" y=\"76.6074\">c</text></a></g><!--MD5=[5a4ae7624105ef8bdd2b15c08cfa17c9]\n",
       "@startuml\r\n",
       "skinparam ranksep 8\r\n",
       "skinparam rectangle {\r\n",
       " backgroundColor<<block>> LightGreen\r\n",
       "}\r\n",
       "skinparam linetype polyline\r\n",
       "skinparam monochrome true\r\n",
       "skinparam classbackgroundcolor white\r\n",
       "skinparam shadowing false\r\n",
       "skinparam wrapWidth 300\r\n",
       "hide circle\r\n",
       "\r\n",
       "package \"ParameterTest\" as E1  [[psysml:c7000c50-df42-41d3-9ba9-36eed14db093 ]]  {\r\n",
       "def \"A\" as E2  <<(T,blue)attribute def>> [[psysml:cb02a2ee-bdc8-478c-9636-92278b567e26 ]] \r\n",
       "rec usage \"a: A\" as E3  <<(T,blue)attribute>> [[psysml:50ebccda-29a4-4ea8-943d-69f99c07f732 ]] {\r\n",
       "}\r\n",
       "def \"F\" as E4  <<(T,blue)calculation def>> [[psysml:31ea6359-c2ac-42c4-9008-615ad8ad058c ]] \r\n",
       "rec usage \"f\" as E5  <<(T,blue)attribute>> [[psysml:a5af055b-f2ee-4ef1-a486-dc312f464f3e ]] {\r\n",
       "}\r\n",
       "rec usage \"g\" as E6  <<(T,blue)attribute>> [[psysml:63113e1f-55f0-4199-b954-2673a0b317ed ]] {\r\n",
       "}\r\n",
       "rec usage \"b\" as E7  <<(T,blue)attribute>> [[psysml:537e328f-e5cc-426a-9b09-8cf3e436744c ]] {\r\n",
       "}\r\n",
       "rec usage \"c\" as E8  <<(T,blue)attribute>> [[psysml:2b35c468-a57b-4dfd-a90f-3e1de4d6204b ]] {\r\n",
       "}\r\n",
       "}\r\n",
       "@enduml\r\n",
       "\n",
       "PlantUML version 1.2020.13(Sat Jun 13 12:26:38 UTC 2020)\n",
       "(EPL source distribution)\n",
       "Java Runtime: OpenJDK Runtime Environment\n",
       "JVM: OpenJDK 64-Bit Server VM\n",
       "Default Encoding: UTF-8\n",
       "Language: en\n",
       "Country: null\n",
       "--></g></svg>"
      ]
     },
     "execution_count": 12,
     "metadata": {},
     "output_type": "execute_result"
    }
   ],
   "source": [
    "%viz --style=\"POLYLINE\" --view=\"Interconnection\" \"ParameterTest\""
   ]
  },
  {
   "cell_type": "code",
   "execution_count": 13,
   "id": "qualified-bride",
   "metadata": {
    "execution": {
     "iopub.execute_input": "2021-03-25T15:03:11.066179Z",
     "iopub.status.busy": "2021-03-25T15:03:11.065626Z",
     "iopub.status.idle": "2021-03-25T15:03:11.136240Z",
     "shell.execute_reply": "2021-03-25T15:03:11.135859Z"
    }
   },
   "outputs": [
    {
     "data": {
      "image/svg+xml": [
       "<?xml version=\"1.0\" encoding=\"UTF-8\" standalone=\"no\"?><svg xmlns=\"http://www.w3.org/2000/svg\" xmlns:xlink=\"http://www.w3.org/1999/xlink\" contentScriptType=\"application/ecmascript\" contentStyleType=\"text/css\" height=\"126px\" preserveAspectRatio=\"none\" style=\"width:166px;height:126px;\" version=\"1.1\" viewBox=\"0 0 166 126\" width=\"166px\" zoomAndPan=\"magnify\"><defs/><g><!--MD5=[fbc87193dbaf4d95561dea2c320d4a47]\n",
       "cluster E1--><a href=\"psysml:31ea6359-c2ac-42c4-9008-615ad8ad058c\" target=\"_top\" title=\"psysml:31ea6359-c2ac-42c4-9008-615ad8ad058c\" xlink:actuate=\"onRequest\" xlink:href=\"psysml:31ea6359-c2ac-42c4-9008-615ad8ad058c\" xlink:show=\"new\" xlink:title=\"psysml:31ea6359-c2ac-42c4-9008-615ad8ad058c\" xlink:type=\"simple\"><rect fill=\"#FFFFFF\" height=\"73\" id=\"E1\" style=\"stroke: #383838; stroke-width: 1.5;\" width=\"148\" x=\"7\" y=\"42.0986\"/><rect fill=\"#F8F8F8\" height=\"37.9375\" style=\"stroke: #383838; stroke-width: 1.5;\" width=\"148\" x=\"7\" y=\"42.0986\"/><text fill=\"#000000\" font-family=\"sans-serif\" font-size=\"12\" font-style=\"italic\" lengthAdjust=\"spacingAndGlyphs\" textLength=\"106\" x=\"28\" y=\"58.2373\">«calculation def»</text><text fill=\"#000000\" font-family=\"sans-serif\" font-size=\"12\" lengthAdjust=\"spacingAndGlyphs\" textLength=\"7\" x=\"77.5\" y=\"72.2061\">F</text></a><text fill=\"#000000\" font-family=\"sans-serif\" font-size=\"14\" lengthAdjust=\"spacingAndGlyphs\" textLength=\"9\" x=\"20.5\" y=\"20.7969\">p</text><rect fill=\"#383838\" height=\"12\" style=\"stroke: #F8F8F8; stroke-width: 1.5;\" width=\"12\" x=\"19\" y=\"36.0986\"/><text fill=\"#000000\" font-family=\"sans-serif\" font-size=\"14\" lengthAdjust=\"spacingAndGlyphs\" textLength=\"9\" x=\"67.5\" y=\"20.7969\">q</text><rect fill=\"#383838\" height=\"12\" style=\"stroke: #F8F8F8; stroke-width: 1.5;\" width=\"12\" x=\"66\" y=\"36.0986\"/><!--MD5=[9c288c2297aa773c1aedf2e316f83f72]\n",
       "@startuml\r\n",
       "skinparam ranksep 8\r\n",
       "skinparam linetype polyline\r\n",
       "skinparam monochrome true\r\n",
       "skinparam classbackgroundcolor white\r\n",
       "skinparam shadowing false\r\n",
       "skinparam wrapWidth 300\r\n",
       "hide circle\r\n",
       "\r\n",
       "rec def \"F\" as E1  <<(T,blue)calculation def>> [[psysml:31ea6359-c2ac-42c4-9008-615ad8ad058c ]] {\r\n",
       "portin \"p\" as E2  [[psysml:c5b3d96c-9fe7-4ab4-b771-6776a88b0ad4 ]] \r\n",
       "portin \"q\" as E3  [[psysml:66adf659-8704-40ab-88b3-19d2477512b1 ]] \r\n",
       "}\r\n",
       "\r\n",
       "@enduml\r\n",
       "\n",
       "PlantUML version 1.2020.13(Sat Jun 13 12:26:38 UTC 2020)\n",
       "(EPL source distribution)\n",
       "Java Runtime: OpenJDK Runtime Environment\n",
       "JVM: OpenJDK 64-Bit Server VM\n",
       "Default Encoding: UTF-8\n",
       "Language: en\n",
       "Country: null\n",
       "--></g></svg>"
      ]
     },
     "execution_count": 13,
     "metadata": {},
     "output_type": "execute_result"
    }
   ],
   "source": [
    "%viz --style=\"POLYLINE\" --view=\"Action\" \"ParameterTest\""
   ]
  },
  {
   "cell_type": "code",
   "execution_count": 14,
   "id": "satellite-shell",
   "metadata": {
    "execution": {
     "iopub.execute_input": "2021-03-25T15:03:11.186655Z",
     "iopub.status.busy": "2021-03-25T15:03:11.186113Z",
     "iopub.status.idle": "2021-03-25T15:03:11.470440Z",
     "shell.execute_reply": "2021-03-25T15:03:11.470817Z"
    }
   },
   "outputs": [
    {
     "data": {
      "image/svg+xml": [
       "<?xml version=\"1.0\" encoding=\"UTF-8\" standalone=\"no\"?><svg xmlns=\"http://www.w3.org/2000/svg\" xmlns:xlink=\"http://www.w3.org/1999/xlink\" contentScriptType=\"application/ecmascript\" contentStyleType=\"text/css\" height=\"280px\" preserveAspectRatio=\"none\" style=\"width:710px;height:280px;\" version=\"1.1\" viewBox=\"0 0 710 280\" width=\"710px\" zoomAndPan=\"magnify\"><defs/><g><!--MD5=[fbc87193dbaf4d95561dea2c320d4a47]\n",
       "cluster E1--><a href=\"psysml:c7000c50-df42-41d3-9ba9-36eed14db093\" target=\"_top\" title=\"psysml:c7000c50-df42-41d3-9ba9-36eed14db093\" xlink:actuate=\"onRequest\" xlink:href=\"psysml:c7000c50-df42-41d3-9ba9-36eed14db093\" xlink:show=\"new\" xlink:title=\"psysml:c7000c50-df42-41d3-9ba9-36eed14db093\" xlink:type=\"simple\"><polygon fill=\"#FFFFFF\" points=\"16,6,139,6,146,28.2969,688,28.2969,688,268,16,268,16,6\" style=\"stroke: #000000; stroke-width: 1.5;\"/><line style=\"stroke: #000000; stroke-width: 1.5;\" x1=\"16\" x2=\"146\" y1=\"28.2969\" y2=\"28.2969\"/><text fill=\"#000000\" font-family=\"sans-serif\" font-size=\"14\" font-weight=\"bold\" lengthAdjust=\"spacingAndGlyphs\" textLength=\"117\" x=\"20\" y=\"20.9951\">ParameterTest</text></a><!--MD5=[b4997ac47864f28c2f74865a473b2911]\n",
       "class E2--><a href=\"psysml:cb02a2ee-bdc8-478c-9636-92278b567e26\" target=\"_top\" title=\"psysml:cb02a2ee-bdc8-478c-9636-92278b567e26\" xlink:actuate=\"onRequest\" xlink:href=\"psysml:cb02a2ee-bdc8-478c-9636-92278b567e26\" xlink:show=\"new\" xlink:title=\"psysml:cb02a2ee-bdc8-478c-9636-92278b567e26\" xlink:type=\"simple\"><rect fill=\"#FFFFFF\" height=\"88.3516\" id=\"E2\" style=\"stroke: #383838; stroke-width: 1.5;\" width=\"95\" x=\"498.5\" y=\"164\"/><text fill=\"#000000\" font-family=\"sans-serif\" font-size=\"12\" font-style=\"italic\" lengthAdjust=\"spacingAndGlyphs\" textLength=\"93\" x=\"499.5\" y=\"180.1387\">«attribute def»</text><text fill=\"#000000\" font-family=\"sans-serif\" font-size=\"12\" lengthAdjust=\"spacingAndGlyphs\" textLength=\"8\" x=\"542\" y=\"194.1074\">A</text><line style=\"stroke: #383838; stroke-width: 1.5;\" x1=\"499.5\" x2=\"592.5\" y1=\"201.9375\" y2=\"201.9375\"/><text fill=\"#000000\" font-family=\"sans-serif\" font-size=\"11\" lengthAdjust=\"spacingAndGlyphs\" textLength=\"48\" x=\"504.5\" y=\"232.9526\">x: String</text><text fill=\"#000000\" font-family=\"sans-serif\" font-size=\"11\" lengthAdjust=\"spacingAndGlyphs\" textLength=\"21\" x=\"504.5\" y=\"245.7573\">y: A</text><line style=\"stroke: #383838; stroke-width: 1.0;\" x1=\"499.5\" x2=\"518.5\" y1=\"216.3398\" y2=\"216.3398\"/><text fill=\"#000000\" font-family=\"sans-serif\" font-size=\"11\" lengthAdjust=\"spacingAndGlyphs\" textLength=\"55\" x=\"518.5\" y=\"219.6479\">attributes</text><line style=\"stroke: #383838; stroke-width: 1.0;\" x1=\"573.5\" x2=\"592.5\" y1=\"216.3398\" y2=\"216.3398\"/></a><!--MD5=[09b614a08d8cba4a07c9adeb5e0fee81]\n",
       "class E3--><a href=\"psysml:50ebccda-29a4-4ea8-943d-69f99c07f732\" target=\"_top\" title=\"psysml:50ebccda-29a4-4ea8-943d-69f99c07f732\" xlink:actuate=\"onRequest\" xlink:href=\"psysml:50ebccda-29a4-4ea8-943d-69f99c07f732\" xlink:show=\"new\" xlink:title=\"psysml:50ebccda-29a4-4ea8-943d-69f99c07f732\" xlink:type=\"simple\"><rect fill=\"#FFFFFF\" height=\"45.9375\" id=\"E3\" rx=\"10\" ry=\"10\" style=\"stroke: #383838; stroke-width: 1.5;\" width=\"71\" x=\"600.5\" y=\"41\"/><text fill=\"#000000\" font-family=\"sans-serif\" font-size=\"12\" font-style=\"italic\" lengthAdjust=\"spacingAndGlyphs\" textLength=\"69\" x=\"601.5\" y=\"57.1387\">«attribute»</text><text fill=\"#000000\" font-family=\"sans-serif\" font-size=\"12\" lengthAdjust=\"spacingAndGlyphs\" textLength=\"24\" x=\"624\" y=\"71.1074\">a: A</text><line style=\"stroke: #383838; stroke-width: 1.5;\" x1=\"601.5\" x2=\"670.5\" y1=\"78.9375\" y2=\"78.9375\"/></a><!--MD5=[ebbe1d658d1005bcc118a6aa81145e00]\n",
       "class E4--><a href=\"psysml:31ea6359-c2ac-42c4-9008-615ad8ad058c\" target=\"_top\" title=\"psysml:31ea6359-c2ac-42c4-9008-615ad8ad058c\" xlink:actuate=\"onRequest\" xlink:href=\"psysml:31ea6359-c2ac-42c4-9008-615ad8ad058c\" xlink:show=\"new\" xlink:title=\"psysml:31ea6359-c2ac-42c4-9008-615ad8ad058c\" xlink:type=\"simple\"><rect fill=\"#FFFFFF\" height=\"45.9375\" id=\"E4\" style=\"stroke: #383838; stroke-width: 1.5;\" width=\"108\" x=\"457\" y=\"41\"/><text fill=\"#000000\" font-family=\"sans-serif\" font-size=\"12\" font-style=\"italic\" lengthAdjust=\"spacingAndGlyphs\" textLength=\"106\" x=\"458\" y=\"57.1387\">«calculation def»</text><text fill=\"#000000\" font-family=\"sans-serif\" font-size=\"12\" lengthAdjust=\"spacingAndGlyphs\" textLength=\"7\" x=\"507.5\" y=\"71.1074\">F</text><line style=\"stroke: #383838; stroke-width: 1.5;\" x1=\"458\" x2=\"564\" y1=\"78.9375\" y2=\"78.9375\"/></a><!--MD5=[270fce915f116d4de14055a7c1d9a0f3]\n",
       "class E5--><a href=\"psysml:a5af055b-f2ee-4ef1-a486-dc312f464f3e\" target=\"_top\" title=\"psysml:a5af055b-f2ee-4ef1-a486-dc312f464f3e\" xlink:actuate=\"onRequest\" xlink:href=\"psysml:a5af055b-f2ee-4ef1-a486-dc312f464f3e\" xlink:show=\"new\" xlink:title=\"psysml:a5af055b-f2ee-4ef1-a486-dc312f464f3e\" xlink:type=\"simple\"><rect fill=\"#FFFFFF\" height=\"45.9375\" id=\"E5\" rx=\"10\" ry=\"10\" style=\"stroke: #383838; stroke-width: 1.5;\" width=\"71\" x=\"350.5\" y=\"41\"/><text fill=\"#000000\" font-family=\"sans-serif\" font-size=\"12\" font-style=\"italic\" lengthAdjust=\"spacingAndGlyphs\" textLength=\"69\" x=\"351.5\" y=\"57.1387\">«attribute»</text><text fill=\"#000000\" font-family=\"sans-serif\" font-size=\"12\" lengthAdjust=\"spacingAndGlyphs\" textLength=\"4\" x=\"384\" y=\"71.1074\">f</text><line style=\"stroke: #383838; stroke-width: 1.5;\" x1=\"351.5\" x2=\"420.5\" y1=\"78.9375\" y2=\"78.9375\"/></a><!--MD5=[60a26617385b1d2d0262a64233df1f8d]\n",
       "class E6--><a href=\"psysml:63113e1f-55f0-4199-b954-2673a0b317ed\" target=\"_top\" title=\"psysml:63113e1f-55f0-4199-b954-2673a0b317ed\" xlink:actuate=\"onRequest\" xlink:href=\"psysml:63113e1f-55f0-4199-b954-2673a0b317ed\" xlink:show=\"new\" xlink:title=\"psysml:63113e1f-55f0-4199-b954-2673a0b317ed\" xlink:type=\"simple\"><rect fill=\"#FFFFFF\" height=\"45.9375\" id=\"E6\" rx=\"10\" ry=\"10\" style=\"stroke: #383838; stroke-width: 1.5;\" width=\"71\" x=\"244.5\" y=\"41\"/><text fill=\"#000000\" font-family=\"sans-serif\" font-size=\"12\" font-style=\"italic\" lengthAdjust=\"spacingAndGlyphs\" textLength=\"69\" x=\"245.5\" y=\"57.1387\">«attribute»</text><text fill=\"#000000\" font-family=\"sans-serif\" font-size=\"12\" lengthAdjust=\"spacingAndGlyphs\" textLength=\"8\" x=\"276\" y=\"71.1074\">g</text><line style=\"stroke: #383838; stroke-width: 1.5;\" x1=\"245.5\" x2=\"314.5\" y1=\"78.9375\" y2=\"78.9375\"/></a><!--MD5=[2156ba9850f5573cc1fc38a6a4b2f02b]\n",
       "class E7--><a href=\"psysml:537e328f-e5cc-426a-9b09-8cf3e436744c\" target=\"_top\" title=\"psysml:537e328f-e5cc-426a-9b09-8cf3e436744c\" xlink:actuate=\"onRequest\" xlink:href=\"psysml:537e328f-e5cc-426a-9b09-8cf3e436744c\" xlink:show=\"new\" xlink:title=\"psysml:537e328f-e5cc-426a-9b09-8cf3e436744c\" xlink:type=\"simple\"><rect fill=\"#FFFFFF\" height=\"45.9375\" id=\"E7\" rx=\"10\" ry=\"10\" style=\"stroke: #383838; stroke-width: 1.5;\" width=\"71\" x=\"138.5\" y=\"41\"/><text fill=\"#000000\" font-family=\"sans-serif\" font-size=\"12\" font-style=\"italic\" lengthAdjust=\"spacingAndGlyphs\" textLength=\"69\" x=\"139.5\" y=\"57.1387\">«attribute»</text><text fill=\"#000000\" font-family=\"sans-serif\" font-size=\"12\" lengthAdjust=\"spacingAndGlyphs\" textLength=\"8\" x=\"170\" y=\"71.1074\">b</text><line style=\"stroke: #383838; stroke-width: 1.5;\" x1=\"139.5\" x2=\"208.5\" y1=\"78.9375\" y2=\"78.9375\"/></a><!--MD5=[b9389687b975829384b498ac4b7476b2]\n",
       "class E8--><a href=\"psysml:2b35c468-a57b-4dfd-a90f-3e1de4d6204b\" target=\"_top\" title=\"psysml:2b35c468-a57b-4dfd-a90f-3e1de4d6204b\" xlink:actuate=\"onRequest\" xlink:href=\"psysml:2b35c468-a57b-4dfd-a90f-3e1de4d6204b\" xlink:show=\"new\" xlink:title=\"psysml:2b35c468-a57b-4dfd-a90f-3e1de4d6204b\" xlink:type=\"simple\"><rect fill=\"#FFFFFF\" height=\"45.9375\" id=\"E8\" rx=\"10\" ry=\"10\" style=\"stroke: #383838; stroke-width: 1.5;\" width=\"71\" x=\"32.5\" y=\"41\"/><text fill=\"#000000\" font-family=\"sans-serif\" font-size=\"12\" font-style=\"italic\" lengthAdjust=\"spacingAndGlyphs\" textLength=\"69\" x=\"33.5\" y=\"57.1387\">«attribute»</text><text fill=\"#000000\" font-family=\"sans-serif\" font-size=\"12\" lengthAdjust=\"spacingAndGlyphs\" textLength=\"7\" x=\"64.5\" y=\"71.1074\">c</text><line style=\"stroke: #383838; stroke-width: 1.5;\" x1=\"33.5\" x2=\"102.5\" y1=\"78.9375\" y2=\"78.9375\"/></a><!--MD5=[05d275557350bfb9b23a4ef7222b4c39]\n",
       "link E3 to E2--><a href=\"psysml:50b306d4-0f13-410b-aa85-567dae9acdd8\" target=\"_top\" title=\"psysml:50b306d4-0f13-410b-aa85-567dae9acdd8\" xlink:actuate=\"onRequest\" xlink:href=\"psysml:50b306d4-0f13-410b-aa85-567dae9acdd8\" xlink:show=\"new\" xlink:title=\"psysml:50b306d4-0f13-410b-aa85-567dae9acdd8\" xlink:type=\"simple\"><path d=\"M621.94,87.19 C611.77,103.23 597.51,125.73 584.09,146.9 \" fill=\"none\" id=\"E3-&gt;E2\" style=\"stroke: #383838; stroke-width: 1.0;\"/><polygon fill=\"#FFFFFF\" points=\"573.37,163.82,577.6195,144.0225,589.448,151.5115,573.37,163.82\" style=\"stroke: #383838; stroke-width: 1.0;\"/><ellipse cx=\"582.3584\" cy=\"140.2764\" fill=\"#383838\" rx=\"2\" ry=\"2\" style=\"stroke: #383838; stroke-width: 1.0;\"/><ellipse cx=\"590.8073\" cy=\"145.6258\" fill=\"#383838\" rx=\"2\" ry=\"2\" style=\"stroke: #383838; stroke-width: 1.0;\"/></a><!--MD5=[ddeed8deb2209213b62e6cfabaa108b2]\n",
       "reverse link E4 to E2--><a href=\"psysml:c5b3d96c-9fe7-4ab4-b771-6776a88b0ad4\" target=\"_top\" title=\"psysml:c5b3d96c-9fe7-4ab4-b771-6776a88b0ad4\" xlink:actuate=\"onRequest\" xlink:href=\"psysml:c5b3d96c-9fe7-4ab4-b771-6776a88b0ad4\" xlink:show=\"new\" xlink:title=\"psysml:c5b3d96c-9fe7-4ab4-b771-6776a88b0ad4\" xlink:type=\"simple\"><path d=\"M519.62,99.96 C524.37,119.25 530.31,143.36 535.36,163.82 \" fill=\"none\" id=\"E4&lt;-E2\" style=\"stroke: #383838; stroke-width: 1.0;\"/><polygon fill=\"#FFFFFF\" points=\"516.47,87.19,514.0229,93.9732,519.3432,98.841,521.7903,92.0577,516.47,87.19\" style=\"stroke: #383838; stroke-width: 1.0;\"/><text fill=\"#000000\" font-family=\"sans-serif\" font-size=\"13\" lengthAdjust=\"spacingAndGlyphs\" textLength=\"8\" x=\"528\" y=\"130.0669\">p</text></a><!--MD5=[fca6b5ca594cf81462d937a088278997]\n",
       "@startuml\r\n",
       "skinparam linetype polyline\r\n",
       "skinparam monochrome true\r\n",
       "skinparam classbackgroundcolor white\r\n",
       "skinparam shadowing false\r\n",
       "skinparam wrapWidth 300\r\n",
       "hide circle\r\n",
       "\r\n",
       "package \"ParameterTest\" as E1  [[psysml:c7000c50-df42-41d3-9ba9-36eed14db093 ]]  {\r\n",
       "comp def \"A\" as E2  <<(T,blue)attribute def>> [[psysml:cb02a2ee-bdc8-478c-9636-92278b567e26 ]] {\r\n",
       "- - attributes - -\r\n",
       "x: String\r\n",
       "y: A\r\n",
       "}\r\n",
       "comp usage \"a: A\" as E3  <<(T,blue)attribute>> [[psysml:50ebccda-29a4-4ea8-943d-69f99c07f732 ]] {\r\n",
       "}\r\n",
       "comp def \"F\" as E4  <<(T,blue)calculation def>> [[psysml:31ea6359-c2ac-42c4-9008-615ad8ad058c ]] {\r\n",
       "}\r\n",
       "comp usage \"f\" as E5  <<(T,blue)attribute>> [[psysml:a5af055b-f2ee-4ef1-a486-dc312f464f3e ]] {\r\n",
       "}\r\n",
       "comp usage \"g\" as E6  <<(T,blue)attribute>> [[psysml:63113e1f-55f0-4199-b954-2673a0b317ed ]] {\r\n",
       "}\r\n",
       "comp usage \"b\" as E7  <<(T,blue)attribute>> [[psysml:537e328f-e5cc-426a-9b09-8cf3e436744c ]] {\r\n",
       "}\r\n",
       "comp usage \"c\" as E8  <<(T,blue)attribute>> [[psysml:2b35c468-a57b-4dfd-a90f-3e1de4d6204b ]] {\r\n",
       "}\r\n",
       "E3 - -:|> E2 [[psysml:50b306d4-0f13-410b-aa85-567dae9acdd8 ]] \r\n",
       "E4 o- - E2 [[psysml:c5b3d96c-9fe7-4ab4-b771-6776a88b0ad4 ]] : p\r\n",
       "}\r\n",
       "@enduml\r\n",
       "\n",
       "PlantUML version 1.2020.13(Sat Jun 13 12:26:38 UTC 2020)\n",
       "(EPL source distribution)\n",
       "Java Runtime: OpenJDK Runtime Environment\n",
       "JVM: OpenJDK 64-Bit Server VM\n",
       "Default Encoding: UTF-8\n",
       "Language: en\n",
       "Country: null\n",
       "--></g></svg>"
      ]
     },
     "execution_count": 14,
     "metadata": {},
     "output_type": "execute_result"
    }
   ],
   "source": [
    "%viz --style=\"POLYLINE\" --view=\"Sequence\" \"ParameterTest\""
   ]
  },
  {
   "cell_type": "code",
   "execution_count": 15,
   "id": "dried-andrews",
   "metadata": {
    "execution": {
     "iopub.execute_input": "2021-03-25T15:03:11.522543Z",
     "iopub.status.busy": "2021-03-25T15:03:11.521308Z",
     "iopub.status.idle": "2021-03-25T15:03:11.834208Z",
     "shell.execute_reply": "2021-03-25T15:03:11.832769Z"
    }
   },
   "outputs": [
    {
     "data": {
      "image/svg+xml": [
       "<?xml version=\"1.0\" encoding=\"UTF-8\" standalone=\"no\"?><svg xmlns=\"http://www.w3.org/2000/svg\" xmlns:xlink=\"http://www.w3.org/1999/xlink\" contentScriptType=\"application/ecmascript\" contentStyleType=\"text/css\" height=\"263px\" preserveAspectRatio=\"none\" style=\"width:740px;height:263px;\" version=\"1.1\" viewBox=\"0 0 740 263\" width=\"740px\" zoomAndPan=\"magnify\"><defs/><g><!--MD5=[fbc87193dbaf4d95561dea2c320d4a47]\n",
       "cluster E1--><a href=\"psysml:c7000c50-df42-41d3-9ba9-36eed14db093\" target=\"_top\" title=\"psysml:c7000c50-df42-41d3-9ba9-36eed14db093\" xlink:actuate=\"onRequest\" xlink:href=\"psysml:c7000c50-df42-41d3-9ba9-36eed14db093\" xlink:show=\"new\" xlink:title=\"psysml:c7000c50-df42-41d3-9ba9-36eed14db093\" xlink:type=\"simple\"><polygon fill=\"#FFFFFF\" points=\"16,6,139,6,146,28.2969,718,28.2969,718,251,16,251,16,6\" style=\"stroke: #000000; stroke-width: 1.5;\"/><line style=\"stroke: #000000; stroke-width: 1.5;\" x1=\"16\" x2=\"146\" y1=\"28.2969\" y2=\"28.2969\"/><text fill=\"#000000\" font-family=\"sans-serif\" font-size=\"14\" font-weight=\"bold\" lengthAdjust=\"spacingAndGlyphs\" textLength=\"117\" x=\"20\" y=\"20.9951\">ParameterTest</text></a><!--MD5=[f6df4d0ebaf0b5dfb2ced0ae5af7c670]\n",
       "cluster E4--><a href=\"psysml:31ea6359-c2ac-42c4-9008-615ad8ad058c\" target=\"_top\" title=\"psysml:31ea6359-c2ac-42c4-9008-615ad8ad058c\" xlink:actuate=\"onRequest\" xlink:href=\"psysml:31ea6359-c2ac-42c4-9008-615ad8ad058c\" xlink:show=\"new\" xlink:title=\"psysml:31ea6359-c2ac-42c4-9008-615ad8ad058c\" xlink:type=\"simple\"><rect fill=\"#FFFFFF\" height=\"160.5\" id=\"E4\" style=\"stroke: #383838; stroke-width: 1.5;\" width=\"148\" x=\"554\" y=\"64\"/><rect fill=\"#F8F8F8\" height=\"37.9375\" style=\"stroke: #383838; stroke-width: 1.5;\" width=\"148\" x=\"554\" y=\"64\"/><text fill=\"#000000\" font-family=\"sans-serif\" font-size=\"12\" font-style=\"italic\" lengthAdjust=\"spacingAndGlyphs\" textLength=\"106\" x=\"575\" y=\"80.1387\">«calculation def»</text><text fill=\"#000000\" font-family=\"sans-serif\" font-size=\"12\" lengthAdjust=\"spacingAndGlyphs\" textLength=\"7\" x=\"624.5\" y=\"94.1074\">F</text></a><!--MD5=[b4997ac47864f28c2f74865a473b2911]\n",
       "class E2--><a href=\"psysml:cb02a2ee-bdc8-478c-9636-92278b567e26\" target=\"_top\" title=\"psysml:cb02a2ee-bdc8-478c-9636-92278b567e26\" xlink:actuate=\"onRequest\" xlink:href=\"psysml:cb02a2ee-bdc8-478c-9636-92278b567e26\" xlink:show=\"new\" xlink:title=\"psysml:cb02a2ee-bdc8-478c-9636-92278b567e26\" xlink:type=\"simple\"><rect fill=\"#FFFFFF\" height=\"88.3516\" id=\"E2\" style=\"stroke: #383838; stroke-width: 1.5;\" width=\"95\" x=\"422.5\" y=\"147\"/><text fill=\"#000000\" font-family=\"sans-serif\" font-size=\"12\" font-style=\"italic\" lengthAdjust=\"spacingAndGlyphs\" textLength=\"93\" x=\"423.5\" y=\"163.1387\">«attribute def»</text><text fill=\"#000000\" font-family=\"sans-serif\" font-size=\"12\" lengthAdjust=\"spacingAndGlyphs\" textLength=\"8\" x=\"466\" y=\"177.1074\">A</text><line style=\"stroke: #383838; stroke-width: 1.5;\" x1=\"423.5\" x2=\"516.5\" y1=\"184.9375\" y2=\"184.9375\"/><text fill=\"#000000\" font-family=\"sans-serif\" font-size=\"11\" lengthAdjust=\"spacingAndGlyphs\" textLength=\"48\" x=\"428.5\" y=\"215.9526\">x: String</text><text fill=\"#000000\" font-family=\"sans-serif\" font-size=\"11\" lengthAdjust=\"spacingAndGlyphs\" textLength=\"21\" x=\"428.5\" y=\"228.7573\">y: A</text><line style=\"stroke: #383838; stroke-width: 1.0;\" x1=\"423.5\" x2=\"442.5\" y1=\"199.3398\" y2=\"199.3398\"/><text fill=\"#000000\" font-family=\"sans-serif\" font-size=\"11\" lengthAdjust=\"spacingAndGlyphs\" textLength=\"55\" x=\"442.5\" y=\"202.6479\">attributes</text><line style=\"stroke: #383838; stroke-width: 1.0;\" x1=\"497.5\" x2=\"516.5\" y1=\"199.3398\" y2=\"199.3398\"/></a><!--MD5=[09b614a08d8cba4a07c9adeb5e0fee81]\n",
       "class E3--><a href=\"psysml:50ebccda-29a4-4ea8-943d-69f99c07f732\" target=\"_top\" title=\"psysml:50ebccda-29a4-4ea8-943d-69f99c07f732\" xlink:actuate=\"onRequest\" xlink:href=\"psysml:50ebccda-29a4-4ea8-943d-69f99c07f732\" xlink:show=\"new\" xlink:title=\"psysml:50ebccda-29a4-4ea8-943d-69f99c07f732\" xlink:type=\"simple\"><rect fill=\"#FFFFFF\" height=\"45.9375\" id=\"E3\" rx=\"10\" ry=\"10\" style=\"stroke: #383838; stroke-width: 1.5;\" width=\"71\" x=\"456.5\" y=\"41\"/><text fill=\"#000000\" font-family=\"sans-serif\" font-size=\"12\" font-style=\"italic\" lengthAdjust=\"spacingAndGlyphs\" textLength=\"69\" x=\"457.5\" y=\"57.1387\">«attribute»</text><text fill=\"#000000\" font-family=\"sans-serif\" font-size=\"12\" lengthAdjust=\"spacingAndGlyphs\" textLength=\"24\" x=\"480\" y=\"71.1074\">a: A</text><line style=\"stroke: #383838; stroke-width: 1.5;\" x1=\"457.5\" x2=\"526.5\" y1=\"78.9375\" y2=\"78.9375\"/></a><!--MD5=[2156ba9850f5573cc1fc38a6a4b2f02b]\n",
       "class E7--><a href=\"psysml:a5af055b-f2ee-4ef1-a486-dc312f464f3e\" target=\"_top\" title=\"psysml:a5af055b-f2ee-4ef1-a486-dc312f464f3e\" xlink:actuate=\"onRequest\" xlink:href=\"psysml:a5af055b-f2ee-4ef1-a486-dc312f464f3e\" xlink:show=\"new\" xlink:title=\"psysml:a5af055b-f2ee-4ef1-a486-dc312f464f3e\" xlink:type=\"simple\"><rect fill=\"#FFFFFF\" height=\"45.9375\" id=\"E7\" rx=\"10\" ry=\"10\" style=\"stroke: #383838; stroke-width: 1.5;\" width=\"71\" x=\"350.5\" y=\"41\"/><text fill=\"#000000\" font-family=\"sans-serif\" font-size=\"12\" font-style=\"italic\" lengthAdjust=\"spacingAndGlyphs\" textLength=\"69\" x=\"351.5\" y=\"57.1387\">«attribute»</text><text fill=\"#000000\" font-family=\"sans-serif\" font-size=\"12\" lengthAdjust=\"spacingAndGlyphs\" textLength=\"4\" x=\"384\" y=\"71.1074\">f</text><line style=\"stroke: #383838; stroke-width: 1.5;\" x1=\"351.5\" x2=\"420.5\" y1=\"78.9375\" y2=\"78.9375\"/></a><!--MD5=[b9389687b975829384b498ac4b7476b2]\n",
       "class E8--><a href=\"psysml:63113e1f-55f0-4199-b954-2673a0b317ed\" target=\"_top\" title=\"psysml:63113e1f-55f0-4199-b954-2673a0b317ed\" xlink:actuate=\"onRequest\" xlink:href=\"psysml:63113e1f-55f0-4199-b954-2673a0b317ed\" xlink:show=\"new\" xlink:title=\"psysml:63113e1f-55f0-4199-b954-2673a0b317ed\" xlink:type=\"simple\"><rect fill=\"#FFFFFF\" height=\"45.9375\" id=\"E8\" rx=\"10\" ry=\"10\" style=\"stroke: #383838; stroke-width: 1.5;\" width=\"71\" x=\"244.5\" y=\"41\"/><text fill=\"#000000\" font-family=\"sans-serif\" font-size=\"12\" font-style=\"italic\" lengthAdjust=\"spacingAndGlyphs\" textLength=\"69\" x=\"245.5\" y=\"57.1387\">«attribute»</text><text fill=\"#000000\" font-family=\"sans-serif\" font-size=\"12\" lengthAdjust=\"spacingAndGlyphs\" textLength=\"8\" x=\"276\" y=\"71.1074\">g</text><line style=\"stroke: #383838; stroke-width: 1.5;\" x1=\"245.5\" x2=\"314.5\" y1=\"78.9375\" y2=\"78.9375\"/></a><!--MD5=[fd4143e9d270a159db93a4ea2a975926]\n",
       "class E9--><a href=\"psysml:537e328f-e5cc-426a-9b09-8cf3e436744c\" target=\"_top\" title=\"psysml:537e328f-e5cc-426a-9b09-8cf3e436744c\" xlink:actuate=\"onRequest\" xlink:href=\"psysml:537e328f-e5cc-426a-9b09-8cf3e436744c\" xlink:show=\"new\" xlink:title=\"psysml:537e328f-e5cc-426a-9b09-8cf3e436744c\" xlink:type=\"simple\"><rect fill=\"#FFFFFF\" height=\"45.9375\" id=\"E9\" rx=\"10\" ry=\"10\" style=\"stroke: #383838; stroke-width: 1.5;\" width=\"71\" x=\"138.5\" y=\"41\"/><text fill=\"#000000\" font-family=\"sans-serif\" font-size=\"12\" font-style=\"italic\" lengthAdjust=\"spacingAndGlyphs\" textLength=\"69\" x=\"139.5\" y=\"57.1387\">«attribute»</text><text fill=\"#000000\" font-family=\"sans-serif\" font-size=\"12\" lengthAdjust=\"spacingAndGlyphs\" textLength=\"8\" x=\"170\" y=\"71.1074\">b</text><line style=\"stroke: #383838; stroke-width: 1.5;\" x1=\"139.5\" x2=\"208.5\" y1=\"78.9375\" y2=\"78.9375\"/></a><!--MD5=[96f4274e9e20536e775497830990834d]\n",
       "class E10--><a href=\"psysml:2b35c468-a57b-4dfd-a90f-3e1de4d6204b\" target=\"_top\" title=\"psysml:2b35c468-a57b-4dfd-a90f-3e1de4d6204b\" xlink:actuate=\"onRequest\" xlink:href=\"psysml:2b35c468-a57b-4dfd-a90f-3e1de4d6204b\" xlink:show=\"new\" xlink:title=\"psysml:2b35c468-a57b-4dfd-a90f-3e1de4d6204b\" xlink:type=\"simple\"><rect fill=\"#FFFFFF\" height=\"45.9375\" id=\"E10\" rx=\"10\" ry=\"10\" style=\"stroke: #383838; stroke-width: 1.5;\" width=\"71\" x=\"32.5\" y=\"41\"/><text fill=\"#000000\" font-family=\"sans-serif\" font-size=\"12\" font-style=\"italic\" lengthAdjust=\"spacingAndGlyphs\" textLength=\"69\" x=\"33.5\" y=\"57.1387\">«attribute»</text><text fill=\"#000000\" font-family=\"sans-serif\" font-size=\"12\" lengthAdjust=\"spacingAndGlyphs\" textLength=\"7\" x=\"64.5\" y=\"71.1074\">c</text><line style=\"stroke: #383838; stroke-width: 1.5;\" x1=\"33.5\" x2=\"102.5\" y1=\"78.9375\" y2=\"78.9375\"/></a><text fill=\"#000000\" font-family=\"sans-serif\" font-size=\"14\" lengthAdjust=\"spacingAndGlyphs\" textLength=\"9\" x=\"567.5\" y=\"42.6982\">p</text><rect fill=\"#383838\" height=\"12\" style=\"stroke: #F8F8F8; stroke-width: 1.5;\" width=\"12\" x=\"566\" y=\"58\"/><text fill=\"#000000\" font-family=\"sans-serif\" font-size=\"14\" lengthAdjust=\"spacingAndGlyphs\" textLength=\"9\" x=\"614.5\" y=\"42.6982\">q</text><rect fill=\"#383838\" height=\"12\" style=\"stroke: #F8F8F8; stroke-width: 1.5;\" width=\"12\" x=\"613\" y=\"58\"/><!--MD5=[05d275557350bfb9b23a4ef7222b4c39]\n",
       "link E3 to E2--><a href=\"psysml:50b306d4-0f13-410b-aa85-567dae9acdd8\" target=\"_top\" title=\"psysml:50b306d4-0f13-410b-aa85-567dae9acdd8\" xlink:actuate=\"onRequest\" xlink:href=\"psysml:50b306d4-0f13-410b-aa85-567dae9acdd8\" xlink:show=\"new\" xlink:title=\"psysml:50b306d4-0f13-410b-aa85-567dae9acdd8\" xlink:type=\"simple\"><path d=\"M488.12,87.06 C486.14,98.3 483.62,112.6 481.1,126.95 \" fill=\"none\" id=\"E3-&gt;E2\" style=\"stroke: #383838; stroke-width: 1.0;\"/><polygon fill=\"#FFFFFF\" points=\"477.58,146.93,473.9835,127.0035,487.7711,129.4331,477.58,146.93\" style=\"stroke: #383838; stroke-width: 1.0;\"/><ellipse cx=\"476.9423\" cy=\"121.7371\" fill=\"#383838\" rx=\"2\" ry=\"2\" style=\"stroke: #383838; stroke-width: 1.0;\"/><ellipse cx=\"486.7906\" cy=\"123.4725\" fill=\"#383838\" rx=\"2\" ry=\"2\" style=\"stroke: #383838; stroke-width: 1.0;\"/></a><!--MD5=[d20704f4181a17fa0d4a74f7564f62c1]\n",
       "@startuml\r\n",
       "skinparam linetype polyline\r\n",
       "skinparam monochrome true\r\n",
       "skinparam classbackgroundcolor white\r\n",
       "skinparam shadowing false\r\n",
       "skinparam wrapWidth 300\r\n",
       "hide circle\r\n",
       "\r\n",
       "package \"ParameterTest\" as E1  [[psysml:c7000c50-df42-41d3-9ba9-36eed14db093 ]]  {\r\n",
       "comp def \"A\" as E2  <<(T,blue)attribute def>> [[psysml:cb02a2ee-bdc8-478c-9636-92278b567e26 ]] {\r\n",
       "- - attributes - -\r\n",
       "x: String\r\n",
       "y: A\r\n",
       "}\r\n",
       "comp usage \"a: A\" as E3  <<(T,blue)attribute>> [[psysml:50ebccda-29a4-4ea8-943d-69f99c07f732 ]] {\r\n",
       "}\r\n",
       "rec def \"F\" as E4  <<(T,blue)calculation def>> [[psysml:31ea6359-c2ac-42c4-9008-615ad8ad058c ]] {\r\n",
       "portin \"p\" as E5  [[psysml:c5b3d96c-9fe7-4ab4-b771-6776a88b0ad4 ]] \r\n",
       "portin \"q\" as E6  [[psysml:66adf659-8704-40ab-88b3-19d2477512b1 ]] \r\n",
       "}\r\n",
       "\r\n",
       "comp usage \"f\" as E7  <<(T,blue)attribute>> [[psysml:a5af055b-f2ee-4ef1-a486-dc312f464f3e ]] {\r\n",
       "}\r\n",
       "comp usage \"g\" as E8  <<(T,blue)attribute>> [[psysml:63113e1f-55f0-4199-b954-2673a0b317ed ]] {\r\n",
       "}\r\n",
       "comp usage \"b\" as E9  <<(T,blue)attribute>> [[psysml:537e328f-e5cc-426a-9b09-8cf3e436744c ]] {\r\n",
       "}\r\n",
       "comp usage \"c\" as E10  <<(T,blue)attribute>> [[psysml:2b35c468-a57b-4dfd-a90f-3e1de4d6204b ]] {\r\n",
       "}\r\n",
       "E3 - -:|> E2 [[psysml:50b306d4-0f13-410b-aa85-567dae9acdd8 ]] \r\n",
       "}\r\n",
       "@enduml\r\n",
       "\n",
       "PlantUML version 1.2020.13(Sat Jun 13 12:26:38 UTC 2020)\n",
       "(EPL source distribution)\n",
       "Java Runtime: OpenJDK Runtime Environment\n",
       "JVM: OpenJDK 64-Bit Server VM\n",
       "Default Encoding: UTF-8\n",
       "Language: en\n",
       "Country: null\n",
       "--></g></svg>"
      ]
     },
     "execution_count": 15,
     "metadata": {},
     "output_type": "execute_result"
    }
   ],
   "source": [
    "%viz --style=\"POLYLINE\" --view=\"MIXED\" \"ParameterTest\""
   ]
  },
  {
   "cell_type": "code",
   "execution_count": 16,
   "id": "returning-stake",
   "metadata": {
    "execution": {
     "iopub.execute_input": "2021-03-25T15:03:11.886899Z",
     "iopub.status.busy": "2021-03-25T15:03:11.886425Z",
     "iopub.status.idle": "2021-03-25T15:03:12.186901Z",
     "shell.execute_reply": "2021-03-25T15:03:12.187443Z"
    }
   },
   "outputs": [
    {
     "data": {
      "image/svg+xml": [
       "<?xml version=\"1.0\" encoding=\"UTF-8\" standalone=\"no\"?><svg xmlns=\"http://www.w3.org/2000/svg\" xmlns:xlink=\"http://www.w3.org/1999/xlink\" contentScriptType=\"application/ecmascript\" contentStyleType=\"text/css\" height=\"541px\" preserveAspectRatio=\"none\" style=\"width:350px;height:541px;\" version=\"1.1\" viewBox=\"0 0 350 541\" width=\"350px\" zoomAndPan=\"magnify\"><defs/><g><!--MD5=[fbc87193dbaf4d95561dea2c320d4a47]\n",
       "cluster E1--><a href=\"psysml:c7000c50-df42-41d3-9ba9-36eed14db093\" target=\"_top\" title=\"psysml:c7000c50-df42-41d3-9ba9-36eed14db093\" xlink:actuate=\"onRequest\" xlink:href=\"psysml:c7000c50-df42-41d3-9ba9-36eed14db093\" xlink:show=\"new\" xlink:title=\"psysml:c7000c50-df42-41d3-9ba9-36eed14db093\" xlink:type=\"simple\"><polygon fill=\"#FFFFFF\" points=\"16,6,139,6,146,28.2969,328,28.2969,328,529,16,529,16,6\" style=\"stroke: #000000; stroke-width: 1.5;\"/><line style=\"stroke: #000000; stroke-width: 1.5;\" x1=\"16\" x2=\"146\" y1=\"28.2969\" y2=\"28.2969\"/><text fill=\"#000000\" font-family=\"sans-serif\" font-size=\"14\" font-weight=\"bold\" lengthAdjust=\"spacingAndGlyphs\" textLength=\"117\" x=\"20\" y=\"20.9951\">ParameterTest</text></a><!--MD5=[f6df4d0ebaf0b5dfb2ced0ae5af7c670]\n",
       "cluster E4--><a href=\"psysml:31ea6359-c2ac-42c4-9008-615ad8ad058c\" target=\"_top\" title=\"psysml:31ea6359-c2ac-42c4-9008-615ad8ad058c\" xlink:actuate=\"onRequest\" xlink:href=\"psysml:31ea6359-c2ac-42c4-9008-615ad8ad058c\" xlink:show=\"new\" xlink:title=\"psysml:31ea6359-c2ac-42c4-9008-615ad8ad058c\" xlink:type=\"simple\"><rect fill=\"#FFFFFF\" height=\"47\" id=\"E4\" style=\"stroke: #383838; stroke-width: 1.5;\" width=\"262.5\" x=\"49.5\" y=\"55\"/><rect fill=\"#F8F8F8\" height=\"37.9375\" style=\"stroke: #383838; stroke-width: 1.5;\" width=\"262.5\" x=\"49.5\" y=\"55\"/><text fill=\"#000000\" font-family=\"sans-serif\" font-size=\"12\" font-style=\"italic\" lengthAdjust=\"spacingAndGlyphs\" textLength=\"106\" x=\"127.75\" y=\"71.1387\">«calculation def»</text><text fill=\"#000000\" font-family=\"sans-serif\" font-size=\"12\" lengthAdjust=\"spacingAndGlyphs\" textLength=\"7\" x=\"177.25\" y=\"85.1074\">F</text></a><!--MD5=[b4997ac47864f28c2f74865a473b2911]\n",
       "class E2--><a href=\"psysml:cb02a2ee-bdc8-478c-9636-92278b567e26\" target=\"_top\" title=\"psysml:cb02a2ee-bdc8-478c-9636-92278b567e26\" xlink:actuate=\"onRequest\" xlink:href=\"psysml:cb02a2ee-bdc8-478c-9636-92278b567e26\" xlink:show=\"new\" xlink:title=\"psysml:cb02a2ee-bdc8-478c-9636-92278b567e26\" xlink:type=\"simple\"><rect fill=\"#FFFFFF\" height=\"88.3516\" id=\"E2\" style=\"stroke: #383838; stroke-width: 1.5;\" width=\"95\" x=\"182\" y=\"128\"/><text fill=\"#000000\" font-family=\"sans-serif\" font-size=\"12\" font-style=\"italic\" lengthAdjust=\"spacingAndGlyphs\" textLength=\"93\" x=\"183\" y=\"144.1387\">«attribute def»</text><text fill=\"#000000\" font-family=\"sans-serif\" font-size=\"12\" lengthAdjust=\"spacingAndGlyphs\" textLength=\"8\" x=\"225.5\" y=\"158.1074\">A</text><line style=\"stroke: #383838; stroke-width: 1.5;\" x1=\"183\" x2=\"276\" y1=\"165.9375\" y2=\"165.9375\"/><text fill=\"#000000\" font-family=\"sans-serif\" font-size=\"11\" lengthAdjust=\"spacingAndGlyphs\" textLength=\"48\" x=\"188\" y=\"196.9526\">x: String</text><text fill=\"#000000\" font-family=\"sans-serif\" font-size=\"11\" lengthAdjust=\"spacingAndGlyphs\" textLength=\"21\" x=\"188\" y=\"209.7573\">y: A</text><line style=\"stroke: #383838; stroke-width: 1.0;\" x1=\"183\" x2=\"202\" y1=\"180.3398\" y2=\"180.3398\"/><text fill=\"#000000\" font-family=\"sans-serif\" font-size=\"11\" lengthAdjust=\"spacingAndGlyphs\" textLength=\"55\" x=\"202\" y=\"183.6479\">attributes</text><line style=\"stroke: #383838; stroke-width: 1.0;\" x1=\"257\" x2=\"276\" y1=\"180.3398\" y2=\"180.3398\"/></a><!--MD5=[09b614a08d8cba4a07c9adeb5e0fee81]\n",
       "class E3--><a href=\"psysml:50ebccda-29a4-4ea8-943d-69f99c07f732\" target=\"_top\" title=\"psysml:50ebccda-29a4-4ea8-943d-69f99c07f732\" xlink:actuate=\"onRequest\" xlink:href=\"psysml:50ebccda-29a4-4ea8-943d-69f99c07f732\" xlink:show=\"new\" xlink:title=\"psysml:50ebccda-29a4-4ea8-943d-69f99c07f732\" xlink:type=\"simple\"><rect fill=\"#FFFFFF\" height=\"45.9375\" id=\"E3\" rx=\"10\" ry=\"10\" style=\"stroke: #383838; stroke-width: 1.5;\" width=\"71\" x=\"32\" y=\"143\"/><text fill=\"#000000\" font-family=\"sans-serif\" font-size=\"12\" font-style=\"italic\" lengthAdjust=\"spacingAndGlyphs\" textLength=\"69\" x=\"33\" y=\"159.1387\">«attribute»</text><text fill=\"#000000\" font-family=\"sans-serif\" font-size=\"12\" lengthAdjust=\"spacingAndGlyphs\" textLength=\"24\" x=\"55.5\" y=\"173.1074\">a: A</text><line style=\"stroke: #383838; stroke-width: 1.5;\" x1=\"33\" x2=\"102\" y1=\"180.9375\" y2=\"180.9375\"/></a><!--MD5=[2156ba9850f5573cc1fc38a6a4b2f02b]\n",
       "class E7--><a href=\"psysml:a5af055b-f2ee-4ef1-a486-dc312f464f3e\" target=\"_top\" title=\"psysml:a5af055b-f2ee-4ef1-a486-dc312f464f3e\" xlink:actuate=\"onRequest\" xlink:href=\"psysml:a5af055b-f2ee-4ef1-a486-dc312f464f3e\" xlink:show=\"new\" xlink:title=\"psysml:a5af055b-f2ee-4ef1-a486-dc312f464f3e\" xlink:type=\"simple\"><rect fill=\"#FFFFFF\" height=\"45.9375\" id=\"E7\" rx=\"10\" ry=\"10\" style=\"stroke: #383838; stroke-width: 1.5;\" width=\"71\" x=\"32\" y=\"224\"/><text fill=\"#000000\" font-family=\"sans-serif\" font-size=\"12\" font-style=\"italic\" lengthAdjust=\"spacingAndGlyphs\" textLength=\"69\" x=\"33\" y=\"240.1387\">«attribute»</text><text fill=\"#000000\" font-family=\"sans-serif\" font-size=\"12\" lengthAdjust=\"spacingAndGlyphs\" textLength=\"4\" x=\"65.5\" y=\"254.1074\">f</text><line style=\"stroke: #383838; stroke-width: 1.5;\" x1=\"33\" x2=\"102\" y1=\"261.9375\" y2=\"261.9375\"/></a><!--MD5=[b9389687b975829384b498ac4b7476b2]\n",
       "class E8--><a href=\"psysml:63113e1f-55f0-4199-b954-2673a0b317ed\" target=\"_top\" title=\"psysml:63113e1f-55f0-4199-b954-2673a0b317ed\" xlink:actuate=\"onRequest\" xlink:href=\"psysml:63113e1f-55f0-4199-b954-2673a0b317ed\" xlink:show=\"new\" xlink:title=\"psysml:63113e1f-55f0-4199-b954-2673a0b317ed\" xlink:type=\"simple\"><rect fill=\"#FFFFFF\" height=\"45.9375\" id=\"E8\" rx=\"10\" ry=\"10\" style=\"stroke: #383838; stroke-width: 1.5;\" width=\"71\" x=\"32\" y=\"305\"/><text fill=\"#000000\" font-family=\"sans-serif\" font-size=\"12\" font-style=\"italic\" lengthAdjust=\"spacingAndGlyphs\" textLength=\"69\" x=\"33\" y=\"321.1387\">«attribute»</text><text fill=\"#000000\" font-family=\"sans-serif\" font-size=\"12\" lengthAdjust=\"spacingAndGlyphs\" textLength=\"8\" x=\"63.5\" y=\"335.1074\">g</text><line style=\"stroke: #383838; stroke-width: 1.5;\" x1=\"33\" x2=\"102\" y1=\"342.9375\" y2=\"342.9375\"/></a><!--MD5=[fd4143e9d270a159db93a4ea2a975926]\n",
       "class E9--><a href=\"psysml:537e328f-e5cc-426a-9b09-8cf3e436744c\" target=\"_top\" title=\"psysml:537e328f-e5cc-426a-9b09-8cf3e436744c\" xlink:actuate=\"onRequest\" xlink:href=\"psysml:537e328f-e5cc-426a-9b09-8cf3e436744c\" xlink:show=\"new\" xlink:title=\"psysml:537e328f-e5cc-426a-9b09-8cf3e436744c\" xlink:type=\"simple\"><rect fill=\"#FFFFFF\" height=\"45.9375\" id=\"E9\" rx=\"10\" ry=\"10\" style=\"stroke: #383838; stroke-width: 1.5;\" width=\"71\" x=\"32\" y=\"386\"/><text fill=\"#000000\" font-family=\"sans-serif\" font-size=\"12\" font-style=\"italic\" lengthAdjust=\"spacingAndGlyphs\" textLength=\"69\" x=\"33\" y=\"402.1387\">«attribute»</text><text fill=\"#000000\" font-family=\"sans-serif\" font-size=\"12\" lengthAdjust=\"spacingAndGlyphs\" textLength=\"8\" x=\"63.5\" y=\"416.1074\">b</text><line style=\"stroke: #383838; stroke-width: 1.5;\" x1=\"33\" x2=\"102\" y1=\"423.9375\" y2=\"423.9375\"/></a><!--MD5=[96f4274e9e20536e775497830990834d]\n",
       "class E10--><a href=\"psysml:2b35c468-a57b-4dfd-a90f-3e1de4d6204b\" target=\"_top\" title=\"psysml:2b35c468-a57b-4dfd-a90f-3e1de4d6204b\" xlink:actuate=\"onRequest\" xlink:href=\"psysml:2b35c468-a57b-4dfd-a90f-3e1de4d6204b\" xlink:show=\"new\" xlink:title=\"psysml:2b35c468-a57b-4dfd-a90f-3e1de4d6204b\" xlink:type=\"simple\"><rect fill=\"#FFFFFF\" height=\"45.9375\" id=\"E10\" rx=\"10\" ry=\"10\" style=\"stroke: #383838; stroke-width: 1.5;\" width=\"71\" x=\"32\" y=\"467\"/><text fill=\"#000000\" font-family=\"sans-serif\" font-size=\"12\" font-style=\"italic\" lengthAdjust=\"spacingAndGlyphs\" textLength=\"69\" x=\"33\" y=\"483.1387\">«attribute»</text><text fill=\"#000000\" font-family=\"sans-serif\" font-size=\"12\" lengthAdjust=\"spacingAndGlyphs\" textLength=\"7\" x=\"64\" y=\"497.1074\">c</text><line style=\"stroke: #383838; stroke-width: 1.5;\" x1=\"33\" x2=\"102\" y1=\"504.9375\" y2=\"504.9375\"/></a><text fill=\"#000000\" font-family=\"sans-serif\" font-size=\"14\" lengthAdjust=\"spacingAndGlyphs\" textLength=\"9\" x=\"63\" y=\"120.9951\">p</text><rect fill=\"#383838\" height=\"12\" style=\"stroke: #F8F8F8; stroke-width: 1.5;\" width=\"12\" x=\"61.5\" y=\"96\"/><text fill=\"#000000\" font-family=\"sans-serif\" font-size=\"14\" lengthAdjust=\"spacingAndGlyphs\" textLength=\"9\" x=\"63\" y=\"33.6982\">q</text><rect fill=\"#383838\" height=\"12\" style=\"stroke: #F8F8F8; stroke-width: 1.5;\" width=\"12\" x=\"61.5\" y=\"49\"/><!--MD5=[05d275557350bfb9b23a4ef7222b4c39]\n",
       "link E3 to E2--><a href=\"psysml:50b306d4-0f13-410b-aa85-567dae9acdd8\" target=\"_top\" title=\"psysml:50b306d4-0f13-410b-aa85-567dae9acdd8\" xlink:actuate=\"onRequest\" xlink:href=\"psysml:50b306d4-0f13-410b-aa85-567dae9acdd8\" xlink:show=\"new\" xlink:title=\"psysml:50b306d4-0f13-410b-aa85-567dae9acdd8\" xlink:type=\"simple\"><path d=\"M103.22,167.3 C120.27,167.94 141.42,168.73 161.45,169.49 \" fill=\"none\" id=\"E3-&gt;E2\" style=\"stroke: #383838; stroke-width: 1.0;\"/><polygon fill=\"#FFFFFF\" points=\"181.71,170.25,162.4631,176.5394,162.9831,162.5491,181.71,170.25\" style=\"stroke: #383838; stroke-width: 1.0;\"/><ellipse cx=\"156.8413\" cy=\"174.3291\" fill=\"#383838\" rx=\"2\" ry=\"2\" style=\"stroke: #383838; stroke-width: 1.0;\"/><ellipse cx=\"157.2128\" cy=\"164.336\" fill=\"#383838\" rx=\"2\" ry=\"2\" style=\"stroke: #383838; stroke-width: 1.0;\"/></a><!--MD5=[b24f21057189ce6b5f90655b21a63370]\n",
       "@startuml\r\n",
       "left to right direction\r\n",
       "skinparam monochrome true\r\n",
       "skinparam classbackgroundcolor white\r\n",
       "skinparam shadowing false\r\n",
       "skinparam wrapWidth 300\r\n",
       "hide circle\r\n",
       "\r\n",
       "package \"ParameterTest\" as E1  [[psysml:c7000c50-df42-41d3-9ba9-36eed14db093 ]]  {\r\n",
       "comp def \"A\" as E2  <<(T,blue)attribute def>> [[psysml:cb02a2ee-bdc8-478c-9636-92278b567e26 ]] {\r\n",
       "- - attributes - -\r\n",
       "x: String\r\n",
       "y: A\r\n",
       "}\r\n",
       "comp usage \"a: A\" as E3  <<(T,blue)attribute>> [[psysml:50ebccda-29a4-4ea8-943d-69f99c07f732 ]] {\r\n",
       "}\r\n",
       "rec def \"F\" as E4  <<(T,blue)calculation def>> [[psysml:31ea6359-c2ac-42c4-9008-615ad8ad058c ]] {\r\n",
       "portin \"p\" as E5  [[psysml:c5b3d96c-9fe7-4ab4-b771-6776a88b0ad4 ]] \r\n",
       "portin \"q\" as E6  [[psysml:66adf659-8704-40ab-88b3-19d2477512b1 ]] \r\n",
       "}\r\n",
       "\r\n",
       "comp usage \"f\" as E7  <<(T,blue)attribute>> [[psysml:a5af055b-f2ee-4ef1-a486-dc312f464f3e ]] {\r\n",
       "}\r\n",
       "comp usage \"g\" as E8  <<(T,blue)attribute>> [[psysml:63113e1f-55f0-4199-b954-2673a0b317ed ]] {\r\n",
       "}\r\n",
       "comp usage \"b\" as E9  <<(T,blue)attribute>> [[psysml:537e328f-e5cc-426a-9b09-8cf3e436744c ]] {\r\n",
       "}\r\n",
       "comp usage \"c\" as E10  <<(T,blue)attribute>> [[psysml:2b35c468-a57b-4dfd-a90f-3e1de4d6204b ]] {\r\n",
       "}\r\n",
       "E3 - -:|> E2 [[psysml:50b306d4-0f13-410b-aa85-567dae9acdd8 ]] \r\n",
       "}\r\n",
       "@enduml\r\n",
       "\n",
       "PlantUML version 1.2020.13(Sat Jun 13 12:26:38 UTC 2020)\n",
       "(EPL source distribution)\n",
       "Java Runtime: OpenJDK Runtime Environment\n",
       "JVM: OpenJDK 64-Bit Server VM\n",
       "Default Encoding: UTF-8\n",
       "Language: en\n",
       "Country: null\n",
       "--></g></svg>"
      ]
     },
     "execution_count": 16,
     "metadata": {},
     "output_type": "execute_result"
    }
   ],
   "source": [
    "%viz --style=\"LR\" --view=\"Default\" \"ParameterTest\""
   ]
  },
  {
   "cell_type": "code",
   "execution_count": 17,
   "id": "closing-optics",
   "metadata": {
    "execution": {
     "iopub.execute_input": "2021-03-25T15:03:12.238108Z",
     "iopub.status.busy": "2021-03-25T15:03:12.237456Z",
     "iopub.status.idle": "2021-03-25T15:03:12.508008Z",
     "shell.execute_reply": "2021-03-25T15:03:12.507435Z"
    }
   },
   "outputs": [
    {
     "data": {
      "image/svg+xml": [
       "<?xml version=\"1.0\" encoding=\"UTF-8\" standalone=\"no\"?><svg xmlns=\"http://www.w3.org/2000/svg\" xmlns:xlink=\"http://www.w3.org/1999/xlink\" contentScriptType=\"application/ecmascript\" contentStyleType=\"text/css\" height=\"520px\" preserveAspectRatio=\"none\" style=\"width:343px;height:520px;\" version=\"1.1\" viewBox=\"0 0 343 520\" width=\"343px\" zoomAndPan=\"magnify\"><defs/><g><!--MD5=[fbc87193dbaf4d95561dea2c320d4a47]\n",
       "cluster E1--><a href=\"psysml:c7000c50-df42-41d3-9ba9-36eed14db093\" target=\"_top\" title=\"psysml:c7000c50-df42-41d3-9ba9-36eed14db093\" xlink:actuate=\"onRequest\" xlink:href=\"psysml:c7000c50-df42-41d3-9ba9-36eed14db093\" xlink:show=\"new\" xlink:title=\"psysml:c7000c50-df42-41d3-9ba9-36eed14db093\" xlink:type=\"simple\"><polygon fill=\"#FFFFFF\" points=\"16,6,139,6,146,28.2969,321,28.2969,321,508,16,508,16,6\" style=\"stroke: #000000; stroke-width: 1.5;\"/><line style=\"stroke: #000000; stroke-width: 1.5;\" x1=\"16\" x2=\"146\" y1=\"28.2969\" y2=\"28.2969\"/><text fill=\"#000000\" font-family=\"sans-serif\" font-size=\"14\" font-weight=\"bold\" lengthAdjust=\"spacingAndGlyphs\" textLength=\"117\" x=\"20\" y=\"20.9951\">ParameterTest</text></a><!--MD5=[b4997ac47864f28c2f74865a473b2911]\n",
       "class E2--><a href=\"psysml:cb02a2ee-bdc8-478c-9636-92278b567e26\" target=\"_top\" title=\"psysml:cb02a2ee-bdc8-478c-9636-92278b567e26\" xlink:actuate=\"onRequest\" xlink:href=\"psysml:cb02a2ee-bdc8-478c-9636-92278b567e26\" xlink:show=\"new\" xlink:title=\"psysml:cb02a2ee-bdc8-478c-9636-92278b567e26\" xlink:type=\"simple\"><rect fill=\"#FFFFFF\" height=\"88.3516\" id=\"E2\" style=\"stroke: #383838; stroke-width: 1.5;\" width=\"95\" x=\"210\" y=\"76\"/><text fill=\"#000000\" font-family=\"sans-serif\" font-size=\"12\" font-style=\"italic\" lengthAdjust=\"spacingAndGlyphs\" textLength=\"93\" x=\"211\" y=\"92.1387\">«attribute def»</text><text fill=\"#000000\" font-family=\"sans-serif\" font-size=\"12\" lengthAdjust=\"spacingAndGlyphs\" textLength=\"8\" x=\"253.5\" y=\"106.1074\">A</text><line style=\"stroke: #383838; stroke-width: 1.5;\" x1=\"211\" x2=\"304\" y1=\"113.9375\" y2=\"113.9375\"/><text fill=\"#000000\" font-family=\"sans-serif\" font-size=\"11\" lengthAdjust=\"spacingAndGlyphs\" textLength=\"48\" x=\"216\" y=\"144.9526\">x: String</text><text fill=\"#000000\" font-family=\"sans-serif\" font-size=\"11\" lengthAdjust=\"spacingAndGlyphs\" textLength=\"21\" x=\"216\" y=\"157.7573\">y: A</text><line style=\"stroke: #383838; stroke-width: 1.0;\" x1=\"211\" x2=\"230\" y1=\"128.3398\" y2=\"128.3398\"/><text fill=\"#000000\" font-family=\"sans-serif\" font-size=\"11\" lengthAdjust=\"spacingAndGlyphs\" textLength=\"55\" x=\"230\" y=\"131.6479\">attributes</text><line style=\"stroke: #383838; stroke-width: 1.0;\" x1=\"285\" x2=\"304\" y1=\"128.3398\" y2=\"128.3398\"/></a><!--MD5=[09b614a08d8cba4a07c9adeb5e0fee81]\n",
       "class E3--><a href=\"psysml:50ebccda-29a4-4ea8-943d-69f99c07f732\" target=\"_top\" title=\"psysml:50ebccda-29a4-4ea8-943d-69f99c07f732\" xlink:actuate=\"onRequest\" xlink:href=\"psysml:50ebccda-29a4-4ea8-943d-69f99c07f732\" xlink:show=\"new\" xlink:title=\"psysml:50ebccda-29a4-4ea8-943d-69f99c07f732\" xlink:type=\"simple\"><rect fill=\"#FFFFFF\" height=\"45.9375\" id=\"E3\" rx=\"10\" ry=\"10\" style=\"stroke: #383838; stroke-width: 1.5;\" width=\"71\" x=\"50.5\" y=\"41\"/><text fill=\"#000000\" font-family=\"sans-serif\" font-size=\"12\" font-style=\"italic\" lengthAdjust=\"spacingAndGlyphs\" textLength=\"69\" x=\"51.5\" y=\"57.1387\">«attribute»</text><text fill=\"#000000\" font-family=\"sans-serif\" font-size=\"12\" lengthAdjust=\"spacingAndGlyphs\" textLength=\"24\" x=\"74\" y=\"71.1074\">a: A</text><line style=\"stroke: #383838; stroke-width: 1.5;\" x1=\"51.5\" x2=\"120.5\" y1=\"78.9375\" y2=\"78.9375\"/></a><!--MD5=[ebbe1d658d1005bcc118a6aa81145e00]\n",
       "class E4--><a href=\"psysml:31ea6359-c2ac-42c4-9008-615ad8ad058c\" target=\"_top\" title=\"psysml:31ea6359-c2ac-42c4-9008-615ad8ad058c\" xlink:actuate=\"onRequest\" xlink:href=\"psysml:31ea6359-c2ac-42c4-9008-615ad8ad058c\" xlink:show=\"new\" xlink:title=\"psysml:31ea6359-c2ac-42c4-9008-615ad8ad058c\" xlink:type=\"simple\"><rect fill=\"#FFFFFF\" height=\"45.9375\" id=\"E4\" style=\"stroke: #383838; stroke-width: 1.5;\" width=\"108\" x=\"32\" y=\"122\"/><text fill=\"#000000\" font-family=\"sans-serif\" font-size=\"12\" font-style=\"italic\" lengthAdjust=\"spacingAndGlyphs\" textLength=\"106\" x=\"33\" y=\"138.1387\">«calculation def»</text><text fill=\"#000000\" font-family=\"sans-serif\" font-size=\"12\" lengthAdjust=\"spacingAndGlyphs\" textLength=\"7\" x=\"82.5\" y=\"152.1074\">F</text><line style=\"stroke: #383838; stroke-width: 1.5;\" x1=\"33\" x2=\"139\" y1=\"159.9375\" y2=\"159.9375\"/></a><!--MD5=[270fce915f116d4de14055a7c1d9a0f3]\n",
       "class E5--><a href=\"psysml:a5af055b-f2ee-4ef1-a486-dc312f464f3e\" target=\"_top\" title=\"psysml:a5af055b-f2ee-4ef1-a486-dc312f464f3e\" xlink:actuate=\"onRequest\" xlink:href=\"psysml:a5af055b-f2ee-4ef1-a486-dc312f464f3e\" xlink:show=\"new\" xlink:title=\"psysml:a5af055b-f2ee-4ef1-a486-dc312f464f3e\" xlink:type=\"simple\"><rect fill=\"#FFFFFF\" height=\"45.9375\" id=\"E5\" rx=\"10\" ry=\"10\" style=\"stroke: #383838; stroke-width: 1.5;\" width=\"71\" x=\"50.5\" y=\"203\"/><text fill=\"#000000\" font-family=\"sans-serif\" font-size=\"12\" font-style=\"italic\" lengthAdjust=\"spacingAndGlyphs\" textLength=\"69\" x=\"51.5\" y=\"219.1387\">«attribute»</text><text fill=\"#000000\" font-family=\"sans-serif\" font-size=\"12\" lengthAdjust=\"spacingAndGlyphs\" textLength=\"4\" x=\"84\" y=\"233.1074\">f</text><line style=\"stroke: #383838; stroke-width: 1.5;\" x1=\"51.5\" x2=\"120.5\" y1=\"240.9375\" y2=\"240.9375\"/></a><!--MD5=[60a26617385b1d2d0262a64233df1f8d]\n",
       "class E6--><a href=\"psysml:63113e1f-55f0-4199-b954-2673a0b317ed\" target=\"_top\" title=\"psysml:63113e1f-55f0-4199-b954-2673a0b317ed\" xlink:actuate=\"onRequest\" xlink:href=\"psysml:63113e1f-55f0-4199-b954-2673a0b317ed\" xlink:show=\"new\" xlink:title=\"psysml:63113e1f-55f0-4199-b954-2673a0b317ed\" xlink:type=\"simple\"><rect fill=\"#FFFFFF\" height=\"45.9375\" id=\"E6\" rx=\"10\" ry=\"10\" style=\"stroke: #383838; stroke-width: 1.5;\" width=\"71\" x=\"50.5\" y=\"284\"/><text fill=\"#000000\" font-family=\"sans-serif\" font-size=\"12\" font-style=\"italic\" lengthAdjust=\"spacingAndGlyphs\" textLength=\"69\" x=\"51.5\" y=\"300.1387\">«attribute»</text><text fill=\"#000000\" font-family=\"sans-serif\" font-size=\"12\" lengthAdjust=\"spacingAndGlyphs\" textLength=\"8\" x=\"82\" y=\"314.1074\">g</text><line style=\"stroke: #383838; stroke-width: 1.5;\" x1=\"51.5\" x2=\"120.5\" y1=\"321.9375\" y2=\"321.9375\"/></a><!--MD5=[2156ba9850f5573cc1fc38a6a4b2f02b]\n",
       "class E7--><a href=\"psysml:537e328f-e5cc-426a-9b09-8cf3e436744c\" target=\"_top\" title=\"psysml:537e328f-e5cc-426a-9b09-8cf3e436744c\" xlink:actuate=\"onRequest\" xlink:href=\"psysml:537e328f-e5cc-426a-9b09-8cf3e436744c\" xlink:show=\"new\" xlink:title=\"psysml:537e328f-e5cc-426a-9b09-8cf3e436744c\" xlink:type=\"simple\"><rect fill=\"#FFFFFF\" height=\"45.9375\" id=\"E7\" rx=\"10\" ry=\"10\" style=\"stroke: #383838; stroke-width: 1.5;\" width=\"71\" x=\"50.5\" y=\"365\"/><text fill=\"#000000\" font-family=\"sans-serif\" font-size=\"12\" font-style=\"italic\" lengthAdjust=\"spacingAndGlyphs\" textLength=\"69\" x=\"51.5\" y=\"381.1387\">«attribute»</text><text fill=\"#000000\" font-family=\"sans-serif\" font-size=\"12\" lengthAdjust=\"spacingAndGlyphs\" textLength=\"8\" x=\"82\" y=\"395.1074\">b</text><line style=\"stroke: #383838; stroke-width: 1.5;\" x1=\"51.5\" x2=\"120.5\" y1=\"402.9375\" y2=\"402.9375\"/></a><!--MD5=[b9389687b975829384b498ac4b7476b2]\n",
       "class E8--><a href=\"psysml:2b35c468-a57b-4dfd-a90f-3e1de4d6204b\" target=\"_top\" title=\"psysml:2b35c468-a57b-4dfd-a90f-3e1de4d6204b\" xlink:actuate=\"onRequest\" xlink:href=\"psysml:2b35c468-a57b-4dfd-a90f-3e1de4d6204b\" xlink:show=\"new\" xlink:title=\"psysml:2b35c468-a57b-4dfd-a90f-3e1de4d6204b\" xlink:type=\"simple\"><rect fill=\"#FFFFFF\" height=\"45.9375\" id=\"E8\" rx=\"10\" ry=\"10\" style=\"stroke: #383838; stroke-width: 1.5;\" width=\"71\" x=\"50.5\" y=\"446\"/><text fill=\"#000000\" font-family=\"sans-serif\" font-size=\"12\" font-style=\"italic\" lengthAdjust=\"spacingAndGlyphs\" textLength=\"69\" x=\"51.5\" y=\"462.1387\">«attribute»</text><text fill=\"#000000\" font-family=\"sans-serif\" font-size=\"12\" lengthAdjust=\"spacingAndGlyphs\" textLength=\"7\" x=\"82.5\" y=\"476.1074\">c</text><line style=\"stroke: #383838; stroke-width: 1.5;\" x1=\"51.5\" x2=\"120.5\" y1=\"483.9375\" y2=\"483.9375\"/></a><!--MD5=[05d275557350bfb9b23a4ef7222b4c39]\n",
       "link E3 to E2--><a href=\"psysml:50b306d4-0f13-410b-aa85-567dae9acdd8\" target=\"_top\" title=\"psysml:50b306d4-0f13-410b-aa85-567dae9acdd8\" xlink:actuate=\"onRequest\" xlink:href=\"psysml:50b306d4-0f13-410b-aa85-567dae9acdd8\" xlink:show=\"new\" xlink:title=\"psysml:50b306d4-0f13-410b-aa85-567dae9acdd8\" xlink:type=\"simple\"><path d=\"M121.71,75.47 C141.61,82.04 167.25,90.51 190.81,98.3 \" fill=\"none\" id=\"E3-&gt;E2\" style=\"stroke: #383838; stroke-width: 1.0;\"/><polygon fill=\"#FFFFFF\" points=\"209.94,104.62,189.7032,105.3073,194.0944,92.0138,209.94,104.62\" style=\"stroke: #383838; stroke-width: 1.0;\"/><ellipse cx=\"184.9182\" cy=\"101.6204\" fill=\"#383838\" rx=\"2\" ry=\"2\" style=\"stroke: #383838; stroke-width: 1.0;\"/><ellipse cx=\"188.0547\" cy=\"92.125\" fill=\"#383838\" rx=\"2\" ry=\"2\" style=\"stroke: #383838; stroke-width: 1.0;\"/></a><!--MD5=[ddeed8deb2209213b62e6cfabaa108b2]\n",
       "reverse link E4 to E2--><a href=\"psysml:c5b3d96c-9fe7-4ab4-b771-6776a88b0ad4\" target=\"_top\" title=\"psysml:c5b3d96c-9fe7-4ab4-b771-6776a88b0ad4\" xlink:actuate=\"onRequest\" xlink:href=\"psysml:c5b3d96c-9fe7-4ab4-b771-6776a88b0ad4\" xlink:show=\"new\" xlink:title=\"psysml:c5b3d96c-9fe7-4ab4-b771-6776a88b0ad4\" xlink:type=\"simple\"><path d=\"M153.04,135.26 C172,132.46 192.29,129.47 209.82,126.88 \" fill=\"none\" id=\"E4&lt;-E2\" style=\"stroke: #383838; stroke-width: 1.0;\"/><polygon fill=\"#FFFFFF\" points=\"140.17,137.16,146.6903,140.2399,152.0411,135.4057,145.5208,132.3258,140.17,137.16\" style=\"stroke: #383838; stroke-width: 1.0;\"/><text fill=\"#000000\" font-family=\"sans-serif\" font-size=\"13\" lengthAdjust=\"spacingAndGlyphs\" textLength=\"8\" x=\"171\" y=\"128.0669\">p</text></a><!--MD5=[97c744d08d3f8f300534dec9dd262303]\n",
       "@startuml\r\n",
       "left to right direction\r\n",
       "skinparam monochrome true\r\n",
       "skinparam classbackgroundcolor white\r\n",
       "skinparam shadowing false\r\n",
       "skinparam wrapWidth 300\r\n",
       "hide circle\r\n",
       "\r\n",
       "package \"ParameterTest\" as E1  [[psysml:c7000c50-df42-41d3-9ba9-36eed14db093 ]]  {\r\n",
       "comp def \"A\" as E2  <<(T,blue)attribute def>> [[psysml:cb02a2ee-bdc8-478c-9636-92278b567e26 ]] {\r\n",
       "- - attributes - -\r\n",
       "x: String\r\n",
       "y: A\r\n",
       "}\r\n",
       "comp usage \"a: A\" as E3  <<(T,blue)attribute>> [[psysml:50ebccda-29a4-4ea8-943d-69f99c07f732 ]] {\r\n",
       "}\r\n",
       "comp def \"F\" as E4  <<(T,blue)calculation def>> [[psysml:31ea6359-c2ac-42c4-9008-615ad8ad058c ]] {\r\n",
       "}\r\n",
       "comp usage \"f\" as E5  <<(T,blue)attribute>> [[psysml:a5af055b-f2ee-4ef1-a486-dc312f464f3e ]] {\r\n",
       "}\r\n",
       "comp usage \"g\" as E6  <<(T,blue)attribute>> [[psysml:63113e1f-55f0-4199-b954-2673a0b317ed ]] {\r\n",
       "}\r\n",
       "comp usage \"b\" as E7  <<(T,blue)attribute>> [[psysml:537e328f-e5cc-426a-9b09-8cf3e436744c ]] {\r\n",
       "}\r\n",
       "comp usage \"c\" as E8  <<(T,blue)attribute>> [[psysml:2b35c468-a57b-4dfd-a90f-3e1de4d6204b ]] {\r\n",
       "}\r\n",
       "E3 - -:|> E2 [[psysml:50b306d4-0f13-410b-aa85-567dae9acdd8 ]] \r\n",
       "E4 o- - E2 [[psysml:c5b3d96c-9fe7-4ab4-b771-6776a88b0ad4 ]] : p\r\n",
       "}\r\n",
       "@enduml\r\n",
       "\n",
       "PlantUML version 1.2020.13(Sat Jun 13 12:26:38 UTC 2020)\n",
       "(EPL source distribution)\n",
       "Java Runtime: OpenJDK Runtime Environment\n",
       "JVM: OpenJDK 64-Bit Server VM\n",
       "Default Encoding: UTF-8\n",
       "Language: en\n",
       "Country: null\n",
       "--></g></svg>"
      ]
     },
     "execution_count": 17,
     "metadata": {},
     "output_type": "execute_result"
    }
   ],
   "source": [
    "%viz --style=\"LR\" --view=\"Tree\" \"ParameterTest\""
   ]
  },
  {
   "cell_type": "code",
   "execution_count": 18,
   "id": "union-scope",
   "metadata": {
    "execution": {
     "iopub.execute_input": "2021-03-25T15:03:12.561180Z",
     "iopub.status.busy": "2021-03-25T15:03:12.560544Z",
     "iopub.status.idle": "2021-03-25T15:03:12.567679Z",
     "shell.execute_reply": "2021-03-25T15:03:12.567347Z"
    }
   },
   "outputs": [
    {
     "data": {
      "image/svg+xml": [
       "<?xml version=\"1.0\" encoding=\"UTF-8\" standalone=\"no\"?><svg xmlns=\"http://www.w3.org/2000/svg\" xmlns:xlink=\"http://www.w3.org/1999/xlink\" contentScriptType=\"application/ecmascript\" contentStyleType=\"text/css\" height=\"12px\" preserveAspectRatio=\"none\" style=\"width:12px;height:12px;\" version=\"1.1\" viewBox=\"0 0 12 12\" width=\"12px\" zoomAndPan=\"magnify\"><defs/><g><!--MD5=[19d285c9d72a204eba4e2cd117d745e8]\n",
       "@startuml\r\n",
       "left to right direction\r\n",
       "skinparam monochrome true\r\n",
       "skinparam classbackgroundcolor white\r\n",
       "skinparam shadowing false\r\n",
       "skinparam wrapWidth 300\r\n",
       "hide circle\r\n",
       "\r\n",
       "@enduml\r\n",
       "\n",
       "PlantUML version 1.2020.13(Sat Jun 13 12:26:38 UTC 2020)\n",
       "(EPL source distribution)\n",
       "Java Runtime: OpenJDK Runtime Environment\n",
       "JVM: OpenJDK 64-Bit Server VM\n",
       "Default Encoding: UTF-8\n",
       "Language: en\n",
       "Country: null\n",
       "--></g></svg>"
      ]
     },
     "execution_count": 18,
     "metadata": {},
     "output_type": "execute_result"
    }
   ],
   "source": [
    "%viz --style=\"LR\" --view=\"State\" \"ParameterTest\""
   ]
  },
  {
   "cell_type": "code",
   "execution_count": 19,
   "id": "successful-happening",
   "metadata": {
    "execution": {
     "iopub.execute_input": "2021-03-25T15:03:12.620289Z",
     "iopub.status.busy": "2021-03-25T15:03:12.619613Z",
     "iopub.status.idle": "2021-03-25T15:03:12.714984Z",
     "shell.execute_reply": "2021-03-25T15:03:12.714603Z"
    }
   },
   "outputs": [
    {
     "data": {
      "image/svg+xml": [
       "<?xml version=\"1.0\" encoding=\"UTF-8\" standalone=\"no\"?><svg xmlns=\"http://www.w3.org/2000/svg\" xmlns:xlink=\"http://www.w3.org/1999/xlink\" contentScriptType=\"application/ecmascript\" contentStyleType=\"text/css\" height=\"603px\" preserveAspectRatio=\"none\" style=\"width:226px;height:603px;\" version=\"1.1\" viewBox=\"0 0 226 603\" width=\"226px\" zoomAndPan=\"magnify\"><defs/><g><!--MD5=[fbc87193dbaf4d95561dea2c320d4a47]\n",
       "cluster E1--><a href=\"psysml:c7000c50-df42-41d3-9ba9-36eed14db093\" target=\"_top\" title=\"psysml:c7000c50-df42-41d3-9ba9-36eed14db093\" xlink:actuate=\"onRequest\" xlink:href=\"psysml:c7000c50-df42-41d3-9ba9-36eed14db093\" xlink:show=\"new\" xlink:title=\"psysml:c7000c50-df42-41d3-9ba9-36eed14db093\" xlink:type=\"simple\"><polygon fill=\"#FFFFFF\" points=\"16,6,139,6,146,28.2969,204,28.2969,204,591,16,591,16,6\" style=\"stroke: #000000; stroke-width: 1.5;\"/><line style=\"stroke: #000000; stroke-width: 1.5;\" x1=\"16\" x2=\"146\" y1=\"28.2969\" y2=\"28.2969\"/><text fill=\"#000000\" font-family=\"sans-serif\" font-size=\"14\" font-weight=\"bold\" lengthAdjust=\"spacingAndGlyphs\" textLength=\"117\" x=\"20\" y=\"20.9951\">ParameterTest</text></a><!--MD5=[b4997ac47864f28c2f74865a473b2911]\n",
       "class E2--><a href=\"psysml:cb02a2ee-bdc8-478c-9636-92278b567e26\" target=\"_top\" title=\"psysml:cb02a2ee-bdc8-478c-9636-92278b567e26\" xlink:actuate=\"onRequest\" xlink:href=\"psysml:cb02a2ee-bdc8-478c-9636-92278b567e26\" xlink:show=\"new\" xlink:title=\"psysml:cb02a2ee-bdc8-478c-9636-92278b567e26\" xlink:type=\"simple\"><rect fill=\"#FFFFFF\" height=\"53.9375\" id=\"E2\" style=\"stroke: #383838; stroke-width: 1.5;\" width=\"143\" x=\"38.5\" y=\"41\"/><text fill=\"#000000\" font-family=\"sans-serif\" font-size=\"12\" font-style=\"italic\" lengthAdjust=\"spacingAndGlyphs\" textLength=\"141\" x=\"39.5\" y=\"57.1387\">«(T,blue)attribute def»</text><text fill=\"#000000\" font-family=\"sans-serif\" font-size=\"12\" lengthAdjust=\"spacingAndGlyphs\" textLength=\"8\" x=\"106\" y=\"71.1074\">A</text><line style=\"stroke: #383838; stroke-width: 1.5;\" x1=\"39.5\" x2=\"180.5\" y1=\"78.9375\" y2=\"78.9375\"/><line style=\"stroke: #383838; stroke-width: 1.5;\" x1=\"39.5\" x2=\"180.5\" y1=\"86.9375\" y2=\"86.9375\"/></a><!--MD5=[ebbe1d658d1005bcc118a6aa81145e00]\n",
       "class E4--><a href=\"psysml:31ea6359-c2ac-42c4-9008-615ad8ad058c\" target=\"_top\" title=\"psysml:31ea6359-c2ac-42c4-9008-615ad8ad058c\" xlink:actuate=\"onRequest\" xlink:href=\"psysml:31ea6359-c2ac-42c4-9008-615ad8ad058c\" xlink:show=\"new\" xlink:title=\"psysml:31ea6359-c2ac-42c4-9008-615ad8ad058c\" xlink:type=\"simple\"><rect fill=\"#FFFFFF\" height=\"53.9375\" id=\"E4\" style=\"stroke: #383838; stroke-width: 1.5;\" width=\"156\" x=\"32\" y=\"130\"/><text fill=\"#000000\" font-family=\"sans-serif\" font-size=\"12\" font-style=\"italic\" lengthAdjust=\"spacingAndGlyphs\" textLength=\"154\" x=\"33\" y=\"146.1387\">«(T,blue)calculation def»</text><text fill=\"#000000\" font-family=\"sans-serif\" font-size=\"12\" lengthAdjust=\"spacingAndGlyphs\" textLength=\"7\" x=\"106.5\" y=\"160.1074\">F</text><line style=\"stroke: #383838; stroke-width: 1.5;\" x1=\"33\" x2=\"187\" y1=\"167.9375\" y2=\"167.9375\"/><line style=\"stroke: #383838; stroke-width: 1.5;\" x1=\"33\" x2=\"187\" y1=\"175.9375\" y2=\"175.9375\"/></a><g id=\"E1.E3\"><a href=\"psysml:50ebccda-29a4-4ea8-943d-69f99c07f732\" target=\"_top\" title=\"psysml:50ebccda-29a4-4ea8-943d-69f99c07f732\" xlink:actuate=\"onRequest\" xlink:href=\"psysml:50ebccda-29a4-4ea8-943d-69f99c07f732\" xlink:show=\"new\" xlink:title=\"psysml:50ebccda-29a4-4ea8-943d-69f99c07f732\" xlink:type=\"simple\"><rect fill=\"#FFFFFF\" height=\"42.9375\" id=\"E3\" rx=\"10\" ry=\"10\" style=\"stroke: #383838; stroke-width: 1.5;\" width=\"76\" x=\"72\" y=\"219.5\"/><rect fill=\"#F8F8F8\" height=\"37.9375\" rx=\"10\" ry=\"10\" style=\"stroke: #F8F8F8; stroke-width: 1.5;\" width=\"76\" x=\"72\" y=\"219.5\"/><rect fill=\"#F8F8F8\" height=\"10\" style=\"stroke: #F8F8F8; stroke-width: 1.5;\" width=\"76\" x=\"72\" y=\"247.4375\"/><rect fill=\"none\" height=\"42.9375\" id=\"E3\" rx=\"10\" ry=\"10\" style=\"stroke: #383838; stroke-width: 1.5;\" width=\"76\" x=\"72\" y=\"219.5\"/><text fill=\"#000000\" font-family=\"sans-serif\" font-size=\"12\" font-style=\"italic\" lengthAdjust=\"spacingAndGlyphs\" textLength=\"69\" x=\"75.5\" y=\"235.6387\">«attribute»</text><text fill=\"#000000\" font-family=\"sans-serif\" font-size=\"12\" lengthAdjust=\"spacingAndGlyphs\" textLength=\"24\" x=\"98\" y=\"249.6074\">a: A</text></a></g><g id=\"E1.E5\"><a href=\"psysml:a5af055b-f2ee-4ef1-a486-dc312f464f3e\" target=\"_top\" title=\"psysml:a5af055b-f2ee-4ef1-a486-dc312f464f3e\" xlink:actuate=\"onRequest\" xlink:href=\"psysml:a5af055b-f2ee-4ef1-a486-dc312f464f3e\" xlink:show=\"new\" xlink:title=\"psysml:a5af055b-f2ee-4ef1-a486-dc312f464f3e\" xlink:type=\"simple\"><rect fill=\"#FFFFFF\" height=\"42.9375\" id=\"E5\" rx=\"10\" ry=\"10\" style=\"stroke: #383838; stroke-width: 1.5;\" width=\"76\" x=\"72\" y=\"297.5\"/><rect fill=\"#F8F8F8\" height=\"37.9375\" rx=\"10\" ry=\"10\" style=\"stroke: #F8F8F8; stroke-width: 1.5;\" width=\"76\" x=\"72\" y=\"297.5\"/><rect fill=\"#F8F8F8\" height=\"10\" style=\"stroke: #F8F8F8; stroke-width: 1.5;\" width=\"76\" x=\"72\" y=\"325.4375\"/><rect fill=\"none\" height=\"42.9375\" id=\"E5\" rx=\"10\" ry=\"10\" style=\"stroke: #383838; stroke-width: 1.5;\" width=\"76\" x=\"72\" y=\"297.5\"/><text fill=\"#000000\" font-family=\"sans-serif\" font-size=\"12\" font-style=\"italic\" lengthAdjust=\"spacingAndGlyphs\" textLength=\"69\" x=\"75.5\" y=\"313.6387\">«attribute»</text><text fill=\"#000000\" font-family=\"sans-serif\" font-size=\"12\" lengthAdjust=\"spacingAndGlyphs\" textLength=\"4\" x=\"108\" y=\"327.6074\">f</text></a></g><g id=\"E1.E6\"><a href=\"psysml:63113e1f-55f0-4199-b954-2673a0b317ed\" target=\"_top\" title=\"psysml:63113e1f-55f0-4199-b954-2673a0b317ed\" xlink:actuate=\"onRequest\" xlink:href=\"psysml:63113e1f-55f0-4199-b954-2673a0b317ed\" xlink:show=\"new\" xlink:title=\"psysml:63113e1f-55f0-4199-b954-2673a0b317ed\" xlink:type=\"simple\"><rect fill=\"#FFFFFF\" height=\"42.9375\" id=\"E6\" rx=\"10\" ry=\"10\" style=\"stroke: #383838; stroke-width: 1.5;\" width=\"76\" x=\"72\" y=\"375.5\"/><rect fill=\"#F8F8F8\" height=\"37.9375\" rx=\"10\" ry=\"10\" style=\"stroke: #F8F8F8; stroke-width: 1.5;\" width=\"76\" x=\"72\" y=\"375.5\"/><rect fill=\"#F8F8F8\" height=\"10\" style=\"stroke: #F8F8F8; stroke-width: 1.5;\" width=\"76\" x=\"72\" y=\"403.4375\"/><rect fill=\"none\" height=\"42.9375\" id=\"E6\" rx=\"10\" ry=\"10\" style=\"stroke: #383838; stroke-width: 1.5;\" width=\"76\" x=\"72\" y=\"375.5\"/><text fill=\"#000000\" font-family=\"sans-serif\" font-size=\"12\" font-style=\"italic\" lengthAdjust=\"spacingAndGlyphs\" textLength=\"69\" x=\"75.5\" y=\"391.6387\">«attribute»</text><text fill=\"#000000\" font-family=\"sans-serif\" font-size=\"12\" lengthAdjust=\"spacingAndGlyphs\" textLength=\"8\" x=\"106\" y=\"405.6074\">g</text></a></g><g id=\"E1.E7\"><a href=\"psysml:537e328f-e5cc-426a-9b09-8cf3e436744c\" target=\"_top\" title=\"psysml:537e328f-e5cc-426a-9b09-8cf3e436744c\" xlink:actuate=\"onRequest\" xlink:href=\"psysml:537e328f-e5cc-426a-9b09-8cf3e436744c\" xlink:show=\"new\" xlink:title=\"psysml:537e328f-e5cc-426a-9b09-8cf3e436744c\" xlink:type=\"simple\"><rect fill=\"#FFFFFF\" height=\"42.9375\" id=\"E7\" rx=\"10\" ry=\"10\" style=\"stroke: #383838; stroke-width: 1.5;\" width=\"76\" x=\"72\" y=\"453.5\"/><rect fill=\"#F8F8F8\" height=\"37.9375\" rx=\"10\" ry=\"10\" style=\"stroke: #F8F8F8; stroke-width: 1.5;\" width=\"76\" x=\"72\" y=\"453.5\"/><rect fill=\"#F8F8F8\" height=\"10\" style=\"stroke: #F8F8F8; stroke-width: 1.5;\" width=\"76\" x=\"72\" y=\"481.4375\"/><rect fill=\"none\" height=\"42.9375\" id=\"E7\" rx=\"10\" ry=\"10\" style=\"stroke: #383838; stroke-width: 1.5;\" width=\"76\" x=\"72\" y=\"453.5\"/><text fill=\"#000000\" font-family=\"sans-serif\" font-size=\"12\" font-style=\"italic\" lengthAdjust=\"spacingAndGlyphs\" textLength=\"69\" x=\"75.5\" y=\"469.6387\">«attribute»</text><text fill=\"#000000\" font-family=\"sans-serif\" font-size=\"12\" lengthAdjust=\"spacingAndGlyphs\" textLength=\"8\" x=\"106\" y=\"483.6074\">b</text></a></g><g id=\"E1.E8\"><a href=\"psysml:2b35c468-a57b-4dfd-a90f-3e1de4d6204b\" target=\"_top\" title=\"psysml:2b35c468-a57b-4dfd-a90f-3e1de4d6204b\" xlink:actuate=\"onRequest\" xlink:href=\"psysml:2b35c468-a57b-4dfd-a90f-3e1de4d6204b\" xlink:show=\"new\" xlink:title=\"psysml:2b35c468-a57b-4dfd-a90f-3e1de4d6204b\" xlink:type=\"simple\"><rect fill=\"#FFFFFF\" height=\"42.9375\" id=\"E8\" rx=\"10\" ry=\"10\" style=\"stroke: #383838; stroke-width: 1.5;\" width=\"76\" x=\"72\" y=\"531.5\"/><rect fill=\"#F8F8F8\" height=\"37.9375\" rx=\"10\" ry=\"10\" style=\"stroke: #F8F8F8; stroke-width: 1.5;\" width=\"76\" x=\"72\" y=\"531.5\"/><rect fill=\"#F8F8F8\" height=\"10\" style=\"stroke: #F8F8F8; stroke-width: 1.5;\" width=\"76\" x=\"72\" y=\"559.4375\"/><rect fill=\"none\" height=\"42.9375\" id=\"E8\" rx=\"10\" ry=\"10\" style=\"stroke: #383838; stroke-width: 1.5;\" width=\"76\" x=\"72\" y=\"531.5\"/><text fill=\"#000000\" font-family=\"sans-serif\" font-size=\"12\" font-style=\"italic\" lengthAdjust=\"spacingAndGlyphs\" textLength=\"69\" x=\"75.5\" y=\"547.6387\">«attribute»</text><text fill=\"#000000\" font-family=\"sans-serif\" font-size=\"12\" lengthAdjust=\"spacingAndGlyphs\" textLength=\"7\" x=\"106.5\" y=\"561.6074\">c</text></a></g><!--MD5=[3355f4a24265e003e30f795e046c045b]\n",
       "@startuml\r\n",
       "skinparam ranksep 8\r\n",
       "skinparam rectangle {\r\n",
       " backgroundColor<<block>> LightGreen\r\n",
       "}\r\n",
       "left to right direction\r\n",
       "skinparam monochrome true\r\n",
       "skinparam classbackgroundcolor white\r\n",
       "skinparam shadowing false\r\n",
       "skinparam wrapWidth 300\r\n",
       "hide circle\r\n",
       "\r\n",
       "package \"ParameterTest\" as E1  [[psysml:c7000c50-df42-41d3-9ba9-36eed14db093 ]]  {\r\n",
       "def \"A\" as E2  <<(T,blue)attribute def>> [[psysml:cb02a2ee-bdc8-478c-9636-92278b567e26 ]] \r\n",
       "rec usage \"a: A\" as E3  <<(T,blue)attribute>> [[psysml:50ebccda-29a4-4ea8-943d-69f99c07f732 ]] {\r\n",
       "}\r\n",
       "def \"F\" as E4  <<(T,blue)calculation def>> [[psysml:31ea6359-c2ac-42c4-9008-615ad8ad058c ]] \r\n",
       "rec usage \"f\" as E5  <<(T,blue)attribute>> [[psysml:a5af055b-f2ee-4ef1-a486-dc312f464f3e ]] {\r\n",
       "}\r\n",
       "rec usage \"g\" as E6  <<(T,blue)attribute>> [[psysml:63113e1f-55f0-4199-b954-2673a0b317ed ]] {\r\n",
       "}\r\n",
       "rec usage \"b\" as E7  <<(T,blue)attribute>> [[psysml:537e328f-e5cc-426a-9b09-8cf3e436744c ]] {\r\n",
       "}\r\n",
       "rec usage \"c\" as E8  <<(T,blue)attribute>> [[psysml:2b35c468-a57b-4dfd-a90f-3e1de4d6204b ]] {\r\n",
       "}\r\n",
       "}\r\n",
       "@enduml\r\n",
       "\n",
       "PlantUML version 1.2020.13(Sat Jun 13 12:26:38 UTC 2020)\n",
       "(EPL source distribution)\n",
       "Java Runtime: OpenJDK Runtime Environment\n",
       "JVM: OpenJDK 64-Bit Server VM\n",
       "Default Encoding: UTF-8\n",
       "Language: en\n",
       "Country: null\n",
       "--></g></svg>"
      ]
     },
     "execution_count": 19,
     "metadata": {},
     "output_type": "execute_result"
    }
   ],
   "source": [
    "%viz --style=\"LR\" --view=\"Interconnection\" \"ParameterTest\""
   ]
  },
  {
   "cell_type": "code",
   "execution_count": 20,
   "id": "integral-bubble",
   "metadata": {
    "execution": {
     "iopub.execute_input": "2021-03-25T15:03:12.765711Z",
     "iopub.status.busy": "2021-03-25T15:03:12.765269Z",
     "iopub.status.idle": "2021-03-25T15:03:12.829613Z",
     "shell.execute_reply": "2021-03-25T15:03:12.829272Z"
    }
   },
   "outputs": [
    {
     "data": {
      "image/svg+xml": [
       "<?xml version=\"1.0\" encoding=\"UTF-8\" standalone=\"no\"?><svg xmlns=\"http://www.w3.org/2000/svg\" xmlns:xlink=\"http://www.w3.org/1999/xlink\" contentScriptType=\"application/ecmascript\" contentStyleType=\"text/css\" height=\"121px\" preserveAspectRatio=\"none\" style=\"width:207px;height:121px;\" version=\"1.1\" viewBox=\"0 0 207 121\" width=\"207px\" zoomAndPan=\"magnify\"><defs/><g><!--MD5=[fbc87193dbaf4d95561dea2c320d4a47]\n",
       "cluster E1--><a href=\"psysml:31ea6359-c2ac-42c4-9008-615ad8ad058c\" target=\"_top\" title=\"psysml:31ea6359-c2ac-42c4-9008-615ad8ad058c\" xlink:actuate=\"onRequest\" xlink:href=\"psysml:31ea6359-c2ac-42c4-9008-615ad8ad058c\" xlink:show=\"new\" xlink:title=\"psysml:31ea6359-c2ac-42c4-9008-615ad8ad058c\" xlink:type=\"simple\"><rect fill=\"#FFFFFF\" height=\"47\" id=\"E1\" style=\"stroke: #383838; stroke-width: 1.5;\" width=\"189\" x=\"7\" y=\"42.0986\"/><rect fill=\"#F8F8F8\" height=\"37.9375\" style=\"stroke: #383838; stroke-width: 1.5;\" width=\"189\" x=\"7\" y=\"42.0986\"/><text fill=\"#000000\" font-family=\"sans-serif\" font-size=\"12\" font-style=\"italic\" lengthAdjust=\"spacingAndGlyphs\" textLength=\"106\" x=\"48.5\" y=\"58.2373\">«calculation def»</text><text fill=\"#000000\" font-family=\"sans-serif\" font-size=\"12\" lengthAdjust=\"spacingAndGlyphs\" textLength=\"7\" x=\"98\" y=\"72.2061\">F</text></a><text fill=\"#000000\" font-family=\"sans-serif\" font-size=\"14\" lengthAdjust=\"spacingAndGlyphs\" textLength=\"9\" x=\"20.5\" y=\"108.0938\">p</text><rect fill=\"#383838\" height=\"12\" style=\"stroke: #F8F8F8; stroke-width: 1.5;\" width=\"12\" x=\"19\" y=\"83.0986\"/><text fill=\"#000000\" font-family=\"sans-serif\" font-size=\"14\" lengthAdjust=\"spacingAndGlyphs\" textLength=\"9\" x=\"20.5\" y=\"20.7969\">q</text><rect fill=\"#383838\" height=\"12\" style=\"stroke: #F8F8F8; stroke-width: 1.5;\" width=\"12\" x=\"19\" y=\"36.0986\"/><!--MD5=[be8dd24e134e91bab3b0c90ab49e10ea]\n",
       "@startuml\r\n",
       "skinparam ranksep 8\r\n",
       "left to right direction\r\n",
       "skinparam monochrome true\r\n",
       "skinparam classbackgroundcolor white\r\n",
       "skinparam shadowing false\r\n",
       "skinparam wrapWidth 300\r\n",
       "hide circle\r\n",
       "\r\n",
       "rec def \"F\" as E1  <<(T,blue)calculation def>> [[psysml:31ea6359-c2ac-42c4-9008-615ad8ad058c ]] {\r\n",
       "portin \"p\" as E2  [[psysml:c5b3d96c-9fe7-4ab4-b771-6776a88b0ad4 ]] \r\n",
       "portin \"q\" as E3  [[psysml:66adf659-8704-40ab-88b3-19d2477512b1 ]] \r\n",
       "}\r\n",
       "\r\n",
       "@enduml\r\n",
       "\n",
       "PlantUML version 1.2020.13(Sat Jun 13 12:26:38 UTC 2020)\n",
       "(EPL source distribution)\n",
       "Java Runtime: OpenJDK Runtime Environment\n",
       "JVM: OpenJDK 64-Bit Server VM\n",
       "Default Encoding: UTF-8\n",
       "Language: en\n",
       "Country: null\n",
       "--></g></svg>"
      ]
     },
     "execution_count": 20,
     "metadata": {},
     "output_type": "execute_result"
    }
   ],
   "source": [
    "%viz --style=\"LR\" --view=\"Action\" \"ParameterTest\""
   ]
  },
  {
   "cell_type": "code",
   "execution_count": 21,
   "id": "sudden-cornell",
   "metadata": {
    "execution": {
     "iopub.execute_input": "2021-03-25T15:03:12.880484Z",
     "iopub.status.busy": "2021-03-25T15:03:12.879991Z",
     "iopub.status.idle": "2021-03-25T15:03:13.146121Z",
     "shell.execute_reply": "2021-03-25T15:03:13.144820Z"
    }
   },
   "outputs": [
    {
     "data": {
      "image/svg+xml": [
       "<?xml version=\"1.0\" encoding=\"UTF-8\" standalone=\"no\"?><svg xmlns=\"http://www.w3.org/2000/svg\" xmlns:xlink=\"http://www.w3.org/1999/xlink\" contentScriptType=\"application/ecmascript\" contentStyleType=\"text/css\" height=\"520px\" preserveAspectRatio=\"none\" style=\"width:343px;height:520px;\" version=\"1.1\" viewBox=\"0 0 343 520\" width=\"343px\" zoomAndPan=\"magnify\"><defs/><g><!--MD5=[fbc87193dbaf4d95561dea2c320d4a47]\n",
       "cluster E1--><a href=\"psysml:c7000c50-df42-41d3-9ba9-36eed14db093\" target=\"_top\" title=\"psysml:c7000c50-df42-41d3-9ba9-36eed14db093\" xlink:actuate=\"onRequest\" xlink:href=\"psysml:c7000c50-df42-41d3-9ba9-36eed14db093\" xlink:show=\"new\" xlink:title=\"psysml:c7000c50-df42-41d3-9ba9-36eed14db093\" xlink:type=\"simple\"><polygon fill=\"#FFFFFF\" points=\"16,6,139,6,146,28.2969,321,28.2969,321,508,16,508,16,6\" style=\"stroke: #000000; stroke-width: 1.5;\"/><line style=\"stroke: #000000; stroke-width: 1.5;\" x1=\"16\" x2=\"146\" y1=\"28.2969\" y2=\"28.2969\"/><text fill=\"#000000\" font-family=\"sans-serif\" font-size=\"14\" font-weight=\"bold\" lengthAdjust=\"spacingAndGlyphs\" textLength=\"117\" x=\"20\" y=\"20.9951\">ParameterTest</text></a><!--MD5=[b4997ac47864f28c2f74865a473b2911]\n",
       "class E2--><a href=\"psysml:cb02a2ee-bdc8-478c-9636-92278b567e26\" target=\"_top\" title=\"psysml:cb02a2ee-bdc8-478c-9636-92278b567e26\" xlink:actuate=\"onRequest\" xlink:href=\"psysml:cb02a2ee-bdc8-478c-9636-92278b567e26\" xlink:show=\"new\" xlink:title=\"psysml:cb02a2ee-bdc8-478c-9636-92278b567e26\" xlink:type=\"simple\"><rect fill=\"#FFFFFF\" height=\"88.3516\" id=\"E2\" style=\"stroke: #383838; stroke-width: 1.5;\" width=\"95\" x=\"210\" y=\"76\"/><text fill=\"#000000\" font-family=\"sans-serif\" font-size=\"12\" font-style=\"italic\" lengthAdjust=\"spacingAndGlyphs\" textLength=\"93\" x=\"211\" y=\"92.1387\">«attribute def»</text><text fill=\"#000000\" font-family=\"sans-serif\" font-size=\"12\" lengthAdjust=\"spacingAndGlyphs\" textLength=\"8\" x=\"253.5\" y=\"106.1074\">A</text><line style=\"stroke: #383838; stroke-width: 1.5;\" x1=\"211\" x2=\"304\" y1=\"113.9375\" y2=\"113.9375\"/><text fill=\"#000000\" font-family=\"sans-serif\" font-size=\"11\" lengthAdjust=\"spacingAndGlyphs\" textLength=\"48\" x=\"216\" y=\"144.9526\">x: String</text><text fill=\"#000000\" font-family=\"sans-serif\" font-size=\"11\" lengthAdjust=\"spacingAndGlyphs\" textLength=\"21\" x=\"216\" y=\"157.7573\">y: A</text><line style=\"stroke: #383838; stroke-width: 1.0;\" x1=\"211\" x2=\"230\" y1=\"128.3398\" y2=\"128.3398\"/><text fill=\"#000000\" font-family=\"sans-serif\" font-size=\"11\" lengthAdjust=\"spacingAndGlyphs\" textLength=\"55\" x=\"230\" y=\"131.6479\">attributes</text><line style=\"stroke: #383838; stroke-width: 1.0;\" x1=\"285\" x2=\"304\" y1=\"128.3398\" y2=\"128.3398\"/></a><!--MD5=[09b614a08d8cba4a07c9adeb5e0fee81]\n",
       "class E3--><a href=\"psysml:50ebccda-29a4-4ea8-943d-69f99c07f732\" target=\"_top\" title=\"psysml:50ebccda-29a4-4ea8-943d-69f99c07f732\" xlink:actuate=\"onRequest\" xlink:href=\"psysml:50ebccda-29a4-4ea8-943d-69f99c07f732\" xlink:show=\"new\" xlink:title=\"psysml:50ebccda-29a4-4ea8-943d-69f99c07f732\" xlink:type=\"simple\"><rect fill=\"#FFFFFF\" height=\"45.9375\" id=\"E3\" rx=\"10\" ry=\"10\" style=\"stroke: #383838; stroke-width: 1.5;\" width=\"71\" x=\"50.5\" y=\"41\"/><text fill=\"#000000\" font-family=\"sans-serif\" font-size=\"12\" font-style=\"italic\" lengthAdjust=\"spacingAndGlyphs\" textLength=\"69\" x=\"51.5\" y=\"57.1387\">«attribute»</text><text fill=\"#000000\" font-family=\"sans-serif\" font-size=\"12\" lengthAdjust=\"spacingAndGlyphs\" textLength=\"24\" x=\"74\" y=\"71.1074\">a: A</text><line style=\"stroke: #383838; stroke-width: 1.5;\" x1=\"51.5\" x2=\"120.5\" y1=\"78.9375\" y2=\"78.9375\"/></a><!--MD5=[ebbe1d658d1005bcc118a6aa81145e00]\n",
       "class E4--><a href=\"psysml:31ea6359-c2ac-42c4-9008-615ad8ad058c\" target=\"_top\" title=\"psysml:31ea6359-c2ac-42c4-9008-615ad8ad058c\" xlink:actuate=\"onRequest\" xlink:href=\"psysml:31ea6359-c2ac-42c4-9008-615ad8ad058c\" xlink:show=\"new\" xlink:title=\"psysml:31ea6359-c2ac-42c4-9008-615ad8ad058c\" xlink:type=\"simple\"><rect fill=\"#FFFFFF\" height=\"45.9375\" id=\"E4\" style=\"stroke: #383838; stroke-width: 1.5;\" width=\"108\" x=\"32\" y=\"122\"/><text fill=\"#000000\" font-family=\"sans-serif\" font-size=\"12\" font-style=\"italic\" lengthAdjust=\"spacingAndGlyphs\" textLength=\"106\" x=\"33\" y=\"138.1387\">«calculation def»</text><text fill=\"#000000\" font-family=\"sans-serif\" font-size=\"12\" lengthAdjust=\"spacingAndGlyphs\" textLength=\"7\" x=\"82.5\" y=\"152.1074\">F</text><line style=\"stroke: #383838; stroke-width: 1.5;\" x1=\"33\" x2=\"139\" y1=\"159.9375\" y2=\"159.9375\"/></a><!--MD5=[270fce915f116d4de14055a7c1d9a0f3]\n",
       "class E5--><a href=\"psysml:a5af055b-f2ee-4ef1-a486-dc312f464f3e\" target=\"_top\" title=\"psysml:a5af055b-f2ee-4ef1-a486-dc312f464f3e\" xlink:actuate=\"onRequest\" xlink:href=\"psysml:a5af055b-f2ee-4ef1-a486-dc312f464f3e\" xlink:show=\"new\" xlink:title=\"psysml:a5af055b-f2ee-4ef1-a486-dc312f464f3e\" xlink:type=\"simple\"><rect fill=\"#FFFFFF\" height=\"45.9375\" id=\"E5\" rx=\"10\" ry=\"10\" style=\"stroke: #383838; stroke-width: 1.5;\" width=\"71\" x=\"50.5\" y=\"203\"/><text fill=\"#000000\" font-family=\"sans-serif\" font-size=\"12\" font-style=\"italic\" lengthAdjust=\"spacingAndGlyphs\" textLength=\"69\" x=\"51.5\" y=\"219.1387\">«attribute»</text><text fill=\"#000000\" font-family=\"sans-serif\" font-size=\"12\" lengthAdjust=\"spacingAndGlyphs\" textLength=\"4\" x=\"84\" y=\"233.1074\">f</text><line style=\"stroke: #383838; stroke-width: 1.5;\" x1=\"51.5\" x2=\"120.5\" y1=\"240.9375\" y2=\"240.9375\"/></a><!--MD5=[60a26617385b1d2d0262a64233df1f8d]\n",
       "class E6--><a href=\"psysml:63113e1f-55f0-4199-b954-2673a0b317ed\" target=\"_top\" title=\"psysml:63113e1f-55f0-4199-b954-2673a0b317ed\" xlink:actuate=\"onRequest\" xlink:href=\"psysml:63113e1f-55f0-4199-b954-2673a0b317ed\" xlink:show=\"new\" xlink:title=\"psysml:63113e1f-55f0-4199-b954-2673a0b317ed\" xlink:type=\"simple\"><rect fill=\"#FFFFFF\" height=\"45.9375\" id=\"E6\" rx=\"10\" ry=\"10\" style=\"stroke: #383838; stroke-width: 1.5;\" width=\"71\" x=\"50.5\" y=\"284\"/><text fill=\"#000000\" font-family=\"sans-serif\" font-size=\"12\" font-style=\"italic\" lengthAdjust=\"spacingAndGlyphs\" textLength=\"69\" x=\"51.5\" y=\"300.1387\">«attribute»</text><text fill=\"#000000\" font-family=\"sans-serif\" font-size=\"12\" lengthAdjust=\"spacingAndGlyphs\" textLength=\"8\" x=\"82\" y=\"314.1074\">g</text><line style=\"stroke: #383838; stroke-width: 1.5;\" x1=\"51.5\" x2=\"120.5\" y1=\"321.9375\" y2=\"321.9375\"/></a><!--MD5=[2156ba9850f5573cc1fc38a6a4b2f02b]\n",
       "class E7--><a href=\"psysml:537e328f-e5cc-426a-9b09-8cf3e436744c\" target=\"_top\" title=\"psysml:537e328f-e5cc-426a-9b09-8cf3e436744c\" xlink:actuate=\"onRequest\" xlink:href=\"psysml:537e328f-e5cc-426a-9b09-8cf3e436744c\" xlink:show=\"new\" xlink:title=\"psysml:537e328f-e5cc-426a-9b09-8cf3e436744c\" xlink:type=\"simple\"><rect fill=\"#FFFFFF\" height=\"45.9375\" id=\"E7\" rx=\"10\" ry=\"10\" style=\"stroke: #383838; stroke-width: 1.5;\" width=\"71\" x=\"50.5\" y=\"365\"/><text fill=\"#000000\" font-family=\"sans-serif\" font-size=\"12\" font-style=\"italic\" lengthAdjust=\"spacingAndGlyphs\" textLength=\"69\" x=\"51.5\" y=\"381.1387\">«attribute»</text><text fill=\"#000000\" font-family=\"sans-serif\" font-size=\"12\" lengthAdjust=\"spacingAndGlyphs\" textLength=\"8\" x=\"82\" y=\"395.1074\">b</text><line style=\"stroke: #383838; stroke-width: 1.5;\" x1=\"51.5\" x2=\"120.5\" y1=\"402.9375\" y2=\"402.9375\"/></a><!--MD5=[b9389687b975829384b498ac4b7476b2]\n",
       "class E8--><a href=\"psysml:2b35c468-a57b-4dfd-a90f-3e1de4d6204b\" target=\"_top\" title=\"psysml:2b35c468-a57b-4dfd-a90f-3e1de4d6204b\" xlink:actuate=\"onRequest\" xlink:href=\"psysml:2b35c468-a57b-4dfd-a90f-3e1de4d6204b\" xlink:show=\"new\" xlink:title=\"psysml:2b35c468-a57b-4dfd-a90f-3e1de4d6204b\" xlink:type=\"simple\"><rect fill=\"#FFFFFF\" height=\"45.9375\" id=\"E8\" rx=\"10\" ry=\"10\" style=\"stroke: #383838; stroke-width: 1.5;\" width=\"71\" x=\"50.5\" y=\"446\"/><text fill=\"#000000\" font-family=\"sans-serif\" font-size=\"12\" font-style=\"italic\" lengthAdjust=\"spacingAndGlyphs\" textLength=\"69\" x=\"51.5\" y=\"462.1387\">«attribute»</text><text fill=\"#000000\" font-family=\"sans-serif\" font-size=\"12\" lengthAdjust=\"spacingAndGlyphs\" textLength=\"7\" x=\"82.5\" y=\"476.1074\">c</text><line style=\"stroke: #383838; stroke-width: 1.5;\" x1=\"51.5\" x2=\"120.5\" y1=\"483.9375\" y2=\"483.9375\"/></a><!--MD5=[05d275557350bfb9b23a4ef7222b4c39]\n",
       "link E3 to E2--><a href=\"psysml:50b306d4-0f13-410b-aa85-567dae9acdd8\" target=\"_top\" title=\"psysml:50b306d4-0f13-410b-aa85-567dae9acdd8\" xlink:actuate=\"onRequest\" xlink:href=\"psysml:50b306d4-0f13-410b-aa85-567dae9acdd8\" xlink:show=\"new\" xlink:title=\"psysml:50b306d4-0f13-410b-aa85-567dae9acdd8\" xlink:type=\"simple\"><path d=\"M121.71,75.47 C141.61,82.04 167.25,90.51 190.81,98.3 \" fill=\"none\" id=\"E3-&gt;E2\" style=\"stroke: #383838; stroke-width: 1.0;\"/><polygon fill=\"#FFFFFF\" points=\"209.94,104.62,189.7032,105.3073,194.0944,92.0138,209.94,104.62\" style=\"stroke: #383838; stroke-width: 1.0;\"/><ellipse cx=\"184.9182\" cy=\"101.6204\" fill=\"#383838\" rx=\"2\" ry=\"2\" style=\"stroke: #383838; stroke-width: 1.0;\"/><ellipse cx=\"188.0547\" cy=\"92.125\" fill=\"#383838\" rx=\"2\" ry=\"2\" style=\"stroke: #383838; stroke-width: 1.0;\"/></a><!--MD5=[ddeed8deb2209213b62e6cfabaa108b2]\n",
       "reverse link E4 to E2--><a href=\"psysml:c5b3d96c-9fe7-4ab4-b771-6776a88b0ad4\" target=\"_top\" title=\"psysml:c5b3d96c-9fe7-4ab4-b771-6776a88b0ad4\" xlink:actuate=\"onRequest\" xlink:href=\"psysml:c5b3d96c-9fe7-4ab4-b771-6776a88b0ad4\" xlink:show=\"new\" xlink:title=\"psysml:c5b3d96c-9fe7-4ab4-b771-6776a88b0ad4\" xlink:type=\"simple\"><path d=\"M153.04,135.26 C172,132.46 192.29,129.47 209.82,126.88 \" fill=\"none\" id=\"E4&lt;-E2\" style=\"stroke: #383838; stroke-width: 1.0;\"/><polygon fill=\"#FFFFFF\" points=\"140.17,137.16,146.6903,140.2399,152.0411,135.4057,145.5208,132.3258,140.17,137.16\" style=\"stroke: #383838; stroke-width: 1.0;\"/><text fill=\"#000000\" font-family=\"sans-serif\" font-size=\"13\" lengthAdjust=\"spacingAndGlyphs\" textLength=\"8\" x=\"171\" y=\"128.0669\">p</text></a><!--MD5=[97c744d08d3f8f300534dec9dd262303]\n",
       "@startuml\r\n",
       "left to right direction\r\n",
       "skinparam monochrome true\r\n",
       "skinparam classbackgroundcolor white\r\n",
       "skinparam shadowing false\r\n",
       "skinparam wrapWidth 300\r\n",
       "hide circle\r\n",
       "\r\n",
       "package \"ParameterTest\" as E1  [[psysml:c7000c50-df42-41d3-9ba9-36eed14db093 ]]  {\r\n",
       "comp def \"A\" as E2  <<(T,blue)attribute def>> [[psysml:cb02a2ee-bdc8-478c-9636-92278b567e26 ]] {\r\n",
       "- - attributes - -\r\n",
       "x: String\r\n",
       "y: A\r\n",
       "}\r\n",
       "comp usage \"a: A\" as E3  <<(T,blue)attribute>> [[psysml:50ebccda-29a4-4ea8-943d-69f99c07f732 ]] {\r\n",
       "}\r\n",
       "comp def \"F\" as E4  <<(T,blue)calculation def>> [[psysml:31ea6359-c2ac-42c4-9008-615ad8ad058c ]] {\r\n",
       "}\r\n",
       "comp usage \"f\" as E5  <<(T,blue)attribute>> [[psysml:a5af055b-f2ee-4ef1-a486-dc312f464f3e ]] {\r\n",
       "}\r\n",
       "comp usage \"g\" as E6  <<(T,blue)attribute>> [[psysml:63113e1f-55f0-4199-b954-2673a0b317ed ]] {\r\n",
       "}\r\n",
       "comp usage \"b\" as E7  <<(T,blue)attribute>> [[psysml:537e328f-e5cc-426a-9b09-8cf3e436744c ]] {\r\n",
       "}\r\n",
       "comp usage \"c\" as E8  <<(T,blue)attribute>> [[psysml:2b35c468-a57b-4dfd-a90f-3e1de4d6204b ]] {\r\n",
       "}\r\n",
       "E3 - -:|> E2 [[psysml:50b306d4-0f13-410b-aa85-567dae9acdd8 ]] \r\n",
       "E4 o- - E2 [[psysml:c5b3d96c-9fe7-4ab4-b771-6776a88b0ad4 ]] : p\r\n",
       "}\r\n",
       "@enduml\r\n",
       "\n",
       "PlantUML version 1.2020.13(Sat Jun 13 12:26:38 UTC 2020)\n",
       "(EPL source distribution)\n",
       "Java Runtime: OpenJDK Runtime Environment\n",
       "JVM: OpenJDK 64-Bit Server VM\n",
       "Default Encoding: UTF-8\n",
       "Language: en\n",
       "Country: null\n",
       "--></g></svg>"
      ]
     },
     "execution_count": 21,
     "metadata": {},
     "output_type": "execute_result"
    }
   ],
   "source": [
    "%viz --style=\"LR\" --view=\"Sequence\" \"ParameterTest\""
   ]
  },
  {
   "cell_type": "code",
   "execution_count": 22,
   "id": "negative-thanks",
   "metadata": {
    "execution": {
     "iopub.execute_input": "2021-03-25T15:03:13.196610Z",
     "iopub.status.busy": "2021-03-25T15:03:13.196137Z",
     "iopub.status.idle": "2021-03-25T15:03:13.492605Z",
     "shell.execute_reply": "2021-03-25T15:03:13.493043Z"
    }
   },
   "outputs": [
    {
     "data": {
      "image/svg+xml": [
       "<?xml version=\"1.0\" encoding=\"UTF-8\" standalone=\"no\"?><svg xmlns=\"http://www.w3.org/2000/svg\" xmlns:xlink=\"http://www.w3.org/1999/xlink\" contentScriptType=\"application/ecmascript\" contentStyleType=\"text/css\" height=\"541px\" preserveAspectRatio=\"none\" style=\"width:350px;height:541px;\" version=\"1.1\" viewBox=\"0 0 350 541\" width=\"350px\" zoomAndPan=\"magnify\"><defs/><g><!--MD5=[fbc87193dbaf4d95561dea2c320d4a47]\n",
       "cluster E1--><a href=\"psysml:c7000c50-df42-41d3-9ba9-36eed14db093\" target=\"_top\" title=\"psysml:c7000c50-df42-41d3-9ba9-36eed14db093\" xlink:actuate=\"onRequest\" xlink:href=\"psysml:c7000c50-df42-41d3-9ba9-36eed14db093\" xlink:show=\"new\" xlink:title=\"psysml:c7000c50-df42-41d3-9ba9-36eed14db093\" xlink:type=\"simple\"><polygon fill=\"#FFFFFF\" points=\"16,6,139,6,146,28.2969,328,28.2969,328,529,16,529,16,6\" style=\"stroke: #000000; stroke-width: 1.5;\"/><line style=\"stroke: #000000; stroke-width: 1.5;\" x1=\"16\" x2=\"146\" y1=\"28.2969\" y2=\"28.2969\"/><text fill=\"#000000\" font-family=\"sans-serif\" font-size=\"14\" font-weight=\"bold\" lengthAdjust=\"spacingAndGlyphs\" textLength=\"117\" x=\"20\" y=\"20.9951\">ParameterTest</text></a><!--MD5=[f6df4d0ebaf0b5dfb2ced0ae5af7c670]\n",
       "cluster E4--><a href=\"psysml:31ea6359-c2ac-42c4-9008-615ad8ad058c\" target=\"_top\" title=\"psysml:31ea6359-c2ac-42c4-9008-615ad8ad058c\" xlink:actuate=\"onRequest\" xlink:href=\"psysml:31ea6359-c2ac-42c4-9008-615ad8ad058c\" xlink:show=\"new\" xlink:title=\"psysml:31ea6359-c2ac-42c4-9008-615ad8ad058c\" xlink:type=\"simple\"><rect fill=\"#FFFFFF\" height=\"47\" id=\"E4\" style=\"stroke: #383838; stroke-width: 1.5;\" width=\"262.5\" x=\"49.5\" y=\"55\"/><rect fill=\"#F8F8F8\" height=\"37.9375\" style=\"stroke: #383838; stroke-width: 1.5;\" width=\"262.5\" x=\"49.5\" y=\"55\"/><text fill=\"#000000\" font-family=\"sans-serif\" font-size=\"12\" font-style=\"italic\" lengthAdjust=\"spacingAndGlyphs\" textLength=\"106\" x=\"127.75\" y=\"71.1387\">«calculation def»</text><text fill=\"#000000\" font-family=\"sans-serif\" font-size=\"12\" lengthAdjust=\"spacingAndGlyphs\" textLength=\"7\" x=\"177.25\" y=\"85.1074\">F</text></a><!--MD5=[b4997ac47864f28c2f74865a473b2911]\n",
       "class E2--><a href=\"psysml:cb02a2ee-bdc8-478c-9636-92278b567e26\" target=\"_top\" title=\"psysml:cb02a2ee-bdc8-478c-9636-92278b567e26\" xlink:actuate=\"onRequest\" xlink:href=\"psysml:cb02a2ee-bdc8-478c-9636-92278b567e26\" xlink:show=\"new\" xlink:title=\"psysml:cb02a2ee-bdc8-478c-9636-92278b567e26\" xlink:type=\"simple\"><rect fill=\"#FFFFFF\" height=\"88.3516\" id=\"E2\" style=\"stroke: #383838; stroke-width: 1.5;\" width=\"95\" x=\"182\" y=\"128\"/><text fill=\"#000000\" font-family=\"sans-serif\" font-size=\"12\" font-style=\"italic\" lengthAdjust=\"spacingAndGlyphs\" textLength=\"93\" x=\"183\" y=\"144.1387\">«attribute def»</text><text fill=\"#000000\" font-family=\"sans-serif\" font-size=\"12\" lengthAdjust=\"spacingAndGlyphs\" textLength=\"8\" x=\"225.5\" y=\"158.1074\">A</text><line style=\"stroke: #383838; stroke-width: 1.5;\" x1=\"183\" x2=\"276\" y1=\"165.9375\" y2=\"165.9375\"/><text fill=\"#000000\" font-family=\"sans-serif\" font-size=\"11\" lengthAdjust=\"spacingAndGlyphs\" textLength=\"48\" x=\"188\" y=\"196.9526\">x: String</text><text fill=\"#000000\" font-family=\"sans-serif\" font-size=\"11\" lengthAdjust=\"spacingAndGlyphs\" textLength=\"21\" x=\"188\" y=\"209.7573\">y: A</text><line style=\"stroke: #383838; stroke-width: 1.0;\" x1=\"183\" x2=\"202\" y1=\"180.3398\" y2=\"180.3398\"/><text fill=\"#000000\" font-family=\"sans-serif\" font-size=\"11\" lengthAdjust=\"spacingAndGlyphs\" textLength=\"55\" x=\"202\" y=\"183.6479\">attributes</text><line style=\"stroke: #383838; stroke-width: 1.0;\" x1=\"257\" x2=\"276\" y1=\"180.3398\" y2=\"180.3398\"/></a><!--MD5=[09b614a08d8cba4a07c9adeb5e0fee81]\n",
       "class E3--><a href=\"psysml:50ebccda-29a4-4ea8-943d-69f99c07f732\" target=\"_top\" title=\"psysml:50ebccda-29a4-4ea8-943d-69f99c07f732\" xlink:actuate=\"onRequest\" xlink:href=\"psysml:50ebccda-29a4-4ea8-943d-69f99c07f732\" xlink:show=\"new\" xlink:title=\"psysml:50ebccda-29a4-4ea8-943d-69f99c07f732\" xlink:type=\"simple\"><rect fill=\"#FFFFFF\" height=\"45.9375\" id=\"E3\" rx=\"10\" ry=\"10\" style=\"stroke: #383838; stroke-width: 1.5;\" width=\"71\" x=\"32\" y=\"143\"/><text fill=\"#000000\" font-family=\"sans-serif\" font-size=\"12\" font-style=\"italic\" lengthAdjust=\"spacingAndGlyphs\" textLength=\"69\" x=\"33\" y=\"159.1387\">«attribute»</text><text fill=\"#000000\" font-family=\"sans-serif\" font-size=\"12\" lengthAdjust=\"spacingAndGlyphs\" textLength=\"24\" x=\"55.5\" y=\"173.1074\">a: A</text><line style=\"stroke: #383838; stroke-width: 1.5;\" x1=\"33\" x2=\"102\" y1=\"180.9375\" y2=\"180.9375\"/></a><!--MD5=[2156ba9850f5573cc1fc38a6a4b2f02b]\n",
       "class E7--><a href=\"psysml:a5af055b-f2ee-4ef1-a486-dc312f464f3e\" target=\"_top\" title=\"psysml:a5af055b-f2ee-4ef1-a486-dc312f464f3e\" xlink:actuate=\"onRequest\" xlink:href=\"psysml:a5af055b-f2ee-4ef1-a486-dc312f464f3e\" xlink:show=\"new\" xlink:title=\"psysml:a5af055b-f2ee-4ef1-a486-dc312f464f3e\" xlink:type=\"simple\"><rect fill=\"#FFFFFF\" height=\"45.9375\" id=\"E7\" rx=\"10\" ry=\"10\" style=\"stroke: #383838; stroke-width: 1.5;\" width=\"71\" x=\"32\" y=\"224\"/><text fill=\"#000000\" font-family=\"sans-serif\" font-size=\"12\" font-style=\"italic\" lengthAdjust=\"spacingAndGlyphs\" textLength=\"69\" x=\"33\" y=\"240.1387\">«attribute»</text><text fill=\"#000000\" font-family=\"sans-serif\" font-size=\"12\" lengthAdjust=\"spacingAndGlyphs\" textLength=\"4\" x=\"65.5\" y=\"254.1074\">f</text><line style=\"stroke: #383838; stroke-width: 1.5;\" x1=\"33\" x2=\"102\" y1=\"261.9375\" y2=\"261.9375\"/></a><!--MD5=[b9389687b975829384b498ac4b7476b2]\n",
       "class E8--><a href=\"psysml:63113e1f-55f0-4199-b954-2673a0b317ed\" target=\"_top\" title=\"psysml:63113e1f-55f0-4199-b954-2673a0b317ed\" xlink:actuate=\"onRequest\" xlink:href=\"psysml:63113e1f-55f0-4199-b954-2673a0b317ed\" xlink:show=\"new\" xlink:title=\"psysml:63113e1f-55f0-4199-b954-2673a0b317ed\" xlink:type=\"simple\"><rect fill=\"#FFFFFF\" height=\"45.9375\" id=\"E8\" rx=\"10\" ry=\"10\" style=\"stroke: #383838; stroke-width: 1.5;\" width=\"71\" x=\"32\" y=\"305\"/><text fill=\"#000000\" font-family=\"sans-serif\" font-size=\"12\" font-style=\"italic\" lengthAdjust=\"spacingAndGlyphs\" textLength=\"69\" x=\"33\" y=\"321.1387\">«attribute»</text><text fill=\"#000000\" font-family=\"sans-serif\" font-size=\"12\" lengthAdjust=\"spacingAndGlyphs\" textLength=\"8\" x=\"63.5\" y=\"335.1074\">g</text><line style=\"stroke: #383838; stroke-width: 1.5;\" x1=\"33\" x2=\"102\" y1=\"342.9375\" y2=\"342.9375\"/></a><!--MD5=[fd4143e9d270a159db93a4ea2a975926]\n",
       "class E9--><a href=\"psysml:537e328f-e5cc-426a-9b09-8cf3e436744c\" target=\"_top\" title=\"psysml:537e328f-e5cc-426a-9b09-8cf3e436744c\" xlink:actuate=\"onRequest\" xlink:href=\"psysml:537e328f-e5cc-426a-9b09-8cf3e436744c\" xlink:show=\"new\" xlink:title=\"psysml:537e328f-e5cc-426a-9b09-8cf3e436744c\" xlink:type=\"simple\"><rect fill=\"#FFFFFF\" height=\"45.9375\" id=\"E9\" rx=\"10\" ry=\"10\" style=\"stroke: #383838; stroke-width: 1.5;\" width=\"71\" x=\"32\" y=\"386\"/><text fill=\"#000000\" font-family=\"sans-serif\" font-size=\"12\" font-style=\"italic\" lengthAdjust=\"spacingAndGlyphs\" textLength=\"69\" x=\"33\" y=\"402.1387\">«attribute»</text><text fill=\"#000000\" font-family=\"sans-serif\" font-size=\"12\" lengthAdjust=\"spacingAndGlyphs\" textLength=\"8\" x=\"63.5\" y=\"416.1074\">b</text><line style=\"stroke: #383838; stroke-width: 1.5;\" x1=\"33\" x2=\"102\" y1=\"423.9375\" y2=\"423.9375\"/></a><!--MD5=[96f4274e9e20536e775497830990834d]\n",
       "class E10--><a href=\"psysml:2b35c468-a57b-4dfd-a90f-3e1de4d6204b\" target=\"_top\" title=\"psysml:2b35c468-a57b-4dfd-a90f-3e1de4d6204b\" xlink:actuate=\"onRequest\" xlink:href=\"psysml:2b35c468-a57b-4dfd-a90f-3e1de4d6204b\" xlink:show=\"new\" xlink:title=\"psysml:2b35c468-a57b-4dfd-a90f-3e1de4d6204b\" xlink:type=\"simple\"><rect fill=\"#FFFFFF\" height=\"45.9375\" id=\"E10\" rx=\"10\" ry=\"10\" style=\"stroke: #383838; stroke-width: 1.5;\" width=\"71\" x=\"32\" y=\"467\"/><text fill=\"#000000\" font-family=\"sans-serif\" font-size=\"12\" font-style=\"italic\" lengthAdjust=\"spacingAndGlyphs\" textLength=\"69\" x=\"33\" y=\"483.1387\">«attribute»</text><text fill=\"#000000\" font-family=\"sans-serif\" font-size=\"12\" lengthAdjust=\"spacingAndGlyphs\" textLength=\"7\" x=\"64\" y=\"497.1074\">c</text><line style=\"stroke: #383838; stroke-width: 1.5;\" x1=\"33\" x2=\"102\" y1=\"504.9375\" y2=\"504.9375\"/></a><text fill=\"#000000\" font-family=\"sans-serif\" font-size=\"14\" lengthAdjust=\"spacingAndGlyphs\" textLength=\"9\" x=\"63\" y=\"120.9951\">p</text><rect fill=\"#383838\" height=\"12\" style=\"stroke: #F8F8F8; stroke-width: 1.5;\" width=\"12\" x=\"61.5\" y=\"96\"/><text fill=\"#000000\" font-family=\"sans-serif\" font-size=\"14\" lengthAdjust=\"spacingAndGlyphs\" textLength=\"9\" x=\"63\" y=\"33.6982\">q</text><rect fill=\"#383838\" height=\"12\" style=\"stroke: #F8F8F8; stroke-width: 1.5;\" width=\"12\" x=\"61.5\" y=\"49\"/><!--MD5=[05d275557350bfb9b23a4ef7222b4c39]\n",
       "link E3 to E2--><a href=\"psysml:50b306d4-0f13-410b-aa85-567dae9acdd8\" target=\"_top\" title=\"psysml:50b306d4-0f13-410b-aa85-567dae9acdd8\" xlink:actuate=\"onRequest\" xlink:href=\"psysml:50b306d4-0f13-410b-aa85-567dae9acdd8\" xlink:show=\"new\" xlink:title=\"psysml:50b306d4-0f13-410b-aa85-567dae9acdd8\" xlink:type=\"simple\"><path d=\"M103.22,167.3 C120.27,167.94 141.42,168.73 161.45,169.49 \" fill=\"none\" id=\"E3-&gt;E2\" style=\"stroke: #383838; stroke-width: 1.0;\"/><polygon fill=\"#FFFFFF\" points=\"181.71,170.25,162.4631,176.5394,162.9831,162.5491,181.71,170.25\" style=\"stroke: #383838; stroke-width: 1.0;\"/><ellipse cx=\"156.8413\" cy=\"174.3291\" fill=\"#383838\" rx=\"2\" ry=\"2\" style=\"stroke: #383838; stroke-width: 1.0;\"/><ellipse cx=\"157.2128\" cy=\"164.336\" fill=\"#383838\" rx=\"2\" ry=\"2\" style=\"stroke: #383838; stroke-width: 1.0;\"/></a><!--MD5=[b24f21057189ce6b5f90655b21a63370]\n",
       "@startuml\r\n",
       "left to right direction\r\n",
       "skinparam monochrome true\r\n",
       "skinparam classbackgroundcolor white\r\n",
       "skinparam shadowing false\r\n",
       "skinparam wrapWidth 300\r\n",
       "hide circle\r\n",
       "\r\n",
       "package \"ParameterTest\" as E1  [[psysml:c7000c50-df42-41d3-9ba9-36eed14db093 ]]  {\r\n",
       "comp def \"A\" as E2  <<(T,blue)attribute def>> [[psysml:cb02a2ee-bdc8-478c-9636-92278b567e26 ]] {\r\n",
       "- - attributes - -\r\n",
       "x: String\r\n",
       "y: A\r\n",
       "}\r\n",
       "comp usage \"a: A\" as E3  <<(T,blue)attribute>> [[psysml:50ebccda-29a4-4ea8-943d-69f99c07f732 ]] {\r\n",
       "}\r\n",
       "rec def \"F\" as E4  <<(T,blue)calculation def>> [[psysml:31ea6359-c2ac-42c4-9008-615ad8ad058c ]] {\r\n",
       "portin \"p\" as E5  [[psysml:c5b3d96c-9fe7-4ab4-b771-6776a88b0ad4 ]] \r\n",
       "portin \"q\" as E6  [[psysml:66adf659-8704-40ab-88b3-19d2477512b1 ]] \r\n",
       "}\r\n",
       "\r\n",
       "comp usage \"f\" as E7  <<(T,blue)attribute>> [[psysml:a5af055b-f2ee-4ef1-a486-dc312f464f3e ]] {\r\n",
       "}\r\n",
       "comp usage \"g\" as E8  <<(T,blue)attribute>> [[psysml:63113e1f-55f0-4199-b954-2673a0b317ed ]] {\r\n",
       "}\r\n",
       "comp usage \"b\" as E9  <<(T,blue)attribute>> [[psysml:537e328f-e5cc-426a-9b09-8cf3e436744c ]] {\r\n",
       "}\r\n",
       "comp usage \"c\" as E10  <<(T,blue)attribute>> [[psysml:2b35c468-a57b-4dfd-a90f-3e1de4d6204b ]] {\r\n",
       "}\r\n",
       "E3 - -:|> E2 [[psysml:50b306d4-0f13-410b-aa85-567dae9acdd8 ]] \r\n",
       "}\r\n",
       "@enduml\r\n",
       "\n",
       "PlantUML version 1.2020.13(Sat Jun 13 12:26:38 UTC 2020)\n",
       "(EPL source distribution)\n",
       "Java Runtime: OpenJDK Runtime Environment\n",
       "JVM: OpenJDK 64-Bit Server VM\n",
       "Default Encoding: UTF-8\n",
       "Language: en\n",
       "Country: null\n",
       "--></g></svg>"
      ]
     },
     "execution_count": 22,
     "metadata": {},
     "output_type": "execute_result"
    }
   ],
   "source": [
    "%viz --style=\"LR\" --view=\"MIXED\" \"ParameterTest\""
   ]
  },
  {
   "cell_type": "code",
   "execution_count": 23,
   "id": "mighty-agriculture",
   "metadata": {
    "execution": {
     "iopub.execute_input": "2021-03-25T15:03:13.545690Z",
     "iopub.status.busy": "2021-03-25T15:03:13.544827Z",
     "iopub.status.idle": "2021-03-25T15:03:13.727417Z",
     "shell.execute_reply": "2021-03-25T15:03:13.726070Z"
    }
   },
   "outputs": [
    {
     "data": {
      "image/svg+xml": [
       "<?xml version=\"1.0\" encoding=\"UTF-8\" standalone=\"no\"?><svg xmlns=\"http://www.w3.org/2000/svg\" xmlns:xlink=\"http://www.w3.org/1999/xlink\" contentScriptType=\"application/ecmascript\" contentStyleType=\"text/css\" height=\"247px\" preserveAspectRatio=\"none\" style=\"width:740px;height:247px;\" version=\"1.1\" viewBox=\"0 0 740 247\" width=\"740px\" zoomAndPan=\"magnify\"><defs><filter height=\"300%\" id=\"f194oa1b3tmiva\" width=\"300%\" x=\"-1\" y=\"-1\"><feGaussianBlur result=\"blurOut\" stdDeviation=\"2.0\"/><feColorMatrix in=\"blurOut\" result=\"blurOut2\" type=\"matrix\" values=\"0 0 0 0 0 0 0 0 0 0 0 0 0 0 0 0 0 0 .4 0\"/><feOffset dx=\"4.0\" dy=\"4.0\" in=\"blurOut2\" result=\"blurOut3\"/><feBlend in=\"SourceGraphic\" in2=\"blurOut3\" mode=\"normal\"/></filter></defs><g><!--MD5=[fbc87193dbaf4d95561dea2c320d4a47]\n",
       "cluster E1--><a href=\"psysml:c7000c50-df42-41d3-9ba9-36eed14db093\" target=\"_top\" title=\"psysml:c7000c50-df42-41d3-9ba9-36eed14db093\" xlink:actuate=\"onRequest\" xlink:href=\"psysml:c7000c50-df42-41d3-9ba9-36eed14db093\" xlink:show=\"new\" xlink:title=\"psysml:c7000c50-df42-41d3-9ba9-36eed14db093\" xlink:type=\"simple\"><polygon fill=\"#FFFFFF\" filter=\"url(#f194oa1b3tmiva)\" points=\"16,6,139,6,146,28.2969,718,28.2969,718,235,16,235,16,6\" style=\"stroke: #000000; stroke-width: 1.5;\"/><line style=\"stroke: #000000; stroke-width: 1.5;\" x1=\"16\" x2=\"146\" y1=\"28.2969\" y2=\"28.2969\"/><text fill=\"#000000\" font-family=\"sans-serif\" font-size=\"14\" font-weight=\"bold\" lengthAdjust=\"spacingAndGlyphs\" textLength=\"117\" x=\"20\" y=\"20.9951\">ParameterTest</text></a><!--MD5=[f6df4d0ebaf0b5dfb2ced0ae5af7c670]\n",
       "cluster E4--><a href=\"psysml:31ea6359-c2ac-42c4-9008-615ad8ad058c\" target=\"_top\" title=\"psysml:31ea6359-c2ac-42c4-9008-615ad8ad058c\" xlink:actuate=\"onRequest\" xlink:href=\"psysml:31ea6359-c2ac-42c4-9008-615ad8ad058c\" xlink:show=\"new\" xlink:title=\"psysml:31ea6359-c2ac-42c4-9008-615ad8ad058c\" xlink:type=\"simple\"><rect fill=\"#FFFFFF\" filter=\"url(#f194oa1b3tmiva)\" height=\"152.5\" id=\"E4\" style=\"stroke: #A80036; stroke-width: 1.5;\" width=\"148\" x=\"554\" y=\"64\"/><rect fill=\"#FEFECE\" height=\"37.9375\" style=\"stroke: #A80036; stroke-width: 1.5;\" width=\"148\" x=\"554\" y=\"64\"/><text fill=\"#000000\" font-family=\"sans-serif\" font-size=\"12\" font-style=\"italic\" lengthAdjust=\"spacingAndGlyphs\" textLength=\"106\" x=\"575\" y=\"80.1387\">«calculation def»</text><text fill=\"#000000\" font-family=\"sans-serif\" font-size=\"12\" lengthAdjust=\"spacingAndGlyphs\" textLength=\"7\" x=\"624.5\" y=\"94.1074\">F</text></a><!--MD5=[b4997ac47864f28c2f74865a473b2911]\n",
       "class E2--><a href=\"psysml:cb02a2ee-bdc8-478c-9636-92278b567e26\" target=\"_top\" title=\"psysml:cb02a2ee-bdc8-478c-9636-92278b567e26\" xlink:actuate=\"onRequest\" xlink:href=\"psysml:cb02a2ee-bdc8-478c-9636-92278b567e26\" xlink:show=\"new\" xlink:title=\"psysml:cb02a2ee-bdc8-478c-9636-92278b567e26\" xlink:type=\"simple\"><rect fill=\"#FEFECE\" filter=\"url(#f194oa1b3tmiva)\" height=\"71.5469\" id=\"E2\" style=\"stroke: #A80036; stroke-width: 1.5;\" width=\"95\" x=\"422.5\" y=\"147\"/><text fill=\"#000000\" font-family=\"sans-serif\" font-size=\"12\" font-style=\"italic\" lengthAdjust=\"spacingAndGlyphs\" textLength=\"93\" x=\"423.5\" y=\"163.1387\">«attribute def»</text><text fill=\"#000000\" font-family=\"sans-serif\" font-size=\"12\" lengthAdjust=\"spacingAndGlyphs\" textLength=\"8\" x=\"466\" y=\"177.1074\">A</text><line style=\"stroke: #A80036; stroke-width: 1.5;\" x1=\"423.5\" x2=\"516.5\" y1=\"184.9375\" y2=\"184.9375\"/><text fill=\"#000000\" font-family=\"sans-serif\" font-size=\"11\" lengthAdjust=\"spacingAndGlyphs\" textLength=\"48\" x=\"428.5\" y=\"199.1479\">x: String</text><text fill=\"#000000\" font-family=\"sans-serif\" font-size=\"11\" lengthAdjust=\"spacingAndGlyphs\" textLength=\"21\" x=\"428.5\" y=\"211.9526\">y: A</text></a><!--MD5=[09b614a08d8cba4a07c9adeb5e0fee81]\n",
       "class E3--><a href=\"psysml:50ebccda-29a4-4ea8-943d-69f99c07f732\" target=\"_top\" title=\"psysml:50ebccda-29a4-4ea8-943d-69f99c07f732\" xlink:actuate=\"onRequest\" xlink:href=\"psysml:50ebccda-29a4-4ea8-943d-69f99c07f732\" xlink:show=\"new\" xlink:title=\"psysml:50ebccda-29a4-4ea8-943d-69f99c07f732\" xlink:type=\"simple\"><rect fill=\"#FEFECE\" filter=\"url(#f194oa1b3tmiva)\" height=\"45.9375\" id=\"E3\" rx=\"10\" ry=\"10\" style=\"stroke: #A80036; stroke-width: 1.5;\" width=\"71\" x=\"456.5\" y=\"41\"/><text fill=\"#000000\" font-family=\"sans-serif\" font-size=\"12\" font-style=\"italic\" lengthAdjust=\"spacingAndGlyphs\" textLength=\"69\" x=\"457.5\" y=\"57.1387\">«attribute»</text><text fill=\"#000000\" font-family=\"sans-serif\" font-size=\"12\" lengthAdjust=\"spacingAndGlyphs\" textLength=\"24\" x=\"480\" y=\"71.1074\">a: A</text><line style=\"stroke: #A80036; stroke-width: 1.5;\" x1=\"457.5\" x2=\"526.5\" y1=\"78.9375\" y2=\"78.9375\"/></a><!--MD5=[2156ba9850f5573cc1fc38a6a4b2f02b]\n",
       "class E7--><a href=\"psysml:a5af055b-f2ee-4ef1-a486-dc312f464f3e\" target=\"_top\" title=\"psysml:a5af055b-f2ee-4ef1-a486-dc312f464f3e\" xlink:actuate=\"onRequest\" xlink:href=\"psysml:a5af055b-f2ee-4ef1-a486-dc312f464f3e\" xlink:show=\"new\" xlink:title=\"psysml:a5af055b-f2ee-4ef1-a486-dc312f464f3e\" xlink:type=\"simple\"><rect fill=\"#FEFECE\" filter=\"url(#f194oa1b3tmiva)\" height=\"45.9375\" id=\"E7\" rx=\"10\" ry=\"10\" style=\"stroke: #A80036; stroke-width: 1.5;\" width=\"71\" x=\"350.5\" y=\"41\"/><text fill=\"#000000\" font-family=\"sans-serif\" font-size=\"12\" font-style=\"italic\" lengthAdjust=\"spacingAndGlyphs\" textLength=\"69\" x=\"351.5\" y=\"57.1387\">«attribute»</text><text fill=\"#000000\" font-family=\"sans-serif\" font-size=\"12\" lengthAdjust=\"spacingAndGlyphs\" textLength=\"4\" x=\"384\" y=\"71.1074\">f</text><line style=\"stroke: #A80036; stroke-width: 1.5;\" x1=\"351.5\" x2=\"420.5\" y1=\"78.9375\" y2=\"78.9375\"/></a><!--MD5=[b9389687b975829384b498ac4b7476b2]\n",
       "class E8--><a href=\"psysml:63113e1f-55f0-4199-b954-2673a0b317ed\" target=\"_top\" title=\"psysml:63113e1f-55f0-4199-b954-2673a0b317ed\" xlink:actuate=\"onRequest\" xlink:href=\"psysml:63113e1f-55f0-4199-b954-2673a0b317ed\" xlink:show=\"new\" xlink:title=\"psysml:63113e1f-55f0-4199-b954-2673a0b317ed\" xlink:type=\"simple\"><rect fill=\"#FEFECE\" filter=\"url(#f194oa1b3tmiva)\" height=\"45.9375\" id=\"E8\" rx=\"10\" ry=\"10\" style=\"stroke: #A80036; stroke-width: 1.5;\" width=\"71\" x=\"244.5\" y=\"41\"/><text fill=\"#000000\" font-family=\"sans-serif\" font-size=\"12\" font-style=\"italic\" lengthAdjust=\"spacingAndGlyphs\" textLength=\"69\" x=\"245.5\" y=\"57.1387\">«attribute»</text><text fill=\"#000000\" font-family=\"sans-serif\" font-size=\"12\" lengthAdjust=\"spacingAndGlyphs\" textLength=\"8\" x=\"276\" y=\"71.1074\">g</text><line style=\"stroke: #A80036; stroke-width: 1.5;\" x1=\"245.5\" x2=\"314.5\" y1=\"78.9375\" y2=\"78.9375\"/></a><!--MD5=[fd4143e9d270a159db93a4ea2a975926]\n",
       "class E9--><a href=\"psysml:537e328f-e5cc-426a-9b09-8cf3e436744c\" target=\"_top\" title=\"psysml:537e328f-e5cc-426a-9b09-8cf3e436744c\" xlink:actuate=\"onRequest\" xlink:href=\"psysml:537e328f-e5cc-426a-9b09-8cf3e436744c\" xlink:show=\"new\" xlink:title=\"psysml:537e328f-e5cc-426a-9b09-8cf3e436744c\" xlink:type=\"simple\"><rect fill=\"#FEFECE\" filter=\"url(#f194oa1b3tmiva)\" height=\"45.9375\" id=\"E9\" rx=\"10\" ry=\"10\" style=\"stroke: #A80036; stroke-width: 1.5;\" width=\"71\" x=\"138.5\" y=\"41\"/><text fill=\"#000000\" font-family=\"sans-serif\" font-size=\"12\" font-style=\"italic\" lengthAdjust=\"spacingAndGlyphs\" textLength=\"69\" x=\"139.5\" y=\"57.1387\">«attribute»</text><text fill=\"#000000\" font-family=\"sans-serif\" font-size=\"12\" lengthAdjust=\"spacingAndGlyphs\" textLength=\"8\" x=\"170\" y=\"71.1074\">b</text><line style=\"stroke: #A80036; stroke-width: 1.5;\" x1=\"139.5\" x2=\"208.5\" y1=\"78.9375\" y2=\"78.9375\"/></a><!--MD5=[96f4274e9e20536e775497830990834d]\n",
       "class E10--><a href=\"psysml:2b35c468-a57b-4dfd-a90f-3e1de4d6204b\" target=\"_top\" title=\"psysml:2b35c468-a57b-4dfd-a90f-3e1de4d6204b\" xlink:actuate=\"onRequest\" xlink:href=\"psysml:2b35c468-a57b-4dfd-a90f-3e1de4d6204b\" xlink:show=\"new\" xlink:title=\"psysml:2b35c468-a57b-4dfd-a90f-3e1de4d6204b\" xlink:type=\"simple\"><rect fill=\"#FEFECE\" filter=\"url(#f194oa1b3tmiva)\" height=\"45.9375\" id=\"E10\" rx=\"10\" ry=\"10\" style=\"stroke: #A80036; stroke-width: 1.5;\" width=\"71\" x=\"32.5\" y=\"41\"/><text fill=\"#000000\" font-family=\"sans-serif\" font-size=\"12\" font-style=\"italic\" lengthAdjust=\"spacingAndGlyphs\" textLength=\"69\" x=\"33.5\" y=\"57.1387\">«attribute»</text><text fill=\"#000000\" font-family=\"sans-serif\" font-size=\"12\" lengthAdjust=\"spacingAndGlyphs\" textLength=\"7\" x=\"64.5\" y=\"71.1074\">c</text><line style=\"stroke: #A80036; stroke-width: 1.5;\" x1=\"33.5\" x2=\"102.5\" y1=\"78.9375\" y2=\"78.9375\"/></a><text fill=\"#000000\" font-family=\"sans-serif\" font-size=\"14\" lengthAdjust=\"spacingAndGlyphs\" textLength=\"9\" x=\"567.5\" y=\"42.6982\">p</text><rect fill=\"#A80036\" height=\"12\" style=\"stroke: #FEFECE; stroke-width: 1.5;\" width=\"12\" x=\"566\" y=\"58\"/><text fill=\"#000000\" font-family=\"sans-serif\" font-size=\"14\" lengthAdjust=\"spacingAndGlyphs\" textLength=\"9\" x=\"614.5\" y=\"42.6982\">q</text><rect fill=\"#A80036\" height=\"12\" style=\"stroke: #FEFECE; stroke-width: 1.5;\" width=\"12\" x=\"613\" y=\"58\"/><!--MD5=[05d275557350bfb9b23a4ef7222b4c39]\n",
       "link E3 to E2--><a href=\"psysml:50b306d4-0f13-410b-aa85-567dae9acdd8\" target=\"_top\" title=\"psysml:50b306d4-0f13-410b-aa85-567dae9acdd8\" xlink:actuate=\"onRequest\" xlink:href=\"psysml:50b306d4-0f13-410b-aa85-567dae9acdd8\" xlink:show=\"new\" xlink:title=\"psysml:50b306d4-0f13-410b-aa85-567dae9acdd8\" xlink:type=\"simple\"><path d=\"M487.86,87.01 C485.74,98.3 483.05,112.62 480.4,126.7 \" fill=\"none\" id=\"E3-&gt;E2\" style=\"stroke: #A80036; stroke-width: 1.0;\"/><polygon fill=\"#FFFFFF\" points=\"476.63,146.75,473.2514,126.7854,487.0116,129.3654,476.63,146.75\" style=\"stroke: #A80036; stroke-width: 1.0;\"/><ellipse cx=\"476.2676\" cy=\"121.5516\" fill=\"#A80036\" rx=\"2\" ry=\"2\" style=\"stroke: #A80036; stroke-width: 1.0;\"/><ellipse cx=\"486.0963\" cy=\"123.3945\" fill=\"#A80036\" rx=\"2\" ry=\"2\" style=\"stroke: #A80036; stroke-width: 1.0;\"/></a><!--MD5=[7f836491c236ab5a595bc1d6be42bab7]\n",
       "@startuml\r\n",
       "skinparam wrapWidth 300\r\n",
       "hide circle\r\n",
       "\r\n",
       "package \"ParameterTest\" as E1  [[psysml:c7000c50-df42-41d3-9ba9-36eed14db093 ]]  {\r\n",
       "comp def \"A\" as E2  <<(T,blue)attribute def>> [[psysml:cb02a2ee-bdc8-478c-9636-92278b567e26 ]] {\r\n",
       "x: String\r\n",
       "y: A\r\n",
       "}\r\n",
       "comp usage \"a: A\" as E3  <<(T,blue)attribute>> [[psysml:50ebccda-29a4-4ea8-943d-69f99c07f732 ]] {\r\n",
       "}\r\n",
       "rec def \"F\" as E4  <<(T,blue)calculation def>> [[psysml:31ea6359-c2ac-42c4-9008-615ad8ad058c ]] {\r\n",
       "portin \"p\" as E5  [[psysml:c5b3d96c-9fe7-4ab4-b771-6776a88b0ad4 ]] \r\n",
       "portin \"q\" as E6  [[psysml:66adf659-8704-40ab-88b3-19d2477512b1 ]] \r\n",
       "}\r\n",
       "\r\n",
       "comp usage \"f\" as E7  <<(T,blue)attribute>> [[psysml:a5af055b-f2ee-4ef1-a486-dc312f464f3e ]] {\r\n",
       "}\r\n",
       "comp usage \"g\" as E8  <<(T,blue)attribute>> [[psysml:63113e1f-55f0-4199-b954-2673a0b317ed ]] {\r\n",
       "}\r\n",
       "comp usage \"b\" as E9  <<(T,blue)attribute>> [[psysml:537e328f-e5cc-426a-9b09-8cf3e436744c ]] {\r\n",
       "}\r\n",
       "comp usage \"c\" as E10  <<(T,blue)attribute>> [[psysml:2b35c468-a57b-4dfd-a90f-3e1de4d6204b ]] {\r\n",
       "}\r\n",
       "E3 - -:|> E2 [[psysml:50b306d4-0f13-410b-aa85-567dae9acdd8 ]] \r\n",
       "}\r\n",
       "@enduml\r\n",
       "\n",
       "PlantUML version 1.2020.13(Sat Jun 13 12:26:38 UTC 2020)\n",
       "(EPL source distribution)\n",
       "Java Runtime: OpenJDK Runtime Environment\n",
       "JVM: OpenJDK 64-Bit Server VM\n",
       "Default Encoding: UTF-8\n",
       "Language: en\n",
       "Country: null\n",
       "--></g></svg>"
      ]
     },
     "execution_count": 23,
     "metadata": {},
     "output_type": "execute_result"
    }
   ],
   "source": [
    "%viz --style=\"STDCOLOR\" --view=\"Default\" \"ParameterTest\""
   ]
  },
  {
   "cell_type": "code",
   "execution_count": 24,
   "id": "certified-national",
   "metadata": {
    "execution": {
     "iopub.execute_input": "2021-03-25T15:03:13.778695Z",
     "iopub.status.busy": "2021-03-25T15:03:13.777850Z",
     "iopub.status.idle": "2021-03-25T15:03:13.940071Z",
     "shell.execute_reply": "2021-03-25T15:03:13.938440Z"
    }
   },
   "outputs": [
    {
     "data": {
      "image/svg+xml": [
       "<?xml version=\"1.0\" encoding=\"UTF-8\" standalone=\"no\"?><svg xmlns=\"http://www.w3.org/2000/svg\" xmlns:xlink=\"http://www.w3.org/1999/xlink\" contentScriptType=\"application/ecmascript\" contentStyleType=\"text/css\" height=\"264px\" preserveAspectRatio=\"none\" style=\"width:710px;height:264px;\" version=\"1.1\" viewBox=\"0 0 710 264\" width=\"710px\" zoomAndPan=\"magnify\"><defs><filter height=\"300%\" id=\"fy240oshjoclq\" width=\"300%\" x=\"-1\" y=\"-1\"><feGaussianBlur result=\"blurOut\" stdDeviation=\"2.0\"/><feColorMatrix in=\"blurOut\" result=\"blurOut2\" type=\"matrix\" values=\"0 0 0 0 0 0 0 0 0 0 0 0 0 0 0 0 0 0 .4 0\"/><feOffset dx=\"4.0\" dy=\"4.0\" in=\"blurOut2\" result=\"blurOut3\"/><feBlend in=\"SourceGraphic\" in2=\"blurOut3\" mode=\"normal\"/></filter></defs><g><!--MD5=[fbc87193dbaf4d95561dea2c320d4a47]\n",
       "cluster E1--><a href=\"psysml:c7000c50-df42-41d3-9ba9-36eed14db093\" target=\"_top\" title=\"psysml:c7000c50-df42-41d3-9ba9-36eed14db093\" xlink:actuate=\"onRequest\" xlink:href=\"psysml:c7000c50-df42-41d3-9ba9-36eed14db093\" xlink:show=\"new\" xlink:title=\"psysml:c7000c50-df42-41d3-9ba9-36eed14db093\" xlink:type=\"simple\"><polygon fill=\"#FFFFFF\" filter=\"url(#fy240oshjoclq)\" points=\"16,6,139,6,146,28.2969,688,28.2969,688,252,16,252,16,6\" style=\"stroke: #000000; stroke-width: 1.5;\"/><line style=\"stroke: #000000; stroke-width: 1.5;\" x1=\"16\" x2=\"146\" y1=\"28.2969\" y2=\"28.2969\"/><text fill=\"#000000\" font-family=\"sans-serif\" font-size=\"14\" font-weight=\"bold\" lengthAdjust=\"spacingAndGlyphs\" textLength=\"117\" x=\"20\" y=\"20.9951\">ParameterTest</text></a><!--MD5=[b4997ac47864f28c2f74865a473b2911]\n",
       "class E2--><a href=\"psysml:cb02a2ee-bdc8-478c-9636-92278b567e26\" target=\"_top\" title=\"psysml:cb02a2ee-bdc8-478c-9636-92278b567e26\" xlink:actuate=\"onRequest\" xlink:href=\"psysml:cb02a2ee-bdc8-478c-9636-92278b567e26\" xlink:show=\"new\" xlink:title=\"psysml:cb02a2ee-bdc8-478c-9636-92278b567e26\" xlink:type=\"simple\"><rect fill=\"#FEFECE\" filter=\"url(#fy240oshjoclq)\" height=\"71.5469\" id=\"E2\" style=\"stroke: #A80036; stroke-width: 1.5;\" width=\"95\" x=\"498.5\" y=\"164\"/><text fill=\"#000000\" font-family=\"sans-serif\" font-size=\"12\" font-style=\"italic\" lengthAdjust=\"spacingAndGlyphs\" textLength=\"93\" x=\"499.5\" y=\"180.1387\">«attribute def»</text><text fill=\"#000000\" font-family=\"sans-serif\" font-size=\"12\" lengthAdjust=\"spacingAndGlyphs\" textLength=\"8\" x=\"542\" y=\"194.1074\">A</text><line style=\"stroke: #A80036; stroke-width: 1.5;\" x1=\"499.5\" x2=\"592.5\" y1=\"201.9375\" y2=\"201.9375\"/><text fill=\"#000000\" font-family=\"sans-serif\" font-size=\"11\" lengthAdjust=\"spacingAndGlyphs\" textLength=\"48\" x=\"504.5\" y=\"216.1479\">x: String</text><text fill=\"#000000\" font-family=\"sans-serif\" font-size=\"11\" lengthAdjust=\"spacingAndGlyphs\" textLength=\"21\" x=\"504.5\" y=\"228.9526\">y: A</text></a><!--MD5=[09b614a08d8cba4a07c9adeb5e0fee81]\n",
       "class E3--><a href=\"psysml:50ebccda-29a4-4ea8-943d-69f99c07f732\" target=\"_top\" title=\"psysml:50ebccda-29a4-4ea8-943d-69f99c07f732\" xlink:actuate=\"onRequest\" xlink:href=\"psysml:50ebccda-29a4-4ea8-943d-69f99c07f732\" xlink:show=\"new\" xlink:title=\"psysml:50ebccda-29a4-4ea8-943d-69f99c07f732\" xlink:type=\"simple\"><rect fill=\"#FEFECE\" filter=\"url(#fy240oshjoclq)\" height=\"45.9375\" id=\"E3\" rx=\"10\" ry=\"10\" style=\"stroke: #A80036; stroke-width: 1.5;\" width=\"71\" x=\"600.5\" y=\"41\"/><text fill=\"#000000\" font-family=\"sans-serif\" font-size=\"12\" font-style=\"italic\" lengthAdjust=\"spacingAndGlyphs\" textLength=\"69\" x=\"601.5\" y=\"57.1387\">«attribute»</text><text fill=\"#000000\" font-family=\"sans-serif\" font-size=\"12\" lengthAdjust=\"spacingAndGlyphs\" textLength=\"24\" x=\"624\" y=\"71.1074\">a: A</text><line style=\"stroke: #A80036; stroke-width: 1.5;\" x1=\"601.5\" x2=\"670.5\" y1=\"78.9375\" y2=\"78.9375\"/></a><!--MD5=[ebbe1d658d1005bcc118a6aa81145e00]\n",
       "class E4--><a href=\"psysml:31ea6359-c2ac-42c4-9008-615ad8ad058c\" target=\"_top\" title=\"psysml:31ea6359-c2ac-42c4-9008-615ad8ad058c\" xlink:actuate=\"onRequest\" xlink:href=\"psysml:31ea6359-c2ac-42c4-9008-615ad8ad058c\" xlink:show=\"new\" xlink:title=\"psysml:31ea6359-c2ac-42c4-9008-615ad8ad058c\" xlink:type=\"simple\"><rect fill=\"#FEFECE\" filter=\"url(#fy240oshjoclq)\" height=\"45.9375\" id=\"E4\" style=\"stroke: #A80036; stroke-width: 1.5;\" width=\"108\" x=\"457\" y=\"41\"/><text fill=\"#000000\" font-family=\"sans-serif\" font-size=\"12\" font-style=\"italic\" lengthAdjust=\"spacingAndGlyphs\" textLength=\"106\" x=\"458\" y=\"57.1387\">«calculation def»</text><text fill=\"#000000\" font-family=\"sans-serif\" font-size=\"12\" lengthAdjust=\"spacingAndGlyphs\" textLength=\"7\" x=\"507.5\" y=\"71.1074\">F</text><line style=\"stroke: #A80036; stroke-width: 1.5;\" x1=\"458\" x2=\"564\" y1=\"78.9375\" y2=\"78.9375\"/></a><!--MD5=[270fce915f116d4de14055a7c1d9a0f3]\n",
       "class E5--><a href=\"psysml:a5af055b-f2ee-4ef1-a486-dc312f464f3e\" target=\"_top\" title=\"psysml:a5af055b-f2ee-4ef1-a486-dc312f464f3e\" xlink:actuate=\"onRequest\" xlink:href=\"psysml:a5af055b-f2ee-4ef1-a486-dc312f464f3e\" xlink:show=\"new\" xlink:title=\"psysml:a5af055b-f2ee-4ef1-a486-dc312f464f3e\" xlink:type=\"simple\"><rect fill=\"#FEFECE\" filter=\"url(#fy240oshjoclq)\" height=\"45.9375\" id=\"E5\" rx=\"10\" ry=\"10\" style=\"stroke: #A80036; stroke-width: 1.5;\" width=\"71\" x=\"350.5\" y=\"41\"/><text fill=\"#000000\" font-family=\"sans-serif\" font-size=\"12\" font-style=\"italic\" lengthAdjust=\"spacingAndGlyphs\" textLength=\"69\" x=\"351.5\" y=\"57.1387\">«attribute»</text><text fill=\"#000000\" font-family=\"sans-serif\" font-size=\"12\" lengthAdjust=\"spacingAndGlyphs\" textLength=\"4\" x=\"384\" y=\"71.1074\">f</text><line style=\"stroke: #A80036; stroke-width: 1.5;\" x1=\"351.5\" x2=\"420.5\" y1=\"78.9375\" y2=\"78.9375\"/></a><!--MD5=[60a26617385b1d2d0262a64233df1f8d]\n",
       "class E6--><a href=\"psysml:63113e1f-55f0-4199-b954-2673a0b317ed\" target=\"_top\" title=\"psysml:63113e1f-55f0-4199-b954-2673a0b317ed\" xlink:actuate=\"onRequest\" xlink:href=\"psysml:63113e1f-55f0-4199-b954-2673a0b317ed\" xlink:show=\"new\" xlink:title=\"psysml:63113e1f-55f0-4199-b954-2673a0b317ed\" xlink:type=\"simple\"><rect fill=\"#FEFECE\" filter=\"url(#fy240oshjoclq)\" height=\"45.9375\" id=\"E6\" rx=\"10\" ry=\"10\" style=\"stroke: #A80036; stroke-width: 1.5;\" width=\"71\" x=\"244.5\" y=\"41\"/><text fill=\"#000000\" font-family=\"sans-serif\" font-size=\"12\" font-style=\"italic\" lengthAdjust=\"spacingAndGlyphs\" textLength=\"69\" x=\"245.5\" y=\"57.1387\">«attribute»</text><text fill=\"#000000\" font-family=\"sans-serif\" font-size=\"12\" lengthAdjust=\"spacingAndGlyphs\" textLength=\"8\" x=\"276\" y=\"71.1074\">g</text><line style=\"stroke: #A80036; stroke-width: 1.5;\" x1=\"245.5\" x2=\"314.5\" y1=\"78.9375\" y2=\"78.9375\"/></a><!--MD5=[2156ba9850f5573cc1fc38a6a4b2f02b]\n",
       "class E7--><a href=\"psysml:537e328f-e5cc-426a-9b09-8cf3e436744c\" target=\"_top\" title=\"psysml:537e328f-e5cc-426a-9b09-8cf3e436744c\" xlink:actuate=\"onRequest\" xlink:href=\"psysml:537e328f-e5cc-426a-9b09-8cf3e436744c\" xlink:show=\"new\" xlink:title=\"psysml:537e328f-e5cc-426a-9b09-8cf3e436744c\" xlink:type=\"simple\"><rect fill=\"#FEFECE\" filter=\"url(#fy240oshjoclq)\" height=\"45.9375\" id=\"E7\" rx=\"10\" ry=\"10\" style=\"stroke: #A80036; stroke-width: 1.5;\" width=\"71\" x=\"138.5\" y=\"41\"/><text fill=\"#000000\" font-family=\"sans-serif\" font-size=\"12\" font-style=\"italic\" lengthAdjust=\"spacingAndGlyphs\" textLength=\"69\" x=\"139.5\" y=\"57.1387\">«attribute»</text><text fill=\"#000000\" font-family=\"sans-serif\" font-size=\"12\" lengthAdjust=\"spacingAndGlyphs\" textLength=\"8\" x=\"170\" y=\"71.1074\">b</text><line style=\"stroke: #A80036; stroke-width: 1.5;\" x1=\"139.5\" x2=\"208.5\" y1=\"78.9375\" y2=\"78.9375\"/></a><!--MD5=[b9389687b975829384b498ac4b7476b2]\n",
       "class E8--><a href=\"psysml:2b35c468-a57b-4dfd-a90f-3e1de4d6204b\" target=\"_top\" title=\"psysml:2b35c468-a57b-4dfd-a90f-3e1de4d6204b\" xlink:actuate=\"onRequest\" xlink:href=\"psysml:2b35c468-a57b-4dfd-a90f-3e1de4d6204b\" xlink:show=\"new\" xlink:title=\"psysml:2b35c468-a57b-4dfd-a90f-3e1de4d6204b\" xlink:type=\"simple\"><rect fill=\"#FEFECE\" filter=\"url(#fy240oshjoclq)\" height=\"45.9375\" id=\"E8\" rx=\"10\" ry=\"10\" style=\"stroke: #A80036; stroke-width: 1.5;\" width=\"71\" x=\"32.5\" y=\"41\"/><text fill=\"#000000\" font-family=\"sans-serif\" font-size=\"12\" font-style=\"italic\" lengthAdjust=\"spacingAndGlyphs\" textLength=\"69\" x=\"33.5\" y=\"57.1387\">«attribute»</text><text fill=\"#000000\" font-family=\"sans-serif\" font-size=\"12\" lengthAdjust=\"spacingAndGlyphs\" textLength=\"7\" x=\"64.5\" y=\"71.1074\">c</text><line style=\"stroke: #A80036; stroke-width: 1.5;\" x1=\"33.5\" x2=\"102.5\" y1=\"78.9375\" y2=\"78.9375\"/></a><!--MD5=[05d275557350bfb9b23a4ef7222b4c39]\n",
       "link E3 to E2--><a href=\"psysml:50b306d4-0f13-410b-aa85-567dae9acdd8\" target=\"_top\" title=\"psysml:50b306d4-0f13-410b-aa85-567dae9acdd8\" xlink:actuate=\"onRequest\" xlink:href=\"psysml:50b306d4-0f13-410b-aa85-567dae9acdd8\" xlink:show=\"new\" xlink:title=\"psysml:50b306d4-0f13-410b-aa85-567dae9acdd8\" xlink:type=\"simple\"><path d=\"M621.14,87.13 C610.18,103.45 594.8,126.34 580.81,147.17 \" fill=\"none\" id=\"E3-&gt;E2\" style=\"stroke: #A80036; stroke-width: 1.0;\"/><polygon fill=\"#FFFFFF\" points=\"569.52,163.99,574.309,144.316,585.9284,152.1256,569.52,163.99\" style=\"stroke: #A80036; stroke-width: 1.0;\"/><ellipse cx=\"579.1486\" cy=\"140.7009\" fill=\"#A80036\" rx=\"2\" ry=\"2\" style=\"stroke: #A80036; stroke-width: 1.0;\"/><ellipse cx=\"587.4481\" cy=\"146.2792\" fill=\"#A80036\" rx=\"2\" ry=\"2\" style=\"stroke: #A80036; stroke-width: 1.0;\"/></a><!--MD5=[ddeed8deb2209213b62e6cfabaa108b2]\n",
       "reverse link E4 to E2--><a href=\"psysml:c5b3d96c-9fe7-4ab4-b771-6776a88b0ad4\" target=\"_top\" title=\"psysml:c5b3d96c-9fe7-4ab4-b771-6776a88b0ad4\" xlink:actuate=\"onRequest\" xlink:href=\"psysml:c5b3d96c-9fe7-4ab4-b771-6776a88b0ad4\" xlink:show=\"new\" xlink:title=\"psysml:c5b3d96c-9fe7-4ab4-b771-6776a88b0ad4\" xlink:type=\"simple\"><path d=\"M520.11,99.89 C525.27,119.63 531.69,144.23 536.85,163.99 \" fill=\"none\" id=\"E4&lt;-E2\" style=\"stroke: #A80036; stroke-width: 1.0;\"/><polygon fill=\"#FFFFFF\" points=\"516.78,87.13,514.4253,93.9458,519.8112,98.7408,522.1659,91.925,516.78,87.13\" style=\"stroke: #A80036; stroke-width: 1.0;\"/><text fill=\"#000000\" font-family=\"sans-serif\" font-size=\"13\" lengthAdjust=\"spacingAndGlyphs\" textLength=\"8\" x=\"529\" y=\"130.0669\">p</text></a><!--MD5=[17359e3d882fc3d8d817cf24cff591b2]\n",
       "@startuml\r\n",
       "skinparam wrapWidth 300\r\n",
       "hide circle\r\n",
       "\r\n",
       "package \"ParameterTest\" as E1  [[psysml:c7000c50-df42-41d3-9ba9-36eed14db093 ]]  {\r\n",
       "comp def \"A\" as E2  <<(T,blue)attribute def>> [[psysml:cb02a2ee-bdc8-478c-9636-92278b567e26 ]] {\r\n",
       "x: String\r\n",
       "y: A\r\n",
       "}\r\n",
       "comp usage \"a: A\" as E3  <<(T,blue)attribute>> [[psysml:50ebccda-29a4-4ea8-943d-69f99c07f732 ]] {\r\n",
       "}\r\n",
       "comp def \"F\" as E4  <<(T,blue)calculation def>> [[psysml:31ea6359-c2ac-42c4-9008-615ad8ad058c ]] {\r\n",
       "}\r\n",
       "comp usage \"f\" as E5  <<(T,blue)attribute>> [[psysml:a5af055b-f2ee-4ef1-a486-dc312f464f3e ]] {\r\n",
       "}\r\n",
       "comp usage \"g\" as E6  <<(T,blue)attribute>> [[psysml:63113e1f-55f0-4199-b954-2673a0b317ed ]] {\r\n",
       "}\r\n",
       "comp usage \"b\" as E7  <<(T,blue)attribute>> [[psysml:537e328f-e5cc-426a-9b09-8cf3e436744c ]] {\r\n",
       "}\r\n",
       "comp usage \"c\" as E8  <<(T,blue)attribute>> [[psysml:2b35c468-a57b-4dfd-a90f-3e1de4d6204b ]] {\r\n",
       "}\r\n",
       "E3 - -:|> E2 [[psysml:50b306d4-0f13-410b-aa85-567dae9acdd8 ]] \r\n",
       "E4 o- - E2 [[psysml:c5b3d96c-9fe7-4ab4-b771-6776a88b0ad4 ]] : p\r\n",
       "}\r\n",
       "@enduml\r\n",
       "\n",
       "PlantUML version 1.2020.13(Sat Jun 13 12:26:38 UTC 2020)\n",
       "(EPL source distribution)\n",
       "Java Runtime: OpenJDK Runtime Environment\n",
       "JVM: OpenJDK 64-Bit Server VM\n",
       "Default Encoding: UTF-8\n",
       "Language: en\n",
       "Country: null\n",
       "--></g></svg>"
      ]
     },
     "execution_count": 24,
     "metadata": {},
     "output_type": "execute_result"
    }
   ],
   "source": [
    "%viz --style=\"STDCOLOR\" --view=\"Tree\" \"ParameterTest\""
   ]
  },
  {
   "cell_type": "code",
   "execution_count": 25,
   "id": "floral-burton",
   "metadata": {
    "execution": {
     "iopub.execute_input": "2021-03-25T15:03:13.991168Z",
     "iopub.status.busy": "2021-03-25T15:03:13.990403Z",
     "iopub.status.idle": "2021-03-25T15:03:13.997052Z",
     "shell.execute_reply": "2021-03-25T15:03:13.997496Z"
    }
   },
   "outputs": [
    {
     "data": {
      "image/svg+xml": [
       "<?xml version=\"1.0\" encoding=\"UTF-8\" standalone=\"no\"?><svg xmlns=\"http://www.w3.org/2000/svg\" xmlns:xlink=\"http://www.w3.org/1999/xlink\" contentScriptType=\"application/ecmascript\" contentStyleType=\"text/css\" height=\"12px\" preserveAspectRatio=\"none\" style=\"width:12px;height:12px;\" version=\"1.1\" viewBox=\"0 0 12 12\" width=\"12px\" zoomAndPan=\"magnify\"><defs/><g><!--MD5=[aeeef50f102b80d730deb6443d14f702]\n",
       "@startuml\r\n",
       "skinparam wrapWidth 300\r\n",
       "hide circle\r\n",
       "\r\n",
       "@enduml\r\n",
       "\n",
       "PlantUML version 1.2020.13(Sat Jun 13 12:26:38 UTC 2020)\n",
       "(EPL source distribution)\n",
       "Java Runtime: OpenJDK Runtime Environment\n",
       "JVM: OpenJDK 64-Bit Server VM\n",
       "Default Encoding: UTF-8\n",
       "Language: en\n",
       "Country: null\n",
       "--></g></svg>"
      ]
     },
     "execution_count": 25,
     "metadata": {},
     "output_type": "execute_result"
    }
   ],
   "source": [
    "%viz --style=\"STDCOLOR\" --view=\"State\" \"ParameterTest\""
   ]
  },
  {
   "cell_type": "code",
   "execution_count": 26,
   "id": "nervous-making",
   "metadata": {
    "execution": {
     "iopub.execute_input": "2021-03-25T15:03:14.050258Z",
     "iopub.status.busy": "2021-03-25T15:03:14.049481Z",
     "iopub.status.idle": "2021-03-25T15:03:14.137707Z",
     "shell.execute_reply": "2021-03-25T15:03:14.136291Z"
    }
   },
   "outputs": [
    {
     "data": {
      "image/svg+xml": [
       "<?xml version=\"1.0\" encoding=\"UTF-8\" standalone=\"no\"?><svg xmlns=\"http://www.w3.org/2000/svg\" xmlns:xlink=\"http://www.w3.org/1999/xlink\" contentScriptType=\"application/ecmascript\" contentStyleType=\"text/css\" height=\"123px\" preserveAspectRatio=\"none\" style=\"width:960px;height:123px;\" version=\"1.1\" viewBox=\"0 0 960 123\" width=\"960px\" zoomAndPan=\"magnify\"><defs><filter height=\"300%\" id=\"f19v1cabim3g6h\" width=\"300%\" x=\"-1\" y=\"-1\"><feGaussianBlur result=\"blurOut\" stdDeviation=\"2.0\"/><feColorMatrix in=\"blurOut\" result=\"blurOut2\" type=\"matrix\" values=\"0 0 0 0 0 0 0 0 0 0 0 0 0 0 0 0 0 0 .4 0\"/><feOffset dx=\"4.0\" dy=\"4.0\" in=\"blurOut2\" result=\"blurOut3\"/><feBlend in=\"SourceGraphic\" in2=\"blurOut3\" mode=\"normal\"/></filter></defs><g><!--MD5=[fbc87193dbaf4d95561dea2c320d4a47]\n",
       "cluster E1--><a href=\"psysml:c7000c50-df42-41d3-9ba9-36eed14db093\" target=\"_top\" title=\"psysml:c7000c50-df42-41d3-9ba9-36eed14db093\" xlink:actuate=\"onRequest\" xlink:href=\"psysml:c7000c50-df42-41d3-9ba9-36eed14db093\" xlink:show=\"new\" xlink:title=\"psysml:c7000c50-df42-41d3-9ba9-36eed14db093\" xlink:type=\"simple\"><polygon fill=\"#FFFFFF\" filter=\"url(#f19v1cabim3g6h)\" points=\"16,6,139,6,146,28.2969,938,28.2969,938,111,16,111,16,6\" style=\"stroke: #000000; stroke-width: 1.5;\"/><line style=\"stroke: #000000; stroke-width: 1.5;\" x1=\"16\" x2=\"146\" y1=\"28.2969\" y2=\"28.2969\"/><text fill=\"#000000\" font-family=\"sans-serif\" font-size=\"14\" font-weight=\"bold\" lengthAdjust=\"spacingAndGlyphs\" textLength=\"117\" x=\"20\" y=\"20.9951\">ParameterTest</text></a><!--MD5=[b4997ac47864f28c2f74865a473b2911]\n",
       "class E2--><a href=\"psysml:cb02a2ee-bdc8-478c-9636-92278b567e26\" target=\"_top\" title=\"psysml:cb02a2ee-bdc8-478c-9636-92278b567e26\" xlink:actuate=\"onRequest\" xlink:href=\"psysml:cb02a2ee-bdc8-478c-9636-92278b567e26\" xlink:show=\"new\" xlink:title=\"psysml:cb02a2ee-bdc8-478c-9636-92278b567e26\" xlink:type=\"simple\"><rect fill=\"#FEFECE\" filter=\"url(#f19v1cabim3g6h)\" height=\"53.9375\" id=\"E2\" style=\"stroke: #A80036; stroke-width: 1.5;\" width=\"143\" x=\"778.5\" y=\"41\"/><text fill=\"#000000\" font-family=\"sans-serif\" font-size=\"12\" font-style=\"italic\" lengthAdjust=\"spacingAndGlyphs\" textLength=\"141\" x=\"779.5\" y=\"57.1387\">«(T,blue)attribute def»</text><text fill=\"#000000\" font-family=\"sans-serif\" font-size=\"12\" lengthAdjust=\"spacingAndGlyphs\" textLength=\"8\" x=\"846\" y=\"71.1074\">A</text><line style=\"stroke: #A80036; stroke-width: 1.5;\" x1=\"779.5\" x2=\"920.5\" y1=\"78.9375\" y2=\"78.9375\"/><line style=\"stroke: #A80036; stroke-width: 1.5;\" x1=\"779.5\" x2=\"920.5\" y1=\"86.9375\" y2=\"86.9375\"/></a><!--MD5=[ebbe1d658d1005bcc118a6aa81145e00]\n",
       "class E4--><a href=\"psysml:31ea6359-c2ac-42c4-9008-615ad8ad058c\" target=\"_top\" title=\"psysml:31ea6359-c2ac-42c4-9008-615ad8ad058c\" xlink:actuate=\"onRequest\" xlink:href=\"psysml:31ea6359-c2ac-42c4-9008-615ad8ad058c\" xlink:show=\"new\" xlink:title=\"psysml:31ea6359-c2ac-42c4-9008-615ad8ad058c\" xlink:type=\"simple\"><rect fill=\"#FEFECE\" filter=\"url(#f19v1cabim3g6h)\" height=\"53.9375\" id=\"E4\" style=\"stroke: #A80036; stroke-width: 1.5;\" width=\"156\" x=\"587\" y=\"41\"/><text fill=\"#000000\" font-family=\"sans-serif\" font-size=\"12\" font-style=\"italic\" lengthAdjust=\"spacingAndGlyphs\" textLength=\"154\" x=\"588\" y=\"57.1387\">«(T,blue)calculation def»</text><text fill=\"#000000\" font-family=\"sans-serif\" font-size=\"12\" lengthAdjust=\"spacingAndGlyphs\" textLength=\"7\" x=\"661.5\" y=\"71.1074\">F</text><line style=\"stroke: #A80036; stroke-width: 1.5;\" x1=\"588\" x2=\"742\" y1=\"78.9375\" y2=\"78.9375\"/><line style=\"stroke: #A80036; stroke-width: 1.5;\" x1=\"588\" x2=\"742\" y1=\"86.9375\" y2=\"86.9375\"/></a><g id=\"E1.E3\"><a href=\"psysml:50ebccda-29a4-4ea8-943d-69f99c07f732\" target=\"_top\" title=\"psysml:50ebccda-29a4-4ea8-943d-69f99c07f732\" xlink:actuate=\"onRequest\" xlink:href=\"psysml:50ebccda-29a4-4ea8-943d-69f99c07f732\" xlink:show=\"new\" xlink:title=\"psysml:50ebccda-29a4-4ea8-943d-69f99c07f732\" xlink:type=\"simple\"><rect fill=\"#FEFECE\" filter=\"url(#f19v1cabim3g6h)\" height=\"42.9375\" id=\"E3\" rx=\"10\" ry=\"10\" style=\"stroke: #A80036; stroke-width: 1.5;\" width=\"76\" x=\"476\" y=\"46.5\"/><text fill=\"#000000\" font-family=\"sans-serif\" font-size=\"12\" font-style=\"italic\" lengthAdjust=\"spacingAndGlyphs\" textLength=\"69\" x=\"479.5\" y=\"62.6387\">«attribute»</text><text fill=\"#000000\" font-family=\"sans-serif\" font-size=\"12\" lengthAdjust=\"spacingAndGlyphs\" textLength=\"24\" x=\"502\" y=\"76.6074\">a: A</text></a></g><g id=\"E1.E5\"><a href=\"psysml:a5af055b-f2ee-4ef1-a486-dc312f464f3e\" target=\"_top\" title=\"psysml:a5af055b-f2ee-4ef1-a486-dc312f464f3e\" xlink:actuate=\"onRequest\" xlink:href=\"psysml:a5af055b-f2ee-4ef1-a486-dc312f464f3e\" xlink:show=\"new\" xlink:title=\"psysml:a5af055b-f2ee-4ef1-a486-dc312f464f3e\" xlink:type=\"simple\"><rect fill=\"#FEFECE\" filter=\"url(#f19v1cabim3g6h)\" height=\"42.9375\" id=\"E5\" rx=\"10\" ry=\"10\" style=\"stroke: #A80036; stroke-width: 1.5;\" width=\"76\" x=\"365\" y=\"46.5\"/><text fill=\"#000000\" font-family=\"sans-serif\" font-size=\"12\" font-style=\"italic\" lengthAdjust=\"spacingAndGlyphs\" textLength=\"69\" x=\"368.5\" y=\"62.6387\">«attribute»</text><text fill=\"#000000\" font-family=\"sans-serif\" font-size=\"12\" lengthAdjust=\"spacingAndGlyphs\" textLength=\"4\" x=\"401\" y=\"76.6074\">f</text></a></g><g id=\"E1.E6\"><a href=\"psysml:63113e1f-55f0-4199-b954-2673a0b317ed\" target=\"_top\" title=\"psysml:63113e1f-55f0-4199-b954-2673a0b317ed\" xlink:actuate=\"onRequest\" xlink:href=\"psysml:63113e1f-55f0-4199-b954-2673a0b317ed\" xlink:show=\"new\" xlink:title=\"psysml:63113e1f-55f0-4199-b954-2673a0b317ed\" xlink:type=\"simple\"><rect fill=\"#FEFECE\" filter=\"url(#f19v1cabim3g6h)\" height=\"42.9375\" id=\"E6\" rx=\"10\" ry=\"10\" style=\"stroke: #A80036; stroke-width: 1.5;\" width=\"76\" x=\"254\" y=\"46.5\"/><text fill=\"#000000\" font-family=\"sans-serif\" font-size=\"12\" font-style=\"italic\" lengthAdjust=\"spacingAndGlyphs\" textLength=\"69\" x=\"257.5\" y=\"62.6387\">«attribute»</text><text fill=\"#000000\" font-family=\"sans-serif\" font-size=\"12\" lengthAdjust=\"spacingAndGlyphs\" textLength=\"8\" x=\"288\" y=\"76.6074\">g</text></a></g><g id=\"E1.E7\"><a href=\"psysml:537e328f-e5cc-426a-9b09-8cf3e436744c\" target=\"_top\" title=\"psysml:537e328f-e5cc-426a-9b09-8cf3e436744c\" xlink:actuate=\"onRequest\" xlink:href=\"psysml:537e328f-e5cc-426a-9b09-8cf3e436744c\" xlink:show=\"new\" xlink:title=\"psysml:537e328f-e5cc-426a-9b09-8cf3e436744c\" xlink:type=\"simple\"><rect fill=\"#FEFECE\" filter=\"url(#f19v1cabim3g6h)\" height=\"42.9375\" id=\"E7\" rx=\"10\" ry=\"10\" style=\"stroke: #A80036; stroke-width: 1.5;\" width=\"76\" x=\"143\" y=\"46.5\"/><text fill=\"#000000\" font-family=\"sans-serif\" font-size=\"12\" font-style=\"italic\" lengthAdjust=\"spacingAndGlyphs\" textLength=\"69\" x=\"146.5\" y=\"62.6387\">«attribute»</text><text fill=\"#000000\" font-family=\"sans-serif\" font-size=\"12\" lengthAdjust=\"spacingAndGlyphs\" textLength=\"8\" x=\"177\" y=\"76.6074\">b</text></a></g><g id=\"E1.E8\"><a href=\"psysml:2b35c468-a57b-4dfd-a90f-3e1de4d6204b\" target=\"_top\" title=\"psysml:2b35c468-a57b-4dfd-a90f-3e1de4d6204b\" xlink:actuate=\"onRequest\" xlink:href=\"psysml:2b35c468-a57b-4dfd-a90f-3e1de4d6204b\" xlink:show=\"new\" xlink:title=\"psysml:2b35c468-a57b-4dfd-a90f-3e1de4d6204b\" xlink:type=\"simple\"><rect fill=\"#FEFECE\" filter=\"url(#f19v1cabim3g6h)\" height=\"42.9375\" id=\"E8\" rx=\"10\" ry=\"10\" style=\"stroke: #A80036; stroke-width: 1.5;\" width=\"76\" x=\"32\" y=\"46.5\"/><text fill=\"#000000\" font-family=\"sans-serif\" font-size=\"12\" font-style=\"italic\" lengthAdjust=\"spacingAndGlyphs\" textLength=\"69\" x=\"35.5\" y=\"62.6387\">«attribute»</text><text fill=\"#000000\" font-family=\"sans-serif\" font-size=\"12\" lengthAdjust=\"spacingAndGlyphs\" textLength=\"7\" x=\"66.5\" y=\"76.6074\">c</text></a></g><!--MD5=[caec0a657978ae7a7320c8a3a8903346]\n",
       "@startuml\r\n",
       "skinparam ranksep 8\r\n",
       "skinparam rectangle {\r\n",
       " backgroundColor<<block>> LightGreen\r\n",
       "}\r\n",
       "skinparam wrapWidth 300\r\n",
       "hide circle\r\n",
       "\r\n",
       "package \"ParameterTest\" as E1  [[psysml:c7000c50-df42-41d3-9ba9-36eed14db093 ]]  {\r\n",
       "def \"A\" as E2  <<(T,blue)attribute def>> [[psysml:cb02a2ee-bdc8-478c-9636-92278b567e26 ]] \r\n",
       "rec usage \"a: A\" as E3  <<(T,blue)attribute>> [[psysml:50ebccda-29a4-4ea8-943d-69f99c07f732 ]] {\r\n",
       "}\r\n",
       "def \"F\" as E4  <<(T,blue)calculation def>> [[psysml:31ea6359-c2ac-42c4-9008-615ad8ad058c ]] \r\n",
       "rec usage \"f\" as E5  <<(T,blue)attribute>> [[psysml:a5af055b-f2ee-4ef1-a486-dc312f464f3e ]] {\r\n",
       "}\r\n",
       "rec usage \"g\" as E6  <<(T,blue)attribute>> [[psysml:63113e1f-55f0-4199-b954-2673a0b317ed ]] {\r\n",
       "}\r\n",
       "rec usage \"b\" as E7  <<(T,blue)attribute>> [[psysml:537e328f-e5cc-426a-9b09-8cf3e436744c ]] {\r\n",
       "}\r\n",
       "rec usage \"c\" as E8  <<(T,blue)attribute>> [[psysml:2b35c468-a57b-4dfd-a90f-3e1de4d6204b ]] {\r\n",
       "}\r\n",
       "}\r\n",
       "@enduml\r\n",
       "\n",
       "PlantUML version 1.2020.13(Sat Jun 13 12:26:38 UTC 2020)\n",
       "(EPL source distribution)\n",
       "Java Runtime: OpenJDK Runtime Environment\n",
       "JVM: OpenJDK 64-Bit Server VM\n",
       "Default Encoding: UTF-8\n",
       "Language: en\n",
       "Country: null\n",
       "--></g></svg>"
      ]
     },
     "execution_count": 26,
     "metadata": {},
     "output_type": "execute_result"
    }
   ],
   "source": [
    "%viz --style=\"STDCOLOR\" --view=\"Interconnection\" \"ParameterTest\""
   ]
  },
  {
   "cell_type": "code",
   "execution_count": 27,
   "id": "weird-missouri",
   "metadata": {
    "execution": {
     "iopub.execute_input": "2021-03-25T15:03:14.187921Z",
     "iopub.status.busy": "2021-03-25T15:03:14.187553Z",
     "iopub.status.idle": "2021-03-25T15:03:14.243385Z",
     "shell.execute_reply": "2021-03-25T15:03:14.243822Z"
    }
   },
   "outputs": [
    {
     "data": {
      "image/svg+xml": [
       "<?xml version=\"1.0\" encoding=\"UTF-8\" standalone=\"no\"?><svg xmlns=\"http://www.w3.org/2000/svg\" xmlns:xlink=\"http://www.w3.org/1999/xlink\" contentScriptType=\"application/ecmascript\" contentStyleType=\"text/css\" height=\"134px\" preserveAspectRatio=\"none\" style=\"width:174px;height:134px;\" version=\"1.1\" viewBox=\"0 0 174 134\" width=\"174px\" zoomAndPan=\"magnify\"><defs><filter height=\"300%\" id=\"f1t6uxeji8gj91\" width=\"300%\" x=\"-1\" y=\"-1\"><feGaussianBlur result=\"blurOut\" stdDeviation=\"2.0\"/><feColorMatrix in=\"blurOut\" result=\"blurOut2\" type=\"matrix\" values=\"0 0 0 0 0 0 0 0 0 0 0 0 0 0 0 0 0 0 .4 0\"/><feOffset dx=\"4.0\" dy=\"4.0\" in=\"blurOut2\" result=\"blurOut3\"/><feBlend in=\"SourceGraphic\" in2=\"blurOut3\" mode=\"normal\"/></filter></defs><g><!--MD5=[fbc87193dbaf4d95561dea2c320d4a47]\n",
       "cluster E1--><a href=\"psysml:31ea6359-c2ac-42c4-9008-615ad8ad058c\" target=\"_top\" title=\"psysml:31ea6359-c2ac-42c4-9008-615ad8ad058c\" xlink:actuate=\"onRequest\" xlink:href=\"psysml:31ea6359-c2ac-42c4-9008-615ad8ad058c\" xlink:show=\"new\" xlink:title=\"psysml:31ea6359-c2ac-42c4-9008-615ad8ad058c\" xlink:type=\"simple\"><rect fill=\"#FFFFFF\" filter=\"url(#f1t6uxeji8gj91)\" height=\"73\" id=\"E1\" style=\"stroke: #A80036; stroke-width: 1.5;\" width=\"148\" x=\"7\" y=\"42.0986\"/><rect fill=\"#FEFECE\" height=\"37.9375\" style=\"stroke: #A80036; stroke-width: 1.5;\" width=\"148\" x=\"7\" y=\"42.0986\"/><text fill=\"#000000\" font-family=\"sans-serif\" font-size=\"12\" font-style=\"italic\" lengthAdjust=\"spacingAndGlyphs\" textLength=\"106\" x=\"28\" y=\"58.2373\">«calculation def»</text><text fill=\"#000000\" font-family=\"sans-serif\" font-size=\"12\" lengthAdjust=\"spacingAndGlyphs\" textLength=\"7\" x=\"77.5\" y=\"72.2061\">F</text></a><text fill=\"#000000\" font-family=\"sans-serif\" font-size=\"14\" lengthAdjust=\"spacingAndGlyphs\" textLength=\"9\" x=\"20.5\" y=\"20.7969\">p</text><rect fill=\"#A80036\" height=\"12\" style=\"stroke: #FEFECE; stroke-width: 1.5;\" width=\"12\" x=\"19\" y=\"36.0986\"/><text fill=\"#000000\" font-family=\"sans-serif\" font-size=\"14\" lengthAdjust=\"spacingAndGlyphs\" textLength=\"9\" x=\"67.5\" y=\"20.7969\">q</text><rect fill=\"#A80036\" height=\"12\" style=\"stroke: #FEFECE; stroke-width: 1.5;\" width=\"12\" x=\"66\" y=\"36.0986\"/><!--MD5=[f35a4cbb364b2c09238d12b2516cc23b]\n",
       "@startuml\r\n",
       "skinparam ranksep 8\r\n",
       "skinparam wrapWidth 300\r\n",
       "hide circle\r\n",
       "\r\n",
       "rec def \"F\" as E1  <<(T,blue)calculation def>> [[psysml:31ea6359-c2ac-42c4-9008-615ad8ad058c ]] {\r\n",
       "portin \"p\" as E2  [[psysml:c5b3d96c-9fe7-4ab4-b771-6776a88b0ad4 ]] \r\n",
       "portin \"q\" as E3  [[psysml:66adf659-8704-40ab-88b3-19d2477512b1 ]] \r\n",
       "}\r\n",
       "\r\n",
       "@enduml\r\n",
       "\n",
       "PlantUML version 1.2020.13(Sat Jun 13 12:26:38 UTC 2020)\n",
       "(EPL source distribution)\n",
       "Java Runtime: OpenJDK Runtime Environment\n",
       "JVM: OpenJDK 64-Bit Server VM\n",
       "Default Encoding: UTF-8\n",
       "Language: en\n",
       "Country: null\n",
       "--></g></svg>"
      ]
     },
     "execution_count": 27,
     "metadata": {},
     "output_type": "execute_result"
    }
   ],
   "source": [
    "%viz --style=\"STDCOLOR\" --view=\"Action\" \"ParameterTest\""
   ]
  },
  {
   "cell_type": "code",
   "execution_count": 28,
   "id": "encouraging-tampa",
   "metadata": {
    "execution": {
     "iopub.execute_input": "2021-03-25T15:03:14.294306Z",
     "iopub.status.busy": "2021-03-25T15:03:14.293870Z",
     "iopub.status.idle": "2021-03-25T15:03:14.448591Z",
     "shell.execute_reply": "2021-03-25T15:03:14.447109Z"
    }
   },
   "outputs": [
    {
     "data": {
      "image/svg+xml": [
       "<?xml version=\"1.0\" encoding=\"UTF-8\" standalone=\"no\"?><svg xmlns=\"http://www.w3.org/2000/svg\" xmlns:xlink=\"http://www.w3.org/1999/xlink\" contentScriptType=\"application/ecmascript\" contentStyleType=\"text/css\" height=\"264px\" preserveAspectRatio=\"none\" style=\"width:710px;height:264px;\" version=\"1.1\" viewBox=\"0 0 710 264\" width=\"710px\" zoomAndPan=\"magnify\"><defs><filter height=\"300%\" id=\"fy240oshjoclq\" width=\"300%\" x=\"-1\" y=\"-1\"><feGaussianBlur result=\"blurOut\" stdDeviation=\"2.0\"/><feColorMatrix in=\"blurOut\" result=\"blurOut2\" type=\"matrix\" values=\"0 0 0 0 0 0 0 0 0 0 0 0 0 0 0 0 0 0 .4 0\"/><feOffset dx=\"4.0\" dy=\"4.0\" in=\"blurOut2\" result=\"blurOut3\"/><feBlend in=\"SourceGraphic\" in2=\"blurOut3\" mode=\"normal\"/></filter></defs><g><!--MD5=[fbc87193dbaf4d95561dea2c320d4a47]\n",
       "cluster E1--><a href=\"psysml:c7000c50-df42-41d3-9ba9-36eed14db093\" target=\"_top\" title=\"psysml:c7000c50-df42-41d3-9ba9-36eed14db093\" xlink:actuate=\"onRequest\" xlink:href=\"psysml:c7000c50-df42-41d3-9ba9-36eed14db093\" xlink:show=\"new\" xlink:title=\"psysml:c7000c50-df42-41d3-9ba9-36eed14db093\" xlink:type=\"simple\"><polygon fill=\"#FFFFFF\" filter=\"url(#fy240oshjoclq)\" points=\"16,6,139,6,146,28.2969,688,28.2969,688,252,16,252,16,6\" style=\"stroke: #000000; stroke-width: 1.5;\"/><line style=\"stroke: #000000; stroke-width: 1.5;\" x1=\"16\" x2=\"146\" y1=\"28.2969\" y2=\"28.2969\"/><text fill=\"#000000\" font-family=\"sans-serif\" font-size=\"14\" font-weight=\"bold\" lengthAdjust=\"spacingAndGlyphs\" textLength=\"117\" x=\"20\" y=\"20.9951\">ParameterTest</text></a><!--MD5=[b4997ac47864f28c2f74865a473b2911]\n",
       "class E2--><a href=\"psysml:cb02a2ee-bdc8-478c-9636-92278b567e26\" target=\"_top\" title=\"psysml:cb02a2ee-bdc8-478c-9636-92278b567e26\" xlink:actuate=\"onRequest\" xlink:href=\"psysml:cb02a2ee-bdc8-478c-9636-92278b567e26\" xlink:show=\"new\" xlink:title=\"psysml:cb02a2ee-bdc8-478c-9636-92278b567e26\" xlink:type=\"simple\"><rect fill=\"#FEFECE\" filter=\"url(#fy240oshjoclq)\" height=\"71.5469\" id=\"E2\" style=\"stroke: #A80036; stroke-width: 1.5;\" width=\"95\" x=\"498.5\" y=\"164\"/><text fill=\"#000000\" font-family=\"sans-serif\" font-size=\"12\" font-style=\"italic\" lengthAdjust=\"spacingAndGlyphs\" textLength=\"93\" x=\"499.5\" y=\"180.1387\">«attribute def»</text><text fill=\"#000000\" font-family=\"sans-serif\" font-size=\"12\" lengthAdjust=\"spacingAndGlyphs\" textLength=\"8\" x=\"542\" y=\"194.1074\">A</text><line style=\"stroke: #A80036; stroke-width: 1.5;\" x1=\"499.5\" x2=\"592.5\" y1=\"201.9375\" y2=\"201.9375\"/><text fill=\"#000000\" font-family=\"sans-serif\" font-size=\"11\" lengthAdjust=\"spacingAndGlyphs\" textLength=\"48\" x=\"504.5\" y=\"216.1479\">x: String</text><text fill=\"#000000\" font-family=\"sans-serif\" font-size=\"11\" lengthAdjust=\"spacingAndGlyphs\" textLength=\"21\" x=\"504.5\" y=\"228.9526\">y: A</text></a><!--MD5=[09b614a08d8cba4a07c9adeb5e0fee81]\n",
       "class E3--><a href=\"psysml:50ebccda-29a4-4ea8-943d-69f99c07f732\" target=\"_top\" title=\"psysml:50ebccda-29a4-4ea8-943d-69f99c07f732\" xlink:actuate=\"onRequest\" xlink:href=\"psysml:50ebccda-29a4-4ea8-943d-69f99c07f732\" xlink:show=\"new\" xlink:title=\"psysml:50ebccda-29a4-4ea8-943d-69f99c07f732\" xlink:type=\"simple\"><rect fill=\"#FEFECE\" filter=\"url(#fy240oshjoclq)\" height=\"45.9375\" id=\"E3\" rx=\"10\" ry=\"10\" style=\"stroke: #A80036; stroke-width: 1.5;\" width=\"71\" x=\"600.5\" y=\"41\"/><text fill=\"#000000\" font-family=\"sans-serif\" font-size=\"12\" font-style=\"italic\" lengthAdjust=\"spacingAndGlyphs\" textLength=\"69\" x=\"601.5\" y=\"57.1387\">«attribute»</text><text fill=\"#000000\" font-family=\"sans-serif\" font-size=\"12\" lengthAdjust=\"spacingAndGlyphs\" textLength=\"24\" x=\"624\" y=\"71.1074\">a: A</text><line style=\"stroke: #A80036; stroke-width: 1.5;\" x1=\"601.5\" x2=\"670.5\" y1=\"78.9375\" y2=\"78.9375\"/></a><!--MD5=[ebbe1d658d1005bcc118a6aa81145e00]\n",
       "class E4--><a href=\"psysml:31ea6359-c2ac-42c4-9008-615ad8ad058c\" target=\"_top\" title=\"psysml:31ea6359-c2ac-42c4-9008-615ad8ad058c\" xlink:actuate=\"onRequest\" xlink:href=\"psysml:31ea6359-c2ac-42c4-9008-615ad8ad058c\" xlink:show=\"new\" xlink:title=\"psysml:31ea6359-c2ac-42c4-9008-615ad8ad058c\" xlink:type=\"simple\"><rect fill=\"#FEFECE\" filter=\"url(#fy240oshjoclq)\" height=\"45.9375\" id=\"E4\" style=\"stroke: #A80036; stroke-width: 1.5;\" width=\"108\" x=\"457\" y=\"41\"/><text fill=\"#000000\" font-family=\"sans-serif\" font-size=\"12\" font-style=\"italic\" lengthAdjust=\"spacingAndGlyphs\" textLength=\"106\" x=\"458\" y=\"57.1387\">«calculation def»</text><text fill=\"#000000\" font-family=\"sans-serif\" font-size=\"12\" lengthAdjust=\"spacingAndGlyphs\" textLength=\"7\" x=\"507.5\" y=\"71.1074\">F</text><line style=\"stroke: #A80036; stroke-width: 1.5;\" x1=\"458\" x2=\"564\" y1=\"78.9375\" y2=\"78.9375\"/></a><!--MD5=[270fce915f116d4de14055a7c1d9a0f3]\n",
       "class E5--><a href=\"psysml:a5af055b-f2ee-4ef1-a486-dc312f464f3e\" target=\"_top\" title=\"psysml:a5af055b-f2ee-4ef1-a486-dc312f464f3e\" xlink:actuate=\"onRequest\" xlink:href=\"psysml:a5af055b-f2ee-4ef1-a486-dc312f464f3e\" xlink:show=\"new\" xlink:title=\"psysml:a5af055b-f2ee-4ef1-a486-dc312f464f3e\" xlink:type=\"simple\"><rect fill=\"#FEFECE\" filter=\"url(#fy240oshjoclq)\" height=\"45.9375\" id=\"E5\" rx=\"10\" ry=\"10\" style=\"stroke: #A80036; stroke-width: 1.5;\" width=\"71\" x=\"350.5\" y=\"41\"/><text fill=\"#000000\" font-family=\"sans-serif\" font-size=\"12\" font-style=\"italic\" lengthAdjust=\"spacingAndGlyphs\" textLength=\"69\" x=\"351.5\" y=\"57.1387\">«attribute»</text><text fill=\"#000000\" font-family=\"sans-serif\" font-size=\"12\" lengthAdjust=\"spacingAndGlyphs\" textLength=\"4\" x=\"384\" y=\"71.1074\">f</text><line style=\"stroke: #A80036; stroke-width: 1.5;\" x1=\"351.5\" x2=\"420.5\" y1=\"78.9375\" y2=\"78.9375\"/></a><!--MD5=[60a26617385b1d2d0262a64233df1f8d]\n",
       "class E6--><a href=\"psysml:63113e1f-55f0-4199-b954-2673a0b317ed\" target=\"_top\" title=\"psysml:63113e1f-55f0-4199-b954-2673a0b317ed\" xlink:actuate=\"onRequest\" xlink:href=\"psysml:63113e1f-55f0-4199-b954-2673a0b317ed\" xlink:show=\"new\" xlink:title=\"psysml:63113e1f-55f0-4199-b954-2673a0b317ed\" xlink:type=\"simple\"><rect fill=\"#FEFECE\" filter=\"url(#fy240oshjoclq)\" height=\"45.9375\" id=\"E6\" rx=\"10\" ry=\"10\" style=\"stroke: #A80036; stroke-width: 1.5;\" width=\"71\" x=\"244.5\" y=\"41\"/><text fill=\"#000000\" font-family=\"sans-serif\" font-size=\"12\" font-style=\"italic\" lengthAdjust=\"spacingAndGlyphs\" textLength=\"69\" x=\"245.5\" y=\"57.1387\">«attribute»</text><text fill=\"#000000\" font-family=\"sans-serif\" font-size=\"12\" lengthAdjust=\"spacingAndGlyphs\" textLength=\"8\" x=\"276\" y=\"71.1074\">g</text><line style=\"stroke: #A80036; stroke-width: 1.5;\" x1=\"245.5\" x2=\"314.5\" y1=\"78.9375\" y2=\"78.9375\"/></a><!--MD5=[2156ba9850f5573cc1fc38a6a4b2f02b]\n",
       "class E7--><a href=\"psysml:537e328f-e5cc-426a-9b09-8cf3e436744c\" target=\"_top\" title=\"psysml:537e328f-e5cc-426a-9b09-8cf3e436744c\" xlink:actuate=\"onRequest\" xlink:href=\"psysml:537e328f-e5cc-426a-9b09-8cf3e436744c\" xlink:show=\"new\" xlink:title=\"psysml:537e328f-e5cc-426a-9b09-8cf3e436744c\" xlink:type=\"simple\"><rect fill=\"#FEFECE\" filter=\"url(#fy240oshjoclq)\" height=\"45.9375\" id=\"E7\" rx=\"10\" ry=\"10\" style=\"stroke: #A80036; stroke-width: 1.5;\" width=\"71\" x=\"138.5\" y=\"41\"/><text fill=\"#000000\" font-family=\"sans-serif\" font-size=\"12\" font-style=\"italic\" lengthAdjust=\"spacingAndGlyphs\" textLength=\"69\" x=\"139.5\" y=\"57.1387\">«attribute»</text><text fill=\"#000000\" font-family=\"sans-serif\" font-size=\"12\" lengthAdjust=\"spacingAndGlyphs\" textLength=\"8\" x=\"170\" y=\"71.1074\">b</text><line style=\"stroke: #A80036; stroke-width: 1.5;\" x1=\"139.5\" x2=\"208.5\" y1=\"78.9375\" y2=\"78.9375\"/></a><!--MD5=[b9389687b975829384b498ac4b7476b2]\n",
       "class E8--><a href=\"psysml:2b35c468-a57b-4dfd-a90f-3e1de4d6204b\" target=\"_top\" title=\"psysml:2b35c468-a57b-4dfd-a90f-3e1de4d6204b\" xlink:actuate=\"onRequest\" xlink:href=\"psysml:2b35c468-a57b-4dfd-a90f-3e1de4d6204b\" xlink:show=\"new\" xlink:title=\"psysml:2b35c468-a57b-4dfd-a90f-3e1de4d6204b\" xlink:type=\"simple\"><rect fill=\"#FEFECE\" filter=\"url(#fy240oshjoclq)\" height=\"45.9375\" id=\"E8\" rx=\"10\" ry=\"10\" style=\"stroke: #A80036; stroke-width: 1.5;\" width=\"71\" x=\"32.5\" y=\"41\"/><text fill=\"#000000\" font-family=\"sans-serif\" font-size=\"12\" font-style=\"italic\" lengthAdjust=\"spacingAndGlyphs\" textLength=\"69\" x=\"33.5\" y=\"57.1387\">«attribute»</text><text fill=\"#000000\" font-family=\"sans-serif\" font-size=\"12\" lengthAdjust=\"spacingAndGlyphs\" textLength=\"7\" x=\"64.5\" y=\"71.1074\">c</text><line style=\"stroke: #A80036; stroke-width: 1.5;\" x1=\"33.5\" x2=\"102.5\" y1=\"78.9375\" y2=\"78.9375\"/></a><!--MD5=[05d275557350bfb9b23a4ef7222b4c39]\n",
       "link E3 to E2--><a href=\"psysml:50b306d4-0f13-410b-aa85-567dae9acdd8\" target=\"_top\" title=\"psysml:50b306d4-0f13-410b-aa85-567dae9acdd8\" xlink:actuate=\"onRequest\" xlink:href=\"psysml:50b306d4-0f13-410b-aa85-567dae9acdd8\" xlink:show=\"new\" xlink:title=\"psysml:50b306d4-0f13-410b-aa85-567dae9acdd8\" xlink:type=\"simple\"><path d=\"M621.14,87.13 C610.18,103.45 594.8,126.34 580.81,147.17 \" fill=\"none\" id=\"E3-&gt;E2\" style=\"stroke: #A80036; stroke-width: 1.0;\"/><polygon fill=\"#FFFFFF\" points=\"569.52,163.99,574.309,144.316,585.9284,152.1256,569.52,163.99\" style=\"stroke: #A80036; stroke-width: 1.0;\"/><ellipse cx=\"579.1486\" cy=\"140.7009\" fill=\"#A80036\" rx=\"2\" ry=\"2\" style=\"stroke: #A80036; stroke-width: 1.0;\"/><ellipse cx=\"587.4481\" cy=\"146.2792\" fill=\"#A80036\" rx=\"2\" ry=\"2\" style=\"stroke: #A80036; stroke-width: 1.0;\"/></a><!--MD5=[ddeed8deb2209213b62e6cfabaa108b2]\n",
       "reverse link E4 to E2--><a href=\"psysml:c5b3d96c-9fe7-4ab4-b771-6776a88b0ad4\" target=\"_top\" title=\"psysml:c5b3d96c-9fe7-4ab4-b771-6776a88b0ad4\" xlink:actuate=\"onRequest\" xlink:href=\"psysml:c5b3d96c-9fe7-4ab4-b771-6776a88b0ad4\" xlink:show=\"new\" xlink:title=\"psysml:c5b3d96c-9fe7-4ab4-b771-6776a88b0ad4\" xlink:type=\"simple\"><path d=\"M520.11,99.89 C525.27,119.63 531.69,144.23 536.85,163.99 \" fill=\"none\" id=\"E4&lt;-E2\" style=\"stroke: #A80036; stroke-width: 1.0;\"/><polygon fill=\"#FFFFFF\" points=\"516.78,87.13,514.4253,93.9458,519.8112,98.7408,522.1659,91.925,516.78,87.13\" style=\"stroke: #A80036; stroke-width: 1.0;\"/><text fill=\"#000000\" font-family=\"sans-serif\" font-size=\"13\" lengthAdjust=\"spacingAndGlyphs\" textLength=\"8\" x=\"529\" y=\"130.0669\">p</text></a><!--MD5=[17359e3d882fc3d8d817cf24cff591b2]\n",
       "@startuml\r\n",
       "skinparam wrapWidth 300\r\n",
       "hide circle\r\n",
       "\r\n",
       "package \"ParameterTest\" as E1  [[psysml:c7000c50-df42-41d3-9ba9-36eed14db093 ]]  {\r\n",
       "comp def \"A\" as E2  <<(T,blue)attribute def>> [[psysml:cb02a2ee-bdc8-478c-9636-92278b567e26 ]] {\r\n",
       "x: String\r\n",
       "y: A\r\n",
       "}\r\n",
       "comp usage \"a: A\" as E3  <<(T,blue)attribute>> [[psysml:50ebccda-29a4-4ea8-943d-69f99c07f732 ]] {\r\n",
       "}\r\n",
       "comp def \"F\" as E4  <<(T,blue)calculation def>> [[psysml:31ea6359-c2ac-42c4-9008-615ad8ad058c ]] {\r\n",
       "}\r\n",
       "comp usage \"f\" as E5  <<(T,blue)attribute>> [[psysml:a5af055b-f2ee-4ef1-a486-dc312f464f3e ]] {\r\n",
       "}\r\n",
       "comp usage \"g\" as E6  <<(T,blue)attribute>> [[psysml:63113e1f-55f0-4199-b954-2673a0b317ed ]] {\r\n",
       "}\r\n",
       "comp usage \"b\" as E7  <<(T,blue)attribute>> [[psysml:537e328f-e5cc-426a-9b09-8cf3e436744c ]] {\r\n",
       "}\r\n",
       "comp usage \"c\" as E8  <<(T,blue)attribute>> [[psysml:2b35c468-a57b-4dfd-a90f-3e1de4d6204b ]] {\r\n",
       "}\r\n",
       "E3 - -:|> E2 [[psysml:50b306d4-0f13-410b-aa85-567dae9acdd8 ]] \r\n",
       "E4 o- - E2 [[psysml:c5b3d96c-9fe7-4ab4-b771-6776a88b0ad4 ]] : p\r\n",
       "}\r\n",
       "@enduml\r\n",
       "\n",
       "PlantUML version 1.2020.13(Sat Jun 13 12:26:38 UTC 2020)\n",
       "(EPL source distribution)\n",
       "Java Runtime: OpenJDK Runtime Environment\n",
       "JVM: OpenJDK 64-Bit Server VM\n",
       "Default Encoding: UTF-8\n",
       "Language: en\n",
       "Country: null\n",
       "--></g></svg>"
      ]
     },
     "execution_count": 28,
     "metadata": {},
     "output_type": "execute_result"
    }
   ],
   "source": [
    "%viz --style=\"STDCOLOR\" --view=\"Sequence\" \"ParameterTest\""
   ]
  },
  {
   "cell_type": "code",
   "execution_count": 29,
   "id": "destroyed-valve",
   "metadata": {
    "execution": {
     "iopub.execute_input": "2021-03-25T15:03:14.499104Z",
     "iopub.status.busy": "2021-03-25T15:03:14.498553Z",
     "iopub.status.idle": "2021-03-25T15:03:14.689074Z",
     "shell.execute_reply": "2021-03-25T15:03:14.687639Z"
    }
   },
   "outputs": [
    {
     "data": {
      "image/svg+xml": [
       "<?xml version=\"1.0\" encoding=\"UTF-8\" standalone=\"no\"?><svg xmlns=\"http://www.w3.org/2000/svg\" xmlns:xlink=\"http://www.w3.org/1999/xlink\" contentScriptType=\"application/ecmascript\" contentStyleType=\"text/css\" height=\"247px\" preserveAspectRatio=\"none\" style=\"width:740px;height:247px;\" version=\"1.1\" viewBox=\"0 0 740 247\" width=\"740px\" zoomAndPan=\"magnify\"><defs><filter height=\"300%\" id=\"f194oa1b3tmiva\" width=\"300%\" x=\"-1\" y=\"-1\"><feGaussianBlur result=\"blurOut\" stdDeviation=\"2.0\"/><feColorMatrix in=\"blurOut\" result=\"blurOut2\" type=\"matrix\" values=\"0 0 0 0 0 0 0 0 0 0 0 0 0 0 0 0 0 0 .4 0\"/><feOffset dx=\"4.0\" dy=\"4.0\" in=\"blurOut2\" result=\"blurOut3\"/><feBlend in=\"SourceGraphic\" in2=\"blurOut3\" mode=\"normal\"/></filter></defs><g><!--MD5=[fbc87193dbaf4d95561dea2c320d4a47]\n",
       "cluster E1--><a href=\"psysml:c7000c50-df42-41d3-9ba9-36eed14db093\" target=\"_top\" title=\"psysml:c7000c50-df42-41d3-9ba9-36eed14db093\" xlink:actuate=\"onRequest\" xlink:href=\"psysml:c7000c50-df42-41d3-9ba9-36eed14db093\" xlink:show=\"new\" xlink:title=\"psysml:c7000c50-df42-41d3-9ba9-36eed14db093\" xlink:type=\"simple\"><polygon fill=\"#FFFFFF\" filter=\"url(#f194oa1b3tmiva)\" points=\"16,6,139,6,146,28.2969,718,28.2969,718,235,16,235,16,6\" style=\"stroke: #000000; stroke-width: 1.5;\"/><line style=\"stroke: #000000; stroke-width: 1.5;\" x1=\"16\" x2=\"146\" y1=\"28.2969\" y2=\"28.2969\"/><text fill=\"#000000\" font-family=\"sans-serif\" font-size=\"14\" font-weight=\"bold\" lengthAdjust=\"spacingAndGlyphs\" textLength=\"117\" x=\"20\" y=\"20.9951\">ParameterTest</text></a><!--MD5=[f6df4d0ebaf0b5dfb2ced0ae5af7c670]\n",
       "cluster E4--><a href=\"psysml:31ea6359-c2ac-42c4-9008-615ad8ad058c\" target=\"_top\" title=\"psysml:31ea6359-c2ac-42c4-9008-615ad8ad058c\" xlink:actuate=\"onRequest\" xlink:href=\"psysml:31ea6359-c2ac-42c4-9008-615ad8ad058c\" xlink:show=\"new\" xlink:title=\"psysml:31ea6359-c2ac-42c4-9008-615ad8ad058c\" xlink:type=\"simple\"><rect fill=\"#FFFFFF\" filter=\"url(#f194oa1b3tmiva)\" height=\"152.5\" id=\"E4\" style=\"stroke: #A80036; stroke-width: 1.5;\" width=\"148\" x=\"554\" y=\"64\"/><rect fill=\"#FEFECE\" height=\"37.9375\" style=\"stroke: #A80036; stroke-width: 1.5;\" width=\"148\" x=\"554\" y=\"64\"/><text fill=\"#000000\" font-family=\"sans-serif\" font-size=\"12\" font-style=\"italic\" lengthAdjust=\"spacingAndGlyphs\" textLength=\"106\" x=\"575\" y=\"80.1387\">«calculation def»</text><text fill=\"#000000\" font-family=\"sans-serif\" font-size=\"12\" lengthAdjust=\"spacingAndGlyphs\" textLength=\"7\" x=\"624.5\" y=\"94.1074\">F</text></a><!--MD5=[b4997ac47864f28c2f74865a473b2911]\n",
       "class E2--><a href=\"psysml:cb02a2ee-bdc8-478c-9636-92278b567e26\" target=\"_top\" title=\"psysml:cb02a2ee-bdc8-478c-9636-92278b567e26\" xlink:actuate=\"onRequest\" xlink:href=\"psysml:cb02a2ee-bdc8-478c-9636-92278b567e26\" xlink:show=\"new\" xlink:title=\"psysml:cb02a2ee-bdc8-478c-9636-92278b567e26\" xlink:type=\"simple\"><rect fill=\"#FEFECE\" filter=\"url(#f194oa1b3tmiva)\" height=\"71.5469\" id=\"E2\" style=\"stroke: #A80036; stroke-width: 1.5;\" width=\"95\" x=\"422.5\" y=\"147\"/><text fill=\"#000000\" font-family=\"sans-serif\" font-size=\"12\" font-style=\"italic\" lengthAdjust=\"spacingAndGlyphs\" textLength=\"93\" x=\"423.5\" y=\"163.1387\">«attribute def»</text><text fill=\"#000000\" font-family=\"sans-serif\" font-size=\"12\" lengthAdjust=\"spacingAndGlyphs\" textLength=\"8\" x=\"466\" y=\"177.1074\">A</text><line style=\"stroke: #A80036; stroke-width: 1.5;\" x1=\"423.5\" x2=\"516.5\" y1=\"184.9375\" y2=\"184.9375\"/><text fill=\"#000000\" font-family=\"sans-serif\" font-size=\"11\" lengthAdjust=\"spacingAndGlyphs\" textLength=\"48\" x=\"428.5\" y=\"199.1479\">x: String</text><text fill=\"#000000\" font-family=\"sans-serif\" font-size=\"11\" lengthAdjust=\"spacingAndGlyphs\" textLength=\"21\" x=\"428.5\" y=\"211.9526\">y: A</text></a><!--MD5=[09b614a08d8cba4a07c9adeb5e0fee81]\n",
       "class E3--><a href=\"psysml:50ebccda-29a4-4ea8-943d-69f99c07f732\" target=\"_top\" title=\"psysml:50ebccda-29a4-4ea8-943d-69f99c07f732\" xlink:actuate=\"onRequest\" xlink:href=\"psysml:50ebccda-29a4-4ea8-943d-69f99c07f732\" xlink:show=\"new\" xlink:title=\"psysml:50ebccda-29a4-4ea8-943d-69f99c07f732\" xlink:type=\"simple\"><rect fill=\"#FEFECE\" filter=\"url(#f194oa1b3tmiva)\" height=\"45.9375\" id=\"E3\" rx=\"10\" ry=\"10\" style=\"stroke: #A80036; stroke-width: 1.5;\" width=\"71\" x=\"456.5\" y=\"41\"/><text fill=\"#000000\" font-family=\"sans-serif\" font-size=\"12\" font-style=\"italic\" lengthAdjust=\"spacingAndGlyphs\" textLength=\"69\" x=\"457.5\" y=\"57.1387\">«attribute»</text><text fill=\"#000000\" font-family=\"sans-serif\" font-size=\"12\" lengthAdjust=\"spacingAndGlyphs\" textLength=\"24\" x=\"480\" y=\"71.1074\">a: A</text><line style=\"stroke: #A80036; stroke-width: 1.5;\" x1=\"457.5\" x2=\"526.5\" y1=\"78.9375\" y2=\"78.9375\"/></a><!--MD5=[2156ba9850f5573cc1fc38a6a4b2f02b]\n",
       "class E7--><a href=\"psysml:a5af055b-f2ee-4ef1-a486-dc312f464f3e\" target=\"_top\" title=\"psysml:a5af055b-f2ee-4ef1-a486-dc312f464f3e\" xlink:actuate=\"onRequest\" xlink:href=\"psysml:a5af055b-f2ee-4ef1-a486-dc312f464f3e\" xlink:show=\"new\" xlink:title=\"psysml:a5af055b-f2ee-4ef1-a486-dc312f464f3e\" xlink:type=\"simple\"><rect fill=\"#FEFECE\" filter=\"url(#f194oa1b3tmiva)\" height=\"45.9375\" id=\"E7\" rx=\"10\" ry=\"10\" style=\"stroke: #A80036; stroke-width: 1.5;\" width=\"71\" x=\"350.5\" y=\"41\"/><text fill=\"#000000\" font-family=\"sans-serif\" font-size=\"12\" font-style=\"italic\" lengthAdjust=\"spacingAndGlyphs\" textLength=\"69\" x=\"351.5\" y=\"57.1387\">«attribute»</text><text fill=\"#000000\" font-family=\"sans-serif\" font-size=\"12\" lengthAdjust=\"spacingAndGlyphs\" textLength=\"4\" x=\"384\" y=\"71.1074\">f</text><line style=\"stroke: #A80036; stroke-width: 1.5;\" x1=\"351.5\" x2=\"420.5\" y1=\"78.9375\" y2=\"78.9375\"/></a><!--MD5=[b9389687b975829384b498ac4b7476b2]\n",
       "class E8--><a href=\"psysml:63113e1f-55f0-4199-b954-2673a0b317ed\" target=\"_top\" title=\"psysml:63113e1f-55f0-4199-b954-2673a0b317ed\" xlink:actuate=\"onRequest\" xlink:href=\"psysml:63113e1f-55f0-4199-b954-2673a0b317ed\" xlink:show=\"new\" xlink:title=\"psysml:63113e1f-55f0-4199-b954-2673a0b317ed\" xlink:type=\"simple\"><rect fill=\"#FEFECE\" filter=\"url(#f194oa1b3tmiva)\" height=\"45.9375\" id=\"E8\" rx=\"10\" ry=\"10\" style=\"stroke: #A80036; stroke-width: 1.5;\" width=\"71\" x=\"244.5\" y=\"41\"/><text fill=\"#000000\" font-family=\"sans-serif\" font-size=\"12\" font-style=\"italic\" lengthAdjust=\"spacingAndGlyphs\" textLength=\"69\" x=\"245.5\" y=\"57.1387\">«attribute»</text><text fill=\"#000000\" font-family=\"sans-serif\" font-size=\"12\" lengthAdjust=\"spacingAndGlyphs\" textLength=\"8\" x=\"276\" y=\"71.1074\">g</text><line style=\"stroke: #A80036; stroke-width: 1.5;\" x1=\"245.5\" x2=\"314.5\" y1=\"78.9375\" y2=\"78.9375\"/></a><!--MD5=[fd4143e9d270a159db93a4ea2a975926]\n",
       "class E9--><a href=\"psysml:537e328f-e5cc-426a-9b09-8cf3e436744c\" target=\"_top\" title=\"psysml:537e328f-e5cc-426a-9b09-8cf3e436744c\" xlink:actuate=\"onRequest\" xlink:href=\"psysml:537e328f-e5cc-426a-9b09-8cf3e436744c\" xlink:show=\"new\" xlink:title=\"psysml:537e328f-e5cc-426a-9b09-8cf3e436744c\" xlink:type=\"simple\"><rect fill=\"#FEFECE\" filter=\"url(#f194oa1b3tmiva)\" height=\"45.9375\" id=\"E9\" rx=\"10\" ry=\"10\" style=\"stroke: #A80036; stroke-width: 1.5;\" width=\"71\" x=\"138.5\" y=\"41\"/><text fill=\"#000000\" font-family=\"sans-serif\" font-size=\"12\" font-style=\"italic\" lengthAdjust=\"spacingAndGlyphs\" textLength=\"69\" x=\"139.5\" y=\"57.1387\">«attribute»</text><text fill=\"#000000\" font-family=\"sans-serif\" font-size=\"12\" lengthAdjust=\"spacingAndGlyphs\" textLength=\"8\" x=\"170\" y=\"71.1074\">b</text><line style=\"stroke: #A80036; stroke-width: 1.5;\" x1=\"139.5\" x2=\"208.5\" y1=\"78.9375\" y2=\"78.9375\"/></a><!--MD5=[96f4274e9e20536e775497830990834d]\n",
       "class E10--><a href=\"psysml:2b35c468-a57b-4dfd-a90f-3e1de4d6204b\" target=\"_top\" title=\"psysml:2b35c468-a57b-4dfd-a90f-3e1de4d6204b\" xlink:actuate=\"onRequest\" xlink:href=\"psysml:2b35c468-a57b-4dfd-a90f-3e1de4d6204b\" xlink:show=\"new\" xlink:title=\"psysml:2b35c468-a57b-4dfd-a90f-3e1de4d6204b\" xlink:type=\"simple\"><rect fill=\"#FEFECE\" filter=\"url(#f194oa1b3tmiva)\" height=\"45.9375\" id=\"E10\" rx=\"10\" ry=\"10\" style=\"stroke: #A80036; stroke-width: 1.5;\" width=\"71\" x=\"32.5\" y=\"41\"/><text fill=\"#000000\" font-family=\"sans-serif\" font-size=\"12\" font-style=\"italic\" lengthAdjust=\"spacingAndGlyphs\" textLength=\"69\" x=\"33.5\" y=\"57.1387\">«attribute»</text><text fill=\"#000000\" font-family=\"sans-serif\" font-size=\"12\" lengthAdjust=\"spacingAndGlyphs\" textLength=\"7\" x=\"64.5\" y=\"71.1074\">c</text><line style=\"stroke: #A80036; stroke-width: 1.5;\" x1=\"33.5\" x2=\"102.5\" y1=\"78.9375\" y2=\"78.9375\"/></a><text fill=\"#000000\" font-family=\"sans-serif\" font-size=\"14\" lengthAdjust=\"spacingAndGlyphs\" textLength=\"9\" x=\"567.5\" y=\"42.6982\">p</text><rect fill=\"#A80036\" height=\"12\" style=\"stroke: #FEFECE; stroke-width: 1.5;\" width=\"12\" x=\"566\" y=\"58\"/><text fill=\"#000000\" font-family=\"sans-serif\" font-size=\"14\" lengthAdjust=\"spacingAndGlyphs\" textLength=\"9\" x=\"614.5\" y=\"42.6982\">q</text><rect fill=\"#A80036\" height=\"12\" style=\"stroke: #FEFECE; stroke-width: 1.5;\" width=\"12\" x=\"613\" y=\"58\"/><!--MD5=[05d275557350bfb9b23a4ef7222b4c39]\n",
       "link E3 to E2--><a href=\"psysml:50b306d4-0f13-410b-aa85-567dae9acdd8\" target=\"_top\" title=\"psysml:50b306d4-0f13-410b-aa85-567dae9acdd8\" xlink:actuate=\"onRequest\" xlink:href=\"psysml:50b306d4-0f13-410b-aa85-567dae9acdd8\" xlink:show=\"new\" xlink:title=\"psysml:50b306d4-0f13-410b-aa85-567dae9acdd8\" xlink:type=\"simple\"><path d=\"M487.86,87.01 C485.74,98.3 483.05,112.62 480.4,126.7 \" fill=\"none\" id=\"E3-&gt;E2\" style=\"stroke: #A80036; stroke-width: 1.0;\"/><polygon fill=\"#FFFFFF\" points=\"476.63,146.75,473.2514,126.7854,487.0116,129.3654,476.63,146.75\" style=\"stroke: #A80036; stroke-width: 1.0;\"/><ellipse cx=\"476.2676\" cy=\"121.5516\" fill=\"#A80036\" rx=\"2\" ry=\"2\" style=\"stroke: #A80036; stroke-width: 1.0;\"/><ellipse cx=\"486.0963\" cy=\"123.3945\" fill=\"#A80036\" rx=\"2\" ry=\"2\" style=\"stroke: #A80036; stroke-width: 1.0;\"/></a><!--MD5=[7f836491c236ab5a595bc1d6be42bab7]\n",
       "@startuml\r\n",
       "skinparam wrapWidth 300\r\n",
       "hide circle\r\n",
       "\r\n",
       "package \"ParameterTest\" as E1  [[psysml:c7000c50-df42-41d3-9ba9-36eed14db093 ]]  {\r\n",
       "comp def \"A\" as E2  <<(T,blue)attribute def>> [[psysml:cb02a2ee-bdc8-478c-9636-92278b567e26 ]] {\r\n",
       "x: String\r\n",
       "y: A\r\n",
       "}\r\n",
       "comp usage \"a: A\" as E3  <<(T,blue)attribute>> [[psysml:50ebccda-29a4-4ea8-943d-69f99c07f732 ]] {\r\n",
       "}\r\n",
       "rec def \"F\" as E4  <<(T,blue)calculation def>> [[psysml:31ea6359-c2ac-42c4-9008-615ad8ad058c ]] {\r\n",
       "portin \"p\" as E5  [[psysml:c5b3d96c-9fe7-4ab4-b771-6776a88b0ad4 ]] \r\n",
       "portin \"q\" as E6  [[psysml:66adf659-8704-40ab-88b3-19d2477512b1 ]] \r\n",
       "}\r\n",
       "\r\n",
       "comp usage \"f\" as E7  <<(T,blue)attribute>> [[psysml:a5af055b-f2ee-4ef1-a486-dc312f464f3e ]] {\r\n",
       "}\r\n",
       "comp usage \"g\" as E8  <<(T,blue)attribute>> [[psysml:63113e1f-55f0-4199-b954-2673a0b317ed ]] {\r\n",
       "}\r\n",
       "comp usage \"b\" as E9  <<(T,blue)attribute>> [[psysml:537e328f-e5cc-426a-9b09-8cf3e436744c ]] {\r\n",
       "}\r\n",
       "comp usage \"c\" as E10  <<(T,blue)attribute>> [[psysml:2b35c468-a57b-4dfd-a90f-3e1de4d6204b ]] {\r\n",
       "}\r\n",
       "E3 - -:|> E2 [[psysml:50b306d4-0f13-410b-aa85-567dae9acdd8 ]] \r\n",
       "}\r\n",
       "@enduml\r\n",
       "\n",
       "PlantUML version 1.2020.13(Sat Jun 13 12:26:38 UTC 2020)\n",
       "(EPL source distribution)\n",
       "Java Runtime: OpenJDK Runtime Environment\n",
       "JVM: OpenJDK 64-Bit Server VM\n",
       "Default Encoding: UTF-8\n",
       "Language: en\n",
       "Country: null\n",
       "--></g></svg>"
      ]
     },
     "execution_count": 29,
     "metadata": {},
     "output_type": "execute_result"
    }
   ],
   "source": [
    "%viz --style=\"STDCOLOR\" --view=\"MIXED\" \"ParameterTest\""
   ]
  },
  {
   "cell_type": "code",
   "execution_count": 30,
   "id": "civic-velvet",
   "metadata": {
    "execution": {
     "iopub.execute_input": "2021-03-25T15:03:14.739990Z",
     "iopub.status.busy": "2021-03-25T15:03:14.739466Z",
     "iopub.status.idle": "2021-03-25T15:03:14.923083Z",
     "shell.execute_reply": "2021-03-25T15:03:14.921483Z"
    }
   },
   "outputs": [
    {
     "data": {
      "image/svg+xml": [
       "<?xml version=\"1.0\" encoding=\"UTF-8\" standalone=\"no\"?><svg xmlns=\"http://www.w3.org/2000/svg\" xmlns:xlink=\"http://www.w3.org/1999/xlink\" contentScriptType=\"application/ecmascript\" contentStyleType=\"text/css\" height=\"247px\" preserveAspectRatio=\"none\" style=\"width:868px;height:247px;\" version=\"1.1\" viewBox=\"0 0 868 247\" width=\"868px\" zoomAndPan=\"magnify\"><defs><filter height=\"300%\" id=\"f18866qv0f7xrq\" width=\"300%\" x=\"-1\" y=\"-1\"><feGaussianBlur result=\"blurOut\" stdDeviation=\"2.0\"/><feColorMatrix in=\"blurOut\" result=\"blurOut2\" type=\"matrix\" values=\"0 0 0 0 0 0 0 0 0 0 0 0 0 0 0 0 0 0 .4 0\"/><feOffset dx=\"4.0\" dy=\"4.0\" in=\"blurOut2\" result=\"blurOut3\"/><feBlend in=\"SourceGraphic\" in2=\"blurOut3\" mode=\"normal\"/></filter></defs><g><!--MD5=[fbc87193dbaf4d95561dea2c320d4a47]\n",
       "cluster E1--><a href=\"psysml:c7000c50-df42-41d3-9ba9-36eed14db093\" target=\"_top\" title=\"psysml:c7000c50-df42-41d3-9ba9-36eed14db093\" xlink:actuate=\"onRequest\" xlink:href=\"psysml:c7000c50-df42-41d3-9ba9-36eed14db093\" xlink:show=\"new\" xlink:title=\"psysml:c7000c50-df42-41d3-9ba9-36eed14db093\" xlink:type=\"simple\"><polygon fill=\"#FFFFFF\" filter=\"url(#f18866qv0f7xrq)\" points=\"16,6,139,6,146,28.2969,846,28.2969,846,235,16,235,16,6\" style=\"stroke: #000000; stroke-width: 1.5;\"/><line style=\"stroke: #000000; stroke-width: 1.5;\" x1=\"16\" x2=\"146\" y1=\"28.2969\" y2=\"28.2969\"/><text fill=\"#000000\" font-family=\"sans-serif\" font-size=\"14\" font-weight=\"bold\" lengthAdjust=\"spacingAndGlyphs\" textLength=\"117\" x=\"20\" y=\"20.9951\">ParameterTest</text></a><!--MD5=[f6df4d0ebaf0b5dfb2ced0ae5af7c670]\n",
       "cluster E4--><a href=\"psysml:31ea6359-c2ac-42c4-9008-615ad8ad058c\" target=\"_top\" title=\"psysml:31ea6359-c2ac-42c4-9008-615ad8ad058c\" xlink:actuate=\"onRequest\" xlink:href=\"psysml:31ea6359-c2ac-42c4-9008-615ad8ad058c\" xlink:show=\"new\" xlink:title=\"psysml:31ea6359-c2ac-42c4-9008-615ad8ad058c\" xlink:type=\"simple\"><rect fill=\"#FFFFFF\" filter=\"url(#f18866qv0f7xrq)\" height=\"152.5\" id=\"E4\" style=\"stroke: #A80036; stroke-width: 1.5;\" width=\"148\" x=\"682\" y=\"64\"/><rect fill=\"#FEFECE\" height=\"37.9375\" style=\"stroke: #A80036; stroke-width: 1.5;\" width=\"148\" x=\"682\" y=\"64\"/><text fill=\"#000000\" font-family=\"sans-serif\" font-size=\"12\" font-style=\"italic\" lengthAdjust=\"spacingAndGlyphs\" textLength=\"106\" x=\"703\" y=\"80.1387\">«calculation def»</text><text fill=\"#000000\" font-family=\"sans-serif\" font-size=\"12\" lengthAdjust=\"spacingAndGlyphs\" textLength=\"7\" x=\"752.5\" y=\"94.1074\">F</text></a><!--MD5=[b4997ac47864f28c2f74865a473b2911]\n",
       "class E2--><a href=\"psysml:cb02a2ee-bdc8-478c-9636-92278b567e26\" target=\"_top\" title=\"psysml:cb02a2ee-bdc8-478c-9636-92278b567e26\" xlink:actuate=\"onRequest\" xlink:href=\"psysml:cb02a2ee-bdc8-478c-9636-92278b567e26\" xlink:show=\"new\" xlink:title=\"psysml:cb02a2ee-bdc8-478c-9636-92278b567e26\" xlink:type=\"simple\"><rect fill=\"#FEFECE\" filter=\"url(#f18866qv0f7xrq)\" height=\"71.5469\" id=\"E2\" style=\"stroke: #A80036; stroke-width: 1.5;\" width=\"121\" x=\"524.5\" y=\"147\"/><ellipse cx=\"539.5\" cy=\"165.9688\" fill=\"#A52A2A\" rx=\"11\" ry=\"11\" style=\"stroke: #A80036; stroke-width: 1.0;\"/><path d=\"M539.0938,161.7813 L539.0938,169.7656 L539.75,169.7656 Q541.1875,169.7656 541.7969,168.8594 Q542.4219,167.9375 542.4219,165.7656 Q542.4219,163.5938 541.7969,162.6875 Q541.1875,161.7813 539.75,161.7813 L539.0938,161.7813 Z M536.6406,159.5781 L539.2656,159.5781 Q542.2969,159.5781 543.625,161.0313 Q544.9688,162.4688 544.9688,165.7656 Q544.9688,169.0625 543.625,170.5156 Q542.2969,171.9688 539.2656,171.9688 L536.6406,171.9688 L536.6406,159.5781 Z \"/><text fill=\"#000000\" font-family=\"sans-serif\" font-size=\"12\" font-style=\"italic\" lengthAdjust=\"spacingAndGlyphs\" textLength=\"93\" x=\"551.5\" y=\"163.1387\">«attribute def»</text><text fill=\"#000000\" font-family=\"sans-serif\" font-size=\"12\" lengthAdjust=\"spacingAndGlyphs\" textLength=\"8\" x=\"594\" y=\"177.1074\">A</text><line style=\"stroke: #A80036; stroke-width: 1.5;\" x1=\"525.5\" x2=\"644.5\" y1=\"184.9375\" y2=\"184.9375\"/><text fill=\"#000000\" font-family=\"sans-serif\" font-size=\"11\" lengthAdjust=\"spacingAndGlyphs\" textLength=\"48\" x=\"530.5\" y=\"199.1479\">x: String</text><text fill=\"#000000\" font-family=\"sans-serif\" font-size=\"11\" lengthAdjust=\"spacingAndGlyphs\" textLength=\"21\" x=\"530.5\" y=\"211.9526\">y: A</text></a><!--MD5=[09b614a08d8cba4a07c9adeb5e0fee81]\n",
       "class E3--><a href=\"psysml:50ebccda-29a4-4ea8-943d-69f99c07f732\" target=\"_top\" title=\"psysml:50ebccda-29a4-4ea8-943d-69f99c07f732\" xlink:actuate=\"onRequest\" xlink:href=\"psysml:50ebccda-29a4-4ea8-943d-69f99c07f732\" xlink:show=\"new\" xlink:title=\"psysml:50ebccda-29a4-4ea8-943d-69f99c07f732\" xlink:type=\"simple\"><rect fill=\"#FEFECE\" filter=\"url(#f18866qv0f7xrq)\" height=\"45.9375\" id=\"E3\" rx=\"10\" ry=\"10\" style=\"stroke: #A80036; stroke-width: 1.5;\" width=\"97\" x=\"559.5\" y=\"41\"/><ellipse cx=\"574.5\" cy=\"59.9688\" fill=\"#FFA500\" rx=\"11\" ry=\"11\" style=\"stroke: #A80036; stroke-width: 1.0;\"/><path d=\"M570.375,61.8906 L570.375,54.0781 L572.8281,54.0781 L572.8281,62.5156 Q572.8281,63.4375 573.2969,63.9688 Q573.7813,64.5 574.6094,64.5 Q575.4531,64.5 575.9219,63.9688 Q576.3906,63.4375 576.3906,62.5156 L576.3906,54.0781 L578.8438,54.0781 L578.8438,61.8906 Q578.8438,64.4219 577.8438,65.5625 Q576.8438,66.7031 574.6094,66.7031 Q572.3906,66.7031 571.375,65.5625 Q570.375,64.4219 570.375,61.8906 Z \"/><text fill=\"#000000\" font-family=\"sans-serif\" font-size=\"12\" font-style=\"italic\" lengthAdjust=\"spacingAndGlyphs\" textLength=\"69\" x=\"586.5\" y=\"57.1387\">«attribute»</text><text fill=\"#000000\" font-family=\"sans-serif\" font-size=\"12\" lengthAdjust=\"spacingAndGlyphs\" textLength=\"24\" x=\"609\" y=\"71.1074\">a: A</text><line style=\"stroke: #A80036; stroke-width: 1.5;\" x1=\"560.5\" x2=\"655.5\" y1=\"78.9375\" y2=\"78.9375\"/></a><!--MD5=[2156ba9850f5573cc1fc38a6a4b2f02b]\n",
       "class E7--><a href=\"psysml:a5af055b-f2ee-4ef1-a486-dc312f464f3e\" target=\"_top\" title=\"psysml:a5af055b-f2ee-4ef1-a486-dc312f464f3e\" xlink:actuate=\"onRequest\" xlink:href=\"psysml:a5af055b-f2ee-4ef1-a486-dc312f464f3e\" xlink:show=\"new\" xlink:title=\"psysml:a5af055b-f2ee-4ef1-a486-dc312f464f3e\" xlink:type=\"simple\"><rect fill=\"#FEFECE\" filter=\"url(#f18866qv0f7xrq)\" height=\"45.9375\" id=\"E7\" rx=\"10\" ry=\"10\" style=\"stroke: #A80036; stroke-width: 1.5;\" width=\"97\" x=\"427.5\" y=\"41\"/><ellipse cx=\"442.5\" cy=\"59.9688\" fill=\"#FFA500\" rx=\"11\" ry=\"11\" style=\"stroke: #A80036; stroke-width: 1.0;\"/><path d=\"M438.375,61.8906 L438.375,54.0781 L440.8281,54.0781 L440.8281,62.5156 Q440.8281,63.4375 441.2969,63.9688 Q441.7813,64.5 442.6094,64.5 Q443.4531,64.5 443.9219,63.9688 Q444.3906,63.4375 444.3906,62.5156 L444.3906,54.0781 L446.8438,54.0781 L446.8438,61.8906 Q446.8438,64.4219 445.8438,65.5625 Q444.8438,66.7031 442.6094,66.7031 Q440.3906,66.7031 439.375,65.5625 Q438.375,64.4219 438.375,61.8906 Z \"/><text fill=\"#000000\" font-family=\"sans-serif\" font-size=\"12\" font-style=\"italic\" lengthAdjust=\"spacingAndGlyphs\" textLength=\"69\" x=\"454.5\" y=\"57.1387\">«attribute»</text><text fill=\"#000000\" font-family=\"sans-serif\" font-size=\"12\" lengthAdjust=\"spacingAndGlyphs\" textLength=\"4\" x=\"487\" y=\"71.1074\">f</text><line style=\"stroke: #A80036; stroke-width: 1.5;\" x1=\"428.5\" x2=\"523.5\" y1=\"78.9375\" y2=\"78.9375\"/></a><!--MD5=[b9389687b975829384b498ac4b7476b2]\n",
       "class E8--><a href=\"psysml:63113e1f-55f0-4199-b954-2673a0b317ed\" target=\"_top\" title=\"psysml:63113e1f-55f0-4199-b954-2673a0b317ed\" xlink:actuate=\"onRequest\" xlink:href=\"psysml:63113e1f-55f0-4199-b954-2673a0b317ed\" xlink:show=\"new\" xlink:title=\"psysml:63113e1f-55f0-4199-b954-2673a0b317ed\" xlink:type=\"simple\"><rect fill=\"#FEFECE\" filter=\"url(#f18866qv0f7xrq)\" height=\"45.9375\" id=\"E8\" rx=\"10\" ry=\"10\" style=\"stroke: #A80036; stroke-width: 1.5;\" width=\"97\" x=\"295.5\" y=\"41\"/><ellipse cx=\"310.5\" cy=\"59.9688\" fill=\"#FFA500\" rx=\"11\" ry=\"11\" style=\"stroke: #A80036; stroke-width: 1.0;\"/><path d=\"M306.375,61.8906 L306.375,54.0781 L308.8281,54.0781 L308.8281,62.5156 Q308.8281,63.4375 309.2969,63.9688 Q309.7813,64.5 310.6094,64.5 Q311.4531,64.5 311.9219,63.9688 Q312.3906,63.4375 312.3906,62.5156 L312.3906,54.0781 L314.8438,54.0781 L314.8438,61.8906 Q314.8438,64.4219 313.8438,65.5625 Q312.8438,66.7031 310.6094,66.7031 Q308.3906,66.7031 307.375,65.5625 Q306.375,64.4219 306.375,61.8906 Z \"/><text fill=\"#000000\" font-family=\"sans-serif\" font-size=\"12\" font-style=\"italic\" lengthAdjust=\"spacingAndGlyphs\" textLength=\"69\" x=\"322.5\" y=\"57.1387\">«attribute»</text><text fill=\"#000000\" font-family=\"sans-serif\" font-size=\"12\" lengthAdjust=\"spacingAndGlyphs\" textLength=\"8\" x=\"353\" y=\"71.1074\">g</text><line style=\"stroke: #A80036; stroke-width: 1.5;\" x1=\"296.5\" x2=\"391.5\" y1=\"78.9375\" y2=\"78.9375\"/></a><!--MD5=[fd4143e9d270a159db93a4ea2a975926]\n",
       "class E9--><a href=\"psysml:537e328f-e5cc-426a-9b09-8cf3e436744c\" target=\"_top\" title=\"psysml:537e328f-e5cc-426a-9b09-8cf3e436744c\" xlink:actuate=\"onRequest\" xlink:href=\"psysml:537e328f-e5cc-426a-9b09-8cf3e436744c\" xlink:show=\"new\" xlink:title=\"psysml:537e328f-e5cc-426a-9b09-8cf3e436744c\" xlink:type=\"simple\"><rect fill=\"#FEFECE\" filter=\"url(#f18866qv0f7xrq)\" height=\"45.9375\" id=\"E9\" rx=\"10\" ry=\"10\" style=\"stroke: #A80036; stroke-width: 1.5;\" width=\"97\" x=\"163.5\" y=\"41\"/><ellipse cx=\"178.5\" cy=\"59.9688\" fill=\"#FFA500\" rx=\"11\" ry=\"11\" style=\"stroke: #A80036; stroke-width: 1.0;\"/><path d=\"M174.375,61.8906 L174.375,54.0781 L176.8281,54.0781 L176.8281,62.5156 Q176.8281,63.4375 177.2969,63.9688 Q177.7813,64.5 178.6094,64.5 Q179.4531,64.5 179.9219,63.9688 Q180.3906,63.4375 180.3906,62.5156 L180.3906,54.0781 L182.8438,54.0781 L182.8438,61.8906 Q182.8438,64.4219 181.8438,65.5625 Q180.8438,66.7031 178.6094,66.7031 Q176.3906,66.7031 175.375,65.5625 Q174.375,64.4219 174.375,61.8906 Z \"/><text fill=\"#000000\" font-family=\"sans-serif\" font-size=\"12\" font-style=\"italic\" lengthAdjust=\"spacingAndGlyphs\" textLength=\"69\" x=\"190.5\" y=\"57.1387\">«attribute»</text><text fill=\"#000000\" font-family=\"sans-serif\" font-size=\"12\" lengthAdjust=\"spacingAndGlyphs\" textLength=\"8\" x=\"221\" y=\"71.1074\">b</text><line style=\"stroke: #A80036; stroke-width: 1.5;\" x1=\"164.5\" x2=\"259.5\" y1=\"78.9375\" y2=\"78.9375\"/></a><!--MD5=[96f4274e9e20536e775497830990834d]\n",
       "class E10--><a href=\"psysml:2b35c468-a57b-4dfd-a90f-3e1de4d6204b\" target=\"_top\" title=\"psysml:2b35c468-a57b-4dfd-a90f-3e1de4d6204b\" xlink:actuate=\"onRequest\" xlink:href=\"psysml:2b35c468-a57b-4dfd-a90f-3e1de4d6204b\" xlink:show=\"new\" xlink:title=\"psysml:2b35c468-a57b-4dfd-a90f-3e1de4d6204b\" xlink:type=\"simple\"><rect fill=\"#FEFECE\" filter=\"url(#f18866qv0f7xrq)\" height=\"45.9375\" id=\"E10\" rx=\"10\" ry=\"10\" style=\"stroke: #A80036; stroke-width: 1.5;\" width=\"97\" x=\"31.5\" y=\"41\"/><ellipse cx=\"46.5\" cy=\"59.9688\" fill=\"#FFA500\" rx=\"11\" ry=\"11\" style=\"stroke: #A80036; stroke-width: 1.0;\"/><path d=\"M42.375,61.8906 L42.375,54.0781 L44.8281,54.0781 L44.8281,62.5156 Q44.8281,63.4375 45.2969,63.9688 Q45.7813,64.5 46.6094,64.5 Q47.4531,64.5 47.9219,63.9688 Q48.3906,63.4375 48.3906,62.5156 L48.3906,54.0781 L50.8438,54.0781 L50.8438,61.8906 Q50.8438,64.4219 49.8438,65.5625 Q48.8438,66.7031 46.6094,66.7031 Q44.3906,66.7031 43.375,65.5625 Q42.375,64.4219 42.375,61.8906 Z \"/><text fill=\"#000000\" font-family=\"sans-serif\" font-size=\"12\" font-style=\"italic\" lengthAdjust=\"spacingAndGlyphs\" textLength=\"69\" x=\"58.5\" y=\"57.1387\">«attribute»</text><text fill=\"#000000\" font-family=\"sans-serif\" font-size=\"12\" lengthAdjust=\"spacingAndGlyphs\" textLength=\"7\" x=\"89.5\" y=\"71.1074\">c</text><line style=\"stroke: #A80036; stroke-width: 1.5;\" x1=\"32.5\" x2=\"127.5\" y1=\"78.9375\" y2=\"78.9375\"/></a><text fill=\"#000000\" font-family=\"sans-serif\" font-size=\"14\" lengthAdjust=\"spacingAndGlyphs\" textLength=\"9\" x=\"695.5\" y=\"42.6982\">p</text><rect fill=\"#A80036\" height=\"12\" style=\"stroke: #FEFECE; stroke-width: 1.5;\" width=\"12\" x=\"694\" y=\"58\"/><text fill=\"#000000\" font-family=\"sans-serif\" font-size=\"14\" lengthAdjust=\"spacingAndGlyphs\" textLength=\"9\" x=\"742.5\" y=\"42.6982\">q</text><rect fill=\"#A80036\" height=\"12\" style=\"stroke: #FEFECE; stroke-width: 1.5;\" width=\"12\" x=\"741\" y=\"58\"/><!--MD5=[05d275557350bfb9b23a4ef7222b4c39]\n",
       "link E3 to E2--><a href=\"psysml:50b306d4-0f13-410b-aa85-567dae9acdd8\" target=\"_top\" title=\"psysml:50b306d4-0f13-410b-aa85-567dae9acdd8\" xlink:actuate=\"onRequest\" xlink:href=\"psysml:50b306d4-0f13-410b-aa85-567dae9acdd8\" xlink:show=\"new\" xlink:title=\"psysml:50b306d4-0f13-410b-aa85-567dae9acdd8\" xlink:type=\"simple\"><path d=\"M603.67,87.01 C601.45,98.3 598.64,112.62 595.87,126.7 \" fill=\"none\" id=\"E3-&gt;E2\" style=\"stroke: #A80036; stroke-width: 1.0;\"/><polygon fill=\"#FFFFFF\" points=\"591.93,146.75,588.7277,126.7564,602.4646,129.4577,591.93,146.75\" style=\"stroke: #A80036; stroke-width: 1.0;\"/><ellipse cx=\"591.7899\" cy=\"121.5494\" fill=\"#A80036\" rx=\"2\" ry=\"2\" style=\"stroke: #A80036; stroke-width: 1.0;\"/><ellipse cx=\"601.602\" cy=\"123.4789\" fill=\"#A80036\" rx=\"2\" ry=\"2\" style=\"stroke: #A80036; stroke-width: 1.0;\"/></a><!--MD5=[f26d81fbc2fc5699839166cd0cb430c5]\n",
       "@startuml\r\n",
       " \r\n",
       "package \"ParameterTest\" as E1  [[psysml:c7000c50-df42-41d3-9ba9-36eed14db093 ]]  {\r\n",
       "comp def \"A\" as E2  <<(D,brown)attribute def>> [[psysml:cb02a2ee-bdc8-478c-9636-92278b567e26 ]] {\r\n",
       "x: String\r\n",
       "y: A\r\n",
       "}\r\n",
       "comp usage \"a: A\" as E3  <<(U,orange)attribute>> [[psysml:50ebccda-29a4-4ea8-943d-69f99c07f732 ]] {\r\n",
       "}\r\n",
       "rec def \"F\" as E4  <<(D,brown)calculation def>> [[psysml:31ea6359-c2ac-42c4-9008-615ad8ad058c ]] {\r\n",
       "portin \"p\" as E5  [[psysml:c5b3d96c-9fe7-4ab4-b771-6776a88b0ad4 ]] \r\n",
       "portin \"q\" as E6  [[psysml:66adf659-8704-40ab-88b3-19d2477512b1 ]] \r\n",
       "}\r\n",
       "\r\n",
       "comp usage \"f\" as E7  <<(U,orange)attribute>> [[psysml:a5af055b-f2ee-4ef1-a486-dc312f464f3e ]] {\r\n",
       "}\r\n",
       "comp usage \"g\" as E8  <<(U,orange)attribute>> [[psysml:63113e1f-55f0-4199-b954-2673a0b317ed ]] {\r\n",
       "}\r\n",
       "comp usage \"b\" as E9  <<(U,orange)attribute>> [[psysml:537e328f-e5cc-426a-9b09-8cf3e436744c ]] {\r\n",
       "}\r\n",
       "comp usage \"c\" as E10  <<(U,orange)attribute>> [[psysml:2b35c468-a57b-4dfd-a90f-3e1de4d6204b ]] {\r\n",
       "}\r\n",
       "E3 - -:|> E2 [[psysml:50b306d4-0f13-410b-aa85-567dae9acdd8 ]] \r\n",
       "}\r\n",
       "@enduml\r\n",
       "\n",
       "PlantUML version 1.2020.13(Sat Jun 13 12:26:38 UTC 2020)\n",
       "(EPL source distribution)\n",
       "Java Runtime: OpenJDK Runtime Environment\n",
       "JVM: OpenJDK 64-Bit Server VM\n",
       "Default Encoding: UTF-8\n",
       "Language: en\n",
       "Country: null\n",
       "--></g></svg>"
      ]
     },
     "execution_count": 30,
     "metadata": {},
     "output_type": "execute_result"
    }
   ],
   "source": [
    "%viz --style=\"PLANTUML\" --view=\"Default\" \"ParameterTest\""
   ]
  },
  {
   "cell_type": "code",
   "execution_count": 31,
   "id": "turkish-appointment",
   "metadata": {
    "execution": {
     "iopub.execute_input": "2021-03-25T15:03:14.974324Z",
     "iopub.status.busy": "2021-03-25T15:03:14.973658Z",
     "iopub.status.idle": "2021-03-25T15:03:15.133440Z",
     "shell.execute_reply": "2021-03-25T15:03:15.131460Z"
    }
   },
   "outputs": [
    {
     "data": {
      "image/svg+xml": [
       "<?xml version=\"1.0\" encoding=\"UTF-8\" standalone=\"no\"?><svg xmlns=\"http://www.w3.org/2000/svg\" xmlns:xlink=\"http://www.w3.org/1999/xlink\" contentScriptType=\"application/ecmascript\" contentStyleType=\"text/css\" height=\"264px\" preserveAspectRatio=\"none\" style=\"width:864px;height:264px;\" version=\"1.1\" viewBox=\"0 0 864 264\" width=\"864px\" zoomAndPan=\"magnify\"><defs><filter height=\"300%\" id=\"f1e4o563ihlppa\" width=\"300%\" x=\"-1\" y=\"-1\"><feGaussianBlur result=\"blurOut\" stdDeviation=\"2.0\"/><feColorMatrix in=\"blurOut\" result=\"blurOut2\" type=\"matrix\" values=\"0 0 0 0 0 0 0 0 0 0 0 0 0 0 0 0 0 0 .4 0\"/><feOffset dx=\"4.0\" dy=\"4.0\" in=\"blurOut2\" result=\"blurOut3\"/><feBlend in=\"SourceGraphic\" in2=\"blurOut3\" mode=\"normal\"/></filter></defs><g><!--MD5=[fbc87193dbaf4d95561dea2c320d4a47]\n",
       "cluster E1--><a href=\"psysml:c7000c50-df42-41d3-9ba9-36eed14db093\" target=\"_top\" title=\"psysml:c7000c50-df42-41d3-9ba9-36eed14db093\" xlink:actuate=\"onRequest\" xlink:href=\"psysml:c7000c50-df42-41d3-9ba9-36eed14db093\" xlink:show=\"new\" xlink:title=\"psysml:c7000c50-df42-41d3-9ba9-36eed14db093\" xlink:type=\"simple\"><polygon fill=\"#FFFFFF\" filter=\"url(#f1e4o563ihlppa)\" points=\"16,6,139,6,146,28.2969,842,28.2969,842,252,16,252,16,6\" style=\"stroke: #000000; stroke-width: 1.5;\"/><line style=\"stroke: #000000; stroke-width: 1.5;\" x1=\"16\" x2=\"146\" y1=\"28.2969\" y2=\"28.2969\"/><text fill=\"#000000\" font-family=\"sans-serif\" font-size=\"14\" font-weight=\"bold\" lengthAdjust=\"spacingAndGlyphs\" textLength=\"117\" x=\"20\" y=\"20.9951\">ParameterTest</text></a><!--MD5=[b4997ac47864f28c2f74865a473b2911]\n",
       "class E2--><a href=\"psysml:cb02a2ee-bdc8-478c-9636-92278b567e26\" target=\"_top\" title=\"psysml:cb02a2ee-bdc8-478c-9636-92278b567e26\" xlink:actuate=\"onRequest\" xlink:href=\"psysml:cb02a2ee-bdc8-478c-9636-92278b567e26\" xlink:show=\"new\" xlink:title=\"psysml:cb02a2ee-bdc8-478c-9636-92278b567e26\" xlink:type=\"simple\"><rect fill=\"#FEFECE\" filter=\"url(#f1e4o563ihlppa)\" height=\"71.5469\" id=\"E2\" style=\"stroke: #A80036; stroke-width: 1.5;\" width=\"121\" x=\"642.5\" y=\"164\"/><ellipse cx=\"657.5\" cy=\"182.9688\" fill=\"#A52A2A\" rx=\"11\" ry=\"11\" style=\"stroke: #A80036; stroke-width: 1.0;\"/><path d=\"M657.0938,178.7813 L657.0938,186.7656 L657.75,186.7656 Q659.1875,186.7656 659.7969,185.8594 Q660.4219,184.9375 660.4219,182.7656 Q660.4219,180.5938 659.7969,179.6875 Q659.1875,178.7813 657.75,178.7813 L657.0938,178.7813 Z M654.6406,176.5781 L657.2656,176.5781 Q660.2969,176.5781 661.625,178.0313 Q662.9688,179.4688 662.9688,182.7656 Q662.9688,186.0625 661.625,187.5156 Q660.2969,188.9688 657.2656,188.9688 L654.6406,188.9688 L654.6406,176.5781 Z \"/><text fill=\"#000000\" font-family=\"sans-serif\" font-size=\"12\" font-style=\"italic\" lengthAdjust=\"spacingAndGlyphs\" textLength=\"93\" x=\"669.5\" y=\"180.1387\">«attribute def»</text><text fill=\"#000000\" font-family=\"sans-serif\" font-size=\"12\" lengthAdjust=\"spacingAndGlyphs\" textLength=\"8\" x=\"712\" y=\"194.1074\">A</text><line style=\"stroke: #A80036; stroke-width: 1.5;\" x1=\"643.5\" x2=\"762.5\" y1=\"201.9375\" y2=\"201.9375\"/><text fill=\"#000000\" font-family=\"sans-serif\" font-size=\"11\" lengthAdjust=\"spacingAndGlyphs\" textLength=\"48\" x=\"648.5\" y=\"216.1479\">x: String</text><text fill=\"#000000\" font-family=\"sans-serif\" font-size=\"11\" lengthAdjust=\"spacingAndGlyphs\" textLength=\"21\" x=\"648.5\" y=\"228.9526\">y: A</text></a><!--MD5=[09b614a08d8cba4a07c9adeb5e0fee81]\n",
       "class E3--><a href=\"psysml:50ebccda-29a4-4ea8-943d-69f99c07f732\" target=\"_top\" title=\"psysml:50ebccda-29a4-4ea8-943d-69f99c07f732\" xlink:actuate=\"onRequest\" xlink:href=\"psysml:50ebccda-29a4-4ea8-943d-69f99c07f732\" xlink:show=\"new\" xlink:title=\"psysml:50ebccda-29a4-4ea8-943d-69f99c07f732\" xlink:type=\"simple\"><rect fill=\"#FEFECE\" filter=\"url(#f1e4o563ihlppa)\" height=\"45.9375\" id=\"E3\" rx=\"10\" ry=\"10\" style=\"stroke: #A80036; stroke-width: 1.5;\" width=\"97\" x=\"729.5\" y=\"41\"/><ellipse cx=\"744.5\" cy=\"59.9688\" fill=\"#FFA500\" rx=\"11\" ry=\"11\" style=\"stroke: #A80036; stroke-width: 1.0;\"/><path d=\"M740.375,61.8906 L740.375,54.0781 L742.8281,54.0781 L742.8281,62.5156 Q742.8281,63.4375 743.2969,63.9688 Q743.7813,64.5 744.6094,64.5 Q745.4531,64.5 745.9219,63.9688 Q746.3906,63.4375 746.3906,62.5156 L746.3906,54.0781 L748.8438,54.0781 L748.8438,61.8906 Q748.8438,64.4219 747.8438,65.5625 Q746.8438,66.7031 744.6094,66.7031 Q742.3906,66.7031 741.375,65.5625 Q740.375,64.4219 740.375,61.8906 Z \"/><text fill=\"#000000\" font-family=\"sans-serif\" font-size=\"12\" font-style=\"italic\" lengthAdjust=\"spacingAndGlyphs\" textLength=\"69\" x=\"756.5\" y=\"57.1387\">«attribute»</text><text fill=\"#000000\" font-family=\"sans-serif\" font-size=\"12\" lengthAdjust=\"spacingAndGlyphs\" textLength=\"24\" x=\"779\" y=\"71.1074\">a: A</text><line style=\"stroke: #A80036; stroke-width: 1.5;\" x1=\"730.5\" x2=\"825.5\" y1=\"78.9375\" y2=\"78.9375\"/></a><!--MD5=[ebbe1d658d1005bcc118a6aa81145e00]\n",
       "class E4--><a href=\"psysml:31ea6359-c2ac-42c4-9008-615ad8ad058c\" target=\"_top\" title=\"psysml:31ea6359-c2ac-42c4-9008-615ad8ad058c\" xlink:actuate=\"onRequest\" xlink:href=\"psysml:31ea6359-c2ac-42c4-9008-615ad8ad058c\" xlink:show=\"new\" xlink:title=\"psysml:31ea6359-c2ac-42c4-9008-615ad8ad058c\" xlink:type=\"simple\"><rect fill=\"#FEFECE\" filter=\"url(#f1e4o563ihlppa)\" height=\"45.9375\" id=\"E4\" style=\"stroke: #A80036; stroke-width: 1.5;\" width=\"134\" x=\"560\" y=\"41\"/><ellipse cx=\"575\" cy=\"59.9688\" fill=\"#A52A2A\" rx=\"11\" ry=\"11\" style=\"stroke: #A80036; stroke-width: 1.0;\"/><path d=\"M574.5938,55.7813 L574.5938,63.7656 L575.25,63.7656 Q576.6875,63.7656 577.2969,62.8594 Q577.9219,61.9375 577.9219,59.7656 Q577.9219,57.5938 577.2969,56.6875 Q576.6875,55.7813 575.25,55.7813 L574.5938,55.7813 Z M572.1406,53.5781 L574.7656,53.5781 Q577.7969,53.5781 579.125,55.0313 Q580.4688,56.4688 580.4688,59.7656 Q580.4688,63.0625 579.125,64.5156 Q577.7969,65.9688 574.7656,65.9688 L572.1406,65.9688 L572.1406,53.5781 Z \"/><text fill=\"#000000\" font-family=\"sans-serif\" font-size=\"12\" font-style=\"italic\" lengthAdjust=\"spacingAndGlyphs\" textLength=\"106\" x=\"587\" y=\"57.1387\">«calculation def»</text><text fill=\"#000000\" font-family=\"sans-serif\" font-size=\"12\" lengthAdjust=\"spacingAndGlyphs\" textLength=\"7\" x=\"636.5\" y=\"71.1074\">F</text><line style=\"stroke: #A80036; stroke-width: 1.5;\" x1=\"561\" x2=\"693\" y1=\"78.9375\" y2=\"78.9375\"/></a><!--MD5=[270fce915f116d4de14055a7c1d9a0f3]\n",
       "class E5--><a href=\"psysml:a5af055b-f2ee-4ef1-a486-dc312f464f3e\" target=\"_top\" title=\"psysml:a5af055b-f2ee-4ef1-a486-dc312f464f3e\" xlink:actuate=\"onRequest\" xlink:href=\"psysml:a5af055b-f2ee-4ef1-a486-dc312f464f3e\" xlink:show=\"new\" xlink:title=\"psysml:a5af055b-f2ee-4ef1-a486-dc312f464f3e\" xlink:type=\"simple\"><rect fill=\"#FEFECE\" filter=\"url(#f1e4o563ihlppa)\" height=\"45.9375\" id=\"E5\" rx=\"10\" ry=\"10\" style=\"stroke: #A80036; stroke-width: 1.5;\" width=\"97\" x=\"427.5\" y=\"41\"/><ellipse cx=\"442.5\" cy=\"59.9688\" fill=\"#FFA500\" rx=\"11\" ry=\"11\" style=\"stroke: #A80036; stroke-width: 1.0;\"/><path d=\"M438.375,61.8906 L438.375,54.0781 L440.8281,54.0781 L440.8281,62.5156 Q440.8281,63.4375 441.2969,63.9688 Q441.7813,64.5 442.6094,64.5 Q443.4531,64.5 443.9219,63.9688 Q444.3906,63.4375 444.3906,62.5156 L444.3906,54.0781 L446.8438,54.0781 L446.8438,61.8906 Q446.8438,64.4219 445.8438,65.5625 Q444.8438,66.7031 442.6094,66.7031 Q440.3906,66.7031 439.375,65.5625 Q438.375,64.4219 438.375,61.8906 Z \"/><text fill=\"#000000\" font-family=\"sans-serif\" font-size=\"12\" font-style=\"italic\" lengthAdjust=\"spacingAndGlyphs\" textLength=\"69\" x=\"454.5\" y=\"57.1387\">«attribute»</text><text fill=\"#000000\" font-family=\"sans-serif\" font-size=\"12\" lengthAdjust=\"spacingAndGlyphs\" textLength=\"4\" x=\"487\" y=\"71.1074\">f</text><line style=\"stroke: #A80036; stroke-width: 1.5;\" x1=\"428.5\" x2=\"523.5\" y1=\"78.9375\" y2=\"78.9375\"/></a><!--MD5=[60a26617385b1d2d0262a64233df1f8d]\n",
       "class E6--><a href=\"psysml:63113e1f-55f0-4199-b954-2673a0b317ed\" target=\"_top\" title=\"psysml:63113e1f-55f0-4199-b954-2673a0b317ed\" xlink:actuate=\"onRequest\" xlink:href=\"psysml:63113e1f-55f0-4199-b954-2673a0b317ed\" xlink:show=\"new\" xlink:title=\"psysml:63113e1f-55f0-4199-b954-2673a0b317ed\" xlink:type=\"simple\"><rect fill=\"#FEFECE\" filter=\"url(#f1e4o563ihlppa)\" height=\"45.9375\" id=\"E6\" rx=\"10\" ry=\"10\" style=\"stroke: #A80036; stroke-width: 1.5;\" width=\"97\" x=\"295.5\" y=\"41\"/><ellipse cx=\"310.5\" cy=\"59.9688\" fill=\"#FFA500\" rx=\"11\" ry=\"11\" style=\"stroke: #A80036; stroke-width: 1.0;\"/><path d=\"M306.375,61.8906 L306.375,54.0781 L308.8281,54.0781 L308.8281,62.5156 Q308.8281,63.4375 309.2969,63.9688 Q309.7813,64.5 310.6094,64.5 Q311.4531,64.5 311.9219,63.9688 Q312.3906,63.4375 312.3906,62.5156 L312.3906,54.0781 L314.8438,54.0781 L314.8438,61.8906 Q314.8438,64.4219 313.8438,65.5625 Q312.8438,66.7031 310.6094,66.7031 Q308.3906,66.7031 307.375,65.5625 Q306.375,64.4219 306.375,61.8906 Z \"/><text fill=\"#000000\" font-family=\"sans-serif\" font-size=\"12\" font-style=\"italic\" lengthAdjust=\"spacingAndGlyphs\" textLength=\"69\" x=\"322.5\" y=\"57.1387\">«attribute»</text><text fill=\"#000000\" font-family=\"sans-serif\" font-size=\"12\" lengthAdjust=\"spacingAndGlyphs\" textLength=\"8\" x=\"353\" y=\"71.1074\">g</text><line style=\"stroke: #A80036; stroke-width: 1.5;\" x1=\"296.5\" x2=\"391.5\" y1=\"78.9375\" y2=\"78.9375\"/></a><!--MD5=[2156ba9850f5573cc1fc38a6a4b2f02b]\n",
       "class E7--><a href=\"psysml:537e328f-e5cc-426a-9b09-8cf3e436744c\" target=\"_top\" title=\"psysml:537e328f-e5cc-426a-9b09-8cf3e436744c\" xlink:actuate=\"onRequest\" xlink:href=\"psysml:537e328f-e5cc-426a-9b09-8cf3e436744c\" xlink:show=\"new\" xlink:title=\"psysml:537e328f-e5cc-426a-9b09-8cf3e436744c\" xlink:type=\"simple\"><rect fill=\"#FEFECE\" filter=\"url(#f1e4o563ihlppa)\" height=\"45.9375\" id=\"E7\" rx=\"10\" ry=\"10\" style=\"stroke: #A80036; stroke-width: 1.5;\" width=\"97\" x=\"163.5\" y=\"41\"/><ellipse cx=\"178.5\" cy=\"59.9688\" fill=\"#FFA500\" rx=\"11\" ry=\"11\" style=\"stroke: #A80036; stroke-width: 1.0;\"/><path d=\"M174.375,61.8906 L174.375,54.0781 L176.8281,54.0781 L176.8281,62.5156 Q176.8281,63.4375 177.2969,63.9688 Q177.7813,64.5 178.6094,64.5 Q179.4531,64.5 179.9219,63.9688 Q180.3906,63.4375 180.3906,62.5156 L180.3906,54.0781 L182.8438,54.0781 L182.8438,61.8906 Q182.8438,64.4219 181.8438,65.5625 Q180.8438,66.7031 178.6094,66.7031 Q176.3906,66.7031 175.375,65.5625 Q174.375,64.4219 174.375,61.8906 Z \"/><text fill=\"#000000\" font-family=\"sans-serif\" font-size=\"12\" font-style=\"italic\" lengthAdjust=\"spacingAndGlyphs\" textLength=\"69\" x=\"190.5\" y=\"57.1387\">«attribute»</text><text fill=\"#000000\" font-family=\"sans-serif\" font-size=\"12\" lengthAdjust=\"spacingAndGlyphs\" textLength=\"8\" x=\"221\" y=\"71.1074\">b</text><line style=\"stroke: #A80036; stroke-width: 1.5;\" x1=\"164.5\" x2=\"259.5\" y1=\"78.9375\" y2=\"78.9375\"/></a><!--MD5=[b9389687b975829384b498ac4b7476b2]\n",
       "class E8--><a href=\"psysml:2b35c468-a57b-4dfd-a90f-3e1de4d6204b\" target=\"_top\" title=\"psysml:2b35c468-a57b-4dfd-a90f-3e1de4d6204b\" xlink:actuate=\"onRequest\" xlink:href=\"psysml:2b35c468-a57b-4dfd-a90f-3e1de4d6204b\" xlink:show=\"new\" xlink:title=\"psysml:2b35c468-a57b-4dfd-a90f-3e1de4d6204b\" xlink:type=\"simple\"><rect fill=\"#FEFECE\" filter=\"url(#f1e4o563ihlppa)\" height=\"45.9375\" id=\"E8\" rx=\"10\" ry=\"10\" style=\"stroke: #A80036; stroke-width: 1.5;\" width=\"97\" x=\"31.5\" y=\"41\"/><ellipse cx=\"46.5\" cy=\"59.9688\" fill=\"#FFA500\" rx=\"11\" ry=\"11\" style=\"stroke: #A80036; stroke-width: 1.0;\"/><path d=\"M42.375,61.8906 L42.375,54.0781 L44.8281,54.0781 L44.8281,62.5156 Q44.8281,63.4375 45.2969,63.9688 Q45.7813,64.5 46.6094,64.5 Q47.4531,64.5 47.9219,63.9688 Q48.3906,63.4375 48.3906,62.5156 L48.3906,54.0781 L50.8438,54.0781 L50.8438,61.8906 Q50.8438,64.4219 49.8438,65.5625 Q48.8438,66.7031 46.6094,66.7031 Q44.3906,66.7031 43.375,65.5625 Q42.375,64.4219 42.375,61.8906 Z \"/><text fill=\"#000000\" font-family=\"sans-serif\" font-size=\"12\" font-style=\"italic\" lengthAdjust=\"spacingAndGlyphs\" textLength=\"69\" x=\"58.5\" y=\"57.1387\">«attribute»</text><text fill=\"#000000\" font-family=\"sans-serif\" font-size=\"12\" lengthAdjust=\"spacingAndGlyphs\" textLength=\"7\" x=\"89.5\" y=\"71.1074\">c</text><line style=\"stroke: #A80036; stroke-width: 1.5;\" x1=\"32.5\" x2=\"127.5\" y1=\"78.9375\" y2=\"78.9375\"/></a><!--MD5=[05d275557350bfb9b23a4ef7222b4c39]\n",
       "link E3 to E2--><a href=\"psysml:50b306d4-0f13-410b-aa85-567dae9acdd8\" target=\"_top\" title=\"psysml:50b306d4-0f13-410b-aa85-567dae9acdd8\" xlink:actuate=\"onRequest\" xlink:href=\"psysml:50b306d4-0f13-410b-aa85-567dae9acdd8\" xlink:show=\"new\" xlink:title=\"psysml:50b306d4-0f13-410b-aa85-567dae9acdd8\" xlink:type=\"simple\"><path d=\"M765.62,87.13 C756.62,103.2 744.05,125.65 732.54,146.23 \" fill=\"none\" id=\"E3-&gt;E2\" style=\"stroke: #A80036; stroke-width: 1.0;\"/><polygon fill=\"#FFFFFF\" points=\"722.6,163.99,725.7664,143.9907,737.9848,150.8253,722.6,163.99\" style=\"stroke: #A80036; stroke-width: 1.0;\"/><ellipse cx=\"730.2946\" cy=\"139.9924\" fill=\"#A80036\" rx=\"2\" ry=\"2\" style=\"stroke: #A80036; stroke-width: 1.0;\"/><ellipse cx=\"739.022\" cy=\"144.8743\" fill=\"#A80036\" rx=\"2\" ry=\"2\" style=\"stroke: #A80036; stroke-width: 1.0;\"/></a><!--MD5=[ddeed8deb2209213b62e6cfabaa108b2]\n",
       "reverse link E4 to E2--><a href=\"psysml:c5b3d96c-9fe7-4ab4-b771-6776a88b0ad4\" target=\"_top\" title=\"psysml:c5b3d96c-9fe7-4ab4-b771-6776a88b0ad4\" xlink:actuate=\"onRequest\" xlink:href=\"psysml:c5b3d96c-9fe7-4ab4-b771-6776a88b0ad4\" xlink:show=\"new\" xlink:title=\"psysml:c5b3d96c-9fe7-4ab4-b771-6776a88b0ad4\" xlink:type=\"simple\"><path d=\"M645.99,98.48 C657.31,118.44 671.67,143.76 683.14,163.99 \" fill=\"none\" id=\"E4&lt;-E2\" style=\"stroke: #A80036; stroke-width: 1.0;\"/><polygon fill=\"#FFFFFF\" points=\"639.55,87.13,639.0333,94.3226,645.4738,97.5659,645.9905,90.3734,639.55,87.13\" style=\"stroke: #A80036; stroke-width: 1.0;\"/><text fill=\"#000000\" font-family=\"sans-serif\" font-size=\"13\" lengthAdjust=\"spacingAndGlyphs\" textLength=\"8\" x=\"666\" y=\"130.0669\">p</text></a><!--MD5=[3f1e04a044f73205304ab96b388571a0]\n",
       "@startuml\r\n",
       " \r\n",
       "package \"ParameterTest\" as E1  [[psysml:c7000c50-df42-41d3-9ba9-36eed14db093 ]]  {\r\n",
       "comp def \"A\" as E2  <<(D,brown)attribute def>> [[psysml:cb02a2ee-bdc8-478c-9636-92278b567e26 ]] {\r\n",
       "x: String\r\n",
       "y: A\r\n",
       "}\r\n",
       "comp usage \"a: A\" as E3  <<(U,orange)attribute>> [[psysml:50ebccda-29a4-4ea8-943d-69f99c07f732 ]] {\r\n",
       "}\r\n",
       "comp def \"F\" as E4  <<(D,brown)calculation def>> [[psysml:31ea6359-c2ac-42c4-9008-615ad8ad058c ]] {\r\n",
       "}\r\n",
       "comp usage \"f\" as E5  <<(U,orange)attribute>> [[psysml:a5af055b-f2ee-4ef1-a486-dc312f464f3e ]] {\r\n",
       "}\r\n",
       "comp usage \"g\" as E6  <<(U,orange)attribute>> [[psysml:63113e1f-55f0-4199-b954-2673a0b317ed ]] {\r\n",
       "}\r\n",
       "comp usage \"b\" as E7  <<(U,orange)attribute>> [[psysml:537e328f-e5cc-426a-9b09-8cf3e436744c ]] {\r\n",
       "}\r\n",
       "comp usage \"c\" as E8  <<(U,orange)attribute>> [[psysml:2b35c468-a57b-4dfd-a90f-3e1de4d6204b ]] {\r\n",
       "}\r\n",
       "E3 - -:|> E2 [[psysml:50b306d4-0f13-410b-aa85-567dae9acdd8 ]] \r\n",
       "E4 o- - E2 [[psysml:c5b3d96c-9fe7-4ab4-b771-6776a88b0ad4 ]] : p\r\n",
       "}\r\n",
       "@enduml\r\n",
       "\n",
       "PlantUML version 1.2020.13(Sat Jun 13 12:26:38 UTC 2020)\n",
       "(EPL source distribution)\n",
       "Java Runtime: OpenJDK Runtime Environment\n",
       "JVM: OpenJDK 64-Bit Server VM\n",
       "Default Encoding: UTF-8\n",
       "Language: en\n",
       "Country: null\n",
       "--></g></svg>"
      ]
     },
     "execution_count": 31,
     "metadata": {},
     "output_type": "execute_result"
    }
   ],
   "source": [
    "%viz --style=\"PLANTUML\" --view=\"Tree\" \"ParameterTest\""
   ]
  },
  {
   "cell_type": "code",
   "execution_count": 32,
   "id": "warming-blood",
   "metadata": {
    "execution": {
     "iopub.execute_input": "2021-03-25T15:03:15.183526Z",
     "iopub.status.busy": "2021-03-25T15:03:15.183035Z",
     "iopub.status.idle": "2021-03-25T15:03:16.029645Z",
     "shell.execute_reply": "2021-03-25T15:03:16.028337Z"
    }
   },
   "outputs": [
    {
     "data": {
      "image/svg+xml": [
       "<?xml version=\"1.0\" encoding=\"UTF-8\" standalone=\"no\"?><svg xmlns=\"http://www.w3.org/2000/svg\" xmlns:xlink=\"http://www.w3.org/1999/xlink\" contentScriptType=\"application/ecmascript\" contentStyleType=\"text/css\" height=\"303px\" preserveAspectRatio=\"none\" style=\"width:603px;height:303px;background:#000000;\" version=\"1.1\" viewBox=\"0 0 603 303\" width=\"603px\" zoomAndPan=\"magnify\"><defs/><g><rect fill=\"#0C1703\" height=\"1\" style=\"stroke: #0C1703; stroke-width: 1.0;\" width=\"1\" x=\"0\" y=\"0\"/><rect fill=\"#FFFFFF\" height=\"205.5625\" style=\"stroke: #FFFFFF; stroke-width: 1.0;\" width=\"602\" x=\"0\" y=\"0\"/><text fill=\"#000000\" font-family=\"sans-serif\" font-size=\"12\" font-weight=\"bold\" lengthAdjust=\"spacingAndGlyphs\" textLength=\"159\" x=\"5\" y=\"16.1387\">Welcome to PlantUML!</text><text fill=\"#000000\" font-family=\"sans-serif\" font-size=\"12\" lengthAdjust=\"spacingAndGlyphs\" textLength=\"0\" x=\"9\" y=\"30.1074\"/><text fill=\"#000000\" font-family=\"sans-serif\" font-size=\"12\" lengthAdjust=\"spacingAndGlyphs\" textLength=\"293\" x=\"5\" y=\"44.0762\">If you use this software, you accept its license.</text><text fill=\"#000000\" font-family=\"sans-serif\" font-size=\"12\" lengthAdjust=\"spacingAndGlyphs\" textLength=\"107\" x=\"5\" y=\"58.0449\">(details by typing</text><text fill=\"#000000\" font-family=\"monospace\" font-size=\"12\" lengthAdjust=\"spacingAndGlyphs\" textLength=\"49\" x=\"116\" y=\"58.0449\">license</text><text fill=\"#000000\" font-family=\"sans-serif\" font-size=\"12\" lengthAdjust=\"spacingAndGlyphs\" textLength=\"56\" x=\"169\" y=\"58.0449\">keyword)</text><text fill=\"#000000\" font-family=\"sans-serif\" font-size=\"12\" lengthAdjust=\"spacingAndGlyphs\" textLength=\"0\" x=\"9\" y=\"72.0137\"/><text fill=\"#000000\" font-family=\"sans-serif\" font-size=\"12\" lengthAdjust=\"spacingAndGlyphs\" textLength=\"283\" x=\"5\" y=\"85.9824\">You can start with a simple UML Diagram like:</text><text fill=\"#000000\" font-family=\"sans-serif\" font-size=\"12\" lengthAdjust=\"spacingAndGlyphs\" textLength=\"0\" x=\"9\" y=\"99.9512\"/><text fill=\"#000000\" font-family=\"monospace\" font-size=\"12\" lengthAdjust=\"spacingAndGlyphs\" textLength=\"119\" x=\"5\" y=\"113.9199\">Bob-&gt;Alice: Hello</text><text fill=\"#000000\" font-family=\"sans-serif\" font-size=\"12\" lengthAdjust=\"spacingAndGlyphs\" textLength=\"0\" x=\"9\" y=\"127.8887\"/><text fill=\"#000000\" font-family=\"sans-serif\" font-size=\"12\" lengthAdjust=\"spacingAndGlyphs\" textLength=\"14\" x=\"5\" y=\"141.8574\">Or</text><text fill=\"#000000\" font-family=\"sans-serif\" font-size=\"12\" lengthAdjust=\"spacingAndGlyphs\" textLength=\"0\" x=\"9\" y=\"155.8262\"/><text fill=\"#000000\" font-family=\"monospace\" font-size=\"12\" lengthAdjust=\"spacingAndGlyphs\" textLength=\"91\" x=\"5\" y=\"169.7949\">class Example</text><text fill=\"#000000\" font-family=\"sans-serif\" font-size=\"12\" lengthAdjust=\"spacingAndGlyphs\" textLength=\"0\" x=\"9\" y=\"183.7637\"/><text fill=\"#000000\" font-family=\"sans-serif\" font-size=\"12\" lengthAdjust=\"spacingAndGlyphs\" textLength=\"349\" x=\"5\" y=\"197.7324\">You will find more information about PlantUML syntax on</text><text fill=\"#000000\" font-family=\"sans-serif\" font-size=\"12\" lengthAdjust=\"spacingAndGlyphs\" text-decoration=\"underline\" textLength=\"129\" x=\"358\" y=\"197.7324\">https://plantuml.com</text><image height=\"71\" width=\"80\" x=\"516\" xlink:href=\"data:image/png;base64,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\" y=\"6\"/><rect fill=\"#000000\" height=\"96.4844\" style=\"stroke: #000000; stroke-width: 1.0;\" width=\"602\" x=\"0\" y=\"205.5625\"/><rect fill=\"#33FF02\" height=\"21.2969\" style=\"stroke: #33FF02; stroke-width: 1.0;\" width=\"170\" x=\"5\" y=\"210.5625\"/><text fill=\"#000000\" font-family=\"sans-serif\" font-size=\"14\" font-weight=\"bold\" lengthAdjust=\"spacingAndGlyphs\" textLength=\"168\" x=\"6\" y=\"225.5625\">[From string (line 2) ]</text><text fill=\"#33FF02\" font-family=\"sans-serif\" font-size=\"14\" font-weight=\"bold\" lengthAdjust=\"spacingAndGlyphs\" textLength=\"0\" x=\"10\" y=\"245.8594\"/><text fill=\"#33FF02\" font-family=\"sans-serif\" font-size=\"14\" font-weight=\"bold\" lengthAdjust=\"spacingAndGlyphs\" textLength=\"79\" x=\"5\" y=\"262.1563\">@startuml</text><text fill=\"#33FF02\" font-family=\"sans-serif\" font-size=\"14\" font-weight=\"bold\" lengthAdjust=\"spacingAndGlyphs\" textLength=\"0\" x=\"10\" y=\"278.4531\"/><text fill=\"#FF0000\" font-family=\"sans-serif\" font-size=\"14\" font-weight=\"bold\" lengthAdjust=\"spacingAndGlyphs\" textLength=\"142\" x=\"10\" y=\"294.75\">Empty description</text><!--MD5=[f59edd8218d337f74d0c332fc6737304]\n",
       "@startuml\r\n",
       " \r\n",
       "@enduml\r\n",
       "\n",
       "PlantUML version 1.2020.13(Sat Jun 13 12:26:38 UTC 2020)\n",
       "(EPL source distribution)\n",
       "Java Runtime: OpenJDK Runtime Environment\n",
       "JVM: OpenJDK 64-Bit Server VM\n",
       "Default Encoding: UTF-8\n",
       "Language: en\n",
       "Country: null\n",
       "--></g></svg>"
      ]
     },
     "execution_count": 32,
     "metadata": {},
     "output_type": "execute_result"
    }
   ],
   "source": [
    "%viz --style=\"PLANTUML\" --view=\"State\" \"ParameterTest\""
   ]
  },
  {
   "cell_type": "code",
   "execution_count": 33,
   "id": "romantic-breath",
   "metadata": {
    "execution": {
     "iopub.execute_input": "2021-03-25T15:03:16.080597Z",
     "iopub.status.busy": "2021-03-25T15:03:16.080207Z",
     "iopub.status.idle": "2021-03-25T15:03:16.183223Z",
     "shell.execute_reply": "2021-03-25T15:03:16.181609Z"
    }
   },
   "outputs": [
    {
     "data": {
      "image/svg+xml": [
       "<?xml version=\"1.0\" encoding=\"UTF-8\" standalone=\"no\"?><svg xmlns=\"http://www.w3.org/2000/svg\" xmlns:xlink=\"http://www.w3.org/1999/xlink\" contentScriptType=\"application/ecmascript\" contentStyleType=\"text/css\" height=\"123px\" preserveAspectRatio=\"none\" style=\"width:1168px;height:123px;\" version=\"1.1\" viewBox=\"0 0 1168 123\" width=\"1168px\" zoomAndPan=\"magnify\"><defs><filter height=\"300%\" id=\"faqxu0v5eqmtd\" width=\"300%\" x=\"-1\" y=\"-1\"><feGaussianBlur result=\"blurOut\" stdDeviation=\"2.0\"/><feColorMatrix in=\"blurOut\" result=\"blurOut2\" type=\"matrix\" values=\"0 0 0 0 0 0 0 0 0 0 0 0 0 0 0 0 0 0 .4 0\"/><feOffset dx=\"4.0\" dy=\"4.0\" in=\"blurOut2\" result=\"blurOut3\"/><feBlend in=\"SourceGraphic\" in2=\"blurOut3\" mode=\"normal\"/></filter></defs><g><!--MD5=[fbc87193dbaf4d95561dea2c320d4a47]\n",
       "cluster E1--><a href=\"psysml:c7000c50-df42-41d3-9ba9-36eed14db093\" target=\"_top\" title=\"psysml:c7000c50-df42-41d3-9ba9-36eed14db093\" xlink:actuate=\"onRequest\" xlink:href=\"psysml:c7000c50-df42-41d3-9ba9-36eed14db093\" xlink:show=\"new\" xlink:title=\"psysml:c7000c50-df42-41d3-9ba9-36eed14db093\" xlink:type=\"simple\"><polygon fill=\"#FFFFFF\" filter=\"url(#faqxu0v5eqmtd)\" points=\"16,6,139,6,146,28.2969,1146,28.2969,1146,111,16,111,16,6\" style=\"stroke: #000000; stroke-width: 1.5;\"/><line style=\"stroke: #000000; stroke-width: 1.5;\" x1=\"16\" x2=\"146\" y1=\"28.2969\" y2=\"28.2969\"/><text fill=\"#000000\" font-family=\"sans-serif\" font-size=\"14\" font-weight=\"bold\" lengthAdjust=\"spacingAndGlyphs\" textLength=\"117\" x=\"20\" y=\"20.9951\">ParameterTest</text></a><!--MD5=[b4997ac47864f28c2f74865a473b2911]\n",
       "class E2--><a href=\"psysml:cb02a2ee-bdc8-478c-9636-92278b567e26\" target=\"_top\" title=\"psysml:cb02a2ee-bdc8-478c-9636-92278b567e26\" xlink:actuate=\"onRequest\" xlink:href=\"psysml:cb02a2ee-bdc8-478c-9636-92278b567e26\" xlink:show=\"new\" xlink:title=\"psysml:cb02a2ee-bdc8-478c-9636-92278b567e26\" xlink:type=\"simple\"><rect fill=\"#FEFECE\" filter=\"url(#faqxu0v5eqmtd)\" height=\"53.9375\" id=\"E2\" style=\"stroke: #A80036; stroke-width: 1.5;\" width=\"182\" x=\"948\" y=\"41\"/><ellipse cx=\"963\" cy=\"59.9688\" fill=\"#ADD1B2\" rx=\"11\" ry=\"11\" style=\"stroke: #A80036; stroke-width: 1.0;\"/><path d=\"M965.9688,65.6094 Q965.3906,65.9063 964.75,66.0469 Q964.1094,66.2031 963.4063,66.2031 Q960.9063,66.2031 959.5781,64.5625 Q958.2656,62.9063 958.2656,59.7813 Q958.2656,56.6563 959.5781,55 Q960.9063,53.3438 963.4063,53.3438 Q964.1094,53.3438 964.75,53.5 Q965.4063,53.6563 965.9688,53.9531 L965.9688,56.6719 Q965.3438,56.0938 964.75,55.8281 Q964.1563,55.5469 963.5313,55.5469 Q962.1875,55.5469 961.5,56.625 Q960.8125,57.6875 960.8125,59.7813 Q960.8125,61.875 961.5,62.9531 Q962.1875,64.0156 963.5313,64.0156 Q964.1563,64.0156 964.75,63.75 Q965.3438,63.4688 965.9688,62.8906 L965.9688,65.6094 Z \"/><text fill=\"#000000\" font-family=\"sans-serif\" font-size=\"12\" font-style=\"italic\" lengthAdjust=\"spacingAndGlyphs\" textLength=\"154\" x=\"975\" y=\"57.1387\">«(D,brown)attribute def»</text><text fill=\"#000000\" font-family=\"sans-serif\" font-size=\"12\" lengthAdjust=\"spacingAndGlyphs\" textLength=\"8\" x=\"1048\" y=\"71.1074\">A</text><line style=\"stroke: #A80036; stroke-width: 1.5;\" x1=\"949\" x2=\"1129\" y1=\"78.9375\" y2=\"78.9375\"/><line style=\"stroke: #A80036; stroke-width: 1.5;\" x1=\"949\" x2=\"1129\" y1=\"86.9375\" y2=\"86.9375\"/></a><!--MD5=[ebbe1d658d1005bcc118a6aa81145e00]\n",
       "class E4--><a href=\"psysml:31ea6359-c2ac-42c4-9008-615ad8ad058c\" target=\"_top\" title=\"psysml:31ea6359-c2ac-42c4-9008-615ad8ad058c\" xlink:actuate=\"onRequest\" xlink:href=\"psysml:31ea6359-c2ac-42c4-9008-615ad8ad058c\" xlink:show=\"new\" xlink:title=\"psysml:31ea6359-c2ac-42c4-9008-615ad8ad058c\" xlink:type=\"simple\"><rect fill=\"#FEFECE\" filter=\"url(#faqxu0v5eqmtd)\" height=\"53.9375\" id=\"E4\" style=\"stroke: #A80036; stroke-width: 1.5;\" width=\"195\" x=\"717.5\" y=\"41\"/><ellipse cx=\"732.5\" cy=\"59.9688\" fill=\"#ADD1B2\" rx=\"11\" ry=\"11\" style=\"stroke: #A80036; stroke-width: 1.0;\"/><path d=\"M735.4688,65.6094 Q734.8906,65.9063 734.25,66.0469 Q733.6094,66.2031 732.9063,66.2031 Q730.4063,66.2031 729.0781,64.5625 Q727.7656,62.9063 727.7656,59.7813 Q727.7656,56.6563 729.0781,55 Q730.4063,53.3438 732.9063,53.3438 Q733.6094,53.3438 734.25,53.5 Q734.9063,53.6563 735.4688,53.9531 L735.4688,56.6719 Q734.8438,56.0938 734.25,55.8281 Q733.6563,55.5469 733.0313,55.5469 Q731.6875,55.5469 731,56.625 Q730.3125,57.6875 730.3125,59.7813 Q730.3125,61.875 731,62.9531 Q731.6875,64.0156 733.0313,64.0156 Q733.6563,64.0156 734.25,63.75 Q734.8438,63.4688 735.4688,62.8906 L735.4688,65.6094 Z \"/><text fill=\"#000000\" font-family=\"sans-serif\" font-size=\"12\" font-style=\"italic\" lengthAdjust=\"spacingAndGlyphs\" textLength=\"167\" x=\"744.5\" y=\"57.1387\">«(D,brown)calculation def»</text><text fill=\"#000000\" font-family=\"sans-serif\" font-size=\"12\" lengthAdjust=\"spacingAndGlyphs\" textLength=\"7\" x=\"824.5\" y=\"71.1074\">F</text><line style=\"stroke: #A80036; stroke-width: 1.5;\" x1=\"718.5\" x2=\"911.5\" y1=\"78.9375\" y2=\"78.9375\"/><line style=\"stroke: #A80036; stroke-width: 1.5;\" x1=\"718.5\" x2=\"911.5\" y1=\"86.9375\" y2=\"86.9375\"/></a><g id=\"E1.E3\"><a href=\"psysml:50ebccda-29a4-4ea8-943d-69f99c07f732\" target=\"_top\" title=\"psysml:50ebccda-29a4-4ea8-943d-69f99c07f732\" xlink:actuate=\"onRequest\" xlink:href=\"psysml:50ebccda-29a4-4ea8-943d-69f99c07f732\" xlink:show=\"new\" xlink:title=\"psysml:50ebccda-29a4-4ea8-943d-69f99c07f732\" xlink:type=\"simple\"><rect fill=\"#FEFECE\" filter=\"url(#faqxu0v5eqmtd)\" height=\"42.9375\" id=\"E3\" rx=\"10\" ry=\"10\" style=\"stroke: #A80036; stroke-width: 1.5;\" width=\"102\" x=\"580\" y=\"46.5\"/><ellipse cx=\"597.25\" cy=\"65.4688\" fill=\"#FFA500\" rx=\"11\" ry=\"11\" style=\"stroke: #A80036; stroke-width: 1.0;\"/><path d=\"M593.125,67.3906 L593.125,59.5781 L595.5781,59.5781 L595.5781,68.0156 Q595.5781,68.9375 596.0469,69.4688 Q596.5313,70 597.3594,70 Q598.2031,70 598.6719,69.4688 Q599.1406,68.9375 599.1406,68.0156 L599.1406,59.5781 L601.5938,59.5781 L601.5938,67.3906 Q601.5938,69.9219 600.5938,71.0625 Q599.5938,72.2031 597.3594,72.2031 Q595.1406,72.2031 594.125,71.0625 Q593.125,69.9219 593.125,67.3906 Z \"/><text fill=\"#000000\" font-family=\"sans-serif\" font-size=\"12\" font-style=\"italic\" lengthAdjust=\"spacingAndGlyphs\" textLength=\"69\" x=\"609.75\" y=\"62.6387\">«attribute»</text><text fill=\"#000000\" font-family=\"sans-serif\" font-size=\"12\" lengthAdjust=\"spacingAndGlyphs\" textLength=\"24\" x=\"632.25\" y=\"76.6074\">a: A</text></a></g><g id=\"E1.E5\"><a href=\"psysml:a5af055b-f2ee-4ef1-a486-dc312f464f3e\" target=\"_top\" title=\"psysml:a5af055b-f2ee-4ef1-a486-dc312f464f3e\" xlink:actuate=\"onRequest\" xlink:href=\"psysml:a5af055b-f2ee-4ef1-a486-dc312f464f3e\" xlink:show=\"new\" xlink:title=\"psysml:a5af055b-f2ee-4ef1-a486-dc312f464f3e\" xlink:type=\"simple\"><rect fill=\"#FEFECE\" filter=\"url(#faqxu0v5eqmtd)\" height=\"42.9375\" id=\"E5\" rx=\"10\" ry=\"10\" style=\"stroke: #A80036; stroke-width: 1.5;\" width=\"102\" x=\"443\" y=\"46.5\"/><ellipse cx=\"460.25\" cy=\"65.4688\" fill=\"#FFA500\" rx=\"11\" ry=\"11\" style=\"stroke: #A80036; stroke-width: 1.0;\"/><path d=\"M456.125,67.3906 L456.125,59.5781 L458.5781,59.5781 L458.5781,68.0156 Q458.5781,68.9375 459.0469,69.4688 Q459.5313,70 460.3594,70 Q461.2031,70 461.6719,69.4688 Q462.1406,68.9375 462.1406,68.0156 L462.1406,59.5781 L464.5938,59.5781 L464.5938,67.3906 Q464.5938,69.9219 463.5938,71.0625 Q462.5938,72.2031 460.3594,72.2031 Q458.1406,72.2031 457.125,71.0625 Q456.125,69.9219 456.125,67.3906 Z \"/><text fill=\"#000000\" font-family=\"sans-serif\" font-size=\"12\" font-style=\"italic\" lengthAdjust=\"spacingAndGlyphs\" textLength=\"69\" x=\"472.75\" y=\"62.6387\">«attribute»</text><text fill=\"#000000\" font-family=\"sans-serif\" font-size=\"12\" lengthAdjust=\"spacingAndGlyphs\" textLength=\"4\" x=\"505.25\" y=\"76.6074\">f</text></a></g><g id=\"E1.E6\"><a href=\"psysml:63113e1f-55f0-4199-b954-2673a0b317ed\" target=\"_top\" title=\"psysml:63113e1f-55f0-4199-b954-2673a0b317ed\" xlink:actuate=\"onRequest\" xlink:href=\"psysml:63113e1f-55f0-4199-b954-2673a0b317ed\" xlink:show=\"new\" xlink:title=\"psysml:63113e1f-55f0-4199-b954-2673a0b317ed\" xlink:type=\"simple\"><rect fill=\"#FEFECE\" filter=\"url(#faqxu0v5eqmtd)\" height=\"42.9375\" id=\"E6\" rx=\"10\" ry=\"10\" style=\"stroke: #A80036; stroke-width: 1.5;\" width=\"102\" x=\"306\" y=\"46.5\"/><ellipse cx=\"323.25\" cy=\"65.4688\" fill=\"#FFA500\" rx=\"11\" ry=\"11\" style=\"stroke: #A80036; stroke-width: 1.0;\"/><path d=\"M319.125,67.3906 L319.125,59.5781 L321.5781,59.5781 L321.5781,68.0156 Q321.5781,68.9375 322.0469,69.4688 Q322.5313,70 323.3594,70 Q324.2031,70 324.6719,69.4688 Q325.1406,68.9375 325.1406,68.0156 L325.1406,59.5781 L327.5938,59.5781 L327.5938,67.3906 Q327.5938,69.9219 326.5938,71.0625 Q325.5938,72.2031 323.3594,72.2031 Q321.1406,72.2031 320.125,71.0625 Q319.125,69.9219 319.125,67.3906 Z \"/><text fill=\"#000000\" font-family=\"sans-serif\" font-size=\"12\" font-style=\"italic\" lengthAdjust=\"spacingAndGlyphs\" textLength=\"69\" x=\"335.75\" y=\"62.6387\">«attribute»</text><text fill=\"#000000\" font-family=\"sans-serif\" font-size=\"12\" lengthAdjust=\"spacingAndGlyphs\" textLength=\"8\" x=\"366.25\" y=\"76.6074\">g</text></a></g><g id=\"E1.E7\"><a href=\"psysml:537e328f-e5cc-426a-9b09-8cf3e436744c\" target=\"_top\" title=\"psysml:537e328f-e5cc-426a-9b09-8cf3e436744c\" xlink:actuate=\"onRequest\" xlink:href=\"psysml:537e328f-e5cc-426a-9b09-8cf3e436744c\" xlink:show=\"new\" xlink:title=\"psysml:537e328f-e5cc-426a-9b09-8cf3e436744c\" xlink:type=\"simple\"><rect fill=\"#FEFECE\" filter=\"url(#faqxu0v5eqmtd)\" height=\"42.9375\" id=\"E7\" rx=\"10\" ry=\"10\" style=\"stroke: #A80036; stroke-width: 1.5;\" width=\"102\" x=\"169\" y=\"46.5\"/><ellipse cx=\"186.25\" cy=\"65.4688\" fill=\"#FFA500\" rx=\"11\" ry=\"11\" style=\"stroke: #A80036; stroke-width: 1.0;\"/><path d=\"M182.125,67.3906 L182.125,59.5781 L184.5781,59.5781 L184.5781,68.0156 Q184.5781,68.9375 185.0469,69.4688 Q185.5313,70 186.3594,70 Q187.2031,70 187.6719,69.4688 Q188.1406,68.9375 188.1406,68.0156 L188.1406,59.5781 L190.5938,59.5781 L190.5938,67.3906 Q190.5938,69.9219 189.5938,71.0625 Q188.5938,72.2031 186.3594,72.2031 Q184.1406,72.2031 183.125,71.0625 Q182.125,69.9219 182.125,67.3906 Z \"/><text fill=\"#000000\" font-family=\"sans-serif\" font-size=\"12\" font-style=\"italic\" lengthAdjust=\"spacingAndGlyphs\" textLength=\"69\" x=\"198.75\" y=\"62.6387\">«attribute»</text><text fill=\"#000000\" font-family=\"sans-serif\" font-size=\"12\" lengthAdjust=\"spacingAndGlyphs\" textLength=\"8\" x=\"229.25\" y=\"76.6074\">b</text></a></g><g id=\"E1.E8\"><a href=\"psysml:2b35c468-a57b-4dfd-a90f-3e1de4d6204b\" target=\"_top\" title=\"psysml:2b35c468-a57b-4dfd-a90f-3e1de4d6204b\" xlink:actuate=\"onRequest\" xlink:href=\"psysml:2b35c468-a57b-4dfd-a90f-3e1de4d6204b\" xlink:show=\"new\" xlink:title=\"psysml:2b35c468-a57b-4dfd-a90f-3e1de4d6204b\" xlink:type=\"simple\"><rect fill=\"#FEFECE\" filter=\"url(#faqxu0v5eqmtd)\" height=\"42.9375\" id=\"E8\" rx=\"10\" ry=\"10\" style=\"stroke: #A80036; stroke-width: 1.5;\" width=\"102\" x=\"32\" y=\"46.5\"/><ellipse cx=\"49.25\" cy=\"65.4688\" fill=\"#FFA500\" rx=\"11\" ry=\"11\" style=\"stroke: #A80036; stroke-width: 1.0;\"/><path d=\"M45.125,67.3906 L45.125,59.5781 L47.5781,59.5781 L47.5781,68.0156 Q47.5781,68.9375 48.0469,69.4688 Q48.5313,70 49.3594,70 Q50.2031,70 50.6719,69.4688 Q51.1406,68.9375 51.1406,68.0156 L51.1406,59.5781 L53.5938,59.5781 L53.5938,67.3906 Q53.5938,69.9219 52.5938,71.0625 Q51.5938,72.2031 49.3594,72.2031 Q47.1406,72.2031 46.125,71.0625 Q45.125,69.9219 45.125,67.3906 Z \"/><text fill=\"#000000\" font-family=\"sans-serif\" font-size=\"12\" font-style=\"italic\" lengthAdjust=\"spacingAndGlyphs\" textLength=\"69\" x=\"61.75\" y=\"62.6387\">«attribute»</text><text fill=\"#000000\" font-family=\"sans-serif\" font-size=\"12\" lengthAdjust=\"spacingAndGlyphs\" textLength=\"7\" x=\"92.75\" y=\"76.6074\">c</text></a></g><!--MD5=[b919b8e4ccd4007df35ff056088eceeb]\n",
       "@startuml\r\n",
       "skinparam ranksep 8\r\n",
       "skinparam rectangle {\r\n",
       " backgroundColor<<block>> LightGreen\r\n",
       "}\r\n",
       " \r\n",
       "package \"ParameterTest\" as E1  [[psysml:c7000c50-df42-41d3-9ba9-36eed14db093 ]]  {\r\n",
       "def \"A\" as E2  <<(D,brown)attribute def>> [[psysml:cb02a2ee-bdc8-478c-9636-92278b567e26 ]] \r\n",
       "rec usage \"a: A\" as E3  <<(U,orange)attribute>> [[psysml:50ebccda-29a4-4ea8-943d-69f99c07f732 ]] {\r\n",
       "}\r\n",
       "def \"F\" as E4  <<(D,brown)calculation def>> [[psysml:31ea6359-c2ac-42c4-9008-615ad8ad058c ]] \r\n",
       "rec usage \"f\" as E5  <<(U,orange)attribute>> [[psysml:a5af055b-f2ee-4ef1-a486-dc312f464f3e ]] {\r\n",
       "}\r\n",
       "rec usage \"g\" as E6  <<(U,orange)attribute>> [[psysml:63113e1f-55f0-4199-b954-2673a0b317ed ]] {\r\n",
       "}\r\n",
       "rec usage \"b\" as E7  <<(U,orange)attribute>> [[psysml:537e328f-e5cc-426a-9b09-8cf3e436744c ]] {\r\n",
       "}\r\n",
       "rec usage \"c\" as E8  <<(U,orange)attribute>> [[psysml:2b35c468-a57b-4dfd-a90f-3e1de4d6204b ]] {\r\n",
       "}\r\n",
       "}\r\n",
       "@enduml\r\n",
       "\n",
       "PlantUML version 1.2020.13(Sat Jun 13 12:26:38 UTC 2020)\n",
       "(EPL source distribution)\n",
       "Java Runtime: OpenJDK Runtime Environment\n",
       "JVM: OpenJDK 64-Bit Server VM\n",
       "Default Encoding: UTF-8\n",
       "Language: en\n",
       "Country: null\n",
       "--></g></svg>"
      ]
     },
     "execution_count": 33,
     "metadata": {},
     "output_type": "execute_result"
    }
   ],
   "source": [
    "%viz --style=\"PLANTUML\" --view=\"Interconnection\" \"ParameterTest\""
   ]
  },
  {
   "cell_type": "code",
   "execution_count": 34,
   "id": "wanted-america",
   "metadata": {
    "execution": {
     "iopub.execute_input": "2021-03-25T15:03:16.233119Z",
     "iopub.status.busy": "2021-03-25T15:03:16.232671Z",
     "iopub.status.idle": "2021-03-25T15:03:16.289395Z",
     "shell.execute_reply": "2021-03-25T15:03:16.289931Z"
    }
   },
   "outputs": [
    {
     "data": {
      "image/svg+xml": [
       "<?xml version=\"1.0\" encoding=\"UTF-8\" standalone=\"no\"?><svg xmlns=\"http://www.w3.org/2000/svg\" xmlns:xlink=\"http://www.w3.org/1999/xlink\" contentScriptType=\"application/ecmascript\" contentStyleType=\"text/css\" height=\"134px\" preserveAspectRatio=\"none\" style=\"width:174px;height:134px;\" version=\"1.1\" viewBox=\"0 0 174 134\" width=\"174px\" zoomAndPan=\"magnify\"><defs><filter height=\"300%\" id=\"f1lk4t57f0owug\" width=\"300%\" x=\"-1\" y=\"-1\"><feGaussianBlur result=\"blurOut\" stdDeviation=\"2.0\"/><feColorMatrix in=\"blurOut\" result=\"blurOut2\" type=\"matrix\" values=\"0 0 0 0 0 0 0 0 0 0 0 0 0 0 0 0 0 0 .4 0\"/><feOffset dx=\"4.0\" dy=\"4.0\" in=\"blurOut2\" result=\"blurOut3\"/><feBlend in=\"SourceGraphic\" in2=\"blurOut3\" mode=\"normal\"/></filter></defs><g><!--MD5=[fbc87193dbaf4d95561dea2c320d4a47]\n",
       "cluster E1--><a href=\"psysml:31ea6359-c2ac-42c4-9008-615ad8ad058c\" target=\"_top\" title=\"psysml:31ea6359-c2ac-42c4-9008-615ad8ad058c\" xlink:actuate=\"onRequest\" xlink:href=\"psysml:31ea6359-c2ac-42c4-9008-615ad8ad058c\" xlink:show=\"new\" xlink:title=\"psysml:31ea6359-c2ac-42c4-9008-615ad8ad058c\" xlink:type=\"simple\"><rect fill=\"#FFFFFF\" filter=\"url(#f1lk4t57f0owug)\" height=\"73\" id=\"E1\" style=\"stroke: #A80036; stroke-width: 1.5;\" width=\"148\" x=\"7\" y=\"42.0986\"/><rect fill=\"#FEFECE\" height=\"37.9375\" style=\"stroke: #A80036; stroke-width: 1.5;\" width=\"148\" x=\"7\" y=\"42.0986\"/><text fill=\"#000000\" font-family=\"sans-serif\" font-size=\"12\" font-style=\"italic\" lengthAdjust=\"spacingAndGlyphs\" textLength=\"106\" x=\"28\" y=\"58.2373\">«calculation def»</text><text fill=\"#000000\" font-family=\"sans-serif\" font-size=\"12\" lengthAdjust=\"spacingAndGlyphs\" textLength=\"7\" x=\"77.5\" y=\"72.2061\">F</text></a><text fill=\"#000000\" font-family=\"sans-serif\" font-size=\"14\" lengthAdjust=\"spacingAndGlyphs\" textLength=\"9\" x=\"20.5\" y=\"20.7969\">p</text><rect fill=\"#A80036\" height=\"12\" style=\"stroke: #FEFECE; stroke-width: 1.5;\" width=\"12\" x=\"19\" y=\"36.0986\"/><text fill=\"#000000\" font-family=\"sans-serif\" font-size=\"14\" lengthAdjust=\"spacingAndGlyphs\" textLength=\"9\" x=\"67.5\" y=\"20.7969\">q</text><rect fill=\"#A80036\" height=\"12\" style=\"stroke: #FEFECE; stroke-width: 1.5;\" width=\"12\" x=\"66\" y=\"36.0986\"/><!--MD5=[634cdf395442c1c8a2fc05ffbb34b05e]\n",
       "@startuml\r\n",
       "skinparam ranksep 8\r\n",
       " \r\n",
       "rec def \"F\" as E1  <<(D,brown)calculation def>> [[psysml:31ea6359-c2ac-42c4-9008-615ad8ad058c ]] {\r\n",
       "portin \"p\" as E2  [[psysml:c5b3d96c-9fe7-4ab4-b771-6776a88b0ad4 ]] \r\n",
       "portin \"q\" as E3  [[psysml:66adf659-8704-40ab-88b3-19d2477512b1 ]] \r\n",
       "}\r\n",
       "\r\n",
       "@enduml\r\n",
       "\n",
       "PlantUML version 1.2020.13(Sat Jun 13 12:26:38 UTC 2020)\n",
       "(EPL source distribution)\n",
       "Java Runtime: OpenJDK Runtime Environment\n",
       "JVM: OpenJDK 64-Bit Server VM\n",
       "Default Encoding: UTF-8\n",
       "Language: en\n",
       "Country: null\n",
       "--></g></svg>"
      ]
     },
     "execution_count": 34,
     "metadata": {},
     "output_type": "execute_result"
    }
   ],
   "source": [
    "%viz --style=\"PLANTUML\" --view=\"Action\" \"ParameterTest\""
   ]
  },
  {
   "cell_type": "code",
   "execution_count": 35,
   "id": "bacterial-mozambique",
   "metadata": {
    "execution": {
     "iopub.execute_input": "2021-03-25T15:03:16.340934Z",
     "iopub.status.busy": "2021-03-25T15:03:16.339963Z",
     "iopub.status.idle": "2021-03-25T15:03:16.509077Z",
     "shell.execute_reply": "2021-03-25T15:03:16.506265Z"
    }
   },
   "outputs": [
    {
     "data": {
      "image/svg+xml": [
       "<?xml version=\"1.0\" encoding=\"UTF-8\" standalone=\"no\"?><svg xmlns=\"http://www.w3.org/2000/svg\" xmlns:xlink=\"http://www.w3.org/1999/xlink\" contentScriptType=\"application/ecmascript\" contentStyleType=\"text/css\" height=\"264px\" preserveAspectRatio=\"none\" style=\"width:864px;height:264px;\" version=\"1.1\" viewBox=\"0 0 864 264\" width=\"864px\" zoomAndPan=\"magnify\"><defs><filter height=\"300%\" id=\"f1e4o563ihlppa\" width=\"300%\" x=\"-1\" y=\"-1\"><feGaussianBlur result=\"blurOut\" stdDeviation=\"2.0\"/><feColorMatrix in=\"blurOut\" result=\"blurOut2\" type=\"matrix\" values=\"0 0 0 0 0 0 0 0 0 0 0 0 0 0 0 0 0 0 .4 0\"/><feOffset dx=\"4.0\" dy=\"4.0\" in=\"blurOut2\" result=\"blurOut3\"/><feBlend in=\"SourceGraphic\" in2=\"blurOut3\" mode=\"normal\"/></filter></defs><g><!--MD5=[fbc87193dbaf4d95561dea2c320d4a47]\n",
       "cluster E1--><a href=\"psysml:c7000c50-df42-41d3-9ba9-36eed14db093\" target=\"_top\" title=\"psysml:c7000c50-df42-41d3-9ba9-36eed14db093\" xlink:actuate=\"onRequest\" xlink:href=\"psysml:c7000c50-df42-41d3-9ba9-36eed14db093\" xlink:show=\"new\" xlink:title=\"psysml:c7000c50-df42-41d3-9ba9-36eed14db093\" xlink:type=\"simple\"><polygon fill=\"#FFFFFF\" filter=\"url(#f1e4o563ihlppa)\" points=\"16,6,139,6,146,28.2969,842,28.2969,842,252,16,252,16,6\" style=\"stroke: #000000; stroke-width: 1.5;\"/><line style=\"stroke: #000000; stroke-width: 1.5;\" x1=\"16\" x2=\"146\" y1=\"28.2969\" y2=\"28.2969\"/><text fill=\"#000000\" font-family=\"sans-serif\" font-size=\"14\" font-weight=\"bold\" lengthAdjust=\"spacingAndGlyphs\" textLength=\"117\" x=\"20\" y=\"20.9951\">ParameterTest</text></a><!--MD5=[b4997ac47864f28c2f74865a473b2911]\n",
       "class E2--><a href=\"psysml:cb02a2ee-bdc8-478c-9636-92278b567e26\" target=\"_top\" title=\"psysml:cb02a2ee-bdc8-478c-9636-92278b567e26\" xlink:actuate=\"onRequest\" xlink:href=\"psysml:cb02a2ee-bdc8-478c-9636-92278b567e26\" xlink:show=\"new\" xlink:title=\"psysml:cb02a2ee-bdc8-478c-9636-92278b567e26\" xlink:type=\"simple\"><rect fill=\"#FEFECE\" filter=\"url(#f1e4o563ihlppa)\" height=\"71.5469\" id=\"E2\" style=\"stroke: #A80036; stroke-width: 1.5;\" width=\"121\" x=\"642.5\" y=\"164\"/><ellipse cx=\"657.5\" cy=\"182.9688\" fill=\"#A52A2A\" rx=\"11\" ry=\"11\" style=\"stroke: #A80036; stroke-width: 1.0;\"/><path d=\"M657.0938,178.7813 L657.0938,186.7656 L657.75,186.7656 Q659.1875,186.7656 659.7969,185.8594 Q660.4219,184.9375 660.4219,182.7656 Q660.4219,180.5938 659.7969,179.6875 Q659.1875,178.7813 657.75,178.7813 L657.0938,178.7813 Z M654.6406,176.5781 L657.2656,176.5781 Q660.2969,176.5781 661.625,178.0313 Q662.9688,179.4688 662.9688,182.7656 Q662.9688,186.0625 661.625,187.5156 Q660.2969,188.9688 657.2656,188.9688 L654.6406,188.9688 L654.6406,176.5781 Z \"/><text fill=\"#000000\" font-family=\"sans-serif\" font-size=\"12\" font-style=\"italic\" lengthAdjust=\"spacingAndGlyphs\" textLength=\"93\" x=\"669.5\" y=\"180.1387\">«attribute def»</text><text fill=\"#000000\" font-family=\"sans-serif\" font-size=\"12\" lengthAdjust=\"spacingAndGlyphs\" textLength=\"8\" x=\"712\" y=\"194.1074\">A</text><line style=\"stroke: #A80036; stroke-width: 1.5;\" x1=\"643.5\" x2=\"762.5\" y1=\"201.9375\" y2=\"201.9375\"/><text fill=\"#000000\" font-family=\"sans-serif\" font-size=\"11\" lengthAdjust=\"spacingAndGlyphs\" textLength=\"48\" x=\"648.5\" y=\"216.1479\">x: String</text><text fill=\"#000000\" font-family=\"sans-serif\" font-size=\"11\" lengthAdjust=\"spacingAndGlyphs\" textLength=\"21\" x=\"648.5\" y=\"228.9526\">y: A</text></a><!--MD5=[09b614a08d8cba4a07c9adeb5e0fee81]\n",
       "class E3--><a href=\"psysml:50ebccda-29a4-4ea8-943d-69f99c07f732\" target=\"_top\" title=\"psysml:50ebccda-29a4-4ea8-943d-69f99c07f732\" xlink:actuate=\"onRequest\" xlink:href=\"psysml:50ebccda-29a4-4ea8-943d-69f99c07f732\" xlink:show=\"new\" xlink:title=\"psysml:50ebccda-29a4-4ea8-943d-69f99c07f732\" xlink:type=\"simple\"><rect fill=\"#FEFECE\" filter=\"url(#f1e4o563ihlppa)\" height=\"45.9375\" id=\"E3\" rx=\"10\" ry=\"10\" style=\"stroke: #A80036; stroke-width: 1.5;\" width=\"97\" x=\"729.5\" y=\"41\"/><ellipse cx=\"744.5\" cy=\"59.9688\" fill=\"#FFA500\" rx=\"11\" ry=\"11\" style=\"stroke: #A80036; stroke-width: 1.0;\"/><path d=\"M740.375,61.8906 L740.375,54.0781 L742.8281,54.0781 L742.8281,62.5156 Q742.8281,63.4375 743.2969,63.9688 Q743.7813,64.5 744.6094,64.5 Q745.4531,64.5 745.9219,63.9688 Q746.3906,63.4375 746.3906,62.5156 L746.3906,54.0781 L748.8438,54.0781 L748.8438,61.8906 Q748.8438,64.4219 747.8438,65.5625 Q746.8438,66.7031 744.6094,66.7031 Q742.3906,66.7031 741.375,65.5625 Q740.375,64.4219 740.375,61.8906 Z \"/><text fill=\"#000000\" font-family=\"sans-serif\" font-size=\"12\" font-style=\"italic\" lengthAdjust=\"spacingAndGlyphs\" textLength=\"69\" x=\"756.5\" y=\"57.1387\">«attribute»</text><text fill=\"#000000\" font-family=\"sans-serif\" font-size=\"12\" lengthAdjust=\"spacingAndGlyphs\" textLength=\"24\" x=\"779\" y=\"71.1074\">a: A</text><line style=\"stroke: #A80036; stroke-width: 1.5;\" x1=\"730.5\" x2=\"825.5\" y1=\"78.9375\" y2=\"78.9375\"/></a><!--MD5=[ebbe1d658d1005bcc118a6aa81145e00]\n",
       "class E4--><a href=\"psysml:31ea6359-c2ac-42c4-9008-615ad8ad058c\" target=\"_top\" title=\"psysml:31ea6359-c2ac-42c4-9008-615ad8ad058c\" xlink:actuate=\"onRequest\" xlink:href=\"psysml:31ea6359-c2ac-42c4-9008-615ad8ad058c\" xlink:show=\"new\" xlink:title=\"psysml:31ea6359-c2ac-42c4-9008-615ad8ad058c\" xlink:type=\"simple\"><rect fill=\"#FEFECE\" filter=\"url(#f1e4o563ihlppa)\" height=\"45.9375\" id=\"E4\" style=\"stroke: #A80036; stroke-width: 1.5;\" width=\"134\" x=\"560\" y=\"41\"/><ellipse cx=\"575\" cy=\"59.9688\" fill=\"#A52A2A\" rx=\"11\" ry=\"11\" style=\"stroke: #A80036; stroke-width: 1.0;\"/><path d=\"M574.5938,55.7813 L574.5938,63.7656 L575.25,63.7656 Q576.6875,63.7656 577.2969,62.8594 Q577.9219,61.9375 577.9219,59.7656 Q577.9219,57.5938 577.2969,56.6875 Q576.6875,55.7813 575.25,55.7813 L574.5938,55.7813 Z M572.1406,53.5781 L574.7656,53.5781 Q577.7969,53.5781 579.125,55.0313 Q580.4688,56.4688 580.4688,59.7656 Q580.4688,63.0625 579.125,64.5156 Q577.7969,65.9688 574.7656,65.9688 L572.1406,65.9688 L572.1406,53.5781 Z \"/><text fill=\"#000000\" font-family=\"sans-serif\" font-size=\"12\" font-style=\"italic\" lengthAdjust=\"spacingAndGlyphs\" textLength=\"106\" x=\"587\" y=\"57.1387\">«calculation def»</text><text fill=\"#000000\" font-family=\"sans-serif\" font-size=\"12\" lengthAdjust=\"spacingAndGlyphs\" textLength=\"7\" x=\"636.5\" y=\"71.1074\">F</text><line style=\"stroke: #A80036; stroke-width: 1.5;\" x1=\"561\" x2=\"693\" y1=\"78.9375\" y2=\"78.9375\"/></a><!--MD5=[270fce915f116d4de14055a7c1d9a0f3]\n",
       "class E5--><a href=\"psysml:a5af055b-f2ee-4ef1-a486-dc312f464f3e\" target=\"_top\" title=\"psysml:a5af055b-f2ee-4ef1-a486-dc312f464f3e\" xlink:actuate=\"onRequest\" xlink:href=\"psysml:a5af055b-f2ee-4ef1-a486-dc312f464f3e\" xlink:show=\"new\" xlink:title=\"psysml:a5af055b-f2ee-4ef1-a486-dc312f464f3e\" xlink:type=\"simple\"><rect fill=\"#FEFECE\" filter=\"url(#f1e4o563ihlppa)\" height=\"45.9375\" id=\"E5\" rx=\"10\" ry=\"10\" style=\"stroke: #A80036; stroke-width: 1.5;\" width=\"97\" x=\"427.5\" y=\"41\"/><ellipse cx=\"442.5\" cy=\"59.9688\" fill=\"#FFA500\" rx=\"11\" ry=\"11\" style=\"stroke: #A80036; stroke-width: 1.0;\"/><path d=\"M438.375,61.8906 L438.375,54.0781 L440.8281,54.0781 L440.8281,62.5156 Q440.8281,63.4375 441.2969,63.9688 Q441.7813,64.5 442.6094,64.5 Q443.4531,64.5 443.9219,63.9688 Q444.3906,63.4375 444.3906,62.5156 L444.3906,54.0781 L446.8438,54.0781 L446.8438,61.8906 Q446.8438,64.4219 445.8438,65.5625 Q444.8438,66.7031 442.6094,66.7031 Q440.3906,66.7031 439.375,65.5625 Q438.375,64.4219 438.375,61.8906 Z \"/><text fill=\"#000000\" font-family=\"sans-serif\" font-size=\"12\" font-style=\"italic\" lengthAdjust=\"spacingAndGlyphs\" textLength=\"69\" x=\"454.5\" y=\"57.1387\">«attribute»</text><text fill=\"#000000\" font-family=\"sans-serif\" font-size=\"12\" lengthAdjust=\"spacingAndGlyphs\" textLength=\"4\" x=\"487\" y=\"71.1074\">f</text><line style=\"stroke: #A80036; stroke-width: 1.5;\" x1=\"428.5\" x2=\"523.5\" y1=\"78.9375\" y2=\"78.9375\"/></a><!--MD5=[60a26617385b1d2d0262a64233df1f8d]\n",
       "class E6--><a href=\"psysml:63113e1f-55f0-4199-b954-2673a0b317ed\" target=\"_top\" title=\"psysml:63113e1f-55f0-4199-b954-2673a0b317ed\" xlink:actuate=\"onRequest\" xlink:href=\"psysml:63113e1f-55f0-4199-b954-2673a0b317ed\" xlink:show=\"new\" xlink:title=\"psysml:63113e1f-55f0-4199-b954-2673a0b317ed\" xlink:type=\"simple\"><rect fill=\"#FEFECE\" filter=\"url(#f1e4o563ihlppa)\" height=\"45.9375\" id=\"E6\" rx=\"10\" ry=\"10\" style=\"stroke: #A80036; stroke-width: 1.5;\" width=\"97\" x=\"295.5\" y=\"41\"/><ellipse cx=\"310.5\" cy=\"59.9688\" fill=\"#FFA500\" rx=\"11\" ry=\"11\" style=\"stroke: #A80036; stroke-width: 1.0;\"/><path d=\"M306.375,61.8906 L306.375,54.0781 L308.8281,54.0781 L308.8281,62.5156 Q308.8281,63.4375 309.2969,63.9688 Q309.7813,64.5 310.6094,64.5 Q311.4531,64.5 311.9219,63.9688 Q312.3906,63.4375 312.3906,62.5156 L312.3906,54.0781 L314.8438,54.0781 L314.8438,61.8906 Q314.8438,64.4219 313.8438,65.5625 Q312.8438,66.7031 310.6094,66.7031 Q308.3906,66.7031 307.375,65.5625 Q306.375,64.4219 306.375,61.8906 Z \"/><text fill=\"#000000\" font-family=\"sans-serif\" font-size=\"12\" font-style=\"italic\" lengthAdjust=\"spacingAndGlyphs\" textLength=\"69\" x=\"322.5\" y=\"57.1387\">«attribute»</text><text fill=\"#000000\" font-family=\"sans-serif\" font-size=\"12\" lengthAdjust=\"spacingAndGlyphs\" textLength=\"8\" x=\"353\" y=\"71.1074\">g</text><line style=\"stroke: #A80036; stroke-width: 1.5;\" x1=\"296.5\" x2=\"391.5\" y1=\"78.9375\" y2=\"78.9375\"/></a><!--MD5=[2156ba9850f5573cc1fc38a6a4b2f02b]\n",
       "class E7--><a href=\"psysml:537e328f-e5cc-426a-9b09-8cf3e436744c\" target=\"_top\" title=\"psysml:537e328f-e5cc-426a-9b09-8cf3e436744c\" xlink:actuate=\"onRequest\" xlink:href=\"psysml:537e328f-e5cc-426a-9b09-8cf3e436744c\" xlink:show=\"new\" xlink:title=\"psysml:537e328f-e5cc-426a-9b09-8cf3e436744c\" xlink:type=\"simple\"><rect fill=\"#FEFECE\" filter=\"url(#f1e4o563ihlppa)\" height=\"45.9375\" id=\"E7\" rx=\"10\" ry=\"10\" style=\"stroke: #A80036; stroke-width: 1.5;\" width=\"97\" x=\"163.5\" y=\"41\"/><ellipse cx=\"178.5\" cy=\"59.9688\" fill=\"#FFA500\" rx=\"11\" ry=\"11\" style=\"stroke: #A80036; stroke-width: 1.0;\"/><path d=\"M174.375,61.8906 L174.375,54.0781 L176.8281,54.0781 L176.8281,62.5156 Q176.8281,63.4375 177.2969,63.9688 Q177.7813,64.5 178.6094,64.5 Q179.4531,64.5 179.9219,63.9688 Q180.3906,63.4375 180.3906,62.5156 L180.3906,54.0781 L182.8438,54.0781 L182.8438,61.8906 Q182.8438,64.4219 181.8438,65.5625 Q180.8438,66.7031 178.6094,66.7031 Q176.3906,66.7031 175.375,65.5625 Q174.375,64.4219 174.375,61.8906 Z \"/><text fill=\"#000000\" font-family=\"sans-serif\" font-size=\"12\" font-style=\"italic\" lengthAdjust=\"spacingAndGlyphs\" textLength=\"69\" x=\"190.5\" y=\"57.1387\">«attribute»</text><text fill=\"#000000\" font-family=\"sans-serif\" font-size=\"12\" lengthAdjust=\"spacingAndGlyphs\" textLength=\"8\" x=\"221\" y=\"71.1074\">b</text><line style=\"stroke: #A80036; stroke-width: 1.5;\" x1=\"164.5\" x2=\"259.5\" y1=\"78.9375\" y2=\"78.9375\"/></a><!--MD5=[b9389687b975829384b498ac4b7476b2]\n",
       "class E8--><a href=\"psysml:2b35c468-a57b-4dfd-a90f-3e1de4d6204b\" target=\"_top\" title=\"psysml:2b35c468-a57b-4dfd-a90f-3e1de4d6204b\" xlink:actuate=\"onRequest\" xlink:href=\"psysml:2b35c468-a57b-4dfd-a90f-3e1de4d6204b\" xlink:show=\"new\" xlink:title=\"psysml:2b35c468-a57b-4dfd-a90f-3e1de4d6204b\" xlink:type=\"simple\"><rect fill=\"#FEFECE\" filter=\"url(#f1e4o563ihlppa)\" height=\"45.9375\" id=\"E8\" rx=\"10\" ry=\"10\" style=\"stroke: #A80036; stroke-width: 1.5;\" width=\"97\" x=\"31.5\" y=\"41\"/><ellipse cx=\"46.5\" cy=\"59.9688\" fill=\"#FFA500\" rx=\"11\" ry=\"11\" style=\"stroke: #A80036; stroke-width: 1.0;\"/><path d=\"M42.375,61.8906 L42.375,54.0781 L44.8281,54.0781 L44.8281,62.5156 Q44.8281,63.4375 45.2969,63.9688 Q45.7813,64.5 46.6094,64.5 Q47.4531,64.5 47.9219,63.9688 Q48.3906,63.4375 48.3906,62.5156 L48.3906,54.0781 L50.8438,54.0781 L50.8438,61.8906 Q50.8438,64.4219 49.8438,65.5625 Q48.8438,66.7031 46.6094,66.7031 Q44.3906,66.7031 43.375,65.5625 Q42.375,64.4219 42.375,61.8906 Z \"/><text fill=\"#000000\" font-family=\"sans-serif\" font-size=\"12\" font-style=\"italic\" lengthAdjust=\"spacingAndGlyphs\" textLength=\"69\" x=\"58.5\" y=\"57.1387\">«attribute»</text><text fill=\"#000000\" font-family=\"sans-serif\" font-size=\"12\" lengthAdjust=\"spacingAndGlyphs\" textLength=\"7\" x=\"89.5\" y=\"71.1074\">c</text><line style=\"stroke: #A80036; stroke-width: 1.5;\" x1=\"32.5\" x2=\"127.5\" y1=\"78.9375\" y2=\"78.9375\"/></a><!--MD5=[05d275557350bfb9b23a4ef7222b4c39]\n",
       "link E3 to E2--><a href=\"psysml:50b306d4-0f13-410b-aa85-567dae9acdd8\" target=\"_top\" title=\"psysml:50b306d4-0f13-410b-aa85-567dae9acdd8\" xlink:actuate=\"onRequest\" xlink:href=\"psysml:50b306d4-0f13-410b-aa85-567dae9acdd8\" xlink:show=\"new\" xlink:title=\"psysml:50b306d4-0f13-410b-aa85-567dae9acdd8\" xlink:type=\"simple\"><path d=\"M765.62,87.13 C756.62,103.2 744.05,125.65 732.54,146.23 \" fill=\"none\" id=\"E3-&gt;E2\" style=\"stroke: #A80036; stroke-width: 1.0;\"/><polygon fill=\"#FFFFFF\" points=\"722.6,163.99,725.7664,143.9907,737.9848,150.8253,722.6,163.99\" style=\"stroke: #A80036; stroke-width: 1.0;\"/><ellipse cx=\"730.2946\" cy=\"139.9924\" fill=\"#A80036\" rx=\"2\" ry=\"2\" style=\"stroke: #A80036; stroke-width: 1.0;\"/><ellipse cx=\"739.022\" cy=\"144.8743\" fill=\"#A80036\" rx=\"2\" ry=\"2\" style=\"stroke: #A80036; stroke-width: 1.0;\"/></a><!--MD5=[ddeed8deb2209213b62e6cfabaa108b2]\n",
       "reverse link E4 to E2--><a href=\"psysml:c5b3d96c-9fe7-4ab4-b771-6776a88b0ad4\" target=\"_top\" title=\"psysml:c5b3d96c-9fe7-4ab4-b771-6776a88b0ad4\" xlink:actuate=\"onRequest\" xlink:href=\"psysml:c5b3d96c-9fe7-4ab4-b771-6776a88b0ad4\" xlink:show=\"new\" xlink:title=\"psysml:c5b3d96c-9fe7-4ab4-b771-6776a88b0ad4\" xlink:type=\"simple\"><path d=\"M645.99,98.48 C657.31,118.44 671.67,143.76 683.14,163.99 \" fill=\"none\" id=\"E4&lt;-E2\" style=\"stroke: #A80036; stroke-width: 1.0;\"/><polygon fill=\"#FFFFFF\" points=\"639.55,87.13,639.0333,94.3226,645.4738,97.5659,645.9905,90.3734,639.55,87.13\" style=\"stroke: #A80036; stroke-width: 1.0;\"/><text fill=\"#000000\" font-family=\"sans-serif\" font-size=\"13\" lengthAdjust=\"spacingAndGlyphs\" textLength=\"8\" x=\"666\" y=\"130.0669\">p</text></a><!--MD5=[3f1e04a044f73205304ab96b388571a0]\n",
       "@startuml\r\n",
       " \r\n",
       "package \"ParameterTest\" as E1  [[psysml:c7000c50-df42-41d3-9ba9-36eed14db093 ]]  {\r\n",
       "comp def \"A\" as E2  <<(D,brown)attribute def>> [[psysml:cb02a2ee-bdc8-478c-9636-92278b567e26 ]] {\r\n",
       "x: String\r\n",
       "y: A\r\n",
       "}\r\n",
       "comp usage \"a: A\" as E3  <<(U,orange)attribute>> [[psysml:50ebccda-29a4-4ea8-943d-69f99c07f732 ]] {\r\n",
       "}\r\n",
       "comp def \"F\" as E4  <<(D,brown)calculation def>> [[psysml:31ea6359-c2ac-42c4-9008-615ad8ad058c ]] {\r\n",
       "}\r\n",
       "comp usage \"f\" as E5  <<(U,orange)attribute>> [[psysml:a5af055b-f2ee-4ef1-a486-dc312f464f3e ]] {\r\n",
       "}\r\n",
       "comp usage \"g\" as E6  <<(U,orange)attribute>> [[psysml:63113e1f-55f0-4199-b954-2673a0b317ed ]] {\r\n",
       "}\r\n",
       "comp usage \"b\" as E7  <<(U,orange)attribute>> [[psysml:537e328f-e5cc-426a-9b09-8cf3e436744c ]] {\r\n",
       "}\r\n",
       "comp usage \"c\" as E8  <<(U,orange)attribute>> [[psysml:2b35c468-a57b-4dfd-a90f-3e1de4d6204b ]] {\r\n",
       "}\r\n",
       "E3 - -:|> E2 [[psysml:50b306d4-0f13-410b-aa85-567dae9acdd8 ]] \r\n",
       "E4 o- - E2 [[psysml:c5b3d96c-9fe7-4ab4-b771-6776a88b0ad4 ]] : p\r\n",
       "}\r\n",
       "@enduml\r\n",
       "\n",
       "PlantUML version 1.2020.13(Sat Jun 13 12:26:38 UTC 2020)\n",
       "(EPL source distribution)\n",
       "Java Runtime: OpenJDK Runtime Environment\n",
       "JVM: OpenJDK 64-Bit Server VM\n",
       "Default Encoding: UTF-8\n",
       "Language: en\n",
       "Country: null\n",
       "--></g></svg>"
      ]
     },
     "execution_count": 35,
     "metadata": {},
     "output_type": "execute_result"
    }
   ],
   "source": [
    "%viz --style=\"PLANTUML\" --view=\"Sequence\" \"ParameterTest\""
   ]
  },
  {
   "cell_type": "code",
   "execution_count": 36,
   "id": "instrumental-joshua",
   "metadata": {
    "execution": {
     "iopub.execute_input": "2021-03-25T15:03:16.561390Z",
     "iopub.status.busy": "2021-03-25T15:03:16.560849Z",
     "iopub.status.idle": "2021-03-25T15:03:16.743452Z",
     "shell.execute_reply": "2021-03-25T15:03:16.741980Z"
    }
   },
   "outputs": [
    {
     "data": {
      "image/svg+xml": [
       "<?xml version=\"1.0\" encoding=\"UTF-8\" standalone=\"no\"?><svg xmlns=\"http://www.w3.org/2000/svg\" xmlns:xlink=\"http://www.w3.org/1999/xlink\" contentScriptType=\"application/ecmascript\" contentStyleType=\"text/css\" height=\"247px\" preserveAspectRatio=\"none\" style=\"width:868px;height:247px;\" version=\"1.1\" viewBox=\"0 0 868 247\" width=\"868px\" zoomAndPan=\"magnify\"><defs><filter height=\"300%\" id=\"f18866qv0f7xrq\" width=\"300%\" x=\"-1\" y=\"-1\"><feGaussianBlur result=\"blurOut\" stdDeviation=\"2.0\"/><feColorMatrix in=\"blurOut\" result=\"blurOut2\" type=\"matrix\" values=\"0 0 0 0 0 0 0 0 0 0 0 0 0 0 0 0 0 0 .4 0\"/><feOffset dx=\"4.0\" dy=\"4.0\" in=\"blurOut2\" result=\"blurOut3\"/><feBlend in=\"SourceGraphic\" in2=\"blurOut3\" mode=\"normal\"/></filter></defs><g><!--MD5=[fbc87193dbaf4d95561dea2c320d4a47]\n",
       "cluster E1--><a href=\"psysml:c7000c50-df42-41d3-9ba9-36eed14db093\" target=\"_top\" title=\"psysml:c7000c50-df42-41d3-9ba9-36eed14db093\" xlink:actuate=\"onRequest\" xlink:href=\"psysml:c7000c50-df42-41d3-9ba9-36eed14db093\" xlink:show=\"new\" xlink:title=\"psysml:c7000c50-df42-41d3-9ba9-36eed14db093\" xlink:type=\"simple\"><polygon fill=\"#FFFFFF\" filter=\"url(#f18866qv0f7xrq)\" points=\"16,6,139,6,146,28.2969,846,28.2969,846,235,16,235,16,6\" style=\"stroke: #000000; stroke-width: 1.5;\"/><line style=\"stroke: #000000; stroke-width: 1.5;\" x1=\"16\" x2=\"146\" y1=\"28.2969\" y2=\"28.2969\"/><text fill=\"#000000\" font-family=\"sans-serif\" font-size=\"14\" font-weight=\"bold\" lengthAdjust=\"spacingAndGlyphs\" textLength=\"117\" x=\"20\" y=\"20.9951\">ParameterTest</text></a><!--MD5=[f6df4d0ebaf0b5dfb2ced0ae5af7c670]\n",
       "cluster E4--><a href=\"psysml:31ea6359-c2ac-42c4-9008-615ad8ad058c\" target=\"_top\" title=\"psysml:31ea6359-c2ac-42c4-9008-615ad8ad058c\" xlink:actuate=\"onRequest\" xlink:href=\"psysml:31ea6359-c2ac-42c4-9008-615ad8ad058c\" xlink:show=\"new\" xlink:title=\"psysml:31ea6359-c2ac-42c4-9008-615ad8ad058c\" xlink:type=\"simple\"><rect fill=\"#FFFFFF\" filter=\"url(#f18866qv0f7xrq)\" height=\"152.5\" id=\"E4\" style=\"stroke: #A80036; stroke-width: 1.5;\" width=\"148\" x=\"682\" y=\"64\"/><rect fill=\"#FEFECE\" height=\"37.9375\" style=\"stroke: #A80036; stroke-width: 1.5;\" width=\"148\" x=\"682\" y=\"64\"/><text fill=\"#000000\" font-family=\"sans-serif\" font-size=\"12\" font-style=\"italic\" lengthAdjust=\"spacingAndGlyphs\" textLength=\"106\" x=\"703\" y=\"80.1387\">«calculation def»</text><text fill=\"#000000\" font-family=\"sans-serif\" font-size=\"12\" lengthAdjust=\"spacingAndGlyphs\" textLength=\"7\" x=\"752.5\" y=\"94.1074\">F</text></a><!--MD5=[b4997ac47864f28c2f74865a473b2911]\n",
       "class E2--><a href=\"psysml:cb02a2ee-bdc8-478c-9636-92278b567e26\" target=\"_top\" title=\"psysml:cb02a2ee-bdc8-478c-9636-92278b567e26\" xlink:actuate=\"onRequest\" xlink:href=\"psysml:cb02a2ee-bdc8-478c-9636-92278b567e26\" xlink:show=\"new\" xlink:title=\"psysml:cb02a2ee-bdc8-478c-9636-92278b567e26\" xlink:type=\"simple\"><rect fill=\"#FEFECE\" filter=\"url(#f18866qv0f7xrq)\" height=\"71.5469\" id=\"E2\" style=\"stroke: #A80036; stroke-width: 1.5;\" width=\"121\" x=\"524.5\" y=\"147\"/><ellipse cx=\"539.5\" cy=\"165.9688\" fill=\"#A52A2A\" rx=\"11\" ry=\"11\" style=\"stroke: #A80036; stroke-width: 1.0;\"/><path d=\"M539.0938,161.7813 L539.0938,169.7656 L539.75,169.7656 Q541.1875,169.7656 541.7969,168.8594 Q542.4219,167.9375 542.4219,165.7656 Q542.4219,163.5938 541.7969,162.6875 Q541.1875,161.7813 539.75,161.7813 L539.0938,161.7813 Z M536.6406,159.5781 L539.2656,159.5781 Q542.2969,159.5781 543.625,161.0313 Q544.9688,162.4688 544.9688,165.7656 Q544.9688,169.0625 543.625,170.5156 Q542.2969,171.9688 539.2656,171.9688 L536.6406,171.9688 L536.6406,159.5781 Z \"/><text fill=\"#000000\" font-family=\"sans-serif\" font-size=\"12\" font-style=\"italic\" lengthAdjust=\"spacingAndGlyphs\" textLength=\"93\" x=\"551.5\" y=\"163.1387\">«attribute def»</text><text fill=\"#000000\" font-family=\"sans-serif\" font-size=\"12\" lengthAdjust=\"spacingAndGlyphs\" textLength=\"8\" x=\"594\" y=\"177.1074\">A</text><line style=\"stroke: #A80036; stroke-width: 1.5;\" x1=\"525.5\" x2=\"644.5\" y1=\"184.9375\" y2=\"184.9375\"/><text fill=\"#000000\" font-family=\"sans-serif\" font-size=\"11\" lengthAdjust=\"spacingAndGlyphs\" textLength=\"48\" x=\"530.5\" y=\"199.1479\">x: String</text><text fill=\"#000000\" font-family=\"sans-serif\" font-size=\"11\" lengthAdjust=\"spacingAndGlyphs\" textLength=\"21\" x=\"530.5\" y=\"211.9526\">y: A</text></a><!--MD5=[09b614a08d8cba4a07c9adeb5e0fee81]\n",
       "class E3--><a href=\"psysml:50ebccda-29a4-4ea8-943d-69f99c07f732\" target=\"_top\" title=\"psysml:50ebccda-29a4-4ea8-943d-69f99c07f732\" xlink:actuate=\"onRequest\" xlink:href=\"psysml:50ebccda-29a4-4ea8-943d-69f99c07f732\" xlink:show=\"new\" xlink:title=\"psysml:50ebccda-29a4-4ea8-943d-69f99c07f732\" xlink:type=\"simple\"><rect fill=\"#FEFECE\" filter=\"url(#f18866qv0f7xrq)\" height=\"45.9375\" id=\"E3\" rx=\"10\" ry=\"10\" style=\"stroke: #A80036; stroke-width: 1.5;\" width=\"97\" x=\"559.5\" y=\"41\"/><ellipse cx=\"574.5\" cy=\"59.9688\" fill=\"#FFA500\" rx=\"11\" ry=\"11\" style=\"stroke: #A80036; stroke-width: 1.0;\"/><path d=\"M570.375,61.8906 L570.375,54.0781 L572.8281,54.0781 L572.8281,62.5156 Q572.8281,63.4375 573.2969,63.9688 Q573.7813,64.5 574.6094,64.5 Q575.4531,64.5 575.9219,63.9688 Q576.3906,63.4375 576.3906,62.5156 L576.3906,54.0781 L578.8438,54.0781 L578.8438,61.8906 Q578.8438,64.4219 577.8438,65.5625 Q576.8438,66.7031 574.6094,66.7031 Q572.3906,66.7031 571.375,65.5625 Q570.375,64.4219 570.375,61.8906 Z \"/><text fill=\"#000000\" font-family=\"sans-serif\" font-size=\"12\" font-style=\"italic\" lengthAdjust=\"spacingAndGlyphs\" textLength=\"69\" x=\"586.5\" y=\"57.1387\">«attribute»</text><text fill=\"#000000\" font-family=\"sans-serif\" font-size=\"12\" lengthAdjust=\"spacingAndGlyphs\" textLength=\"24\" x=\"609\" y=\"71.1074\">a: A</text><line style=\"stroke: #A80036; stroke-width: 1.5;\" x1=\"560.5\" x2=\"655.5\" y1=\"78.9375\" y2=\"78.9375\"/></a><!--MD5=[2156ba9850f5573cc1fc38a6a4b2f02b]\n",
       "class E7--><a href=\"psysml:a5af055b-f2ee-4ef1-a486-dc312f464f3e\" target=\"_top\" title=\"psysml:a5af055b-f2ee-4ef1-a486-dc312f464f3e\" xlink:actuate=\"onRequest\" xlink:href=\"psysml:a5af055b-f2ee-4ef1-a486-dc312f464f3e\" xlink:show=\"new\" xlink:title=\"psysml:a5af055b-f2ee-4ef1-a486-dc312f464f3e\" xlink:type=\"simple\"><rect fill=\"#FEFECE\" filter=\"url(#f18866qv0f7xrq)\" height=\"45.9375\" id=\"E7\" rx=\"10\" ry=\"10\" style=\"stroke: #A80036; stroke-width: 1.5;\" width=\"97\" x=\"427.5\" y=\"41\"/><ellipse cx=\"442.5\" cy=\"59.9688\" fill=\"#FFA500\" rx=\"11\" ry=\"11\" style=\"stroke: #A80036; stroke-width: 1.0;\"/><path d=\"M438.375,61.8906 L438.375,54.0781 L440.8281,54.0781 L440.8281,62.5156 Q440.8281,63.4375 441.2969,63.9688 Q441.7813,64.5 442.6094,64.5 Q443.4531,64.5 443.9219,63.9688 Q444.3906,63.4375 444.3906,62.5156 L444.3906,54.0781 L446.8438,54.0781 L446.8438,61.8906 Q446.8438,64.4219 445.8438,65.5625 Q444.8438,66.7031 442.6094,66.7031 Q440.3906,66.7031 439.375,65.5625 Q438.375,64.4219 438.375,61.8906 Z \"/><text fill=\"#000000\" font-family=\"sans-serif\" font-size=\"12\" font-style=\"italic\" lengthAdjust=\"spacingAndGlyphs\" textLength=\"69\" x=\"454.5\" y=\"57.1387\">«attribute»</text><text fill=\"#000000\" font-family=\"sans-serif\" font-size=\"12\" lengthAdjust=\"spacingAndGlyphs\" textLength=\"4\" x=\"487\" y=\"71.1074\">f</text><line style=\"stroke: #A80036; stroke-width: 1.5;\" x1=\"428.5\" x2=\"523.5\" y1=\"78.9375\" y2=\"78.9375\"/></a><!--MD5=[b9389687b975829384b498ac4b7476b2]\n",
       "class E8--><a href=\"psysml:63113e1f-55f0-4199-b954-2673a0b317ed\" target=\"_top\" title=\"psysml:63113e1f-55f0-4199-b954-2673a0b317ed\" xlink:actuate=\"onRequest\" xlink:href=\"psysml:63113e1f-55f0-4199-b954-2673a0b317ed\" xlink:show=\"new\" xlink:title=\"psysml:63113e1f-55f0-4199-b954-2673a0b317ed\" xlink:type=\"simple\"><rect fill=\"#FEFECE\" filter=\"url(#f18866qv0f7xrq)\" height=\"45.9375\" id=\"E8\" rx=\"10\" ry=\"10\" style=\"stroke: #A80036; stroke-width: 1.5;\" width=\"97\" x=\"295.5\" y=\"41\"/><ellipse cx=\"310.5\" cy=\"59.9688\" fill=\"#FFA500\" rx=\"11\" ry=\"11\" style=\"stroke: #A80036; stroke-width: 1.0;\"/><path d=\"M306.375,61.8906 L306.375,54.0781 L308.8281,54.0781 L308.8281,62.5156 Q308.8281,63.4375 309.2969,63.9688 Q309.7813,64.5 310.6094,64.5 Q311.4531,64.5 311.9219,63.9688 Q312.3906,63.4375 312.3906,62.5156 L312.3906,54.0781 L314.8438,54.0781 L314.8438,61.8906 Q314.8438,64.4219 313.8438,65.5625 Q312.8438,66.7031 310.6094,66.7031 Q308.3906,66.7031 307.375,65.5625 Q306.375,64.4219 306.375,61.8906 Z \"/><text fill=\"#000000\" font-family=\"sans-serif\" font-size=\"12\" font-style=\"italic\" lengthAdjust=\"spacingAndGlyphs\" textLength=\"69\" x=\"322.5\" y=\"57.1387\">«attribute»</text><text fill=\"#000000\" font-family=\"sans-serif\" font-size=\"12\" lengthAdjust=\"spacingAndGlyphs\" textLength=\"8\" x=\"353\" y=\"71.1074\">g</text><line style=\"stroke: #A80036; stroke-width: 1.5;\" x1=\"296.5\" x2=\"391.5\" y1=\"78.9375\" y2=\"78.9375\"/></a><!--MD5=[fd4143e9d270a159db93a4ea2a975926]\n",
       "class E9--><a href=\"psysml:537e328f-e5cc-426a-9b09-8cf3e436744c\" target=\"_top\" title=\"psysml:537e328f-e5cc-426a-9b09-8cf3e436744c\" xlink:actuate=\"onRequest\" xlink:href=\"psysml:537e328f-e5cc-426a-9b09-8cf3e436744c\" xlink:show=\"new\" xlink:title=\"psysml:537e328f-e5cc-426a-9b09-8cf3e436744c\" xlink:type=\"simple\"><rect fill=\"#FEFECE\" filter=\"url(#f18866qv0f7xrq)\" height=\"45.9375\" id=\"E9\" rx=\"10\" ry=\"10\" style=\"stroke: #A80036; stroke-width: 1.5;\" width=\"97\" x=\"163.5\" y=\"41\"/><ellipse cx=\"178.5\" cy=\"59.9688\" fill=\"#FFA500\" rx=\"11\" ry=\"11\" style=\"stroke: #A80036; stroke-width: 1.0;\"/><path d=\"M174.375,61.8906 L174.375,54.0781 L176.8281,54.0781 L176.8281,62.5156 Q176.8281,63.4375 177.2969,63.9688 Q177.7813,64.5 178.6094,64.5 Q179.4531,64.5 179.9219,63.9688 Q180.3906,63.4375 180.3906,62.5156 L180.3906,54.0781 L182.8438,54.0781 L182.8438,61.8906 Q182.8438,64.4219 181.8438,65.5625 Q180.8438,66.7031 178.6094,66.7031 Q176.3906,66.7031 175.375,65.5625 Q174.375,64.4219 174.375,61.8906 Z \"/><text fill=\"#000000\" font-family=\"sans-serif\" font-size=\"12\" font-style=\"italic\" lengthAdjust=\"spacingAndGlyphs\" textLength=\"69\" x=\"190.5\" y=\"57.1387\">«attribute»</text><text fill=\"#000000\" font-family=\"sans-serif\" font-size=\"12\" lengthAdjust=\"spacingAndGlyphs\" textLength=\"8\" x=\"221\" y=\"71.1074\">b</text><line style=\"stroke: #A80036; stroke-width: 1.5;\" x1=\"164.5\" x2=\"259.5\" y1=\"78.9375\" y2=\"78.9375\"/></a><!--MD5=[96f4274e9e20536e775497830990834d]\n",
       "class E10--><a href=\"psysml:2b35c468-a57b-4dfd-a90f-3e1de4d6204b\" target=\"_top\" title=\"psysml:2b35c468-a57b-4dfd-a90f-3e1de4d6204b\" xlink:actuate=\"onRequest\" xlink:href=\"psysml:2b35c468-a57b-4dfd-a90f-3e1de4d6204b\" xlink:show=\"new\" xlink:title=\"psysml:2b35c468-a57b-4dfd-a90f-3e1de4d6204b\" xlink:type=\"simple\"><rect fill=\"#FEFECE\" filter=\"url(#f18866qv0f7xrq)\" height=\"45.9375\" id=\"E10\" rx=\"10\" ry=\"10\" style=\"stroke: #A80036; stroke-width: 1.5;\" width=\"97\" x=\"31.5\" y=\"41\"/><ellipse cx=\"46.5\" cy=\"59.9688\" fill=\"#FFA500\" rx=\"11\" ry=\"11\" style=\"stroke: #A80036; stroke-width: 1.0;\"/><path d=\"M42.375,61.8906 L42.375,54.0781 L44.8281,54.0781 L44.8281,62.5156 Q44.8281,63.4375 45.2969,63.9688 Q45.7813,64.5 46.6094,64.5 Q47.4531,64.5 47.9219,63.9688 Q48.3906,63.4375 48.3906,62.5156 L48.3906,54.0781 L50.8438,54.0781 L50.8438,61.8906 Q50.8438,64.4219 49.8438,65.5625 Q48.8438,66.7031 46.6094,66.7031 Q44.3906,66.7031 43.375,65.5625 Q42.375,64.4219 42.375,61.8906 Z \"/><text fill=\"#000000\" font-family=\"sans-serif\" font-size=\"12\" font-style=\"italic\" lengthAdjust=\"spacingAndGlyphs\" textLength=\"69\" x=\"58.5\" y=\"57.1387\">«attribute»</text><text fill=\"#000000\" font-family=\"sans-serif\" font-size=\"12\" lengthAdjust=\"spacingAndGlyphs\" textLength=\"7\" x=\"89.5\" y=\"71.1074\">c</text><line style=\"stroke: #A80036; stroke-width: 1.5;\" x1=\"32.5\" x2=\"127.5\" y1=\"78.9375\" y2=\"78.9375\"/></a><text fill=\"#000000\" font-family=\"sans-serif\" font-size=\"14\" lengthAdjust=\"spacingAndGlyphs\" textLength=\"9\" x=\"695.5\" y=\"42.6982\">p</text><rect fill=\"#A80036\" height=\"12\" style=\"stroke: #FEFECE; stroke-width: 1.5;\" width=\"12\" x=\"694\" y=\"58\"/><text fill=\"#000000\" font-family=\"sans-serif\" font-size=\"14\" lengthAdjust=\"spacingAndGlyphs\" textLength=\"9\" x=\"742.5\" y=\"42.6982\">q</text><rect fill=\"#A80036\" height=\"12\" style=\"stroke: #FEFECE; stroke-width: 1.5;\" width=\"12\" x=\"741\" y=\"58\"/><!--MD5=[05d275557350bfb9b23a4ef7222b4c39]\n",
       "link E3 to E2--><a href=\"psysml:50b306d4-0f13-410b-aa85-567dae9acdd8\" target=\"_top\" title=\"psysml:50b306d4-0f13-410b-aa85-567dae9acdd8\" xlink:actuate=\"onRequest\" xlink:href=\"psysml:50b306d4-0f13-410b-aa85-567dae9acdd8\" xlink:show=\"new\" xlink:title=\"psysml:50b306d4-0f13-410b-aa85-567dae9acdd8\" xlink:type=\"simple\"><path d=\"M603.67,87.01 C601.45,98.3 598.64,112.62 595.87,126.7 \" fill=\"none\" id=\"E3-&gt;E2\" style=\"stroke: #A80036; stroke-width: 1.0;\"/><polygon fill=\"#FFFFFF\" points=\"591.93,146.75,588.7277,126.7564,602.4646,129.4577,591.93,146.75\" style=\"stroke: #A80036; stroke-width: 1.0;\"/><ellipse cx=\"591.7899\" cy=\"121.5494\" fill=\"#A80036\" rx=\"2\" ry=\"2\" style=\"stroke: #A80036; stroke-width: 1.0;\"/><ellipse cx=\"601.602\" cy=\"123.4789\" fill=\"#A80036\" rx=\"2\" ry=\"2\" style=\"stroke: #A80036; stroke-width: 1.0;\"/></a><!--MD5=[f26d81fbc2fc5699839166cd0cb430c5]\n",
       "@startuml\r\n",
       " \r\n",
       "package \"ParameterTest\" as E1  [[psysml:c7000c50-df42-41d3-9ba9-36eed14db093 ]]  {\r\n",
       "comp def \"A\" as E2  <<(D,brown)attribute def>> [[psysml:cb02a2ee-bdc8-478c-9636-92278b567e26 ]] {\r\n",
       "x: String\r\n",
       "y: A\r\n",
       "}\r\n",
       "comp usage \"a: A\" as E3  <<(U,orange)attribute>> [[psysml:50ebccda-29a4-4ea8-943d-69f99c07f732 ]] {\r\n",
       "}\r\n",
       "rec def \"F\" as E4  <<(D,brown)calculation def>> [[psysml:31ea6359-c2ac-42c4-9008-615ad8ad058c ]] {\r\n",
       "portin \"p\" as E5  [[psysml:c5b3d96c-9fe7-4ab4-b771-6776a88b0ad4 ]] \r\n",
       "portin \"q\" as E6  [[psysml:66adf659-8704-40ab-88b3-19d2477512b1 ]] \r\n",
       "}\r\n",
       "\r\n",
       "comp usage \"f\" as E7  <<(U,orange)attribute>> [[psysml:a5af055b-f2ee-4ef1-a486-dc312f464f3e ]] {\r\n",
       "}\r\n",
       "comp usage \"g\" as E8  <<(U,orange)attribute>> [[psysml:63113e1f-55f0-4199-b954-2673a0b317ed ]] {\r\n",
       "}\r\n",
       "comp usage \"b\" as E9  <<(U,orange)attribute>> [[psysml:537e328f-e5cc-426a-9b09-8cf3e436744c ]] {\r\n",
       "}\r\n",
       "comp usage \"c\" as E10  <<(U,orange)attribute>> [[psysml:2b35c468-a57b-4dfd-a90f-3e1de4d6204b ]] {\r\n",
       "}\r\n",
       "E3 - -:|> E2 [[psysml:50b306d4-0f13-410b-aa85-567dae9acdd8 ]] \r\n",
       "}\r\n",
       "@enduml\r\n",
       "\n",
       "PlantUML version 1.2020.13(Sat Jun 13 12:26:38 UTC 2020)\n",
       "(EPL source distribution)\n",
       "Java Runtime: OpenJDK Runtime Environment\n",
       "JVM: OpenJDK 64-Bit Server VM\n",
       "Default Encoding: UTF-8\n",
       "Language: en\n",
       "Country: null\n",
       "--></g></svg>"
      ]
     },
     "execution_count": 36,
     "metadata": {},
     "output_type": "execute_result"
    }
   ],
   "source": [
    "%viz --style=\"PLANTUML\" --view=\"MIXED\" \"ParameterTest\""
   ]
  },
  {
   "cell_type": "code",
   "execution_count": 37,
   "id": "expressed-profile",
   "metadata": {
    "execution": {
     "iopub.execute_input": "2021-03-25T15:03:16.794654Z",
     "iopub.status.busy": "2021-03-25T15:03:16.793703Z",
     "iopub.status.idle": "2021-03-25T15:03:17.081569Z",
     "shell.execute_reply": "2021-03-25T15:03:17.080003Z"
    }
   },
   "outputs": [
    {
     "data": {
      "image/svg+xml": [
       "<?xml version=\"1.0\" encoding=\"UTF-8\" standalone=\"no\"?><svg xmlns=\"http://www.w3.org/2000/svg\" xmlns:xlink=\"http://www.w3.org/1999/xlink\" contentScriptType=\"application/ecmascript\" contentStyleType=\"text/css\" height=\"263px\" preserveAspectRatio=\"none\" style=\"width:740px;height:263px;\" version=\"1.1\" viewBox=\"0 0 740 263\" width=\"740px\" zoomAndPan=\"magnify\"><defs/><g><!--MD5=[fbc87193dbaf4d95561dea2c320d4a47]\n",
       "cluster E1--><a href=\"psysml:c7000c50-df42-41d3-9ba9-36eed14db093\" target=\"_top\" title=\"psysml:c7000c50-df42-41d3-9ba9-36eed14db093\" xlink:actuate=\"onRequest\" xlink:href=\"psysml:c7000c50-df42-41d3-9ba9-36eed14db093\" xlink:show=\"new\" xlink:title=\"psysml:c7000c50-df42-41d3-9ba9-36eed14db093\" xlink:type=\"simple\"><polygon fill=\"#FFFFFF\" points=\"16,6,139,6,146,28.2969,718,28.2969,718,251,16,251,16,6\" style=\"stroke: #000000; stroke-width: 1.5;\"/><line style=\"stroke: #000000; stroke-width: 1.5;\" x1=\"16\" x2=\"146\" y1=\"28.2969\" y2=\"28.2969\"/><text fill=\"#000000\" font-family=\"sans-serif\" font-size=\"14\" font-weight=\"bold\" lengthAdjust=\"spacingAndGlyphs\" textLength=\"117\" x=\"20\" y=\"20.9951\">ParameterTest</text></a><!--MD5=[f6df4d0ebaf0b5dfb2ced0ae5af7c670]\n",
       "cluster E4--><a href=\"psysml:31ea6359-c2ac-42c4-9008-615ad8ad058c\" target=\"_top\" title=\"psysml:31ea6359-c2ac-42c4-9008-615ad8ad058c\" xlink:actuate=\"onRequest\" xlink:href=\"psysml:31ea6359-c2ac-42c4-9008-615ad8ad058c\" xlink:show=\"new\" xlink:title=\"psysml:31ea6359-c2ac-42c4-9008-615ad8ad058c\" xlink:type=\"simple\"><rect fill=\"#FFFFFF\" height=\"160.5\" id=\"E4\" style=\"stroke: #383838; stroke-width: 1.5;\" width=\"148\" x=\"554\" y=\"64\"/><rect fill=\"#F8F8F8\" height=\"37.9375\" style=\"stroke: #383838; stroke-width: 1.5;\" width=\"148\" x=\"554\" y=\"64\"/><text fill=\"#000000\" font-family=\"sans-serif\" font-size=\"12\" font-style=\"italic\" lengthAdjust=\"spacingAndGlyphs\" textLength=\"106\" x=\"575\" y=\"80.1387\">«calculation def»</text><text fill=\"#000000\" font-family=\"sans-serif\" font-size=\"12\" lengthAdjust=\"spacingAndGlyphs\" textLength=\"7\" x=\"624.5\" y=\"94.1074\">F</text></a><!--MD5=[b4997ac47864f28c2f74865a473b2911]\n",
       "class E2--><a href=\"psysml:cb02a2ee-bdc8-478c-9636-92278b567e26\" target=\"_top\" title=\"psysml:cb02a2ee-bdc8-478c-9636-92278b567e26\" xlink:actuate=\"onRequest\" xlink:href=\"psysml:cb02a2ee-bdc8-478c-9636-92278b567e26\" xlink:show=\"new\" xlink:title=\"psysml:cb02a2ee-bdc8-478c-9636-92278b567e26\" xlink:type=\"simple\"><rect fill=\"#FFFFFF\" height=\"88.3516\" id=\"E2\" style=\"stroke: #383838; stroke-width: 1.5;\" width=\"95\" x=\"422.5\" y=\"147\"/><text fill=\"#000000\" font-family=\"sans-serif\" font-size=\"12\" font-style=\"italic\" lengthAdjust=\"spacingAndGlyphs\" textLength=\"93\" x=\"423.5\" y=\"163.1387\">«attribute def»</text><text fill=\"#000000\" font-family=\"sans-serif\" font-size=\"12\" lengthAdjust=\"spacingAndGlyphs\" textLength=\"8\" x=\"466\" y=\"177.1074\">A</text><line style=\"stroke: #383838; stroke-width: 1.5;\" x1=\"423.5\" x2=\"516.5\" y1=\"184.9375\" y2=\"184.9375\"/><text fill=\"#000000\" font-family=\"sans-serif\" font-size=\"11\" lengthAdjust=\"spacingAndGlyphs\" textLength=\"48\" x=\"428.5\" y=\"215.9526\">x: String</text><text fill=\"#000000\" font-family=\"sans-serif\" font-size=\"11\" lengthAdjust=\"spacingAndGlyphs\" textLength=\"21\" x=\"428.5\" y=\"228.7573\">y: A</text><line style=\"stroke: #383838; stroke-width: 1.0;\" x1=\"423.5\" x2=\"442.5\" y1=\"199.3398\" y2=\"199.3398\"/><text fill=\"#000000\" font-family=\"sans-serif\" font-size=\"11\" lengthAdjust=\"spacingAndGlyphs\" textLength=\"55\" x=\"442.5\" y=\"202.6479\">attributes</text><line style=\"stroke: #383838; stroke-width: 1.0;\" x1=\"497.5\" x2=\"516.5\" y1=\"199.3398\" y2=\"199.3398\"/></a><!--MD5=[09b614a08d8cba4a07c9adeb5e0fee81]\n",
       "class E3--><a href=\"psysml:50ebccda-29a4-4ea8-943d-69f99c07f732\" target=\"_top\" title=\"psysml:50ebccda-29a4-4ea8-943d-69f99c07f732\" xlink:actuate=\"onRequest\" xlink:href=\"psysml:50ebccda-29a4-4ea8-943d-69f99c07f732\" xlink:show=\"new\" xlink:title=\"psysml:50ebccda-29a4-4ea8-943d-69f99c07f732\" xlink:type=\"simple\"><rect fill=\"#FFFFFF\" height=\"45.9375\" id=\"E3\" rx=\"10\" ry=\"10\" style=\"stroke: #383838; stroke-width: 1.5;\" width=\"71\" x=\"456.5\" y=\"41\"/><text fill=\"#000000\" font-family=\"sans-serif\" font-size=\"12\" font-style=\"italic\" lengthAdjust=\"spacingAndGlyphs\" textLength=\"69\" x=\"457.5\" y=\"57.1387\">«attribute»</text><text fill=\"#000000\" font-family=\"sans-serif\" font-size=\"12\" lengthAdjust=\"spacingAndGlyphs\" textLength=\"24\" x=\"480\" y=\"71.1074\">a: A</text><line style=\"stroke: #383838; stroke-width: 1.5;\" x1=\"457.5\" x2=\"526.5\" y1=\"78.9375\" y2=\"78.9375\"/></a><!--MD5=[2156ba9850f5573cc1fc38a6a4b2f02b]\n",
       "class E7--><a href=\"psysml:a5af055b-f2ee-4ef1-a486-dc312f464f3e\" target=\"_top\" title=\"psysml:a5af055b-f2ee-4ef1-a486-dc312f464f3e\" xlink:actuate=\"onRequest\" xlink:href=\"psysml:a5af055b-f2ee-4ef1-a486-dc312f464f3e\" xlink:show=\"new\" xlink:title=\"psysml:a5af055b-f2ee-4ef1-a486-dc312f464f3e\" xlink:type=\"simple\"><rect fill=\"#FFFFFF\" height=\"45.9375\" id=\"E7\" rx=\"10\" ry=\"10\" style=\"stroke: #383838; stroke-width: 1.5;\" width=\"71\" x=\"350.5\" y=\"41\"/><text fill=\"#000000\" font-family=\"sans-serif\" font-size=\"12\" font-style=\"italic\" lengthAdjust=\"spacingAndGlyphs\" textLength=\"69\" x=\"351.5\" y=\"57.1387\">«attribute»</text><text fill=\"#000000\" font-family=\"sans-serif\" font-size=\"12\" lengthAdjust=\"spacingAndGlyphs\" textLength=\"4\" x=\"384\" y=\"71.1074\">f</text><line style=\"stroke: #383838; stroke-width: 1.5;\" x1=\"351.5\" x2=\"420.5\" y1=\"78.9375\" y2=\"78.9375\"/></a><!--MD5=[b9389687b975829384b498ac4b7476b2]\n",
       "class E8--><a href=\"psysml:63113e1f-55f0-4199-b954-2673a0b317ed\" target=\"_top\" title=\"psysml:63113e1f-55f0-4199-b954-2673a0b317ed\" xlink:actuate=\"onRequest\" xlink:href=\"psysml:63113e1f-55f0-4199-b954-2673a0b317ed\" xlink:show=\"new\" xlink:title=\"psysml:63113e1f-55f0-4199-b954-2673a0b317ed\" xlink:type=\"simple\"><rect fill=\"#FFFFFF\" height=\"45.9375\" id=\"E8\" rx=\"10\" ry=\"10\" style=\"stroke: #383838; stroke-width: 1.5;\" width=\"71\" x=\"244.5\" y=\"41\"/><text fill=\"#000000\" font-family=\"sans-serif\" font-size=\"12\" font-style=\"italic\" lengthAdjust=\"spacingAndGlyphs\" textLength=\"69\" x=\"245.5\" y=\"57.1387\">«attribute»</text><text fill=\"#000000\" font-family=\"sans-serif\" font-size=\"12\" lengthAdjust=\"spacingAndGlyphs\" textLength=\"8\" x=\"276\" y=\"71.1074\">g</text><line style=\"stroke: #383838; stroke-width: 1.5;\" x1=\"245.5\" x2=\"314.5\" y1=\"78.9375\" y2=\"78.9375\"/></a><!--MD5=[fd4143e9d270a159db93a4ea2a975926]\n",
       "class E9--><a href=\"psysml:537e328f-e5cc-426a-9b09-8cf3e436744c\" target=\"_top\" title=\"psysml:537e328f-e5cc-426a-9b09-8cf3e436744c\" xlink:actuate=\"onRequest\" xlink:href=\"psysml:537e328f-e5cc-426a-9b09-8cf3e436744c\" xlink:show=\"new\" xlink:title=\"psysml:537e328f-e5cc-426a-9b09-8cf3e436744c\" xlink:type=\"simple\"><rect fill=\"#FFFFFF\" height=\"45.9375\" id=\"E9\" rx=\"10\" ry=\"10\" style=\"stroke: #383838; stroke-width: 1.5;\" width=\"71\" x=\"138.5\" y=\"41\"/><text fill=\"#000000\" font-family=\"sans-serif\" font-size=\"12\" font-style=\"italic\" lengthAdjust=\"spacingAndGlyphs\" textLength=\"69\" x=\"139.5\" y=\"57.1387\">«attribute»</text><text fill=\"#000000\" font-family=\"sans-serif\" font-size=\"12\" lengthAdjust=\"spacingAndGlyphs\" textLength=\"8\" x=\"170\" y=\"71.1074\">b</text><line style=\"stroke: #383838; stroke-width: 1.5;\" x1=\"139.5\" x2=\"208.5\" y1=\"78.9375\" y2=\"78.9375\"/></a><!--MD5=[96f4274e9e20536e775497830990834d]\n",
       "class E10--><a href=\"psysml:2b35c468-a57b-4dfd-a90f-3e1de4d6204b\" target=\"_top\" title=\"psysml:2b35c468-a57b-4dfd-a90f-3e1de4d6204b\" xlink:actuate=\"onRequest\" xlink:href=\"psysml:2b35c468-a57b-4dfd-a90f-3e1de4d6204b\" xlink:show=\"new\" xlink:title=\"psysml:2b35c468-a57b-4dfd-a90f-3e1de4d6204b\" xlink:type=\"simple\"><rect fill=\"#FFFFFF\" height=\"45.9375\" id=\"E10\" rx=\"10\" ry=\"10\" style=\"stroke: #383838; stroke-width: 1.5;\" width=\"71\" x=\"32.5\" y=\"41\"/><text fill=\"#000000\" font-family=\"sans-serif\" font-size=\"12\" font-style=\"italic\" lengthAdjust=\"spacingAndGlyphs\" textLength=\"69\" x=\"33.5\" y=\"57.1387\">«attribute»</text><text fill=\"#000000\" font-family=\"sans-serif\" font-size=\"12\" lengthAdjust=\"spacingAndGlyphs\" textLength=\"7\" x=\"64.5\" y=\"71.1074\">c</text><line style=\"stroke: #383838; stroke-width: 1.5;\" x1=\"33.5\" x2=\"102.5\" y1=\"78.9375\" y2=\"78.9375\"/></a><text fill=\"#000000\" font-family=\"sans-serif\" font-size=\"14\" lengthAdjust=\"spacingAndGlyphs\" textLength=\"9\" x=\"567.5\" y=\"42.6982\">p</text><rect fill=\"#383838\" height=\"12\" style=\"stroke: #F8F8F8; stroke-width: 1.5;\" width=\"12\" x=\"566\" y=\"58\"/><text fill=\"#000000\" font-family=\"sans-serif\" font-size=\"14\" lengthAdjust=\"spacingAndGlyphs\" textLength=\"9\" x=\"614.5\" y=\"42.6982\">q</text><rect fill=\"#383838\" height=\"12\" style=\"stroke: #F8F8F8; stroke-width: 1.5;\" width=\"12\" x=\"613\" y=\"58\"/><!--MD5=[05d275557350bfb9b23a4ef7222b4c39]\n",
       "link E3 to E2--><a href=\"psysml:50b306d4-0f13-410b-aa85-567dae9acdd8\" target=\"_top\" title=\"psysml:50b306d4-0f13-410b-aa85-567dae9acdd8\" xlink:actuate=\"onRequest\" xlink:href=\"psysml:50b306d4-0f13-410b-aa85-567dae9acdd8\" xlink:show=\"new\" xlink:title=\"psysml:50b306d4-0f13-410b-aa85-567dae9acdd8\" xlink:type=\"simple\"><path d=\"M488.12,87.06 C486.14,98.3 483.62,112.6 481.1,126.95 \" fill=\"none\" id=\"E3-&gt;E2\" style=\"stroke: #383838; stroke-width: 1.0;\"/><polygon fill=\"#FFFFFF\" points=\"477.58,146.93,473.9835,127.0035,487.7711,129.4331,477.58,146.93\" style=\"stroke: #383838; stroke-width: 1.0;\"/><ellipse cx=\"476.9423\" cy=\"121.7371\" fill=\"#383838\" rx=\"2\" ry=\"2\" style=\"stroke: #383838; stroke-width: 1.0;\"/><ellipse cx=\"486.7906\" cy=\"123.4725\" fill=\"#383838\" rx=\"2\" ry=\"2\" style=\"stroke: #383838; stroke-width: 1.0;\"/></a><!--MD5=[37046da9d33607403c9541c3701eb2ae]\n",
       "@startuml\r\n",
       "skinparam monochrome true\r\n",
       "skinparam classbackgroundcolor white\r\n",
       "skinparam shadowing false\r\n",
       "skinparam wrapWidth 300\r\n",
       "hide circle\r\n",
       "\r\n",
       "package \"ParameterTest\" as E1  [[psysml:c7000c50-df42-41d3-9ba9-36eed14db093 ]]  {\r\n",
       "comp def \"A\" as E2  <<(T,blue)attribute def>> [[psysml:cb02a2ee-bdc8-478c-9636-92278b567e26 ]] {\r\n",
       "- - attributes - -\r\n",
       "x: String\r\n",
       "y: A\r\n",
       "}\r\n",
       "comp usage \"a: A\" as E3  <<(T,blue)attribute>> [[psysml:50ebccda-29a4-4ea8-943d-69f99c07f732 ]] {\r\n",
       "}\r\n",
       "rec def \"F\" as E4  <<(T,blue)calculation def>> [[psysml:31ea6359-c2ac-42c4-9008-615ad8ad058c ]] {\r\n",
       "portin \"p\" as E5  [[psysml:c5b3d96c-9fe7-4ab4-b771-6776a88b0ad4 ]] \r\n",
       "portin \"q\" as E6  [[psysml:66adf659-8704-40ab-88b3-19d2477512b1 ]] \r\n",
       "}\r\n",
       "\r\n",
       "comp usage \"f\" as E7  <<(T,blue)attribute>> [[psysml:a5af055b-f2ee-4ef1-a486-dc312f464f3e ]] {\r\n",
       "}\r\n",
       "comp usage \"g\" as E8  <<(T,blue)attribute>> [[psysml:63113e1f-55f0-4199-b954-2673a0b317ed ]] {\r\n",
       "}\r\n",
       "comp usage \"b\" as E9  <<(T,blue)attribute>> [[psysml:537e328f-e5cc-426a-9b09-8cf3e436744c ]] {\r\n",
       "}\r\n",
       "comp usage \"c\" as E10  <<(T,blue)attribute>> [[psysml:2b35c468-a57b-4dfd-a90f-3e1de4d6204b ]] {\r\n",
       "}\r\n",
       "E3 - -:|> E2 [[psysml:50b306d4-0f13-410b-aa85-567dae9acdd8 ]] \r\n",
       "}\r\n",
       "@enduml\r\n",
       "\n",
       "PlantUML version 1.2020.13(Sat Jun 13 12:26:38 UTC 2020)\n",
       "(EPL source distribution)\n",
       "Java Runtime: OpenJDK Runtime Environment\n",
       "JVM: OpenJDK 64-Bit Server VM\n",
       "Default Encoding: UTF-8\n",
       "Language: en\n",
       "Country: null\n",
       "--></g></svg>"
      ]
     },
     "execution_count": 37,
     "metadata": {},
     "output_type": "execute_result"
    }
   ],
   "source": [
    "%viz --style=\"DEFAULT\" --view=\"Default\" \"ParameterTest\""
   ]
  },
  {
   "cell_type": "code",
   "execution_count": 38,
   "id": "moved-cincinnati",
   "metadata": {
    "execution": {
     "iopub.execute_input": "2021-03-25T15:03:17.133407Z",
     "iopub.status.busy": "2021-03-25T15:03:17.132821Z",
     "iopub.status.idle": "2021-03-25T15:03:17.405788Z",
     "shell.execute_reply": "2021-03-25T15:03:17.404349Z"
    }
   },
   "outputs": [
    {
     "data": {
      "image/svg+xml": [
       "<?xml version=\"1.0\" encoding=\"UTF-8\" standalone=\"no\"?><svg xmlns=\"http://www.w3.org/2000/svg\" xmlns:xlink=\"http://www.w3.org/1999/xlink\" contentScriptType=\"application/ecmascript\" contentStyleType=\"text/css\" height=\"280px\" preserveAspectRatio=\"none\" style=\"width:710px;height:280px;\" version=\"1.1\" viewBox=\"0 0 710 280\" width=\"710px\" zoomAndPan=\"magnify\"><defs/><g><!--MD5=[fbc87193dbaf4d95561dea2c320d4a47]\n",
       "cluster E1--><a href=\"psysml:c7000c50-df42-41d3-9ba9-36eed14db093\" target=\"_top\" title=\"psysml:c7000c50-df42-41d3-9ba9-36eed14db093\" xlink:actuate=\"onRequest\" xlink:href=\"psysml:c7000c50-df42-41d3-9ba9-36eed14db093\" xlink:show=\"new\" xlink:title=\"psysml:c7000c50-df42-41d3-9ba9-36eed14db093\" xlink:type=\"simple\"><polygon fill=\"#FFFFFF\" points=\"16,6,139,6,146,28.2969,688,28.2969,688,268,16,268,16,6\" style=\"stroke: #000000; stroke-width: 1.5;\"/><line style=\"stroke: #000000; stroke-width: 1.5;\" x1=\"16\" x2=\"146\" y1=\"28.2969\" y2=\"28.2969\"/><text fill=\"#000000\" font-family=\"sans-serif\" font-size=\"14\" font-weight=\"bold\" lengthAdjust=\"spacingAndGlyphs\" textLength=\"117\" x=\"20\" y=\"20.9951\">ParameterTest</text></a><!--MD5=[b4997ac47864f28c2f74865a473b2911]\n",
       "class E2--><a href=\"psysml:cb02a2ee-bdc8-478c-9636-92278b567e26\" target=\"_top\" title=\"psysml:cb02a2ee-bdc8-478c-9636-92278b567e26\" xlink:actuate=\"onRequest\" xlink:href=\"psysml:cb02a2ee-bdc8-478c-9636-92278b567e26\" xlink:show=\"new\" xlink:title=\"psysml:cb02a2ee-bdc8-478c-9636-92278b567e26\" xlink:type=\"simple\"><rect fill=\"#FFFFFF\" height=\"88.3516\" id=\"E2\" style=\"stroke: #383838; stroke-width: 1.5;\" width=\"95\" x=\"498.5\" y=\"164\"/><text fill=\"#000000\" font-family=\"sans-serif\" font-size=\"12\" font-style=\"italic\" lengthAdjust=\"spacingAndGlyphs\" textLength=\"93\" x=\"499.5\" y=\"180.1387\">«attribute def»</text><text fill=\"#000000\" font-family=\"sans-serif\" font-size=\"12\" lengthAdjust=\"spacingAndGlyphs\" textLength=\"8\" x=\"542\" y=\"194.1074\">A</text><line style=\"stroke: #383838; stroke-width: 1.5;\" x1=\"499.5\" x2=\"592.5\" y1=\"201.9375\" y2=\"201.9375\"/><text fill=\"#000000\" font-family=\"sans-serif\" font-size=\"11\" lengthAdjust=\"spacingAndGlyphs\" textLength=\"48\" x=\"504.5\" y=\"232.9526\">x: String</text><text fill=\"#000000\" font-family=\"sans-serif\" font-size=\"11\" lengthAdjust=\"spacingAndGlyphs\" textLength=\"21\" x=\"504.5\" y=\"245.7573\">y: A</text><line style=\"stroke: #383838; stroke-width: 1.0;\" x1=\"499.5\" x2=\"518.5\" y1=\"216.3398\" y2=\"216.3398\"/><text fill=\"#000000\" font-family=\"sans-serif\" font-size=\"11\" lengthAdjust=\"spacingAndGlyphs\" textLength=\"55\" x=\"518.5\" y=\"219.6479\">attributes</text><line style=\"stroke: #383838; stroke-width: 1.0;\" x1=\"573.5\" x2=\"592.5\" y1=\"216.3398\" y2=\"216.3398\"/></a><!--MD5=[09b614a08d8cba4a07c9adeb5e0fee81]\n",
       "class E3--><a href=\"psysml:50ebccda-29a4-4ea8-943d-69f99c07f732\" target=\"_top\" title=\"psysml:50ebccda-29a4-4ea8-943d-69f99c07f732\" xlink:actuate=\"onRequest\" xlink:href=\"psysml:50ebccda-29a4-4ea8-943d-69f99c07f732\" xlink:show=\"new\" xlink:title=\"psysml:50ebccda-29a4-4ea8-943d-69f99c07f732\" xlink:type=\"simple\"><rect fill=\"#FFFFFF\" height=\"45.9375\" id=\"E3\" rx=\"10\" ry=\"10\" style=\"stroke: #383838; stroke-width: 1.5;\" width=\"71\" x=\"600.5\" y=\"41\"/><text fill=\"#000000\" font-family=\"sans-serif\" font-size=\"12\" font-style=\"italic\" lengthAdjust=\"spacingAndGlyphs\" textLength=\"69\" x=\"601.5\" y=\"57.1387\">«attribute»</text><text fill=\"#000000\" font-family=\"sans-serif\" font-size=\"12\" lengthAdjust=\"spacingAndGlyphs\" textLength=\"24\" x=\"624\" y=\"71.1074\">a: A</text><line style=\"stroke: #383838; stroke-width: 1.5;\" x1=\"601.5\" x2=\"670.5\" y1=\"78.9375\" y2=\"78.9375\"/></a><!--MD5=[ebbe1d658d1005bcc118a6aa81145e00]\n",
       "class E4--><a href=\"psysml:31ea6359-c2ac-42c4-9008-615ad8ad058c\" target=\"_top\" title=\"psysml:31ea6359-c2ac-42c4-9008-615ad8ad058c\" xlink:actuate=\"onRequest\" xlink:href=\"psysml:31ea6359-c2ac-42c4-9008-615ad8ad058c\" xlink:show=\"new\" xlink:title=\"psysml:31ea6359-c2ac-42c4-9008-615ad8ad058c\" xlink:type=\"simple\"><rect fill=\"#FFFFFF\" height=\"45.9375\" id=\"E4\" style=\"stroke: #383838; stroke-width: 1.5;\" width=\"108\" x=\"457\" y=\"41\"/><text fill=\"#000000\" font-family=\"sans-serif\" font-size=\"12\" font-style=\"italic\" lengthAdjust=\"spacingAndGlyphs\" textLength=\"106\" x=\"458\" y=\"57.1387\">«calculation def»</text><text fill=\"#000000\" font-family=\"sans-serif\" font-size=\"12\" lengthAdjust=\"spacingAndGlyphs\" textLength=\"7\" x=\"507.5\" y=\"71.1074\">F</text><line style=\"stroke: #383838; stroke-width: 1.5;\" x1=\"458\" x2=\"564\" y1=\"78.9375\" y2=\"78.9375\"/></a><!--MD5=[270fce915f116d4de14055a7c1d9a0f3]\n",
       "class E5--><a href=\"psysml:a5af055b-f2ee-4ef1-a486-dc312f464f3e\" target=\"_top\" title=\"psysml:a5af055b-f2ee-4ef1-a486-dc312f464f3e\" xlink:actuate=\"onRequest\" xlink:href=\"psysml:a5af055b-f2ee-4ef1-a486-dc312f464f3e\" xlink:show=\"new\" xlink:title=\"psysml:a5af055b-f2ee-4ef1-a486-dc312f464f3e\" xlink:type=\"simple\"><rect fill=\"#FFFFFF\" height=\"45.9375\" id=\"E5\" rx=\"10\" ry=\"10\" style=\"stroke: #383838; stroke-width: 1.5;\" width=\"71\" x=\"350.5\" y=\"41\"/><text fill=\"#000000\" font-family=\"sans-serif\" font-size=\"12\" font-style=\"italic\" lengthAdjust=\"spacingAndGlyphs\" textLength=\"69\" x=\"351.5\" y=\"57.1387\">«attribute»</text><text fill=\"#000000\" font-family=\"sans-serif\" font-size=\"12\" lengthAdjust=\"spacingAndGlyphs\" textLength=\"4\" x=\"384\" y=\"71.1074\">f</text><line style=\"stroke: #383838; stroke-width: 1.5;\" x1=\"351.5\" x2=\"420.5\" y1=\"78.9375\" y2=\"78.9375\"/></a><!--MD5=[60a26617385b1d2d0262a64233df1f8d]\n",
       "class E6--><a href=\"psysml:63113e1f-55f0-4199-b954-2673a0b317ed\" target=\"_top\" title=\"psysml:63113e1f-55f0-4199-b954-2673a0b317ed\" xlink:actuate=\"onRequest\" xlink:href=\"psysml:63113e1f-55f0-4199-b954-2673a0b317ed\" xlink:show=\"new\" xlink:title=\"psysml:63113e1f-55f0-4199-b954-2673a0b317ed\" xlink:type=\"simple\"><rect fill=\"#FFFFFF\" height=\"45.9375\" id=\"E6\" rx=\"10\" ry=\"10\" style=\"stroke: #383838; stroke-width: 1.5;\" width=\"71\" x=\"244.5\" y=\"41\"/><text fill=\"#000000\" font-family=\"sans-serif\" font-size=\"12\" font-style=\"italic\" lengthAdjust=\"spacingAndGlyphs\" textLength=\"69\" x=\"245.5\" y=\"57.1387\">«attribute»</text><text fill=\"#000000\" font-family=\"sans-serif\" font-size=\"12\" lengthAdjust=\"spacingAndGlyphs\" textLength=\"8\" x=\"276\" y=\"71.1074\">g</text><line style=\"stroke: #383838; stroke-width: 1.5;\" x1=\"245.5\" x2=\"314.5\" y1=\"78.9375\" y2=\"78.9375\"/></a><!--MD5=[2156ba9850f5573cc1fc38a6a4b2f02b]\n",
       "class E7--><a href=\"psysml:537e328f-e5cc-426a-9b09-8cf3e436744c\" target=\"_top\" title=\"psysml:537e328f-e5cc-426a-9b09-8cf3e436744c\" xlink:actuate=\"onRequest\" xlink:href=\"psysml:537e328f-e5cc-426a-9b09-8cf3e436744c\" xlink:show=\"new\" xlink:title=\"psysml:537e328f-e5cc-426a-9b09-8cf3e436744c\" xlink:type=\"simple\"><rect fill=\"#FFFFFF\" height=\"45.9375\" id=\"E7\" rx=\"10\" ry=\"10\" style=\"stroke: #383838; stroke-width: 1.5;\" width=\"71\" x=\"138.5\" y=\"41\"/><text fill=\"#000000\" font-family=\"sans-serif\" font-size=\"12\" font-style=\"italic\" lengthAdjust=\"spacingAndGlyphs\" textLength=\"69\" x=\"139.5\" y=\"57.1387\">«attribute»</text><text fill=\"#000000\" font-family=\"sans-serif\" font-size=\"12\" lengthAdjust=\"spacingAndGlyphs\" textLength=\"8\" x=\"170\" y=\"71.1074\">b</text><line style=\"stroke: #383838; stroke-width: 1.5;\" x1=\"139.5\" x2=\"208.5\" y1=\"78.9375\" y2=\"78.9375\"/></a><!--MD5=[b9389687b975829384b498ac4b7476b2]\n",
       "class E8--><a href=\"psysml:2b35c468-a57b-4dfd-a90f-3e1de4d6204b\" target=\"_top\" title=\"psysml:2b35c468-a57b-4dfd-a90f-3e1de4d6204b\" xlink:actuate=\"onRequest\" xlink:href=\"psysml:2b35c468-a57b-4dfd-a90f-3e1de4d6204b\" xlink:show=\"new\" xlink:title=\"psysml:2b35c468-a57b-4dfd-a90f-3e1de4d6204b\" xlink:type=\"simple\"><rect fill=\"#FFFFFF\" height=\"45.9375\" id=\"E8\" rx=\"10\" ry=\"10\" style=\"stroke: #383838; stroke-width: 1.5;\" width=\"71\" x=\"32.5\" y=\"41\"/><text fill=\"#000000\" font-family=\"sans-serif\" font-size=\"12\" font-style=\"italic\" lengthAdjust=\"spacingAndGlyphs\" textLength=\"69\" x=\"33.5\" y=\"57.1387\">«attribute»</text><text fill=\"#000000\" font-family=\"sans-serif\" font-size=\"12\" lengthAdjust=\"spacingAndGlyphs\" textLength=\"7\" x=\"64.5\" y=\"71.1074\">c</text><line style=\"stroke: #383838; stroke-width: 1.5;\" x1=\"33.5\" x2=\"102.5\" y1=\"78.9375\" y2=\"78.9375\"/></a><!--MD5=[05d275557350bfb9b23a4ef7222b4c39]\n",
       "link E3 to E2--><a href=\"psysml:50b306d4-0f13-410b-aa85-567dae9acdd8\" target=\"_top\" title=\"psysml:50b306d4-0f13-410b-aa85-567dae9acdd8\" xlink:actuate=\"onRequest\" xlink:href=\"psysml:50b306d4-0f13-410b-aa85-567dae9acdd8\" xlink:show=\"new\" xlink:title=\"psysml:50b306d4-0f13-410b-aa85-567dae9acdd8\" xlink:type=\"simple\"><path d=\"M621.94,87.19 C611.77,103.23 597.51,125.73 584.09,146.9 \" fill=\"none\" id=\"E3-&gt;E2\" style=\"stroke: #383838; stroke-width: 1.0;\"/><polygon fill=\"#FFFFFF\" points=\"573.37,163.82,577.6195,144.0225,589.448,151.5115,573.37,163.82\" style=\"stroke: #383838; stroke-width: 1.0;\"/><ellipse cx=\"582.3584\" cy=\"140.2764\" fill=\"#383838\" rx=\"2\" ry=\"2\" style=\"stroke: #383838; stroke-width: 1.0;\"/><ellipse cx=\"590.8073\" cy=\"145.6258\" fill=\"#383838\" rx=\"2\" ry=\"2\" style=\"stroke: #383838; stroke-width: 1.0;\"/></a><!--MD5=[ddeed8deb2209213b62e6cfabaa108b2]\n",
       "reverse link E4 to E2--><a href=\"psysml:c5b3d96c-9fe7-4ab4-b771-6776a88b0ad4\" target=\"_top\" title=\"psysml:c5b3d96c-9fe7-4ab4-b771-6776a88b0ad4\" xlink:actuate=\"onRequest\" xlink:href=\"psysml:c5b3d96c-9fe7-4ab4-b771-6776a88b0ad4\" xlink:show=\"new\" xlink:title=\"psysml:c5b3d96c-9fe7-4ab4-b771-6776a88b0ad4\" xlink:type=\"simple\"><path d=\"M519.62,99.96 C524.37,119.25 530.31,143.36 535.36,163.82 \" fill=\"none\" id=\"E4&lt;-E2\" style=\"stroke: #383838; stroke-width: 1.0;\"/><polygon fill=\"#FFFFFF\" points=\"516.47,87.19,514.0229,93.9732,519.3432,98.841,521.7903,92.0577,516.47,87.19\" style=\"stroke: #383838; stroke-width: 1.0;\"/><text fill=\"#000000\" font-family=\"sans-serif\" font-size=\"13\" lengthAdjust=\"spacingAndGlyphs\" textLength=\"8\" x=\"528\" y=\"130.0669\">p</text></a><!--MD5=[491277e2935cfda89b50ca6d6d6461b8]\n",
       "@startuml\r\n",
       "skinparam monochrome true\r\n",
       "skinparam classbackgroundcolor white\r\n",
       "skinparam shadowing false\r\n",
       "skinparam wrapWidth 300\r\n",
       "hide circle\r\n",
       "\r\n",
       "package \"ParameterTest\" as E1  [[psysml:c7000c50-df42-41d3-9ba9-36eed14db093 ]]  {\r\n",
       "comp def \"A\" as E2  <<(T,blue)attribute def>> [[psysml:cb02a2ee-bdc8-478c-9636-92278b567e26 ]] {\r\n",
       "- - attributes - -\r\n",
       "x: String\r\n",
       "y: A\r\n",
       "}\r\n",
       "comp usage \"a: A\" as E3  <<(T,blue)attribute>> [[psysml:50ebccda-29a4-4ea8-943d-69f99c07f732 ]] {\r\n",
       "}\r\n",
       "comp def \"F\" as E4  <<(T,blue)calculation def>> [[psysml:31ea6359-c2ac-42c4-9008-615ad8ad058c ]] {\r\n",
       "}\r\n",
       "comp usage \"f\" as E5  <<(T,blue)attribute>> [[psysml:a5af055b-f2ee-4ef1-a486-dc312f464f3e ]] {\r\n",
       "}\r\n",
       "comp usage \"g\" as E6  <<(T,blue)attribute>> [[psysml:63113e1f-55f0-4199-b954-2673a0b317ed ]] {\r\n",
       "}\r\n",
       "comp usage \"b\" as E7  <<(T,blue)attribute>> [[psysml:537e328f-e5cc-426a-9b09-8cf3e436744c ]] {\r\n",
       "}\r\n",
       "comp usage \"c\" as E8  <<(T,blue)attribute>> [[psysml:2b35c468-a57b-4dfd-a90f-3e1de4d6204b ]] {\r\n",
       "}\r\n",
       "E3 - -:|> E2 [[psysml:50b306d4-0f13-410b-aa85-567dae9acdd8 ]] \r\n",
       "E4 o- - E2 [[psysml:c5b3d96c-9fe7-4ab4-b771-6776a88b0ad4 ]] : p\r\n",
       "}\r\n",
       "@enduml\r\n",
       "\n",
       "PlantUML version 1.2020.13(Sat Jun 13 12:26:38 UTC 2020)\n",
       "(EPL source distribution)\n",
       "Java Runtime: OpenJDK Runtime Environment\n",
       "JVM: OpenJDK 64-Bit Server VM\n",
       "Default Encoding: UTF-8\n",
       "Language: en\n",
       "Country: null\n",
       "--></g></svg>"
      ]
     },
     "execution_count": 38,
     "metadata": {},
     "output_type": "execute_result"
    }
   ],
   "source": [
    "%viz --style=\"DEFAULT\" --view=\"Tree\" \"ParameterTest\""
   ]
  },
  {
   "cell_type": "code",
   "execution_count": 39,
   "id": "hungry-chinese",
   "metadata": {
    "execution": {
     "iopub.execute_input": "2021-03-25T15:03:17.456628Z",
     "iopub.status.busy": "2021-03-25T15:03:17.456140Z",
     "iopub.status.idle": "2021-03-25T15:03:17.463512Z",
     "shell.execute_reply": "2021-03-25T15:03:17.463156Z"
    }
   },
   "outputs": [
    {
     "data": {
      "image/svg+xml": [
       "<?xml version=\"1.0\" encoding=\"UTF-8\" standalone=\"no\"?><svg xmlns=\"http://www.w3.org/2000/svg\" xmlns:xlink=\"http://www.w3.org/1999/xlink\" contentScriptType=\"application/ecmascript\" contentStyleType=\"text/css\" height=\"12px\" preserveAspectRatio=\"none\" style=\"width:12px;height:12px;\" version=\"1.1\" viewBox=\"0 0 12 12\" width=\"12px\" zoomAndPan=\"magnify\"><defs/><g><!--MD5=[c5f280e076d0d61ccf4b0f27871bda1d]\n",
       "@startuml\r\n",
       "skinparam monochrome true\r\n",
       "skinparam classbackgroundcolor white\r\n",
       "skinparam shadowing false\r\n",
       "skinparam wrapWidth 300\r\n",
       "hide circle\r\n",
       "\r\n",
       "@enduml\r\n",
       "\n",
       "PlantUML version 1.2020.13(Sat Jun 13 12:26:38 UTC 2020)\n",
       "(EPL source distribution)\n",
       "Java Runtime: OpenJDK Runtime Environment\n",
       "JVM: OpenJDK 64-Bit Server VM\n",
       "Default Encoding: UTF-8\n",
       "Language: en\n",
       "Country: null\n",
       "--></g></svg>"
      ]
     },
     "execution_count": 39,
     "metadata": {},
     "output_type": "execute_result"
    }
   ],
   "source": [
    "%viz --style=\"DEFAULT\" --view=\"State\" \"ParameterTest\""
   ]
  },
  {
   "cell_type": "code",
   "execution_count": 40,
   "id": "handmade-entity",
   "metadata": {
    "execution": {
     "iopub.execute_input": "2021-03-25T15:03:17.515688Z",
     "iopub.status.busy": "2021-03-25T15:03:17.514901Z",
     "iopub.status.idle": "2021-03-25T15:03:17.605504Z",
     "shell.execute_reply": "2021-03-25T15:03:17.604030Z"
    }
   },
   "outputs": [
    {
     "data": {
      "image/svg+xml": [
       "<?xml version=\"1.0\" encoding=\"UTF-8\" standalone=\"no\"?><svg xmlns=\"http://www.w3.org/2000/svg\" xmlns:xlink=\"http://www.w3.org/1999/xlink\" contentScriptType=\"application/ecmascript\" contentStyleType=\"text/css\" height=\"123px\" preserveAspectRatio=\"none\" style=\"width:960px;height:123px;\" version=\"1.1\" viewBox=\"0 0 960 123\" width=\"960px\" zoomAndPan=\"magnify\"><defs/><g><!--MD5=[fbc87193dbaf4d95561dea2c320d4a47]\n",
       "cluster E1--><a href=\"psysml:c7000c50-df42-41d3-9ba9-36eed14db093\" target=\"_top\" title=\"psysml:c7000c50-df42-41d3-9ba9-36eed14db093\" xlink:actuate=\"onRequest\" xlink:href=\"psysml:c7000c50-df42-41d3-9ba9-36eed14db093\" xlink:show=\"new\" xlink:title=\"psysml:c7000c50-df42-41d3-9ba9-36eed14db093\" xlink:type=\"simple\"><polygon fill=\"#FFFFFF\" points=\"16,6,139,6,146,28.2969,938,28.2969,938,111,16,111,16,6\" style=\"stroke: #000000; stroke-width: 1.5;\"/><line style=\"stroke: #000000; stroke-width: 1.5;\" x1=\"16\" x2=\"146\" y1=\"28.2969\" y2=\"28.2969\"/><text fill=\"#000000\" font-family=\"sans-serif\" font-size=\"14\" font-weight=\"bold\" lengthAdjust=\"spacingAndGlyphs\" textLength=\"117\" x=\"20\" y=\"20.9951\">ParameterTest</text></a><!--MD5=[b4997ac47864f28c2f74865a473b2911]\n",
       "class E2--><a href=\"psysml:cb02a2ee-bdc8-478c-9636-92278b567e26\" target=\"_top\" title=\"psysml:cb02a2ee-bdc8-478c-9636-92278b567e26\" xlink:actuate=\"onRequest\" xlink:href=\"psysml:cb02a2ee-bdc8-478c-9636-92278b567e26\" xlink:show=\"new\" xlink:title=\"psysml:cb02a2ee-bdc8-478c-9636-92278b567e26\" xlink:type=\"simple\"><rect fill=\"#FFFFFF\" height=\"53.9375\" id=\"E2\" style=\"stroke: #383838; stroke-width: 1.5;\" width=\"143\" x=\"778.5\" y=\"41\"/><text fill=\"#000000\" font-family=\"sans-serif\" font-size=\"12\" font-style=\"italic\" lengthAdjust=\"spacingAndGlyphs\" textLength=\"141\" x=\"779.5\" y=\"57.1387\">«(T,blue)attribute def»</text><text fill=\"#000000\" font-family=\"sans-serif\" font-size=\"12\" lengthAdjust=\"spacingAndGlyphs\" textLength=\"8\" x=\"846\" y=\"71.1074\">A</text><line style=\"stroke: #383838; stroke-width: 1.5;\" x1=\"779.5\" x2=\"920.5\" y1=\"78.9375\" y2=\"78.9375\"/><line style=\"stroke: #383838; stroke-width: 1.5;\" x1=\"779.5\" x2=\"920.5\" y1=\"86.9375\" y2=\"86.9375\"/></a><!--MD5=[ebbe1d658d1005bcc118a6aa81145e00]\n",
       "class E4--><a href=\"psysml:31ea6359-c2ac-42c4-9008-615ad8ad058c\" target=\"_top\" title=\"psysml:31ea6359-c2ac-42c4-9008-615ad8ad058c\" xlink:actuate=\"onRequest\" xlink:href=\"psysml:31ea6359-c2ac-42c4-9008-615ad8ad058c\" xlink:show=\"new\" xlink:title=\"psysml:31ea6359-c2ac-42c4-9008-615ad8ad058c\" xlink:type=\"simple\"><rect fill=\"#FFFFFF\" height=\"53.9375\" id=\"E4\" style=\"stroke: #383838; stroke-width: 1.5;\" width=\"156\" x=\"587\" y=\"41\"/><text fill=\"#000000\" font-family=\"sans-serif\" font-size=\"12\" font-style=\"italic\" lengthAdjust=\"spacingAndGlyphs\" textLength=\"154\" x=\"588\" y=\"57.1387\">«(T,blue)calculation def»</text><text fill=\"#000000\" font-family=\"sans-serif\" font-size=\"12\" lengthAdjust=\"spacingAndGlyphs\" textLength=\"7\" x=\"661.5\" y=\"71.1074\">F</text><line style=\"stroke: #383838; stroke-width: 1.5;\" x1=\"588\" x2=\"742\" y1=\"78.9375\" y2=\"78.9375\"/><line style=\"stroke: #383838; stroke-width: 1.5;\" x1=\"588\" x2=\"742\" y1=\"86.9375\" y2=\"86.9375\"/></a><g id=\"E1.E3\"><a href=\"psysml:50ebccda-29a4-4ea8-943d-69f99c07f732\" target=\"_top\" title=\"psysml:50ebccda-29a4-4ea8-943d-69f99c07f732\" xlink:actuate=\"onRequest\" xlink:href=\"psysml:50ebccda-29a4-4ea8-943d-69f99c07f732\" xlink:show=\"new\" xlink:title=\"psysml:50ebccda-29a4-4ea8-943d-69f99c07f732\" xlink:type=\"simple\"><rect fill=\"#FFFFFF\" height=\"42.9375\" id=\"E3\" rx=\"10\" ry=\"10\" style=\"stroke: #383838; stroke-width: 1.5;\" width=\"76\" x=\"476\" y=\"46.5\"/><rect fill=\"#F8F8F8\" height=\"37.9375\" rx=\"10\" ry=\"10\" style=\"stroke: #F8F8F8; stroke-width: 1.5;\" width=\"76\" x=\"476\" y=\"46.5\"/><rect fill=\"#F8F8F8\" height=\"10\" style=\"stroke: #F8F8F8; stroke-width: 1.5;\" width=\"76\" x=\"476\" y=\"74.4375\"/><rect fill=\"none\" height=\"42.9375\" id=\"E3\" rx=\"10\" ry=\"10\" style=\"stroke: #383838; stroke-width: 1.5;\" width=\"76\" x=\"476\" y=\"46.5\"/><text fill=\"#000000\" font-family=\"sans-serif\" font-size=\"12\" font-style=\"italic\" lengthAdjust=\"spacingAndGlyphs\" textLength=\"69\" x=\"479.5\" y=\"62.6387\">«attribute»</text><text fill=\"#000000\" font-family=\"sans-serif\" font-size=\"12\" lengthAdjust=\"spacingAndGlyphs\" textLength=\"24\" x=\"502\" y=\"76.6074\">a: A</text></a></g><g id=\"E1.E5\"><a href=\"psysml:a5af055b-f2ee-4ef1-a486-dc312f464f3e\" target=\"_top\" title=\"psysml:a5af055b-f2ee-4ef1-a486-dc312f464f3e\" xlink:actuate=\"onRequest\" xlink:href=\"psysml:a5af055b-f2ee-4ef1-a486-dc312f464f3e\" xlink:show=\"new\" xlink:title=\"psysml:a5af055b-f2ee-4ef1-a486-dc312f464f3e\" xlink:type=\"simple\"><rect fill=\"#FFFFFF\" height=\"42.9375\" id=\"E5\" rx=\"10\" ry=\"10\" style=\"stroke: #383838; stroke-width: 1.5;\" width=\"76\" x=\"365\" y=\"46.5\"/><rect fill=\"#F8F8F8\" height=\"37.9375\" rx=\"10\" ry=\"10\" style=\"stroke: #F8F8F8; stroke-width: 1.5;\" width=\"76\" x=\"365\" y=\"46.5\"/><rect fill=\"#F8F8F8\" height=\"10\" style=\"stroke: #F8F8F8; stroke-width: 1.5;\" width=\"76\" x=\"365\" y=\"74.4375\"/><rect fill=\"none\" height=\"42.9375\" id=\"E5\" rx=\"10\" ry=\"10\" style=\"stroke: #383838; stroke-width: 1.5;\" width=\"76\" x=\"365\" y=\"46.5\"/><text fill=\"#000000\" font-family=\"sans-serif\" font-size=\"12\" font-style=\"italic\" lengthAdjust=\"spacingAndGlyphs\" textLength=\"69\" x=\"368.5\" y=\"62.6387\">«attribute»</text><text fill=\"#000000\" font-family=\"sans-serif\" font-size=\"12\" lengthAdjust=\"spacingAndGlyphs\" textLength=\"4\" x=\"401\" y=\"76.6074\">f</text></a></g><g id=\"E1.E6\"><a href=\"psysml:63113e1f-55f0-4199-b954-2673a0b317ed\" target=\"_top\" title=\"psysml:63113e1f-55f0-4199-b954-2673a0b317ed\" xlink:actuate=\"onRequest\" xlink:href=\"psysml:63113e1f-55f0-4199-b954-2673a0b317ed\" xlink:show=\"new\" xlink:title=\"psysml:63113e1f-55f0-4199-b954-2673a0b317ed\" xlink:type=\"simple\"><rect fill=\"#FFFFFF\" height=\"42.9375\" id=\"E6\" rx=\"10\" ry=\"10\" style=\"stroke: #383838; stroke-width: 1.5;\" width=\"76\" x=\"254\" y=\"46.5\"/><rect fill=\"#F8F8F8\" height=\"37.9375\" rx=\"10\" ry=\"10\" style=\"stroke: #F8F8F8; stroke-width: 1.5;\" width=\"76\" x=\"254\" y=\"46.5\"/><rect fill=\"#F8F8F8\" height=\"10\" style=\"stroke: #F8F8F8; stroke-width: 1.5;\" width=\"76\" x=\"254\" y=\"74.4375\"/><rect fill=\"none\" height=\"42.9375\" id=\"E6\" rx=\"10\" ry=\"10\" style=\"stroke: #383838; stroke-width: 1.5;\" width=\"76\" x=\"254\" y=\"46.5\"/><text fill=\"#000000\" font-family=\"sans-serif\" font-size=\"12\" font-style=\"italic\" lengthAdjust=\"spacingAndGlyphs\" textLength=\"69\" x=\"257.5\" y=\"62.6387\">«attribute»</text><text fill=\"#000000\" font-family=\"sans-serif\" font-size=\"12\" lengthAdjust=\"spacingAndGlyphs\" textLength=\"8\" x=\"288\" y=\"76.6074\">g</text></a></g><g id=\"E1.E7\"><a href=\"psysml:537e328f-e5cc-426a-9b09-8cf3e436744c\" target=\"_top\" title=\"psysml:537e328f-e5cc-426a-9b09-8cf3e436744c\" xlink:actuate=\"onRequest\" xlink:href=\"psysml:537e328f-e5cc-426a-9b09-8cf3e436744c\" xlink:show=\"new\" xlink:title=\"psysml:537e328f-e5cc-426a-9b09-8cf3e436744c\" xlink:type=\"simple\"><rect fill=\"#FFFFFF\" height=\"42.9375\" id=\"E7\" rx=\"10\" ry=\"10\" style=\"stroke: #383838; stroke-width: 1.5;\" width=\"76\" x=\"143\" y=\"46.5\"/><rect fill=\"#F8F8F8\" height=\"37.9375\" rx=\"10\" ry=\"10\" style=\"stroke: #F8F8F8; stroke-width: 1.5;\" width=\"76\" x=\"143\" y=\"46.5\"/><rect fill=\"#F8F8F8\" height=\"10\" style=\"stroke: #F8F8F8; stroke-width: 1.5;\" width=\"76\" x=\"143\" y=\"74.4375\"/><rect fill=\"none\" height=\"42.9375\" id=\"E7\" rx=\"10\" ry=\"10\" style=\"stroke: #383838; stroke-width: 1.5;\" width=\"76\" x=\"143\" y=\"46.5\"/><text fill=\"#000000\" font-family=\"sans-serif\" font-size=\"12\" font-style=\"italic\" lengthAdjust=\"spacingAndGlyphs\" textLength=\"69\" x=\"146.5\" y=\"62.6387\">«attribute»</text><text fill=\"#000000\" font-family=\"sans-serif\" font-size=\"12\" lengthAdjust=\"spacingAndGlyphs\" textLength=\"8\" x=\"177\" y=\"76.6074\">b</text></a></g><g id=\"E1.E8\"><a href=\"psysml:2b35c468-a57b-4dfd-a90f-3e1de4d6204b\" target=\"_top\" title=\"psysml:2b35c468-a57b-4dfd-a90f-3e1de4d6204b\" xlink:actuate=\"onRequest\" xlink:href=\"psysml:2b35c468-a57b-4dfd-a90f-3e1de4d6204b\" xlink:show=\"new\" xlink:title=\"psysml:2b35c468-a57b-4dfd-a90f-3e1de4d6204b\" xlink:type=\"simple\"><rect fill=\"#FFFFFF\" height=\"42.9375\" id=\"E8\" rx=\"10\" ry=\"10\" style=\"stroke: #383838; stroke-width: 1.5;\" width=\"76\" x=\"32\" y=\"46.5\"/><rect fill=\"#F8F8F8\" height=\"37.9375\" rx=\"10\" ry=\"10\" style=\"stroke: #F8F8F8; stroke-width: 1.5;\" width=\"76\" x=\"32\" y=\"46.5\"/><rect fill=\"#F8F8F8\" height=\"10\" style=\"stroke: #F8F8F8; stroke-width: 1.5;\" width=\"76\" x=\"32\" y=\"74.4375\"/><rect fill=\"none\" height=\"42.9375\" id=\"E8\" rx=\"10\" ry=\"10\" style=\"stroke: #383838; stroke-width: 1.5;\" width=\"76\" x=\"32\" y=\"46.5\"/><text fill=\"#000000\" font-family=\"sans-serif\" font-size=\"12\" font-style=\"italic\" lengthAdjust=\"spacingAndGlyphs\" textLength=\"69\" x=\"35.5\" y=\"62.6387\">«attribute»</text><text fill=\"#000000\" font-family=\"sans-serif\" font-size=\"12\" lengthAdjust=\"spacingAndGlyphs\" textLength=\"7\" x=\"66.5\" y=\"76.6074\">c</text></a></g><!--MD5=[1b5621ad99cb044b58f15d52c40d312c]\n",
       "@startuml\r\n",
       "skinparam ranksep 8\r\n",
       "skinparam rectangle {\r\n",
       " backgroundColor<<block>> LightGreen\r\n",
       "}\r\n",
       "skinparam monochrome true\r\n",
       "skinparam classbackgroundcolor white\r\n",
       "skinparam shadowing false\r\n",
       "skinparam wrapWidth 300\r\n",
       "hide circle\r\n",
       "\r\n",
       "package \"ParameterTest\" as E1  [[psysml:c7000c50-df42-41d3-9ba9-36eed14db093 ]]  {\r\n",
       "def \"A\" as E2  <<(T,blue)attribute def>> [[psysml:cb02a2ee-bdc8-478c-9636-92278b567e26 ]] \r\n",
       "rec usage \"a: A\" as E3  <<(T,blue)attribute>> [[psysml:50ebccda-29a4-4ea8-943d-69f99c07f732 ]] {\r\n",
       "}\r\n",
       "def \"F\" as E4  <<(T,blue)calculation def>> [[psysml:31ea6359-c2ac-42c4-9008-615ad8ad058c ]] \r\n",
       "rec usage \"f\" as E5  <<(T,blue)attribute>> [[psysml:a5af055b-f2ee-4ef1-a486-dc312f464f3e ]] {\r\n",
       "}\r\n",
       "rec usage \"g\" as E6  <<(T,blue)attribute>> [[psysml:63113e1f-55f0-4199-b954-2673a0b317ed ]] {\r\n",
       "}\r\n",
       "rec usage \"b\" as E7  <<(T,blue)attribute>> [[psysml:537e328f-e5cc-426a-9b09-8cf3e436744c ]] {\r\n",
       "}\r\n",
       "rec usage \"c\" as E8  <<(T,blue)attribute>> [[psysml:2b35c468-a57b-4dfd-a90f-3e1de4d6204b ]] {\r\n",
       "}\r\n",
       "}\r\n",
       "@enduml\r\n",
       "\n",
       "PlantUML version 1.2020.13(Sat Jun 13 12:26:38 UTC 2020)\n",
       "(EPL source distribution)\n",
       "Java Runtime: OpenJDK Runtime Environment\n",
       "JVM: OpenJDK 64-Bit Server VM\n",
       "Default Encoding: UTF-8\n",
       "Language: en\n",
       "Country: null\n",
       "--></g></svg>"
      ]
     },
     "execution_count": 40,
     "metadata": {},
     "output_type": "execute_result"
    }
   ],
   "source": [
    "%viz --style=\"DEFAULT\" --view=\"Interconnection\" \"ParameterTest\""
   ]
  },
  {
   "cell_type": "code",
   "execution_count": 41,
   "id": "sized-uruguay",
   "metadata": {
    "execution": {
     "iopub.execute_input": "2021-03-25T15:03:17.655219Z",
     "iopub.status.busy": "2021-03-25T15:03:17.654747Z",
     "iopub.status.idle": "2021-03-25T15:03:17.713204Z",
     "shell.execute_reply": "2021-03-25T15:03:17.713565Z"
    }
   },
   "outputs": [
    {
     "data": {
      "image/svg+xml": [
       "<?xml version=\"1.0\" encoding=\"UTF-8\" standalone=\"no\"?><svg xmlns=\"http://www.w3.org/2000/svg\" xmlns:xlink=\"http://www.w3.org/1999/xlink\" contentScriptType=\"application/ecmascript\" contentStyleType=\"text/css\" height=\"126px\" preserveAspectRatio=\"none\" style=\"width:166px;height:126px;\" version=\"1.1\" viewBox=\"0 0 166 126\" width=\"166px\" zoomAndPan=\"magnify\"><defs/><g><!--MD5=[fbc87193dbaf4d95561dea2c320d4a47]\n",
       "cluster E1--><a href=\"psysml:31ea6359-c2ac-42c4-9008-615ad8ad058c\" target=\"_top\" title=\"psysml:31ea6359-c2ac-42c4-9008-615ad8ad058c\" xlink:actuate=\"onRequest\" xlink:href=\"psysml:31ea6359-c2ac-42c4-9008-615ad8ad058c\" xlink:show=\"new\" xlink:title=\"psysml:31ea6359-c2ac-42c4-9008-615ad8ad058c\" xlink:type=\"simple\"><rect fill=\"#FFFFFF\" height=\"73\" id=\"E1\" style=\"stroke: #383838; stroke-width: 1.5;\" width=\"148\" x=\"7\" y=\"42.0986\"/><rect fill=\"#F8F8F8\" height=\"37.9375\" style=\"stroke: #383838; stroke-width: 1.5;\" width=\"148\" x=\"7\" y=\"42.0986\"/><text fill=\"#000000\" font-family=\"sans-serif\" font-size=\"12\" font-style=\"italic\" lengthAdjust=\"spacingAndGlyphs\" textLength=\"106\" x=\"28\" y=\"58.2373\">«calculation def»</text><text fill=\"#000000\" font-family=\"sans-serif\" font-size=\"12\" lengthAdjust=\"spacingAndGlyphs\" textLength=\"7\" x=\"77.5\" y=\"72.2061\">F</text></a><text fill=\"#000000\" font-family=\"sans-serif\" font-size=\"14\" lengthAdjust=\"spacingAndGlyphs\" textLength=\"9\" x=\"20.5\" y=\"20.7969\">p</text><rect fill=\"#383838\" height=\"12\" style=\"stroke: #F8F8F8; stroke-width: 1.5;\" width=\"12\" x=\"19\" y=\"36.0986\"/><text fill=\"#000000\" font-family=\"sans-serif\" font-size=\"14\" lengthAdjust=\"spacingAndGlyphs\" textLength=\"9\" x=\"67.5\" y=\"20.7969\">q</text><rect fill=\"#383838\" height=\"12\" style=\"stroke: #F8F8F8; stroke-width: 1.5;\" width=\"12\" x=\"66\" y=\"36.0986\"/><!--MD5=[c4bf4f54d9f639ae22494b77b06ed001]\n",
       "@startuml\r\n",
       "skinparam ranksep 8\r\n",
       "skinparam monochrome true\r\n",
       "skinparam classbackgroundcolor white\r\n",
       "skinparam shadowing false\r\n",
       "skinparam wrapWidth 300\r\n",
       "hide circle\r\n",
       "\r\n",
       "rec def \"F\" as E1  <<(T,blue)calculation def>> [[psysml:31ea6359-c2ac-42c4-9008-615ad8ad058c ]] {\r\n",
       "portin \"p\" as E2  [[psysml:c5b3d96c-9fe7-4ab4-b771-6776a88b0ad4 ]] \r\n",
       "portin \"q\" as E3  [[psysml:66adf659-8704-40ab-88b3-19d2477512b1 ]] \r\n",
       "}\r\n",
       "\r\n",
       "@enduml\r\n",
       "\n",
       "PlantUML version 1.2020.13(Sat Jun 13 12:26:38 UTC 2020)\n",
       "(EPL source distribution)\n",
       "Java Runtime: OpenJDK Runtime Environment\n",
       "JVM: OpenJDK 64-Bit Server VM\n",
       "Default Encoding: UTF-8\n",
       "Language: en\n",
       "Country: null\n",
       "--></g></svg>"
      ]
     },
     "execution_count": 41,
     "metadata": {},
     "output_type": "execute_result"
    }
   ],
   "source": [
    "%viz --style=\"DEFAULT\" --view=\"Action\" \"ParameterTest\""
   ]
  },
  {
   "cell_type": "code",
   "execution_count": 42,
   "id": "valued-hostel",
   "metadata": {
    "execution": {
     "iopub.execute_input": "2021-03-25T15:03:17.767108Z",
     "iopub.status.busy": "2021-03-25T15:03:17.766288Z",
     "iopub.status.idle": "2021-03-25T15:03:18.028061Z",
     "shell.execute_reply": "2021-03-25T15:03:18.028452Z"
    }
   },
   "outputs": [
    {
     "data": {
      "image/svg+xml": [
       "<?xml version=\"1.0\" encoding=\"UTF-8\" standalone=\"no\"?><svg xmlns=\"http://www.w3.org/2000/svg\" xmlns:xlink=\"http://www.w3.org/1999/xlink\" contentScriptType=\"application/ecmascript\" contentStyleType=\"text/css\" height=\"280px\" preserveAspectRatio=\"none\" style=\"width:710px;height:280px;\" version=\"1.1\" viewBox=\"0 0 710 280\" width=\"710px\" zoomAndPan=\"magnify\"><defs/><g><!--MD5=[fbc87193dbaf4d95561dea2c320d4a47]\n",
       "cluster E1--><a href=\"psysml:c7000c50-df42-41d3-9ba9-36eed14db093\" target=\"_top\" title=\"psysml:c7000c50-df42-41d3-9ba9-36eed14db093\" xlink:actuate=\"onRequest\" xlink:href=\"psysml:c7000c50-df42-41d3-9ba9-36eed14db093\" xlink:show=\"new\" xlink:title=\"psysml:c7000c50-df42-41d3-9ba9-36eed14db093\" xlink:type=\"simple\"><polygon fill=\"#FFFFFF\" points=\"16,6,139,6,146,28.2969,688,28.2969,688,268,16,268,16,6\" style=\"stroke: #000000; stroke-width: 1.5;\"/><line style=\"stroke: #000000; stroke-width: 1.5;\" x1=\"16\" x2=\"146\" y1=\"28.2969\" y2=\"28.2969\"/><text fill=\"#000000\" font-family=\"sans-serif\" font-size=\"14\" font-weight=\"bold\" lengthAdjust=\"spacingAndGlyphs\" textLength=\"117\" x=\"20\" y=\"20.9951\">ParameterTest</text></a><!--MD5=[b4997ac47864f28c2f74865a473b2911]\n",
       "class E2--><a href=\"psysml:cb02a2ee-bdc8-478c-9636-92278b567e26\" target=\"_top\" title=\"psysml:cb02a2ee-bdc8-478c-9636-92278b567e26\" xlink:actuate=\"onRequest\" xlink:href=\"psysml:cb02a2ee-bdc8-478c-9636-92278b567e26\" xlink:show=\"new\" xlink:title=\"psysml:cb02a2ee-bdc8-478c-9636-92278b567e26\" xlink:type=\"simple\"><rect fill=\"#FFFFFF\" height=\"88.3516\" id=\"E2\" style=\"stroke: #383838; stroke-width: 1.5;\" width=\"95\" x=\"498.5\" y=\"164\"/><text fill=\"#000000\" font-family=\"sans-serif\" font-size=\"12\" font-style=\"italic\" lengthAdjust=\"spacingAndGlyphs\" textLength=\"93\" x=\"499.5\" y=\"180.1387\">«attribute def»</text><text fill=\"#000000\" font-family=\"sans-serif\" font-size=\"12\" lengthAdjust=\"spacingAndGlyphs\" textLength=\"8\" x=\"542\" y=\"194.1074\">A</text><line style=\"stroke: #383838; stroke-width: 1.5;\" x1=\"499.5\" x2=\"592.5\" y1=\"201.9375\" y2=\"201.9375\"/><text fill=\"#000000\" font-family=\"sans-serif\" font-size=\"11\" lengthAdjust=\"spacingAndGlyphs\" textLength=\"48\" x=\"504.5\" y=\"232.9526\">x: String</text><text fill=\"#000000\" font-family=\"sans-serif\" font-size=\"11\" lengthAdjust=\"spacingAndGlyphs\" textLength=\"21\" x=\"504.5\" y=\"245.7573\">y: A</text><line style=\"stroke: #383838; stroke-width: 1.0;\" x1=\"499.5\" x2=\"518.5\" y1=\"216.3398\" y2=\"216.3398\"/><text fill=\"#000000\" font-family=\"sans-serif\" font-size=\"11\" lengthAdjust=\"spacingAndGlyphs\" textLength=\"55\" x=\"518.5\" y=\"219.6479\">attributes</text><line style=\"stroke: #383838; stroke-width: 1.0;\" x1=\"573.5\" x2=\"592.5\" y1=\"216.3398\" y2=\"216.3398\"/></a><!--MD5=[09b614a08d8cba4a07c9adeb5e0fee81]\n",
       "class E3--><a href=\"psysml:50ebccda-29a4-4ea8-943d-69f99c07f732\" target=\"_top\" title=\"psysml:50ebccda-29a4-4ea8-943d-69f99c07f732\" xlink:actuate=\"onRequest\" xlink:href=\"psysml:50ebccda-29a4-4ea8-943d-69f99c07f732\" xlink:show=\"new\" xlink:title=\"psysml:50ebccda-29a4-4ea8-943d-69f99c07f732\" xlink:type=\"simple\"><rect fill=\"#FFFFFF\" height=\"45.9375\" id=\"E3\" rx=\"10\" ry=\"10\" style=\"stroke: #383838; stroke-width: 1.5;\" width=\"71\" x=\"600.5\" y=\"41\"/><text fill=\"#000000\" font-family=\"sans-serif\" font-size=\"12\" font-style=\"italic\" lengthAdjust=\"spacingAndGlyphs\" textLength=\"69\" x=\"601.5\" y=\"57.1387\">«attribute»</text><text fill=\"#000000\" font-family=\"sans-serif\" font-size=\"12\" lengthAdjust=\"spacingAndGlyphs\" textLength=\"24\" x=\"624\" y=\"71.1074\">a: A</text><line style=\"stroke: #383838; stroke-width: 1.5;\" x1=\"601.5\" x2=\"670.5\" y1=\"78.9375\" y2=\"78.9375\"/></a><!--MD5=[ebbe1d658d1005bcc118a6aa81145e00]\n",
       "class E4--><a href=\"psysml:31ea6359-c2ac-42c4-9008-615ad8ad058c\" target=\"_top\" title=\"psysml:31ea6359-c2ac-42c4-9008-615ad8ad058c\" xlink:actuate=\"onRequest\" xlink:href=\"psysml:31ea6359-c2ac-42c4-9008-615ad8ad058c\" xlink:show=\"new\" xlink:title=\"psysml:31ea6359-c2ac-42c4-9008-615ad8ad058c\" xlink:type=\"simple\"><rect fill=\"#FFFFFF\" height=\"45.9375\" id=\"E4\" style=\"stroke: #383838; stroke-width: 1.5;\" width=\"108\" x=\"457\" y=\"41\"/><text fill=\"#000000\" font-family=\"sans-serif\" font-size=\"12\" font-style=\"italic\" lengthAdjust=\"spacingAndGlyphs\" textLength=\"106\" x=\"458\" y=\"57.1387\">«calculation def»</text><text fill=\"#000000\" font-family=\"sans-serif\" font-size=\"12\" lengthAdjust=\"spacingAndGlyphs\" textLength=\"7\" x=\"507.5\" y=\"71.1074\">F</text><line style=\"stroke: #383838; stroke-width: 1.5;\" x1=\"458\" x2=\"564\" y1=\"78.9375\" y2=\"78.9375\"/></a><!--MD5=[270fce915f116d4de14055a7c1d9a0f3]\n",
       "class E5--><a href=\"psysml:a5af055b-f2ee-4ef1-a486-dc312f464f3e\" target=\"_top\" title=\"psysml:a5af055b-f2ee-4ef1-a486-dc312f464f3e\" xlink:actuate=\"onRequest\" xlink:href=\"psysml:a5af055b-f2ee-4ef1-a486-dc312f464f3e\" xlink:show=\"new\" xlink:title=\"psysml:a5af055b-f2ee-4ef1-a486-dc312f464f3e\" xlink:type=\"simple\"><rect fill=\"#FFFFFF\" height=\"45.9375\" id=\"E5\" rx=\"10\" ry=\"10\" style=\"stroke: #383838; stroke-width: 1.5;\" width=\"71\" x=\"350.5\" y=\"41\"/><text fill=\"#000000\" font-family=\"sans-serif\" font-size=\"12\" font-style=\"italic\" lengthAdjust=\"spacingAndGlyphs\" textLength=\"69\" x=\"351.5\" y=\"57.1387\">«attribute»</text><text fill=\"#000000\" font-family=\"sans-serif\" font-size=\"12\" lengthAdjust=\"spacingAndGlyphs\" textLength=\"4\" x=\"384\" y=\"71.1074\">f</text><line style=\"stroke: #383838; stroke-width: 1.5;\" x1=\"351.5\" x2=\"420.5\" y1=\"78.9375\" y2=\"78.9375\"/></a><!--MD5=[60a26617385b1d2d0262a64233df1f8d]\n",
       "class E6--><a href=\"psysml:63113e1f-55f0-4199-b954-2673a0b317ed\" target=\"_top\" title=\"psysml:63113e1f-55f0-4199-b954-2673a0b317ed\" xlink:actuate=\"onRequest\" xlink:href=\"psysml:63113e1f-55f0-4199-b954-2673a0b317ed\" xlink:show=\"new\" xlink:title=\"psysml:63113e1f-55f0-4199-b954-2673a0b317ed\" xlink:type=\"simple\"><rect fill=\"#FFFFFF\" height=\"45.9375\" id=\"E6\" rx=\"10\" ry=\"10\" style=\"stroke: #383838; stroke-width: 1.5;\" width=\"71\" x=\"244.5\" y=\"41\"/><text fill=\"#000000\" font-family=\"sans-serif\" font-size=\"12\" font-style=\"italic\" lengthAdjust=\"spacingAndGlyphs\" textLength=\"69\" x=\"245.5\" y=\"57.1387\">«attribute»</text><text fill=\"#000000\" font-family=\"sans-serif\" font-size=\"12\" lengthAdjust=\"spacingAndGlyphs\" textLength=\"8\" x=\"276\" y=\"71.1074\">g</text><line style=\"stroke: #383838; stroke-width: 1.5;\" x1=\"245.5\" x2=\"314.5\" y1=\"78.9375\" y2=\"78.9375\"/></a><!--MD5=[2156ba9850f5573cc1fc38a6a4b2f02b]\n",
       "class E7--><a href=\"psysml:537e328f-e5cc-426a-9b09-8cf3e436744c\" target=\"_top\" title=\"psysml:537e328f-e5cc-426a-9b09-8cf3e436744c\" xlink:actuate=\"onRequest\" xlink:href=\"psysml:537e328f-e5cc-426a-9b09-8cf3e436744c\" xlink:show=\"new\" xlink:title=\"psysml:537e328f-e5cc-426a-9b09-8cf3e436744c\" xlink:type=\"simple\"><rect fill=\"#FFFFFF\" height=\"45.9375\" id=\"E7\" rx=\"10\" ry=\"10\" style=\"stroke: #383838; stroke-width: 1.5;\" width=\"71\" x=\"138.5\" y=\"41\"/><text fill=\"#000000\" font-family=\"sans-serif\" font-size=\"12\" font-style=\"italic\" lengthAdjust=\"spacingAndGlyphs\" textLength=\"69\" x=\"139.5\" y=\"57.1387\">«attribute»</text><text fill=\"#000000\" font-family=\"sans-serif\" font-size=\"12\" lengthAdjust=\"spacingAndGlyphs\" textLength=\"8\" x=\"170\" y=\"71.1074\">b</text><line style=\"stroke: #383838; stroke-width: 1.5;\" x1=\"139.5\" x2=\"208.5\" y1=\"78.9375\" y2=\"78.9375\"/></a><!--MD5=[b9389687b975829384b498ac4b7476b2]\n",
       "class E8--><a href=\"psysml:2b35c468-a57b-4dfd-a90f-3e1de4d6204b\" target=\"_top\" title=\"psysml:2b35c468-a57b-4dfd-a90f-3e1de4d6204b\" xlink:actuate=\"onRequest\" xlink:href=\"psysml:2b35c468-a57b-4dfd-a90f-3e1de4d6204b\" xlink:show=\"new\" xlink:title=\"psysml:2b35c468-a57b-4dfd-a90f-3e1de4d6204b\" xlink:type=\"simple\"><rect fill=\"#FFFFFF\" height=\"45.9375\" id=\"E8\" rx=\"10\" ry=\"10\" style=\"stroke: #383838; stroke-width: 1.5;\" width=\"71\" x=\"32.5\" y=\"41\"/><text fill=\"#000000\" font-family=\"sans-serif\" font-size=\"12\" font-style=\"italic\" lengthAdjust=\"spacingAndGlyphs\" textLength=\"69\" x=\"33.5\" y=\"57.1387\">«attribute»</text><text fill=\"#000000\" font-family=\"sans-serif\" font-size=\"12\" lengthAdjust=\"spacingAndGlyphs\" textLength=\"7\" x=\"64.5\" y=\"71.1074\">c</text><line style=\"stroke: #383838; stroke-width: 1.5;\" x1=\"33.5\" x2=\"102.5\" y1=\"78.9375\" y2=\"78.9375\"/></a><!--MD5=[05d275557350bfb9b23a4ef7222b4c39]\n",
       "link E3 to E2--><a href=\"psysml:50b306d4-0f13-410b-aa85-567dae9acdd8\" target=\"_top\" title=\"psysml:50b306d4-0f13-410b-aa85-567dae9acdd8\" xlink:actuate=\"onRequest\" xlink:href=\"psysml:50b306d4-0f13-410b-aa85-567dae9acdd8\" xlink:show=\"new\" xlink:title=\"psysml:50b306d4-0f13-410b-aa85-567dae9acdd8\" xlink:type=\"simple\"><path d=\"M621.94,87.19 C611.77,103.23 597.51,125.73 584.09,146.9 \" fill=\"none\" id=\"E3-&gt;E2\" style=\"stroke: #383838; stroke-width: 1.0;\"/><polygon fill=\"#FFFFFF\" points=\"573.37,163.82,577.6195,144.0225,589.448,151.5115,573.37,163.82\" style=\"stroke: #383838; stroke-width: 1.0;\"/><ellipse cx=\"582.3584\" cy=\"140.2764\" fill=\"#383838\" rx=\"2\" ry=\"2\" style=\"stroke: #383838; stroke-width: 1.0;\"/><ellipse cx=\"590.8073\" cy=\"145.6258\" fill=\"#383838\" rx=\"2\" ry=\"2\" style=\"stroke: #383838; stroke-width: 1.0;\"/></a><!--MD5=[ddeed8deb2209213b62e6cfabaa108b2]\n",
       "reverse link E4 to E2--><a href=\"psysml:c5b3d96c-9fe7-4ab4-b771-6776a88b0ad4\" target=\"_top\" title=\"psysml:c5b3d96c-9fe7-4ab4-b771-6776a88b0ad4\" xlink:actuate=\"onRequest\" xlink:href=\"psysml:c5b3d96c-9fe7-4ab4-b771-6776a88b0ad4\" xlink:show=\"new\" xlink:title=\"psysml:c5b3d96c-9fe7-4ab4-b771-6776a88b0ad4\" xlink:type=\"simple\"><path d=\"M519.62,99.96 C524.37,119.25 530.31,143.36 535.36,163.82 \" fill=\"none\" id=\"E4&lt;-E2\" style=\"stroke: #383838; stroke-width: 1.0;\"/><polygon fill=\"#FFFFFF\" points=\"516.47,87.19,514.0229,93.9732,519.3432,98.841,521.7903,92.0577,516.47,87.19\" style=\"stroke: #383838; stroke-width: 1.0;\"/><text fill=\"#000000\" font-family=\"sans-serif\" font-size=\"13\" lengthAdjust=\"spacingAndGlyphs\" textLength=\"8\" x=\"528\" y=\"130.0669\">p</text></a><!--MD5=[491277e2935cfda89b50ca6d6d6461b8]\n",
       "@startuml\r\n",
       "skinparam monochrome true\r\n",
       "skinparam classbackgroundcolor white\r\n",
       "skinparam shadowing false\r\n",
       "skinparam wrapWidth 300\r\n",
       "hide circle\r\n",
       "\r\n",
       "package \"ParameterTest\" as E1  [[psysml:c7000c50-df42-41d3-9ba9-36eed14db093 ]]  {\r\n",
       "comp def \"A\" as E2  <<(T,blue)attribute def>> [[psysml:cb02a2ee-bdc8-478c-9636-92278b567e26 ]] {\r\n",
       "- - attributes - -\r\n",
       "x: String\r\n",
       "y: A\r\n",
       "}\r\n",
       "comp usage \"a: A\" as E3  <<(T,blue)attribute>> [[psysml:50ebccda-29a4-4ea8-943d-69f99c07f732 ]] {\r\n",
       "}\r\n",
       "comp def \"F\" as E4  <<(T,blue)calculation def>> [[psysml:31ea6359-c2ac-42c4-9008-615ad8ad058c ]] {\r\n",
       "}\r\n",
       "comp usage \"f\" as E5  <<(T,blue)attribute>> [[psysml:a5af055b-f2ee-4ef1-a486-dc312f464f3e ]] {\r\n",
       "}\r\n",
       "comp usage \"g\" as E6  <<(T,blue)attribute>> [[psysml:63113e1f-55f0-4199-b954-2673a0b317ed ]] {\r\n",
       "}\r\n",
       "comp usage \"b\" as E7  <<(T,blue)attribute>> [[psysml:537e328f-e5cc-426a-9b09-8cf3e436744c ]] {\r\n",
       "}\r\n",
       "comp usage \"c\" as E8  <<(T,blue)attribute>> [[psysml:2b35c468-a57b-4dfd-a90f-3e1de4d6204b ]] {\r\n",
       "}\r\n",
       "E3 - -:|> E2 [[psysml:50b306d4-0f13-410b-aa85-567dae9acdd8 ]] \r\n",
       "E4 o- - E2 [[psysml:c5b3d96c-9fe7-4ab4-b771-6776a88b0ad4 ]] : p\r\n",
       "}\r\n",
       "@enduml\r\n",
       "\n",
       "PlantUML version 1.2020.13(Sat Jun 13 12:26:38 UTC 2020)\n",
       "(EPL source distribution)\n",
       "Java Runtime: OpenJDK Runtime Environment\n",
       "JVM: OpenJDK 64-Bit Server VM\n",
       "Default Encoding: UTF-8\n",
       "Language: en\n",
       "Country: null\n",
       "--></g></svg>"
      ]
     },
     "execution_count": 42,
     "metadata": {},
     "output_type": "execute_result"
    }
   ],
   "source": [
    "%viz --style=\"DEFAULT\" --view=\"Sequence\" \"ParameterTest\""
   ]
  },
  {
   "cell_type": "code",
   "execution_count": 43,
   "id": "ordinary-barrel",
   "metadata": {
    "execution": {
     "iopub.execute_input": "2021-03-25T15:03:18.079755Z",
     "iopub.status.busy": "2021-03-25T15:03:18.078566Z",
     "iopub.status.idle": "2021-03-25T15:03:18.368129Z",
     "shell.execute_reply": "2021-03-25T15:03:18.367656Z"
    }
   },
   "outputs": [
    {
     "data": {
      "image/svg+xml": [
       "<?xml version=\"1.0\" encoding=\"UTF-8\" standalone=\"no\"?><svg xmlns=\"http://www.w3.org/2000/svg\" xmlns:xlink=\"http://www.w3.org/1999/xlink\" contentScriptType=\"application/ecmascript\" contentStyleType=\"text/css\" height=\"263px\" preserveAspectRatio=\"none\" style=\"width:740px;height:263px;\" version=\"1.1\" viewBox=\"0 0 740 263\" width=\"740px\" zoomAndPan=\"magnify\"><defs/><g><!--MD5=[fbc87193dbaf4d95561dea2c320d4a47]\n",
       "cluster E1--><a href=\"psysml:c7000c50-df42-41d3-9ba9-36eed14db093\" target=\"_top\" title=\"psysml:c7000c50-df42-41d3-9ba9-36eed14db093\" xlink:actuate=\"onRequest\" xlink:href=\"psysml:c7000c50-df42-41d3-9ba9-36eed14db093\" xlink:show=\"new\" xlink:title=\"psysml:c7000c50-df42-41d3-9ba9-36eed14db093\" xlink:type=\"simple\"><polygon fill=\"#FFFFFF\" points=\"16,6,139,6,146,28.2969,718,28.2969,718,251,16,251,16,6\" style=\"stroke: #000000; stroke-width: 1.5;\"/><line style=\"stroke: #000000; stroke-width: 1.5;\" x1=\"16\" x2=\"146\" y1=\"28.2969\" y2=\"28.2969\"/><text fill=\"#000000\" font-family=\"sans-serif\" font-size=\"14\" font-weight=\"bold\" lengthAdjust=\"spacingAndGlyphs\" textLength=\"117\" x=\"20\" y=\"20.9951\">ParameterTest</text></a><!--MD5=[f6df4d0ebaf0b5dfb2ced0ae5af7c670]\n",
       "cluster E4--><a href=\"psysml:31ea6359-c2ac-42c4-9008-615ad8ad058c\" target=\"_top\" title=\"psysml:31ea6359-c2ac-42c4-9008-615ad8ad058c\" xlink:actuate=\"onRequest\" xlink:href=\"psysml:31ea6359-c2ac-42c4-9008-615ad8ad058c\" xlink:show=\"new\" xlink:title=\"psysml:31ea6359-c2ac-42c4-9008-615ad8ad058c\" xlink:type=\"simple\"><rect fill=\"#FFFFFF\" height=\"160.5\" id=\"E4\" style=\"stroke: #383838; stroke-width: 1.5;\" width=\"148\" x=\"554\" y=\"64\"/><rect fill=\"#F8F8F8\" height=\"37.9375\" style=\"stroke: #383838; stroke-width: 1.5;\" width=\"148\" x=\"554\" y=\"64\"/><text fill=\"#000000\" font-family=\"sans-serif\" font-size=\"12\" font-style=\"italic\" lengthAdjust=\"spacingAndGlyphs\" textLength=\"106\" x=\"575\" y=\"80.1387\">«calculation def»</text><text fill=\"#000000\" font-family=\"sans-serif\" font-size=\"12\" lengthAdjust=\"spacingAndGlyphs\" textLength=\"7\" x=\"624.5\" y=\"94.1074\">F</text></a><!--MD5=[b4997ac47864f28c2f74865a473b2911]\n",
       "class E2--><a href=\"psysml:cb02a2ee-bdc8-478c-9636-92278b567e26\" target=\"_top\" title=\"psysml:cb02a2ee-bdc8-478c-9636-92278b567e26\" xlink:actuate=\"onRequest\" xlink:href=\"psysml:cb02a2ee-bdc8-478c-9636-92278b567e26\" xlink:show=\"new\" xlink:title=\"psysml:cb02a2ee-bdc8-478c-9636-92278b567e26\" xlink:type=\"simple\"><rect fill=\"#FFFFFF\" height=\"88.3516\" id=\"E2\" style=\"stroke: #383838; stroke-width: 1.5;\" width=\"95\" x=\"422.5\" y=\"147\"/><text fill=\"#000000\" font-family=\"sans-serif\" font-size=\"12\" font-style=\"italic\" lengthAdjust=\"spacingAndGlyphs\" textLength=\"93\" x=\"423.5\" y=\"163.1387\">«attribute def»</text><text fill=\"#000000\" font-family=\"sans-serif\" font-size=\"12\" lengthAdjust=\"spacingAndGlyphs\" textLength=\"8\" x=\"466\" y=\"177.1074\">A</text><line style=\"stroke: #383838; stroke-width: 1.5;\" x1=\"423.5\" x2=\"516.5\" y1=\"184.9375\" y2=\"184.9375\"/><text fill=\"#000000\" font-family=\"sans-serif\" font-size=\"11\" lengthAdjust=\"spacingAndGlyphs\" textLength=\"48\" x=\"428.5\" y=\"215.9526\">x: String</text><text fill=\"#000000\" font-family=\"sans-serif\" font-size=\"11\" lengthAdjust=\"spacingAndGlyphs\" textLength=\"21\" x=\"428.5\" y=\"228.7573\">y: A</text><line style=\"stroke: #383838; stroke-width: 1.0;\" x1=\"423.5\" x2=\"442.5\" y1=\"199.3398\" y2=\"199.3398\"/><text fill=\"#000000\" font-family=\"sans-serif\" font-size=\"11\" lengthAdjust=\"spacingAndGlyphs\" textLength=\"55\" x=\"442.5\" y=\"202.6479\">attributes</text><line style=\"stroke: #383838; stroke-width: 1.0;\" x1=\"497.5\" x2=\"516.5\" y1=\"199.3398\" y2=\"199.3398\"/></a><!--MD5=[09b614a08d8cba4a07c9adeb5e0fee81]\n",
       "class E3--><a href=\"psysml:50ebccda-29a4-4ea8-943d-69f99c07f732\" target=\"_top\" title=\"psysml:50ebccda-29a4-4ea8-943d-69f99c07f732\" xlink:actuate=\"onRequest\" xlink:href=\"psysml:50ebccda-29a4-4ea8-943d-69f99c07f732\" xlink:show=\"new\" xlink:title=\"psysml:50ebccda-29a4-4ea8-943d-69f99c07f732\" xlink:type=\"simple\"><rect fill=\"#FFFFFF\" height=\"45.9375\" id=\"E3\" rx=\"10\" ry=\"10\" style=\"stroke: #383838; stroke-width: 1.5;\" width=\"71\" x=\"456.5\" y=\"41\"/><text fill=\"#000000\" font-family=\"sans-serif\" font-size=\"12\" font-style=\"italic\" lengthAdjust=\"spacingAndGlyphs\" textLength=\"69\" x=\"457.5\" y=\"57.1387\">«attribute»</text><text fill=\"#000000\" font-family=\"sans-serif\" font-size=\"12\" lengthAdjust=\"spacingAndGlyphs\" textLength=\"24\" x=\"480\" y=\"71.1074\">a: A</text><line style=\"stroke: #383838; stroke-width: 1.5;\" x1=\"457.5\" x2=\"526.5\" y1=\"78.9375\" y2=\"78.9375\"/></a><!--MD5=[2156ba9850f5573cc1fc38a6a4b2f02b]\n",
       "class E7--><a href=\"psysml:a5af055b-f2ee-4ef1-a486-dc312f464f3e\" target=\"_top\" title=\"psysml:a5af055b-f2ee-4ef1-a486-dc312f464f3e\" xlink:actuate=\"onRequest\" xlink:href=\"psysml:a5af055b-f2ee-4ef1-a486-dc312f464f3e\" xlink:show=\"new\" xlink:title=\"psysml:a5af055b-f2ee-4ef1-a486-dc312f464f3e\" xlink:type=\"simple\"><rect fill=\"#FFFFFF\" height=\"45.9375\" id=\"E7\" rx=\"10\" ry=\"10\" style=\"stroke: #383838; stroke-width: 1.5;\" width=\"71\" x=\"350.5\" y=\"41\"/><text fill=\"#000000\" font-family=\"sans-serif\" font-size=\"12\" font-style=\"italic\" lengthAdjust=\"spacingAndGlyphs\" textLength=\"69\" x=\"351.5\" y=\"57.1387\">«attribute»</text><text fill=\"#000000\" font-family=\"sans-serif\" font-size=\"12\" lengthAdjust=\"spacingAndGlyphs\" textLength=\"4\" x=\"384\" y=\"71.1074\">f</text><line style=\"stroke: #383838; stroke-width: 1.5;\" x1=\"351.5\" x2=\"420.5\" y1=\"78.9375\" y2=\"78.9375\"/></a><!--MD5=[b9389687b975829384b498ac4b7476b2]\n",
       "class E8--><a href=\"psysml:63113e1f-55f0-4199-b954-2673a0b317ed\" target=\"_top\" title=\"psysml:63113e1f-55f0-4199-b954-2673a0b317ed\" xlink:actuate=\"onRequest\" xlink:href=\"psysml:63113e1f-55f0-4199-b954-2673a0b317ed\" xlink:show=\"new\" xlink:title=\"psysml:63113e1f-55f0-4199-b954-2673a0b317ed\" xlink:type=\"simple\"><rect fill=\"#FFFFFF\" height=\"45.9375\" id=\"E8\" rx=\"10\" ry=\"10\" style=\"stroke: #383838; stroke-width: 1.5;\" width=\"71\" x=\"244.5\" y=\"41\"/><text fill=\"#000000\" font-family=\"sans-serif\" font-size=\"12\" font-style=\"italic\" lengthAdjust=\"spacingAndGlyphs\" textLength=\"69\" x=\"245.5\" y=\"57.1387\">«attribute»</text><text fill=\"#000000\" font-family=\"sans-serif\" font-size=\"12\" lengthAdjust=\"spacingAndGlyphs\" textLength=\"8\" x=\"276\" y=\"71.1074\">g</text><line style=\"stroke: #383838; stroke-width: 1.5;\" x1=\"245.5\" x2=\"314.5\" y1=\"78.9375\" y2=\"78.9375\"/></a><!--MD5=[fd4143e9d270a159db93a4ea2a975926]\n",
       "class E9--><a href=\"psysml:537e328f-e5cc-426a-9b09-8cf3e436744c\" target=\"_top\" title=\"psysml:537e328f-e5cc-426a-9b09-8cf3e436744c\" xlink:actuate=\"onRequest\" xlink:href=\"psysml:537e328f-e5cc-426a-9b09-8cf3e436744c\" xlink:show=\"new\" xlink:title=\"psysml:537e328f-e5cc-426a-9b09-8cf3e436744c\" xlink:type=\"simple\"><rect fill=\"#FFFFFF\" height=\"45.9375\" id=\"E9\" rx=\"10\" ry=\"10\" style=\"stroke: #383838; stroke-width: 1.5;\" width=\"71\" x=\"138.5\" y=\"41\"/><text fill=\"#000000\" font-family=\"sans-serif\" font-size=\"12\" font-style=\"italic\" lengthAdjust=\"spacingAndGlyphs\" textLength=\"69\" x=\"139.5\" y=\"57.1387\">«attribute»</text><text fill=\"#000000\" font-family=\"sans-serif\" font-size=\"12\" lengthAdjust=\"spacingAndGlyphs\" textLength=\"8\" x=\"170\" y=\"71.1074\">b</text><line style=\"stroke: #383838; stroke-width: 1.5;\" x1=\"139.5\" x2=\"208.5\" y1=\"78.9375\" y2=\"78.9375\"/></a><!--MD5=[96f4274e9e20536e775497830990834d]\n",
       "class E10--><a href=\"psysml:2b35c468-a57b-4dfd-a90f-3e1de4d6204b\" target=\"_top\" title=\"psysml:2b35c468-a57b-4dfd-a90f-3e1de4d6204b\" xlink:actuate=\"onRequest\" xlink:href=\"psysml:2b35c468-a57b-4dfd-a90f-3e1de4d6204b\" xlink:show=\"new\" xlink:title=\"psysml:2b35c468-a57b-4dfd-a90f-3e1de4d6204b\" xlink:type=\"simple\"><rect fill=\"#FFFFFF\" height=\"45.9375\" id=\"E10\" rx=\"10\" ry=\"10\" style=\"stroke: #383838; stroke-width: 1.5;\" width=\"71\" x=\"32.5\" y=\"41\"/><text fill=\"#000000\" font-family=\"sans-serif\" font-size=\"12\" font-style=\"italic\" lengthAdjust=\"spacingAndGlyphs\" textLength=\"69\" x=\"33.5\" y=\"57.1387\">«attribute»</text><text fill=\"#000000\" font-family=\"sans-serif\" font-size=\"12\" lengthAdjust=\"spacingAndGlyphs\" textLength=\"7\" x=\"64.5\" y=\"71.1074\">c</text><line style=\"stroke: #383838; stroke-width: 1.5;\" x1=\"33.5\" x2=\"102.5\" y1=\"78.9375\" y2=\"78.9375\"/></a><text fill=\"#000000\" font-family=\"sans-serif\" font-size=\"14\" lengthAdjust=\"spacingAndGlyphs\" textLength=\"9\" x=\"567.5\" y=\"42.6982\">p</text><rect fill=\"#383838\" height=\"12\" style=\"stroke: #F8F8F8; stroke-width: 1.5;\" width=\"12\" x=\"566\" y=\"58\"/><text fill=\"#000000\" font-family=\"sans-serif\" font-size=\"14\" lengthAdjust=\"spacingAndGlyphs\" textLength=\"9\" x=\"614.5\" y=\"42.6982\">q</text><rect fill=\"#383838\" height=\"12\" style=\"stroke: #F8F8F8; stroke-width: 1.5;\" width=\"12\" x=\"613\" y=\"58\"/><!--MD5=[05d275557350bfb9b23a4ef7222b4c39]\n",
       "link E3 to E2--><a href=\"psysml:50b306d4-0f13-410b-aa85-567dae9acdd8\" target=\"_top\" title=\"psysml:50b306d4-0f13-410b-aa85-567dae9acdd8\" xlink:actuate=\"onRequest\" xlink:href=\"psysml:50b306d4-0f13-410b-aa85-567dae9acdd8\" xlink:show=\"new\" xlink:title=\"psysml:50b306d4-0f13-410b-aa85-567dae9acdd8\" xlink:type=\"simple\"><path d=\"M488.12,87.06 C486.14,98.3 483.62,112.6 481.1,126.95 \" fill=\"none\" id=\"E3-&gt;E2\" style=\"stroke: #383838; stroke-width: 1.0;\"/><polygon fill=\"#FFFFFF\" points=\"477.58,146.93,473.9835,127.0035,487.7711,129.4331,477.58,146.93\" style=\"stroke: #383838; stroke-width: 1.0;\"/><ellipse cx=\"476.9423\" cy=\"121.7371\" fill=\"#383838\" rx=\"2\" ry=\"2\" style=\"stroke: #383838; stroke-width: 1.0;\"/><ellipse cx=\"486.7906\" cy=\"123.4725\" fill=\"#383838\" rx=\"2\" ry=\"2\" style=\"stroke: #383838; stroke-width: 1.0;\"/></a><!--MD5=[37046da9d33607403c9541c3701eb2ae]\n",
       "@startuml\r\n",
       "skinparam monochrome true\r\n",
       "skinparam classbackgroundcolor white\r\n",
       "skinparam shadowing false\r\n",
       "skinparam wrapWidth 300\r\n",
       "hide circle\r\n",
       "\r\n",
       "package \"ParameterTest\" as E1  [[psysml:c7000c50-df42-41d3-9ba9-36eed14db093 ]]  {\r\n",
       "comp def \"A\" as E2  <<(T,blue)attribute def>> [[psysml:cb02a2ee-bdc8-478c-9636-92278b567e26 ]] {\r\n",
       "- - attributes - -\r\n",
       "x: String\r\n",
       "y: A\r\n",
       "}\r\n",
       "comp usage \"a: A\" as E3  <<(T,blue)attribute>> [[psysml:50ebccda-29a4-4ea8-943d-69f99c07f732 ]] {\r\n",
       "}\r\n",
       "rec def \"F\" as E4  <<(T,blue)calculation def>> [[psysml:31ea6359-c2ac-42c4-9008-615ad8ad058c ]] {\r\n",
       "portin \"p\" as E5  [[psysml:c5b3d96c-9fe7-4ab4-b771-6776a88b0ad4 ]] \r\n",
       "portin \"q\" as E6  [[psysml:66adf659-8704-40ab-88b3-19d2477512b1 ]] \r\n",
       "}\r\n",
       "\r\n",
       "comp usage \"f\" as E7  <<(T,blue)attribute>> [[psysml:a5af055b-f2ee-4ef1-a486-dc312f464f3e ]] {\r\n",
       "}\r\n",
       "comp usage \"g\" as E8  <<(T,blue)attribute>> [[psysml:63113e1f-55f0-4199-b954-2673a0b317ed ]] {\r\n",
       "}\r\n",
       "comp usage \"b\" as E9  <<(T,blue)attribute>> [[psysml:537e328f-e5cc-426a-9b09-8cf3e436744c ]] {\r\n",
       "}\r\n",
       "comp usage \"c\" as E10  <<(T,blue)attribute>> [[psysml:2b35c468-a57b-4dfd-a90f-3e1de4d6204b ]] {\r\n",
       "}\r\n",
       "E3 - -:|> E2 [[psysml:50b306d4-0f13-410b-aa85-567dae9acdd8 ]] \r\n",
       "}\r\n",
       "@enduml\r\n",
       "\n",
       "PlantUML version 1.2020.13(Sat Jun 13 12:26:38 UTC 2020)\n",
       "(EPL source distribution)\n",
       "Java Runtime: OpenJDK Runtime Environment\n",
       "JVM: OpenJDK 64-Bit Server VM\n",
       "Default Encoding: UTF-8\n",
       "Language: en\n",
       "Country: null\n",
       "--></g></svg>"
      ]
     },
     "execution_count": 43,
     "metadata": {},
     "output_type": "execute_result"
    }
   ],
   "source": [
    "%viz --style=\"DEFAULT\" --view=\"MIXED\" \"ParameterTest\""
   ]
  },
  {
   "cell_type": "code",
   "execution_count": 44,
   "id": "alternative-anniversary",
   "metadata": {
    "execution": {
     "iopub.execute_input": "2021-03-25T15:03:18.420900Z",
     "iopub.status.busy": "2021-03-25T15:03:18.420278Z",
     "iopub.status.idle": "2021-03-25T15:03:18.715928Z",
     "shell.execute_reply": "2021-03-25T15:03:18.714560Z"
    }
   },
   "outputs": [
    {
     "data": {
      "image/svg+xml": [
       "<?xml version=\"1.0\" encoding=\"UTF-8\" standalone=\"no\"?><svg xmlns=\"http://www.w3.org/2000/svg\" xmlns:xlink=\"http://www.w3.org/1999/xlink\" contentScriptType=\"application/ecmascript\" contentStyleType=\"text/css\" height=\"263px\" preserveAspectRatio=\"none\" style=\"width:740px;height:263px;\" version=\"1.1\" viewBox=\"0 0 740 263\" width=\"740px\" zoomAndPan=\"magnify\"><defs/><g><!--MD5=[fbc87193dbaf4d95561dea2c320d4a47]\n",
       "cluster E1--><a href=\"psysml:c7000c50-df42-41d3-9ba9-36eed14db093\" target=\"_top\" title=\"psysml:c7000c50-df42-41d3-9ba9-36eed14db093\" xlink:actuate=\"onRequest\" xlink:href=\"psysml:c7000c50-df42-41d3-9ba9-36eed14db093\" xlink:show=\"new\" xlink:title=\"psysml:c7000c50-df42-41d3-9ba9-36eed14db093\" xlink:type=\"simple\"><polygon fill=\"#FFFFFF\" points=\"16,6,139,6,146,28.2969,718,28.2969,718,251,16,251,16,6\" style=\"stroke: #000000; stroke-width: 1.5;\"/><line style=\"stroke: #000000; stroke-width: 1.5;\" x1=\"16\" x2=\"146\" y1=\"28.2969\" y2=\"28.2969\"/><text fill=\"#000000\" font-family=\"sans-serif\" font-size=\"14\" font-weight=\"bold\" lengthAdjust=\"spacingAndGlyphs\" textLength=\"117\" x=\"20\" y=\"20.9951\">ParameterTest</text></a><!--MD5=[f6df4d0ebaf0b5dfb2ced0ae5af7c670]\n",
       "cluster E4--><a href=\"psysml:31ea6359-c2ac-42c4-9008-615ad8ad058c\" target=\"_top\" title=\"psysml:31ea6359-c2ac-42c4-9008-615ad8ad058c\" xlink:actuate=\"onRequest\" xlink:href=\"psysml:31ea6359-c2ac-42c4-9008-615ad8ad058c\" xlink:show=\"new\" xlink:title=\"psysml:31ea6359-c2ac-42c4-9008-615ad8ad058c\" xlink:type=\"simple\"><rect fill=\"#FFFFFF\" height=\"160.5\" id=\"E4\" style=\"stroke: #383838; stroke-width: 1.5;\" width=\"148\" x=\"554\" y=\"64\"/><rect fill=\"#F8F8F8\" height=\"37.9375\" style=\"stroke: #383838; stroke-width: 1.5;\" width=\"148\" x=\"554\" y=\"64\"/><text fill=\"#000000\" font-family=\"sans-serif\" font-size=\"12\" font-style=\"italic\" lengthAdjust=\"spacingAndGlyphs\" textLength=\"106\" x=\"575\" y=\"80.1387\">«calculation def»</text><text fill=\"#000000\" font-family=\"sans-serif\" font-size=\"12\" lengthAdjust=\"spacingAndGlyphs\" textLength=\"7\" x=\"624.5\" y=\"94.1074\">F</text></a><!--MD5=[b4997ac47864f28c2f74865a473b2911]\n",
       "class E2--><a href=\"psysml:cb02a2ee-bdc8-478c-9636-92278b567e26\" target=\"_top\" title=\"psysml:cb02a2ee-bdc8-478c-9636-92278b567e26\" xlink:actuate=\"onRequest\" xlink:href=\"psysml:cb02a2ee-bdc8-478c-9636-92278b567e26\" xlink:show=\"new\" xlink:title=\"psysml:cb02a2ee-bdc8-478c-9636-92278b567e26\" xlink:type=\"simple\"><rect fill=\"#FFFFFF\" height=\"88.3516\" id=\"E2\" style=\"stroke: #383838; stroke-width: 1.5;\" width=\"95\" x=\"422.5\" y=\"147\"/><text fill=\"#000000\" font-family=\"sans-serif\" font-size=\"12\" font-style=\"italic\" lengthAdjust=\"spacingAndGlyphs\" textLength=\"93\" x=\"423.5\" y=\"163.1387\">«attribute def»</text><text fill=\"#000000\" font-family=\"sans-serif\" font-size=\"12\" lengthAdjust=\"spacingAndGlyphs\" textLength=\"8\" x=\"466\" y=\"177.1074\">A</text><line style=\"stroke: #383838; stroke-width: 1.5;\" x1=\"423.5\" x2=\"516.5\" y1=\"184.9375\" y2=\"184.9375\"/><text fill=\"#000000\" font-family=\"sans-serif\" font-size=\"11\" lengthAdjust=\"spacingAndGlyphs\" textLength=\"48\" x=\"428.5\" y=\"215.9526\">x: String</text><text fill=\"#000000\" font-family=\"sans-serif\" font-size=\"11\" lengthAdjust=\"spacingAndGlyphs\" textLength=\"21\" x=\"428.5\" y=\"228.7573\">y: A</text><line style=\"stroke: #383838; stroke-width: 1.0;\" x1=\"423.5\" x2=\"442.5\" y1=\"199.3398\" y2=\"199.3398\"/><text fill=\"#000000\" font-family=\"sans-serif\" font-size=\"11\" lengthAdjust=\"spacingAndGlyphs\" textLength=\"55\" x=\"442.5\" y=\"202.6479\">attributes</text><line style=\"stroke: #383838; stroke-width: 1.0;\" x1=\"497.5\" x2=\"516.5\" y1=\"199.3398\" y2=\"199.3398\"/></a><!--MD5=[09b614a08d8cba4a07c9adeb5e0fee81]\n",
       "class E3--><a href=\"psysml:50ebccda-29a4-4ea8-943d-69f99c07f732\" target=\"_top\" title=\"psysml:50ebccda-29a4-4ea8-943d-69f99c07f732\" xlink:actuate=\"onRequest\" xlink:href=\"psysml:50ebccda-29a4-4ea8-943d-69f99c07f732\" xlink:show=\"new\" xlink:title=\"psysml:50ebccda-29a4-4ea8-943d-69f99c07f732\" xlink:type=\"simple\"><rect fill=\"#FFFFFF\" height=\"45.9375\" id=\"E3\" rx=\"10\" ry=\"10\" style=\"stroke: #383838; stroke-width: 1.5;\" width=\"71\" x=\"456.5\" y=\"41\"/><text fill=\"#000000\" font-family=\"sans-serif\" font-size=\"12\" font-style=\"italic\" lengthAdjust=\"spacingAndGlyphs\" textLength=\"69\" x=\"457.5\" y=\"57.1387\">«attribute»</text><text fill=\"#000000\" font-family=\"sans-serif\" font-size=\"12\" lengthAdjust=\"spacingAndGlyphs\" textLength=\"24\" x=\"480\" y=\"71.1074\">a: A</text><line style=\"stroke: #383838; stroke-width: 1.5;\" x1=\"457.5\" x2=\"526.5\" y1=\"78.9375\" y2=\"78.9375\"/></a><!--MD5=[2156ba9850f5573cc1fc38a6a4b2f02b]\n",
       "class E7--><a href=\"psysml:a5af055b-f2ee-4ef1-a486-dc312f464f3e\" target=\"_top\" title=\"psysml:a5af055b-f2ee-4ef1-a486-dc312f464f3e\" xlink:actuate=\"onRequest\" xlink:href=\"psysml:a5af055b-f2ee-4ef1-a486-dc312f464f3e\" xlink:show=\"new\" xlink:title=\"psysml:a5af055b-f2ee-4ef1-a486-dc312f464f3e\" xlink:type=\"simple\"><rect fill=\"#FFFFFF\" height=\"45.9375\" id=\"E7\" rx=\"10\" ry=\"10\" style=\"stroke: #383838; stroke-width: 1.5;\" width=\"71\" x=\"350.5\" y=\"41\"/><text fill=\"#000000\" font-family=\"sans-serif\" font-size=\"12\" font-style=\"italic\" lengthAdjust=\"spacingAndGlyphs\" textLength=\"69\" x=\"351.5\" y=\"57.1387\">«attribute»</text><text fill=\"#000000\" font-family=\"sans-serif\" font-size=\"12\" lengthAdjust=\"spacingAndGlyphs\" textLength=\"4\" x=\"384\" y=\"71.1074\">f</text><line style=\"stroke: #383838; stroke-width: 1.5;\" x1=\"351.5\" x2=\"420.5\" y1=\"78.9375\" y2=\"78.9375\"/></a><!--MD5=[b9389687b975829384b498ac4b7476b2]\n",
       "class E8--><a href=\"psysml:63113e1f-55f0-4199-b954-2673a0b317ed\" target=\"_top\" title=\"psysml:63113e1f-55f0-4199-b954-2673a0b317ed\" xlink:actuate=\"onRequest\" xlink:href=\"psysml:63113e1f-55f0-4199-b954-2673a0b317ed\" xlink:show=\"new\" xlink:title=\"psysml:63113e1f-55f0-4199-b954-2673a0b317ed\" xlink:type=\"simple\"><rect fill=\"#FFFFFF\" height=\"45.9375\" id=\"E8\" rx=\"10\" ry=\"10\" style=\"stroke: #383838; stroke-width: 1.5;\" width=\"71\" x=\"244.5\" y=\"41\"/><text fill=\"#000000\" font-family=\"sans-serif\" font-size=\"12\" font-style=\"italic\" lengthAdjust=\"spacingAndGlyphs\" textLength=\"69\" x=\"245.5\" y=\"57.1387\">«attribute»</text><text fill=\"#000000\" font-family=\"sans-serif\" font-size=\"12\" lengthAdjust=\"spacingAndGlyphs\" textLength=\"8\" x=\"276\" y=\"71.1074\">g</text><line style=\"stroke: #383838; stroke-width: 1.5;\" x1=\"245.5\" x2=\"314.5\" y1=\"78.9375\" y2=\"78.9375\"/></a><!--MD5=[fd4143e9d270a159db93a4ea2a975926]\n",
       "class E9--><a href=\"psysml:537e328f-e5cc-426a-9b09-8cf3e436744c\" target=\"_top\" title=\"psysml:537e328f-e5cc-426a-9b09-8cf3e436744c\" xlink:actuate=\"onRequest\" xlink:href=\"psysml:537e328f-e5cc-426a-9b09-8cf3e436744c\" xlink:show=\"new\" xlink:title=\"psysml:537e328f-e5cc-426a-9b09-8cf3e436744c\" xlink:type=\"simple\"><rect fill=\"#FFFFFF\" height=\"45.9375\" id=\"E9\" rx=\"10\" ry=\"10\" style=\"stroke: #383838; stroke-width: 1.5;\" width=\"71\" x=\"138.5\" y=\"41\"/><text fill=\"#000000\" font-family=\"sans-serif\" font-size=\"12\" font-style=\"italic\" lengthAdjust=\"spacingAndGlyphs\" textLength=\"69\" x=\"139.5\" y=\"57.1387\">«attribute»</text><text fill=\"#000000\" font-family=\"sans-serif\" font-size=\"12\" lengthAdjust=\"spacingAndGlyphs\" textLength=\"8\" x=\"170\" y=\"71.1074\">b</text><line style=\"stroke: #383838; stroke-width: 1.5;\" x1=\"139.5\" x2=\"208.5\" y1=\"78.9375\" y2=\"78.9375\"/></a><!--MD5=[96f4274e9e20536e775497830990834d]\n",
       "class E10--><a href=\"psysml:2b35c468-a57b-4dfd-a90f-3e1de4d6204b\" target=\"_top\" title=\"psysml:2b35c468-a57b-4dfd-a90f-3e1de4d6204b\" xlink:actuate=\"onRequest\" xlink:href=\"psysml:2b35c468-a57b-4dfd-a90f-3e1de4d6204b\" xlink:show=\"new\" xlink:title=\"psysml:2b35c468-a57b-4dfd-a90f-3e1de4d6204b\" xlink:type=\"simple\"><rect fill=\"#FFFFFF\" height=\"45.9375\" id=\"E10\" rx=\"10\" ry=\"10\" style=\"stroke: #383838; stroke-width: 1.5;\" width=\"71\" x=\"32.5\" y=\"41\"/><text fill=\"#000000\" font-family=\"sans-serif\" font-size=\"12\" font-style=\"italic\" lengthAdjust=\"spacingAndGlyphs\" textLength=\"69\" x=\"33.5\" y=\"57.1387\">«attribute»</text><text fill=\"#000000\" font-family=\"sans-serif\" font-size=\"12\" lengthAdjust=\"spacingAndGlyphs\" textLength=\"7\" x=\"64.5\" y=\"71.1074\">c</text><line style=\"stroke: #383838; stroke-width: 1.5;\" x1=\"33.5\" x2=\"102.5\" y1=\"78.9375\" y2=\"78.9375\"/></a><text fill=\"#000000\" font-family=\"sans-serif\" font-size=\"14\" lengthAdjust=\"spacingAndGlyphs\" textLength=\"9\" x=\"567.5\" y=\"42.6982\">p</text><rect fill=\"#383838\" height=\"12\" style=\"stroke: #F8F8F8; stroke-width: 1.5;\" width=\"12\" x=\"566\" y=\"58\"/><text fill=\"#000000\" font-family=\"sans-serif\" font-size=\"14\" lengthAdjust=\"spacingAndGlyphs\" textLength=\"9\" x=\"614.5\" y=\"42.6982\">q</text><rect fill=\"#383838\" height=\"12\" style=\"stroke: #F8F8F8; stroke-width: 1.5;\" width=\"12\" x=\"613\" y=\"58\"/><!--MD5=[05d275557350bfb9b23a4ef7222b4c39]\n",
       "link E3 to E2--><a href=\"psysml:50b306d4-0f13-410b-aa85-567dae9acdd8\" target=\"_top\" title=\"psysml:50b306d4-0f13-410b-aa85-567dae9acdd8\" xlink:actuate=\"onRequest\" xlink:href=\"psysml:50b306d4-0f13-410b-aa85-567dae9acdd8\" xlink:show=\"new\" xlink:title=\"psysml:50b306d4-0f13-410b-aa85-567dae9acdd8\" xlink:type=\"simple\"><path d=\"M488.12,87.06 C486.14,98.3 483.62,112.6 481.1,126.95 \" fill=\"none\" id=\"E3-&gt;E2\" style=\"stroke: #383838; stroke-width: 1.0;\"/><polygon fill=\"#FFFFFF\" points=\"477.58,146.93,473.9835,127.0035,487.7711,129.4331,477.58,146.93\" style=\"stroke: #383838; stroke-width: 1.0;\"/><ellipse cx=\"476.9423\" cy=\"121.7371\" fill=\"#383838\" rx=\"2\" ry=\"2\" style=\"stroke: #383838; stroke-width: 1.0;\"/><ellipse cx=\"486.7906\" cy=\"123.4725\" fill=\"#383838\" rx=\"2\" ry=\"2\" style=\"stroke: #383838; stroke-width: 1.0;\"/></a><!--MD5=[f9657c57b36a4952b0a4cc189473a5ce]\n",
       "@startuml\r\n",
       "top to bottom direction\r\n",
       "skinparam monochrome true\r\n",
       "skinparam classbackgroundcolor white\r\n",
       "skinparam shadowing false\r\n",
       "skinparam wrapWidth 300\r\n",
       "hide circle\r\n",
       "\r\n",
       "package \"ParameterTest\" as E1  [[psysml:c7000c50-df42-41d3-9ba9-36eed14db093 ]]  {\r\n",
       "comp def \"A\" as E2  <<(T,blue)attribute def>> [[psysml:cb02a2ee-bdc8-478c-9636-92278b567e26 ]] {\r\n",
       "- - attributes - -\r\n",
       "x: String\r\n",
       "y: A\r\n",
       "}\r\n",
       "comp usage \"a: A\" as E3  <<(T,blue)attribute>> [[psysml:50ebccda-29a4-4ea8-943d-69f99c07f732 ]] {\r\n",
       "}\r\n",
       "rec def \"F\" as E4  <<(T,blue)calculation def>> [[psysml:31ea6359-c2ac-42c4-9008-615ad8ad058c ]] {\r\n",
       "portin \"p\" as E5  [[psysml:c5b3d96c-9fe7-4ab4-b771-6776a88b0ad4 ]] \r\n",
       "portin \"q\" as E6  [[psysml:66adf659-8704-40ab-88b3-19d2477512b1 ]] \r\n",
       "}\r\n",
       "\r\n",
       "comp usage \"f\" as E7  <<(T,blue)attribute>> [[psysml:a5af055b-f2ee-4ef1-a486-dc312f464f3e ]] {\r\n",
       "}\r\n",
       "comp usage \"g\" as E8  <<(T,blue)attribute>> [[psysml:63113e1f-55f0-4199-b954-2673a0b317ed ]] {\r\n",
       "}\r\n",
       "comp usage \"b\" as E9  <<(T,blue)attribute>> [[psysml:537e328f-e5cc-426a-9b09-8cf3e436744c ]] {\r\n",
       "}\r\n",
       "comp usage \"c\" as E10  <<(T,blue)attribute>> [[psysml:2b35c468-a57b-4dfd-a90f-3e1de4d6204b ]] {\r\n",
       "}\r\n",
       "E3 - -:|> E2 [[psysml:50b306d4-0f13-410b-aa85-567dae9acdd8 ]] \r\n",
       "}\r\n",
       "@enduml\r\n",
       "\n",
       "PlantUML version 1.2020.13(Sat Jun 13 12:26:38 UTC 2020)\n",
       "(EPL source distribution)\n",
       "Java Runtime: OpenJDK Runtime Environment\n",
       "JVM: OpenJDK 64-Bit Server VM\n",
       "Default Encoding: UTF-8\n",
       "Language: en\n",
       "Country: null\n",
       "--></g></svg>"
      ]
     },
     "execution_count": 44,
     "metadata": {},
     "output_type": "execute_result"
    }
   ],
   "source": [
    "%viz --style=\"TB\" --view=\"Default\" \"ParameterTest\""
   ]
  },
  {
   "cell_type": "code",
   "execution_count": 45,
   "id": "disciplinary-spectrum",
   "metadata": {
    "execution": {
     "iopub.execute_input": "2021-03-25T15:03:18.769266Z",
     "iopub.status.busy": "2021-03-25T15:03:18.767737Z",
     "iopub.status.idle": "2021-03-25T15:03:19.034001Z",
     "shell.execute_reply": "2021-03-25T15:03:19.034396Z"
    }
   },
   "outputs": [
    {
     "data": {
      "image/svg+xml": [
       "<?xml version=\"1.0\" encoding=\"UTF-8\" standalone=\"no\"?><svg xmlns=\"http://www.w3.org/2000/svg\" xmlns:xlink=\"http://www.w3.org/1999/xlink\" contentScriptType=\"application/ecmascript\" contentStyleType=\"text/css\" height=\"280px\" preserveAspectRatio=\"none\" style=\"width:710px;height:280px;\" version=\"1.1\" viewBox=\"0 0 710 280\" width=\"710px\" zoomAndPan=\"magnify\"><defs/><g><!--MD5=[fbc87193dbaf4d95561dea2c320d4a47]\n",
       "cluster E1--><a href=\"psysml:c7000c50-df42-41d3-9ba9-36eed14db093\" target=\"_top\" title=\"psysml:c7000c50-df42-41d3-9ba9-36eed14db093\" xlink:actuate=\"onRequest\" xlink:href=\"psysml:c7000c50-df42-41d3-9ba9-36eed14db093\" xlink:show=\"new\" xlink:title=\"psysml:c7000c50-df42-41d3-9ba9-36eed14db093\" xlink:type=\"simple\"><polygon fill=\"#FFFFFF\" points=\"16,6,139,6,146,28.2969,688,28.2969,688,268,16,268,16,6\" style=\"stroke: #000000; stroke-width: 1.5;\"/><line style=\"stroke: #000000; stroke-width: 1.5;\" x1=\"16\" x2=\"146\" y1=\"28.2969\" y2=\"28.2969\"/><text fill=\"#000000\" font-family=\"sans-serif\" font-size=\"14\" font-weight=\"bold\" lengthAdjust=\"spacingAndGlyphs\" textLength=\"117\" x=\"20\" y=\"20.9951\">ParameterTest</text></a><!--MD5=[b4997ac47864f28c2f74865a473b2911]\n",
       "class E2--><a href=\"psysml:cb02a2ee-bdc8-478c-9636-92278b567e26\" target=\"_top\" title=\"psysml:cb02a2ee-bdc8-478c-9636-92278b567e26\" xlink:actuate=\"onRequest\" xlink:href=\"psysml:cb02a2ee-bdc8-478c-9636-92278b567e26\" xlink:show=\"new\" xlink:title=\"psysml:cb02a2ee-bdc8-478c-9636-92278b567e26\" xlink:type=\"simple\"><rect fill=\"#FFFFFF\" height=\"88.3516\" id=\"E2\" style=\"stroke: #383838; stroke-width: 1.5;\" width=\"95\" x=\"498.5\" y=\"164\"/><text fill=\"#000000\" font-family=\"sans-serif\" font-size=\"12\" font-style=\"italic\" lengthAdjust=\"spacingAndGlyphs\" textLength=\"93\" x=\"499.5\" y=\"180.1387\">«attribute def»</text><text fill=\"#000000\" font-family=\"sans-serif\" font-size=\"12\" lengthAdjust=\"spacingAndGlyphs\" textLength=\"8\" x=\"542\" y=\"194.1074\">A</text><line style=\"stroke: #383838; stroke-width: 1.5;\" x1=\"499.5\" x2=\"592.5\" y1=\"201.9375\" y2=\"201.9375\"/><text fill=\"#000000\" font-family=\"sans-serif\" font-size=\"11\" lengthAdjust=\"spacingAndGlyphs\" textLength=\"48\" x=\"504.5\" y=\"232.9526\">x: String</text><text fill=\"#000000\" font-family=\"sans-serif\" font-size=\"11\" lengthAdjust=\"spacingAndGlyphs\" textLength=\"21\" x=\"504.5\" y=\"245.7573\">y: A</text><line style=\"stroke: #383838; stroke-width: 1.0;\" x1=\"499.5\" x2=\"518.5\" y1=\"216.3398\" y2=\"216.3398\"/><text fill=\"#000000\" font-family=\"sans-serif\" font-size=\"11\" lengthAdjust=\"spacingAndGlyphs\" textLength=\"55\" x=\"518.5\" y=\"219.6479\">attributes</text><line style=\"stroke: #383838; stroke-width: 1.0;\" x1=\"573.5\" x2=\"592.5\" y1=\"216.3398\" y2=\"216.3398\"/></a><!--MD5=[09b614a08d8cba4a07c9adeb5e0fee81]\n",
       "class E3--><a href=\"psysml:50ebccda-29a4-4ea8-943d-69f99c07f732\" target=\"_top\" title=\"psysml:50ebccda-29a4-4ea8-943d-69f99c07f732\" xlink:actuate=\"onRequest\" xlink:href=\"psysml:50ebccda-29a4-4ea8-943d-69f99c07f732\" xlink:show=\"new\" xlink:title=\"psysml:50ebccda-29a4-4ea8-943d-69f99c07f732\" xlink:type=\"simple\"><rect fill=\"#FFFFFF\" height=\"45.9375\" id=\"E3\" rx=\"10\" ry=\"10\" style=\"stroke: #383838; stroke-width: 1.5;\" width=\"71\" x=\"600.5\" y=\"41\"/><text fill=\"#000000\" font-family=\"sans-serif\" font-size=\"12\" font-style=\"italic\" lengthAdjust=\"spacingAndGlyphs\" textLength=\"69\" x=\"601.5\" y=\"57.1387\">«attribute»</text><text fill=\"#000000\" font-family=\"sans-serif\" font-size=\"12\" lengthAdjust=\"spacingAndGlyphs\" textLength=\"24\" x=\"624\" y=\"71.1074\">a: A</text><line style=\"stroke: #383838; stroke-width: 1.5;\" x1=\"601.5\" x2=\"670.5\" y1=\"78.9375\" y2=\"78.9375\"/></a><!--MD5=[ebbe1d658d1005bcc118a6aa81145e00]\n",
       "class E4--><a href=\"psysml:31ea6359-c2ac-42c4-9008-615ad8ad058c\" target=\"_top\" title=\"psysml:31ea6359-c2ac-42c4-9008-615ad8ad058c\" xlink:actuate=\"onRequest\" xlink:href=\"psysml:31ea6359-c2ac-42c4-9008-615ad8ad058c\" xlink:show=\"new\" xlink:title=\"psysml:31ea6359-c2ac-42c4-9008-615ad8ad058c\" xlink:type=\"simple\"><rect fill=\"#FFFFFF\" height=\"45.9375\" id=\"E4\" style=\"stroke: #383838; stroke-width: 1.5;\" width=\"108\" x=\"457\" y=\"41\"/><text fill=\"#000000\" font-family=\"sans-serif\" font-size=\"12\" font-style=\"italic\" lengthAdjust=\"spacingAndGlyphs\" textLength=\"106\" x=\"458\" y=\"57.1387\">«calculation def»</text><text fill=\"#000000\" font-family=\"sans-serif\" font-size=\"12\" lengthAdjust=\"spacingAndGlyphs\" textLength=\"7\" x=\"507.5\" y=\"71.1074\">F</text><line style=\"stroke: #383838; stroke-width: 1.5;\" x1=\"458\" x2=\"564\" y1=\"78.9375\" y2=\"78.9375\"/></a><!--MD5=[270fce915f116d4de14055a7c1d9a0f3]\n",
       "class E5--><a href=\"psysml:a5af055b-f2ee-4ef1-a486-dc312f464f3e\" target=\"_top\" title=\"psysml:a5af055b-f2ee-4ef1-a486-dc312f464f3e\" xlink:actuate=\"onRequest\" xlink:href=\"psysml:a5af055b-f2ee-4ef1-a486-dc312f464f3e\" xlink:show=\"new\" xlink:title=\"psysml:a5af055b-f2ee-4ef1-a486-dc312f464f3e\" xlink:type=\"simple\"><rect fill=\"#FFFFFF\" height=\"45.9375\" id=\"E5\" rx=\"10\" ry=\"10\" style=\"stroke: #383838; stroke-width: 1.5;\" width=\"71\" x=\"350.5\" y=\"41\"/><text fill=\"#000000\" font-family=\"sans-serif\" font-size=\"12\" font-style=\"italic\" lengthAdjust=\"spacingAndGlyphs\" textLength=\"69\" x=\"351.5\" y=\"57.1387\">«attribute»</text><text fill=\"#000000\" font-family=\"sans-serif\" font-size=\"12\" lengthAdjust=\"spacingAndGlyphs\" textLength=\"4\" x=\"384\" y=\"71.1074\">f</text><line style=\"stroke: #383838; stroke-width: 1.5;\" x1=\"351.5\" x2=\"420.5\" y1=\"78.9375\" y2=\"78.9375\"/></a><!--MD5=[60a26617385b1d2d0262a64233df1f8d]\n",
       "class E6--><a href=\"psysml:63113e1f-55f0-4199-b954-2673a0b317ed\" target=\"_top\" title=\"psysml:63113e1f-55f0-4199-b954-2673a0b317ed\" xlink:actuate=\"onRequest\" xlink:href=\"psysml:63113e1f-55f0-4199-b954-2673a0b317ed\" xlink:show=\"new\" xlink:title=\"psysml:63113e1f-55f0-4199-b954-2673a0b317ed\" xlink:type=\"simple\"><rect fill=\"#FFFFFF\" height=\"45.9375\" id=\"E6\" rx=\"10\" ry=\"10\" style=\"stroke: #383838; stroke-width: 1.5;\" width=\"71\" x=\"244.5\" y=\"41\"/><text fill=\"#000000\" font-family=\"sans-serif\" font-size=\"12\" font-style=\"italic\" lengthAdjust=\"spacingAndGlyphs\" textLength=\"69\" x=\"245.5\" y=\"57.1387\">«attribute»</text><text fill=\"#000000\" font-family=\"sans-serif\" font-size=\"12\" lengthAdjust=\"spacingAndGlyphs\" textLength=\"8\" x=\"276\" y=\"71.1074\">g</text><line style=\"stroke: #383838; stroke-width: 1.5;\" x1=\"245.5\" x2=\"314.5\" y1=\"78.9375\" y2=\"78.9375\"/></a><!--MD5=[2156ba9850f5573cc1fc38a6a4b2f02b]\n",
       "class E7--><a href=\"psysml:537e328f-e5cc-426a-9b09-8cf3e436744c\" target=\"_top\" title=\"psysml:537e328f-e5cc-426a-9b09-8cf3e436744c\" xlink:actuate=\"onRequest\" xlink:href=\"psysml:537e328f-e5cc-426a-9b09-8cf3e436744c\" xlink:show=\"new\" xlink:title=\"psysml:537e328f-e5cc-426a-9b09-8cf3e436744c\" xlink:type=\"simple\"><rect fill=\"#FFFFFF\" height=\"45.9375\" id=\"E7\" rx=\"10\" ry=\"10\" style=\"stroke: #383838; stroke-width: 1.5;\" width=\"71\" x=\"138.5\" y=\"41\"/><text fill=\"#000000\" font-family=\"sans-serif\" font-size=\"12\" font-style=\"italic\" lengthAdjust=\"spacingAndGlyphs\" textLength=\"69\" x=\"139.5\" y=\"57.1387\">«attribute»</text><text fill=\"#000000\" font-family=\"sans-serif\" font-size=\"12\" lengthAdjust=\"spacingAndGlyphs\" textLength=\"8\" x=\"170\" y=\"71.1074\">b</text><line style=\"stroke: #383838; stroke-width: 1.5;\" x1=\"139.5\" x2=\"208.5\" y1=\"78.9375\" y2=\"78.9375\"/></a><!--MD5=[b9389687b975829384b498ac4b7476b2]\n",
       "class E8--><a href=\"psysml:2b35c468-a57b-4dfd-a90f-3e1de4d6204b\" target=\"_top\" title=\"psysml:2b35c468-a57b-4dfd-a90f-3e1de4d6204b\" xlink:actuate=\"onRequest\" xlink:href=\"psysml:2b35c468-a57b-4dfd-a90f-3e1de4d6204b\" xlink:show=\"new\" xlink:title=\"psysml:2b35c468-a57b-4dfd-a90f-3e1de4d6204b\" xlink:type=\"simple\"><rect fill=\"#FFFFFF\" height=\"45.9375\" id=\"E8\" rx=\"10\" ry=\"10\" style=\"stroke: #383838; stroke-width: 1.5;\" width=\"71\" x=\"32.5\" y=\"41\"/><text fill=\"#000000\" font-family=\"sans-serif\" font-size=\"12\" font-style=\"italic\" lengthAdjust=\"spacingAndGlyphs\" textLength=\"69\" x=\"33.5\" y=\"57.1387\">«attribute»</text><text fill=\"#000000\" font-family=\"sans-serif\" font-size=\"12\" lengthAdjust=\"spacingAndGlyphs\" textLength=\"7\" x=\"64.5\" y=\"71.1074\">c</text><line style=\"stroke: #383838; stroke-width: 1.5;\" x1=\"33.5\" x2=\"102.5\" y1=\"78.9375\" y2=\"78.9375\"/></a><!--MD5=[05d275557350bfb9b23a4ef7222b4c39]\n",
       "link E3 to E2--><a href=\"psysml:50b306d4-0f13-410b-aa85-567dae9acdd8\" target=\"_top\" title=\"psysml:50b306d4-0f13-410b-aa85-567dae9acdd8\" xlink:actuate=\"onRequest\" xlink:href=\"psysml:50b306d4-0f13-410b-aa85-567dae9acdd8\" xlink:show=\"new\" xlink:title=\"psysml:50b306d4-0f13-410b-aa85-567dae9acdd8\" xlink:type=\"simple\"><path d=\"M621.94,87.19 C611.77,103.23 597.51,125.73 584.09,146.9 \" fill=\"none\" id=\"E3-&gt;E2\" style=\"stroke: #383838; stroke-width: 1.0;\"/><polygon fill=\"#FFFFFF\" points=\"573.37,163.82,577.6195,144.0225,589.448,151.5115,573.37,163.82\" style=\"stroke: #383838; stroke-width: 1.0;\"/><ellipse cx=\"582.3584\" cy=\"140.2764\" fill=\"#383838\" rx=\"2\" ry=\"2\" style=\"stroke: #383838; stroke-width: 1.0;\"/><ellipse cx=\"590.8073\" cy=\"145.6258\" fill=\"#383838\" rx=\"2\" ry=\"2\" style=\"stroke: #383838; stroke-width: 1.0;\"/></a><!--MD5=[ddeed8deb2209213b62e6cfabaa108b2]\n",
       "reverse link E4 to E2--><a href=\"psysml:c5b3d96c-9fe7-4ab4-b771-6776a88b0ad4\" target=\"_top\" title=\"psysml:c5b3d96c-9fe7-4ab4-b771-6776a88b0ad4\" xlink:actuate=\"onRequest\" xlink:href=\"psysml:c5b3d96c-9fe7-4ab4-b771-6776a88b0ad4\" xlink:show=\"new\" xlink:title=\"psysml:c5b3d96c-9fe7-4ab4-b771-6776a88b0ad4\" xlink:type=\"simple\"><path d=\"M519.62,99.96 C524.37,119.25 530.31,143.36 535.36,163.82 \" fill=\"none\" id=\"E4&lt;-E2\" style=\"stroke: #383838; stroke-width: 1.0;\"/><polygon fill=\"#FFFFFF\" points=\"516.47,87.19,514.0229,93.9732,519.3432,98.841,521.7903,92.0577,516.47,87.19\" style=\"stroke: #383838; stroke-width: 1.0;\"/><text fill=\"#000000\" font-family=\"sans-serif\" font-size=\"13\" lengthAdjust=\"spacingAndGlyphs\" textLength=\"8\" x=\"528\" y=\"130.0669\">p</text></a><!--MD5=[3673d7799fd6827b4d1a4c049dc92634]\n",
       "@startuml\r\n",
       "top to bottom direction\r\n",
       "skinparam monochrome true\r\n",
       "skinparam classbackgroundcolor white\r\n",
       "skinparam shadowing false\r\n",
       "skinparam wrapWidth 300\r\n",
       "hide circle\r\n",
       "\r\n",
       "package \"ParameterTest\" as E1  [[psysml:c7000c50-df42-41d3-9ba9-36eed14db093 ]]  {\r\n",
       "comp def \"A\" as E2  <<(T,blue)attribute def>> [[psysml:cb02a2ee-bdc8-478c-9636-92278b567e26 ]] {\r\n",
       "- - attributes - -\r\n",
       "x: String\r\n",
       "y: A\r\n",
       "}\r\n",
       "comp usage \"a: A\" as E3  <<(T,blue)attribute>> [[psysml:50ebccda-29a4-4ea8-943d-69f99c07f732 ]] {\r\n",
       "}\r\n",
       "comp def \"F\" as E4  <<(T,blue)calculation def>> [[psysml:31ea6359-c2ac-42c4-9008-615ad8ad058c ]] {\r\n",
       "}\r\n",
       "comp usage \"f\" as E5  <<(T,blue)attribute>> [[psysml:a5af055b-f2ee-4ef1-a486-dc312f464f3e ]] {\r\n",
       "}\r\n",
       "comp usage \"g\" as E6  <<(T,blue)attribute>> [[psysml:63113e1f-55f0-4199-b954-2673a0b317ed ]] {\r\n",
       "}\r\n",
       "comp usage \"b\" as E7  <<(T,blue)attribute>> [[psysml:537e328f-e5cc-426a-9b09-8cf3e436744c ]] {\r\n",
       "}\r\n",
       "comp usage \"c\" as E8  <<(T,blue)attribute>> [[psysml:2b35c468-a57b-4dfd-a90f-3e1de4d6204b ]] {\r\n",
       "}\r\n",
       "E3 - -:|> E2 [[psysml:50b306d4-0f13-410b-aa85-567dae9acdd8 ]] \r\n",
       "E4 o- - E2 [[psysml:c5b3d96c-9fe7-4ab4-b771-6776a88b0ad4 ]] : p\r\n",
       "}\r\n",
       "@enduml\r\n",
       "\n",
       "PlantUML version 1.2020.13(Sat Jun 13 12:26:38 UTC 2020)\n",
       "(EPL source distribution)\n",
       "Java Runtime: OpenJDK Runtime Environment\n",
       "JVM: OpenJDK 64-Bit Server VM\n",
       "Default Encoding: UTF-8\n",
       "Language: en\n",
       "Country: null\n",
       "--></g></svg>"
      ]
     },
     "execution_count": 45,
     "metadata": {},
     "output_type": "execute_result"
    }
   ],
   "source": [
    "%viz --style=\"TB\" --view=\"Tree\" \"ParameterTest\""
   ]
  },
  {
   "cell_type": "code",
   "execution_count": 46,
   "id": "verbal-boost",
   "metadata": {
    "execution": {
     "iopub.execute_input": "2021-03-25T15:03:19.085275Z",
     "iopub.status.busy": "2021-03-25T15:03:19.084672Z",
     "iopub.status.idle": "2021-03-25T15:03:19.092069Z",
     "shell.execute_reply": "2021-03-25T15:03:19.091616Z"
    }
   },
   "outputs": [
    {
     "data": {
      "image/svg+xml": [
       "<?xml version=\"1.0\" encoding=\"UTF-8\" standalone=\"no\"?><svg xmlns=\"http://www.w3.org/2000/svg\" xmlns:xlink=\"http://www.w3.org/1999/xlink\" contentScriptType=\"application/ecmascript\" contentStyleType=\"text/css\" height=\"12px\" preserveAspectRatio=\"none\" style=\"width:12px;height:12px;\" version=\"1.1\" viewBox=\"0 0 12 12\" width=\"12px\" zoomAndPan=\"magnify\"><defs/><g><!--MD5=[f4ee21bc66e489b5061b7c3e9601fdef]\n",
       "@startuml\r\n",
       "top to bottom direction\r\n",
       "skinparam monochrome true\r\n",
       "skinparam classbackgroundcolor white\r\n",
       "skinparam shadowing false\r\n",
       "skinparam wrapWidth 300\r\n",
       "hide circle\r\n",
       "\r\n",
       "@enduml\r\n",
       "\n",
       "PlantUML version 1.2020.13(Sat Jun 13 12:26:38 UTC 2020)\n",
       "(EPL source distribution)\n",
       "Java Runtime: OpenJDK Runtime Environment\n",
       "JVM: OpenJDK 64-Bit Server VM\n",
       "Default Encoding: UTF-8\n",
       "Language: en\n",
       "Country: null\n",
       "--></g></svg>"
      ]
     },
     "execution_count": 46,
     "metadata": {},
     "output_type": "execute_result"
    }
   ],
   "source": [
    "%viz --style=\"TB\" --view=\"State\" \"ParameterTest\""
   ]
  },
  {
   "cell_type": "code",
   "execution_count": 47,
   "id": "genuine-drink",
   "metadata": {
    "execution": {
     "iopub.execute_input": "2021-03-25T15:03:19.143395Z",
     "iopub.status.busy": "2021-03-25T15:03:19.142723Z",
     "iopub.status.idle": "2021-03-25T15:03:19.233885Z",
     "shell.execute_reply": "2021-03-25T15:03:19.234347Z"
    }
   },
   "outputs": [
    {
     "data": {
      "image/svg+xml": [
       "<?xml version=\"1.0\" encoding=\"UTF-8\" standalone=\"no\"?><svg xmlns=\"http://www.w3.org/2000/svg\" xmlns:xlink=\"http://www.w3.org/1999/xlink\" contentScriptType=\"application/ecmascript\" contentStyleType=\"text/css\" height=\"123px\" preserveAspectRatio=\"none\" style=\"width:960px;height:123px;\" version=\"1.1\" viewBox=\"0 0 960 123\" width=\"960px\" zoomAndPan=\"magnify\"><defs/><g><!--MD5=[fbc87193dbaf4d95561dea2c320d4a47]\n",
       "cluster E1--><a href=\"psysml:c7000c50-df42-41d3-9ba9-36eed14db093\" target=\"_top\" title=\"psysml:c7000c50-df42-41d3-9ba9-36eed14db093\" xlink:actuate=\"onRequest\" xlink:href=\"psysml:c7000c50-df42-41d3-9ba9-36eed14db093\" xlink:show=\"new\" xlink:title=\"psysml:c7000c50-df42-41d3-9ba9-36eed14db093\" xlink:type=\"simple\"><polygon fill=\"#FFFFFF\" points=\"16,6,139,6,146,28.2969,938,28.2969,938,111,16,111,16,6\" style=\"stroke: #000000; stroke-width: 1.5;\"/><line style=\"stroke: #000000; stroke-width: 1.5;\" x1=\"16\" x2=\"146\" y1=\"28.2969\" y2=\"28.2969\"/><text fill=\"#000000\" font-family=\"sans-serif\" font-size=\"14\" font-weight=\"bold\" lengthAdjust=\"spacingAndGlyphs\" textLength=\"117\" x=\"20\" y=\"20.9951\">ParameterTest</text></a><!--MD5=[b4997ac47864f28c2f74865a473b2911]\n",
       "class E2--><a href=\"psysml:cb02a2ee-bdc8-478c-9636-92278b567e26\" target=\"_top\" title=\"psysml:cb02a2ee-bdc8-478c-9636-92278b567e26\" xlink:actuate=\"onRequest\" xlink:href=\"psysml:cb02a2ee-bdc8-478c-9636-92278b567e26\" xlink:show=\"new\" xlink:title=\"psysml:cb02a2ee-bdc8-478c-9636-92278b567e26\" xlink:type=\"simple\"><rect fill=\"#FFFFFF\" height=\"53.9375\" id=\"E2\" style=\"stroke: #383838; stroke-width: 1.5;\" width=\"143\" x=\"778.5\" y=\"41\"/><text fill=\"#000000\" font-family=\"sans-serif\" font-size=\"12\" font-style=\"italic\" lengthAdjust=\"spacingAndGlyphs\" textLength=\"141\" x=\"779.5\" y=\"57.1387\">«(T,blue)attribute def»</text><text fill=\"#000000\" font-family=\"sans-serif\" font-size=\"12\" lengthAdjust=\"spacingAndGlyphs\" textLength=\"8\" x=\"846\" y=\"71.1074\">A</text><line style=\"stroke: #383838; stroke-width: 1.5;\" x1=\"779.5\" x2=\"920.5\" y1=\"78.9375\" y2=\"78.9375\"/><line style=\"stroke: #383838; stroke-width: 1.5;\" x1=\"779.5\" x2=\"920.5\" y1=\"86.9375\" y2=\"86.9375\"/></a><!--MD5=[ebbe1d658d1005bcc118a6aa81145e00]\n",
       "class E4--><a href=\"psysml:31ea6359-c2ac-42c4-9008-615ad8ad058c\" target=\"_top\" title=\"psysml:31ea6359-c2ac-42c4-9008-615ad8ad058c\" xlink:actuate=\"onRequest\" xlink:href=\"psysml:31ea6359-c2ac-42c4-9008-615ad8ad058c\" xlink:show=\"new\" xlink:title=\"psysml:31ea6359-c2ac-42c4-9008-615ad8ad058c\" xlink:type=\"simple\"><rect fill=\"#FFFFFF\" height=\"53.9375\" id=\"E4\" style=\"stroke: #383838; stroke-width: 1.5;\" width=\"156\" x=\"587\" y=\"41\"/><text fill=\"#000000\" font-family=\"sans-serif\" font-size=\"12\" font-style=\"italic\" lengthAdjust=\"spacingAndGlyphs\" textLength=\"154\" x=\"588\" y=\"57.1387\">«(T,blue)calculation def»</text><text fill=\"#000000\" font-family=\"sans-serif\" font-size=\"12\" lengthAdjust=\"spacingAndGlyphs\" textLength=\"7\" x=\"661.5\" y=\"71.1074\">F</text><line style=\"stroke: #383838; stroke-width: 1.5;\" x1=\"588\" x2=\"742\" y1=\"78.9375\" y2=\"78.9375\"/><line style=\"stroke: #383838; stroke-width: 1.5;\" x1=\"588\" x2=\"742\" y1=\"86.9375\" y2=\"86.9375\"/></a><g id=\"E1.E3\"><a href=\"psysml:50ebccda-29a4-4ea8-943d-69f99c07f732\" target=\"_top\" title=\"psysml:50ebccda-29a4-4ea8-943d-69f99c07f732\" xlink:actuate=\"onRequest\" xlink:href=\"psysml:50ebccda-29a4-4ea8-943d-69f99c07f732\" xlink:show=\"new\" xlink:title=\"psysml:50ebccda-29a4-4ea8-943d-69f99c07f732\" xlink:type=\"simple\"><rect fill=\"#FFFFFF\" height=\"42.9375\" id=\"E3\" rx=\"10\" ry=\"10\" style=\"stroke: #383838; stroke-width: 1.5;\" width=\"76\" x=\"476\" y=\"46.5\"/><rect fill=\"#F8F8F8\" height=\"37.9375\" rx=\"10\" ry=\"10\" style=\"stroke: #F8F8F8; stroke-width: 1.5;\" width=\"76\" x=\"476\" y=\"46.5\"/><rect fill=\"#F8F8F8\" height=\"10\" style=\"stroke: #F8F8F8; stroke-width: 1.5;\" width=\"76\" x=\"476\" y=\"74.4375\"/><rect fill=\"none\" height=\"42.9375\" id=\"E3\" rx=\"10\" ry=\"10\" style=\"stroke: #383838; stroke-width: 1.5;\" width=\"76\" x=\"476\" y=\"46.5\"/><text fill=\"#000000\" font-family=\"sans-serif\" font-size=\"12\" font-style=\"italic\" lengthAdjust=\"spacingAndGlyphs\" textLength=\"69\" x=\"479.5\" y=\"62.6387\">«attribute»</text><text fill=\"#000000\" font-family=\"sans-serif\" font-size=\"12\" lengthAdjust=\"spacingAndGlyphs\" textLength=\"24\" x=\"502\" y=\"76.6074\">a: A</text></a></g><g id=\"E1.E5\"><a href=\"psysml:a5af055b-f2ee-4ef1-a486-dc312f464f3e\" target=\"_top\" title=\"psysml:a5af055b-f2ee-4ef1-a486-dc312f464f3e\" xlink:actuate=\"onRequest\" xlink:href=\"psysml:a5af055b-f2ee-4ef1-a486-dc312f464f3e\" xlink:show=\"new\" xlink:title=\"psysml:a5af055b-f2ee-4ef1-a486-dc312f464f3e\" xlink:type=\"simple\"><rect fill=\"#FFFFFF\" height=\"42.9375\" id=\"E5\" rx=\"10\" ry=\"10\" style=\"stroke: #383838; stroke-width: 1.5;\" width=\"76\" x=\"365\" y=\"46.5\"/><rect fill=\"#F8F8F8\" height=\"37.9375\" rx=\"10\" ry=\"10\" style=\"stroke: #F8F8F8; stroke-width: 1.5;\" width=\"76\" x=\"365\" y=\"46.5\"/><rect fill=\"#F8F8F8\" height=\"10\" style=\"stroke: #F8F8F8; stroke-width: 1.5;\" width=\"76\" x=\"365\" y=\"74.4375\"/><rect fill=\"none\" height=\"42.9375\" id=\"E5\" rx=\"10\" ry=\"10\" style=\"stroke: #383838; stroke-width: 1.5;\" width=\"76\" x=\"365\" y=\"46.5\"/><text fill=\"#000000\" font-family=\"sans-serif\" font-size=\"12\" font-style=\"italic\" lengthAdjust=\"spacingAndGlyphs\" textLength=\"69\" x=\"368.5\" y=\"62.6387\">«attribute»</text><text fill=\"#000000\" font-family=\"sans-serif\" font-size=\"12\" lengthAdjust=\"spacingAndGlyphs\" textLength=\"4\" x=\"401\" y=\"76.6074\">f</text></a></g><g id=\"E1.E6\"><a href=\"psysml:63113e1f-55f0-4199-b954-2673a0b317ed\" target=\"_top\" title=\"psysml:63113e1f-55f0-4199-b954-2673a0b317ed\" xlink:actuate=\"onRequest\" xlink:href=\"psysml:63113e1f-55f0-4199-b954-2673a0b317ed\" xlink:show=\"new\" xlink:title=\"psysml:63113e1f-55f0-4199-b954-2673a0b317ed\" xlink:type=\"simple\"><rect fill=\"#FFFFFF\" height=\"42.9375\" id=\"E6\" rx=\"10\" ry=\"10\" style=\"stroke: #383838; stroke-width: 1.5;\" width=\"76\" x=\"254\" y=\"46.5\"/><rect fill=\"#F8F8F8\" height=\"37.9375\" rx=\"10\" ry=\"10\" style=\"stroke: #F8F8F8; stroke-width: 1.5;\" width=\"76\" x=\"254\" y=\"46.5\"/><rect fill=\"#F8F8F8\" height=\"10\" style=\"stroke: #F8F8F8; stroke-width: 1.5;\" width=\"76\" x=\"254\" y=\"74.4375\"/><rect fill=\"none\" height=\"42.9375\" id=\"E6\" rx=\"10\" ry=\"10\" style=\"stroke: #383838; stroke-width: 1.5;\" width=\"76\" x=\"254\" y=\"46.5\"/><text fill=\"#000000\" font-family=\"sans-serif\" font-size=\"12\" font-style=\"italic\" lengthAdjust=\"spacingAndGlyphs\" textLength=\"69\" x=\"257.5\" y=\"62.6387\">«attribute»</text><text fill=\"#000000\" font-family=\"sans-serif\" font-size=\"12\" lengthAdjust=\"spacingAndGlyphs\" textLength=\"8\" x=\"288\" y=\"76.6074\">g</text></a></g><g id=\"E1.E7\"><a href=\"psysml:537e328f-e5cc-426a-9b09-8cf3e436744c\" target=\"_top\" title=\"psysml:537e328f-e5cc-426a-9b09-8cf3e436744c\" xlink:actuate=\"onRequest\" xlink:href=\"psysml:537e328f-e5cc-426a-9b09-8cf3e436744c\" xlink:show=\"new\" xlink:title=\"psysml:537e328f-e5cc-426a-9b09-8cf3e436744c\" xlink:type=\"simple\"><rect fill=\"#FFFFFF\" height=\"42.9375\" id=\"E7\" rx=\"10\" ry=\"10\" style=\"stroke: #383838; stroke-width: 1.5;\" width=\"76\" x=\"143\" y=\"46.5\"/><rect fill=\"#F8F8F8\" height=\"37.9375\" rx=\"10\" ry=\"10\" style=\"stroke: #F8F8F8; stroke-width: 1.5;\" width=\"76\" x=\"143\" y=\"46.5\"/><rect fill=\"#F8F8F8\" height=\"10\" style=\"stroke: #F8F8F8; stroke-width: 1.5;\" width=\"76\" x=\"143\" y=\"74.4375\"/><rect fill=\"none\" height=\"42.9375\" id=\"E7\" rx=\"10\" ry=\"10\" style=\"stroke: #383838; stroke-width: 1.5;\" width=\"76\" x=\"143\" y=\"46.5\"/><text fill=\"#000000\" font-family=\"sans-serif\" font-size=\"12\" font-style=\"italic\" lengthAdjust=\"spacingAndGlyphs\" textLength=\"69\" x=\"146.5\" y=\"62.6387\">«attribute»</text><text fill=\"#000000\" font-family=\"sans-serif\" font-size=\"12\" lengthAdjust=\"spacingAndGlyphs\" textLength=\"8\" x=\"177\" y=\"76.6074\">b</text></a></g><g id=\"E1.E8\"><a href=\"psysml:2b35c468-a57b-4dfd-a90f-3e1de4d6204b\" target=\"_top\" title=\"psysml:2b35c468-a57b-4dfd-a90f-3e1de4d6204b\" xlink:actuate=\"onRequest\" xlink:href=\"psysml:2b35c468-a57b-4dfd-a90f-3e1de4d6204b\" xlink:show=\"new\" xlink:title=\"psysml:2b35c468-a57b-4dfd-a90f-3e1de4d6204b\" xlink:type=\"simple\"><rect fill=\"#FFFFFF\" height=\"42.9375\" id=\"E8\" rx=\"10\" ry=\"10\" style=\"stroke: #383838; stroke-width: 1.5;\" width=\"76\" x=\"32\" y=\"46.5\"/><rect fill=\"#F8F8F8\" height=\"37.9375\" rx=\"10\" ry=\"10\" style=\"stroke: #F8F8F8; stroke-width: 1.5;\" width=\"76\" x=\"32\" y=\"46.5\"/><rect fill=\"#F8F8F8\" height=\"10\" style=\"stroke: #F8F8F8; stroke-width: 1.5;\" width=\"76\" x=\"32\" y=\"74.4375\"/><rect fill=\"none\" height=\"42.9375\" id=\"E8\" rx=\"10\" ry=\"10\" style=\"stroke: #383838; stroke-width: 1.5;\" width=\"76\" x=\"32\" y=\"46.5\"/><text fill=\"#000000\" font-family=\"sans-serif\" font-size=\"12\" font-style=\"italic\" lengthAdjust=\"spacingAndGlyphs\" textLength=\"69\" x=\"35.5\" y=\"62.6387\">«attribute»</text><text fill=\"#000000\" font-family=\"sans-serif\" font-size=\"12\" lengthAdjust=\"spacingAndGlyphs\" textLength=\"7\" x=\"66.5\" y=\"76.6074\">c</text></a></g><!--MD5=[98e32fab63a03ba33b6164c24c7b1ef8]\n",
       "@startuml\r\n",
       "skinparam ranksep 8\r\n",
       "skinparam rectangle {\r\n",
       " backgroundColor<<block>> LightGreen\r\n",
       "}\r\n",
       "top to bottom direction\r\n",
       "skinparam monochrome true\r\n",
       "skinparam classbackgroundcolor white\r\n",
       "skinparam shadowing false\r\n",
       "skinparam wrapWidth 300\r\n",
       "hide circle\r\n",
       "\r\n",
       "package \"ParameterTest\" as E1  [[psysml:c7000c50-df42-41d3-9ba9-36eed14db093 ]]  {\r\n",
       "def \"A\" as E2  <<(T,blue)attribute def>> [[psysml:cb02a2ee-bdc8-478c-9636-92278b567e26 ]] \r\n",
       "rec usage \"a: A\" as E3  <<(T,blue)attribute>> [[psysml:50ebccda-29a4-4ea8-943d-69f99c07f732 ]] {\r\n",
       "}\r\n",
       "def \"F\" as E4  <<(T,blue)calculation def>> [[psysml:31ea6359-c2ac-42c4-9008-615ad8ad058c ]] \r\n",
       "rec usage \"f\" as E5  <<(T,blue)attribute>> [[psysml:a5af055b-f2ee-4ef1-a486-dc312f464f3e ]] {\r\n",
       "}\r\n",
       "rec usage \"g\" as E6  <<(T,blue)attribute>> [[psysml:63113e1f-55f0-4199-b954-2673a0b317ed ]] {\r\n",
       "}\r\n",
       "rec usage \"b\" as E7  <<(T,blue)attribute>> [[psysml:537e328f-e5cc-426a-9b09-8cf3e436744c ]] {\r\n",
       "}\r\n",
       "rec usage \"c\" as E8  <<(T,blue)attribute>> [[psysml:2b35c468-a57b-4dfd-a90f-3e1de4d6204b ]] {\r\n",
       "}\r\n",
       "}\r\n",
       "@enduml\r\n",
       "\n",
       "PlantUML version 1.2020.13(Sat Jun 13 12:26:38 UTC 2020)\n",
       "(EPL source distribution)\n",
       "Java Runtime: OpenJDK Runtime Environment\n",
       "JVM: OpenJDK 64-Bit Server VM\n",
       "Default Encoding: UTF-8\n",
       "Language: en\n",
       "Country: null\n",
       "--></g></svg>"
      ]
     },
     "execution_count": 47,
     "metadata": {},
     "output_type": "execute_result"
    }
   ],
   "source": [
    "%viz --style=\"TB\" --view=\"Interconnection\" \"ParameterTest\""
   ]
  },
  {
   "cell_type": "code",
   "execution_count": 48,
   "id": "maritime-priority",
   "metadata": {
    "execution": {
     "iopub.execute_input": "2021-03-25T15:03:19.285363Z",
     "iopub.status.busy": "2021-03-25T15:03:19.284696Z",
     "iopub.status.idle": "2021-03-25T15:03:19.347219Z",
     "shell.execute_reply": "2021-03-25T15:03:19.346835Z"
    }
   },
   "outputs": [
    {
     "data": {
      "image/svg+xml": [
       "<?xml version=\"1.0\" encoding=\"UTF-8\" standalone=\"no\"?><svg xmlns=\"http://www.w3.org/2000/svg\" xmlns:xlink=\"http://www.w3.org/1999/xlink\" contentScriptType=\"application/ecmascript\" contentStyleType=\"text/css\" height=\"126px\" preserveAspectRatio=\"none\" style=\"width:166px;height:126px;\" version=\"1.1\" viewBox=\"0 0 166 126\" width=\"166px\" zoomAndPan=\"magnify\"><defs/><g><!--MD5=[fbc87193dbaf4d95561dea2c320d4a47]\n",
       "cluster E1--><a href=\"psysml:31ea6359-c2ac-42c4-9008-615ad8ad058c\" target=\"_top\" title=\"psysml:31ea6359-c2ac-42c4-9008-615ad8ad058c\" xlink:actuate=\"onRequest\" xlink:href=\"psysml:31ea6359-c2ac-42c4-9008-615ad8ad058c\" xlink:show=\"new\" xlink:title=\"psysml:31ea6359-c2ac-42c4-9008-615ad8ad058c\" xlink:type=\"simple\"><rect fill=\"#FFFFFF\" height=\"73\" id=\"E1\" style=\"stroke: #383838; stroke-width: 1.5;\" width=\"148\" x=\"7\" y=\"42.0986\"/><rect fill=\"#F8F8F8\" height=\"37.9375\" style=\"stroke: #383838; stroke-width: 1.5;\" width=\"148\" x=\"7\" y=\"42.0986\"/><text fill=\"#000000\" font-family=\"sans-serif\" font-size=\"12\" font-style=\"italic\" lengthAdjust=\"spacingAndGlyphs\" textLength=\"106\" x=\"28\" y=\"58.2373\">«calculation def»</text><text fill=\"#000000\" font-family=\"sans-serif\" font-size=\"12\" lengthAdjust=\"spacingAndGlyphs\" textLength=\"7\" x=\"77.5\" y=\"72.2061\">F</text></a><text fill=\"#000000\" font-family=\"sans-serif\" font-size=\"14\" lengthAdjust=\"spacingAndGlyphs\" textLength=\"9\" x=\"20.5\" y=\"20.7969\">p</text><rect fill=\"#383838\" height=\"12\" style=\"stroke: #F8F8F8; stroke-width: 1.5;\" width=\"12\" x=\"19\" y=\"36.0986\"/><text fill=\"#000000\" font-family=\"sans-serif\" font-size=\"14\" lengthAdjust=\"spacingAndGlyphs\" textLength=\"9\" x=\"67.5\" y=\"20.7969\">q</text><rect fill=\"#383838\" height=\"12\" style=\"stroke: #F8F8F8; stroke-width: 1.5;\" width=\"12\" x=\"66\" y=\"36.0986\"/><!--MD5=[c9ad7c7d0ba4b4f545ed21ea81c06447]\n",
       "@startuml\r\n",
       "skinparam ranksep 8\r\n",
       "top to bottom direction\r\n",
       "skinparam monochrome true\r\n",
       "skinparam classbackgroundcolor white\r\n",
       "skinparam shadowing false\r\n",
       "skinparam wrapWidth 300\r\n",
       "hide circle\r\n",
       "\r\n",
       "rec def \"F\" as E1  <<(T,blue)calculation def>> [[psysml:31ea6359-c2ac-42c4-9008-615ad8ad058c ]] {\r\n",
       "portin \"p\" as E2  [[psysml:c5b3d96c-9fe7-4ab4-b771-6776a88b0ad4 ]] \r\n",
       "portin \"q\" as E3  [[psysml:66adf659-8704-40ab-88b3-19d2477512b1 ]] \r\n",
       "}\r\n",
       "\r\n",
       "@enduml\r\n",
       "\n",
       "PlantUML version 1.2020.13(Sat Jun 13 12:26:38 UTC 2020)\n",
       "(EPL source distribution)\n",
       "Java Runtime: OpenJDK Runtime Environment\n",
       "JVM: OpenJDK 64-Bit Server VM\n",
       "Default Encoding: UTF-8\n",
       "Language: en\n",
       "Country: null\n",
       "--></g></svg>"
      ]
     },
     "execution_count": 48,
     "metadata": {},
     "output_type": "execute_result"
    }
   ],
   "source": [
    "%viz --style=\"TB\" --view=\"Action\" \"ParameterTest\""
   ]
  },
  {
   "cell_type": "code",
   "execution_count": 49,
   "id": "written-spare",
   "metadata": {
    "execution": {
     "iopub.execute_input": "2021-03-25T15:03:19.397659Z",
     "iopub.status.busy": "2021-03-25T15:03:19.396847Z",
     "iopub.status.idle": "2021-03-25T15:03:19.660579Z",
     "shell.execute_reply": "2021-03-25T15:03:19.658927Z"
    }
   },
   "outputs": [
    {
     "data": {
      "image/svg+xml": [
       "<?xml version=\"1.0\" encoding=\"UTF-8\" standalone=\"no\"?><svg xmlns=\"http://www.w3.org/2000/svg\" xmlns:xlink=\"http://www.w3.org/1999/xlink\" contentScriptType=\"application/ecmascript\" contentStyleType=\"text/css\" height=\"280px\" preserveAspectRatio=\"none\" style=\"width:710px;height:280px;\" version=\"1.1\" viewBox=\"0 0 710 280\" width=\"710px\" zoomAndPan=\"magnify\"><defs/><g><!--MD5=[fbc87193dbaf4d95561dea2c320d4a47]\n",
       "cluster E1--><a href=\"psysml:c7000c50-df42-41d3-9ba9-36eed14db093\" target=\"_top\" title=\"psysml:c7000c50-df42-41d3-9ba9-36eed14db093\" xlink:actuate=\"onRequest\" xlink:href=\"psysml:c7000c50-df42-41d3-9ba9-36eed14db093\" xlink:show=\"new\" xlink:title=\"psysml:c7000c50-df42-41d3-9ba9-36eed14db093\" xlink:type=\"simple\"><polygon fill=\"#FFFFFF\" points=\"16,6,139,6,146,28.2969,688,28.2969,688,268,16,268,16,6\" style=\"stroke: #000000; stroke-width: 1.5;\"/><line style=\"stroke: #000000; stroke-width: 1.5;\" x1=\"16\" x2=\"146\" y1=\"28.2969\" y2=\"28.2969\"/><text fill=\"#000000\" font-family=\"sans-serif\" font-size=\"14\" font-weight=\"bold\" lengthAdjust=\"spacingAndGlyphs\" textLength=\"117\" x=\"20\" y=\"20.9951\">ParameterTest</text></a><!--MD5=[b4997ac47864f28c2f74865a473b2911]\n",
       "class E2--><a href=\"psysml:cb02a2ee-bdc8-478c-9636-92278b567e26\" target=\"_top\" title=\"psysml:cb02a2ee-bdc8-478c-9636-92278b567e26\" xlink:actuate=\"onRequest\" xlink:href=\"psysml:cb02a2ee-bdc8-478c-9636-92278b567e26\" xlink:show=\"new\" xlink:title=\"psysml:cb02a2ee-bdc8-478c-9636-92278b567e26\" xlink:type=\"simple\"><rect fill=\"#FFFFFF\" height=\"88.3516\" id=\"E2\" style=\"stroke: #383838; stroke-width: 1.5;\" width=\"95\" x=\"498.5\" y=\"164\"/><text fill=\"#000000\" font-family=\"sans-serif\" font-size=\"12\" font-style=\"italic\" lengthAdjust=\"spacingAndGlyphs\" textLength=\"93\" x=\"499.5\" y=\"180.1387\">«attribute def»</text><text fill=\"#000000\" font-family=\"sans-serif\" font-size=\"12\" lengthAdjust=\"spacingAndGlyphs\" textLength=\"8\" x=\"542\" y=\"194.1074\">A</text><line style=\"stroke: #383838; stroke-width: 1.5;\" x1=\"499.5\" x2=\"592.5\" y1=\"201.9375\" y2=\"201.9375\"/><text fill=\"#000000\" font-family=\"sans-serif\" font-size=\"11\" lengthAdjust=\"spacingAndGlyphs\" textLength=\"48\" x=\"504.5\" y=\"232.9526\">x: String</text><text fill=\"#000000\" font-family=\"sans-serif\" font-size=\"11\" lengthAdjust=\"spacingAndGlyphs\" textLength=\"21\" x=\"504.5\" y=\"245.7573\">y: A</text><line style=\"stroke: #383838; stroke-width: 1.0;\" x1=\"499.5\" x2=\"518.5\" y1=\"216.3398\" y2=\"216.3398\"/><text fill=\"#000000\" font-family=\"sans-serif\" font-size=\"11\" lengthAdjust=\"spacingAndGlyphs\" textLength=\"55\" x=\"518.5\" y=\"219.6479\">attributes</text><line style=\"stroke: #383838; stroke-width: 1.0;\" x1=\"573.5\" x2=\"592.5\" y1=\"216.3398\" y2=\"216.3398\"/></a><!--MD5=[09b614a08d8cba4a07c9adeb5e0fee81]\n",
       "class E3--><a href=\"psysml:50ebccda-29a4-4ea8-943d-69f99c07f732\" target=\"_top\" title=\"psysml:50ebccda-29a4-4ea8-943d-69f99c07f732\" xlink:actuate=\"onRequest\" xlink:href=\"psysml:50ebccda-29a4-4ea8-943d-69f99c07f732\" xlink:show=\"new\" xlink:title=\"psysml:50ebccda-29a4-4ea8-943d-69f99c07f732\" xlink:type=\"simple\"><rect fill=\"#FFFFFF\" height=\"45.9375\" id=\"E3\" rx=\"10\" ry=\"10\" style=\"stroke: #383838; stroke-width: 1.5;\" width=\"71\" x=\"600.5\" y=\"41\"/><text fill=\"#000000\" font-family=\"sans-serif\" font-size=\"12\" font-style=\"italic\" lengthAdjust=\"spacingAndGlyphs\" textLength=\"69\" x=\"601.5\" y=\"57.1387\">«attribute»</text><text fill=\"#000000\" font-family=\"sans-serif\" font-size=\"12\" lengthAdjust=\"spacingAndGlyphs\" textLength=\"24\" x=\"624\" y=\"71.1074\">a: A</text><line style=\"stroke: #383838; stroke-width: 1.5;\" x1=\"601.5\" x2=\"670.5\" y1=\"78.9375\" y2=\"78.9375\"/></a><!--MD5=[ebbe1d658d1005bcc118a6aa81145e00]\n",
       "class E4--><a href=\"psysml:31ea6359-c2ac-42c4-9008-615ad8ad058c\" target=\"_top\" title=\"psysml:31ea6359-c2ac-42c4-9008-615ad8ad058c\" xlink:actuate=\"onRequest\" xlink:href=\"psysml:31ea6359-c2ac-42c4-9008-615ad8ad058c\" xlink:show=\"new\" xlink:title=\"psysml:31ea6359-c2ac-42c4-9008-615ad8ad058c\" xlink:type=\"simple\"><rect fill=\"#FFFFFF\" height=\"45.9375\" id=\"E4\" style=\"stroke: #383838; stroke-width: 1.5;\" width=\"108\" x=\"457\" y=\"41\"/><text fill=\"#000000\" font-family=\"sans-serif\" font-size=\"12\" font-style=\"italic\" lengthAdjust=\"spacingAndGlyphs\" textLength=\"106\" x=\"458\" y=\"57.1387\">«calculation def»</text><text fill=\"#000000\" font-family=\"sans-serif\" font-size=\"12\" lengthAdjust=\"spacingAndGlyphs\" textLength=\"7\" x=\"507.5\" y=\"71.1074\">F</text><line style=\"stroke: #383838; stroke-width: 1.5;\" x1=\"458\" x2=\"564\" y1=\"78.9375\" y2=\"78.9375\"/></a><!--MD5=[270fce915f116d4de14055a7c1d9a0f3]\n",
       "class E5--><a href=\"psysml:a5af055b-f2ee-4ef1-a486-dc312f464f3e\" target=\"_top\" title=\"psysml:a5af055b-f2ee-4ef1-a486-dc312f464f3e\" xlink:actuate=\"onRequest\" xlink:href=\"psysml:a5af055b-f2ee-4ef1-a486-dc312f464f3e\" xlink:show=\"new\" xlink:title=\"psysml:a5af055b-f2ee-4ef1-a486-dc312f464f3e\" xlink:type=\"simple\"><rect fill=\"#FFFFFF\" height=\"45.9375\" id=\"E5\" rx=\"10\" ry=\"10\" style=\"stroke: #383838; stroke-width: 1.5;\" width=\"71\" x=\"350.5\" y=\"41\"/><text fill=\"#000000\" font-family=\"sans-serif\" font-size=\"12\" font-style=\"italic\" lengthAdjust=\"spacingAndGlyphs\" textLength=\"69\" x=\"351.5\" y=\"57.1387\">«attribute»</text><text fill=\"#000000\" font-family=\"sans-serif\" font-size=\"12\" lengthAdjust=\"spacingAndGlyphs\" textLength=\"4\" x=\"384\" y=\"71.1074\">f</text><line style=\"stroke: #383838; stroke-width: 1.5;\" x1=\"351.5\" x2=\"420.5\" y1=\"78.9375\" y2=\"78.9375\"/></a><!--MD5=[60a26617385b1d2d0262a64233df1f8d]\n",
       "class E6--><a href=\"psysml:63113e1f-55f0-4199-b954-2673a0b317ed\" target=\"_top\" title=\"psysml:63113e1f-55f0-4199-b954-2673a0b317ed\" xlink:actuate=\"onRequest\" xlink:href=\"psysml:63113e1f-55f0-4199-b954-2673a0b317ed\" xlink:show=\"new\" xlink:title=\"psysml:63113e1f-55f0-4199-b954-2673a0b317ed\" xlink:type=\"simple\"><rect fill=\"#FFFFFF\" height=\"45.9375\" id=\"E6\" rx=\"10\" ry=\"10\" style=\"stroke: #383838; stroke-width: 1.5;\" width=\"71\" x=\"244.5\" y=\"41\"/><text fill=\"#000000\" font-family=\"sans-serif\" font-size=\"12\" font-style=\"italic\" lengthAdjust=\"spacingAndGlyphs\" textLength=\"69\" x=\"245.5\" y=\"57.1387\">«attribute»</text><text fill=\"#000000\" font-family=\"sans-serif\" font-size=\"12\" lengthAdjust=\"spacingAndGlyphs\" textLength=\"8\" x=\"276\" y=\"71.1074\">g</text><line style=\"stroke: #383838; stroke-width: 1.5;\" x1=\"245.5\" x2=\"314.5\" y1=\"78.9375\" y2=\"78.9375\"/></a><!--MD5=[2156ba9850f5573cc1fc38a6a4b2f02b]\n",
       "class E7--><a href=\"psysml:537e328f-e5cc-426a-9b09-8cf3e436744c\" target=\"_top\" title=\"psysml:537e328f-e5cc-426a-9b09-8cf3e436744c\" xlink:actuate=\"onRequest\" xlink:href=\"psysml:537e328f-e5cc-426a-9b09-8cf3e436744c\" xlink:show=\"new\" xlink:title=\"psysml:537e328f-e5cc-426a-9b09-8cf3e436744c\" xlink:type=\"simple\"><rect fill=\"#FFFFFF\" height=\"45.9375\" id=\"E7\" rx=\"10\" ry=\"10\" style=\"stroke: #383838; stroke-width: 1.5;\" width=\"71\" x=\"138.5\" y=\"41\"/><text fill=\"#000000\" font-family=\"sans-serif\" font-size=\"12\" font-style=\"italic\" lengthAdjust=\"spacingAndGlyphs\" textLength=\"69\" x=\"139.5\" y=\"57.1387\">«attribute»</text><text fill=\"#000000\" font-family=\"sans-serif\" font-size=\"12\" lengthAdjust=\"spacingAndGlyphs\" textLength=\"8\" x=\"170\" y=\"71.1074\">b</text><line style=\"stroke: #383838; stroke-width: 1.5;\" x1=\"139.5\" x2=\"208.5\" y1=\"78.9375\" y2=\"78.9375\"/></a><!--MD5=[b9389687b975829384b498ac4b7476b2]\n",
       "class E8--><a href=\"psysml:2b35c468-a57b-4dfd-a90f-3e1de4d6204b\" target=\"_top\" title=\"psysml:2b35c468-a57b-4dfd-a90f-3e1de4d6204b\" xlink:actuate=\"onRequest\" xlink:href=\"psysml:2b35c468-a57b-4dfd-a90f-3e1de4d6204b\" xlink:show=\"new\" xlink:title=\"psysml:2b35c468-a57b-4dfd-a90f-3e1de4d6204b\" xlink:type=\"simple\"><rect fill=\"#FFFFFF\" height=\"45.9375\" id=\"E8\" rx=\"10\" ry=\"10\" style=\"stroke: #383838; stroke-width: 1.5;\" width=\"71\" x=\"32.5\" y=\"41\"/><text fill=\"#000000\" font-family=\"sans-serif\" font-size=\"12\" font-style=\"italic\" lengthAdjust=\"spacingAndGlyphs\" textLength=\"69\" x=\"33.5\" y=\"57.1387\">«attribute»</text><text fill=\"#000000\" font-family=\"sans-serif\" font-size=\"12\" lengthAdjust=\"spacingAndGlyphs\" textLength=\"7\" x=\"64.5\" y=\"71.1074\">c</text><line style=\"stroke: #383838; stroke-width: 1.5;\" x1=\"33.5\" x2=\"102.5\" y1=\"78.9375\" y2=\"78.9375\"/></a><!--MD5=[05d275557350bfb9b23a4ef7222b4c39]\n",
       "link E3 to E2--><a href=\"psysml:50b306d4-0f13-410b-aa85-567dae9acdd8\" target=\"_top\" title=\"psysml:50b306d4-0f13-410b-aa85-567dae9acdd8\" xlink:actuate=\"onRequest\" xlink:href=\"psysml:50b306d4-0f13-410b-aa85-567dae9acdd8\" xlink:show=\"new\" xlink:title=\"psysml:50b306d4-0f13-410b-aa85-567dae9acdd8\" xlink:type=\"simple\"><path d=\"M621.94,87.19 C611.77,103.23 597.51,125.73 584.09,146.9 \" fill=\"none\" id=\"E3-&gt;E2\" style=\"stroke: #383838; stroke-width: 1.0;\"/><polygon fill=\"#FFFFFF\" points=\"573.37,163.82,577.6195,144.0225,589.448,151.5115,573.37,163.82\" style=\"stroke: #383838; stroke-width: 1.0;\"/><ellipse cx=\"582.3584\" cy=\"140.2764\" fill=\"#383838\" rx=\"2\" ry=\"2\" style=\"stroke: #383838; stroke-width: 1.0;\"/><ellipse cx=\"590.8073\" cy=\"145.6258\" fill=\"#383838\" rx=\"2\" ry=\"2\" style=\"stroke: #383838; stroke-width: 1.0;\"/></a><!--MD5=[ddeed8deb2209213b62e6cfabaa108b2]\n",
       "reverse link E4 to E2--><a href=\"psysml:c5b3d96c-9fe7-4ab4-b771-6776a88b0ad4\" target=\"_top\" title=\"psysml:c5b3d96c-9fe7-4ab4-b771-6776a88b0ad4\" xlink:actuate=\"onRequest\" xlink:href=\"psysml:c5b3d96c-9fe7-4ab4-b771-6776a88b0ad4\" xlink:show=\"new\" xlink:title=\"psysml:c5b3d96c-9fe7-4ab4-b771-6776a88b0ad4\" xlink:type=\"simple\"><path d=\"M519.62,99.96 C524.37,119.25 530.31,143.36 535.36,163.82 \" fill=\"none\" id=\"E4&lt;-E2\" style=\"stroke: #383838; stroke-width: 1.0;\"/><polygon fill=\"#FFFFFF\" points=\"516.47,87.19,514.0229,93.9732,519.3432,98.841,521.7903,92.0577,516.47,87.19\" style=\"stroke: #383838; stroke-width: 1.0;\"/><text fill=\"#000000\" font-family=\"sans-serif\" font-size=\"13\" lengthAdjust=\"spacingAndGlyphs\" textLength=\"8\" x=\"528\" y=\"130.0669\">p</text></a><!--MD5=[3673d7799fd6827b4d1a4c049dc92634]\n",
       "@startuml\r\n",
       "top to bottom direction\r\n",
       "skinparam monochrome true\r\n",
       "skinparam classbackgroundcolor white\r\n",
       "skinparam shadowing false\r\n",
       "skinparam wrapWidth 300\r\n",
       "hide circle\r\n",
       "\r\n",
       "package \"ParameterTest\" as E1  [[psysml:c7000c50-df42-41d3-9ba9-36eed14db093 ]]  {\r\n",
       "comp def \"A\" as E2  <<(T,blue)attribute def>> [[psysml:cb02a2ee-bdc8-478c-9636-92278b567e26 ]] {\r\n",
       "- - attributes - -\r\n",
       "x: String\r\n",
       "y: A\r\n",
       "}\r\n",
       "comp usage \"a: A\" as E3  <<(T,blue)attribute>> [[psysml:50ebccda-29a4-4ea8-943d-69f99c07f732 ]] {\r\n",
       "}\r\n",
       "comp def \"F\" as E4  <<(T,blue)calculation def>> [[psysml:31ea6359-c2ac-42c4-9008-615ad8ad058c ]] {\r\n",
       "}\r\n",
       "comp usage \"f\" as E5  <<(T,blue)attribute>> [[psysml:a5af055b-f2ee-4ef1-a486-dc312f464f3e ]] {\r\n",
       "}\r\n",
       "comp usage \"g\" as E6  <<(T,blue)attribute>> [[psysml:63113e1f-55f0-4199-b954-2673a0b317ed ]] {\r\n",
       "}\r\n",
       "comp usage \"b\" as E7  <<(T,blue)attribute>> [[psysml:537e328f-e5cc-426a-9b09-8cf3e436744c ]] {\r\n",
       "}\r\n",
       "comp usage \"c\" as E8  <<(T,blue)attribute>> [[psysml:2b35c468-a57b-4dfd-a90f-3e1de4d6204b ]] {\r\n",
       "}\r\n",
       "E3 - -:|> E2 [[psysml:50b306d4-0f13-410b-aa85-567dae9acdd8 ]] \r\n",
       "E4 o- - E2 [[psysml:c5b3d96c-9fe7-4ab4-b771-6776a88b0ad4 ]] : p\r\n",
       "}\r\n",
       "@enduml\r\n",
       "\n",
       "PlantUML version 1.2020.13(Sat Jun 13 12:26:38 UTC 2020)\n",
       "(EPL source distribution)\n",
       "Java Runtime: OpenJDK Runtime Environment\n",
       "JVM: OpenJDK 64-Bit Server VM\n",
       "Default Encoding: UTF-8\n",
       "Language: en\n",
       "Country: null\n",
       "--></g></svg>"
      ]
     },
     "execution_count": 49,
     "metadata": {},
     "output_type": "execute_result"
    }
   ],
   "source": [
    "%viz --style=\"TB\" --view=\"Sequence\" \"ParameterTest\""
   ]
  },
  {
   "cell_type": "code",
   "execution_count": 50,
   "id": "southern-failing",
   "metadata": {
    "execution": {
     "iopub.execute_input": "2021-03-25T15:03:19.710226Z",
     "iopub.status.busy": "2021-03-25T15:03:19.709597Z",
     "iopub.status.idle": "2021-03-25T15:03:20.000935Z",
     "shell.execute_reply": "2021-03-25T15:03:19.999484Z"
    }
   },
   "outputs": [
    {
     "data": {
      "image/svg+xml": [
       "<?xml version=\"1.0\" encoding=\"UTF-8\" standalone=\"no\"?><svg xmlns=\"http://www.w3.org/2000/svg\" xmlns:xlink=\"http://www.w3.org/1999/xlink\" contentScriptType=\"application/ecmascript\" contentStyleType=\"text/css\" height=\"263px\" preserveAspectRatio=\"none\" style=\"width:740px;height:263px;\" version=\"1.1\" viewBox=\"0 0 740 263\" width=\"740px\" zoomAndPan=\"magnify\"><defs/><g><!--MD5=[fbc87193dbaf4d95561dea2c320d4a47]\n",
       "cluster E1--><a href=\"psysml:c7000c50-df42-41d3-9ba9-36eed14db093\" target=\"_top\" title=\"psysml:c7000c50-df42-41d3-9ba9-36eed14db093\" xlink:actuate=\"onRequest\" xlink:href=\"psysml:c7000c50-df42-41d3-9ba9-36eed14db093\" xlink:show=\"new\" xlink:title=\"psysml:c7000c50-df42-41d3-9ba9-36eed14db093\" xlink:type=\"simple\"><polygon fill=\"#FFFFFF\" points=\"16,6,139,6,146,28.2969,718,28.2969,718,251,16,251,16,6\" style=\"stroke: #000000; stroke-width: 1.5;\"/><line style=\"stroke: #000000; stroke-width: 1.5;\" x1=\"16\" x2=\"146\" y1=\"28.2969\" y2=\"28.2969\"/><text fill=\"#000000\" font-family=\"sans-serif\" font-size=\"14\" font-weight=\"bold\" lengthAdjust=\"spacingAndGlyphs\" textLength=\"117\" x=\"20\" y=\"20.9951\">ParameterTest</text></a><!--MD5=[f6df4d0ebaf0b5dfb2ced0ae5af7c670]\n",
       "cluster E4--><a href=\"psysml:31ea6359-c2ac-42c4-9008-615ad8ad058c\" target=\"_top\" title=\"psysml:31ea6359-c2ac-42c4-9008-615ad8ad058c\" xlink:actuate=\"onRequest\" xlink:href=\"psysml:31ea6359-c2ac-42c4-9008-615ad8ad058c\" xlink:show=\"new\" xlink:title=\"psysml:31ea6359-c2ac-42c4-9008-615ad8ad058c\" xlink:type=\"simple\"><rect fill=\"#FFFFFF\" height=\"160.5\" id=\"E4\" style=\"stroke: #383838; stroke-width: 1.5;\" width=\"148\" x=\"554\" y=\"64\"/><rect fill=\"#F8F8F8\" height=\"37.9375\" style=\"stroke: #383838; stroke-width: 1.5;\" width=\"148\" x=\"554\" y=\"64\"/><text fill=\"#000000\" font-family=\"sans-serif\" font-size=\"12\" font-style=\"italic\" lengthAdjust=\"spacingAndGlyphs\" textLength=\"106\" x=\"575\" y=\"80.1387\">«calculation def»</text><text fill=\"#000000\" font-family=\"sans-serif\" font-size=\"12\" lengthAdjust=\"spacingAndGlyphs\" textLength=\"7\" x=\"624.5\" y=\"94.1074\">F</text></a><!--MD5=[b4997ac47864f28c2f74865a473b2911]\n",
       "class E2--><a href=\"psysml:cb02a2ee-bdc8-478c-9636-92278b567e26\" target=\"_top\" title=\"psysml:cb02a2ee-bdc8-478c-9636-92278b567e26\" xlink:actuate=\"onRequest\" xlink:href=\"psysml:cb02a2ee-bdc8-478c-9636-92278b567e26\" xlink:show=\"new\" xlink:title=\"psysml:cb02a2ee-bdc8-478c-9636-92278b567e26\" xlink:type=\"simple\"><rect fill=\"#FFFFFF\" height=\"88.3516\" id=\"E2\" style=\"stroke: #383838; stroke-width: 1.5;\" width=\"95\" x=\"422.5\" y=\"147\"/><text fill=\"#000000\" font-family=\"sans-serif\" font-size=\"12\" font-style=\"italic\" lengthAdjust=\"spacingAndGlyphs\" textLength=\"93\" x=\"423.5\" y=\"163.1387\">«attribute def»</text><text fill=\"#000000\" font-family=\"sans-serif\" font-size=\"12\" lengthAdjust=\"spacingAndGlyphs\" textLength=\"8\" x=\"466\" y=\"177.1074\">A</text><line style=\"stroke: #383838; stroke-width: 1.5;\" x1=\"423.5\" x2=\"516.5\" y1=\"184.9375\" y2=\"184.9375\"/><text fill=\"#000000\" font-family=\"sans-serif\" font-size=\"11\" lengthAdjust=\"spacingAndGlyphs\" textLength=\"48\" x=\"428.5\" y=\"215.9526\">x: String</text><text fill=\"#000000\" font-family=\"sans-serif\" font-size=\"11\" lengthAdjust=\"spacingAndGlyphs\" textLength=\"21\" x=\"428.5\" y=\"228.7573\">y: A</text><line style=\"stroke: #383838; stroke-width: 1.0;\" x1=\"423.5\" x2=\"442.5\" y1=\"199.3398\" y2=\"199.3398\"/><text fill=\"#000000\" font-family=\"sans-serif\" font-size=\"11\" lengthAdjust=\"spacingAndGlyphs\" textLength=\"55\" x=\"442.5\" y=\"202.6479\">attributes</text><line style=\"stroke: #383838; stroke-width: 1.0;\" x1=\"497.5\" x2=\"516.5\" y1=\"199.3398\" y2=\"199.3398\"/></a><!--MD5=[09b614a08d8cba4a07c9adeb5e0fee81]\n",
       "class E3--><a href=\"psysml:50ebccda-29a4-4ea8-943d-69f99c07f732\" target=\"_top\" title=\"psysml:50ebccda-29a4-4ea8-943d-69f99c07f732\" xlink:actuate=\"onRequest\" xlink:href=\"psysml:50ebccda-29a4-4ea8-943d-69f99c07f732\" xlink:show=\"new\" xlink:title=\"psysml:50ebccda-29a4-4ea8-943d-69f99c07f732\" xlink:type=\"simple\"><rect fill=\"#FFFFFF\" height=\"45.9375\" id=\"E3\" rx=\"10\" ry=\"10\" style=\"stroke: #383838; stroke-width: 1.5;\" width=\"71\" x=\"456.5\" y=\"41\"/><text fill=\"#000000\" font-family=\"sans-serif\" font-size=\"12\" font-style=\"italic\" lengthAdjust=\"spacingAndGlyphs\" textLength=\"69\" x=\"457.5\" y=\"57.1387\">«attribute»</text><text fill=\"#000000\" font-family=\"sans-serif\" font-size=\"12\" lengthAdjust=\"spacingAndGlyphs\" textLength=\"24\" x=\"480\" y=\"71.1074\">a: A</text><line style=\"stroke: #383838; stroke-width: 1.5;\" x1=\"457.5\" x2=\"526.5\" y1=\"78.9375\" y2=\"78.9375\"/></a><!--MD5=[2156ba9850f5573cc1fc38a6a4b2f02b]\n",
       "class E7--><a href=\"psysml:a5af055b-f2ee-4ef1-a486-dc312f464f3e\" target=\"_top\" title=\"psysml:a5af055b-f2ee-4ef1-a486-dc312f464f3e\" xlink:actuate=\"onRequest\" xlink:href=\"psysml:a5af055b-f2ee-4ef1-a486-dc312f464f3e\" xlink:show=\"new\" xlink:title=\"psysml:a5af055b-f2ee-4ef1-a486-dc312f464f3e\" xlink:type=\"simple\"><rect fill=\"#FFFFFF\" height=\"45.9375\" id=\"E7\" rx=\"10\" ry=\"10\" style=\"stroke: #383838; stroke-width: 1.5;\" width=\"71\" x=\"350.5\" y=\"41\"/><text fill=\"#000000\" font-family=\"sans-serif\" font-size=\"12\" font-style=\"italic\" lengthAdjust=\"spacingAndGlyphs\" textLength=\"69\" x=\"351.5\" y=\"57.1387\">«attribute»</text><text fill=\"#000000\" font-family=\"sans-serif\" font-size=\"12\" lengthAdjust=\"spacingAndGlyphs\" textLength=\"4\" x=\"384\" y=\"71.1074\">f</text><line style=\"stroke: #383838; stroke-width: 1.5;\" x1=\"351.5\" x2=\"420.5\" y1=\"78.9375\" y2=\"78.9375\"/></a><!--MD5=[b9389687b975829384b498ac4b7476b2]\n",
       "class E8--><a href=\"psysml:63113e1f-55f0-4199-b954-2673a0b317ed\" target=\"_top\" title=\"psysml:63113e1f-55f0-4199-b954-2673a0b317ed\" xlink:actuate=\"onRequest\" xlink:href=\"psysml:63113e1f-55f0-4199-b954-2673a0b317ed\" xlink:show=\"new\" xlink:title=\"psysml:63113e1f-55f0-4199-b954-2673a0b317ed\" xlink:type=\"simple\"><rect fill=\"#FFFFFF\" height=\"45.9375\" id=\"E8\" rx=\"10\" ry=\"10\" style=\"stroke: #383838; stroke-width: 1.5;\" width=\"71\" x=\"244.5\" y=\"41\"/><text fill=\"#000000\" font-family=\"sans-serif\" font-size=\"12\" font-style=\"italic\" lengthAdjust=\"spacingAndGlyphs\" textLength=\"69\" x=\"245.5\" y=\"57.1387\">«attribute»</text><text fill=\"#000000\" font-family=\"sans-serif\" font-size=\"12\" lengthAdjust=\"spacingAndGlyphs\" textLength=\"8\" x=\"276\" y=\"71.1074\">g</text><line style=\"stroke: #383838; stroke-width: 1.5;\" x1=\"245.5\" x2=\"314.5\" y1=\"78.9375\" y2=\"78.9375\"/></a><!--MD5=[fd4143e9d270a159db93a4ea2a975926]\n",
       "class E9--><a href=\"psysml:537e328f-e5cc-426a-9b09-8cf3e436744c\" target=\"_top\" title=\"psysml:537e328f-e5cc-426a-9b09-8cf3e436744c\" xlink:actuate=\"onRequest\" xlink:href=\"psysml:537e328f-e5cc-426a-9b09-8cf3e436744c\" xlink:show=\"new\" xlink:title=\"psysml:537e328f-e5cc-426a-9b09-8cf3e436744c\" xlink:type=\"simple\"><rect fill=\"#FFFFFF\" height=\"45.9375\" id=\"E9\" rx=\"10\" ry=\"10\" style=\"stroke: #383838; stroke-width: 1.5;\" width=\"71\" x=\"138.5\" y=\"41\"/><text fill=\"#000000\" font-family=\"sans-serif\" font-size=\"12\" font-style=\"italic\" lengthAdjust=\"spacingAndGlyphs\" textLength=\"69\" x=\"139.5\" y=\"57.1387\">«attribute»</text><text fill=\"#000000\" font-family=\"sans-serif\" font-size=\"12\" lengthAdjust=\"spacingAndGlyphs\" textLength=\"8\" x=\"170\" y=\"71.1074\">b</text><line style=\"stroke: #383838; stroke-width: 1.5;\" x1=\"139.5\" x2=\"208.5\" y1=\"78.9375\" y2=\"78.9375\"/></a><!--MD5=[96f4274e9e20536e775497830990834d]\n",
       "class E10--><a href=\"psysml:2b35c468-a57b-4dfd-a90f-3e1de4d6204b\" target=\"_top\" title=\"psysml:2b35c468-a57b-4dfd-a90f-3e1de4d6204b\" xlink:actuate=\"onRequest\" xlink:href=\"psysml:2b35c468-a57b-4dfd-a90f-3e1de4d6204b\" xlink:show=\"new\" xlink:title=\"psysml:2b35c468-a57b-4dfd-a90f-3e1de4d6204b\" xlink:type=\"simple\"><rect fill=\"#FFFFFF\" height=\"45.9375\" id=\"E10\" rx=\"10\" ry=\"10\" style=\"stroke: #383838; stroke-width: 1.5;\" width=\"71\" x=\"32.5\" y=\"41\"/><text fill=\"#000000\" font-family=\"sans-serif\" font-size=\"12\" font-style=\"italic\" lengthAdjust=\"spacingAndGlyphs\" textLength=\"69\" x=\"33.5\" y=\"57.1387\">«attribute»</text><text fill=\"#000000\" font-family=\"sans-serif\" font-size=\"12\" lengthAdjust=\"spacingAndGlyphs\" textLength=\"7\" x=\"64.5\" y=\"71.1074\">c</text><line style=\"stroke: #383838; stroke-width: 1.5;\" x1=\"33.5\" x2=\"102.5\" y1=\"78.9375\" y2=\"78.9375\"/></a><text fill=\"#000000\" font-family=\"sans-serif\" font-size=\"14\" lengthAdjust=\"spacingAndGlyphs\" textLength=\"9\" x=\"567.5\" y=\"42.6982\">p</text><rect fill=\"#383838\" height=\"12\" style=\"stroke: #F8F8F8; stroke-width: 1.5;\" width=\"12\" x=\"566\" y=\"58\"/><text fill=\"#000000\" font-family=\"sans-serif\" font-size=\"14\" lengthAdjust=\"spacingAndGlyphs\" textLength=\"9\" x=\"614.5\" y=\"42.6982\">q</text><rect fill=\"#383838\" height=\"12\" style=\"stroke: #F8F8F8; stroke-width: 1.5;\" width=\"12\" x=\"613\" y=\"58\"/><!--MD5=[05d275557350bfb9b23a4ef7222b4c39]\n",
       "link E3 to E2--><a href=\"psysml:50b306d4-0f13-410b-aa85-567dae9acdd8\" target=\"_top\" title=\"psysml:50b306d4-0f13-410b-aa85-567dae9acdd8\" xlink:actuate=\"onRequest\" xlink:href=\"psysml:50b306d4-0f13-410b-aa85-567dae9acdd8\" xlink:show=\"new\" xlink:title=\"psysml:50b306d4-0f13-410b-aa85-567dae9acdd8\" xlink:type=\"simple\"><path d=\"M488.12,87.06 C486.14,98.3 483.62,112.6 481.1,126.95 \" fill=\"none\" id=\"E3-&gt;E2\" style=\"stroke: #383838; stroke-width: 1.0;\"/><polygon fill=\"#FFFFFF\" points=\"477.58,146.93,473.9835,127.0035,487.7711,129.4331,477.58,146.93\" style=\"stroke: #383838; stroke-width: 1.0;\"/><ellipse cx=\"476.9423\" cy=\"121.7371\" fill=\"#383838\" rx=\"2\" ry=\"2\" style=\"stroke: #383838; stroke-width: 1.0;\"/><ellipse cx=\"486.7906\" cy=\"123.4725\" fill=\"#383838\" rx=\"2\" ry=\"2\" style=\"stroke: #383838; stroke-width: 1.0;\"/></a><!--MD5=[f9657c57b36a4952b0a4cc189473a5ce]\n",
       "@startuml\r\n",
       "top to bottom direction\r\n",
       "skinparam monochrome true\r\n",
       "skinparam classbackgroundcolor white\r\n",
       "skinparam shadowing false\r\n",
       "skinparam wrapWidth 300\r\n",
       "hide circle\r\n",
       "\r\n",
       "package \"ParameterTest\" as E1  [[psysml:c7000c50-df42-41d3-9ba9-36eed14db093 ]]  {\r\n",
       "comp def \"A\" as E2  <<(T,blue)attribute def>> [[psysml:cb02a2ee-bdc8-478c-9636-92278b567e26 ]] {\r\n",
       "- - attributes - -\r\n",
       "x: String\r\n",
       "y: A\r\n",
       "}\r\n",
       "comp usage \"a: A\" as E3  <<(T,blue)attribute>> [[psysml:50ebccda-29a4-4ea8-943d-69f99c07f732 ]] {\r\n",
       "}\r\n",
       "rec def \"F\" as E4  <<(T,blue)calculation def>> [[psysml:31ea6359-c2ac-42c4-9008-615ad8ad058c ]] {\r\n",
       "portin \"p\" as E5  [[psysml:c5b3d96c-9fe7-4ab4-b771-6776a88b0ad4 ]] \r\n",
       "portin \"q\" as E6  [[psysml:66adf659-8704-40ab-88b3-19d2477512b1 ]] \r\n",
       "}\r\n",
       "\r\n",
       "comp usage \"f\" as E7  <<(T,blue)attribute>> [[psysml:a5af055b-f2ee-4ef1-a486-dc312f464f3e ]] {\r\n",
       "}\r\n",
       "comp usage \"g\" as E8  <<(T,blue)attribute>> [[psysml:63113e1f-55f0-4199-b954-2673a0b317ed ]] {\r\n",
       "}\r\n",
       "comp usage \"b\" as E9  <<(T,blue)attribute>> [[psysml:537e328f-e5cc-426a-9b09-8cf3e436744c ]] {\r\n",
       "}\r\n",
       "comp usage \"c\" as E10  <<(T,blue)attribute>> [[psysml:2b35c468-a57b-4dfd-a90f-3e1de4d6204b ]] {\r\n",
       "}\r\n",
       "E3 - -:|> E2 [[psysml:50b306d4-0f13-410b-aa85-567dae9acdd8 ]] \r\n",
       "}\r\n",
       "@enduml\r\n",
       "\n",
       "PlantUML version 1.2020.13(Sat Jun 13 12:26:38 UTC 2020)\n",
       "(EPL source distribution)\n",
       "Java Runtime: OpenJDK Runtime Environment\n",
       "JVM: OpenJDK 64-Bit Server VM\n",
       "Default Encoding: UTF-8\n",
       "Language: en\n",
       "Country: null\n",
       "--></g></svg>"
      ]
     },
     "execution_count": 50,
     "metadata": {},
     "output_type": "execute_result"
    }
   ],
   "source": [
    "%viz --style=\"TB\" --view=\"MIXED\" \"ParameterTest\""
   ]
  },
  {
   "cell_type": "code",
   "execution_count": 51,
   "id": "legendary-factory",
   "metadata": {
    "execution": {
     "iopub.execute_input": "2021-03-25T15:03:20.051531Z",
     "iopub.status.busy": "2021-03-25T15:03:20.050918Z",
     "iopub.status.idle": "2021-03-25T15:03:20.334620Z",
     "shell.execute_reply": "2021-03-25T15:03:20.332749Z"
    }
   },
   "outputs": [
    {
     "data": {
      "image/svg+xml": [
       "<?xml version=\"1.0\" encoding=\"UTF-8\" standalone=\"no\"?><svg xmlns=\"http://www.w3.org/2000/svg\" xmlns:xlink=\"http://www.w3.org/1999/xlink\" contentScriptType=\"application/ecmascript\" contentStyleType=\"text/css\" height=\"263px\" preserveAspectRatio=\"none\" style=\"width:740px;height:263px;\" version=\"1.1\" viewBox=\"0 0 740 263\" width=\"740px\" zoomAndPan=\"magnify\"><defs/><g><!--MD5=[fbc87193dbaf4d95561dea2c320d4a47]\n",
       "cluster E1--><a href=\"psysml:c7000c50-df42-41d3-9ba9-36eed14db093\" target=\"_top\" title=\"psysml:c7000c50-df42-41d3-9ba9-36eed14db093\" xlink:actuate=\"onRequest\" xlink:href=\"psysml:c7000c50-df42-41d3-9ba9-36eed14db093\" xlink:show=\"new\" xlink:title=\"psysml:c7000c50-df42-41d3-9ba9-36eed14db093\" xlink:type=\"simple\"><polygon fill=\"#FFFFFF\" points=\"16,6,139,6,146,28.2969,718,28.2969,718,251,16,251,16,6\" style=\"stroke: #000000; stroke-width: 1.5;\"/><line style=\"stroke: #000000; stroke-width: 1.5;\" x1=\"16\" x2=\"146\" y1=\"28.2969\" y2=\"28.2969\"/><text fill=\"#000000\" font-family=\"sans-serif\" font-size=\"14\" font-weight=\"bold\" lengthAdjust=\"spacingAndGlyphs\" textLength=\"117\" x=\"20\" y=\"20.9951\">ParameterTest</text></a><!--MD5=[f6df4d0ebaf0b5dfb2ced0ae5af7c670]\n",
       "cluster E4--><a href=\"psysml:31ea6359-c2ac-42c4-9008-615ad8ad058c\" target=\"_top\" title=\"psysml:31ea6359-c2ac-42c4-9008-615ad8ad058c\" xlink:actuate=\"onRequest\" xlink:href=\"psysml:31ea6359-c2ac-42c4-9008-615ad8ad058c\" xlink:show=\"new\" xlink:title=\"psysml:31ea6359-c2ac-42c4-9008-615ad8ad058c\" xlink:type=\"simple\"><rect fill=\"#FFFFFF\" height=\"160.5\" id=\"E4\" style=\"stroke: #383838; stroke-width: 1.5;\" width=\"148\" x=\"554\" y=\"64\"/><rect fill=\"#F8F8F8\" height=\"37.9375\" style=\"stroke: #383838; stroke-width: 1.5;\" width=\"148\" x=\"554\" y=\"64\"/><text fill=\"#000000\" font-family=\"sans-serif\" font-size=\"12\" font-style=\"italic\" lengthAdjust=\"spacingAndGlyphs\" textLength=\"106\" x=\"575\" y=\"80.1387\">«calculation def»</text><text fill=\"#000000\" font-family=\"sans-serif\" font-size=\"12\" lengthAdjust=\"spacingAndGlyphs\" textLength=\"7\" x=\"624.5\" y=\"94.1074\">F</text></a><!--MD5=[b4997ac47864f28c2f74865a473b2911]\n",
       "class E2--><a href=\"psysml:cb02a2ee-bdc8-478c-9636-92278b567e26\" target=\"_top\" title=\"psysml:cb02a2ee-bdc8-478c-9636-92278b567e26\" xlink:actuate=\"onRequest\" xlink:href=\"psysml:cb02a2ee-bdc8-478c-9636-92278b567e26\" xlink:show=\"new\" xlink:title=\"psysml:cb02a2ee-bdc8-478c-9636-92278b567e26\" xlink:type=\"simple\"><rect fill=\"#FFFFFF\" height=\"88.3516\" id=\"E2\" style=\"stroke: #383838; stroke-width: 1.5;\" width=\"95\" x=\"422.5\" y=\"147\"/><text fill=\"#000000\" font-family=\"sans-serif\" font-size=\"12\" font-style=\"italic\" lengthAdjust=\"spacingAndGlyphs\" textLength=\"93\" x=\"423.5\" y=\"163.1387\">«attribute def»</text><text fill=\"#000000\" font-family=\"sans-serif\" font-size=\"12\" lengthAdjust=\"spacingAndGlyphs\" textLength=\"8\" x=\"466\" y=\"177.1074\">A</text><line style=\"stroke: #383838; stroke-width: 1.5;\" x1=\"423.5\" x2=\"516.5\" y1=\"184.9375\" y2=\"184.9375\"/><text fill=\"#000000\" font-family=\"sans-serif\" font-size=\"11\" lengthAdjust=\"spacingAndGlyphs\" textLength=\"48\" x=\"428.5\" y=\"215.9526\">x: String</text><text fill=\"#000000\" font-family=\"sans-serif\" font-size=\"11\" lengthAdjust=\"spacingAndGlyphs\" textLength=\"21\" x=\"428.5\" y=\"228.7573\">y: A</text><line style=\"stroke: #383838; stroke-width: 1.0;\" x1=\"423.5\" x2=\"442.5\" y1=\"199.3398\" y2=\"199.3398\"/><text fill=\"#000000\" font-family=\"sans-serif\" font-size=\"11\" lengthAdjust=\"spacingAndGlyphs\" textLength=\"55\" x=\"442.5\" y=\"202.6479\">attributes</text><line style=\"stroke: #383838; stroke-width: 1.0;\" x1=\"497.5\" x2=\"516.5\" y1=\"199.3398\" y2=\"199.3398\"/></a><!--MD5=[09b614a08d8cba4a07c9adeb5e0fee81]\n",
       "class E3--><a href=\"psysml:50ebccda-29a4-4ea8-943d-69f99c07f732\" target=\"_top\" title=\"psysml:50ebccda-29a4-4ea8-943d-69f99c07f732\" xlink:actuate=\"onRequest\" xlink:href=\"psysml:50ebccda-29a4-4ea8-943d-69f99c07f732\" xlink:show=\"new\" xlink:title=\"psysml:50ebccda-29a4-4ea8-943d-69f99c07f732\" xlink:type=\"simple\"><rect fill=\"#FFFFFF\" height=\"45.9375\" id=\"E3\" rx=\"10\" ry=\"10\" style=\"stroke: #383838; stroke-width: 1.5;\" width=\"71\" x=\"456.5\" y=\"41\"/><text fill=\"#000000\" font-family=\"sans-serif\" font-size=\"12\" font-style=\"italic\" lengthAdjust=\"spacingAndGlyphs\" textLength=\"69\" x=\"457.5\" y=\"57.1387\">«attribute»</text><text fill=\"#000000\" font-family=\"sans-serif\" font-size=\"12\" lengthAdjust=\"spacingAndGlyphs\" textLength=\"24\" x=\"480\" y=\"71.1074\">a: A</text><line style=\"stroke: #383838; stroke-width: 1.5;\" x1=\"457.5\" x2=\"526.5\" y1=\"78.9375\" y2=\"78.9375\"/></a><!--MD5=[2156ba9850f5573cc1fc38a6a4b2f02b]\n",
       "class E7--><a href=\"psysml:a5af055b-f2ee-4ef1-a486-dc312f464f3e\" target=\"_top\" title=\"psysml:a5af055b-f2ee-4ef1-a486-dc312f464f3e\" xlink:actuate=\"onRequest\" xlink:href=\"psysml:a5af055b-f2ee-4ef1-a486-dc312f464f3e\" xlink:show=\"new\" xlink:title=\"psysml:a5af055b-f2ee-4ef1-a486-dc312f464f3e\" xlink:type=\"simple\"><rect fill=\"#FFFFFF\" height=\"45.9375\" id=\"E7\" rx=\"10\" ry=\"10\" style=\"stroke: #383838; stroke-width: 1.5;\" width=\"71\" x=\"350.5\" y=\"41\"/><text fill=\"#000000\" font-family=\"sans-serif\" font-size=\"12\" font-style=\"italic\" lengthAdjust=\"spacingAndGlyphs\" textLength=\"69\" x=\"351.5\" y=\"57.1387\">«attribute»</text><text fill=\"#000000\" font-family=\"sans-serif\" font-size=\"12\" lengthAdjust=\"spacingAndGlyphs\" textLength=\"4\" x=\"384\" y=\"71.1074\">f</text><line style=\"stroke: #383838; stroke-width: 1.5;\" x1=\"351.5\" x2=\"420.5\" y1=\"78.9375\" y2=\"78.9375\"/></a><!--MD5=[b9389687b975829384b498ac4b7476b2]\n",
       "class E8--><a href=\"psysml:63113e1f-55f0-4199-b954-2673a0b317ed\" target=\"_top\" title=\"psysml:63113e1f-55f0-4199-b954-2673a0b317ed\" xlink:actuate=\"onRequest\" xlink:href=\"psysml:63113e1f-55f0-4199-b954-2673a0b317ed\" xlink:show=\"new\" xlink:title=\"psysml:63113e1f-55f0-4199-b954-2673a0b317ed\" xlink:type=\"simple\"><rect fill=\"#FFFFFF\" height=\"45.9375\" id=\"E8\" rx=\"10\" ry=\"10\" style=\"stroke: #383838; stroke-width: 1.5;\" width=\"71\" x=\"244.5\" y=\"41\"/><text fill=\"#000000\" font-family=\"sans-serif\" font-size=\"12\" font-style=\"italic\" lengthAdjust=\"spacingAndGlyphs\" textLength=\"69\" x=\"245.5\" y=\"57.1387\">«attribute»</text><text fill=\"#000000\" font-family=\"sans-serif\" font-size=\"12\" lengthAdjust=\"spacingAndGlyphs\" textLength=\"8\" x=\"276\" y=\"71.1074\">g</text><line style=\"stroke: #383838; stroke-width: 1.5;\" x1=\"245.5\" x2=\"314.5\" y1=\"78.9375\" y2=\"78.9375\"/></a><!--MD5=[fd4143e9d270a159db93a4ea2a975926]\n",
       "class E9--><a href=\"psysml:537e328f-e5cc-426a-9b09-8cf3e436744c\" target=\"_top\" title=\"psysml:537e328f-e5cc-426a-9b09-8cf3e436744c\" xlink:actuate=\"onRequest\" xlink:href=\"psysml:537e328f-e5cc-426a-9b09-8cf3e436744c\" xlink:show=\"new\" xlink:title=\"psysml:537e328f-e5cc-426a-9b09-8cf3e436744c\" xlink:type=\"simple\"><rect fill=\"#FFFFFF\" height=\"45.9375\" id=\"E9\" rx=\"10\" ry=\"10\" style=\"stroke: #383838; stroke-width: 1.5;\" width=\"71\" x=\"138.5\" y=\"41\"/><text fill=\"#000000\" font-family=\"sans-serif\" font-size=\"12\" font-style=\"italic\" lengthAdjust=\"spacingAndGlyphs\" textLength=\"69\" x=\"139.5\" y=\"57.1387\">«attribute»</text><text fill=\"#000000\" font-family=\"sans-serif\" font-size=\"12\" lengthAdjust=\"spacingAndGlyphs\" textLength=\"8\" x=\"170\" y=\"71.1074\">b</text><line style=\"stroke: #383838; stroke-width: 1.5;\" x1=\"139.5\" x2=\"208.5\" y1=\"78.9375\" y2=\"78.9375\"/></a><!--MD5=[96f4274e9e20536e775497830990834d]\n",
       "class E10--><a href=\"psysml:2b35c468-a57b-4dfd-a90f-3e1de4d6204b\" target=\"_top\" title=\"psysml:2b35c468-a57b-4dfd-a90f-3e1de4d6204b\" xlink:actuate=\"onRequest\" xlink:href=\"psysml:2b35c468-a57b-4dfd-a90f-3e1de4d6204b\" xlink:show=\"new\" xlink:title=\"psysml:2b35c468-a57b-4dfd-a90f-3e1de4d6204b\" xlink:type=\"simple\"><rect fill=\"#FFFFFF\" height=\"45.9375\" id=\"E10\" rx=\"10\" ry=\"10\" style=\"stroke: #383838; stroke-width: 1.5;\" width=\"71\" x=\"32.5\" y=\"41\"/><text fill=\"#000000\" font-family=\"sans-serif\" font-size=\"12\" font-style=\"italic\" lengthAdjust=\"spacingAndGlyphs\" textLength=\"69\" x=\"33.5\" y=\"57.1387\">«attribute»</text><text fill=\"#000000\" font-family=\"sans-serif\" font-size=\"12\" lengthAdjust=\"spacingAndGlyphs\" textLength=\"7\" x=\"64.5\" y=\"71.1074\">c</text><line style=\"stroke: #383838; stroke-width: 1.5;\" x1=\"33.5\" x2=\"102.5\" y1=\"78.9375\" y2=\"78.9375\"/></a><text fill=\"#000000\" font-family=\"sans-serif\" font-size=\"14\" lengthAdjust=\"spacingAndGlyphs\" textLength=\"9\" x=\"567.5\" y=\"42.6982\">p</text><rect fill=\"#383838\" height=\"12\" style=\"stroke: #F8F8F8; stroke-width: 1.5;\" width=\"12\" x=\"566\" y=\"58\"/><text fill=\"#000000\" font-family=\"sans-serif\" font-size=\"14\" lengthAdjust=\"spacingAndGlyphs\" textLength=\"9\" x=\"614.5\" y=\"42.6982\">q</text><rect fill=\"#383838\" height=\"12\" style=\"stroke: #F8F8F8; stroke-width: 1.5;\" width=\"12\" x=\"613\" y=\"58\"/><!--MD5=[05d275557350bfb9b23a4ef7222b4c39]\n",
       "link E3 to E2--><a href=\"psysml:50b306d4-0f13-410b-aa85-567dae9acdd8\" target=\"_top\" title=\"psysml:50b306d4-0f13-410b-aa85-567dae9acdd8\" xlink:actuate=\"onRequest\" xlink:href=\"psysml:50b306d4-0f13-410b-aa85-567dae9acdd8\" xlink:show=\"new\" xlink:title=\"psysml:50b306d4-0f13-410b-aa85-567dae9acdd8\" xlink:type=\"simple\"><path d=\"M487,87.29 C487,87.29 487,126.78 487,126.78 \" fill=\"none\" id=\"E3-&gt;E2\" style=\"stroke: #383838; stroke-width: 1.0;\"/><polygon fill=\"#FFFFFF\" points=\"487,146.78,480,127.78,494,127.78,487,146.78\" style=\"stroke: #383838; stroke-width: 1.0;\"/><ellipse cx=\"482\" cy=\"122.08\" fill=\"#383838\" rx=\"2\" ry=\"2\" style=\"stroke: #383838; stroke-width: 1.0;\"/><ellipse cx=\"492\" cy=\"122.08\" fill=\"#383838\" rx=\"2\" ry=\"2\" style=\"stroke: #383838; stroke-width: 1.0;\"/></a><!--MD5=[a90c9e8c6733677820ae26cef2946938]\n",
       "@startuml\r\n",
       "skinparam linetype ortho\r\n",
       "skinparam monochrome true\r\n",
       "skinparam classbackgroundcolor white\r\n",
       "skinparam shadowing false\r\n",
       "skinparam wrapWidth 300\r\n",
       "hide circle\r\n",
       "\r\n",
       "package \"ParameterTest\" as E1  [[psysml:c7000c50-df42-41d3-9ba9-36eed14db093 ]]  {\r\n",
       "comp def \"A\" as E2  <<(T,blue)attribute def>> [[psysml:cb02a2ee-bdc8-478c-9636-92278b567e26 ]] {\r\n",
       "- - attributes - -\r\n",
       "x: String\r\n",
       "y: A\r\n",
       "}\r\n",
       "comp usage \"a: A\" as E3  <<(T,blue)attribute>> [[psysml:50ebccda-29a4-4ea8-943d-69f99c07f732 ]] {\r\n",
       "}\r\n",
       "rec def \"F\" as E4  <<(T,blue)calculation def>> [[psysml:31ea6359-c2ac-42c4-9008-615ad8ad058c ]] {\r\n",
       "portin \"p\" as E5  [[psysml:c5b3d96c-9fe7-4ab4-b771-6776a88b0ad4 ]] \r\n",
       "portin \"q\" as E6  [[psysml:66adf659-8704-40ab-88b3-19d2477512b1 ]] \r\n",
       "}\r\n",
       "\r\n",
       "comp usage \"f\" as E7  <<(T,blue)attribute>> [[psysml:a5af055b-f2ee-4ef1-a486-dc312f464f3e ]] {\r\n",
       "}\r\n",
       "comp usage \"g\" as E8  <<(T,blue)attribute>> [[psysml:63113e1f-55f0-4199-b954-2673a0b317ed ]] {\r\n",
       "}\r\n",
       "comp usage \"b\" as E9  <<(T,blue)attribute>> [[psysml:537e328f-e5cc-426a-9b09-8cf3e436744c ]] {\r\n",
       "}\r\n",
       "comp usage \"c\" as E10  <<(T,blue)attribute>> [[psysml:2b35c468-a57b-4dfd-a90f-3e1de4d6204b ]] {\r\n",
       "}\r\n",
       "E3 - -:|> E2 [[psysml:50b306d4-0f13-410b-aa85-567dae9acdd8 ]] \r\n",
       "}\r\n",
       "@enduml\r\n",
       "\n",
       "PlantUML version 1.2020.13(Sat Jun 13 12:26:38 UTC 2020)\n",
       "(EPL source distribution)\n",
       "Java Runtime: OpenJDK Runtime Environment\n",
       "JVM: OpenJDK 64-Bit Server VM\n",
       "Default Encoding: UTF-8\n",
       "Language: en\n",
       "Country: null\n",
       "--></g></svg>"
      ]
     },
     "execution_count": 51,
     "metadata": {},
     "output_type": "execute_result"
    }
   ],
   "source": [
    "%viz --style=\"ORTHOLINE\" --view=\"Default\" \"ParameterTest\""
   ]
  },
  {
   "cell_type": "code",
   "execution_count": 52,
   "id": "seven-things",
   "metadata": {
    "execution": {
     "iopub.execute_input": "2021-03-25T15:03:20.384479Z",
     "iopub.status.busy": "2021-03-25T15:03:20.384069Z",
     "iopub.status.idle": "2021-03-25T15:03:20.638816Z",
     "shell.execute_reply": "2021-03-25T15:03:20.637375Z"
    }
   },
   "outputs": [
    {
     "data": {
      "image/svg+xml": [
       "<?xml version=\"1.0\" encoding=\"UTF-8\" standalone=\"no\"?><svg xmlns=\"http://www.w3.org/2000/svg\" xmlns:xlink=\"http://www.w3.org/1999/xlink\" contentScriptType=\"application/ecmascript\" contentStyleType=\"text/css\" height=\"280px\" preserveAspectRatio=\"none\" style=\"width:710px;height:280px;\" version=\"1.1\" viewBox=\"0 0 710 280\" width=\"710px\" zoomAndPan=\"magnify\"><defs/><g><!--MD5=[fbc87193dbaf4d95561dea2c320d4a47]\n",
       "cluster E1--><a href=\"psysml:c7000c50-df42-41d3-9ba9-36eed14db093\" target=\"_top\" title=\"psysml:c7000c50-df42-41d3-9ba9-36eed14db093\" xlink:actuate=\"onRequest\" xlink:href=\"psysml:c7000c50-df42-41d3-9ba9-36eed14db093\" xlink:show=\"new\" xlink:title=\"psysml:c7000c50-df42-41d3-9ba9-36eed14db093\" xlink:type=\"simple\"><polygon fill=\"#FFFFFF\" points=\"16,6,139,6,146,28.2969,688,28.2969,688,268,16,268,16,6\" style=\"stroke: #000000; stroke-width: 1.5;\"/><line style=\"stroke: #000000; stroke-width: 1.5;\" x1=\"16\" x2=\"146\" y1=\"28.2969\" y2=\"28.2969\"/><text fill=\"#000000\" font-family=\"sans-serif\" font-size=\"14\" font-weight=\"bold\" lengthAdjust=\"spacingAndGlyphs\" textLength=\"117\" x=\"20\" y=\"20.9951\">ParameterTest</text></a><!--MD5=[b4997ac47864f28c2f74865a473b2911]\n",
       "class E2--><a href=\"psysml:cb02a2ee-bdc8-478c-9636-92278b567e26\" target=\"_top\" title=\"psysml:cb02a2ee-bdc8-478c-9636-92278b567e26\" xlink:actuate=\"onRequest\" xlink:href=\"psysml:cb02a2ee-bdc8-478c-9636-92278b567e26\" xlink:show=\"new\" xlink:title=\"psysml:cb02a2ee-bdc8-478c-9636-92278b567e26\" xlink:type=\"simple\"><rect fill=\"#FFFFFF\" height=\"88.3516\" id=\"E2\" style=\"stroke: #383838; stroke-width: 1.5;\" width=\"95\" x=\"498.5\" y=\"164\"/><text fill=\"#000000\" font-family=\"sans-serif\" font-size=\"12\" font-style=\"italic\" lengthAdjust=\"spacingAndGlyphs\" textLength=\"93\" x=\"499.5\" y=\"180.1387\">«attribute def»</text><text fill=\"#000000\" font-family=\"sans-serif\" font-size=\"12\" lengthAdjust=\"spacingAndGlyphs\" textLength=\"8\" x=\"542\" y=\"194.1074\">A</text><line style=\"stroke: #383838; stroke-width: 1.5;\" x1=\"499.5\" x2=\"592.5\" y1=\"201.9375\" y2=\"201.9375\"/><text fill=\"#000000\" font-family=\"sans-serif\" font-size=\"11\" lengthAdjust=\"spacingAndGlyphs\" textLength=\"48\" x=\"504.5\" y=\"232.9526\">x: String</text><text fill=\"#000000\" font-family=\"sans-serif\" font-size=\"11\" lengthAdjust=\"spacingAndGlyphs\" textLength=\"21\" x=\"504.5\" y=\"245.7573\">y: A</text><line style=\"stroke: #383838; stroke-width: 1.0;\" x1=\"499.5\" x2=\"518.5\" y1=\"216.3398\" y2=\"216.3398\"/><text fill=\"#000000\" font-family=\"sans-serif\" font-size=\"11\" lengthAdjust=\"spacingAndGlyphs\" textLength=\"55\" x=\"518.5\" y=\"219.6479\">attributes</text><line style=\"stroke: #383838; stroke-width: 1.0;\" x1=\"573.5\" x2=\"592.5\" y1=\"216.3398\" y2=\"216.3398\"/></a><!--MD5=[09b614a08d8cba4a07c9adeb5e0fee81]\n",
       "class E3--><a href=\"psysml:50ebccda-29a4-4ea8-943d-69f99c07f732\" target=\"_top\" title=\"psysml:50ebccda-29a4-4ea8-943d-69f99c07f732\" xlink:actuate=\"onRequest\" xlink:href=\"psysml:50ebccda-29a4-4ea8-943d-69f99c07f732\" xlink:show=\"new\" xlink:title=\"psysml:50ebccda-29a4-4ea8-943d-69f99c07f732\" xlink:type=\"simple\"><rect fill=\"#FFFFFF\" height=\"45.9375\" id=\"E3\" rx=\"10\" ry=\"10\" style=\"stroke: #383838; stroke-width: 1.5;\" width=\"71\" x=\"600.5\" y=\"41\"/><text fill=\"#000000\" font-family=\"sans-serif\" font-size=\"12\" font-style=\"italic\" lengthAdjust=\"spacingAndGlyphs\" textLength=\"69\" x=\"601.5\" y=\"57.1387\">«attribute»</text><text fill=\"#000000\" font-family=\"sans-serif\" font-size=\"12\" lengthAdjust=\"spacingAndGlyphs\" textLength=\"24\" x=\"624\" y=\"71.1074\">a: A</text><line style=\"stroke: #383838; stroke-width: 1.5;\" x1=\"601.5\" x2=\"670.5\" y1=\"78.9375\" y2=\"78.9375\"/></a><!--MD5=[ebbe1d658d1005bcc118a6aa81145e00]\n",
       "class E4--><a href=\"psysml:31ea6359-c2ac-42c4-9008-615ad8ad058c\" target=\"_top\" title=\"psysml:31ea6359-c2ac-42c4-9008-615ad8ad058c\" xlink:actuate=\"onRequest\" xlink:href=\"psysml:31ea6359-c2ac-42c4-9008-615ad8ad058c\" xlink:show=\"new\" xlink:title=\"psysml:31ea6359-c2ac-42c4-9008-615ad8ad058c\" xlink:type=\"simple\"><rect fill=\"#FFFFFF\" height=\"45.9375\" id=\"E4\" style=\"stroke: #383838; stroke-width: 1.5;\" width=\"108\" x=\"457\" y=\"41\"/><text fill=\"#000000\" font-family=\"sans-serif\" font-size=\"12\" font-style=\"italic\" lengthAdjust=\"spacingAndGlyphs\" textLength=\"106\" x=\"458\" y=\"57.1387\">«calculation def»</text><text fill=\"#000000\" font-family=\"sans-serif\" font-size=\"12\" lengthAdjust=\"spacingAndGlyphs\" textLength=\"7\" x=\"507.5\" y=\"71.1074\">F</text><line style=\"stroke: #383838; stroke-width: 1.5;\" x1=\"458\" x2=\"564\" y1=\"78.9375\" y2=\"78.9375\"/></a><!--MD5=[270fce915f116d4de14055a7c1d9a0f3]\n",
       "class E5--><a href=\"psysml:a5af055b-f2ee-4ef1-a486-dc312f464f3e\" target=\"_top\" title=\"psysml:a5af055b-f2ee-4ef1-a486-dc312f464f3e\" xlink:actuate=\"onRequest\" xlink:href=\"psysml:a5af055b-f2ee-4ef1-a486-dc312f464f3e\" xlink:show=\"new\" xlink:title=\"psysml:a5af055b-f2ee-4ef1-a486-dc312f464f3e\" xlink:type=\"simple\"><rect fill=\"#FFFFFF\" height=\"45.9375\" id=\"E5\" rx=\"10\" ry=\"10\" style=\"stroke: #383838; stroke-width: 1.5;\" width=\"71\" x=\"350.5\" y=\"41\"/><text fill=\"#000000\" font-family=\"sans-serif\" font-size=\"12\" font-style=\"italic\" lengthAdjust=\"spacingAndGlyphs\" textLength=\"69\" x=\"351.5\" y=\"57.1387\">«attribute»</text><text fill=\"#000000\" font-family=\"sans-serif\" font-size=\"12\" lengthAdjust=\"spacingAndGlyphs\" textLength=\"4\" x=\"384\" y=\"71.1074\">f</text><line style=\"stroke: #383838; stroke-width: 1.5;\" x1=\"351.5\" x2=\"420.5\" y1=\"78.9375\" y2=\"78.9375\"/></a><!--MD5=[60a26617385b1d2d0262a64233df1f8d]\n",
       "class E6--><a href=\"psysml:63113e1f-55f0-4199-b954-2673a0b317ed\" target=\"_top\" title=\"psysml:63113e1f-55f0-4199-b954-2673a0b317ed\" xlink:actuate=\"onRequest\" xlink:href=\"psysml:63113e1f-55f0-4199-b954-2673a0b317ed\" xlink:show=\"new\" xlink:title=\"psysml:63113e1f-55f0-4199-b954-2673a0b317ed\" xlink:type=\"simple\"><rect fill=\"#FFFFFF\" height=\"45.9375\" id=\"E6\" rx=\"10\" ry=\"10\" style=\"stroke: #383838; stroke-width: 1.5;\" width=\"71\" x=\"244.5\" y=\"41\"/><text fill=\"#000000\" font-family=\"sans-serif\" font-size=\"12\" font-style=\"italic\" lengthAdjust=\"spacingAndGlyphs\" textLength=\"69\" x=\"245.5\" y=\"57.1387\">«attribute»</text><text fill=\"#000000\" font-family=\"sans-serif\" font-size=\"12\" lengthAdjust=\"spacingAndGlyphs\" textLength=\"8\" x=\"276\" y=\"71.1074\">g</text><line style=\"stroke: #383838; stroke-width: 1.5;\" x1=\"245.5\" x2=\"314.5\" y1=\"78.9375\" y2=\"78.9375\"/></a><!--MD5=[2156ba9850f5573cc1fc38a6a4b2f02b]\n",
       "class E7--><a href=\"psysml:537e328f-e5cc-426a-9b09-8cf3e436744c\" target=\"_top\" title=\"psysml:537e328f-e5cc-426a-9b09-8cf3e436744c\" xlink:actuate=\"onRequest\" xlink:href=\"psysml:537e328f-e5cc-426a-9b09-8cf3e436744c\" xlink:show=\"new\" xlink:title=\"psysml:537e328f-e5cc-426a-9b09-8cf3e436744c\" xlink:type=\"simple\"><rect fill=\"#FFFFFF\" height=\"45.9375\" id=\"E7\" rx=\"10\" ry=\"10\" style=\"stroke: #383838; stroke-width: 1.5;\" width=\"71\" x=\"138.5\" y=\"41\"/><text fill=\"#000000\" font-family=\"sans-serif\" font-size=\"12\" font-style=\"italic\" lengthAdjust=\"spacingAndGlyphs\" textLength=\"69\" x=\"139.5\" y=\"57.1387\">«attribute»</text><text fill=\"#000000\" font-family=\"sans-serif\" font-size=\"12\" lengthAdjust=\"spacingAndGlyphs\" textLength=\"8\" x=\"170\" y=\"71.1074\">b</text><line style=\"stroke: #383838; stroke-width: 1.5;\" x1=\"139.5\" x2=\"208.5\" y1=\"78.9375\" y2=\"78.9375\"/></a><!--MD5=[b9389687b975829384b498ac4b7476b2]\n",
       "class E8--><a href=\"psysml:2b35c468-a57b-4dfd-a90f-3e1de4d6204b\" target=\"_top\" title=\"psysml:2b35c468-a57b-4dfd-a90f-3e1de4d6204b\" xlink:actuate=\"onRequest\" xlink:href=\"psysml:2b35c468-a57b-4dfd-a90f-3e1de4d6204b\" xlink:show=\"new\" xlink:title=\"psysml:2b35c468-a57b-4dfd-a90f-3e1de4d6204b\" xlink:type=\"simple\"><rect fill=\"#FFFFFF\" height=\"45.9375\" id=\"E8\" rx=\"10\" ry=\"10\" style=\"stroke: #383838; stroke-width: 1.5;\" width=\"71\" x=\"32.5\" y=\"41\"/><text fill=\"#000000\" font-family=\"sans-serif\" font-size=\"12\" font-style=\"italic\" lengthAdjust=\"spacingAndGlyphs\" textLength=\"69\" x=\"33.5\" y=\"57.1387\">«attribute»</text><text fill=\"#000000\" font-family=\"sans-serif\" font-size=\"12\" lengthAdjust=\"spacingAndGlyphs\" textLength=\"7\" x=\"64.5\" y=\"71.1074\">c</text><line style=\"stroke: #383838; stroke-width: 1.5;\" x1=\"33.5\" x2=\"102.5\" y1=\"78.9375\" y2=\"78.9375\"/></a><!--MD5=[05d275557350bfb9b23a4ef7222b4c39]\n",
       "link E3 to E2--><a href=\"psysml:50b306d4-0f13-410b-aa85-567dae9acdd8\" target=\"_top\" title=\"psysml:50b306d4-0f13-410b-aa85-567dae9acdd8\" xlink:actuate=\"onRequest\" xlink:href=\"psysml:50b306d4-0f13-410b-aa85-567dae9acdd8\" xlink:show=\"new\" xlink:title=\"psysml:50b306d4-0f13-410b-aa85-567dae9acdd8\" xlink:type=\"simple\"><path d=\"M600.38,64 C588.98,64 579.25,64 579.25,64 C579.25,64 579.25,143.62 579.25,143.62 \" fill=\"none\" id=\"E3-&gt;E2\" style=\"stroke: #383838; stroke-width: 1.0;\"/><polygon fill=\"#FFFFFF\" points=\"579.25,163.62,572.25,144.62,586.25,144.62,579.25,163.62\" style=\"stroke: #383838; stroke-width: 1.0;\"/><ellipse cx=\"574.25\" cy=\"138.92\" fill=\"#383838\" rx=\"2\" ry=\"2\" style=\"stroke: #383838; stroke-width: 1.0;\"/><ellipse cx=\"584.25\" cy=\"138.92\" fill=\"#383838\" rx=\"2\" ry=\"2\" style=\"stroke: #383838; stroke-width: 1.0;\"/></a><!--MD5=[ddeed8deb2209213b62e6cfabaa108b2]\n",
       "reverse link E4 to E2--><a href=\"psysml:c5b3d96c-9fe7-4ab4-b771-6776a88b0ad4\" target=\"_top\" title=\"psysml:c5b3d96c-9fe7-4ab4-b771-6776a88b0ad4\" xlink:actuate=\"onRequest\" xlink:href=\"psysml:c5b3d96c-9fe7-4ab4-b771-6776a88b0ad4\" xlink:show=\"new\" xlink:title=\"psysml:c5b3d96c-9fe7-4ab4-b771-6776a88b0ad4\" xlink:type=\"simple\"><path d=\"M531.75,100.14 C531.75,100.14 531.75,163.71 531.75,163.71 \" fill=\"none\" id=\"E4&lt;-E2\" style=\"stroke: #383838; stroke-width: 1.0;\"/><polygon fill=\"#FFFFFF\" points=\"531.75,87.14,527.75,93.14,531.75,99.14,535.75,93.14,531.75,87.14\" style=\"stroke: #383838; stroke-width: 1.0;\"/><text fill=\"#000000\" font-family=\"sans-serif\" font-size=\"13\" lengthAdjust=\"spacingAndGlyphs\" textLength=\"8\" x=\"539\" y=\"130.0669\">p</text></a><!--MD5=[9c57a5bec8a5f5394dce9458e485c76d]\n",
       "@startuml\r\n",
       "skinparam linetype ortho\r\n",
       "skinparam monochrome true\r\n",
       "skinparam classbackgroundcolor white\r\n",
       "skinparam shadowing false\r\n",
       "skinparam wrapWidth 300\r\n",
       "hide circle\r\n",
       "\r\n",
       "package \"ParameterTest\" as E1  [[psysml:c7000c50-df42-41d3-9ba9-36eed14db093 ]]  {\r\n",
       "comp def \"A\" as E2  <<(T,blue)attribute def>> [[psysml:cb02a2ee-bdc8-478c-9636-92278b567e26 ]] {\r\n",
       "- - attributes - -\r\n",
       "x: String\r\n",
       "y: A\r\n",
       "}\r\n",
       "comp usage \"a: A\" as E3  <<(T,blue)attribute>> [[psysml:50ebccda-29a4-4ea8-943d-69f99c07f732 ]] {\r\n",
       "}\r\n",
       "comp def \"F\" as E4  <<(T,blue)calculation def>> [[psysml:31ea6359-c2ac-42c4-9008-615ad8ad058c ]] {\r\n",
       "}\r\n",
       "comp usage \"f\" as E5  <<(T,blue)attribute>> [[psysml:a5af055b-f2ee-4ef1-a486-dc312f464f3e ]] {\r\n",
       "}\r\n",
       "comp usage \"g\" as E6  <<(T,blue)attribute>> [[psysml:63113e1f-55f0-4199-b954-2673a0b317ed ]] {\r\n",
       "}\r\n",
       "comp usage \"b\" as E7  <<(T,blue)attribute>> [[psysml:537e328f-e5cc-426a-9b09-8cf3e436744c ]] {\r\n",
       "}\r\n",
       "comp usage \"c\" as E8  <<(T,blue)attribute>> [[psysml:2b35c468-a57b-4dfd-a90f-3e1de4d6204b ]] {\r\n",
       "}\r\n",
       "E3 - -:|> E2 [[psysml:50b306d4-0f13-410b-aa85-567dae9acdd8 ]] \r\n",
       "E4 o- - E2 [[psysml:c5b3d96c-9fe7-4ab4-b771-6776a88b0ad4 ]] : p\r\n",
       "}\r\n",
       "@enduml\r\n",
       "\n",
       "PlantUML version 1.2020.13(Sat Jun 13 12:26:38 UTC 2020)\n",
       "(EPL source distribution)\n",
       "Java Runtime: OpenJDK Runtime Environment\n",
       "JVM: OpenJDK 64-Bit Server VM\n",
       "Default Encoding: UTF-8\n",
       "Language: en\n",
       "Country: null\n",
       "--></g></svg>"
      ]
     },
     "execution_count": 52,
     "metadata": {},
     "output_type": "execute_result"
    }
   ],
   "source": [
    "%viz --style=\"ORTHOLINE\" --view=\"Tree\" \"ParameterTest\""
   ]
  },
  {
   "cell_type": "code",
   "execution_count": 53,
   "id": "resident-princess",
   "metadata": {
    "execution": {
     "iopub.execute_input": "2021-03-25T15:03:20.691663Z",
     "iopub.status.busy": "2021-03-25T15:03:20.690765Z",
     "iopub.status.idle": "2021-03-25T15:03:20.700870Z",
     "shell.execute_reply": "2021-03-25T15:03:20.700462Z"
    }
   },
   "outputs": [
    {
     "data": {
      "image/svg+xml": [
       "<?xml version=\"1.0\" encoding=\"UTF-8\" standalone=\"no\"?><svg xmlns=\"http://www.w3.org/2000/svg\" xmlns:xlink=\"http://www.w3.org/1999/xlink\" contentScriptType=\"application/ecmascript\" contentStyleType=\"text/css\" height=\"12px\" preserveAspectRatio=\"none\" style=\"width:12px;height:12px;\" version=\"1.1\" viewBox=\"0 0 12 12\" width=\"12px\" zoomAndPan=\"magnify\"><defs/><g><!--MD5=[97d6f38768b311333d388e66b2b27985]\n",
       "@startuml\r\n",
       "skinparam linetype ortho\r\n",
       "skinparam monochrome true\r\n",
       "skinparam classbackgroundcolor white\r\n",
       "skinparam shadowing false\r\n",
       "skinparam wrapWidth 300\r\n",
       "hide circle\r\n",
       "\r\n",
       "@enduml\r\n",
       "\n",
       "PlantUML version 1.2020.13(Sat Jun 13 12:26:38 UTC 2020)\n",
       "(EPL source distribution)\n",
       "Java Runtime: OpenJDK Runtime Environment\n",
       "JVM: OpenJDK 64-Bit Server VM\n",
       "Default Encoding: UTF-8\n",
       "Language: en\n",
       "Country: null\n",
       "--></g></svg>"
      ]
     },
     "execution_count": 53,
     "metadata": {},
     "output_type": "execute_result"
    }
   ],
   "source": [
    "%viz --style=\"ORTHOLINE\" --view=\"State\" \"ParameterTest\""
   ]
  },
  {
   "cell_type": "code",
   "execution_count": 54,
   "id": "instant-grave",
   "metadata": {
    "execution": {
     "iopub.execute_input": "2021-03-25T15:03:20.754015Z",
     "iopub.status.busy": "2021-03-25T15:03:20.752866Z",
     "iopub.status.idle": "2021-03-25T15:03:20.845554Z",
     "shell.execute_reply": "2021-03-25T15:03:20.844013Z"
    }
   },
   "outputs": [
    {
     "data": {
      "image/svg+xml": [
       "<?xml version=\"1.0\" encoding=\"UTF-8\" standalone=\"no\"?><svg xmlns=\"http://www.w3.org/2000/svg\" xmlns:xlink=\"http://www.w3.org/1999/xlink\" contentScriptType=\"application/ecmascript\" contentStyleType=\"text/css\" height=\"123px\" preserveAspectRatio=\"none\" style=\"width:960px;height:123px;\" version=\"1.1\" viewBox=\"0 0 960 123\" width=\"960px\" zoomAndPan=\"magnify\"><defs/><g><!--MD5=[fbc87193dbaf4d95561dea2c320d4a47]\n",
       "cluster E1--><a href=\"psysml:c7000c50-df42-41d3-9ba9-36eed14db093\" target=\"_top\" title=\"psysml:c7000c50-df42-41d3-9ba9-36eed14db093\" xlink:actuate=\"onRequest\" xlink:href=\"psysml:c7000c50-df42-41d3-9ba9-36eed14db093\" xlink:show=\"new\" xlink:title=\"psysml:c7000c50-df42-41d3-9ba9-36eed14db093\" xlink:type=\"simple\"><polygon fill=\"#FFFFFF\" points=\"16,6,139,6,146,28.2969,938,28.2969,938,111,16,111,16,6\" style=\"stroke: #000000; stroke-width: 1.5;\"/><line style=\"stroke: #000000; stroke-width: 1.5;\" x1=\"16\" x2=\"146\" y1=\"28.2969\" y2=\"28.2969\"/><text fill=\"#000000\" font-family=\"sans-serif\" font-size=\"14\" font-weight=\"bold\" lengthAdjust=\"spacingAndGlyphs\" textLength=\"117\" x=\"20\" y=\"20.9951\">ParameterTest</text></a><!--MD5=[b4997ac47864f28c2f74865a473b2911]\n",
       "class E2--><a href=\"psysml:cb02a2ee-bdc8-478c-9636-92278b567e26\" target=\"_top\" title=\"psysml:cb02a2ee-bdc8-478c-9636-92278b567e26\" xlink:actuate=\"onRequest\" xlink:href=\"psysml:cb02a2ee-bdc8-478c-9636-92278b567e26\" xlink:show=\"new\" xlink:title=\"psysml:cb02a2ee-bdc8-478c-9636-92278b567e26\" xlink:type=\"simple\"><rect fill=\"#FFFFFF\" height=\"53.9375\" id=\"E2\" style=\"stroke: #383838; stroke-width: 1.5;\" width=\"143\" x=\"778.5\" y=\"41\"/><text fill=\"#000000\" font-family=\"sans-serif\" font-size=\"12\" font-style=\"italic\" lengthAdjust=\"spacingAndGlyphs\" textLength=\"141\" x=\"779.5\" y=\"57.1387\">«(T,blue)attribute def»</text><text fill=\"#000000\" font-family=\"sans-serif\" font-size=\"12\" lengthAdjust=\"spacingAndGlyphs\" textLength=\"8\" x=\"846\" y=\"71.1074\">A</text><line style=\"stroke: #383838; stroke-width: 1.5;\" x1=\"779.5\" x2=\"920.5\" y1=\"78.9375\" y2=\"78.9375\"/><line style=\"stroke: #383838; stroke-width: 1.5;\" x1=\"779.5\" x2=\"920.5\" y1=\"86.9375\" y2=\"86.9375\"/></a><!--MD5=[ebbe1d658d1005bcc118a6aa81145e00]\n",
       "class E4--><a href=\"psysml:31ea6359-c2ac-42c4-9008-615ad8ad058c\" target=\"_top\" title=\"psysml:31ea6359-c2ac-42c4-9008-615ad8ad058c\" xlink:actuate=\"onRequest\" xlink:href=\"psysml:31ea6359-c2ac-42c4-9008-615ad8ad058c\" xlink:show=\"new\" xlink:title=\"psysml:31ea6359-c2ac-42c4-9008-615ad8ad058c\" xlink:type=\"simple\"><rect fill=\"#FFFFFF\" height=\"53.9375\" id=\"E4\" style=\"stroke: #383838; stroke-width: 1.5;\" width=\"156\" x=\"587\" y=\"41\"/><text fill=\"#000000\" font-family=\"sans-serif\" font-size=\"12\" font-style=\"italic\" lengthAdjust=\"spacingAndGlyphs\" textLength=\"154\" x=\"588\" y=\"57.1387\">«(T,blue)calculation def»</text><text fill=\"#000000\" font-family=\"sans-serif\" font-size=\"12\" lengthAdjust=\"spacingAndGlyphs\" textLength=\"7\" x=\"661.5\" y=\"71.1074\">F</text><line style=\"stroke: #383838; stroke-width: 1.5;\" x1=\"588\" x2=\"742\" y1=\"78.9375\" y2=\"78.9375\"/><line style=\"stroke: #383838; stroke-width: 1.5;\" x1=\"588\" x2=\"742\" y1=\"86.9375\" y2=\"86.9375\"/></a><g id=\"E1.E3\"><a href=\"psysml:50ebccda-29a4-4ea8-943d-69f99c07f732\" target=\"_top\" title=\"psysml:50ebccda-29a4-4ea8-943d-69f99c07f732\" xlink:actuate=\"onRequest\" xlink:href=\"psysml:50ebccda-29a4-4ea8-943d-69f99c07f732\" xlink:show=\"new\" xlink:title=\"psysml:50ebccda-29a4-4ea8-943d-69f99c07f732\" xlink:type=\"simple\"><rect fill=\"#FFFFFF\" height=\"42.9375\" id=\"E3\" rx=\"10\" ry=\"10\" style=\"stroke: #383838; stroke-width: 1.5;\" width=\"76\" x=\"476\" y=\"46.5\"/><rect fill=\"#F8F8F8\" height=\"37.9375\" rx=\"10\" ry=\"10\" style=\"stroke: #F8F8F8; stroke-width: 1.5;\" width=\"76\" x=\"476\" y=\"46.5\"/><rect fill=\"#F8F8F8\" height=\"10\" style=\"stroke: #F8F8F8; stroke-width: 1.5;\" width=\"76\" x=\"476\" y=\"74.4375\"/><rect fill=\"none\" height=\"42.9375\" id=\"E3\" rx=\"10\" ry=\"10\" style=\"stroke: #383838; stroke-width: 1.5;\" width=\"76\" x=\"476\" y=\"46.5\"/><text fill=\"#000000\" font-family=\"sans-serif\" font-size=\"12\" font-style=\"italic\" lengthAdjust=\"spacingAndGlyphs\" textLength=\"69\" x=\"479.5\" y=\"62.6387\">«attribute»</text><text fill=\"#000000\" font-family=\"sans-serif\" font-size=\"12\" lengthAdjust=\"spacingAndGlyphs\" textLength=\"24\" x=\"502\" y=\"76.6074\">a: A</text></a></g><g id=\"E1.E5\"><a href=\"psysml:a5af055b-f2ee-4ef1-a486-dc312f464f3e\" target=\"_top\" title=\"psysml:a5af055b-f2ee-4ef1-a486-dc312f464f3e\" xlink:actuate=\"onRequest\" xlink:href=\"psysml:a5af055b-f2ee-4ef1-a486-dc312f464f3e\" xlink:show=\"new\" xlink:title=\"psysml:a5af055b-f2ee-4ef1-a486-dc312f464f3e\" xlink:type=\"simple\"><rect fill=\"#FFFFFF\" height=\"42.9375\" id=\"E5\" rx=\"10\" ry=\"10\" style=\"stroke: #383838; stroke-width: 1.5;\" width=\"76\" x=\"365\" y=\"46.5\"/><rect fill=\"#F8F8F8\" height=\"37.9375\" rx=\"10\" ry=\"10\" style=\"stroke: #F8F8F8; stroke-width: 1.5;\" width=\"76\" x=\"365\" y=\"46.5\"/><rect fill=\"#F8F8F8\" height=\"10\" style=\"stroke: #F8F8F8; stroke-width: 1.5;\" width=\"76\" x=\"365\" y=\"74.4375\"/><rect fill=\"none\" height=\"42.9375\" id=\"E5\" rx=\"10\" ry=\"10\" style=\"stroke: #383838; stroke-width: 1.5;\" width=\"76\" x=\"365\" y=\"46.5\"/><text fill=\"#000000\" font-family=\"sans-serif\" font-size=\"12\" font-style=\"italic\" lengthAdjust=\"spacingAndGlyphs\" textLength=\"69\" x=\"368.5\" y=\"62.6387\">«attribute»</text><text fill=\"#000000\" font-family=\"sans-serif\" font-size=\"12\" lengthAdjust=\"spacingAndGlyphs\" textLength=\"4\" x=\"401\" y=\"76.6074\">f</text></a></g><g id=\"E1.E6\"><a href=\"psysml:63113e1f-55f0-4199-b954-2673a0b317ed\" target=\"_top\" title=\"psysml:63113e1f-55f0-4199-b954-2673a0b317ed\" xlink:actuate=\"onRequest\" xlink:href=\"psysml:63113e1f-55f0-4199-b954-2673a0b317ed\" xlink:show=\"new\" xlink:title=\"psysml:63113e1f-55f0-4199-b954-2673a0b317ed\" xlink:type=\"simple\"><rect fill=\"#FFFFFF\" height=\"42.9375\" id=\"E6\" rx=\"10\" ry=\"10\" style=\"stroke: #383838; stroke-width: 1.5;\" width=\"76\" x=\"254\" y=\"46.5\"/><rect fill=\"#F8F8F8\" height=\"37.9375\" rx=\"10\" ry=\"10\" style=\"stroke: #F8F8F8; stroke-width: 1.5;\" width=\"76\" x=\"254\" y=\"46.5\"/><rect fill=\"#F8F8F8\" height=\"10\" style=\"stroke: #F8F8F8; stroke-width: 1.5;\" width=\"76\" x=\"254\" y=\"74.4375\"/><rect fill=\"none\" height=\"42.9375\" id=\"E6\" rx=\"10\" ry=\"10\" style=\"stroke: #383838; stroke-width: 1.5;\" width=\"76\" x=\"254\" y=\"46.5\"/><text fill=\"#000000\" font-family=\"sans-serif\" font-size=\"12\" font-style=\"italic\" lengthAdjust=\"spacingAndGlyphs\" textLength=\"69\" x=\"257.5\" y=\"62.6387\">«attribute»</text><text fill=\"#000000\" font-family=\"sans-serif\" font-size=\"12\" lengthAdjust=\"spacingAndGlyphs\" textLength=\"8\" x=\"288\" y=\"76.6074\">g</text></a></g><g id=\"E1.E7\"><a href=\"psysml:537e328f-e5cc-426a-9b09-8cf3e436744c\" target=\"_top\" title=\"psysml:537e328f-e5cc-426a-9b09-8cf3e436744c\" xlink:actuate=\"onRequest\" xlink:href=\"psysml:537e328f-e5cc-426a-9b09-8cf3e436744c\" xlink:show=\"new\" xlink:title=\"psysml:537e328f-e5cc-426a-9b09-8cf3e436744c\" xlink:type=\"simple\"><rect fill=\"#FFFFFF\" height=\"42.9375\" id=\"E7\" rx=\"10\" ry=\"10\" style=\"stroke: #383838; stroke-width: 1.5;\" width=\"76\" x=\"143\" y=\"46.5\"/><rect fill=\"#F8F8F8\" height=\"37.9375\" rx=\"10\" ry=\"10\" style=\"stroke: #F8F8F8; stroke-width: 1.5;\" width=\"76\" x=\"143\" y=\"46.5\"/><rect fill=\"#F8F8F8\" height=\"10\" style=\"stroke: #F8F8F8; stroke-width: 1.5;\" width=\"76\" x=\"143\" y=\"74.4375\"/><rect fill=\"none\" height=\"42.9375\" id=\"E7\" rx=\"10\" ry=\"10\" style=\"stroke: #383838; stroke-width: 1.5;\" width=\"76\" x=\"143\" y=\"46.5\"/><text fill=\"#000000\" font-family=\"sans-serif\" font-size=\"12\" font-style=\"italic\" lengthAdjust=\"spacingAndGlyphs\" textLength=\"69\" x=\"146.5\" y=\"62.6387\">«attribute»</text><text fill=\"#000000\" font-family=\"sans-serif\" font-size=\"12\" lengthAdjust=\"spacingAndGlyphs\" textLength=\"8\" x=\"177\" y=\"76.6074\">b</text></a></g><g id=\"E1.E8\"><a href=\"psysml:2b35c468-a57b-4dfd-a90f-3e1de4d6204b\" target=\"_top\" title=\"psysml:2b35c468-a57b-4dfd-a90f-3e1de4d6204b\" xlink:actuate=\"onRequest\" xlink:href=\"psysml:2b35c468-a57b-4dfd-a90f-3e1de4d6204b\" xlink:show=\"new\" xlink:title=\"psysml:2b35c468-a57b-4dfd-a90f-3e1de4d6204b\" xlink:type=\"simple\"><rect fill=\"#FFFFFF\" height=\"42.9375\" id=\"E8\" rx=\"10\" ry=\"10\" style=\"stroke: #383838; stroke-width: 1.5;\" width=\"76\" x=\"32\" y=\"46.5\"/><rect fill=\"#F8F8F8\" height=\"37.9375\" rx=\"10\" ry=\"10\" style=\"stroke: #F8F8F8; stroke-width: 1.5;\" width=\"76\" x=\"32\" y=\"46.5\"/><rect fill=\"#F8F8F8\" height=\"10\" style=\"stroke: #F8F8F8; stroke-width: 1.5;\" width=\"76\" x=\"32\" y=\"74.4375\"/><rect fill=\"none\" height=\"42.9375\" id=\"E8\" rx=\"10\" ry=\"10\" style=\"stroke: #383838; stroke-width: 1.5;\" width=\"76\" x=\"32\" y=\"46.5\"/><text fill=\"#000000\" font-family=\"sans-serif\" font-size=\"12\" font-style=\"italic\" lengthAdjust=\"spacingAndGlyphs\" textLength=\"69\" x=\"35.5\" y=\"62.6387\">«attribute»</text><text fill=\"#000000\" font-family=\"sans-serif\" font-size=\"12\" lengthAdjust=\"spacingAndGlyphs\" textLength=\"7\" x=\"66.5\" y=\"76.6074\">c</text></a></g><!--MD5=[0b37742216394a3e819ca4b0be11a8fe]\n",
       "@startuml\r\n",
       "skinparam ranksep 8\r\n",
       "skinparam rectangle {\r\n",
       " backgroundColor<<block>> LightGreen\r\n",
       "}\r\n",
       "skinparam linetype ortho\r\n",
       "skinparam monochrome true\r\n",
       "skinparam classbackgroundcolor white\r\n",
       "skinparam shadowing false\r\n",
       "skinparam wrapWidth 300\r\n",
       "hide circle\r\n",
       "\r\n",
       "package \"ParameterTest\" as E1  [[psysml:c7000c50-df42-41d3-9ba9-36eed14db093 ]]  {\r\n",
       "def \"A\" as E2  <<(T,blue)attribute def>> [[psysml:cb02a2ee-bdc8-478c-9636-92278b567e26 ]] \r\n",
       "rec usage \"a: A\" as E3  <<(T,blue)attribute>> [[psysml:50ebccda-29a4-4ea8-943d-69f99c07f732 ]] {\r\n",
       "}\r\n",
       "def \"F\" as E4  <<(T,blue)calculation def>> [[psysml:31ea6359-c2ac-42c4-9008-615ad8ad058c ]] \r\n",
       "rec usage \"f\" as E5  <<(T,blue)attribute>> [[psysml:a5af055b-f2ee-4ef1-a486-dc312f464f3e ]] {\r\n",
       "}\r\n",
       "rec usage \"g\" as E6  <<(T,blue)attribute>> [[psysml:63113e1f-55f0-4199-b954-2673a0b317ed ]] {\r\n",
       "}\r\n",
       "rec usage \"b\" as E7  <<(T,blue)attribute>> [[psysml:537e328f-e5cc-426a-9b09-8cf3e436744c ]] {\r\n",
       "}\r\n",
       "rec usage \"c\" as E8  <<(T,blue)attribute>> [[psysml:2b35c468-a57b-4dfd-a90f-3e1de4d6204b ]] {\r\n",
       "}\r\n",
       "}\r\n",
       "@enduml\r\n",
       "\n",
       "PlantUML version 1.2020.13(Sat Jun 13 12:26:38 UTC 2020)\n",
       "(EPL source distribution)\n",
       "Java Runtime: OpenJDK Runtime Environment\n",
       "JVM: OpenJDK 64-Bit Server VM\n",
       "Default Encoding: UTF-8\n",
       "Language: en\n",
       "Country: null\n",
       "--></g></svg>"
      ]
     },
     "execution_count": 54,
     "metadata": {},
     "output_type": "execute_result"
    }
   ],
   "source": [
    "%viz --style=\"ORTHOLINE\" --view=\"Interconnection\" \"ParameterTest\""
   ]
  },
  {
   "cell_type": "code",
   "execution_count": 55,
   "id": "fifteen-device",
   "metadata": {
    "execution": {
     "iopub.execute_input": "2021-03-25T15:03:20.896965Z",
     "iopub.status.busy": "2021-03-25T15:03:20.896582Z",
     "iopub.status.idle": "2021-03-25T15:03:20.959887Z",
     "shell.execute_reply": "2021-03-25T15:03:20.960260Z"
    }
   },
   "outputs": [
    {
     "data": {
      "image/svg+xml": [
       "<?xml version=\"1.0\" encoding=\"UTF-8\" standalone=\"no\"?><svg xmlns=\"http://www.w3.org/2000/svg\" xmlns:xlink=\"http://www.w3.org/1999/xlink\" contentScriptType=\"application/ecmascript\" contentStyleType=\"text/css\" height=\"126px\" preserveAspectRatio=\"none\" style=\"width:166px;height:126px;\" version=\"1.1\" viewBox=\"0 0 166 126\" width=\"166px\" zoomAndPan=\"magnify\"><defs/><g><!--MD5=[fbc87193dbaf4d95561dea2c320d4a47]\n",
       "cluster E1--><a href=\"psysml:31ea6359-c2ac-42c4-9008-615ad8ad058c\" target=\"_top\" title=\"psysml:31ea6359-c2ac-42c4-9008-615ad8ad058c\" xlink:actuate=\"onRequest\" xlink:href=\"psysml:31ea6359-c2ac-42c4-9008-615ad8ad058c\" xlink:show=\"new\" xlink:title=\"psysml:31ea6359-c2ac-42c4-9008-615ad8ad058c\" xlink:type=\"simple\"><rect fill=\"#FFFFFF\" height=\"73\" id=\"E1\" style=\"stroke: #383838; stroke-width: 1.5;\" width=\"148\" x=\"7\" y=\"42.0986\"/><rect fill=\"#F8F8F8\" height=\"37.9375\" style=\"stroke: #383838; stroke-width: 1.5;\" width=\"148\" x=\"7\" y=\"42.0986\"/><text fill=\"#000000\" font-family=\"sans-serif\" font-size=\"12\" font-style=\"italic\" lengthAdjust=\"spacingAndGlyphs\" textLength=\"106\" x=\"28\" y=\"58.2373\">«calculation def»</text><text fill=\"#000000\" font-family=\"sans-serif\" font-size=\"12\" lengthAdjust=\"spacingAndGlyphs\" textLength=\"7\" x=\"77.5\" y=\"72.2061\">F</text></a><text fill=\"#000000\" font-family=\"sans-serif\" font-size=\"14\" lengthAdjust=\"spacingAndGlyphs\" textLength=\"9\" x=\"20.5\" y=\"20.7969\">p</text><rect fill=\"#383838\" height=\"12\" style=\"stroke: #F8F8F8; stroke-width: 1.5;\" width=\"12\" x=\"19\" y=\"36.0986\"/><text fill=\"#000000\" font-family=\"sans-serif\" font-size=\"14\" lengthAdjust=\"spacingAndGlyphs\" textLength=\"9\" x=\"67.5\" y=\"20.7969\">q</text><rect fill=\"#383838\" height=\"12\" style=\"stroke: #F8F8F8; stroke-width: 1.5;\" width=\"12\" x=\"66\" y=\"36.0986\"/><!--MD5=[8c19e195fb8097b525aa26c39456cbca]\n",
       "@startuml\r\n",
       "skinparam ranksep 8\r\n",
       "skinparam linetype ortho\r\n",
       "skinparam monochrome true\r\n",
       "skinparam classbackgroundcolor white\r\n",
       "skinparam shadowing false\r\n",
       "skinparam wrapWidth 300\r\n",
       "hide circle\r\n",
       "\r\n",
       "rec def \"F\" as E1  <<(T,blue)calculation def>> [[psysml:31ea6359-c2ac-42c4-9008-615ad8ad058c ]] {\r\n",
       "portin \"p\" as E2  [[psysml:c5b3d96c-9fe7-4ab4-b771-6776a88b0ad4 ]] \r\n",
       "portin \"q\" as E3  [[psysml:66adf659-8704-40ab-88b3-19d2477512b1 ]] \r\n",
       "}\r\n",
       "\r\n",
       "@enduml\r\n",
       "\n",
       "PlantUML version 1.2020.13(Sat Jun 13 12:26:38 UTC 2020)\n",
       "(EPL source distribution)\n",
       "Java Runtime: OpenJDK Runtime Environment\n",
       "JVM: OpenJDK 64-Bit Server VM\n",
       "Default Encoding: UTF-8\n",
       "Language: en\n",
       "Country: null\n",
       "--></g></svg>"
      ]
     },
     "execution_count": 55,
     "metadata": {},
     "output_type": "execute_result"
    }
   ],
   "source": [
    "%viz --style=\"ORTHOLINE\" --view=\"Action\" \"ParameterTest\""
   ]
  },
  {
   "cell_type": "code",
   "execution_count": 56,
   "id": "genetic-evaluation",
   "metadata": {
    "execution": {
     "iopub.execute_input": "2021-03-25T15:03:21.012746Z",
     "iopub.status.busy": "2021-03-25T15:03:21.011706Z",
     "iopub.status.idle": "2021-03-25T15:03:21.277881Z",
     "shell.execute_reply": "2021-03-25T15:03:21.276361Z"
    }
   },
   "outputs": [
    {
     "data": {
      "image/svg+xml": [
       "<?xml version=\"1.0\" encoding=\"UTF-8\" standalone=\"no\"?><svg xmlns=\"http://www.w3.org/2000/svg\" xmlns:xlink=\"http://www.w3.org/1999/xlink\" contentScriptType=\"application/ecmascript\" contentStyleType=\"text/css\" height=\"280px\" preserveAspectRatio=\"none\" style=\"width:710px;height:280px;\" version=\"1.1\" viewBox=\"0 0 710 280\" width=\"710px\" zoomAndPan=\"magnify\"><defs/><g><!--MD5=[fbc87193dbaf4d95561dea2c320d4a47]\n",
       "cluster E1--><a href=\"psysml:c7000c50-df42-41d3-9ba9-36eed14db093\" target=\"_top\" title=\"psysml:c7000c50-df42-41d3-9ba9-36eed14db093\" xlink:actuate=\"onRequest\" xlink:href=\"psysml:c7000c50-df42-41d3-9ba9-36eed14db093\" xlink:show=\"new\" xlink:title=\"psysml:c7000c50-df42-41d3-9ba9-36eed14db093\" xlink:type=\"simple\"><polygon fill=\"#FFFFFF\" points=\"16,6,139,6,146,28.2969,688,28.2969,688,268,16,268,16,6\" style=\"stroke: #000000; stroke-width: 1.5;\"/><line style=\"stroke: #000000; stroke-width: 1.5;\" x1=\"16\" x2=\"146\" y1=\"28.2969\" y2=\"28.2969\"/><text fill=\"#000000\" font-family=\"sans-serif\" font-size=\"14\" font-weight=\"bold\" lengthAdjust=\"spacingAndGlyphs\" textLength=\"117\" x=\"20\" y=\"20.9951\">ParameterTest</text></a><!--MD5=[b4997ac47864f28c2f74865a473b2911]\n",
       "class E2--><a href=\"psysml:cb02a2ee-bdc8-478c-9636-92278b567e26\" target=\"_top\" title=\"psysml:cb02a2ee-bdc8-478c-9636-92278b567e26\" xlink:actuate=\"onRequest\" xlink:href=\"psysml:cb02a2ee-bdc8-478c-9636-92278b567e26\" xlink:show=\"new\" xlink:title=\"psysml:cb02a2ee-bdc8-478c-9636-92278b567e26\" xlink:type=\"simple\"><rect fill=\"#FFFFFF\" height=\"88.3516\" id=\"E2\" style=\"stroke: #383838; stroke-width: 1.5;\" width=\"95\" x=\"498.5\" y=\"164\"/><text fill=\"#000000\" font-family=\"sans-serif\" font-size=\"12\" font-style=\"italic\" lengthAdjust=\"spacingAndGlyphs\" textLength=\"93\" x=\"499.5\" y=\"180.1387\">«attribute def»</text><text fill=\"#000000\" font-family=\"sans-serif\" font-size=\"12\" lengthAdjust=\"spacingAndGlyphs\" textLength=\"8\" x=\"542\" y=\"194.1074\">A</text><line style=\"stroke: #383838; stroke-width: 1.5;\" x1=\"499.5\" x2=\"592.5\" y1=\"201.9375\" y2=\"201.9375\"/><text fill=\"#000000\" font-family=\"sans-serif\" font-size=\"11\" lengthAdjust=\"spacingAndGlyphs\" textLength=\"48\" x=\"504.5\" y=\"232.9526\">x: String</text><text fill=\"#000000\" font-family=\"sans-serif\" font-size=\"11\" lengthAdjust=\"spacingAndGlyphs\" textLength=\"21\" x=\"504.5\" y=\"245.7573\">y: A</text><line style=\"stroke: #383838; stroke-width: 1.0;\" x1=\"499.5\" x2=\"518.5\" y1=\"216.3398\" y2=\"216.3398\"/><text fill=\"#000000\" font-family=\"sans-serif\" font-size=\"11\" lengthAdjust=\"spacingAndGlyphs\" textLength=\"55\" x=\"518.5\" y=\"219.6479\">attributes</text><line style=\"stroke: #383838; stroke-width: 1.0;\" x1=\"573.5\" x2=\"592.5\" y1=\"216.3398\" y2=\"216.3398\"/></a><!--MD5=[09b614a08d8cba4a07c9adeb5e0fee81]\n",
       "class E3--><a href=\"psysml:50ebccda-29a4-4ea8-943d-69f99c07f732\" target=\"_top\" title=\"psysml:50ebccda-29a4-4ea8-943d-69f99c07f732\" xlink:actuate=\"onRequest\" xlink:href=\"psysml:50ebccda-29a4-4ea8-943d-69f99c07f732\" xlink:show=\"new\" xlink:title=\"psysml:50ebccda-29a4-4ea8-943d-69f99c07f732\" xlink:type=\"simple\"><rect fill=\"#FFFFFF\" height=\"45.9375\" id=\"E3\" rx=\"10\" ry=\"10\" style=\"stroke: #383838; stroke-width: 1.5;\" width=\"71\" x=\"600.5\" y=\"41\"/><text fill=\"#000000\" font-family=\"sans-serif\" font-size=\"12\" font-style=\"italic\" lengthAdjust=\"spacingAndGlyphs\" textLength=\"69\" x=\"601.5\" y=\"57.1387\">«attribute»</text><text fill=\"#000000\" font-family=\"sans-serif\" font-size=\"12\" lengthAdjust=\"spacingAndGlyphs\" textLength=\"24\" x=\"624\" y=\"71.1074\">a: A</text><line style=\"stroke: #383838; stroke-width: 1.5;\" x1=\"601.5\" x2=\"670.5\" y1=\"78.9375\" y2=\"78.9375\"/></a><!--MD5=[ebbe1d658d1005bcc118a6aa81145e00]\n",
       "class E4--><a href=\"psysml:31ea6359-c2ac-42c4-9008-615ad8ad058c\" target=\"_top\" title=\"psysml:31ea6359-c2ac-42c4-9008-615ad8ad058c\" xlink:actuate=\"onRequest\" xlink:href=\"psysml:31ea6359-c2ac-42c4-9008-615ad8ad058c\" xlink:show=\"new\" xlink:title=\"psysml:31ea6359-c2ac-42c4-9008-615ad8ad058c\" xlink:type=\"simple\"><rect fill=\"#FFFFFF\" height=\"45.9375\" id=\"E4\" style=\"stroke: #383838; stroke-width: 1.5;\" width=\"108\" x=\"457\" y=\"41\"/><text fill=\"#000000\" font-family=\"sans-serif\" font-size=\"12\" font-style=\"italic\" lengthAdjust=\"spacingAndGlyphs\" textLength=\"106\" x=\"458\" y=\"57.1387\">«calculation def»</text><text fill=\"#000000\" font-family=\"sans-serif\" font-size=\"12\" lengthAdjust=\"spacingAndGlyphs\" textLength=\"7\" x=\"507.5\" y=\"71.1074\">F</text><line style=\"stroke: #383838; stroke-width: 1.5;\" x1=\"458\" x2=\"564\" y1=\"78.9375\" y2=\"78.9375\"/></a><!--MD5=[270fce915f116d4de14055a7c1d9a0f3]\n",
       "class E5--><a href=\"psysml:a5af055b-f2ee-4ef1-a486-dc312f464f3e\" target=\"_top\" title=\"psysml:a5af055b-f2ee-4ef1-a486-dc312f464f3e\" xlink:actuate=\"onRequest\" xlink:href=\"psysml:a5af055b-f2ee-4ef1-a486-dc312f464f3e\" xlink:show=\"new\" xlink:title=\"psysml:a5af055b-f2ee-4ef1-a486-dc312f464f3e\" xlink:type=\"simple\"><rect fill=\"#FFFFFF\" height=\"45.9375\" id=\"E5\" rx=\"10\" ry=\"10\" style=\"stroke: #383838; stroke-width: 1.5;\" width=\"71\" x=\"350.5\" y=\"41\"/><text fill=\"#000000\" font-family=\"sans-serif\" font-size=\"12\" font-style=\"italic\" lengthAdjust=\"spacingAndGlyphs\" textLength=\"69\" x=\"351.5\" y=\"57.1387\">«attribute»</text><text fill=\"#000000\" font-family=\"sans-serif\" font-size=\"12\" lengthAdjust=\"spacingAndGlyphs\" textLength=\"4\" x=\"384\" y=\"71.1074\">f</text><line style=\"stroke: #383838; stroke-width: 1.5;\" x1=\"351.5\" x2=\"420.5\" y1=\"78.9375\" y2=\"78.9375\"/></a><!--MD5=[60a26617385b1d2d0262a64233df1f8d]\n",
       "class E6--><a href=\"psysml:63113e1f-55f0-4199-b954-2673a0b317ed\" target=\"_top\" title=\"psysml:63113e1f-55f0-4199-b954-2673a0b317ed\" xlink:actuate=\"onRequest\" xlink:href=\"psysml:63113e1f-55f0-4199-b954-2673a0b317ed\" xlink:show=\"new\" xlink:title=\"psysml:63113e1f-55f0-4199-b954-2673a0b317ed\" xlink:type=\"simple\"><rect fill=\"#FFFFFF\" height=\"45.9375\" id=\"E6\" rx=\"10\" ry=\"10\" style=\"stroke: #383838; stroke-width: 1.5;\" width=\"71\" x=\"244.5\" y=\"41\"/><text fill=\"#000000\" font-family=\"sans-serif\" font-size=\"12\" font-style=\"italic\" lengthAdjust=\"spacingAndGlyphs\" textLength=\"69\" x=\"245.5\" y=\"57.1387\">«attribute»</text><text fill=\"#000000\" font-family=\"sans-serif\" font-size=\"12\" lengthAdjust=\"spacingAndGlyphs\" textLength=\"8\" x=\"276\" y=\"71.1074\">g</text><line style=\"stroke: #383838; stroke-width: 1.5;\" x1=\"245.5\" x2=\"314.5\" y1=\"78.9375\" y2=\"78.9375\"/></a><!--MD5=[2156ba9850f5573cc1fc38a6a4b2f02b]\n",
       "class E7--><a href=\"psysml:537e328f-e5cc-426a-9b09-8cf3e436744c\" target=\"_top\" title=\"psysml:537e328f-e5cc-426a-9b09-8cf3e436744c\" xlink:actuate=\"onRequest\" xlink:href=\"psysml:537e328f-e5cc-426a-9b09-8cf3e436744c\" xlink:show=\"new\" xlink:title=\"psysml:537e328f-e5cc-426a-9b09-8cf3e436744c\" xlink:type=\"simple\"><rect fill=\"#FFFFFF\" height=\"45.9375\" id=\"E7\" rx=\"10\" ry=\"10\" style=\"stroke: #383838; stroke-width: 1.5;\" width=\"71\" x=\"138.5\" y=\"41\"/><text fill=\"#000000\" font-family=\"sans-serif\" font-size=\"12\" font-style=\"italic\" lengthAdjust=\"spacingAndGlyphs\" textLength=\"69\" x=\"139.5\" y=\"57.1387\">«attribute»</text><text fill=\"#000000\" font-family=\"sans-serif\" font-size=\"12\" lengthAdjust=\"spacingAndGlyphs\" textLength=\"8\" x=\"170\" y=\"71.1074\">b</text><line style=\"stroke: #383838; stroke-width: 1.5;\" x1=\"139.5\" x2=\"208.5\" y1=\"78.9375\" y2=\"78.9375\"/></a><!--MD5=[b9389687b975829384b498ac4b7476b2]\n",
       "class E8--><a href=\"psysml:2b35c468-a57b-4dfd-a90f-3e1de4d6204b\" target=\"_top\" title=\"psysml:2b35c468-a57b-4dfd-a90f-3e1de4d6204b\" xlink:actuate=\"onRequest\" xlink:href=\"psysml:2b35c468-a57b-4dfd-a90f-3e1de4d6204b\" xlink:show=\"new\" xlink:title=\"psysml:2b35c468-a57b-4dfd-a90f-3e1de4d6204b\" xlink:type=\"simple\"><rect fill=\"#FFFFFF\" height=\"45.9375\" id=\"E8\" rx=\"10\" ry=\"10\" style=\"stroke: #383838; stroke-width: 1.5;\" width=\"71\" x=\"32.5\" y=\"41\"/><text fill=\"#000000\" font-family=\"sans-serif\" font-size=\"12\" font-style=\"italic\" lengthAdjust=\"spacingAndGlyphs\" textLength=\"69\" x=\"33.5\" y=\"57.1387\">«attribute»</text><text fill=\"#000000\" font-family=\"sans-serif\" font-size=\"12\" lengthAdjust=\"spacingAndGlyphs\" textLength=\"7\" x=\"64.5\" y=\"71.1074\">c</text><line style=\"stroke: #383838; stroke-width: 1.5;\" x1=\"33.5\" x2=\"102.5\" y1=\"78.9375\" y2=\"78.9375\"/></a><!--MD5=[05d275557350bfb9b23a4ef7222b4c39]\n",
       "link E3 to E2--><a href=\"psysml:50b306d4-0f13-410b-aa85-567dae9acdd8\" target=\"_top\" title=\"psysml:50b306d4-0f13-410b-aa85-567dae9acdd8\" xlink:actuate=\"onRequest\" xlink:href=\"psysml:50b306d4-0f13-410b-aa85-567dae9acdd8\" xlink:show=\"new\" xlink:title=\"psysml:50b306d4-0f13-410b-aa85-567dae9acdd8\" xlink:type=\"simple\"><path d=\"M600.38,64 C588.98,64 579.25,64 579.25,64 C579.25,64 579.25,143.62 579.25,143.62 \" fill=\"none\" id=\"E3-&gt;E2\" style=\"stroke: #383838; stroke-width: 1.0;\"/><polygon fill=\"#FFFFFF\" points=\"579.25,163.62,572.25,144.62,586.25,144.62,579.25,163.62\" style=\"stroke: #383838; stroke-width: 1.0;\"/><ellipse cx=\"574.25\" cy=\"138.92\" fill=\"#383838\" rx=\"2\" ry=\"2\" style=\"stroke: #383838; stroke-width: 1.0;\"/><ellipse cx=\"584.25\" cy=\"138.92\" fill=\"#383838\" rx=\"2\" ry=\"2\" style=\"stroke: #383838; stroke-width: 1.0;\"/></a><!--MD5=[ddeed8deb2209213b62e6cfabaa108b2]\n",
       "reverse link E4 to E2--><a href=\"psysml:c5b3d96c-9fe7-4ab4-b771-6776a88b0ad4\" target=\"_top\" title=\"psysml:c5b3d96c-9fe7-4ab4-b771-6776a88b0ad4\" xlink:actuate=\"onRequest\" xlink:href=\"psysml:c5b3d96c-9fe7-4ab4-b771-6776a88b0ad4\" xlink:show=\"new\" xlink:title=\"psysml:c5b3d96c-9fe7-4ab4-b771-6776a88b0ad4\" xlink:type=\"simple\"><path d=\"M531.75,100.14 C531.75,100.14 531.75,163.71 531.75,163.71 \" fill=\"none\" id=\"E4&lt;-E2\" style=\"stroke: #383838; stroke-width: 1.0;\"/><polygon fill=\"#FFFFFF\" points=\"531.75,87.14,527.75,93.14,531.75,99.14,535.75,93.14,531.75,87.14\" style=\"stroke: #383838; stroke-width: 1.0;\"/><text fill=\"#000000\" font-family=\"sans-serif\" font-size=\"13\" lengthAdjust=\"spacingAndGlyphs\" textLength=\"8\" x=\"539\" y=\"130.0669\">p</text></a><!--MD5=[9c57a5bec8a5f5394dce9458e485c76d]\n",
       "@startuml\r\n",
       "skinparam linetype ortho\r\n",
       "skinparam monochrome true\r\n",
       "skinparam classbackgroundcolor white\r\n",
       "skinparam shadowing false\r\n",
       "skinparam wrapWidth 300\r\n",
       "hide circle\r\n",
       "\r\n",
       "package \"ParameterTest\" as E1  [[psysml:c7000c50-df42-41d3-9ba9-36eed14db093 ]]  {\r\n",
       "comp def \"A\" as E2  <<(T,blue)attribute def>> [[psysml:cb02a2ee-bdc8-478c-9636-92278b567e26 ]] {\r\n",
       "- - attributes - -\r\n",
       "x: String\r\n",
       "y: A\r\n",
       "}\r\n",
       "comp usage \"a: A\" as E3  <<(T,blue)attribute>> [[psysml:50ebccda-29a4-4ea8-943d-69f99c07f732 ]] {\r\n",
       "}\r\n",
       "comp def \"F\" as E4  <<(T,blue)calculation def>> [[psysml:31ea6359-c2ac-42c4-9008-615ad8ad058c ]] {\r\n",
       "}\r\n",
       "comp usage \"f\" as E5  <<(T,blue)attribute>> [[psysml:a5af055b-f2ee-4ef1-a486-dc312f464f3e ]] {\r\n",
       "}\r\n",
       "comp usage \"g\" as E6  <<(T,blue)attribute>> [[psysml:63113e1f-55f0-4199-b954-2673a0b317ed ]] {\r\n",
       "}\r\n",
       "comp usage \"b\" as E7  <<(T,blue)attribute>> [[psysml:537e328f-e5cc-426a-9b09-8cf3e436744c ]] {\r\n",
       "}\r\n",
       "comp usage \"c\" as E8  <<(T,blue)attribute>> [[psysml:2b35c468-a57b-4dfd-a90f-3e1de4d6204b ]] {\r\n",
       "}\r\n",
       "E3 - -:|> E2 [[psysml:50b306d4-0f13-410b-aa85-567dae9acdd8 ]] \r\n",
       "E4 o- - E2 [[psysml:c5b3d96c-9fe7-4ab4-b771-6776a88b0ad4 ]] : p\r\n",
       "}\r\n",
       "@enduml\r\n",
       "\n",
       "PlantUML version 1.2020.13(Sat Jun 13 12:26:38 UTC 2020)\n",
       "(EPL source distribution)\n",
       "Java Runtime: OpenJDK Runtime Environment\n",
       "JVM: OpenJDK 64-Bit Server VM\n",
       "Default Encoding: UTF-8\n",
       "Language: en\n",
       "Country: null\n",
       "--></g></svg>"
      ]
     },
     "execution_count": 56,
     "metadata": {},
     "output_type": "execute_result"
    }
   ],
   "source": [
    "%viz --style=\"ORTHOLINE\" --view=\"Sequence\" \"ParameterTest\""
   ]
  },
  {
   "cell_type": "code",
   "execution_count": 57,
   "id": "bizarre-protocol",
   "metadata": {
    "execution": {
     "iopub.execute_input": "2021-03-25T15:03:21.329606Z",
     "iopub.status.busy": "2021-03-25T15:03:21.328606Z",
     "iopub.status.idle": "2021-03-25T15:03:21.619417Z",
     "shell.execute_reply": "2021-03-25T15:03:21.616734Z"
    }
   },
   "outputs": [
    {
     "data": {
      "image/svg+xml": [
       "<?xml version=\"1.0\" encoding=\"UTF-8\" standalone=\"no\"?><svg xmlns=\"http://www.w3.org/2000/svg\" xmlns:xlink=\"http://www.w3.org/1999/xlink\" contentScriptType=\"application/ecmascript\" contentStyleType=\"text/css\" height=\"263px\" preserveAspectRatio=\"none\" style=\"width:740px;height:263px;\" version=\"1.1\" viewBox=\"0 0 740 263\" width=\"740px\" zoomAndPan=\"magnify\"><defs/><g><!--MD5=[fbc87193dbaf4d95561dea2c320d4a47]\n",
       "cluster E1--><a href=\"psysml:c7000c50-df42-41d3-9ba9-36eed14db093\" target=\"_top\" title=\"psysml:c7000c50-df42-41d3-9ba9-36eed14db093\" xlink:actuate=\"onRequest\" xlink:href=\"psysml:c7000c50-df42-41d3-9ba9-36eed14db093\" xlink:show=\"new\" xlink:title=\"psysml:c7000c50-df42-41d3-9ba9-36eed14db093\" xlink:type=\"simple\"><polygon fill=\"#FFFFFF\" points=\"16,6,139,6,146,28.2969,718,28.2969,718,251,16,251,16,6\" style=\"stroke: #000000; stroke-width: 1.5;\"/><line style=\"stroke: #000000; stroke-width: 1.5;\" x1=\"16\" x2=\"146\" y1=\"28.2969\" y2=\"28.2969\"/><text fill=\"#000000\" font-family=\"sans-serif\" font-size=\"14\" font-weight=\"bold\" lengthAdjust=\"spacingAndGlyphs\" textLength=\"117\" x=\"20\" y=\"20.9951\">ParameterTest</text></a><!--MD5=[f6df4d0ebaf0b5dfb2ced0ae5af7c670]\n",
       "cluster E4--><a href=\"psysml:31ea6359-c2ac-42c4-9008-615ad8ad058c\" target=\"_top\" title=\"psysml:31ea6359-c2ac-42c4-9008-615ad8ad058c\" xlink:actuate=\"onRequest\" xlink:href=\"psysml:31ea6359-c2ac-42c4-9008-615ad8ad058c\" xlink:show=\"new\" xlink:title=\"psysml:31ea6359-c2ac-42c4-9008-615ad8ad058c\" xlink:type=\"simple\"><rect fill=\"#FFFFFF\" height=\"160.5\" id=\"E4\" style=\"stroke: #383838; stroke-width: 1.5;\" width=\"148\" x=\"554\" y=\"64\"/><rect fill=\"#F8F8F8\" height=\"37.9375\" style=\"stroke: #383838; stroke-width: 1.5;\" width=\"148\" x=\"554\" y=\"64\"/><text fill=\"#000000\" font-family=\"sans-serif\" font-size=\"12\" font-style=\"italic\" lengthAdjust=\"spacingAndGlyphs\" textLength=\"106\" x=\"575\" y=\"80.1387\">«calculation def»</text><text fill=\"#000000\" font-family=\"sans-serif\" font-size=\"12\" lengthAdjust=\"spacingAndGlyphs\" textLength=\"7\" x=\"624.5\" y=\"94.1074\">F</text></a><!--MD5=[b4997ac47864f28c2f74865a473b2911]\n",
       "class E2--><a href=\"psysml:cb02a2ee-bdc8-478c-9636-92278b567e26\" target=\"_top\" title=\"psysml:cb02a2ee-bdc8-478c-9636-92278b567e26\" xlink:actuate=\"onRequest\" xlink:href=\"psysml:cb02a2ee-bdc8-478c-9636-92278b567e26\" xlink:show=\"new\" xlink:title=\"psysml:cb02a2ee-bdc8-478c-9636-92278b567e26\" xlink:type=\"simple\"><rect fill=\"#FFFFFF\" height=\"88.3516\" id=\"E2\" style=\"stroke: #383838; stroke-width: 1.5;\" width=\"95\" x=\"422.5\" y=\"147\"/><text fill=\"#000000\" font-family=\"sans-serif\" font-size=\"12\" font-style=\"italic\" lengthAdjust=\"spacingAndGlyphs\" textLength=\"93\" x=\"423.5\" y=\"163.1387\">«attribute def»</text><text fill=\"#000000\" font-family=\"sans-serif\" font-size=\"12\" lengthAdjust=\"spacingAndGlyphs\" textLength=\"8\" x=\"466\" y=\"177.1074\">A</text><line style=\"stroke: #383838; stroke-width: 1.5;\" x1=\"423.5\" x2=\"516.5\" y1=\"184.9375\" y2=\"184.9375\"/><text fill=\"#000000\" font-family=\"sans-serif\" font-size=\"11\" lengthAdjust=\"spacingAndGlyphs\" textLength=\"48\" x=\"428.5\" y=\"215.9526\">x: String</text><text fill=\"#000000\" font-family=\"sans-serif\" font-size=\"11\" lengthAdjust=\"spacingAndGlyphs\" textLength=\"21\" x=\"428.5\" y=\"228.7573\">y: A</text><line style=\"stroke: #383838; stroke-width: 1.0;\" x1=\"423.5\" x2=\"442.5\" y1=\"199.3398\" y2=\"199.3398\"/><text fill=\"#000000\" font-family=\"sans-serif\" font-size=\"11\" lengthAdjust=\"spacingAndGlyphs\" textLength=\"55\" x=\"442.5\" y=\"202.6479\">attributes</text><line style=\"stroke: #383838; stroke-width: 1.0;\" x1=\"497.5\" x2=\"516.5\" y1=\"199.3398\" y2=\"199.3398\"/></a><!--MD5=[09b614a08d8cba4a07c9adeb5e0fee81]\n",
       "class E3--><a href=\"psysml:50ebccda-29a4-4ea8-943d-69f99c07f732\" target=\"_top\" title=\"psysml:50ebccda-29a4-4ea8-943d-69f99c07f732\" xlink:actuate=\"onRequest\" xlink:href=\"psysml:50ebccda-29a4-4ea8-943d-69f99c07f732\" xlink:show=\"new\" xlink:title=\"psysml:50ebccda-29a4-4ea8-943d-69f99c07f732\" xlink:type=\"simple\"><rect fill=\"#FFFFFF\" height=\"45.9375\" id=\"E3\" rx=\"10\" ry=\"10\" style=\"stroke: #383838; stroke-width: 1.5;\" width=\"71\" x=\"456.5\" y=\"41\"/><text fill=\"#000000\" font-family=\"sans-serif\" font-size=\"12\" font-style=\"italic\" lengthAdjust=\"spacingAndGlyphs\" textLength=\"69\" x=\"457.5\" y=\"57.1387\">«attribute»</text><text fill=\"#000000\" font-family=\"sans-serif\" font-size=\"12\" lengthAdjust=\"spacingAndGlyphs\" textLength=\"24\" x=\"480\" y=\"71.1074\">a: A</text><line style=\"stroke: #383838; stroke-width: 1.5;\" x1=\"457.5\" x2=\"526.5\" y1=\"78.9375\" y2=\"78.9375\"/></a><!--MD5=[2156ba9850f5573cc1fc38a6a4b2f02b]\n",
       "class E7--><a href=\"psysml:a5af055b-f2ee-4ef1-a486-dc312f464f3e\" target=\"_top\" title=\"psysml:a5af055b-f2ee-4ef1-a486-dc312f464f3e\" xlink:actuate=\"onRequest\" xlink:href=\"psysml:a5af055b-f2ee-4ef1-a486-dc312f464f3e\" xlink:show=\"new\" xlink:title=\"psysml:a5af055b-f2ee-4ef1-a486-dc312f464f3e\" xlink:type=\"simple\"><rect fill=\"#FFFFFF\" height=\"45.9375\" id=\"E7\" rx=\"10\" ry=\"10\" style=\"stroke: #383838; stroke-width: 1.5;\" width=\"71\" x=\"350.5\" y=\"41\"/><text fill=\"#000000\" font-family=\"sans-serif\" font-size=\"12\" font-style=\"italic\" lengthAdjust=\"spacingAndGlyphs\" textLength=\"69\" x=\"351.5\" y=\"57.1387\">«attribute»</text><text fill=\"#000000\" font-family=\"sans-serif\" font-size=\"12\" lengthAdjust=\"spacingAndGlyphs\" textLength=\"4\" x=\"384\" y=\"71.1074\">f</text><line style=\"stroke: #383838; stroke-width: 1.5;\" x1=\"351.5\" x2=\"420.5\" y1=\"78.9375\" y2=\"78.9375\"/></a><!--MD5=[b9389687b975829384b498ac4b7476b2]\n",
       "class E8--><a href=\"psysml:63113e1f-55f0-4199-b954-2673a0b317ed\" target=\"_top\" title=\"psysml:63113e1f-55f0-4199-b954-2673a0b317ed\" xlink:actuate=\"onRequest\" xlink:href=\"psysml:63113e1f-55f0-4199-b954-2673a0b317ed\" xlink:show=\"new\" xlink:title=\"psysml:63113e1f-55f0-4199-b954-2673a0b317ed\" xlink:type=\"simple\"><rect fill=\"#FFFFFF\" height=\"45.9375\" id=\"E8\" rx=\"10\" ry=\"10\" style=\"stroke: #383838; stroke-width: 1.5;\" width=\"71\" x=\"244.5\" y=\"41\"/><text fill=\"#000000\" font-family=\"sans-serif\" font-size=\"12\" font-style=\"italic\" lengthAdjust=\"spacingAndGlyphs\" textLength=\"69\" x=\"245.5\" y=\"57.1387\">«attribute»</text><text fill=\"#000000\" font-family=\"sans-serif\" font-size=\"12\" lengthAdjust=\"spacingAndGlyphs\" textLength=\"8\" x=\"276\" y=\"71.1074\">g</text><line style=\"stroke: #383838; stroke-width: 1.5;\" x1=\"245.5\" x2=\"314.5\" y1=\"78.9375\" y2=\"78.9375\"/></a><!--MD5=[fd4143e9d270a159db93a4ea2a975926]\n",
       "class E9--><a href=\"psysml:537e328f-e5cc-426a-9b09-8cf3e436744c\" target=\"_top\" title=\"psysml:537e328f-e5cc-426a-9b09-8cf3e436744c\" xlink:actuate=\"onRequest\" xlink:href=\"psysml:537e328f-e5cc-426a-9b09-8cf3e436744c\" xlink:show=\"new\" xlink:title=\"psysml:537e328f-e5cc-426a-9b09-8cf3e436744c\" xlink:type=\"simple\"><rect fill=\"#FFFFFF\" height=\"45.9375\" id=\"E9\" rx=\"10\" ry=\"10\" style=\"stroke: #383838; stroke-width: 1.5;\" width=\"71\" x=\"138.5\" y=\"41\"/><text fill=\"#000000\" font-family=\"sans-serif\" font-size=\"12\" font-style=\"italic\" lengthAdjust=\"spacingAndGlyphs\" textLength=\"69\" x=\"139.5\" y=\"57.1387\">«attribute»</text><text fill=\"#000000\" font-family=\"sans-serif\" font-size=\"12\" lengthAdjust=\"spacingAndGlyphs\" textLength=\"8\" x=\"170\" y=\"71.1074\">b</text><line style=\"stroke: #383838; stroke-width: 1.5;\" x1=\"139.5\" x2=\"208.5\" y1=\"78.9375\" y2=\"78.9375\"/></a><!--MD5=[96f4274e9e20536e775497830990834d]\n",
       "class E10--><a href=\"psysml:2b35c468-a57b-4dfd-a90f-3e1de4d6204b\" target=\"_top\" title=\"psysml:2b35c468-a57b-4dfd-a90f-3e1de4d6204b\" xlink:actuate=\"onRequest\" xlink:href=\"psysml:2b35c468-a57b-4dfd-a90f-3e1de4d6204b\" xlink:show=\"new\" xlink:title=\"psysml:2b35c468-a57b-4dfd-a90f-3e1de4d6204b\" xlink:type=\"simple\"><rect fill=\"#FFFFFF\" height=\"45.9375\" id=\"E10\" rx=\"10\" ry=\"10\" style=\"stroke: #383838; stroke-width: 1.5;\" width=\"71\" x=\"32.5\" y=\"41\"/><text fill=\"#000000\" font-family=\"sans-serif\" font-size=\"12\" font-style=\"italic\" lengthAdjust=\"spacingAndGlyphs\" textLength=\"69\" x=\"33.5\" y=\"57.1387\">«attribute»</text><text fill=\"#000000\" font-family=\"sans-serif\" font-size=\"12\" lengthAdjust=\"spacingAndGlyphs\" textLength=\"7\" x=\"64.5\" y=\"71.1074\">c</text><line style=\"stroke: #383838; stroke-width: 1.5;\" x1=\"33.5\" x2=\"102.5\" y1=\"78.9375\" y2=\"78.9375\"/></a><text fill=\"#000000\" font-family=\"sans-serif\" font-size=\"14\" lengthAdjust=\"spacingAndGlyphs\" textLength=\"9\" x=\"567.5\" y=\"42.6982\">p</text><rect fill=\"#383838\" height=\"12\" style=\"stroke: #F8F8F8; stroke-width: 1.5;\" width=\"12\" x=\"566\" y=\"58\"/><text fill=\"#000000\" font-family=\"sans-serif\" font-size=\"14\" lengthAdjust=\"spacingAndGlyphs\" textLength=\"9\" x=\"614.5\" y=\"42.6982\">q</text><rect fill=\"#383838\" height=\"12\" style=\"stroke: #F8F8F8; stroke-width: 1.5;\" width=\"12\" x=\"613\" y=\"58\"/><!--MD5=[05d275557350bfb9b23a4ef7222b4c39]\n",
       "link E3 to E2--><a href=\"psysml:50b306d4-0f13-410b-aa85-567dae9acdd8\" target=\"_top\" title=\"psysml:50b306d4-0f13-410b-aa85-567dae9acdd8\" xlink:actuate=\"onRequest\" xlink:href=\"psysml:50b306d4-0f13-410b-aa85-567dae9acdd8\" xlink:show=\"new\" xlink:title=\"psysml:50b306d4-0f13-410b-aa85-567dae9acdd8\" xlink:type=\"simple\"><path d=\"M487,87.29 C487,87.29 487,126.78 487,126.78 \" fill=\"none\" id=\"E3-&gt;E2\" style=\"stroke: #383838; stroke-width: 1.0;\"/><polygon fill=\"#FFFFFF\" points=\"487,146.78,480,127.78,494,127.78,487,146.78\" style=\"stroke: #383838; stroke-width: 1.0;\"/><ellipse cx=\"482\" cy=\"122.08\" fill=\"#383838\" rx=\"2\" ry=\"2\" style=\"stroke: #383838; stroke-width: 1.0;\"/><ellipse cx=\"492\" cy=\"122.08\" fill=\"#383838\" rx=\"2\" ry=\"2\" style=\"stroke: #383838; stroke-width: 1.0;\"/></a><!--MD5=[a90c9e8c6733677820ae26cef2946938]\n",
       "@startuml\r\n",
       "skinparam linetype ortho\r\n",
       "skinparam monochrome true\r\n",
       "skinparam classbackgroundcolor white\r\n",
       "skinparam shadowing false\r\n",
       "skinparam wrapWidth 300\r\n",
       "hide circle\r\n",
       "\r\n",
       "package \"ParameterTest\" as E1  [[psysml:c7000c50-df42-41d3-9ba9-36eed14db093 ]]  {\r\n",
       "comp def \"A\" as E2  <<(T,blue)attribute def>> [[psysml:cb02a2ee-bdc8-478c-9636-92278b567e26 ]] {\r\n",
       "- - attributes - -\r\n",
       "x: String\r\n",
       "y: A\r\n",
       "}\r\n",
       "comp usage \"a: A\" as E3  <<(T,blue)attribute>> [[psysml:50ebccda-29a4-4ea8-943d-69f99c07f732 ]] {\r\n",
       "}\r\n",
       "rec def \"F\" as E4  <<(T,blue)calculation def>> [[psysml:31ea6359-c2ac-42c4-9008-615ad8ad058c ]] {\r\n",
       "portin \"p\" as E5  [[psysml:c5b3d96c-9fe7-4ab4-b771-6776a88b0ad4 ]] \r\n",
       "portin \"q\" as E6  [[psysml:66adf659-8704-40ab-88b3-19d2477512b1 ]] \r\n",
       "}\r\n",
       "\r\n",
       "comp usage \"f\" as E7  <<(T,blue)attribute>> [[psysml:a5af055b-f2ee-4ef1-a486-dc312f464f3e ]] {\r\n",
       "}\r\n",
       "comp usage \"g\" as E8  <<(T,blue)attribute>> [[psysml:63113e1f-55f0-4199-b954-2673a0b317ed ]] {\r\n",
       "}\r\n",
       "comp usage \"b\" as E9  <<(T,blue)attribute>> [[psysml:537e328f-e5cc-426a-9b09-8cf3e436744c ]] {\r\n",
       "}\r\n",
       "comp usage \"c\" as E10  <<(T,blue)attribute>> [[psysml:2b35c468-a57b-4dfd-a90f-3e1de4d6204b ]] {\r\n",
       "}\r\n",
       "E3 - -:|> E2 [[psysml:50b306d4-0f13-410b-aa85-567dae9acdd8 ]] \r\n",
       "}\r\n",
       "@enduml\r\n",
       "\n",
       "PlantUML version 1.2020.13(Sat Jun 13 12:26:38 UTC 2020)\n",
       "(EPL source distribution)\n",
       "Java Runtime: OpenJDK Runtime Environment\n",
       "JVM: OpenJDK 64-Bit Server VM\n",
       "Default Encoding: UTF-8\n",
       "Language: en\n",
       "Country: null\n",
       "--></g></svg>"
      ]
     },
     "execution_count": 57,
     "metadata": {},
     "output_type": "execute_result"
    }
   ],
   "source": [
    "%viz --style=\"ORTHOLINE\" --view=\"MIXED\" \"ParameterTest\""
   ]
  }
 ],
 "metadata": {
  "kernelspec": {
   "display_name": "SysML",
   "language": "sysml",
   "name": "sysml"
  },
  "language_info": {
   "codemirror_mode": "sysml",
   "file_extension": ".sysml",
   "mimetype": "text/x-sysml",
   "name": "SysML",
   "pygments_lexer": "java",
   "version": "1.0.0"
  }
 },
 "nbformat": 4,
 "nbformat_minor": 5
}
