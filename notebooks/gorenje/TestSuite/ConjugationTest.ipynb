{
 "cells": [
  {
   "cell_type": "markdown",
   "id": "dominant-disabled",
   "metadata": {},
   "source": [
    "# SysML v2 Test Suite\n",
    "\n",
    "This can notebook can be cleared using menu `Edit --> Clear All Outputs` and then all cells can be\n",
    "run using menu `Run --> Run All Cells`.\n",
    "\n",
    "**WARNING**: This file is generated, all modifications here will be ignored.\n"
   ]
  },
  {
   "cell_type": "markdown",
   "id": "explicit-statistics",
   "metadata": {},
   "source": [
    "## File: ../../sysml/src/examples/Simple Tests/ConjugationTest.sysml"
   ]
  },
  {
   "cell_type": "code",
   "execution_count": 1,
   "id": "fluid-throw",
   "metadata": {
    "execution": {
     "iopub.execute_input": "2021-03-25T15:03:46.469938Z",
     "iopub.status.busy": "2021-03-25T15:03:46.468460Z",
     "iopub.status.idle": "2021-03-25T15:03:46.825388Z",
     "shell.execute_reply": "2021-03-25T15:03:46.824436Z"
    }
   },
   "outputs": [
    {
     "data": {
      "text/plain": [
       "Package ConjugationTest (3298cf20-b398-447b-b58c-28e26f5f2530)\n"
      ]
     },
     "execution_count": 1,
     "metadata": {},
     "output_type": "execute_result"
    }
   ],
   "source": [
    "package ConjugationTest {\n",
    "\tport def P;\n",
    "\t\n",
    "\tpart def B {\n",
    "\t\tport p1: P;\n",
    "\t\tport p2: ~P;\n",
    "\t}\n",
    "\t\n",
    "\tconnection def A {\n",
    "\t\tend port p1: P;\n",
    "\t\tend port p2: ~P;\n",
    "\t}\n",
    "\t\n",
    "\tinterface def I {\n",
    "\t\tend p1: P;\n",
    "\t\tend p2: ~P;\n",
    "\t}\n",
    "\t\n",
    "\tpart def B1 {\n",
    "\t\tpart p {\n",
    "\t\t\tport p1: P;\n",
    "\t\t\tport p2: ~P;\t\t\n",
    "\t\t}\n",
    "\t\n",
    "\t\tconnection a: A connect p::p1 to p::p2 {\n",
    "\t\t\tend port p3: P;\n",
    "\t\t\tend port p4: ~P;\n",
    "\t\t}\n",
    "\t\tinterface i: I connect p::p1 to p::p2 {\n",
    "\t\t\tend port p3: P;\n",
    "\t\t\tend port p4: ~P;\n",
    "\t\t}\n",
    "\t}\n",
    "\t\n",
    "}"
   ]
  },
  {
   "cell_type": "code",
   "execution_count": 2,
   "id": "tight-number",
   "metadata": {
    "execution": {
     "iopub.execute_input": "2021-03-25T15:03:46.876367Z",
     "iopub.status.busy": "2021-03-25T15:03:46.875906Z",
     "iopub.status.idle": "2021-03-25T15:03:48.407865Z",
     "shell.execute_reply": "2021-03-25T15:03:48.407391Z"
    }
   },
   "outputs": [
    {
     "data": {
      "image/svg+xml": [
       "<?xml version=\"1.0\" encoding=\"UTF-8\" standalone=\"no\"?><svg xmlns=\"http://www.w3.org/2000/svg\" xmlns:xlink=\"http://www.w3.org/1999/xlink\" contentScriptType=\"application/ecmascript\" contentStyleType=\"text/css\" height=\"305px\" preserveAspectRatio=\"none\" style=\"width:744px;height:305px;\" version=\"1.1\" viewBox=\"0 0 744 305\" width=\"744px\" zoomAndPan=\"magnify\"><defs><filter height=\"300%\" id=\"f1u7qicxu3cj9u\" width=\"300%\" x=\"-1\" y=\"-1\"><feGaussianBlur result=\"blurOut\" stdDeviation=\"2.0\"/><feColorMatrix in=\"blurOut\" result=\"blurOut2\" type=\"matrix\" values=\"0 0 0 0 0 0 0 0 0 0 0 0 0 0 0 0 0 0 .4 0\"/><feOffset dx=\"4.0\" dy=\"4.0\" in=\"blurOut2\" result=\"blurOut3\"/><feBlend in=\"SourceGraphic\" in2=\"blurOut3\" mode=\"normal\"/></filter></defs><g><!--MD5=[fbc87193dbaf4d95561dea2c320d4a47]\n",
       "cluster E1--><a href=\"psysml:34192d11-634f-45f2-bc4e-1f94e63724b0\" target=\"_top\" title=\"psysml:34192d11-634f-45f2-bc4e-1f94e63724b0\" xlink:actuate=\"onRequest\" xlink:href=\"psysml:34192d11-634f-45f2-bc4e-1f94e63724b0\" xlink:show=\"new\" xlink:title=\"psysml:34192d11-634f-45f2-bc4e-1f94e63724b0\" xlink:type=\"simple\"><polygon fill=\"#FFFFFF\" filter=\"url(#f1u7qicxu3cj9u)\" points=\"16,6,151,6,158,28.2969,722,28.2969,722,293,16,293,16,6\" style=\"stroke: #000000; stroke-width: 1.5;\"/><line style=\"stroke: #000000; stroke-width: 1.5;\" x1=\"16\" x2=\"158\" y1=\"28.2969\" y2=\"28.2969\"/><text fill=\"#000000\" font-family=\"sans-serif\" font-size=\"14\" font-weight=\"bold\" lengthAdjust=\"spacingAndGlyphs\" textLength=\"129\" x=\"20\" y=\"20.9951\">ConjugationTest</text></a><!--MD5=[b4997ac47864f28c2f74865a473b2911]\n",
       "class E2--><a href=\"psysml:c663f064-4c04-4527-821b-19ee83969177\" target=\"_top\" title=\"psysml:c663f064-4c04-4527-821b-19ee83969177\" xlink:actuate=\"onRequest\" xlink:href=\"psysml:c663f064-4c04-4527-821b-19ee83969177\" xlink:show=\"new\" xlink:title=\"psysml:c663f064-4c04-4527-821b-19ee83969177\" xlink:type=\"simple\"><rect fill=\"#FEFECE\" filter=\"url(#f1u7qicxu3cj9u)\" height=\"45.9375\" id=\"E2\" style=\"stroke: #A80036; stroke-width: 1.5;\" width=\"92\" x=\"614\" y=\"62\"/><ellipse cx=\"629\" cy=\"80.9688\" fill=\"#0000FF\" rx=\"11\" ry=\"11\" style=\"stroke: #A80036; stroke-width: 1.0;\"/><path d=\"M629.8438,87.7188 L627.3906,87.7188 L627.3906,77.4688 L624.25,77.4688 L624.25,75.3281 L632.9844,75.3281 L632.9844,77.4688 L629.8438,77.4688 L629.8438,87.7188 Z \"/><text fill=\"#000000\" font-family=\"sans-serif\" font-size=\"12\" font-style=\"italic\" lengthAdjust=\"spacingAndGlyphs\" textLength=\"64\" x=\"641\" y=\"78.1387\">«port def»</text><text fill=\"#000000\" font-family=\"sans-serif\" font-size=\"12\" lengthAdjust=\"spacingAndGlyphs\" textLength=\"8\" x=\"669\" y=\"92.1074\">P</text><line style=\"stroke: #A80036; stroke-width: 1.5;\" x1=\"615\" x2=\"705\" y1=\"99.9375\" y2=\"99.9375\"/></a><!--MD5=[09b614a08d8cba4a07c9adeb5e0fee81]\n",
       "class E3--><a href=\"psysml:e064966f-e96c-463a-b744-2c95fe6cd8a1\" target=\"_top\" title=\"psysml:e064966f-e96c-463a-b744-2c95fe6cd8a1\" xlink:actuate=\"onRequest\" xlink:href=\"psysml:e064966f-e96c-463a-b744-2c95fe6cd8a1\" xlink:show=\"new\" xlink:title=\"psysml:e064966f-e96c-463a-b744-2c95fe6cd8a1\" xlink:type=\"simple\"><rect fill=\"#FEFECE\" filter=\"url(#f1u7qicxu3cj9u)\" height=\"88.3516\" id=\"E3\" style=\"stroke: #A80036; stroke-width: 1.5;\" width=\"92\" x=\"487\" y=\"41\"/><ellipse cx=\"502\" cy=\"59.9688\" fill=\"#0000FF\" rx=\"11\" ry=\"11\" style=\"stroke: #A80036; stroke-width: 1.0;\"/><path d=\"M502.8438,66.7188 L500.3906,66.7188 L500.3906,56.4688 L497.25,56.4688 L497.25,54.3281 L505.9844,54.3281 L505.9844,56.4688 L502.8438,56.4688 L502.8438,66.7188 Z \"/><text fill=\"#000000\" font-family=\"sans-serif\" font-size=\"12\" font-style=\"italic\" lengthAdjust=\"spacingAndGlyphs\" textLength=\"64\" x=\"514\" y=\"57.1387\">«part def»</text><text fill=\"#000000\" font-family=\"sans-serif\" font-size=\"12\" lengthAdjust=\"spacingAndGlyphs\" textLength=\"8\" x=\"542\" y=\"71.1074\">B</text><line style=\"stroke: #A80036; stroke-width: 1.5;\" x1=\"488\" x2=\"578\" y1=\"78.9375\" y2=\"78.9375\"/><text fill=\"#000000\" font-family=\"sans-serif\" font-size=\"11\" lengthAdjust=\"spacingAndGlyphs\" textLength=\"29\" x=\"493\" y=\"109.9526\">p1: P</text><text fill=\"#000000\" font-family=\"sans-serif\" font-size=\"11\" lengthAdjust=\"spacingAndGlyphs\" textLength=\"38\" x=\"493\" y=\"122.7573\">p2: ~P</text><line style=\"stroke: #A80036; stroke-width: 1.0;\" x1=\"488\" x2=\"518\" y1=\"93.3398\" y2=\"93.3398\"/><text fill=\"#000000\" font-family=\"sans-serif\" font-size=\"11\" lengthAdjust=\"spacingAndGlyphs\" textLength=\"30\" x=\"518\" y=\"96.6479\">ports</text><line style=\"stroke: #A80036; stroke-width: 1.0;\" x1=\"548\" x2=\"578\" y1=\"93.3398\" y2=\"93.3398\"/></a><!--MD5=[ebbe1d658d1005bcc118a6aa81145e00]\n",
       "class E4--><a href=\"psysml:005e78a8-b799-41cc-8c3e-bd1642b3bc90\" target=\"_top\" title=\"psysml:005e78a8-b799-41cc-8c3e-bd1642b3bc90\" xlink:actuate=\"onRequest\" xlink:href=\"psysml:005e78a8-b799-41cc-8c3e-bd1642b3bc90\" xlink:show=\"new\" xlink:title=\"psysml:005e78a8-b799-41cc-8c3e-bd1642b3bc90\" xlink:type=\"simple\"><rect fill=\"#FEFECE\" filter=\"url(#f1u7qicxu3cj9u)\" height=\"88.3516\" id=\"E4\" style=\"stroke: #A80036; stroke-width: 1.5;\" width=\"136\" x=\"316\" y=\"41\"/><ellipse cx=\"331\" cy=\"59.9688\" fill=\"#0000FF\" rx=\"11\" ry=\"11\" style=\"stroke: #A80036; stroke-width: 1.0;\"/><path d=\"M331.8438,66.7188 L329.3906,66.7188 L329.3906,56.4688 L326.25,56.4688 L326.25,54.3281 L334.9844,54.3281 L334.9844,56.4688 L331.8438,56.4688 L331.8438,66.7188 Z \"/><text fill=\"#000000\" font-family=\"sans-serif\" font-size=\"12\" font-style=\"italic\" lengthAdjust=\"spacingAndGlyphs\" textLength=\"108\" x=\"343\" y=\"57.1387\">«connection def»</text><text fill=\"#000000\" font-family=\"sans-serif\" font-size=\"12\" lengthAdjust=\"spacingAndGlyphs\" textLength=\"8\" x=\"393\" y=\"71.1074\">A</text><line style=\"stroke: #A80036; stroke-width: 1.5;\" x1=\"317\" x2=\"451\" y1=\"78.9375\" y2=\"78.9375\"/><text fill=\"#000000\" font-family=\"sans-serif\" font-size=\"11\" lengthAdjust=\"spacingAndGlyphs\" textLength=\"29\" x=\"322\" y=\"109.9526\">p1: P</text><text fill=\"#000000\" font-family=\"sans-serif\" font-size=\"11\" lengthAdjust=\"spacingAndGlyphs\" textLength=\"38\" x=\"322\" y=\"122.7573\">p2: ~P</text><line style=\"stroke: #A80036; stroke-width: 1.0;\" x1=\"317\" x2=\"369\" y1=\"93.3398\" y2=\"93.3398\"/><text fill=\"#000000\" font-family=\"sans-serif\" font-size=\"11\" lengthAdjust=\"spacingAndGlyphs\" textLength=\"30\" x=\"369\" y=\"96.6479\">ports</text><line style=\"stroke: #A80036; stroke-width: 1.0;\" x1=\"399\" x2=\"451\" y1=\"93.3398\" y2=\"93.3398\"/></a><!--MD5=[270fce915f116d4de14055a7c1d9a0f3]\n",
       "class E5--><a href=\"psysml:21ca298b-43fb-4a5a-8828-d457e715a9a7\" target=\"_top\" title=\"psysml:21ca298b-43fb-4a5a-8828-d457e715a9a7\" xlink:actuate=\"onRequest\" xlink:href=\"psysml:21ca298b-43fb-4a5a-8828-d457e715a9a7\" xlink:show=\"new\" xlink:title=\"psysml:21ca298b-43fb-4a5a-8828-d457e715a9a7\" xlink:type=\"simple\"><rect fill=\"#FEFECE\" filter=\"url(#f1u7qicxu3cj9u)\" height=\"88.3516\" id=\"E5\" style=\"stroke: #A80036; stroke-width: 1.5;\" width=\"122\" x=\"159\" y=\"41\"/><ellipse cx=\"174\" cy=\"59.9688\" fill=\"#0000FF\" rx=\"11\" ry=\"11\" style=\"stroke: #A80036; stroke-width: 1.0;\"/><path d=\"M174.8438,66.7188 L172.3906,66.7188 L172.3906,56.4688 L169.25,56.4688 L169.25,54.3281 L177.9844,54.3281 L177.9844,56.4688 L174.8438,56.4688 L174.8438,66.7188 Z \"/><text fill=\"#000000\" font-family=\"sans-serif\" font-size=\"12\" font-style=\"italic\" lengthAdjust=\"spacingAndGlyphs\" textLength=\"94\" x=\"186\" y=\"57.1387\">«interface def»</text><text fill=\"#000000\" font-family=\"sans-serif\" font-size=\"12\" lengthAdjust=\"spacingAndGlyphs\" textLength=\"3\" x=\"231.5\" y=\"71.1074\">I</text><line style=\"stroke: #A80036; stroke-width: 1.5;\" x1=\"160\" x2=\"280\" y1=\"78.9375\" y2=\"78.9375\"/><text fill=\"#000000\" font-family=\"sans-serif\" font-size=\"11\" lengthAdjust=\"spacingAndGlyphs\" textLength=\"29\" x=\"165\" y=\"109.9526\">p1: P</text><text fill=\"#000000\" font-family=\"sans-serif\" font-size=\"11\" lengthAdjust=\"spacingAndGlyphs\" textLength=\"38\" x=\"165\" y=\"122.7573\">p2: ~P</text><line style=\"stroke: #A80036; stroke-width: 1.0;\" x1=\"160\" x2=\"205\" y1=\"93.3398\" y2=\"93.3398\"/><text fill=\"#000000\" font-family=\"sans-serif\" font-size=\"11\" lengthAdjust=\"spacingAndGlyphs\" textLength=\"30\" x=\"205\" y=\"96.6479\">ports</text><line style=\"stroke: #A80036; stroke-width: 1.0;\" x1=\"235\" x2=\"280\" y1=\"93.3398\" y2=\"93.3398\"/></a><!--MD5=[60a26617385b1d2d0262a64233df1f8d]\n",
       "class E6--><a href=\"psysml:805f8ddd-ca4a-414c-92f1-ea459766cc23\" target=\"_top\" title=\"psysml:805f8ddd-ca4a-414c-92f1-ea459766cc23\" xlink:actuate=\"onRequest\" xlink:href=\"psysml:805f8ddd-ca4a-414c-92f1-ea459766cc23\" xlink:show=\"new\" xlink:title=\"psysml:805f8ddd-ca4a-414c-92f1-ea459766cc23\" xlink:type=\"simple\"><rect fill=\"#FEFECE\" filter=\"url(#f1u7qicxu3cj9u)\" height=\"45.9375\" id=\"E6\" style=\"stroke: #A80036; stroke-width: 1.5;\" width=\"92\" x=\"32\" y=\"62\"/><ellipse cx=\"47\" cy=\"80.9688\" fill=\"#0000FF\" rx=\"11\" ry=\"11\" style=\"stroke: #A80036; stroke-width: 1.0;\"/><path d=\"M47.8438,87.7188 L45.3906,87.7188 L45.3906,77.4688 L42.25,77.4688 L42.25,75.3281 L50.9844,75.3281 L50.9844,77.4688 L47.8438,77.4688 L47.8438,87.7188 Z \"/><text fill=\"#000000\" font-family=\"sans-serif\" font-size=\"12\" font-style=\"italic\" lengthAdjust=\"spacingAndGlyphs\" textLength=\"64\" x=\"59\" y=\"78.1387\">«part def»</text><text fill=\"#000000\" font-family=\"sans-serif\" font-size=\"12\" lengthAdjust=\"spacingAndGlyphs\" textLength=\"16\" x=\"83\" y=\"92.1074\">B1</text><line style=\"stroke: #A80036; stroke-width: 1.5;\" x1=\"33\" x2=\"123\" y1=\"99.9375\" y2=\"99.9375\"/></a><!--MD5=[2156ba9850f5573cc1fc38a6a4b2f02b]\n",
       "class E7--><a href=\"psysml:072097f8-3b46-444f-b0fb-f8fd70c894a4\" target=\"_top\" title=\"psysml:072097f8-3b46-444f-b0fb-f8fd70c894a4\" xlink:actuate=\"onRequest\" xlink:href=\"psysml:072097f8-3b46-444f-b0fb-f8fd70c894a4\" xlink:show=\"new\" xlink:title=\"psysml:072097f8-3b46-444f-b0fb-f8fd70c894a4\" xlink:type=\"simple\"><rect fill=\"#FEFECE\" filter=\"url(#f1u7qicxu3cj9u)\" height=\"88.3516\" id=\"E7\" rx=\"10\" ry=\"10\" style=\"stroke: #A80036; stroke-width: 1.5;\" width=\"68\" x=\"44\" y=\"189\"/><ellipse cx=\"59\" cy=\"207.9688\" fill=\"#0000FF\" rx=\"11\" ry=\"11\" style=\"stroke: #A80036; stroke-width: 1.0;\"/><path d=\"M59.8438,214.7188 L57.3906,214.7188 L57.3906,204.4688 L54.25,204.4688 L54.25,202.3281 L62.9844,202.3281 L62.9844,204.4688 L59.8438,204.4688 L59.8438,214.7188 Z \"/><text fill=\"#000000\" font-family=\"sans-serif\" font-size=\"12\" font-style=\"italic\" lengthAdjust=\"spacingAndGlyphs\" textLength=\"40\" x=\"71\" y=\"205.1387\">«part»</text><text fill=\"#000000\" font-family=\"sans-serif\" font-size=\"12\" lengthAdjust=\"spacingAndGlyphs\" textLength=\"8\" x=\"87\" y=\"219.1074\">p</text><line style=\"stroke: #A80036; stroke-width: 1.5;\" x1=\"45\" x2=\"111\" y1=\"226.9375\" y2=\"226.9375\"/><text fill=\"#000000\" font-family=\"sans-serif\" font-size=\"11\" lengthAdjust=\"spacingAndGlyphs\" textLength=\"29\" x=\"50\" y=\"257.9526\">p1: P</text><text fill=\"#000000\" font-family=\"sans-serif\" font-size=\"11\" lengthAdjust=\"spacingAndGlyphs\" textLength=\"38\" x=\"50\" y=\"270.7573\">p2: ~P</text><line style=\"stroke: #A80036; stroke-width: 1.0;\" x1=\"45\" x2=\"63\" y1=\"241.3398\" y2=\"241.3398\"/><text fill=\"#000000\" font-family=\"sans-serif\" font-size=\"11\" lengthAdjust=\"spacingAndGlyphs\" textLength=\"30\" x=\"63\" y=\"244.6479\">ports</text><line style=\"stroke: #A80036; stroke-width: 1.0;\" x1=\"93\" x2=\"111\" y1=\"241.3398\" y2=\"241.3398\"/></a><!--MD5=[3f50a3473f1dfb74d3f76443e03635af]\n",
       "reverse link E6 to E7--><a href=\"psysml:072097f8-3b46-444f-b0fb-f8fd70c894a4\" target=\"_top\" title=\"psysml:072097f8-3b46-444f-b0fb-f8fd70c894a4\" xlink:actuate=\"onRequest\" xlink:href=\"psysml:072097f8-3b46-444f-b0fb-f8fd70c894a4\" xlink:show=\"new\" xlink:title=\"psysml:072097f8-3b46-444f-b0fb-f8fd70c894a4\" xlink:type=\"simple\"><path d=\"M78,121.25 C78,141.54 78,167.2 78,188.71 \" fill=\"none\" id=\"E6&lt;-E7\" style=\"stroke: #A80036; stroke-width: 1.0;\"/><polygon fill=\"#A80036\" points=\"78,108.17,74,114.17,78,120.17,82,114.17,78,108.17\" style=\"stroke: #A80036; stroke-width: 1.0;\"/></a><!--MD5=[b1311192bb21bf6591ee05112dbdeb79]\n",
       "@startuml\r\n",
       " \r\n",
       "package \"ConjugationTest\" as E1  [[psysml:34192d11-634f-45f2-bc4e-1f94e63724b0 ]]  {\r\n",
       "comp def \"P\" as E2  <<(T,blue)port def>> [[psysml:c663f064-4c04-4527-821b-19ee83969177 ]] {\r\n",
       "}\r\n",
       "comp def \"B\" as E3  <<(T,blue)part def>> [[psysml:e064966f-e96c-463a-b744-2c95fe6cd8a1 ]] {\r\n",
       "- - ports - -\r\n",
       "p1: P\r\n",
       "p2: ~P\r\n",
       "}\r\n",
       "comp def \"A\" as E4  <<(T,blue)connection def>> [[psysml:005e78a8-b799-41cc-8c3e-bd1642b3bc90 ]] {\r\n",
       "- - ports - -\r\n",
       "p1: P\r\n",
       "p2: ~P\r\n",
       "}\r\n",
       "comp def \"I\" as E5  <<(T,blue)interface def>> [[psysml:21ca298b-43fb-4a5a-8828-d457e715a9a7 ]] {\r\n",
       "- - ports - -\r\n",
       "p1: P\r\n",
       "p2: ~P\r\n",
       "}\r\n",
       "comp def \"B1\" as E6  <<(T,blue)part def>> [[psysml:805f8ddd-ca4a-414c-92f1-ea459766cc23 ]] {\r\n",
       "}\r\n",
       "comp usage \"p\" as E7  <<(T,blue)part>> [[psysml:072097f8-3b46-444f-b0fb-f8fd70c894a4 ]] {\r\n",
       "- - ports - -\r\n",
       "p1: P\r\n",
       "p2: ~P\r\n",
       "}\r\n",
       "E6 *- - E7 [[psysml:072097f8-3b46-444f-b0fb-f8fd70c894a4 ]] \r\n",
       "}\r\n",
       "@enduml\r\n",
       "\n",
       "PlantUML version 1.2020.13(Sat Jun 13 12:26:38 UTC 2020)\n",
       "(EPL source distribution)\n",
       "Java Runtime: OpenJDK Runtime Environment\n",
       "JVM: OpenJDK 64-Bit Server VM\n",
       "Default Encoding: UTF-8\n",
       "Language: en\n",
       "Country: null\n",
       "--></g></svg>"
      ]
     },
     "execution_count": 2,
     "metadata": {},
     "output_type": "execute_result"
    }
   ],
   "source": [
    "%viz --style=\"COMPTREE\" --view=\"Default\" \"ConjugationTest\""
   ]
  },
  {
   "cell_type": "code",
   "execution_count": 3,
   "id": "presidential-chair",
   "metadata": {
    "execution": {
     "iopub.execute_input": "2021-03-25T15:03:48.457356Z",
     "iopub.status.busy": "2021-03-25T15:03:48.456828Z",
     "iopub.status.idle": "2021-03-25T15:03:49.263908Z",
     "shell.execute_reply": "2021-03-25T15:03:49.264585Z"
    }
   },
   "outputs": [
    {
     "data": {
      "image/svg+xml": [
       "<?xml version=\"1.0\" encoding=\"UTF-8\" standalone=\"no\"?><svg xmlns=\"http://www.w3.org/2000/svg\" xmlns:xlink=\"http://www.w3.org/1999/xlink\" contentScriptType=\"application/ecmascript\" contentStyleType=\"text/css\" height=\"305px\" preserveAspectRatio=\"none\" style=\"width:744px;height:305px;\" version=\"1.1\" viewBox=\"0 0 744 305\" width=\"744px\" zoomAndPan=\"magnify\"><defs><filter height=\"300%\" id=\"f1u7qicxu3cj9u\" width=\"300%\" x=\"-1\" y=\"-1\"><feGaussianBlur result=\"blurOut\" stdDeviation=\"2.0\"/><feColorMatrix in=\"blurOut\" result=\"blurOut2\" type=\"matrix\" values=\"0 0 0 0 0 0 0 0 0 0 0 0 0 0 0 0 0 0 .4 0\"/><feOffset dx=\"4.0\" dy=\"4.0\" in=\"blurOut2\" result=\"blurOut3\"/><feBlend in=\"SourceGraphic\" in2=\"blurOut3\" mode=\"normal\"/></filter></defs><g><!--MD5=[fbc87193dbaf4d95561dea2c320d4a47]\n",
       "cluster E1--><a href=\"psysml:34192d11-634f-45f2-bc4e-1f94e63724b0\" target=\"_top\" title=\"psysml:34192d11-634f-45f2-bc4e-1f94e63724b0\" xlink:actuate=\"onRequest\" xlink:href=\"psysml:34192d11-634f-45f2-bc4e-1f94e63724b0\" xlink:show=\"new\" xlink:title=\"psysml:34192d11-634f-45f2-bc4e-1f94e63724b0\" xlink:type=\"simple\"><polygon fill=\"#FFFFFF\" filter=\"url(#f1u7qicxu3cj9u)\" points=\"16,6,151,6,158,28.2969,722,28.2969,722,293,16,293,16,6\" style=\"stroke: #000000; stroke-width: 1.5;\"/><line style=\"stroke: #000000; stroke-width: 1.5;\" x1=\"16\" x2=\"158\" y1=\"28.2969\" y2=\"28.2969\"/><text fill=\"#000000\" font-family=\"sans-serif\" font-size=\"14\" font-weight=\"bold\" lengthAdjust=\"spacingAndGlyphs\" textLength=\"129\" x=\"20\" y=\"20.9951\">ConjugationTest</text></a><!--MD5=[b4997ac47864f28c2f74865a473b2911]\n",
       "class E2--><a href=\"psysml:c663f064-4c04-4527-821b-19ee83969177\" target=\"_top\" title=\"psysml:c663f064-4c04-4527-821b-19ee83969177\" xlink:actuate=\"onRequest\" xlink:href=\"psysml:c663f064-4c04-4527-821b-19ee83969177\" xlink:show=\"new\" xlink:title=\"psysml:c663f064-4c04-4527-821b-19ee83969177\" xlink:type=\"simple\"><rect fill=\"#FEFECE\" filter=\"url(#f1u7qicxu3cj9u)\" height=\"45.9375\" id=\"E2\" style=\"stroke: #A80036; stroke-width: 1.5;\" width=\"92\" x=\"614\" y=\"62\"/><ellipse cx=\"629\" cy=\"80.9688\" fill=\"#0000FF\" rx=\"11\" ry=\"11\" style=\"stroke: #A80036; stroke-width: 1.0;\"/><path d=\"M629.8438,87.7188 L627.3906,87.7188 L627.3906,77.4688 L624.25,77.4688 L624.25,75.3281 L632.9844,75.3281 L632.9844,77.4688 L629.8438,77.4688 L629.8438,87.7188 Z \"/><text fill=\"#000000\" font-family=\"sans-serif\" font-size=\"12\" font-style=\"italic\" lengthAdjust=\"spacingAndGlyphs\" textLength=\"64\" x=\"641\" y=\"78.1387\">«port def»</text><text fill=\"#000000\" font-family=\"sans-serif\" font-size=\"12\" lengthAdjust=\"spacingAndGlyphs\" textLength=\"8\" x=\"669\" y=\"92.1074\">P</text><line style=\"stroke: #A80036; stroke-width: 1.5;\" x1=\"615\" x2=\"705\" y1=\"99.9375\" y2=\"99.9375\"/></a><!--MD5=[09b614a08d8cba4a07c9adeb5e0fee81]\n",
       "class E3--><a href=\"psysml:e064966f-e96c-463a-b744-2c95fe6cd8a1\" target=\"_top\" title=\"psysml:e064966f-e96c-463a-b744-2c95fe6cd8a1\" xlink:actuate=\"onRequest\" xlink:href=\"psysml:e064966f-e96c-463a-b744-2c95fe6cd8a1\" xlink:show=\"new\" xlink:title=\"psysml:e064966f-e96c-463a-b744-2c95fe6cd8a1\" xlink:type=\"simple\"><rect fill=\"#FEFECE\" filter=\"url(#f1u7qicxu3cj9u)\" height=\"88.3516\" id=\"E3\" style=\"stroke: #A80036; stroke-width: 1.5;\" width=\"92\" x=\"487\" y=\"41\"/><ellipse cx=\"502\" cy=\"59.9688\" fill=\"#0000FF\" rx=\"11\" ry=\"11\" style=\"stroke: #A80036; stroke-width: 1.0;\"/><path d=\"M502.8438,66.7188 L500.3906,66.7188 L500.3906,56.4688 L497.25,56.4688 L497.25,54.3281 L505.9844,54.3281 L505.9844,56.4688 L502.8438,56.4688 L502.8438,66.7188 Z \"/><text fill=\"#000000\" font-family=\"sans-serif\" font-size=\"12\" font-style=\"italic\" lengthAdjust=\"spacingAndGlyphs\" textLength=\"64\" x=\"514\" y=\"57.1387\">«part def»</text><text fill=\"#000000\" font-family=\"sans-serif\" font-size=\"12\" lengthAdjust=\"spacingAndGlyphs\" textLength=\"8\" x=\"542\" y=\"71.1074\">B</text><line style=\"stroke: #A80036; stroke-width: 1.5;\" x1=\"488\" x2=\"578\" y1=\"78.9375\" y2=\"78.9375\"/><text fill=\"#000000\" font-family=\"sans-serif\" font-size=\"11\" lengthAdjust=\"spacingAndGlyphs\" textLength=\"29\" x=\"493\" y=\"109.9526\">p1: P</text><text fill=\"#000000\" font-family=\"sans-serif\" font-size=\"11\" lengthAdjust=\"spacingAndGlyphs\" textLength=\"38\" x=\"493\" y=\"122.7573\">p2: ~P</text><line style=\"stroke: #A80036; stroke-width: 1.0;\" x1=\"488\" x2=\"518\" y1=\"93.3398\" y2=\"93.3398\"/><text fill=\"#000000\" font-family=\"sans-serif\" font-size=\"11\" lengthAdjust=\"spacingAndGlyphs\" textLength=\"30\" x=\"518\" y=\"96.6479\">ports</text><line style=\"stroke: #A80036; stroke-width: 1.0;\" x1=\"548\" x2=\"578\" y1=\"93.3398\" y2=\"93.3398\"/></a><!--MD5=[ebbe1d658d1005bcc118a6aa81145e00]\n",
       "class E4--><a href=\"psysml:005e78a8-b799-41cc-8c3e-bd1642b3bc90\" target=\"_top\" title=\"psysml:005e78a8-b799-41cc-8c3e-bd1642b3bc90\" xlink:actuate=\"onRequest\" xlink:href=\"psysml:005e78a8-b799-41cc-8c3e-bd1642b3bc90\" xlink:show=\"new\" xlink:title=\"psysml:005e78a8-b799-41cc-8c3e-bd1642b3bc90\" xlink:type=\"simple\"><rect fill=\"#FEFECE\" filter=\"url(#f1u7qicxu3cj9u)\" height=\"88.3516\" id=\"E4\" style=\"stroke: #A80036; stroke-width: 1.5;\" width=\"136\" x=\"316\" y=\"41\"/><ellipse cx=\"331\" cy=\"59.9688\" fill=\"#0000FF\" rx=\"11\" ry=\"11\" style=\"stroke: #A80036; stroke-width: 1.0;\"/><path d=\"M331.8438,66.7188 L329.3906,66.7188 L329.3906,56.4688 L326.25,56.4688 L326.25,54.3281 L334.9844,54.3281 L334.9844,56.4688 L331.8438,56.4688 L331.8438,66.7188 Z \"/><text fill=\"#000000\" font-family=\"sans-serif\" font-size=\"12\" font-style=\"italic\" lengthAdjust=\"spacingAndGlyphs\" textLength=\"108\" x=\"343\" y=\"57.1387\">«connection def»</text><text fill=\"#000000\" font-family=\"sans-serif\" font-size=\"12\" lengthAdjust=\"spacingAndGlyphs\" textLength=\"8\" x=\"393\" y=\"71.1074\">A</text><line style=\"stroke: #A80036; stroke-width: 1.5;\" x1=\"317\" x2=\"451\" y1=\"78.9375\" y2=\"78.9375\"/><text fill=\"#000000\" font-family=\"sans-serif\" font-size=\"11\" lengthAdjust=\"spacingAndGlyphs\" textLength=\"29\" x=\"322\" y=\"109.9526\">p1: P</text><text fill=\"#000000\" font-family=\"sans-serif\" font-size=\"11\" lengthAdjust=\"spacingAndGlyphs\" textLength=\"38\" x=\"322\" y=\"122.7573\">p2: ~P</text><line style=\"stroke: #A80036; stroke-width: 1.0;\" x1=\"317\" x2=\"369\" y1=\"93.3398\" y2=\"93.3398\"/><text fill=\"#000000\" font-family=\"sans-serif\" font-size=\"11\" lengthAdjust=\"spacingAndGlyphs\" textLength=\"30\" x=\"369\" y=\"96.6479\">ports</text><line style=\"stroke: #A80036; stroke-width: 1.0;\" x1=\"399\" x2=\"451\" y1=\"93.3398\" y2=\"93.3398\"/></a><!--MD5=[270fce915f116d4de14055a7c1d9a0f3]\n",
       "class E5--><a href=\"psysml:21ca298b-43fb-4a5a-8828-d457e715a9a7\" target=\"_top\" title=\"psysml:21ca298b-43fb-4a5a-8828-d457e715a9a7\" xlink:actuate=\"onRequest\" xlink:href=\"psysml:21ca298b-43fb-4a5a-8828-d457e715a9a7\" xlink:show=\"new\" xlink:title=\"psysml:21ca298b-43fb-4a5a-8828-d457e715a9a7\" xlink:type=\"simple\"><rect fill=\"#FEFECE\" filter=\"url(#f1u7qicxu3cj9u)\" height=\"88.3516\" id=\"E5\" style=\"stroke: #A80036; stroke-width: 1.5;\" width=\"122\" x=\"159\" y=\"41\"/><ellipse cx=\"174\" cy=\"59.9688\" fill=\"#0000FF\" rx=\"11\" ry=\"11\" style=\"stroke: #A80036; stroke-width: 1.0;\"/><path d=\"M174.8438,66.7188 L172.3906,66.7188 L172.3906,56.4688 L169.25,56.4688 L169.25,54.3281 L177.9844,54.3281 L177.9844,56.4688 L174.8438,56.4688 L174.8438,66.7188 Z \"/><text fill=\"#000000\" font-family=\"sans-serif\" font-size=\"12\" font-style=\"italic\" lengthAdjust=\"spacingAndGlyphs\" textLength=\"94\" x=\"186\" y=\"57.1387\">«interface def»</text><text fill=\"#000000\" font-family=\"sans-serif\" font-size=\"12\" lengthAdjust=\"spacingAndGlyphs\" textLength=\"3\" x=\"231.5\" y=\"71.1074\">I</text><line style=\"stroke: #A80036; stroke-width: 1.5;\" x1=\"160\" x2=\"280\" y1=\"78.9375\" y2=\"78.9375\"/><text fill=\"#000000\" font-family=\"sans-serif\" font-size=\"11\" lengthAdjust=\"spacingAndGlyphs\" textLength=\"29\" x=\"165\" y=\"109.9526\">p1: P</text><text fill=\"#000000\" font-family=\"sans-serif\" font-size=\"11\" lengthAdjust=\"spacingAndGlyphs\" textLength=\"38\" x=\"165\" y=\"122.7573\">p2: ~P</text><line style=\"stroke: #A80036; stroke-width: 1.0;\" x1=\"160\" x2=\"205\" y1=\"93.3398\" y2=\"93.3398\"/><text fill=\"#000000\" font-family=\"sans-serif\" font-size=\"11\" lengthAdjust=\"spacingAndGlyphs\" textLength=\"30\" x=\"205\" y=\"96.6479\">ports</text><line style=\"stroke: #A80036; stroke-width: 1.0;\" x1=\"235\" x2=\"280\" y1=\"93.3398\" y2=\"93.3398\"/></a><!--MD5=[60a26617385b1d2d0262a64233df1f8d]\n",
       "class E6--><a href=\"psysml:805f8ddd-ca4a-414c-92f1-ea459766cc23\" target=\"_top\" title=\"psysml:805f8ddd-ca4a-414c-92f1-ea459766cc23\" xlink:actuate=\"onRequest\" xlink:href=\"psysml:805f8ddd-ca4a-414c-92f1-ea459766cc23\" xlink:show=\"new\" xlink:title=\"psysml:805f8ddd-ca4a-414c-92f1-ea459766cc23\" xlink:type=\"simple\"><rect fill=\"#FEFECE\" filter=\"url(#f1u7qicxu3cj9u)\" height=\"45.9375\" id=\"E6\" style=\"stroke: #A80036; stroke-width: 1.5;\" width=\"92\" x=\"32\" y=\"62\"/><ellipse cx=\"47\" cy=\"80.9688\" fill=\"#0000FF\" rx=\"11\" ry=\"11\" style=\"stroke: #A80036; stroke-width: 1.0;\"/><path d=\"M47.8438,87.7188 L45.3906,87.7188 L45.3906,77.4688 L42.25,77.4688 L42.25,75.3281 L50.9844,75.3281 L50.9844,77.4688 L47.8438,77.4688 L47.8438,87.7188 Z \"/><text fill=\"#000000\" font-family=\"sans-serif\" font-size=\"12\" font-style=\"italic\" lengthAdjust=\"spacingAndGlyphs\" textLength=\"64\" x=\"59\" y=\"78.1387\">«part def»</text><text fill=\"#000000\" font-family=\"sans-serif\" font-size=\"12\" lengthAdjust=\"spacingAndGlyphs\" textLength=\"16\" x=\"83\" y=\"92.1074\">B1</text><line style=\"stroke: #A80036; stroke-width: 1.5;\" x1=\"33\" x2=\"123\" y1=\"99.9375\" y2=\"99.9375\"/></a><!--MD5=[2156ba9850f5573cc1fc38a6a4b2f02b]\n",
       "class E7--><a href=\"psysml:072097f8-3b46-444f-b0fb-f8fd70c894a4\" target=\"_top\" title=\"psysml:072097f8-3b46-444f-b0fb-f8fd70c894a4\" xlink:actuate=\"onRequest\" xlink:href=\"psysml:072097f8-3b46-444f-b0fb-f8fd70c894a4\" xlink:show=\"new\" xlink:title=\"psysml:072097f8-3b46-444f-b0fb-f8fd70c894a4\" xlink:type=\"simple\"><rect fill=\"#FEFECE\" filter=\"url(#f1u7qicxu3cj9u)\" height=\"88.3516\" id=\"E7\" rx=\"10\" ry=\"10\" style=\"stroke: #A80036; stroke-width: 1.5;\" width=\"68\" x=\"44\" y=\"189\"/><ellipse cx=\"59\" cy=\"207.9688\" fill=\"#0000FF\" rx=\"11\" ry=\"11\" style=\"stroke: #A80036; stroke-width: 1.0;\"/><path d=\"M59.8438,214.7188 L57.3906,214.7188 L57.3906,204.4688 L54.25,204.4688 L54.25,202.3281 L62.9844,202.3281 L62.9844,204.4688 L59.8438,204.4688 L59.8438,214.7188 Z \"/><text fill=\"#000000\" font-family=\"sans-serif\" font-size=\"12\" font-style=\"italic\" lengthAdjust=\"spacingAndGlyphs\" textLength=\"40\" x=\"71\" y=\"205.1387\">«part»</text><text fill=\"#000000\" font-family=\"sans-serif\" font-size=\"12\" lengthAdjust=\"spacingAndGlyphs\" textLength=\"8\" x=\"87\" y=\"219.1074\">p</text><line style=\"stroke: #A80036; stroke-width: 1.5;\" x1=\"45\" x2=\"111\" y1=\"226.9375\" y2=\"226.9375\"/><text fill=\"#000000\" font-family=\"sans-serif\" font-size=\"11\" lengthAdjust=\"spacingAndGlyphs\" textLength=\"29\" x=\"50\" y=\"257.9526\">p1: P</text><text fill=\"#000000\" font-family=\"sans-serif\" font-size=\"11\" lengthAdjust=\"spacingAndGlyphs\" textLength=\"38\" x=\"50\" y=\"270.7573\">p2: ~P</text><line style=\"stroke: #A80036; stroke-width: 1.0;\" x1=\"45\" x2=\"63\" y1=\"241.3398\" y2=\"241.3398\"/><text fill=\"#000000\" font-family=\"sans-serif\" font-size=\"11\" lengthAdjust=\"spacingAndGlyphs\" textLength=\"30\" x=\"63\" y=\"244.6479\">ports</text><line style=\"stroke: #A80036; stroke-width: 1.0;\" x1=\"93\" x2=\"111\" y1=\"241.3398\" y2=\"241.3398\"/></a><!--MD5=[3f50a3473f1dfb74d3f76443e03635af]\n",
       "reverse link E6 to E7--><a href=\"psysml:072097f8-3b46-444f-b0fb-f8fd70c894a4\" target=\"_top\" title=\"psysml:072097f8-3b46-444f-b0fb-f8fd70c894a4\" xlink:actuate=\"onRequest\" xlink:href=\"psysml:072097f8-3b46-444f-b0fb-f8fd70c894a4\" xlink:show=\"new\" xlink:title=\"psysml:072097f8-3b46-444f-b0fb-f8fd70c894a4\" xlink:type=\"simple\"><path d=\"M78,121.25 C78,141.54 78,167.2 78,188.71 \" fill=\"none\" id=\"E6&lt;-E7\" style=\"stroke: #A80036; stroke-width: 1.0;\"/><polygon fill=\"#A80036\" points=\"78,108.17,74,114.17,78,120.17,82,114.17,78,108.17\" style=\"stroke: #A80036; stroke-width: 1.0;\"/></a><!--MD5=[b1311192bb21bf6591ee05112dbdeb79]\n",
       "@startuml\r\n",
       " \r\n",
       "package \"ConjugationTest\" as E1  [[psysml:34192d11-634f-45f2-bc4e-1f94e63724b0 ]]  {\r\n",
       "comp def \"P\" as E2  <<(T,blue)port def>> [[psysml:c663f064-4c04-4527-821b-19ee83969177 ]] {\r\n",
       "}\r\n",
       "comp def \"B\" as E3  <<(T,blue)part def>> [[psysml:e064966f-e96c-463a-b744-2c95fe6cd8a1 ]] {\r\n",
       "- - ports - -\r\n",
       "p1: P\r\n",
       "p2: ~P\r\n",
       "}\r\n",
       "comp def \"A\" as E4  <<(T,blue)connection def>> [[psysml:005e78a8-b799-41cc-8c3e-bd1642b3bc90 ]] {\r\n",
       "- - ports - -\r\n",
       "p1: P\r\n",
       "p2: ~P\r\n",
       "}\r\n",
       "comp def \"I\" as E5  <<(T,blue)interface def>> [[psysml:21ca298b-43fb-4a5a-8828-d457e715a9a7 ]] {\r\n",
       "- - ports - -\r\n",
       "p1: P\r\n",
       "p2: ~P\r\n",
       "}\r\n",
       "comp def \"B1\" as E6  <<(T,blue)part def>> [[psysml:805f8ddd-ca4a-414c-92f1-ea459766cc23 ]] {\r\n",
       "}\r\n",
       "comp usage \"p\" as E7  <<(T,blue)part>> [[psysml:072097f8-3b46-444f-b0fb-f8fd70c894a4 ]] {\r\n",
       "- - ports - -\r\n",
       "p1: P\r\n",
       "p2: ~P\r\n",
       "}\r\n",
       "E6 *- - E7 [[psysml:072097f8-3b46-444f-b0fb-f8fd70c894a4 ]] \r\n",
       "}\r\n",
       "@enduml\r\n",
       "\n",
       "PlantUML version 1.2020.13(Sat Jun 13 12:26:38 UTC 2020)\n",
       "(EPL source distribution)\n",
       "Java Runtime: OpenJDK Runtime Environment\n",
       "JVM: OpenJDK 64-Bit Server VM\n",
       "Default Encoding: UTF-8\n",
       "Language: en\n",
       "Country: null\n",
       "--></g></svg>"
      ]
     },
     "execution_count": 3,
     "metadata": {},
     "output_type": "execute_result"
    }
   ],
   "source": [
    "%viz --style=\"COMPTREE\" --view=\"Tree\" \"ConjugationTest\""
   ]
  },
  {
   "cell_type": "code",
   "execution_count": 4,
   "id": "affected-emergency",
   "metadata": {
    "execution": {
     "iopub.execute_input": "2021-03-25T15:03:49.314889Z",
     "iopub.status.busy": "2021-03-25T15:03:49.314194Z",
     "iopub.status.idle": "2021-03-25T15:03:50.375324Z",
     "shell.execute_reply": "2021-03-25T15:03:50.375807Z"
    }
   },
   "outputs": [
    {
     "data": {
      "image/svg+xml": [
       "<?xml version=\"1.0\" encoding=\"UTF-8\" standalone=\"no\"?><svg xmlns=\"http://www.w3.org/2000/svg\" xmlns:xlink=\"http://www.w3.org/1999/xlink\" contentScriptType=\"application/ecmascript\" contentStyleType=\"text/css\" height=\"303px\" preserveAspectRatio=\"none\" style=\"width:603px;height:303px;background:#000000;\" version=\"1.1\" viewBox=\"0 0 603 303\" width=\"603px\" zoomAndPan=\"magnify\"><defs/><g><rect fill=\"#050F22\" height=\"1\" style=\"stroke: #050F22; stroke-width: 1.0;\" width=\"1\" x=\"0\" y=\"0\"/><rect fill=\"#FFFFFF\" height=\"205.5625\" style=\"stroke: #FFFFFF; stroke-width: 1.0;\" width=\"602\" x=\"0\" y=\"0\"/><text fill=\"#000000\" font-family=\"sans-serif\" font-size=\"12\" font-weight=\"bold\" lengthAdjust=\"spacingAndGlyphs\" textLength=\"159\" x=\"5\" y=\"16.1387\">Welcome to PlantUML!</text><text fill=\"#000000\" font-family=\"sans-serif\" font-size=\"12\" lengthAdjust=\"spacingAndGlyphs\" textLength=\"0\" x=\"9\" y=\"30.1074\"/><text fill=\"#000000\" font-family=\"sans-serif\" font-size=\"12\" lengthAdjust=\"spacingAndGlyphs\" textLength=\"293\" x=\"5\" y=\"44.0762\">If you use this software, you accept its license.</text><text fill=\"#000000\" font-family=\"sans-serif\" font-size=\"12\" lengthAdjust=\"spacingAndGlyphs\" textLength=\"107\" x=\"5\" y=\"58.0449\">(details by typing</text><text fill=\"#000000\" font-family=\"monospace\" font-size=\"12\" lengthAdjust=\"spacingAndGlyphs\" textLength=\"49\" x=\"116\" y=\"58.0449\">license</text><text fill=\"#000000\" font-family=\"sans-serif\" font-size=\"12\" lengthAdjust=\"spacingAndGlyphs\" textLength=\"56\" x=\"169\" y=\"58.0449\">keyword)</text><text fill=\"#000000\" font-family=\"sans-serif\" font-size=\"12\" lengthAdjust=\"spacingAndGlyphs\" textLength=\"0\" x=\"9\" y=\"72.0137\"/><text fill=\"#000000\" font-family=\"sans-serif\" font-size=\"12\" lengthAdjust=\"spacingAndGlyphs\" textLength=\"283\" x=\"5\" y=\"85.9824\">You can start with a simple UML Diagram like:</text><text fill=\"#000000\" font-family=\"sans-serif\" font-size=\"12\" lengthAdjust=\"spacingAndGlyphs\" textLength=\"0\" x=\"9\" y=\"99.9512\"/><text fill=\"#000000\" font-family=\"monospace\" font-size=\"12\" lengthAdjust=\"spacingAndGlyphs\" textLength=\"119\" x=\"5\" y=\"113.9199\">Bob-&gt;Alice: Hello</text><text fill=\"#000000\" font-family=\"sans-serif\" font-size=\"12\" lengthAdjust=\"spacingAndGlyphs\" textLength=\"0\" x=\"9\" y=\"127.8887\"/><text fill=\"#000000\" font-family=\"sans-serif\" font-size=\"12\" lengthAdjust=\"spacingAndGlyphs\" textLength=\"14\" x=\"5\" y=\"141.8574\">Or</text><text fill=\"#000000\" font-family=\"sans-serif\" font-size=\"12\" lengthAdjust=\"spacingAndGlyphs\" textLength=\"0\" x=\"9\" y=\"155.8262\"/><text fill=\"#000000\" font-family=\"monospace\" font-size=\"12\" lengthAdjust=\"spacingAndGlyphs\" textLength=\"91\" x=\"5\" y=\"169.7949\">class Example</text><text fill=\"#000000\" font-family=\"sans-serif\" font-size=\"12\" lengthAdjust=\"spacingAndGlyphs\" textLength=\"0\" x=\"9\" y=\"183.7637\"/><text fill=\"#000000\" font-family=\"sans-serif\" font-size=\"12\" lengthAdjust=\"spacingAndGlyphs\" textLength=\"349\" x=\"5\" y=\"197.7324\">You will find more information about PlantUML syntax on</text><text fill=\"#000000\" font-family=\"sans-serif\" font-size=\"12\" lengthAdjust=\"spacingAndGlyphs\" text-decoration=\"underline\" textLength=\"129\" x=\"358\" y=\"197.7324\">https://plantuml.com</text><image height=\"71\" width=\"80\" x=\"516\" xlink:href=\"data:image/png;base64,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\" y=\"6\"/><rect fill=\"#000000\" height=\"96.4844\" style=\"stroke: #000000; stroke-width: 1.0;\" width=\"602\" x=\"0\" y=\"205.5625\"/><rect fill=\"#33FF02\" height=\"21.2969\" style=\"stroke: #33FF02; stroke-width: 1.0;\" width=\"170\" x=\"5\" y=\"210.5625\"/><text fill=\"#000000\" font-family=\"sans-serif\" font-size=\"14\" font-weight=\"bold\" lengthAdjust=\"spacingAndGlyphs\" textLength=\"168\" x=\"6\" y=\"225.5625\">[From string (line 2) ]</text><text fill=\"#33FF02\" font-family=\"sans-serif\" font-size=\"14\" font-weight=\"bold\" lengthAdjust=\"spacingAndGlyphs\" textLength=\"0\" x=\"10\" y=\"245.8594\"/><text fill=\"#33FF02\" font-family=\"sans-serif\" font-size=\"14\" font-weight=\"bold\" lengthAdjust=\"spacingAndGlyphs\" textLength=\"79\" x=\"5\" y=\"262.1563\">@startuml</text><text fill=\"#33FF02\" font-family=\"sans-serif\" font-size=\"14\" font-weight=\"bold\" lengthAdjust=\"spacingAndGlyphs\" textLength=\"0\" x=\"10\" y=\"278.4531\"/><text fill=\"#FF0000\" font-family=\"sans-serif\" font-size=\"14\" font-weight=\"bold\" lengthAdjust=\"spacingAndGlyphs\" textLength=\"142\" x=\"10\" y=\"294.75\">Empty description</text><!--MD5=[f59edd8218d337f74d0c332fc6737304]\n",
       "@startuml\r\n",
       " \r\n",
       "@enduml\r\n",
       "\n",
       "PlantUML version 1.2020.13(Sat Jun 13 12:26:38 UTC 2020)\n",
       "(EPL source distribution)\n",
       "Java Runtime: OpenJDK Runtime Environment\n",
       "JVM: OpenJDK 64-Bit Server VM\n",
       "Default Encoding: UTF-8\n",
       "Language: en\n",
       "Country: null\n",
       "--></g></svg>"
      ]
     },
     "execution_count": 4,
     "metadata": {},
     "output_type": "execute_result"
    }
   ],
   "source": [
    "%viz --style=\"COMPTREE\" --view=\"State\" \"ConjugationTest\""
   ]
  },
  {
   "cell_type": "code",
   "execution_count": 5,
   "id": "returning-vietnamese",
   "metadata": {
    "execution": {
     "iopub.execute_input": "2021-03-25T15:03:50.426316Z",
     "iopub.status.busy": "2021-03-25T15:03:50.425365Z",
     "iopub.status.idle": "2021-03-25T15:03:50.663316Z",
     "shell.execute_reply": "2021-03-25T15:03:50.660683Z"
    }
   },
   "outputs": [
    {
     "data": {
      "image/svg+xml": [
       "<?xml version=\"1.0\" encoding=\"UTF-8\" standalone=\"no\"?><svg xmlns=\"http://www.w3.org/2000/svg\" xmlns:xlink=\"http://www.w3.org/1999/xlink\" contentScriptType=\"application/ecmascript\" contentStyleType=\"text/css\" height=\"252px\" preserveAspectRatio=\"none\" style=\"width:807px;height:252px;\" version=\"1.1\" viewBox=\"0 0 807 252\" width=\"807px\" zoomAndPan=\"magnify\"><defs><filter height=\"300%\" id=\"f11j60i4zs53qi\" width=\"300%\" x=\"-1\" y=\"-1\"><feGaussianBlur result=\"blurOut\" stdDeviation=\"2.0\"/><feColorMatrix in=\"blurOut\" result=\"blurOut2\" type=\"matrix\" values=\"0 0 0 0 0 0 0 0 0 0 0 0 0 0 0 0 0 0 .4 0\"/><feOffset dx=\"4.0\" dy=\"4.0\" in=\"blurOut2\" result=\"blurOut3\"/><feBlend in=\"SourceGraphic\" in2=\"blurOut3\" mode=\"normal\"/></filter></defs><g><!--MD5=[fbc87193dbaf4d95561dea2c320d4a47]\n",
       "cluster E1--><a href=\"psysml:34192d11-634f-45f2-bc4e-1f94e63724b0\" target=\"_top\" title=\"psysml:34192d11-634f-45f2-bc4e-1f94e63724b0\" xlink:actuate=\"onRequest\" xlink:href=\"psysml:34192d11-634f-45f2-bc4e-1f94e63724b0\" xlink:show=\"new\" xlink:title=\"psysml:34192d11-634f-45f2-bc4e-1f94e63724b0\" xlink:type=\"simple\"><polygon fill=\"#FFFFFF\" filter=\"url(#f11j60i4zs53qi)\" points=\"16,6,151,6,158,28.2969,785,28.2969,785,240,16,240,16,6\" style=\"stroke: #000000; stroke-width: 1.5;\"/><line style=\"stroke: #000000; stroke-width: 1.5;\" x1=\"16\" x2=\"158\" y1=\"28.2969\" y2=\"28.2969\"/><text fill=\"#000000\" font-family=\"sans-serif\" font-size=\"14\" font-weight=\"bold\" lengthAdjust=\"spacingAndGlyphs\" textLength=\"129\" x=\"20\" y=\"20.9951\">ConjugationTest</text></a><!--MD5=[d5e69f78d87373223dbae638b30a9c99]\n",
       "cluster E3--><a href=\"psysml:e064966f-e96c-463a-b744-2c95fe6cd8a1\" target=\"_top\" title=\"psysml:e064966f-e96c-463a-b744-2c95fe6cd8a1\" xlink:actuate=\"onRequest\" xlink:href=\"psysml:e064966f-e96c-463a-b744-2c95fe6cd8a1\" xlink:show=\"new\" xlink:title=\"psysml:e064966f-e96c-463a-b744-2c95fe6cd8a1\" xlink:type=\"simple\"><rect fill=\"#FFFFFF\" filter=\"url(#f11j60i4zs53qi)\" height=\"94\" id=\"E3\" style=\"stroke: #A80036; stroke-width: 1.5;\" width=\"83\" x=\"645\" y=\"114\"/><rect fill=\"#FEFECE\" height=\"37.9375\" style=\"stroke: #A80036; stroke-width: 1.5;\" width=\"83\" x=\"645\" y=\"114\"/><text fill=\"#000000\" font-family=\"sans-serif\" font-size=\"12\" font-style=\"italic\" lengthAdjust=\"spacingAndGlyphs\" textLength=\"64\" x=\"654.5\" y=\"130.1387\">«part def»</text><text fill=\"#000000\" font-family=\"sans-serif\" font-size=\"12\" lengthAdjust=\"spacingAndGlyphs\" textLength=\"8\" x=\"682.5\" y=\"144.1074\">B</text></a><!--MD5=[14e3b0961a2654348d326746436168a1]\n",
       "cluster E6--><a href=\"psysml:005e78a8-b799-41cc-8c3e-bd1642b3bc90\" target=\"_top\" title=\"psysml:005e78a8-b799-41cc-8c3e-bd1642b3bc90\" xlink:actuate=\"onRequest\" xlink:href=\"psysml:005e78a8-b799-41cc-8c3e-bd1642b3bc90\" xlink:show=\"new\" xlink:title=\"psysml:005e78a8-b799-41cc-8c3e-bd1642b3bc90\" xlink:type=\"simple\"><rect fill=\"#FFFFFF\" filter=\"url(#f11j60i4zs53qi)\" height=\"94\" id=\"E6\" style=\"stroke: #A80036; stroke-width: 1.5;\" width=\"150\" x=\"491\" y=\"114\"/><rect fill=\"#FEFECE\" height=\"37.9375\" style=\"stroke: #A80036; stroke-width: 1.5;\" width=\"150\" x=\"491\" y=\"114\"/><text fill=\"#000000\" font-family=\"sans-serif\" font-size=\"12\" font-style=\"italic\" lengthAdjust=\"spacingAndGlyphs\" textLength=\"108\" x=\"512\" y=\"130.1387\">«connection def»</text><text fill=\"#000000\" font-family=\"sans-serif\" font-size=\"12\" lengthAdjust=\"spacingAndGlyphs\" textLength=\"8\" x=\"562\" y=\"144.1074\">A</text></a><!--MD5=[7f149f147074ac12df2cb0a7728a5fb0]\n",
       "cluster E9--><a href=\"psysml:21ca298b-43fb-4a5a-8828-d457e715a9a7\" target=\"_top\" title=\"psysml:21ca298b-43fb-4a5a-8828-d457e715a9a7\" xlink:actuate=\"onRequest\" xlink:href=\"psysml:21ca298b-43fb-4a5a-8828-d457e715a9a7\" xlink:show=\"new\" xlink:title=\"psysml:21ca298b-43fb-4a5a-8828-d457e715a9a7\" xlink:type=\"simple\"><rect fill=\"#FFFFFF\" filter=\"url(#f11j60i4zs53qi)\" height=\"94\" id=\"E9\" style=\"stroke: #A80036; stroke-width: 1.5;\" width=\"141\" x=\"322\" y=\"114\"/><rect fill=\"#FEFECE\" height=\"37.9375\" style=\"stroke: #A80036; stroke-width: 1.5;\" width=\"141\" x=\"322\" y=\"114\"/><text fill=\"#000000\" font-family=\"sans-serif\" font-size=\"12\" font-style=\"italic\" lengthAdjust=\"spacingAndGlyphs\" textLength=\"94\" x=\"345.5\" y=\"130.1387\">«interface def»</text><text fill=\"#000000\" font-family=\"sans-serif\" font-size=\"12\" lengthAdjust=\"spacingAndGlyphs\" textLength=\"3\" x=\"391\" y=\"144.1074\">I</text></a><!--MD5=[47bea60c1a0ac6c1143df232041969c0]\n",
       "cluster E12--><a href=\"psysml:805f8ddd-ca4a-414c-92f1-ea459766cc23\" target=\"_top\" title=\"psysml:805f8ddd-ca4a-414c-92f1-ea459766cc23\" xlink:actuate=\"onRequest\" xlink:href=\"psysml:805f8ddd-ca4a-414c-92f1-ea459766cc23\" xlink:show=\"new\" xlink:title=\"psysml:805f8ddd-ca4a-414c-92f1-ea459766cc23\" xlink:type=\"simple\"><rect fill=\"#FFFFFF\" filter=\"url(#f11j60i4zs53qi)\" height=\"167\" id=\"E12\" style=\"stroke: #A80036; stroke-width: 1.5;\" width=\"107\" x=\"188\" y=\"49\"/><rect fill=\"#FEFECE\" height=\"37.9375\" style=\"stroke: #A80036; stroke-width: 1.5;\" width=\"107\" x=\"188\" y=\"49\"/><text fill=\"#000000\" font-family=\"sans-serif\" font-size=\"12\" font-style=\"italic\" lengthAdjust=\"spacingAndGlyphs\" textLength=\"64\" x=\"209.5\" y=\"65.1387\">«part def»</text><text fill=\"#000000\" font-family=\"sans-serif\" font-size=\"12\" lengthAdjust=\"spacingAndGlyphs\" textLength=\"16\" x=\"233.5\" y=\"79.1074\">B1</text></a><!--MD5=[03104f77b71e2d8d3500c651e6e31181]\n",
       "cluster E13--><a href=\"psysml:072097f8-3b46-444f-b0fb-f8fd70c894a4\" target=\"_top\" title=\"psysml:072097f8-3b46-444f-b0fb-f8fd70c894a4\" xlink:actuate=\"onRequest\" xlink:href=\"psysml:072097f8-3b46-444f-b0fb-f8fd70c894a4\" xlink:show=\"new\" xlink:title=\"psysml:072097f8-3b46-444f-b0fb-f8fd70c894a4\" xlink:type=\"simple\"><rect fill=\"#FFFFFF\" filter=\"url(#f11j60i4zs53qi)\" height=\"86\" id=\"E13\" rx=\"10\" ry=\"10\" style=\"stroke: #A80036; stroke-width: 1.5;\" width=\"83\" x=\"200\" y=\"114\"/><rect fill=\"#FEFECE\" height=\"23.9688\" rx=\"10\" ry=\"10\" style=\"stroke: #FEFECE; stroke-width: 1.5;\" width=\"83\" x=\"200\" y=\"114\"/><rect fill=\"#FEFECE\" height=\"10\" style=\"stroke: #FEFECE; stroke-width: 1.5;\" width=\"83\" x=\"200\" y=\"127.9688\"/><rect fill=\"none\" height=\"86\" id=\"E13\" rx=\"10\" ry=\"10\" style=\"stroke: #A80036; stroke-width: 1.5;\" width=\"83\" x=\"200\" y=\"114\"/><text fill=\"#000000\" font-family=\"sans-serif\" font-size=\"12\" lengthAdjust=\"spacingAndGlyphs\" textLength=\"8\" x=\"237.5\" y=\"130.1387\">p</text><line style=\"stroke: #A80036; stroke-width: 1.0;\" x1=\"200\" x2=\"283\" y1=\"137.9688\" y2=\"137.9688\"/></a><!--MD5=[b4997ac47864f28c2f74865a473b2911]\n",
       "class E2--><a href=\"psysml:c663f064-4c04-4527-821b-19ee83969177\" target=\"_top\" title=\"psysml:c663f064-4c04-4527-821b-19ee83969177\" xlink:actuate=\"onRequest\" xlink:href=\"psysml:c663f064-4c04-4527-821b-19ee83969177\" xlink:show=\"new\" xlink:title=\"psysml:c663f064-4c04-4527-821b-19ee83969177\" xlink:type=\"simple\"><rect fill=\"#FEFECE\" filter=\"url(#f11j60i4zs53qi)\" height=\"53.9375\" id=\"E2\" style=\"stroke: #A80036; stroke-width: 1.5;\" width=\"140\" x=\"32\" y=\"87\"/><ellipse cx=\"47\" cy=\"105.9688\" fill=\"#ADD1B2\" rx=\"11\" ry=\"11\" style=\"stroke: #A80036; stroke-width: 1.0;\"/><path d=\"M49.9688,111.6094 Q49.3906,111.9063 48.75,112.0469 Q48.1094,112.2031 47.4063,112.2031 Q44.9063,112.2031 43.5781,110.5625 Q42.2656,108.9063 42.2656,105.7813 Q42.2656,102.6563 43.5781,101 Q44.9063,99.3438 47.4063,99.3438 Q48.1094,99.3438 48.75,99.5 Q49.4063,99.6563 49.9688,99.9531 L49.9688,102.6719 Q49.3438,102.0938 48.75,101.8281 Q48.1563,101.5469 47.5313,101.5469 Q46.1875,101.5469 45.5,102.625 Q44.8125,103.6875 44.8125,105.7813 Q44.8125,107.875 45.5,108.9531 Q46.1875,110.0156 47.5313,110.0156 Q48.1563,110.0156 48.75,109.75 Q49.3438,109.4688 49.9688,108.8906 L49.9688,111.6094 Z \"/><text fill=\"#000000\" font-family=\"sans-serif\" font-size=\"12\" font-style=\"italic\" lengthAdjust=\"spacingAndGlyphs\" textLength=\"112\" x=\"59\" y=\"103.1387\">«(T,blue)port def»</text><text fill=\"#000000\" font-family=\"sans-serif\" font-size=\"12\" lengthAdjust=\"spacingAndGlyphs\" textLength=\"8\" x=\"111\" y=\"117.1074\">P</text><line style=\"stroke: #A80036; stroke-width: 1.5;\" x1=\"33\" x2=\"171\" y1=\"124.9375\" y2=\"124.9375\"/><line style=\"stroke: #A80036; stroke-width: 1.5;\" x1=\"33\" x2=\"171\" y1=\"132.9375\" y2=\"132.9375\"/></a><text fill=\"#000000\" font-family=\"sans-serif\" font-size=\"14\" lengthAdjust=\"spacingAndGlyphs\" textLength=\"36\" x=\"645\" y=\"92.6982\">p1: P</text><rect fill=\"#A80036\" height=\"12\" style=\"stroke: #FEFECE; stroke-width: 1.5;\" width=\"12\" x=\"657\" y=\"108\"/><text fill=\"#000000\" font-family=\"sans-serif\" font-size=\"14\" lengthAdjust=\"spacingAndGlyphs\" textLength=\"48\" x=\"686\" y=\"92.6982\">p2: ~P</text><rect fill=\"#A80036\" height=\"12\" style=\"stroke: #FEFECE; stroke-width: 1.5;\" width=\"12\" x=\"704\" y=\"108\"/><text fill=\"#000000\" font-family=\"sans-serif\" font-size=\"14\" lengthAdjust=\"spacingAndGlyphs\" textLength=\"36\" x=\"491\" y=\"92.6982\">p1: P</text><rect fill=\"#A80036\" height=\"12\" style=\"stroke: #FEFECE; stroke-width: 1.5;\" width=\"12\" x=\"503\" y=\"108\"/><text fill=\"#000000\" font-family=\"sans-serif\" font-size=\"14\" lengthAdjust=\"spacingAndGlyphs\" textLength=\"48\" x=\"532\" y=\"92.6982\">p2: ~P</text><rect fill=\"#A80036\" height=\"12\" style=\"stroke: #FEFECE; stroke-width: 1.5;\" width=\"12\" x=\"550\" y=\"108\"/><text fill=\"#000000\" font-family=\"sans-serif\" font-size=\"14\" lengthAdjust=\"spacingAndGlyphs\" textLength=\"36\" x=\"322\" y=\"92.6982\">p1: P</text><rect fill=\"#A80036\" height=\"12\" style=\"stroke: #FEFECE; stroke-width: 1.5;\" width=\"12\" x=\"334\" y=\"108\"/><text fill=\"#000000\" font-family=\"sans-serif\" font-size=\"14\" lengthAdjust=\"spacingAndGlyphs\" textLength=\"48\" x=\"363\" y=\"92.6982\">p2: ~P</text><rect fill=\"#A80036\" height=\"12\" style=\"stroke: #FEFECE; stroke-width: 1.5;\" width=\"12\" x=\"381\" y=\"108\"/><text fill=\"#000000\" font-family=\"sans-serif\" font-size=\"14\" lengthAdjust=\"spacingAndGlyphs\" textLength=\"36\" x=\"200\" y=\"92.6982\">p1: P</text><rect fill=\"#A80036\" height=\"12\" style=\"stroke: #FEFECE; stroke-width: 1.5;\" width=\"12\" x=\"212\" y=\"108\"/><text fill=\"#000000\" font-family=\"sans-serif\" font-size=\"14\" lengthAdjust=\"spacingAndGlyphs\" textLength=\"48\" x=\"241\" y=\"92.6982\">p2: ~P</text><rect fill=\"#A80036\" height=\"12\" style=\"stroke: #FEFECE; stroke-width: 1.5;\" width=\"12\" x=\"259\" y=\"108\"/><!--MD5=[4ce51ac6fa4cf5202df3859e2718f033]\n",
       "link E15 to E14--><a href=\"psysml:d49afd8d-54fc-473a-b637-3cd599cd4fa7\" target=\"_top\" title=\"psysml:d49afd8d-54fc-473a-b637-3cd599cd4fa7\" xlink:actuate=\"onRequest\" xlink:href=\"psysml:d49afd8d-54fc-473a-b637-3cd599cd4fa7\" xlink:show=\"new\" xlink:title=\"psysml:d49afd8d-54fc-473a-b637-3cd599cd4fa7\" xlink:type=\"simple\"><path d=\"M258.95,114 C247.38,114 235.81,114 224.24,114 \" fill=\"none\" id=\"E15-E14\" style=\"stroke: #A80036; stroke-width: 3.0;\"/></a><!--MD5=[4ce51ac6fa4cf5202df3859e2718f033]\n",
       "link E15 to E14--><a href=\"psysml:158350c1-11e6-4f2f-a89e-7037efa93dae\" target=\"_top\" title=\"psysml:158350c1-11e6-4f2f-a89e-7037efa93dae\" xlink:actuate=\"onRequest\" xlink:href=\"psysml:158350c1-11e6-4f2f-a89e-7037efa93dae\" xlink:show=\"new\" xlink:title=\"psysml:158350c1-11e6-4f2f-a89e-7037efa93dae\" xlink:type=\"simple\"><path d=\"M258.95,111.98 C247.38,108.69 235.81,108.67 224.24,111.93 \" fill=\"none\" id=\"E15-E14-1\" style=\"stroke: #A80036; stroke-width: 3.0;\"/></a><!--MD5=[210a70af59857fa63abe995ee87fcdaa]\n",
       "@startuml\r\n",
       "skinparam ranksep 8\r\n",
       "skinparam rectangle {\r\n",
       " backgroundColor<<block>> LightGreen\r\n",
       "}\r\n",
       " \r\n",
       "package \"ConjugationTest\" as E1  [[psysml:34192d11-634f-45f2-bc4e-1f94e63724b0 ]]  {\r\n",
       "def \"P\" as E2  <<(T,blue)port def>> [[psysml:c663f064-4c04-4527-821b-19ee83969177 ]] \r\n",
       "rec def \"B\" as E3  <<(T,blue)part def>> [[psysml:e064966f-e96c-463a-b744-2c95fe6cd8a1 ]] {\r\n",
       "portin \"p1: P\" as E4  <<(T,blue)port>> [[psysml:b8e0261a-441d-41a6-aff3-1d450c4cde6f ]] \r\n",
       "portin \"p2: ~P\" as E5  <<(T,blue)port>> [[psysml:cbde5ba2-4051-45bc-9875-629a3f045392 ]] \r\n",
       "}\r\n",
       "rec def \"A\" as E6  <<(T,blue)connection def>> [[psysml:005e78a8-b799-41cc-8c3e-bd1642b3bc90 ]] {\r\n",
       "portin \"p1: P\" as E7  <<(T,blue)port>> [[psysml:55181707-d268-487e-aa99-75d3872aefbc ]] \r\n",
       "portin \"p2: ~P\" as E8  <<(T,blue)port>> [[psysml:0ddbc9c9-6f57-4a43-9fe9-35a450e63798 ]] \r\n",
       "}\r\n",
       "rec def \"I\" as E9  <<(T,blue)interface def>> [[psysml:21ca298b-43fb-4a5a-8828-d457e715a9a7 ]] {\r\n",
       "portin \"p1: P\" as E10  <<(T,blue)port>> [[psysml:4800d5e0-15fd-4b6f-b429-bddfb731ebe9 ]] \r\n",
       "portin \"p2: ~P\" as E11  <<(T,blue)port>> [[psysml:5bc48f79-cf8d-4956-b81e-e57ba2e7fb16 ]] \r\n",
       "}\r\n",
       "rec def \"B1\" as E12  <<(T,blue)part def>> [[psysml:805f8ddd-ca4a-414c-92f1-ea459766cc23 ]] {\r\n",
       "rec usage \"p\" as E13  [[psysml:072097f8-3b46-444f-b0fb-f8fd70c894a4 ]] {\r\n",
       "portin \"p1: P\" as E14  <<(T,blue)port>> [[psysml:17432448-deec-4082-b953-29eb581620b4 ]] \r\n",
       "portin \"p2: ~P\" as E15  <<(T,blue)port>> [[psysml:c01cfbc6-39be-4cca-af9b-913ba499d52d ]] \r\n",
       "}\r\n",
       "}\r\n",
       "E15 -[thickness=3]- E14 [[psysml:d49afd8d-54fc-473a-b637-3cd599cd4fa7 ]] \r\n",
       "E15 -[thickness=3]- E14 [[psysml:158350c1-11e6-4f2f-a89e-7037efa93dae ]] \r\n",
       "}\r\n",
       "@enduml\r\n",
       "\n",
       "PlantUML version 1.2020.13(Sat Jun 13 12:26:38 UTC 2020)\n",
       "(EPL source distribution)\n",
       "Java Runtime: OpenJDK Runtime Environment\n",
       "JVM: OpenJDK 64-Bit Server VM\n",
       "Default Encoding: UTF-8\n",
       "Language: en\n",
       "Country: null\n",
       "--></g></svg>"
      ]
     },
     "execution_count": 5,
     "metadata": {},
     "output_type": "execute_result"
    }
   ],
   "source": [
    "%viz --style=\"COMPTREE\" --view=\"Interconnection\" \"ConjugationTest\""
   ]
  },
  {
   "cell_type": "code",
   "execution_count": 6,
   "id": "solar-diameter",
   "metadata": {
    "execution": {
     "iopub.execute_input": "2021-03-25T15:03:50.711792Z",
     "iopub.status.busy": "2021-03-25T15:03:50.711324Z",
     "iopub.status.idle": "2021-03-25T15:03:50.719855Z",
     "shell.execute_reply": "2021-03-25T15:03:50.720345Z"
    }
   },
   "outputs": [
    {
     "data": {
      "image/svg+xml": [
       "<?xml version=\"1.0\" encoding=\"UTF-8\" standalone=\"no\"?><svg xmlns=\"http://www.w3.org/2000/svg\" xmlns:xlink=\"http://www.w3.org/1999/xlink\" contentScriptType=\"application/ecmascript\" contentStyleType=\"text/css\" height=\"12px\" preserveAspectRatio=\"none\" style=\"width:12px;height:12px;\" version=\"1.1\" viewBox=\"0 0 12 12\" width=\"12px\" zoomAndPan=\"magnify\"><defs/><g><!--MD5=[6a4cb978cab31700e1ce5529f947a75d]\n",
       "@startuml\r\n",
       "skinparam ranksep 8\r\n",
       " \r\n",
       "@enduml\r\n",
       "\n",
       "PlantUML version 1.2020.13(Sat Jun 13 12:26:38 UTC 2020)\n",
       "(EPL source distribution)\n",
       "Java Runtime: OpenJDK Runtime Environment\n",
       "JVM: OpenJDK 64-Bit Server VM\n",
       "Default Encoding: UTF-8\n",
       "Language: en\n",
       "Country: null\n",
       "--></g></svg>"
      ]
     },
     "execution_count": 6,
     "metadata": {},
     "output_type": "execute_result"
    }
   ],
   "source": [
    "%viz --style=\"COMPTREE\" --view=\"Action\" \"ConjugationTest\""
   ]
  },
  {
   "cell_type": "code",
   "execution_count": 7,
   "id": "killing-nowhere",
   "metadata": {
    "execution": {
     "iopub.execute_input": "2021-03-25T15:03:50.772271Z",
     "iopub.status.busy": "2021-03-25T15:03:50.771635Z",
     "iopub.status.idle": "2021-03-25T15:03:51.551308Z",
     "shell.execute_reply": "2021-03-25T15:03:51.550873Z"
    }
   },
   "outputs": [
    {
     "data": {
      "image/svg+xml": [
       "<?xml version=\"1.0\" encoding=\"UTF-8\" standalone=\"no\"?><svg xmlns=\"http://www.w3.org/2000/svg\" xmlns:xlink=\"http://www.w3.org/1999/xlink\" contentScriptType=\"application/ecmascript\" contentStyleType=\"text/css\" height=\"305px\" preserveAspectRatio=\"none\" style=\"width:744px;height:305px;\" version=\"1.1\" viewBox=\"0 0 744 305\" width=\"744px\" zoomAndPan=\"magnify\"><defs><filter height=\"300%\" id=\"f1u7qicxu3cj9u\" width=\"300%\" x=\"-1\" y=\"-1\"><feGaussianBlur result=\"blurOut\" stdDeviation=\"2.0\"/><feColorMatrix in=\"blurOut\" result=\"blurOut2\" type=\"matrix\" values=\"0 0 0 0 0 0 0 0 0 0 0 0 0 0 0 0 0 0 .4 0\"/><feOffset dx=\"4.0\" dy=\"4.0\" in=\"blurOut2\" result=\"blurOut3\"/><feBlend in=\"SourceGraphic\" in2=\"blurOut3\" mode=\"normal\"/></filter></defs><g><!--MD5=[fbc87193dbaf4d95561dea2c320d4a47]\n",
       "cluster E1--><a href=\"psysml:34192d11-634f-45f2-bc4e-1f94e63724b0\" target=\"_top\" title=\"psysml:34192d11-634f-45f2-bc4e-1f94e63724b0\" xlink:actuate=\"onRequest\" xlink:href=\"psysml:34192d11-634f-45f2-bc4e-1f94e63724b0\" xlink:show=\"new\" xlink:title=\"psysml:34192d11-634f-45f2-bc4e-1f94e63724b0\" xlink:type=\"simple\"><polygon fill=\"#FFFFFF\" filter=\"url(#f1u7qicxu3cj9u)\" points=\"16,6,151,6,158,28.2969,722,28.2969,722,293,16,293,16,6\" style=\"stroke: #000000; stroke-width: 1.5;\"/><line style=\"stroke: #000000; stroke-width: 1.5;\" x1=\"16\" x2=\"158\" y1=\"28.2969\" y2=\"28.2969\"/><text fill=\"#000000\" font-family=\"sans-serif\" font-size=\"14\" font-weight=\"bold\" lengthAdjust=\"spacingAndGlyphs\" textLength=\"129\" x=\"20\" y=\"20.9951\">ConjugationTest</text></a><!--MD5=[b4997ac47864f28c2f74865a473b2911]\n",
       "class E2--><a href=\"psysml:c663f064-4c04-4527-821b-19ee83969177\" target=\"_top\" title=\"psysml:c663f064-4c04-4527-821b-19ee83969177\" xlink:actuate=\"onRequest\" xlink:href=\"psysml:c663f064-4c04-4527-821b-19ee83969177\" xlink:show=\"new\" xlink:title=\"psysml:c663f064-4c04-4527-821b-19ee83969177\" xlink:type=\"simple\"><rect fill=\"#FEFECE\" filter=\"url(#f1u7qicxu3cj9u)\" height=\"45.9375\" id=\"E2\" style=\"stroke: #A80036; stroke-width: 1.5;\" width=\"92\" x=\"614\" y=\"62\"/><ellipse cx=\"629\" cy=\"80.9688\" fill=\"#0000FF\" rx=\"11\" ry=\"11\" style=\"stroke: #A80036; stroke-width: 1.0;\"/><path d=\"M629.8438,87.7188 L627.3906,87.7188 L627.3906,77.4688 L624.25,77.4688 L624.25,75.3281 L632.9844,75.3281 L632.9844,77.4688 L629.8438,77.4688 L629.8438,87.7188 Z \"/><text fill=\"#000000\" font-family=\"sans-serif\" font-size=\"12\" font-style=\"italic\" lengthAdjust=\"spacingAndGlyphs\" textLength=\"64\" x=\"641\" y=\"78.1387\">«port def»</text><text fill=\"#000000\" font-family=\"sans-serif\" font-size=\"12\" lengthAdjust=\"spacingAndGlyphs\" textLength=\"8\" x=\"669\" y=\"92.1074\">P</text><line style=\"stroke: #A80036; stroke-width: 1.5;\" x1=\"615\" x2=\"705\" y1=\"99.9375\" y2=\"99.9375\"/></a><!--MD5=[09b614a08d8cba4a07c9adeb5e0fee81]\n",
       "class E3--><a href=\"psysml:e064966f-e96c-463a-b744-2c95fe6cd8a1\" target=\"_top\" title=\"psysml:e064966f-e96c-463a-b744-2c95fe6cd8a1\" xlink:actuate=\"onRequest\" xlink:href=\"psysml:e064966f-e96c-463a-b744-2c95fe6cd8a1\" xlink:show=\"new\" xlink:title=\"psysml:e064966f-e96c-463a-b744-2c95fe6cd8a1\" xlink:type=\"simple\"><rect fill=\"#FEFECE\" filter=\"url(#f1u7qicxu3cj9u)\" height=\"88.3516\" id=\"E3\" style=\"stroke: #A80036; stroke-width: 1.5;\" width=\"92\" x=\"487\" y=\"41\"/><ellipse cx=\"502\" cy=\"59.9688\" fill=\"#0000FF\" rx=\"11\" ry=\"11\" style=\"stroke: #A80036; stroke-width: 1.0;\"/><path d=\"M502.8438,66.7188 L500.3906,66.7188 L500.3906,56.4688 L497.25,56.4688 L497.25,54.3281 L505.9844,54.3281 L505.9844,56.4688 L502.8438,56.4688 L502.8438,66.7188 Z \"/><text fill=\"#000000\" font-family=\"sans-serif\" font-size=\"12\" font-style=\"italic\" lengthAdjust=\"spacingAndGlyphs\" textLength=\"64\" x=\"514\" y=\"57.1387\">«part def»</text><text fill=\"#000000\" font-family=\"sans-serif\" font-size=\"12\" lengthAdjust=\"spacingAndGlyphs\" textLength=\"8\" x=\"542\" y=\"71.1074\">B</text><line style=\"stroke: #A80036; stroke-width: 1.5;\" x1=\"488\" x2=\"578\" y1=\"78.9375\" y2=\"78.9375\"/><text fill=\"#000000\" font-family=\"sans-serif\" font-size=\"11\" lengthAdjust=\"spacingAndGlyphs\" textLength=\"29\" x=\"493\" y=\"109.9526\">p1: P</text><text fill=\"#000000\" font-family=\"sans-serif\" font-size=\"11\" lengthAdjust=\"spacingAndGlyphs\" textLength=\"38\" x=\"493\" y=\"122.7573\">p2: ~P</text><line style=\"stroke: #A80036; stroke-width: 1.0;\" x1=\"488\" x2=\"518\" y1=\"93.3398\" y2=\"93.3398\"/><text fill=\"#000000\" font-family=\"sans-serif\" font-size=\"11\" lengthAdjust=\"spacingAndGlyphs\" textLength=\"30\" x=\"518\" y=\"96.6479\">ports</text><line style=\"stroke: #A80036; stroke-width: 1.0;\" x1=\"548\" x2=\"578\" y1=\"93.3398\" y2=\"93.3398\"/></a><!--MD5=[ebbe1d658d1005bcc118a6aa81145e00]\n",
       "class E4--><a href=\"psysml:005e78a8-b799-41cc-8c3e-bd1642b3bc90\" target=\"_top\" title=\"psysml:005e78a8-b799-41cc-8c3e-bd1642b3bc90\" xlink:actuate=\"onRequest\" xlink:href=\"psysml:005e78a8-b799-41cc-8c3e-bd1642b3bc90\" xlink:show=\"new\" xlink:title=\"psysml:005e78a8-b799-41cc-8c3e-bd1642b3bc90\" xlink:type=\"simple\"><rect fill=\"#FEFECE\" filter=\"url(#f1u7qicxu3cj9u)\" height=\"88.3516\" id=\"E4\" style=\"stroke: #A80036; stroke-width: 1.5;\" width=\"136\" x=\"316\" y=\"41\"/><ellipse cx=\"331\" cy=\"59.9688\" fill=\"#0000FF\" rx=\"11\" ry=\"11\" style=\"stroke: #A80036; stroke-width: 1.0;\"/><path d=\"M331.8438,66.7188 L329.3906,66.7188 L329.3906,56.4688 L326.25,56.4688 L326.25,54.3281 L334.9844,54.3281 L334.9844,56.4688 L331.8438,56.4688 L331.8438,66.7188 Z \"/><text fill=\"#000000\" font-family=\"sans-serif\" font-size=\"12\" font-style=\"italic\" lengthAdjust=\"spacingAndGlyphs\" textLength=\"108\" x=\"343\" y=\"57.1387\">«connection def»</text><text fill=\"#000000\" font-family=\"sans-serif\" font-size=\"12\" lengthAdjust=\"spacingAndGlyphs\" textLength=\"8\" x=\"393\" y=\"71.1074\">A</text><line style=\"stroke: #A80036; stroke-width: 1.5;\" x1=\"317\" x2=\"451\" y1=\"78.9375\" y2=\"78.9375\"/><text fill=\"#000000\" font-family=\"sans-serif\" font-size=\"11\" lengthAdjust=\"spacingAndGlyphs\" textLength=\"29\" x=\"322\" y=\"109.9526\">p1: P</text><text fill=\"#000000\" font-family=\"sans-serif\" font-size=\"11\" lengthAdjust=\"spacingAndGlyphs\" textLength=\"38\" x=\"322\" y=\"122.7573\">p2: ~P</text><line style=\"stroke: #A80036; stroke-width: 1.0;\" x1=\"317\" x2=\"369\" y1=\"93.3398\" y2=\"93.3398\"/><text fill=\"#000000\" font-family=\"sans-serif\" font-size=\"11\" lengthAdjust=\"spacingAndGlyphs\" textLength=\"30\" x=\"369\" y=\"96.6479\">ports</text><line style=\"stroke: #A80036; stroke-width: 1.0;\" x1=\"399\" x2=\"451\" y1=\"93.3398\" y2=\"93.3398\"/></a><!--MD5=[270fce915f116d4de14055a7c1d9a0f3]\n",
       "class E5--><a href=\"psysml:21ca298b-43fb-4a5a-8828-d457e715a9a7\" target=\"_top\" title=\"psysml:21ca298b-43fb-4a5a-8828-d457e715a9a7\" xlink:actuate=\"onRequest\" xlink:href=\"psysml:21ca298b-43fb-4a5a-8828-d457e715a9a7\" xlink:show=\"new\" xlink:title=\"psysml:21ca298b-43fb-4a5a-8828-d457e715a9a7\" xlink:type=\"simple\"><rect fill=\"#FEFECE\" filter=\"url(#f1u7qicxu3cj9u)\" height=\"88.3516\" id=\"E5\" style=\"stroke: #A80036; stroke-width: 1.5;\" width=\"122\" x=\"159\" y=\"41\"/><ellipse cx=\"174\" cy=\"59.9688\" fill=\"#0000FF\" rx=\"11\" ry=\"11\" style=\"stroke: #A80036; stroke-width: 1.0;\"/><path d=\"M174.8438,66.7188 L172.3906,66.7188 L172.3906,56.4688 L169.25,56.4688 L169.25,54.3281 L177.9844,54.3281 L177.9844,56.4688 L174.8438,56.4688 L174.8438,66.7188 Z \"/><text fill=\"#000000\" font-family=\"sans-serif\" font-size=\"12\" font-style=\"italic\" lengthAdjust=\"spacingAndGlyphs\" textLength=\"94\" x=\"186\" y=\"57.1387\">«interface def»</text><text fill=\"#000000\" font-family=\"sans-serif\" font-size=\"12\" lengthAdjust=\"spacingAndGlyphs\" textLength=\"3\" x=\"231.5\" y=\"71.1074\">I</text><line style=\"stroke: #A80036; stroke-width: 1.5;\" x1=\"160\" x2=\"280\" y1=\"78.9375\" y2=\"78.9375\"/><text fill=\"#000000\" font-family=\"sans-serif\" font-size=\"11\" lengthAdjust=\"spacingAndGlyphs\" textLength=\"29\" x=\"165\" y=\"109.9526\">p1: P</text><text fill=\"#000000\" font-family=\"sans-serif\" font-size=\"11\" lengthAdjust=\"spacingAndGlyphs\" textLength=\"38\" x=\"165\" y=\"122.7573\">p2: ~P</text><line style=\"stroke: #A80036; stroke-width: 1.0;\" x1=\"160\" x2=\"205\" y1=\"93.3398\" y2=\"93.3398\"/><text fill=\"#000000\" font-family=\"sans-serif\" font-size=\"11\" lengthAdjust=\"spacingAndGlyphs\" textLength=\"30\" x=\"205\" y=\"96.6479\">ports</text><line style=\"stroke: #A80036; stroke-width: 1.0;\" x1=\"235\" x2=\"280\" y1=\"93.3398\" y2=\"93.3398\"/></a><!--MD5=[60a26617385b1d2d0262a64233df1f8d]\n",
       "class E6--><a href=\"psysml:805f8ddd-ca4a-414c-92f1-ea459766cc23\" target=\"_top\" title=\"psysml:805f8ddd-ca4a-414c-92f1-ea459766cc23\" xlink:actuate=\"onRequest\" xlink:href=\"psysml:805f8ddd-ca4a-414c-92f1-ea459766cc23\" xlink:show=\"new\" xlink:title=\"psysml:805f8ddd-ca4a-414c-92f1-ea459766cc23\" xlink:type=\"simple\"><rect fill=\"#FEFECE\" filter=\"url(#f1u7qicxu3cj9u)\" height=\"45.9375\" id=\"E6\" style=\"stroke: #A80036; stroke-width: 1.5;\" width=\"92\" x=\"32\" y=\"62\"/><ellipse cx=\"47\" cy=\"80.9688\" fill=\"#0000FF\" rx=\"11\" ry=\"11\" style=\"stroke: #A80036; stroke-width: 1.0;\"/><path d=\"M47.8438,87.7188 L45.3906,87.7188 L45.3906,77.4688 L42.25,77.4688 L42.25,75.3281 L50.9844,75.3281 L50.9844,77.4688 L47.8438,77.4688 L47.8438,87.7188 Z \"/><text fill=\"#000000\" font-family=\"sans-serif\" font-size=\"12\" font-style=\"italic\" lengthAdjust=\"spacingAndGlyphs\" textLength=\"64\" x=\"59\" y=\"78.1387\">«part def»</text><text fill=\"#000000\" font-family=\"sans-serif\" font-size=\"12\" lengthAdjust=\"spacingAndGlyphs\" textLength=\"16\" x=\"83\" y=\"92.1074\">B1</text><line style=\"stroke: #A80036; stroke-width: 1.5;\" x1=\"33\" x2=\"123\" y1=\"99.9375\" y2=\"99.9375\"/></a><!--MD5=[2156ba9850f5573cc1fc38a6a4b2f02b]\n",
       "class E7--><a href=\"psysml:072097f8-3b46-444f-b0fb-f8fd70c894a4\" target=\"_top\" title=\"psysml:072097f8-3b46-444f-b0fb-f8fd70c894a4\" xlink:actuate=\"onRequest\" xlink:href=\"psysml:072097f8-3b46-444f-b0fb-f8fd70c894a4\" xlink:show=\"new\" xlink:title=\"psysml:072097f8-3b46-444f-b0fb-f8fd70c894a4\" xlink:type=\"simple\"><rect fill=\"#FEFECE\" filter=\"url(#f1u7qicxu3cj9u)\" height=\"88.3516\" id=\"E7\" rx=\"10\" ry=\"10\" style=\"stroke: #A80036; stroke-width: 1.5;\" width=\"68\" x=\"44\" y=\"189\"/><ellipse cx=\"59\" cy=\"207.9688\" fill=\"#0000FF\" rx=\"11\" ry=\"11\" style=\"stroke: #A80036; stroke-width: 1.0;\"/><path d=\"M59.8438,214.7188 L57.3906,214.7188 L57.3906,204.4688 L54.25,204.4688 L54.25,202.3281 L62.9844,202.3281 L62.9844,204.4688 L59.8438,204.4688 L59.8438,214.7188 Z \"/><text fill=\"#000000\" font-family=\"sans-serif\" font-size=\"12\" font-style=\"italic\" lengthAdjust=\"spacingAndGlyphs\" textLength=\"40\" x=\"71\" y=\"205.1387\">«part»</text><text fill=\"#000000\" font-family=\"sans-serif\" font-size=\"12\" lengthAdjust=\"spacingAndGlyphs\" textLength=\"8\" x=\"87\" y=\"219.1074\">p</text><line style=\"stroke: #A80036; stroke-width: 1.5;\" x1=\"45\" x2=\"111\" y1=\"226.9375\" y2=\"226.9375\"/><text fill=\"#000000\" font-family=\"sans-serif\" font-size=\"11\" lengthAdjust=\"spacingAndGlyphs\" textLength=\"29\" x=\"50\" y=\"257.9526\">p1: P</text><text fill=\"#000000\" font-family=\"sans-serif\" font-size=\"11\" lengthAdjust=\"spacingAndGlyphs\" textLength=\"38\" x=\"50\" y=\"270.7573\">p2: ~P</text><line style=\"stroke: #A80036; stroke-width: 1.0;\" x1=\"45\" x2=\"63\" y1=\"241.3398\" y2=\"241.3398\"/><text fill=\"#000000\" font-family=\"sans-serif\" font-size=\"11\" lengthAdjust=\"spacingAndGlyphs\" textLength=\"30\" x=\"63\" y=\"244.6479\">ports</text><line style=\"stroke: #A80036; stroke-width: 1.0;\" x1=\"93\" x2=\"111\" y1=\"241.3398\" y2=\"241.3398\"/></a><!--MD5=[3f50a3473f1dfb74d3f76443e03635af]\n",
       "reverse link E6 to E7--><a href=\"psysml:072097f8-3b46-444f-b0fb-f8fd70c894a4\" target=\"_top\" title=\"psysml:072097f8-3b46-444f-b0fb-f8fd70c894a4\" xlink:actuate=\"onRequest\" xlink:href=\"psysml:072097f8-3b46-444f-b0fb-f8fd70c894a4\" xlink:show=\"new\" xlink:title=\"psysml:072097f8-3b46-444f-b0fb-f8fd70c894a4\" xlink:type=\"simple\"><path d=\"M78,121.25 C78,141.54 78,167.2 78,188.71 \" fill=\"none\" id=\"E6&lt;-E7\" style=\"stroke: #A80036; stroke-width: 1.0;\"/><polygon fill=\"#A80036\" points=\"78,108.17,74,114.17,78,120.17,82,114.17,78,108.17\" style=\"stroke: #A80036; stroke-width: 1.0;\"/></a><!--MD5=[b1311192bb21bf6591ee05112dbdeb79]\n",
       "@startuml\r\n",
       " \r\n",
       "package \"ConjugationTest\" as E1  [[psysml:34192d11-634f-45f2-bc4e-1f94e63724b0 ]]  {\r\n",
       "comp def \"P\" as E2  <<(T,blue)port def>> [[psysml:c663f064-4c04-4527-821b-19ee83969177 ]] {\r\n",
       "}\r\n",
       "comp def \"B\" as E3  <<(T,blue)part def>> [[psysml:e064966f-e96c-463a-b744-2c95fe6cd8a1 ]] {\r\n",
       "- - ports - -\r\n",
       "p1: P\r\n",
       "p2: ~P\r\n",
       "}\r\n",
       "comp def \"A\" as E4  <<(T,blue)connection def>> [[psysml:005e78a8-b799-41cc-8c3e-bd1642b3bc90 ]] {\r\n",
       "- - ports - -\r\n",
       "p1: P\r\n",
       "p2: ~P\r\n",
       "}\r\n",
       "comp def \"I\" as E5  <<(T,blue)interface def>> [[psysml:21ca298b-43fb-4a5a-8828-d457e715a9a7 ]] {\r\n",
       "- - ports - -\r\n",
       "p1: P\r\n",
       "p2: ~P\r\n",
       "}\r\n",
       "comp def \"B1\" as E6  <<(T,blue)part def>> [[psysml:805f8ddd-ca4a-414c-92f1-ea459766cc23 ]] {\r\n",
       "}\r\n",
       "comp usage \"p\" as E7  <<(T,blue)part>> [[psysml:072097f8-3b46-444f-b0fb-f8fd70c894a4 ]] {\r\n",
       "- - ports - -\r\n",
       "p1: P\r\n",
       "p2: ~P\r\n",
       "}\r\n",
       "E6 *- - E7 [[psysml:072097f8-3b46-444f-b0fb-f8fd70c894a4 ]] \r\n",
       "}\r\n",
       "@enduml\r\n",
       "\n",
       "PlantUML version 1.2020.13(Sat Jun 13 12:26:38 UTC 2020)\n",
       "(EPL source distribution)\n",
       "Java Runtime: OpenJDK Runtime Environment\n",
       "JVM: OpenJDK 64-Bit Server VM\n",
       "Default Encoding: UTF-8\n",
       "Language: en\n",
       "Country: null\n",
       "--></g></svg>"
      ]
     },
     "execution_count": 7,
     "metadata": {},
     "output_type": "execute_result"
    }
   ],
   "source": [
    "%viz --style=\"COMPTREE\" --view=\"Sequence\" \"ConjugationTest\""
   ]
  },
  {
   "cell_type": "code",
   "execution_count": 8,
   "id": "opened-juice",
   "metadata": {
    "execution": {
     "iopub.execute_input": "2021-03-25T15:03:51.602476Z",
     "iopub.status.busy": "2021-03-25T15:03:51.601467Z",
     "iopub.status.idle": "2021-03-25T15:03:52.350595Z",
     "shell.execute_reply": "2021-03-25T15:03:52.348859Z"
    }
   },
   "outputs": [
    {
     "data": {
      "image/svg+xml": [
       "<?xml version=\"1.0\" encoding=\"UTF-8\" standalone=\"no\"?><svg xmlns=\"http://www.w3.org/2000/svg\" xmlns:xlink=\"http://www.w3.org/1999/xlink\" contentScriptType=\"application/ecmascript\" contentStyleType=\"text/css\" height=\"305px\" preserveAspectRatio=\"none\" style=\"width:744px;height:305px;\" version=\"1.1\" viewBox=\"0 0 744 305\" width=\"744px\" zoomAndPan=\"magnify\"><defs><filter height=\"300%\" id=\"f1u7qicxu3cj9u\" width=\"300%\" x=\"-1\" y=\"-1\"><feGaussianBlur result=\"blurOut\" stdDeviation=\"2.0\"/><feColorMatrix in=\"blurOut\" result=\"blurOut2\" type=\"matrix\" values=\"0 0 0 0 0 0 0 0 0 0 0 0 0 0 0 0 0 0 .4 0\"/><feOffset dx=\"4.0\" dy=\"4.0\" in=\"blurOut2\" result=\"blurOut3\"/><feBlend in=\"SourceGraphic\" in2=\"blurOut3\" mode=\"normal\"/></filter></defs><g><!--MD5=[fbc87193dbaf4d95561dea2c320d4a47]\n",
       "cluster E1--><a href=\"psysml:34192d11-634f-45f2-bc4e-1f94e63724b0\" target=\"_top\" title=\"psysml:34192d11-634f-45f2-bc4e-1f94e63724b0\" xlink:actuate=\"onRequest\" xlink:href=\"psysml:34192d11-634f-45f2-bc4e-1f94e63724b0\" xlink:show=\"new\" xlink:title=\"psysml:34192d11-634f-45f2-bc4e-1f94e63724b0\" xlink:type=\"simple\"><polygon fill=\"#FFFFFF\" filter=\"url(#f1u7qicxu3cj9u)\" points=\"16,6,151,6,158,28.2969,722,28.2969,722,293,16,293,16,6\" style=\"stroke: #000000; stroke-width: 1.5;\"/><line style=\"stroke: #000000; stroke-width: 1.5;\" x1=\"16\" x2=\"158\" y1=\"28.2969\" y2=\"28.2969\"/><text fill=\"#000000\" font-family=\"sans-serif\" font-size=\"14\" font-weight=\"bold\" lengthAdjust=\"spacingAndGlyphs\" textLength=\"129\" x=\"20\" y=\"20.9951\">ConjugationTest</text></a><!--MD5=[b4997ac47864f28c2f74865a473b2911]\n",
       "class E2--><a href=\"psysml:c663f064-4c04-4527-821b-19ee83969177\" target=\"_top\" title=\"psysml:c663f064-4c04-4527-821b-19ee83969177\" xlink:actuate=\"onRequest\" xlink:href=\"psysml:c663f064-4c04-4527-821b-19ee83969177\" xlink:show=\"new\" xlink:title=\"psysml:c663f064-4c04-4527-821b-19ee83969177\" xlink:type=\"simple\"><rect fill=\"#FEFECE\" filter=\"url(#f1u7qicxu3cj9u)\" height=\"45.9375\" id=\"E2\" style=\"stroke: #A80036; stroke-width: 1.5;\" width=\"92\" x=\"614\" y=\"62\"/><ellipse cx=\"629\" cy=\"80.9688\" fill=\"#0000FF\" rx=\"11\" ry=\"11\" style=\"stroke: #A80036; stroke-width: 1.0;\"/><path d=\"M629.8438,87.7188 L627.3906,87.7188 L627.3906,77.4688 L624.25,77.4688 L624.25,75.3281 L632.9844,75.3281 L632.9844,77.4688 L629.8438,77.4688 L629.8438,87.7188 Z \"/><text fill=\"#000000\" font-family=\"sans-serif\" font-size=\"12\" font-style=\"italic\" lengthAdjust=\"spacingAndGlyphs\" textLength=\"64\" x=\"641\" y=\"78.1387\">«port def»</text><text fill=\"#000000\" font-family=\"sans-serif\" font-size=\"12\" lengthAdjust=\"spacingAndGlyphs\" textLength=\"8\" x=\"669\" y=\"92.1074\">P</text><line style=\"stroke: #A80036; stroke-width: 1.5;\" x1=\"615\" x2=\"705\" y1=\"99.9375\" y2=\"99.9375\"/></a><!--MD5=[09b614a08d8cba4a07c9adeb5e0fee81]\n",
       "class E3--><a href=\"psysml:e064966f-e96c-463a-b744-2c95fe6cd8a1\" target=\"_top\" title=\"psysml:e064966f-e96c-463a-b744-2c95fe6cd8a1\" xlink:actuate=\"onRequest\" xlink:href=\"psysml:e064966f-e96c-463a-b744-2c95fe6cd8a1\" xlink:show=\"new\" xlink:title=\"psysml:e064966f-e96c-463a-b744-2c95fe6cd8a1\" xlink:type=\"simple\"><rect fill=\"#FEFECE\" filter=\"url(#f1u7qicxu3cj9u)\" height=\"88.3516\" id=\"E3\" style=\"stroke: #A80036; stroke-width: 1.5;\" width=\"92\" x=\"487\" y=\"41\"/><ellipse cx=\"502\" cy=\"59.9688\" fill=\"#0000FF\" rx=\"11\" ry=\"11\" style=\"stroke: #A80036; stroke-width: 1.0;\"/><path d=\"M502.8438,66.7188 L500.3906,66.7188 L500.3906,56.4688 L497.25,56.4688 L497.25,54.3281 L505.9844,54.3281 L505.9844,56.4688 L502.8438,56.4688 L502.8438,66.7188 Z \"/><text fill=\"#000000\" font-family=\"sans-serif\" font-size=\"12\" font-style=\"italic\" lengthAdjust=\"spacingAndGlyphs\" textLength=\"64\" x=\"514\" y=\"57.1387\">«part def»</text><text fill=\"#000000\" font-family=\"sans-serif\" font-size=\"12\" lengthAdjust=\"spacingAndGlyphs\" textLength=\"8\" x=\"542\" y=\"71.1074\">B</text><line style=\"stroke: #A80036; stroke-width: 1.5;\" x1=\"488\" x2=\"578\" y1=\"78.9375\" y2=\"78.9375\"/><text fill=\"#000000\" font-family=\"sans-serif\" font-size=\"11\" lengthAdjust=\"spacingAndGlyphs\" textLength=\"29\" x=\"493\" y=\"109.9526\">p1: P</text><text fill=\"#000000\" font-family=\"sans-serif\" font-size=\"11\" lengthAdjust=\"spacingAndGlyphs\" textLength=\"38\" x=\"493\" y=\"122.7573\">p2: ~P</text><line style=\"stroke: #A80036; stroke-width: 1.0;\" x1=\"488\" x2=\"518\" y1=\"93.3398\" y2=\"93.3398\"/><text fill=\"#000000\" font-family=\"sans-serif\" font-size=\"11\" lengthAdjust=\"spacingAndGlyphs\" textLength=\"30\" x=\"518\" y=\"96.6479\">ports</text><line style=\"stroke: #A80036; stroke-width: 1.0;\" x1=\"548\" x2=\"578\" y1=\"93.3398\" y2=\"93.3398\"/></a><!--MD5=[ebbe1d658d1005bcc118a6aa81145e00]\n",
       "class E4--><a href=\"psysml:005e78a8-b799-41cc-8c3e-bd1642b3bc90\" target=\"_top\" title=\"psysml:005e78a8-b799-41cc-8c3e-bd1642b3bc90\" xlink:actuate=\"onRequest\" xlink:href=\"psysml:005e78a8-b799-41cc-8c3e-bd1642b3bc90\" xlink:show=\"new\" xlink:title=\"psysml:005e78a8-b799-41cc-8c3e-bd1642b3bc90\" xlink:type=\"simple\"><rect fill=\"#FEFECE\" filter=\"url(#f1u7qicxu3cj9u)\" height=\"88.3516\" id=\"E4\" style=\"stroke: #A80036; stroke-width: 1.5;\" width=\"136\" x=\"316\" y=\"41\"/><ellipse cx=\"331\" cy=\"59.9688\" fill=\"#0000FF\" rx=\"11\" ry=\"11\" style=\"stroke: #A80036; stroke-width: 1.0;\"/><path d=\"M331.8438,66.7188 L329.3906,66.7188 L329.3906,56.4688 L326.25,56.4688 L326.25,54.3281 L334.9844,54.3281 L334.9844,56.4688 L331.8438,56.4688 L331.8438,66.7188 Z \"/><text fill=\"#000000\" font-family=\"sans-serif\" font-size=\"12\" font-style=\"italic\" lengthAdjust=\"spacingAndGlyphs\" textLength=\"108\" x=\"343\" y=\"57.1387\">«connection def»</text><text fill=\"#000000\" font-family=\"sans-serif\" font-size=\"12\" lengthAdjust=\"spacingAndGlyphs\" textLength=\"8\" x=\"393\" y=\"71.1074\">A</text><line style=\"stroke: #A80036; stroke-width: 1.5;\" x1=\"317\" x2=\"451\" y1=\"78.9375\" y2=\"78.9375\"/><text fill=\"#000000\" font-family=\"sans-serif\" font-size=\"11\" lengthAdjust=\"spacingAndGlyphs\" textLength=\"29\" x=\"322\" y=\"109.9526\">p1: P</text><text fill=\"#000000\" font-family=\"sans-serif\" font-size=\"11\" lengthAdjust=\"spacingAndGlyphs\" textLength=\"38\" x=\"322\" y=\"122.7573\">p2: ~P</text><line style=\"stroke: #A80036; stroke-width: 1.0;\" x1=\"317\" x2=\"369\" y1=\"93.3398\" y2=\"93.3398\"/><text fill=\"#000000\" font-family=\"sans-serif\" font-size=\"11\" lengthAdjust=\"spacingAndGlyphs\" textLength=\"30\" x=\"369\" y=\"96.6479\">ports</text><line style=\"stroke: #A80036; stroke-width: 1.0;\" x1=\"399\" x2=\"451\" y1=\"93.3398\" y2=\"93.3398\"/></a><!--MD5=[270fce915f116d4de14055a7c1d9a0f3]\n",
       "class E5--><a href=\"psysml:21ca298b-43fb-4a5a-8828-d457e715a9a7\" target=\"_top\" title=\"psysml:21ca298b-43fb-4a5a-8828-d457e715a9a7\" xlink:actuate=\"onRequest\" xlink:href=\"psysml:21ca298b-43fb-4a5a-8828-d457e715a9a7\" xlink:show=\"new\" xlink:title=\"psysml:21ca298b-43fb-4a5a-8828-d457e715a9a7\" xlink:type=\"simple\"><rect fill=\"#FEFECE\" filter=\"url(#f1u7qicxu3cj9u)\" height=\"88.3516\" id=\"E5\" style=\"stroke: #A80036; stroke-width: 1.5;\" width=\"122\" x=\"159\" y=\"41\"/><ellipse cx=\"174\" cy=\"59.9688\" fill=\"#0000FF\" rx=\"11\" ry=\"11\" style=\"stroke: #A80036; stroke-width: 1.0;\"/><path d=\"M174.8438,66.7188 L172.3906,66.7188 L172.3906,56.4688 L169.25,56.4688 L169.25,54.3281 L177.9844,54.3281 L177.9844,56.4688 L174.8438,56.4688 L174.8438,66.7188 Z \"/><text fill=\"#000000\" font-family=\"sans-serif\" font-size=\"12\" font-style=\"italic\" lengthAdjust=\"spacingAndGlyphs\" textLength=\"94\" x=\"186\" y=\"57.1387\">«interface def»</text><text fill=\"#000000\" font-family=\"sans-serif\" font-size=\"12\" lengthAdjust=\"spacingAndGlyphs\" textLength=\"3\" x=\"231.5\" y=\"71.1074\">I</text><line style=\"stroke: #A80036; stroke-width: 1.5;\" x1=\"160\" x2=\"280\" y1=\"78.9375\" y2=\"78.9375\"/><text fill=\"#000000\" font-family=\"sans-serif\" font-size=\"11\" lengthAdjust=\"spacingAndGlyphs\" textLength=\"29\" x=\"165\" y=\"109.9526\">p1: P</text><text fill=\"#000000\" font-family=\"sans-serif\" font-size=\"11\" lengthAdjust=\"spacingAndGlyphs\" textLength=\"38\" x=\"165\" y=\"122.7573\">p2: ~P</text><line style=\"stroke: #A80036; stroke-width: 1.0;\" x1=\"160\" x2=\"205\" y1=\"93.3398\" y2=\"93.3398\"/><text fill=\"#000000\" font-family=\"sans-serif\" font-size=\"11\" lengthAdjust=\"spacingAndGlyphs\" textLength=\"30\" x=\"205\" y=\"96.6479\">ports</text><line style=\"stroke: #A80036; stroke-width: 1.0;\" x1=\"235\" x2=\"280\" y1=\"93.3398\" y2=\"93.3398\"/></a><!--MD5=[60a26617385b1d2d0262a64233df1f8d]\n",
       "class E6--><a href=\"psysml:805f8ddd-ca4a-414c-92f1-ea459766cc23\" target=\"_top\" title=\"psysml:805f8ddd-ca4a-414c-92f1-ea459766cc23\" xlink:actuate=\"onRequest\" xlink:href=\"psysml:805f8ddd-ca4a-414c-92f1-ea459766cc23\" xlink:show=\"new\" xlink:title=\"psysml:805f8ddd-ca4a-414c-92f1-ea459766cc23\" xlink:type=\"simple\"><rect fill=\"#FEFECE\" filter=\"url(#f1u7qicxu3cj9u)\" height=\"45.9375\" id=\"E6\" style=\"stroke: #A80036; stroke-width: 1.5;\" width=\"92\" x=\"32\" y=\"62\"/><ellipse cx=\"47\" cy=\"80.9688\" fill=\"#0000FF\" rx=\"11\" ry=\"11\" style=\"stroke: #A80036; stroke-width: 1.0;\"/><path d=\"M47.8438,87.7188 L45.3906,87.7188 L45.3906,77.4688 L42.25,77.4688 L42.25,75.3281 L50.9844,75.3281 L50.9844,77.4688 L47.8438,77.4688 L47.8438,87.7188 Z \"/><text fill=\"#000000\" font-family=\"sans-serif\" font-size=\"12\" font-style=\"italic\" lengthAdjust=\"spacingAndGlyphs\" textLength=\"64\" x=\"59\" y=\"78.1387\">«part def»</text><text fill=\"#000000\" font-family=\"sans-serif\" font-size=\"12\" lengthAdjust=\"spacingAndGlyphs\" textLength=\"16\" x=\"83\" y=\"92.1074\">B1</text><line style=\"stroke: #A80036; stroke-width: 1.5;\" x1=\"33\" x2=\"123\" y1=\"99.9375\" y2=\"99.9375\"/></a><!--MD5=[2156ba9850f5573cc1fc38a6a4b2f02b]\n",
       "class E7--><a href=\"psysml:072097f8-3b46-444f-b0fb-f8fd70c894a4\" target=\"_top\" title=\"psysml:072097f8-3b46-444f-b0fb-f8fd70c894a4\" xlink:actuate=\"onRequest\" xlink:href=\"psysml:072097f8-3b46-444f-b0fb-f8fd70c894a4\" xlink:show=\"new\" xlink:title=\"psysml:072097f8-3b46-444f-b0fb-f8fd70c894a4\" xlink:type=\"simple\"><rect fill=\"#FEFECE\" filter=\"url(#f1u7qicxu3cj9u)\" height=\"88.3516\" id=\"E7\" rx=\"10\" ry=\"10\" style=\"stroke: #A80036; stroke-width: 1.5;\" width=\"68\" x=\"44\" y=\"189\"/><ellipse cx=\"59\" cy=\"207.9688\" fill=\"#0000FF\" rx=\"11\" ry=\"11\" style=\"stroke: #A80036; stroke-width: 1.0;\"/><path d=\"M59.8438,214.7188 L57.3906,214.7188 L57.3906,204.4688 L54.25,204.4688 L54.25,202.3281 L62.9844,202.3281 L62.9844,204.4688 L59.8438,204.4688 L59.8438,214.7188 Z \"/><text fill=\"#000000\" font-family=\"sans-serif\" font-size=\"12\" font-style=\"italic\" lengthAdjust=\"spacingAndGlyphs\" textLength=\"40\" x=\"71\" y=\"205.1387\">«part»</text><text fill=\"#000000\" font-family=\"sans-serif\" font-size=\"12\" lengthAdjust=\"spacingAndGlyphs\" textLength=\"8\" x=\"87\" y=\"219.1074\">p</text><line style=\"stroke: #A80036; stroke-width: 1.5;\" x1=\"45\" x2=\"111\" y1=\"226.9375\" y2=\"226.9375\"/><text fill=\"#000000\" font-family=\"sans-serif\" font-size=\"11\" lengthAdjust=\"spacingAndGlyphs\" textLength=\"29\" x=\"50\" y=\"257.9526\">p1: P</text><text fill=\"#000000\" font-family=\"sans-serif\" font-size=\"11\" lengthAdjust=\"spacingAndGlyphs\" textLength=\"38\" x=\"50\" y=\"270.7573\">p2: ~P</text><line style=\"stroke: #A80036; stroke-width: 1.0;\" x1=\"45\" x2=\"63\" y1=\"241.3398\" y2=\"241.3398\"/><text fill=\"#000000\" font-family=\"sans-serif\" font-size=\"11\" lengthAdjust=\"spacingAndGlyphs\" textLength=\"30\" x=\"63\" y=\"244.6479\">ports</text><line style=\"stroke: #A80036; stroke-width: 1.0;\" x1=\"93\" x2=\"111\" y1=\"241.3398\" y2=\"241.3398\"/></a><!--MD5=[3f50a3473f1dfb74d3f76443e03635af]\n",
       "reverse link E6 to E7--><a href=\"psysml:072097f8-3b46-444f-b0fb-f8fd70c894a4\" target=\"_top\" title=\"psysml:072097f8-3b46-444f-b0fb-f8fd70c894a4\" xlink:actuate=\"onRequest\" xlink:href=\"psysml:072097f8-3b46-444f-b0fb-f8fd70c894a4\" xlink:show=\"new\" xlink:title=\"psysml:072097f8-3b46-444f-b0fb-f8fd70c894a4\" xlink:type=\"simple\"><path d=\"M78,121.25 C78,141.54 78,167.2 78,188.71 \" fill=\"none\" id=\"E6&lt;-E7\" style=\"stroke: #A80036; stroke-width: 1.0;\"/><polygon fill=\"#A80036\" points=\"78,108.17,74,114.17,78,120.17,82,114.17,78,108.17\" style=\"stroke: #A80036; stroke-width: 1.0;\"/></a><!--MD5=[b1311192bb21bf6591ee05112dbdeb79]\n",
       "@startuml\r\n",
       " \r\n",
       "package \"ConjugationTest\" as E1  [[psysml:34192d11-634f-45f2-bc4e-1f94e63724b0 ]]  {\r\n",
       "comp def \"P\" as E2  <<(T,blue)port def>> [[psysml:c663f064-4c04-4527-821b-19ee83969177 ]] {\r\n",
       "}\r\n",
       "comp def \"B\" as E3  <<(T,blue)part def>> [[psysml:e064966f-e96c-463a-b744-2c95fe6cd8a1 ]] {\r\n",
       "- - ports - -\r\n",
       "p1: P\r\n",
       "p2: ~P\r\n",
       "}\r\n",
       "comp def \"A\" as E4  <<(T,blue)connection def>> [[psysml:005e78a8-b799-41cc-8c3e-bd1642b3bc90 ]] {\r\n",
       "- - ports - -\r\n",
       "p1: P\r\n",
       "p2: ~P\r\n",
       "}\r\n",
       "comp def \"I\" as E5  <<(T,blue)interface def>> [[psysml:21ca298b-43fb-4a5a-8828-d457e715a9a7 ]] {\r\n",
       "- - ports - -\r\n",
       "p1: P\r\n",
       "p2: ~P\r\n",
       "}\r\n",
       "comp def \"B1\" as E6  <<(T,blue)part def>> [[psysml:805f8ddd-ca4a-414c-92f1-ea459766cc23 ]] {\r\n",
       "}\r\n",
       "comp usage \"p\" as E7  <<(T,blue)part>> [[psysml:072097f8-3b46-444f-b0fb-f8fd70c894a4 ]] {\r\n",
       "- - ports - -\r\n",
       "p1: P\r\n",
       "p2: ~P\r\n",
       "}\r\n",
       "E6 *- - E7 [[psysml:072097f8-3b46-444f-b0fb-f8fd70c894a4 ]] \r\n",
       "}\r\n",
       "@enduml\r\n",
       "\n",
       "PlantUML version 1.2020.13(Sat Jun 13 12:26:38 UTC 2020)\n",
       "(EPL source distribution)\n",
       "Java Runtime: OpenJDK Runtime Environment\n",
       "JVM: OpenJDK 64-Bit Server VM\n",
       "Default Encoding: UTF-8\n",
       "Language: en\n",
       "Country: null\n",
       "--></g></svg>"
      ]
     },
     "execution_count": 8,
     "metadata": {},
     "output_type": "execute_result"
    }
   ],
   "source": [
    "%viz --style=\"COMPTREE\" --view=\"MIXED\" \"ConjugationTest\""
   ]
  },
  {
   "cell_type": "code",
   "execution_count": 9,
   "id": "exempt-bhutan",
   "metadata": {
    "execution": {
     "iopub.execute_input": "2021-03-25T15:03:52.401341Z",
     "iopub.status.busy": "2021-03-25T15:03:52.400878Z",
     "iopub.status.idle": "2021-03-25T15:03:53.205275Z",
     "shell.execute_reply": "2021-03-25T15:03:53.204837Z"
    }
   },
   "outputs": [
    {
     "data": {
      "image/svg+xml": [
       "<?xml version=\"1.0\" encoding=\"UTF-8\" standalone=\"no\"?><svg xmlns=\"http://www.w3.org/2000/svg\" xmlns:xlink=\"http://www.w3.org/1999/xlink\" contentScriptType=\"application/ecmascript\" contentStyleType=\"text/css\" height=\"305px\" preserveAspectRatio=\"none\" style=\"width:614px;height:305px;\" version=\"1.1\" viewBox=\"0 0 614 305\" width=\"614px\" zoomAndPan=\"magnify\"><defs/><g><!--MD5=[fbc87193dbaf4d95561dea2c320d4a47]\n",
       "cluster E1--><a href=\"psysml:34192d11-634f-45f2-bc4e-1f94e63724b0\" target=\"_top\" title=\"psysml:34192d11-634f-45f2-bc4e-1f94e63724b0\" xlink:actuate=\"onRequest\" xlink:href=\"psysml:34192d11-634f-45f2-bc4e-1f94e63724b0\" xlink:show=\"new\" xlink:title=\"psysml:34192d11-634f-45f2-bc4e-1f94e63724b0\" xlink:type=\"simple\"><polygon fill=\"#FFFFFF\" points=\"16,6,151,6,158,28.2969,592,28.2969,592,293,16,293,16,6\" style=\"stroke: #000000; stroke-width: 1.5;\"/><line style=\"stroke: #000000; stroke-width: 1.5;\" x1=\"16\" x2=\"158\" y1=\"28.2969\" y2=\"28.2969\"/><text fill=\"#000000\" font-family=\"sans-serif\" font-size=\"14\" font-weight=\"bold\" lengthAdjust=\"spacingAndGlyphs\" textLength=\"129\" x=\"20\" y=\"20.9951\">ConjugationTest</text></a><!--MD5=[b4997ac47864f28c2f74865a473b2911]\n",
       "class E2--><a href=\"psysml:c663f064-4c04-4527-821b-19ee83969177\" target=\"_top\" title=\"psysml:c663f064-4c04-4527-821b-19ee83969177\" xlink:actuate=\"onRequest\" xlink:href=\"psysml:c663f064-4c04-4527-821b-19ee83969177\" xlink:show=\"new\" xlink:title=\"psysml:c663f064-4c04-4527-821b-19ee83969177\" xlink:type=\"simple\"><rect fill=\"#FFFFFF\" height=\"45.9375\" id=\"E2\" style=\"stroke: #383838; stroke-width: 1.5;\" width=\"66\" x=\"510\" y=\"62\"/><text fill=\"#000000\" font-family=\"sans-serif\" font-size=\"12\" font-style=\"italic\" lengthAdjust=\"spacingAndGlyphs\" textLength=\"64\" x=\"511\" y=\"78.1387\">«port def»</text><text fill=\"#000000\" font-family=\"sans-serif\" font-size=\"12\" lengthAdjust=\"spacingAndGlyphs\" textLength=\"8\" x=\"539\" y=\"92.1074\">P</text><line style=\"stroke: #383838; stroke-width: 1.5;\" x1=\"511\" x2=\"575\" y1=\"99.9375\" y2=\"99.9375\"/></a><!--MD5=[09b614a08d8cba4a07c9adeb5e0fee81]\n",
       "class E3--><a href=\"psysml:e064966f-e96c-463a-b744-2c95fe6cd8a1\" target=\"_top\" title=\"psysml:e064966f-e96c-463a-b744-2c95fe6cd8a1\" xlink:actuate=\"onRequest\" xlink:href=\"psysml:e064966f-e96c-463a-b744-2c95fe6cd8a1\" xlink:show=\"new\" xlink:title=\"psysml:e064966f-e96c-463a-b744-2c95fe6cd8a1\" xlink:type=\"simple\"><rect fill=\"#FFFFFF\" height=\"88.3516\" id=\"E3\" style=\"stroke: #383838; stroke-width: 1.5;\" width=\"66\" x=\"409\" y=\"41\"/><text fill=\"#000000\" font-family=\"sans-serif\" font-size=\"12\" font-style=\"italic\" lengthAdjust=\"spacingAndGlyphs\" textLength=\"64\" x=\"410\" y=\"57.1387\">«part def»</text><text fill=\"#000000\" font-family=\"sans-serif\" font-size=\"12\" lengthAdjust=\"spacingAndGlyphs\" textLength=\"8\" x=\"438\" y=\"71.1074\">B</text><line style=\"stroke: #383838; stroke-width: 1.5;\" x1=\"410\" x2=\"474\" y1=\"78.9375\" y2=\"78.9375\"/><text fill=\"#000000\" font-family=\"sans-serif\" font-size=\"11\" lengthAdjust=\"spacingAndGlyphs\" textLength=\"29\" x=\"415\" y=\"109.9526\">p1: P</text><text fill=\"#000000\" font-family=\"sans-serif\" font-size=\"11\" lengthAdjust=\"spacingAndGlyphs\" textLength=\"38\" x=\"415\" y=\"122.7573\">p2: ~P</text><line style=\"stroke: #383838; stroke-width: 1.0;\" x1=\"410\" x2=\"427\" y1=\"93.3398\" y2=\"93.3398\"/><text fill=\"#000000\" font-family=\"sans-serif\" font-size=\"11\" lengthAdjust=\"spacingAndGlyphs\" textLength=\"30\" x=\"427\" y=\"96.6479\">ports</text><line style=\"stroke: #383838; stroke-width: 1.0;\" x1=\"457\" x2=\"474\" y1=\"93.3398\" y2=\"93.3398\"/></a><!--MD5=[60a26617385b1d2d0262a64233df1f8d]\n",
       "class E6--><a href=\"psysml:005e78a8-b799-41cc-8c3e-bd1642b3bc90\" target=\"_top\" title=\"psysml:005e78a8-b799-41cc-8c3e-bd1642b3bc90\" xlink:actuate=\"onRequest\" xlink:href=\"psysml:005e78a8-b799-41cc-8c3e-bd1642b3bc90\" xlink:show=\"new\" xlink:title=\"psysml:005e78a8-b799-41cc-8c3e-bd1642b3bc90\" xlink:type=\"simple\"><rect fill=\"#FFFFFF\" height=\"88.3516\" id=\"E6\" style=\"stroke: #383838; stroke-width: 1.5;\" width=\"110\" x=\"264\" y=\"41\"/><text fill=\"#000000\" font-family=\"sans-serif\" font-size=\"12\" font-style=\"italic\" lengthAdjust=\"spacingAndGlyphs\" textLength=\"108\" x=\"265\" y=\"57.1387\">«connection def»</text><text fill=\"#000000\" font-family=\"sans-serif\" font-size=\"12\" lengthAdjust=\"spacingAndGlyphs\" textLength=\"8\" x=\"315\" y=\"71.1074\">A</text><line style=\"stroke: #383838; stroke-width: 1.5;\" x1=\"265\" x2=\"373\" y1=\"78.9375\" y2=\"78.9375\"/><text fill=\"#000000\" font-family=\"sans-serif\" font-size=\"11\" lengthAdjust=\"spacingAndGlyphs\" textLength=\"29\" x=\"270\" y=\"109.9526\">p1: P</text><text fill=\"#000000\" font-family=\"sans-serif\" font-size=\"11\" lengthAdjust=\"spacingAndGlyphs\" textLength=\"38\" x=\"270\" y=\"122.7573\">p2: ~P</text><line style=\"stroke: #383838; stroke-width: 1.0;\" x1=\"265\" x2=\"304\" y1=\"93.3398\" y2=\"93.3398\"/><text fill=\"#000000\" font-family=\"sans-serif\" font-size=\"11\" lengthAdjust=\"spacingAndGlyphs\" textLength=\"30\" x=\"304\" y=\"96.6479\">ports</text><line style=\"stroke: #383838; stroke-width: 1.0;\" x1=\"334\" x2=\"373\" y1=\"93.3398\" y2=\"93.3398\"/></a><!--MD5=[fd4143e9d270a159db93a4ea2a975926]\n",
       "class E9--><a href=\"psysml:21ca298b-43fb-4a5a-8828-d457e715a9a7\" target=\"_top\" title=\"psysml:21ca298b-43fb-4a5a-8828-d457e715a9a7\" xlink:actuate=\"onRequest\" xlink:href=\"psysml:21ca298b-43fb-4a5a-8828-d457e715a9a7\" xlink:show=\"new\" xlink:title=\"psysml:21ca298b-43fb-4a5a-8828-d457e715a9a7\" xlink:type=\"simple\"><rect fill=\"#FFFFFF\" height=\"88.3516\" id=\"E9\" style=\"stroke: #383838; stroke-width: 1.5;\" width=\"96\" x=\"133\" y=\"41\"/><text fill=\"#000000\" font-family=\"sans-serif\" font-size=\"12\" font-style=\"italic\" lengthAdjust=\"spacingAndGlyphs\" textLength=\"94\" x=\"134\" y=\"57.1387\">«interface def»</text><text fill=\"#000000\" font-family=\"sans-serif\" font-size=\"12\" lengthAdjust=\"spacingAndGlyphs\" textLength=\"3\" x=\"179.5\" y=\"71.1074\">I</text><line style=\"stroke: #383838; stroke-width: 1.5;\" x1=\"134\" x2=\"228\" y1=\"78.9375\" y2=\"78.9375\"/><text fill=\"#000000\" font-family=\"sans-serif\" font-size=\"11\" lengthAdjust=\"spacingAndGlyphs\" textLength=\"29\" x=\"139\" y=\"109.9526\">p1: P</text><text fill=\"#000000\" font-family=\"sans-serif\" font-size=\"11\" lengthAdjust=\"spacingAndGlyphs\" textLength=\"38\" x=\"139\" y=\"122.7573\">p2: ~P</text><line style=\"stroke: #383838; stroke-width: 1.0;\" x1=\"134\" x2=\"166\" y1=\"93.3398\" y2=\"93.3398\"/><text fill=\"#000000\" font-family=\"sans-serif\" font-size=\"11\" lengthAdjust=\"spacingAndGlyphs\" textLength=\"30\" x=\"166\" y=\"96.6479\">ports</text><line style=\"stroke: #383838; stroke-width: 1.0;\" x1=\"196\" x2=\"228\" y1=\"93.3398\" y2=\"93.3398\"/></a><!--MD5=[49a0ec8f00dab7302a31f22d0f0fe584]\n",
       "class E12--><a href=\"psysml:805f8ddd-ca4a-414c-92f1-ea459766cc23\" target=\"_top\" title=\"psysml:805f8ddd-ca4a-414c-92f1-ea459766cc23\" xlink:actuate=\"onRequest\" xlink:href=\"psysml:805f8ddd-ca4a-414c-92f1-ea459766cc23\" xlink:show=\"new\" xlink:title=\"psysml:805f8ddd-ca4a-414c-92f1-ea459766cc23\" xlink:type=\"simple\"><rect fill=\"#FFFFFF\" height=\"45.9375\" id=\"E12\" style=\"stroke: #383838; stroke-width: 1.5;\" width=\"66\" x=\"32\" y=\"62\"/><text fill=\"#000000\" font-family=\"sans-serif\" font-size=\"12\" font-style=\"italic\" lengthAdjust=\"spacingAndGlyphs\" textLength=\"64\" x=\"33\" y=\"78.1387\">«part def»</text><text fill=\"#000000\" font-family=\"sans-serif\" font-size=\"12\" lengthAdjust=\"spacingAndGlyphs\" textLength=\"16\" x=\"57\" y=\"92.1074\">B1</text><line style=\"stroke: #383838; stroke-width: 1.5;\" x1=\"33\" x2=\"97\" y1=\"99.9375\" y2=\"99.9375\"/></a><!--MD5=[ee3c913d1a06f366521f9ef512b67efe]\n",
       "class E13--><a href=\"psysml:072097f8-3b46-444f-b0fb-f8fd70c894a4\" target=\"_top\" title=\"psysml:072097f8-3b46-444f-b0fb-f8fd70c894a4\" xlink:actuate=\"onRequest\" xlink:href=\"psysml:072097f8-3b46-444f-b0fb-f8fd70c894a4\" xlink:show=\"new\" xlink:title=\"psysml:072097f8-3b46-444f-b0fb-f8fd70c894a4\" xlink:type=\"simple\"><rect fill=\"#FFFFFF\" height=\"88.3516\" id=\"E13\" rx=\"10\" ry=\"10\" style=\"stroke: #383838; stroke-width: 1.5;\" width=\"50\" x=\"40\" y=\"189\"/><text fill=\"#000000\" font-family=\"sans-serif\" font-size=\"12\" font-style=\"italic\" lengthAdjust=\"spacingAndGlyphs\" textLength=\"40\" x=\"45\" y=\"205.1387\">«part»</text><text fill=\"#000000\" font-family=\"sans-serif\" font-size=\"12\" lengthAdjust=\"spacingAndGlyphs\" textLength=\"8\" x=\"61\" y=\"219.1074\">p</text><line style=\"stroke: #383838; stroke-width: 1.5;\" x1=\"41\" x2=\"89\" y1=\"226.9375\" y2=\"226.9375\"/><text fill=\"#000000\" font-family=\"sans-serif\" font-size=\"11\" lengthAdjust=\"spacingAndGlyphs\" textLength=\"29\" x=\"46\" y=\"257.9526\">p1: P</text><text fill=\"#000000\" font-family=\"sans-serif\" font-size=\"11\" lengthAdjust=\"spacingAndGlyphs\" textLength=\"38\" x=\"46\" y=\"270.7573\">p2: ~P</text><line style=\"stroke: #383838; stroke-width: 1.0;\" x1=\"41\" x2=\"50\" y1=\"241.3398\" y2=\"241.3398\"/><text fill=\"#000000\" font-family=\"sans-serif\" font-size=\"11\" lengthAdjust=\"spacingAndGlyphs\" textLength=\"30\" x=\"50\" y=\"244.6479\">ports</text><line style=\"stroke: #383838; stroke-width: 1.0;\" x1=\"80\" x2=\"89\" y1=\"241.3398\" y2=\"241.3398\"/></a><!--MD5=[062ed86c389d1a88f61c6380d0491e17]\n",
       "reverse link E12 to E13--><a href=\"psysml:072097f8-3b46-444f-b0fb-f8fd70c894a4\" target=\"_top\" title=\"psysml:072097f8-3b46-444f-b0fb-f8fd70c894a4\" xlink:actuate=\"onRequest\" xlink:href=\"psysml:072097f8-3b46-444f-b0fb-f8fd70c894a4\" xlink:show=\"new\" xlink:title=\"psysml:072097f8-3b46-444f-b0fb-f8fd70c894a4\" xlink:type=\"simple\"><path d=\"M65,121.25 C65,141.54 65,167.2 65,188.71 \" fill=\"none\" id=\"E12&lt;-E13\" style=\"stroke: #383838; stroke-width: 1.0;\"/><polygon fill=\"#383838\" points=\"65,108.17,61,114.17,65,120.17,69,114.17,65,108.17\" style=\"stroke: #383838; stroke-width: 1.0;\"/></a><!--MD5=[693d292e76483f448b495336bb4f77a1]\n",
       "@startuml\r\n",
       "skinparam linetype polyline\r\n",
       "skinparam monochrome true\r\n",
       "skinparam classbackgroundcolor white\r\n",
       "skinparam shadowing false\r\n",
       "skinparam wrapWidth 300\r\n",
       "hide circle\r\n",
       "\r\n",
       "package \"ConjugationTest\" as E1  [[psysml:34192d11-634f-45f2-bc4e-1f94e63724b0 ]]  {\r\n",
       "comp def \"P\" as E2  <<(T,blue)port def>> [[psysml:c663f064-4c04-4527-821b-19ee83969177 ]] {\r\n",
       "}\r\n",
       "comp def \"B\" as E3  <<(T,blue)part def>> [[psysml:e064966f-e96c-463a-b744-2c95fe6cd8a1 ]] {\r\n",
       "- - ports - -\r\n",
       "p1: P\r\n",
       "p2: ~P\r\n",
       "}\r\n",
       "comp def \"A\" as E6  <<(T,blue)connection def>> [[psysml:005e78a8-b799-41cc-8c3e-bd1642b3bc90 ]] {\r\n",
       "- - ports - -\r\n",
       "p1: P\r\n",
       "p2: ~P\r\n",
       "}\r\n",
       "comp def \"I\" as E9  <<(T,blue)interface def>> [[psysml:21ca298b-43fb-4a5a-8828-d457e715a9a7 ]] {\r\n",
       "- - ports - -\r\n",
       "p1: P\r\n",
       "p2: ~P\r\n",
       "}\r\n",
       "comp def \"B1\" as E12  <<(T,blue)part def>> [[psysml:805f8ddd-ca4a-414c-92f1-ea459766cc23 ]] {\r\n",
       "}\r\n",
       "comp usage \"p\" as E13  <<(T,blue)part>> [[psysml:072097f8-3b46-444f-b0fb-f8fd70c894a4 ]] {\r\n",
       "- - ports - -\r\n",
       "p1: P\r\n",
       "p2: ~P\r\n",
       "}\r\n",
       "E12 *- - E13 [[psysml:072097f8-3b46-444f-b0fb-f8fd70c894a4 ]] \r\n",
       "}\r\n",
       "@enduml\r\n",
       "\n",
       "PlantUML version 1.2020.13(Sat Jun 13 12:26:38 UTC 2020)\n",
       "(EPL source distribution)\n",
       "Java Runtime: OpenJDK Runtime Environment\n",
       "JVM: OpenJDK 64-Bit Server VM\n",
       "Default Encoding: UTF-8\n",
       "Language: en\n",
       "Country: null\n",
       "--></g></svg>"
      ]
     },
     "execution_count": 9,
     "metadata": {},
     "output_type": "execute_result"
    }
   ],
   "source": [
    "%viz --style=\"POLYLINE\" --view=\"Default\" \"ConjugationTest\""
   ]
  },
  {
   "cell_type": "code",
   "execution_count": 10,
   "id": "incomplete-appendix",
   "metadata": {
    "execution": {
     "iopub.execute_input": "2021-03-25T15:03:53.256719Z",
     "iopub.status.busy": "2021-03-25T15:03:53.255911Z",
     "iopub.status.idle": "2021-03-25T15:03:54.031910Z",
     "shell.execute_reply": "2021-03-25T15:03:54.031351Z"
    }
   },
   "outputs": [
    {
     "data": {
      "image/svg+xml": [
       "<?xml version=\"1.0\" encoding=\"UTF-8\" standalone=\"no\"?><svg xmlns=\"http://www.w3.org/2000/svg\" xmlns:xlink=\"http://www.w3.org/1999/xlink\" contentScriptType=\"application/ecmascript\" contentStyleType=\"text/css\" height=\"305px\" preserveAspectRatio=\"none\" style=\"width:614px;height:305px;\" version=\"1.1\" viewBox=\"0 0 614 305\" width=\"614px\" zoomAndPan=\"magnify\"><defs/><g><!--MD5=[fbc87193dbaf4d95561dea2c320d4a47]\n",
       "cluster E1--><a href=\"psysml:34192d11-634f-45f2-bc4e-1f94e63724b0\" target=\"_top\" title=\"psysml:34192d11-634f-45f2-bc4e-1f94e63724b0\" xlink:actuate=\"onRequest\" xlink:href=\"psysml:34192d11-634f-45f2-bc4e-1f94e63724b0\" xlink:show=\"new\" xlink:title=\"psysml:34192d11-634f-45f2-bc4e-1f94e63724b0\" xlink:type=\"simple\"><polygon fill=\"#FFFFFF\" points=\"16,6,151,6,158,28.2969,592,28.2969,592,293,16,293,16,6\" style=\"stroke: #000000; stroke-width: 1.5;\"/><line style=\"stroke: #000000; stroke-width: 1.5;\" x1=\"16\" x2=\"158\" y1=\"28.2969\" y2=\"28.2969\"/><text fill=\"#000000\" font-family=\"sans-serif\" font-size=\"14\" font-weight=\"bold\" lengthAdjust=\"spacingAndGlyphs\" textLength=\"129\" x=\"20\" y=\"20.9951\">ConjugationTest</text></a><!--MD5=[b4997ac47864f28c2f74865a473b2911]\n",
       "class E2--><a href=\"psysml:c663f064-4c04-4527-821b-19ee83969177\" target=\"_top\" title=\"psysml:c663f064-4c04-4527-821b-19ee83969177\" xlink:actuate=\"onRequest\" xlink:href=\"psysml:c663f064-4c04-4527-821b-19ee83969177\" xlink:show=\"new\" xlink:title=\"psysml:c663f064-4c04-4527-821b-19ee83969177\" xlink:type=\"simple\"><rect fill=\"#FFFFFF\" height=\"45.9375\" id=\"E2\" style=\"stroke: #383838; stroke-width: 1.5;\" width=\"66\" x=\"510\" y=\"62\"/><text fill=\"#000000\" font-family=\"sans-serif\" font-size=\"12\" font-style=\"italic\" lengthAdjust=\"spacingAndGlyphs\" textLength=\"64\" x=\"511\" y=\"78.1387\">«port def»</text><text fill=\"#000000\" font-family=\"sans-serif\" font-size=\"12\" lengthAdjust=\"spacingAndGlyphs\" textLength=\"8\" x=\"539\" y=\"92.1074\">P</text><line style=\"stroke: #383838; stroke-width: 1.5;\" x1=\"511\" x2=\"575\" y1=\"99.9375\" y2=\"99.9375\"/></a><!--MD5=[09b614a08d8cba4a07c9adeb5e0fee81]\n",
       "class E3--><a href=\"psysml:e064966f-e96c-463a-b744-2c95fe6cd8a1\" target=\"_top\" title=\"psysml:e064966f-e96c-463a-b744-2c95fe6cd8a1\" xlink:actuate=\"onRequest\" xlink:href=\"psysml:e064966f-e96c-463a-b744-2c95fe6cd8a1\" xlink:show=\"new\" xlink:title=\"psysml:e064966f-e96c-463a-b744-2c95fe6cd8a1\" xlink:type=\"simple\"><rect fill=\"#FFFFFF\" height=\"88.3516\" id=\"E3\" style=\"stroke: #383838; stroke-width: 1.5;\" width=\"66\" x=\"409\" y=\"41\"/><text fill=\"#000000\" font-family=\"sans-serif\" font-size=\"12\" font-style=\"italic\" lengthAdjust=\"spacingAndGlyphs\" textLength=\"64\" x=\"410\" y=\"57.1387\">«part def»</text><text fill=\"#000000\" font-family=\"sans-serif\" font-size=\"12\" lengthAdjust=\"spacingAndGlyphs\" textLength=\"8\" x=\"438\" y=\"71.1074\">B</text><line style=\"stroke: #383838; stroke-width: 1.5;\" x1=\"410\" x2=\"474\" y1=\"78.9375\" y2=\"78.9375\"/><text fill=\"#000000\" font-family=\"sans-serif\" font-size=\"11\" lengthAdjust=\"spacingAndGlyphs\" textLength=\"29\" x=\"415\" y=\"109.9526\">p1: P</text><text fill=\"#000000\" font-family=\"sans-serif\" font-size=\"11\" lengthAdjust=\"spacingAndGlyphs\" textLength=\"38\" x=\"415\" y=\"122.7573\">p2: ~P</text><line style=\"stroke: #383838; stroke-width: 1.0;\" x1=\"410\" x2=\"427\" y1=\"93.3398\" y2=\"93.3398\"/><text fill=\"#000000\" font-family=\"sans-serif\" font-size=\"11\" lengthAdjust=\"spacingAndGlyphs\" textLength=\"30\" x=\"427\" y=\"96.6479\">ports</text><line style=\"stroke: #383838; stroke-width: 1.0;\" x1=\"457\" x2=\"474\" y1=\"93.3398\" y2=\"93.3398\"/></a><!--MD5=[60a26617385b1d2d0262a64233df1f8d]\n",
       "class E6--><a href=\"psysml:005e78a8-b799-41cc-8c3e-bd1642b3bc90\" target=\"_top\" title=\"psysml:005e78a8-b799-41cc-8c3e-bd1642b3bc90\" xlink:actuate=\"onRequest\" xlink:href=\"psysml:005e78a8-b799-41cc-8c3e-bd1642b3bc90\" xlink:show=\"new\" xlink:title=\"psysml:005e78a8-b799-41cc-8c3e-bd1642b3bc90\" xlink:type=\"simple\"><rect fill=\"#FFFFFF\" height=\"88.3516\" id=\"E6\" style=\"stroke: #383838; stroke-width: 1.5;\" width=\"110\" x=\"264\" y=\"41\"/><text fill=\"#000000\" font-family=\"sans-serif\" font-size=\"12\" font-style=\"italic\" lengthAdjust=\"spacingAndGlyphs\" textLength=\"108\" x=\"265\" y=\"57.1387\">«connection def»</text><text fill=\"#000000\" font-family=\"sans-serif\" font-size=\"12\" lengthAdjust=\"spacingAndGlyphs\" textLength=\"8\" x=\"315\" y=\"71.1074\">A</text><line style=\"stroke: #383838; stroke-width: 1.5;\" x1=\"265\" x2=\"373\" y1=\"78.9375\" y2=\"78.9375\"/><text fill=\"#000000\" font-family=\"sans-serif\" font-size=\"11\" lengthAdjust=\"spacingAndGlyphs\" textLength=\"29\" x=\"270\" y=\"109.9526\">p1: P</text><text fill=\"#000000\" font-family=\"sans-serif\" font-size=\"11\" lengthAdjust=\"spacingAndGlyphs\" textLength=\"38\" x=\"270\" y=\"122.7573\">p2: ~P</text><line style=\"stroke: #383838; stroke-width: 1.0;\" x1=\"265\" x2=\"304\" y1=\"93.3398\" y2=\"93.3398\"/><text fill=\"#000000\" font-family=\"sans-serif\" font-size=\"11\" lengthAdjust=\"spacingAndGlyphs\" textLength=\"30\" x=\"304\" y=\"96.6479\">ports</text><line style=\"stroke: #383838; stroke-width: 1.0;\" x1=\"334\" x2=\"373\" y1=\"93.3398\" y2=\"93.3398\"/></a><!--MD5=[fd4143e9d270a159db93a4ea2a975926]\n",
       "class E9--><a href=\"psysml:21ca298b-43fb-4a5a-8828-d457e715a9a7\" target=\"_top\" title=\"psysml:21ca298b-43fb-4a5a-8828-d457e715a9a7\" xlink:actuate=\"onRequest\" xlink:href=\"psysml:21ca298b-43fb-4a5a-8828-d457e715a9a7\" xlink:show=\"new\" xlink:title=\"psysml:21ca298b-43fb-4a5a-8828-d457e715a9a7\" xlink:type=\"simple\"><rect fill=\"#FFFFFF\" height=\"88.3516\" id=\"E9\" style=\"stroke: #383838; stroke-width: 1.5;\" width=\"96\" x=\"133\" y=\"41\"/><text fill=\"#000000\" font-family=\"sans-serif\" font-size=\"12\" font-style=\"italic\" lengthAdjust=\"spacingAndGlyphs\" textLength=\"94\" x=\"134\" y=\"57.1387\">«interface def»</text><text fill=\"#000000\" font-family=\"sans-serif\" font-size=\"12\" lengthAdjust=\"spacingAndGlyphs\" textLength=\"3\" x=\"179.5\" y=\"71.1074\">I</text><line style=\"stroke: #383838; stroke-width: 1.5;\" x1=\"134\" x2=\"228\" y1=\"78.9375\" y2=\"78.9375\"/><text fill=\"#000000\" font-family=\"sans-serif\" font-size=\"11\" lengthAdjust=\"spacingAndGlyphs\" textLength=\"29\" x=\"139\" y=\"109.9526\">p1: P</text><text fill=\"#000000\" font-family=\"sans-serif\" font-size=\"11\" lengthAdjust=\"spacingAndGlyphs\" textLength=\"38\" x=\"139\" y=\"122.7573\">p2: ~P</text><line style=\"stroke: #383838; stroke-width: 1.0;\" x1=\"134\" x2=\"166\" y1=\"93.3398\" y2=\"93.3398\"/><text fill=\"#000000\" font-family=\"sans-serif\" font-size=\"11\" lengthAdjust=\"spacingAndGlyphs\" textLength=\"30\" x=\"166\" y=\"96.6479\">ports</text><line style=\"stroke: #383838; stroke-width: 1.0;\" x1=\"196\" x2=\"228\" y1=\"93.3398\" y2=\"93.3398\"/></a><!--MD5=[49a0ec8f00dab7302a31f22d0f0fe584]\n",
       "class E12--><a href=\"psysml:805f8ddd-ca4a-414c-92f1-ea459766cc23\" target=\"_top\" title=\"psysml:805f8ddd-ca4a-414c-92f1-ea459766cc23\" xlink:actuate=\"onRequest\" xlink:href=\"psysml:805f8ddd-ca4a-414c-92f1-ea459766cc23\" xlink:show=\"new\" xlink:title=\"psysml:805f8ddd-ca4a-414c-92f1-ea459766cc23\" xlink:type=\"simple\"><rect fill=\"#FFFFFF\" height=\"45.9375\" id=\"E12\" style=\"stroke: #383838; stroke-width: 1.5;\" width=\"66\" x=\"32\" y=\"62\"/><text fill=\"#000000\" font-family=\"sans-serif\" font-size=\"12\" font-style=\"italic\" lengthAdjust=\"spacingAndGlyphs\" textLength=\"64\" x=\"33\" y=\"78.1387\">«part def»</text><text fill=\"#000000\" font-family=\"sans-serif\" font-size=\"12\" lengthAdjust=\"spacingAndGlyphs\" textLength=\"16\" x=\"57\" y=\"92.1074\">B1</text><line style=\"stroke: #383838; stroke-width: 1.5;\" x1=\"33\" x2=\"97\" y1=\"99.9375\" y2=\"99.9375\"/></a><!--MD5=[ee3c913d1a06f366521f9ef512b67efe]\n",
       "class E13--><a href=\"psysml:072097f8-3b46-444f-b0fb-f8fd70c894a4\" target=\"_top\" title=\"psysml:072097f8-3b46-444f-b0fb-f8fd70c894a4\" xlink:actuate=\"onRequest\" xlink:href=\"psysml:072097f8-3b46-444f-b0fb-f8fd70c894a4\" xlink:show=\"new\" xlink:title=\"psysml:072097f8-3b46-444f-b0fb-f8fd70c894a4\" xlink:type=\"simple\"><rect fill=\"#FFFFFF\" height=\"88.3516\" id=\"E13\" rx=\"10\" ry=\"10\" style=\"stroke: #383838; stroke-width: 1.5;\" width=\"50\" x=\"40\" y=\"189\"/><text fill=\"#000000\" font-family=\"sans-serif\" font-size=\"12\" font-style=\"italic\" lengthAdjust=\"spacingAndGlyphs\" textLength=\"40\" x=\"45\" y=\"205.1387\">«part»</text><text fill=\"#000000\" font-family=\"sans-serif\" font-size=\"12\" lengthAdjust=\"spacingAndGlyphs\" textLength=\"8\" x=\"61\" y=\"219.1074\">p</text><line style=\"stroke: #383838; stroke-width: 1.5;\" x1=\"41\" x2=\"89\" y1=\"226.9375\" y2=\"226.9375\"/><text fill=\"#000000\" font-family=\"sans-serif\" font-size=\"11\" lengthAdjust=\"spacingAndGlyphs\" textLength=\"29\" x=\"46\" y=\"257.9526\">p1: P</text><text fill=\"#000000\" font-family=\"sans-serif\" font-size=\"11\" lengthAdjust=\"spacingAndGlyphs\" textLength=\"38\" x=\"46\" y=\"270.7573\">p2: ~P</text><line style=\"stroke: #383838; stroke-width: 1.0;\" x1=\"41\" x2=\"50\" y1=\"241.3398\" y2=\"241.3398\"/><text fill=\"#000000\" font-family=\"sans-serif\" font-size=\"11\" lengthAdjust=\"spacingAndGlyphs\" textLength=\"30\" x=\"50\" y=\"244.6479\">ports</text><line style=\"stroke: #383838; stroke-width: 1.0;\" x1=\"80\" x2=\"89\" y1=\"241.3398\" y2=\"241.3398\"/></a><!--MD5=[062ed86c389d1a88f61c6380d0491e17]\n",
       "reverse link E12 to E13--><a href=\"psysml:072097f8-3b46-444f-b0fb-f8fd70c894a4\" target=\"_top\" title=\"psysml:072097f8-3b46-444f-b0fb-f8fd70c894a4\" xlink:actuate=\"onRequest\" xlink:href=\"psysml:072097f8-3b46-444f-b0fb-f8fd70c894a4\" xlink:show=\"new\" xlink:title=\"psysml:072097f8-3b46-444f-b0fb-f8fd70c894a4\" xlink:type=\"simple\"><path d=\"M65,121.25 C65,141.54 65,167.2 65,188.71 \" fill=\"none\" id=\"E12&lt;-E13\" style=\"stroke: #383838; stroke-width: 1.0;\"/><polygon fill=\"#383838\" points=\"65,108.17,61,114.17,65,120.17,69,114.17,65,108.17\" style=\"stroke: #383838; stroke-width: 1.0;\"/></a><!--MD5=[693d292e76483f448b495336bb4f77a1]\n",
       "@startuml\r\n",
       "skinparam linetype polyline\r\n",
       "skinparam monochrome true\r\n",
       "skinparam classbackgroundcolor white\r\n",
       "skinparam shadowing false\r\n",
       "skinparam wrapWidth 300\r\n",
       "hide circle\r\n",
       "\r\n",
       "package \"ConjugationTest\" as E1  [[psysml:34192d11-634f-45f2-bc4e-1f94e63724b0 ]]  {\r\n",
       "comp def \"P\" as E2  <<(T,blue)port def>> [[psysml:c663f064-4c04-4527-821b-19ee83969177 ]] {\r\n",
       "}\r\n",
       "comp def \"B\" as E3  <<(T,blue)part def>> [[psysml:e064966f-e96c-463a-b744-2c95fe6cd8a1 ]] {\r\n",
       "- - ports - -\r\n",
       "p1: P\r\n",
       "p2: ~P\r\n",
       "}\r\n",
       "comp def \"A\" as E6  <<(T,blue)connection def>> [[psysml:005e78a8-b799-41cc-8c3e-bd1642b3bc90 ]] {\r\n",
       "- - ports - -\r\n",
       "p1: P\r\n",
       "p2: ~P\r\n",
       "}\r\n",
       "comp def \"I\" as E9  <<(T,blue)interface def>> [[psysml:21ca298b-43fb-4a5a-8828-d457e715a9a7 ]] {\r\n",
       "- - ports - -\r\n",
       "p1: P\r\n",
       "p2: ~P\r\n",
       "}\r\n",
       "comp def \"B1\" as E12  <<(T,blue)part def>> [[psysml:805f8ddd-ca4a-414c-92f1-ea459766cc23 ]] {\r\n",
       "}\r\n",
       "comp usage \"p\" as E13  <<(T,blue)part>> [[psysml:072097f8-3b46-444f-b0fb-f8fd70c894a4 ]] {\r\n",
       "- - ports - -\r\n",
       "p1: P\r\n",
       "p2: ~P\r\n",
       "}\r\n",
       "E12 *- - E13 [[psysml:072097f8-3b46-444f-b0fb-f8fd70c894a4 ]] \r\n",
       "}\r\n",
       "@enduml\r\n",
       "\n",
       "PlantUML version 1.2020.13(Sat Jun 13 12:26:38 UTC 2020)\n",
       "(EPL source distribution)\n",
       "Java Runtime: OpenJDK Runtime Environment\n",
       "JVM: OpenJDK 64-Bit Server VM\n",
       "Default Encoding: UTF-8\n",
       "Language: en\n",
       "Country: null\n",
       "--></g></svg>"
      ]
     },
     "execution_count": 10,
     "metadata": {},
     "output_type": "execute_result"
    }
   ],
   "source": [
    "%viz --style=\"POLYLINE\" --view=\"Tree\" \"ConjugationTest\""
   ]
  },
  {
   "cell_type": "code",
   "execution_count": 11,
   "id": "comfortable-continuity",
   "metadata": {
    "execution": {
     "iopub.execute_input": "2021-03-25T15:03:54.083579Z",
     "iopub.status.busy": "2021-03-25T15:03:54.082482Z",
     "iopub.status.idle": "2021-03-25T15:03:54.093160Z",
     "shell.execute_reply": "2021-03-25T15:03:54.093853Z"
    }
   },
   "outputs": [
    {
     "data": {
      "image/svg+xml": [
       "<?xml version=\"1.0\" encoding=\"UTF-8\" standalone=\"no\"?><svg xmlns=\"http://www.w3.org/2000/svg\" xmlns:xlink=\"http://www.w3.org/1999/xlink\" contentScriptType=\"application/ecmascript\" contentStyleType=\"text/css\" height=\"12px\" preserveAspectRatio=\"none\" style=\"width:12px;height:12px;\" version=\"1.1\" viewBox=\"0 0 12 12\" width=\"12px\" zoomAndPan=\"magnify\"><defs/><g><!--MD5=[896ac0e7a515d8dd7765a661cb4ee08b]\n",
       "@startuml\r\n",
       "skinparam linetype polyline\r\n",
       "skinparam monochrome true\r\n",
       "skinparam classbackgroundcolor white\r\n",
       "skinparam shadowing false\r\n",
       "skinparam wrapWidth 300\r\n",
       "hide circle\r\n",
       "\r\n",
       "@enduml\r\n",
       "\n",
       "PlantUML version 1.2020.13(Sat Jun 13 12:26:38 UTC 2020)\n",
       "(EPL source distribution)\n",
       "Java Runtime: OpenJDK Runtime Environment\n",
       "JVM: OpenJDK 64-Bit Server VM\n",
       "Default Encoding: UTF-8\n",
       "Language: en\n",
       "Country: null\n",
       "--></g></svg>"
      ]
     },
     "execution_count": 11,
     "metadata": {},
     "output_type": "execute_result"
    }
   ],
   "source": [
    "%viz --style=\"POLYLINE\" --view=\"State\" \"ConjugationTest\""
   ]
  },
  {
   "cell_type": "code",
   "execution_count": 12,
   "id": "stock-potato",
   "metadata": {
    "execution": {
     "iopub.execute_input": "2021-03-25T15:03:54.144738Z",
     "iopub.status.busy": "2021-03-25T15:03:54.144077Z",
     "iopub.status.idle": "2021-03-25T15:03:54.392130Z",
     "shell.execute_reply": "2021-03-25T15:03:54.391439Z"
    }
   },
   "outputs": [
    {
     "data": {
      "image/svg+xml": [
       "<?xml version=\"1.0\" encoding=\"UTF-8\" standalone=\"no\"?><svg xmlns=\"http://www.w3.org/2000/svg\" xmlns:xlink=\"http://www.w3.org/1999/xlink\" contentScriptType=\"application/ecmascript\" contentStyleType=\"text/css\" height=\"252px\" preserveAspectRatio=\"none\" style=\"width:781px;height:252px;\" version=\"1.1\" viewBox=\"0 0 781 252\" width=\"781px\" zoomAndPan=\"magnify\"><defs/><g><!--MD5=[fbc87193dbaf4d95561dea2c320d4a47]\n",
       "cluster E1--><a href=\"psysml:34192d11-634f-45f2-bc4e-1f94e63724b0\" target=\"_top\" title=\"psysml:34192d11-634f-45f2-bc4e-1f94e63724b0\" xlink:actuate=\"onRequest\" xlink:href=\"psysml:34192d11-634f-45f2-bc4e-1f94e63724b0\" xlink:show=\"new\" xlink:title=\"psysml:34192d11-634f-45f2-bc4e-1f94e63724b0\" xlink:type=\"simple\"><polygon fill=\"#FFFFFF\" points=\"16,6,151,6,158,28.2969,759,28.2969,759,240,16,240,16,6\" style=\"stroke: #000000; stroke-width: 1.5;\"/><line style=\"stroke: #000000; stroke-width: 1.5;\" x1=\"16\" x2=\"158\" y1=\"28.2969\" y2=\"28.2969\"/><text fill=\"#000000\" font-family=\"sans-serif\" font-size=\"14\" font-weight=\"bold\" lengthAdjust=\"spacingAndGlyphs\" textLength=\"129\" x=\"20\" y=\"20.9951\">ConjugationTest</text></a><!--MD5=[d5e69f78d87373223dbae638b30a9c99]\n",
       "cluster E3--><a href=\"psysml:e064966f-e96c-463a-b744-2c95fe6cd8a1\" target=\"_top\" title=\"psysml:e064966f-e96c-463a-b744-2c95fe6cd8a1\" xlink:actuate=\"onRequest\" xlink:href=\"psysml:e064966f-e96c-463a-b744-2c95fe6cd8a1\" xlink:show=\"new\" xlink:title=\"psysml:e064966f-e96c-463a-b744-2c95fe6cd8a1\" xlink:type=\"simple\"><rect fill=\"#FFFFFF\" height=\"94\" id=\"E3\" style=\"stroke: #383838; stroke-width: 1.5;\" width=\"83\" x=\"619\" y=\"114\"/><rect fill=\"#F8F8F8\" height=\"37.9375\" style=\"stroke: #383838; stroke-width: 1.5;\" width=\"83\" x=\"619\" y=\"114\"/><text fill=\"#000000\" font-family=\"sans-serif\" font-size=\"12\" font-style=\"italic\" lengthAdjust=\"spacingAndGlyphs\" textLength=\"64\" x=\"628.5\" y=\"130.1387\">«part def»</text><text fill=\"#000000\" font-family=\"sans-serif\" font-size=\"12\" lengthAdjust=\"spacingAndGlyphs\" textLength=\"8\" x=\"656.5\" y=\"144.1074\">B</text></a><!--MD5=[14e3b0961a2654348d326746436168a1]\n",
       "cluster E6--><a href=\"psysml:005e78a8-b799-41cc-8c3e-bd1642b3bc90\" target=\"_top\" title=\"psysml:005e78a8-b799-41cc-8c3e-bd1642b3bc90\" xlink:actuate=\"onRequest\" xlink:href=\"psysml:005e78a8-b799-41cc-8c3e-bd1642b3bc90\" xlink:show=\"new\" xlink:title=\"psysml:005e78a8-b799-41cc-8c3e-bd1642b3bc90\" xlink:type=\"simple\"><rect fill=\"#FFFFFF\" height=\"94\" id=\"E6\" style=\"stroke: #383838; stroke-width: 1.5;\" width=\"150\" x=\"465\" y=\"114\"/><rect fill=\"#F8F8F8\" height=\"37.9375\" style=\"stroke: #383838; stroke-width: 1.5;\" width=\"150\" x=\"465\" y=\"114\"/><text fill=\"#000000\" font-family=\"sans-serif\" font-size=\"12\" font-style=\"italic\" lengthAdjust=\"spacingAndGlyphs\" textLength=\"108\" x=\"486\" y=\"130.1387\">«connection def»</text><text fill=\"#000000\" font-family=\"sans-serif\" font-size=\"12\" lengthAdjust=\"spacingAndGlyphs\" textLength=\"8\" x=\"536\" y=\"144.1074\">A</text></a><!--MD5=[7f149f147074ac12df2cb0a7728a5fb0]\n",
       "cluster E9--><a href=\"psysml:21ca298b-43fb-4a5a-8828-d457e715a9a7\" target=\"_top\" title=\"psysml:21ca298b-43fb-4a5a-8828-d457e715a9a7\" xlink:actuate=\"onRequest\" xlink:href=\"psysml:21ca298b-43fb-4a5a-8828-d457e715a9a7\" xlink:show=\"new\" xlink:title=\"psysml:21ca298b-43fb-4a5a-8828-d457e715a9a7\" xlink:type=\"simple\"><rect fill=\"#FFFFFF\" height=\"94\" id=\"E9\" style=\"stroke: #383838; stroke-width: 1.5;\" width=\"141\" x=\"296\" y=\"114\"/><rect fill=\"#F8F8F8\" height=\"37.9375\" style=\"stroke: #383838; stroke-width: 1.5;\" width=\"141\" x=\"296\" y=\"114\"/><text fill=\"#000000\" font-family=\"sans-serif\" font-size=\"12\" font-style=\"italic\" lengthAdjust=\"spacingAndGlyphs\" textLength=\"94\" x=\"319.5\" y=\"130.1387\">«interface def»</text><text fill=\"#000000\" font-family=\"sans-serif\" font-size=\"12\" lengthAdjust=\"spacingAndGlyphs\" textLength=\"3\" x=\"365\" y=\"144.1074\">I</text></a><!--MD5=[47bea60c1a0ac6c1143df232041969c0]\n",
       "cluster E12--><a href=\"psysml:805f8ddd-ca4a-414c-92f1-ea459766cc23\" target=\"_top\" title=\"psysml:805f8ddd-ca4a-414c-92f1-ea459766cc23\" xlink:actuate=\"onRequest\" xlink:href=\"psysml:805f8ddd-ca4a-414c-92f1-ea459766cc23\" xlink:show=\"new\" xlink:title=\"psysml:805f8ddd-ca4a-414c-92f1-ea459766cc23\" xlink:type=\"simple\"><rect fill=\"#FFFFFF\" height=\"167\" id=\"E12\" style=\"stroke: #383838; stroke-width: 1.5;\" width=\"107\" x=\"162\" y=\"49\"/><rect fill=\"#F8F8F8\" height=\"37.9375\" style=\"stroke: #383838; stroke-width: 1.5;\" width=\"107\" x=\"162\" y=\"49\"/><text fill=\"#000000\" font-family=\"sans-serif\" font-size=\"12\" font-style=\"italic\" lengthAdjust=\"spacingAndGlyphs\" textLength=\"64\" x=\"183.5\" y=\"65.1387\">«part def»</text><text fill=\"#000000\" font-family=\"sans-serif\" font-size=\"12\" lengthAdjust=\"spacingAndGlyphs\" textLength=\"16\" x=\"207.5\" y=\"79.1074\">B1</text></a><!--MD5=[03104f77b71e2d8d3500c651e6e31181]\n",
       "cluster E13--><a href=\"psysml:072097f8-3b46-444f-b0fb-f8fd70c894a4\" target=\"_top\" title=\"psysml:072097f8-3b46-444f-b0fb-f8fd70c894a4\" xlink:actuate=\"onRequest\" xlink:href=\"psysml:072097f8-3b46-444f-b0fb-f8fd70c894a4\" xlink:show=\"new\" xlink:title=\"psysml:072097f8-3b46-444f-b0fb-f8fd70c894a4\" xlink:type=\"simple\"><rect fill=\"#FFFFFF\" height=\"86\" id=\"E13\" rx=\"10\" ry=\"10\" style=\"stroke: #383838; stroke-width: 1.5;\" width=\"83\" x=\"174\" y=\"114\"/><rect fill=\"#F8F8F8\" height=\"23.9688\" rx=\"10\" ry=\"10\" style=\"stroke: #F8F8F8; stroke-width: 1.5;\" width=\"83\" x=\"174\" y=\"114\"/><rect fill=\"#F8F8F8\" height=\"10\" style=\"stroke: #F8F8F8; stroke-width: 1.5;\" width=\"83\" x=\"174\" y=\"127.9688\"/><rect fill=\"none\" height=\"86\" id=\"E13\" rx=\"10\" ry=\"10\" style=\"stroke: #383838; stroke-width: 1.5;\" width=\"83\" x=\"174\" y=\"114\"/><text fill=\"#000000\" font-family=\"sans-serif\" font-size=\"12\" lengthAdjust=\"spacingAndGlyphs\" textLength=\"8\" x=\"211.5\" y=\"130.1387\">p</text><line style=\"stroke: #383838; stroke-width: 1.0;\" x1=\"174\" x2=\"257\" y1=\"137.9688\" y2=\"137.9688\"/></a><!--MD5=[b4997ac47864f28c2f74865a473b2911]\n",
       "class E2--><a href=\"psysml:c663f064-4c04-4527-821b-19ee83969177\" target=\"_top\" title=\"psysml:c663f064-4c04-4527-821b-19ee83969177\" xlink:actuate=\"onRequest\" xlink:href=\"psysml:c663f064-4c04-4527-821b-19ee83969177\" xlink:show=\"new\" xlink:title=\"psysml:c663f064-4c04-4527-821b-19ee83969177\" xlink:type=\"simple\"><rect fill=\"#FFFFFF\" height=\"53.9375\" id=\"E2\" style=\"stroke: #383838; stroke-width: 1.5;\" width=\"114\" x=\"32\" y=\"87\"/><text fill=\"#000000\" font-family=\"sans-serif\" font-size=\"12\" font-style=\"italic\" lengthAdjust=\"spacingAndGlyphs\" textLength=\"112\" x=\"33\" y=\"103.1387\">«(T,blue)port def»</text><text fill=\"#000000\" font-family=\"sans-serif\" font-size=\"12\" lengthAdjust=\"spacingAndGlyphs\" textLength=\"8\" x=\"85\" y=\"117.1074\">P</text><line style=\"stroke: #383838; stroke-width: 1.5;\" x1=\"33\" x2=\"145\" y1=\"124.9375\" y2=\"124.9375\"/><line style=\"stroke: #383838; stroke-width: 1.5;\" x1=\"33\" x2=\"145\" y1=\"132.9375\" y2=\"132.9375\"/></a><text fill=\"#000000\" font-family=\"sans-serif\" font-size=\"14\" lengthAdjust=\"spacingAndGlyphs\" textLength=\"36\" x=\"619\" y=\"92.6982\">p1: P</text><rect fill=\"#383838\" height=\"12\" style=\"stroke: #F8F8F8; stroke-width: 1.5;\" width=\"12\" x=\"631\" y=\"108\"/><text fill=\"#000000\" font-family=\"sans-serif\" font-size=\"14\" lengthAdjust=\"spacingAndGlyphs\" textLength=\"48\" x=\"660\" y=\"92.6982\">p2: ~P</text><rect fill=\"#383838\" height=\"12\" style=\"stroke: #F8F8F8; stroke-width: 1.5;\" width=\"12\" x=\"678\" y=\"108\"/><text fill=\"#000000\" font-family=\"sans-serif\" font-size=\"14\" lengthAdjust=\"spacingAndGlyphs\" textLength=\"36\" x=\"465\" y=\"92.6982\">p1: P</text><rect fill=\"#383838\" height=\"12\" style=\"stroke: #F8F8F8; stroke-width: 1.5;\" width=\"12\" x=\"477\" y=\"108\"/><text fill=\"#000000\" font-family=\"sans-serif\" font-size=\"14\" lengthAdjust=\"spacingAndGlyphs\" textLength=\"48\" x=\"506\" y=\"92.6982\">p2: ~P</text><rect fill=\"#383838\" height=\"12\" style=\"stroke: #F8F8F8; stroke-width: 1.5;\" width=\"12\" x=\"524\" y=\"108\"/><text fill=\"#000000\" font-family=\"sans-serif\" font-size=\"14\" lengthAdjust=\"spacingAndGlyphs\" textLength=\"36\" x=\"296\" y=\"92.6982\">p1: P</text><rect fill=\"#383838\" height=\"12\" style=\"stroke: #F8F8F8; stroke-width: 1.5;\" width=\"12\" x=\"308\" y=\"108\"/><text fill=\"#000000\" font-family=\"sans-serif\" font-size=\"14\" lengthAdjust=\"spacingAndGlyphs\" textLength=\"48\" x=\"337\" y=\"92.6982\">p2: ~P</text><rect fill=\"#383838\" height=\"12\" style=\"stroke: #F8F8F8; stroke-width: 1.5;\" width=\"12\" x=\"355\" y=\"108\"/><text fill=\"#000000\" font-family=\"sans-serif\" font-size=\"14\" lengthAdjust=\"spacingAndGlyphs\" textLength=\"36\" x=\"174\" y=\"92.6982\">p1: P</text><rect fill=\"#383838\" height=\"12\" style=\"stroke: #F8F8F8; stroke-width: 1.5;\" width=\"12\" x=\"186\" y=\"108\"/><text fill=\"#000000\" font-family=\"sans-serif\" font-size=\"14\" lengthAdjust=\"spacingAndGlyphs\" textLength=\"48\" x=\"215\" y=\"92.6982\">p2: ~P</text><rect fill=\"#383838\" height=\"12\" style=\"stroke: #F8F8F8; stroke-width: 1.5;\" width=\"12\" x=\"233\" y=\"108\"/><!--MD5=[4ce51ac6fa4cf5202df3859e2718f033]\n",
       "link E15 to E14--><a href=\"psysml:d49afd8d-54fc-473a-b637-3cd599cd4fa7\" target=\"_top\" title=\"psysml:d49afd8d-54fc-473a-b637-3cd599cd4fa7\" xlink:actuate=\"onRequest\" xlink:href=\"psysml:d49afd8d-54fc-473a-b637-3cd599cd4fa7\" xlink:show=\"new\" xlink:title=\"psysml:d49afd8d-54fc-473a-b637-3cd599cd4fa7\" xlink:type=\"simple\"><path d=\"M232.99,114 C228.57,114 223.33,114 223.33,114 C223.33,114 207.67,114 207.67,114 C207.67,114 202.43,114 198.01,114 \" fill=\"none\" id=\"E15-E14\" style=\"stroke: #383838; stroke-width: 3.0;\"/></a><!--MD5=[4ce51ac6fa4cf5202df3859e2718f033]\n",
       "link E15 to E14--><a href=\"psysml:158350c1-11e6-4f2f-a89e-7037efa93dae\" target=\"_top\" title=\"psysml:158350c1-11e6-4f2f-a89e-7037efa93dae\" xlink:actuate=\"onRequest\" xlink:href=\"psysml:158350c1-11e6-4f2f-a89e-7037efa93dae\" xlink:show=\"new\" xlink:title=\"psysml:158350c1-11e6-4f2f-a89e-7037efa93dae\" xlink:type=\"simple\"><path d=\"M232.99,111.7 C228.57,110.01 223.33,108 223.33,108 C223.33,108 207.67,108 207.67,108 C207.67,108 202.43,110.01 198.01,111.7 \" fill=\"none\" id=\"E15-E14-1\" style=\"stroke: #383838; stroke-width: 3.0;\"/></a><!--MD5=[91f99a1081806c31ffa50856d62cd55c]\n",
       "@startuml\r\n",
       "skinparam ranksep 8\r\n",
       "skinparam rectangle {\r\n",
       " backgroundColor<<block>> LightGreen\r\n",
       "}\r\n",
       "skinparam linetype polyline\r\n",
       "skinparam monochrome true\r\n",
       "skinparam classbackgroundcolor white\r\n",
       "skinparam shadowing false\r\n",
       "skinparam wrapWidth 300\r\n",
       "hide circle\r\n",
       "\r\n",
       "package \"ConjugationTest\" as E1  [[psysml:34192d11-634f-45f2-bc4e-1f94e63724b0 ]]  {\r\n",
       "def \"P\" as E2  <<(T,blue)port def>> [[psysml:c663f064-4c04-4527-821b-19ee83969177 ]] \r\n",
       "rec def \"B\" as E3  <<(T,blue)part def>> [[psysml:e064966f-e96c-463a-b744-2c95fe6cd8a1 ]] {\r\n",
       "portin \"p1: P\" as E4  <<(T,blue)port>> [[psysml:b8e0261a-441d-41a6-aff3-1d450c4cde6f ]] \r\n",
       "portin \"p2: ~P\" as E5  <<(T,blue)port>> [[psysml:cbde5ba2-4051-45bc-9875-629a3f045392 ]] \r\n",
       "}\r\n",
       "rec def \"A\" as E6  <<(T,blue)connection def>> [[psysml:005e78a8-b799-41cc-8c3e-bd1642b3bc90 ]] {\r\n",
       "portin \"p1: P\" as E7  <<(T,blue)port>> [[psysml:55181707-d268-487e-aa99-75d3872aefbc ]] \r\n",
       "portin \"p2: ~P\" as E8  <<(T,blue)port>> [[psysml:0ddbc9c9-6f57-4a43-9fe9-35a450e63798 ]] \r\n",
       "}\r\n",
       "rec def \"I\" as E9  <<(T,blue)interface def>> [[psysml:21ca298b-43fb-4a5a-8828-d457e715a9a7 ]] {\r\n",
       "portin \"p1: P\" as E10  <<(T,blue)port>> [[psysml:4800d5e0-15fd-4b6f-b429-bddfb731ebe9 ]] \r\n",
       "portin \"p2: ~P\" as E11  <<(T,blue)port>> [[psysml:5bc48f79-cf8d-4956-b81e-e57ba2e7fb16 ]] \r\n",
       "}\r\n",
       "rec def \"B1\" as E12  <<(T,blue)part def>> [[psysml:805f8ddd-ca4a-414c-92f1-ea459766cc23 ]] {\r\n",
       "rec usage \"p\" as E13  [[psysml:072097f8-3b46-444f-b0fb-f8fd70c894a4 ]] {\r\n",
       "portin \"p1: P\" as E14  <<(T,blue)port>> [[psysml:17432448-deec-4082-b953-29eb581620b4 ]] \r\n",
       "portin \"p2: ~P\" as E15  <<(T,blue)port>> [[psysml:c01cfbc6-39be-4cca-af9b-913ba499d52d ]] \r\n",
       "}\r\n",
       "}\r\n",
       "E15 -[thickness=3]- E14 [[psysml:d49afd8d-54fc-473a-b637-3cd599cd4fa7 ]] \r\n",
       "E15 -[thickness=3]- E14 [[psysml:158350c1-11e6-4f2f-a89e-7037efa93dae ]] \r\n",
       "}\r\n",
       "@enduml\r\n",
       "\n",
       "PlantUML version 1.2020.13(Sat Jun 13 12:26:38 UTC 2020)\n",
       "(EPL source distribution)\n",
       "Java Runtime: OpenJDK Runtime Environment\n",
       "JVM: OpenJDK 64-Bit Server VM\n",
       "Default Encoding: UTF-8\n",
       "Language: en\n",
       "Country: null\n",
       "--></g></svg>"
      ]
     },
     "execution_count": 12,
     "metadata": {},
     "output_type": "execute_result"
    }
   ],
   "source": [
    "%viz --style=\"POLYLINE\" --view=\"Interconnection\" \"ConjugationTest\""
   ]
  },
  {
   "cell_type": "code",
   "execution_count": 13,
   "id": "roman-feature",
   "metadata": {
    "execution": {
     "iopub.execute_input": "2021-03-25T15:03:54.441422Z",
     "iopub.status.busy": "2021-03-25T15:03:54.440576Z",
     "iopub.status.idle": "2021-03-25T15:03:54.450684Z",
     "shell.execute_reply": "2021-03-25T15:03:54.451122Z"
    }
   },
   "outputs": [
    {
     "data": {
      "image/svg+xml": [
       "<?xml version=\"1.0\" encoding=\"UTF-8\" standalone=\"no\"?><svg xmlns=\"http://www.w3.org/2000/svg\" xmlns:xlink=\"http://www.w3.org/1999/xlink\" contentScriptType=\"application/ecmascript\" contentStyleType=\"text/css\" height=\"12px\" preserveAspectRatio=\"none\" style=\"width:12px;height:12px;\" version=\"1.1\" viewBox=\"0 0 12 12\" width=\"12px\" zoomAndPan=\"magnify\"><defs/><g><!--MD5=[97bbf32f66ccd50cbc40d92ea8f5a65e]\n",
       "@startuml\r\n",
       "skinparam ranksep 8\r\n",
       "skinparam linetype polyline\r\n",
       "skinparam monochrome true\r\n",
       "skinparam classbackgroundcolor white\r\n",
       "skinparam shadowing false\r\n",
       "skinparam wrapWidth 300\r\n",
       "hide circle\r\n",
       "\r\n",
       "@enduml\r\n",
       "\n",
       "PlantUML version 1.2020.13(Sat Jun 13 12:26:38 UTC 2020)\n",
       "(EPL source distribution)\n",
       "Java Runtime: OpenJDK Runtime Environment\n",
       "JVM: OpenJDK 64-Bit Server VM\n",
       "Default Encoding: UTF-8\n",
       "Language: en\n",
       "Country: null\n",
       "--></g></svg>"
      ]
     },
     "execution_count": 13,
     "metadata": {},
     "output_type": "execute_result"
    }
   ],
   "source": [
    "%viz --style=\"POLYLINE\" --view=\"Action\" \"ConjugationTest\""
   ]
  },
  {
   "cell_type": "code",
   "execution_count": 14,
   "id": "literary-ancient",
   "metadata": {
    "execution": {
     "iopub.execute_input": "2021-03-25T15:03:54.502833Z",
     "iopub.status.busy": "2021-03-25T15:03:54.502285Z",
     "iopub.status.idle": "2021-03-25T15:03:55.324494Z",
     "shell.execute_reply": "2021-03-25T15:03:55.323891Z"
    }
   },
   "outputs": [
    {
     "data": {
      "image/svg+xml": [
       "<?xml version=\"1.0\" encoding=\"UTF-8\" standalone=\"no\"?><svg xmlns=\"http://www.w3.org/2000/svg\" xmlns:xlink=\"http://www.w3.org/1999/xlink\" contentScriptType=\"application/ecmascript\" contentStyleType=\"text/css\" height=\"305px\" preserveAspectRatio=\"none\" style=\"width:614px;height:305px;\" version=\"1.1\" viewBox=\"0 0 614 305\" width=\"614px\" zoomAndPan=\"magnify\"><defs/><g><!--MD5=[fbc87193dbaf4d95561dea2c320d4a47]\n",
       "cluster E1--><a href=\"psysml:34192d11-634f-45f2-bc4e-1f94e63724b0\" target=\"_top\" title=\"psysml:34192d11-634f-45f2-bc4e-1f94e63724b0\" xlink:actuate=\"onRequest\" xlink:href=\"psysml:34192d11-634f-45f2-bc4e-1f94e63724b0\" xlink:show=\"new\" xlink:title=\"psysml:34192d11-634f-45f2-bc4e-1f94e63724b0\" xlink:type=\"simple\"><polygon fill=\"#FFFFFF\" points=\"16,6,151,6,158,28.2969,592,28.2969,592,293,16,293,16,6\" style=\"stroke: #000000; stroke-width: 1.5;\"/><line style=\"stroke: #000000; stroke-width: 1.5;\" x1=\"16\" x2=\"158\" y1=\"28.2969\" y2=\"28.2969\"/><text fill=\"#000000\" font-family=\"sans-serif\" font-size=\"14\" font-weight=\"bold\" lengthAdjust=\"spacingAndGlyphs\" textLength=\"129\" x=\"20\" y=\"20.9951\">ConjugationTest</text></a><!--MD5=[b4997ac47864f28c2f74865a473b2911]\n",
       "class E2--><a href=\"psysml:c663f064-4c04-4527-821b-19ee83969177\" target=\"_top\" title=\"psysml:c663f064-4c04-4527-821b-19ee83969177\" xlink:actuate=\"onRequest\" xlink:href=\"psysml:c663f064-4c04-4527-821b-19ee83969177\" xlink:show=\"new\" xlink:title=\"psysml:c663f064-4c04-4527-821b-19ee83969177\" xlink:type=\"simple\"><rect fill=\"#FFFFFF\" height=\"45.9375\" id=\"E2\" style=\"stroke: #383838; stroke-width: 1.5;\" width=\"66\" x=\"510\" y=\"62\"/><text fill=\"#000000\" font-family=\"sans-serif\" font-size=\"12\" font-style=\"italic\" lengthAdjust=\"spacingAndGlyphs\" textLength=\"64\" x=\"511\" y=\"78.1387\">«port def»</text><text fill=\"#000000\" font-family=\"sans-serif\" font-size=\"12\" lengthAdjust=\"spacingAndGlyphs\" textLength=\"8\" x=\"539\" y=\"92.1074\">P</text><line style=\"stroke: #383838; stroke-width: 1.5;\" x1=\"511\" x2=\"575\" y1=\"99.9375\" y2=\"99.9375\"/></a><!--MD5=[09b614a08d8cba4a07c9adeb5e0fee81]\n",
       "class E3--><a href=\"psysml:e064966f-e96c-463a-b744-2c95fe6cd8a1\" target=\"_top\" title=\"psysml:e064966f-e96c-463a-b744-2c95fe6cd8a1\" xlink:actuate=\"onRequest\" xlink:href=\"psysml:e064966f-e96c-463a-b744-2c95fe6cd8a1\" xlink:show=\"new\" xlink:title=\"psysml:e064966f-e96c-463a-b744-2c95fe6cd8a1\" xlink:type=\"simple\"><rect fill=\"#FFFFFF\" height=\"88.3516\" id=\"E3\" style=\"stroke: #383838; stroke-width: 1.5;\" width=\"66\" x=\"409\" y=\"41\"/><text fill=\"#000000\" font-family=\"sans-serif\" font-size=\"12\" font-style=\"italic\" lengthAdjust=\"spacingAndGlyphs\" textLength=\"64\" x=\"410\" y=\"57.1387\">«part def»</text><text fill=\"#000000\" font-family=\"sans-serif\" font-size=\"12\" lengthAdjust=\"spacingAndGlyphs\" textLength=\"8\" x=\"438\" y=\"71.1074\">B</text><line style=\"stroke: #383838; stroke-width: 1.5;\" x1=\"410\" x2=\"474\" y1=\"78.9375\" y2=\"78.9375\"/><text fill=\"#000000\" font-family=\"sans-serif\" font-size=\"11\" lengthAdjust=\"spacingAndGlyphs\" textLength=\"29\" x=\"415\" y=\"109.9526\">p1: P</text><text fill=\"#000000\" font-family=\"sans-serif\" font-size=\"11\" lengthAdjust=\"spacingAndGlyphs\" textLength=\"38\" x=\"415\" y=\"122.7573\">p2: ~P</text><line style=\"stroke: #383838; stroke-width: 1.0;\" x1=\"410\" x2=\"427\" y1=\"93.3398\" y2=\"93.3398\"/><text fill=\"#000000\" font-family=\"sans-serif\" font-size=\"11\" lengthAdjust=\"spacingAndGlyphs\" textLength=\"30\" x=\"427\" y=\"96.6479\">ports</text><line style=\"stroke: #383838; stroke-width: 1.0;\" x1=\"457\" x2=\"474\" y1=\"93.3398\" y2=\"93.3398\"/></a><!--MD5=[60a26617385b1d2d0262a64233df1f8d]\n",
       "class E6--><a href=\"psysml:005e78a8-b799-41cc-8c3e-bd1642b3bc90\" target=\"_top\" title=\"psysml:005e78a8-b799-41cc-8c3e-bd1642b3bc90\" xlink:actuate=\"onRequest\" xlink:href=\"psysml:005e78a8-b799-41cc-8c3e-bd1642b3bc90\" xlink:show=\"new\" xlink:title=\"psysml:005e78a8-b799-41cc-8c3e-bd1642b3bc90\" xlink:type=\"simple\"><rect fill=\"#FFFFFF\" height=\"88.3516\" id=\"E6\" style=\"stroke: #383838; stroke-width: 1.5;\" width=\"110\" x=\"264\" y=\"41\"/><text fill=\"#000000\" font-family=\"sans-serif\" font-size=\"12\" font-style=\"italic\" lengthAdjust=\"spacingAndGlyphs\" textLength=\"108\" x=\"265\" y=\"57.1387\">«connection def»</text><text fill=\"#000000\" font-family=\"sans-serif\" font-size=\"12\" lengthAdjust=\"spacingAndGlyphs\" textLength=\"8\" x=\"315\" y=\"71.1074\">A</text><line style=\"stroke: #383838; stroke-width: 1.5;\" x1=\"265\" x2=\"373\" y1=\"78.9375\" y2=\"78.9375\"/><text fill=\"#000000\" font-family=\"sans-serif\" font-size=\"11\" lengthAdjust=\"spacingAndGlyphs\" textLength=\"29\" x=\"270\" y=\"109.9526\">p1: P</text><text fill=\"#000000\" font-family=\"sans-serif\" font-size=\"11\" lengthAdjust=\"spacingAndGlyphs\" textLength=\"38\" x=\"270\" y=\"122.7573\">p2: ~P</text><line style=\"stroke: #383838; stroke-width: 1.0;\" x1=\"265\" x2=\"304\" y1=\"93.3398\" y2=\"93.3398\"/><text fill=\"#000000\" font-family=\"sans-serif\" font-size=\"11\" lengthAdjust=\"spacingAndGlyphs\" textLength=\"30\" x=\"304\" y=\"96.6479\">ports</text><line style=\"stroke: #383838; stroke-width: 1.0;\" x1=\"334\" x2=\"373\" y1=\"93.3398\" y2=\"93.3398\"/></a><!--MD5=[fd4143e9d270a159db93a4ea2a975926]\n",
       "class E9--><a href=\"psysml:21ca298b-43fb-4a5a-8828-d457e715a9a7\" target=\"_top\" title=\"psysml:21ca298b-43fb-4a5a-8828-d457e715a9a7\" xlink:actuate=\"onRequest\" xlink:href=\"psysml:21ca298b-43fb-4a5a-8828-d457e715a9a7\" xlink:show=\"new\" xlink:title=\"psysml:21ca298b-43fb-4a5a-8828-d457e715a9a7\" xlink:type=\"simple\"><rect fill=\"#FFFFFF\" height=\"88.3516\" id=\"E9\" style=\"stroke: #383838; stroke-width: 1.5;\" width=\"96\" x=\"133\" y=\"41\"/><text fill=\"#000000\" font-family=\"sans-serif\" font-size=\"12\" font-style=\"italic\" lengthAdjust=\"spacingAndGlyphs\" textLength=\"94\" x=\"134\" y=\"57.1387\">«interface def»</text><text fill=\"#000000\" font-family=\"sans-serif\" font-size=\"12\" lengthAdjust=\"spacingAndGlyphs\" textLength=\"3\" x=\"179.5\" y=\"71.1074\">I</text><line style=\"stroke: #383838; stroke-width: 1.5;\" x1=\"134\" x2=\"228\" y1=\"78.9375\" y2=\"78.9375\"/><text fill=\"#000000\" font-family=\"sans-serif\" font-size=\"11\" lengthAdjust=\"spacingAndGlyphs\" textLength=\"29\" x=\"139\" y=\"109.9526\">p1: P</text><text fill=\"#000000\" font-family=\"sans-serif\" font-size=\"11\" lengthAdjust=\"spacingAndGlyphs\" textLength=\"38\" x=\"139\" y=\"122.7573\">p2: ~P</text><line style=\"stroke: #383838; stroke-width: 1.0;\" x1=\"134\" x2=\"166\" y1=\"93.3398\" y2=\"93.3398\"/><text fill=\"#000000\" font-family=\"sans-serif\" font-size=\"11\" lengthAdjust=\"spacingAndGlyphs\" textLength=\"30\" x=\"166\" y=\"96.6479\">ports</text><line style=\"stroke: #383838; stroke-width: 1.0;\" x1=\"196\" x2=\"228\" y1=\"93.3398\" y2=\"93.3398\"/></a><!--MD5=[49a0ec8f00dab7302a31f22d0f0fe584]\n",
       "class E12--><a href=\"psysml:805f8ddd-ca4a-414c-92f1-ea459766cc23\" target=\"_top\" title=\"psysml:805f8ddd-ca4a-414c-92f1-ea459766cc23\" xlink:actuate=\"onRequest\" xlink:href=\"psysml:805f8ddd-ca4a-414c-92f1-ea459766cc23\" xlink:show=\"new\" xlink:title=\"psysml:805f8ddd-ca4a-414c-92f1-ea459766cc23\" xlink:type=\"simple\"><rect fill=\"#FFFFFF\" height=\"45.9375\" id=\"E12\" style=\"stroke: #383838; stroke-width: 1.5;\" width=\"66\" x=\"32\" y=\"62\"/><text fill=\"#000000\" font-family=\"sans-serif\" font-size=\"12\" font-style=\"italic\" lengthAdjust=\"spacingAndGlyphs\" textLength=\"64\" x=\"33\" y=\"78.1387\">«part def»</text><text fill=\"#000000\" font-family=\"sans-serif\" font-size=\"12\" lengthAdjust=\"spacingAndGlyphs\" textLength=\"16\" x=\"57\" y=\"92.1074\">B1</text><line style=\"stroke: #383838; stroke-width: 1.5;\" x1=\"33\" x2=\"97\" y1=\"99.9375\" y2=\"99.9375\"/></a><!--MD5=[ee3c913d1a06f366521f9ef512b67efe]\n",
       "class E13--><a href=\"psysml:072097f8-3b46-444f-b0fb-f8fd70c894a4\" target=\"_top\" title=\"psysml:072097f8-3b46-444f-b0fb-f8fd70c894a4\" xlink:actuate=\"onRequest\" xlink:href=\"psysml:072097f8-3b46-444f-b0fb-f8fd70c894a4\" xlink:show=\"new\" xlink:title=\"psysml:072097f8-3b46-444f-b0fb-f8fd70c894a4\" xlink:type=\"simple\"><rect fill=\"#FFFFFF\" height=\"88.3516\" id=\"E13\" rx=\"10\" ry=\"10\" style=\"stroke: #383838; stroke-width: 1.5;\" width=\"50\" x=\"40\" y=\"189\"/><text fill=\"#000000\" font-family=\"sans-serif\" font-size=\"12\" font-style=\"italic\" lengthAdjust=\"spacingAndGlyphs\" textLength=\"40\" x=\"45\" y=\"205.1387\">«part»</text><text fill=\"#000000\" font-family=\"sans-serif\" font-size=\"12\" lengthAdjust=\"spacingAndGlyphs\" textLength=\"8\" x=\"61\" y=\"219.1074\">p</text><line style=\"stroke: #383838; stroke-width: 1.5;\" x1=\"41\" x2=\"89\" y1=\"226.9375\" y2=\"226.9375\"/><text fill=\"#000000\" font-family=\"sans-serif\" font-size=\"11\" lengthAdjust=\"spacingAndGlyphs\" textLength=\"29\" x=\"46\" y=\"257.9526\">p1: P</text><text fill=\"#000000\" font-family=\"sans-serif\" font-size=\"11\" lengthAdjust=\"spacingAndGlyphs\" textLength=\"38\" x=\"46\" y=\"270.7573\">p2: ~P</text><line style=\"stroke: #383838; stroke-width: 1.0;\" x1=\"41\" x2=\"50\" y1=\"241.3398\" y2=\"241.3398\"/><text fill=\"#000000\" font-family=\"sans-serif\" font-size=\"11\" lengthAdjust=\"spacingAndGlyphs\" textLength=\"30\" x=\"50\" y=\"244.6479\">ports</text><line style=\"stroke: #383838; stroke-width: 1.0;\" x1=\"80\" x2=\"89\" y1=\"241.3398\" y2=\"241.3398\"/></a><!--MD5=[062ed86c389d1a88f61c6380d0491e17]\n",
       "reverse link E12 to E13--><a href=\"psysml:072097f8-3b46-444f-b0fb-f8fd70c894a4\" target=\"_top\" title=\"psysml:072097f8-3b46-444f-b0fb-f8fd70c894a4\" xlink:actuate=\"onRequest\" xlink:href=\"psysml:072097f8-3b46-444f-b0fb-f8fd70c894a4\" xlink:show=\"new\" xlink:title=\"psysml:072097f8-3b46-444f-b0fb-f8fd70c894a4\" xlink:type=\"simple\"><path d=\"M65,121.25 C65,141.54 65,167.2 65,188.71 \" fill=\"none\" id=\"E12&lt;-E13\" style=\"stroke: #383838; stroke-width: 1.0;\"/><polygon fill=\"#383838\" points=\"65,108.17,61,114.17,65,120.17,69,114.17,65,108.17\" style=\"stroke: #383838; stroke-width: 1.0;\"/></a><!--MD5=[693d292e76483f448b495336bb4f77a1]\n",
       "@startuml\r\n",
       "skinparam linetype polyline\r\n",
       "skinparam monochrome true\r\n",
       "skinparam classbackgroundcolor white\r\n",
       "skinparam shadowing false\r\n",
       "skinparam wrapWidth 300\r\n",
       "hide circle\r\n",
       "\r\n",
       "package \"ConjugationTest\" as E1  [[psysml:34192d11-634f-45f2-bc4e-1f94e63724b0 ]]  {\r\n",
       "comp def \"P\" as E2  <<(T,blue)port def>> [[psysml:c663f064-4c04-4527-821b-19ee83969177 ]] {\r\n",
       "}\r\n",
       "comp def \"B\" as E3  <<(T,blue)part def>> [[psysml:e064966f-e96c-463a-b744-2c95fe6cd8a1 ]] {\r\n",
       "- - ports - -\r\n",
       "p1: P\r\n",
       "p2: ~P\r\n",
       "}\r\n",
       "comp def \"A\" as E6  <<(T,blue)connection def>> [[psysml:005e78a8-b799-41cc-8c3e-bd1642b3bc90 ]] {\r\n",
       "- - ports - -\r\n",
       "p1: P\r\n",
       "p2: ~P\r\n",
       "}\r\n",
       "comp def \"I\" as E9  <<(T,blue)interface def>> [[psysml:21ca298b-43fb-4a5a-8828-d457e715a9a7 ]] {\r\n",
       "- - ports - -\r\n",
       "p1: P\r\n",
       "p2: ~P\r\n",
       "}\r\n",
       "comp def \"B1\" as E12  <<(T,blue)part def>> [[psysml:805f8ddd-ca4a-414c-92f1-ea459766cc23 ]] {\r\n",
       "}\r\n",
       "comp usage \"p\" as E13  <<(T,blue)part>> [[psysml:072097f8-3b46-444f-b0fb-f8fd70c894a4 ]] {\r\n",
       "- - ports - -\r\n",
       "p1: P\r\n",
       "p2: ~P\r\n",
       "}\r\n",
       "E12 *- - E13 [[psysml:072097f8-3b46-444f-b0fb-f8fd70c894a4 ]] \r\n",
       "}\r\n",
       "@enduml\r\n",
       "\n",
       "PlantUML version 1.2020.13(Sat Jun 13 12:26:38 UTC 2020)\n",
       "(EPL source distribution)\n",
       "Java Runtime: OpenJDK Runtime Environment\n",
       "JVM: OpenJDK 64-Bit Server VM\n",
       "Default Encoding: UTF-8\n",
       "Language: en\n",
       "Country: null\n",
       "--></g></svg>"
      ]
     },
     "execution_count": 14,
     "metadata": {},
     "output_type": "execute_result"
    }
   ],
   "source": [
    "%viz --style=\"POLYLINE\" --view=\"Sequence\" \"ConjugationTest\""
   ]
  },
  {
   "cell_type": "code",
   "execution_count": 15,
   "id": "ignored-movie",
   "metadata": {
    "execution": {
     "iopub.execute_input": "2021-03-25T15:03:55.374482Z",
     "iopub.status.busy": "2021-03-25T15:03:55.374015Z",
     "iopub.status.idle": "2021-03-25T15:03:56.083814Z",
     "shell.execute_reply": "2021-03-25T15:03:56.082422Z"
    }
   },
   "outputs": [
    {
     "data": {
      "image/svg+xml": [
       "<?xml version=\"1.0\" encoding=\"UTF-8\" standalone=\"no\"?><svg xmlns=\"http://www.w3.org/2000/svg\" xmlns:xlink=\"http://www.w3.org/1999/xlink\" contentScriptType=\"application/ecmascript\" contentStyleType=\"text/css\" height=\"305px\" preserveAspectRatio=\"none\" style=\"width:614px;height:305px;\" version=\"1.1\" viewBox=\"0 0 614 305\" width=\"614px\" zoomAndPan=\"magnify\"><defs/><g><!--MD5=[fbc87193dbaf4d95561dea2c320d4a47]\n",
       "cluster E1--><a href=\"psysml:34192d11-634f-45f2-bc4e-1f94e63724b0\" target=\"_top\" title=\"psysml:34192d11-634f-45f2-bc4e-1f94e63724b0\" xlink:actuate=\"onRequest\" xlink:href=\"psysml:34192d11-634f-45f2-bc4e-1f94e63724b0\" xlink:show=\"new\" xlink:title=\"psysml:34192d11-634f-45f2-bc4e-1f94e63724b0\" xlink:type=\"simple\"><polygon fill=\"#FFFFFF\" points=\"16,6,151,6,158,28.2969,592,28.2969,592,293,16,293,16,6\" style=\"stroke: #000000; stroke-width: 1.5;\"/><line style=\"stroke: #000000; stroke-width: 1.5;\" x1=\"16\" x2=\"158\" y1=\"28.2969\" y2=\"28.2969\"/><text fill=\"#000000\" font-family=\"sans-serif\" font-size=\"14\" font-weight=\"bold\" lengthAdjust=\"spacingAndGlyphs\" textLength=\"129\" x=\"20\" y=\"20.9951\">ConjugationTest</text></a><!--MD5=[b4997ac47864f28c2f74865a473b2911]\n",
       "class E2--><a href=\"psysml:c663f064-4c04-4527-821b-19ee83969177\" target=\"_top\" title=\"psysml:c663f064-4c04-4527-821b-19ee83969177\" xlink:actuate=\"onRequest\" xlink:href=\"psysml:c663f064-4c04-4527-821b-19ee83969177\" xlink:show=\"new\" xlink:title=\"psysml:c663f064-4c04-4527-821b-19ee83969177\" xlink:type=\"simple\"><rect fill=\"#FFFFFF\" height=\"45.9375\" id=\"E2\" style=\"stroke: #383838; stroke-width: 1.5;\" width=\"66\" x=\"510\" y=\"62\"/><text fill=\"#000000\" font-family=\"sans-serif\" font-size=\"12\" font-style=\"italic\" lengthAdjust=\"spacingAndGlyphs\" textLength=\"64\" x=\"511\" y=\"78.1387\">«port def»</text><text fill=\"#000000\" font-family=\"sans-serif\" font-size=\"12\" lengthAdjust=\"spacingAndGlyphs\" textLength=\"8\" x=\"539\" y=\"92.1074\">P</text><line style=\"stroke: #383838; stroke-width: 1.5;\" x1=\"511\" x2=\"575\" y1=\"99.9375\" y2=\"99.9375\"/></a><!--MD5=[09b614a08d8cba4a07c9adeb5e0fee81]\n",
       "class E3--><a href=\"psysml:e064966f-e96c-463a-b744-2c95fe6cd8a1\" target=\"_top\" title=\"psysml:e064966f-e96c-463a-b744-2c95fe6cd8a1\" xlink:actuate=\"onRequest\" xlink:href=\"psysml:e064966f-e96c-463a-b744-2c95fe6cd8a1\" xlink:show=\"new\" xlink:title=\"psysml:e064966f-e96c-463a-b744-2c95fe6cd8a1\" xlink:type=\"simple\"><rect fill=\"#FFFFFF\" height=\"88.3516\" id=\"E3\" style=\"stroke: #383838; stroke-width: 1.5;\" width=\"66\" x=\"409\" y=\"41\"/><text fill=\"#000000\" font-family=\"sans-serif\" font-size=\"12\" font-style=\"italic\" lengthAdjust=\"spacingAndGlyphs\" textLength=\"64\" x=\"410\" y=\"57.1387\">«part def»</text><text fill=\"#000000\" font-family=\"sans-serif\" font-size=\"12\" lengthAdjust=\"spacingAndGlyphs\" textLength=\"8\" x=\"438\" y=\"71.1074\">B</text><line style=\"stroke: #383838; stroke-width: 1.5;\" x1=\"410\" x2=\"474\" y1=\"78.9375\" y2=\"78.9375\"/><text fill=\"#000000\" font-family=\"sans-serif\" font-size=\"11\" lengthAdjust=\"spacingAndGlyphs\" textLength=\"29\" x=\"415\" y=\"109.9526\">p1: P</text><text fill=\"#000000\" font-family=\"sans-serif\" font-size=\"11\" lengthAdjust=\"spacingAndGlyphs\" textLength=\"38\" x=\"415\" y=\"122.7573\">p2: ~P</text><line style=\"stroke: #383838; stroke-width: 1.0;\" x1=\"410\" x2=\"427\" y1=\"93.3398\" y2=\"93.3398\"/><text fill=\"#000000\" font-family=\"sans-serif\" font-size=\"11\" lengthAdjust=\"spacingAndGlyphs\" textLength=\"30\" x=\"427\" y=\"96.6479\">ports</text><line style=\"stroke: #383838; stroke-width: 1.0;\" x1=\"457\" x2=\"474\" y1=\"93.3398\" y2=\"93.3398\"/></a><!--MD5=[60a26617385b1d2d0262a64233df1f8d]\n",
       "class E6--><a href=\"psysml:005e78a8-b799-41cc-8c3e-bd1642b3bc90\" target=\"_top\" title=\"psysml:005e78a8-b799-41cc-8c3e-bd1642b3bc90\" xlink:actuate=\"onRequest\" xlink:href=\"psysml:005e78a8-b799-41cc-8c3e-bd1642b3bc90\" xlink:show=\"new\" xlink:title=\"psysml:005e78a8-b799-41cc-8c3e-bd1642b3bc90\" xlink:type=\"simple\"><rect fill=\"#FFFFFF\" height=\"88.3516\" id=\"E6\" style=\"stroke: #383838; stroke-width: 1.5;\" width=\"110\" x=\"264\" y=\"41\"/><text fill=\"#000000\" font-family=\"sans-serif\" font-size=\"12\" font-style=\"italic\" lengthAdjust=\"spacingAndGlyphs\" textLength=\"108\" x=\"265\" y=\"57.1387\">«connection def»</text><text fill=\"#000000\" font-family=\"sans-serif\" font-size=\"12\" lengthAdjust=\"spacingAndGlyphs\" textLength=\"8\" x=\"315\" y=\"71.1074\">A</text><line style=\"stroke: #383838; stroke-width: 1.5;\" x1=\"265\" x2=\"373\" y1=\"78.9375\" y2=\"78.9375\"/><text fill=\"#000000\" font-family=\"sans-serif\" font-size=\"11\" lengthAdjust=\"spacingAndGlyphs\" textLength=\"29\" x=\"270\" y=\"109.9526\">p1: P</text><text fill=\"#000000\" font-family=\"sans-serif\" font-size=\"11\" lengthAdjust=\"spacingAndGlyphs\" textLength=\"38\" x=\"270\" y=\"122.7573\">p2: ~P</text><line style=\"stroke: #383838; stroke-width: 1.0;\" x1=\"265\" x2=\"304\" y1=\"93.3398\" y2=\"93.3398\"/><text fill=\"#000000\" font-family=\"sans-serif\" font-size=\"11\" lengthAdjust=\"spacingAndGlyphs\" textLength=\"30\" x=\"304\" y=\"96.6479\">ports</text><line style=\"stroke: #383838; stroke-width: 1.0;\" x1=\"334\" x2=\"373\" y1=\"93.3398\" y2=\"93.3398\"/></a><!--MD5=[fd4143e9d270a159db93a4ea2a975926]\n",
       "class E9--><a href=\"psysml:21ca298b-43fb-4a5a-8828-d457e715a9a7\" target=\"_top\" title=\"psysml:21ca298b-43fb-4a5a-8828-d457e715a9a7\" xlink:actuate=\"onRequest\" xlink:href=\"psysml:21ca298b-43fb-4a5a-8828-d457e715a9a7\" xlink:show=\"new\" xlink:title=\"psysml:21ca298b-43fb-4a5a-8828-d457e715a9a7\" xlink:type=\"simple\"><rect fill=\"#FFFFFF\" height=\"88.3516\" id=\"E9\" style=\"stroke: #383838; stroke-width: 1.5;\" width=\"96\" x=\"133\" y=\"41\"/><text fill=\"#000000\" font-family=\"sans-serif\" font-size=\"12\" font-style=\"italic\" lengthAdjust=\"spacingAndGlyphs\" textLength=\"94\" x=\"134\" y=\"57.1387\">«interface def»</text><text fill=\"#000000\" font-family=\"sans-serif\" font-size=\"12\" lengthAdjust=\"spacingAndGlyphs\" textLength=\"3\" x=\"179.5\" y=\"71.1074\">I</text><line style=\"stroke: #383838; stroke-width: 1.5;\" x1=\"134\" x2=\"228\" y1=\"78.9375\" y2=\"78.9375\"/><text fill=\"#000000\" font-family=\"sans-serif\" font-size=\"11\" lengthAdjust=\"spacingAndGlyphs\" textLength=\"29\" x=\"139\" y=\"109.9526\">p1: P</text><text fill=\"#000000\" font-family=\"sans-serif\" font-size=\"11\" lengthAdjust=\"spacingAndGlyphs\" textLength=\"38\" x=\"139\" y=\"122.7573\">p2: ~P</text><line style=\"stroke: #383838; stroke-width: 1.0;\" x1=\"134\" x2=\"166\" y1=\"93.3398\" y2=\"93.3398\"/><text fill=\"#000000\" font-family=\"sans-serif\" font-size=\"11\" lengthAdjust=\"spacingAndGlyphs\" textLength=\"30\" x=\"166\" y=\"96.6479\">ports</text><line style=\"stroke: #383838; stroke-width: 1.0;\" x1=\"196\" x2=\"228\" y1=\"93.3398\" y2=\"93.3398\"/></a><!--MD5=[49a0ec8f00dab7302a31f22d0f0fe584]\n",
       "class E12--><a href=\"psysml:805f8ddd-ca4a-414c-92f1-ea459766cc23\" target=\"_top\" title=\"psysml:805f8ddd-ca4a-414c-92f1-ea459766cc23\" xlink:actuate=\"onRequest\" xlink:href=\"psysml:805f8ddd-ca4a-414c-92f1-ea459766cc23\" xlink:show=\"new\" xlink:title=\"psysml:805f8ddd-ca4a-414c-92f1-ea459766cc23\" xlink:type=\"simple\"><rect fill=\"#FFFFFF\" height=\"45.9375\" id=\"E12\" style=\"stroke: #383838; stroke-width: 1.5;\" width=\"66\" x=\"32\" y=\"62\"/><text fill=\"#000000\" font-family=\"sans-serif\" font-size=\"12\" font-style=\"italic\" lengthAdjust=\"spacingAndGlyphs\" textLength=\"64\" x=\"33\" y=\"78.1387\">«part def»</text><text fill=\"#000000\" font-family=\"sans-serif\" font-size=\"12\" lengthAdjust=\"spacingAndGlyphs\" textLength=\"16\" x=\"57\" y=\"92.1074\">B1</text><line style=\"stroke: #383838; stroke-width: 1.5;\" x1=\"33\" x2=\"97\" y1=\"99.9375\" y2=\"99.9375\"/></a><!--MD5=[ee3c913d1a06f366521f9ef512b67efe]\n",
       "class E13--><a href=\"psysml:072097f8-3b46-444f-b0fb-f8fd70c894a4\" target=\"_top\" title=\"psysml:072097f8-3b46-444f-b0fb-f8fd70c894a4\" xlink:actuate=\"onRequest\" xlink:href=\"psysml:072097f8-3b46-444f-b0fb-f8fd70c894a4\" xlink:show=\"new\" xlink:title=\"psysml:072097f8-3b46-444f-b0fb-f8fd70c894a4\" xlink:type=\"simple\"><rect fill=\"#FFFFFF\" height=\"88.3516\" id=\"E13\" rx=\"10\" ry=\"10\" style=\"stroke: #383838; stroke-width: 1.5;\" width=\"50\" x=\"40\" y=\"189\"/><text fill=\"#000000\" font-family=\"sans-serif\" font-size=\"12\" font-style=\"italic\" lengthAdjust=\"spacingAndGlyphs\" textLength=\"40\" x=\"45\" y=\"205.1387\">«part»</text><text fill=\"#000000\" font-family=\"sans-serif\" font-size=\"12\" lengthAdjust=\"spacingAndGlyphs\" textLength=\"8\" x=\"61\" y=\"219.1074\">p</text><line style=\"stroke: #383838; stroke-width: 1.5;\" x1=\"41\" x2=\"89\" y1=\"226.9375\" y2=\"226.9375\"/><text fill=\"#000000\" font-family=\"sans-serif\" font-size=\"11\" lengthAdjust=\"spacingAndGlyphs\" textLength=\"29\" x=\"46\" y=\"257.9526\">p1: P</text><text fill=\"#000000\" font-family=\"sans-serif\" font-size=\"11\" lengthAdjust=\"spacingAndGlyphs\" textLength=\"38\" x=\"46\" y=\"270.7573\">p2: ~P</text><line style=\"stroke: #383838; stroke-width: 1.0;\" x1=\"41\" x2=\"50\" y1=\"241.3398\" y2=\"241.3398\"/><text fill=\"#000000\" font-family=\"sans-serif\" font-size=\"11\" lengthAdjust=\"spacingAndGlyphs\" textLength=\"30\" x=\"50\" y=\"244.6479\">ports</text><line style=\"stroke: #383838; stroke-width: 1.0;\" x1=\"80\" x2=\"89\" y1=\"241.3398\" y2=\"241.3398\"/></a><!--MD5=[062ed86c389d1a88f61c6380d0491e17]\n",
       "reverse link E12 to E13--><a href=\"psysml:072097f8-3b46-444f-b0fb-f8fd70c894a4\" target=\"_top\" title=\"psysml:072097f8-3b46-444f-b0fb-f8fd70c894a4\" xlink:actuate=\"onRequest\" xlink:href=\"psysml:072097f8-3b46-444f-b0fb-f8fd70c894a4\" xlink:show=\"new\" xlink:title=\"psysml:072097f8-3b46-444f-b0fb-f8fd70c894a4\" xlink:type=\"simple\"><path d=\"M65,121.25 C65,141.54 65,167.2 65,188.71 \" fill=\"none\" id=\"E12&lt;-E13\" style=\"stroke: #383838; stroke-width: 1.0;\"/><polygon fill=\"#383838\" points=\"65,108.17,61,114.17,65,120.17,69,114.17,65,108.17\" style=\"stroke: #383838; stroke-width: 1.0;\"/></a><!--MD5=[693d292e76483f448b495336bb4f77a1]\n",
       "@startuml\r\n",
       "skinparam linetype polyline\r\n",
       "skinparam monochrome true\r\n",
       "skinparam classbackgroundcolor white\r\n",
       "skinparam shadowing false\r\n",
       "skinparam wrapWidth 300\r\n",
       "hide circle\r\n",
       "\r\n",
       "package \"ConjugationTest\" as E1  [[psysml:34192d11-634f-45f2-bc4e-1f94e63724b0 ]]  {\r\n",
       "comp def \"P\" as E2  <<(T,blue)port def>> [[psysml:c663f064-4c04-4527-821b-19ee83969177 ]] {\r\n",
       "}\r\n",
       "comp def \"B\" as E3  <<(T,blue)part def>> [[psysml:e064966f-e96c-463a-b744-2c95fe6cd8a1 ]] {\r\n",
       "- - ports - -\r\n",
       "p1: P\r\n",
       "p2: ~P\r\n",
       "}\r\n",
       "comp def \"A\" as E6  <<(T,blue)connection def>> [[psysml:005e78a8-b799-41cc-8c3e-bd1642b3bc90 ]] {\r\n",
       "- - ports - -\r\n",
       "p1: P\r\n",
       "p2: ~P\r\n",
       "}\r\n",
       "comp def \"I\" as E9  <<(T,blue)interface def>> [[psysml:21ca298b-43fb-4a5a-8828-d457e715a9a7 ]] {\r\n",
       "- - ports - -\r\n",
       "p1: P\r\n",
       "p2: ~P\r\n",
       "}\r\n",
       "comp def \"B1\" as E12  <<(T,blue)part def>> [[psysml:805f8ddd-ca4a-414c-92f1-ea459766cc23 ]] {\r\n",
       "}\r\n",
       "comp usage \"p\" as E13  <<(T,blue)part>> [[psysml:072097f8-3b46-444f-b0fb-f8fd70c894a4 ]] {\r\n",
       "- - ports - -\r\n",
       "p1: P\r\n",
       "p2: ~P\r\n",
       "}\r\n",
       "E12 *- - E13 [[psysml:072097f8-3b46-444f-b0fb-f8fd70c894a4 ]] \r\n",
       "}\r\n",
       "@enduml\r\n",
       "\n",
       "PlantUML version 1.2020.13(Sat Jun 13 12:26:38 UTC 2020)\n",
       "(EPL source distribution)\n",
       "Java Runtime: OpenJDK Runtime Environment\n",
       "JVM: OpenJDK 64-Bit Server VM\n",
       "Default Encoding: UTF-8\n",
       "Language: en\n",
       "Country: null\n",
       "--></g></svg>"
      ]
     },
     "execution_count": 15,
     "metadata": {},
     "output_type": "execute_result"
    }
   ],
   "source": [
    "%viz --style=\"POLYLINE\" --view=\"MIXED\" \"ConjugationTest\""
   ]
  },
  {
   "cell_type": "code",
   "execution_count": 16,
   "id": "finished-jacket",
   "metadata": {
    "execution": {
     "iopub.execute_input": "2021-03-25T15:03:56.135174Z",
     "iopub.status.busy": "2021-03-25T15:03:56.134590Z",
     "iopub.status.idle": "2021-03-25T15:03:56.860686Z",
     "shell.execute_reply": "2021-03-25T15:03:56.860250Z"
    }
   },
   "outputs": [
    {
     "data": {
      "image/svg+xml": [
       "<?xml version=\"1.0\" encoding=\"UTF-8\" standalone=\"no\"?><svg xmlns=\"http://www.w3.org/2000/svg\" xmlns:xlink=\"http://www.w3.org/1999/xlink\" contentScriptType=\"application/ecmascript\" contentStyleType=\"text/css\" height=\"565px\" preserveAspectRatio=\"none\" style=\"width:290px;height:565px;\" version=\"1.1\" viewBox=\"0 0 290 565\" width=\"290px\" zoomAndPan=\"magnify\"><defs/><g><!--MD5=[fbc87193dbaf4d95561dea2c320d4a47]\n",
       "cluster E1--><a href=\"psysml:34192d11-634f-45f2-bc4e-1f94e63724b0\" target=\"_top\" title=\"psysml:34192d11-634f-45f2-bc4e-1f94e63724b0\" xlink:actuate=\"onRequest\" xlink:href=\"psysml:34192d11-634f-45f2-bc4e-1f94e63724b0\" xlink:show=\"new\" xlink:title=\"psysml:34192d11-634f-45f2-bc4e-1f94e63724b0\" xlink:type=\"simple\"><polygon fill=\"#FFFFFF\" points=\"16,6,151,6,158,28.2969,268,28.2969,268,553,16,553,16,6\" style=\"stroke: #000000; stroke-width: 1.5;\"/><line style=\"stroke: #000000; stroke-width: 1.5;\" x1=\"16\" x2=\"158\" y1=\"28.2969\" y2=\"28.2969\"/><text fill=\"#000000\" font-family=\"sans-serif\" font-size=\"14\" font-weight=\"bold\" lengthAdjust=\"spacingAndGlyphs\" textLength=\"129\" x=\"20\" y=\"20.9951\">ConjugationTest</text></a><!--MD5=[b4997ac47864f28c2f74865a473b2911]\n",
       "class E2--><a href=\"psysml:c663f064-4c04-4527-821b-19ee83969177\" target=\"_top\" title=\"psysml:c663f064-4c04-4527-821b-19ee83969177\" xlink:actuate=\"onRequest\" xlink:href=\"psysml:c663f064-4c04-4527-821b-19ee83969177\" xlink:show=\"new\" xlink:title=\"psysml:c663f064-4c04-4527-821b-19ee83969177\" xlink:type=\"simple\"><rect fill=\"#FFFFFF\" height=\"45.9375\" id=\"E2\" style=\"stroke: #383838; stroke-width: 1.5;\" width=\"66\" x=\"54\" y=\"41\"/><text fill=\"#000000\" font-family=\"sans-serif\" font-size=\"12\" font-style=\"italic\" lengthAdjust=\"spacingAndGlyphs\" textLength=\"64\" x=\"55\" y=\"57.1387\">«port def»</text><text fill=\"#000000\" font-family=\"sans-serif\" font-size=\"12\" lengthAdjust=\"spacingAndGlyphs\" textLength=\"8\" x=\"83\" y=\"71.1074\">P</text><line style=\"stroke: #383838; stroke-width: 1.5;\" x1=\"55\" x2=\"119\" y1=\"78.9375\" y2=\"78.9375\"/></a><!--MD5=[09b614a08d8cba4a07c9adeb5e0fee81]\n",
       "class E3--><a href=\"psysml:e064966f-e96c-463a-b744-2c95fe6cd8a1\" target=\"_top\" title=\"psysml:e064966f-e96c-463a-b744-2c95fe6cd8a1\" xlink:actuate=\"onRequest\" xlink:href=\"psysml:e064966f-e96c-463a-b744-2c95fe6cd8a1\" xlink:show=\"new\" xlink:title=\"psysml:e064966f-e96c-463a-b744-2c95fe6cd8a1\" xlink:type=\"simple\"><rect fill=\"#FFFFFF\" height=\"88.3516\" id=\"E3\" style=\"stroke: #383838; stroke-width: 1.5;\" width=\"66\" x=\"54\" y=\"122\"/><text fill=\"#000000\" font-family=\"sans-serif\" font-size=\"12\" font-style=\"italic\" lengthAdjust=\"spacingAndGlyphs\" textLength=\"64\" x=\"55\" y=\"138.1387\">«part def»</text><text fill=\"#000000\" font-family=\"sans-serif\" font-size=\"12\" lengthAdjust=\"spacingAndGlyphs\" textLength=\"8\" x=\"83\" y=\"152.1074\">B</text><line style=\"stroke: #383838; stroke-width: 1.5;\" x1=\"55\" x2=\"119\" y1=\"159.9375\" y2=\"159.9375\"/><text fill=\"#000000\" font-family=\"sans-serif\" font-size=\"11\" lengthAdjust=\"spacingAndGlyphs\" textLength=\"29\" x=\"60\" y=\"190.9526\">p1: P</text><text fill=\"#000000\" font-family=\"sans-serif\" font-size=\"11\" lengthAdjust=\"spacingAndGlyphs\" textLength=\"38\" x=\"60\" y=\"203.7573\">p2: ~P</text><line style=\"stroke: #383838; stroke-width: 1.0;\" x1=\"55\" x2=\"72\" y1=\"174.3398\" y2=\"174.3398\"/><text fill=\"#000000\" font-family=\"sans-serif\" font-size=\"11\" lengthAdjust=\"spacingAndGlyphs\" textLength=\"30\" x=\"72\" y=\"177.6479\">ports</text><line style=\"stroke: #383838; stroke-width: 1.0;\" x1=\"102\" x2=\"119\" y1=\"174.3398\" y2=\"174.3398\"/></a><!--MD5=[60a26617385b1d2d0262a64233df1f8d]\n",
       "class E6--><a href=\"psysml:005e78a8-b799-41cc-8c3e-bd1642b3bc90\" target=\"_top\" title=\"psysml:005e78a8-b799-41cc-8c3e-bd1642b3bc90\" xlink:actuate=\"onRequest\" xlink:href=\"psysml:005e78a8-b799-41cc-8c3e-bd1642b3bc90\" xlink:show=\"new\" xlink:title=\"psysml:005e78a8-b799-41cc-8c3e-bd1642b3bc90\" xlink:type=\"simple\"><rect fill=\"#FFFFFF\" height=\"88.3516\" id=\"E6\" style=\"stroke: #383838; stroke-width: 1.5;\" width=\"110\" x=\"32\" y=\"245\"/><text fill=\"#000000\" font-family=\"sans-serif\" font-size=\"12\" font-style=\"italic\" lengthAdjust=\"spacingAndGlyphs\" textLength=\"108\" x=\"33\" y=\"261.1387\">«connection def»</text><text fill=\"#000000\" font-family=\"sans-serif\" font-size=\"12\" lengthAdjust=\"spacingAndGlyphs\" textLength=\"8\" x=\"83\" y=\"275.1074\">A</text><line style=\"stroke: #383838; stroke-width: 1.5;\" x1=\"33\" x2=\"141\" y1=\"282.9375\" y2=\"282.9375\"/><text fill=\"#000000\" font-family=\"sans-serif\" font-size=\"11\" lengthAdjust=\"spacingAndGlyphs\" textLength=\"29\" x=\"38\" y=\"313.9526\">p1: P</text><text fill=\"#000000\" font-family=\"sans-serif\" font-size=\"11\" lengthAdjust=\"spacingAndGlyphs\" textLength=\"38\" x=\"38\" y=\"326.7573\">p2: ~P</text><line style=\"stroke: #383838; stroke-width: 1.0;\" x1=\"33\" x2=\"72\" y1=\"297.3398\" y2=\"297.3398\"/><text fill=\"#000000\" font-family=\"sans-serif\" font-size=\"11\" lengthAdjust=\"spacingAndGlyphs\" textLength=\"30\" x=\"72\" y=\"300.6479\">ports</text><line style=\"stroke: #383838; stroke-width: 1.0;\" x1=\"102\" x2=\"141\" y1=\"297.3398\" y2=\"297.3398\"/></a><!--MD5=[fd4143e9d270a159db93a4ea2a975926]\n",
       "class E9--><a href=\"psysml:21ca298b-43fb-4a5a-8828-d457e715a9a7\" target=\"_top\" title=\"psysml:21ca298b-43fb-4a5a-8828-d457e715a9a7\" xlink:actuate=\"onRequest\" xlink:href=\"psysml:21ca298b-43fb-4a5a-8828-d457e715a9a7\" xlink:show=\"new\" xlink:title=\"psysml:21ca298b-43fb-4a5a-8828-d457e715a9a7\" xlink:type=\"simple\"><rect fill=\"#FFFFFF\" height=\"88.3516\" id=\"E9\" style=\"stroke: #383838; stroke-width: 1.5;\" width=\"96\" x=\"39\" y=\"368\"/><text fill=\"#000000\" font-family=\"sans-serif\" font-size=\"12\" font-style=\"italic\" lengthAdjust=\"spacingAndGlyphs\" textLength=\"94\" x=\"40\" y=\"384.1387\">«interface def»</text><text fill=\"#000000\" font-family=\"sans-serif\" font-size=\"12\" lengthAdjust=\"spacingAndGlyphs\" textLength=\"3\" x=\"85.5\" y=\"398.1074\">I</text><line style=\"stroke: #383838; stroke-width: 1.5;\" x1=\"40\" x2=\"134\" y1=\"405.9375\" y2=\"405.9375\"/><text fill=\"#000000\" font-family=\"sans-serif\" font-size=\"11\" lengthAdjust=\"spacingAndGlyphs\" textLength=\"29\" x=\"45\" y=\"436.9526\">p1: P</text><text fill=\"#000000\" font-family=\"sans-serif\" font-size=\"11\" lengthAdjust=\"spacingAndGlyphs\" textLength=\"38\" x=\"45\" y=\"449.7573\">p2: ~P</text><line style=\"stroke: #383838; stroke-width: 1.0;\" x1=\"40\" x2=\"72\" y1=\"420.3398\" y2=\"420.3398\"/><text fill=\"#000000\" font-family=\"sans-serif\" font-size=\"11\" lengthAdjust=\"spacingAndGlyphs\" textLength=\"30\" x=\"72\" y=\"423.6479\">ports</text><line style=\"stroke: #383838; stroke-width: 1.0;\" x1=\"102\" x2=\"134\" y1=\"420.3398\" y2=\"420.3398\"/></a><!--MD5=[49a0ec8f00dab7302a31f22d0f0fe584]\n",
       "class E12--><a href=\"psysml:805f8ddd-ca4a-414c-92f1-ea459766cc23\" target=\"_top\" title=\"psysml:805f8ddd-ca4a-414c-92f1-ea459766cc23\" xlink:actuate=\"onRequest\" xlink:href=\"psysml:805f8ddd-ca4a-414c-92f1-ea459766cc23\" xlink:show=\"new\" xlink:title=\"psysml:805f8ddd-ca4a-414c-92f1-ea459766cc23\" xlink:type=\"simple\"><rect fill=\"#FFFFFF\" height=\"45.9375\" id=\"E12\" style=\"stroke: #383838; stroke-width: 1.5;\" width=\"66\" x=\"54\" y=\"491\"/><text fill=\"#000000\" font-family=\"sans-serif\" font-size=\"12\" font-style=\"italic\" lengthAdjust=\"spacingAndGlyphs\" textLength=\"64\" x=\"55\" y=\"507.1387\">«part def»</text><text fill=\"#000000\" font-family=\"sans-serif\" font-size=\"12\" lengthAdjust=\"spacingAndGlyphs\" textLength=\"16\" x=\"79\" y=\"521.1074\">B1</text><line style=\"stroke: #383838; stroke-width: 1.5;\" x1=\"55\" x2=\"119\" y1=\"528.9375\" y2=\"528.9375\"/></a><!--MD5=[ee3c913d1a06f366521f9ef512b67efe]\n",
       "class E13--><a href=\"psysml:072097f8-3b46-444f-b0fb-f8fd70c894a4\" target=\"_top\" title=\"psysml:072097f8-3b46-444f-b0fb-f8fd70c894a4\" xlink:actuate=\"onRequest\" xlink:href=\"psysml:072097f8-3b46-444f-b0fb-f8fd70c894a4\" xlink:show=\"new\" xlink:title=\"psysml:072097f8-3b46-444f-b0fb-f8fd70c894a4\" xlink:type=\"simple\"><rect fill=\"#FFFFFF\" height=\"88.3516\" id=\"E13\" rx=\"10\" ry=\"10\" style=\"stroke: #383838; stroke-width: 1.5;\" width=\"50\" x=\"202\" y=\"449\"/><text fill=\"#000000\" font-family=\"sans-serif\" font-size=\"12\" font-style=\"italic\" lengthAdjust=\"spacingAndGlyphs\" textLength=\"40\" x=\"207\" y=\"465.1387\">«part»</text><text fill=\"#000000\" font-family=\"sans-serif\" font-size=\"12\" lengthAdjust=\"spacingAndGlyphs\" textLength=\"8\" x=\"223\" y=\"479.1074\">p</text><line style=\"stroke: #383838; stroke-width: 1.5;\" x1=\"203\" x2=\"251\" y1=\"486.9375\" y2=\"486.9375\"/><text fill=\"#000000\" font-family=\"sans-serif\" font-size=\"11\" lengthAdjust=\"spacingAndGlyphs\" textLength=\"29\" x=\"208\" y=\"517.9526\">p1: P</text><text fill=\"#000000\" font-family=\"sans-serif\" font-size=\"11\" lengthAdjust=\"spacingAndGlyphs\" textLength=\"38\" x=\"208\" y=\"530.7573\">p2: ~P</text><line style=\"stroke: #383838; stroke-width: 1.0;\" x1=\"203\" x2=\"212\" y1=\"501.3398\" y2=\"501.3398\"/><text fill=\"#000000\" font-family=\"sans-serif\" font-size=\"11\" lengthAdjust=\"spacingAndGlyphs\" textLength=\"30\" x=\"212\" y=\"504.6479\">ports</text><line style=\"stroke: #383838; stroke-width: 1.0;\" x1=\"242\" x2=\"251\" y1=\"501.3398\" y2=\"501.3398\"/></a><!--MD5=[062ed86c389d1a88f61c6380d0491e17]\n",
       "reverse link E12 to E13--><a href=\"psysml:072097f8-3b46-444f-b0fb-f8fd70c894a4\" target=\"_top\" title=\"psysml:072097f8-3b46-444f-b0fb-f8fd70c894a4\" xlink:actuate=\"onRequest\" xlink:href=\"psysml:072097f8-3b46-444f-b0fb-f8fd70c894a4\" xlink:show=\"new\" xlink:title=\"psysml:072097f8-3b46-444f-b0fb-f8fd70c894a4\" xlink:type=\"simple\"><path d=\"M132.96,507.16 C155.92,503.66 182.94,499.55 201.92,496.66 \" fill=\"none\" id=\"E12&lt;-E13\" style=\"stroke: #383838; stroke-width: 1.0;\"/><polygon fill=\"#383838\" points=\"120.01,509.13,126.5441,512.1804,131.873,507.3222,125.3389,504.2717,120.01,509.13\" style=\"stroke: #383838; stroke-width: 1.0;\"/></a><!--MD5=[1837aabccac915faded8405cbecf7c95]\n",
       "@startuml\r\n",
       "left to right direction\r\n",
       "skinparam monochrome true\r\n",
       "skinparam classbackgroundcolor white\r\n",
       "skinparam shadowing false\r\n",
       "skinparam wrapWidth 300\r\n",
       "hide circle\r\n",
       "\r\n",
       "package \"ConjugationTest\" as E1  [[psysml:34192d11-634f-45f2-bc4e-1f94e63724b0 ]]  {\r\n",
       "comp def \"P\" as E2  <<(T,blue)port def>> [[psysml:c663f064-4c04-4527-821b-19ee83969177 ]] {\r\n",
       "}\r\n",
       "comp def \"B\" as E3  <<(T,blue)part def>> [[psysml:e064966f-e96c-463a-b744-2c95fe6cd8a1 ]] {\r\n",
       "- - ports - -\r\n",
       "p1: P\r\n",
       "p2: ~P\r\n",
       "}\r\n",
       "comp def \"A\" as E6  <<(T,blue)connection def>> [[psysml:005e78a8-b799-41cc-8c3e-bd1642b3bc90 ]] {\r\n",
       "- - ports - -\r\n",
       "p1: P\r\n",
       "p2: ~P\r\n",
       "}\r\n",
       "comp def \"I\" as E9  <<(T,blue)interface def>> [[psysml:21ca298b-43fb-4a5a-8828-d457e715a9a7 ]] {\r\n",
       "- - ports - -\r\n",
       "p1: P\r\n",
       "p2: ~P\r\n",
       "}\r\n",
       "comp def \"B1\" as E12  <<(T,blue)part def>> [[psysml:805f8ddd-ca4a-414c-92f1-ea459766cc23 ]] {\r\n",
       "}\r\n",
       "comp usage \"p\" as E13  <<(T,blue)part>> [[psysml:072097f8-3b46-444f-b0fb-f8fd70c894a4 ]] {\r\n",
       "- - ports - -\r\n",
       "p1: P\r\n",
       "p2: ~P\r\n",
       "}\r\n",
       "E12 *- - E13 [[psysml:072097f8-3b46-444f-b0fb-f8fd70c894a4 ]] \r\n",
       "}\r\n",
       "@enduml\r\n",
       "\n",
       "PlantUML version 1.2020.13(Sat Jun 13 12:26:38 UTC 2020)\n",
       "(EPL source distribution)\n",
       "Java Runtime: OpenJDK Runtime Environment\n",
       "JVM: OpenJDK 64-Bit Server VM\n",
       "Default Encoding: UTF-8\n",
       "Language: en\n",
       "Country: null\n",
       "--></g></svg>"
      ]
     },
     "execution_count": 16,
     "metadata": {},
     "output_type": "execute_result"
    }
   ],
   "source": [
    "%viz --style=\"LR\" --view=\"Default\" \"ConjugationTest\""
   ]
  },
  {
   "cell_type": "code",
   "execution_count": 17,
   "id": "steady-philadelphia",
   "metadata": {
    "execution": {
     "iopub.execute_input": "2021-03-25T15:03:56.913017Z",
     "iopub.status.busy": "2021-03-25T15:03:56.912287Z",
     "iopub.status.idle": "2021-03-25T15:03:57.684042Z",
     "shell.execute_reply": "2021-03-25T15:03:57.684997Z"
    }
   },
   "outputs": [
    {
     "data": {
      "image/svg+xml": [
       "<?xml version=\"1.0\" encoding=\"UTF-8\" standalone=\"no\"?><svg xmlns=\"http://www.w3.org/2000/svg\" xmlns:xlink=\"http://www.w3.org/1999/xlink\" contentScriptType=\"application/ecmascript\" contentStyleType=\"text/css\" height=\"565px\" preserveAspectRatio=\"none\" style=\"width:290px;height:565px;\" version=\"1.1\" viewBox=\"0 0 290 565\" width=\"290px\" zoomAndPan=\"magnify\"><defs/><g><!--MD5=[fbc87193dbaf4d95561dea2c320d4a47]\n",
       "cluster E1--><a href=\"psysml:34192d11-634f-45f2-bc4e-1f94e63724b0\" target=\"_top\" title=\"psysml:34192d11-634f-45f2-bc4e-1f94e63724b0\" xlink:actuate=\"onRequest\" xlink:href=\"psysml:34192d11-634f-45f2-bc4e-1f94e63724b0\" xlink:show=\"new\" xlink:title=\"psysml:34192d11-634f-45f2-bc4e-1f94e63724b0\" xlink:type=\"simple\"><polygon fill=\"#FFFFFF\" points=\"16,6,151,6,158,28.2969,268,28.2969,268,553,16,553,16,6\" style=\"stroke: #000000; stroke-width: 1.5;\"/><line style=\"stroke: #000000; stroke-width: 1.5;\" x1=\"16\" x2=\"158\" y1=\"28.2969\" y2=\"28.2969\"/><text fill=\"#000000\" font-family=\"sans-serif\" font-size=\"14\" font-weight=\"bold\" lengthAdjust=\"spacingAndGlyphs\" textLength=\"129\" x=\"20\" y=\"20.9951\">ConjugationTest</text></a><!--MD5=[b4997ac47864f28c2f74865a473b2911]\n",
       "class E2--><a href=\"psysml:c663f064-4c04-4527-821b-19ee83969177\" target=\"_top\" title=\"psysml:c663f064-4c04-4527-821b-19ee83969177\" xlink:actuate=\"onRequest\" xlink:href=\"psysml:c663f064-4c04-4527-821b-19ee83969177\" xlink:show=\"new\" xlink:title=\"psysml:c663f064-4c04-4527-821b-19ee83969177\" xlink:type=\"simple\"><rect fill=\"#FFFFFF\" height=\"45.9375\" id=\"E2\" style=\"stroke: #383838; stroke-width: 1.5;\" width=\"66\" x=\"54\" y=\"41\"/><text fill=\"#000000\" font-family=\"sans-serif\" font-size=\"12\" font-style=\"italic\" lengthAdjust=\"spacingAndGlyphs\" textLength=\"64\" x=\"55\" y=\"57.1387\">«port def»</text><text fill=\"#000000\" font-family=\"sans-serif\" font-size=\"12\" lengthAdjust=\"spacingAndGlyphs\" textLength=\"8\" x=\"83\" y=\"71.1074\">P</text><line style=\"stroke: #383838; stroke-width: 1.5;\" x1=\"55\" x2=\"119\" y1=\"78.9375\" y2=\"78.9375\"/></a><!--MD5=[09b614a08d8cba4a07c9adeb5e0fee81]\n",
       "class E3--><a href=\"psysml:e064966f-e96c-463a-b744-2c95fe6cd8a1\" target=\"_top\" title=\"psysml:e064966f-e96c-463a-b744-2c95fe6cd8a1\" xlink:actuate=\"onRequest\" xlink:href=\"psysml:e064966f-e96c-463a-b744-2c95fe6cd8a1\" xlink:show=\"new\" xlink:title=\"psysml:e064966f-e96c-463a-b744-2c95fe6cd8a1\" xlink:type=\"simple\"><rect fill=\"#FFFFFF\" height=\"88.3516\" id=\"E3\" style=\"stroke: #383838; stroke-width: 1.5;\" width=\"66\" x=\"54\" y=\"122\"/><text fill=\"#000000\" font-family=\"sans-serif\" font-size=\"12\" font-style=\"italic\" lengthAdjust=\"spacingAndGlyphs\" textLength=\"64\" x=\"55\" y=\"138.1387\">«part def»</text><text fill=\"#000000\" font-family=\"sans-serif\" font-size=\"12\" lengthAdjust=\"spacingAndGlyphs\" textLength=\"8\" x=\"83\" y=\"152.1074\">B</text><line style=\"stroke: #383838; stroke-width: 1.5;\" x1=\"55\" x2=\"119\" y1=\"159.9375\" y2=\"159.9375\"/><text fill=\"#000000\" font-family=\"sans-serif\" font-size=\"11\" lengthAdjust=\"spacingAndGlyphs\" textLength=\"29\" x=\"60\" y=\"190.9526\">p1: P</text><text fill=\"#000000\" font-family=\"sans-serif\" font-size=\"11\" lengthAdjust=\"spacingAndGlyphs\" textLength=\"38\" x=\"60\" y=\"203.7573\">p2: ~P</text><line style=\"stroke: #383838; stroke-width: 1.0;\" x1=\"55\" x2=\"72\" y1=\"174.3398\" y2=\"174.3398\"/><text fill=\"#000000\" font-family=\"sans-serif\" font-size=\"11\" lengthAdjust=\"spacingAndGlyphs\" textLength=\"30\" x=\"72\" y=\"177.6479\">ports</text><line style=\"stroke: #383838; stroke-width: 1.0;\" x1=\"102\" x2=\"119\" y1=\"174.3398\" y2=\"174.3398\"/></a><!--MD5=[60a26617385b1d2d0262a64233df1f8d]\n",
       "class E6--><a href=\"psysml:005e78a8-b799-41cc-8c3e-bd1642b3bc90\" target=\"_top\" title=\"psysml:005e78a8-b799-41cc-8c3e-bd1642b3bc90\" xlink:actuate=\"onRequest\" xlink:href=\"psysml:005e78a8-b799-41cc-8c3e-bd1642b3bc90\" xlink:show=\"new\" xlink:title=\"psysml:005e78a8-b799-41cc-8c3e-bd1642b3bc90\" xlink:type=\"simple\"><rect fill=\"#FFFFFF\" height=\"88.3516\" id=\"E6\" style=\"stroke: #383838; stroke-width: 1.5;\" width=\"110\" x=\"32\" y=\"245\"/><text fill=\"#000000\" font-family=\"sans-serif\" font-size=\"12\" font-style=\"italic\" lengthAdjust=\"spacingAndGlyphs\" textLength=\"108\" x=\"33\" y=\"261.1387\">«connection def»</text><text fill=\"#000000\" font-family=\"sans-serif\" font-size=\"12\" lengthAdjust=\"spacingAndGlyphs\" textLength=\"8\" x=\"83\" y=\"275.1074\">A</text><line style=\"stroke: #383838; stroke-width: 1.5;\" x1=\"33\" x2=\"141\" y1=\"282.9375\" y2=\"282.9375\"/><text fill=\"#000000\" font-family=\"sans-serif\" font-size=\"11\" lengthAdjust=\"spacingAndGlyphs\" textLength=\"29\" x=\"38\" y=\"313.9526\">p1: P</text><text fill=\"#000000\" font-family=\"sans-serif\" font-size=\"11\" lengthAdjust=\"spacingAndGlyphs\" textLength=\"38\" x=\"38\" y=\"326.7573\">p2: ~P</text><line style=\"stroke: #383838; stroke-width: 1.0;\" x1=\"33\" x2=\"72\" y1=\"297.3398\" y2=\"297.3398\"/><text fill=\"#000000\" font-family=\"sans-serif\" font-size=\"11\" lengthAdjust=\"spacingAndGlyphs\" textLength=\"30\" x=\"72\" y=\"300.6479\">ports</text><line style=\"stroke: #383838; stroke-width: 1.0;\" x1=\"102\" x2=\"141\" y1=\"297.3398\" y2=\"297.3398\"/></a><!--MD5=[fd4143e9d270a159db93a4ea2a975926]\n",
       "class E9--><a href=\"psysml:21ca298b-43fb-4a5a-8828-d457e715a9a7\" target=\"_top\" title=\"psysml:21ca298b-43fb-4a5a-8828-d457e715a9a7\" xlink:actuate=\"onRequest\" xlink:href=\"psysml:21ca298b-43fb-4a5a-8828-d457e715a9a7\" xlink:show=\"new\" xlink:title=\"psysml:21ca298b-43fb-4a5a-8828-d457e715a9a7\" xlink:type=\"simple\"><rect fill=\"#FFFFFF\" height=\"88.3516\" id=\"E9\" style=\"stroke: #383838; stroke-width: 1.5;\" width=\"96\" x=\"39\" y=\"368\"/><text fill=\"#000000\" font-family=\"sans-serif\" font-size=\"12\" font-style=\"italic\" lengthAdjust=\"spacingAndGlyphs\" textLength=\"94\" x=\"40\" y=\"384.1387\">«interface def»</text><text fill=\"#000000\" font-family=\"sans-serif\" font-size=\"12\" lengthAdjust=\"spacingAndGlyphs\" textLength=\"3\" x=\"85.5\" y=\"398.1074\">I</text><line style=\"stroke: #383838; stroke-width: 1.5;\" x1=\"40\" x2=\"134\" y1=\"405.9375\" y2=\"405.9375\"/><text fill=\"#000000\" font-family=\"sans-serif\" font-size=\"11\" lengthAdjust=\"spacingAndGlyphs\" textLength=\"29\" x=\"45\" y=\"436.9526\">p1: P</text><text fill=\"#000000\" font-family=\"sans-serif\" font-size=\"11\" lengthAdjust=\"spacingAndGlyphs\" textLength=\"38\" x=\"45\" y=\"449.7573\">p2: ~P</text><line style=\"stroke: #383838; stroke-width: 1.0;\" x1=\"40\" x2=\"72\" y1=\"420.3398\" y2=\"420.3398\"/><text fill=\"#000000\" font-family=\"sans-serif\" font-size=\"11\" lengthAdjust=\"spacingAndGlyphs\" textLength=\"30\" x=\"72\" y=\"423.6479\">ports</text><line style=\"stroke: #383838; stroke-width: 1.0;\" x1=\"102\" x2=\"134\" y1=\"420.3398\" y2=\"420.3398\"/></a><!--MD5=[49a0ec8f00dab7302a31f22d0f0fe584]\n",
       "class E12--><a href=\"psysml:805f8ddd-ca4a-414c-92f1-ea459766cc23\" target=\"_top\" title=\"psysml:805f8ddd-ca4a-414c-92f1-ea459766cc23\" xlink:actuate=\"onRequest\" xlink:href=\"psysml:805f8ddd-ca4a-414c-92f1-ea459766cc23\" xlink:show=\"new\" xlink:title=\"psysml:805f8ddd-ca4a-414c-92f1-ea459766cc23\" xlink:type=\"simple\"><rect fill=\"#FFFFFF\" height=\"45.9375\" id=\"E12\" style=\"stroke: #383838; stroke-width: 1.5;\" width=\"66\" x=\"54\" y=\"491\"/><text fill=\"#000000\" font-family=\"sans-serif\" font-size=\"12\" font-style=\"italic\" lengthAdjust=\"spacingAndGlyphs\" textLength=\"64\" x=\"55\" y=\"507.1387\">«part def»</text><text fill=\"#000000\" font-family=\"sans-serif\" font-size=\"12\" lengthAdjust=\"spacingAndGlyphs\" textLength=\"16\" x=\"79\" y=\"521.1074\">B1</text><line style=\"stroke: #383838; stroke-width: 1.5;\" x1=\"55\" x2=\"119\" y1=\"528.9375\" y2=\"528.9375\"/></a><!--MD5=[ee3c913d1a06f366521f9ef512b67efe]\n",
       "class E13--><a href=\"psysml:072097f8-3b46-444f-b0fb-f8fd70c894a4\" target=\"_top\" title=\"psysml:072097f8-3b46-444f-b0fb-f8fd70c894a4\" xlink:actuate=\"onRequest\" xlink:href=\"psysml:072097f8-3b46-444f-b0fb-f8fd70c894a4\" xlink:show=\"new\" xlink:title=\"psysml:072097f8-3b46-444f-b0fb-f8fd70c894a4\" xlink:type=\"simple\"><rect fill=\"#FFFFFF\" height=\"88.3516\" id=\"E13\" rx=\"10\" ry=\"10\" style=\"stroke: #383838; stroke-width: 1.5;\" width=\"50\" x=\"202\" y=\"449\"/><text fill=\"#000000\" font-family=\"sans-serif\" font-size=\"12\" font-style=\"italic\" lengthAdjust=\"spacingAndGlyphs\" textLength=\"40\" x=\"207\" y=\"465.1387\">«part»</text><text fill=\"#000000\" font-family=\"sans-serif\" font-size=\"12\" lengthAdjust=\"spacingAndGlyphs\" textLength=\"8\" x=\"223\" y=\"479.1074\">p</text><line style=\"stroke: #383838; stroke-width: 1.5;\" x1=\"203\" x2=\"251\" y1=\"486.9375\" y2=\"486.9375\"/><text fill=\"#000000\" font-family=\"sans-serif\" font-size=\"11\" lengthAdjust=\"spacingAndGlyphs\" textLength=\"29\" x=\"208\" y=\"517.9526\">p1: P</text><text fill=\"#000000\" font-family=\"sans-serif\" font-size=\"11\" lengthAdjust=\"spacingAndGlyphs\" textLength=\"38\" x=\"208\" y=\"530.7573\">p2: ~P</text><line style=\"stroke: #383838; stroke-width: 1.0;\" x1=\"203\" x2=\"212\" y1=\"501.3398\" y2=\"501.3398\"/><text fill=\"#000000\" font-family=\"sans-serif\" font-size=\"11\" lengthAdjust=\"spacingAndGlyphs\" textLength=\"30\" x=\"212\" y=\"504.6479\">ports</text><line style=\"stroke: #383838; stroke-width: 1.0;\" x1=\"242\" x2=\"251\" y1=\"501.3398\" y2=\"501.3398\"/></a><!--MD5=[062ed86c389d1a88f61c6380d0491e17]\n",
       "reverse link E12 to E13--><a href=\"psysml:072097f8-3b46-444f-b0fb-f8fd70c894a4\" target=\"_top\" title=\"psysml:072097f8-3b46-444f-b0fb-f8fd70c894a4\" xlink:actuate=\"onRequest\" xlink:href=\"psysml:072097f8-3b46-444f-b0fb-f8fd70c894a4\" xlink:show=\"new\" xlink:title=\"psysml:072097f8-3b46-444f-b0fb-f8fd70c894a4\" xlink:type=\"simple\"><path d=\"M132.96,507.16 C155.92,503.66 182.94,499.55 201.92,496.66 \" fill=\"none\" id=\"E12&lt;-E13\" style=\"stroke: #383838; stroke-width: 1.0;\"/><polygon fill=\"#383838\" points=\"120.01,509.13,126.5441,512.1804,131.873,507.3222,125.3389,504.2717,120.01,509.13\" style=\"stroke: #383838; stroke-width: 1.0;\"/></a><!--MD5=[1837aabccac915faded8405cbecf7c95]\n",
       "@startuml\r\n",
       "left to right direction\r\n",
       "skinparam monochrome true\r\n",
       "skinparam classbackgroundcolor white\r\n",
       "skinparam shadowing false\r\n",
       "skinparam wrapWidth 300\r\n",
       "hide circle\r\n",
       "\r\n",
       "package \"ConjugationTest\" as E1  [[psysml:34192d11-634f-45f2-bc4e-1f94e63724b0 ]]  {\r\n",
       "comp def \"P\" as E2  <<(T,blue)port def>> [[psysml:c663f064-4c04-4527-821b-19ee83969177 ]] {\r\n",
       "}\r\n",
       "comp def \"B\" as E3  <<(T,blue)part def>> [[psysml:e064966f-e96c-463a-b744-2c95fe6cd8a1 ]] {\r\n",
       "- - ports - -\r\n",
       "p1: P\r\n",
       "p2: ~P\r\n",
       "}\r\n",
       "comp def \"A\" as E6  <<(T,blue)connection def>> [[psysml:005e78a8-b799-41cc-8c3e-bd1642b3bc90 ]] {\r\n",
       "- - ports - -\r\n",
       "p1: P\r\n",
       "p2: ~P\r\n",
       "}\r\n",
       "comp def \"I\" as E9  <<(T,blue)interface def>> [[psysml:21ca298b-43fb-4a5a-8828-d457e715a9a7 ]] {\r\n",
       "- - ports - -\r\n",
       "p1: P\r\n",
       "p2: ~P\r\n",
       "}\r\n",
       "comp def \"B1\" as E12  <<(T,blue)part def>> [[psysml:805f8ddd-ca4a-414c-92f1-ea459766cc23 ]] {\r\n",
       "}\r\n",
       "comp usage \"p\" as E13  <<(T,blue)part>> [[psysml:072097f8-3b46-444f-b0fb-f8fd70c894a4 ]] {\r\n",
       "- - ports - -\r\n",
       "p1: P\r\n",
       "p2: ~P\r\n",
       "}\r\n",
       "E12 *- - E13 [[psysml:072097f8-3b46-444f-b0fb-f8fd70c894a4 ]] \r\n",
       "}\r\n",
       "@enduml\r\n",
       "\n",
       "PlantUML version 1.2020.13(Sat Jun 13 12:26:38 UTC 2020)\n",
       "(EPL source distribution)\n",
       "Java Runtime: OpenJDK Runtime Environment\n",
       "JVM: OpenJDK 64-Bit Server VM\n",
       "Default Encoding: UTF-8\n",
       "Language: en\n",
       "Country: null\n",
       "--></g></svg>"
      ]
     },
     "execution_count": 17,
     "metadata": {},
     "output_type": "execute_result"
    }
   ],
   "source": [
    "%viz --style=\"LR\" --view=\"Tree\" \"ConjugationTest\""
   ]
  },
  {
   "cell_type": "code",
   "execution_count": 18,
   "id": "dietary-reporter",
   "metadata": {
    "execution": {
     "iopub.execute_input": "2021-03-25T15:03:57.735150Z",
     "iopub.status.busy": "2021-03-25T15:03:57.734377Z",
     "iopub.status.idle": "2021-03-25T15:03:57.743906Z",
     "shell.execute_reply": "2021-03-25T15:03:57.744610Z"
    }
   },
   "outputs": [
    {
     "data": {
      "image/svg+xml": [
       "<?xml version=\"1.0\" encoding=\"UTF-8\" standalone=\"no\"?><svg xmlns=\"http://www.w3.org/2000/svg\" xmlns:xlink=\"http://www.w3.org/1999/xlink\" contentScriptType=\"application/ecmascript\" contentStyleType=\"text/css\" height=\"12px\" preserveAspectRatio=\"none\" style=\"width:12px;height:12px;\" version=\"1.1\" viewBox=\"0 0 12 12\" width=\"12px\" zoomAndPan=\"magnify\"><defs/><g><!--MD5=[19d285c9d72a204eba4e2cd117d745e8]\n",
       "@startuml\r\n",
       "left to right direction\r\n",
       "skinparam monochrome true\r\n",
       "skinparam classbackgroundcolor white\r\n",
       "skinparam shadowing false\r\n",
       "skinparam wrapWidth 300\r\n",
       "hide circle\r\n",
       "\r\n",
       "@enduml\r\n",
       "\n",
       "PlantUML version 1.2020.13(Sat Jun 13 12:26:38 UTC 2020)\n",
       "(EPL source distribution)\n",
       "Java Runtime: OpenJDK Runtime Environment\n",
       "JVM: OpenJDK 64-Bit Server VM\n",
       "Default Encoding: UTF-8\n",
       "Language: en\n",
       "Country: null\n",
       "--></g></svg>"
      ]
     },
     "execution_count": 18,
     "metadata": {},
     "output_type": "execute_result"
    }
   ],
   "source": [
    "%viz --style=\"LR\" --view=\"State\" \"ConjugationTest\""
   ]
  },
  {
   "cell_type": "code",
   "execution_count": 19,
   "id": "technological-discretion",
   "metadata": {
    "execution": {
     "iopub.execute_input": "2021-03-25T15:03:57.798330Z",
     "iopub.status.busy": "2021-03-25T15:03:57.796952Z",
     "iopub.status.idle": "2021-03-25T15:03:57.999525Z",
     "shell.execute_reply": "2021-03-25T15:03:57.999087Z"
    }
   },
   "outputs": [
    {
     "data": {
      "image/svg+xml": [
       "<?xml version=\"1.0\" encoding=\"UTF-8\" standalone=\"no\"?><svg xmlns=\"http://www.w3.org/2000/svg\" xmlns:xlink=\"http://www.w3.org/1999/xlink\" contentScriptType=\"application/ecmascript\" contentStyleType=\"text/css\" height=\"560px\" preserveAspectRatio=\"none\" style=\"width:354px;height:560px;\" version=\"1.1\" viewBox=\"0 0 354 560\" width=\"354px\" zoomAndPan=\"magnify\"><defs/><g><!--MD5=[fbc87193dbaf4d95561dea2c320d4a47]\n",
       "cluster E1--><a href=\"psysml:34192d11-634f-45f2-bc4e-1f94e63724b0\" target=\"_top\" title=\"psysml:34192d11-634f-45f2-bc4e-1f94e63724b0\" xlink:actuate=\"onRequest\" xlink:href=\"psysml:34192d11-634f-45f2-bc4e-1f94e63724b0\" xlink:show=\"new\" xlink:title=\"psysml:34192d11-634f-45f2-bc4e-1f94e63724b0\" xlink:type=\"simple\"><polygon fill=\"#FFFFFF\" points=\"16,6,151,6,158,28.2969,332,28.2969,332,548,16,548,16,6\" style=\"stroke: #000000; stroke-width: 1.5;\"/><line style=\"stroke: #000000; stroke-width: 1.5;\" x1=\"16\" x2=\"158\" y1=\"28.2969\" y2=\"28.2969\"/><text fill=\"#000000\" font-family=\"sans-serif\" font-size=\"14\" font-weight=\"bold\" lengthAdjust=\"spacingAndGlyphs\" textLength=\"129\" x=\"20\" y=\"20.9951\">ConjugationTest</text></a><!--MD5=[d5e69f78d87373223dbae638b30a9c99]\n",
       "cluster E3--><a href=\"psysml:e064966f-e96c-463a-b744-2c95fe6cd8a1\" target=\"_top\" title=\"psysml:e064966f-e96c-463a-b744-2c95fe6cd8a1\" xlink:actuate=\"onRequest\" xlink:href=\"psysml:e064966f-e96c-463a-b744-2c95fe6cd8a1\" xlink:show=\"new\" xlink:title=\"psysml:e064966f-e96c-463a-b744-2c95fe6cd8a1\" xlink:type=\"simple\"><rect fill=\"#FFFFFF\" height=\"47\" id=\"E3\" style=\"stroke: #383838; stroke-width: 1.5;\" width=\"219.5\" x=\"71\" y=\"55\"/><rect fill=\"#F8F8F8\" height=\"37.9375\" style=\"stroke: #383838; stroke-width: 1.5;\" width=\"219.5\" x=\"71\" y=\"55\"/><text fill=\"#000000\" font-family=\"sans-serif\" font-size=\"12\" font-style=\"italic\" lengthAdjust=\"spacingAndGlyphs\" textLength=\"64\" x=\"148.75\" y=\"71.1387\">«part def»</text><text fill=\"#000000\" font-family=\"sans-serif\" font-size=\"12\" lengthAdjust=\"spacingAndGlyphs\" textLength=\"8\" x=\"176.75\" y=\"85.1074\">B</text></a><!--MD5=[14e3b0961a2654348d326746436168a1]\n",
       "cluster E6--><a href=\"psysml:005e78a8-b799-41cc-8c3e-bd1642b3bc90\" target=\"_top\" title=\"psysml:005e78a8-b799-41cc-8c3e-bd1642b3bc90\" xlink:actuate=\"onRequest\" xlink:href=\"psysml:005e78a8-b799-41cc-8c3e-bd1642b3bc90\" xlink:show=\"new\" xlink:title=\"psysml:005e78a8-b799-41cc-8c3e-bd1642b3bc90\" xlink:type=\"simple\"><rect fill=\"#FFFFFF\" height=\"47\" id=\"E6\" style=\"stroke: #383838; stroke-width: 1.5;\" width=\"245\" x=\"71\" y=\"149\"/><rect fill=\"#F8F8F8\" height=\"37.9375\" style=\"stroke: #383838; stroke-width: 1.5;\" width=\"245\" x=\"71\" y=\"149\"/><text fill=\"#000000\" font-family=\"sans-serif\" font-size=\"12\" font-style=\"italic\" lengthAdjust=\"spacingAndGlyphs\" textLength=\"108\" x=\"139.5\" y=\"165.1387\">«connection def»</text><text fill=\"#000000\" font-family=\"sans-serif\" font-size=\"12\" lengthAdjust=\"spacingAndGlyphs\" textLength=\"8\" x=\"189.5\" y=\"179.1074\">A</text></a><!--MD5=[7f149f147074ac12df2cb0a7728a5fb0]\n",
       "cluster E9--><a href=\"psysml:21ca298b-43fb-4a5a-8828-d457e715a9a7\" target=\"_top\" title=\"psysml:21ca298b-43fb-4a5a-8828-d457e715a9a7\" xlink:actuate=\"onRequest\" xlink:href=\"psysml:21ca298b-43fb-4a5a-8828-d457e715a9a7\" xlink:show=\"new\" xlink:title=\"psysml:21ca298b-43fb-4a5a-8828-d457e715a9a7\" xlink:type=\"simple\"><rect fill=\"#FFFFFF\" height=\"47\" id=\"E9\" style=\"stroke: #383838; stroke-width: 1.5;\" width=\"236\" x=\"71\" y=\"243\"/><rect fill=\"#F8F8F8\" height=\"37.9375\" style=\"stroke: #383838; stroke-width: 1.5;\" width=\"236\" x=\"71\" y=\"243\"/><text fill=\"#000000\" font-family=\"sans-serif\" font-size=\"12\" font-style=\"italic\" lengthAdjust=\"spacingAndGlyphs\" textLength=\"94\" x=\"142\" y=\"259.1387\">«interface def»</text><text fill=\"#000000\" font-family=\"sans-serif\" font-size=\"12\" lengthAdjust=\"spacingAndGlyphs\" textLength=\"3\" x=\"187.5\" y=\"273.1074\">I</text></a><!--MD5=[47bea60c1a0ac6c1143df232041969c0]\n",
       "cluster E12--><a href=\"psysml:805f8ddd-ca4a-414c-92f1-ea459766cc23\" target=\"_top\" title=\"psysml:805f8ddd-ca4a-414c-92f1-ea459766cc23\" xlink:actuate=\"onRequest\" xlink:href=\"psysml:805f8ddd-ca4a-414c-92f1-ea459766cc23\" xlink:show=\"new\" xlink:title=\"psysml:805f8ddd-ca4a-414c-92f1-ea459766cc23\" xlink:type=\"simple\"><rect fill=\"#FFFFFF\" height=\"142\" id=\"E12\" style=\"stroke: #383838; stroke-width: 1.5;\" width=\"217\" x=\"59\" y=\"320\"/><rect fill=\"#F8F8F8\" height=\"37.9375\" style=\"stroke: #383838; stroke-width: 1.5;\" width=\"217\" x=\"59\" y=\"320\"/><text fill=\"#000000\" font-family=\"sans-serif\" font-size=\"12\" font-style=\"italic\" lengthAdjust=\"spacingAndGlyphs\" textLength=\"64\" x=\"135.5\" y=\"336.1387\">«part def»</text><text fill=\"#000000\" font-family=\"sans-serif\" font-size=\"12\" lengthAdjust=\"spacingAndGlyphs\" textLength=\"16\" x=\"159.5\" y=\"350.1074\">B1</text></a><!--MD5=[03104f77b71e2d8d3500c651e6e31181]\n",
       "cluster E13--><a href=\"psysml:072097f8-3b46-444f-b0fb-f8fd70c894a4\" target=\"_top\" title=\"psysml:072097f8-3b46-444f-b0fb-f8fd70c894a4\" xlink:actuate=\"onRequest\" xlink:href=\"psysml:072097f8-3b46-444f-b0fb-f8fd70c894a4\" xlink:show=\"new\" xlink:title=\"psysml:072097f8-3b46-444f-b0fb-f8fd70c894a4\" xlink:type=\"simple\"><rect fill=\"#FFFFFF\" height=\"47\" id=\"E13\" rx=\"10\" ry=\"10\" style=\"stroke: #383838; stroke-width: 1.5;\" width=\"189\" x=\"71\" y=\"385\"/><rect fill=\"#F8F8F8\" height=\"23.9688\" rx=\"10\" ry=\"10\" style=\"stroke: #F8F8F8; stroke-width: 1.5;\" width=\"189\" x=\"71\" y=\"385\"/><rect fill=\"#F8F8F8\" height=\"10\" style=\"stroke: #F8F8F8; stroke-width: 1.5;\" width=\"189\" x=\"71\" y=\"398.9688\"/><rect fill=\"none\" height=\"47\" id=\"E13\" rx=\"10\" ry=\"10\" style=\"stroke: #383838; stroke-width: 1.5;\" width=\"189\" x=\"71\" y=\"385\"/><text fill=\"#000000\" font-family=\"sans-serif\" font-size=\"12\" lengthAdjust=\"spacingAndGlyphs\" textLength=\"8\" x=\"161.5\" y=\"401.1387\">p</text><line style=\"stroke: #383838; stroke-width: 1.0;\" x1=\"71\" x2=\"260\" y1=\"408.9688\" y2=\"408.9688\"/></a><!--MD5=[b4997ac47864f28c2f74865a473b2911]\n",
       "class E2--><a href=\"psysml:c663f064-4c04-4527-821b-19ee83969177\" target=\"_top\" title=\"psysml:c663f064-4c04-4527-821b-19ee83969177\" xlink:actuate=\"onRequest\" xlink:href=\"psysml:c663f064-4c04-4527-821b-19ee83969177\" xlink:show=\"new\" xlink:title=\"psysml:c663f064-4c04-4527-821b-19ee83969177\" xlink:type=\"simple\"><rect fill=\"#FFFFFF\" height=\"53.9375\" id=\"E2\" style=\"stroke: #383838; stroke-width: 1.5;\" width=\"114\" x=\"32\" y=\"478\"/><text fill=\"#000000\" font-family=\"sans-serif\" font-size=\"12\" font-style=\"italic\" lengthAdjust=\"spacingAndGlyphs\" textLength=\"112\" x=\"33\" y=\"494.1387\">«(T,blue)port def»</text><text fill=\"#000000\" font-family=\"sans-serif\" font-size=\"12\" lengthAdjust=\"spacingAndGlyphs\" textLength=\"8\" x=\"85\" y=\"508.1074\">P</text><line style=\"stroke: #383838; stroke-width: 1.5;\" x1=\"33\" x2=\"145\" y1=\"515.9375\" y2=\"515.9375\"/><line style=\"stroke: #383838; stroke-width: 1.5;\" x1=\"33\" x2=\"145\" y1=\"523.9375\" y2=\"523.9375\"/></a><text fill=\"#000000\" font-family=\"sans-serif\" font-size=\"14\" lengthAdjust=\"spacingAndGlyphs\" textLength=\"36\" x=\"71\" y=\"120.9951\">p1: P</text><rect fill=\"#383838\" height=\"12\" style=\"stroke: #F8F8F8; stroke-width: 1.5;\" width=\"12\" x=\"83\" y=\"96\"/><text fill=\"#000000\" font-family=\"sans-serif\" font-size=\"14\" lengthAdjust=\"spacingAndGlyphs\" textLength=\"48\" x=\"65\" y=\"33.6982\">p2: ~P</text><rect fill=\"#383838\" height=\"12\" style=\"stroke: #F8F8F8; stroke-width: 1.5;\" width=\"12\" x=\"83\" y=\"49\"/><text fill=\"#000000\" font-family=\"sans-serif\" font-size=\"14\" lengthAdjust=\"spacingAndGlyphs\" textLength=\"36\" x=\"71\" y=\"214.9951\">p1: P</text><rect fill=\"#383838\" height=\"12\" style=\"stroke: #F8F8F8; stroke-width: 1.5;\" width=\"12\" x=\"83\" y=\"190\"/><text fill=\"#000000\" font-family=\"sans-serif\" font-size=\"14\" lengthAdjust=\"spacingAndGlyphs\" textLength=\"48\" x=\"65\" y=\"127.6982\">p2: ~P</text><rect fill=\"#383838\" height=\"12\" style=\"stroke: #F8F8F8; stroke-width: 1.5;\" width=\"12\" x=\"83\" y=\"143\"/><text fill=\"#000000\" font-family=\"sans-serif\" font-size=\"14\" lengthAdjust=\"spacingAndGlyphs\" textLength=\"36\" x=\"71\" y=\"308.9951\">p1: P</text><rect fill=\"#383838\" height=\"12\" style=\"stroke: #F8F8F8; stroke-width: 1.5;\" width=\"12\" x=\"83\" y=\"284\"/><text fill=\"#000000\" font-family=\"sans-serif\" font-size=\"14\" lengthAdjust=\"spacingAndGlyphs\" textLength=\"48\" x=\"65\" y=\"221.6982\">p2: ~P</text><rect fill=\"#383838\" height=\"12\" style=\"stroke: #F8F8F8; stroke-width: 1.5;\" width=\"12\" x=\"83\" y=\"237\"/><text fill=\"#000000\" font-family=\"sans-serif\" font-size=\"14\" lengthAdjust=\"spacingAndGlyphs\" textLength=\"36\" x=\"71\" y=\"450.9951\">p1: P</text><rect fill=\"#383838\" height=\"12\" style=\"stroke: #F8F8F8; stroke-width: 1.5;\" width=\"12\" x=\"83\" y=\"426\"/><text fill=\"#000000\" font-family=\"sans-serif\" font-size=\"14\" lengthAdjust=\"spacingAndGlyphs\" textLength=\"48\" x=\"65\" y=\"363.6982\">p2: ~P</text><rect fill=\"#383838\" height=\"12\" style=\"stroke: #F8F8F8; stroke-width: 1.5;\" width=\"12\" x=\"83\" y=\"379\"/><!--MD5=[4ce51ac6fa4cf5202df3859e2718f033]\n",
       "link E15 to E14--><a href=\"psysml:d49afd8d-54fc-473a-b637-3cd599cd4fa7\" target=\"_top\" title=\"psysml:d49afd8d-54fc-473a-b637-3cd599cd4fa7\" xlink:actuate=\"onRequest\" xlink:href=\"psysml:d49afd8d-54fc-473a-b637-3cd599cd4fa7\" xlink:show=\"new\" xlink:title=\"psysml:d49afd8d-54fc-473a-b637-3cd599cd4fa7\" xlink:type=\"simple\"><path d=\"M89,391.05 C89,402.62 89,414.19 89,425.76 \" fill=\"none\" id=\"E15-E14\" style=\"stroke: #383838; stroke-width: 3.0;\"/></a><!--MD5=[4ce51ac6fa4cf5202df3859e2718f033]\n",
       "link E15 to E14--><a href=\"psysml:158350c1-11e6-4f2f-a89e-7037efa93dae\" target=\"_top\" title=\"psysml:158350c1-11e6-4f2f-a89e-7037efa93dae\" xlink:actuate=\"onRequest\" xlink:href=\"psysml:158350c1-11e6-4f2f-a89e-7037efa93dae\" xlink:show=\"new\" xlink:title=\"psysml:158350c1-11e6-4f2f-a89e-7037efa93dae\" xlink:type=\"simple\"><path d=\"M86.98,391.05 C83.69,402.62 83.67,414.19 86.93,425.76 \" fill=\"none\" id=\"E15-E14-1\" style=\"stroke: #383838; stroke-width: 3.0;\"/></a><!--MD5=[c170c28c439df152a0e1cbce5ec95d1d]\n",
       "@startuml\r\n",
       "skinparam ranksep 8\r\n",
       "skinparam rectangle {\r\n",
       " backgroundColor<<block>> LightGreen\r\n",
       "}\r\n",
       "left to right direction\r\n",
       "skinparam monochrome true\r\n",
       "skinparam classbackgroundcolor white\r\n",
       "skinparam shadowing false\r\n",
       "skinparam wrapWidth 300\r\n",
       "hide circle\r\n",
       "\r\n",
       "package \"ConjugationTest\" as E1  [[psysml:34192d11-634f-45f2-bc4e-1f94e63724b0 ]]  {\r\n",
       "def \"P\" as E2  <<(T,blue)port def>> [[psysml:c663f064-4c04-4527-821b-19ee83969177 ]] \r\n",
       "rec def \"B\" as E3  <<(T,blue)part def>> [[psysml:e064966f-e96c-463a-b744-2c95fe6cd8a1 ]] {\r\n",
       "portin \"p1: P\" as E4  <<(T,blue)port>> [[psysml:b8e0261a-441d-41a6-aff3-1d450c4cde6f ]] \r\n",
       "portin \"p2: ~P\" as E5  <<(T,blue)port>> [[psysml:cbde5ba2-4051-45bc-9875-629a3f045392 ]] \r\n",
       "}\r\n",
       "rec def \"A\" as E6  <<(T,blue)connection def>> [[psysml:005e78a8-b799-41cc-8c3e-bd1642b3bc90 ]] {\r\n",
       "portin \"p1: P\" as E7  <<(T,blue)port>> [[psysml:55181707-d268-487e-aa99-75d3872aefbc ]] \r\n",
       "portin \"p2: ~P\" as E8  <<(T,blue)port>> [[psysml:0ddbc9c9-6f57-4a43-9fe9-35a450e63798 ]] \r\n",
       "}\r\n",
       "rec def \"I\" as E9  <<(T,blue)interface def>> [[psysml:21ca298b-43fb-4a5a-8828-d457e715a9a7 ]] {\r\n",
       "portin \"p1: P\" as E10  <<(T,blue)port>> [[psysml:4800d5e0-15fd-4b6f-b429-bddfb731ebe9 ]] \r\n",
       "portin \"p2: ~P\" as E11  <<(T,blue)port>> [[psysml:5bc48f79-cf8d-4956-b81e-e57ba2e7fb16 ]] \r\n",
       "}\r\n",
       "rec def \"B1\" as E12  <<(T,blue)part def>> [[psysml:805f8ddd-ca4a-414c-92f1-ea459766cc23 ]] {\r\n",
       "rec usage \"p\" as E13  [[psysml:072097f8-3b46-444f-b0fb-f8fd70c894a4 ]] {\r\n",
       "portin \"p1: P\" as E14  <<(T,blue)port>> [[psysml:17432448-deec-4082-b953-29eb581620b4 ]] \r\n",
       "portin \"p2: ~P\" as E15  <<(T,blue)port>> [[psysml:c01cfbc6-39be-4cca-af9b-913ba499d52d ]] \r\n",
       "}\r\n",
       "}\r\n",
       "E15 -[thickness=3]- E14 [[psysml:d49afd8d-54fc-473a-b637-3cd599cd4fa7 ]] \r\n",
       "E15 -[thickness=3]- E14 [[psysml:158350c1-11e6-4f2f-a89e-7037efa93dae ]] \r\n",
       "}\r\n",
       "@enduml\r\n",
       "\n",
       "PlantUML version 1.2020.13(Sat Jun 13 12:26:38 UTC 2020)\n",
       "(EPL source distribution)\n",
       "Java Runtime: OpenJDK Runtime Environment\n",
       "JVM: OpenJDK 64-Bit Server VM\n",
       "Default Encoding: UTF-8\n",
       "Language: en\n",
       "Country: null\n",
       "--></g></svg>"
      ]
     },
     "execution_count": 19,
     "metadata": {},
     "output_type": "execute_result"
    }
   ],
   "source": [
    "%viz --style=\"LR\" --view=\"Interconnection\" \"ConjugationTest\""
   ]
  },
  {
   "cell_type": "code",
   "execution_count": 20,
   "id": "isolated-latitude",
   "metadata": {
    "execution": {
     "iopub.execute_input": "2021-03-25T15:03:58.049217Z",
     "iopub.status.busy": "2021-03-25T15:03:58.048809Z",
     "iopub.status.idle": "2021-03-25T15:03:58.056138Z",
     "shell.execute_reply": "2021-03-25T15:03:58.055754Z"
    }
   },
   "outputs": [
    {
     "data": {
      "image/svg+xml": [
       "<?xml version=\"1.0\" encoding=\"UTF-8\" standalone=\"no\"?><svg xmlns=\"http://www.w3.org/2000/svg\" xmlns:xlink=\"http://www.w3.org/1999/xlink\" contentScriptType=\"application/ecmascript\" contentStyleType=\"text/css\" height=\"12px\" preserveAspectRatio=\"none\" style=\"width:12px;height:12px;\" version=\"1.1\" viewBox=\"0 0 12 12\" width=\"12px\" zoomAndPan=\"magnify\"><defs/><g><!--MD5=[7aeb398939421629f6affaa4a1a7b125]\n",
       "@startuml\r\n",
       "skinparam ranksep 8\r\n",
       "left to right direction\r\n",
       "skinparam monochrome true\r\n",
       "skinparam classbackgroundcolor white\r\n",
       "skinparam shadowing false\r\n",
       "skinparam wrapWidth 300\r\n",
       "hide circle\r\n",
       "\r\n",
       "@enduml\r\n",
       "\n",
       "PlantUML version 1.2020.13(Sat Jun 13 12:26:38 UTC 2020)\n",
       "(EPL source distribution)\n",
       "Java Runtime: OpenJDK Runtime Environment\n",
       "JVM: OpenJDK 64-Bit Server VM\n",
       "Default Encoding: UTF-8\n",
       "Language: en\n",
       "Country: null\n",
       "--></g></svg>"
      ]
     },
     "execution_count": 20,
     "metadata": {},
     "output_type": "execute_result"
    }
   ],
   "source": [
    "%viz --style=\"LR\" --view=\"Action\" \"ConjugationTest\""
   ]
  },
  {
   "cell_type": "code",
   "execution_count": 21,
   "id": "hindu-wallpaper",
   "metadata": {
    "execution": {
     "iopub.execute_input": "2021-03-25T15:03:58.107846Z",
     "iopub.status.busy": "2021-03-25T15:03:58.107359Z",
     "iopub.status.idle": "2021-03-25T15:03:58.830876Z",
     "shell.execute_reply": "2021-03-25T15:03:58.828844Z"
    }
   },
   "outputs": [
    {
     "data": {
      "image/svg+xml": [
       "<?xml version=\"1.0\" encoding=\"UTF-8\" standalone=\"no\"?><svg xmlns=\"http://www.w3.org/2000/svg\" xmlns:xlink=\"http://www.w3.org/1999/xlink\" contentScriptType=\"application/ecmascript\" contentStyleType=\"text/css\" height=\"565px\" preserveAspectRatio=\"none\" style=\"width:290px;height:565px;\" version=\"1.1\" viewBox=\"0 0 290 565\" width=\"290px\" zoomAndPan=\"magnify\"><defs/><g><!--MD5=[fbc87193dbaf4d95561dea2c320d4a47]\n",
       "cluster E1--><a href=\"psysml:34192d11-634f-45f2-bc4e-1f94e63724b0\" target=\"_top\" title=\"psysml:34192d11-634f-45f2-bc4e-1f94e63724b0\" xlink:actuate=\"onRequest\" xlink:href=\"psysml:34192d11-634f-45f2-bc4e-1f94e63724b0\" xlink:show=\"new\" xlink:title=\"psysml:34192d11-634f-45f2-bc4e-1f94e63724b0\" xlink:type=\"simple\"><polygon fill=\"#FFFFFF\" points=\"16,6,151,6,158,28.2969,268,28.2969,268,553,16,553,16,6\" style=\"stroke: #000000; stroke-width: 1.5;\"/><line style=\"stroke: #000000; stroke-width: 1.5;\" x1=\"16\" x2=\"158\" y1=\"28.2969\" y2=\"28.2969\"/><text fill=\"#000000\" font-family=\"sans-serif\" font-size=\"14\" font-weight=\"bold\" lengthAdjust=\"spacingAndGlyphs\" textLength=\"129\" x=\"20\" y=\"20.9951\">ConjugationTest</text></a><!--MD5=[b4997ac47864f28c2f74865a473b2911]\n",
       "class E2--><a href=\"psysml:c663f064-4c04-4527-821b-19ee83969177\" target=\"_top\" title=\"psysml:c663f064-4c04-4527-821b-19ee83969177\" xlink:actuate=\"onRequest\" xlink:href=\"psysml:c663f064-4c04-4527-821b-19ee83969177\" xlink:show=\"new\" xlink:title=\"psysml:c663f064-4c04-4527-821b-19ee83969177\" xlink:type=\"simple\"><rect fill=\"#FFFFFF\" height=\"45.9375\" id=\"E2\" style=\"stroke: #383838; stroke-width: 1.5;\" width=\"66\" x=\"54\" y=\"41\"/><text fill=\"#000000\" font-family=\"sans-serif\" font-size=\"12\" font-style=\"italic\" lengthAdjust=\"spacingAndGlyphs\" textLength=\"64\" x=\"55\" y=\"57.1387\">«port def»</text><text fill=\"#000000\" font-family=\"sans-serif\" font-size=\"12\" lengthAdjust=\"spacingAndGlyphs\" textLength=\"8\" x=\"83\" y=\"71.1074\">P</text><line style=\"stroke: #383838; stroke-width: 1.5;\" x1=\"55\" x2=\"119\" y1=\"78.9375\" y2=\"78.9375\"/></a><!--MD5=[09b614a08d8cba4a07c9adeb5e0fee81]\n",
       "class E3--><a href=\"psysml:e064966f-e96c-463a-b744-2c95fe6cd8a1\" target=\"_top\" title=\"psysml:e064966f-e96c-463a-b744-2c95fe6cd8a1\" xlink:actuate=\"onRequest\" xlink:href=\"psysml:e064966f-e96c-463a-b744-2c95fe6cd8a1\" xlink:show=\"new\" xlink:title=\"psysml:e064966f-e96c-463a-b744-2c95fe6cd8a1\" xlink:type=\"simple\"><rect fill=\"#FFFFFF\" height=\"88.3516\" id=\"E3\" style=\"stroke: #383838; stroke-width: 1.5;\" width=\"66\" x=\"54\" y=\"122\"/><text fill=\"#000000\" font-family=\"sans-serif\" font-size=\"12\" font-style=\"italic\" lengthAdjust=\"spacingAndGlyphs\" textLength=\"64\" x=\"55\" y=\"138.1387\">«part def»</text><text fill=\"#000000\" font-family=\"sans-serif\" font-size=\"12\" lengthAdjust=\"spacingAndGlyphs\" textLength=\"8\" x=\"83\" y=\"152.1074\">B</text><line style=\"stroke: #383838; stroke-width: 1.5;\" x1=\"55\" x2=\"119\" y1=\"159.9375\" y2=\"159.9375\"/><text fill=\"#000000\" font-family=\"sans-serif\" font-size=\"11\" lengthAdjust=\"spacingAndGlyphs\" textLength=\"29\" x=\"60\" y=\"190.9526\">p1: P</text><text fill=\"#000000\" font-family=\"sans-serif\" font-size=\"11\" lengthAdjust=\"spacingAndGlyphs\" textLength=\"38\" x=\"60\" y=\"203.7573\">p2: ~P</text><line style=\"stroke: #383838; stroke-width: 1.0;\" x1=\"55\" x2=\"72\" y1=\"174.3398\" y2=\"174.3398\"/><text fill=\"#000000\" font-family=\"sans-serif\" font-size=\"11\" lengthAdjust=\"spacingAndGlyphs\" textLength=\"30\" x=\"72\" y=\"177.6479\">ports</text><line style=\"stroke: #383838; stroke-width: 1.0;\" x1=\"102\" x2=\"119\" y1=\"174.3398\" y2=\"174.3398\"/></a><!--MD5=[60a26617385b1d2d0262a64233df1f8d]\n",
       "class E6--><a href=\"psysml:005e78a8-b799-41cc-8c3e-bd1642b3bc90\" target=\"_top\" title=\"psysml:005e78a8-b799-41cc-8c3e-bd1642b3bc90\" xlink:actuate=\"onRequest\" xlink:href=\"psysml:005e78a8-b799-41cc-8c3e-bd1642b3bc90\" xlink:show=\"new\" xlink:title=\"psysml:005e78a8-b799-41cc-8c3e-bd1642b3bc90\" xlink:type=\"simple\"><rect fill=\"#FFFFFF\" height=\"88.3516\" id=\"E6\" style=\"stroke: #383838; stroke-width: 1.5;\" width=\"110\" x=\"32\" y=\"245\"/><text fill=\"#000000\" font-family=\"sans-serif\" font-size=\"12\" font-style=\"italic\" lengthAdjust=\"spacingAndGlyphs\" textLength=\"108\" x=\"33\" y=\"261.1387\">«connection def»</text><text fill=\"#000000\" font-family=\"sans-serif\" font-size=\"12\" lengthAdjust=\"spacingAndGlyphs\" textLength=\"8\" x=\"83\" y=\"275.1074\">A</text><line style=\"stroke: #383838; stroke-width: 1.5;\" x1=\"33\" x2=\"141\" y1=\"282.9375\" y2=\"282.9375\"/><text fill=\"#000000\" font-family=\"sans-serif\" font-size=\"11\" lengthAdjust=\"spacingAndGlyphs\" textLength=\"29\" x=\"38\" y=\"313.9526\">p1: P</text><text fill=\"#000000\" font-family=\"sans-serif\" font-size=\"11\" lengthAdjust=\"spacingAndGlyphs\" textLength=\"38\" x=\"38\" y=\"326.7573\">p2: ~P</text><line style=\"stroke: #383838; stroke-width: 1.0;\" x1=\"33\" x2=\"72\" y1=\"297.3398\" y2=\"297.3398\"/><text fill=\"#000000\" font-family=\"sans-serif\" font-size=\"11\" lengthAdjust=\"spacingAndGlyphs\" textLength=\"30\" x=\"72\" y=\"300.6479\">ports</text><line style=\"stroke: #383838; stroke-width: 1.0;\" x1=\"102\" x2=\"141\" y1=\"297.3398\" y2=\"297.3398\"/></a><!--MD5=[fd4143e9d270a159db93a4ea2a975926]\n",
       "class E9--><a href=\"psysml:21ca298b-43fb-4a5a-8828-d457e715a9a7\" target=\"_top\" title=\"psysml:21ca298b-43fb-4a5a-8828-d457e715a9a7\" xlink:actuate=\"onRequest\" xlink:href=\"psysml:21ca298b-43fb-4a5a-8828-d457e715a9a7\" xlink:show=\"new\" xlink:title=\"psysml:21ca298b-43fb-4a5a-8828-d457e715a9a7\" xlink:type=\"simple\"><rect fill=\"#FFFFFF\" height=\"88.3516\" id=\"E9\" style=\"stroke: #383838; stroke-width: 1.5;\" width=\"96\" x=\"39\" y=\"368\"/><text fill=\"#000000\" font-family=\"sans-serif\" font-size=\"12\" font-style=\"italic\" lengthAdjust=\"spacingAndGlyphs\" textLength=\"94\" x=\"40\" y=\"384.1387\">«interface def»</text><text fill=\"#000000\" font-family=\"sans-serif\" font-size=\"12\" lengthAdjust=\"spacingAndGlyphs\" textLength=\"3\" x=\"85.5\" y=\"398.1074\">I</text><line style=\"stroke: #383838; stroke-width: 1.5;\" x1=\"40\" x2=\"134\" y1=\"405.9375\" y2=\"405.9375\"/><text fill=\"#000000\" font-family=\"sans-serif\" font-size=\"11\" lengthAdjust=\"spacingAndGlyphs\" textLength=\"29\" x=\"45\" y=\"436.9526\">p1: P</text><text fill=\"#000000\" font-family=\"sans-serif\" font-size=\"11\" lengthAdjust=\"spacingAndGlyphs\" textLength=\"38\" x=\"45\" y=\"449.7573\">p2: ~P</text><line style=\"stroke: #383838; stroke-width: 1.0;\" x1=\"40\" x2=\"72\" y1=\"420.3398\" y2=\"420.3398\"/><text fill=\"#000000\" font-family=\"sans-serif\" font-size=\"11\" lengthAdjust=\"spacingAndGlyphs\" textLength=\"30\" x=\"72\" y=\"423.6479\">ports</text><line style=\"stroke: #383838; stroke-width: 1.0;\" x1=\"102\" x2=\"134\" y1=\"420.3398\" y2=\"420.3398\"/></a><!--MD5=[49a0ec8f00dab7302a31f22d0f0fe584]\n",
       "class E12--><a href=\"psysml:805f8ddd-ca4a-414c-92f1-ea459766cc23\" target=\"_top\" title=\"psysml:805f8ddd-ca4a-414c-92f1-ea459766cc23\" xlink:actuate=\"onRequest\" xlink:href=\"psysml:805f8ddd-ca4a-414c-92f1-ea459766cc23\" xlink:show=\"new\" xlink:title=\"psysml:805f8ddd-ca4a-414c-92f1-ea459766cc23\" xlink:type=\"simple\"><rect fill=\"#FFFFFF\" height=\"45.9375\" id=\"E12\" style=\"stroke: #383838; stroke-width: 1.5;\" width=\"66\" x=\"54\" y=\"491\"/><text fill=\"#000000\" font-family=\"sans-serif\" font-size=\"12\" font-style=\"italic\" lengthAdjust=\"spacingAndGlyphs\" textLength=\"64\" x=\"55\" y=\"507.1387\">«part def»</text><text fill=\"#000000\" font-family=\"sans-serif\" font-size=\"12\" lengthAdjust=\"spacingAndGlyphs\" textLength=\"16\" x=\"79\" y=\"521.1074\">B1</text><line style=\"stroke: #383838; stroke-width: 1.5;\" x1=\"55\" x2=\"119\" y1=\"528.9375\" y2=\"528.9375\"/></a><!--MD5=[ee3c913d1a06f366521f9ef512b67efe]\n",
       "class E13--><a href=\"psysml:072097f8-3b46-444f-b0fb-f8fd70c894a4\" target=\"_top\" title=\"psysml:072097f8-3b46-444f-b0fb-f8fd70c894a4\" xlink:actuate=\"onRequest\" xlink:href=\"psysml:072097f8-3b46-444f-b0fb-f8fd70c894a4\" xlink:show=\"new\" xlink:title=\"psysml:072097f8-3b46-444f-b0fb-f8fd70c894a4\" xlink:type=\"simple\"><rect fill=\"#FFFFFF\" height=\"88.3516\" id=\"E13\" rx=\"10\" ry=\"10\" style=\"stroke: #383838; stroke-width: 1.5;\" width=\"50\" x=\"202\" y=\"449\"/><text fill=\"#000000\" font-family=\"sans-serif\" font-size=\"12\" font-style=\"italic\" lengthAdjust=\"spacingAndGlyphs\" textLength=\"40\" x=\"207\" y=\"465.1387\">«part»</text><text fill=\"#000000\" font-family=\"sans-serif\" font-size=\"12\" lengthAdjust=\"spacingAndGlyphs\" textLength=\"8\" x=\"223\" y=\"479.1074\">p</text><line style=\"stroke: #383838; stroke-width: 1.5;\" x1=\"203\" x2=\"251\" y1=\"486.9375\" y2=\"486.9375\"/><text fill=\"#000000\" font-family=\"sans-serif\" font-size=\"11\" lengthAdjust=\"spacingAndGlyphs\" textLength=\"29\" x=\"208\" y=\"517.9526\">p1: P</text><text fill=\"#000000\" font-family=\"sans-serif\" font-size=\"11\" lengthAdjust=\"spacingAndGlyphs\" textLength=\"38\" x=\"208\" y=\"530.7573\">p2: ~P</text><line style=\"stroke: #383838; stroke-width: 1.0;\" x1=\"203\" x2=\"212\" y1=\"501.3398\" y2=\"501.3398\"/><text fill=\"#000000\" font-family=\"sans-serif\" font-size=\"11\" lengthAdjust=\"spacingAndGlyphs\" textLength=\"30\" x=\"212\" y=\"504.6479\">ports</text><line style=\"stroke: #383838; stroke-width: 1.0;\" x1=\"242\" x2=\"251\" y1=\"501.3398\" y2=\"501.3398\"/></a><!--MD5=[062ed86c389d1a88f61c6380d0491e17]\n",
       "reverse link E12 to E13--><a href=\"psysml:072097f8-3b46-444f-b0fb-f8fd70c894a4\" target=\"_top\" title=\"psysml:072097f8-3b46-444f-b0fb-f8fd70c894a4\" xlink:actuate=\"onRequest\" xlink:href=\"psysml:072097f8-3b46-444f-b0fb-f8fd70c894a4\" xlink:show=\"new\" xlink:title=\"psysml:072097f8-3b46-444f-b0fb-f8fd70c894a4\" xlink:type=\"simple\"><path d=\"M132.96,507.16 C155.92,503.66 182.94,499.55 201.92,496.66 \" fill=\"none\" id=\"E12&lt;-E13\" style=\"stroke: #383838; stroke-width: 1.0;\"/><polygon fill=\"#383838\" points=\"120.01,509.13,126.5441,512.1804,131.873,507.3222,125.3389,504.2717,120.01,509.13\" style=\"stroke: #383838; stroke-width: 1.0;\"/></a><!--MD5=[1837aabccac915faded8405cbecf7c95]\n",
       "@startuml\r\n",
       "left to right direction\r\n",
       "skinparam monochrome true\r\n",
       "skinparam classbackgroundcolor white\r\n",
       "skinparam shadowing false\r\n",
       "skinparam wrapWidth 300\r\n",
       "hide circle\r\n",
       "\r\n",
       "package \"ConjugationTest\" as E1  [[psysml:34192d11-634f-45f2-bc4e-1f94e63724b0 ]]  {\r\n",
       "comp def \"P\" as E2  <<(T,blue)port def>> [[psysml:c663f064-4c04-4527-821b-19ee83969177 ]] {\r\n",
       "}\r\n",
       "comp def \"B\" as E3  <<(T,blue)part def>> [[psysml:e064966f-e96c-463a-b744-2c95fe6cd8a1 ]] {\r\n",
       "- - ports - -\r\n",
       "p1: P\r\n",
       "p2: ~P\r\n",
       "}\r\n",
       "comp def \"A\" as E6  <<(T,blue)connection def>> [[psysml:005e78a8-b799-41cc-8c3e-bd1642b3bc90 ]] {\r\n",
       "- - ports - -\r\n",
       "p1: P\r\n",
       "p2: ~P\r\n",
       "}\r\n",
       "comp def \"I\" as E9  <<(T,blue)interface def>> [[psysml:21ca298b-43fb-4a5a-8828-d457e715a9a7 ]] {\r\n",
       "- - ports - -\r\n",
       "p1: P\r\n",
       "p2: ~P\r\n",
       "}\r\n",
       "comp def \"B1\" as E12  <<(T,blue)part def>> [[psysml:805f8ddd-ca4a-414c-92f1-ea459766cc23 ]] {\r\n",
       "}\r\n",
       "comp usage \"p\" as E13  <<(T,blue)part>> [[psysml:072097f8-3b46-444f-b0fb-f8fd70c894a4 ]] {\r\n",
       "- - ports - -\r\n",
       "p1: P\r\n",
       "p2: ~P\r\n",
       "}\r\n",
       "E12 *- - E13 [[psysml:072097f8-3b46-444f-b0fb-f8fd70c894a4 ]] \r\n",
       "}\r\n",
       "@enduml\r\n",
       "\n",
       "PlantUML version 1.2020.13(Sat Jun 13 12:26:38 UTC 2020)\n",
       "(EPL source distribution)\n",
       "Java Runtime: OpenJDK Runtime Environment\n",
       "JVM: OpenJDK 64-Bit Server VM\n",
       "Default Encoding: UTF-8\n",
       "Language: en\n",
       "Country: null\n",
       "--></g></svg>"
      ]
     },
     "execution_count": 21,
     "metadata": {},
     "output_type": "execute_result"
    }
   ],
   "source": [
    "%viz --style=\"LR\" --view=\"Sequence\" \"ConjugationTest\""
   ]
  },
  {
   "cell_type": "code",
   "execution_count": 22,
   "id": "increased-edward",
   "metadata": {
    "execution": {
     "iopub.execute_input": "2021-03-25T15:03:58.881228Z",
     "iopub.status.busy": "2021-03-25T15:03:58.880669Z",
     "iopub.status.idle": "2021-03-25T15:03:59.547430Z",
     "shell.execute_reply": "2021-03-25T15:03:59.547067Z"
    }
   },
   "outputs": [
    {
     "data": {
      "image/svg+xml": [
       "<?xml version=\"1.0\" encoding=\"UTF-8\" standalone=\"no\"?><svg xmlns=\"http://www.w3.org/2000/svg\" xmlns:xlink=\"http://www.w3.org/1999/xlink\" contentScriptType=\"application/ecmascript\" contentStyleType=\"text/css\" height=\"565px\" preserveAspectRatio=\"none\" style=\"width:290px;height:565px;\" version=\"1.1\" viewBox=\"0 0 290 565\" width=\"290px\" zoomAndPan=\"magnify\"><defs/><g><!--MD5=[fbc87193dbaf4d95561dea2c320d4a47]\n",
       "cluster E1--><a href=\"psysml:34192d11-634f-45f2-bc4e-1f94e63724b0\" target=\"_top\" title=\"psysml:34192d11-634f-45f2-bc4e-1f94e63724b0\" xlink:actuate=\"onRequest\" xlink:href=\"psysml:34192d11-634f-45f2-bc4e-1f94e63724b0\" xlink:show=\"new\" xlink:title=\"psysml:34192d11-634f-45f2-bc4e-1f94e63724b0\" xlink:type=\"simple\"><polygon fill=\"#FFFFFF\" points=\"16,6,151,6,158,28.2969,268,28.2969,268,553,16,553,16,6\" style=\"stroke: #000000; stroke-width: 1.5;\"/><line style=\"stroke: #000000; stroke-width: 1.5;\" x1=\"16\" x2=\"158\" y1=\"28.2969\" y2=\"28.2969\"/><text fill=\"#000000\" font-family=\"sans-serif\" font-size=\"14\" font-weight=\"bold\" lengthAdjust=\"spacingAndGlyphs\" textLength=\"129\" x=\"20\" y=\"20.9951\">ConjugationTest</text></a><!--MD5=[b4997ac47864f28c2f74865a473b2911]\n",
       "class E2--><a href=\"psysml:c663f064-4c04-4527-821b-19ee83969177\" target=\"_top\" title=\"psysml:c663f064-4c04-4527-821b-19ee83969177\" xlink:actuate=\"onRequest\" xlink:href=\"psysml:c663f064-4c04-4527-821b-19ee83969177\" xlink:show=\"new\" xlink:title=\"psysml:c663f064-4c04-4527-821b-19ee83969177\" xlink:type=\"simple\"><rect fill=\"#FFFFFF\" height=\"45.9375\" id=\"E2\" style=\"stroke: #383838; stroke-width: 1.5;\" width=\"66\" x=\"54\" y=\"41\"/><text fill=\"#000000\" font-family=\"sans-serif\" font-size=\"12\" font-style=\"italic\" lengthAdjust=\"spacingAndGlyphs\" textLength=\"64\" x=\"55\" y=\"57.1387\">«port def»</text><text fill=\"#000000\" font-family=\"sans-serif\" font-size=\"12\" lengthAdjust=\"spacingAndGlyphs\" textLength=\"8\" x=\"83\" y=\"71.1074\">P</text><line style=\"stroke: #383838; stroke-width: 1.5;\" x1=\"55\" x2=\"119\" y1=\"78.9375\" y2=\"78.9375\"/></a><!--MD5=[09b614a08d8cba4a07c9adeb5e0fee81]\n",
       "class E3--><a href=\"psysml:e064966f-e96c-463a-b744-2c95fe6cd8a1\" target=\"_top\" title=\"psysml:e064966f-e96c-463a-b744-2c95fe6cd8a1\" xlink:actuate=\"onRequest\" xlink:href=\"psysml:e064966f-e96c-463a-b744-2c95fe6cd8a1\" xlink:show=\"new\" xlink:title=\"psysml:e064966f-e96c-463a-b744-2c95fe6cd8a1\" xlink:type=\"simple\"><rect fill=\"#FFFFFF\" height=\"88.3516\" id=\"E3\" style=\"stroke: #383838; stroke-width: 1.5;\" width=\"66\" x=\"54\" y=\"122\"/><text fill=\"#000000\" font-family=\"sans-serif\" font-size=\"12\" font-style=\"italic\" lengthAdjust=\"spacingAndGlyphs\" textLength=\"64\" x=\"55\" y=\"138.1387\">«part def»</text><text fill=\"#000000\" font-family=\"sans-serif\" font-size=\"12\" lengthAdjust=\"spacingAndGlyphs\" textLength=\"8\" x=\"83\" y=\"152.1074\">B</text><line style=\"stroke: #383838; stroke-width: 1.5;\" x1=\"55\" x2=\"119\" y1=\"159.9375\" y2=\"159.9375\"/><text fill=\"#000000\" font-family=\"sans-serif\" font-size=\"11\" lengthAdjust=\"spacingAndGlyphs\" textLength=\"29\" x=\"60\" y=\"190.9526\">p1: P</text><text fill=\"#000000\" font-family=\"sans-serif\" font-size=\"11\" lengthAdjust=\"spacingAndGlyphs\" textLength=\"38\" x=\"60\" y=\"203.7573\">p2: ~P</text><line style=\"stroke: #383838; stroke-width: 1.0;\" x1=\"55\" x2=\"72\" y1=\"174.3398\" y2=\"174.3398\"/><text fill=\"#000000\" font-family=\"sans-serif\" font-size=\"11\" lengthAdjust=\"spacingAndGlyphs\" textLength=\"30\" x=\"72\" y=\"177.6479\">ports</text><line style=\"stroke: #383838; stroke-width: 1.0;\" x1=\"102\" x2=\"119\" y1=\"174.3398\" y2=\"174.3398\"/></a><!--MD5=[60a26617385b1d2d0262a64233df1f8d]\n",
       "class E6--><a href=\"psysml:005e78a8-b799-41cc-8c3e-bd1642b3bc90\" target=\"_top\" title=\"psysml:005e78a8-b799-41cc-8c3e-bd1642b3bc90\" xlink:actuate=\"onRequest\" xlink:href=\"psysml:005e78a8-b799-41cc-8c3e-bd1642b3bc90\" xlink:show=\"new\" xlink:title=\"psysml:005e78a8-b799-41cc-8c3e-bd1642b3bc90\" xlink:type=\"simple\"><rect fill=\"#FFFFFF\" height=\"88.3516\" id=\"E6\" style=\"stroke: #383838; stroke-width: 1.5;\" width=\"110\" x=\"32\" y=\"245\"/><text fill=\"#000000\" font-family=\"sans-serif\" font-size=\"12\" font-style=\"italic\" lengthAdjust=\"spacingAndGlyphs\" textLength=\"108\" x=\"33\" y=\"261.1387\">«connection def»</text><text fill=\"#000000\" font-family=\"sans-serif\" font-size=\"12\" lengthAdjust=\"spacingAndGlyphs\" textLength=\"8\" x=\"83\" y=\"275.1074\">A</text><line style=\"stroke: #383838; stroke-width: 1.5;\" x1=\"33\" x2=\"141\" y1=\"282.9375\" y2=\"282.9375\"/><text fill=\"#000000\" font-family=\"sans-serif\" font-size=\"11\" lengthAdjust=\"spacingAndGlyphs\" textLength=\"29\" x=\"38\" y=\"313.9526\">p1: P</text><text fill=\"#000000\" font-family=\"sans-serif\" font-size=\"11\" lengthAdjust=\"spacingAndGlyphs\" textLength=\"38\" x=\"38\" y=\"326.7573\">p2: ~P</text><line style=\"stroke: #383838; stroke-width: 1.0;\" x1=\"33\" x2=\"72\" y1=\"297.3398\" y2=\"297.3398\"/><text fill=\"#000000\" font-family=\"sans-serif\" font-size=\"11\" lengthAdjust=\"spacingAndGlyphs\" textLength=\"30\" x=\"72\" y=\"300.6479\">ports</text><line style=\"stroke: #383838; stroke-width: 1.0;\" x1=\"102\" x2=\"141\" y1=\"297.3398\" y2=\"297.3398\"/></a><!--MD5=[fd4143e9d270a159db93a4ea2a975926]\n",
       "class E9--><a href=\"psysml:21ca298b-43fb-4a5a-8828-d457e715a9a7\" target=\"_top\" title=\"psysml:21ca298b-43fb-4a5a-8828-d457e715a9a7\" xlink:actuate=\"onRequest\" xlink:href=\"psysml:21ca298b-43fb-4a5a-8828-d457e715a9a7\" xlink:show=\"new\" xlink:title=\"psysml:21ca298b-43fb-4a5a-8828-d457e715a9a7\" xlink:type=\"simple\"><rect fill=\"#FFFFFF\" height=\"88.3516\" id=\"E9\" style=\"stroke: #383838; stroke-width: 1.5;\" width=\"96\" x=\"39\" y=\"368\"/><text fill=\"#000000\" font-family=\"sans-serif\" font-size=\"12\" font-style=\"italic\" lengthAdjust=\"spacingAndGlyphs\" textLength=\"94\" x=\"40\" y=\"384.1387\">«interface def»</text><text fill=\"#000000\" font-family=\"sans-serif\" font-size=\"12\" lengthAdjust=\"spacingAndGlyphs\" textLength=\"3\" x=\"85.5\" y=\"398.1074\">I</text><line style=\"stroke: #383838; stroke-width: 1.5;\" x1=\"40\" x2=\"134\" y1=\"405.9375\" y2=\"405.9375\"/><text fill=\"#000000\" font-family=\"sans-serif\" font-size=\"11\" lengthAdjust=\"spacingAndGlyphs\" textLength=\"29\" x=\"45\" y=\"436.9526\">p1: P</text><text fill=\"#000000\" font-family=\"sans-serif\" font-size=\"11\" lengthAdjust=\"spacingAndGlyphs\" textLength=\"38\" x=\"45\" y=\"449.7573\">p2: ~P</text><line style=\"stroke: #383838; stroke-width: 1.0;\" x1=\"40\" x2=\"72\" y1=\"420.3398\" y2=\"420.3398\"/><text fill=\"#000000\" font-family=\"sans-serif\" font-size=\"11\" lengthAdjust=\"spacingAndGlyphs\" textLength=\"30\" x=\"72\" y=\"423.6479\">ports</text><line style=\"stroke: #383838; stroke-width: 1.0;\" x1=\"102\" x2=\"134\" y1=\"420.3398\" y2=\"420.3398\"/></a><!--MD5=[49a0ec8f00dab7302a31f22d0f0fe584]\n",
       "class E12--><a href=\"psysml:805f8ddd-ca4a-414c-92f1-ea459766cc23\" target=\"_top\" title=\"psysml:805f8ddd-ca4a-414c-92f1-ea459766cc23\" xlink:actuate=\"onRequest\" xlink:href=\"psysml:805f8ddd-ca4a-414c-92f1-ea459766cc23\" xlink:show=\"new\" xlink:title=\"psysml:805f8ddd-ca4a-414c-92f1-ea459766cc23\" xlink:type=\"simple\"><rect fill=\"#FFFFFF\" height=\"45.9375\" id=\"E12\" style=\"stroke: #383838; stroke-width: 1.5;\" width=\"66\" x=\"54\" y=\"491\"/><text fill=\"#000000\" font-family=\"sans-serif\" font-size=\"12\" font-style=\"italic\" lengthAdjust=\"spacingAndGlyphs\" textLength=\"64\" x=\"55\" y=\"507.1387\">«part def»</text><text fill=\"#000000\" font-family=\"sans-serif\" font-size=\"12\" lengthAdjust=\"spacingAndGlyphs\" textLength=\"16\" x=\"79\" y=\"521.1074\">B1</text><line style=\"stroke: #383838; stroke-width: 1.5;\" x1=\"55\" x2=\"119\" y1=\"528.9375\" y2=\"528.9375\"/></a><!--MD5=[ee3c913d1a06f366521f9ef512b67efe]\n",
       "class E13--><a href=\"psysml:072097f8-3b46-444f-b0fb-f8fd70c894a4\" target=\"_top\" title=\"psysml:072097f8-3b46-444f-b0fb-f8fd70c894a4\" xlink:actuate=\"onRequest\" xlink:href=\"psysml:072097f8-3b46-444f-b0fb-f8fd70c894a4\" xlink:show=\"new\" xlink:title=\"psysml:072097f8-3b46-444f-b0fb-f8fd70c894a4\" xlink:type=\"simple\"><rect fill=\"#FFFFFF\" height=\"88.3516\" id=\"E13\" rx=\"10\" ry=\"10\" style=\"stroke: #383838; stroke-width: 1.5;\" width=\"50\" x=\"202\" y=\"449\"/><text fill=\"#000000\" font-family=\"sans-serif\" font-size=\"12\" font-style=\"italic\" lengthAdjust=\"spacingAndGlyphs\" textLength=\"40\" x=\"207\" y=\"465.1387\">«part»</text><text fill=\"#000000\" font-family=\"sans-serif\" font-size=\"12\" lengthAdjust=\"spacingAndGlyphs\" textLength=\"8\" x=\"223\" y=\"479.1074\">p</text><line style=\"stroke: #383838; stroke-width: 1.5;\" x1=\"203\" x2=\"251\" y1=\"486.9375\" y2=\"486.9375\"/><text fill=\"#000000\" font-family=\"sans-serif\" font-size=\"11\" lengthAdjust=\"spacingAndGlyphs\" textLength=\"29\" x=\"208\" y=\"517.9526\">p1: P</text><text fill=\"#000000\" font-family=\"sans-serif\" font-size=\"11\" lengthAdjust=\"spacingAndGlyphs\" textLength=\"38\" x=\"208\" y=\"530.7573\">p2: ~P</text><line style=\"stroke: #383838; stroke-width: 1.0;\" x1=\"203\" x2=\"212\" y1=\"501.3398\" y2=\"501.3398\"/><text fill=\"#000000\" font-family=\"sans-serif\" font-size=\"11\" lengthAdjust=\"spacingAndGlyphs\" textLength=\"30\" x=\"212\" y=\"504.6479\">ports</text><line style=\"stroke: #383838; stroke-width: 1.0;\" x1=\"242\" x2=\"251\" y1=\"501.3398\" y2=\"501.3398\"/></a><!--MD5=[062ed86c389d1a88f61c6380d0491e17]\n",
       "reverse link E12 to E13--><a href=\"psysml:072097f8-3b46-444f-b0fb-f8fd70c894a4\" target=\"_top\" title=\"psysml:072097f8-3b46-444f-b0fb-f8fd70c894a4\" xlink:actuate=\"onRequest\" xlink:href=\"psysml:072097f8-3b46-444f-b0fb-f8fd70c894a4\" xlink:show=\"new\" xlink:title=\"psysml:072097f8-3b46-444f-b0fb-f8fd70c894a4\" xlink:type=\"simple\"><path d=\"M132.96,507.16 C155.92,503.66 182.94,499.55 201.92,496.66 \" fill=\"none\" id=\"E12&lt;-E13\" style=\"stroke: #383838; stroke-width: 1.0;\"/><polygon fill=\"#383838\" points=\"120.01,509.13,126.5441,512.1804,131.873,507.3222,125.3389,504.2717,120.01,509.13\" style=\"stroke: #383838; stroke-width: 1.0;\"/></a><!--MD5=[1837aabccac915faded8405cbecf7c95]\n",
       "@startuml\r\n",
       "left to right direction\r\n",
       "skinparam monochrome true\r\n",
       "skinparam classbackgroundcolor white\r\n",
       "skinparam shadowing false\r\n",
       "skinparam wrapWidth 300\r\n",
       "hide circle\r\n",
       "\r\n",
       "package \"ConjugationTest\" as E1  [[psysml:34192d11-634f-45f2-bc4e-1f94e63724b0 ]]  {\r\n",
       "comp def \"P\" as E2  <<(T,blue)port def>> [[psysml:c663f064-4c04-4527-821b-19ee83969177 ]] {\r\n",
       "}\r\n",
       "comp def \"B\" as E3  <<(T,blue)part def>> [[psysml:e064966f-e96c-463a-b744-2c95fe6cd8a1 ]] {\r\n",
       "- - ports - -\r\n",
       "p1: P\r\n",
       "p2: ~P\r\n",
       "}\r\n",
       "comp def \"A\" as E6  <<(T,blue)connection def>> [[psysml:005e78a8-b799-41cc-8c3e-bd1642b3bc90 ]] {\r\n",
       "- - ports - -\r\n",
       "p1: P\r\n",
       "p2: ~P\r\n",
       "}\r\n",
       "comp def \"I\" as E9  <<(T,blue)interface def>> [[psysml:21ca298b-43fb-4a5a-8828-d457e715a9a7 ]] {\r\n",
       "- - ports - -\r\n",
       "p1: P\r\n",
       "p2: ~P\r\n",
       "}\r\n",
       "comp def \"B1\" as E12  <<(T,blue)part def>> [[psysml:805f8ddd-ca4a-414c-92f1-ea459766cc23 ]] {\r\n",
       "}\r\n",
       "comp usage \"p\" as E13  <<(T,blue)part>> [[psysml:072097f8-3b46-444f-b0fb-f8fd70c894a4 ]] {\r\n",
       "- - ports - -\r\n",
       "p1: P\r\n",
       "p2: ~P\r\n",
       "}\r\n",
       "E12 *- - E13 [[psysml:072097f8-3b46-444f-b0fb-f8fd70c894a4 ]] \r\n",
       "}\r\n",
       "@enduml\r\n",
       "\n",
       "PlantUML version 1.2020.13(Sat Jun 13 12:26:38 UTC 2020)\n",
       "(EPL source distribution)\n",
       "Java Runtime: OpenJDK Runtime Environment\n",
       "JVM: OpenJDK 64-Bit Server VM\n",
       "Default Encoding: UTF-8\n",
       "Language: en\n",
       "Country: null\n",
       "--></g></svg>"
      ]
     },
     "execution_count": 22,
     "metadata": {},
     "output_type": "execute_result"
    }
   ],
   "source": [
    "%viz --style=\"LR\" --view=\"MIXED\" \"ConjugationTest\""
   ]
  },
  {
   "cell_type": "code",
   "execution_count": 23,
   "id": "affecting-violence",
   "metadata": {
    "execution": {
     "iopub.execute_input": "2021-03-25T15:03:59.598966Z",
     "iopub.status.busy": "2021-03-25T15:03:59.598211Z",
     "iopub.status.idle": "2021-03-25T15:04:00.263695Z",
     "shell.execute_reply": "2021-03-25T15:04:00.261304Z"
    }
   },
   "outputs": [
    {
     "data": {
      "image/svg+xml": [
       "<?xml version=\"1.0\" encoding=\"UTF-8\" standalone=\"no\"?><svg xmlns=\"http://www.w3.org/2000/svg\" xmlns:xlink=\"http://www.w3.org/1999/xlink\" contentScriptType=\"application/ecmascript\" contentStyleType=\"text/css\" height=\"305px\" preserveAspectRatio=\"none\" style=\"width:614px;height:305px;\" version=\"1.1\" viewBox=\"0 0 614 305\" width=\"614px\" zoomAndPan=\"magnify\"><defs><filter height=\"300%\" id=\"f1jispar6goeet\" width=\"300%\" x=\"-1\" y=\"-1\"><feGaussianBlur result=\"blurOut\" stdDeviation=\"2.0\"/><feColorMatrix in=\"blurOut\" result=\"blurOut2\" type=\"matrix\" values=\"0 0 0 0 0 0 0 0 0 0 0 0 0 0 0 0 0 0 .4 0\"/><feOffset dx=\"4.0\" dy=\"4.0\" in=\"blurOut2\" result=\"blurOut3\"/><feBlend in=\"SourceGraphic\" in2=\"blurOut3\" mode=\"normal\"/></filter></defs><g><!--MD5=[fbc87193dbaf4d95561dea2c320d4a47]\n",
       "cluster E1--><a href=\"psysml:34192d11-634f-45f2-bc4e-1f94e63724b0\" target=\"_top\" title=\"psysml:34192d11-634f-45f2-bc4e-1f94e63724b0\" xlink:actuate=\"onRequest\" xlink:href=\"psysml:34192d11-634f-45f2-bc4e-1f94e63724b0\" xlink:show=\"new\" xlink:title=\"psysml:34192d11-634f-45f2-bc4e-1f94e63724b0\" xlink:type=\"simple\"><polygon fill=\"#FFFFFF\" filter=\"url(#f1jispar6goeet)\" points=\"16,6,151,6,158,28.2969,592,28.2969,592,293,16,293,16,6\" style=\"stroke: #000000; stroke-width: 1.5;\"/><line style=\"stroke: #000000; stroke-width: 1.5;\" x1=\"16\" x2=\"158\" y1=\"28.2969\" y2=\"28.2969\"/><text fill=\"#000000\" font-family=\"sans-serif\" font-size=\"14\" font-weight=\"bold\" lengthAdjust=\"spacingAndGlyphs\" textLength=\"129\" x=\"20\" y=\"20.9951\">ConjugationTest</text></a><!--MD5=[b4997ac47864f28c2f74865a473b2911]\n",
       "class E2--><a href=\"psysml:c663f064-4c04-4527-821b-19ee83969177\" target=\"_top\" title=\"psysml:c663f064-4c04-4527-821b-19ee83969177\" xlink:actuate=\"onRequest\" xlink:href=\"psysml:c663f064-4c04-4527-821b-19ee83969177\" xlink:show=\"new\" xlink:title=\"psysml:c663f064-4c04-4527-821b-19ee83969177\" xlink:type=\"simple\"><rect fill=\"#FEFECE\" filter=\"url(#f1jispar6goeet)\" height=\"45.9375\" id=\"E2\" style=\"stroke: #A80036; stroke-width: 1.5;\" width=\"66\" x=\"510\" y=\"62\"/><text fill=\"#000000\" font-family=\"sans-serif\" font-size=\"12\" font-style=\"italic\" lengthAdjust=\"spacingAndGlyphs\" textLength=\"64\" x=\"511\" y=\"78.1387\">«port def»</text><text fill=\"#000000\" font-family=\"sans-serif\" font-size=\"12\" lengthAdjust=\"spacingAndGlyphs\" textLength=\"8\" x=\"539\" y=\"92.1074\">P</text><line style=\"stroke: #A80036; stroke-width: 1.5;\" x1=\"511\" x2=\"575\" y1=\"99.9375\" y2=\"99.9375\"/></a><!--MD5=[09b614a08d8cba4a07c9adeb5e0fee81]\n",
       "class E3--><a href=\"psysml:e064966f-e96c-463a-b744-2c95fe6cd8a1\" target=\"_top\" title=\"psysml:e064966f-e96c-463a-b744-2c95fe6cd8a1\" xlink:actuate=\"onRequest\" xlink:href=\"psysml:e064966f-e96c-463a-b744-2c95fe6cd8a1\" xlink:show=\"new\" xlink:title=\"psysml:e064966f-e96c-463a-b744-2c95fe6cd8a1\" xlink:type=\"simple\"><rect fill=\"#FEFECE\" filter=\"url(#f1jispar6goeet)\" height=\"88.3516\" id=\"E3\" style=\"stroke: #A80036; stroke-width: 1.5;\" width=\"66\" x=\"409\" y=\"41\"/><text fill=\"#000000\" font-family=\"sans-serif\" font-size=\"12\" font-style=\"italic\" lengthAdjust=\"spacingAndGlyphs\" textLength=\"64\" x=\"410\" y=\"57.1387\">«part def»</text><text fill=\"#000000\" font-family=\"sans-serif\" font-size=\"12\" lengthAdjust=\"spacingAndGlyphs\" textLength=\"8\" x=\"438\" y=\"71.1074\">B</text><line style=\"stroke: #A80036; stroke-width: 1.5;\" x1=\"410\" x2=\"474\" y1=\"78.9375\" y2=\"78.9375\"/><text fill=\"#000000\" font-family=\"sans-serif\" font-size=\"11\" lengthAdjust=\"spacingAndGlyphs\" textLength=\"29\" x=\"415\" y=\"109.9526\">p1: P</text><text fill=\"#000000\" font-family=\"sans-serif\" font-size=\"11\" lengthAdjust=\"spacingAndGlyphs\" textLength=\"38\" x=\"415\" y=\"122.7573\">p2: ~P</text><line style=\"stroke: #A80036; stroke-width: 1.0;\" x1=\"410\" x2=\"427\" y1=\"93.3398\" y2=\"93.3398\"/><text fill=\"#000000\" font-family=\"sans-serif\" font-size=\"11\" lengthAdjust=\"spacingAndGlyphs\" textLength=\"30\" x=\"427\" y=\"96.6479\">ports</text><line style=\"stroke: #A80036; stroke-width: 1.0;\" x1=\"457\" x2=\"474\" y1=\"93.3398\" y2=\"93.3398\"/></a><!--MD5=[60a26617385b1d2d0262a64233df1f8d]\n",
       "class E6--><a href=\"psysml:005e78a8-b799-41cc-8c3e-bd1642b3bc90\" target=\"_top\" title=\"psysml:005e78a8-b799-41cc-8c3e-bd1642b3bc90\" xlink:actuate=\"onRequest\" xlink:href=\"psysml:005e78a8-b799-41cc-8c3e-bd1642b3bc90\" xlink:show=\"new\" xlink:title=\"psysml:005e78a8-b799-41cc-8c3e-bd1642b3bc90\" xlink:type=\"simple\"><rect fill=\"#FEFECE\" filter=\"url(#f1jispar6goeet)\" height=\"88.3516\" id=\"E6\" style=\"stroke: #A80036; stroke-width: 1.5;\" width=\"110\" x=\"264\" y=\"41\"/><text fill=\"#000000\" font-family=\"sans-serif\" font-size=\"12\" font-style=\"italic\" lengthAdjust=\"spacingAndGlyphs\" textLength=\"108\" x=\"265\" y=\"57.1387\">«connection def»</text><text fill=\"#000000\" font-family=\"sans-serif\" font-size=\"12\" lengthAdjust=\"spacingAndGlyphs\" textLength=\"8\" x=\"315\" y=\"71.1074\">A</text><line style=\"stroke: #A80036; stroke-width: 1.5;\" x1=\"265\" x2=\"373\" y1=\"78.9375\" y2=\"78.9375\"/><text fill=\"#000000\" font-family=\"sans-serif\" font-size=\"11\" lengthAdjust=\"spacingAndGlyphs\" textLength=\"29\" x=\"270\" y=\"109.9526\">p1: P</text><text fill=\"#000000\" font-family=\"sans-serif\" font-size=\"11\" lengthAdjust=\"spacingAndGlyphs\" textLength=\"38\" x=\"270\" y=\"122.7573\">p2: ~P</text><line style=\"stroke: #A80036; stroke-width: 1.0;\" x1=\"265\" x2=\"304\" y1=\"93.3398\" y2=\"93.3398\"/><text fill=\"#000000\" font-family=\"sans-serif\" font-size=\"11\" lengthAdjust=\"spacingAndGlyphs\" textLength=\"30\" x=\"304\" y=\"96.6479\">ports</text><line style=\"stroke: #A80036; stroke-width: 1.0;\" x1=\"334\" x2=\"373\" y1=\"93.3398\" y2=\"93.3398\"/></a><!--MD5=[fd4143e9d270a159db93a4ea2a975926]\n",
       "class E9--><a href=\"psysml:21ca298b-43fb-4a5a-8828-d457e715a9a7\" target=\"_top\" title=\"psysml:21ca298b-43fb-4a5a-8828-d457e715a9a7\" xlink:actuate=\"onRequest\" xlink:href=\"psysml:21ca298b-43fb-4a5a-8828-d457e715a9a7\" xlink:show=\"new\" xlink:title=\"psysml:21ca298b-43fb-4a5a-8828-d457e715a9a7\" xlink:type=\"simple\"><rect fill=\"#FEFECE\" filter=\"url(#f1jispar6goeet)\" height=\"88.3516\" id=\"E9\" style=\"stroke: #A80036; stroke-width: 1.5;\" width=\"96\" x=\"133\" y=\"41\"/><text fill=\"#000000\" font-family=\"sans-serif\" font-size=\"12\" font-style=\"italic\" lengthAdjust=\"spacingAndGlyphs\" textLength=\"94\" x=\"134\" y=\"57.1387\">«interface def»</text><text fill=\"#000000\" font-family=\"sans-serif\" font-size=\"12\" lengthAdjust=\"spacingAndGlyphs\" textLength=\"3\" x=\"179.5\" y=\"71.1074\">I</text><line style=\"stroke: #A80036; stroke-width: 1.5;\" x1=\"134\" x2=\"228\" y1=\"78.9375\" y2=\"78.9375\"/><text fill=\"#000000\" font-family=\"sans-serif\" font-size=\"11\" lengthAdjust=\"spacingAndGlyphs\" textLength=\"29\" x=\"139\" y=\"109.9526\">p1: P</text><text fill=\"#000000\" font-family=\"sans-serif\" font-size=\"11\" lengthAdjust=\"spacingAndGlyphs\" textLength=\"38\" x=\"139\" y=\"122.7573\">p2: ~P</text><line style=\"stroke: #A80036; stroke-width: 1.0;\" x1=\"134\" x2=\"166\" y1=\"93.3398\" y2=\"93.3398\"/><text fill=\"#000000\" font-family=\"sans-serif\" font-size=\"11\" lengthAdjust=\"spacingAndGlyphs\" textLength=\"30\" x=\"166\" y=\"96.6479\">ports</text><line style=\"stroke: #A80036; stroke-width: 1.0;\" x1=\"196\" x2=\"228\" y1=\"93.3398\" y2=\"93.3398\"/></a><!--MD5=[49a0ec8f00dab7302a31f22d0f0fe584]\n",
       "class E12--><a href=\"psysml:805f8ddd-ca4a-414c-92f1-ea459766cc23\" target=\"_top\" title=\"psysml:805f8ddd-ca4a-414c-92f1-ea459766cc23\" xlink:actuate=\"onRequest\" xlink:href=\"psysml:805f8ddd-ca4a-414c-92f1-ea459766cc23\" xlink:show=\"new\" xlink:title=\"psysml:805f8ddd-ca4a-414c-92f1-ea459766cc23\" xlink:type=\"simple\"><rect fill=\"#FEFECE\" filter=\"url(#f1jispar6goeet)\" height=\"45.9375\" id=\"E12\" style=\"stroke: #A80036; stroke-width: 1.5;\" width=\"66\" x=\"32\" y=\"62\"/><text fill=\"#000000\" font-family=\"sans-serif\" font-size=\"12\" font-style=\"italic\" lengthAdjust=\"spacingAndGlyphs\" textLength=\"64\" x=\"33\" y=\"78.1387\">«part def»</text><text fill=\"#000000\" font-family=\"sans-serif\" font-size=\"12\" lengthAdjust=\"spacingAndGlyphs\" textLength=\"16\" x=\"57\" y=\"92.1074\">B1</text><line style=\"stroke: #A80036; stroke-width: 1.5;\" x1=\"33\" x2=\"97\" y1=\"99.9375\" y2=\"99.9375\"/></a><!--MD5=[ee3c913d1a06f366521f9ef512b67efe]\n",
       "class E13--><a href=\"psysml:072097f8-3b46-444f-b0fb-f8fd70c894a4\" target=\"_top\" title=\"psysml:072097f8-3b46-444f-b0fb-f8fd70c894a4\" xlink:actuate=\"onRequest\" xlink:href=\"psysml:072097f8-3b46-444f-b0fb-f8fd70c894a4\" xlink:show=\"new\" xlink:title=\"psysml:072097f8-3b46-444f-b0fb-f8fd70c894a4\" xlink:type=\"simple\"><rect fill=\"#FEFECE\" filter=\"url(#f1jispar6goeet)\" height=\"88.3516\" id=\"E13\" rx=\"10\" ry=\"10\" style=\"stroke: #A80036; stroke-width: 1.5;\" width=\"50\" x=\"40\" y=\"189\"/><text fill=\"#000000\" font-family=\"sans-serif\" font-size=\"12\" font-style=\"italic\" lengthAdjust=\"spacingAndGlyphs\" textLength=\"40\" x=\"45\" y=\"205.1387\">«part»</text><text fill=\"#000000\" font-family=\"sans-serif\" font-size=\"12\" lengthAdjust=\"spacingAndGlyphs\" textLength=\"8\" x=\"61\" y=\"219.1074\">p</text><line style=\"stroke: #A80036; stroke-width: 1.5;\" x1=\"41\" x2=\"89\" y1=\"226.9375\" y2=\"226.9375\"/><text fill=\"#000000\" font-family=\"sans-serif\" font-size=\"11\" lengthAdjust=\"spacingAndGlyphs\" textLength=\"29\" x=\"46\" y=\"257.9526\">p1: P</text><text fill=\"#000000\" font-family=\"sans-serif\" font-size=\"11\" lengthAdjust=\"spacingAndGlyphs\" textLength=\"38\" x=\"46\" y=\"270.7573\">p2: ~P</text><line style=\"stroke: #A80036; stroke-width: 1.0;\" x1=\"41\" x2=\"50\" y1=\"241.3398\" y2=\"241.3398\"/><text fill=\"#000000\" font-family=\"sans-serif\" font-size=\"11\" lengthAdjust=\"spacingAndGlyphs\" textLength=\"30\" x=\"50\" y=\"244.6479\">ports</text><line style=\"stroke: #A80036; stroke-width: 1.0;\" x1=\"80\" x2=\"89\" y1=\"241.3398\" y2=\"241.3398\"/></a><!--MD5=[062ed86c389d1a88f61c6380d0491e17]\n",
       "reverse link E12 to E13--><a href=\"psysml:072097f8-3b46-444f-b0fb-f8fd70c894a4\" target=\"_top\" title=\"psysml:072097f8-3b46-444f-b0fb-f8fd70c894a4\" xlink:actuate=\"onRequest\" xlink:href=\"psysml:072097f8-3b46-444f-b0fb-f8fd70c894a4\" xlink:show=\"new\" xlink:title=\"psysml:072097f8-3b46-444f-b0fb-f8fd70c894a4\" xlink:type=\"simple\"><path d=\"M65,121.25 C65,141.54 65,167.2 65,188.71 \" fill=\"none\" id=\"E12&lt;-E13\" style=\"stroke: #A80036; stroke-width: 1.0;\"/><polygon fill=\"#A80036\" points=\"65,108.17,61,114.17,65,120.17,69,114.17,65,108.17\" style=\"stroke: #A80036; stroke-width: 1.0;\"/></a><!--MD5=[40c50ccbbdc23589e3f83b573377c131]\n",
       "@startuml\r\n",
       "skinparam wrapWidth 300\r\n",
       "hide circle\r\n",
       "\r\n",
       "package \"ConjugationTest\" as E1  [[psysml:34192d11-634f-45f2-bc4e-1f94e63724b0 ]]  {\r\n",
       "comp def \"P\" as E2  <<(T,blue)port def>> [[psysml:c663f064-4c04-4527-821b-19ee83969177 ]] {\r\n",
       "}\r\n",
       "comp def \"B\" as E3  <<(T,blue)part def>> [[psysml:e064966f-e96c-463a-b744-2c95fe6cd8a1 ]] {\r\n",
       "- - ports - -\r\n",
       "p1: P\r\n",
       "p2: ~P\r\n",
       "}\r\n",
       "comp def \"A\" as E6  <<(T,blue)connection def>> [[psysml:005e78a8-b799-41cc-8c3e-bd1642b3bc90 ]] {\r\n",
       "- - ports - -\r\n",
       "p1: P\r\n",
       "p2: ~P\r\n",
       "}\r\n",
       "comp def \"I\" as E9  <<(T,blue)interface def>> [[psysml:21ca298b-43fb-4a5a-8828-d457e715a9a7 ]] {\r\n",
       "- - ports - -\r\n",
       "p1: P\r\n",
       "p2: ~P\r\n",
       "}\r\n",
       "comp def \"B1\" as E12  <<(T,blue)part def>> [[psysml:805f8ddd-ca4a-414c-92f1-ea459766cc23 ]] {\r\n",
       "}\r\n",
       "comp usage \"p\" as E13  <<(T,blue)part>> [[psysml:072097f8-3b46-444f-b0fb-f8fd70c894a4 ]] {\r\n",
       "- - ports - -\r\n",
       "p1: P\r\n",
       "p2: ~P\r\n",
       "}\r\n",
       "E12 *- - E13 [[psysml:072097f8-3b46-444f-b0fb-f8fd70c894a4 ]] \r\n",
       "}\r\n",
       "@enduml\r\n",
       "\n",
       "PlantUML version 1.2020.13(Sat Jun 13 12:26:38 UTC 2020)\n",
       "(EPL source distribution)\n",
       "Java Runtime: OpenJDK Runtime Environment\n",
       "JVM: OpenJDK 64-Bit Server VM\n",
       "Default Encoding: UTF-8\n",
       "Language: en\n",
       "Country: null\n",
       "--></g></svg>"
      ]
     },
     "execution_count": 23,
     "metadata": {},
     "output_type": "execute_result"
    }
   ],
   "source": [
    "%viz --style=\"STDCOLOR\" --view=\"Default\" \"ConjugationTest\""
   ]
  },
  {
   "cell_type": "code",
   "execution_count": 24,
   "id": "cubic-jurisdiction",
   "metadata": {
    "execution": {
     "iopub.execute_input": "2021-03-25T15:04:00.315305Z",
     "iopub.status.busy": "2021-03-25T15:04:00.314592Z",
     "iopub.status.idle": "2021-03-25T15:04:00.973104Z",
     "shell.execute_reply": "2021-03-25T15:04:00.971861Z"
    }
   },
   "outputs": [
    {
     "data": {
      "image/svg+xml": [
       "<?xml version=\"1.0\" encoding=\"UTF-8\" standalone=\"no\"?><svg xmlns=\"http://www.w3.org/2000/svg\" xmlns:xlink=\"http://www.w3.org/1999/xlink\" contentScriptType=\"application/ecmascript\" contentStyleType=\"text/css\" height=\"305px\" preserveAspectRatio=\"none\" style=\"width:614px;height:305px;\" version=\"1.1\" viewBox=\"0 0 614 305\" width=\"614px\" zoomAndPan=\"magnify\"><defs><filter height=\"300%\" id=\"f1jispar6goeet\" width=\"300%\" x=\"-1\" y=\"-1\"><feGaussianBlur result=\"blurOut\" stdDeviation=\"2.0\"/><feColorMatrix in=\"blurOut\" result=\"blurOut2\" type=\"matrix\" values=\"0 0 0 0 0 0 0 0 0 0 0 0 0 0 0 0 0 0 .4 0\"/><feOffset dx=\"4.0\" dy=\"4.0\" in=\"blurOut2\" result=\"blurOut3\"/><feBlend in=\"SourceGraphic\" in2=\"blurOut3\" mode=\"normal\"/></filter></defs><g><!--MD5=[fbc87193dbaf4d95561dea2c320d4a47]\n",
       "cluster E1--><a href=\"psysml:34192d11-634f-45f2-bc4e-1f94e63724b0\" target=\"_top\" title=\"psysml:34192d11-634f-45f2-bc4e-1f94e63724b0\" xlink:actuate=\"onRequest\" xlink:href=\"psysml:34192d11-634f-45f2-bc4e-1f94e63724b0\" xlink:show=\"new\" xlink:title=\"psysml:34192d11-634f-45f2-bc4e-1f94e63724b0\" xlink:type=\"simple\"><polygon fill=\"#FFFFFF\" filter=\"url(#f1jispar6goeet)\" points=\"16,6,151,6,158,28.2969,592,28.2969,592,293,16,293,16,6\" style=\"stroke: #000000; stroke-width: 1.5;\"/><line style=\"stroke: #000000; stroke-width: 1.5;\" x1=\"16\" x2=\"158\" y1=\"28.2969\" y2=\"28.2969\"/><text fill=\"#000000\" font-family=\"sans-serif\" font-size=\"14\" font-weight=\"bold\" lengthAdjust=\"spacingAndGlyphs\" textLength=\"129\" x=\"20\" y=\"20.9951\">ConjugationTest</text></a><!--MD5=[b4997ac47864f28c2f74865a473b2911]\n",
       "class E2--><a href=\"psysml:c663f064-4c04-4527-821b-19ee83969177\" target=\"_top\" title=\"psysml:c663f064-4c04-4527-821b-19ee83969177\" xlink:actuate=\"onRequest\" xlink:href=\"psysml:c663f064-4c04-4527-821b-19ee83969177\" xlink:show=\"new\" xlink:title=\"psysml:c663f064-4c04-4527-821b-19ee83969177\" xlink:type=\"simple\"><rect fill=\"#FEFECE\" filter=\"url(#f1jispar6goeet)\" height=\"45.9375\" id=\"E2\" style=\"stroke: #A80036; stroke-width: 1.5;\" width=\"66\" x=\"510\" y=\"62\"/><text fill=\"#000000\" font-family=\"sans-serif\" font-size=\"12\" font-style=\"italic\" lengthAdjust=\"spacingAndGlyphs\" textLength=\"64\" x=\"511\" y=\"78.1387\">«port def»</text><text fill=\"#000000\" font-family=\"sans-serif\" font-size=\"12\" lengthAdjust=\"spacingAndGlyphs\" textLength=\"8\" x=\"539\" y=\"92.1074\">P</text><line style=\"stroke: #A80036; stroke-width: 1.5;\" x1=\"511\" x2=\"575\" y1=\"99.9375\" y2=\"99.9375\"/></a><!--MD5=[09b614a08d8cba4a07c9adeb5e0fee81]\n",
       "class E3--><a href=\"psysml:e064966f-e96c-463a-b744-2c95fe6cd8a1\" target=\"_top\" title=\"psysml:e064966f-e96c-463a-b744-2c95fe6cd8a1\" xlink:actuate=\"onRequest\" xlink:href=\"psysml:e064966f-e96c-463a-b744-2c95fe6cd8a1\" xlink:show=\"new\" xlink:title=\"psysml:e064966f-e96c-463a-b744-2c95fe6cd8a1\" xlink:type=\"simple\"><rect fill=\"#FEFECE\" filter=\"url(#f1jispar6goeet)\" height=\"88.3516\" id=\"E3\" style=\"stroke: #A80036; stroke-width: 1.5;\" width=\"66\" x=\"409\" y=\"41\"/><text fill=\"#000000\" font-family=\"sans-serif\" font-size=\"12\" font-style=\"italic\" lengthAdjust=\"spacingAndGlyphs\" textLength=\"64\" x=\"410\" y=\"57.1387\">«part def»</text><text fill=\"#000000\" font-family=\"sans-serif\" font-size=\"12\" lengthAdjust=\"spacingAndGlyphs\" textLength=\"8\" x=\"438\" y=\"71.1074\">B</text><line style=\"stroke: #A80036; stroke-width: 1.5;\" x1=\"410\" x2=\"474\" y1=\"78.9375\" y2=\"78.9375\"/><text fill=\"#000000\" font-family=\"sans-serif\" font-size=\"11\" lengthAdjust=\"spacingAndGlyphs\" textLength=\"29\" x=\"415\" y=\"109.9526\">p1: P</text><text fill=\"#000000\" font-family=\"sans-serif\" font-size=\"11\" lengthAdjust=\"spacingAndGlyphs\" textLength=\"38\" x=\"415\" y=\"122.7573\">p2: ~P</text><line style=\"stroke: #A80036; stroke-width: 1.0;\" x1=\"410\" x2=\"427\" y1=\"93.3398\" y2=\"93.3398\"/><text fill=\"#000000\" font-family=\"sans-serif\" font-size=\"11\" lengthAdjust=\"spacingAndGlyphs\" textLength=\"30\" x=\"427\" y=\"96.6479\">ports</text><line style=\"stroke: #A80036; stroke-width: 1.0;\" x1=\"457\" x2=\"474\" y1=\"93.3398\" y2=\"93.3398\"/></a><!--MD5=[60a26617385b1d2d0262a64233df1f8d]\n",
       "class E6--><a href=\"psysml:005e78a8-b799-41cc-8c3e-bd1642b3bc90\" target=\"_top\" title=\"psysml:005e78a8-b799-41cc-8c3e-bd1642b3bc90\" xlink:actuate=\"onRequest\" xlink:href=\"psysml:005e78a8-b799-41cc-8c3e-bd1642b3bc90\" xlink:show=\"new\" xlink:title=\"psysml:005e78a8-b799-41cc-8c3e-bd1642b3bc90\" xlink:type=\"simple\"><rect fill=\"#FEFECE\" filter=\"url(#f1jispar6goeet)\" height=\"88.3516\" id=\"E6\" style=\"stroke: #A80036; stroke-width: 1.5;\" width=\"110\" x=\"264\" y=\"41\"/><text fill=\"#000000\" font-family=\"sans-serif\" font-size=\"12\" font-style=\"italic\" lengthAdjust=\"spacingAndGlyphs\" textLength=\"108\" x=\"265\" y=\"57.1387\">«connection def»</text><text fill=\"#000000\" font-family=\"sans-serif\" font-size=\"12\" lengthAdjust=\"spacingAndGlyphs\" textLength=\"8\" x=\"315\" y=\"71.1074\">A</text><line style=\"stroke: #A80036; stroke-width: 1.5;\" x1=\"265\" x2=\"373\" y1=\"78.9375\" y2=\"78.9375\"/><text fill=\"#000000\" font-family=\"sans-serif\" font-size=\"11\" lengthAdjust=\"spacingAndGlyphs\" textLength=\"29\" x=\"270\" y=\"109.9526\">p1: P</text><text fill=\"#000000\" font-family=\"sans-serif\" font-size=\"11\" lengthAdjust=\"spacingAndGlyphs\" textLength=\"38\" x=\"270\" y=\"122.7573\">p2: ~P</text><line style=\"stroke: #A80036; stroke-width: 1.0;\" x1=\"265\" x2=\"304\" y1=\"93.3398\" y2=\"93.3398\"/><text fill=\"#000000\" font-family=\"sans-serif\" font-size=\"11\" lengthAdjust=\"spacingAndGlyphs\" textLength=\"30\" x=\"304\" y=\"96.6479\">ports</text><line style=\"stroke: #A80036; stroke-width: 1.0;\" x1=\"334\" x2=\"373\" y1=\"93.3398\" y2=\"93.3398\"/></a><!--MD5=[fd4143e9d270a159db93a4ea2a975926]\n",
       "class E9--><a href=\"psysml:21ca298b-43fb-4a5a-8828-d457e715a9a7\" target=\"_top\" title=\"psysml:21ca298b-43fb-4a5a-8828-d457e715a9a7\" xlink:actuate=\"onRequest\" xlink:href=\"psysml:21ca298b-43fb-4a5a-8828-d457e715a9a7\" xlink:show=\"new\" xlink:title=\"psysml:21ca298b-43fb-4a5a-8828-d457e715a9a7\" xlink:type=\"simple\"><rect fill=\"#FEFECE\" filter=\"url(#f1jispar6goeet)\" height=\"88.3516\" id=\"E9\" style=\"stroke: #A80036; stroke-width: 1.5;\" width=\"96\" x=\"133\" y=\"41\"/><text fill=\"#000000\" font-family=\"sans-serif\" font-size=\"12\" font-style=\"italic\" lengthAdjust=\"spacingAndGlyphs\" textLength=\"94\" x=\"134\" y=\"57.1387\">«interface def»</text><text fill=\"#000000\" font-family=\"sans-serif\" font-size=\"12\" lengthAdjust=\"spacingAndGlyphs\" textLength=\"3\" x=\"179.5\" y=\"71.1074\">I</text><line style=\"stroke: #A80036; stroke-width: 1.5;\" x1=\"134\" x2=\"228\" y1=\"78.9375\" y2=\"78.9375\"/><text fill=\"#000000\" font-family=\"sans-serif\" font-size=\"11\" lengthAdjust=\"spacingAndGlyphs\" textLength=\"29\" x=\"139\" y=\"109.9526\">p1: P</text><text fill=\"#000000\" font-family=\"sans-serif\" font-size=\"11\" lengthAdjust=\"spacingAndGlyphs\" textLength=\"38\" x=\"139\" y=\"122.7573\">p2: ~P</text><line style=\"stroke: #A80036; stroke-width: 1.0;\" x1=\"134\" x2=\"166\" y1=\"93.3398\" y2=\"93.3398\"/><text fill=\"#000000\" font-family=\"sans-serif\" font-size=\"11\" lengthAdjust=\"spacingAndGlyphs\" textLength=\"30\" x=\"166\" y=\"96.6479\">ports</text><line style=\"stroke: #A80036; stroke-width: 1.0;\" x1=\"196\" x2=\"228\" y1=\"93.3398\" y2=\"93.3398\"/></a><!--MD5=[49a0ec8f00dab7302a31f22d0f0fe584]\n",
       "class E12--><a href=\"psysml:805f8ddd-ca4a-414c-92f1-ea459766cc23\" target=\"_top\" title=\"psysml:805f8ddd-ca4a-414c-92f1-ea459766cc23\" xlink:actuate=\"onRequest\" xlink:href=\"psysml:805f8ddd-ca4a-414c-92f1-ea459766cc23\" xlink:show=\"new\" xlink:title=\"psysml:805f8ddd-ca4a-414c-92f1-ea459766cc23\" xlink:type=\"simple\"><rect fill=\"#FEFECE\" filter=\"url(#f1jispar6goeet)\" height=\"45.9375\" id=\"E12\" style=\"stroke: #A80036; stroke-width: 1.5;\" width=\"66\" x=\"32\" y=\"62\"/><text fill=\"#000000\" font-family=\"sans-serif\" font-size=\"12\" font-style=\"italic\" lengthAdjust=\"spacingAndGlyphs\" textLength=\"64\" x=\"33\" y=\"78.1387\">«part def»</text><text fill=\"#000000\" font-family=\"sans-serif\" font-size=\"12\" lengthAdjust=\"spacingAndGlyphs\" textLength=\"16\" x=\"57\" y=\"92.1074\">B1</text><line style=\"stroke: #A80036; stroke-width: 1.5;\" x1=\"33\" x2=\"97\" y1=\"99.9375\" y2=\"99.9375\"/></a><!--MD5=[ee3c913d1a06f366521f9ef512b67efe]\n",
       "class E13--><a href=\"psysml:072097f8-3b46-444f-b0fb-f8fd70c894a4\" target=\"_top\" title=\"psysml:072097f8-3b46-444f-b0fb-f8fd70c894a4\" xlink:actuate=\"onRequest\" xlink:href=\"psysml:072097f8-3b46-444f-b0fb-f8fd70c894a4\" xlink:show=\"new\" xlink:title=\"psysml:072097f8-3b46-444f-b0fb-f8fd70c894a4\" xlink:type=\"simple\"><rect fill=\"#FEFECE\" filter=\"url(#f1jispar6goeet)\" height=\"88.3516\" id=\"E13\" rx=\"10\" ry=\"10\" style=\"stroke: #A80036; stroke-width: 1.5;\" width=\"50\" x=\"40\" y=\"189\"/><text fill=\"#000000\" font-family=\"sans-serif\" font-size=\"12\" font-style=\"italic\" lengthAdjust=\"spacingAndGlyphs\" textLength=\"40\" x=\"45\" y=\"205.1387\">«part»</text><text fill=\"#000000\" font-family=\"sans-serif\" font-size=\"12\" lengthAdjust=\"spacingAndGlyphs\" textLength=\"8\" x=\"61\" y=\"219.1074\">p</text><line style=\"stroke: #A80036; stroke-width: 1.5;\" x1=\"41\" x2=\"89\" y1=\"226.9375\" y2=\"226.9375\"/><text fill=\"#000000\" font-family=\"sans-serif\" font-size=\"11\" lengthAdjust=\"spacingAndGlyphs\" textLength=\"29\" x=\"46\" y=\"257.9526\">p1: P</text><text fill=\"#000000\" font-family=\"sans-serif\" font-size=\"11\" lengthAdjust=\"spacingAndGlyphs\" textLength=\"38\" x=\"46\" y=\"270.7573\">p2: ~P</text><line style=\"stroke: #A80036; stroke-width: 1.0;\" x1=\"41\" x2=\"50\" y1=\"241.3398\" y2=\"241.3398\"/><text fill=\"#000000\" font-family=\"sans-serif\" font-size=\"11\" lengthAdjust=\"spacingAndGlyphs\" textLength=\"30\" x=\"50\" y=\"244.6479\">ports</text><line style=\"stroke: #A80036; stroke-width: 1.0;\" x1=\"80\" x2=\"89\" y1=\"241.3398\" y2=\"241.3398\"/></a><!--MD5=[062ed86c389d1a88f61c6380d0491e17]\n",
       "reverse link E12 to E13--><a href=\"psysml:072097f8-3b46-444f-b0fb-f8fd70c894a4\" target=\"_top\" title=\"psysml:072097f8-3b46-444f-b0fb-f8fd70c894a4\" xlink:actuate=\"onRequest\" xlink:href=\"psysml:072097f8-3b46-444f-b0fb-f8fd70c894a4\" xlink:show=\"new\" xlink:title=\"psysml:072097f8-3b46-444f-b0fb-f8fd70c894a4\" xlink:type=\"simple\"><path d=\"M65,121.25 C65,141.54 65,167.2 65,188.71 \" fill=\"none\" id=\"E12&lt;-E13\" style=\"stroke: #A80036; stroke-width: 1.0;\"/><polygon fill=\"#A80036\" points=\"65,108.17,61,114.17,65,120.17,69,114.17,65,108.17\" style=\"stroke: #A80036; stroke-width: 1.0;\"/></a><!--MD5=[40c50ccbbdc23589e3f83b573377c131]\n",
       "@startuml\r\n",
       "skinparam wrapWidth 300\r\n",
       "hide circle\r\n",
       "\r\n",
       "package \"ConjugationTest\" as E1  [[psysml:34192d11-634f-45f2-bc4e-1f94e63724b0 ]]  {\r\n",
       "comp def \"P\" as E2  <<(T,blue)port def>> [[psysml:c663f064-4c04-4527-821b-19ee83969177 ]] {\r\n",
       "}\r\n",
       "comp def \"B\" as E3  <<(T,blue)part def>> [[psysml:e064966f-e96c-463a-b744-2c95fe6cd8a1 ]] {\r\n",
       "- - ports - -\r\n",
       "p1: P\r\n",
       "p2: ~P\r\n",
       "}\r\n",
       "comp def \"A\" as E6  <<(T,blue)connection def>> [[psysml:005e78a8-b799-41cc-8c3e-bd1642b3bc90 ]] {\r\n",
       "- - ports - -\r\n",
       "p1: P\r\n",
       "p2: ~P\r\n",
       "}\r\n",
       "comp def \"I\" as E9  <<(T,blue)interface def>> [[psysml:21ca298b-43fb-4a5a-8828-d457e715a9a7 ]] {\r\n",
       "- - ports - -\r\n",
       "p1: P\r\n",
       "p2: ~P\r\n",
       "}\r\n",
       "comp def \"B1\" as E12  <<(T,blue)part def>> [[psysml:805f8ddd-ca4a-414c-92f1-ea459766cc23 ]] {\r\n",
       "}\r\n",
       "comp usage \"p\" as E13  <<(T,blue)part>> [[psysml:072097f8-3b46-444f-b0fb-f8fd70c894a4 ]] {\r\n",
       "- - ports - -\r\n",
       "p1: P\r\n",
       "p2: ~P\r\n",
       "}\r\n",
       "E12 *- - E13 [[psysml:072097f8-3b46-444f-b0fb-f8fd70c894a4 ]] \r\n",
       "}\r\n",
       "@enduml\r\n",
       "\n",
       "PlantUML version 1.2020.13(Sat Jun 13 12:26:38 UTC 2020)\n",
       "(EPL source distribution)\n",
       "Java Runtime: OpenJDK Runtime Environment\n",
       "JVM: OpenJDK 64-Bit Server VM\n",
       "Default Encoding: UTF-8\n",
       "Language: en\n",
       "Country: null\n",
       "--></g></svg>"
      ]
     },
     "execution_count": 24,
     "metadata": {},
     "output_type": "execute_result"
    }
   ],
   "source": [
    "%viz --style=\"STDCOLOR\" --view=\"Tree\" \"ConjugationTest\""
   ]
  },
  {
   "cell_type": "code",
   "execution_count": 25,
   "id": "viral-links",
   "metadata": {
    "execution": {
     "iopub.execute_input": "2021-03-25T15:04:01.023462Z",
     "iopub.status.busy": "2021-03-25T15:04:01.023060Z",
     "iopub.status.idle": "2021-03-25T15:04:01.028335Z",
     "shell.execute_reply": "2021-03-25T15:04:01.027971Z"
    }
   },
   "outputs": [
    {
     "data": {
      "image/svg+xml": [
       "<?xml version=\"1.0\" encoding=\"UTF-8\" standalone=\"no\"?><svg xmlns=\"http://www.w3.org/2000/svg\" xmlns:xlink=\"http://www.w3.org/1999/xlink\" contentScriptType=\"application/ecmascript\" contentStyleType=\"text/css\" height=\"12px\" preserveAspectRatio=\"none\" style=\"width:12px;height:12px;\" version=\"1.1\" viewBox=\"0 0 12 12\" width=\"12px\" zoomAndPan=\"magnify\"><defs/><g><!--MD5=[aeeef50f102b80d730deb6443d14f702]\n",
       "@startuml\r\n",
       "skinparam wrapWidth 300\r\n",
       "hide circle\r\n",
       "\r\n",
       "@enduml\r\n",
       "\n",
       "PlantUML version 1.2020.13(Sat Jun 13 12:26:38 UTC 2020)\n",
       "(EPL source distribution)\n",
       "Java Runtime: OpenJDK Runtime Environment\n",
       "JVM: OpenJDK 64-Bit Server VM\n",
       "Default Encoding: UTF-8\n",
       "Language: en\n",
       "Country: null\n",
       "--></g></svg>"
      ]
     },
     "execution_count": 25,
     "metadata": {},
     "output_type": "execute_result"
    }
   ],
   "source": [
    "%viz --style=\"STDCOLOR\" --view=\"State\" \"ConjugationTest\""
   ]
  },
  {
   "cell_type": "code",
   "execution_count": 26,
   "id": "systematic-palmer",
   "metadata": {
    "execution": {
     "iopub.execute_input": "2021-03-25T15:04:01.079329Z",
     "iopub.status.busy": "2021-03-25T15:04:01.078958Z",
     "iopub.status.idle": "2021-03-25T15:04:01.221576Z",
     "shell.execute_reply": "2021-03-25T15:04:01.220105Z"
    }
   },
   "outputs": [
    {
     "data": {
      "image/svg+xml": [
       "<?xml version=\"1.0\" encoding=\"UTF-8\" standalone=\"no\"?><svg xmlns=\"http://www.w3.org/2000/svg\" xmlns:xlink=\"http://www.w3.org/1999/xlink\" contentScriptType=\"application/ecmascript\" contentStyleType=\"text/css\" height=\"252px\" preserveAspectRatio=\"none\" style=\"width:781px;height:252px;\" version=\"1.1\" viewBox=\"0 0 781 252\" width=\"781px\" zoomAndPan=\"magnify\"><defs><filter height=\"300%\" id=\"fzfd7e1bvyu39\" width=\"300%\" x=\"-1\" y=\"-1\"><feGaussianBlur result=\"blurOut\" stdDeviation=\"2.0\"/><feColorMatrix in=\"blurOut\" result=\"blurOut2\" type=\"matrix\" values=\"0 0 0 0 0 0 0 0 0 0 0 0 0 0 0 0 0 0 .4 0\"/><feOffset dx=\"4.0\" dy=\"4.0\" in=\"blurOut2\" result=\"blurOut3\"/><feBlend in=\"SourceGraphic\" in2=\"blurOut3\" mode=\"normal\"/></filter></defs><g><!--MD5=[fbc87193dbaf4d95561dea2c320d4a47]\n",
       "cluster E1--><a href=\"psysml:34192d11-634f-45f2-bc4e-1f94e63724b0\" target=\"_top\" title=\"psysml:34192d11-634f-45f2-bc4e-1f94e63724b0\" xlink:actuate=\"onRequest\" xlink:href=\"psysml:34192d11-634f-45f2-bc4e-1f94e63724b0\" xlink:show=\"new\" xlink:title=\"psysml:34192d11-634f-45f2-bc4e-1f94e63724b0\" xlink:type=\"simple\"><polygon fill=\"#FFFFFF\" filter=\"url(#fzfd7e1bvyu39)\" points=\"16,6,151,6,158,28.2969,759,28.2969,759,240,16,240,16,6\" style=\"stroke: #000000; stroke-width: 1.5;\"/><line style=\"stroke: #000000; stroke-width: 1.5;\" x1=\"16\" x2=\"158\" y1=\"28.2969\" y2=\"28.2969\"/><text fill=\"#000000\" font-family=\"sans-serif\" font-size=\"14\" font-weight=\"bold\" lengthAdjust=\"spacingAndGlyphs\" textLength=\"129\" x=\"20\" y=\"20.9951\">ConjugationTest</text></a><!--MD5=[d5e69f78d87373223dbae638b30a9c99]\n",
       "cluster E3--><a href=\"psysml:e064966f-e96c-463a-b744-2c95fe6cd8a1\" target=\"_top\" title=\"psysml:e064966f-e96c-463a-b744-2c95fe6cd8a1\" xlink:actuate=\"onRequest\" xlink:href=\"psysml:e064966f-e96c-463a-b744-2c95fe6cd8a1\" xlink:show=\"new\" xlink:title=\"psysml:e064966f-e96c-463a-b744-2c95fe6cd8a1\" xlink:type=\"simple\"><rect fill=\"#FFFFFF\" filter=\"url(#fzfd7e1bvyu39)\" height=\"94\" id=\"E3\" style=\"stroke: #A80036; stroke-width: 1.5;\" width=\"83\" x=\"619\" y=\"114\"/><rect fill=\"#FEFECE\" height=\"37.9375\" style=\"stroke: #A80036; stroke-width: 1.5;\" width=\"83\" x=\"619\" y=\"114\"/><text fill=\"#000000\" font-family=\"sans-serif\" font-size=\"12\" font-style=\"italic\" lengthAdjust=\"spacingAndGlyphs\" textLength=\"64\" x=\"628.5\" y=\"130.1387\">«part def»</text><text fill=\"#000000\" font-family=\"sans-serif\" font-size=\"12\" lengthAdjust=\"spacingAndGlyphs\" textLength=\"8\" x=\"656.5\" y=\"144.1074\">B</text></a><!--MD5=[14e3b0961a2654348d326746436168a1]\n",
       "cluster E6--><a href=\"psysml:005e78a8-b799-41cc-8c3e-bd1642b3bc90\" target=\"_top\" title=\"psysml:005e78a8-b799-41cc-8c3e-bd1642b3bc90\" xlink:actuate=\"onRequest\" xlink:href=\"psysml:005e78a8-b799-41cc-8c3e-bd1642b3bc90\" xlink:show=\"new\" xlink:title=\"psysml:005e78a8-b799-41cc-8c3e-bd1642b3bc90\" xlink:type=\"simple\"><rect fill=\"#FFFFFF\" filter=\"url(#fzfd7e1bvyu39)\" height=\"94\" id=\"E6\" style=\"stroke: #A80036; stroke-width: 1.5;\" width=\"150\" x=\"465\" y=\"114\"/><rect fill=\"#FEFECE\" height=\"37.9375\" style=\"stroke: #A80036; stroke-width: 1.5;\" width=\"150\" x=\"465\" y=\"114\"/><text fill=\"#000000\" font-family=\"sans-serif\" font-size=\"12\" font-style=\"italic\" lengthAdjust=\"spacingAndGlyphs\" textLength=\"108\" x=\"486\" y=\"130.1387\">«connection def»</text><text fill=\"#000000\" font-family=\"sans-serif\" font-size=\"12\" lengthAdjust=\"spacingAndGlyphs\" textLength=\"8\" x=\"536\" y=\"144.1074\">A</text></a><!--MD5=[7f149f147074ac12df2cb0a7728a5fb0]\n",
       "cluster E9--><a href=\"psysml:21ca298b-43fb-4a5a-8828-d457e715a9a7\" target=\"_top\" title=\"psysml:21ca298b-43fb-4a5a-8828-d457e715a9a7\" xlink:actuate=\"onRequest\" xlink:href=\"psysml:21ca298b-43fb-4a5a-8828-d457e715a9a7\" xlink:show=\"new\" xlink:title=\"psysml:21ca298b-43fb-4a5a-8828-d457e715a9a7\" xlink:type=\"simple\"><rect fill=\"#FFFFFF\" filter=\"url(#fzfd7e1bvyu39)\" height=\"94\" id=\"E9\" style=\"stroke: #A80036; stroke-width: 1.5;\" width=\"141\" x=\"296\" y=\"114\"/><rect fill=\"#FEFECE\" height=\"37.9375\" style=\"stroke: #A80036; stroke-width: 1.5;\" width=\"141\" x=\"296\" y=\"114\"/><text fill=\"#000000\" font-family=\"sans-serif\" font-size=\"12\" font-style=\"italic\" lengthAdjust=\"spacingAndGlyphs\" textLength=\"94\" x=\"319.5\" y=\"130.1387\">«interface def»</text><text fill=\"#000000\" font-family=\"sans-serif\" font-size=\"12\" lengthAdjust=\"spacingAndGlyphs\" textLength=\"3\" x=\"365\" y=\"144.1074\">I</text></a><!--MD5=[47bea60c1a0ac6c1143df232041969c0]\n",
       "cluster E12--><a href=\"psysml:805f8ddd-ca4a-414c-92f1-ea459766cc23\" target=\"_top\" title=\"psysml:805f8ddd-ca4a-414c-92f1-ea459766cc23\" xlink:actuate=\"onRequest\" xlink:href=\"psysml:805f8ddd-ca4a-414c-92f1-ea459766cc23\" xlink:show=\"new\" xlink:title=\"psysml:805f8ddd-ca4a-414c-92f1-ea459766cc23\" xlink:type=\"simple\"><rect fill=\"#FFFFFF\" filter=\"url(#fzfd7e1bvyu39)\" height=\"167\" id=\"E12\" style=\"stroke: #A80036; stroke-width: 1.5;\" width=\"107\" x=\"162\" y=\"49\"/><rect fill=\"#FEFECE\" height=\"37.9375\" style=\"stroke: #A80036; stroke-width: 1.5;\" width=\"107\" x=\"162\" y=\"49\"/><text fill=\"#000000\" font-family=\"sans-serif\" font-size=\"12\" font-style=\"italic\" lengthAdjust=\"spacingAndGlyphs\" textLength=\"64\" x=\"183.5\" y=\"65.1387\">«part def»</text><text fill=\"#000000\" font-family=\"sans-serif\" font-size=\"12\" lengthAdjust=\"spacingAndGlyphs\" textLength=\"16\" x=\"207.5\" y=\"79.1074\">B1</text></a><!--MD5=[03104f77b71e2d8d3500c651e6e31181]\n",
       "cluster E13--><a href=\"psysml:072097f8-3b46-444f-b0fb-f8fd70c894a4\" target=\"_top\" title=\"psysml:072097f8-3b46-444f-b0fb-f8fd70c894a4\" xlink:actuate=\"onRequest\" xlink:href=\"psysml:072097f8-3b46-444f-b0fb-f8fd70c894a4\" xlink:show=\"new\" xlink:title=\"psysml:072097f8-3b46-444f-b0fb-f8fd70c894a4\" xlink:type=\"simple\"><rect fill=\"#FFFFFF\" filter=\"url(#fzfd7e1bvyu39)\" height=\"86\" id=\"E13\" rx=\"10\" ry=\"10\" style=\"stroke: #A80036; stroke-width: 1.5;\" width=\"83\" x=\"174\" y=\"114\"/><rect fill=\"#FEFECE\" height=\"23.9688\" rx=\"10\" ry=\"10\" style=\"stroke: #FEFECE; stroke-width: 1.5;\" width=\"83\" x=\"174\" y=\"114\"/><rect fill=\"#FEFECE\" height=\"10\" style=\"stroke: #FEFECE; stroke-width: 1.5;\" width=\"83\" x=\"174\" y=\"127.9688\"/><rect fill=\"none\" height=\"86\" id=\"E13\" rx=\"10\" ry=\"10\" style=\"stroke: #A80036; stroke-width: 1.5;\" width=\"83\" x=\"174\" y=\"114\"/><text fill=\"#000000\" font-family=\"sans-serif\" font-size=\"12\" lengthAdjust=\"spacingAndGlyphs\" textLength=\"8\" x=\"211.5\" y=\"130.1387\">p</text><line style=\"stroke: #A80036; stroke-width: 1.0;\" x1=\"174\" x2=\"257\" y1=\"137.9688\" y2=\"137.9688\"/></a><!--MD5=[b4997ac47864f28c2f74865a473b2911]\n",
       "class E2--><a href=\"psysml:c663f064-4c04-4527-821b-19ee83969177\" target=\"_top\" title=\"psysml:c663f064-4c04-4527-821b-19ee83969177\" xlink:actuate=\"onRequest\" xlink:href=\"psysml:c663f064-4c04-4527-821b-19ee83969177\" xlink:show=\"new\" xlink:title=\"psysml:c663f064-4c04-4527-821b-19ee83969177\" xlink:type=\"simple\"><rect fill=\"#FEFECE\" filter=\"url(#fzfd7e1bvyu39)\" height=\"53.9375\" id=\"E2\" style=\"stroke: #A80036; stroke-width: 1.5;\" width=\"114\" x=\"32\" y=\"87\"/><text fill=\"#000000\" font-family=\"sans-serif\" font-size=\"12\" font-style=\"italic\" lengthAdjust=\"spacingAndGlyphs\" textLength=\"112\" x=\"33\" y=\"103.1387\">«(T,blue)port def»</text><text fill=\"#000000\" font-family=\"sans-serif\" font-size=\"12\" lengthAdjust=\"spacingAndGlyphs\" textLength=\"8\" x=\"85\" y=\"117.1074\">P</text><line style=\"stroke: #A80036; stroke-width: 1.5;\" x1=\"33\" x2=\"145\" y1=\"124.9375\" y2=\"124.9375\"/><line style=\"stroke: #A80036; stroke-width: 1.5;\" x1=\"33\" x2=\"145\" y1=\"132.9375\" y2=\"132.9375\"/></a><text fill=\"#000000\" font-family=\"sans-serif\" font-size=\"14\" lengthAdjust=\"spacingAndGlyphs\" textLength=\"36\" x=\"619\" y=\"92.6982\">p1: P</text><rect fill=\"#A80036\" height=\"12\" style=\"stroke: #FEFECE; stroke-width: 1.5;\" width=\"12\" x=\"631\" y=\"108\"/><text fill=\"#000000\" font-family=\"sans-serif\" font-size=\"14\" lengthAdjust=\"spacingAndGlyphs\" textLength=\"48\" x=\"660\" y=\"92.6982\">p2: ~P</text><rect fill=\"#A80036\" height=\"12\" style=\"stroke: #FEFECE; stroke-width: 1.5;\" width=\"12\" x=\"678\" y=\"108\"/><text fill=\"#000000\" font-family=\"sans-serif\" font-size=\"14\" lengthAdjust=\"spacingAndGlyphs\" textLength=\"36\" x=\"465\" y=\"92.6982\">p1: P</text><rect fill=\"#A80036\" height=\"12\" style=\"stroke: #FEFECE; stroke-width: 1.5;\" width=\"12\" x=\"477\" y=\"108\"/><text fill=\"#000000\" font-family=\"sans-serif\" font-size=\"14\" lengthAdjust=\"spacingAndGlyphs\" textLength=\"48\" x=\"506\" y=\"92.6982\">p2: ~P</text><rect fill=\"#A80036\" height=\"12\" style=\"stroke: #FEFECE; stroke-width: 1.5;\" width=\"12\" x=\"524\" y=\"108\"/><text fill=\"#000000\" font-family=\"sans-serif\" font-size=\"14\" lengthAdjust=\"spacingAndGlyphs\" textLength=\"36\" x=\"296\" y=\"92.6982\">p1: P</text><rect fill=\"#A80036\" height=\"12\" style=\"stroke: #FEFECE; stroke-width: 1.5;\" width=\"12\" x=\"308\" y=\"108\"/><text fill=\"#000000\" font-family=\"sans-serif\" font-size=\"14\" lengthAdjust=\"spacingAndGlyphs\" textLength=\"48\" x=\"337\" y=\"92.6982\">p2: ~P</text><rect fill=\"#A80036\" height=\"12\" style=\"stroke: #FEFECE; stroke-width: 1.5;\" width=\"12\" x=\"355\" y=\"108\"/><text fill=\"#000000\" font-family=\"sans-serif\" font-size=\"14\" lengthAdjust=\"spacingAndGlyphs\" textLength=\"36\" x=\"174\" y=\"92.6982\">p1: P</text><rect fill=\"#A80036\" height=\"12\" style=\"stroke: #FEFECE; stroke-width: 1.5;\" width=\"12\" x=\"186\" y=\"108\"/><text fill=\"#000000\" font-family=\"sans-serif\" font-size=\"14\" lengthAdjust=\"spacingAndGlyphs\" textLength=\"48\" x=\"215\" y=\"92.6982\">p2: ~P</text><rect fill=\"#A80036\" height=\"12\" style=\"stroke: #FEFECE; stroke-width: 1.5;\" width=\"12\" x=\"233\" y=\"108\"/><!--MD5=[4ce51ac6fa4cf5202df3859e2718f033]\n",
       "link E15 to E14--><a href=\"psysml:d49afd8d-54fc-473a-b637-3cd599cd4fa7\" target=\"_top\" title=\"psysml:d49afd8d-54fc-473a-b637-3cd599cd4fa7\" xlink:actuate=\"onRequest\" xlink:href=\"psysml:d49afd8d-54fc-473a-b637-3cd599cd4fa7\" xlink:show=\"new\" xlink:title=\"psysml:d49afd8d-54fc-473a-b637-3cd599cd4fa7\" xlink:type=\"simple\"><path d=\"M232.95,114 C221.38,114 209.81,114 198.24,114 \" fill=\"none\" id=\"E15-E14\" style=\"stroke: #A80036; stroke-width: 3.0;\"/></a><!--MD5=[4ce51ac6fa4cf5202df3859e2718f033]\n",
       "link E15 to E14--><a href=\"psysml:158350c1-11e6-4f2f-a89e-7037efa93dae\" target=\"_top\" title=\"psysml:158350c1-11e6-4f2f-a89e-7037efa93dae\" xlink:actuate=\"onRequest\" xlink:href=\"psysml:158350c1-11e6-4f2f-a89e-7037efa93dae\" xlink:show=\"new\" xlink:title=\"psysml:158350c1-11e6-4f2f-a89e-7037efa93dae\" xlink:type=\"simple\"><path d=\"M232.95,111.98 C221.38,108.69 209.81,108.67 198.24,111.93 \" fill=\"none\" id=\"E15-E14-1\" style=\"stroke: #A80036; stroke-width: 3.0;\"/></a><!--MD5=[b04f0ae5a71b78ca6f4b4298b99ba8c9]\n",
       "@startuml\r\n",
       "skinparam ranksep 8\r\n",
       "skinparam rectangle {\r\n",
       " backgroundColor<<block>> LightGreen\r\n",
       "}\r\n",
       "skinparam wrapWidth 300\r\n",
       "hide circle\r\n",
       "\r\n",
       "package \"ConjugationTest\" as E1  [[psysml:34192d11-634f-45f2-bc4e-1f94e63724b0 ]]  {\r\n",
       "def \"P\" as E2  <<(T,blue)port def>> [[psysml:c663f064-4c04-4527-821b-19ee83969177 ]] \r\n",
       "rec def \"B\" as E3  <<(T,blue)part def>> [[psysml:e064966f-e96c-463a-b744-2c95fe6cd8a1 ]] {\r\n",
       "portin \"p1: P\" as E4  <<(T,blue)port>> [[psysml:b8e0261a-441d-41a6-aff3-1d450c4cde6f ]] \r\n",
       "portin \"p2: ~P\" as E5  <<(T,blue)port>> [[psysml:cbde5ba2-4051-45bc-9875-629a3f045392 ]] \r\n",
       "}\r\n",
       "rec def \"A\" as E6  <<(T,blue)connection def>> [[psysml:005e78a8-b799-41cc-8c3e-bd1642b3bc90 ]] {\r\n",
       "portin \"p1: P\" as E7  <<(T,blue)port>> [[psysml:55181707-d268-487e-aa99-75d3872aefbc ]] \r\n",
       "portin \"p2: ~P\" as E8  <<(T,blue)port>> [[psysml:0ddbc9c9-6f57-4a43-9fe9-35a450e63798 ]] \r\n",
       "}\r\n",
       "rec def \"I\" as E9  <<(T,blue)interface def>> [[psysml:21ca298b-43fb-4a5a-8828-d457e715a9a7 ]] {\r\n",
       "portin \"p1: P\" as E10  <<(T,blue)port>> [[psysml:4800d5e0-15fd-4b6f-b429-bddfb731ebe9 ]] \r\n",
       "portin \"p2: ~P\" as E11  <<(T,blue)port>> [[psysml:5bc48f79-cf8d-4956-b81e-e57ba2e7fb16 ]] \r\n",
       "}\r\n",
       "rec def \"B1\" as E12  <<(T,blue)part def>> [[psysml:805f8ddd-ca4a-414c-92f1-ea459766cc23 ]] {\r\n",
       "rec usage \"p\" as E13  [[psysml:072097f8-3b46-444f-b0fb-f8fd70c894a4 ]] {\r\n",
       "portin \"p1: P\" as E14  <<(T,blue)port>> [[psysml:17432448-deec-4082-b953-29eb581620b4 ]] \r\n",
       "portin \"p2: ~P\" as E15  <<(T,blue)port>> [[psysml:c01cfbc6-39be-4cca-af9b-913ba499d52d ]] \r\n",
       "}\r\n",
       "}\r\n",
       "E15 -[thickness=3]- E14 [[psysml:d49afd8d-54fc-473a-b637-3cd599cd4fa7 ]] \r\n",
       "E15 -[thickness=3]- E14 [[psysml:158350c1-11e6-4f2f-a89e-7037efa93dae ]] \r\n",
       "}\r\n",
       "@enduml\r\n",
       "\n",
       "PlantUML version 1.2020.13(Sat Jun 13 12:26:38 UTC 2020)\n",
       "(EPL source distribution)\n",
       "Java Runtime: OpenJDK Runtime Environment\n",
       "JVM: OpenJDK 64-Bit Server VM\n",
       "Default Encoding: UTF-8\n",
       "Language: en\n",
       "Country: null\n",
       "--></g></svg>"
      ]
     },
     "execution_count": 26,
     "metadata": {},
     "output_type": "execute_result"
    }
   ],
   "source": [
    "%viz --style=\"STDCOLOR\" --view=\"Interconnection\" \"ConjugationTest\""
   ]
  },
  {
   "cell_type": "code",
   "execution_count": 27,
   "id": "chubby-driving",
   "metadata": {
    "execution": {
     "iopub.execute_input": "2021-03-25T15:04:01.271926Z",
     "iopub.status.busy": "2021-03-25T15:04:01.271400Z",
     "iopub.status.idle": "2021-03-25T15:04:01.278130Z",
     "shell.execute_reply": "2021-03-25T15:04:01.277769Z"
    }
   },
   "outputs": [
    {
     "data": {
      "image/svg+xml": [
       "<?xml version=\"1.0\" encoding=\"UTF-8\" standalone=\"no\"?><svg xmlns=\"http://www.w3.org/2000/svg\" xmlns:xlink=\"http://www.w3.org/1999/xlink\" contentScriptType=\"application/ecmascript\" contentStyleType=\"text/css\" height=\"12px\" preserveAspectRatio=\"none\" style=\"width:12px;height:12px;\" version=\"1.1\" viewBox=\"0 0 12 12\" width=\"12px\" zoomAndPan=\"magnify\"><defs/><g><!--MD5=[9863325348a96a77dacc89509d8ee65e]\n",
       "@startuml\r\n",
       "skinparam ranksep 8\r\n",
       "skinparam wrapWidth 300\r\n",
       "hide circle\r\n",
       "\r\n",
       "@enduml\r\n",
       "\n",
       "PlantUML version 1.2020.13(Sat Jun 13 12:26:38 UTC 2020)\n",
       "(EPL source distribution)\n",
       "Java Runtime: OpenJDK Runtime Environment\n",
       "JVM: OpenJDK 64-Bit Server VM\n",
       "Default Encoding: UTF-8\n",
       "Language: en\n",
       "Country: null\n",
       "--></g></svg>"
      ]
     },
     "execution_count": 27,
     "metadata": {},
     "output_type": "execute_result"
    }
   ],
   "source": [
    "%viz --style=\"STDCOLOR\" --view=\"Action\" \"ConjugationTest\""
   ]
  },
  {
   "cell_type": "code",
   "execution_count": 28,
   "id": "recreational-condition",
   "metadata": {
    "execution": {
     "iopub.execute_input": "2021-03-25T15:04:01.330085Z",
     "iopub.status.busy": "2021-03-25T15:04:01.329534Z",
     "iopub.status.idle": "2021-03-25T15:04:01.988431Z",
     "shell.execute_reply": "2021-03-25T15:04:01.987017Z"
    }
   },
   "outputs": [
    {
     "data": {
      "image/svg+xml": [
       "<?xml version=\"1.0\" encoding=\"UTF-8\" standalone=\"no\"?><svg xmlns=\"http://www.w3.org/2000/svg\" xmlns:xlink=\"http://www.w3.org/1999/xlink\" contentScriptType=\"application/ecmascript\" contentStyleType=\"text/css\" height=\"305px\" preserveAspectRatio=\"none\" style=\"width:614px;height:305px;\" version=\"1.1\" viewBox=\"0 0 614 305\" width=\"614px\" zoomAndPan=\"magnify\"><defs><filter height=\"300%\" id=\"f1jispar6goeet\" width=\"300%\" x=\"-1\" y=\"-1\"><feGaussianBlur result=\"blurOut\" stdDeviation=\"2.0\"/><feColorMatrix in=\"blurOut\" result=\"blurOut2\" type=\"matrix\" values=\"0 0 0 0 0 0 0 0 0 0 0 0 0 0 0 0 0 0 .4 0\"/><feOffset dx=\"4.0\" dy=\"4.0\" in=\"blurOut2\" result=\"blurOut3\"/><feBlend in=\"SourceGraphic\" in2=\"blurOut3\" mode=\"normal\"/></filter></defs><g><!--MD5=[fbc87193dbaf4d95561dea2c320d4a47]\n",
       "cluster E1--><a href=\"psysml:34192d11-634f-45f2-bc4e-1f94e63724b0\" target=\"_top\" title=\"psysml:34192d11-634f-45f2-bc4e-1f94e63724b0\" xlink:actuate=\"onRequest\" xlink:href=\"psysml:34192d11-634f-45f2-bc4e-1f94e63724b0\" xlink:show=\"new\" xlink:title=\"psysml:34192d11-634f-45f2-bc4e-1f94e63724b0\" xlink:type=\"simple\"><polygon fill=\"#FFFFFF\" filter=\"url(#f1jispar6goeet)\" points=\"16,6,151,6,158,28.2969,592,28.2969,592,293,16,293,16,6\" style=\"stroke: #000000; stroke-width: 1.5;\"/><line style=\"stroke: #000000; stroke-width: 1.5;\" x1=\"16\" x2=\"158\" y1=\"28.2969\" y2=\"28.2969\"/><text fill=\"#000000\" font-family=\"sans-serif\" font-size=\"14\" font-weight=\"bold\" lengthAdjust=\"spacingAndGlyphs\" textLength=\"129\" x=\"20\" y=\"20.9951\">ConjugationTest</text></a><!--MD5=[b4997ac47864f28c2f74865a473b2911]\n",
       "class E2--><a href=\"psysml:c663f064-4c04-4527-821b-19ee83969177\" target=\"_top\" title=\"psysml:c663f064-4c04-4527-821b-19ee83969177\" xlink:actuate=\"onRequest\" xlink:href=\"psysml:c663f064-4c04-4527-821b-19ee83969177\" xlink:show=\"new\" xlink:title=\"psysml:c663f064-4c04-4527-821b-19ee83969177\" xlink:type=\"simple\"><rect fill=\"#FEFECE\" filter=\"url(#f1jispar6goeet)\" height=\"45.9375\" id=\"E2\" style=\"stroke: #A80036; stroke-width: 1.5;\" width=\"66\" x=\"510\" y=\"62\"/><text fill=\"#000000\" font-family=\"sans-serif\" font-size=\"12\" font-style=\"italic\" lengthAdjust=\"spacingAndGlyphs\" textLength=\"64\" x=\"511\" y=\"78.1387\">«port def»</text><text fill=\"#000000\" font-family=\"sans-serif\" font-size=\"12\" lengthAdjust=\"spacingAndGlyphs\" textLength=\"8\" x=\"539\" y=\"92.1074\">P</text><line style=\"stroke: #A80036; stroke-width: 1.5;\" x1=\"511\" x2=\"575\" y1=\"99.9375\" y2=\"99.9375\"/></a><!--MD5=[09b614a08d8cba4a07c9adeb5e0fee81]\n",
       "class E3--><a href=\"psysml:e064966f-e96c-463a-b744-2c95fe6cd8a1\" target=\"_top\" title=\"psysml:e064966f-e96c-463a-b744-2c95fe6cd8a1\" xlink:actuate=\"onRequest\" xlink:href=\"psysml:e064966f-e96c-463a-b744-2c95fe6cd8a1\" xlink:show=\"new\" xlink:title=\"psysml:e064966f-e96c-463a-b744-2c95fe6cd8a1\" xlink:type=\"simple\"><rect fill=\"#FEFECE\" filter=\"url(#f1jispar6goeet)\" height=\"88.3516\" id=\"E3\" style=\"stroke: #A80036; stroke-width: 1.5;\" width=\"66\" x=\"409\" y=\"41\"/><text fill=\"#000000\" font-family=\"sans-serif\" font-size=\"12\" font-style=\"italic\" lengthAdjust=\"spacingAndGlyphs\" textLength=\"64\" x=\"410\" y=\"57.1387\">«part def»</text><text fill=\"#000000\" font-family=\"sans-serif\" font-size=\"12\" lengthAdjust=\"spacingAndGlyphs\" textLength=\"8\" x=\"438\" y=\"71.1074\">B</text><line style=\"stroke: #A80036; stroke-width: 1.5;\" x1=\"410\" x2=\"474\" y1=\"78.9375\" y2=\"78.9375\"/><text fill=\"#000000\" font-family=\"sans-serif\" font-size=\"11\" lengthAdjust=\"spacingAndGlyphs\" textLength=\"29\" x=\"415\" y=\"109.9526\">p1: P</text><text fill=\"#000000\" font-family=\"sans-serif\" font-size=\"11\" lengthAdjust=\"spacingAndGlyphs\" textLength=\"38\" x=\"415\" y=\"122.7573\">p2: ~P</text><line style=\"stroke: #A80036; stroke-width: 1.0;\" x1=\"410\" x2=\"427\" y1=\"93.3398\" y2=\"93.3398\"/><text fill=\"#000000\" font-family=\"sans-serif\" font-size=\"11\" lengthAdjust=\"spacingAndGlyphs\" textLength=\"30\" x=\"427\" y=\"96.6479\">ports</text><line style=\"stroke: #A80036; stroke-width: 1.0;\" x1=\"457\" x2=\"474\" y1=\"93.3398\" y2=\"93.3398\"/></a><!--MD5=[60a26617385b1d2d0262a64233df1f8d]\n",
       "class E6--><a href=\"psysml:005e78a8-b799-41cc-8c3e-bd1642b3bc90\" target=\"_top\" title=\"psysml:005e78a8-b799-41cc-8c3e-bd1642b3bc90\" xlink:actuate=\"onRequest\" xlink:href=\"psysml:005e78a8-b799-41cc-8c3e-bd1642b3bc90\" xlink:show=\"new\" xlink:title=\"psysml:005e78a8-b799-41cc-8c3e-bd1642b3bc90\" xlink:type=\"simple\"><rect fill=\"#FEFECE\" filter=\"url(#f1jispar6goeet)\" height=\"88.3516\" id=\"E6\" style=\"stroke: #A80036; stroke-width: 1.5;\" width=\"110\" x=\"264\" y=\"41\"/><text fill=\"#000000\" font-family=\"sans-serif\" font-size=\"12\" font-style=\"italic\" lengthAdjust=\"spacingAndGlyphs\" textLength=\"108\" x=\"265\" y=\"57.1387\">«connection def»</text><text fill=\"#000000\" font-family=\"sans-serif\" font-size=\"12\" lengthAdjust=\"spacingAndGlyphs\" textLength=\"8\" x=\"315\" y=\"71.1074\">A</text><line style=\"stroke: #A80036; stroke-width: 1.5;\" x1=\"265\" x2=\"373\" y1=\"78.9375\" y2=\"78.9375\"/><text fill=\"#000000\" font-family=\"sans-serif\" font-size=\"11\" lengthAdjust=\"spacingAndGlyphs\" textLength=\"29\" x=\"270\" y=\"109.9526\">p1: P</text><text fill=\"#000000\" font-family=\"sans-serif\" font-size=\"11\" lengthAdjust=\"spacingAndGlyphs\" textLength=\"38\" x=\"270\" y=\"122.7573\">p2: ~P</text><line style=\"stroke: #A80036; stroke-width: 1.0;\" x1=\"265\" x2=\"304\" y1=\"93.3398\" y2=\"93.3398\"/><text fill=\"#000000\" font-family=\"sans-serif\" font-size=\"11\" lengthAdjust=\"spacingAndGlyphs\" textLength=\"30\" x=\"304\" y=\"96.6479\">ports</text><line style=\"stroke: #A80036; stroke-width: 1.0;\" x1=\"334\" x2=\"373\" y1=\"93.3398\" y2=\"93.3398\"/></a><!--MD5=[fd4143e9d270a159db93a4ea2a975926]\n",
       "class E9--><a href=\"psysml:21ca298b-43fb-4a5a-8828-d457e715a9a7\" target=\"_top\" title=\"psysml:21ca298b-43fb-4a5a-8828-d457e715a9a7\" xlink:actuate=\"onRequest\" xlink:href=\"psysml:21ca298b-43fb-4a5a-8828-d457e715a9a7\" xlink:show=\"new\" xlink:title=\"psysml:21ca298b-43fb-4a5a-8828-d457e715a9a7\" xlink:type=\"simple\"><rect fill=\"#FEFECE\" filter=\"url(#f1jispar6goeet)\" height=\"88.3516\" id=\"E9\" style=\"stroke: #A80036; stroke-width: 1.5;\" width=\"96\" x=\"133\" y=\"41\"/><text fill=\"#000000\" font-family=\"sans-serif\" font-size=\"12\" font-style=\"italic\" lengthAdjust=\"spacingAndGlyphs\" textLength=\"94\" x=\"134\" y=\"57.1387\">«interface def»</text><text fill=\"#000000\" font-family=\"sans-serif\" font-size=\"12\" lengthAdjust=\"spacingAndGlyphs\" textLength=\"3\" x=\"179.5\" y=\"71.1074\">I</text><line style=\"stroke: #A80036; stroke-width: 1.5;\" x1=\"134\" x2=\"228\" y1=\"78.9375\" y2=\"78.9375\"/><text fill=\"#000000\" font-family=\"sans-serif\" font-size=\"11\" lengthAdjust=\"spacingAndGlyphs\" textLength=\"29\" x=\"139\" y=\"109.9526\">p1: P</text><text fill=\"#000000\" font-family=\"sans-serif\" font-size=\"11\" lengthAdjust=\"spacingAndGlyphs\" textLength=\"38\" x=\"139\" y=\"122.7573\">p2: ~P</text><line style=\"stroke: #A80036; stroke-width: 1.0;\" x1=\"134\" x2=\"166\" y1=\"93.3398\" y2=\"93.3398\"/><text fill=\"#000000\" font-family=\"sans-serif\" font-size=\"11\" lengthAdjust=\"spacingAndGlyphs\" textLength=\"30\" x=\"166\" y=\"96.6479\">ports</text><line style=\"stroke: #A80036; stroke-width: 1.0;\" x1=\"196\" x2=\"228\" y1=\"93.3398\" y2=\"93.3398\"/></a><!--MD5=[49a0ec8f00dab7302a31f22d0f0fe584]\n",
       "class E12--><a href=\"psysml:805f8ddd-ca4a-414c-92f1-ea459766cc23\" target=\"_top\" title=\"psysml:805f8ddd-ca4a-414c-92f1-ea459766cc23\" xlink:actuate=\"onRequest\" xlink:href=\"psysml:805f8ddd-ca4a-414c-92f1-ea459766cc23\" xlink:show=\"new\" xlink:title=\"psysml:805f8ddd-ca4a-414c-92f1-ea459766cc23\" xlink:type=\"simple\"><rect fill=\"#FEFECE\" filter=\"url(#f1jispar6goeet)\" height=\"45.9375\" id=\"E12\" style=\"stroke: #A80036; stroke-width: 1.5;\" width=\"66\" x=\"32\" y=\"62\"/><text fill=\"#000000\" font-family=\"sans-serif\" font-size=\"12\" font-style=\"italic\" lengthAdjust=\"spacingAndGlyphs\" textLength=\"64\" x=\"33\" y=\"78.1387\">«part def»</text><text fill=\"#000000\" font-family=\"sans-serif\" font-size=\"12\" lengthAdjust=\"spacingAndGlyphs\" textLength=\"16\" x=\"57\" y=\"92.1074\">B1</text><line style=\"stroke: #A80036; stroke-width: 1.5;\" x1=\"33\" x2=\"97\" y1=\"99.9375\" y2=\"99.9375\"/></a><!--MD5=[ee3c913d1a06f366521f9ef512b67efe]\n",
       "class E13--><a href=\"psysml:072097f8-3b46-444f-b0fb-f8fd70c894a4\" target=\"_top\" title=\"psysml:072097f8-3b46-444f-b0fb-f8fd70c894a4\" xlink:actuate=\"onRequest\" xlink:href=\"psysml:072097f8-3b46-444f-b0fb-f8fd70c894a4\" xlink:show=\"new\" xlink:title=\"psysml:072097f8-3b46-444f-b0fb-f8fd70c894a4\" xlink:type=\"simple\"><rect fill=\"#FEFECE\" filter=\"url(#f1jispar6goeet)\" height=\"88.3516\" id=\"E13\" rx=\"10\" ry=\"10\" style=\"stroke: #A80036; stroke-width: 1.5;\" width=\"50\" x=\"40\" y=\"189\"/><text fill=\"#000000\" font-family=\"sans-serif\" font-size=\"12\" font-style=\"italic\" lengthAdjust=\"spacingAndGlyphs\" textLength=\"40\" x=\"45\" y=\"205.1387\">«part»</text><text fill=\"#000000\" font-family=\"sans-serif\" font-size=\"12\" lengthAdjust=\"spacingAndGlyphs\" textLength=\"8\" x=\"61\" y=\"219.1074\">p</text><line style=\"stroke: #A80036; stroke-width: 1.5;\" x1=\"41\" x2=\"89\" y1=\"226.9375\" y2=\"226.9375\"/><text fill=\"#000000\" font-family=\"sans-serif\" font-size=\"11\" lengthAdjust=\"spacingAndGlyphs\" textLength=\"29\" x=\"46\" y=\"257.9526\">p1: P</text><text fill=\"#000000\" font-family=\"sans-serif\" font-size=\"11\" lengthAdjust=\"spacingAndGlyphs\" textLength=\"38\" x=\"46\" y=\"270.7573\">p2: ~P</text><line style=\"stroke: #A80036; stroke-width: 1.0;\" x1=\"41\" x2=\"50\" y1=\"241.3398\" y2=\"241.3398\"/><text fill=\"#000000\" font-family=\"sans-serif\" font-size=\"11\" lengthAdjust=\"spacingAndGlyphs\" textLength=\"30\" x=\"50\" y=\"244.6479\">ports</text><line style=\"stroke: #A80036; stroke-width: 1.0;\" x1=\"80\" x2=\"89\" y1=\"241.3398\" y2=\"241.3398\"/></a><!--MD5=[062ed86c389d1a88f61c6380d0491e17]\n",
       "reverse link E12 to E13--><a href=\"psysml:072097f8-3b46-444f-b0fb-f8fd70c894a4\" target=\"_top\" title=\"psysml:072097f8-3b46-444f-b0fb-f8fd70c894a4\" xlink:actuate=\"onRequest\" xlink:href=\"psysml:072097f8-3b46-444f-b0fb-f8fd70c894a4\" xlink:show=\"new\" xlink:title=\"psysml:072097f8-3b46-444f-b0fb-f8fd70c894a4\" xlink:type=\"simple\"><path d=\"M65,121.25 C65,141.54 65,167.2 65,188.71 \" fill=\"none\" id=\"E12&lt;-E13\" style=\"stroke: #A80036; stroke-width: 1.0;\"/><polygon fill=\"#A80036\" points=\"65,108.17,61,114.17,65,120.17,69,114.17,65,108.17\" style=\"stroke: #A80036; stroke-width: 1.0;\"/></a><!--MD5=[40c50ccbbdc23589e3f83b573377c131]\n",
       "@startuml\r\n",
       "skinparam wrapWidth 300\r\n",
       "hide circle\r\n",
       "\r\n",
       "package \"ConjugationTest\" as E1  [[psysml:34192d11-634f-45f2-bc4e-1f94e63724b0 ]]  {\r\n",
       "comp def \"P\" as E2  <<(T,blue)port def>> [[psysml:c663f064-4c04-4527-821b-19ee83969177 ]] {\r\n",
       "}\r\n",
       "comp def \"B\" as E3  <<(T,blue)part def>> [[psysml:e064966f-e96c-463a-b744-2c95fe6cd8a1 ]] {\r\n",
       "- - ports - -\r\n",
       "p1: P\r\n",
       "p2: ~P\r\n",
       "}\r\n",
       "comp def \"A\" as E6  <<(T,blue)connection def>> [[psysml:005e78a8-b799-41cc-8c3e-bd1642b3bc90 ]] {\r\n",
       "- - ports - -\r\n",
       "p1: P\r\n",
       "p2: ~P\r\n",
       "}\r\n",
       "comp def \"I\" as E9  <<(T,blue)interface def>> [[psysml:21ca298b-43fb-4a5a-8828-d457e715a9a7 ]] {\r\n",
       "- - ports - -\r\n",
       "p1: P\r\n",
       "p2: ~P\r\n",
       "}\r\n",
       "comp def \"B1\" as E12  <<(T,blue)part def>> [[psysml:805f8ddd-ca4a-414c-92f1-ea459766cc23 ]] {\r\n",
       "}\r\n",
       "comp usage \"p\" as E13  <<(T,blue)part>> [[psysml:072097f8-3b46-444f-b0fb-f8fd70c894a4 ]] {\r\n",
       "- - ports - -\r\n",
       "p1: P\r\n",
       "p2: ~P\r\n",
       "}\r\n",
       "E12 *- - E13 [[psysml:072097f8-3b46-444f-b0fb-f8fd70c894a4 ]] \r\n",
       "}\r\n",
       "@enduml\r\n",
       "\n",
       "PlantUML version 1.2020.13(Sat Jun 13 12:26:38 UTC 2020)\n",
       "(EPL source distribution)\n",
       "Java Runtime: OpenJDK Runtime Environment\n",
       "JVM: OpenJDK 64-Bit Server VM\n",
       "Default Encoding: UTF-8\n",
       "Language: en\n",
       "Country: null\n",
       "--></g></svg>"
      ]
     },
     "execution_count": 28,
     "metadata": {},
     "output_type": "execute_result"
    }
   ],
   "source": [
    "%viz --style=\"STDCOLOR\" --view=\"Sequence\" \"ConjugationTest\""
   ]
  },
  {
   "cell_type": "code",
   "execution_count": 29,
   "id": "supposed-arctic",
   "metadata": {
    "execution": {
     "iopub.execute_input": "2021-03-25T15:04:02.039871Z",
     "iopub.status.busy": "2021-03-25T15:04:02.039047Z",
     "iopub.status.idle": "2021-03-25T15:04:02.698440Z",
     "shell.execute_reply": "2021-03-25T15:04:02.697121Z"
    }
   },
   "outputs": [
    {
     "data": {
      "image/svg+xml": [
       "<?xml version=\"1.0\" encoding=\"UTF-8\" standalone=\"no\"?><svg xmlns=\"http://www.w3.org/2000/svg\" xmlns:xlink=\"http://www.w3.org/1999/xlink\" contentScriptType=\"application/ecmascript\" contentStyleType=\"text/css\" height=\"305px\" preserveAspectRatio=\"none\" style=\"width:614px;height:305px;\" version=\"1.1\" viewBox=\"0 0 614 305\" width=\"614px\" zoomAndPan=\"magnify\"><defs><filter height=\"300%\" id=\"f1jispar6goeet\" width=\"300%\" x=\"-1\" y=\"-1\"><feGaussianBlur result=\"blurOut\" stdDeviation=\"2.0\"/><feColorMatrix in=\"blurOut\" result=\"blurOut2\" type=\"matrix\" values=\"0 0 0 0 0 0 0 0 0 0 0 0 0 0 0 0 0 0 .4 0\"/><feOffset dx=\"4.0\" dy=\"4.0\" in=\"blurOut2\" result=\"blurOut3\"/><feBlend in=\"SourceGraphic\" in2=\"blurOut3\" mode=\"normal\"/></filter></defs><g><!--MD5=[fbc87193dbaf4d95561dea2c320d4a47]\n",
       "cluster E1--><a href=\"psysml:34192d11-634f-45f2-bc4e-1f94e63724b0\" target=\"_top\" title=\"psysml:34192d11-634f-45f2-bc4e-1f94e63724b0\" xlink:actuate=\"onRequest\" xlink:href=\"psysml:34192d11-634f-45f2-bc4e-1f94e63724b0\" xlink:show=\"new\" xlink:title=\"psysml:34192d11-634f-45f2-bc4e-1f94e63724b0\" xlink:type=\"simple\"><polygon fill=\"#FFFFFF\" filter=\"url(#f1jispar6goeet)\" points=\"16,6,151,6,158,28.2969,592,28.2969,592,293,16,293,16,6\" style=\"stroke: #000000; stroke-width: 1.5;\"/><line style=\"stroke: #000000; stroke-width: 1.5;\" x1=\"16\" x2=\"158\" y1=\"28.2969\" y2=\"28.2969\"/><text fill=\"#000000\" font-family=\"sans-serif\" font-size=\"14\" font-weight=\"bold\" lengthAdjust=\"spacingAndGlyphs\" textLength=\"129\" x=\"20\" y=\"20.9951\">ConjugationTest</text></a><!--MD5=[b4997ac47864f28c2f74865a473b2911]\n",
       "class E2--><a href=\"psysml:c663f064-4c04-4527-821b-19ee83969177\" target=\"_top\" title=\"psysml:c663f064-4c04-4527-821b-19ee83969177\" xlink:actuate=\"onRequest\" xlink:href=\"psysml:c663f064-4c04-4527-821b-19ee83969177\" xlink:show=\"new\" xlink:title=\"psysml:c663f064-4c04-4527-821b-19ee83969177\" xlink:type=\"simple\"><rect fill=\"#FEFECE\" filter=\"url(#f1jispar6goeet)\" height=\"45.9375\" id=\"E2\" style=\"stroke: #A80036; stroke-width: 1.5;\" width=\"66\" x=\"510\" y=\"62\"/><text fill=\"#000000\" font-family=\"sans-serif\" font-size=\"12\" font-style=\"italic\" lengthAdjust=\"spacingAndGlyphs\" textLength=\"64\" x=\"511\" y=\"78.1387\">«port def»</text><text fill=\"#000000\" font-family=\"sans-serif\" font-size=\"12\" lengthAdjust=\"spacingAndGlyphs\" textLength=\"8\" x=\"539\" y=\"92.1074\">P</text><line style=\"stroke: #A80036; stroke-width: 1.5;\" x1=\"511\" x2=\"575\" y1=\"99.9375\" y2=\"99.9375\"/></a><!--MD5=[09b614a08d8cba4a07c9adeb5e0fee81]\n",
       "class E3--><a href=\"psysml:e064966f-e96c-463a-b744-2c95fe6cd8a1\" target=\"_top\" title=\"psysml:e064966f-e96c-463a-b744-2c95fe6cd8a1\" xlink:actuate=\"onRequest\" xlink:href=\"psysml:e064966f-e96c-463a-b744-2c95fe6cd8a1\" xlink:show=\"new\" xlink:title=\"psysml:e064966f-e96c-463a-b744-2c95fe6cd8a1\" xlink:type=\"simple\"><rect fill=\"#FEFECE\" filter=\"url(#f1jispar6goeet)\" height=\"88.3516\" id=\"E3\" style=\"stroke: #A80036; stroke-width: 1.5;\" width=\"66\" x=\"409\" y=\"41\"/><text fill=\"#000000\" font-family=\"sans-serif\" font-size=\"12\" font-style=\"italic\" lengthAdjust=\"spacingAndGlyphs\" textLength=\"64\" x=\"410\" y=\"57.1387\">«part def»</text><text fill=\"#000000\" font-family=\"sans-serif\" font-size=\"12\" lengthAdjust=\"spacingAndGlyphs\" textLength=\"8\" x=\"438\" y=\"71.1074\">B</text><line style=\"stroke: #A80036; stroke-width: 1.5;\" x1=\"410\" x2=\"474\" y1=\"78.9375\" y2=\"78.9375\"/><text fill=\"#000000\" font-family=\"sans-serif\" font-size=\"11\" lengthAdjust=\"spacingAndGlyphs\" textLength=\"29\" x=\"415\" y=\"109.9526\">p1: P</text><text fill=\"#000000\" font-family=\"sans-serif\" font-size=\"11\" lengthAdjust=\"spacingAndGlyphs\" textLength=\"38\" x=\"415\" y=\"122.7573\">p2: ~P</text><line style=\"stroke: #A80036; stroke-width: 1.0;\" x1=\"410\" x2=\"427\" y1=\"93.3398\" y2=\"93.3398\"/><text fill=\"#000000\" font-family=\"sans-serif\" font-size=\"11\" lengthAdjust=\"spacingAndGlyphs\" textLength=\"30\" x=\"427\" y=\"96.6479\">ports</text><line style=\"stroke: #A80036; stroke-width: 1.0;\" x1=\"457\" x2=\"474\" y1=\"93.3398\" y2=\"93.3398\"/></a><!--MD5=[60a26617385b1d2d0262a64233df1f8d]\n",
       "class E6--><a href=\"psysml:005e78a8-b799-41cc-8c3e-bd1642b3bc90\" target=\"_top\" title=\"psysml:005e78a8-b799-41cc-8c3e-bd1642b3bc90\" xlink:actuate=\"onRequest\" xlink:href=\"psysml:005e78a8-b799-41cc-8c3e-bd1642b3bc90\" xlink:show=\"new\" xlink:title=\"psysml:005e78a8-b799-41cc-8c3e-bd1642b3bc90\" xlink:type=\"simple\"><rect fill=\"#FEFECE\" filter=\"url(#f1jispar6goeet)\" height=\"88.3516\" id=\"E6\" style=\"stroke: #A80036; stroke-width: 1.5;\" width=\"110\" x=\"264\" y=\"41\"/><text fill=\"#000000\" font-family=\"sans-serif\" font-size=\"12\" font-style=\"italic\" lengthAdjust=\"spacingAndGlyphs\" textLength=\"108\" x=\"265\" y=\"57.1387\">«connection def»</text><text fill=\"#000000\" font-family=\"sans-serif\" font-size=\"12\" lengthAdjust=\"spacingAndGlyphs\" textLength=\"8\" x=\"315\" y=\"71.1074\">A</text><line style=\"stroke: #A80036; stroke-width: 1.5;\" x1=\"265\" x2=\"373\" y1=\"78.9375\" y2=\"78.9375\"/><text fill=\"#000000\" font-family=\"sans-serif\" font-size=\"11\" lengthAdjust=\"spacingAndGlyphs\" textLength=\"29\" x=\"270\" y=\"109.9526\">p1: P</text><text fill=\"#000000\" font-family=\"sans-serif\" font-size=\"11\" lengthAdjust=\"spacingAndGlyphs\" textLength=\"38\" x=\"270\" y=\"122.7573\">p2: ~P</text><line style=\"stroke: #A80036; stroke-width: 1.0;\" x1=\"265\" x2=\"304\" y1=\"93.3398\" y2=\"93.3398\"/><text fill=\"#000000\" font-family=\"sans-serif\" font-size=\"11\" lengthAdjust=\"spacingAndGlyphs\" textLength=\"30\" x=\"304\" y=\"96.6479\">ports</text><line style=\"stroke: #A80036; stroke-width: 1.0;\" x1=\"334\" x2=\"373\" y1=\"93.3398\" y2=\"93.3398\"/></a><!--MD5=[fd4143e9d270a159db93a4ea2a975926]\n",
       "class E9--><a href=\"psysml:21ca298b-43fb-4a5a-8828-d457e715a9a7\" target=\"_top\" title=\"psysml:21ca298b-43fb-4a5a-8828-d457e715a9a7\" xlink:actuate=\"onRequest\" xlink:href=\"psysml:21ca298b-43fb-4a5a-8828-d457e715a9a7\" xlink:show=\"new\" xlink:title=\"psysml:21ca298b-43fb-4a5a-8828-d457e715a9a7\" xlink:type=\"simple\"><rect fill=\"#FEFECE\" filter=\"url(#f1jispar6goeet)\" height=\"88.3516\" id=\"E9\" style=\"stroke: #A80036; stroke-width: 1.5;\" width=\"96\" x=\"133\" y=\"41\"/><text fill=\"#000000\" font-family=\"sans-serif\" font-size=\"12\" font-style=\"italic\" lengthAdjust=\"spacingAndGlyphs\" textLength=\"94\" x=\"134\" y=\"57.1387\">«interface def»</text><text fill=\"#000000\" font-family=\"sans-serif\" font-size=\"12\" lengthAdjust=\"spacingAndGlyphs\" textLength=\"3\" x=\"179.5\" y=\"71.1074\">I</text><line style=\"stroke: #A80036; stroke-width: 1.5;\" x1=\"134\" x2=\"228\" y1=\"78.9375\" y2=\"78.9375\"/><text fill=\"#000000\" font-family=\"sans-serif\" font-size=\"11\" lengthAdjust=\"spacingAndGlyphs\" textLength=\"29\" x=\"139\" y=\"109.9526\">p1: P</text><text fill=\"#000000\" font-family=\"sans-serif\" font-size=\"11\" lengthAdjust=\"spacingAndGlyphs\" textLength=\"38\" x=\"139\" y=\"122.7573\">p2: ~P</text><line style=\"stroke: #A80036; stroke-width: 1.0;\" x1=\"134\" x2=\"166\" y1=\"93.3398\" y2=\"93.3398\"/><text fill=\"#000000\" font-family=\"sans-serif\" font-size=\"11\" lengthAdjust=\"spacingAndGlyphs\" textLength=\"30\" x=\"166\" y=\"96.6479\">ports</text><line style=\"stroke: #A80036; stroke-width: 1.0;\" x1=\"196\" x2=\"228\" y1=\"93.3398\" y2=\"93.3398\"/></a><!--MD5=[49a0ec8f00dab7302a31f22d0f0fe584]\n",
       "class E12--><a href=\"psysml:805f8ddd-ca4a-414c-92f1-ea459766cc23\" target=\"_top\" title=\"psysml:805f8ddd-ca4a-414c-92f1-ea459766cc23\" xlink:actuate=\"onRequest\" xlink:href=\"psysml:805f8ddd-ca4a-414c-92f1-ea459766cc23\" xlink:show=\"new\" xlink:title=\"psysml:805f8ddd-ca4a-414c-92f1-ea459766cc23\" xlink:type=\"simple\"><rect fill=\"#FEFECE\" filter=\"url(#f1jispar6goeet)\" height=\"45.9375\" id=\"E12\" style=\"stroke: #A80036; stroke-width: 1.5;\" width=\"66\" x=\"32\" y=\"62\"/><text fill=\"#000000\" font-family=\"sans-serif\" font-size=\"12\" font-style=\"italic\" lengthAdjust=\"spacingAndGlyphs\" textLength=\"64\" x=\"33\" y=\"78.1387\">«part def»</text><text fill=\"#000000\" font-family=\"sans-serif\" font-size=\"12\" lengthAdjust=\"spacingAndGlyphs\" textLength=\"16\" x=\"57\" y=\"92.1074\">B1</text><line style=\"stroke: #A80036; stroke-width: 1.5;\" x1=\"33\" x2=\"97\" y1=\"99.9375\" y2=\"99.9375\"/></a><!--MD5=[ee3c913d1a06f366521f9ef512b67efe]\n",
       "class E13--><a href=\"psysml:072097f8-3b46-444f-b0fb-f8fd70c894a4\" target=\"_top\" title=\"psysml:072097f8-3b46-444f-b0fb-f8fd70c894a4\" xlink:actuate=\"onRequest\" xlink:href=\"psysml:072097f8-3b46-444f-b0fb-f8fd70c894a4\" xlink:show=\"new\" xlink:title=\"psysml:072097f8-3b46-444f-b0fb-f8fd70c894a4\" xlink:type=\"simple\"><rect fill=\"#FEFECE\" filter=\"url(#f1jispar6goeet)\" height=\"88.3516\" id=\"E13\" rx=\"10\" ry=\"10\" style=\"stroke: #A80036; stroke-width: 1.5;\" width=\"50\" x=\"40\" y=\"189\"/><text fill=\"#000000\" font-family=\"sans-serif\" font-size=\"12\" font-style=\"italic\" lengthAdjust=\"spacingAndGlyphs\" textLength=\"40\" x=\"45\" y=\"205.1387\">«part»</text><text fill=\"#000000\" font-family=\"sans-serif\" font-size=\"12\" lengthAdjust=\"spacingAndGlyphs\" textLength=\"8\" x=\"61\" y=\"219.1074\">p</text><line style=\"stroke: #A80036; stroke-width: 1.5;\" x1=\"41\" x2=\"89\" y1=\"226.9375\" y2=\"226.9375\"/><text fill=\"#000000\" font-family=\"sans-serif\" font-size=\"11\" lengthAdjust=\"spacingAndGlyphs\" textLength=\"29\" x=\"46\" y=\"257.9526\">p1: P</text><text fill=\"#000000\" font-family=\"sans-serif\" font-size=\"11\" lengthAdjust=\"spacingAndGlyphs\" textLength=\"38\" x=\"46\" y=\"270.7573\">p2: ~P</text><line style=\"stroke: #A80036; stroke-width: 1.0;\" x1=\"41\" x2=\"50\" y1=\"241.3398\" y2=\"241.3398\"/><text fill=\"#000000\" font-family=\"sans-serif\" font-size=\"11\" lengthAdjust=\"spacingAndGlyphs\" textLength=\"30\" x=\"50\" y=\"244.6479\">ports</text><line style=\"stroke: #A80036; stroke-width: 1.0;\" x1=\"80\" x2=\"89\" y1=\"241.3398\" y2=\"241.3398\"/></a><!--MD5=[062ed86c389d1a88f61c6380d0491e17]\n",
       "reverse link E12 to E13--><a href=\"psysml:072097f8-3b46-444f-b0fb-f8fd70c894a4\" target=\"_top\" title=\"psysml:072097f8-3b46-444f-b0fb-f8fd70c894a4\" xlink:actuate=\"onRequest\" xlink:href=\"psysml:072097f8-3b46-444f-b0fb-f8fd70c894a4\" xlink:show=\"new\" xlink:title=\"psysml:072097f8-3b46-444f-b0fb-f8fd70c894a4\" xlink:type=\"simple\"><path d=\"M65,121.25 C65,141.54 65,167.2 65,188.71 \" fill=\"none\" id=\"E12&lt;-E13\" style=\"stroke: #A80036; stroke-width: 1.0;\"/><polygon fill=\"#A80036\" points=\"65,108.17,61,114.17,65,120.17,69,114.17,65,108.17\" style=\"stroke: #A80036; stroke-width: 1.0;\"/></a><!--MD5=[40c50ccbbdc23589e3f83b573377c131]\n",
       "@startuml\r\n",
       "skinparam wrapWidth 300\r\n",
       "hide circle\r\n",
       "\r\n",
       "package \"ConjugationTest\" as E1  [[psysml:34192d11-634f-45f2-bc4e-1f94e63724b0 ]]  {\r\n",
       "comp def \"P\" as E2  <<(T,blue)port def>> [[psysml:c663f064-4c04-4527-821b-19ee83969177 ]] {\r\n",
       "}\r\n",
       "comp def \"B\" as E3  <<(T,blue)part def>> [[psysml:e064966f-e96c-463a-b744-2c95fe6cd8a1 ]] {\r\n",
       "- - ports - -\r\n",
       "p1: P\r\n",
       "p2: ~P\r\n",
       "}\r\n",
       "comp def \"A\" as E6  <<(T,blue)connection def>> [[psysml:005e78a8-b799-41cc-8c3e-bd1642b3bc90 ]] {\r\n",
       "- - ports - -\r\n",
       "p1: P\r\n",
       "p2: ~P\r\n",
       "}\r\n",
       "comp def \"I\" as E9  <<(T,blue)interface def>> [[psysml:21ca298b-43fb-4a5a-8828-d457e715a9a7 ]] {\r\n",
       "- - ports - -\r\n",
       "p1: P\r\n",
       "p2: ~P\r\n",
       "}\r\n",
       "comp def \"B1\" as E12  <<(T,blue)part def>> [[psysml:805f8ddd-ca4a-414c-92f1-ea459766cc23 ]] {\r\n",
       "}\r\n",
       "comp usage \"p\" as E13  <<(T,blue)part>> [[psysml:072097f8-3b46-444f-b0fb-f8fd70c894a4 ]] {\r\n",
       "- - ports - -\r\n",
       "p1: P\r\n",
       "p2: ~P\r\n",
       "}\r\n",
       "E12 *- - E13 [[psysml:072097f8-3b46-444f-b0fb-f8fd70c894a4 ]] \r\n",
       "}\r\n",
       "@enduml\r\n",
       "\n",
       "PlantUML version 1.2020.13(Sat Jun 13 12:26:38 UTC 2020)\n",
       "(EPL source distribution)\n",
       "Java Runtime: OpenJDK Runtime Environment\n",
       "JVM: OpenJDK 64-Bit Server VM\n",
       "Default Encoding: UTF-8\n",
       "Language: en\n",
       "Country: null\n",
       "--></g></svg>"
      ]
     },
     "execution_count": 29,
     "metadata": {},
     "output_type": "execute_result"
    }
   ],
   "source": [
    "%viz --style=\"STDCOLOR\" --view=\"MIXED\" \"ConjugationTest\""
   ]
  },
  {
   "cell_type": "code",
   "execution_count": 30,
   "id": "clean-couple",
   "metadata": {
    "execution": {
     "iopub.execute_input": "2021-03-25T15:04:02.752283Z",
     "iopub.status.busy": "2021-03-25T15:04:02.750859Z",
     "iopub.status.idle": "2021-03-25T15:04:03.395235Z",
     "shell.execute_reply": "2021-03-25T15:04:03.393847Z"
    }
   },
   "outputs": [
    {
     "data": {
      "image/svg+xml": [
       "<?xml version=\"1.0\" encoding=\"UTF-8\" standalone=\"no\"?><svg xmlns=\"http://www.w3.org/2000/svg\" xmlns:xlink=\"http://www.w3.org/1999/xlink\" contentScriptType=\"application/ecmascript\" contentStyleType=\"text/css\" height=\"299px\" preserveAspectRatio=\"none\" style=\"width:500px;height:299px;\" version=\"1.1\" viewBox=\"0 0 500 299\" width=\"500px\" zoomAndPan=\"magnify\"><defs><filter height=\"300%\" id=\"f14rmycoq9k3lz\" width=\"300%\" x=\"-1\" y=\"-1\"><feGaussianBlur result=\"blurOut\" stdDeviation=\"2.0\"/><feColorMatrix in=\"blurOut\" result=\"blurOut2\" type=\"matrix\" values=\"0 0 0 0 0 0 0 0 0 0 0 0 0 0 0 0 0 0 .4 0\"/><feOffset dx=\"4.0\" dy=\"4.0\" in=\"blurOut2\" result=\"blurOut3\"/><feBlend in=\"SourceGraphic\" in2=\"blurOut3\" mode=\"normal\"/></filter></defs><g><!--MD5=[fbc87193dbaf4d95561dea2c320d4a47]\n",
       "cluster E1--><a href=\"psysml:34192d11-634f-45f2-bc4e-1f94e63724b0\" target=\"_top\" title=\"psysml:34192d11-634f-45f2-bc4e-1f94e63724b0\" xlink:actuate=\"onRequest\" xlink:href=\"psysml:34192d11-634f-45f2-bc4e-1f94e63724b0\" xlink:show=\"new\" xlink:title=\"psysml:34192d11-634f-45f2-bc4e-1f94e63724b0\" xlink:type=\"simple\"><polygon fill=\"#FFFFFF\" filter=\"url(#f14rmycoq9k3lz)\" points=\"16,6,151,6,158,28.2969,478,28.2969,478,287,16,287,16,6\" style=\"stroke: #000000; stroke-width: 1.5;\"/><line style=\"stroke: #000000; stroke-width: 1.5;\" x1=\"16\" x2=\"158\" y1=\"28.2969\" y2=\"28.2969\"/><text fill=\"#000000\" font-family=\"sans-serif\" font-size=\"14\" font-weight=\"bold\" lengthAdjust=\"spacingAndGlyphs\" textLength=\"129\" x=\"20\" y=\"20.9951\">ConjugationTest</text></a><!--MD5=[b4997ac47864f28c2f74865a473b2911]\n",
       "class E2--><a href=\"psysml:c663f064-4c04-4527-821b-19ee83969177\" target=\"_top\" title=\"psysml:c663f064-4c04-4527-821b-19ee83969177\" xlink:actuate=\"onRequest\" xlink:href=\"psysml:c663f064-4c04-4527-821b-19ee83969177\" xlink:show=\"new\" xlink:title=\"psysml:c663f064-4c04-4527-821b-19ee83969177\" xlink:type=\"simple\"><rect fill=\"#FEFECE\" filter=\"url(#f14rmycoq9k3lz)\" height=\"45.9375\" id=\"E2\" style=\"stroke: #A80036; stroke-width: 1.5;\" width=\"92\" x=\"370\" y=\"59\"/><ellipse cx=\"385\" cy=\"77.9688\" fill=\"#A52A2A\" rx=\"11\" ry=\"11\" style=\"stroke: #A80036; stroke-width: 1.0;\"/><path d=\"M384.5938,73.7813 L384.5938,81.7656 L385.25,81.7656 Q386.6875,81.7656 387.2969,80.8594 Q387.9219,79.9375 387.9219,77.7656 Q387.9219,75.5938 387.2969,74.6875 Q386.6875,73.7813 385.25,73.7813 L384.5938,73.7813 Z M382.1406,71.5781 L384.7656,71.5781 Q387.7969,71.5781 389.125,73.0313 Q390.4688,74.4688 390.4688,77.7656 Q390.4688,81.0625 389.125,82.5156 Q387.7969,83.9688 384.7656,83.9688 L382.1406,83.9688 L382.1406,71.5781 Z \"/><text fill=\"#000000\" font-family=\"sans-serif\" font-size=\"12\" font-style=\"italic\" lengthAdjust=\"spacingAndGlyphs\" textLength=\"64\" x=\"397\" y=\"75.1387\">«port def»</text><text fill=\"#000000\" font-family=\"sans-serif\" font-size=\"12\" lengthAdjust=\"spacingAndGlyphs\" textLength=\"8\" x=\"425\" y=\"89.1074\">P</text><line style=\"stroke: #A80036; stroke-width: 1.5;\" x1=\"371\" x2=\"461\" y1=\"96.9375\" y2=\"96.9375\"/></a><!--MD5=[09b614a08d8cba4a07c9adeb5e0fee81]\n",
       "class E3--><a href=\"psysml:e064966f-e96c-463a-b744-2c95fe6cd8a1\" target=\"_top\" title=\"psysml:e064966f-e96c-463a-b744-2c95fe6cd8a1\" xlink:actuate=\"onRequest\" xlink:href=\"psysml:e064966f-e96c-463a-b744-2c95fe6cd8a1\" xlink:show=\"new\" xlink:title=\"psysml:e064966f-e96c-463a-b744-2c95fe6cd8a1\" xlink:type=\"simple\"><rect fill=\"#FEFECE\" filter=\"url(#f14rmycoq9k3lz)\" height=\"82.4141\" id=\"E3\" style=\"stroke: #A80036; stroke-width: 1.5;\" width=\"50\" x=\"285\" y=\"41\"/><ellipse cx=\"304.5\" cy=\"57\" fill=\"#008000\" rx=\"11\" ry=\"11\" style=\"stroke: #A80036; stroke-width: 1.0;\"/><path d=\"M303.4063,57.375 L303.4063,61.0469 L305.0313,61.0469 Q306.2031,61.0469 306.6719,60.6563 Q307.1406,60.25 307.1406,59.25 Q307.1406,58.25 306.6406,57.8125 Q306.1563,57.375 305.0313,57.375 L303.4063,57.375 Z M303.4063,52.5469 L303.4063,55.4219 L305.0313,55.4219 Q305.9531,55.4219 306.3438,55.0938 Q306.75,54.75 306.75,54 Q306.75,53.2344 306.3438,52.8906 Q305.9375,52.5469 305.0313,52.5469 L303.4063,52.5469 Z M301.0313,50.5938 L305.0313,50.5938 Q307.0938,50.5938 308.1406,51.375 Q309.1875,52.1563 309.1875,53.7188 Q309.1875,54.9219 308.5625,55.5938 Q307.9531,56.2656 306.7656,56.375 Q308.1875,56.5156 308.9063,57.3281 Q309.625,58.1406 309.625,59.5938 Q309.625,61.3906 308.5469,62.2031 Q307.4688,63 305.0313,63 L301.0313,63 L301.0313,50.5938 Z \"/><text fill=\"#000000\" font-family=\"sans-serif\" font-size=\"12\" lengthAdjust=\"spacingAndGlyphs\" textLength=\"8\" x=\"319.5\" y=\"61.1543\">B</text><line style=\"stroke: #A80036; stroke-width: 1.5;\" x1=\"286\" x2=\"334\" y1=\"73\" y2=\"73\"/><text fill=\"#000000\" font-family=\"sans-serif\" font-size=\"11\" lengthAdjust=\"spacingAndGlyphs\" textLength=\"29\" x=\"291\" y=\"104.0151\">p1: P</text><text fill=\"#000000\" font-family=\"sans-serif\" font-size=\"11\" lengthAdjust=\"spacingAndGlyphs\" textLength=\"38\" x=\"291\" y=\"116.8198\">p2: ~P</text><line style=\"stroke: #A80036; stroke-width: 1.0;\" x1=\"286\" x2=\"295\" y1=\"87.4023\" y2=\"87.4023\"/><text fill=\"#000000\" font-family=\"sans-serif\" font-size=\"11\" lengthAdjust=\"spacingAndGlyphs\" textLength=\"30\" x=\"295\" y=\"90.7104\">ports</text><line style=\"stroke: #A80036; stroke-width: 1.0;\" x1=\"325\" x2=\"334\" y1=\"87.4023\" y2=\"87.4023\"/></a><!--MD5=[60a26617385b1d2d0262a64233df1f8d]\n",
       "class E6--><a href=\"psysml:005e78a8-b799-41cc-8c3e-bd1642b3bc90\" target=\"_top\" title=\"psysml:005e78a8-b799-41cc-8c3e-bd1642b3bc90\" xlink:actuate=\"onRequest\" xlink:href=\"psysml:005e78a8-b799-41cc-8c3e-bd1642b3bc90\" xlink:show=\"new\" xlink:title=\"psysml:005e78a8-b799-41cc-8c3e-bd1642b3bc90\" xlink:type=\"simple\"><rect fill=\"#FEFECE\" filter=\"url(#f14rmycoq9k3lz)\" height=\"82.4141\" id=\"E6\" style=\"stroke: #A80036; stroke-width: 1.5;\" width=\"50\" x=\"200\" y=\"41\"/><ellipse cx=\"219.5\" cy=\"57\" fill=\"#008000\" rx=\"11\" ry=\"11\" style=\"stroke: #A80036; stroke-width: 1.0;\"/><path d=\"M218.4063,57.375 L218.4063,61.0469 L220.0313,61.0469 Q221.2031,61.0469 221.6719,60.6563 Q222.1406,60.25 222.1406,59.25 Q222.1406,58.25 221.6406,57.8125 Q221.1563,57.375 220.0313,57.375 L218.4063,57.375 Z M218.4063,52.5469 L218.4063,55.4219 L220.0313,55.4219 Q220.9531,55.4219 221.3438,55.0938 Q221.75,54.75 221.75,54 Q221.75,53.2344 221.3438,52.8906 Q220.9375,52.5469 220.0313,52.5469 L218.4063,52.5469 Z M216.0313,50.5938 L220.0313,50.5938 Q222.0938,50.5938 223.1406,51.375 Q224.1875,52.1563 224.1875,53.7188 Q224.1875,54.9219 223.5625,55.5938 Q222.9531,56.2656 221.7656,56.375 Q223.1875,56.5156 223.9063,57.3281 Q224.625,58.1406 224.625,59.5938 Q224.625,61.3906 223.5469,62.2031 Q222.4688,63 220.0313,63 L216.0313,63 L216.0313,50.5938 Z \"/><text fill=\"#000000\" font-family=\"sans-serif\" font-size=\"12\" lengthAdjust=\"spacingAndGlyphs\" textLength=\"8\" x=\"234.5\" y=\"61.1543\">A</text><line style=\"stroke: #A80036; stroke-width: 1.5;\" x1=\"201\" x2=\"249\" y1=\"73\" y2=\"73\"/><text fill=\"#000000\" font-family=\"sans-serif\" font-size=\"11\" lengthAdjust=\"spacingAndGlyphs\" textLength=\"29\" x=\"206\" y=\"104.0151\">p1: P</text><text fill=\"#000000\" font-family=\"sans-serif\" font-size=\"11\" lengthAdjust=\"spacingAndGlyphs\" textLength=\"38\" x=\"206\" y=\"116.8198\">p2: ~P</text><line style=\"stroke: #A80036; stroke-width: 1.0;\" x1=\"201\" x2=\"210\" y1=\"87.4023\" y2=\"87.4023\"/><text fill=\"#000000\" font-family=\"sans-serif\" font-size=\"11\" lengthAdjust=\"spacingAndGlyphs\" textLength=\"30\" x=\"210\" y=\"90.7104\">ports</text><line style=\"stroke: #A80036; stroke-width: 1.0;\" x1=\"240\" x2=\"249\" y1=\"87.4023\" y2=\"87.4023\"/></a><!--MD5=[fd4143e9d270a159db93a4ea2a975926]\n",
       "class E9--><a href=\"psysml:21ca298b-43fb-4a5a-8828-d457e715a9a7\" target=\"_top\" title=\"psysml:21ca298b-43fb-4a5a-8828-d457e715a9a7\" xlink:actuate=\"onRequest\" xlink:href=\"psysml:21ca298b-43fb-4a5a-8828-d457e715a9a7\" xlink:show=\"new\" xlink:title=\"psysml:21ca298b-43fb-4a5a-8828-d457e715a9a7\" xlink:type=\"simple\"><rect fill=\"#FEFECE\" filter=\"url(#f14rmycoq9k3lz)\" height=\"82.4141\" id=\"E9\" style=\"stroke: #A80036; stroke-width: 1.5;\" width=\"50\" x=\"115\" y=\"41\"/><ellipse cx=\"136.75\" cy=\"57\" fill=\"#008000\" rx=\"11\" ry=\"11\" style=\"stroke: #A80036; stroke-width: 1.0;\"/><path d=\"M135.6563,57.375 L135.6563,61.0469 L137.2813,61.0469 Q138.4531,61.0469 138.9219,60.6563 Q139.3906,60.25 139.3906,59.25 Q139.3906,58.25 138.8906,57.8125 Q138.4063,57.375 137.2813,57.375 L135.6563,57.375 Z M135.6563,52.5469 L135.6563,55.4219 L137.2813,55.4219 Q138.2031,55.4219 138.5938,55.0938 Q139,54.75 139,54 Q139,53.2344 138.5938,52.8906 Q138.1875,52.5469 137.2813,52.5469 L135.6563,52.5469 Z M133.2813,50.5938 L137.2813,50.5938 Q139.3438,50.5938 140.3906,51.375 Q141.4375,52.1563 141.4375,53.7188 Q141.4375,54.9219 140.8125,55.5938 Q140.2031,56.2656 139.0156,56.375 Q140.4375,56.5156 141.1563,57.3281 Q141.875,58.1406 141.875,59.5938 Q141.875,61.3906 140.7969,62.2031 Q139.7188,63 137.2813,63 L133.2813,63 L133.2813,50.5938 Z \"/><text fill=\"#000000\" font-family=\"sans-serif\" font-size=\"12\" lengthAdjust=\"spacingAndGlyphs\" textLength=\"3\" x=\"152.25\" y=\"61.1543\">I</text><line style=\"stroke: #A80036; stroke-width: 1.5;\" x1=\"116\" x2=\"164\" y1=\"73\" y2=\"73\"/><text fill=\"#000000\" font-family=\"sans-serif\" font-size=\"11\" lengthAdjust=\"spacingAndGlyphs\" textLength=\"29\" x=\"121\" y=\"104.0151\">p1: P</text><text fill=\"#000000\" font-family=\"sans-serif\" font-size=\"11\" lengthAdjust=\"spacingAndGlyphs\" textLength=\"38\" x=\"121\" y=\"116.8198\">p2: ~P</text><line style=\"stroke: #A80036; stroke-width: 1.0;\" x1=\"116\" x2=\"125\" y1=\"87.4023\" y2=\"87.4023\"/><text fill=\"#000000\" font-family=\"sans-serif\" font-size=\"11\" lengthAdjust=\"spacingAndGlyphs\" textLength=\"30\" x=\"125\" y=\"90.7104\">ports</text><line style=\"stroke: #A80036; stroke-width: 1.0;\" x1=\"155\" x2=\"164\" y1=\"87.4023\" y2=\"87.4023\"/></a><!--MD5=[49a0ec8f00dab7302a31f22d0f0fe584]\n",
       "class E12--><a href=\"psysml:805f8ddd-ca4a-414c-92f1-ea459766cc23\" target=\"_top\" title=\"psysml:805f8ddd-ca4a-414c-92f1-ea459766cc23\" xlink:actuate=\"onRequest\" xlink:href=\"psysml:805f8ddd-ca4a-414c-92f1-ea459766cc23\" xlink:show=\"new\" xlink:title=\"psysml:805f8ddd-ca4a-414c-92f1-ea459766cc23\" xlink:type=\"simple\"><rect fill=\"#FEFECE\" filter=\"url(#f14rmycoq9k3lz)\" height=\"40\" id=\"E12\" style=\"stroke: #A80036; stroke-width: 1.5;\" width=\"48\" x=\"32\" y=\"62\"/><ellipse cx=\"47\" cy=\"78\" fill=\"#008000\" rx=\"11\" ry=\"11\" style=\"stroke: #A80036; stroke-width: 1.0;\"/><path d=\"M45.9063,78.375 L45.9063,82.0469 L47.5313,82.0469 Q48.7031,82.0469 49.1719,81.6563 Q49.6406,81.25 49.6406,80.25 Q49.6406,79.25 49.1406,78.8125 Q48.6563,78.375 47.5313,78.375 L45.9063,78.375 Z M45.9063,73.5469 L45.9063,76.4219 L47.5313,76.4219 Q48.4531,76.4219 48.8438,76.0938 Q49.25,75.75 49.25,75 Q49.25,74.2344 48.8438,73.8906 Q48.4375,73.5469 47.5313,73.5469 L45.9063,73.5469 Z M43.5313,71.5938 L47.5313,71.5938 Q49.5938,71.5938 50.6406,72.375 Q51.6875,73.1563 51.6875,74.7188 Q51.6875,75.9219 51.0625,76.5938 Q50.4531,77.2656 49.2656,77.375 Q50.6875,77.5156 51.4063,78.3281 Q52.125,79.1406 52.125,80.5938 Q52.125,82.3906 51.0469,83.2031 Q49.9688,84 47.5313,84 L43.5313,84 L43.5313,71.5938 Z \"/><text fill=\"#000000\" font-family=\"sans-serif\" font-size=\"12\" lengthAdjust=\"spacingAndGlyphs\" textLength=\"16\" x=\"61\" y=\"82.1543\">B1</text><line style=\"stroke: #A80036; stroke-width: 1.5;\" x1=\"33\" x2=\"79\" y1=\"94\" y2=\"94\"/></a><!--MD5=[ee3c913d1a06f366521f9ef512b67efe]\n",
       "class E13--><a href=\"psysml:072097f8-3b46-444f-b0fb-f8fd70c894a4\" target=\"_top\" title=\"psysml:072097f8-3b46-444f-b0fb-f8fd70c894a4\" xlink:actuate=\"onRequest\" xlink:href=\"psysml:072097f8-3b46-444f-b0fb-f8fd70c894a4\" xlink:show=\"new\" xlink:title=\"psysml:072097f8-3b46-444f-b0fb-f8fd70c894a4\" xlink:type=\"simple\"><rect fill=\"#FEFECE\" filter=\"url(#f14rmycoq9k3lz)\" height=\"88.3516\" id=\"E13\" rx=\"10\" ry=\"10\" style=\"stroke: #A80036; stroke-width: 1.5;\" width=\"68\" x=\"32\" y=\"183\"/><ellipse cx=\"47\" cy=\"201.9688\" fill=\"#32CD32\" rx=\"11\" ry=\"11\" style=\"stroke: #A80036; stroke-width: 1.0;\"/><path d=\"M46.7969,197.6406 L46.7969,201.2656 L47.7969,201.2656 Q49,201.2656 49.4844,200.8594 Q49.9688,200.4531 49.9688,199.4531 Q49.9688,198.4531 49.4844,198.0469 Q49,197.6406 47.7969,197.6406 L46.7969,197.6406 Z M44.3438,195.5781 L47.7031,195.5781 Q50.2656,195.5781 51.3906,196.5 Q52.5156,197.4063 52.5156,199.4531 Q52.5156,201.5 51.3906,202.4219 Q50.2656,203.3281 47.7031,203.3281 L46.7969,203.3281 L46.7969,207.9688 L44.3438,207.9688 L44.3438,195.5781 Z \"/><text fill=\"#000000\" font-family=\"sans-serif\" font-size=\"12\" font-style=\"italic\" lengthAdjust=\"spacingAndGlyphs\" textLength=\"40\" x=\"59\" y=\"199.1387\">«part»</text><text fill=\"#000000\" font-family=\"sans-serif\" font-size=\"12\" lengthAdjust=\"spacingAndGlyphs\" textLength=\"8\" x=\"75\" y=\"213.1074\">p</text><line style=\"stroke: #A80036; stroke-width: 1.5;\" x1=\"33\" x2=\"99\" y1=\"220.9375\" y2=\"220.9375\"/><text fill=\"#000000\" font-family=\"sans-serif\" font-size=\"11\" lengthAdjust=\"spacingAndGlyphs\" textLength=\"29\" x=\"38\" y=\"251.9526\">p1: P</text><text fill=\"#000000\" font-family=\"sans-serif\" font-size=\"11\" lengthAdjust=\"spacingAndGlyphs\" textLength=\"38\" x=\"38\" y=\"264.7573\">p2: ~P</text><line style=\"stroke: #A80036; stroke-width: 1.0;\" x1=\"33\" x2=\"51\" y1=\"235.3398\" y2=\"235.3398\"/><text fill=\"#000000\" font-family=\"sans-serif\" font-size=\"11\" lengthAdjust=\"spacingAndGlyphs\" textLength=\"30\" x=\"51\" y=\"238.6479\">ports</text><line style=\"stroke: #A80036; stroke-width: 1.0;\" x1=\"81\" x2=\"99\" y1=\"235.3398\" y2=\"235.3398\"/></a><!--MD5=[062ed86c389d1a88f61c6380d0491e17]\n",
       "reverse link E12 to E13--><a href=\"psysml:072097f8-3b46-444f-b0fb-f8fd70c894a4\" target=\"_top\" title=\"psysml:072097f8-3b46-444f-b0fb-f8fd70c894a4\" xlink:actuate=\"onRequest\" xlink:href=\"psysml:072097f8-3b46-444f-b0fb-f8fd70c894a4\" xlink:show=\"new\" xlink:title=\"psysml:072097f8-3b46-444f-b0fb-f8fd70c894a4\" xlink:type=\"simple\"><path d=\"M58.26,115.31 C59.65,135.24 61.46,161.03 62.97,182.71 \" fill=\"none\" id=\"E12&lt;-E13\" style=\"stroke: #A80036; stroke-width: 1.0;\"/><polygon fill=\"#A80036\" points=\"57.35,102.29,53.7754,108.5527,58.1815,114.2612,61.7561,107.9984,57.35,102.29\" style=\"stroke: #A80036; stroke-width: 1.0;\"/></a><!--MD5=[a6c3dfd191431e5cc0ad3f40e3a2597c]\n",
       "@startuml\r\n",
       " \r\n",
       "package \"ConjugationTest\" as E1  [[psysml:34192d11-634f-45f2-bc4e-1f94e63724b0 ]]  {\r\n",
       "comp def \"P\" as E2  <<(D,brown)port def>> [[psysml:c663f064-4c04-4527-821b-19ee83969177 ]] {\r\n",
       "}\r\n",
       "comp def \"B\" as E3  << (B,green) >> [[psysml:e064966f-e96c-463a-b744-2c95fe6cd8a1 ]] {\r\n",
       "- - ports - -\r\n",
       "p1: P\r\n",
       "p2: ~P\r\n",
       "}\r\n",
       "comp def \"A\" as E6  << (B,green) >> [[psysml:005e78a8-b799-41cc-8c3e-bd1642b3bc90 ]] {\r\n",
       "- - ports - -\r\n",
       "p1: P\r\n",
       "p2: ~P\r\n",
       "}\r\n",
       "comp def \"I\" as E9  << (B,green) >> [[psysml:21ca298b-43fb-4a5a-8828-d457e715a9a7 ]] {\r\n",
       "- - ports - -\r\n",
       "p1: P\r\n",
       "p2: ~P\r\n",
       "}\r\n",
       "comp def \"B1\" as E12  << (B,green) >> [[psysml:805f8ddd-ca4a-414c-92f1-ea459766cc23 ]] {\r\n",
       "}\r\n",
       "comp usage \"p\" as E13  << (P,limegreen) part>> [[psysml:072097f8-3b46-444f-b0fb-f8fd70c894a4 ]] {\r\n",
       "- - ports - -\r\n",
       "p1: P\r\n",
       "p2: ~P\r\n",
       "}\r\n",
       "E12 *- - E13 [[psysml:072097f8-3b46-444f-b0fb-f8fd70c894a4 ]] \r\n",
       "}\r\n",
       "@enduml\r\n",
       "\n",
       "PlantUML version 1.2020.13(Sat Jun 13 12:26:38 UTC 2020)\n",
       "(EPL source distribution)\n",
       "Java Runtime: OpenJDK Runtime Environment\n",
       "JVM: OpenJDK 64-Bit Server VM\n",
       "Default Encoding: UTF-8\n",
       "Language: en\n",
       "Country: null\n",
       "--></g></svg>"
      ]
     },
     "execution_count": 30,
     "metadata": {},
     "output_type": "execute_result"
    }
   ],
   "source": [
    "%viz --style=\"PLANTUML\" --view=\"Default\" \"ConjugationTest\""
   ]
  },
  {
   "cell_type": "code",
   "execution_count": 31,
   "id": "marine-updating",
   "metadata": {
    "execution": {
     "iopub.execute_input": "2021-03-25T15:04:03.446089Z",
     "iopub.status.busy": "2021-03-25T15:04:03.445413Z",
     "iopub.status.idle": "2021-03-25T15:04:04.097655Z",
     "shell.execute_reply": "2021-03-25T15:04:04.096350Z"
    }
   },
   "outputs": [
    {
     "data": {
      "image/svg+xml": [
       "<?xml version=\"1.0\" encoding=\"UTF-8\" standalone=\"no\"?><svg xmlns=\"http://www.w3.org/2000/svg\" xmlns:xlink=\"http://www.w3.org/1999/xlink\" contentScriptType=\"application/ecmascript\" contentStyleType=\"text/css\" height=\"299px\" preserveAspectRatio=\"none\" style=\"width:500px;height:299px;\" version=\"1.1\" viewBox=\"0 0 500 299\" width=\"500px\" zoomAndPan=\"magnify\"><defs><filter height=\"300%\" id=\"f14rmycoq9k3lz\" width=\"300%\" x=\"-1\" y=\"-1\"><feGaussianBlur result=\"blurOut\" stdDeviation=\"2.0\"/><feColorMatrix in=\"blurOut\" result=\"blurOut2\" type=\"matrix\" values=\"0 0 0 0 0 0 0 0 0 0 0 0 0 0 0 0 0 0 .4 0\"/><feOffset dx=\"4.0\" dy=\"4.0\" in=\"blurOut2\" result=\"blurOut3\"/><feBlend in=\"SourceGraphic\" in2=\"blurOut3\" mode=\"normal\"/></filter></defs><g><!--MD5=[fbc87193dbaf4d95561dea2c320d4a47]\n",
       "cluster E1--><a href=\"psysml:34192d11-634f-45f2-bc4e-1f94e63724b0\" target=\"_top\" title=\"psysml:34192d11-634f-45f2-bc4e-1f94e63724b0\" xlink:actuate=\"onRequest\" xlink:href=\"psysml:34192d11-634f-45f2-bc4e-1f94e63724b0\" xlink:show=\"new\" xlink:title=\"psysml:34192d11-634f-45f2-bc4e-1f94e63724b0\" xlink:type=\"simple\"><polygon fill=\"#FFFFFF\" filter=\"url(#f14rmycoq9k3lz)\" points=\"16,6,151,6,158,28.2969,478,28.2969,478,287,16,287,16,6\" style=\"stroke: #000000; stroke-width: 1.5;\"/><line style=\"stroke: #000000; stroke-width: 1.5;\" x1=\"16\" x2=\"158\" y1=\"28.2969\" y2=\"28.2969\"/><text fill=\"#000000\" font-family=\"sans-serif\" font-size=\"14\" font-weight=\"bold\" lengthAdjust=\"spacingAndGlyphs\" textLength=\"129\" x=\"20\" y=\"20.9951\">ConjugationTest</text></a><!--MD5=[b4997ac47864f28c2f74865a473b2911]\n",
       "class E2--><a href=\"psysml:c663f064-4c04-4527-821b-19ee83969177\" target=\"_top\" title=\"psysml:c663f064-4c04-4527-821b-19ee83969177\" xlink:actuate=\"onRequest\" xlink:href=\"psysml:c663f064-4c04-4527-821b-19ee83969177\" xlink:show=\"new\" xlink:title=\"psysml:c663f064-4c04-4527-821b-19ee83969177\" xlink:type=\"simple\"><rect fill=\"#FEFECE\" filter=\"url(#f14rmycoq9k3lz)\" height=\"45.9375\" id=\"E2\" style=\"stroke: #A80036; stroke-width: 1.5;\" width=\"92\" x=\"370\" y=\"59\"/><ellipse cx=\"385\" cy=\"77.9688\" fill=\"#A52A2A\" rx=\"11\" ry=\"11\" style=\"stroke: #A80036; stroke-width: 1.0;\"/><path d=\"M384.5938,73.7813 L384.5938,81.7656 L385.25,81.7656 Q386.6875,81.7656 387.2969,80.8594 Q387.9219,79.9375 387.9219,77.7656 Q387.9219,75.5938 387.2969,74.6875 Q386.6875,73.7813 385.25,73.7813 L384.5938,73.7813 Z M382.1406,71.5781 L384.7656,71.5781 Q387.7969,71.5781 389.125,73.0313 Q390.4688,74.4688 390.4688,77.7656 Q390.4688,81.0625 389.125,82.5156 Q387.7969,83.9688 384.7656,83.9688 L382.1406,83.9688 L382.1406,71.5781 Z \"/><text fill=\"#000000\" font-family=\"sans-serif\" font-size=\"12\" font-style=\"italic\" lengthAdjust=\"spacingAndGlyphs\" textLength=\"64\" x=\"397\" y=\"75.1387\">«port def»</text><text fill=\"#000000\" font-family=\"sans-serif\" font-size=\"12\" lengthAdjust=\"spacingAndGlyphs\" textLength=\"8\" x=\"425\" y=\"89.1074\">P</text><line style=\"stroke: #A80036; stroke-width: 1.5;\" x1=\"371\" x2=\"461\" y1=\"96.9375\" y2=\"96.9375\"/></a><!--MD5=[09b614a08d8cba4a07c9adeb5e0fee81]\n",
       "class E3--><a href=\"psysml:e064966f-e96c-463a-b744-2c95fe6cd8a1\" target=\"_top\" title=\"psysml:e064966f-e96c-463a-b744-2c95fe6cd8a1\" xlink:actuate=\"onRequest\" xlink:href=\"psysml:e064966f-e96c-463a-b744-2c95fe6cd8a1\" xlink:show=\"new\" xlink:title=\"psysml:e064966f-e96c-463a-b744-2c95fe6cd8a1\" xlink:type=\"simple\"><rect fill=\"#FEFECE\" filter=\"url(#f14rmycoq9k3lz)\" height=\"82.4141\" id=\"E3\" style=\"stroke: #A80036; stroke-width: 1.5;\" width=\"50\" x=\"285\" y=\"41\"/><ellipse cx=\"304.5\" cy=\"57\" fill=\"#008000\" rx=\"11\" ry=\"11\" style=\"stroke: #A80036; stroke-width: 1.0;\"/><path d=\"M303.4063,57.375 L303.4063,61.0469 L305.0313,61.0469 Q306.2031,61.0469 306.6719,60.6563 Q307.1406,60.25 307.1406,59.25 Q307.1406,58.25 306.6406,57.8125 Q306.1563,57.375 305.0313,57.375 L303.4063,57.375 Z M303.4063,52.5469 L303.4063,55.4219 L305.0313,55.4219 Q305.9531,55.4219 306.3438,55.0938 Q306.75,54.75 306.75,54 Q306.75,53.2344 306.3438,52.8906 Q305.9375,52.5469 305.0313,52.5469 L303.4063,52.5469 Z M301.0313,50.5938 L305.0313,50.5938 Q307.0938,50.5938 308.1406,51.375 Q309.1875,52.1563 309.1875,53.7188 Q309.1875,54.9219 308.5625,55.5938 Q307.9531,56.2656 306.7656,56.375 Q308.1875,56.5156 308.9063,57.3281 Q309.625,58.1406 309.625,59.5938 Q309.625,61.3906 308.5469,62.2031 Q307.4688,63 305.0313,63 L301.0313,63 L301.0313,50.5938 Z \"/><text fill=\"#000000\" font-family=\"sans-serif\" font-size=\"12\" lengthAdjust=\"spacingAndGlyphs\" textLength=\"8\" x=\"319.5\" y=\"61.1543\">B</text><line style=\"stroke: #A80036; stroke-width: 1.5;\" x1=\"286\" x2=\"334\" y1=\"73\" y2=\"73\"/><text fill=\"#000000\" font-family=\"sans-serif\" font-size=\"11\" lengthAdjust=\"spacingAndGlyphs\" textLength=\"29\" x=\"291\" y=\"104.0151\">p1: P</text><text fill=\"#000000\" font-family=\"sans-serif\" font-size=\"11\" lengthAdjust=\"spacingAndGlyphs\" textLength=\"38\" x=\"291\" y=\"116.8198\">p2: ~P</text><line style=\"stroke: #A80036; stroke-width: 1.0;\" x1=\"286\" x2=\"295\" y1=\"87.4023\" y2=\"87.4023\"/><text fill=\"#000000\" font-family=\"sans-serif\" font-size=\"11\" lengthAdjust=\"spacingAndGlyphs\" textLength=\"30\" x=\"295\" y=\"90.7104\">ports</text><line style=\"stroke: #A80036; stroke-width: 1.0;\" x1=\"325\" x2=\"334\" y1=\"87.4023\" y2=\"87.4023\"/></a><!--MD5=[60a26617385b1d2d0262a64233df1f8d]\n",
       "class E6--><a href=\"psysml:005e78a8-b799-41cc-8c3e-bd1642b3bc90\" target=\"_top\" title=\"psysml:005e78a8-b799-41cc-8c3e-bd1642b3bc90\" xlink:actuate=\"onRequest\" xlink:href=\"psysml:005e78a8-b799-41cc-8c3e-bd1642b3bc90\" xlink:show=\"new\" xlink:title=\"psysml:005e78a8-b799-41cc-8c3e-bd1642b3bc90\" xlink:type=\"simple\"><rect fill=\"#FEFECE\" filter=\"url(#f14rmycoq9k3lz)\" height=\"82.4141\" id=\"E6\" style=\"stroke: #A80036; stroke-width: 1.5;\" width=\"50\" x=\"200\" y=\"41\"/><ellipse cx=\"219.5\" cy=\"57\" fill=\"#008000\" rx=\"11\" ry=\"11\" style=\"stroke: #A80036; stroke-width: 1.0;\"/><path d=\"M218.4063,57.375 L218.4063,61.0469 L220.0313,61.0469 Q221.2031,61.0469 221.6719,60.6563 Q222.1406,60.25 222.1406,59.25 Q222.1406,58.25 221.6406,57.8125 Q221.1563,57.375 220.0313,57.375 L218.4063,57.375 Z M218.4063,52.5469 L218.4063,55.4219 L220.0313,55.4219 Q220.9531,55.4219 221.3438,55.0938 Q221.75,54.75 221.75,54 Q221.75,53.2344 221.3438,52.8906 Q220.9375,52.5469 220.0313,52.5469 L218.4063,52.5469 Z M216.0313,50.5938 L220.0313,50.5938 Q222.0938,50.5938 223.1406,51.375 Q224.1875,52.1563 224.1875,53.7188 Q224.1875,54.9219 223.5625,55.5938 Q222.9531,56.2656 221.7656,56.375 Q223.1875,56.5156 223.9063,57.3281 Q224.625,58.1406 224.625,59.5938 Q224.625,61.3906 223.5469,62.2031 Q222.4688,63 220.0313,63 L216.0313,63 L216.0313,50.5938 Z \"/><text fill=\"#000000\" font-family=\"sans-serif\" font-size=\"12\" lengthAdjust=\"spacingAndGlyphs\" textLength=\"8\" x=\"234.5\" y=\"61.1543\">A</text><line style=\"stroke: #A80036; stroke-width: 1.5;\" x1=\"201\" x2=\"249\" y1=\"73\" y2=\"73\"/><text fill=\"#000000\" font-family=\"sans-serif\" font-size=\"11\" lengthAdjust=\"spacingAndGlyphs\" textLength=\"29\" x=\"206\" y=\"104.0151\">p1: P</text><text fill=\"#000000\" font-family=\"sans-serif\" font-size=\"11\" lengthAdjust=\"spacingAndGlyphs\" textLength=\"38\" x=\"206\" y=\"116.8198\">p2: ~P</text><line style=\"stroke: #A80036; stroke-width: 1.0;\" x1=\"201\" x2=\"210\" y1=\"87.4023\" y2=\"87.4023\"/><text fill=\"#000000\" font-family=\"sans-serif\" font-size=\"11\" lengthAdjust=\"spacingAndGlyphs\" textLength=\"30\" x=\"210\" y=\"90.7104\">ports</text><line style=\"stroke: #A80036; stroke-width: 1.0;\" x1=\"240\" x2=\"249\" y1=\"87.4023\" y2=\"87.4023\"/></a><!--MD5=[fd4143e9d270a159db93a4ea2a975926]\n",
       "class E9--><a href=\"psysml:21ca298b-43fb-4a5a-8828-d457e715a9a7\" target=\"_top\" title=\"psysml:21ca298b-43fb-4a5a-8828-d457e715a9a7\" xlink:actuate=\"onRequest\" xlink:href=\"psysml:21ca298b-43fb-4a5a-8828-d457e715a9a7\" xlink:show=\"new\" xlink:title=\"psysml:21ca298b-43fb-4a5a-8828-d457e715a9a7\" xlink:type=\"simple\"><rect fill=\"#FEFECE\" filter=\"url(#f14rmycoq9k3lz)\" height=\"82.4141\" id=\"E9\" style=\"stroke: #A80036; stroke-width: 1.5;\" width=\"50\" x=\"115\" y=\"41\"/><ellipse cx=\"136.75\" cy=\"57\" fill=\"#008000\" rx=\"11\" ry=\"11\" style=\"stroke: #A80036; stroke-width: 1.0;\"/><path d=\"M135.6563,57.375 L135.6563,61.0469 L137.2813,61.0469 Q138.4531,61.0469 138.9219,60.6563 Q139.3906,60.25 139.3906,59.25 Q139.3906,58.25 138.8906,57.8125 Q138.4063,57.375 137.2813,57.375 L135.6563,57.375 Z M135.6563,52.5469 L135.6563,55.4219 L137.2813,55.4219 Q138.2031,55.4219 138.5938,55.0938 Q139,54.75 139,54 Q139,53.2344 138.5938,52.8906 Q138.1875,52.5469 137.2813,52.5469 L135.6563,52.5469 Z M133.2813,50.5938 L137.2813,50.5938 Q139.3438,50.5938 140.3906,51.375 Q141.4375,52.1563 141.4375,53.7188 Q141.4375,54.9219 140.8125,55.5938 Q140.2031,56.2656 139.0156,56.375 Q140.4375,56.5156 141.1563,57.3281 Q141.875,58.1406 141.875,59.5938 Q141.875,61.3906 140.7969,62.2031 Q139.7188,63 137.2813,63 L133.2813,63 L133.2813,50.5938 Z \"/><text fill=\"#000000\" font-family=\"sans-serif\" font-size=\"12\" lengthAdjust=\"spacingAndGlyphs\" textLength=\"3\" x=\"152.25\" y=\"61.1543\">I</text><line style=\"stroke: #A80036; stroke-width: 1.5;\" x1=\"116\" x2=\"164\" y1=\"73\" y2=\"73\"/><text fill=\"#000000\" font-family=\"sans-serif\" font-size=\"11\" lengthAdjust=\"spacingAndGlyphs\" textLength=\"29\" x=\"121\" y=\"104.0151\">p1: P</text><text fill=\"#000000\" font-family=\"sans-serif\" font-size=\"11\" lengthAdjust=\"spacingAndGlyphs\" textLength=\"38\" x=\"121\" y=\"116.8198\">p2: ~P</text><line style=\"stroke: #A80036; stroke-width: 1.0;\" x1=\"116\" x2=\"125\" y1=\"87.4023\" y2=\"87.4023\"/><text fill=\"#000000\" font-family=\"sans-serif\" font-size=\"11\" lengthAdjust=\"spacingAndGlyphs\" textLength=\"30\" x=\"125\" y=\"90.7104\">ports</text><line style=\"stroke: #A80036; stroke-width: 1.0;\" x1=\"155\" x2=\"164\" y1=\"87.4023\" y2=\"87.4023\"/></a><!--MD5=[49a0ec8f00dab7302a31f22d0f0fe584]\n",
       "class E12--><a href=\"psysml:805f8ddd-ca4a-414c-92f1-ea459766cc23\" target=\"_top\" title=\"psysml:805f8ddd-ca4a-414c-92f1-ea459766cc23\" xlink:actuate=\"onRequest\" xlink:href=\"psysml:805f8ddd-ca4a-414c-92f1-ea459766cc23\" xlink:show=\"new\" xlink:title=\"psysml:805f8ddd-ca4a-414c-92f1-ea459766cc23\" xlink:type=\"simple\"><rect fill=\"#FEFECE\" filter=\"url(#f14rmycoq9k3lz)\" height=\"40\" id=\"E12\" style=\"stroke: #A80036; stroke-width: 1.5;\" width=\"48\" x=\"32\" y=\"62\"/><ellipse cx=\"47\" cy=\"78\" fill=\"#008000\" rx=\"11\" ry=\"11\" style=\"stroke: #A80036; stroke-width: 1.0;\"/><path d=\"M45.9063,78.375 L45.9063,82.0469 L47.5313,82.0469 Q48.7031,82.0469 49.1719,81.6563 Q49.6406,81.25 49.6406,80.25 Q49.6406,79.25 49.1406,78.8125 Q48.6563,78.375 47.5313,78.375 L45.9063,78.375 Z M45.9063,73.5469 L45.9063,76.4219 L47.5313,76.4219 Q48.4531,76.4219 48.8438,76.0938 Q49.25,75.75 49.25,75 Q49.25,74.2344 48.8438,73.8906 Q48.4375,73.5469 47.5313,73.5469 L45.9063,73.5469 Z M43.5313,71.5938 L47.5313,71.5938 Q49.5938,71.5938 50.6406,72.375 Q51.6875,73.1563 51.6875,74.7188 Q51.6875,75.9219 51.0625,76.5938 Q50.4531,77.2656 49.2656,77.375 Q50.6875,77.5156 51.4063,78.3281 Q52.125,79.1406 52.125,80.5938 Q52.125,82.3906 51.0469,83.2031 Q49.9688,84 47.5313,84 L43.5313,84 L43.5313,71.5938 Z \"/><text fill=\"#000000\" font-family=\"sans-serif\" font-size=\"12\" lengthAdjust=\"spacingAndGlyphs\" textLength=\"16\" x=\"61\" y=\"82.1543\">B1</text><line style=\"stroke: #A80036; stroke-width: 1.5;\" x1=\"33\" x2=\"79\" y1=\"94\" y2=\"94\"/></a><!--MD5=[ee3c913d1a06f366521f9ef512b67efe]\n",
       "class E13--><a href=\"psysml:072097f8-3b46-444f-b0fb-f8fd70c894a4\" target=\"_top\" title=\"psysml:072097f8-3b46-444f-b0fb-f8fd70c894a4\" xlink:actuate=\"onRequest\" xlink:href=\"psysml:072097f8-3b46-444f-b0fb-f8fd70c894a4\" xlink:show=\"new\" xlink:title=\"psysml:072097f8-3b46-444f-b0fb-f8fd70c894a4\" xlink:type=\"simple\"><rect fill=\"#FEFECE\" filter=\"url(#f14rmycoq9k3lz)\" height=\"88.3516\" id=\"E13\" rx=\"10\" ry=\"10\" style=\"stroke: #A80036; stroke-width: 1.5;\" width=\"68\" x=\"32\" y=\"183\"/><ellipse cx=\"47\" cy=\"201.9688\" fill=\"#32CD32\" rx=\"11\" ry=\"11\" style=\"stroke: #A80036; stroke-width: 1.0;\"/><path d=\"M46.7969,197.6406 L46.7969,201.2656 L47.7969,201.2656 Q49,201.2656 49.4844,200.8594 Q49.9688,200.4531 49.9688,199.4531 Q49.9688,198.4531 49.4844,198.0469 Q49,197.6406 47.7969,197.6406 L46.7969,197.6406 Z M44.3438,195.5781 L47.7031,195.5781 Q50.2656,195.5781 51.3906,196.5 Q52.5156,197.4063 52.5156,199.4531 Q52.5156,201.5 51.3906,202.4219 Q50.2656,203.3281 47.7031,203.3281 L46.7969,203.3281 L46.7969,207.9688 L44.3438,207.9688 L44.3438,195.5781 Z \"/><text fill=\"#000000\" font-family=\"sans-serif\" font-size=\"12\" font-style=\"italic\" lengthAdjust=\"spacingAndGlyphs\" textLength=\"40\" x=\"59\" y=\"199.1387\">«part»</text><text fill=\"#000000\" font-family=\"sans-serif\" font-size=\"12\" lengthAdjust=\"spacingAndGlyphs\" textLength=\"8\" x=\"75\" y=\"213.1074\">p</text><line style=\"stroke: #A80036; stroke-width: 1.5;\" x1=\"33\" x2=\"99\" y1=\"220.9375\" y2=\"220.9375\"/><text fill=\"#000000\" font-family=\"sans-serif\" font-size=\"11\" lengthAdjust=\"spacingAndGlyphs\" textLength=\"29\" x=\"38\" y=\"251.9526\">p1: P</text><text fill=\"#000000\" font-family=\"sans-serif\" font-size=\"11\" lengthAdjust=\"spacingAndGlyphs\" textLength=\"38\" x=\"38\" y=\"264.7573\">p2: ~P</text><line style=\"stroke: #A80036; stroke-width: 1.0;\" x1=\"33\" x2=\"51\" y1=\"235.3398\" y2=\"235.3398\"/><text fill=\"#000000\" font-family=\"sans-serif\" font-size=\"11\" lengthAdjust=\"spacingAndGlyphs\" textLength=\"30\" x=\"51\" y=\"238.6479\">ports</text><line style=\"stroke: #A80036; stroke-width: 1.0;\" x1=\"81\" x2=\"99\" y1=\"235.3398\" y2=\"235.3398\"/></a><!--MD5=[062ed86c389d1a88f61c6380d0491e17]\n",
       "reverse link E12 to E13--><a href=\"psysml:072097f8-3b46-444f-b0fb-f8fd70c894a4\" target=\"_top\" title=\"psysml:072097f8-3b46-444f-b0fb-f8fd70c894a4\" xlink:actuate=\"onRequest\" xlink:href=\"psysml:072097f8-3b46-444f-b0fb-f8fd70c894a4\" xlink:show=\"new\" xlink:title=\"psysml:072097f8-3b46-444f-b0fb-f8fd70c894a4\" xlink:type=\"simple\"><path d=\"M58.26,115.31 C59.65,135.24 61.46,161.03 62.97,182.71 \" fill=\"none\" id=\"E12&lt;-E13\" style=\"stroke: #A80036; stroke-width: 1.0;\"/><polygon fill=\"#A80036\" points=\"57.35,102.29,53.7754,108.5527,58.1815,114.2612,61.7561,107.9984,57.35,102.29\" style=\"stroke: #A80036; stroke-width: 1.0;\"/></a><!--MD5=[a6c3dfd191431e5cc0ad3f40e3a2597c]\n",
       "@startuml\r\n",
       " \r\n",
       "package \"ConjugationTest\" as E1  [[psysml:34192d11-634f-45f2-bc4e-1f94e63724b0 ]]  {\r\n",
       "comp def \"P\" as E2  <<(D,brown)port def>> [[psysml:c663f064-4c04-4527-821b-19ee83969177 ]] {\r\n",
       "}\r\n",
       "comp def \"B\" as E3  << (B,green) >> [[psysml:e064966f-e96c-463a-b744-2c95fe6cd8a1 ]] {\r\n",
       "- - ports - -\r\n",
       "p1: P\r\n",
       "p2: ~P\r\n",
       "}\r\n",
       "comp def \"A\" as E6  << (B,green) >> [[psysml:005e78a8-b799-41cc-8c3e-bd1642b3bc90 ]] {\r\n",
       "- - ports - -\r\n",
       "p1: P\r\n",
       "p2: ~P\r\n",
       "}\r\n",
       "comp def \"I\" as E9  << (B,green) >> [[psysml:21ca298b-43fb-4a5a-8828-d457e715a9a7 ]] {\r\n",
       "- - ports - -\r\n",
       "p1: P\r\n",
       "p2: ~P\r\n",
       "}\r\n",
       "comp def \"B1\" as E12  << (B,green) >> [[psysml:805f8ddd-ca4a-414c-92f1-ea459766cc23 ]] {\r\n",
       "}\r\n",
       "comp usage \"p\" as E13  << (P,limegreen) part>> [[psysml:072097f8-3b46-444f-b0fb-f8fd70c894a4 ]] {\r\n",
       "- - ports - -\r\n",
       "p1: P\r\n",
       "p2: ~P\r\n",
       "}\r\n",
       "E12 *- - E13 [[psysml:072097f8-3b46-444f-b0fb-f8fd70c894a4 ]] \r\n",
       "}\r\n",
       "@enduml\r\n",
       "\n",
       "PlantUML version 1.2020.13(Sat Jun 13 12:26:38 UTC 2020)\n",
       "(EPL source distribution)\n",
       "Java Runtime: OpenJDK Runtime Environment\n",
       "JVM: OpenJDK 64-Bit Server VM\n",
       "Default Encoding: UTF-8\n",
       "Language: en\n",
       "Country: null\n",
       "--></g></svg>"
      ]
     },
     "execution_count": 31,
     "metadata": {},
     "output_type": "execute_result"
    }
   ],
   "source": [
    "%viz --style=\"PLANTUML\" --view=\"Tree\" \"ConjugationTest\""
   ]
  },
  {
   "cell_type": "code",
   "execution_count": 32,
   "id": "incomplete-garlic",
   "metadata": {
    "execution": {
     "iopub.execute_input": "2021-03-25T15:04:04.148876Z",
     "iopub.status.busy": "2021-03-25T15:04:04.148364Z",
     "iopub.status.idle": "2021-03-25T15:04:04.995415Z",
     "shell.execute_reply": "2021-03-25T15:04:04.993762Z"
    }
   },
   "outputs": [
    {
     "data": {
      "image/svg+xml": [
       "<?xml version=\"1.0\" encoding=\"UTF-8\" standalone=\"no\"?><svg xmlns=\"http://www.w3.org/2000/svg\" xmlns:xlink=\"http://www.w3.org/1999/xlink\" contentScriptType=\"application/ecmascript\" contentStyleType=\"text/css\" height=\"303px\" preserveAspectRatio=\"none\" style=\"width:603px;height:303px;background:#000000;\" version=\"1.1\" viewBox=\"0 0 603 303\" width=\"603px\" zoomAndPan=\"magnify\"><defs/><g><rect fill=\"#201110\" height=\"1\" style=\"stroke: #201110; stroke-width: 1.0;\" width=\"1\" x=\"0\" y=\"0\"/><rect fill=\"#FFFFFF\" height=\"205.5625\" style=\"stroke: #FFFFFF; stroke-width: 1.0;\" width=\"602\" x=\"0\" y=\"0\"/><text fill=\"#000000\" font-family=\"sans-serif\" font-size=\"12\" font-weight=\"bold\" lengthAdjust=\"spacingAndGlyphs\" textLength=\"159\" x=\"5\" y=\"16.1387\">Welcome to PlantUML!</text><text fill=\"#000000\" font-family=\"sans-serif\" font-size=\"12\" lengthAdjust=\"spacingAndGlyphs\" textLength=\"0\" x=\"9\" y=\"30.1074\"/><text fill=\"#000000\" font-family=\"sans-serif\" font-size=\"12\" lengthAdjust=\"spacingAndGlyphs\" textLength=\"293\" x=\"5\" y=\"44.0762\">If you use this software, you accept its license.</text><text fill=\"#000000\" font-family=\"sans-serif\" font-size=\"12\" lengthAdjust=\"spacingAndGlyphs\" textLength=\"107\" x=\"5\" y=\"58.0449\">(details by typing</text><text fill=\"#000000\" font-family=\"monospace\" font-size=\"12\" lengthAdjust=\"spacingAndGlyphs\" textLength=\"49\" x=\"116\" y=\"58.0449\">license</text><text fill=\"#000000\" font-family=\"sans-serif\" font-size=\"12\" lengthAdjust=\"spacingAndGlyphs\" textLength=\"56\" x=\"169\" y=\"58.0449\">keyword)</text><text fill=\"#000000\" font-family=\"sans-serif\" font-size=\"12\" lengthAdjust=\"spacingAndGlyphs\" textLength=\"0\" x=\"9\" y=\"72.0137\"/><text fill=\"#000000\" font-family=\"sans-serif\" font-size=\"12\" lengthAdjust=\"spacingAndGlyphs\" textLength=\"283\" x=\"5\" y=\"85.9824\">You can start with a simple UML Diagram like:</text><text fill=\"#000000\" font-family=\"sans-serif\" font-size=\"12\" lengthAdjust=\"spacingAndGlyphs\" textLength=\"0\" x=\"9\" y=\"99.9512\"/><text fill=\"#000000\" font-family=\"monospace\" font-size=\"12\" lengthAdjust=\"spacingAndGlyphs\" textLength=\"119\" x=\"5\" y=\"113.9199\">Bob-&gt;Alice: Hello</text><text fill=\"#000000\" font-family=\"sans-serif\" font-size=\"12\" lengthAdjust=\"spacingAndGlyphs\" textLength=\"0\" x=\"9\" y=\"127.8887\"/><text fill=\"#000000\" font-family=\"sans-serif\" font-size=\"12\" lengthAdjust=\"spacingAndGlyphs\" textLength=\"14\" x=\"5\" y=\"141.8574\">Or</text><text fill=\"#000000\" font-family=\"sans-serif\" font-size=\"12\" lengthAdjust=\"spacingAndGlyphs\" textLength=\"0\" x=\"9\" y=\"155.8262\"/><text fill=\"#000000\" font-family=\"monospace\" font-size=\"12\" lengthAdjust=\"spacingAndGlyphs\" textLength=\"91\" x=\"5\" y=\"169.7949\">class Example</text><text fill=\"#000000\" font-family=\"sans-serif\" font-size=\"12\" lengthAdjust=\"spacingAndGlyphs\" textLength=\"0\" x=\"9\" y=\"183.7637\"/><text fill=\"#000000\" font-family=\"sans-serif\" font-size=\"12\" lengthAdjust=\"spacingAndGlyphs\" textLength=\"349\" x=\"5\" y=\"197.7324\">You will find more information about PlantUML syntax on</text><text fill=\"#000000\" font-family=\"sans-serif\" font-size=\"12\" lengthAdjust=\"spacingAndGlyphs\" text-decoration=\"underline\" textLength=\"129\" x=\"358\" y=\"197.7324\">https://plantuml.com</text><image height=\"71\" width=\"80\" x=\"516\" xlink:href=\"data:image/png;base64,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\" y=\"6\"/><rect fill=\"#000000\" height=\"96.4844\" style=\"stroke: #000000; stroke-width: 1.0;\" width=\"602\" x=\"0\" y=\"205.5625\"/><rect fill=\"#33FF02\" height=\"21.2969\" style=\"stroke: #33FF02; stroke-width: 1.0;\" width=\"170\" x=\"5\" y=\"210.5625\"/><text fill=\"#000000\" font-family=\"sans-serif\" font-size=\"14\" font-weight=\"bold\" lengthAdjust=\"spacingAndGlyphs\" textLength=\"168\" x=\"6\" y=\"225.5625\">[From string (line 2) ]</text><text fill=\"#33FF02\" font-family=\"sans-serif\" font-size=\"14\" font-weight=\"bold\" lengthAdjust=\"spacingAndGlyphs\" textLength=\"0\" x=\"10\" y=\"245.8594\"/><text fill=\"#33FF02\" font-family=\"sans-serif\" font-size=\"14\" font-weight=\"bold\" lengthAdjust=\"spacingAndGlyphs\" textLength=\"79\" x=\"5\" y=\"262.1563\">@startuml</text><text fill=\"#33FF02\" font-family=\"sans-serif\" font-size=\"14\" font-weight=\"bold\" lengthAdjust=\"spacingAndGlyphs\" textLength=\"0\" x=\"10\" y=\"278.4531\"/><text fill=\"#FF0000\" font-family=\"sans-serif\" font-size=\"14\" font-weight=\"bold\" lengthAdjust=\"spacingAndGlyphs\" textLength=\"142\" x=\"10\" y=\"294.75\">Empty description</text><!--MD5=[f59edd8218d337f74d0c332fc6737304]\n",
       "@startuml\r\n",
       " \r\n",
       "@enduml\r\n",
       "\n",
       "PlantUML version 1.2020.13(Sat Jun 13 12:26:38 UTC 2020)\n",
       "(EPL source distribution)\n",
       "Java Runtime: OpenJDK Runtime Environment\n",
       "JVM: OpenJDK 64-Bit Server VM\n",
       "Default Encoding: UTF-8\n",
       "Language: en\n",
       "Country: null\n",
       "--></g></svg>"
      ]
     },
     "execution_count": 32,
     "metadata": {},
     "output_type": "execute_result"
    }
   ],
   "source": [
    "%viz --style=\"PLANTUML\" --view=\"State\" \"ConjugationTest\""
   ]
  },
  {
   "cell_type": "code",
   "execution_count": 33,
   "id": "legitimate-meaning",
   "metadata": {
    "execution": {
     "iopub.execute_input": "2021-03-25T15:04:05.045746Z",
     "iopub.status.busy": "2021-03-25T15:04:05.045194Z",
     "iopub.status.idle": "2021-03-25T15:04:05.137749Z",
     "shell.execute_reply": "2021-03-25T15:04:05.136496Z"
    }
   },
   "outputs": [
    {
     "data": {
      "image/svg+xml": [
       "<?xml version=\"1.0\" encoding=\"UTF-8\" standalone=\"no\"?><svg xmlns=\"http://www.w3.org/2000/svg\" xmlns:xlink=\"http://www.w3.org/1999/xlink\" contentScriptType=\"application/ecmascript\" contentStyleType=\"text/css\" height=\"228px\" preserveAspectRatio=\"none\" style=\"width:626px;height:228px;\" version=\"1.1\" viewBox=\"0 0 626 228\" width=\"626px\" zoomAndPan=\"magnify\"><defs><filter height=\"300%\" id=\"foq3yko34rsib\" width=\"300%\" x=\"-1\" y=\"-1\"><feGaussianBlur result=\"blurOut\" stdDeviation=\"2.0\"/><feColorMatrix in=\"blurOut\" result=\"blurOut2\" type=\"matrix\" values=\"0 0 0 0 0 0 0 0 0 0 0 0 0 0 0 0 0 0 .4 0\"/><feOffset dx=\"4.0\" dy=\"4.0\" in=\"blurOut2\" result=\"blurOut3\"/><feBlend in=\"SourceGraphic\" in2=\"blurOut3\" mode=\"normal\"/></filter></defs><g><!--MD5=[fbc87193dbaf4d95561dea2c320d4a47]\n",
       "cluster E1--><a href=\"psysml:34192d11-634f-45f2-bc4e-1f94e63724b0\" target=\"_top\" title=\"psysml:34192d11-634f-45f2-bc4e-1f94e63724b0\" xlink:actuate=\"onRequest\" xlink:href=\"psysml:34192d11-634f-45f2-bc4e-1f94e63724b0\" xlink:show=\"new\" xlink:title=\"psysml:34192d11-634f-45f2-bc4e-1f94e63724b0\" xlink:type=\"simple\"><polygon fill=\"#FFFFFF\" filter=\"url(#foq3yko34rsib)\" points=\"16,6,151,6,158,28.2969,604,28.2969,604,216,16,216,16,6\" style=\"stroke: #000000; stroke-width: 1.5;\"/><line style=\"stroke: #000000; stroke-width: 1.5;\" x1=\"16\" x2=\"158\" y1=\"28.2969\" y2=\"28.2969\"/><text fill=\"#000000\" font-family=\"sans-serif\" font-size=\"14\" font-weight=\"bold\" lengthAdjust=\"spacingAndGlyphs\" textLength=\"129\" x=\"20\" y=\"20.9951\">ConjugationTest</text></a><!--MD5=[d5e69f78d87373223dbae638b30a9c99]\n",
       "cluster E3--><a href=\"psysml:e064966f-e96c-463a-b744-2c95fe6cd8a1\" target=\"_top\" title=\"psysml:e064966f-e96c-463a-b744-2c95fe6cd8a1\" xlink:actuate=\"onRequest\" xlink:href=\"psysml:e064966f-e96c-463a-b744-2c95fe6cd8a1\" xlink:show=\"new\" xlink:title=\"psysml:e064966f-e96c-463a-b744-2c95fe6cd8a1\" xlink:type=\"simple\"><rect fill=\"#FFFFFF\" filter=\"url(#foq3yko34rsib)\" height=\"78\" id=\"E3\" style=\"stroke: #A80036; stroke-width: 1.5;\" width=\"83\" x=\"509\" y=\"98\"/><rect fill=\"#FEFECE\" height=\"23.9688\" style=\"stroke: #A80036; stroke-width: 1.5;\" width=\"83\" x=\"509\" y=\"98\"/><text fill=\"#000000\" font-family=\"sans-serif\" font-size=\"12\" lengthAdjust=\"spacingAndGlyphs\" textLength=\"8\" x=\"546.5\" y=\"114.1387\">B</text></a><!--MD5=[14e3b0961a2654348d326746436168a1]\n",
       "cluster E6--><a href=\"psysml:005e78a8-b799-41cc-8c3e-bd1642b3bc90\" target=\"_top\" title=\"psysml:005e78a8-b799-41cc-8c3e-bd1642b3bc90\" xlink:actuate=\"onRequest\" xlink:href=\"psysml:005e78a8-b799-41cc-8c3e-bd1642b3bc90\" xlink:show=\"new\" xlink:title=\"psysml:005e78a8-b799-41cc-8c3e-bd1642b3bc90\" xlink:type=\"simple\"><rect fill=\"#FFFFFF\" filter=\"url(#foq3yko34rsib)\" height=\"78\" id=\"E6\" style=\"stroke: #A80036; stroke-width: 1.5;\" width=\"83\" x=\"415\" y=\"98\"/><rect fill=\"#FEFECE\" height=\"23.9688\" style=\"stroke: #A80036; stroke-width: 1.5;\" width=\"83\" x=\"415\" y=\"98\"/><text fill=\"#000000\" font-family=\"sans-serif\" font-size=\"12\" lengthAdjust=\"spacingAndGlyphs\" textLength=\"8\" x=\"452.5\" y=\"114.1387\">A</text></a><!--MD5=[7f149f147074ac12df2cb0a7728a5fb0]\n",
       "cluster E9--><a href=\"psysml:21ca298b-43fb-4a5a-8828-d457e715a9a7\" target=\"_top\" title=\"psysml:21ca298b-43fb-4a5a-8828-d457e715a9a7\" xlink:actuate=\"onRequest\" xlink:href=\"psysml:21ca298b-43fb-4a5a-8828-d457e715a9a7\" xlink:show=\"new\" xlink:title=\"psysml:21ca298b-43fb-4a5a-8828-d457e715a9a7\" xlink:type=\"simple\"><rect fill=\"#FFFFFF\" filter=\"url(#foq3yko34rsib)\" height=\"78\" id=\"E9\" style=\"stroke: #A80036; stroke-width: 1.5;\" width=\"83\" x=\"321\" y=\"98\"/><rect fill=\"#FEFECE\" height=\"23.9688\" style=\"stroke: #A80036; stroke-width: 1.5;\" width=\"83\" x=\"321\" y=\"98\"/><text fill=\"#000000\" font-family=\"sans-serif\" font-size=\"12\" lengthAdjust=\"spacingAndGlyphs\" textLength=\"3\" x=\"361\" y=\"114.1387\">I</text></a><!--MD5=[47bea60c1a0ac6c1143df232041969c0]\n",
       "cluster E12--><a href=\"psysml:805f8ddd-ca4a-414c-92f1-ea459766cc23\" target=\"_top\" title=\"psysml:805f8ddd-ca4a-414c-92f1-ea459766cc23\" xlink:actuate=\"onRequest\" xlink:href=\"psysml:805f8ddd-ca4a-414c-92f1-ea459766cc23\" xlink:show=\"new\" xlink:title=\"psysml:805f8ddd-ca4a-414c-92f1-ea459766cc23\" xlink:type=\"simple\"><rect fill=\"#FFFFFF\" filter=\"url(#foq3yko34rsib)\" height=\"143\" id=\"E12\" style=\"stroke: #A80036; stroke-width: 1.5;\" width=\"107\" x=\"202\" y=\"49\"/><rect fill=\"#FEFECE\" height=\"23.9688\" style=\"stroke: #A80036; stroke-width: 1.5;\" width=\"107\" x=\"202\" y=\"49\"/><text fill=\"#000000\" font-family=\"sans-serif\" font-size=\"12\" lengthAdjust=\"spacingAndGlyphs\" textLength=\"16\" x=\"247.5\" y=\"65.1387\">B1</text></a><!--MD5=[03104f77b71e2d8d3500c651e6e31181]\n",
       "cluster E13--><a href=\"psysml:072097f8-3b46-444f-b0fb-f8fd70c894a4\" target=\"_top\" title=\"psysml:072097f8-3b46-444f-b0fb-f8fd70c894a4\" xlink:actuate=\"onRequest\" xlink:href=\"psysml:072097f8-3b46-444f-b0fb-f8fd70c894a4\" xlink:show=\"new\" xlink:title=\"psysml:072097f8-3b46-444f-b0fb-f8fd70c894a4\" xlink:type=\"simple\"><rect fill=\"#FFFFFF\" filter=\"url(#foq3yko34rsib)\" height=\"78\" id=\"E13\" rx=\"10\" ry=\"10\" style=\"stroke: #A80036; stroke-width: 1.5;\" width=\"83\" x=\"214\" y=\"98\"/><rect fill=\"#FEFECE\" height=\"23.9688\" rx=\"10\" ry=\"10\" style=\"stroke: #FEFECE; stroke-width: 1.5;\" width=\"83\" x=\"214\" y=\"98\"/><rect fill=\"#FEFECE\" height=\"10\" style=\"stroke: #FEFECE; stroke-width: 1.5;\" width=\"83\" x=\"214\" y=\"111.9688\"/><rect fill=\"none\" height=\"78\" id=\"E13\" rx=\"10\" ry=\"10\" style=\"stroke: #A80036; stroke-width: 1.5;\" width=\"83\" x=\"214\" y=\"98\"/><text fill=\"#000000\" font-family=\"sans-serif\" font-size=\"12\" lengthAdjust=\"spacingAndGlyphs\" textLength=\"8\" x=\"251.5\" y=\"114.1387\">p</text><line style=\"stroke: #A80036; stroke-width: 1.0;\" x1=\"214\" x2=\"297\" y1=\"121.9688\" y2=\"121.9688\"/></a><!--MD5=[b4997ac47864f28c2f74865a473b2911]\n",
       "class E2--><a href=\"psysml:c663f064-4c04-4527-821b-19ee83969177\" target=\"_top\" title=\"psysml:c663f064-4c04-4527-821b-19ee83969177\" xlink:actuate=\"onRequest\" xlink:href=\"psysml:c663f064-4c04-4527-821b-19ee83969177\" xlink:show=\"new\" xlink:title=\"psysml:c663f064-4c04-4527-821b-19ee83969177\" xlink:type=\"simple\"><rect fill=\"#FEFECE\" filter=\"url(#foq3yko34rsib)\" height=\"53.9375\" id=\"E2\" style=\"stroke: #A80036; stroke-width: 1.5;\" width=\"153\" x=\"32.5\" y=\"71\"/><ellipse cx=\"47.5\" cy=\"89.9688\" fill=\"#ADD1B2\" rx=\"11\" ry=\"11\" style=\"stroke: #A80036; stroke-width: 1.0;\"/><path d=\"M50.4688,95.6094 Q49.8906,95.9063 49.25,96.0469 Q48.6094,96.2031 47.9063,96.2031 Q45.4063,96.2031 44.0781,94.5625 Q42.7656,92.9063 42.7656,89.7813 Q42.7656,86.6563 44.0781,85 Q45.4063,83.3438 47.9063,83.3438 Q48.6094,83.3438 49.25,83.5 Q49.9063,83.6563 50.4688,83.9531 L50.4688,86.6719 Q49.8438,86.0938 49.25,85.8281 Q48.6563,85.5469 48.0313,85.5469 Q46.6875,85.5469 46,86.625 Q45.3125,87.6875 45.3125,89.7813 Q45.3125,91.875 46,92.9531 Q46.6875,94.0156 48.0313,94.0156 Q48.6563,94.0156 49.25,93.75 Q49.8438,93.4688 50.4688,92.8906 L50.4688,95.6094 Z \"/><text fill=\"#000000\" font-family=\"sans-serif\" font-size=\"12\" font-style=\"italic\" lengthAdjust=\"spacingAndGlyphs\" textLength=\"125\" x=\"59.5\" y=\"87.1387\">«(D,brown)port def»</text><text fill=\"#000000\" font-family=\"sans-serif\" font-size=\"12\" lengthAdjust=\"spacingAndGlyphs\" textLength=\"8\" x=\"118\" y=\"101.1074\">P</text><line style=\"stroke: #A80036; stroke-width: 1.5;\" x1=\"33.5\" x2=\"184.5\" y1=\"108.9375\" y2=\"108.9375\"/><line style=\"stroke: #A80036; stroke-width: 1.5;\" x1=\"33.5\" x2=\"184.5\" y1=\"116.9375\" y2=\"116.9375\"/></a><text fill=\"#000000\" font-family=\"sans-serif\" font-size=\"14\" lengthAdjust=\"spacingAndGlyphs\" textLength=\"36\" x=\"509\" y=\"76.6982\">p1: P</text><rect fill=\"#A80036\" height=\"12\" style=\"stroke: #FEFECE; stroke-width: 1.5;\" width=\"12\" x=\"521\" y=\"92\"/><text fill=\"#000000\" font-family=\"sans-serif\" font-size=\"14\" lengthAdjust=\"spacingAndGlyphs\" textLength=\"48\" x=\"550\" y=\"76.6982\">p2: ~P</text><rect fill=\"#A80036\" height=\"12\" style=\"stroke: #FEFECE; stroke-width: 1.5;\" width=\"12\" x=\"568\" y=\"92\"/><text fill=\"#000000\" font-family=\"sans-serif\" font-size=\"14\" lengthAdjust=\"spacingAndGlyphs\" textLength=\"36\" x=\"415\" y=\"76.6982\">p1: P</text><rect fill=\"#A80036\" height=\"12\" style=\"stroke: #FEFECE; stroke-width: 1.5;\" width=\"12\" x=\"427\" y=\"92\"/><text fill=\"#000000\" font-family=\"sans-serif\" font-size=\"14\" lengthAdjust=\"spacingAndGlyphs\" textLength=\"48\" x=\"456\" y=\"76.6982\">p2: ~P</text><rect fill=\"#A80036\" height=\"12\" style=\"stroke: #FEFECE; stroke-width: 1.5;\" width=\"12\" x=\"474\" y=\"92\"/><text fill=\"#000000\" font-family=\"sans-serif\" font-size=\"14\" lengthAdjust=\"spacingAndGlyphs\" textLength=\"36\" x=\"321\" y=\"76.6982\">p1: P</text><rect fill=\"#A80036\" height=\"12\" style=\"stroke: #FEFECE; stroke-width: 1.5;\" width=\"12\" x=\"333\" y=\"92\"/><text fill=\"#000000\" font-family=\"sans-serif\" font-size=\"14\" lengthAdjust=\"spacingAndGlyphs\" textLength=\"48\" x=\"362\" y=\"76.6982\">p2: ~P</text><rect fill=\"#A80036\" height=\"12\" style=\"stroke: #FEFECE; stroke-width: 1.5;\" width=\"12\" x=\"380\" y=\"92\"/><text fill=\"#000000\" font-family=\"sans-serif\" font-size=\"14\" lengthAdjust=\"spacingAndGlyphs\" textLength=\"36\" x=\"214\" y=\"76.6982\">p1: P</text><rect fill=\"#A80036\" height=\"12\" style=\"stroke: #FEFECE; stroke-width: 1.5;\" width=\"12\" x=\"226\" y=\"92\"/><text fill=\"#000000\" font-family=\"sans-serif\" font-size=\"14\" lengthAdjust=\"spacingAndGlyphs\" textLength=\"48\" x=\"255\" y=\"76.6982\">p2: ~P</text><rect fill=\"#A80036\" height=\"12\" style=\"stroke: #FEFECE; stroke-width: 1.5;\" width=\"12\" x=\"273\" y=\"92\"/><!--MD5=[4ce51ac6fa4cf5202df3859e2718f033]\n",
       "link E15 to E14--><a href=\"psysml:d49afd8d-54fc-473a-b637-3cd599cd4fa7\" target=\"_top\" title=\"psysml:d49afd8d-54fc-473a-b637-3cd599cd4fa7\" xlink:actuate=\"onRequest\" xlink:href=\"psysml:d49afd8d-54fc-473a-b637-3cd599cd4fa7\" xlink:show=\"new\" xlink:title=\"psysml:d49afd8d-54fc-473a-b637-3cd599cd4fa7\" xlink:type=\"simple\"><path d=\"M272.95,98 C261.38,98 249.81,98 238.24,98 \" fill=\"none\" id=\"E15-E14\" style=\"stroke: #A80036; stroke-width: 3.0;\"/></a><!--MD5=[4ce51ac6fa4cf5202df3859e2718f033]\n",
       "link E15 to E14--><a href=\"psysml:158350c1-11e6-4f2f-a89e-7037efa93dae\" target=\"_top\" title=\"psysml:158350c1-11e6-4f2f-a89e-7037efa93dae\" xlink:actuate=\"onRequest\" xlink:href=\"psysml:158350c1-11e6-4f2f-a89e-7037efa93dae\" xlink:show=\"new\" xlink:title=\"psysml:158350c1-11e6-4f2f-a89e-7037efa93dae\" xlink:type=\"simple\"><path d=\"M272.95,95.98 C261.38,92.69 249.81,92.67 238.24,95.93 \" fill=\"none\" id=\"E15-E14-1\" style=\"stroke: #A80036; stroke-width: 3.0;\"/></a><!--MD5=[776c50345ebd1576a2a2166c9df27448]\n",
       "@startuml\r\n",
       "skinparam ranksep 8\r\n",
       "skinparam rectangle {\r\n",
       " backgroundColor<<block>> LightGreen\r\n",
       "}\r\n",
       " \r\n",
       "package \"ConjugationTest\" as E1  [[psysml:34192d11-634f-45f2-bc4e-1f94e63724b0 ]]  {\r\n",
       "def \"P\" as E2  <<(D,brown)port def>> [[psysml:c663f064-4c04-4527-821b-19ee83969177 ]] \r\n",
       "rec def \"B\" as E3  << (B,green) >> [[psysml:e064966f-e96c-463a-b744-2c95fe6cd8a1 ]] {\r\n",
       "portin \"p1: P\" as E4  << (P,blue) port>> [[psysml:b8e0261a-441d-41a6-aff3-1d450c4cde6f ]] \r\n",
       "portin \"p2: ~P\" as E5  << (P,blue) port>> [[psysml:cbde5ba2-4051-45bc-9875-629a3f045392 ]] \r\n",
       "}\r\n",
       "rec def \"A\" as E6  << (B,green) >> [[psysml:005e78a8-b799-41cc-8c3e-bd1642b3bc90 ]] {\r\n",
       "portin \"p1: P\" as E7  << (P,blue) port>> [[psysml:55181707-d268-487e-aa99-75d3872aefbc ]] \r\n",
       "portin \"p2: ~P\" as E8  << (P,blue) port>> [[psysml:0ddbc9c9-6f57-4a43-9fe9-35a450e63798 ]] \r\n",
       "}\r\n",
       "rec def \"I\" as E9  << (B,green) >> [[psysml:21ca298b-43fb-4a5a-8828-d457e715a9a7 ]] {\r\n",
       "portin \"p1: P\" as E10  << (P,blue) port>> [[psysml:4800d5e0-15fd-4b6f-b429-bddfb731ebe9 ]] \r\n",
       "portin \"p2: ~P\" as E11  << (P,blue) port>> [[psysml:5bc48f79-cf8d-4956-b81e-e57ba2e7fb16 ]] \r\n",
       "}\r\n",
       "rec def \"B1\" as E12  << (B,green) >> [[psysml:805f8ddd-ca4a-414c-92f1-ea459766cc23 ]] {\r\n",
       "rec usage \"p\" as E13  [[psysml:072097f8-3b46-444f-b0fb-f8fd70c894a4 ]] {\r\n",
       "portin \"p1: P\" as E14  << (P,blue) port>> [[psysml:17432448-deec-4082-b953-29eb581620b4 ]] \r\n",
       "portin \"p2: ~P\" as E15  << (P,blue) port>> [[psysml:c01cfbc6-39be-4cca-af9b-913ba499d52d ]] \r\n",
       "}\r\n",
       "}\r\n",
       "E15 -[thickness=3]- E14 [[psysml:d49afd8d-54fc-473a-b637-3cd599cd4fa7 ]] \r\n",
       "E15 -[thickness=3]- E14 [[psysml:158350c1-11e6-4f2f-a89e-7037efa93dae ]] \r\n",
       "}\r\n",
       "@enduml\r\n",
       "\n",
       "PlantUML version 1.2020.13(Sat Jun 13 12:26:38 UTC 2020)\n",
       "(EPL source distribution)\n",
       "Java Runtime: OpenJDK Runtime Environment\n",
       "JVM: OpenJDK 64-Bit Server VM\n",
       "Default Encoding: UTF-8\n",
       "Language: en\n",
       "Country: null\n",
       "--></g></svg>"
      ]
     },
     "execution_count": 33,
     "metadata": {},
     "output_type": "execute_result"
    }
   ],
   "source": [
    "%viz --style=\"PLANTUML\" --view=\"Interconnection\" \"ConjugationTest\""
   ]
  },
  {
   "cell_type": "code",
   "execution_count": 34,
   "id": "entertaining-union",
   "metadata": {
    "execution": {
     "iopub.execute_input": "2021-03-25T15:04:05.188409Z",
     "iopub.status.busy": "2021-03-25T15:04:05.187787Z",
     "iopub.status.idle": "2021-03-25T15:04:05.192699Z",
     "shell.execute_reply": "2021-03-25T15:04:05.193175Z"
    }
   },
   "outputs": [
    {
     "data": {
      "image/svg+xml": [
       "<?xml version=\"1.0\" encoding=\"UTF-8\" standalone=\"no\"?><svg xmlns=\"http://www.w3.org/2000/svg\" xmlns:xlink=\"http://www.w3.org/1999/xlink\" contentScriptType=\"application/ecmascript\" contentStyleType=\"text/css\" height=\"12px\" preserveAspectRatio=\"none\" style=\"width:12px;height:12px;\" version=\"1.1\" viewBox=\"0 0 12 12\" width=\"12px\" zoomAndPan=\"magnify\"><defs/><g><!--MD5=[6a4cb978cab31700e1ce5529f947a75d]\n",
       "@startuml\r\n",
       "skinparam ranksep 8\r\n",
       " \r\n",
       "@enduml\r\n",
       "\n",
       "PlantUML version 1.2020.13(Sat Jun 13 12:26:38 UTC 2020)\n",
       "(EPL source distribution)\n",
       "Java Runtime: OpenJDK Runtime Environment\n",
       "JVM: OpenJDK 64-Bit Server VM\n",
       "Default Encoding: UTF-8\n",
       "Language: en\n",
       "Country: null\n",
       "--></g></svg>"
      ]
     },
     "execution_count": 34,
     "metadata": {},
     "output_type": "execute_result"
    }
   ],
   "source": [
    "%viz --style=\"PLANTUML\" --view=\"Action\" \"ConjugationTest\""
   ]
  },
  {
   "cell_type": "code",
   "execution_count": 35,
   "id": "traditional-presentation",
   "metadata": {
    "execution": {
     "iopub.execute_input": "2021-03-25T15:04:05.244558Z",
     "iopub.status.busy": "2021-03-25T15:04:05.244069Z",
     "iopub.status.idle": "2021-03-25T15:04:05.892847Z",
     "shell.execute_reply": "2021-03-25T15:04:05.893219Z"
    }
   },
   "outputs": [
    {
     "data": {
      "image/svg+xml": [
       "<?xml version=\"1.0\" encoding=\"UTF-8\" standalone=\"no\"?><svg xmlns=\"http://www.w3.org/2000/svg\" xmlns:xlink=\"http://www.w3.org/1999/xlink\" contentScriptType=\"application/ecmascript\" contentStyleType=\"text/css\" height=\"299px\" preserveAspectRatio=\"none\" style=\"width:500px;height:299px;\" version=\"1.1\" viewBox=\"0 0 500 299\" width=\"500px\" zoomAndPan=\"magnify\"><defs><filter height=\"300%\" id=\"f14rmycoq9k3lz\" width=\"300%\" x=\"-1\" y=\"-1\"><feGaussianBlur result=\"blurOut\" stdDeviation=\"2.0\"/><feColorMatrix in=\"blurOut\" result=\"blurOut2\" type=\"matrix\" values=\"0 0 0 0 0 0 0 0 0 0 0 0 0 0 0 0 0 0 .4 0\"/><feOffset dx=\"4.0\" dy=\"4.0\" in=\"blurOut2\" result=\"blurOut3\"/><feBlend in=\"SourceGraphic\" in2=\"blurOut3\" mode=\"normal\"/></filter></defs><g><!--MD5=[fbc87193dbaf4d95561dea2c320d4a47]\n",
       "cluster E1--><a href=\"psysml:34192d11-634f-45f2-bc4e-1f94e63724b0\" target=\"_top\" title=\"psysml:34192d11-634f-45f2-bc4e-1f94e63724b0\" xlink:actuate=\"onRequest\" xlink:href=\"psysml:34192d11-634f-45f2-bc4e-1f94e63724b0\" xlink:show=\"new\" xlink:title=\"psysml:34192d11-634f-45f2-bc4e-1f94e63724b0\" xlink:type=\"simple\"><polygon fill=\"#FFFFFF\" filter=\"url(#f14rmycoq9k3lz)\" points=\"16,6,151,6,158,28.2969,478,28.2969,478,287,16,287,16,6\" style=\"stroke: #000000; stroke-width: 1.5;\"/><line style=\"stroke: #000000; stroke-width: 1.5;\" x1=\"16\" x2=\"158\" y1=\"28.2969\" y2=\"28.2969\"/><text fill=\"#000000\" font-family=\"sans-serif\" font-size=\"14\" font-weight=\"bold\" lengthAdjust=\"spacingAndGlyphs\" textLength=\"129\" x=\"20\" y=\"20.9951\">ConjugationTest</text></a><!--MD5=[b4997ac47864f28c2f74865a473b2911]\n",
       "class E2--><a href=\"psysml:c663f064-4c04-4527-821b-19ee83969177\" target=\"_top\" title=\"psysml:c663f064-4c04-4527-821b-19ee83969177\" xlink:actuate=\"onRequest\" xlink:href=\"psysml:c663f064-4c04-4527-821b-19ee83969177\" xlink:show=\"new\" xlink:title=\"psysml:c663f064-4c04-4527-821b-19ee83969177\" xlink:type=\"simple\"><rect fill=\"#FEFECE\" filter=\"url(#f14rmycoq9k3lz)\" height=\"45.9375\" id=\"E2\" style=\"stroke: #A80036; stroke-width: 1.5;\" width=\"92\" x=\"370\" y=\"59\"/><ellipse cx=\"385\" cy=\"77.9688\" fill=\"#A52A2A\" rx=\"11\" ry=\"11\" style=\"stroke: #A80036; stroke-width: 1.0;\"/><path d=\"M384.5938,73.7813 L384.5938,81.7656 L385.25,81.7656 Q386.6875,81.7656 387.2969,80.8594 Q387.9219,79.9375 387.9219,77.7656 Q387.9219,75.5938 387.2969,74.6875 Q386.6875,73.7813 385.25,73.7813 L384.5938,73.7813 Z M382.1406,71.5781 L384.7656,71.5781 Q387.7969,71.5781 389.125,73.0313 Q390.4688,74.4688 390.4688,77.7656 Q390.4688,81.0625 389.125,82.5156 Q387.7969,83.9688 384.7656,83.9688 L382.1406,83.9688 L382.1406,71.5781 Z \"/><text fill=\"#000000\" font-family=\"sans-serif\" font-size=\"12\" font-style=\"italic\" lengthAdjust=\"spacingAndGlyphs\" textLength=\"64\" x=\"397\" y=\"75.1387\">«port def»</text><text fill=\"#000000\" font-family=\"sans-serif\" font-size=\"12\" lengthAdjust=\"spacingAndGlyphs\" textLength=\"8\" x=\"425\" y=\"89.1074\">P</text><line style=\"stroke: #A80036; stroke-width: 1.5;\" x1=\"371\" x2=\"461\" y1=\"96.9375\" y2=\"96.9375\"/></a><!--MD5=[09b614a08d8cba4a07c9adeb5e0fee81]\n",
       "class E3--><a href=\"psysml:e064966f-e96c-463a-b744-2c95fe6cd8a1\" target=\"_top\" title=\"psysml:e064966f-e96c-463a-b744-2c95fe6cd8a1\" xlink:actuate=\"onRequest\" xlink:href=\"psysml:e064966f-e96c-463a-b744-2c95fe6cd8a1\" xlink:show=\"new\" xlink:title=\"psysml:e064966f-e96c-463a-b744-2c95fe6cd8a1\" xlink:type=\"simple\"><rect fill=\"#FEFECE\" filter=\"url(#f14rmycoq9k3lz)\" height=\"82.4141\" id=\"E3\" style=\"stroke: #A80036; stroke-width: 1.5;\" width=\"50\" x=\"285\" y=\"41\"/><ellipse cx=\"304.5\" cy=\"57\" fill=\"#008000\" rx=\"11\" ry=\"11\" style=\"stroke: #A80036; stroke-width: 1.0;\"/><path d=\"M303.4063,57.375 L303.4063,61.0469 L305.0313,61.0469 Q306.2031,61.0469 306.6719,60.6563 Q307.1406,60.25 307.1406,59.25 Q307.1406,58.25 306.6406,57.8125 Q306.1563,57.375 305.0313,57.375 L303.4063,57.375 Z M303.4063,52.5469 L303.4063,55.4219 L305.0313,55.4219 Q305.9531,55.4219 306.3438,55.0938 Q306.75,54.75 306.75,54 Q306.75,53.2344 306.3438,52.8906 Q305.9375,52.5469 305.0313,52.5469 L303.4063,52.5469 Z M301.0313,50.5938 L305.0313,50.5938 Q307.0938,50.5938 308.1406,51.375 Q309.1875,52.1563 309.1875,53.7188 Q309.1875,54.9219 308.5625,55.5938 Q307.9531,56.2656 306.7656,56.375 Q308.1875,56.5156 308.9063,57.3281 Q309.625,58.1406 309.625,59.5938 Q309.625,61.3906 308.5469,62.2031 Q307.4688,63 305.0313,63 L301.0313,63 L301.0313,50.5938 Z \"/><text fill=\"#000000\" font-family=\"sans-serif\" font-size=\"12\" lengthAdjust=\"spacingAndGlyphs\" textLength=\"8\" x=\"319.5\" y=\"61.1543\">B</text><line style=\"stroke: #A80036; stroke-width: 1.5;\" x1=\"286\" x2=\"334\" y1=\"73\" y2=\"73\"/><text fill=\"#000000\" font-family=\"sans-serif\" font-size=\"11\" lengthAdjust=\"spacingAndGlyphs\" textLength=\"29\" x=\"291\" y=\"104.0151\">p1: P</text><text fill=\"#000000\" font-family=\"sans-serif\" font-size=\"11\" lengthAdjust=\"spacingAndGlyphs\" textLength=\"38\" x=\"291\" y=\"116.8198\">p2: ~P</text><line style=\"stroke: #A80036; stroke-width: 1.0;\" x1=\"286\" x2=\"295\" y1=\"87.4023\" y2=\"87.4023\"/><text fill=\"#000000\" font-family=\"sans-serif\" font-size=\"11\" lengthAdjust=\"spacingAndGlyphs\" textLength=\"30\" x=\"295\" y=\"90.7104\">ports</text><line style=\"stroke: #A80036; stroke-width: 1.0;\" x1=\"325\" x2=\"334\" y1=\"87.4023\" y2=\"87.4023\"/></a><!--MD5=[60a26617385b1d2d0262a64233df1f8d]\n",
       "class E6--><a href=\"psysml:005e78a8-b799-41cc-8c3e-bd1642b3bc90\" target=\"_top\" title=\"psysml:005e78a8-b799-41cc-8c3e-bd1642b3bc90\" xlink:actuate=\"onRequest\" xlink:href=\"psysml:005e78a8-b799-41cc-8c3e-bd1642b3bc90\" xlink:show=\"new\" xlink:title=\"psysml:005e78a8-b799-41cc-8c3e-bd1642b3bc90\" xlink:type=\"simple\"><rect fill=\"#FEFECE\" filter=\"url(#f14rmycoq9k3lz)\" height=\"82.4141\" id=\"E6\" style=\"stroke: #A80036; stroke-width: 1.5;\" width=\"50\" x=\"200\" y=\"41\"/><ellipse cx=\"219.5\" cy=\"57\" fill=\"#008000\" rx=\"11\" ry=\"11\" style=\"stroke: #A80036; stroke-width: 1.0;\"/><path d=\"M218.4063,57.375 L218.4063,61.0469 L220.0313,61.0469 Q221.2031,61.0469 221.6719,60.6563 Q222.1406,60.25 222.1406,59.25 Q222.1406,58.25 221.6406,57.8125 Q221.1563,57.375 220.0313,57.375 L218.4063,57.375 Z M218.4063,52.5469 L218.4063,55.4219 L220.0313,55.4219 Q220.9531,55.4219 221.3438,55.0938 Q221.75,54.75 221.75,54 Q221.75,53.2344 221.3438,52.8906 Q220.9375,52.5469 220.0313,52.5469 L218.4063,52.5469 Z M216.0313,50.5938 L220.0313,50.5938 Q222.0938,50.5938 223.1406,51.375 Q224.1875,52.1563 224.1875,53.7188 Q224.1875,54.9219 223.5625,55.5938 Q222.9531,56.2656 221.7656,56.375 Q223.1875,56.5156 223.9063,57.3281 Q224.625,58.1406 224.625,59.5938 Q224.625,61.3906 223.5469,62.2031 Q222.4688,63 220.0313,63 L216.0313,63 L216.0313,50.5938 Z \"/><text fill=\"#000000\" font-family=\"sans-serif\" font-size=\"12\" lengthAdjust=\"spacingAndGlyphs\" textLength=\"8\" x=\"234.5\" y=\"61.1543\">A</text><line style=\"stroke: #A80036; stroke-width: 1.5;\" x1=\"201\" x2=\"249\" y1=\"73\" y2=\"73\"/><text fill=\"#000000\" font-family=\"sans-serif\" font-size=\"11\" lengthAdjust=\"spacingAndGlyphs\" textLength=\"29\" x=\"206\" y=\"104.0151\">p1: P</text><text fill=\"#000000\" font-family=\"sans-serif\" font-size=\"11\" lengthAdjust=\"spacingAndGlyphs\" textLength=\"38\" x=\"206\" y=\"116.8198\">p2: ~P</text><line style=\"stroke: #A80036; stroke-width: 1.0;\" x1=\"201\" x2=\"210\" y1=\"87.4023\" y2=\"87.4023\"/><text fill=\"#000000\" font-family=\"sans-serif\" font-size=\"11\" lengthAdjust=\"spacingAndGlyphs\" textLength=\"30\" x=\"210\" y=\"90.7104\">ports</text><line style=\"stroke: #A80036; stroke-width: 1.0;\" x1=\"240\" x2=\"249\" y1=\"87.4023\" y2=\"87.4023\"/></a><!--MD5=[fd4143e9d270a159db93a4ea2a975926]\n",
       "class E9--><a href=\"psysml:21ca298b-43fb-4a5a-8828-d457e715a9a7\" target=\"_top\" title=\"psysml:21ca298b-43fb-4a5a-8828-d457e715a9a7\" xlink:actuate=\"onRequest\" xlink:href=\"psysml:21ca298b-43fb-4a5a-8828-d457e715a9a7\" xlink:show=\"new\" xlink:title=\"psysml:21ca298b-43fb-4a5a-8828-d457e715a9a7\" xlink:type=\"simple\"><rect fill=\"#FEFECE\" filter=\"url(#f14rmycoq9k3lz)\" height=\"82.4141\" id=\"E9\" style=\"stroke: #A80036; stroke-width: 1.5;\" width=\"50\" x=\"115\" y=\"41\"/><ellipse cx=\"136.75\" cy=\"57\" fill=\"#008000\" rx=\"11\" ry=\"11\" style=\"stroke: #A80036; stroke-width: 1.0;\"/><path d=\"M135.6563,57.375 L135.6563,61.0469 L137.2813,61.0469 Q138.4531,61.0469 138.9219,60.6563 Q139.3906,60.25 139.3906,59.25 Q139.3906,58.25 138.8906,57.8125 Q138.4063,57.375 137.2813,57.375 L135.6563,57.375 Z M135.6563,52.5469 L135.6563,55.4219 L137.2813,55.4219 Q138.2031,55.4219 138.5938,55.0938 Q139,54.75 139,54 Q139,53.2344 138.5938,52.8906 Q138.1875,52.5469 137.2813,52.5469 L135.6563,52.5469 Z M133.2813,50.5938 L137.2813,50.5938 Q139.3438,50.5938 140.3906,51.375 Q141.4375,52.1563 141.4375,53.7188 Q141.4375,54.9219 140.8125,55.5938 Q140.2031,56.2656 139.0156,56.375 Q140.4375,56.5156 141.1563,57.3281 Q141.875,58.1406 141.875,59.5938 Q141.875,61.3906 140.7969,62.2031 Q139.7188,63 137.2813,63 L133.2813,63 L133.2813,50.5938 Z \"/><text fill=\"#000000\" font-family=\"sans-serif\" font-size=\"12\" lengthAdjust=\"spacingAndGlyphs\" textLength=\"3\" x=\"152.25\" y=\"61.1543\">I</text><line style=\"stroke: #A80036; stroke-width: 1.5;\" x1=\"116\" x2=\"164\" y1=\"73\" y2=\"73\"/><text fill=\"#000000\" font-family=\"sans-serif\" font-size=\"11\" lengthAdjust=\"spacingAndGlyphs\" textLength=\"29\" x=\"121\" y=\"104.0151\">p1: P</text><text fill=\"#000000\" font-family=\"sans-serif\" font-size=\"11\" lengthAdjust=\"spacingAndGlyphs\" textLength=\"38\" x=\"121\" y=\"116.8198\">p2: ~P</text><line style=\"stroke: #A80036; stroke-width: 1.0;\" x1=\"116\" x2=\"125\" y1=\"87.4023\" y2=\"87.4023\"/><text fill=\"#000000\" font-family=\"sans-serif\" font-size=\"11\" lengthAdjust=\"spacingAndGlyphs\" textLength=\"30\" x=\"125\" y=\"90.7104\">ports</text><line style=\"stroke: #A80036; stroke-width: 1.0;\" x1=\"155\" x2=\"164\" y1=\"87.4023\" y2=\"87.4023\"/></a><!--MD5=[49a0ec8f00dab7302a31f22d0f0fe584]\n",
       "class E12--><a href=\"psysml:805f8ddd-ca4a-414c-92f1-ea459766cc23\" target=\"_top\" title=\"psysml:805f8ddd-ca4a-414c-92f1-ea459766cc23\" xlink:actuate=\"onRequest\" xlink:href=\"psysml:805f8ddd-ca4a-414c-92f1-ea459766cc23\" xlink:show=\"new\" xlink:title=\"psysml:805f8ddd-ca4a-414c-92f1-ea459766cc23\" xlink:type=\"simple\"><rect fill=\"#FEFECE\" filter=\"url(#f14rmycoq9k3lz)\" height=\"40\" id=\"E12\" style=\"stroke: #A80036; stroke-width: 1.5;\" width=\"48\" x=\"32\" y=\"62\"/><ellipse cx=\"47\" cy=\"78\" fill=\"#008000\" rx=\"11\" ry=\"11\" style=\"stroke: #A80036; stroke-width: 1.0;\"/><path d=\"M45.9063,78.375 L45.9063,82.0469 L47.5313,82.0469 Q48.7031,82.0469 49.1719,81.6563 Q49.6406,81.25 49.6406,80.25 Q49.6406,79.25 49.1406,78.8125 Q48.6563,78.375 47.5313,78.375 L45.9063,78.375 Z M45.9063,73.5469 L45.9063,76.4219 L47.5313,76.4219 Q48.4531,76.4219 48.8438,76.0938 Q49.25,75.75 49.25,75 Q49.25,74.2344 48.8438,73.8906 Q48.4375,73.5469 47.5313,73.5469 L45.9063,73.5469 Z M43.5313,71.5938 L47.5313,71.5938 Q49.5938,71.5938 50.6406,72.375 Q51.6875,73.1563 51.6875,74.7188 Q51.6875,75.9219 51.0625,76.5938 Q50.4531,77.2656 49.2656,77.375 Q50.6875,77.5156 51.4063,78.3281 Q52.125,79.1406 52.125,80.5938 Q52.125,82.3906 51.0469,83.2031 Q49.9688,84 47.5313,84 L43.5313,84 L43.5313,71.5938 Z \"/><text fill=\"#000000\" font-family=\"sans-serif\" font-size=\"12\" lengthAdjust=\"spacingAndGlyphs\" textLength=\"16\" x=\"61\" y=\"82.1543\">B1</text><line style=\"stroke: #A80036; stroke-width: 1.5;\" x1=\"33\" x2=\"79\" y1=\"94\" y2=\"94\"/></a><!--MD5=[ee3c913d1a06f366521f9ef512b67efe]\n",
       "class E13--><a href=\"psysml:072097f8-3b46-444f-b0fb-f8fd70c894a4\" target=\"_top\" title=\"psysml:072097f8-3b46-444f-b0fb-f8fd70c894a4\" xlink:actuate=\"onRequest\" xlink:href=\"psysml:072097f8-3b46-444f-b0fb-f8fd70c894a4\" xlink:show=\"new\" xlink:title=\"psysml:072097f8-3b46-444f-b0fb-f8fd70c894a4\" xlink:type=\"simple\"><rect fill=\"#FEFECE\" filter=\"url(#f14rmycoq9k3lz)\" height=\"88.3516\" id=\"E13\" rx=\"10\" ry=\"10\" style=\"stroke: #A80036; stroke-width: 1.5;\" width=\"68\" x=\"32\" y=\"183\"/><ellipse cx=\"47\" cy=\"201.9688\" fill=\"#32CD32\" rx=\"11\" ry=\"11\" style=\"stroke: #A80036; stroke-width: 1.0;\"/><path d=\"M46.7969,197.6406 L46.7969,201.2656 L47.7969,201.2656 Q49,201.2656 49.4844,200.8594 Q49.9688,200.4531 49.9688,199.4531 Q49.9688,198.4531 49.4844,198.0469 Q49,197.6406 47.7969,197.6406 L46.7969,197.6406 Z M44.3438,195.5781 L47.7031,195.5781 Q50.2656,195.5781 51.3906,196.5 Q52.5156,197.4063 52.5156,199.4531 Q52.5156,201.5 51.3906,202.4219 Q50.2656,203.3281 47.7031,203.3281 L46.7969,203.3281 L46.7969,207.9688 L44.3438,207.9688 L44.3438,195.5781 Z \"/><text fill=\"#000000\" font-family=\"sans-serif\" font-size=\"12\" font-style=\"italic\" lengthAdjust=\"spacingAndGlyphs\" textLength=\"40\" x=\"59\" y=\"199.1387\">«part»</text><text fill=\"#000000\" font-family=\"sans-serif\" font-size=\"12\" lengthAdjust=\"spacingAndGlyphs\" textLength=\"8\" x=\"75\" y=\"213.1074\">p</text><line style=\"stroke: #A80036; stroke-width: 1.5;\" x1=\"33\" x2=\"99\" y1=\"220.9375\" y2=\"220.9375\"/><text fill=\"#000000\" font-family=\"sans-serif\" font-size=\"11\" lengthAdjust=\"spacingAndGlyphs\" textLength=\"29\" x=\"38\" y=\"251.9526\">p1: P</text><text fill=\"#000000\" font-family=\"sans-serif\" font-size=\"11\" lengthAdjust=\"spacingAndGlyphs\" textLength=\"38\" x=\"38\" y=\"264.7573\">p2: ~P</text><line style=\"stroke: #A80036; stroke-width: 1.0;\" x1=\"33\" x2=\"51\" y1=\"235.3398\" y2=\"235.3398\"/><text fill=\"#000000\" font-family=\"sans-serif\" font-size=\"11\" lengthAdjust=\"spacingAndGlyphs\" textLength=\"30\" x=\"51\" y=\"238.6479\">ports</text><line style=\"stroke: #A80036; stroke-width: 1.0;\" x1=\"81\" x2=\"99\" y1=\"235.3398\" y2=\"235.3398\"/></a><!--MD5=[062ed86c389d1a88f61c6380d0491e17]\n",
       "reverse link E12 to E13--><a href=\"psysml:072097f8-3b46-444f-b0fb-f8fd70c894a4\" target=\"_top\" title=\"psysml:072097f8-3b46-444f-b0fb-f8fd70c894a4\" xlink:actuate=\"onRequest\" xlink:href=\"psysml:072097f8-3b46-444f-b0fb-f8fd70c894a4\" xlink:show=\"new\" xlink:title=\"psysml:072097f8-3b46-444f-b0fb-f8fd70c894a4\" xlink:type=\"simple\"><path d=\"M58.26,115.31 C59.65,135.24 61.46,161.03 62.97,182.71 \" fill=\"none\" id=\"E12&lt;-E13\" style=\"stroke: #A80036; stroke-width: 1.0;\"/><polygon fill=\"#A80036\" points=\"57.35,102.29,53.7754,108.5527,58.1815,114.2612,61.7561,107.9984,57.35,102.29\" style=\"stroke: #A80036; stroke-width: 1.0;\"/></a><!--MD5=[a6c3dfd191431e5cc0ad3f40e3a2597c]\n",
       "@startuml\r\n",
       " \r\n",
       "package \"ConjugationTest\" as E1  [[psysml:34192d11-634f-45f2-bc4e-1f94e63724b0 ]]  {\r\n",
       "comp def \"P\" as E2  <<(D,brown)port def>> [[psysml:c663f064-4c04-4527-821b-19ee83969177 ]] {\r\n",
       "}\r\n",
       "comp def \"B\" as E3  << (B,green) >> [[psysml:e064966f-e96c-463a-b744-2c95fe6cd8a1 ]] {\r\n",
       "- - ports - -\r\n",
       "p1: P\r\n",
       "p2: ~P\r\n",
       "}\r\n",
       "comp def \"A\" as E6  << (B,green) >> [[psysml:005e78a8-b799-41cc-8c3e-bd1642b3bc90 ]] {\r\n",
       "- - ports - -\r\n",
       "p1: P\r\n",
       "p2: ~P\r\n",
       "}\r\n",
       "comp def \"I\" as E9  << (B,green) >> [[psysml:21ca298b-43fb-4a5a-8828-d457e715a9a7 ]] {\r\n",
       "- - ports - -\r\n",
       "p1: P\r\n",
       "p2: ~P\r\n",
       "}\r\n",
       "comp def \"B1\" as E12  << (B,green) >> [[psysml:805f8ddd-ca4a-414c-92f1-ea459766cc23 ]] {\r\n",
       "}\r\n",
       "comp usage \"p\" as E13  << (P,limegreen) part>> [[psysml:072097f8-3b46-444f-b0fb-f8fd70c894a4 ]] {\r\n",
       "- - ports - -\r\n",
       "p1: P\r\n",
       "p2: ~P\r\n",
       "}\r\n",
       "E12 *- - E13 [[psysml:072097f8-3b46-444f-b0fb-f8fd70c894a4 ]] \r\n",
       "}\r\n",
       "@enduml\r\n",
       "\n",
       "PlantUML version 1.2020.13(Sat Jun 13 12:26:38 UTC 2020)\n",
       "(EPL source distribution)\n",
       "Java Runtime: OpenJDK Runtime Environment\n",
       "JVM: OpenJDK 64-Bit Server VM\n",
       "Default Encoding: UTF-8\n",
       "Language: en\n",
       "Country: null\n",
       "--></g></svg>"
      ]
     },
     "execution_count": 35,
     "metadata": {},
     "output_type": "execute_result"
    }
   ],
   "source": [
    "%viz --style=\"PLANTUML\" --view=\"Sequence\" \"ConjugationTest\""
   ]
  },
  {
   "cell_type": "code",
   "execution_count": 36,
   "id": "educational-specific",
   "metadata": {
    "execution": {
     "iopub.execute_input": "2021-03-25T15:04:05.945614Z",
     "iopub.status.busy": "2021-03-25T15:04:05.944493Z",
     "iopub.status.idle": "2021-03-25T15:04:06.579882Z",
     "shell.execute_reply": "2021-03-25T15:04:06.578121Z"
    }
   },
   "outputs": [
    {
     "data": {
      "image/svg+xml": [
       "<?xml version=\"1.0\" encoding=\"UTF-8\" standalone=\"no\"?><svg xmlns=\"http://www.w3.org/2000/svg\" xmlns:xlink=\"http://www.w3.org/1999/xlink\" contentScriptType=\"application/ecmascript\" contentStyleType=\"text/css\" height=\"299px\" preserveAspectRatio=\"none\" style=\"width:500px;height:299px;\" version=\"1.1\" viewBox=\"0 0 500 299\" width=\"500px\" zoomAndPan=\"magnify\"><defs><filter height=\"300%\" id=\"f14rmycoq9k3lz\" width=\"300%\" x=\"-1\" y=\"-1\"><feGaussianBlur result=\"blurOut\" stdDeviation=\"2.0\"/><feColorMatrix in=\"blurOut\" result=\"blurOut2\" type=\"matrix\" values=\"0 0 0 0 0 0 0 0 0 0 0 0 0 0 0 0 0 0 .4 0\"/><feOffset dx=\"4.0\" dy=\"4.0\" in=\"blurOut2\" result=\"blurOut3\"/><feBlend in=\"SourceGraphic\" in2=\"blurOut3\" mode=\"normal\"/></filter></defs><g><!--MD5=[fbc87193dbaf4d95561dea2c320d4a47]\n",
       "cluster E1--><a href=\"psysml:34192d11-634f-45f2-bc4e-1f94e63724b0\" target=\"_top\" title=\"psysml:34192d11-634f-45f2-bc4e-1f94e63724b0\" xlink:actuate=\"onRequest\" xlink:href=\"psysml:34192d11-634f-45f2-bc4e-1f94e63724b0\" xlink:show=\"new\" xlink:title=\"psysml:34192d11-634f-45f2-bc4e-1f94e63724b0\" xlink:type=\"simple\"><polygon fill=\"#FFFFFF\" filter=\"url(#f14rmycoq9k3lz)\" points=\"16,6,151,6,158,28.2969,478,28.2969,478,287,16,287,16,6\" style=\"stroke: #000000; stroke-width: 1.5;\"/><line style=\"stroke: #000000; stroke-width: 1.5;\" x1=\"16\" x2=\"158\" y1=\"28.2969\" y2=\"28.2969\"/><text fill=\"#000000\" font-family=\"sans-serif\" font-size=\"14\" font-weight=\"bold\" lengthAdjust=\"spacingAndGlyphs\" textLength=\"129\" x=\"20\" y=\"20.9951\">ConjugationTest</text></a><!--MD5=[b4997ac47864f28c2f74865a473b2911]\n",
       "class E2--><a href=\"psysml:c663f064-4c04-4527-821b-19ee83969177\" target=\"_top\" title=\"psysml:c663f064-4c04-4527-821b-19ee83969177\" xlink:actuate=\"onRequest\" xlink:href=\"psysml:c663f064-4c04-4527-821b-19ee83969177\" xlink:show=\"new\" xlink:title=\"psysml:c663f064-4c04-4527-821b-19ee83969177\" xlink:type=\"simple\"><rect fill=\"#FEFECE\" filter=\"url(#f14rmycoq9k3lz)\" height=\"45.9375\" id=\"E2\" style=\"stroke: #A80036; stroke-width: 1.5;\" width=\"92\" x=\"370\" y=\"59\"/><ellipse cx=\"385\" cy=\"77.9688\" fill=\"#A52A2A\" rx=\"11\" ry=\"11\" style=\"stroke: #A80036; stroke-width: 1.0;\"/><path d=\"M384.5938,73.7813 L384.5938,81.7656 L385.25,81.7656 Q386.6875,81.7656 387.2969,80.8594 Q387.9219,79.9375 387.9219,77.7656 Q387.9219,75.5938 387.2969,74.6875 Q386.6875,73.7813 385.25,73.7813 L384.5938,73.7813 Z M382.1406,71.5781 L384.7656,71.5781 Q387.7969,71.5781 389.125,73.0313 Q390.4688,74.4688 390.4688,77.7656 Q390.4688,81.0625 389.125,82.5156 Q387.7969,83.9688 384.7656,83.9688 L382.1406,83.9688 L382.1406,71.5781 Z \"/><text fill=\"#000000\" font-family=\"sans-serif\" font-size=\"12\" font-style=\"italic\" lengthAdjust=\"spacingAndGlyphs\" textLength=\"64\" x=\"397\" y=\"75.1387\">«port def»</text><text fill=\"#000000\" font-family=\"sans-serif\" font-size=\"12\" lengthAdjust=\"spacingAndGlyphs\" textLength=\"8\" x=\"425\" y=\"89.1074\">P</text><line style=\"stroke: #A80036; stroke-width: 1.5;\" x1=\"371\" x2=\"461\" y1=\"96.9375\" y2=\"96.9375\"/></a><!--MD5=[09b614a08d8cba4a07c9adeb5e0fee81]\n",
       "class E3--><a href=\"psysml:e064966f-e96c-463a-b744-2c95fe6cd8a1\" target=\"_top\" title=\"psysml:e064966f-e96c-463a-b744-2c95fe6cd8a1\" xlink:actuate=\"onRequest\" xlink:href=\"psysml:e064966f-e96c-463a-b744-2c95fe6cd8a1\" xlink:show=\"new\" xlink:title=\"psysml:e064966f-e96c-463a-b744-2c95fe6cd8a1\" xlink:type=\"simple\"><rect fill=\"#FEFECE\" filter=\"url(#f14rmycoq9k3lz)\" height=\"82.4141\" id=\"E3\" style=\"stroke: #A80036; stroke-width: 1.5;\" width=\"50\" x=\"285\" y=\"41\"/><ellipse cx=\"304.5\" cy=\"57\" fill=\"#008000\" rx=\"11\" ry=\"11\" style=\"stroke: #A80036; stroke-width: 1.0;\"/><path d=\"M303.4063,57.375 L303.4063,61.0469 L305.0313,61.0469 Q306.2031,61.0469 306.6719,60.6563 Q307.1406,60.25 307.1406,59.25 Q307.1406,58.25 306.6406,57.8125 Q306.1563,57.375 305.0313,57.375 L303.4063,57.375 Z M303.4063,52.5469 L303.4063,55.4219 L305.0313,55.4219 Q305.9531,55.4219 306.3438,55.0938 Q306.75,54.75 306.75,54 Q306.75,53.2344 306.3438,52.8906 Q305.9375,52.5469 305.0313,52.5469 L303.4063,52.5469 Z M301.0313,50.5938 L305.0313,50.5938 Q307.0938,50.5938 308.1406,51.375 Q309.1875,52.1563 309.1875,53.7188 Q309.1875,54.9219 308.5625,55.5938 Q307.9531,56.2656 306.7656,56.375 Q308.1875,56.5156 308.9063,57.3281 Q309.625,58.1406 309.625,59.5938 Q309.625,61.3906 308.5469,62.2031 Q307.4688,63 305.0313,63 L301.0313,63 L301.0313,50.5938 Z \"/><text fill=\"#000000\" font-family=\"sans-serif\" font-size=\"12\" lengthAdjust=\"spacingAndGlyphs\" textLength=\"8\" x=\"319.5\" y=\"61.1543\">B</text><line style=\"stroke: #A80036; stroke-width: 1.5;\" x1=\"286\" x2=\"334\" y1=\"73\" y2=\"73\"/><text fill=\"#000000\" font-family=\"sans-serif\" font-size=\"11\" lengthAdjust=\"spacingAndGlyphs\" textLength=\"29\" x=\"291\" y=\"104.0151\">p1: P</text><text fill=\"#000000\" font-family=\"sans-serif\" font-size=\"11\" lengthAdjust=\"spacingAndGlyphs\" textLength=\"38\" x=\"291\" y=\"116.8198\">p2: ~P</text><line style=\"stroke: #A80036; stroke-width: 1.0;\" x1=\"286\" x2=\"295\" y1=\"87.4023\" y2=\"87.4023\"/><text fill=\"#000000\" font-family=\"sans-serif\" font-size=\"11\" lengthAdjust=\"spacingAndGlyphs\" textLength=\"30\" x=\"295\" y=\"90.7104\">ports</text><line style=\"stroke: #A80036; stroke-width: 1.0;\" x1=\"325\" x2=\"334\" y1=\"87.4023\" y2=\"87.4023\"/></a><!--MD5=[60a26617385b1d2d0262a64233df1f8d]\n",
       "class E6--><a href=\"psysml:005e78a8-b799-41cc-8c3e-bd1642b3bc90\" target=\"_top\" title=\"psysml:005e78a8-b799-41cc-8c3e-bd1642b3bc90\" xlink:actuate=\"onRequest\" xlink:href=\"psysml:005e78a8-b799-41cc-8c3e-bd1642b3bc90\" xlink:show=\"new\" xlink:title=\"psysml:005e78a8-b799-41cc-8c3e-bd1642b3bc90\" xlink:type=\"simple\"><rect fill=\"#FEFECE\" filter=\"url(#f14rmycoq9k3lz)\" height=\"82.4141\" id=\"E6\" style=\"stroke: #A80036; stroke-width: 1.5;\" width=\"50\" x=\"200\" y=\"41\"/><ellipse cx=\"219.5\" cy=\"57\" fill=\"#008000\" rx=\"11\" ry=\"11\" style=\"stroke: #A80036; stroke-width: 1.0;\"/><path d=\"M218.4063,57.375 L218.4063,61.0469 L220.0313,61.0469 Q221.2031,61.0469 221.6719,60.6563 Q222.1406,60.25 222.1406,59.25 Q222.1406,58.25 221.6406,57.8125 Q221.1563,57.375 220.0313,57.375 L218.4063,57.375 Z M218.4063,52.5469 L218.4063,55.4219 L220.0313,55.4219 Q220.9531,55.4219 221.3438,55.0938 Q221.75,54.75 221.75,54 Q221.75,53.2344 221.3438,52.8906 Q220.9375,52.5469 220.0313,52.5469 L218.4063,52.5469 Z M216.0313,50.5938 L220.0313,50.5938 Q222.0938,50.5938 223.1406,51.375 Q224.1875,52.1563 224.1875,53.7188 Q224.1875,54.9219 223.5625,55.5938 Q222.9531,56.2656 221.7656,56.375 Q223.1875,56.5156 223.9063,57.3281 Q224.625,58.1406 224.625,59.5938 Q224.625,61.3906 223.5469,62.2031 Q222.4688,63 220.0313,63 L216.0313,63 L216.0313,50.5938 Z \"/><text fill=\"#000000\" font-family=\"sans-serif\" font-size=\"12\" lengthAdjust=\"spacingAndGlyphs\" textLength=\"8\" x=\"234.5\" y=\"61.1543\">A</text><line style=\"stroke: #A80036; stroke-width: 1.5;\" x1=\"201\" x2=\"249\" y1=\"73\" y2=\"73\"/><text fill=\"#000000\" font-family=\"sans-serif\" font-size=\"11\" lengthAdjust=\"spacingAndGlyphs\" textLength=\"29\" x=\"206\" y=\"104.0151\">p1: P</text><text fill=\"#000000\" font-family=\"sans-serif\" font-size=\"11\" lengthAdjust=\"spacingAndGlyphs\" textLength=\"38\" x=\"206\" y=\"116.8198\">p2: ~P</text><line style=\"stroke: #A80036; stroke-width: 1.0;\" x1=\"201\" x2=\"210\" y1=\"87.4023\" y2=\"87.4023\"/><text fill=\"#000000\" font-family=\"sans-serif\" font-size=\"11\" lengthAdjust=\"spacingAndGlyphs\" textLength=\"30\" x=\"210\" y=\"90.7104\">ports</text><line style=\"stroke: #A80036; stroke-width: 1.0;\" x1=\"240\" x2=\"249\" y1=\"87.4023\" y2=\"87.4023\"/></a><!--MD5=[fd4143e9d270a159db93a4ea2a975926]\n",
       "class E9--><a href=\"psysml:21ca298b-43fb-4a5a-8828-d457e715a9a7\" target=\"_top\" title=\"psysml:21ca298b-43fb-4a5a-8828-d457e715a9a7\" xlink:actuate=\"onRequest\" xlink:href=\"psysml:21ca298b-43fb-4a5a-8828-d457e715a9a7\" xlink:show=\"new\" xlink:title=\"psysml:21ca298b-43fb-4a5a-8828-d457e715a9a7\" xlink:type=\"simple\"><rect fill=\"#FEFECE\" filter=\"url(#f14rmycoq9k3lz)\" height=\"82.4141\" id=\"E9\" style=\"stroke: #A80036; stroke-width: 1.5;\" width=\"50\" x=\"115\" y=\"41\"/><ellipse cx=\"136.75\" cy=\"57\" fill=\"#008000\" rx=\"11\" ry=\"11\" style=\"stroke: #A80036; stroke-width: 1.0;\"/><path d=\"M135.6563,57.375 L135.6563,61.0469 L137.2813,61.0469 Q138.4531,61.0469 138.9219,60.6563 Q139.3906,60.25 139.3906,59.25 Q139.3906,58.25 138.8906,57.8125 Q138.4063,57.375 137.2813,57.375 L135.6563,57.375 Z M135.6563,52.5469 L135.6563,55.4219 L137.2813,55.4219 Q138.2031,55.4219 138.5938,55.0938 Q139,54.75 139,54 Q139,53.2344 138.5938,52.8906 Q138.1875,52.5469 137.2813,52.5469 L135.6563,52.5469 Z M133.2813,50.5938 L137.2813,50.5938 Q139.3438,50.5938 140.3906,51.375 Q141.4375,52.1563 141.4375,53.7188 Q141.4375,54.9219 140.8125,55.5938 Q140.2031,56.2656 139.0156,56.375 Q140.4375,56.5156 141.1563,57.3281 Q141.875,58.1406 141.875,59.5938 Q141.875,61.3906 140.7969,62.2031 Q139.7188,63 137.2813,63 L133.2813,63 L133.2813,50.5938 Z \"/><text fill=\"#000000\" font-family=\"sans-serif\" font-size=\"12\" lengthAdjust=\"spacingAndGlyphs\" textLength=\"3\" x=\"152.25\" y=\"61.1543\">I</text><line style=\"stroke: #A80036; stroke-width: 1.5;\" x1=\"116\" x2=\"164\" y1=\"73\" y2=\"73\"/><text fill=\"#000000\" font-family=\"sans-serif\" font-size=\"11\" lengthAdjust=\"spacingAndGlyphs\" textLength=\"29\" x=\"121\" y=\"104.0151\">p1: P</text><text fill=\"#000000\" font-family=\"sans-serif\" font-size=\"11\" lengthAdjust=\"spacingAndGlyphs\" textLength=\"38\" x=\"121\" y=\"116.8198\">p2: ~P</text><line style=\"stroke: #A80036; stroke-width: 1.0;\" x1=\"116\" x2=\"125\" y1=\"87.4023\" y2=\"87.4023\"/><text fill=\"#000000\" font-family=\"sans-serif\" font-size=\"11\" lengthAdjust=\"spacingAndGlyphs\" textLength=\"30\" x=\"125\" y=\"90.7104\">ports</text><line style=\"stroke: #A80036; stroke-width: 1.0;\" x1=\"155\" x2=\"164\" y1=\"87.4023\" y2=\"87.4023\"/></a><!--MD5=[49a0ec8f00dab7302a31f22d0f0fe584]\n",
       "class E12--><a href=\"psysml:805f8ddd-ca4a-414c-92f1-ea459766cc23\" target=\"_top\" title=\"psysml:805f8ddd-ca4a-414c-92f1-ea459766cc23\" xlink:actuate=\"onRequest\" xlink:href=\"psysml:805f8ddd-ca4a-414c-92f1-ea459766cc23\" xlink:show=\"new\" xlink:title=\"psysml:805f8ddd-ca4a-414c-92f1-ea459766cc23\" xlink:type=\"simple\"><rect fill=\"#FEFECE\" filter=\"url(#f14rmycoq9k3lz)\" height=\"40\" id=\"E12\" style=\"stroke: #A80036; stroke-width: 1.5;\" width=\"48\" x=\"32\" y=\"62\"/><ellipse cx=\"47\" cy=\"78\" fill=\"#008000\" rx=\"11\" ry=\"11\" style=\"stroke: #A80036; stroke-width: 1.0;\"/><path d=\"M45.9063,78.375 L45.9063,82.0469 L47.5313,82.0469 Q48.7031,82.0469 49.1719,81.6563 Q49.6406,81.25 49.6406,80.25 Q49.6406,79.25 49.1406,78.8125 Q48.6563,78.375 47.5313,78.375 L45.9063,78.375 Z M45.9063,73.5469 L45.9063,76.4219 L47.5313,76.4219 Q48.4531,76.4219 48.8438,76.0938 Q49.25,75.75 49.25,75 Q49.25,74.2344 48.8438,73.8906 Q48.4375,73.5469 47.5313,73.5469 L45.9063,73.5469 Z M43.5313,71.5938 L47.5313,71.5938 Q49.5938,71.5938 50.6406,72.375 Q51.6875,73.1563 51.6875,74.7188 Q51.6875,75.9219 51.0625,76.5938 Q50.4531,77.2656 49.2656,77.375 Q50.6875,77.5156 51.4063,78.3281 Q52.125,79.1406 52.125,80.5938 Q52.125,82.3906 51.0469,83.2031 Q49.9688,84 47.5313,84 L43.5313,84 L43.5313,71.5938 Z \"/><text fill=\"#000000\" font-family=\"sans-serif\" font-size=\"12\" lengthAdjust=\"spacingAndGlyphs\" textLength=\"16\" x=\"61\" y=\"82.1543\">B1</text><line style=\"stroke: #A80036; stroke-width: 1.5;\" x1=\"33\" x2=\"79\" y1=\"94\" y2=\"94\"/></a><!--MD5=[ee3c913d1a06f366521f9ef512b67efe]\n",
       "class E13--><a href=\"psysml:072097f8-3b46-444f-b0fb-f8fd70c894a4\" target=\"_top\" title=\"psysml:072097f8-3b46-444f-b0fb-f8fd70c894a4\" xlink:actuate=\"onRequest\" xlink:href=\"psysml:072097f8-3b46-444f-b0fb-f8fd70c894a4\" xlink:show=\"new\" xlink:title=\"psysml:072097f8-3b46-444f-b0fb-f8fd70c894a4\" xlink:type=\"simple\"><rect fill=\"#FEFECE\" filter=\"url(#f14rmycoq9k3lz)\" height=\"88.3516\" id=\"E13\" rx=\"10\" ry=\"10\" style=\"stroke: #A80036; stroke-width: 1.5;\" width=\"68\" x=\"32\" y=\"183\"/><ellipse cx=\"47\" cy=\"201.9688\" fill=\"#32CD32\" rx=\"11\" ry=\"11\" style=\"stroke: #A80036; stroke-width: 1.0;\"/><path d=\"M46.7969,197.6406 L46.7969,201.2656 L47.7969,201.2656 Q49,201.2656 49.4844,200.8594 Q49.9688,200.4531 49.9688,199.4531 Q49.9688,198.4531 49.4844,198.0469 Q49,197.6406 47.7969,197.6406 L46.7969,197.6406 Z M44.3438,195.5781 L47.7031,195.5781 Q50.2656,195.5781 51.3906,196.5 Q52.5156,197.4063 52.5156,199.4531 Q52.5156,201.5 51.3906,202.4219 Q50.2656,203.3281 47.7031,203.3281 L46.7969,203.3281 L46.7969,207.9688 L44.3438,207.9688 L44.3438,195.5781 Z \"/><text fill=\"#000000\" font-family=\"sans-serif\" font-size=\"12\" font-style=\"italic\" lengthAdjust=\"spacingAndGlyphs\" textLength=\"40\" x=\"59\" y=\"199.1387\">«part»</text><text fill=\"#000000\" font-family=\"sans-serif\" font-size=\"12\" lengthAdjust=\"spacingAndGlyphs\" textLength=\"8\" x=\"75\" y=\"213.1074\">p</text><line style=\"stroke: #A80036; stroke-width: 1.5;\" x1=\"33\" x2=\"99\" y1=\"220.9375\" y2=\"220.9375\"/><text fill=\"#000000\" font-family=\"sans-serif\" font-size=\"11\" lengthAdjust=\"spacingAndGlyphs\" textLength=\"29\" x=\"38\" y=\"251.9526\">p1: P</text><text fill=\"#000000\" font-family=\"sans-serif\" font-size=\"11\" lengthAdjust=\"spacingAndGlyphs\" textLength=\"38\" x=\"38\" y=\"264.7573\">p2: ~P</text><line style=\"stroke: #A80036; stroke-width: 1.0;\" x1=\"33\" x2=\"51\" y1=\"235.3398\" y2=\"235.3398\"/><text fill=\"#000000\" font-family=\"sans-serif\" font-size=\"11\" lengthAdjust=\"spacingAndGlyphs\" textLength=\"30\" x=\"51\" y=\"238.6479\">ports</text><line style=\"stroke: #A80036; stroke-width: 1.0;\" x1=\"81\" x2=\"99\" y1=\"235.3398\" y2=\"235.3398\"/></a><!--MD5=[062ed86c389d1a88f61c6380d0491e17]\n",
       "reverse link E12 to E13--><a href=\"psysml:072097f8-3b46-444f-b0fb-f8fd70c894a4\" target=\"_top\" title=\"psysml:072097f8-3b46-444f-b0fb-f8fd70c894a4\" xlink:actuate=\"onRequest\" xlink:href=\"psysml:072097f8-3b46-444f-b0fb-f8fd70c894a4\" xlink:show=\"new\" xlink:title=\"psysml:072097f8-3b46-444f-b0fb-f8fd70c894a4\" xlink:type=\"simple\"><path d=\"M58.26,115.31 C59.65,135.24 61.46,161.03 62.97,182.71 \" fill=\"none\" id=\"E12&lt;-E13\" style=\"stroke: #A80036; stroke-width: 1.0;\"/><polygon fill=\"#A80036\" points=\"57.35,102.29,53.7754,108.5527,58.1815,114.2612,61.7561,107.9984,57.35,102.29\" style=\"stroke: #A80036; stroke-width: 1.0;\"/></a><!--MD5=[a6c3dfd191431e5cc0ad3f40e3a2597c]\n",
       "@startuml\r\n",
       " \r\n",
       "package \"ConjugationTest\" as E1  [[psysml:34192d11-634f-45f2-bc4e-1f94e63724b0 ]]  {\r\n",
       "comp def \"P\" as E2  <<(D,brown)port def>> [[psysml:c663f064-4c04-4527-821b-19ee83969177 ]] {\r\n",
       "}\r\n",
       "comp def \"B\" as E3  << (B,green) >> [[psysml:e064966f-e96c-463a-b744-2c95fe6cd8a1 ]] {\r\n",
       "- - ports - -\r\n",
       "p1: P\r\n",
       "p2: ~P\r\n",
       "}\r\n",
       "comp def \"A\" as E6  << (B,green) >> [[psysml:005e78a8-b799-41cc-8c3e-bd1642b3bc90 ]] {\r\n",
       "- - ports - -\r\n",
       "p1: P\r\n",
       "p2: ~P\r\n",
       "}\r\n",
       "comp def \"I\" as E9  << (B,green) >> [[psysml:21ca298b-43fb-4a5a-8828-d457e715a9a7 ]] {\r\n",
       "- - ports - -\r\n",
       "p1: P\r\n",
       "p2: ~P\r\n",
       "}\r\n",
       "comp def \"B1\" as E12  << (B,green) >> [[psysml:805f8ddd-ca4a-414c-92f1-ea459766cc23 ]] {\r\n",
       "}\r\n",
       "comp usage \"p\" as E13  << (P,limegreen) part>> [[psysml:072097f8-3b46-444f-b0fb-f8fd70c894a4 ]] {\r\n",
       "- - ports - -\r\n",
       "p1: P\r\n",
       "p2: ~P\r\n",
       "}\r\n",
       "E12 *- - E13 [[psysml:072097f8-3b46-444f-b0fb-f8fd70c894a4 ]] \r\n",
       "}\r\n",
       "@enduml\r\n",
       "\n",
       "PlantUML version 1.2020.13(Sat Jun 13 12:26:38 UTC 2020)\n",
       "(EPL source distribution)\n",
       "Java Runtime: OpenJDK Runtime Environment\n",
       "JVM: OpenJDK 64-Bit Server VM\n",
       "Default Encoding: UTF-8\n",
       "Language: en\n",
       "Country: null\n",
       "--></g></svg>"
      ]
     },
     "execution_count": 36,
     "metadata": {},
     "output_type": "execute_result"
    }
   ],
   "source": [
    "%viz --style=\"PLANTUML\" --view=\"MIXED\" \"ConjugationTest\""
   ]
  },
  {
   "cell_type": "code",
   "execution_count": 37,
   "id": "humanitarian-female",
   "metadata": {
    "execution": {
     "iopub.execute_input": "2021-03-25T15:04:06.631956Z",
     "iopub.status.busy": "2021-03-25T15:04:06.630413Z",
     "iopub.status.idle": "2021-03-25T15:04:07.286041Z",
     "shell.execute_reply": "2021-03-25T15:04:07.284423Z"
    }
   },
   "outputs": [
    {
     "data": {
      "image/svg+xml": [
       "<?xml version=\"1.0\" encoding=\"UTF-8\" standalone=\"no\"?><svg xmlns=\"http://www.w3.org/2000/svg\" xmlns:xlink=\"http://www.w3.org/1999/xlink\" contentScriptType=\"application/ecmascript\" contentStyleType=\"text/css\" height=\"305px\" preserveAspectRatio=\"none\" style=\"width:614px;height:305px;\" version=\"1.1\" viewBox=\"0 0 614 305\" width=\"614px\" zoomAndPan=\"magnify\"><defs/><g><!--MD5=[fbc87193dbaf4d95561dea2c320d4a47]\n",
       "cluster E1--><a href=\"psysml:34192d11-634f-45f2-bc4e-1f94e63724b0\" target=\"_top\" title=\"psysml:34192d11-634f-45f2-bc4e-1f94e63724b0\" xlink:actuate=\"onRequest\" xlink:href=\"psysml:34192d11-634f-45f2-bc4e-1f94e63724b0\" xlink:show=\"new\" xlink:title=\"psysml:34192d11-634f-45f2-bc4e-1f94e63724b0\" xlink:type=\"simple\"><polygon fill=\"#FFFFFF\" points=\"16,6,151,6,158,28.2969,592,28.2969,592,293,16,293,16,6\" style=\"stroke: #000000; stroke-width: 1.5;\"/><line style=\"stroke: #000000; stroke-width: 1.5;\" x1=\"16\" x2=\"158\" y1=\"28.2969\" y2=\"28.2969\"/><text fill=\"#000000\" font-family=\"sans-serif\" font-size=\"14\" font-weight=\"bold\" lengthAdjust=\"spacingAndGlyphs\" textLength=\"129\" x=\"20\" y=\"20.9951\">ConjugationTest</text></a><!--MD5=[b4997ac47864f28c2f74865a473b2911]\n",
       "class E2--><a href=\"psysml:c663f064-4c04-4527-821b-19ee83969177\" target=\"_top\" title=\"psysml:c663f064-4c04-4527-821b-19ee83969177\" xlink:actuate=\"onRequest\" xlink:href=\"psysml:c663f064-4c04-4527-821b-19ee83969177\" xlink:show=\"new\" xlink:title=\"psysml:c663f064-4c04-4527-821b-19ee83969177\" xlink:type=\"simple\"><rect fill=\"#FFFFFF\" height=\"45.9375\" id=\"E2\" style=\"stroke: #383838; stroke-width: 1.5;\" width=\"66\" x=\"510\" y=\"62\"/><text fill=\"#000000\" font-family=\"sans-serif\" font-size=\"12\" font-style=\"italic\" lengthAdjust=\"spacingAndGlyphs\" textLength=\"64\" x=\"511\" y=\"78.1387\">«port def»</text><text fill=\"#000000\" font-family=\"sans-serif\" font-size=\"12\" lengthAdjust=\"spacingAndGlyphs\" textLength=\"8\" x=\"539\" y=\"92.1074\">P</text><line style=\"stroke: #383838; stroke-width: 1.5;\" x1=\"511\" x2=\"575\" y1=\"99.9375\" y2=\"99.9375\"/></a><!--MD5=[09b614a08d8cba4a07c9adeb5e0fee81]\n",
       "class E3--><a href=\"psysml:e064966f-e96c-463a-b744-2c95fe6cd8a1\" target=\"_top\" title=\"psysml:e064966f-e96c-463a-b744-2c95fe6cd8a1\" xlink:actuate=\"onRequest\" xlink:href=\"psysml:e064966f-e96c-463a-b744-2c95fe6cd8a1\" xlink:show=\"new\" xlink:title=\"psysml:e064966f-e96c-463a-b744-2c95fe6cd8a1\" xlink:type=\"simple\"><rect fill=\"#FFFFFF\" height=\"88.3516\" id=\"E3\" style=\"stroke: #383838; stroke-width: 1.5;\" width=\"66\" x=\"409\" y=\"41\"/><text fill=\"#000000\" font-family=\"sans-serif\" font-size=\"12\" font-style=\"italic\" lengthAdjust=\"spacingAndGlyphs\" textLength=\"64\" x=\"410\" y=\"57.1387\">«part def»</text><text fill=\"#000000\" font-family=\"sans-serif\" font-size=\"12\" lengthAdjust=\"spacingAndGlyphs\" textLength=\"8\" x=\"438\" y=\"71.1074\">B</text><line style=\"stroke: #383838; stroke-width: 1.5;\" x1=\"410\" x2=\"474\" y1=\"78.9375\" y2=\"78.9375\"/><text fill=\"#000000\" font-family=\"sans-serif\" font-size=\"11\" lengthAdjust=\"spacingAndGlyphs\" textLength=\"29\" x=\"415\" y=\"109.9526\">p1: P</text><text fill=\"#000000\" font-family=\"sans-serif\" font-size=\"11\" lengthAdjust=\"spacingAndGlyphs\" textLength=\"38\" x=\"415\" y=\"122.7573\">p2: ~P</text><line style=\"stroke: #383838; stroke-width: 1.0;\" x1=\"410\" x2=\"427\" y1=\"93.3398\" y2=\"93.3398\"/><text fill=\"#000000\" font-family=\"sans-serif\" font-size=\"11\" lengthAdjust=\"spacingAndGlyphs\" textLength=\"30\" x=\"427\" y=\"96.6479\">ports</text><line style=\"stroke: #383838; stroke-width: 1.0;\" x1=\"457\" x2=\"474\" y1=\"93.3398\" y2=\"93.3398\"/></a><!--MD5=[60a26617385b1d2d0262a64233df1f8d]\n",
       "class E6--><a href=\"psysml:005e78a8-b799-41cc-8c3e-bd1642b3bc90\" target=\"_top\" title=\"psysml:005e78a8-b799-41cc-8c3e-bd1642b3bc90\" xlink:actuate=\"onRequest\" xlink:href=\"psysml:005e78a8-b799-41cc-8c3e-bd1642b3bc90\" xlink:show=\"new\" xlink:title=\"psysml:005e78a8-b799-41cc-8c3e-bd1642b3bc90\" xlink:type=\"simple\"><rect fill=\"#FFFFFF\" height=\"88.3516\" id=\"E6\" style=\"stroke: #383838; stroke-width: 1.5;\" width=\"110\" x=\"264\" y=\"41\"/><text fill=\"#000000\" font-family=\"sans-serif\" font-size=\"12\" font-style=\"italic\" lengthAdjust=\"spacingAndGlyphs\" textLength=\"108\" x=\"265\" y=\"57.1387\">«connection def»</text><text fill=\"#000000\" font-family=\"sans-serif\" font-size=\"12\" lengthAdjust=\"spacingAndGlyphs\" textLength=\"8\" x=\"315\" y=\"71.1074\">A</text><line style=\"stroke: #383838; stroke-width: 1.5;\" x1=\"265\" x2=\"373\" y1=\"78.9375\" y2=\"78.9375\"/><text fill=\"#000000\" font-family=\"sans-serif\" font-size=\"11\" lengthAdjust=\"spacingAndGlyphs\" textLength=\"29\" x=\"270\" y=\"109.9526\">p1: P</text><text fill=\"#000000\" font-family=\"sans-serif\" font-size=\"11\" lengthAdjust=\"spacingAndGlyphs\" textLength=\"38\" x=\"270\" y=\"122.7573\">p2: ~P</text><line style=\"stroke: #383838; stroke-width: 1.0;\" x1=\"265\" x2=\"304\" y1=\"93.3398\" y2=\"93.3398\"/><text fill=\"#000000\" font-family=\"sans-serif\" font-size=\"11\" lengthAdjust=\"spacingAndGlyphs\" textLength=\"30\" x=\"304\" y=\"96.6479\">ports</text><line style=\"stroke: #383838; stroke-width: 1.0;\" x1=\"334\" x2=\"373\" y1=\"93.3398\" y2=\"93.3398\"/></a><!--MD5=[fd4143e9d270a159db93a4ea2a975926]\n",
       "class E9--><a href=\"psysml:21ca298b-43fb-4a5a-8828-d457e715a9a7\" target=\"_top\" title=\"psysml:21ca298b-43fb-4a5a-8828-d457e715a9a7\" xlink:actuate=\"onRequest\" xlink:href=\"psysml:21ca298b-43fb-4a5a-8828-d457e715a9a7\" xlink:show=\"new\" xlink:title=\"psysml:21ca298b-43fb-4a5a-8828-d457e715a9a7\" xlink:type=\"simple\"><rect fill=\"#FFFFFF\" height=\"88.3516\" id=\"E9\" style=\"stroke: #383838; stroke-width: 1.5;\" width=\"96\" x=\"133\" y=\"41\"/><text fill=\"#000000\" font-family=\"sans-serif\" font-size=\"12\" font-style=\"italic\" lengthAdjust=\"spacingAndGlyphs\" textLength=\"94\" x=\"134\" y=\"57.1387\">«interface def»</text><text fill=\"#000000\" font-family=\"sans-serif\" font-size=\"12\" lengthAdjust=\"spacingAndGlyphs\" textLength=\"3\" x=\"179.5\" y=\"71.1074\">I</text><line style=\"stroke: #383838; stroke-width: 1.5;\" x1=\"134\" x2=\"228\" y1=\"78.9375\" y2=\"78.9375\"/><text fill=\"#000000\" font-family=\"sans-serif\" font-size=\"11\" lengthAdjust=\"spacingAndGlyphs\" textLength=\"29\" x=\"139\" y=\"109.9526\">p1: P</text><text fill=\"#000000\" font-family=\"sans-serif\" font-size=\"11\" lengthAdjust=\"spacingAndGlyphs\" textLength=\"38\" x=\"139\" y=\"122.7573\">p2: ~P</text><line style=\"stroke: #383838; stroke-width: 1.0;\" x1=\"134\" x2=\"166\" y1=\"93.3398\" y2=\"93.3398\"/><text fill=\"#000000\" font-family=\"sans-serif\" font-size=\"11\" lengthAdjust=\"spacingAndGlyphs\" textLength=\"30\" x=\"166\" y=\"96.6479\">ports</text><line style=\"stroke: #383838; stroke-width: 1.0;\" x1=\"196\" x2=\"228\" y1=\"93.3398\" y2=\"93.3398\"/></a><!--MD5=[49a0ec8f00dab7302a31f22d0f0fe584]\n",
       "class E12--><a href=\"psysml:805f8ddd-ca4a-414c-92f1-ea459766cc23\" target=\"_top\" title=\"psysml:805f8ddd-ca4a-414c-92f1-ea459766cc23\" xlink:actuate=\"onRequest\" xlink:href=\"psysml:805f8ddd-ca4a-414c-92f1-ea459766cc23\" xlink:show=\"new\" xlink:title=\"psysml:805f8ddd-ca4a-414c-92f1-ea459766cc23\" xlink:type=\"simple\"><rect fill=\"#FFFFFF\" height=\"45.9375\" id=\"E12\" style=\"stroke: #383838; stroke-width: 1.5;\" width=\"66\" x=\"32\" y=\"62\"/><text fill=\"#000000\" font-family=\"sans-serif\" font-size=\"12\" font-style=\"italic\" lengthAdjust=\"spacingAndGlyphs\" textLength=\"64\" x=\"33\" y=\"78.1387\">«part def»</text><text fill=\"#000000\" font-family=\"sans-serif\" font-size=\"12\" lengthAdjust=\"spacingAndGlyphs\" textLength=\"16\" x=\"57\" y=\"92.1074\">B1</text><line style=\"stroke: #383838; stroke-width: 1.5;\" x1=\"33\" x2=\"97\" y1=\"99.9375\" y2=\"99.9375\"/></a><!--MD5=[ee3c913d1a06f366521f9ef512b67efe]\n",
       "class E13--><a href=\"psysml:072097f8-3b46-444f-b0fb-f8fd70c894a4\" target=\"_top\" title=\"psysml:072097f8-3b46-444f-b0fb-f8fd70c894a4\" xlink:actuate=\"onRequest\" xlink:href=\"psysml:072097f8-3b46-444f-b0fb-f8fd70c894a4\" xlink:show=\"new\" xlink:title=\"psysml:072097f8-3b46-444f-b0fb-f8fd70c894a4\" xlink:type=\"simple\"><rect fill=\"#FFFFFF\" height=\"88.3516\" id=\"E13\" rx=\"10\" ry=\"10\" style=\"stroke: #383838; stroke-width: 1.5;\" width=\"50\" x=\"40\" y=\"189\"/><text fill=\"#000000\" font-family=\"sans-serif\" font-size=\"12\" font-style=\"italic\" lengthAdjust=\"spacingAndGlyphs\" textLength=\"40\" x=\"45\" y=\"205.1387\">«part»</text><text fill=\"#000000\" font-family=\"sans-serif\" font-size=\"12\" lengthAdjust=\"spacingAndGlyphs\" textLength=\"8\" x=\"61\" y=\"219.1074\">p</text><line style=\"stroke: #383838; stroke-width: 1.5;\" x1=\"41\" x2=\"89\" y1=\"226.9375\" y2=\"226.9375\"/><text fill=\"#000000\" font-family=\"sans-serif\" font-size=\"11\" lengthAdjust=\"spacingAndGlyphs\" textLength=\"29\" x=\"46\" y=\"257.9526\">p1: P</text><text fill=\"#000000\" font-family=\"sans-serif\" font-size=\"11\" lengthAdjust=\"spacingAndGlyphs\" textLength=\"38\" x=\"46\" y=\"270.7573\">p2: ~P</text><line style=\"stroke: #383838; stroke-width: 1.0;\" x1=\"41\" x2=\"50\" y1=\"241.3398\" y2=\"241.3398\"/><text fill=\"#000000\" font-family=\"sans-serif\" font-size=\"11\" lengthAdjust=\"spacingAndGlyphs\" textLength=\"30\" x=\"50\" y=\"244.6479\">ports</text><line style=\"stroke: #383838; stroke-width: 1.0;\" x1=\"80\" x2=\"89\" y1=\"241.3398\" y2=\"241.3398\"/></a><!--MD5=[062ed86c389d1a88f61c6380d0491e17]\n",
       "reverse link E12 to E13--><a href=\"psysml:072097f8-3b46-444f-b0fb-f8fd70c894a4\" target=\"_top\" title=\"psysml:072097f8-3b46-444f-b0fb-f8fd70c894a4\" xlink:actuate=\"onRequest\" xlink:href=\"psysml:072097f8-3b46-444f-b0fb-f8fd70c894a4\" xlink:show=\"new\" xlink:title=\"psysml:072097f8-3b46-444f-b0fb-f8fd70c894a4\" xlink:type=\"simple\"><path d=\"M65,121.25 C65,141.54 65,167.2 65,188.71 \" fill=\"none\" id=\"E12&lt;-E13\" style=\"stroke: #383838; stroke-width: 1.0;\"/><polygon fill=\"#383838\" points=\"65,108.17,61,114.17,65,120.17,69,114.17,65,108.17\" style=\"stroke: #383838; stroke-width: 1.0;\"/></a><!--MD5=[04bfcf5400a006879e1d6f5dc4005175]\n",
       "@startuml\r\n",
       "skinparam monochrome true\r\n",
       "skinparam classbackgroundcolor white\r\n",
       "skinparam shadowing false\r\n",
       "skinparam wrapWidth 300\r\n",
       "hide circle\r\n",
       "\r\n",
       "package \"ConjugationTest\" as E1  [[psysml:34192d11-634f-45f2-bc4e-1f94e63724b0 ]]  {\r\n",
       "comp def \"P\" as E2  <<(T,blue)port def>> [[psysml:c663f064-4c04-4527-821b-19ee83969177 ]] {\r\n",
       "}\r\n",
       "comp def \"B\" as E3  <<(T,blue)part def>> [[psysml:e064966f-e96c-463a-b744-2c95fe6cd8a1 ]] {\r\n",
       "- - ports - -\r\n",
       "p1: P\r\n",
       "p2: ~P\r\n",
       "}\r\n",
       "comp def \"A\" as E6  <<(T,blue)connection def>> [[psysml:005e78a8-b799-41cc-8c3e-bd1642b3bc90 ]] {\r\n",
       "- - ports - -\r\n",
       "p1: P\r\n",
       "p2: ~P\r\n",
       "}\r\n",
       "comp def \"I\" as E9  <<(T,blue)interface def>> [[psysml:21ca298b-43fb-4a5a-8828-d457e715a9a7 ]] {\r\n",
       "- - ports - -\r\n",
       "p1: P\r\n",
       "p2: ~P\r\n",
       "}\r\n",
       "comp def \"B1\" as E12  <<(T,blue)part def>> [[psysml:805f8ddd-ca4a-414c-92f1-ea459766cc23 ]] {\r\n",
       "}\r\n",
       "comp usage \"p\" as E13  <<(T,blue)part>> [[psysml:072097f8-3b46-444f-b0fb-f8fd70c894a4 ]] {\r\n",
       "- - ports - -\r\n",
       "p1: P\r\n",
       "p2: ~P\r\n",
       "}\r\n",
       "E12 *- - E13 [[psysml:072097f8-3b46-444f-b0fb-f8fd70c894a4 ]] \r\n",
       "}\r\n",
       "@enduml\r\n",
       "\n",
       "PlantUML version 1.2020.13(Sat Jun 13 12:26:38 UTC 2020)\n",
       "(EPL source distribution)\n",
       "Java Runtime: OpenJDK Runtime Environment\n",
       "JVM: OpenJDK 64-Bit Server VM\n",
       "Default Encoding: UTF-8\n",
       "Language: en\n",
       "Country: null\n",
       "--></g></svg>"
      ]
     },
     "execution_count": 37,
     "metadata": {},
     "output_type": "execute_result"
    }
   ],
   "source": [
    "%viz --style=\"DEFAULT\" --view=\"Default\" \"ConjugationTest\""
   ]
  },
  {
   "cell_type": "code",
   "execution_count": 38,
   "id": "drawn-homework",
   "metadata": {
    "execution": {
     "iopub.execute_input": "2021-03-25T15:04:07.336410Z",
     "iopub.status.busy": "2021-03-25T15:04:07.335876Z",
     "iopub.status.idle": "2021-03-25T15:04:07.993079Z",
     "shell.execute_reply": "2021-03-25T15:04:07.991204Z"
    }
   },
   "outputs": [
    {
     "data": {
      "image/svg+xml": [
       "<?xml version=\"1.0\" encoding=\"UTF-8\" standalone=\"no\"?><svg xmlns=\"http://www.w3.org/2000/svg\" xmlns:xlink=\"http://www.w3.org/1999/xlink\" contentScriptType=\"application/ecmascript\" contentStyleType=\"text/css\" height=\"305px\" preserveAspectRatio=\"none\" style=\"width:614px;height:305px;\" version=\"1.1\" viewBox=\"0 0 614 305\" width=\"614px\" zoomAndPan=\"magnify\"><defs/><g><!--MD5=[fbc87193dbaf4d95561dea2c320d4a47]\n",
       "cluster E1--><a href=\"psysml:34192d11-634f-45f2-bc4e-1f94e63724b0\" target=\"_top\" title=\"psysml:34192d11-634f-45f2-bc4e-1f94e63724b0\" xlink:actuate=\"onRequest\" xlink:href=\"psysml:34192d11-634f-45f2-bc4e-1f94e63724b0\" xlink:show=\"new\" xlink:title=\"psysml:34192d11-634f-45f2-bc4e-1f94e63724b0\" xlink:type=\"simple\"><polygon fill=\"#FFFFFF\" points=\"16,6,151,6,158,28.2969,592,28.2969,592,293,16,293,16,6\" style=\"stroke: #000000; stroke-width: 1.5;\"/><line style=\"stroke: #000000; stroke-width: 1.5;\" x1=\"16\" x2=\"158\" y1=\"28.2969\" y2=\"28.2969\"/><text fill=\"#000000\" font-family=\"sans-serif\" font-size=\"14\" font-weight=\"bold\" lengthAdjust=\"spacingAndGlyphs\" textLength=\"129\" x=\"20\" y=\"20.9951\">ConjugationTest</text></a><!--MD5=[b4997ac47864f28c2f74865a473b2911]\n",
       "class E2--><a href=\"psysml:c663f064-4c04-4527-821b-19ee83969177\" target=\"_top\" title=\"psysml:c663f064-4c04-4527-821b-19ee83969177\" xlink:actuate=\"onRequest\" xlink:href=\"psysml:c663f064-4c04-4527-821b-19ee83969177\" xlink:show=\"new\" xlink:title=\"psysml:c663f064-4c04-4527-821b-19ee83969177\" xlink:type=\"simple\"><rect fill=\"#FFFFFF\" height=\"45.9375\" id=\"E2\" style=\"stroke: #383838; stroke-width: 1.5;\" width=\"66\" x=\"510\" y=\"62\"/><text fill=\"#000000\" font-family=\"sans-serif\" font-size=\"12\" font-style=\"italic\" lengthAdjust=\"spacingAndGlyphs\" textLength=\"64\" x=\"511\" y=\"78.1387\">«port def»</text><text fill=\"#000000\" font-family=\"sans-serif\" font-size=\"12\" lengthAdjust=\"spacingAndGlyphs\" textLength=\"8\" x=\"539\" y=\"92.1074\">P</text><line style=\"stroke: #383838; stroke-width: 1.5;\" x1=\"511\" x2=\"575\" y1=\"99.9375\" y2=\"99.9375\"/></a><!--MD5=[09b614a08d8cba4a07c9adeb5e0fee81]\n",
       "class E3--><a href=\"psysml:e064966f-e96c-463a-b744-2c95fe6cd8a1\" target=\"_top\" title=\"psysml:e064966f-e96c-463a-b744-2c95fe6cd8a1\" xlink:actuate=\"onRequest\" xlink:href=\"psysml:e064966f-e96c-463a-b744-2c95fe6cd8a1\" xlink:show=\"new\" xlink:title=\"psysml:e064966f-e96c-463a-b744-2c95fe6cd8a1\" xlink:type=\"simple\"><rect fill=\"#FFFFFF\" height=\"88.3516\" id=\"E3\" style=\"stroke: #383838; stroke-width: 1.5;\" width=\"66\" x=\"409\" y=\"41\"/><text fill=\"#000000\" font-family=\"sans-serif\" font-size=\"12\" font-style=\"italic\" lengthAdjust=\"spacingAndGlyphs\" textLength=\"64\" x=\"410\" y=\"57.1387\">«part def»</text><text fill=\"#000000\" font-family=\"sans-serif\" font-size=\"12\" lengthAdjust=\"spacingAndGlyphs\" textLength=\"8\" x=\"438\" y=\"71.1074\">B</text><line style=\"stroke: #383838; stroke-width: 1.5;\" x1=\"410\" x2=\"474\" y1=\"78.9375\" y2=\"78.9375\"/><text fill=\"#000000\" font-family=\"sans-serif\" font-size=\"11\" lengthAdjust=\"spacingAndGlyphs\" textLength=\"29\" x=\"415\" y=\"109.9526\">p1: P</text><text fill=\"#000000\" font-family=\"sans-serif\" font-size=\"11\" lengthAdjust=\"spacingAndGlyphs\" textLength=\"38\" x=\"415\" y=\"122.7573\">p2: ~P</text><line style=\"stroke: #383838; stroke-width: 1.0;\" x1=\"410\" x2=\"427\" y1=\"93.3398\" y2=\"93.3398\"/><text fill=\"#000000\" font-family=\"sans-serif\" font-size=\"11\" lengthAdjust=\"spacingAndGlyphs\" textLength=\"30\" x=\"427\" y=\"96.6479\">ports</text><line style=\"stroke: #383838; stroke-width: 1.0;\" x1=\"457\" x2=\"474\" y1=\"93.3398\" y2=\"93.3398\"/></a><!--MD5=[60a26617385b1d2d0262a64233df1f8d]\n",
       "class E6--><a href=\"psysml:005e78a8-b799-41cc-8c3e-bd1642b3bc90\" target=\"_top\" title=\"psysml:005e78a8-b799-41cc-8c3e-bd1642b3bc90\" xlink:actuate=\"onRequest\" xlink:href=\"psysml:005e78a8-b799-41cc-8c3e-bd1642b3bc90\" xlink:show=\"new\" xlink:title=\"psysml:005e78a8-b799-41cc-8c3e-bd1642b3bc90\" xlink:type=\"simple\"><rect fill=\"#FFFFFF\" height=\"88.3516\" id=\"E6\" style=\"stroke: #383838; stroke-width: 1.5;\" width=\"110\" x=\"264\" y=\"41\"/><text fill=\"#000000\" font-family=\"sans-serif\" font-size=\"12\" font-style=\"italic\" lengthAdjust=\"spacingAndGlyphs\" textLength=\"108\" x=\"265\" y=\"57.1387\">«connection def»</text><text fill=\"#000000\" font-family=\"sans-serif\" font-size=\"12\" lengthAdjust=\"spacingAndGlyphs\" textLength=\"8\" x=\"315\" y=\"71.1074\">A</text><line style=\"stroke: #383838; stroke-width: 1.5;\" x1=\"265\" x2=\"373\" y1=\"78.9375\" y2=\"78.9375\"/><text fill=\"#000000\" font-family=\"sans-serif\" font-size=\"11\" lengthAdjust=\"spacingAndGlyphs\" textLength=\"29\" x=\"270\" y=\"109.9526\">p1: P</text><text fill=\"#000000\" font-family=\"sans-serif\" font-size=\"11\" lengthAdjust=\"spacingAndGlyphs\" textLength=\"38\" x=\"270\" y=\"122.7573\">p2: ~P</text><line style=\"stroke: #383838; stroke-width: 1.0;\" x1=\"265\" x2=\"304\" y1=\"93.3398\" y2=\"93.3398\"/><text fill=\"#000000\" font-family=\"sans-serif\" font-size=\"11\" lengthAdjust=\"spacingAndGlyphs\" textLength=\"30\" x=\"304\" y=\"96.6479\">ports</text><line style=\"stroke: #383838; stroke-width: 1.0;\" x1=\"334\" x2=\"373\" y1=\"93.3398\" y2=\"93.3398\"/></a><!--MD5=[fd4143e9d270a159db93a4ea2a975926]\n",
       "class E9--><a href=\"psysml:21ca298b-43fb-4a5a-8828-d457e715a9a7\" target=\"_top\" title=\"psysml:21ca298b-43fb-4a5a-8828-d457e715a9a7\" xlink:actuate=\"onRequest\" xlink:href=\"psysml:21ca298b-43fb-4a5a-8828-d457e715a9a7\" xlink:show=\"new\" xlink:title=\"psysml:21ca298b-43fb-4a5a-8828-d457e715a9a7\" xlink:type=\"simple\"><rect fill=\"#FFFFFF\" height=\"88.3516\" id=\"E9\" style=\"stroke: #383838; stroke-width: 1.5;\" width=\"96\" x=\"133\" y=\"41\"/><text fill=\"#000000\" font-family=\"sans-serif\" font-size=\"12\" font-style=\"italic\" lengthAdjust=\"spacingAndGlyphs\" textLength=\"94\" x=\"134\" y=\"57.1387\">«interface def»</text><text fill=\"#000000\" font-family=\"sans-serif\" font-size=\"12\" lengthAdjust=\"spacingAndGlyphs\" textLength=\"3\" x=\"179.5\" y=\"71.1074\">I</text><line style=\"stroke: #383838; stroke-width: 1.5;\" x1=\"134\" x2=\"228\" y1=\"78.9375\" y2=\"78.9375\"/><text fill=\"#000000\" font-family=\"sans-serif\" font-size=\"11\" lengthAdjust=\"spacingAndGlyphs\" textLength=\"29\" x=\"139\" y=\"109.9526\">p1: P</text><text fill=\"#000000\" font-family=\"sans-serif\" font-size=\"11\" lengthAdjust=\"spacingAndGlyphs\" textLength=\"38\" x=\"139\" y=\"122.7573\">p2: ~P</text><line style=\"stroke: #383838; stroke-width: 1.0;\" x1=\"134\" x2=\"166\" y1=\"93.3398\" y2=\"93.3398\"/><text fill=\"#000000\" font-family=\"sans-serif\" font-size=\"11\" lengthAdjust=\"spacingAndGlyphs\" textLength=\"30\" x=\"166\" y=\"96.6479\">ports</text><line style=\"stroke: #383838; stroke-width: 1.0;\" x1=\"196\" x2=\"228\" y1=\"93.3398\" y2=\"93.3398\"/></a><!--MD5=[49a0ec8f00dab7302a31f22d0f0fe584]\n",
       "class E12--><a href=\"psysml:805f8ddd-ca4a-414c-92f1-ea459766cc23\" target=\"_top\" title=\"psysml:805f8ddd-ca4a-414c-92f1-ea459766cc23\" xlink:actuate=\"onRequest\" xlink:href=\"psysml:805f8ddd-ca4a-414c-92f1-ea459766cc23\" xlink:show=\"new\" xlink:title=\"psysml:805f8ddd-ca4a-414c-92f1-ea459766cc23\" xlink:type=\"simple\"><rect fill=\"#FFFFFF\" height=\"45.9375\" id=\"E12\" style=\"stroke: #383838; stroke-width: 1.5;\" width=\"66\" x=\"32\" y=\"62\"/><text fill=\"#000000\" font-family=\"sans-serif\" font-size=\"12\" font-style=\"italic\" lengthAdjust=\"spacingAndGlyphs\" textLength=\"64\" x=\"33\" y=\"78.1387\">«part def»</text><text fill=\"#000000\" font-family=\"sans-serif\" font-size=\"12\" lengthAdjust=\"spacingAndGlyphs\" textLength=\"16\" x=\"57\" y=\"92.1074\">B1</text><line style=\"stroke: #383838; stroke-width: 1.5;\" x1=\"33\" x2=\"97\" y1=\"99.9375\" y2=\"99.9375\"/></a><!--MD5=[ee3c913d1a06f366521f9ef512b67efe]\n",
       "class E13--><a href=\"psysml:072097f8-3b46-444f-b0fb-f8fd70c894a4\" target=\"_top\" title=\"psysml:072097f8-3b46-444f-b0fb-f8fd70c894a4\" xlink:actuate=\"onRequest\" xlink:href=\"psysml:072097f8-3b46-444f-b0fb-f8fd70c894a4\" xlink:show=\"new\" xlink:title=\"psysml:072097f8-3b46-444f-b0fb-f8fd70c894a4\" xlink:type=\"simple\"><rect fill=\"#FFFFFF\" height=\"88.3516\" id=\"E13\" rx=\"10\" ry=\"10\" style=\"stroke: #383838; stroke-width: 1.5;\" width=\"50\" x=\"40\" y=\"189\"/><text fill=\"#000000\" font-family=\"sans-serif\" font-size=\"12\" font-style=\"italic\" lengthAdjust=\"spacingAndGlyphs\" textLength=\"40\" x=\"45\" y=\"205.1387\">«part»</text><text fill=\"#000000\" font-family=\"sans-serif\" font-size=\"12\" lengthAdjust=\"spacingAndGlyphs\" textLength=\"8\" x=\"61\" y=\"219.1074\">p</text><line style=\"stroke: #383838; stroke-width: 1.5;\" x1=\"41\" x2=\"89\" y1=\"226.9375\" y2=\"226.9375\"/><text fill=\"#000000\" font-family=\"sans-serif\" font-size=\"11\" lengthAdjust=\"spacingAndGlyphs\" textLength=\"29\" x=\"46\" y=\"257.9526\">p1: P</text><text fill=\"#000000\" font-family=\"sans-serif\" font-size=\"11\" lengthAdjust=\"spacingAndGlyphs\" textLength=\"38\" x=\"46\" y=\"270.7573\">p2: ~P</text><line style=\"stroke: #383838; stroke-width: 1.0;\" x1=\"41\" x2=\"50\" y1=\"241.3398\" y2=\"241.3398\"/><text fill=\"#000000\" font-family=\"sans-serif\" font-size=\"11\" lengthAdjust=\"spacingAndGlyphs\" textLength=\"30\" x=\"50\" y=\"244.6479\">ports</text><line style=\"stroke: #383838; stroke-width: 1.0;\" x1=\"80\" x2=\"89\" y1=\"241.3398\" y2=\"241.3398\"/></a><!--MD5=[062ed86c389d1a88f61c6380d0491e17]\n",
       "reverse link E12 to E13--><a href=\"psysml:072097f8-3b46-444f-b0fb-f8fd70c894a4\" target=\"_top\" title=\"psysml:072097f8-3b46-444f-b0fb-f8fd70c894a4\" xlink:actuate=\"onRequest\" xlink:href=\"psysml:072097f8-3b46-444f-b0fb-f8fd70c894a4\" xlink:show=\"new\" xlink:title=\"psysml:072097f8-3b46-444f-b0fb-f8fd70c894a4\" xlink:type=\"simple\"><path d=\"M65,121.25 C65,141.54 65,167.2 65,188.71 \" fill=\"none\" id=\"E12&lt;-E13\" style=\"stroke: #383838; stroke-width: 1.0;\"/><polygon fill=\"#383838\" points=\"65,108.17,61,114.17,65,120.17,69,114.17,65,108.17\" style=\"stroke: #383838; stroke-width: 1.0;\"/></a><!--MD5=[04bfcf5400a006879e1d6f5dc4005175]\n",
       "@startuml\r\n",
       "skinparam monochrome true\r\n",
       "skinparam classbackgroundcolor white\r\n",
       "skinparam shadowing false\r\n",
       "skinparam wrapWidth 300\r\n",
       "hide circle\r\n",
       "\r\n",
       "package \"ConjugationTest\" as E1  [[psysml:34192d11-634f-45f2-bc4e-1f94e63724b0 ]]  {\r\n",
       "comp def \"P\" as E2  <<(T,blue)port def>> [[psysml:c663f064-4c04-4527-821b-19ee83969177 ]] {\r\n",
       "}\r\n",
       "comp def \"B\" as E3  <<(T,blue)part def>> [[psysml:e064966f-e96c-463a-b744-2c95fe6cd8a1 ]] {\r\n",
       "- - ports - -\r\n",
       "p1: P\r\n",
       "p2: ~P\r\n",
       "}\r\n",
       "comp def \"A\" as E6  <<(T,blue)connection def>> [[psysml:005e78a8-b799-41cc-8c3e-bd1642b3bc90 ]] {\r\n",
       "- - ports - -\r\n",
       "p1: P\r\n",
       "p2: ~P\r\n",
       "}\r\n",
       "comp def \"I\" as E9  <<(T,blue)interface def>> [[psysml:21ca298b-43fb-4a5a-8828-d457e715a9a7 ]] {\r\n",
       "- - ports - -\r\n",
       "p1: P\r\n",
       "p2: ~P\r\n",
       "}\r\n",
       "comp def \"B1\" as E12  <<(T,blue)part def>> [[psysml:805f8ddd-ca4a-414c-92f1-ea459766cc23 ]] {\r\n",
       "}\r\n",
       "comp usage \"p\" as E13  <<(T,blue)part>> [[psysml:072097f8-3b46-444f-b0fb-f8fd70c894a4 ]] {\r\n",
       "- - ports - -\r\n",
       "p1: P\r\n",
       "p2: ~P\r\n",
       "}\r\n",
       "E12 *- - E13 [[psysml:072097f8-3b46-444f-b0fb-f8fd70c894a4 ]] \r\n",
       "}\r\n",
       "@enduml\r\n",
       "\n",
       "PlantUML version 1.2020.13(Sat Jun 13 12:26:38 UTC 2020)\n",
       "(EPL source distribution)\n",
       "Java Runtime: OpenJDK Runtime Environment\n",
       "JVM: OpenJDK 64-Bit Server VM\n",
       "Default Encoding: UTF-8\n",
       "Language: en\n",
       "Country: null\n",
       "--></g></svg>"
      ]
     },
     "execution_count": 38,
     "metadata": {},
     "output_type": "execute_result"
    }
   ],
   "source": [
    "%viz --style=\"DEFAULT\" --view=\"Tree\" \"ConjugationTest\""
   ]
  },
  {
   "cell_type": "code",
   "execution_count": 39,
   "id": "persistent-regard",
   "metadata": {
    "execution": {
     "iopub.execute_input": "2021-03-25T15:04:08.042879Z",
     "iopub.status.busy": "2021-03-25T15:04:08.042407Z",
     "iopub.status.idle": "2021-03-25T15:04:08.049577Z",
     "shell.execute_reply": "2021-03-25T15:04:08.049234Z"
    }
   },
   "outputs": [
    {
     "data": {
      "image/svg+xml": [
       "<?xml version=\"1.0\" encoding=\"UTF-8\" standalone=\"no\"?><svg xmlns=\"http://www.w3.org/2000/svg\" xmlns:xlink=\"http://www.w3.org/1999/xlink\" contentScriptType=\"application/ecmascript\" contentStyleType=\"text/css\" height=\"12px\" preserveAspectRatio=\"none\" style=\"width:12px;height:12px;\" version=\"1.1\" viewBox=\"0 0 12 12\" width=\"12px\" zoomAndPan=\"magnify\"><defs/><g><!--MD5=[c5f280e076d0d61ccf4b0f27871bda1d]\n",
       "@startuml\r\n",
       "skinparam monochrome true\r\n",
       "skinparam classbackgroundcolor white\r\n",
       "skinparam shadowing false\r\n",
       "skinparam wrapWidth 300\r\n",
       "hide circle\r\n",
       "\r\n",
       "@enduml\r\n",
       "\n",
       "PlantUML version 1.2020.13(Sat Jun 13 12:26:38 UTC 2020)\n",
       "(EPL source distribution)\n",
       "Java Runtime: OpenJDK Runtime Environment\n",
       "JVM: OpenJDK 64-Bit Server VM\n",
       "Default Encoding: UTF-8\n",
       "Language: en\n",
       "Country: null\n",
       "--></g></svg>"
      ]
     },
     "execution_count": 39,
     "metadata": {},
     "output_type": "execute_result"
    }
   ],
   "source": [
    "%viz --style=\"DEFAULT\" --view=\"State\" \"ConjugationTest\""
   ]
  },
  {
   "cell_type": "code",
   "execution_count": 40,
   "id": "pediatric-beads",
   "metadata": {
    "execution": {
     "iopub.execute_input": "2021-03-25T15:04:08.103210Z",
     "iopub.status.busy": "2021-03-25T15:04:08.100873Z",
     "iopub.status.idle": "2021-03-25T15:04:08.278394Z",
     "shell.execute_reply": "2021-03-25T15:04:08.277097Z"
    }
   },
   "outputs": [
    {
     "data": {
      "image/svg+xml": [
       "<?xml version=\"1.0\" encoding=\"UTF-8\" standalone=\"no\"?><svg xmlns=\"http://www.w3.org/2000/svg\" xmlns:xlink=\"http://www.w3.org/1999/xlink\" contentScriptType=\"application/ecmascript\" contentStyleType=\"text/css\" height=\"252px\" preserveAspectRatio=\"none\" style=\"width:781px;height:252px;\" version=\"1.1\" viewBox=\"0 0 781 252\" width=\"781px\" zoomAndPan=\"magnify\"><defs/><g><!--MD5=[fbc87193dbaf4d95561dea2c320d4a47]\n",
       "cluster E1--><a href=\"psysml:34192d11-634f-45f2-bc4e-1f94e63724b0\" target=\"_top\" title=\"psysml:34192d11-634f-45f2-bc4e-1f94e63724b0\" xlink:actuate=\"onRequest\" xlink:href=\"psysml:34192d11-634f-45f2-bc4e-1f94e63724b0\" xlink:show=\"new\" xlink:title=\"psysml:34192d11-634f-45f2-bc4e-1f94e63724b0\" xlink:type=\"simple\"><polygon fill=\"#FFFFFF\" points=\"16,6,151,6,158,28.2969,759,28.2969,759,240,16,240,16,6\" style=\"stroke: #000000; stroke-width: 1.5;\"/><line style=\"stroke: #000000; stroke-width: 1.5;\" x1=\"16\" x2=\"158\" y1=\"28.2969\" y2=\"28.2969\"/><text fill=\"#000000\" font-family=\"sans-serif\" font-size=\"14\" font-weight=\"bold\" lengthAdjust=\"spacingAndGlyphs\" textLength=\"129\" x=\"20\" y=\"20.9951\">ConjugationTest</text></a><!--MD5=[d5e69f78d87373223dbae638b30a9c99]\n",
       "cluster E3--><a href=\"psysml:e064966f-e96c-463a-b744-2c95fe6cd8a1\" target=\"_top\" title=\"psysml:e064966f-e96c-463a-b744-2c95fe6cd8a1\" xlink:actuate=\"onRequest\" xlink:href=\"psysml:e064966f-e96c-463a-b744-2c95fe6cd8a1\" xlink:show=\"new\" xlink:title=\"psysml:e064966f-e96c-463a-b744-2c95fe6cd8a1\" xlink:type=\"simple\"><rect fill=\"#FFFFFF\" height=\"94\" id=\"E3\" style=\"stroke: #383838; stroke-width: 1.5;\" width=\"83\" x=\"619\" y=\"114\"/><rect fill=\"#F8F8F8\" height=\"37.9375\" style=\"stroke: #383838; stroke-width: 1.5;\" width=\"83\" x=\"619\" y=\"114\"/><text fill=\"#000000\" font-family=\"sans-serif\" font-size=\"12\" font-style=\"italic\" lengthAdjust=\"spacingAndGlyphs\" textLength=\"64\" x=\"628.5\" y=\"130.1387\">«part def»</text><text fill=\"#000000\" font-family=\"sans-serif\" font-size=\"12\" lengthAdjust=\"spacingAndGlyphs\" textLength=\"8\" x=\"656.5\" y=\"144.1074\">B</text></a><!--MD5=[14e3b0961a2654348d326746436168a1]\n",
       "cluster E6--><a href=\"psysml:005e78a8-b799-41cc-8c3e-bd1642b3bc90\" target=\"_top\" title=\"psysml:005e78a8-b799-41cc-8c3e-bd1642b3bc90\" xlink:actuate=\"onRequest\" xlink:href=\"psysml:005e78a8-b799-41cc-8c3e-bd1642b3bc90\" xlink:show=\"new\" xlink:title=\"psysml:005e78a8-b799-41cc-8c3e-bd1642b3bc90\" xlink:type=\"simple\"><rect fill=\"#FFFFFF\" height=\"94\" id=\"E6\" style=\"stroke: #383838; stroke-width: 1.5;\" width=\"150\" x=\"465\" y=\"114\"/><rect fill=\"#F8F8F8\" height=\"37.9375\" style=\"stroke: #383838; stroke-width: 1.5;\" width=\"150\" x=\"465\" y=\"114\"/><text fill=\"#000000\" font-family=\"sans-serif\" font-size=\"12\" font-style=\"italic\" lengthAdjust=\"spacingAndGlyphs\" textLength=\"108\" x=\"486\" y=\"130.1387\">«connection def»</text><text fill=\"#000000\" font-family=\"sans-serif\" font-size=\"12\" lengthAdjust=\"spacingAndGlyphs\" textLength=\"8\" x=\"536\" y=\"144.1074\">A</text></a><!--MD5=[7f149f147074ac12df2cb0a7728a5fb0]\n",
       "cluster E9--><a href=\"psysml:21ca298b-43fb-4a5a-8828-d457e715a9a7\" target=\"_top\" title=\"psysml:21ca298b-43fb-4a5a-8828-d457e715a9a7\" xlink:actuate=\"onRequest\" xlink:href=\"psysml:21ca298b-43fb-4a5a-8828-d457e715a9a7\" xlink:show=\"new\" xlink:title=\"psysml:21ca298b-43fb-4a5a-8828-d457e715a9a7\" xlink:type=\"simple\"><rect fill=\"#FFFFFF\" height=\"94\" id=\"E9\" style=\"stroke: #383838; stroke-width: 1.5;\" width=\"141\" x=\"296\" y=\"114\"/><rect fill=\"#F8F8F8\" height=\"37.9375\" style=\"stroke: #383838; stroke-width: 1.5;\" width=\"141\" x=\"296\" y=\"114\"/><text fill=\"#000000\" font-family=\"sans-serif\" font-size=\"12\" font-style=\"italic\" lengthAdjust=\"spacingAndGlyphs\" textLength=\"94\" x=\"319.5\" y=\"130.1387\">«interface def»</text><text fill=\"#000000\" font-family=\"sans-serif\" font-size=\"12\" lengthAdjust=\"spacingAndGlyphs\" textLength=\"3\" x=\"365\" y=\"144.1074\">I</text></a><!--MD5=[47bea60c1a0ac6c1143df232041969c0]\n",
       "cluster E12--><a href=\"psysml:805f8ddd-ca4a-414c-92f1-ea459766cc23\" target=\"_top\" title=\"psysml:805f8ddd-ca4a-414c-92f1-ea459766cc23\" xlink:actuate=\"onRequest\" xlink:href=\"psysml:805f8ddd-ca4a-414c-92f1-ea459766cc23\" xlink:show=\"new\" xlink:title=\"psysml:805f8ddd-ca4a-414c-92f1-ea459766cc23\" xlink:type=\"simple\"><rect fill=\"#FFFFFF\" height=\"167\" id=\"E12\" style=\"stroke: #383838; stroke-width: 1.5;\" width=\"107\" x=\"162\" y=\"49\"/><rect fill=\"#F8F8F8\" height=\"37.9375\" style=\"stroke: #383838; stroke-width: 1.5;\" width=\"107\" x=\"162\" y=\"49\"/><text fill=\"#000000\" font-family=\"sans-serif\" font-size=\"12\" font-style=\"italic\" lengthAdjust=\"spacingAndGlyphs\" textLength=\"64\" x=\"183.5\" y=\"65.1387\">«part def»</text><text fill=\"#000000\" font-family=\"sans-serif\" font-size=\"12\" lengthAdjust=\"spacingAndGlyphs\" textLength=\"16\" x=\"207.5\" y=\"79.1074\">B1</text></a><!--MD5=[03104f77b71e2d8d3500c651e6e31181]\n",
       "cluster E13--><a href=\"psysml:072097f8-3b46-444f-b0fb-f8fd70c894a4\" target=\"_top\" title=\"psysml:072097f8-3b46-444f-b0fb-f8fd70c894a4\" xlink:actuate=\"onRequest\" xlink:href=\"psysml:072097f8-3b46-444f-b0fb-f8fd70c894a4\" xlink:show=\"new\" xlink:title=\"psysml:072097f8-3b46-444f-b0fb-f8fd70c894a4\" xlink:type=\"simple\"><rect fill=\"#FFFFFF\" height=\"86\" id=\"E13\" rx=\"10\" ry=\"10\" style=\"stroke: #383838; stroke-width: 1.5;\" width=\"83\" x=\"174\" y=\"114\"/><rect fill=\"#F8F8F8\" height=\"23.9688\" rx=\"10\" ry=\"10\" style=\"stroke: #F8F8F8; stroke-width: 1.5;\" width=\"83\" x=\"174\" y=\"114\"/><rect fill=\"#F8F8F8\" height=\"10\" style=\"stroke: #F8F8F8; stroke-width: 1.5;\" width=\"83\" x=\"174\" y=\"127.9688\"/><rect fill=\"none\" height=\"86\" id=\"E13\" rx=\"10\" ry=\"10\" style=\"stroke: #383838; stroke-width: 1.5;\" width=\"83\" x=\"174\" y=\"114\"/><text fill=\"#000000\" font-family=\"sans-serif\" font-size=\"12\" lengthAdjust=\"spacingAndGlyphs\" textLength=\"8\" x=\"211.5\" y=\"130.1387\">p</text><line style=\"stroke: #383838; stroke-width: 1.0;\" x1=\"174\" x2=\"257\" y1=\"137.9688\" y2=\"137.9688\"/></a><!--MD5=[b4997ac47864f28c2f74865a473b2911]\n",
       "class E2--><a href=\"psysml:c663f064-4c04-4527-821b-19ee83969177\" target=\"_top\" title=\"psysml:c663f064-4c04-4527-821b-19ee83969177\" xlink:actuate=\"onRequest\" xlink:href=\"psysml:c663f064-4c04-4527-821b-19ee83969177\" xlink:show=\"new\" xlink:title=\"psysml:c663f064-4c04-4527-821b-19ee83969177\" xlink:type=\"simple\"><rect fill=\"#FFFFFF\" height=\"53.9375\" id=\"E2\" style=\"stroke: #383838; stroke-width: 1.5;\" width=\"114\" x=\"32\" y=\"87\"/><text fill=\"#000000\" font-family=\"sans-serif\" font-size=\"12\" font-style=\"italic\" lengthAdjust=\"spacingAndGlyphs\" textLength=\"112\" x=\"33\" y=\"103.1387\">«(T,blue)port def»</text><text fill=\"#000000\" font-family=\"sans-serif\" font-size=\"12\" lengthAdjust=\"spacingAndGlyphs\" textLength=\"8\" x=\"85\" y=\"117.1074\">P</text><line style=\"stroke: #383838; stroke-width: 1.5;\" x1=\"33\" x2=\"145\" y1=\"124.9375\" y2=\"124.9375\"/><line style=\"stroke: #383838; stroke-width: 1.5;\" x1=\"33\" x2=\"145\" y1=\"132.9375\" y2=\"132.9375\"/></a><text fill=\"#000000\" font-family=\"sans-serif\" font-size=\"14\" lengthAdjust=\"spacingAndGlyphs\" textLength=\"36\" x=\"619\" y=\"92.6982\">p1: P</text><rect fill=\"#383838\" height=\"12\" style=\"stroke: #F8F8F8; stroke-width: 1.5;\" width=\"12\" x=\"631\" y=\"108\"/><text fill=\"#000000\" font-family=\"sans-serif\" font-size=\"14\" lengthAdjust=\"spacingAndGlyphs\" textLength=\"48\" x=\"660\" y=\"92.6982\">p2: ~P</text><rect fill=\"#383838\" height=\"12\" style=\"stroke: #F8F8F8; stroke-width: 1.5;\" width=\"12\" x=\"678\" y=\"108\"/><text fill=\"#000000\" font-family=\"sans-serif\" font-size=\"14\" lengthAdjust=\"spacingAndGlyphs\" textLength=\"36\" x=\"465\" y=\"92.6982\">p1: P</text><rect fill=\"#383838\" height=\"12\" style=\"stroke: #F8F8F8; stroke-width: 1.5;\" width=\"12\" x=\"477\" y=\"108\"/><text fill=\"#000000\" font-family=\"sans-serif\" font-size=\"14\" lengthAdjust=\"spacingAndGlyphs\" textLength=\"48\" x=\"506\" y=\"92.6982\">p2: ~P</text><rect fill=\"#383838\" height=\"12\" style=\"stroke: #F8F8F8; stroke-width: 1.5;\" width=\"12\" x=\"524\" y=\"108\"/><text fill=\"#000000\" font-family=\"sans-serif\" font-size=\"14\" lengthAdjust=\"spacingAndGlyphs\" textLength=\"36\" x=\"296\" y=\"92.6982\">p1: P</text><rect fill=\"#383838\" height=\"12\" style=\"stroke: #F8F8F8; stroke-width: 1.5;\" width=\"12\" x=\"308\" y=\"108\"/><text fill=\"#000000\" font-family=\"sans-serif\" font-size=\"14\" lengthAdjust=\"spacingAndGlyphs\" textLength=\"48\" x=\"337\" y=\"92.6982\">p2: ~P</text><rect fill=\"#383838\" height=\"12\" style=\"stroke: #F8F8F8; stroke-width: 1.5;\" width=\"12\" x=\"355\" y=\"108\"/><text fill=\"#000000\" font-family=\"sans-serif\" font-size=\"14\" lengthAdjust=\"spacingAndGlyphs\" textLength=\"36\" x=\"174\" y=\"92.6982\">p1: P</text><rect fill=\"#383838\" height=\"12\" style=\"stroke: #F8F8F8; stroke-width: 1.5;\" width=\"12\" x=\"186\" y=\"108\"/><text fill=\"#000000\" font-family=\"sans-serif\" font-size=\"14\" lengthAdjust=\"spacingAndGlyphs\" textLength=\"48\" x=\"215\" y=\"92.6982\">p2: ~P</text><rect fill=\"#383838\" height=\"12\" style=\"stroke: #F8F8F8; stroke-width: 1.5;\" width=\"12\" x=\"233\" y=\"108\"/><!--MD5=[4ce51ac6fa4cf5202df3859e2718f033]\n",
       "link E15 to E14--><a href=\"psysml:d49afd8d-54fc-473a-b637-3cd599cd4fa7\" target=\"_top\" title=\"psysml:d49afd8d-54fc-473a-b637-3cd599cd4fa7\" xlink:actuate=\"onRequest\" xlink:href=\"psysml:d49afd8d-54fc-473a-b637-3cd599cd4fa7\" xlink:show=\"new\" xlink:title=\"psysml:d49afd8d-54fc-473a-b637-3cd599cd4fa7\" xlink:type=\"simple\"><path d=\"M232.95,114 C221.38,114 209.81,114 198.24,114 \" fill=\"none\" id=\"E15-E14\" style=\"stroke: #383838; stroke-width: 3.0;\"/></a><!--MD5=[4ce51ac6fa4cf5202df3859e2718f033]\n",
       "link E15 to E14--><a href=\"psysml:158350c1-11e6-4f2f-a89e-7037efa93dae\" target=\"_top\" title=\"psysml:158350c1-11e6-4f2f-a89e-7037efa93dae\" xlink:actuate=\"onRequest\" xlink:href=\"psysml:158350c1-11e6-4f2f-a89e-7037efa93dae\" xlink:show=\"new\" xlink:title=\"psysml:158350c1-11e6-4f2f-a89e-7037efa93dae\" xlink:type=\"simple\"><path d=\"M232.95,111.98 C221.38,108.69 209.81,108.67 198.24,111.93 \" fill=\"none\" id=\"E15-E14-1\" style=\"stroke: #383838; stroke-width: 3.0;\"/></a><!--MD5=[6fa18e6761ed6f1240bb9772f5c441bd]\n",
       "@startuml\r\n",
       "skinparam ranksep 8\r\n",
       "skinparam rectangle {\r\n",
       " backgroundColor<<block>> LightGreen\r\n",
       "}\r\n",
       "skinparam monochrome true\r\n",
       "skinparam classbackgroundcolor white\r\n",
       "skinparam shadowing false\r\n",
       "skinparam wrapWidth 300\r\n",
       "hide circle\r\n",
       "\r\n",
       "package \"ConjugationTest\" as E1  [[psysml:34192d11-634f-45f2-bc4e-1f94e63724b0 ]]  {\r\n",
       "def \"P\" as E2  <<(T,blue)port def>> [[psysml:c663f064-4c04-4527-821b-19ee83969177 ]] \r\n",
       "rec def \"B\" as E3  <<(T,blue)part def>> [[psysml:e064966f-e96c-463a-b744-2c95fe6cd8a1 ]] {\r\n",
       "portin \"p1: P\" as E4  <<(T,blue)port>> [[psysml:b8e0261a-441d-41a6-aff3-1d450c4cde6f ]] \r\n",
       "portin \"p2: ~P\" as E5  <<(T,blue)port>> [[psysml:cbde5ba2-4051-45bc-9875-629a3f045392 ]] \r\n",
       "}\r\n",
       "rec def \"A\" as E6  <<(T,blue)connection def>> [[psysml:005e78a8-b799-41cc-8c3e-bd1642b3bc90 ]] {\r\n",
       "portin \"p1: P\" as E7  <<(T,blue)port>> [[psysml:55181707-d268-487e-aa99-75d3872aefbc ]] \r\n",
       "portin \"p2: ~P\" as E8  <<(T,blue)port>> [[psysml:0ddbc9c9-6f57-4a43-9fe9-35a450e63798 ]] \r\n",
       "}\r\n",
       "rec def \"I\" as E9  <<(T,blue)interface def>> [[psysml:21ca298b-43fb-4a5a-8828-d457e715a9a7 ]] {\r\n",
       "portin \"p1: P\" as E10  <<(T,blue)port>> [[psysml:4800d5e0-15fd-4b6f-b429-bddfb731ebe9 ]] \r\n",
       "portin \"p2: ~P\" as E11  <<(T,blue)port>> [[psysml:5bc48f79-cf8d-4956-b81e-e57ba2e7fb16 ]] \r\n",
       "}\r\n",
       "rec def \"B1\" as E12  <<(T,blue)part def>> [[psysml:805f8ddd-ca4a-414c-92f1-ea459766cc23 ]] {\r\n",
       "rec usage \"p\" as E13  [[psysml:072097f8-3b46-444f-b0fb-f8fd70c894a4 ]] {\r\n",
       "portin \"p1: P\" as E14  <<(T,blue)port>> [[psysml:17432448-deec-4082-b953-29eb581620b4 ]] \r\n",
       "portin \"p2: ~P\" as E15  <<(T,blue)port>> [[psysml:c01cfbc6-39be-4cca-af9b-913ba499d52d ]] \r\n",
       "}\r\n",
       "}\r\n",
       "E15 -[thickness=3]- E14 [[psysml:d49afd8d-54fc-473a-b637-3cd599cd4fa7 ]] \r\n",
       "E15 -[thickness=3]- E14 [[psysml:158350c1-11e6-4f2f-a89e-7037efa93dae ]] \r\n",
       "}\r\n",
       "@enduml\r\n",
       "\n",
       "PlantUML version 1.2020.13(Sat Jun 13 12:26:38 UTC 2020)\n",
       "(EPL source distribution)\n",
       "Java Runtime: OpenJDK Runtime Environment\n",
       "JVM: OpenJDK 64-Bit Server VM\n",
       "Default Encoding: UTF-8\n",
       "Language: en\n",
       "Country: null\n",
       "--></g></svg>"
      ]
     },
     "execution_count": 40,
     "metadata": {},
     "output_type": "execute_result"
    }
   ],
   "source": [
    "%viz --style=\"DEFAULT\" --view=\"Interconnection\" \"ConjugationTest\""
   ]
  },
  {
   "cell_type": "code",
   "execution_count": 41,
   "id": "undefined-howard",
   "metadata": {
    "execution": {
     "iopub.execute_input": "2021-03-25T15:04:08.329319Z",
     "iopub.status.busy": "2021-03-25T15:04:08.328282Z",
     "iopub.status.idle": "2021-03-25T15:04:08.337341Z",
     "shell.execute_reply": "2021-03-25T15:04:08.336977Z"
    }
   },
   "outputs": [
    {
     "data": {
      "image/svg+xml": [
       "<?xml version=\"1.0\" encoding=\"UTF-8\" standalone=\"no\"?><svg xmlns=\"http://www.w3.org/2000/svg\" xmlns:xlink=\"http://www.w3.org/1999/xlink\" contentScriptType=\"application/ecmascript\" contentStyleType=\"text/css\" height=\"12px\" preserveAspectRatio=\"none\" style=\"width:12px;height:12px;\" version=\"1.1\" viewBox=\"0 0 12 12\" width=\"12px\" zoomAndPan=\"magnify\"><defs/><g><!--MD5=[388f21188e31bfdd97050473b19af356]\n",
       "@startuml\r\n",
       "skinparam ranksep 8\r\n",
       "skinparam monochrome true\r\n",
       "skinparam classbackgroundcolor white\r\n",
       "skinparam shadowing false\r\n",
       "skinparam wrapWidth 300\r\n",
       "hide circle\r\n",
       "\r\n",
       "@enduml\r\n",
       "\n",
       "PlantUML version 1.2020.13(Sat Jun 13 12:26:38 UTC 2020)\n",
       "(EPL source distribution)\n",
       "Java Runtime: OpenJDK Runtime Environment\n",
       "JVM: OpenJDK 64-Bit Server VM\n",
       "Default Encoding: UTF-8\n",
       "Language: en\n",
       "Country: null\n",
       "--></g></svg>"
      ]
     },
     "execution_count": 41,
     "metadata": {},
     "output_type": "execute_result"
    }
   ],
   "source": [
    "%viz --style=\"DEFAULT\" --view=\"Action\" \"ConjugationTest\""
   ]
  },
  {
   "cell_type": "code",
   "execution_count": 42,
   "id": "congressional-truth",
   "metadata": {
    "execution": {
     "iopub.execute_input": "2021-03-25T15:04:08.389138Z",
     "iopub.status.busy": "2021-03-25T15:04:08.388495Z",
     "iopub.status.idle": "2021-03-25T15:04:09.040199Z",
     "shell.execute_reply": "2021-03-25T15:04:09.038746Z"
    }
   },
   "outputs": [
    {
     "data": {
      "image/svg+xml": [
       "<?xml version=\"1.0\" encoding=\"UTF-8\" standalone=\"no\"?><svg xmlns=\"http://www.w3.org/2000/svg\" xmlns:xlink=\"http://www.w3.org/1999/xlink\" contentScriptType=\"application/ecmascript\" contentStyleType=\"text/css\" height=\"305px\" preserveAspectRatio=\"none\" style=\"width:614px;height:305px;\" version=\"1.1\" viewBox=\"0 0 614 305\" width=\"614px\" zoomAndPan=\"magnify\"><defs/><g><!--MD5=[fbc87193dbaf4d95561dea2c320d4a47]\n",
       "cluster E1--><a href=\"psysml:34192d11-634f-45f2-bc4e-1f94e63724b0\" target=\"_top\" title=\"psysml:34192d11-634f-45f2-bc4e-1f94e63724b0\" xlink:actuate=\"onRequest\" xlink:href=\"psysml:34192d11-634f-45f2-bc4e-1f94e63724b0\" xlink:show=\"new\" xlink:title=\"psysml:34192d11-634f-45f2-bc4e-1f94e63724b0\" xlink:type=\"simple\"><polygon fill=\"#FFFFFF\" points=\"16,6,151,6,158,28.2969,592,28.2969,592,293,16,293,16,6\" style=\"stroke: #000000; stroke-width: 1.5;\"/><line style=\"stroke: #000000; stroke-width: 1.5;\" x1=\"16\" x2=\"158\" y1=\"28.2969\" y2=\"28.2969\"/><text fill=\"#000000\" font-family=\"sans-serif\" font-size=\"14\" font-weight=\"bold\" lengthAdjust=\"spacingAndGlyphs\" textLength=\"129\" x=\"20\" y=\"20.9951\">ConjugationTest</text></a><!--MD5=[b4997ac47864f28c2f74865a473b2911]\n",
       "class E2--><a href=\"psysml:c663f064-4c04-4527-821b-19ee83969177\" target=\"_top\" title=\"psysml:c663f064-4c04-4527-821b-19ee83969177\" xlink:actuate=\"onRequest\" xlink:href=\"psysml:c663f064-4c04-4527-821b-19ee83969177\" xlink:show=\"new\" xlink:title=\"psysml:c663f064-4c04-4527-821b-19ee83969177\" xlink:type=\"simple\"><rect fill=\"#FFFFFF\" height=\"45.9375\" id=\"E2\" style=\"stroke: #383838; stroke-width: 1.5;\" width=\"66\" x=\"510\" y=\"62\"/><text fill=\"#000000\" font-family=\"sans-serif\" font-size=\"12\" font-style=\"italic\" lengthAdjust=\"spacingAndGlyphs\" textLength=\"64\" x=\"511\" y=\"78.1387\">«port def»</text><text fill=\"#000000\" font-family=\"sans-serif\" font-size=\"12\" lengthAdjust=\"spacingAndGlyphs\" textLength=\"8\" x=\"539\" y=\"92.1074\">P</text><line style=\"stroke: #383838; stroke-width: 1.5;\" x1=\"511\" x2=\"575\" y1=\"99.9375\" y2=\"99.9375\"/></a><!--MD5=[09b614a08d8cba4a07c9adeb5e0fee81]\n",
       "class E3--><a href=\"psysml:e064966f-e96c-463a-b744-2c95fe6cd8a1\" target=\"_top\" title=\"psysml:e064966f-e96c-463a-b744-2c95fe6cd8a1\" xlink:actuate=\"onRequest\" xlink:href=\"psysml:e064966f-e96c-463a-b744-2c95fe6cd8a1\" xlink:show=\"new\" xlink:title=\"psysml:e064966f-e96c-463a-b744-2c95fe6cd8a1\" xlink:type=\"simple\"><rect fill=\"#FFFFFF\" height=\"88.3516\" id=\"E3\" style=\"stroke: #383838; stroke-width: 1.5;\" width=\"66\" x=\"409\" y=\"41\"/><text fill=\"#000000\" font-family=\"sans-serif\" font-size=\"12\" font-style=\"italic\" lengthAdjust=\"spacingAndGlyphs\" textLength=\"64\" x=\"410\" y=\"57.1387\">«part def»</text><text fill=\"#000000\" font-family=\"sans-serif\" font-size=\"12\" lengthAdjust=\"spacingAndGlyphs\" textLength=\"8\" x=\"438\" y=\"71.1074\">B</text><line style=\"stroke: #383838; stroke-width: 1.5;\" x1=\"410\" x2=\"474\" y1=\"78.9375\" y2=\"78.9375\"/><text fill=\"#000000\" font-family=\"sans-serif\" font-size=\"11\" lengthAdjust=\"spacingAndGlyphs\" textLength=\"29\" x=\"415\" y=\"109.9526\">p1: P</text><text fill=\"#000000\" font-family=\"sans-serif\" font-size=\"11\" lengthAdjust=\"spacingAndGlyphs\" textLength=\"38\" x=\"415\" y=\"122.7573\">p2: ~P</text><line style=\"stroke: #383838; stroke-width: 1.0;\" x1=\"410\" x2=\"427\" y1=\"93.3398\" y2=\"93.3398\"/><text fill=\"#000000\" font-family=\"sans-serif\" font-size=\"11\" lengthAdjust=\"spacingAndGlyphs\" textLength=\"30\" x=\"427\" y=\"96.6479\">ports</text><line style=\"stroke: #383838; stroke-width: 1.0;\" x1=\"457\" x2=\"474\" y1=\"93.3398\" y2=\"93.3398\"/></a><!--MD5=[60a26617385b1d2d0262a64233df1f8d]\n",
       "class E6--><a href=\"psysml:005e78a8-b799-41cc-8c3e-bd1642b3bc90\" target=\"_top\" title=\"psysml:005e78a8-b799-41cc-8c3e-bd1642b3bc90\" xlink:actuate=\"onRequest\" xlink:href=\"psysml:005e78a8-b799-41cc-8c3e-bd1642b3bc90\" xlink:show=\"new\" xlink:title=\"psysml:005e78a8-b799-41cc-8c3e-bd1642b3bc90\" xlink:type=\"simple\"><rect fill=\"#FFFFFF\" height=\"88.3516\" id=\"E6\" style=\"stroke: #383838; stroke-width: 1.5;\" width=\"110\" x=\"264\" y=\"41\"/><text fill=\"#000000\" font-family=\"sans-serif\" font-size=\"12\" font-style=\"italic\" lengthAdjust=\"spacingAndGlyphs\" textLength=\"108\" x=\"265\" y=\"57.1387\">«connection def»</text><text fill=\"#000000\" font-family=\"sans-serif\" font-size=\"12\" lengthAdjust=\"spacingAndGlyphs\" textLength=\"8\" x=\"315\" y=\"71.1074\">A</text><line style=\"stroke: #383838; stroke-width: 1.5;\" x1=\"265\" x2=\"373\" y1=\"78.9375\" y2=\"78.9375\"/><text fill=\"#000000\" font-family=\"sans-serif\" font-size=\"11\" lengthAdjust=\"spacingAndGlyphs\" textLength=\"29\" x=\"270\" y=\"109.9526\">p1: P</text><text fill=\"#000000\" font-family=\"sans-serif\" font-size=\"11\" lengthAdjust=\"spacingAndGlyphs\" textLength=\"38\" x=\"270\" y=\"122.7573\">p2: ~P</text><line style=\"stroke: #383838; stroke-width: 1.0;\" x1=\"265\" x2=\"304\" y1=\"93.3398\" y2=\"93.3398\"/><text fill=\"#000000\" font-family=\"sans-serif\" font-size=\"11\" lengthAdjust=\"spacingAndGlyphs\" textLength=\"30\" x=\"304\" y=\"96.6479\">ports</text><line style=\"stroke: #383838; stroke-width: 1.0;\" x1=\"334\" x2=\"373\" y1=\"93.3398\" y2=\"93.3398\"/></a><!--MD5=[fd4143e9d270a159db93a4ea2a975926]\n",
       "class E9--><a href=\"psysml:21ca298b-43fb-4a5a-8828-d457e715a9a7\" target=\"_top\" title=\"psysml:21ca298b-43fb-4a5a-8828-d457e715a9a7\" xlink:actuate=\"onRequest\" xlink:href=\"psysml:21ca298b-43fb-4a5a-8828-d457e715a9a7\" xlink:show=\"new\" xlink:title=\"psysml:21ca298b-43fb-4a5a-8828-d457e715a9a7\" xlink:type=\"simple\"><rect fill=\"#FFFFFF\" height=\"88.3516\" id=\"E9\" style=\"stroke: #383838; stroke-width: 1.5;\" width=\"96\" x=\"133\" y=\"41\"/><text fill=\"#000000\" font-family=\"sans-serif\" font-size=\"12\" font-style=\"italic\" lengthAdjust=\"spacingAndGlyphs\" textLength=\"94\" x=\"134\" y=\"57.1387\">«interface def»</text><text fill=\"#000000\" font-family=\"sans-serif\" font-size=\"12\" lengthAdjust=\"spacingAndGlyphs\" textLength=\"3\" x=\"179.5\" y=\"71.1074\">I</text><line style=\"stroke: #383838; stroke-width: 1.5;\" x1=\"134\" x2=\"228\" y1=\"78.9375\" y2=\"78.9375\"/><text fill=\"#000000\" font-family=\"sans-serif\" font-size=\"11\" lengthAdjust=\"spacingAndGlyphs\" textLength=\"29\" x=\"139\" y=\"109.9526\">p1: P</text><text fill=\"#000000\" font-family=\"sans-serif\" font-size=\"11\" lengthAdjust=\"spacingAndGlyphs\" textLength=\"38\" x=\"139\" y=\"122.7573\">p2: ~P</text><line style=\"stroke: #383838; stroke-width: 1.0;\" x1=\"134\" x2=\"166\" y1=\"93.3398\" y2=\"93.3398\"/><text fill=\"#000000\" font-family=\"sans-serif\" font-size=\"11\" lengthAdjust=\"spacingAndGlyphs\" textLength=\"30\" x=\"166\" y=\"96.6479\">ports</text><line style=\"stroke: #383838; stroke-width: 1.0;\" x1=\"196\" x2=\"228\" y1=\"93.3398\" y2=\"93.3398\"/></a><!--MD5=[49a0ec8f00dab7302a31f22d0f0fe584]\n",
       "class E12--><a href=\"psysml:805f8ddd-ca4a-414c-92f1-ea459766cc23\" target=\"_top\" title=\"psysml:805f8ddd-ca4a-414c-92f1-ea459766cc23\" xlink:actuate=\"onRequest\" xlink:href=\"psysml:805f8ddd-ca4a-414c-92f1-ea459766cc23\" xlink:show=\"new\" xlink:title=\"psysml:805f8ddd-ca4a-414c-92f1-ea459766cc23\" xlink:type=\"simple\"><rect fill=\"#FFFFFF\" height=\"45.9375\" id=\"E12\" style=\"stroke: #383838; stroke-width: 1.5;\" width=\"66\" x=\"32\" y=\"62\"/><text fill=\"#000000\" font-family=\"sans-serif\" font-size=\"12\" font-style=\"italic\" lengthAdjust=\"spacingAndGlyphs\" textLength=\"64\" x=\"33\" y=\"78.1387\">«part def»</text><text fill=\"#000000\" font-family=\"sans-serif\" font-size=\"12\" lengthAdjust=\"spacingAndGlyphs\" textLength=\"16\" x=\"57\" y=\"92.1074\">B1</text><line style=\"stroke: #383838; stroke-width: 1.5;\" x1=\"33\" x2=\"97\" y1=\"99.9375\" y2=\"99.9375\"/></a><!--MD5=[ee3c913d1a06f366521f9ef512b67efe]\n",
       "class E13--><a href=\"psysml:072097f8-3b46-444f-b0fb-f8fd70c894a4\" target=\"_top\" title=\"psysml:072097f8-3b46-444f-b0fb-f8fd70c894a4\" xlink:actuate=\"onRequest\" xlink:href=\"psysml:072097f8-3b46-444f-b0fb-f8fd70c894a4\" xlink:show=\"new\" xlink:title=\"psysml:072097f8-3b46-444f-b0fb-f8fd70c894a4\" xlink:type=\"simple\"><rect fill=\"#FFFFFF\" height=\"88.3516\" id=\"E13\" rx=\"10\" ry=\"10\" style=\"stroke: #383838; stroke-width: 1.5;\" width=\"50\" x=\"40\" y=\"189\"/><text fill=\"#000000\" font-family=\"sans-serif\" font-size=\"12\" font-style=\"italic\" lengthAdjust=\"spacingAndGlyphs\" textLength=\"40\" x=\"45\" y=\"205.1387\">«part»</text><text fill=\"#000000\" font-family=\"sans-serif\" font-size=\"12\" lengthAdjust=\"spacingAndGlyphs\" textLength=\"8\" x=\"61\" y=\"219.1074\">p</text><line style=\"stroke: #383838; stroke-width: 1.5;\" x1=\"41\" x2=\"89\" y1=\"226.9375\" y2=\"226.9375\"/><text fill=\"#000000\" font-family=\"sans-serif\" font-size=\"11\" lengthAdjust=\"spacingAndGlyphs\" textLength=\"29\" x=\"46\" y=\"257.9526\">p1: P</text><text fill=\"#000000\" font-family=\"sans-serif\" font-size=\"11\" lengthAdjust=\"spacingAndGlyphs\" textLength=\"38\" x=\"46\" y=\"270.7573\">p2: ~P</text><line style=\"stroke: #383838; stroke-width: 1.0;\" x1=\"41\" x2=\"50\" y1=\"241.3398\" y2=\"241.3398\"/><text fill=\"#000000\" font-family=\"sans-serif\" font-size=\"11\" lengthAdjust=\"spacingAndGlyphs\" textLength=\"30\" x=\"50\" y=\"244.6479\">ports</text><line style=\"stroke: #383838; stroke-width: 1.0;\" x1=\"80\" x2=\"89\" y1=\"241.3398\" y2=\"241.3398\"/></a><!--MD5=[062ed86c389d1a88f61c6380d0491e17]\n",
       "reverse link E12 to E13--><a href=\"psysml:072097f8-3b46-444f-b0fb-f8fd70c894a4\" target=\"_top\" title=\"psysml:072097f8-3b46-444f-b0fb-f8fd70c894a4\" xlink:actuate=\"onRequest\" xlink:href=\"psysml:072097f8-3b46-444f-b0fb-f8fd70c894a4\" xlink:show=\"new\" xlink:title=\"psysml:072097f8-3b46-444f-b0fb-f8fd70c894a4\" xlink:type=\"simple\"><path d=\"M65,121.25 C65,141.54 65,167.2 65,188.71 \" fill=\"none\" id=\"E12&lt;-E13\" style=\"stroke: #383838; stroke-width: 1.0;\"/><polygon fill=\"#383838\" points=\"65,108.17,61,114.17,65,120.17,69,114.17,65,108.17\" style=\"stroke: #383838; stroke-width: 1.0;\"/></a><!--MD5=[04bfcf5400a006879e1d6f5dc4005175]\n",
       "@startuml\r\n",
       "skinparam monochrome true\r\n",
       "skinparam classbackgroundcolor white\r\n",
       "skinparam shadowing false\r\n",
       "skinparam wrapWidth 300\r\n",
       "hide circle\r\n",
       "\r\n",
       "package \"ConjugationTest\" as E1  [[psysml:34192d11-634f-45f2-bc4e-1f94e63724b0 ]]  {\r\n",
       "comp def \"P\" as E2  <<(T,blue)port def>> [[psysml:c663f064-4c04-4527-821b-19ee83969177 ]] {\r\n",
       "}\r\n",
       "comp def \"B\" as E3  <<(T,blue)part def>> [[psysml:e064966f-e96c-463a-b744-2c95fe6cd8a1 ]] {\r\n",
       "- - ports - -\r\n",
       "p1: P\r\n",
       "p2: ~P\r\n",
       "}\r\n",
       "comp def \"A\" as E6  <<(T,blue)connection def>> [[psysml:005e78a8-b799-41cc-8c3e-bd1642b3bc90 ]] {\r\n",
       "- - ports - -\r\n",
       "p1: P\r\n",
       "p2: ~P\r\n",
       "}\r\n",
       "comp def \"I\" as E9  <<(T,blue)interface def>> [[psysml:21ca298b-43fb-4a5a-8828-d457e715a9a7 ]] {\r\n",
       "- - ports - -\r\n",
       "p1: P\r\n",
       "p2: ~P\r\n",
       "}\r\n",
       "comp def \"B1\" as E12  <<(T,blue)part def>> [[psysml:805f8ddd-ca4a-414c-92f1-ea459766cc23 ]] {\r\n",
       "}\r\n",
       "comp usage \"p\" as E13  <<(T,blue)part>> [[psysml:072097f8-3b46-444f-b0fb-f8fd70c894a4 ]] {\r\n",
       "- - ports - -\r\n",
       "p1: P\r\n",
       "p2: ~P\r\n",
       "}\r\n",
       "E12 *- - E13 [[psysml:072097f8-3b46-444f-b0fb-f8fd70c894a4 ]] \r\n",
       "}\r\n",
       "@enduml\r\n",
       "\n",
       "PlantUML version 1.2020.13(Sat Jun 13 12:26:38 UTC 2020)\n",
       "(EPL source distribution)\n",
       "Java Runtime: OpenJDK Runtime Environment\n",
       "JVM: OpenJDK 64-Bit Server VM\n",
       "Default Encoding: UTF-8\n",
       "Language: en\n",
       "Country: null\n",
       "--></g></svg>"
      ]
     },
     "execution_count": 42,
     "metadata": {},
     "output_type": "execute_result"
    }
   ],
   "source": [
    "%viz --style=\"DEFAULT\" --view=\"Sequence\" \"ConjugationTest\""
   ]
  },
  {
   "cell_type": "code",
   "execution_count": 43,
   "id": "fossil-springer",
   "metadata": {
    "execution": {
     "iopub.execute_input": "2021-03-25T15:04:09.090397Z",
     "iopub.status.busy": "2021-03-25T15:04:09.089879Z",
     "iopub.status.idle": "2021-03-25T15:04:09.748685Z",
     "shell.execute_reply": "2021-03-25T15:04:09.747197Z"
    }
   },
   "outputs": [
    {
     "data": {
      "image/svg+xml": [
       "<?xml version=\"1.0\" encoding=\"UTF-8\" standalone=\"no\"?><svg xmlns=\"http://www.w3.org/2000/svg\" xmlns:xlink=\"http://www.w3.org/1999/xlink\" contentScriptType=\"application/ecmascript\" contentStyleType=\"text/css\" height=\"305px\" preserveAspectRatio=\"none\" style=\"width:614px;height:305px;\" version=\"1.1\" viewBox=\"0 0 614 305\" width=\"614px\" zoomAndPan=\"magnify\"><defs/><g><!--MD5=[fbc87193dbaf4d95561dea2c320d4a47]\n",
       "cluster E1--><a href=\"psysml:34192d11-634f-45f2-bc4e-1f94e63724b0\" target=\"_top\" title=\"psysml:34192d11-634f-45f2-bc4e-1f94e63724b0\" xlink:actuate=\"onRequest\" xlink:href=\"psysml:34192d11-634f-45f2-bc4e-1f94e63724b0\" xlink:show=\"new\" xlink:title=\"psysml:34192d11-634f-45f2-bc4e-1f94e63724b0\" xlink:type=\"simple\"><polygon fill=\"#FFFFFF\" points=\"16,6,151,6,158,28.2969,592,28.2969,592,293,16,293,16,6\" style=\"stroke: #000000; stroke-width: 1.5;\"/><line style=\"stroke: #000000; stroke-width: 1.5;\" x1=\"16\" x2=\"158\" y1=\"28.2969\" y2=\"28.2969\"/><text fill=\"#000000\" font-family=\"sans-serif\" font-size=\"14\" font-weight=\"bold\" lengthAdjust=\"spacingAndGlyphs\" textLength=\"129\" x=\"20\" y=\"20.9951\">ConjugationTest</text></a><!--MD5=[b4997ac47864f28c2f74865a473b2911]\n",
       "class E2--><a href=\"psysml:c663f064-4c04-4527-821b-19ee83969177\" target=\"_top\" title=\"psysml:c663f064-4c04-4527-821b-19ee83969177\" xlink:actuate=\"onRequest\" xlink:href=\"psysml:c663f064-4c04-4527-821b-19ee83969177\" xlink:show=\"new\" xlink:title=\"psysml:c663f064-4c04-4527-821b-19ee83969177\" xlink:type=\"simple\"><rect fill=\"#FFFFFF\" height=\"45.9375\" id=\"E2\" style=\"stroke: #383838; stroke-width: 1.5;\" width=\"66\" x=\"510\" y=\"62\"/><text fill=\"#000000\" font-family=\"sans-serif\" font-size=\"12\" font-style=\"italic\" lengthAdjust=\"spacingAndGlyphs\" textLength=\"64\" x=\"511\" y=\"78.1387\">«port def»</text><text fill=\"#000000\" font-family=\"sans-serif\" font-size=\"12\" lengthAdjust=\"spacingAndGlyphs\" textLength=\"8\" x=\"539\" y=\"92.1074\">P</text><line style=\"stroke: #383838; stroke-width: 1.5;\" x1=\"511\" x2=\"575\" y1=\"99.9375\" y2=\"99.9375\"/></a><!--MD5=[09b614a08d8cba4a07c9adeb5e0fee81]\n",
       "class E3--><a href=\"psysml:e064966f-e96c-463a-b744-2c95fe6cd8a1\" target=\"_top\" title=\"psysml:e064966f-e96c-463a-b744-2c95fe6cd8a1\" xlink:actuate=\"onRequest\" xlink:href=\"psysml:e064966f-e96c-463a-b744-2c95fe6cd8a1\" xlink:show=\"new\" xlink:title=\"psysml:e064966f-e96c-463a-b744-2c95fe6cd8a1\" xlink:type=\"simple\"><rect fill=\"#FFFFFF\" height=\"88.3516\" id=\"E3\" style=\"stroke: #383838; stroke-width: 1.5;\" width=\"66\" x=\"409\" y=\"41\"/><text fill=\"#000000\" font-family=\"sans-serif\" font-size=\"12\" font-style=\"italic\" lengthAdjust=\"spacingAndGlyphs\" textLength=\"64\" x=\"410\" y=\"57.1387\">«part def»</text><text fill=\"#000000\" font-family=\"sans-serif\" font-size=\"12\" lengthAdjust=\"spacingAndGlyphs\" textLength=\"8\" x=\"438\" y=\"71.1074\">B</text><line style=\"stroke: #383838; stroke-width: 1.5;\" x1=\"410\" x2=\"474\" y1=\"78.9375\" y2=\"78.9375\"/><text fill=\"#000000\" font-family=\"sans-serif\" font-size=\"11\" lengthAdjust=\"spacingAndGlyphs\" textLength=\"29\" x=\"415\" y=\"109.9526\">p1: P</text><text fill=\"#000000\" font-family=\"sans-serif\" font-size=\"11\" lengthAdjust=\"spacingAndGlyphs\" textLength=\"38\" x=\"415\" y=\"122.7573\">p2: ~P</text><line style=\"stroke: #383838; stroke-width: 1.0;\" x1=\"410\" x2=\"427\" y1=\"93.3398\" y2=\"93.3398\"/><text fill=\"#000000\" font-family=\"sans-serif\" font-size=\"11\" lengthAdjust=\"spacingAndGlyphs\" textLength=\"30\" x=\"427\" y=\"96.6479\">ports</text><line style=\"stroke: #383838; stroke-width: 1.0;\" x1=\"457\" x2=\"474\" y1=\"93.3398\" y2=\"93.3398\"/></a><!--MD5=[60a26617385b1d2d0262a64233df1f8d]\n",
       "class E6--><a href=\"psysml:005e78a8-b799-41cc-8c3e-bd1642b3bc90\" target=\"_top\" title=\"psysml:005e78a8-b799-41cc-8c3e-bd1642b3bc90\" xlink:actuate=\"onRequest\" xlink:href=\"psysml:005e78a8-b799-41cc-8c3e-bd1642b3bc90\" xlink:show=\"new\" xlink:title=\"psysml:005e78a8-b799-41cc-8c3e-bd1642b3bc90\" xlink:type=\"simple\"><rect fill=\"#FFFFFF\" height=\"88.3516\" id=\"E6\" style=\"stroke: #383838; stroke-width: 1.5;\" width=\"110\" x=\"264\" y=\"41\"/><text fill=\"#000000\" font-family=\"sans-serif\" font-size=\"12\" font-style=\"italic\" lengthAdjust=\"spacingAndGlyphs\" textLength=\"108\" x=\"265\" y=\"57.1387\">«connection def»</text><text fill=\"#000000\" font-family=\"sans-serif\" font-size=\"12\" lengthAdjust=\"spacingAndGlyphs\" textLength=\"8\" x=\"315\" y=\"71.1074\">A</text><line style=\"stroke: #383838; stroke-width: 1.5;\" x1=\"265\" x2=\"373\" y1=\"78.9375\" y2=\"78.9375\"/><text fill=\"#000000\" font-family=\"sans-serif\" font-size=\"11\" lengthAdjust=\"spacingAndGlyphs\" textLength=\"29\" x=\"270\" y=\"109.9526\">p1: P</text><text fill=\"#000000\" font-family=\"sans-serif\" font-size=\"11\" lengthAdjust=\"spacingAndGlyphs\" textLength=\"38\" x=\"270\" y=\"122.7573\">p2: ~P</text><line style=\"stroke: #383838; stroke-width: 1.0;\" x1=\"265\" x2=\"304\" y1=\"93.3398\" y2=\"93.3398\"/><text fill=\"#000000\" font-family=\"sans-serif\" font-size=\"11\" lengthAdjust=\"spacingAndGlyphs\" textLength=\"30\" x=\"304\" y=\"96.6479\">ports</text><line style=\"stroke: #383838; stroke-width: 1.0;\" x1=\"334\" x2=\"373\" y1=\"93.3398\" y2=\"93.3398\"/></a><!--MD5=[fd4143e9d270a159db93a4ea2a975926]\n",
       "class E9--><a href=\"psysml:21ca298b-43fb-4a5a-8828-d457e715a9a7\" target=\"_top\" title=\"psysml:21ca298b-43fb-4a5a-8828-d457e715a9a7\" xlink:actuate=\"onRequest\" xlink:href=\"psysml:21ca298b-43fb-4a5a-8828-d457e715a9a7\" xlink:show=\"new\" xlink:title=\"psysml:21ca298b-43fb-4a5a-8828-d457e715a9a7\" xlink:type=\"simple\"><rect fill=\"#FFFFFF\" height=\"88.3516\" id=\"E9\" style=\"stroke: #383838; stroke-width: 1.5;\" width=\"96\" x=\"133\" y=\"41\"/><text fill=\"#000000\" font-family=\"sans-serif\" font-size=\"12\" font-style=\"italic\" lengthAdjust=\"spacingAndGlyphs\" textLength=\"94\" x=\"134\" y=\"57.1387\">«interface def»</text><text fill=\"#000000\" font-family=\"sans-serif\" font-size=\"12\" lengthAdjust=\"spacingAndGlyphs\" textLength=\"3\" x=\"179.5\" y=\"71.1074\">I</text><line style=\"stroke: #383838; stroke-width: 1.5;\" x1=\"134\" x2=\"228\" y1=\"78.9375\" y2=\"78.9375\"/><text fill=\"#000000\" font-family=\"sans-serif\" font-size=\"11\" lengthAdjust=\"spacingAndGlyphs\" textLength=\"29\" x=\"139\" y=\"109.9526\">p1: P</text><text fill=\"#000000\" font-family=\"sans-serif\" font-size=\"11\" lengthAdjust=\"spacingAndGlyphs\" textLength=\"38\" x=\"139\" y=\"122.7573\">p2: ~P</text><line style=\"stroke: #383838; stroke-width: 1.0;\" x1=\"134\" x2=\"166\" y1=\"93.3398\" y2=\"93.3398\"/><text fill=\"#000000\" font-family=\"sans-serif\" font-size=\"11\" lengthAdjust=\"spacingAndGlyphs\" textLength=\"30\" x=\"166\" y=\"96.6479\">ports</text><line style=\"stroke: #383838; stroke-width: 1.0;\" x1=\"196\" x2=\"228\" y1=\"93.3398\" y2=\"93.3398\"/></a><!--MD5=[49a0ec8f00dab7302a31f22d0f0fe584]\n",
       "class E12--><a href=\"psysml:805f8ddd-ca4a-414c-92f1-ea459766cc23\" target=\"_top\" title=\"psysml:805f8ddd-ca4a-414c-92f1-ea459766cc23\" xlink:actuate=\"onRequest\" xlink:href=\"psysml:805f8ddd-ca4a-414c-92f1-ea459766cc23\" xlink:show=\"new\" xlink:title=\"psysml:805f8ddd-ca4a-414c-92f1-ea459766cc23\" xlink:type=\"simple\"><rect fill=\"#FFFFFF\" height=\"45.9375\" id=\"E12\" style=\"stroke: #383838; stroke-width: 1.5;\" width=\"66\" x=\"32\" y=\"62\"/><text fill=\"#000000\" font-family=\"sans-serif\" font-size=\"12\" font-style=\"italic\" lengthAdjust=\"spacingAndGlyphs\" textLength=\"64\" x=\"33\" y=\"78.1387\">«part def»</text><text fill=\"#000000\" font-family=\"sans-serif\" font-size=\"12\" lengthAdjust=\"spacingAndGlyphs\" textLength=\"16\" x=\"57\" y=\"92.1074\">B1</text><line style=\"stroke: #383838; stroke-width: 1.5;\" x1=\"33\" x2=\"97\" y1=\"99.9375\" y2=\"99.9375\"/></a><!--MD5=[ee3c913d1a06f366521f9ef512b67efe]\n",
       "class E13--><a href=\"psysml:072097f8-3b46-444f-b0fb-f8fd70c894a4\" target=\"_top\" title=\"psysml:072097f8-3b46-444f-b0fb-f8fd70c894a4\" xlink:actuate=\"onRequest\" xlink:href=\"psysml:072097f8-3b46-444f-b0fb-f8fd70c894a4\" xlink:show=\"new\" xlink:title=\"psysml:072097f8-3b46-444f-b0fb-f8fd70c894a4\" xlink:type=\"simple\"><rect fill=\"#FFFFFF\" height=\"88.3516\" id=\"E13\" rx=\"10\" ry=\"10\" style=\"stroke: #383838; stroke-width: 1.5;\" width=\"50\" x=\"40\" y=\"189\"/><text fill=\"#000000\" font-family=\"sans-serif\" font-size=\"12\" font-style=\"italic\" lengthAdjust=\"spacingAndGlyphs\" textLength=\"40\" x=\"45\" y=\"205.1387\">«part»</text><text fill=\"#000000\" font-family=\"sans-serif\" font-size=\"12\" lengthAdjust=\"spacingAndGlyphs\" textLength=\"8\" x=\"61\" y=\"219.1074\">p</text><line style=\"stroke: #383838; stroke-width: 1.5;\" x1=\"41\" x2=\"89\" y1=\"226.9375\" y2=\"226.9375\"/><text fill=\"#000000\" font-family=\"sans-serif\" font-size=\"11\" lengthAdjust=\"spacingAndGlyphs\" textLength=\"29\" x=\"46\" y=\"257.9526\">p1: P</text><text fill=\"#000000\" font-family=\"sans-serif\" font-size=\"11\" lengthAdjust=\"spacingAndGlyphs\" textLength=\"38\" x=\"46\" y=\"270.7573\">p2: ~P</text><line style=\"stroke: #383838; stroke-width: 1.0;\" x1=\"41\" x2=\"50\" y1=\"241.3398\" y2=\"241.3398\"/><text fill=\"#000000\" font-family=\"sans-serif\" font-size=\"11\" lengthAdjust=\"spacingAndGlyphs\" textLength=\"30\" x=\"50\" y=\"244.6479\">ports</text><line style=\"stroke: #383838; stroke-width: 1.0;\" x1=\"80\" x2=\"89\" y1=\"241.3398\" y2=\"241.3398\"/></a><!--MD5=[062ed86c389d1a88f61c6380d0491e17]\n",
       "reverse link E12 to E13--><a href=\"psysml:072097f8-3b46-444f-b0fb-f8fd70c894a4\" target=\"_top\" title=\"psysml:072097f8-3b46-444f-b0fb-f8fd70c894a4\" xlink:actuate=\"onRequest\" xlink:href=\"psysml:072097f8-3b46-444f-b0fb-f8fd70c894a4\" xlink:show=\"new\" xlink:title=\"psysml:072097f8-3b46-444f-b0fb-f8fd70c894a4\" xlink:type=\"simple\"><path d=\"M65,121.25 C65,141.54 65,167.2 65,188.71 \" fill=\"none\" id=\"E12&lt;-E13\" style=\"stroke: #383838; stroke-width: 1.0;\"/><polygon fill=\"#383838\" points=\"65,108.17,61,114.17,65,120.17,69,114.17,65,108.17\" style=\"stroke: #383838; stroke-width: 1.0;\"/></a><!--MD5=[04bfcf5400a006879e1d6f5dc4005175]\n",
       "@startuml\r\n",
       "skinparam monochrome true\r\n",
       "skinparam classbackgroundcolor white\r\n",
       "skinparam shadowing false\r\n",
       "skinparam wrapWidth 300\r\n",
       "hide circle\r\n",
       "\r\n",
       "package \"ConjugationTest\" as E1  [[psysml:34192d11-634f-45f2-bc4e-1f94e63724b0 ]]  {\r\n",
       "comp def \"P\" as E2  <<(T,blue)port def>> [[psysml:c663f064-4c04-4527-821b-19ee83969177 ]] {\r\n",
       "}\r\n",
       "comp def \"B\" as E3  <<(T,blue)part def>> [[psysml:e064966f-e96c-463a-b744-2c95fe6cd8a1 ]] {\r\n",
       "- - ports - -\r\n",
       "p1: P\r\n",
       "p2: ~P\r\n",
       "}\r\n",
       "comp def \"A\" as E6  <<(T,blue)connection def>> [[psysml:005e78a8-b799-41cc-8c3e-bd1642b3bc90 ]] {\r\n",
       "- - ports - -\r\n",
       "p1: P\r\n",
       "p2: ~P\r\n",
       "}\r\n",
       "comp def \"I\" as E9  <<(T,blue)interface def>> [[psysml:21ca298b-43fb-4a5a-8828-d457e715a9a7 ]] {\r\n",
       "- - ports - -\r\n",
       "p1: P\r\n",
       "p2: ~P\r\n",
       "}\r\n",
       "comp def \"B1\" as E12  <<(T,blue)part def>> [[psysml:805f8ddd-ca4a-414c-92f1-ea459766cc23 ]] {\r\n",
       "}\r\n",
       "comp usage \"p\" as E13  <<(T,blue)part>> [[psysml:072097f8-3b46-444f-b0fb-f8fd70c894a4 ]] {\r\n",
       "- - ports - -\r\n",
       "p1: P\r\n",
       "p2: ~P\r\n",
       "}\r\n",
       "E12 *- - E13 [[psysml:072097f8-3b46-444f-b0fb-f8fd70c894a4 ]] \r\n",
       "}\r\n",
       "@enduml\r\n",
       "\n",
       "PlantUML version 1.2020.13(Sat Jun 13 12:26:38 UTC 2020)\n",
       "(EPL source distribution)\n",
       "Java Runtime: OpenJDK Runtime Environment\n",
       "JVM: OpenJDK 64-Bit Server VM\n",
       "Default Encoding: UTF-8\n",
       "Language: en\n",
       "Country: null\n",
       "--></g></svg>"
      ]
     },
     "execution_count": 43,
     "metadata": {},
     "output_type": "execute_result"
    }
   ],
   "source": [
    "%viz --style=\"DEFAULT\" --view=\"MIXED\" \"ConjugationTest\""
   ]
  },
  {
   "cell_type": "code",
   "execution_count": 44,
   "id": "bibliographic-estimate",
   "metadata": {
    "execution": {
     "iopub.execute_input": "2021-03-25T15:04:09.799466Z",
     "iopub.status.busy": "2021-03-25T15:04:09.798778Z",
     "iopub.status.idle": "2021-03-25T15:04:10.465912Z",
     "shell.execute_reply": "2021-03-25T15:04:10.464440Z"
    }
   },
   "outputs": [
    {
     "data": {
      "image/svg+xml": [
       "<?xml version=\"1.0\" encoding=\"UTF-8\" standalone=\"no\"?><svg xmlns=\"http://www.w3.org/2000/svg\" xmlns:xlink=\"http://www.w3.org/1999/xlink\" contentScriptType=\"application/ecmascript\" contentStyleType=\"text/css\" height=\"305px\" preserveAspectRatio=\"none\" style=\"width:614px;height:305px;\" version=\"1.1\" viewBox=\"0 0 614 305\" width=\"614px\" zoomAndPan=\"magnify\"><defs/><g><!--MD5=[fbc87193dbaf4d95561dea2c320d4a47]\n",
       "cluster E1--><a href=\"psysml:34192d11-634f-45f2-bc4e-1f94e63724b0\" target=\"_top\" title=\"psysml:34192d11-634f-45f2-bc4e-1f94e63724b0\" xlink:actuate=\"onRequest\" xlink:href=\"psysml:34192d11-634f-45f2-bc4e-1f94e63724b0\" xlink:show=\"new\" xlink:title=\"psysml:34192d11-634f-45f2-bc4e-1f94e63724b0\" xlink:type=\"simple\"><polygon fill=\"#FFFFFF\" points=\"16,6,151,6,158,28.2969,592,28.2969,592,293,16,293,16,6\" style=\"stroke: #000000; stroke-width: 1.5;\"/><line style=\"stroke: #000000; stroke-width: 1.5;\" x1=\"16\" x2=\"158\" y1=\"28.2969\" y2=\"28.2969\"/><text fill=\"#000000\" font-family=\"sans-serif\" font-size=\"14\" font-weight=\"bold\" lengthAdjust=\"spacingAndGlyphs\" textLength=\"129\" x=\"20\" y=\"20.9951\">ConjugationTest</text></a><!--MD5=[b4997ac47864f28c2f74865a473b2911]\n",
       "class E2--><a href=\"psysml:c663f064-4c04-4527-821b-19ee83969177\" target=\"_top\" title=\"psysml:c663f064-4c04-4527-821b-19ee83969177\" xlink:actuate=\"onRequest\" xlink:href=\"psysml:c663f064-4c04-4527-821b-19ee83969177\" xlink:show=\"new\" xlink:title=\"psysml:c663f064-4c04-4527-821b-19ee83969177\" xlink:type=\"simple\"><rect fill=\"#FFFFFF\" height=\"45.9375\" id=\"E2\" style=\"stroke: #383838; stroke-width: 1.5;\" width=\"66\" x=\"510\" y=\"62\"/><text fill=\"#000000\" font-family=\"sans-serif\" font-size=\"12\" font-style=\"italic\" lengthAdjust=\"spacingAndGlyphs\" textLength=\"64\" x=\"511\" y=\"78.1387\">«port def»</text><text fill=\"#000000\" font-family=\"sans-serif\" font-size=\"12\" lengthAdjust=\"spacingAndGlyphs\" textLength=\"8\" x=\"539\" y=\"92.1074\">P</text><line style=\"stroke: #383838; stroke-width: 1.5;\" x1=\"511\" x2=\"575\" y1=\"99.9375\" y2=\"99.9375\"/></a><!--MD5=[09b614a08d8cba4a07c9adeb5e0fee81]\n",
       "class E3--><a href=\"psysml:e064966f-e96c-463a-b744-2c95fe6cd8a1\" target=\"_top\" title=\"psysml:e064966f-e96c-463a-b744-2c95fe6cd8a1\" xlink:actuate=\"onRequest\" xlink:href=\"psysml:e064966f-e96c-463a-b744-2c95fe6cd8a1\" xlink:show=\"new\" xlink:title=\"psysml:e064966f-e96c-463a-b744-2c95fe6cd8a1\" xlink:type=\"simple\"><rect fill=\"#FFFFFF\" height=\"88.3516\" id=\"E3\" style=\"stroke: #383838; stroke-width: 1.5;\" width=\"66\" x=\"409\" y=\"41\"/><text fill=\"#000000\" font-family=\"sans-serif\" font-size=\"12\" font-style=\"italic\" lengthAdjust=\"spacingAndGlyphs\" textLength=\"64\" x=\"410\" y=\"57.1387\">«part def»</text><text fill=\"#000000\" font-family=\"sans-serif\" font-size=\"12\" lengthAdjust=\"spacingAndGlyphs\" textLength=\"8\" x=\"438\" y=\"71.1074\">B</text><line style=\"stroke: #383838; stroke-width: 1.5;\" x1=\"410\" x2=\"474\" y1=\"78.9375\" y2=\"78.9375\"/><text fill=\"#000000\" font-family=\"sans-serif\" font-size=\"11\" lengthAdjust=\"spacingAndGlyphs\" textLength=\"29\" x=\"415\" y=\"109.9526\">p1: P</text><text fill=\"#000000\" font-family=\"sans-serif\" font-size=\"11\" lengthAdjust=\"spacingAndGlyphs\" textLength=\"38\" x=\"415\" y=\"122.7573\">p2: ~P</text><line style=\"stroke: #383838; stroke-width: 1.0;\" x1=\"410\" x2=\"427\" y1=\"93.3398\" y2=\"93.3398\"/><text fill=\"#000000\" font-family=\"sans-serif\" font-size=\"11\" lengthAdjust=\"spacingAndGlyphs\" textLength=\"30\" x=\"427\" y=\"96.6479\">ports</text><line style=\"stroke: #383838; stroke-width: 1.0;\" x1=\"457\" x2=\"474\" y1=\"93.3398\" y2=\"93.3398\"/></a><!--MD5=[60a26617385b1d2d0262a64233df1f8d]\n",
       "class E6--><a href=\"psysml:005e78a8-b799-41cc-8c3e-bd1642b3bc90\" target=\"_top\" title=\"psysml:005e78a8-b799-41cc-8c3e-bd1642b3bc90\" xlink:actuate=\"onRequest\" xlink:href=\"psysml:005e78a8-b799-41cc-8c3e-bd1642b3bc90\" xlink:show=\"new\" xlink:title=\"psysml:005e78a8-b799-41cc-8c3e-bd1642b3bc90\" xlink:type=\"simple\"><rect fill=\"#FFFFFF\" height=\"88.3516\" id=\"E6\" style=\"stroke: #383838; stroke-width: 1.5;\" width=\"110\" x=\"264\" y=\"41\"/><text fill=\"#000000\" font-family=\"sans-serif\" font-size=\"12\" font-style=\"italic\" lengthAdjust=\"spacingAndGlyphs\" textLength=\"108\" x=\"265\" y=\"57.1387\">«connection def»</text><text fill=\"#000000\" font-family=\"sans-serif\" font-size=\"12\" lengthAdjust=\"spacingAndGlyphs\" textLength=\"8\" x=\"315\" y=\"71.1074\">A</text><line style=\"stroke: #383838; stroke-width: 1.5;\" x1=\"265\" x2=\"373\" y1=\"78.9375\" y2=\"78.9375\"/><text fill=\"#000000\" font-family=\"sans-serif\" font-size=\"11\" lengthAdjust=\"spacingAndGlyphs\" textLength=\"29\" x=\"270\" y=\"109.9526\">p1: P</text><text fill=\"#000000\" font-family=\"sans-serif\" font-size=\"11\" lengthAdjust=\"spacingAndGlyphs\" textLength=\"38\" x=\"270\" y=\"122.7573\">p2: ~P</text><line style=\"stroke: #383838; stroke-width: 1.0;\" x1=\"265\" x2=\"304\" y1=\"93.3398\" y2=\"93.3398\"/><text fill=\"#000000\" font-family=\"sans-serif\" font-size=\"11\" lengthAdjust=\"spacingAndGlyphs\" textLength=\"30\" x=\"304\" y=\"96.6479\">ports</text><line style=\"stroke: #383838; stroke-width: 1.0;\" x1=\"334\" x2=\"373\" y1=\"93.3398\" y2=\"93.3398\"/></a><!--MD5=[fd4143e9d270a159db93a4ea2a975926]\n",
       "class E9--><a href=\"psysml:21ca298b-43fb-4a5a-8828-d457e715a9a7\" target=\"_top\" title=\"psysml:21ca298b-43fb-4a5a-8828-d457e715a9a7\" xlink:actuate=\"onRequest\" xlink:href=\"psysml:21ca298b-43fb-4a5a-8828-d457e715a9a7\" xlink:show=\"new\" xlink:title=\"psysml:21ca298b-43fb-4a5a-8828-d457e715a9a7\" xlink:type=\"simple\"><rect fill=\"#FFFFFF\" height=\"88.3516\" id=\"E9\" style=\"stroke: #383838; stroke-width: 1.5;\" width=\"96\" x=\"133\" y=\"41\"/><text fill=\"#000000\" font-family=\"sans-serif\" font-size=\"12\" font-style=\"italic\" lengthAdjust=\"spacingAndGlyphs\" textLength=\"94\" x=\"134\" y=\"57.1387\">«interface def»</text><text fill=\"#000000\" font-family=\"sans-serif\" font-size=\"12\" lengthAdjust=\"spacingAndGlyphs\" textLength=\"3\" x=\"179.5\" y=\"71.1074\">I</text><line style=\"stroke: #383838; stroke-width: 1.5;\" x1=\"134\" x2=\"228\" y1=\"78.9375\" y2=\"78.9375\"/><text fill=\"#000000\" font-family=\"sans-serif\" font-size=\"11\" lengthAdjust=\"spacingAndGlyphs\" textLength=\"29\" x=\"139\" y=\"109.9526\">p1: P</text><text fill=\"#000000\" font-family=\"sans-serif\" font-size=\"11\" lengthAdjust=\"spacingAndGlyphs\" textLength=\"38\" x=\"139\" y=\"122.7573\">p2: ~P</text><line style=\"stroke: #383838; stroke-width: 1.0;\" x1=\"134\" x2=\"166\" y1=\"93.3398\" y2=\"93.3398\"/><text fill=\"#000000\" font-family=\"sans-serif\" font-size=\"11\" lengthAdjust=\"spacingAndGlyphs\" textLength=\"30\" x=\"166\" y=\"96.6479\">ports</text><line style=\"stroke: #383838; stroke-width: 1.0;\" x1=\"196\" x2=\"228\" y1=\"93.3398\" y2=\"93.3398\"/></a><!--MD5=[49a0ec8f00dab7302a31f22d0f0fe584]\n",
       "class E12--><a href=\"psysml:805f8ddd-ca4a-414c-92f1-ea459766cc23\" target=\"_top\" title=\"psysml:805f8ddd-ca4a-414c-92f1-ea459766cc23\" xlink:actuate=\"onRequest\" xlink:href=\"psysml:805f8ddd-ca4a-414c-92f1-ea459766cc23\" xlink:show=\"new\" xlink:title=\"psysml:805f8ddd-ca4a-414c-92f1-ea459766cc23\" xlink:type=\"simple\"><rect fill=\"#FFFFFF\" height=\"45.9375\" id=\"E12\" style=\"stroke: #383838; stroke-width: 1.5;\" width=\"66\" x=\"32\" y=\"62\"/><text fill=\"#000000\" font-family=\"sans-serif\" font-size=\"12\" font-style=\"italic\" lengthAdjust=\"spacingAndGlyphs\" textLength=\"64\" x=\"33\" y=\"78.1387\">«part def»</text><text fill=\"#000000\" font-family=\"sans-serif\" font-size=\"12\" lengthAdjust=\"spacingAndGlyphs\" textLength=\"16\" x=\"57\" y=\"92.1074\">B1</text><line style=\"stroke: #383838; stroke-width: 1.5;\" x1=\"33\" x2=\"97\" y1=\"99.9375\" y2=\"99.9375\"/></a><!--MD5=[ee3c913d1a06f366521f9ef512b67efe]\n",
       "class E13--><a href=\"psysml:072097f8-3b46-444f-b0fb-f8fd70c894a4\" target=\"_top\" title=\"psysml:072097f8-3b46-444f-b0fb-f8fd70c894a4\" xlink:actuate=\"onRequest\" xlink:href=\"psysml:072097f8-3b46-444f-b0fb-f8fd70c894a4\" xlink:show=\"new\" xlink:title=\"psysml:072097f8-3b46-444f-b0fb-f8fd70c894a4\" xlink:type=\"simple\"><rect fill=\"#FFFFFF\" height=\"88.3516\" id=\"E13\" rx=\"10\" ry=\"10\" style=\"stroke: #383838; stroke-width: 1.5;\" width=\"50\" x=\"40\" y=\"189\"/><text fill=\"#000000\" font-family=\"sans-serif\" font-size=\"12\" font-style=\"italic\" lengthAdjust=\"spacingAndGlyphs\" textLength=\"40\" x=\"45\" y=\"205.1387\">«part»</text><text fill=\"#000000\" font-family=\"sans-serif\" font-size=\"12\" lengthAdjust=\"spacingAndGlyphs\" textLength=\"8\" x=\"61\" y=\"219.1074\">p</text><line style=\"stroke: #383838; stroke-width: 1.5;\" x1=\"41\" x2=\"89\" y1=\"226.9375\" y2=\"226.9375\"/><text fill=\"#000000\" font-family=\"sans-serif\" font-size=\"11\" lengthAdjust=\"spacingAndGlyphs\" textLength=\"29\" x=\"46\" y=\"257.9526\">p1: P</text><text fill=\"#000000\" font-family=\"sans-serif\" font-size=\"11\" lengthAdjust=\"spacingAndGlyphs\" textLength=\"38\" x=\"46\" y=\"270.7573\">p2: ~P</text><line style=\"stroke: #383838; stroke-width: 1.0;\" x1=\"41\" x2=\"50\" y1=\"241.3398\" y2=\"241.3398\"/><text fill=\"#000000\" font-family=\"sans-serif\" font-size=\"11\" lengthAdjust=\"spacingAndGlyphs\" textLength=\"30\" x=\"50\" y=\"244.6479\">ports</text><line style=\"stroke: #383838; stroke-width: 1.0;\" x1=\"80\" x2=\"89\" y1=\"241.3398\" y2=\"241.3398\"/></a><!--MD5=[062ed86c389d1a88f61c6380d0491e17]\n",
       "reverse link E12 to E13--><a href=\"psysml:072097f8-3b46-444f-b0fb-f8fd70c894a4\" target=\"_top\" title=\"psysml:072097f8-3b46-444f-b0fb-f8fd70c894a4\" xlink:actuate=\"onRequest\" xlink:href=\"psysml:072097f8-3b46-444f-b0fb-f8fd70c894a4\" xlink:show=\"new\" xlink:title=\"psysml:072097f8-3b46-444f-b0fb-f8fd70c894a4\" xlink:type=\"simple\"><path d=\"M65,121.25 C65,141.54 65,167.2 65,188.71 \" fill=\"none\" id=\"E12&lt;-E13\" style=\"stroke: #383838; stroke-width: 1.0;\"/><polygon fill=\"#383838\" points=\"65,108.17,61,114.17,65,120.17,69,114.17,65,108.17\" style=\"stroke: #383838; stroke-width: 1.0;\"/></a><!--MD5=[60d2f55b52ddd18598f6f953cf1a25fa]\n",
       "@startuml\r\n",
       "top to bottom direction\r\n",
       "skinparam monochrome true\r\n",
       "skinparam classbackgroundcolor white\r\n",
       "skinparam shadowing false\r\n",
       "skinparam wrapWidth 300\r\n",
       "hide circle\r\n",
       "\r\n",
       "package \"ConjugationTest\" as E1  [[psysml:34192d11-634f-45f2-bc4e-1f94e63724b0 ]]  {\r\n",
       "comp def \"P\" as E2  <<(T,blue)port def>> [[psysml:c663f064-4c04-4527-821b-19ee83969177 ]] {\r\n",
       "}\r\n",
       "comp def \"B\" as E3  <<(T,blue)part def>> [[psysml:e064966f-e96c-463a-b744-2c95fe6cd8a1 ]] {\r\n",
       "- - ports - -\r\n",
       "p1: P\r\n",
       "p2: ~P\r\n",
       "}\r\n",
       "comp def \"A\" as E6  <<(T,blue)connection def>> [[psysml:005e78a8-b799-41cc-8c3e-bd1642b3bc90 ]] {\r\n",
       "- - ports - -\r\n",
       "p1: P\r\n",
       "p2: ~P\r\n",
       "}\r\n",
       "comp def \"I\" as E9  <<(T,blue)interface def>> [[psysml:21ca298b-43fb-4a5a-8828-d457e715a9a7 ]] {\r\n",
       "- - ports - -\r\n",
       "p1: P\r\n",
       "p2: ~P\r\n",
       "}\r\n",
       "comp def \"B1\" as E12  <<(T,blue)part def>> [[psysml:805f8ddd-ca4a-414c-92f1-ea459766cc23 ]] {\r\n",
       "}\r\n",
       "comp usage \"p\" as E13  <<(T,blue)part>> [[psysml:072097f8-3b46-444f-b0fb-f8fd70c894a4 ]] {\r\n",
       "- - ports - -\r\n",
       "p1: P\r\n",
       "p2: ~P\r\n",
       "}\r\n",
       "E12 *- - E13 [[psysml:072097f8-3b46-444f-b0fb-f8fd70c894a4 ]] \r\n",
       "}\r\n",
       "@enduml\r\n",
       "\n",
       "PlantUML version 1.2020.13(Sat Jun 13 12:26:38 UTC 2020)\n",
       "(EPL source distribution)\n",
       "Java Runtime: OpenJDK Runtime Environment\n",
       "JVM: OpenJDK 64-Bit Server VM\n",
       "Default Encoding: UTF-8\n",
       "Language: en\n",
       "Country: null\n",
       "--></g></svg>"
      ]
     },
     "execution_count": 44,
     "metadata": {},
     "output_type": "execute_result"
    }
   ],
   "source": [
    "%viz --style=\"TB\" --view=\"Default\" \"ConjugationTest\""
   ]
  },
  {
   "cell_type": "code",
   "execution_count": 45,
   "id": "consolidated-swimming",
   "metadata": {
    "execution": {
     "iopub.execute_input": "2021-03-25T15:04:10.516652Z",
     "iopub.status.busy": "2021-03-25T15:04:10.516031Z",
     "iopub.status.idle": "2021-03-25T15:04:11.167468Z",
     "shell.execute_reply": "2021-03-25T15:04:11.166025Z"
    }
   },
   "outputs": [
    {
     "data": {
      "image/svg+xml": [
       "<?xml version=\"1.0\" encoding=\"UTF-8\" standalone=\"no\"?><svg xmlns=\"http://www.w3.org/2000/svg\" xmlns:xlink=\"http://www.w3.org/1999/xlink\" contentScriptType=\"application/ecmascript\" contentStyleType=\"text/css\" height=\"305px\" preserveAspectRatio=\"none\" style=\"width:614px;height:305px;\" version=\"1.1\" viewBox=\"0 0 614 305\" width=\"614px\" zoomAndPan=\"magnify\"><defs/><g><!--MD5=[fbc87193dbaf4d95561dea2c320d4a47]\n",
       "cluster E1--><a href=\"psysml:34192d11-634f-45f2-bc4e-1f94e63724b0\" target=\"_top\" title=\"psysml:34192d11-634f-45f2-bc4e-1f94e63724b0\" xlink:actuate=\"onRequest\" xlink:href=\"psysml:34192d11-634f-45f2-bc4e-1f94e63724b0\" xlink:show=\"new\" xlink:title=\"psysml:34192d11-634f-45f2-bc4e-1f94e63724b0\" xlink:type=\"simple\"><polygon fill=\"#FFFFFF\" points=\"16,6,151,6,158,28.2969,592,28.2969,592,293,16,293,16,6\" style=\"stroke: #000000; stroke-width: 1.5;\"/><line style=\"stroke: #000000; stroke-width: 1.5;\" x1=\"16\" x2=\"158\" y1=\"28.2969\" y2=\"28.2969\"/><text fill=\"#000000\" font-family=\"sans-serif\" font-size=\"14\" font-weight=\"bold\" lengthAdjust=\"spacingAndGlyphs\" textLength=\"129\" x=\"20\" y=\"20.9951\">ConjugationTest</text></a><!--MD5=[b4997ac47864f28c2f74865a473b2911]\n",
       "class E2--><a href=\"psysml:c663f064-4c04-4527-821b-19ee83969177\" target=\"_top\" title=\"psysml:c663f064-4c04-4527-821b-19ee83969177\" xlink:actuate=\"onRequest\" xlink:href=\"psysml:c663f064-4c04-4527-821b-19ee83969177\" xlink:show=\"new\" xlink:title=\"psysml:c663f064-4c04-4527-821b-19ee83969177\" xlink:type=\"simple\"><rect fill=\"#FFFFFF\" height=\"45.9375\" id=\"E2\" style=\"stroke: #383838; stroke-width: 1.5;\" width=\"66\" x=\"510\" y=\"62\"/><text fill=\"#000000\" font-family=\"sans-serif\" font-size=\"12\" font-style=\"italic\" lengthAdjust=\"spacingAndGlyphs\" textLength=\"64\" x=\"511\" y=\"78.1387\">«port def»</text><text fill=\"#000000\" font-family=\"sans-serif\" font-size=\"12\" lengthAdjust=\"spacingAndGlyphs\" textLength=\"8\" x=\"539\" y=\"92.1074\">P</text><line style=\"stroke: #383838; stroke-width: 1.5;\" x1=\"511\" x2=\"575\" y1=\"99.9375\" y2=\"99.9375\"/></a><!--MD5=[09b614a08d8cba4a07c9adeb5e0fee81]\n",
       "class E3--><a href=\"psysml:e064966f-e96c-463a-b744-2c95fe6cd8a1\" target=\"_top\" title=\"psysml:e064966f-e96c-463a-b744-2c95fe6cd8a1\" xlink:actuate=\"onRequest\" xlink:href=\"psysml:e064966f-e96c-463a-b744-2c95fe6cd8a1\" xlink:show=\"new\" xlink:title=\"psysml:e064966f-e96c-463a-b744-2c95fe6cd8a1\" xlink:type=\"simple\"><rect fill=\"#FFFFFF\" height=\"88.3516\" id=\"E3\" style=\"stroke: #383838; stroke-width: 1.5;\" width=\"66\" x=\"409\" y=\"41\"/><text fill=\"#000000\" font-family=\"sans-serif\" font-size=\"12\" font-style=\"italic\" lengthAdjust=\"spacingAndGlyphs\" textLength=\"64\" x=\"410\" y=\"57.1387\">«part def»</text><text fill=\"#000000\" font-family=\"sans-serif\" font-size=\"12\" lengthAdjust=\"spacingAndGlyphs\" textLength=\"8\" x=\"438\" y=\"71.1074\">B</text><line style=\"stroke: #383838; stroke-width: 1.5;\" x1=\"410\" x2=\"474\" y1=\"78.9375\" y2=\"78.9375\"/><text fill=\"#000000\" font-family=\"sans-serif\" font-size=\"11\" lengthAdjust=\"spacingAndGlyphs\" textLength=\"29\" x=\"415\" y=\"109.9526\">p1: P</text><text fill=\"#000000\" font-family=\"sans-serif\" font-size=\"11\" lengthAdjust=\"spacingAndGlyphs\" textLength=\"38\" x=\"415\" y=\"122.7573\">p2: ~P</text><line style=\"stroke: #383838; stroke-width: 1.0;\" x1=\"410\" x2=\"427\" y1=\"93.3398\" y2=\"93.3398\"/><text fill=\"#000000\" font-family=\"sans-serif\" font-size=\"11\" lengthAdjust=\"spacingAndGlyphs\" textLength=\"30\" x=\"427\" y=\"96.6479\">ports</text><line style=\"stroke: #383838; stroke-width: 1.0;\" x1=\"457\" x2=\"474\" y1=\"93.3398\" y2=\"93.3398\"/></a><!--MD5=[60a26617385b1d2d0262a64233df1f8d]\n",
       "class E6--><a href=\"psysml:005e78a8-b799-41cc-8c3e-bd1642b3bc90\" target=\"_top\" title=\"psysml:005e78a8-b799-41cc-8c3e-bd1642b3bc90\" xlink:actuate=\"onRequest\" xlink:href=\"psysml:005e78a8-b799-41cc-8c3e-bd1642b3bc90\" xlink:show=\"new\" xlink:title=\"psysml:005e78a8-b799-41cc-8c3e-bd1642b3bc90\" xlink:type=\"simple\"><rect fill=\"#FFFFFF\" height=\"88.3516\" id=\"E6\" style=\"stroke: #383838; stroke-width: 1.5;\" width=\"110\" x=\"264\" y=\"41\"/><text fill=\"#000000\" font-family=\"sans-serif\" font-size=\"12\" font-style=\"italic\" lengthAdjust=\"spacingAndGlyphs\" textLength=\"108\" x=\"265\" y=\"57.1387\">«connection def»</text><text fill=\"#000000\" font-family=\"sans-serif\" font-size=\"12\" lengthAdjust=\"spacingAndGlyphs\" textLength=\"8\" x=\"315\" y=\"71.1074\">A</text><line style=\"stroke: #383838; stroke-width: 1.5;\" x1=\"265\" x2=\"373\" y1=\"78.9375\" y2=\"78.9375\"/><text fill=\"#000000\" font-family=\"sans-serif\" font-size=\"11\" lengthAdjust=\"spacingAndGlyphs\" textLength=\"29\" x=\"270\" y=\"109.9526\">p1: P</text><text fill=\"#000000\" font-family=\"sans-serif\" font-size=\"11\" lengthAdjust=\"spacingAndGlyphs\" textLength=\"38\" x=\"270\" y=\"122.7573\">p2: ~P</text><line style=\"stroke: #383838; stroke-width: 1.0;\" x1=\"265\" x2=\"304\" y1=\"93.3398\" y2=\"93.3398\"/><text fill=\"#000000\" font-family=\"sans-serif\" font-size=\"11\" lengthAdjust=\"spacingAndGlyphs\" textLength=\"30\" x=\"304\" y=\"96.6479\">ports</text><line style=\"stroke: #383838; stroke-width: 1.0;\" x1=\"334\" x2=\"373\" y1=\"93.3398\" y2=\"93.3398\"/></a><!--MD5=[fd4143e9d270a159db93a4ea2a975926]\n",
       "class E9--><a href=\"psysml:21ca298b-43fb-4a5a-8828-d457e715a9a7\" target=\"_top\" title=\"psysml:21ca298b-43fb-4a5a-8828-d457e715a9a7\" xlink:actuate=\"onRequest\" xlink:href=\"psysml:21ca298b-43fb-4a5a-8828-d457e715a9a7\" xlink:show=\"new\" xlink:title=\"psysml:21ca298b-43fb-4a5a-8828-d457e715a9a7\" xlink:type=\"simple\"><rect fill=\"#FFFFFF\" height=\"88.3516\" id=\"E9\" style=\"stroke: #383838; stroke-width: 1.5;\" width=\"96\" x=\"133\" y=\"41\"/><text fill=\"#000000\" font-family=\"sans-serif\" font-size=\"12\" font-style=\"italic\" lengthAdjust=\"spacingAndGlyphs\" textLength=\"94\" x=\"134\" y=\"57.1387\">«interface def»</text><text fill=\"#000000\" font-family=\"sans-serif\" font-size=\"12\" lengthAdjust=\"spacingAndGlyphs\" textLength=\"3\" x=\"179.5\" y=\"71.1074\">I</text><line style=\"stroke: #383838; stroke-width: 1.5;\" x1=\"134\" x2=\"228\" y1=\"78.9375\" y2=\"78.9375\"/><text fill=\"#000000\" font-family=\"sans-serif\" font-size=\"11\" lengthAdjust=\"spacingAndGlyphs\" textLength=\"29\" x=\"139\" y=\"109.9526\">p1: P</text><text fill=\"#000000\" font-family=\"sans-serif\" font-size=\"11\" lengthAdjust=\"spacingAndGlyphs\" textLength=\"38\" x=\"139\" y=\"122.7573\">p2: ~P</text><line style=\"stroke: #383838; stroke-width: 1.0;\" x1=\"134\" x2=\"166\" y1=\"93.3398\" y2=\"93.3398\"/><text fill=\"#000000\" font-family=\"sans-serif\" font-size=\"11\" lengthAdjust=\"spacingAndGlyphs\" textLength=\"30\" x=\"166\" y=\"96.6479\">ports</text><line style=\"stroke: #383838; stroke-width: 1.0;\" x1=\"196\" x2=\"228\" y1=\"93.3398\" y2=\"93.3398\"/></a><!--MD5=[49a0ec8f00dab7302a31f22d0f0fe584]\n",
       "class E12--><a href=\"psysml:805f8ddd-ca4a-414c-92f1-ea459766cc23\" target=\"_top\" title=\"psysml:805f8ddd-ca4a-414c-92f1-ea459766cc23\" xlink:actuate=\"onRequest\" xlink:href=\"psysml:805f8ddd-ca4a-414c-92f1-ea459766cc23\" xlink:show=\"new\" xlink:title=\"psysml:805f8ddd-ca4a-414c-92f1-ea459766cc23\" xlink:type=\"simple\"><rect fill=\"#FFFFFF\" height=\"45.9375\" id=\"E12\" style=\"stroke: #383838; stroke-width: 1.5;\" width=\"66\" x=\"32\" y=\"62\"/><text fill=\"#000000\" font-family=\"sans-serif\" font-size=\"12\" font-style=\"italic\" lengthAdjust=\"spacingAndGlyphs\" textLength=\"64\" x=\"33\" y=\"78.1387\">«part def»</text><text fill=\"#000000\" font-family=\"sans-serif\" font-size=\"12\" lengthAdjust=\"spacingAndGlyphs\" textLength=\"16\" x=\"57\" y=\"92.1074\">B1</text><line style=\"stroke: #383838; stroke-width: 1.5;\" x1=\"33\" x2=\"97\" y1=\"99.9375\" y2=\"99.9375\"/></a><!--MD5=[ee3c913d1a06f366521f9ef512b67efe]\n",
       "class E13--><a href=\"psysml:072097f8-3b46-444f-b0fb-f8fd70c894a4\" target=\"_top\" title=\"psysml:072097f8-3b46-444f-b0fb-f8fd70c894a4\" xlink:actuate=\"onRequest\" xlink:href=\"psysml:072097f8-3b46-444f-b0fb-f8fd70c894a4\" xlink:show=\"new\" xlink:title=\"psysml:072097f8-3b46-444f-b0fb-f8fd70c894a4\" xlink:type=\"simple\"><rect fill=\"#FFFFFF\" height=\"88.3516\" id=\"E13\" rx=\"10\" ry=\"10\" style=\"stroke: #383838; stroke-width: 1.5;\" width=\"50\" x=\"40\" y=\"189\"/><text fill=\"#000000\" font-family=\"sans-serif\" font-size=\"12\" font-style=\"italic\" lengthAdjust=\"spacingAndGlyphs\" textLength=\"40\" x=\"45\" y=\"205.1387\">«part»</text><text fill=\"#000000\" font-family=\"sans-serif\" font-size=\"12\" lengthAdjust=\"spacingAndGlyphs\" textLength=\"8\" x=\"61\" y=\"219.1074\">p</text><line style=\"stroke: #383838; stroke-width: 1.5;\" x1=\"41\" x2=\"89\" y1=\"226.9375\" y2=\"226.9375\"/><text fill=\"#000000\" font-family=\"sans-serif\" font-size=\"11\" lengthAdjust=\"spacingAndGlyphs\" textLength=\"29\" x=\"46\" y=\"257.9526\">p1: P</text><text fill=\"#000000\" font-family=\"sans-serif\" font-size=\"11\" lengthAdjust=\"spacingAndGlyphs\" textLength=\"38\" x=\"46\" y=\"270.7573\">p2: ~P</text><line style=\"stroke: #383838; stroke-width: 1.0;\" x1=\"41\" x2=\"50\" y1=\"241.3398\" y2=\"241.3398\"/><text fill=\"#000000\" font-family=\"sans-serif\" font-size=\"11\" lengthAdjust=\"spacingAndGlyphs\" textLength=\"30\" x=\"50\" y=\"244.6479\">ports</text><line style=\"stroke: #383838; stroke-width: 1.0;\" x1=\"80\" x2=\"89\" y1=\"241.3398\" y2=\"241.3398\"/></a><!--MD5=[062ed86c389d1a88f61c6380d0491e17]\n",
       "reverse link E12 to E13--><a href=\"psysml:072097f8-3b46-444f-b0fb-f8fd70c894a4\" target=\"_top\" title=\"psysml:072097f8-3b46-444f-b0fb-f8fd70c894a4\" xlink:actuate=\"onRequest\" xlink:href=\"psysml:072097f8-3b46-444f-b0fb-f8fd70c894a4\" xlink:show=\"new\" xlink:title=\"psysml:072097f8-3b46-444f-b0fb-f8fd70c894a4\" xlink:type=\"simple\"><path d=\"M65,121.25 C65,141.54 65,167.2 65,188.71 \" fill=\"none\" id=\"E12&lt;-E13\" style=\"stroke: #383838; stroke-width: 1.0;\"/><polygon fill=\"#383838\" points=\"65,108.17,61,114.17,65,120.17,69,114.17,65,108.17\" style=\"stroke: #383838; stroke-width: 1.0;\"/></a><!--MD5=[60d2f55b52ddd18598f6f953cf1a25fa]\n",
       "@startuml\r\n",
       "top to bottom direction\r\n",
       "skinparam monochrome true\r\n",
       "skinparam classbackgroundcolor white\r\n",
       "skinparam shadowing false\r\n",
       "skinparam wrapWidth 300\r\n",
       "hide circle\r\n",
       "\r\n",
       "package \"ConjugationTest\" as E1  [[psysml:34192d11-634f-45f2-bc4e-1f94e63724b0 ]]  {\r\n",
       "comp def \"P\" as E2  <<(T,blue)port def>> [[psysml:c663f064-4c04-4527-821b-19ee83969177 ]] {\r\n",
       "}\r\n",
       "comp def \"B\" as E3  <<(T,blue)part def>> [[psysml:e064966f-e96c-463a-b744-2c95fe6cd8a1 ]] {\r\n",
       "- - ports - -\r\n",
       "p1: P\r\n",
       "p2: ~P\r\n",
       "}\r\n",
       "comp def \"A\" as E6  <<(T,blue)connection def>> [[psysml:005e78a8-b799-41cc-8c3e-bd1642b3bc90 ]] {\r\n",
       "- - ports - -\r\n",
       "p1: P\r\n",
       "p2: ~P\r\n",
       "}\r\n",
       "comp def \"I\" as E9  <<(T,blue)interface def>> [[psysml:21ca298b-43fb-4a5a-8828-d457e715a9a7 ]] {\r\n",
       "- - ports - -\r\n",
       "p1: P\r\n",
       "p2: ~P\r\n",
       "}\r\n",
       "comp def \"B1\" as E12  <<(T,blue)part def>> [[psysml:805f8ddd-ca4a-414c-92f1-ea459766cc23 ]] {\r\n",
       "}\r\n",
       "comp usage \"p\" as E13  <<(T,blue)part>> [[psysml:072097f8-3b46-444f-b0fb-f8fd70c894a4 ]] {\r\n",
       "- - ports - -\r\n",
       "p1: P\r\n",
       "p2: ~P\r\n",
       "}\r\n",
       "E12 *- - E13 [[psysml:072097f8-3b46-444f-b0fb-f8fd70c894a4 ]] \r\n",
       "}\r\n",
       "@enduml\r\n",
       "\n",
       "PlantUML version 1.2020.13(Sat Jun 13 12:26:38 UTC 2020)\n",
       "(EPL source distribution)\n",
       "Java Runtime: OpenJDK Runtime Environment\n",
       "JVM: OpenJDK 64-Bit Server VM\n",
       "Default Encoding: UTF-8\n",
       "Language: en\n",
       "Country: null\n",
       "--></g></svg>"
      ]
     },
     "execution_count": 45,
     "metadata": {},
     "output_type": "execute_result"
    }
   ],
   "source": [
    "%viz --style=\"TB\" --view=\"Tree\" \"ConjugationTest\""
   ]
  },
  {
   "cell_type": "code",
   "execution_count": 46,
   "id": "plastic-cooling",
   "metadata": {
    "execution": {
     "iopub.execute_input": "2021-03-25T15:04:11.220315Z",
     "iopub.status.busy": "2021-03-25T15:04:11.219345Z",
     "iopub.status.idle": "2021-03-25T15:04:11.227061Z",
     "shell.execute_reply": "2021-03-25T15:04:11.226562Z"
    }
   },
   "outputs": [
    {
     "data": {
      "image/svg+xml": [
       "<?xml version=\"1.0\" encoding=\"UTF-8\" standalone=\"no\"?><svg xmlns=\"http://www.w3.org/2000/svg\" xmlns:xlink=\"http://www.w3.org/1999/xlink\" contentScriptType=\"application/ecmascript\" contentStyleType=\"text/css\" height=\"12px\" preserveAspectRatio=\"none\" style=\"width:12px;height:12px;\" version=\"1.1\" viewBox=\"0 0 12 12\" width=\"12px\" zoomAndPan=\"magnify\"><defs/><g><!--MD5=[f4ee21bc66e489b5061b7c3e9601fdef]\n",
       "@startuml\r\n",
       "top to bottom direction\r\n",
       "skinparam monochrome true\r\n",
       "skinparam classbackgroundcolor white\r\n",
       "skinparam shadowing false\r\n",
       "skinparam wrapWidth 300\r\n",
       "hide circle\r\n",
       "\r\n",
       "@enduml\r\n",
       "\n",
       "PlantUML version 1.2020.13(Sat Jun 13 12:26:38 UTC 2020)\n",
       "(EPL source distribution)\n",
       "Java Runtime: OpenJDK Runtime Environment\n",
       "JVM: OpenJDK 64-Bit Server VM\n",
       "Default Encoding: UTF-8\n",
       "Language: en\n",
       "Country: null\n",
       "--></g></svg>"
      ]
     },
     "execution_count": 46,
     "metadata": {},
     "output_type": "execute_result"
    }
   ],
   "source": [
    "%viz --style=\"TB\" --view=\"State\" \"ConjugationTest\""
   ]
  },
  {
   "cell_type": "code",
   "execution_count": 47,
   "id": "under-beach",
   "metadata": {
    "execution": {
     "iopub.execute_input": "2021-03-25T15:04:11.279226Z",
     "iopub.status.busy": "2021-03-25T15:04:11.278445Z",
     "iopub.status.idle": "2021-03-25T15:04:11.457966Z",
     "shell.execute_reply": "2021-03-25T15:04:11.456342Z"
    }
   },
   "outputs": [
    {
     "data": {
      "image/svg+xml": [
       "<?xml version=\"1.0\" encoding=\"UTF-8\" standalone=\"no\"?><svg xmlns=\"http://www.w3.org/2000/svg\" xmlns:xlink=\"http://www.w3.org/1999/xlink\" contentScriptType=\"application/ecmascript\" contentStyleType=\"text/css\" height=\"252px\" preserveAspectRatio=\"none\" style=\"width:781px;height:252px;\" version=\"1.1\" viewBox=\"0 0 781 252\" width=\"781px\" zoomAndPan=\"magnify\"><defs/><g><!--MD5=[fbc87193dbaf4d95561dea2c320d4a47]\n",
       "cluster E1--><a href=\"psysml:34192d11-634f-45f2-bc4e-1f94e63724b0\" target=\"_top\" title=\"psysml:34192d11-634f-45f2-bc4e-1f94e63724b0\" xlink:actuate=\"onRequest\" xlink:href=\"psysml:34192d11-634f-45f2-bc4e-1f94e63724b0\" xlink:show=\"new\" xlink:title=\"psysml:34192d11-634f-45f2-bc4e-1f94e63724b0\" xlink:type=\"simple\"><polygon fill=\"#FFFFFF\" points=\"16,6,151,6,158,28.2969,759,28.2969,759,240,16,240,16,6\" style=\"stroke: #000000; stroke-width: 1.5;\"/><line style=\"stroke: #000000; stroke-width: 1.5;\" x1=\"16\" x2=\"158\" y1=\"28.2969\" y2=\"28.2969\"/><text fill=\"#000000\" font-family=\"sans-serif\" font-size=\"14\" font-weight=\"bold\" lengthAdjust=\"spacingAndGlyphs\" textLength=\"129\" x=\"20\" y=\"20.9951\">ConjugationTest</text></a><!--MD5=[d5e69f78d87373223dbae638b30a9c99]\n",
       "cluster E3--><a href=\"psysml:e064966f-e96c-463a-b744-2c95fe6cd8a1\" target=\"_top\" title=\"psysml:e064966f-e96c-463a-b744-2c95fe6cd8a1\" xlink:actuate=\"onRequest\" xlink:href=\"psysml:e064966f-e96c-463a-b744-2c95fe6cd8a1\" xlink:show=\"new\" xlink:title=\"psysml:e064966f-e96c-463a-b744-2c95fe6cd8a1\" xlink:type=\"simple\"><rect fill=\"#FFFFFF\" height=\"94\" id=\"E3\" style=\"stroke: #383838; stroke-width: 1.5;\" width=\"83\" x=\"619\" y=\"114\"/><rect fill=\"#F8F8F8\" height=\"37.9375\" style=\"stroke: #383838; stroke-width: 1.5;\" width=\"83\" x=\"619\" y=\"114\"/><text fill=\"#000000\" font-family=\"sans-serif\" font-size=\"12\" font-style=\"italic\" lengthAdjust=\"spacingAndGlyphs\" textLength=\"64\" x=\"628.5\" y=\"130.1387\">«part def»</text><text fill=\"#000000\" font-family=\"sans-serif\" font-size=\"12\" lengthAdjust=\"spacingAndGlyphs\" textLength=\"8\" x=\"656.5\" y=\"144.1074\">B</text></a><!--MD5=[14e3b0961a2654348d326746436168a1]\n",
       "cluster E6--><a href=\"psysml:005e78a8-b799-41cc-8c3e-bd1642b3bc90\" target=\"_top\" title=\"psysml:005e78a8-b799-41cc-8c3e-bd1642b3bc90\" xlink:actuate=\"onRequest\" xlink:href=\"psysml:005e78a8-b799-41cc-8c3e-bd1642b3bc90\" xlink:show=\"new\" xlink:title=\"psysml:005e78a8-b799-41cc-8c3e-bd1642b3bc90\" xlink:type=\"simple\"><rect fill=\"#FFFFFF\" height=\"94\" id=\"E6\" style=\"stroke: #383838; stroke-width: 1.5;\" width=\"150\" x=\"465\" y=\"114\"/><rect fill=\"#F8F8F8\" height=\"37.9375\" style=\"stroke: #383838; stroke-width: 1.5;\" width=\"150\" x=\"465\" y=\"114\"/><text fill=\"#000000\" font-family=\"sans-serif\" font-size=\"12\" font-style=\"italic\" lengthAdjust=\"spacingAndGlyphs\" textLength=\"108\" x=\"486\" y=\"130.1387\">«connection def»</text><text fill=\"#000000\" font-family=\"sans-serif\" font-size=\"12\" lengthAdjust=\"spacingAndGlyphs\" textLength=\"8\" x=\"536\" y=\"144.1074\">A</text></a><!--MD5=[7f149f147074ac12df2cb0a7728a5fb0]\n",
       "cluster E9--><a href=\"psysml:21ca298b-43fb-4a5a-8828-d457e715a9a7\" target=\"_top\" title=\"psysml:21ca298b-43fb-4a5a-8828-d457e715a9a7\" xlink:actuate=\"onRequest\" xlink:href=\"psysml:21ca298b-43fb-4a5a-8828-d457e715a9a7\" xlink:show=\"new\" xlink:title=\"psysml:21ca298b-43fb-4a5a-8828-d457e715a9a7\" xlink:type=\"simple\"><rect fill=\"#FFFFFF\" height=\"94\" id=\"E9\" style=\"stroke: #383838; stroke-width: 1.5;\" width=\"141\" x=\"296\" y=\"114\"/><rect fill=\"#F8F8F8\" height=\"37.9375\" style=\"stroke: #383838; stroke-width: 1.5;\" width=\"141\" x=\"296\" y=\"114\"/><text fill=\"#000000\" font-family=\"sans-serif\" font-size=\"12\" font-style=\"italic\" lengthAdjust=\"spacingAndGlyphs\" textLength=\"94\" x=\"319.5\" y=\"130.1387\">«interface def»</text><text fill=\"#000000\" font-family=\"sans-serif\" font-size=\"12\" lengthAdjust=\"spacingAndGlyphs\" textLength=\"3\" x=\"365\" y=\"144.1074\">I</text></a><!--MD5=[47bea60c1a0ac6c1143df232041969c0]\n",
       "cluster E12--><a href=\"psysml:805f8ddd-ca4a-414c-92f1-ea459766cc23\" target=\"_top\" title=\"psysml:805f8ddd-ca4a-414c-92f1-ea459766cc23\" xlink:actuate=\"onRequest\" xlink:href=\"psysml:805f8ddd-ca4a-414c-92f1-ea459766cc23\" xlink:show=\"new\" xlink:title=\"psysml:805f8ddd-ca4a-414c-92f1-ea459766cc23\" xlink:type=\"simple\"><rect fill=\"#FFFFFF\" height=\"167\" id=\"E12\" style=\"stroke: #383838; stroke-width: 1.5;\" width=\"107\" x=\"162\" y=\"49\"/><rect fill=\"#F8F8F8\" height=\"37.9375\" style=\"stroke: #383838; stroke-width: 1.5;\" width=\"107\" x=\"162\" y=\"49\"/><text fill=\"#000000\" font-family=\"sans-serif\" font-size=\"12\" font-style=\"italic\" lengthAdjust=\"spacingAndGlyphs\" textLength=\"64\" x=\"183.5\" y=\"65.1387\">«part def»</text><text fill=\"#000000\" font-family=\"sans-serif\" font-size=\"12\" lengthAdjust=\"spacingAndGlyphs\" textLength=\"16\" x=\"207.5\" y=\"79.1074\">B1</text></a><!--MD5=[03104f77b71e2d8d3500c651e6e31181]\n",
       "cluster E13--><a href=\"psysml:072097f8-3b46-444f-b0fb-f8fd70c894a4\" target=\"_top\" title=\"psysml:072097f8-3b46-444f-b0fb-f8fd70c894a4\" xlink:actuate=\"onRequest\" xlink:href=\"psysml:072097f8-3b46-444f-b0fb-f8fd70c894a4\" xlink:show=\"new\" xlink:title=\"psysml:072097f8-3b46-444f-b0fb-f8fd70c894a4\" xlink:type=\"simple\"><rect fill=\"#FFFFFF\" height=\"86\" id=\"E13\" rx=\"10\" ry=\"10\" style=\"stroke: #383838; stroke-width: 1.5;\" width=\"83\" x=\"174\" y=\"114\"/><rect fill=\"#F8F8F8\" height=\"23.9688\" rx=\"10\" ry=\"10\" style=\"stroke: #F8F8F8; stroke-width: 1.5;\" width=\"83\" x=\"174\" y=\"114\"/><rect fill=\"#F8F8F8\" height=\"10\" style=\"stroke: #F8F8F8; stroke-width: 1.5;\" width=\"83\" x=\"174\" y=\"127.9688\"/><rect fill=\"none\" height=\"86\" id=\"E13\" rx=\"10\" ry=\"10\" style=\"stroke: #383838; stroke-width: 1.5;\" width=\"83\" x=\"174\" y=\"114\"/><text fill=\"#000000\" font-family=\"sans-serif\" font-size=\"12\" lengthAdjust=\"spacingAndGlyphs\" textLength=\"8\" x=\"211.5\" y=\"130.1387\">p</text><line style=\"stroke: #383838; stroke-width: 1.0;\" x1=\"174\" x2=\"257\" y1=\"137.9688\" y2=\"137.9688\"/></a><!--MD5=[b4997ac47864f28c2f74865a473b2911]\n",
       "class E2--><a href=\"psysml:c663f064-4c04-4527-821b-19ee83969177\" target=\"_top\" title=\"psysml:c663f064-4c04-4527-821b-19ee83969177\" xlink:actuate=\"onRequest\" xlink:href=\"psysml:c663f064-4c04-4527-821b-19ee83969177\" xlink:show=\"new\" xlink:title=\"psysml:c663f064-4c04-4527-821b-19ee83969177\" xlink:type=\"simple\"><rect fill=\"#FFFFFF\" height=\"53.9375\" id=\"E2\" style=\"stroke: #383838; stroke-width: 1.5;\" width=\"114\" x=\"32\" y=\"87\"/><text fill=\"#000000\" font-family=\"sans-serif\" font-size=\"12\" font-style=\"italic\" lengthAdjust=\"spacingAndGlyphs\" textLength=\"112\" x=\"33\" y=\"103.1387\">«(T,blue)port def»</text><text fill=\"#000000\" font-family=\"sans-serif\" font-size=\"12\" lengthAdjust=\"spacingAndGlyphs\" textLength=\"8\" x=\"85\" y=\"117.1074\">P</text><line style=\"stroke: #383838; stroke-width: 1.5;\" x1=\"33\" x2=\"145\" y1=\"124.9375\" y2=\"124.9375\"/><line style=\"stroke: #383838; stroke-width: 1.5;\" x1=\"33\" x2=\"145\" y1=\"132.9375\" y2=\"132.9375\"/></a><text fill=\"#000000\" font-family=\"sans-serif\" font-size=\"14\" lengthAdjust=\"spacingAndGlyphs\" textLength=\"36\" x=\"619\" y=\"92.6982\">p1: P</text><rect fill=\"#383838\" height=\"12\" style=\"stroke: #F8F8F8; stroke-width: 1.5;\" width=\"12\" x=\"631\" y=\"108\"/><text fill=\"#000000\" font-family=\"sans-serif\" font-size=\"14\" lengthAdjust=\"spacingAndGlyphs\" textLength=\"48\" x=\"660\" y=\"92.6982\">p2: ~P</text><rect fill=\"#383838\" height=\"12\" style=\"stroke: #F8F8F8; stroke-width: 1.5;\" width=\"12\" x=\"678\" y=\"108\"/><text fill=\"#000000\" font-family=\"sans-serif\" font-size=\"14\" lengthAdjust=\"spacingAndGlyphs\" textLength=\"36\" x=\"465\" y=\"92.6982\">p1: P</text><rect fill=\"#383838\" height=\"12\" style=\"stroke: #F8F8F8; stroke-width: 1.5;\" width=\"12\" x=\"477\" y=\"108\"/><text fill=\"#000000\" font-family=\"sans-serif\" font-size=\"14\" lengthAdjust=\"spacingAndGlyphs\" textLength=\"48\" x=\"506\" y=\"92.6982\">p2: ~P</text><rect fill=\"#383838\" height=\"12\" style=\"stroke: #F8F8F8; stroke-width: 1.5;\" width=\"12\" x=\"524\" y=\"108\"/><text fill=\"#000000\" font-family=\"sans-serif\" font-size=\"14\" lengthAdjust=\"spacingAndGlyphs\" textLength=\"36\" x=\"296\" y=\"92.6982\">p1: P</text><rect fill=\"#383838\" height=\"12\" style=\"stroke: #F8F8F8; stroke-width: 1.5;\" width=\"12\" x=\"308\" y=\"108\"/><text fill=\"#000000\" font-family=\"sans-serif\" font-size=\"14\" lengthAdjust=\"spacingAndGlyphs\" textLength=\"48\" x=\"337\" y=\"92.6982\">p2: ~P</text><rect fill=\"#383838\" height=\"12\" style=\"stroke: #F8F8F8; stroke-width: 1.5;\" width=\"12\" x=\"355\" y=\"108\"/><text fill=\"#000000\" font-family=\"sans-serif\" font-size=\"14\" lengthAdjust=\"spacingAndGlyphs\" textLength=\"36\" x=\"174\" y=\"92.6982\">p1: P</text><rect fill=\"#383838\" height=\"12\" style=\"stroke: #F8F8F8; stroke-width: 1.5;\" width=\"12\" x=\"186\" y=\"108\"/><text fill=\"#000000\" font-family=\"sans-serif\" font-size=\"14\" lengthAdjust=\"spacingAndGlyphs\" textLength=\"48\" x=\"215\" y=\"92.6982\">p2: ~P</text><rect fill=\"#383838\" height=\"12\" style=\"stroke: #F8F8F8; stroke-width: 1.5;\" width=\"12\" x=\"233\" y=\"108\"/><!--MD5=[4ce51ac6fa4cf5202df3859e2718f033]\n",
       "link E15 to E14--><a href=\"psysml:d49afd8d-54fc-473a-b637-3cd599cd4fa7\" target=\"_top\" title=\"psysml:d49afd8d-54fc-473a-b637-3cd599cd4fa7\" xlink:actuate=\"onRequest\" xlink:href=\"psysml:d49afd8d-54fc-473a-b637-3cd599cd4fa7\" xlink:show=\"new\" xlink:title=\"psysml:d49afd8d-54fc-473a-b637-3cd599cd4fa7\" xlink:type=\"simple\"><path d=\"M232.95,114 C221.38,114 209.81,114 198.24,114 \" fill=\"none\" id=\"E15-E14\" style=\"stroke: #383838; stroke-width: 3.0;\"/></a><!--MD5=[4ce51ac6fa4cf5202df3859e2718f033]\n",
       "link E15 to E14--><a href=\"psysml:158350c1-11e6-4f2f-a89e-7037efa93dae\" target=\"_top\" title=\"psysml:158350c1-11e6-4f2f-a89e-7037efa93dae\" xlink:actuate=\"onRequest\" xlink:href=\"psysml:158350c1-11e6-4f2f-a89e-7037efa93dae\" xlink:show=\"new\" xlink:title=\"psysml:158350c1-11e6-4f2f-a89e-7037efa93dae\" xlink:type=\"simple\"><path d=\"M232.95,111.98 C221.38,108.69 209.81,108.67 198.24,111.93 \" fill=\"none\" id=\"E15-E14-1\" style=\"stroke: #383838; stroke-width: 3.0;\"/></a><!--MD5=[e977cf3390436d1bdd2f753dedf94268]\n",
       "@startuml\r\n",
       "skinparam ranksep 8\r\n",
       "skinparam rectangle {\r\n",
       " backgroundColor<<block>> LightGreen\r\n",
       "}\r\n",
       "top to bottom direction\r\n",
       "skinparam monochrome true\r\n",
       "skinparam classbackgroundcolor white\r\n",
       "skinparam shadowing false\r\n",
       "skinparam wrapWidth 300\r\n",
       "hide circle\r\n",
       "\r\n",
       "package \"ConjugationTest\" as E1  [[psysml:34192d11-634f-45f2-bc4e-1f94e63724b0 ]]  {\r\n",
       "def \"P\" as E2  <<(T,blue)port def>> [[psysml:c663f064-4c04-4527-821b-19ee83969177 ]] \r\n",
       "rec def \"B\" as E3  <<(T,blue)part def>> [[psysml:e064966f-e96c-463a-b744-2c95fe6cd8a1 ]] {\r\n",
       "portin \"p1: P\" as E4  <<(T,blue)port>> [[psysml:b8e0261a-441d-41a6-aff3-1d450c4cde6f ]] \r\n",
       "portin \"p2: ~P\" as E5  <<(T,blue)port>> [[psysml:cbde5ba2-4051-45bc-9875-629a3f045392 ]] \r\n",
       "}\r\n",
       "rec def \"A\" as E6  <<(T,blue)connection def>> [[psysml:005e78a8-b799-41cc-8c3e-bd1642b3bc90 ]] {\r\n",
       "portin \"p1: P\" as E7  <<(T,blue)port>> [[psysml:55181707-d268-487e-aa99-75d3872aefbc ]] \r\n",
       "portin \"p2: ~P\" as E8  <<(T,blue)port>> [[psysml:0ddbc9c9-6f57-4a43-9fe9-35a450e63798 ]] \r\n",
       "}\r\n",
       "rec def \"I\" as E9  <<(T,blue)interface def>> [[psysml:21ca298b-43fb-4a5a-8828-d457e715a9a7 ]] {\r\n",
       "portin \"p1: P\" as E10  <<(T,blue)port>> [[psysml:4800d5e0-15fd-4b6f-b429-bddfb731ebe9 ]] \r\n",
       "portin \"p2: ~P\" as E11  <<(T,blue)port>> [[psysml:5bc48f79-cf8d-4956-b81e-e57ba2e7fb16 ]] \r\n",
       "}\r\n",
       "rec def \"B1\" as E12  <<(T,blue)part def>> [[psysml:805f8ddd-ca4a-414c-92f1-ea459766cc23 ]] {\r\n",
       "rec usage \"p\" as E13  [[psysml:072097f8-3b46-444f-b0fb-f8fd70c894a4 ]] {\r\n",
       "portin \"p1: P\" as E14  <<(T,blue)port>> [[psysml:17432448-deec-4082-b953-29eb581620b4 ]] \r\n",
       "portin \"p2: ~P\" as E15  <<(T,blue)port>> [[psysml:c01cfbc6-39be-4cca-af9b-913ba499d52d ]] \r\n",
       "}\r\n",
       "}\r\n",
       "E15 -[thickness=3]- E14 [[psysml:d49afd8d-54fc-473a-b637-3cd599cd4fa7 ]] \r\n",
       "E15 -[thickness=3]- E14 [[psysml:158350c1-11e6-4f2f-a89e-7037efa93dae ]] \r\n",
       "}\r\n",
       "@enduml\r\n",
       "\n",
       "PlantUML version 1.2020.13(Sat Jun 13 12:26:38 UTC 2020)\n",
       "(EPL source distribution)\n",
       "Java Runtime: OpenJDK Runtime Environment\n",
       "JVM: OpenJDK 64-Bit Server VM\n",
       "Default Encoding: UTF-8\n",
       "Language: en\n",
       "Country: null\n",
       "--></g></svg>"
      ]
     },
     "execution_count": 47,
     "metadata": {},
     "output_type": "execute_result"
    }
   ],
   "source": [
    "%viz --style=\"TB\" --view=\"Interconnection\" \"ConjugationTest\""
   ]
  },
  {
   "cell_type": "code",
   "execution_count": 48,
   "id": "beautiful-falls",
   "metadata": {
    "execution": {
     "iopub.execute_input": "2021-03-25T15:04:11.508878Z",
     "iopub.status.busy": "2021-03-25T15:04:11.508378Z",
     "iopub.status.idle": "2021-03-25T15:04:11.515492Z",
     "shell.execute_reply": "2021-03-25T15:04:11.515923Z"
    }
   },
   "outputs": [
    {
     "data": {
      "image/svg+xml": [
       "<?xml version=\"1.0\" encoding=\"UTF-8\" standalone=\"no\"?><svg xmlns=\"http://www.w3.org/2000/svg\" xmlns:xlink=\"http://www.w3.org/1999/xlink\" contentScriptType=\"application/ecmascript\" contentStyleType=\"text/css\" height=\"12px\" preserveAspectRatio=\"none\" style=\"width:12px;height:12px;\" version=\"1.1\" viewBox=\"0 0 12 12\" width=\"12px\" zoomAndPan=\"magnify\"><defs/><g><!--MD5=[06afc254b03ac5e9d9fb7773b07d0800]\n",
       "@startuml\r\n",
       "skinparam ranksep 8\r\n",
       "top to bottom direction\r\n",
       "skinparam monochrome true\r\n",
       "skinparam classbackgroundcolor white\r\n",
       "skinparam shadowing false\r\n",
       "skinparam wrapWidth 300\r\n",
       "hide circle\r\n",
       "\r\n",
       "@enduml\r\n",
       "\n",
       "PlantUML version 1.2020.13(Sat Jun 13 12:26:38 UTC 2020)\n",
       "(EPL source distribution)\n",
       "Java Runtime: OpenJDK Runtime Environment\n",
       "JVM: OpenJDK 64-Bit Server VM\n",
       "Default Encoding: UTF-8\n",
       "Language: en\n",
       "Country: null\n",
       "--></g></svg>"
      ]
     },
     "execution_count": 48,
     "metadata": {},
     "output_type": "execute_result"
    }
   ],
   "source": [
    "%viz --style=\"TB\" --view=\"Action\" \"ConjugationTest\""
   ]
  },
  {
   "cell_type": "code",
   "execution_count": 49,
   "id": "built-discharge",
   "metadata": {
    "execution": {
     "iopub.execute_input": "2021-03-25T15:04:11.567625Z",
     "iopub.status.busy": "2021-03-25T15:04:11.567108Z",
     "iopub.status.idle": "2021-03-25T15:04:12.227423Z",
     "shell.execute_reply": "2021-03-25T15:04:12.225674Z"
    }
   },
   "outputs": [
    {
     "data": {
      "image/svg+xml": [
       "<?xml version=\"1.0\" encoding=\"UTF-8\" standalone=\"no\"?><svg xmlns=\"http://www.w3.org/2000/svg\" xmlns:xlink=\"http://www.w3.org/1999/xlink\" contentScriptType=\"application/ecmascript\" contentStyleType=\"text/css\" height=\"305px\" preserveAspectRatio=\"none\" style=\"width:614px;height:305px;\" version=\"1.1\" viewBox=\"0 0 614 305\" width=\"614px\" zoomAndPan=\"magnify\"><defs/><g><!--MD5=[fbc87193dbaf4d95561dea2c320d4a47]\n",
       "cluster E1--><a href=\"psysml:34192d11-634f-45f2-bc4e-1f94e63724b0\" target=\"_top\" title=\"psysml:34192d11-634f-45f2-bc4e-1f94e63724b0\" xlink:actuate=\"onRequest\" xlink:href=\"psysml:34192d11-634f-45f2-bc4e-1f94e63724b0\" xlink:show=\"new\" xlink:title=\"psysml:34192d11-634f-45f2-bc4e-1f94e63724b0\" xlink:type=\"simple\"><polygon fill=\"#FFFFFF\" points=\"16,6,151,6,158,28.2969,592,28.2969,592,293,16,293,16,6\" style=\"stroke: #000000; stroke-width: 1.5;\"/><line style=\"stroke: #000000; stroke-width: 1.5;\" x1=\"16\" x2=\"158\" y1=\"28.2969\" y2=\"28.2969\"/><text fill=\"#000000\" font-family=\"sans-serif\" font-size=\"14\" font-weight=\"bold\" lengthAdjust=\"spacingAndGlyphs\" textLength=\"129\" x=\"20\" y=\"20.9951\">ConjugationTest</text></a><!--MD5=[b4997ac47864f28c2f74865a473b2911]\n",
       "class E2--><a href=\"psysml:c663f064-4c04-4527-821b-19ee83969177\" target=\"_top\" title=\"psysml:c663f064-4c04-4527-821b-19ee83969177\" xlink:actuate=\"onRequest\" xlink:href=\"psysml:c663f064-4c04-4527-821b-19ee83969177\" xlink:show=\"new\" xlink:title=\"psysml:c663f064-4c04-4527-821b-19ee83969177\" xlink:type=\"simple\"><rect fill=\"#FFFFFF\" height=\"45.9375\" id=\"E2\" style=\"stroke: #383838; stroke-width: 1.5;\" width=\"66\" x=\"510\" y=\"62\"/><text fill=\"#000000\" font-family=\"sans-serif\" font-size=\"12\" font-style=\"italic\" lengthAdjust=\"spacingAndGlyphs\" textLength=\"64\" x=\"511\" y=\"78.1387\">«port def»</text><text fill=\"#000000\" font-family=\"sans-serif\" font-size=\"12\" lengthAdjust=\"spacingAndGlyphs\" textLength=\"8\" x=\"539\" y=\"92.1074\">P</text><line style=\"stroke: #383838; stroke-width: 1.5;\" x1=\"511\" x2=\"575\" y1=\"99.9375\" y2=\"99.9375\"/></a><!--MD5=[09b614a08d8cba4a07c9adeb5e0fee81]\n",
       "class E3--><a href=\"psysml:e064966f-e96c-463a-b744-2c95fe6cd8a1\" target=\"_top\" title=\"psysml:e064966f-e96c-463a-b744-2c95fe6cd8a1\" xlink:actuate=\"onRequest\" xlink:href=\"psysml:e064966f-e96c-463a-b744-2c95fe6cd8a1\" xlink:show=\"new\" xlink:title=\"psysml:e064966f-e96c-463a-b744-2c95fe6cd8a1\" xlink:type=\"simple\"><rect fill=\"#FFFFFF\" height=\"88.3516\" id=\"E3\" style=\"stroke: #383838; stroke-width: 1.5;\" width=\"66\" x=\"409\" y=\"41\"/><text fill=\"#000000\" font-family=\"sans-serif\" font-size=\"12\" font-style=\"italic\" lengthAdjust=\"spacingAndGlyphs\" textLength=\"64\" x=\"410\" y=\"57.1387\">«part def»</text><text fill=\"#000000\" font-family=\"sans-serif\" font-size=\"12\" lengthAdjust=\"spacingAndGlyphs\" textLength=\"8\" x=\"438\" y=\"71.1074\">B</text><line style=\"stroke: #383838; stroke-width: 1.5;\" x1=\"410\" x2=\"474\" y1=\"78.9375\" y2=\"78.9375\"/><text fill=\"#000000\" font-family=\"sans-serif\" font-size=\"11\" lengthAdjust=\"spacingAndGlyphs\" textLength=\"29\" x=\"415\" y=\"109.9526\">p1: P</text><text fill=\"#000000\" font-family=\"sans-serif\" font-size=\"11\" lengthAdjust=\"spacingAndGlyphs\" textLength=\"38\" x=\"415\" y=\"122.7573\">p2: ~P</text><line style=\"stroke: #383838; stroke-width: 1.0;\" x1=\"410\" x2=\"427\" y1=\"93.3398\" y2=\"93.3398\"/><text fill=\"#000000\" font-family=\"sans-serif\" font-size=\"11\" lengthAdjust=\"spacingAndGlyphs\" textLength=\"30\" x=\"427\" y=\"96.6479\">ports</text><line style=\"stroke: #383838; stroke-width: 1.0;\" x1=\"457\" x2=\"474\" y1=\"93.3398\" y2=\"93.3398\"/></a><!--MD5=[60a26617385b1d2d0262a64233df1f8d]\n",
       "class E6--><a href=\"psysml:005e78a8-b799-41cc-8c3e-bd1642b3bc90\" target=\"_top\" title=\"psysml:005e78a8-b799-41cc-8c3e-bd1642b3bc90\" xlink:actuate=\"onRequest\" xlink:href=\"psysml:005e78a8-b799-41cc-8c3e-bd1642b3bc90\" xlink:show=\"new\" xlink:title=\"psysml:005e78a8-b799-41cc-8c3e-bd1642b3bc90\" xlink:type=\"simple\"><rect fill=\"#FFFFFF\" height=\"88.3516\" id=\"E6\" style=\"stroke: #383838; stroke-width: 1.5;\" width=\"110\" x=\"264\" y=\"41\"/><text fill=\"#000000\" font-family=\"sans-serif\" font-size=\"12\" font-style=\"italic\" lengthAdjust=\"spacingAndGlyphs\" textLength=\"108\" x=\"265\" y=\"57.1387\">«connection def»</text><text fill=\"#000000\" font-family=\"sans-serif\" font-size=\"12\" lengthAdjust=\"spacingAndGlyphs\" textLength=\"8\" x=\"315\" y=\"71.1074\">A</text><line style=\"stroke: #383838; stroke-width: 1.5;\" x1=\"265\" x2=\"373\" y1=\"78.9375\" y2=\"78.9375\"/><text fill=\"#000000\" font-family=\"sans-serif\" font-size=\"11\" lengthAdjust=\"spacingAndGlyphs\" textLength=\"29\" x=\"270\" y=\"109.9526\">p1: P</text><text fill=\"#000000\" font-family=\"sans-serif\" font-size=\"11\" lengthAdjust=\"spacingAndGlyphs\" textLength=\"38\" x=\"270\" y=\"122.7573\">p2: ~P</text><line style=\"stroke: #383838; stroke-width: 1.0;\" x1=\"265\" x2=\"304\" y1=\"93.3398\" y2=\"93.3398\"/><text fill=\"#000000\" font-family=\"sans-serif\" font-size=\"11\" lengthAdjust=\"spacingAndGlyphs\" textLength=\"30\" x=\"304\" y=\"96.6479\">ports</text><line style=\"stroke: #383838; stroke-width: 1.0;\" x1=\"334\" x2=\"373\" y1=\"93.3398\" y2=\"93.3398\"/></a><!--MD5=[fd4143e9d270a159db93a4ea2a975926]\n",
       "class E9--><a href=\"psysml:21ca298b-43fb-4a5a-8828-d457e715a9a7\" target=\"_top\" title=\"psysml:21ca298b-43fb-4a5a-8828-d457e715a9a7\" xlink:actuate=\"onRequest\" xlink:href=\"psysml:21ca298b-43fb-4a5a-8828-d457e715a9a7\" xlink:show=\"new\" xlink:title=\"psysml:21ca298b-43fb-4a5a-8828-d457e715a9a7\" xlink:type=\"simple\"><rect fill=\"#FFFFFF\" height=\"88.3516\" id=\"E9\" style=\"stroke: #383838; stroke-width: 1.5;\" width=\"96\" x=\"133\" y=\"41\"/><text fill=\"#000000\" font-family=\"sans-serif\" font-size=\"12\" font-style=\"italic\" lengthAdjust=\"spacingAndGlyphs\" textLength=\"94\" x=\"134\" y=\"57.1387\">«interface def»</text><text fill=\"#000000\" font-family=\"sans-serif\" font-size=\"12\" lengthAdjust=\"spacingAndGlyphs\" textLength=\"3\" x=\"179.5\" y=\"71.1074\">I</text><line style=\"stroke: #383838; stroke-width: 1.5;\" x1=\"134\" x2=\"228\" y1=\"78.9375\" y2=\"78.9375\"/><text fill=\"#000000\" font-family=\"sans-serif\" font-size=\"11\" lengthAdjust=\"spacingAndGlyphs\" textLength=\"29\" x=\"139\" y=\"109.9526\">p1: P</text><text fill=\"#000000\" font-family=\"sans-serif\" font-size=\"11\" lengthAdjust=\"spacingAndGlyphs\" textLength=\"38\" x=\"139\" y=\"122.7573\">p2: ~P</text><line style=\"stroke: #383838; stroke-width: 1.0;\" x1=\"134\" x2=\"166\" y1=\"93.3398\" y2=\"93.3398\"/><text fill=\"#000000\" font-family=\"sans-serif\" font-size=\"11\" lengthAdjust=\"spacingAndGlyphs\" textLength=\"30\" x=\"166\" y=\"96.6479\">ports</text><line style=\"stroke: #383838; stroke-width: 1.0;\" x1=\"196\" x2=\"228\" y1=\"93.3398\" y2=\"93.3398\"/></a><!--MD5=[49a0ec8f00dab7302a31f22d0f0fe584]\n",
       "class E12--><a href=\"psysml:805f8ddd-ca4a-414c-92f1-ea459766cc23\" target=\"_top\" title=\"psysml:805f8ddd-ca4a-414c-92f1-ea459766cc23\" xlink:actuate=\"onRequest\" xlink:href=\"psysml:805f8ddd-ca4a-414c-92f1-ea459766cc23\" xlink:show=\"new\" xlink:title=\"psysml:805f8ddd-ca4a-414c-92f1-ea459766cc23\" xlink:type=\"simple\"><rect fill=\"#FFFFFF\" height=\"45.9375\" id=\"E12\" style=\"stroke: #383838; stroke-width: 1.5;\" width=\"66\" x=\"32\" y=\"62\"/><text fill=\"#000000\" font-family=\"sans-serif\" font-size=\"12\" font-style=\"italic\" lengthAdjust=\"spacingAndGlyphs\" textLength=\"64\" x=\"33\" y=\"78.1387\">«part def»</text><text fill=\"#000000\" font-family=\"sans-serif\" font-size=\"12\" lengthAdjust=\"spacingAndGlyphs\" textLength=\"16\" x=\"57\" y=\"92.1074\">B1</text><line style=\"stroke: #383838; stroke-width: 1.5;\" x1=\"33\" x2=\"97\" y1=\"99.9375\" y2=\"99.9375\"/></a><!--MD5=[ee3c913d1a06f366521f9ef512b67efe]\n",
       "class E13--><a href=\"psysml:072097f8-3b46-444f-b0fb-f8fd70c894a4\" target=\"_top\" title=\"psysml:072097f8-3b46-444f-b0fb-f8fd70c894a4\" xlink:actuate=\"onRequest\" xlink:href=\"psysml:072097f8-3b46-444f-b0fb-f8fd70c894a4\" xlink:show=\"new\" xlink:title=\"psysml:072097f8-3b46-444f-b0fb-f8fd70c894a4\" xlink:type=\"simple\"><rect fill=\"#FFFFFF\" height=\"88.3516\" id=\"E13\" rx=\"10\" ry=\"10\" style=\"stroke: #383838; stroke-width: 1.5;\" width=\"50\" x=\"40\" y=\"189\"/><text fill=\"#000000\" font-family=\"sans-serif\" font-size=\"12\" font-style=\"italic\" lengthAdjust=\"spacingAndGlyphs\" textLength=\"40\" x=\"45\" y=\"205.1387\">«part»</text><text fill=\"#000000\" font-family=\"sans-serif\" font-size=\"12\" lengthAdjust=\"spacingAndGlyphs\" textLength=\"8\" x=\"61\" y=\"219.1074\">p</text><line style=\"stroke: #383838; stroke-width: 1.5;\" x1=\"41\" x2=\"89\" y1=\"226.9375\" y2=\"226.9375\"/><text fill=\"#000000\" font-family=\"sans-serif\" font-size=\"11\" lengthAdjust=\"spacingAndGlyphs\" textLength=\"29\" x=\"46\" y=\"257.9526\">p1: P</text><text fill=\"#000000\" font-family=\"sans-serif\" font-size=\"11\" lengthAdjust=\"spacingAndGlyphs\" textLength=\"38\" x=\"46\" y=\"270.7573\">p2: ~P</text><line style=\"stroke: #383838; stroke-width: 1.0;\" x1=\"41\" x2=\"50\" y1=\"241.3398\" y2=\"241.3398\"/><text fill=\"#000000\" font-family=\"sans-serif\" font-size=\"11\" lengthAdjust=\"spacingAndGlyphs\" textLength=\"30\" x=\"50\" y=\"244.6479\">ports</text><line style=\"stroke: #383838; stroke-width: 1.0;\" x1=\"80\" x2=\"89\" y1=\"241.3398\" y2=\"241.3398\"/></a><!--MD5=[062ed86c389d1a88f61c6380d0491e17]\n",
       "reverse link E12 to E13--><a href=\"psysml:072097f8-3b46-444f-b0fb-f8fd70c894a4\" target=\"_top\" title=\"psysml:072097f8-3b46-444f-b0fb-f8fd70c894a4\" xlink:actuate=\"onRequest\" xlink:href=\"psysml:072097f8-3b46-444f-b0fb-f8fd70c894a4\" xlink:show=\"new\" xlink:title=\"psysml:072097f8-3b46-444f-b0fb-f8fd70c894a4\" xlink:type=\"simple\"><path d=\"M65,121.25 C65,141.54 65,167.2 65,188.71 \" fill=\"none\" id=\"E12&lt;-E13\" style=\"stroke: #383838; stroke-width: 1.0;\"/><polygon fill=\"#383838\" points=\"65,108.17,61,114.17,65,120.17,69,114.17,65,108.17\" style=\"stroke: #383838; stroke-width: 1.0;\"/></a><!--MD5=[60d2f55b52ddd18598f6f953cf1a25fa]\n",
       "@startuml\r\n",
       "top to bottom direction\r\n",
       "skinparam monochrome true\r\n",
       "skinparam classbackgroundcolor white\r\n",
       "skinparam shadowing false\r\n",
       "skinparam wrapWidth 300\r\n",
       "hide circle\r\n",
       "\r\n",
       "package \"ConjugationTest\" as E1  [[psysml:34192d11-634f-45f2-bc4e-1f94e63724b0 ]]  {\r\n",
       "comp def \"P\" as E2  <<(T,blue)port def>> [[psysml:c663f064-4c04-4527-821b-19ee83969177 ]] {\r\n",
       "}\r\n",
       "comp def \"B\" as E3  <<(T,blue)part def>> [[psysml:e064966f-e96c-463a-b744-2c95fe6cd8a1 ]] {\r\n",
       "- - ports - -\r\n",
       "p1: P\r\n",
       "p2: ~P\r\n",
       "}\r\n",
       "comp def \"A\" as E6  <<(T,blue)connection def>> [[psysml:005e78a8-b799-41cc-8c3e-bd1642b3bc90 ]] {\r\n",
       "- - ports - -\r\n",
       "p1: P\r\n",
       "p2: ~P\r\n",
       "}\r\n",
       "comp def \"I\" as E9  <<(T,blue)interface def>> [[psysml:21ca298b-43fb-4a5a-8828-d457e715a9a7 ]] {\r\n",
       "- - ports - -\r\n",
       "p1: P\r\n",
       "p2: ~P\r\n",
       "}\r\n",
       "comp def \"B1\" as E12  <<(T,blue)part def>> [[psysml:805f8ddd-ca4a-414c-92f1-ea459766cc23 ]] {\r\n",
       "}\r\n",
       "comp usage \"p\" as E13  <<(T,blue)part>> [[psysml:072097f8-3b46-444f-b0fb-f8fd70c894a4 ]] {\r\n",
       "- - ports - -\r\n",
       "p1: P\r\n",
       "p2: ~P\r\n",
       "}\r\n",
       "E12 *- - E13 [[psysml:072097f8-3b46-444f-b0fb-f8fd70c894a4 ]] \r\n",
       "}\r\n",
       "@enduml\r\n",
       "\n",
       "PlantUML version 1.2020.13(Sat Jun 13 12:26:38 UTC 2020)\n",
       "(EPL source distribution)\n",
       "Java Runtime: OpenJDK Runtime Environment\n",
       "JVM: OpenJDK 64-Bit Server VM\n",
       "Default Encoding: UTF-8\n",
       "Language: en\n",
       "Country: null\n",
       "--></g></svg>"
      ]
     },
     "execution_count": 49,
     "metadata": {},
     "output_type": "execute_result"
    }
   ],
   "source": [
    "%viz --style=\"TB\" --view=\"Sequence\" \"ConjugationTest\""
   ]
  },
  {
   "cell_type": "code",
   "execution_count": 50,
   "id": "baking-warning",
   "metadata": {
    "execution": {
     "iopub.execute_input": "2021-03-25T15:04:12.278202Z",
     "iopub.status.busy": "2021-03-25T15:04:12.277636Z",
     "iopub.status.idle": "2021-03-25T15:04:12.927556Z",
     "shell.execute_reply": "2021-03-25T15:04:12.926126Z"
    }
   },
   "outputs": [
    {
     "data": {
      "image/svg+xml": [
       "<?xml version=\"1.0\" encoding=\"UTF-8\" standalone=\"no\"?><svg xmlns=\"http://www.w3.org/2000/svg\" xmlns:xlink=\"http://www.w3.org/1999/xlink\" contentScriptType=\"application/ecmascript\" contentStyleType=\"text/css\" height=\"305px\" preserveAspectRatio=\"none\" style=\"width:614px;height:305px;\" version=\"1.1\" viewBox=\"0 0 614 305\" width=\"614px\" zoomAndPan=\"magnify\"><defs/><g><!--MD5=[fbc87193dbaf4d95561dea2c320d4a47]\n",
       "cluster E1--><a href=\"psysml:34192d11-634f-45f2-bc4e-1f94e63724b0\" target=\"_top\" title=\"psysml:34192d11-634f-45f2-bc4e-1f94e63724b0\" xlink:actuate=\"onRequest\" xlink:href=\"psysml:34192d11-634f-45f2-bc4e-1f94e63724b0\" xlink:show=\"new\" xlink:title=\"psysml:34192d11-634f-45f2-bc4e-1f94e63724b0\" xlink:type=\"simple\"><polygon fill=\"#FFFFFF\" points=\"16,6,151,6,158,28.2969,592,28.2969,592,293,16,293,16,6\" style=\"stroke: #000000; stroke-width: 1.5;\"/><line style=\"stroke: #000000; stroke-width: 1.5;\" x1=\"16\" x2=\"158\" y1=\"28.2969\" y2=\"28.2969\"/><text fill=\"#000000\" font-family=\"sans-serif\" font-size=\"14\" font-weight=\"bold\" lengthAdjust=\"spacingAndGlyphs\" textLength=\"129\" x=\"20\" y=\"20.9951\">ConjugationTest</text></a><!--MD5=[b4997ac47864f28c2f74865a473b2911]\n",
       "class E2--><a href=\"psysml:c663f064-4c04-4527-821b-19ee83969177\" target=\"_top\" title=\"psysml:c663f064-4c04-4527-821b-19ee83969177\" xlink:actuate=\"onRequest\" xlink:href=\"psysml:c663f064-4c04-4527-821b-19ee83969177\" xlink:show=\"new\" xlink:title=\"psysml:c663f064-4c04-4527-821b-19ee83969177\" xlink:type=\"simple\"><rect fill=\"#FFFFFF\" height=\"45.9375\" id=\"E2\" style=\"stroke: #383838; stroke-width: 1.5;\" width=\"66\" x=\"510\" y=\"62\"/><text fill=\"#000000\" font-family=\"sans-serif\" font-size=\"12\" font-style=\"italic\" lengthAdjust=\"spacingAndGlyphs\" textLength=\"64\" x=\"511\" y=\"78.1387\">«port def»</text><text fill=\"#000000\" font-family=\"sans-serif\" font-size=\"12\" lengthAdjust=\"spacingAndGlyphs\" textLength=\"8\" x=\"539\" y=\"92.1074\">P</text><line style=\"stroke: #383838; stroke-width: 1.5;\" x1=\"511\" x2=\"575\" y1=\"99.9375\" y2=\"99.9375\"/></a><!--MD5=[09b614a08d8cba4a07c9adeb5e0fee81]\n",
       "class E3--><a href=\"psysml:e064966f-e96c-463a-b744-2c95fe6cd8a1\" target=\"_top\" title=\"psysml:e064966f-e96c-463a-b744-2c95fe6cd8a1\" xlink:actuate=\"onRequest\" xlink:href=\"psysml:e064966f-e96c-463a-b744-2c95fe6cd8a1\" xlink:show=\"new\" xlink:title=\"psysml:e064966f-e96c-463a-b744-2c95fe6cd8a1\" xlink:type=\"simple\"><rect fill=\"#FFFFFF\" height=\"88.3516\" id=\"E3\" style=\"stroke: #383838; stroke-width: 1.5;\" width=\"66\" x=\"409\" y=\"41\"/><text fill=\"#000000\" font-family=\"sans-serif\" font-size=\"12\" font-style=\"italic\" lengthAdjust=\"spacingAndGlyphs\" textLength=\"64\" x=\"410\" y=\"57.1387\">«part def»</text><text fill=\"#000000\" font-family=\"sans-serif\" font-size=\"12\" lengthAdjust=\"spacingAndGlyphs\" textLength=\"8\" x=\"438\" y=\"71.1074\">B</text><line style=\"stroke: #383838; stroke-width: 1.5;\" x1=\"410\" x2=\"474\" y1=\"78.9375\" y2=\"78.9375\"/><text fill=\"#000000\" font-family=\"sans-serif\" font-size=\"11\" lengthAdjust=\"spacingAndGlyphs\" textLength=\"29\" x=\"415\" y=\"109.9526\">p1: P</text><text fill=\"#000000\" font-family=\"sans-serif\" font-size=\"11\" lengthAdjust=\"spacingAndGlyphs\" textLength=\"38\" x=\"415\" y=\"122.7573\">p2: ~P</text><line style=\"stroke: #383838; stroke-width: 1.0;\" x1=\"410\" x2=\"427\" y1=\"93.3398\" y2=\"93.3398\"/><text fill=\"#000000\" font-family=\"sans-serif\" font-size=\"11\" lengthAdjust=\"spacingAndGlyphs\" textLength=\"30\" x=\"427\" y=\"96.6479\">ports</text><line style=\"stroke: #383838; stroke-width: 1.0;\" x1=\"457\" x2=\"474\" y1=\"93.3398\" y2=\"93.3398\"/></a><!--MD5=[60a26617385b1d2d0262a64233df1f8d]\n",
       "class E6--><a href=\"psysml:005e78a8-b799-41cc-8c3e-bd1642b3bc90\" target=\"_top\" title=\"psysml:005e78a8-b799-41cc-8c3e-bd1642b3bc90\" xlink:actuate=\"onRequest\" xlink:href=\"psysml:005e78a8-b799-41cc-8c3e-bd1642b3bc90\" xlink:show=\"new\" xlink:title=\"psysml:005e78a8-b799-41cc-8c3e-bd1642b3bc90\" xlink:type=\"simple\"><rect fill=\"#FFFFFF\" height=\"88.3516\" id=\"E6\" style=\"stroke: #383838; stroke-width: 1.5;\" width=\"110\" x=\"264\" y=\"41\"/><text fill=\"#000000\" font-family=\"sans-serif\" font-size=\"12\" font-style=\"italic\" lengthAdjust=\"spacingAndGlyphs\" textLength=\"108\" x=\"265\" y=\"57.1387\">«connection def»</text><text fill=\"#000000\" font-family=\"sans-serif\" font-size=\"12\" lengthAdjust=\"spacingAndGlyphs\" textLength=\"8\" x=\"315\" y=\"71.1074\">A</text><line style=\"stroke: #383838; stroke-width: 1.5;\" x1=\"265\" x2=\"373\" y1=\"78.9375\" y2=\"78.9375\"/><text fill=\"#000000\" font-family=\"sans-serif\" font-size=\"11\" lengthAdjust=\"spacingAndGlyphs\" textLength=\"29\" x=\"270\" y=\"109.9526\">p1: P</text><text fill=\"#000000\" font-family=\"sans-serif\" font-size=\"11\" lengthAdjust=\"spacingAndGlyphs\" textLength=\"38\" x=\"270\" y=\"122.7573\">p2: ~P</text><line style=\"stroke: #383838; stroke-width: 1.0;\" x1=\"265\" x2=\"304\" y1=\"93.3398\" y2=\"93.3398\"/><text fill=\"#000000\" font-family=\"sans-serif\" font-size=\"11\" lengthAdjust=\"spacingAndGlyphs\" textLength=\"30\" x=\"304\" y=\"96.6479\">ports</text><line style=\"stroke: #383838; stroke-width: 1.0;\" x1=\"334\" x2=\"373\" y1=\"93.3398\" y2=\"93.3398\"/></a><!--MD5=[fd4143e9d270a159db93a4ea2a975926]\n",
       "class E9--><a href=\"psysml:21ca298b-43fb-4a5a-8828-d457e715a9a7\" target=\"_top\" title=\"psysml:21ca298b-43fb-4a5a-8828-d457e715a9a7\" xlink:actuate=\"onRequest\" xlink:href=\"psysml:21ca298b-43fb-4a5a-8828-d457e715a9a7\" xlink:show=\"new\" xlink:title=\"psysml:21ca298b-43fb-4a5a-8828-d457e715a9a7\" xlink:type=\"simple\"><rect fill=\"#FFFFFF\" height=\"88.3516\" id=\"E9\" style=\"stroke: #383838; stroke-width: 1.5;\" width=\"96\" x=\"133\" y=\"41\"/><text fill=\"#000000\" font-family=\"sans-serif\" font-size=\"12\" font-style=\"italic\" lengthAdjust=\"spacingAndGlyphs\" textLength=\"94\" x=\"134\" y=\"57.1387\">«interface def»</text><text fill=\"#000000\" font-family=\"sans-serif\" font-size=\"12\" lengthAdjust=\"spacingAndGlyphs\" textLength=\"3\" x=\"179.5\" y=\"71.1074\">I</text><line style=\"stroke: #383838; stroke-width: 1.5;\" x1=\"134\" x2=\"228\" y1=\"78.9375\" y2=\"78.9375\"/><text fill=\"#000000\" font-family=\"sans-serif\" font-size=\"11\" lengthAdjust=\"spacingAndGlyphs\" textLength=\"29\" x=\"139\" y=\"109.9526\">p1: P</text><text fill=\"#000000\" font-family=\"sans-serif\" font-size=\"11\" lengthAdjust=\"spacingAndGlyphs\" textLength=\"38\" x=\"139\" y=\"122.7573\">p2: ~P</text><line style=\"stroke: #383838; stroke-width: 1.0;\" x1=\"134\" x2=\"166\" y1=\"93.3398\" y2=\"93.3398\"/><text fill=\"#000000\" font-family=\"sans-serif\" font-size=\"11\" lengthAdjust=\"spacingAndGlyphs\" textLength=\"30\" x=\"166\" y=\"96.6479\">ports</text><line style=\"stroke: #383838; stroke-width: 1.0;\" x1=\"196\" x2=\"228\" y1=\"93.3398\" y2=\"93.3398\"/></a><!--MD5=[49a0ec8f00dab7302a31f22d0f0fe584]\n",
       "class E12--><a href=\"psysml:805f8ddd-ca4a-414c-92f1-ea459766cc23\" target=\"_top\" title=\"psysml:805f8ddd-ca4a-414c-92f1-ea459766cc23\" xlink:actuate=\"onRequest\" xlink:href=\"psysml:805f8ddd-ca4a-414c-92f1-ea459766cc23\" xlink:show=\"new\" xlink:title=\"psysml:805f8ddd-ca4a-414c-92f1-ea459766cc23\" xlink:type=\"simple\"><rect fill=\"#FFFFFF\" height=\"45.9375\" id=\"E12\" style=\"stroke: #383838; stroke-width: 1.5;\" width=\"66\" x=\"32\" y=\"62\"/><text fill=\"#000000\" font-family=\"sans-serif\" font-size=\"12\" font-style=\"italic\" lengthAdjust=\"spacingAndGlyphs\" textLength=\"64\" x=\"33\" y=\"78.1387\">«part def»</text><text fill=\"#000000\" font-family=\"sans-serif\" font-size=\"12\" lengthAdjust=\"spacingAndGlyphs\" textLength=\"16\" x=\"57\" y=\"92.1074\">B1</text><line style=\"stroke: #383838; stroke-width: 1.5;\" x1=\"33\" x2=\"97\" y1=\"99.9375\" y2=\"99.9375\"/></a><!--MD5=[ee3c913d1a06f366521f9ef512b67efe]\n",
       "class E13--><a href=\"psysml:072097f8-3b46-444f-b0fb-f8fd70c894a4\" target=\"_top\" title=\"psysml:072097f8-3b46-444f-b0fb-f8fd70c894a4\" xlink:actuate=\"onRequest\" xlink:href=\"psysml:072097f8-3b46-444f-b0fb-f8fd70c894a4\" xlink:show=\"new\" xlink:title=\"psysml:072097f8-3b46-444f-b0fb-f8fd70c894a4\" xlink:type=\"simple\"><rect fill=\"#FFFFFF\" height=\"88.3516\" id=\"E13\" rx=\"10\" ry=\"10\" style=\"stroke: #383838; stroke-width: 1.5;\" width=\"50\" x=\"40\" y=\"189\"/><text fill=\"#000000\" font-family=\"sans-serif\" font-size=\"12\" font-style=\"italic\" lengthAdjust=\"spacingAndGlyphs\" textLength=\"40\" x=\"45\" y=\"205.1387\">«part»</text><text fill=\"#000000\" font-family=\"sans-serif\" font-size=\"12\" lengthAdjust=\"spacingAndGlyphs\" textLength=\"8\" x=\"61\" y=\"219.1074\">p</text><line style=\"stroke: #383838; stroke-width: 1.5;\" x1=\"41\" x2=\"89\" y1=\"226.9375\" y2=\"226.9375\"/><text fill=\"#000000\" font-family=\"sans-serif\" font-size=\"11\" lengthAdjust=\"spacingAndGlyphs\" textLength=\"29\" x=\"46\" y=\"257.9526\">p1: P</text><text fill=\"#000000\" font-family=\"sans-serif\" font-size=\"11\" lengthAdjust=\"spacingAndGlyphs\" textLength=\"38\" x=\"46\" y=\"270.7573\">p2: ~P</text><line style=\"stroke: #383838; stroke-width: 1.0;\" x1=\"41\" x2=\"50\" y1=\"241.3398\" y2=\"241.3398\"/><text fill=\"#000000\" font-family=\"sans-serif\" font-size=\"11\" lengthAdjust=\"spacingAndGlyphs\" textLength=\"30\" x=\"50\" y=\"244.6479\">ports</text><line style=\"stroke: #383838; stroke-width: 1.0;\" x1=\"80\" x2=\"89\" y1=\"241.3398\" y2=\"241.3398\"/></a><!--MD5=[062ed86c389d1a88f61c6380d0491e17]\n",
       "reverse link E12 to E13--><a href=\"psysml:072097f8-3b46-444f-b0fb-f8fd70c894a4\" target=\"_top\" title=\"psysml:072097f8-3b46-444f-b0fb-f8fd70c894a4\" xlink:actuate=\"onRequest\" xlink:href=\"psysml:072097f8-3b46-444f-b0fb-f8fd70c894a4\" xlink:show=\"new\" xlink:title=\"psysml:072097f8-3b46-444f-b0fb-f8fd70c894a4\" xlink:type=\"simple\"><path d=\"M65,121.25 C65,141.54 65,167.2 65,188.71 \" fill=\"none\" id=\"E12&lt;-E13\" style=\"stroke: #383838; stroke-width: 1.0;\"/><polygon fill=\"#383838\" points=\"65,108.17,61,114.17,65,120.17,69,114.17,65,108.17\" style=\"stroke: #383838; stroke-width: 1.0;\"/></a><!--MD5=[60d2f55b52ddd18598f6f953cf1a25fa]\n",
       "@startuml\r\n",
       "top to bottom direction\r\n",
       "skinparam monochrome true\r\n",
       "skinparam classbackgroundcolor white\r\n",
       "skinparam shadowing false\r\n",
       "skinparam wrapWidth 300\r\n",
       "hide circle\r\n",
       "\r\n",
       "package \"ConjugationTest\" as E1  [[psysml:34192d11-634f-45f2-bc4e-1f94e63724b0 ]]  {\r\n",
       "comp def \"P\" as E2  <<(T,blue)port def>> [[psysml:c663f064-4c04-4527-821b-19ee83969177 ]] {\r\n",
       "}\r\n",
       "comp def \"B\" as E3  <<(T,blue)part def>> [[psysml:e064966f-e96c-463a-b744-2c95fe6cd8a1 ]] {\r\n",
       "- - ports - -\r\n",
       "p1: P\r\n",
       "p2: ~P\r\n",
       "}\r\n",
       "comp def \"A\" as E6  <<(T,blue)connection def>> [[psysml:005e78a8-b799-41cc-8c3e-bd1642b3bc90 ]] {\r\n",
       "- - ports - -\r\n",
       "p1: P\r\n",
       "p2: ~P\r\n",
       "}\r\n",
       "comp def \"I\" as E9  <<(T,blue)interface def>> [[psysml:21ca298b-43fb-4a5a-8828-d457e715a9a7 ]] {\r\n",
       "- - ports - -\r\n",
       "p1: P\r\n",
       "p2: ~P\r\n",
       "}\r\n",
       "comp def \"B1\" as E12  <<(T,blue)part def>> [[psysml:805f8ddd-ca4a-414c-92f1-ea459766cc23 ]] {\r\n",
       "}\r\n",
       "comp usage \"p\" as E13  <<(T,blue)part>> [[psysml:072097f8-3b46-444f-b0fb-f8fd70c894a4 ]] {\r\n",
       "- - ports - -\r\n",
       "p1: P\r\n",
       "p2: ~P\r\n",
       "}\r\n",
       "E12 *- - E13 [[psysml:072097f8-3b46-444f-b0fb-f8fd70c894a4 ]] \r\n",
       "}\r\n",
       "@enduml\r\n",
       "\n",
       "PlantUML version 1.2020.13(Sat Jun 13 12:26:38 UTC 2020)\n",
       "(EPL source distribution)\n",
       "Java Runtime: OpenJDK Runtime Environment\n",
       "JVM: OpenJDK 64-Bit Server VM\n",
       "Default Encoding: UTF-8\n",
       "Language: en\n",
       "Country: null\n",
       "--></g></svg>"
      ]
     },
     "execution_count": 50,
     "metadata": {},
     "output_type": "execute_result"
    }
   ],
   "source": [
    "%viz --style=\"TB\" --view=\"MIXED\" \"ConjugationTest\""
   ]
  },
  {
   "cell_type": "code",
   "execution_count": 51,
   "id": "stylish-legislation",
   "metadata": {
    "execution": {
     "iopub.execute_input": "2021-03-25T15:04:12.983212Z",
     "iopub.status.busy": "2021-03-25T15:04:12.982326Z",
     "iopub.status.idle": "2021-03-25T15:04:13.636458Z",
     "shell.execute_reply": "2021-03-25T15:04:13.634958Z"
    }
   },
   "outputs": [
    {
     "data": {
      "image/svg+xml": [
       "<?xml version=\"1.0\" encoding=\"UTF-8\" standalone=\"no\"?><svg xmlns=\"http://www.w3.org/2000/svg\" xmlns:xlink=\"http://www.w3.org/1999/xlink\" contentScriptType=\"application/ecmascript\" contentStyleType=\"text/css\" height=\"305px\" preserveAspectRatio=\"none\" style=\"width:614px;height:305px;\" version=\"1.1\" viewBox=\"0 0 614 305\" width=\"614px\" zoomAndPan=\"magnify\"><defs/><g><!--MD5=[fbc87193dbaf4d95561dea2c320d4a47]\n",
       "cluster E1--><a href=\"psysml:34192d11-634f-45f2-bc4e-1f94e63724b0\" target=\"_top\" title=\"psysml:34192d11-634f-45f2-bc4e-1f94e63724b0\" xlink:actuate=\"onRequest\" xlink:href=\"psysml:34192d11-634f-45f2-bc4e-1f94e63724b0\" xlink:show=\"new\" xlink:title=\"psysml:34192d11-634f-45f2-bc4e-1f94e63724b0\" xlink:type=\"simple\"><polygon fill=\"#FFFFFF\" points=\"16,6,151,6,158,28.2969,592,28.2969,592,293,16,293,16,6\" style=\"stroke: #000000; stroke-width: 1.5;\"/><line style=\"stroke: #000000; stroke-width: 1.5;\" x1=\"16\" x2=\"158\" y1=\"28.2969\" y2=\"28.2969\"/><text fill=\"#000000\" font-family=\"sans-serif\" font-size=\"14\" font-weight=\"bold\" lengthAdjust=\"spacingAndGlyphs\" textLength=\"129\" x=\"20\" y=\"20.9951\">ConjugationTest</text></a><!--MD5=[b4997ac47864f28c2f74865a473b2911]\n",
       "class E2--><a href=\"psysml:c663f064-4c04-4527-821b-19ee83969177\" target=\"_top\" title=\"psysml:c663f064-4c04-4527-821b-19ee83969177\" xlink:actuate=\"onRequest\" xlink:href=\"psysml:c663f064-4c04-4527-821b-19ee83969177\" xlink:show=\"new\" xlink:title=\"psysml:c663f064-4c04-4527-821b-19ee83969177\" xlink:type=\"simple\"><rect fill=\"#FFFFFF\" height=\"45.9375\" id=\"E2\" style=\"stroke: #383838; stroke-width: 1.5;\" width=\"66\" x=\"510\" y=\"62\"/><text fill=\"#000000\" font-family=\"sans-serif\" font-size=\"12\" font-style=\"italic\" lengthAdjust=\"spacingAndGlyphs\" textLength=\"64\" x=\"511\" y=\"78.1387\">«port def»</text><text fill=\"#000000\" font-family=\"sans-serif\" font-size=\"12\" lengthAdjust=\"spacingAndGlyphs\" textLength=\"8\" x=\"539\" y=\"92.1074\">P</text><line style=\"stroke: #383838; stroke-width: 1.5;\" x1=\"511\" x2=\"575\" y1=\"99.9375\" y2=\"99.9375\"/></a><!--MD5=[09b614a08d8cba4a07c9adeb5e0fee81]\n",
       "class E3--><a href=\"psysml:e064966f-e96c-463a-b744-2c95fe6cd8a1\" target=\"_top\" title=\"psysml:e064966f-e96c-463a-b744-2c95fe6cd8a1\" xlink:actuate=\"onRequest\" xlink:href=\"psysml:e064966f-e96c-463a-b744-2c95fe6cd8a1\" xlink:show=\"new\" xlink:title=\"psysml:e064966f-e96c-463a-b744-2c95fe6cd8a1\" xlink:type=\"simple\"><rect fill=\"#FFFFFF\" height=\"88.3516\" id=\"E3\" style=\"stroke: #383838; stroke-width: 1.5;\" width=\"66\" x=\"409\" y=\"41\"/><text fill=\"#000000\" font-family=\"sans-serif\" font-size=\"12\" font-style=\"italic\" lengthAdjust=\"spacingAndGlyphs\" textLength=\"64\" x=\"410\" y=\"57.1387\">«part def»</text><text fill=\"#000000\" font-family=\"sans-serif\" font-size=\"12\" lengthAdjust=\"spacingAndGlyphs\" textLength=\"8\" x=\"438\" y=\"71.1074\">B</text><line style=\"stroke: #383838; stroke-width: 1.5;\" x1=\"410\" x2=\"474\" y1=\"78.9375\" y2=\"78.9375\"/><text fill=\"#000000\" font-family=\"sans-serif\" font-size=\"11\" lengthAdjust=\"spacingAndGlyphs\" textLength=\"29\" x=\"415\" y=\"109.9526\">p1: P</text><text fill=\"#000000\" font-family=\"sans-serif\" font-size=\"11\" lengthAdjust=\"spacingAndGlyphs\" textLength=\"38\" x=\"415\" y=\"122.7573\">p2: ~P</text><line style=\"stroke: #383838; stroke-width: 1.0;\" x1=\"410\" x2=\"427\" y1=\"93.3398\" y2=\"93.3398\"/><text fill=\"#000000\" font-family=\"sans-serif\" font-size=\"11\" lengthAdjust=\"spacingAndGlyphs\" textLength=\"30\" x=\"427\" y=\"96.6479\">ports</text><line style=\"stroke: #383838; stroke-width: 1.0;\" x1=\"457\" x2=\"474\" y1=\"93.3398\" y2=\"93.3398\"/></a><!--MD5=[60a26617385b1d2d0262a64233df1f8d]\n",
       "class E6--><a href=\"psysml:005e78a8-b799-41cc-8c3e-bd1642b3bc90\" target=\"_top\" title=\"psysml:005e78a8-b799-41cc-8c3e-bd1642b3bc90\" xlink:actuate=\"onRequest\" xlink:href=\"psysml:005e78a8-b799-41cc-8c3e-bd1642b3bc90\" xlink:show=\"new\" xlink:title=\"psysml:005e78a8-b799-41cc-8c3e-bd1642b3bc90\" xlink:type=\"simple\"><rect fill=\"#FFFFFF\" height=\"88.3516\" id=\"E6\" style=\"stroke: #383838; stroke-width: 1.5;\" width=\"110\" x=\"264\" y=\"41\"/><text fill=\"#000000\" font-family=\"sans-serif\" font-size=\"12\" font-style=\"italic\" lengthAdjust=\"spacingAndGlyphs\" textLength=\"108\" x=\"265\" y=\"57.1387\">«connection def»</text><text fill=\"#000000\" font-family=\"sans-serif\" font-size=\"12\" lengthAdjust=\"spacingAndGlyphs\" textLength=\"8\" x=\"315\" y=\"71.1074\">A</text><line style=\"stroke: #383838; stroke-width: 1.5;\" x1=\"265\" x2=\"373\" y1=\"78.9375\" y2=\"78.9375\"/><text fill=\"#000000\" font-family=\"sans-serif\" font-size=\"11\" lengthAdjust=\"spacingAndGlyphs\" textLength=\"29\" x=\"270\" y=\"109.9526\">p1: P</text><text fill=\"#000000\" font-family=\"sans-serif\" font-size=\"11\" lengthAdjust=\"spacingAndGlyphs\" textLength=\"38\" x=\"270\" y=\"122.7573\">p2: ~P</text><line style=\"stroke: #383838; stroke-width: 1.0;\" x1=\"265\" x2=\"304\" y1=\"93.3398\" y2=\"93.3398\"/><text fill=\"#000000\" font-family=\"sans-serif\" font-size=\"11\" lengthAdjust=\"spacingAndGlyphs\" textLength=\"30\" x=\"304\" y=\"96.6479\">ports</text><line style=\"stroke: #383838; stroke-width: 1.0;\" x1=\"334\" x2=\"373\" y1=\"93.3398\" y2=\"93.3398\"/></a><!--MD5=[fd4143e9d270a159db93a4ea2a975926]\n",
       "class E9--><a href=\"psysml:21ca298b-43fb-4a5a-8828-d457e715a9a7\" target=\"_top\" title=\"psysml:21ca298b-43fb-4a5a-8828-d457e715a9a7\" xlink:actuate=\"onRequest\" xlink:href=\"psysml:21ca298b-43fb-4a5a-8828-d457e715a9a7\" xlink:show=\"new\" xlink:title=\"psysml:21ca298b-43fb-4a5a-8828-d457e715a9a7\" xlink:type=\"simple\"><rect fill=\"#FFFFFF\" height=\"88.3516\" id=\"E9\" style=\"stroke: #383838; stroke-width: 1.5;\" width=\"96\" x=\"133\" y=\"41\"/><text fill=\"#000000\" font-family=\"sans-serif\" font-size=\"12\" font-style=\"italic\" lengthAdjust=\"spacingAndGlyphs\" textLength=\"94\" x=\"134\" y=\"57.1387\">«interface def»</text><text fill=\"#000000\" font-family=\"sans-serif\" font-size=\"12\" lengthAdjust=\"spacingAndGlyphs\" textLength=\"3\" x=\"179.5\" y=\"71.1074\">I</text><line style=\"stroke: #383838; stroke-width: 1.5;\" x1=\"134\" x2=\"228\" y1=\"78.9375\" y2=\"78.9375\"/><text fill=\"#000000\" font-family=\"sans-serif\" font-size=\"11\" lengthAdjust=\"spacingAndGlyphs\" textLength=\"29\" x=\"139\" y=\"109.9526\">p1: P</text><text fill=\"#000000\" font-family=\"sans-serif\" font-size=\"11\" lengthAdjust=\"spacingAndGlyphs\" textLength=\"38\" x=\"139\" y=\"122.7573\">p2: ~P</text><line style=\"stroke: #383838; stroke-width: 1.0;\" x1=\"134\" x2=\"166\" y1=\"93.3398\" y2=\"93.3398\"/><text fill=\"#000000\" font-family=\"sans-serif\" font-size=\"11\" lengthAdjust=\"spacingAndGlyphs\" textLength=\"30\" x=\"166\" y=\"96.6479\">ports</text><line style=\"stroke: #383838; stroke-width: 1.0;\" x1=\"196\" x2=\"228\" y1=\"93.3398\" y2=\"93.3398\"/></a><!--MD5=[49a0ec8f00dab7302a31f22d0f0fe584]\n",
       "class E12--><a href=\"psysml:805f8ddd-ca4a-414c-92f1-ea459766cc23\" target=\"_top\" title=\"psysml:805f8ddd-ca4a-414c-92f1-ea459766cc23\" xlink:actuate=\"onRequest\" xlink:href=\"psysml:805f8ddd-ca4a-414c-92f1-ea459766cc23\" xlink:show=\"new\" xlink:title=\"psysml:805f8ddd-ca4a-414c-92f1-ea459766cc23\" xlink:type=\"simple\"><rect fill=\"#FFFFFF\" height=\"45.9375\" id=\"E12\" style=\"stroke: #383838; stroke-width: 1.5;\" width=\"66\" x=\"32\" y=\"62\"/><text fill=\"#000000\" font-family=\"sans-serif\" font-size=\"12\" font-style=\"italic\" lengthAdjust=\"spacingAndGlyphs\" textLength=\"64\" x=\"33\" y=\"78.1387\">«part def»</text><text fill=\"#000000\" font-family=\"sans-serif\" font-size=\"12\" lengthAdjust=\"spacingAndGlyphs\" textLength=\"16\" x=\"57\" y=\"92.1074\">B1</text><line style=\"stroke: #383838; stroke-width: 1.5;\" x1=\"33\" x2=\"97\" y1=\"99.9375\" y2=\"99.9375\"/></a><!--MD5=[ee3c913d1a06f366521f9ef512b67efe]\n",
       "class E13--><a href=\"psysml:072097f8-3b46-444f-b0fb-f8fd70c894a4\" target=\"_top\" title=\"psysml:072097f8-3b46-444f-b0fb-f8fd70c894a4\" xlink:actuate=\"onRequest\" xlink:href=\"psysml:072097f8-3b46-444f-b0fb-f8fd70c894a4\" xlink:show=\"new\" xlink:title=\"psysml:072097f8-3b46-444f-b0fb-f8fd70c894a4\" xlink:type=\"simple\"><rect fill=\"#FFFFFF\" height=\"88.3516\" id=\"E13\" rx=\"10\" ry=\"10\" style=\"stroke: #383838; stroke-width: 1.5;\" width=\"50\" x=\"40\" y=\"189\"/><text fill=\"#000000\" font-family=\"sans-serif\" font-size=\"12\" font-style=\"italic\" lengthAdjust=\"spacingAndGlyphs\" textLength=\"40\" x=\"45\" y=\"205.1387\">«part»</text><text fill=\"#000000\" font-family=\"sans-serif\" font-size=\"12\" lengthAdjust=\"spacingAndGlyphs\" textLength=\"8\" x=\"61\" y=\"219.1074\">p</text><line style=\"stroke: #383838; stroke-width: 1.5;\" x1=\"41\" x2=\"89\" y1=\"226.9375\" y2=\"226.9375\"/><text fill=\"#000000\" font-family=\"sans-serif\" font-size=\"11\" lengthAdjust=\"spacingAndGlyphs\" textLength=\"29\" x=\"46\" y=\"257.9526\">p1: P</text><text fill=\"#000000\" font-family=\"sans-serif\" font-size=\"11\" lengthAdjust=\"spacingAndGlyphs\" textLength=\"38\" x=\"46\" y=\"270.7573\">p2: ~P</text><line style=\"stroke: #383838; stroke-width: 1.0;\" x1=\"41\" x2=\"50\" y1=\"241.3398\" y2=\"241.3398\"/><text fill=\"#000000\" font-family=\"sans-serif\" font-size=\"11\" lengthAdjust=\"spacingAndGlyphs\" textLength=\"30\" x=\"50\" y=\"244.6479\">ports</text><line style=\"stroke: #383838; stroke-width: 1.0;\" x1=\"80\" x2=\"89\" y1=\"241.3398\" y2=\"241.3398\"/></a><!--MD5=[062ed86c389d1a88f61c6380d0491e17]\n",
       "reverse link E12 to E13--><a href=\"psysml:072097f8-3b46-444f-b0fb-f8fd70c894a4\" target=\"_top\" title=\"psysml:072097f8-3b46-444f-b0fb-f8fd70c894a4\" xlink:actuate=\"onRequest\" xlink:href=\"psysml:072097f8-3b46-444f-b0fb-f8fd70c894a4\" xlink:show=\"new\" xlink:title=\"psysml:072097f8-3b46-444f-b0fb-f8fd70c894a4\" xlink:type=\"simple\"><path d=\"M65,121.12 C65,121.12 65,188.9 65,188.9 \" fill=\"none\" id=\"E12&lt;-E13\" style=\"stroke: #383838; stroke-width: 1.0;\"/><polygon fill=\"#383838\" points=\"65,108.12,61.0066,114.1244,65.0132,120.12,69.0066,114.1156,65,108.12\" style=\"stroke: #383838; stroke-width: 1.0;\"/></a><!--MD5=[0575e45807b6269a619f44e48c614598]\n",
       "@startuml\r\n",
       "skinparam linetype ortho\r\n",
       "skinparam monochrome true\r\n",
       "skinparam classbackgroundcolor white\r\n",
       "skinparam shadowing false\r\n",
       "skinparam wrapWidth 300\r\n",
       "hide circle\r\n",
       "\r\n",
       "package \"ConjugationTest\" as E1  [[psysml:34192d11-634f-45f2-bc4e-1f94e63724b0 ]]  {\r\n",
       "comp def \"P\" as E2  <<(T,blue)port def>> [[psysml:c663f064-4c04-4527-821b-19ee83969177 ]] {\r\n",
       "}\r\n",
       "comp def \"B\" as E3  <<(T,blue)part def>> [[psysml:e064966f-e96c-463a-b744-2c95fe6cd8a1 ]] {\r\n",
       "- - ports - -\r\n",
       "p1: P\r\n",
       "p2: ~P\r\n",
       "}\r\n",
       "comp def \"A\" as E6  <<(T,blue)connection def>> [[psysml:005e78a8-b799-41cc-8c3e-bd1642b3bc90 ]] {\r\n",
       "- - ports - -\r\n",
       "p1: P\r\n",
       "p2: ~P\r\n",
       "}\r\n",
       "comp def \"I\" as E9  <<(T,blue)interface def>> [[psysml:21ca298b-43fb-4a5a-8828-d457e715a9a7 ]] {\r\n",
       "- - ports - -\r\n",
       "p1: P\r\n",
       "p2: ~P\r\n",
       "}\r\n",
       "comp def \"B1\" as E12  <<(T,blue)part def>> [[psysml:805f8ddd-ca4a-414c-92f1-ea459766cc23 ]] {\r\n",
       "}\r\n",
       "comp usage \"p\" as E13  <<(T,blue)part>> [[psysml:072097f8-3b46-444f-b0fb-f8fd70c894a4 ]] {\r\n",
       "- - ports - -\r\n",
       "p1: P\r\n",
       "p2: ~P\r\n",
       "}\r\n",
       "E12 *- - E13 [[psysml:072097f8-3b46-444f-b0fb-f8fd70c894a4 ]] \r\n",
       "}\r\n",
       "@enduml\r\n",
       "\n",
       "PlantUML version 1.2020.13(Sat Jun 13 12:26:38 UTC 2020)\n",
       "(EPL source distribution)\n",
       "Java Runtime: OpenJDK Runtime Environment\n",
       "JVM: OpenJDK 64-Bit Server VM\n",
       "Default Encoding: UTF-8\n",
       "Language: en\n",
       "Country: null\n",
       "--></g></svg>"
      ]
     },
     "execution_count": 51,
     "metadata": {},
     "output_type": "execute_result"
    }
   ],
   "source": [
    "%viz --style=\"ORTHOLINE\" --view=\"Default\" \"ConjugationTest\""
   ]
  },
  {
   "cell_type": "code",
   "execution_count": 52,
   "id": "wrong-owner",
   "metadata": {
    "execution": {
     "iopub.execute_input": "2021-03-25T15:04:13.686849Z",
     "iopub.status.busy": "2021-03-25T15:04:13.686365Z",
     "iopub.status.idle": "2021-03-25T15:04:14.339991Z",
     "shell.execute_reply": "2021-03-25T15:04:14.338587Z"
    }
   },
   "outputs": [
    {
     "data": {
      "image/svg+xml": [
       "<?xml version=\"1.0\" encoding=\"UTF-8\" standalone=\"no\"?><svg xmlns=\"http://www.w3.org/2000/svg\" xmlns:xlink=\"http://www.w3.org/1999/xlink\" contentScriptType=\"application/ecmascript\" contentStyleType=\"text/css\" height=\"305px\" preserveAspectRatio=\"none\" style=\"width:614px;height:305px;\" version=\"1.1\" viewBox=\"0 0 614 305\" width=\"614px\" zoomAndPan=\"magnify\"><defs/><g><!--MD5=[fbc87193dbaf4d95561dea2c320d4a47]\n",
       "cluster E1--><a href=\"psysml:34192d11-634f-45f2-bc4e-1f94e63724b0\" target=\"_top\" title=\"psysml:34192d11-634f-45f2-bc4e-1f94e63724b0\" xlink:actuate=\"onRequest\" xlink:href=\"psysml:34192d11-634f-45f2-bc4e-1f94e63724b0\" xlink:show=\"new\" xlink:title=\"psysml:34192d11-634f-45f2-bc4e-1f94e63724b0\" xlink:type=\"simple\"><polygon fill=\"#FFFFFF\" points=\"16,6,151,6,158,28.2969,592,28.2969,592,293,16,293,16,6\" style=\"stroke: #000000; stroke-width: 1.5;\"/><line style=\"stroke: #000000; stroke-width: 1.5;\" x1=\"16\" x2=\"158\" y1=\"28.2969\" y2=\"28.2969\"/><text fill=\"#000000\" font-family=\"sans-serif\" font-size=\"14\" font-weight=\"bold\" lengthAdjust=\"spacingAndGlyphs\" textLength=\"129\" x=\"20\" y=\"20.9951\">ConjugationTest</text></a><!--MD5=[b4997ac47864f28c2f74865a473b2911]\n",
       "class E2--><a href=\"psysml:c663f064-4c04-4527-821b-19ee83969177\" target=\"_top\" title=\"psysml:c663f064-4c04-4527-821b-19ee83969177\" xlink:actuate=\"onRequest\" xlink:href=\"psysml:c663f064-4c04-4527-821b-19ee83969177\" xlink:show=\"new\" xlink:title=\"psysml:c663f064-4c04-4527-821b-19ee83969177\" xlink:type=\"simple\"><rect fill=\"#FFFFFF\" height=\"45.9375\" id=\"E2\" style=\"stroke: #383838; stroke-width: 1.5;\" width=\"66\" x=\"510\" y=\"62\"/><text fill=\"#000000\" font-family=\"sans-serif\" font-size=\"12\" font-style=\"italic\" lengthAdjust=\"spacingAndGlyphs\" textLength=\"64\" x=\"511\" y=\"78.1387\">«port def»</text><text fill=\"#000000\" font-family=\"sans-serif\" font-size=\"12\" lengthAdjust=\"spacingAndGlyphs\" textLength=\"8\" x=\"539\" y=\"92.1074\">P</text><line style=\"stroke: #383838; stroke-width: 1.5;\" x1=\"511\" x2=\"575\" y1=\"99.9375\" y2=\"99.9375\"/></a><!--MD5=[09b614a08d8cba4a07c9adeb5e0fee81]\n",
       "class E3--><a href=\"psysml:e064966f-e96c-463a-b744-2c95fe6cd8a1\" target=\"_top\" title=\"psysml:e064966f-e96c-463a-b744-2c95fe6cd8a1\" xlink:actuate=\"onRequest\" xlink:href=\"psysml:e064966f-e96c-463a-b744-2c95fe6cd8a1\" xlink:show=\"new\" xlink:title=\"psysml:e064966f-e96c-463a-b744-2c95fe6cd8a1\" xlink:type=\"simple\"><rect fill=\"#FFFFFF\" height=\"88.3516\" id=\"E3\" style=\"stroke: #383838; stroke-width: 1.5;\" width=\"66\" x=\"409\" y=\"41\"/><text fill=\"#000000\" font-family=\"sans-serif\" font-size=\"12\" font-style=\"italic\" lengthAdjust=\"spacingAndGlyphs\" textLength=\"64\" x=\"410\" y=\"57.1387\">«part def»</text><text fill=\"#000000\" font-family=\"sans-serif\" font-size=\"12\" lengthAdjust=\"spacingAndGlyphs\" textLength=\"8\" x=\"438\" y=\"71.1074\">B</text><line style=\"stroke: #383838; stroke-width: 1.5;\" x1=\"410\" x2=\"474\" y1=\"78.9375\" y2=\"78.9375\"/><text fill=\"#000000\" font-family=\"sans-serif\" font-size=\"11\" lengthAdjust=\"spacingAndGlyphs\" textLength=\"29\" x=\"415\" y=\"109.9526\">p1: P</text><text fill=\"#000000\" font-family=\"sans-serif\" font-size=\"11\" lengthAdjust=\"spacingAndGlyphs\" textLength=\"38\" x=\"415\" y=\"122.7573\">p2: ~P</text><line style=\"stroke: #383838; stroke-width: 1.0;\" x1=\"410\" x2=\"427\" y1=\"93.3398\" y2=\"93.3398\"/><text fill=\"#000000\" font-family=\"sans-serif\" font-size=\"11\" lengthAdjust=\"spacingAndGlyphs\" textLength=\"30\" x=\"427\" y=\"96.6479\">ports</text><line style=\"stroke: #383838; stroke-width: 1.0;\" x1=\"457\" x2=\"474\" y1=\"93.3398\" y2=\"93.3398\"/></a><!--MD5=[60a26617385b1d2d0262a64233df1f8d]\n",
       "class E6--><a href=\"psysml:005e78a8-b799-41cc-8c3e-bd1642b3bc90\" target=\"_top\" title=\"psysml:005e78a8-b799-41cc-8c3e-bd1642b3bc90\" xlink:actuate=\"onRequest\" xlink:href=\"psysml:005e78a8-b799-41cc-8c3e-bd1642b3bc90\" xlink:show=\"new\" xlink:title=\"psysml:005e78a8-b799-41cc-8c3e-bd1642b3bc90\" xlink:type=\"simple\"><rect fill=\"#FFFFFF\" height=\"88.3516\" id=\"E6\" style=\"stroke: #383838; stroke-width: 1.5;\" width=\"110\" x=\"264\" y=\"41\"/><text fill=\"#000000\" font-family=\"sans-serif\" font-size=\"12\" font-style=\"italic\" lengthAdjust=\"spacingAndGlyphs\" textLength=\"108\" x=\"265\" y=\"57.1387\">«connection def»</text><text fill=\"#000000\" font-family=\"sans-serif\" font-size=\"12\" lengthAdjust=\"spacingAndGlyphs\" textLength=\"8\" x=\"315\" y=\"71.1074\">A</text><line style=\"stroke: #383838; stroke-width: 1.5;\" x1=\"265\" x2=\"373\" y1=\"78.9375\" y2=\"78.9375\"/><text fill=\"#000000\" font-family=\"sans-serif\" font-size=\"11\" lengthAdjust=\"spacingAndGlyphs\" textLength=\"29\" x=\"270\" y=\"109.9526\">p1: P</text><text fill=\"#000000\" font-family=\"sans-serif\" font-size=\"11\" lengthAdjust=\"spacingAndGlyphs\" textLength=\"38\" x=\"270\" y=\"122.7573\">p2: ~P</text><line style=\"stroke: #383838; stroke-width: 1.0;\" x1=\"265\" x2=\"304\" y1=\"93.3398\" y2=\"93.3398\"/><text fill=\"#000000\" font-family=\"sans-serif\" font-size=\"11\" lengthAdjust=\"spacingAndGlyphs\" textLength=\"30\" x=\"304\" y=\"96.6479\">ports</text><line style=\"stroke: #383838; stroke-width: 1.0;\" x1=\"334\" x2=\"373\" y1=\"93.3398\" y2=\"93.3398\"/></a><!--MD5=[fd4143e9d270a159db93a4ea2a975926]\n",
       "class E9--><a href=\"psysml:21ca298b-43fb-4a5a-8828-d457e715a9a7\" target=\"_top\" title=\"psysml:21ca298b-43fb-4a5a-8828-d457e715a9a7\" xlink:actuate=\"onRequest\" xlink:href=\"psysml:21ca298b-43fb-4a5a-8828-d457e715a9a7\" xlink:show=\"new\" xlink:title=\"psysml:21ca298b-43fb-4a5a-8828-d457e715a9a7\" xlink:type=\"simple\"><rect fill=\"#FFFFFF\" height=\"88.3516\" id=\"E9\" style=\"stroke: #383838; stroke-width: 1.5;\" width=\"96\" x=\"133\" y=\"41\"/><text fill=\"#000000\" font-family=\"sans-serif\" font-size=\"12\" font-style=\"italic\" lengthAdjust=\"spacingAndGlyphs\" textLength=\"94\" x=\"134\" y=\"57.1387\">«interface def»</text><text fill=\"#000000\" font-family=\"sans-serif\" font-size=\"12\" lengthAdjust=\"spacingAndGlyphs\" textLength=\"3\" x=\"179.5\" y=\"71.1074\">I</text><line style=\"stroke: #383838; stroke-width: 1.5;\" x1=\"134\" x2=\"228\" y1=\"78.9375\" y2=\"78.9375\"/><text fill=\"#000000\" font-family=\"sans-serif\" font-size=\"11\" lengthAdjust=\"spacingAndGlyphs\" textLength=\"29\" x=\"139\" y=\"109.9526\">p1: P</text><text fill=\"#000000\" font-family=\"sans-serif\" font-size=\"11\" lengthAdjust=\"spacingAndGlyphs\" textLength=\"38\" x=\"139\" y=\"122.7573\">p2: ~P</text><line style=\"stroke: #383838; stroke-width: 1.0;\" x1=\"134\" x2=\"166\" y1=\"93.3398\" y2=\"93.3398\"/><text fill=\"#000000\" font-family=\"sans-serif\" font-size=\"11\" lengthAdjust=\"spacingAndGlyphs\" textLength=\"30\" x=\"166\" y=\"96.6479\">ports</text><line style=\"stroke: #383838; stroke-width: 1.0;\" x1=\"196\" x2=\"228\" y1=\"93.3398\" y2=\"93.3398\"/></a><!--MD5=[49a0ec8f00dab7302a31f22d0f0fe584]\n",
       "class E12--><a href=\"psysml:805f8ddd-ca4a-414c-92f1-ea459766cc23\" target=\"_top\" title=\"psysml:805f8ddd-ca4a-414c-92f1-ea459766cc23\" xlink:actuate=\"onRequest\" xlink:href=\"psysml:805f8ddd-ca4a-414c-92f1-ea459766cc23\" xlink:show=\"new\" xlink:title=\"psysml:805f8ddd-ca4a-414c-92f1-ea459766cc23\" xlink:type=\"simple\"><rect fill=\"#FFFFFF\" height=\"45.9375\" id=\"E12\" style=\"stroke: #383838; stroke-width: 1.5;\" width=\"66\" x=\"32\" y=\"62\"/><text fill=\"#000000\" font-family=\"sans-serif\" font-size=\"12\" font-style=\"italic\" lengthAdjust=\"spacingAndGlyphs\" textLength=\"64\" x=\"33\" y=\"78.1387\">«part def»</text><text fill=\"#000000\" font-family=\"sans-serif\" font-size=\"12\" lengthAdjust=\"spacingAndGlyphs\" textLength=\"16\" x=\"57\" y=\"92.1074\">B1</text><line style=\"stroke: #383838; stroke-width: 1.5;\" x1=\"33\" x2=\"97\" y1=\"99.9375\" y2=\"99.9375\"/></a><!--MD5=[ee3c913d1a06f366521f9ef512b67efe]\n",
       "class E13--><a href=\"psysml:072097f8-3b46-444f-b0fb-f8fd70c894a4\" target=\"_top\" title=\"psysml:072097f8-3b46-444f-b0fb-f8fd70c894a4\" xlink:actuate=\"onRequest\" xlink:href=\"psysml:072097f8-3b46-444f-b0fb-f8fd70c894a4\" xlink:show=\"new\" xlink:title=\"psysml:072097f8-3b46-444f-b0fb-f8fd70c894a4\" xlink:type=\"simple\"><rect fill=\"#FFFFFF\" height=\"88.3516\" id=\"E13\" rx=\"10\" ry=\"10\" style=\"stroke: #383838; stroke-width: 1.5;\" width=\"50\" x=\"40\" y=\"189\"/><text fill=\"#000000\" font-family=\"sans-serif\" font-size=\"12\" font-style=\"italic\" lengthAdjust=\"spacingAndGlyphs\" textLength=\"40\" x=\"45\" y=\"205.1387\">«part»</text><text fill=\"#000000\" font-family=\"sans-serif\" font-size=\"12\" lengthAdjust=\"spacingAndGlyphs\" textLength=\"8\" x=\"61\" y=\"219.1074\">p</text><line style=\"stroke: #383838; stroke-width: 1.5;\" x1=\"41\" x2=\"89\" y1=\"226.9375\" y2=\"226.9375\"/><text fill=\"#000000\" font-family=\"sans-serif\" font-size=\"11\" lengthAdjust=\"spacingAndGlyphs\" textLength=\"29\" x=\"46\" y=\"257.9526\">p1: P</text><text fill=\"#000000\" font-family=\"sans-serif\" font-size=\"11\" lengthAdjust=\"spacingAndGlyphs\" textLength=\"38\" x=\"46\" y=\"270.7573\">p2: ~P</text><line style=\"stroke: #383838; stroke-width: 1.0;\" x1=\"41\" x2=\"50\" y1=\"241.3398\" y2=\"241.3398\"/><text fill=\"#000000\" font-family=\"sans-serif\" font-size=\"11\" lengthAdjust=\"spacingAndGlyphs\" textLength=\"30\" x=\"50\" y=\"244.6479\">ports</text><line style=\"stroke: #383838; stroke-width: 1.0;\" x1=\"80\" x2=\"89\" y1=\"241.3398\" y2=\"241.3398\"/></a><!--MD5=[062ed86c389d1a88f61c6380d0491e17]\n",
       "reverse link E12 to E13--><a href=\"psysml:072097f8-3b46-444f-b0fb-f8fd70c894a4\" target=\"_top\" title=\"psysml:072097f8-3b46-444f-b0fb-f8fd70c894a4\" xlink:actuate=\"onRequest\" xlink:href=\"psysml:072097f8-3b46-444f-b0fb-f8fd70c894a4\" xlink:show=\"new\" xlink:title=\"psysml:072097f8-3b46-444f-b0fb-f8fd70c894a4\" xlink:type=\"simple\"><path d=\"M65,121.12 C65,121.12 65,188.9 65,188.9 \" fill=\"none\" id=\"E12&lt;-E13\" style=\"stroke: #383838; stroke-width: 1.0;\"/><polygon fill=\"#383838\" points=\"65,108.12,61.0066,114.1244,65.0132,120.12,69.0066,114.1156,65,108.12\" style=\"stroke: #383838; stroke-width: 1.0;\"/></a><!--MD5=[0575e45807b6269a619f44e48c614598]\n",
       "@startuml\r\n",
       "skinparam linetype ortho\r\n",
       "skinparam monochrome true\r\n",
       "skinparam classbackgroundcolor white\r\n",
       "skinparam shadowing false\r\n",
       "skinparam wrapWidth 300\r\n",
       "hide circle\r\n",
       "\r\n",
       "package \"ConjugationTest\" as E1  [[psysml:34192d11-634f-45f2-bc4e-1f94e63724b0 ]]  {\r\n",
       "comp def \"P\" as E2  <<(T,blue)port def>> [[psysml:c663f064-4c04-4527-821b-19ee83969177 ]] {\r\n",
       "}\r\n",
       "comp def \"B\" as E3  <<(T,blue)part def>> [[psysml:e064966f-e96c-463a-b744-2c95fe6cd8a1 ]] {\r\n",
       "- - ports - -\r\n",
       "p1: P\r\n",
       "p2: ~P\r\n",
       "}\r\n",
       "comp def \"A\" as E6  <<(T,blue)connection def>> [[psysml:005e78a8-b799-41cc-8c3e-bd1642b3bc90 ]] {\r\n",
       "- - ports - -\r\n",
       "p1: P\r\n",
       "p2: ~P\r\n",
       "}\r\n",
       "comp def \"I\" as E9  <<(T,blue)interface def>> [[psysml:21ca298b-43fb-4a5a-8828-d457e715a9a7 ]] {\r\n",
       "- - ports - -\r\n",
       "p1: P\r\n",
       "p2: ~P\r\n",
       "}\r\n",
       "comp def \"B1\" as E12  <<(T,blue)part def>> [[psysml:805f8ddd-ca4a-414c-92f1-ea459766cc23 ]] {\r\n",
       "}\r\n",
       "comp usage \"p\" as E13  <<(T,blue)part>> [[psysml:072097f8-3b46-444f-b0fb-f8fd70c894a4 ]] {\r\n",
       "- - ports - -\r\n",
       "p1: P\r\n",
       "p2: ~P\r\n",
       "}\r\n",
       "E12 *- - E13 [[psysml:072097f8-3b46-444f-b0fb-f8fd70c894a4 ]] \r\n",
       "}\r\n",
       "@enduml\r\n",
       "\n",
       "PlantUML version 1.2020.13(Sat Jun 13 12:26:38 UTC 2020)\n",
       "(EPL source distribution)\n",
       "Java Runtime: OpenJDK Runtime Environment\n",
       "JVM: OpenJDK 64-Bit Server VM\n",
       "Default Encoding: UTF-8\n",
       "Language: en\n",
       "Country: null\n",
       "--></g></svg>"
      ]
     },
     "execution_count": 52,
     "metadata": {},
     "output_type": "execute_result"
    }
   ],
   "source": [
    "%viz --style=\"ORTHOLINE\" --view=\"Tree\" \"ConjugationTest\""
   ]
  },
  {
   "cell_type": "code",
   "execution_count": 53,
   "id": "swiss-honolulu",
   "metadata": {
    "execution": {
     "iopub.execute_input": "2021-03-25T15:04:14.390657Z",
     "iopub.status.busy": "2021-03-25T15:04:14.390196Z",
     "iopub.status.idle": "2021-03-25T15:04:14.397983Z",
     "shell.execute_reply": "2021-03-25T15:04:14.398405Z"
    }
   },
   "outputs": [
    {
     "data": {
      "image/svg+xml": [
       "<?xml version=\"1.0\" encoding=\"UTF-8\" standalone=\"no\"?><svg xmlns=\"http://www.w3.org/2000/svg\" xmlns:xlink=\"http://www.w3.org/1999/xlink\" contentScriptType=\"application/ecmascript\" contentStyleType=\"text/css\" height=\"12px\" preserveAspectRatio=\"none\" style=\"width:12px;height:12px;\" version=\"1.1\" viewBox=\"0 0 12 12\" width=\"12px\" zoomAndPan=\"magnify\"><defs/><g><!--MD5=[97d6f38768b311333d388e66b2b27985]\n",
       "@startuml\r\n",
       "skinparam linetype ortho\r\n",
       "skinparam monochrome true\r\n",
       "skinparam classbackgroundcolor white\r\n",
       "skinparam shadowing false\r\n",
       "skinparam wrapWidth 300\r\n",
       "hide circle\r\n",
       "\r\n",
       "@enduml\r\n",
       "\n",
       "PlantUML version 1.2020.13(Sat Jun 13 12:26:38 UTC 2020)\n",
       "(EPL source distribution)\n",
       "Java Runtime: OpenJDK Runtime Environment\n",
       "JVM: OpenJDK 64-Bit Server VM\n",
       "Default Encoding: UTF-8\n",
       "Language: en\n",
       "Country: null\n",
       "--></g></svg>"
      ]
     },
     "execution_count": 53,
     "metadata": {},
     "output_type": "execute_result"
    }
   ],
   "source": [
    "%viz --style=\"ORTHOLINE\" --view=\"State\" \"ConjugationTest\""
   ]
  },
  {
   "cell_type": "code",
   "execution_count": 54,
   "id": "framed-commitment",
   "metadata": {
    "execution": {
     "iopub.execute_input": "2021-03-25T15:04:14.449903Z",
     "iopub.status.busy": "2021-03-25T15:04:14.449173Z",
     "iopub.status.idle": "2021-03-25T15:04:14.625737Z",
     "shell.execute_reply": "2021-03-25T15:04:14.624228Z"
    }
   },
   "outputs": [
    {
     "data": {
      "image/svg+xml": [
       "<?xml version=\"1.0\" encoding=\"UTF-8\" standalone=\"no\"?><svg xmlns=\"http://www.w3.org/2000/svg\" xmlns:xlink=\"http://www.w3.org/1999/xlink\" contentScriptType=\"application/ecmascript\" contentStyleType=\"text/css\" height=\"252px\" preserveAspectRatio=\"none\" style=\"width:781px;height:252px;\" version=\"1.1\" viewBox=\"0 0 781 252\" width=\"781px\" zoomAndPan=\"magnify\"><defs/><g><!--MD5=[fbc87193dbaf4d95561dea2c320d4a47]\n",
       "cluster E1--><a href=\"psysml:34192d11-634f-45f2-bc4e-1f94e63724b0\" target=\"_top\" title=\"psysml:34192d11-634f-45f2-bc4e-1f94e63724b0\" xlink:actuate=\"onRequest\" xlink:href=\"psysml:34192d11-634f-45f2-bc4e-1f94e63724b0\" xlink:show=\"new\" xlink:title=\"psysml:34192d11-634f-45f2-bc4e-1f94e63724b0\" xlink:type=\"simple\"><polygon fill=\"#FFFFFF\" points=\"16,6,151,6,158,28.2969,759,28.2969,759,240,16,240,16,6\" style=\"stroke: #000000; stroke-width: 1.5;\"/><line style=\"stroke: #000000; stroke-width: 1.5;\" x1=\"16\" x2=\"158\" y1=\"28.2969\" y2=\"28.2969\"/><text fill=\"#000000\" font-family=\"sans-serif\" font-size=\"14\" font-weight=\"bold\" lengthAdjust=\"spacingAndGlyphs\" textLength=\"129\" x=\"20\" y=\"20.9951\">ConjugationTest</text></a><!--MD5=[d5e69f78d87373223dbae638b30a9c99]\n",
       "cluster E3--><a href=\"psysml:e064966f-e96c-463a-b744-2c95fe6cd8a1\" target=\"_top\" title=\"psysml:e064966f-e96c-463a-b744-2c95fe6cd8a1\" xlink:actuate=\"onRequest\" xlink:href=\"psysml:e064966f-e96c-463a-b744-2c95fe6cd8a1\" xlink:show=\"new\" xlink:title=\"psysml:e064966f-e96c-463a-b744-2c95fe6cd8a1\" xlink:type=\"simple\"><rect fill=\"#FFFFFF\" height=\"94\" id=\"E3\" style=\"stroke: #383838; stroke-width: 1.5;\" width=\"83\" x=\"619\" y=\"114\"/><rect fill=\"#F8F8F8\" height=\"37.9375\" style=\"stroke: #383838; stroke-width: 1.5;\" width=\"83\" x=\"619\" y=\"114\"/><text fill=\"#000000\" font-family=\"sans-serif\" font-size=\"12\" font-style=\"italic\" lengthAdjust=\"spacingAndGlyphs\" textLength=\"64\" x=\"628.5\" y=\"130.1387\">«part def»</text><text fill=\"#000000\" font-family=\"sans-serif\" font-size=\"12\" lengthAdjust=\"spacingAndGlyphs\" textLength=\"8\" x=\"656.5\" y=\"144.1074\">B</text></a><!--MD5=[14e3b0961a2654348d326746436168a1]\n",
       "cluster E6--><a href=\"psysml:005e78a8-b799-41cc-8c3e-bd1642b3bc90\" target=\"_top\" title=\"psysml:005e78a8-b799-41cc-8c3e-bd1642b3bc90\" xlink:actuate=\"onRequest\" xlink:href=\"psysml:005e78a8-b799-41cc-8c3e-bd1642b3bc90\" xlink:show=\"new\" xlink:title=\"psysml:005e78a8-b799-41cc-8c3e-bd1642b3bc90\" xlink:type=\"simple\"><rect fill=\"#FFFFFF\" height=\"94\" id=\"E6\" style=\"stroke: #383838; stroke-width: 1.5;\" width=\"150\" x=\"465\" y=\"114\"/><rect fill=\"#F8F8F8\" height=\"37.9375\" style=\"stroke: #383838; stroke-width: 1.5;\" width=\"150\" x=\"465\" y=\"114\"/><text fill=\"#000000\" font-family=\"sans-serif\" font-size=\"12\" font-style=\"italic\" lengthAdjust=\"spacingAndGlyphs\" textLength=\"108\" x=\"486\" y=\"130.1387\">«connection def»</text><text fill=\"#000000\" font-family=\"sans-serif\" font-size=\"12\" lengthAdjust=\"spacingAndGlyphs\" textLength=\"8\" x=\"536\" y=\"144.1074\">A</text></a><!--MD5=[7f149f147074ac12df2cb0a7728a5fb0]\n",
       "cluster E9--><a href=\"psysml:21ca298b-43fb-4a5a-8828-d457e715a9a7\" target=\"_top\" title=\"psysml:21ca298b-43fb-4a5a-8828-d457e715a9a7\" xlink:actuate=\"onRequest\" xlink:href=\"psysml:21ca298b-43fb-4a5a-8828-d457e715a9a7\" xlink:show=\"new\" xlink:title=\"psysml:21ca298b-43fb-4a5a-8828-d457e715a9a7\" xlink:type=\"simple\"><rect fill=\"#FFFFFF\" height=\"94\" id=\"E9\" style=\"stroke: #383838; stroke-width: 1.5;\" width=\"141\" x=\"296\" y=\"114\"/><rect fill=\"#F8F8F8\" height=\"37.9375\" style=\"stroke: #383838; stroke-width: 1.5;\" width=\"141\" x=\"296\" y=\"114\"/><text fill=\"#000000\" font-family=\"sans-serif\" font-size=\"12\" font-style=\"italic\" lengthAdjust=\"spacingAndGlyphs\" textLength=\"94\" x=\"319.5\" y=\"130.1387\">«interface def»</text><text fill=\"#000000\" font-family=\"sans-serif\" font-size=\"12\" lengthAdjust=\"spacingAndGlyphs\" textLength=\"3\" x=\"365\" y=\"144.1074\">I</text></a><!--MD5=[47bea60c1a0ac6c1143df232041969c0]\n",
       "cluster E12--><a href=\"psysml:805f8ddd-ca4a-414c-92f1-ea459766cc23\" target=\"_top\" title=\"psysml:805f8ddd-ca4a-414c-92f1-ea459766cc23\" xlink:actuate=\"onRequest\" xlink:href=\"psysml:805f8ddd-ca4a-414c-92f1-ea459766cc23\" xlink:show=\"new\" xlink:title=\"psysml:805f8ddd-ca4a-414c-92f1-ea459766cc23\" xlink:type=\"simple\"><rect fill=\"#FFFFFF\" height=\"167\" id=\"E12\" style=\"stroke: #383838; stroke-width: 1.5;\" width=\"107\" x=\"162\" y=\"49\"/><rect fill=\"#F8F8F8\" height=\"37.9375\" style=\"stroke: #383838; stroke-width: 1.5;\" width=\"107\" x=\"162\" y=\"49\"/><text fill=\"#000000\" font-family=\"sans-serif\" font-size=\"12\" font-style=\"italic\" lengthAdjust=\"spacingAndGlyphs\" textLength=\"64\" x=\"183.5\" y=\"65.1387\">«part def»</text><text fill=\"#000000\" font-family=\"sans-serif\" font-size=\"12\" lengthAdjust=\"spacingAndGlyphs\" textLength=\"16\" x=\"207.5\" y=\"79.1074\">B1</text></a><!--MD5=[03104f77b71e2d8d3500c651e6e31181]\n",
       "cluster E13--><a href=\"psysml:072097f8-3b46-444f-b0fb-f8fd70c894a4\" target=\"_top\" title=\"psysml:072097f8-3b46-444f-b0fb-f8fd70c894a4\" xlink:actuate=\"onRequest\" xlink:href=\"psysml:072097f8-3b46-444f-b0fb-f8fd70c894a4\" xlink:show=\"new\" xlink:title=\"psysml:072097f8-3b46-444f-b0fb-f8fd70c894a4\" xlink:type=\"simple\"><rect fill=\"#FFFFFF\" height=\"86\" id=\"E13\" rx=\"10\" ry=\"10\" style=\"stroke: #383838; stroke-width: 1.5;\" width=\"83\" x=\"174\" y=\"114\"/><rect fill=\"#F8F8F8\" height=\"23.9688\" rx=\"10\" ry=\"10\" style=\"stroke: #F8F8F8; stroke-width: 1.5;\" width=\"83\" x=\"174\" y=\"114\"/><rect fill=\"#F8F8F8\" height=\"10\" style=\"stroke: #F8F8F8; stroke-width: 1.5;\" width=\"83\" x=\"174\" y=\"127.9688\"/><rect fill=\"none\" height=\"86\" id=\"E13\" rx=\"10\" ry=\"10\" style=\"stroke: #383838; stroke-width: 1.5;\" width=\"83\" x=\"174\" y=\"114\"/><text fill=\"#000000\" font-family=\"sans-serif\" font-size=\"12\" lengthAdjust=\"spacingAndGlyphs\" textLength=\"8\" x=\"211.5\" y=\"130.1387\">p</text><line style=\"stroke: #383838; stroke-width: 1.0;\" x1=\"174\" x2=\"257\" y1=\"137.9688\" y2=\"137.9688\"/></a><!--MD5=[b4997ac47864f28c2f74865a473b2911]\n",
       "class E2--><a href=\"psysml:c663f064-4c04-4527-821b-19ee83969177\" target=\"_top\" title=\"psysml:c663f064-4c04-4527-821b-19ee83969177\" xlink:actuate=\"onRequest\" xlink:href=\"psysml:c663f064-4c04-4527-821b-19ee83969177\" xlink:show=\"new\" xlink:title=\"psysml:c663f064-4c04-4527-821b-19ee83969177\" xlink:type=\"simple\"><rect fill=\"#FFFFFF\" height=\"53.9375\" id=\"E2\" style=\"stroke: #383838; stroke-width: 1.5;\" width=\"114\" x=\"32\" y=\"87\"/><text fill=\"#000000\" font-family=\"sans-serif\" font-size=\"12\" font-style=\"italic\" lengthAdjust=\"spacingAndGlyphs\" textLength=\"112\" x=\"33\" y=\"103.1387\">«(T,blue)port def»</text><text fill=\"#000000\" font-family=\"sans-serif\" font-size=\"12\" lengthAdjust=\"spacingAndGlyphs\" textLength=\"8\" x=\"85\" y=\"117.1074\">P</text><line style=\"stroke: #383838; stroke-width: 1.5;\" x1=\"33\" x2=\"145\" y1=\"124.9375\" y2=\"124.9375\"/><line style=\"stroke: #383838; stroke-width: 1.5;\" x1=\"33\" x2=\"145\" y1=\"132.9375\" y2=\"132.9375\"/></a><text fill=\"#000000\" font-family=\"sans-serif\" font-size=\"14\" lengthAdjust=\"spacingAndGlyphs\" textLength=\"36\" x=\"619\" y=\"92.6982\">p1: P</text><rect fill=\"#383838\" height=\"12\" style=\"stroke: #F8F8F8; stroke-width: 1.5;\" width=\"12\" x=\"631\" y=\"108\"/><text fill=\"#000000\" font-family=\"sans-serif\" font-size=\"14\" lengthAdjust=\"spacingAndGlyphs\" textLength=\"48\" x=\"660\" y=\"92.6982\">p2: ~P</text><rect fill=\"#383838\" height=\"12\" style=\"stroke: #F8F8F8; stroke-width: 1.5;\" width=\"12\" x=\"678\" y=\"108\"/><text fill=\"#000000\" font-family=\"sans-serif\" font-size=\"14\" lengthAdjust=\"spacingAndGlyphs\" textLength=\"36\" x=\"465\" y=\"92.6982\">p1: P</text><rect fill=\"#383838\" height=\"12\" style=\"stroke: #F8F8F8; stroke-width: 1.5;\" width=\"12\" x=\"477\" y=\"108\"/><text fill=\"#000000\" font-family=\"sans-serif\" font-size=\"14\" lengthAdjust=\"spacingAndGlyphs\" textLength=\"48\" x=\"506\" y=\"92.6982\">p2: ~P</text><rect fill=\"#383838\" height=\"12\" style=\"stroke: #F8F8F8; stroke-width: 1.5;\" width=\"12\" x=\"524\" y=\"108\"/><text fill=\"#000000\" font-family=\"sans-serif\" font-size=\"14\" lengthAdjust=\"spacingAndGlyphs\" textLength=\"36\" x=\"296\" y=\"92.6982\">p1: P</text><rect fill=\"#383838\" height=\"12\" style=\"stroke: #F8F8F8; stroke-width: 1.5;\" width=\"12\" x=\"308\" y=\"108\"/><text fill=\"#000000\" font-family=\"sans-serif\" font-size=\"14\" lengthAdjust=\"spacingAndGlyphs\" textLength=\"48\" x=\"337\" y=\"92.6982\">p2: ~P</text><rect fill=\"#383838\" height=\"12\" style=\"stroke: #F8F8F8; stroke-width: 1.5;\" width=\"12\" x=\"355\" y=\"108\"/><text fill=\"#000000\" font-family=\"sans-serif\" font-size=\"14\" lengthAdjust=\"spacingAndGlyphs\" textLength=\"36\" x=\"174\" y=\"92.6982\">p1: P</text><rect fill=\"#383838\" height=\"12\" style=\"stroke: #F8F8F8; stroke-width: 1.5;\" width=\"12\" x=\"186\" y=\"108\"/><text fill=\"#000000\" font-family=\"sans-serif\" font-size=\"14\" lengthAdjust=\"spacingAndGlyphs\" textLength=\"48\" x=\"215\" y=\"92.6982\">p2: ~P</text><rect fill=\"#383838\" height=\"12\" style=\"stroke: #F8F8F8; stroke-width: 1.5;\" width=\"12\" x=\"233\" y=\"108\"/><!--MD5=[4ce51ac6fa4cf5202df3859e2718f033]\n",
       "link E15 to E14--><a href=\"psysml:d49afd8d-54fc-473a-b637-3cd599cd4fa7\" target=\"_top\" title=\"psysml:d49afd8d-54fc-473a-b637-3cd599cd4fa7\" xlink:actuate=\"onRequest\" xlink:href=\"psysml:d49afd8d-54fc-473a-b637-3cd599cd4fa7\" xlink:show=\"new\" xlink:title=\"psysml:d49afd8d-54fc-473a-b637-3cd599cd4fa7\" xlink:type=\"simple\"><path d=\"M232.86,114 C223.9,114 207.34,114 198.3,114 \" fill=\"none\" id=\"E15-E14\" style=\"stroke: #383838; stroke-width: 3.0;\"/></a><!--MD5=[4ce51ac6fa4cf5202df3859e2718f033]\n",
       "link E15 to E14--><a href=\"psysml:158350c1-11e6-4f2f-a89e-7037efa93dae\" target=\"_top\" title=\"psysml:158350c1-11e6-4f2f-a89e-7037efa93dae\" xlink:actuate=\"onRequest\" xlink:href=\"psysml:158350c1-11e6-4f2f-a89e-7037efa93dae\" xlink:show=\"new\" xlink:title=\"psysml:158350c1-11e6-4f2f-a89e-7037efa93dae\" xlink:type=\"simple\"><path d=\"M232.86,117 C223.9,117 207.34,117 198.3,117 \" fill=\"none\" id=\"E15-E14-1\" style=\"stroke: #383838; stroke-width: 3.0;\"/></a><!--MD5=[d73a79a5fbb73a6d7008799fd79034b0]\n",
       "@startuml\r\n",
       "skinparam ranksep 8\r\n",
       "skinparam rectangle {\r\n",
       " backgroundColor<<block>> LightGreen\r\n",
       "}\r\n",
       "skinparam linetype ortho\r\n",
       "skinparam monochrome true\r\n",
       "skinparam classbackgroundcolor white\r\n",
       "skinparam shadowing false\r\n",
       "skinparam wrapWidth 300\r\n",
       "hide circle\r\n",
       "\r\n",
       "package \"ConjugationTest\" as E1  [[psysml:34192d11-634f-45f2-bc4e-1f94e63724b0 ]]  {\r\n",
       "def \"P\" as E2  <<(T,blue)port def>> [[psysml:c663f064-4c04-4527-821b-19ee83969177 ]] \r\n",
       "rec def \"B\" as E3  <<(T,blue)part def>> [[psysml:e064966f-e96c-463a-b744-2c95fe6cd8a1 ]] {\r\n",
       "portin \"p1: P\" as E4  <<(T,blue)port>> [[psysml:b8e0261a-441d-41a6-aff3-1d450c4cde6f ]] \r\n",
       "portin \"p2: ~P\" as E5  <<(T,blue)port>> [[psysml:cbde5ba2-4051-45bc-9875-629a3f045392 ]] \r\n",
       "}\r\n",
       "rec def \"A\" as E6  <<(T,blue)connection def>> [[psysml:005e78a8-b799-41cc-8c3e-bd1642b3bc90 ]] {\r\n",
       "portin \"p1: P\" as E7  <<(T,blue)port>> [[psysml:55181707-d268-487e-aa99-75d3872aefbc ]] \r\n",
       "portin \"p2: ~P\" as E8  <<(T,blue)port>> [[psysml:0ddbc9c9-6f57-4a43-9fe9-35a450e63798 ]] \r\n",
       "}\r\n",
       "rec def \"I\" as E9  <<(T,blue)interface def>> [[psysml:21ca298b-43fb-4a5a-8828-d457e715a9a7 ]] {\r\n",
       "portin \"p1: P\" as E10  <<(T,blue)port>> [[psysml:4800d5e0-15fd-4b6f-b429-bddfb731ebe9 ]] \r\n",
       "portin \"p2: ~P\" as E11  <<(T,blue)port>> [[psysml:5bc48f79-cf8d-4956-b81e-e57ba2e7fb16 ]] \r\n",
       "}\r\n",
       "rec def \"B1\" as E12  <<(T,blue)part def>> [[psysml:805f8ddd-ca4a-414c-92f1-ea459766cc23 ]] {\r\n",
       "rec usage \"p\" as E13  [[psysml:072097f8-3b46-444f-b0fb-f8fd70c894a4 ]] {\r\n",
       "portin \"p1: P\" as E14  <<(T,blue)port>> [[psysml:17432448-deec-4082-b953-29eb581620b4 ]] \r\n",
       "portin \"p2: ~P\" as E15  <<(T,blue)port>> [[psysml:c01cfbc6-39be-4cca-af9b-913ba499d52d ]] \r\n",
       "}\r\n",
       "}\r\n",
       "E15 -[thickness=3]- E14 [[psysml:d49afd8d-54fc-473a-b637-3cd599cd4fa7 ]] \r\n",
       "E15 -[thickness=3]- E14 [[psysml:158350c1-11e6-4f2f-a89e-7037efa93dae ]] \r\n",
       "}\r\n",
       "@enduml\r\n",
       "\n",
       "PlantUML version 1.2020.13(Sat Jun 13 12:26:38 UTC 2020)\n",
       "(EPL source distribution)\n",
       "Java Runtime: OpenJDK Runtime Environment\n",
       "JVM: OpenJDK 64-Bit Server VM\n",
       "Default Encoding: UTF-8\n",
       "Language: en\n",
       "Country: null\n",
       "--></g></svg>"
      ]
     },
     "execution_count": 54,
     "metadata": {},
     "output_type": "execute_result"
    }
   ],
   "source": [
    "%viz --style=\"ORTHOLINE\" --view=\"Interconnection\" \"ConjugationTest\""
   ]
  },
  {
   "cell_type": "code",
   "execution_count": 55,
   "id": "proud-produce",
   "metadata": {
    "execution": {
     "iopub.execute_input": "2021-03-25T15:04:14.678423Z",
     "iopub.status.busy": "2021-03-25T15:04:14.677036Z",
     "iopub.status.idle": "2021-03-25T15:04:14.686650Z",
     "shell.execute_reply": "2021-03-25T15:04:14.686318Z"
    }
   },
   "outputs": [
    {
     "data": {
      "image/svg+xml": [
       "<?xml version=\"1.0\" encoding=\"UTF-8\" standalone=\"no\"?><svg xmlns=\"http://www.w3.org/2000/svg\" xmlns:xlink=\"http://www.w3.org/1999/xlink\" contentScriptType=\"application/ecmascript\" contentStyleType=\"text/css\" height=\"12px\" preserveAspectRatio=\"none\" style=\"width:12px;height:12px;\" version=\"1.1\" viewBox=\"0 0 12 12\" width=\"12px\" zoomAndPan=\"magnify\"><defs/><g><!--MD5=[72934c63077099a26744516a776b4749]\n",
       "@startuml\r\n",
       "skinparam ranksep 8\r\n",
       "skinparam linetype ortho\r\n",
       "skinparam monochrome true\r\n",
       "skinparam classbackgroundcolor white\r\n",
       "skinparam shadowing false\r\n",
       "skinparam wrapWidth 300\r\n",
       "hide circle\r\n",
       "\r\n",
       "@enduml\r\n",
       "\n",
       "PlantUML version 1.2020.13(Sat Jun 13 12:26:38 UTC 2020)\n",
       "(EPL source distribution)\n",
       "Java Runtime: OpenJDK Runtime Environment\n",
       "JVM: OpenJDK 64-Bit Server VM\n",
       "Default Encoding: UTF-8\n",
       "Language: en\n",
       "Country: null\n",
       "--></g></svg>"
      ]
     },
     "execution_count": 55,
     "metadata": {},
     "output_type": "execute_result"
    }
   ],
   "source": [
    "%viz --style=\"ORTHOLINE\" --view=\"Action\" \"ConjugationTest\""
   ]
  },
  {
   "cell_type": "code",
   "execution_count": 56,
   "id": "maritime-florist",
   "metadata": {
    "execution": {
     "iopub.execute_input": "2021-03-25T15:04:14.738286Z",
     "iopub.status.busy": "2021-03-25T15:04:14.737710Z",
     "iopub.status.idle": "2021-03-25T15:04:15.389449Z",
     "shell.execute_reply": "2021-03-25T15:04:15.388120Z"
    }
   },
   "outputs": [
    {
     "data": {
      "image/svg+xml": [
       "<?xml version=\"1.0\" encoding=\"UTF-8\" standalone=\"no\"?><svg xmlns=\"http://www.w3.org/2000/svg\" xmlns:xlink=\"http://www.w3.org/1999/xlink\" contentScriptType=\"application/ecmascript\" contentStyleType=\"text/css\" height=\"305px\" preserveAspectRatio=\"none\" style=\"width:614px;height:305px;\" version=\"1.1\" viewBox=\"0 0 614 305\" width=\"614px\" zoomAndPan=\"magnify\"><defs/><g><!--MD5=[fbc87193dbaf4d95561dea2c320d4a47]\n",
       "cluster E1--><a href=\"psysml:34192d11-634f-45f2-bc4e-1f94e63724b0\" target=\"_top\" title=\"psysml:34192d11-634f-45f2-bc4e-1f94e63724b0\" xlink:actuate=\"onRequest\" xlink:href=\"psysml:34192d11-634f-45f2-bc4e-1f94e63724b0\" xlink:show=\"new\" xlink:title=\"psysml:34192d11-634f-45f2-bc4e-1f94e63724b0\" xlink:type=\"simple\"><polygon fill=\"#FFFFFF\" points=\"16,6,151,6,158,28.2969,592,28.2969,592,293,16,293,16,6\" style=\"stroke: #000000; stroke-width: 1.5;\"/><line style=\"stroke: #000000; stroke-width: 1.5;\" x1=\"16\" x2=\"158\" y1=\"28.2969\" y2=\"28.2969\"/><text fill=\"#000000\" font-family=\"sans-serif\" font-size=\"14\" font-weight=\"bold\" lengthAdjust=\"spacingAndGlyphs\" textLength=\"129\" x=\"20\" y=\"20.9951\">ConjugationTest</text></a><!--MD5=[b4997ac47864f28c2f74865a473b2911]\n",
       "class E2--><a href=\"psysml:c663f064-4c04-4527-821b-19ee83969177\" target=\"_top\" title=\"psysml:c663f064-4c04-4527-821b-19ee83969177\" xlink:actuate=\"onRequest\" xlink:href=\"psysml:c663f064-4c04-4527-821b-19ee83969177\" xlink:show=\"new\" xlink:title=\"psysml:c663f064-4c04-4527-821b-19ee83969177\" xlink:type=\"simple\"><rect fill=\"#FFFFFF\" height=\"45.9375\" id=\"E2\" style=\"stroke: #383838; stroke-width: 1.5;\" width=\"66\" x=\"510\" y=\"62\"/><text fill=\"#000000\" font-family=\"sans-serif\" font-size=\"12\" font-style=\"italic\" lengthAdjust=\"spacingAndGlyphs\" textLength=\"64\" x=\"511\" y=\"78.1387\">«port def»</text><text fill=\"#000000\" font-family=\"sans-serif\" font-size=\"12\" lengthAdjust=\"spacingAndGlyphs\" textLength=\"8\" x=\"539\" y=\"92.1074\">P</text><line style=\"stroke: #383838; stroke-width: 1.5;\" x1=\"511\" x2=\"575\" y1=\"99.9375\" y2=\"99.9375\"/></a><!--MD5=[09b614a08d8cba4a07c9adeb5e0fee81]\n",
       "class E3--><a href=\"psysml:e064966f-e96c-463a-b744-2c95fe6cd8a1\" target=\"_top\" title=\"psysml:e064966f-e96c-463a-b744-2c95fe6cd8a1\" xlink:actuate=\"onRequest\" xlink:href=\"psysml:e064966f-e96c-463a-b744-2c95fe6cd8a1\" xlink:show=\"new\" xlink:title=\"psysml:e064966f-e96c-463a-b744-2c95fe6cd8a1\" xlink:type=\"simple\"><rect fill=\"#FFFFFF\" height=\"88.3516\" id=\"E3\" style=\"stroke: #383838; stroke-width: 1.5;\" width=\"66\" x=\"409\" y=\"41\"/><text fill=\"#000000\" font-family=\"sans-serif\" font-size=\"12\" font-style=\"italic\" lengthAdjust=\"spacingAndGlyphs\" textLength=\"64\" x=\"410\" y=\"57.1387\">«part def»</text><text fill=\"#000000\" font-family=\"sans-serif\" font-size=\"12\" lengthAdjust=\"spacingAndGlyphs\" textLength=\"8\" x=\"438\" y=\"71.1074\">B</text><line style=\"stroke: #383838; stroke-width: 1.5;\" x1=\"410\" x2=\"474\" y1=\"78.9375\" y2=\"78.9375\"/><text fill=\"#000000\" font-family=\"sans-serif\" font-size=\"11\" lengthAdjust=\"spacingAndGlyphs\" textLength=\"29\" x=\"415\" y=\"109.9526\">p1: P</text><text fill=\"#000000\" font-family=\"sans-serif\" font-size=\"11\" lengthAdjust=\"spacingAndGlyphs\" textLength=\"38\" x=\"415\" y=\"122.7573\">p2: ~P</text><line style=\"stroke: #383838; stroke-width: 1.0;\" x1=\"410\" x2=\"427\" y1=\"93.3398\" y2=\"93.3398\"/><text fill=\"#000000\" font-family=\"sans-serif\" font-size=\"11\" lengthAdjust=\"spacingAndGlyphs\" textLength=\"30\" x=\"427\" y=\"96.6479\">ports</text><line style=\"stroke: #383838; stroke-width: 1.0;\" x1=\"457\" x2=\"474\" y1=\"93.3398\" y2=\"93.3398\"/></a><!--MD5=[60a26617385b1d2d0262a64233df1f8d]\n",
       "class E6--><a href=\"psysml:005e78a8-b799-41cc-8c3e-bd1642b3bc90\" target=\"_top\" title=\"psysml:005e78a8-b799-41cc-8c3e-bd1642b3bc90\" xlink:actuate=\"onRequest\" xlink:href=\"psysml:005e78a8-b799-41cc-8c3e-bd1642b3bc90\" xlink:show=\"new\" xlink:title=\"psysml:005e78a8-b799-41cc-8c3e-bd1642b3bc90\" xlink:type=\"simple\"><rect fill=\"#FFFFFF\" height=\"88.3516\" id=\"E6\" style=\"stroke: #383838; stroke-width: 1.5;\" width=\"110\" x=\"264\" y=\"41\"/><text fill=\"#000000\" font-family=\"sans-serif\" font-size=\"12\" font-style=\"italic\" lengthAdjust=\"spacingAndGlyphs\" textLength=\"108\" x=\"265\" y=\"57.1387\">«connection def»</text><text fill=\"#000000\" font-family=\"sans-serif\" font-size=\"12\" lengthAdjust=\"spacingAndGlyphs\" textLength=\"8\" x=\"315\" y=\"71.1074\">A</text><line style=\"stroke: #383838; stroke-width: 1.5;\" x1=\"265\" x2=\"373\" y1=\"78.9375\" y2=\"78.9375\"/><text fill=\"#000000\" font-family=\"sans-serif\" font-size=\"11\" lengthAdjust=\"spacingAndGlyphs\" textLength=\"29\" x=\"270\" y=\"109.9526\">p1: P</text><text fill=\"#000000\" font-family=\"sans-serif\" font-size=\"11\" lengthAdjust=\"spacingAndGlyphs\" textLength=\"38\" x=\"270\" y=\"122.7573\">p2: ~P</text><line style=\"stroke: #383838; stroke-width: 1.0;\" x1=\"265\" x2=\"304\" y1=\"93.3398\" y2=\"93.3398\"/><text fill=\"#000000\" font-family=\"sans-serif\" font-size=\"11\" lengthAdjust=\"spacingAndGlyphs\" textLength=\"30\" x=\"304\" y=\"96.6479\">ports</text><line style=\"stroke: #383838; stroke-width: 1.0;\" x1=\"334\" x2=\"373\" y1=\"93.3398\" y2=\"93.3398\"/></a><!--MD5=[fd4143e9d270a159db93a4ea2a975926]\n",
       "class E9--><a href=\"psysml:21ca298b-43fb-4a5a-8828-d457e715a9a7\" target=\"_top\" title=\"psysml:21ca298b-43fb-4a5a-8828-d457e715a9a7\" xlink:actuate=\"onRequest\" xlink:href=\"psysml:21ca298b-43fb-4a5a-8828-d457e715a9a7\" xlink:show=\"new\" xlink:title=\"psysml:21ca298b-43fb-4a5a-8828-d457e715a9a7\" xlink:type=\"simple\"><rect fill=\"#FFFFFF\" height=\"88.3516\" id=\"E9\" style=\"stroke: #383838; stroke-width: 1.5;\" width=\"96\" x=\"133\" y=\"41\"/><text fill=\"#000000\" font-family=\"sans-serif\" font-size=\"12\" font-style=\"italic\" lengthAdjust=\"spacingAndGlyphs\" textLength=\"94\" x=\"134\" y=\"57.1387\">«interface def»</text><text fill=\"#000000\" font-family=\"sans-serif\" font-size=\"12\" lengthAdjust=\"spacingAndGlyphs\" textLength=\"3\" x=\"179.5\" y=\"71.1074\">I</text><line style=\"stroke: #383838; stroke-width: 1.5;\" x1=\"134\" x2=\"228\" y1=\"78.9375\" y2=\"78.9375\"/><text fill=\"#000000\" font-family=\"sans-serif\" font-size=\"11\" lengthAdjust=\"spacingAndGlyphs\" textLength=\"29\" x=\"139\" y=\"109.9526\">p1: P</text><text fill=\"#000000\" font-family=\"sans-serif\" font-size=\"11\" lengthAdjust=\"spacingAndGlyphs\" textLength=\"38\" x=\"139\" y=\"122.7573\">p2: ~P</text><line style=\"stroke: #383838; stroke-width: 1.0;\" x1=\"134\" x2=\"166\" y1=\"93.3398\" y2=\"93.3398\"/><text fill=\"#000000\" font-family=\"sans-serif\" font-size=\"11\" lengthAdjust=\"spacingAndGlyphs\" textLength=\"30\" x=\"166\" y=\"96.6479\">ports</text><line style=\"stroke: #383838; stroke-width: 1.0;\" x1=\"196\" x2=\"228\" y1=\"93.3398\" y2=\"93.3398\"/></a><!--MD5=[49a0ec8f00dab7302a31f22d0f0fe584]\n",
       "class E12--><a href=\"psysml:805f8ddd-ca4a-414c-92f1-ea459766cc23\" target=\"_top\" title=\"psysml:805f8ddd-ca4a-414c-92f1-ea459766cc23\" xlink:actuate=\"onRequest\" xlink:href=\"psysml:805f8ddd-ca4a-414c-92f1-ea459766cc23\" xlink:show=\"new\" xlink:title=\"psysml:805f8ddd-ca4a-414c-92f1-ea459766cc23\" xlink:type=\"simple\"><rect fill=\"#FFFFFF\" height=\"45.9375\" id=\"E12\" style=\"stroke: #383838; stroke-width: 1.5;\" width=\"66\" x=\"32\" y=\"62\"/><text fill=\"#000000\" font-family=\"sans-serif\" font-size=\"12\" font-style=\"italic\" lengthAdjust=\"spacingAndGlyphs\" textLength=\"64\" x=\"33\" y=\"78.1387\">«part def»</text><text fill=\"#000000\" font-family=\"sans-serif\" font-size=\"12\" lengthAdjust=\"spacingAndGlyphs\" textLength=\"16\" x=\"57\" y=\"92.1074\">B1</text><line style=\"stroke: #383838; stroke-width: 1.5;\" x1=\"33\" x2=\"97\" y1=\"99.9375\" y2=\"99.9375\"/></a><!--MD5=[ee3c913d1a06f366521f9ef512b67efe]\n",
       "class E13--><a href=\"psysml:072097f8-3b46-444f-b0fb-f8fd70c894a4\" target=\"_top\" title=\"psysml:072097f8-3b46-444f-b0fb-f8fd70c894a4\" xlink:actuate=\"onRequest\" xlink:href=\"psysml:072097f8-3b46-444f-b0fb-f8fd70c894a4\" xlink:show=\"new\" xlink:title=\"psysml:072097f8-3b46-444f-b0fb-f8fd70c894a4\" xlink:type=\"simple\"><rect fill=\"#FFFFFF\" height=\"88.3516\" id=\"E13\" rx=\"10\" ry=\"10\" style=\"stroke: #383838; stroke-width: 1.5;\" width=\"50\" x=\"40\" y=\"189\"/><text fill=\"#000000\" font-family=\"sans-serif\" font-size=\"12\" font-style=\"italic\" lengthAdjust=\"spacingAndGlyphs\" textLength=\"40\" x=\"45\" y=\"205.1387\">«part»</text><text fill=\"#000000\" font-family=\"sans-serif\" font-size=\"12\" lengthAdjust=\"spacingAndGlyphs\" textLength=\"8\" x=\"61\" y=\"219.1074\">p</text><line style=\"stroke: #383838; stroke-width: 1.5;\" x1=\"41\" x2=\"89\" y1=\"226.9375\" y2=\"226.9375\"/><text fill=\"#000000\" font-family=\"sans-serif\" font-size=\"11\" lengthAdjust=\"spacingAndGlyphs\" textLength=\"29\" x=\"46\" y=\"257.9526\">p1: P</text><text fill=\"#000000\" font-family=\"sans-serif\" font-size=\"11\" lengthAdjust=\"spacingAndGlyphs\" textLength=\"38\" x=\"46\" y=\"270.7573\">p2: ~P</text><line style=\"stroke: #383838; stroke-width: 1.0;\" x1=\"41\" x2=\"50\" y1=\"241.3398\" y2=\"241.3398\"/><text fill=\"#000000\" font-family=\"sans-serif\" font-size=\"11\" lengthAdjust=\"spacingAndGlyphs\" textLength=\"30\" x=\"50\" y=\"244.6479\">ports</text><line style=\"stroke: #383838; stroke-width: 1.0;\" x1=\"80\" x2=\"89\" y1=\"241.3398\" y2=\"241.3398\"/></a><!--MD5=[062ed86c389d1a88f61c6380d0491e17]\n",
       "reverse link E12 to E13--><a href=\"psysml:072097f8-3b46-444f-b0fb-f8fd70c894a4\" target=\"_top\" title=\"psysml:072097f8-3b46-444f-b0fb-f8fd70c894a4\" xlink:actuate=\"onRequest\" xlink:href=\"psysml:072097f8-3b46-444f-b0fb-f8fd70c894a4\" xlink:show=\"new\" xlink:title=\"psysml:072097f8-3b46-444f-b0fb-f8fd70c894a4\" xlink:type=\"simple\"><path d=\"M65,121.12 C65,121.12 65,188.9 65,188.9 \" fill=\"none\" id=\"E12&lt;-E13\" style=\"stroke: #383838; stroke-width: 1.0;\"/><polygon fill=\"#383838\" points=\"65,108.12,61.0066,114.1244,65.0132,120.12,69.0066,114.1156,65,108.12\" style=\"stroke: #383838; stroke-width: 1.0;\"/></a><!--MD5=[0575e45807b6269a619f44e48c614598]\n",
       "@startuml\r\n",
       "skinparam linetype ortho\r\n",
       "skinparam monochrome true\r\n",
       "skinparam classbackgroundcolor white\r\n",
       "skinparam shadowing false\r\n",
       "skinparam wrapWidth 300\r\n",
       "hide circle\r\n",
       "\r\n",
       "package \"ConjugationTest\" as E1  [[psysml:34192d11-634f-45f2-bc4e-1f94e63724b0 ]]  {\r\n",
       "comp def \"P\" as E2  <<(T,blue)port def>> [[psysml:c663f064-4c04-4527-821b-19ee83969177 ]] {\r\n",
       "}\r\n",
       "comp def \"B\" as E3  <<(T,blue)part def>> [[psysml:e064966f-e96c-463a-b744-2c95fe6cd8a1 ]] {\r\n",
       "- - ports - -\r\n",
       "p1: P\r\n",
       "p2: ~P\r\n",
       "}\r\n",
       "comp def \"A\" as E6  <<(T,blue)connection def>> [[psysml:005e78a8-b799-41cc-8c3e-bd1642b3bc90 ]] {\r\n",
       "- - ports - -\r\n",
       "p1: P\r\n",
       "p2: ~P\r\n",
       "}\r\n",
       "comp def \"I\" as E9  <<(T,blue)interface def>> [[psysml:21ca298b-43fb-4a5a-8828-d457e715a9a7 ]] {\r\n",
       "- - ports - -\r\n",
       "p1: P\r\n",
       "p2: ~P\r\n",
       "}\r\n",
       "comp def \"B1\" as E12  <<(T,blue)part def>> [[psysml:805f8ddd-ca4a-414c-92f1-ea459766cc23 ]] {\r\n",
       "}\r\n",
       "comp usage \"p\" as E13  <<(T,blue)part>> [[psysml:072097f8-3b46-444f-b0fb-f8fd70c894a4 ]] {\r\n",
       "- - ports - -\r\n",
       "p1: P\r\n",
       "p2: ~P\r\n",
       "}\r\n",
       "E12 *- - E13 [[psysml:072097f8-3b46-444f-b0fb-f8fd70c894a4 ]] \r\n",
       "}\r\n",
       "@enduml\r\n",
       "\n",
       "PlantUML version 1.2020.13(Sat Jun 13 12:26:38 UTC 2020)\n",
       "(EPL source distribution)\n",
       "Java Runtime: OpenJDK Runtime Environment\n",
       "JVM: OpenJDK 64-Bit Server VM\n",
       "Default Encoding: UTF-8\n",
       "Language: en\n",
       "Country: null\n",
       "--></g></svg>"
      ]
     },
     "execution_count": 56,
     "metadata": {},
     "output_type": "execute_result"
    }
   ],
   "source": [
    "%viz --style=\"ORTHOLINE\" --view=\"Sequence\" \"ConjugationTest\""
   ]
  },
  {
   "cell_type": "code",
   "execution_count": 57,
   "id": "exterior-sequence",
   "metadata": {
    "execution": {
     "iopub.execute_input": "2021-03-25T15:04:15.441321Z",
     "iopub.status.busy": "2021-03-25T15:04:15.440540Z",
     "iopub.status.idle": "2021-03-25T15:04:16.101374Z",
     "shell.execute_reply": "2021-03-25T15:04:16.098607Z"
    }
   },
   "outputs": [
    {
     "data": {
      "image/svg+xml": [
       "<?xml version=\"1.0\" encoding=\"UTF-8\" standalone=\"no\"?><svg xmlns=\"http://www.w3.org/2000/svg\" xmlns:xlink=\"http://www.w3.org/1999/xlink\" contentScriptType=\"application/ecmascript\" contentStyleType=\"text/css\" height=\"305px\" preserveAspectRatio=\"none\" style=\"width:614px;height:305px;\" version=\"1.1\" viewBox=\"0 0 614 305\" width=\"614px\" zoomAndPan=\"magnify\"><defs/><g><!--MD5=[fbc87193dbaf4d95561dea2c320d4a47]\n",
       "cluster E1--><a href=\"psysml:34192d11-634f-45f2-bc4e-1f94e63724b0\" target=\"_top\" title=\"psysml:34192d11-634f-45f2-bc4e-1f94e63724b0\" xlink:actuate=\"onRequest\" xlink:href=\"psysml:34192d11-634f-45f2-bc4e-1f94e63724b0\" xlink:show=\"new\" xlink:title=\"psysml:34192d11-634f-45f2-bc4e-1f94e63724b0\" xlink:type=\"simple\"><polygon fill=\"#FFFFFF\" points=\"16,6,151,6,158,28.2969,592,28.2969,592,293,16,293,16,6\" style=\"stroke: #000000; stroke-width: 1.5;\"/><line style=\"stroke: #000000; stroke-width: 1.5;\" x1=\"16\" x2=\"158\" y1=\"28.2969\" y2=\"28.2969\"/><text fill=\"#000000\" font-family=\"sans-serif\" font-size=\"14\" font-weight=\"bold\" lengthAdjust=\"spacingAndGlyphs\" textLength=\"129\" x=\"20\" y=\"20.9951\">ConjugationTest</text></a><!--MD5=[b4997ac47864f28c2f74865a473b2911]\n",
       "class E2--><a href=\"psysml:c663f064-4c04-4527-821b-19ee83969177\" target=\"_top\" title=\"psysml:c663f064-4c04-4527-821b-19ee83969177\" xlink:actuate=\"onRequest\" xlink:href=\"psysml:c663f064-4c04-4527-821b-19ee83969177\" xlink:show=\"new\" xlink:title=\"psysml:c663f064-4c04-4527-821b-19ee83969177\" xlink:type=\"simple\"><rect fill=\"#FFFFFF\" height=\"45.9375\" id=\"E2\" style=\"stroke: #383838; stroke-width: 1.5;\" width=\"66\" x=\"510\" y=\"62\"/><text fill=\"#000000\" font-family=\"sans-serif\" font-size=\"12\" font-style=\"italic\" lengthAdjust=\"spacingAndGlyphs\" textLength=\"64\" x=\"511\" y=\"78.1387\">«port def»</text><text fill=\"#000000\" font-family=\"sans-serif\" font-size=\"12\" lengthAdjust=\"spacingAndGlyphs\" textLength=\"8\" x=\"539\" y=\"92.1074\">P</text><line style=\"stroke: #383838; stroke-width: 1.5;\" x1=\"511\" x2=\"575\" y1=\"99.9375\" y2=\"99.9375\"/></a><!--MD5=[09b614a08d8cba4a07c9adeb5e0fee81]\n",
       "class E3--><a href=\"psysml:e064966f-e96c-463a-b744-2c95fe6cd8a1\" target=\"_top\" title=\"psysml:e064966f-e96c-463a-b744-2c95fe6cd8a1\" xlink:actuate=\"onRequest\" xlink:href=\"psysml:e064966f-e96c-463a-b744-2c95fe6cd8a1\" xlink:show=\"new\" xlink:title=\"psysml:e064966f-e96c-463a-b744-2c95fe6cd8a1\" xlink:type=\"simple\"><rect fill=\"#FFFFFF\" height=\"88.3516\" id=\"E3\" style=\"stroke: #383838; stroke-width: 1.5;\" width=\"66\" x=\"409\" y=\"41\"/><text fill=\"#000000\" font-family=\"sans-serif\" font-size=\"12\" font-style=\"italic\" lengthAdjust=\"spacingAndGlyphs\" textLength=\"64\" x=\"410\" y=\"57.1387\">«part def»</text><text fill=\"#000000\" font-family=\"sans-serif\" font-size=\"12\" lengthAdjust=\"spacingAndGlyphs\" textLength=\"8\" x=\"438\" y=\"71.1074\">B</text><line style=\"stroke: #383838; stroke-width: 1.5;\" x1=\"410\" x2=\"474\" y1=\"78.9375\" y2=\"78.9375\"/><text fill=\"#000000\" font-family=\"sans-serif\" font-size=\"11\" lengthAdjust=\"spacingAndGlyphs\" textLength=\"29\" x=\"415\" y=\"109.9526\">p1: P</text><text fill=\"#000000\" font-family=\"sans-serif\" font-size=\"11\" lengthAdjust=\"spacingAndGlyphs\" textLength=\"38\" x=\"415\" y=\"122.7573\">p2: ~P</text><line style=\"stroke: #383838; stroke-width: 1.0;\" x1=\"410\" x2=\"427\" y1=\"93.3398\" y2=\"93.3398\"/><text fill=\"#000000\" font-family=\"sans-serif\" font-size=\"11\" lengthAdjust=\"spacingAndGlyphs\" textLength=\"30\" x=\"427\" y=\"96.6479\">ports</text><line style=\"stroke: #383838; stroke-width: 1.0;\" x1=\"457\" x2=\"474\" y1=\"93.3398\" y2=\"93.3398\"/></a><!--MD5=[60a26617385b1d2d0262a64233df1f8d]\n",
       "class E6--><a href=\"psysml:005e78a8-b799-41cc-8c3e-bd1642b3bc90\" target=\"_top\" title=\"psysml:005e78a8-b799-41cc-8c3e-bd1642b3bc90\" xlink:actuate=\"onRequest\" xlink:href=\"psysml:005e78a8-b799-41cc-8c3e-bd1642b3bc90\" xlink:show=\"new\" xlink:title=\"psysml:005e78a8-b799-41cc-8c3e-bd1642b3bc90\" xlink:type=\"simple\"><rect fill=\"#FFFFFF\" height=\"88.3516\" id=\"E6\" style=\"stroke: #383838; stroke-width: 1.5;\" width=\"110\" x=\"264\" y=\"41\"/><text fill=\"#000000\" font-family=\"sans-serif\" font-size=\"12\" font-style=\"italic\" lengthAdjust=\"spacingAndGlyphs\" textLength=\"108\" x=\"265\" y=\"57.1387\">«connection def»</text><text fill=\"#000000\" font-family=\"sans-serif\" font-size=\"12\" lengthAdjust=\"spacingAndGlyphs\" textLength=\"8\" x=\"315\" y=\"71.1074\">A</text><line style=\"stroke: #383838; stroke-width: 1.5;\" x1=\"265\" x2=\"373\" y1=\"78.9375\" y2=\"78.9375\"/><text fill=\"#000000\" font-family=\"sans-serif\" font-size=\"11\" lengthAdjust=\"spacingAndGlyphs\" textLength=\"29\" x=\"270\" y=\"109.9526\">p1: P</text><text fill=\"#000000\" font-family=\"sans-serif\" font-size=\"11\" lengthAdjust=\"spacingAndGlyphs\" textLength=\"38\" x=\"270\" y=\"122.7573\">p2: ~P</text><line style=\"stroke: #383838; stroke-width: 1.0;\" x1=\"265\" x2=\"304\" y1=\"93.3398\" y2=\"93.3398\"/><text fill=\"#000000\" font-family=\"sans-serif\" font-size=\"11\" lengthAdjust=\"spacingAndGlyphs\" textLength=\"30\" x=\"304\" y=\"96.6479\">ports</text><line style=\"stroke: #383838; stroke-width: 1.0;\" x1=\"334\" x2=\"373\" y1=\"93.3398\" y2=\"93.3398\"/></a><!--MD5=[fd4143e9d270a159db93a4ea2a975926]\n",
       "class E9--><a href=\"psysml:21ca298b-43fb-4a5a-8828-d457e715a9a7\" target=\"_top\" title=\"psysml:21ca298b-43fb-4a5a-8828-d457e715a9a7\" xlink:actuate=\"onRequest\" xlink:href=\"psysml:21ca298b-43fb-4a5a-8828-d457e715a9a7\" xlink:show=\"new\" xlink:title=\"psysml:21ca298b-43fb-4a5a-8828-d457e715a9a7\" xlink:type=\"simple\"><rect fill=\"#FFFFFF\" height=\"88.3516\" id=\"E9\" style=\"stroke: #383838; stroke-width: 1.5;\" width=\"96\" x=\"133\" y=\"41\"/><text fill=\"#000000\" font-family=\"sans-serif\" font-size=\"12\" font-style=\"italic\" lengthAdjust=\"spacingAndGlyphs\" textLength=\"94\" x=\"134\" y=\"57.1387\">«interface def»</text><text fill=\"#000000\" font-family=\"sans-serif\" font-size=\"12\" lengthAdjust=\"spacingAndGlyphs\" textLength=\"3\" x=\"179.5\" y=\"71.1074\">I</text><line style=\"stroke: #383838; stroke-width: 1.5;\" x1=\"134\" x2=\"228\" y1=\"78.9375\" y2=\"78.9375\"/><text fill=\"#000000\" font-family=\"sans-serif\" font-size=\"11\" lengthAdjust=\"spacingAndGlyphs\" textLength=\"29\" x=\"139\" y=\"109.9526\">p1: P</text><text fill=\"#000000\" font-family=\"sans-serif\" font-size=\"11\" lengthAdjust=\"spacingAndGlyphs\" textLength=\"38\" x=\"139\" y=\"122.7573\">p2: ~P</text><line style=\"stroke: #383838; stroke-width: 1.0;\" x1=\"134\" x2=\"166\" y1=\"93.3398\" y2=\"93.3398\"/><text fill=\"#000000\" font-family=\"sans-serif\" font-size=\"11\" lengthAdjust=\"spacingAndGlyphs\" textLength=\"30\" x=\"166\" y=\"96.6479\">ports</text><line style=\"stroke: #383838; stroke-width: 1.0;\" x1=\"196\" x2=\"228\" y1=\"93.3398\" y2=\"93.3398\"/></a><!--MD5=[49a0ec8f00dab7302a31f22d0f0fe584]\n",
       "class E12--><a href=\"psysml:805f8ddd-ca4a-414c-92f1-ea459766cc23\" target=\"_top\" title=\"psysml:805f8ddd-ca4a-414c-92f1-ea459766cc23\" xlink:actuate=\"onRequest\" xlink:href=\"psysml:805f8ddd-ca4a-414c-92f1-ea459766cc23\" xlink:show=\"new\" xlink:title=\"psysml:805f8ddd-ca4a-414c-92f1-ea459766cc23\" xlink:type=\"simple\"><rect fill=\"#FFFFFF\" height=\"45.9375\" id=\"E12\" style=\"stroke: #383838; stroke-width: 1.5;\" width=\"66\" x=\"32\" y=\"62\"/><text fill=\"#000000\" font-family=\"sans-serif\" font-size=\"12\" font-style=\"italic\" lengthAdjust=\"spacingAndGlyphs\" textLength=\"64\" x=\"33\" y=\"78.1387\">«part def»</text><text fill=\"#000000\" font-family=\"sans-serif\" font-size=\"12\" lengthAdjust=\"spacingAndGlyphs\" textLength=\"16\" x=\"57\" y=\"92.1074\">B1</text><line style=\"stroke: #383838; stroke-width: 1.5;\" x1=\"33\" x2=\"97\" y1=\"99.9375\" y2=\"99.9375\"/></a><!--MD5=[ee3c913d1a06f366521f9ef512b67efe]\n",
       "class E13--><a href=\"psysml:072097f8-3b46-444f-b0fb-f8fd70c894a4\" target=\"_top\" title=\"psysml:072097f8-3b46-444f-b0fb-f8fd70c894a4\" xlink:actuate=\"onRequest\" xlink:href=\"psysml:072097f8-3b46-444f-b0fb-f8fd70c894a4\" xlink:show=\"new\" xlink:title=\"psysml:072097f8-3b46-444f-b0fb-f8fd70c894a4\" xlink:type=\"simple\"><rect fill=\"#FFFFFF\" height=\"88.3516\" id=\"E13\" rx=\"10\" ry=\"10\" style=\"stroke: #383838; stroke-width: 1.5;\" width=\"50\" x=\"40\" y=\"189\"/><text fill=\"#000000\" font-family=\"sans-serif\" font-size=\"12\" font-style=\"italic\" lengthAdjust=\"spacingAndGlyphs\" textLength=\"40\" x=\"45\" y=\"205.1387\">«part»</text><text fill=\"#000000\" font-family=\"sans-serif\" font-size=\"12\" lengthAdjust=\"spacingAndGlyphs\" textLength=\"8\" x=\"61\" y=\"219.1074\">p</text><line style=\"stroke: #383838; stroke-width: 1.5;\" x1=\"41\" x2=\"89\" y1=\"226.9375\" y2=\"226.9375\"/><text fill=\"#000000\" font-family=\"sans-serif\" font-size=\"11\" lengthAdjust=\"spacingAndGlyphs\" textLength=\"29\" x=\"46\" y=\"257.9526\">p1: P</text><text fill=\"#000000\" font-family=\"sans-serif\" font-size=\"11\" lengthAdjust=\"spacingAndGlyphs\" textLength=\"38\" x=\"46\" y=\"270.7573\">p2: ~P</text><line style=\"stroke: #383838; stroke-width: 1.0;\" x1=\"41\" x2=\"50\" y1=\"241.3398\" y2=\"241.3398\"/><text fill=\"#000000\" font-family=\"sans-serif\" font-size=\"11\" lengthAdjust=\"spacingAndGlyphs\" textLength=\"30\" x=\"50\" y=\"244.6479\">ports</text><line style=\"stroke: #383838; stroke-width: 1.0;\" x1=\"80\" x2=\"89\" y1=\"241.3398\" y2=\"241.3398\"/></a><!--MD5=[062ed86c389d1a88f61c6380d0491e17]\n",
       "reverse link E12 to E13--><a href=\"psysml:072097f8-3b46-444f-b0fb-f8fd70c894a4\" target=\"_top\" title=\"psysml:072097f8-3b46-444f-b0fb-f8fd70c894a4\" xlink:actuate=\"onRequest\" xlink:href=\"psysml:072097f8-3b46-444f-b0fb-f8fd70c894a4\" xlink:show=\"new\" xlink:title=\"psysml:072097f8-3b46-444f-b0fb-f8fd70c894a4\" xlink:type=\"simple\"><path d=\"M65,121.12 C65,121.12 65,188.9 65,188.9 \" fill=\"none\" id=\"E12&lt;-E13\" style=\"stroke: #383838; stroke-width: 1.0;\"/><polygon fill=\"#383838\" points=\"65,108.12,61.0066,114.1244,65.0132,120.12,69.0066,114.1156,65,108.12\" style=\"stroke: #383838; stroke-width: 1.0;\"/></a><!--MD5=[0575e45807b6269a619f44e48c614598]\n",
       "@startuml\r\n",
       "skinparam linetype ortho\r\n",
       "skinparam monochrome true\r\n",
       "skinparam classbackgroundcolor white\r\n",
       "skinparam shadowing false\r\n",
       "skinparam wrapWidth 300\r\n",
       "hide circle\r\n",
       "\r\n",
       "package \"ConjugationTest\" as E1  [[psysml:34192d11-634f-45f2-bc4e-1f94e63724b0 ]]  {\r\n",
       "comp def \"P\" as E2  <<(T,blue)port def>> [[psysml:c663f064-4c04-4527-821b-19ee83969177 ]] {\r\n",
       "}\r\n",
       "comp def \"B\" as E3  <<(T,blue)part def>> [[psysml:e064966f-e96c-463a-b744-2c95fe6cd8a1 ]] {\r\n",
       "- - ports - -\r\n",
       "p1: P\r\n",
       "p2: ~P\r\n",
       "}\r\n",
       "comp def \"A\" as E6  <<(T,blue)connection def>> [[psysml:005e78a8-b799-41cc-8c3e-bd1642b3bc90 ]] {\r\n",
       "- - ports - -\r\n",
       "p1: P\r\n",
       "p2: ~P\r\n",
       "}\r\n",
       "comp def \"I\" as E9  <<(T,blue)interface def>> [[psysml:21ca298b-43fb-4a5a-8828-d457e715a9a7 ]] {\r\n",
       "- - ports - -\r\n",
       "p1: P\r\n",
       "p2: ~P\r\n",
       "}\r\n",
       "comp def \"B1\" as E12  <<(T,blue)part def>> [[psysml:805f8ddd-ca4a-414c-92f1-ea459766cc23 ]] {\r\n",
       "}\r\n",
       "comp usage \"p\" as E13  <<(T,blue)part>> [[psysml:072097f8-3b46-444f-b0fb-f8fd70c894a4 ]] {\r\n",
       "- - ports - -\r\n",
       "p1: P\r\n",
       "p2: ~P\r\n",
       "}\r\n",
       "E12 *- - E13 [[psysml:072097f8-3b46-444f-b0fb-f8fd70c894a4 ]] \r\n",
       "}\r\n",
       "@enduml\r\n",
       "\n",
       "PlantUML version 1.2020.13(Sat Jun 13 12:26:38 UTC 2020)\n",
       "(EPL source distribution)\n",
       "Java Runtime: OpenJDK Runtime Environment\n",
       "JVM: OpenJDK 64-Bit Server VM\n",
       "Default Encoding: UTF-8\n",
       "Language: en\n",
       "Country: null\n",
       "--></g></svg>"
      ]
     },
     "execution_count": 57,
     "metadata": {},
     "output_type": "execute_result"
    }
   ],
   "source": [
    "%viz --style=\"ORTHOLINE\" --view=\"MIXED\" \"ConjugationTest\""
   ]
  }
 ],
 "metadata": {
  "kernelspec": {
   "display_name": "SysML",
   "language": "sysml",
   "name": "sysml"
  },
  "language_info": {
   "codemirror_mode": "sysml",
   "file_extension": ".sysml",
   "mimetype": "text/x-sysml",
   "name": "SysML",
   "pygments_lexer": "java",
   "version": "1.0.0"
  }
 },
 "nbformat": 4,
 "nbformat_minor": 5
}
