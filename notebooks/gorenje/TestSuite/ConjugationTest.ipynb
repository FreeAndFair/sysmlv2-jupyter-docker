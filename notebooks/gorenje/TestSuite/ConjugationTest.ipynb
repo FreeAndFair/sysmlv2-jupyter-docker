{
 "cells": [
  {
   "cell_type": "markdown",
   "id": "0a5ed11a",
   "metadata": {},
   "source": [
    "# SysML v2 Test Suite\n",
    "\n",
    "This can notebook can be cleared using menu `Edit --> Clear All Outputs` and then all cells can be\n",
    "run using menu `Run --> Run All Cells`.\n",
    "\n",
    "**WARNING**: This file is generated, all modifications here will be ignored.\n"
   ]
  },
  {
   "cell_type": "markdown",
   "id": "61de99c6",
   "metadata": {},
   "source": [
    "## File: ../../sysml/src/examples/Simple Tests/ConjugationTest.sysml"
   ]
  },
  {
   "cell_type": "code",
   "execution_count": 1,
   "id": "49f1ea2d",
   "metadata": {
    "execution": {
     "iopub.execute_input": "2022-02-18T10:47:43.085347Z",
     "iopub.status.busy": "2022-02-18T10:47:43.084112Z",
     "iopub.status.idle": "2022-02-18T10:47:43.450860Z",
     "shell.execute_reply": "2022-02-18T10:47:43.451223Z"
    }
   },
   "outputs": [
    {
     "data": {
      "text/plain": [
       "Package ConjugationTest (c3644353-aeef-4fd4-84aa-36dd97687630)\n"
      ]
     },
     "execution_count": 1,
     "metadata": {},
     "output_type": "execute_result"
    }
   ],
   "source": [
    "package ConjugationTest {\n",
    "\tport def P;\n",
    "\t\n",
    "\tpart def B {\n",
    "\t\tport p1: P;\n",
    "\t\tport p2: ~P;\n",
    "\t}\n",
    "\t\n",
    "\tconnection def A {\n",
    "\t\tend port p1: P;\n",
    "\t\tend port p2: ~P;\n",
    "\t}\n",
    "\t\n",
    "\tinterface def I {\n",
    "\t\tend p1: P;\n",
    "\t\tend p2: ~P;\n",
    "\t}\n",
    "\t\n",
    "\tpart def B1 {\n",
    "\t\tpart p {\n",
    "\t\t\tport p1: P;\n",
    "\t\t\tport p2: ~P;\t\t\n",
    "\t\t}\n",
    "\t\n",
    "\t\tconnection a: A connect p.p1 to p.p2 {\n",
    "\t\t\tend port p3: P;\n",
    "\t\t\tend port p4: ~P;\n",
    "\t\t}\n",
    "\t\tinterface i: I connect p.p1 to p.p2 {\n",
    "\t\t\tend port p3: P;\n",
    "\t\t\tend port p4: ~P;\n",
    "\t\t}\n",
    "\t}\n",
    "\t\n",
    "}"
   ]
  },
  {
   "cell_type": "code",
   "execution_count": 2,
   "id": "983439c6",
   "metadata": {
    "execution": {
     "iopub.execute_input": "2022-02-18T10:47:43.502230Z",
     "iopub.status.busy": "2022-02-18T10:47:43.501854Z",
     "iopub.status.idle": "2022-02-18T10:47:44.049903Z",
     "shell.execute_reply": "2022-02-18T10:47:44.048771Z"
    }
   },
   "outputs": [
    {
     "data": {
      "image/svg+xml": [
       "<?xml version=\"1.0\" encoding=\"UTF-8\" standalone=\"no\"?><svg xmlns=\"http://www.w3.org/2000/svg\" xmlns:xlink=\"http://www.w3.org/1999/xlink\" contentScriptType=\"application/ecmascript\" contentStyleType=\"text/css\" height=\"381px\" preserveAspectRatio=\"none\" style=\"width:634px;height:381px;\" version=\"1.1\" viewBox=\"0 0 634 381\" width=\"634px\" zoomAndPan=\"magnify\"><defs/><g><!--MD5=[fbc87193dbaf4d95561dea2c320d4a47]\n",
       "cluster E1--><a href=\"psysml:62f2acf4-862e-4777-8380-6adbdab8aa3b\" target=\"_top\" title=\"psysml:62f2acf4-862e-4777-8380-6adbdab8aa3b\" xlink:actuate=\"onRequest\" xlink:href=\"psysml:62f2acf4-862e-4777-8380-6adbdab8aa3b\" xlink:show=\"new\" xlink:title=\"psysml:62f2acf4-862e-4777-8380-6adbdab8aa3b\" xlink:type=\"simple\"><polygon fill=\"#FFFFFF\" points=\"16,6,136,6,143,28.2969,612,28.2969,612,369,16,369,16,6\" style=\"stroke: #000000; stroke-width: 1.5;\"/><line style=\"stroke: #000000; stroke-width: 1.5;\" x1=\"16\" x2=\"143\" y1=\"28.2969\" y2=\"28.2969\"/><text fill=\"#000000\" font-family=\"sans-serif\" font-size=\"14\" font-weight=\"bold\" lengthAdjust=\"spacingAndGlyphs\" textLength=\"114\" x=\"20\" y=\"20.9951\">ConjugationTest</text></a><!--MD5=[b4997ac47864f28c2f74865a473b2911]\n",
       "class E2--><a href=\"psysml:8038ba5e-65f3-4a7c-a5d9-05577a1e913e\" target=\"_top\" title=\"psysml:8038ba5e-65f3-4a7c-a5d9-05577a1e913e\" xlink:actuate=\"onRequest\" xlink:href=\"psysml:8038ba5e-65f3-4a7c-a5d9-05577a1e913e\" xlink:show=\"new\" xlink:title=\"psysml:8038ba5e-65f3-4a7c-a5d9-05577a1e913e\" xlink:type=\"simple\"><rect fill=\"#FFFFFF\" height=\"45.9375\" id=\"E2\" style=\"stroke: #383838; stroke-width: 1.5;\" width=\"70\" x=\"526\" y=\"81\"/><text fill=\"#000000\" font-family=\"sans-serif\" font-size=\"12\" font-style=\"italic\" lengthAdjust=\"spacingAndGlyphs\" textLength=\"68\" x=\"527\" y=\"97.1387\">«port  def»</text><text fill=\"#000000\" font-family=\"sans-serif\" font-size=\"12\" lengthAdjust=\"spacingAndGlyphs\" textLength=\"8\" x=\"557\" y=\"111.1074\">P</text><line style=\"stroke: #383838; stroke-width: 1.5;\" x1=\"527\" x2=\"595\" y1=\"118.9375\" y2=\"118.9375\"/></a><!--MD5=[09b614a08d8cba4a07c9adeb5e0fee81]\n",
       "class E3--><a href=\"psysml:eb00d253-98ff-4ea5-9d4b-40f483d849ec\" target=\"_top\" title=\"psysml:eb00d253-98ff-4ea5-9d4b-40f483d849ec\" xlink:actuate=\"onRequest\" xlink:href=\"psysml:eb00d253-98ff-4ea5-9d4b-40f483d849ec\" xlink:show=\"new\" xlink:title=\"psysml:eb00d253-98ff-4ea5-9d4b-40f483d849ec\" xlink:type=\"simple\"><rect fill=\"#FFFFFF\" height=\"125.9609\" id=\"E3\" style=\"stroke: #383838; stroke-width: 1.5;\" width=\"70\" x=\"421\" y=\"41\"/><text fill=\"#000000\" font-family=\"sans-serif\" font-size=\"12\" font-style=\"italic\" lengthAdjust=\"spacingAndGlyphs\" textLength=\"68\" x=\"422\" y=\"57.1387\">«part  def»</text><text fill=\"#000000\" font-family=\"sans-serif\" font-size=\"12\" lengthAdjust=\"spacingAndGlyphs\" textLength=\"8\" x=\"452\" y=\"71.1074\">B</text><line style=\"stroke: #383838; stroke-width: 1.5;\" x1=\"422\" x2=\"490\" y1=\"78.9375\" y2=\"78.9375\"/><text fill=\"#000000\" font-family=\"sans-serif\" font-size=\"11\" lengthAdjust=\"spacingAndGlyphs\" textLength=\"29\" x=\"427\" y=\"109.9526\">p1: P</text><line style=\"stroke: #383838; stroke-width: 1.0;\" x1=\"422\" x2=\"441\" y1=\"93.3398\" y2=\"93.3398\"/><text fill=\"#000000\" font-family=\"sans-serif\" font-size=\"11\" lengthAdjust=\"spacingAndGlyphs\" textLength=\"30\" x=\"441\" y=\"96.6479\">ports</text><line style=\"stroke: #383838; stroke-width: 1.0;\" x1=\"471\" x2=\"490\" y1=\"93.3398\" y2=\"93.3398\"/><text fill=\"#000000\" font-family=\"sans-serif\" font-size=\"11\" lengthAdjust=\"spacingAndGlyphs\" textLength=\"0\" x=\"443\" y=\"128.7573\"/><rect fill=\"#FFFFFF\" height=\"2\" style=\"stroke: #000000; stroke-width: 1.0;\" width=\"2\" x=\"436\" y=\"123.9492\"/><line style=\"stroke: #000000; stroke-width: 1.0;\" x1=\"429\" x2=\"437\" y1=\"124.9492\" y2=\"124.9492\"/><line style=\"stroke: #000000; stroke-width: 1.0;\" x1=\"429\" x2=\"429\" y1=\"118.5469\" y2=\"124.9492\"/><text fill=\"#000000\" font-family=\"sans-serif\" font-size=\"11\" lengthAdjust=\"spacingAndGlyphs\" textLength=\"38\" x=\"427\" y=\"144.562\">p2: ~P</text><text fill=\"#000000\" font-family=\"sans-serif\" font-size=\"11\" lengthAdjust=\"spacingAndGlyphs\" textLength=\"0\" x=\"443\" y=\"160.3667\"/><rect fill=\"#FFFFFF\" height=\"2\" style=\"stroke: #000000; stroke-width: 1.0;\" width=\"2\" x=\"436\" y=\"155.5586\"/><line style=\"stroke: #000000; stroke-width: 1.0;\" x1=\"429\" x2=\"437\" y1=\"156.5586\" y2=\"156.5586\"/><line style=\"stroke: #000000; stroke-width: 1.0;\" x1=\"429\" x2=\"429\" y1=\"150.1563\" y2=\"156.5586\"/></a><!--MD5=[ebbe1d658d1005bcc118a6aa81145e00]\n",
       "class E4--><a href=\"psysml:c9adf55d-1d58-41e7-9c8f-305f1a380a4f\" target=\"_top\" title=\"psysml:c9adf55d-1d58-41e7-9c8f-305f1a380a4f\" xlink:actuate=\"onRequest\" xlink:href=\"psysml:c9adf55d-1d58-41e7-9c8f-305f1a380a4f\" xlink:show=\"new\" xlink:title=\"psysml:c9adf55d-1d58-41e7-9c8f-305f1a380a4f\" xlink:type=\"simple\"><rect fill=\"#FFFFFF\" height=\"125.9609\" id=\"E4\" style=\"stroke: #383838; stroke-width: 1.5;\" width=\"114\" x=\"272\" y=\"41\"/><text fill=\"#000000\" font-family=\"sans-serif\" font-size=\"12\" font-style=\"italic\" lengthAdjust=\"spacingAndGlyphs\" textLength=\"112\" x=\"273\" y=\"57.1387\">«connection  def»</text><text fill=\"#000000\" font-family=\"sans-serif\" font-size=\"12\" lengthAdjust=\"spacingAndGlyphs\" textLength=\"8\" x=\"325\" y=\"71.1074\">A</text><line style=\"stroke: #383838; stroke-width: 1.5;\" x1=\"273\" x2=\"385\" y1=\"78.9375\" y2=\"78.9375\"/><text fill=\"#000000\" font-family=\"sans-serif\" font-size=\"11\" lengthAdjust=\"spacingAndGlyphs\" textLength=\"29\" x=\"278\" y=\"109.9526\">p1: P</text><line style=\"stroke: #383838; stroke-width: 1.0;\" x1=\"273\" x2=\"314\" y1=\"93.3398\" y2=\"93.3398\"/><text fill=\"#000000\" font-family=\"sans-serif\" font-size=\"11\" lengthAdjust=\"spacingAndGlyphs\" textLength=\"30\" x=\"314\" y=\"96.6479\">ports</text><line style=\"stroke: #383838; stroke-width: 1.0;\" x1=\"344\" x2=\"385\" y1=\"93.3398\" y2=\"93.3398\"/><text fill=\"#000000\" font-family=\"sans-serif\" font-size=\"11\" lengthAdjust=\"spacingAndGlyphs\" textLength=\"0\" x=\"294\" y=\"128.7573\"/><rect fill=\"#FFFFFF\" height=\"2\" style=\"stroke: #000000; stroke-width: 1.0;\" width=\"2\" x=\"287\" y=\"123.9492\"/><line style=\"stroke: #000000; stroke-width: 1.0;\" x1=\"280\" x2=\"288\" y1=\"124.9492\" y2=\"124.9492\"/><line style=\"stroke: #000000; stroke-width: 1.0;\" x1=\"280\" x2=\"280\" y1=\"118.5469\" y2=\"124.9492\"/><text fill=\"#000000\" font-family=\"sans-serif\" font-size=\"11\" lengthAdjust=\"spacingAndGlyphs\" textLength=\"38\" x=\"278\" y=\"144.562\">p2: ~P</text><text fill=\"#000000\" font-family=\"sans-serif\" font-size=\"11\" lengthAdjust=\"spacingAndGlyphs\" textLength=\"0\" x=\"294\" y=\"160.3667\"/><rect fill=\"#FFFFFF\" height=\"2\" style=\"stroke: #000000; stroke-width: 1.0;\" width=\"2\" x=\"287\" y=\"155.5586\"/><line style=\"stroke: #000000; stroke-width: 1.0;\" x1=\"280\" x2=\"288\" y1=\"156.5586\" y2=\"156.5586\"/><line style=\"stroke: #000000; stroke-width: 1.0;\" x1=\"280\" x2=\"280\" y1=\"150.1563\" y2=\"156.5586\"/></a><!--MD5=[270fce915f116d4de14055a7c1d9a0f3]\n",
       "class E5--><a href=\"psysml:909b1fdd-cad7-4fe7-8f0f-a5ae3fa3dd03\" target=\"_top\" title=\"psysml:909b1fdd-cad7-4fe7-8f0f-a5ae3fa3dd03\" xlink:actuate=\"onRequest\" xlink:href=\"psysml:909b1fdd-cad7-4fe7-8f0f-a5ae3fa3dd03\" xlink:show=\"new\" xlink:title=\"psysml:909b1fdd-cad7-4fe7-8f0f-a5ae3fa3dd03\" xlink:type=\"simple\"><rect fill=\"#FFFFFF\" height=\"125.9609\" id=\"E5\" style=\"stroke: #383838; stroke-width: 1.5;\" width=\"100\" x=\"137\" y=\"41\"/><text fill=\"#000000\" font-family=\"sans-serif\" font-size=\"12\" font-style=\"italic\" lengthAdjust=\"spacingAndGlyphs\" textLength=\"98\" x=\"138\" y=\"57.1387\">«interface  def»</text><text fill=\"#000000\" font-family=\"sans-serif\" font-size=\"12\" lengthAdjust=\"spacingAndGlyphs\" textLength=\"3\" x=\"185.5\" y=\"71.1074\">I</text><line style=\"stroke: #383838; stroke-width: 1.5;\" x1=\"138\" x2=\"236\" y1=\"78.9375\" y2=\"78.9375\"/><text fill=\"#000000\" font-family=\"sans-serif\" font-size=\"11\" lengthAdjust=\"spacingAndGlyphs\" textLength=\"29\" x=\"143\" y=\"109.9526\">p1: P</text><line style=\"stroke: #383838; stroke-width: 1.0;\" x1=\"138\" x2=\"172\" y1=\"93.3398\" y2=\"93.3398\"/><text fill=\"#000000\" font-family=\"sans-serif\" font-size=\"11\" lengthAdjust=\"spacingAndGlyphs\" textLength=\"30\" x=\"172\" y=\"96.6479\">ports</text><line style=\"stroke: #383838; stroke-width: 1.0;\" x1=\"202\" x2=\"236\" y1=\"93.3398\" y2=\"93.3398\"/><text fill=\"#000000\" font-family=\"sans-serif\" font-size=\"11\" lengthAdjust=\"spacingAndGlyphs\" textLength=\"0\" x=\"159\" y=\"128.7573\"/><rect fill=\"#FFFFFF\" height=\"2\" style=\"stroke: #000000; stroke-width: 1.0;\" width=\"2\" x=\"152\" y=\"123.9492\"/><line style=\"stroke: #000000; stroke-width: 1.0;\" x1=\"145\" x2=\"153\" y1=\"124.9492\" y2=\"124.9492\"/><line style=\"stroke: #000000; stroke-width: 1.0;\" x1=\"145\" x2=\"145\" y1=\"118.5469\" y2=\"124.9492\"/><text fill=\"#000000\" font-family=\"sans-serif\" font-size=\"11\" lengthAdjust=\"spacingAndGlyphs\" textLength=\"38\" x=\"143\" y=\"144.562\">p2: ~P</text><text fill=\"#000000\" font-family=\"sans-serif\" font-size=\"11\" lengthAdjust=\"spacingAndGlyphs\" textLength=\"0\" x=\"159\" y=\"160.3667\"/><rect fill=\"#FFFFFF\" height=\"2\" style=\"stroke: #000000; stroke-width: 1.0;\" width=\"2\" x=\"152\" y=\"155.5586\"/><line style=\"stroke: #000000; stroke-width: 1.0;\" x1=\"145\" x2=\"153\" y1=\"156.5586\" y2=\"156.5586\"/><line style=\"stroke: #000000; stroke-width: 1.0;\" x1=\"145\" x2=\"145\" y1=\"150.1563\" y2=\"156.5586\"/></a><!--MD5=[60a26617385b1d2d0262a64233df1f8d]\n",
       "class E6--><a href=\"psysml:c2ec72d4-85fe-4c8d-a549-b327df7a4c85\" target=\"_top\" title=\"psysml:c2ec72d4-85fe-4c8d-a549-b327df7a4c85\" xlink:actuate=\"onRequest\" xlink:href=\"psysml:c2ec72d4-85fe-4c8d-a549-b327df7a4c85\" xlink:show=\"new\" xlink:title=\"psysml:c2ec72d4-85fe-4c8d-a549-b327df7a4c85\" xlink:type=\"simple\"><rect fill=\"#FFFFFF\" height=\"45.9375\" id=\"E6\" style=\"stroke: #383838; stroke-width: 1.5;\" width=\"70\" x=\"32\" y=\"81\"/><text fill=\"#000000\" font-family=\"sans-serif\" font-size=\"12\" font-style=\"italic\" lengthAdjust=\"spacingAndGlyphs\" textLength=\"68\" x=\"33\" y=\"97.1387\">«part  def»</text><text fill=\"#000000\" font-family=\"sans-serif\" font-size=\"12\" lengthAdjust=\"spacingAndGlyphs\" textLength=\"16\" x=\"59\" y=\"111.1074\">B1</text><line style=\"stroke: #383838; stroke-width: 1.5;\" x1=\"33\" x2=\"101\" y1=\"118.9375\" y2=\"118.9375\"/></a><!--MD5=[2156ba9850f5573cc1fc38a6a4b2f02b]\n",
       "class E7--><a href=\"psysml:bf56b714-b103-43c5-844a-64ae22bea297\" target=\"_top\" title=\"psysml:bf56b714-b103-43c5-844a-64ae22bea297\" xlink:actuate=\"onRequest\" xlink:href=\"psysml:bf56b714-b103-43c5-844a-64ae22bea297\" xlink:show=\"new\" xlink:title=\"psysml:bf56b714-b103-43c5-844a-64ae22bea297\" xlink:type=\"simple\"><rect fill=\"#FFFFFF\" height=\"125.9609\" id=\"E7\" rx=\"10\" ry=\"10\" style=\"stroke: #383838; stroke-width: 1.5;\" width=\"50\" x=\"42\" y=\"227\"/><text fill=\"#000000\" font-family=\"sans-serif\" font-size=\"12\" font-style=\"italic\" lengthAdjust=\"spacingAndGlyphs\" textLength=\"40\" x=\"47\" y=\"243.1387\">«part»</text><text fill=\"#000000\" font-family=\"sans-serif\" font-size=\"12\" lengthAdjust=\"spacingAndGlyphs\" textLength=\"8\" x=\"61\" y=\"257.1074\">p</text><line style=\"stroke: #383838; stroke-width: 1.5;\" x1=\"43\" x2=\"91\" y1=\"264.9375\" y2=\"264.9375\"/><text fill=\"#000000\" font-family=\"sans-serif\" font-size=\"11\" lengthAdjust=\"spacingAndGlyphs\" textLength=\"29\" x=\"48\" y=\"295.9526\">p1: P</text><line style=\"stroke: #383838; stroke-width: 1.0;\" x1=\"43\" x2=\"52\" y1=\"279.3398\" y2=\"279.3398\"/><text fill=\"#000000\" font-family=\"sans-serif\" font-size=\"11\" lengthAdjust=\"spacingAndGlyphs\" textLength=\"30\" x=\"52\" y=\"282.6479\">ports</text><line style=\"stroke: #383838; stroke-width: 1.0;\" x1=\"82\" x2=\"91\" y1=\"279.3398\" y2=\"279.3398\"/><text fill=\"#000000\" font-family=\"sans-serif\" font-size=\"11\" lengthAdjust=\"spacingAndGlyphs\" textLength=\"0\" x=\"64\" y=\"314.7573\"/><rect fill=\"#FFFFFF\" height=\"2\" style=\"stroke: #000000; stroke-width: 1.0;\" width=\"2\" x=\"57\" y=\"309.9492\"/><line style=\"stroke: #000000; stroke-width: 1.0;\" x1=\"50\" x2=\"58\" y1=\"310.9492\" y2=\"310.9492\"/><line style=\"stroke: #000000; stroke-width: 1.0;\" x1=\"50\" x2=\"50\" y1=\"304.5469\" y2=\"310.9492\"/><text fill=\"#000000\" font-family=\"sans-serif\" font-size=\"11\" lengthAdjust=\"spacingAndGlyphs\" textLength=\"38\" x=\"48\" y=\"330.562\">p2: ~P</text><text fill=\"#000000\" font-family=\"sans-serif\" font-size=\"11\" lengthAdjust=\"spacingAndGlyphs\" textLength=\"0\" x=\"64\" y=\"346.3667\"/><rect fill=\"#FFFFFF\" height=\"2\" style=\"stroke: #000000; stroke-width: 1.0;\" width=\"2\" x=\"57\" y=\"341.5586\"/><line style=\"stroke: #000000; stroke-width: 1.0;\" x1=\"50\" x2=\"58\" y1=\"342.5586\" y2=\"342.5586\"/><line style=\"stroke: #000000; stroke-width: 1.0;\" x1=\"50\" x2=\"50\" y1=\"336.1563\" y2=\"342.5586\"/></a><!--MD5=[3f50a3473f1dfb74d3f76443e03635af]\n",
       "reverse link E6 to E7--><a href=\"psysml:b5605e58-b315-4dd3-8e84-581a703b4e2b\" target=\"_top\" title=\"psysml:b5605e58-b315-4dd3-8e84-581a703b4e2b\" xlink:actuate=\"onRequest\" xlink:href=\"psysml:b5605e58-b315-4dd3-8e84-581a703b4e2b\" xlink:show=\"new\" xlink:title=\"psysml:b5605e58-b315-4dd3-8e84-581a703b4e2b\" xlink:type=\"simple\"><path d=\"M67,140.49 C67,164.94 67,198.08 67,226.85 \" fill=\"none\" id=\"E6&lt;-E7\" style=\"stroke: #383838; stroke-width: 1.0;\"/><polygon fill=\"#383838\" points=\"67,127.19,63,133.19,67,139.19,71,133.19,67,127.19\" style=\"stroke: #383838; stroke-width: 1.0;\"/><text fill=\"#000000\" font-family=\"sans-serif\" font-size=\"13\" lengthAdjust=\"spacingAndGlyphs\" textLength=\"8\" x=\"58.5375\" y=\"215.7579\">1</text></a><!--MD5=[eb503e838fc47a3bee2b8af7a4633cb2]\n",
       "@startuml\r\n",
       " skinparam monochrome true\r\n",
       "skinparam classbackgroundcolor white\r\n",
       "skinparam shadowing false\r\n",
       "skinparam wrapWidth 300\r\n",
       "hide circle\r\n",
       "\r\n",
       "package \"ConjugationTest\" as E1  [[psysml:62f2acf4-862e-4777-8380-6adbdab8aa3b ]]  {\r\n",
       "comp def \"P\" as E2  <<(T,blue) port  def>> [[psysml:8038ba5e-65f3-4a7c-a5d9-05577a1e913e ]] {\r\n",
       "}\r\n",
       "comp def \"B\" as E3  <<(T,blue) part  def>> [[psysml:eb00d253-98ff-4ea5-9d4b-40f483d849ec ]] {\r\n",
       "- - ports - -\r\n",
       "p1: P\r\n",
       "|_ \r\n",
       "p2: ~P\r\n",
       "|_ \r\n",
       "}\r\n",
       "comp def \"A\" as E4  <<(T,blue) connection  def>> [[psysml:c9adf55d-1d58-41e7-9c8f-305f1a380a4f ]] {\r\n",
       "- - ports - -\r\n",
       "p1: P\r\n",
       "|_ \r\n",
       "p2: ~P\r\n",
       "|_ \r\n",
       "}\r\n",
       "comp def \"I\" as E5  <<(T,blue) interface  def>> [[psysml:909b1fdd-cad7-4fe7-8f0f-a5ae3fa3dd03 ]] {\r\n",
       "- - ports - -\r\n",
       "p1: P\r\n",
       "|_ \r\n",
       "p2: ~P\r\n",
       "|_ \r\n",
       "}\r\n",
       "comp def \"B1\" as E6  <<(T,blue) part  def>> [[psysml:c2ec72d4-85fe-4c8d-a549-b327df7a4c85 ]] {\r\n",
       "}\r\n",
       "comp usage \"p \" as E7  <<(T,blue) part>> [[psysml:bf56b714-b103-43c5-844a-64ae22bea297 ]] {\r\n",
       "- - ports - -\r\n",
       "p1: P\r\n",
       "|_ \r\n",
       "p2: ~P\r\n",
       "|_ \r\n",
       "}\r\n",
       "}\r\n",
       "E6 *- - \"1\"E7 [[psysml:b5605e58-b315-4dd3-8e84-581a703b4e2b ]] \r\n",
       "@enduml\r\n",
       "\n",
       "PlantUML version 1.2020.13(Sat Jun 13 12:26:38 UTC 2020)\n",
       "(EPL source distribution)\n",
       "Java Runtime: OpenJDK Runtime Environment\n",
       "JVM: OpenJDK 64-Bit Server VM\n",
       "Default Encoding: UTF-8\n",
       "Language: en\n",
       "Country: null\n",
       "--></g></svg>"
      ]
     },
     "execution_count": 2,
     "metadata": {},
     "output_type": "execute_result"
    }
   ],
   "source": [
    "%viz --style=\"COMPTREE\" --view=\"Default\" \"ConjugationTest\""
   ]
  },
  {
   "cell_type": "code",
   "execution_count": 3,
   "id": "f1edf8f2",
   "metadata": {
    "execution": {
     "iopub.execute_input": "2022-02-18T10:47:44.099830Z",
     "iopub.status.busy": "2022-02-18T10:47:44.099544Z",
     "iopub.status.idle": "2022-02-18T10:47:44.192046Z",
     "shell.execute_reply": "2022-02-18T10:47:44.190521Z"
    }
   },
   "outputs": [
    {
     "data": {
      "image/svg+xml": [
       "<?xml version=\"1.0\" encoding=\"UTF-8\" standalone=\"no\"?><svg xmlns=\"http://www.w3.org/2000/svg\" xmlns:xlink=\"http://www.w3.org/1999/xlink\" contentScriptType=\"application/ecmascript\" contentStyleType=\"text/css\" height=\"381px\" preserveAspectRatio=\"none\" style=\"width:634px;height:381px;\" version=\"1.1\" viewBox=\"0 0 634 381\" width=\"634px\" zoomAndPan=\"magnify\"><defs/><g><!--MD5=[fbc87193dbaf4d95561dea2c320d4a47]\n",
       "cluster E1--><a href=\"psysml:62f2acf4-862e-4777-8380-6adbdab8aa3b\" target=\"_top\" title=\"psysml:62f2acf4-862e-4777-8380-6adbdab8aa3b\" xlink:actuate=\"onRequest\" xlink:href=\"psysml:62f2acf4-862e-4777-8380-6adbdab8aa3b\" xlink:show=\"new\" xlink:title=\"psysml:62f2acf4-862e-4777-8380-6adbdab8aa3b\" xlink:type=\"simple\"><polygon fill=\"#FFFFFF\" points=\"16,6,136,6,143,28.2969,612,28.2969,612,369,16,369,16,6\" style=\"stroke: #000000; stroke-width: 1.5;\"/><line style=\"stroke: #000000; stroke-width: 1.5;\" x1=\"16\" x2=\"143\" y1=\"28.2969\" y2=\"28.2969\"/><text fill=\"#000000\" font-family=\"sans-serif\" font-size=\"14\" font-weight=\"bold\" lengthAdjust=\"spacingAndGlyphs\" textLength=\"114\" x=\"20\" y=\"20.9951\">ConjugationTest</text></a><!--MD5=[b4997ac47864f28c2f74865a473b2911]\n",
       "class E2--><a href=\"psysml:8038ba5e-65f3-4a7c-a5d9-05577a1e913e\" target=\"_top\" title=\"psysml:8038ba5e-65f3-4a7c-a5d9-05577a1e913e\" xlink:actuate=\"onRequest\" xlink:href=\"psysml:8038ba5e-65f3-4a7c-a5d9-05577a1e913e\" xlink:show=\"new\" xlink:title=\"psysml:8038ba5e-65f3-4a7c-a5d9-05577a1e913e\" xlink:type=\"simple\"><rect fill=\"#FFFFFF\" height=\"45.9375\" id=\"E2\" style=\"stroke: #383838; stroke-width: 1.5;\" width=\"70\" x=\"526\" y=\"81\"/><text fill=\"#000000\" font-family=\"sans-serif\" font-size=\"12\" font-style=\"italic\" lengthAdjust=\"spacingAndGlyphs\" textLength=\"68\" x=\"527\" y=\"97.1387\">«port  def»</text><text fill=\"#000000\" font-family=\"sans-serif\" font-size=\"12\" lengthAdjust=\"spacingAndGlyphs\" textLength=\"8\" x=\"557\" y=\"111.1074\">P</text><line style=\"stroke: #383838; stroke-width: 1.5;\" x1=\"527\" x2=\"595\" y1=\"118.9375\" y2=\"118.9375\"/></a><!--MD5=[09b614a08d8cba4a07c9adeb5e0fee81]\n",
       "class E3--><a href=\"psysml:eb00d253-98ff-4ea5-9d4b-40f483d849ec\" target=\"_top\" title=\"psysml:eb00d253-98ff-4ea5-9d4b-40f483d849ec\" xlink:actuate=\"onRequest\" xlink:href=\"psysml:eb00d253-98ff-4ea5-9d4b-40f483d849ec\" xlink:show=\"new\" xlink:title=\"psysml:eb00d253-98ff-4ea5-9d4b-40f483d849ec\" xlink:type=\"simple\"><rect fill=\"#FFFFFF\" height=\"125.9609\" id=\"E3\" style=\"stroke: #383838; stroke-width: 1.5;\" width=\"70\" x=\"421\" y=\"41\"/><text fill=\"#000000\" font-family=\"sans-serif\" font-size=\"12\" font-style=\"italic\" lengthAdjust=\"spacingAndGlyphs\" textLength=\"68\" x=\"422\" y=\"57.1387\">«part  def»</text><text fill=\"#000000\" font-family=\"sans-serif\" font-size=\"12\" lengthAdjust=\"spacingAndGlyphs\" textLength=\"8\" x=\"452\" y=\"71.1074\">B</text><line style=\"stroke: #383838; stroke-width: 1.5;\" x1=\"422\" x2=\"490\" y1=\"78.9375\" y2=\"78.9375\"/><text fill=\"#000000\" font-family=\"sans-serif\" font-size=\"11\" lengthAdjust=\"spacingAndGlyphs\" textLength=\"29\" x=\"427\" y=\"109.9526\">p1: P</text><line style=\"stroke: #383838; stroke-width: 1.0;\" x1=\"422\" x2=\"441\" y1=\"93.3398\" y2=\"93.3398\"/><text fill=\"#000000\" font-family=\"sans-serif\" font-size=\"11\" lengthAdjust=\"spacingAndGlyphs\" textLength=\"30\" x=\"441\" y=\"96.6479\">ports</text><line style=\"stroke: #383838; stroke-width: 1.0;\" x1=\"471\" x2=\"490\" y1=\"93.3398\" y2=\"93.3398\"/><text fill=\"#000000\" font-family=\"sans-serif\" font-size=\"11\" lengthAdjust=\"spacingAndGlyphs\" textLength=\"0\" x=\"443\" y=\"128.7573\"/><rect fill=\"#FFFFFF\" height=\"2\" style=\"stroke: #000000; stroke-width: 1.0;\" width=\"2\" x=\"436\" y=\"123.9492\"/><line style=\"stroke: #000000; stroke-width: 1.0;\" x1=\"429\" x2=\"437\" y1=\"124.9492\" y2=\"124.9492\"/><line style=\"stroke: #000000; stroke-width: 1.0;\" x1=\"429\" x2=\"429\" y1=\"118.5469\" y2=\"124.9492\"/><text fill=\"#000000\" font-family=\"sans-serif\" font-size=\"11\" lengthAdjust=\"spacingAndGlyphs\" textLength=\"38\" x=\"427\" y=\"144.562\">p2: ~P</text><text fill=\"#000000\" font-family=\"sans-serif\" font-size=\"11\" lengthAdjust=\"spacingAndGlyphs\" textLength=\"0\" x=\"443\" y=\"160.3667\"/><rect fill=\"#FFFFFF\" height=\"2\" style=\"stroke: #000000; stroke-width: 1.0;\" width=\"2\" x=\"436\" y=\"155.5586\"/><line style=\"stroke: #000000; stroke-width: 1.0;\" x1=\"429\" x2=\"437\" y1=\"156.5586\" y2=\"156.5586\"/><line style=\"stroke: #000000; stroke-width: 1.0;\" x1=\"429\" x2=\"429\" y1=\"150.1563\" y2=\"156.5586\"/></a><!--MD5=[ebbe1d658d1005bcc118a6aa81145e00]\n",
       "class E4--><a href=\"psysml:c9adf55d-1d58-41e7-9c8f-305f1a380a4f\" target=\"_top\" title=\"psysml:c9adf55d-1d58-41e7-9c8f-305f1a380a4f\" xlink:actuate=\"onRequest\" xlink:href=\"psysml:c9adf55d-1d58-41e7-9c8f-305f1a380a4f\" xlink:show=\"new\" xlink:title=\"psysml:c9adf55d-1d58-41e7-9c8f-305f1a380a4f\" xlink:type=\"simple\"><rect fill=\"#FFFFFF\" height=\"125.9609\" id=\"E4\" style=\"stroke: #383838; stroke-width: 1.5;\" width=\"114\" x=\"272\" y=\"41\"/><text fill=\"#000000\" font-family=\"sans-serif\" font-size=\"12\" font-style=\"italic\" lengthAdjust=\"spacingAndGlyphs\" textLength=\"112\" x=\"273\" y=\"57.1387\">«connection  def»</text><text fill=\"#000000\" font-family=\"sans-serif\" font-size=\"12\" lengthAdjust=\"spacingAndGlyphs\" textLength=\"8\" x=\"325\" y=\"71.1074\">A</text><line style=\"stroke: #383838; stroke-width: 1.5;\" x1=\"273\" x2=\"385\" y1=\"78.9375\" y2=\"78.9375\"/><text fill=\"#000000\" font-family=\"sans-serif\" font-size=\"11\" lengthAdjust=\"spacingAndGlyphs\" textLength=\"29\" x=\"278\" y=\"109.9526\">p1: P</text><line style=\"stroke: #383838; stroke-width: 1.0;\" x1=\"273\" x2=\"314\" y1=\"93.3398\" y2=\"93.3398\"/><text fill=\"#000000\" font-family=\"sans-serif\" font-size=\"11\" lengthAdjust=\"spacingAndGlyphs\" textLength=\"30\" x=\"314\" y=\"96.6479\">ports</text><line style=\"stroke: #383838; stroke-width: 1.0;\" x1=\"344\" x2=\"385\" y1=\"93.3398\" y2=\"93.3398\"/><text fill=\"#000000\" font-family=\"sans-serif\" font-size=\"11\" lengthAdjust=\"spacingAndGlyphs\" textLength=\"0\" x=\"294\" y=\"128.7573\"/><rect fill=\"#FFFFFF\" height=\"2\" style=\"stroke: #000000; stroke-width: 1.0;\" width=\"2\" x=\"287\" y=\"123.9492\"/><line style=\"stroke: #000000; stroke-width: 1.0;\" x1=\"280\" x2=\"288\" y1=\"124.9492\" y2=\"124.9492\"/><line style=\"stroke: #000000; stroke-width: 1.0;\" x1=\"280\" x2=\"280\" y1=\"118.5469\" y2=\"124.9492\"/><text fill=\"#000000\" font-family=\"sans-serif\" font-size=\"11\" lengthAdjust=\"spacingAndGlyphs\" textLength=\"38\" x=\"278\" y=\"144.562\">p2: ~P</text><text fill=\"#000000\" font-family=\"sans-serif\" font-size=\"11\" lengthAdjust=\"spacingAndGlyphs\" textLength=\"0\" x=\"294\" y=\"160.3667\"/><rect fill=\"#FFFFFF\" height=\"2\" style=\"stroke: #000000; stroke-width: 1.0;\" width=\"2\" x=\"287\" y=\"155.5586\"/><line style=\"stroke: #000000; stroke-width: 1.0;\" x1=\"280\" x2=\"288\" y1=\"156.5586\" y2=\"156.5586\"/><line style=\"stroke: #000000; stroke-width: 1.0;\" x1=\"280\" x2=\"280\" y1=\"150.1563\" y2=\"156.5586\"/></a><!--MD5=[270fce915f116d4de14055a7c1d9a0f3]\n",
       "class E5--><a href=\"psysml:909b1fdd-cad7-4fe7-8f0f-a5ae3fa3dd03\" target=\"_top\" title=\"psysml:909b1fdd-cad7-4fe7-8f0f-a5ae3fa3dd03\" xlink:actuate=\"onRequest\" xlink:href=\"psysml:909b1fdd-cad7-4fe7-8f0f-a5ae3fa3dd03\" xlink:show=\"new\" xlink:title=\"psysml:909b1fdd-cad7-4fe7-8f0f-a5ae3fa3dd03\" xlink:type=\"simple\"><rect fill=\"#FFFFFF\" height=\"125.9609\" id=\"E5\" style=\"stroke: #383838; stroke-width: 1.5;\" width=\"100\" x=\"137\" y=\"41\"/><text fill=\"#000000\" font-family=\"sans-serif\" font-size=\"12\" font-style=\"italic\" lengthAdjust=\"spacingAndGlyphs\" textLength=\"98\" x=\"138\" y=\"57.1387\">«interface  def»</text><text fill=\"#000000\" font-family=\"sans-serif\" font-size=\"12\" lengthAdjust=\"spacingAndGlyphs\" textLength=\"3\" x=\"185.5\" y=\"71.1074\">I</text><line style=\"stroke: #383838; stroke-width: 1.5;\" x1=\"138\" x2=\"236\" y1=\"78.9375\" y2=\"78.9375\"/><text fill=\"#000000\" font-family=\"sans-serif\" font-size=\"11\" lengthAdjust=\"spacingAndGlyphs\" textLength=\"29\" x=\"143\" y=\"109.9526\">p1: P</text><line style=\"stroke: #383838; stroke-width: 1.0;\" x1=\"138\" x2=\"172\" y1=\"93.3398\" y2=\"93.3398\"/><text fill=\"#000000\" font-family=\"sans-serif\" font-size=\"11\" lengthAdjust=\"spacingAndGlyphs\" textLength=\"30\" x=\"172\" y=\"96.6479\">ports</text><line style=\"stroke: #383838; stroke-width: 1.0;\" x1=\"202\" x2=\"236\" y1=\"93.3398\" y2=\"93.3398\"/><text fill=\"#000000\" font-family=\"sans-serif\" font-size=\"11\" lengthAdjust=\"spacingAndGlyphs\" textLength=\"0\" x=\"159\" y=\"128.7573\"/><rect fill=\"#FFFFFF\" height=\"2\" style=\"stroke: #000000; stroke-width: 1.0;\" width=\"2\" x=\"152\" y=\"123.9492\"/><line style=\"stroke: #000000; stroke-width: 1.0;\" x1=\"145\" x2=\"153\" y1=\"124.9492\" y2=\"124.9492\"/><line style=\"stroke: #000000; stroke-width: 1.0;\" x1=\"145\" x2=\"145\" y1=\"118.5469\" y2=\"124.9492\"/><text fill=\"#000000\" font-family=\"sans-serif\" font-size=\"11\" lengthAdjust=\"spacingAndGlyphs\" textLength=\"38\" x=\"143\" y=\"144.562\">p2: ~P</text><text fill=\"#000000\" font-family=\"sans-serif\" font-size=\"11\" lengthAdjust=\"spacingAndGlyphs\" textLength=\"0\" x=\"159\" y=\"160.3667\"/><rect fill=\"#FFFFFF\" height=\"2\" style=\"stroke: #000000; stroke-width: 1.0;\" width=\"2\" x=\"152\" y=\"155.5586\"/><line style=\"stroke: #000000; stroke-width: 1.0;\" x1=\"145\" x2=\"153\" y1=\"156.5586\" y2=\"156.5586\"/><line style=\"stroke: #000000; stroke-width: 1.0;\" x1=\"145\" x2=\"145\" y1=\"150.1563\" y2=\"156.5586\"/></a><!--MD5=[60a26617385b1d2d0262a64233df1f8d]\n",
       "class E6--><a href=\"psysml:c2ec72d4-85fe-4c8d-a549-b327df7a4c85\" target=\"_top\" title=\"psysml:c2ec72d4-85fe-4c8d-a549-b327df7a4c85\" xlink:actuate=\"onRequest\" xlink:href=\"psysml:c2ec72d4-85fe-4c8d-a549-b327df7a4c85\" xlink:show=\"new\" xlink:title=\"psysml:c2ec72d4-85fe-4c8d-a549-b327df7a4c85\" xlink:type=\"simple\"><rect fill=\"#FFFFFF\" height=\"45.9375\" id=\"E6\" style=\"stroke: #383838; stroke-width: 1.5;\" width=\"70\" x=\"32\" y=\"81\"/><text fill=\"#000000\" font-family=\"sans-serif\" font-size=\"12\" font-style=\"italic\" lengthAdjust=\"spacingAndGlyphs\" textLength=\"68\" x=\"33\" y=\"97.1387\">«part  def»</text><text fill=\"#000000\" font-family=\"sans-serif\" font-size=\"12\" lengthAdjust=\"spacingAndGlyphs\" textLength=\"16\" x=\"59\" y=\"111.1074\">B1</text><line style=\"stroke: #383838; stroke-width: 1.5;\" x1=\"33\" x2=\"101\" y1=\"118.9375\" y2=\"118.9375\"/></a><!--MD5=[2156ba9850f5573cc1fc38a6a4b2f02b]\n",
       "class E7--><a href=\"psysml:bf56b714-b103-43c5-844a-64ae22bea297\" target=\"_top\" title=\"psysml:bf56b714-b103-43c5-844a-64ae22bea297\" xlink:actuate=\"onRequest\" xlink:href=\"psysml:bf56b714-b103-43c5-844a-64ae22bea297\" xlink:show=\"new\" xlink:title=\"psysml:bf56b714-b103-43c5-844a-64ae22bea297\" xlink:type=\"simple\"><rect fill=\"#FFFFFF\" height=\"125.9609\" id=\"E7\" rx=\"10\" ry=\"10\" style=\"stroke: #383838; stroke-width: 1.5;\" width=\"50\" x=\"42\" y=\"227\"/><text fill=\"#000000\" font-family=\"sans-serif\" font-size=\"12\" font-style=\"italic\" lengthAdjust=\"spacingAndGlyphs\" textLength=\"40\" x=\"47\" y=\"243.1387\">«part»</text><text fill=\"#000000\" font-family=\"sans-serif\" font-size=\"12\" lengthAdjust=\"spacingAndGlyphs\" textLength=\"8\" x=\"61\" y=\"257.1074\">p</text><line style=\"stroke: #383838; stroke-width: 1.5;\" x1=\"43\" x2=\"91\" y1=\"264.9375\" y2=\"264.9375\"/><text fill=\"#000000\" font-family=\"sans-serif\" font-size=\"11\" lengthAdjust=\"spacingAndGlyphs\" textLength=\"29\" x=\"48\" y=\"295.9526\">p1: P</text><line style=\"stroke: #383838; stroke-width: 1.0;\" x1=\"43\" x2=\"52\" y1=\"279.3398\" y2=\"279.3398\"/><text fill=\"#000000\" font-family=\"sans-serif\" font-size=\"11\" lengthAdjust=\"spacingAndGlyphs\" textLength=\"30\" x=\"52\" y=\"282.6479\">ports</text><line style=\"stroke: #383838; stroke-width: 1.0;\" x1=\"82\" x2=\"91\" y1=\"279.3398\" y2=\"279.3398\"/><text fill=\"#000000\" font-family=\"sans-serif\" font-size=\"11\" lengthAdjust=\"spacingAndGlyphs\" textLength=\"0\" x=\"64\" y=\"314.7573\"/><rect fill=\"#FFFFFF\" height=\"2\" style=\"stroke: #000000; stroke-width: 1.0;\" width=\"2\" x=\"57\" y=\"309.9492\"/><line style=\"stroke: #000000; stroke-width: 1.0;\" x1=\"50\" x2=\"58\" y1=\"310.9492\" y2=\"310.9492\"/><line style=\"stroke: #000000; stroke-width: 1.0;\" x1=\"50\" x2=\"50\" y1=\"304.5469\" y2=\"310.9492\"/><text fill=\"#000000\" font-family=\"sans-serif\" font-size=\"11\" lengthAdjust=\"spacingAndGlyphs\" textLength=\"38\" x=\"48\" y=\"330.562\">p2: ~P</text><text fill=\"#000000\" font-family=\"sans-serif\" font-size=\"11\" lengthAdjust=\"spacingAndGlyphs\" textLength=\"0\" x=\"64\" y=\"346.3667\"/><rect fill=\"#FFFFFF\" height=\"2\" style=\"stroke: #000000; stroke-width: 1.0;\" width=\"2\" x=\"57\" y=\"341.5586\"/><line style=\"stroke: #000000; stroke-width: 1.0;\" x1=\"50\" x2=\"58\" y1=\"342.5586\" y2=\"342.5586\"/><line style=\"stroke: #000000; stroke-width: 1.0;\" x1=\"50\" x2=\"50\" y1=\"336.1563\" y2=\"342.5586\"/></a><!--MD5=[3f50a3473f1dfb74d3f76443e03635af]\n",
       "reverse link E6 to E7--><a href=\"psysml:b5605e58-b315-4dd3-8e84-581a703b4e2b\" target=\"_top\" title=\"psysml:b5605e58-b315-4dd3-8e84-581a703b4e2b\" xlink:actuate=\"onRequest\" xlink:href=\"psysml:b5605e58-b315-4dd3-8e84-581a703b4e2b\" xlink:show=\"new\" xlink:title=\"psysml:b5605e58-b315-4dd3-8e84-581a703b4e2b\" xlink:type=\"simple\"><path d=\"M67,140.49 C67,164.94 67,198.08 67,226.85 \" fill=\"none\" id=\"E6&lt;-E7\" style=\"stroke: #383838; stroke-width: 1.0;\"/><polygon fill=\"#383838\" points=\"67,127.19,63,133.19,67,139.19,71,133.19,67,127.19\" style=\"stroke: #383838; stroke-width: 1.0;\"/><text fill=\"#000000\" font-family=\"sans-serif\" font-size=\"13\" lengthAdjust=\"spacingAndGlyphs\" textLength=\"8\" x=\"58.5375\" y=\"215.7579\">1</text></a><!--MD5=[eb503e838fc47a3bee2b8af7a4633cb2]\n",
       "@startuml\r\n",
       " skinparam monochrome true\r\n",
       "skinparam classbackgroundcolor white\r\n",
       "skinparam shadowing false\r\n",
       "skinparam wrapWidth 300\r\n",
       "hide circle\r\n",
       "\r\n",
       "package \"ConjugationTest\" as E1  [[psysml:62f2acf4-862e-4777-8380-6adbdab8aa3b ]]  {\r\n",
       "comp def \"P\" as E2  <<(T,blue) port  def>> [[psysml:8038ba5e-65f3-4a7c-a5d9-05577a1e913e ]] {\r\n",
       "}\r\n",
       "comp def \"B\" as E3  <<(T,blue) part  def>> [[psysml:eb00d253-98ff-4ea5-9d4b-40f483d849ec ]] {\r\n",
       "- - ports - -\r\n",
       "p1: P\r\n",
       "|_ \r\n",
       "p2: ~P\r\n",
       "|_ \r\n",
       "}\r\n",
       "comp def \"A\" as E4  <<(T,blue) connection  def>> [[psysml:c9adf55d-1d58-41e7-9c8f-305f1a380a4f ]] {\r\n",
       "- - ports - -\r\n",
       "p1: P\r\n",
       "|_ \r\n",
       "p2: ~P\r\n",
       "|_ \r\n",
       "}\r\n",
       "comp def \"I\" as E5  <<(T,blue) interface  def>> [[psysml:909b1fdd-cad7-4fe7-8f0f-a5ae3fa3dd03 ]] {\r\n",
       "- - ports - -\r\n",
       "p1: P\r\n",
       "|_ \r\n",
       "p2: ~P\r\n",
       "|_ \r\n",
       "}\r\n",
       "comp def \"B1\" as E6  <<(T,blue) part  def>> [[psysml:c2ec72d4-85fe-4c8d-a549-b327df7a4c85 ]] {\r\n",
       "}\r\n",
       "comp usage \"p \" as E7  <<(T,blue) part>> [[psysml:bf56b714-b103-43c5-844a-64ae22bea297 ]] {\r\n",
       "- - ports - -\r\n",
       "p1: P\r\n",
       "|_ \r\n",
       "p2: ~P\r\n",
       "|_ \r\n",
       "}\r\n",
       "}\r\n",
       "E6 *- - \"1\"E7 [[psysml:b5605e58-b315-4dd3-8e84-581a703b4e2b ]] \r\n",
       "@enduml\r\n",
       "\n",
       "PlantUML version 1.2020.13(Sat Jun 13 12:26:38 UTC 2020)\n",
       "(EPL source distribution)\n",
       "Java Runtime: OpenJDK Runtime Environment\n",
       "JVM: OpenJDK 64-Bit Server VM\n",
       "Default Encoding: UTF-8\n",
       "Language: en\n",
       "Country: null\n",
       "--></g></svg>"
      ]
     },
     "execution_count": 3,
     "metadata": {},
     "output_type": "execute_result"
    }
   ],
   "source": [
    "%viz --style=\"COMPTREE\" --view=\"Tree\" \"ConjugationTest\""
   ]
  },
  {
   "cell_type": "code",
   "execution_count": 4,
   "id": "916e10fb",
   "metadata": {
    "execution": {
     "iopub.execute_input": "2022-02-18T10:47:44.241833Z",
     "iopub.status.busy": "2022-02-18T10:47:44.241414Z",
     "iopub.status.idle": "2022-02-18T10:47:44.246774Z",
     "shell.execute_reply": "2022-02-18T10:47:44.247092Z"
    }
   },
   "outputs": [
    {
     "data": {
      "image/svg+xml": [
       "<?xml version=\"1.0\" encoding=\"UTF-8\" standalone=\"no\"?><svg xmlns=\"http://www.w3.org/2000/svg\" xmlns:xlink=\"http://www.w3.org/1999/xlink\" contentScriptType=\"application/ecmascript\" contentStyleType=\"text/css\" height=\"12px\" preserveAspectRatio=\"none\" style=\"width:12px;height:12px;\" version=\"1.1\" viewBox=\"0 0 12 12\" width=\"12px\" zoomAndPan=\"magnify\"><defs/><g><!--MD5=[f19188ef49e11757b5c46753f95d9edc]\n",
       "@startuml\r\n",
       " skinparam monochrome true\r\n",
       "skinparam classbackgroundcolor white\r\n",
       "skinparam shadowing false\r\n",
       "skinparam wrapWidth 300\r\n",
       "hide circle\r\n",
       "\r\n",
       "@enduml\r\n",
       "\n",
       "PlantUML version 1.2020.13(Sat Jun 13 12:26:38 UTC 2020)\n",
       "(EPL source distribution)\n",
       "Java Runtime: OpenJDK Runtime Environment\n",
       "JVM: OpenJDK 64-Bit Server VM\n",
       "Default Encoding: UTF-8\n",
       "Language: en\n",
       "Country: null\n",
       "--></g></svg>"
      ]
     },
     "execution_count": 4,
     "metadata": {},
     "output_type": "execute_result"
    }
   ],
   "source": [
    "%viz --style=\"COMPTREE\" --view=\"State\" \"ConjugationTest\""
   ]
  },
  {
   "cell_type": "code",
   "execution_count": 5,
   "id": "75583665",
   "metadata": {
    "execution": {
     "iopub.execute_input": "2022-02-18T10:47:44.297119Z",
     "iopub.status.busy": "2022-02-18T10:47:44.296703Z",
     "iopub.status.idle": "2022-02-18T10:47:44.360057Z",
     "shell.execute_reply": "2022-02-18T10:47:44.360520Z"
    }
   },
   "outputs": [
    {
     "data": {
      "image/svg+xml": [
       "<?xml version=\"1.0\" encoding=\"UTF-8\" standalone=\"no\"?><svg xmlns=\"http://www.w3.org/2000/svg\" xmlns:xlink=\"http://www.w3.org/1999/xlink\" contentScriptType=\"application/ecmascript\" contentStyleType=\"text/css\" height=\"246px\" preserveAspectRatio=\"none\" style=\"width:753px;height:246px;\" version=\"1.1\" viewBox=\"0 0 753 246\" width=\"753px\" zoomAndPan=\"magnify\"><defs/><g><!--MD5=[fbc87193dbaf4d95561dea2c320d4a47]\n",
       "cluster E1--><a href=\"psysml:62f2acf4-862e-4777-8380-6adbdab8aa3b\" target=\"_top\" title=\"psysml:62f2acf4-862e-4777-8380-6adbdab8aa3b\" xlink:actuate=\"onRequest\" xlink:href=\"psysml:62f2acf4-862e-4777-8380-6adbdab8aa3b\" xlink:show=\"new\" xlink:title=\"psysml:62f2acf4-862e-4777-8380-6adbdab8aa3b\" xlink:type=\"simple\"><polygon fill=\"#FFFFFF\" points=\"16,6,136,6,143,28.2969,731,28.2969,731,234.5,16,234.5,16,6\" style=\"stroke: #000000; stroke-width: 1.5;\"/><line style=\"stroke: #000000; stroke-width: 1.5;\" x1=\"16\" x2=\"143\" y1=\"28.2969\" y2=\"28.2969\"/><text fill=\"#000000\" font-family=\"sans-serif\" font-size=\"14\" font-weight=\"bold\" lengthAdjust=\"spacingAndGlyphs\" textLength=\"114\" x=\"20\" y=\"20.9951\">ConjugationTest</text></a><!--MD5=[d5e69f78d87373223dbae638b30a9c99]\n",
       "cluster E3--><a href=\"psysml:eb00d253-98ff-4ea5-9d4b-40f483d849ec\" target=\"_top\" title=\"psysml:eb00d253-98ff-4ea5-9d4b-40f483d849ec\" xlink:actuate=\"onRequest\" xlink:href=\"psysml:eb00d253-98ff-4ea5-9d4b-40f483d849ec\" xlink:show=\"new\" xlink:title=\"psysml:eb00d253-98ff-4ea5-9d4b-40f483d849ec\" xlink:type=\"simple\"><rect fill=\"#FFFFFF\" height=\"88.5\" id=\"E3\" style=\"stroke: #383838; stroke-width: 1.5;\" width=\"85\" x=\"588\" y=\"114\"/><rect fill=\"#F8F8F8\" height=\"37.9375\" style=\"stroke: #383838; stroke-width: 1.5;\" width=\"85\" x=\"588\" y=\"114\"/><text fill=\"#000000\" font-family=\"sans-serif\" font-size=\"12\" font-style=\"italic\" lengthAdjust=\"spacingAndGlyphs\" textLength=\"68\" x=\"596.5\" y=\"130.1387\">«part  def»</text><text fill=\"#000000\" font-family=\"sans-serif\" font-size=\"12\" lengthAdjust=\"spacingAndGlyphs\" textLength=\"8\" x=\"626.5\" y=\"144.1074\">B</text></a><!--MD5=[14e3b0961a2654348d326746436168a1]\n",
       "cluster E6--><a href=\"psysml:c9adf55d-1d58-41e7-9c8f-305f1a380a4f\" target=\"_top\" title=\"psysml:c9adf55d-1d58-41e7-9c8f-305f1a380a4f\" xlink:actuate=\"onRequest\" xlink:href=\"psysml:c9adf55d-1d58-41e7-9c8f-305f1a380a4f\" xlink:show=\"new\" xlink:title=\"psysml:c9adf55d-1d58-41e7-9c8f-305f1a380a4f\" xlink:type=\"simple\"><rect fill=\"#FFFFFF\" height=\"88.5\" id=\"E6\" style=\"stroke: #383838; stroke-width: 1.5;\" width=\"152\" x=\"431\" y=\"114\"/><rect fill=\"#F8F8F8\" height=\"37.9375\" style=\"stroke: #383838; stroke-width: 1.5;\" width=\"152\" x=\"431\" y=\"114\"/><text fill=\"#000000\" font-family=\"sans-serif\" font-size=\"12\" font-style=\"italic\" lengthAdjust=\"spacingAndGlyphs\" textLength=\"112\" x=\"451\" y=\"130.1387\">«connection  def»</text><text fill=\"#000000\" font-family=\"sans-serif\" font-size=\"12\" lengthAdjust=\"spacingAndGlyphs\" textLength=\"8\" x=\"503\" y=\"144.1074\">A</text></a><!--MD5=[7f149f147074ac12df2cb0a7728a5fb0]\n",
       "cluster E9--><a href=\"psysml:909b1fdd-cad7-4fe7-8f0f-a5ae3fa3dd03\" target=\"_top\" title=\"psysml:909b1fdd-cad7-4fe7-8f0f-a5ae3fa3dd03\" xlink:actuate=\"onRequest\" xlink:href=\"psysml:909b1fdd-cad7-4fe7-8f0f-a5ae3fa3dd03\" xlink:show=\"new\" xlink:title=\"psysml:909b1fdd-cad7-4fe7-8f0f-a5ae3fa3dd03\" xlink:type=\"simple\"><rect fill=\"#FFFFFF\" height=\"88.5\" id=\"E9\" style=\"stroke: #383838; stroke-width: 1.5;\" width=\"143\" x=\"258\" y=\"114\"/><rect fill=\"#F8F8F8\" height=\"37.9375\" style=\"stroke: #383838; stroke-width: 1.5;\" width=\"143\" x=\"258\" y=\"114\"/><text fill=\"#000000\" font-family=\"sans-serif\" font-size=\"12\" font-style=\"italic\" lengthAdjust=\"spacingAndGlyphs\" textLength=\"98\" x=\"280.5\" y=\"130.1387\">«interface  def»</text><text fill=\"#000000\" font-family=\"sans-serif\" font-size=\"12\" lengthAdjust=\"spacingAndGlyphs\" textLength=\"3\" x=\"328\" y=\"144.1074\">I</text></a><!--MD5=[47bea60c1a0ac6c1143df232041969c0]\n",
       "cluster E12--><a href=\"psysml:c2ec72d4-85fe-4c8d-a549-b327df7a4c85\" target=\"_top\" title=\"psysml:c2ec72d4-85fe-4c8d-a549-b327df7a4c85\" xlink:actuate=\"onRequest\" xlink:href=\"psysml:c2ec72d4-85fe-4c8d-a549-b327df7a4c85\" xlink:show=\"new\" xlink:title=\"psysml:c2ec72d4-85fe-4c8d-a549-b327df7a4c85\" xlink:type=\"simple\"><rect fill=\"#FFFFFF\" height=\"161.5\" id=\"E12\" style=\"stroke: #383838; stroke-width: 1.5;\" width=\"107\" x=\"122\" y=\"49\"/><rect fill=\"#F8F8F8\" height=\"37.9375\" style=\"stroke: #383838; stroke-width: 1.5;\" width=\"107\" x=\"122\" y=\"49\"/><text fill=\"#000000\" font-family=\"sans-serif\" font-size=\"12\" font-style=\"italic\" lengthAdjust=\"spacingAndGlyphs\" textLength=\"68\" x=\"141.5\" y=\"65.1387\">«part  def»</text><text fill=\"#000000\" font-family=\"sans-serif\" font-size=\"12\" lengthAdjust=\"spacingAndGlyphs\" textLength=\"16\" x=\"167.5\" y=\"79.1074\">B1</text></a><!--MD5=[03104f77b71e2d8d3500c651e6e31181]\n",
       "cluster E13--><a href=\"psysml:bf56b714-b103-43c5-844a-64ae22bea297\" target=\"_top\" title=\"psysml:bf56b714-b103-43c5-844a-64ae22bea297\" xlink:actuate=\"onRequest\" xlink:href=\"psysml:bf56b714-b103-43c5-844a-64ae22bea297\" xlink:show=\"new\" xlink:title=\"psysml:bf56b714-b103-43c5-844a-64ae22bea297\" xlink:type=\"simple\"><rect fill=\"#FFFFFF\" height=\"80.5\" id=\"E13\" rx=\"10\" ry=\"10\" style=\"stroke: #383838; stroke-width: 1.5;\" width=\"83\" x=\"134\" y=\"114\"/><rect fill=\"#F8F8F8\" height=\"23.9688\" rx=\"10\" ry=\"10\" style=\"stroke: #F8F8F8; stroke-width: 1.5;\" width=\"83\" x=\"134\" y=\"114\"/><rect fill=\"#F8F8F8\" height=\"10\" style=\"stroke: #F8F8F8; stroke-width: 1.5;\" width=\"83\" x=\"134\" y=\"127.9688\"/><rect fill=\"none\" height=\"80.5\" id=\"E13\" rx=\"10\" ry=\"10\" style=\"stroke: #383838; stroke-width: 1.5;\" width=\"83\" x=\"134\" y=\"114\"/><text fill=\"#000000\" font-family=\"sans-serif\" font-size=\"12\" lengthAdjust=\"spacingAndGlyphs\" textLength=\"8\" x=\"171.5\" y=\"130.1387\">p</text><line style=\"stroke: #383838; stroke-width: 1.0;\" x1=\"134\" x2=\"217\" y1=\"137.9688\" y2=\"137.9688\"/></a><g id=\"E1.E2\"><a href=\"psysml:8038ba5e-65f3-4a7c-a5d9-05577a1e913e\" target=\"_top\" title=\"psysml:8038ba5e-65f3-4a7c-a5d9-05577a1e913e\" xlink:actuate=\"onRequest\" xlink:href=\"psysml:8038ba5e-65f3-4a7c-a5d9-05577a1e913e\" xlink:show=\"new\" xlink:title=\"psysml:8038ba5e-65f3-4a7c-a5d9-05577a1e913e\" xlink:type=\"simple\"><rect fill=\"#FFFFFF\" height=\"42.9375\" id=\"E2\" style=\"stroke: #383838; stroke-width: 1.5;\" width=\"75\" x=\"31.5\" y=\"92.5\"/><rect fill=\"#F8F8F8\" height=\"37.9375\" style=\"stroke: #383838; stroke-width: 1.5;\" width=\"75\" x=\"31.5\" y=\"92.5\"/><text fill=\"#000000\" font-family=\"sans-serif\" font-size=\"12\" font-style=\"italic\" lengthAdjust=\"spacingAndGlyphs\" textLength=\"68\" x=\"35\" y=\"108.6387\">«port  def»</text><text fill=\"#000000\" font-family=\"sans-serif\" font-size=\"12\" lengthAdjust=\"spacingAndGlyphs\" textLength=\"8\" x=\"65\" y=\"122.6074\">P</text></a></g><text fill=\"#000000\" font-family=\"sans-serif\" font-size=\"14\" lengthAdjust=\"spacingAndGlyphs\" textLength=\"36\" x=\"586\" y=\"92.6982\">p1: P</text><rect fill=\"#383838\" height=\"12\" style=\"stroke: #F8F8F8; stroke-width: 1.5;\" width=\"12\" x=\"600\" y=\"108\"/><text fill=\"#000000\" font-family=\"sans-serif\" font-size=\"14\" lengthAdjust=\"spacingAndGlyphs\" textLength=\"48\" x=\"627\" y=\"92.6982\">p2: ~P</text><rect fill=\"#383838\" height=\"12\" style=\"stroke: #F8F8F8; stroke-width: 1.5;\" width=\"12\" x=\"647\" y=\"108\"/><text fill=\"#000000\" font-family=\"sans-serif\" font-size=\"14\" lengthAdjust=\"spacingAndGlyphs\" textLength=\"36\" x=\"429\" y=\"92.6982\">p1: P</text><rect fill=\"#383838\" height=\"12\" style=\"stroke: #F8F8F8; stroke-width: 1.5;\" width=\"12\" x=\"443\" y=\"108\"/><text fill=\"#000000\" font-family=\"sans-serif\" font-size=\"14\" lengthAdjust=\"spacingAndGlyphs\" textLength=\"48\" x=\"470\" y=\"92.6982\">p2: ~P</text><rect fill=\"#383838\" height=\"12\" style=\"stroke: #F8F8F8; stroke-width: 1.5;\" width=\"12\" x=\"490\" y=\"108\"/><text fill=\"#000000\" font-family=\"sans-serif\" font-size=\"14\" lengthAdjust=\"spacingAndGlyphs\" textLength=\"36\" x=\"256\" y=\"92.6982\">p1: P</text><rect fill=\"#383838\" height=\"12\" style=\"stroke: #F8F8F8; stroke-width: 1.5;\" width=\"12\" x=\"270\" y=\"108\"/><text fill=\"#000000\" font-family=\"sans-serif\" font-size=\"14\" lengthAdjust=\"spacingAndGlyphs\" textLength=\"48\" x=\"297\" y=\"92.6982\">p2: ~P</text><rect fill=\"#383838\" height=\"12\" style=\"stroke: #F8F8F8; stroke-width: 1.5;\" width=\"12\" x=\"317\" y=\"108\"/><text fill=\"#000000\" font-family=\"sans-serif\" font-size=\"14\" lengthAdjust=\"spacingAndGlyphs\" textLength=\"36\" x=\"132\" y=\"92.6982\">p1: P</text><rect fill=\"#383838\" height=\"12\" style=\"stroke: #F8F8F8; stroke-width: 1.5;\" width=\"12\" x=\"146\" y=\"108\"/><text fill=\"#000000\" font-family=\"sans-serif\" font-size=\"14\" lengthAdjust=\"spacingAndGlyphs\" textLength=\"48\" x=\"173\" y=\"92.6982\">p2: ~P</text><rect fill=\"#383838\" height=\"12\" style=\"stroke: #F8F8F8; stroke-width: 1.5;\" width=\"12\" x=\"193\" y=\"108\"/><!--MD5=[3afbdc645381407e1bc99677323a2513]\n",
       "link E14 to E15--><a href=\"psysml:1d4c99f1-723b-47e9-b0a9-a2cf4f06711c\" target=\"_top\" title=\"psysml:1d4c99f1-723b-47e9-b0a9-a2cf4f06711c\" xlink:actuate=\"onRequest\" xlink:href=\"psysml:1d4c99f1-723b-47e9-b0a9-a2cf4f06711c\" xlink:show=\"new\" xlink:title=\"psysml:1d4c99f1-723b-47e9-b0a9-a2cf4f06711c\" xlink:type=\"simple\"><path d=\"M158.24,114 C169.81,114 181.38,114 192.95,114 \" fill=\"none\" id=\"E14-E15\" style=\"stroke: #383838; stroke-width: 3.0;\"/></a><!--MD5=[3afbdc645381407e1bc99677323a2513]\n",
       "link E14 to E15--><a href=\"psysml:99ef5f64-108a-4414-ad16-a52f47db38b7\" target=\"_top\" title=\"psysml:99ef5f64-108a-4414-ad16-a52f47db38b7\" xlink:actuate=\"onRequest\" xlink:href=\"psysml:99ef5f64-108a-4414-ad16-a52f47db38b7\" xlink:show=\"new\" xlink:title=\"psysml:99ef5f64-108a-4414-ad16-a52f47db38b7\" xlink:type=\"simple\"><path d=\"M158.24,111.93 C169.81,108.67 181.38,108.69 192.95,111.98 \" fill=\"none\" id=\"E14-E15-1\" style=\"stroke: #383838; stroke-width: 3.0;\"/></a><!--MD5=[4145ec8e9292936979153dca5cedace5]\n",
       "@startuml\r\n",
       "skinparam ranksep 10\r\n",
       "skinparam rectangle {\r\n",
       " backgroundColor<<block>> LightGreen\r\n",
       "}\r\n",
       " skinparam monochrome true\r\n",
       "skinparam classbackgroundcolor white\r\n",
       "skinparam shadowing false\r\n",
       "skinparam wrapWidth 300\r\n",
       "hide circle\r\n",
       "\r\n",
       "package \"ConjugationTest\" as E1  [[psysml:62f2acf4-862e-4777-8380-6adbdab8aa3b ]]  {\r\n",
       "def \"P\" as E2  <<(T,blue) port  def>> [[psysml:8038ba5e-65f3-4a7c-a5d9-05577a1e913e ]] \r\n",
       "rec def \"B\" as E3  <<(T,blue) part  def>> [[psysml:eb00d253-98ff-4ea5-9d4b-40f483d849ec ]] {\r\n",
       "portin \"p1: P \" as E4  <<(T,blue) port>> [[psysml:bd11b2df-eb92-4507-bbbb-c6493b57fcfa ]] \r\n",
       "portin \"p2: ~P \" as E5  <<(T,blue) port>> [[psysml:0cbe2724-4b46-4325-902f-a8a483156696 ]] \r\n",
       "}\r\n",
       "rec def \"A\" as E6  <<(T,blue) connection  def>> [[psysml:c9adf55d-1d58-41e7-9c8f-305f1a380a4f ]] {\r\n",
       "portin \"p1: P \" as E7  <<(T,blue) port>> [[psysml:62009ff7-c341-4e72-a056-ce92de09505b ]] \r\n",
       "portin \"p2: ~P \" as E8  <<(T,blue) port>> [[psysml:50db7d15-a467-4fc6-8fb9-d943e9708b48 ]] \r\n",
       "}\r\n",
       "rec def \"I\" as E9  <<(T,blue) interface  def>> [[psysml:909b1fdd-cad7-4fe7-8f0f-a5ae3fa3dd03 ]] {\r\n",
       "portin \"p1: P \" as E10  <<(T,blue) port>> [[psysml:4b05cf72-e027-47da-9c90-b867da4c93e0 ]] \r\n",
       "portin \"p2: ~P \" as E11  <<(T,blue) port>> [[psysml:0c24ab80-75a0-44e9-976a-962e4e9af685 ]] \r\n",
       "}\r\n",
       "rec def \"B1\" as E12  <<(T,blue) part  def>> [[psysml:c2ec72d4-85fe-4c8d-a549-b327df7a4c85 ]] {\r\n",
       "rec usage \"p\" as E13  [[psysml:bf56b714-b103-43c5-844a-64ae22bea297 ]] {\r\n",
       "portin \"p1: P \" as E14  <<(T,blue) port>> [[psysml:b5c2279c-6642-492b-a6cf-19efab06e689 ]] \r\n",
       "portin \"p2: ~P \" as E15  <<(T,blue) port>> [[psysml:ed6b3600-9f65-4ffd-a058-1200daf10699 ]] \r\n",
       "}\r\n",
       "}\r\n",
       "}\r\n",
       "E14 -[thickness=3]- E15 [[psysml:1d4c99f1-723b-47e9-b0a9-a2cf4f06711c ]] \r\n",
       "E14 -[thickness=3]- E15 [[psysml:99ef5f64-108a-4414-ad16-a52f47db38b7 ]] \r\n",
       "@enduml\r\n",
       "\n",
       "PlantUML version 1.2020.13(Sat Jun 13 12:26:38 UTC 2020)\n",
       "(EPL source distribution)\n",
       "Java Runtime: OpenJDK Runtime Environment\n",
       "JVM: OpenJDK 64-Bit Server VM\n",
       "Default Encoding: UTF-8\n",
       "Language: en\n",
       "Country: null\n",
       "--></g></svg>"
      ]
     },
     "execution_count": 5,
     "metadata": {},
     "output_type": "execute_result"
    }
   ],
   "source": [
    "%viz --style=\"COMPTREE\" --view=\"Interconnection\" \"ConjugationTest\""
   ]
  },
  {
   "cell_type": "code",
   "execution_count": 6,
   "id": "882ee88f",
   "metadata": {
    "execution": {
     "iopub.execute_input": "2022-02-18T10:47:44.410093Z",
     "iopub.status.busy": "2022-02-18T10:47:44.409671Z",
     "iopub.status.idle": "2022-02-18T10:47:44.416898Z",
     "shell.execute_reply": "2022-02-18T10:47:44.417221Z"
    }
   },
   "outputs": [
    {
     "data": {
      "image/svg+xml": [
       "<?xml version=\"1.0\" encoding=\"UTF-8\" standalone=\"no\"?><svg xmlns=\"http://www.w3.org/2000/svg\" xmlns:xlink=\"http://www.w3.org/1999/xlink\" contentScriptType=\"application/ecmascript\" contentStyleType=\"text/css\" height=\"12px\" preserveAspectRatio=\"none\" style=\"width:12px;height:12px;\" version=\"1.1\" viewBox=\"0 0 12 12\" width=\"12px\" zoomAndPan=\"magnify\"><defs/><g><!--MD5=[655b888544ca4751ea36af1068543f84]\n",
       "@startuml\r\n",
       "skinparam ranksep 8\r\n",
       " skinparam monochrome true\r\n",
       "skinparam classbackgroundcolor white\r\n",
       "skinparam shadowing false\r\n",
       "skinparam wrapWidth 300\r\n",
       "hide circle\r\n",
       "\r\n",
       "@enduml\r\n",
       "\n",
       "PlantUML version 1.2020.13(Sat Jun 13 12:26:38 UTC 2020)\n",
       "(EPL source distribution)\n",
       "Java Runtime: OpenJDK Runtime Environment\n",
       "JVM: OpenJDK 64-Bit Server VM\n",
       "Default Encoding: UTF-8\n",
       "Language: en\n",
       "Country: null\n",
       "--></g></svg>"
      ]
     },
     "execution_count": 6,
     "metadata": {},
     "output_type": "execute_result"
    }
   ],
   "source": [
    "%viz --style=\"COMPTREE\" --view=\"Action\" \"ConjugationTest\""
   ]
  },
  {
   "cell_type": "code",
   "execution_count": 7,
   "id": "e53a49bb",
   "metadata": {
    "execution": {
     "iopub.execute_input": "2022-02-18T10:47:44.467614Z",
     "iopub.status.busy": "2022-02-18T10:47:44.467202Z",
     "iopub.status.idle": "2022-02-18T10:47:44.478730Z",
     "shell.execute_reply": "2022-02-18T10:47:44.479046Z"
    }
   },
   "outputs": [
    {
     "data": {
      "image/svg+xml": [
       "<?xml version=\"1.0\" encoding=\"UTF-8\" standalone=\"no\"?><svg xmlns=\"http://www.w3.org/2000/svg\" xmlns:xlink=\"http://www.w3.org/1999/xlink\" contentScriptType=\"application/ecmascript\" contentStyleType=\"text/css\" height=\"12px\" preserveAspectRatio=\"none\" style=\"width:12px;height:12px;\" version=\"1.1\" viewBox=\"0 0 12 12\" width=\"12px\" zoomAndPan=\"magnify\"><defs/><g><!--MD5=[803fc46c337be7a5c8a9831e35356779]\n",
       "@startuml\r\n",
       "skinparam roundcorner 20\r\n",
       "skinparam BoxPadding 20\r\n",
       "skinparam SequenceBoxBackgroundColor #white\r\n",
       "skinparam style strictuml\r\n",
       "skinparam maxMessageSize 100\r\n",
       " skinparam monochrome true\r\n",
       "skinparam classbackgroundcolor white\r\n",
       "skinparam shadowing false\r\n",
       "skinparam wrapWidth 300\r\n",
       "hide circle\r\n",
       "\r\n",
       "@enduml\r\n",
       "\n",
       "PlantUML version 1.2020.13(Sat Jun 13 12:26:38 UTC 2020)\n",
       "(EPL source distribution)\n",
       "Java Runtime: OpenJDK Runtime Environment\n",
       "JVM: OpenJDK 64-Bit Server VM\n",
       "Default Encoding: UTF-8\n",
       "Language: en\n",
       "Country: null\n",
       "--></g></svg>"
      ]
     },
     "execution_count": 7,
     "metadata": {},
     "output_type": "execute_result"
    }
   ],
   "source": [
    "%viz --style=\"COMPTREE\" --view=\"Sequence\" \"ConjugationTest\""
   ]
  },
  {
   "cell_type": "code",
   "execution_count": 8,
   "id": "c8404e5e",
   "metadata": {
    "execution": {
     "iopub.execute_input": "2022-02-18T10:47:44.529528Z",
     "iopub.status.busy": "2022-02-18T10:47:44.529127Z",
     "iopub.status.idle": "2022-02-18T10:47:44.656668Z",
     "shell.execute_reply": "2022-02-18T10:47:44.654676Z"
    }
   },
   "outputs": [
    {
     "data": {
      "image/svg+xml": [
       "<?xml version=\"1.0\" encoding=\"UTF-8\" standalone=\"no\"?><svg xmlns=\"http://www.w3.org/2000/svg\" xmlns:xlink=\"http://www.w3.org/1999/xlink\" contentScriptType=\"application/ecmascript\" contentStyleType=\"text/css\" height=\"381px\" preserveAspectRatio=\"none\" style=\"width:634px;height:381px;\" version=\"1.1\" viewBox=\"0 0 634 381\" width=\"634px\" zoomAndPan=\"magnify\"><defs/><g><!--MD5=[fbc87193dbaf4d95561dea2c320d4a47]\n",
       "cluster E1--><a href=\"psysml:62f2acf4-862e-4777-8380-6adbdab8aa3b\" target=\"_top\" title=\"psysml:62f2acf4-862e-4777-8380-6adbdab8aa3b\" xlink:actuate=\"onRequest\" xlink:href=\"psysml:62f2acf4-862e-4777-8380-6adbdab8aa3b\" xlink:show=\"new\" xlink:title=\"psysml:62f2acf4-862e-4777-8380-6adbdab8aa3b\" xlink:type=\"simple\"><polygon fill=\"#FFFFFF\" points=\"16,6,136,6,143,28.2969,612,28.2969,612,369,16,369,16,6\" style=\"stroke: #000000; stroke-width: 1.5;\"/><line style=\"stroke: #000000; stroke-width: 1.5;\" x1=\"16\" x2=\"143\" y1=\"28.2969\" y2=\"28.2969\"/><text fill=\"#000000\" font-family=\"sans-serif\" font-size=\"14\" font-weight=\"bold\" lengthAdjust=\"spacingAndGlyphs\" textLength=\"114\" x=\"20\" y=\"20.9951\">ConjugationTest</text></a><!--MD5=[b4997ac47864f28c2f74865a473b2911]\n",
       "class E2--><a href=\"psysml:8038ba5e-65f3-4a7c-a5d9-05577a1e913e\" target=\"_top\" title=\"psysml:8038ba5e-65f3-4a7c-a5d9-05577a1e913e\" xlink:actuate=\"onRequest\" xlink:href=\"psysml:8038ba5e-65f3-4a7c-a5d9-05577a1e913e\" xlink:show=\"new\" xlink:title=\"psysml:8038ba5e-65f3-4a7c-a5d9-05577a1e913e\" xlink:type=\"simple\"><rect fill=\"#FFFFFF\" height=\"45.9375\" id=\"E2\" style=\"stroke: #383838; stroke-width: 1.5;\" width=\"70\" x=\"526\" y=\"81\"/><text fill=\"#000000\" font-family=\"sans-serif\" font-size=\"12\" font-style=\"italic\" lengthAdjust=\"spacingAndGlyphs\" textLength=\"68\" x=\"527\" y=\"97.1387\">«port  def»</text><text fill=\"#000000\" font-family=\"sans-serif\" font-size=\"12\" lengthAdjust=\"spacingAndGlyphs\" textLength=\"8\" x=\"557\" y=\"111.1074\">P</text><line style=\"stroke: #383838; stroke-width: 1.5;\" x1=\"527\" x2=\"595\" y1=\"118.9375\" y2=\"118.9375\"/></a><!--MD5=[09b614a08d8cba4a07c9adeb5e0fee81]\n",
       "class E3--><a href=\"psysml:eb00d253-98ff-4ea5-9d4b-40f483d849ec\" target=\"_top\" title=\"psysml:eb00d253-98ff-4ea5-9d4b-40f483d849ec\" xlink:actuate=\"onRequest\" xlink:href=\"psysml:eb00d253-98ff-4ea5-9d4b-40f483d849ec\" xlink:show=\"new\" xlink:title=\"psysml:eb00d253-98ff-4ea5-9d4b-40f483d849ec\" xlink:type=\"simple\"><rect fill=\"#FFFFFF\" height=\"125.9609\" id=\"E3\" style=\"stroke: #383838; stroke-width: 1.5;\" width=\"70\" x=\"421\" y=\"41\"/><text fill=\"#000000\" font-family=\"sans-serif\" font-size=\"12\" font-style=\"italic\" lengthAdjust=\"spacingAndGlyphs\" textLength=\"68\" x=\"422\" y=\"57.1387\">«part  def»</text><text fill=\"#000000\" font-family=\"sans-serif\" font-size=\"12\" lengthAdjust=\"spacingAndGlyphs\" textLength=\"8\" x=\"452\" y=\"71.1074\">B</text><line style=\"stroke: #383838; stroke-width: 1.5;\" x1=\"422\" x2=\"490\" y1=\"78.9375\" y2=\"78.9375\"/><text fill=\"#000000\" font-family=\"sans-serif\" font-size=\"11\" lengthAdjust=\"spacingAndGlyphs\" textLength=\"29\" x=\"427\" y=\"109.9526\">p1: P</text><line style=\"stroke: #383838; stroke-width: 1.0;\" x1=\"422\" x2=\"441\" y1=\"93.3398\" y2=\"93.3398\"/><text fill=\"#000000\" font-family=\"sans-serif\" font-size=\"11\" lengthAdjust=\"spacingAndGlyphs\" textLength=\"30\" x=\"441\" y=\"96.6479\">ports</text><line style=\"stroke: #383838; stroke-width: 1.0;\" x1=\"471\" x2=\"490\" y1=\"93.3398\" y2=\"93.3398\"/><text fill=\"#000000\" font-family=\"sans-serif\" font-size=\"11\" lengthAdjust=\"spacingAndGlyphs\" textLength=\"0\" x=\"443\" y=\"128.7573\"/><rect fill=\"#FFFFFF\" height=\"2\" style=\"stroke: #000000; stroke-width: 1.0;\" width=\"2\" x=\"436\" y=\"123.9492\"/><line style=\"stroke: #000000; stroke-width: 1.0;\" x1=\"429\" x2=\"437\" y1=\"124.9492\" y2=\"124.9492\"/><line style=\"stroke: #000000; stroke-width: 1.0;\" x1=\"429\" x2=\"429\" y1=\"118.5469\" y2=\"124.9492\"/><text fill=\"#000000\" font-family=\"sans-serif\" font-size=\"11\" lengthAdjust=\"spacingAndGlyphs\" textLength=\"38\" x=\"427\" y=\"144.562\">p2: ~P</text><text fill=\"#000000\" font-family=\"sans-serif\" font-size=\"11\" lengthAdjust=\"spacingAndGlyphs\" textLength=\"0\" x=\"443\" y=\"160.3667\"/><rect fill=\"#FFFFFF\" height=\"2\" style=\"stroke: #000000; stroke-width: 1.0;\" width=\"2\" x=\"436\" y=\"155.5586\"/><line style=\"stroke: #000000; stroke-width: 1.0;\" x1=\"429\" x2=\"437\" y1=\"156.5586\" y2=\"156.5586\"/><line style=\"stroke: #000000; stroke-width: 1.0;\" x1=\"429\" x2=\"429\" y1=\"150.1563\" y2=\"156.5586\"/></a><!--MD5=[ebbe1d658d1005bcc118a6aa81145e00]\n",
       "class E4--><a href=\"psysml:c9adf55d-1d58-41e7-9c8f-305f1a380a4f\" target=\"_top\" title=\"psysml:c9adf55d-1d58-41e7-9c8f-305f1a380a4f\" xlink:actuate=\"onRequest\" xlink:href=\"psysml:c9adf55d-1d58-41e7-9c8f-305f1a380a4f\" xlink:show=\"new\" xlink:title=\"psysml:c9adf55d-1d58-41e7-9c8f-305f1a380a4f\" xlink:type=\"simple\"><rect fill=\"#FFFFFF\" height=\"125.9609\" id=\"E4\" style=\"stroke: #383838; stroke-width: 1.5;\" width=\"114\" x=\"272\" y=\"41\"/><text fill=\"#000000\" font-family=\"sans-serif\" font-size=\"12\" font-style=\"italic\" lengthAdjust=\"spacingAndGlyphs\" textLength=\"112\" x=\"273\" y=\"57.1387\">«connection  def»</text><text fill=\"#000000\" font-family=\"sans-serif\" font-size=\"12\" lengthAdjust=\"spacingAndGlyphs\" textLength=\"8\" x=\"325\" y=\"71.1074\">A</text><line style=\"stroke: #383838; stroke-width: 1.5;\" x1=\"273\" x2=\"385\" y1=\"78.9375\" y2=\"78.9375\"/><text fill=\"#000000\" font-family=\"sans-serif\" font-size=\"11\" lengthAdjust=\"spacingAndGlyphs\" textLength=\"29\" x=\"278\" y=\"109.9526\">p1: P</text><line style=\"stroke: #383838; stroke-width: 1.0;\" x1=\"273\" x2=\"314\" y1=\"93.3398\" y2=\"93.3398\"/><text fill=\"#000000\" font-family=\"sans-serif\" font-size=\"11\" lengthAdjust=\"spacingAndGlyphs\" textLength=\"30\" x=\"314\" y=\"96.6479\">ports</text><line style=\"stroke: #383838; stroke-width: 1.0;\" x1=\"344\" x2=\"385\" y1=\"93.3398\" y2=\"93.3398\"/><text fill=\"#000000\" font-family=\"sans-serif\" font-size=\"11\" lengthAdjust=\"spacingAndGlyphs\" textLength=\"0\" x=\"294\" y=\"128.7573\"/><rect fill=\"#FFFFFF\" height=\"2\" style=\"stroke: #000000; stroke-width: 1.0;\" width=\"2\" x=\"287\" y=\"123.9492\"/><line style=\"stroke: #000000; stroke-width: 1.0;\" x1=\"280\" x2=\"288\" y1=\"124.9492\" y2=\"124.9492\"/><line style=\"stroke: #000000; stroke-width: 1.0;\" x1=\"280\" x2=\"280\" y1=\"118.5469\" y2=\"124.9492\"/><text fill=\"#000000\" font-family=\"sans-serif\" font-size=\"11\" lengthAdjust=\"spacingAndGlyphs\" textLength=\"38\" x=\"278\" y=\"144.562\">p2: ~P</text><text fill=\"#000000\" font-family=\"sans-serif\" font-size=\"11\" lengthAdjust=\"spacingAndGlyphs\" textLength=\"0\" x=\"294\" y=\"160.3667\"/><rect fill=\"#FFFFFF\" height=\"2\" style=\"stroke: #000000; stroke-width: 1.0;\" width=\"2\" x=\"287\" y=\"155.5586\"/><line style=\"stroke: #000000; stroke-width: 1.0;\" x1=\"280\" x2=\"288\" y1=\"156.5586\" y2=\"156.5586\"/><line style=\"stroke: #000000; stroke-width: 1.0;\" x1=\"280\" x2=\"280\" y1=\"150.1563\" y2=\"156.5586\"/></a><!--MD5=[270fce915f116d4de14055a7c1d9a0f3]\n",
       "class E5--><a href=\"psysml:909b1fdd-cad7-4fe7-8f0f-a5ae3fa3dd03\" target=\"_top\" title=\"psysml:909b1fdd-cad7-4fe7-8f0f-a5ae3fa3dd03\" xlink:actuate=\"onRequest\" xlink:href=\"psysml:909b1fdd-cad7-4fe7-8f0f-a5ae3fa3dd03\" xlink:show=\"new\" xlink:title=\"psysml:909b1fdd-cad7-4fe7-8f0f-a5ae3fa3dd03\" xlink:type=\"simple\"><rect fill=\"#FFFFFF\" height=\"125.9609\" id=\"E5\" style=\"stroke: #383838; stroke-width: 1.5;\" width=\"100\" x=\"137\" y=\"41\"/><text fill=\"#000000\" font-family=\"sans-serif\" font-size=\"12\" font-style=\"italic\" lengthAdjust=\"spacingAndGlyphs\" textLength=\"98\" x=\"138\" y=\"57.1387\">«interface  def»</text><text fill=\"#000000\" font-family=\"sans-serif\" font-size=\"12\" lengthAdjust=\"spacingAndGlyphs\" textLength=\"3\" x=\"185.5\" y=\"71.1074\">I</text><line style=\"stroke: #383838; stroke-width: 1.5;\" x1=\"138\" x2=\"236\" y1=\"78.9375\" y2=\"78.9375\"/><text fill=\"#000000\" font-family=\"sans-serif\" font-size=\"11\" lengthAdjust=\"spacingAndGlyphs\" textLength=\"29\" x=\"143\" y=\"109.9526\">p1: P</text><line style=\"stroke: #383838; stroke-width: 1.0;\" x1=\"138\" x2=\"172\" y1=\"93.3398\" y2=\"93.3398\"/><text fill=\"#000000\" font-family=\"sans-serif\" font-size=\"11\" lengthAdjust=\"spacingAndGlyphs\" textLength=\"30\" x=\"172\" y=\"96.6479\">ports</text><line style=\"stroke: #383838; stroke-width: 1.0;\" x1=\"202\" x2=\"236\" y1=\"93.3398\" y2=\"93.3398\"/><text fill=\"#000000\" font-family=\"sans-serif\" font-size=\"11\" lengthAdjust=\"spacingAndGlyphs\" textLength=\"0\" x=\"159\" y=\"128.7573\"/><rect fill=\"#FFFFFF\" height=\"2\" style=\"stroke: #000000; stroke-width: 1.0;\" width=\"2\" x=\"152\" y=\"123.9492\"/><line style=\"stroke: #000000; stroke-width: 1.0;\" x1=\"145\" x2=\"153\" y1=\"124.9492\" y2=\"124.9492\"/><line style=\"stroke: #000000; stroke-width: 1.0;\" x1=\"145\" x2=\"145\" y1=\"118.5469\" y2=\"124.9492\"/><text fill=\"#000000\" font-family=\"sans-serif\" font-size=\"11\" lengthAdjust=\"spacingAndGlyphs\" textLength=\"38\" x=\"143\" y=\"144.562\">p2: ~P</text><text fill=\"#000000\" font-family=\"sans-serif\" font-size=\"11\" lengthAdjust=\"spacingAndGlyphs\" textLength=\"0\" x=\"159\" y=\"160.3667\"/><rect fill=\"#FFFFFF\" height=\"2\" style=\"stroke: #000000; stroke-width: 1.0;\" width=\"2\" x=\"152\" y=\"155.5586\"/><line style=\"stroke: #000000; stroke-width: 1.0;\" x1=\"145\" x2=\"153\" y1=\"156.5586\" y2=\"156.5586\"/><line style=\"stroke: #000000; stroke-width: 1.0;\" x1=\"145\" x2=\"145\" y1=\"150.1563\" y2=\"156.5586\"/></a><!--MD5=[60a26617385b1d2d0262a64233df1f8d]\n",
       "class E6--><a href=\"psysml:c2ec72d4-85fe-4c8d-a549-b327df7a4c85\" target=\"_top\" title=\"psysml:c2ec72d4-85fe-4c8d-a549-b327df7a4c85\" xlink:actuate=\"onRequest\" xlink:href=\"psysml:c2ec72d4-85fe-4c8d-a549-b327df7a4c85\" xlink:show=\"new\" xlink:title=\"psysml:c2ec72d4-85fe-4c8d-a549-b327df7a4c85\" xlink:type=\"simple\"><rect fill=\"#FFFFFF\" height=\"45.9375\" id=\"E6\" style=\"stroke: #383838; stroke-width: 1.5;\" width=\"70\" x=\"32\" y=\"81\"/><text fill=\"#000000\" font-family=\"sans-serif\" font-size=\"12\" font-style=\"italic\" lengthAdjust=\"spacingAndGlyphs\" textLength=\"68\" x=\"33\" y=\"97.1387\">«part  def»</text><text fill=\"#000000\" font-family=\"sans-serif\" font-size=\"12\" lengthAdjust=\"spacingAndGlyphs\" textLength=\"16\" x=\"59\" y=\"111.1074\">B1</text><line style=\"stroke: #383838; stroke-width: 1.5;\" x1=\"33\" x2=\"101\" y1=\"118.9375\" y2=\"118.9375\"/></a><!--MD5=[2156ba9850f5573cc1fc38a6a4b2f02b]\n",
       "class E7--><a href=\"psysml:bf56b714-b103-43c5-844a-64ae22bea297\" target=\"_top\" title=\"psysml:bf56b714-b103-43c5-844a-64ae22bea297\" xlink:actuate=\"onRequest\" xlink:href=\"psysml:bf56b714-b103-43c5-844a-64ae22bea297\" xlink:show=\"new\" xlink:title=\"psysml:bf56b714-b103-43c5-844a-64ae22bea297\" xlink:type=\"simple\"><rect fill=\"#FFFFFF\" height=\"125.9609\" id=\"E7\" rx=\"10\" ry=\"10\" style=\"stroke: #383838; stroke-width: 1.5;\" width=\"50\" x=\"42\" y=\"227\"/><text fill=\"#000000\" font-family=\"sans-serif\" font-size=\"12\" font-style=\"italic\" lengthAdjust=\"spacingAndGlyphs\" textLength=\"40\" x=\"47\" y=\"243.1387\">«part»</text><text fill=\"#000000\" font-family=\"sans-serif\" font-size=\"12\" lengthAdjust=\"spacingAndGlyphs\" textLength=\"8\" x=\"61\" y=\"257.1074\">p</text><line style=\"stroke: #383838; stroke-width: 1.5;\" x1=\"43\" x2=\"91\" y1=\"264.9375\" y2=\"264.9375\"/><text fill=\"#000000\" font-family=\"sans-serif\" font-size=\"11\" lengthAdjust=\"spacingAndGlyphs\" textLength=\"29\" x=\"48\" y=\"295.9526\">p1: P</text><line style=\"stroke: #383838; stroke-width: 1.0;\" x1=\"43\" x2=\"52\" y1=\"279.3398\" y2=\"279.3398\"/><text fill=\"#000000\" font-family=\"sans-serif\" font-size=\"11\" lengthAdjust=\"spacingAndGlyphs\" textLength=\"30\" x=\"52\" y=\"282.6479\">ports</text><line style=\"stroke: #383838; stroke-width: 1.0;\" x1=\"82\" x2=\"91\" y1=\"279.3398\" y2=\"279.3398\"/><text fill=\"#000000\" font-family=\"sans-serif\" font-size=\"11\" lengthAdjust=\"spacingAndGlyphs\" textLength=\"0\" x=\"64\" y=\"314.7573\"/><rect fill=\"#FFFFFF\" height=\"2\" style=\"stroke: #000000; stroke-width: 1.0;\" width=\"2\" x=\"57\" y=\"309.9492\"/><line style=\"stroke: #000000; stroke-width: 1.0;\" x1=\"50\" x2=\"58\" y1=\"310.9492\" y2=\"310.9492\"/><line style=\"stroke: #000000; stroke-width: 1.0;\" x1=\"50\" x2=\"50\" y1=\"304.5469\" y2=\"310.9492\"/><text fill=\"#000000\" font-family=\"sans-serif\" font-size=\"11\" lengthAdjust=\"spacingAndGlyphs\" textLength=\"38\" x=\"48\" y=\"330.562\">p2: ~P</text><text fill=\"#000000\" font-family=\"sans-serif\" font-size=\"11\" lengthAdjust=\"spacingAndGlyphs\" textLength=\"0\" x=\"64\" y=\"346.3667\"/><rect fill=\"#FFFFFF\" height=\"2\" style=\"stroke: #000000; stroke-width: 1.0;\" width=\"2\" x=\"57\" y=\"341.5586\"/><line style=\"stroke: #000000; stroke-width: 1.0;\" x1=\"50\" x2=\"58\" y1=\"342.5586\" y2=\"342.5586\"/><line style=\"stroke: #000000; stroke-width: 1.0;\" x1=\"50\" x2=\"50\" y1=\"336.1563\" y2=\"342.5586\"/></a><!--MD5=[3f50a3473f1dfb74d3f76443e03635af]\n",
       "reverse link E6 to E7--><a href=\"psysml:b5605e58-b315-4dd3-8e84-581a703b4e2b\" target=\"_top\" title=\"psysml:b5605e58-b315-4dd3-8e84-581a703b4e2b\" xlink:actuate=\"onRequest\" xlink:href=\"psysml:b5605e58-b315-4dd3-8e84-581a703b4e2b\" xlink:show=\"new\" xlink:title=\"psysml:b5605e58-b315-4dd3-8e84-581a703b4e2b\" xlink:type=\"simple\"><path d=\"M67,140.49 C67,164.94 67,198.08 67,226.85 \" fill=\"none\" id=\"E6&lt;-E7\" style=\"stroke: #383838; stroke-width: 1.0;\"/><polygon fill=\"#383838\" points=\"67,127.19,63,133.19,67,139.19,71,133.19,67,127.19\" style=\"stroke: #383838; stroke-width: 1.0;\"/><text fill=\"#000000\" font-family=\"sans-serif\" font-size=\"13\" lengthAdjust=\"spacingAndGlyphs\" textLength=\"8\" x=\"58.5375\" y=\"215.7579\">1</text></a><!--MD5=[eb503e838fc47a3bee2b8af7a4633cb2]\n",
       "@startuml\r\n",
       " skinparam monochrome true\r\n",
       "skinparam classbackgroundcolor white\r\n",
       "skinparam shadowing false\r\n",
       "skinparam wrapWidth 300\r\n",
       "hide circle\r\n",
       "\r\n",
       "package \"ConjugationTest\" as E1  [[psysml:62f2acf4-862e-4777-8380-6adbdab8aa3b ]]  {\r\n",
       "comp def \"P\" as E2  <<(T,blue) port  def>> [[psysml:8038ba5e-65f3-4a7c-a5d9-05577a1e913e ]] {\r\n",
       "}\r\n",
       "comp def \"B\" as E3  <<(T,blue) part  def>> [[psysml:eb00d253-98ff-4ea5-9d4b-40f483d849ec ]] {\r\n",
       "- - ports - -\r\n",
       "p1: P\r\n",
       "|_ \r\n",
       "p2: ~P\r\n",
       "|_ \r\n",
       "}\r\n",
       "comp def \"A\" as E4  <<(T,blue) connection  def>> [[psysml:c9adf55d-1d58-41e7-9c8f-305f1a380a4f ]] {\r\n",
       "- - ports - -\r\n",
       "p1: P\r\n",
       "|_ \r\n",
       "p2: ~P\r\n",
       "|_ \r\n",
       "}\r\n",
       "comp def \"I\" as E5  <<(T,blue) interface  def>> [[psysml:909b1fdd-cad7-4fe7-8f0f-a5ae3fa3dd03 ]] {\r\n",
       "- - ports - -\r\n",
       "p1: P\r\n",
       "|_ \r\n",
       "p2: ~P\r\n",
       "|_ \r\n",
       "}\r\n",
       "comp def \"B1\" as E6  <<(T,blue) part  def>> [[psysml:c2ec72d4-85fe-4c8d-a549-b327df7a4c85 ]] {\r\n",
       "}\r\n",
       "comp usage \"p \" as E7  <<(T,blue) part>> [[psysml:bf56b714-b103-43c5-844a-64ae22bea297 ]] {\r\n",
       "- - ports - -\r\n",
       "p1: P\r\n",
       "|_ \r\n",
       "p2: ~P\r\n",
       "|_ \r\n",
       "}\r\n",
       "}\r\n",
       "E6 *- - \"1\"E7 [[psysml:b5605e58-b315-4dd3-8e84-581a703b4e2b ]] \r\n",
       "@enduml\r\n",
       "\n",
       "PlantUML version 1.2020.13(Sat Jun 13 12:26:38 UTC 2020)\n",
       "(EPL source distribution)\n",
       "Java Runtime: OpenJDK Runtime Environment\n",
       "JVM: OpenJDK 64-Bit Server VM\n",
       "Default Encoding: UTF-8\n",
       "Language: en\n",
       "Country: null\n",
       "--></g></svg>"
      ]
     },
     "execution_count": 8,
     "metadata": {},
     "output_type": "execute_result"
    }
   ],
   "source": [
    "%viz --style=\"COMPTREE\" --view=\"MIXED\" \"ConjugationTest\""
   ]
  },
  {
   "cell_type": "code",
   "execution_count": 9,
   "id": "804a8d68",
   "metadata": {
    "execution": {
     "iopub.execute_input": "2022-02-18T10:47:44.704968Z",
     "iopub.status.busy": "2022-02-18T10:47:44.704551Z",
     "iopub.status.idle": "2022-02-18T10:47:44.763775Z",
     "shell.execute_reply": "2022-02-18T10:47:44.761583Z"
    }
   },
   "outputs": [
    {
     "data": {
      "image/svg+xml": [
       "<?xml version=\"1.0\" encoding=\"UTF-8\" standalone=\"no\"?><svg xmlns=\"http://www.w3.org/2000/svg\" xmlns:xlink=\"http://www.w3.org/1999/xlink\" contentScriptType=\"application/ecmascript\" contentStyleType=\"text/css\" height=\"433px\" preserveAspectRatio=\"none\" style=\"width:641px;height:433px;\" version=\"1.1\" viewBox=\"0 0 641 433\" width=\"641px\" zoomAndPan=\"magnify\"><defs/><g><!--MD5=[fbc87193dbaf4d95561dea2c320d4a47]\n",
       "cluster E1--><a href=\"psysml:62f2acf4-862e-4777-8380-6adbdab8aa3b\" target=\"_top\" title=\"psysml:62f2acf4-862e-4777-8380-6adbdab8aa3b\" xlink:actuate=\"onRequest\" xlink:href=\"psysml:62f2acf4-862e-4777-8380-6adbdab8aa3b\" xlink:show=\"new\" xlink:title=\"psysml:62f2acf4-862e-4777-8380-6adbdab8aa3b\" xlink:type=\"simple\"><polygon fill=\"#FFFFFF\" points=\"16,6,136,6,143,28.2969,619,28.2969,619,421,16,421,16,6\" style=\"stroke: #000000; stroke-width: 1.5;\"/><line style=\"stroke: #000000; stroke-width: 1.5;\" x1=\"16\" x2=\"143\" y1=\"28.2969\" y2=\"28.2969\"/><text fill=\"#000000\" font-family=\"sans-serif\" font-size=\"14\" font-weight=\"bold\" lengthAdjust=\"spacingAndGlyphs\" textLength=\"114\" x=\"20\" y=\"20.9951\">ConjugationTest</text></a><!--MD5=[b4997ac47864f28c2f74865a473b2911]\n",
       "class E2--><a href=\"psysml:8038ba5e-65f3-4a7c-a5d9-05577a1e913e\" target=\"_top\" title=\"psysml:8038ba5e-65f3-4a7c-a5d9-05577a1e913e\" xlink:actuate=\"onRequest\" xlink:href=\"psysml:8038ba5e-65f3-4a7c-a5d9-05577a1e913e\" xlink:show=\"new\" xlink:title=\"psysml:8038ba5e-65f3-4a7c-a5d9-05577a1e913e\" xlink:type=\"simple\"><rect fill=\"#FFFFFF\" height=\"45.9375\" id=\"E2\" style=\"stroke: #383838; stroke-width: 1.5;\" width=\"70\" x=\"223\" y=\"359\"/><text fill=\"#000000\" font-family=\"sans-serif\" font-size=\"12\" font-style=\"italic\" lengthAdjust=\"spacingAndGlyphs\" textLength=\"68\" x=\"224\" y=\"375.1387\">«port  def»</text><text fill=\"#000000\" font-family=\"sans-serif\" font-size=\"12\" lengthAdjust=\"spacingAndGlyphs\" textLength=\"8\" x=\"254\" y=\"389.1074\">P</text><line style=\"stroke: #383838; stroke-width: 1.5;\" x1=\"224\" x2=\"292\" y1=\"396.9375\" y2=\"396.9375\"/></a><!--MD5=[09b614a08d8cba4a07c9adeb5e0fee81]\n",
       "class E3--><a href=\"psysml:eb00d253-98ff-4ea5-9d4b-40f483d849ec\" target=\"_top\" title=\"psysml:eb00d253-98ff-4ea5-9d4b-40f483d849ec\" xlink:actuate=\"onRequest\" xlink:href=\"psysml:eb00d253-98ff-4ea5-9d4b-40f483d849ec\" xlink:show=\"new\" xlink:title=\"psysml:eb00d253-98ff-4ea5-9d4b-40f483d849ec\" xlink:type=\"simple\"><rect fill=\"#FFFFFF\" height=\"45.9375\" id=\"E3\" style=\"stroke: #383838; stroke-width: 1.5;\" width=\"70\" x=\"496\" y=\"147\"/><text fill=\"#000000\" font-family=\"sans-serif\" font-size=\"12\" font-style=\"italic\" lengthAdjust=\"spacingAndGlyphs\" textLength=\"68\" x=\"497\" y=\"163.1387\">«part  def»</text><text fill=\"#000000\" font-family=\"sans-serif\" font-size=\"12\" lengthAdjust=\"spacingAndGlyphs\" textLength=\"8\" x=\"527\" y=\"177.1074\">B</text><line style=\"stroke: #383838; stroke-width: 1.5;\" x1=\"497\" x2=\"565\" y1=\"184.9375\" y2=\"184.9375\"/></a><!--MD5=[ebbe1d658d1005bcc118a6aa81145e00]\n",
       "class E4--><a href=\"psysml:bd11b2df-eb92-4507-bbbb-c6493b57fcfa\" target=\"_top\" title=\"psysml:bd11b2df-eb92-4507-bbbb-c6493b57fcfa\" xlink:actuate=\"onRequest\" xlink:href=\"psysml:bd11b2df-eb92-4507-bbbb-c6493b57fcfa\" xlink:show=\"new\" xlink:title=\"psysml:bd11b2df-eb92-4507-bbbb-c6493b57fcfa\" xlink:type=\"simple\"><rect fill=\"#FFFFFF\" height=\"45.9375\" id=\"E4\" rx=\"10\" ry=\"10\" style=\"stroke: #383838; stroke-width: 1.5;\" width=\"42\" x=\"474\" y=\"253\"/><text fill=\"#000000\" font-family=\"sans-serif\" font-size=\"12\" font-style=\"italic\" lengthAdjust=\"spacingAndGlyphs\" textLength=\"40\" x=\"475\" y=\"269.1387\">«port»</text><text fill=\"#000000\" font-family=\"sans-serif\" font-size=\"12\" lengthAdjust=\"spacingAndGlyphs\" textLength=\"32\" x=\"477\" y=\"283.1074\">p1: P</text><line style=\"stroke: #383838; stroke-width: 1.5;\" x1=\"475\" x2=\"515\" y1=\"290.9375\" y2=\"290.9375\"/></a><!--MD5=[270fce915f116d4de14055a7c1d9a0f3]\n",
       "class E5--><a href=\"psysml:0cbe2724-4b46-4325-902f-a8a483156696\" target=\"_top\" title=\"psysml:0cbe2724-4b46-4325-902f-a8a483156696\" xlink:actuate=\"onRequest\" xlink:href=\"psysml:0cbe2724-4b46-4325-902f-a8a483156696\" xlink:show=\"new\" xlink:title=\"psysml:0cbe2724-4b46-4325-902f-a8a483156696\" xlink:type=\"simple\"><rect fill=\"#FFFFFF\" height=\"45.9375\" id=\"E5\" rx=\"10\" ry=\"10\" style=\"stroke: #383838; stroke-width: 1.5;\" width=\"52\" x=\"551\" y=\"253\"/><text fill=\"#000000\" font-family=\"sans-serif\" font-size=\"12\" font-style=\"italic\" lengthAdjust=\"spacingAndGlyphs\" textLength=\"40\" x=\"557\" y=\"269.1387\">«port»</text><text fill=\"#000000\" font-family=\"sans-serif\" font-size=\"12\" lengthAdjust=\"spacingAndGlyphs\" textLength=\"42\" x=\"554\" y=\"283.1074\">p2: ~P</text><line style=\"stroke: #383838; stroke-width: 1.5;\" x1=\"552\" x2=\"602\" y1=\"290.9375\" y2=\"290.9375\"/></a><!--MD5=[60a26617385b1d2d0262a64233df1f8d]\n",
       "class E6--><a href=\"psysml:c9adf55d-1d58-41e7-9c8f-305f1a380a4f\" target=\"_top\" title=\"psysml:c9adf55d-1d58-41e7-9c8f-305f1a380a4f\" xlink:actuate=\"onRequest\" xlink:href=\"psysml:c9adf55d-1d58-41e7-9c8f-305f1a380a4f\" xlink:show=\"new\" xlink:title=\"psysml:c9adf55d-1d58-41e7-9c8f-305f1a380a4f\" xlink:type=\"simple\"><rect fill=\"#FFFFFF\" height=\"45.9375\" id=\"E6\" style=\"stroke: #383838; stroke-width: 1.5;\" width=\"114\" x=\"283\" y=\"147\"/><text fill=\"#000000\" font-family=\"sans-serif\" font-size=\"12\" font-style=\"italic\" lengthAdjust=\"spacingAndGlyphs\" textLength=\"112\" x=\"284\" y=\"163.1387\">«connection  def»</text><text fill=\"#000000\" font-family=\"sans-serif\" font-size=\"12\" lengthAdjust=\"spacingAndGlyphs\" textLength=\"8\" x=\"336\" y=\"177.1074\">A</text><line style=\"stroke: #383838; stroke-width: 1.5;\" x1=\"284\" x2=\"396\" y1=\"184.9375\" y2=\"184.9375\"/></a><!--MD5=[2156ba9850f5573cc1fc38a6a4b2f02b]\n",
       "class E7--><a href=\"psysml:62009ff7-c341-4e72-a056-ce92de09505b\" target=\"_top\" title=\"psysml:62009ff7-c341-4e72-a056-ce92de09505b\" xlink:actuate=\"onRequest\" xlink:href=\"psysml:62009ff7-c341-4e72-a056-ce92de09505b\" xlink:show=\"new\" xlink:title=\"psysml:62009ff7-c341-4e72-a056-ce92de09505b\" xlink:type=\"simple\"><rect fill=\"#FFFFFF\" height=\"45.9375\" id=\"E7\" rx=\"10\" ry=\"10\" style=\"stroke: #383838; stroke-width: 1.5;\" width=\"42\" x=\"310\" y=\"253\"/><text fill=\"#000000\" font-family=\"sans-serif\" font-size=\"12\" font-style=\"italic\" lengthAdjust=\"spacingAndGlyphs\" textLength=\"40\" x=\"311\" y=\"269.1387\">«port»</text><text fill=\"#000000\" font-family=\"sans-serif\" font-size=\"12\" lengthAdjust=\"spacingAndGlyphs\" textLength=\"32\" x=\"313\" y=\"283.1074\">p1: P</text><line style=\"stroke: #383838; stroke-width: 1.5;\" x1=\"311\" x2=\"351\" y1=\"290.9375\" y2=\"290.9375\"/></a><!--MD5=[b9389687b975829384b498ac4b7476b2]\n",
       "class E8--><a href=\"psysml:50db7d15-a467-4fc6-8fb9-d943e9708b48\" target=\"_top\" title=\"psysml:50db7d15-a467-4fc6-8fb9-d943e9708b48\" xlink:actuate=\"onRequest\" xlink:href=\"psysml:50db7d15-a467-4fc6-8fb9-d943e9708b48\" xlink:show=\"new\" xlink:title=\"psysml:50db7d15-a467-4fc6-8fb9-d943e9708b48\" xlink:type=\"simple\"><rect fill=\"#FFFFFF\" height=\"45.9375\" id=\"E8\" rx=\"10\" ry=\"10\" style=\"stroke: #383838; stroke-width: 1.5;\" width=\"52\" x=\"387\" y=\"253\"/><text fill=\"#000000\" font-family=\"sans-serif\" font-size=\"12\" font-style=\"italic\" lengthAdjust=\"spacingAndGlyphs\" textLength=\"40\" x=\"393\" y=\"269.1387\">«port»</text><text fill=\"#000000\" font-family=\"sans-serif\" font-size=\"12\" lengthAdjust=\"spacingAndGlyphs\" textLength=\"42\" x=\"390\" y=\"283.1074\">p2: ~P</text><line style=\"stroke: #383838; stroke-width: 1.5;\" x1=\"388\" x2=\"438\" y1=\"290.9375\" y2=\"290.9375\"/></a><!--MD5=[fd4143e9d270a159db93a4ea2a975926]\n",
       "class E9--><a href=\"psysml:909b1fdd-cad7-4fe7-8f0f-a5ae3fa3dd03\" target=\"_top\" title=\"psysml:909b1fdd-cad7-4fe7-8f0f-a5ae3fa3dd03\" xlink:actuate=\"onRequest\" xlink:href=\"psysml:909b1fdd-cad7-4fe7-8f0f-a5ae3fa3dd03\" xlink:show=\"new\" xlink:title=\"psysml:909b1fdd-cad7-4fe7-8f0f-a5ae3fa3dd03\" xlink:type=\"simple\"><rect fill=\"#FFFFFF\" height=\"45.9375\" id=\"E9\" style=\"stroke: #383838; stroke-width: 1.5;\" width=\"100\" x=\"144\" y=\"147\"/><text fill=\"#000000\" font-family=\"sans-serif\" font-size=\"12\" font-style=\"italic\" lengthAdjust=\"spacingAndGlyphs\" textLength=\"98\" x=\"145\" y=\"163.1387\">«interface  def»</text><text fill=\"#000000\" font-family=\"sans-serif\" font-size=\"12\" lengthAdjust=\"spacingAndGlyphs\" textLength=\"3\" x=\"192.5\" y=\"177.1074\">I</text><line style=\"stroke: #383838; stroke-width: 1.5;\" x1=\"145\" x2=\"243\" y1=\"184.9375\" y2=\"184.9375\"/></a><!--MD5=[96f4274e9e20536e775497830990834d]\n",
       "class E10--><a href=\"psysml:4b05cf72-e027-47da-9c90-b867da4c93e0\" target=\"_top\" title=\"psysml:4b05cf72-e027-47da-9c90-b867da4c93e0\" xlink:actuate=\"onRequest\" xlink:href=\"psysml:4b05cf72-e027-47da-9c90-b867da4c93e0\" xlink:show=\"new\" xlink:title=\"psysml:4b05cf72-e027-47da-9c90-b867da4c93e0\" xlink:type=\"simple\"><rect fill=\"#FFFFFF\" height=\"45.9375\" id=\"E10\" rx=\"10\" ry=\"10\" style=\"stroke: #383838; stroke-width: 1.5;\" width=\"42\" x=\"146\" y=\"253\"/><text fill=\"#000000\" font-family=\"sans-serif\" font-size=\"12\" font-style=\"italic\" lengthAdjust=\"spacingAndGlyphs\" textLength=\"40\" x=\"147\" y=\"269.1387\">«port»</text><text fill=\"#000000\" font-family=\"sans-serif\" font-size=\"12\" lengthAdjust=\"spacingAndGlyphs\" textLength=\"32\" x=\"149\" y=\"283.1074\">p1: P</text><line style=\"stroke: #383838; stroke-width: 1.5;\" x1=\"147\" x2=\"187\" y1=\"290.9375\" y2=\"290.9375\"/></a><!--MD5=[1dd1bfd58a279cf63c5f349dbc8fc6a1]\n",
       "class E11--><a href=\"psysml:0c24ab80-75a0-44e9-976a-962e4e9af685\" target=\"_top\" title=\"psysml:0c24ab80-75a0-44e9-976a-962e4e9af685\" xlink:actuate=\"onRequest\" xlink:href=\"psysml:0c24ab80-75a0-44e9-976a-962e4e9af685\" xlink:show=\"new\" xlink:title=\"psysml:0c24ab80-75a0-44e9-976a-962e4e9af685\" xlink:type=\"simple\"><rect fill=\"#FFFFFF\" height=\"45.9375\" id=\"E11\" rx=\"10\" ry=\"10\" style=\"stroke: #383838; stroke-width: 1.5;\" width=\"52\" x=\"223\" y=\"253\"/><text fill=\"#000000\" font-family=\"sans-serif\" font-size=\"12\" font-style=\"italic\" lengthAdjust=\"spacingAndGlyphs\" textLength=\"40\" x=\"229\" y=\"269.1387\">«port»</text><text fill=\"#000000\" font-family=\"sans-serif\" font-size=\"12\" lengthAdjust=\"spacingAndGlyphs\" textLength=\"42\" x=\"226\" y=\"283.1074\">p2: ~P</text><line style=\"stroke: #383838; stroke-width: 1.5;\" x1=\"224\" x2=\"274\" y1=\"290.9375\" y2=\"290.9375\"/></a><!--MD5=[49a0ec8f00dab7302a31f22d0f0fe584]\n",
       "class E12--><a href=\"psysml:c2ec72d4-85fe-4c8d-a549-b327df7a4c85\" target=\"_top\" title=\"psysml:c2ec72d4-85fe-4c8d-a549-b327df7a4c85\" xlink:actuate=\"onRequest\" xlink:href=\"psysml:c2ec72d4-85fe-4c8d-a549-b327df7a4c85\" xlink:show=\"new\" xlink:title=\"psysml:c2ec72d4-85fe-4c8d-a549-b327df7a4c85\" xlink:type=\"simple\"><rect fill=\"#FFFFFF\" height=\"45.9375\" id=\"E12\" style=\"stroke: #383838; stroke-width: 1.5;\" width=\"70\" x=\"45\" y=\"41\"/><text fill=\"#000000\" font-family=\"sans-serif\" font-size=\"12\" font-style=\"italic\" lengthAdjust=\"spacingAndGlyphs\" textLength=\"68\" x=\"46\" y=\"57.1387\">«part  def»</text><text fill=\"#000000\" font-family=\"sans-serif\" font-size=\"12\" lengthAdjust=\"spacingAndGlyphs\" textLength=\"16\" x=\"72\" y=\"71.1074\">B1</text><line style=\"stroke: #383838; stroke-width: 1.5;\" x1=\"46\" x2=\"114\" y1=\"78.9375\" y2=\"78.9375\"/></a><!--MD5=[ee3c913d1a06f366521f9ef512b67efe]\n",
       "class E13--><a href=\"psysml:bf56b714-b103-43c5-844a-64ae22bea297\" target=\"_top\" title=\"psysml:bf56b714-b103-43c5-844a-64ae22bea297\" xlink:actuate=\"onRequest\" xlink:href=\"psysml:bf56b714-b103-43c5-844a-64ae22bea297\" xlink:show=\"new\" xlink:title=\"psysml:bf56b714-b103-43c5-844a-64ae22bea297\" xlink:type=\"simple\"><rect fill=\"#FFFFFF\" height=\"45.9375\" id=\"E13\" rx=\"10\" ry=\"10\" style=\"stroke: #383838; stroke-width: 1.5;\" width=\"42\" x=\"59\" y=\"147\"/><text fill=\"#000000\" font-family=\"sans-serif\" font-size=\"12\" font-style=\"italic\" lengthAdjust=\"spacingAndGlyphs\" textLength=\"40\" x=\"60\" y=\"163.1387\">«part»</text><text fill=\"#000000\" font-family=\"sans-serif\" font-size=\"12\" lengthAdjust=\"spacingAndGlyphs\" textLength=\"8\" x=\"74\" y=\"177.1074\">p</text><line style=\"stroke: #383838; stroke-width: 1.5;\" x1=\"60\" x2=\"100\" y1=\"184.9375\" y2=\"184.9375\"/></a><!--MD5=[bee11217b2f71d958a27249dc326068c]\n",
       "class E14--><a href=\"psysml:b5c2279c-6642-492b-a6cf-19efab06e689\" target=\"_top\" title=\"psysml:b5c2279c-6642-492b-a6cf-19efab06e689\" xlink:actuate=\"onRequest\" xlink:href=\"psysml:b5c2279c-6642-492b-a6cf-19efab06e689\" xlink:show=\"new\" xlink:title=\"psysml:b5c2279c-6642-492b-a6cf-19efab06e689\" xlink:type=\"simple\"><rect fill=\"#FFFFFF\" height=\"45.9375\" id=\"E14\" rx=\"10\" ry=\"10\" style=\"stroke: #383838; stroke-width: 1.5;\" width=\"42\" x=\"69\" y=\"253\"/><text fill=\"#000000\" font-family=\"sans-serif\" font-size=\"12\" font-style=\"italic\" lengthAdjust=\"spacingAndGlyphs\" textLength=\"40\" x=\"70\" y=\"269.1387\">«port»</text><text fill=\"#000000\" font-family=\"sans-serif\" font-size=\"12\" lengthAdjust=\"spacingAndGlyphs\" textLength=\"32\" x=\"72\" y=\"283.1074\">p1: P</text><line style=\"stroke: #383838; stroke-width: 1.5;\" x1=\"70\" x2=\"110\" y1=\"290.9375\" y2=\"290.9375\"/></a><!--MD5=[0c48fb7552dae8cbbef69381101a84c8]\n",
       "class E15--><a href=\"psysml:ed6b3600-9f65-4ffd-a058-1200daf10699\" target=\"_top\" title=\"psysml:ed6b3600-9f65-4ffd-a058-1200daf10699\" xlink:actuate=\"onRequest\" xlink:href=\"psysml:ed6b3600-9f65-4ffd-a058-1200daf10699\" xlink:show=\"new\" xlink:title=\"psysml:ed6b3600-9f65-4ffd-a058-1200daf10699\" xlink:type=\"simple\"><rect fill=\"#FFFFFF\" height=\"45.9375\" id=\"E15\" rx=\"10\" ry=\"10\" style=\"stroke: #383838; stroke-width: 1.5;\" width=\"52\" x=\"64\" y=\"359\"/><text fill=\"#000000\" font-family=\"sans-serif\" font-size=\"12\" font-style=\"italic\" lengthAdjust=\"spacingAndGlyphs\" textLength=\"40\" x=\"70\" y=\"375.1387\">«port»</text><text fill=\"#000000\" font-family=\"sans-serif\" font-size=\"12\" lengthAdjust=\"spacingAndGlyphs\" textLength=\"42\" x=\"67\" y=\"389.1074\">p2: ~P</text><line style=\"stroke: #383838; stroke-width: 1.5;\" x1=\"65\" x2=\"115\" y1=\"396.9375\" y2=\"396.9375\"/></a><!--MD5=[4672eba38e49728da53d11aeb285b987]\n",
       "reverse link E3 to E4--><a href=\"psysml:301fc48c-20ce-4bfe-ac1d-96f5db6094d0\" target=\"_top\" title=\"psysml:301fc48c-20ce-4bfe-ac1d-96f5db6094d0\" xlink:actuate=\"onRequest\" xlink:href=\"psysml:301fc48c-20ce-4bfe-ac1d-96f5db6094d0\" xlink:show=\"new\" xlink:title=\"psysml:301fc48c-20ce-4bfe-ac1d-96f5db6094d0\" xlink:type=\"simple\"><path d=\"M519.06,205.49 C513.64,221.15 507.39,239.19 502.62,252.98 \" fill=\"none\" id=\"E3&lt;-E4\" style=\"stroke: #383838; stroke-width: 1.0;\"/><polygon fill=\"#FFFFFF\" points=\"523.37,193.06,517.626,197.4196,519.4411,204.3986,525.1851,200.0389,523.37,193.06\" style=\"stroke: #383838; stroke-width: 1.0;\"/><text fill=\"#000000\" font-family=\"sans-serif\" font-size=\"13\" lengthAdjust=\"spacingAndGlyphs\" textLength=\"8\" x=\"495.5929\" y=\"241.8709\">1</text></a><!--MD5=[185131fc0dcab0a4505a2ebe144e961b]\n",
       "link E4 to E2--><a href=\"psysml:2658e44c-8270-4dd2-9600-daf649b69d41\" target=\"_top\" title=\"psysml:2658e44c-8270-4dd2-9600-daf649b69d41\" xlink:actuate=\"onRequest\" xlink:href=\"psysml:2658e44c-8270-4dd2-9600-daf649b69d41\" xlink:show=\"new\" xlink:title=\"psysml:2658e44c-8270-4dd2-9600-daf649b69d41\" xlink:type=\"simple\"><path d=\"M473.78,289.29 C465.07,294.33 457,299 457,299 C457,299 370.83,334.51 311.9,358.79 \" fill=\"none\" id=\"E4-&gt;E2\" style=\"stroke: #383838; stroke-width: 1.0;\"/><polygon fill=\"#FFFFFF\" points=\"293.12,366.53,308.013,352.8114,313.3535,365.7528,293.12,366.53\" style=\"stroke: #383838; stroke-width: 1.0;\"/><ellipse cx=\"314.0449\" cy=\"352.4858\" fill=\"#383838\" rx=\"2\" ry=\"2\" style=\"stroke: #383838; stroke-width: 1.0;\"/><ellipse cx=\"317.8596\" cy=\"361.7296\" fill=\"#383838\" rx=\"2\" ry=\"2\" style=\"stroke: #383838; stroke-width: 1.0;\"/></a><!--MD5=[191cde3d490a3f6d7bb551fe3ddca469]\n",
       "reverse link E3 to E5--><a href=\"psysml:223fd842-0df9-4bd0-ad12-80c4696f3c55\" target=\"_top\" title=\"psysml:223fd842-0df9-4bd0-ad12-80c4696f3c55\" xlink:actuate=\"onRequest\" xlink:href=\"psysml:223fd842-0df9-4bd0-ad12-80c4696f3c55\" xlink:show=\"new\" xlink:title=\"psysml:223fd842-0df9-4bd0-ad12-80c4696f3c55\" xlink:type=\"simple\"><path d=\"M546.05,205.03 C553.02,220.78 561.1,239.06 567.26,252.98 \" fill=\"none\" id=\"E3&lt;-E5\" style=\"stroke: #383838; stroke-width: 1.0;\"/><polygon fill=\"#FFFFFF\" points=\"540.76,193.06,539.5329,200.1659,545.6202,204.0317,546.8473,196.9258,540.76,193.06\" style=\"stroke: #383838; stroke-width: 1.0;\"/><text fill=\"#000000\" font-family=\"sans-serif\" font-size=\"13\" lengthAdjust=\"spacingAndGlyphs\" textLength=\"8\" x=\"555.5674\" y=\"241.8709\">1</text></a><!--MD5=[3f50a3473f1dfb74d3f76443e03635af]\n",
       "reverse link E6 to E7--><a href=\"psysml:21746d6a-6182-4390-ad27-ac5c9b62bfbf\" target=\"_top\" title=\"psysml:21746d6a-6182-4390-ad27-ac5c9b62bfbf\" xlink:actuate=\"onRequest\" xlink:href=\"psysml:21746d6a-6182-4390-ad27-ac5c9b62bfbf\" xlink:show=\"new\" xlink:title=\"psysml:21746d6a-6182-4390-ad27-ac5c9b62bfbf\" xlink:type=\"simple\"><path d=\"M336.93,206.44 C335.6,221.87 334.07,239.47 332.91,252.98 \" fill=\"none\" id=\"E6&lt;-E7\" style=\"stroke: #383838; stroke-width: 1.0;\"/><polygon fill=\"#FFFFFF\" points=\"338.09,193.06,333.5901,198.6948,337.0607,205.0158,341.5606,199.381,338.09,193.06\" style=\"stroke: #383838; stroke-width: 1.0;\"/><text fill=\"#000000\" font-family=\"sans-serif\" font-size=\"13\" lengthAdjust=\"spacingAndGlyphs\" textLength=\"8\" x=\"324.3483\" y=\"241.8709\">1</text></a><!--MD5=[583832df87f4419a098336a29a52fa00]\n",
       "link E7 to E2--><a href=\"psysml:ac292376-6896-4173-b580-fb46e7ca2b11\" target=\"_top\" title=\"psysml:ac292376-6896-4173-b580-fb46e7ca2b11\" xlink:actuate=\"onRequest\" xlink:href=\"psysml:ac292376-6896-4173-b580-fb46e7ca2b11\" xlink:show=\"new\" xlink:title=\"psysml:ac292376-6896-4173-b580-fb46e7ca2b11\" xlink:type=\"simple\"><path d=\"M315.52,299.06 C306.71,311.6 295.43,327.68 285.19,342.26 \" fill=\"none\" id=\"E7-&gt;E2\" style=\"stroke: #383838; stroke-width: 1.0;\"/><polygon fill=\"#FFFFFF\" points=\"273.46,358.98,278.6532,339.4088,290.1093,347.4561,273.46,358.98\" style=\"stroke: #383838; stroke-width: 1.0;\"/><ellipse cx=\"283.5662\" cy=\"335.8942\" fill=\"#383838\" rx=\"2\" ry=\"2\" style=\"stroke: #383838; stroke-width: 1.0;\"/><ellipse cx=\"291.7491\" cy=\"341.6422\" fill=\"#383838\" rx=\"2\" ry=\"2\" style=\"stroke: #383838; stroke-width: 1.0;\"/></a><!--MD5=[f4cf0736d43fd73c4ef68817c49d37d5]\n",
       "reverse link E6 to E8--><a href=\"psysml:0a911d69-2e8c-46c6-ac57-f08740e1c2a7\" target=\"_top\" title=\"psysml:0a911d69-2e8c-46c6-ac57-f08740e1c2a7\" xlink:actuate=\"onRequest\" xlink:href=\"psysml:0a911d69-2e8c-46c6-ac57-f08740e1c2a7\" xlink:show=\"new\" xlink:title=\"psysml:0a911d69-2e8c-46c6-ac57-f08740e1c2a7\" xlink:type=\"simple\"><path d=\"M363.23,204.09 C374.44,220.06 387.58,238.78 397.54,252.98 \" fill=\"none\" id=\"E6&lt;-E8\" style=\"stroke: #383838; stroke-width: 1.0;\"/><polygon fill=\"#FFFFFF\" points=\"355.48,193.06,355.6581,200.2689,362.381,202.8771,362.2029,195.6682,355.48,193.06\" style=\"stroke: #383838; stroke-width: 1.0;\"/><text fill=\"#000000\" font-family=\"sans-serif\" font-size=\"13\" lengthAdjust=\"spacingAndGlyphs\" textLength=\"8\" x=\"384.3101\" y=\"241.8709\">1</text></a><!--MD5=[23ac544a70576c3e717098101004234c]\n",
       "reverse link E9 to E10--><a href=\"psysml:7a6ef9a5-ee54-4bad-bee0-b6cd150b3ba6\" target=\"_top\" title=\"psysml:7a6ef9a5-ee54-4bad-bee0-b6cd150b3ba6\" xlink:actuate=\"onRequest\" xlink:href=\"psysml:7a6ef9a5-ee54-4bad-bee0-b6cd150b3ba6\" xlink:show=\"new\" xlink:title=\"psysml:7a6ef9a5-ee54-4bad-bee0-b6cd150b3ba6\" xlink:type=\"simple\"><path d=\"M184.92,205.96 C180.89,221.51 176.26,239.33 172.72,252.98 \" fill=\"none\" id=\"E9&lt;-E10\" style=\"stroke: #383838; stroke-width: 1.0;\"/><polygon fill=\"#FFFFFF\" points=\"188.27,193.06,182.8943,197.8665,185.2635,204.6773,190.6392,199.8708,188.27,193.06\" style=\"stroke: #383838; stroke-width: 1.0;\"/><text fill=\"#000000\" font-family=\"sans-serif\" font-size=\"13\" lengthAdjust=\"spacingAndGlyphs\" textLength=\"8\" x=\"165.1823\" y=\"241.8709\">1</text></a><!--MD5=[0f36bececdf0dff6e600d6f64214b0f1]\n",
       "link E10 to E2--><a href=\"psysml:1b1dbb40-b684-43d5-9e90-095d8f580599\" target=\"_top\" title=\"psysml:1b1dbb40-b684-43d5-9e90-095d8f580599\" xlink:actuate=\"onRequest\" xlink:href=\"psysml:1b1dbb40-b684-43d5-9e90-095d8f580599\" xlink:show=\"new\" xlink:title=\"psysml:1b1dbb40-b684-43d5-9e90-095d8f580599\" xlink:type=\"simple\"><path d=\"M186.3,299.06 C197.64,312.02 212.28,328.74 225.36,343.7 \" fill=\"none\" id=\"E10-&gt;E2\" style=\"stroke: #383838; stroke-width: 1.0;\"/><polygon fill=\"#FFFFFF\" points=\"238.73,358.98,220.9517,349.2882,231.489,340.0705,238.73,358.98\" style=\"stroke: #383838; stroke-width: 1.0;\"/><ellipse cx=\"218.7041\" cy=\"343.6812\" fill=\"#383838\" rx=\"2\" ry=\"2\" style=\"stroke: #383838; stroke-width: 1.0;\"/><ellipse cx=\"226.2308\" cy=\"337.0972\" fill=\"#383838\" rx=\"2\" ry=\"2\" style=\"stroke: #383838; stroke-width: 1.0;\"/></a><!--MD5=[1fc04a95fd77ad5ce46c1a3027516051]\n",
       "reverse link E9 to E11--><a href=\"psysml:26e0bda0-b5f1-463e-8de4-6289f85dc961\" target=\"_top\" title=\"psysml:26e0bda0-b5f1-463e-8de4-6289f85dc961\" xlink:actuate=\"onRequest\" xlink:href=\"psysml:26e0bda0-b5f1-463e-8de4-6289f85dc961\" xlink:show=\"new\" xlink:title=\"psysml:26e0bda0-b5f1-463e-8de4-6289f85dc961\" xlink:type=\"simple\"><path d=\"M211.75,204.56 C220.14,220.42 229.92,238.92 237.35,252.98 \" fill=\"none\" id=\"E9&lt;-E11\" style=\"stroke: #383838; stroke-width: 1.0;\"/><polygon fill=\"#FFFFFF\" points=\"205.66,193.06,204.9277,200.2338,211.268,203.669,212.0003,196.4952,205.66,193.06\" style=\"stroke: #383838; stroke-width: 1.0;\"/><text fill=\"#000000\" font-family=\"sans-serif\" font-size=\"13\" lengthAdjust=\"spacingAndGlyphs\" textLength=\"8\" x=\"225.1441\" y=\"241.8709\">1</text></a><!--MD5=[062ed86c389d1a88f61c6380d0491e17]\n",
       "reverse link E12 to E13--><a href=\"psysml:b5605e58-b315-4dd3-8e84-581a703b4e2b\" target=\"_top\" title=\"psysml:b5605e58-b315-4dd3-8e84-581a703b4e2b\" xlink:actuate=\"onRequest\" xlink:href=\"psysml:b5605e58-b315-4dd3-8e84-581a703b4e2b\" xlink:show=\"new\" xlink:title=\"psysml:b5605e58-b315-4dd3-8e84-581a703b4e2b\" xlink:type=\"simple\"><path d=\"M80,100.44 C80,115.87 80,133.47 80,146.98 \" fill=\"none\" id=\"E12&lt;-E13\" style=\"stroke: #383838; stroke-width: 1.0;\"/><polygon fill=\"#383838\" points=\"80,87.06,76,93.06,80,99.06,84,93.06,80,87.06\" style=\"stroke: #383838; stroke-width: 1.0;\"/><text fill=\"#000000\" font-family=\"sans-serif\" font-size=\"13\" lengthAdjust=\"spacingAndGlyphs\" textLength=\"8\" x=\"70.925\" y=\"135.8709\">1</text></a><!--MD5=[01db00f33b28669d6d9febea71002831]\n",
       "reverse link E13 to E14--><a href=\"psysml:db42b499-220f-4c1a-8731-eb36b8c82e1e\" target=\"_top\" title=\"psysml:db42b499-220f-4c1a-8731-eb36b8c82e1e\" xlink:actuate=\"onRequest\" xlink:href=\"psysml:db42b499-220f-4c1a-8731-eb36b8c82e1e\" xlink:show=\"new\" xlink:title=\"psysml:db42b499-220f-4c1a-8731-eb36b8c82e1e\" xlink:type=\"simple\"><path d=\"M83.41,206.44 C84.89,221.87 86.58,239.47 87.88,252.98 \" fill=\"none\" id=\"E13&lt;-E14\" style=\"stroke: #383838; stroke-width: 1.0;\"/><polygon fill=\"#FFFFFF\" points=\"82.12,193.06,78.7125,199.4152,83.2683,205.0049,86.6758,198.6497,82.12,193.06\" style=\"stroke: #383838; stroke-width: 1.0;\"/><text fill=\"#000000\" font-family=\"sans-serif\" font-size=\"13\" lengthAdjust=\"spacingAndGlyphs\" textLength=\"8\" x=\"78.2353\" y=\"241.8709\">1</text></a><!--MD5=[e5566ac99d7714697a7fbc17f6b550fe]\n",
       "link E14 to E2--><a href=\"psysml:7155c58b-23e7-41d9-a472-3863cff0084f\" target=\"_top\" title=\"psysml:7155c58b-23e7-41d9-a472-3863cff0084f\" xlink:actuate=\"onRequest\" xlink:href=\"psysml:7155c58b-23e7-41d9-a472-3863cff0084f\" xlink:show=\"new\" xlink:title=\"psysml:7155c58b-23e7-41d9-a472-3863cff0084f\" xlink:type=\"simple\"><path d=\"M111.28,290.17 C134.86,304.77 173.76,328.85 205.58,348.55 \" fill=\"none\" id=\"E14-&gt;E2\" style=\"stroke: #383838; stroke-width: 1.0;\"/><polygon fill=\"#FFFFFF\" points=\"222.86,359.25,203.0213,355.1971,210.3927,343.2949,222.86,359.25\" style=\"stroke: #383838; stroke-width: 1.0;\"/><ellipse cx=\"199.2284\" cy=\"350.4956\" fill=\"#383838\" rx=\"2\" ry=\"2\" style=\"stroke: #383838; stroke-width: 1.0;\"/><ellipse cx=\"204.4937\" cy=\"341.994\" fill=\"#383838\" rx=\"2\" ry=\"2\" style=\"stroke: #383838; stroke-width: 1.0;\"/></a><!--MD5=[e9a5e828c71fd2209a11a152f562d491]\n",
       "reverse link E13 to E15--><a href=\"psysml:2699a371-802b-44a3-9d88-da30e2130afc\" target=\"_top\" title=\"psysml:2699a371-802b-44a3-9d88-da30e2130afc\" xlink:actuate=\"onRequest\" xlink:href=\"psysml:2699a371-802b-44a3-9d88-da30e2130afc\" xlink:show=\"new\" xlink:title=\"psysml:2699a371-802b-44a3-9d88-da30e2130afc\" xlink:type=\"simple\"><path d=\"M68.14,205.73 C60.51,228.09 52,253 52,253 C52,253 52,299 52,299 C52,299 68.37,334.31 79.62,358.59 \" fill=\"none\" id=\"E13&lt;-E15\" style=\"stroke: #383838; stroke-width: 1.0;\"/><polygon fill=\"#FFFFFF\" points=\"72.35,193.41,66.6257,197.7955,68.4723,204.7662,74.1965,200.3807,72.35,193.41\" style=\"stroke: #383838; stroke-width: 1.0;\"/><text fill=\"#000000\" font-family=\"sans-serif\" font-size=\"13\" lengthAdjust=\"spacingAndGlyphs\" textLength=\"8\" x=\"67.9351\" y=\"347.7612\">1</text></a><!--MD5=[3afbdc645381407e1bc99677323a2513]\n",
       "link E14 to E15--><a href=\"psysml:1d4c99f1-723b-47e9-b0a9-a2cf4f06711c\" target=\"_top\" title=\"psysml:1d4c99f1-723b-47e9-b0a9-a2cf4f06711c\" xlink:actuate=\"onRequest\" xlink:href=\"psysml:1d4c99f1-723b-47e9-b0a9-a2cf4f06711c\" xlink:show=\"new\" xlink:title=\"psysml:1d4c99f1-723b-47e9-b0a9-a2cf4f06711c\" xlink:type=\"simple\"><path d=\"M79.35,299.06 C76.55,316.7 76.55,341.34 79.36,358.98 \" fill=\"none\" id=\"E14-E15\" style=\"stroke: #383838; stroke-width: 3.0;\"/></a><!--MD5=[3afbdc645381407e1bc99677323a2513]\n",
       "link E14 to E15--><a href=\"psysml:99ef5f64-108a-4414-ad16-a52f47db38b7\" target=\"_top\" title=\"psysml:99ef5f64-108a-4414-ad16-a52f47db38b7\" xlink:actuate=\"onRequest\" xlink:href=\"psysml:99ef5f64-108a-4414-ad16-a52f47db38b7\" xlink:show=\"new\" xlink:title=\"psysml:99ef5f64-108a-4414-ad16-a52f47db38b7\" xlink:type=\"simple\"><path d=\"M101.27,299.06 C104.24,316.7 104.24,341.34 101.27,358.98 \" fill=\"none\" id=\"E14-E15-1\" style=\"stroke: #383838; stroke-width: 3.0;\"/></a><!--MD5=[42f44c39f5e71124ec23f59f5d547449]\n",
       "@startuml\r\n",
       "skinparam linetype polyline\r\n",
       "skinparam monochrome true\r\n",
       "skinparam classbackgroundcolor white\r\n",
       "skinparam shadowing false\r\n",
       "skinparam wrapWidth 300\r\n",
       "hide circle\r\n",
       "\r\n",
       "package \"ConjugationTest\" as E1  [[psysml:62f2acf4-862e-4777-8380-6adbdab8aa3b ]]  {\r\n",
       "comp def \"P\" as E2  <<(T,blue) port  def>> [[psysml:8038ba5e-65f3-4a7c-a5d9-05577a1e913e ]] {\r\n",
       "}\r\n",
       "comp def \"B\" as E3  <<(T,blue) part  def>> [[psysml:eb00d253-98ff-4ea5-9d4b-40f483d849ec ]] {\r\n",
       "}\r\n",
       "comp usage \"p1: P \" as E4  <<(T,blue) port>> [[psysml:bd11b2df-eb92-4507-bbbb-c6493b57fcfa ]] {\r\n",
       "}\r\n",
       "comp usage \"p2: ~P \" as E5  <<(T,blue) port>> [[psysml:0cbe2724-4b46-4325-902f-a8a483156696 ]] {\r\n",
       "}\r\n",
       "comp def \"A\" as E6  <<(T,blue) connection  def>> [[psysml:c9adf55d-1d58-41e7-9c8f-305f1a380a4f ]] {\r\n",
       "}\r\n",
       "comp usage \"p1: P \" as E7  <<(T,blue) port>> [[psysml:62009ff7-c341-4e72-a056-ce92de09505b ]] {\r\n",
       "}\r\n",
       "comp usage \"p2: ~P \" as E8  <<(T,blue) port>> [[psysml:50db7d15-a467-4fc6-8fb9-d943e9708b48 ]] {\r\n",
       "}\r\n",
       "comp def \"I\" as E9  <<(T,blue) interface  def>> [[psysml:909b1fdd-cad7-4fe7-8f0f-a5ae3fa3dd03 ]] {\r\n",
       "}\r\n",
       "comp usage \"p1: P \" as E10  <<(T,blue) port>> [[psysml:4b05cf72-e027-47da-9c90-b867da4c93e0 ]] {\r\n",
       "}\r\n",
       "comp usage \"p2: ~P \" as E11  <<(T,blue) port>> [[psysml:0c24ab80-75a0-44e9-976a-962e4e9af685 ]] {\r\n",
       "}\r\n",
       "comp def \"B1\" as E12  <<(T,blue) part  def>> [[psysml:c2ec72d4-85fe-4c8d-a549-b327df7a4c85 ]] {\r\n",
       "}\r\n",
       "comp usage \"p \" as E13  <<(T,blue) part>> [[psysml:bf56b714-b103-43c5-844a-64ae22bea297 ]] {\r\n",
       "}\r\n",
       "comp usage \"p1: P \" as E14  <<(T,blue) port>> [[psysml:b5c2279c-6642-492b-a6cf-19efab06e689 ]] {\r\n",
       "}\r\n",
       "comp usage \"p2: ~P \" as E15  <<(T,blue) port>> [[psysml:ed6b3600-9f65-4ffd-a058-1200daf10699 ]] {\r\n",
       "}\r\n",
       "}\r\n",
       "E3 o- - \"1\"E4 [[psysml:301fc48c-20ce-4bfe-ac1d-96f5db6094d0 ]] \r\n",
       "E4 - -:|> E2 [[psysml:2658e44c-8270-4dd2-9600-daf649b69d41 ]] \r\n",
       "E3 o- - \"1\"E5 [[psysml:223fd842-0df9-4bd0-ad12-80c4696f3c55 ]] \r\n",
       "E6 o- - \"1\"E7 [[psysml:21746d6a-6182-4390-ad27-ac5c9b62bfbf ]] \r\n",
       "E7 - -:|> E2 [[psysml:ac292376-6896-4173-b580-fb46e7ca2b11 ]] \r\n",
       "E6 o- - \"1\"E8 [[psysml:0a911d69-2e8c-46c6-ac57-f08740e1c2a7 ]] \r\n",
       "E9 o- - \"1\"E10 [[psysml:7a6ef9a5-ee54-4bad-bee0-b6cd150b3ba6 ]] \r\n",
       "E10 - -:|> E2 [[psysml:1b1dbb40-b684-43d5-9e90-095d8f580599 ]] \r\n",
       "E9 o- - \"1\"E11 [[psysml:26e0bda0-b5f1-463e-8de4-6289f85dc961 ]] \r\n",
       "E12 *- - \"1\"E13 [[psysml:b5605e58-b315-4dd3-8e84-581a703b4e2b ]] \r\n",
       "E13 o- - \"1\"E14 [[psysml:db42b499-220f-4c1a-8731-eb36b8c82e1e ]] \r\n",
       "E14 - -:|> E2 [[psysml:7155c58b-23e7-41d9-a472-3863cff0084f ]] \r\n",
       "E13 o- - \"1\"E15 [[psysml:2699a371-802b-44a3-9d88-da30e2130afc ]] \r\n",
       "E14 -[thickness=3]- E15 [[psysml:1d4c99f1-723b-47e9-b0a9-a2cf4f06711c ]] \r\n",
       "E14 -[thickness=3]- E15 [[psysml:99ef5f64-108a-4414-ad16-a52f47db38b7 ]] \r\n",
       "@enduml\r\n",
       "\n",
       "PlantUML version 1.2020.13(Sat Jun 13 12:26:38 UTC 2020)\n",
       "(EPL source distribution)\n",
       "Java Runtime: OpenJDK Runtime Environment\n",
       "JVM: OpenJDK 64-Bit Server VM\n",
       "Default Encoding: UTF-8\n",
       "Language: en\n",
       "Country: null\n",
       "--></g></svg>"
      ]
     },
     "execution_count": 9,
     "metadata": {},
     "output_type": "execute_result"
    }
   ],
   "source": [
    "%viz --style=\"POLYLINE\" --view=\"Default\" \"ConjugationTest\""
   ]
  },
  {
   "cell_type": "code",
   "execution_count": 10,
   "id": "7912d9e1",
   "metadata": {
    "execution": {
     "iopub.execute_input": "2022-02-18T10:47:44.812192Z",
     "iopub.status.busy": "2022-02-18T10:47:44.811917Z",
     "iopub.status.idle": "2022-02-18T10:47:44.871779Z",
     "shell.execute_reply": "2022-02-18T10:47:44.871410Z"
    }
   },
   "outputs": [
    {
     "data": {
      "image/svg+xml": [
       "<?xml version=\"1.0\" encoding=\"UTF-8\" standalone=\"no\"?><svg xmlns=\"http://www.w3.org/2000/svg\" xmlns:xlink=\"http://www.w3.org/1999/xlink\" contentScriptType=\"application/ecmascript\" contentStyleType=\"text/css\" height=\"433px\" preserveAspectRatio=\"none\" style=\"width:641px;height:433px;\" version=\"1.1\" viewBox=\"0 0 641 433\" width=\"641px\" zoomAndPan=\"magnify\"><defs/><g><!--MD5=[fbc87193dbaf4d95561dea2c320d4a47]\n",
       "cluster E1--><a href=\"psysml:62f2acf4-862e-4777-8380-6adbdab8aa3b\" target=\"_top\" title=\"psysml:62f2acf4-862e-4777-8380-6adbdab8aa3b\" xlink:actuate=\"onRequest\" xlink:href=\"psysml:62f2acf4-862e-4777-8380-6adbdab8aa3b\" xlink:show=\"new\" xlink:title=\"psysml:62f2acf4-862e-4777-8380-6adbdab8aa3b\" xlink:type=\"simple\"><polygon fill=\"#FFFFFF\" points=\"16,6,136,6,143,28.2969,619,28.2969,619,421,16,421,16,6\" style=\"stroke: #000000; stroke-width: 1.5;\"/><line style=\"stroke: #000000; stroke-width: 1.5;\" x1=\"16\" x2=\"143\" y1=\"28.2969\" y2=\"28.2969\"/><text fill=\"#000000\" font-family=\"sans-serif\" font-size=\"14\" font-weight=\"bold\" lengthAdjust=\"spacingAndGlyphs\" textLength=\"114\" x=\"20\" y=\"20.9951\">ConjugationTest</text></a><!--MD5=[b4997ac47864f28c2f74865a473b2911]\n",
       "class E2--><a href=\"psysml:8038ba5e-65f3-4a7c-a5d9-05577a1e913e\" target=\"_top\" title=\"psysml:8038ba5e-65f3-4a7c-a5d9-05577a1e913e\" xlink:actuate=\"onRequest\" xlink:href=\"psysml:8038ba5e-65f3-4a7c-a5d9-05577a1e913e\" xlink:show=\"new\" xlink:title=\"psysml:8038ba5e-65f3-4a7c-a5d9-05577a1e913e\" xlink:type=\"simple\"><rect fill=\"#FFFFFF\" height=\"45.9375\" id=\"E2\" style=\"stroke: #383838; stroke-width: 1.5;\" width=\"70\" x=\"223\" y=\"359\"/><text fill=\"#000000\" font-family=\"sans-serif\" font-size=\"12\" font-style=\"italic\" lengthAdjust=\"spacingAndGlyphs\" textLength=\"68\" x=\"224\" y=\"375.1387\">«port  def»</text><text fill=\"#000000\" font-family=\"sans-serif\" font-size=\"12\" lengthAdjust=\"spacingAndGlyphs\" textLength=\"8\" x=\"254\" y=\"389.1074\">P</text><line style=\"stroke: #383838; stroke-width: 1.5;\" x1=\"224\" x2=\"292\" y1=\"396.9375\" y2=\"396.9375\"/></a><!--MD5=[09b614a08d8cba4a07c9adeb5e0fee81]\n",
       "class E3--><a href=\"psysml:eb00d253-98ff-4ea5-9d4b-40f483d849ec\" target=\"_top\" title=\"psysml:eb00d253-98ff-4ea5-9d4b-40f483d849ec\" xlink:actuate=\"onRequest\" xlink:href=\"psysml:eb00d253-98ff-4ea5-9d4b-40f483d849ec\" xlink:show=\"new\" xlink:title=\"psysml:eb00d253-98ff-4ea5-9d4b-40f483d849ec\" xlink:type=\"simple\"><rect fill=\"#FFFFFF\" height=\"45.9375\" id=\"E3\" style=\"stroke: #383838; stroke-width: 1.5;\" width=\"70\" x=\"496\" y=\"147\"/><text fill=\"#000000\" font-family=\"sans-serif\" font-size=\"12\" font-style=\"italic\" lengthAdjust=\"spacingAndGlyphs\" textLength=\"68\" x=\"497\" y=\"163.1387\">«part  def»</text><text fill=\"#000000\" font-family=\"sans-serif\" font-size=\"12\" lengthAdjust=\"spacingAndGlyphs\" textLength=\"8\" x=\"527\" y=\"177.1074\">B</text><line style=\"stroke: #383838; stroke-width: 1.5;\" x1=\"497\" x2=\"565\" y1=\"184.9375\" y2=\"184.9375\"/></a><!--MD5=[ebbe1d658d1005bcc118a6aa81145e00]\n",
       "class E4--><a href=\"psysml:bd11b2df-eb92-4507-bbbb-c6493b57fcfa\" target=\"_top\" title=\"psysml:bd11b2df-eb92-4507-bbbb-c6493b57fcfa\" xlink:actuate=\"onRequest\" xlink:href=\"psysml:bd11b2df-eb92-4507-bbbb-c6493b57fcfa\" xlink:show=\"new\" xlink:title=\"psysml:bd11b2df-eb92-4507-bbbb-c6493b57fcfa\" xlink:type=\"simple\"><rect fill=\"#FFFFFF\" height=\"45.9375\" id=\"E4\" rx=\"10\" ry=\"10\" style=\"stroke: #383838; stroke-width: 1.5;\" width=\"42\" x=\"474\" y=\"253\"/><text fill=\"#000000\" font-family=\"sans-serif\" font-size=\"12\" font-style=\"italic\" lengthAdjust=\"spacingAndGlyphs\" textLength=\"40\" x=\"475\" y=\"269.1387\">«port»</text><text fill=\"#000000\" font-family=\"sans-serif\" font-size=\"12\" lengthAdjust=\"spacingAndGlyphs\" textLength=\"32\" x=\"477\" y=\"283.1074\">p1: P</text><line style=\"stroke: #383838; stroke-width: 1.5;\" x1=\"475\" x2=\"515\" y1=\"290.9375\" y2=\"290.9375\"/></a><!--MD5=[270fce915f116d4de14055a7c1d9a0f3]\n",
       "class E5--><a href=\"psysml:0cbe2724-4b46-4325-902f-a8a483156696\" target=\"_top\" title=\"psysml:0cbe2724-4b46-4325-902f-a8a483156696\" xlink:actuate=\"onRequest\" xlink:href=\"psysml:0cbe2724-4b46-4325-902f-a8a483156696\" xlink:show=\"new\" xlink:title=\"psysml:0cbe2724-4b46-4325-902f-a8a483156696\" xlink:type=\"simple\"><rect fill=\"#FFFFFF\" height=\"45.9375\" id=\"E5\" rx=\"10\" ry=\"10\" style=\"stroke: #383838; stroke-width: 1.5;\" width=\"52\" x=\"551\" y=\"253\"/><text fill=\"#000000\" font-family=\"sans-serif\" font-size=\"12\" font-style=\"italic\" lengthAdjust=\"spacingAndGlyphs\" textLength=\"40\" x=\"557\" y=\"269.1387\">«port»</text><text fill=\"#000000\" font-family=\"sans-serif\" font-size=\"12\" lengthAdjust=\"spacingAndGlyphs\" textLength=\"42\" x=\"554\" y=\"283.1074\">p2: ~P</text><line style=\"stroke: #383838; stroke-width: 1.5;\" x1=\"552\" x2=\"602\" y1=\"290.9375\" y2=\"290.9375\"/></a><!--MD5=[60a26617385b1d2d0262a64233df1f8d]\n",
       "class E6--><a href=\"psysml:c9adf55d-1d58-41e7-9c8f-305f1a380a4f\" target=\"_top\" title=\"psysml:c9adf55d-1d58-41e7-9c8f-305f1a380a4f\" xlink:actuate=\"onRequest\" xlink:href=\"psysml:c9adf55d-1d58-41e7-9c8f-305f1a380a4f\" xlink:show=\"new\" xlink:title=\"psysml:c9adf55d-1d58-41e7-9c8f-305f1a380a4f\" xlink:type=\"simple\"><rect fill=\"#FFFFFF\" height=\"45.9375\" id=\"E6\" style=\"stroke: #383838; stroke-width: 1.5;\" width=\"114\" x=\"283\" y=\"147\"/><text fill=\"#000000\" font-family=\"sans-serif\" font-size=\"12\" font-style=\"italic\" lengthAdjust=\"spacingAndGlyphs\" textLength=\"112\" x=\"284\" y=\"163.1387\">«connection  def»</text><text fill=\"#000000\" font-family=\"sans-serif\" font-size=\"12\" lengthAdjust=\"spacingAndGlyphs\" textLength=\"8\" x=\"336\" y=\"177.1074\">A</text><line style=\"stroke: #383838; stroke-width: 1.5;\" x1=\"284\" x2=\"396\" y1=\"184.9375\" y2=\"184.9375\"/></a><!--MD5=[2156ba9850f5573cc1fc38a6a4b2f02b]\n",
       "class E7--><a href=\"psysml:62009ff7-c341-4e72-a056-ce92de09505b\" target=\"_top\" title=\"psysml:62009ff7-c341-4e72-a056-ce92de09505b\" xlink:actuate=\"onRequest\" xlink:href=\"psysml:62009ff7-c341-4e72-a056-ce92de09505b\" xlink:show=\"new\" xlink:title=\"psysml:62009ff7-c341-4e72-a056-ce92de09505b\" xlink:type=\"simple\"><rect fill=\"#FFFFFF\" height=\"45.9375\" id=\"E7\" rx=\"10\" ry=\"10\" style=\"stroke: #383838; stroke-width: 1.5;\" width=\"42\" x=\"310\" y=\"253\"/><text fill=\"#000000\" font-family=\"sans-serif\" font-size=\"12\" font-style=\"italic\" lengthAdjust=\"spacingAndGlyphs\" textLength=\"40\" x=\"311\" y=\"269.1387\">«port»</text><text fill=\"#000000\" font-family=\"sans-serif\" font-size=\"12\" lengthAdjust=\"spacingAndGlyphs\" textLength=\"32\" x=\"313\" y=\"283.1074\">p1: P</text><line style=\"stroke: #383838; stroke-width: 1.5;\" x1=\"311\" x2=\"351\" y1=\"290.9375\" y2=\"290.9375\"/></a><!--MD5=[b9389687b975829384b498ac4b7476b2]\n",
       "class E8--><a href=\"psysml:50db7d15-a467-4fc6-8fb9-d943e9708b48\" target=\"_top\" title=\"psysml:50db7d15-a467-4fc6-8fb9-d943e9708b48\" xlink:actuate=\"onRequest\" xlink:href=\"psysml:50db7d15-a467-4fc6-8fb9-d943e9708b48\" xlink:show=\"new\" xlink:title=\"psysml:50db7d15-a467-4fc6-8fb9-d943e9708b48\" xlink:type=\"simple\"><rect fill=\"#FFFFFF\" height=\"45.9375\" id=\"E8\" rx=\"10\" ry=\"10\" style=\"stroke: #383838; stroke-width: 1.5;\" width=\"52\" x=\"387\" y=\"253\"/><text fill=\"#000000\" font-family=\"sans-serif\" font-size=\"12\" font-style=\"italic\" lengthAdjust=\"spacingAndGlyphs\" textLength=\"40\" x=\"393\" y=\"269.1387\">«port»</text><text fill=\"#000000\" font-family=\"sans-serif\" font-size=\"12\" lengthAdjust=\"spacingAndGlyphs\" textLength=\"42\" x=\"390\" y=\"283.1074\">p2: ~P</text><line style=\"stroke: #383838; stroke-width: 1.5;\" x1=\"388\" x2=\"438\" y1=\"290.9375\" y2=\"290.9375\"/></a><!--MD5=[fd4143e9d270a159db93a4ea2a975926]\n",
       "class E9--><a href=\"psysml:909b1fdd-cad7-4fe7-8f0f-a5ae3fa3dd03\" target=\"_top\" title=\"psysml:909b1fdd-cad7-4fe7-8f0f-a5ae3fa3dd03\" xlink:actuate=\"onRequest\" xlink:href=\"psysml:909b1fdd-cad7-4fe7-8f0f-a5ae3fa3dd03\" xlink:show=\"new\" xlink:title=\"psysml:909b1fdd-cad7-4fe7-8f0f-a5ae3fa3dd03\" xlink:type=\"simple\"><rect fill=\"#FFFFFF\" height=\"45.9375\" id=\"E9\" style=\"stroke: #383838; stroke-width: 1.5;\" width=\"100\" x=\"144\" y=\"147\"/><text fill=\"#000000\" font-family=\"sans-serif\" font-size=\"12\" font-style=\"italic\" lengthAdjust=\"spacingAndGlyphs\" textLength=\"98\" x=\"145\" y=\"163.1387\">«interface  def»</text><text fill=\"#000000\" font-family=\"sans-serif\" font-size=\"12\" lengthAdjust=\"spacingAndGlyphs\" textLength=\"3\" x=\"192.5\" y=\"177.1074\">I</text><line style=\"stroke: #383838; stroke-width: 1.5;\" x1=\"145\" x2=\"243\" y1=\"184.9375\" y2=\"184.9375\"/></a><!--MD5=[96f4274e9e20536e775497830990834d]\n",
       "class E10--><a href=\"psysml:4b05cf72-e027-47da-9c90-b867da4c93e0\" target=\"_top\" title=\"psysml:4b05cf72-e027-47da-9c90-b867da4c93e0\" xlink:actuate=\"onRequest\" xlink:href=\"psysml:4b05cf72-e027-47da-9c90-b867da4c93e0\" xlink:show=\"new\" xlink:title=\"psysml:4b05cf72-e027-47da-9c90-b867da4c93e0\" xlink:type=\"simple\"><rect fill=\"#FFFFFF\" height=\"45.9375\" id=\"E10\" rx=\"10\" ry=\"10\" style=\"stroke: #383838; stroke-width: 1.5;\" width=\"42\" x=\"146\" y=\"253\"/><text fill=\"#000000\" font-family=\"sans-serif\" font-size=\"12\" font-style=\"italic\" lengthAdjust=\"spacingAndGlyphs\" textLength=\"40\" x=\"147\" y=\"269.1387\">«port»</text><text fill=\"#000000\" font-family=\"sans-serif\" font-size=\"12\" lengthAdjust=\"spacingAndGlyphs\" textLength=\"32\" x=\"149\" y=\"283.1074\">p1: P</text><line style=\"stroke: #383838; stroke-width: 1.5;\" x1=\"147\" x2=\"187\" y1=\"290.9375\" y2=\"290.9375\"/></a><!--MD5=[1dd1bfd58a279cf63c5f349dbc8fc6a1]\n",
       "class E11--><a href=\"psysml:0c24ab80-75a0-44e9-976a-962e4e9af685\" target=\"_top\" title=\"psysml:0c24ab80-75a0-44e9-976a-962e4e9af685\" xlink:actuate=\"onRequest\" xlink:href=\"psysml:0c24ab80-75a0-44e9-976a-962e4e9af685\" xlink:show=\"new\" xlink:title=\"psysml:0c24ab80-75a0-44e9-976a-962e4e9af685\" xlink:type=\"simple\"><rect fill=\"#FFFFFF\" height=\"45.9375\" id=\"E11\" rx=\"10\" ry=\"10\" style=\"stroke: #383838; stroke-width: 1.5;\" width=\"52\" x=\"223\" y=\"253\"/><text fill=\"#000000\" font-family=\"sans-serif\" font-size=\"12\" font-style=\"italic\" lengthAdjust=\"spacingAndGlyphs\" textLength=\"40\" x=\"229\" y=\"269.1387\">«port»</text><text fill=\"#000000\" font-family=\"sans-serif\" font-size=\"12\" lengthAdjust=\"spacingAndGlyphs\" textLength=\"42\" x=\"226\" y=\"283.1074\">p2: ~P</text><line style=\"stroke: #383838; stroke-width: 1.5;\" x1=\"224\" x2=\"274\" y1=\"290.9375\" y2=\"290.9375\"/></a><!--MD5=[49a0ec8f00dab7302a31f22d0f0fe584]\n",
       "class E12--><a href=\"psysml:c2ec72d4-85fe-4c8d-a549-b327df7a4c85\" target=\"_top\" title=\"psysml:c2ec72d4-85fe-4c8d-a549-b327df7a4c85\" xlink:actuate=\"onRequest\" xlink:href=\"psysml:c2ec72d4-85fe-4c8d-a549-b327df7a4c85\" xlink:show=\"new\" xlink:title=\"psysml:c2ec72d4-85fe-4c8d-a549-b327df7a4c85\" xlink:type=\"simple\"><rect fill=\"#FFFFFF\" height=\"45.9375\" id=\"E12\" style=\"stroke: #383838; stroke-width: 1.5;\" width=\"70\" x=\"45\" y=\"41\"/><text fill=\"#000000\" font-family=\"sans-serif\" font-size=\"12\" font-style=\"italic\" lengthAdjust=\"spacingAndGlyphs\" textLength=\"68\" x=\"46\" y=\"57.1387\">«part  def»</text><text fill=\"#000000\" font-family=\"sans-serif\" font-size=\"12\" lengthAdjust=\"spacingAndGlyphs\" textLength=\"16\" x=\"72\" y=\"71.1074\">B1</text><line style=\"stroke: #383838; stroke-width: 1.5;\" x1=\"46\" x2=\"114\" y1=\"78.9375\" y2=\"78.9375\"/></a><!--MD5=[ee3c913d1a06f366521f9ef512b67efe]\n",
       "class E13--><a href=\"psysml:bf56b714-b103-43c5-844a-64ae22bea297\" target=\"_top\" title=\"psysml:bf56b714-b103-43c5-844a-64ae22bea297\" xlink:actuate=\"onRequest\" xlink:href=\"psysml:bf56b714-b103-43c5-844a-64ae22bea297\" xlink:show=\"new\" xlink:title=\"psysml:bf56b714-b103-43c5-844a-64ae22bea297\" xlink:type=\"simple\"><rect fill=\"#FFFFFF\" height=\"45.9375\" id=\"E13\" rx=\"10\" ry=\"10\" style=\"stroke: #383838; stroke-width: 1.5;\" width=\"42\" x=\"59\" y=\"147\"/><text fill=\"#000000\" font-family=\"sans-serif\" font-size=\"12\" font-style=\"italic\" lengthAdjust=\"spacingAndGlyphs\" textLength=\"40\" x=\"60\" y=\"163.1387\">«part»</text><text fill=\"#000000\" font-family=\"sans-serif\" font-size=\"12\" lengthAdjust=\"spacingAndGlyphs\" textLength=\"8\" x=\"74\" y=\"177.1074\">p</text><line style=\"stroke: #383838; stroke-width: 1.5;\" x1=\"60\" x2=\"100\" y1=\"184.9375\" y2=\"184.9375\"/></a><!--MD5=[bee11217b2f71d958a27249dc326068c]\n",
       "class E14--><a href=\"psysml:b5c2279c-6642-492b-a6cf-19efab06e689\" target=\"_top\" title=\"psysml:b5c2279c-6642-492b-a6cf-19efab06e689\" xlink:actuate=\"onRequest\" xlink:href=\"psysml:b5c2279c-6642-492b-a6cf-19efab06e689\" xlink:show=\"new\" xlink:title=\"psysml:b5c2279c-6642-492b-a6cf-19efab06e689\" xlink:type=\"simple\"><rect fill=\"#FFFFFF\" height=\"45.9375\" id=\"E14\" rx=\"10\" ry=\"10\" style=\"stroke: #383838; stroke-width: 1.5;\" width=\"42\" x=\"69\" y=\"253\"/><text fill=\"#000000\" font-family=\"sans-serif\" font-size=\"12\" font-style=\"italic\" lengthAdjust=\"spacingAndGlyphs\" textLength=\"40\" x=\"70\" y=\"269.1387\">«port»</text><text fill=\"#000000\" font-family=\"sans-serif\" font-size=\"12\" lengthAdjust=\"spacingAndGlyphs\" textLength=\"32\" x=\"72\" y=\"283.1074\">p1: P</text><line style=\"stroke: #383838; stroke-width: 1.5;\" x1=\"70\" x2=\"110\" y1=\"290.9375\" y2=\"290.9375\"/></a><!--MD5=[0c48fb7552dae8cbbef69381101a84c8]\n",
       "class E15--><a href=\"psysml:ed6b3600-9f65-4ffd-a058-1200daf10699\" target=\"_top\" title=\"psysml:ed6b3600-9f65-4ffd-a058-1200daf10699\" xlink:actuate=\"onRequest\" xlink:href=\"psysml:ed6b3600-9f65-4ffd-a058-1200daf10699\" xlink:show=\"new\" xlink:title=\"psysml:ed6b3600-9f65-4ffd-a058-1200daf10699\" xlink:type=\"simple\"><rect fill=\"#FFFFFF\" height=\"45.9375\" id=\"E15\" rx=\"10\" ry=\"10\" style=\"stroke: #383838; stroke-width: 1.5;\" width=\"52\" x=\"64\" y=\"359\"/><text fill=\"#000000\" font-family=\"sans-serif\" font-size=\"12\" font-style=\"italic\" lengthAdjust=\"spacingAndGlyphs\" textLength=\"40\" x=\"70\" y=\"375.1387\">«port»</text><text fill=\"#000000\" font-family=\"sans-serif\" font-size=\"12\" lengthAdjust=\"spacingAndGlyphs\" textLength=\"42\" x=\"67\" y=\"389.1074\">p2: ~P</text><line style=\"stroke: #383838; stroke-width: 1.5;\" x1=\"65\" x2=\"115\" y1=\"396.9375\" y2=\"396.9375\"/></a><!--MD5=[4672eba38e49728da53d11aeb285b987]\n",
       "reverse link E3 to E4--><a href=\"psysml:301fc48c-20ce-4bfe-ac1d-96f5db6094d0\" target=\"_top\" title=\"psysml:301fc48c-20ce-4bfe-ac1d-96f5db6094d0\" xlink:actuate=\"onRequest\" xlink:href=\"psysml:301fc48c-20ce-4bfe-ac1d-96f5db6094d0\" xlink:show=\"new\" xlink:title=\"psysml:301fc48c-20ce-4bfe-ac1d-96f5db6094d0\" xlink:type=\"simple\"><path d=\"M519.06,205.49 C513.64,221.15 507.39,239.19 502.62,252.98 \" fill=\"none\" id=\"E3&lt;-E4\" style=\"stroke: #383838; stroke-width: 1.0;\"/><polygon fill=\"#FFFFFF\" points=\"523.37,193.06,517.626,197.4196,519.4411,204.3986,525.1851,200.0389,523.37,193.06\" style=\"stroke: #383838; stroke-width: 1.0;\"/><text fill=\"#000000\" font-family=\"sans-serif\" font-size=\"13\" lengthAdjust=\"spacingAndGlyphs\" textLength=\"8\" x=\"495.5929\" y=\"241.8709\">1</text></a><!--MD5=[185131fc0dcab0a4505a2ebe144e961b]\n",
       "link E4 to E2--><a href=\"psysml:2658e44c-8270-4dd2-9600-daf649b69d41\" target=\"_top\" title=\"psysml:2658e44c-8270-4dd2-9600-daf649b69d41\" xlink:actuate=\"onRequest\" xlink:href=\"psysml:2658e44c-8270-4dd2-9600-daf649b69d41\" xlink:show=\"new\" xlink:title=\"psysml:2658e44c-8270-4dd2-9600-daf649b69d41\" xlink:type=\"simple\"><path d=\"M473.78,289.29 C465.07,294.33 457,299 457,299 C457,299 370.83,334.51 311.9,358.79 \" fill=\"none\" id=\"E4-&gt;E2\" style=\"stroke: #383838; stroke-width: 1.0;\"/><polygon fill=\"#FFFFFF\" points=\"293.12,366.53,308.013,352.8114,313.3535,365.7528,293.12,366.53\" style=\"stroke: #383838; stroke-width: 1.0;\"/><ellipse cx=\"314.0449\" cy=\"352.4858\" fill=\"#383838\" rx=\"2\" ry=\"2\" style=\"stroke: #383838; stroke-width: 1.0;\"/><ellipse cx=\"317.8596\" cy=\"361.7296\" fill=\"#383838\" rx=\"2\" ry=\"2\" style=\"stroke: #383838; stroke-width: 1.0;\"/></a><!--MD5=[191cde3d490a3f6d7bb551fe3ddca469]\n",
       "reverse link E3 to E5--><a href=\"psysml:223fd842-0df9-4bd0-ad12-80c4696f3c55\" target=\"_top\" title=\"psysml:223fd842-0df9-4bd0-ad12-80c4696f3c55\" xlink:actuate=\"onRequest\" xlink:href=\"psysml:223fd842-0df9-4bd0-ad12-80c4696f3c55\" xlink:show=\"new\" xlink:title=\"psysml:223fd842-0df9-4bd0-ad12-80c4696f3c55\" xlink:type=\"simple\"><path d=\"M546.05,205.03 C553.02,220.78 561.1,239.06 567.26,252.98 \" fill=\"none\" id=\"E3&lt;-E5\" style=\"stroke: #383838; stroke-width: 1.0;\"/><polygon fill=\"#FFFFFF\" points=\"540.76,193.06,539.5329,200.1659,545.6202,204.0317,546.8473,196.9258,540.76,193.06\" style=\"stroke: #383838; stroke-width: 1.0;\"/><text fill=\"#000000\" font-family=\"sans-serif\" font-size=\"13\" lengthAdjust=\"spacingAndGlyphs\" textLength=\"8\" x=\"555.5674\" y=\"241.8709\">1</text></a><!--MD5=[3f50a3473f1dfb74d3f76443e03635af]\n",
       "reverse link E6 to E7--><a href=\"psysml:21746d6a-6182-4390-ad27-ac5c9b62bfbf\" target=\"_top\" title=\"psysml:21746d6a-6182-4390-ad27-ac5c9b62bfbf\" xlink:actuate=\"onRequest\" xlink:href=\"psysml:21746d6a-6182-4390-ad27-ac5c9b62bfbf\" xlink:show=\"new\" xlink:title=\"psysml:21746d6a-6182-4390-ad27-ac5c9b62bfbf\" xlink:type=\"simple\"><path d=\"M336.93,206.44 C335.6,221.87 334.07,239.47 332.91,252.98 \" fill=\"none\" id=\"E6&lt;-E7\" style=\"stroke: #383838; stroke-width: 1.0;\"/><polygon fill=\"#FFFFFF\" points=\"338.09,193.06,333.5901,198.6948,337.0607,205.0158,341.5606,199.381,338.09,193.06\" style=\"stroke: #383838; stroke-width: 1.0;\"/><text fill=\"#000000\" font-family=\"sans-serif\" font-size=\"13\" lengthAdjust=\"spacingAndGlyphs\" textLength=\"8\" x=\"324.3483\" y=\"241.8709\">1</text></a><!--MD5=[583832df87f4419a098336a29a52fa00]\n",
       "link E7 to E2--><a href=\"psysml:ac292376-6896-4173-b580-fb46e7ca2b11\" target=\"_top\" title=\"psysml:ac292376-6896-4173-b580-fb46e7ca2b11\" xlink:actuate=\"onRequest\" xlink:href=\"psysml:ac292376-6896-4173-b580-fb46e7ca2b11\" xlink:show=\"new\" xlink:title=\"psysml:ac292376-6896-4173-b580-fb46e7ca2b11\" xlink:type=\"simple\"><path d=\"M315.52,299.06 C306.71,311.6 295.43,327.68 285.19,342.26 \" fill=\"none\" id=\"E7-&gt;E2\" style=\"stroke: #383838; stroke-width: 1.0;\"/><polygon fill=\"#FFFFFF\" points=\"273.46,358.98,278.6532,339.4088,290.1093,347.4561,273.46,358.98\" style=\"stroke: #383838; stroke-width: 1.0;\"/><ellipse cx=\"283.5662\" cy=\"335.8942\" fill=\"#383838\" rx=\"2\" ry=\"2\" style=\"stroke: #383838; stroke-width: 1.0;\"/><ellipse cx=\"291.7491\" cy=\"341.6422\" fill=\"#383838\" rx=\"2\" ry=\"2\" style=\"stroke: #383838; stroke-width: 1.0;\"/></a><!--MD5=[f4cf0736d43fd73c4ef68817c49d37d5]\n",
       "reverse link E6 to E8--><a href=\"psysml:0a911d69-2e8c-46c6-ac57-f08740e1c2a7\" target=\"_top\" title=\"psysml:0a911d69-2e8c-46c6-ac57-f08740e1c2a7\" xlink:actuate=\"onRequest\" xlink:href=\"psysml:0a911d69-2e8c-46c6-ac57-f08740e1c2a7\" xlink:show=\"new\" xlink:title=\"psysml:0a911d69-2e8c-46c6-ac57-f08740e1c2a7\" xlink:type=\"simple\"><path d=\"M363.23,204.09 C374.44,220.06 387.58,238.78 397.54,252.98 \" fill=\"none\" id=\"E6&lt;-E8\" style=\"stroke: #383838; stroke-width: 1.0;\"/><polygon fill=\"#FFFFFF\" points=\"355.48,193.06,355.6581,200.2689,362.381,202.8771,362.2029,195.6682,355.48,193.06\" style=\"stroke: #383838; stroke-width: 1.0;\"/><text fill=\"#000000\" font-family=\"sans-serif\" font-size=\"13\" lengthAdjust=\"spacingAndGlyphs\" textLength=\"8\" x=\"384.3101\" y=\"241.8709\">1</text></a><!--MD5=[23ac544a70576c3e717098101004234c]\n",
       "reverse link E9 to E10--><a href=\"psysml:7a6ef9a5-ee54-4bad-bee0-b6cd150b3ba6\" target=\"_top\" title=\"psysml:7a6ef9a5-ee54-4bad-bee0-b6cd150b3ba6\" xlink:actuate=\"onRequest\" xlink:href=\"psysml:7a6ef9a5-ee54-4bad-bee0-b6cd150b3ba6\" xlink:show=\"new\" xlink:title=\"psysml:7a6ef9a5-ee54-4bad-bee0-b6cd150b3ba6\" xlink:type=\"simple\"><path d=\"M184.92,205.96 C180.89,221.51 176.26,239.33 172.72,252.98 \" fill=\"none\" id=\"E9&lt;-E10\" style=\"stroke: #383838; stroke-width: 1.0;\"/><polygon fill=\"#FFFFFF\" points=\"188.27,193.06,182.8943,197.8665,185.2635,204.6773,190.6392,199.8708,188.27,193.06\" style=\"stroke: #383838; stroke-width: 1.0;\"/><text fill=\"#000000\" font-family=\"sans-serif\" font-size=\"13\" lengthAdjust=\"spacingAndGlyphs\" textLength=\"8\" x=\"165.1823\" y=\"241.8709\">1</text></a><!--MD5=[0f36bececdf0dff6e600d6f64214b0f1]\n",
       "link E10 to E2--><a href=\"psysml:1b1dbb40-b684-43d5-9e90-095d8f580599\" target=\"_top\" title=\"psysml:1b1dbb40-b684-43d5-9e90-095d8f580599\" xlink:actuate=\"onRequest\" xlink:href=\"psysml:1b1dbb40-b684-43d5-9e90-095d8f580599\" xlink:show=\"new\" xlink:title=\"psysml:1b1dbb40-b684-43d5-9e90-095d8f580599\" xlink:type=\"simple\"><path d=\"M186.3,299.06 C197.64,312.02 212.28,328.74 225.36,343.7 \" fill=\"none\" id=\"E10-&gt;E2\" style=\"stroke: #383838; stroke-width: 1.0;\"/><polygon fill=\"#FFFFFF\" points=\"238.73,358.98,220.9517,349.2882,231.489,340.0705,238.73,358.98\" style=\"stroke: #383838; stroke-width: 1.0;\"/><ellipse cx=\"218.7041\" cy=\"343.6812\" fill=\"#383838\" rx=\"2\" ry=\"2\" style=\"stroke: #383838; stroke-width: 1.0;\"/><ellipse cx=\"226.2308\" cy=\"337.0972\" fill=\"#383838\" rx=\"2\" ry=\"2\" style=\"stroke: #383838; stroke-width: 1.0;\"/></a><!--MD5=[1fc04a95fd77ad5ce46c1a3027516051]\n",
       "reverse link E9 to E11--><a href=\"psysml:26e0bda0-b5f1-463e-8de4-6289f85dc961\" target=\"_top\" title=\"psysml:26e0bda0-b5f1-463e-8de4-6289f85dc961\" xlink:actuate=\"onRequest\" xlink:href=\"psysml:26e0bda0-b5f1-463e-8de4-6289f85dc961\" xlink:show=\"new\" xlink:title=\"psysml:26e0bda0-b5f1-463e-8de4-6289f85dc961\" xlink:type=\"simple\"><path d=\"M211.75,204.56 C220.14,220.42 229.92,238.92 237.35,252.98 \" fill=\"none\" id=\"E9&lt;-E11\" style=\"stroke: #383838; stroke-width: 1.0;\"/><polygon fill=\"#FFFFFF\" points=\"205.66,193.06,204.9277,200.2338,211.268,203.669,212.0003,196.4952,205.66,193.06\" style=\"stroke: #383838; stroke-width: 1.0;\"/><text fill=\"#000000\" font-family=\"sans-serif\" font-size=\"13\" lengthAdjust=\"spacingAndGlyphs\" textLength=\"8\" x=\"225.1441\" y=\"241.8709\">1</text></a><!--MD5=[062ed86c389d1a88f61c6380d0491e17]\n",
       "reverse link E12 to E13--><a href=\"psysml:b5605e58-b315-4dd3-8e84-581a703b4e2b\" target=\"_top\" title=\"psysml:b5605e58-b315-4dd3-8e84-581a703b4e2b\" xlink:actuate=\"onRequest\" xlink:href=\"psysml:b5605e58-b315-4dd3-8e84-581a703b4e2b\" xlink:show=\"new\" xlink:title=\"psysml:b5605e58-b315-4dd3-8e84-581a703b4e2b\" xlink:type=\"simple\"><path d=\"M80,100.44 C80,115.87 80,133.47 80,146.98 \" fill=\"none\" id=\"E12&lt;-E13\" style=\"stroke: #383838; stroke-width: 1.0;\"/><polygon fill=\"#383838\" points=\"80,87.06,76,93.06,80,99.06,84,93.06,80,87.06\" style=\"stroke: #383838; stroke-width: 1.0;\"/><text fill=\"#000000\" font-family=\"sans-serif\" font-size=\"13\" lengthAdjust=\"spacingAndGlyphs\" textLength=\"8\" x=\"70.925\" y=\"135.8709\">1</text></a><!--MD5=[01db00f33b28669d6d9febea71002831]\n",
       "reverse link E13 to E14--><a href=\"psysml:db42b499-220f-4c1a-8731-eb36b8c82e1e\" target=\"_top\" title=\"psysml:db42b499-220f-4c1a-8731-eb36b8c82e1e\" xlink:actuate=\"onRequest\" xlink:href=\"psysml:db42b499-220f-4c1a-8731-eb36b8c82e1e\" xlink:show=\"new\" xlink:title=\"psysml:db42b499-220f-4c1a-8731-eb36b8c82e1e\" xlink:type=\"simple\"><path d=\"M83.41,206.44 C84.89,221.87 86.58,239.47 87.88,252.98 \" fill=\"none\" id=\"E13&lt;-E14\" style=\"stroke: #383838; stroke-width: 1.0;\"/><polygon fill=\"#FFFFFF\" points=\"82.12,193.06,78.7125,199.4152,83.2683,205.0049,86.6758,198.6497,82.12,193.06\" style=\"stroke: #383838; stroke-width: 1.0;\"/><text fill=\"#000000\" font-family=\"sans-serif\" font-size=\"13\" lengthAdjust=\"spacingAndGlyphs\" textLength=\"8\" x=\"78.2353\" y=\"241.8709\">1</text></a><!--MD5=[e5566ac99d7714697a7fbc17f6b550fe]\n",
       "link E14 to E2--><a href=\"psysml:7155c58b-23e7-41d9-a472-3863cff0084f\" target=\"_top\" title=\"psysml:7155c58b-23e7-41d9-a472-3863cff0084f\" xlink:actuate=\"onRequest\" xlink:href=\"psysml:7155c58b-23e7-41d9-a472-3863cff0084f\" xlink:show=\"new\" xlink:title=\"psysml:7155c58b-23e7-41d9-a472-3863cff0084f\" xlink:type=\"simple\"><path d=\"M111.28,290.17 C134.86,304.77 173.76,328.85 205.58,348.55 \" fill=\"none\" id=\"E14-&gt;E2\" style=\"stroke: #383838; stroke-width: 1.0;\"/><polygon fill=\"#FFFFFF\" points=\"222.86,359.25,203.0213,355.1971,210.3927,343.2949,222.86,359.25\" style=\"stroke: #383838; stroke-width: 1.0;\"/><ellipse cx=\"199.2284\" cy=\"350.4956\" fill=\"#383838\" rx=\"2\" ry=\"2\" style=\"stroke: #383838; stroke-width: 1.0;\"/><ellipse cx=\"204.4937\" cy=\"341.994\" fill=\"#383838\" rx=\"2\" ry=\"2\" style=\"stroke: #383838; stroke-width: 1.0;\"/></a><!--MD5=[e9a5e828c71fd2209a11a152f562d491]\n",
       "reverse link E13 to E15--><a href=\"psysml:2699a371-802b-44a3-9d88-da30e2130afc\" target=\"_top\" title=\"psysml:2699a371-802b-44a3-9d88-da30e2130afc\" xlink:actuate=\"onRequest\" xlink:href=\"psysml:2699a371-802b-44a3-9d88-da30e2130afc\" xlink:show=\"new\" xlink:title=\"psysml:2699a371-802b-44a3-9d88-da30e2130afc\" xlink:type=\"simple\"><path d=\"M68.14,205.73 C60.51,228.09 52,253 52,253 C52,253 52,299 52,299 C52,299 68.37,334.31 79.62,358.59 \" fill=\"none\" id=\"E13&lt;-E15\" style=\"stroke: #383838; stroke-width: 1.0;\"/><polygon fill=\"#FFFFFF\" points=\"72.35,193.41,66.6257,197.7955,68.4723,204.7662,74.1965,200.3807,72.35,193.41\" style=\"stroke: #383838; stroke-width: 1.0;\"/><text fill=\"#000000\" font-family=\"sans-serif\" font-size=\"13\" lengthAdjust=\"spacingAndGlyphs\" textLength=\"8\" x=\"67.9351\" y=\"347.7612\">1</text></a><!--MD5=[3afbdc645381407e1bc99677323a2513]\n",
       "link E14 to E15--><a href=\"psysml:1d4c99f1-723b-47e9-b0a9-a2cf4f06711c\" target=\"_top\" title=\"psysml:1d4c99f1-723b-47e9-b0a9-a2cf4f06711c\" xlink:actuate=\"onRequest\" xlink:href=\"psysml:1d4c99f1-723b-47e9-b0a9-a2cf4f06711c\" xlink:show=\"new\" xlink:title=\"psysml:1d4c99f1-723b-47e9-b0a9-a2cf4f06711c\" xlink:type=\"simple\"><path d=\"M79.35,299.06 C76.55,316.7 76.55,341.34 79.36,358.98 \" fill=\"none\" id=\"E14-E15\" style=\"stroke: #383838; stroke-width: 3.0;\"/></a><!--MD5=[3afbdc645381407e1bc99677323a2513]\n",
       "link E14 to E15--><a href=\"psysml:99ef5f64-108a-4414-ad16-a52f47db38b7\" target=\"_top\" title=\"psysml:99ef5f64-108a-4414-ad16-a52f47db38b7\" xlink:actuate=\"onRequest\" xlink:href=\"psysml:99ef5f64-108a-4414-ad16-a52f47db38b7\" xlink:show=\"new\" xlink:title=\"psysml:99ef5f64-108a-4414-ad16-a52f47db38b7\" xlink:type=\"simple\"><path d=\"M101.27,299.06 C104.24,316.7 104.24,341.34 101.27,358.98 \" fill=\"none\" id=\"E14-E15-1\" style=\"stroke: #383838; stroke-width: 3.0;\"/></a><!--MD5=[42f44c39f5e71124ec23f59f5d547449]\n",
       "@startuml\r\n",
       "skinparam linetype polyline\r\n",
       "skinparam monochrome true\r\n",
       "skinparam classbackgroundcolor white\r\n",
       "skinparam shadowing false\r\n",
       "skinparam wrapWidth 300\r\n",
       "hide circle\r\n",
       "\r\n",
       "package \"ConjugationTest\" as E1  [[psysml:62f2acf4-862e-4777-8380-6adbdab8aa3b ]]  {\r\n",
       "comp def \"P\" as E2  <<(T,blue) port  def>> [[psysml:8038ba5e-65f3-4a7c-a5d9-05577a1e913e ]] {\r\n",
       "}\r\n",
       "comp def \"B\" as E3  <<(T,blue) part  def>> [[psysml:eb00d253-98ff-4ea5-9d4b-40f483d849ec ]] {\r\n",
       "}\r\n",
       "comp usage \"p1: P \" as E4  <<(T,blue) port>> [[psysml:bd11b2df-eb92-4507-bbbb-c6493b57fcfa ]] {\r\n",
       "}\r\n",
       "comp usage \"p2: ~P \" as E5  <<(T,blue) port>> [[psysml:0cbe2724-4b46-4325-902f-a8a483156696 ]] {\r\n",
       "}\r\n",
       "comp def \"A\" as E6  <<(T,blue) connection  def>> [[psysml:c9adf55d-1d58-41e7-9c8f-305f1a380a4f ]] {\r\n",
       "}\r\n",
       "comp usage \"p1: P \" as E7  <<(T,blue) port>> [[psysml:62009ff7-c341-4e72-a056-ce92de09505b ]] {\r\n",
       "}\r\n",
       "comp usage \"p2: ~P \" as E8  <<(T,blue) port>> [[psysml:50db7d15-a467-4fc6-8fb9-d943e9708b48 ]] {\r\n",
       "}\r\n",
       "comp def \"I\" as E9  <<(T,blue) interface  def>> [[psysml:909b1fdd-cad7-4fe7-8f0f-a5ae3fa3dd03 ]] {\r\n",
       "}\r\n",
       "comp usage \"p1: P \" as E10  <<(T,blue) port>> [[psysml:4b05cf72-e027-47da-9c90-b867da4c93e0 ]] {\r\n",
       "}\r\n",
       "comp usage \"p2: ~P \" as E11  <<(T,blue) port>> [[psysml:0c24ab80-75a0-44e9-976a-962e4e9af685 ]] {\r\n",
       "}\r\n",
       "comp def \"B1\" as E12  <<(T,blue) part  def>> [[psysml:c2ec72d4-85fe-4c8d-a549-b327df7a4c85 ]] {\r\n",
       "}\r\n",
       "comp usage \"p \" as E13  <<(T,blue) part>> [[psysml:bf56b714-b103-43c5-844a-64ae22bea297 ]] {\r\n",
       "}\r\n",
       "comp usage \"p1: P \" as E14  <<(T,blue) port>> [[psysml:b5c2279c-6642-492b-a6cf-19efab06e689 ]] {\r\n",
       "}\r\n",
       "comp usage \"p2: ~P \" as E15  <<(T,blue) port>> [[psysml:ed6b3600-9f65-4ffd-a058-1200daf10699 ]] {\r\n",
       "}\r\n",
       "}\r\n",
       "E3 o- - \"1\"E4 [[psysml:301fc48c-20ce-4bfe-ac1d-96f5db6094d0 ]] \r\n",
       "E4 - -:|> E2 [[psysml:2658e44c-8270-4dd2-9600-daf649b69d41 ]] \r\n",
       "E3 o- - \"1\"E5 [[psysml:223fd842-0df9-4bd0-ad12-80c4696f3c55 ]] \r\n",
       "E6 o- - \"1\"E7 [[psysml:21746d6a-6182-4390-ad27-ac5c9b62bfbf ]] \r\n",
       "E7 - -:|> E2 [[psysml:ac292376-6896-4173-b580-fb46e7ca2b11 ]] \r\n",
       "E6 o- - \"1\"E8 [[psysml:0a911d69-2e8c-46c6-ac57-f08740e1c2a7 ]] \r\n",
       "E9 o- - \"1\"E10 [[psysml:7a6ef9a5-ee54-4bad-bee0-b6cd150b3ba6 ]] \r\n",
       "E10 - -:|> E2 [[psysml:1b1dbb40-b684-43d5-9e90-095d8f580599 ]] \r\n",
       "E9 o- - \"1\"E11 [[psysml:26e0bda0-b5f1-463e-8de4-6289f85dc961 ]] \r\n",
       "E12 *- - \"1\"E13 [[psysml:b5605e58-b315-4dd3-8e84-581a703b4e2b ]] \r\n",
       "E13 o- - \"1\"E14 [[psysml:db42b499-220f-4c1a-8731-eb36b8c82e1e ]] \r\n",
       "E14 - -:|> E2 [[psysml:7155c58b-23e7-41d9-a472-3863cff0084f ]] \r\n",
       "E13 o- - \"1\"E15 [[psysml:2699a371-802b-44a3-9d88-da30e2130afc ]] \r\n",
       "E14 -[thickness=3]- E15 [[psysml:1d4c99f1-723b-47e9-b0a9-a2cf4f06711c ]] \r\n",
       "E14 -[thickness=3]- E15 [[psysml:99ef5f64-108a-4414-ad16-a52f47db38b7 ]] \r\n",
       "@enduml\r\n",
       "\n",
       "PlantUML version 1.2020.13(Sat Jun 13 12:26:38 UTC 2020)\n",
       "(EPL source distribution)\n",
       "Java Runtime: OpenJDK Runtime Environment\n",
       "JVM: OpenJDK 64-Bit Server VM\n",
       "Default Encoding: UTF-8\n",
       "Language: en\n",
       "Country: null\n",
       "--></g></svg>"
      ]
     },
     "execution_count": 10,
     "metadata": {},
     "output_type": "execute_result"
    }
   ],
   "source": [
    "%viz --style=\"POLYLINE\" --view=\"Tree\" \"ConjugationTest\""
   ]
  },
  {
   "cell_type": "code",
   "execution_count": 11,
   "id": "92be3218",
   "metadata": {
    "execution": {
     "iopub.execute_input": "2022-02-18T10:47:44.921151Z",
     "iopub.status.busy": "2022-02-18T10:47:44.920739Z",
     "iopub.status.idle": "2022-02-18T10:47:44.925561Z",
     "shell.execute_reply": "2022-02-18T10:47:44.925172Z"
    }
   },
   "outputs": [
    {
     "data": {
      "image/svg+xml": [
       "<?xml version=\"1.0\" encoding=\"UTF-8\" standalone=\"no\"?><svg xmlns=\"http://www.w3.org/2000/svg\" xmlns:xlink=\"http://www.w3.org/1999/xlink\" contentScriptType=\"application/ecmascript\" contentStyleType=\"text/css\" height=\"12px\" preserveAspectRatio=\"none\" style=\"width:12px;height:12px;\" version=\"1.1\" viewBox=\"0 0 12 12\" width=\"12px\" zoomAndPan=\"magnify\"><defs/><g><!--MD5=[896ac0e7a515d8dd7765a661cb4ee08b]\n",
       "@startuml\r\n",
       "skinparam linetype polyline\r\n",
       "skinparam monochrome true\r\n",
       "skinparam classbackgroundcolor white\r\n",
       "skinparam shadowing false\r\n",
       "skinparam wrapWidth 300\r\n",
       "hide circle\r\n",
       "\r\n",
       "@enduml\r\n",
       "\n",
       "PlantUML version 1.2020.13(Sat Jun 13 12:26:38 UTC 2020)\n",
       "(EPL source distribution)\n",
       "Java Runtime: OpenJDK Runtime Environment\n",
       "JVM: OpenJDK 64-Bit Server VM\n",
       "Default Encoding: UTF-8\n",
       "Language: en\n",
       "Country: null\n",
       "--></g></svg>"
      ]
     },
     "execution_count": 11,
     "metadata": {},
     "output_type": "execute_result"
    }
   ],
   "source": [
    "%viz --style=\"POLYLINE\" --view=\"State\" \"ConjugationTest\""
   ]
  },
  {
   "cell_type": "code",
   "execution_count": 12,
   "id": "eca0d7b9",
   "metadata": {
    "execution": {
     "iopub.execute_input": "2022-02-18T10:47:44.975617Z",
     "iopub.status.busy": "2022-02-18T10:47:44.975204Z",
     "iopub.status.idle": "2022-02-18T10:47:45.031150Z",
     "shell.execute_reply": "2022-02-18T10:47:45.030653Z"
    }
   },
   "outputs": [
    {
     "data": {
      "image/svg+xml": [
       "<?xml version=\"1.0\" encoding=\"UTF-8\" standalone=\"no\"?><svg xmlns=\"http://www.w3.org/2000/svg\" xmlns:xlink=\"http://www.w3.org/1999/xlink\" contentScriptType=\"application/ecmascript\" contentStyleType=\"text/css\" height=\"246px\" preserveAspectRatio=\"none\" style=\"width:753px;height:246px;\" version=\"1.1\" viewBox=\"0 0 753 246\" width=\"753px\" zoomAndPan=\"magnify\"><defs/><g><!--MD5=[fbc87193dbaf4d95561dea2c320d4a47]\n",
       "cluster E1--><a href=\"psysml:62f2acf4-862e-4777-8380-6adbdab8aa3b\" target=\"_top\" title=\"psysml:62f2acf4-862e-4777-8380-6adbdab8aa3b\" xlink:actuate=\"onRequest\" xlink:href=\"psysml:62f2acf4-862e-4777-8380-6adbdab8aa3b\" xlink:show=\"new\" xlink:title=\"psysml:62f2acf4-862e-4777-8380-6adbdab8aa3b\" xlink:type=\"simple\"><polygon fill=\"#FFFFFF\" points=\"16,6,136,6,143,28.2969,731,28.2969,731,234.5,16,234.5,16,6\" style=\"stroke: #000000; stroke-width: 1.5;\"/><line style=\"stroke: #000000; stroke-width: 1.5;\" x1=\"16\" x2=\"143\" y1=\"28.2969\" y2=\"28.2969\"/><text fill=\"#000000\" font-family=\"sans-serif\" font-size=\"14\" font-weight=\"bold\" lengthAdjust=\"spacingAndGlyphs\" textLength=\"114\" x=\"20\" y=\"20.9951\">ConjugationTest</text></a><!--MD5=[d5e69f78d87373223dbae638b30a9c99]\n",
       "cluster E3--><a href=\"psysml:eb00d253-98ff-4ea5-9d4b-40f483d849ec\" target=\"_top\" title=\"psysml:eb00d253-98ff-4ea5-9d4b-40f483d849ec\" xlink:actuate=\"onRequest\" xlink:href=\"psysml:eb00d253-98ff-4ea5-9d4b-40f483d849ec\" xlink:show=\"new\" xlink:title=\"psysml:eb00d253-98ff-4ea5-9d4b-40f483d849ec\" xlink:type=\"simple\"><rect fill=\"#FFFFFF\" height=\"88.5\" id=\"E3\" style=\"stroke: #383838; stroke-width: 1.5;\" width=\"85\" x=\"588\" y=\"114\"/><rect fill=\"#F8F8F8\" height=\"37.9375\" style=\"stroke: #383838; stroke-width: 1.5;\" width=\"85\" x=\"588\" y=\"114\"/><text fill=\"#000000\" font-family=\"sans-serif\" font-size=\"12\" font-style=\"italic\" lengthAdjust=\"spacingAndGlyphs\" textLength=\"68\" x=\"596.5\" y=\"130.1387\">«part  def»</text><text fill=\"#000000\" font-family=\"sans-serif\" font-size=\"12\" lengthAdjust=\"spacingAndGlyphs\" textLength=\"8\" x=\"626.5\" y=\"144.1074\">B</text></a><!--MD5=[14e3b0961a2654348d326746436168a1]\n",
       "cluster E6--><a href=\"psysml:c9adf55d-1d58-41e7-9c8f-305f1a380a4f\" target=\"_top\" title=\"psysml:c9adf55d-1d58-41e7-9c8f-305f1a380a4f\" xlink:actuate=\"onRequest\" xlink:href=\"psysml:c9adf55d-1d58-41e7-9c8f-305f1a380a4f\" xlink:show=\"new\" xlink:title=\"psysml:c9adf55d-1d58-41e7-9c8f-305f1a380a4f\" xlink:type=\"simple\"><rect fill=\"#FFFFFF\" height=\"88.5\" id=\"E6\" style=\"stroke: #383838; stroke-width: 1.5;\" width=\"152\" x=\"431\" y=\"114\"/><rect fill=\"#F8F8F8\" height=\"37.9375\" style=\"stroke: #383838; stroke-width: 1.5;\" width=\"152\" x=\"431\" y=\"114\"/><text fill=\"#000000\" font-family=\"sans-serif\" font-size=\"12\" font-style=\"italic\" lengthAdjust=\"spacingAndGlyphs\" textLength=\"112\" x=\"451\" y=\"130.1387\">«connection  def»</text><text fill=\"#000000\" font-family=\"sans-serif\" font-size=\"12\" lengthAdjust=\"spacingAndGlyphs\" textLength=\"8\" x=\"503\" y=\"144.1074\">A</text></a><!--MD5=[7f149f147074ac12df2cb0a7728a5fb0]\n",
       "cluster E9--><a href=\"psysml:909b1fdd-cad7-4fe7-8f0f-a5ae3fa3dd03\" target=\"_top\" title=\"psysml:909b1fdd-cad7-4fe7-8f0f-a5ae3fa3dd03\" xlink:actuate=\"onRequest\" xlink:href=\"psysml:909b1fdd-cad7-4fe7-8f0f-a5ae3fa3dd03\" xlink:show=\"new\" xlink:title=\"psysml:909b1fdd-cad7-4fe7-8f0f-a5ae3fa3dd03\" xlink:type=\"simple\"><rect fill=\"#FFFFFF\" height=\"88.5\" id=\"E9\" style=\"stroke: #383838; stroke-width: 1.5;\" width=\"143\" x=\"258\" y=\"114\"/><rect fill=\"#F8F8F8\" height=\"37.9375\" style=\"stroke: #383838; stroke-width: 1.5;\" width=\"143\" x=\"258\" y=\"114\"/><text fill=\"#000000\" font-family=\"sans-serif\" font-size=\"12\" font-style=\"italic\" lengthAdjust=\"spacingAndGlyphs\" textLength=\"98\" x=\"280.5\" y=\"130.1387\">«interface  def»</text><text fill=\"#000000\" font-family=\"sans-serif\" font-size=\"12\" lengthAdjust=\"spacingAndGlyphs\" textLength=\"3\" x=\"328\" y=\"144.1074\">I</text></a><!--MD5=[47bea60c1a0ac6c1143df232041969c0]\n",
       "cluster E12--><a href=\"psysml:c2ec72d4-85fe-4c8d-a549-b327df7a4c85\" target=\"_top\" title=\"psysml:c2ec72d4-85fe-4c8d-a549-b327df7a4c85\" xlink:actuate=\"onRequest\" xlink:href=\"psysml:c2ec72d4-85fe-4c8d-a549-b327df7a4c85\" xlink:show=\"new\" xlink:title=\"psysml:c2ec72d4-85fe-4c8d-a549-b327df7a4c85\" xlink:type=\"simple\"><rect fill=\"#FFFFFF\" height=\"161.5\" id=\"E12\" style=\"stroke: #383838; stroke-width: 1.5;\" width=\"107\" x=\"122\" y=\"49\"/><rect fill=\"#F8F8F8\" height=\"37.9375\" style=\"stroke: #383838; stroke-width: 1.5;\" width=\"107\" x=\"122\" y=\"49\"/><text fill=\"#000000\" font-family=\"sans-serif\" font-size=\"12\" font-style=\"italic\" lengthAdjust=\"spacingAndGlyphs\" textLength=\"68\" x=\"141.5\" y=\"65.1387\">«part  def»</text><text fill=\"#000000\" font-family=\"sans-serif\" font-size=\"12\" lengthAdjust=\"spacingAndGlyphs\" textLength=\"16\" x=\"167.5\" y=\"79.1074\">B1</text></a><!--MD5=[03104f77b71e2d8d3500c651e6e31181]\n",
       "cluster E13--><a href=\"psysml:bf56b714-b103-43c5-844a-64ae22bea297\" target=\"_top\" title=\"psysml:bf56b714-b103-43c5-844a-64ae22bea297\" xlink:actuate=\"onRequest\" xlink:href=\"psysml:bf56b714-b103-43c5-844a-64ae22bea297\" xlink:show=\"new\" xlink:title=\"psysml:bf56b714-b103-43c5-844a-64ae22bea297\" xlink:type=\"simple\"><rect fill=\"#FFFFFF\" height=\"80.5\" id=\"E13\" rx=\"10\" ry=\"10\" style=\"stroke: #383838; stroke-width: 1.5;\" width=\"83\" x=\"134\" y=\"114\"/><rect fill=\"#F8F8F8\" height=\"23.9688\" rx=\"10\" ry=\"10\" style=\"stroke: #F8F8F8; stroke-width: 1.5;\" width=\"83\" x=\"134\" y=\"114\"/><rect fill=\"#F8F8F8\" height=\"10\" style=\"stroke: #F8F8F8; stroke-width: 1.5;\" width=\"83\" x=\"134\" y=\"127.9688\"/><rect fill=\"none\" height=\"80.5\" id=\"E13\" rx=\"10\" ry=\"10\" style=\"stroke: #383838; stroke-width: 1.5;\" width=\"83\" x=\"134\" y=\"114\"/><text fill=\"#000000\" font-family=\"sans-serif\" font-size=\"12\" lengthAdjust=\"spacingAndGlyphs\" textLength=\"8\" x=\"171.5\" y=\"130.1387\">p</text><line style=\"stroke: #383838; stroke-width: 1.0;\" x1=\"134\" x2=\"217\" y1=\"137.9688\" y2=\"137.9688\"/></a><g id=\"E1.E2\"><a href=\"psysml:8038ba5e-65f3-4a7c-a5d9-05577a1e913e\" target=\"_top\" title=\"psysml:8038ba5e-65f3-4a7c-a5d9-05577a1e913e\" xlink:actuate=\"onRequest\" xlink:href=\"psysml:8038ba5e-65f3-4a7c-a5d9-05577a1e913e\" xlink:show=\"new\" xlink:title=\"psysml:8038ba5e-65f3-4a7c-a5d9-05577a1e913e\" xlink:type=\"simple\"><rect fill=\"#FFFFFF\" height=\"42.9375\" id=\"E2\" style=\"stroke: #383838; stroke-width: 1.5;\" width=\"75\" x=\"31.5\" y=\"92.5\"/><rect fill=\"#F8F8F8\" height=\"37.9375\" style=\"stroke: #383838; stroke-width: 1.5;\" width=\"75\" x=\"31.5\" y=\"92.5\"/><text fill=\"#000000\" font-family=\"sans-serif\" font-size=\"12\" font-style=\"italic\" lengthAdjust=\"spacingAndGlyphs\" textLength=\"68\" x=\"35\" y=\"108.6387\">«port  def»</text><text fill=\"#000000\" font-family=\"sans-serif\" font-size=\"12\" lengthAdjust=\"spacingAndGlyphs\" textLength=\"8\" x=\"65\" y=\"122.6074\">P</text></a></g><text fill=\"#000000\" font-family=\"sans-serif\" font-size=\"14\" lengthAdjust=\"spacingAndGlyphs\" textLength=\"36\" x=\"586\" y=\"92.6982\">p1: P</text><rect fill=\"#383838\" height=\"12\" style=\"stroke: #F8F8F8; stroke-width: 1.5;\" width=\"12\" x=\"600\" y=\"108\"/><text fill=\"#000000\" font-family=\"sans-serif\" font-size=\"14\" lengthAdjust=\"spacingAndGlyphs\" textLength=\"48\" x=\"627\" y=\"92.6982\">p2: ~P</text><rect fill=\"#383838\" height=\"12\" style=\"stroke: #F8F8F8; stroke-width: 1.5;\" width=\"12\" x=\"647\" y=\"108\"/><text fill=\"#000000\" font-family=\"sans-serif\" font-size=\"14\" lengthAdjust=\"spacingAndGlyphs\" textLength=\"36\" x=\"429\" y=\"92.6982\">p1: P</text><rect fill=\"#383838\" height=\"12\" style=\"stroke: #F8F8F8; stroke-width: 1.5;\" width=\"12\" x=\"443\" y=\"108\"/><text fill=\"#000000\" font-family=\"sans-serif\" font-size=\"14\" lengthAdjust=\"spacingAndGlyphs\" textLength=\"48\" x=\"470\" y=\"92.6982\">p2: ~P</text><rect fill=\"#383838\" height=\"12\" style=\"stroke: #F8F8F8; stroke-width: 1.5;\" width=\"12\" x=\"490\" y=\"108\"/><text fill=\"#000000\" font-family=\"sans-serif\" font-size=\"14\" lengthAdjust=\"spacingAndGlyphs\" textLength=\"36\" x=\"256\" y=\"92.6982\">p1: P</text><rect fill=\"#383838\" height=\"12\" style=\"stroke: #F8F8F8; stroke-width: 1.5;\" width=\"12\" x=\"270\" y=\"108\"/><text fill=\"#000000\" font-family=\"sans-serif\" font-size=\"14\" lengthAdjust=\"spacingAndGlyphs\" textLength=\"48\" x=\"297\" y=\"92.6982\">p2: ~P</text><rect fill=\"#383838\" height=\"12\" style=\"stroke: #F8F8F8; stroke-width: 1.5;\" width=\"12\" x=\"317\" y=\"108\"/><text fill=\"#000000\" font-family=\"sans-serif\" font-size=\"14\" lengthAdjust=\"spacingAndGlyphs\" textLength=\"36\" x=\"132\" y=\"92.6982\">p1: P</text><rect fill=\"#383838\" height=\"12\" style=\"stroke: #F8F8F8; stroke-width: 1.5;\" width=\"12\" x=\"146\" y=\"108\"/><text fill=\"#000000\" font-family=\"sans-serif\" font-size=\"14\" lengthAdjust=\"spacingAndGlyphs\" textLength=\"48\" x=\"173\" y=\"92.6982\">p2: ~P</text><rect fill=\"#383838\" height=\"12\" style=\"stroke: #F8F8F8; stroke-width: 1.5;\" width=\"12\" x=\"193\" y=\"108\"/><!--MD5=[3afbdc645381407e1bc99677323a2513]\n",
       "link E14 to E15--><a href=\"psysml:1d4c99f1-723b-47e9-b0a9-a2cf4f06711c\" target=\"_top\" title=\"psysml:1d4c99f1-723b-47e9-b0a9-a2cf4f06711c\" xlink:actuate=\"onRequest\" xlink:href=\"psysml:1d4c99f1-723b-47e9-b0a9-a2cf4f06711c\" xlink:show=\"new\" xlink:title=\"psysml:1d4c99f1-723b-47e9-b0a9-a2cf4f06711c\" xlink:type=\"simple\"><path d=\"M158.01,114 C162.43,114 167.67,114 167.67,114 C167.67,114 183.33,114 183.33,114 C183.33,114 188.57,114 192.99,114 \" fill=\"none\" id=\"E14-E15\" style=\"stroke: #383838; stroke-width: 3.0;\"/></a><!--MD5=[3afbdc645381407e1bc99677323a2513]\n",
       "link E14 to E15--><a href=\"psysml:99ef5f64-108a-4414-ad16-a52f47db38b7\" target=\"_top\" title=\"psysml:99ef5f64-108a-4414-ad16-a52f47db38b7\" xlink:actuate=\"onRequest\" xlink:href=\"psysml:99ef5f64-108a-4414-ad16-a52f47db38b7\" xlink:show=\"new\" xlink:title=\"psysml:99ef5f64-108a-4414-ad16-a52f47db38b7\" xlink:type=\"simple\"><path d=\"M158.01,111.7 C162.43,110.01 167.67,108 167.67,108 C167.67,108 183.33,108 183.33,108 C183.33,108 188.57,110.01 192.99,111.7 \" fill=\"none\" id=\"E14-E15-1\" style=\"stroke: #383838; stroke-width: 3.0;\"/></a><!--MD5=[135b7d0f574fc555758046f734d79310]\n",
       "@startuml\r\n",
       "skinparam ranksep 10\r\n",
       "skinparam rectangle {\r\n",
       " backgroundColor<<block>> LightGreen\r\n",
       "}\r\n",
       "skinparam linetype polyline\r\n",
       "skinparam monochrome true\r\n",
       "skinparam classbackgroundcolor white\r\n",
       "skinparam shadowing false\r\n",
       "skinparam wrapWidth 300\r\n",
       "hide circle\r\n",
       "\r\n",
       "package \"ConjugationTest\" as E1  [[psysml:62f2acf4-862e-4777-8380-6adbdab8aa3b ]]  {\r\n",
       "def \"P\" as E2  <<(T,blue) port  def>> [[psysml:8038ba5e-65f3-4a7c-a5d9-05577a1e913e ]] \r\n",
       "rec def \"B\" as E3  <<(T,blue) part  def>> [[psysml:eb00d253-98ff-4ea5-9d4b-40f483d849ec ]] {\r\n",
       "portin \"p1: P \" as E4  <<(T,blue) port>> [[psysml:bd11b2df-eb92-4507-bbbb-c6493b57fcfa ]] \r\n",
       "portin \"p2: ~P \" as E5  <<(T,blue) port>> [[psysml:0cbe2724-4b46-4325-902f-a8a483156696 ]] \r\n",
       "}\r\n",
       "rec def \"A\" as E6  <<(T,blue) connection  def>> [[psysml:c9adf55d-1d58-41e7-9c8f-305f1a380a4f ]] {\r\n",
       "portin \"p1: P \" as E7  <<(T,blue) port>> [[psysml:62009ff7-c341-4e72-a056-ce92de09505b ]] \r\n",
       "portin \"p2: ~P \" as E8  <<(T,blue) port>> [[psysml:50db7d15-a467-4fc6-8fb9-d943e9708b48 ]] \r\n",
       "}\r\n",
       "rec def \"I\" as E9  <<(T,blue) interface  def>> [[psysml:909b1fdd-cad7-4fe7-8f0f-a5ae3fa3dd03 ]] {\r\n",
       "portin \"p1: P \" as E10  <<(T,blue) port>> [[psysml:4b05cf72-e027-47da-9c90-b867da4c93e0 ]] \r\n",
       "portin \"p2: ~P \" as E11  <<(T,blue) port>> [[psysml:0c24ab80-75a0-44e9-976a-962e4e9af685 ]] \r\n",
       "}\r\n",
       "rec def \"B1\" as E12  <<(T,blue) part  def>> [[psysml:c2ec72d4-85fe-4c8d-a549-b327df7a4c85 ]] {\r\n",
       "rec usage \"p\" as E13  [[psysml:bf56b714-b103-43c5-844a-64ae22bea297 ]] {\r\n",
       "portin \"p1: P \" as E14  <<(T,blue) port>> [[psysml:b5c2279c-6642-492b-a6cf-19efab06e689 ]] \r\n",
       "portin \"p2: ~P \" as E15  <<(T,blue) port>> [[psysml:ed6b3600-9f65-4ffd-a058-1200daf10699 ]] \r\n",
       "}\r\n",
       "}\r\n",
       "}\r\n",
       "E14 -[thickness=3]- E15 [[psysml:1d4c99f1-723b-47e9-b0a9-a2cf4f06711c ]] \r\n",
       "E14 -[thickness=3]- E15 [[psysml:99ef5f64-108a-4414-ad16-a52f47db38b7 ]] \r\n",
       "@enduml\r\n",
       "\n",
       "PlantUML version 1.2020.13(Sat Jun 13 12:26:38 UTC 2020)\n",
       "(EPL source distribution)\n",
       "Java Runtime: OpenJDK Runtime Environment\n",
       "JVM: OpenJDK 64-Bit Server VM\n",
       "Default Encoding: UTF-8\n",
       "Language: en\n",
       "Country: null\n",
       "--></g></svg>"
      ]
     },
     "execution_count": 12,
     "metadata": {},
     "output_type": "execute_result"
    }
   ],
   "source": [
    "%viz --style=\"POLYLINE\" --view=\"Interconnection\" \"ConjugationTest\""
   ]
  },
  {
   "cell_type": "code",
   "execution_count": 13,
   "id": "a866bd67",
   "metadata": {
    "execution": {
     "iopub.execute_input": "2022-02-18T10:47:45.080387Z",
     "iopub.status.busy": "2022-02-18T10:47:45.079945Z",
     "iopub.status.idle": "2022-02-18T10:47:45.085566Z",
     "shell.execute_reply": "2022-02-18T10:47:45.085885Z"
    }
   },
   "outputs": [
    {
     "data": {
      "image/svg+xml": [
       "<?xml version=\"1.0\" encoding=\"UTF-8\" standalone=\"no\"?><svg xmlns=\"http://www.w3.org/2000/svg\" xmlns:xlink=\"http://www.w3.org/1999/xlink\" contentScriptType=\"application/ecmascript\" contentStyleType=\"text/css\" height=\"12px\" preserveAspectRatio=\"none\" style=\"width:12px;height:12px;\" version=\"1.1\" viewBox=\"0 0 12 12\" width=\"12px\" zoomAndPan=\"magnify\"><defs/><g><!--MD5=[97bbf32f66ccd50cbc40d92ea8f5a65e]\n",
       "@startuml\r\n",
       "skinparam ranksep 8\r\n",
       "skinparam linetype polyline\r\n",
       "skinparam monochrome true\r\n",
       "skinparam classbackgroundcolor white\r\n",
       "skinparam shadowing false\r\n",
       "skinparam wrapWidth 300\r\n",
       "hide circle\r\n",
       "\r\n",
       "@enduml\r\n",
       "\n",
       "PlantUML version 1.2020.13(Sat Jun 13 12:26:38 UTC 2020)\n",
       "(EPL source distribution)\n",
       "Java Runtime: OpenJDK Runtime Environment\n",
       "JVM: OpenJDK 64-Bit Server VM\n",
       "Default Encoding: UTF-8\n",
       "Language: en\n",
       "Country: null\n",
       "--></g></svg>"
      ]
     },
     "execution_count": 13,
     "metadata": {},
     "output_type": "execute_result"
    }
   ],
   "source": [
    "%viz --style=\"POLYLINE\" --view=\"Action\" \"ConjugationTest\""
   ]
  },
  {
   "cell_type": "code",
   "execution_count": 14,
   "id": "07ea07d7",
   "metadata": {
    "execution": {
     "iopub.execute_input": "2022-02-18T10:47:45.136306Z",
     "iopub.status.busy": "2022-02-18T10:47:45.135655Z",
     "iopub.status.idle": "2022-02-18T10:47:45.141942Z",
     "shell.execute_reply": "2022-02-18T10:47:45.142376Z"
    }
   },
   "outputs": [
    {
     "data": {
      "image/svg+xml": [
       "<?xml version=\"1.0\" encoding=\"UTF-8\" standalone=\"no\"?><svg xmlns=\"http://www.w3.org/2000/svg\" xmlns:xlink=\"http://www.w3.org/1999/xlink\" contentScriptType=\"application/ecmascript\" contentStyleType=\"text/css\" height=\"12px\" preserveAspectRatio=\"none\" style=\"width:12px;height:12px;\" version=\"1.1\" viewBox=\"0 0 12 12\" width=\"12px\" zoomAndPan=\"magnify\"><defs/><g><!--MD5=[dc938048236c351797870c36b62f92ad]\n",
       "@startuml\r\n",
       "skinparam roundcorner 20\r\n",
       "skinparam BoxPadding 20\r\n",
       "skinparam SequenceBoxBackgroundColor #white\r\n",
       "skinparam style strictuml\r\n",
       "skinparam maxMessageSize 100\r\n",
       "skinparam linetype polyline\r\n",
       "skinparam monochrome true\r\n",
       "skinparam classbackgroundcolor white\r\n",
       "skinparam shadowing false\r\n",
       "skinparam wrapWidth 300\r\n",
       "hide circle\r\n",
       "\r\n",
       "@enduml\r\n",
       "\n",
       "PlantUML version 1.2020.13(Sat Jun 13 12:26:38 UTC 2020)\n",
       "(EPL source distribution)\n",
       "Java Runtime: OpenJDK Runtime Environment\n",
       "JVM: OpenJDK 64-Bit Server VM\n",
       "Default Encoding: UTF-8\n",
       "Language: en\n",
       "Country: null\n",
       "--></g></svg>"
      ]
     },
     "execution_count": 14,
     "metadata": {},
     "output_type": "execute_result"
    }
   ],
   "source": [
    "%viz --style=\"POLYLINE\" --view=\"Sequence\" \"ConjugationTest\""
   ]
  },
  {
   "cell_type": "code",
   "execution_count": 15,
   "id": "2b4215a4",
   "metadata": {
    "execution": {
     "iopub.execute_input": "2022-02-18T10:47:45.191974Z",
     "iopub.status.busy": "2022-02-18T10:47:45.191562Z",
     "iopub.status.idle": "2022-02-18T10:47:45.256622Z",
     "shell.execute_reply": "2022-02-18T10:47:45.254994Z"
    }
   },
   "outputs": [
    {
     "data": {
      "image/svg+xml": [
       "<?xml version=\"1.0\" encoding=\"UTF-8\" standalone=\"no\"?><svg xmlns=\"http://www.w3.org/2000/svg\" xmlns:xlink=\"http://www.w3.org/1999/xlink\" contentScriptType=\"application/ecmascript\" contentStyleType=\"text/css\" height=\"433px\" preserveAspectRatio=\"none\" style=\"width:641px;height:433px;\" version=\"1.1\" viewBox=\"0 0 641 433\" width=\"641px\" zoomAndPan=\"magnify\"><defs/><g><!--MD5=[fbc87193dbaf4d95561dea2c320d4a47]\n",
       "cluster E1--><a href=\"psysml:62f2acf4-862e-4777-8380-6adbdab8aa3b\" target=\"_top\" title=\"psysml:62f2acf4-862e-4777-8380-6adbdab8aa3b\" xlink:actuate=\"onRequest\" xlink:href=\"psysml:62f2acf4-862e-4777-8380-6adbdab8aa3b\" xlink:show=\"new\" xlink:title=\"psysml:62f2acf4-862e-4777-8380-6adbdab8aa3b\" xlink:type=\"simple\"><polygon fill=\"#FFFFFF\" points=\"16,6,136,6,143,28.2969,619,28.2969,619,421,16,421,16,6\" style=\"stroke: #000000; stroke-width: 1.5;\"/><line style=\"stroke: #000000; stroke-width: 1.5;\" x1=\"16\" x2=\"143\" y1=\"28.2969\" y2=\"28.2969\"/><text fill=\"#000000\" font-family=\"sans-serif\" font-size=\"14\" font-weight=\"bold\" lengthAdjust=\"spacingAndGlyphs\" textLength=\"114\" x=\"20\" y=\"20.9951\">ConjugationTest</text></a><!--MD5=[b4997ac47864f28c2f74865a473b2911]\n",
       "class E2--><a href=\"psysml:8038ba5e-65f3-4a7c-a5d9-05577a1e913e\" target=\"_top\" title=\"psysml:8038ba5e-65f3-4a7c-a5d9-05577a1e913e\" xlink:actuate=\"onRequest\" xlink:href=\"psysml:8038ba5e-65f3-4a7c-a5d9-05577a1e913e\" xlink:show=\"new\" xlink:title=\"psysml:8038ba5e-65f3-4a7c-a5d9-05577a1e913e\" xlink:type=\"simple\"><rect fill=\"#FFFFFF\" height=\"45.9375\" id=\"E2\" style=\"stroke: #383838; stroke-width: 1.5;\" width=\"70\" x=\"223\" y=\"359\"/><text fill=\"#000000\" font-family=\"sans-serif\" font-size=\"12\" font-style=\"italic\" lengthAdjust=\"spacingAndGlyphs\" textLength=\"68\" x=\"224\" y=\"375.1387\">«port  def»</text><text fill=\"#000000\" font-family=\"sans-serif\" font-size=\"12\" lengthAdjust=\"spacingAndGlyphs\" textLength=\"8\" x=\"254\" y=\"389.1074\">P</text><line style=\"stroke: #383838; stroke-width: 1.5;\" x1=\"224\" x2=\"292\" y1=\"396.9375\" y2=\"396.9375\"/></a><!--MD5=[09b614a08d8cba4a07c9adeb5e0fee81]\n",
       "class E3--><a href=\"psysml:eb00d253-98ff-4ea5-9d4b-40f483d849ec\" target=\"_top\" title=\"psysml:eb00d253-98ff-4ea5-9d4b-40f483d849ec\" xlink:actuate=\"onRequest\" xlink:href=\"psysml:eb00d253-98ff-4ea5-9d4b-40f483d849ec\" xlink:show=\"new\" xlink:title=\"psysml:eb00d253-98ff-4ea5-9d4b-40f483d849ec\" xlink:type=\"simple\"><rect fill=\"#FFFFFF\" height=\"45.9375\" id=\"E3\" style=\"stroke: #383838; stroke-width: 1.5;\" width=\"70\" x=\"496\" y=\"147\"/><text fill=\"#000000\" font-family=\"sans-serif\" font-size=\"12\" font-style=\"italic\" lengthAdjust=\"spacingAndGlyphs\" textLength=\"68\" x=\"497\" y=\"163.1387\">«part  def»</text><text fill=\"#000000\" font-family=\"sans-serif\" font-size=\"12\" lengthAdjust=\"spacingAndGlyphs\" textLength=\"8\" x=\"527\" y=\"177.1074\">B</text><line style=\"stroke: #383838; stroke-width: 1.5;\" x1=\"497\" x2=\"565\" y1=\"184.9375\" y2=\"184.9375\"/></a><!--MD5=[ebbe1d658d1005bcc118a6aa81145e00]\n",
       "class E4--><a href=\"psysml:bd11b2df-eb92-4507-bbbb-c6493b57fcfa\" target=\"_top\" title=\"psysml:bd11b2df-eb92-4507-bbbb-c6493b57fcfa\" xlink:actuate=\"onRequest\" xlink:href=\"psysml:bd11b2df-eb92-4507-bbbb-c6493b57fcfa\" xlink:show=\"new\" xlink:title=\"psysml:bd11b2df-eb92-4507-bbbb-c6493b57fcfa\" xlink:type=\"simple\"><rect fill=\"#FFFFFF\" height=\"45.9375\" id=\"E4\" rx=\"10\" ry=\"10\" style=\"stroke: #383838; stroke-width: 1.5;\" width=\"42\" x=\"474\" y=\"253\"/><text fill=\"#000000\" font-family=\"sans-serif\" font-size=\"12\" font-style=\"italic\" lengthAdjust=\"spacingAndGlyphs\" textLength=\"40\" x=\"475\" y=\"269.1387\">«port»</text><text fill=\"#000000\" font-family=\"sans-serif\" font-size=\"12\" lengthAdjust=\"spacingAndGlyphs\" textLength=\"32\" x=\"477\" y=\"283.1074\">p1: P</text><line style=\"stroke: #383838; stroke-width: 1.5;\" x1=\"475\" x2=\"515\" y1=\"290.9375\" y2=\"290.9375\"/></a><!--MD5=[270fce915f116d4de14055a7c1d9a0f3]\n",
       "class E5--><a href=\"psysml:0cbe2724-4b46-4325-902f-a8a483156696\" target=\"_top\" title=\"psysml:0cbe2724-4b46-4325-902f-a8a483156696\" xlink:actuate=\"onRequest\" xlink:href=\"psysml:0cbe2724-4b46-4325-902f-a8a483156696\" xlink:show=\"new\" xlink:title=\"psysml:0cbe2724-4b46-4325-902f-a8a483156696\" xlink:type=\"simple\"><rect fill=\"#FFFFFF\" height=\"45.9375\" id=\"E5\" rx=\"10\" ry=\"10\" style=\"stroke: #383838; stroke-width: 1.5;\" width=\"52\" x=\"551\" y=\"253\"/><text fill=\"#000000\" font-family=\"sans-serif\" font-size=\"12\" font-style=\"italic\" lengthAdjust=\"spacingAndGlyphs\" textLength=\"40\" x=\"557\" y=\"269.1387\">«port»</text><text fill=\"#000000\" font-family=\"sans-serif\" font-size=\"12\" lengthAdjust=\"spacingAndGlyphs\" textLength=\"42\" x=\"554\" y=\"283.1074\">p2: ~P</text><line style=\"stroke: #383838; stroke-width: 1.5;\" x1=\"552\" x2=\"602\" y1=\"290.9375\" y2=\"290.9375\"/></a><!--MD5=[60a26617385b1d2d0262a64233df1f8d]\n",
       "class E6--><a href=\"psysml:c9adf55d-1d58-41e7-9c8f-305f1a380a4f\" target=\"_top\" title=\"psysml:c9adf55d-1d58-41e7-9c8f-305f1a380a4f\" xlink:actuate=\"onRequest\" xlink:href=\"psysml:c9adf55d-1d58-41e7-9c8f-305f1a380a4f\" xlink:show=\"new\" xlink:title=\"psysml:c9adf55d-1d58-41e7-9c8f-305f1a380a4f\" xlink:type=\"simple\"><rect fill=\"#FFFFFF\" height=\"45.9375\" id=\"E6\" style=\"stroke: #383838; stroke-width: 1.5;\" width=\"114\" x=\"283\" y=\"147\"/><text fill=\"#000000\" font-family=\"sans-serif\" font-size=\"12\" font-style=\"italic\" lengthAdjust=\"spacingAndGlyphs\" textLength=\"112\" x=\"284\" y=\"163.1387\">«connection  def»</text><text fill=\"#000000\" font-family=\"sans-serif\" font-size=\"12\" lengthAdjust=\"spacingAndGlyphs\" textLength=\"8\" x=\"336\" y=\"177.1074\">A</text><line style=\"stroke: #383838; stroke-width: 1.5;\" x1=\"284\" x2=\"396\" y1=\"184.9375\" y2=\"184.9375\"/></a><!--MD5=[2156ba9850f5573cc1fc38a6a4b2f02b]\n",
       "class E7--><a href=\"psysml:62009ff7-c341-4e72-a056-ce92de09505b\" target=\"_top\" title=\"psysml:62009ff7-c341-4e72-a056-ce92de09505b\" xlink:actuate=\"onRequest\" xlink:href=\"psysml:62009ff7-c341-4e72-a056-ce92de09505b\" xlink:show=\"new\" xlink:title=\"psysml:62009ff7-c341-4e72-a056-ce92de09505b\" xlink:type=\"simple\"><rect fill=\"#FFFFFF\" height=\"45.9375\" id=\"E7\" rx=\"10\" ry=\"10\" style=\"stroke: #383838; stroke-width: 1.5;\" width=\"42\" x=\"310\" y=\"253\"/><text fill=\"#000000\" font-family=\"sans-serif\" font-size=\"12\" font-style=\"italic\" lengthAdjust=\"spacingAndGlyphs\" textLength=\"40\" x=\"311\" y=\"269.1387\">«port»</text><text fill=\"#000000\" font-family=\"sans-serif\" font-size=\"12\" lengthAdjust=\"spacingAndGlyphs\" textLength=\"32\" x=\"313\" y=\"283.1074\">p1: P</text><line style=\"stroke: #383838; stroke-width: 1.5;\" x1=\"311\" x2=\"351\" y1=\"290.9375\" y2=\"290.9375\"/></a><!--MD5=[b9389687b975829384b498ac4b7476b2]\n",
       "class E8--><a href=\"psysml:50db7d15-a467-4fc6-8fb9-d943e9708b48\" target=\"_top\" title=\"psysml:50db7d15-a467-4fc6-8fb9-d943e9708b48\" xlink:actuate=\"onRequest\" xlink:href=\"psysml:50db7d15-a467-4fc6-8fb9-d943e9708b48\" xlink:show=\"new\" xlink:title=\"psysml:50db7d15-a467-4fc6-8fb9-d943e9708b48\" xlink:type=\"simple\"><rect fill=\"#FFFFFF\" height=\"45.9375\" id=\"E8\" rx=\"10\" ry=\"10\" style=\"stroke: #383838; stroke-width: 1.5;\" width=\"52\" x=\"387\" y=\"253\"/><text fill=\"#000000\" font-family=\"sans-serif\" font-size=\"12\" font-style=\"italic\" lengthAdjust=\"spacingAndGlyphs\" textLength=\"40\" x=\"393\" y=\"269.1387\">«port»</text><text fill=\"#000000\" font-family=\"sans-serif\" font-size=\"12\" lengthAdjust=\"spacingAndGlyphs\" textLength=\"42\" x=\"390\" y=\"283.1074\">p2: ~P</text><line style=\"stroke: #383838; stroke-width: 1.5;\" x1=\"388\" x2=\"438\" y1=\"290.9375\" y2=\"290.9375\"/></a><!--MD5=[fd4143e9d270a159db93a4ea2a975926]\n",
       "class E9--><a href=\"psysml:909b1fdd-cad7-4fe7-8f0f-a5ae3fa3dd03\" target=\"_top\" title=\"psysml:909b1fdd-cad7-4fe7-8f0f-a5ae3fa3dd03\" xlink:actuate=\"onRequest\" xlink:href=\"psysml:909b1fdd-cad7-4fe7-8f0f-a5ae3fa3dd03\" xlink:show=\"new\" xlink:title=\"psysml:909b1fdd-cad7-4fe7-8f0f-a5ae3fa3dd03\" xlink:type=\"simple\"><rect fill=\"#FFFFFF\" height=\"45.9375\" id=\"E9\" style=\"stroke: #383838; stroke-width: 1.5;\" width=\"100\" x=\"144\" y=\"147\"/><text fill=\"#000000\" font-family=\"sans-serif\" font-size=\"12\" font-style=\"italic\" lengthAdjust=\"spacingAndGlyphs\" textLength=\"98\" x=\"145\" y=\"163.1387\">«interface  def»</text><text fill=\"#000000\" font-family=\"sans-serif\" font-size=\"12\" lengthAdjust=\"spacingAndGlyphs\" textLength=\"3\" x=\"192.5\" y=\"177.1074\">I</text><line style=\"stroke: #383838; stroke-width: 1.5;\" x1=\"145\" x2=\"243\" y1=\"184.9375\" y2=\"184.9375\"/></a><!--MD5=[96f4274e9e20536e775497830990834d]\n",
       "class E10--><a href=\"psysml:4b05cf72-e027-47da-9c90-b867da4c93e0\" target=\"_top\" title=\"psysml:4b05cf72-e027-47da-9c90-b867da4c93e0\" xlink:actuate=\"onRequest\" xlink:href=\"psysml:4b05cf72-e027-47da-9c90-b867da4c93e0\" xlink:show=\"new\" xlink:title=\"psysml:4b05cf72-e027-47da-9c90-b867da4c93e0\" xlink:type=\"simple\"><rect fill=\"#FFFFFF\" height=\"45.9375\" id=\"E10\" rx=\"10\" ry=\"10\" style=\"stroke: #383838; stroke-width: 1.5;\" width=\"42\" x=\"146\" y=\"253\"/><text fill=\"#000000\" font-family=\"sans-serif\" font-size=\"12\" font-style=\"italic\" lengthAdjust=\"spacingAndGlyphs\" textLength=\"40\" x=\"147\" y=\"269.1387\">«port»</text><text fill=\"#000000\" font-family=\"sans-serif\" font-size=\"12\" lengthAdjust=\"spacingAndGlyphs\" textLength=\"32\" x=\"149\" y=\"283.1074\">p1: P</text><line style=\"stroke: #383838; stroke-width: 1.5;\" x1=\"147\" x2=\"187\" y1=\"290.9375\" y2=\"290.9375\"/></a><!--MD5=[1dd1bfd58a279cf63c5f349dbc8fc6a1]\n",
       "class E11--><a href=\"psysml:0c24ab80-75a0-44e9-976a-962e4e9af685\" target=\"_top\" title=\"psysml:0c24ab80-75a0-44e9-976a-962e4e9af685\" xlink:actuate=\"onRequest\" xlink:href=\"psysml:0c24ab80-75a0-44e9-976a-962e4e9af685\" xlink:show=\"new\" xlink:title=\"psysml:0c24ab80-75a0-44e9-976a-962e4e9af685\" xlink:type=\"simple\"><rect fill=\"#FFFFFF\" height=\"45.9375\" id=\"E11\" rx=\"10\" ry=\"10\" style=\"stroke: #383838; stroke-width: 1.5;\" width=\"52\" x=\"223\" y=\"253\"/><text fill=\"#000000\" font-family=\"sans-serif\" font-size=\"12\" font-style=\"italic\" lengthAdjust=\"spacingAndGlyphs\" textLength=\"40\" x=\"229\" y=\"269.1387\">«port»</text><text fill=\"#000000\" font-family=\"sans-serif\" font-size=\"12\" lengthAdjust=\"spacingAndGlyphs\" textLength=\"42\" x=\"226\" y=\"283.1074\">p2: ~P</text><line style=\"stroke: #383838; stroke-width: 1.5;\" x1=\"224\" x2=\"274\" y1=\"290.9375\" y2=\"290.9375\"/></a><!--MD5=[49a0ec8f00dab7302a31f22d0f0fe584]\n",
       "class E12--><a href=\"psysml:c2ec72d4-85fe-4c8d-a549-b327df7a4c85\" target=\"_top\" title=\"psysml:c2ec72d4-85fe-4c8d-a549-b327df7a4c85\" xlink:actuate=\"onRequest\" xlink:href=\"psysml:c2ec72d4-85fe-4c8d-a549-b327df7a4c85\" xlink:show=\"new\" xlink:title=\"psysml:c2ec72d4-85fe-4c8d-a549-b327df7a4c85\" xlink:type=\"simple\"><rect fill=\"#FFFFFF\" height=\"45.9375\" id=\"E12\" style=\"stroke: #383838; stroke-width: 1.5;\" width=\"70\" x=\"45\" y=\"41\"/><text fill=\"#000000\" font-family=\"sans-serif\" font-size=\"12\" font-style=\"italic\" lengthAdjust=\"spacingAndGlyphs\" textLength=\"68\" x=\"46\" y=\"57.1387\">«part  def»</text><text fill=\"#000000\" font-family=\"sans-serif\" font-size=\"12\" lengthAdjust=\"spacingAndGlyphs\" textLength=\"16\" x=\"72\" y=\"71.1074\">B1</text><line style=\"stroke: #383838; stroke-width: 1.5;\" x1=\"46\" x2=\"114\" y1=\"78.9375\" y2=\"78.9375\"/></a><!--MD5=[ee3c913d1a06f366521f9ef512b67efe]\n",
       "class E13--><a href=\"psysml:bf56b714-b103-43c5-844a-64ae22bea297\" target=\"_top\" title=\"psysml:bf56b714-b103-43c5-844a-64ae22bea297\" xlink:actuate=\"onRequest\" xlink:href=\"psysml:bf56b714-b103-43c5-844a-64ae22bea297\" xlink:show=\"new\" xlink:title=\"psysml:bf56b714-b103-43c5-844a-64ae22bea297\" xlink:type=\"simple\"><rect fill=\"#FFFFFF\" height=\"45.9375\" id=\"E13\" rx=\"10\" ry=\"10\" style=\"stroke: #383838; stroke-width: 1.5;\" width=\"42\" x=\"59\" y=\"147\"/><text fill=\"#000000\" font-family=\"sans-serif\" font-size=\"12\" font-style=\"italic\" lengthAdjust=\"spacingAndGlyphs\" textLength=\"40\" x=\"60\" y=\"163.1387\">«part»</text><text fill=\"#000000\" font-family=\"sans-serif\" font-size=\"12\" lengthAdjust=\"spacingAndGlyphs\" textLength=\"8\" x=\"74\" y=\"177.1074\">p</text><line style=\"stroke: #383838; stroke-width: 1.5;\" x1=\"60\" x2=\"100\" y1=\"184.9375\" y2=\"184.9375\"/></a><!--MD5=[bee11217b2f71d958a27249dc326068c]\n",
       "class E14--><a href=\"psysml:b5c2279c-6642-492b-a6cf-19efab06e689\" target=\"_top\" title=\"psysml:b5c2279c-6642-492b-a6cf-19efab06e689\" xlink:actuate=\"onRequest\" xlink:href=\"psysml:b5c2279c-6642-492b-a6cf-19efab06e689\" xlink:show=\"new\" xlink:title=\"psysml:b5c2279c-6642-492b-a6cf-19efab06e689\" xlink:type=\"simple\"><rect fill=\"#FFFFFF\" height=\"45.9375\" id=\"E14\" rx=\"10\" ry=\"10\" style=\"stroke: #383838; stroke-width: 1.5;\" width=\"42\" x=\"69\" y=\"253\"/><text fill=\"#000000\" font-family=\"sans-serif\" font-size=\"12\" font-style=\"italic\" lengthAdjust=\"spacingAndGlyphs\" textLength=\"40\" x=\"70\" y=\"269.1387\">«port»</text><text fill=\"#000000\" font-family=\"sans-serif\" font-size=\"12\" lengthAdjust=\"spacingAndGlyphs\" textLength=\"32\" x=\"72\" y=\"283.1074\">p1: P</text><line style=\"stroke: #383838; stroke-width: 1.5;\" x1=\"70\" x2=\"110\" y1=\"290.9375\" y2=\"290.9375\"/></a><!--MD5=[0c48fb7552dae8cbbef69381101a84c8]\n",
       "class E15--><a href=\"psysml:ed6b3600-9f65-4ffd-a058-1200daf10699\" target=\"_top\" title=\"psysml:ed6b3600-9f65-4ffd-a058-1200daf10699\" xlink:actuate=\"onRequest\" xlink:href=\"psysml:ed6b3600-9f65-4ffd-a058-1200daf10699\" xlink:show=\"new\" xlink:title=\"psysml:ed6b3600-9f65-4ffd-a058-1200daf10699\" xlink:type=\"simple\"><rect fill=\"#FFFFFF\" height=\"45.9375\" id=\"E15\" rx=\"10\" ry=\"10\" style=\"stroke: #383838; stroke-width: 1.5;\" width=\"52\" x=\"64\" y=\"359\"/><text fill=\"#000000\" font-family=\"sans-serif\" font-size=\"12\" font-style=\"italic\" lengthAdjust=\"spacingAndGlyphs\" textLength=\"40\" x=\"70\" y=\"375.1387\">«port»</text><text fill=\"#000000\" font-family=\"sans-serif\" font-size=\"12\" lengthAdjust=\"spacingAndGlyphs\" textLength=\"42\" x=\"67\" y=\"389.1074\">p2: ~P</text><line style=\"stroke: #383838; stroke-width: 1.5;\" x1=\"65\" x2=\"115\" y1=\"396.9375\" y2=\"396.9375\"/></a><!--MD5=[4672eba38e49728da53d11aeb285b987]\n",
       "reverse link E3 to E4--><a href=\"psysml:301fc48c-20ce-4bfe-ac1d-96f5db6094d0\" target=\"_top\" title=\"psysml:301fc48c-20ce-4bfe-ac1d-96f5db6094d0\" xlink:actuate=\"onRequest\" xlink:href=\"psysml:301fc48c-20ce-4bfe-ac1d-96f5db6094d0\" xlink:show=\"new\" xlink:title=\"psysml:301fc48c-20ce-4bfe-ac1d-96f5db6094d0\" xlink:type=\"simple\"><path d=\"M519.06,205.49 C513.64,221.15 507.39,239.19 502.62,252.98 \" fill=\"none\" id=\"E3&lt;-E4\" style=\"stroke: #383838; stroke-width: 1.0;\"/><polygon fill=\"#FFFFFF\" points=\"523.37,193.06,517.626,197.4196,519.4411,204.3986,525.1851,200.0389,523.37,193.06\" style=\"stroke: #383838; stroke-width: 1.0;\"/><text fill=\"#000000\" font-family=\"sans-serif\" font-size=\"13\" lengthAdjust=\"spacingAndGlyphs\" textLength=\"8\" x=\"495.5929\" y=\"241.8709\">1</text></a><!--MD5=[185131fc0dcab0a4505a2ebe144e961b]\n",
       "link E4 to E2--><a href=\"psysml:2658e44c-8270-4dd2-9600-daf649b69d41\" target=\"_top\" title=\"psysml:2658e44c-8270-4dd2-9600-daf649b69d41\" xlink:actuate=\"onRequest\" xlink:href=\"psysml:2658e44c-8270-4dd2-9600-daf649b69d41\" xlink:show=\"new\" xlink:title=\"psysml:2658e44c-8270-4dd2-9600-daf649b69d41\" xlink:type=\"simple\"><path d=\"M473.78,289.29 C465.07,294.33 457,299 457,299 C457,299 370.83,334.51 311.9,358.79 \" fill=\"none\" id=\"E4-&gt;E2\" style=\"stroke: #383838; stroke-width: 1.0;\"/><polygon fill=\"#FFFFFF\" points=\"293.12,366.53,308.013,352.8114,313.3535,365.7528,293.12,366.53\" style=\"stroke: #383838; stroke-width: 1.0;\"/><ellipse cx=\"314.0449\" cy=\"352.4858\" fill=\"#383838\" rx=\"2\" ry=\"2\" style=\"stroke: #383838; stroke-width: 1.0;\"/><ellipse cx=\"317.8596\" cy=\"361.7296\" fill=\"#383838\" rx=\"2\" ry=\"2\" style=\"stroke: #383838; stroke-width: 1.0;\"/></a><!--MD5=[191cde3d490a3f6d7bb551fe3ddca469]\n",
       "reverse link E3 to E5--><a href=\"psysml:223fd842-0df9-4bd0-ad12-80c4696f3c55\" target=\"_top\" title=\"psysml:223fd842-0df9-4bd0-ad12-80c4696f3c55\" xlink:actuate=\"onRequest\" xlink:href=\"psysml:223fd842-0df9-4bd0-ad12-80c4696f3c55\" xlink:show=\"new\" xlink:title=\"psysml:223fd842-0df9-4bd0-ad12-80c4696f3c55\" xlink:type=\"simple\"><path d=\"M546.05,205.03 C553.02,220.78 561.1,239.06 567.26,252.98 \" fill=\"none\" id=\"E3&lt;-E5\" style=\"stroke: #383838; stroke-width: 1.0;\"/><polygon fill=\"#FFFFFF\" points=\"540.76,193.06,539.5329,200.1659,545.6202,204.0317,546.8473,196.9258,540.76,193.06\" style=\"stroke: #383838; stroke-width: 1.0;\"/><text fill=\"#000000\" font-family=\"sans-serif\" font-size=\"13\" lengthAdjust=\"spacingAndGlyphs\" textLength=\"8\" x=\"555.5674\" y=\"241.8709\">1</text></a><!--MD5=[3f50a3473f1dfb74d3f76443e03635af]\n",
       "reverse link E6 to E7--><a href=\"psysml:21746d6a-6182-4390-ad27-ac5c9b62bfbf\" target=\"_top\" title=\"psysml:21746d6a-6182-4390-ad27-ac5c9b62bfbf\" xlink:actuate=\"onRequest\" xlink:href=\"psysml:21746d6a-6182-4390-ad27-ac5c9b62bfbf\" xlink:show=\"new\" xlink:title=\"psysml:21746d6a-6182-4390-ad27-ac5c9b62bfbf\" xlink:type=\"simple\"><path d=\"M336.93,206.44 C335.6,221.87 334.07,239.47 332.91,252.98 \" fill=\"none\" id=\"E6&lt;-E7\" style=\"stroke: #383838; stroke-width: 1.0;\"/><polygon fill=\"#FFFFFF\" points=\"338.09,193.06,333.5901,198.6948,337.0607,205.0158,341.5606,199.381,338.09,193.06\" style=\"stroke: #383838; stroke-width: 1.0;\"/><text fill=\"#000000\" font-family=\"sans-serif\" font-size=\"13\" lengthAdjust=\"spacingAndGlyphs\" textLength=\"8\" x=\"324.3483\" y=\"241.8709\">1</text></a><!--MD5=[583832df87f4419a098336a29a52fa00]\n",
       "link E7 to E2--><a href=\"psysml:ac292376-6896-4173-b580-fb46e7ca2b11\" target=\"_top\" title=\"psysml:ac292376-6896-4173-b580-fb46e7ca2b11\" xlink:actuate=\"onRequest\" xlink:href=\"psysml:ac292376-6896-4173-b580-fb46e7ca2b11\" xlink:show=\"new\" xlink:title=\"psysml:ac292376-6896-4173-b580-fb46e7ca2b11\" xlink:type=\"simple\"><path d=\"M315.52,299.06 C306.71,311.6 295.43,327.68 285.19,342.26 \" fill=\"none\" id=\"E7-&gt;E2\" style=\"stroke: #383838; stroke-width: 1.0;\"/><polygon fill=\"#FFFFFF\" points=\"273.46,358.98,278.6532,339.4088,290.1093,347.4561,273.46,358.98\" style=\"stroke: #383838; stroke-width: 1.0;\"/><ellipse cx=\"283.5662\" cy=\"335.8942\" fill=\"#383838\" rx=\"2\" ry=\"2\" style=\"stroke: #383838; stroke-width: 1.0;\"/><ellipse cx=\"291.7491\" cy=\"341.6422\" fill=\"#383838\" rx=\"2\" ry=\"2\" style=\"stroke: #383838; stroke-width: 1.0;\"/></a><!--MD5=[f4cf0736d43fd73c4ef68817c49d37d5]\n",
       "reverse link E6 to E8--><a href=\"psysml:0a911d69-2e8c-46c6-ac57-f08740e1c2a7\" target=\"_top\" title=\"psysml:0a911d69-2e8c-46c6-ac57-f08740e1c2a7\" xlink:actuate=\"onRequest\" xlink:href=\"psysml:0a911d69-2e8c-46c6-ac57-f08740e1c2a7\" xlink:show=\"new\" xlink:title=\"psysml:0a911d69-2e8c-46c6-ac57-f08740e1c2a7\" xlink:type=\"simple\"><path d=\"M363.23,204.09 C374.44,220.06 387.58,238.78 397.54,252.98 \" fill=\"none\" id=\"E6&lt;-E8\" style=\"stroke: #383838; stroke-width: 1.0;\"/><polygon fill=\"#FFFFFF\" points=\"355.48,193.06,355.6581,200.2689,362.381,202.8771,362.2029,195.6682,355.48,193.06\" style=\"stroke: #383838; stroke-width: 1.0;\"/><text fill=\"#000000\" font-family=\"sans-serif\" font-size=\"13\" lengthAdjust=\"spacingAndGlyphs\" textLength=\"8\" x=\"384.3101\" y=\"241.8709\">1</text></a><!--MD5=[23ac544a70576c3e717098101004234c]\n",
       "reverse link E9 to E10--><a href=\"psysml:7a6ef9a5-ee54-4bad-bee0-b6cd150b3ba6\" target=\"_top\" title=\"psysml:7a6ef9a5-ee54-4bad-bee0-b6cd150b3ba6\" xlink:actuate=\"onRequest\" xlink:href=\"psysml:7a6ef9a5-ee54-4bad-bee0-b6cd150b3ba6\" xlink:show=\"new\" xlink:title=\"psysml:7a6ef9a5-ee54-4bad-bee0-b6cd150b3ba6\" xlink:type=\"simple\"><path d=\"M184.92,205.96 C180.89,221.51 176.26,239.33 172.72,252.98 \" fill=\"none\" id=\"E9&lt;-E10\" style=\"stroke: #383838; stroke-width: 1.0;\"/><polygon fill=\"#FFFFFF\" points=\"188.27,193.06,182.8943,197.8665,185.2635,204.6773,190.6392,199.8708,188.27,193.06\" style=\"stroke: #383838; stroke-width: 1.0;\"/><text fill=\"#000000\" font-family=\"sans-serif\" font-size=\"13\" lengthAdjust=\"spacingAndGlyphs\" textLength=\"8\" x=\"165.1823\" y=\"241.8709\">1</text></a><!--MD5=[0f36bececdf0dff6e600d6f64214b0f1]\n",
       "link E10 to E2--><a href=\"psysml:1b1dbb40-b684-43d5-9e90-095d8f580599\" target=\"_top\" title=\"psysml:1b1dbb40-b684-43d5-9e90-095d8f580599\" xlink:actuate=\"onRequest\" xlink:href=\"psysml:1b1dbb40-b684-43d5-9e90-095d8f580599\" xlink:show=\"new\" xlink:title=\"psysml:1b1dbb40-b684-43d5-9e90-095d8f580599\" xlink:type=\"simple\"><path d=\"M186.3,299.06 C197.64,312.02 212.28,328.74 225.36,343.7 \" fill=\"none\" id=\"E10-&gt;E2\" style=\"stroke: #383838; stroke-width: 1.0;\"/><polygon fill=\"#FFFFFF\" points=\"238.73,358.98,220.9517,349.2882,231.489,340.0705,238.73,358.98\" style=\"stroke: #383838; stroke-width: 1.0;\"/><ellipse cx=\"218.7041\" cy=\"343.6812\" fill=\"#383838\" rx=\"2\" ry=\"2\" style=\"stroke: #383838; stroke-width: 1.0;\"/><ellipse cx=\"226.2308\" cy=\"337.0972\" fill=\"#383838\" rx=\"2\" ry=\"2\" style=\"stroke: #383838; stroke-width: 1.0;\"/></a><!--MD5=[1fc04a95fd77ad5ce46c1a3027516051]\n",
       "reverse link E9 to E11--><a href=\"psysml:26e0bda0-b5f1-463e-8de4-6289f85dc961\" target=\"_top\" title=\"psysml:26e0bda0-b5f1-463e-8de4-6289f85dc961\" xlink:actuate=\"onRequest\" xlink:href=\"psysml:26e0bda0-b5f1-463e-8de4-6289f85dc961\" xlink:show=\"new\" xlink:title=\"psysml:26e0bda0-b5f1-463e-8de4-6289f85dc961\" xlink:type=\"simple\"><path d=\"M211.75,204.56 C220.14,220.42 229.92,238.92 237.35,252.98 \" fill=\"none\" id=\"E9&lt;-E11\" style=\"stroke: #383838; stroke-width: 1.0;\"/><polygon fill=\"#FFFFFF\" points=\"205.66,193.06,204.9277,200.2338,211.268,203.669,212.0003,196.4952,205.66,193.06\" style=\"stroke: #383838; stroke-width: 1.0;\"/><text fill=\"#000000\" font-family=\"sans-serif\" font-size=\"13\" lengthAdjust=\"spacingAndGlyphs\" textLength=\"8\" x=\"225.1441\" y=\"241.8709\">1</text></a><!--MD5=[062ed86c389d1a88f61c6380d0491e17]\n",
       "reverse link E12 to E13--><a href=\"psysml:b5605e58-b315-4dd3-8e84-581a703b4e2b\" target=\"_top\" title=\"psysml:b5605e58-b315-4dd3-8e84-581a703b4e2b\" xlink:actuate=\"onRequest\" xlink:href=\"psysml:b5605e58-b315-4dd3-8e84-581a703b4e2b\" xlink:show=\"new\" xlink:title=\"psysml:b5605e58-b315-4dd3-8e84-581a703b4e2b\" xlink:type=\"simple\"><path d=\"M80,100.44 C80,115.87 80,133.47 80,146.98 \" fill=\"none\" id=\"E12&lt;-E13\" style=\"stroke: #383838; stroke-width: 1.0;\"/><polygon fill=\"#383838\" points=\"80,87.06,76,93.06,80,99.06,84,93.06,80,87.06\" style=\"stroke: #383838; stroke-width: 1.0;\"/><text fill=\"#000000\" font-family=\"sans-serif\" font-size=\"13\" lengthAdjust=\"spacingAndGlyphs\" textLength=\"8\" x=\"70.925\" y=\"135.8709\">1</text></a><!--MD5=[01db00f33b28669d6d9febea71002831]\n",
       "reverse link E13 to E14--><a href=\"psysml:db42b499-220f-4c1a-8731-eb36b8c82e1e\" target=\"_top\" title=\"psysml:db42b499-220f-4c1a-8731-eb36b8c82e1e\" xlink:actuate=\"onRequest\" xlink:href=\"psysml:db42b499-220f-4c1a-8731-eb36b8c82e1e\" xlink:show=\"new\" xlink:title=\"psysml:db42b499-220f-4c1a-8731-eb36b8c82e1e\" xlink:type=\"simple\"><path d=\"M83.41,206.44 C84.89,221.87 86.58,239.47 87.88,252.98 \" fill=\"none\" id=\"E13&lt;-E14\" style=\"stroke: #383838; stroke-width: 1.0;\"/><polygon fill=\"#FFFFFF\" points=\"82.12,193.06,78.7125,199.4152,83.2683,205.0049,86.6758,198.6497,82.12,193.06\" style=\"stroke: #383838; stroke-width: 1.0;\"/><text fill=\"#000000\" font-family=\"sans-serif\" font-size=\"13\" lengthAdjust=\"spacingAndGlyphs\" textLength=\"8\" x=\"78.2353\" y=\"241.8709\">1</text></a><!--MD5=[e5566ac99d7714697a7fbc17f6b550fe]\n",
       "link E14 to E2--><a href=\"psysml:7155c58b-23e7-41d9-a472-3863cff0084f\" target=\"_top\" title=\"psysml:7155c58b-23e7-41d9-a472-3863cff0084f\" xlink:actuate=\"onRequest\" xlink:href=\"psysml:7155c58b-23e7-41d9-a472-3863cff0084f\" xlink:show=\"new\" xlink:title=\"psysml:7155c58b-23e7-41d9-a472-3863cff0084f\" xlink:type=\"simple\"><path d=\"M111.28,290.17 C134.86,304.77 173.76,328.85 205.58,348.55 \" fill=\"none\" id=\"E14-&gt;E2\" style=\"stroke: #383838; stroke-width: 1.0;\"/><polygon fill=\"#FFFFFF\" points=\"222.86,359.25,203.0213,355.1971,210.3927,343.2949,222.86,359.25\" style=\"stroke: #383838; stroke-width: 1.0;\"/><ellipse cx=\"199.2284\" cy=\"350.4956\" fill=\"#383838\" rx=\"2\" ry=\"2\" style=\"stroke: #383838; stroke-width: 1.0;\"/><ellipse cx=\"204.4937\" cy=\"341.994\" fill=\"#383838\" rx=\"2\" ry=\"2\" style=\"stroke: #383838; stroke-width: 1.0;\"/></a><!--MD5=[e9a5e828c71fd2209a11a152f562d491]\n",
       "reverse link E13 to E15--><a href=\"psysml:2699a371-802b-44a3-9d88-da30e2130afc\" target=\"_top\" title=\"psysml:2699a371-802b-44a3-9d88-da30e2130afc\" xlink:actuate=\"onRequest\" xlink:href=\"psysml:2699a371-802b-44a3-9d88-da30e2130afc\" xlink:show=\"new\" xlink:title=\"psysml:2699a371-802b-44a3-9d88-da30e2130afc\" xlink:type=\"simple\"><path d=\"M68.14,205.73 C60.51,228.09 52,253 52,253 C52,253 52,299 52,299 C52,299 68.37,334.31 79.62,358.59 \" fill=\"none\" id=\"E13&lt;-E15\" style=\"stroke: #383838; stroke-width: 1.0;\"/><polygon fill=\"#FFFFFF\" points=\"72.35,193.41,66.6257,197.7955,68.4723,204.7662,74.1965,200.3807,72.35,193.41\" style=\"stroke: #383838; stroke-width: 1.0;\"/><text fill=\"#000000\" font-family=\"sans-serif\" font-size=\"13\" lengthAdjust=\"spacingAndGlyphs\" textLength=\"8\" x=\"67.9351\" y=\"347.7612\">1</text></a><!--MD5=[3afbdc645381407e1bc99677323a2513]\n",
       "link E14 to E15--><a href=\"psysml:1d4c99f1-723b-47e9-b0a9-a2cf4f06711c\" target=\"_top\" title=\"psysml:1d4c99f1-723b-47e9-b0a9-a2cf4f06711c\" xlink:actuate=\"onRequest\" xlink:href=\"psysml:1d4c99f1-723b-47e9-b0a9-a2cf4f06711c\" xlink:show=\"new\" xlink:title=\"psysml:1d4c99f1-723b-47e9-b0a9-a2cf4f06711c\" xlink:type=\"simple\"><path d=\"M79.35,299.06 C76.55,316.7 76.55,341.34 79.36,358.98 \" fill=\"none\" id=\"E14-E15\" style=\"stroke: #383838; stroke-width: 3.0;\"/></a><!--MD5=[3afbdc645381407e1bc99677323a2513]\n",
       "link E14 to E15--><a href=\"psysml:99ef5f64-108a-4414-ad16-a52f47db38b7\" target=\"_top\" title=\"psysml:99ef5f64-108a-4414-ad16-a52f47db38b7\" xlink:actuate=\"onRequest\" xlink:href=\"psysml:99ef5f64-108a-4414-ad16-a52f47db38b7\" xlink:show=\"new\" xlink:title=\"psysml:99ef5f64-108a-4414-ad16-a52f47db38b7\" xlink:type=\"simple\"><path d=\"M101.27,299.06 C104.24,316.7 104.24,341.34 101.27,358.98 \" fill=\"none\" id=\"E14-E15-1\" style=\"stroke: #383838; stroke-width: 3.0;\"/></a><!--MD5=[42f44c39f5e71124ec23f59f5d547449]\n",
       "@startuml\r\n",
       "skinparam linetype polyline\r\n",
       "skinparam monochrome true\r\n",
       "skinparam classbackgroundcolor white\r\n",
       "skinparam shadowing false\r\n",
       "skinparam wrapWidth 300\r\n",
       "hide circle\r\n",
       "\r\n",
       "package \"ConjugationTest\" as E1  [[psysml:62f2acf4-862e-4777-8380-6adbdab8aa3b ]]  {\r\n",
       "comp def \"P\" as E2  <<(T,blue) port  def>> [[psysml:8038ba5e-65f3-4a7c-a5d9-05577a1e913e ]] {\r\n",
       "}\r\n",
       "comp def \"B\" as E3  <<(T,blue) part  def>> [[psysml:eb00d253-98ff-4ea5-9d4b-40f483d849ec ]] {\r\n",
       "}\r\n",
       "comp usage \"p1: P \" as E4  <<(T,blue) port>> [[psysml:bd11b2df-eb92-4507-bbbb-c6493b57fcfa ]] {\r\n",
       "}\r\n",
       "comp usage \"p2: ~P \" as E5  <<(T,blue) port>> [[psysml:0cbe2724-4b46-4325-902f-a8a483156696 ]] {\r\n",
       "}\r\n",
       "comp def \"A\" as E6  <<(T,blue) connection  def>> [[psysml:c9adf55d-1d58-41e7-9c8f-305f1a380a4f ]] {\r\n",
       "}\r\n",
       "comp usage \"p1: P \" as E7  <<(T,blue) port>> [[psysml:62009ff7-c341-4e72-a056-ce92de09505b ]] {\r\n",
       "}\r\n",
       "comp usage \"p2: ~P \" as E8  <<(T,blue) port>> [[psysml:50db7d15-a467-4fc6-8fb9-d943e9708b48 ]] {\r\n",
       "}\r\n",
       "comp def \"I\" as E9  <<(T,blue) interface  def>> [[psysml:909b1fdd-cad7-4fe7-8f0f-a5ae3fa3dd03 ]] {\r\n",
       "}\r\n",
       "comp usage \"p1: P \" as E10  <<(T,blue) port>> [[psysml:4b05cf72-e027-47da-9c90-b867da4c93e0 ]] {\r\n",
       "}\r\n",
       "comp usage \"p2: ~P \" as E11  <<(T,blue) port>> [[psysml:0c24ab80-75a0-44e9-976a-962e4e9af685 ]] {\r\n",
       "}\r\n",
       "comp def \"B1\" as E12  <<(T,blue) part  def>> [[psysml:c2ec72d4-85fe-4c8d-a549-b327df7a4c85 ]] {\r\n",
       "}\r\n",
       "comp usage \"p \" as E13  <<(T,blue) part>> [[psysml:bf56b714-b103-43c5-844a-64ae22bea297 ]] {\r\n",
       "}\r\n",
       "comp usage \"p1: P \" as E14  <<(T,blue) port>> [[psysml:b5c2279c-6642-492b-a6cf-19efab06e689 ]] {\r\n",
       "}\r\n",
       "comp usage \"p2: ~P \" as E15  <<(T,blue) port>> [[psysml:ed6b3600-9f65-4ffd-a058-1200daf10699 ]] {\r\n",
       "}\r\n",
       "}\r\n",
       "E3 o- - \"1\"E4 [[psysml:301fc48c-20ce-4bfe-ac1d-96f5db6094d0 ]] \r\n",
       "E4 - -:|> E2 [[psysml:2658e44c-8270-4dd2-9600-daf649b69d41 ]] \r\n",
       "E3 o- - \"1\"E5 [[psysml:223fd842-0df9-4bd0-ad12-80c4696f3c55 ]] \r\n",
       "E6 o- - \"1\"E7 [[psysml:21746d6a-6182-4390-ad27-ac5c9b62bfbf ]] \r\n",
       "E7 - -:|> E2 [[psysml:ac292376-6896-4173-b580-fb46e7ca2b11 ]] \r\n",
       "E6 o- - \"1\"E8 [[psysml:0a911d69-2e8c-46c6-ac57-f08740e1c2a7 ]] \r\n",
       "E9 o- - \"1\"E10 [[psysml:7a6ef9a5-ee54-4bad-bee0-b6cd150b3ba6 ]] \r\n",
       "E10 - -:|> E2 [[psysml:1b1dbb40-b684-43d5-9e90-095d8f580599 ]] \r\n",
       "E9 o- - \"1\"E11 [[psysml:26e0bda0-b5f1-463e-8de4-6289f85dc961 ]] \r\n",
       "E12 *- - \"1\"E13 [[psysml:b5605e58-b315-4dd3-8e84-581a703b4e2b ]] \r\n",
       "E13 o- - \"1\"E14 [[psysml:db42b499-220f-4c1a-8731-eb36b8c82e1e ]] \r\n",
       "E14 - -:|> E2 [[psysml:7155c58b-23e7-41d9-a472-3863cff0084f ]] \r\n",
       "E13 o- - \"1\"E15 [[psysml:2699a371-802b-44a3-9d88-da30e2130afc ]] \r\n",
       "E14 -[thickness=3]- E15 [[psysml:1d4c99f1-723b-47e9-b0a9-a2cf4f06711c ]] \r\n",
       "E14 -[thickness=3]- E15 [[psysml:99ef5f64-108a-4414-ad16-a52f47db38b7 ]] \r\n",
       "@enduml\r\n",
       "\n",
       "PlantUML version 1.2020.13(Sat Jun 13 12:26:38 UTC 2020)\n",
       "(EPL source distribution)\n",
       "Java Runtime: OpenJDK Runtime Environment\n",
       "JVM: OpenJDK 64-Bit Server VM\n",
       "Default Encoding: UTF-8\n",
       "Language: en\n",
       "Country: null\n",
       "--></g></svg>"
      ]
     },
     "execution_count": 15,
     "metadata": {},
     "output_type": "execute_result"
    }
   ],
   "source": [
    "%viz --style=\"POLYLINE\" --view=\"MIXED\" \"ConjugationTest\""
   ]
  },
  {
   "cell_type": "code",
   "execution_count": 16,
   "id": "5cf3793f",
   "metadata": {
    "execution": {
     "iopub.execute_input": "2022-02-18T10:47:45.305907Z",
     "iopub.status.busy": "2022-02-18T10:47:45.305499Z",
     "iopub.status.idle": "2022-02-18T10:47:45.367551Z",
     "shell.execute_reply": "2022-02-18T10:47:45.367184Z"
    }
   },
   "outputs": [
    {
     "data": {
      "image/svg+xml": [
       "<?xml version=\"1.0\" encoding=\"UTF-8\" standalone=\"no\"?><svg xmlns=\"http://www.w3.org/2000/svg\" xmlns:xlink=\"http://www.w3.org/1999/xlink\" contentScriptType=\"application/ecmascript\" contentStyleType=\"text/css\" height=\"638px\" preserveAspectRatio=\"none\" style=\"width:556px;height:638px;\" version=\"1.1\" viewBox=\"0 0 556 638\" width=\"556px\" zoomAndPan=\"magnify\"><defs/><g><!--MD5=[fbc87193dbaf4d95561dea2c320d4a47]\n",
       "cluster E1--><a href=\"psysml:62f2acf4-862e-4777-8380-6adbdab8aa3b\" target=\"_top\" title=\"psysml:62f2acf4-862e-4777-8380-6adbdab8aa3b\" xlink:actuate=\"onRequest\" xlink:href=\"psysml:62f2acf4-862e-4777-8380-6adbdab8aa3b\" xlink:show=\"new\" xlink:title=\"psysml:62f2acf4-862e-4777-8380-6adbdab8aa3b\" xlink:type=\"simple\"><polygon fill=\"#FFFFFF\" points=\"16,6,136,6,143,28.2969,534,28.2969,534,626,16,626,16,6\" style=\"stroke: #000000; stroke-width: 1.5;\"/><line style=\"stroke: #000000; stroke-width: 1.5;\" x1=\"16\" x2=\"143\" y1=\"28.2969\" y2=\"28.2969\"/><text fill=\"#000000\" font-family=\"sans-serif\" font-size=\"14\" font-weight=\"bold\" lengthAdjust=\"spacingAndGlyphs\" textLength=\"114\" x=\"20\" y=\"20.9951\">ConjugationTest</text></a><!--MD5=[b4997ac47864f28c2f74865a473b2911]\n",
       "class E2--><a href=\"psysml:8038ba5e-65f3-4a7c-a5d9-05577a1e913e\" target=\"_top\" title=\"psysml:8038ba5e-65f3-4a7c-a5d9-05577a1e913e\" xlink:actuate=\"onRequest\" xlink:href=\"psysml:8038ba5e-65f3-4a7c-a5d9-05577a1e913e\" xlink:show=\"new\" xlink:title=\"psysml:8038ba5e-65f3-4a7c-a5d9-05577a1e913e\" xlink:type=\"simple\"><rect fill=\"#FFFFFF\" height=\"45.9375\" id=\"E2\" style=\"stroke: #383838; stroke-width: 1.5;\" width=\"70\" x=\"448\" y=\"365\"/><text fill=\"#000000\" font-family=\"sans-serif\" font-size=\"12\" font-style=\"italic\" lengthAdjust=\"spacingAndGlyphs\" textLength=\"68\" x=\"449\" y=\"381.1387\">«port  def»</text><text fill=\"#000000\" font-family=\"sans-serif\" font-size=\"12\" lengthAdjust=\"spacingAndGlyphs\" textLength=\"8\" x=\"479\" y=\"395.1074\">P</text><line style=\"stroke: #383838; stroke-width: 1.5;\" x1=\"449\" x2=\"517\" y1=\"402.9375\" y2=\"402.9375\"/></a><!--MD5=[09b614a08d8cba4a07c9adeb5e0fee81]\n",
       "class E3--><a href=\"psysml:eb00d253-98ff-4ea5-9d4b-40f483d849ec\" target=\"_top\" title=\"psysml:eb00d253-98ff-4ea5-9d4b-40f483d849ec\" xlink:actuate=\"onRequest\" xlink:href=\"psysml:eb00d253-98ff-4ea5-9d4b-40f483d849ec\" xlink:show=\"new\" xlink:title=\"psysml:eb00d253-98ff-4ea5-9d4b-40f483d849ec\" xlink:type=\"simple\"><rect fill=\"#FFFFFF\" height=\"45.9375\" id=\"E3\" style=\"stroke: #383838; stroke-width: 1.5;\" width=\"70\" x=\"184\" y=\"82\"/><text fill=\"#000000\" font-family=\"sans-serif\" font-size=\"12\" font-style=\"italic\" lengthAdjust=\"spacingAndGlyphs\" textLength=\"68\" x=\"185\" y=\"98.1387\">«part  def»</text><text fill=\"#000000\" font-family=\"sans-serif\" font-size=\"12\" lengthAdjust=\"spacingAndGlyphs\" textLength=\"8\" x=\"215\" y=\"112.1074\">B</text><line style=\"stroke: #383838; stroke-width: 1.5;\" x1=\"185\" x2=\"253\" y1=\"119.9375\" y2=\"119.9375\"/></a><!--MD5=[ebbe1d658d1005bcc118a6aa81145e00]\n",
       "class E4--><a href=\"psysml:bd11b2df-eb92-4507-bbbb-c6493b57fcfa\" target=\"_top\" title=\"psysml:bd11b2df-eb92-4507-bbbb-c6493b57fcfa\" xlink:actuate=\"onRequest\" xlink:href=\"psysml:bd11b2df-eb92-4507-bbbb-c6493b57fcfa\" xlink:show=\"new\" xlink:title=\"psysml:bd11b2df-eb92-4507-bbbb-c6493b57fcfa\" xlink:type=\"simple\"><rect fill=\"#FFFFFF\" height=\"45.9375\" id=\"E4\" rx=\"10\" ry=\"10\" style=\"stroke: #383838; stroke-width: 1.5;\" width=\"42\" x=\"341\" y=\"122\"/><text fill=\"#000000\" font-family=\"sans-serif\" font-size=\"12\" font-style=\"italic\" lengthAdjust=\"spacingAndGlyphs\" textLength=\"40\" x=\"342\" y=\"138.1387\">«port»</text><text fill=\"#000000\" font-family=\"sans-serif\" font-size=\"12\" lengthAdjust=\"spacingAndGlyphs\" textLength=\"32\" x=\"344\" y=\"152.1074\">p1: P</text><line style=\"stroke: #383838; stroke-width: 1.5;\" x1=\"342\" x2=\"382\" y1=\"159.9375\" y2=\"159.9375\"/></a><!--MD5=[270fce915f116d4de14055a7c1d9a0f3]\n",
       "class E5--><a href=\"psysml:0cbe2724-4b46-4325-902f-a8a483156696\" target=\"_top\" title=\"psysml:0cbe2724-4b46-4325-902f-a8a483156696\" xlink:actuate=\"onRequest\" xlink:href=\"psysml:0cbe2724-4b46-4325-902f-a8a483156696\" xlink:show=\"new\" xlink:title=\"psysml:0cbe2724-4b46-4325-902f-a8a483156696\" xlink:type=\"simple\"><rect fill=\"#FFFFFF\" height=\"45.9375\" id=\"E5\" rx=\"10\" ry=\"10\" style=\"stroke: #383838; stroke-width: 1.5;\" width=\"52\" x=\"336\" y=\"41\"/><text fill=\"#000000\" font-family=\"sans-serif\" font-size=\"12\" font-style=\"italic\" lengthAdjust=\"spacingAndGlyphs\" textLength=\"40\" x=\"342\" y=\"57.1387\">«port»</text><text fill=\"#000000\" font-family=\"sans-serif\" font-size=\"12\" lengthAdjust=\"spacingAndGlyphs\" textLength=\"42\" x=\"339\" y=\"71.1074\">p2: ~P</text><line style=\"stroke: #383838; stroke-width: 1.5;\" x1=\"337\" x2=\"387\" y1=\"78.9375\" y2=\"78.9375\"/></a><!--MD5=[60a26617385b1d2d0262a64233df1f8d]\n",
       "class E6--><a href=\"psysml:c9adf55d-1d58-41e7-9c8f-305f1a380a4f\" target=\"_top\" title=\"psysml:c9adf55d-1d58-41e7-9c8f-305f1a380a4f\" xlink:actuate=\"onRequest\" xlink:href=\"psysml:c9adf55d-1d58-41e7-9c8f-305f1a380a4f\" xlink:show=\"new\" xlink:title=\"psysml:c9adf55d-1d58-41e7-9c8f-305f1a380a4f\" xlink:type=\"simple\"><rect fill=\"#FFFFFF\" height=\"45.9375\" id=\"E6\" style=\"stroke: #383838; stroke-width: 1.5;\" width=\"114\" x=\"162\" y=\"244\"/><text fill=\"#000000\" font-family=\"sans-serif\" font-size=\"12\" font-style=\"italic\" lengthAdjust=\"spacingAndGlyphs\" textLength=\"112\" x=\"163\" y=\"260.1387\">«connection  def»</text><text fill=\"#000000\" font-family=\"sans-serif\" font-size=\"12\" lengthAdjust=\"spacingAndGlyphs\" textLength=\"8\" x=\"215\" y=\"274.1074\">A</text><line style=\"stroke: #383838; stroke-width: 1.5;\" x1=\"163\" x2=\"275\" y1=\"281.9375\" y2=\"281.9375\"/></a><!--MD5=[2156ba9850f5573cc1fc38a6a4b2f02b]\n",
       "class E7--><a href=\"psysml:62009ff7-c341-4e72-a056-ce92de09505b\" target=\"_top\" title=\"psysml:62009ff7-c341-4e72-a056-ce92de09505b\" xlink:actuate=\"onRequest\" xlink:href=\"psysml:62009ff7-c341-4e72-a056-ce92de09505b\" xlink:show=\"new\" xlink:title=\"psysml:62009ff7-c341-4e72-a056-ce92de09505b\" xlink:type=\"simple\"><rect fill=\"#FFFFFF\" height=\"45.9375\" id=\"E7\" rx=\"10\" ry=\"10\" style=\"stroke: #383838; stroke-width: 1.5;\" width=\"42\" x=\"341\" y=\"284\"/><text fill=\"#000000\" font-family=\"sans-serif\" font-size=\"12\" font-style=\"italic\" lengthAdjust=\"spacingAndGlyphs\" textLength=\"40\" x=\"342\" y=\"300.1387\">«port»</text><text fill=\"#000000\" font-family=\"sans-serif\" font-size=\"12\" lengthAdjust=\"spacingAndGlyphs\" textLength=\"32\" x=\"344\" y=\"314.1074\">p1: P</text><line style=\"stroke: #383838; stroke-width: 1.5;\" x1=\"342\" x2=\"382\" y1=\"321.9375\" y2=\"321.9375\"/></a><!--MD5=[b9389687b975829384b498ac4b7476b2]\n",
       "class E8--><a href=\"psysml:50db7d15-a467-4fc6-8fb9-d943e9708b48\" target=\"_top\" title=\"psysml:50db7d15-a467-4fc6-8fb9-d943e9708b48\" xlink:actuate=\"onRequest\" xlink:href=\"psysml:50db7d15-a467-4fc6-8fb9-d943e9708b48\" xlink:show=\"new\" xlink:title=\"psysml:50db7d15-a467-4fc6-8fb9-d943e9708b48\" xlink:type=\"simple\"><rect fill=\"#FFFFFF\" height=\"45.9375\" id=\"E8\" rx=\"10\" ry=\"10\" style=\"stroke: #383838; stroke-width: 1.5;\" width=\"52\" x=\"336\" y=\"203\"/><text fill=\"#000000\" font-family=\"sans-serif\" font-size=\"12\" font-style=\"italic\" lengthAdjust=\"spacingAndGlyphs\" textLength=\"40\" x=\"342\" y=\"219.1387\">«port»</text><text fill=\"#000000\" font-family=\"sans-serif\" font-size=\"12\" lengthAdjust=\"spacingAndGlyphs\" textLength=\"42\" x=\"339\" y=\"233.1074\">p2: ~P</text><line style=\"stroke: #383838; stroke-width: 1.5;\" x1=\"337\" x2=\"387\" y1=\"240.9375\" y2=\"240.9375\"/></a><!--MD5=[fd4143e9d270a159db93a4ea2a975926]\n",
       "class E9--><a href=\"psysml:909b1fdd-cad7-4fe7-8f0f-a5ae3fa3dd03\" target=\"_top\" title=\"psysml:909b1fdd-cad7-4fe7-8f0f-a5ae3fa3dd03\" xlink:actuate=\"onRequest\" xlink:href=\"psysml:909b1fdd-cad7-4fe7-8f0f-a5ae3fa3dd03\" xlink:show=\"new\" xlink:title=\"psysml:909b1fdd-cad7-4fe7-8f0f-a5ae3fa3dd03\" xlink:type=\"simple\"><rect fill=\"#FFFFFF\" height=\"45.9375\" id=\"E9\" style=\"stroke: #383838; stroke-width: 1.5;\" width=\"100\" x=\"169\" y=\"406\"/><text fill=\"#000000\" font-family=\"sans-serif\" font-size=\"12\" font-style=\"italic\" lengthAdjust=\"spacingAndGlyphs\" textLength=\"98\" x=\"170\" y=\"422.1387\">«interface  def»</text><text fill=\"#000000\" font-family=\"sans-serif\" font-size=\"12\" lengthAdjust=\"spacingAndGlyphs\" textLength=\"3\" x=\"217.5\" y=\"436.1074\">I</text><line style=\"stroke: #383838; stroke-width: 1.5;\" x1=\"170\" x2=\"268\" y1=\"443.9375\" y2=\"443.9375\"/></a><!--MD5=[96f4274e9e20536e775497830990834d]\n",
       "class E10--><a href=\"psysml:4b05cf72-e027-47da-9c90-b867da4c93e0\" target=\"_top\" title=\"psysml:4b05cf72-e027-47da-9c90-b867da4c93e0\" xlink:actuate=\"onRequest\" xlink:href=\"psysml:4b05cf72-e027-47da-9c90-b867da4c93e0\" xlink:show=\"new\" xlink:title=\"psysml:4b05cf72-e027-47da-9c90-b867da4c93e0\" xlink:type=\"simple\"><rect fill=\"#FFFFFF\" height=\"45.9375\" id=\"E10\" rx=\"10\" ry=\"10\" style=\"stroke: #383838; stroke-width: 1.5;\" width=\"42\" x=\"341\" y=\"446\"/><text fill=\"#000000\" font-family=\"sans-serif\" font-size=\"12\" font-style=\"italic\" lengthAdjust=\"spacingAndGlyphs\" textLength=\"40\" x=\"342\" y=\"462.1387\">«port»</text><text fill=\"#000000\" font-family=\"sans-serif\" font-size=\"12\" lengthAdjust=\"spacingAndGlyphs\" textLength=\"32\" x=\"344\" y=\"476.1074\">p1: P</text><line style=\"stroke: #383838; stroke-width: 1.5;\" x1=\"342\" x2=\"382\" y1=\"483.9375\" y2=\"483.9375\"/></a><!--MD5=[1dd1bfd58a279cf63c5f349dbc8fc6a1]\n",
       "class E11--><a href=\"psysml:0c24ab80-75a0-44e9-976a-962e4e9af685\" target=\"_top\" title=\"psysml:0c24ab80-75a0-44e9-976a-962e4e9af685\" xlink:actuate=\"onRequest\" xlink:href=\"psysml:0c24ab80-75a0-44e9-976a-962e4e9af685\" xlink:show=\"new\" xlink:title=\"psysml:0c24ab80-75a0-44e9-976a-962e4e9af685\" xlink:type=\"simple\"><rect fill=\"#FFFFFF\" height=\"45.9375\" id=\"E11\" rx=\"10\" ry=\"10\" style=\"stroke: #383838; stroke-width: 1.5;\" width=\"52\" x=\"336\" y=\"365\"/><text fill=\"#000000\" font-family=\"sans-serif\" font-size=\"12\" font-style=\"italic\" lengthAdjust=\"spacingAndGlyphs\" textLength=\"40\" x=\"342\" y=\"381.1387\">«port»</text><text fill=\"#000000\" font-family=\"sans-serif\" font-size=\"12\" lengthAdjust=\"spacingAndGlyphs\" textLength=\"42\" x=\"339\" y=\"395.1074\">p2: ~P</text><line style=\"stroke: #383838; stroke-width: 1.5;\" x1=\"337\" x2=\"387\" y1=\"402.9375\" y2=\"402.9375\"/></a><!--MD5=[49a0ec8f00dab7302a31f22d0f0fe584]\n",
       "class E12--><a href=\"psysml:c2ec72d4-85fe-4c8d-a549-b327df7a4c85\" target=\"_top\" title=\"psysml:c2ec72d4-85fe-4c8d-a549-b327df7a4c85\" xlink:actuate=\"onRequest\" xlink:href=\"psysml:c2ec72d4-85fe-4c8d-a549-b327df7a4c85\" xlink:show=\"new\" xlink:title=\"psysml:c2ec72d4-85fe-4c8d-a549-b327df7a4c85\" xlink:type=\"simple\"><rect fill=\"#FFFFFF\" height=\"45.9375\" id=\"E12\" style=\"stroke: #383838; stroke-width: 1.5;\" width=\"70\" x=\"32\" y=\"546\"/><text fill=\"#000000\" font-family=\"sans-serif\" font-size=\"12\" font-style=\"italic\" lengthAdjust=\"spacingAndGlyphs\" textLength=\"68\" x=\"33\" y=\"562.1387\">«part  def»</text><text fill=\"#000000\" font-family=\"sans-serif\" font-size=\"12\" lengthAdjust=\"spacingAndGlyphs\" textLength=\"16\" x=\"59\" y=\"576.1074\">B1</text><line style=\"stroke: #383838; stroke-width: 1.5;\" x1=\"33\" x2=\"101\" y1=\"583.9375\" y2=\"583.9375\"/></a><!--MD5=[ee3c913d1a06f366521f9ef512b67efe]\n",
       "class E13--><a href=\"psysml:bf56b714-b103-43c5-844a-64ae22bea297\" target=\"_top\" title=\"psysml:bf56b714-b103-43c5-844a-64ae22bea297\" xlink:actuate=\"onRequest\" xlink:href=\"psysml:bf56b714-b103-43c5-844a-64ae22bea297\" xlink:show=\"new\" xlink:title=\"psysml:bf56b714-b103-43c5-844a-64ae22bea297\" xlink:type=\"simple\"><rect fill=\"#FFFFFF\" height=\"45.9375\" id=\"E13\" rx=\"10\" ry=\"10\" style=\"stroke: #383838; stroke-width: 1.5;\" width=\"42\" x=\"198\" y=\"546\"/><text fill=\"#000000\" font-family=\"sans-serif\" font-size=\"12\" font-style=\"italic\" lengthAdjust=\"spacingAndGlyphs\" textLength=\"40\" x=\"199\" y=\"562.1387\">«part»</text><text fill=\"#000000\" font-family=\"sans-serif\" font-size=\"12\" lengthAdjust=\"spacingAndGlyphs\" textLength=\"8\" x=\"213\" y=\"576.1074\">p</text><line style=\"stroke: #383838; stroke-width: 1.5;\" x1=\"199\" x2=\"239\" y1=\"583.9375\" y2=\"583.9375\"/></a><!--MD5=[bee11217b2f71d958a27249dc326068c]\n",
       "class E14--><a href=\"psysml:b5c2279c-6642-492b-a6cf-19efab06e689\" target=\"_top\" title=\"psysml:b5c2279c-6642-492b-a6cf-19efab06e689\" xlink:actuate=\"onRequest\" xlink:href=\"psysml:b5c2279c-6642-492b-a6cf-19efab06e689\" xlink:show=\"new\" xlink:title=\"psysml:b5c2279c-6642-492b-a6cf-19efab06e689\" xlink:type=\"simple\"><rect fill=\"#FFFFFF\" height=\"45.9375\" id=\"E14\" rx=\"10\" ry=\"10\" style=\"stroke: #383838; stroke-width: 1.5;\" width=\"42\" x=\"341\" y=\"527\"/><text fill=\"#000000\" font-family=\"sans-serif\" font-size=\"12\" font-style=\"italic\" lengthAdjust=\"spacingAndGlyphs\" textLength=\"40\" x=\"342\" y=\"543.1387\">«port»</text><text fill=\"#000000\" font-family=\"sans-serif\" font-size=\"12\" lengthAdjust=\"spacingAndGlyphs\" textLength=\"32\" x=\"344\" y=\"557.1074\">p1: P</text><line style=\"stroke: #383838; stroke-width: 1.5;\" x1=\"342\" x2=\"382\" y1=\"564.9375\" y2=\"564.9375\"/></a><!--MD5=[0c48fb7552dae8cbbef69381101a84c8]\n",
       "class E15--><a href=\"psysml:ed6b3600-9f65-4ffd-a058-1200daf10699\" target=\"_top\" title=\"psysml:ed6b3600-9f65-4ffd-a058-1200daf10699\" xlink:actuate=\"onRequest\" xlink:href=\"psysml:ed6b3600-9f65-4ffd-a058-1200daf10699\" xlink:show=\"new\" xlink:title=\"psysml:ed6b3600-9f65-4ffd-a058-1200daf10699\" xlink:type=\"simple\"><rect fill=\"#FFFFFF\" height=\"45.9375\" id=\"E15\" rx=\"10\" ry=\"10\" style=\"stroke: #383838; stroke-width: 1.5;\" width=\"52\" x=\"457\" y=\"527\"/><text fill=\"#000000\" font-family=\"sans-serif\" font-size=\"12\" font-style=\"italic\" lengthAdjust=\"spacingAndGlyphs\" textLength=\"40\" x=\"463\" y=\"543.1387\">«port»</text><text fill=\"#000000\" font-family=\"sans-serif\" font-size=\"12\" lengthAdjust=\"spacingAndGlyphs\" textLength=\"42\" x=\"460\" y=\"557.1074\">p2: ~P</text><line style=\"stroke: #383838; stroke-width: 1.5;\" x1=\"458\" x2=\"508\" y1=\"564.9375\" y2=\"564.9375\"/></a><!--MD5=[4672eba38e49728da53d11aeb285b987]\n",
       "reverse link E3 to E4--><a href=\"psysml:301fc48c-20ce-4bfe-ac1d-96f5db6094d0\" target=\"_top\" title=\"psysml:301fc48c-20ce-4bfe-ac1d-96f5db6094d0\" xlink:actuate=\"onRequest\" xlink:href=\"psysml:301fc48c-20ce-4bfe-ac1d-96f5db6094d0\" xlink:show=\"new\" xlink:title=\"psysml:301fc48c-20ce-4bfe-ac1d-96f5db6094d0\" xlink:type=\"simple\"><path d=\"M266.75,118.26 C291.83,125.38 321.45,133.78 340.69,139.24 \" fill=\"none\" id=\"E3&lt;-E4\" style=\"stroke: #383838; stroke-width: 1.0;\"/><polygon fill=\"#FFFFFF\" points=\"254.13,114.68,258.8135,120.1631,265.6762,117.9488,260.9927,112.4657,254.13,114.68\" style=\"stroke: #383838; stroke-width: 1.0;\"/><text fill=\"#000000\" font-family=\"sans-serif\" font-size=\"13\" lengthAdjust=\"spacingAndGlyphs\" textLength=\"8\" x=\"324.9388\" y=\"151.8697\">1</text></a><!--MD5=[185131fc0dcab0a4505a2ebe144e961b]\n",
       "link E4 to E2--><a href=\"psysml:2658e44c-8270-4dd2-9600-daf649b69d41\" target=\"_top\" title=\"psysml:2658e44c-8270-4dd2-9600-daf649b69d41\" xlink:actuate=\"onRequest\" xlink:href=\"psysml:2658e44c-8270-4dd2-9600-daf649b69d41\" xlink:show=\"new\" xlink:title=\"psysml:2658e44c-8270-4dd2-9600-daf649b69d41\" xlink:type=\"simple\"><path d=\"M378.3,168.4 C381.63,173.78 385.04,179.53 388,185 C417.41,239.32 446.56,304.51 464.42,346.08 \" fill=\"none\" id=\"E4-&gt;E2\" style=\"stroke: #383838; stroke-width: 1.0;\"/><polygon fill=\"#FFFFFF\" points=\"472.34,364.71,458.4602,349.9672,471.3427,344.4861,472.34,364.71\" style=\"stroke: #383838; stroke-width: 1.0;\"/><ellipse cx=\"458.069\" cy=\"343.9392\" fill=\"#383838\" rx=\"2\" ry=\"2\" style=\"stroke: #383838; stroke-width: 1.0;\"/><ellipse cx=\"467.2707\" cy=\"340.0241\" fill=\"#383838\" rx=\"2\" ry=\"2\" style=\"stroke: #383838; stroke-width: 1.0;\"/></a><!--MD5=[191cde3d490a3f6d7bb551fe3ddca469]\n",
       "reverse link E3 to E5--><a href=\"psysml:223fd842-0df9-4bd0-ad12-80c4696f3c55\" target=\"_top\" title=\"psysml:223fd842-0df9-4bd0-ad12-80c4696f3c55\" xlink:actuate=\"onRequest\" xlink:href=\"psysml:223fd842-0df9-4bd0-ad12-80c4696f3c55\" xlink:show=\"new\" xlink:title=\"psysml:223fd842-0df9-4bd0-ad12-80c4696f3c55\" xlink:type=\"simple\"><path d=\"M266.77,91.4 C289.71,84.73 316.46,76.95 335.58,71.39 \" fill=\"none\" id=\"E3&lt;-E5\" style=\"stroke: #383838; stroke-width: 1.0;\"/><polygon fill=\"#FFFFFF\" points=\"254.13,95.08,261.0109,97.2373,265.6487,91.7154,258.7678,89.5582,254.13,95.08\" style=\"stroke: #383838; stroke-width: 1.0;\"/><text fill=\"#000000\" font-family=\"sans-serif\" font-size=\"13\" lengthAdjust=\"spacingAndGlyphs\" textLength=\"8\" x=\"320.1651\" y=\"87.1101\">1</text></a><!--MD5=[3f50a3473f1dfb74d3f76443e03635af]\n",
       "reverse link E6 to E7--><a href=\"psysml:21746d6a-6182-4390-ad27-ac5c9b62bfbf\" target=\"_top\" title=\"psysml:21746d6a-6182-4390-ad27-ac5c9b62bfbf\" xlink:actuate=\"onRequest\" xlink:href=\"psysml:21746d6a-6182-4390-ad27-ac5c9b62bfbf\" xlink:show=\"new\" xlink:title=\"psysml:21746d6a-6182-4390-ad27-ac5c9b62bfbf\" xlink:type=\"simple\"><path d=\"M288.89,286.54 C307.92,291.94 327.12,297.39 340.91,301.3 \" fill=\"none\" id=\"E6&lt;-E7\" style=\"stroke: #383838; stroke-width: 1.0;\"/><polygon fill=\"#FFFFFF\" points=\"276.13,282.92,280.8135,288.4031,287.6762,286.1888,282.9927,280.7057,276.13,282.92\" style=\"stroke: #383838; stroke-width: 1.0;\"/><text fill=\"#000000\" font-family=\"sans-serif\" font-size=\"13\" lengthAdjust=\"spacingAndGlyphs\" textLength=\"8\" x=\"324.9126\" y=\"313.9718\">1</text></a><!--MD5=[583832df87f4419a098336a29a52fa00]\n",
       "link E7 to E2--><a href=\"psysml:ac292376-6896-4173-b580-fb46e7ca2b11\" target=\"_top\" title=\"psysml:ac292376-6896-4173-b580-fb46e7ca2b11\" xlink:actuate=\"onRequest\" xlink:href=\"psysml:ac292376-6896-4173-b580-fb46e7ca2b11\" xlink:show=\"new\" xlink:title=\"psysml:ac292376-6896-4173-b580-fb46e7ca2b11\" xlink:type=\"simple\"><path d=\"M383.19,320.74 C396.45,329.77 414.42,342 431.4,353.56 \" fill=\"none\" id=\"E7-&gt;E2\" style=\"stroke: #383838; stroke-width: 1.0;\"/><polygon fill=\"#FFFFFF\" points=\"448.17,364.97,428.5238,360.0681,436.4,348.4937,448.17,364.97\" style=\"stroke: #383838; stroke-width: 1.0;\"/><ellipse cx=\"424.9366\" cy=\"355.2079\" fill=\"#383838\" rx=\"2\" ry=\"2\" style=\"stroke: #383838; stroke-width: 1.0;\"/><ellipse cx=\"430.5624\" cy=\"346.9405\" fill=\"#383838\" rx=\"2\" ry=\"2\" style=\"stroke: #383838; stroke-width: 1.0;\"/></a><!--MD5=[f4cf0736d43fd73c4ef68817c49d37d5]\n",
       "reverse link E6 to E8--><a href=\"psysml:0a911d69-2e8c-46c6-ac57-f08740e1c2a7\" target=\"_top\" title=\"psysml:0a911d69-2e8c-46c6-ac57-f08740e1c2a7\" xlink:actuate=\"onRequest\" xlink:href=\"psysml:0a911d69-2e8c-46c6-ac57-f08740e1c2a7\" xlink:show=\"new\" xlink:title=\"psysml:0a911d69-2e8c-46c6-ac57-f08740e1c2a7\" xlink:type=\"simple\"><path d=\"M288.92,246.96 C305.75,242.06 322.71,237.13 335.94,233.29 \" fill=\"none\" id=\"E6&lt;-E8\" style=\"stroke: #383838; stroke-width: 1.0;\"/><polygon fill=\"#FFFFFF\" points=\"276.13,250.68,283.0102,252.8394,287.6497,247.319,280.7695,245.1596,276.13,250.68\" style=\"stroke: #383838; stroke-width: 1.0;\"/><text fill=\"#000000\" font-family=\"sans-serif\" font-size=\"13\" lengthAdjust=\"spacingAndGlyphs\" textLength=\"8\" x=\"319.8614\" y=\"249.358\">1</text></a><!--MD5=[23ac544a70576c3e717098101004234c]\n",
       "reverse link E9 to E10--><a href=\"psysml:7a6ef9a5-ee54-4bad-bee0-b6cd150b3ba6\" target=\"_top\" title=\"psysml:7a6ef9a5-ee54-4bad-bee0-b6cd150b3ba6\" xlink:actuate=\"onRequest\" xlink:href=\"psysml:7a6ef9a5-ee54-4bad-bee0-b6cd150b3ba6\" xlink:show=\"new\" xlink:title=\"psysml:7a6ef9a5-ee54-4bad-bee0-b6cd150b3ba6\" xlink:type=\"simple\"><path d=\"M281.98,446.58 C303.2,452.6 325.47,458.92 340.94,463.31 \" fill=\"none\" id=\"E9&lt;-E10\" style=\"stroke: #383838; stroke-width: 1.0;\"/><polygon fill=\"#FFFFFF\" points=\"269.31,442.99,273.9935,448.4731,280.8562,446.2588,276.1727,440.7757,269.31,442.99\" style=\"stroke: #383838; stroke-width: 1.0;\"/><text fill=\"#000000\" font-family=\"sans-serif\" font-size=\"13\" lengthAdjust=\"spacingAndGlyphs\" textLength=\"8\" x=\"324.9521\" y=\"475.985\">1</text></a><!--MD5=[0f36bececdf0dff6e600d6f64214b0f1]\n",
       "link E10 to E2--><a href=\"psysml:1b1dbb40-b684-43d5-9e90-095d8f580599\" target=\"_top\" title=\"psysml:1b1dbb40-b684-43d5-9e90-095d8f580599\" xlink:actuate=\"onRequest\" xlink:href=\"psysml:1b1dbb40-b684-43d5-9e90-095d8f580599\" xlink:show=\"new\" xlink:title=\"psysml:1b1dbb40-b684-43d5-9e90-095d8f580599\" xlink:type=\"simple\"><path d=\"M383.19,455.26 C396.45,446.23 414.42,434 431.4,422.44 \" fill=\"none\" id=\"E10-&gt;E2\" style=\"stroke: #383838; stroke-width: 1.0;\"/><polygon fill=\"#FFFFFF\" points=\"448.17,411.03,436.4,427.5063,428.5238,415.9319,448.17,411.03\" style=\"stroke: #383838; stroke-width: 1.0;\"/><ellipse cx=\"430.5624\" cy=\"429.0595\" fill=\"#383838\" rx=\"2\" ry=\"2\" style=\"stroke: #383838; stroke-width: 1.0;\"/><ellipse cx=\"424.9366\" cy=\"420.7921\" fill=\"#383838\" rx=\"2\" ry=\"2\" style=\"stroke: #383838; stroke-width: 1.0;\"/></a><!--MD5=[1fc04a95fd77ad5ce46c1a3027516051]\n",
       "reverse link E9 to E11--><a href=\"psysml:26e0bda0-b5f1-463e-8de4-6289f85dc961\" target=\"_top\" title=\"psysml:26e0bda0-b5f1-463e-8de4-6289f85dc961\" xlink:actuate=\"onRequest\" xlink:href=\"psysml:26e0bda0-b5f1-463e-8de4-6289f85dc961\" xlink:show=\"new\" xlink:title=\"psysml:26e0bda0-b5f1-463e-8de4-6289f85dc961\" xlink:type=\"simple\"><path d=\"M281.9,411 C300.85,405.49 320.63,399.74 335.68,395.36 \" fill=\"none\" id=\"E9&lt;-E11\" style=\"stroke: #383838; stroke-width: 1.0;\"/><polygon fill=\"#FFFFFF\" points=\"269.31,414.66,276.1879,416.8267,280.8332,411.3111,273.9553,409.1445,269.31,414.66\" style=\"stroke: #383838; stroke-width: 1.0;\"/><text fill=\"#000000\" font-family=\"sans-serif\" font-size=\"13\" lengthAdjust=\"spacingAndGlyphs\" textLength=\"8\" x=\"319.9105\" y=\"411.2598\">1</text></a><!--MD5=[062ed86c389d1a88f61c6380d0491e17]\n",
       "reverse link E12 to E13--><a href=\"psysml:b5605e58-b315-4dd3-8e84-581a703b4e2b\" target=\"_top\" title=\"psysml:b5605e58-b315-4dd3-8e84-581a703b4e2b\" xlink:actuate=\"onRequest\" xlink:href=\"psysml:b5605e58-b315-4dd3-8e84-581a703b4e2b\" xlink:show=\"new\" xlink:title=\"psysml:b5605e58-b315-4dd3-8e84-581a703b4e2b\" xlink:type=\"simple\"><path d=\"M115.15,569 C143.02,569 176.85,569 197.91,569 \" fill=\"none\" id=\"E12&lt;-E13\" style=\"stroke: #383838; stroke-width: 1.0;\"/><polygon fill=\"#383838\" points=\"102.04,569,108.04,573,114.04,569,108.04,565,102.04,569\" style=\"stroke: #383838; stroke-width: 1.0;\"/><text fill=\"#000000\" font-family=\"sans-serif\" font-size=\"13\" lengthAdjust=\"spacingAndGlyphs\" textLength=\"8\" x=\"181.9126\" y=\"583.4886\">1</text></a><!--MD5=[01db00f33b28669d6d9febea71002831]\n",
       "reverse link E13 to E14--><a href=\"psysml:db42b499-220f-4c1a-8731-eb36b8c82e1e\" target=\"_top\" title=\"psysml:db42b499-220f-4c1a-8731-eb36b8c82e1e\" xlink:actuate=\"onRequest\" xlink:href=\"psysml:db42b499-220f-4c1a-8731-eb36b8c82e1e\" xlink:show=\"new\" xlink:title=\"psysml:db42b499-220f-4c1a-8731-eb36b8c82e1e\" xlink:type=\"simple\"><path d=\"M253.34,564.51 C280.53,560.84 318.03,555.79 340.84,552.72 \" fill=\"none\" id=\"E13&lt;-E14\" style=\"stroke: #383838; stroke-width: 1.0;\"/><polygon fill=\"#FFFFFF\" points=\"240.2,566.28,246.6786,569.4468,252.0935,564.6845,245.6149,561.5178,240.2,566.28\" style=\"stroke: #383838; stroke-width: 1.0;\"/><text fill=\"#000000\" font-family=\"sans-serif\" font-size=\"13\" lengthAdjust=\"spacingAndGlyphs\" textLength=\"8\" x=\"325.1347\" y=\"567.9467\">1</text></a><!--MD5=[e5566ac99d7714697a7fbc17f6b550fe]\n",
       "link E14 to E2--><a href=\"psysml:7155c58b-23e7-41d9-a472-3863cff0084f\" target=\"_top\" title=\"psysml:7155c58b-23e7-41d9-a472-3863cff0084f\" xlink:actuate=\"onRequest\" xlink:href=\"psysml:7155c58b-23e7-41d9-a472-3863cff0084f\" xlink:show=\"new\" xlink:title=\"psysml:7155c58b-23e7-41d9-a472-3863cff0084f\" xlink:type=\"simple\"><path d=\"M380.05,526.79 C399.05,500.93 430.1,458.66 452.95,427.55 \" fill=\"none\" id=\"E14-&gt;E2\" style=\"stroke: #383838; stroke-width: 1.0;\"/><polygon fill=\"#FFFFFF\" points=\"464.98,411.17,459.3687,430.6254,448.0877,422.3346,464.98,411.17\" style=\"stroke: #383838; stroke-width: 1.0;\"/><ellipse cx=\"454.3816\" cy=\"434.034\" fill=\"#383838\" rx=\"2\" ry=\"2\" style=\"stroke: #383838; stroke-width: 1.0;\"/><ellipse cx=\"446.3237\" cy=\"428.112\" fill=\"#383838\" rx=\"2\" ry=\"2\" style=\"stroke: #383838; stroke-width: 1.0;\"/></a><!--MD5=[e9a5e828c71fd2209a11a152f562d491]\n",
       "reverse link E13 to E15--><a href=\"psysml:2699a371-802b-44a3-9d88-da30e2130afc\" target=\"_top\" title=\"psysml:2699a371-802b-44a3-9d88-da30e2130afc\" xlink:actuate=\"onRequest\" xlink:href=\"psysml:2699a371-802b-44a3-9d88-da30e2130afc\" xlink:show=\"new\" xlink:title=\"psysml:2699a371-802b-44a3-9d88-da30e2130afc\" xlink:type=\"simple\"><path d=\"M252.9,579.79 C286.95,589.44 341.56,600.69 388,591 C412.4,585.91 438.23,574.13 456.62,564.49 \" fill=\"none\" id=\"E13&lt;-E15\" style=\"stroke: #383838; stroke-width: 1.0;\"/><polygon fill=\"#FFFFFF\" points=\"240.08,575.95,244.6811,581.5025,251.5761,579.3909,246.975,573.8384,240.08,575.95\" style=\"stroke: #383838; stroke-width: 1.0;\"/><text fill=\"#000000\" font-family=\"sans-serif\" font-size=\"13\" lengthAdjust=\"spacingAndGlyphs\" textLength=\"8\" x=\"440.8351\" y=\"582.2169\">1</text></a><!--MD5=[3afbdc645381407e1bc99677323a2513]\n",
       "link E14 to E15--><a href=\"psysml:1d4c99f1-723b-47e9-b0a9-a2cf4f06711c\" target=\"_top\" title=\"psysml:1d4c99f1-723b-47e9-b0a9-a2cf4f06711c\" xlink:actuate=\"onRequest\" xlink:href=\"psysml:1d4c99f1-723b-47e9-b0a9-a2cf4f06711c\" xlink:show=\"new\" xlink:title=\"psysml:1d4c99f1-723b-47e9-b0a9-a2cf4f06711c\" xlink:type=\"simple\"><path d=\"M383.19,559.85 C403.48,563.43 434.81,563.69 456.74,560.65 \" fill=\"none\" id=\"E14-E15\" style=\"stroke: #383838; stroke-width: 3.0;\"/></a><!--MD5=[3afbdc645381407e1bc99677323a2513]\n",
       "link E14 to E15--><a href=\"psysml:99ef5f64-108a-4414-ad16-a52f47db38b7\" target=\"_top\" title=\"psysml:99ef5f64-108a-4414-ad16-a52f47db38b7\" xlink:actuate=\"onRequest\" xlink:href=\"psysml:99ef5f64-108a-4414-ad16-a52f47db38b7\" xlink:show=\"new\" xlink:title=\"psysml:99ef5f64-108a-4414-ad16-a52f47db38b7\" xlink:type=\"simple\"><path d=\"M383.19,539.57 C403.48,535.78 434.81,535.5 456.74,538.72 \" fill=\"none\" id=\"E14-E15-1\" style=\"stroke: #383838; stroke-width: 3.0;\"/></a><!--MD5=[1a39be16588b6610938abcb899bcec17]\n",
       "@startuml\r\n",
       "left to right direction\r\n",
       "skinparam monochrome true\r\n",
       "skinparam classbackgroundcolor white\r\n",
       "skinparam shadowing false\r\n",
       "skinparam wrapWidth 300\r\n",
       "hide circle\r\n",
       "\r\n",
       "package \"ConjugationTest\" as E1  [[psysml:62f2acf4-862e-4777-8380-6adbdab8aa3b ]]  {\r\n",
       "comp def \"P\" as E2  <<(T,blue) port  def>> [[psysml:8038ba5e-65f3-4a7c-a5d9-05577a1e913e ]] {\r\n",
       "}\r\n",
       "comp def \"B\" as E3  <<(T,blue) part  def>> [[psysml:eb00d253-98ff-4ea5-9d4b-40f483d849ec ]] {\r\n",
       "}\r\n",
       "comp usage \"p1: P \" as E4  <<(T,blue) port>> [[psysml:bd11b2df-eb92-4507-bbbb-c6493b57fcfa ]] {\r\n",
       "}\r\n",
       "comp usage \"p2: ~P \" as E5  <<(T,blue) port>> [[psysml:0cbe2724-4b46-4325-902f-a8a483156696 ]] {\r\n",
       "}\r\n",
       "comp def \"A\" as E6  <<(T,blue) connection  def>> [[psysml:c9adf55d-1d58-41e7-9c8f-305f1a380a4f ]] {\r\n",
       "}\r\n",
       "comp usage \"p1: P \" as E7  <<(T,blue) port>> [[psysml:62009ff7-c341-4e72-a056-ce92de09505b ]] {\r\n",
       "}\r\n",
       "comp usage \"p2: ~P \" as E8  <<(T,blue) port>> [[psysml:50db7d15-a467-4fc6-8fb9-d943e9708b48 ]] {\r\n",
       "}\r\n",
       "comp def \"I\" as E9  <<(T,blue) interface  def>> [[psysml:909b1fdd-cad7-4fe7-8f0f-a5ae3fa3dd03 ]] {\r\n",
       "}\r\n",
       "comp usage \"p1: P \" as E10  <<(T,blue) port>> [[psysml:4b05cf72-e027-47da-9c90-b867da4c93e0 ]] {\r\n",
       "}\r\n",
       "comp usage \"p2: ~P \" as E11  <<(T,blue) port>> [[psysml:0c24ab80-75a0-44e9-976a-962e4e9af685 ]] {\r\n",
       "}\r\n",
       "comp def \"B1\" as E12  <<(T,blue) part  def>> [[psysml:c2ec72d4-85fe-4c8d-a549-b327df7a4c85 ]] {\r\n",
       "}\r\n",
       "comp usage \"p \" as E13  <<(T,blue) part>> [[psysml:bf56b714-b103-43c5-844a-64ae22bea297 ]] {\r\n",
       "}\r\n",
       "comp usage \"p1: P \" as E14  <<(T,blue) port>> [[psysml:b5c2279c-6642-492b-a6cf-19efab06e689 ]] {\r\n",
       "}\r\n",
       "comp usage \"p2: ~P \" as E15  <<(T,blue) port>> [[psysml:ed6b3600-9f65-4ffd-a058-1200daf10699 ]] {\r\n",
       "}\r\n",
       "}\r\n",
       "E3 o- - \"1\"E4 [[psysml:301fc48c-20ce-4bfe-ac1d-96f5db6094d0 ]] \r\n",
       "E4 - -:|> E2 [[psysml:2658e44c-8270-4dd2-9600-daf649b69d41 ]] \r\n",
       "E3 o- - \"1\"E5 [[psysml:223fd842-0df9-4bd0-ad12-80c4696f3c55 ]] \r\n",
       "E6 o- - \"1\"E7 [[psysml:21746d6a-6182-4390-ad27-ac5c9b62bfbf ]] \r\n",
       "E7 - -:|> E2 [[psysml:ac292376-6896-4173-b580-fb46e7ca2b11 ]] \r\n",
       "E6 o- - \"1\"E8 [[psysml:0a911d69-2e8c-46c6-ac57-f08740e1c2a7 ]] \r\n",
       "E9 o- - \"1\"E10 [[psysml:7a6ef9a5-ee54-4bad-bee0-b6cd150b3ba6 ]] \r\n",
       "E10 - -:|> E2 [[psysml:1b1dbb40-b684-43d5-9e90-095d8f580599 ]] \r\n",
       "E9 o- - \"1\"E11 [[psysml:26e0bda0-b5f1-463e-8de4-6289f85dc961 ]] \r\n",
       "E12 *- - \"1\"E13 [[psysml:b5605e58-b315-4dd3-8e84-581a703b4e2b ]] \r\n",
       "E13 o- - \"1\"E14 [[psysml:db42b499-220f-4c1a-8731-eb36b8c82e1e ]] \r\n",
       "E14 - -:|> E2 [[psysml:7155c58b-23e7-41d9-a472-3863cff0084f ]] \r\n",
       "E13 o- - \"1\"E15 [[psysml:2699a371-802b-44a3-9d88-da30e2130afc ]] \r\n",
       "E14 -[thickness=3]- E15 [[psysml:1d4c99f1-723b-47e9-b0a9-a2cf4f06711c ]] \r\n",
       "E14 -[thickness=3]- E15 [[psysml:99ef5f64-108a-4414-ad16-a52f47db38b7 ]] \r\n",
       "@enduml\r\n",
       "\n",
       "PlantUML version 1.2020.13(Sat Jun 13 12:26:38 UTC 2020)\n",
       "(EPL source distribution)\n",
       "Java Runtime: OpenJDK Runtime Environment\n",
       "JVM: OpenJDK 64-Bit Server VM\n",
       "Default Encoding: UTF-8\n",
       "Language: en\n",
       "Country: null\n",
       "--></g></svg>"
      ]
     },
     "execution_count": 16,
     "metadata": {},
     "output_type": "execute_result"
    }
   ],
   "source": [
    "%viz --style=\"LR\" --view=\"Default\" \"ConjugationTest\""
   ]
  },
  {
   "cell_type": "code",
   "execution_count": 17,
   "id": "29e1aa6e",
   "metadata": {
    "execution": {
     "iopub.execute_input": "2022-02-18T10:47:45.417431Z",
     "iopub.status.busy": "2022-02-18T10:47:45.416927Z",
     "iopub.status.idle": "2022-02-18T10:47:45.479976Z",
     "shell.execute_reply": "2022-02-18T10:47:45.479464Z"
    }
   },
   "outputs": [
    {
     "data": {
      "image/svg+xml": [
       "<?xml version=\"1.0\" encoding=\"UTF-8\" standalone=\"no\"?><svg xmlns=\"http://www.w3.org/2000/svg\" xmlns:xlink=\"http://www.w3.org/1999/xlink\" contentScriptType=\"application/ecmascript\" contentStyleType=\"text/css\" height=\"638px\" preserveAspectRatio=\"none\" style=\"width:556px;height:638px;\" version=\"1.1\" viewBox=\"0 0 556 638\" width=\"556px\" zoomAndPan=\"magnify\"><defs/><g><!--MD5=[fbc87193dbaf4d95561dea2c320d4a47]\n",
       "cluster E1--><a href=\"psysml:62f2acf4-862e-4777-8380-6adbdab8aa3b\" target=\"_top\" title=\"psysml:62f2acf4-862e-4777-8380-6adbdab8aa3b\" xlink:actuate=\"onRequest\" xlink:href=\"psysml:62f2acf4-862e-4777-8380-6adbdab8aa3b\" xlink:show=\"new\" xlink:title=\"psysml:62f2acf4-862e-4777-8380-6adbdab8aa3b\" xlink:type=\"simple\"><polygon fill=\"#FFFFFF\" points=\"16,6,136,6,143,28.2969,534,28.2969,534,626,16,626,16,6\" style=\"stroke: #000000; stroke-width: 1.5;\"/><line style=\"stroke: #000000; stroke-width: 1.5;\" x1=\"16\" x2=\"143\" y1=\"28.2969\" y2=\"28.2969\"/><text fill=\"#000000\" font-family=\"sans-serif\" font-size=\"14\" font-weight=\"bold\" lengthAdjust=\"spacingAndGlyphs\" textLength=\"114\" x=\"20\" y=\"20.9951\">ConjugationTest</text></a><!--MD5=[b4997ac47864f28c2f74865a473b2911]\n",
       "class E2--><a href=\"psysml:8038ba5e-65f3-4a7c-a5d9-05577a1e913e\" target=\"_top\" title=\"psysml:8038ba5e-65f3-4a7c-a5d9-05577a1e913e\" xlink:actuate=\"onRequest\" xlink:href=\"psysml:8038ba5e-65f3-4a7c-a5d9-05577a1e913e\" xlink:show=\"new\" xlink:title=\"psysml:8038ba5e-65f3-4a7c-a5d9-05577a1e913e\" xlink:type=\"simple\"><rect fill=\"#FFFFFF\" height=\"45.9375\" id=\"E2\" style=\"stroke: #383838; stroke-width: 1.5;\" width=\"70\" x=\"448\" y=\"365\"/><text fill=\"#000000\" font-family=\"sans-serif\" font-size=\"12\" font-style=\"italic\" lengthAdjust=\"spacingAndGlyphs\" textLength=\"68\" x=\"449\" y=\"381.1387\">«port  def»</text><text fill=\"#000000\" font-family=\"sans-serif\" font-size=\"12\" lengthAdjust=\"spacingAndGlyphs\" textLength=\"8\" x=\"479\" y=\"395.1074\">P</text><line style=\"stroke: #383838; stroke-width: 1.5;\" x1=\"449\" x2=\"517\" y1=\"402.9375\" y2=\"402.9375\"/></a><!--MD5=[09b614a08d8cba4a07c9adeb5e0fee81]\n",
       "class E3--><a href=\"psysml:eb00d253-98ff-4ea5-9d4b-40f483d849ec\" target=\"_top\" title=\"psysml:eb00d253-98ff-4ea5-9d4b-40f483d849ec\" xlink:actuate=\"onRequest\" xlink:href=\"psysml:eb00d253-98ff-4ea5-9d4b-40f483d849ec\" xlink:show=\"new\" xlink:title=\"psysml:eb00d253-98ff-4ea5-9d4b-40f483d849ec\" xlink:type=\"simple\"><rect fill=\"#FFFFFF\" height=\"45.9375\" id=\"E3\" style=\"stroke: #383838; stroke-width: 1.5;\" width=\"70\" x=\"184\" y=\"82\"/><text fill=\"#000000\" font-family=\"sans-serif\" font-size=\"12\" font-style=\"italic\" lengthAdjust=\"spacingAndGlyphs\" textLength=\"68\" x=\"185\" y=\"98.1387\">«part  def»</text><text fill=\"#000000\" font-family=\"sans-serif\" font-size=\"12\" lengthAdjust=\"spacingAndGlyphs\" textLength=\"8\" x=\"215\" y=\"112.1074\">B</text><line style=\"stroke: #383838; stroke-width: 1.5;\" x1=\"185\" x2=\"253\" y1=\"119.9375\" y2=\"119.9375\"/></a><!--MD5=[ebbe1d658d1005bcc118a6aa81145e00]\n",
       "class E4--><a href=\"psysml:bd11b2df-eb92-4507-bbbb-c6493b57fcfa\" target=\"_top\" title=\"psysml:bd11b2df-eb92-4507-bbbb-c6493b57fcfa\" xlink:actuate=\"onRequest\" xlink:href=\"psysml:bd11b2df-eb92-4507-bbbb-c6493b57fcfa\" xlink:show=\"new\" xlink:title=\"psysml:bd11b2df-eb92-4507-bbbb-c6493b57fcfa\" xlink:type=\"simple\"><rect fill=\"#FFFFFF\" height=\"45.9375\" id=\"E4\" rx=\"10\" ry=\"10\" style=\"stroke: #383838; stroke-width: 1.5;\" width=\"42\" x=\"341\" y=\"122\"/><text fill=\"#000000\" font-family=\"sans-serif\" font-size=\"12\" font-style=\"italic\" lengthAdjust=\"spacingAndGlyphs\" textLength=\"40\" x=\"342\" y=\"138.1387\">«port»</text><text fill=\"#000000\" font-family=\"sans-serif\" font-size=\"12\" lengthAdjust=\"spacingAndGlyphs\" textLength=\"32\" x=\"344\" y=\"152.1074\">p1: P</text><line style=\"stroke: #383838; stroke-width: 1.5;\" x1=\"342\" x2=\"382\" y1=\"159.9375\" y2=\"159.9375\"/></a><!--MD5=[270fce915f116d4de14055a7c1d9a0f3]\n",
       "class E5--><a href=\"psysml:0cbe2724-4b46-4325-902f-a8a483156696\" target=\"_top\" title=\"psysml:0cbe2724-4b46-4325-902f-a8a483156696\" xlink:actuate=\"onRequest\" xlink:href=\"psysml:0cbe2724-4b46-4325-902f-a8a483156696\" xlink:show=\"new\" xlink:title=\"psysml:0cbe2724-4b46-4325-902f-a8a483156696\" xlink:type=\"simple\"><rect fill=\"#FFFFFF\" height=\"45.9375\" id=\"E5\" rx=\"10\" ry=\"10\" style=\"stroke: #383838; stroke-width: 1.5;\" width=\"52\" x=\"336\" y=\"41\"/><text fill=\"#000000\" font-family=\"sans-serif\" font-size=\"12\" font-style=\"italic\" lengthAdjust=\"spacingAndGlyphs\" textLength=\"40\" x=\"342\" y=\"57.1387\">«port»</text><text fill=\"#000000\" font-family=\"sans-serif\" font-size=\"12\" lengthAdjust=\"spacingAndGlyphs\" textLength=\"42\" x=\"339\" y=\"71.1074\">p2: ~P</text><line style=\"stroke: #383838; stroke-width: 1.5;\" x1=\"337\" x2=\"387\" y1=\"78.9375\" y2=\"78.9375\"/></a><!--MD5=[60a26617385b1d2d0262a64233df1f8d]\n",
       "class E6--><a href=\"psysml:c9adf55d-1d58-41e7-9c8f-305f1a380a4f\" target=\"_top\" title=\"psysml:c9adf55d-1d58-41e7-9c8f-305f1a380a4f\" xlink:actuate=\"onRequest\" xlink:href=\"psysml:c9adf55d-1d58-41e7-9c8f-305f1a380a4f\" xlink:show=\"new\" xlink:title=\"psysml:c9adf55d-1d58-41e7-9c8f-305f1a380a4f\" xlink:type=\"simple\"><rect fill=\"#FFFFFF\" height=\"45.9375\" id=\"E6\" style=\"stroke: #383838; stroke-width: 1.5;\" width=\"114\" x=\"162\" y=\"244\"/><text fill=\"#000000\" font-family=\"sans-serif\" font-size=\"12\" font-style=\"italic\" lengthAdjust=\"spacingAndGlyphs\" textLength=\"112\" x=\"163\" y=\"260.1387\">«connection  def»</text><text fill=\"#000000\" font-family=\"sans-serif\" font-size=\"12\" lengthAdjust=\"spacingAndGlyphs\" textLength=\"8\" x=\"215\" y=\"274.1074\">A</text><line style=\"stroke: #383838; stroke-width: 1.5;\" x1=\"163\" x2=\"275\" y1=\"281.9375\" y2=\"281.9375\"/></a><!--MD5=[2156ba9850f5573cc1fc38a6a4b2f02b]\n",
       "class E7--><a href=\"psysml:62009ff7-c341-4e72-a056-ce92de09505b\" target=\"_top\" title=\"psysml:62009ff7-c341-4e72-a056-ce92de09505b\" xlink:actuate=\"onRequest\" xlink:href=\"psysml:62009ff7-c341-4e72-a056-ce92de09505b\" xlink:show=\"new\" xlink:title=\"psysml:62009ff7-c341-4e72-a056-ce92de09505b\" xlink:type=\"simple\"><rect fill=\"#FFFFFF\" height=\"45.9375\" id=\"E7\" rx=\"10\" ry=\"10\" style=\"stroke: #383838; stroke-width: 1.5;\" width=\"42\" x=\"341\" y=\"284\"/><text fill=\"#000000\" font-family=\"sans-serif\" font-size=\"12\" font-style=\"italic\" lengthAdjust=\"spacingAndGlyphs\" textLength=\"40\" x=\"342\" y=\"300.1387\">«port»</text><text fill=\"#000000\" font-family=\"sans-serif\" font-size=\"12\" lengthAdjust=\"spacingAndGlyphs\" textLength=\"32\" x=\"344\" y=\"314.1074\">p1: P</text><line style=\"stroke: #383838; stroke-width: 1.5;\" x1=\"342\" x2=\"382\" y1=\"321.9375\" y2=\"321.9375\"/></a><!--MD5=[b9389687b975829384b498ac4b7476b2]\n",
       "class E8--><a href=\"psysml:50db7d15-a467-4fc6-8fb9-d943e9708b48\" target=\"_top\" title=\"psysml:50db7d15-a467-4fc6-8fb9-d943e9708b48\" xlink:actuate=\"onRequest\" xlink:href=\"psysml:50db7d15-a467-4fc6-8fb9-d943e9708b48\" xlink:show=\"new\" xlink:title=\"psysml:50db7d15-a467-4fc6-8fb9-d943e9708b48\" xlink:type=\"simple\"><rect fill=\"#FFFFFF\" height=\"45.9375\" id=\"E8\" rx=\"10\" ry=\"10\" style=\"stroke: #383838; stroke-width: 1.5;\" width=\"52\" x=\"336\" y=\"203\"/><text fill=\"#000000\" font-family=\"sans-serif\" font-size=\"12\" font-style=\"italic\" lengthAdjust=\"spacingAndGlyphs\" textLength=\"40\" x=\"342\" y=\"219.1387\">«port»</text><text fill=\"#000000\" font-family=\"sans-serif\" font-size=\"12\" lengthAdjust=\"spacingAndGlyphs\" textLength=\"42\" x=\"339\" y=\"233.1074\">p2: ~P</text><line style=\"stroke: #383838; stroke-width: 1.5;\" x1=\"337\" x2=\"387\" y1=\"240.9375\" y2=\"240.9375\"/></a><!--MD5=[fd4143e9d270a159db93a4ea2a975926]\n",
       "class E9--><a href=\"psysml:909b1fdd-cad7-4fe7-8f0f-a5ae3fa3dd03\" target=\"_top\" title=\"psysml:909b1fdd-cad7-4fe7-8f0f-a5ae3fa3dd03\" xlink:actuate=\"onRequest\" xlink:href=\"psysml:909b1fdd-cad7-4fe7-8f0f-a5ae3fa3dd03\" xlink:show=\"new\" xlink:title=\"psysml:909b1fdd-cad7-4fe7-8f0f-a5ae3fa3dd03\" xlink:type=\"simple\"><rect fill=\"#FFFFFF\" height=\"45.9375\" id=\"E9\" style=\"stroke: #383838; stroke-width: 1.5;\" width=\"100\" x=\"169\" y=\"406\"/><text fill=\"#000000\" font-family=\"sans-serif\" font-size=\"12\" font-style=\"italic\" lengthAdjust=\"spacingAndGlyphs\" textLength=\"98\" x=\"170\" y=\"422.1387\">«interface  def»</text><text fill=\"#000000\" font-family=\"sans-serif\" font-size=\"12\" lengthAdjust=\"spacingAndGlyphs\" textLength=\"3\" x=\"217.5\" y=\"436.1074\">I</text><line style=\"stroke: #383838; stroke-width: 1.5;\" x1=\"170\" x2=\"268\" y1=\"443.9375\" y2=\"443.9375\"/></a><!--MD5=[96f4274e9e20536e775497830990834d]\n",
       "class E10--><a href=\"psysml:4b05cf72-e027-47da-9c90-b867da4c93e0\" target=\"_top\" title=\"psysml:4b05cf72-e027-47da-9c90-b867da4c93e0\" xlink:actuate=\"onRequest\" xlink:href=\"psysml:4b05cf72-e027-47da-9c90-b867da4c93e0\" xlink:show=\"new\" xlink:title=\"psysml:4b05cf72-e027-47da-9c90-b867da4c93e0\" xlink:type=\"simple\"><rect fill=\"#FFFFFF\" height=\"45.9375\" id=\"E10\" rx=\"10\" ry=\"10\" style=\"stroke: #383838; stroke-width: 1.5;\" width=\"42\" x=\"341\" y=\"446\"/><text fill=\"#000000\" font-family=\"sans-serif\" font-size=\"12\" font-style=\"italic\" lengthAdjust=\"spacingAndGlyphs\" textLength=\"40\" x=\"342\" y=\"462.1387\">«port»</text><text fill=\"#000000\" font-family=\"sans-serif\" font-size=\"12\" lengthAdjust=\"spacingAndGlyphs\" textLength=\"32\" x=\"344\" y=\"476.1074\">p1: P</text><line style=\"stroke: #383838; stroke-width: 1.5;\" x1=\"342\" x2=\"382\" y1=\"483.9375\" y2=\"483.9375\"/></a><!--MD5=[1dd1bfd58a279cf63c5f349dbc8fc6a1]\n",
       "class E11--><a href=\"psysml:0c24ab80-75a0-44e9-976a-962e4e9af685\" target=\"_top\" title=\"psysml:0c24ab80-75a0-44e9-976a-962e4e9af685\" xlink:actuate=\"onRequest\" xlink:href=\"psysml:0c24ab80-75a0-44e9-976a-962e4e9af685\" xlink:show=\"new\" xlink:title=\"psysml:0c24ab80-75a0-44e9-976a-962e4e9af685\" xlink:type=\"simple\"><rect fill=\"#FFFFFF\" height=\"45.9375\" id=\"E11\" rx=\"10\" ry=\"10\" style=\"stroke: #383838; stroke-width: 1.5;\" width=\"52\" x=\"336\" y=\"365\"/><text fill=\"#000000\" font-family=\"sans-serif\" font-size=\"12\" font-style=\"italic\" lengthAdjust=\"spacingAndGlyphs\" textLength=\"40\" x=\"342\" y=\"381.1387\">«port»</text><text fill=\"#000000\" font-family=\"sans-serif\" font-size=\"12\" lengthAdjust=\"spacingAndGlyphs\" textLength=\"42\" x=\"339\" y=\"395.1074\">p2: ~P</text><line style=\"stroke: #383838; stroke-width: 1.5;\" x1=\"337\" x2=\"387\" y1=\"402.9375\" y2=\"402.9375\"/></a><!--MD5=[49a0ec8f00dab7302a31f22d0f0fe584]\n",
       "class E12--><a href=\"psysml:c2ec72d4-85fe-4c8d-a549-b327df7a4c85\" target=\"_top\" title=\"psysml:c2ec72d4-85fe-4c8d-a549-b327df7a4c85\" xlink:actuate=\"onRequest\" xlink:href=\"psysml:c2ec72d4-85fe-4c8d-a549-b327df7a4c85\" xlink:show=\"new\" xlink:title=\"psysml:c2ec72d4-85fe-4c8d-a549-b327df7a4c85\" xlink:type=\"simple\"><rect fill=\"#FFFFFF\" height=\"45.9375\" id=\"E12\" style=\"stroke: #383838; stroke-width: 1.5;\" width=\"70\" x=\"32\" y=\"546\"/><text fill=\"#000000\" font-family=\"sans-serif\" font-size=\"12\" font-style=\"italic\" lengthAdjust=\"spacingAndGlyphs\" textLength=\"68\" x=\"33\" y=\"562.1387\">«part  def»</text><text fill=\"#000000\" font-family=\"sans-serif\" font-size=\"12\" lengthAdjust=\"spacingAndGlyphs\" textLength=\"16\" x=\"59\" y=\"576.1074\">B1</text><line style=\"stroke: #383838; stroke-width: 1.5;\" x1=\"33\" x2=\"101\" y1=\"583.9375\" y2=\"583.9375\"/></a><!--MD5=[ee3c913d1a06f366521f9ef512b67efe]\n",
       "class E13--><a href=\"psysml:bf56b714-b103-43c5-844a-64ae22bea297\" target=\"_top\" title=\"psysml:bf56b714-b103-43c5-844a-64ae22bea297\" xlink:actuate=\"onRequest\" xlink:href=\"psysml:bf56b714-b103-43c5-844a-64ae22bea297\" xlink:show=\"new\" xlink:title=\"psysml:bf56b714-b103-43c5-844a-64ae22bea297\" xlink:type=\"simple\"><rect fill=\"#FFFFFF\" height=\"45.9375\" id=\"E13\" rx=\"10\" ry=\"10\" style=\"stroke: #383838; stroke-width: 1.5;\" width=\"42\" x=\"198\" y=\"546\"/><text fill=\"#000000\" font-family=\"sans-serif\" font-size=\"12\" font-style=\"italic\" lengthAdjust=\"spacingAndGlyphs\" textLength=\"40\" x=\"199\" y=\"562.1387\">«part»</text><text fill=\"#000000\" font-family=\"sans-serif\" font-size=\"12\" lengthAdjust=\"spacingAndGlyphs\" textLength=\"8\" x=\"213\" y=\"576.1074\">p</text><line style=\"stroke: #383838; stroke-width: 1.5;\" x1=\"199\" x2=\"239\" y1=\"583.9375\" y2=\"583.9375\"/></a><!--MD5=[bee11217b2f71d958a27249dc326068c]\n",
       "class E14--><a href=\"psysml:b5c2279c-6642-492b-a6cf-19efab06e689\" target=\"_top\" title=\"psysml:b5c2279c-6642-492b-a6cf-19efab06e689\" xlink:actuate=\"onRequest\" xlink:href=\"psysml:b5c2279c-6642-492b-a6cf-19efab06e689\" xlink:show=\"new\" xlink:title=\"psysml:b5c2279c-6642-492b-a6cf-19efab06e689\" xlink:type=\"simple\"><rect fill=\"#FFFFFF\" height=\"45.9375\" id=\"E14\" rx=\"10\" ry=\"10\" style=\"stroke: #383838; stroke-width: 1.5;\" width=\"42\" x=\"341\" y=\"527\"/><text fill=\"#000000\" font-family=\"sans-serif\" font-size=\"12\" font-style=\"italic\" lengthAdjust=\"spacingAndGlyphs\" textLength=\"40\" x=\"342\" y=\"543.1387\">«port»</text><text fill=\"#000000\" font-family=\"sans-serif\" font-size=\"12\" lengthAdjust=\"spacingAndGlyphs\" textLength=\"32\" x=\"344\" y=\"557.1074\">p1: P</text><line style=\"stroke: #383838; stroke-width: 1.5;\" x1=\"342\" x2=\"382\" y1=\"564.9375\" y2=\"564.9375\"/></a><!--MD5=[0c48fb7552dae8cbbef69381101a84c8]\n",
       "class E15--><a href=\"psysml:ed6b3600-9f65-4ffd-a058-1200daf10699\" target=\"_top\" title=\"psysml:ed6b3600-9f65-4ffd-a058-1200daf10699\" xlink:actuate=\"onRequest\" xlink:href=\"psysml:ed6b3600-9f65-4ffd-a058-1200daf10699\" xlink:show=\"new\" xlink:title=\"psysml:ed6b3600-9f65-4ffd-a058-1200daf10699\" xlink:type=\"simple\"><rect fill=\"#FFFFFF\" height=\"45.9375\" id=\"E15\" rx=\"10\" ry=\"10\" style=\"stroke: #383838; stroke-width: 1.5;\" width=\"52\" x=\"457\" y=\"527\"/><text fill=\"#000000\" font-family=\"sans-serif\" font-size=\"12\" font-style=\"italic\" lengthAdjust=\"spacingAndGlyphs\" textLength=\"40\" x=\"463\" y=\"543.1387\">«port»</text><text fill=\"#000000\" font-family=\"sans-serif\" font-size=\"12\" lengthAdjust=\"spacingAndGlyphs\" textLength=\"42\" x=\"460\" y=\"557.1074\">p2: ~P</text><line style=\"stroke: #383838; stroke-width: 1.5;\" x1=\"458\" x2=\"508\" y1=\"564.9375\" y2=\"564.9375\"/></a><!--MD5=[4672eba38e49728da53d11aeb285b987]\n",
       "reverse link E3 to E4--><a href=\"psysml:301fc48c-20ce-4bfe-ac1d-96f5db6094d0\" target=\"_top\" title=\"psysml:301fc48c-20ce-4bfe-ac1d-96f5db6094d0\" xlink:actuate=\"onRequest\" xlink:href=\"psysml:301fc48c-20ce-4bfe-ac1d-96f5db6094d0\" xlink:show=\"new\" xlink:title=\"psysml:301fc48c-20ce-4bfe-ac1d-96f5db6094d0\" xlink:type=\"simple\"><path d=\"M266.75,118.26 C291.83,125.38 321.45,133.78 340.69,139.24 \" fill=\"none\" id=\"E3&lt;-E4\" style=\"stroke: #383838; stroke-width: 1.0;\"/><polygon fill=\"#FFFFFF\" points=\"254.13,114.68,258.8135,120.1631,265.6762,117.9488,260.9927,112.4657,254.13,114.68\" style=\"stroke: #383838; stroke-width: 1.0;\"/><text fill=\"#000000\" font-family=\"sans-serif\" font-size=\"13\" lengthAdjust=\"spacingAndGlyphs\" textLength=\"8\" x=\"324.9388\" y=\"151.8697\">1</text></a><!--MD5=[185131fc0dcab0a4505a2ebe144e961b]\n",
       "link E4 to E2--><a href=\"psysml:2658e44c-8270-4dd2-9600-daf649b69d41\" target=\"_top\" title=\"psysml:2658e44c-8270-4dd2-9600-daf649b69d41\" xlink:actuate=\"onRequest\" xlink:href=\"psysml:2658e44c-8270-4dd2-9600-daf649b69d41\" xlink:show=\"new\" xlink:title=\"psysml:2658e44c-8270-4dd2-9600-daf649b69d41\" xlink:type=\"simple\"><path d=\"M378.3,168.4 C381.63,173.78 385.04,179.53 388,185 C417.41,239.32 446.56,304.51 464.42,346.08 \" fill=\"none\" id=\"E4-&gt;E2\" style=\"stroke: #383838; stroke-width: 1.0;\"/><polygon fill=\"#FFFFFF\" points=\"472.34,364.71,458.4602,349.9672,471.3427,344.4861,472.34,364.71\" style=\"stroke: #383838; stroke-width: 1.0;\"/><ellipse cx=\"458.069\" cy=\"343.9392\" fill=\"#383838\" rx=\"2\" ry=\"2\" style=\"stroke: #383838; stroke-width: 1.0;\"/><ellipse cx=\"467.2707\" cy=\"340.0241\" fill=\"#383838\" rx=\"2\" ry=\"2\" style=\"stroke: #383838; stroke-width: 1.0;\"/></a><!--MD5=[191cde3d490a3f6d7bb551fe3ddca469]\n",
       "reverse link E3 to E5--><a href=\"psysml:223fd842-0df9-4bd0-ad12-80c4696f3c55\" target=\"_top\" title=\"psysml:223fd842-0df9-4bd0-ad12-80c4696f3c55\" xlink:actuate=\"onRequest\" xlink:href=\"psysml:223fd842-0df9-4bd0-ad12-80c4696f3c55\" xlink:show=\"new\" xlink:title=\"psysml:223fd842-0df9-4bd0-ad12-80c4696f3c55\" xlink:type=\"simple\"><path d=\"M266.77,91.4 C289.71,84.73 316.46,76.95 335.58,71.39 \" fill=\"none\" id=\"E3&lt;-E5\" style=\"stroke: #383838; stroke-width: 1.0;\"/><polygon fill=\"#FFFFFF\" points=\"254.13,95.08,261.0109,97.2373,265.6487,91.7154,258.7678,89.5582,254.13,95.08\" style=\"stroke: #383838; stroke-width: 1.0;\"/><text fill=\"#000000\" font-family=\"sans-serif\" font-size=\"13\" lengthAdjust=\"spacingAndGlyphs\" textLength=\"8\" x=\"320.1651\" y=\"87.1101\">1</text></a><!--MD5=[3f50a3473f1dfb74d3f76443e03635af]\n",
       "reverse link E6 to E7--><a href=\"psysml:21746d6a-6182-4390-ad27-ac5c9b62bfbf\" target=\"_top\" title=\"psysml:21746d6a-6182-4390-ad27-ac5c9b62bfbf\" xlink:actuate=\"onRequest\" xlink:href=\"psysml:21746d6a-6182-4390-ad27-ac5c9b62bfbf\" xlink:show=\"new\" xlink:title=\"psysml:21746d6a-6182-4390-ad27-ac5c9b62bfbf\" xlink:type=\"simple\"><path d=\"M288.89,286.54 C307.92,291.94 327.12,297.39 340.91,301.3 \" fill=\"none\" id=\"E6&lt;-E7\" style=\"stroke: #383838; stroke-width: 1.0;\"/><polygon fill=\"#FFFFFF\" points=\"276.13,282.92,280.8135,288.4031,287.6762,286.1888,282.9927,280.7057,276.13,282.92\" style=\"stroke: #383838; stroke-width: 1.0;\"/><text fill=\"#000000\" font-family=\"sans-serif\" font-size=\"13\" lengthAdjust=\"spacingAndGlyphs\" textLength=\"8\" x=\"324.9126\" y=\"313.9718\">1</text></a><!--MD5=[583832df87f4419a098336a29a52fa00]\n",
       "link E7 to E2--><a href=\"psysml:ac292376-6896-4173-b580-fb46e7ca2b11\" target=\"_top\" title=\"psysml:ac292376-6896-4173-b580-fb46e7ca2b11\" xlink:actuate=\"onRequest\" xlink:href=\"psysml:ac292376-6896-4173-b580-fb46e7ca2b11\" xlink:show=\"new\" xlink:title=\"psysml:ac292376-6896-4173-b580-fb46e7ca2b11\" xlink:type=\"simple\"><path d=\"M383.19,320.74 C396.45,329.77 414.42,342 431.4,353.56 \" fill=\"none\" id=\"E7-&gt;E2\" style=\"stroke: #383838; stroke-width: 1.0;\"/><polygon fill=\"#FFFFFF\" points=\"448.17,364.97,428.5238,360.0681,436.4,348.4937,448.17,364.97\" style=\"stroke: #383838; stroke-width: 1.0;\"/><ellipse cx=\"424.9366\" cy=\"355.2079\" fill=\"#383838\" rx=\"2\" ry=\"2\" style=\"stroke: #383838; stroke-width: 1.0;\"/><ellipse cx=\"430.5624\" cy=\"346.9405\" fill=\"#383838\" rx=\"2\" ry=\"2\" style=\"stroke: #383838; stroke-width: 1.0;\"/></a><!--MD5=[f4cf0736d43fd73c4ef68817c49d37d5]\n",
       "reverse link E6 to E8--><a href=\"psysml:0a911d69-2e8c-46c6-ac57-f08740e1c2a7\" target=\"_top\" title=\"psysml:0a911d69-2e8c-46c6-ac57-f08740e1c2a7\" xlink:actuate=\"onRequest\" xlink:href=\"psysml:0a911d69-2e8c-46c6-ac57-f08740e1c2a7\" xlink:show=\"new\" xlink:title=\"psysml:0a911d69-2e8c-46c6-ac57-f08740e1c2a7\" xlink:type=\"simple\"><path d=\"M288.92,246.96 C305.75,242.06 322.71,237.13 335.94,233.29 \" fill=\"none\" id=\"E6&lt;-E8\" style=\"stroke: #383838; stroke-width: 1.0;\"/><polygon fill=\"#FFFFFF\" points=\"276.13,250.68,283.0102,252.8394,287.6497,247.319,280.7695,245.1596,276.13,250.68\" style=\"stroke: #383838; stroke-width: 1.0;\"/><text fill=\"#000000\" font-family=\"sans-serif\" font-size=\"13\" lengthAdjust=\"spacingAndGlyphs\" textLength=\"8\" x=\"319.8614\" y=\"249.358\">1</text></a><!--MD5=[23ac544a70576c3e717098101004234c]\n",
       "reverse link E9 to E10--><a href=\"psysml:7a6ef9a5-ee54-4bad-bee0-b6cd150b3ba6\" target=\"_top\" title=\"psysml:7a6ef9a5-ee54-4bad-bee0-b6cd150b3ba6\" xlink:actuate=\"onRequest\" xlink:href=\"psysml:7a6ef9a5-ee54-4bad-bee0-b6cd150b3ba6\" xlink:show=\"new\" xlink:title=\"psysml:7a6ef9a5-ee54-4bad-bee0-b6cd150b3ba6\" xlink:type=\"simple\"><path d=\"M281.98,446.58 C303.2,452.6 325.47,458.92 340.94,463.31 \" fill=\"none\" id=\"E9&lt;-E10\" style=\"stroke: #383838; stroke-width: 1.0;\"/><polygon fill=\"#FFFFFF\" points=\"269.31,442.99,273.9935,448.4731,280.8562,446.2588,276.1727,440.7757,269.31,442.99\" style=\"stroke: #383838; stroke-width: 1.0;\"/><text fill=\"#000000\" font-family=\"sans-serif\" font-size=\"13\" lengthAdjust=\"spacingAndGlyphs\" textLength=\"8\" x=\"324.9521\" y=\"475.985\">1</text></a><!--MD5=[0f36bececdf0dff6e600d6f64214b0f1]\n",
       "link E10 to E2--><a href=\"psysml:1b1dbb40-b684-43d5-9e90-095d8f580599\" target=\"_top\" title=\"psysml:1b1dbb40-b684-43d5-9e90-095d8f580599\" xlink:actuate=\"onRequest\" xlink:href=\"psysml:1b1dbb40-b684-43d5-9e90-095d8f580599\" xlink:show=\"new\" xlink:title=\"psysml:1b1dbb40-b684-43d5-9e90-095d8f580599\" xlink:type=\"simple\"><path d=\"M383.19,455.26 C396.45,446.23 414.42,434 431.4,422.44 \" fill=\"none\" id=\"E10-&gt;E2\" style=\"stroke: #383838; stroke-width: 1.0;\"/><polygon fill=\"#FFFFFF\" points=\"448.17,411.03,436.4,427.5063,428.5238,415.9319,448.17,411.03\" style=\"stroke: #383838; stroke-width: 1.0;\"/><ellipse cx=\"430.5624\" cy=\"429.0595\" fill=\"#383838\" rx=\"2\" ry=\"2\" style=\"stroke: #383838; stroke-width: 1.0;\"/><ellipse cx=\"424.9366\" cy=\"420.7921\" fill=\"#383838\" rx=\"2\" ry=\"2\" style=\"stroke: #383838; stroke-width: 1.0;\"/></a><!--MD5=[1fc04a95fd77ad5ce46c1a3027516051]\n",
       "reverse link E9 to E11--><a href=\"psysml:26e0bda0-b5f1-463e-8de4-6289f85dc961\" target=\"_top\" title=\"psysml:26e0bda0-b5f1-463e-8de4-6289f85dc961\" xlink:actuate=\"onRequest\" xlink:href=\"psysml:26e0bda0-b5f1-463e-8de4-6289f85dc961\" xlink:show=\"new\" xlink:title=\"psysml:26e0bda0-b5f1-463e-8de4-6289f85dc961\" xlink:type=\"simple\"><path d=\"M281.9,411 C300.85,405.49 320.63,399.74 335.68,395.36 \" fill=\"none\" id=\"E9&lt;-E11\" style=\"stroke: #383838; stroke-width: 1.0;\"/><polygon fill=\"#FFFFFF\" points=\"269.31,414.66,276.1879,416.8267,280.8332,411.3111,273.9553,409.1445,269.31,414.66\" style=\"stroke: #383838; stroke-width: 1.0;\"/><text fill=\"#000000\" font-family=\"sans-serif\" font-size=\"13\" lengthAdjust=\"spacingAndGlyphs\" textLength=\"8\" x=\"319.9105\" y=\"411.2598\">1</text></a><!--MD5=[062ed86c389d1a88f61c6380d0491e17]\n",
       "reverse link E12 to E13--><a href=\"psysml:b5605e58-b315-4dd3-8e84-581a703b4e2b\" target=\"_top\" title=\"psysml:b5605e58-b315-4dd3-8e84-581a703b4e2b\" xlink:actuate=\"onRequest\" xlink:href=\"psysml:b5605e58-b315-4dd3-8e84-581a703b4e2b\" xlink:show=\"new\" xlink:title=\"psysml:b5605e58-b315-4dd3-8e84-581a703b4e2b\" xlink:type=\"simple\"><path d=\"M115.15,569 C143.02,569 176.85,569 197.91,569 \" fill=\"none\" id=\"E12&lt;-E13\" style=\"stroke: #383838; stroke-width: 1.0;\"/><polygon fill=\"#383838\" points=\"102.04,569,108.04,573,114.04,569,108.04,565,102.04,569\" style=\"stroke: #383838; stroke-width: 1.0;\"/><text fill=\"#000000\" font-family=\"sans-serif\" font-size=\"13\" lengthAdjust=\"spacingAndGlyphs\" textLength=\"8\" x=\"181.9126\" y=\"583.4886\">1</text></a><!--MD5=[01db00f33b28669d6d9febea71002831]\n",
       "reverse link E13 to E14--><a href=\"psysml:db42b499-220f-4c1a-8731-eb36b8c82e1e\" target=\"_top\" title=\"psysml:db42b499-220f-4c1a-8731-eb36b8c82e1e\" xlink:actuate=\"onRequest\" xlink:href=\"psysml:db42b499-220f-4c1a-8731-eb36b8c82e1e\" xlink:show=\"new\" xlink:title=\"psysml:db42b499-220f-4c1a-8731-eb36b8c82e1e\" xlink:type=\"simple\"><path d=\"M253.34,564.51 C280.53,560.84 318.03,555.79 340.84,552.72 \" fill=\"none\" id=\"E13&lt;-E14\" style=\"stroke: #383838; stroke-width: 1.0;\"/><polygon fill=\"#FFFFFF\" points=\"240.2,566.28,246.6786,569.4468,252.0935,564.6845,245.6149,561.5178,240.2,566.28\" style=\"stroke: #383838; stroke-width: 1.0;\"/><text fill=\"#000000\" font-family=\"sans-serif\" font-size=\"13\" lengthAdjust=\"spacingAndGlyphs\" textLength=\"8\" x=\"325.1347\" y=\"567.9467\">1</text></a><!--MD5=[e5566ac99d7714697a7fbc17f6b550fe]\n",
       "link E14 to E2--><a href=\"psysml:7155c58b-23e7-41d9-a472-3863cff0084f\" target=\"_top\" title=\"psysml:7155c58b-23e7-41d9-a472-3863cff0084f\" xlink:actuate=\"onRequest\" xlink:href=\"psysml:7155c58b-23e7-41d9-a472-3863cff0084f\" xlink:show=\"new\" xlink:title=\"psysml:7155c58b-23e7-41d9-a472-3863cff0084f\" xlink:type=\"simple\"><path d=\"M380.05,526.79 C399.05,500.93 430.1,458.66 452.95,427.55 \" fill=\"none\" id=\"E14-&gt;E2\" style=\"stroke: #383838; stroke-width: 1.0;\"/><polygon fill=\"#FFFFFF\" points=\"464.98,411.17,459.3687,430.6254,448.0877,422.3346,464.98,411.17\" style=\"stroke: #383838; stroke-width: 1.0;\"/><ellipse cx=\"454.3816\" cy=\"434.034\" fill=\"#383838\" rx=\"2\" ry=\"2\" style=\"stroke: #383838; stroke-width: 1.0;\"/><ellipse cx=\"446.3237\" cy=\"428.112\" fill=\"#383838\" rx=\"2\" ry=\"2\" style=\"stroke: #383838; stroke-width: 1.0;\"/></a><!--MD5=[e9a5e828c71fd2209a11a152f562d491]\n",
       "reverse link E13 to E15--><a href=\"psysml:2699a371-802b-44a3-9d88-da30e2130afc\" target=\"_top\" title=\"psysml:2699a371-802b-44a3-9d88-da30e2130afc\" xlink:actuate=\"onRequest\" xlink:href=\"psysml:2699a371-802b-44a3-9d88-da30e2130afc\" xlink:show=\"new\" xlink:title=\"psysml:2699a371-802b-44a3-9d88-da30e2130afc\" xlink:type=\"simple\"><path d=\"M252.9,579.79 C286.95,589.44 341.56,600.69 388,591 C412.4,585.91 438.23,574.13 456.62,564.49 \" fill=\"none\" id=\"E13&lt;-E15\" style=\"stroke: #383838; stroke-width: 1.0;\"/><polygon fill=\"#FFFFFF\" points=\"240.08,575.95,244.6811,581.5025,251.5761,579.3909,246.975,573.8384,240.08,575.95\" style=\"stroke: #383838; stroke-width: 1.0;\"/><text fill=\"#000000\" font-family=\"sans-serif\" font-size=\"13\" lengthAdjust=\"spacingAndGlyphs\" textLength=\"8\" x=\"440.8351\" y=\"582.2169\">1</text></a><!--MD5=[3afbdc645381407e1bc99677323a2513]\n",
       "link E14 to E15--><a href=\"psysml:1d4c99f1-723b-47e9-b0a9-a2cf4f06711c\" target=\"_top\" title=\"psysml:1d4c99f1-723b-47e9-b0a9-a2cf4f06711c\" xlink:actuate=\"onRequest\" xlink:href=\"psysml:1d4c99f1-723b-47e9-b0a9-a2cf4f06711c\" xlink:show=\"new\" xlink:title=\"psysml:1d4c99f1-723b-47e9-b0a9-a2cf4f06711c\" xlink:type=\"simple\"><path d=\"M383.19,559.85 C403.48,563.43 434.81,563.69 456.74,560.65 \" fill=\"none\" id=\"E14-E15\" style=\"stroke: #383838; stroke-width: 3.0;\"/></a><!--MD5=[3afbdc645381407e1bc99677323a2513]\n",
       "link E14 to E15--><a href=\"psysml:99ef5f64-108a-4414-ad16-a52f47db38b7\" target=\"_top\" title=\"psysml:99ef5f64-108a-4414-ad16-a52f47db38b7\" xlink:actuate=\"onRequest\" xlink:href=\"psysml:99ef5f64-108a-4414-ad16-a52f47db38b7\" xlink:show=\"new\" xlink:title=\"psysml:99ef5f64-108a-4414-ad16-a52f47db38b7\" xlink:type=\"simple\"><path d=\"M383.19,539.57 C403.48,535.78 434.81,535.5 456.74,538.72 \" fill=\"none\" id=\"E14-E15-1\" style=\"stroke: #383838; stroke-width: 3.0;\"/></a><!--MD5=[1a39be16588b6610938abcb899bcec17]\n",
       "@startuml\r\n",
       "left to right direction\r\n",
       "skinparam monochrome true\r\n",
       "skinparam classbackgroundcolor white\r\n",
       "skinparam shadowing false\r\n",
       "skinparam wrapWidth 300\r\n",
       "hide circle\r\n",
       "\r\n",
       "package \"ConjugationTest\" as E1  [[psysml:62f2acf4-862e-4777-8380-6adbdab8aa3b ]]  {\r\n",
       "comp def \"P\" as E2  <<(T,blue) port  def>> [[psysml:8038ba5e-65f3-4a7c-a5d9-05577a1e913e ]] {\r\n",
       "}\r\n",
       "comp def \"B\" as E3  <<(T,blue) part  def>> [[psysml:eb00d253-98ff-4ea5-9d4b-40f483d849ec ]] {\r\n",
       "}\r\n",
       "comp usage \"p1: P \" as E4  <<(T,blue) port>> [[psysml:bd11b2df-eb92-4507-bbbb-c6493b57fcfa ]] {\r\n",
       "}\r\n",
       "comp usage \"p2: ~P \" as E5  <<(T,blue) port>> [[psysml:0cbe2724-4b46-4325-902f-a8a483156696 ]] {\r\n",
       "}\r\n",
       "comp def \"A\" as E6  <<(T,blue) connection  def>> [[psysml:c9adf55d-1d58-41e7-9c8f-305f1a380a4f ]] {\r\n",
       "}\r\n",
       "comp usage \"p1: P \" as E7  <<(T,blue) port>> [[psysml:62009ff7-c341-4e72-a056-ce92de09505b ]] {\r\n",
       "}\r\n",
       "comp usage \"p2: ~P \" as E8  <<(T,blue) port>> [[psysml:50db7d15-a467-4fc6-8fb9-d943e9708b48 ]] {\r\n",
       "}\r\n",
       "comp def \"I\" as E9  <<(T,blue) interface  def>> [[psysml:909b1fdd-cad7-4fe7-8f0f-a5ae3fa3dd03 ]] {\r\n",
       "}\r\n",
       "comp usage \"p1: P \" as E10  <<(T,blue) port>> [[psysml:4b05cf72-e027-47da-9c90-b867da4c93e0 ]] {\r\n",
       "}\r\n",
       "comp usage \"p2: ~P \" as E11  <<(T,blue) port>> [[psysml:0c24ab80-75a0-44e9-976a-962e4e9af685 ]] {\r\n",
       "}\r\n",
       "comp def \"B1\" as E12  <<(T,blue) part  def>> [[psysml:c2ec72d4-85fe-4c8d-a549-b327df7a4c85 ]] {\r\n",
       "}\r\n",
       "comp usage \"p \" as E13  <<(T,blue) part>> [[psysml:bf56b714-b103-43c5-844a-64ae22bea297 ]] {\r\n",
       "}\r\n",
       "comp usage \"p1: P \" as E14  <<(T,blue) port>> [[psysml:b5c2279c-6642-492b-a6cf-19efab06e689 ]] {\r\n",
       "}\r\n",
       "comp usage \"p2: ~P \" as E15  <<(T,blue) port>> [[psysml:ed6b3600-9f65-4ffd-a058-1200daf10699 ]] {\r\n",
       "}\r\n",
       "}\r\n",
       "E3 o- - \"1\"E4 [[psysml:301fc48c-20ce-4bfe-ac1d-96f5db6094d0 ]] \r\n",
       "E4 - -:|> E2 [[psysml:2658e44c-8270-4dd2-9600-daf649b69d41 ]] \r\n",
       "E3 o- - \"1\"E5 [[psysml:223fd842-0df9-4bd0-ad12-80c4696f3c55 ]] \r\n",
       "E6 o- - \"1\"E7 [[psysml:21746d6a-6182-4390-ad27-ac5c9b62bfbf ]] \r\n",
       "E7 - -:|> E2 [[psysml:ac292376-6896-4173-b580-fb46e7ca2b11 ]] \r\n",
       "E6 o- - \"1\"E8 [[psysml:0a911d69-2e8c-46c6-ac57-f08740e1c2a7 ]] \r\n",
       "E9 o- - \"1\"E10 [[psysml:7a6ef9a5-ee54-4bad-bee0-b6cd150b3ba6 ]] \r\n",
       "E10 - -:|> E2 [[psysml:1b1dbb40-b684-43d5-9e90-095d8f580599 ]] \r\n",
       "E9 o- - \"1\"E11 [[psysml:26e0bda0-b5f1-463e-8de4-6289f85dc961 ]] \r\n",
       "E12 *- - \"1\"E13 [[psysml:b5605e58-b315-4dd3-8e84-581a703b4e2b ]] \r\n",
       "E13 o- - \"1\"E14 [[psysml:db42b499-220f-4c1a-8731-eb36b8c82e1e ]] \r\n",
       "E14 - -:|> E2 [[psysml:7155c58b-23e7-41d9-a472-3863cff0084f ]] \r\n",
       "E13 o- - \"1\"E15 [[psysml:2699a371-802b-44a3-9d88-da30e2130afc ]] \r\n",
       "E14 -[thickness=3]- E15 [[psysml:1d4c99f1-723b-47e9-b0a9-a2cf4f06711c ]] \r\n",
       "E14 -[thickness=3]- E15 [[psysml:99ef5f64-108a-4414-ad16-a52f47db38b7 ]] \r\n",
       "@enduml\r\n",
       "\n",
       "PlantUML version 1.2020.13(Sat Jun 13 12:26:38 UTC 2020)\n",
       "(EPL source distribution)\n",
       "Java Runtime: OpenJDK Runtime Environment\n",
       "JVM: OpenJDK 64-Bit Server VM\n",
       "Default Encoding: UTF-8\n",
       "Language: en\n",
       "Country: null\n",
       "--></g></svg>"
      ]
     },
     "execution_count": 17,
     "metadata": {},
     "output_type": "execute_result"
    }
   ],
   "source": [
    "%viz --style=\"LR\" --view=\"Tree\" \"ConjugationTest\""
   ]
  },
  {
   "cell_type": "code",
   "execution_count": 18,
   "id": "12a0bffb",
   "metadata": {
    "execution": {
     "iopub.execute_input": "2022-02-18T10:47:45.529191Z",
     "iopub.status.busy": "2022-02-18T10:47:45.528395Z",
     "iopub.status.idle": "2022-02-18T10:47:45.534361Z",
     "shell.execute_reply": "2022-02-18T10:47:45.534682Z"
    }
   },
   "outputs": [
    {
     "data": {
      "image/svg+xml": [
       "<?xml version=\"1.0\" encoding=\"UTF-8\" standalone=\"no\"?><svg xmlns=\"http://www.w3.org/2000/svg\" xmlns:xlink=\"http://www.w3.org/1999/xlink\" contentScriptType=\"application/ecmascript\" contentStyleType=\"text/css\" height=\"12px\" preserveAspectRatio=\"none\" style=\"width:12px;height:12px;\" version=\"1.1\" viewBox=\"0 0 12 12\" width=\"12px\" zoomAndPan=\"magnify\"><defs/><g><!--MD5=[19d285c9d72a204eba4e2cd117d745e8]\n",
       "@startuml\r\n",
       "left to right direction\r\n",
       "skinparam monochrome true\r\n",
       "skinparam classbackgroundcolor white\r\n",
       "skinparam shadowing false\r\n",
       "skinparam wrapWidth 300\r\n",
       "hide circle\r\n",
       "\r\n",
       "@enduml\r\n",
       "\n",
       "PlantUML version 1.2020.13(Sat Jun 13 12:26:38 UTC 2020)\n",
       "(EPL source distribution)\n",
       "Java Runtime: OpenJDK Runtime Environment\n",
       "JVM: OpenJDK 64-Bit Server VM\n",
       "Default Encoding: UTF-8\n",
       "Language: en\n",
       "Country: null\n",
       "--></g></svg>"
      ]
     },
     "execution_count": 18,
     "metadata": {},
     "output_type": "execute_result"
    }
   ],
   "source": [
    "%viz --style=\"LR\" --view=\"State\" \"ConjugationTest\""
   ]
  },
  {
   "cell_type": "code",
   "execution_count": 19,
   "id": "1c4568fa",
   "metadata": {
    "execution": {
     "iopub.execute_input": "2022-02-18T10:47:45.584839Z",
     "iopub.status.busy": "2022-02-18T10:47:45.584310Z",
     "iopub.status.idle": "2022-02-18T10:47:45.634624Z",
     "shell.execute_reply": "2022-02-18T10:47:45.634269Z"
    }
   },
   "outputs": [
    {
     "data": {
      "image/svg+xml": [
       "<?xml version=\"1.0\" encoding=\"UTF-8\" standalone=\"no\"?><svg xmlns=\"http://www.w3.org/2000/svg\" xmlns:xlink=\"http://www.w3.org/1999/xlink\" contentScriptType=\"application/ecmascript\" contentStyleType=\"text/css\" height=\"550px\" preserveAspectRatio=\"none\" style=\"width:319px;height:550px;\" version=\"1.1\" viewBox=\"0 0 319 550\" width=\"319px\" zoomAndPan=\"magnify\"><defs/><g><!--MD5=[fbc87193dbaf4d95561dea2c320d4a47]\n",
       "cluster E1--><a href=\"psysml:62f2acf4-862e-4777-8380-6adbdab8aa3b\" target=\"_top\" title=\"psysml:62f2acf4-862e-4777-8380-6adbdab8aa3b\" xlink:actuate=\"onRequest\" xlink:href=\"psysml:62f2acf4-862e-4777-8380-6adbdab8aa3b\" xlink:show=\"new\" xlink:title=\"psysml:62f2acf4-862e-4777-8380-6adbdab8aa3b\" xlink:type=\"simple\"><polygon fill=\"#FFFFFF\" points=\"16,6,136,6,143,28.2969,297.5,28.2969,297.5,538,16,538,16,6\" style=\"stroke: #000000; stroke-width: 1.5;\"/><line style=\"stroke: #000000; stroke-width: 1.5;\" x1=\"16\" x2=\"143\" y1=\"28.2969\" y2=\"28.2969\"/><text fill=\"#000000\" font-family=\"sans-serif\" font-size=\"14\" font-weight=\"bold\" lengthAdjust=\"spacingAndGlyphs\" textLength=\"114\" x=\"20\" y=\"20.9951\">ConjugationTest</text></a><!--MD5=[d5e69f78d87373223dbae638b30a9c99]\n",
       "cluster E3--><a href=\"psysml:eb00d253-98ff-4ea5-9d4b-40f483d849ec\" target=\"_top\" title=\"psysml:eb00d253-98ff-4ea5-9d4b-40f483d849ec\" xlink:actuate=\"onRequest\" xlink:href=\"psysml:eb00d253-98ff-4ea5-9d4b-40f483d849ec\" xlink:show=\"new\" xlink:title=\"psysml:eb00d253-98ff-4ea5-9d4b-40f483d849ec\" xlink:type=\"simple\"><rect fill=\"#FFFFFF\" height=\"47\" id=\"E3\" style=\"stroke: #383838; stroke-width: 1.5;\" width=\"204\" x=\"52\" y=\"55\"/><rect fill=\"#F8F8F8\" height=\"37.9375\" style=\"stroke: #383838; stroke-width: 1.5;\" width=\"204\" x=\"52\" y=\"55\"/><text fill=\"#000000\" font-family=\"sans-serif\" font-size=\"12\" font-style=\"italic\" lengthAdjust=\"spacingAndGlyphs\" textLength=\"68\" x=\"120\" y=\"71.1387\">«part  def»</text><text fill=\"#000000\" font-family=\"sans-serif\" font-size=\"12\" lengthAdjust=\"spacingAndGlyphs\" textLength=\"8\" x=\"150\" y=\"85.1074\">B</text></a><!--MD5=[14e3b0961a2654348d326746436168a1]\n",
       "cluster E6--><a href=\"psysml:c9adf55d-1d58-41e7-9c8f-305f1a380a4f\" target=\"_top\" title=\"psysml:c9adf55d-1d58-41e7-9c8f-305f1a380a4f\" xlink:actuate=\"onRequest\" xlink:href=\"psysml:c9adf55d-1d58-41e7-9c8f-305f1a380a4f\" xlink:show=\"new\" xlink:title=\"psysml:c9adf55d-1d58-41e7-9c8f-305f1a380a4f\" xlink:type=\"simple\"><rect fill=\"#FFFFFF\" height=\"47\" id=\"E6\" style=\"stroke: #383838; stroke-width: 1.5;\" width=\"229.5\" x=\"52\" y=\"149\"/><rect fill=\"#F8F8F8\" height=\"37.9375\" style=\"stroke: #383838; stroke-width: 1.5;\" width=\"229.5\" x=\"52\" y=\"149\"/><text fill=\"#000000\" font-family=\"sans-serif\" font-size=\"12\" font-style=\"italic\" lengthAdjust=\"spacingAndGlyphs\" textLength=\"112\" x=\"110.75\" y=\"165.1387\">«connection  def»</text><text fill=\"#000000\" font-family=\"sans-serif\" font-size=\"12\" lengthAdjust=\"spacingAndGlyphs\" textLength=\"8\" x=\"162.75\" y=\"179.1074\">A</text></a><!--MD5=[7f149f147074ac12df2cb0a7728a5fb0]\n",
       "cluster E9--><a href=\"psysml:909b1fdd-cad7-4fe7-8f0f-a5ae3fa3dd03\" target=\"_top\" title=\"psysml:909b1fdd-cad7-4fe7-8f0f-a5ae3fa3dd03\" xlink:actuate=\"onRequest\" xlink:href=\"psysml:909b1fdd-cad7-4fe7-8f0f-a5ae3fa3dd03\" xlink:show=\"new\" xlink:title=\"psysml:909b1fdd-cad7-4fe7-8f0f-a5ae3fa3dd03\" xlink:type=\"simple\"><rect fill=\"#FFFFFF\" height=\"47\" id=\"E9\" style=\"stroke: #383838; stroke-width: 1.5;\" width=\"220.5\" x=\"52\" y=\"243\"/><rect fill=\"#F8F8F8\" height=\"37.9375\" style=\"stroke: #383838; stroke-width: 1.5;\" width=\"220.5\" x=\"52\" y=\"243\"/><text fill=\"#000000\" font-family=\"sans-serif\" font-size=\"12\" font-style=\"italic\" lengthAdjust=\"spacingAndGlyphs\" textLength=\"98\" x=\"113.25\" y=\"259.1387\">«interface  def»</text><text fill=\"#000000\" font-family=\"sans-serif\" font-size=\"12\" lengthAdjust=\"spacingAndGlyphs\" textLength=\"3\" x=\"160.75\" y=\"273.1074\">I</text></a><!--MD5=[47bea60c1a0ac6c1143df232041969c0]\n",
       "cluster E12--><a href=\"psysml:c2ec72d4-85fe-4c8d-a549-b327df7a4c85\" target=\"_top\" title=\"psysml:c2ec72d4-85fe-4c8d-a549-b327df7a4c85\" xlink:actuate=\"onRequest\" xlink:href=\"psysml:c2ec72d4-85fe-4c8d-a549-b327df7a4c85\" xlink:show=\"new\" xlink:title=\"psysml:c2ec72d4-85fe-4c8d-a549-b327df7a4c85\" xlink:type=\"simple\"><rect fill=\"#FFFFFF\" height=\"142\" id=\"E12\" style=\"stroke: #383838; stroke-width: 1.5;\" width=\"199\" x=\"40\" y=\"320\"/><rect fill=\"#F8F8F8\" height=\"37.9375\" style=\"stroke: #383838; stroke-width: 1.5;\" width=\"199\" x=\"40\" y=\"320\"/><text fill=\"#000000\" font-family=\"sans-serif\" font-size=\"12\" font-style=\"italic\" lengthAdjust=\"spacingAndGlyphs\" textLength=\"68\" x=\"105.5\" y=\"336.1387\">«part  def»</text><text fill=\"#000000\" font-family=\"sans-serif\" font-size=\"12\" lengthAdjust=\"spacingAndGlyphs\" textLength=\"16\" x=\"131.5\" y=\"350.1074\">B1</text></a><!--MD5=[03104f77b71e2d8d3500c651e6e31181]\n",
       "cluster E13--><a href=\"psysml:bf56b714-b103-43c5-844a-64ae22bea297\" target=\"_top\" title=\"psysml:bf56b714-b103-43c5-844a-64ae22bea297\" xlink:actuate=\"onRequest\" xlink:href=\"psysml:bf56b714-b103-43c5-844a-64ae22bea297\" xlink:show=\"new\" xlink:title=\"psysml:bf56b714-b103-43c5-844a-64ae22bea297\" xlink:type=\"simple\"><rect fill=\"#FFFFFF\" height=\"47\" id=\"E13\" rx=\"10\" ry=\"10\" style=\"stroke: #383838; stroke-width: 1.5;\" width=\"171\" x=\"52\" y=\"385\"/><rect fill=\"#F8F8F8\" height=\"23.9688\" rx=\"10\" ry=\"10\" style=\"stroke: #F8F8F8; stroke-width: 1.5;\" width=\"171\" x=\"52\" y=\"385\"/><rect fill=\"#F8F8F8\" height=\"10\" style=\"stroke: #F8F8F8; stroke-width: 1.5;\" width=\"171\" x=\"52\" y=\"398.9688\"/><rect fill=\"none\" height=\"47\" id=\"E13\" rx=\"10\" ry=\"10\" style=\"stroke: #383838; stroke-width: 1.5;\" width=\"171\" x=\"52\" y=\"385\"/><text fill=\"#000000\" font-family=\"sans-serif\" font-size=\"12\" lengthAdjust=\"spacingAndGlyphs\" textLength=\"8\" x=\"133.5\" y=\"401.1387\">p</text><line style=\"stroke: #383838; stroke-width: 1.0;\" x1=\"52\" x2=\"223\" y1=\"408.9688\" y2=\"408.9688\"/></a><g id=\"E1.E2\"><a href=\"psysml:8038ba5e-65f3-4a7c-a5d9-05577a1e913e\" target=\"_top\" title=\"psysml:8038ba5e-65f3-4a7c-a5d9-05577a1e913e\" xlink:actuate=\"onRequest\" xlink:href=\"psysml:8038ba5e-65f3-4a7c-a5d9-05577a1e913e\" xlink:show=\"new\" xlink:title=\"psysml:8038ba5e-65f3-4a7c-a5d9-05577a1e913e\" xlink:type=\"simple\"><rect fill=\"#FFFFFF\" height=\"42.9375\" id=\"E2\" style=\"stroke: #383838; stroke-width: 1.5;\" width=\"75\" x=\"32.5\" y=\"478.5\"/><rect fill=\"#F8F8F8\" height=\"37.9375\" style=\"stroke: #383838; stroke-width: 1.5;\" width=\"75\" x=\"32.5\" y=\"478.5\"/><text fill=\"#000000\" font-family=\"sans-serif\" font-size=\"12\" font-style=\"italic\" lengthAdjust=\"spacingAndGlyphs\" textLength=\"68\" x=\"36\" y=\"494.6387\">«port  def»</text><text fill=\"#000000\" font-family=\"sans-serif\" font-size=\"12\" lengthAdjust=\"spacingAndGlyphs\" textLength=\"8\" x=\"66\" y=\"508.6074\">P</text></a></g><text fill=\"#000000\" font-family=\"sans-serif\" font-size=\"14\" lengthAdjust=\"spacingAndGlyphs\" textLength=\"36\" x=\"50\" y=\"120.9951\">p1: P</text><rect fill=\"#383838\" height=\"12\" style=\"stroke: #F8F8F8; stroke-width: 1.5;\" width=\"12\" x=\"64\" y=\"96\"/><text fill=\"#000000\" font-family=\"sans-serif\" font-size=\"14\" lengthAdjust=\"spacingAndGlyphs\" textLength=\"48\" x=\"44\" y=\"33.6982\">p2: ~P</text><rect fill=\"#383838\" height=\"12\" style=\"stroke: #F8F8F8; stroke-width: 1.5;\" width=\"12\" x=\"64\" y=\"49\"/><text fill=\"#000000\" font-family=\"sans-serif\" font-size=\"14\" lengthAdjust=\"spacingAndGlyphs\" textLength=\"36\" x=\"50\" y=\"214.9951\">p1: P</text><rect fill=\"#383838\" height=\"12\" style=\"stroke: #F8F8F8; stroke-width: 1.5;\" width=\"12\" x=\"64\" y=\"190\"/><text fill=\"#000000\" font-family=\"sans-serif\" font-size=\"14\" lengthAdjust=\"spacingAndGlyphs\" textLength=\"48\" x=\"44\" y=\"127.6982\">p2: ~P</text><rect fill=\"#383838\" height=\"12\" style=\"stroke: #F8F8F8; stroke-width: 1.5;\" width=\"12\" x=\"64\" y=\"143\"/><text fill=\"#000000\" font-family=\"sans-serif\" font-size=\"14\" lengthAdjust=\"spacingAndGlyphs\" textLength=\"36\" x=\"50\" y=\"308.9951\">p1: P</text><rect fill=\"#383838\" height=\"12\" style=\"stroke: #F8F8F8; stroke-width: 1.5;\" width=\"12\" x=\"64\" y=\"284\"/><text fill=\"#000000\" font-family=\"sans-serif\" font-size=\"14\" lengthAdjust=\"spacingAndGlyphs\" textLength=\"48\" x=\"44\" y=\"221.6982\">p2: ~P</text><rect fill=\"#383838\" height=\"12\" style=\"stroke: #F8F8F8; stroke-width: 1.5;\" width=\"12\" x=\"64\" y=\"237\"/><text fill=\"#000000\" font-family=\"sans-serif\" font-size=\"14\" lengthAdjust=\"spacingAndGlyphs\" textLength=\"36\" x=\"50\" y=\"450.9951\">p1: P</text><rect fill=\"#383838\" height=\"12\" style=\"stroke: #F8F8F8; stroke-width: 1.5;\" width=\"12\" x=\"64\" y=\"426\"/><text fill=\"#000000\" font-family=\"sans-serif\" font-size=\"14\" lengthAdjust=\"spacingAndGlyphs\" textLength=\"48\" x=\"44\" y=\"363.6982\">p2: ~P</text><rect fill=\"#383838\" height=\"12\" style=\"stroke: #F8F8F8; stroke-width: 1.5;\" width=\"12\" x=\"64\" y=\"379\"/><!--MD5=[3afbdc645381407e1bc99677323a2513]\n",
       "link E14 to E15--><a href=\"psysml:1d4c99f1-723b-47e9-b0a9-a2cf4f06711c\" target=\"_top\" title=\"psysml:1d4c99f1-723b-47e9-b0a9-a2cf4f06711c\" xlink:actuate=\"onRequest\" xlink:href=\"psysml:1d4c99f1-723b-47e9-b0a9-a2cf4f06711c\" xlink:show=\"new\" xlink:title=\"psysml:1d4c99f1-723b-47e9-b0a9-a2cf4f06711c\" xlink:type=\"simple\"><path d=\"M70,425.76 C70,414.19 70,402.62 70,391.05 \" fill=\"none\" id=\"E14-E15\" style=\"stroke: #383838; stroke-width: 3.0;\"/></a><!--MD5=[3afbdc645381407e1bc99677323a2513]\n",
       "link E14 to E15--><a href=\"psysml:99ef5f64-108a-4414-ad16-a52f47db38b7\" target=\"_top\" title=\"psysml:99ef5f64-108a-4414-ad16-a52f47db38b7\" xlink:actuate=\"onRequest\" xlink:href=\"psysml:99ef5f64-108a-4414-ad16-a52f47db38b7\" xlink:show=\"new\" xlink:title=\"psysml:99ef5f64-108a-4414-ad16-a52f47db38b7\" xlink:type=\"simple\"><path d=\"M67.93,425.76 C64.67,414.19 64.69,402.62 67.98,391.05 \" fill=\"none\" id=\"E14-E15-1\" style=\"stroke: #383838; stroke-width: 3.0;\"/></a><!--MD5=[d257534dd642fbef6177b1c81e79dca0]\n",
       "@startuml\r\n",
       "skinparam ranksep 10\r\n",
       "skinparam rectangle {\r\n",
       " backgroundColor<<block>> LightGreen\r\n",
       "}\r\n",
       "left to right direction\r\n",
       "skinparam monochrome true\r\n",
       "skinparam classbackgroundcolor white\r\n",
       "skinparam shadowing false\r\n",
       "skinparam wrapWidth 300\r\n",
       "hide circle\r\n",
       "\r\n",
       "package \"ConjugationTest\" as E1  [[psysml:62f2acf4-862e-4777-8380-6adbdab8aa3b ]]  {\r\n",
       "def \"P\" as E2  <<(T,blue) port  def>> [[psysml:8038ba5e-65f3-4a7c-a5d9-05577a1e913e ]] \r\n",
       "rec def \"B\" as E3  <<(T,blue) part  def>> [[psysml:eb00d253-98ff-4ea5-9d4b-40f483d849ec ]] {\r\n",
       "portin \"p1: P \" as E4  <<(T,blue) port>> [[psysml:bd11b2df-eb92-4507-bbbb-c6493b57fcfa ]] \r\n",
       "portin \"p2: ~P \" as E5  <<(T,blue) port>> [[psysml:0cbe2724-4b46-4325-902f-a8a483156696 ]] \r\n",
       "}\r\n",
       "rec def \"A\" as E6  <<(T,blue) connection  def>> [[psysml:c9adf55d-1d58-41e7-9c8f-305f1a380a4f ]] {\r\n",
       "portin \"p1: P \" as E7  <<(T,blue) port>> [[psysml:62009ff7-c341-4e72-a056-ce92de09505b ]] \r\n",
       "portin \"p2: ~P \" as E8  <<(T,blue) port>> [[psysml:50db7d15-a467-4fc6-8fb9-d943e9708b48 ]] \r\n",
       "}\r\n",
       "rec def \"I\" as E9  <<(T,blue) interface  def>> [[psysml:909b1fdd-cad7-4fe7-8f0f-a5ae3fa3dd03 ]] {\r\n",
       "portin \"p1: P \" as E10  <<(T,blue) port>> [[psysml:4b05cf72-e027-47da-9c90-b867da4c93e0 ]] \r\n",
       "portin \"p2: ~P \" as E11  <<(T,blue) port>> [[psysml:0c24ab80-75a0-44e9-976a-962e4e9af685 ]] \r\n",
       "}\r\n",
       "rec def \"B1\" as E12  <<(T,blue) part  def>> [[psysml:c2ec72d4-85fe-4c8d-a549-b327df7a4c85 ]] {\r\n",
       "rec usage \"p\" as E13  [[psysml:bf56b714-b103-43c5-844a-64ae22bea297 ]] {\r\n",
       "portin \"p1: P \" as E14  <<(T,blue) port>> [[psysml:b5c2279c-6642-492b-a6cf-19efab06e689 ]] \r\n",
       "portin \"p2: ~P \" as E15  <<(T,blue) port>> [[psysml:ed6b3600-9f65-4ffd-a058-1200daf10699 ]] \r\n",
       "}\r\n",
       "}\r\n",
       "}\r\n",
       "E14 -[thickness=3]- E15 [[psysml:1d4c99f1-723b-47e9-b0a9-a2cf4f06711c ]] \r\n",
       "E14 -[thickness=3]- E15 [[psysml:99ef5f64-108a-4414-ad16-a52f47db38b7 ]] \r\n",
       "@enduml\r\n",
       "\n",
       "PlantUML version 1.2020.13(Sat Jun 13 12:26:38 UTC 2020)\n",
       "(EPL source distribution)\n",
       "Java Runtime: OpenJDK Runtime Environment\n",
       "JVM: OpenJDK 64-Bit Server VM\n",
       "Default Encoding: UTF-8\n",
       "Language: en\n",
       "Country: null\n",
       "--></g></svg>"
      ]
     },
     "execution_count": 19,
     "metadata": {},
     "output_type": "execute_result"
    }
   ],
   "source": [
    "%viz --style=\"LR\" --view=\"Interconnection\" \"ConjugationTest\""
   ]
  },
  {
   "cell_type": "code",
   "execution_count": 20,
   "id": "083538b0",
   "metadata": {
    "execution": {
     "iopub.execute_input": "2022-02-18T10:47:45.684786Z",
     "iopub.status.busy": "2022-02-18T10:47:45.684205Z",
     "iopub.status.idle": "2022-02-18T10:47:45.689338Z",
     "shell.execute_reply": "2022-02-18T10:47:45.689650Z"
    }
   },
   "outputs": [
    {
     "data": {
      "image/svg+xml": [
       "<?xml version=\"1.0\" encoding=\"UTF-8\" standalone=\"no\"?><svg xmlns=\"http://www.w3.org/2000/svg\" xmlns:xlink=\"http://www.w3.org/1999/xlink\" contentScriptType=\"application/ecmascript\" contentStyleType=\"text/css\" height=\"12px\" preserveAspectRatio=\"none\" style=\"width:12px;height:12px;\" version=\"1.1\" viewBox=\"0 0 12 12\" width=\"12px\" zoomAndPan=\"magnify\"><defs/><g><!--MD5=[7aeb398939421629f6affaa4a1a7b125]\n",
       "@startuml\r\n",
       "skinparam ranksep 8\r\n",
       "left to right direction\r\n",
       "skinparam monochrome true\r\n",
       "skinparam classbackgroundcolor white\r\n",
       "skinparam shadowing false\r\n",
       "skinparam wrapWidth 300\r\n",
       "hide circle\r\n",
       "\r\n",
       "@enduml\r\n",
       "\n",
       "PlantUML version 1.2020.13(Sat Jun 13 12:26:38 UTC 2020)\n",
       "(EPL source distribution)\n",
       "Java Runtime: OpenJDK Runtime Environment\n",
       "JVM: OpenJDK 64-Bit Server VM\n",
       "Default Encoding: UTF-8\n",
       "Language: en\n",
       "Country: null\n",
       "--></g></svg>"
      ]
     },
     "execution_count": 20,
     "metadata": {},
     "output_type": "execute_result"
    }
   ],
   "source": [
    "%viz --style=\"LR\" --view=\"Action\" \"ConjugationTest\""
   ]
  },
  {
   "cell_type": "code",
   "execution_count": 21,
   "id": "d7bbf238",
   "metadata": {
    "execution": {
     "iopub.execute_input": "2022-02-18T10:47:45.739884Z",
     "iopub.status.busy": "2022-02-18T10:47:45.739447Z",
     "iopub.status.idle": "2022-02-18T10:47:45.744625Z",
     "shell.execute_reply": "2022-02-18T10:47:45.744941Z"
    }
   },
   "outputs": [
    {
     "data": {
      "image/svg+xml": [
       "<?xml version=\"1.0\" encoding=\"UTF-8\" standalone=\"no\"?><svg xmlns=\"http://www.w3.org/2000/svg\" xmlns:xlink=\"http://www.w3.org/1999/xlink\" contentScriptType=\"application/ecmascript\" contentStyleType=\"text/css\" height=\"12px\" preserveAspectRatio=\"none\" style=\"width:12px;height:12px;\" version=\"1.1\" viewBox=\"0 0 12 12\" width=\"12px\" zoomAndPan=\"magnify\"><defs/><g><!--MD5=[238c11ea2002f03115ad6b49a457d50e]\n",
       "@startuml\r\n",
       "skinparam roundcorner 20\r\n",
       "skinparam BoxPadding 20\r\n",
       "skinparam SequenceBoxBackgroundColor #white\r\n",
       "skinparam style strictuml\r\n",
       "skinparam maxMessageSize 100\r\n",
       "left to right direction\r\n",
       "skinparam monochrome true\r\n",
       "skinparam classbackgroundcolor white\r\n",
       "skinparam shadowing false\r\n",
       "skinparam wrapWidth 300\r\n",
       "hide circle\r\n",
       "\r\n",
       "@enduml\r\n",
       "\n",
       "PlantUML version 1.2020.13(Sat Jun 13 12:26:38 UTC 2020)\n",
       "(EPL source distribution)\n",
       "Java Runtime: OpenJDK Runtime Environment\n",
       "JVM: OpenJDK 64-Bit Server VM\n",
       "Default Encoding: UTF-8\n",
       "Language: en\n",
       "Country: null\n",
       "--></g></svg>"
      ]
     },
     "execution_count": 21,
     "metadata": {},
     "output_type": "execute_result"
    }
   ],
   "source": [
    "%viz --style=\"LR\" --view=\"Sequence\" \"ConjugationTest\""
   ]
  },
  {
   "cell_type": "code",
   "execution_count": 22,
   "id": "a2af9bdd",
   "metadata": {
    "execution": {
     "iopub.execute_input": "2022-02-18T10:47:45.795150Z",
     "iopub.status.busy": "2022-02-18T10:47:45.794667Z",
     "iopub.status.idle": "2022-02-18T10:47:45.852749Z",
     "shell.execute_reply": "2022-02-18T10:47:45.852381Z"
    }
   },
   "outputs": [
    {
     "data": {
      "image/svg+xml": [
       "<?xml version=\"1.0\" encoding=\"UTF-8\" standalone=\"no\"?><svg xmlns=\"http://www.w3.org/2000/svg\" xmlns:xlink=\"http://www.w3.org/1999/xlink\" contentScriptType=\"application/ecmascript\" contentStyleType=\"text/css\" height=\"638px\" preserveAspectRatio=\"none\" style=\"width:556px;height:638px;\" version=\"1.1\" viewBox=\"0 0 556 638\" width=\"556px\" zoomAndPan=\"magnify\"><defs/><g><!--MD5=[fbc87193dbaf4d95561dea2c320d4a47]\n",
       "cluster E1--><a href=\"psysml:62f2acf4-862e-4777-8380-6adbdab8aa3b\" target=\"_top\" title=\"psysml:62f2acf4-862e-4777-8380-6adbdab8aa3b\" xlink:actuate=\"onRequest\" xlink:href=\"psysml:62f2acf4-862e-4777-8380-6adbdab8aa3b\" xlink:show=\"new\" xlink:title=\"psysml:62f2acf4-862e-4777-8380-6adbdab8aa3b\" xlink:type=\"simple\"><polygon fill=\"#FFFFFF\" points=\"16,6,136,6,143,28.2969,534,28.2969,534,626,16,626,16,6\" style=\"stroke: #000000; stroke-width: 1.5;\"/><line style=\"stroke: #000000; stroke-width: 1.5;\" x1=\"16\" x2=\"143\" y1=\"28.2969\" y2=\"28.2969\"/><text fill=\"#000000\" font-family=\"sans-serif\" font-size=\"14\" font-weight=\"bold\" lengthAdjust=\"spacingAndGlyphs\" textLength=\"114\" x=\"20\" y=\"20.9951\">ConjugationTest</text></a><!--MD5=[b4997ac47864f28c2f74865a473b2911]\n",
       "class E2--><a href=\"psysml:8038ba5e-65f3-4a7c-a5d9-05577a1e913e\" target=\"_top\" title=\"psysml:8038ba5e-65f3-4a7c-a5d9-05577a1e913e\" xlink:actuate=\"onRequest\" xlink:href=\"psysml:8038ba5e-65f3-4a7c-a5d9-05577a1e913e\" xlink:show=\"new\" xlink:title=\"psysml:8038ba5e-65f3-4a7c-a5d9-05577a1e913e\" xlink:type=\"simple\"><rect fill=\"#FFFFFF\" height=\"45.9375\" id=\"E2\" style=\"stroke: #383838; stroke-width: 1.5;\" width=\"70\" x=\"448\" y=\"365\"/><text fill=\"#000000\" font-family=\"sans-serif\" font-size=\"12\" font-style=\"italic\" lengthAdjust=\"spacingAndGlyphs\" textLength=\"68\" x=\"449\" y=\"381.1387\">«port  def»</text><text fill=\"#000000\" font-family=\"sans-serif\" font-size=\"12\" lengthAdjust=\"spacingAndGlyphs\" textLength=\"8\" x=\"479\" y=\"395.1074\">P</text><line style=\"stroke: #383838; stroke-width: 1.5;\" x1=\"449\" x2=\"517\" y1=\"402.9375\" y2=\"402.9375\"/></a><!--MD5=[09b614a08d8cba4a07c9adeb5e0fee81]\n",
       "class E3--><a href=\"psysml:eb00d253-98ff-4ea5-9d4b-40f483d849ec\" target=\"_top\" title=\"psysml:eb00d253-98ff-4ea5-9d4b-40f483d849ec\" xlink:actuate=\"onRequest\" xlink:href=\"psysml:eb00d253-98ff-4ea5-9d4b-40f483d849ec\" xlink:show=\"new\" xlink:title=\"psysml:eb00d253-98ff-4ea5-9d4b-40f483d849ec\" xlink:type=\"simple\"><rect fill=\"#FFFFFF\" height=\"45.9375\" id=\"E3\" style=\"stroke: #383838; stroke-width: 1.5;\" width=\"70\" x=\"184\" y=\"82\"/><text fill=\"#000000\" font-family=\"sans-serif\" font-size=\"12\" font-style=\"italic\" lengthAdjust=\"spacingAndGlyphs\" textLength=\"68\" x=\"185\" y=\"98.1387\">«part  def»</text><text fill=\"#000000\" font-family=\"sans-serif\" font-size=\"12\" lengthAdjust=\"spacingAndGlyphs\" textLength=\"8\" x=\"215\" y=\"112.1074\">B</text><line style=\"stroke: #383838; stroke-width: 1.5;\" x1=\"185\" x2=\"253\" y1=\"119.9375\" y2=\"119.9375\"/></a><!--MD5=[ebbe1d658d1005bcc118a6aa81145e00]\n",
       "class E4--><a href=\"psysml:bd11b2df-eb92-4507-bbbb-c6493b57fcfa\" target=\"_top\" title=\"psysml:bd11b2df-eb92-4507-bbbb-c6493b57fcfa\" xlink:actuate=\"onRequest\" xlink:href=\"psysml:bd11b2df-eb92-4507-bbbb-c6493b57fcfa\" xlink:show=\"new\" xlink:title=\"psysml:bd11b2df-eb92-4507-bbbb-c6493b57fcfa\" xlink:type=\"simple\"><rect fill=\"#FFFFFF\" height=\"45.9375\" id=\"E4\" rx=\"10\" ry=\"10\" style=\"stroke: #383838; stroke-width: 1.5;\" width=\"42\" x=\"341\" y=\"122\"/><text fill=\"#000000\" font-family=\"sans-serif\" font-size=\"12\" font-style=\"italic\" lengthAdjust=\"spacingAndGlyphs\" textLength=\"40\" x=\"342\" y=\"138.1387\">«port»</text><text fill=\"#000000\" font-family=\"sans-serif\" font-size=\"12\" lengthAdjust=\"spacingAndGlyphs\" textLength=\"32\" x=\"344\" y=\"152.1074\">p1: P</text><line style=\"stroke: #383838; stroke-width: 1.5;\" x1=\"342\" x2=\"382\" y1=\"159.9375\" y2=\"159.9375\"/></a><!--MD5=[270fce915f116d4de14055a7c1d9a0f3]\n",
       "class E5--><a href=\"psysml:0cbe2724-4b46-4325-902f-a8a483156696\" target=\"_top\" title=\"psysml:0cbe2724-4b46-4325-902f-a8a483156696\" xlink:actuate=\"onRequest\" xlink:href=\"psysml:0cbe2724-4b46-4325-902f-a8a483156696\" xlink:show=\"new\" xlink:title=\"psysml:0cbe2724-4b46-4325-902f-a8a483156696\" xlink:type=\"simple\"><rect fill=\"#FFFFFF\" height=\"45.9375\" id=\"E5\" rx=\"10\" ry=\"10\" style=\"stroke: #383838; stroke-width: 1.5;\" width=\"52\" x=\"336\" y=\"41\"/><text fill=\"#000000\" font-family=\"sans-serif\" font-size=\"12\" font-style=\"italic\" lengthAdjust=\"spacingAndGlyphs\" textLength=\"40\" x=\"342\" y=\"57.1387\">«port»</text><text fill=\"#000000\" font-family=\"sans-serif\" font-size=\"12\" lengthAdjust=\"spacingAndGlyphs\" textLength=\"42\" x=\"339\" y=\"71.1074\">p2: ~P</text><line style=\"stroke: #383838; stroke-width: 1.5;\" x1=\"337\" x2=\"387\" y1=\"78.9375\" y2=\"78.9375\"/></a><!--MD5=[60a26617385b1d2d0262a64233df1f8d]\n",
       "class E6--><a href=\"psysml:c9adf55d-1d58-41e7-9c8f-305f1a380a4f\" target=\"_top\" title=\"psysml:c9adf55d-1d58-41e7-9c8f-305f1a380a4f\" xlink:actuate=\"onRequest\" xlink:href=\"psysml:c9adf55d-1d58-41e7-9c8f-305f1a380a4f\" xlink:show=\"new\" xlink:title=\"psysml:c9adf55d-1d58-41e7-9c8f-305f1a380a4f\" xlink:type=\"simple\"><rect fill=\"#FFFFFF\" height=\"45.9375\" id=\"E6\" style=\"stroke: #383838; stroke-width: 1.5;\" width=\"114\" x=\"162\" y=\"244\"/><text fill=\"#000000\" font-family=\"sans-serif\" font-size=\"12\" font-style=\"italic\" lengthAdjust=\"spacingAndGlyphs\" textLength=\"112\" x=\"163\" y=\"260.1387\">«connection  def»</text><text fill=\"#000000\" font-family=\"sans-serif\" font-size=\"12\" lengthAdjust=\"spacingAndGlyphs\" textLength=\"8\" x=\"215\" y=\"274.1074\">A</text><line style=\"stroke: #383838; stroke-width: 1.5;\" x1=\"163\" x2=\"275\" y1=\"281.9375\" y2=\"281.9375\"/></a><!--MD5=[2156ba9850f5573cc1fc38a6a4b2f02b]\n",
       "class E7--><a href=\"psysml:62009ff7-c341-4e72-a056-ce92de09505b\" target=\"_top\" title=\"psysml:62009ff7-c341-4e72-a056-ce92de09505b\" xlink:actuate=\"onRequest\" xlink:href=\"psysml:62009ff7-c341-4e72-a056-ce92de09505b\" xlink:show=\"new\" xlink:title=\"psysml:62009ff7-c341-4e72-a056-ce92de09505b\" xlink:type=\"simple\"><rect fill=\"#FFFFFF\" height=\"45.9375\" id=\"E7\" rx=\"10\" ry=\"10\" style=\"stroke: #383838; stroke-width: 1.5;\" width=\"42\" x=\"341\" y=\"284\"/><text fill=\"#000000\" font-family=\"sans-serif\" font-size=\"12\" font-style=\"italic\" lengthAdjust=\"spacingAndGlyphs\" textLength=\"40\" x=\"342\" y=\"300.1387\">«port»</text><text fill=\"#000000\" font-family=\"sans-serif\" font-size=\"12\" lengthAdjust=\"spacingAndGlyphs\" textLength=\"32\" x=\"344\" y=\"314.1074\">p1: P</text><line style=\"stroke: #383838; stroke-width: 1.5;\" x1=\"342\" x2=\"382\" y1=\"321.9375\" y2=\"321.9375\"/></a><!--MD5=[b9389687b975829384b498ac4b7476b2]\n",
       "class E8--><a href=\"psysml:50db7d15-a467-4fc6-8fb9-d943e9708b48\" target=\"_top\" title=\"psysml:50db7d15-a467-4fc6-8fb9-d943e9708b48\" xlink:actuate=\"onRequest\" xlink:href=\"psysml:50db7d15-a467-4fc6-8fb9-d943e9708b48\" xlink:show=\"new\" xlink:title=\"psysml:50db7d15-a467-4fc6-8fb9-d943e9708b48\" xlink:type=\"simple\"><rect fill=\"#FFFFFF\" height=\"45.9375\" id=\"E8\" rx=\"10\" ry=\"10\" style=\"stroke: #383838; stroke-width: 1.5;\" width=\"52\" x=\"336\" y=\"203\"/><text fill=\"#000000\" font-family=\"sans-serif\" font-size=\"12\" font-style=\"italic\" lengthAdjust=\"spacingAndGlyphs\" textLength=\"40\" x=\"342\" y=\"219.1387\">«port»</text><text fill=\"#000000\" font-family=\"sans-serif\" font-size=\"12\" lengthAdjust=\"spacingAndGlyphs\" textLength=\"42\" x=\"339\" y=\"233.1074\">p2: ~P</text><line style=\"stroke: #383838; stroke-width: 1.5;\" x1=\"337\" x2=\"387\" y1=\"240.9375\" y2=\"240.9375\"/></a><!--MD5=[fd4143e9d270a159db93a4ea2a975926]\n",
       "class E9--><a href=\"psysml:909b1fdd-cad7-4fe7-8f0f-a5ae3fa3dd03\" target=\"_top\" title=\"psysml:909b1fdd-cad7-4fe7-8f0f-a5ae3fa3dd03\" xlink:actuate=\"onRequest\" xlink:href=\"psysml:909b1fdd-cad7-4fe7-8f0f-a5ae3fa3dd03\" xlink:show=\"new\" xlink:title=\"psysml:909b1fdd-cad7-4fe7-8f0f-a5ae3fa3dd03\" xlink:type=\"simple\"><rect fill=\"#FFFFFF\" height=\"45.9375\" id=\"E9\" style=\"stroke: #383838; stroke-width: 1.5;\" width=\"100\" x=\"169\" y=\"406\"/><text fill=\"#000000\" font-family=\"sans-serif\" font-size=\"12\" font-style=\"italic\" lengthAdjust=\"spacingAndGlyphs\" textLength=\"98\" x=\"170\" y=\"422.1387\">«interface  def»</text><text fill=\"#000000\" font-family=\"sans-serif\" font-size=\"12\" lengthAdjust=\"spacingAndGlyphs\" textLength=\"3\" x=\"217.5\" y=\"436.1074\">I</text><line style=\"stroke: #383838; stroke-width: 1.5;\" x1=\"170\" x2=\"268\" y1=\"443.9375\" y2=\"443.9375\"/></a><!--MD5=[96f4274e9e20536e775497830990834d]\n",
       "class E10--><a href=\"psysml:4b05cf72-e027-47da-9c90-b867da4c93e0\" target=\"_top\" title=\"psysml:4b05cf72-e027-47da-9c90-b867da4c93e0\" xlink:actuate=\"onRequest\" xlink:href=\"psysml:4b05cf72-e027-47da-9c90-b867da4c93e0\" xlink:show=\"new\" xlink:title=\"psysml:4b05cf72-e027-47da-9c90-b867da4c93e0\" xlink:type=\"simple\"><rect fill=\"#FFFFFF\" height=\"45.9375\" id=\"E10\" rx=\"10\" ry=\"10\" style=\"stroke: #383838; stroke-width: 1.5;\" width=\"42\" x=\"341\" y=\"446\"/><text fill=\"#000000\" font-family=\"sans-serif\" font-size=\"12\" font-style=\"italic\" lengthAdjust=\"spacingAndGlyphs\" textLength=\"40\" x=\"342\" y=\"462.1387\">«port»</text><text fill=\"#000000\" font-family=\"sans-serif\" font-size=\"12\" lengthAdjust=\"spacingAndGlyphs\" textLength=\"32\" x=\"344\" y=\"476.1074\">p1: P</text><line style=\"stroke: #383838; stroke-width: 1.5;\" x1=\"342\" x2=\"382\" y1=\"483.9375\" y2=\"483.9375\"/></a><!--MD5=[1dd1bfd58a279cf63c5f349dbc8fc6a1]\n",
       "class E11--><a href=\"psysml:0c24ab80-75a0-44e9-976a-962e4e9af685\" target=\"_top\" title=\"psysml:0c24ab80-75a0-44e9-976a-962e4e9af685\" xlink:actuate=\"onRequest\" xlink:href=\"psysml:0c24ab80-75a0-44e9-976a-962e4e9af685\" xlink:show=\"new\" xlink:title=\"psysml:0c24ab80-75a0-44e9-976a-962e4e9af685\" xlink:type=\"simple\"><rect fill=\"#FFFFFF\" height=\"45.9375\" id=\"E11\" rx=\"10\" ry=\"10\" style=\"stroke: #383838; stroke-width: 1.5;\" width=\"52\" x=\"336\" y=\"365\"/><text fill=\"#000000\" font-family=\"sans-serif\" font-size=\"12\" font-style=\"italic\" lengthAdjust=\"spacingAndGlyphs\" textLength=\"40\" x=\"342\" y=\"381.1387\">«port»</text><text fill=\"#000000\" font-family=\"sans-serif\" font-size=\"12\" lengthAdjust=\"spacingAndGlyphs\" textLength=\"42\" x=\"339\" y=\"395.1074\">p2: ~P</text><line style=\"stroke: #383838; stroke-width: 1.5;\" x1=\"337\" x2=\"387\" y1=\"402.9375\" y2=\"402.9375\"/></a><!--MD5=[49a0ec8f00dab7302a31f22d0f0fe584]\n",
       "class E12--><a href=\"psysml:c2ec72d4-85fe-4c8d-a549-b327df7a4c85\" target=\"_top\" title=\"psysml:c2ec72d4-85fe-4c8d-a549-b327df7a4c85\" xlink:actuate=\"onRequest\" xlink:href=\"psysml:c2ec72d4-85fe-4c8d-a549-b327df7a4c85\" xlink:show=\"new\" xlink:title=\"psysml:c2ec72d4-85fe-4c8d-a549-b327df7a4c85\" xlink:type=\"simple\"><rect fill=\"#FFFFFF\" height=\"45.9375\" id=\"E12\" style=\"stroke: #383838; stroke-width: 1.5;\" width=\"70\" x=\"32\" y=\"546\"/><text fill=\"#000000\" font-family=\"sans-serif\" font-size=\"12\" font-style=\"italic\" lengthAdjust=\"spacingAndGlyphs\" textLength=\"68\" x=\"33\" y=\"562.1387\">«part  def»</text><text fill=\"#000000\" font-family=\"sans-serif\" font-size=\"12\" lengthAdjust=\"spacingAndGlyphs\" textLength=\"16\" x=\"59\" y=\"576.1074\">B1</text><line style=\"stroke: #383838; stroke-width: 1.5;\" x1=\"33\" x2=\"101\" y1=\"583.9375\" y2=\"583.9375\"/></a><!--MD5=[ee3c913d1a06f366521f9ef512b67efe]\n",
       "class E13--><a href=\"psysml:bf56b714-b103-43c5-844a-64ae22bea297\" target=\"_top\" title=\"psysml:bf56b714-b103-43c5-844a-64ae22bea297\" xlink:actuate=\"onRequest\" xlink:href=\"psysml:bf56b714-b103-43c5-844a-64ae22bea297\" xlink:show=\"new\" xlink:title=\"psysml:bf56b714-b103-43c5-844a-64ae22bea297\" xlink:type=\"simple\"><rect fill=\"#FFFFFF\" height=\"45.9375\" id=\"E13\" rx=\"10\" ry=\"10\" style=\"stroke: #383838; stroke-width: 1.5;\" width=\"42\" x=\"198\" y=\"546\"/><text fill=\"#000000\" font-family=\"sans-serif\" font-size=\"12\" font-style=\"italic\" lengthAdjust=\"spacingAndGlyphs\" textLength=\"40\" x=\"199\" y=\"562.1387\">«part»</text><text fill=\"#000000\" font-family=\"sans-serif\" font-size=\"12\" lengthAdjust=\"spacingAndGlyphs\" textLength=\"8\" x=\"213\" y=\"576.1074\">p</text><line style=\"stroke: #383838; stroke-width: 1.5;\" x1=\"199\" x2=\"239\" y1=\"583.9375\" y2=\"583.9375\"/></a><!--MD5=[bee11217b2f71d958a27249dc326068c]\n",
       "class E14--><a href=\"psysml:b5c2279c-6642-492b-a6cf-19efab06e689\" target=\"_top\" title=\"psysml:b5c2279c-6642-492b-a6cf-19efab06e689\" xlink:actuate=\"onRequest\" xlink:href=\"psysml:b5c2279c-6642-492b-a6cf-19efab06e689\" xlink:show=\"new\" xlink:title=\"psysml:b5c2279c-6642-492b-a6cf-19efab06e689\" xlink:type=\"simple\"><rect fill=\"#FFFFFF\" height=\"45.9375\" id=\"E14\" rx=\"10\" ry=\"10\" style=\"stroke: #383838; stroke-width: 1.5;\" width=\"42\" x=\"341\" y=\"527\"/><text fill=\"#000000\" font-family=\"sans-serif\" font-size=\"12\" font-style=\"italic\" lengthAdjust=\"spacingAndGlyphs\" textLength=\"40\" x=\"342\" y=\"543.1387\">«port»</text><text fill=\"#000000\" font-family=\"sans-serif\" font-size=\"12\" lengthAdjust=\"spacingAndGlyphs\" textLength=\"32\" x=\"344\" y=\"557.1074\">p1: P</text><line style=\"stroke: #383838; stroke-width: 1.5;\" x1=\"342\" x2=\"382\" y1=\"564.9375\" y2=\"564.9375\"/></a><!--MD5=[0c48fb7552dae8cbbef69381101a84c8]\n",
       "class E15--><a href=\"psysml:ed6b3600-9f65-4ffd-a058-1200daf10699\" target=\"_top\" title=\"psysml:ed6b3600-9f65-4ffd-a058-1200daf10699\" xlink:actuate=\"onRequest\" xlink:href=\"psysml:ed6b3600-9f65-4ffd-a058-1200daf10699\" xlink:show=\"new\" xlink:title=\"psysml:ed6b3600-9f65-4ffd-a058-1200daf10699\" xlink:type=\"simple\"><rect fill=\"#FFFFFF\" height=\"45.9375\" id=\"E15\" rx=\"10\" ry=\"10\" style=\"stroke: #383838; stroke-width: 1.5;\" width=\"52\" x=\"457\" y=\"527\"/><text fill=\"#000000\" font-family=\"sans-serif\" font-size=\"12\" font-style=\"italic\" lengthAdjust=\"spacingAndGlyphs\" textLength=\"40\" x=\"463\" y=\"543.1387\">«port»</text><text fill=\"#000000\" font-family=\"sans-serif\" font-size=\"12\" lengthAdjust=\"spacingAndGlyphs\" textLength=\"42\" x=\"460\" y=\"557.1074\">p2: ~P</text><line style=\"stroke: #383838; stroke-width: 1.5;\" x1=\"458\" x2=\"508\" y1=\"564.9375\" y2=\"564.9375\"/></a><!--MD5=[4672eba38e49728da53d11aeb285b987]\n",
       "reverse link E3 to E4--><a href=\"psysml:301fc48c-20ce-4bfe-ac1d-96f5db6094d0\" target=\"_top\" title=\"psysml:301fc48c-20ce-4bfe-ac1d-96f5db6094d0\" xlink:actuate=\"onRequest\" xlink:href=\"psysml:301fc48c-20ce-4bfe-ac1d-96f5db6094d0\" xlink:show=\"new\" xlink:title=\"psysml:301fc48c-20ce-4bfe-ac1d-96f5db6094d0\" xlink:type=\"simple\"><path d=\"M266.75,118.26 C291.83,125.38 321.45,133.78 340.69,139.24 \" fill=\"none\" id=\"E3&lt;-E4\" style=\"stroke: #383838; stroke-width: 1.0;\"/><polygon fill=\"#FFFFFF\" points=\"254.13,114.68,258.8135,120.1631,265.6762,117.9488,260.9927,112.4657,254.13,114.68\" style=\"stroke: #383838; stroke-width: 1.0;\"/><text fill=\"#000000\" font-family=\"sans-serif\" font-size=\"13\" lengthAdjust=\"spacingAndGlyphs\" textLength=\"8\" x=\"324.9388\" y=\"151.8697\">1</text></a><!--MD5=[185131fc0dcab0a4505a2ebe144e961b]\n",
       "link E4 to E2--><a href=\"psysml:2658e44c-8270-4dd2-9600-daf649b69d41\" target=\"_top\" title=\"psysml:2658e44c-8270-4dd2-9600-daf649b69d41\" xlink:actuate=\"onRequest\" xlink:href=\"psysml:2658e44c-8270-4dd2-9600-daf649b69d41\" xlink:show=\"new\" xlink:title=\"psysml:2658e44c-8270-4dd2-9600-daf649b69d41\" xlink:type=\"simple\"><path d=\"M378.3,168.4 C381.63,173.78 385.04,179.53 388,185 C417.41,239.32 446.56,304.51 464.42,346.08 \" fill=\"none\" id=\"E4-&gt;E2\" style=\"stroke: #383838; stroke-width: 1.0;\"/><polygon fill=\"#FFFFFF\" points=\"472.34,364.71,458.4602,349.9672,471.3427,344.4861,472.34,364.71\" style=\"stroke: #383838; stroke-width: 1.0;\"/><ellipse cx=\"458.069\" cy=\"343.9392\" fill=\"#383838\" rx=\"2\" ry=\"2\" style=\"stroke: #383838; stroke-width: 1.0;\"/><ellipse cx=\"467.2707\" cy=\"340.0241\" fill=\"#383838\" rx=\"2\" ry=\"2\" style=\"stroke: #383838; stroke-width: 1.0;\"/></a><!--MD5=[191cde3d490a3f6d7bb551fe3ddca469]\n",
       "reverse link E3 to E5--><a href=\"psysml:223fd842-0df9-4bd0-ad12-80c4696f3c55\" target=\"_top\" title=\"psysml:223fd842-0df9-4bd0-ad12-80c4696f3c55\" xlink:actuate=\"onRequest\" xlink:href=\"psysml:223fd842-0df9-4bd0-ad12-80c4696f3c55\" xlink:show=\"new\" xlink:title=\"psysml:223fd842-0df9-4bd0-ad12-80c4696f3c55\" xlink:type=\"simple\"><path d=\"M266.77,91.4 C289.71,84.73 316.46,76.95 335.58,71.39 \" fill=\"none\" id=\"E3&lt;-E5\" style=\"stroke: #383838; stroke-width: 1.0;\"/><polygon fill=\"#FFFFFF\" points=\"254.13,95.08,261.0109,97.2373,265.6487,91.7154,258.7678,89.5582,254.13,95.08\" style=\"stroke: #383838; stroke-width: 1.0;\"/><text fill=\"#000000\" font-family=\"sans-serif\" font-size=\"13\" lengthAdjust=\"spacingAndGlyphs\" textLength=\"8\" x=\"320.1651\" y=\"87.1101\">1</text></a><!--MD5=[3f50a3473f1dfb74d3f76443e03635af]\n",
       "reverse link E6 to E7--><a href=\"psysml:21746d6a-6182-4390-ad27-ac5c9b62bfbf\" target=\"_top\" title=\"psysml:21746d6a-6182-4390-ad27-ac5c9b62bfbf\" xlink:actuate=\"onRequest\" xlink:href=\"psysml:21746d6a-6182-4390-ad27-ac5c9b62bfbf\" xlink:show=\"new\" xlink:title=\"psysml:21746d6a-6182-4390-ad27-ac5c9b62bfbf\" xlink:type=\"simple\"><path d=\"M288.89,286.54 C307.92,291.94 327.12,297.39 340.91,301.3 \" fill=\"none\" id=\"E6&lt;-E7\" style=\"stroke: #383838; stroke-width: 1.0;\"/><polygon fill=\"#FFFFFF\" points=\"276.13,282.92,280.8135,288.4031,287.6762,286.1888,282.9927,280.7057,276.13,282.92\" style=\"stroke: #383838; stroke-width: 1.0;\"/><text fill=\"#000000\" font-family=\"sans-serif\" font-size=\"13\" lengthAdjust=\"spacingAndGlyphs\" textLength=\"8\" x=\"324.9126\" y=\"313.9718\">1</text></a><!--MD5=[583832df87f4419a098336a29a52fa00]\n",
       "link E7 to E2--><a href=\"psysml:ac292376-6896-4173-b580-fb46e7ca2b11\" target=\"_top\" title=\"psysml:ac292376-6896-4173-b580-fb46e7ca2b11\" xlink:actuate=\"onRequest\" xlink:href=\"psysml:ac292376-6896-4173-b580-fb46e7ca2b11\" xlink:show=\"new\" xlink:title=\"psysml:ac292376-6896-4173-b580-fb46e7ca2b11\" xlink:type=\"simple\"><path d=\"M383.19,320.74 C396.45,329.77 414.42,342 431.4,353.56 \" fill=\"none\" id=\"E7-&gt;E2\" style=\"stroke: #383838; stroke-width: 1.0;\"/><polygon fill=\"#FFFFFF\" points=\"448.17,364.97,428.5238,360.0681,436.4,348.4937,448.17,364.97\" style=\"stroke: #383838; stroke-width: 1.0;\"/><ellipse cx=\"424.9366\" cy=\"355.2079\" fill=\"#383838\" rx=\"2\" ry=\"2\" style=\"stroke: #383838; stroke-width: 1.0;\"/><ellipse cx=\"430.5624\" cy=\"346.9405\" fill=\"#383838\" rx=\"2\" ry=\"2\" style=\"stroke: #383838; stroke-width: 1.0;\"/></a><!--MD5=[f4cf0736d43fd73c4ef68817c49d37d5]\n",
       "reverse link E6 to E8--><a href=\"psysml:0a911d69-2e8c-46c6-ac57-f08740e1c2a7\" target=\"_top\" title=\"psysml:0a911d69-2e8c-46c6-ac57-f08740e1c2a7\" xlink:actuate=\"onRequest\" xlink:href=\"psysml:0a911d69-2e8c-46c6-ac57-f08740e1c2a7\" xlink:show=\"new\" xlink:title=\"psysml:0a911d69-2e8c-46c6-ac57-f08740e1c2a7\" xlink:type=\"simple\"><path d=\"M288.92,246.96 C305.75,242.06 322.71,237.13 335.94,233.29 \" fill=\"none\" id=\"E6&lt;-E8\" style=\"stroke: #383838; stroke-width: 1.0;\"/><polygon fill=\"#FFFFFF\" points=\"276.13,250.68,283.0102,252.8394,287.6497,247.319,280.7695,245.1596,276.13,250.68\" style=\"stroke: #383838; stroke-width: 1.0;\"/><text fill=\"#000000\" font-family=\"sans-serif\" font-size=\"13\" lengthAdjust=\"spacingAndGlyphs\" textLength=\"8\" x=\"319.8614\" y=\"249.358\">1</text></a><!--MD5=[23ac544a70576c3e717098101004234c]\n",
       "reverse link E9 to E10--><a href=\"psysml:7a6ef9a5-ee54-4bad-bee0-b6cd150b3ba6\" target=\"_top\" title=\"psysml:7a6ef9a5-ee54-4bad-bee0-b6cd150b3ba6\" xlink:actuate=\"onRequest\" xlink:href=\"psysml:7a6ef9a5-ee54-4bad-bee0-b6cd150b3ba6\" xlink:show=\"new\" xlink:title=\"psysml:7a6ef9a5-ee54-4bad-bee0-b6cd150b3ba6\" xlink:type=\"simple\"><path d=\"M281.98,446.58 C303.2,452.6 325.47,458.92 340.94,463.31 \" fill=\"none\" id=\"E9&lt;-E10\" style=\"stroke: #383838; stroke-width: 1.0;\"/><polygon fill=\"#FFFFFF\" points=\"269.31,442.99,273.9935,448.4731,280.8562,446.2588,276.1727,440.7757,269.31,442.99\" style=\"stroke: #383838; stroke-width: 1.0;\"/><text fill=\"#000000\" font-family=\"sans-serif\" font-size=\"13\" lengthAdjust=\"spacingAndGlyphs\" textLength=\"8\" x=\"324.9521\" y=\"475.985\">1</text></a><!--MD5=[0f36bececdf0dff6e600d6f64214b0f1]\n",
       "link E10 to E2--><a href=\"psysml:1b1dbb40-b684-43d5-9e90-095d8f580599\" target=\"_top\" title=\"psysml:1b1dbb40-b684-43d5-9e90-095d8f580599\" xlink:actuate=\"onRequest\" xlink:href=\"psysml:1b1dbb40-b684-43d5-9e90-095d8f580599\" xlink:show=\"new\" xlink:title=\"psysml:1b1dbb40-b684-43d5-9e90-095d8f580599\" xlink:type=\"simple\"><path d=\"M383.19,455.26 C396.45,446.23 414.42,434 431.4,422.44 \" fill=\"none\" id=\"E10-&gt;E2\" style=\"stroke: #383838; stroke-width: 1.0;\"/><polygon fill=\"#FFFFFF\" points=\"448.17,411.03,436.4,427.5063,428.5238,415.9319,448.17,411.03\" style=\"stroke: #383838; stroke-width: 1.0;\"/><ellipse cx=\"430.5624\" cy=\"429.0595\" fill=\"#383838\" rx=\"2\" ry=\"2\" style=\"stroke: #383838; stroke-width: 1.0;\"/><ellipse cx=\"424.9366\" cy=\"420.7921\" fill=\"#383838\" rx=\"2\" ry=\"2\" style=\"stroke: #383838; stroke-width: 1.0;\"/></a><!--MD5=[1fc04a95fd77ad5ce46c1a3027516051]\n",
       "reverse link E9 to E11--><a href=\"psysml:26e0bda0-b5f1-463e-8de4-6289f85dc961\" target=\"_top\" title=\"psysml:26e0bda0-b5f1-463e-8de4-6289f85dc961\" xlink:actuate=\"onRequest\" xlink:href=\"psysml:26e0bda0-b5f1-463e-8de4-6289f85dc961\" xlink:show=\"new\" xlink:title=\"psysml:26e0bda0-b5f1-463e-8de4-6289f85dc961\" xlink:type=\"simple\"><path d=\"M281.9,411 C300.85,405.49 320.63,399.74 335.68,395.36 \" fill=\"none\" id=\"E9&lt;-E11\" style=\"stroke: #383838; stroke-width: 1.0;\"/><polygon fill=\"#FFFFFF\" points=\"269.31,414.66,276.1879,416.8267,280.8332,411.3111,273.9553,409.1445,269.31,414.66\" style=\"stroke: #383838; stroke-width: 1.0;\"/><text fill=\"#000000\" font-family=\"sans-serif\" font-size=\"13\" lengthAdjust=\"spacingAndGlyphs\" textLength=\"8\" x=\"319.9105\" y=\"411.2598\">1</text></a><!--MD5=[062ed86c389d1a88f61c6380d0491e17]\n",
       "reverse link E12 to E13--><a href=\"psysml:b5605e58-b315-4dd3-8e84-581a703b4e2b\" target=\"_top\" title=\"psysml:b5605e58-b315-4dd3-8e84-581a703b4e2b\" xlink:actuate=\"onRequest\" xlink:href=\"psysml:b5605e58-b315-4dd3-8e84-581a703b4e2b\" xlink:show=\"new\" xlink:title=\"psysml:b5605e58-b315-4dd3-8e84-581a703b4e2b\" xlink:type=\"simple\"><path d=\"M115.15,569 C143.02,569 176.85,569 197.91,569 \" fill=\"none\" id=\"E12&lt;-E13\" style=\"stroke: #383838; stroke-width: 1.0;\"/><polygon fill=\"#383838\" points=\"102.04,569,108.04,573,114.04,569,108.04,565,102.04,569\" style=\"stroke: #383838; stroke-width: 1.0;\"/><text fill=\"#000000\" font-family=\"sans-serif\" font-size=\"13\" lengthAdjust=\"spacingAndGlyphs\" textLength=\"8\" x=\"181.9126\" y=\"583.4886\">1</text></a><!--MD5=[01db00f33b28669d6d9febea71002831]\n",
       "reverse link E13 to E14--><a href=\"psysml:db42b499-220f-4c1a-8731-eb36b8c82e1e\" target=\"_top\" title=\"psysml:db42b499-220f-4c1a-8731-eb36b8c82e1e\" xlink:actuate=\"onRequest\" xlink:href=\"psysml:db42b499-220f-4c1a-8731-eb36b8c82e1e\" xlink:show=\"new\" xlink:title=\"psysml:db42b499-220f-4c1a-8731-eb36b8c82e1e\" xlink:type=\"simple\"><path d=\"M253.34,564.51 C280.53,560.84 318.03,555.79 340.84,552.72 \" fill=\"none\" id=\"E13&lt;-E14\" style=\"stroke: #383838; stroke-width: 1.0;\"/><polygon fill=\"#FFFFFF\" points=\"240.2,566.28,246.6786,569.4468,252.0935,564.6845,245.6149,561.5178,240.2,566.28\" style=\"stroke: #383838; stroke-width: 1.0;\"/><text fill=\"#000000\" font-family=\"sans-serif\" font-size=\"13\" lengthAdjust=\"spacingAndGlyphs\" textLength=\"8\" x=\"325.1347\" y=\"567.9467\">1</text></a><!--MD5=[e5566ac99d7714697a7fbc17f6b550fe]\n",
       "link E14 to E2--><a href=\"psysml:7155c58b-23e7-41d9-a472-3863cff0084f\" target=\"_top\" title=\"psysml:7155c58b-23e7-41d9-a472-3863cff0084f\" xlink:actuate=\"onRequest\" xlink:href=\"psysml:7155c58b-23e7-41d9-a472-3863cff0084f\" xlink:show=\"new\" xlink:title=\"psysml:7155c58b-23e7-41d9-a472-3863cff0084f\" xlink:type=\"simple\"><path d=\"M380.05,526.79 C399.05,500.93 430.1,458.66 452.95,427.55 \" fill=\"none\" id=\"E14-&gt;E2\" style=\"stroke: #383838; stroke-width: 1.0;\"/><polygon fill=\"#FFFFFF\" points=\"464.98,411.17,459.3687,430.6254,448.0877,422.3346,464.98,411.17\" style=\"stroke: #383838; stroke-width: 1.0;\"/><ellipse cx=\"454.3816\" cy=\"434.034\" fill=\"#383838\" rx=\"2\" ry=\"2\" style=\"stroke: #383838; stroke-width: 1.0;\"/><ellipse cx=\"446.3237\" cy=\"428.112\" fill=\"#383838\" rx=\"2\" ry=\"2\" style=\"stroke: #383838; stroke-width: 1.0;\"/></a><!--MD5=[e9a5e828c71fd2209a11a152f562d491]\n",
       "reverse link E13 to E15--><a href=\"psysml:2699a371-802b-44a3-9d88-da30e2130afc\" target=\"_top\" title=\"psysml:2699a371-802b-44a3-9d88-da30e2130afc\" xlink:actuate=\"onRequest\" xlink:href=\"psysml:2699a371-802b-44a3-9d88-da30e2130afc\" xlink:show=\"new\" xlink:title=\"psysml:2699a371-802b-44a3-9d88-da30e2130afc\" xlink:type=\"simple\"><path d=\"M252.9,579.79 C286.95,589.44 341.56,600.69 388,591 C412.4,585.91 438.23,574.13 456.62,564.49 \" fill=\"none\" id=\"E13&lt;-E15\" style=\"stroke: #383838; stroke-width: 1.0;\"/><polygon fill=\"#FFFFFF\" points=\"240.08,575.95,244.6811,581.5025,251.5761,579.3909,246.975,573.8384,240.08,575.95\" style=\"stroke: #383838; stroke-width: 1.0;\"/><text fill=\"#000000\" font-family=\"sans-serif\" font-size=\"13\" lengthAdjust=\"spacingAndGlyphs\" textLength=\"8\" x=\"440.8351\" y=\"582.2169\">1</text></a><!--MD5=[3afbdc645381407e1bc99677323a2513]\n",
       "link E14 to E15--><a href=\"psysml:1d4c99f1-723b-47e9-b0a9-a2cf4f06711c\" target=\"_top\" title=\"psysml:1d4c99f1-723b-47e9-b0a9-a2cf4f06711c\" xlink:actuate=\"onRequest\" xlink:href=\"psysml:1d4c99f1-723b-47e9-b0a9-a2cf4f06711c\" xlink:show=\"new\" xlink:title=\"psysml:1d4c99f1-723b-47e9-b0a9-a2cf4f06711c\" xlink:type=\"simple\"><path d=\"M383.19,559.85 C403.48,563.43 434.81,563.69 456.74,560.65 \" fill=\"none\" id=\"E14-E15\" style=\"stroke: #383838; stroke-width: 3.0;\"/></a><!--MD5=[3afbdc645381407e1bc99677323a2513]\n",
       "link E14 to E15--><a href=\"psysml:99ef5f64-108a-4414-ad16-a52f47db38b7\" target=\"_top\" title=\"psysml:99ef5f64-108a-4414-ad16-a52f47db38b7\" xlink:actuate=\"onRequest\" xlink:href=\"psysml:99ef5f64-108a-4414-ad16-a52f47db38b7\" xlink:show=\"new\" xlink:title=\"psysml:99ef5f64-108a-4414-ad16-a52f47db38b7\" xlink:type=\"simple\"><path d=\"M383.19,539.57 C403.48,535.78 434.81,535.5 456.74,538.72 \" fill=\"none\" id=\"E14-E15-1\" style=\"stroke: #383838; stroke-width: 3.0;\"/></a><!--MD5=[1a39be16588b6610938abcb899bcec17]\n",
       "@startuml\r\n",
       "left to right direction\r\n",
       "skinparam monochrome true\r\n",
       "skinparam classbackgroundcolor white\r\n",
       "skinparam shadowing false\r\n",
       "skinparam wrapWidth 300\r\n",
       "hide circle\r\n",
       "\r\n",
       "package \"ConjugationTest\" as E1  [[psysml:62f2acf4-862e-4777-8380-6adbdab8aa3b ]]  {\r\n",
       "comp def \"P\" as E2  <<(T,blue) port  def>> [[psysml:8038ba5e-65f3-4a7c-a5d9-05577a1e913e ]] {\r\n",
       "}\r\n",
       "comp def \"B\" as E3  <<(T,blue) part  def>> [[psysml:eb00d253-98ff-4ea5-9d4b-40f483d849ec ]] {\r\n",
       "}\r\n",
       "comp usage \"p1: P \" as E4  <<(T,blue) port>> [[psysml:bd11b2df-eb92-4507-bbbb-c6493b57fcfa ]] {\r\n",
       "}\r\n",
       "comp usage \"p2: ~P \" as E5  <<(T,blue) port>> [[psysml:0cbe2724-4b46-4325-902f-a8a483156696 ]] {\r\n",
       "}\r\n",
       "comp def \"A\" as E6  <<(T,blue) connection  def>> [[psysml:c9adf55d-1d58-41e7-9c8f-305f1a380a4f ]] {\r\n",
       "}\r\n",
       "comp usage \"p1: P \" as E7  <<(T,blue) port>> [[psysml:62009ff7-c341-4e72-a056-ce92de09505b ]] {\r\n",
       "}\r\n",
       "comp usage \"p2: ~P \" as E8  <<(T,blue) port>> [[psysml:50db7d15-a467-4fc6-8fb9-d943e9708b48 ]] {\r\n",
       "}\r\n",
       "comp def \"I\" as E9  <<(T,blue) interface  def>> [[psysml:909b1fdd-cad7-4fe7-8f0f-a5ae3fa3dd03 ]] {\r\n",
       "}\r\n",
       "comp usage \"p1: P \" as E10  <<(T,blue) port>> [[psysml:4b05cf72-e027-47da-9c90-b867da4c93e0 ]] {\r\n",
       "}\r\n",
       "comp usage \"p2: ~P \" as E11  <<(T,blue) port>> [[psysml:0c24ab80-75a0-44e9-976a-962e4e9af685 ]] {\r\n",
       "}\r\n",
       "comp def \"B1\" as E12  <<(T,blue) part  def>> [[psysml:c2ec72d4-85fe-4c8d-a549-b327df7a4c85 ]] {\r\n",
       "}\r\n",
       "comp usage \"p \" as E13  <<(T,blue) part>> [[psysml:bf56b714-b103-43c5-844a-64ae22bea297 ]] {\r\n",
       "}\r\n",
       "comp usage \"p1: P \" as E14  <<(T,blue) port>> [[psysml:b5c2279c-6642-492b-a6cf-19efab06e689 ]] {\r\n",
       "}\r\n",
       "comp usage \"p2: ~P \" as E15  <<(T,blue) port>> [[psysml:ed6b3600-9f65-4ffd-a058-1200daf10699 ]] {\r\n",
       "}\r\n",
       "}\r\n",
       "E3 o- - \"1\"E4 [[psysml:301fc48c-20ce-4bfe-ac1d-96f5db6094d0 ]] \r\n",
       "E4 - -:|> E2 [[psysml:2658e44c-8270-4dd2-9600-daf649b69d41 ]] \r\n",
       "E3 o- - \"1\"E5 [[psysml:223fd842-0df9-4bd0-ad12-80c4696f3c55 ]] \r\n",
       "E6 o- - \"1\"E7 [[psysml:21746d6a-6182-4390-ad27-ac5c9b62bfbf ]] \r\n",
       "E7 - -:|> E2 [[psysml:ac292376-6896-4173-b580-fb46e7ca2b11 ]] \r\n",
       "E6 o- - \"1\"E8 [[psysml:0a911d69-2e8c-46c6-ac57-f08740e1c2a7 ]] \r\n",
       "E9 o- - \"1\"E10 [[psysml:7a6ef9a5-ee54-4bad-bee0-b6cd150b3ba6 ]] \r\n",
       "E10 - -:|> E2 [[psysml:1b1dbb40-b684-43d5-9e90-095d8f580599 ]] \r\n",
       "E9 o- - \"1\"E11 [[psysml:26e0bda0-b5f1-463e-8de4-6289f85dc961 ]] \r\n",
       "E12 *- - \"1\"E13 [[psysml:b5605e58-b315-4dd3-8e84-581a703b4e2b ]] \r\n",
       "E13 o- - \"1\"E14 [[psysml:db42b499-220f-4c1a-8731-eb36b8c82e1e ]] \r\n",
       "E14 - -:|> E2 [[psysml:7155c58b-23e7-41d9-a472-3863cff0084f ]] \r\n",
       "E13 o- - \"1\"E15 [[psysml:2699a371-802b-44a3-9d88-da30e2130afc ]] \r\n",
       "E14 -[thickness=3]- E15 [[psysml:1d4c99f1-723b-47e9-b0a9-a2cf4f06711c ]] \r\n",
       "E14 -[thickness=3]- E15 [[psysml:99ef5f64-108a-4414-ad16-a52f47db38b7 ]] \r\n",
       "@enduml\r\n",
       "\n",
       "PlantUML version 1.2020.13(Sat Jun 13 12:26:38 UTC 2020)\n",
       "(EPL source distribution)\n",
       "Java Runtime: OpenJDK Runtime Environment\n",
       "JVM: OpenJDK 64-Bit Server VM\n",
       "Default Encoding: UTF-8\n",
       "Language: en\n",
       "Country: null\n",
       "--></g></svg>"
      ]
     },
     "execution_count": 22,
     "metadata": {},
     "output_type": "execute_result"
    }
   ],
   "source": [
    "%viz --style=\"LR\" --view=\"MIXED\" \"ConjugationTest\""
   ]
  },
  {
   "cell_type": "code",
   "execution_count": 23,
   "id": "7524780a",
   "metadata": {
    "execution": {
     "iopub.execute_input": "2022-02-18T10:47:45.902037Z",
     "iopub.status.busy": "2022-02-18T10:47:45.901746Z",
     "iopub.status.idle": "2022-02-18T10:47:45.959260Z",
     "shell.execute_reply": "2022-02-18T10:47:45.958996Z"
    }
   },
   "outputs": [
    {
     "data": {
      "image/svg+xml": [
       "<?xml version=\"1.0\" encoding=\"UTF-8\" standalone=\"no\"?><svg xmlns=\"http://www.w3.org/2000/svg\" xmlns:xlink=\"http://www.w3.org/1999/xlink\" contentScriptType=\"application/ecmascript\" contentStyleType=\"text/css\" height=\"433px\" preserveAspectRatio=\"none\" style=\"width:641px;height:433px;\" version=\"1.1\" viewBox=\"0 0 641 433\" width=\"641px\" zoomAndPan=\"magnify\"><defs><filter height=\"300%\" id=\"futgimmutug8y\" width=\"300%\" x=\"-1\" y=\"-1\"><feGaussianBlur result=\"blurOut\" stdDeviation=\"2.0\"/><feColorMatrix in=\"blurOut\" result=\"blurOut2\" type=\"matrix\" values=\"0 0 0 0 0 0 0 0 0 0 0 0 0 0 0 0 0 0 .4 0\"/><feOffset dx=\"4.0\" dy=\"4.0\" in=\"blurOut2\" result=\"blurOut3\"/><feBlend in=\"SourceGraphic\" in2=\"blurOut3\" mode=\"normal\"/></filter></defs><g><!--MD5=[fbc87193dbaf4d95561dea2c320d4a47]\n",
       "cluster E1--><a href=\"psysml:62f2acf4-862e-4777-8380-6adbdab8aa3b\" target=\"_top\" title=\"psysml:62f2acf4-862e-4777-8380-6adbdab8aa3b\" xlink:actuate=\"onRequest\" xlink:href=\"psysml:62f2acf4-862e-4777-8380-6adbdab8aa3b\" xlink:show=\"new\" xlink:title=\"psysml:62f2acf4-862e-4777-8380-6adbdab8aa3b\" xlink:type=\"simple\"><polygon fill=\"#FFFFFF\" filter=\"url(#futgimmutug8y)\" points=\"16,6,136,6,143,28.2969,619,28.2969,619,421,16,421,16,6\" style=\"stroke: #000000; stroke-width: 1.5;\"/><line style=\"stroke: #000000; stroke-width: 1.5;\" x1=\"16\" x2=\"143\" y1=\"28.2969\" y2=\"28.2969\"/><text fill=\"#000000\" font-family=\"sans-serif\" font-size=\"14\" font-weight=\"bold\" lengthAdjust=\"spacingAndGlyphs\" textLength=\"114\" x=\"20\" y=\"20.9951\">ConjugationTest</text></a><!--MD5=[b4997ac47864f28c2f74865a473b2911]\n",
       "class E2--><a href=\"psysml:8038ba5e-65f3-4a7c-a5d9-05577a1e913e\" target=\"_top\" title=\"psysml:8038ba5e-65f3-4a7c-a5d9-05577a1e913e\" xlink:actuate=\"onRequest\" xlink:href=\"psysml:8038ba5e-65f3-4a7c-a5d9-05577a1e913e\" xlink:show=\"new\" xlink:title=\"psysml:8038ba5e-65f3-4a7c-a5d9-05577a1e913e\" xlink:type=\"simple\"><rect fill=\"#FEFECE\" filter=\"url(#futgimmutug8y)\" height=\"45.9375\" id=\"E2\" style=\"stroke: #A80036; stroke-width: 1.5;\" width=\"70\" x=\"223\" y=\"359\"/><text fill=\"#000000\" font-family=\"sans-serif\" font-size=\"12\" font-style=\"italic\" lengthAdjust=\"spacingAndGlyphs\" textLength=\"68\" x=\"224\" y=\"375.1387\">«port  def»</text><text fill=\"#000000\" font-family=\"sans-serif\" font-size=\"12\" lengthAdjust=\"spacingAndGlyphs\" textLength=\"8\" x=\"254\" y=\"389.1074\">P</text><line style=\"stroke: #A80036; stroke-width: 1.5;\" x1=\"224\" x2=\"292\" y1=\"396.9375\" y2=\"396.9375\"/></a><!--MD5=[09b614a08d8cba4a07c9adeb5e0fee81]\n",
       "class E3--><a href=\"psysml:eb00d253-98ff-4ea5-9d4b-40f483d849ec\" target=\"_top\" title=\"psysml:eb00d253-98ff-4ea5-9d4b-40f483d849ec\" xlink:actuate=\"onRequest\" xlink:href=\"psysml:eb00d253-98ff-4ea5-9d4b-40f483d849ec\" xlink:show=\"new\" xlink:title=\"psysml:eb00d253-98ff-4ea5-9d4b-40f483d849ec\" xlink:type=\"simple\"><rect fill=\"#FEFECE\" filter=\"url(#futgimmutug8y)\" height=\"45.9375\" id=\"E3\" style=\"stroke: #A80036; stroke-width: 1.5;\" width=\"70\" x=\"496\" y=\"147\"/><text fill=\"#000000\" font-family=\"sans-serif\" font-size=\"12\" font-style=\"italic\" lengthAdjust=\"spacingAndGlyphs\" textLength=\"68\" x=\"497\" y=\"163.1387\">«part  def»</text><text fill=\"#000000\" font-family=\"sans-serif\" font-size=\"12\" lengthAdjust=\"spacingAndGlyphs\" textLength=\"8\" x=\"527\" y=\"177.1074\">B</text><line style=\"stroke: #A80036; stroke-width: 1.5;\" x1=\"497\" x2=\"565\" y1=\"184.9375\" y2=\"184.9375\"/></a><!--MD5=[ebbe1d658d1005bcc118a6aa81145e00]\n",
       "class E4--><a href=\"psysml:bd11b2df-eb92-4507-bbbb-c6493b57fcfa\" target=\"_top\" title=\"psysml:bd11b2df-eb92-4507-bbbb-c6493b57fcfa\" xlink:actuate=\"onRequest\" xlink:href=\"psysml:bd11b2df-eb92-4507-bbbb-c6493b57fcfa\" xlink:show=\"new\" xlink:title=\"psysml:bd11b2df-eb92-4507-bbbb-c6493b57fcfa\" xlink:type=\"simple\"><rect fill=\"#FEFECE\" filter=\"url(#futgimmutug8y)\" height=\"45.9375\" id=\"E4\" rx=\"10\" ry=\"10\" style=\"stroke: #A80036; stroke-width: 1.5;\" width=\"42\" x=\"474\" y=\"253\"/><text fill=\"#000000\" font-family=\"sans-serif\" font-size=\"12\" font-style=\"italic\" lengthAdjust=\"spacingAndGlyphs\" textLength=\"40\" x=\"475\" y=\"269.1387\">«port»</text><text fill=\"#000000\" font-family=\"sans-serif\" font-size=\"12\" lengthAdjust=\"spacingAndGlyphs\" textLength=\"32\" x=\"477\" y=\"283.1074\">p1: P</text><line style=\"stroke: #A80036; stroke-width: 1.5;\" x1=\"475\" x2=\"515\" y1=\"290.9375\" y2=\"290.9375\"/></a><!--MD5=[270fce915f116d4de14055a7c1d9a0f3]\n",
       "class E5--><a href=\"psysml:0cbe2724-4b46-4325-902f-a8a483156696\" target=\"_top\" title=\"psysml:0cbe2724-4b46-4325-902f-a8a483156696\" xlink:actuate=\"onRequest\" xlink:href=\"psysml:0cbe2724-4b46-4325-902f-a8a483156696\" xlink:show=\"new\" xlink:title=\"psysml:0cbe2724-4b46-4325-902f-a8a483156696\" xlink:type=\"simple\"><rect fill=\"#FEFECE\" filter=\"url(#futgimmutug8y)\" height=\"45.9375\" id=\"E5\" rx=\"10\" ry=\"10\" style=\"stroke: #A80036; stroke-width: 1.5;\" width=\"52\" x=\"551\" y=\"253\"/><text fill=\"#000000\" font-family=\"sans-serif\" font-size=\"12\" font-style=\"italic\" lengthAdjust=\"spacingAndGlyphs\" textLength=\"40\" x=\"557\" y=\"269.1387\">«port»</text><text fill=\"#000000\" font-family=\"sans-serif\" font-size=\"12\" lengthAdjust=\"spacingAndGlyphs\" textLength=\"42\" x=\"554\" y=\"283.1074\">p2: ~P</text><line style=\"stroke: #A80036; stroke-width: 1.5;\" x1=\"552\" x2=\"602\" y1=\"290.9375\" y2=\"290.9375\"/></a><!--MD5=[60a26617385b1d2d0262a64233df1f8d]\n",
       "class E6--><a href=\"psysml:c9adf55d-1d58-41e7-9c8f-305f1a380a4f\" target=\"_top\" title=\"psysml:c9adf55d-1d58-41e7-9c8f-305f1a380a4f\" xlink:actuate=\"onRequest\" xlink:href=\"psysml:c9adf55d-1d58-41e7-9c8f-305f1a380a4f\" xlink:show=\"new\" xlink:title=\"psysml:c9adf55d-1d58-41e7-9c8f-305f1a380a4f\" xlink:type=\"simple\"><rect fill=\"#FEFECE\" filter=\"url(#futgimmutug8y)\" height=\"45.9375\" id=\"E6\" style=\"stroke: #A80036; stroke-width: 1.5;\" width=\"114\" x=\"283\" y=\"147\"/><text fill=\"#000000\" font-family=\"sans-serif\" font-size=\"12\" font-style=\"italic\" lengthAdjust=\"spacingAndGlyphs\" textLength=\"112\" x=\"284\" y=\"163.1387\">«connection  def»</text><text fill=\"#000000\" font-family=\"sans-serif\" font-size=\"12\" lengthAdjust=\"spacingAndGlyphs\" textLength=\"8\" x=\"336\" y=\"177.1074\">A</text><line style=\"stroke: #A80036; stroke-width: 1.5;\" x1=\"284\" x2=\"396\" y1=\"184.9375\" y2=\"184.9375\"/></a><!--MD5=[2156ba9850f5573cc1fc38a6a4b2f02b]\n",
       "class E7--><a href=\"psysml:62009ff7-c341-4e72-a056-ce92de09505b\" target=\"_top\" title=\"psysml:62009ff7-c341-4e72-a056-ce92de09505b\" xlink:actuate=\"onRequest\" xlink:href=\"psysml:62009ff7-c341-4e72-a056-ce92de09505b\" xlink:show=\"new\" xlink:title=\"psysml:62009ff7-c341-4e72-a056-ce92de09505b\" xlink:type=\"simple\"><rect fill=\"#FEFECE\" filter=\"url(#futgimmutug8y)\" height=\"45.9375\" id=\"E7\" rx=\"10\" ry=\"10\" style=\"stroke: #A80036; stroke-width: 1.5;\" width=\"42\" x=\"310\" y=\"253\"/><text fill=\"#000000\" font-family=\"sans-serif\" font-size=\"12\" font-style=\"italic\" lengthAdjust=\"spacingAndGlyphs\" textLength=\"40\" x=\"311\" y=\"269.1387\">«port»</text><text fill=\"#000000\" font-family=\"sans-serif\" font-size=\"12\" lengthAdjust=\"spacingAndGlyphs\" textLength=\"32\" x=\"313\" y=\"283.1074\">p1: P</text><line style=\"stroke: #A80036; stroke-width: 1.5;\" x1=\"311\" x2=\"351\" y1=\"290.9375\" y2=\"290.9375\"/></a><!--MD5=[b9389687b975829384b498ac4b7476b2]\n",
       "class E8--><a href=\"psysml:50db7d15-a467-4fc6-8fb9-d943e9708b48\" target=\"_top\" title=\"psysml:50db7d15-a467-4fc6-8fb9-d943e9708b48\" xlink:actuate=\"onRequest\" xlink:href=\"psysml:50db7d15-a467-4fc6-8fb9-d943e9708b48\" xlink:show=\"new\" xlink:title=\"psysml:50db7d15-a467-4fc6-8fb9-d943e9708b48\" xlink:type=\"simple\"><rect fill=\"#FEFECE\" filter=\"url(#futgimmutug8y)\" height=\"45.9375\" id=\"E8\" rx=\"10\" ry=\"10\" style=\"stroke: #A80036; stroke-width: 1.5;\" width=\"52\" x=\"387\" y=\"253\"/><text fill=\"#000000\" font-family=\"sans-serif\" font-size=\"12\" font-style=\"italic\" lengthAdjust=\"spacingAndGlyphs\" textLength=\"40\" x=\"393\" y=\"269.1387\">«port»</text><text fill=\"#000000\" font-family=\"sans-serif\" font-size=\"12\" lengthAdjust=\"spacingAndGlyphs\" textLength=\"42\" x=\"390\" y=\"283.1074\">p2: ~P</text><line style=\"stroke: #A80036; stroke-width: 1.5;\" x1=\"388\" x2=\"438\" y1=\"290.9375\" y2=\"290.9375\"/></a><!--MD5=[fd4143e9d270a159db93a4ea2a975926]\n",
       "class E9--><a href=\"psysml:909b1fdd-cad7-4fe7-8f0f-a5ae3fa3dd03\" target=\"_top\" title=\"psysml:909b1fdd-cad7-4fe7-8f0f-a5ae3fa3dd03\" xlink:actuate=\"onRequest\" xlink:href=\"psysml:909b1fdd-cad7-4fe7-8f0f-a5ae3fa3dd03\" xlink:show=\"new\" xlink:title=\"psysml:909b1fdd-cad7-4fe7-8f0f-a5ae3fa3dd03\" xlink:type=\"simple\"><rect fill=\"#FEFECE\" filter=\"url(#futgimmutug8y)\" height=\"45.9375\" id=\"E9\" style=\"stroke: #A80036; stroke-width: 1.5;\" width=\"100\" x=\"144\" y=\"147\"/><text fill=\"#000000\" font-family=\"sans-serif\" font-size=\"12\" font-style=\"italic\" lengthAdjust=\"spacingAndGlyphs\" textLength=\"98\" x=\"145\" y=\"163.1387\">«interface  def»</text><text fill=\"#000000\" font-family=\"sans-serif\" font-size=\"12\" lengthAdjust=\"spacingAndGlyphs\" textLength=\"3\" x=\"192.5\" y=\"177.1074\">I</text><line style=\"stroke: #A80036; stroke-width: 1.5;\" x1=\"145\" x2=\"243\" y1=\"184.9375\" y2=\"184.9375\"/></a><!--MD5=[96f4274e9e20536e775497830990834d]\n",
       "class E10--><a href=\"psysml:4b05cf72-e027-47da-9c90-b867da4c93e0\" target=\"_top\" title=\"psysml:4b05cf72-e027-47da-9c90-b867da4c93e0\" xlink:actuate=\"onRequest\" xlink:href=\"psysml:4b05cf72-e027-47da-9c90-b867da4c93e0\" xlink:show=\"new\" xlink:title=\"psysml:4b05cf72-e027-47da-9c90-b867da4c93e0\" xlink:type=\"simple\"><rect fill=\"#FEFECE\" filter=\"url(#futgimmutug8y)\" height=\"45.9375\" id=\"E10\" rx=\"10\" ry=\"10\" style=\"stroke: #A80036; stroke-width: 1.5;\" width=\"42\" x=\"146\" y=\"253\"/><text fill=\"#000000\" font-family=\"sans-serif\" font-size=\"12\" font-style=\"italic\" lengthAdjust=\"spacingAndGlyphs\" textLength=\"40\" x=\"147\" y=\"269.1387\">«port»</text><text fill=\"#000000\" font-family=\"sans-serif\" font-size=\"12\" lengthAdjust=\"spacingAndGlyphs\" textLength=\"32\" x=\"149\" y=\"283.1074\">p1: P</text><line style=\"stroke: #A80036; stroke-width: 1.5;\" x1=\"147\" x2=\"187\" y1=\"290.9375\" y2=\"290.9375\"/></a><!--MD5=[1dd1bfd58a279cf63c5f349dbc8fc6a1]\n",
       "class E11--><a href=\"psysml:0c24ab80-75a0-44e9-976a-962e4e9af685\" target=\"_top\" title=\"psysml:0c24ab80-75a0-44e9-976a-962e4e9af685\" xlink:actuate=\"onRequest\" xlink:href=\"psysml:0c24ab80-75a0-44e9-976a-962e4e9af685\" xlink:show=\"new\" xlink:title=\"psysml:0c24ab80-75a0-44e9-976a-962e4e9af685\" xlink:type=\"simple\"><rect fill=\"#FEFECE\" filter=\"url(#futgimmutug8y)\" height=\"45.9375\" id=\"E11\" rx=\"10\" ry=\"10\" style=\"stroke: #A80036; stroke-width: 1.5;\" width=\"52\" x=\"223\" y=\"253\"/><text fill=\"#000000\" font-family=\"sans-serif\" font-size=\"12\" font-style=\"italic\" lengthAdjust=\"spacingAndGlyphs\" textLength=\"40\" x=\"229\" y=\"269.1387\">«port»</text><text fill=\"#000000\" font-family=\"sans-serif\" font-size=\"12\" lengthAdjust=\"spacingAndGlyphs\" textLength=\"42\" x=\"226\" y=\"283.1074\">p2: ~P</text><line style=\"stroke: #A80036; stroke-width: 1.5;\" x1=\"224\" x2=\"274\" y1=\"290.9375\" y2=\"290.9375\"/></a><!--MD5=[49a0ec8f00dab7302a31f22d0f0fe584]\n",
       "class E12--><a href=\"psysml:c2ec72d4-85fe-4c8d-a549-b327df7a4c85\" target=\"_top\" title=\"psysml:c2ec72d4-85fe-4c8d-a549-b327df7a4c85\" xlink:actuate=\"onRequest\" xlink:href=\"psysml:c2ec72d4-85fe-4c8d-a549-b327df7a4c85\" xlink:show=\"new\" xlink:title=\"psysml:c2ec72d4-85fe-4c8d-a549-b327df7a4c85\" xlink:type=\"simple\"><rect fill=\"#FEFECE\" filter=\"url(#futgimmutug8y)\" height=\"45.9375\" id=\"E12\" style=\"stroke: #A80036; stroke-width: 1.5;\" width=\"70\" x=\"45\" y=\"41\"/><text fill=\"#000000\" font-family=\"sans-serif\" font-size=\"12\" font-style=\"italic\" lengthAdjust=\"spacingAndGlyphs\" textLength=\"68\" x=\"46\" y=\"57.1387\">«part  def»</text><text fill=\"#000000\" font-family=\"sans-serif\" font-size=\"12\" lengthAdjust=\"spacingAndGlyphs\" textLength=\"16\" x=\"72\" y=\"71.1074\">B1</text><line style=\"stroke: #A80036; stroke-width: 1.5;\" x1=\"46\" x2=\"114\" y1=\"78.9375\" y2=\"78.9375\"/></a><!--MD5=[ee3c913d1a06f366521f9ef512b67efe]\n",
       "class E13--><a href=\"psysml:bf56b714-b103-43c5-844a-64ae22bea297\" target=\"_top\" title=\"psysml:bf56b714-b103-43c5-844a-64ae22bea297\" xlink:actuate=\"onRequest\" xlink:href=\"psysml:bf56b714-b103-43c5-844a-64ae22bea297\" xlink:show=\"new\" xlink:title=\"psysml:bf56b714-b103-43c5-844a-64ae22bea297\" xlink:type=\"simple\"><rect fill=\"#FEFECE\" filter=\"url(#futgimmutug8y)\" height=\"45.9375\" id=\"E13\" rx=\"10\" ry=\"10\" style=\"stroke: #A80036; stroke-width: 1.5;\" width=\"42\" x=\"59\" y=\"147\"/><text fill=\"#000000\" font-family=\"sans-serif\" font-size=\"12\" font-style=\"italic\" lengthAdjust=\"spacingAndGlyphs\" textLength=\"40\" x=\"60\" y=\"163.1387\">«part»</text><text fill=\"#000000\" font-family=\"sans-serif\" font-size=\"12\" lengthAdjust=\"spacingAndGlyphs\" textLength=\"8\" x=\"74\" y=\"177.1074\">p</text><line style=\"stroke: #A80036; stroke-width: 1.5;\" x1=\"60\" x2=\"100\" y1=\"184.9375\" y2=\"184.9375\"/></a><!--MD5=[bee11217b2f71d958a27249dc326068c]\n",
       "class E14--><a href=\"psysml:b5c2279c-6642-492b-a6cf-19efab06e689\" target=\"_top\" title=\"psysml:b5c2279c-6642-492b-a6cf-19efab06e689\" xlink:actuate=\"onRequest\" xlink:href=\"psysml:b5c2279c-6642-492b-a6cf-19efab06e689\" xlink:show=\"new\" xlink:title=\"psysml:b5c2279c-6642-492b-a6cf-19efab06e689\" xlink:type=\"simple\"><rect fill=\"#FEFECE\" filter=\"url(#futgimmutug8y)\" height=\"45.9375\" id=\"E14\" rx=\"10\" ry=\"10\" style=\"stroke: #A80036; stroke-width: 1.5;\" width=\"42\" x=\"69\" y=\"253\"/><text fill=\"#000000\" font-family=\"sans-serif\" font-size=\"12\" font-style=\"italic\" lengthAdjust=\"spacingAndGlyphs\" textLength=\"40\" x=\"70\" y=\"269.1387\">«port»</text><text fill=\"#000000\" font-family=\"sans-serif\" font-size=\"12\" lengthAdjust=\"spacingAndGlyphs\" textLength=\"32\" x=\"72\" y=\"283.1074\">p1: P</text><line style=\"stroke: #A80036; stroke-width: 1.5;\" x1=\"70\" x2=\"110\" y1=\"290.9375\" y2=\"290.9375\"/></a><!--MD5=[0c48fb7552dae8cbbef69381101a84c8]\n",
       "class E15--><a href=\"psysml:ed6b3600-9f65-4ffd-a058-1200daf10699\" target=\"_top\" title=\"psysml:ed6b3600-9f65-4ffd-a058-1200daf10699\" xlink:actuate=\"onRequest\" xlink:href=\"psysml:ed6b3600-9f65-4ffd-a058-1200daf10699\" xlink:show=\"new\" xlink:title=\"psysml:ed6b3600-9f65-4ffd-a058-1200daf10699\" xlink:type=\"simple\"><rect fill=\"#FEFECE\" filter=\"url(#futgimmutug8y)\" height=\"45.9375\" id=\"E15\" rx=\"10\" ry=\"10\" style=\"stroke: #A80036; stroke-width: 1.5;\" width=\"52\" x=\"64\" y=\"359\"/><text fill=\"#000000\" font-family=\"sans-serif\" font-size=\"12\" font-style=\"italic\" lengthAdjust=\"spacingAndGlyphs\" textLength=\"40\" x=\"70\" y=\"375.1387\">«port»</text><text fill=\"#000000\" font-family=\"sans-serif\" font-size=\"12\" lengthAdjust=\"spacingAndGlyphs\" textLength=\"42\" x=\"67\" y=\"389.1074\">p2: ~P</text><line style=\"stroke: #A80036; stroke-width: 1.5;\" x1=\"65\" x2=\"115\" y1=\"396.9375\" y2=\"396.9375\"/></a><!--MD5=[4672eba38e49728da53d11aeb285b987]\n",
       "reverse link E3 to E4--><a href=\"psysml:301fc48c-20ce-4bfe-ac1d-96f5db6094d0\" target=\"_top\" title=\"psysml:301fc48c-20ce-4bfe-ac1d-96f5db6094d0\" xlink:actuate=\"onRequest\" xlink:href=\"psysml:301fc48c-20ce-4bfe-ac1d-96f5db6094d0\" xlink:show=\"new\" xlink:title=\"psysml:301fc48c-20ce-4bfe-ac1d-96f5db6094d0\" xlink:type=\"simple\"><path d=\"M519.06,205.49 C513.64,221.15 507.39,239.19 502.62,252.98 \" fill=\"none\" id=\"E3&lt;-E4\" style=\"stroke: #A80036; stroke-width: 1.0;\"/><polygon fill=\"#FFFFFF\" points=\"523.37,193.06,517.626,197.4196,519.4411,204.3986,525.1851,200.0389,523.37,193.06\" style=\"stroke: #A80036; stroke-width: 1.0;\"/><text fill=\"#000000\" font-family=\"sans-serif\" font-size=\"13\" lengthAdjust=\"spacingAndGlyphs\" textLength=\"8\" x=\"495.5929\" y=\"241.8709\">1</text></a><!--MD5=[185131fc0dcab0a4505a2ebe144e961b]\n",
       "link E4 to E2--><a href=\"psysml:2658e44c-8270-4dd2-9600-daf649b69d41\" target=\"_top\" title=\"psysml:2658e44c-8270-4dd2-9600-daf649b69d41\" xlink:actuate=\"onRequest\" xlink:href=\"psysml:2658e44c-8270-4dd2-9600-daf649b69d41\" xlink:show=\"new\" xlink:title=\"psysml:2658e44c-8270-4dd2-9600-daf649b69d41\" xlink:type=\"simple\"><path d=\"M473.97,289.85 C468.52,292.99 462.61,296.24 457,299 C409.01,322.65 352.44,345.5 311.91,361.04 \" fill=\"none\" id=\"E4-&gt;E2\" style=\"stroke: #A80036; stroke-width: 1.0;\"/><polygon fill=\"#FFFFFF\" points=\"293.14,368.16,308.427,354.8819,313.3876,367.9735,293.14,368.16\" style=\"stroke: #A80036; stroke-width: 1.0;\"/><ellipse cx=\"314.4658\" cy=\"354.7324\" fill=\"#A80036\" rx=\"2\" ry=\"2\" style=\"stroke: #A80036; stroke-width: 1.0;\"/><ellipse cx=\"318.0091\" cy=\"364.0836\" fill=\"#A80036\" rx=\"2\" ry=\"2\" style=\"stroke: #A80036; stroke-width: 1.0;\"/></a><!--MD5=[191cde3d490a3f6d7bb551fe3ddca469]\n",
       "reverse link E3 to E5--><a href=\"psysml:223fd842-0df9-4bd0-ad12-80c4696f3c55\" target=\"_top\" title=\"psysml:223fd842-0df9-4bd0-ad12-80c4696f3c55\" xlink:actuate=\"onRequest\" xlink:href=\"psysml:223fd842-0df9-4bd0-ad12-80c4696f3c55\" xlink:show=\"new\" xlink:title=\"psysml:223fd842-0df9-4bd0-ad12-80c4696f3c55\" xlink:type=\"simple\"><path d=\"M546.05,205.03 C553.02,220.78 561.1,239.06 567.26,252.98 \" fill=\"none\" id=\"E3&lt;-E5\" style=\"stroke: #A80036; stroke-width: 1.0;\"/><polygon fill=\"#FFFFFF\" points=\"540.76,193.06,539.5329,200.1659,545.6202,204.0317,546.8473,196.9258,540.76,193.06\" style=\"stroke: #A80036; stroke-width: 1.0;\"/><text fill=\"#000000\" font-family=\"sans-serif\" font-size=\"13\" lengthAdjust=\"spacingAndGlyphs\" textLength=\"8\" x=\"555.5674\" y=\"241.8709\">1</text></a><!--MD5=[3f50a3473f1dfb74d3f76443e03635af]\n",
       "reverse link E6 to E7--><a href=\"psysml:21746d6a-6182-4390-ad27-ac5c9b62bfbf\" target=\"_top\" title=\"psysml:21746d6a-6182-4390-ad27-ac5c9b62bfbf\" xlink:actuate=\"onRequest\" xlink:href=\"psysml:21746d6a-6182-4390-ad27-ac5c9b62bfbf\" xlink:show=\"new\" xlink:title=\"psysml:21746d6a-6182-4390-ad27-ac5c9b62bfbf\" xlink:type=\"simple\"><path d=\"M336.93,206.44 C335.6,221.87 334.07,239.47 332.91,252.98 \" fill=\"none\" id=\"E6&lt;-E7\" style=\"stroke: #A80036; stroke-width: 1.0;\"/><polygon fill=\"#FFFFFF\" points=\"338.09,193.06,333.5901,198.6948,337.0607,205.0158,341.5606,199.381,338.09,193.06\" style=\"stroke: #A80036; stroke-width: 1.0;\"/><text fill=\"#000000\" font-family=\"sans-serif\" font-size=\"13\" lengthAdjust=\"spacingAndGlyphs\" textLength=\"8\" x=\"324.3483\" y=\"241.8709\">1</text></a><!--MD5=[583832df87f4419a098336a29a52fa00]\n",
       "link E7 to E2--><a href=\"psysml:ac292376-6896-4173-b580-fb46e7ca2b11\" target=\"_top\" title=\"psysml:ac292376-6896-4173-b580-fb46e7ca2b11\" xlink:actuate=\"onRequest\" xlink:href=\"psysml:ac292376-6896-4173-b580-fb46e7ca2b11\" xlink:show=\"new\" xlink:title=\"psysml:ac292376-6896-4173-b580-fb46e7ca2b11\" xlink:type=\"simple\"><path d=\"M315.52,299.06 C306.71,311.6 295.43,327.68 285.19,342.26 \" fill=\"none\" id=\"E7-&gt;E2\" style=\"stroke: #A80036; stroke-width: 1.0;\"/><polygon fill=\"#FFFFFF\" points=\"273.46,358.98,278.6532,339.4088,290.1093,347.4561,273.46,358.98\" style=\"stroke: #A80036; stroke-width: 1.0;\"/><ellipse cx=\"283.5662\" cy=\"335.8942\" fill=\"#A80036\" rx=\"2\" ry=\"2\" style=\"stroke: #A80036; stroke-width: 1.0;\"/><ellipse cx=\"291.7491\" cy=\"341.6422\" fill=\"#A80036\" rx=\"2\" ry=\"2\" style=\"stroke: #A80036; stroke-width: 1.0;\"/></a><!--MD5=[f4cf0736d43fd73c4ef68817c49d37d5]\n",
       "reverse link E6 to E8--><a href=\"psysml:0a911d69-2e8c-46c6-ac57-f08740e1c2a7\" target=\"_top\" title=\"psysml:0a911d69-2e8c-46c6-ac57-f08740e1c2a7\" xlink:actuate=\"onRequest\" xlink:href=\"psysml:0a911d69-2e8c-46c6-ac57-f08740e1c2a7\" xlink:show=\"new\" xlink:title=\"psysml:0a911d69-2e8c-46c6-ac57-f08740e1c2a7\" xlink:type=\"simple\"><path d=\"M363.23,204.09 C374.44,220.06 387.58,238.78 397.54,252.98 \" fill=\"none\" id=\"E6&lt;-E8\" style=\"stroke: #A80036; stroke-width: 1.0;\"/><polygon fill=\"#FFFFFF\" points=\"355.48,193.06,355.6581,200.2689,362.381,202.8771,362.2029,195.6682,355.48,193.06\" style=\"stroke: #A80036; stroke-width: 1.0;\"/><text fill=\"#000000\" font-family=\"sans-serif\" font-size=\"13\" lengthAdjust=\"spacingAndGlyphs\" textLength=\"8\" x=\"384.3101\" y=\"241.8709\">1</text></a><!--MD5=[23ac544a70576c3e717098101004234c]\n",
       "reverse link E9 to E10--><a href=\"psysml:7a6ef9a5-ee54-4bad-bee0-b6cd150b3ba6\" target=\"_top\" title=\"psysml:7a6ef9a5-ee54-4bad-bee0-b6cd150b3ba6\" xlink:actuate=\"onRequest\" xlink:href=\"psysml:7a6ef9a5-ee54-4bad-bee0-b6cd150b3ba6\" xlink:show=\"new\" xlink:title=\"psysml:7a6ef9a5-ee54-4bad-bee0-b6cd150b3ba6\" xlink:type=\"simple\"><path d=\"M184.92,205.96 C180.89,221.51 176.26,239.33 172.72,252.98 \" fill=\"none\" id=\"E9&lt;-E10\" style=\"stroke: #A80036; stroke-width: 1.0;\"/><polygon fill=\"#FFFFFF\" points=\"188.27,193.06,182.8943,197.8665,185.2635,204.6773,190.6392,199.8708,188.27,193.06\" style=\"stroke: #A80036; stroke-width: 1.0;\"/><text fill=\"#000000\" font-family=\"sans-serif\" font-size=\"13\" lengthAdjust=\"spacingAndGlyphs\" textLength=\"8\" x=\"165.1823\" y=\"241.8709\">1</text></a><!--MD5=[0f36bececdf0dff6e600d6f64214b0f1]\n",
       "link E10 to E2--><a href=\"psysml:1b1dbb40-b684-43d5-9e90-095d8f580599\" target=\"_top\" title=\"psysml:1b1dbb40-b684-43d5-9e90-095d8f580599\" xlink:actuate=\"onRequest\" xlink:href=\"psysml:1b1dbb40-b684-43d5-9e90-095d8f580599\" xlink:show=\"new\" xlink:title=\"psysml:1b1dbb40-b684-43d5-9e90-095d8f580599\" xlink:type=\"simple\"><path d=\"M186.3,299.06 C197.64,312.02 212.28,328.74 225.36,343.7 \" fill=\"none\" id=\"E10-&gt;E2\" style=\"stroke: #A80036; stroke-width: 1.0;\"/><polygon fill=\"#FFFFFF\" points=\"238.73,358.98,220.9517,349.2882,231.489,340.0705,238.73,358.98\" style=\"stroke: #A80036; stroke-width: 1.0;\"/><ellipse cx=\"218.7041\" cy=\"343.6812\" fill=\"#A80036\" rx=\"2\" ry=\"2\" style=\"stroke: #A80036; stroke-width: 1.0;\"/><ellipse cx=\"226.2308\" cy=\"337.0972\" fill=\"#A80036\" rx=\"2\" ry=\"2\" style=\"stroke: #A80036; stroke-width: 1.0;\"/></a><!--MD5=[1fc04a95fd77ad5ce46c1a3027516051]\n",
       "reverse link E9 to E11--><a href=\"psysml:26e0bda0-b5f1-463e-8de4-6289f85dc961\" target=\"_top\" title=\"psysml:26e0bda0-b5f1-463e-8de4-6289f85dc961\" xlink:actuate=\"onRequest\" xlink:href=\"psysml:26e0bda0-b5f1-463e-8de4-6289f85dc961\" xlink:show=\"new\" xlink:title=\"psysml:26e0bda0-b5f1-463e-8de4-6289f85dc961\" xlink:type=\"simple\"><path d=\"M211.75,204.56 C220.14,220.42 229.92,238.92 237.35,252.98 \" fill=\"none\" id=\"E9&lt;-E11\" style=\"stroke: #A80036; stroke-width: 1.0;\"/><polygon fill=\"#FFFFFF\" points=\"205.66,193.06,204.9277,200.2338,211.268,203.669,212.0003,196.4952,205.66,193.06\" style=\"stroke: #A80036; stroke-width: 1.0;\"/><text fill=\"#000000\" font-family=\"sans-serif\" font-size=\"13\" lengthAdjust=\"spacingAndGlyphs\" textLength=\"8\" x=\"225.1441\" y=\"241.8709\">1</text></a><!--MD5=[062ed86c389d1a88f61c6380d0491e17]\n",
       "reverse link E12 to E13--><a href=\"psysml:b5605e58-b315-4dd3-8e84-581a703b4e2b\" target=\"_top\" title=\"psysml:b5605e58-b315-4dd3-8e84-581a703b4e2b\" xlink:actuate=\"onRequest\" xlink:href=\"psysml:b5605e58-b315-4dd3-8e84-581a703b4e2b\" xlink:show=\"new\" xlink:title=\"psysml:b5605e58-b315-4dd3-8e84-581a703b4e2b\" xlink:type=\"simple\"><path d=\"M80,100.44 C80,115.87 80,133.47 80,146.98 \" fill=\"none\" id=\"E12&lt;-E13\" style=\"stroke: #A80036; stroke-width: 1.0;\"/><polygon fill=\"#A80036\" points=\"80,87.06,76,93.06,80,99.06,84,93.06,80,87.06\" style=\"stroke: #A80036; stroke-width: 1.0;\"/><text fill=\"#000000\" font-family=\"sans-serif\" font-size=\"13\" lengthAdjust=\"spacingAndGlyphs\" textLength=\"8\" x=\"70.925\" y=\"135.8709\">1</text></a><!--MD5=[01db00f33b28669d6d9febea71002831]\n",
       "reverse link E13 to E14--><a href=\"psysml:db42b499-220f-4c1a-8731-eb36b8c82e1e\" target=\"_top\" title=\"psysml:db42b499-220f-4c1a-8731-eb36b8c82e1e\" xlink:actuate=\"onRequest\" xlink:href=\"psysml:db42b499-220f-4c1a-8731-eb36b8c82e1e\" xlink:show=\"new\" xlink:title=\"psysml:db42b499-220f-4c1a-8731-eb36b8c82e1e\" xlink:type=\"simple\"><path d=\"M83.41,206.44 C84.89,221.87 86.58,239.47 87.88,252.98 \" fill=\"none\" id=\"E13&lt;-E14\" style=\"stroke: #A80036; stroke-width: 1.0;\"/><polygon fill=\"#FFFFFF\" points=\"82.12,193.06,78.7125,199.4152,83.2683,205.0049,86.6758,198.6497,82.12,193.06\" style=\"stroke: #A80036; stroke-width: 1.0;\"/><text fill=\"#000000\" font-family=\"sans-serif\" font-size=\"13\" lengthAdjust=\"spacingAndGlyphs\" textLength=\"8\" x=\"78.2353\" y=\"241.8709\">1</text></a><!--MD5=[e5566ac99d7714697a7fbc17f6b550fe]\n",
       "link E14 to E2--><a href=\"psysml:7155c58b-23e7-41d9-a472-3863cff0084f\" target=\"_top\" title=\"psysml:7155c58b-23e7-41d9-a472-3863cff0084f\" xlink:actuate=\"onRequest\" xlink:href=\"psysml:7155c58b-23e7-41d9-a472-3863cff0084f\" xlink:show=\"new\" xlink:title=\"psysml:7155c58b-23e7-41d9-a472-3863cff0084f\" xlink:type=\"simple\"><path d=\"M111.28,290.17 C134.86,304.77 173.76,328.85 205.58,348.55 \" fill=\"none\" id=\"E14-&gt;E2\" style=\"stroke: #A80036; stroke-width: 1.0;\"/><polygon fill=\"#FFFFFF\" points=\"222.86,359.25,203.0213,355.1971,210.3927,343.2949,222.86,359.25\" style=\"stroke: #A80036; stroke-width: 1.0;\"/><ellipse cx=\"199.2284\" cy=\"350.4956\" fill=\"#A80036\" rx=\"2\" ry=\"2\" style=\"stroke: #A80036; stroke-width: 1.0;\"/><ellipse cx=\"204.4937\" cy=\"341.994\" fill=\"#A80036\" rx=\"2\" ry=\"2\" style=\"stroke: #A80036; stroke-width: 1.0;\"/></a><!--MD5=[e9a5e828c71fd2209a11a152f562d491]\n",
       "reverse link E13 to E15--><a href=\"psysml:2699a371-802b-44a3-9d88-da30e2130afc\" target=\"_top\" title=\"psysml:2699a371-802b-44a3-9d88-da30e2130afc\" xlink:actuate=\"onRequest\" xlink:href=\"psysml:2699a371-802b-44a3-9d88-da30e2130afc\" xlink:show=\"new\" xlink:title=\"psysml:2699a371-802b-44a3-9d88-da30e2130afc\" xlink:type=\"simple\"><path d=\"M64.33,205.31 C54.54,231.09 45,267.26 52,299 C56.73,320.45 67.65,342.96 76.58,358.96 \" fill=\"none\" id=\"E13&lt;-E15\" style=\"stroke: #A80036; stroke-width: 1.0;\"/><polygon fill=\"#FFFFFF\" points=\"69.24,193.2,63.2795,197.2586,64.7334,204.3216,70.6939,200.263,69.24,193.2\" style=\"stroke: #A80036; stroke-width: 1.0;\"/><text fill=\"#000000\" font-family=\"sans-serif\" font-size=\"13\" lengthAdjust=\"spacingAndGlyphs\" textLength=\"8\" x=\"63.8984\" y=\"347.8455\">1</text></a><!--MD5=[3afbdc645381407e1bc99677323a2513]\n",
       "link E14 to E15--><a href=\"psysml:1d4c99f1-723b-47e9-b0a9-a2cf4f06711c\" target=\"_top\" title=\"psysml:1d4c99f1-723b-47e9-b0a9-a2cf4f06711c\" xlink:actuate=\"onRequest\" xlink:href=\"psysml:1d4c99f1-723b-47e9-b0a9-a2cf4f06711c\" xlink:show=\"new\" xlink:title=\"psysml:1d4c99f1-723b-47e9-b0a9-a2cf4f06711c\" xlink:type=\"simple\"><path d=\"M79.35,299.06 C76.55,316.7 76.55,341.34 79.36,358.98 \" fill=\"none\" id=\"E14-E15\" style=\"stroke: #A80036; stroke-width: 3.0;\"/></a><!--MD5=[3afbdc645381407e1bc99677323a2513]\n",
       "link E14 to E15--><a href=\"psysml:99ef5f64-108a-4414-ad16-a52f47db38b7\" target=\"_top\" title=\"psysml:99ef5f64-108a-4414-ad16-a52f47db38b7\" xlink:actuate=\"onRequest\" xlink:href=\"psysml:99ef5f64-108a-4414-ad16-a52f47db38b7\" xlink:show=\"new\" xlink:title=\"psysml:99ef5f64-108a-4414-ad16-a52f47db38b7\" xlink:type=\"simple\"><path d=\"M101.27,299.06 C104.24,316.7 104.24,341.34 101.27,358.98 \" fill=\"none\" id=\"E14-E15-1\" style=\"stroke: #A80036; stroke-width: 3.0;\"/></a><!--MD5=[5f53d6f885c19bb11e0c7f362afbc890]\n",
       "@startuml\r\n",
       "skinparam wrapWidth 300\r\n",
       "hide circle\r\n",
       "\r\n",
       "package \"ConjugationTest\" as E1  [[psysml:62f2acf4-862e-4777-8380-6adbdab8aa3b ]]  {\r\n",
       "comp def \"P\" as E2  <<(T,blue) port  def>> [[psysml:8038ba5e-65f3-4a7c-a5d9-05577a1e913e ]] {\r\n",
       "}\r\n",
       "comp def \"B\" as E3  <<(T,blue) part  def>> [[psysml:eb00d253-98ff-4ea5-9d4b-40f483d849ec ]] {\r\n",
       "}\r\n",
       "comp usage \"p1: P \" as E4  <<(T,blue) port>> [[psysml:bd11b2df-eb92-4507-bbbb-c6493b57fcfa ]] {\r\n",
       "}\r\n",
       "comp usage \"p2: ~P \" as E5  <<(T,blue) port>> [[psysml:0cbe2724-4b46-4325-902f-a8a483156696 ]] {\r\n",
       "}\r\n",
       "comp def \"A\" as E6  <<(T,blue) connection  def>> [[psysml:c9adf55d-1d58-41e7-9c8f-305f1a380a4f ]] {\r\n",
       "}\r\n",
       "comp usage \"p1: P \" as E7  <<(T,blue) port>> [[psysml:62009ff7-c341-4e72-a056-ce92de09505b ]] {\r\n",
       "}\r\n",
       "comp usage \"p2: ~P \" as E8  <<(T,blue) port>> [[psysml:50db7d15-a467-4fc6-8fb9-d943e9708b48 ]] {\r\n",
       "}\r\n",
       "comp def \"I\" as E9  <<(T,blue) interface  def>> [[psysml:909b1fdd-cad7-4fe7-8f0f-a5ae3fa3dd03 ]] {\r\n",
       "}\r\n",
       "comp usage \"p1: P \" as E10  <<(T,blue) port>> [[psysml:4b05cf72-e027-47da-9c90-b867da4c93e0 ]] {\r\n",
       "}\r\n",
       "comp usage \"p2: ~P \" as E11  <<(T,blue) port>> [[psysml:0c24ab80-75a0-44e9-976a-962e4e9af685 ]] {\r\n",
       "}\r\n",
       "comp def \"B1\" as E12  <<(T,blue) part  def>> [[psysml:c2ec72d4-85fe-4c8d-a549-b327df7a4c85 ]] {\r\n",
       "}\r\n",
       "comp usage \"p \" as E13  <<(T,blue) part>> [[psysml:bf56b714-b103-43c5-844a-64ae22bea297 ]] {\r\n",
       "}\r\n",
       "comp usage \"p1: P \" as E14  <<(T,blue) port>> [[psysml:b5c2279c-6642-492b-a6cf-19efab06e689 ]] {\r\n",
       "}\r\n",
       "comp usage \"p2: ~P \" as E15  <<(T,blue) port>> [[psysml:ed6b3600-9f65-4ffd-a058-1200daf10699 ]] {\r\n",
       "}\r\n",
       "}\r\n",
       "E3 o- - \"1\"E4 [[psysml:301fc48c-20ce-4bfe-ac1d-96f5db6094d0 ]] \r\n",
       "E4 - -:|> E2 [[psysml:2658e44c-8270-4dd2-9600-daf649b69d41 ]] \r\n",
       "E3 o- - \"1\"E5 [[psysml:223fd842-0df9-4bd0-ad12-80c4696f3c55 ]] \r\n",
       "E6 o- - \"1\"E7 [[psysml:21746d6a-6182-4390-ad27-ac5c9b62bfbf ]] \r\n",
       "E7 - -:|> E2 [[psysml:ac292376-6896-4173-b580-fb46e7ca2b11 ]] \r\n",
       "E6 o- - \"1\"E8 [[psysml:0a911d69-2e8c-46c6-ac57-f08740e1c2a7 ]] \r\n",
       "E9 o- - \"1\"E10 [[psysml:7a6ef9a5-ee54-4bad-bee0-b6cd150b3ba6 ]] \r\n",
       "E10 - -:|> E2 [[psysml:1b1dbb40-b684-43d5-9e90-095d8f580599 ]] \r\n",
       "E9 o- - \"1\"E11 [[psysml:26e0bda0-b5f1-463e-8de4-6289f85dc961 ]] \r\n",
       "E12 *- - \"1\"E13 [[psysml:b5605e58-b315-4dd3-8e84-581a703b4e2b ]] \r\n",
       "E13 o- - \"1\"E14 [[psysml:db42b499-220f-4c1a-8731-eb36b8c82e1e ]] \r\n",
       "E14 - -:|> E2 [[psysml:7155c58b-23e7-41d9-a472-3863cff0084f ]] \r\n",
       "E13 o- - \"1\"E15 [[psysml:2699a371-802b-44a3-9d88-da30e2130afc ]] \r\n",
       "E14 -[thickness=3]- E15 [[psysml:1d4c99f1-723b-47e9-b0a9-a2cf4f06711c ]] \r\n",
       "E14 -[thickness=3]- E15 [[psysml:99ef5f64-108a-4414-ad16-a52f47db38b7 ]] \r\n",
       "@enduml\r\n",
       "\n",
       "PlantUML version 1.2020.13(Sat Jun 13 12:26:38 UTC 2020)\n",
       "(EPL source distribution)\n",
       "Java Runtime: OpenJDK Runtime Environment\n",
       "JVM: OpenJDK 64-Bit Server VM\n",
       "Default Encoding: UTF-8\n",
       "Language: en\n",
       "Country: null\n",
       "--></g></svg>"
      ]
     },
     "execution_count": 23,
     "metadata": {},
     "output_type": "execute_result"
    }
   ],
   "source": [
    "%viz --style=\"STDCOLOR\" --view=\"Default\" \"ConjugationTest\""
   ]
  },
  {
   "cell_type": "code",
   "execution_count": 24,
   "id": "4e5f8123",
   "metadata": {
    "execution": {
     "iopub.execute_input": "2022-02-18T10:47:46.009248Z",
     "iopub.status.busy": "2022-02-18T10:47:46.008928Z",
     "iopub.status.idle": "2022-02-18T10:47:46.061844Z",
     "shell.execute_reply": "2022-02-18T10:47:46.060636Z"
    }
   },
   "outputs": [
    {
     "data": {
      "image/svg+xml": [
       "<?xml version=\"1.0\" encoding=\"UTF-8\" standalone=\"no\"?><svg xmlns=\"http://www.w3.org/2000/svg\" xmlns:xlink=\"http://www.w3.org/1999/xlink\" contentScriptType=\"application/ecmascript\" contentStyleType=\"text/css\" height=\"433px\" preserveAspectRatio=\"none\" style=\"width:641px;height:433px;\" version=\"1.1\" viewBox=\"0 0 641 433\" width=\"641px\" zoomAndPan=\"magnify\"><defs><filter height=\"300%\" id=\"futgimmutug8y\" width=\"300%\" x=\"-1\" y=\"-1\"><feGaussianBlur result=\"blurOut\" stdDeviation=\"2.0\"/><feColorMatrix in=\"blurOut\" result=\"blurOut2\" type=\"matrix\" values=\"0 0 0 0 0 0 0 0 0 0 0 0 0 0 0 0 0 0 .4 0\"/><feOffset dx=\"4.0\" dy=\"4.0\" in=\"blurOut2\" result=\"blurOut3\"/><feBlend in=\"SourceGraphic\" in2=\"blurOut3\" mode=\"normal\"/></filter></defs><g><!--MD5=[fbc87193dbaf4d95561dea2c320d4a47]\n",
       "cluster E1--><a href=\"psysml:62f2acf4-862e-4777-8380-6adbdab8aa3b\" target=\"_top\" title=\"psysml:62f2acf4-862e-4777-8380-6adbdab8aa3b\" xlink:actuate=\"onRequest\" xlink:href=\"psysml:62f2acf4-862e-4777-8380-6adbdab8aa3b\" xlink:show=\"new\" xlink:title=\"psysml:62f2acf4-862e-4777-8380-6adbdab8aa3b\" xlink:type=\"simple\"><polygon fill=\"#FFFFFF\" filter=\"url(#futgimmutug8y)\" points=\"16,6,136,6,143,28.2969,619,28.2969,619,421,16,421,16,6\" style=\"stroke: #000000; stroke-width: 1.5;\"/><line style=\"stroke: #000000; stroke-width: 1.5;\" x1=\"16\" x2=\"143\" y1=\"28.2969\" y2=\"28.2969\"/><text fill=\"#000000\" font-family=\"sans-serif\" font-size=\"14\" font-weight=\"bold\" lengthAdjust=\"spacingAndGlyphs\" textLength=\"114\" x=\"20\" y=\"20.9951\">ConjugationTest</text></a><!--MD5=[b4997ac47864f28c2f74865a473b2911]\n",
       "class E2--><a href=\"psysml:8038ba5e-65f3-4a7c-a5d9-05577a1e913e\" target=\"_top\" title=\"psysml:8038ba5e-65f3-4a7c-a5d9-05577a1e913e\" xlink:actuate=\"onRequest\" xlink:href=\"psysml:8038ba5e-65f3-4a7c-a5d9-05577a1e913e\" xlink:show=\"new\" xlink:title=\"psysml:8038ba5e-65f3-4a7c-a5d9-05577a1e913e\" xlink:type=\"simple\"><rect fill=\"#FEFECE\" filter=\"url(#futgimmutug8y)\" height=\"45.9375\" id=\"E2\" style=\"stroke: #A80036; stroke-width: 1.5;\" width=\"70\" x=\"223\" y=\"359\"/><text fill=\"#000000\" font-family=\"sans-serif\" font-size=\"12\" font-style=\"italic\" lengthAdjust=\"spacingAndGlyphs\" textLength=\"68\" x=\"224\" y=\"375.1387\">«port  def»</text><text fill=\"#000000\" font-family=\"sans-serif\" font-size=\"12\" lengthAdjust=\"spacingAndGlyphs\" textLength=\"8\" x=\"254\" y=\"389.1074\">P</text><line style=\"stroke: #A80036; stroke-width: 1.5;\" x1=\"224\" x2=\"292\" y1=\"396.9375\" y2=\"396.9375\"/></a><!--MD5=[09b614a08d8cba4a07c9adeb5e0fee81]\n",
       "class E3--><a href=\"psysml:eb00d253-98ff-4ea5-9d4b-40f483d849ec\" target=\"_top\" title=\"psysml:eb00d253-98ff-4ea5-9d4b-40f483d849ec\" xlink:actuate=\"onRequest\" xlink:href=\"psysml:eb00d253-98ff-4ea5-9d4b-40f483d849ec\" xlink:show=\"new\" xlink:title=\"psysml:eb00d253-98ff-4ea5-9d4b-40f483d849ec\" xlink:type=\"simple\"><rect fill=\"#FEFECE\" filter=\"url(#futgimmutug8y)\" height=\"45.9375\" id=\"E3\" style=\"stroke: #A80036; stroke-width: 1.5;\" width=\"70\" x=\"496\" y=\"147\"/><text fill=\"#000000\" font-family=\"sans-serif\" font-size=\"12\" font-style=\"italic\" lengthAdjust=\"spacingAndGlyphs\" textLength=\"68\" x=\"497\" y=\"163.1387\">«part  def»</text><text fill=\"#000000\" font-family=\"sans-serif\" font-size=\"12\" lengthAdjust=\"spacingAndGlyphs\" textLength=\"8\" x=\"527\" y=\"177.1074\">B</text><line style=\"stroke: #A80036; stroke-width: 1.5;\" x1=\"497\" x2=\"565\" y1=\"184.9375\" y2=\"184.9375\"/></a><!--MD5=[ebbe1d658d1005bcc118a6aa81145e00]\n",
       "class E4--><a href=\"psysml:bd11b2df-eb92-4507-bbbb-c6493b57fcfa\" target=\"_top\" title=\"psysml:bd11b2df-eb92-4507-bbbb-c6493b57fcfa\" xlink:actuate=\"onRequest\" xlink:href=\"psysml:bd11b2df-eb92-4507-bbbb-c6493b57fcfa\" xlink:show=\"new\" xlink:title=\"psysml:bd11b2df-eb92-4507-bbbb-c6493b57fcfa\" xlink:type=\"simple\"><rect fill=\"#FEFECE\" filter=\"url(#futgimmutug8y)\" height=\"45.9375\" id=\"E4\" rx=\"10\" ry=\"10\" style=\"stroke: #A80036; stroke-width: 1.5;\" width=\"42\" x=\"474\" y=\"253\"/><text fill=\"#000000\" font-family=\"sans-serif\" font-size=\"12\" font-style=\"italic\" lengthAdjust=\"spacingAndGlyphs\" textLength=\"40\" x=\"475\" y=\"269.1387\">«port»</text><text fill=\"#000000\" font-family=\"sans-serif\" font-size=\"12\" lengthAdjust=\"spacingAndGlyphs\" textLength=\"32\" x=\"477\" y=\"283.1074\">p1: P</text><line style=\"stroke: #A80036; stroke-width: 1.5;\" x1=\"475\" x2=\"515\" y1=\"290.9375\" y2=\"290.9375\"/></a><!--MD5=[270fce915f116d4de14055a7c1d9a0f3]\n",
       "class E5--><a href=\"psysml:0cbe2724-4b46-4325-902f-a8a483156696\" target=\"_top\" title=\"psysml:0cbe2724-4b46-4325-902f-a8a483156696\" xlink:actuate=\"onRequest\" xlink:href=\"psysml:0cbe2724-4b46-4325-902f-a8a483156696\" xlink:show=\"new\" xlink:title=\"psysml:0cbe2724-4b46-4325-902f-a8a483156696\" xlink:type=\"simple\"><rect fill=\"#FEFECE\" filter=\"url(#futgimmutug8y)\" height=\"45.9375\" id=\"E5\" rx=\"10\" ry=\"10\" style=\"stroke: #A80036; stroke-width: 1.5;\" width=\"52\" x=\"551\" y=\"253\"/><text fill=\"#000000\" font-family=\"sans-serif\" font-size=\"12\" font-style=\"italic\" lengthAdjust=\"spacingAndGlyphs\" textLength=\"40\" x=\"557\" y=\"269.1387\">«port»</text><text fill=\"#000000\" font-family=\"sans-serif\" font-size=\"12\" lengthAdjust=\"spacingAndGlyphs\" textLength=\"42\" x=\"554\" y=\"283.1074\">p2: ~P</text><line style=\"stroke: #A80036; stroke-width: 1.5;\" x1=\"552\" x2=\"602\" y1=\"290.9375\" y2=\"290.9375\"/></a><!--MD5=[60a26617385b1d2d0262a64233df1f8d]\n",
       "class E6--><a href=\"psysml:c9adf55d-1d58-41e7-9c8f-305f1a380a4f\" target=\"_top\" title=\"psysml:c9adf55d-1d58-41e7-9c8f-305f1a380a4f\" xlink:actuate=\"onRequest\" xlink:href=\"psysml:c9adf55d-1d58-41e7-9c8f-305f1a380a4f\" xlink:show=\"new\" xlink:title=\"psysml:c9adf55d-1d58-41e7-9c8f-305f1a380a4f\" xlink:type=\"simple\"><rect fill=\"#FEFECE\" filter=\"url(#futgimmutug8y)\" height=\"45.9375\" id=\"E6\" style=\"stroke: #A80036; stroke-width: 1.5;\" width=\"114\" x=\"283\" y=\"147\"/><text fill=\"#000000\" font-family=\"sans-serif\" font-size=\"12\" font-style=\"italic\" lengthAdjust=\"spacingAndGlyphs\" textLength=\"112\" x=\"284\" y=\"163.1387\">«connection  def»</text><text fill=\"#000000\" font-family=\"sans-serif\" font-size=\"12\" lengthAdjust=\"spacingAndGlyphs\" textLength=\"8\" x=\"336\" y=\"177.1074\">A</text><line style=\"stroke: #A80036; stroke-width: 1.5;\" x1=\"284\" x2=\"396\" y1=\"184.9375\" y2=\"184.9375\"/></a><!--MD5=[2156ba9850f5573cc1fc38a6a4b2f02b]\n",
       "class E7--><a href=\"psysml:62009ff7-c341-4e72-a056-ce92de09505b\" target=\"_top\" title=\"psysml:62009ff7-c341-4e72-a056-ce92de09505b\" xlink:actuate=\"onRequest\" xlink:href=\"psysml:62009ff7-c341-4e72-a056-ce92de09505b\" xlink:show=\"new\" xlink:title=\"psysml:62009ff7-c341-4e72-a056-ce92de09505b\" xlink:type=\"simple\"><rect fill=\"#FEFECE\" filter=\"url(#futgimmutug8y)\" height=\"45.9375\" id=\"E7\" rx=\"10\" ry=\"10\" style=\"stroke: #A80036; stroke-width: 1.5;\" width=\"42\" x=\"310\" y=\"253\"/><text fill=\"#000000\" font-family=\"sans-serif\" font-size=\"12\" font-style=\"italic\" lengthAdjust=\"spacingAndGlyphs\" textLength=\"40\" x=\"311\" y=\"269.1387\">«port»</text><text fill=\"#000000\" font-family=\"sans-serif\" font-size=\"12\" lengthAdjust=\"spacingAndGlyphs\" textLength=\"32\" x=\"313\" y=\"283.1074\">p1: P</text><line style=\"stroke: #A80036; stroke-width: 1.5;\" x1=\"311\" x2=\"351\" y1=\"290.9375\" y2=\"290.9375\"/></a><!--MD5=[b9389687b975829384b498ac4b7476b2]\n",
       "class E8--><a href=\"psysml:50db7d15-a467-4fc6-8fb9-d943e9708b48\" target=\"_top\" title=\"psysml:50db7d15-a467-4fc6-8fb9-d943e9708b48\" xlink:actuate=\"onRequest\" xlink:href=\"psysml:50db7d15-a467-4fc6-8fb9-d943e9708b48\" xlink:show=\"new\" xlink:title=\"psysml:50db7d15-a467-4fc6-8fb9-d943e9708b48\" xlink:type=\"simple\"><rect fill=\"#FEFECE\" filter=\"url(#futgimmutug8y)\" height=\"45.9375\" id=\"E8\" rx=\"10\" ry=\"10\" style=\"stroke: #A80036; stroke-width: 1.5;\" width=\"52\" x=\"387\" y=\"253\"/><text fill=\"#000000\" font-family=\"sans-serif\" font-size=\"12\" font-style=\"italic\" lengthAdjust=\"spacingAndGlyphs\" textLength=\"40\" x=\"393\" y=\"269.1387\">«port»</text><text fill=\"#000000\" font-family=\"sans-serif\" font-size=\"12\" lengthAdjust=\"spacingAndGlyphs\" textLength=\"42\" x=\"390\" y=\"283.1074\">p2: ~P</text><line style=\"stroke: #A80036; stroke-width: 1.5;\" x1=\"388\" x2=\"438\" y1=\"290.9375\" y2=\"290.9375\"/></a><!--MD5=[fd4143e9d270a159db93a4ea2a975926]\n",
       "class E9--><a href=\"psysml:909b1fdd-cad7-4fe7-8f0f-a5ae3fa3dd03\" target=\"_top\" title=\"psysml:909b1fdd-cad7-4fe7-8f0f-a5ae3fa3dd03\" xlink:actuate=\"onRequest\" xlink:href=\"psysml:909b1fdd-cad7-4fe7-8f0f-a5ae3fa3dd03\" xlink:show=\"new\" xlink:title=\"psysml:909b1fdd-cad7-4fe7-8f0f-a5ae3fa3dd03\" xlink:type=\"simple\"><rect fill=\"#FEFECE\" filter=\"url(#futgimmutug8y)\" height=\"45.9375\" id=\"E9\" style=\"stroke: #A80036; stroke-width: 1.5;\" width=\"100\" x=\"144\" y=\"147\"/><text fill=\"#000000\" font-family=\"sans-serif\" font-size=\"12\" font-style=\"italic\" lengthAdjust=\"spacingAndGlyphs\" textLength=\"98\" x=\"145\" y=\"163.1387\">«interface  def»</text><text fill=\"#000000\" font-family=\"sans-serif\" font-size=\"12\" lengthAdjust=\"spacingAndGlyphs\" textLength=\"3\" x=\"192.5\" y=\"177.1074\">I</text><line style=\"stroke: #A80036; stroke-width: 1.5;\" x1=\"145\" x2=\"243\" y1=\"184.9375\" y2=\"184.9375\"/></a><!--MD5=[96f4274e9e20536e775497830990834d]\n",
       "class E10--><a href=\"psysml:4b05cf72-e027-47da-9c90-b867da4c93e0\" target=\"_top\" title=\"psysml:4b05cf72-e027-47da-9c90-b867da4c93e0\" xlink:actuate=\"onRequest\" xlink:href=\"psysml:4b05cf72-e027-47da-9c90-b867da4c93e0\" xlink:show=\"new\" xlink:title=\"psysml:4b05cf72-e027-47da-9c90-b867da4c93e0\" xlink:type=\"simple\"><rect fill=\"#FEFECE\" filter=\"url(#futgimmutug8y)\" height=\"45.9375\" id=\"E10\" rx=\"10\" ry=\"10\" style=\"stroke: #A80036; stroke-width: 1.5;\" width=\"42\" x=\"146\" y=\"253\"/><text fill=\"#000000\" font-family=\"sans-serif\" font-size=\"12\" font-style=\"italic\" lengthAdjust=\"spacingAndGlyphs\" textLength=\"40\" x=\"147\" y=\"269.1387\">«port»</text><text fill=\"#000000\" font-family=\"sans-serif\" font-size=\"12\" lengthAdjust=\"spacingAndGlyphs\" textLength=\"32\" x=\"149\" y=\"283.1074\">p1: P</text><line style=\"stroke: #A80036; stroke-width: 1.5;\" x1=\"147\" x2=\"187\" y1=\"290.9375\" y2=\"290.9375\"/></a><!--MD5=[1dd1bfd58a279cf63c5f349dbc8fc6a1]\n",
       "class E11--><a href=\"psysml:0c24ab80-75a0-44e9-976a-962e4e9af685\" target=\"_top\" title=\"psysml:0c24ab80-75a0-44e9-976a-962e4e9af685\" xlink:actuate=\"onRequest\" xlink:href=\"psysml:0c24ab80-75a0-44e9-976a-962e4e9af685\" xlink:show=\"new\" xlink:title=\"psysml:0c24ab80-75a0-44e9-976a-962e4e9af685\" xlink:type=\"simple\"><rect fill=\"#FEFECE\" filter=\"url(#futgimmutug8y)\" height=\"45.9375\" id=\"E11\" rx=\"10\" ry=\"10\" style=\"stroke: #A80036; stroke-width: 1.5;\" width=\"52\" x=\"223\" y=\"253\"/><text fill=\"#000000\" font-family=\"sans-serif\" font-size=\"12\" font-style=\"italic\" lengthAdjust=\"spacingAndGlyphs\" textLength=\"40\" x=\"229\" y=\"269.1387\">«port»</text><text fill=\"#000000\" font-family=\"sans-serif\" font-size=\"12\" lengthAdjust=\"spacingAndGlyphs\" textLength=\"42\" x=\"226\" y=\"283.1074\">p2: ~P</text><line style=\"stroke: #A80036; stroke-width: 1.5;\" x1=\"224\" x2=\"274\" y1=\"290.9375\" y2=\"290.9375\"/></a><!--MD5=[49a0ec8f00dab7302a31f22d0f0fe584]\n",
       "class E12--><a href=\"psysml:c2ec72d4-85fe-4c8d-a549-b327df7a4c85\" target=\"_top\" title=\"psysml:c2ec72d4-85fe-4c8d-a549-b327df7a4c85\" xlink:actuate=\"onRequest\" xlink:href=\"psysml:c2ec72d4-85fe-4c8d-a549-b327df7a4c85\" xlink:show=\"new\" xlink:title=\"psysml:c2ec72d4-85fe-4c8d-a549-b327df7a4c85\" xlink:type=\"simple\"><rect fill=\"#FEFECE\" filter=\"url(#futgimmutug8y)\" height=\"45.9375\" id=\"E12\" style=\"stroke: #A80036; stroke-width: 1.5;\" width=\"70\" x=\"45\" y=\"41\"/><text fill=\"#000000\" font-family=\"sans-serif\" font-size=\"12\" font-style=\"italic\" lengthAdjust=\"spacingAndGlyphs\" textLength=\"68\" x=\"46\" y=\"57.1387\">«part  def»</text><text fill=\"#000000\" font-family=\"sans-serif\" font-size=\"12\" lengthAdjust=\"spacingAndGlyphs\" textLength=\"16\" x=\"72\" y=\"71.1074\">B1</text><line style=\"stroke: #A80036; stroke-width: 1.5;\" x1=\"46\" x2=\"114\" y1=\"78.9375\" y2=\"78.9375\"/></a><!--MD5=[ee3c913d1a06f366521f9ef512b67efe]\n",
       "class E13--><a href=\"psysml:bf56b714-b103-43c5-844a-64ae22bea297\" target=\"_top\" title=\"psysml:bf56b714-b103-43c5-844a-64ae22bea297\" xlink:actuate=\"onRequest\" xlink:href=\"psysml:bf56b714-b103-43c5-844a-64ae22bea297\" xlink:show=\"new\" xlink:title=\"psysml:bf56b714-b103-43c5-844a-64ae22bea297\" xlink:type=\"simple\"><rect fill=\"#FEFECE\" filter=\"url(#futgimmutug8y)\" height=\"45.9375\" id=\"E13\" rx=\"10\" ry=\"10\" style=\"stroke: #A80036; stroke-width: 1.5;\" width=\"42\" x=\"59\" y=\"147\"/><text fill=\"#000000\" font-family=\"sans-serif\" font-size=\"12\" font-style=\"italic\" lengthAdjust=\"spacingAndGlyphs\" textLength=\"40\" x=\"60\" y=\"163.1387\">«part»</text><text fill=\"#000000\" font-family=\"sans-serif\" font-size=\"12\" lengthAdjust=\"spacingAndGlyphs\" textLength=\"8\" x=\"74\" y=\"177.1074\">p</text><line style=\"stroke: #A80036; stroke-width: 1.5;\" x1=\"60\" x2=\"100\" y1=\"184.9375\" y2=\"184.9375\"/></a><!--MD5=[bee11217b2f71d958a27249dc326068c]\n",
       "class E14--><a href=\"psysml:b5c2279c-6642-492b-a6cf-19efab06e689\" target=\"_top\" title=\"psysml:b5c2279c-6642-492b-a6cf-19efab06e689\" xlink:actuate=\"onRequest\" xlink:href=\"psysml:b5c2279c-6642-492b-a6cf-19efab06e689\" xlink:show=\"new\" xlink:title=\"psysml:b5c2279c-6642-492b-a6cf-19efab06e689\" xlink:type=\"simple\"><rect fill=\"#FEFECE\" filter=\"url(#futgimmutug8y)\" height=\"45.9375\" id=\"E14\" rx=\"10\" ry=\"10\" style=\"stroke: #A80036; stroke-width: 1.5;\" width=\"42\" x=\"69\" y=\"253\"/><text fill=\"#000000\" font-family=\"sans-serif\" font-size=\"12\" font-style=\"italic\" lengthAdjust=\"spacingAndGlyphs\" textLength=\"40\" x=\"70\" y=\"269.1387\">«port»</text><text fill=\"#000000\" font-family=\"sans-serif\" font-size=\"12\" lengthAdjust=\"spacingAndGlyphs\" textLength=\"32\" x=\"72\" y=\"283.1074\">p1: P</text><line style=\"stroke: #A80036; stroke-width: 1.5;\" x1=\"70\" x2=\"110\" y1=\"290.9375\" y2=\"290.9375\"/></a><!--MD5=[0c48fb7552dae8cbbef69381101a84c8]\n",
       "class E15--><a href=\"psysml:ed6b3600-9f65-4ffd-a058-1200daf10699\" target=\"_top\" title=\"psysml:ed6b3600-9f65-4ffd-a058-1200daf10699\" xlink:actuate=\"onRequest\" xlink:href=\"psysml:ed6b3600-9f65-4ffd-a058-1200daf10699\" xlink:show=\"new\" xlink:title=\"psysml:ed6b3600-9f65-4ffd-a058-1200daf10699\" xlink:type=\"simple\"><rect fill=\"#FEFECE\" filter=\"url(#futgimmutug8y)\" height=\"45.9375\" id=\"E15\" rx=\"10\" ry=\"10\" style=\"stroke: #A80036; stroke-width: 1.5;\" width=\"52\" x=\"64\" y=\"359\"/><text fill=\"#000000\" font-family=\"sans-serif\" font-size=\"12\" font-style=\"italic\" lengthAdjust=\"spacingAndGlyphs\" textLength=\"40\" x=\"70\" y=\"375.1387\">«port»</text><text fill=\"#000000\" font-family=\"sans-serif\" font-size=\"12\" lengthAdjust=\"spacingAndGlyphs\" textLength=\"42\" x=\"67\" y=\"389.1074\">p2: ~P</text><line style=\"stroke: #A80036; stroke-width: 1.5;\" x1=\"65\" x2=\"115\" y1=\"396.9375\" y2=\"396.9375\"/></a><!--MD5=[4672eba38e49728da53d11aeb285b987]\n",
       "reverse link E3 to E4--><a href=\"psysml:301fc48c-20ce-4bfe-ac1d-96f5db6094d0\" target=\"_top\" title=\"psysml:301fc48c-20ce-4bfe-ac1d-96f5db6094d0\" xlink:actuate=\"onRequest\" xlink:href=\"psysml:301fc48c-20ce-4bfe-ac1d-96f5db6094d0\" xlink:show=\"new\" xlink:title=\"psysml:301fc48c-20ce-4bfe-ac1d-96f5db6094d0\" xlink:type=\"simple\"><path d=\"M519.06,205.49 C513.64,221.15 507.39,239.19 502.62,252.98 \" fill=\"none\" id=\"E3&lt;-E4\" style=\"stroke: #A80036; stroke-width: 1.0;\"/><polygon fill=\"#FFFFFF\" points=\"523.37,193.06,517.626,197.4196,519.4411,204.3986,525.1851,200.0389,523.37,193.06\" style=\"stroke: #A80036; stroke-width: 1.0;\"/><text fill=\"#000000\" font-family=\"sans-serif\" font-size=\"13\" lengthAdjust=\"spacingAndGlyphs\" textLength=\"8\" x=\"495.5929\" y=\"241.8709\">1</text></a><!--MD5=[185131fc0dcab0a4505a2ebe144e961b]\n",
       "link E4 to E2--><a href=\"psysml:2658e44c-8270-4dd2-9600-daf649b69d41\" target=\"_top\" title=\"psysml:2658e44c-8270-4dd2-9600-daf649b69d41\" xlink:actuate=\"onRequest\" xlink:href=\"psysml:2658e44c-8270-4dd2-9600-daf649b69d41\" xlink:show=\"new\" xlink:title=\"psysml:2658e44c-8270-4dd2-9600-daf649b69d41\" xlink:type=\"simple\"><path d=\"M473.97,289.85 C468.52,292.99 462.61,296.24 457,299 C409.01,322.65 352.44,345.5 311.91,361.04 \" fill=\"none\" id=\"E4-&gt;E2\" style=\"stroke: #A80036; stroke-width: 1.0;\"/><polygon fill=\"#FFFFFF\" points=\"293.14,368.16,308.427,354.8819,313.3876,367.9735,293.14,368.16\" style=\"stroke: #A80036; stroke-width: 1.0;\"/><ellipse cx=\"314.4658\" cy=\"354.7324\" fill=\"#A80036\" rx=\"2\" ry=\"2\" style=\"stroke: #A80036; stroke-width: 1.0;\"/><ellipse cx=\"318.0091\" cy=\"364.0836\" fill=\"#A80036\" rx=\"2\" ry=\"2\" style=\"stroke: #A80036; stroke-width: 1.0;\"/></a><!--MD5=[191cde3d490a3f6d7bb551fe3ddca469]\n",
       "reverse link E3 to E5--><a href=\"psysml:223fd842-0df9-4bd0-ad12-80c4696f3c55\" target=\"_top\" title=\"psysml:223fd842-0df9-4bd0-ad12-80c4696f3c55\" xlink:actuate=\"onRequest\" xlink:href=\"psysml:223fd842-0df9-4bd0-ad12-80c4696f3c55\" xlink:show=\"new\" xlink:title=\"psysml:223fd842-0df9-4bd0-ad12-80c4696f3c55\" xlink:type=\"simple\"><path d=\"M546.05,205.03 C553.02,220.78 561.1,239.06 567.26,252.98 \" fill=\"none\" id=\"E3&lt;-E5\" style=\"stroke: #A80036; stroke-width: 1.0;\"/><polygon fill=\"#FFFFFF\" points=\"540.76,193.06,539.5329,200.1659,545.6202,204.0317,546.8473,196.9258,540.76,193.06\" style=\"stroke: #A80036; stroke-width: 1.0;\"/><text fill=\"#000000\" font-family=\"sans-serif\" font-size=\"13\" lengthAdjust=\"spacingAndGlyphs\" textLength=\"8\" x=\"555.5674\" y=\"241.8709\">1</text></a><!--MD5=[3f50a3473f1dfb74d3f76443e03635af]\n",
       "reverse link E6 to E7--><a href=\"psysml:21746d6a-6182-4390-ad27-ac5c9b62bfbf\" target=\"_top\" title=\"psysml:21746d6a-6182-4390-ad27-ac5c9b62bfbf\" xlink:actuate=\"onRequest\" xlink:href=\"psysml:21746d6a-6182-4390-ad27-ac5c9b62bfbf\" xlink:show=\"new\" xlink:title=\"psysml:21746d6a-6182-4390-ad27-ac5c9b62bfbf\" xlink:type=\"simple\"><path d=\"M336.93,206.44 C335.6,221.87 334.07,239.47 332.91,252.98 \" fill=\"none\" id=\"E6&lt;-E7\" style=\"stroke: #A80036; stroke-width: 1.0;\"/><polygon fill=\"#FFFFFF\" points=\"338.09,193.06,333.5901,198.6948,337.0607,205.0158,341.5606,199.381,338.09,193.06\" style=\"stroke: #A80036; stroke-width: 1.0;\"/><text fill=\"#000000\" font-family=\"sans-serif\" font-size=\"13\" lengthAdjust=\"spacingAndGlyphs\" textLength=\"8\" x=\"324.3483\" y=\"241.8709\">1</text></a><!--MD5=[583832df87f4419a098336a29a52fa00]\n",
       "link E7 to E2--><a href=\"psysml:ac292376-6896-4173-b580-fb46e7ca2b11\" target=\"_top\" title=\"psysml:ac292376-6896-4173-b580-fb46e7ca2b11\" xlink:actuate=\"onRequest\" xlink:href=\"psysml:ac292376-6896-4173-b580-fb46e7ca2b11\" xlink:show=\"new\" xlink:title=\"psysml:ac292376-6896-4173-b580-fb46e7ca2b11\" xlink:type=\"simple\"><path d=\"M315.52,299.06 C306.71,311.6 295.43,327.68 285.19,342.26 \" fill=\"none\" id=\"E7-&gt;E2\" style=\"stroke: #A80036; stroke-width: 1.0;\"/><polygon fill=\"#FFFFFF\" points=\"273.46,358.98,278.6532,339.4088,290.1093,347.4561,273.46,358.98\" style=\"stroke: #A80036; stroke-width: 1.0;\"/><ellipse cx=\"283.5662\" cy=\"335.8942\" fill=\"#A80036\" rx=\"2\" ry=\"2\" style=\"stroke: #A80036; stroke-width: 1.0;\"/><ellipse cx=\"291.7491\" cy=\"341.6422\" fill=\"#A80036\" rx=\"2\" ry=\"2\" style=\"stroke: #A80036; stroke-width: 1.0;\"/></a><!--MD5=[f4cf0736d43fd73c4ef68817c49d37d5]\n",
       "reverse link E6 to E8--><a href=\"psysml:0a911d69-2e8c-46c6-ac57-f08740e1c2a7\" target=\"_top\" title=\"psysml:0a911d69-2e8c-46c6-ac57-f08740e1c2a7\" xlink:actuate=\"onRequest\" xlink:href=\"psysml:0a911d69-2e8c-46c6-ac57-f08740e1c2a7\" xlink:show=\"new\" xlink:title=\"psysml:0a911d69-2e8c-46c6-ac57-f08740e1c2a7\" xlink:type=\"simple\"><path d=\"M363.23,204.09 C374.44,220.06 387.58,238.78 397.54,252.98 \" fill=\"none\" id=\"E6&lt;-E8\" style=\"stroke: #A80036; stroke-width: 1.0;\"/><polygon fill=\"#FFFFFF\" points=\"355.48,193.06,355.6581,200.2689,362.381,202.8771,362.2029,195.6682,355.48,193.06\" style=\"stroke: #A80036; stroke-width: 1.0;\"/><text fill=\"#000000\" font-family=\"sans-serif\" font-size=\"13\" lengthAdjust=\"spacingAndGlyphs\" textLength=\"8\" x=\"384.3101\" y=\"241.8709\">1</text></a><!--MD5=[23ac544a70576c3e717098101004234c]\n",
       "reverse link E9 to E10--><a href=\"psysml:7a6ef9a5-ee54-4bad-bee0-b6cd150b3ba6\" target=\"_top\" title=\"psysml:7a6ef9a5-ee54-4bad-bee0-b6cd150b3ba6\" xlink:actuate=\"onRequest\" xlink:href=\"psysml:7a6ef9a5-ee54-4bad-bee0-b6cd150b3ba6\" xlink:show=\"new\" xlink:title=\"psysml:7a6ef9a5-ee54-4bad-bee0-b6cd150b3ba6\" xlink:type=\"simple\"><path d=\"M184.92,205.96 C180.89,221.51 176.26,239.33 172.72,252.98 \" fill=\"none\" id=\"E9&lt;-E10\" style=\"stroke: #A80036; stroke-width: 1.0;\"/><polygon fill=\"#FFFFFF\" points=\"188.27,193.06,182.8943,197.8665,185.2635,204.6773,190.6392,199.8708,188.27,193.06\" style=\"stroke: #A80036; stroke-width: 1.0;\"/><text fill=\"#000000\" font-family=\"sans-serif\" font-size=\"13\" lengthAdjust=\"spacingAndGlyphs\" textLength=\"8\" x=\"165.1823\" y=\"241.8709\">1</text></a><!--MD5=[0f36bececdf0dff6e600d6f64214b0f1]\n",
       "link E10 to E2--><a href=\"psysml:1b1dbb40-b684-43d5-9e90-095d8f580599\" target=\"_top\" title=\"psysml:1b1dbb40-b684-43d5-9e90-095d8f580599\" xlink:actuate=\"onRequest\" xlink:href=\"psysml:1b1dbb40-b684-43d5-9e90-095d8f580599\" xlink:show=\"new\" xlink:title=\"psysml:1b1dbb40-b684-43d5-9e90-095d8f580599\" xlink:type=\"simple\"><path d=\"M186.3,299.06 C197.64,312.02 212.28,328.74 225.36,343.7 \" fill=\"none\" id=\"E10-&gt;E2\" style=\"stroke: #A80036; stroke-width: 1.0;\"/><polygon fill=\"#FFFFFF\" points=\"238.73,358.98,220.9517,349.2882,231.489,340.0705,238.73,358.98\" style=\"stroke: #A80036; stroke-width: 1.0;\"/><ellipse cx=\"218.7041\" cy=\"343.6812\" fill=\"#A80036\" rx=\"2\" ry=\"2\" style=\"stroke: #A80036; stroke-width: 1.0;\"/><ellipse cx=\"226.2308\" cy=\"337.0972\" fill=\"#A80036\" rx=\"2\" ry=\"2\" style=\"stroke: #A80036; stroke-width: 1.0;\"/></a><!--MD5=[1fc04a95fd77ad5ce46c1a3027516051]\n",
       "reverse link E9 to E11--><a href=\"psysml:26e0bda0-b5f1-463e-8de4-6289f85dc961\" target=\"_top\" title=\"psysml:26e0bda0-b5f1-463e-8de4-6289f85dc961\" xlink:actuate=\"onRequest\" xlink:href=\"psysml:26e0bda0-b5f1-463e-8de4-6289f85dc961\" xlink:show=\"new\" xlink:title=\"psysml:26e0bda0-b5f1-463e-8de4-6289f85dc961\" xlink:type=\"simple\"><path d=\"M211.75,204.56 C220.14,220.42 229.92,238.92 237.35,252.98 \" fill=\"none\" id=\"E9&lt;-E11\" style=\"stroke: #A80036; stroke-width: 1.0;\"/><polygon fill=\"#FFFFFF\" points=\"205.66,193.06,204.9277,200.2338,211.268,203.669,212.0003,196.4952,205.66,193.06\" style=\"stroke: #A80036; stroke-width: 1.0;\"/><text fill=\"#000000\" font-family=\"sans-serif\" font-size=\"13\" lengthAdjust=\"spacingAndGlyphs\" textLength=\"8\" x=\"225.1441\" y=\"241.8709\">1</text></a><!--MD5=[062ed86c389d1a88f61c6380d0491e17]\n",
       "reverse link E12 to E13--><a href=\"psysml:b5605e58-b315-4dd3-8e84-581a703b4e2b\" target=\"_top\" title=\"psysml:b5605e58-b315-4dd3-8e84-581a703b4e2b\" xlink:actuate=\"onRequest\" xlink:href=\"psysml:b5605e58-b315-4dd3-8e84-581a703b4e2b\" xlink:show=\"new\" xlink:title=\"psysml:b5605e58-b315-4dd3-8e84-581a703b4e2b\" xlink:type=\"simple\"><path d=\"M80,100.44 C80,115.87 80,133.47 80,146.98 \" fill=\"none\" id=\"E12&lt;-E13\" style=\"stroke: #A80036; stroke-width: 1.0;\"/><polygon fill=\"#A80036\" points=\"80,87.06,76,93.06,80,99.06,84,93.06,80,87.06\" style=\"stroke: #A80036; stroke-width: 1.0;\"/><text fill=\"#000000\" font-family=\"sans-serif\" font-size=\"13\" lengthAdjust=\"spacingAndGlyphs\" textLength=\"8\" x=\"70.925\" y=\"135.8709\">1</text></a><!--MD5=[01db00f33b28669d6d9febea71002831]\n",
       "reverse link E13 to E14--><a href=\"psysml:db42b499-220f-4c1a-8731-eb36b8c82e1e\" target=\"_top\" title=\"psysml:db42b499-220f-4c1a-8731-eb36b8c82e1e\" xlink:actuate=\"onRequest\" xlink:href=\"psysml:db42b499-220f-4c1a-8731-eb36b8c82e1e\" xlink:show=\"new\" xlink:title=\"psysml:db42b499-220f-4c1a-8731-eb36b8c82e1e\" xlink:type=\"simple\"><path d=\"M83.41,206.44 C84.89,221.87 86.58,239.47 87.88,252.98 \" fill=\"none\" id=\"E13&lt;-E14\" style=\"stroke: #A80036; stroke-width: 1.0;\"/><polygon fill=\"#FFFFFF\" points=\"82.12,193.06,78.7125,199.4152,83.2683,205.0049,86.6758,198.6497,82.12,193.06\" style=\"stroke: #A80036; stroke-width: 1.0;\"/><text fill=\"#000000\" font-family=\"sans-serif\" font-size=\"13\" lengthAdjust=\"spacingAndGlyphs\" textLength=\"8\" x=\"78.2353\" y=\"241.8709\">1</text></a><!--MD5=[e5566ac99d7714697a7fbc17f6b550fe]\n",
       "link E14 to E2--><a href=\"psysml:7155c58b-23e7-41d9-a472-3863cff0084f\" target=\"_top\" title=\"psysml:7155c58b-23e7-41d9-a472-3863cff0084f\" xlink:actuate=\"onRequest\" xlink:href=\"psysml:7155c58b-23e7-41d9-a472-3863cff0084f\" xlink:show=\"new\" xlink:title=\"psysml:7155c58b-23e7-41d9-a472-3863cff0084f\" xlink:type=\"simple\"><path d=\"M111.28,290.17 C134.86,304.77 173.76,328.85 205.58,348.55 \" fill=\"none\" id=\"E14-&gt;E2\" style=\"stroke: #A80036; stroke-width: 1.0;\"/><polygon fill=\"#FFFFFF\" points=\"222.86,359.25,203.0213,355.1971,210.3927,343.2949,222.86,359.25\" style=\"stroke: #A80036; stroke-width: 1.0;\"/><ellipse cx=\"199.2284\" cy=\"350.4956\" fill=\"#A80036\" rx=\"2\" ry=\"2\" style=\"stroke: #A80036; stroke-width: 1.0;\"/><ellipse cx=\"204.4937\" cy=\"341.994\" fill=\"#A80036\" rx=\"2\" ry=\"2\" style=\"stroke: #A80036; stroke-width: 1.0;\"/></a><!--MD5=[e9a5e828c71fd2209a11a152f562d491]\n",
       "reverse link E13 to E15--><a href=\"psysml:2699a371-802b-44a3-9d88-da30e2130afc\" target=\"_top\" title=\"psysml:2699a371-802b-44a3-9d88-da30e2130afc\" xlink:actuate=\"onRequest\" xlink:href=\"psysml:2699a371-802b-44a3-9d88-da30e2130afc\" xlink:show=\"new\" xlink:title=\"psysml:2699a371-802b-44a3-9d88-da30e2130afc\" xlink:type=\"simple\"><path d=\"M64.33,205.31 C54.54,231.09 45,267.26 52,299 C56.73,320.45 67.65,342.96 76.58,358.96 \" fill=\"none\" id=\"E13&lt;-E15\" style=\"stroke: #A80036; stroke-width: 1.0;\"/><polygon fill=\"#FFFFFF\" points=\"69.24,193.2,63.2795,197.2586,64.7334,204.3216,70.6939,200.263,69.24,193.2\" style=\"stroke: #A80036; stroke-width: 1.0;\"/><text fill=\"#000000\" font-family=\"sans-serif\" font-size=\"13\" lengthAdjust=\"spacingAndGlyphs\" textLength=\"8\" x=\"63.8984\" y=\"347.8455\">1</text></a><!--MD5=[3afbdc645381407e1bc99677323a2513]\n",
       "link E14 to E15--><a href=\"psysml:1d4c99f1-723b-47e9-b0a9-a2cf4f06711c\" target=\"_top\" title=\"psysml:1d4c99f1-723b-47e9-b0a9-a2cf4f06711c\" xlink:actuate=\"onRequest\" xlink:href=\"psysml:1d4c99f1-723b-47e9-b0a9-a2cf4f06711c\" xlink:show=\"new\" xlink:title=\"psysml:1d4c99f1-723b-47e9-b0a9-a2cf4f06711c\" xlink:type=\"simple\"><path d=\"M79.35,299.06 C76.55,316.7 76.55,341.34 79.36,358.98 \" fill=\"none\" id=\"E14-E15\" style=\"stroke: #A80036; stroke-width: 3.0;\"/></a><!--MD5=[3afbdc645381407e1bc99677323a2513]\n",
       "link E14 to E15--><a href=\"psysml:99ef5f64-108a-4414-ad16-a52f47db38b7\" target=\"_top\" title=\"psysml:99ef5f64-108a-4414-ad16-a52f47db38b7\" xlink:actuate=\"onRequest\" xlink:href=\"psysml:99ef5f64-108a-4414-ad16-a52f47db38b7\" xlink:show=\"new\" xlink:title=\"psysml:99ef5f64-108a-4414-ad16-a52f47db38b7\" xlink:type=\"simple\"><path d=\"M101.27,299.06 C104.24,316.7 104.24,341.34 101.27,358.98 \" fill=\"none\" id=\"E14-E15-1\" style=\"stroke: #A80036; stroke-width: 3.0;\"/></a><!--MD5=[5f53d6f885c19bb11e0c7f362afbc890]\n",
       "@startuml\r\n",
       "skinparam wrapWidth 300\r\n",
       "hide circle\r\n",
       "\r\n",
       "package \"ConjugationTest\" as E1  [[psysml:62f2acf4-862e-4777-8380-6adbdab8aa3b ]]  {\r\n",
       "comp def \"P\" as E2  <<(T,blue) port  def>> [[psysml:8038ba5e-65f3-4a7c-a5d9-05577a1e913e ]] {\r\n",
       "}\r\n",
       "comp def \"B\" as E3  <<(T,blue) part  def>> [[psysml:eb00d253-98ff-4ea5-9d4b-40f483d849ec ]] {\r\n",
       "}\r\n",
       "comp usage \"p1: P \" as E4  <<(T,blue) port>> [[psysml:bd11b2df-eb92-4507-bbbb-c6493b57fcfa ]] {\r\n",
       "}\r\n",
       "comp usage \"p2: ~P \" as E5  <<(T,blue) port>> [[psysml:0cbe2724-4b46-4325-902f-a8a483156696 ]] {\r\n",
       "}\r\n",
       "comp def \"A\" as E6  <<(T,blue) connection  def>> [[psysml:c9adf55d-1d58-41e7-9c8f-305f1a380a4f ]] {\r\n",
       "}\r\n",
       "comp usage \"p1: P \" as E7  <<(T,blue) port>> [[psysml:62009ff7-c341-4e72-a056-ce92de09505b ]] {\r\n",
       "}\r\n",
       "comp usage \"p2: ~P \" as E8  <<(T,blue) port>> [[psysml:50db7d15-a467-4fc6-8fb9-d943e9708b48 ]] {\r\n",
       "}\r\n",
       "comp def \"I\" as E9  <<(T,blue) interface  def>> [[psysml:909b1fdd-cad7-4fe7-8f0f-a5ae3fa3dd03 ]] {\r\n",
       "}\r\n",
       "comp usage \"p1: P \" as E10  <<(T,blue) port>> [[psysml:4b05cf72-e027-47da-9c90-b867da4c93e0 ]] {\r\n",
       "}\r\n",
       "comp usage \"p2: ~P \" as E11  <<(T,blue) port>> [[psysml:0c24ab80-75a0-44e9-976a-962e4e9af685 ]] {\r\n",
       "}\r\n",
       "comp def \"B1\" as E12  <<(T,blue) part  def>> [[psysml:c2ec72d4-85fe-4c8d-a549-b327df7a4c85 ]] {\r\n",
       "}\r\n",
       "comp usage \"p \" as E13  <<(T,blue) part>> [[psysml:bf56b714-b103-43c5-844a-64ae22bea297 ]] {\r\n",
       "}\r\n",
       "comp usage \"p1: P \" as E14  <<(T,blue) port>> [[psysml:b5c2279c-6642-492b-a6cf-19efab06e689 ]] {\r\n",
       "}\r\n",
       "comp usage \"p2: ~P \" as E15  <<(T,blue) port>> [[psysml:ed6b3600-9f65-4ffd-a058-1200daf10699 ]] {\r\n",
       "}\r\n",
       "}\r\n",
       "E3 o- - \"1\"E4 [[psysml:301fc48c-20ce-4bfe-ac1d-96f5db6094d0 ]] \r\n",
       "E4 - -:|> E2 [[psysml:2658e44c-8270-4dd2-9600-daf649b69d41 ]] \r\n",
       "E3 o- - \"1\"E5 [[psysml:223fd842-0df9-4bd0-ad12-80c4696f3c55 ]] \r\n",
       "E6 o- - \"1\"E7 [[psysml:21746d6a-6182-4390-ad27-ac5c9b62bfbf ]] \r\n",
       "E7 - -:|> E2 [[psysml:ac292376-6896-4173-b580-fb46e7ca2b11 ]] \r\n",
       "E6 o- - \"1\"E8 [[psysml:0a911d69-2e8c-46c6-ac57-f08740e1c2a7 ]] \r\n",
       "E9 o- - \"1\"E10 [[psysml:7a6ef9a5-ee54-4bad-bee0-b6cd150b3ba6 ]] \r\n",
       "E10 - -:|> E2 [[psysml:1b1dbb40-b684-43d5-9e90-095d8f580599 ]] \r\n",
       "E9 o- - \"1\"E11 [[psysml:26e0bda0-b5f1-463e-8de4-6289f85dc961 ]] \r\n",
       "E12 *- - \"1\"E13 [[psysml:b5605e58-b315-4dd3-8e84-581a703b4e2b ]] \r\n",
       "E13 o- - \"1\"E14 [[psysml:db42b499-220f-4c1a-8731-eb36b8c82e1e ]] \r\n",
       "E14 - -:|> E2 [[psysml:7155c58b-23e7-41d9-a472-3863cff0084f ]] \r\n",
       "E13 o- - \"1\"E15 [[psysml:2699a371-802b-44a3-9d88-da30e2130afc ]] \r\n",
       "E14 -[thickness=3]- E15 [[psysml:1d4c99f1-723b-47e9-b0a9-a2cf4f06711c ]] \r\n",
       "E14 -[thickness=3]- E15 [[psysml:99ef5f64-108a-4414-ad16-a52f47db38b7 ]] \r\n",
       "@enduml\r\n",
       "\n",
       "PlantUML version 1.2020.13(Sat Jun 13 12:26:38 UTC 2020)\n",
       "(EPL source distribution)\n",
       "Java Runtime: OpenJDK Runtime Environment\n",
       "JVM: OpenJDK 64-Bit Server VM\n",
       "Default Encoding: UTF-8\n",
       "Language: en\n",
       "Country: null\n",
       "--></g></svg>"
      ]
     },
     "execution_count": 24,
     "metadata": {},
     "output_type": "execute_result"
    }
   ],
   "source": [
    "%viz --style=\"STDCOLOR\" --view=\"Tree\" \"ConjugationTest\""
   ]
  },
  {
   "cell_type": "code",
   "execution_count": 25,
   "id": "7fca391f",
   "metadata": {
    "execution": {
     "iopub.execute_input": "2022-02-18T10:47:46.111782Z",
     "iopub.status.busy": "2022-02-18T10:47:46.111435Z",
     "iopub.status.idle": "2022-02-18T10:47:46.115297Z",
     "shell.execute_reply": "2022-02-18T10:47:46.115503Z"
    }
   },
   "outputs": [
    {
     "data": {
      "image/svg+xml": [
       "<?xml version=\"1.0\" encoding=\"UTF-8\" standalone=\"no\"?><svg xmlns=\"http://www.w3.org/2000/svg\" xmlns:xlink=\"http://www.w3.org/1999/xlink\" contentScriptType=\"application/ecmascript\" contentStyleType=\"text/css\" height=\"12px\" preserveAspectRatio=\"none\" style=\"width:12px;height:12px;\" version=\"1.1\" viewBox=\"0 0 12 12\" width=\"12px\" zoomAndPan=\"magnify\"><defs/><g><!--MD5=[aeeef50f102b80d730deb6443d14f702]\n",
       "@startuml\r\n",
       "skinparam wrapWidth 300\r\n",
       "hide circle\r\n",
       "\r\n",
       "@enduml\r\n",
       "\n",
       "PlantUML version 1.2020.13(Sat Jun 13 12:26:38 UTC 2020)\n",
       "(EPL source distribution)\n",
       "Java Runtime: OpenJDK Runtime Environment\n",
       "JVM: OpenJDK 64-Bit Server VM\n",
       "Default Encoding: UTF-8\n",
       "Language: en\n",
       "Country: null\n",
       "--></g></svg>"
      ]
     },
     "execution_count": 25,
     "metadata": {},
     "output_type": "execute_result"
    }
   ],
   "source": [
    "%viz --style=\"STDCOLOR\" --view=\"State\" \"ConjugationTest\""
   ]
  },
  {
   "cell_type": "code",
   "execution_count": 26,
   "id": "1030b9d1",
   "metadata": {
    "execution": {
     "iopub.execute_input": "2022-02-18T10:47:46.165966Z",
     "iopub.status.busy": "2022-02-18T10:47:46.165660Z",
     "iopub.status.idle": "2022-02-18T10:47:46.214231Z",
     "shell.execute_reply": "2022-02-18T10:47:46.213383Z"
    }
   },
   "outputs": [
    {
     "data": {
      "image/svg+xml": [
       "<?xml version=\"1.0\" encoding=\"UTF-8\" standalone=\"no\"?><svg xmlns=\"http://www.w3.org/2000/svg\" xmlns:xlink=\"http://www.w3.org/1999/xlink\" contentScriptType=\"application/ecmascript\" contentStyleType=\"text/css\" height=\"246px\" preserveAspectRatio=\"none\" style=\"width:753px;height:246px;\" version=\"1.1\" viewBox=\"0 0 753 246\" width=\"753px\" zoomAndPan=\"magnify\"><defs><filter height=\"300%\" id=\"fa2knn87h3vhk\" width=\"300%\" x=\"-1\" y=\"-1\"><feGaussianBlur result=\"blurOut\" stdDeviation=\"2.0\"/><feColorMatrix in=\"blurOut\" result=\"blurOut2\" type=\"matrix\" values=\"0 0 0 0 0 0 0 0 0 0 0 0 0 0 0 0 0 0 .4 0\"/><feOffset dx=\"4.0\" dy=\"4.0\" in=\"blurOut2\" result=\"blurOut3\"/><feBlend in=\"SourceGraphic\" in2=\"blurOut3\" mode=\"normal\"/></filter></defs><g><!--MD5=[fbc87193dbaf4d95561dea2c320d4a47]\n",
       "cluster E1--><a href=\"psysml:62f2acf4-862e-4777-8380-6adbdab8aa3b\" target=\"_top\" title=\"psysml:62f2acf4-862e-4777-8380-6adbdab8aa3b\" xlink:actuate=\"onRequest\" xlink:href=\"psysml:62f2acf4-862e-4777-8380-6adbdab8aa3b\" xlink:show=\"new\" xlink:title=\"psysml:62f2acf4-862e-4777-8380-6adbdab8aa3b\" xlink:type=\"simple\"><polygon fill=\"#FFFFFF\" filter=\"url(#fa2knn87h3vhk)\" points=\"16,6,136,6,143,28.2969,731,28.2969,731,234.5,16,234.5,16,6\" style=\"stroke: #000000; stroke-width: 1.5;\"/><line style=\"stroke: #000000; stroke-width: 1.5;\" x1=\"16\" x2=\"143\" y1=\"28.2969\" y2=\"28.2969\"/><text fill=\"#000000\" font-family=\"sans-serif\" font-size=\"14\" font-weight=\"bold\" lengthAdjust=\"spacingAndGlyphs\" textLength=\"114\" x=\"20\" y=\"20.9951\">ConjugationTest</text></a><!--MD5=[d5e69f78d87373223dbae638b30a9c99]\n",
       "cluster E3--><a href=\"psysml:eb00d253-98ff-4ea5-9d4b-40f483d849ec\" target=\"_top\" title=\"psysml:eb00d253-98ff-4ea5-9d4b-40f483d849ec\" xlink:actuate=\"onRequest\" xlink:href=\"psysml:eb00d253-98ff-4ea5-9d4b-40f483d849ec\" xlink:show=\"new\" xlink:title=\"psysml:eb00d253-98ff-4ea5-9d4b-40f483d849ec\" xlink:type=\"simple\"><rect fill=\"#FFFFFF\" filter=\"url(#fa2knn87h3vhk)\" height=\"88.5\" id=\"E3\" style=\"stroke: #A80036; stroke-width: 1.5;\" width=\"85\" x=\"588\" y=\"114\"/><rect fill=\"#FEFECE\" height=\"37.9375\" style=\"stroke: #A80036; stroke-width: 1.5;\" width=\"85\" x=\"588\" y=\"114\"/><text fill=\"#000000\" font-family=\"sans-serif\" font-size=\"12\" font-style=\"italic\" lengthAdjust=\"spacingAndGlyphs\" textLength=\"68\" x=\"596.5\" y=\"130.1387\">«part  def»</text><text fill=\"#000000\" font-family=\"sans-serif\" font-size=\"12\" lengthAdjust=\"spacingAndGlyphs\" textLength=\"8\" x=\"626.5\" y=\"144.1074\">B</text></a><!--MD5=[14e3b0961a2654348d326746436168a1]\n",
       "cluster E6--><a href=\"psysml:c9adf55d-1d58-41e7-9c8f-305f1a380a4f\" target=\"_top\" title=\"psysml:c9adf55d-1d58-41e7-9c8f-305f1a380a4f\" xlink:actuate=\"onRequest\" xlink:href=\"psysml:c9adf55d-1d58-41e7-9c8f-305f1a380a4f\" xlink:show=\"new\" xlink:title=\"psysml:c9adf55d-1d58-41e7-9c8f-305f1a380a4f\" xlink:type=\"simple\"><rect fill=\"#FFFFFF\" filter=\"url(#fa2knn87h3vhk)\" height=\"88.5\" id=\"E6\" style=\"stroke: #A80036; stroke-width: 1.5;\" width=\"152\" x=\"431\" y=\"114\"/><rect fill=\"#FEFECE\" height=\"37.9375\" style=\"stroke: #A80036; stroke-width: 1.5;\" width=\"152\" x=\"431\" y=\"114\"/><text fill=\"#000000\" font-family=\"sans-serif\" font-size=\"12\" font-style=\"italic\" lengthAdjust=\"spacingAndGlyphs\" textLength=\"112\" x=\"451\" y=\"130.1387\">«connection  def»</text><text fill=\"#000000\" font-family=\"sans-serif\" font-size=\"12\" lengthAdjust=\"spacingAndGlyphs\" textLength=\"8\" x=\"503\" y=\"144.1074\">A</text></a><!--MD5=[7f149f147074ac12df2cb0a7728a5fb0]\n",
       "cluster E9--><a href=\"psysml:909b1fdd-cad7-4fe7-8f0f-a5ae3fa3dd03\" target=\"_top\" title=\"psysml:909b1fdd-cad7-4fe7-8f0f-a5ae3fa3dd03\" xlink:actuate=\"onRequest\" xlink:href=\"psysml:909b1fdd-cad7-4fe7-8f0f-a5ae3fa3dd03\" xlink:show=\"new\" xlink:title=\"psysml:909b1fdd-cad7-4fe7-8f0f-a5ae3fa3dd03\" xlink:type=\"simple\"><rect fill=\"#FFFFFF\" filter=\"url(#fa2knn87h3vhk)\" height=\"88.5\" id=\"E9\" style=\"stroke: #A80036; stroke-width: 1.5;\" width=\"143\" x=\"258\" y=\"114\"/><rect fill=\"#FEFECE\" height=\"37.9375\" style=\"stroke: #A80036; stroke-width: 1.5;\" width=\"143\" x=\"258\" y=\"114\"/><text fill=\"#000000\" font-family=\"sans-serif\" font-size=\"12\" font-style=\"italic\" lengthAdjust=\"spacingAndGlyphs\" textLength=\"98\" x=\"280.5\" y=\"130.1387\">«interface  def»</text><text fill=\"#000000\" font-family=\"sans-serif\" font-size=\"12\" lengthAdjust=\"spacingAndGlyphs\" textLength=\"3\" x=\"328\" y=\"144.1074\">I</text></a><!--MD5=[47bea60c1a0ac6c1143df232041969c0]\n",
       "cluster E12--><a href=\"psysml:c2ec72d4-85fe-4c8d-a549-b327df7a4c85\" target=\"_top\" title=\"psysml:c2ec72d4-85fe-4c8d-a549-b327df7a4c85\" xlink:actuate=\"onRequest\" xlink:href=\"psysml:c2ec72d4-85fe-4c8d-a549-b327df7a4c85\" xlink:show=\"new\" xlink:title=\"psysml:c2ec72d4-85fe-4c8d-a549-b327df7a4c85\" xlink:type=\"simple\"><rect fill=\"#FFFFFF\" filter=\"url(#fa2knn87h3vhk)\" height=\"161.5\" id=\"E12\" style=\"stroke: #A80036; stroke-width: 1.5;\" width=\"107\" x=\"122\" y=\"49\"/><rect fill=\"#FEFECE\" height=\"37.9375\" style=\"stroke: #A80036; stroke-width: 1.5;\" width=\"107\" x=\"122\" y=\"49\"/><text fill=\"#000000\" font-family=\"sans-serif\" font-size=\"12\" font-style=\"italic\" lengthAdjust=\"spacingAndGlyphs\" textLength=\"68\" x=\"141.5\" y=\"65.1387\">«part  def»</text><text fill=\"#000000\" font-family=\"sans-serif\" font-size=\"12\" lengthAdjust=\"spacingAndGlyphs\" textLength=\"16\" x=\"167.5\" y=\"79.1074\">B1</text></a><!--MD5=[03104f77b71e2d8d3500c651e6e31181]\n",
       "cluster E13--><a href=\"psysml:bf56b714-b103-43c5-844a-64ae22bea297\" target=\"_top\" title=\"psysml:bf56b714-b103-43c5-844a-64ae22bea297\" xlink:actuate=\"onRequest\" xlink:href=\"psysml:bf56b714-b103-43c5-844a-64ae22bea297\" xlink:show=\"new\" xlink:title=\"psysml:bf56b714-b103-43c5-844a-64ae22bea297\" xlink:type=\"simple\"><rect fill=\"#FFFFFF\" filter=\"url(#fa2knn87h3vhk)\" height=\"80.5\" id=\"E13\" rx=\"10\" ry=\"10\" style=\"stroke: #A80036; stroke-width: 1.5;\" width=\"83\" x=\"134\" y=\"114\"/><rect fill=\"#FEFECE\" height=\"23.9688\" rx=\"10\" ry=\"10\" style=\"stroke: #FEFECE; stroke-width: 1.5;\" width=\"83\" x=\"134\" y=\"114\"/><rect fill=\"#FEFECE\" height=\"10\" style=\"stroke: #FEFECE; stroke-width: 1.5;\" width=\"83\" x=\"134\" y=\"127.9688\"/><rect fill=\"none\" height=\"80.5\" id=\"E13\" rx=\"10\" ry=\"10\" style=\"stroke: #A80036; stroke-width: 1.5;\" width=\"83\" x=\"134\" y=\"114\"/><text fill=\"#000000\" font-family=\"sans-serif\" font-size=\"12\" lengthAdjust=\"spacingAndGlyphs\" textLength=\"8\" x=\"171.5\" y=\"130.1387\">p</text><line style=\"stroke: #A80036; stroke-width: 1.0;\" x1=\"134\" x2=\"217\" y1=\"137.9688\" y2=\"137.9688\"/></a><g id=\"E1.E2\"><a href=\"psysml:8038ba5e-65f3-4a7c-a5d9-05577a1e913e\" target=\"_top\" title=\"psysml:8038ba5e-65f3-4a7c-a5d9-05577a1e913e\" xlink:actuate=\"onRequest\" xlink:href=\"psysml:8038ba5e-65f3-4a7c-a5d9-05577a1e913e\" xlink:show=\"new\" xlink:title=\"psysml:8038ba5e-65f3-4a7c-a5d9-05577a1e913e\" xlink:type=\"simple\"><rect fill=\"#FEFECE\" filter=\"url(#fa2knn87h3vhk)\" height=\"42.9375\" id=\"E2\" style=\"stroke: #A80036; stroke-width: 1.5;\" width=\"75\" x=\"31.5\" y=\"92.5\"/><text fill=\"#000000\" font-family=\"sans-serif\" font-size=\"12\" font-style=\"italic\" lengthAdjust=\"spacingAndGlyphs\" textLength=\"68\" x=\"35\" y=\"108.6387\">«port  def»</text><text fill=\"#000000\" font-family=\"sans-serif\" font-size=\"12\" lengthAdjust=\"spacingAndGlyphs\" textLength=\"8\" x=\"65\" y=\"122.6074\">P</text></a></g><text fill=\"#000000\" font-family=\"sans-serif\" font-size=\"14\" lengthAdjust=\"spacingAndGlyphs\" textLength=\"36\" x=\"586\" y=\"92.6982\">p1: P</text><rect fill=\"#A80036\" height=\"12\" style=\"stroke: #FEFECE; stroke-width: 1.5;\" width=\"12\" x=\"600\" y=\"108\"/><text fill=\"#000000\" font-family=\"sans-serif\" font-size=\"14\" lengthAdjust=\"spacingAndGlyphs\" textLength=\"48\" x=\"627\" y=\"92.6982\">p2: ~P</text><rect fill=\"#A80036\" height=\"12\" style=\"stroke: #FEFECE; stroke-width: 1.5;\" width=\"12\" x=\"647\" y=\"108\"/><text fill=\"#000000\" font-family=\"sans-serif\" font-size=\"14\" lengthAdjust=\"spacingAndGlyphs\" textLength=\"36\" x=\"429\" y=\"92.6982\">p1: P</text><rect fill=\"#A80036\" height=\"12\" style=\"stroke: #FEFECE; stroke-width: 1.5;\" width=\"12\" x=\"443\" y=\"108\"/><text fill=\"#000000\" font-family=\"sans-serif\" font-size=\"14\" lengthAdjust=\"spacingAndGlyphs\" textLength=\"48\" x=\"470\" y=\"92.6982\">p2: ~P</text><rect fill=\"#A80036\" height=\"12\" style=\"stroke: #FEFECE; stroke-width: 1.5;\" width=\"12\" x=\"490\" y=\"108\"/><text fill=\"#000000\" font-family=\"sans-serif\" font-size=\"14\" lengthAdjust=\"spacingAndGlyphs\" textLength=\"36\" x=\"256\" y=\"92.6982\">p1: P</text><rect fill=\"#A80036\" height=\"12\" style=\"stroke: #FEFECE; stroke-width: 1.5;\" width=\"12\" x=\"270\" y=\"108\"/><text fill=\"#000000\" font-family=\"sans-serif\" font-size=\"14\" lengthAdjust=\"spacingAndGlyphs\" textLength=\"48\" x=\"297\" y=\"92.6982\">p2: ~P</text><rect fill=\"#A80036\" height=\"12\" style=\"stroke: #FEFECE; stroke-width: 1.5;\" width=\"12\" x=\"317\" y=\"108\"/><text fill=\"#000000\" font-family=\"sans-serif\" font-size=\"14\" lengthAdjust=\"spacingAndGlyphs\" textLength=\"36\" x=\"132\" y=\"92.6982\">p1: P</text><rect fill=\"#A80036\" height=\"12\" style=\"stroke: #FEFECE; stroke-width: 1.5;\" width=\"12\" x=\"146\" y=\"108\"/><text fill=\"#000000\" font-family=\"sans-serif\" font-size=\"14\" lengthAdjust=\"spacingAndGlyphs\" textLength=\"48\" x=\"173\" y=\"92.6982\">p2: ~P</text><rect fill=\"#A80036\" height=\"12\" style=\"stroke: #FEFECE; stroke-width: 1.5;\" width=\"12\" x=\"193\" y=\"108\"/><!--MD5=[3afbdc645381407e1bc99677323a2513]\n",
       "link E14 to E15--><a href=\"psysml:1d4c99f1-723b-47e9-b0a9-a2cf4f06711c\" target=\"_top\" title=\"psysml:1d4c99f1-723b-47e9-b0a9-a2cf4f06711c\" xlink:actuate=\"onRequest\" xlink:href=\"psysml:1d4c99f1-723b-47e9-b0a9-a2cf4f06711c\" xlink:show=\"new\" xlink:title=\"psysml:1d4c99f1-723b-47e9-b0a9-a2cf4f06711c\" xlink:type=\"simple\"><path d=\"M158.24,114 C169.81,114 181.38,114 192.95,114 \" fill=\"none\" id=\"E14-E15\" style=\"stroke: #A80036; stroke-width: 3.0;\"/></a><!--MD5=[3afbdc645381407e1bc99677323a2513]\n",
       "link E14 to E15--><a href=\"psysml:99ef5f64-108a-4414-ad16-a52f47db38b7\" target=\"_top\" title=\"psysml:99ef5f64-108a-4414-ad16-a52f47db38b7\" xlink:actuate=\"onRequest\" xlink:href=\"psysml:99ef5f64-108a-4414-ad16-a52f47db38b7\" xlink:show=\"new\" xlink:title=\"psysml:99ef5f64-108a-4414-ad16-a52f47db38b7\" xlink:type=\"simple\"><path d=\"M158.24,111.93 C169.81,108.67 181.38,108.69 192.95,111.98 \" fill=\"none\" id=\"E14-E15-1\" style=\"stroke: #A80036; stroke-width: 3.0;\"/></a><!--MD5=[766733b0e8ff44ddb782361baa19651d]\n",
       "@startuml\r\n",
       "skinparam ranksep 10\r\n",
       "skinparam rectangle {\r\n",
       " backgroundColor<<block>> LightGreen\r\n",
       "}\r\n",
       "skinparam wrapWidth 300\r\n",
       "hide circle\r\n",
       "\r\n",
       "package \"ConjugationTest\" as E1  [[psysml:62f2acf4-862e-4777-8380-6adbdab8aa3b ]]  {\r\n",
       "def \"P\" as E2  <<(T,blue) port  def>> [[psysml:8038ba5e-65f3-4a7c-a5d9-05577a1e913e ]] \r\n",
       "rec def \"B\" as E3  <<(T,blue) part  def>> [[psysml:eb00d253-98ff-4ea5-9d4b-40f483d849ec ]] {\r\n",
       "portin \"p1: P \" as E4  <<(T,blue) port>> [[psysml:bd11b2df-eb92-4507-bbbb-c6493b57fcfa ]] \r\n",
       "portin \"p2: ~P \" as E5  <<(T,blue) port>> [[psysml:0cbe2724-4b46-4325-902f-a8a483156696 ]] \r\n",
       "}\r\n",
       "rec def \"A\" as E6  <<(T,blue) connection  def>> [[psysml:c9adf55d-1d58-41e7-9c8f-305f1a380a4f ]] {\r\n",
       "portin \"p1: P \" as E7  <<(T,blue) port>> [[psysml:62009ff7-c341-4e72-a056-ce92de09505b ]] \r\n",
       "portin \"p2: ~P \" as E8  <<(T,blue) port>> [[psysml:50db7d15-a467-4fc6-8fb9-d943e9708b48 ]] \r\n",
       "}\r\n",
       "rec def \"I\" as E9  <<(T,blue) interface  def>> [[psysml:909b1fdd-cad7-4fe7-8f0f-a5ae3fa3dd03 ]] {\r\n",
       "portin \"p1: P \" as E10  <<(T,blue) port>> [[psysml:4b05cf72-e027-47da-9c90-b867da4c93e0 ]] \r\n",
       "portin \"p2: ~P \" as E11  <<(T,blue) port>> [[psysml:0c24ab80-75a0-44e9-976a-962e4e9af685 ]] \r\n",
       "}\r\n",
       "rec def \"B1\" as E12  <<(T,blue) part  def>> [[psysml:c2ec72d4-85fe-4c8d-a549-b327df7a4c85 ]] {\r\n",
       "rec usage \"p\" as E13  [[psysml:bf56b714-b103-43c5-844a-64ae22bea297 ]] {\r\n",
       "portin \"p1: P \" as E14  <<(T,blue) port>> [[psysml:b5c2279c-6642-492b-a6cf-19efab06e689 ]] \r\n",
       "portin \"p2: ~P \" as E15  <<(T,blue) port>> [[psysml:ed6b3600-9f65-4ffd-a058-1200daf10699 ]] \r\n",
       "}\r\n",
       "}\r\n",
       "}\r\n",
       "E14 -[thickness=3]- E15 [[psysml:1d4c99f1-723b-47e9-b0a9-a2cf4f06711c ]] \r\n",
       "E14 -[thickness=3]- E15 [[psysml:99ef5f64-108a-4414-ad16-a52f47db38b7 ]] \r\n",
       "@enduml\r\n",
       "\n",
       "PlantUML version 1.2020.13(Sat Jun 13 12:26:38 UTC 2020)\n",
       "(EPL source distribution)\n",
       "Java Runtime: OpenJDK Runtime Environment\n",
       "JVM: OpenJDK 64-Bit Server VM\n",
       "Default Encoding: UTF-8\n",
       "Language: en\n",
       "Country: null\n",
       "--></g></svg>"
      ]
     },
     "execution_count": 26,
     "metadata": {},
     "output_type": "execute_result"
    }
   ],
   "source": [
    "%viz --style=\"STDCOLOR\" --view=\"Interconnection\" \"ConjugationTest\""
   ]
  },
  {
   "cell_type": "code",
   "execution_count": 27,
   "id": "91d829b3",
   "metadata": {
    "execution": {
     "iopub.execute_input": "2022-02-18T10:47:46.264854Z",
     "iopub.status.busy": "2022-02-18T10:47:46.264136Z",
     "iopub.status.idle": "2022-02-18T10:47:46.269164Z",
     "shell.execute_reply": "2022-02-18T10:47:46.268738Z"
    }
   },
   "outputs": [
    {
     "data": {
      "image/svg+xml": [
       "<?xml version=\"1.0\" encoding=\"UTF-8\" standalone=\"no\"?><svg xmlns=\"http://www.w3.org/2000/svg\" xmlns:xlink=\"http://www.w3.org/1999/xlink\" contentScriptType=\"application/ecmascript\" contentStyleType=\"text/css\" height=\"12px\" preserveAspectRatio=\"none\" style=\"width:12px;height:12px;\" version=\"1.1\" viewBox=\"0 0 12 12\" width=\"12px\" zoomAndPan=\"magnify\"><defs/><g><!--MD5=[9863325348a96a77dacc89509d8ee65e]\n",
       "@startuml\r\n",
       "skinparam ranksep 8\r\n",
       "skinparam wrapWidth 300\r\n",
       "hide circle\r\n",
       "\r\n",
       "@enduml\r\n",
       "\n",
       "PlantUML version 1.2020.13(Sat Jun 13 12:26:38 UTC 2020)\n",
       "(EPL source distribution)\n",
       "Java Runtime: OpenJDK Runtime Environment\n",
       "JVM: OpenJDK 64-Bit Server VM\n",
       "Default Encoding: UTF-8\n",
       "Language: en\n",
       "Country: null\n",
       "--></g></svg>"
      ]
     },
     "execution_count": 27,
     "metadata": {},
     "output_type": "execute_result"
    }
   ],
   "source": [
    "%viz --style=\"STDCOLOR\" --view=\"Action\" \"ConjugationTest\""
   ]
  },
  {
   "cell_type": "code",
   "execution_count": 28,
   "id": "e07015d0",
   "metadata": {
    "execution": {
     "iopub.execute_input": "2022-02-18T10:47:46.318878Z",
     "iopub.status.busy": "2022-02-18T10:47:46.318436Z",
     "iopub.status.idle": "2022-02-18T10:47:46.323122Z",
     "shell.execute_reply": "2022-02-18T10:47:46.323444Z"
    }
   },
   "outputs": [
    {
     "data": {
      "image/svg+xml": [
       "<?xml version=\"1.0\" encoding=\"UTF-8\" standalone=\"no\"?><svg xmlns=\"http://www.w3.org/2000/svg\" xmlns:xlink=\"http://www.w3.org/1999/xlink\" contentScriptType=\"application/ecmascript\" contentStyleType=\"text/css\" height=\"12px\" preserveAspectRatio=\"none\" style=\"width:12px;height:12px;\" version=\"1.1\" viewBox=\"0 0 12 12\" width=\"12px\" zoomAndPan=\"magnify\"><defs/><g><!--MD5=[6c4bca67b4d71758159a5a7f1f1e1fc2]\n",
       "@startuml\r\n",
       "skinparam roundcorner 20\r\n",
       "skinparam BoxPadding 20\r\n",
       "skinparam SequenceBoxBackgroundColor #white\r\n",
       "skinparam style strictuml\r\n",
       "skinparam maxMessageSize 100\r\n",
       "skinparam wrapWidth 300\r\n",
       "hide circle\r\n",
       "\r\n",
       "@enduml\r\n",
       "\n",
       "PlantUML version 1.2020.13(Sat Jun 13 12:26:38 UTC 2020)\n",
       "(EPL source distribution)\n",
       "Java Runtime: OpenJDK Runtime Environment\n",
       "JVM: OpenJDK 64-Bit Server VM\n",
       "Default Encoding: UTF-8\n",
       "Language: en\n",
       "Country: null\n",
       "--></g></svg>"
      ]
     },
     "execution_count": 28,
     "metadata": {},
     "output_type": "execute_result"
    }
   ],
   "source": [
    "%viz --style=\"STDCOLOR\" --view=\"Sequence\" \"ConjugationTest\""
   ]
  },
  {
   "cell_type": "code",
   "execution_count": 29,
   "id": "6a5fa0b8",
   "metadata": {
    "execution": {
     "iopub.execute_input": "2022-02-18T10:47:46.373588Z",
     "iopub.status.busy": "2022-02-18T10:47:46.373182Z",
     "iopub.status.idle": "2022-02-18T10:47:46.421885Z",
     "shell.execute_reply": "2022-02-18T10:47:46.421522Z"
    }
   },
   "outputs": [
    {
     "data": {
      "image/svg+xml": [
       "<?xml version=\"1.0\" encoding=\"UTF-8\" standalone=\"no\"?><svg xmlns=\"http://www.w3.org/2000/svg\" xmlns:xlink=\"http://www.w3.org/1999/xlink\" contentScriptType=\"application/ecmascript\" contentStyleType=\"text/css\" height=\"433px\" preserveAspectRatio=\"none\" style=\"width:641px;height:433px;\" version=\"1.1\" viewBox=\"0 0 641 433\" width=\"641px\" zoomAndPan=\"magnify\"><defs><filter height=\"300%\" id=\"futgimmutug8y\" width=\"300%\" x=\"-1\" y=\"-1\"><feGaussianBlur result=\"blurOut\" stdDeviation=\"2.0\"/><feColorMatrix in=\"blurOut\" result=\"blurOut2\" type=\"matrix\" values=\"0 0 0 0 0 0 0 0 0 0 0 0 0 0 0 0 0 0 .4 0\"/><feOffset dx=\"4.0\" dy=\"4.0\" in=\"blurOut2\" result=\"blurOut3\"/><feBlend in=\"SourceGraphic\" in2=\"blurOut3\" mode=\"normal\"/></filter></defs><g><!--MD5=[fbc87193dbaf4d95561dea2c320d4a47]\n",
       "cluster E1--><a href=\"psysml:62f2acf4-862e-4777-8380-6adbdab8aa3b\" target=\"_top\" title=\"psysml:62f2acf4-862e-4777-8380-6adbdab8aa3b\" xlink:actuate=\"onRequest\" xlink:href=\"psysml:62f2acf4-862e-4777-8380-6adbdab8aa3b\" xlink:show=\"new\" xlink:title=\"psysml:62f2acf4-862e-4777-8380-6adbdab8aa3b\" xlink:type=\"simple\"><polygon fill=\"#FFFFFF\" filter=\"url(#futgimmutug8y)\" points=\"16,6,136,6,143,28.2969,619,28.2969,619,421,16,421,16,6\" style=\"stroke: #000000; stroke-width: 1.5;\"/><line style=\"stroke: #000000; stroke-width: 1.5;\" x1=\"16\" x2=\"143\" y1=\"28.2969\" y2=\"28.2969\"/><text fill=\"#000000\" font-family=\"sans-serif\" font-size=\"14\" font-weight=\"bold\" lengthAdjust=\"spacingAndGlyphs\" textLength=\"114\" x=\"20\" y=\"20.9951\">ConjugationTest</text></a><!--MD5=[b4997ac47864f28c2f74865a473b2911]\n",
       "class E2--><a href=\"psysml:8038ba5e-65f3-4a7c-a5d9-05577a1e913e\" target=\"_top\" title=\"psysml:8038ba5e-65f3-4a7c-a5d9-05577a1e913e\" xlink:actuate=\"onRequest\" xlink:href=\"psysml:8038ba5e-65f3-4a7c-a5d9-05577a1e913e\" xlink:show=\"new\" xlink:title=\"psysml:8038ba5e-65f3-4a7c-a5d9-05577a1e913e\" xlink:type=\"simple\"><rect fill=\"#FEFECE\" filter=\"url(#futgimmutug8y)\" height=\"45.9375\" id=\"E2\" style=\"stroke: #A80036; stroke-width: 1.5;\" width=\"70\" x=\"223\" y=\"359\"/><text fill=\"#000000\" font-family=\"sans-serif\" font-size=\"12\" font-style=\"italic\" lengthAdjust=\"spacingAndGlyphs\" textLength=\"68\" x=\"224\" y=\"375.1387\">«port  def»</text><text fill=\"#000000\" font-family=\"sans-serif\" font-size=\"12\" lengthAdjust=\"spacingAndGlyphs\" textLength=\"8\" x=\"254\" y=\"389.1074\">P</text><line style=\"stroke: #A80036; stroke-width: 1.5;\" x1=\"224\" x2=\"292\" y1=\"396.9375\" y2=\"396.9375\"/></a><!--MD5=[09b614a08d8cba4a07c9adeb5e0fee81]\n",
       "class E3--><a href=\"psysml:eb00d253-98ff-4ea5-9d4b-40f483d849ec\" target=\"_top\" title=\"psysml:eb00d253-98ff-4ea5-9d4b-40f483d849ec\" xlink:actuate=\"onRequest\" xlink:href=\"psysml:eb00d253-98ff-4ea5-9d4b-40f483d849ec\" xlink:show=\"new\" xlink:title=\"psysml:eb00d253-98ff-4ea5-9d4b-40f483d849ec\" xlink:type=\"simple\"><rect fill=\"#FEFECE\" filter=\"url(#futgimmutug8y)\" height=\"45.9375\" id=\"E3\" style=\"stroke: #A80036; stroke-width: 1.5;\" width=\"70\" x=\"496\" y=\"147\"/><text fill=\"#000000\" font-family=\"sans-serif\" font-size=\"12\" font-style=\"italic\" lengthAdjust=\"spacingAndGlyphs\" textLength=\"68\" x=\"497\" y=\"163.1387\">«part  def»</text><text fill=\"#000000\" font-family=\"sans-serif\" font-size=\"12\" lengthAdjust=\"spacingAndGlyphs\" textLength=\"8\" x=\"527\" y=\"177.1074\">B</text><line style=\"stroke: #A80036; stroke-width: 1.5;\" x1=\"497\" x2=\"565\" y1=\"184.9375\" y2=\"184.9375\"/></a><!--MD5=[ebbe1d658d1005bcc118a6aa81145e00]\n",
       "class E4--><a href=\"psysml:bd11b2df-eb92-4507-bbbb-c6493b57fcfa\" target=\"_top\" title=\"psysml:bd11b2df-eb92-4507-bbbb-c6493b57fcfa\" xlink:actuate=\"onRequest\" xlink:href=\"psysml:bd11b2df-eb92-4507-bbbb-c6493b57fcfa\" xlink:show=\"new\" xlink:title=\"psysml:bd11b2df-eb92-4507-bbbb-c6493b57fcfa\" xlink:type=\"simple\"><rect fill=\"#FEFECE\" filter=\"url(#futgimmutug8y)\" height=\"45.9375\" id=\"E4\" rx=\"10\" ry=\"10\" style=\"stroke: #A80036; stroke-width: 1.5;\" width=\"42\" x=\"474\" y=\"253\"/><text fill=\"#000000\" font-family=\"sans-serif\" font-size=\"12\" font-style=\"italic\" lengthAdjust=\"spacingAndGlyphs\" textLength=\"40\" x=\"475\" y=\"269.1387\">«port»</text><text fill=\"#000000\" font-family=\"sans-serif\" font-size=\"12\" lengthAdjust=\"spacingAndGlyphs\" textLength=\"32\" x=\"477\" y=\"283.1074\">p1: P</text><line style=\"stroke: #A80036; stroke-width: 1.5;\" x1=\"475\" x2=\"515\" y1=\"290.9375\" y2=\"290.9375\"/></a><!--MD5=[270fce915f116d4de14055a7c1d9a0f3]\n",
       "class E5--><a href=\"psysml:0cbe2724-4b46-4325-902f-a8a483156696\" target=\"_top\" title=\"psysml:0cbe2724-4b46-4325-902f-a8a483156696\" xlink:actuate=\"onRequest\" xlink:href=\"psysml:0cbe2724-4b46-4325-902f-a8a483156696\" xlink:show=\"new\" xlink:title=\"psysml:0cbe2724-4b46-4325-902f-a8a483156696\" xlink:type=\"simple\"><rect fill=\"#FEFECE\" filter=\"url(#futgimmutug8y)\" height=\"45.9375\" id=\"E5\" rx=\"10\" ry=\"10\" style=\"stroke: #A80036; stroke-width: 1.5;\" width=\"52\" x=\"551\" y=\"253\"/><text fill=\"#000000\" font-family=\"sans-serif\" font-size=\"12\" font-style=\"italic\" lengthAdjust=\"spacingAndGlyphs\" textLength=\"40\" x=\"557\" y=\"269.1387\">«port»</text><text fill=\"#000000\" font-family=\"sans-serif\" font-size=\"12\" lengthAdjust=\"spacingAndGlyphs\" textLength=\"42\" x=\"554\" y=\"283.1074\">p2: ~P</text><line style=\"stroke: #A80036; stroke-width: 1.5;\" x1=\"552\" x2=\"602\" y1=\"290.9375\" y2=\"290.9375\"/></a><!--MD5=[60a26617385b1d2d0262a64233df1f8d]\n",
       "class E6--><a href=\"psysml:c9adf55d-1d58-41e7-9c8f-305f1a380a4f\" target=\"_top\" title=\"psysml:c9adf55d-1d58-41e7-9c8f-305f1a380a4f\" xlink:actuate=\"onRequest\" xlink:href=\"psysml:c9adf55d-1d58-41e7-9c8f-305f1a380a4f\" xlink:show=\"new\" xlink:title=\"psysml:c9adf55d-1d58-41e7-9c8f-305f1a380a4f\" xlink:type=\"simple\"><rect fill=\"#FEFECE\" filter=\"url(#futgimmutug8y)\" height=\"45.9375\" id=\"E6\" style=\"stroke: #A80036; stroke-width: 1.5;\" width=\"114\" x=\"283\" y=\"147\"/><text fill=\"#000000\" font-family=\"sans-serif\" font-size=\"12\" font-style=\"italic\" lengthAdjust=\"spacingAndGlyphs\" textLength=\"112\" x=\"284\" y=\"163.1387\">«connection  def»</text><text fill=\"#000000\" font-family=\"sans-serif\" font-size=\"12\" lengthAdjust=\"spacingAndGlyphs\" textLength=\"8\" x=\"336\" y=\"177.1074\">A</text><line style=\"stroke: #A80036; stroke-width: 1.5;\" x1=\"284\" x2=\"396\" y1=\"184.9375\" y2=\"184.9375\"/></a><!--MD5=[2156ba9850f5573cc1fc38a6a4b2f02b]\n",
       "class E7--><a href=\"psysml:62009ff7-c341-4e72-a056-ce92de09505b\" target=\"_top\" title=\"psysml:62009ff7-c341-4e72-a056-ce92de09505b\" xlink:actuate=\"onRequest\" xlink:href=\"psysml:62009ff7-c341-4e72-a056-ce92de09505b\" xlink:show=\"new\" xlink:title=\"psysml:62009ff7-c341-4e72-a056-ce92de09505b\" xlink:type=\"simple\"><rect fill=\"#FEFECE\" filter=\"url(#futgimmutug8y)\" height=\"45.9375\" id=\"E7\" rx=\"10\" ry=\"10\" style=\"stroke: #A80036; stroke-width: 1.5;\" width=\"42\" x=\"310\" y=\"253\"/><text fill=\"#000000\" font-family=\"sans-serif\" font-size=\"12\" font-style=\"italic\" lengthAdjust=\"spacingAndGlyphs\" textLength=\"40\" x=\"311\" y=\"269.1387\">«port»</text><text fill=\"#000000\" font-family=\"sans-serif\" font-size=\"12\" lengthAdjust=\"spacingAndGlyphs\" textLength=\"32\" x=\"313\" y=\"283.1074\">p1: P</text><line style=\"stroke: #A80036; stroke-width: 1.5;\" x1=\"311\" x2=\"351\" y1=\"290.9375\" y2=\"290.9375\"/></a><!--MD5=[b9389687b975829384b498ac4b7476b2]\n",
       "class E8--><a href=\"psysml:50db7d15-a467-4fc6-8fb9-d943e9708b48\" target=\"_top\" title=\"psysml:50db7d15-a467-4fc6-8fb9-d943e9708b48\" xlink:actuate=\"onRequest\" xlink:href=\"psysml:50db7d15-a467-4fc6-8fb9-d943e9708b48\" xlink:show=\"new\" xlink:title=\"psysml:50db7d15-a467-4fc6-8fb9-d943e9708b48\" xlink:type=\"simple\"><rect fill=\"#FEFECE\" filter=\"url(#futgimmutug8y)\" height=\"45.9375\" id=\"E8\" rx=\"10\" ry=\"10\" style=\"stroke: #A80036; stroke-width: 1.5;\" width=\"52\" x=\"387\" y=\"253\"/><text fill=\"#000000\" font-family=\"sans-serif\" font-size=\"12\" font-style=\"italic\" lengthAdjust=\"spacingAndGlyphs\" textLength=\"40\" x=\"393\" y=\"269.1387\">«port»</text><text fill=\"#000000\" font-family=\"sans-serif\" font-size=\"12\" lengthAdjust=\"spacingAndGlyphs\" textLength=\"42\" x=\"390\" y=\"283.1074\">p2: ~P</text><line style=\"stroke: #A80036; stroke-width: 1.5;\" x1=\"388\" x2=\"438\" y1=\"290.9375\" y2=\"290.9375\"/></a><!--MD5=[fd4143e9d270a159db93a4ea2a975926]\n",
       "class E9--><a href=\"psysml:909b1fdd-cad7-4fe7-8f0f-a5ae3fa3dd03\" target=\"_top\" title=\"psysml:909b1fdd-cad7-4fe7-8f0f-a5ae3fa3dd03\" xlink:actuate=\"onRequest\" xlink:href=\"psysml:909b1fdd-cad7-4fe7-8f0f-a5ae3fa3dd03\" xlink:show=\"new\" xlink:title=\"psysml:909b1fdd-cad7-4fe7-8f0f-a5ae3fa3dd03\" xlink:type=\"simple\"><rect fill=\"#FEFECE\" filter=\"url(#futgimmutug8y)\" height=\"45.9375\" id=\"E9\" style=\"stroke: #A80036; stroke-width: 1.5;\" width=\"100\" x=\"144\" y=\"147\"/><text fill=\"#000000\" font-family=\"sans-serif\" font-size=\"12\" font-style=\"italic\" lengthAdjust=\"spacingAndGlyphs\" textLength=\"98\" x=\"145\" y=\"163.1387\">«interface  def»</text><text fill=\"#000000\" font-family=\"sans-serif\" font-size=\"12\" lengthAdjust=\"spacingAndGlyphs\" textLength=\"3\" x=\"192.5\" y=\"177.1074\">I</text><line style=\"stroke: #A80036; stroke-width: 1.5;\" x1=\"145\" x2=\"243\" y1=\"184.9375\" y2=\"184.9375\"/></a><!--MD5=[96f4274e9e20536e775497830990834d]\n",
       "class E10--><a href=\"psysml:4b05cf72-e027-47da-9c90-b867da4c93e0\" target=\"_top\" title=\"psysml:4b05cf72-e027-47da-9c90-b867da4c93e0\" xlink:actuate=\"onRequest\" xlink:href=\"psysml:4b05cf72-e027-47da-9c90-b867da4c93e0\" xlink:show=\"new\" xlink:title=\"psysml:4b05cf72-e027-47da-9c90-b867da4c93e0\" xlink:type=\"simple\"><rect fill=\"#FEFECE\" filter=\"url(#futgimmutug8y)\" height=\"45.9375\" id=\"E10\" rx=\"10\" ry=\"10\" style=\"stroke: #A80036; stroke-width: 1.5;\" width=\"42\" x=\"146\" y=\"253\"/><text fill=\"#000000\" font-family=\"sans-serif\" font-size=\"12\" font-style=\"italic\" lengthAdjust=\"spacingAndGlyphs\" textLength=\"40\" x=\"147\" y=\"269.1387\">«port»</text><text fill=\"#000000\" font-family=\"sans-serif\" font-size=\"12\" lengthAdjust=\"spacingAndGlyphs\" textLength=\"32\" x=\"149\" y=\"283.1074\">p1: P</text><line style=\"stroke: #A80036; stroke-width: 1.5;\" x1=\"147\" x2=\"187\" y1=\"290.9375\" y2=\"290.9375\"/></a><!--MD5=[1dd1bfd58a279cf63c5f349dbc8fc6a1]\n",
       "class E11--><a href=\"psysml:0c24ab80-75a0-44e9-976a-962e4e9af685\" target=\"_top\" title=\"psysml:0c24ab80-75a0-44e9-976a-962e4e9af685\" xlink:actuate=\"onRequest\" xlink:href=\"psysml:0c24ab80-75a0-44e9-976a-962e4e9af685\" xlink:show=\"new\" xlink:title=\"psysml:0c24ab80-75a0-44e9-976a-962e4e9af685\" xlink:type=\"simple\"><rect fill=\"#FEFECE\" filter=\"url(#futgimmutug8y)\" height=\"45.9375\" id=\"E11\" rx=\"10\" ry=\"10\" style=\"stroke: #A80036; stroke-width: 1.5;\" width=\"52\" x=\"223\" y=\"253\"/><text fill=\"#000000\" font-family=\"sans-serif\" font-size=\"12\" font-style=\"italic\" lengthAdjust=\"spacingAndGlyphs\" textLength=\"40\" x=\"229\" y=\"269.1387\">«port»</text><text fill=\"#000000\" font-family=\"sans-serif\" font-size=\"12\" lengthAdjust=\"spacingAndGlyphs\" textLength=\"42\" x=\"226\" y=\"283.1074\">p2: ~P</text><line style=\"stroke: #A80036; stroke-width: 1.5;\" x1=\"224\" x2=\"274\" y1=\"290.9375\" y2=\"290.9375\"/></a><!--MD5=[49a0ec8f00dab7302a31f22d0f0fe584]\n",
       "class E12--><a href=\"psysml:c2ec72d4-85fe-4c8d-a549-b327df7a4c85\" target=\"_top\" title=\"psysml:c2ec72d4-85fe-4c8d-a549-b327df7a4c85\" xlink:actuate=\"onRequest\" xlink:href=\"psysml:c2ec72d4-85fe-4c8d-a549-b327df7a4c85\" xlink:show=\"new\" xlink:title=\"psysml:c2ec72d4-85fe-4c8d-a549-b327df7a4c85\" xlink:type=\"simple\"><rect fill=\"#FEFECE\" filter=\"url(#futgimmutug8y)\" height=\"45.9375\" id=\"E12\" style=\"stroke: #A80036; stroke-width: 1.5;\" width=\"70\" x=\"45\" y=\"41\"/><text fill=\"#000000\" font-family=\"sans-serif\" font-size=\"12\" font-style=\"italic\" lengthAdjust=\"spacingAndGlyphs\" textLength=\"68\" x=\"46\" y=\"57.1387\">«part  def»</text><text fill=\"#000000\" font-family=\"sans-serif\" font-size=\"12\" lengthAdjust=\"spacingAndGlyphs\" textLength=\"16\" x=\"72\" y=\"71.1074\">B1</text><line style=\"stroke: #A80036; stroke-width: 1.5;\" x1=\"46\" x2=\"114\" y1=\"78.9375\" y2=\"78.9375\"/></a><!--MD5=[ee3c913d1a06f366521f9ef512b67efe]\n",
       "class E13--><a href=\"psysml:bf56b714-b103-43c5-844a-64ae22bea297\" target=\"_top\" title=\"psysml:bf56b714-b103-43c5-844a-64ae22bea297\" xlink:actuate=\"onRequest\" xlink:href=\"psysml:bf56b714-b103-43c5-844a-64ae22bea297\" xlink:show=\"new\" xlink:title=\"psysml:bf56b714-b103-43c5-844a-64ae22bea297\" xlink:type=\"simple\"><rect fill=\"#FEFECE\" filter=\"url(#futgimmutug8y)\" height=\"45.9375\" id=\"E13\" rx=\"10\" ry=\"10\" style=\"stroke: #A80036; stroke-width: 1.5;\" width=\"42\" x=\"59\" y=\"147\"/><text fill=\"#000000\" font-family=\"sans-serif\" font-size=\"12\" font-style=\"italic\" lengthAdjust=\"spacingAndGlyphs\" textLength=\"40\" x=\"60\" y=\"163.1387\">«part»</text><text fill=\"#000000\" font-family=\"sans-serif\" font-size=\"12\" lengthAdjust=\"spacingAndGlyphs\" textLength=\"8\" x=\"74\" y=\"177.1074\">p</text><line style=\"stroke: #A80036; stroke-width: 1.5;\" x1=\"60\" x2=\"100\" y1=\"184.9375\" y2=\"184.9375\"/></a><!--MD5=[bee11217b2f71d958a27249dc326068c]\n",
       "class E14--><a href=\"psysml:b5c2279c-6642-492b-a6cf-19efab06e689\" target=\"_top\" title=\"psysml:b5c2279c-6642-492b-a6cf-19efab06e689\" xlink:actuate=\"onRequest\" xlink:href=\"psysml:b5c2279c-6642-492b-a6cf-19efab06e689\" xlink:show=\"new\" xlink:title=\"psysml:b5c2279c-6642-492b-a6cf-19efab06e689\" xlink:type=\"simple\"><rect fill=\"#FEFECE\" filter=\"url(#futgimmutug8y)\" height=\"45.9375\" id=\"E14\" rx=\"10\" ry=\"10\" style=\"stroke: #A80036; stroke-width: 1.5;\" width=\"42\" x=\"69\" y=\"253\"/><text fill=\"#000000\" font-family=\"sans-serif\" font-size=\"12\" font-style=\"italic\" lengthAdjust=\"spacingAndGlyphs\" textLength=\"40\" x=\"70\" y=\"269.1387\">«port»</text><text fill=\"#000000\" font-family=\"sans-serif\" font-size=\"12\" lengthAdjust=\"spacingAndGlyphs\" textLength=\"32\" x=\"72\" y=\"283.1074\">p1: P</text><line style=\"stroke: #A80036; stroke-width: 1.5;\" x1=\"70\" x2=\"110\" y1=\"290.9375\" y2=\"290.9375\"/></a><!--MD5=[0c48fb7552dae8cbbef69381101a84c8]\n",
       "class E15--><a href=\"psysml:ed6b3600-9f65-4ffd-a058-1200daf10699\" target=\"_top\" title=\"psysml:ed6b3600-9f65-4ffd-a058-1200daf10699\" xlink:actuate=\"onRequest\" xlink:href=\"psysml:ed6b3600-9f65-4ffd-a058-1200daf10699\" xlink:show=\"new\" xlink:title=\"psysml:ed6b3600-9f65-4ffd-a058-1200daf10699\" xlink:type=\"simple\"><rect fill=\"#FEFECE\" filter=\"url(#futgimmutug8y)\" height=\"45.9375\" id=\"E15\" rx=\"10\" ry=\"10\" style=\"stroke: #A80036; stroke-width: 1.5;\" width=\"52\" x=\"64\" y=\"359\"/><text fill=\"#000000\" font-family=\"sans-serif\" font-size=\"12\" font-style=\"italic\" lengthAdjust=\"spacingAndGlyphs\" textLength=\"40\" x=\"70\" y=\"375.1387\">«port»</text><text fill=\"#000000\" font-family=\"sans-serif\" font-size=\"12\" lengthAdjust=\"spacingAndGlyphs\" textLength=\"42\" x=\"67\" y=\"389.1074\">p2: ~P</text><line style=\"stroke: #A80036; stroke-width: 1.5;\" x1=\"65\" x2=\"115\" y1=\"396.9375\" y2=\"396.9375\"/></a><!--MD5=[4672eba38e49728da53d11aeb285b987]\n",
       "reverse link E3 to E4--><a href=\"psysml:301fc48c-20ce-4bfe-ac1d-96f5db6094d0\" target=\"_top\" title=\"psysml:301fc48c-20ce-4bfe-ac1d-96f5db6094d0\" xlink:actuate=\"onRequest\" xlink:href=\"psysml:301fc48c-20ce-4bfe-ac1d-96f5db6094d0\" xlink:show=\"new\" xlink:title=\"psysml:301fc48c-20ce-4bfe-ac1d-96f5db6094d0\" xlink:type=\"simple\"><path d=\"M519.06,205.49 C513.64,221.15 507.39,239.19 502.62,252.98 \" fill=\"none\" id=\"E3&lt;-E4\" style=\"stroke: #A80036; stroke-width: 1.0;\"/><polygon fill=\"#FFFFFF\" points=\"523.37,193.06,517.626,197.4196,519.4411,204.3986,525.1851,200.0389,523.37,193.06\" style=\"stroke: #A80036; stroke-width: 1.0;\"/><text fill=\"#000000\" font-family=\"sans-serif\" font-size=\"13\" lengthAdjust=\"spacingAndGlyphs\" textLength=\"8\" x=\"495.5929\" y=\"241.8709\">1</text></a><!--MD5=[185131fc0dcab0a4505a2ebe144e961b]\n",
       "link E4 to E2--><a href=\"psysml:2658e44c-8270-4dd2-9600-daf649b69d41\" target=\"_top\" title=\"psysml:2658e44c-8270-4dd2-9600-daf649b69d41\" xlink:actuate=\"onRequest\" xlink:href=\"psysml:2658e44c-8270-4dd2-9600-daf649b69d41\" xlink:show=\"new\" xlink:title=\"psysml:2658e44c-8270-4dd2-9600-daf649b69d41\" xlink:type=\"simple\"><path d=\"M473.97,289.85 C468.52,292.99 462.61,296.24 457,299 C409.01,322.65 352.44,345.5 311.91,361.04 \" fill=\"none\" id=\"E4-&gt;E2\" style=\"stroke: #A80036; stroke-width: 1.0;\"/><polygon fill=\"#FFFFFF\" points=\"293.14,368.16,308.427,354.8819,313.3876,367.9735,293.14,368.16\" style=\"stroke: #A80036; stroke-width: 1.0;\"/><ellipse cx=\"314.4658\" cy=\"354.7324\" fill=\"#A80036\" rx=\"2\" ry=\"2\" style=\"stroke: #A80036; stroke-width: 1.0;\"/><ellipse cx=\"318.0091\" cy=\"364.0836\" fill=\"#A80036\" rx=\"2\" ry=\"2\" style=\"stroke: #A80036; stroke-width: 1.0;\"/></a><!--MD5=[191cde3d490a3f6d7bb551fe3ddca469]\n",
       "reverse link E3 to E5--><a href=\"psysml:223fd842-0df9-4bd0-ad12-80c4696f3c55\" target=\"_top\" title=\"psysml:223fd842-0df9-4bd0-ad12-80c4696f3c55\" xlink:actuate=\"onRequest\" xlink:href=\"psysml:223fd842-0df9-4bd0-ad12-80c4696f3c55\" xlink:show=\"new\" xlink:title=\"psysml:223fd842-0df9-4bd0-ad12-80c4696f3c55\" xlink:type=\"simple\"><path d=\"M546.05,205.03 C553.02,220.78 561.1,239.06 567.26,252.98 \" fill=\"none\" id=\"E3&lt;-E5\" style=\"stroke: #A80036; stroke-width: 1.0;\"/><polygon fill=\"#FFFFFF\" points=\"540.76,193.06,539.5329,200.1659,545.6202,204.0317,546.8473,196.9258,540.76,193.06\" style=\"stroke: #A80036; stroke-width: 1.0;\"/><text fill=\"#000000\" font-family=\"sans-serif\" font-size=\"13\" lengthAdjust=\"spacingAndGlyphs\" textLength=\"8\" x=\"555.5674\" y=\"241.8709\">1</text></a><!--MD5=[3f50a3473f1dfb74d3f76443e03635af]\n",
       "reverse link E6 to E7--><a href=\"psysml:21746d6a-6182-4390-ad27-ac5c9b62bfbf\" target=\"_top\" title=\"psysml:21746d6a-6182-4390-ad27-ac5c9b62bfbf\" xlink:actuate=\"onRequest\" xlink:href=\"psysml:21746d6a-6182-4390-ad27-ac5c9b62bfbf\" xlink:show=\"new\" xlink:title=\"psysml:21746d6a-6182-4390-ad27-ac5c9b62bfbf\" xlink:type=\"simple\"><path d=\"M336.93,206.44 C335.6,221.87 334.07,239.47 332.91,252.98 \" fill=\"none\" id=\"E6&lt;-E7\" style=\"stroke: #A80036; stroke-width: 1.0;\"/><polygon fill=\"#FFFFFF\" points=\"338.09,193.06,333.5901,198.6948,337.0607,205.0158,341.5606,199.381,338.09,193.06\" style=\"stroke: #A80036; stroke-width: 1.0;\"/><text fill=\"#000000\" font-family=\"sans-serif\" font-size=\"13\" lengthAdjust=\"spacingAndGlyphs\" textLength=\"8\" x=\"324.3483\" y=\"241.8709\">1</text></a><!--MD5=[583832df87f4419a098336a29a52fa00]\n",
       "link E7 to E2--><a href=\"psysml:ac292376-6896-4173-b580-fb46e7ca2b11\" target=\"_top\" title=\"psysml:ac292376-6896-4173-b580-fb46e7ca2b11\" xlink:actuate=\"onRequest\" xlink:href=\"psysml:ac292376-6896-4173-b580-fb46e7ca2b11\" xlink:show=\"new\" xlink:title=\"psysml:ac292376-6896-4173-b580-fb46e7ca2b11\" xlink:type=\"simple\"><path d=\"M315.52,299.06 C306.71,311.6 295.43,327.68 285.19,342.26 \" fill=\"none\" id=\"E7-&gt;E2\" style=\"stroke: #A80036; stroke-width: 1.0;\"/><polygon fill=\"#FFFFFF\" points=\"273.46,358.98,278.6532,339.4088,290.1093,347.4561,273.46,358.98\" style=\"stroke: #A80036; stroke-width: 1.0;\"/><ellipse cx=\"283.5662\" cy=\"335.8942\" fill=\"#A80036\" rx=\"2\" ry=\"2\" style=\"stroke: #A80036; stroke-width: 1.0;\"/><ellipse cx=\"291.7491\" cy=\"341.6422\" fill=\"#A80036\" rx=\"2\" ry=\"2\" style=\"stroke: #A80036; stroke-width: 1.0;\"/></a><!--MD5=[f4cf0736d43fd73c4ef68817c49d37d5]\n",
       "reverse link E6 to E8--><a href=\"psysml:0a911d69-2e8c-46c6-ac57-f08740e1c2a7\" target=\"_top\" title=\"psysml:0a911d69-2e8c-46c6-ac57-f08740e1c2a7\" xlink:actuate=\"onRequest\" xlink:href=\"psysml:0a911d69-2e8c-46c6-ac57-f08740e1c2a7\" xlink:show=\"new\" xlink:title=\"psysml:0a911d69-2e8c-46c6-ac57-f08740e1c2a7\" xlink:type=\"simple\"><path d=\"M363.23,204.09 C374.44,220.06 387.58,238.78 397.54,252.98 \" fill=\"none\" id=\"E6&lt;-E8\" style=\"stroke: #A80036; stroke-width: 1.0;\"/><polygon fill=\"#FFFFFF\" points=\"355.48,193.06,355.6581,200.2689,362.381,202.8771,362.2029,195.6682,355.48,193.06\" style=\"stroke: #A80036; stroke-width: 1.0;\"/><text fill=\"#000000\" font-family=\"sans-serif\" font-size=\"13\" lengthAdjust=\"spacingAndGlyphs\" textLength=\"8\" x=\"384.3101\" y=\"241.8709\">1</text></a><!--MD5=[23ac544a70576c3e717098101004234c]\n",
       "reverse link E9 to E10--><a href=\"psysml:7a6ef9a5-ee54-4bad-bee0-b6cd150b3ba6\" target=\"_top\" title=\"psysml:7a6ef9a5-ee54-4bad-bee0-b6cd150b3ba6\" xlink:actuate=\"onRequest\" xlink:href=\"psysml:7a6ef9a5-ee54-4bad-bee0-b6cd150b3ba6\" xlink:show=\"new\" xlink:title=\"psysml:7a6ef9a5-ee54-4bad-bee0-b6cd150b3ba6\" xlink:type=\"simple\"><path d=\"M184.92,205.96 C180.89,221.51 176.26,239.33 172.72,252.98 \" fill=\"none\" id=\"E9&lt;-E10\" style=\"stroke: #A80036; stroke-width: 1.0;\"/><polygon fill=\"#FFFFFF\" points=\"188.27,193.06,182.8943,197.8665,185.2635,204.6773,190.6392,199.8708,188.27,193.06\" style=\"stroke: #A80036; stroke-width: 1.0;\"/><text fill=\"#000000\" font-family=\"sans-serif\" font-size=\"13\" lengthAdjust=\"spacingAndGlyphs\" textLength=\"8\" x=\"165.1823\" y=\"241.8709\">1</text></a><!--MD5=[0f36bececdf0dff6e600d6f64214b0f1]\n",
       "link E10 to E2--><a href=\"psysml:1b1dbb40-b684-43d5-9e90-095d8f580599\" target=\"_top\" title=\"psysml:1b1dbb40-b684-43d5-9e90-095d8f580599\" xlink:actuate=\"onRequest\" xlink:href=\"psysml:1b1dbb40-b684-43d5-9e90-095d8f580599\" xlink:show=\"new\" xlink:title=\"psysml:1b1dbb40-b684-43d5-9e90-095d8f580599\" xlink:type=\"simple\"><path d=\"M186.3,299.06 C197.64,312.02 212.28,328.74 225.36,343.7 \" fill=\"none\" id=\"E10-&gt;E2\" style=\"stroke: #A80036; stroke-width: 1.0;\"/><polygon fill=\"#FFFFFF\" points=\"238.73,358.98,220.9517,349.2882,231.489,340.0705,238.73,358.98\" style=\"stroke: #A80036; stroke-width: 1.0;\"/><ellipse cx=\"218.7041\" cy=\"343.6812\" fill=\"#A80036\" rx=\"2\" ry=\"2\" style=\"stroke: #A80036; stroke-width: 1.0;\"/><ellipse cx=\"226.2308\" cy=\"337.0972\" fill=\"#A80036\" rx=\"2\" ry=\"2\" style=\"stroke: #A80036; stroke-width: 1.0;\"/></a><!--MD5=[1fc04a95fd77ad5ce46c1a3027516051]\n",
       "reverse link E9 to E11--><a href=\"psysml:26e0bda0-b5f1-463e-8de4-6289f85dc961\" target=\"_top\" title=\"psysml:26e0bda0-b5f1-463e-8de4-6289f85dc961\" xlink:actuate=\"onRequest\" xlink:href=\"psysml:26e0bda0-b5f1-463e-8de4-6289f85dc961\" xlink:show=\"new\" xlink:title=\"psysml:26e0bda0-b5f1-463e-8de4-6289f85dc961\" xlink:type=\"simple\"><path d=\"M211.75,204.56 C220.14,220.42 229.92,238.92 237.35,252.98 \" fill=\"none\" id=\"E9&lt;-E11\" style=\"stroke: #A80036; stroke-width: 1.0;\"/><polygon fill=\"#FFFFFF\" points=\"205.66,193.06,204.9277,200.2338,211.268,203.669,212.0003,196.4952,205.66,193.06\" style=\"stroke: #A80036; stroke-width: 1.0;\"/><text fill=\"#000000\" font-family=\"sans-serif\" font-size=\"13\" lengthAdjust=\"spacingAndGlyphs\" textLength=\"8\" x=\"225.1441\" y=\"241.8709\">1</text></a><!--MD5=[062ed86c389d1a88f61c6380d0491e17]\n",
       "reverse link E12 to E13--><a href=\"psysml:b5605e58-b315-4dd3-8e84-581a703b4e2b\" target=\"_top\" title=\"psysml:b5605e58-b315-4dd3-8e84-581a703b4e2b\" xlink:actuate=\"onRequest\" xlink:href=\"psysml:b5605e58-b315-4dd3-8e84-581a703b4e2b\" xlink:show=\"new\" xlink:title=\"psysml:b5605e58-b315-4dd3-8e84-581a703b4e2b\" xlink:type=\"simple\"><path d=\"M80,100.44 C80,115.87 80,133.47 80,146.98 \" fill=\"none\" id=\"E12&lt;-E13\" style=\"stroke: #A80036; stroke-width: 1.0;\"/><polygon fill=\"#A80036\" points=\"80,87.06,76,93.06,80,99.06,84,93.06,80,87.06\" style=\"stroke: #A80036; stroke-width: 1.0;\"/><text fill=\"#000000\" font-family=\"sans-serif\" font-size=\"13\" lengthAdjust=\"spacingAndGlyphs\" textLength=\"8\" x=\"70.925\" y=\"135.8709\">1</text></a><!--MD5=[01db00f33b28669d6d9febea71002831]\n",
       "reverse link E13 to E14--><a href=\"psysml:db42b499-220f-4c1a-8731-eb36b8c82e1e\" target=\"_top\" title=\"psysml:db42b499-220f-4c1a-8731-eb36b8c82e1e\" xlink:actuate=\"onRequest\" xlink:href=\"psysml:db42b499-220f-4c1a-8731-eb36b8c82e1e\" xlink:show=\"new\" xlink:title=\"psysml:db42b499-220f-4c1a-8731-eb36b8c82e1e\" xlink:type=\"simple\"><path d=\"M83.41,206.44 C84.89,221.87 86.58,239.47 87.88,252.98 \" fill=\"none\" id=\"E13&lt;-E14\" style=\"stroke: #A80036; stroke-width: 1.0;\"/><polygon fill=\"#FFFFFF\" points=\"82.12,193.06,78.7125,199.4152,83.2683,205.0049,86.6758,198.6497,82.12,193.06\" style=\"stroke: #A80036; stroke-width: 1.0;\"/><text fill=\"#000000\" font-family=\"sans-serif\" font-size=\"13\" lengthAdjust=\"spacingAndGlyphs\" textLength=\"8\" x=\"78.2353\" y=\"241.8709\">1</text></a><!--MD5=[e5566ac99d7714697a7fbc17f6b550fe]\n",
       "link E14 to E2--><a href=\"psysml:7155c58b-23e7-41d9-a472-3863cff0084f\" target=\"_top\" title=\"psysml:7155c58b-23e7-41d9-a472-3863cff0084f\" xlink:actuate=\"onRequest\" xlink:href=\"psysml:7155c58b-23e7-41d9-a472-3863cff0084f\" xlink:show=\"new\" xlink:title=\"psysml:7155c58b-23e7-41d9-a472-3863cff0084f\" xlink:type=\"simple\"><path d=\"M111.28,290.17 C134.86,304.77 173.76,328.85 205.58,348.55 \" fill=\"none\" id=\"E14-&gt;E2\" style=\"stroke: #A80036; stroke-width: 1.0;\"/><polygon fill=\"#FFFFFF\" points=\"222.86,359.25,203.0213,355.1971,210.3927,343.2949,222.86,359.25\" style=\"stroke: #A80036; stroke-width: 1.0;\"/><ellipse cx=\"199.2284\" cy=\"350.4956\" fill=\"#A80036\" rx=\"2\" ry=\"2\" style=\"stroke: #A80036; stroke-width: 1.0;\"/><ellipse cx=\"204.4937\" cy=\"341.994\" fill=\"#A80036\" rx=\"2\" ry=\"2\" style=\"stroke: #A80036; stroke-width: 1.0;\"/></a><!--MD5=[e9a5e828c71fd2209a11a152f562d491]\n",
       "reverse link E13 to E15--><a href=\"psysml:2699a371-802b-44a3-9d88-da30e2130afc\" target=\"_top\" title=\"psysml:2699a371-802b-44a3-9d88-da30e2130afc\" xlink:actuate=\"onRequest\" xlink:href=\"psysml:2699a371-802b-44a3-9d88-da30e2130afc\" xlink:show=\"new\" xlink:title=\"psysml:2699a371-802b-44a3-9d88-da30e2130afc\" xlink:type=\"simple\"><path d=\"M64.33,205.31 C54.54,231.09 45,267.26 52,299 C56.73,320.45 67.65,342.96 76.58,358.96 \" fill=\"none\" id=\"E13&lt;-E15\" style=\"stroke: #A80036; stroke-width: 1.0;\"/><polygon fill=\"#FFFFFF\" points=\"69.24,193.2,63.2795,197.2586,64.7334,204.3216,70.6939,200.263,69.24,193.2\" style=\"stroke: #A80036; stroke-width: 1.0;\"/><text fill=\"#000000\" font-family=\"sans-serif\" font-size=\"13\" lengthAdjust=\"spacingAndGlyphs\" textLength=\"8\" x=\"63.8984\" y=\"347.8455\">1</text></a><!--MD5=[3afbdc645381407e1bc99677323a2513]\n",
       "link E14 to E15--><a href=\"psysml:1d4c99f1-723b-47e9-b0a9-a2cf4f06711c\" target=\"_top\" title=\"psysml:1d4c99f1-723b-47e9-b0a9-a2cf4f06711c\" xlink:actuate=\"onRequest\" xlink:href=\"psysml:1d4c99f1-723b-47e9-b0a9-a2cf4f06711c\" xlink:show=\"new\" xlink:title=\"psysml:1d4c99f1-723b-47e9-b0a9-a2cf4f06711c\" xlink:type=\"simple\"><path d=\"M79.35,299.06 C76.55,316.7 76.55,341.34 79.36,358.98 \" fill=\"none\" id=\"E14-E15\" style=\"stroke: #A80036; stroke-width: 3.0;\"/></a><!--MD5=[3afbdc645381407e1bc99677323a2513]\n",
       "link E14 to E15--><a href=\"psysml:99ef5f64-108a-4414-ad16-a52f47db38b7\" target=\"_top\" title=\"psysml:99ef5f64-108a-4414-ad16-a52f47db38b7\" xlink:actuate=\"onRequest\" xlink:href=\"psysml:99ef5f64-108a-4414-ad16-a52f47db38b7\" xlink:show=\"new\" xlink:title=\"psysml:99ef5f64-108a-4414-ad16-a52f47db38b7\" xlink:type=\"simple\"><path d=\"M101.27,299.06 C104.24,316.7 104.24,341.34 101.27,358.98 \" fill=\"none\" id=\"E14-E15-1\" style=\"stroke: #A80036; stroke-width: 3.0;\"/></a><!--MD5=[5f53d6f885c19bb11e0c7f362afbc890]\n",
       "@startuml\r\n",
       "skinparam wrapWidth 300\r\n",
       "hide circle\r\n",
       "\r\n",
       "package \"ConjugationTest\" as E1  [[psysml:62f2acf4-862e-4777-8380-6adbdab8aa3b ]]  {\r\n",
       "comp def \"P\" as E2  <<(T,blue) port  def>> [[psysml:8038ba5e-65f3-4a7c-a5d9-05577a1e913e ]] {\r\n",
       "}\r\n",
       "comp def \"B\" as E3  <<(T,blue) part  def>> [[psysml:eb00d253-98ff-4ea5-9d4b-40f483d849ec ]] {\r\n",
       "}\r\n",
       "comp usage \"p1: P \" as E4  <<(T,blue) port>> [[psysml:bd11b2df-eb92-4507-bbbb-c6493b57fcfa ]] {\r\n",
       "}\r\n",
       "comp usage \"p2: ~P \" as E5  <<(T,blue) port>> [[psysml:0cbe2724-4b46-4325-902f-a8a483156696 ]] {\r\n",
       "}\r\n",
       "comp def \"A\" as E6  <<(T,blue) connection  def>> [[psysml:c9adf55d-1d58-41e7-9c8f-305f1a380a4f ]] {\r\n",
       "}\r\n",
       "comp usage \"p1: P \" as E7  <<(T,blue) port>> [[psysml:62009ff7-c341-4e72-a056-ce92de09505b ]] {\r\n",
       "}\r\n",
       "comp usage \"p2: ~P \" as E8  <<(T,blue) port>> [[psysml:50db7d15-a467-4fc6-8fb9-d943e9708b48 ]] {\r\n",
       "}\r\n",
       "comp def \"I\" as E9  <<(T,blue) interface  def>> [[psysml:909b1fdd-cad7-4fe7-8f0f-a5ae3fa3dd03 ]] {\r\n",
       "}\r\n",
       "comp usage \"p1: P \" as E10  <<(T,blue) port>> [[psysml:4b05cf72-e027-47da-9c90-b867da4c93e0 ]] {\r\n",
       "}\r\n",
       "comp usage \"p2: ~P \" as E11  <<(T,blue) port>> [[psysml:0c24ab80-75a0-44e9-976a-962e4e9af685 ]] {\r\n",
       "}\r\n",
       "comp def \"B1\" as E12  <<(T,blue) part  def>> [[psysml:c2ec72d4-85fe-4c8d-a549-b327df7a4c85 ]] {\r\n",
       "}\r\n",
       "comp usage \"p \" as E13  <<(T,blue) part>> [[psysml:bf56b714-b103-43c5-844a-64ae22bea297 ]] {\r\n",
       "}\r\n",
       "comp usage \"p1: P \" as E14  <<(T,blue) port>> [[psysml:b5c2279c-6642-492b-a6cf-19efab06e689 ]] {\r\n",
       "}\r\n",
       "comp usage \"p2: ~P \" as E15  <<(T,blue) port>> [[psysml:ed6b3600-9f65-4ffd-a058-1200daf10699 ]] {\r\n",
       "}\r\n",
       "}\r\n",
       "E3 o- - \"1\"E4 [[psysml:301fc48c-20ce-4bfe-ac1d-96f5db6094d0 ]] \r\n",
       "E4 - -:|> E2 [[psysml:2658e44c-8270-4dd2-9600-daf649b69d41 ]] \r\n",
       "E3 o- - \"1\"E5 [[psysml:223fd842-0df9-4bd0-ad12-80c4696f3c55 ]] \r\n",
       "E6 o- - \"1\"E7 [[psysml:21746d6a-6182-4390-ad27-ac5c9b62bfbf ]] \r\n",
       "E7 - -:|> E2 [[psysml:ac292376-6896-4173-b580-fb46e7ca2b11 ]] \r\n",
       "E6 o- - \"1\"E8 [[psysml:0a911d69-2e8c-46c6-ac57-f08740e1c2a7 ]] \r\n",
       "E9 o- - \"1\"E10 [[psysml:7a6ef9a5-ee54-4bad-bee0-b6cd150b3ba6 ]] \r\n",
       "E10 - -:|> E2 [[psysml:1b1dbb40-b684-43d5-9e90-095d8f580599 ]] \r\n",
       "E9 o- - \"1\"E11 [[psysml:26e0bda0-b5f1-463e-8de4-6289f85dc961 ]] \r\n",
       "E12 *- - \"1\"E13 [[psysml:b5605e58-b315-4dd3-8e84-581a703b4e2b ]] \r\n",
       "E13 o- - \"1\"E14 [[psysml:db42b499-220f-4c1a-8731-eb36b8c82e1e ]] \r\n",
       "E14 - -:|> E2 [[psysml:7155c58b-23e7-41d9-a472-3863cff0084f ]] \r\n",
       "E13 o- - \"1\"E15 [[psysml:2699a371-802b-44a3-9d88-da30e2130afc ]] \r\n",
       "E14 -[thickness=3]- E15 [[psysml:1d4c99f1-723b-47e9-b0a9-a2cf4f06711c ]] \r\n",
       "E14 -[thickness=3]- E15 [[psysml:99ef5f64-108a-4414-ad16-a52f47db38b7 ]] \r\n",
       "@enduml\r\n",
       "\n",
       "PlantUML version 1.2020.13(Sat Jun 13 12:26:38 UTC 2020)\n",
       "(EPL source distribution)\n",
       "Java Runtime: OpenJDK Runtime Environment\n",
       "JVM: OpenJDK 64-Bit Server VM\n",
       "Default Encoding: UTF-8\n",
       "Language: en\n",
       "Country: null\n",
       "--></g></svg>"
      ]
     },
     "execution_count": 29,
     "metadata": {},
     "output_type": "execute_result"
    }
   ],
   "source": [
    "%viz --style=\"STDCOLOR\" --view=\"MIXED\" \"ConjugationTest\""
   ]
  },
  {
   "cell_type": "code",
   "execution_count": 30,
   "id": "7fabc138",
   "metadata": {
    "execution": {
     "iopub.execute_input": "2022-02-18T10:47:46.471298Z",
     "iopub.status.busy": "2022-02-18T10:47:46.470898Z",
     "iopub.status.idle": "2022-02-18T10:47:46.546436Z",
     "shell.execute_reply": "2022-02-18T10:47:46.546032Z"
    }
   },
   "outputs": [
    {
     "data": {
      "image/svg+xml": [
       "<?xml version=\"1.0\" encoding=\"UTF-8\" standalone=\"no\"?><svg xmlns=\"http://www.w3.org/2000/svg\" xmlns:xlink=\"http://www.w3.org/1999/xlink\" contentScriptType=\"application/ecmascript\" contentStyleType=\"text/css\" height=\"427px\" preserveAspectRatio=\"none\" style=\"width:823px;height:427px;\" version=\"1.1\" viewBox=\"0 0 823 427\" width=\"823px\" zoomAndPan=\"magnify\"><defs><filter height=\"300%\" id=\"f1qiq5sli2h83u\" width=\"300%\" x=\"-1\" y=\"-1\"><feGaussianBlur result=\"blurOut\" stdDeviation=\"2.0\"/><feColorMatrix in=\"blurOut\" result=\"blurOut2\" type=\"matrix\" values=\"0 0 0 0 0 0 0 0 0 0 0 0 0 0 0 0 0 0 .4 0\"/><feOffset dx=\"4.0\" dy=\"4.0\" in=\"blurOut2\" result=\"blurOut3\"/><feBlend in=\"SourceGraphic\" in2=\"blurOut3\" mode=\"normal\"/></filter></defs><g><!--MD5=[fbc87193dbaf4d95561dea2c320d4a47]\n",
       "cluster E1--><a href=\"psysml:62f2acf4-862e-4777-8380-6adbdab8aa3b\" target=\"_top\" title=\"psysml:62f2acf4-862e-4777-8380-6adbdab8aa3b\" xlink:actuate=\"onRequest\" xlink:href=\"psysml:62f2acf4-862e-4777-8380-6adbdab8aa3b\" xlink:show=\"new\" xlink:title=\"psysml:62f2acf4-862e-4777-8380-6adbdab8aa3b\" xlink:type=\"simple\"><polygon fill=\"#FFFFFF\" filter=\"url(#f1qiq5sli2h83u)\" points=\"16,6,136,6,143,28.2969,801,28.2969,801,415,16,415,16,6\" style=\"stroke: #000000; stroke-width: 1.5;\"/><line style=\"stroke: #000000; stroke-width: 1.5;\" x1=\"16\" x2=\"143\" y1=\"28.2969\" y2=\"28.2969\"/><text fill=\"#000000\" font-family=\"sans-serif\" font-size=\"14\" font-weight=\"bold\" lengthAdjust=\"spacingAndGlyphs\" textLength=\"114\" x=\"20\" y=\"20.9951\">ConjugationTest</text></a><!--MD5=[b4997ac47864f28c2f74865a473b2911]\n",
       "class E2--><a href=\"psysml:8038ba5e-65f3-4a7c-a5d9-05577a1e913e\" target=\"_top\" title=\"psysml:8038ba5e-65f3-4a7c-a5d9-05577a1e913e\" xlink:actuate=\"onRequest\" xlink:href=\"psysml:8038ba5e-65f3-4a7c-a5d9-05577a1e913e\" xlink:show=\"new\" xlink:title=\"psysml:8038ba5e-65f3-4a7c-a5d9-05577a1e913e\" xlink:type=\"simple\"><rect fill=\"#FEFECE\" filter=\"url(#f1qiq5sli2h83u)\" height=\"45.9375\" id=\"E2\" style=\"stroke: #A80036; stroke-width: 1.5;\" width=\"96\" x=\"275\" y=\"353\"/><ellipse cx=\"290\" cy=\"371.9688\" fill=\"#A52A2A\" rx=\"11\" ry=\"11\" style=\"stroke: #A80036; stroke-width: 1.0;\"/><path d=\"M287.2188,376.9688 L287.2188,366.375 L289.9531,366.375 Q291.3438,366.375 292.1094,366.7656 Q292.8906,367.1406 293.4219,367.8438 Q293.9531,368.5469 294.25,369.5469 Q294.5469,370.5313 294.5469,371.75 Q294.5,373.3438 294,374.5313 Q293.5156,375.7031 292.4688,376.3438 Q291.4375,376.9688 289.75,376.9688 L287.2188,376.9688 Z M289.0781,375.4688 L289.7031,375.4688 Q290.7813,375.4688 291.4375,375.0156 Q292.0938,374.5625 292.375,373.7344 Q292.6719,372.8906 292.6563,371.7656 Q292.6563,370.5938 292.4063,369.7344 Q292.1563,368.8594 291.5469,368.3906 Q290.9375,367.9063 289.8906,367.9063 L289.0781,367.9063 L289.0781,375.4688 Z \"/><text fill=\"#000000\" font-family=\"sans-serif\" font-size=\"12\" font-style=\"italic\" lengthAdjust=\"spacingAndGlyphs\" textLength=\"68\" x=\"302\" y=\"369.1387\">«port  def»</text><text fill=\"#000000\" font-family=\"sans-serif\" font-size=\"12\" lengthAdjust=\"spacingAndGlyphs\" textLength=\"8\" x=\"332\" y=\"383.1074\">P</text><line style=\"stroke: #A80036; stroke-width: 1.5;\" x1=\"276\" x2=\"370\" y1=\"390.9375\" y2=\"390.9375\"/></a><!--MD5=[09b614a08d8cba4a07c9adeb5e0fee81]\n",
       "class E3--><a href=\"psysml:eb00d253-98ff-4ea5-9d4b-40f483d849ec\" target=\"_top\" title=\"psysml:eb00d253-98ff-4ea5-9d4b-40f483d849ec\" xlink:actuate=\"onRequest\" xlink:href=\"psysml:eb00d253-98ff-4ea5-9d4b-40f483d849ec\" xlink:show=\"new\" xlink:title=\"psysml:eb00d253-98ff-4ea5-9d4b-40f483d849ec\" xlink:type=\"simple\"><rect fill=\"#FEFECE\" filter=\"url(#f1qiq5sli2h83u)\" height=\"40\" id=\"E3\" style=\"stroke: #A80036; stroke-width: 1.5;\" width=\"40\" x=\"672\" y=\"144\"/><ellipse cx=\"687\" cy=\"160\" fill=\"#008000\" rx=\"11\" ry=\"11\" style=\"stroke: #A80036; stroke-width: 1.0;\"/><path d=\"M683.875,165 L683.875,154.4063 L687.1094,154.4063 Q689.0156,154.4063 689.9219,155.1563 Q690.8438,155.9063 690.8438,157.0781 Q690.8438,157.7656 690.4531,158.4219 Q690.0781,159.0781 689.3594,159.375 Q690.2188,159.75 690.7344,160.4375 Q691.25,161.125 691.25,161.9375 Q691.25,163.3125 690.2188,164.1563 Q689.2031,165 687.0938,165 L683.875,165 Z M685.7969,158.6406 L686.9531,158.6406 Q688.0781,158.6406 688.4844,158.2656 Q688.9063,157.875 688.9063,157.25 Q688.9063,156.6719 688.4844,156.3125 Q688.0625,155.9531 687.125,155.9531 L685.7969,155.9531 L685.7969,158.6406 Z M685.7969,163.4219 L687.2969,163.4219 Q688.2031,163.4219 688.7344,163.0313 Q689.2656,162.6406 689.2656,161.8906 Q689.2656,161.125 688.7656,160.6563 Q688.2656,160.1719 687,160.1719 L685.7969,160.1719 L685.7969,163.4219 Z \"/><text fill=\"#000000\" font-family=\"sans-serif\" font-size=\"12\" lengthAdjust=\"spacingAndGlyphs\" textLength=\"8\" x=\"701\" y=\"164.1543\">B</text><line style=\"stroke: #A80036; stroke-width: 1.5;\" x1=\"673\" x2=\"711\" y1=\"176\" y2=\"176\"/></a><!--MD5=[ebbe1d658d1005bcc118a6aa81145e00]\n",
       "class E4--><a href=\"psysml:bd11b2df-eb92-4507-bbbb-c6493b57fcfa\" target=\"_top\" title=\"psysml:bd11b2df-eb92-4507-bbbb-c6493b57fcfa\" xlink:actuate=\"onRequest\" xlink:href=\"psysml:bd11b2df-eb92-4507-bbbb-c6493b57fcfa\" xlink:show=\"new\" xlink:title=\"psysml:bd11b2df-eb92-4507-bbbb-c6493b57fcfa\" xlink:type=\"simple\"><rect fill=\"#FEFECE\" filter=\"url(#f1qiq5sli2h83u)\" height=\"45.9375\" id=\"E4\" rx=\"10\" ry=\"10\" style=\"stroke: #A80036; stroke-width: 1.5;\" width=\"68\" x=\"604\" y=\"247\"/><ellipse cx=\"619\" cy=\"265.9688\" fill=\"#0000FF\" rx=\"11\" ry=\"11\" style=\"stroke: #A80036; stroke-width: 1.0;\"/><path d=\"M615.8125,270.9688 L615.8125,260.375 L619.4219,260.375 Q620.6406,260.375 621.4375,260.8125 Q622.2344,261.2344 622.6094,261.9375 Q623,262.6406 623,263.4844 Q623,264.3281 622.625,265.0156 Q622.2656,265.7031 621.4688,266.125 Q620.6875,266.5313 619.5,266.5313 L617.7656,266.5313 L617.7656,270.9688 L615.8125,270.9688 Z M617.7656,264.9375 L619.375,264.9375 Q620.1875,264.9375 620.6094,264.5313 Q621.0313,264.125 621.0313,263.4844 Q621.0313,262.8594 620.6094,262.4531 Q620.1875,262.0469 619.3906,262.0469 L617.7656,262.0469 L617.7656,264.9375 Z \"/><text fill=\"#000000\" font-family=\"sans-serif\" font-size=\"12\" font-style=\"italic\" lengthAdjust=\"spacingAndGlyphs\" textLength=\"40\" x=\"631\" y=\"263.1387\">«port»</text><text fill=\"#000000\" font-family=\"sans-serif\" font-size=\"12\" lengthAdjust=\"spacingAndGlyphs\" textLength=\"32\" x=\"633\" y=\"277.1074\">p1: P</text><line style=\"stroke: #A80036; stroke-width: 1.5;\" x1=\"605\" x2=\"671\" y1=\"284.9375\" y2=\"284.9375\"/></a><!--MD5=[270fce915f116d4de14055a7c1d9a0f3]\n",
       "class E5--><a href=\"psysml:0cbe2724-4b46-4325-902f-a8a483156696\" target=\"_top\" title=\"psysml:0cbe2724-4b46-4325-902f-a8a483156696\" xlink:actuate=\"onRequest\" xlink:href=\"psysml:0cbe2724-4b46-4325-902f-a8a483156696\" xlink:show=\"new\" xlink:title=\"psysml:0cbe2724-4b46-4325-902f-a8a483156696\" xlink:type=\"simple\"><rect fill=\"#FEFECE\" filter=\"url(#f1qiq5sli2h83u)\" height=\"45.9375\" id=\"E5\" rx=\"10\" ry=\"10\" style=\"stroke: #A80036; stroke-width: 1.5;\" width=\"78\" x=\"707\" y=\"247\"/><ellipse cx=\"722\" cy=\"265.9688\" fill=\"#0000FF\" rx=\"11\" ry=\"11\" style=\"stroke: #A80036; stroke-width: 1.0;\"/><path d=\"M718.8125,270.9688 L718.8125,260.375 L722.4219,260.375 Q723.6406,260.375 724.4375,260.8125 Q725.2344,261.2344 725.6094,261.9375 Q726,262.6406 726,263.4844 Q726,264.3281 725.625,265.0156 Q725.2656,265.7031 724.4688,266.125 Q723.6875,266.5313 722.5,266.5313 L720.7656,266.5313 L720.7656,270.9688 L718.8125,270.9688 Z M720.7656,264.9375 L722.375,264.9375 Q723.1875,264.9375 723.6094,264.5313 Q724.0313,264.125 724.0313,263.4844 Q724.0313,262.8594 723.6094,262.4531 Q723.1875,262.0469 722.3906,262.0469 L720.7656,262.0469 L720.7656,264.9375 Z \"/><text fill=\"#000000\" font-family=\"sans-serif\" font-size=\"12\" font-style=\"italic\" lengthAdjust=\"spacingAndGlyphs\" textLength=\"40\" x=\"739\" y=\"263.1387\">«port»</text><text fill=\"#000000\" font-family=\"sans-serif\" font-size=\"12\" lengthAdjust=\"spacingAndGlyphs\" textLength=\"42\" x=\"736\" y=\"277.1074\">p2: ~P</text><line style=\"stroke: #A80036; stroke-width: 1.5;\" x1=\"708\" x2=\"784\" y1=\"284.9375\" y2=\"284.9375\"/></a><!--MD5=[60a26617385b1d2d0262a64233df1f8d]\n",
       "class E6--><a href=\"psysml:c9adf55d-1d58-41e7-9c8f-305f1a380a4f\" target=\"_top\" title=\"psysml:c9adf55d-1d58-41e7-9c8f-305f1a380a4f\" xlink:actuate=\"onRequest\" xlink:href=\"psysml:c9adf55d-1d58-41e7-9c8f-305f1a380a4f\" xlink:show=\"new\" xlink:title=\"psysml:c9adf55d-1d58-41e7-9c8f-305f1a380a4f\" xlink:type=\"simple\"><rect fill=\"#FEFECE\" filter=\"url(#f1qiq5sli2h83u)\" height=\"40\" id=\"E6\" style=\"stroke: #A80036; stroke-width: 1.5;\" width=\"40\" x=\"456\" y=\"144\"/><ellipse cx=\"471\" cy=\"160\" fill=\"#008000\" rx=\"11\" ry=\"11\" style=\"stroke: #A80036; stroke-width: 1.0;\"/><path d=\"M467.875,165 L467.875,154.4063 L471.1094,154.4063 Q473.0156,154.4063 473.9219,155.1563 Q474.8438,155.9063 474.8438,157.0781 Q474.8438,157.7656 474.4531,158.4219 Q474.0781,159.0781 473.3594,159.375 Q474.2188,159.75 474.7344,160.4375 Q475.25,161.125 475.25,161.9375 Q475.25,163.3125 474.2188,164.1563 Q473.2031,165 471.0938,165 L467.875,165 Z M469.7969,158.6406 L470.9531,158.6406 Q472.0781,158.6406 472.4844,158.2656 Q472.9063,157.875 472.9063,157.25 Q472.9063,156.6719 472.4844,156.3125 Q472.0625,155.9531 471.125,155.9531 L469.7969,155.9531 L469.7969,158.6406 Z M469.7969,163.4219 L471.2969,163.4219 Q472.2031,163.4219 472.7344,163.0313 Q473.2656,162.6406 473.2656,161.8906 Q473.2656,161.125 472.7656,160.6563 Q472.2656,160.1719 471,160.1719 L469.7969,160.1719 L469.7969,163.4219 Z \"/><text fill=\"#000000\" font-family=\"sans-serif\" font-size=\"12\" lengthAdjust=\"spacingAndGlyphs\" textLength=\"8\" x=\"485\" y=\"164.1543\">A</text><line style=\"stroke: #A80036; stroke-width: 1.5;\" x1=\"457\" x2=\"495\" y1=\"176\" y2=\"176\"/></a><!--MD5=[2156ba9850f5573cc1fc38a6a4b2f02b]\n",
       "class E7--><a href=\"psysml:62009ff7-c341-4e72-a056-ce92de09505b\" target=\"_top\" title=\"psysml:62009ff7-c341-4e72-a056-ce92de09505b\" xlink:actuate=\"onRequest\" xlink:href=\"psysml:62009ff7-c341-4e72-a056-ce92de09505b\" xlink:show=\"new\" xlink:title=\"psysml:62009ff7-c341-4e72-a056-ce92de09505b\" xlink:type=\"simple\"><rect fill=\"#FEFECE\" filter=\"url(#f1qiq5sli2h83u)\" height=\"45.9375\" id=\"E7\" rx=\"10\" ry=\"10\" style=\"stroke: #A80036; stroke-width: 1.5;\" width=\"68\" x=\"388\" y=\"247\"/><ellipse cx=\"403\" cy=\"265.9688\" fill=\"#0000FF\" rx=\"11\" ry=\"11\" style=\"stroke: #A80036; stroke-width: 1.0;\"/><path d=\"M399.8125,270.9688 L399.8125,260.375 L403.4219,260.375 Q404.6406,260.375 405.4375,260.8125 Q406.2344,261.2344 406.6094,261.9375 Q407,262.6406 407,263.4844 Q407,264.3281 406.625,265.0156 Q406.2656,265.7031 405.4688,266.125 Q404.6875,266.5313 403.5,266.5313 L401.7656,266.5313 L401.7656,270.9688 L399.8125,270.9688 Z M401.7656,264.9375 L403.375,264.9375 Q404.1875,264.9375 404.6094,264.5313 Q405.0313,264.125 405.0313,263.4844 Q405.0313,262.8594 404.6094,262.4531 Q404.1875,262.0469 403.3906,262.0469 L401.7656,262.0469 L401.7656,264.9375 Z \"/><text fill=\"#000000\" font-family=\"sans-serif\" font-size=\"12\" font-style=\"italic\" lengthAdjust=\"spacingAndGlyphs\" textLength=\"40\" x=\"415\" y=\"263.1387\">«port»</text><text fill=\"#000000\" font-family=\"sans-serif\" font-size=\"12\" lengthAdjust=\"spacingAndGlyphs\" textLength=\"32\" x=\"417\" y=\"277.1074\">p1: P</text><line style=\"stroke: #A80036; stroke-width: 1.5;\" x1=\"389\" x2=\"455\" y1=\"284.9375\" y2=\"284.9375\"/></a><!--MD5=[b9389687b975829384b498ac4b7476b2]\n",
       "class E8--><a href=\"psysml:50db7d15-a467-4fc6-8fb9-d943e9708b48\" target=\"_top\" title=\"psysml:50db7d15-a467-4fc6-8fb9-d943e9708b48\" xlink:actuate=\"onRequest\" xlink:href=\"psysml:50db7d15-a467-4fc6-8fb9-d943e9708b48\" xlink:show=\"new\" xlink:title=\"psysml:50db7d15-a467-4fc6-8fb9-d943e9708b48\" xlink:type=\"simple\"><rect fill=\"#FEFECE\" filter=\"url(#f1qiq5sli2h83u)\" height=\"45.9375\" id=\"E8\" rx=\"10\" ry=\"10\" style=\"stroke: #A80036; stroke-width: 1.5;\" width=\"78\" x=\"491\" y=\"247\"/><ellipse cx=\"506\" cy=\"265.9688\" fill=\"#0000FF\" rx=\"11\" ry=\"11\" style=\"stroke: #A80036; stroke-width: 1.0;\"/><path d=\"M502.8125,270.9688 L502.8125,260.375 L506.4219,260.375 Q507.6406,260.375 508.4375,260.8125 Q509.2344,261.2344 509.6094,261.9375 Q510,262.6406 510,263.4844 Q510,264.3281 509.625,265.0156 Q509.2656,265.7031 508.4688,266.125 Q507.6875,266.5313 506.5,266.5313 L504.7656,266.5313 L504.7656,270.9688 L502.8125,270.9688 Z M504.7656,264.9375 L506.375,264.9375 Q507.1875,264.9375 507.6094,264.5313 Q508.0313,264.125 508.0313,263.4844 Q508.0313,262.8594 507.6094,262.4531 Q507.1875,262.0469 506.3906,262.0469 L504.7656,262.0469 L504.7656,264.9375 Z \"/><text fill=\"#000000\" font-family=\"sans-serif\" font-size=\"12\" font-style=\"italic\" lengthAdjust=\"spacingAndGlyphs\" textLength=\"40\" x=\"523\" y=\"263.1387\">«port»</text><text fill=\"#000000\" font-family=\"sans-serif\" font-size=\"12\" lengthAdjust=\"spacingAndGlyphs\" textLength=\"42\" x=\"520\" y=\"277.1074\">p2: ~P</text><line style=\"stroke: #A80036; stroke-width: 1.5;\" x1=\"492\" x2=\"568\" y1=\"284.9375\" y2=\"284.9375\"/></a><!--MD5=[fd4143e9d270a159db93a4ea2a975926]\n",
       "class E9--><a href=\"psysml:909b1fdd-cad7-4fe7-8f0f-a5ae3fa3dd03\" target=\"_top\" title=\"psysml:909b1fdd-cad7-4fe7-8f0f-a5ae3fa3dd03\" xlink:actuate=\"onRequest\" xlink:href=\"psysml:909b1fdd-cad7-4fe7-8f0f-a5ae3fa3dd03\" xlink:show=\"new\" xlink:title=\"psysml:909b1fdd-cad7-4fe7-8f0f-a5ae3fa3dd03\" xlink:type=\"simple\"><rect fill=\"#FEFECE\" filter=\"url(#f1qiq5sli2h83u)\" height=\"40\" id=\"E9\" style=\"stroke: #A80036; stroke-width: 1.5;\" width=\"35\" x=\"242.5\" y=\"144\"/><ellipse cx=\"257.5\" cy=\"160\" fill=\"#008000\" rx=\"11\" ry=\"11\" style=\"stroke: #A80036; stroke-width: 1.0;\"/><path d=\"M254.375,165 L254.375,154.4063 L257.6094,154.4063 Q259.5156,154.4063 260.4219,155.1563 Q261.3438,155.9063 261.3438,157.0781 Q261.3438,157.7656 260.9531,158.4219 Q260.5781,159.0781 259.8594,159.375 Q260.7188,159.75 261.2344,160.4375 Q261.75,161.125 261.75,161.9375 Q261.75,163.3125 260.7188,164.1563 Q259.7031,165 257.5938,165 L254.375,165 Z M256.2969,158.6406 L257.4531,158.6406 Q258.5781,158.6406 258.9844,158.2656 Q259.4063,157.875 259.4063,157.25 Q259.4063,156.6719 258.9844,156.3125 Q258.5625,155.9531 257.625,155.9531 L256.2969,155.9531 L256.2969,158.6406 Z M256.2969,163.4219 L257.7969,163.4219 Q258.7031,163.4219 259.2344,163.0313 Q259.7656,162.6406 259.7656,161.8906 Q259.7656,161.125 259.2656,160.6563 Q258.7656,160.1719 257.5,160.1719 L256.2969,160.1719 L256.2969,163.4219 Z \"/><text fill=\"#000000\" font-family=\"sans-serif\" font-size=\"12\" lengthAdjust=\"spacingAndGlyphs\" textLength=\"3\" x=\"271.5\" y=\"164.1543\">I</text><line style=\"stroke: #A80036; stroke-width: 1.5;\" x1=\"243.5\" x2=\"276.5\" y1=\"176\" y2=\"176\"/></a><!--MD5=[96f4274e9e20536e775497830990834d]\n",
       "class E10--><a href=\"psysml:4b05cf72-e027-47da-9c90-b867da4c93e0\" target=\"_top\" title=\"psysml:4b05cf72-e027-47da-9c90-b867da4c93e0\" xlink:actuate=\"onRequest\" xlink:href=\"psysml:4b05cf72-e027-47da-9c90-b867da4c93e0\" xlink:show=\"new\" xlink:title=\"psysml:4b05cf72-e027-47da-9c90-b867da4c93e0\" xlink:type=\"simple\"><rect fill=\"#FEFECE\" filter=\"url(#f1qiq5sli2h83u)\" height=\"45.9375\" id=\"E10\" rx=\"10\" ry=\"10\" style=\"stroke: #A80036; stroke-width: 1.5;\" width=\"68\" x=\"172\" y=\"247\"/><ellipse cx=\"187\" cy=\"265.9688\" fill=\"#0000FF\" rx=\"11\" ry=\"11\" style=\"stroke: #A80036; stroke-width: 1.0;\"/><path d=\"M183.8125,270.9688 L183.8125,260.375 L187.4219,260.375 Q188.6406,260.375 189.4375,260.8125 Q190.2344,261.2344 190.6094,261.9375 Q191,262.6406 191,263.4844 Q191,264.3281 190.625,265.0156 Q190.2656,265.7031 189.4688,266.125 Q188.6875,266.5313 187.5,266.5313 L185.7656,266.5313 L185.7656,270.9688 L183.8125,270.9688 Z M185.7656,264.9375 L187.375,264.9375 Q188.1875,264.9375 188.6094,264.5313 Q189.0313,264.125 189.0313,263.4844 Q189.0313,262.8594 188.6094,262.4531 Q188.1875,262.0469 187.3906,262.0469 L185.7656,262.0469 L185.7656,264.9375 Z \"/><text fill=\"#000000\" font-family=\"sans-serif\" font-size=\"12\" font-style=\"italic\" lengthAdjust=\"spacingAndGlyphs\" textLength=\"40\" x=\"199\" y=\"263.1387\">«port»</text><text fill=\"#000000\" font-family=\"sans-serif\" font-size=\"12\" lengthAdjust=\"spacingAndGlyphs\" textLength=\"32\" x=\"201\" y=\"277.1074\">p1: P</text><line style=\"stroke: #A80036; stroke-width: 1.5;\" x1=\"173\" x2=\"239\" y1=\"284.9375\" y2=\"284.9375\"/></a><!--MD5=[1dd1bfd58a279cf63c5f349dbc8fc6a1]\n",
       "class E11--><a href=\"psysml:0c24ab80-75a0-44e9-976a-962e4e9af685\" target=\"_top\" title=\"psysml:0c24ab80-75a0-44e9-976a-962e4e9af685\" xlink:actuate=\"onRequest\" xlink:href=\"psysml:0c24ab80-75a0-44e9-976a-962e4e9af685\" xlink:show=\"new\" xlink:title=\"psysml:0c24ab80-75a0-44e9-976a-962e4e9af685\" xlink:type=\"simple\"><rect fill=\"#FEFECE\" filter=\"url(#f1qiq5sli2h83u)\" height=\"45.9375\" id=\"E11\" rx=\"10\" ry=\"10\" style=\"stroke: #A80036; stroke-width: 1.5;\" width=\"78\" x=\"275\" y=\"247\"/><ellipse cx=\"290\" cy=\"265.9688\" fill=\"#0000FF\" rx=\"11\" ry=\"11\" style=\"stroke: #A80036; stroke-width: 1.0;\"/><path d=\"M286.8125,270.9688 L286.8125,260.375 L290.4219,260.375 Q291.6406,260.375 292.4375,260.8125 Q293.2344,261.2344 293.6094,261.9375 Q294,262.6406 294,263.4844 Q294,264.3281 293.625,265.0156 Q293.2656,265.7031 292.4688,266.125 Q291.6875,266.5313 290.5,266.5313 L288.7656,266.5313 L288.7656,270.9688 L286.8125,270.9688 Z M288.7656,264.9375 L290.375,264.9375 Q291.1875,264.9375 291.6094,264.5313 Q292.0313,264.125 292.0313,263.4844 Q292.0313,262.8594 291.6094,262.4531 Q291.1875,262.0469 290.3906,262.0469 L288.7656,262.0469 L288.7656,264.9375 Z \"/><text fill=\"#000000\" font-family=\"sans-serif\" font-size=\"12\" font-style=\"italic\" lengthAdjust=\"spacingAndGlyphs\" textLength=\"40\" x=\"307\" y=\"263.1387\">«port»</text><text fill=\"#000000\" font-family=\"sans-serif\" font-size=\"12\" lengthAdjust=\"spacingAndGlyphs\" textLength=\"42\" x=\"304\" y=\"277.1074\">p2: ~P</text><line style=\"stroke: #A80036; stroke-width: 1.5;\" x1=\"276\" x2=\"352\" y1=\"284.9375\" y2=\"284.9375\"/></a><!--MD5=[49a0ec8f00dab7302a31f22d0f0fe584]\n",
       "class E12--><a href=\"psysml:c2ec72d4-85fe-4c8d-a549-b327df7a4c85\" target=\"_top\" title=\"psysml:c2ec72d4-85fe-4c8d-a549-b327df7a4c85\" xlink:actuate=\"onRequest\" xlink:href=\"psysml:c2ec72d4-85fe-4c8d-a549-b327df7a4c85\" xlink:show=\"new\" xlink:title=\"psysml:c2ec72d4-85fe-4c8d-a549-b327df7a4c85\" xlink:type=\"simple\"><rect fill=\"#FEFECE\" filter=\"url(#f1qiq5sli2h83u)\" height=\"40\" id=\"E12\" style=\"stroke: #A80036; stroke-width: 1.5;\" width=\"48\" x=\"60\" y=\"41\"/><ellipse cx=\"75\" cy=\"57\" fill=\"#008000\" rx=\"11\" ry=\"11\" style=\"stroke: #A80036; stroke-width: 1.0;\"/><path d=\"M71.875,62 L71.875,51.4063 L75.1094,51.4063 Q77.0156,51.4063 77.9219,52.1563 Q78.8438,52.9063 78.8438,54.0781 Q78.8438,54.7656 78.4531,55.4219 Q78.0781,56.0781 77.3594,56.375 Q78.2188,56.75 78.7344,57.4375 Q79.25,58.125 79.25,58.9375 Q79.25,60.3125 78.2188,61.1563 Q77.2031,62 75.0938,62 L71.875,62 Z M73.7969,55.6406 L74.9531,55.6406 Q76.0781,55.6406 76.4844,55.2656 Q76.9063,54.875 76.9063,54.25 Q76.9063,53.6719 76.4844,53.3125 Q76.0625,52.9531 75.125,52.9531 L73.7969,52.9531 L73.7969,55.6406 Z M73.7969,60.4219 L75.2969,60.4219 Q76.2031,60.4219 76.7344,60.0313 Q77.2656,59.6406 77.2656,58.8906 Q77.2656,58.125 76.7656,57.6563 Q76.2656,57.1719 75,57.1719 L73.7969,57.1719 L73.7969,60.4219 Z \"/><text fill=\"#000000\" font-family=\"sans-serif\" font-size=\"12\" lengthAdjust=\"spacingAndGlyphs\" textLength=\"16\" x=\"89\" y=\"61.1543\">B1</text><line style=\"stroke: #A80036; stroke-width: 1.5;\" x1=\"61\" x2=\"107\" y1=\"73\" y2=\"73\"/></a><!--MD5=[ee3c913d1a06f366521f9ef512b67efe]\n",
       "class E13--><a href=\"psysml:bf56b714-b103-43c5-844a-64ae22bea297\" target=\"_top\" title=\"psysml:bf56b714-b103-43c5-844a-64ae22bea297\" xlink:actuate=\"onRequest\" xlink:href=\"psysml:bf56b714-b103-43c5-844a-64ae22bea297\" xlink:show=\"new\" xlink:title=\"psysml:bf56b714-b103-43c5-844a-64ae22bea297\" xlink:type=\"simple\"><rect fill=\"#FEFECE\" filter=\"url(#f1qiq5sli2h83u)\" height=\"45.9375\" id=\"E13\" rx=\"10\" ry=\"10\" style=\"stroke: #A80036; stroke-width: 1.5;\" width=\"68\" x=\"50\" y=\"141\"/><ellipse cx=\"65\" cy=\"159.9688\" fill=\"#32CD32\" rx=\"11\" ry=\"11\" style=\"stroke: #A80036; stroke-width: 1.0;\"/><path d=\"M61.8125,164.9688 L61.8125,154.375 L65.4219,154.375 Q66.6406,154.375 67.4375,154.8125 Q68.2344,155.2344 68.6094,155.9375 Q69,156.6406 69,157.4844 Q69,158.3281 68.625,159.0156 Q68.2656,159.7031 67.4688,160.125 Q66.6875,160.5313 65.5,160.5313 L63.7656,160.5313 L63.7656,164.9688 L61.8125,164.9688 Z M63.7656,158.9375 L65.375,158.9375 Q66.1875,158.9375 66.6094,158.5313 Q67.0313,158.125 67.0313,157.4844 Q67.0313,156.8594 66.6094,156.4531 Q66.1875,156.0469 65.3906,156.0469 L63.7656,156.0469 L63.7656,158.9375 Z \"/><text fill=\"#000000\" font-family=\"sans-serif\" font-size=\"12\" font-style=\"italic\" lengthAdjust=\"spacingAndGlyphs\" textLength=\"40\" x=\"77\" y=\"157.1387\">«part»</text><text fill=\"#000000\" font-family=\"sans-serif\" font-size=\"12\" lengthAdjust=\"spacingAndGlyphs\" textLength=\"8\" x=\"91\" y=\"171.1074\">p</text><line style=\"stroke: #A80036; stroke-width: 1.5;\" x1=\"51\" x2=\"117\" y1=\"178.9375\" y2=\"178.9375\"/></a><!--MD5=[bee11217b2f71d958a27249dc326068c]\n",
       "class E14--><a href=\"psysml:b5c2279c-6642-492b-a6cf-19efab06e689\" target=\"_top\" title=\"psysml:b5c2279c-6642-492b-a6cf-19efab06e689\" xlink:actuate=\"onRequest\" xlink:href=\"psysml:b5c2279c-6642-492b-a6cf-19efab06e689\" xlink:show=\"new\" xlink:title=\"psysml:b5c2279c-6642-492b-a6cf-19efab06e689\" xlink:type=\"simple\"><rect fill=\"#FEFECE\" filter=\"url(#f1qiq5sli2h83u)\" height=\"45.9375\" id=\"E14\" rx=\"10\" ry=\"10\" style=\"stroke: #A80036; stroke-width: 1.5;\" width=\"68\" x=\"69\" y=\"247\"/><ellipse cx=\"84\" cy=\"265.9688\" fill=\"#0000FF\" rx=\"11\" ry=\"11\" style=\"stroke: #A80036; stroke-width: 1.0;\"/><path d=\"M80.8125,270.9688 L80.8125,260.375 L84.4219,260.375 Q85.6406,260.375 86.4375,260.8125 Q87.2344,261.2344 87.6094,261.9375 Q88,262.6406 88,263.4844 Q88,264.3281 87.625,265.0156 Q87.2656,265.7031 86.4688,266.125 Q85.6875,266.5313 84.5,266.5313 L82.7656,266.5313 L82.7656,270.9688 L80.8125,270.9688 Z M82.7656,264.9375 L84.375,264.9375 Q85.1875,264.9375 85.6094,264.5313 Q86.0313,264.125 86.0313,263.4844 Q86.0313,262.8594 85.6094,262.4531 Q85.1875,262.0469 84.3906,262.0469 L82.7656,262.0469 L82.7656,264.9375 Z \"/><text fill=\"#000000\" font-family=\"sans-serif\" font-size=\"12\" font-style=\"italic\" lengthAdjust=\"spacingAndGlyphs\" textLength=\"40\" x=\"96\" y=\"263.1387\">«port»</text><text fill=\"#000000\" font-family=\"sans-serif\" font-size=\"12\" lengthAdjust=\"spacingAndGlyphs\" textLength=\"32\" x=\"98\" y=\"277.1074\">p1: P</text><line style=\"stroke: #A80036; stroke-width: 1.5;\" x1=\"70\" x2=\"136\" y1=\"284.9375\" y2=\"284.9375\"/></a><!--MD5=[0c48fb7552dae8cbbef69381101a84c8]\n",
       "class E15--><a href=\"psysml:ed6b3600-9f65-4ffd-a058-1200daf10699\" target=\"_top\" title=\"psysml:ed6b3600-9f65-4ffd-a058-1200daf10699\" xlink:actuate=\"onRequest\" xlink:href=\"psysml:ed6b3600-9f65-4ffd-a058-1200daf10699\" xlink:show=\"new\" xlink:title=\"psysml:ed6b3600-9f65-4ffd-a058-1200daf10699\" xlink:type=\"simple\"><rect fill=\"#FEFECE\" filter=\"url(#f1qiq5sli2h83u)\" height=\"45.9375\" id=\"E15\" rx=\"10\" ry=\"10\" style=\"stroke: #A80036; stroke-width: 1.5;\" width=\"78\" x=\"64\" y=\"353\"/><ellipse cx=\"79\" cy=\"371.9688\" fill=\"#0000FF\" rx=\"11\" ry=\"11\" style=\"stroke: #A80036; stroke-width: 1.0;\"/><path d=\"M75.8125,376.9688 L75.8125,366.375 L79.4219,366.375 Q80.6406,366.375 81.4375,366.8125 Q82.2344,367.2344 82.6094,367.9375 Q83,368.6406 83,369.4844 Q83,370.3281 82.625,371.0156 Q82.2656,371.7031 81.4688,372.125 Q80.6875,372.5313 79.5,372.5313 L77.7656,372.5313 L77.7656,376.9688 L75.8125,376.9688 Z M77.7656,370.9375 L79.375,370.9375 Q80.1875,370.9375 80.6094,370.5313 Q81.0313,370.125 81.0313,369.4844 Q81.0313,368.8594 80.6094,368.4531 Q80.1875,368.0469 79.3906,368.0469 L77.7656,368.0469 L77.7656,370.9375 Z \"/><text fill=\"#000000\" font-family=\"sans-serif\" font-size=\"12\" font-style=\"italic\" lengthAdjust=\"spacingAndGlyphs\" textLength=\"40\" x=\"96\" y=\"369.1387\">«port»</text><text fill=\"#000000\" font-family=\"sans-serif\" font-size=\"12\" lengthAdjust=\"spacingAndGlyphs\" textLength=\"42\" x=\"93\" y=\"383.1074\">p2: ~P</text><line style=\"stroke: #A80036; stroke-width: 1.5;\" x1=\"65\" x2=\"141\" y1=\"390.9375\" y2=\"390.9375\"/></a><!--MD5=[4672eba38e49728da53d11aeb285b987]\n",
       "reverse link E3 to E4--><a href=\"psysml:301fc48c-20ce-4bfe-ac1d-96f5db6094d0\" target=\"_top\" title=\"psysml:301fc48c-20ce-4bfe-ac1d-96f5db6094d0\" xlink:actuate=\"onRequest\" xlink:href=\"psysml:301fc48c-20ce-4bfe-ac1d-96f5db6094d0\" xlink:show=\"new\" xlink:title=\"psysml:301fc48c-20ce-4bfe-ac1d-96f5db6094d0\" xlink:type=\"simple\"><path d=\"M676.01,195.8 C667.5,212.18 657.24,231.94 649.53,246.8 \" fill=\"none\" id=\"E3&lt;-E4\" style=\"stroke: #A80036; stroke-width: 1.0;\"/><polygon fill=\"#FFFFFF\" points=\"682.1,184.08,675.7852,187.5618,676.5704,194.7301,682.8852,191.2482,682.1,184.08\" style=\"stroke: #A80036; stroke-width: 1.0;\"/><text fill=\"#000000\" font-family=\"sans-serif\" font-size=\"13\" lengthAdjust=\"spacingAndGlyphs\" textLength=\"8\" x=\"643.4596\" y=\"236.025\">1</text></a><!--MD5=[185131fc0dcab0a4505a2ebe144e961b]\n",
       "link E4 to E2--><a href=\"psysml:2658e44c-8270-4dd2-9600-daf649b69d41\" target=\"_top\" title=\"psysml:2658e44c-8270-4dd2-9600-daf649b69d41\" xlink:actuate=\"onRequest\" xlink:href=\"psysml:2658e44c-8270-4dd2-9600-daf649b69d41\" xlink:show=\"new\" xlink:title=\"psysml:2658e44c-8270-4dd2-9600-daf649b69d41\" xlink:type=\"simple\"><path d=\"M603.91,286.3 C598.3,288.64 592.52,290.96 587,293 C521.14,317.36 444.33,340.66 390.6,356.15 \" fill=\"none\" id=\"E4-&gt;E2\" style=\"stroke: #A80036; stroke-width: 1.0;\"/><polygon fill=\"#FFFFFF\" points=\"371.2,361.69,387.5424,349.7348,391.3924,363.195,371.2,361.69\" style=\"stroke: #A80036; stroke-width: 1.0;\"/><ellipse cx=\"393.5726\" cy=\"350.0902\" fill=\"#A80036\" rx=\"2\" ry=\"2\" style=\"stroke: #A80036; stroke-width: 1.0;\"/><ellipse cx=\"396.3227\" cy=\"359.7046\" fill=\"#A80036\" rx=\"2\" ry=\"2\" style=\"stroke: #A80036; stroke-width: 1.0;\"/></a><!--MD5=[191cde3d490a3f6d7bb551fe3ddca469]\n",
       "reverse link E3 to E5--><a href=\"psysml:223fd842-0df9-4bd0-ad12-80c4696f3c55\" target=\"_top\" title=\"psysml:223fd842-0df9-4bd0-ad12-80c4696f3c55\" xlink:actuate=\"onRequest\" xlink:href=\"psysml:223fd842-0df9-4bd0-ad12-80c4696f3c55\" xlink:show=\"new\" xlink:title=\"psysml:223fd842-0df9-4bd0-ad12-80c4696f3c55\" xlink:type=\"simple\"><path d=\"M707.99,195.8 C716.5,212.18 726.76,231.94 734.47,246.8 \" fill=\"none\" id=\"E3&lt;-E5\" style=\"stroke: #A80036; stroke-width: 1.0;\"/><polygon fill=\"#FFFFFF\" points=\"701.9,184.08,701.1148,191.2482,707.4296,194.7301,708.2148,187.5618,701.9,184.08\" style=\"stroke: #A80036; stroke-width: 1.0;\"/><text fill=\"#000000\" font-family=\"sans-serif\" font-size=\"13\" lengthAdjust=\"spacingAndGlyphs\" textLength=\"8\" x=\"722.4904\" y=\"236.025\">1</text></a><!--MD5=[3f50a3473f1dfb74d3f76443e03635af]\n",
       "reverse link E6 to E7--><a href=\"psysml:21746d6a-6182-4390-ad27-ac5c9b62bfbf\" target=\"_top\" title=\"psysml:21746d6a-6182-4390-ad27-ac5c9b62bfbf\" xlink:actuate=\"onRequest\" xlink:href=\"psysml:21746d6a-6182-4390-ad27-ac5c9b62bfbf\" xlink:show=\"new\" xlink:title=\"psysml:21746d6a-6182-4390-ad27-ac5c9b62bfbf\" xlink:type=\"simple\"><path d=\"M460.01,195.8 C451.5,212.18 441.24,231.94 433.53,246.8 \" fill=\"none\" id=\"E6&lt;-E7\" style=\"stroke: #A80036; stroke-width: 1.0;\"/><polygon fill=\"#FFFFFF\" points=\"466.1,184.08,459.7852,187.5618,460.5704,194.7301,466.8852,191.2482,466.1,184.08\" style=\"stroke: #A80036; stroke-width: 1.0;\"/><text fill=\"#000000\" font-family=\"sans-serif\" font-size=\"13\" lengthAdjust=\"spacingAndGlyphs\" textLength=\"8\" x=\"427.4596\" y=\"236.025\">1</text></a><!--MD5=[583832df87f4419a098336a29a52fa00]\n",
       "link E7 to E2--><a href=\"psysml:ac292376-6896-4173-b580-fb46e7ca2b11\" target=\"_top\" title=\"psysml:ac292376-6896-4173-b580-fb46e7ca2b11\" xlink:actuate=\"onRequest\" xlink:href=\"psysml:ac292376-6896-4173-b580-fb46e7ca2b11\" xlink:show=\"new\" xlink:title=\"psysml:ac292376-6896-4173-b580-fb46e7ca2b11\" xlink:type=\"simple\"><path d=\"M401,293.06 C388.54,306.15 372.41,323.1 358.05,338.18 \" fill=\"none\" id=\"E7-&gt;E2\" style=\"stroke: #A80036; stroke-width: 1.0;\"/><polygon fill=\"#FFFFFF\" points=\"343.97,352.98,352.0072,334.395,362.1437,344.0517,343.97,352.98\" style=\"stroke: #A80036; stroke-width: 1.0;\"/><ellipse cx=\"357.3869\" cy=\"331.6475\" fill=\"#A80036\" rx=\"2\" ry=\"2\" style=\"stroke: #A80036; stroke-width: 1.0;\"/><ellipse cx=\"364.6273\" cy=\"338.5451\" fill=\"#A80036\" rx=\"2\" ry=\"2\" style=\"stroke: #A80036; stroke-width: 1.0;\"/></a><!--MD5=[f4cf0736d43fd73c4ef68817c49d37d5]\n",
       "reverse link E6 to E8--><a href=\"psysml:0a911d69-2e8c-46c6-ac57-f08740e1c2a7\" target=\"_top\" title=\"psysml:0a911d69-2e8c-46c6-ac57-f08740e1c2a7\" xlink:actuate=\"onRequest\" xlink:href=\"psysml:0a911d69-2e8c-46c6-ac57-f08740e1c2a7\" xlink:show=\"new\" xlink:title=\"psysml:0a911d69-2e8c-46c6-ac57-f08740e1c2a7\" xlink:type=\"simple\"><path d=\"M491.99,195.8 C500.5,212.18 510.76,231.94 518.47,246.8 \" fill=\"none\" id=\"E6&lt;-E8\" style=\"stroke: #A80036; stroke-width: 1.0;\"/><polygon fill=\"#FFFFFF\" points=\"485.9,184.08,485.1148,191.2482,491.4296,194.7301,492.2148,187.5618,485.9,184.08\" style=\"stroke: #A80036; stroke-width: 1.0;\"/><text fill=\"#000000\" font-family=\"sans-serif\" font-size=\"13\" lengthAdjust=\"spacingAndGlyphs\" textLength=\"8\" x=\"506.4904\" y=\"236.025\">1</text></a><!--MD5=[23ac544a70576c3e717098101004234c]\n",
       "reverse link E9 to E10--><a href=\"psysml:7a6ef9a5-ee54-4bad-bee0-b6cd150b3ba6\" target=\"_top\" title=\"psysml:7a6ef9a5-ee54-4bad-bee0-b6cd150b3ba6\" xlink:actuate=\"onRequest\" xlink:href=\"psysml:7a6ef9a5-ee54-4bad-bee0-b6cd150b3ba6\" xlink:show=\"new\" xlink:title=\"psysml:7a6ef9a5-ee54-4bad-bee0-b6cd150b3ba6\" xlink:type=\"simple\"><path d=\"M244.01,195.8 C235.5,212.18 225.24,231.94 217.53,246.8 \" fill=\"none\" id=\"E9&lt;-E10\" style=\"stroke: #A80036; stroke-width: 1.0;\"/><polygon fill=\"#FFFFFF\" points=\"250.1,184.08,243.7852,187.5618,244.5704,194.7301,250.8852,191.2482,250.1,184.08\" style=\"stroke: #A80036; stroke-width: 1.0;\"/><text fill=\"#000000\" font-family=\"sans-serif\" font-size=\"13\" lengthAdjust=\"spacingAndGlyphs\" textLength=\"8\" x=\"211.4596\" y=\"236.025\">1</text></a><!--MD5=[0f36bececdf0dff6e600d6f64214b0f1]\n",
       "link E10 to E2--><a href=\"psysml:1b1dbb40-b684-43d5-9e90-095d8f580599\" target=\"_top\" title=\"psysml:1b1dbb40-b684-43d5-9e90-095d8f580599\" xlink:actuate=\"onRequest\" xlink:href=\"psysml:1b1dbb40-b684-43d5-9e90-095d8f580599\" xlink:show=\"new\" xlink:title=\"psysml:1b1dbb40-b684-43d5-9e90-095d8f580599\" xlink:type=\"simple\"><path d=\"M230.81,293.06 C246.01,306.57 265.82,324.17 283.18,339.6 \" fill=\"none\" id=\"E10-&gt;E2\" style=\"stroke: #A80036; stroke-width: 1.0;\"/><polygon fill=\"#FFFFFF\" points=\"298.22,352.98,279.3735,345.5767,288.6814,335.119,298.22,352.98\" style=\"stroke: #A80036; stroke-width: 1.0;\"/><ellipse cx=\"276.4454\" cy=\"340.2931\" fill=\"#A80036\" rx=\"2\" ry=\"2\" style=\"stroke: #A80036; stroke-width: 1.0;\"/><ellipse cx=\"283.094\" cy=\"332.8233\" fill=\"#A80036\" rx=\"2\" ry=\"2\" style=\"stroke: #A80036; stroke-width: 1.0;\"/></a><!--MD5=[1fc04a95fd77ad5ce46c1a3027516051]\n",
       "reverse link E9 to E11--><a href=\"psysml:26e0bda0-b5f1-463e-8de4-6289f85dc961\" target=\"_top\" title=\"psysml:26e0bda0-b5f1-463e-8de4-6289f85dc961\" xlink:actuate=\"onRequest\" xlink:href=\"psysml:26e0bda0-b5f1-463e-8de4-6289f85dc961\" xlink:show=\"new\" xlink:title=\"psysml:26e0bda0-b5f1-463e-8de4-6289f85dc961\" xlink:type=\"simple\"><path d=\"M275.99,195.8 C284.5,212.18 294.76,231.94 302.47,246.8 \" fill=\"none\" id=\"E9&lt;-E11\" style=\"stroke: #A80036; stroke-width: 1.0;\"/><polygon fill=\"#FFFFFF\" points=\"269.9,184.08,269.1148,191.2482,275.4296,194.7301,276.2148,187.5618,269.9,184.08\" style=\"stroke: #A80036; stroke-width: 1.0;\"/><text fill=\"#000000\" font-family=\"sans-serif\" font-size=\"13\" lengthAdjust=\"spacingAndGlyphs\" textLength=\"8\" x=\"290.4904\" y=\"236.025\">1</text></a><!--MD5=[062ed86c389d1a88f61c6380d0491e17]\n",
       "reverse link E12 to E13--><a href=\"psysml:b5605e58-b315-4dd3-8e84-581a703b4e2b\" target=\"_top\" title=\"psysml:b5605e58-b315-4dd3-8e84-581a703b4e2b\" xlink:actuate=\"onRequest\" xlink:href=\"psysml:b5605e58-b315-4dd3-8e84-581a703b4e2b\" xlink:show=\"new\" xlink:title=\"psysml:b5605e58-b315-4dd3-8e84-581a703b4e2b\" xlink:type=\"simple\"><path d=\"M84,94.47 C84,109.59 84,127.2 84,140.77 \" fill=\"none\" id=\"E12&lt;-E13\" style=\"stroke: #A80036; stroke-width: 1.0;\"/><polygon fill=\"#A80036\" points=\"84,81.47,80,87.47,84,93.47,88,87.47,84,81.47\" style=\"stroke: #A80036; stroke-width: 1.0;\"/><text fill=\"#000000\" font-family=\"sans-serif\" font-size=\"13\" lengthAdjust=\"spacingAndGlyphs\" textLength=\"8\" x=\"74.975\" y=\"129.9874\">1</text></a><!--MD5=[01db00f33b28669d6d9febea71002831]\n",
       "reverse link E13 to E14--><a href=\"psysml:db42b499-220f-4c1a-8731-eb36b8c82e1e\" target=\"_top\" title=\"psysml:db42b499-220f-4c1a-8731-eb36b8c82e1e\" xlink:actuate=\"onRequest\" xlink:href=\"psysml:db42b499-220f-4c1a-8731-eb36b8c82e1e\" xlink:show=\"new\" xlink:title=\"psysml:db42b499-220f-4c1a-8731-eb36b8c82e1e\" xlink:type=\"simple\"><path d=\"M90.39,199.96 C93.23,215.51 96.48,233.33 98.98,246.98 \" fill=\"none\" id=\"E13&lt;-E14\" style=\"stroke: #A80036; stroke-width: 1.0;\"/><polygon fill=\"#FFFFFF\" points=\"88.03,187.06,85.1698,193.6796,90.1801,198.8658,93.0403,192.2462,88.03,187.06\" style=\"stroke: #A80036; stroke-width: 1.0;\"/><text fill=\"#000000\" font-family=\"sans-serif\" font-size=\"13\" lengthAdjust=\"spacingAndGlyphs\" textLength=\"8\" x=\"88.8246\" y=\"235.8709\">1</text></a><!--MD5=[e5566ac99d7714697a7fbc17f6b550fe]\n",
       "link E14 to E2--><a href=\"psysml:7155c58b-23e7-41d9-a472-3863cff0084f\" target=\"_top\" title=\"psysml:7155c58b-23e7-41d9-a472-3863cff0084f\" xlink:actuate=\"onRequest\" xlink:href=\"psysml:7155c58b-23e7-41d9-a472-3863cff0084f\" xlink:show=\"new\" xlink:title=\"psysml:7155c58b-23e7-41d9-a472-3863cff0084f\" xlink:type=\"simple\"><path d=\"M137.38,287.25 C169.54,302.45 218.42,325.56 257.95,344.25 \" fill=\"none\" id=\"E14-&gt;E2\" style=\"stroke: #A80036; stroke-width: 1.0;\"/><polygon fill=\"#FFFFFF\" points=\"276.21,352.88,256.0404,351.0944,262.0199,338.4356,276.21,352.88\" style=\"stroke: #A80036; stroke-width: 1.0;\"/><ellipse cx=\"251.7407\" cy=\"346.8516\" fill=\"#A80036\" rx=\"2\" ry=\"2\" style=\"stroke: #A80036; stroke-width: 1.0;\"/><ellipse cx=\"256.0117\" cy=\"337.8095\" fill=\"#A80036\" rx=\"2\" ry=\"2\" style=\"stroke: #A80036; stroke-width: 1.0;\"/></a><!--MD5=[e9a5e828c71fd2209a11a152f562d491]\n",
       "reverse link E13 to E15--><a href=\"psysml:2699a371-802b-44a3-9d88-da30e2130afc\" target=\"_top\" title=\"psysml:2699a371-802b-44a3-9d88-da30e2130afc\" xlink:actuate=\"onRequest\" xlink:href=\"psysml:2699a371-802b-44a3-9d88-da30e2130afc\" xlink:show=\"new\" xlink:title=\"psysml:2699a371-802b-44a3-9d88-da30e2130afc\" xlink:type=\"simple\"><path d=\"M65.17,199.1 C53.3,224.98 41.82,261.37 51,293 C57.44,315.18 71.88,337.1 83.91,352.69 \" fill=\"none\" id=\"E13&lt;-E15\" style=\"stroke: #A80036; stroke-width: 1.0;\"/><polygon fill=\"#FFFFFF\" points=\"70.93,187.31,64.7009,190.9429,65.6585,198.0902,71.8876,194.4572,70.93,187.31\" style=\"stroke: #A80036; stroke-width: 1.0;\"/><text fill=\"#000000\" font-family=\"sans-serif\" font-size=\"13\" lengthAdjust=\"spacingAndGlyphs\" textLength=\"8\" x=\"69.9932\" y=\"341.8869\">1</text></a><!--MD5=[3afbdc645381407e1bc99677323a2513]\n",
       "link E14 to E15--><a href=\"psysml:1d4c99f1-723b-47e9-b0a9-a2cf4f06711c\" target=\"_top\" title=\"psysml:1d4c99f1-723b-47e9-b0a9-a2cf4f06711c\" xlink:actuate=\"onRequest\" xlink:href=\"psysml:1d4c99f1-723b-47e9-b0a9-a2cf4f06711c\" xlink:show=\"new\" xlink:title=\"psysml:1d4c99f1-723b-47e9-b0a9-a2cf4f06711c\" xlink:type=\"simple\"><path d=\"M92.35,293.06 C89.55,310.7 89.55,335.34 92.36,352.98 \" fill=\"none\" id=\"E14-E15\" style=\"stroke: #A80036; stroke-width: 3.0;\"/></a><!--MD5=[3afbdc645381407e1bc99677323a2513]\n",
       "link E14 to E15--><a href=\"psysml:99ef5f64-108a-4414-ad16-a52f47db38b7\" target=\"_top\" title=\"psysml:99ef5f64-108a-4414-ad16-a52f47db38b7\" xlink:actuate=\"onRequest\" xlink:href=\"psysml:99ef5f64-108a-4414-ad16-a52f47db38b7\" xlink:show=\"new\" xlink:title=\"psysml:99ef5f64-108a-4414-ad16-a52f47db38b7\" xlink:type=\"simple\"><path d=\"M114.27,293.06 C117.24,310.7 117.24,335.34 114.27,352.98 \" fill=\"none\" id=\"E14-E15-1\" style=\"stroke: #A80036; stroke-width: 3.0;\"/></a><!--MD5=[b7a0b258fc1c6c66412732cbf6990550]\n",
       "@startuml\r\n",
       " \r\n",
       "package \"ConjugationTest\" as E1  [[psysml:62f2acf4-862e-4777-8380-6adbdab8aa3b ]]  {\r\n",
       "comp def \"P\" as E2 << <<(D,brown) port  def>> [[psysml:8038ba5e-65f3-4a7c-a5d9-05577a1e913e ]] {\r\n",
       "}\r\n",
       "comp def \"B\" as E3 << << (B,green) >> [[psysml:eb00d253-98ff-4ea5-9d4b-40f483d849ec ]] {\r\n",
       "}\r\n",
       "comp usage \"p1: P \" as E4 << << (P,blue) port>> [[psysml:bd11b2df-eb92-4507-bbbb-c6493b57fcfa ]] {\r\n",
       "}\r\n",
       "comp usage \"p2: ~P \" as E5 << << (P,blue) port>> [[psysml:0cbe2724-4b46-4325-902f-a8a483156696 ]] {\r\n",
       "}\r\n",
       "comp def \"A\" as E6 << << (B,green) >> [[psysml:c9adf55d-1d58-41e7-9c8f-305f1a380a4f ]] {\r\n",
       "}\r\n",
       "comp usage \"p1: P \" as E7 << << (P,blue) port>> [[psysml:62009ff7-c341-4e72-a056-ce92de09505b ]] {\r\n",
       "}\r\n",
       "comp usage \"p2: ~P \" as E8 << << (P,blue) port>> [[psysml:50db7d15-a467-4fc6-8fb9-d943e9708b48 ]] {\r\n",
       "}\r\n",
       "comp def \"I\" as E9 << << (B,green) >> [[psysml:909b1fdd-cad7-4fe7-8f0f-a5ae3fa3dd03 ]] {\r\n",
       "}\r\n",
       "comp usage \"p1: P \" as E10 << << (P,blue) port>> [[psysml:4b05cf72-e027-47da-9c90-b867da4c93e0 ]] {\r\n",
       "}\r\n",
       "comp usage \"p2: ~P \" as E11 << << (P,blue) port>> [[psysml:0c24ab80-75a0-44e9-976a-962e4e9af685 ]] {\r\n",
       "}\r\n",
       "comp def \"B1\" as E12 << << (B,green) >> [[psysml:c2ec72d4-85fe-4c8d-a549-b327df7a4c85 ]] {\r\n",
       "}\r\n",
       "comp usage \"p \" as E13 << << (P,limegreen) part>> [[psysml:bf56b714-b103-43c5-844a-64ae22bea297 ]] {\r\n",
       "}\r\n",
       "comp usage \"p1: P \" as E14 << << (P,blue) port>> [[psysml:b5c2279c-6642-492b-a6cf-19efab06e689 ]] {\r\n",
       "}\r\n",
       "comp usage \"p2: ~P \" as E15 << << (P,blue) port>> [[psysml:ed6b3600-9f65-4ffd-a058-1200daf10699 ]] {\r\n",
       "}\r\n",
       "}\r\n",
       "E3 o- - \"1\"E4 [[psysml:301fc48c-20ce-4bfe-ac1d-96f5db6094d0 ]] \r\n",
       "E4 - -:|> E2 [[psysml:2658e44c-8270-4dd2-9600-daf649b69d41 ]] \r\n",
       "E3 o- - \"1\"E5 [[psysml:223fd842-0df9-4bd0-ad12-80c4696f3c55 ]] \r\n",
       "E6 o- - \"1\"E7 [[psysml:21746d6a-6182-4390-ad27-ac5c9b62bfbf ]] \r\n",
       "E7 - -:|> E2 [[psysml:ac292376-6896-4173-b580-fb46e7ca2b11 ]] \r\n",
       "E6 o- - \"1\"E8 [[psysml:0a911d69-2e8c-46c6-ac57-f08740e1c2a7 ]] \r\n",
       "E9 o- - \"1\"E10 [[psysml:7a6ef9a5-ee54-4bad-bee0-b6cd150b3ba6 ]] \r\n",
       "E10 - -:|> E2 [[psysml:1b1dbb40-b684-43d5-9e90-095d8f580599 ]] \r\n",
       "E9 o- - \"1\"E11 [[psysml:26e0bda0-b5f1-463e-8de4-6289f85dc961 ]] \r\n",
       "E12 *- - \"1\"E13 [[psysml:b5605e58-b315-4dd3-8e84-581a703b4e2b ]] \r\n",
       "E13 o- - \"1\"E14 [[psysml:db42b499-220f-4c1a-8731-eb36b8c82e1e ]] \r\n",
       "E14 - -:|> E2 [[psysml:7155c58b-23e7-41d9-a472-3863cff0084f ]] \r\n",
       "E13 o- - \"1\"E15 [[psysml:2699a371-802b-44a3-9d88-da30e2130afc ]] \r\n",
       "E14 -[thickness=3]- E15 [[psysml:1d4c99f1-723b-47e9-b0a9-a2cf4f06711c ]] \r\n",
       "E14 -[thickness=3]- E15 [[psysml:99ef5f64-108a-4414-ad16-a52f47db38b7 ]] \r\n",
       "@enduml\r\n",
       "\n",
       "PlantUML version 1.2020.13(Sat Jun 13 12:26:38 UTC 2020)\n",
       "(EPL source distribution)\n",
       "Java Runtime: OpenJDK Runtime Environment\n",
       "JVM: OpenJDK 64-Bit Server VM\n",
       "Default Encoding: UTF-8\n",
       "Language: en\n",
       "Country: null\n",
       "--></g></svg>"
      ]
     },
     "execution_count": 30,
     "metadata": {},
     "output_type": "execute_result"
    }
   ],
   "source": [
    "%viz --style=\"PLANTUML\" --view=\"Default\" \"ConjugationTest\""
   ]
  },
  {
   "cell_type": "code",
   "execution_count": 31,
   "id": "308100e8",
   "metadata": {
    "execution": {
     "iopub.execute_input": "2022-02-18T10:47:46.595380Z",
     "iopub.status.busy": "2022-02-18T10:47:46.594969Z",
     "iopub.status.idle": "2022-02-18T10:47:46.647642Z",
     "shell.execute_reply": "2022-02-18T10:47:46.647281Z"
    }
   },
   "outputs": [
    {
     "data": {
      "image/svg+xml": [
       "<?xml version=\"1.0\" encoding=\"UTF-8\" standalone=\"no\"?><svg xmlns=\"http://www.w3.org/2000/svg\" xmlns:xlink=\"http://www.w3.org/1999/xlink\" contentScriptType=\"application/ecmascript\" contentStyleType=\"text/css\" height=\"427px\" preserveAspectRatio=\"none\" style=\"width:823px;height:427px;\" version=\"1.1\" viewBox=\"0 0 823 427\" width=\"823px\" zoomAndPan=\"magnify\"><defs><filter height=\"300%\" id=\"f1qiq5sli2h83u\" width=\"300%\" x=\"-1\" y=\"-1\"><feGaussianBlur result=\"blurOut\" stdDeviation=\"2.0\"/><feColorMatrix in=\"blurOut\" result=\"blurOut2\" type=\"matrix\" values=\"0 0 0 0 0 0 0 0 0 0 0 0 0 0 0 0 0 0 .4 0\"/><feOffset dx=\"4.0\" dy=\"4.0\" in=\"blurOut2\" result=\"blurOut3\"/><feBlend in=\"SourceGraphic\" in2=\"blurOut3\" mode=\"normal\"/></filter></defs><g><!--MD5=[fbc87193dbaf4d95561dea2c320d4a47]\n",
       "cluster E1--><a href=\"psysml:62f2acf4-862e-4777-8380-6adbdab8aa3b\" target=\"_top\" title=\"psysml:62f2acf4-862e-4777-8380-6adbdab8aa3b\" xlink:actuate=\"onRequest\" xlink:href=\"psysml:62f2acf4-862e-4777-8380-6adbdab8aa3b\" xlink:show=\"new\" xlink:title=\"psysml:62f2acf4-862e-4777-8380-6adbdab8aa3b\" xlink:type=\"simple\"><polygon fill=\"#FFFFFF\" filter=\"url(#f1qiq5sli2h83u)\" points=\"16,6,136,6,143,28.2969,801,28.2969,801,415,16,415,16,6\" style=\"stroke: #000000; stroke-width: 1.5;\"/><line style=\"stroke: #000000; stroke-width: 1.5;\" x1=\"16\" x2=\"143\" y1=\"28.2969\" y2=\"28.2969\"/><text fill=\"#000000\" font-family=\"sans-serif\" font-size=\"14\" font-weight=\"bold\" lengthAdjust=\"spacingAndGlyphs\" textLength=\"114\" x=\"20\" y=\"20.9951\">ConjugationTest</text></a><!--MD5=[b4997ac47864f28c2f74865a473b2911]\n",
       "class E2--><a href=\"psysml:8038ba5e-65f3-4a7c-a5d9-05577a1e913e\" target=\"_top\" title=\"psysml:8038ba5e-65f3-4a7c-a5d9-05577a1e913e\" xlink:actuate=\"onRequest\" xlink:href=\"psysml:8038ba5e-65f3-4a7c-a5d9-05577a1e913e\" xlink:show=\"new\" xlink:title=\"psysml:8038ba5e-65f3-4a7c-a5d9-05577a1e913e\" xlink:type=\"simple\"><rect fill=\"#FEFECE\" filter=\"url(#f1qiq5sli2h83u)\" height=\"45.9375\" id=\"E2\" style=\"stroke: #A80036; stroke-width: 1.5;\" width=\"96\" x=\"275\" y=\"353\"/><ellipse cx=\"290\" cy=\"371.9688\" fill=\"#A52A2A\" rx=\"11\" ry=\"11\" style=\"stroke: #A80036; stroke-width: 1.0;\"/><path d=\"M287.2188,376.9688 L287.2188,366.375 L289.9531,366.375 Q291.3438,366.375 292.1094,366.7656 Q292.8906,367.1406 293.4219,367.8438 Q293.9531,368.5469 294.25,369.5469 Q294.5469,370.5313 294.5469,371.75 Q294.5,373.3438 294,374.5313 Q293.5156,375.7031 292.4688,376.3438 Q291.4375,376.9688 289.75,376.9688 L287.2188,376.9688 Z M289.0781,375.4688 L289.7031,375.4688 Q290.7813,375.4688 291.4375,375.0156 Q292.0938,374.5625 292.375,373.7344 Q292.6719,372.8906 292.6563,371.7656 Q292.6563,370.5938 292.4063,369.7344 Q292.1563,368.8594 291.5469,368.3906 Q290.9375,367.9063 289.8906,367.9063 L289.0781,367.9063 L289.0781,375.4688 Z \"/><text fill=\"#000000\" font-family=\"sans-serif\" font-size=\"12\" font-style=\"italic\" lengthAdjust=\"spacingAndGlyphs\" textLength=\"68\" x=\"302\" y=\"369.1387\">«port  def»</text><text fill=\"#000000\" font-family=\"sans-serif\" font-size=\"12\" lengthAdjust=\"spacingAndGlyphs\" textLength=\"8\" x=\"332\" y=\"383.1074\">P</text><line style=\"stroke: #A80036; stroke-width: 1.5;\" x1=\"276\" x2=\"370\" y1=\"390.9375\" y2=\"390.9375\"/></a><!--MD5=[09b614a08d8cba4a07c9adeb5e0fee81]\n",
       "class E3--><a href=\"psysml:eb00d253-98ff-4ea5-9d4b-40f483d849ec\" target=\"_top\" title=\"psysml:eb00d253-98ff-4ea5-9d4b-40f483d849ec\" xlink:actuate=\"onRequest\" xlink:href=\"psysml:eb00d253-98ff-4ea5-9d4b-40f483d849ec\" xlink:show=\"new\" xlink:title=\"psysml:eb00d253-98ff-4ea5-9d4b-40f483d849ec\" xlink:type=\"simple\"><rect fill=\"#FEFECE\" filter=\"url(#f1qiq5sli2h83u)\" height=\"40\" id=\"E3\" style=\"stroke: #A80036; stroke-width: 1.5;\" width=\"40\" x=\"672\" y=\"144\"/><ellipse cx=\"687\" cy=\"160\" fill=\"#008000\" rx=\"11\" ry=\"11\" style=\"stroke: #A80036; stroke-width: 1.0;\"/><path d=\"M683.875,165 L683.875,154.4063 L687.1094,154.4063 Q689.0156,154.4063 689.9219,155.1563 Q690.8438,155.9063 690.8438,157.0781 Q690.8438,157.7656 690.4531,158.4219 Q690.0781,159.0781 689.3594,159.375 Q690.2188,159.75 690.7344,160.4375 Q691.25,161.125 691.25,161.9375 Q691.25,163.3125 690.2188,164.1563 Q689.2031,165 687.0938,165 L683.875,165 Z M685.7969,158.6406 L686.9531,158.6406 Q688.0781,158.6406 688.4844,158.2656 Q688.9063,157.875 688.9063,157.25 Q688.9063,156.6719 688.4844,156.3125 Q688.0625,155.9531 687.125,155.9531 L685.7969,155.9531 L685.7969,158.6406 Z M685.7969,163.4219 L687.2969,163.4219 Q688.2031,163.4219 688.7344,163.0313 Q689.2656,162.6406 689.2656,161.8906 Q689.2656,161.125 688.7656,160.6563 Q688.2656,160.1719 687,160.1719 L685.7969,160.1719 L685.7969,163.4219 Z \"/><text fill=\"#000000\" font-family=\"sans-serif\" font-size=\"12\" lengthAdjust=\"spacingAndGlyphs\" textLength=\"8\" x=\"701\" y=\"164.1543\">B</text><line style=\"stroke: #A80036; stroke-width: 1.5;\" x1=\"673\" x2=\"711\" y1=\"176\" y2=\"176\"/></a><!--MD5=[ebbe1d658d1005bcc118a6aa81145e00]\n",
       "class E4--><a href=\"psysml:bd11b2df-eb92-4507-bbbb-c6493b57fcfa\" target=\"_top\" title=\"psysml:bd11b2df-eb92-4507-bbbb-c6493b57fcfa\" xlink:actuate=\"onRequest\" xlink:href=\"psysml:bd11b2df-eb92-4507-bbbb-c6493b57fcfa\" xlink:show=\"new\" xlink:title=\"psysml:bd11b2df-eb92-4507-bbbb-c6493b57fcfa\" xlink:type=\"simple\"><rect fill=\"#FEFECE\" filter=\"url(#f1qiq5sli2h83u)\" height=\"45.9375\" id=\"E4\" rx=\"10\" ry=\"10\" style=\"stroke: #A80036; stroke-width: 1.5;\" width=\"68\" x=\"604\" y=\"247\"/><ellipse cx=\"619\" cy=\"265.9688\" fill=\"#0000FF\" rx=\"11\" ry=\"11\" style=\"stroke: #A80036; stroke-width: 1.0;\"/><path d=\"M615.8125,270.9688 L615.8125,260.375 L619.4219,260.375 Q620.6406,260.375 621.4375,260.8125 Q622.2344,261.2344 622.6094,261.9375 Q623,262.6406 623,263.4844 Q623,264.3281 622.625,265.0156 Q622.2656,265.7031 621.4688,266.125 Q620.6875,266.5313 619.5,266.5313 L617.7656,266.5313 L617.7656,270.9688 L615.8125,270.9688 Z M617.7656,264.9375 L619.375,264.9375 Q620.1875,264.9375 620.6094,264.5313 Q621.0313,264.125 621.0313,263.4844 Q621.0313,262.8594 620.6094,262.4531 Q620.1875,262.0469 619.3906,262.0469 L617.7656,262.0469 L617.7656,264.9375 Z \"/><text fill=\"#000000\" font-family=\"sans-serif\" font-size=\"12\" font-style=\"italic\" lengthAdjust=\"spacingAndGlyphs\" textLength=\"40\" x=\"631\" y=\"263.1387\">«port»</text><text fill=\"#000000\" font-family=\"sans-serif\" font-size=\"12\" lengthAdjust=\"spacingAndGlyphs\" textLength=\"32\" x=\"633\" y=\"277.1074\">p1: P</text><line style=\"stroke: #A80036; stroke-width: 1.5;\" x1=\"605\" x2=\"671\" y1=\"284.9375\" y2=\"284.9375\"/></a><!--MD5=[270fce915f116d4de14055a7c1d9a0f3]\n",
       "class E5--><a href=\"psysml:0cbe2724-4b46-4325-902f-a8a483156696\" target=\"_top\" title=\"psysml:0cbe2724-4b46-4325-902f-a8a483156696\" xlink:actuate=\"onRequest\" xlink:href=\"psysml:0cbe2724-4b46-4325-902f-a8a483156696\" xlink:show=\"new\" xlink:title=\"psysml:0cbe2724-4b46-4325-902f-a8a483156696\" xlink:type=\"simple\"><rect fill=\"#FEFECE\" filter=\"url(#f1qiq5sli2h83u)\" height=\"45.9375\" id=\"E5\" rx=\"10\" ry=\"10\" style=\"stroke: #A80036; stroke-width: 1.5;\" width=\"78\" x=\"707\" y=\"247\"/><ellipse cx=\"722\" cy=\"265.9688\" fill=\"#0000FF\" rx=\"11\" ry=\"11\" style=\"stroke: #A80036; stroke-width: 1.0;\"/><path d=\"M718.8125,270.9688 L718.8125,260.375 L722.4219,260.375 Q723.6406,260.375 724.4375,260.8125 Q725.2344,261.2344 725.6094,261.9375 Q726,262.6406 726,263.4844 Q726,264.3281 725.625,265.0156 Q725.2656,265.7031 724.4688,266.125 Q723.6875,266.5313 722.5,266.5313 L720.7656,266.5313 L720.7656,270.9688 L718.8125,270.9688 Z M720.7656,264.9375 L722.375,264.9375 Q723.1875,264.9375 723.6094,264.5313 Q724.0313,264.125 724.0313,263.4844 Q724.0313,262.8594 723.6094,262.4531 Q723.1875,262.0469 722.3906,262.0469 L720.7656,262.0469 L720.7656,264.9375 Z \"/><text fill=\"#000000\" font-family=\"sans-serif\" font-size=\"12\" font-style=\"italic\" lengthAdjust=\"spacingAndGlyphs\" textLength=\"40\" x=\"739\" y=\"263.1387\">«port»</text><text fill=\"#000000\" font-family=\"sans-serif\" font-size=\"12\" lengthAdjust=\"spacingAndGlyphs\" textLength=\"42\" x=\"736\" y=\"277.1074\">p2: ~P</text><line style=\"stroke: #A80036; stroke-width: 1.5;\" x1=\"708\" x2=\"784\" y1=\"284.9375\" y2=\"284.9375\"/></a><!--MD5=[60a26617385b1d2d0262a64233df1f8d]\n",
       "class E6--><a href=\"psysml:c9adf55d-1d58-41e7-9c8f-305f1a380a4f\" target=\"_top\" title=\"psysml:c9adf55d-1d58-41e7-9c8f-305f1a380a4f\" xlink:actuate=\"onRequest\" xlink:href=\"psysml:c9adf55d-1d58-41e7-9c8f-305f1a380a4f\" xlink:show=\"new\" xlink:title=\"psysml:c9adf55d-1d58-41e7-9c8f-305f1a380a4f\" xlink:type=\"simple\"><rect fill=\"#FEFECE\" filter=\"url(#f1qiq5sli2h83u)\" height=\"40\" id=\"E6\" style=\"stroke: #A80036; stroke-width: 1.5;\" width=\"40\" x=\"456\" y=\"144\"/><ellipse cx=\"471\" cy=\"160\" fill=\"#008000\" rx=\"11\" ry=\"11\" style=\"stroke: #A80036; stroke-width: 1.0;\"/><path d=\"M467.875,165 L467.875,154.4063 L471.1094,154.4063 Q473.0156,154.4063 473.9219,155.1563 Q474.8438,155.9063 474.8438,157.0781 Q474.8438,157.7656 474.4531,158.4219 Q474.0781,159.0781 473.3594,159.375 Q474.2188,159.75 474.7344,160.4375 Q475.25,161.125 475.25,161.9375 Q475.25,163.3125 474.2188,164.1563 Q473.2031,165 471.0938,165 L467.875,165 Z M469.7969,158.6406 L470.9531,158.6406 Q472.0781,158.6406 472.4844,158.2656 Q472.9063,157.875 472.9063,157.25 Q472.9063,156.6719 472.4844,156.3125 Q472.0625,155.9531 471.125,155.9531 L469.7969,155.9531 L469.7969,158.6406 Z M469.7969,163.4219 L471.2969,163.4219 Q472.2031,163.4219 472.7344,163.0313 Q473.2656,162.6406 473.2656,161.8906 Q473.2656,161.125 472.7656,160.6563 Q472.2656,160.1719 471,160.1719 L469.7969,160.1719 L469.7969,163.4219 Z \"/><text fill=\"#000000\" font-family=\"sans-serif\" font-size=\"12\" lengthAdjust=\"spacingAndGlyphs\" textLength=\"8\" x=\"485\" y=\"164.1543\">A</text><line style=\"stroke: #A80036; stroke-width: 1.5;\" x1=\"457\" x2=\"495\" y1=\"176\" y2=\"176\"/></a><!--MD5=[2156ba9850f5573cc1fc38a6a4b2f02b]\n",
       "class E7--><a href=\"psysml:62009ff7-c341-4e72-a056-ce92de09505b\" target=\"_top\" title=\"psysml:62009ff7-c341-4e72-a056-ce92de09505b\" xlink:actuate=\"onRequest\" xlink:href=\"psysml:62009ff7-c341-4e72-a056-ce92de09505b\" xlink:show=\"new\" xlink:title=\"psysml:62009ff7-c341-4e72-a056-ce92de09505b\" xlink:type=\"simple\"><rect fill=\"#FEFECE\" filter=\"url(#f1qiq5sli2h83u)\" height=\"45.9375\" id=\"E7\" rx=\"10\" ry=\"10\" style=\"stroke: #A80036; stroke-width: 1.5;\" width=\"68\" x=\"388\" y=\"247\"/><ellipse cx=\"403\" cy=\"265.9688\" fill=\"#0000FF\" rx=\"11\" ry=\"11\" style=\"stroke: #A80036; stroke-width: 1.0;\"/><path d=\"M399.8125,270.9688 L399.8125,260.375 L403.4219,260.375 Q404.6406,260.375 405.4375,260.8125 Q406.2344,261.2344 406.6094,261.9375 Q407,262.6406 407,263.4844 Q407,264.3281 406.625,265.0156 Q406.2656,265.7031 405.4688,266.125 Q404.6875,266.5313 403.5,266.5313 L401.7656,266.5313 L401.7656,270.9688 L399.8125,270.9688 Z M401.7656,264.9375 L403.375,264.9375 Q404.1875,264.9375 404.6094,264.5313 Q405.0313,264.125 405.0313,263.4844 Q405.0313,262.8594 404.6094,262.4531 Q404.1875,262.0469 403.3906,262.0469 L401.7656,262.0469 L401.7656,264.9375 Z \"/><text fill=\"#000000\" font-family=\"sans-serif\" font-size=\"12\" font-style=\"italic\" lengthAdjust=\"spacingAndGlyphs\" textLength=\"40\" x=\"415\" y=\"263.1387\">«port»</text><text fill=\"#000000\" font-family=\"sans-serif\" font-size=\"12\" lengthAdjust=\"spacingAndGlyphs\" textLength=\"32\" x=\"417\" y=\"277.1074\">p1: P</text><line style=\"stroke: #A80036; stroke-width: 1.5;\" x1=\"389\" x2=\"455\" y1=\"284.9375\" y2=\"284.9375\"/></a><!--MD5=[b9389687b975829384b498ac4b7476b2]\n",
       "class E8--><a href=\"psysml:50db7d15-a467-4fc6-8fb9-d943e9708b48\" target=\"_top\" title=\"psysml:50db7d15-a467-4fc6-8fb9-d943e9708b48\" xlink:actuate=\"onRequest\" xlink:href=\"psysml:50db7d15-a467-4fc6-8fb9-d943e9708b48\" xlink:show=\"new\" xlink:title=\"psysml:50db7d15-a467-4fc6-8fb9-d943e9708b48\" xlink:type=\"simple\"><rect fill=\"#FEFECE\" filter=\"url(#f1qiq5sli2h83u)\" height=\"45.9375\" id=\"E8\" rx=\"10\" ry=\"10\" style=\"stroke: #A80036; stroke-width: 1.5;\" width=\"78\" x=\"491\" y=\"247\"/><ellipse cx=\"506\" cy=\"265.9688\" fill=\"#0000FF\" rx=\"11\" ry=\"11\" style=\"stroke: #A80036; stroke-width: 1.0;\"/><path d=\"M502.8125,270.9688 L502.8125,260.375 L506.4219,260.375 Q507.6406,260.375 508.4375,260.8125 Q509.2344,261.2344 509.6094,261.9375 Q510,262.6406 510,263.4844 Q510,264.3281 509.625,265.0156 Q509.2656,265.7031 508.4688,266.125 Q507.6875,266.5313 506.5,266.5313 L504.7656,266.5313 L504.7656,270.9688 L502.8125,270.9688 Z M504.7656,264.9375 L506.375,264.9375 Q507.1875,264.9375 507.6094,264.5313 Q508.0313,264.125 508.0313,263.4844 Q508.0313,262.8594 507.6094,262.4531 Q507.1875,262.0469 506.3906,262.0469 L504.7656,262.0469 L504.7656,264.9375 Z \"/><text fill=\"#000000\" font-family=\"sans-serif\" font-size=\"12\" font-style=\"italic\" lengthAdjust=\"spacingAndGlyphs\" textLength=\"40\" x=\"523\" y=\"263.1387\">«port»</text><text fill=\"#000000\" font-family=\"sans-serif\" font-size=\"12\" lengthAdjust=\"spacingAndGlyphs\" textLength=\"42\" x=\"520\" y=\"277.1074\">p2: ~P</text><line style=\"stroke: #A80036; stroke-width: 1.5;\" x1=\"492\" x2=\"568\" y1=\"284.9375\" y2=\"284.9375\"/></a><!--MD5=[fd4143e9d270a159db93a4ea2a975926]\n",
       "class E9--><a href=\"psysml:909b1fdd-cad7-4fe7-8f0f-a5ae3fa3dd03\" target=\"_top\" title=\"psysml:909b1fdd-cad7-4fe7-8f0f-a5ae3fa3dd03\" xlink:actuate=\"onRequest\" xlink:href=\"psysml:909b1fdd-cad7-4fe7-8f0f-a5ae3fa3dd03\" xlink:show=\"new\" xlink:title=\"psysml:909b1fdd-cad7-4fe7-8f0f-a5ae3fa3dd03\" xlink:type=\"simple\"><rect fill=\"#FEFECE\" filter=\"url(#f1qiq5sli2h83u)\" height=\"40\" id=\"E9\" style=\"stroke: #A80036; stroke-width: 1.5;\" width=\"35\" x=\"242.5\" y=\"144\"/><ellipse cx=\"257.5\" cy=\"160\" fill=\"#008000\" rx=\"11\" ry=\"11\" style=\"stroke: #A80036; stroke-width: 1.0;\"/><path d=\"M254.375,165 L254.375,154.4063 L257.6094,154.4063 Q259.5156,154.4063 260.4219,155.1563 Q261.3438,155.9063 261.3438,157.0781 Q261.3438,157.7656 260.9531,158.4219 Q260.5781,159.0781 259.8594,159.375 Q260.7188,159.75 261.2344,160.4375 Q261.75,161.125 261.75,161.9375 Q261.75,163.3125 260.7188,164.1563 Q259.7031,165 257.5938,165 L254.375,165 Z M256.2969,158.6406 L257.4531,158.6406 Q258.5781,158.6406 258.9844,158.2656 Q259.4063,157.875 259.4063,157.25 Q259.4063,156.6719 258.9844,156.3125 Q258.5625,155.9531 257.625,155.9531 L256.2969,155.9531 L256.2969,158.6406 Z M256.2969,163.4219 L257.7969,163.4219 Q258.7031,163.4219 259.2344,163.0313 Q259.7656,162.6406 259.7656,161.8906 Q259.7656,161.125 259.2656,160.6563 Q258.7656,160.1719 257.5,160.1719 L256.2969,160.1719 L256.2969,163.4219 Z \"/><text fill=\"#000000\" font-family=\"sans-serif\" font-size=\"12\" lengthAdjust=\"spacingAndGlyphs\" textLength=\"3\" x=\"271.5\" y=\"164.1543\">I</text><line style=\"stroke: #A80036; stroke-width: 1.5;\" x1=\"243.5\" x2=\"276.5\" y1=\"176\" y2=\"176\"/></a><!--MD5=[96f4274e9e20536e775497830990834d]\n",
       "class E10--><a href=\"psysml:4b05cf72-e027-47da-9c90-b867da4c93e0\" target=\"_top\" title=\"psysml:4b05cf72-e027-47da-9c90-b867da4c93e0\" xlink:actuate=\"onRequest\" xlink:href=\"psysml:4b05cf72-e027-47da-9c90-b867da4c93e0\" xlink:show=\"new\" xlink:title=\"psysml:4b05cf72-e027-47da-9c90-b867da4c93e0\" xlink:type=\"simple\"><rect fill=\"#FEFECE\" filter=\"url(#f1qiq5sli2h83u)\" height=\"45.9375\" id=\"E10\" rx=\"10\" ry=\"10\" style=\"stroke: #A80036; stroke-width: 1.5;\" width=\"68\" x=\"172\" y=\"247\"/><ellipse cx=\"187\" cy=\"265.9688\" fill=\"#0000FF\" rx=\"11\" ry=\"11\" style=\"stroke: #A80036; stroke-width: 1.0;\"/><path d=\"M183.8125,270.9688 L183.8125,260.375 L187.4219,260.375 Q188.6406,260.375 189.4375,260.8125 Q190.2344,261.2344 190.6094,261.9375 Q191,262.6406 191,263.4844 Q191,264.3281 190.625,265.0156 Q190.2656,265.7031 189.4688,266.125 Q188.6875,266.5313 187.5,266.5313 L185.7656,266.5313 L185.7656,270.9688 L183.8125,270.9688 Z M185.7656,264.9375 L187.375,264.9375 Q188.1875,264.9375 188.6094,264.5313 Q189.0313,264.125 189.0313,263.4844 Q189.0313,262.8594 188.6094,262.4531 Q188.1875,262.0469 187.3906,262.0469 L185.7656,262.0469 L185.7656,264.9375 Z \"/><text fill=\"#000000\" font-family=\"sans-serif\" font-size=\"12\" font-style=\"italic\" lengthAdjust=\"spacingAndGlyphs\" textLength=\"40\" x=\"199\" y=\"263.1387\">«port»</text><text fill=\"#000000\" font-family=\"sans-serif\" font-size=\"12\" lengthAdjust=\"spacingAndGlyphs\" textLength=\"32\" x=\"201\" y=\"277.1074\">p1: P</text><line style=\"stroke: #A80036; stroke-width: 1.5;\" x1=\"173\" x2=\"239\" y1=\"284.9375\" y2=\"284.9375\"/></a><!--MD5=[1dd1bfd58a279cf63c5f349dbc8fc6a1]\n",
       "class E11--><a href=\"psysml:0c24ab80-75a0-44e9-976a-962e4e9af685\" target=\"_top\" title=\"psysml:0c24ab80-75a0-44e9-976a-962e4e9af685\" xlink:actuate=\"onRequest\" xlink:href=\"psysml:0c24ab80-75a0-44e9-976a-962e4e9af685\" xlink:show=\"new\" xlink:title=\"psysml:0c24ab80-75a0-44e9-976a-962e4e9af685\" xlink:type=\"simple\"><rect fill=\"#FEFECE\" filter=\"url(#f1qiq5sli2h83u)\" height=\"45.9375\" id=\"E11\" rx=\"10\" ry=\"10\" style=\"stroke: #A80036; stroke-width: 1.5;\" width=\"78\" x=\"275\" y=\"247\"/><ellipse cx=\"290\" cy=\"265.9688\" fill=\"#0000FF\" rx=\"11\" ry=\"11\" style=\"stroke: #A80036; stroke-width: 1.0;\"/><path d=\"M286.8125,270.9688 L286.8125,260.375 L290.4219,260.375 Q291.6406,260.375 292.4375,260.8125 Q293.2344,261.2344 293.6094,261.9375 Q294,262.6406 294,263.4844 Q294,264.3281 293.625,265.0156 Q293.2656,265.7031 292.4688,266.125 Q291.6875,266.5313 290.5,266.5313 L288.7656,266.5313 L288.7656,270.9688 L286.8125,270.9688 Z M288.7656,264.9375 L290.375,264.9375 Q291.1875,264.9375 291.6094,264.5313 Q292.0313,264.125 292.0313,263.4844 Q292.0313,262.8594 291.6094,262.4531 Q291.1875,262.0469 290.3906,262.0469 L288.7656,262.0469 L288.7656,264.9375 Z \"/><text fill=\"#000000\" font-family=\"sans-serif\" font-size=\"12\" font-style=\"italic\" lengthAdjust=\"spacingAndGlyphs\" textLength=\"40\" x=\"307\" y=\"263.1387\">«port»</text><text fill=\"#000000\" font-family=\"sans-serif\" font-size=\"12\" lengthAdjust=\"spacingAndGlyphs\" textLength=\"42\" x=\"304\" y=\"277.1074\">p2: ~P</text><line style=\"stroke: #A80036; stroke-width: 1.5;\" x1=\"276\" x2=\"352\" y1=\"284.9375\" y2=\"284.9375\"/></a><!--MD5=[49a0ec8f00dab7302a31f22d0f0fe584]\n",
       "class E12--><a href=\"psysml:c2ec72d4-85fe-4c8d-a549-b327df7a4c85\" target=\"_top\" title=\"psysml:c2ec72d4-85fe-4c8d-a549-b327df7a4c85\" xlink:actuate=\"onRequest\" xlink:href=\"psysml:c2ec72d4-85fe-4c8d-a549-b327df7a4c85\" xlink:show=\"new\" xlink:title=\"psysml:c2ec72d4-85fe-4c8d-a549-b327df7a4c85\" xlink:type=\"simple\"><rect fill=\"#FEFECE\" filter=\"url(#f1qiq5sli2h83u)\" height=\"40\" id=\"E12\" style=\"stroke: #A80036; stroke-width: 1.5;\" width=\"48\" x=\"60\" y=\"41\"/><ellipse cx=\"75\" cy=\"57\" fill=\"#008000\" rx=\"11\" ry=\"11\" style=\"stroke: #A80036; stroke-width: 1.0;\"/><path d=\"M71.875,62 L71.875,51.4063 L75.1094,51.4063 Q77.0156,51.4063 77.9219,52.1563 Q78.8438,52.9063 78.8438,54.0781 Q78.8438,54.7656 78.4531,55.4219 Q78.0781,56.0781 77.3594,56.375 Q78.2188,56.75 78.7344,57.4375 Q79.25,58.125 79.25,58.9375 Q79.25,60.3125 78.2188,61.1563 Q77.2031,62 75.0938,62 L71.875,62 Z M73.7969,55.6406 L74.9531,55.6406 Q76.0781,55.6406 76.4844,55.2656 Q76.9063,54.875 76.9063,54.25 Q76.9063,53.6719 76.4844,53.3125 Q76.0625,52.9531 75.125,52.9531 L73.7969,52.9531 L73.7969,55.6406 Z M73.7969,60.4219 L75.2969,60.4219 Q76.2031,60.4219 76.7344,60.0313 Q77.2656,59.6406 77.2656,58.8906 Q77.2656,58.125 76.7656,57.6563 Q76.2656,57.1719 75,57.1719 L73.7969,57.1719 L73.7969,60.4219 Z \"/><text fill=\"#000000\" font-family=\"sans-serif\" font-size=\"12\" lengthAdjust=\"spacingAndGlyphs\" textLength=\"16\" x=\"89\" y=\"61.1543\">B1</text><line style=\"stroke: #A80036; stroke-width: 1.5;\" x1=\"61\" x2=\"107\" y1=\"73\" y2=\"73\"/></a><!--MD5=[ee3c913d1a06f366521f9ef512b67efe]\n",
       "class E13--><a href=\"psysml:bf56b714-b103-43c5-844a-64ae22bea297\" target=\"_top\" title=\"psysml:bf56b714-b103-43c5-844a-64ae22bea297\" xlink:actuate=\"onRequest\" xlink:href=\"psysml:bf56b714-b103-43c5-844a-64ae22bea297\" xlink:show=\"new\" xlink:title=\"psysml:bf56b714-b103-43c5-844a-64ae22bea297\" xlink:type=\"simple\"><rect fill=\"#FEFECE\" filter=\"url(#f1qiq5sli2h83u)\" height=\"45.9375\" id=\"E13\" rx=\"10\" ry=\"10\" style=\"stroke: #A80036; stroke-width: 1.5;\" width=\"68\" x=\"50\" y=\"141\"/><ellipse cx=\"65\" cy=\"159.9688\" fill=\"#32CD32\" rx=\"11\" ry=\"11\" style=\"stroke: #A80036; stroke-width: 1.0;\"/><path d=\"M61.8125,164.9688 L61.8125,154.375 L65.4219,154.375 Q66.6406,154.375 67.4375,154.8125 Q68.2344,155.2344 68.6094,155.9375 Q69,156.6406 69,157.4844 Q69,158.3281 68.625,159.0156 Q68.2656,159.7031 67.4688,160.125 Q66.6875,160.5313 65.5,160.5313 L63.7656,160.5313 L63.7656,164.9688 L61.8125,164.9688 Z M63.7656,158.9375 L65.375,158.9375 Q66.1875,158.9375 66.6094,158.5313 Q67.0313,158.125 67.0313,157.4844 Q67.0313,156.8594 66.6094,156.4531 Q66.1875,156.0469 65.3906,156.0469 L63.7656,156.0469 L63.7656,158.9375 Z \"/><text fill=\"#000000\" font-family=\"sans-serif\" font-size=\"12\" font-style=\"italic\" lengthAdjust=\"spacingAndGlyphs\" textLength=\"40\" x=\"77\" y=\"157.1387\">«part»</text><text fill=\"#000000\" font-family=\"sans-serif\" font-size=\"12\" lengthAdjust=\"spacingAndGlyphs\" textLength=\"8\" x=\"91\" y=\"171.1074\">p</text><line style=\"stroke: #A80036; stroke-width: 1.5;\" x1=\"51\" x2=\"117\" y1=\"178.9375\" y2=\"178.9375\"/></a><!--MD5=[bee11217b2f71d958a27249dc326068c]\n",
       "class E14--><a href=\"psysml:b5c2279c-6642-492b-a6cf-19efab06e689\" target=\"_top\" title=\"psysml:b5c2279c-6642-492b-a6cf-19efab06e689\" xlink:actuate=\"onRequest\" xlink:href=\"psysml:b5c2279c-6642-492b-a6cf-19efab06e689\" xlink:show=\"new\" xlink:title=\"psysml:b5c2279c-6642-492b-a6cf-19efab06e689\" xlink:type=\"simple\"><rect fill=\"#FEFECE\" filter=\"url(#f1qiq5sli2h83u)\" height=\"45.9375\" id=\"E14\" rx=\"10\" ry=\"10\" style=\"stroke: #A80036; stroke-width: 1.5;\" width=\"68\" x=\"69\" y=\"247\"/><ellipse cx=\"84\" cy=\"265.9688\" fill=\"#0000FF\" rx=\"11\" ry=\"11\" style=\"stroke: #A80036; stroke-width: 1.0;\"/><path d=\"M80.8125,270.9688 L80.8125,260.375 L84.4219,260.375 Q85.6406,260.375 86.4375,260.8125 Q87.2344,261.2344 87.6094,261.9375 Q88,262.6406 88,263.4844 Q88,264.3281 87.625,265.0156 Q87.2656,265.7031 86.4688,266.125 Q85.6875,266.5313 84.5,266.5313 L82.7656,266.5313 L82.7656,270.9688 L80.8125,270.9688 Z M82.7656,264.9375 L84.375,264.9375 Q85.1875,264.9375 85.6094,264.5313 Q86.0313,264.125 86.0313,263.4844 Q86.0313,262.8594 85.6094,262.4531 Q85.1875,262.0469 84.3906,262.0469 L82.7656,262.0469 L82.7656,264.9375 Z \"/><text fill=\"#000000\" font-family=\"sans-serif\" font-size=\"12\" font-style=\"italic\" lengthAdjust=\"spacingAndGlyphs\" textLength=\"40\" x=\"96\" y=\"263.1387\">«port»</text><text fill=\"#000000\" font-family=\"sans-serif\" font-size=\"12\" lengthAdjust=\"spacingAndGlyphs\" textLength=\"32\" x=\"98\" y=\"277.1074\">p1: P</text><line style=\"stroke: #A80036; stroke-width: 1.5;\" x1=\"70\" x2=\"136\" y1=\"284.9375\" y2=\"284.9375\"/></a><!--MD5=[0c48fb7552dae8cbbef69381101a84c8]\n",
       "class E15--><a href=\"psysml:ed6b3600-9f65-4ffd-a058-1200daf10699\" target=\"_top\" title=\"psysml:ed6b3600-9f65-4ffd-a058-1200daf10699\" xlink:actuate=\"onRequest\" xlink:href=\"psysml:ed6b3600-9f65-4ffd-a058-1200daf10699\" xlink:show=\"new\" xlink:title=\"psysml:ed6b3600-9f65-4ffd-a058-1200daf10699\" xlink:type=\"simple\"><rect fill=\"#FEFECE\" filter=\"url(#f1qiq5sli2h83u)\" height=\"45.9375\" id=\"E15\" rx=\"10\" ry=\"10\" style=\"stroke: #A80036; stroke-width: 1.5;\" width=\"78\" x=\"64\" y=\"353\"/><ellipse cx=\"79\" cy=\"371.9688\" fill=\"#0000FF\" rx=\"11\" ry=\"11\" style=\"stroke: #A80036; stroke-width: 1.0;\"/><path d=\"M75.8125,376.9688 L75.8125,366.375 L79.4219,366.375 Q80.6406,366.375 81.4375,366.8125 Q82.2344,367.2344 82.6094,367.9375 Q83,368.6406 83,369.4844 Q83,370.3281 82.625,371.0156 Q82.2656,371.7031 81.4688,372.125 Q80.6875,372.5313 79.5,372.5313 L77.7656,372.5313 L77.7656,376.9688 L75.8125,376.9688 Z M77.7656,370.9375 L79.375,370.9375 Q80.1875,370.9375 80.6094,370.5313 Q81.0313,370.125 81.0313,369.4844 Q81.0313,368.8594 80.6094,368.4531 Q80.1875,368.0469 79.3906,368.0469 L77.7656,368.0469 L77.7656,370.9375 Z \"/><text fill=\"#000000\" font-family=\"sans-serif\" font-size=\"12\" font-style=\"italic\" lengthAdjust=\"spacingAndGlyphs\" textLength=\"40\" x=\"96\" y=\"369.1387\">«port»</text><text fill=\"#000000\" font-family=\"sans-serif\" font-size=\"12\" lengthAdjust=\"spacingAndGlyphs\" textLength=\"42\" x=\"93\" y=\"383.1074\">p2: ~P</text><line style=\"stroke: #A80036; stroke-width: 1.5;\" x1=\"65\" x2=\"141\" y1=\"390.9375\" y2=\"390.9375\"/></a><!--MD5=[4672eba38e49728da53d11aeb285b987]\n",
       "reverse link E3 to E4--><a href=\"psysml:301fc48c-20ce-4bfe-ac1d-96f5db6094d0\" target=\"_top\" title=\"psysml:301fc48c-20ce-4bfe-ac1d-96f5db6094d0\" xlink:actuate=\"onRequest\" xlink:href=\"psysml:301fc48c-20ce-4bfe-ac1d-96f5db6094d0\" xlink:show=\"new\" xlink:title=\"psysml:301fc48c-20ce-4bfe-ac1d-96f5db6094d0\" xlink:type=\"simple\"><path d=\"M676.01,195.8 C667.5,212.18 657.24,231.94 649.53,246.8 \" fill=\"none\" id=\"E3&lt;-E4\" style=\"stroke: #A80036; stroke-width: 1.0;\"/><polygon fill=\"#FFFFFF\" points=\"682.1,184.08,675.7852,187.5618,676.5704,194.7301,682.8852,191.2482,682.1,184.08\" style=\"stroke: #A80036; stroke-width: 1.0;\"/><text fill=\"#000000\" font-family=\"sans-serif\" font-size=\"13\" lengthAdjust=\"spacingAndGlyphs\" textLength=\"8\" x=\"643.4596\" y=\"236.025\">1</text></a><!--MD5=[185131fc0dcab0a4505a2ebe144e961b]\n",
       "link E4 to E2--><a href=\"psysml:2658e44c-8270-4dd2-9600-daf649b69d41\" target=\"_top\" title=\"psysml:2658e44c-8270-4dd2-9600-daf649b69d41\" xlink:actuate=\"onRequest\" xlink:href=\"psysml:2658e44c-8270-4dd2-9600-daf649b69d41\" xlink:show=\"new\" xlink:title=\"psysml:2658e44c-8270-4dd2-9600-daf649b69d41\" xlink:type=\"simple\"><path d=\"M603.91,286.3 C598.3,288.64 592.52,290.96 587,293 C521.14,317.36 444.33,340.66 390.6,356.15 \" fill=\"none\" id=\"E4-&gt;E2\" style=\"stroke: #A80036; stroke-width: 1.0;\"/><polygon fill=\"#FFFFFF\" points=\"371.2,361.69,387.5424,349.7348,391.3924,363.195,371.2,361.69\" style=\"stroke: #A80036; stroke-width: 1.0;\"/><ellipse cx=\"393.5726\" cy=\"350.0902\" fill=\"#A80036\" rx=\"2\" ry=\"2\" style=\"stroke: #A80036; stroke-width: 1.0;\"/><ellipse cx=\"396.3227\" cy=\"359.7046\" fill=\"#A80036\" rx=\"2\" ry=\"2\" style=\"stroke: #A80036; stroke-width: 1.0;\"/></a><!--MD5=[191cde3d490a3f6d7bb551fe3ddca469]\n",
       "reverse link E3 to E5--><a href=\"psysml:223fd842-0df9-4bd0-ad12-80c4696f3c55\" target=\"_top\" title=\"psysml:223fd842-0df9-4bd0-ad12-80c4696f3c55\" xlink:actuate=\"onRequest\" xlink:href=\"psysml:223fd842-0df9-4bd0-ad12-80c4696f3c55\" xlink:show=\"new\" xlink:title=\"psysml:223fd842-0df9-4bd0-ad12-80c4696f3c55\" xlink:type=\"simple\"><path d=\"M707.99,195.8 C716.5,212.18 726.76,231.94 734.47,246.8 \" fill=\"none\" id=\"E3&lt;-E5\" style=\"stroke: #A80036; stroke-width: 1.0;\"/><polygon fill=\"#FFFFFF\" points=\"701.9,184.08,701.1148,191.2482,707.4296,194.7301,708.2148,187.5618,701.9,184.08\" style=\"stroke: #A80036; stroke-width: 1.0;\"/><text fill=\"#000000\" font-family=\"sans-serif\" font-size=\"13\" lengthAdjust=\"spacingAndGlyphs\" textLength=\"8\" x=\"722.4904\" y=\"236.025\">1</text></a><!--MD5=[3f50a3473f1dfb74d3f76443e03635af]\n",
       "reverse link E6 to E7--><a href=\"psysml:21746d6a-6182-4390-ad27-ac5c9b62bfbf\" target=\"_top\" title=\"psysml:21746d6a-6182-4390-ad27-ac5c9b62bfbf\" xlink:actuate=\"onRequest\" xlink:href=\"psysml:21746d6a-6182-4390-ad27-ac5c9b62bfbf\" xlink:show=\"new\" xlink:title=\"psysml:21746d6a-6182-4390-ad27-ac5c9b62bfbf\" xlink:type=\"simple\"><path d=\"M460.01,195.8 C451.5,212.18 441.24,231.94 433.53,246.8 \" fill=\"none\" id=\"E6&lt;-E7\" style=\"stroke: #A80036; stroke-width: 1.0;\"/><polygon fill=\"#FFFFFF\" points=\"466.1,184.08,459.7852,187.5618,460.5704,194.7301,466.8852,191.2482,466.1,184.08\" style=\"stroke: #A80036; stroke-width: 1.0;\"/><text fill=\"#000000\" font-family=\"sans-serif\" font-size=\"13\" lengthAdjust=\"spacingAndGlyphs\" textLength=\"8\" x=\"427.4596\" y=\"236.025\">1</text></a><!--MD5=[583832df87f4419a098336a29a52fa00]\n",
       "link E7 to E2--><a href=\"psysml:ac292376-6896-4173-b580-fb46e7ca2b11\" target=\"_top\" title=\"psysml:ac292376-6896-4173-b580-fb46e7ca2b11\" xlink:actuate=\"onRequest\" xlink:href=\"psysml:ac292376-6896-4173-b580-fb46e7ca2b11\" xlink:show=\"new\" xlink:title=\"psysml:ac292376-6896-4173-b580-fb46e7ca2b11\" xlink:type=\"simple\"><path d=\"M401,293.06 C388.54,306.15 372.41,323.1 358.05,338.18 \" fill=\"none\" id=\"E7-&gt;E2\" style=\"stroke: #A80036; stroke-width: 1.0;\"/><polygon fill=\"#FFFFFF\" points=\"343.97,352.98,352.0072,334.395,362.1437,344.0517,343.97,352.98\" style=\"stroke: #A80036; stroke-width: 1.0;\"/><ellipse cx=\"357.3869\" cy=\"331.6475\" fill=\"#A80036\" rx=\"2\" ry=\"2\" style=\"stroke: #A80036; stroke-width: 1.0;\"/><ellipse cx=\"364.6273\" cy=\"338.5451\" fill=\"#A80036\" rx=\"2\" ry=\"2\" style=\"stroke: #A80036; stroke-width: 1.0;\"/></a><!--MD5=[f4cf0736d43fd73c4ef68817c49d37d5]\n",
       "reverse link E6 to E8--><a href=\"psysml:0a911d69-2e8c-46c6-ac57-f08740e1c2a7\" target=\"_top\" title=\"psysml:0a911d69-2e8c-46c6-ac57-f08740e1c2a7\" xlink:actuate=\"onRequest\" xlink:href=\"psysml:0a911d69-2e8c-46c6-ac57-f08740e1c2a7\" xlink:show=\"new\" xlink:title=\"psysml:0a911d69-2e8c-46c6-ac57-f08740e1c2a7\" xlink:type=\"simple\"><path d=\"M491.99,195.8 C500.5,212.18 510.76,231.94 518.47,246.8 \" fill=\"none\" id=\"E6&lt;-E8\" style=\"stroke: #A80036; stroke-width: 1.0;\"/><polygon fill=\"#FFFFFF\" points=\"485.9,184.08,485.1148,191.2482,491.4296,194.7301,492.2148,187.5618,485.9,184.08\" style=\"stroke: #A80036; stroke-width: 1.0;\"/><text fill=\"#000000\" font-family=\"sans-serif\" font-size=\"13\" lengthAdjust=\"spacingAndGlyphs\" textLength=\"8\" x=\"506.4904\" y=\"236.025\">1</text></a><!--MD5=[23ac544a70576c3e717098101004234c]\n",
       "reverse link E9 to E10--><a href=\"psysml:7a6ef9a5-ee54-4bad-bee0-b6cd150b3ba6\" target=\"_top\" title=\"psysml:7a6ef9a5-ee54-4bad-bee0-b6cd150b3ba6\" xlink:actuate=\"onRequest\" xlink:href=\"psysml:7a6ef9a5-ee54-4bad-bee0-b6cd150b3ba6\" xlink:show=\"new\" xlink:title=\"psysml:7a6ef9a5-ee54-4bad-bee0-b6cd150b3ba6\" xlink:type=\"simple\"><path d=\"M244.01,195.8 C235.5,212.18 225.24,231.94 217.53,246.8 \" fill=\"none\" id=\"E9&lt;-E10\" style=\"stroke: #A80036; stroke-width: 1.0;\"/><polygon fill=\"#FFFFFF\" points=\"250.1,184.08,243.7852,187.5618,244.5704,194.7301,250.8852,191.2482,250.1,184.08\" style=\"stroke: #A80036; stroke-width: 1.0;\"/><text fill=\"#000000\" font-family=\"sans-serif\" font-size=\"13\" lengthAdjust=\"spacingAndGlyphs\" textLength=\"8\" x=\"211.4596\" y=\"236.025\">1</text></a><!--MD5=[0f36bececdf0dff6e600d6f64214b0f1]\n",
       "link E10 to E2--><a href=\"psysml:1b1dbb40-b684-43d5-9e90-095d8f580599\" target=\"_top\" title=\"psysml:1b1dbb40-b684-43d5-9e90-095d8f580599\" xlink:actuate=\"onRequest\" xlink:href=\"psysml:1b1dbb40-b684-43d5-9e90-095d8f580599\" xlink:show=\"new\" xlink:title=\"psysml:1b1dbb40-b684-43d5-9e90-095d8f580599\" xlink:type=\"simple\"><path d=\"M230.81,293.06 C246.01,306.57 265.82,324.17 283.18,339.6 \" fill=\"none\" id=\"E10-&gt;E2\" style=\"stroke: #A80036; stroke-width: 1.0;\"/><polygon fill=\"#FFFFFF\" points=\"298.22,352.98,279.3735,345.5767,288.6814,335.119,298.22,352.98\" style=\"stroke: #A80036; stroke-width: 1.0;\"/><ellipse cx=\"276.4454\" cy=\"340.2931\" fill=\"#A80036\" rx=\"2\" ry=\"2\" style=\"stroke: #A80036; stroke-width: 1.0;\"/><ellipse cx=\"283.094\" cy=\"332.8233\" fill=\"#A80036\" rx=\"2\" ry=\"2\" style=\"stroke: #A80036; stroke-width: 1.0;\"/></a><!--MD5=[1fc04a95fd77ad5ce46c1a3027516051]\n",
       "reverse link E9 to E11--><a href=\"psysml:26e0bda0-b5f1-463e-8de4-6289f85dc961\" target=\"_top\" title=\"psysml:26e0bda0-b5f1-463e-8de4-6289f85dc961\" xlink:actuate=\"onRequest\" xlink:href=\"psysml:26e0bda0-b5f1-463e-8de4-6289f85dc961\" xlink:show=\"new\" xlink:title=\"psysml:26e0bda0-b5f1-463e-8de4-6289f85dc961\" xlink:type=\"simple\"><path d=\"M275.99,195.8 C284.5,212.18 294.76,231.94 302.47,246.8 \" fill=\"none\" id=\"E9&lt;-E11\" style=\"stroke: #A80036; stroke-width: 1.0;\"/><polygon fill=\"#FFFFFF\" points=\"269.9,184.08,269.1148,191.2482,275.4296,194.7301,276.2148,187.5618,269.9,184.08\" style=\"stroke: #A80036; stroke-width: 1.0;\"/><text fill=\"#000000\" font-family=\"sans-serif\" font-size=\"13\" lengthAdjust=\"spacingAndGlyphs\" textLength=\"8\" x=\"290.4904\" y=\"236.025\">1</text></a><!--MD5=[062ed86c389d1a88f61c6380d0491e17]\n",
       "reverse link E12 to E13--><a href=\"psysml:b5605e58-b315-4dd3-8e84-581a703b4e2b\" target=\"_top\" title=\"psysml:b5605e58-b315-4dd3-8e84-581a703b4e2b\" xlink:actuate=\"onRequest\" xlink:href=\"psysml:b5605e58-b315-4dd3-8e84-581a703b4e2b\" xlink:show=\"new\" xlink:title=\"psysml:b5605e58-b315-4dd3-8e84-581a703b4e2b\" xlink:type=\"simple\"><path d=\"M84,94.47 C84,109.59 84,127.2 84,140.77 \" fill=\"none\" id=\"E12&lt;-E13\" style=\"stroke: #A80036; stroke-width: 1.0;\"/><polygon fill=\"#A80036\" points=\"84,81.47,80,87.47,84,93.47,88,87.47,84,81.47\" style=\"stroke: #A80036; stroke-width: 1.0;\"/><text fill=\"#000000\" font-family=\"sans-serif\" font-size=\"13\" lengthAdjust=\"spacingAndGlyphs\" textLength=\"8\" x=\"74.975\" y=\"129.9874\">1</text></a><!--MD5=[01db00f33b28669d6d9febea71002831]\n",
       "reverse link E13 to E14--><a href=\"psysml:db42b499-220f-4c1a-8731-eb36b8c82e1e\" target=\"_top\" title=\"psysml:db42b499-220f-4c1a-8731-eb36b8c82e1e\" xlink:actuate=\"onRequest\" xlink:href=\"psysml:db42b499-220f-4c1a-8731-eb36b8c82e1e\" xlink:show=\"new\" xlink:title=\"psysml:db42b499-220f-4c1a-8731-eb36b8c82e1e\" xlink:type=\"simple\"><path d=\"M90.39,199.96 C93.23,215.51 96.48,233.33 98.98,246.98 \" fill=\"none\" id=\"E13&lt;-E14\" style=\"stroke: #A80036; stroke-width: 1.0;\"/><polygon fill=\"#FFFFFF\" points=\"88.03,187.06,85.1698,193.6796,90.1801,198.8658,93.0403,192.2462,88.03,187.06\" style=\"stroke: #A80036; stroke-width: 1.0;\"/><text fill=\"#000000\" font-family=\"sans-serif\" font-size=\"13\" lengthAdjust=\"spacingAndGlyphs\" textLength=\"8\" x=\"88.8246\" y=\"235.8709\">1</text></a><!--MD5=[e5566ac99d7714697a7fbc17f6b550fe]\n",
       "link E14 to E2--><a href=\"psysml:7155c58b-23e7-41d9-a472-3863cff0084f\" target=\"_top\" title=\"psysml:7155c58b-23e7-41d9-a472-3863cff0084f\" xlink:actuate=\"onRequest\" xlink:href=\"psysml:7155c58b-23e7-41d9-a472-3863cff0084f\" xlink:show=\"new\" xlink:title=\"psysml:7155c58b-23e7-41d9-a472-3863cff0084f\" xlink:type=\"simple\"><path d=\"M137.38,287.25 C169.54,302.45 218.42,325.56 257.95,344.25 \" fill=\"none\" id=\"E14-&gt;E2\" style=\"stroke: #A80036; stroke-width: 1.0;\"/><polygon fill=\"#FFFFFF\" points=\"276.21,352.88,256.0404,351.0944,262.0199,338.4356,276.21,352.88\" style=\"stroke: #A80036; stroke-width: 1.0;\"/><ellipse cx=\"251.7407\" cy=\"346.8516\" fill=\"#A80036\" rx=\"2\" ry=\"2\" style=\"stroke: #A80036; stroke-width: 1.0;\"/><ellipse cx=\"256.0117\" cy=\"337.8095\" fill=\"#A80036\" rx=\"2\" ry=\"2\" style=\"stroke: #A80036; stroke-width: 1.0;\"/></a><!--MD5=[e9a5e828c71fd2209a11a152f562d491]\n",
       "reverse link E13 to E15--><a href=\"psysml:2699a371-802b-44a3-9d88-da30e2130afc\" target=\"_top\" title=\"psysml:2699a371-802b-44a3-9d88-da30e2130afc\" xlink:actuate=\"onRequest\" xlink:href=\"psysml:2699a371-802b-44a3-9d88-da30e2130afc\" xlink:show=\"new\" xlink:title=\"psysml:2699a371-802b-44a3-9d88-da30e2130afc\" xlink:type=\"simple\"><path d=\"M65.17,199.1 C53.3,224.98 41.82,261.37 51,293 C57.44,315.18 71.88,337.1 83.91,352.69 \" fill=\"none\" id=\"E13&lt;-E15\" style=\"stroke: #A80036; stroke-width: 1.0;\"/><polygon fill=\"#FFFFFF\" points=\"70.93,187.31,64.7009,190.9429,65.6585,198.0902,71.8876,194.4572,70.93,187.31\" style=\"stroke: #A80036; stroke-width: 1.0;\"/><text fill=\"#000000\" font-family=\"sans-serif\" font-size=\"13\" lengthAdjust=\"spacingAndGlyphs\" textLength=\"8\" x=\"69.9932\" y=\"341.8869\">1</text></a><!--MD5=[3afbdc645381407e1bc99677323a2513]\n",
       "link E14 to E15--><a href=\"psysml:1d4c99f1-723b-47e9-b0a9-a2cf4f06711c\" target=\"_top\" title=\"psysml:1d4c99f1-723b-47e9-b0a9-a2cf4f06711c\" xlink:actuate=\"onRequest\" xlink:href=\"psysml:1d4c99f1-723b-47e9-b0a9-a2cf4f06711c\" xlink:show=\"new\" xlink:title=\"psysml:1d4c99f1-723b-47e9-b0a9-a2cf4f06711c\" xlink:type=\"simple\"><path d=\"M92.35,293.06 C89.55,310.7 89.55,335.34 92.36,352.98 \" fill=\"none\" id=\"E14-E15\" style=\"stroke: #A80036; stroke-width: 3.0;\"/></a><!--MD5=[3afbdc645381407e1bc99677323a2513]\n",
       "link E14 to E15--><a href=\"psysml:99ef5f64-108a-4414-ad16-a52f47db38b7\" target=\"_top\" title=\"psysml:99ef5f64-108a-4414-ad16-a52f47db38b7\" xlink:actuate=\"onRequest\" xlink:href=\"psysml:99ef5f64-108a-4414-ad16-a52f47db38b7\" xlink:show=\"new\" xlink:title=\"psysml:99ef5f64-108a-4414-ad16-a52f47db38b7\" xlink:type=\"simple\"><path d=\"M114.27,293.06 C117.24,310.7 117.24,335.34 114.27,352.98 \" fill=\"none\" id=\"E14-E15-1\" style=\"stroke: #A80036; stroke-width: 3.0;\"/></a><!--MD5=[b7a0b258fc1c6c66412732cbf6990550]\n",
       "@startuml\r\n",
       " \r\n",
       "package \"ConjugationTest\" as E1  [[psysml:62f2acf4-862e-4777-8380-6adbdab8aa3b ]]  {\r\n",
       "comp def \"P\" as E2 << <<(D,brown) port  def>> [[psysml:8038ba5e-65f3-4a7c-a5d9-05577a1e913e ]] {\r\n",
       "}\r\n",
       "comp def \"B\" as E3 << << (B,green) >> [[psysml:eb00d253-98ff-4ea5-9d4b-40f483d849ec ]] {\r\n",
       "}\r\n",
       "comp usage \"p1: P \" as E4 << << (P,blue) port>> [[psysml:bd11b2df-eb92-4507-bbbb-c6493b57fcfa ]] {\r\n",
       "}\r\n",
       "comp usage \"p2: ~P \" as E5 << << (P,blue) port>> [[psysml:0cbe2724-4b46-4325-902f-a8a483156696 ]] {\r\n",
       "}\r\n",
       "comp def \"A\" as E6 << << (B,green) >> [[psysml:c9adf55d-1d58-41e7-9c8f-305f1a380a4f ]] {\r\n",
       "}\r\n",
       "comp usage \"p1: P \" as E7 << << (P,blue) port>> [[psysml:62009ff7-c341-4e72-a056-ce92de09505b ]] {\r\n",
       "}\r\n",
       "comp usage \"p2: ~P \" as E8 << << (P,blue) port>> [[psysml:50db7d15-a467-4fc6-8fb9-d943e9708b48 ]] {\r\n",
       "}\r\n",
       "comp def \"I\" as E9 << << (B,green) >> [[psysml:909b1fdd-cad7-4fe7-8f0f-a5ae3fa3dd03 ]] {\r\n",
       "}\r\n",
       "comp usage \"p1: P \" as E10 << << (P,blue) port>> [[psysml:4b05cf72-e027-47da-9c90-b867da4c93e0 ]] {\r\n",
       "}\r\n",
       "comp usage \"p2: ~P \" as E11 << << (P,blue) port>> [[psysml:0c24ab80-75a0-44e9-976a-962e4e9af685 ]] {\r\n",
       "}\r\n",
       "comp def \"B1\" as E12 << << (B,green) >> [[psysml:c2ec72d4-85fe-4c8d-a549-b327df7a4c85 ]] {\r\n",
       "}\r\n",
       "comp usage \"p \" as E13 << << (P,limegreen) part>> [[psysml:bf56b714-b103-43c5-844a-64ae22bea297 ]] {\r\n",
       "}\r\n",
       "comp usage \"p1: P \" as E14 << << (P,blue) port>> [[psysml:b5c2279c-6642-492b-a6cf-19efab06e689 ]] {\r\n",
       "}\r\n",
       "comp usage \"p2: ~P \" as E15 << << (P,blue) port>> [[psysml:ed6b3600-9f65-4ffd-a058-1200daf10699 ]] {\r\n",
       "}\r\n",
       "}\r\n",
       "E3 o- - \"1\"E4 [[psysml:301fc48c-20ce-4bfe-ac1d-96f5db6094d0 ]] \r\n",
       "E4 - -:|> E2 [[psysml:2658e44c-8270-4dd2-9600-daf649b69d41 ]] \r\n",
       "E3 o- - \"1\"E5 [[psysml:223fd842-0df9-4bd0-ad12-80c4696f3c55 ]] \r\n",
       "E6 o- - \"1\"E7 [[psysml:21746d6a-6182-4390-ad27-ac5c9b62bfbf ]] \r\n",
       "E7 - -:|> E2 [[psysml:ac292376-6896-4173-b580-fb46e7ca2b11 ]] \r\n",
       "E6 o- - \"1\"E8 [[psysml:0a911d69-2e8c-46c6-ac57-f08740e1c2a7 ]] \r\n",
       "E9 o- - \"1\"E10 [[psysml:7a6ef9a5-ee54-4bad-bee0-b6cd150b3ba6 ]] \r\n",
       "E10 - -:|> E2 [[psysml:1b1dbb40-b684-43d5-9e90-095d8f580599 ]] \r\n",
       "E9 o- - \"1\"E11 [[psysml:26e0bda0-b5f1-463e-8de4-6289f85dc961 ]] \r\n",
       "E12 *- - \"1\"E13 [[psysml:b5605e58-b315-4dd3-8e84-581a703b4e2b ]] \r\n",
       "E13 o- - \"1\"E14 [[psysml:db42b499-220f-4c1a-8731-eb36b8c82e1e ]] \r\n",
       "E14 - -:|> E2 [[psysml:7155c58b-23e7-41d9-a472-3863cff0084f ]] \r\n",
       "E13 o- - \"1\"E15 [[psysml:2699a371-802b-44a3-9d88-da30e2130afc ]] \r\n",
       "E14 -[thickness=3]- E15 [[psysml:1d4c99f1-723b-47e9-b0a9-a2cf4f06711c ]] \r\n",
       "E14 -[thickness=3]- E15 [[psysml:99ef5f64-108a-4414-ad16-a52f47db38b7 ]] \r\n",
       "@enduml\r\n",
       "\n",
       "PlantUML version 1.2020.13(Sat Jun 13 12:26:38 UTC 2020)\n",
       "(EPL source distribution)\n",
       "Java Runtime: OpenJDK Runtime Environment\n",
       "JVM: OpenJDK 64-Bit Server VM\n",
       "Default Encoding: UTF-8\n",
       "Language: en\n",
       "Country: null\n",
       "--></g></svg>"
      ]
     },
     "execution_count": 31,
     "metadata": {},
     "output_type": "execute_result"
    }
   ],
   "source": [
    "%viz --style=\"PLANTUML\" --view=\"Tree\" \"ConjugationTest\""
   ]
  },
  {
   "cell_type": "code",
   "execution_count": 32,
   "id": "3d5d9aed",
   "metadata": {
    "execution": {
     "iopub.execute_input": "2022-02-18T10:47:46.696732Z",
     "iopub.status.busy": "2022-02-18T10:47:46.696327Z",
     "iopub.status.idle": "2022-02-18T10:47:46.782174Z",
     "shell.execute_reply": "2022-02-18T10:47:46.780862Z"
    }
   },
   "outputs": [
    {
     "data": {
      "image/svg+xml": [
       "<?xml version=\"1.0\" encoding=\"UTF-8\" standalone=\"no\"?><svg xmlns=\"http://www.w3.org/2000/svg\" xmlns:xlink=\"http://www.w3.org/1999/xlink\" contentScriptType=\"application/ecmascript\" contentStyleType=\"text/css\" height=\"300px\" preserveAspectRatio=\"none\" style=\"width:603px;height:300px;background:#000000;\" version=\"1.1\" viewBox=\"0 0 603 300\" width=\"603px\" zoomAndPan=\"magnify\"><defs/><g><rect fill=\"#1F2523\" height=\"1\" style=\"stroke: #1F2523; stroke-width: 1.0;\" width=\"1\" x=\"0\" y=\"0\"/><rect fill=\"#FFFFFF\" height=\"202.8012\" style=\"stroke: #FFFFFF; stroke-width: 1.0;\" width=\"602\" x=\"0\" y=\"0\"/><text fill=\"#000000\" font-family=\"sans-serif\" font-size=\"12\" font-weight=\"bold\" lengthAdjust=\"spacingAndGlyphs\" textLength=\"139\" x=\"5\" y=\"16.1387\">Welcome to PlantUML!</text><text fill=\"#000000\" font-family=\"sans-serif\" font-size=\"12\" lengthAdjust=\"spacingAndGlyphs\" textLength=\"0\" x=\"9\" y=\"30.1074\"/><text fill=\"#000000\" font-family=\"sans-serif\" font-size=\"12\" lengthAdjust=\"spacingAndGlyphs\" textLength=\"293\" x=\"5\" y=\"44.0762\">If you use this software, you accept its license.</text><text fill=\"#000000\" font-family=\"sans-serif\" font-size=\"12\" lengthAdjust=\"spacingAndGlyphs\" textLength=\"107\" x=\"5\" y=\"58.0449\">(details by typing</text><text fill=\"#000000\" font-family=\"monospace\" font-size=\"12\" lengthAdjust=\"spacingAndGlyphs\" textLength=\"42\" x=\"116\" y=\"58.595\">license</text><text fill=\"#000000\" font-family=\"sans-serif\" font-size=\"12\" lengthAdjust=\"spacingAndGlyphs\" textLength=\"56\" x=\"162\" y=\"58.0449\">keyword)</text><text fill=\"#000000\" font-family=\"sans-serif\" font-size=\"12\" lengthAdjust=\"spacingAndGlyphs\" textLength=\"0\" x=\"9\" y=\"72.0137\"/><text fill=\"#000000\" font-family=\"sans-serif\" font-size=\"12\" lengthAdjust=\"spacingAndGlyphs\" textLength=\"283\" x=\"5\" y=\"85.9824\">You can start with a simple UML Diagram like:</text><text fill=\"#000000\" font-family=\"sans-serif\" font-size=\"12\" lengthAdjust=\"spacingAndGlyphs\" textLength=\"0\" x=\"9\" y=\"99.9512\"/><text fill=\"#000000\" font-family=\"monospace\" font-size=\"12\" lengthAdjust=\"spacingAndGlyphs\" textLength=\"102\" x=\"5\" y=\"113.0893\">Bob-&gt;Alice: Hello</text><text fill=\"#000000\" font-family=\"sans-serif\" font-size=\"12\" lengthAdjust=\"spacingAndGlyphs\" textLength=\"0\" x=\"9\" y=\"126.508\"/><text fill=\"#000000\" font-family=\"sans-serif\" font-size=\"12\" lengthAdjust=\"spacingAndGlyphs\" textLength=\"14\" x=\"5\" y=\"140.4768\">Or</text><text fill=\"#000000\" font-family=\"sans-serif\" font-size=\"12\" lengthAdjust=\"spacingAndGlyphs\" textLength=\"0\" x=\"9\" y=\"154.4455\"/><text fill=\"#000000\" font-family=\"monospace\" font-size=\"12\" lengthAdjust=\"spacingAndGlyphs\" textLength=\"78\" x=\"5\" y=\"167.5837\">class Example</text><text fill=\"#000000\" font-family=\"sans-serif\" font-size=\"12\" lengthAdjust=\"spacingAndGlyphs\" textLength=\"0\" x=\"9\" y=\"181.0023\"/><text fill=\"#000000\" font-family=\"sans-serif\" font-size=\"12\" lengthAdjust=\"spacingAndGlyphs\" textLength=\"349\" x=\"5\" y=\"194.9711\">You will find more information about PlantUML syntax on</text><text fill=\"#000000\" font-family=\"sans-serif\" font-size=\"12\" lengthAdjust=\"spacingAndGlyphs\" text-decoration=\"underline\" textLength=\"129\" x=\"358\" y=\"194.9711\">https://plantuml.com</text><image height=\"71\" width=\"80\" x=\"516\" xlink:href=\"data:image/png;base64,iVBORw0KGgoAAAANSUhEUgAAAFAAAABHCAMAAACnHDC8AAADAFBMVEX///+BpbvD3u/f7vfPz8+nz+g3ksuZEDkWADr/ujlvsdpTodLCwsOLwOEbg8T//v6pqamZETnLysvT09To5+jqLS4VATj9/f27u7vDw8MTfsK+v7/j4+SOweJprdjL4/KxsbEri8jk8PgXa57c29uUETez1utQoNJ1tNtEmc9cptWBut6ayOW/3O6YEDjY6vUfhcXBwcHs7Ozw9/v83t79uTn7+/vX19ehoaHx8fG2tLXHx8fuVlfrNTYaBjn/vUH5+fmko6WXl5f/+fn95ub+9PT+8PD3qKidmaMxIUrnqDWcFj7n5eX09PTu7u2SkpKfnZ6rq6z0lJTm4tzJrHUfDT339/eFGDn6tjcrEzOvrbBuZ3l4eomSMS7Hz9Smpqasu8SFiYuQETfa2du1m6OOM051J0NWTWL5xse4uLj6zc33r6/4vb7ydHXqLi/72dntTE3tR0ijbn5jW3C+u8NANVQrG0XFubqRVGZza4GQGT2VaS7a0NPJtI6IJj/zszrfqkXXzr/Hw8cgC0LUqltOQ2JsSC5bTGjOpFafSi2+iDGtyt14m7TJhTCPJUSwoIG/qa+ikHiIgpCRHjI9j8KXbnaQH0FLf6FGPlp0cnYyKE2rg49Wj7dFXHmcwtrp6uu+xMjvYWLvW1z97e3sPD3sP0DuUlP709PYzdDPmzqZWWySRVygfHHd1smWkZ+PgnibETqsl260q5fLuppJLC/dpj2HPFLTtHv/ujrTwJy5s6iWjIi0iD3joTTCmU3trjuvZS2zlFvjq0HSyLbYp0qRts10XGxEKC9yPVBQZIOPdlNvMk2NeYNqRlujtcCVrr3j5eY1gK9Qn9GLp7lbeJXRxrCkiZDaozyukoJ+H0B3rc+OYy+iprJkYXdhmr6ee0afs79xq9BikrGKjI3FomEiLFO0ay6nfIm4pZXRjTFuhZSZWm0zcZyJN0KNTk4eebNfdIGGlZ93h5kcED5nOVYyRWbziIk9dJ4kerE5ZYxRUnLG1d7p8PTvY2PtTk/1nZ1ycV/bAAAFx0lEQVR4Xu1Ye1BUVRg/e3dhl4csKyxqPlBJQVETF2icAY13GogkEFqizqRRpoBpTCIapaUOhWNjUdOMSBpqJYZTg4KigFKADzSIVZ4qD5VFluXhLgvbPee+r49R7v2z3+zcc77fOfPb7zvfPd85uwCIhwT4wPisANwPAuIKHnbHH1I+KwAXDA18ShDW58CneCEnXl8JGwmfHylCPSvlZ/FWxh8YIRIxTWkZAEofkTz8sNq7tAqE2gODOB6GYZobVaH20SVZ4oQcdmXV0L7c4b8OFvJHRoYwdVIoyPX3gxtFDA+V8e6mM8pBoCjij4wQiWo/ALzV/kpkifBi13p4waZuGrJEECycixcEVSbYgFwUozg4/qSraOxrP7O8Eogj2HDxyMWmzpk6823+yIjhvR7fLOpDsCuGhwC0WfbkjQq8A0MWC0EgIYzPCYMymM8Iwcvz6K4IWw8skTrgq3iPMIQnxdfKrvyedpyvbSsyBQt6zcH6OxXmjqYxg9PbgXBBveK6aRAXNEl1Ssc+hz7Bgntyohb/ggQlNrrdzfIuoYKSb79067PrRoLmGo25SeghJRn1yMrSbPTptZaoBlwtlWbBHspxiW+mW8+46ereVnMXGxbFQ+mjofiHZTrclJn5E14UEgdrO9tRVph0HDJlYlRsLv4XFA7RBA1kK5ogBb7gtn08AvxWymc2b+YzLHC3nnOCNHvdayUsZpnnwnPqGf+yGKcPKlv92vtJC209zGyRWJmgyd16sSGGT/AmM2rdKZKZHxwCz7KUodLzJOO8th4OBqxdo0c2tfUkNr3QlJkZQWWMBP0uwBHvmQQb3zRVCMnsMO6ATazf3f0kkza0HTaPCdIhpyTknqP61Te1eV2gRpr1FUn4xtxRT72pDHhj09/UnBLjiv72p4d8FEtlLibBd7Qg0xK5+XfS9q2AzxSVHPnNIMBS8BQPw8N1W4glQWj0mtp4+nSHhvKYOM4GL6vH1jGTcDQ3p1979AQPI5agXEDYwuS5awknJ73rHU56RyLAr6ACpO5iMRGvp3XykjImgs4Fgm2/7URc8dhbeD9jdhYVNon0mdFcAjTIXbmC75VrmVHcQ+JDIXbuNmYUYlZoYx6XcWjKTWavYXd1WzU9OEh9wLFfEVFza5PEhVhDAvfLx60cWM3ePMa9hyZG5DNr6DbQiCUcYU0AKGzGyYxlkf+wxnCk+wdwCbA/TkWH7Dbgoq8dcmKNssQQ3F/JmMxlIj/fzo/7s9OIwUMebbYzbh2zLfk7ehBGzIau6OeO+xzGKlBRwCGAXNaCFgYbRoKG+hMTfMff4M6h0LYxpmv/92ym9tIxc4uRzawynCEWGhum7odf9/75vh8zg0bKijX5AMxhMacsK8pBxaJihtnQqr1KG8yFMzq/dutJ2iKwNCbXA7Yamsm2Xn0XtgtowY3Xy8rpYc4NNqon8eM49k+NtzU55GtMleGAkNR6oldDMhH+e9EX0JB+UYKv4WgLZrLCjHV7wnyYlzJZvYV6A6d1w6xEph842UUyTkjGIbzwRA/JIOBJKSt88yglqND1h6TpiQqQV99wmJ7nknQcgIIHqd00EwSzgudigGYQUHE4qFMcGJb22kp7lNop8p6znStvg5S2e1TVRti56w/zj8fZzKLiDa317MqBQFbs+J3dcbSgo+H4D0kLOokJ82/NR8KZbp9eIZgllwKR8Ec1ejIX827POk/06HpYffGd5dkoZJXMqDAVXd1Nbhavlx4OyuAiPcyAF3Ick8faXAuE5WToApkMxykL1PbNRJ91SDkXOyymPFR1UMlw9GjRPKCrPsRSvUnbzbkELj2PSSRkQLiH1AvROTutlpryLHQAoCD+C2BBP4npMwd9zsIgzgaDsK+bctmVw3hetai5t9RS4PEqub4QnCvxteGzOZyQXxjscxkhHisWKMi72+T0p1dxGeGYkG0ez+eeG7In/n/oNOexC9fzIiLvPxVtKp84iza+AAAAAElFTkSuQmCC\" y=\"6\"/><rect fill=\"#000000\" height=\"96.4844\" style=\"stroke: #000000; stroke-width: 1.0;\" width=\"602\" x=\"0\" y=\"202.8012\"/><rect fill=\"#33FF02\" height=\"21.2969\" style=\"stroke: #33FF02; stroke-width: 1.0;\" width=\"145\" x=\"5\" y=\"207.8012\"/><text fill=\"#000000\" font-family=\"sans-serif\" font-size=\"14\" font-weight=\"bold\" lengthAdjust=\"spacingAndGlyphs\" textLength=\"143\" x=\"6\" y=\"222.8012\">[From string (line 2) ]</text><text fill=\"#33FF02\" font-family=\"sans-serif\" font-size=\"14\" font-weight=\"bold\" lengthAdjust=\"spacingAndGlyphs\" textLength=\"0\" x=\"9\" y=\"243.0981\"/><text fill=\"#33FF02\" font-family=\"sans-serif\" font-size=\"14\" font-weight=\"bold\" lengthAdjust=\"spacingAndGlyphs\" textLength=\"70\" x=\"5\" y=\"259.3949\">@startuml</text><text fill=\"#33FF02\" font-family=\"sans-serif\" font-size=\"14\" font-weight=\"bold\" lengthAdjust=\"spacingAndGlyphs\" textLength=\"0\" x=\"9\" y=\"275.6918\"/><text fill=\"#FF0000\" font-family=\"sans-serif\" font-size=\"14\" font-weight=\"bold\" lengthAdjust=\"spacingAndGlyphs\" textLength=\"124\" x=\"9\" y=\"291.9887\">Empty description</text><!--MD5=[f59edd8218d337f74d0c332fc6737304]\n",
       "@startuml\r\n",
       " \r\n",
       "@enduml\r\n",
       "\n",
       "PlantUML version 1.2020.13(Sat Jun 13 12:26:38 UTC 2020)\n",
       "(EPL source distribution)\n",
       "Java Runtime: OpenJDK Runtime Environment\n",
       "JVM: OpenJDK 64-Bit Server VM\n",
       "Default Encoding: UTF-8\n",
       "Language: en\n",
       "Country: null\n",
       "--></g></svg>"
      ]
     },
     "execution_count": 32,
     "metadata": {},
     "output_type": "execute_result"
    }
   ],
   "source": [
    "%viz --style=\"PLANTUML\" --view=\"State\" \"ConjugationTest\""
   ]
  },
  {
   "cell_type": "code",
   "execution_count": 33,
   "id": "da791b89",
   "metadata": {
    "execution": {
     "iopub.execute_input": "2022-02-18T10:47:46.831324Z",
     "iopub.status.busy": "2022-02-18T10:47:46.830935Z",
     "iopub.status.idle": "2022-02-18T10:47:46.863736Z",
     "shell.execute_reply": "2022-02-18T10:47:46.862351Z"
    }
   },
   "outputs": [
    {
     "data": {
      "image/svg+xml": [
       "<?xml version=\"1.0\" encoding=\"UTF-8\" standalone=\"no\"?><svg xmlns=\"http://www.w3.org/2000/svg\" xmlns:xlink=\"http://www.w3.org/1999/xlink\" contentScriptType=\"application/ecmascript\" contentStyleType=\"text/css\" height=\"222px\" preserveAspectRatio=\"none\" style=\"width:574px;height:222px;\" version=\"1.1\" viewBox=\"0 0 574 222\" width=\"574px\" zoomAndPan=\"magnify\"><defs><filter height=\"300%\" id=\"f1nsoja6jkdf7s\" width=\"300%\" x=\"-1\" y=\"-1\"><feGaussianBlur result=\"blurOut\" stdDeviation=\"2.0\"/><feColorMatrix in=\"blurOut\" result=\"blurOut2\" type=\"matrix\" values=\"0 0 0 0 0 0 0 0 0 0 0 0 0 0 0 0 0 0 .4 0\"/><feOffset dx=\"4.0\" dy=\"4.0\" in=\"blurOut2\" result=\"blurOut3\"/><feBlend in=\"SourceGraphic\" in2=\"blurOut3\" mode=\"normal\"/></filter></defs><g><!--MD5=[fbc87193dbaf4d95561dea2c320d4a47]\n",
       "cluster E1--><a href=\"psysml:62f2acf4-862e-4777-8380-6adbdab8aa3b\" target=\"_top\" title=\"psysml:62f2acf4-862e-4777-8380-6adbdab8aa3b\" xlink:actuate=\"onRequest\" xlink:href=\"psysml:62f2acf4-862e-4777-8380-6adbdab8aa3b\" xlink:show=\"new\" xlink:title=\"psysml:62f2acf4-862e-4777-8380-6adbdab8aa3b\" xlink:type=\"simple\"><polygon fill=\"#FFFFFF\" filter=\"url(#f1nsoja6jkdf7s)\" points=\"16,6,136,6,143,28.2969,552,28.2969,552,210.5,16,210.5,16,6\" style=\"stroke: #000000; stroke-width: 1.5;\"/><line style=\"stroke: #000000; stroke-width: 1.5;\" x1=\"16\" x2=\"143\" y1=\"28.2969\" y2=\"28.2969\"/><text fill=\"#000000\" font-family=\"sans-serif\" font-size=\"14\" font-weight=\"bold\" lengthAdjust=\"spacingAndGlyphs\" textLength=\"114\" x=\"20\" y=\"20.9951\">ConjugationTest</text></a><!--MD5=[d5e69f78d87373223dbae638b30a9c99]\n",
       "cluster E3--><a href=\"psysml:eb00d253-98ff-4ea5-9d4b-40f483d849ec\" target=\"_top\" title=\"psysml:eb00d253-98ff-4ea5-9d4b-40f483d849ec\" xlink:actuate=\"onRequest\" xlink:href=\"psysml:eb00d253-98ff-4ea5-9d4b-40f483d849ec\" xlink:show=\"new\" xlink:title=\"psysml:eb00d253-98ff-4ea5-9d4b-40f483d849ec\" xlink:type=\"simple\"><rect fill=\"#FFFFFF\" filter=\"url(#f1nsoja6jkdf7s)\" height=\"72.5\" id=\"E3\" style=\"stroke: #A80036; stroke-width: 1.5;\" width=\"83\" x=\"457\" y=\"98\"/><rect fill=\"#FEFECE\" height=\"23.9688\" style=\"stroke: #A80036; stroke-width: 1.5;\" width=\"83\" x=\"457\" y=\"98\"/><text fill=\"#000000\" font-family=\"sans-serif\" font-size=\"12\" lengthAdjust=\"spacingAndGlyphs\" textLength=\"8\" x=\"494.5\" y=\"114.1387\">B</text></a><!--MD5=[14e3b0961a2654348d326746436168a1]\n",
       "cluster E6--><a href=\"psysml:c9adf55d-1d58-41e7-9c8f-305f1a380a4f\" target=\"_top\" title=\"psysml:c9adf55d-1d58-41e7-9c8f-305f1a380a4f\" xlink:actuate=\"onRequest\" xlink:href=\"psysml:c9adf55d-1d58-41e7-9c8f-305f1a380a4f\" xlink:show=\"new\" xlink:title=\"psysml:c9adf55d-1d58-41e7-9c8f-305f1a380a4f\" xlink:type=\"simple\"><rect fill=\"#FFFFFF\" filter=\"url(#f1nsoja6jkdf7s)\" height=\"72.5\" id=\"E6\" style=\"stroke: #A80036; stroke-width: 1.5;\" width=\"83\" x=\"363\" y=\"98\"/><rect fill=\"#FEFECE\" height=\"23.9688\" style=\"stroke: #A80036; stroke-width: 1.5;\" width=\"83\" x=\"363\" y=\"98\"/><text fill=\"#000000\" font-family=\"sans-serif\" font-size=\"12\" lengthAdjust=\"spacingAndGlyphs\" textLength=\"8\" x=\"400.5\" y=\"114.1387\">A</text></a><!--MD5=[7f149f147074ac12df2cb0a7728a5fb0]\n",
       "cluster E9--><a href=\"psysml:909b1fdd-cad7-4fe7-8f0f-a5ae3fa3dd03\" target=\"_top\" title=\"psysml:909b1fdd-cad7-4fe7-8f0f-a5ae3fa3dd03\" xlink:actuate=\"onRequest\" xlink:href=\"psysml:909b1fdd-cad7-4fe7-8f0f-a5ae3fa3dd03\" xlink:show=\"new\" xlink:title=\"psysml:909b1fdd-cad7-4fe7-8f0f-a5ae3fa3dd03\" xlink:type=\"simple\"><rect fill=\"#FFFFFF\" filter=\"url(#f1nsoja6jkdf7s)\" height=\"72.5\" id=\"E9\" style=\"stroke: #A80036; stroke-width: 1.5;\" width=\"83\" x=\"269\" y=\"98\"/><rect fill=\"#FEFECE\" height=\"23.9688\" style=\"stroke: #A80036; stroke-width: 1.5;\" width=\"83\" x=\"269\" y=\"98\"/><text fill=\"#000000\" font-family=\"sans-serif\" font-size=\"12\" lengthAdjust=\"spacingAndGlyphs\" textLength=\"3\" x=\"309\" y=\"114.1387\">I</text></a><!--MD5=[47bea60c1a0ac6c1143df232041969c0]\n",
       "cluster E12--><a href=\"psysml:c2ec72d4-85fe-4c8d-a549-b327df7a4c85\" target=\"_top\" title=\"psysml:c2ec72d4-85fe-4c8d-a549-b327df7a4c85\" xlink:actuate=\"onRequest\" xlink:href=\"psysml:c2ec72d4-85fe-4c8d-a549-b327df7a4c85\" xlink:show=\"new\" xlink:title=\"psysml:c2ec72d4-85fe-4c8d-a549-b327df7a4c85\" xlink:type=\"simple\"><rect fill=\"#FFFFFF\" filter=\"url(#f1nsoja6jkdf7s)\" height=\"137.5\" id=\"E12\" style=\"stroke: #A80036; stroke-width: 1.5;\" width=\"107\" x=\"150\" y=\"49\"/><rect fill=\"#FEFECE\" height=\"23.9688\" style=\"stroke: #A80036; stroke-width: 1.5;\" width=\"107\" x=\"150\" y=\"49\"/><text fill=\"#000000\" font-family=\"sans-serif\" font-size=\"12\" lengthAdjust=\"spacingAndGlyphs\" textLength=\"16\" x=\"195.5\" y=\"65.1387\">B1</text></a><!--MD5=[03104f77b71e2d8d3500c651e6e31181]\n",
       "cluster E13--><a href=\"psysml:bf56b714-b103-43c5-844a-64ae22bea297\" target=\"_top\" title=\"psysml:bf56b714-b103-43c5-844a-64ae22bea297\" xlink:actuate=\"onRequest\" xlink:href=\"psysml:bf56b714-b103-43c5-844a-64ae22bea297\" xlink:show=\"new\" xlink:title=\"psysml:bf56b714-b103-43c5-844a-64ae22bea297\" xlink:type=\"simple\"><rect fill=\"#FFFFFF\" filter=\"url(#f1nsoja6jkdf7s)\" height=\"72.5\" id=\"E13\" rx=\"10\" ry=\"10\" style=\"stroke: #A80036; stroke-width: 1.5;\" width=\"83\" x=\"162\" y=\"98\"/><rect fill=\"#FEFECE\" height=\"23.9688\" rx=\"10\" ry=\"10\" style=\"stroke: #FEFECE; stroke-width: 1.5;\" width=\"83\" x=\"162\" y=\"98\"/><rect fill=\"#FEFECE\" height=\"10\" style=\"stroke: #FEFECE; stroke-width: 1.5;\" width=\"83\" x=\"162\" y=\"111.9688\"/><rect fill=\"none\" height=\"72.5\" id=\"E13\" rx=\"10\" ry=\"10\" style=\"stroke: #A80036; stroke-width: 1.5;\" width=\"83\" x=\"162\" y=\"98\"/><text fill=\"#000000\" font-family=\"sans-serif\" font-size=\"12\" lengthAdjust=\"spacingAndGlyphs\" textLength=\"8\" x=\"199.5\" y=\"114.1387\">p</text><line style=\"stroke: #A80036; stroke-width: 1.0;\" x1=\"162\" x2=\"245\" y1=\"121.9688\" y2=\"121.9688\"/></a><g id=\"E1.E2\"><a href=\"psysml:8038ba5e-65f3-4a7c-a5d9-05577a1e913e\" target=\"_top\" title=\"psysml:8038ba5e-65f3-4a7c-a5d9-05577a1e913e\" xlink:actuate=\"onRequest\" xlink:href=\"psysml:8038ba5e-65f3-4a7c-a5d9-05577a1e913e\" xlink:show=\"new\" xlink:title=\"psysml:8038ba5e-65f3-4a7c-a5d9-05577a1e913e\" xlink:type=\"simple\"><rect fill=\"#FEFECE\" filter=\"url(#f1nsoja6jkdf7s)\" height=\"42.9375\" id=\"E2\" style=\"stroke: #A80036; stroke-width: 1.5;\" width=\"101\" x=\"32.5\" y=\"76.5\"/><ellipse cx=\"49.75\" cy=\"95.4688\" fill=\"#A52A2A\" rx=\"11\" ry=\"11\" style=\"stroke: #A80036; stroke-width: 1.0;\"/><path d=\"M46.9688,100.4688 L46.9688,89.875 L49.7031,89.875 Q51.0938,89.875 51.8594,90.2656 Q52.6406,90.6406 53.1719,91.3438 Q53.7031,92.0469 54,93.0469 Q54.2969,94.0313 54.2969,95.25 Q54.25,96.8438 53.75,98.0313 Q53.2656,99.2031 52.2188,99.8438 Q51.1875,100.4688 49.5,100.4688 L46.9688,100.4688 Z M48.8281,98.9688 L49.4531,98.9688 Q50.5313,98.9688 51.1875,98.5156 Q51.8438,98.0625 52.125,97.2344 Q52.4219,96.3906 52.4063,95.2656 Q52.4063,94.0938 52.1563,93.2344 Q51.9063,92.3594 51.2969,91.8906 Q50.6875,91.4063 49.6406,91.4063 L48.8281,91.4063 L48.8281,98.9688 Z \"/><text fill=\"#000000\" font-family=\"sans-serif\" font-size=\"12\" font-style=\"italic\" lengthAdjust=\"spacingAndGlyphs\" textLength=\"68\" x=\"62.25\" y=\"92.6387\">«port  def»</text><text fill=\"#000000\" font-family=\"sans-serif\" font-size=\"12\" lengthAdjust=\"spacingAndGlyphs\" textLength=\"8\" x=\"92.25\" y=\"106.6074\">P</text></a></g><text fill=\"#000000\" font-family=\"sans-serif\" font-size=\"14\" lengthAdjust=\"spacingAndGlyphs\" textLength=\"36\" x=\"455\" y=\"76.6982\">p1: P</text><rect fill=\"#A80036\" height=\"12\" style=\"stroke: #FEFECE; stroke-width: 1.5;\" width=\"12\" x=\"469\" y=\"92\"/><text fill=\"#000000\" font-family=\"sans-serif\" font-size=\"14\" lengthAdjust=\"spacingAndGlyphs\" textLength=\"48\" x=\"496\" y=\"76.6982\">p2: ~P</text><rect fill=\"#A80036\" height=\"12\" style=\"stroke: #FEFECE; stroke-width: 1.5;\" width=\"12\" x=\"516\" y=\"92\"/><text fill=\"#000000\" font-family=\"sans-serif\" font-size=\"14\" lengthAdjust=\"spacingAndGlyphs\" textLength=\"36\" x=\"361\" y=\"76.6982\">p1: P</text><rect fill=\"#A80036\" height=\"12\" style=\"stroke: #FEFECE; stroke-width: 1.5;\" width=\"12\" x=\"375\" y=\"92\"/><text fill=\"#000000\" font-family=\"sans-serif\" font-size=\"14\" lengthAdjust=\"spacingAndGlyphs\" textLength=\"48\" x=\"402\" y=\"76.6982\">p2: ~P</text><rect fill=\"#A80036\" height=\"12\" style=\"stroke: #FEFECE; stroke-width: 1.5;\" width=\"12\" x=\"422\" y=\"92\"/><text fill=\"#000000\" font-family=\"sans-serif\" font-size=\"14\" lengthAdjust=\"spacingAndGlyphs\" textLength=\"36\" x=\"267\" y=\"76.6982\">p1: P</text><rect fill=\"#A80036\" height=\"12\" style=\"stroke: #FEFECE; stroke-width: 1.5;\" width=\"12\" x=\"281\" y=\"92\"/><text fill=\"#000000\" font-family=\"sans-serif\" font-size=\"14\" lengthAdjust=\"spacingAndGlyphs\" textLength=\"48\" x=\"308\" y=\"76.6982\">p2: ~P</text><rect fill=\"#A80036\" height=\"12\" style=\"stroke: #FEFECE; stroke-width: 1.5;\" width=\"12\" x=\"328\" y=\"92\"/><text fill=\"#000000\" font-family=\"sans-serif\" font-size=\"14\" lengthAdjust=\"spacingAndGlyphs\" textLength=\"36\" x=\"160\" y=\"76.6982\">p1: P</text><rect fill=\"#A80036\" height=\"12\" style=\"stroke: #FEFECE; stroke-width: 1.5;\" width=\"12\" x=\"174\" y=\"92\"/><text fill=\"#000000\" font-family=\"sans-serif\" font-size=\"14\" lengthAdjust=\"spacingAndGlyphs\" textLength=\"48\" x=\"201\" y=\"76.6982\">p2: ~P</text><rect fill=\"#A80036\" height=\"12\" style=\"stroke: #FEFECE; stroke-width: 1.5;\" width=\"12\" x=\"221\" y=\"92\"/><!--MD5=[3afbdc645381407e1bc99677323a2513]\n",
       "link E14 to E15--><a href=\"psysml:1d4c99f1-723b-47e9-b0a9-a2cf4f06711c\" target=\"_top\" title=\"psysml:1d4c99f1-723b-47e9-b0a9-a2cf4f06711c\" xlink:actuate=\"onRequest\" xlink:href=\"psysml:1d4c99f1-723b-47e9-b0a9-a2cf4f06711c\" xlink:show=\"new\" xlink:title=\"psysml:1d4c99f1-723b-47e9-b0a9-a2cf4f06711c\" xlink:type=\"simple\"><path d=\"M186.24,98 C197.81,98 209.38,98 220.95,98 \" fill=\"none\" id=\"E14-E15\" style=\"stroke: #A80036; stroke-width: 3.0;\"/></a><!--MD5=[3afbdc645381407e1bc99677323a2513]\n",
       "link E14 to E15--><a href=\"psysml:99ef5f64-108a-4414-ad16-a52f47db38b7\" target=\"_top\" title=\"psysml:99ef5f64-108a-4414-ad16-a52f47db38b7\" xlink:actuate=\"onRequest\" xlink:href=\"psysml:99ef5f64-108a-4414-ad16-a52f47db38b7\" xlink:show=\"new\" xlink:title=\"psysml:99ef5f64-108a-4414-ad16-a52f47db38b7\" xlink:type=\"simple\"><path d=\"M186.24,95.93 C197.81,92.67 209.38,92.69 220.95,95.98 \" fill=\"none\" id=\"E14-E15-1\" style=\"stroke: #A80036; stroke-width: 3.0;\"/></a><!--MD5=[cd065a056aa0c3eabecd1d0fd12f2968]\n",
       "@startuml\r\n",
       "skinparam ranksep 10\r\n",
       "skinparam rectangle {\r\n",
       " backgroundColor<<block>> LightGreen\r\n",
       "}\r\n",
       " \r\n",
       "package \"ConjugationTest\" as E1  [[psysml:62f2acf4-862e-4777-8380-6adbdab8aa3b ]]  {\r\n",
       "def \"P\" as E2 << <<(D,brown) port  def>> [[psysml:8038ba5e-65f3-4a7c-a5d9-05577a1e913e ]] \r\n",
       "rec def \"B\" as E3 << << (B,green) >> [[psysml:eb00d253-98ff-4ea5-9d4b-40f483d849ec ]] {\r\n",
       "portin \"p1: P \" as E4 << << (P,blue) port>> [[psysml:bd11b2df-eb92-4507-bbbb-c6493b57fcfa ]] \r\n",
       "portin \"p2: ~P \" as E5 << << (P,blue) port>> [[psysml:0cbe2724-4b46-4325-902f-a8a483156696 ]] \r\n",
       "}\r\n",
       "rec def \"A\" as E6 << << (B,green) >> [[psysml:c9adf55d-1d58-41e7-9c8f-305f1a380a4f ]] {\r\n",
       "portin \"p1: P \" as E7 << << (P,blue) port>> [[psysml:62009ff7-c341-4e72-a056-ce92de09505b ]] \r\n",
       "portin \"p2: ~P \" as E8 << << (P,blue) port>> [[psysml:50db7d15-a467-4fc6-8fb9-d943e9708b48 ]] \r\n",
       "}\r\n",
       "rec def \"I\" as E9 << << (B,green) >> [[psysml:909b1fdd-cad7-4fe7-8f0f-a5ae3fa3dd03 ]] {\r\n",
       "portin \"p1: P \" as E10 << << (P,blue) port>> [[psysml:4b05cf72-e027-47da-9c90-b867da4c93e0 ]] \r\n",
       "portin \"p2: ~P \" as E11 << << (P,blue) port>> [[psysml:0c24ab80-75a0-44e9-976a-962e4e9af685 ]] \r\n",
       "}\r\n",
       "rec def \"B1\" as E12 << << (B,green) >> [[psysml:c2ec72d4-85fe-4c8d-a549-b327df7a4c85 ]] {\r\n",
       "rec usage \"p\" as E13  [[psysml:bf56b714-b103-43c5-844a-64ae22bea297 ]] {\r\n",
       "portin \"p1: P \" as E14 << << (P,blue) port>> [[psysml:b5c2279c-6642-492b-a6cf-19efab06e689 ]] \r\n",
       "portin \"p2: ~P \" as E15 << << (P,blue) port>> [[psysml:ed6b3600-9f65-4ffd-a058-1200daf10699 ]] \r\n",
       "}\r\n",
       "}\r\n",
       "}\r\n",
       "E14 -[thickness=3]- E15 [[psysml:1d4c99f1-723b-47e9-b0a9-a2cf4f06711c ]] \r\n",
       "E14 -[thickness=3]- E15 [[psysml:99ef5f64-108a-4414-ad16-a52f47db38b7 ]] \r\n",
       "@enduml\r\n",
       "\n",
       "PlantUML version 1.2020.13(Sat Jun 13 12:26:38 UTC 2020)\n",
       "(EPL source distribution)\n",
       "Java Runtime: OpenJDK Runtime Environment\n",
       "JVM: OpenJDK 64-Bit Server VM\n",
       "Default Encoding: UTF-8\n",
       "Language: en\n",
       "Country: null\n",
       "--></g></svg>"
      ]
     },
     "execution_count": 33,
     "metadata": {},
     "output_type": "execute_result"
    }
   ],
   "source": [
    "%viz --style=\"PLANTUML\" --view=\"Interconnection\" \"ConjugationTest\""
   ]
  },
  {
   "cell_type": "code",
   "execution_count": 34,
   "id": "0ce7d7c4",
   "metadata": {
    "execution": {
     "iopub.execute_input": "2022-02-18T10:47:46.913041Z",
     "iopub.status.busy": "2022-02-18T10:47:46.912647Z",
     "iopub.status.idle": "2022-02-18T10:47:46.917205Z",
     "shell.execute_reply": "2022-02-18T10:47:46.916873Z"
    }
   },
   "outputs": [
    {
     "data": {
      "image/svg+xml": [
       "<?xml version=\"1.0\" encoding=\"UTF-8\" standalone=\"no\"?><svg xmlns=\"http://www.w3.org/2000/svg\" xmlns:xlink=\"http://www.w3.org/1999/xlink\" contentScriptType=\"application/ecmascript\" contentStyleType=\"text/css\" height=\"12px\" preserveAspectRatio=\"none\" style=\"width:12px;height:12px;\" version=\"1.1\" viewBox=\"0 0 12 12\" width=\"12px\" zoomAndPan=\"magnify\"><defs/><g><!--MD5=[6a4cb978cab31700e1ce5529f947a75d]\n",
       "@startuml\r\n",
       "skinparam ranksep 8\r\n",
       " \r\n",
       "@enduml\r\n",
       "\n",
       "PlantUML version 1.2020.13(Sat Jun 13 12:26:38 UTC 2020)\n",
       "(EPL source distribution)\n",
       "Java Runtime: OpenJDK Runtime Environment\n",
       "JVM: OpenJDK 64-Bit Server VM\n",
       "Default Encoding: UTF-8\n",
       "Language: en\n",
       "Country: null\n",
       "--></g></svg>"
      ]
     },
     "execution_count": 34,
     "metadata": {},
     "output_type": "execute_result"
    }
   ],
   "source": [
    "%viz --style=\"PLANTUML\" --view=\"Action\" \"ConjugationTest\""
   ]
  },
  {
   "cell_type": "code",
   "execution_count": 35,
   "id": "cff01f3e",
   "metadata": {
    "execution": {
     "iopub.execute_input": "2022-02-18T10:47:46.968119Z",
     "iopub.status.busy": "2022-02-18T10:47:46.967474Z",
     "iopub.status.idle": "2022-02-18T10:47:46.973190Z",
     "shell.execute_reply": "2022-02-18T10:47:46.972662Z"
    }
   },
   "outputs": [
    {
     "data": {
      "image/svg+xml": [
       "<?xml version=\"1.0\" encoding=\"UTF-8\" standalone=\"no\"?><svg xmlns=\"http://www.w3.org/2000/svg\" xmlns:xlink=\"http://www.w3.org/1999/xlink\" contentScriptType=\"application/ecmascript\" contentStyleType=\"text/css\" height=\"12px\" preserveAspectRatio=\"none\" style=\"width:12px;height:12px;\" version=\"1.1\" viewBox=\"0 0 12 12\" width=\"12px\" zoomAndPan=\"magnify\"><defs/><g><!--MD5=[ca4faa0b02def275ea33c14ea7a1a98d]\n",
       "@startuml\r\n",
       "skinparam roundcorner 20\r\n",
       "skinparam BoxPadding 20\r\n",
       "skinparam SequenceBoxBackgroundColor #white\r\n",
       "skinparam style strictuml\r\n",
       "skinparam maxMessageSize 100\r\n",
       " \r\n",
       "@enduml\r\n",
       "\n",
       "PlantUML version 1.2020.13(Sat Jun 13 12:26:38 UTC 2020)\n",
       "(EPL source distribution)\n",
       "Java Runtime: OpenJDK Runtime Environment\n",
       "JVM: OpenJDK 64-Bit Server VM\n",
       "Default Encoding: UTF-8\n",
       "Language: en\n",
       "Country: null\n",
       "--></g></svg>"
      ]
     },
     "execution_count": 35,
     "metadata": {},
     "output_type": "execute_result"
    }
   ],
   "source": [
    "%viz --style=\"PLANTUML\" --view=\"Sequence\" \"ConjugationTest\""
   ]
  },
  {
   "cell_type": "code",
   "execution_count": 36,
   "id": "71fcc83a",
   "metadata": {
    "execution": {
     "iopub.execute_input": "2022-02-18T10:47:47.022524Z",
     "iopub.status.busy": "2022-02-18T10:47:47.022111Z",
     "iopub.status.idle": "2022-02-18T10:47:47.077433Z",
     "shell.execute_reply": "2022-02-18T10:47:47.075406Z"
    }
   },
   "outputs": [
    {
     "data": {
      "image/svg+xml": [
       "<?xml version=\"1.0\" encoding=\"UTF-8\" standalone=\"no\"?><svg xmlns=\"http://www.w3.org/2000/svg\" xmlns:xlink=\"http://www.w3.org/1999/xlink\" contentScriptType=\"application/ecmascript\" contentStyleType=\"text/css\" height=\"427px\" preserveAspectRatio=\"none\" style=\"width:823px;height:427px;\" version=\"1.1\" viewBox=\"0 0 823 427\" width=\"823px\" zoomAndPan=\"magnify\"><defs><filter height=\"300%\" id=\"f1qiq5sli2h83u\" width=\"300%\" x=\"-1\" y=\"-1\"><feGaussianBlur result=\"blurOut\" stdDeviation=\"2.0\"/><feColorMatrix in=\"blurOut\" result=\"blurOut2\" type=\"matrix\" values=\"0 0 0 0 0 0 0 0 0 0 0 0 0 0 0 0 0 0 .4 0\"/><feOffset dx=\"4.0\" dy=\"4.0\" in=\"blurOut2\" result=\"blurOut3\"/><feBlend in=\"SourceGraphic\" in2=\"blurOut3\" mode=\"normal\"/></filter></defs><g><!--MD5=[fbc87193dbaf4d95561dea2c320d4a47]\n",
       "cluster E1--><a href=\"psysml:62f2acf4-862e-4777-8380-6adbdab8aa3b\" target=\"_top\" title=\"psysml:62f2acf4-862e-4777-8380-6adbdab8aa3b\" xlink:actuate=\"onRequest\" xlink:href=\"psysml:62f2acf4-862e-4777-8380-6adbdab8aa3b\" xlink:show=\"new\" xlink:title=\"psysml:62f2acf4-862e-4777-8380-6adbdab8aa3b\" xlink:type=\"simple\"><polygon fill=\"#FFFFFF\" filter=\"url(#f1qiq5sli2h83u)\" points=\"16,6,136,6,143,28.2969,801,28.2969,801,415,16,415,16,6\" style=\"stroke: #000000; stroke-width: 1.5;\"/><line style=\"stroke: #000000; stroke-width: 1.5;\" x1=\"16\" x2=\"143\" y1=\"28.2969\" y2=\"28.2969\"/><text fill=\"#000000\" font-family=\"sans-serif\" font-size=\"14\" font-weight=\"bold\" lengthAdjust=\"spacingAndGlyphs\" textLength=\"114\" x=\"20\" y=\"20.9951\">ConjugationTest</text></a><!--MD5=[b4997ac47864f28c2f74865a473b2911]\n",
       "class E2--><a href=\"psysml:8038ba5e-65f3-4a7c-a5d9-05577a1e913e\" target=\"_top\" title=\"psysml:8038ba5e-65f3-4a7c-a5d9-05577a1e913e\" xlink:actuate=\"onRequest\" xlink:href=\"psysml:8038ba5e-65f3-4a7c-a5d9-05577a1e913e\" xlink:show=\"new\" xlink:title=\"psysml:8038ba5e-65f3-4a7c-a5d9-05577a1e913e\" xlink:type=\"simple\"><rect fill=\"#FEFECE\" filter=\"url(#f1qiq5sli2h83u)\" height=\"45.9375\" id=\"E2\" style=\"stroke: #A80036; stroke-width: 1.5;\" width=\"96\" x=\"275\" y=\"353\"/><ellipse cx=\"290\" cy=\"371.9688\" fill=\"#A52A2A\" rx=\"11\" ry=\"11\" style=\"stroke: #A80036; stroke-width: 1.0;\"/><path d=\"M287.2188,376.9688 L287.2188,366.375 L289.9531,366.375 Q291.3438,366.375 292.1094,366.7656 Q292.8906,367.1406 293.4219,367.8438 Q293.9531,368.5469 294.25,369.5469 Q294.5469,370.5313 294.5469,371.75 Q294.5,373.3438 294,374.5313 Q293.5156,375.7031 292.4688,376.3438 Q291.4375,376.9688 289.75,376.9688 L287.2188,376.9688 Z M289.0781,375.4688 L289.7031,375.4688 Q290.7813,375.4688 291.4375,375.0156 Q292.0938,374.5625 292.375,373.7344 Q292.6719,372.8906 292.6563,371.7656 Q292.6563,370.5938 292.4063,369.7344 Q292.1563,368.8594 291.5469,368.3906 Q290.9375,367.9063 289.8906,367.9063 L289.0781,367.9063 L289.0781,375.4688 Z \"/><text fill=\"#000000\" font-family=\"sans-serif\" font-size=\"12\" font-style=\"italic\" lengthAdjust=\"spacingAndGlyphs\" textLength=\"68\" x=\"302\" y=\"369.1387\">«port  def»</text><text fill=\"#000000\" font-family=\"sans-serif\" font-size=\"12\" lengthAdjust=\"spacingAndGlyphs\" textLength=\"8\" x=\"332\" y=\"383.1074\">P</text><line style=\"stroke: #A80036; stroke-width: 1.5;\" x1=\"276\" x2=\"370\" y1=\"390.9375\" y2=\"390.9375\"/></a><!--MD5=[09b614a08d8cba4a07c9adeb5e0fee81]\n",
       "class E3--><a href=\"psysml:eb00d253-98ff-4ea5-9d4b-40f483d849ec\" target=\"_top\" title=\"psysml:eb00d253-98ff-4ea5-9d4b-40f483d849ec\" xlink:actuate=\"onRequest\" xlink:href=\"psysml:eb00d253-98ff-4ea5-9d4b-40f483d849ec\" xlink:show=\"new\" xlink:title=\"psysml:eb00d253-98ff-4ea5-9d4b-40f483d849ec\" xlink:type=\"simple\"><rect fill=\"#FEFECE\" filter=\"url(#f1qiq5sli2h83u)\" height=\"40\" id=\"E3\" style=\"stroke: #A80036; stroke-width: 1.5;\" width=\"40\" x=\"672\" y=\"144\"/><ellipse cx=\"687\" cy=\"160\" fill=\"#008000\" rx=\"11\" ry=\"11\" style=\"stroke: #A80036; stroke-width: 1.0;\"/><path d=\"M683.875,165 L683.875,154.4063 L687.1094,154.4063 Q689.0156,154.4063 689.9219,155.1563 Q690.8438,155.9063 690.8438,157.0781 Q690.8438,157.7656 690.4531,158.4219 Q690.0781,159.0781 689.3594,159.375 Q690.2188,159.75 690.7344,160.4375 Q691.25,161.125 691.25,161.9375 Q691.25,163.3125 690.2188,164.1563 Q689.2031,165 687.0938,165 L683.875,165 Z M685.7969,158.6406 L686.9531,158.6406 Q688.0781,158.6406 688.4844,158.2656 Q688.9063,157.875 688.9063,157.25 Q688.9063,156.6719 688.4844,156.3125 Q688.0625,155.9531 687.125,155.9531 L685.7969,155.9531 L685.7969,158.6406 Z M685.7969,163.4219 L687.2969,163.4219 Q688.2031,163.4219 688.7344,163.0313 Q689.2656,162.6406 689.2656,161.8906 Q689.2656,161.125 688.7656,160.6563 Q688.2656,160.1719 687,160.1719 L685.7969,160.1719 L685.7969,163.4219 Z \"/><text fill=\"#000000\" font-family=\"sans-serif\" font-size=\"12\" lengthAdjust=\"spacingAndGlyphs\" textLength=\"8\" x=\"701\" y=\"164.1543\">B</text><line style=\"stroke: #A80036; stroke-width: 1.5;\" x1=\"673\" x2=\"711\" y1=\"176\" y2=\"176\"/></a><!--MD5=[ebbe1d658d1005bcc118a6aa81145e00]\n",
       "class E4--><a href=\"psysml:bd11b2df-eb92-4507-bbbb-c6493b57fcfa\" target=\"_top\" title=\"psysml:bd11b2df-eb92-4507-bbbb-c6493b57fcfa\" xlink:actuate=\"onRequest\" xlink:href=\"psysml:bd11b2df-eb92-4507-bbbb-c6493b57fcfa\" xlink:show=\"new\" xlink:title=\"psysml:bd11b2df-eb92-4507-bbbb-c6493b57fcfa\" xlink:type=\"simple\"><rect fill=\"#FEFECE\" filter=\"url(#f1qiq5sli2h83u)\" height=\"45.9375\" id=\"E4\" rx=\"10\" ry=\"10\" style=\"stroke: #A80036; stroke-width: 1.5;\" width=\"68\" x=\"604\" y=\"247\"/><ellipse cx=\"619\" cy=\"265.9688\" fill=\"#0000FF\" rx=\"11\" ry=\"11\" style=\"stroke: #A80036; stroke-width: 1.0;\"/><path d=\"M615.8125,270.9688 L615.8125,260.375 L619.4219,260.375 Q620.6406,260.375 621.4375,260.8125 Q622.2344,261.2344 622.6094,261.9375 Q623,262.6406 623,263.4844 Q623,264.3281 622.625,265.0156 Q622.2656,265.7031 621.4688,266.125 Q620.6875,266.5313 619.5,266.5313 L617.7656,266.5313 L617.7656,270.9688 L615.8125,270.9688 Z M617.7656,264.9375 L619.375,264.9375 Q620.1875,264.9375 620.6094,264.5313 Q621.0313,264.125 621.0313,263.4844 Q621.0313,262.8594 620.6094,262.4531 Q620.1875,262.0469 619.3906,262.0469 L617.7656,262.0469 L617.7656,264.9375 Z \"/><text fill=\"#000000\" font-family=\"sans-serif\" font-size=\"12\" font-style=\"italic\" lengthAdjust=\"spacingAndGlyphs\" textLength=\"40\" x=\"631\" y=\"263.1387\">«port»</text><text fill=\"#000000\" font-family=\"sans-serif\" font-size=\"12\" lengthAdjust=\"spacingAndGlyphs\" textLength=\"32\" x=\"633\" y=\"277.1074\">p1: P</text><line style=\"stroke: #A80036; stroke-width: 1.5;\" x1=\"605\" x2=\"671\" y1=\"284.9375\" y2=\"284.9375\"/></a><!--MD5=[270fce915f116d4de14055a7c1d9a0f3]\n",
       "class E5--><a href=\"psysml:0cbe2724-4b46-4325-902f-a8a483156696\" target=\"_top\" title=\"psysml:0cbe2724-4b46-4325-902f-a8a483156696\" xlink:actuate=\"onRequest\" xlink:href=\"psysml:0cbe2724-4b46-4325-902f-a8a483156696\" xlink:show=\"new\" xlink:title=\"psysml:0cbe2724-4b46-4325-902f-a8a483156696\" xlink:type=\"simple\"><rect fill=\"#FEFECE\" filter=\"url(#f1qiq5sli2h83u)\" height=\"45.9375\" id=\"E5\" rx=\"10\" ry=\"10\" style=\"stroke: #A80036; stroke-width: 1.5;\" width=\"78\" x=\"707\" y=\"247\"/><ellipse cx=\"722\" cy=\"265.9688\" fill=\"#0000FF\" rx=\"11\" ry=\"11\" style=\"stroke: #A80036; stroke-width: 1.0;\"/><path d=\"M718.8125,270.9688 L718.8125,260.375 L722.4219,260.375 Q723.6406,260.375 724.4375,260.8125 Q725.2344,261.2344 725.6094,261.9375 Q726,262.6406 726,263.4844 Q726,264.3281 725.625,265.0156 Q725.2656,265.7031 724.4688,266.125 Q723.6875,266.5313 722.5,266.5313 L720.7656,266.5313 L720.7656,270.9688 L718.8125,270.9688 Z M720.7656,264.9375 L722.375,264.9375 Q723.1875,264.9375 723.6094,264.5313 Q724.0313,264.125 724.0313,263.4844 Q724.0313,262.8594 723.6094,262.4531 Q723.1875,262.0469 722.3906,262.0469 L720.7656,262.0469 L720.7656,264.9375 Z \"/><text fill=\"#000000\" font-family=\"sans-serif\" font-size=\"12\" font-style=\"italic\" lengthAdjust=\"spacingAndGlyphs\" textLength=\"40\" x=\"739\" y=\"263.1387\">«port»</text><text fill=\"#000000\" font-family=\"sans-serif\" font-size=\"12\" lengthAdjust=\"spacingAndGlyphs\" textLength=\"42\" x=\"736\" y=\"277.1074\">p2: ~P</text><line style=\"stroke: #A80036; stroke-width: 1.5;\" x1=\"708\" x2=\"784\" y1=\"284.9375\" y2=\"284.9375\"/></a><!--MD5=[60a26617385b1d2d0262a64233df1f8d]\n",
       "class E6--><a href=\"psysml:c9adf55d-1d58-41e7-9c8f-305f1a380a4f\" target=\"_top\" title=\"psysml:c9adf55d-1d58-41e7-9c8f-305f1a380a4f\" xlink:actuate=\"onRequest\" xlink:href=\"psysml:c9adf55d-1d58-41e7-9c8f-305f1a380a4f\" xlink:show=\"new\" xlink:title=\"psysml:c9adf55d-1d58-41e7-9c8f-305f1a380a4f\" xlink:type=\"simple\"><rect fill=\"#FEFECE\" filter=\"url(#f1qiq5sli2h83u)\" height=\"40\" id=\"E6\" style=\"stroke: #A80036; stroke-width: 1.5;\" width=\"40\" x=\"456\" y=\"144\"/><ellipse cx=\"471\" cy=\"160\" fill=\"#008000\" rx=\"11\" ry=\"11\" style=\"stroke: #A80036; stroke-width: 1.0;\"/><path d=\"M467.875,165 L467.875,154.4063 L471.1094,154.4063 Q473.0156,154.4063 473.9219,155.1563 Q474.8438,155.9063 474.8438,157.0781 Q474.8438,157.7656 474.4531,158.4219 Q474.0781,159.0781 473.3594,159.375 Q474.2188,159.75 474.7344,160.4375 Q475.25,161.125 475.25,161.9375 Q475.25,163.3125 474.2188,164.1563 Q473.2031,165 471.0938,165 L467.875,165 Z M469.7969,158.6406 L470.9531,158.6406 Q472.0781,158.6406 472.4844,158.2656 Q472.9063,157.875 472.9063,157.25 Q472.9063,156.6719 472.4844,156.3125 Q472.0625,155.9531 471.125,155.9531 L469.7969,155.9531 L469.7969,158.6406 Z M469.7969,163.4219 L471.2969,163.4219 Q472.2031,163.4219 472.7344,163.0313 Q473.2656,162.6406 473.2656,161.8906 Q473.2656,161.125 472.7656,160.6563 Q472.2656,160.1719 471,160.1719 L469.7969,160.1719 L469.7969,163.4219 Z \"/><text fill=\"#000000\" font-family=\"sans-serif\" font-size=\"12\" lengthAdjust=\"spacingAndGlyphs\" textLength=\"8\" x=\"485\" y=\"164.1543\">A</text><line style=\"stroke: #A80036; stroke-width: 1.5;\" x1=\"457\" x2=\"495\" y1=\"176\" y2=\"176\"/></a><!--MD5=[2156ba9850f5573cc1fc38a6a4b2f02b]\n",
       "class E7--><a href=\"psysml:62009ff7-c341-4e72-a056-ce92de09505b\" target=\"_top\" title=\"psysml:62009ff7-c341-4e72-a056-ce92de09505b\" xlink:actuate=\"onRequest\" xlink:href=\"psysml:62009ff7-c341-4e72-a056-ce92de09505b\" xlink:show=\"new\" xlink:title=\"psysml:62009ff7-c341-4e72-a056-ce92de09505b\" xlink:type=\"simple\"><rect fill=\"#FEFECE\" filter=\"url(#f1qiq5sli2h83u)\" height=\"45.9375\" id=\"E7\" rx=\"10\" ry=\"10\" style=\"stroke: #A80036; stroke-width: 1.5;\" width=\"68\" x=\"388\" y=\"247\"/><ellipse cx=\"403\" cy=\"265.9688\" fill=\"#0000FF\" rx=\"11\" ry=\"11\" style=\"stroke: #A80036; stroke-width: 1.0;\"/><path d=\"M399.8125,270.9688 L399.8125,260.375 L403.4219,260.375 Q404.6406,260.375 405.4375,260.8125 Q406.2344,261.2344 406.6094,261.9375 Q407,262.6406 407,263.4844 Q407,264.3281 406.625,265.0156 Q406.2656,265.7031 405.4688,266.125 Q404.6875,266.5313 403.5,266.5313 L401.7656,266.5313 L401.7656,270.9688 L399.8125,270.9688 Z M401.7656,264.9375 L403.375,264.9375 Q404.1875,264.9375 404.6094,264.5313 Q405.0313,264.125 405.0313,263.4844 Q405.0313,262.8594 404.6094,262.4531 Q404.1875,262.0469 403.3906,262.0469 L401.7656,262.0469 L401.7656,264.9375 Z \"/><text fill=\"#000000\" font-family=\"sans-serif\" font-size=\"12\" font-style=\"italic\" lengthAdjust=\"spacingAndGlyphs\" textLength=\"40\" x=\"415\" y=\"263.1387\">«port»</text><text fill=\"#000000\" font-family=\"sans-serif\" font-size=\"12\" lengthAdjust=\"spacingAndGlyphs\" textLength=\"32\" x=\"417\" y=\"277.1074\">p1: P</text><line style=\"stroke: #A80036; stroke-width: 1.5;\" x1=\"389\" x2=\"455\" y1=\"284.9375\" y2=\"284.9375\"/></a><!--MD5=[b9389687b975829384b498ac4b7476b2]\n",
       "class E8--><a href=\"psysml:50db7d15-a467-4fc6-8fb9-d943e9708b48\" target=\"_top\" title=\"psysml:50db7d15-a467-4fc6-8fb9-d943e9708b48\" xlink:actuate=\"onRequest\" xlink:href=\"psysml:50db7d15-a467-4fc6-8fb9-d943e9708b48\" xlink:show=\"new\" xlink:title=\"psysml:50db7d15-a467-4fc6-8fb9-d943e9708b48\" xlink:type=\"simple\"><rect fill=\"#FEFECE\" filter=\"url(#f1qiq5sli2h83u)\" height=\"45.9375\" id=\"E8\" rx=\"10\" ry=\"10\" style=\"stroke: #A80036; stroke-width: 1.5;\" width=\"78\" x=\"491\" y=\"247\"/><ellipse cx=\"506\" cy=\"265.9688\" fill=\"#0000FF\" rx=\"11\" ry=\"11\" style=\"stroke: #A80036; stroke-width: 1.0;\"/><path d=\"M502.8125,270.9688 L502.8125,260.375 L506.4219,260.375 Q507.6406,260.375 508.4375,260.8125 Q509.2344,261.2344 509.6094,261.9375 Q510,262.6406 510,263.4844 Q510,264.3281 509.625,265.0156 Q509.2656,265.7031 508.4688,266.125 Q507.6875,266.5313 506.5,266.5313 L504.7656,266.5313 L504.7656,270.9688 L502.8125,270.9688 Z M504.7656,264.9375 L506.375,264.9375 Q507.1875,264.9375 507.6094,264.5313 Q508.0313,264.125 508.0313,263.4844 Q508.0313,262.8594 507.6094,262.4531 Q507.1875,262.0469 506.3906,262.0469 L504.7656,262.0469 L504.7656,264.9375 Z \"/><text fill=\"#000000\" font-family=\"sans-serif\" font-size=\"12\" font-style=\"italic\" lengthAdjust=\"spacingAndGlyphs\" textLength=\"40\" x=\"523\" y=\"263.1387\">«port»</text><text fill=\"#000000\" font-family=\"sans-serif\" font-size=\"12\" lengthAdjust=\"spacingAndGlyphs\" textLength=\"42\" x=\"520\" y=\"277.1074\">p2: ~P</text><line style=\"stroke: #A80036; stroke-width: 1.5;\" x1=\"492\" x2=\"568\" y1=\"284.9375\" y2=\"284.9375\"/></a><!--MD5=[fd4143e9d270a159db93a4ea2a975926]\n",
       "class E9--><a href=\"psysml:909b1fdd-cad7-4fe7-8f0f-a5ae3fa3dd03\" target=\"_top\" title=\"psysml:909b1fdd-cad7-4fe7-8f0f-a5ae3fa3dd03\" xlink:actuate=\"onRequest\" xlink:href=\"psysml:909b1fdd-cad7-4fe7-8f0f-a5ae3fa3dd03\" xlink:show=\"new\" xlink:title=\"psysml:909b1fdd-cad7-4fe7-8f0f-a5ae3fa3dd03\" xlink:type=\"simple\"><rect fill=\"#FEFECE\" filter=\"url(#f1qiq5sli2h83u)\" height=\"40\" id=\"E9\" style=\"stroke: #A80036; stroke-width: 1.5;\" width=\"35\" x=\"242.5\" y=\"144\"/><ellipse cx=\"257.5\" cy=\"160\" fill=\"#008000\" rx=\"11\" ry=\"11\" style=\"stroke: #A80036; stroke-width: 1.0;\"/><path d=\"M254.375,165 L254.375,154.4063 L257.6094,154.4063 Q259.5156,154.4063 260.4219,155.1563 Q261.3438,155.9063 261.3438,157.0781 Q261.3438,157.7656 260.9531,158.4219 Q260.5781,159.0781 259.8594,159.375 Q260.7188,159.75 261.2344,160.4375 Q261.75,161.125 261.75,161.9375 Q261.75,163.3125 260.7188,164.1563 Q259.7031,165 257.5938,165 L254.375,165 Z M256.2969,158.6406 L257.4531,158.6406 Q258.5781,158.6406 258.9844,158.2656 Q259.4063,157.875 259.4063,157.25 Q259.4063,156.6719 258.9844,156.3125 Q258.5625,155.9531 257.625,155.9531 L256.2969,155.9531 L256.2969,158.6406 Z M256.2969,163.4219 L257.7969,163.4219 Q258.7031,163.4219 259.2344,163.0313 Q259.7656,162.6406 259.7656,161.8906 Q259.7656,161.125 259.2656,160.6563 Q258.7656,160.1719 257.5,160.1719 L256.2969,160.1719 L256.2969,163.4219 Z \"/><text fill=\"#000000\" font-family=\"sans-serif\" font-size=\"12\" lengthAdjust=\"spacingAndGlyphs\" textLength=\"3\" x=\"271.5\" y=\"164.1543\">I</text><line style=\"stroke: #A80036; stroke-width: 1.5;\" x1=\"243.5\" x2=\"276.5\" y1=\"176\" y2=\"176\"/></a><!--MD5=[96f4274e9e20536e775497830990834d]\n",
       "class E10--><a href=\"psysml:4b05cf72-e027-47da-9c90-b867da4c93e0\" target=\"_top\" title=\"psysml:4b05cf72-e027-47da-9c90-b867da4c93e0\" xlink:actuate=\"onRequest\" xlink:href=\"psysml:4b05cf72-e027-47da-9c90-b867da4c93e0\" xlink:show=\"new\" xlink:title=\"psysml:4b05cf72-e027-47da-9c90-b867da4c93e0\" xlink:type=\"simple\"><rect fill=\"#FEFECE\" filter=\"url(#f1qiq5sli2h83u)\" height=\"45.9375\" id=\"E10\" rx=\"10\" ry=\"10\" style=\"stroke: #A80036; stroke-width: 1.5;\" width=\"68\" x=\"172\" y=\"247\"/><ellipse cx=\"187\" cy=\"265.9688\" fill=\"#0000FF\" rx=\"11\" ry=\"11\" style=\"stroke: #A80036; stroke-width: 1.0;\"/><path d=\"M183.8125,270.9688 L183.8125,260.375 L187.4219,260.375 Q188.6406,260.375 189.4375,260.8125 Q190.2344,261.2344 190.6094,261.9375 Q191,262.6406 191,263.4844 Q191,264.3281 190.625,265.0156 Q190.2656,265.7031 189.4688,266.125 Q188.6875,266.5313 187.5,266.5313 L185.7656,266.5313 L185.7656,270.9688 L183.8125,270.9688 Z M185.7656,264.9375 L187.375,264.9375 Q188.1875,264.9375 188.6094,264.5313 Q189.0313,264.125 189.0313,263.4844 Q189.0313,262.8594 188.6094,262.4531 Q188.1875,262.0469 187.3906,262.0469 L185.7656,262.0469 L185.7656,264.9375 Z \"/><text fill=\"#000000\" font-family=\"sans-serif\" font-size=\"12\" font-style=\"italic\" lengthAdjust=\"spacingAndGlyphs\" textLength=\"40\" x=\"199\" y=\"263.1387\">«port»</text><text fill=\"#000000\" font-family=\"sans-serif\" font-size=\"12\" lengthAdjust=\"spacingAndGlyphs\" textLength=\"32\" x=\"201\" y=\"277.1074\">p1: P</text><line style=\"stroke: #A80036; stroke-width: 1.5;\" x1=\"173\" x2=\"239\" y1=\"284.9375\" y2=\"284.9375\"/></a><!--MD5=[1dd1bfd58a279cf63c5f349dbc8fc6a1]\n",
       "class E11--><a href=\"psysml:0c24ab80-75a0-44e9-976a-962e4e9af685\" target=\"_top\" title=\"psysml:0c24ab80-75a0-44e9-976a-962e4e9af685\" xlink:actuate=\"onRequest\" xlink:href=\"psysml:0c24ab80-75a0-44e9-976a-962e4e9af685\" xlink:show=\"new\" xlink:title=\"psysml:0c24ab80-75a0-44e9-976a-962e4e9af685\" xlink:type=\"simple\"><rect fill=\"#FEFECE\" filter=\"url(#f1qiq5sli2h83u)\" height=\"45.9375\" id=\"E11\" rx=\"10\" ry=\"10\" style=\"stroke: #A80036; stroke-width: 1.5;\" width=\"78\" x=\"275\" y=\"247\"/><ellipse cx=\"290\" cy=\"265.9688\" fill=\"#0000FF\" rx=\"11\" ry=\"11\" style=\"stroke: #A80036; stroke-width: 1.0;\"/><path d=\"M286.8125,270.9688 L286.8125,260.375 L290.4219,260.375 Q291.6406,260.375 292.4375,260.8125 Q293.2344,261.2344 293.6094,261.9375 Q294,262.6406 294,263.4844 Q294,264.3281 293.625,265.0156 Q293.2656,265.7031 292.4688,266.125 Q291.6875,266.5313 290.5,266.5313 L288.7656,266.5313 L288.7656,270.9688 L286.8125,270.9688 Z M288.7656,264.9375 L290.375,264.9375 Q291.1875,264.9375 291.6094,264.5313 Q292.0313,264.125 292.0313,263.4844 Q292.0313,262.8594 291.6094,262.4531 Q291.1875,262.0469 290.3906,262.0469 L288.7656,262.0469 L288.7656,264.9375 Z \"/><text fill=\"#000000\" font-family=\"sans-serif\" font-size=\"12\" font-style=\"italic\" lengthAdjust=\"spacingAndGlyphs\" textLength=\"40\" x=\"307\" y=\"263.1387\">«port»</text><text fill=\"#000000\" font-family=\"sans-serif\" font-size=\"12\" lengthAdjust=\"spacingAndGlyphs\" textLength=\"42\" x=\"304\" y=\"277.1074\">p2: ~P</text><line style=\"stroke: #A80036; stroke-width: 1.5;\" x1=\"276\" x2=\"352\" y1=\"284.9375\" y2=\"284.9375\"/></a><!--MD5=[49a0ec8f00dab7302a31f22d0f0fe584]\n",
       "class E12--><a href=\"psysml:c2ec72d4-85fe-4c8d-a549-b327df7a4c85\" target=\"_top\" title=\"psysml:c2ec72d4-85fe-4c8d-a549-b327df7a4c85\" xlink:actuate=\"onRequest\" xlink:href=\"psysml:c2ec72d4-85fe-4c8d-a549-b327df7a4c85\" xlink:show=\"new\" xlink:title=\"psysml:c2ec72d4-85fe-4c8d-a549-b327df7a4c85\" xlink:type=\"simple\"><rect fill=\"#FEFECE\" filter=\"url(#f1qiq5sli2h83u)\" height=\"40\" id=\"E12\" style=\"stroke: #A80036; stroke-width: 1.5;\" width=\"48\" x=\"60\" y=\"41\"/><ellipse cx=\"75\" cy=\"57\" fill=\"#008000\" rx=\"11\" ry=\"11\" style=\"stroke: #A80036; stroke-width: 1.0;\"/><path d=\"M71.875,62 L71.875,51.4063 L75.1094,51.4063 Q77.0156,51.4063 77.9219,52.1563 Q78.8438,52.9063 78.8438,54.0781 Q78.8438,54.7656 78.4531,55.4219 Q78.0781,56.0781 77.3594,56.375 Q78.2188,56.75 78.7344,57.4375 Q79.25,58.125 79.25,58.9375 Q79.25,60.3125 78.2188,61.1563 Q77.2031,62 75.0938,62 L71.875,62 Z M73.7969,55.6406 L74.9531,55.6406 Q76.0781,55.6406 76.4844,55.2656 Q76.9063,54.875 76.9063,54.25 Q76.9063,53.6719 76.4844,53.3125 Q76.0625,52.9531 75.125,52.9531 L73.7969,52.9531 L73.7969,55.6406 Z M73.7969,60.4219 L75.2969,60.4219 Q76.2031,60.4219 76.7344,60.0313 Q77.2656,59.6406 77.2656,58.8906 Q77.2656,58.125 76.7656,57.6563 Q76.2656,57.1719 75,57.1719 L73.7969,57.1719 L73.7969,60.4219 Z \"/><text fill=\"#000000\" font-family=\"sans-serif\" font-size=\"12\" lengthAdjust=\"spacingAndGlyphs\" textLength=\"16\" x=\"89\" y=\"61.1543\">B1</text><line style=\"stroke: #A80036; stroke-width: 1.5;\" x1=\"61\" x2=\"107\" y1=\"73\" y2=\"73\"/></a><!--MD5=[ee3c913d1a06f366521f9ef512b67efe]\n",
       "class E13--><a href=\"psysml:bf56b714-b103-43c5-844a-64ae22bea297\" target=\"_top\" title=\"psysml:bf56b714-b103-43c5-844a-64ae22bea297\" xlink:actuate=\"onRequest\" xlink:href=\"psysml:bf56b714-b103-43c5-844a-64ae22bea297\" xlink:show=\"new\" xlink:title=\"psysml:bf56b714-b103-43c5-844a-64ae22bea297\" xlink:type=\"simple\"><rect fill=\"#FEFECE\" filter=\"url(#f1qiq5sli2h83u)\" height=\"45.9375\" id=\"E13\" rx=\"10\" ry=\"10\" style=\"stroke: #A80036; stroke-width: 1.5;\" width=\"68\" x=\"50\" y=\"141\"/><ellipse cx=\"65\" cy=\"159.9688\" fill=\"#32CD32\" rx=\"11\" ry=\"11\" style=\"stroke: #A80036; stroke-width: 1.0;\"/><path d=\"M61.8125,164.9688 L61.8125,154.375 L65.4219,154.375 Q66.6406,154.375 67.4375,154.8125 Q68.2344,155.2344 68.6094,155.9375 Q69,156.6406 69,157.4844 Q69,158.3281 68.625,159.0156 Q68.2656,159.7031 67.4688,160.125 Q66.6875,160.5313 65.5,160.5313 L63.7656,160.5313 L63.7656,164.9688 L61.8125,164.9688 Z M63.7656,158.9375 L65.375,158.9375 Q66.1875,158.9375 66.6094,158.5313 Q67.0313,158.125 67.0313,157.4844 Q67.0313,156.8594 66.6094,156.4531 Q66.1875,156.0469 65.3906,156.0469 L63.7656,156.0469 L63.7656,158.9375 Z \"/><text fill=\"#000000\" font-family=\"sans-serif\" font-size=\"12\" font-style=\"italic\" lengthAdjust=\"spacingAndGlyphs\" textLength=\"40\" x=\"77\" y=\"157.1387\">«part»</text><text fill=\"#000000\" font-family=\"sans-serif\" font-size=\"12\" lengthAdjust=\"spacingAndGlyphs\" textLength=\"8\" x=\"91\" y=\"171.1074\">p</text><line style=\"stroke: #A80036; stroke-width: 1.5;\" x1=\"51\" x2=\"117\" y1=\"178.9375\" y2=\"178.9375\"/></a><!--MD5=[bee11217b2f71d958a27249dc326068c]\n",
       "class E14--><a href=\"psysml:b5c2279c-6642-492b-a6cf-19efab06e689\" target=\"_top\" title=\"psysml:b5c2279c-6642-492b-a6cf-19efab06e689\" xlink:actuate=\"onRequest\" xlink:href=\"psysml:b5c2279c-6642-492b-a6cf-19efab06e689\" xlink:show=\"new\" xlink:title=\"psysml:b5c2279c-6642-492b-a6cf-19efab06e689\" xlink:type=\"simple\"><rect fill=\"#FEFECE\" filter=\"url(#f1qiq5sli2h83u)\" height=\"45.9375\" id=\"E14\" rx=\"10\" ry=\"10\" style=\"stroke: #A80036; stroke-width: 1.5;\" width=\"68\" x=\"69\" y=\"247\"/><ellipse cx=\"84\" cy=\"265.9688\" fill=\"#0000FF\" rx=\"11\" ry=\"11\" style=\"stroke: #A80036; stroke-width: 1.0;\"/><path d=\"M80.8125,270.9688 L80.8125,260.375 L84.4219,260.375 Q85.6406,260.375 86.4375,260.8125 Q87.2344,261.2344 87.6094,261.9375 Q88,262.6406 88,263.4844 Q88,264.3281 87.625,265.0156 Q87.2656,265.7031 86.4688,266.125 Q85.6875,266.5313 84.5,266.5313 L82.7656,266.5313 L82.7656,270.9688 L80.8125,270.9688 Z M82.7656,264.9375 L84.375,264.9375 Q85.1875,264.9375 85.6094,264.5313 Q86.0313,264.125 86.0313,263.4844 Q86.0313,262.8594 85.6094,262.4531 Q85.1875,262.0469 84.3906,262.0469 L82.7656,262.0469 L82.7656,264.9375 Z \"/><text fill=\"#000000\" font-family=\"sans-serif\" font-size=\"12\" font-style=\"italic\" lengthAdjust=\"spacingAndGlyphs\" textLength=\"40\" x=\"96\" y=\"263.1387\">«port»</text><text fill=\"#000000\" font-family=\"sans-serif\" font-size=\"12\" lengthAdjust=\"spacingAndGlyphs\" textLength=\"32\" x=\"98\" y=\"277.1074\">p1: P</text><line style=\"stroke: #A80036; stroke-width: 1.5;\" x1=\"70\" x2=\"136\" y1=\"284.9375\" y2=\"284.9375\"/></a><!--MD5=[0c48fb7552dae8cbbef69381101a84c8]\n",
       "class E15--><a href=\"psysml:ed6b3600-9f65-4ffd-a058-1200daf10699\" target=\"_top\" title=\"psysml:ed6b3600-9f65-4ffd-a058-1200daf10699\" xlink:actuate=\"onRequest\" xlink:href=\"psysml:ed6b3600-9f65-4ffd-a058-1200daf10699\" xlink:show=\"new\" xlink:title=\"psysml:ed6b3600-9f65-4ffd-a058-1200daf10699\" xlink:type=\"simple\"><rect fill=\"#FEFECE\" filter=\"url(#f1qiq5sli2h83u)\" height=\"45.9375\" id=\"E15\" rx=\"10\" ry=\"10\" style=\"stroke: #A80036; stroke-width: 1.5;\" width=\"78\" x=\"64\" y=\"353\"/><ellipse cx=\"79\" cy=\"371.9688\" fill=\"#0000FF\" rx=\"11\" ry=\"11\" style=\"stroke: #A80036; stroke-width: 1.0;\"/><path d=\"M75.8125,376.9688 L75.8125,366.375 L79.4219,366.375 Q80.6406,366.375 81.4375,366.8125 Q82.2344,367.2344 82.6094,367.9375 Q83,368.6406 83,369.4844 Q83,370.3281 82.625,371.0156 Q82.2656,371.7031 81.4688,372.125 Q80.6875,372.5313 79.5,372.5313 L77.7656,372.5313 L77.7656,376.9688 L75.8125,376.9688 Z M77.7656,370.9375 L79.375,370.9375 Q80.1875,370.9375 80.6094,370.5313 Q81.0313,370.125 81.0313,369.4844 Q81.0313,368.8594 80.6094,368.4531 Q80.1875,368.0469 79.3906,368.0469 L77.7656,368.0469 L77.7656,370.9375 Z \"/><text fill=\"#000000\" font-family=\"sans-serif\" font-size=\"12\" font-style=\"italic\" lengthAdjust=\"spacingAndGlyphs\" textLength=\"40\" x=\"96\" y=\"369.1387\">«port»</text><text fill=\"#000000\" font-family=\"sans-serif\" font-size=\"12\" lengthAdjust=\"spacingAndGlyphs\" textLength=\"42\" x=\"93\" y=\"383.1074\">p2: ~P</text><line style=\"stroke: #A80036; stroke-width: 1.5;\" x1=\"65\" x2=\"141\" y1=\"390.9375\" y2=\"390.9375\"/></a><!--MD5=[4672eba38e49728da53d11aeb285b987]\n",
       "reverse link E3 to E4--><a href=\"psysml:301fc48c-20ce-4bfe-ac1d-96f5db6094d0\" target=\"_top\" title=\"psysml:301fc48c-20ce-4bfe-ac1d-96f5db6094d0\" xlink:actuate=\"onRequest\" xlink:href=\"psysml:301fc48c-20ce-4bfe-ac1d-96f5db6094d0\" xlink:show=\"new\" xlink:title=\"psysml:301fc48c-20ce-4bfe-ac1d-96f5db6094d0\" xlink:type=\"simple\"><path d=\"M676.01,195.8 C667.5,212.18 657.24,231.94 649.53,246.8 \" fill=\"none\" id=\"E3&lt;-E4\" style=\"stroke: #A80036; stroke-width: 1.0;\"/><polygon fill=\"#FFFFFF\" points=\"682.1,184.08,675.7852,187.5618,676.5704,194.7301,682.8852,191.2482,682.1,184.08\" style=\"stroke: #A80036; stroke-width: 1.0;\"/><text fill=\"#000000\" font-family=\"sans-serif\" font-size=\"13\" lengthAdjust=\"spacingAndGlyphs\" textLength=\"8\" x=\"643.4596\" y=\"236.025\">1</text></a><!--MD5=[185131fc0dcab0a4505a2ebe144e961b]\n",
       "link E4 to E2--><a href=\"psysml:2658e44c-8270-4dd2-9600-daf649b69d41\" target=\"_top\" title=\"psysml:2658e44c-8270-4dd2-9600-daf649b69d41\" xlink:actuate=\"onRequest\" xlink:href=\"psysml:2658e44c-8270-4dd2-9600-daf649b69d41\" xlink:show=\"new\" xlink:title=\"psysml:2658e44c-8270-4dd2-9600-daf649b69d41\" xlink:type=\"simple\"><path d=\"M603.91,286.3 C598.3,288.64 592.52,290.96 587,293 C521.14,317.36 444.33,340.66 390.6,356.15 \" fill=\"none\" id=\"E4-&gt;E2\" style=\"stroke: #A80036; stroke-width: 1.0;\"/><polygon fill=\"#FFFFFF\" points=\"371.2,361.69,387.5424,349.7348,391.3924,363.195,371.2,361.69\" style=\"stroke: #A80036; stroke-width: 1.0;\"/><ellipse cx=\"393.5726\" cy=\"350.0902\" fill=\"#A80036\" rx=\"2\" ry=\"2\" style=\"stroke: #A80036; stroke-width: 1.0;\"/><ellipse cx=\"396.3227\" cy=\"359.7046\" fill=\"#A80036\" rx=\"2\" ry=\"2\" style=\"stroke: #A80036; stroke-width: 1.0;\"/></a><!--MD5=[191cde3d490a3f6d7bb551fe3ddca469]\n",
       "reverse link E3 to E5--><a href=\"psysml:223fd842-0df9-4bd0-ad12-80c4696f3c55\" target=\"_top\" title=\"psysml:223fd842-0df9-4bd0-ad12-80c4696f3c55\" xlink:actuate=\"onRequest\" xlink:href=\"psysml:223fd842-0df9-4bd0-ad12-80c4696f3c55\" xlink:show=\"new\" xlink:title=\"psysml:223fd842-0df9-4bd0-ad12-80c4696f3c55\" xlink:type=\"simple\"><path d=\"M707.99,195.8 C716.5,212.18 726.76,231.94 734.47,246.8 \" fill=\"none\" id=\"E3&lt;-E5\" style=\"stroke: #A80036; stroke-width: 1.0;\"/><polygon fill=\"#FFFFFF\" points=\"701.9,184.08,701.1148,191.2482,707.4296,194.7301,708.2148,187.5618,701.9,184.08\" style=\"stroke: #A80036; stroke-width: 1.0;\"/><text fill=\"#000000\" font-family=\"sans-serif\" font-size=\"13\" lengthAdjust=\"spacingAndGlyphs\" textLength=\"8\" x=\"722.4904\" y=\"236.025\">1</text></a><!--MD5=[3f50a3473f1dfb74d3f76443e03635af]\n",
       "reverse link E6 to E7--><a href=\"psysml:21746d6a-6182-4390-ad27-ac5c9b62bfbf\" target=\"_top\" title=\"psysml:21746d6a-6182-4390-ad27-ac5c9b62bfbf\" xlink:actuate=\"onRequest\" xlink:href=\"psysml:21746d6a-6182-4390-ad27-ac5c9b62bfbf\" xlink:show=\"new\" xlink:title=\"psysml:21746d6a-6182-4390-ad27-ac5c9b62bfbf\" xlink:type=\"simple\"><path d=\"M460.01,195.8 C451.5,212.18 441.24,231.94 433.53,246.8 \" fill=\"none\" id=\"E6&lt;-E7\" style=\"stroke: #A80036; stroke-width: 1.0;\"/><polygon fill=\"#FFFFFF\" points=\"466.1,184.08,459.7852,187.5618,460.5704,194.7301,466.8852,191.2482,466.1,184.08\" style=\"stroke: #A80036; stroke-width: 1.0;\"/><text fill=\"#000000\" font-family=\"sans-serif\" font-size=\"13\" lengthAdjust=\"spacingAndGlyphs\" textLength=\"8\" x=\"427.4596\" y=\"236.025\">1</text></a><!--MD5=[583832df87f4419a098336a29a52fa00]\n",
       "link E7 to E2--><a href=\"psysml:ac292376-6896-4173-b580-fb46e7ca2b11\" target=\"_top\" title=\"psysml:ac292376-6896-4173-b580-fb46e7ca2b11\" xlink:actuate=\"onRequest\" xlink:href=\"psysml:ac292376-6896-4173-b580-fb46e7ca2b11\" xlink:show=\"new\" xlink:title=\"psysml:ac292376-6896-4173-b580-fb46e7ca2b11\" xlink:type=\"simple\"><path d=\"M401,293.06 C388.54,306.15 372.41,323.1 358.05,338.18 \" fill=\"none\" id=\"E7-&gt;E2\" style=\"stroke: #A80036; stroke-width: 1.0;\"/><polygon fill=\"#FFFFFF\" points=\"343.97,352.98,352.0072,334.395,362.1437,344.0517,343.97,352.98\" style=\"stroke: #A80036; stroke-width: 1.0;\"/><ellipse cx=\"357.3869\" cy=\"331.6475\" fill=\"#A80036\" rx=\"2\" ry=\"2\" style=\"stroke: #A80036; stroke-width: 1.0;\"/><ellipse cx=\"364.6273\" cy=\"338.5451\" fill=\"#A80036\" rx=\"2\" ry=\"2\" style=\"stroke: #A80036; stroke-width: 1.0;\"/></a><!--MD5=[f4cf0736d43fd73c4ef68817c49d37d5]\n",
       "reverse link E6 to E8--><a href=\"psysml:0a911d69-2e8c-46c6-ac57-f08740e1c2a7\" target=\"_top\" title=\"psysml:0a911d69-2e8c-46c6-ac57-f08740e1c2a7\" xlink:actuate=\"onRequest\" xlink:href=\"psysml:0a911d69-2e8c-46c6-ac57-f08740e1c2a7\" xlink:show=\"new\" xlink:title=\"psysml:0a911d69-2e8c-46c6-ac57-f08740e1c2a7\" xlink:type=\"simple\"><path d=\"M491.99,195.8 C500.5,212.18 510.76,231.94 518.47,246.8 \" fill=\"none\" id=\"E6&lt;-E8\" style=\"stroke: #A80036; stroke-width: 1.0;\"/><polygon fill=\"#FFFFFF\" points=\"485.9,184.08,485.1148,191.2482,491.4296,194.7301,492.2148,187.5618,485.9,184.08\" style=\"stroke: #A80036; stroke-width: 1.0;\"/><text fill=\"#000000\" font-family=\"sans-serif\" font-size=\"13\" lengthAdjust=\"spacingAndGlyphs\" textLength=\"8\" x=\"506.4904\" y=\"236.025\">1</text></a><!--MD5=[23ac544a70576c3e717098101004234c]\n",
       "reverse link E9 to E10--><a href=\"psysml:7a6ef9a5-ee54-4bad-bee0-b6cd150b3ba6\" target=\"_top\" title=\"psysml:7a6ef9a5-ee54-4bad-bee0-b6cd150b3ba6\" xlink:actuate=\"onRequest\" xlink:href=\"psysml:7a6ef9a5-ee54-4bad-bee0-b6cd150b3ba6\" xlink:show=\"new\" xlink:title=\"psysml:7a6ef9a5-ee54-4bad-bee0-b6cd150b3ba6\" xlink:type=\"simple\"><path d=\"M244.01,195.8 C235.5,212.18 225.24,231.94 217.53,246.8 \" fill=\"none\" id=\"E9&lt;-E10\" style=\"stroke: #A80036; stroke-width: 1.0;\"/><polygon fill=\"#FFFFFF\" points=\"250.1,184.08,243.7852,187.5618,244.5704,194.7301,250.8852,191.2482,250.1,184.08\" style=\"stroke: #A80036; stroke-width: 1.0;\"/><text fill=\"#000000\" font-family=\"sans-serif\" font-size=\"13\" lengthAdjust=\"spacingAndGlyphs\" textLength=\"8\" x=\"211.4596\" y=\"236.025\">1</text></a><!--MD5=[0f36bececdf0dff6e600d6f64214b0f1]\n",
       "link E10 to E2--><a href=\"psysml:1b1dbb40-b684-43d5-9e90-095d8f580599\" target=\"_top\" title=\"psysml:1b1dbb40-b684-43d5-9e90-095d8f580599\" xlink:actuate=\"onRequest\" xlink:href=\"psysml:1b1dbb40-b684-43d5-9e90-095d8f580599\" xlink:show=\"new\" xlink:title=\"psysml:1b1dbb40-b684-43d5-9e90-095d8f580599\" xlink:type=\"simple\"><path d=\"M230.81,293.06 C246.01,306.57 265.82,324.17 283.18,339.6 \" fill=\"none\" id=\"E10-&gt;E2\" style=\"stroke: #A80036; stroke-width: 1.0;\"/><polygon fill=\"#FFFFFF\" points=\"298.22,352.98,279.3735,345.5767,288.6814,335.119,298.22,352.98\" style=\"stroke: #A80036; stroke-width: 1.0;\"/><ellipse cx=\"276.4454\" cy=\"340.2931\" fill=\"#A80036\" rx=\"2\" ry=\"2\" style=\"stroke: #A80036; stroke-width: 1.0;\"/><ellipse cx=\"283.094\" cy=\"332.8233\" fill=\"#A80036\" rx=\"2\" ry=\"2\" style=\"stroke: #A80036; stroke-width: 1.0;\"/></a><!--MD5=[1fc04a95fd77ad5ce46c1a3027516051]\n",
       "reverse link E9 to E11--><a href=\"psysml:26e0bda0-b5f1-463e-8de4-6289f85dc961\" target=\"_top\" title=\"psysml:26e0bda0-b5f1-463e-8de4-6289f85dc961\" xlink:actuate=\"onRequest\" xlink:href=\"psysml:26e0bda0-b5f1-463e-8de4-6289f85dc961\" xlink:show=\"new\" xlink:title=\"psysml:26e0bda0-b5f1-463e-8de4-6289f85dc961\" xlink:type=\"simple\"><path d=\"M275.99,195.8 C284.5,212.18 294.76,231.94 302.47,246.8 \" fill=\"none\" id=\"E9&lt;-E11\" style=\"stroke: #A80036; stroke-width: 1.0;\"/><polygon fill=\"#FFFFFF\" points=\"269.9,184.08,269.1148,191.2482,275.4296,194.7301,276.2148,187.5618,269.9,184.08\" style=\"stroke: #A80036; stroke-width: 1.0;\"/><text fill=\"#000000\" font-family=\"sans-serif\" font-size=\"13\" lengthAdjust=\"spacingAndGlyphs\" textLength=\"8\" x=\"290.4904\" y=\"236.025\">1</text></a><!--MD5=[062ed86c389d1a88f61c6380d0491e17]\n",
       "reverse link E12 to E13--><a href=\"psysml:b5605e58-b315-4dd3-8e84-581a703b4e2b\" target=\"_top\" title=\"psysml:b5605e58-b315-4dd3-8e84-581a703b4e2b\" xlink:actuate=\"onRequest\" xlink:href=\"psysml:b5605e58-b315-4dd3-8e84-581a703b4e2b\" xlink:show=\"new\" xlink:title=\"psysml:b5605e58-b315-4dd3-8e84-581a703b4e2b\" xlink:type=\"simple\"><path d=\"M84,94.47 C84,109.59 84,127.2 84,140.77 \" fill=\"none\" id=\"E12&lt;-E13\" style=\"stroke: #A80036; stroke-width: 1.0;\"/><polygon fill=\"#A80036\" points=\"84,81.47,80,87.47,84,93.47,88,87.47,84,81.47\" style=\"stroke: #A80036; stroke-width: 1.0;\"/><text fill=\"#000000\" font-family=\"sans-serif\" font-size=\"13\" lengthAdjust=\"spacingAndGlyphs\" textLength=\"8\" x=\"74.975\" y=\"129.9874\">1</text></a><!--MD5=[01db00f33b28669d6d9febea71002831]\n",
       "reverse link E13 to E14--><a href=\"psysml:db42b499-220f-4c1a-8731-eb36b8c82e1e\" target=\"_top\" title=\"psysml:db42b499-220f-4c1a-8731-eb36b8c82e1e\" xlink:actuate=\"onRequest\" xlink:href=\"psysml:db42b499-220f-4c1a-8731-eb36b8c82e1e\" xlink:show=\"new\" xlink:title=\"psysml:db42b499-220f-4c1a-8731-eb36b8c82e1e\" xlink:type=\"simple\"><path d=\"M90.39,199.96 C93.23,215.51 96.48,233.33 98.98,246.98 \" fill=\"none\" id=\"E13&lt;-E14\" style=\"stroke: #A80036; stroke-width: 1.0;\"/><polygon fill=\"#FFFFFF\" points=\"88.03,187.06,85.1698,193.6796,90.1801,198.8658,93.0403,192.2462,88.03,187.06\" style=\"stroke: #A80036; stroke-width: 1.0;\"/><text fill=\"#000000\" font-family=\"sans-serif\" font-size=\"13\" lengthAdjust=\"spacingAndGlyphs\" textLength=\"8\" x=\"88.8246\" y=\"235.8709\">1</text></a><!--MD5=[e5566ac99d7714697a7fbc17f6b550fe]\n",
       "link E14 to E2--><a href=\"psysml:7155c58b-23e7-41d9-a472-3863cff0084f\" target=\"_top\" title=\"psysml:7155c58b-23e7-41d9-a472-3863cff0084f\" xlink:actuate=\"onRequest\" xlink:href=\"psysml:7155c58b-23e7-41d9-a472-3863cff0084f\" xlink:show=\"new\" xlink:title=\"psysml:7155c58b-23e7-41d9-a472-3863cff0084f\" xlink:type=\"simple\"><path d=\"M137.38,287.25 C169.54,302.45 218.42,325.56 257.95,344.25 \" fill=\"none\" id=\"E14-&gt;E2\" style=\"stroke: #A80036; stroke-width: 1.0;\"/><polygon fill=\"#FFFFFF\" points=\"276.21,352.88,256.0404,351.0944,262.0199,338.4356,276.21,352.88\" style=\"stroke: #A80036; stroke-width: 1.0;\"/><ellipse cx=\"251.7407\" cy=\"346.8516\" fill=\"#A80036\" rx=\"2\" ry=\"2\" style=\"stroke: #A80036; stroke-width: 1.0;\"/><ellipse cx=\"256.0117\" cy=\"337.8095\" fill=\"#A80036\" rx=\"2\" ry=\"2\" style=\"stroke: #A80036; stroke-width: 1.0;\"/></a><!--MD5=[e9a5e828c71fd2209a11a152f562d491]\n",
       "reverse link E13 to E15--><a href=\"psysml:2699a371-802b-44a3-9d88-da30e2130afc\" target=\"_top\" title=\"psysml:2699a371-802b-44a3-9d88-da30e2130afc\" xlink:actuate=\"onRequest\" xlink:href=\"psysml:2699a371-802b-44a3-9d88-da30e2130afc\" xlink:show=\"new\" xlink:title=\"psysml:2699a371-802b-44a3-9d88-da30e2130afc\" xlink:type=\"simple\"><path d=\"M65.17,199.1 C53.3,224.98 41.82,261.37 51,293 C57.44,315.18 71.88,337.1 83.91,352.69 \" fill=\"none\" id=\"E13&lt;-E15\" style=\"stroke: #A80036; stroke-width: 1.0;\"/><polygon fill=\"#FFFFFF\" points=\"70.93,187.31,64.7009,190.9429,65.6585,198.0902,71.8876,194.4572,70.93,187.31\" style=\"stroke: #A80036; stroke-width: 1.0;\"/><text fill=\"#000000\" font-family=\"sans-serif\" font-size=\"13\" lengthAdjust=\"spacingAndGlyphs\" textLength=\"8\" x=\"69.9932\" y=\"341.8869\">1</text></a><!--MD5=[3afbdc645381407e1bc99677323a2513]\n",
       "link E14 to E15--><a href=\"psysml:1d4c99f1-723b-47e9-b0a9-a2cf4f06711c\" target=\"_top\" title=\"psysml:1d4c99f1-723b-47e9-b0a9-a2cf4f06711c\" xlink:actuate=\"onRequest\" xlink:href=\"psysml:1d4c99f1-723b-47e9-b0a9-a2cf4f06711c\" xlink:show=\"new\" xlink:title=\"psysml:1d4c99f1-723b-47e9-b0a9-a2cf4f06711c\" xlink:type=\"simple\"><path d=\"M92.35,293.06 C89.55,310.7 89.55,335.34 92.36,352.98 \" fill=\"none\" id=\"E14-E15\" style=\"stroke: #A80036; stroke-width: 3.0;\"/></a><!--MD5=[3afbdc645381407e1bc99677323a2513]\n",
       "link E14 to E15--><a href=\"psysml:99ef5f64-108a-4414-ad16-a52f47db38b7\" target=\"_top\" title=\"psysml:99ef5f64-108a-4414-ad16-a52f47db38b7\" xlink:actuate=\"onRequest\" xlink:href=\"psysml:99ef5f64-108a-4414-ad16-a52f47db38b7\" xlink:show=\"new\" xlink:title=\"psysml:99ef5f64-108a-4414-ad16-a52f47db38b7\" xlink:type=\"simple\"><path d=\"M114.27,293.06 C117.24,310.7 117.24,335.34 114.27,352.98 \" fill=\"none\" id=\"E14-E15-1\" style=\"stroke: #A80036; stroke-width: 3.0;\"/></a><!--MD5=[b7a0b258fc1c6c66412732cbf6990550]\n",
       "@startuml\r\n",
       " \r\n",
       "package \"ConjugationTest\" as E1  [[psysml:62f2acf4-862e-4777-8380-6adbdab8aa3b ]]  {\r\n",
       "comp def \"P\" as E2 << <<(D,brown) port  def>> [[psysml:8038ba5e-65f3-4a7c-a5d9-05577a1e913e ]] {\r\n",
       "}\r\n",
       "comp def \"B\" as E3 << << (B,green) >> [[psysml:eb00d253-98ff-4ea5-9d4b-40f483d849ec ]] {\r\n",
       "}\r\n",
       "comp usage \"p1: P \" as E4 << << (P,blue) port>> [[psysml:bd11b2df-eb92-4507-bbbb-c6493b57fcfa ]] {\r\n",
       "}\r\n",
       "comp usage \"p2: ~P \" as E5 << << (P,blue) port>> [[psysml:0cbe2724-4b46-4325-902f-a8a483156696 ]] {\r\n",
       "}\r\n",
       "comp def \"A\" as E6 << << (B,green) >> [[psysml:c9adf55d-1d58-41e7-9c8f-305f1a380a4f ]] {\r\n",
       "}\r\n",
       "comp usage \"p1: P \" as E7 << << (P,blue) port>> [[psysml:62009ff7-c341-4e72-a056-ce92de09505b ]] {\r\n",
       "}\r\n",
       "comp usage \"p2: ~P \" as E8 << << (P,blue) port>> [[psysml:50db7d15-a467-4fc6-8fb9-d943e9708b48 ]] {\r\n",
       "}\r\n",
       "comp def \"I\" as E9 << << (B,green) >> [[psysml:909b1fdd-cad7-4fe7-8f0f-a5ae3fa3dd03 ]] {\r\n",
       "}\r\n",
       "comp usage \"p1: P \" as E10 << << (P,blue) port>> [[psysml:4b05cf72-e027-47da-9c90-b867da4c93e0 ]] {\r\n",
       "}\r\n",
       "comp usage \"p2: ~P \" as E11 << << (P,blue) port>> [[psysml:0c24ab80-75a0-44e9-976a-962e4e9af685 ]] {\r\n",
       "}\r\n",
       "comp def \"B1\" as E12 << << (B,green) >> [[psysml:c2ec72d4-85fe-4c8d-a549-b327df7a4c85 ]] {\r\n",
       "}\r\n",
       "comp usage \"p \" as E13 << << (P,limegreen) part>> [[psysml:bf56b714-b103-43c5-844a-64ae22bea297 ]] {\r\n",
       "}\r\n",
       "comp usage \"p1: P \" as E14 << << (P,blue) port>> [[psysml:b5c2279c-6642-492b-a6cf-19efab06e689 ]] {\r\n",
       "}\r\n",
       "comp usage \"p2: ~P \" as E15 << << (P,blue) port>> [[psysml:ed6b3600-9f65-4ffd-a058-1200daf10699 ]] {\r\n",
       "}\r\n",
       "}\r\n",
       "E3 o- - \"1\"E4 [[psysml:301fc48c-20ce-4bfe-ac1d-96f5db6094d0 ]] \r\n",
       "E4 - -:|> E2 [[psysml:2658e44c-8270-4dd2-9600-daf649b69d41 ]] \r\n",
       "E3 o- - \"1\"E5 [[psysml:223fd842-0df9-4bd0-ad12-80c4696f3c55 ]] \r\n",
       "E6 o- - \"1\"E7 [[psysml:21746d6a-6182-4390-ad27-ac5c9b62bfbf ]] \r\n",
       "E7 - -:|> E2 [[psysml:ac292376-6896-4173-b580-fb46e7ca2b11 ]] \r\n",
       "E6 o- - \"1\"E8 [[psysml:0a911d69-2e8c-46c6-ac57-f08740e1c2a7 ]] \r\n",
       "E9 o- - \"1\"E10 [[psysml:7a6ef9a5-ee54-4bad-bee0-b6cd150b3ba6 ]] \r\n",
       "E10 - -:|> E2 [[psysml:1b1dbb40-b684-43d5-9e90-095d8f580599 ]] \r\n",
       "E9 o- - \"1\"E11 [[psysml:26e0bda0-b5f1-463e-8de4-6289f85dc961 ]] \r\n",
       "E12 *- - \"1\"E13 [[psysml:b5605e58-b315-4dd3-8e84-581a703b4e2b ]] \r\n",
       "E13 o- - \"1\"E14 [[psysml:db42b499-220f-4c1a-8731-eb36b8c82e1e ]] \r\n",
       "E14 - -:|> E2 [[psysml:7155c58b-23e7-41d9-a472-3863cff0084f ]] \r\n",
       "E13 o- - \"1\"E15 [[psysml:2699a371-802b-44a3-9d88-da30e2130afc ]] \r\n",
       "E14 -[thickness=3]- E15 [[psysml:1d4c99f1-723b-47e9-b0a9-a2cf4f06711c ]] \r\n",
       "E14 -[thickness=3]- E15 [[psysml:99ef5f64-108a-4414-ad16-a52f47db38b7 ]] \r\n",
       "@enduml\r\n",
       "\n",
       "PlantUML version 1.2020.13(Sat Jun 13 12:26:38 UTC 2020)\n",
       "(EPL source distribution)\n",
       "Java Runtime: OpenJDK Runtime Environment\n",
       "JVM: OpenJDK 64-Bit Server VM\n",
       "Default Encoding: UTF-8\n",
       "Language: en\n",
       "Country: null\n",
       "--></g></svg>"
      ]
     },
     "execution_count": 36,
     "metadata": {},
     "output_type": "execute_result"
    }
   ],
   "source": [
    "%viz --style=\"PLANTUML\" --view=\"MIXED\" \"ConjugationTest\""
   ]
  },
  {
   "cell_type": "code",
   "execution_count": 37,
   "id": "2611c023",
   "metadata": {
    "execution": {
     "iopub.execute_input": "2022-02-18T10:47:47.126249Z",
     "iopub.status.busy": "2022-02-18T10:47:47.125843Z",
     "iopub.status.idle": "2022-02-18T10:47:47.178334Z",
     "shell.execute_reply": "2022-02-18T10:47:47.176566Z"
    }
   },
   "outputs": [
    {
     "data": {
      "image/svg+xml": [
       "<?xml version=\"1.0\" encoding=\"UTF-8\" standalone=\"no\"?><svg xmlns=\"http://www.w3.org/2000/svg\" xmlns:xlink=\"http://www.w3.org/1999/xlink\" contentScriptType=\"application/ecmascript\" contentStyleType=\"text/css\" height=\"433px\" preserveAspectRatio=\"none\" style=\"width:641px;height:433px;\" version=\"1.1\" viewBox=\"0 0 641 433\" width=\"641px\" zoomAndPan=\"magnify\"><defs/><g><!--MD5=[fbc87193dbaf4d95561dea2c320d4a47]\n",
       "cluster E1--><a href=\"psysml:62f2acf4-862e-4777-8380-6adbdab8aa3b\" target=\"_top\" title=\"psysml:62f2acf4-862e-4777-8380-6adbdab8aa3b\" xlink:actuate=\"onRequest\" xlink:href=\"psysml:62f2acf4-862e-4777-8380-6adbdab8aa3b\" xlink:show=\"new\" xlink:title=\"psysml:62f2acf4-862e-4777-8380-6adbdab8aa3b\" xlink:type=\"simple\"><polygon fill=\"#FFFFFF\" points=\"16,6,136,6,143,28.2969,619,28.2969,619,421,16,421,16,6\" style=\"stroke: #000000; stroke-width: 1.5;\"/><line style=\"stroke: #000000; stroke-width: 1.5;\" x1=\"16\" x2=\"143\" y1=\"28.2969\" y2=\"28.2969\"/><text fill=\"#000000\" font-family=\"sans-serif\" font-size=\"14\" font-weight=\"bold\" lengthAdjust=\"spacingAndGlyphs\" textLength=\"114\" x=\"20\" y=\"20.9951\">ConjugationTest</text></a><!--MD5=[b4997ac47864f28c2f74865a473b2911]\n",
       "class E2--><a href=\"psysml:8038ba5e-65f3-4a7c-a5d9-05577a1e913e\" target=\"_top\" title=\"psysml:8038ba5e-65f3-4a7c-a5d9-05577a1e913e\" xlink:actuate=\"onRequest\" xlink:href=\"psysml:8038ba5e-65f3-4a7c-a5d9-05577a1e913e\" xlink:show=\"new\" xlink:title=\"psysml:8038ba5e-65f3-4a7c-a5d9-05577a1e913e\" xlink:type=\"simple\"><rect fill=\"#FFFFFF\" height=\"45.9375\" id=\"E2\" style=\"stroke: #383838; stroke-width: 1.5;\" width=\"70\" x=\"223\" y=\"359\"/><text fill=\"#000000\" font-family=\"sans-serif\" font-size=\"12\" font-style=\"italic\" lengthAdjust=\"spacingAndGlyphs\" textLength=\"68\" x=\"224\" y=\"375.1387\">«port  def»</text><text fill=\"#000000\" font-family=\"sans-serif\" font-size=\"12\" lengthAdjust=\"spacingAndGlyphs\" textLength=\"8\" x=\"254\" y=\"389.1074\">P</text><line style=\"stroke: #383838; stroke-width: 1.5;\" x1=\"224\" x2=\"292\" y1=\"396.9375\" y2=\"396.9375\"/></a><!--MD5=[09b614a08d8cba4a07c9adeb5e0fee81]\n",
       "class E3--><a href=\"psysml:eb00d253-98ff-4ea5-9d4b-40f483d849ec\" target=\"_top\" title=\"psysml:eb00d253-98ff-4ea5-9d4b-40f483d849ec\" xlink:actuate=\"onRequest\" xlink:href=\"psysml:eb00d253-98ff-4ea5-9d4b-40f483d849ec\" xlink:show=\"new\" xlink:title=\"psysml:eb00d253-98ff-4ea5-9d4b-40f483d849ec\" xlink:type=\"simple\"><rect fill=\"#FFFFFF\" height=\"45.9375\" id=\"E3\" style=\"stroke: #383838; stroke-width: 1.5;\" width=\"70\" x=\"496\" y=\"147\"/><text fill=\"#000000\" font-family=\"sans-serif\" font-size=\"12\" font-style=\"italic\" lengthAdjust=\"spacingAndGlyphs\" textLength=\"68\" x=\"497\" y=\"163.1387\">«part  def»</text><text fill=\"#000000\" font-family=\"sans-serif\" font-size=\"12\" lengthAdjust=\"spacingAndGlyphs\" textLength=\"8\" x=\"527\" y=\"177.1074\">B</text><line style=\"stroke: #383838; stroke-width: 1.5;\" x1=\"497\" x2=\"565\" y1=\"184.9375\" y2=\"184.9375\"/></a><!--MD5=[ebbe1d658d1005bcc118a6aa81145e00]\n",
       "class E4--><a href=\"psysml:bd11b2df-eb92-4507-bbbb-c6493b57fcfa\" target=\"_top\" title=\"psysml:bd11b2df-eb92-4507-bbbb-c6493b57fcfa\" xlink:actuate=\"onRequest\" xlink:href=\"psysml:bd11b2df-eb92-4507-bbbb-c6493b57fcfa\" xlink:show=\"new\" xlink:title=\"psysml:bd11b2df-eb92-4507-bbbb-c6493b57fcfa\" xlink:type=\"simple\"><rect fill=\"#FFFFFF\" height=\"45.9375\" id=\"E4\" rx=\"10\" ry=\"10\" style=\"stroke: #383838; stroke-width: 1.5;\" width=\"42\" x=\"474\" y=\"253\"/><text fill=\"#000000\" font-family=\"sans-serif\" font-size=\"12\" font-style=\"italic\" lengthAdjust=\"spacingAndGlyphs\" textLength=\"40\" x=\"475\" y=\"269.1387\">«port»</text><text fill=\"#000000\" font-family=\"sans-serif\" font-size=\"12\" lengthAdjust=\"spacingAndGlyphs\" textLength=\"32\" x=\"477\" y=\"283.1074\">p1: P</text><line style=\"stroke: #383838; stroke-width: 1.5;\" x1=\"475\" x2=\"515\" y1=\"290.9375\" y2=\"290.9375\"/></a><!--MD5=[270fce915f116d4de14055a7c1d9a0f3]\n",
       "class E5--><a href=\"psysml:0cbe2724-4b46-4325-902f-a8a483156696\" target=\"_top\" title=\"psysml:0cbe2724-4b46-4325-902f-a8a483156696\" xlink:actuate=\"onRequest\" xlink:href=\"psysml:0cbe2724-4b46-4325-902f-a8a483156696\" xlink:show=\"new\" xlink:title=\"psysml:0cbe2724-4b46-4325-902f-a8a483156696\" xlink:type=\"simple\"><rect fill=\"#FFFFFF\" height=\"45.9375\" id=\"E5\" rx=\"10\" ry=\"10\" style=\"stroke: #383838; stroke-width: 1.5;\" width=\"52\" x=\"551\" y=\"253\"/><text fill=\"#000000\" font-family=\"sans-serif\" font-size=\"12\" font-style=\"italic\" lengthAdjust=\"spacingAndGlyphs\" textLength=\"40\" x=\"557\" y=\"269.1387\">«port»</text><text fill=\"#000000\" font-family=\"sans-serif\" font-size=\"12\" lengthAdjust=\"spacingAndGlyphs\" textLength=\"42\" x=\"554\" y=\"283.1074\">p2: ~P</text><line style=\"stroke: #383838; stroke-width: 1.5;\" x1=\"552\" x2=\"602\" y1=\"290.9375\" y2=\"290.9375\"/></a><!--MD5=[60a26617385b1d2d0262a64233df1f8d]\n",
       "class E6--><a href=\"psysml:c9adf55d-1d58-41e7-9c8f-305f1a380a4f\" target=\"_top\" title=\"psysml:c9adf55d-1d58-41e7-9c8f-305f1a380a4f\" xlink:actuate=\"onRequest\" xlink:href=\"psysml:c9adf55d-1d58-41e7-9c8f-305f1a380a4f\" xlink:show=\"new\" xlink:title=\"psysml:c9adf55d-1d58-41e7-9c8f-305f1a380a4f\" xlink:type=\"simple\"><rect fill=\"#FFFFFF\" height=\"45.9375\" id=\"E6\" style=\"stroke: #383838; stroke-width: 1.5;\" width=\"114\" x=\"283\" y=\"147\"/><text fill=\"#000000\" font-family=\"sans-serif\" font-size=\"12\" font-style=\"italic\" lengthAdjust=\"spacingAndGlyphs\" textLength=\"112\" x=\"284\" y=\"163.1387\">«connection  def»</text><text fill=\"#000000\" font-family=\"sans-serif\" font-size=\"12\" lengthAdjust=\"spacingAndGlyphs\" textLength=\"8\" x=\"336\" y=\"177.1074\">A</text><line style=\"stroke: #383838; stroke-width: 1.5;\" x1=\"284\" x2=\"396\" y1=\"184.9375\" y2=\"184.9375\"/></a><!--MD5=[2156ba9850f5573cc1fc38a6a4b2f02b]\n",
       "class E7--><a href=\"psysml:62009ff7-c341-4e72-a056-ce92de09505b\" target=\"_top\" title=\"psysml:62009ff7-c341-4e72-a056-ce92de09505b\" xlink:actuate=\"onRequest\" xlink:href=\"psysml:62009ff7-c341-4e72-a056-ce92de09505b\" xlink:show=\"new\" xlink:title=\"psysml:62009ff7-c341-4e72-a056-ce92de09505b\" xlink:type=\"simple\"><rect fill=\"#FFFFFF\" height=\"45.9375\" id=\"E7\" rx=\"10\" ry=\"10\" style=\"stroke: #383838; stroke-width: 1.5;\" width=\"42\" x=\"310\" y=\"253\"/><text fill=\"#000000\" font-family=\"sans-serif\" font-size=\"12\" font-style=\"italic\" lengthAdjust=\"spacingAndGlyphs\" textLength=\"40\" x=\"311\" y=\"269.1387\">«port»</text><text fill=\"#000000\" font-family=\"sans-serif\" font-size=\"12\" lengthAdjust=\"spacingAndGlyphs\" textLength=\"32\" x=\"313\" y=\"283.1074\">p1: P</text><line style=\"stroke: #383838; stroke-width: 1.5;\" x1=\"311\" x2=\"351\" y1=\"290.9375\" y2=\"290.9375\"/></a><!--MD5=[b9389687b975829384b498ac4b7476b2]\n",
       "class E8--><a href=\"psysml:50db7d15-a467-4fc6-8fb9-d943e9708b48\" target=\"_top\" title=\"psysml:50db7d15-a467-4fc6-8fb9-d943e9708b48\" xlink:actuate=\"onRequest\" xlink:href=\"psysml:50db7d15-a467-4fc6-8fb9-d943e9708b48\" xlink:show=\"new\" xlink:title=\"psysml:50db7d15-a467-4fc6-8fb9-d943e9708b48\" xlink:type=\"simple\"><rect fill=\"#FFFFFF\" height=\"45.9375\" id=\"E8\" rx=\"10\" ry=\"10\" style=\"stroke: #383838; stroke-width: 1.5;\" width=\"52\" x=\"387\" y=\"253\"/><text fill=\"#000000\" font-family=\"sans-serif\" font-size=\"12\" font-style=\"italic\" lengthAdjust=\"spacingAndGlyphs\" textLength=\"40\" x=\"393\" y=\"269.1387\">«port»</text><text fill=\"#000000\" font-family=\"sans-serif\" font-size=\"12\" lengthAdjust=\"spacingAndGlyphs\" textLength=\"42\" x=\"390\" y=\"283.1074\">p2: ~P</text><line style=\"stroke: #383838; stroke-width: 1.5;\" x1=\"388\" x2=\"438\" y1=\"290.9375\" y2=\"290.9375\"/></a><!--MD5=[fd4143e9d270a159db93a4ea2a975926]\n",
       "class E9--><a href=\"psysml:909b1fdd-cad7-4fe7-8f0f-a5ae3fa3dd03\" target=\"_top\" title=\"psysml:909b1fdd-cad7-4fe7-8f0f-a5ae3fa3dd03\" xlink:actuate=\"onRequest\" xlink:href=\"psysml:909b1fdd-cad7-4fe7-8f0f-a5ae3fa3dd03\" xlink:show=\"new\" xlink:title=\"psysml:909b1fdd-cad7-4fe7-8f0f-a5ae3fa3dd03\" xlink:type=\"simple\"><rect fill=\"#FFFFFF\" height=\"45.9375\" id=\"E9\" style=\"stroke: #383838; stroke-width: 1.5;\" width=\"100\" x=\"144\" y=\"147\"/><text fill=\"#000000\" font-family=\"sans-serif\" font-size=\"12\" font-style=\"italic\" lengthAdjust=\"spacingAndGlyphs\" textLength=\"98\" x=\"145\" y=\"163.1387\">«interface  def»</text><text fill=\"#000000\" font-family=\"sans-serif\" font-size=\"12\" lengthAdjust=\"spacingAndGlyphs\" textLength=\"3\" x=\"192.5\" y=\"177.1074\">I</text><line style=\"stroke: #383838; stroke-width: 1.5;\" x1=\"145\" x2=\"243\" y1=\"184.9375\" y2=\"184.9375\"/></a><!--MD5=[96f4274e9e20536e775497830990834d]\n",
       "class E10--><a href=\"psysml:4b05cf72-e027-47da-9c90-b867da4c93e0\" target=\"_top\" title=\"psysml:4b05cf72-e027-47da-9c90-b867da4c93e0\" xlink:actuate=\"onRequest\" xlink:href=\"psysml:4b05cf72-e027-47da-9c90-b867da4c93e0\" xlink:show=\"new\" xlink:title=\"psysml:4b05cf72-e027-47da-9c90-b867da4c93e0\" xlink:type=\"simple\"><rect fill=\"#FFFFFF\" height=\"45.9375\" id=\"E10\" rx=\"10\" ry=\"10\" style=\"stroke: #383838; stroke-width: 1.5;\" width=\"42\" x=\"146\" y=\"253\"/><text fill=\"#000000\" font-family=\"sans-serif\" font-size=\"12\" font-style=\"italic\" lengthAdjust=\"spacingAndGlyphs\" textLength=\"40\" x=\"147\" y=\"269.1387\">«port»</text><text fill=\"#000000\" font-family=\"sans-serif\" font-size=\"12\" lengthAdjust=\"spacingAndGlyphs\" textLength=\"32\" x=\"149\" y=\"283.1074\">p1: P</text><line style=\"stroke: #383838; stroke-width: 1.5;\" x1=\"147\" x2=\"187\" y1=\"290.9375\" y2=\"290.9375\"/></a><!--MD5=[1dd1bfd58a279cf63c5f349dbc8fc6a1]\n",
       "class E11--><a href=\"psysml:0c24ab80-75a0-44e9-976a-962e4e9af685\" target=\"_top\" title=\"psysml:0c24ab80-75a0-44e9-976a-962e4e9af685\" xlink:actuate=\"onRequest\" xlink:href=\"psysml:0c24ab80-75a0-44e9-976a-962e4e9af685\" xlink:show=\"new\" xlink:title=\"psysml:0c24ab80-75a0-44e9-976a-962e4e9af685\" xlink:type=\"simple\"><rect fill=\"#FFFFFF\" height=\"45.9375\" id=\"E11\" rx=\"10\" ry=\"10\" style=\"stroke: #383838; stroke-width: 1.5;\" width=\"52\" x=\"223\" y=\"253\"/><text fill=\"#000000\" font-family=\"sans-serif\" font-size=\"12\" font-style=\"italic\" lengthAdjust=\"spacingAndGlyphs\" textLength=\"40\" x=\"229\" y=\"269.1387\">«port»</text><text fill=\"#000000\" font-family=\"sans-serif\" font-size=\"12\" lengthAdjust=\"spacingAndGlyphs\" textLength=\"42\" x=\"226\" y=\"283.1074\">p2: ~P</text><line style=\"stroke: #383838; stroke-width: 1.5;\" x1=\"224\" x2=\"274\" y1=\"290.9375\" y2=\"290.9375\"/></a><!--MD5=[49a0ec8f00dab7302a31f22d0f0fe584]\n",
       "class E12--><a href=\"psysml:c2ec72d4-85fe-4c8d-a549-b327df7a4c85\" target=\"_top\" title=\"psysml:c2ec72d4-85fe-4c8d-a549-b327df7a4c85\" xlink:actuate=\"onRequest\" xlink:href=\"psysml:c2ec72d4-85fe-4c8d-a549-b327df7a4c85\" xlink:show=\"new\" xlink:title=\"psysml:c2ec72d4-85fe-4c8d-a549-b327df7a4c85\" xlink:type=\"simple\"><rect fill=\"#FFFFFF\" height=\"45.9375\" id=\"E12\" style=\"stroke: #383838; stroke-width: 1.5;\" width=\"70\" x=\"45\" y=\"41\"/><text fill=\"#000000\" font-family=\"sans-serif\" font-size=\"12\" font-style=\"italic\" lengthAdjust=\"spacingAndGlyphs\" textLength=\"68\" x=\"46\" y=\"57.1387\">«part  def»</text><text fill=\"#000000\" font-family=\"sans-serif\" font-size=\"12\" lengthAdjust=\"spacingAndGlyphs\" textLength=\"16\" x=\"72\" y=\"71.1074\">B1</text><line style=\"stroke: #383838; stroke-width: 1.5;\" x1=\"46\" x2=\"114\" y1=\"78.9375\" y2=\"78.9375\"/></a><!--MD5=[ee3c913d1a06f366521f9ef512b67efe]\n",
       "class E13--><a href=\"psysml:bf56b714-b103-43c5-844a-64ae22bea297\" target=\"_top\" title=\"psysml:bf56b714-b103-43c5-844a-64ae22bea297\" xlink:actuate=\"onRequest\" xlink:href=\"psysml:bf56b714-b103-43c5-844a-64ae22bea297\" xlink:show=\"new\" xlink:title=\"psysml:bf56b714-b103-43c5-844a-64ae22bea297\" xlink:type=\"simple\"><rect fill=\"#FFFFFF\" height=\"45.9375\" id=\"E13\" rx=\"10\" ry=\"10\" style=\"stroke: #383838; stroke-width: 1.5;\" width=\"42\" x=\"59\" y=\"147\"/><text fill=\"#000000\" font-family=\"sans-serif\" font-size=\"12\" font-style=\"italic\" lengthAdjust=\"spacingAndGlyphs\" textLength=\"40\" x=\"60\" y=\"163.1387\">«part»</text><text fill=\"#000000\" font-family=\"sans-serif\" font-size=\"12\" lengthAdjust=\"spacingAndGlyphs\" textLength=\"8\" x=\"74\" y=\"177.1074\">p</text><line style=\"stroke: #383838; stroke-width: 1.5;\" x1=\"60\" x2=\"100\" y1=\"184.9375\" y2=\"184.9375\"/></a><!--MD5=[bee11217b2f71d958a27249dc326068c]\n",
       "class E14--><a href=\"psysml:b5c2279c-6642-492b-a6cf-19efab06e689\" target=\"_top\" title=\"psysml:b5c2279c-6642-492b-a6cf-19efab06e689\" xlink:actuate=\"onRequest\" xlink:href=\"psysml:b5c2279c-6642-492b-a6cf-19efab06e689\" xlink:show=\"new\" xlink:title=\"psysml:b5c2279c-6642-492b-a6cf-19efab06e689\" xlink:type=\"simple\"><rect fill=\"#FFFFFF\" height=\"45.9375\" id=\"E14\" rx=\"10\" ry=\"10\" style=\"stroke: #383838; stroke-width: 1.5;\" width=\"42\" x=\"69\" y=\"253\"/><text fill=\"#000000\" font-family=\"sans-serif\" font-size=\"12\" font-style=\"italic\" lengthAdjust=\"spacingAndGlyphs\" textLength=\"40\" x=\"70\" y=\"269.1387\">«port»</text><text fill=\"#000000\" font-family=\"sans-serif\" font-size=\"12\" lengthAdjust=\"spacingAndGlyphs\" textLength=\"32\" x=\"72\" y=\"283.1074\">p1: P</text><line style=\"stroke: #383838; stroke-width: 1.5;\" x1=\"70\" x2=\"110\" y1=\"290.9375\" y2=\"290.9375\"/></a><!--MD5=[0c48fb7552dae8cbbef69381101a84c8]\n",
       "class E15--><a href=\"psysml:ed6b3600-9f65-4ffd-a058-1200daf10699\" target=\"_top\" title=\"psysml:ed6b3600-9f65-4ffd-a058-1200daf10699\" xlink:actuate=\"onRequest\" xlink:href=\"psysml:ed6b3600-9f65-4ffd-a058-1200daf10699\" xlink:show=\"new\" xlink:title=\"psysml:ed6b3600-9f65-4ffd-a058-1200daf10699\" xlink:type=\"simple\"><rect fill=\"#FFFFFF\" height=\"45.9375\" id=\"E15\" rx=\"10\" ry=\"10\" style=\"stroke: #383838; stroke-width: 1.5;\" width=\"52\" x=\"64\" y=\"359\"/><text fill=\"#000000\" font-family=\"sans-serif\" font-size=\"12\" font-style=\"italic\" lengthAdjust=\"spacingAndGlyphs\" textLength=\"40\" x=\"70\" y=\"375.1387\">«port»</text><text fill=\"#000000\" font-family=\"sans-serif\" font-size=\"12\" lengthAdjust=\"spacingAndGlyphs\" textLength=\"42\" x=\"67\" y=\"389.1074\">p2: ~P</text><line style=\"stroke: #383838; stroke-width: 1.5;\" x1=\"65\" x2=\"115\" y1=\"396.9375\" y2=\"396.9375\"/></a><!--MD5=[4672eba38e49728da53d11aeb285b987]\n",
       "reverse link E3 to E4--><a href=\"psysml:301fc48c-20ce-4bfe-ac1d-96f5db6094d0\" target=\"_top\" title=\"psysml:301fc48c-20ce-4bfe-ac1d-96f5db6094d0\" xlink:actuate=\"onRequest\" xlink:href=\"psysml:301fc48c-20ce-4bfe-ac1d-96f5db6094d0\" xlink:show=\"new\" xlink:title=\"psysml:301fc48c-20ce-4bfe-ac1d-96f5db6094d0\" xlink:type=\"simple\"><path d=\"M519.06,205.49 C513.64,221.15 507.39,239.19 502.62,252.98 \" fill=\"none\" id=\"E3&lt;-E4\" style=\"stroke: #383838; stroke-width: 1.0;\"/><polygon fill=\"#FFFFFF\" points=\"523.37,193.06,517.626,197.4196,519.4411,204.3986,525.1851,200.0389,523.37,193.06\" style=\"stroke: #383838; stroke-width: 1.0;\"/><text fill=\"#000000\" font-family=\"sans-serif\" font-size=\"13\" lengthAdjust=\"spacingAndGlyphs\" textLength=\"8\" x=\"495.5929\" y=\"241.8709\">1</text></a><!--MD5=[185131fc0dcab0a4505a2ebe144e961b]\n",
       "link E4 to E2--><a href=\"psysml:2658e44c-8270-4dd2-9600-daf649b69d41\" target=\"_top\" title=\"psysml:2658e44c-8270-4dd2-9600-daf649b69d41\" xlink:actuate=\"onRequest\" xlink:href=\"psysml:2658e44c-8270-4dd2-9600-daf649b69d41\" xlink:show=\"new\" xlink:title=\"psysml:2658e44c-8270-4dd2-9600-daf649b69d41\" xlink:type=\"simple\"><path d=\"M473.97,289.85 C468.52,292.99 462.61,296.24 457,299 C409.01,322.65 352.44,345.5 311.91,361.04 \" fill=\"none\" id=\"E4-&gt;E2\" style=\"stroke: #383838; stroke-width: 1.0;\"/><polygon fill=\"#FFFFFF\" points=\"293.14,368.16,308.427,354.8819,313.3876,367.9735,293.14,368.16\" style=\"stroke: #383838; stroke-width: 1.0;\"/><ellipse cx=\"314.4658\" cy=\"354.7324\" fill=\"#383838\" rx=\"2\" ry=\"2\" style=\"stroke: #383838; stroke-width: 1.0;\"/><ellipse cx=\"318.0091\" cy=\"364.0836\" fill=\"#383838\" rx=\"2\" ry=\"2\" style=\"stroke: #383838; stroke-width: 1.0;\"/></a><!--MD5=[191cde3d490a3f6d7bb551fe3ddca469]\n",
       "reverse link E3 to E5--><a href=\"psysml:223fd842-0df9-4bd0-ad12-80c4696f3c55\" target=\"_top\" title=\"psysml:223fd842-0df9-4bd0-ad12-80c4696f3c55\" xlink:actuate=\"onRequest\" xlink:href=\"psysml:223fd842-0df9-4bd0-ad12-80c4696f3c55\" xlink:show=\"new\" xlink:title=\"psysml:223fd842-0df9-4bd0-ad12-80c4696f3c55\" xlink:type=\"simple\"><path d=\"M546.05,205.03 C553.02,220.78 561.1,239.06 567.26,252.98 \" fill=\"none\" id=\"E3&lt;-E5\" style=\"stroke: #383838; stroke-width: 1.0;\"/><polygon fill=\"#FFFFFF\" points=\"540.76,193.06,539.5329,200.1659,545.6202,204.0317,546.8473,196.9258,540.76,193.06\" style=\"stroke: #383838; stroke-width: 1.0;\"/><text fill=\"#000000\" font-family=\"sans-serif\" font-size=\"13\" lengthAdjust=\"spacingAndGlyphs\" textLength=\"8\" x=\"555.5674\" y=\"241.8709\">1</text></a><!--MD5=[3f50a3473f1dfb74d3f76443e03635af]\n",
       "reverse link E6 to E7--><a href=\"psysml:21746d6a-6182-4390-ad27-ac5c9b62bfbf\" target=\"_top\" title=\"psysml:21746d6a-6182-4390-ad27-ac5c9b62bfbf\" xlink:actuate=\"onRequest\" xlink:href=\"psysml:21746d6a-6182-4390-ad27-ac5c9b62bfbf\" xlink:show=\"new\" xlink:title=\"psysml:21746d6a-6182-4390-ad27-ac5c9b62bfbf\" xlink:type=\"simple\"><path d=\"M336.93,206.44 C335.6,221.87 334.07,239.47 332.91,252.98 \" fill=\"none\" id=\"E6&lt;-E7\" style=\"stroke: #383838; stroke-width: 1.0;\"/><polygon fill=\"#FFFFFF\" points=\"338.09,193.06,333.5901,198.6948,337.0607,205.0158,341.5606,199.381,338.09,193.06\" style=\"stroke: #383838; stroke-width: 1.0;\"/><text fill=\"#000000\" font-family=\"sans-serif\" font-size=\"13\" lengthAdjust=\"spacingAndGlyphs\" textLength=\"8\" x=\"324.3483\" y=\"241.8709\">1</text></a><!--MD5=[583832df87f4419a098336a29a52fa00]\n",
       "link E7 to E2--><a href=\"psysml:ac292376-6896-4173-b580-fb46e7ca2b11\" target=\"_top\" title=\"psysml:ac292376-6896-4173-b580-fb46e7ca2b11\" xlink:actuate=\"onRequest\" xlink:href=\"psysml:ac292376-6896-4173-b580-fb46e7ca2b11\" xlink:show=\"new\" xlink:title=\"psysml:ac292376-6896-4173-b580-fb46e7ca2b11\" xlink:type=\"simple\"><path d=\"M315.52,299.06 C306.71,311.6 295.43,327.68 285.19,342.26 \" fill=\"none\" id=\"E7-&gt;E2\" style=\"stroke: #383838; stroke-width: 1.0;\"/><polygon fill=\"#FFFFFF\" points=\"273.46,358.98,278.6532,339.4088,290.1093,347.4561,273.46,358.98\" style=\"stroke: #383838; stroke-width: 1.0;\"/><ellipse cx=\"283.5662\" cy=\"335.8942\" fill=\"#383838\" rx=\"2\" ry=\"2\" style=\"stroke: #383838; stroke-width: 1.0;\"/><ellipse cx=\"291.7491\" cy=\"341.6422\" fill=\"#383838\" rx=\"2\" ry=\"2\" style=\"stroke: #383838; stroke-width: 1.0;\"/></a><!--MD5=[f4cf0736d43fd73c4ef68817c49d37d5]\n",
       "reverse link E6 to E8--><a href=\"psysml:0a911d69-2e8c-46c6-ac57-f08740e1c2a7\" target=\"_top\" title=\"psysml:0a911d69-2e8c-46c6-ac57-f08740e1c2a7\" xlink:actuate=\"onRequest\" xlink:href=\"psysml:0a911d69-2e8c-46c6-ac57-f08740e1c2a7\" xlink:show=\"new\" xlink:title=\"psysml:0a911d69-2e8c-46c6-ac57-f08740e1c2a7\" xlink:type=\"simple\"><path d=\"M363.23,204.09 C374.44,220.06 387.58,238.78 397.54,252.98 \" fill=\"none\" id=\"E6&lt;-E8\" style=\"stroke: #383838; stroke-width: 1.0;\"/><polygon fill=\"#FFFFFF\" points=\"355.48,193.06,355.6581,200.2689,362.381,202.8771,362.2029,195.6682,355.48,193.06\" style=\"stroke: #383838; stroke-width: 1.0;\"/><text fill=\"#000000\" font-family=\"sans-serif\" font-size=\"13\" lengthAdjust=\"spacingAndGlyphs\" textLength=\"8\" x=\"384.3101\" y=\"241.8709\">1</text></a><!--MD5=[23ac544a70576c3e717098101004234c]\n",
       "reverse link E9 to E10--><a href=\"psysml:7a6ef9a5-ee54-4bad-bee0-b6cd150b3ba6\" target=\"_top\" title=\"psysml:7a6ef9a5-ee54-4bad-bee0-b6cd150b3ba6\" xlink:actuate=\"onRequest\" xlink:href=\"psysml:7a6ef9a5-ee54-4bad-bee0-b6cd150b3ba6\" xlink:show=\"new\" xlink:title=\"psysml:7a6ef9a5-ee54-4bad-bee0-b6cd150b3ba6\" xlink:type=\"simple\"><path d=\"M184.92,205.96 C180.89,221.51 176.26,239.33 172.72,252.98 \" fill=\"none\" id=\"E9&lt;-E10\" style=\"stroke: #383838; stroke-width: 1.0;\"/><polygon fill=\"#FFFFFF\" points=\"188.27,193.06,182.8943,197.8665,185.2635,204.6773,190.6392,199.8708,188.27,193.06\" style=\"stroke: #383838; stroke-width: 1.0;\"/><text fill=\"#000000\" font-family=\"sans-serif\" font-size=\"13\" lengthAdjust=\"spacingAndGlyphs\" textLength=\"8\" x=\"165.1823\" y=\"241.8709\">1</text></a><!--MD5=[0f36bececdf0dff6e600d6f64214b0f1]\n",
       "link E10 to E2--><a href=\"psysml:1b1dbb40-b684-43d5-9e90-095d8f580599\" target=\"_top\" title=\"psysml:1b1dbb40-b684-43d5-9e90-095d8f580599\" xlink:actuate=\"onRequest\" xlink:href=\"psysml:1b1dbb40-b684-43d5-9e90-095d8f580599\" xlink:show=\"new\" xlink:title=\"psysml:1b1dbb40-b684-43d5-9e90-095d8f580599\" xlink:type=\"simple\"><path d=\"M186.3,299.06 C197.64,312.02 212.28,328.74 225.36,343.7 \" fill=\"none\" id=\"E10-&gt;E2\" style=\"stroke: #383838; stroke-width: 1.0;\"/><polygon fill=\"#FFFFFF\" points=\"238.73,358.98,220.9517,349.2882,231.489,340.0705,238.73,358.98\" style=\"stroke: #383838; stroke-width: 1.0;\"/><ellipse cx=\"218.7041\" cy=\"343.6812\" fill=\"#383838\" rx=\"2\" ry=\"2\" style=\"stroke: #383838; stroke-width: 1.0;\"/><ellipse cx=\"226.2308\" cy=\"337.0972\" fill=\"#383838\" rx=\"2\" ry=\"2\" style=\"stroke: #383838; stroke-width: 1.0;\"/></a><!--MD5=[1fc04a95fd77ad5ce46c1a3027516051]\n",
       "reverse link E9 to E11--><a href=\"psysml:26e0bda0-b5f1-463e-8de4-6289f85dc961\" target=\"_top\" title=\"psysml:26e0bda0-b5f1-463e-8de4-6289f85dc961\" xlink:actuate=\"onRequest\" xlink:href=\"psysml:26e0bda0-b5f1-463e-8de4-6289f85dc961\" xlink:show=\"new\" xlink:title=\"psysml:26e0bda0-b5f1-463e-8de4-6289f85dc961\" xlink:type=\"simple\"><path d=\"M211.75,204.56 C220.14,220.42 229.92,238.92 237.35,252.98 \" fill=\"none\" id=\"E9&lt;-E11\" style=\"stroke: #383838; stroke-width: 1.0;\"/><polygon fill=\"#FFFFFF\" points=\"205.66,193.06,204.9277,200.2338,211.268,203.669,212.0003,196.4952,205.66,193.06\" style=\"stroke: #383838; stroke-width: 1.0;\"/><text fill=\"#000000\" font-family=\"sans-serif\" font-size=\"13\" lengthAdjust=\"spacingAndGlyphs\" textLength=\"8\" x=\"225.1441\" y=\"241.8709\">1</text></a><!--MD5=[062ed86c389d1a88f61c6380d0491e17]\n",
       "reverse link E12 to E13--><a href=\"psysml:b5605e58-b315-4dd3-8e84-581a703b4e2b\" target=\"_top\" title=\"psysml:b5605e58-b315-4dd3-8e84-581a703b4e2b\" xlink:actuate=\"onRequest\" xlink:href=\"psysml:b5605e58-b315-4dd3-8e84-581a703b4e2b\" xlink:show=\"new\" xlink:title=\"psysml:b5605e58-b315-4dd3-8e84-581a703b4e2b\" xlink:type=\"simple\"><path d=\"M80,100.44 C80,115.87 80,133.47 80,146.98 \" fill=\"none\" id=\"E12&lt;-E13\" style=\"stroke: #383838; stroke-width: 1.0;\"/><polygon fill=\"#383838\" points=\"80,87.06,76,93.06,80,99.06,84,93.06,80,87.06\" style=\"stroke: #383838; stroke-width: 1.0;\"/><text fill=\"#000000\" font-family=\"sans-serif\" font-size=\"13\" lengthAdjust=\"spacingAndGlyphs\" textLength=\"8\" x=\"70.925\" y=\"135.8709\">1</text></a><!--MD5=[01db00f33b28669d6d9febea71002831]\n",
       "reverse link E13 to E14--><a href=\"psysml:db42b499-220f-4c1a-8731-eb36b8c82e1e\" target=\"_top\" title=\"psysml:db42b499-220f-4c1a-8731-eb36b8c82e1e\" xlink:actuate=\"onRequest\" xlink:href=\"psysml:db42b499-220f-4c1a-8731-eb36b8c82e1e\" xlink:show=\"new\" xlink:title=\"psysml:db42b499-220f-4c1a-8731-eb36b8c82e1e\" xlink:type=\"simple\"><path d=\"M83.41,206.44 C84.89,221.87 86.58,239.47 87.88,252.98 \" fill=\"none\" id=\"E13&lt;-E14\" style=\"stroke: #383838; stroke-width: 1.0;\"/><polygon fill=\"#FFFFFF\" points=\"82.12,193.06,78.7125,199.4152,83.2683,205.0049,86.6758,198.6497,82.12,193.06\" style=\"stroke: #383838; stroke-width: 1.0;\"/><text fill=\"#000000\" font-family=\"sans-serif\" font-size=\"13\" lengthAdjust=\"spacingAndGlyphs\" textLength=\"8\" x=\"78.2353\" y=\"241.8709\">1</text></a><!--MD5=[e5566ac99d7714697a7fbc17f6b550fe]\n",
       "link E14 to E2--><a href=\"psysml:7155c58b-23e7-41d9-a472-3863cff0084f\" target=\"_top\" title=\"psysml:7155c58b-23e7-41d9-a472-3863cff0084f\" xlink:actuate=\"onRequest\" xlink:href=\"psysml:7155c58b-23e7-41d9-a472-3863cff0084f\" xlink:show=\"new\" xlink:title=\"psysml:7155c58b-23e7-41d9-a472-3863cff0084f\" xlink:type=\"simple\"><path d=\"M111.28,290.17 C134.86,304.77 173.76,328.85 205.58,348.55 \" fill=\"none\" id=\"E14-&gt;E2\" style=\"stroke: #383838; stroke-width: 1.0;\"/><polygon fill=\"#FFFFFF\" points=\"222.86,359.25,203.0213,355.1971,210.3927,343.2949,222.86,359.25\" style=\"stroke: #383838; stroke-width: 1.0;\"/><ellipse cx=\"199.2284\" cy=\"350.4956\" fill=\"#383838\" rx=\"2\" ry=\"2\" style=\"stroke: #383838; stroke-width: 1.0;\"/><ellipse cx=\"204.4937\" cy=\"341.994\" fill=\"#383838\" rx=\"2\" ry=\"2\" style=\"stroke: #383838; stroke-width: 1.0;\"/></a><!--MD5=[e9a5e828c71fd2209a11a152f562d491]\n",
       "reverse link E13 to E15--><a href=\"psysml:2699a371-802b-44a3-9d88-da30e2130afc\" target=\"_top\" title=\"psysml:2699a371-802b-44a3-9d88-da30e2130afc\" xlink:actuate=\"onRequest\" xlink:href=\"psysml:2699a371-802b-44a3-9d88-da30e2130afc\" xlink:show=\"new\" xlink:title=\"psysml:2699a371-802b-44a3-9d88-da30e2130afc\" xlink:type=\"simple\"><path d=\"M64.33,205.31 C54.54,231.09 45,267.26 52,299 C56.73,320.45 67.65,342.96 76.58,358.96 \" fill=\"none\" id=\"E13&lt;-E15\" style=\"stroke: #383838; stroke-width: 1.0;\"/><polygon fill=\"#FFFFFF\" points=\"69.24,193.2,63.2795,197.2586,64.7334,204.3216,70.6939,200.263,69.24,193.2\" style=\"stroke: #383838; stroke-width: 1.0;\"/><text fill=\"#000000\" font-family=\"sans-serif\" font-size=\"13\" lengthAdjust=\"spacingAndGlyphs\" textLength=\"8\" x=\"63.8984\" y=\"347.8455\">1</text></a><!--MD5=[3afbdc645381407e1bc99677323a2513]\n",
       "link E14 to E15--><a href=\"psysml:1d4c99f1-723b-47e9-b0a9-a2cf4f06711c\" target=\"_top\" title=\"psysml:1d4c99f1-723b-47e9-b0a9-a2cf4f06711c\" xlink:actuate=\"onRequest\" xlink:href=\"psysml:1d4c99f1-723b-47e9-b0a9-a2cf4f06711c\" xlink:show=\"new\" xlink:title=\"psysml:1d4c99f1-723b-47e9-b0a9-a2cf4f06711c\" xlink:type=\"simple\"><path d=\"M79.35,299.06 C76.55,316.7 76.55,341.34 79.36,358.98 \" fill=\"none\" id=\"E14-E15\" style=\"stroke: #383838; stroke-width: 3.0;\"/></a><!--MD5=[3afbdc645381407e1bc99677323a2513]\n",
       "link E14 to E15--><a href=\"psysml:99ef5f64-108a-4414-ad16-a52f47db38b7\" target=\"_top\" title=\"psysml:99ef5f64-108a-4414-ad16-a52f47db38b7\" xlink:actuate=\"onRequest\" xlink:href=\"psysml:99ef5f64-108a-4414-ad16-a52f47db38b7\" xlink:show=\"new\" xlink:title=\"psysml:99ef5f64-108a-4414-ad16-a52f47db38b7\" xlink:type=\"simple\"><path d=\"M101.27,299.06 C104.24,316.7 104.24,341.34 101.27,358.98 \" fill=\"none\" id=\"E14-E15-1\" style=\"stroke: #383838; stroke-width: 3.0;\"/></a><!--MD5=[24ad69aca3ef5dcdce243be46f7b217b]\n",
       "@startuml\r\n",
       "skinparam monochrome true\r\n",
       "skinparam classbackgroundcolor white\r\n",
       "skinparam shadowing false\r\n",
       "skinparam wrapWidth 300\r\n",
       "hide circle\r\n",
       "\r\n",
       "package \"ConjugationTest\" as E1  [[psysml:62f2acf4-862e-4777-8380-6adbdab8aa3b ]]  {\r\n",
       "comp def \"P\" as E2  <<(T,blue) port  def>> [[psysml:8038ba5e-65f3-4a7c-a5d9-05577a1e913e ]] {\r\n",
       "}\r\n",
       "comp def \"B\" as E3  <<(T,blue) part  def>> [[psysml:eb00d253-98ff-4ea5-9d4b-40f483d849ec ]] {\r\n",
       "}\r\n",
       "comp usage \"p1: P \" as E4  <<(T,blue) port>> [[psysml:bd11b2df-eb92-4507-bbbb-c6493b57fcfa ]] {\r\n",
       "}\r\n",
       "comp usage \"p2: ~P \" as E5  <<(T,blue) port>> [[psysml:0cbe2724-4b46-4325-902f-a8a483156696 ]] {\r\n",
       "}\r\n",
       "comp def \"A\" as E6  <<(T,blue) connection  def>> [[psysml:c9adf55d-1d58-41e7-9c8f-305f1a380a4f ]] {\r\n",
       "}\r\n",
       "comp usage \"p1: P \" as E7  <<(T,blue) port>> [[psysml:62009ff7-c341-4e72-a056-ce92de09505b ]] {\r\n",
       "}\r\n",
       "comp usage \"p2: ~P \" as E8  <<(T,blue) port>> [[psysml:50db7d15-a467-4fc6-8fb9-d943e9708b48 ]] {\r\n",
       "}\r\n",
       "comp def \"I\" as E9  <<(T,blue) interface  def>> [[psysml:909b1fdd-cad7-4fe7-8f0f-a5ae3fa3dd03 ]] {\r\n",
       "}\r\n",
       "comp usage \"p1: P \" as E10  <<(T,blue) port>> [[psysml:4b05cf72-e027-47da-9c90-b867da4c93e0 ]] {\r\n",
       "}\r\n",
       "comp usage \"p2: ~P \" as E11  <<(T,blue) port>> [[psysml:0c24ab80-75a0-44e9-976a-962e4e9af685 ]] {\r\n",
       "}\r\n",
       "comp def \"B1\" as E12  <<(T,blue) part  def>> [[psysml:c2ec72d4-85fe-4c8d-a549-b327df7a4c85 ]] {\r\n",
       "}\r\n",
       "comp usage \"p \" as E13  <<(T,blue) part>> [[psysml:bf56b714-b103-43c5-844a-64ae22bea297 ]] {\r\n",
       "}\r\n",
       "comp usage \"p1: P \" as E14  <<(T,blue) port>> [[psysml:b5c2279c-6642-492b-a6cf-19efab06e689 ]] {\r\n",
       "}\r\n",
       "comp usage \"p2: ~P \" as E15  <<(T,blue) port>> [[psysml:ed6b3600-9f65-4ffd-a058-1200daf10699 ]] {\r\n",
       "}\r\n",
       "}\r\n",
       "E3 o- - \"1\"E4 [[psysml:301fc48c-20ce-4bfe-ac1d-96f5db6094d0 ]] \r\n",
       "E4 - -:|> E2 [[psysml:2658e44c-8270-4dd2-9600-daf649b69d41 ]] \r\n",
       "E3 o- - \"1\"E5 [[psysml:223fd842-0df9-4bd0-ad12-80c4696f3c55 ]] \r\n",
       "E6 o- - \"1\"E7 [[psysml:21746d6a-6182-4390-ad27-ac5c9b62bfbf ]] \r\n",
       "E7 - -:|> E2 [[psysml:ac292376-6896-4173-b580-fb46e7ca2b11 ]] \r\n",
       "E6 o- - \"1\"E8 [[psysml:0a911d69-2e8c-46c6-ac57-f08740e1c2a7 ]] \r\n",
       "E9 o- - \"1\"E10 [[psysml:7a6ef9a5-ee54-4bad-bee0-b6cd150b3ba6 ]] \r\n",
       "E10 - -:|> E2 [[psysml:1b1dbb40-b684-43d5-9e90-095d8f580599 ]] \r\n",
       "E9 o- - \"1\"E11 [[psysml:26e0bda0-b5f1-463e-8de4-6289f85dc961 ]] \r\n",
       "E12 *- - \"1\"E13 [[psysml:b5605e58-b315-4dd3-8e84-581a703b4e2b ]] \r\n",
       "E13 o- - \"1\"E14 [[psysml:db42b499-220f-4c1a-8731-eb36b8c82e1e ]] \r\n",
       "E14 - -:|> E2 [[psysml:7155c58b-23e7-41d9-a472-3863cff0084f ]] \r\n",
       "E13 o- - \"1\"E15 [[psysml:2699a371-802b-44a3-9d88-da30e2130afc ]] \r\n",
       "E14 -[thickness=3]- E15 [[psysml:1d4c99f1-723b-47e9-b0a9-a2cf4f06711c ]] \r\n",
       "E14 -[thickness=3]- E15 [[psysml:99ef5f64-108a-4414-ad16-a52f47db38b7 ]] \r\n",
       "@enduml\r\n",
       "\n",
       "PlantUML version 1.2020.13(Sat Jun 13 12:26:38 UTC 2020)\n",
       "(EPL source distribution)\n",
       "Java Runtime: OpenJDK Runtime Environment\n",
       "JVM: OpenJDK 64-Bit Server VM\n",
       "Default Encoding: UTF-8\n",
       "Language: en\n",
       "Country: null\n",
       "--></g></svg>"
      ]
     },
     "execution_count": 37,
     "metadata": {},
     "output_type": "execute_result"
    }
   ],
   "source": [
    "%viz --style=\"DEFAULT\" --view=\"Default\" \"ConjugationTest\""
   ]
  },
  {
   "cell_type": "code",
   "execution_count": 38,
   "id": "542415e0",
   "metadata": {
    "execution": {
     "iopub.execute_input": "2022-02-18T10:47:47.227724Z",
     "iopub.status.busy": "2022-02-18T10:47:47.227302Z",
     "iopub.status.idle": "2022-02-18T10:47:47.276080Z",
     "shell.execute_reply": "2022-02-18T10:47:47.275713Z"
    }
   },
   "outputs": [
    {
     "data": {
      "image/svg+xml": [
       "<?xml version=\"1.0\" encoding=\"UTF-8\" standalone=\"no\"?><svg xmlns=\"http://www.w3.org/2000/svg\" xmlns:xlink=\"http://www.w3.org/1999/xlink\" contentScriptType=\"application/ecmascript\" contentStyleType=\"text/css\" height=\"433px\" preserveAspectRatio=\"none\" style=\"width:641px;height:433px;\" version=\"1.1\" viewBox=\"0 0 641 433\" width=\"641px\" zoomAndPan=\"magnify\"><defs/><g><!--MD5=[fbc87193dbaf4d95561dea2c320d4a47]\n",
       "cluster E1--><a href=\"psysml:62f2acf4-862e-4777-8380-6adbdab8aa3b\" target=\"_top\" title=\"psysml:62f2acf4-862e-4777-8380-6adbdab8aa3b\" xlink:actuate=\"onRequest\" xlink:href=\"psysml:62f2acf4-862e-4777-8380-6adbdab8aa3b\" xlink:show=\"new\" xlink:title=\"psysml:62f2acf4-862e-4777-8380-6adbdab8aa3b\" xlink:type=\"simple\"><polygon fill=\"#FFFFFF\" points=\"16,6,136,6,143,28.2969,619,28.2969,619,421,16,421,16,6\" style=\"stroke: #000000; stroke-width: 1.5;\"/><line style=\"stroke: #000000; stroke-width: 1.5;\" x1=\"16\" x2=\"143\" y1=\"28.2969\" y2=\"28.2969\"/><text fill=\"#000000\" font-family=\"sans-serif\" font-size=\"14\" font-weight=\"bold\" lengthAdjust=\"spacingAndGlyphs\" textLength=\"114\" x=\"20\" y=\"20.9951\">ConjugationTest</text></a><!--MD5=[b4997ac47864f28c2f74865a473b2911]\n",
       "class E2--><a href=\"psysml:8038ba5e-65f3-4a7c-a5d9-05577a1e913e\" target=\"_top\" title=\"psysml:8038ba5e-65f3-4a7c-a5d9-05577a1e913e\" xlink:actuate=\"onRequest\" xlink:href=\"psysml:8038ba5e-65f3-4a7c-a5d9-05577a1e913e\" xlink:show=\"new\" xlink:title=\"psysml:8038ba5e-65f3-4a7c-a5d9-05577a1e913e\" xlink:type=\"simple\"><rect fill=\"#FFFFFF\" height=\"45.9375\" id=\"E2\" style=\"stroke: #383838; stroke-width: 1.5;\" width=\"70\" x=\"223\" y=\"359\"/><text fill=\"#000000\" font-family=\"sans-serif\" font-size=\"12\" font-style=\"italic\" lengthAdjust=\"spacingAndGlyphs\" textLength=\"68\" x=\"224\" y=\"375.1387\">«port  def»</text><text fill=\"#000000\" font-family=\"sans-serif\" font-size=\"12\" lengthAdjust=\"spacingAndGlyphs\" textLength=\"8\" x=\"254\" y=\"389.1074\">P</text><line style=\"stroke: #383838; stroke-width: 1.5;\" x1=\"224\" x2=\"292\" y1=\"396.9375\" y2=\"396.9375\"/></a><!--MD5=[09b614a08d8cba4a07c9adeb5e0fee81]\n",
       "class E3--><a href=\"psysml:eb00d253-98ff-4ea5-9d4b-40f483d849ec\" target=\"_top\" title=\"psysml:eb00d253-98ff-4ea5-9d4b-40f483d849ec\" xlink:actuate=\"onRequest\" xlink:href=\"psysml:eb00d253-98ff-4ea5-9d4b-40f483d849ec\" xlink:show=\"new\" xlink:title=\"psysml:eb00d253-98ff-4ea5-9d4b-40f483d849ec\" xlink:type=\"simple\"><rect fill=\"#FFFFFF\" height=\"45.9375\" id=\"E3\" style=\"stroke: #383838; stroke-width: 1.5;\" width=\"70\" x=\"496\" y=\"147\"/><text fill=\"#000000\" font-family=\"sans-serif\" font-size=\"12\" font-style=\"italic\" lengthAdjust=\"spacingAndGlyphs\" textLength=\"68\" x=\"497\" y=\"163.1387\">«part  def»</text><text fill=\"#000000\" font-family=\"sans-serif\" font-size=\"12\" lengthAdjust=\"spacingAndGlyphs\" textLength=\"8\" x=\"527\" y=\"177.1074\">B</text><line style=\"stroke: #383838; stroke-width: 1.5;\" x1=\"497\" x2=\"565\" y1=\"184.9375\" y2=\"184.9375\"/></a><!--MD5=[ebbe1d658d1005bcc118a6aa81145e00]\n",
       "class E4--><a href=\"psysml:bd11b2df-eb92-4507-bbbb-c6493b57fcfa\" target=\"_top\" title=\"psysml:bd11b2df-eb92-4507-bbbb-c6493b57fcfa\" xlink:actuate=\"onRequest\" xlink:href=\"psysml:bd11b2df-eb92-4507-bbbb-c6493b57fcfa\" xlink:show=\"new\" xlink:title=\"psysml:bd11b2df-eb92-4507-bbbb-c6493b57fcfa\" xlink:type=\"simple\"><rect fill=\"#FFFFFF\" height=\"45.9375\" id=\"E4\" rx=\"10\" ry=\"10\" style=\"stroke: #383838; stroke-width: 1.5;\" width=\"42\" x=\"474\" y=\"253\"/><text fill=\"#000000\" font-family=\"sans-serif\" font-size=\"12\" font-style=\"italic\" lengthAdjust=\"spacingAndGlyphs\" textLength=\"40\" x=\"475\" y=\"269.1387\">«port»</text><text fill=\"#000000\" font-family=\"sans-serif\" font-size=\"12\" lengthAdjust=\"spacingAndGlyphs\" textLength=\"32\" x=\"477\" y=\"283.1074\">p1: P</text><line style=\"stroke: #383838; stroke-width: 1.5;\" x1=\"475\" x2=\"515\" y1=\"290.9375\" y2=\"290.9375\"/></a><!--MD5=[270fce915f116d4de14055a7c1d9a0f3]\n",
       "class E5--><a href=\"psysml:0cbe2724-4b46-4325-902f-a8a483156696\" target=\"_top\" title=\"psysml:0cbe2724-4b46-4325-902f-a8a483156696\" xlink:actuate=\"onRequest\" xlink:href=\"psysml:0cbe2724-4b46-4325-902f-a8a483156696\" xlink:show=\"new\" xlink:title=\"psysml:0cbe2724-4b46-4325-902f-a8a483156696\" xlink:type=\"simple\"><rect fill=\"#FFFFFF\" height=\"45.9375\" id=\"E5\" rx=\"10\" ry=\"10\" style=\"stroke: #383838; stroke-width: 1.5;\" width=\"52\" x=\"551\" y=\"253\"/><text fill=\"#000000\" font-family=\"sans-serif\" font-size=\"12\" font-style=\"italic\" lengthAdjust=\"spacingAndGlyphs\" textLength=\"40\" x=\"557\" y=\"269.1387\">«port»</text><text fill=\"#000000\" font-family=\"sans-serif\" font-size=\"12\" lengthAdjust=\"spacingAndGlyphs\" textLength=\"42\" x=\"554\" y=\"283.1074\">p2: ~P</text><line style=\"stroke: #383838; stroke-width: 1.5;\" x1=\"552\" x2=\"602\" y1=\"290.9375\" y2=\"290.9375\"/></a><!--MD5=[60a26617385b1d2d0262a64233df1f8d]\n",
       "class E6--><a href=\"psysml:c9adf55d-1d58-41e7-9c8f-305f1a380a4f\" target=\"_top\" title=\"psysml:c9adf55d-1d58-41e7-9c8f-305f1a380a4f\" xlink:actuate=\"onRequest\" xlink:href=\"psysml:c9adf55d-1d58-41e7-9c8f-305f1a380a4f\" xlink:show=\"new\" xlink:title=\"psysml:c9adf55d-1d58-41e7-9c8f-305f1a380a4f\" xlink:type=\"simple\"><rect fill=\"#FFFFFF\" height=\"45.9375\" id=\"E6\" style=\"stroke: #383838; stroke-width: 1.5;\" width=\"114\" x=\"283\" y=\"147\"/><text fill=\"#000000\" font-family=\"sans-serif\" font-size=\"12\" font-style=\"italic\" lengthAdjust=\"spacingAndGlyphs\" textLength=\"112\" x=\"284\" y=\"163.1387\">«connection  def»</text><text fill=\"#000000\" font-family=\"sans-serif\" font-size=\"12\" lengthAdjust=\"spacingAndGlyphs\" textLength=\"8\" x=\"336\" y=\"177.1074\">A</text><line style=\"stroke: #383838; stroke-width: 1.5;\" x1=\"284\" x2=\"396\" y1=\"184.9375\" y2=\"184.9375\"/></a><!--MD5=[2156ba9850f5573cc1fc38a6a4b2f02b]\n",
       "class E7--><a href=\"psysml:62009ff7-c341-4e72-a056-ce92de09505b\" target=\"_top\" title=\"psysml:62009ff7-c341-4e72-a056-ce92de09505b\" xlink:actuate=\"onRequest\" xlink:href=\"psysml:62009ff7-c341-4e72-a056-ce92de09505b\" xlink:show=\"new\" xlink:title=\"psysml:62009ff7-c341-4e72-a056-ce92de09505b\" xlink:type=\"simple\"><rect fill=\"#FFFFFF\" height=\"45.9375\" id=\"E7\" rx=\"10\" ry=\"10\" style=\"stroke: #383838; stroke-width: 1.5;\" width=\"42\" x=\"310\" y=\"253\"/><text fill=\"#000000\" font-family=\"sans-serif\" font-size=\"12\" font-style=\"italic\" lengthAdjust=\"spacingAndGlyphs\" textLength=\"40\" x=\"311\" y=\"269.1387\">«port»</text><text fill=\"#000000\" font-family=\"sans-serif\" font-size=\"12\" lengthAdjust=\"spacingAndGlyphs\" textLength=\"32\" x=\"313\" y=\"283.1074\">p1: P</text><line style=\"stroke: #383838; stroke-width: 1.5;\" x1=\"311\" x2=\"351\" y1=\"290.9375\" y2=\"290.9375\"/></a><!--MD5=[b9389687b975829384b498ac4b7476b2]\n",
       "class E8--><a href=\"psysml:50db7d15-a467-4fc6-8fb9-d943e9708b48\" target=\"_top\" title=\"psysml:50db7d15-a467-4fc6-8fb9-d943e9708b48\" xlink:actuate=\"onRequest\" xlink:href=\"psysml:50db7d15-a467-4fc6-8fb9-d943e9708b48\" xlink:show=\"new\" xlink:title=\"psysml:50db7d15-a467-4fc6-8fb9-d943e9708b48\" xlink:type=\"simple\"><rect fill=\"#FFFFFF\" height=\"45.9375\" id=\"E8\" rx=\"10\" ry=\"10\" style=\"stroke: #383838; stroke-width: 1.5;\" width=\"52\" x=\"387\" y=\"253\"/><text fill=\"#000000\" font-family=\"sans-serif\" font-size=\"12\" font-style=\"italic\" lengthAdjust=\"spacingAndGlyphs\" textLength=\"40\" x=\"393\" y=\"269.1387\">«port»</text><text fill=\"#000000\" font-family=\"sans-serif\" font-size=\"12\" lengthAdjust=\"spacingAndGlyphs\" textLength=\"42\" x=\"390\" y=\"283.1074\">p2: ~P</text><line style=\"stroke: #383838; stroke-width: 1.5;\" x1=\"388\" x2=\"438\" y1=\"290.9375\" y2=\"290.9375\"/></a><!--MD5=[fd4143e9d270a159db93a4ea2a975926]\n",
       "class E9--><a href=\"psysml:909b1fdd-cad7-4fe7-8f0f-a5ae3fa3dd03\" target=\"_top\" title=\"psysml:909b1fdd-cad7-4fe7-8f0f-a5ae3fa3dd03\" xlink:actuate=\"onRequest\" xlink:href=\"psysml:909b1fdd-cad7-4fe7-8f0f-a5ae3fa3dd03\" xlink:show=\"new\" xlink:title=\"psysml:909b1fdd-cad7-4fe7-8f0f-a5ae3fa3dd03\" xlink:type=\"simple\"><rect fill=\"#FFFFFF\" height=\"45.9375\" id=\"E9\" style=\"stroke: #383838; stroke-width: 1.5;\" width=\"100\" x=\"144\" y=\"147\"/><text fill=\"#000000\" font-family=\"sans-serif\" font-size=\"12\" font-style=\"italic\" lengthAdjust=\"spacingAndGlyphs\" textLength=\"98\" x=\"145\" y=\"163.1387\">«interface  def»</text><text fill=\"#000000\" font-family=\"sans-serif\" font-size=\"12\" lengthAdjust=\"spacingAndGlyphs\" textLength=\"3\" x=\"192.5\" y=\"177.1074\">I</text><line style=\"stroke: #383838; stroke-width: 1.5;\" x1=\"145\" x2=\"243\" y1=\"184.9375\" y2=\"184.9375\"/></a><!--MD5=[96f4274e9e20536e775497830990834d]\n",
       "class E10--><a href=\"psysml:4b05cf72-e027-47da-9c90-b867da4c93e0\" target=\"_top\" title=\"psysml:4b05cf72-e027-47da-9c90-b867da4c93e0\" xlink:actuate=\"onRequest\" xlink:href=\"psysml:4b05cf72-e027-47da-9c90-b867da4c93e0\" xlink:show=\"new\" xlink:title=\"psysml:4b05cf72-e027-47da-9c90-b867da4c93e0\" xlink:type=\"simple\"><rect fill=\"#FFFFFF\" height=\"45.9375\" id=\"E10\" rx=\"10\" ry=\"10\" style=\"stroke: #383838; stroke-width: 1.5;\" width=\"42\" x=\"146\" y=\"253\"/><text fill=\"#000000\" font-family=\"sans-serif\" font-size=\"12\" font-style=\"italic\" lengthAdjust=\"spacingAndGlyphs\" textLength=\"40\" x=\"147\" y=\"269.1387\">«port»</text><text fill=\"#000000\" font-family=\"sans-serif\" font-size=\"12\" lengthAdjust=\"spacingAndGlyphs\" textLength=\"32\" x=\"149\" y=\"283.1074\">p1: P</text><line style=\"stroke: #383838; stroke-width: 1.5;\" x1=\"147\" x2=\"187\" y1=\"290.9375\" y2=\"290.9375\"/></a><!--MD5=[1dd1bfd58a279cf63c5f349dbc8fc6a1]\n",
       "class E11--><a href=\"psysml:0c24ab80-75a0-44e9-976a-962e4e9af685\" target=\"_top\" title=\"psysml:0c24ab80-75a0-44e9-976a-962e4e9af685\" xlink:actuate=\"onRequest\" xlink:href=\"psysml:0c24ab80-75a0-44e9-976a-962e4e9af685\" xlink:show=\"new\" xlink:title=\"psysml:0c24ab80-75a0-44e9-976a-962e4e9af685\" xlink:type=\"simple\"><rect fill=\"#FFFFFF\" height=\"45.9375\" id=\"E11\" rx=\"10\" ry=\"10\" style=\"stroke: #383838; stroke-width: 1.5;\" width=\"52\" x=\"223\" y=\"253\"/><text fill=\"#000000\" font-family=\"sans-serif\" font-size=\"12\" font-style=\"italic\" lengthAdjust=\"spacingAndGlyphs\" textLength=\"40\" x=\"229\" y=\"269.1387\">«port»</text><text fill=\"#000000\" font-family=\"sans-serif\" font-size=\"12\" lengthAdjust=\"spacingAndGlyphs\" textLength=\"42\" x=\"226\" y=\"283.1074\">p2: ~P</text><line style=\"stroke: #383838; stroke-width: 1.5;\" x1=\"224\" x2=\"274\" y1=\"290.9375\" y2=\"290.9375\"/></a><!--MD5=[49a0ec8f00dab7302a31f22d0f0fe584]\n",
       "class E12--><a href=\"psysml:c2ec72d4-85fe-4c8d-a549-b327df7a4c85\" target=\"_top\" title=\"psysml:c2ec72d4-85fe-4c8d-a549-b327df7a4c85\" xlink:actuate=\"onRequest\" xlink:href=\"psysml:c2ec72d4-85fe-4c8d-a549-b327df7a4c85\" xlink:show=\"new\" xlink:title=\"psysml:c2ec72d4-85fe-4c8d-a549-b327df7a4c85\" xlink:type=\"simple\"><rect fill=\"#FFFFFF\" height=\"45.9375\" id=\"E12\" style=\"stroke: #383838; stroke-width: 1.5;\" width=\"70\" x=\"45\" y=\"41\"/><text fill=\"#000000\" font-family=\"sans-serif\" font-size=\"12\" font-style=\"italic\" lengthAdjust=\"spacingAndGlyphs\" textLength=\"68\" x=\"46\" y=\"57.1387\">«part  def»</text><text fill=\"#000000\" font-family=\"sans-serif\" font-size=\"12\" lengthAdjust=\"spacingAndGlyphs\" textLength=\"16\" x=\"72\" y=\"71.1074\">B1</text><line style=\"stroke: #383838; stroke-width: 1.5;\" x1=\"46\" x2=\"114\" y1=\"78.9375\" y2=\"78.9375\"/></a><!--MD5=[ee3c913d1a06f366521f9ef512b67efe]\n",
       "class E13--><a href=\"psysml:bf56b714-b103-43c5-844a-64ae22bea297\" target=\"_top\" title=\"psysml:bf56b714-b103-43c5-844a-64ae22bea297\" xlink:actuate=\"onRequest\" xlink:href=\"psysml:bf56b714-b103-43c5-844a-64ae22bea297\" xlink:show=\"new\" xlink:title=\"psysml:bf56b714-b103-43c5-844a-64ae22bea297\" xlink:type=\"simple\"><rect fill=\"#FFFFFF\" height=\"45.9375\" id=\"E13\" rx=\"10\" ry=\"10\" style=\"stroke: #383838; stroke-width: 1.5;\" width=\"42\" x=\"59\" y=\"147\"/><text fill=\"#000000\" font-family=\"sans-serif\" font-size=\"12\" font-style=\"italic\" lengthAdjust=\"spacingAndGlyphs\" textLength=\"40\" x=\"60\" y=\"163.1387\">«part»</text><text fill=\"#000000\" font-family=\"sans-serif\" font-size=\"12\" lengthAdjust=\"spacingAndGlyphs\" textLength=\"8\" x=\"74\" y=\"177.1074\">p</text><line style=\"stroke: #383838; stroke-width: 1.5;\" x1=\"60\" x2=\"100\" y1=\"184.9375\" y2=\"184.9375\"/></a><!--MD5=[bee11217b2f71d958a27249dc326068c]\n",
       "class E14--><a href=\"psysml:b5c2279c-6642-492b-a6cf-19efab06e689\" target=\"_top\" title=\"psysml:b5c2279c-6642-492b-a6cf-19efab06e689\" xlink:actuate=\"onRequest\" xlink:href=\"psysml:b5c2279c-6642-492b-a6cf-19efab06e689\" xlink:show=\"new\" xlink:title=\"psysml:b5c2279c-6642-492b-a6cf-19efab06e689\" xlink:type=\"simple\"><rect fill=\"#FFFFFF\" height=\"45.9375\" id=\"E14\" rx=\"10\" ry=\"10\" style=\"stroke: #383838; stroke-width: 1.5;\" width=\"42\" x=\"69\" y=\"253\"/><text fill=\"#000000\" font-family=\"sans-serif\" font-size=\"12\" font-style=\"italic\" lengthAdjust=\"spacingAndGlyphs\" textLength=\"40\" x=\"70\" y=\"269.1387\">«port»</text><text fill=\"#000000\" font-family=\"sans-serif\" font-size=\"12\" lengthAdjust=\"spacingAndGlyphs\" textLength=\"32\" x=\"72\" y=\"283.1074\">p1: P</text><line style=\"stroke: #383838; stroke-width: 1.5;\" x1=\"70\" x2=\"110\" y1=\"290.9375\" y2=\"290.9375\"/></a><!--MD5=[0c48fb7552dae8cbbef69381101a84c8]\n",
       "class E15--><a href=\"psysml:ed6b3600-9f65-4ffd-a058-1200daf10699\" target=\"_top\" title=\"psysml:ed6b3600-9f65-4ffd-a058-1200daf10699\" xlink:actuate=\"onRequest\" xlink:href=\"psysml:ed6b3600-9f65-4ffd-a058-1200daf10699\" xlink:show=\"new\" xlink:title=\"psysml:ed6b3600-9f65-4ffd-a058-1200daf10699\" xlink:type=\"simple\"><rect fill=\"#FFFFFF\" height=\"45.9375\" id=\"E15\" rx=\"10\" ry=\"10\" style=\"stroke: #383838; stroke-width: 1.5;\" width=\"52\" x=\"64\" y=\"359\"/><text fill=\"#000000\" font-family=\"sans-serif\" font-size=\"12\" font-style=\"italic\" lengthAdjust=\"spacingAndGlyphs\" textLength=\"40\" x=\"70\" y=\"375.1387\">«port»</text><text fill=\"#000000\" font-family=\"sans-serif\" font-size=\"12\" lengthAdjust=\"spacingAndGlyphs\" textLength=\"42\" x=\"67\" y=\"389.1074\">p2: ~P</text><line style=\"stroke: #383838; stroke-width: 1.5;\" x1=\"65\" x2=\"115\" y1=\"396.9375\" y2=\"396.9375\"/></a><!--MD5=[4672eba38e49728da53d11aeb285b987]\n",
       "reverse link E3 to E4--><a href=\"psysml:301fc48c-20ce-4bfe-ac1d-96f5db6094d0\" target=\"_top\" title=\"psysml:301fc48c-20ce-4bfe-ac1d-96f5db6094d0\" xlink:actuate=\"onRequest\" xlink:href=\"psysml:301fc48c-20ce-4bfe-ac1d-96f5db6094d0\" xlink:show=\"new\" xlink:title=\"psysml:301fc48c-20ce-4bfe-ac1d-96f5db6094d0\" xlink:type=\"simple\"><path d=\"M519.06,205.49 C513.64,221.15 507.39,239.19 502.62,252.98 \" fill=\"none\" id=\"E3&lt;-E4\" style=\"stroke: #383838; stroke-width: 1.0;\"/><polygon fill=\"#FFFFFF\" points=\"523.37,193.06,517.626,197.4196,519.4411,204.3986,525.1851,200.0389,523.37,193.06\" style=\"stroke: #383838; stroke-width: 1.0;\"/><text fill=\"#000000\" font-family=\"sans-serif\" font-size=\"13\" lengthAdjust=\"spacingAndGlyphs\" textLength=\"8\" x=\"495.5929\" y=\"241.8709\">1</text></a><!--MD5=[185131fc0dcab0a4505a2ebe144e961b]\n",
       "link E4 to E2--><a href=\"psysml:2658e44c-8270-4dd2-9600-daf649b69d41\" target=\"_top\" title=\"psysml:2658e44c-8270-4dd2-9600-daf649b69d41\" xlink:actuate=\"onRequest\" xlink:href=\"psysml:2658e44c-8270-4dd2-9600-daf649b69d41\" xlink:show=\"new\" xlink:title=\"psysml:2658e44c-8270-4dd2-9600-daf649b69d41\" xlink:type=\"simple\"><path d=\"M473.97,289.85 C468.52,292.99 462.61,296.24 457,299 C409.01,322.65 352.44,345.5 311.91,361.04 \" fill=\"none\" id=\"E4-&gt;E2\" style=\"stroke: #383838; stroke-width: 1.0;\"/><polygon fill=\"#FFFFFF\" points=\"293.14,368.16,308.427,354.8819,313.3876,367.9735,293.14,368.16\" style=\"stroke: #383838; stroke-width: 1.0;\"/><ellipse cx=\"314.4658\" cy=\"354.7324\" fill=\"#383838\" rx=\"2\" ry=\"2\" style=\"stroke: #383838; stroke-width: 1.0;\"/><ellipse cx=\"318.0091\" cy=\"364.0836\" fill=\"#383838\" rx=\"2\" ry=\"2\" style=\"stroke: #383838; stroke-width: 1.0;\"/></a><!--MD5=[191cde3d490a3f6d7bb551fe3ddca469]\n",
       "reverse link E3 to E5--><a href=\"psysml:223fd842-0df9-4bd0-ad12-80c4696f3c55\" target=\"_top\" title=\"psysml:223fd842-0df9-4bd0-ad12-80c4696f3c55\" xlink:actuate=\"onRequest\" xlink:href=\"psysml:223fd842-0df9-4bd0-ad12-80c4696f3c55\" xlink:show=\"new\" xlink:title=\"psysml:223fd842-0df9-4bd0-ad12-80c4696f3c55\" xlink:type=\"simple\"><path d=\"M546.05,205.03 C553.02,220.78 561.1,239.06 567.26,252.98 \" fill=\"none\" id=\"E3&lt;-E5\" style=\"stroke: #383838; stroke-width: 1.0;\"/><polygon fill=\"#FFFFFF\" points=\"540.76,193.06,539.5329,200.1659,545.6202,204.0317,546.8473,196.9258,540.76,193.06\" style=\"stroke: #383838; stroke-width: 1.0;\"/><text fill=\"#000000\" font-family=\"sans-serif\" font-size=\"13\" lengthAdjust=\"spacingAndGlyphs\" textLength=\"8\" x=\"555.5674\" y=\"241.8709\">1</text></a><!--MD5=[3f50a3473f1dfb74d3f76443e03635af]\n",
       "reverse link E6 to E7--><a href=\"psysml:21746d6a-6182-4390-ad27-ac5c9b62bfbf\" target=\"_top\" title=\"psysml:21746d6a-6182-4390-ad27-ac5c9b62bfbf\" xlink:actuate=\"onRequest\" xlink:href=\"psysml:21746d6a-6182-4390-ad27-ac5c9b62bfbf\" xlink:show=\"new\" xlink:title=\"psysml:21746d6a-6182-4390-ad27-ac5c9b62bfbf\" xlink:type=\"simple\"><path d=\"M336.93,206.44 C335.6,221.87 334.07,239.47 332.91,252.98 \" fill=\"none\" id=\"E6&lt;-E7\" style=\"stroke: #383838; stroke-width: 1.0;\"/><polygon fill=\"#FFFFFF\" points=\"338.09,193.06,333.5901,198.6948,337.0607,205.0158,341.5606,199.381,338.09,193.06\" style=\"stroke: #383838; stroke-width: 1.0;\"/><text fill=\"#000000\" font-family=\"sans-serif\" font-size=\"13\" lengthAdjust=\"spacingAndGlyphs\" textLength=\"8\" x=\"324.3483\" y=\"241.8709\">1</text></a><!--MD5=[583832df87f4419a098336a29a52fa00]\n",
       "link E7 to E2--><a href=\"psysml:ac292376-6896-4173-b580-fb46e7ca2b11\" target=\"_top\" title=\"psysml:ac292376-6896-4173-b580-fb46e7ca2b11\" xlink:actuate=\"onRequest\" xlink:href=\"psysml:ac292376-6896-4173-b580-fb46e7ca2b11\" xlink:show=\"new\" xlink:title=\"psysml:ac292376-6896-4173-b580-fb46e7ca2b11\" xlink:type=\"simple\"><path d=\"M315.52,299.06 C306.71,311.6 295.43,327.68 285.19,342.26 \" fill=\"none\" id=\"E7-&gt;E2\" style=\"stroke: #383838; stroke-width: 1.0;\"/><polygon fill=\"#FFFFFF\" points=\"273.46,358.98,278.6532,339.4088,290.1093,347.4561,273.46,358.98\" style=\"stroke: #383838; stroke-width: 1.0;\"/><ellipse cx=\"283.5662\" cy=\"335.8942\" fill=\"#383838\" rx=\"2\" ry=\"2\" style=\"stroke: #383838; stroke-width: 1.0;\"/><ellipse cx=\"291.7491\" cy=\"341.6422\" fill=\"#383838\" rx=\"2\" ry=\"2\" style=\"stroke: #383838; stroke-width: 1.0;\"/></a><!--MD5=[f4cf0736d43fd73c4ef68817c49d37d5]\n",
       "reverse link E6 to E8--><a href=\"psysml:0a911d69-2e8c-46c6-ac57-f08740e1c2a7\" target=\"_top\" title=\"psysml:0a911d69-2e8c-46c6-ac57-f08740e1c2a7\" xlink:actuate=\"onRequest\" xlink:href=\"psysml:0a911d69-2e8c-46c6-ac57-f08740e1c2a7\" xlink:show=\"new\" xlink:title=\"psysml:0a911d69-2e8c-46c6-ac57-f08740e1c2a7\" xlink:type=\"simple\"><path d=\"M363.23,204.09 C374.44,220.06 387.58,238.78 397.54,252.98 \" fill=\"none\" id=\"E6&lt;-E8\" style=\"stroke: #383838; stroke-width: 1.0;\"/><polygon fill=\"#FFFFFF\" points=\"355.48,193.06,355.6581,200.2689,362.381,202.8771,362.2029,195.6682,355.48,193.06\" style=\"stroke: #383838; stroke-width: 1.0;\"/><text fill=\"#000000\" font-family=\"sans-serif\" font-size=\"13\" lengthAdjust=\"spacingAndGlyphs\" textLength=\"8\" x=\"384.3101\" y=\"241.8709\">1</text></a><!--MD5=[23ac544a70576c3e717098101004234c]\n",
       "reverse link E9 to E10--><a href=\"psysml:7a6ef9a5-ee54-4bad-bee0-b6cd150b3ba6\" target=\"_top\" title=\"psysml:7a6ef9a5-ee54-4bad-bee0-b6cd150b3ba6\" xlink:actuate=\"onRequest\" xlink:href=\"psysml:7a6ef9a5-ee54-4bad-bee0-b6cd150b3ba6\" xlink:show=\"new\" xlink:title=\"psysml:7a6ef9a5-ee54-4bad-bee0-b6cd150b3ba6\" xlink:type=\"simple\"><path d=\"M184.92,205.96 C180.89,221.51 176.26,239.33 172.72,252.98 \" fill=\"none\" id=\"E9&lt;-E10\" style=\"stroke: #383838; stroke-width: 1.0;\"/><polygon fill=\"#FFFFFF\" points=\"188.27,193.06,182.8943,197.8665,185.2635,204.6773,190.6392,199.8708,188.27,193.06\" style=\"stroke: #383838; stroke-width: 1.0;\"/><text fill=\"#000000\" font-family=\"sans-serif\" font-size=\"13\" lengthAdjust=\"spacingAndGlyphs\" textLength=\"8\" x=\"165.1823\" y=\"241.8709\">1</text></a><!--MD5=[0f36bececdf0dff6e600d6f64214b0f1]\n",
       "link E10 to E2--><a href=\"psysml:1b1dbb40-b684-43d5-9e90-095d8f580599\" target=\"_top\" title=\"psysml:1b1dbb40-b684-43d5-9e90-095d8f580599\" xlink:actuate=\"onRequest\" xlink:href=\"psysml:1b1dbb40-b684-43d5-9e90-095d8f580599\" xlink:show=\"new\" xlink:title=\"psysml:1b1dbb40-b684-43d5-9e90-095d8f580599\" xlink:type=\"simple\"><path d=\"M186.3,299.06 C197.64,312.02 212.28,328.74 225.36,343.7 \" fill=\"none\" id=\"E10-&gt;E2\" style=\"stroke: #383838; stroke-width: 1.0;\"/><polygon fill=\"#FFFFFF\" points=\"238.73,358.98,220.9517,349.2882,231.489,340.0705,238.73,358.98\" style=\"stroke: #383838; stroke-width: 1.0;\"/><ellipse cx=\"218.7041\" cy=\"343.6812\" fill=\"#383838\" rx=\"2\" ry=\"2\" style=\"stroke: #383838; stroke-width: 1.0;\"/><ellipse cx=\"226.2308\" cy=\"337.0972\" fill=\"#383838\" rx=\"2\" ry=\"2\" style=\"stroke: #383838; stroke-width: 1.0;\"/></a><!--MD5=[1fc04a95fd77ad5ce46c1a3027516051]\n",
       "reverse link E9 to E11--><a href=\"psysml:26e0bda0-b5f1-463e-8de4-6289f85dc961\" target=\"_top\" title=\"psysml:26e0bda0-b5f1-463e-8de4-6289f85dc961\" xlink:actuate=\"onRequest\" xlink:href=\"psysml:26e0bda0-b5f1-463e-8de4-6289f85dc961\" xlink:show=\"new\" xlink:title=\"psysml:26e0bda0-b5f1-463e-8de4-6289f85dc961\" xlink:type=\"simple\"><path d=\"M211.75,204.56 C220.14,220.42 229.92,238.92 237.35,252.98 \" fill=\"none\" id=\"E9&lt;-E11\" style=\"stroke: #383838; stroke-width: 1.0;\"/><polygon fill=\"#FFFFFF\" points=\"205.66,193.06,204.9277,200.2338,211.268,203.669,212.0003,196.4952,205.66,193.06\" style=\"stroke: #383838; stroke-width: 1.0;\"/><text fill=\"#000000\" font-family=\"sans-serif\" font-size=\"13\" lengthAdjust=\"spacingAndGlyphs\" textLength=\"8\" x=\"225.1441\" y=\"241.8709\">1</text></a><!--MD5=[062ed86c389d1a88f61c6380d0491e17]\n",
       "reverse link E12 to E13--><a href=\"psysml:b5605e58-b315-4dd3-8e84-581a703b4e2b\" target=\"_top\" title=\"psysml:b5605e58-b315-4dd3-8e84-581a703b4e2b\" xlink:actuate=\"onRequest\" xlink:href=\"psysml:b5605e58-b315-4dd3-8e84-581a703b4e2b\" xlink:show=\"new\" xlink:title=\"psysml:b5605e58-b315-4dd3-8e84-581a703b4e2b\" xlink:type=\"simple\"><path d=\"M80,100.44 C80,115.87 80,133.47 80,146.98 \" fill=\"none\" id=\"E12&lt;-E13\" style=\"stroke: #383838; stroke-width: 1.0;\"/><polygon fill=\"#383838\" points=\"80,87.06,76,93.06,80,99.06,84,93.06,80,87.06\" style=\"stroke: #383838; stroke-width: 1.0;\"/><text fill=\"#000000\" font-family=\"sans-serif\" font-size=\"13\" lengthAdjust=\"spacingAndGlyphs\" textLength=\"8\" x=\"70.925\" y=\"135.8709\">1</text></a><!--MD5=[01db00f33b28669d6d9febea71002831]\n",
       "reverse link E13 to E14--><a href=\"psysml:db42b499-220f-4c1a-8731-eb36b8c82e1e\" target=\"_top\" title=\"psysml:db42b499-220f-4c1a-8731-eb36b8c82e1e\" xlink:actuate=\"onRequest\" xlink:href=\"psysml:db42b499-220f-4c1a-8731-eb36b8c82e1e\" xlink:show=\"new\" xlink:title=\"psysml:db42b499-220f-4c1a-8731-eb36b8c82e1e\" xlink:type=\"simple\"><path d=\"M83.41,206.44 C84.89,221.87 86.58,239.47 87.88,252.98 \" fill=\"none\" id=\"E13&lt;-E14\" style=\"stroke: #383838; stroke-width: 1.0;\"/><polygon fill=\"#FFFFFF\" points=\"82.12,193.06,78.7125,199.4152,83.2683,205.0049,86.6758,198.6497,82.12,193.06\" style=\"stroke: #383838; stroke-width: 1.0;\"/><text fill=\"#000000\" font-family=\"sans-serif\" font-size=\"13\" lengthAdjust=\"spacingAndGlyphs\" textLength=\"8\" x=\"78.2353\" y=\"241.8709\">1</text></a><!--MD5=[e5566ac99d7714697a7fbc17f6b550fe]\n",
       "link E14 to E2--><a href=\"psysml:7155c58b-23e7-41d9-a472-3863cff0084f\" target=\"_top\" title=\"psysml:7155c58b-23e7-41d9-a472-3863cff0084f\" xlink:actuate=\"onRequest\" xlink:href=\"psysml:7155c58b-23e7-41d9-a472-3863cff0084f\" xlink:show=\"new\" xlink:title=\"psysml:7155c58b-23e7-41d9-a472-3863cff0084f\" xlink:type=\"simple\"><path d=\"M111.28,290.17 C134.86,304.77 173.76,328.85 205.58,348.55 \" fill=\"none\" id=\"E14-&gt;E2\" style=\"stroke: #383838; stroke-width: 1.0;\"/><polygon fill=\"#FFFFFF\" points=\"222.86,359.25,203.0213,355.1971,210.3927,343.2949,222.86,359.25\" style=\"stroke: #383838; stroke-width: 1.0;\"/><ellipse cx=\"199.2284\" cy=\"350.4956\" fill=\"#383838\" rx=\"2\" ry=\"2\" style=\"stroke: #383838; stroke-width: 1.0;\"/><ellipse cx=\"204.4937\" cy=\"341.994\" fill=\"#383838\" rx=\"2\" ry=\"2\" style=\"stroke: #383838; stroke-width: 1.0;\"/></a><!--MD5=[e9a5e828c71fd2209a11a152f562d491]\n",
       "reverse link E13 to E15--><a href=\"psysml:2699a371-802b-44a3-9d88-da30e2130afc\" target=\"_top\" title=\"psysml:2699a371-802b-44a3-9d88-da30e2130afc\" xlink:actuate=\"onRequest\" xlink:href=\"psysml:2699a371-802b-44a3-9d88-da30e2130afc\" xlink:show=\"new\" xlink:title=\"psysml:2699a371-802b-44a3-9d88-da30e2130afc\" xlink:type=\"simple\"><path d=\"M64.33,205.31 C54.54,231.09 45,267.26 52,299 C56.73,320.45 67.65,342.96 76.58,358.96 \" fill=\"none\" id=\"E13&lt;-E15\" style=\"stroke: #383838; stroke-width: 1.0;\"/><polygon fill=\"#FFFFFF\" points=\"69.24,193.2,63.2795,197.2586,64.7334,204.3216,70.6939,200.263,69.24,193.2\" style=\"stroke: #383838; stroke-width: 1.0;\"/><text fill=\"#000000\" font-family=\"sans-serif\" font-size=\"13\" lengthAdjust=\"spacingAndGlyphs\" textLength=\"8\" x=\"63.8984\" y=\"347.8455\">1</text></a><!--MD5=[3afbdc645381407e1bc99677323a2513]\n",
       "link E14 to E15--><a href=\"psysml:1d4c99f1-723b-47e9-b0a9-a2cf4f06711c\" target=\"_top\" title=\"psysml:1d4c99f1-723b-47e9-b0a9-a2cf4f06711c\" xlink:actuate=\"onRequest\" xlink:href=\"psysml:1d4c99f1-723b-47e9-b0a9-a2cf4f06711c\" xlink:show=\"new\" xlink:title=\"psysml:1d4c99f1-723b-47e9-b0a9-a2cf4f06711c\" xlink:type=\"simple\"><path d=\"M79.35,299.06 C76.55,316.7 76.55,341.34 79.36,358.98 \" fill=\"none\" id=\"E14-E15\" style=\"stroke: #383838; stroke-width: 3.0;\"/></a><!--MD5=[3afbdc645381407e1bc99677323a2513]\n",
       "link E14 to E15--><a href=\"psysml:99ef5f64-108a-4414-ad16-a52f47db38b7\" target=\"_top\" title=\"psysml:99ef5f64-108a-4414-ad16-a52f47db38b7\" xlink:actuate=\"onRequest\" xlink:href=\"psysml:99ef5f64-108a-4414-ad16-a52f47db38b7\" xlink:show=\"new\" xlink:title=\"psysml:99ef5f64-108a-4414-ad16-a52f47db38b7\" xlink:type=\"simple\"><path d=\"M101.27,299.06 C104.24,316.7 104.24,341.34 101.27,358.98 \" fill=\"none\" id=\"E14-E15-1\" style=\"stroke: #383838; stroke-width: 3.0;\"/></a><!--MD5=[24ad69aca3ef5dcdce243be46f7b217b]\n",
       "@startuml\r\n",
       "skinparam monochrome true\r\n",
       "skinparam classbackgroundcolor white\r\n",
       "skinparam shadowing false\r\n",
       "skinparam wrapWidth 300\r\n",
       "hide circle\r\n",
       "\r\n",
       "package \"ConjugationTest\" as E1  [[psysml:62f2acf4-862e-4777-8380-6adbdab8aa3b ]]  {\r\n",
       "comp def \"P\" as E2  <<(T,blue) port  def>> [[psysml:8038ba5e-65f3-4a7c-a5d9-05577a1e913e ]] {\r\n",
       "}\r\n",
       "comp def \"B\" as E3  <<(T,blue) part  def>> [[psysml:eb00d253-98ff-4ea5-9d4b-40f483d849ec ]] {\r\n",
       "}\r\n",
       "comp usage \"p1: P \" as E4  <<(T,blue) port>> [[psysml:bd11b2df-eb92-4507-bbbb-c6493b57fcfa ]] {\r\n",
       "}\r\n",
       "comp usage \"p2: ~P \" as E5  <<(T,blue) port>> [[psysml:0cbe2724-4b46-4325-902f-a8a483156696 ]] {\r\n",
       "}\r\n",
       "comp def \"A\" as E6  <<(T,blue) connection  def>> [[psysml:c9adf55d-1d58-41e7-9c8f-305f1a380a4f ]] {\r\n",
       "}\r\n",
       "comp usage \"p1: P \" as E7  <<(T,blue) port>> [[psysml:62009ff7-c341-4e72-a056-ce92de09505b ]] {\r\n",
       "}\r\n",
       "comp usage \"p2: ~P \" as E8  <<(T,blue) port>> [[psysml:50db7d15-a467-4fc6-8fb9-d943e9708b48 ]] {\r\n",
       "}\r\n",
       "comp def \"I\" as E9  <<(T,blue) interface  def>> [[psysml:909b1fdd-cad7-4fe7-8f0f-a5ae3fa3dd03 ]] {\r\n",
       "}\r\n",
       "comp usage \"p1: P \" as E10  <<(T,blue) port>> [[psysml:4b05cf72-e027-47da-9c90-b867da4c93e0 ]] {\r\n",
       "}\r\n",
       "comp usage \"p2: ~P \" as E11  <<(T,blue) port>> [[psysml:0c24ab80-75a0-44e9-976a-962e4e9af685 ]] {\r\n",
       "}\r\n",
       "comp def \"B1\" as E12  <<(T,blue) part  def>> [[psysml:c2ec72d4-85fe-4c8d-a549-b327df7a4c85 ]] {\r\n",
       "}\r\n",
       "comp usage \"p \" as E13  <<(T,blue) part>> [[psysml:bf56b714-b103-43c5-844a-64ae22bea297 ]] {\r\n",
       "}\r\n",
       "comp usage \"p1: P \" as E14  <<(T,blue) port>> [[psysml:b5c2279c-6642-492b-a6cf-19efab06e689 ]] {\r\n",
       "}\r\n",
       "comp usage \"p2: ~P \" as E15  <<(T,blue) port>> [[psysml:ed6b3600-9f65-4ffd-a058-1200daf10699 ]] {\r\n",
       "}\r\n",
       "}\r\n",
       "E3 o- - \"1\"E4 [[psysml:301fc48c-20ce-4bfe-ac1d-96f5db6094d0 ]] \r\n",
       "E4 - -:|> E2 [[psysml:2658e44c-8270-4dd2-9600-daf649b69d41 ]] \r\n",
       "E3 o- - \"1\"E5 [[psysml:223fd842-0df9-4bd0-ad12-80c4696f3c55 ]] \r\n",
       "E6 o- - \"1\"E7 [[psysml:21746d6a-6182-4390-ad27-ac5c9b62bfbf ]] \r\n",
       "E7 - -:|> E2 [[psysml:ac292376-6896-4173-b580-fb46e7ca2b11 ]] \r\n",
       "E6 o- - \"1\"E8 [[psysml:0a911d69-2e8c-46c6-ac57-f08740e1c2a7 ]] \r\n",
       "E9 o- - \"1\"E10 [[psysml:7a6ef9a5-ee54-4bad-bee0-b6cd150b3ba6 ]] \r\n",
       "E10 - -:|> E2 [[psysml:1b1dbb40-b684-43d5-9e90-095d8f580599 ]] \r\n",
       "E9 o- - \"1\"E11 [[psysml:26e0bda0-b5f1-463e-8de4-6289f85dc961 ]] \r\n",
       "E12 *- - \"1\"E13 [[psysml:b5605e58-b315-4dd3-8e84-581a703b4e2b ]] \r\n",
       "E13 o- - \"1\"E14 [[psysml:db42b499-220f-4c1a-8731-eb36b8c82e1e ]] \r\n",
       "E14 - -:|> E2 [[psysml:7155c58b-23e7-41d9-a472-3863cff0084f ]] \r\n",
       "E13 o- - \"1\"E15 [[psysml:2699a371-802b-44a3-9d88-da30e2130afc ]] \r\n",
       "E14 -[thickness=3]- E15 [[psysml:1d4c99f1-723b-47e9-b0a9-a2cf4f06711c ]] \r\n",
       "E14 -[thickness=3]- E15 [[psysml:99ef5f64-108a-4414-ad16-a52f47db38b7 ]] \r\n",
       "@enduml\r\n",
       "\n",
       "PlantUML version 1.2020.13(Sat Jun 13 12:26:38 UTC 2020)\n",
       "(EPL source distribution)\n",
       "Java Runtime: OpenJDK Runtime Environment\n",
       "JVM: OpenJDK 64-Bit Server VM\n",
       "Default Encoding: UTF-8\n",
       "Language: en\n",
       "Country: null\n",
       "--></g></svg>"
      ]
     },
     "execution_count": 38,
     "metadata": {},
     "output_type": "execute_result"
    }
   ],
   "source": [
    "%viz --style=\"DEFAULT\" --view=\"Tree\" \"ConjugationTest\""
   ]
  },
  {
   "cell_type": "code",
   "execution_count": 39,
   "id": "6b667192",
   "metadata": {
    "execution": {
     "iopub.execute_input": "2022-02-18T10:47:47.325379Z",
     "iopub.status.busy": "2022-02-18T10:47:47.324976Z",
     "iopub.status.idle": "2022-02-18T10:47:47.330450Z",
     "shell.execute_reply": "2022-02-18T10:47:47.330105Z"
    }
   },
   "outputs": [
    {
     "data": {
      "image/svg+xml": [
       "<?xml version=\"1.0\" encoding=\"UTF-8\" standalone=\"no\"?><svg xmlns=\"http://www.w3.org/2000/svg\" xmlns:xlink=\"http://www.w3.org/1999/xlink\" contentScriptType=\"application/ecmascript\" contentStyleType=\"text/css\" height=\"12px\" preserveAspectRatio=\"none\" style=\"width:12px;height:12px;\" version=\"1.1\" viewBox=\"0 0 12 12\" width=\"12px\" zoomAndPan=\"magnify\"><defs/><g><!--MD5=[c5f280e076d0d61ccf4b0f27871bda1d]\n",
       "@startuml\r\n",
       "skinparam monochrome true\r\n",
       "skinparam classbackgroundcolor white\r\n",
       "skinparam shadowing false\r\n",
       "skinparam wrapWidth 300\r\n",
       "hide circle\r\n",
       "\r\n",
       "@enduml\r\n",
       "\n",
       "PlantUML version 1.2020.13(Sat Jun 13 12:26:38 UTC 2020)\n",
       "(EPL source distribution)\n",
       "Java Runtime: OpenJDK Runtime Environment\n",
       "JVM: OpenJDK 64-Bit Server VM\n",
       "Default Encoding: UTF-8\n",
       "Language: en\n",
       "Country: null\n",
       "--></g></svg>"
      ]
     },
     "execution_count": 39,
     "metadata": {},
     "output_type": "execute_result"
    }
   ],
   "source": [
    "%viz --style=\"DEFAULT\" --view=\"State\" \"ConjugationTest\""
   ]
  },
  {
   "cell_type": "code",
   "execution_count": 40,
   "id": "b4f03032",
   "metadata": {
    "execution": {
     "iopub.execute_input": "2022-02-18T10:47:47.380338Z",
     "iopub.status.busy": "2022-02-18T10:47:47.379922Z",
     "iopub.status.idle": "2022-02-18T10:47:47.426954Z",
     "shell.execute_reply": "2022-02-18T10:47:47.425599Z"
    }
   },
   "outputs": [
    {
     "data": {
      "image/svg+xml": [
       "<?xml version=\"1.0\" encoding=\"UTF-8\" standalone=\"no\"?><svg xmlns=\"http://www.w3.org/2000/svg\" xmlns:xlink=\"http://www.w3.org/1999/xlink\" contentScriptType=\"application/ecmascript\" contentStyleType=\"text/css\" height=\"246px\" preserveAspectRatio=\"none\" style=\"width:753px;height:246px;\" version=\"1.1\" viewBox=\"0 0 753 246\" width=\"753px\" zoomAndPan=\"magnify\"><defs/><g><!--MD5=[fbc87193dbaf4d95561dea2c320d4a47]\n",
       "cluster E1--><a href=\"psysml:62f2acf4-862e-4777-8380-6adbdab8aa3b\" target=\"_top\" title=\"psysml:62f2acf4-862e-4777-8380-6adbdab8aa3b\" xlink:actuate=\"onRequest\" xlink:href=\"psysml:62f2acf4-862e-4777-8380-6adbdab8aa3b\" xlink:show=\"new\" xlink:title=\"psysml:62f2acf4-862e-4777-8380-6adbdab8aa3b\" xlink:type=\"simple\"><polygon fill=\"#FFFFFF\" points=\"16,6,136,6,143,28.2969,731,28.2969,731,234.5,16,234.5,16,6\" style=\"stroke: #000000; stroke-width: 1.5;\"/><line style=\"stroke: #000000; stroke-width: 1.5;\" x1=\"16\" x2=\"143\" y1=\"28.2969\" y2=\"28.2969\"/><text fill=\"#000000\" font-family=\"sans-serif\" font-size=\"14\" font-weight=\"bold\" lengthAdjust=\"spacingAndGlyphs\" textLength=\"114\" x=\"20\" y=\"20.9951\">ConjugationTest</text></a><!--MD5=[d5e69f78d87373223dbae638b30a9c99]\n",
       "cluster E3--><a href=\"psysml:eb00d253-98ff-4ea5-9d4b-40f483d849ec\" target=\"_top\" title=\"psysml:eb00d253-98ff-4ea5-9d4b-40f483d849ec\" xlink:actuate=\"onRequest\" xlink:href=\"psysml:eb00d253-98ff-4ea5-9d4b-40f483d849ec\" xlink:show=\"new\" xlink:title=\"psysml:eb00d253-98ff-4ea5-9d4b-40f483d849ec\" xlink:type=\"simple\"><rect fill=\"#FFFFFF\" height=\"88.5\" id=\"E3\" style=\"stroke: #383838; stroke-width: 1.5;\" width=\"85\" x=\"588\" y=\"114\"/><rect fill=\"#F8F8F8\" height=\"37.9375\" style=\"stroke: #383838; stroke-width: 1.5;\" width=\"85\" x=\"588\" y=\"114\"/><text fill=\"#000000\" font-family=\"sans-serif\" font-size=\"12\" font-style=\"italic\" lengthAdjust=\"spacingAndGlyphs\" textLength=\"68\" x=\"596.5\" y=\"130.1387\">«part  def»</text><text fill=\"#000000\" font-family=\"sans-serif\" font-size=\"12\" lengthAdjust=\"spacingAndGlyphs\" textLength=\"8\" x=\"626.5\" y=\"144.1074\">B</text></a><!--MD5=[14e3b0961a2654348d326746436168a1]\n",
       "cluster E6--><a href=\"psysml:c9adf55d-1d58-41e7-9c8f-305f1a380a4f\" target=\"_top\" title=\"psysml:c9adf55d-1d58-41e7-9c8f-305f1a380a4f\" xlink:actuate=\"onRequest\" xlink:href=\"psysml:c9adf55d-1d58-41e7-9c8f-305f1a380a4f\" xlink:show=\"new\" xlink:title=\"psysml:c9adf55d-1d58-41e7-9c8f-305f1a380a4f\" xlink:type=\"simple\"><rect fill=\"#FFFFFF\" height=\"88.5\" id=\"E6\" style=\"stroke: #383838; stroke-width: 1.5;\" width=\"152\" x=\"431\" y=\"114\"/><rect fill=\"#F8F8F8\" height=\"37.9375\" style=\"stroke: #383838; stroke-width: 1.5;\" width=\"152\" x=\"431\" y=\"114\"/><text fill=\"#000000\" font-family=\"sans-serif\" font-size=\"12\" font-style=\"italic\" lengthAdjust=\"spacingAndGlyphs\" textLength=\"112\" x=\"451\" y=\"130.1387\">«connection  def»</text><text fill=\"#000000\" font-family=\"sans-serif\" font-size=\"12\" lengthAdjust=\"spacingAndGlyphs\" textLength=\"8\" x=\"503\" y=\"144.1074\">A</text></a><!--MD5=[7f149f147074ac12df2cb0a7728a5fb0]\n",
       "cluster E9--><a href=\"psysml:909b1fdd-cad7-4fe7-8f0f-a5ae3fa3dd03\" target=\"_top\" title=\"psysml:909b1fdd-cad7-4fe7-8f0f-a5ae3fa3dd03\" xlink:actuate=\"onRequest\" xlink:href=\"psysml:909b1fdd-cad7-4fe7-8f0f-a5ae3fa3dd03\" xlink:show=\"new\" xlink:title=\"psysml:909b1fdd-cad7-4fe7-8f0f-a5ae3fa3dd03\" xlink:type=\"simple\"><rect fill=\"#FFFFFF\" height=\"88.5\" id=\"E9\" style=\"stroke: #383838; stroke-width: 1.5;\" width=\"143\" x=\"258\" y=\"114\"/><rect fill=\"#F8F8F8\" height=\"37.9375\" style=\"stroke: #383838; stroke-width: 1.5;\" width=\"143\" x=\"258\" y=\"114\"/><text fill=\"#000000\" font-family=\"sans-serif\" font-size=\"12\" font-style=\"italic\" lengthAdjust=\"spacingAndGlyphs\" textLength=\"98\" x=\"280.5\" y=\"130.1387\">«interface  def»</text><text fill=\"#000000\" font-family=\"sans-serif\" font-size=\"12\" lengthAdjust=\"spacingAndGlyphs\" textLength=\"3\" x=\"328\" y=\"144.1074\">I</text></a><!--MD5=[47bea60c1a0ac6c1143df232041969c0]\n",
       "cluster E12--><a href=\"psysml:c2ec72d4-85fe-4c8d-a549-b327df7a4c85\" target=\"_top\" title=\"psysml:c2ec72d4-85fe-4c8d-a549-b327df7a4c85\" xlink:actuate=\"onRequest\" xlink:href=\"psysml:c2ec72d4-85fe-4c8d-a549-b327df7a4c85\" xlink:show=\"new\" xlink:title=\"psysml:c2ec72d4-85fe-4c8d-a549-b327df7a4c85\" xlink:type=\"simple\"><rect fill=\"#FFFFFF\" height=\"161.5\" id=\"E12\" style=\"stroke: #383838; stroke-width: 1.5;\" width=\"107\" x=\"122\" y=\"49\"/><rect fill=\"#F8F8F8\" height=\"37.9375\" style=\"stroke: #383838; stroke-width: 1.5;\" width=\"107\" x=\"122\" y=\"49\"/><text fill=\"#000000\" font-family=\"sans-serif\" font-size=\"12\" font-style=\"italic\" lengthAdjust=\"spacingAndGlyphs\" textLength=\"68\" x=\"141.5\" y=\"65.1387\">«part  def»</text><text fill=\"#000000\" font-family=\"sans-serif\" font-size=\"12\" lengthAdjust=\"spacingAndGlyphs\" textLength=\"16\" x=\"167.5\" y=\"79.1074\">B1</text></a><!--MD5=[03104f77b71e2d8d3500c651e6e31181]\n",
       "cluster E13--><a href=\"psysml:bf56b714-b103-43c5-844a-64ae22bea297\" target=\"_top\" title=\"psysml:bf56b714-b103-43c5-844a-64ae22bea297\" xlink:actuate=\"onRequest\" xlink:href=\"psysml:bf56b714-b103-43c5-844a-64ae22bea297\" xlink:show=\"new\" xlink:title=\"psysml:bf56b714-b103-43c5-844a-64ae22bea297\" xlink:type=\"simple\"><rect fill=\"#FFFFFF\" height=\"80.5\" id=\"E13\" rx=\"10\" ry=\"10\" style=\"stroke: #383838; stroke-width: 1.5;\" width=\"83\" x=\"134\" y=\"114\"/><rect fill=\"#F8F8F8\" height=\"23.9688\" rx=\"10\" ry=\"10\" style=\"stroke: #F8F8F8; stroke-width: 1.5;\" width=\"83\" x=\"134\" y=\"114\"/><rect fill=\"#F8F8F8\" height=\"10\" style=\"stroke: #F8F8F8; stroke-width: 1.5;\" width=\"83\" x=\"134\" y=\"127.9688\"/><rect fill=\"none\" height=\"80.5\" id=\"E13\" rx=\"10\" ry=\"10\" style=\"stroke: #383838; stroke-width: 1.5;\" width=\"83\" x=\"134\" y=\"114\"/><text fill=\"#000000\" font-family=\"sans-serif\" font-size=\"12\" lengthAdjust=\"spacingAndGlyphs\" textLength=\"8\" x=\"171.5\" y=\"130.1387\">p</text><line style=\"stroke: #383838; stroke-width: 1.0;\" x1=\"134\" x2=\"217\" y1=\"137.9688\" y2=\"137.9688\"/></a><g id=\"E1.E2\"><a href=\"psysml:8038ba5e-65f3-4a7c-a5d9-05577a1e913e\" target=\"_top\" title=\"psysml:8038ba5e-65f3-4a7c-a5d9-05577a1e913e\" xlink:actuate=\"onRequest\" xlink:href=\"psysml:8038ba5e-65f3-4a7c-a5d9-05577a1e913e\" xlink:show=\"new\" xlink:title=\"psysml:8038ba5e-65f3-4a7c-a5d9-05577a1e913e\" xlink:type=\"simple\"><rect fill=\"#FFFFFF\" height=\"42.9375\" id=\"E2\" style=\"stroke: #383838; stroke-width: 1.5;\" width=\"75\" x=\"31.5\" y=\"92.5\"/><rect fill=\"#F8F8F8\" height=\"37.9375\" style=\"stroke: #383838; stroke-width: 1.5;\" width=\"75\" x=\"31.5\" y=\"92.5\"/><text fill=\"#000000\" font-family=\"sans-serif\" font-size=\"12\" font-style=\"italic\" lengthAdjust=\"spacingAndGlyphs\" textLength=\"68\" x=\"35\" y=\"108.6387\">«port  def»</text><text fill=\"#000000\" font-family=\"sans-serif\" font-size=\"12\" lengthAdjust=\"spacingAndGlyphs\" textLength=\"8\" x=\"65\" y=\"122.6074\">P</text></a></g><text fill=\"#000000\" font-family=\"sans-serif\" font-size=\"14\" lengthAdjust=\"spacingAndGlyphs\" textLength=\"36\" x=\"586\" y=\"92.6982\">p1: P</text><rect fill=\"#383838\" height=\"12\" style=\"stroke: #F8F8F8; stroke-width: 1.5;\" width=\"12\" x=\"600\" y=\"108\"/><text fill=\"#000000\" font-family=\"sans-serif\" font-size=\"14\" lengthAdjust=\"spacingAndGlyphs\" textLength=\"48\" x=\"627\" y=\"92.6982\">p2: ~P</text><rect fill=\"#383838\" height=\"12\" style=\"stroke: #F8F8F8; stroke-width: 1.5;\" width=\"12\" x=\"647\" y=\"108\"/><text fill=\"#000000\" font-family=\"sans-serif\" font-size=\"14\" lengthAdjust=\"spacingAndGlyphs\" textLength=\"36\" x=\"429\" y=\"92.6982\">p1: P</text><rect fill=\"#383838\" height=\"12\" style=\"stroke: #F8F8F8; stroke-width: 1.5;\" width=\"12\" x=\"443\" y=\"108\"/><text fill=\"#000000\" font-family=\"sans-serif\" font-size=\"14\" lengthAdjust=\"spacingAndGlyphs\" textLength=\"48\" x=\"470\" y=\"92.6982\">p2: ~P</text><rect fill=\"#383838\" height=\"12\" style=\"stroke: #F8F8F8; stroke-width: 1.5;\" width=\"12\" x=\"490\" y=\"108\"/><text fill=\"#000000\" font-family=\"sans-serif\" font-size=\"14\" lengthAdjust=\"spacingAndGlyphs\" textLength=\"36\" x=\"256\" y=\"92.6982\">p1: P</text><rect fill=\"#383838\" height=\"12\" style=\"stroke: #F8F8F8; stroke-width: 1.5;\" width=\"12\" x=\"270\" y=\"108\"/><text fill=\"#000000\" font-family=\"sans-serif\" font-size=\"14\" lengthAdjust=\"spacingAndGlyphs\" textLength=\"48\" x=\"297\" y=\"92.6982\">p2: ~P</text><rect fill=\"#383838\" height=\"12\" style=\"stroke: #F8F8F8; stroke-width: 1.5;\" width=\"12\" x=\"317\" y=\"108\"/><text fill=\"#000000\" font-family=\"sans-serif\" font-size=\"14\" lengthAdjust=\"spacingAndGlyphs\" textLength=\"36\" x=\"132\" y=\"92.6982\">p1: P</text><rect fill=\"#383838\" height=\"12\" style=\"stroke: #F8F8F8; stroke-width: 1.5;\" width=\"12\" x=\"146\" y=\"108\"/><text fill=\"#000000\" font-family=\"sans-serif\" font-size=\"14\" lengthAdjust=\"spacingAndGlyphs\" textLength=\"48\" x=\"173\" y=\"92.6982\">p2: ~P</text><rect fill=\"#383838\" height=\"12\" style=\"stroke: #F8F8F8; stroke-width: 1.5;\" width=\"12\" x=\"193\" y=\"108\"/><!--MD5=[3afbdc645381407e1bc99677323a2513]\n",
       "link E14 to E15--><a href=\"psysml:1d4c99f1-723b-47e9-b0a9-a2cf4f06711c\" target=\"_top\" title=\"psysml:1d4c99f1-723b-47e9-b0a9-a2cf4f06711c\" xlink:actuate=\"onRequest\" xlink:href=\"psysml:1d4c99f1-723b-47e9-b0a9-a2cf4f06711c\" xlink:show=\"new\" xlink:title=\"psysml:1d4c99f1-723b-47e9-b0a9-a2cf4f06711c\" xlink:type=\"simple\"><path d=\"M158.24,114 C169.81,114 181.38,114 192.95,114 \" fill=\"none\" id=\"E14-E15\" style=\"stroke: #383838; stroke-width: 3.0;\"/></a><!--MD5=[3afbdc645381407e1bc99677323a2513]\n",
       "link E14 to E15--><a href=\"psysml:99ef5f64-108a-4414-ad16-a52f47db38b7\" target=\"_top\" title=\"psysml:99ef5f64-108a-4414-ad16-a52f47db38b7\" xlink:actuate=\"onRequest\" xlink:href=\"psysml:99ef5f64-108a-4414-ad16-a52f47db38b7\" xlink:show=\"new\" xlink:title=\"psysml:99ef5f64-108a-4414-ad16-a52f47db38b7\" xlink:type=\"simple\"><path d=\"M158.24,111.93 C169.81,108.67 181.38,108.69 192.95,111.98 \" fill=\"none\" id=\"E14-E15-1\" style=\"stroke: #383838; stroke-width: 3.0;\"/></a><!--MD5=[d0b4558f82b5a24e0c6e507db5808c3a]\n",
       "@startuml\r\n",
       "skinparam ranksep 10\r\n",
       "skinparam rectangle {\r\n",
       " backgroundColor<<block>> LightGreen\r\n",
       "}\r\n",
       "skinparam monochrome true\r\n",
       "skinparam classbackgroundcolor white\r\n",
       "skinparam shadowing false\r\n",
       "skinparam wrapWidth 300\r\n",
       "hide circle\r\n",
       "\r\n",
       "package \"ConjugationTest\" as E1  [[psysml:62f2acf4-862e-4777-8380-6adbdab8aa3b ]]  {\r\n",
       "def \"P\" as E2  <<(T,blue) port  def>> [[psysml:8038ba5e-65f3-4a7c-a5d9-05577a1e913e ]] \r\n",
       "rec def \"B\" as E3  <<(T,blue) part  def>> [[psysml:eb00d253-98ff-4ea5-9d4b-40f483d849ec ]] {\r\n",
       "portin \"p1: P \" as E4  <<(T,blue) port>> [[psysml:bd11b2df-eb92-4507-bbbb-c6493b57fcfa ]] \r\n",
       "portin \"p2: ~P \" as E5  <<(T,blue) port>> [[psysml:0cbe2724-4b46-4325-902f-a8a483156696 ]] \r\n",
       "}\r\n",
       "rec def \"A\" as E6  <<(T,blue) connection  def>> [[psysml:c9adf55d-1d58-41e7-9c8f-305f1a380a4f ]] {\r\n",
       "portin \"p1: P \" as E7  <<(T,blue) port>> [[psysml:62009ff7-c341-4e72-a056-ce92de09505b ]] \r\n",
       "portin \"p2: ~P \" as E8  <<(T,blue) port>> [[psysml:50db7d15-a467-4fc6-8fb9-d943e9708b48 ]] \r\n",
       "}\r\n",
       "rec def \"I\" as E9  <<(T,blue) interface  def>> [[psysml:909b1fdd-cad7-4fe7-8f0f-a5ae3fa3dd03 ]] {\r\n",
       "portin \"p1: P \" as E10  <<(T,blue) port>> [[psysml:4b05cf72-e027-47da-9c90-b867da4c93e0 ]] \r\n",
       "portin \"p2: ~P \" as E11  <<(T,blue) port>> [[psysml:0c24ab80-75a0-44e9-976a-962e4e9af685 ]] \r\n",
       "}\r\n",
       "rec def \"B1\" as E12  <<(T,blue) part  def>> [[psysml:c2ec72d4-85fe-4c8d-a549-b327df7a4c85 ]] {\r\n",
       "rec usage \"p\" as E13  [[psysml:bf56b714-b103-43c5-844a-64ae22bea297 ]] {\r\n",
       "portin \"p1: P \" as E14  <<(T,blue) port>> [[psysml:b5c2279c-6642-492b-a6cf-19efab06e689 ]] \r\n",
       "portin \"p2: ~P \" as E15  <<(T,blue) port>> [[psysml:ed6b3600-9f65-4ffd-a058-1200daf10699 ]] \r\n",
       "}\r\n",
       "}\r\n",
       "}\r\n",
       "E14 -[thickness=3]- E15 [[psysml:1d4c99f1-723b-47e9-b0a9-a2cf4f06711c ]] \r\n",
       "E14 -[thickness=3]- E15 [[psysml:99ef5f64-108a-4414-ad16-a52f47db38b7 ]] \r\n",
       "@enduml\r\n",
       "\n",
       "PlantUML version 1.2020.13(Sat Jun 13 12:26:38 UTC 2020)\n",
       "(EPL source distribution)\n",
       "Java Runtime: OpenJDK Runtime Environment\n",
       "JVM: OpenJDK 64-Bit Server VM\n",
       "Default Encoding: UTF-8\n",
       "Language: en\n",
       "Country: null\n",
       "--></g></svg>"
      ]
     },
     "execution_count": 40,
     "metadata": {},
     "output_type": "execute_result"
    }
   ],
   "source": [
    "%viz --style=\"DEFAULT\" --view=\"Interconnection\" \"ConjugationTest\""
   ]
  },
  {
   "cell_type": "code",
   "execution_count": 41,
   "id": "085444e4",
   "metadata": {
    "execution": {
     "iopub.execute_input": "2022-02-18T10:47:47.476440Z",
     "iopub.status.busy": "2022-02-18T10:47:47.476025Z",
     "iopub.status.idle": "2022-02-18T10:47:47.481408Z",
     "shell.execute_reply": "2022-02-18T10:47:47.481077Z"
    }
   },
   "outputs": [
    {
     "data": {
      "image/svg+xml": [
       "<?xml version=\"1.0\" encoding=\"UTF-8\" standalone=\"no\"?><svg xmlns=\"http://www.w3.org/2000/svg\" xmlns:xlink=\"http://www.w3.org/1999/xlink\" contentScriptType=\"application/ecmascript\" contentStyleType=\"text/css\" height=\"12px\" preserveAspectRatio=\"none\" style=\"width:12px;height:12px;\" version=\"1.1\" viewBox=\"0 0 12 12\" width=\"12px\" zoomAndPan=\"magnify\"><defs/><g><!--MD5=[388f21188e31bfdd97050473b19af356]\n",
       "@startuml\r\n",
       "skinparam ranksep 8\r\n",
       "skinparam monochrome true\r\n",
       "skinparam classbackgroundcolor white\r\n",
       "skinparam shadowing false\r\n",
       "skinparam wrapWidth 300\r\n",
       "hide circle\r\n",
       "\r\n",
       "@enduml\r\n",
       "\n",
       "PlantUML version 1.2020.13(Sat Jun 13 12:26:38 UTC 2020)\n",
       "(EPL source distribution)\n",
       "Java Runtime: OpenJDK Runtime Environment\n",
       "JVM: OpenJDK 64-Bit Server VM\n",
       "Default Encoding: UTF-8\n",
       "Language: en\n",
       "Country: null\n",
       "--></g></svg>"
      ]
     },
     "execution_count": 41,
     "metadata": {},
     "output_type": "execute_result"
    }
   ],
   "source": [
    "%viz --style=\"DEFAULT\" --view=\"Action\" \"ConjugationTest\""
   ]
  },
  {
   "cell_type": "code",
   "execution_count": 42,
   "id": "997b4c44",
   "metadata": {
    "execution": {
     "iopub.execute_input": "2022-02-18T10:47:47.531227Z",
     "iopub.status.busy": "2022-02-18T10:47:47.530826Z",
     "iopub.status.idle": "2022-02-18T10:47:47.535872Z",
     "shell.execute_reply": "2022-02-18T10:47:47.535545Z"
    }
   },
   "outputs": [
    {
     "data": {
      "image/svg+xml": [
       "<?xml version=\"1.0\" encoding=\"UTF-8\" standalone=\"no\"?><svg xmlns=\"http://www.w3.org/2000/svg\" xmlns:xlink=\"http://www.w3.org/1999/xlink\" contentScriptType=\"application/ecmascript\" contentStyleType=\"text/css\" height=\"12px\" preserveAspectRatio=\"none\" style=\"width:12px;height:12px;\" version=\"1.1\" viewBox=\"0 0 12 12\" width=\"12px\" zoomAndPan=\"magnify\"><defs/><g><!--MD5=[0b72472770326784bf6c2b53246e1e64]\n",
       "@startuml\r\n",
       "skinparam roundcorner 20\r\n",
       "skinparam BoxPadding 20\r\n",
       "skinparam SequenceBoxBackgroundColor #white\r\n",
       "skinparam style strictuml\r\n",
       "skinparam maxMessageSize 100\r\n",
       "skinparam monochrome true\r\n",
       "skinparam classbackgroundcolor white\r\n",
       "skinparam shadowing false\r\n",
       "skinparam wrapWidth 300\r\n",
       "hide circle\r\n",
       "\r\n",
       "@enduml\r\n",
       "\n",
       "PlantUML version 1.2020.13(Sat Jun 13 12:26:38 UTC 2020)\n",
       "(EPL source distribution)\n",
       "Java Runtime: OpenJDK Runtime Environment\n",
       "JVM: OpenJDK 64-Bit Server VM\n",
       "Default Encoding: UTF-8\n",
       "Language: en\n",
       "Country: null\n",
       "--></g></svg>"
      ]
     },
     "execution_count": 42,
     "metadata": {},
     "output_type": "execute_result"
    }
   ],
   "source": [
    "%viz --style=\"DEFAULT\" --view=\"Sequence\" \"ConjugationTest\""
   ]
  },
  {
   "cell_type": "code",
   "execution_count": 43,
   "id": "e29ca8ba",
   "metadata": {
    "execution": {
     "iopub.execute_input": "2022-02-18T10:47:47.585823Z",
     "iopub.status.busy": "2022-02-18T10:47:47.585426Z",
     "iopub.status.idle": "2022-02-18T10:47:47.632541Z",
     "shell.execute_reply": "2022-02-18T10:47:47.630979Z"
    }
   },
   "outputs": [
    {
     "data": {
      "image/svg+xml": [
       "<?xml version=\"1.0\" encoding=\"UTF-8\" standalone=\"no\"?><svg xmlns=\"http://www.w3.org/2000/svg\" xmlns:xlink=\"http://www.w3.org/1999/xlink\" contentScriptType=\"application/ecmascript\" contentStyleType=\"text/css\" height=\"433px\" preserveAspectRatio=\"none\" style=\"width:641px;height:433px;\" version=\"1.1\" viewBox=\"0 0 641 433\" width=\"641px\" zoomAndPan=\"magnify\"><defs/><g><!--MD5=[fbc87193dbaf4d95561dea2c320d4a47]\n",
       "cluster E1--><a href=\"psysml:62f2acf4-862e-4777-8380-6adbdab8aa3b\" target=\"_top\" title=\"psysml:62f2acf4-862e-4777-8380-6adbdab8aa3b\" xlink:actuate=\"onRequest\" xlink:href=\"psysml:62f2acf4-862e-4777-8380-6adbdab8aa3b\" xlink:show=\"new\" xlink:title=\"psysml:62f2acf4-862e-4777-8380-6adbdab8aa3b\" xlink:type=\"simple\"><polygon fill=\"#FFFFFF\" points=\"16,6,136,6,143,28.2969,619,28.2969,619,421,16,421,16,6\" style=\"stroke: #000000; stroke-width: 1.5;\"/><line style=\"stroke: #000000; stroke-width: 1.5;\" x1=\"16\" x2=\"143\" y1=\"28.2969\" y2=\"28.2969\"/><text fill=\"#000000\" font-family=\"sans-serif\" font-size=\"14\" font-weight=\"bold\" lengthAdjust=\"spacingAndGlyphs\" textLength=\"114\" x=\"20\" y=\"20.9951\">ConjugationTest</text></a><!--MD5=[b4997ac47864f28c2f74865a473b2911]\n",
       "class E2--><a href=\"psysml:8038ba5e-65f3-4a7c-a5d9-05577a1e913e\" target=\"_top\" title=\"psysml:8038ba5e-65f3-4a7c-a5d9-05577a1e913e\" xlink:actuate=\"onRequest\" xlink:href=\"psysml:8038ba5e-65f3-4a7c-a5d9-05577a1e913e\" xlink:show=\"new\" xlink:title=\"psysml:8038ba5e-65f3-4a7c-a5d9-05577a1e913e\" xlink:type=\"simple\"><rect fill=\"#FFFFFF\" height=\"45.9375\" id=\"E2\" style=\"stroke: #383838; stroke-width: 1.5;\" width=\"70\" x=\"223\" y=\"359\"/><text fill=\"#000000\" font-family=\"sans-serif\" font-size=\"12\" font-style=\"italic\" lengthAdjust=\"spacingAndGlyphs\" textLength=\"68\" x=\"224\" y=\"375.1387\">«port  def»</text><text fill=\"#000000\" font-family=\"sans-serif\" font-size=\"12\" lengthAdjust=\"spacingAndGlyphs\" textLength=\"8\" x=\"254\" y=\"389.1074\">P</text><line style=\"stroke: #383838; stroke-width: 1.5;\" x1=\"224\" x2=\"292\" y1=\"396.9375\" y2=\"396.9375\"/></a><!--MD5=[09b614a08d8cba4a07c9adeb5e0fee81]\n",
       "class E3--><a href=\"psysml:eb00d253-98ff-4ea5-9d4b-40f483d849ec\" target=\"_top\" title=\"psysml:eb00d253-98ff-4ea5-9d4b-40f483d849ec\" xlink:actuate=\"onRequest\" xlink:href=\"psysml:eb00d253-98ff-4ea5-9d4b-40f483d849ec\" xlink:show=\"new\" xlink:title=\"psysml:eb00d253-98ff-4ea5-9d4b-40f483d849ec\" xlink:type=\"simple\"><rect fill=\"#FFFFFF\" height=\"45.9375\" id=\"E3\" style=\"stroke: #383838; stroke-width: 1.5;\" width=\"70\" x=\"496\" y=\"147\"/><text fill=\"#000000\" font-family=\"sans-serif\" font-size=\"12\" font-style=\"italic\" lengthAdjust=\"spacingAndGlyphs\" textLength=\"68\" x=\"497\" y=\"163.1387\">«part  def»</text><text fill=\"#000000\" font-family=\"sans-serif\" font-size=\"12\" lengthAdjust=\"spacingAndGlyphs\" textLength=\"8\" x=\"527\" y=\"177.1074\">B</text><line style=\"stroke: #383838; stroke-width: 1.5;\" x1=\"497\" x2=\"565\" y1=\"184.9375\" y2=\"184.9375\"/></a><!--MD5=[ebbe1d658d1005bcc118a6aa81145e00]\n",
       "class E4--><a href=\"psysml:bd11b2df-eb92-4507-bbbb-c6493b57fcfa\" target=\"_top\" title=\"psysml:bd11b2df-eb92-4507-bbbb-c6493b57fcfa\" xlink:actuate=\"onRequest\" xlink:href=\"psysml:bd11b2df-eb92-4507-bbbb-c6493b57fcfa\" xlink:show=\"new\" xlink:title=\"psysml:bd11b2df-eb92-4507-bbbb-c6493b57fcfa\" xlink:type=\"simple\"><rect fill=\"#FFFFFF\" height=\"45.9375\" id=\"E4\" rx=\"10\" ry=\"10\" style=\"stroke: #383838; stroke-width: 1.5;\" width=\"42\" x=\"474\" y=\"253\"/><text fill=\"#000000\" font-family=\"sans-serif\" font-size=\"12\" font-style=\"italic\" lengthAdjust=\"spacingAndGlyphs\" textLength=\"40\" x=\"475\" y=\"269.1387\">«port»</text><text fill=\"#000000\" font-family=\"sans-serif\" font-size=\"12\" lengthAdjust=\"spacingAndGlyphs\" textLength=\"32\" x=\"477\" y=\"283.1074\">p1: P</text><line style=\"stroke: #383838; stroke-width: 1.5;\" x1=\"475\" x2=\"515\" y1=\"290.9375\" y2=\"290.9375\"/></a><!--MD5=[270fce915f116d4de14055a7c1d9a0f3]\n",
       "class E5--><a href=\"psysml:0cbe2724-4b46-4325-902f-a8a483156696\" target=\"_top\" title=\"psysml:0cbe2724-4b46-4325-902f-a8a483156696\" xlink:actuate=\"onRequest\" xlink:href=\"psysml:0cbe2724-4b46-4325-902f-a8a483156696\" xlink:show=\"new\" xlink:title=\"psysml:0cbe2724-4b46-4325-902f-a8a483156696\" xlink:type=\"simple\"><rect fill=\"#FFFFFF\" height=\"45.9375\" id=\"E5\" rx=\"10\" ry=\"10\" style=\"stroke: #383838; stroke-width: 1.5;\" width=\"52\" x=\"551\" y=\"253\"/><text fill=\"#000000\" font-family=\"sans-serif\" font-size=\"12\" font-style=\"italic\" lengthAdjust=\"spacingAndGlyphs\" textLength=\"40\" x=\"557\" y=\"269.1387\">«port»</text><text fill=\"#000000\" font-family=\"sans-serif\" font-size=\"12\" lengthAdjust=\"spacingAndGlyphs\" textLength=\"42\" x=\"554\" y=\"283.1074\">p2: ~P</text><line style=\"stroke: #383838; stroke-width: 1.5;\" x1=\"552\" x2=\"602\" y1=\"290.9375\" y2=\"290.9375\"/></a><!--MD5=[60a26617385b1d2d0262a64233df1f8d]\n",
       "class E6--><a href=\"psysml:c9adf55d-1d58-41e7-9c8f-305f1a380a4f\" target=\"_top\" title=\"psysml:c9adf55d-1d58-41e7-9c8f-305f1a380a4f\" xlink:actuate=\"onRequest\" xlink:href=\"psysml:c9adf55d-1d58-41e7-9c8f-305f1a380a4f\" xlink:show=\"new\" xlink:title=\"psysml:c9adf55d-1d58-41e7-9c8f-305f1a380a4f\" xlink:type=\"simple\"><rect fill=\"#FFFFFF\" height=\"45.9375\" id=\"E6\" style=\"stroke: #383838; stroke-width: 1.5;\" width=\"114\" x=\"283\" y=\"147\"/><text fill=\"#000000\" font-family=\"sans-serif\" font-size=\"12\" font-style=\"italic\" lengthAdjust=\"spacingAndGlyphs\" textLength=\"112\" x=\"284\" y=\"163.1387\">«connection  def»</text><text fill=\"#000000\" font-family=\"sans-serif\" font-size=\"12\" lengthAdjust=\"spacingAndGlyphs\" textLength=\"8\" x=\"336\" y=\"177.1074\">A</text><line style=\"stroke: #383838; stroke-width: 1.5;\" x1=\"284\" x2=\"396\" y1=\"184.9375\" y2=\"184.9375\"/></a><!--MD5=[2156ba9850f5573cc1fc38a6a4b2f02b]\n",
       "class E7--><a href=\"psysml:62009ff7-c341-4e72-a056-ce92de09505b\" target=\"_top\" title=\"psysml:62009ff7-c341-4e72-a056-ce92de09505b\" xlink:actuate=\"onRequest\" xlink:href=\"psysml:62009ff7-c341-4e72-a056-ce92de09505b\" xlink:show=\"new\" xlink:title=\"psysml:62009ff7-c341-4e72-a056-ce92de09505b\" xlink:type=\"simple\"><rect fill=\"#FFFFFF\" height=\"45.9375\" id=\"E7\" rx=\"10\" ry=\"10\" style=\"stroke: #383838; stroke-width: 1.5;\" width=\"42\" x=\"310\" y=\"253\"/><text fill=\"#000000\" font-family=\"sans-serif\" font-size=\"12\" font-style=\"italic\" lengthAdjust=\"spacingAndGlyphs\" textLength=\"40\" x=\"311\" y=\"269.1387\">«port»</text><text fill=\"#000000\" font-family=\"sans-serif\" font-size=\"12\" lengthAdjust=\"spacingAndGlyphs\" textLength=\"32\" x=\"313\" y=\"283.1074\">p1: P</text><line style=\"stroke: #383838; stroke-width: 1.5;\" x1=\"311\" x2=\"351\" y1=\"290.9375\" y2=\"290.9375\"/></a><!--MD5=[b9389687b975829384b498ac4b7476b2]\n",
       "class E8--><a href=\"psysml:50db7d15-a467-4fc6-8fb9-d943e9708b48\" target=\"_top\" title=\"psysml:50db7d15-a467-4fc6-8fb9-d943e9708b48\" xlink:actuate=\"onRequest\" xlink:href=\"psysml:50db7d15-a467-4fc6-8fb9-d943e9708b48\" xlink:show=\"new\" xlink:title=\"psysml:50db7d15-a467-4fc6-8fb9-d943e9708b48\" xlink:type=\"simple\"><rect fill=\"#FFFFFF\" height=\"45.9375\" id=\"E8\" rx=\"10\" ry=\"10\" style=\"stroke: #383838; stroke-width: 1.5;\" width=\"52\" x=\"387\" y=\"253\"/><text fill=\"#000000\" font-family=\"sans-serif\" font-size=\"12\" font-style=\"italic\" lengthAdjust=\"spacingAndGlyphs\" textLength=\"40\" x=\"393\" y=\"269.1387\">«port»</text><text fill=\"#000000\" font-family=\"sans-serif\" font-size=\"12\" lengthAdjust=\"spacingAndGlyphs\" textLength=\"42\" x=\"390\" y=\"283.1074\">p2: ~P</text><line style=\"stroke: #383838; stroke-width: 1.5;\" x1=\"388\" x2=\"438\" y1=\"290.9375\" y2=\"290.9375\"/></a><!--MD5=[fd4143e9d270a159db93a4ea2a975926]\n",
       "class E9--><a href=\"psysml:909b1fdd-cad7-4fe7-8f0f-a5ae3fa3dd03\" target=\"_top\" title=\"psysml:909b1fdd-cad7-4fe7-8f0f-a5ae3fa3dd03\" xlink:actuate=\"onRequest\" xlink:href=\"psysml:909b1fdd-cad7-4fe7-8f0f-a5ae3fa3dd03\" xlink:show=\"new\" xlink:title=\"psysml:909b1fdd-cad7-4fe7-8f0f-a5ae3fa3dd03\" xlink:type=\"simple\"><rect fill=\"#FFFFFF\" height=\"45.9375\" id=\"E9\" style=\"stroke: #383838; stroke-width: 1.5;\" width=\"100\" x=\"144\" y=\"147\"/><text fill=\"#000000\" font-family=\"sans-serif\" font-size=\"12\" font-style=\"italic\" lengthAdjust=\"spacingAndGlyphs\" textLength=\"98\" x=\"145\" y=\"163.1387\">«interface  def»</text><text fill=\"#000000\" font-family=\"sans-serif\" font-size=\"12\" lengthAdjust=\"spacingAndGlyphs\" textLength=\"3\" x=\"192.5\" y=\"177.1074\">I</text><line style=\"stroke: #383838; stroke-width: 1.5;\" x1=\"145\" x2=\"243\" y1=\"184.9375\" y2=\"184.9375\"/></a><!--MD5=[96f4274e9e20536e775497830990834d]\n",
       "class E10--><a href=\"psysml:4b05cf72-e027-47da-9c90-b867da4c93e0\" target=\"_top\" title=\"psysml:4b05cf72-e027-47da-9c90-b867da4c93e0\" xlink:actuate=\"onRequest\" xlink:href=\"psysml:4b05cf72-e027-47da-9c90-b867da4c93e0\" xlink:show=\"new\" xlink:title=\"psysml:4b05cf72-e027-47da-9c90-b867da4c93e0\" xlink:type=\"simple\"><rect fill=\"#FFFFFF\" height=\"45.9375\" id=\"E10\" rx=\"10\" ry=\"10\" style=\"stroke: #383838; stroke-width: 1.5;\" width=\"42\" x=\"146\" y=\"253\"/><text fill=\"#000000\" font-family=\"sans-serif\" font-size=\"12\" font-style=\"italic\" lengthAdjust=\"spacingAndGlyphs\" textLength=\"40\" x=\"147\" y=\"269.1387\">«port»</text><text fill=\"#000000\" font-family=\"sans-serif\" font-size=\"12\" lengthAdjust=\"spacingAndGlyphs\" textLength=\"32\" x=\"149\" y=\"283.1074\">p1: P</text><line style=\"stroke: #383838; stroke-width: 1.5;\" x1=\"147\" x2=\"187\" y1=\"290.9375\" y2=\"290.9375\"/></a><!--MD5=[1dd1bfd58a279cf63c5f349dbc8fc6a1]\n",
       "class E11--><a href=\"psysml:0c24ab80-75a0-44e9-976a-962e4e9af685\" target=\"_top\" title=\"psysml:0c24ab80-75a0-44e9-976a-962e4e9af685\" xlink:actuate=\"onRequest\" xlink:href=\"psysml:0c24ab80-75a0-44e9-976a-962e4e9af685\" xlink:show=\"new\" xlink:title=\"psysml:0c24ab80-75a0-44e9-976a-962e4e9af685\" xlink:type=\"simple\"><rect fill=\"#FFFFFF\" height=\"45.9375\" id=\"E11\" rx=\"10\" ry=\"10\" style=\"stroke: #383838; stroke-width: 1.5;\" width=\"52\" x=\"223\" y=\"253\"/><text fill=\"#000000\" font-family=\"sans-serif\" font-size=\"12\" font-style=\"italic\" lengthAdjust=\"spacingAndGlyphs\" textLength=\"40\" x=\"229\" y=\"269.1387\">«port»</text><text fill=\"#000000\" font-family=\"sans-serif\" font-size=\"12\" lengthAdjust=\"spacingAndGlyphs\" textLength=\"42\" x=\"226\" y=\"283.1074\">p2: ~P</text><line style=\"stroke: #383838; stroke-width: 1.5;\" x1=\"224\" x2=\"274\" y1=\"290.9375\" y2=\"290.9375\"/></a><!--MD5=[49a0ec8f00dab7302a31f22d0f0fe584]\n",
       "class E12--><a href=\"psysml:c2ec72d4-85fe-4c8d-a549-b327df7a4c85\" target=\"_top\" title=\"psysml:c2ec72d4-85fe-4c8d-a549-b327df7a4c85\" xlink:actuate=\"onRequest\" xlink:href=\"psysml:c2ec72d4-85fe-4c8d-a549-b327df7a4c85\" xlink:show=\"new\" xlink:title=\"psysml:c2ec72d4-85fe-4c8d-a549-b327df7a4c85\" xlink:type=\"simple\"><rect fill=\"#FFFFFF\" height=\"45.9375\" id=\"E12\" style=\"stroke: #383838; stroke-width: 1.5;\" width=\"70\" x=\"45\" y=\"41\"/><text fill=\"#000000\" font-family=\"sans-serif\" font-size=\"12\" font-style=\"italic\" lengthAdjust=\"spacingAndGlyphs\" textLength=\"68\" x=\"46\" y=\"57.1387\">«part  def»</text><text fill=\"#000000\" font-family=\"sans-serif\" font-size=\"12\" lengthAdjust=\"spacingAndGlyphs\" textLength=\"16\" x=\"72\" y=\"71.1074\">B1</text><line style=\"stroke: #383838; stroke-width: 1.5;\" x1=\"46\" x2=\"114\" y1=\"78.9375\" y2=\"78.9375\"/></a><!--MD5=[ee3c913d1a06f366521f9ef512b67efe]\n",
       "class E13--><a href=\"psysml:bf56b714-b103-43c5-844a-64ae22bea297\" target=\"_top\" title=\"psysml:bf56b714-b103-43c5-844a-64ae22bea297\" xlink:actuate=\"onRequest\" xlink:href=\"psysml:bf56b714-b103-43c5-844a-64ae22bea297\" xlink:show=\"new\" xlink:title=\"psysml:bf56b714-b103-43c5-844a-64ae22bea297\" xlink:type=\"simple\"><rect fill=\"#FFFFFF\" height=\"45.9375\" id=\"E13\" rx=\"10\" ry=\"10\" style=\"stroke: #383838; stroke-width: 1.5;\" width=\"42\" x=\"59\" y=\"147\"/><text fill=\"#000000\" font-family=\"sans-serif\" font-size=\"12\" font-style=\"italic\" lengthAdjust=\"spacingAndGlyphs\" textLength=\"40\" x=\"60\" y=\"163.1387\">«part»</text><text fill=\"#000000\" font-family=\"sans-serif\" font-size=\"12\" lengthAdjust=\"spacingAndGlyphs\" textLength=\"8\" x=\"74\" y=\"177.1074\">p</text><line style=\"stroke: #383838; stroke-width: 1.5;\" x1=\"60\" x2=\"100\" y1=\"184.9375\" y2=\"184.9375\"/></a><!--MD5=[bee11217b2f71d958a27249dc326068c]\n",
       "class E14--><a href=\"psysml:b5c2279c-6642-492b-a6cf-19efab06e689\" target=\"_top\" title=\"psysml:b5c2279c-6642-492b-a6cf-19efab06e689\" xlink:actuate=\"onRequest\" xlink:href=\"psysml:b5c2279c-6642-492b-a6cf-19efab06e689\" xlink:show=\"new\" xlink:title=\"psysml:b5c2279c-6642-492b-a6cf-19efab06e689\" xlink:type=\"simple\"><rect fill=\"#FFFFFF\" height=\"45.9375\" id=\"E14\" rx=\"10\" ry=\"10\" style=\"stroke: #383838; stroke-width: 1.5;\" width=\"42\" x=\"69\" y=\"253\"/><text fill=\"#000000\" font-family=\"sans-serif\" font-size=\"12\" font-style=\"italic\" lengthAdjust=\"spacingAndGlyphs\" textLength=\"40\" x=\"70\" y=\"269.1387\">«port»</text><text fill=\"#000000\" font-family=\"sans-serif\" font-size=\"12\" lengthAdjust=\"spacingAndGlyphs\" textLength=\"32\" x=\"72\" y=\"283.1074\">p1: P</text><line style=\"stroke: #383838; stroke-width: 1.5;\" x1=\"70\" x2=\"110\" y1=\"290.9375\" y2=\"290.9375\"/></a><!--MD5=[0c48fb7552dae8cbbef69381101a84c8]\n",
       "class E15--><a href=\"psysml:ed6b3600-9f65-4ffd-a058-1200daf10699\" target=\"_top\" title=\"psysml:ed6b3600-9f65-4ffd-a058-1200daf10699\" xlink:actuate=\"onRequest\" xlink:href=\"psysml:ed6b3600-9f65-4ffd-a058-1200daf10699\" xlink:show=\"new\" xlink:title=\"psysml:ed6b3600-9f65-4ffd-a058-1200daf10699\" xlink:type=\"simple\"><rect fill=\"#FFFFFF\" height=\"45.9375\" id=\"E15\" rx=\"10\" ry=\"10\" style=\"stroke: #383838; stroke-width: 1.5;\" width=\"52\" x=\"64\" y=\"359\"/><text fill=\"#000000\" font-family=\"sans-serif\" font-size=\"12\" font-style=\"italic\" lengthAdjust=\"spacingAndGlyphs\" textLength=\"40\" x=\"70\" y=\"375.1387\">«port»</text><text fill=\"#000000\" font-family=\"sans-serif\" font-size=\"12\" lengthAdjust=\"spacingAndGlyphs\" textLength=\"42\" x=\"67\" y=\"389.1074\">p2: ~P</text><line style=\"stroke: #383838; stroke-width: 1.5;\" x1=\"65\" x2=\"115\" y1=\"396.9375\" y2=\"396.9375\"/></a><!--MD5=[4672eba38e49728da53d11aeb285b987]\n",
       "reverse link E3 to E4--><a href=\"psysml:301fc48c-20ce-4bfe-ac1d-96f5db6094d0\" target=\"_top\" title=\"psysml:301fc48c-20ce-4bfe-ac1d-96f5db6094d0\" xlink:actuate=\"onRequest\" xlink:href=\"psysml:301fc48c-20ce-4bfe-ac1d-96f5db6094d0\" xlink:show=\"new\" xlink:title=\"psysml:301fc48c-20ce-4bfe-ac1d-96f5db6094d0\" xlink:type=\"simple\"><path d=\"M519.06,205.49 C513.64,221.15 507.39,239.19 502.62,252.98 \" fill=\"none\" id=\"E3&lt;-E4\" style=\"stroke: #383838; stroke-width: 1.0;\"/><polygon fill=\"#FFFFFF\" points=\"523.37,193.06,517.626,197.4196,519.4411,204.3986,525.1851,200.0389,523.37,193.06\" style=\"stroke: #383838; stroke-width: 1.0;\"/><text fill=\"#000000\" font-family=\"sans-serif\" font-size=\"13\" lengthAdjust=\"spacingAndGlyphs\" textLength=\"8\" x=\"495.5929\" y=\"241.8709\">1</text></a><!--MD5=[185131fc0dcab0a4505a2ebe144e961b]\n",
       "link E4 to E2--><a href=\"psysml:2658e44c-8270-4dd2-9600-daf649b69d41\" target=\"_top\" title=\"psysml:2658e44c-8270-4dd2-9600-daf649b69d41\" xlink:actuate=\"onRequest\" xlink:href=\"psysml:2658e44c-8270-4dd2-9600-daf649b69d41\" xlink:show=\"new\" xlink:title=\"psysml:2658e44c-8270-4dd2-9600-daf649b69d41\" xlink:type=\"simple\"><path d=\"M473.97,289.85 C468.52,292.99 462.61,296.24 457,299 C409.01,322.65 352.44,345.5 311.91,361.04 \" fill=\"none\" id=\"E4-&gt;E2\" style=\"stroke: #383838; stroke-width: 1.0;\"/><polygon fill=\"#FFFFFF\" points=\"293.14,368.16,308.427,354.8819,313.3876,367.9735,293.14,368.16\" style=\"stroke: #383838; stroke-width: 1.0;\"/><ellipse cx=\"314.4658\" cy=\"354.7324\" fill=\"#383838\" rx=\"2\" ry=\"2\" style=\"stroke: #383838; stroke-width: 1.0;\"/><ellipse cx=\"318.0091\" cy=\"364.0836\" fill=\"#383838\" rx=\"2\" ry=\"2\" style=\"stroke: #383838; stroke-width: 1.0;\"/></a><!--MD5=[191cde3d490a3f6d7bb551fe3ddca469]\n",
       "reverse link E3 to E5--><a href=\"psysml:223fd842-0df9-4bd0-ad12-80c4696f3c55\" target=\"_top\" title=\"psysml:223fd842-0df9-4bd0-ad12-80c4696f3c55\" xlink:actuate=\"onRequest\" xlink:href=\"psysml:223fd842-0df9-4bd0-ad12-80c4696f3c55\" xlink:show=\"new\" xlink:title=\"psysml:223fd842-0df9-4bd0-ad12-80c4696f3c55\" xlink:type=\"simple\"><path d=\"M546.05,205.03 C553.02,220.78 561.1,239.06 567.26,252.98 \" fill=\"none\" id=\"E3&lt;-E5\" style=\"stroke: #383838; stroke-width: 1.0;\"/><polygon fill=\"#FFFFFF\" points=\"540.76,193.06,539.5329,200.1659,545.6202,204.0317,546.8473,196.9258,540.76,193.06\" style=\"stroke: #383838; stroke-width: 1.0;\"/><text fill=\"#000000\" font-family=\"sans-serif\" font-size=\"13\" lengthAdjust=\"spacingAndGlyphs\" textLength=\"8\" x=\"555.5674\" y=\"241.8709\">1</text></a><!--MD5=[3f50a3473f1dfb74d3f76443e03635af]\n",
       "reverse link E6 to E7--><a href=\"psysml:21746d6a-6182-4390-ad27-ac5c9b62bfbf\" target=\"_top\" title=\"psysml:21746d6a-6182-4390-ad27-ac5c9b62bfbf\" xlink:actuate=\"onRequest\" xlink:href=\"psysml:21746d6a-6182-4390-ad27-ac5c9b62bfbf\" xlink:show=\"new\" xlink:title=\"psysml:21746d6a-6182-4390-ad27-ac5c9b62bfbf\" xlink:type=\"simple\"><path d=\"M336.93,206.44 C335.6,221.87 334.07,239.47 332.91,252.98 \" fill=\"none\" id=\"E6&lt;-E7\" style=\"stroke: #383838; stroke-width: 1.0;\"/><polygon fill=\"#FFFFFF\" points=\"338.09,193.06,333.5901,198.6948,337.0607,205.0158,341.5606,199.381,338.09,193.06\" style=\"stroke: #383838; stroke-width: 1.0;\"/><text fill=\"#000000\" font-family=\"sans-serif\" font-size=\"13\" lengthAdjust=\"spacingAndGlyphs\" textLength=\"8\" x=\"324.3483\" y=\"241.8709\">1</text></a><!--MD5=[583832df87f4419a098336a29a52fa00]\n",
       "link E7 to E2--><a href=\"psysml:ac292376-6896-4173-b580-fb46e7ca2b11\" target=\"_top\" title=\"psysml:ac292376-6896-4173-b580-fb46e7ca2b11\" xlink:actuate=\"onRequest\" xlink:href=\"psysml:ac292376-6896-4173-b580-fb46e7ca2b11\" xlink:show=\"new\" xlink:title=\"psysml:ac292376-6896-4173-b580-fb46e7ca2b11\" xlink:type=\"simple\"><path d=\"M315.52,299.06 C306.71,311.6 295.43,327.68 285.19,342.26 \" fill=\"none\" id=\"E7-&gt;E2\" style=\"stroke: #383838; stroke-width: 1.0;\"/><polygon fill=\"#FFFFFF\" points=\"273.46,358.98,278.6532,339.4088,290.1093,347.4561,273.46,358.98\" style=\"stroke: #383838; stroke-width: 1.0;\"/><ellipse cx=\"283.5662\" cy=\"335.8942\" fill=\"#383838\" rx=\"2\" ry=\"2\" style=\"stroke: #383838; stroke-width: 1.0;\"/><ellipse cx=\"291.7491\" cy=\"341.6422\" fill=\"#383838\" rx=\"2\" ry=\"2\" style=\"stroke: #383838; stroke-width: 1.0;\"/></a><!--MD5=[f4cf0736d43fd73c4ef68817c49d37d5]\n",
       "reverse link E6 to E8--><a href=\"psysml:0a911d69-2e8c-46c6-ac57-f08740e1c2a7\" target=\"_top\" title=\"psysml:0a911d69-2e8c-46c6-ac57-f08740e1c2a7\" xlink:actuate=\"onRequest\" xlink:href=\"psysml:0a911d69-2e8c-46c6-ac57-f08740e1c2a7\" xlink:show=\"new\" xlink:title=\"psysml:0a911d69-2e8c-46c6-ac57-f08740e1c2a7\" xlink:type=\"simple\"><path d=\"M363.23,204.09 C374.44,220.06 387.58,238.78 397.54,252.98 \" fill=\"none\" id=\"E6&lt;-E8\" style=\"stroke: #383838; stroke-width: 1.0;\"/><polygon fill=\"#FFFFFF\" points=\"355.48,193.06,355.6581,200.2689,362.381,202.8771,362.2029,195.6682,355.48,193.06\" style=\"stroke: #383838; stroke-width: 1.0;\"/><text fill=\"#000000\" font-family=\"sans-serif\" font-size=\"13\" lengthAdjust=\"spacingAndGlyphs\" textLength=\"8\" x=\"384.3101\" y=\"241.8709\">1</text></a><!--MD5=[23ac544a70576c3e717098101004234c]\n",
       "reverse link E9 to E10--><a href=\"psysml:7a6ef9a5-ee54-4bad-bee0-b6cd150b3ba6\" target=\"_top\" title=\"psysml:7a6ef9a5-ee54-4bad-bee0-b6cd150b3ba6\" xlink:actuate=\"onRequest\" xlink:href=\"psysml:7a6ef9a5-ee54-4bad-bee0-b6cd150b3ba6\" xlink:show=\"new\" xlink:title=\"psysml:7a6ef9a5-ee54-4bad-bee0-b6cd150b3ba6\" xlink:type=\"simple\"><path d=\"M184.92,205.96 C180.89,221.51 176.26,239.33 172.72,252.98 \" fill=\"none\" id=\"E9&lt;-E10\" style=\"stroke: #383838; stroke-width: 1.0;\"/><polygon fill=\"#FFFFFF\" points=\"188.27,193.06,182.8943,197.8665,185.2635,204.6773,190.6392,199.8708,188.27,193.06\" style=\"stroke: #383838; stroke-width: 1.0;\"/><text fill=\"#000000\" font-family=\"sans-serif\" font-size=\"13\" lengthAdjust=\"spacingAndGlyphs\" textLength=\"8\" x=\"165.1823\" y=\"241.8709\">1</text></a><!--MD5=[0f36bececdf0dff6e600d6f64214b0f1]\n",
       "link E10 to E2--><a href=\"psysml:1b1dbb40-b684-43d5-9e90-095d8f580599\" target=\"_top\" title=\"psysml:1b1dbb40-b684-43d5-9e90-095d8f580599\" xlink:actuate=\"onRequest\" xlink:href=\"psysml:1b1dbb40-b684-43d5-9e90-095d8f580599\" xlink:show=\"new\" xlink:title=\"psysml:1b1dbb40-b684-43d5-9e90-095d8f580599\" xlink:type=\"simple\"><path d=\"M186.3,299.06 C197.64,312.02 212.28,328.74 225.36,343.7 \" fill=\"none\" id=\"E10-&gt;E2\" style=\"stroke: #383838; stroke-width: 1.0;\"/><polygon fill=\"#FFFFFF\" points=\"238.73,358.98,220.9517,349.2882,231.489,340.0705,238.73,358.98\" style=\"stroke: #383838; stroke-width: 1.0;\"/><ellipse cx=\"218.7041\" cy=\"343.6812\" fill=\"#383838\" rx=\"2\" ry=\"2\" style=\"stroke: #383838; stroke-width: 1.0;\"/><ellipse cx=\"226.2308\" cy=\"337.0972\" fill=\"#383838\" rx=\"2\" ry=\"2\" style=\"stroke: #383838; stroke-width: 1.0;\"/></a><!--MD5=[1fc04a95fd77ad5ce46c1a3027516051]\n",
       "reverse link E9 to E11--><a href=\"psysml:26e0bda0-b5f1-463e-8de4-6289f85dc961\" target=\"_top\" title=\"psysml:26e0bda0-b5f1-463e-8de4-6289f85dc961\" xlink:actuate=\"onRequest\" xlink:href=\"psysml:26e0bda0-b5f1-463e-8de4-6289f85dc961\" xlink:show=\"new\" xlink:title=\"psysml:26e0bda0-b5f1-463e-8de4-6289f85dc961\" xlink:type=\"simple\"><path d=\"M211.75,204.56 C220.14,220.42 229.92,238.92 237.35,252.98 \" fill=\"none\" id=\"E9&lt;-E11\" style=\"stroke: #383838; stroke-width: 1.0;\"/><polygon fill=\"#FFFFFF\" points=\"205.66,193.06,204.9277,200.2338,211.268,203.669,212.0003,196.4952,205.66,193.06\" style=\"stroke: #383838; stroke-width: 1.0;\"/><text fill=\"#000000\" font-family=\"sans-serif\" font-size=\"13\" lengthAdjust=\"spacingAndGlyphs\" textLength=\"8\" x=\"225.1441\" y=\"241.8709\">1</text></a><!--MD5=[062ed86c389d1a88f61c6380d0491e17]\n",
       "reverse link E12 to E13--><a href=\"psysml:b5605e58-b315-4dd3-8e84-581a703b4e2b\" target=\"_top\" title=\"psysml:b5605e58-b315-4dd3-8e84-581a703b4e2b\" xlink:actuate=\"onRequest\" xlink:href=\"psysml:b5605e58-b315-4dd3-8e84-581a703b4e2b\" xlink:show=\"new\" xlink:title=\"psysml:b5605e58-b315-4dd3-8e84-581a703b4e2b\" xlink:type=\"simple\"><path d=\"M80,100.44 C80,115.87 80,133.47 80,146.98 \" fill=\"none\" id=\"E12&lt;-E13\" style=\"stroke: #383838; stroke-width: 1.0;\"/><polygon fill=\"#383838\" points=\"80,87.06,76,93.06,80,99.06,84,93.06,80,87.06\" style=\"stroke: #383838; stroke-width: 1.0;\"/><text fill=\"#000000\" font-family=\"sans-serif\" font-size=\"13\" lengthAdjust=\"spacingAndGlyphs\" textLength=\"8\" x=\"70.925\" y=\"135.8709\">1</text></a><!--MD5=[01db00f33b28669d6d9febea71002831]\n",
       "reverse link E13 to E14--><a href=\"psysml:db42b499-220f-4c1a-8731-eb36b8c82e1e\" target=\"_top\" title=\"psysml:db42b499-220f-4c1a-8731-eb36b8c82e1e\" xlink:actuate=\"onRequest\" xlink:href=\"psysml:db42b499-220f-4c1a-8731-eb36b8c82e1e\" xlink:show=\"new\" xlink:title=\"psysml:db42b499-220f-4c1a-8731-eb36b8c82e1e\" xlink:type=\"simple\"><path d=\"M83.41,206.44 C84.89,221.87 86.58,239.47 87.88,252.98 \" fill=\"none\" id=\"E13&lt;-E14\" style=\"stroke: #383838; stroke-width: 1.0;\"/><polygon fill=\"#FFFFFF\" points=\"82.12,193.06,78.7125,199.4152,83.2683,205.0049,86.6758,198.6497,82.12,193.06\" style=\"stroke: #383838; stroke-width: 1.0;\"/><text fill=\"#000000\" font-family=\"sans-serif\" font-size=\"13\" lengthAdjust=\"spacingAndGlyphs\" textLength=\"8\" x=\"78.2353\" y=\"241.8709\">1</text></a><!--MD5=[e5566ac99d7714697a7fbc17f6b550fe]\n",
       "link E14 to E2--><a href=\"psysml:7155c58b-23e7-41d9-a472-3863cff0084f\" target=\"_top\" title=\"psysml:7155c58b-23e7-41d9-a472-3863cff0084f\" xlink:actuate=\"onRequest\" xlink:href=\"psysml:7155c58b-23e7-41d9-a472-3863cff0084f\" xlink:show=\"new\" xlink:title=\"psysml:7155c58b-23e7-41d9-a472-3863cff0084f\" xlink:type=\"simple\"><path d=\"M111.28,290.17 C134.86,304.77 173.76,328.85 205.58,348.55 \" fill=\"none\" id=\"E14-&gt;E2\" style=\"stroke: #383838; stroke-width: 1.0;\"/><polygon fill=\"#FFFFFF\" points=\"222.86,359.25,203.0213,355.1971,210.3927,343.2949,222.86,359.25\" style=\"stroke: #383838; stroke-width: 1.0;\"/><ellipse cx=\"199.2284\" cy=\"350.4956\" fill=\"#383838\" rx=\"2\" ry=\"2\" style=\"stroke: #383838; stroke-width: 1.0;\"/><ellipse cx=\"204.4937\" cy=\"341.994\" fill=\"#383838\" rx=\"2\" ry=\"2\" style=\"stroke: #383838; stroke-width: 1.0;\"/></a><!--MD5=[e9a5e828c71fd2209a11a152f562d491]\n",
       "reverse link E13 to E15--><a href=\"psysml:2699a371-802b-44a3-9d88-da30e2130afc\" target=\"_top\" title=\"psysml:2699a371-802b-44a3-9d88-da30e2130afc\" xlink:actuate=\"onRequest\" xlink:href=\"psysml:2699a371-802b-44a3-9d88-da30e2130afc\" xlink:show=\"new\" xlink:title=\"psysml:2699a371-802b-44a3-9d88-da30e2130afc\" xlink:type=\"simple\"><path d=\"M64.33,205.31 C54.54,231.09 45,267.26 52,299 C56.73,320.45 67.65,342.96 76.58,358.96 \" fill=\"none\" id=\"E13&lt;-E15\" style=\"stroke: #383838; stroke-width: 1.0;\"/><polygon fill=\"#FFFFFF\" points=\"69.24,193.2,63.2795,197.2586,64.7334,204.3216,70.6939,200.263,69.24,193.2\" style=\"stroke: #383838; stroke-width: 1.0;\"/><text fill=\"#000000\" font-family=\"sans-serif\" font-size=\"13\" lengthAdjust=\"spacingAndGlyphs\" textLength=\"8\" x=\"63.8984\" y=\"347.8455\">1</text></a><!--MD5=[3afbdc645381407e1bc99677323a2513]\n",
       "link E14 to E15--><a href=\"psysml:1d4c99f1-723b-47e9-b0a9-a2cf4f06711c\" target=\"_top\" title=\"psysml:1d4c99f1-723b-47e9-b0a9-a2cf4f06711c\" xlink:actuate=\"onRequest\" xlink:href=\"psysml:1d4c99f1-723b-47e9-b0a9-a2cf4f06711c\" xlink:show=\"new\" xlink:title=\"psysml:1d4c99f1-723b-47e9-b0a9-a2cf4f06711c\" xlink:type=\"simple\"><path d=\"M79.35,299.06 C76.55,316.7 76.55,341.34 79.36,358.98 \" fill=\"none\" id=\"E14-E15\" style=\"stroke: #383838; stroke-width: 3.0;\"/></a><!--MD5=[3afbdc645381407e1bc99677323a2513]\n",
       "link E14 to E15--><a href=\"psysml:99ef5f64-108a-4414-ad16-a52f47db38b7\" target=\"_top\" title=\"psysml:99ef5f64-108a-4414-ad16-a52f47db38b7\" xlink:actuate=\"onRequest\" xlink:href=\"psysml:99ef5f64-108a-4414-ad16-a52f47db38b7\" xlink:show=\"new\" xlink:title=\"psysml:99ef5f64-108a-4414-ad16-a52f47db38b7\" xlink:type=\"simple\"><path d=\"M101.27,299.06 C104.24,316.7 104.24,341.34 101.27,358.98 \" fill=\"none\" id=\"E14-E15-1\" style=\"stroke: #383838; stroke-width: 3.0;\"/></a><!--MD5=[24ad69aca3ef5dcdce243be46f7b217b]\n",
       "@startuml\r\n",
       "skinparam monochrome true\r\n",
       "skinparam classbackgroundcolor white\r\n",
       "skinparam shadowing false\r\n",
       "skinparam wrapWidth 300\r\n",
       "hide circle\r\n",
       "\r\n",
       "package \"ConjugationTest\" as E1  [[psysml:62f2acf4-862e-4777-8380-6adbdab8aa3b ]]  {\r\n",
       "comp def \"P\" as E2  <<(T,blue) port  def>> [[psysml:8038ba5e-65f3-4a7c-a5d9-05577a1e913e ]] {\r\n",
       "}\r\n",
       "comp def \"B\" as E3  <<(T,blue) part  def>> [[psysml:eb00d253-98ff-4ea5-9d4b-40f483d849ec ]] {\r\n",
       "}\r\n",
       "comp usage \"p1: P \" as E4  <<(T,blue) port>> [[psysml:bd11b2df-eb92-4507-bbbb-c6493b57fcfa ]] {\r\n",
       "}\r\n",
       "comp usage \"p2: ~P \" as E5  <<(T,blue) port>> [[psysml:0cbe2724-4b46-4325-902f-a8a483156696 ]] {\r\n",
       "}\r\n",
       "comp def \"A\" as E6  <<(T,blue) connection  def>> [[psysml:c9adf55d-1d58-41e7-9c8f-305f1a380a4f ]] {\r\n",
       "}\r\n",
       "comp usage \"p1: P \" as E7  <<(T,blue) port>> [[psysml:62009ff7-c341-4e72-a056-ce92de09505b ]] {\r\n",
       "}\r\n",
       "comp usage \"p2: ~P \" as E8  <<(T,blue) port>> [[psysml:50db7d15-a467-4fc6-8fb9-d943e9708b48 ]] {\r\n",
       "}\r\n",
       "comp def \"I\" as E9  <<(T,blue) interface  def>> [[psysml:909b1fdd-cad7-4fe7-8f0f-a5ae3fa3dd03 ]] {\r\n",
       "}\r\n",
       "comp usage \"p1: P \" as E10  <<(T,blue) port>> [[psysml:4b05cf72-e027-47da-9c90-b867da4c93e0 ]] {\r\n",
       "}\r\n",
       "comp usage \"p2: ~P \" as E11  <<(T,blue) port>> [[psysml:0c24ab80-75a0-44e9-976a-962e4e9af685 ]] {\r\n",
       "}\r\n",
       "comp def \"B1\" as E12  <<(T,blue) part  def>> [[psysml:c2ec72d4-85fe-4c8d-a549-b327df7a4c85 ]] {\r\n",
       "}\r\n",
       "comp usage \"p \" as E13  <<(T,blue) part>> [[psysml:bf56b714-b103-43c5-844a-64ae22bea297 ]] {\r\n",
       "}\r\n",
       "comp usage \"p1: P \" as E14  <<(T,blue) port>> [[psysml:b5c2279c-6642-492b-a6cf-19efab06e689 ]] {\r\n",
       "}\r\n",
       "comp usage \"p2: ~P \" as E15  <<(T,blue) port>> [[psysml:ed6b3600-9f65-4ffd-a058-1200daf10699 ]] {\r\n",
       "}\r\n",
       "}\r\n",
       "E3 o- - \"1\"E4 [[psysml:301fc48c-20ce-4bfe-ac1d-96f5db6094d0 ]] \r\n",
       "E4 - -:|> E2 [[psysml:2658e44c-8270-4dd2-9600-daf649b69d41 ]] \r\n",
       "E3 o- - \"1\"E5 [[psysml:223fd842-0df9-4bd0-ad12-80c4696f3c55 ]] \r\n",
       "E6 o- - \"1\"E7 [[psysml:21746d6a-6182-4390-ad27-ac5c9b62bfbf ]] \r\n",
       "E7 - -:|> E2 [[psysml:ac292376-6896-4173-b580-fb46e7ca2b11 ]] \r\n",
       "E6 o- - \"1\"E8 [[psysml:0a911d69-2e8c-46c6-ac57-f08740e1c2a7 ]] \r\n",
       "E9 o- - \"1\"E10 [[psysml:7a6ef9a5-ee54-4bad-bee0-b6cd150b3ba6 ]] \r\n",
       "E10 - -:|> E2 [[psysml:1b1dbb40-b684-43d5-9e90-095d8f580599 ]] \r\n",
       "E9 o- - \"1\"E11 [[psysml:26e0bda0-b5f1-463e-8de4-6289f85dc961 ]] \r\n",
       "E12 *- - \"1\"E13 [[psysml:b5605e58-b315-4dd3-8e84-581a703b4e2b ]] \r\n",
       "E13 o- - \"1\"E14 [[psysml:db42b499-220f-4c1a-8731-eb36b8c82e1e ]] \r\n",
       "E14 - -:|> E2 [[psysml:7155c58b-23e7-41d9-a472-3863cff0084f ]] \r\n",
       "E13 o- - \"1\"E15 [[psysml:2699a371-802b-44a3-9d88-da30e2130afc ]] \r\n",
       "E14 -[thickness=3]- E15 [[psysml:1d4c99f1-723b-47e9-b0a9-a2cf4f06711c ]] \r\n",
       "E14 -[thickness=3]- E15 [[psysml:99ef5f64-108a-4414-ad16-a52f47db38b7 ]] \r\n",
       "@enduml\r\n",
       "\n",
       "PlantUML version 1.2020.13(Sat Jun 13 12:26:38 UTC 2020)\n",
       "(EPL source distribution)\n",
       "Java Runtime: OpenJDK Runtime Environment\n",
       "JVM: OpenJDK 64-Bit Server VM\n",
       "Default Encoding: UTF-8\n",
       "Language: en\n",
       "Country: null\n",
       "--></g></svg>"
      ]
     },
     "execution_count": 43,
     "metadata": {},
     "output_type": "execute_result"
    }
   ],
   "source": [
    "%viz --style=\"DEFAULT\" --view=\"MIXED\" \"ConjugationTest\""
   ]
  },
  {
   "cell_type": "code",
   "execution_count": 44,
   "id": "a3d64088",
   "metadata": {
    "execution": {
     "iopub.execute_input": "2022-02-18T10:47:47.681734Z",
     "iopub.status.busy": "2022-02-18T10:47:47.681336Z",
     "iopub.status.idle": "2022-02-18T10:47:47.728192Z",
     "shell.execute_reply": "2022-02-18T10:47:47.727810Z"
    }
   },
   "outputs": [
    {
     "data": {
      "image/svg+xml": [
       "<?xml version=\"1.0\" encoding=\"UTF-8\" standalone=\"no\"?><svg xmlns=\"http://www.w3.org/2000/svg\" xmlns:xlink=\"http://www.w3.org/1999/xlink\" contentScriptType=\"application/ecmascript\" contentStyleType=\"text/css\" height=\"433px\" preserveAspectRatio=\"none\" style=\"width:641px;height:433px;\" version=\"1.1\" viewBox=\"0 0 641 433\" width=\"641px\" zoomAndPan=\"magnify\"><defs/><g><!--MD5=[fbc87193dbaf4d95561dea2c320d4a47]\n",
       "cluster E1--><a href=\"psysml:62f2acf4-862e-4777-8380-6adbdab8aa3b\" target=\"_top\" title=\"psysml:62f2acf4-862e-4777-8380-6adbdab8aa3b\" xlink:actuate=\"onRequest\" xlink:href=\"psysml:62f2acf4-862e-4777-8380-6adbdab8aa3b\" xlink:show=\"new\" xlink:title=\"psysml:62f2acf4-862e-4777-8380-6adbdab8aa3b\" xlink:type=\"simple\"><polygon fill=\"#FFFFFF\" points=\"16,6,136,6,143,28.2969,619,28.2969,619,421,16,421,16,6\" style=\"stroke: #000000; stroke-width: 1.5;\"/><line style=\"stroke: #000000; stroke-width: 1.5;\" x1=\"16\" x2=\"143\" y1=\"28.2969\" y2=\"28.2969\"/><text fill=\"#000000\" font-family=\"sans-serif\" font-size=\"14\" font-weight=\"bold\" lengthAdjust=\"spacingAndGlyphs\" textLength=\"114\" x=\"20\" y=\"20.9951\">ConjugationTest</text></a><!--MD5=[b4997ac47864f28c2f74865a473b2911]\n",
       "class E2--><a href=\"psysml:8038ba5e-65f3-4a7c-a5d9-05577a1e913e\" target=\"_top\" title=\"psysml:8038ba5e-65f3-4a7c-a5d9-05577a1e913e\" xlink:actuate=\"onRequest\" xlink:href=\"psysml:8038ba5e-65f3-4a7c-a5d9-05577a1e913e\" xlink:show=\"new\" xlink:title=\"psysml:8038ba5e-65f3-4a7c-a5d9-05577a1e913e\" xlink:type=\"simple\"><rect fill=\"#FFFFFF\" height=\"45.9375\" id=\"E2\" style=\"stroke: #383838; stroke-width: 1.5;\" width=\"70\" x=\"223\" y=\"359\"/><text fill=\"#000000\" font-family=\"sans-serif\" font-size=\"12\" font-style=\"italic\" lengthAdjust=\"spacingAndGlyphs\" textLength=\"68\" x=\"224\" y=\"375.1387\">«port  def»</text><text fill=\"#000000\" font-family=\"sans-serif\" font-size=\"12\" lengthAdjust=\"spacingAndGlyphs\" textLength=\"8\" x=\"254\" y=\"389.1074\">P</text><line style=\"stroke: #383838; stroke-width: 1.5;\" x1=\"224\" x2=\"292\" y1=\"396.9375\" y2=\"396.9375\"/></a><!--MD5=[09b614a08d8cba4a07c9adeb5e0fee81]\n",
       "class E3--><a href=\"psysml:eb00d253-98ff-4ea5-9d4b-40f483d849ec\" target=\"_top\" title=\"psysml:eb00d253-98ff-4ea5-9d4b-40f483d849ec\" xlink:actuate=\"onRequest\" xlink:href=\"psysml:eb00d253-98ff-4ea5-9d4b-40f483d849ec\" xlink:show=\"new\" xlink:title=\"psysml:eb00d253-98ff-4ea5-9d4b-40f483d849ec\" xlink:type=\"simple\"><rect fill=\"#FFFFFF\" height=\"45.9375\" id=\"E3\" style=\"stroke: #383838; stroke-width: 1.5;\" width=\"70\" x=\"496\" y=\"147\"/><text fill=\"#000000\" font-family=\"sans-serif\" font-size=\"12\" font-style=\"italic\" lengthAdjust=\"spacingAndGlyphs\" textLength=\"68\" x=\"497\" y=\"163.1387\">«part  def»</text><text fill=\"#000000\" font-family=\"sans-serif\" font-size=\"12\" lengthAdjust=\"spacingAndGlyphs\" textLength=\"8\" x=\"527\" y=\"177.1074\">B</text><line style=\"stroke: #383838; stroke-width: 1.5;\" x1=\"497\" x2=\"565\" y1=\"184.9375\" y2=\"184.9375\"/></a><!--MD5=[ebbe1d658d1005bcc118a6aa81145e00]\n",
       "class E4--><a href=\"psysml:bd11b2df-eb92-4507-bbbb-c6493b57fcfa\" target=\"_top\" title=\"psysml:bd11b2df-eb92-4507-bbbb-c6493b57fcfa\" xlink:actuate=\"onRequest\" xlink:href=\"psysml:bd11b2df-eb92-4507-bbbb-c6493b57fcfa\" xlink:show=\"new\" xlink:title=\"psysml:bd11b2df-eb92-4507-bbbb-c6493b57fcfa\" xlink:type=\"simple\"><rect fill=\"#FFFFFF\" height=\"45.9375\" id=\"E4\" rx=\"10\" ry=\"10\" style=\"stroke: #383838; stroke-width: 1.5;\" width=\"42\" x=\"474\" y=\"253\"/><text fill=\"#000000\" font-family=\"sans-serif\" font-size=\"12\" font-style=\"italic\" lengthAdjust=\"spacingAndGlyphs\" textLength=\"40\" x=\"475\" y=\"269.1387\">«port»</text><text fill=\"#000000\" font-family=\"sans-serif\" font-size=\"12\" lengthAdjust=\"spacingAndGlyphs\" textLength=\"32\" x=\"477\" y=\"283.1074\">p1: P</text><line style=\"stroke: #383838; stroke-width: 1.5;\" x1=\"475\" x2=\"515\" y1=\"290.9375\" y2=\"290.9375\"/></a><!--MD5=[270fce915f116d4de14055a7c1d9a0f3]\n",
       "class E5--><a href=\"psysml:0cbe2724-4b46-4325-902f-a8a483156696\" target=\"_top\" title=\"psysml:0cbe2724-4b46-4325-902f-a8a483156696\" xlink:actuate=\"onRequest\" xlink:href=\"psysml:0cbe2724-4b46-4325-902f-a8a483156696\" xlink:show=\"new\" xlink:title=\"psysml:0cbe2724-4b46-4325-902f-a8a483156696\" xlink:type=\"simple\"><rect fill=\"#FFFFFF\" height=\"45.9375\" id=\"E5\" rx=\"10\" ry=\"10\" style=\"stroke: #383838; stroke-width: 1.5;\" width=\"52\" x=\"551\" y=\"253\"/><text fill=\"#000000\" font-family=\"sans-serif\" font-size=\"12\" font-style=\"italic\" lengthAdjust=\"spacingAndGlyphs\" textLength=\"40\" x=\"557\" y=\"269.1387\">«port»</text><text fill=\"#000000\" font-family=\"sans-serif\" font-size=\"12\" lengthAdjust=\"spacingAndGlyphs\" textLength=\"42\" x=\"554\" y=\"283.1074\">p2: ~P</text><line style=\"stroke: #383838; stroke-width: 1.5;\" x1=\"552\" x2=\"602\" y1=\"290.9375\" y2=\"290.9375\"/></a><!--MD5=[60a26617385b1d2d0262a64233df1f8d]\n",
       "class E6--><a href=\"psysml:c9adf55d-1d58-41e7-9c8f-305f1a380a4f\" target=\"_top\" title=\"psysml:c9adf55d-1d58-41e7-9c8f-305f1a380a4f\" xlink:actuate=\"onRequest\" xlink:href=\"psysml:c9adf55d-1d58-41e7-9c8f-305f1a380a4f\" xlink:show=\"new\" xlink:title=\"psysml:c9adf55d-1d58-41e7-9c8f-305f1a380a4f\" xlink:type=\"simple\"><rect fill=\"#FFFFFF\" height=\"45.9375\" id=\"E6\" style=\"stroke: #383838; stroke-width: 1.5;\" width=\"114\" x=\"283\" y=\"147\"/><text fill=\"#000000\" font-family=\"sans-serif\" font-size=\"12\" font-style=\"italic\" lengthAdjust=\"spacingAndGlyphs\" textLength=\"112\" x=\"284\" y=\"163.1387\">«connection  def»</text><text fill=\"#000000\" font-family=\"sans-serif\" font-size=\"12\" lengthAdjust=\"spacingAndGlyphs\" textLength=\"8\" x=\"336\" y=\"177.1074\">A</text><line style=\"stroke: #383838; stroke-width: 1.5;\" x1=\"284\" x2=\"396\" y1=\"184.9375\" y2=\"184.9375\"/></a><!--MD5=[2156ba9850f5573cc1fc38a6a4b2f02b]\n",
       "class E7--><a href=\"psysml:62009ff7-c341-4e72-a056-ce92de09505b\" target=\"_top\" title=\"psysml:62009ff7-c341-4e72-a056-ce92de09505b\" xlink:actuate=\"onRequest\" xlink:href=\"psysml:62009ff7-c341-4e72-a056-ce92de09505b\" xlink:show=\"new\" xlink:title=\"psysml:62009ff7-c341-4e72-a056-ce92de09505b\" xlink:type=\"simple\"><rect fill=\"#FFFFFF\" height=\"45.9375\" id=\"E7\" rx=\"10\" ry=\"10\" style=\"stroke: #383838; stroke-width: 1.5;\" width=\"42\" x=\"310\" y=\"253\"/><text fill=\"#000000\" font-family=\"sans-serif\" font-size=\"12\" font-style=\"italic\" lengthAdjust=\"spacingAndGlyphs\" textLength=\"40\" x=\"311\" y=\"269.1387\">«port»</text><text fill=\"#000000\" font-family=\"sans-serif\" font-size=\"12\" lengthAdjust=\"spacingAndGlyphs\" textLength=\"32\" x=\"313\" y=\"283.1074\">p1: P</text><line style=\"stroke: #383838; stroke-width: 1.5;\" x1=\"311\" x2=\"351\" y1=\"290.9375\" y2=\"290.9375\"/></a><!--MD5=[b9389687b975829384b498ac4b7476b2]\n",
       "class E8--><a href=\"psysml:50db7d15-a467-4fc6-8fb9-d943e9708b48\" target=\"_top\" title=\"psysml:50db7d15-a467-4fc6-8fb9-d943e9708b48\" xlink:actuate=\"onRequest\" xlink:href=\"psysml:50db7d15-a467-4fc6-8fb9-d943e9708b48\" xlink:show=\"new\" xlink:title=\"psysml:50db7d15-a467-4fc6-8fb9-d943e9708b48\" xlink:type=\"simple\"><rect fill=\"#FFFFFF\" height=\"45.9375\" id=\"E8\" rx=\"10\" ry=\"10\" style=\"stroke: #383838; stroke-width: 1.5;\" width=\"52\" x=\"387\" y=\"253\"/><text fill=\"#000000\" font-family=\"sans-serif\" font-size=\"12\" font-style=\"italic\" lengthAdjust=\"spacingAndGlyphs\" textLength=\"40\" x=\"393\" y=\"269.1387\">«port»</text><text fill=\"#000000\" font-family=\"sans-serif\" font-size=\"12\" lengthAdjust=\"spacingAndGlyphs\" textLength=\"42\" x=\"390\" y=\"283.1074\">p2: ~P</text><line style=\"stroke: #383838; stroke-width: 1.5;\" x1=\"388\" x2=\"438\" y1=\"290.9375\" y2=\"290.9375\"/></a><!--MD5=[fd4143e9d270a159db93a4ea2a975926]\n",
       "class E9--><a href=\"psysml:909b1fdd-cad7-4fe7-8f0f-a5ae3fa3dd03\" target=\"_top\" title=\"psysml:909b1fdd-cad7-4fe7-8f0f-a5ae3fa3dd03\" xlink:actuate=\"onRequest\" xlink:href=\"psysml:909b1fdd-cad7-4fe7-8f0f-a5ae3fa3dd03\" xlink:show=\"new\" xlink:title=\"psysml:909b1fdd-cad7-4fe7-8f0f-a5ae3fa3dd03\" xlink:type=\"simple\"><rect fill=\"#FFFFFF\" height=\"45.9375\" id=\"E9\" style=\"stroke: #383838; stroke-width: 1.5;\" width=\"100\" x=\"144\" y=\"147\"/><text fill=\"#000000\" font-family=\"sans-serif\" font-size=\"12\" font-style=\"italic\" lengthAdjust=\"spacingAndGlyphs\" textLength=\"98\" x=\"145\" y=\"163.1387\">«interface  def»</text><text fill=\"#000000\" font-family=\"sans-serif\" font-size=\"12\" lengthAdjust=\"spacingAndGlyphs\" textLength=\"3\" x=\"192.5\" y=\"177.1074\">I</text><line style=\"stroke: #383838; stroke-width: 1.5;\" x1=\"145\" x2=\"243\" y1=\"184.9375\" y2=\"184.9375\"/></a><!--MD5=[96f4274e9e20536e775497830990834d]\n",
       "class E10--><a href=\"psysml:4b05cf72-e027-47da-9c90-b867da4c93e0\" target=\"_top\" title=\"psysml:4b05cf72-e027-47da-9c90-b867da4c93e0\" xlink:actuate=\"onRequest\" xlink:href=\"psysml:4b05cf72-e027-47da-9c90-b867da4c93e0\" xlink:show=\"new\" xlink:title=\"psysml:4b05cf72-e027-47da-9c90-b867da4c93e0\" xlink:type=\"simple\"><rect fill=\"#FFFFFF\" height=\"45.9375\" id=\"E10\" rx=\"10\" ry=\"10\" style=\"stroke: #383838; stroke-width: 1.5;\" width=\"42\" x=\"146\" y=\"253\"/><text fill=\"#000000\" font-family=\"sans-serif\" font-size=\"12\" font-style=\"italic\" lengthAdjust=\"spacingAndGlyphs\" textLength=\"40\" x=\"147\" y=\"269.1387\">«port»</text><text fill=\"#000000\" font-family=\"sans-serif\" font-size=\"12\" lengthAdjust=\"spacingAndGlyphs\" textLength=\"32\" x=\"149\" y=\"283.1074\">p1: P</text><line style=\"stroke: #383838; stroke-width: 1.5;\" x1=\"147\" x2=\"187\" y1=\"290.9375\" y2=\"290.9375\"/></a><!--MD5=[1dd1bfd58a279cf63c5f349dbc8fc6a1]\n",
       "class E11--><a href=\"psysml:0c24ab80-75a0-44e9-976a-962e4e9af685\" target=\"_top\" title=\"psysml:0c24ab80-75a0-44e9-976a-962e4e9af685\" xlink:actuate=\"onRequest\" xlink:href=\"psysml:0c24ab80-75a0-44e9-976a-962e4e9af685\" xlink:show=\"new\" xlink:title=\"psysml:0c24ab80-75a0-44e9-976a-962e4e9af685\" xlink:type=\"simple\"><rect fill=\"#FFFFFF\" height=\"45.9375\" id=\"E11\" rx=\"10\" ry=\"10\" style=\"stroke: #383838; stroke-width: 1.5;\" width=\"52\" x=\"223\" y=\"253\"/><text fill=\"#000000\" font-family=\"sans-serif\" font-size=\"12\" font-style=\"italic\" lengthAdjust=\"spacingAndGlyphs\" textLength=\"40\" x=\"229\" y=\"269.1387\">«port»</text><text fill=\"#000000\" font-family=\"sans-serif\" font-size=\"12\" lengthAdjust=\"spacingAndGlyphs\" textLength=\"42\" x=\"226\" y=\"283.1074\">p2: ~P</text><line style=\"stroke: #383838; stroke-width: 1.5;\" x1=\"224\" x2=\"274\" y1=\"290.9375\" y2=\"290.9375\"/></a><!--MD5=[49a0ec8f00dab7302a31f22d0f0fe584]\n",
       "class E12--><a href=\"psysml:c2ec72d4-85fe-4c8d-a549-b327df7a4c85\" target=\"_top\" title=\"psysml:c2ec72d4-85fe-4c8d-a549-b327df7a4c85\" xlink:actuate=\"onRequest\" xlink:href=\"psysml:c2ec72d4-85fe-4c8d-a549-b327df7a4c85\" xlink:show=\"new\" xlink:title=\"psysml:c2ec72d4-85fe-4c8d-a549-b327df7a4c85\" xlink:type=\"simple\"><rect fill=\"#FFFFFF\" height=\"45.9375\" id=\"E12\" style=\"stroke: #383838; stroke-width: 1.5;\" width=\"70\" x=\"45\" y=\"41\"/><text fill=\"#000000\" font-family=\"sans-serif\" font-size=\"12\" font-style=\"italic\" lengthAdjust=\"spacingAndGlyphs\" textLength=\"68\" x=\"46\" y=\"57.1387\">«part  def»</text><text fill=\"#000000\" font-family=\"sans-serif\" font-size=\"12\" lengthAdjust=\"spacingAndGlyphs\" textLength=\"16\" x=\"72\" y=\"71.1074\">B1</text><line style=\"stroke: #383838; stroke-width: 1.5;\" x1=\"46\" x2=\"114\" y1=\"78.9375\" y2=\"78.9375\"/></a><!--MD5=[ee3c913d1a06f366521f9ef512b67efe]\n",
       "class E13--><a href=\"psysml:bf56b714-b103-43c5-844a-64ae22bea297\" target=\"_top\" title=\"psysml:bf56b714-b103-43c5-844a-64ae22bea297\" xlink:actuate=\"onRequest\" xlink:href=\"psysml:bf56b714-b103-43c5-844a-64ae22bea297\" xlink:show=\"new\" xlink:title=\"psysml:bf56b714-b103-43c5-844a-64ae22bea297\" xlink:type=\"simple\"><rect fill=\"#FFFFFF\" height=\"45.9375\" id=\"E13\" rx=\"10\" ry=\"10\" style=\"stroke: #383838; stroke-width: 1.5;\" width=\"42\" x=\"59\" y=\"147\"/><text fill=\"#000000\" font-family=\"sans-serif\" font-size=\"12\" font-style=\"italic\" lengthAdjust=\"spacingAndGlyphs\" textLength=\"40\" x=\"60\" y=\"163.1387\">«part»</text><text fill=\"#000000\" font-family=\"sans-serif\" font-size=\"12\" lengthAdjust=\"spacingAndGlyphs\" textLength=\"8\" x=\"74\" y=\"177.1074\">p</text><line style=\"stroke: #383838; stroke-width: 1.5;\" x1=\"60\" x2=\"100\" y1=\"184.9375\" y2=\"184.9375\"/></a><!--MD5=[bee11217b2f71d958a27249dc326068c]\n",
       "class E14--><a href=\"psysml:b5c2279c-6642-492b-a6cf-19efab06e689\" target=\"_top\" title=\"psysml:b5c2279c-6642-492b-a6cf-19efab06e689\" xlink:actuate=\"onRequest\" xlink:href=\"psysml:b5c2279c-6642-492b-a6cf-19efab06e689\" xlink:show=\"new\" xlink:title=\"psysml:b5c2279c-6642-492b-a6cf-19efab06e689\" xlink:type=\"simple\"><rect fill=\"#FFFFFF\" height=\"45.9375\" id=\"E14\" rx=\"10\" ry=\"10\" style=\"stroke: #383838; stroke-width: 1.5;\" width=\"42\" x=\"69\" y=\"253\"/><text fill=\"#000000\" font-family=\"sans-serif\" font-size=\"12\" font-style=\"italic\" lengthAdjust=\"spacingAndGlyphs\" textLength=\"40\" x=\"70\" y=\"269.1387\">«port»</text><text fill=\"#000000\" font-family=\"sans-serif\" font-size=\"12\" lengthAdjust=\"spacingAndGlyphs\" textLength=\"32\" x=\"72\" y=\"283.1074\">p1: P</text><line style=\"stroke: #383838; stroke-width: 1.5;\" x1=\"70\" x2=\"110\" y1=\"290.9375\" y2=\"290.9375\"/></a><!--MD5=[0c48fb7552dae8cbbef69381101a84c8]\n",
       "class E15--><a href=\"psysml:ed6b3600-9f65-4ffd-a058-1200daf10699\" target=\"_top\" title=\"psysml:ed6b3600-9f65-4ffd-a058-1200daf10699\" xlink:actuate=\"onRequest\" xlink:href=\"psysml:ed6b3600-9f65-4ffd-a058-1200daf10699\" xlink:show=\"new\" xlink:title=\"psysml:ed6b3600-9f65-4ffd-a058-1200daf10699\" xlink:type=\"simple\"><rect fill=\"#FFFFFF\" height=\"45.9375\" id=\"E15\" rx=\"10\" ry=\"10\" style=\"stroke: #383838; stroke-width: 1.5;\" width=\"52\" x=\"64\" y=\"359\"/><text fill=\"#000000\" font-family=\"sans-serif\" font-size=\"12\" font-style=\"italic\" lengthAdjust=\"spacingAndGlyphs\" textLength=\"40\" x=\"70\" y=\"375.1387\">«port»</text><text fill=\"#000000\" font-family=\"sans-serif\" font-size=\"12\" lengthAdjust=\"spacingAndGlyphs\" textLength=\"42\" x=\"67\" y=\"389.1074\">p2: ~P</text><line style=\"stroke: #383838; stroke-width: 1.5;\" x1=\"65\" x2=\"115\" y1=\"396.9375\" y2=\"396.9375\"/></a><!--MD5=[4672eba38e49728da53d11aeb285b987]\n",
       "reverse link E3 to E4--><a href=\"psysml:301fc48c-20ce-4bfe-ac1d-96f5db6094d0\" target=\"_top\" title=\"psysml:301fc48c-20ce-4bfe-ac1d-96f5db6094d0\" xlink:actuate=\"onRequest\" xlink:href=\"psysml:301fc48c-20ce-4bfe-ac1d-96f5db6094d0\" xlink:show=\"new\" xlink:title=\"psysml:301fc48c-20ce-4bfe-ac1d-96f5db6094d0\" xlink:type=\"simple\"><path d=\"M519.06,205.49 C513.64,221.15 507.39,239.19 502.62,252.98 \" fill=\"none\" id=\"E3&lt;-E4\" style=\"stroke: #383838; stroke-width: 1.0;\"/><polygon fill=\"#FFFFFF\" points=\"523.37,193.06,517.626,197.4196,519.4411,204.3986,525.1851,200.0389,523.37,193.06\" style=\"stroke: #383838; stroke-width: 1.0;\"/><text fill=\"#000000\" font-family=\"sans-serif\" font-size=\"13\" lengthAdjust=\"spacingAndGlyphs\" textLength=\"8\" x=\"495.5929\" y=\"241.8709\">1</text></a><!--MD5=[185131fc0dcab0a4505a2ebe144e961b]\n",
       "link E4 to E2--><a href=\"psysml:2658e44c-8270-4dd2-9600-daf649b69d41\" target=\"_top\" title=\"psysml:2658e44c-8270-4dd2-9600-daf649b69d41\" xlink:actuate=\"onRequest\" xlink:href=\"psysml:2658e44c-8270-4dd2-9600-daf649b69d41\" xlink:show=\"new\" xlink:title=\"psysml:2658e44c-8270-4dd2-9600-daf649b69d41\" xlink:type=\"simple\"><path d=\"M473.97,289.85 C468.52,292.99 462.61,296.24 457,299 C409.01,322.65 352.44,345.5 311.91,361.04 \" fill=\"none\" id=\"E4-&gt;E2\" style=\"stroke: #383838; stroke-width: 1.0;\"/><polygon fill=\"#FFFFFF\" points=\"293.14,368.16,308.427,354.8819,313.3876,367.9735,293.14,368.16\" style=\"stroke: #383838; stroke-width: 1.0;\"/><ellipse cx=\"314.4658\" cy=\"354.7324\" fill=\"#383838\" rx=\"2\" ry=\"2\" style=\"stroke: #383838; stroke-width: 1.0;\"/><ellipse cx=\"318.0091\" cy=\"364.0836\" fill=\"#383838\" rx=\"2\" ry=\"2\" style=\"stroke: #383838; stroke-width: 1.0;\"/></a><!--MD5=[191cde3d490a3f6d7bb551fe3ddca469]\n",
       "reverse link E3 to E5--><a href=\"psysml:223fd842-0df9-4bd0-ad12-80c4696f3c55\" target=\"_top\" title=\"psysml:223fd842-0df9-4bd0-ad12-80c4696f3c55\" xlink:actuate=\"onRequest\" xlink:href=\"psysml:223fd842-0df9-4bd0-ad12-80c4696f3c55\" xlink:show=\"new\" xlink:title=\"psysml:223fd842-0df9-4bd0-ad12-80c4696f3c55\" xlink:type=\"simple\"><path d=\"M546.05,205.03 C553.02,220.78 561.1,239.06 567.26,252.98 \" fill=\"none\" id=\"E3&lt;-E5\" style=\"stroke: #383838; stroke-width: 1.0;\"/><polygon fill=\"#FFFFFF\" points=\"540.76,193.06,539.5329,200.1659,545.6202,204.0317,546.8473,196.9258,540.76,193.06\" style=\"stroke: #383838; stroke-width: 1.0;\"/><text fill=\"#000000\" font-family=\"sans-serif\" font-size=\"13\" lengthAdjust=\"spacingAndGlyphs\" textLength=\"8\" x=\"555.5674\" y=\"241.8709\">1</text></a><!--MD5=[3f50a3473f1dfb74d3f76443e03635af]\n",
       "reverse link E6 to E7--><a href=\"psysml:21746d6a-6182-4390-ad27-ac5c9b62bfbf\" target=\"_top\" title=\"psysml:21746d6a-6182-4390-ad27-ac5c9b62bfbf\" xlink:actuate=\"onRequest\" xlink:href=\"psysml:21746d6a-6182-4390-ad27-ac5c9b62bfbf\" xlink:show=\"new\" xlink:title=\"psysml:21746d6a-6182-4390-ad27-ac5c9b62bfbf\" xlink:type=\"simple\"><path d=\"M336.93,206.44 C335.6,221.87 334.07,239.47 332.91,252.98 \" fill=\"none\" id=\"E6&lt;-E7\" style=\"stroke: #383838; stroke-width: 1.0;\"/><polygon fill=\"#FFFFFF\" points=\"338.09,193.06,333.5901,198.6948,337.0607,205.0158,341.5606,199.381,338.09,193.06\" style=\"stroke: #383838; stroke-width: 1.0;\"/><text fill=\"#000000\" font-family=\"sans-serif\" font-size=\"13\" lengthAdjust=\"spacingAndGlyphs\" textLength=\"8\" x=\"324.3483\" y=\"241.8709\">1</text></a><!--MD5=[583832df87f4419a098336a29a52fa00]\n",
       "link E7 to E2--><a href=\"psysml:ac292376-6896-4173-b580-fb46e7ca2b11\" target=\"_top\" title=\"psysml:ac292376-6896-4173-b580-fb46e7ca2b11\" xlink:actuate=\"onRequest\" xlink:href=\"psysml:ac292376-6896-4173-b580-fb46e7ca2b11\" xlink:show=\"new\" xlink:title=\"psysml:ac292376-6896-4173-b580-fb46e7ca2b11\" xlink:type=\"simple\"><path d=\"M315.52,299.06 C306.71,311.6 295.43,327.68 285.19,342.26 \" fill=\"none\" id=\"E7-&gt;E2\" style=\"stroke: #383838; stroke-width: 1.0;\"/><polygon fill=\"#FFFFFF\" points=\"273.46,358.98,278.6532,339.4088,290.1093,347.4561,273.46,358.98\" style=\"stroke: #383838; stroke-width: 1.0;\"/><ellipse cx=\"283.5662\" cy=\"335.8942\" fill=\"#383838\" rx=\"2\" ry=\"2\" style=\"stroke: #383838; stroke-width: 1.0;\"/><ellipse cx=\"291.7491\" cy=\"341.6422\" fill=\"#383838\" rx=\"2\" ry=\"2\" style=\"stroke: #383838; stroke-width: 1.0;\"/></a><!--MD5=[f4cf0736d43fd73c4ef68817c49d37d5]\n",
       "reverse link E6 to E8--><a href=\"psysml:0a911d69-2e8c-46c6-ac57-f08740e1c2a7\" target=\"_top\" title=\"psysml:0a911d69-2e8c-46c6-ac57-f08740e1c2a7\" xlink:actuate=\"onRequest\" xlink:href=\"psysml:0a911d69-2e8c-46c6-ac57-f08740e1c2a7\" xlink:show=\"new\" xlink:title=\"psysml:0a911d69-2e8c-46c6-ac57-f08740e1c2a7\" xlink:type=\"simple\"><path d=\"M363.23,204.09 C374.44,220.06 387.58,238.78 397.54,252.98 \" fill=\"none\" id=\"E6&lt;-E8\" style=\"stroke: #383838; stroke-width: 1.0;\"/><polygon fill=\"#FFFFFF\" points=\"355.48,193.06,355.6581,200.2689,362.381,202.8771,362.2029,195.6682,355.48,193.06\" style=\"stroke: #383838; stroke-width: 1.0;\"/><text fill=\"#000000\" font-family=\"sans-serif\" font-size=\"13\" lengthAdjust=\"spacingAndGlyphs\" textLength=\"8\" x=\"384.3101\" y=\"241.8709\">1</text></a><!--MD5=[23ac544a70576c3e717098101004234c]\n",
       "reverse link E9 to E10--><a href=\"psysml:7a6ef9a5-ee54-4bad-bee0-b6cd150b3ba6\" target=\"_top\" title=\"psysml:7a6ef9a5-ee54-4bad-bee0-b6cd150b3ba6\" xlink:actuate=\"onRequest\" xlink:href=\"psysml:7a6ef9a5-ee54-4bad-bee0-b6cd150b3ba6\" xlink:show=\"new\" xlink:title=\"psysml:7a6ef9a5-ee54-4bad-bee0-b6cd150b3ba6\" xlink:type=\"simple\"><path d=\"M184.92,205.96 C180.89,221.51 176.26,239.33 172.72,252.98 \" fill=\"none\" id=\"E9&lt;-E10\" style=\"stroke: #383838; stroke-width: 1.0;\"/><polygon fill=\"#FFFFFF\" points=\"188.27,193.06,182.8943,197.8665,185.2635,204.6773,190.6392,199.8708,188.27,193.06\" style=\"stroke: #383838; stroke-width: 1.0;\"/><text fill=\"#000000\" font-family=\"sans-serif\" font-size=\"13\" lengthAdjust=\"spacingAndGlyphs\" textLength=\"8\" x=\"165.1823\" y=\"241.8709\">1</text></a><!--MD5=[0f36bececdf0dff6e600d6f64214b0f1]\n",
       "link E10 to E2--><a href=\"psysml:1b1dbb40-b684-43d5-9e90-095d8f580599\" target=\"_top\" title=\"psysml:1b1dbb40-b684-43d5-9e90-095d8f580599\" xlink:actuate=\"onRequest\" xlink:href=\"psysml:1b1dbb40-b684-43d5-9e90-095d8f580599\" xlink:show=\"new\" xlink:title=\"psysml:1b1dbb40-b684-43d5-9e90-095d8f580599\" xlink:type=\"simple\"><path d=\"M186.3,299.06 C197.64,312.02 212.28,328.74 225.36,343.7 \" fill=\"none\" id=\"E10-&gt;E2\" style=\"stroke: #383838; stroke-width: 1.0;\"/><polygon fill=\"#FFFFFF\" points=\"238.73,358.98,220.9517,349.2882,231.489,340.0705,238.73,358.98\" style=\"stroke: #383838; stroke-width: 1.0;\"/><ellipse cx=\"218.7041\" cy=\"343.6812\" fill=\"#383838\" rx=\"2\" ry=\"2\" style=\"stroke: #383838; stroke-width: 1.0;\"/><ellipse cx=\"226.2308\" cy=\"337.0972\" fill=\"#383838\" rx=\"2\" ry=\"2\" style=\"stroke: #383838; stroke-width: 1.0;\"/></a><!--MD5=[1fc04a95fd77ad5ce46c1a3027516051]\n",
       "reverse link E9 to E11--><a href=\"psysml:26e0bda0-b5f1-463e-8de4-6289f85dc961\" target=\"_top\" title=\"psysml:26e0bda0-b5f1-463e-8de4-6289f85dc961\" xlink:actuate=\"onRequest\" xlink:href=\"psysml:26e0bda0-b5f1-463e-8de4-6289f85dc961\" xlink:show=\"new\" xlink:title=\"psysml:26e0bda0-b5f1-463e-8de4-6289f85dc961\" xlink:type=\"simple\"><path d=\"M211.75,204.56 C220.14,220.42 229.92,238.92 237.35,252.98 \" fill=\"none\" id=\"E9&lt;-E11\" style=\"stroke: #383838; stroke-width: 1.0;\"/><polygon fill=\"#FFFFFF\" points=\"205.66,193.06,204.9277,200.2338,211.268,203.669,212.0003,196.4952,205.66,193.06\" style=\"stroke: #383838; stroke-width: 1.0;\"/><text fill=\"#000000\" font-family=\"sans-serif\" font-size=\"13\" lengthAdjust=\"spacingAndGlyphs\" textLength=\"8\" x=\"225.1441\" y=\"241.8709\">1</text></a><!--MD5=[062ed86c389d1a88f61c6380d0491e17]\n",
       "reverse link E12 to E13--><a href=\"psysml:b5605e58-b315-4dd3-8e84-581a703b4e2b\" target=\"_top\" title=\"psysml:b5605e58-b315-4dd3-8e84-581a703b4e2b\" xlink:actuate=\"onRequest\" xlink:href=\"psysml:b5605e58-b315-4dd3-8e84-581a703b4e2b\" xlink:show=\"new\" xlink:title=\"psysml:b5605e58-b315-4dd3-8e84-581a703b4e2b\" xlink:type=\"simple\"><path d=\"M80,100.44 C80,115.87 80,133.47 80,146.98 \" fill=\"none\" id=\"E12&lt;-E13\" style=\"stroke: #383838; stroke-width: 1.0;\"/><polygon fill=\"#383838\" points=\"80,87.06,76,93.06,80,99.06,84,93.06,80,87.06\" style=\"stroke: #383838; stroke-width: 1.0;\"/><text fill=\"#000000\" font-family=\"sans-serif\" font-size=\"13\" lengthAdjust=\"spacingAndGlyphs\" textLength=\"8\" x=\"70.925\" y=\"135.8709\">1</text></a><!--MD5=[01db00f33b28669d6d9febea71002831]\n",
       "reverse link E13 to E14--><a href=\"psysml:db42b499-220f-4c1a-8731-eb36b8c82e1e\" target=\"_top\" title=\"psysml:db42b499-220f-4c1a-8731-eb36b8c82e1e\" xlink:actuate=\"onRequest\" xlink:href=\"psysml:db42b499-220f-4c1a-8731-eb36b8c82e1e\" xlink:show=\"new\" xlink:title=\"psysml:db42b499-220f-4c1a-8731-eb36b8c82e1e\" xlink:type=\"simple\"><path d=\"M83.41,206.44 C84.89,221.87 86.58,239.47 87.88,252.98 \" fill=\"none\" id=\"E13&lt;-E14\" style=\"stroke: #383838; stroke-width: 1.0;\"/><polygon fill=\"#FFFFFF\" points=\"82.12,193.06,78.7125,199.4152,83.2683,205.0049,86.6758,198.6497,82.12,193.06\" style=\"stroke: #383838; stroke-width: 1.0;\"/><text fill=\"#000000\" font-family=\"sans-serif\" font-size=\"13\" lengthAdjust=\"spacingAndGlyphs\" textLength=\"8\" x=\"78.2353\" y=\"241.8709\">1</text></a><!--MD5=[e5566ac99d7714697a7fbc17f6b550fe]\n",
       "link E14 to E2--><a href=\"psysml:7155c58b-23e7-41d9-a472-3863cff0084f\" target=\"_top\" title=\"psysml:7155c58b-23e7-41d9-a472-3863cff0084f\" xlink:actuate=\"onRequest\" xlink:href=\"psysml:7155c58b-23e7-41d9-a472-3863cff0084f\" xlink:show=\"new\" xlink:title=\"psysml:7155c58b-23e7-41d9-a472-3863cff0084f\" xlink:type=\"simple\"><path d=\"M111.28,290.17 C134.86,304.77 173.76,328.85 205.58,348.55 \" fill=\"none\" id=\"E14-&gt;E2\" style=\"stroke: #383838; stroke-width: 1.0;\"/><polygon fill=\"#FFFFFF\" points=\"222.86,359.25,203.0213,355.1971,210.3927,343.2949,222.86,359.25\" style=\"stroke: #383838; stroke-width: 1.0;\"/><ellipse cx=\"199.2284\" cy=\"350.4956\" fill=\"#383838\" rx=\"2\" ry=\"2\" style=\"stroke: #383838; stroke-width: 1.0;\"/><ellipse cx=\"204.4937\" cy=\"341.994\" fill=\"#383838\" rx=\"2\" ry=\"2\" style=\"stroke: #383838; stroke-width: 1.0;\"/></a><!--MD5=[e9a5e828c71fd2209a11a152f562d491]\n",
       "reverse link E13 to E15--><a href=\"psysml:2699a371-802b-44a3-9d88-da30e2130afc\" target=\"_top\" title=\"psysml:2699a371-802b-44a3-9d88-da30e2130afc\" xlink:actuate=\"onRequest\" xlink:href=\"psysml:2699a371-802b-44a3-9d88-da30e2130afc\" xlink:show=\"new\" xlink:title=\"psysml:2699a371-802b-44a3-9d88-da30e2130afc\" xlink:type=\"simple\"><path d=\"M64.33,205.31 C54.54,231.09 45,267.26 52,299 C56.73,320.45 67.65,342.96 76.58,358.96 \" fill=\"none\" id=\"E13&lt;-E15\" style=\"stroke: #383838; stroke-width: 1.0;\"/><polygon fill=\"#FFFFFF\" points=\"69.24,193.2,63.2795,197.2586,64.7334,204.3216,70.6939,200.263,69.24,193.2\" style=\"stroke: #383838; stroke-width: 1.0;\"/><text fill=\"#000000\" font-family=\"sans-serif\" font-size=\"13\" lengthAdjust=\"spacingAndGlyphs\" textLength=\"8\" x=\"63.8984\" y=\"347.8455\">1</text></a><!--MD5=[3afbdc645381407e1bc99677323a2513]\n",
       "link E14 to E15--><a href=\"psysml:1d4c99f1-723b-47e9-b0a9-a2cf4f06711c\" target=\"_top\" title=\"psysml:1d4c99f1-723b-47e9-b0a9-a2cf4f06711c\" xlink:actuate=\"onRequest\" xlink:href=\"psysml:1d4c99f1-723b-47e9-b0a9-a2cf4f06711c\" xlink:show=\"new\" xlink:title=\"psysml:1d4c99f1-723b-47e9-b0a9-a2cf4f06711c\" xlink:type=\"simple\"><path d=\"M79.35,299.06 C76.55,316.7 76.55,341.34 79.36,358.98 \" fill=\"none\" id=\"E14-E15\" style=\"stroke: #383838; stroke-width: 3.0;\"/></a><!--MD5=[3afbdc645381407e1bc99677323a2513]\n",
       "link E14 to E15--><a href=\"psysml:99ef5f64-108a-4414-ad16-a52f47db38b7\" target=\"_top\" title=\"psysml:99ef5f64-108a-4414-ad16-a52f47db38b7\" xlink:actuate=\"onRequest\" xlink:href=\"psysml:99ef5f64-108a-4414-ad16-a52f47db38b7\" xlink:show=\"new\" xlink:title=\"psysml:99ef5f64-108a-4414-ad16-a52f47db38b7\" xlink:type=\"simple\"><path d=\"M101.27,299.06 C104.24,316.7 104.24,341.34 101.27,358.98 \" fill=\"none\" id=\"E14-E15-1\" style=\"stroke: #383838; stroke-width: 3.0;\"/></a><!--MD5=[aabd830f9ed536145f649983b2e4ecb7]\n",
       "@startuml\r\n",
       "top to bottom direction\r\n",
       "skinparam monochrome true\r\n",
       "skinparam classbackgroundcolor white\r\n",
       "skinparam shadowing false\r\n",
       "skinparam wrapWidth 300\r\n",
       "hide circle\r\n",
       "\r\n",
       "package \"ConjugationTest\" as E1  [[psysml:62f2acf4-862e-4777-8380-6adbdab8aa3b ]]  {\r\n",
       "comp def \"P\" as E2  <<(T,blue) port  def>> [[psysml:8038ba5e-65f3-4a7c-a5d9-05577a1e913e ]] {\r\n",
       "}\r\n",
       "comp def \"B\" as E3  <<(T,blue) part  def>> [[psysml:eb00d253-98ff-4ea5-9d4b-40f483d849ec ]] {\r\n",
       "}\r\n",
       "comp usage \"p1: P \" as E4  <<(T,blue) port>> [[psysml:bd11b2df-eb92-4507-bbbb-c6493b57fcfa ]] {\r\n",
       "}\r\n",
       "comp usage \"p2: ~P \" as E5  <<(T,blue) port>> [[psysml:0cbe2724-4b46-4325-902f-a8a483156696 ]] {\r\n",
       "}\r\n",
       "comp def \"A\" as E6  <<(T,blue) connection  def>> [[psysml:c9adf55d-1d58-41e7-9c8f-305f1a380a4f ]] {\r\n",
       "}\r\n",
       "comp usage \"p1: P \" as E7  <<(T,blue) port>> [[psysml:62009ff7-c341-4e72-a056-ce92de09505b ]] {\r\n",
       "}\r\n",
       "comp usage \"p2: ~P \" as E8  <<(T,blue) port>> [[psysml:50db7d15-a467-4fc6-8fb9-d943e9708b48 ]] {\r\n",
       "}\r\n",
       "comp def \"I\" as E9  <<(T,blue) interface  def>> [[psysml:909b1fdd-cad7-4fe7-8f0f-a5ae3fa3dd03 ]] {\r\n",
       "}\r\n",
       "comp usage \"p1: P \" as E10  <<(T,blue) port>> [[psysml:4b05cf72-e027-47da-9c90-b867da4c93e0 ]] {\r\n",
       "}\r\n",
       "comp usage \"p2: ~P \" as E11  <<(T,blue) port>> [[psysml:0c24ab80-75a0-44e9-976a-962e4e9af685 ]] {\r\n",
       "}\r\n",
       "comp def \"B1\" as E12  <<(T,blue) part  def>> [[psysml:c2ec72d4-85fe-4c8d-a549-b327df7a4c85 ]] {\r\n",
       "}\r\n",
       "comp usage \"p \" as E13  <<(T,blue) part>> [[psysml:bf56b714-b103-43c5-844a-64ae22bea297 ]] {\r\n",
       "}\r\n",
       "comp usage \"p1: P \" as E14  <<(T,blue) port>> [[psysml:b5c2279c-6642-492b-a6cf-19efab06e689 ]] {\r\n",
       "}\r\n",
       "comp usage \"p2: ~P \" as E15  <<(T,blue) port>> [[psysml:ed6b3600-9f65-4ffd-a058-1200daf10699 ]] {\r\n",
       "}\r\n",
       "}\r\n",
       "E3 o- - \"1\"E4 [[psysml:301fc48c-20ce-4bfe-ac1d-96f5db6094d0 ]] \r\n",
       "E4 - -:|> E2 [[psysml:2658e44c-8270-4dd2-9600-daf649b69d41 ]] \r\n",
       "E3 o- - \"1\"E5 [[psysml:223fd842-0df9-4bd0-ad12-80c4696f3c55 ]] \r\n",
       "E6 o- - \"1\"E7 [[psysml:21746d6a-6182-4390-ad27-ac5c9b62bfbf ]] \r\n",
       "E7 - -:|> E2 [[psysml:ac292376-6896-4173-b580-fb46e7ca2b11 ]] \r\n",
       "E6 o- - \"1\"E8 [[psysml:0a911d69-2e8c-46c6-ac57-f08740e1c2a7 ]] \r\n",
       "E9 o- - \"1\"E10 [[psysml:7a6ef9a5-ee54-4bad-bee0-b6cd150b3ba6 ]] \r\n",
       "E10 - -:|> E2 [[psysml:1b1dbb40-b684-43d5-9e90-095d8f580599 ]] \r\n",
       "E9 o- - \"1\"E11 [[psysml:26e0bda0-b5f1-463e-8de4-6289f85dc961 ]] \r\n",
       "E12 *- - \"1\"E13 [[psysml:b5605e58-b315-4dd3-8e84-581a703b4e2b ]] \r\n",
       "E13 o- - \"1\"E14 [[psysml:db42b499-220f-4c1a-8731-eb36b8c82e1e ]] \r\n",
       "E14 - -:|> E2 [[psysml:7155c58b-23e7-41d9-a472-3863cff0084f ]] \r\n",
       "E13 o- - \"1\"E15 [[psysml:2699a371-802b-44a3-9d88-da30e2130afc ]] \r\n",
       "E14 -[thickness=3]- E15 [[psysml:1d4c99f1-723b-47e9-b0a9-a2cf4f06711c ]] \r\n",
       "E14 -[thickness=3]- E15 [[psysml:99ef5f64-108a-4414-ad16-a52f47db38b7 ]] \r\n",
       "@enduml\r\n",
       "\n",
       "PlantUML version 1.2020.13(Sat Jun 13 12:26:38 UTC 2020)\n",
       "(EPL source distribution)\n",
       "Java Runtime: OpenJDK Runtime Environment\n",
       "JVM: OpenJDK 64-Bit Server VM\n",
       "Default Encoding: UTF-8\n",
       "Language: en\n",
       "Country: null\n",
       "--></g></svg>"
      ]
     },
     "execution_count": 44,
     "metadata": {},
     "output_type": "execute_result"
    }
   ],
   "source": [
    "%viz --style=\"TB\" --view=\"Default\" \"ConjugationTest\""
   ]
  },
  {
   "cell_type": "code",
   "execution_count": 45,
   "id": "129123b4",
   "metadata": {
    "execution": {
     "iopub.execute_input": "2022-02-18T10:47:47.777313Z",
     "iopub.status.busy": "2022-02-18T10:47:47.776916Z",
     "iopub.status.idle": "2022-02-18T10:47:47.824096Z",
     "shell.execute_reply": "2022-02-18T10:47:47.822556Z"
    }
   },
   "outputs": [
    {
     "data": {
      "image/svg+xml": [
       "<?xml version=\"1.0\" encoding=\"UTF-8\" standalone=\"no\"?><svg xmlns=\"http://www.w3.org/2000/svg\" xmlns:xlink=\"http://www.w3.org/1999/xlink\" contentScriptType=\"application/ecmascript\" contentStyleType=\"text/css\" height=\"433px\" preserveAspectRatio=\"none\" style=\"width:641px;height:433px;\" version=\"1.1\" viewBox=\"0 0 641 433\" width=\"641px\" zoomAndPan=\"magnify\"><defs/><g><!--MD5=[fbc87193dbaf4d95561dea2c320d4a47]\n",
       "cluster E1--><a href=\"psysml:62f2acf4-862e-4777-8380-6adbdab8aa3b\" target=\"_top\" title=\"psysml:62f2acf4-862e-4777-8380-6adbdab8aa3b\" xlink:actuate=\"onRequest\" xlink:href=\"psysml:62f2acf4-862e-4777-8380-6adbdab8aa3b\" xlink:show=\"new\" xlink:title=\"psysml:62f2acf4-862e-4777-8380-6adbdab8aa3b\" xlink:type=\"simple\"><polygon fill=\"#FFFFFF\" points=\"16,6,136,6,143,28.2969,619,28.2969,619,421,16,421,16,6\" style=\"stroke: #000000; stroke-width: 1.5;\"/><line style=\"stroke: #000000; stroke-width: 1.5;\" x1=\"16\" x2=\"143\" y1=\"28.2969\" y2=\"28.2969\"/><text fill=\"#000000\" font-family=\"sans-serif\" font-size=\"14\" font-weight=\"bold\" lengthAdjust=\"spacingAndGlyphs\" textLength=\"114\" x=\"20\" y=\"20.9951\">ConjugationTest</text></a><!--MD5=[b4997ac47864f28c2f74865a473b2911]\n",
       "class E2--><a href=\"psysml:8038ba5e-65f3-4a7c-a5d9-05577a1e913e\" target=\"_top\" title=\"psysml:8038ba5e-65f3-4a7c-a5d9-05577a1e913e\" xlink:actuate=\"onRequest\" xlink:href=\"psysml:8038ba5e-65f3-4a7c-a5d9-05577a1e913e\" xlink:show=\"new\" xlink:title=\"psysml:8038ba5e-65f3-4a7c-a5d9-05577a1e913e\" xlink:type=\"simple\"><rect fill=\"#FFFFFF\" height=\"45.9375\" id=\"E2\" style=\"stroke: #383838; stroke-width: 1.5;\" width=\"70\" x=\"223\" y=\"359\"/><text fill=\"#000000\" font-family=\"sans-serif\" font-size=\"12\" font-style=\"italic\" lengthAdjust=\"spacingAndGlyphs\" textLength=\"68\" x=\"224\" y=\"375.1387\">«port  def»</text><text fill=\"#000000\" font-family=\"sans-serif\" font-size=\"12\" lengthAdjust=\"spacingAndGlyphs\" textLength=\"8\" x=\"254\" y=\"389.1074\">P</text><line style=\"stroke: #383838; stroke-width: 1.5;\" x1=\"224\" x2=\"292\" y1=\"396.9375\" y2=\"396.9375\"/></a><!--MD5=[09b614a08d8cba4a07c9adeb5e0fee81]\n",
       "class E3--><a href=\"psysml:eb00d253-98ff-4ea5-9d4b-40f483d849ec\" target=\"_top\" title=\"psysml:eb00d253-98ff-4ea5-9d4b-40f483d849ec\" xlink:actuate=\"onRequest\" xlink:href=\"psysml:eb00d253-98ff-4ea5-9d4b-40f483d849ec\" xlink:show=\"new\" xlink:title=\"psysml:eb00d253-98ff-4ea5-9d4b-40f483d849ec\" xlink:type=\"simple\"><rect fill=\"#FFFFFF\" height=\"45.9375\" id=\"E3\" style=\"stroke: #383838; stroke-width: 1.5;\" width=\"70\" x=\"496\" y=\"147\"/><text fill=\"#000000\" font-family=\"sans-serif\" font-size=\"12\" font-style=\"italic\" lengthAdjust=\"spacingAndGlyphs\" textLength=\"68\" x=\"497\" y=\"163.1387\">«part  def»</text><text fill=\"#000000\" font-family=\"sans-serif\" font-size=\"12\" lengthAdjust=\"spacingAndGlyphs\" textLength=\"8\" x=\"527\" y=\"177.1074\">B</text><line style=\"stroke: #383838; stroke-width: 1.5;\" x1=\"497\" x2=\"565\" y1=\"184.9375\" y2=\"184.9375\"/></a><!--MD5=[ebbe1d658d1005bcc118a6aa81145e00]\n",
       "class E4--><a href=\"psysml:bd11b2df-eb92-4507-bbbb-c6493b57fcfa\" target=\"_top\" title=\"psysml:bd11b2df-eb92-4507-bbbb-c6493b57fcfa\" xlink:actuate=\"onRequest\" xlink:href=\"psysml:bd11b2df-eb92-4507-bbbb-c6493b57fcfa\" xlink:show=\"new\" xlink:title=\"psysml:bd11b2df-eb92-4507-bbbb-c6493b57fcfa\" xlink:type=\"simple\"><rect fill=\"#FFFFFF\" height=\"45.9375\" id=\"E4\" rx=\"10\" ry=\"10\" style=\"stroke: #383838; stroke-width: 1.5;\" width=\"42\" x=\"474\" y=\"253\"/><text fill=\"#000000\" font-family=\"sans-serif\" font-size=\"12\" font-style=\"italic\" lengthAdjust=\"spacingAndGlyphs\" textLength=\"40\" x=\"475\" y=\"269.1387\">«port»</text><text fill=\"#000000\" font-family=\"sans-serif\" font-size=\"12\" lengthAdjust=\"spacingAndGlyphs\" textLength=\"32\" x=\"477\" y=\"283.1074\">p1: P</text><line style=\"stroke: #383838; stroke-width: 1.5;\" x1=\"475\" x2=\"515\" y1=\"290.9375\" y2=\"290.9375\"/></a><!--MD5=[270fce915f116d4de14055a7c1d9a0f3]\n",
       "class E5--><a href=\"psysml:0cbe2724-4b46-4325-902f-a8a483156696\" target=\"_top\" title=\"psysml:0cbe2724-4b46-4325-902f-a8a483156696\" xlink:actuate=\"onRequest\" xlink:href=\"psysml:0cbe2724-4b46-4325-902f-a8a483156696\" xlink:show=\"new\" xlink:title=\"psysml:0cbe2724-4b46-4325-902f-a8a483156696\" xlink:type=\"simple\"><rect fill=\"#FFFFFF\" height=\"45.9375\" id=\"E5\" rx=\"10\" ry=\"10\" style=\"stroke: #383838; stroke-width: 1.5;\" width=\"52\" x=\"551\" y=\"253\"/><text fill=\"#000000\" font-family=\"sans-serif\" font-size=\"12\" font-style=\"italic\" lengthAdjust=\"spacingAndGlyphs\" textLength=\"40\" x=\"557\" y=\"269.1387\">«port»</text><text fill=\"#000000\" font-family=\"sans-serif\" font-size=\"12\" lengthAdjust=\"spacingAndGlyphs\" textLength=\"42\" x=\"554\" y=\"283.1074\">p2: ~P</text><line style=\"stroke: #383838; stroke-width: 1.5;\" x1=\"552\" x2=\"602\" y1=\"290.9375\" y2=\"290.9375\"/></a><!--MD5=[60a26617385b1d2d0262a64233df1f8d]\n",
       "class E6--><a href=\"psysml:c9adf55d-1d58-41e7-9c8f-305f1a380a4f\" target=\"_top\" title=\"psysml:c9adf55d-1d58-41e7-9c8f-305f1a380a4f\" xlink:actuate=\"onRequest\" xlink:href=\"psysml:c9adf55d-1d58-41e7-9c8f-305f1a380a4f\" xlink:show=\"new\" xlink:title=\"psysml:c9adf55d-1d58-41e7-9c8f-305f1a380a4f\" xlink:type=\"simple\"><rect fill=\"#FFFFFF\" height=\"45.9375\" id=\"E6\" style=\"stroke: #383838; stroke-width: 1.5;\" width=\"114\" x=\"283\" y=\"147\"/><text fill=\"#000000\" font-family=\"sans-serif\" font-size=\"12\" font-style=\"italic\" lengthAdjust=\"spacingAndGlyphs\" textLength=\"112\" x=\"284\" y=\"163.1387\">«connection  def»</text><text fill=\"#000000\" font-family=\"sans-serif\" font-size=\"12\" lengthAdjust=\"spacingAndGlyphs\" textLength=\"8\" x=\"336\" y=\"177.1074\">A</text><line style=\"stroke: #383838; stroke-width: 1.5;\" x1=\"284\" x2=\"396\" y1=\"184.9375\" y2=\"184.9375\"/></a><!--MD5=[2156ba9850f5573cc1fc38a6a4b2f02b]\n",
       "class E7--><a href=\"psysml:62009ff7-c341-4e72-a056-ce92de09505b\" target=\"_top\" title=\"psysml:62009ff7-c341-4e72-a056-ce92de09505b\" xlink:actuate=\"onRequest\" xlink:href=\"psysml:62009ff7-c341-4e72-a056-ce92de09505b\" xlink:show=\"new\" xlink:title=\"psysml:62009ff7-c341-4e72-a056-ce92de09505b\" xlink:type=\"simple\"><rect fill=\"#FFFFFF\" height=\"45.9375\" id=\"E7\" rx=\"10\" ry=\"10\" style=\"stroke: #383838; stroke-width: 1.5;\" width=\"42\" x=\"310\" y=\"253\"/><text fill=\"#000000\" font-family=\"sans-serif\" font-size=\"12\" font-style=\"italic\" lengthAdjust=\"spacingAndGlyphs\" textLength=\"40\" x=\"311\" y=\"269.1387\">«port»</text><text fill=\"#000000\" font-family=\"sans-serif\" font-size=\"12\" lengthAdjust=\"spacingAndGlyphs\" textLength=\"32\" x=\"313\" y=\"283.1074\">p1: P</text><line style=\"stroke: #383838; stroke-width: 1.5;\" x1=\"311\" x2=\"351\" y1=\"290.9375\" y2=\"290.9375\"/></a><!--MD5=[b9389687b975829384b498ac4b7476b2]\n",
       "class E8--><a href=\"psysml:50db7d15-a467-4fc6-8fb9-d943e9708b48\" target=\"_top\" title=\"psysml:50db7d15-a467-4fc6-8fb9-d943e9708b48\" xlink:actuate=\"onRequest\" xlink:href=\"psysml:50db7d15-a467-4fc6-8fb9-d943e9708b48\" xlink:show=\"new\" xlink:title=\"psysml:50db7d15-a467-4fc6-8fb9-d943e9708b48\" xlink:type=\"simple\"><rect fill=\"#FFFFFF\" height=\"45.9375\" id=\"E8\" rx=\"10\" ry=\"10\" style=\"stroke: #383838; stroke-width: 1.5;\" width=\"52\" x=\"387\" y=\"253\"/><text fill=\"#000000\" font-family=\"sans-serif\" font-size=\"12\" font-style=\"italic\" lengthAdjust=\"spacingAndGlyphs\" textLength=\"40\" x=\"393\" y=\"269.1387\">«port»</text><text fill=\"#000000\" font-family=\"sans-serif\" font-size=\"12\" lengthAdjust=\"spacingAndGlyphs\" textLength=\"42\" x=\"390\" y=\"283.1074\">p2: ~P</text><line style=\"stroke: #383838; stroke-width: 1.5;\" x1=\"388\" x2=\"438\" y1=\"290.9375\" y2=\"290.9375\"/></a><!--MD5=[fd4143e9d270a159db93a4ea2a975926]\n",
       "class E9--><a href=\"psysml:909b1fdd-cad7-4fe7-8f0f-a5ae3fa3dd03\" target=\"_top\" title=\"psysml:909b1fdd-cad7-4fe7-8f0f-a5ae3fa3dd03\" xlink:actuate=\"onRequest\" xlink:href=\"psysml:909b1fdd-cad7-4fe7-8f0f-a5ae3fa3dd03\" xlink:show=\"new\" xlink:title=\"psysml:909b1fdd-cad7-4fe7-8f0f-a5ae3fa3dd03\" xlink:type=\"simple\"><rect fill=\"#FFFFFF\" height=\"45.9375\" id=\"E9\" style=\"stroke: #383838; stroke-width: 1.5;\" width=\"100\" x=\"144\" y=\"147\"/><text fill=\"#000000\" font-family=\"sans-serif\" font-size=\"12\" font-style=\"italic\" lengthAdjust=\"spacingAndGlyphs\" textLength=\"98\" x=\"145\" y=\"163.1387\">«interface  def»</text><text fill=\"#000000\" font-family=\"sans-serif\" font-size=\"12\" lengthAdjust=\"spacingAndGlyphs\" textLength=\"3\" x=\"192.5\" y=\"177.1074\">I</text><line style=\"stroke: #383838; stroke-width: 1.5;\" x1=\"145\" x2=\"243\" y1=\"184.9375\" y2=\"184.9375\"/></a><!--MD5=[96f4274e9e20536e775497830990834d]\n",
       "class E10--><a href=\"psysml:4b05cf72-e027-47da-9c90-b867da4c93e0\" target=\"_top\" title=\"psysml:4b05cf72-e027-47da-9c90-b867da4c93e0\" xlink:actuate=\"onRequest\" xlink:href=\"psysml:4b05cf72-e027-47da-9c90-b867da4c93e0\" xlink:show=\"new\" xlink:title=\"psysml:4b05cf72-e027-47da-9c90-b867da4c93e0\" xlink:type=\"simple\"><rect fill=\"#FFFFFF\" height=\"45.9375\" id=\"E10\" rx=\"10\" ry=\"10\" style=\"stroke: #383838; stroke-width: 1.5;\" width=\"42\" x=\"146\" y=\"253\"/><text fill=\"#000000\" font-family=\"sans-serif\" font-size=\"12\" font-style=\"italic\" lengthAdjust=\"spacingAndGlyphs\" textLength=\"40\" x=\"147\" y=\"269.1387\">«port»</text><text fill=\"#000000\" font-family=\"sans-serif\" font-size=\"12\" lengthAdjust=\"spacingAndGlyphs\" textLength=\"32\" x=\"149\" y=\"283.1074\">p1: P</text><line style=\"stroke: #383838; stroke-width: 1.5;\" x1=\"147\" x2=\"187\" y1=\"290.9375\" y2=\"290.9375\"/></a><!--MD5=[1dd1bfd58a279cf63c5f349dbc8fc6a1]\n",
       "class E11--><a href=\"psysml:0c24ab80-75a0-44e9-976a-962e4e9af685\" target=\"_top\" title=\"psysml:0c24ab80-75a0-44e9-976a-962e4e9af685\" xlink:actuate=\"onRequest\" xlink:href=\"psysml:0c24ab80-75a0-44e9-976a-962e4e9af685\" xlink:show=\"new\" xlink:title=\"psysml:0c24ab80-75a0-44e9-976a-962e4e9af685\" xlink:type=\"simple\"><rect fill=\"#FFFFFF\" height=\"45.9375\" id=\"E11\" rx=\"10\" ry=\"10\" style=\"stroke: #383838; stroke-width: 1.5;\" width=\"52\" x=\"223\" y=\"253\"/><text fill=\"#000000\" font-family=\"sans-serif\" font-size=\"12\" font-style=\"italic\" lengthAdjust=\"spacingAndGlyphs\" textLength=\"40\" x=\"229\" y=\"269.1387\">«port»</text><text fill=\"#000000\" font-family=\"sans-serif\" font-size=\"12\" lengthAdjust=\"spacingAndGlyphs\" textLength=\"42\" x=\"226\" y=\"283.1074\">p2: ~P</text><line style=\"stroke: #383838; stroke-width: 1.5;\" x1=\"224\" x2=\"274\" y1=\"290.9375\" y2=\"290.9375\"/></a><!--MD5=[49a0ec8f00dab7302a31f22d0f0fe584]\n",
       "class E12--><a href=\"psysml:c2ec72d4-85fe-4c8d-a549-b327df7a4c85\" target=\"_top\" title=\"psysml:c2ec72d4-85fe-4c8d-a549-b327df7a4c85\" xlink:actuate=\"onRequest\" xlink:href=\"psysml:c2ec72d4-85fe-4c8d-a549-b327df7a4c85\" xlink:show=\"new\" xlink:title=\"psysml:c2ec72d4-85fe-4c8d-a549-b327df7a4c85\" xlink:type=\"simple\"><rect fill=\"#FFFFFF\" height=\"45.9375\" id=\"E12\" style=\"stroke: #383838; stroke-width: 1.5;\" width=\"70\" x=\"45\" y=\"41\"/><text fill=\"#000000\" font-family=\"sans-serif\" font-size=\"12\" font-style=\"italic\" lengthAdjust=\"spacingAndGlyphs\" textLength=\"68\" x=\"46\" y=\"57.1387\">«part  def»</text><text fill=\"#000000\" font-family=\"sans-serif\" font-size=\"12\" lengthAdjust=\"spacingAndGlyphs\" textLength=\"16\" x=\"72\" y=\"71.1074\">B1</text><line style=\"stroke: #383838; stroke-width: 1.5;\" x1=\"46\" x2=\"114\" y1=\"78.9375\" y2=\"78.9375\"/></a><!--MD5=[ee3c913d1a06f366521f9ef512b67efe]\n",
       "class E13--><a href=\"psysml:bf56b714-b103-43c5-844a-64ae22bea297\" target=\"_top\" title=\"psysml:bf56b714-b103-43c5-844a-64ae22bea297\" xlink:actuate=\"onRequest\" xlink:href=\"psysml:bf56b714-b103-43c5-844a-64ae22bea297\" xlink:show=\"new\" xlink:title=\"psysml:bf56b714-b103-43c5-844a-64ae22bea297\" xlink:type=\"simple\"><rect fill=\"#FFFFFF\" height=\"45.9375\" id=\"E13\" rx=\"10\" ry=\"10\" style=\"stroke: #383838; stroke-width: 1.5;\" width=\"42\" x=\"59\" y=\"147\"/><text fill=\"#000000\" font-family=\"sans-serif\" font-size=\"12\" font-style=\"italic\" lengthAdjust=\"spacingAndGlyphs\" textLength=\"40\" x=\"60\" y=\"163.1387\">«part»</text><text fill=\"#000000\" font-family=\"sans-serif\" font-size=\"12\" lengthAdjust=\"spacingAndGlyphs\" textLength=\"8\" x=\"74\" y=\"177.1074\">p</text><line style=\"stroke: #383838; stroke-width: 1.5;\" x1=\"60\" x2=\"100\" y1=\"184.9375\" y2=\"184.9375\"/></a><!--MD5=[bee11217b2f71d958a27249dc326068c]\n",
       "class E14--><a href=\"psysml:b5c2279c-6642-492b-a6cf-19efab06e689\" target=\"_top\" title=\"psysml:b5c2279c-6642-492b-a6cf-19efab06e689\" xlink:actuate=\"onRequest\" xlink:href=\"psysml:b5c2279c-6642-492b-a6cf-19efab06e689\" xlink:show=\"new\" xlink:title=\"psysml:b5c2279c-6642-492b-a6cf-19efab06e689\" xlink:type=\"simple\"><rect fill=\"#FFFFFF\" height=\"45.9375\" id=\"E14\" rx=\"10\" ry=\"10\" style=\"stroke: #383838; stroke-width: 1.5;\" width=\"42\" x=\"69\" y=\"253\"/><text fill=\"#000000\" font-family=\"sans-serif\" font-size=\"12\" font-style=\"italic\" lengthAdjust=\"spacingAndGlyphs\" textLength=\"40\" x=\"70\" y=\"269.1387\">«port»</text><text fill=\"#000000\" font-family=\"sans-serif\" font-size=\"12\" lengthAdjust=\"spacingAndGlyphs\" textLength=\"32\" x=\"72\" y=\"283.1074\">p1: P</text><line style=\"stroke: #383838; stroke-width: 1.5;\" x1=\"70\" x2=\"110\" y1=\"290.9375\" y2=\"290.9375\"/></a><!--MD5=[0c48fb7552dae8cbbef69381101a84c8]\n",
       "class E15--><a href=\"psysml:ed6b3600-9f65-4ffd-a058-1200daf10699\" target=\"_top\" title=\"psysml:ed6b3600-9f65-4ffd-a058-1200daf10699\" xlink:actuate=\"onRequest\" xlink:href=\"psysml:ed6b3600-9f65-4ffd-a058-1200daf10699\" xlink:show=\"new\" xlink:title=\"psysml:ed6b3600-9f65-4ffd-a058-1200daf10699\" xlink:type=\"simple\"><rect fill=\"#FFFFFF\" height=\"45.9375\" id=\"E15\" rx=\"10\" ry=\"10\" style=\"stroke: #383838; stroke-width: 1.5;\" width=\"52\" x=\"64\" y=\"359\"/><text fill=\"#000000\" font-family=\"sans-serif\" font-size=\"12\" font-style=\"italic\" lengthAdjust=\"spacingAndGlyphs\" textLength=\"40\" x=\"70\" y=\"375.1387\">«port»</text><text fill=\"#000000\" font-family=\"sans-serif\" font-size=\"12\" lengthAdjust=\"spacingAndGlyphs\" textLength=\"42\" x=\"67\" y=\"389.1074\">p2: ~P</text><line style=\"stroke: #383838; stroke-width: 1.5;\" x1=\"65\" x2=\"115\" y1=\"396.9375\" y2=\"396.9375\"/></a><!--MD5=[4672eba38e49728da53d11aeb285b987]\n",
       "reverse link E3 to E4--><a href=\"psysml:301fc48c-20ce-4bfe-ac1d-96f5db6094d0\" target=\"_top\" title=\"psysml:301fc48c-20ce-4bfe-ac1d-96f5db6094d0\" xlink:actuate=\"onRequest\" xlink:href=\"psysml:301fc48c-20ce-4bfe-ac1d-96f5db6094d0\" xlink:show=\"new\" xlink:title=\"psysml:301fc48c-20ce-4bfe-ac1d-96f5db6094d0\" xlink:type=\"simple\"><path d=\"M519.06,205.49 C513.64,221.15 507.39,239.19 502.62,252.98 \" fill=\"none\" id=\"E3&lt;-E4\" style=\"stroke: #383838; stroke-width: 1.0;\"/><polygon fill=\"#FFFFFF\" points=\"523.37,193.06,517.626,197.4196,519.4411,204.3986,525.1851,200.0389,523.37,193.06\" style=\"stroke: #383838; stroke-width: 1.0;\"/><text fill=\"#000000\" font-family=\"sans-serif\" font-size=\"13\" lengthAdjust=\"spacingAndGlyphs\" textLength=\"8\" x=\"495.5929\" y=\"241.8709\">1</text></a><!--MD5=[185131fc0dcab0a4505a2ebe144e961b]\n",
       "link E4 to E2--><a href=\"psysml:2658e44c-8270-4dd2-9600-daf649b69d41\" target=\"_top\" title=\"psysml:2658e44c-8270-4dd2-9600-daf649b69d41\" xlink:actuate=\"onRequest\" xlink:href=\"psysml:2658e44c-8270-4dd2-9600-daf649b69d41\" xlink:show=\"new\" xlink:title=\"psysml:2658e44c-8270-4dd2-9600-daf649b69d41\" xlink:type=\"simple\"><path d=\"M473.97,289.85 C468.52,292.99 462.61,296.24 457,299 C409.01,322.65 352.44,345.5 311.91,361.04 \" fill=\"none\" id=\"E4-&gt;E2\" style=\"stroke: #383838; stroke-width: 1.0;\"/><polygon fill=\"#FFFFFF\" points=\"293.14,368.16,308.427,354.8819,313.3876,367.9735,293.14,368.16\" style=\"stroke: #383838; stroke-width: 1.0;\"/><ellipse cx=\"314.4658\" cy=\"354.7324\" fill=\"#383838\" rx=\"2\" ry=\"2\" style=\"stroke: #383838; stroke-width: 1.0;\"/><ellipse cx=\"318.0091\" cy=\"364.0836\" fill=\"#383838\" rx=\"2\" ry=\"2\" style=\"stroke: #383838; stroke-width: 1.0;\"/></a><!--MD5=[191cde3d490a3f6d7bb551fe3ddca469]\n",
       "reverse link E3 to E5--><a href=\"psysml:223fd842-0df9-4bd0-ad12-80c4696f3c55\" target=\"_top\" title=\"psysml:223fd842-0df9-4bd0-ad12-80c4696f3c55\" xlink:actuate=\"onRequest\" xlink:href=\"psysml:223fd842-0df9-4bd0-ad12-80c4696f3c55\" xlink:show=\"new\" xlink:title=\"psysml:223fd842-0df9-4bd0-ad12-80c4696f3c55\" xlink:type=\"simple\"><path d=\"M546.05,205.03 C553.02,220.78 561.1,239.06 567.26,252.98 \" fill=\"none\" id=\"E3&lt;-E5\" style=\"stroke: #383838; stroke-width: 1.0;\"/><polygon fill=\"#FFFFFF\" points=\"540.76,193.06,539.5329,200.1659,545.6202,204.0317,546.8473,196.9258,540.76,193.06\" style=\"stroke: #383838; stroke-width: 1.0;\"/><text fill=\"#000000\" font-family=\"sans-serif\" font-size=\"13\" lengthAdjust=\"spacingAndGlyphs\" textLength=\"8\" x=\"555.5674\" y=\"241.8709\">1</text></a><!--MD5=[3f50a3473f1dfb74d3f76443e03635af]\n",
       "reverse link E6 to E7--><a href=\"psysml:21746d6a-6182-4390-ad27-ac5c9b62bfbf\" target=\"_top\" title=\"psysml:21746d6a-6182-4390-ad27-ac5c9b62bfbf\" xlink:actuate=\"onRequest\" xlink:href=\"psysml:21746d6a-6182-4390-ad27-ac5c9b62bfbf\" xlink:show=\"new\" xlink:title=\"psysml:21746d6a-6182-4390-ad27-ac5c9b62bfbf\" xlink:type=\"simple\"><path d=\"M336.93,206.44 C335.6,221.87 334.07,239.47 332.91,252.98 \" fill=\"none\" id=\"E6&lt;-E7\" style=\"stroke: #383838; stroke-width: 1.0;\"/><polygon fill=\"#FFFFFF\" points=\"338.09,193.06,333.5901,198.6948,337.0607,205.0158,341.5606,199.381,338.09,193.06\" style=\"stroke: #383838; stroke-width: 1.0;\"/><text fill=\"#000000\" font-family=\"sans-serif\" font-size=\"13\" lengthAdjust=\"spacingAndGlyphs\" textLength=\"8\" x=\"324.3483\" y=\"241.8709\">1</text></a><!--MD5=[583832df87f4419a098336a29a52fa00]\n",
       "link E7 to E2--><a href=\"psysml:ac292376-6896-4173-b580-fb46e7ca2b11\" target=\"_top\" title=\"psysml:ac292376-6896-4173-b580-fb46e7ca2b11\" xlink:actuate=\"onRequest\" xlink:href=\"psysml:ac292376-6896-4173-b580-fb46e7ca2b11\" xlink:show=\"new\" xlink:title=\"psysml:ac292376-6896-4173-b580-fb46e7ca2b11\" xlink:type=\"simple\"><path d=\"M315.52,299.06 C306.71,311.6 295.43,327.68 285.19,342.26 \" fill=\"none\" id=\"E7-&gt;E2\" style=\"stroke: #383838; stroke-width: 1.0;\"/><polygon fill=\"#FFFFFF\" points=\"273.46,358.98,278.6532,339.4088,290.1093,347.4561,273.46,358.98\" style=\"stroke: #383838; stroke-width: 1.0;\"/><ellipse cx=\"283.5662\" cy=\"335.8942\" fill=\"#383838\" rx=\"2\" ry=\"2\" style=\"stroke: #383838; stroke-width: 1.0;\"/><ellipse cx=\"291.7491\" cy=\"341.6422\" fill=\"#383838\" rx=\"2\" ry=\"2\" style=\"stroke: #383838; stroke-width: 1.0;\"/></a><!--MD5=[f4cf0736d43fd73c4ef68817c49d37d5]\n",
       "reverse link E6 to E8--><a href=\"psysml:0a911d69-2e8c-46c6-ac57-f08740e1c2a7\" target=\"_top\" title=\"psysml:0a911d69-2e8c-46c6-ac57-f08740e1c2a7\" xlink:actuate=\"onRequest\" xlink:href=\"psysml:0a911d69-2e8c-46c6-ac57-f08740e1c2a7\" xlink:show=\"new\" xlink:title=\"psysml:0a911d69-2e8c-46c6-ac57-f08740e1c2a7\" xlink:type=\"simple\"><path d=\"M363.23,204.09 C374.44,220.06 387.58,238.78 397.54,252.98 \" fill=\"none\" id=\"E6&lt;-E8\" style=\"stroke: #383838; stroke-width: 1.0;\"/><polygon fill=\"#FFFFFF\" points=\"355.48,193.06,355.6581,200.2689,362.381,202.8771,362.2029,195.6682,355.48,193.06\" style=\"stroke: #383838; stroke-width: 1.0;\"/><text fill=\"#000000\" font-family=\"sans-serif\" font-size=\"13\" lengthAdjust=\"spacingAndGlyphs\" textLength=\"8\" x=\"384.3101\" y=\"241.8709\">1</text></a><!--MD5=[23ac544a70576c3e717098101004234c]\n",
       "reverse link E9 to E10--><a href=\"psysml:7a6ef9a5-ee54-4bad-bee0-b6cd150b3ba6\" target=\"_top\" title=\"psysml:7a6ef9a5-ee54-4bad-bee0-b6cd150b3ba6\" xlink:actuate=\"onRequest\" xlink:href=\"psysml:7a6ef9a5-ee54-4bad-bee0-b6cd150b3ba6\" xlink:show=\"new\" xlink:title=\"psysml:7a6ef9a5-ee54-4bad-bee0-b6cd150b3ba6\" xlink:type=\"simple\"><path d=\"M184.92,205.96 C180.89,221.51 176.26,239.33 172.72,252.98 \" fill=\"none\" id=\"E9&lt;-E10\" style=\"stroke: #383838; stroke-width: 1.0;\"/><polygon fill=\"#FFFFFF\" points=\"188.27,193.06,182.8943,197.8665,185.2635,204.6773,190.6392,199.8708,188.27,193.06\" style=\"stroke: #383838; stroke-width: 1.0;\"/><text fill=\"#000000\" font-family=\"sans-serif\" font-size=\"13\" lengthAdjust=\"spacingAndGlyphs\" textLength=\"8\" x=\"165.1823\" y=\"241.8709\">1</text></a><!--MD5=[0f36bececdf0dff6e600d6f64214b0f1]\n",
       "link E10 to E2--><a href=\"psysml:1b1dbb40-b684-43d5-9e90-095d8f580599\" target=\"_top\" title=\"psysml:1b1dbb40-b684-43d5-9e90-095d8f580599\" xlink:actuate=\"onRequest\" xlink:href=\"psysml:1b1dbb40-b684-43d5-9e90-095d8f580599\" xlink:show=\"new\" xlink:title=\"psysml:1b1dbb40-b684-43d5-9e90-095d8f580599\" xlink:type=\"simple\"><path d=\"M186.3,299.06 C197.64,312.02 212.28,328.74 225.36,343.7 \" fill=\"none\" id=\"E10-&gt;E2\" style=\"stroke: #383838; stroke-width: 1.0;\"/><polygon fill=\"#FFFFFF\" points=\"238.73,358.98,220.9517,349.2882,231.489,340.0705,238.73,358.98\" style=\"stroke: #383838; stroke-width: 1.0;\"/><ellipse cx=\"218.7041\" cy=\"343.6812\" fill=\"#383838\" rx=\"2\" ry=\"2\" style=\"stroke: #383838; stroke-width: 1.0;\"/><ellipse cx=\"226.2308\" cy=\"337.0972\" fill=\"#383838\" rx=\"2\" ry=\"2\" style=\"stroke: #383838; stroke-width: 1.0;\"/></a><!--MD5=[1fc04a95fd77ad5ce46c1a3027516051]\n",
       "reverse link E9 to E11--><a href=\"psysml:26e0bda0-b5f1-463e-8de4-6289f85dc961\" target=\"_top\" title=\"psysml:26e0bda0-b5f1-463e-8de4-6289f85dc961\" xlink:actuate=\"onRequest\" xlink:href=\"psysml:26e0bda0-b5f1-463e-8de4-6289f85dc961\" xlink:show=\"new\" xlink:title=\"psysml:26e0bda0-b5f1-463e-8de4-6289f85dc961\" xlink:type=\"simple\"><path d=\"M211.75,204.56 C220.14,220.42 229.92,238.92 237.35,252.98 \" fill=\"none\" id=\"E9&lt;-E11\" style=\"stroke: #383838; stroke-width: 1.0;\"/><polygon fill=\"#FFFFFF\" points=\"205.66,193.06,204.9277,200.2338,211.268,203.669,212.0003,196.4952,205.66,193.06\" style=\"stroke: #383838; stroke-width: 1.0;\"/><text fill=\"#000000\" font-family=\"sans-serif\" font-size=\"13\" lengthAdjust=\"spacingAndGlyphs\" textLength=\"8\" x=\"225.1441\" y=\"241.8709\">1</text></a><!--MD5=[062ed86c389d1a88f61c6380d0491e17]\n",
       "reverse link E12 to E13--><a href=\"psysml:b5605e58-b315-4dd3-8e84-581a703b4e2b\" target=\"_top\" title=\"psysml:b5605e58-b315-4dd3-8e84-581a703b4e2b\" xlink:actuate=\"onRequest\" xlink:href=\"psysml:b5605e58-b315-4dd3-8e84-581a703b4e2b\" xlink:show=\"new\" xlink:title=\"psysml:b5605e58-b315-4dd3-8e84-581a703b4e2b\" xlink:type=\"simple\"><path d=\"M80,100.44 C80,115.87 80,133.47 80,146.98 \" fill=\"none\" id=\"E12&lt;-E13\" style=\"stroke: #383838; stroke-width: 1.0;\"/><polygon fill=\"#383838\" points=\"80,87.06,76,93.06,80,99.06,84,93.06,80,87.06\" style=\"stroke: #383838; stroke-width: 1.0;\"/><text fill=\"#000000\" font-family=\"sans-serif\" font-size=\"13\" lengthAdjust=\"spacingAndGlyphs\" textLength=\"8\" x=\"70.925\" y=\"135.8709\">1</text></a><!--MD5=[01db00f33b28669d6d9febea71002831]\n",
       "reverse link E13 to E14--><a href=\"psysml:db42b499-220f-4c1a-8731-eb36b8c82e1e\" target=\"_top\" title=\"psysml:db42b499-220f-4c1a-8731-eb36b8c82e1e\" xlink:actuate=\"onRequest\" xlink:href=\"psysml:db42b499-220f-4c1a-8731-eb36b8c82e1e\" xlink:show=\"new\" xlink:title=\"psysml:db42b499-220f-4c1a-8731-eb36b8c82e1e\" xlink:type=\"simple\"><path d=\"M83.41,206.44 C84.89,221.87 86.58,239.47 87.88,252.98 \" fill=\"none\" id=\"E13&lt;-E14\" style=\"stroke: #383838; stroke-width: 1.0;\"/><polygon fill=\"#FFFFFF\" points=\"82.12,193.06,78.7125,199.4152,83.2683,205.0049,86.6758,198.6497,82.12,193.06\" style=\"stroke: #383838; stroke-width: 1.0;\"/><text fill=\"#000000\" font-family=\"sans-serif\" font-size=\"13\" lengthAdjust=\"spacingAndGlyphs\" textLength=\"8\" x=\"78.2353\" y=\"241.8709\">1</text></a><!--MD5=[e5566ac99d7714697a7fbc17f6b550fe]\n",
       "link E14 to E2--><a href=\"psysml:7155c58b-23e7-41d9-a472-3863cff0084f\" target=\"_top\" title=\"psysml:7155c58b-23e7-41d9-a472-3863cff0084f\" xlink:actuate=\"onRequest\" xlink:href=\"psysml:7155c58b-23e7-41d9-a472-3863cff0084f\" xlink:show=\"new\" xlink:title=\"psysml:7155c58b-23e7-41d9-a472-3863cff0084f\" xlink:type=\"simple\"><path d=\"M111.28,290.17 C134.86,304.77 173.76,328.85 205.58,348.55 \" fill=\"none\" id=\"E14-&gt;E2\" style=\"stroke: #383838; stroke-width: 1.0;\"/><polygon fill=\"#FFFFFF\" points=\"222.86,359.25,203.0213,355.1971,210.3927,343.2949,222.86,359.25\" style=\"stroke: #383838; stroke-width: 1.0;\"/><ellipse cx=\"199.2284\" cy=\"350.4956\" fill=\"#383838\" rx=\"2\" ry=\"2\" style=\"stroke: #383838; stroke-width: 1.0;\"/><ellipse cx=\"204.4937\" cy=\"341.994\" fill=\"#383838\" rx=\"2\" ry=\"2\" style=\"stroke: #383838; stroke-width: 1.0;\"/></a><!--MD5=[e9a5e828c71fd2209a11a152f562d491]\n",
       "reverse link E13 to E15--><a href=\"psysml:2699a371-802b-44a3-9d88-da30e2130afc\" target=\"_top\" title=\"psysml:2699a371-802b-44a3-9d88-da30e2130afc\" xlink:actuate=\"onRequest\" xlink:href=\"psysml:2699a371-802b-44a3-9d88-da30e2130afc\" xlink:show=\"new\" xlink:title=\"psysml:2699a371-802b-44a3-9d88-da30e2130afc\" xlink:type=\"simple\"><path d=\"M64.33,205.31 C54.54,231.09 45,267.26 52,299 C56.73,320.45 67.65,342.96 76.58,358.96 \" fill=\"none\" id=\"E13&lt;-E15\" style=\"stroke: #383838; stroke-width: 1.0;\"/><polygon fill=\"#FFFFFF\" points=\"69.24,193.2,63.2795,197.2586,64.7334,204.3216,70.6939,200.263,69.24,193.2\" style=\"stroke: #383838; stroke-width: 1.0;\"/><text fill=\"#000000\" font-family=\"sans-serif\" font-size=\"13\" lengthAdjust=\"spacingAndGlyphs\" textLength=\"8\" x=\"63.8984\" y=\"347.8455\">1</text></a><!--MD5=[3afbdc645381407e1bc99677323a2513]\n",
       "link E14 to E15--><a href=\"psysml:1d4c99f1-723b-47e9-b0a9-a2cf4f06711c\" target=\"_top\" title=\"psysml:1d4c99f1-723b-47e9-b0a9-a2cf4f06711c\" xlink:actuate=\"onRequest\" xlink:href=\"psysml:1d4c99f1-723b-47e9-b0a9-a2cf4f06711c\" xlink:show=\"new\" xlink:title=\"psysml:1d4c99f1-723b-47e9-b0a9-a2cf4f06711c\" xlink:type=\"simple\"><path d=\"M79.35,299.06 C76.55,316.7 76.55,341.34 79.36,358.98 \" fill=\"none\" id=\"E14-E15\" style=\"stroke: #383838; stroke-width: 3.0;\"/></a><!--MD5=[3afbdc645381407e1bc99677323a2513]\n",
       "link E14 to E15--><a href=\"psysml:99ef5f64-108a-4414-ad16-a52f47db38b7\" target=\"_top\" title=\"psysml:99ef5f64-108a-4414-ad16-a52f47db38b7\" xlink:actuate=\"onRequest\" xlink:href=\"psysml:99ef5f64-108a-4414-ad16-a52f47db38b7\" xlink:show=\"new\" xlink:title=\"psysml:99ef5f64-108a-4414-ad16-a52f47db38b7\" xlink:type=\"simple\"><path d=\"M101.27,299.06 C104.24,316.7 104.24,341.34 101.27,358.98 \" fill=\"none\" id=\"E14-E15-1\" style=\"stroke: #383838; stroke-width: 3.0;\"/></a><!--MD5=[aabd830f9ed536145f649983b2e4ecb7]\n",
       "@startuml\r\n",
       "top to bottom direction\r\n",
       "skinparam monochrome true\r\n",
       "skinparam classbackgroundcolor white\r\n",
       "skinparam shadowing false\r\n",
       "skinparam wrapWidth 300\r\n",
       "hide circle\r\n",
       "\r\n",
       "package \"ConjugationTest\" as E1  [[psysml:62f2acf4-862e-4777-8380-6adbdab8aa3b ]]  {\r\n",
       "comp def \"P\" as E2  <<(T,blue) port  def>> [[psysml:8038ba5e-65f3-4a7c-a5d9-05577a1e913e ]] {\r\n",
       "}\r\n",
       "comp def \"B\" as E3  <<(T,blue) part  def>> [[psysml:eb00d253-98ff-4ea5-9d4b-40f483d849ec ]] {\r\n",
       "}\r\n",
       "comp usage \"p1: P \" as E4  <<(T,blue) port>> [[psysml:bd11b2df-eb92-4507-bbbb-c6493b57fcfa ]] {\r\n",
       "}\r\n",
       "comp usage \"p2: ~P \" as E5  <<(T,blue) port>> [[psysml:0cbe2724-4b46-4325-902f-a8a483156696 ]] {\r\n",
       "}\r\n",
       "comp def \"A\" as E6  <<(T,blue) connection  def>> [[psysml:c9adf55d-1d58-41e7-9c8f-305f1a380a4f ]] {\r\n",
       "}\r\n",
       "comp usage \"p1: P \" as E7  <<(T,blue) port>> [[psysml:62009ff7-c341-4e72-a056-ce92de09505b ]] {\r\n",
       "}\r\n",
       "comp usage \"p2: ~P \" as E8  <<(T,blue) port>> [[psysml:50db7d15-a467-4fc6-8fb9-d943e9708b48 ]] {\r\n",
       "}\r\n",
       "comp def \"I\" as E9  <<(T,blue) interface  def>> [[psysml:909b1fdd-cad7-4fe7-8f0f-a5ae3fa3dd03 ]] {\r\n",
       "}\r\n",
       "comp usage \"p1: P \" as E10  <<(T,blue) port>> [[psysml:4b05cf72-e027-47da-9c90-b867da4c93e0 ]] {\r\n",
       "}\r\n",
       "comp usage \"p2: ~P \" as E11  <<(T,blue) port>> [[psysml:0c24ab80-75a0-44e9-976a-962e4e9af685 ]] {\r\n",
       "}\r\n",
       "comp def \"B1\" as E12  <<(T,blue) part  def>> [[psysml:c2ec72d4-85fe-4c8d-a549-b327df7a4c85 ]] {\r\n",
       "}\r\n",
       "comp usage \"p \" as E13  <<(T,blue) part>> [[psysml:bf56b714-b103-43c5-844a-64ae22bea297 ]] {\r\n",
       "}\r\n",
       "comp usage \"p1: P \" as E14  <<(T,blue) port>> [[psysml:b5c2279c-6642-492b-a6cf-19efab06e689 ]] {\r\n",
       "}\r\n",
       "comp usage \"p2: ~P \" as E15  <<(T,blue) port>> [[psysml:ed6b3600-9f65-4ffd-a058-1200daf10699 ]] {\r\n",
       "}\r\n",
       "}\r\n",
       "E3 o- - \"1\"E4 [[psysml:301fc48c-20ce-4bfe-ac1d-96f5db6094d0 ]] \r\n",
       "E4 - -:|> E2 [[psysml:2658e44c-8270-4dd2-9600-daf649b69d41 ]] \r\n",
       "E3 o- - \"1\"E5 [[psysml:223fd842-0df9-4bd0-ad12-80c4696f3c55 ]] \r\n",
       "E6 o- - \"1\"E7 [[psysml:21746d6a-6182-4390-ad27-ac5c9b62bfbf ]] \r\n",
       "E7 - -:|> E2 [[psysml:ac292376-6896-4173-b580-fb46e7ca2b11 ]] \r\n",
       "E6 o- - \"1\"E8 [[psysml:0a911d69-2e8c-46c6-ac57-f08740e1c2a7 ]] \r\n",
       "E9 o- - \"1\"E10 [[psysml:7a6ef9a5-ee54-4bad-bee0-b6cd150b3ba6 ]] \r\n",
       "E10 - -:|> E2 [[psysml:1b1dbb40-b684-43d5-9e90-095d8f580599 ]] \r\n",
       "E9 o- - \"1\"E11 [[psysml:26e0bda0-b5f1-463e-8de4-6289f85dc961 ]] \r\n",
       "E12 *- - \"1\"E13 [[psysml:b5605e58-b315-4dd3-8e84-581a703b4e2b ]] \r\n",
       "E13 o- - \"1\"E14 [[psysml:db42b499-220f-4c1a-8731-eb36b8c82e1e ]] \r\n",
       "E14 - -:|> E2 [[psysml:7155c58b-23e7-41d9-a472-3863cff0084f ]] \r\n",
       "E13 o- - \"1\"E15 [[psysml:2699a371-802b-44a3-9d88-da30e2130afc ]] \r\n",
       "E14 -[thickness=3]- E15 [[psysml:1d4c99f1-723b-47e9-b0a9-a2cf4f06711c ]] \r\n",
       "E14 -[thickness=3]- E15 [[psysml:99ef5f64-108a-4414-ad16-a52f47db38b7 ]] \r\n",
       "@enduml\r\n",
       "\n",
       "PlantUML version 1.2020.13(Sat Jun 13 12:26:38 UTC 2020)\n",
       "(EPL source distribution)\n",
       "Java Runtime: OpenJDK Runtime Environment\n",
       "JVM: OpenJDK 64-Bit Server VM\n",
       "Default Encoding: UTF-8\n",
       "Language: en\n",
       "Country: null\n",
       "--></g></svg>"
      ]
     },
     "execution_count": 45,
     "metadata": {},
     "output_type": "execute_result"
    }
   ],
   "source": [
    "%viz --style=\"TB\" --view=\"Tree\" \"ConjugationTest\""
   ]
  },
  {
   "cell_type": "code",
   "execution_count": 46,
   "id": "a15823cf",
   "metadata": {
    "execution": {
     "iopub.execute_input": "2022-02-18T10:47:47.873324Z",
     "iopub.status.busy": "2022-02-18T10:47:47.872931Z",
     "iopub.status.idle": "2022-02-18T10:47:47.877638Z",
     "shell.execute_reply": "2022-02-18T10:47:47.877293Z"
    }
   },
   "outputs": [
    {
     "data": {
      "image/svg+xml": [
       "<?xml version=\"1.0\" encoding=\"UTF-8\" standalone=\"no\"?><svg xmlns=\"http://www.w3.org/2000/svg\" xmlns:xlink=\"http://www.w3.org/1999/xlink\" contentScriptType=\"application/ecmascript\" contentStyleType=\"text/css\" height=\"12px\" preserveAspectRatio=\"none\" style=\"width:12px;height:12px;\" version=\"1.1\" viewBox=\"0 0 12 12\" width=\"12px\" zoomAndPan=\"magnify\"><defs/><g><!--MD5=[f4ee21bc66e489b5061b7c3e9601fdef]\n",
       "@startuml\r\n",
       "top to bottom direction\r\n",
       "skinparam monochrome true\r\n",
       "skinparam classbackgroundcolor white\r\n",
       "skinparam shadowing false\r\n",
       "skinparam wrapWidth 300\r\n",
       "hide circle\r\n",
       "\r\n",
       "@enduml\r\n",
       "\n",
       "PlantUML version 1.2020.13(Sat Jun 13 12:26:38 UTC 2020)\n",
       "(EPL source distribution)\n",
       "Java Runtime: OpenJDK Runtime Environment\n",
       "JVM: OpenJDK 64-Bit Server VM\n",
       "Default Encoding: UTF-8\n",
       "Language: en\n",
       "Country: null\n",
       "--></g></svg>"
      ]
     },
     "execution_count": 46,
     "metadata": {},
     "output_type": "execute_result"
    }
   ],
   "source": [
    "%viz --style=\"TB\" --view=\"State\" \"ConjugationTest\""
   ]
  },
  {
   "cell_type": "code",
   "execution_count": 47,
   "id": "cac5dd72",
   "metadata": {
    "execution": {
     "iopub.execute_input": "2022-02-18T10:47:47.927414Z",
     "iopub.status.busy": "2022-02-18T10:47:47.927025Z",
     "iopub.status.idle": "2022-02-18T10:47:47.971118Z",
     "shell.execute_reply": "2022-02-18T10:47:47.969784Z"
    }
   },
   "outputs": [
    {
     "data": {
      "image/svg+xml": [
       "<?xml version=\"1.0\" encoding=\"UTF-8\" standalone=\"no\"?><svg xmlns=\"http://www.w3.org/2000/svg\" xmlns:xlink=\"http://www.w3.org/1999/xlink\" contentScriptType=\"application/ecmascript\" contentStyleType=\"text/css\" height=\"246px\" preserveAspectRatio=\"none\" style=\"width:753px;height:246px;\" version=\"1.1\" viewBox=\"0 0 753 246\" width=\"753px\" zoomAndPan=\"magnify\"><defs/><g><!--MD5=[fbc87193dbaf4d95561dea2c320d4a47]\n",
       "cluster E1--><a href=\"psysml:62f2acf4-862e-4777-8380-6adbdab8aa3b\" target=\"_top\" title=\"psysml:62f2acf4-862e-4777-8380-6adbdab8aa3b\" xlink:actuate=\"onRequest\" xlink:href=\"psysml:62f2acf4-862e-4777-8380-6adbdab8aa3b\" xlink:show=\"new\" xlink:title=\"psysml:62f2acf4-862e-4777-8380-6adbdab8aa3b\" xlink:type=\"simple\"><polygon fill=\"#FFFFFF\" points=\"16,6,136,6,143,28.2969,731,28.2969,731,234.5,16,234.5,16,6\" style=\"stroke: #000000; stroke-width: 1.5;\"/><line style=\"stroke: #000000; stroke-width: 1.5;\" x1=\"16\" x2=\"143\" y1=\"28.2969\" y2=\"28.2969\"/><text fill=\"#000000\" font-family=\"sans-serif\" font-size=\"14\" font-weight=\"bold\" lengthAdjust=\"spacingAndGlyphs\" textLength=\"114\" x=\"20\" y=\"20.9951\">ConjugationTest</text></a><!--MD5=[d5e69f78d87373223dbae638b30a9c99]\n",
       "cluster E3--><a href=\"psysml:eb00d253-98ff-4ea5-9d4b-40f483d849ec\" target=\"_top\" title=\"psysml:eb00d253-98ff-4ea5-9d4b-40f483d849ec\" xlink:actuate=\"onRequest\" xlink:href=\"psysml:eb00d253-98ff-4ea5-9d4b-40f483d849ec\" xlink:show=\"new\" xlink:title=\"psysml:eb00d253-98ff-4ea5-9d4b-40f483d849ec\" xlink:type=\"simple\"><rect fill=\"#FFFFFF\" height=\"88.5\" id=\"E3\" style=\"stroke: #383838; stroke-width: 1.5;\" width=\"85\" x=\"588\" y=\"114\"/><rect fill=\"#F8F8F8\" height=\"37.9375\" style=\"stroke: #383838; stroke-width: 1.5;\" width=\"85\" x=\"588\" y=\"114\"/><text fill=\"#000000\" font-family=\"sans-serif\" font-size=\"12\" font-style=\"italic\" lengthAdjust=\"spacingAndGlyphs\" textLength=\"68\" x=\"596.5\" y=\"130.1387\">«part  def»</text><text fill=\"#000000\" font-family=\"sans-serif\" font-size=\"12\" lengthAdjust=\"spacingAndGlyphs\" textLength=\"8\" x=\"626.5\" y=\"144.1074\">B</text></a><!--MD5=[14e3b0961a2654348d326746436168a1]\n",
       "cluster E6--><a href=\"psysml:c9adf55d-1d58-41e7-9c8f-305f1a380a4f\" target=\"_top\" title=\"psysml:c9adf55d-1d58-41e7-9c8f-305f1a380a4f\" xlink:actuate=\"onRequest\" xlink:href=\"psysml:c9adf55d-1d58-41e7-9c8f-305f1a380a4f\" xlink:show=\"new\" xlink:title=\"psysml:c9adf55d-1d58-41e7-9c8f-305f1a380a4f\" xlink:type=\"simple\"><rect fill=\"#FFFFFF\" height=\"88.5\" id=\"E6\" style=\"stroke: #383838; stroke-width: 1.5;\" width=\"152\" x=\"431\" y=\"114\"/><rect fill=\"#F8F8F8\" height=\"37.9375\" style=\"stroke: #383838; stroke-width: 1.5;\" width=\"152\" x=\"431\" y=\"114\"/><text fill=\"#000000\" font-family=\"sans-serif\" font-size=\"12\" font-style=\"italic\" lengthAdjust=\"spacingAndGlyphs\" textLength=\"112\" x=\"451\" y=\"130.1387\">«connection  def»</text><text fill=\"#000000\" font-family=\"sans-serif\" font-size=\"12\" lengthAdjust=\"spacingAndGlyphs\" textLength=\"8\" x=\"503\" y=\"144.1074\">A</text></a><!--MD5=[7f149f147074ac12df2cb0a7728a5fb0]\n",
       "cluster E9--><a href=\"psysml:909b1fdd-cad7-4fe7-8f0f-a5ae3fa3dd03\" target=\"_top\" title=\"psysml:909b1fdd-cad7-4fe7-8f0f-a5ae3fa3dd03\" xlink:actuate=\"onRequest\" xlink:href=\"psysml:909b1fdd-cad7-4fe7-8f0f-a5ae3fa3dd03\" xlink:show=\"new\" xlink:title=\"psysml:909b1fdd-cad7-4fe7-8f0f-a5ae3fa3dd03\" xlink:type=\"simple\"><rect fill=\"#FFFFFF\" height=\"88.5\" id=\"E9\" style=\"stroke: #383838; stroke-width: 1.5;\" width=\"143\" x=\"258\" y=\"114\"/><rect fill=\"#F8F8F8\" height=\"37.9375\" style=\"stroke: #383838; stroke-width: 1.5;\" width=\"143\" x=\"258\" y=\"114\"/><text fill=\"#000000\" font-family=\"sans-serif\" font-size=\"12\" font-style=\"italic\" lengthAdjust=\"spacingAndGlyphs\" textLength=\"98\" x=\"280.5\" y=\"130.1387\">«interface  def»</text><text fill=\"#000000\" font-family=\"sans-serif\" font-size=\"12\" lengthAdjust=\"spacingAndGlyphs\" textLength=\"3\" x=\"328\" y=\"144.1074\">I</text></a><!--MD5=[47bea60c1a0ac6c1143df232041969c0]\n",
       "cluster E12--><a href=\"psysml:c2ec72d4-85fe-4c8d-a549-b327df7a4c85\" target=\"_top\" title=\"psysml:c2ec72d4-85fe-4c8d-a549-b327df7a4c85\" xlink:actuate=\"onRequest\" xlink:href=\"psysml:c2ec72d4-85fe-4c8d-a549-b327df7a4c85\" xlink:show=\"new\" xlink:title=\"psysml:c2ec72d4-85fe-4c8d-a549-b327df7a4c85\" xlink:type=\"simple\"><rect fill=\"#FFFFFF\" height=\"161.5\" id=\"E12\" style=\"stroke: #383838; stroke-width: 1.5;\" width=\"107\" x=\"122\" y=\"49\"/><rect fill=\"#F8F8F8\" height=\"37.9375\" style=\"stroke: #383838; stroke-width: 1.5;\" width=\"107\" x=\"122\" y=\"49\"/><text fill=\"#000000\" font-family=\"sans-serif\" font-size=\"12\" font-style=\"italic\" lengthAdjust=\"spacingAndGlyphs\" textLength=\"68\" x=\"141.5\" y=\"65.1387\">«part  def»</text><text fill=\"#000000\" font-family=\"sans-serif\" font-size=\"12\" lengthAdjust=\"spacingAndGlyphs\" textLength=\"16\" x=\"167.5\" y=\"79.1074\">B1</text></a><!--MD5=[03104f77b71e2d8d3500c651e6e31181]\n",
       "cluster E13--><a href=\"psysml:bf56b714-b103-43c5-844a-64ae22bea297\" target=\"_top\" title=\"psysml:bf56b714-b103-43c5-844a-64ae22bea297\" xlink:actuate=\"onRequest\" xlink:href=\"psysml:bf56b714-b103-43c5-844a-64ae22bea297\" xlink:show=\"new\" xlink:title=\"psysml:bf56b714-b103-43c5-844a-64ae22bea297\" xlink:type=\"simple\"><rect fill=\"#FFFFFF\" height=\"80.5\" id=\"E13\" rx=\"10\" ry=\"10\" style=\"stroke: #383838; stroke-width: 1.5;\" width=\"83\" x=\"134\" y=\"114\"/><rect fill=\"#F8F8F8\" height=\"23.9688\" rx=\"10\" ry=\"10\" style=\"stroke: #F8F8F8; stroke-width: 1.5;\" width=\"83\" x=\"134\" y=\"114\"/><rect fill=\"#F8F8F8\" height=\"10\" style=\"stroke: #F8F8F8; stroke-width: 1.5;\" width=\"83\" x=\"134\" y=\"127.9688\"/><rect fill=\"none\" height=\"80.5\" id=\"E13\" rx=\"10\" ry=\"10\" style=\"stroke: #383838; stroke-width: 1.5;\" width=\"83\" x=\"134\" y=\"114\"/><text fill=\"#000000\" font-family=\"sans-serif\" font-size=\"12\" lengthAdjust=\"spacingAndGlyphs\" textLength=\"8\" x=\"171.5\" y=\"130.1387\">p</text><line style=\"stroke: #383838; stroke-width: 1.0;\" x1=\"134\" x2=\"217\" y1=\"137.9688\" y2=\"137.9688\"/></a><g id=\"E1.E2\"><a href=\"psysml:8038ba5e-65f3-4a7c-a5d9-05577a1e913e\" target=\"_top\" title=\"psysml:8038ba5e-65f3-4a7c-a5d9-05577a1e913e\" xlink:actuate=\"onRequest\" xlink:href=\"psysml:8038ba5e-65f3-4a7c-a5d9-05577a1e913e\" xlink:show=\"new\" xlink:title=\"psysml:8038ba5e-65f3-4a7c-a5d9-05577a1e913e\" xlink:type=\"simple\"><rect fill=\"#FFFFFF\" height=\"42.9375\" id=\"E2\" style=\"stroke: #383838; stroke-width: 1.5;\" width=\"75\" x=\"31.5\" y=\"92.5\"/><rect fill=\"#F8F8F8\" height=\"37.9375\" style=\"stroke: #383838; stroke-width: 1.5;\" width=\"75\" x=\"31.5\" y=\"92.5\"/><text fill=\"#000000\" font-family=\"sans-serif\" font-size=\"12\" font-style=\"italic\" lengthAdjust=\"spacingAndGlyphs\" textLength=\"68\" x=\"35\" y=\"108.6387\">«port  def»</text><text fill=\"#000000\" font-family=\"sans-serif\" font-size=\"12\" lengthAdjust=\"spacingAndGlyphs\" textLength=\"8\" x=\"65\" y=\"122.6074\">P</text></a></g><text fill=\"#000000\" font-family=\"sans-serif\" font-size=\"14\" lengthAdjust=\"spacingAndGlyphs\" textLength=\"36\" x=\"586\" y=\"92.6982\">p1: P</text><rect fill=\"#383838\" height=\"12\" style=\"stroke: #F8F8F8; stroke-width: 1.5;\" width=\"12\" x=\"600\" y=\"108\"/><text fill=\"#000000\" font-family=\"sans-serif\" font-size=\"14\" lengthAdjust=\"spacingAndGlyphs\" textLength=\"48\" x=\"627\" y=\"92.6982\">p2: ~P</text><rect fill=\"#383838\" height=\"12\" style=\"stroke: #F8F8F8; stroke-width: 1.5;\" width=\"12\" x=\"647\" y=\"108\"/><text fill=\"#000000\" font-family=\"sans-serif\" font-size=\"14\" lengthAdjust=\"spacingAndGlyphs\" textLength=\"36\" x=\"429\" y=\"92.6982\">p1: P</text><rect fill=\"#383838\" height=\"12\" style=\"stroke: #F8F8F8; stroke-width: 1.5;\" width=\"12\" x=\"443\" y=\"108\"/><text fill=\"#000000\" font-family=\"sans-serif\" font-size=\"14\" lengthAdjust=\"spacingAndGlyphs\" textLength=\"48\" x=\"470\" y=\"92.6982\">p2: ~P</text><rect fill=\"#383838\" height=\"12\" style=\"stroke: #F8F8F8; stroke-width: 1.5;\" width=\"12\" x=\"490\" y=\"108\"/><text fill=\"#000000\" font-family=\"sans-serif\" font-size=\"14\" lengthAdjust=\"spacingAndGlyphs\" textLength=\"36\" x=\"256\" y=\"92.6982\">p1: P</text><rect fill=\"#383838\" height=\"12\" style=\"stroke: #F8F8F8; stroke-width: 1.5;\" width=\"12\" x=\"270\" y=\"108\"/><text fill=\"#000000\" font-family=\"sans-serif\" font-size=\"14\" lengthAdjust=\"spacingAndGlyphs\" textLength=\"48\" x=\"297\" y=\"92.6982\">p2: ~P</text><rect fill=\"#383838\" height=\"12\" style=\"stroke: #F8F8F8; stroke-width: 1.5;\" width=\"12\" x=\"317\" y=\"108\"/><text fill=\"#000000\" font-family=\"sans-serif\" font-size=\"14\" lengthAdjust=\"spacingAndGlyphs\" textLength=\"36\" x=\"132\" y=\"92.6982\">p1: P</text><rect fill=\"#383838\" height=\"12\" style=\"stroke: #F8F8F8; stroke-width: 1.5;\" width=\"12\" x=\"146\" y=\"108\"/><text fill=\"#000000\" font-family=\"sans-serif\" font-size=\"14\" lengthAdjust=\"spacingAndGlyphs\" textLength=\"48\" x=\"173\" y=\"92.6982\">p2: ~P</text><rect fill=\"#383838\" height=\"12\" style=\"stroke: #F8F8F8; stroke-width: 1.5;\" width=\"12\" x=\"193\" y=\"108\"/><!--MD5=[3afbdc645381407e1bc99677323a2513]\n",
       "link E14 to E15--><a href=\"psysml:1d4c99f1-723b-47e9-b0a9-a2cf4f06711c\" target=\"_top\" title=\"psysml:1d4c99f1-723b-47e9-b0a9-a2cf4f06711c\" xlink:actuate=\"onRequest\" xlink:href=\"psysml:1d4c99f1-723b-47e9-b0a9-a2cf4f06711c\" xlink:show=\"new\" xlink:title=\"psysml:1d4c99f1-723b-47e9-b0a9-a2cf4f06711c\" xlink:type=\"simple\"><path d=\"M158.24,114 C169.81,114 181.38,114 192.95,114 \" fill=\"none\" id=\"E14-E15\" style=\"stroke: #383838; stroke-width: 3.0;\"/></a><!--MD5=[3afbdc645381407e1bc99677323a2513]\n",
       "link E14 to E15--><a href=\"psysml:99ef5f64-108a-4414-ad16-a52f47db38b7\" target=\"_top\" title=\"psysml:99ef5f64-108a-4414-ad16-a52f47db38b7\" xlink:actuate=\"onRequest\" xlink:href=\"psysml:99ef5f64-108a-4414-ad16-a52f47db38b7\" xlink:show=\"new\" xlink:title=\"psysml:99ef5f64-108a-4414-ad16-a52f47db38b7\" xlink:type=\"simple\"><path d=\"M158.24,111.93 C169.81,108.67 181.38,108.69 192.95,111.98 \" fill=\"none\" id=\"E14-E15-1\" style=\"stroke: #383838; stroke-width: 3.0;\"/></a><!--MD5=[fb65a6cece0131f2b143afb76e63dc15]\n",
       "@startuml\r\n",
       "skinparam ranksep 10\r\n",
       "skinparam rectangle {\r\n",
       " backgroundColor<<block>> LightGreen\r\n",
       "}\r\n",
       "top to bottom direction\r\n",
       "skinparam monochrome true\r\n",
       "skinparam classbackgroundcolor white\r\n",
       "skinparam shadowing false\r\n",
       "skinparam wrapWidth 300\r\n",
       "hide circle\r\n",
       "\r\n",
       "package \"ConjugationTest\" as E1  [[psysml:62f2acf4-862e-4777-8380-6adbdab8aa3b ]]  {\r\n",
       "def \"P\" as E2  <<(T,blue) port  def>> [[psysml:8038ba5e-65f3-4a7c-a5d9-05577a1e913e ]] \r\n",
       "rec def \"B\" as E3  <<(T,blue) part  def>> [[psysml:eb00d253-98ff-4ea5-9d4b-40f483d849ec ]] {\r\n",
       "portin \"p1: P \" as E4  <<(T,blue) port>> [[psysml:bd11b2df-eb92-4507-bbbb-c6493b57fcfa ]] \r\n",
       "portin \"p2: ~P \" as E5  <<(T,blue) port>> [[psysml:0cbe2724-4b46-4325-902f-a8a483156696 ]] \r\n",
       "}\r\n",
       "rec def \"A\" as E6  <<(T,blue) connection  def>> [[psysml:c9adf55d-1d58-41e7-9c8f-305f1a380a4f ]] {\r\n",
       "portin \"p1: P \" as E7  <<(T,blue) port>> [[psysml:62009ff7-c341-4e72-a056-ce92de09505b ]] \r\n",
       "portin \"p2: ~P \" as E8  <<(T,blue) port>> [[psysml:50db7d15-a467-4fc6-8fb9-d943e9708b48 ]] \r\n",
       "}\r\n",
       "rec def \"I\" as E9  <<(T,blue) interface  def>> [[psysml:909b1fdd-cad7-4fe7-8f0f-a5ae3fa3dd03 ]] {\r\n",
       "portin \"p1: P \" as E10  <<(T,blue) port>> [[psysml:4b05cf72-e027-47da-9c90-b867da4c93e0 ]] \r\n",
       "portin \"p2: ~P \" as E11  <<(T,blue) port>> [[psysml:0c24ab80-75a0-44e9-976a-962e4e9af685 ]] \r\n",
       "}\r\n",
       "rec def \"B1\" as E12  <<(T,blue) part  def>> [[psysml:c2ec72d4-85fe-4c8d-a549-b327df7a4c85 ]] {\r\n",
       "rec usage \"p\" as E13  [[psysml:bf56b714-b103-43c5-844a-64ae22bea297 ]] {\r\n",
       "portin \"p1: P \" as E14  <<(T,blue) port>> [[psysml:b5c2279c-6642-492b-a6cf-19efab06e689 ]] \r\n",
       "portin \"p2: ~P \" as E15  <<(T,blue) port>> [[psysml:ed6b3600-9f65-4ffd-a058-1200daf10699 ]] \r\n",
       "}\r\n",
       "}\r\n",
       "}\r\n",
       "E14 -[thickness=3]- E15 [[psysml:1d4c99f1-723b-47e9-b0a9-a2cf4f06711c ]] \r\n",
       "E14 -[thickness=3]- E15 [[psysml:99ef5f64-108a-4414-ad16-a52f47db38b7 ]] \r\n",
       "@enduml\r\n",
       "\n",
       "PlantUML version 1.2020.13(Sat Jun 13 12:26:38 UTC 2020)\n",
       "(EPL source distribution)\n",
       "Java Runtime: OpenJDK Runtime Environment\n",
       "JVM: OpenJDK 64-Bit Server VM\n",
       "Default Encoding: UTF-8\n",
       "Language: en\n",
       "Country: null\n",
       "--></g></svg>"
      ]
     },
     "execution_count": 47,
     "metadata": {},
     "output_type": "execute_result"
    }
   ],
   "source": [
    "%viz --style=\"TB\" --view=\"Interconnection\" \"ConjugationTest\""
   ]
  },
  {
   "cell_type": "code",
   "execution_count": 48,
   "id": "e72e13c7",
   "metadata": {
    "execution": {
     "iopub.execute_input": "2022-02-18T10:47:48.020652Z",
     "iopub.status.busy": "2022-02-18T10:47:48.020258Z",
     "iopub.status.idle": "2022-02-18T10:47:48.024787Z",
     "shell.execute_reply": "2022-02-18T10:47:48.025094Z"
    }
   },
   "outputs": [
    {
     "data": {
      "image/svg+xml": [
       "<?xml version=\"1.0\" encoding=\"UTF-8\" standalone=\"no\"?><svg xmlns=\"http://www.w3.org/2000/svg\" xmlns:xlink=\"http://www.w3.org/1999/xlink\" contentScriptType=\"application/ecmascript\" contentStyleType=\"text/css\" height=\"12px\" preserveAspectRatio=\"none\" style=\"width:12px;height:12px;\" version=\"1.1\" viewBox=\"0 0 12 12\" width=\"12px\" zoomAndPan=\"magnify\"><defs/><g><!--MD5=[06afc254b03ac5e9d9fb7773b07d0800]\n",
       "@startuml\r\n",
       "skinparam ranksep 8\r\n",
       "top to bottom direction\r\n",
       "skinparam monochrome true\r\n",
       "skinparam classbackgroundcolor white\r\n",
       "skinparam shadowing false\r\n",
       "skinparam wrapWidth 300\r\n",
       "hide circle\r\n",
       "\r\n",
       "@enduml\r\n",
       "\n",
       "PlantUML version 1.2020.13(Sat Jun 13 12:26:38 UTC 2020)\n",
       "(EPL source distribution)\n",
       "Java Runtime: OpenJDK Runtime Environment\n",
       "JVM: OpenJDK 64-Bit Server VM\n",
       "Default Encoding: UTF-8\n",
       "Language: en\n",
       "Country: null\n",
       "--></g></svg>"
      ]
     },
     "execution_count": 48,
     "metadata": {},
     "output_type": "execute_result"
    }
   ],
   "source": [
    "%viz --style=\"TB\" --view=\"Action\" \"ConjugationTest\""
   ]
  },
  {
   "cell_type": "code",
   "execution_count": 49,
   "id": "6a5b3193",
   "metadata": {
    "execution": {
     "iopub.execute_input": "2022-02-18T10:47:48.075196Z",
     "iopub.status.busy": "2022-02-18T10:47:48.074802Z",
     "iopub.status.idle": "2022-02-18T10:47:48.079550Z",
     "shell.execute_reply": "2022-02-18T10:47:48.079862Z"
    }
   },
   "outputs": [
    {
     "data": {
      "image/svg+xml": [
       "<?xml version=\"1.0\" encoding=\"UTF-8\" standalone=\"no\"?><svg xmlns=\"http://www.w3.org/2000/svg\" xmlns:xlink=\"http://www.w3.org/1999/xlink\" contentScriptType=\"application/ecmascript\" contentStyleType=\"text/css\" height=\"12px\" preserveAspectRatio=\"none\" style=\"width:12px;height:12px;\" version=\"1.1\" viewBox=\"0 0 12 12\" width=\"12px\" zoomAndPan=\"magnify\"><defs/><g><!--MD5=[e1ab0c84c44d2fef8bf5f140f2689906]\n",
       "@startuml\r\n",
       "skinparam roundcorner 20\r\n",
       "skinparam BoxPadding 20\r\n",
       "skinparam SequenceBoxBackgroundColor #white\r\n",
       "skinparam style strictuml\r\n",
       "skinparam maxMessageSize 100\r\n",
       "top to bottom direction\r\n",
       "skinparam monochrome true\r\n",
       "skinparam classbackgroundcolor white\r\n",
       "skinparam shadowing false\r\n",
       "skinparam wrapWidth 300\r\n",
       "hide circle\r\n",
       "\r\n",
       "@enduml\r\n",
       "\n",
       "PlantUML version 1.2020.13(Sat Jun 13 12:26:38 UTC 2020)\n",
       "(EPL source distribution)\n",
       "Java Runtime: OpenJDK Runtime Environment\n",
       "JVM: OpenJDK 64-Bit Server VM\n",
       "Default Encoding: UTF-8\n",
       "Language: en\n",
       "Country: null\n",
       "--></g></svg>"
      ]
     },
     "execution_count": 49,
     "metadata": {},
     "output_type": "execute_result"
    }
   ],
   "source": [
    "%viz --style=\"TB\" --view=\"Sequence\" \"ConjugationTest\""
   ]
  },
  {
   "cell_type": "code",
   "execution_count": 50,
   "id": "cf8cc511",
   "metadata": {
    "execution": {
     "iopub.execute_input": "2022-02-18T10:47:48.130020Z",
     "iopub.status.busy": "2022-02-18T10:47:48.129602Z",
     "iopub.status.idle": "2022-02-18T10:47:48.175264Z",
     "shell.execute_reply": "2022-02-18T10:47:48.173703Z"
    }
   },
   "outputs": [
    {
     "data": {
      "image/svg+xml": [
       "<?xml version=\"1.0\" encoding=\"UTF-8\" standalone=\"no\"?><svg xmlns=\"http://www.w3.org/2000/svg\" xmlns:xlink=\"http://www.w3.org/1999/xlink\" contentScriptType=\"application/ecmascript\" contentStyleType=\"text/css\" height=\"433px\" preserveAspectRatio=\"none\" style=\"width:641px;height:433px;\" version=\"1.1\" viewBox=\"0 0 641 433\" width=\"641px\" zoomAndPan=\"magnify\"><defs/><g><!--MD5=[fbc87193dbaf4d95561dea2c320d4a47]\n",
       "cluster E1--><a href=\"psysml:62f2acf4-862e-4777-8380-6adbdab8aa3b\" target=\"_top\" title=\"psysml:62f2acf4-862e-4777-8380-6adbdab8aa3b\" xlink:actuate=\"onRequest\" xlink:href=\"psysml:62f2acf4-862e-4777-8380-6adbdab8aa3b\" xlink:show=\"new\" xlink:title=\"psysml:62f2acf4-862e-4777-8380-6adbdab8aa3b\" xlink:type=\"simple\"><polygon fill=\"#FFFFFF\" points=\"16,6,136,6,143,28.2969,619,28.2969,619,421,16,421,16,6\" style=\"stroke: #000000; stroke-width: 1.5;\"/><line style=\"stroke: #000000; stroke-width: 1.5;\" x1=\"16\" x2=\"143\" y1=\"28.2969\" y2=\"28.2969\"/><text fill=\"#000000\" font-family=\"sans-serif\" font-size=\"14\" font-weight=\"bold\" lengthAdjust=\"spacingAndGlyphs\" textLength=\"114\" x=\"20\" y=\"20.9951\">ConjugationTest</text></a><!--MD5=[b4997ac47864f28c2f74865a473b2911]\n",
       "class E2--><a href=\"psysml:8038ba5e-65f3-4a7c-a5d9-05577a1e913e\" target=\"_top\" title=\"psysml:8038ba5e-65f3-4a7c-a5d9-05577a1e913e\" xlink:actuate=\"onRequest\" xlink:href=\"psysml:8038ba5e-65f3-4a7c-a5d9-05577a1e913e\" xlink:show=\"new\" xlink:title=\"psysml:8038ba5e-65f3-4a7c-a5d9-05577a1e913e\" xlink:type=\"simple\"><rect fill=\"#FFFFFF\" height=\"45.9375\" id=\"E2\" style=\"stroke: #383838; stroke-width: 1.5;\" width=\"70\" x=\"223\" y=\"359\"/><text fill=\"#000000\" font-family=\"sans-serif\" font-size=\"12\" font-style=\"italic\" lengthAdjust=\"spacingAndGlyphs\" textLength=\"68\" x=\"224\" y=\"375.1387\">«port  def»</text><text fill=\"#000000\" font-family=\"sans-serif\" font-size=\"12\" lengthAdjust=\"spacingAndGlyphs\" textLength=\"8\" x=\"254\" y=\"389.1074\">P</text><line style=\"stroke: #383838; stroke-width: 1.5;\" x1=\"224\" x2=\"292\" y1=\"396.9375\" y2=\"396.9375\"/></a><!--MD5=[09b614a08d8cba4a07c9adeb5e0fee81]\n",
       "class E3--><a href=\"psysml:eb00d253-98ff-4ea5-9d4b-40f483d849ec\" target=\"_top\" title=\"psysml:eb00d253-98ff-4ea5-9d4b-40f483d849ec\" xlink:actuate=\"onRequest\" xlink:href=\"psysml:eb00d253-98ff-4ea5-9d4b-40f483d849ec\" xlink:show=\"new\" xlink:title=\"psysml:eb00d253-98ff-4ea5-9d4b-40f483d849ec\" xlink:type=\"simple\"><rect fill=\"#FFFFFF\" height=\"45.9375\" id=\"E3\" style=\"stroke: #383838; stroke-width: 1.5;\" width=\"70\" x=\"496\" y=\"147\"/><text fill=\"#000000\" font-family=\"sans-serif\" font-size=\"12\" font-style=\"italic\" lengthAdjust=\"spacingAndGlyphs\" textLength=\"68\" x=\"497\" y=\"163.1387\">«part  def»</text><text fill=\"#000000\" font-family=\"sans-serif\" font-size=\"12\" lengthAdjust=\"spacingAndGlyphs\" textLength=\"8\" x=\"527\" y=\"177.1074\">B</text><line style=\"stroke: #383838; stroke-width: 1.5;\" x1=\"497\" x2=\"565\" y1=\"184.9375\" y2=\"184.9375\"/></a><!--MD5=[ebbe1d658d1005bcc118a6aa81145e00]\n",
       "class E4--><a href=\"psysml:bd11b2df-eb92-4507-bbbb-c6493b57fcfa\" target=\"_top\" title=\"psysml:bd11b2df-eb92-4507-bbbb-c6493b57fcfa\" xlink:actuate=\"onRequest\" xlink:href=\"psysml:bd11b2df-eb92-4507-bbbb-c6493b57fcfa\" xlink:show=\"new\" xlink:title=\"psysml:bd11b2df-eb92-4507-bbbb-c6493b57fcfa\" xlink:type=\"simple\"><rect fill=\"#FFFFFF\" height=\"45.9375\" id=\"E4\" rx=\"10\" ry=\"10\" style=\"stroke: #383838; stroke-width: 1.5;\" width=\"42\" x=\"474\" y=\"253\"/><text fill=\"#000000\" font-family=\"sans-serif\" font-size=\"12\" font-style=\"italic\" lengthAdjust=\"spacingAndGlyphs\" textLength=\"40\" x=\"475\" y=\"269.1387\">«port»</text><text fill=\"#000000\" font-family=\"sans-serif\" font-size=\"12\" lengthAdjust=\"spacingAndGlyphs\" textLength=\"32\" x=\"477\" y=\"283.1074\">p1: P</text><line style=\"stroke: #383838; stroke-width: 1.5;\" x1=\"475\" x2=\"515\" y1=\"290.9375\" y2=\"290.9375\"/></a><!--MD5=[270fce915f116d4de14055a7c1d9a0f3]\n",
       "class E5--><a href=\"psysml:0cbe2724-4b46-4325-902f-a8a483156696\" target=\"_top\" title=\"psysml:0cbe2724-4b46-4325-902f-a8a483156696\" xlink:actuate=\"onRequest\" xlink:href=\"psysml:0cbe2724-4b46-4325-902f-a8a483156696\" xlink:show=\"new\" xlink:title=\"psysml:0cbe2724-4b46-4325-902f-a8a483156696\" xlink:type=\"simple\"><rect fill=\"#FFFFFF\" height=\"45.9375\" id=\"E5\" rx=\"10\" ry=\"10\" style=\"stroke: #383838; stroke-width: 1.5;\" width=\"52\" x=\"551\" y=\"253\"/><text fill=\"#000000\" font-family=\"sans-serif\" font-size=\"12\" font-style=\"italic\" lengthAdjust=\"spacingAndGlyphs\" textLength=\"40\" x=\"557\" y=\"269.1387\">«port»</text><text fill=\"#000000\" font-family=\"sans-serif\" font-size=\"12\" lengthAdjust=\"spacingAndGlyphs\" textLength=\"42\" x=\"554\" y=\"283.1074\">p2: ~P</text><line style=\"stroke: #383838; stroke-width: 1.5;\" x1=\"552\" x2=\"602\" y1=\"290.9375\" y2=\"290.9375\"/></a><!--MD5=[60a26617385b1d2d0262a64233df1f8d]\n",
       "class E6--><a href=\"psysml:c9adf55d-1d58-41e7-9c8f-305f1a380a4f\" target=\"_top\" title=\"psysml:c9adf55d-1d58-41e7-9c8f-305f1a380a4f\" xlink:actuate=\"onRequest\" xlink:href=\"psysml:c9adf55d-1d58-41e7-9c8f-305f1a380a4f\" xlink:show=\"new\" xlink:title=\"psysml:c9adf55d-1d58-41e7-9c8f-305f1a380a4f\" xlink:type=\"simple\"><rect fill=\"#FFFFFF\" height=\"45.9375\" id=\"E6\" style=\"stroke: #383838; stroke-width: 1.5;\" width=\"114\" x=\"283\" y=\"147\"/><text fill=\"#000000\" font-family=\"sans-serif\" font-size=\"12\" font-style=\"italic\" lengthAdjust=\"spacingAndGlyphs\" textLength=\"112\" x=\"284\" y=\"163.1387\">«connection  def»</text><text fill=\"#000000\" font-family=\"sans-serif\" font-size=\"12\" lengthAdjust=\"spacingAndGlyphs\" textLength=\"8\" x=\"336\" y=\"177.1074\">A</text><line style=\"stroke: #383838; stroke-width: 1.5;\" x1=\"284\" x2=\"396\" y1=\"184.9375\" y2=\"184.9375\"/></a><!--MD5=[2156ba9850f5573cc1fc38a6a4b2f02b]\n",
       "class E7--><a href=\"psysml:62009ff7-c341-4e72-a056-ce92de09505b\" target=\"_top\" title=\"psysml:62009ff7-c341-4e72-a056-ce92de09505b\" xlink:actuate=\"onRequest\" xlink:href=\"psysml:62009ff7-c341-4e72-a056-ce92de09505b\" xlink:show=\"new\" xlink:title=\"psysml:62009ff7-c341-4e72-a056-ce92de09505b\" xlink:type=\"simple\"><rect fill=\"#FFFFFF\" height=\"45.9375\" id=\"E7\" rx=\"10\" ry=\"10\" style=\"stroke: #383838; stroke-width: 1.5;\" width=\"42\" x=\"310\" y=\"253\"/><text fill=\"#000000\" font-family=\"sans-serif\" font-size=\"12\" font-style=\"italic\" lengthAdjust=\"spacingAndGlyphs\" textLength=\"40\" x=\"311\" y=\"269.1387\">«port»</text><text fill=\"#000000\" font-family=\"sans-serif\" font-size=\"12\" lengthAdjust=\"spacingAndGlyphs\" textLength=\"32\" x=\"313\" y=\"283.1074\">p1: P</text><line style=\"stroke: #383838; stroke-width: 1.5;\" x1=\"311\" x2=\"351\" y1=\"290.9375\" y2=\"290.9375\"/></a><!--MD5=[b9389687b975829384b498ac4b7476b2]\n",
       "class E8--><a href=\"psysml:50db7d15-a467-4fc6-8fb9-d943e9708b48\" target=\"_top\" title=\"psysml:50db7d15-a467-4fc6-8fb9-d943e9708b48\" xlink:actuate=\"onRequest\" xlink:href=\"psysml:50db7d15-a467-4fc6-8fb9-d943e9708b48\" xlink:show=\"new\" xlink:title=\"psysml:50db7d15-a467-4fc6-8fb9-d943e9708b48\" xlink:type=\"simple\"><rect fill=\"#FFFFFF\" height=\"45.9375\" id=\"E8\" rx=\"10\" ry=\"10\" style=\"stroke: #383838; stroke-width: 1.5;\" width=\"52\" x=\"387\" y=\"253\"/><text fill=\"#000000\" font-family=\"sans-serif\" font-size=\"12\" font-style=\"italic\" lengthAdjust=\"spacingAndGlyphs\" textLength=\"40\" x=\"393\" y=\"269.1387\">«port»</text><text fill=\"#000000\" font-family=\"sans-serif\" font-size=\"12\" lengthAdjust=\"spacingAndGlyphs\" textLength=\"42\" x=\"390\" y=\"283.1074\">p2: ~P</text><line style=\"stroke: #383838; stroke-width: 1.5;\" x1=\"388\" x2=\"438\" y1=\"290.9375\" y2=\"290.9375\"/></a><!--MD5=[fd4143e9d270a159db93a4ea2a975926]\n",
       "class E9--><a href=\"psysml:909b1fdd-cad7-4fe7-8f0f-a5ae3fa3dd03\" target=\"_top\" title=\"psysml:909b1fdd-cad7-4fe7-8f0f-a5ae3fa3dd03\" xlink:actuate=\"onRequest\" xlink:href=\"psysml:909b1fdd-cad7-4fe7-8f0f-a5ae3fa3dd03\" xlink:show=\"new\" xlink:title=\"psysml:909b1fdd-cad7-4fe7-8f0f-a5ae3fa3dd03\" xlink:type=\"simple\"><rect fill=\"#FFFFFF\" height=\"45.9375\" id=\"E9\" style=\"stroke: #383838; stroke-width: 1.5;\" width=\"100\" x=\"144\" y=\"147\"/><text fill=\"#000000\" font-family=\"sans-serif\" font-size=\"12\" font-style=\"italic\" lengthAdjust=\"spacingAndGlyphs\" textLength=\"98\" x=\"145\" y=\"163.1387\">«interface  def»</text><text fill=\"#000000\" font-family=\"sans-serif\" font-size=\"12\" lengthAdjust=\"spacingAndGlyphs\" textLength=\"3\" x=\"192.5\" y=\"177.1074\">I</text><line style=\"stroke: #383838; stroke-width: 1.5;\" x1=\"145\" x2=\"243\" y1=\"184.9375\" y2=\"184.9375\"/></a><!--MD5=[96f4274e9e20536e775497830990834d]\n",
       "class E10--><a href=\"psysml:4b05cf72-e027-47da-9c90-b867da4c93e0\" target=\"_top\" title=\"psysml:4b05cf72-e027-47da-9c90-b867da4c93e0\" xlink:actuate=\"onRequest\" xlink:href=\"psysml:4b05cf72-e027-47da-9c90-b867da4c93e0\" xlink:show=\"new\" xlink:title=\"psysml:4b05cf72-e027-47da-9c90-b867da4c93e0\" xlink:type=\"simple\"><rect fill=\"#FFFFFF\" height=\"45.9375\" id=\"E10\" rx=\"10\" ry=\"10\" style=\"stroke: #383838; stroke-width: 1.5;\" width=\"42\" x=\"146\" y=\"253\"/><text fill=\"#000000\" font-family=\"sans-serif\" font-size=\"12\" font-style=\"italic\" lengthAdjust=\"spacingAndGlyphs\" textLength=\"40\" x=\"147\" y=\"269.1387\">«port»</text><text fill=\"#000000\" font-family=\"sans-serif\" font-size=\"12\" lengthAdjust=\"spacingAndGlyphs\" textLength=\"32\" x=\"149\" y=\"283.1074\">p1: P</text><line style=\"stroke: #383838; stroke-width: 1.5;\" x1=\"147\" x2=\"187\" y1=\"290.9375\" y2=\"290.9375\"/></a><!--MD5=[1dd1bfd58a279cf63c5f349dbc8fc6a1]\n",
       "class E11--><a href=\"psysml:0c24ab80-75a0-44e9-976a-962e4e9af685\" target=\"_top\" title=\"psysml:0c24ab80-75a0-44e9-976a-962e4e9af685\" xlink:actuate=\"onRequest\" xlink:href=\"psysml:0c24ab80-75a0-44e9-976a-962e4e9af685\" xlink:show=\"new\" xlink:title=\"psysml:0c24ab80-75a0-44e9-976a-962e4e9af685\" xlink:type=\"simple\"><rect fill=\"#FFFFFF\" height=\"45.9375\" id=\"E11\" rx=\"10\" ry=\"10\" style=\"stroke: #383838; stroke-width: 1.5;\" width=\"52\" x=\"223\" y=\"253\"/><text fill=\"#000000\" font-family=\"sans-serif\" font-size=\"12\" font-style=\"italic\" lengthAdjust=\"spacingAndGlyphs\" textLength=\"40\" x=\"229\" y=\"269.1387\">«port»</text><text fill=\"#000000\" font-family=\"sans-serif\" font-size=\"12\" lengthAdjust=\"spacingAndGlyphs\" textLength=\"42\" x=\"226\" y=\"283.1074\">p2: ~P</text><line style=\"stroke: #383838; stroke-width: 1.5;\" x1=\"224\" x2=\"274\" y1=\"290.9375\" y2=\"290.9375\"/></a><!--MD5=[49a0ec8f00dab7302a31f22d0f0fe584]\n",
       "class E12--><a href=\"psysml:c2ec72d4-85fe-4c8d-a549-b327df7a4c85\" target=\"_top\" title=\"psysml:c2ec72d4-85fe-4c8d-a549-b327df7a4c85\" xlink:actuate=\"onRequest\" xlink:href=\"psysml:c2ec72d4-85fe-4c8d-a549-b327df7a4c85\" xlink:show=\"new\" xlink:title=\"psysml:c2ec72d4-85fe-4c8d-a549-b327df7a4c85\" xlink:type=\"simple\"><rect fill=\"#FFFFFF\" height=\"45.9375\" id=\"E12\" style=\"stroke: #383838; stroke-width: 1.5;\" width=\"70\" x=\"45\" y=\"41\"/><text fill=\"#000000\" font-family=\"sans-serif\" font-size=\"12\" font-style=\"italic\" lengthAdjust=\"spacingAndGlyphs\" textLength=\"68\" x=\"46\" y=\"57.1387\">«part  def»</text><text fill=\"#000000\" font-family=\"sans-serif\" font-size=\"12\" lengthAdjust=\"spacingAndGlyphs\" textLength=\"16\" x=\"72\" y=\"71.1074\">B1</text><line style=\"stroke: #383838; stroke-width: 1.5;\" x1=\"46\" x2=\"114\" y1=\"78.9375\" y2=\"78.9375\"/></a><!--MD5=[ee3c913d1a06f366521f9ef512b67efe]\n",
       "class E13--><a href=\"psysml:bf56b714-b103-43c5-844a-64ae22bea297\" target=\"_top\" title=\"psysml:bf56b714-b103-43c5-844a-64ae22bea297\" xlink:actuate=\"onRequest\" xlink:href=\"psysml:bf56b714-b103-43c5-844a-64ae22bea297\" xlink:show=\"new\" xlink:title=\"psysml:bf56b714-b103-43c5-844a-64ae22bea297\" xlink:type=\"simple\"><rect fill=\"#FFFFFF\" height=\"45.9375\" id=\"E13\" rx=\"10\" ry=\"10\" style=\"stroke: #383838; stroke-width: 1.5;\" width=\"42\" x=\"59\" y=\"147\"/><text fill=\"#000000\" font-family=\"sans-serif\" font-size=\"12\" font-style=\"italic\" lengthAdjust=\"spacingAndGlyphs\" textLength=\"40\" x=\"60\" y=\"163.1387\">«part»</text><text fill=\"#000000\" font-family=\"sans-serif\" font-size=\"12\" lengthAdjust=\"spacingAndGlyphs\" textLength=\"8\" x=\"74\" y=\"177.1074\">p</text><line style=\"stroke: #383838; stroke-width: 1.5;\" x1=\"60\" x2=\"100\" y1=\"184.9375\" y2=\"184.9375\"/></a><!--MD5=[bee11217b2f71d958a27249dc326068c]\n",
       "class E14--><a href=\"psysml:b5c2279c-6642-492b-a6cf-19efab06e689\" target=\"_top\" title=\"psysml:b5c2279c-6642-492b-a6cf-19efab06e689\" xlink:actuate=\"onRequest\" xlink:href=\"psysml:b5c2279c-6642-492b-a6cf-19efab06e689\" xlink:show=\"new\" xlink:title=\"psysml:b5c2279c-6642-492b-a6cf-19efab06e689\" xlink:type=\"simple\"><rect fill=\"#FFFFFF\" height=\"45.9375\" id=\"E14\" rx=\"10\" ry=\"10\" style=\"stroke: #383838; stroke-width: 1.5;\" width=\"42\" x=\"69\" y=\"253\"/><text fill=\"#000000\" font-family=\"sans-serif\" font-size=\"12\" font-style=\"italic\" lengthAdjust=\"spacingAndGlyphs\" textLength=\"40\" x=\"70\" y=\"269.1387\">«port»</text><text fill=\"#000000\" font-family=\"sans-serif\" font-size=\"12\" lengthAdjust=\"spacingAndGlyphs\" textLength=\"32\" x=\"72\" y=\"283.1074\">p1: P</text><line style=\"stroke: #383838; stroke-width: 1.5;\" x1=\"70\" x2=\"110\" y1=\"290.9375\" y2=\"290.9375\"/></a><!--MD5=[0c48fb7552dae8cbbef69381101a84c8]\n",
       "class E15--><a href=\"psysml:ed6b3600-9f65-4ffd-a058-1200daf10699\" target=\"_top\" title=\"psysml:ed6b3600-9f65-4ffd-a058-1200daf10699\" xlink:actuate=\"onRequest\" xlink:href=\"psysml:ed6b3600-9f65-4ffd-a058-1200daf10699\" xlink:show=\"new\" xlink:title=\"psysml:ed6b3600-9f65-4ffd-a058-1200daf10699\" xlink:type=\"simple\"><rect fill=\"#FFFFFF\" height=\"45.9375\" id=\"E15\" rx=\"10\" ry=\"10\" style=\"stroke: #383838; stroke-width: 1.5;\" width=\"52\" x=\"64\" y=\"359\"/><text fill=\"#000000\" font-family=\"sans-serif\" font-size=\"12\" font-style=\"italic\" lengthAdjust=\"spacingAndGlyphs\" textLength=\"40\" x=\"70\" y=\"375.1387\">«port»</text><text fill=\"#000000\" font-family=\"sans-serif\" font-size=\"12\" lengthAdjust=\"spacingAndGlyphs\" textLength=\"42\" x=\"67\" y=\"389.1074\">p2: ~P</text><line style=\"stroke: #383838; stroke-width: 1.5;\" x1=\"65\" x2=\"115\" y1=\"396.9375\" y2=\"396.9375\"/></a><!--MD5=[4672eba38e49728da53d11aeb285b987]\n",
       "reverse link E3 to E4--><a href=\"psysml:301fc48c-20ce-4bfe-ac1d-96f5db6094d0\" target=\"_top\" title=\"psysml:301fc48c-20ce-4bfe-ac1d-96f5db6094d0\" xlink:actuate=\"onRequest\" xlink:href=\"psysml:301fc48c-20ce-4bfe-ac1d-96f5db6094d0\" xlink:show=\"new\" xlink:title=\"psysml:301fc48c-20ce-4bfe-ac1d-96f5db6094d0\" xlink:type=\"simple\"><path d=\"M519.06,205.49 C513.64,221.15 507.39,239.19 502.62,252.98 \" fill=\"none\" id=\"E3&lt;-E4\" style=\"stroke: #383838; stroke-width: 1.0;\"/><polygon fill=\"#FFFFFF\" points=\"523.37,193.06,517.626,197.4196,519.4411,204.3986,525.1851,200.0389,523.37,193.06\" style=\"stroke: #383838; stroke-width: 1.0;\"/><text fill=\"#000000\" font-family=\"sans-serif\" font-size=\"13\" lengthAdjust=\"spacingAndGlyphs\" textLength=\"8\" x=\"495.5929\" y=\"241.8709\">1</text></a><!--MD5=[185131fc0dcab0a4505a2ebe144e961b]\n",
       "link E4 to E2--><a href=\"psysml:2658e44c-8270-4dd2-9600-daf649b69d41\" target=\"_top\" title=\"psysml:2658e44c-8270-4dd2-9600-daf649b69d41\" xlink:actuate=\"onRequest\" xlink:href=\"psysml:2658e44c-8270-4dd2-9600-daf649b69d41\" xlink:show=\"new\" xlink:title=\"psysml:2658e44c-8270-4dd2-9600-daf649b69d41\" xlink:type=\"simple\"><path d=\"M473.97,289.85 C468.52,292.99 462.61,296.24 457,299 C409.01,322.65 352.44,345.5 311.91,361.04 \" fill=\"none\" id=\"E4-&gt;E2\" style=\"stroke: #383838; stroke-width: 1.0;\"/><polygon fill=\"#FFFFFF\" points=\"293.14,368.16,308.427,354.8819,313.3876,367.9735,293.14,368.16\" style=\"stroke: #383838; stroke-width: 1.0;\"/><ellipse cx=\"314.4658\" cy=\"354.7324\" fill=\"#383838\" rx=\"2\" ry=\"2\" style=\"stroke: #383838; stroke-width: 1.0;\"/><ellipse cx=\"318.0091\" cy=\"364.0836\" fill=\"#383838\" rx=\"2\" ry=\"2\" style=\"stroke: #383838; stroke-width: 1.0;\"/></a><!--MD5=[191cde3d490a3f6d7bb551fe3ddca469]\n",
       "reverse link E3 to E5--><a href=\"psysml:223fd842-0df9-4bd0-ad12-80c4696f3c55\" target=\"_top\" title=\"psysml:223fd842-0df9-4bd0-ad12-80c4696f3c55\" xlink:actuate=\"onRequest\" xlink:href=\"psysml:223fd842-0df9-4bd0-ad12-80c4696f3c55\" xlink:show=\"new\" xlink:title=\"psysml:223fd842-0df9-4bd0-ad12-80c4696f3c55\" xlink:type=\"simple\"><path d=\"M546.05,205.03 C553.02,220.78 561.1,239.06 567.26,252.98 \" fill=\"none\" id=\"E3&lt;-E5\" style=\"stroke: #383838; stroke-width: 1.0;\"/><polygon fill=\"#FFFFFF\" points=\"540.76,193.06,539.5329,200.1659,545.6202,204.0317,546.8473,196.9258,540.76,193.06\" style=\"stroke: #383838; stroke-width: 1.0;\"/><text fill=\"#000000\" font-family=\"sans-serif\" font-size=\"13\" lengthAdjust=\"spacingAndGlyphs\" textLength=\"8\" x=\"555.5674\" y=\"241.8709\">1</text></a><!--MD5=[3f50a3473f1dfb74d3f76443e03635af]\n",
       "reverse link E6 to E7--><a href=\"psysml:21746d6a-6182-4390-ad27-ac5c9b62bfbf\" target=\"_top\" title=\"psysml:21746d6a-6182-4390-ad27-ac5c9b62bfbf\" xlink:actuate=\"onRequest\" xlink:href=\"psysml:21746d6a-6182-4390-ad27-ac5c9b62bfbf\" xlink:show=\"new\" xlink:title=\"psysml:21746d6a-6182-4390-ad27-ac5c9b62bfbf\" xlink:type=\"simple\"><path d=\"M336.93,206.44 C335.6,221.87 334.07,239.47 332.91,252.98 \" fill=\"none\" id=\"E6&lt;-E7\" style=\"stroke: #383838; stroke-width: 1.0;\"/><polygon fill=\"#FFFFFF\" points=\"338.09,193.06,333.5901,198.6948,337.0607,205.0158,341.5606,199.381,338.09,193.06\" style=\"stroke: #383838; stroke-width: 1.0;\"/><text fill=\"#000000\" font-family=\"sans-serif\" font-size=\"13\" lengthAdjust=\"spacingAndGlyphs\" textLength=\"8\" x=\"324.3483\" y=\"241.8709\">1</text></a><!--MD5=[583832df87f4419a098336a29a52fa00]\n",
       "link E7 to E2--><a href=\"psysml:ac292376-6896-4173-b580-fb46e7ca2b11\" target=\"_top\" title=\"psysml:ac292376-6896-4173-b580-fb46e7ca2b11\" xlink:actuate=\"onRequest\" xlink:href=\"psysml:ac292376-6896-4173-b580-fb46e7ca2b11\" xlink:show=\"new\" xlink:title=\"psysml:ac292376-6896-4173-b580-fb46e7ca2b11\" xlink:type=\"simple\"><path d=\"M315.52,299.06 C306.71,311.6 295.43,327.68 285.19,342.26 \" fill=\"none\" id=\"E7-&gt;E2\" style=\"stroke: #383838; stroke-width: 1.0;\"/><polygon fill=\"#FFFFFF\" points=\"273.46,358.98,278.6532,339.4088,290.1093,347.4561,273.46,358.98\" style=\"stroke: #383838; stroke-width: 1.0;\"/><ellipse cx=\"283.5662\" cy=\"335.8942\" fill=\"#383838\" rx=\"2\" ry=\"2\" style=\"stroke: #383838; stroke-width: 1.0;\"/><ellipse cx=\"291.7491\" cy=\"341.6422\" fill=\"#383838\" rx=\"2\" ry=\"2\" style=\"stroke: #383838; stroke-width: 1.0;\"/></a><!--MD5=[f4cf0736d43fd73c4ef68817c49d37d5]\n",
       "reverse link E6 to E8--><a href=\"psysml:0a911d69-2e8c-46c6-ac57-f08740e1c2a7\" target=\"_top\" title=\"psysml:0a911d69-2e8c-46c6-ac57-f08740e1c2a7\" xlink:actuate=\"onRequest\" xlink:href=\"psysml:0a911d69-2e8c-46c6-ac57-f08740e1c2a7\" xlink:show=\"new\" xlink:title=\"psysml:0a911d69-2e8c-46c6-ac57-f08740e1c2a7\" xlink:type=\"simple\"><path d=\"M363.23,204.09 C374.44,220.06 387.58,238.78 397.54,252.98 \" fill=\"none\" id=\"E6&lt;-E8\" style=\"stroke: #383838; stroke-width: 1.0;\"/><polygon fill=\"#FFFFFF\" points=\"355.48,193.06,355.6581,200.2689,362.381,202.8771,362.2029,195.6682,355.48,193.06\" style=\"stroke: #383838; stroke-width: 1.0;\"/><text fill=\"#000000\" font-family=\"sans-serif\" font-size=\"13\" lengthAdjust=\"spacingAndGlyphs\" textLength=\"8\" x=\"384.3101\" y=\"241.8709\">1</text></a><!--MD5=[23ac544a70576c3e717098101004234c]\n",
       "reverse link E9 to E10--><a href=\"psysml:7a6ef9a5-ee54-4bad-bee0-b6cd150b3ba6\" target=\"_top\" title=\"psysml:7a6ef9a5-ee54-4bad-bee0-b6cd150b3ba6\" xlink:actuate=\"onRequest\" xlink:href=\"psysml:7a6ef9a5-ee54-4bad-bee0-b6cd150b3ba6\" xlink:show=\"new\" xlink:title=\"psysml:7a6ef9a5-ee54-4bad-bee0-b6cd150b3ba6\" xlink:type=\"simple\"><path d=\"M184.92,205.96 C180.89,221.51 176.26,239.33 172.72,252.98 \" fill=\"none\" id=\"E9&lt;-E10\" style=\"stroke: #383838; stroke-width: 1.0;\"/><polygon fill=\"#FFFFFF\" points=\"188.27,193.06,182.8943,197.8665,185.2635,204.6773,190.6392,199.8708,188.27,193.06\" style=\"stroke: #383838; stroke-width: 1.0;\"/><text fill=\"#000000\" font-family=\"sans-serif\" font-size=\"13\" lengthAdjust=\"spacingAndGlyphs\" textLength=\"8\" x=\"165.1823\" y=\"241.8709\">1</text></a><!--MD5=[0f36bececdf0dff6e600d6f64214b0f1]\n",
       "link E10 to E2--><a href=\"psysml:1b1dbb40-b684-43d5-9e90-095d8f580599\" target=\"_top\" title=\"psysml:1b1dbb40-b684-43d5-9e90-095d8f580599\" xlink:actuate=\"onRequest\" xlink:href=\"psysml:1b1dbb40-b684-43d5-9e90-095d8f580599\" xlink:show=\"new\" xlink:title=\"psysml:1b1dbb40-b684-43d5-9e90-095d8f580599\" xlink:type=\"simple\"><path d=\"M186.3,299.06 C197.64,312.02 212.28,328.74 225.36,343.7 \" fill=\"none\" id=\"E10-&gt;E2\" style=\"stroke: #383838; stroke-width: 1.0;\"/><polygon fill=\"#FFFFFF\" points=\"238.73,358.98,220.9517,349.2882,231.489,340.0705,238.73,358.98\" style=\"stroke: #383838; stroke-width: 1.0;\"/><ellipse cx=\"218.7041\" cy=\"343.6812\" fill=\"#383838\" rx=\"2\" ry=\"2\" style=\"stroke: #383838; stroke-width: 1.0;\"/><ellipse cx=\"226.2308\" cy=\"337.0972\" fill=\"#383838\" rx=\"2\" ry=\"2\" style=\"stroke: #383838; stroke-width: 1.0;\"/></a><!--MD5=[1fc04a95fd77ad5ce46c1a3027516051]\n",
       "reverse link E9 to E11--><a href=\"psysml:26e0bda0-b5f1-463e-8de4-6289f85dc961\" target=\"_top\" title=\"psysml:26e0bda0-b5f1-463e-8de4-6289f85dc961\" xlink:actuate=\"onRequest\" xlink:href=\"psysml:26e0bda0-b5f1-463e-8de4-6289f85dc961\" xlink:show=\"new\" xlink:title=\"psysml:26e0bda0-b5f1-463e-8de4-6289f85dc961\" xlink:type=\"simple\"><path d=\"M211.75,204.56 C220.14,220.42 229.92,238.92 237.35,252.98 \" fill=\"none\" id=\"E9&lt;-E11\" style=\"stroke: #383838; stroke-width: 1.0;\"/><polygon fill=\"#FFFFFF\" points=\"205.66,193.06,204.9277,200.2338,211.268,203.669,212.0003,196.4952,205.66,193.06\" style=\"stroke: #383838; stroke-width: 1.0;\"/><text fill=\"#000000\" font-family=\"sans-serif\" font-size=\"13\" lengthAdjust=\"spacingAndGlyphs\" textLength=\"8\" x=\"225.1441\" y=\"241.8709\">1</text></a><!--MD5=[062ed86c389d1a88f61c6380d0491e17]\n",
       "reverse link E12 to E13--><a href=\"psysml:b5605e58-b315-4dd3-8e84-581a703b4e2b\" target=\"_top\" title=\"psysml:b5605e58-b315-4dd3-8e84-581a703b4e2b\" xlink:actuate=\"onRequest\" xlink:href=\"psysml:b5605e58-b315-4dd3-8e84-581a703b4e2b\" xlink:show=\"new\" xlink:title=\"psysml:b5605e58-b315-4dd3-8e84-581a703b4e2b\" xlink:type=\"simple\"><path d=\"M80,100.44 C80,115.87 80,133.47 80,146.98 \" fill=\"none\" id=\"E12&lt;-E13\" style=\"stroke: #383838; stroke-width: 1.0;\"/><polygon fill=\"#383838\" points=\"80,87.06,76,93.06,80,99.06,84,93.06,80,87.06\" style=\"stroke: #383838; stroke-width: 1.0;\"/><text fill=\"#000000\" font-family=\"sans-serif\" font-size=\"13\" lengthAdjust=\"spacingAndGlyphs\" textLength=\"8\" x=\"70.925\" y=\"135.8709\">1</text></a><!--MD5=[01db00f33b28669d6d9febea71002831]\n",
       "reverse link E13 to E14--><a href=\"psysml:db42b499-220f-4c1a-8731-eb36b8c82e1e\" target=\"_top\" title=\"psysml:db42b499-220f-4c1a-8731-eb36b8c82e1e\" xlink:actuate=\"onRequest\" xlink:href=\"psysml:db42b499-220f-4c1a-8731-eb36b8c82e1e\" xlink:show=\"new\" xlink:title=\"psysml:db42b499-220f-4c1a-8731-eb36b8c82e1e\" xlink:type=\"simple\"><path d=\"M83.41,206.44 C84.89,221.87 86.58,239.47 87.88,252.98 \" fill=\"none\" id=\"E13&lt;-E14\" style=\"stroke: #383838; stroke-width: 1.0;\"/><polygon fill=\"#FFFFFF\" points=\"82.12,193.06,78.7125,199.4152,83.2683,205.0049,86.6758,198.6497,82.12,193.06\" style=\"stroke: #383838; stroke-width: 1.0;\"/><text fill=\"#000000\" font-family=\"sans-serif\" font-size=\"13\" lengthAdjust=\"spacingAndGlyphs\" textLength=\"8\" x=\"78.2353\" y=\"241.8709\">1</text></a><!--MD5=[e5566ac99d7714697a7fbc17f6b550fe]\n",
       "link E14 to E2--><a href=\"psysml:7155c58b-23e7-41d9-a472-3863cff0084f\" target=\"_top\" title=\"psysml:7155c58b-23e7-41d9-a472-3863cff0084f\" xlink:actuate=\"onRequest\" xlink:href=\"psysml:7155c58b-23e7-41d9-a472-3863cff0084f\" xlink:show=\"new\" xlink:title=\"psysml:7155c58b-23e7-41d9-a472-3863cff0084f\" xlink:type=\"simple\"><path d=\"M111.28,290.17 C134.86,304.77 173.76,328.85 205.58,348.55 \" fill=\"none\" id=\"E14-&gt;E2\" style=\"stroke: #383838; stroke-width: 1.0;\"/><polygon fill=\"#FFFFFF\" points=\"222.86,359.25,203.0213,355.1971,210.3927,343.2949,222.86,359.25\" style=\"stroke: #383838; stroke-width: 1.0;\"/><ellipse cx=\"199.2284\" cy=\"350.4956\" fill=\"#383838\" rx=\"2\" ry=\"2\" style=\"stroke: #383838; stroke-width: 1.0;\"/><ellipse cx=\"204.4937\" cy=\"341.994\" fill=\"#383838\" rx=\"2\" ry=\"2\" style=\"stroke: #383838; stroke-width: 1.0;\"/></a><!--MD5=[e9a5e828c71fd2209a11a152f562d491]\n",
       "reverse link E13 to E15--><a href=\"psysml:2699a371-802b-44a3-9d88-da30e2130afc\" target=\"_top\" title=\"psysml:2699a371-802b-44a3-9d88-da30e2130afc\" xlink:actuate=\"onRequest\" xlink:href=\"psysml:2699a371-802b-44a3-9d88-da30e2130afc\" xlink:show=\"new\" xlink:title=\"psysml:2699a371-802b-44a3-9d88-da30e2130afc\" xlink:type=\"simple\"><path d=\"M64.33,205.31 C54.54,231.09 45,267.26 52,299 C56.73,320.45 67.65,342.96 76.58,358.96 \" fill=\"none\" id=\"E13&lt;-E15\" style=\"stroke: #383838; stroke-width: 1.0;\"/><polygon fill=\"#FFFFFF\" points=\"69.24,193.2,63.2795,197.2586,64.7334,204.3216,70.6939,200.263,69.24,193.2\" style=\"stroke: #383838; stroke-width: 1.0;\"/><text fill=\"#000000\" font-family=\"sans-serif\" font-size=\"13\" lengthAdjust=\"spacingAndGlyphs\" textLength=\"8\" x=\"63.8984\" y=\"347.8455\">1</text></a><!--MD5=[3afbdc645381407e1bc99677323a2513]\n",
       "link E14 to E15--><a href=\"psysml:1d4c99f1-723b-47e9-b0a9-a2cf4f06711c\" target=\"_top\" title=\"psysml:1d4c99f1-723b-47e9-b0a9-a2cf4f06711c\" xlink:actuate=\"onRequest\" xlink:href=\"psysml:1d4c99f1-723b-47e9-b0a9-a2cf4f06711c\" xlink:show=\"new\" xlink:title=\"psysml:1d4c99f1-723b-47e9-b0a9-a2cf4f06711c\" xlink:type=\"simple\"><path d=\"M79.35,299.06 C76.55,316.7 76.55,341.34 79.36,358.98 \" fill=\"none\" id=\"E14-E15\" style=\"stroke: #383838; stroke-width: 3.0;\"/></a><!--MD5=[3afbdc645381407e1bc99677323a2513]\n",
       "link E14 to E15--><a href=\"psysml:99ef5f64-108a-4414-ad16-a52f47db38b7\" target=\"_top\" title=\"psysml:99ef5f64-108a-4414-ad16-a52f47db38b7\" xlink:actuate=\"onRequest\" xlink:href=\"psysml:99ef5f64-108a-4414-ad16-a52f47db38b7\" xlink:show=\"new\" xlink:title=\"psysml:99ef5f64-108a-4414-ad16-a52f47db38b7\" xlink:type=\"simple\"><path d=\"M101.27,299.06 C104.24,316.7 104.24,341.34 101.27,358.98 \" fill=\"none\" id=\"E14-E15-1\" style=\"stroke: #383838; stroke-width: 3.0;\"/></a><!--MD5=[aabd830f9ed536145f649983b2e4ecb7]\n",
       "@startuml\r\n",
       "top to bottom direction\r\n",
       "skinparam monochrome true\r\n",
       "skinparam classbackgroundcolor white\r\n",
       "skinparam shadowing false\r\n",
       "skinparam wrapWidth 300\r\n",
       "hide circle\r\n",
       "\r\n",
       "package \"ConjugationTest\" as E1  [[psysml:62f2acf4-862e-4777-8380-6adbdab8aa3b ]]  {\r\n",
       "comp def \"P\" as E2  <<(T,blue) port  def>> [[psysml:8038ba5e-65f3-4a7c-a5d9-05577a1e913e ]] {\r\n",
       "}\r\n",
       "comp def \"B\" as E3  <<(T,blue) part  def>> [[psysml:eb00d253-98ff-4ea5-9d4b-40f483d849ec ]] {\r\n",
       "}\r\n",
       "comp usage \"p1: P \" as E4  <<(T,blue) port>> [[psysml:bd11b2df-eb92-4507-bbbb-c6493b57fcfa ]] {\r\n",
       "}\r\n",
       "comp usage \"p2: ~P \" as E5  <<(T,blue) port>> [[psysml:0cbe2724-4b46-4325-902f-a8a483156696 ]] {\r\n",
       "}\r\n",
       "comp def \"A\" as E6  <<(T,blue) connection  def>> [[psysml:c9adf55d-1d58-41e7-9c8f-305f1a380a4f ]] {\r\n",
       "}\r\n",
       "comp usage \"p1: P \" as E7  <<(T,blue) port>> [[psysml:62009ff7-c341-4e72-a056-ce92de09505b ]] {\r\n",
       "}\r\n",
       "comp usage \"p2: ~P \" as E8  <<(T,blue) port>> [[psysml:50db7d15-a467-4fc6-8fb9-d943e9708b48 ]] {\r\n",
       "}\r\n",
       "comp def \"I\" as E9  <<(T,blue) interface  def>> [[psysml:909b1fdd-cad7-4fe7-8f0f-a5ae3fa3dd03 ]] {\r\n",
       "}\r\n",
       "comp usage \"p1: P \" as E10  <<(T,blue) port>> [[psysml:4b05cf72-e027-47da-9c90-b867da4c93e0 ]] {\r\n",
       "}\r\n",
       "comp usage \"p2: ~P \" as E11  <<(T,blue) port>> [[psysml:0c24ab80-75a0-44e9-976a-962e4e9af685 ]] {\r\n",
       "}\r\n",
       "comp def \"B1\" as E12  <<(T,blue) part  def>> [[psysml:c2ec72d4-85fe-4c8d-a549-b327df7a4c85 ]] {\r\n",
       "}\r\n",
       "comp usage \"p \" as E13  <<(T,blue) part>> [[psysml:bf56b714-b103-43c5-844a-64ae22bea297 ]] {\r\n",
       "}\r\n",
       "comp usage \"p1: P \" as E14  <<(T,blue) port>> [[psysml:b5c2279c-6642-492b-a6cf-19efab06e689 ]] {\r\n",
       "}\r\n",
       "comp usage \"p2: ~P \" as E15  <<(T,blue) port>> [[psysml:ed6b3600-9f65-4ffd-a058-1200daf10699 ]] {\r\n",
       "}\r\n",
       "}\r\n",
       "E3 o- - \"1\"E4 [[psysml:301fc48c-20ce-4bfe-ac1d-96f5db6094d0 ]] \r\n",
       "E4 - -:|> E2 [[psysml:2658e44c-8270-4dd2-9600-daf649b69d41 ]] \r\n",
       "E3 o- - \"1\"E5 [[psysml:223fd842-0df9-4bd0-ad12-80c4696f3c55 ]] \r\n",
       "E6 o- - \"1\"E7 [[psysml:21746d6a-6182-4390-ad27-ac5c9b62bfbf ]] \r\n",
       "E7 - -:|> E2 [[psysml:ac292376-6896-4173-b580-fb46e7ca2b11 ]] \r\n",
       "E6 o- - \"1\"E8 [[psysml:0a911d69-2e8c-46c6-ac57-f08740e1c2a7 ]] \r\n",
       "E9 o- - \"1\"E10 [[psysml:7a6ef9a5-ee54-4bad-bee0-b6cd150b3ba6 ]] \r\n",
       "E10 - -:|> E2 [[psysml:1b1dbb40-b684-43d5-9e90-095d8f580599 ]] \r\n",
       "E9 o- - \"1\"E11 [[psysml:26e0bda0-b5f1-463e-8de4-6289f85dc961 ]] \r\n",
       "E12 *- - \"1\"E13 [[psysml:b5605e58-b315-4dd3-8e84-581a703b4e2b ]] \r\n",
       "E13 o- - \"1\"E14 [[psysml:db42b499-220f-4c1a-8731-eb36b8c82e1e ]] \r\n",
       "E14 - -:|> E2 [[psysml:7155c58b-23e7-41d9-a472-3863cff0084f ]] \r\n",
       "E13 o- - \"1\"E15 [[psysml:2699a371-802b-44a3-9d88-da30e2130afc ]] \r\n",
       "E14 -[thickness=3]- E15 [[psysml:1d4c99f1-723b-47e9-b0a9-a2cf4f06711c ]] \r\n",
       "E14 -[thickness=3]- E15 [[psysml:99ef5f64-108a-4414-ad16-a52f47db38b7 ]] \r\n",
       "@enduml\r\n",
       "\n",
       "PlantUML version 1.2020.13(Sat Jun 13 12:26:38 UTC 2020)\n",
       "(EPL source distribution)\n",
       "Java Runtime: OpenJDK Runtime Environment\n",
       "JVM: OpenJDK 64-Bit Server VM\n",
       "Default Encoding: UTF-8\n",
       "Language: en\n",
       "Country: null\n",
       "--></g></svg>"
      ]
     },
     "execution_count": 50,
     "metadata": {},
     "output_type": "execute_result"
    }
   ],
   "source": [
    "%viz --style=\"TB\" --view=\"MIXED\" \"ConjugationTest\""
   ]
  },
  {
   "cell_type": "code",
   "execution_count": 51,
   "id": "b1fbbf6b",
   "metadata": {
    "execution": {
     "iopub.execute_input": "2022-02-18T10:47:48.224319Z",
     "iopub.status.busy": "2022-02-18T10:47:48.223900Z",
     "iopub.status.idle": "2022-02-18T10:47:48.268753Z",
     "shell.execute_reply": "2022-02-18T10:47:48.267183Z"
    }
   },
   "outputs": [
    {
     "data": {
      "image/svg+xml": [
       "<?xml version=\"1.0\" encoding=\"UTF-8\" standalone=\"no\"?><svg xmlns=\"http://www.w3.org/2000/svg\" xmlns:xlink=\"http://www.w3.org/1999/xlink\" contentScriptType=\"application/ecmascript\" contentStyleType=\"text/css\" height=\"433px\" preserveAspectRatio=\"none\" style=\"width:641px;height:433px;\" version=\"1.1\" viewBox=\"0 0 641 433\" width=\"641px\" zoomAndPan=\"magnify\"><defs/><g><!--MD5=[fbc87193dbaf4d95561dea2c320d4a47]\n",
       "cluster E1--><a href=\"psysml:62f2acf4-862e-4777-8380-6adbdab8aa3b\" target=\"_top\" title=\"psysml:62f2acf4-862e-4777-8380-6adbdab8aa3b\" xlink:actuate=\"onRequest\" xlink:href=\"psysml:62f2acf4-862e-4777-8380-6adbdab8aa3b\" xlink:show=\"new\" xlink:title=\"psysml:62f2acf4-862e-4777-8380-6adbdab8aa3b\" xlink:type=\"simple\"><polygon fill=\"#FFFFFF\" points=\"16,6,136,6,143,28.2969,619,28.2969,619,421,16,421,16,6\" style=\"stroke: #000000; stroke-width: 1.5;\"/><line style=\"stroke: #000000; stroke-width: 1.5;\" x1=\"16\" x2=\"143\" y1=\"28.2969\" y2=\"28.2969\"/><text fill=\"#000000\" font-family=\"sans-serif\" font-size=\"14\" font-weight=\"bold\" lengthAdjust=\"spacingAndGlyphs\" textLength=\"114\" x=\"20\" y=\"20.9951\">ConjugationTest</text></a><!--MD5=[b4997ac47864f28c2f74865a473b2911]\n",
       "class E2--><a href=\"psysml:8038ba5e-65f3-4a7c-a5d9-05577a1e913e\" target=\"_top\" title=\"psysml:8038ba5e-65f3-4a7c-a5d9-05577a1e913e\" xlink:actuate=\"onRequest\" xlink:href=\"psysml:8038ba5e-65f3-4a7c-a5d9-05577a1e913e\" xlink:show=\"new\" xlink:title=\"psysml:8038ba5e-65f3-4a7c-a5d9-05577a1e913e\" xlink:type=\"simple\"><rect fill=\"#FFFFFF\" height=\"45.9375\" id=\"E2\" style=\"stroke: #383838; stroke-width: 1.5;\" width=\"70\" x=\"223\" y=\"359\"/><text fill=\"#000000\" font-family=\"sans-serif\" font-size=\"12\" font-style=\"italic\" lengthAdjust=\"spacingAndGlyphs\" textLength=\"68\" x=\"224\" y=\"375.1387\">«port  def»</text><text fill=\"#000000\" font-family=\"sans-serif\" font-size=\"12\" lengthAdjust=\"spacingAndGlyphs\" textLength=\"8\" x=\"254\" y=\"389.1074\">P</text><line style=\"stroke: #383838; stroke-width: 1.5;\" x1=\"224\" x2=\"292\" y1=\"396.9375\" y2=\"396.9375\"/></a><!--MD5=[09b614a08d8cba4a07c9adeb5e0fee81]\n",
       "class E3--><a href=\"psysml:eb00d253-98ff-4ea5-9d4b-40f483d849ec\" target=\"_top\" title=\"psysml:eb00d253-98ff-4ea5-9d4b-40f483d849ec\" xlink:actuate=\"onRequest\" xlink:href=\"psysml:eb00d253-98ff-4ea5-9d4b-40f483d849ec\" xlink:show=\"new\" xlink:title=\"psysml:eb00d253-98ff-4ea5-9d4b-40f483d849ec\" xlink:type=\"simple\"><rect fill=\"#FFFFFF\" height=\"45.9375\" id=\"E3\" style=\"stroke: #383838; stroke-width: 1.5;\" width=\"70\" x=\"496\" y=\"147\"/><text fill=\"#000000\" font-family=\"sans-serif\" font-size=\"12\" font-style=\"italic\" lengthAdjust=\"spacingAndGlyphs\" textLength=\"68\" x=\"497\" y=\"163.1387\">«part  def»</text><text fill=\"#000000\" font-family=\"sans-serif\" font-size=\"12\" lengthAdjust=\"spacingAndGlyphs\" textLength=\"8\" x=\"527\" y=\"177.1074\">B</text><line style=\"stroke: #383838; stroke-width: 1.5;\" x1=\"497\" x2=\"565\" y1=\"184.9375\" y2=\"184.9375\"/></a><!--MD5=[ebbe1d658d1005bcc118a6aa81145e00]\n",
       "class E4--><a href=\"psysml:bd11b2df-eb92-4507-bbbb-c6493b57fcfa\" target=\"_top\" title=\"psysml:bd11b2df-eb92-4507-bbbb-c6493b57fcfa\" xlink:actuate=\"onRequest\" xlink:href=\"psysml:bd11b2df-eb92-4507-bbbb-c6493b57fcfa\" xlink:show=\"new\" xlink:title=\"psysml:bd11b2df-eb92-4507-bbbb-c6493b57fcfa\" xlink:type=\"simple\"><rect fill=\"#FFFFFF\" height=\"45.9375\" id=\"E4\" rx=\"10\" ry=\"10\" style=\"stroke: #383838; stroke-width: 1.5;\" width=\"42\" x=\"474\" y=\"253\"/><text fill=\"#000000\" font-family=\"sans-serif\" font-size=\"12\" font-style=\"italic\" lengthAdjust=\"spacingAndGlyphs\" textLength=\"40\" x=\"475\" y=\"269.1387\">«port»</text><text fill=\"#000000\" font-family=\"sans-serif\" font-size=\"12\" lengthAdjust=\"spacingAndGlyphs\" textLength=\"32\" x=\"477\" y=\"283.1074\">p1: P</text><line style=\"stroke: #383838; stroke-width: 1.5;\" x1=\"475\" x2=\"515\" y1=\"290.9375\" y2=\"290.9375\"/></a><!--MD5=[270fce915f116d4de14055a7c1d9a0f3]\n",
       "class E5--><a href=\"psysml:0cbe2724-4b46-4325-902f-a8a483156696\" target=\"_top\" title=\"psysml:0cbe2724-4b46-4325-902f-a8a483156696\" xlink:actuate=\"onRequest\" xlink:href=\"psysml:0cbe2724-4b46-4325-902f-a8a483156696\" xlink:show=\"new\" xlink:title=\"psysml:0cbe2724-4b46-4325-902f-a8a483156696\" xlink:type=\"simple\"><rect fill=\"#FFFFFF\" height=\"45.9375\" id=\"E5\" rx=\"10\" ry=\"10\" style=\"stroke: #383838; stroke-width: 1.5;\" width=\"52\" x=\"551\" y=\"253\"/><text fill=\"#000000\" font-family=\"sans-serif\" font-size=\"12\" font-style=\"italic\" lengthAdjust=\"spacingAndGlyphs\" textLength=\"40\" x=\"557\" y=\"269.1387\">«port»</text><text fill=\"#000000\" font-family=\"sans-serif\" font-size=\"12\" lengthAdjust=\"spacingAndGlyphs\" textLength=\"42\" x=\"554\" y=\"283.1074\">p2: ~P</text><line style=\"stroke: #383838; stroke-width: 1.5;\" x1=\"552\" x2=\"602\" y1=\"290.9375\" y2=\"290.9375\"/></a><!--MD5=[60a26617385b1d2d0262a64233df1f8d]\n",
       "class E6--><a href=\"psysml:c9adf55d-1d58-41e7-9c8f-305f1a380a4f\" target=\"_top\" title=\"psysml:c9adf55d-1d58-41e7-9c8f-305f1a380a4f\" xlink:actuate=\"onRequest\" xlink:href=\"psysml:c9adf55d-1d58-41e7-9c8f-305f1a380a4f\" xlink:show=\"new\" xlink:title=\"psysml:c9adf55d-1d58-41e7-9c8f-305f1a380a4f\" xlink:type=\"simple\"><rect fill=\"#FFFFFF\" height=\"45.9375\" id=\"E6\" style=\"stroke: #383838; stroke-width: 1.5;\" width=\"114\" x=\"283\" y=\"147\"/><text fill=\"#000000\" font-family=\"sans-serif\" font-size=\"12\" font-style=\"italic\" lengthAdjust=\"spacingAndGlyphs\" textLength=\"112\" x=\"284\" y=\"163.1387\">«connection  def»</text><text fill=\"#000000\" font-family=\"sans-serif\" font-size=\"12\" lengthAdjust=\"spacingAndGlyphs\" textLength=\"8\" x=\"336\" y=\"177.1074\">A</text><line style=\"stroke: #383838; stroke-width: 1.5;\" x1=\"284\" x2=\"396\" y1=\"184.9375\" y2=\"184.9375\"/></a><!--MD5=[2156ba9850f5573cc1fc38a6a4b2f02b]\n",
       "class E7--><a href=\"psysml:62009ff7-c341-4e72-a056-ce92de09505b\" target=\"_top\" title=\"psysml:62009ff7-c341-4e72-a056-ce92de09505b\" xlink:actuate=\"onRequest\" xlink:href=\"psysml:62009ff7-c341-4e72-a056-ce92de09505b\" xlink:show=\"new\" xlink:title=\"psysml:62009ff7-c341-4e72-a056-ce92de09505b\" xlink:type=\"simple\"><rect fill=\"#FFFFFF\" height=\"45.9375\" id=\"E7\" rx=\"10\" ry=\"10\" style=\"stroke: #383838; stroke-width: 1.5;\" width=\"42\" x=\"310\" y=\"253\"/><text fill=\"#000000\" font-family=\"sans-serif\" font-size=\"12\" font-style=\"italic\" lengthAdjust=\"spacingAndGlyphs\" textLength=\"40\" x=\"311\" y=\"269.1387\">«port»</text><text fill=\"#000000\" font-family=\"sans-serif\" font-size=\"12\" lengthAdjust=\"spacingAndGlyphs\" textLength=\"32\" x=\"313\" y=\"283.1074\">p1: P</text><line style=\"stroke: #383838; stroke-width: 1.5;\" x1=\"311\" x2=\"351\" y1=\"290.9375\" y2=\"290.9375\"/></a><!--MD5=[b9389687b975829384b498ac4b7476b2]\n",
       "class E8--><a href=\"psysml:50db7d15-a467-4fc6-8fb9-d943e9708b48\" target=\"_top\" title=\"psysml:50db7d15-a467-4fc6-8fb9-d943e9708b48\" xlink:actuate=\"onRequest\" xlink:href=\"psysml:50db7d15-a467-4fc6-8fb9-d943e9708b48\" xlink:show=\"new\" xlink:title=\"psysml:50db7d15-a467-4fc6-8fb9-d943e9708b48\" xlink:type=\"simple\"><rect fill=\"#FFFFFF\" height=\"45.9375\" id=\"E8\" rx=\"10\" ry=\"10\" style=\"stroke: #383838; stroke-width: 1.5;\" width=\"52\" x=\"387\" y=\"253\"/><text fill=\"#000000\" font-family=\"sans-serif\" font-size=\"12\" font-style=\"italic\" lengthAdjust=\"spacingAndGlyphs\" textLength=\"40\" x=\"393\" y=\"269.1387\">«port»</text><text fill=\"#000000\" font-family=\"sans-serif\" font-size=\"12\" lengthAdjust=\"spacingAndGlyphs\" textLength=\"42\" x=\"390\" y=\"283.1074\">p2: ~P</text><line style=\"stroke: #383838; stroke-width: 1.5;\" x1=\"388\" x2=\"438\" y1=\"290.9375\" y2=\"290.9375\"/></a><!--MD5=[fd4143e9d270a159db93a4ea2a975926]\n",
       "class E9--><a href=\"psysml:909b1fdd-cad7-4fe7-8f0f-a5ae3fa3dd03\" target=\"_top\" title=\"psysml:909b1fdd-cad7-4fe7-8f0f-a5ae3fa3dd03\" xlink:actuate=\"onRequest\" xlink:href=\"psysml:909b1fdd-cad7-4fe7-8f0f-a5ae3fa3dd03\" xlink:show=\"new\" xlink:title=\"psysml:909b1fdd-cad7-4fe7-8f0f-a5ae3fa3dd03\" xlink:type=\"simple\"><rect fill=\"#FFFFFF\" height=\"45.9375\" id=\"E9\" style=\"stroke: #383838; stroke-width: 1.5;\" width=\"100\" x=\"144\" y=\"147\"/><text fill=\"#000000\" font-family=\"sans-serif\" font-size=\"12\" font-style=\"italic\" lengthAdjust=\"spacingAndGlyphs\" textLength=\"98\" x=\"145\" y=\"163.1387\">«interface  def»</text><text fill=\"#000000\" font-family=\"sans-serif\" font-size=\"12\" lengthAdjust=\"spacingAndGlyphs\" textLength=\"3\" x=\"192.5\" y=\"177.1074\">I</text><line style=\"stroke: #383838; stroke-width: 1.5;\" x1=\"145\" x2=\"243\" y1=\"184.9375\" y2=\"184.9375\"/></a><!--MD5=[96f4274e9e20536e775497830990834d]\n",
       "class E10--><a href=\"psysml:4b05cf72-e027-47da-9c90-b867da4c93e0\" target=\"_top\" title=\"psysml:4b05cf72-e027-47da-9c90-b867da4c93e0\" xlink:actuate=\"onRequest\" xlink:href=\"psysml:4b05cf72-e027-47da-9c90-b867da4c93e0\" xlink:show=\"new\" xlink:title=\"psysml:4b05cf72-e027-47da-9c90-b867da4c93e0\" xlink:type=\"simple\"><rect fill=\"#FFFFFF\" height=\"45.9375\" id=\"E10\" rx=\"10\" ry=\"10\" style=\"stroke: #383838; stroke-width: 1.5;\" width=\"42\" x=\"146\" y=\"253\"/><text fill=\"#000000\" font-family=\"sans-serif\" font-size=\"12\" font-style=\"italic\" lengthAdjust=\"spacingAndGlyphs\" textLength=\"40\" x=\"147\" y=\"269.1387\">«port»</text><text fill=\"#000000\" font-family=\"sans-serif\" font-size=\"12\" lengthAdjust=\"spacingAndGlyphs\" textLength=\"32\" x=\"149\" y=\"283.1074\">p1: P</text><line style=\"stroke: #383838; stroke-width: 1.5;\" x1=\"147\" x2=\"187\" y1=\"290.9375\" y2=\"290.9375\"/></a><!--MD5=[1dd1bfd58a279cf63c5f349dbc8fc6a1]\n",
       "class E11--><a href=\"psysml:0c24ab80-75a0-44e9-976a-962e4e9af685\" target=\"_top\" title=\"psysml:0c24ab80-75a0-44e9-976a-962e4e9af685\" xlink:actuate=\"onRequest\" xlink:href=\"psysml:0c24ab80-75a0-44e9-976a-962e4e9af685\" xlink:show=\"new\" xlink:title=\"psysml:0c24ab80-75a0-44e9-976a-962e4e9af685\" xlink:type=\"simple\"><rect fill=\"#FFFFFF\" height=\"45.9375\" id=\"E11\" rx=\"10\" ry=\"10\" style=\"stroke: #383838; stroke-width: 1.5;\" width=\"52\" x=\"223\" y=\"253\"/><text fill=\"#000000\" font-family=\"sans-serif\" font-size=\"12\" font-style=\"italic\" lengthAdjust=\"spacingAndGlyphs\" textLength=\"40\" x=\"229\" y=\"269.1387\">«port»</text><text fill=\"#000000\" font-family=\"sans-serif\" font-size=\"12\" lengthAdjust=\"spacingAndGlyphs\" textLength=\"42\" x=\"226\" y=\"283.1074\">p2: ~P</text><line style=\"stroke: #383838; stroke-width: 1.5;\" x1=\"224\" x2=\"274\" y1=\"290.9375\" y2=\"290.9375\"/></a><!--MD5=[49a0ec8f00dab7302a31f22d0f0fe584]\n",
       "class E12--><a href=\"psysml:c2ec72d4-85fe-4c8d-a549-b327df7a4c85\" target=\"_top\" title=\"psysml:c2ec72d4-85fe-4c8d-a549-b327df7a4c85\" xlink:actuate=\"onRequest\" xlink:href=\"psysml:c2ec72d4-85fe-4c8d-a549-b327df7a4c85\" xlink:show=\"new\" xlink:title=\"psysml:c2ec72d4-85fe-4c8d-a549-b327df7a4c85\" xlink:type=\"simple\"><rect fill=\"#FFFFFF\" height=\"45.9375\" id=\"E12\" style=\"stroke: #383838; stroke-width: 1.5;\" width=\"70\" x=\"45\" y=\"41\"/><text fill=\"#000000\" font-family=\"sans-serif\" font-size=\"12\" font-style=\"italic\" lengthAdjust=\"spacingAndGlyphs\" textLength=\"68\" x=\"46\" y=\"57.1387\">«part  def»</text><text fill=\"#000000\" font-family=\"sans-serif\" font-size=\"12\" lengthAdjust=\"spacingAndGlyphs\" textLength=\"16\" x=\"72\" y=\"71.1074\">B1</text><line style=\"stroke: #383838; stroke-width: 1.5;\" x1=\"46\" x2=\"114\" y1=\"78.9375\" y2=\"78.9375\"/></a><!--MD5=[ee3c913d1a06f366521f9ef512b67efe]\n",
       "class E13--><a href=\"psysml:bf56b714-b103-43c5-844a-64ae22bea297\" target=\"_top\" title=\"psysml:bf56b714-b103-43c5-844a-64ae22bea297\" xlink:actuate=\"onRequest\" xlink:href=\"psysml:bf56b714-b103-43c5-844a-64ae22bea297\" xlink:show=\"new\" xlink:title=\"psysml:bf56b714-b103-43c5-844a-64ae22bea297\" xlink:type=\"simple\"><rect fill=\"#FFFFFF\" height=\"45.9375\" id=\"E13\" rx=\"10\" ry=\"10\" style=\"stroke: #383838; stroke-width: 1.5;\" width=\"42\" x=\"59\" y=\"147\"/><text fill=\"#000000\" font-family=\"sans-serif\" font-size=\"12\" font-style=\"italic\" lengthAdjust=\"spacingAndGlyphs\" textLength=\"40\" x=\"60\" y=\"163.1387\">«part»</text><text fill=\"#000000\" font-family=\"sans-serif\" font-size=\"12\" lengthAdjust=\"spacingAndGlyphs\" textLength=\"8\" x=\"74\" y=\"177.1074\">p</text><line style=\"stroke: #383838; stroke-width: 1.5;\" x1=\"60\" x2=\"100\" y1=\"184.9375\" y2=\"184.9375\"/></a><!--MD5=[bee11217b2f71d958a27249dc326068c]\n",
       "class E14--><a href=\"psysml:b5c2279c-6642-492b-a6cf-19efab06e689\" target=\"_top\" title=\"psysml:b5c2279c-6642-492b-a6cf-19efab06e689\" xlink:actuate=\"onRequest\" xlink:href=\"psysml:b5c2279c-6642-492b-a6cf-19efab06e689\" xlink:show=\"new\" xlink:title=\"psysml:b5c2279c-6642-492b-a6cf-19efab06e689\" xlink:type=\"simple\"><rect fill=\"#FFFFFF\" height=\"45.9375\" id=\"E14\" rx=\"10\" ry=\"10\" style=\"stroke: #383838; stroke-width: 1.5;\" width=\"42\" x=\"69\" y=\"253\"/><text fill=\"#000000\" font-family=\"sans-serif\" font-size=\"12\" font-style=\"italic\" lengthAdjust=\"spacingAndGlyphs\" textLength=\"40\" x=\"70\" y=\"269.1387\">«port»</text><text fill=\"#000000\" font-family=\"sans-serif\" font-size=\"12\" lengthAdjust=\"spacingAndGlyphs\" textLength=\"32\" x=\"72\" y=\"283.1074\">p1: P</text><line style=\"stroke: #383838; stroke-width: 1.5;\" x1=\"70\" x2=\"110\" y1=\"290.9375\" y2=\"290.9375\"/></a><!--MD5=[0c48fb7552dae8cbbef69381101a84c8]\n",
       "class E15--><a href=\"psysml:ed6b3600-9f65-4ffd-a058-1200daf10699\" target=\"_top\" title=\"psysml:ed6b3600-9f65-4ffd-a058-1200daf10699\" xlink:actuate=\"onRequest\" xlink:href=\"psysml:ed6b3600-9f65-4ffd-a058-1200daf10699\" xlink:show=\"new\" xlink:title=\"psysml:ed6b3600-9f65-4ffd-a058-1200daf10699\" xlink:type=\"simple\"><rect fill=\"#FFFFFF\" height=\"45.9375\" id=\"E15\" rx=\"10\" ry=\"10\" style=\"stroke: #383838; stroke-width: 1.5;\" width=\"52\" x=\"64\" y=\"359\"/><text fill=\"#000000\" font-family=\"sans-serif\" font-size=\"12\" font-style=\"italic\" lengthAdjust=\"spacingAndGlyphs\" textLength=\"40\" x=\"70\" y=\"375.1387\">«port»</text><text fill=\"#000000\" font-family=\"sans-serif\" font-size=\"12\" lengthAdjust=\"spacingAndGlyphs\" textLength=\"42\" x=\"67\" y=\"389.1074\">p2: ~P</text><line style=\"stroke: #383838; stroke-width: 1.5;\" x1=\"65\" x2=\"115\" y1=\"396.9375\" y2=\"396.9375\"/></a><!--MD5=[4672eba38e49728da53d11aeb285b987]\n",
       "reverse link E3 to E4--><a href=\"psysml:301fc48c-20ce-4bfe-ac1d-96f5db6094d0\" target=\"_top\" title=\"psysml:301fc48c-20ce-4bfe-ac1d-96f5db6094d0\" xlink:actuate=\"onRequest\" xlink:href=\"psysml:301fc48c-20ce-4bfe-ac1d-96f5db6094d0\" xlink:show=\"new\" xlink:title=\"psysml:301fc48c-20ce-4bfe-ac1d-96f5db6094d0\" xlink:type=\"simple\"><path d=\"M506,206 C506,206 506,252.68 506,252.68 \" fill=\"none\" id=\"E3&lt;-E4\" style=\"stroke: #383838; stroke-width: 1.0;\"/><polygon fill=\"#FFFFFF\" points=\"506,193,502,199,506,205,510,199,506,193\" style=\"stroke: #383838; stroke-width: 1.0;\"/><text fill=\"#000000\" font-family=\"sans-serif\" font-size=\"13\" lengthAdjust=\"spacingAndGlyphs\" textLength=\"8\" x=\"499.7938\" y=\"241.8743\">1</text></a><!--MD5=[185131fc0dcab0a4505a2ebe144e961b]\n",
       "link E4 to E2--><a href=\"psysml:2658e44c-8270-4dd2-9600-daf649b69d41\" target=\"_top\" title=\"psysml:2658e44c-8270-4dd2-9600-daf649b69d41\" xlink:actuate=\"onRequest\" xlink:href=\"psysml:2658e44c-8270-4dd2-9600-daf649b69d41\" xlink:show=\"new\" xlink:title=\"psysml:2658e44c-8270-4dd2-9600-daf649b69d41\" xlink:type=\"simple\"><path d=\"M495,299 C495,330.18 495,382 495,382 C495,382 313.23,382 313.23,382 \" fill=\"none\" id=\"E4-&gt;E2\" style=\"stroke: #383838; stroke-width: 1.0;\"/><polygon fill=\"#FFFFFF\" points=\"293.23,382,312.23,375,312.23,389,293.23,382\" style=\"stroke: #383838; stroke-width: 1.0;\"/><ellipse cx=\"317.93\" cy=\"377\" fill=\"#383838\" rx=\"2\" ry=\"2\" style=\"stroke: #383838; stroke-width: 1.0;\"/><ellipse cx=\"317.93\" cy=\"387\" fill=\"#383838\" rx=\"2\" ry=\"2\" style=\"stroke: #383838; stroke-width: 1.0;\"/></a><!--MD5=[191cde3d490a3f6d7bb551fe3ddca469]\n",
       "reverse link E3 to E5--><a href=\"psysml:223fd842-0df9-4bd0-ad12-80c4696f3c55\" target=\"_top\" title=\"psysml:223fd842-0df9-4bd0-ad12-80c4696f3c55\" xlink:actuate=\"onRequest\" xlink:href=\"psysml:223fd842-0df9-4bd0-ad12-80c4696f3c55\" xlink:show=\"new\" xlink:title=\"psysml:223fd842-0df9-4bd0-ad12-80c4696f3c55\" xlink:type=\"simple\"><path d=\"M558.5,206 C558.5,206 558.5,252.68 558.5,252.68 \" fill=\"none\" id=\"E3&lt;-E5\" style=\"stroke: #383838; stroke-width: 1.0;\"/><polygon fill=\"#FFFFFF\" points=\"558.5,193,554.5,199,558.5,205,562.5,199,558.5,193\" style=\"stroke: #383838; stroke-width: 1.0;\"/><text fill=\"#000000\" font-family=\"sans-serif\" font-size=\"13\" lengthAdjust=\"spacingAndGlyphs\" textLength=\"8\" x=\"544.7344\" y=\"241.8743\">1</text></a><!--MD5=[3f50a3473f1dfb74d3f76443e03635af]\n",
       "reverse link E6 to E7--><a href=\"psysml:21746d6a-6182-4390-ad27-ac5c9b62bfbf\" target=\"_top\" title=\"psysml:21746d6a-6182-4390-ad27-ac5c9b62bfbf\" xlink:actuate=\"onRequest\" xlink:href=\"psysml:21746d6a-6182-4390-ad27-ac5c9b62bfbf\" xlink:show=\"new\" xlink:title=\"psysml:21746d6a-6182-4390-ad27-ac5c9b62bfbf\" xlink:type=\"simple\"><path d=\"M331,206 C331,206 331,252.68 331,252.68 \" fill=\"none\" id=\"E6&lt;-E7\" style=\"stroke: #383838; stroke-width: 1.0;\"/><polygon fill=\"#FFFFFF\" points=\"331,193,327,199,331,205,335,199,331,193\" style=\"stroke: #383838; stroke-width: 1.0;\"/><text fill=\"#000000\" font-family=\"sans-serif\" font-size=\"13\" lengthAdjust=\"spacingAndGlyphs\" textLength=\"8\" x=\"321.975\" y=\"241.8743\">1</text></a><!--MD5=[583832df87f4419a098336a29a52fa00]\n",
       "link E7 to E2--><a href=\"psysml:ac292376-6896-4173-b580-fb46e7ca2b11\" target=\"_top\" title=\"psysml:ac292376-6896-4173-b580-fb46e7ca2b11\" xlink:actuate=\"onRequest\" xlink:href=\"psysml:ac292376-6896-4173-b580-fb46e7ca2b11\" xlink:show=\"new\" xlink:title=\"psysml:ac292376-6896-4173-b580-fb46e7ca2b11\" xlink:type=\"simple\"><path d=\"M309.75,276 C298.92,276 288,276 288,276 C288,276 288,339 288,339 \" fill=\"none\" id=\"E7-&gt;E2\" style=\"stroke: #383838; stroke-width: 1.0;\"/><polygon fill=\"#FFFFFF\" points=\"288,359,281,340,295,340,288,359\" style=\"stroke: #383838; stroke-width: 1.0;\"/><ellipse cx=\"283\" cy=\"334.3\" fill=\"#383838\" rx=\"2\" ry=\"2\" style=\"stroke: #383838; stroke-width: 1.0;\"/><ellipse cx=\"293\" cy=\"334.3\" fill=\"#383838\" rx=\"2\" ry=\"2\" style=\"stroke: #383838; stroke-width: 1.0;\"/></a><!--MD5=[f4cf0736d43fd73c4ef68817c49d37d5]\n",
       "reverse link E6 to E8--><a href=\"psysml:0a911d69-2e8c-46c6-ac57-f08740e1c2a7\" target=\"_top\" title=\"psysml:0a911d69-2e8c-46c6-ac57-f08740e1c2a7\" xlink:actuate=\"onRequest\" xlink:href=\"psysml:0a911d69-2e8c-46c6-ac57-f08740e1c2a7\" xlink:show=\"new\" xlink:title=\"psysml:0a911d69-2e8c-46c6-ac57-f08740e1c2a7\" xlink:type=\"simple\"><path d=\"M392,206 C392,206 392,252.68 392,252.68 \" fill=\"none\" id=\"E6&lt;-E8\" style=\"stroke: #383838; stroke-width: 1.0;\"/><polygon fill=\"#FFFFFF\" points=\"392,193,388,199,392,205,396,199,392,193\" style=\"stroke: #383838; stroke-width: 1.0;\"/><text fill=\"#000000\" font-family=\"sans-serif\" font-size=\"13\" lengthAdjust=\"spacingAndGlyphs\" textLength=\"8\" x=\"377.5938\" y=\"241.8743\">1</text></a><!--MD5=[23ac544a70576c3e717098101004234c]\n",
       "reverse link E9 to E10--><a href=\"psysml:7a6ef9a5-ee54-4bad-bee0-b6cd150b3ba6\" target=\"_top\" title=\"psysml:7a6ef9a5-ee54-4bad-bee0-b6cd150b3ba6\" xlink:actuate=\"onRequest\" xlink:href=\"psysml:7a6ef9a5-ee54-4bad-bee0-b6cd150b3ba6\" xlink:show=\"new\" xlink:title=\"psysml:7a6ef9a5-ee54-4bad-bee0-b6cd150b3ba6\" xlink:type=\"simple\"><path d=\"M167,206 C167,206 167,252.68 167,252.68 \" fill=\"none\" id=\"E9&lt;-E10\" style=\"stroke: #383838; stroke-width: 1.0;\"/><polygon fill=\"#FFFFFF\" points=\"167,193,163,199,167,205,171,199,167,193\" style=\"stroke: #383838; stroke-width: 1.0;\"/><text fill=\"#000000\" font-family=\"sans-serif\" font-size=\"13\" lengthAdjust=\"spacingAndGlyphs\" textLength=\"8\" x=\"157.975\" y=\"241.8743\">1</text></a><!--MD5=[0f36bececdf0dff6e600d6f64214b0f1]\n",
       "link E10 to E2--><a href=\"psysml:1b1dbb40-b684-43d5-9e90-095d8f580599\" target=\"_top\" title=\"psysml:1b1dbb40-b684-43d5-9e90-095d8f580599\" xlink:actuate=\"onRequest\" xlink:href=\"psysml:1b1dbb40-b684-43d5-9e90-095d8f580599\" xlink:show=\"new\" xlink:title=\"psysml:1b1dbb40-b684-43d5-9e90-095d8f580599\" xlink:type=\"simple\"><path d=\"M167,299.21 C167,328.47 167,375 167,375 C167,375 202.82,375 202.82,375 \" fill=\"none\" id=\"E10-&gt;E2\" style=\"stroke: #383838; stroke-width: 1.0;\"/><polygon fill=\"#FFFFFF\" points=\"222.82,375,203.82,382,203.82,368,222.82,375\" style=\"stroke: #383838; stroke-width: 1.0;\"/><ellipse cx=\"198.12\" cy=\"380\" fill=\"#383838\" rx=\"2\" ry=\"2\" style=\"stroke: #383838; stroke-width: 1.0;\"/><ellipse cx=\"198.12\" cy=\"370\" fill=\"#383838\" rx=\"2\" ry=\"2\" style=\"stroke: #383838; stroke-width: 1.0;\"/></a><!--MD5=[1fc04a95fd77ad5ce46c1a3027516051]\n",
       "reverse link E9 to E11--><a href=\"psysml:26e0bda0-b5f1-463e-8de4-6289f85dc961\" target=\"_top\" title=\"psysml:26e0bda0-b5f1-463e-8de4-6289f85dc961\" xlink:actuate=\"onRequest\" xlink:href=\"psysml:26e0bda0-b5f1-463e-8de4-6289f85dc961\" xlink:show=\"new\" xlink:title=\"psysml:26e0bda0-b5f1-463e-8de4-6289f85dc961\" xlink:type=\"simple\"><path d=\"M233.5,206 C233.5,206 233.5,252.68 233.5,252.68 \" fill=\"none\" id=\"E9&lt;-E11\" style=\"stroke: #383838; stroke-width: 1.0;\"/><polygon fill=\"#FFFFFF\" points=\"233.5,193,229.5,199,233.5,205,237.5,199,233.5,193\" style=\"stroke: #383838; stroke-width: 1.0;\"/><text fill=\"#000000\" font-family=\"sans-serif\" font-size=\"13\" lengthAdjust=\"spacingAndGlyphs\" textLength=\"8\" x=\"220.5031\" y=\"241.8743\">1</text></a><!--MD5=[062ed86c389d1a88f61c6380d0491e17]\n",
       "reverse link E12 to E13--><a href=\"psysml:b5605e58-b315-4dd3-8e84-581a703b4e2b\" target=\"_top\" title=\"psysml:b5605e58-b315-4dd3-8e84-581a703b4e2b\" xlink:actuate=\"onRequest\" xlink:href=\"psysml:b5605e58-b315-4dd3-8e84-581a703b4e2b\" xlink:show=\"new\" xlink:title=\"psysml:b5605e58-b315-4dd3-8e84-581a703b4e2b\" xlink:type=\"simple\"><path d=\"M80,100 C80,100 80,146.68 80,146.68 \" fill=\"none\" id=\"E12&lt;-E13\" style=\"stroke: #383838; stroke-width: 1.0;\"/><polygon fill=\"#383838\" points=\"80,87,76,93,80,99,84,93,80,87\" style=\"stroke: #383838; stroke-width: 1.0;\"/><text fill=\"#000000\" font-family=\"sans-serif\" font-size=\"13\" lengthAdjust=\"spacingAndGlyphs\" textLength=\"8\" x=\"70.975\" y=\"135.8743\">1</text></a><!--MD5=[01db00f33b28669d6d9febea71002831]\n",
       "reverse link E13 to E14--><a href=\"psysml:db42b499-220f-4c1a-8731-eb36b8c82e1e\" target=\"_top\" title=\"psysml:db42b499-220f-4c1a-8731-eb36b8c82e1e\" xlink:actuate=\"onRequest\" xlink:href=\"psysml:db42b499-220f-4c1a-8731-eb36b8c82e1e\" xlink:show=\"new\" xlink:title=\"psysml:db42b499-220f-4c1a-8731-eb36b8c82e1e\" xlink:type=\"simple\"><path d=\"M85,206 C85,206 85,252.68 85,252.68 \" fill=\"none\" id=\"E13&lt;-E14\" style=\"stroke: #383838; stroke-width: 1.0;\"/><polygon fill=\"#FFFFFF\" points=\"85,193,81,199,85,205,89,199,85,193\" style=\"stroke: #383838; stroke-width: 1.0;\"/><text fill=\"#000000\" font-family=\"sans-serif\" font-size=\"13\" lengthAdjust=\"spacingAndGlyphs\" textLength=\"8\" x=\"74.6938\" y=\"241.8743\">1</text></a><!--MD5=[e5566ac99d7714697a7fbc17f6b550fe]\n",
       "link E14 to E2--><a href=\"psysml:7155c58b-23e7-41d9-a472-3863cff0084f\" target=\"_top\" title=\"psysml:7155c58b-23e7-41d9-a472-3863cff0084f\" xlink:actuate=\"onRequest\" xlink:href=\"psysml:7155c58b-23e7-41d9-a472-3863cff0084f\" xlink:show=\"new\" xlink:title=\"psysml:7155c58b-23e7-41d9-a472-3863cff0084f\" xlink:type=\"simple\"><path d=\"M111.41,276 C120.92,276 130,276 130,276 C130,276 130,390 130,390 C130,390 202.68,390 202.68,390 \" fill=\"none\" id=\"E14-&gt;E2\" style=\"stroke: #383838; stroke-width: 1.0;\"/><polygon fill=\"#FFFFFF\" points=\"222.68,390,203.68,397,203.68,383,222.68,390\" style=\"stroke: #383838; stroke-width: 1.0;\"/><ellipse cx=\"197.98\" cy=\"395\" fill=\"#383838\" rx=\"2\" ry=\"2\" style=\"stroke: #383838; stroke-width: 1.0;\"/><ellipse cx=\"197.98\" cy=\"385\" fill=\"#383838\" rx=\"2\" ry=\"2\" style=\"stroke: #383838; stroke-width: 1.0;\"/></a><!--MD5=[e9a5e828c71fd2209a11a152f562d491]\n",
       "reverse link E13 to E15--><a href=\"psysml:2699a371-802b-44a3-9d88-da30e2130afc\" target=\"_top\" title=\"psysml:2699a371-802b-44a3-9d88-da30e2130afc\" xlink:actuate=\"onRequest\" xlink:href=\"psysml:2699a371-802b-44a3-9d88-da30e2130afc\" xlink:show=\"new\" xlink:title=\"psysml:2699a371-802b-44a3-9d88-da30e2130afc\" xlink:type=\"simple\"><path d=\"M52.68,170 C52.68,170 52,170 52,170 C52,170 52,382 52,382 C52,382 57.12,382 63.61,382 \" fill=\"none\" id=\"E13&lt;-E15\" style=\"stroke: #383838; stroke-width: 1.0;\"/><polygon fill=\"#FFFFFF\" points=\"58.78,170,52.78,166,46.78,170,52.78,174,58.78,170\" style=\"stroke: #383838; stroke-width: 1.0;\"/><text fill=\"#000000\" font-family=\"sans-serif\" font-size=\"13\" lengthAdjust=\"spacingAndGlyphs\" textLength=\"8\" x=\"47.8226\" y=\"377.17\">1</text></a><!--MD5=[3afbdc645381407e1bc99677323a2513]\n",
       "link E14 to E15--><a href=\"psysml:1d4c99f1-723b-47e9-b0a9-a2cf4f06711c\" target=\"_top\" title=\"psysml:1d4c99f1-723b-47e9-b0a9-a2cf4f06711c\" xlink:actuate=\"onRequest\" xlink:href=\"psysml:1d4c99f1-723b-47e9-b0a9-a2cf4f06711c\" xlink:show=\"new\" xlink:title=\"psysml:1d4c99f1-723b-47e9-b0a9-a2cf4f06711c\" xlink:type=\"simple\"><path d=\"M83,299 C83,316.66 83,340.94 83,358.68 \" fill=\"none\" id=\"E14-E15\" style=\"stroke: #383838; stroke-width: 3.0;\"/></a><!--MD5=[3afbdc645381407e1bc99677323a2513]\n",
       "link E14 to E15--><a href=\"psysml:99ef5f64-108a-4414-ad16-a52f47db38b7\" target=\"_top\" title=\"psysml:99ef5f64-108a-4414-ad16-a52f47db38b7\" xlink:actuate=\"onRequest\" xlink:href=\"psysml:99ef5f64-108a-4414-ad16-a52f47db38b7\" xlink:show=\"new\" xlink:title=\"psysml:99ef5f64-108a-4414-ad16-a52f47db38b7\" xlink:type=\"simple\"><path d=\"M97,299 C97,316.66 97,340.94 97,358.68 \" fill=\"none\" id=\"E14-E15-1\" style=\"stroke: #383838; stroke-width: 3.0;\"/></a><!--MD5=[9e33034211907324dd8bccabfe88e0cb]\n",
       "@startuml\r\n",
       "skinparam linetype ortho\r\n",
       "skinparam monochrome true\r\n",
       "skinparam classbackgroundcolor white\r\n",
       "skinparam shadowing false\r\n",
       "skinparam wrapWidth 300\r\n",
       "hide circle\r\n",
       "\r\n",
       "package \"ConjugationTest\" as E1  [[psysml:62f2acf4-862e-4777-8380-6adbdab8aa3b ]]  {\r\n",
       "comp def \"P\" as E2  <<(T,blue) port  def>> [[psysml:8038ba5e-65f3-4a7c-a5d9-05577a1e913e ]] {\r\n",
       "}\r\n",
       "comp def \"B\" as E3  <<(T,blue) part  def>> [[psysml:eb00d253-98ff-4ea5-9d4b-40f483d849ec ]] {\r\n",
       "}\r\n",
       "comp usage \"p1: P \" as E4  <<(T,blue) port>> [[psysml:bd11b2df-eb92-4507-bbbb-c6493b57fcfa ]] {\r\n",
       "}\r\n",
       "comp usage \"p2: ~P \" as E5  <<(T,blue) port>> [[psysml:0cbe2724-4b46-4325-902f-a8a483156696 ]] {\r\n",
       "}\r\n",
       "comp def \"A\" as E6  <<(T,blue) connection  def>> [[psysml:c9adf55d-1d58-41e7-9c8f-305f1a380a4f ]] {\r\n",
       "}\r\n",
       "comp usage \"p1: P \" as E7  <<(T,blue) port>> [[psysml:62009ff7-c341-4e72-a056-ce92de09505b ]] {\r\n",
       "}\r\n",
       "comp usage \"p2: ~P \" as E8  <<(T,blue) port>> [[psysml:50db7d15-a467-4fc6-8fb9-d943e9708b48 ]] {\r\n",
       "}\r\n",
       "comp def \"I\" as E9  <<(T,blue) interface  def>> [[psysml:909b1fdd-cad7-4fe7-8f0f-a5ae3fa3dd03 ]] {\r\n",
       "}\r\n",
       "comp usage \"p1: P \" as E10  <<(T,blue) port>> [[psysml:4b05cf72-e027-47da-9c90-b867da4c93e0 ]] {\r\n",
       "}\r\n",
       "comp usage \"p2: ~P \" as E11  <<(T,blue) port>> [[psysml:0c24ab80-75a0-44e9-976a-962e4e9af685 ]] {\r\n",
       "}\r\n",
       "comp def \"B1\" as E12  <<(T,blue) part  def>> [[psysml:c2ec72d4-85fe-4c8d-a549-b327df7a4c85 ]] {\r\n",
       "}\r\n",
       "comp usage \"p \" as E13  <<(T,blue) part>> [[psysml:bf56b714-b103-43c5-844a-64ae22bea297 ]] {\r\n",
       "}\r\n",
       "comp usage \"p1: P \" as E14  <<(T,blue) port>> [[psysml:b5c2279c-6642-492b-a6cf-19efab06e689 ]] {\r\n",
       "}\r\n",
       "comp usage \"p2: ~P \" as E15  <<(T,blue) port>> [[psysml:ed6b3600-9f65-4ffd-a058-1200daf10699 ]] {\r\n",
       "}\r\n",
       "}\r\n",
       "E3 o- - \"1\"E4 [[psysml:301fc48c-20ce-4bfe-ac1d-96f5db6094d0 ]] \r\n",
       "E4 - -:|> E2 [[psysml:2658e44c-8270-4dd2-9600-daf649b69d41 ]] \r\n",
       "E3 o- - \"1\"E5 [[psysml:223fd842-0df9-4bd0-ad12-80c4696f3c55 ]] \r\n",
       "E6 o- - \"1\"E7 [[psysml:21746d6a-6182-4390-ad27-ac5c9b62bfbf ]] \r\n",
       "E7 - -:|> E2 [[psysml:ac292376-6896-4173-b580-fb46e7ca2b11 ]] \r\n",
       "E6 o- - \"1\"E8 [[psysml:0a911d69-2e8c-46c6-ac57-f08740e1c2a7 ]] \r\n",
       "E9 o- - \"1\"E10 [[psysml:7a6ef9a5-ee54-4bad-bee0-b6cd150b3ba6 ]] \r\n",
       "E10 - -:|> E2 [[psysml:1b1dbb40-b684-43d5-9e90-095d8f580599 ]] \r\n",
       "E9 o- - \"1\"E11 [[psysml:26e0bda0-b5f1-463e-8de4-6289f85dc961 ]] \r\n",
       "E12 *- - \"1\"E13 [[psysml:b5605e58-b315-4dd3-8e84-581a703b4e2b ]] \r\n",
       "E13 o- - \"1\"E14 [[psysml:db42b499-220f-4c1a-8731-eb36b8c82e1e ]] \r\n",
       "E14 - -:|> E2 [[psysml:7155c58b-23e7-41d9-a472-3863cff0084f ]] \r\n",
       "E13 o- - \"1\"E15 [[psysml:2699a371-802b-44a3-9d88-da30e2130afc ]] \r\n",
       "E14 -[thickness=3]- E15 [[psysml:1d4c99f1-723b-47e9-b0a9-a2cf4f06711c ]] \r\n",
       "E14 -[thickness=3]- E15 [[psysml:99ef5f64-108a-4414-ad16-a52f47db38b7 ]] \r\n",
       "@enduml\r\n",
       "\n",
       "PlantUML version 1.2020.13(Sat Jun 13 12:26:38 UTC 2020)\n",
       "(EPL source distribution)\n",
       "Java Runtime: OpenJDK Runtime Environment\n",
       "JVM: OpenJDK 64-Bit Server VM\n",
       "Default Encoding: UTF-8\n",
       "Language: en\n",
       "Country: null\n",
       "--></g></svg>"
      ]
     },
     "execution_count": 51,
     "metadata": {},
     "output_type": "execute_result"
    }
   ],
   "source": [
    "%viz --style=\"ORTHOLINE\" --view=\"Default\" \"ConjugationTest\""
   ]
  },
  {
   "cell_type": "code",
   "execution_count": 52,
   "id": "59f6e796",
   "metadata": {
    "execution": {
     "iopub.execute_input": "2022-02-18T10:47:48.317820Z",
     "iopub.status.busy": "2022-02-18T10:47:48.317410Z",
     "iopub.status.idle": "2022-02-18T10:47:48.363445Z",
     "shell.execute_reply": "2022-02-18T10:47:48.361650Z"
    }
   },
   "outputs": [
    {
     "data": {
      "image/svg+xml": [
       "<?xml version=\"1.0\" encoding=\"UTF-8\" standalone=\"no\"?><svg xmlns=\"http://www.w3.org/2000/svg\" xmlns:xlink=\"http://www.w3.org/1999/xlink\" contentScriptType=\"application/ecmascript\" contentStyleType=\"text/css\" height=\"433px\" preserveAspectRatio=\"none\" style=\"width:641px;height:433px;\" version=\"1.1\" viewBox=\"0 0 641 433\" width=\"641px\" zoomAndPan=\"magnify\"><defs/><g><!--MD5=[fbc87193dbaf4d95561dea2c320d4a47]\n",
       "cluster E1--><a href=\"psysml:62f2acf4-862e-4777-8380-6adbdab8aa3b\" target=\"_top\" title=\"psysml:62f2acf4-862e-4777-8380-6adbdab8aa3b\" xlink:actuate=\"onRequest\" xlink:href=\"psysml:62f2acf4-862e-4777-8380-6adbdab8aa3b\" xlink:show=\"new\" xlink:title=\"psysml:62f2acf4-862e-4777-8380-6adbdab8aa3b\" xlink:type=\"simple\"><polygon fill=\"#FFFFFF\" points=\"16,6,136,6,143,28.2969,619,28.2969,619,421,16,421,16,6\" style=\"stroke: #000000; stroke-width: 1.5;\"/><line style=\"stroke: #000000; stroke-width: 1.5;\" x1=\"16\" x2=\"143\" y1=\"28.2969\" y2=\"28.2969\"/><text fill=\"#000000\" font-family=\"sans-serif\" font-size=\"14\" font-weight=\"bold\" lengthAdjust=\"spacingAndGlyphs\" textLength=\"114\" x=\"20\" y=\"20.9951\">ConjugationTest</text></a><!--MD5=[b4997ac47864f28c2f74865a473b2911]\n",
       "class E2--><a href=\"psysml:8038ba5e-65f3-4a7c-a5d9-05577a1e913e\" target=\"_top\" title=\"psysml:8038ba5e-65f3-4a7c-a5d9-05577a1e913e\" xlink:actuate=\"onRequest\" xlink:href=\"psysml:8038ba5e-65f3-4a7c-a5d9-05577a1e913e\" xlink:show=\"new\" xlink:title=\"psysml:8038ba5e-65f3-4a7c-a5d9-05577a1e913e\" xlink:type=\"simple\"><rect fill=\"#FFFFFF\" height=\"45.9375\" id=\"E2\" style=\"stroke: #383838; stroke-width: 1.5;\" width=\"70\" x=\"223\" y=\"359\"/><text fill=\"#000000\" font-family=\"sans-serif\" font-size=\"12\" font-style=\"italic\" lengthAdjust=\"spacingAndGlyphs\" textLength=\"68\" x=\"224\" y=\"375.1387\">«port  def»</text><text fill=\"#000000\" font-family=\"sans-serif\" font-size=\"12\" lengthAdjust=\"spacingAndGlyphs\" textLength=\"8\" x=\"254\" y=\"389.1074\">P</text><line style=\"stroke: #383838; stroke-width: 1.5;\" x1=\"224\" x2=\"292\" y1=\"396.9375\" y2=\"396.9375\"/></a><!--MD5=[09b614a08d8cba4a07c9adeb5e0fee81]\n",
       "class E3--><a href=\"psysml:eb00d253-98ff-4ea5-9d4b-40f483d849ec\" target=\"_top\" title=\"psysml:eb00d253-98ff-4ea5-9d4b-40f483d849ec\" xlink:actuate=\"onRequest\" xlink:href=\"psysml:eb00d253-98ff-4ea5-9d4b-40f483d849ec\" xlink:show=\"new\" xlink:title=\"psysml:eb00d253-98ff-4ea5-9d4b-40f483d849ec\" xlink:type=\"simple\"><rect fill=\"#FFFFFF\" height=\"45.9375\" id=\"E3\" style=\"stroke: #383838; stroke-width: 1.5;\" width=\"70\" x=\"496\" y=\"147\"/><text fill=\"#000000\" font-family=\"sans-serif\" font-size=\"12\" font-style=\"italic\" lengthAdjust=\"spacingAndGlyphs\" textLength=\"68\" x=\"497\" y=\"163.1387\">«part  def»</text><text fill=\"#000000\" font-family=\"sans-serif\" font-size=\"12\" lengthAdjust=\"spacingAndGlyphs\" textLength=\"8\" x=\"527\" y=\"177.1074\">B</text><line style=\"stroke: #383838; stroke-width: 1.5;\" x1=\"497\" x2=\"565\" y1=\"184.9375\" y2=\"184.9375\"/></a><!--MD5=[ebbe1d658d1005bcc118a6aa81145e00]\n",
       "class E4--><a href=\"psysml:bd11b2df-eb92-4507-bbbb-c6493b57fcfa\" target=\"_top\" title=\"psysml:bd11b2df-eb92-4507-bbbb-c6493b57fcfa\" xlink:actuate=\"onRequest\" xlink:href=\"psysml:bd11b2df-eb92-4507-bbbb-c6493b57fcfa\" xlink:show=\"new\" xlink:title=\"psysml:bd11b2df-eb92-4507-bbbb-c6493b57fcfa\" xlink:type=\"simple\"><rect fill=\"#FFFFFF\" height=\"45.9375\" id=\"E4\" rx=\"10\" ry=\"10\" style=\"stroke: #383838; stroke-width: 1.5;\" width=\"42\" x=\"474\" y=\"253\"/><text fill=\"#000000\" font-family=\"sans-serif\" font-size=\"12\" font-style=\"italic\" lengthAdjust=\"spacingAndGlyphs\" textLength=\"40\" x=\"475\" y=\"269.1387\">«port»</text><text fill=\"#000000\" font-family=\"sans-serif\" font-size=\"12\" lengthAdjust=\"spacingAndGlyphs\" textLength=\"32\" x=\"477\" y=\"283.1074\">p1: P</text><line style=\"stroke: #383838; stroke-width: 1.5;\" x1=\"475\" x2=\"515\" y1=\"290.9375\" y2=\"290.9375\"/></a><!--MD5=[270fce915f116d4de14055a7c1d9a0f3]\n",
       "class E5--><a href=\"psysml:0cbe2724-4b46-4325-902f-a8a483156696\" target=\"_top\" title=\"psysml:0cbe2724-4b46-4325-902f-a8a483156696\" xlink:actuate=\"onRequest\" xlink:href=\"psysml:0cbe2724-4b46-4325-902f-a8a483156696\" xlink:show=\"new\" xlink:title=\"psysml:0cbe2724-4b46-4325-902f-a8a483156696\" xlink:type=\"simple\"><rect fill=\"#FFFFFF\" height=\"45.9375\" id=\"E5\" rx=\"10\" ry=\"10\" style=\"stroke: #383838; stroke-width: 1.5;\" width=\"52\" x=\"551\" y=\"253\"/><text fill=\"#000000\" font-family=\"sans-serif\" font-size=\"12\" font-style=\"italic\" lengthAdjust=\"spacingAndGlyphs\" textLength=\"40\" x=\"557\" y=\"269.1387\">«port»</text><text fill=\"#000000\" font-family=\"sans-serif\" font-size=\"12\" lengthAdjust=\"spacingAndGlyphs\" textLength=\"42\" x=\"554\" y=\"283.1074\">p2: ~P</text><line style=\"stroke: #383838; stroke-width: 1.5;\" x1=\"552\" x2=\"602\" y1=\"290.9375\" y2=\"290.9375\"/></a><!--MD5=[60a26617385b1d2d0262a64233df1f8d]\n",
       "class E6--><a href=\"psysml:c9adf55d-1d58-41e7-9c8f-305f1a380a4f\" target=\"_top\" title=\"psysml:c9adf55d-1d58-41e7-9c8f-305f1a380a4f\" xlink:actuate=\"onRequest\" xlink:href=\"psysml:c9adf55d-1d58-41e7-9c8f-305f1a380a4f\" xlink:show=\"new\" xlink:title=\"psysml:c9adf55d-1d58-41e7-9c8f-305f1a380a4f\" xlink:type=\"simple\"><rect fill=\"#FFFFFF\" height=\"45.9375\" id=\"E6\" style=\"stroke: #383838; stroke-width: 1.5;\" width=\"114\" x=\"283\" y=\"147\"/><text fill=\"#000000\" font-family=\"sans-serif\" font-size=\"12\" font-style=\"italic\" lengthAdjust=\"spacingAndGlyphs\" textLength=\"112\" x=\"284\" y=\"163.1387\">«connection  def»</text><text fill=\"#000000\" font-family=\"sans-serif\" font-size=\"12\" lengthAdjust=\"spacingAndGlyphs\" textLength=\"8\" x=\"336\" y=\"177.1074\">A</text><line style=\"stroke: #383838; stroke-width: 1.5;\" x1=\"284\" x2=\"396\" y1=\"184.9375\" y2=\"184.9375\"/></a><!--MD5=[2156ba9850f5573cc1fc38a6a4b2f02b]\n",
       "class E7--><a href=\"psysml:62009ff7-c341-4e72-a056-ce92de09505b\" target=\"_top\" title=\"psysml:62009ff7-c341-4e72-a056-ce92de09505b\" xlink:actuate=\"onRequest\" xlink:href=\"psysml:62009ff7-c341-4e72-a056-ce92de09505b\" xlink:show=\"new\" xlink:title=\"psysml:62009ff7-c341-4e72-a056-ce92de09505b\" xlink:type=\"simple\"><rect fill=\"#FFFFFF\" height=\"45.9375\" id=\"E7\" rx=\"10\" ry=\"10\" style=\"stroke: #383838; stroke-width: 1.5;\" width=\"42\" x=\"310\" y=\"253\"/><text fill=\"#000000\" font-family=\"sans-serif\" font-size=\"12\" font-style=\"italic\" lengthAdjust=\"spacingAndGlyphs\" textLength=\"40\" x=\"311\" y=\"269.1387\">«port»</text><text fill=\"#000000\" font-family=\"sans-serif\" font-size=\"12\" lengthAdjust=\"spacingAndGlyphs\" textLength=\"32\" x=\"313\" y=\"283.1074\">p1: P</text><line style=\"stroke: #383838; stroke-width: 1.5;\" x1=\"311\" x2=\"351\" y1=\"290.9375\" y2=\"290.9375\"/></a><!--MD5=[b9389687b975829384b498ac4b7476b2]\n",
       "class E8--><a href=\"psysml:50db7d15-a467-4fc6-8fb9-d943e9708b48\" target=\"_top\" title=\"psysml:50db7d15-a467-4fc6-8fb9-d943e9708b48\" xlink:actuate=\"onRequest\" xlink:href=\"psysml:50db7d15-a467-4fc6-8fb9-d943e9708b48\" xlink:show=\"new\" xlink:title=\"psysml:50db7d15-a467-4fc6-8fb9-d943e9708b48\" xlink:type=\"simple\"><rect fill=\"#FFFFFF\" height=\"45.9375\" id=\"E8\" rx=\"10\" ry=\"10\" style=\"stroke: #383838; stroke-width: 1.5;\" width=\"52\" x=\"387\" y=\"253\"/><text fill=\"#000000\" font-family=\"sans-serif\" font-size=\"12\" font-style=\"italic\" lengthAdjust=\"spacingAndGlyphs\" textLength=\"40\" x=\"393\" y=\"269.1387\">«port»</text><text fill=\"#000000\" font-family=\"sans-serif\" font-size=\"12\" lengthAdjust=\"spacingAndGlyphs\" textLength=\"42\" x=\"390\" y=\"283.1074\">p2: ~P</text><line style=\"stroke: #383838; stroke-width: 1.5;\" x1=\"388\" x2=\"438\" y1=\"290.9375\" y2=\"290.9375\"/></a><!--MD5=[fd4143e9d270a159db93a4ea2a975926]\n",
       "class E9--><a href=\"psysml:909b1fdd-cad7-4fe7-8f0f-a5ae3fa3dd03\" target=\"_top\" title=\"psysml:909b1fdd-cad7-4fe7-8f0f-a5ae3fa3dd03\" xlink:actuate=\"onRequest\" xlink:href=\"psysml:909b1fdd-cad7-4fe7-8f0f-a5ae3fa3dd03\" xlink:show=\"new\" xlink:title=\"psysml:909b1fdd-cad7-4fe7-8f0f-a5ae3fa3dd03\" xlink:type=\"simple\"><rect fill=\"#FFFFFF\" height=\"45.9375\" id=\"E9\" style=\"stroke: #383838; stroke-width: 1.5;\" width=\"100\" x=\"144\" y=\"147\"/><text fill=\"#000000\" font-family=\"sans-serif\" font-size=\"12\" font-style=\"italic\" lengthAdjust=\"spacingAndGlyphs\" textLength=\"98\" x=\"145\" y=\"163.1387\">«interface  def»</text><text fill=\"#000000\" font-family=\"sans-serif\" font-size=\"12\" lengthAdjust=\"spacingAndGlyphs\" textLength=\"3\" x=\"192.5\" y=\"177.1074\">I</text><line style=\"stroke: #383838; stroke-width: 1.5;\" x1=\"145\" x2=\"243\" y1=\"184.9375\" y2=\"184.9375\"/></a><!--MD5=[96f4274e9e20536e775497830990834d]\n",
       "class E10--><a href=\"psysml:4b05cf72-e027-47da-9c90-b867da4c93e0\" target=\"_top\" title=\"psysml:4b05cf72-e027-47da-9c90-b867da4c93e0\" xlink:actuate=\"onRequest\" xlink:href=\"psysml:4b05cf72-e027-47da-9c90-b867da4c93e0\" xlink:show=\"new\" xlink:title=\"psysml:4b05cf72-e027-47da-9c90-b867da4c93e0\" xlink:type=\"simple\"><rect fill=\"#FFFFFF\" height=\"45.9375\" id=\"E10\" rx=\"10\" ry=\"10\" style=\"stroke: #383838; stroke-width: 1.5;\" width=\"42\" x=\"146\" y=\"253\"/><text fill=\"#000000\" font-family=\"sans-serif\" font-size=\"12\" font-style=\"italic\" lengthAdjust=\"spacingAndGlyphs\" textLength=\"40\" x=\"147\" y=\"269.1387\">«port»</text><text fill=\"#000000\" font-family=\"sans-serif\" font-size=\"12\" lengthAdjust=\"spacingAndGlyphs\" textLength=\"32\" x=\"149\" y=\"283.1074\">p1: P</text><line style=\"stroke: #383838; stroke-width: 1.5;\" x1=\"147\" x2=\"187\" y1=\"290.9375\" y2=\"290.9375\"/></a><!--MD5=[1dd1bfd58a279cf63c5f349dbc8fc6a1]\n",
       "class E11--><a href=\"psysml:0c24ab80-75a0-44e9-976a-962e4e9af685\" target=\"_top\" title=\"psysml:0c24ab80-75a0-44e9-976a-962e4e9af685\" xlink:actuate=\"onRequest\" xlink:href=\"psysml:0c24ab80-75a0-44e9-976a-962e4e9af685\" xlink:show=\"new\" xlink:title=\"psysml:0c24ab80-75a0-44e9-976a-962e4e9af685\" xlink:type=\"simple\"><rect fill=\"#FFFFFF\" height=\"45.9375\" id=\"E11\" rx=\"10\" ry=\"10\" style=\"stroke: #383838; stroke-width: 1.5;\" width=\"52\" x=\"223\" y=\"253\"/><text fill=\"#000000\" font-family=\"sans-serif\" font-size=\"12\" font-style=\"italic\" lengthAdjust=\"spacingAndGlyphs\" textLength=\"40\" x=\"229\" y=\"269.1387\">«port»</text><text fill=\"#000000\" font-family=\"sans-serif\" font-size=\"12\" lengthAdjust=\"spacingAndGlyphs\" textLength=\"42\" x=\"226\" y=\"283.1074\">p2: ~P</text><line style=\"stroke: #383838; stroke-width: 1.5;\" x1=\"224\" x2=\"274\" y1=\"290.9375\" y2=\"290.9375\"/></a><!--MD5=[49a0ec8f00dab7302a31f22d0f0fe584]\n",
       "class E12--><a href=\"psysml:c2ec72d4-85fe-4c8d-a549-b327df7a4c85\" target=\"_top\" title=\"psysml:c2ec72d4-85fe-4c8d-a549-b327df7a4c85\" xlink:actuate=\"onRequest\" xlink:href=\"psysml:c2ec72d4-85fe-4c8d-a549-b327df7a4c85\" xlink:show=\"new\" xlink:title=\"psysml:c2ec72d4-85fe-4c8d-a549-b327df7a4c85\" xlink:type=\"simple\"><rect fill=\"#FFFFFF\" height=\"45.9375\" id=\"E12\" style=\"stroke: #383838; stroke-width: 1.5;\" width=\"70\" x=\"45\" y=\"41\"/><text fill=\"#000000\" font-family=\"sans-serif\" font-size=\"12\" font-style=\"italic\" lengthAdjust=\"spacingAndGlyphs\" textLength=\"68\" x=\"46\" y=\"57.1387\">«part  def»</text><text fill=\"#000000\" font-family=\"sans-serif\" font-size=\"12\" lengthAdjust=\"spacingAndGlyphs\" textLength=\"16\" x=\"72\" y=\"71.1074\">B1</text><line style=\"stroke: #383838; stroke-width: 1.5;\" x1=\"46\" x2=\"114\" y1=\"78.9375\" y2=\"78.9375\"/></a><!--MD5=[ee3c913d1a06f366521f9ef512b67efe]\n",
       "class E13--><a href=\"psysml:bf56b714-b103-43c5-844a-64ae22bea297\" target=\"_top\" title=\"psysml:bf56b714-b103-43c5-844a-64ae22bea297\" xlink:actuate=\"onRequest\" xlink:href=\"psysml:bf56b714-b103-43c5-844a-64ae22bea297\" xlink:show=\"new\" xlink:title=\"psysml:bf56b714-b103-43c5-844a-64ae22bea297\" xlink:type=\"simple\"><rect fill=\"#FFFFFF\" height=\"45.9375\" id=\"E13\" rx=\"10\" ry=\"10\" style=\"stroke: #383838; stroke-width: 1.5;\" width=\"42\" x=\"59\" y=\"147\"/><text fill=\"#000000\" font-family=\"sans-serif\" font-size=\"12\" font-style=\"italic\" lengthAdjust=\"spacingAndGlyphs\" textLength=\"40\" x=\"60\" y=\"163.1387\">«part»</text><text fill=\"#000000\" font-family=\"sans-serif\" font-size=\"12\" lengthAdjust=\"spacingAndGlyphs\" textLength=\"8\" x=\"74\" y=\"177.1074\">p</text><line style=\"stroke: #383838; stroke-width: 1.5;\" x1=\"60\" x2=\"100\" y1=\"184.9375\" y2=\"184.9375\"/></a><!--MD5=[bee11217b2f71d958a27249dc326068c]\n",
       "class E14--><a href=\"psysml:b5c2279c-6642-492b-a6cf-19efab06e689\" target=\"_top\" title=\"psysml:b5c2279c-6642-492b-a6cf-19efab06e689\" xlink:actuate=\"onRequest\" xlink:href=\"psysml:b5c2279c-6642-492b-a6cf-19efab06e689\" xlink:show=\"new\" xlink:title=\"psysml:b5c2279c-6642-492b-a6cf-19efab06e689\" xlink:type=\"simple\"><rect fill=\"#FFFFFF\" height=\"45.9375\" id=\"E14\" rx=\"10\" ry=\"10\" style=\"stroke: #383838; stroke-width: 1.5;\" width=\"42\" x=\"69\" y=\"253\"/><text fill=\"#000000\" font-family=\"sans-serif\" font-size=\"12\" font-style=\"italic\" lengthAdjust=\"spacingAndGlyphs\" textLength=\"40\" x=\"70\" y=\"269.1387\">«port»</text><text fill=\"#000000\" font-family=\"sans-serif\" font-size=\"12\" lengthAdjust=\"spacingAndGlyphs\" textLength=\"32\" x=\"72\" y=\"283.1074\">p1: P</text><line style=\"stroke: #383838; stroke-width: 1.5;\" x1=\"70\" x2=\"110\" y1=\"290.9375\" y2=\"290.9375\"/></a><!--MD5=[0c48fb7552dae8cbbef69381101a84c8]\n",
       "class E15--><a href=\"psysml:ed6b3600-9f65-4ffd-a058-1200daf10699\" target=\"_top\" title=\"psysml:ed6b3600-9f65-4ffd-a058-1200daf10699\" xlink:actuate=\"onRequest\" xlink:href=\"psysml:ed6b3600-9f65-4ffd-a058-1200daf10699\" xlink:show=\"new\" xlink:title=\"psysml:ed6b3600-9f65-4ffd-a058-1200daf10699\" xlink:type=\"simple\"><rect fill=\"#FFFFFF\" height=\"45.9375\" id=\"E15\" rx=\"10\" ry=\"10\" style=\"stroke: #383838; stroke-width: 1.5;\" width=\"52\" x=\"64\" y=\"359\"/><text fill=\"#000000\" font-family=\"sans-serif\" font-size=\"12\" font-style=\"italic\" lengthAdjust=\"spacingAndGlyphs\" textLength=\"40\" x=\"70\" y=\"375.1387\">«port»</text><text fill=\"#000000\" font-family=\"sans-serif\" font-size=\"12\" lengthAdjust=\"spacingAndGlyphs\" textLength=\"42\" x=\"67\" y=\"389.1074\">p2: ~P</text><line style=\"stroke: #383838; stroke-width: 1.5;\" x1=\"65\" x2=\"115\" y1=\"396.9375\" y2=\"396.9375\"/></a><!--MD5=[4672eba38e49728da53d11aeb285b987]\n",
       "reverse link E3 to E4--><a href=\"psysml:301fc48c-20ce-4bfe-ac1d-96f5db6094d0\" target=\"_top\" title=\"psysml:301fc48c-20ce-4bfe-ac1d-96f5db6094d0\" xlink:actuate=\"onRequest\" xlink:href=\"psysml:301fc48c-20ce-4bfe-ac1d-96f5db6094d0\" xlink:show=\"new\" xlink:title=\"psysml:301fc48c-20ce-4bfe-ac1d-96f5db6094d0\" xlink:type=\"simple\"><path d=\"M506,206 C506,206 506,252.68 506,252.68 \" fill=\"none\" id=\"E3&lt;-E4\" style=\"stroke: #383838; stroke-width: 1.0;\"/><polygon fill=\"#FFFFFF\" points=\"506,193,502,199,506,205,510,199,506,193\" style=\"stroke: #383838; stroke-width: 1.0;\"/><text fill=\"#000000\" font-family=\"sans-serif\" font-size=\"13\" lengthAdjust=\"spacingAndGlyphs\" textLength=\"8\" x=\"499.7938\" y=\"241.8743\">1</text></a><!--MD5=[185131fc0dcab0a4505a2ebe144e961b]\n",
       "link E4 to E2--><a href=\"psysml:2658e44c-8270-4dd2-9600-daf649b69d41\" target=\"_top\" title=\"psysml:2658e44c-8270-4dd2-9600-daf649b69d41\" xlink:actuate=\"onRequest\" xlink:href=\"psysml:2658e44c-8270-4dd2-9600-daf649b69d41\" xlink:show=\"new\" xlink:title=\"psysml:2658e44c-8270-4dd2-9600-daf649b69d41\" xlink:type=\"simple\"><path d=\"M495,299 C495,330.18 495,382 495,382 C495,382 313.23,382 313.23,382 \" fill=\"none\" id=\"E4-&gt;E2\" style=\"stroke: #383838; stroke-width: 1.0;\"/><polygon fill=\"#FFFFFF\" points=\"293.23,382,312.23,375,312.23,389,293.23,382\" style=\"stroke: #383838; stroke-width: 1.0;\"/><ellipse cx=\"317.93\" cy=\"377\" fill=\"#383838\" rx=\"2\" ry=\"2\" style=\"stroke: #383838; stroke-width: 1.0;\"/><ellipse cx=\"317.93\" cy=\"387\" fill=\"#383838\" rx=\"2\" ry=\"2\" style=\"stroke: #383838; stroke-width: 1.0;\"/></a><!--MD5=[191cde3d490a3f6d7bb551fe3ddca469]\n",
       "reverse link E3 to E5--><a href=\"psysml:223fd842-0df9-4bd0-ad12-80c4696f3c55\" target=\"_top\" title=\"psysml:223fd842-0df9-4bd0-ad12-80c4696f3c55\" xlink:actuate=\"onRequest\" xlink:href=\"psysml:223fd842-0df9-4bd0-ad12-80c4696f3c55\" xlink:show=\"new\" xlink:title=\"psysml:223fd842-0df9-4bd0-ad12-80c4696f3c55\" xlink:type=\"simple\"><path d=\"M558.5,206 C558.5,206 558.5,252.68 558.5,252.68 \" fill=\"none\" id=\"E3&lt;-E5\" style=\"stroke: #383838; stroke-width: 1.0;\"/><polygon fill=\"#FFFFFF\" points=\"558.5,193,554.5,199,558.5,205,562.5,199,558.5,193\" style=\"stroke: #383838; stroke-width: 1.0;\"/><text fill=\"#000000\" font-family=\"sans-serif\" font-size=\"13\" lengthAdjust=\"spacingAndGlyphs\" textLength=\"8\" x=\"544.7344\" y=\"241.8743\">1</text></a><!--MD5=[3f50a3473f1dfb74d3f76443e03635af]\n",
       "reverse link E6 to E7--><a href=\"psysml:21746d6a-6182-4390-ad27-ac5c9b62bfbf\" target=\"_top\" title=\"psysml:21746d6a-6182-4390-ad27-ac5c9b62bfbf\" xlink:actuate=\"onRequest\" xlink:href=\"psysml:21746d6a-6182-4390-ad27-ac5c9b62bfbf\" xlink:show=\"new\" xlink:title=\"psysml:21746d6a-6182-4390-ad27-ac5c9b62bfbf\" xlink:type=\"simple\"><path d=\"M331,206 C331,206 331,252.68 331,252.68 \" fill=\"none\" id=\"E6&lt;-E7\" style=\"stroke: #383838; stroke-width: 1.0;\"/><polygon fill=\"#FFFFFF\" points=\"331,193,327,199,331,205,335,199,331,193\" style=\"stroke: #383838; stroke-width: 1.0;\"/><text fill=\"#000000\" font-family=\"sans-serif\" font-size=\"13\" lengthAdjust=\"spacingAndGlyphs\" textLength=\"8\" x=\"321.975\" y=\"241.8743\">1</text></a><!--MD5=[583832df87f4419a098336a29a52fa00]\n",
       "link E7 to E2--><a href=\"psysml:ac292376-6896-4173-b580-fb46e7ca2b11\" target=\"_top\" title=\"psysml:ac292376-6896-4173-b580-fb46e7ca2b11\" xlink:actuate=\"onRequest\" xlink:href=\"psysml:ac292376-6896-4173-b580-fb46e7ca2b11\" xlink:show=\"new\" xlink:title=\"psysml:ac292376-6896-4173-b580-fb46e7ca2b11\" xlink:type=\"simple\"><path d=\"M309.75,276 C298.92,276 288,276 288,276 C288,276 288,339 288,339 \" fill=\"none\" id=\"E7-&gt;E2\" style=\"stroke: #383838; stroke-width: 1.0;\"/><polygon fill=\"#FFFFFF\" points=\"288,359,281,340,295,340,288,359\" style=\"stroke: #383838; stroke-width: 1.0;\"/><ellipse cx=\"283\" cy=\"334.3\" fill=\"#383838\" rx=\"2\" ry=\"2\" style=\"stroke: #383838; stroke-width: 1.0;\"/><ellipse cx=\"293\" cy=\"334.3\" fill=\"#383838\" rx=\"2\" ry=\"2\" style=\"stroke: #383838; stroke-width: 1.0;\"/></a><!--MD5=[f4cf0736d43fd73c4ef68817c49d37d5]\n",
       "reverse link E6 to E8--><a href=\"psysml:0a911d69-2e8c-46c6-ac57-f08740e1c2a7\" target=\"_top\" title=\"psysml:0a911d69-2e8c-46c6-ac57-f08740e1c2a7\" xlink:actuate=\"onRequest\" xlink:href=\"psysml:0a911d69-2e8c-46c6-ac57-f08740e1c2a7\" xlink:show=\"new\" xlink:title=\"psysml:0a911d69-2e8c-46c6-ac57-f08740e1c2a7\" xlink:type=\"simple\"><path d=\"M392,206 C392,206 392,252.68 392,252.68 \" fill=\"none\" id=\"E6&lt;-E8\" style=\"stroke: #383838; stroke-width: 1.0;\"/><polygon fill=\"#FFFFFF\" points=\"392,193,388,199,392,205,396,199,392,193\" style=\"stroke: #383838; stroke-width: 1.0;\"/><text fill=\"#000000\" font-family=\"sans-serif\" font-size=\"13\" lengthAdjust=\"spacingAndGlyphs\" textLength=\"8\" x=\"377.5938\" y=\"241.8743\">1</text></a><!--MD5=[23ac544a70576c3e717098101004234c]\n",
       "reverse link E9 to E10--><a href=\"psysml:7a6ef9a5-ee54-4bad-bee0-b6cd150b3ba6\" target=\"_top\" title=\"psysml:7a6ef9a5-ee54-4bad-bee0-b6cd150b3ba6\" xlink:actuate=\"onRequest\" xlink:href=\"psysml:7a6ef9a5-ee54-4bad-bee0-b6cd150b3ba6\" xlink:show=\"new\" xlink:title=\"psysml:7a6ef9a5-ee54-4bad-bee0-b6cd150b3ba6\" xlink:type=\"simple\"><path d=\"M167,206 C167,206 167,252.68 167,252.68 \" fill=\"none\" id=\"E9&lt;-E10\" style=\"stroke: #383838; stroke-width: 1.0;\"/><polygon fill=\"#FFFFFF\" points=\"167,193,163,199,167,205,171,199,167,193\" style=\"stroke: #383838; stroke-width: 1.0;\"/><text fill=\"#000000\" font-family=\"sans-serif\" font-size=\"13\" lengthAdjust=\"spacingAndGlyphs\" textLength=\"8\" x=\"157.975\" y=\"241.8743\">1</text></a><!--MD5=[0f36bececdf0dff6e600d6f64214b0f1]\n",
       "link E10 to E2--><a href=\"psysml:1b1dbb40-b684-43d5-9e90-095d8f580599\" target=\"_top\" title=\"psysml:1b1dbb40-b684-43d5-9e90-095d8f580599\" xlink:actuate=\"onRequest\" xlink:href=\"psysml:1b1dbb40-b684-43d5-9e90-095d8f580599\" xlink:show=\"new\" xlink:title=\"psysml:1b1dbb40-b684-43d5-9e90-095d8f580599\" xlink:type=\"simple\"><path d=\"M167,299.21 C167,328.47 167,375 167,375 C167,375 202.82,375 202.82,375 \" fill=\"none\" id=\"E10-&gt;E2\" style=\"stroke: #383838; stroke-width: 1.0;\"/><polygon fill=\"#FFFFFF\" points=\"222.82,375,203.82,382,203.82,368,222.82,375\" style=\"stroke: #383838; stroke-width: 1.0;\"/><ellipse cx=\"198.12\" cy=\"380\" fill=\"#383838\" rx=\"2\" ry=\"2\" style=\"stroke: #383838; stroke-width: 1.0;\"/><ellipse cx=\"198.12\" cy=\"370\" fill=\"#383838\" rx=\"2\" ry=\"2\" style=\"stroke: #383838; stroke-width: 1.0;\"/></a><!--MD5=[1fc04a95fd77ad5ce46c1a3027516051]\n",
       "reverse link E9 to E11--><a href=\"psysml:26e0bda0-b5f1-463e-8de4-6289f85dc961\" target=\"_top\" title=\"psysml:26e0bda0-b5f1-463e-8de4-6289f85dc961\" xlink:actuate=\"onRequest\" xlink:href=\"psysml:26e0bda0-b5f1-463e-8de4-6289f85dc961\" xlink:show=\"new\" xlink:title=\"psysml:26e0bda0-b5f1-463e-8de4-6289f85dc961\" xlink:type=\"simple\"><path d=\"M233.5,206 C233.5,206 233.5,252.68 233.5,252.68 \" fill=\"none\" id=\"E9&lt;-E11\" style=\"stroke: #383838; stroke-width: 1.0;\"/><polygon fill=\"#FFFFFF\" points=\"233.5,193,229.5,199,233.5,205,237.5,199,233.5,193\" style=\"stroke: #383838; stroke-width: 1.0;\"/><text fill=\"#000000\" font-family=\"sans-serif\" font-size=\"13\" lengthAdjust=\"spacingAndGlyphs\" textLength=\"8\" x=\"220.5031\" y=\"241.8743\">1</text></a><!--MD5=[062ed86c389d1a88f61c6380d0491e17]\n",
       "reverse link E12 to E13--><a href=\"psysml:b5605e58-b315-4dd3-8e84-581a703b4e2b\" target=\"_top\" title=\"psysml:b5605e58-b315-4dd3-8e84-581a703b4e2b\" xlink:actuate=\"onRequest\" xlink:href=\"psysml:b5605e58-b315-4dd3-8e84-581a703b4e2b\" xlink:show=\"new\" xlink:title=\"psysml:b5605e58-b315-4dd3-8e84-581a703b4e2b\" xlink:type=\"simple\"><path d=\"M80,100 C80,100 80,146.68 80,146.68 \" fill=\"none\" id=\"E12&lt;-E13\" style=\"stroke: #383838; stroke-width: 1.0;\"/><polygon fill=\"#383838\" points=\"80,87,76,93,80,99,84,93,80,87\" style=\"stroke: #383838; stroke-width: 1.0;\"/><text fill=\"#000000\" font-family=\"sans-serif\" font-size=\"13\" lengthAdjust=\"spacingAndGlyphs\" textLength=\"8\" x=\"70.975\" y=\"135.8743\">1</text></a><!--MD5=[01db00f33b28669d6d9febea71002831]\n",
       "reverse link E13 to E14--><a href=\"psysml:db42b499-220f-4c1a-8731-eb36b8c82e1e\" target=\"_top\" title=\"psysml:db42b499-220f-4c1a-8731-eb36b8c82e1e\" xlink:actuate=\"onRequest\" xlink:href=\"psysml:db42b499-220f-4c1a-8731-eb36b8c82e1e\" xlink:show=\"new\" xlink:title=\"psysml:db42b499-220f-4c1a-8731-eb36b8c82e1e\" xlink:type=\"simple\"><path d=\"M85,206 C85,206 85,252.68 85,252.68 \" fill=\"none\" id=\"E13&lt;-E14\" style=\"stroke: #383838; stroke-width: 1.0;\"/><polygon fill=\"#FFFFFF\" points=\"85,193,81,199,85,205,89,199,85,193\" style=\"stroke: #383838; stroke-width: 1.0;\"/><text fill=\"#000000\" font-family=\"sans-serif\" font-size=\"13\" lengthAdjust=\"spacingAndGlyphs\" textLength=\"8\" x=\"74.6938\" y=\"241.8743\">1</text></a><!--MD5=[e5566ac99d7714697a7fbc17f6b550fe]\n",
       "link E14 to E2--><a href=\"psysml:7155c58b-23e7-41d9-a472-3863cff0084f\" target=\"_top\" title=\"psysml:7155c58b-23e7-41d9-a472-3863cff0084f\" xlink:actuate=\"onRequest\" xlink:href=\"psysml:7155c58b-23e7-41d9-a472-3863cff0084f\" xlink:show=\"new\" xlink:title=\"psysml:7155c58b-23e7-41d9-a472-3863cff0084f\" xlink:type=\"simple\"><path d=\"M111.41,276 C120.92,276 130,276 130,276 C130,276 130,390 130,390 C130,390 202.68,390 202.68,390 \" fill=\"none\" id=\"E14-&gt;E2\" style=\"stroke: #383838; stroke-width: 1.0;\"/><polygon fill=\"#FFFFFF\" points=\"222.68,390,203.68,397,203.68,383,222.68,390\" style=\"stroke: #383838; stroke-width: 1.0;\"/><ellipse cx=\"197.98\" cy=\"395\" fill=\"#383838\" rx=\"2\" ry=\"2\" style=\"stroke: #383838; stroke-width: 1.0;\"/><ellipse cx=\"197.98\" cy=\"385\" fill=\"#383838\" rx=\"2\" ry=\"2\" style=\"stroke: #383838; stroke-width: 1.0;\"/></a><!--MD5=[e9a5e828c71fd2209a11a152f562d491]\n",
       "reverse link E13 to E15--><a href=\"psysml:2699a371-802b-44a3-9d88-da30e2130afc\" target=\"_top\" title=\"psysml:2699a371-802b-44a3-9d88-da30e2130afc\" xlink:actuate=\"onRequest\" xlink:href=\"psysml:2699a371-802b-44a3-9d88-da30e2130afc\" xlink:show=\"new\" xlink:title=\"psysml:2699a371-802b-44a3-9d88-da30e2130afc\" xlink:type=\"simple\"><path d=\"M52.68,170 C52.68,170 52,170 52,170 C52,170 52,382 52,382 C52,382 57.12,382 63.61,382 \" fill=\"none\" id=\"E13&lt;-E15\" style=\"stroke: #383838; stroke-width: 1.0;\"/><polygon fill=\"#FFFFFF\" points=\"58.78,170,52.78,166,46.78,170,52.78,174,58.78,170\" style=\"stroke: #383838; stroke-width: 1.0;\"/><text fill=\"#000000\" font-family=\"sans-serif\" font-size=\"13\" lengthAdjust=\"spacingAndGlyphs\" textLength=\"8\" x=\"47.8226\" y=\"377.17\">1</text></a><!--MD5=[3afbdc645381407e1bc99677323a2513]\n",
       "link E14 to E15--><a href=\"psysml:1d4c99f1-723b-47e9-b0a9-a2cf4f06711c\" target=\"_top\" title=\"psysml:1d4c99f1-723b-47e9-b0a9-a2cf4f06711c\" xlink:actuate=\"onRequest\" xlink:href=\"psysml:1d4c99f1-723b-47e9-b0a9-a2cf4f06711c\" xlink:show=\"new\" xlink:title=\"psysml:1d4c99f1-723b-47e9-b0a9-a2cf4f06711c\" xlink:type=\"simple\"><path d=\"M83,299 C83,316.66 83,340.94 83,358.68 \" fill=\"none\" id=\"E14-E15\" style=\"stroke: #383838; stroke-width: 3.0;\"/></a><!--MD5=[3afbdc645381407e1bc99677323a2513]\n",
       "link E14 to E15--><a href=\"psysml:99ef5f64-108a-4414-ad16-a52f47db38b7\" target=\"_top\" title=\"psysml:99ef5f64-108a-4414-ad16-a52f47db38b7\" xlink:actuate=\"onRequest\" xlink:href=\"psysml:99ef5f64-108a-4414-ad16-a52f47db38b7\" xlink:show=\"new\" xlink:title=\"psysml:99ef5f64-108a-4414-ad16-a52f47db38b7\" xlink:type=\"simple\"><path d=\"M97,299 C97,316.66 97,340.94 97,358.68 \" fill=\"none\" id=\"E14-E15-1\" style=\"stroke: #383838; stroke-width: 3.0;\"/></a><!--MD5=[9e33034211907324dd8bccabfe88e0cb]\n",
       "@startuml\r\n",
       "skinparam linetype ortho\r\n",
       "skinparam monochrome true\r\n",
       "skinparam classbackgroundcolor white\r\n",
       "skinparam shadowing false\r\n",
       "skinparam wrapWidth 300\r\n",
       "hide circle\r\n",
       "\r\n",
       "package \"ConjugationTest\" as E1  [[psysml:62f2acf4-862e-4777-8380-6adbdab8aa3b ]]  {\r\n",
       "comp def \"P\" as E2  <<(T,blue) port  def>> [[psysml:8038ba5e-65f3-4a7c-a5d9-05577a1e913e ]] {\r\n",
       "}\r\n",
       "comp def \"B\" as E3  <<(T,blue) part  def>> [[psysml:eb00d253-98ff-4ea5-9d4b-40f483d849ec ]] {\r\n",
       "}\r\n",
       "comp usage \"p1: P \" as E4  <<(T,blue) port>> [[psysml:bd11b2df-eb92-4507-bbbb-c6493b57fcfa ]] {\r\n",
       "}\r\n",
       "comp usage \"p2: ~P \" as E5  <<(T,blue) port>> [[psysml:0cbe2724-4b46-4325-902f-a8a483156696 ]] {\r\n",
       "}\r\n",
       "comp def \"A\" as E6  <<(T,blue) connection  def>> [[psysml:c9adf55d-1d58-41e7-9c8f-305f1a380a4f ]] {\r\n",
       "}\r\n",
       "comp usage \"p1: P \" as E7  <<(T,blue) port>> [[psysml:62009ff7-c341-4e72-a056-ce92de09505b ]] {\r\n",
       "}\r\n",
       "comp usage \"p2: ~P \" as E8  <<(T,blue) port>> [[psysml:50db7d15-a467-4fc6-8fb9-d943e9708b48 ]] {\r\n",
       "}\r\n",
       "comp def \"I\" as E9  <<(T,blue) interface  def>> [[psysml:909b1fdd-cad7-4fe7-8f0f-a5ae3fa3dd03 ]] {\r\n",
       "}\r\n",
       "comp usage \"p1: P \" as E10  <<(T,blue) port>> [[psysml:4b05cf72-e027-47da-9c90-b867da4c93e0 ]] {\r\n",
       "}\r\n",
       "comp usage \"p2: ~P \" as E11  <<(T,blue) port>> [[psysml:0c24ab80-75a0-44e9-976a-962e4e9af685 ]] {\r\n",
       "}\r\n",
       "comp def \"B1\" as E12  <<(T,blue) part  def>> [[psysml:c2ec72d4-85fe-4c8d-a549-b327df7a4c85 ]] {\r\n",
       "}\r\n",
       "comp usage \"p \" as E13  <<(T,blue) part>> [[psysml:bf56b714-b103-43c5-844a-64ae22bea297 ]] {\r\n",
       "}\r\n",
       "comp usage \"p1: P \" as E14  <<(T,blue) port>> [[psysml:b5c2279c-6642-492b-a6cf-19efab06e689 ]] {\r\n",
       "}\r\n",
       "comp usage \"p2: ~P \" as E15  <<(T,blue) port>> [[psysml:ed6b3600-9f65-4ffd-a058-1200daf10699 ]] {\r\n",
       "}\r\n",
       "}\r\n",
       "E3 o- - \"1\"E4 [[psysml:301fc48c-20ce-4bfe-ac1d-96f5db6094d0 ]] \r\n",
       "E4 - -:|> E2 [[psysml:2658e44c-8270-4dd2-9600-daf649b69d41 ]] \r\n",
       "E3 o- - \"1\"E5 [[psysml:223fd842-0df9-4bd0-ad12-80c4696f3c55 ]] \r\n",
       "E6 o- - \"1\"E7 [[psysml:21746d6a-6182-4390-ad27-ac5c9b62bfbf ]] \r\n",
       "E7 - -:|> E2 [[psysml:ac292376-6896-4173-b580-fb46e7ca2b11 ]] \r\n",
       "E6 o- - \"1\"E8 [[psysml:0a911d69-2e8c-46c6-ac57-f08740e1c2a7 ]] \r\n",
       "E9 o- - \"1\"E10 [[psysml:7a6ef9a5-ee54-4bad-bee0-b6cd150b3ba6 ]] \r\n",
       "E10 - -:|> E2 [[psysml:1b1dbb40-b684-43d5-9e90-095d8f580599 ]] \r\n",
       "E9 o- - \"1\"E11 [[psysml:26e0bda0-b5f1-463e-8de4-6289f85dc961 ]] \r\n",
       "E12 *- - \"1\"E13 [[psysml:b5605e58-b315-4dd3-8e84-581a703b4e2b ]] \r\n",
       "E13 o- - \"1\"E14 [[psysml:db42b499-220f-4c1a-8731-eb36b8c82e1e ]] \r\n",
       "E14 - -:|> E2 [[psysml:7155c58b-23e7-41d9-a472-3863cff0084f ]] \r\n",
       "E13 o- - \"1\"E15 [[psysml:2699a371-802b-44a3-9d88-da30e2130afc ]] \r\n",
       "E14 -[thickness=3]- E15 [[psysml:1d4c99f1-723b-47e9-b0a9-a2cf4f06711c ]] \r\n",
       "E14 -[thickness=3]- E15 [[psysml:99ef5f64-108a-4414-ad16-a52f47db38b7 ]] \r\n",
       "@enduml\r\n",
       "\n",
       "PlantUML version 1.2020.13(Sat Jun 13 12:26:38 UTC 2020)\n",
       "(EPL source distribution)\n",
       "Java Runtime: OpenJDK Runtime Environment\n",
       "JVM: OpenJDK 64-Bit Server VM\n",
       "Default Encoding: UTF-8\n",
       "Language: en\n",
       "Country: null\n",
       "--></g></svg>"
      ]
     },
     "execution_count": 52,
     "metadata": {},
     "output_type": "execute_result"
    }
   ],
   "source": [
    "%viz --style=\"ORTHOLINE\" --view=\"Tree\" \"ConjugationTest\""
   ]
  },
  {
   "cell_type": "code",
   "execution_count": 53,
   "id": "c81ebd46",
   "metadata": {
    "execution": {
     "iopub.execute_input": "2022-02-18T10:47:48.412316Z",
     "iopub.status.busy": "2022-02-18T10:47:48.411826Z",
     "iopub.status.idle": "2022-02-18T10:47:48.416276Z",
     "shell.execute_reply": "2022-02-18T10:47:48.415934Z"
    }
   },
   "outputs": [
    {
     "data": {
      "image/svg+xml": [
       "<?xml version=\"1.0\" encoding=\"UTF-8\" standalone=\"no\"?><svg xmlns=\"http://www.w3.org/2000/svg\" xmlns:xlink=\"http://www.w3.org/1999/xlink\" contentScriptType=\"application/ecmascript\" contentStyleType=\"text/css\" height=\"12px\" preserveAspectRatio=\"none\" style=\"width:12px;height:12px;\" version=\"1.1\" viewBox=\"0 0 12 12\" width=\"12px\" zoomAndPan=\"magnify\"><defs/><g><!--MD5=[97d6f38768b311333d388e66b2b27985]\n",
       "@startuml\r\n",
       "skinparam linetype ortho\r\n",
       "skinparam monochrome true\r\n",
       "skinparam classbackgroundcolor white\r\n",
       "skinparam shadowing false\r\n",
       "skinparam wrapWidth 300\r\n",
       "hide circle\r\n",
       "\r\n",
       "@enduml\r\n",
       "\n",
       "PlantUML version 1.2020.13(Sat Jun 13 12:26:38 UTC 2020)\n",
       "(EPL source distribution)\n",
       "Java Runtime: OpenJDK Runtime Environment\n",
       "JVM: OpenJDK 64-Bit Server VM\n",
       "Default Encoding: UTF-8\n",
       "Language: en\n",
       "Country: null\n",
       "--></g></svg>"
      ]
     },
     "execution_count": 53,
     "metadata": {},
     "output_type": "execute_result"
    }
   ],
   "source": [
    "%viz --style=\"ORTHOLINE\" --view=\"State\" \"ConjugationTest\""
   ]
  },
  {
   "cell_type": "code",
   "execution_count": 54,
   "id": "c5588b64",
   "metadata": {
    "execution": {
     "iopub.execute_input": "2022-02-18T10:47:48.465955Z",
     "iopub.status.busy": "2022-02-18T10:47:48.465543Z",
     "iopub.status.idle": "2022-02-18T10:47:48.509642Z",
     "shell.execute_reply": "2022-02-18T10:47:48.507907Z"
    }
   },
   "outputs": [
    {
     "data": {
      "image/svg+xml": [
       "<?xml version=\"1.0\" encoding=\"UTF-8\" standalone=\"no\"?><svg xmlns=\"http://www.w3.org/2000/svg\" xmlns:xlink=\"http://www.w3.org/1999/xlink\" contentScriptType=\"application/ecmascript\" contentStyleType=\"text/css\" height=\"246px\" preserveAspectRatio=\"none\" style=\"width:753px;height:246px;\" version=\"1.1\" viewBox=\"0 0 753 246\" width=\"753px\" zoomAndPan=\"magnify\"><defs/><g><!--MD5=[fbc87193dbaf4d95561dea2c320d4a47]\n",
       "cluster E1--><a href=\"psysml:62f2acf4-862e-4777-8380-6adbdab8aa3b\" target=\"_top\" title=\"psysml:62f2acf4-862e-4777-8380-6adbdab8aa3b\" xlink:actuate=\"onRequest\" xlink:href=\"psysml:62f2acf4-862e-4777-8380-6adbdab8aa3b\" xlink:show=\"new\" xlink:title=\"psysml:62f2acf4-862e-4777-8380-6adbdab8aa3b\" xlink:type=\"simple\"><polygon fill=\"#FFFFFF\" points=\"16,6,136,6,143,28.2969,731,28.2969,731,234.5,16,234.5,16,6\" style=\"stroke: #000000; stroke-width: 1.5;\"/><line style=\"stroke: #000000; stroke-width: 1.5;\" x1=\"16\" x2=\"143\" y1=\"28.2969\" y2=\"28.2969\"/><text fill=\"#000000\" font-family=\"sans-serif\" font-size=\"14\" font-weight=\"bold\" lengthAdjust=\"spacingAndGlyphs\" textLength=\"114\" x=\"20\" y=\"20.9951\">ConjugationTest</text></a><!--MD5=[d5e69f78d87373223dbae638b30a9c99]\n",
       "cluster E3--><a href=\"psysml:eb00d253-98ff-4ea5-9d4b-40f483d849ec\" target=\"_top\" title=\"psysml:eb00d253-98ff-4ea5-9d4b-40f483d849ec\" xlink:actuate=\"onRequest\" xlink:href=\"psysml:eb00d253-98ff-4ea5-9d4b-40f483d849ec\" xlink:show=\"new\" xlink:title=\"psysml:eb00d253-98ff-4ea5-9d4b-40f483d849ec\" xlink:type=\"simple\"><rect fill=\"#FFFFFF\" height=\"88.5\" id=\"E3\" style=\"stroke: #383838; stroke-width: 1.5;\" width=\"85\" x=\"588\" y=\"114\"/><rect fill=\"#F8F8F8\" height=\"37.9375\" style=\"stroke: #383838; stroke-width: 1.5;\" width=\"85\" x=\"588\" y=\"114\"/><text fill=\"#000000\" font-family=\"sans-serif\" font-size=\"12\" font-style=\"italic\" lengthAdjust=\"spacingAndGlyphs\" textLength=\"68\" x=\"596.5\" y=\"130.1387\">«part  def»</text><text fill=\"#000000\" font-family=\"sans-serif\" font-size=\"12\" lengthAdjust=\"spacingAndGlyphs\" textLength=\"8\" x=\"626.5\" y=\"144.1074\">B</text></a><!--MD5=[14e3b0961a2654348d326746436168a1]\n",
       "cluster E6--><a href=\"psysml:c9adf55d-1d58-41e7-9c8f-305f1a380a4f\" target=\"_top\" title=\"psysml:c9adf55d-1d58-41e7-9c8f-305f1a380a4f\" xlink:actuate=\"onRequest\" xlink:href=\"psysml:c9adf55d-1d58-41e7-9c8f-305f1a380a4f\" xlink:show=\"new\" xlink:title=\"psysml:c9adf55d-1d58-41e7-9c8f-305f1a380a4f\" xlink:type=\"simple\"><rect fill=\"#FFFFFF\" height=\"88.5\" id=\"E6\" style=\"stroke: #383838; stroke-width: 1.5;\" width=\"152\" x=\"431\" y=\"114\"/><rect fill=\"#F8F8F8\" height=\"37.9375\" style=\"stroke: #383838; stroke-width: 1.5;\" width=\"152\" x=\"431\" y=\"114\"/><text fill=\"#000000\" font-family=\"sans-serif\" font-size=\"12\" font-style=\"italic\" lengthAdjust=\"spacingAndGlyphs\" textLength=\"112\" x=\"451\" y=\"130.1387\">«connection  def»</text><text fill=\"#000000\" font-family=\"sans-serif\" font-size=\"12\" lengthAdjust=\"spacingAndGlyphs\" textLength=\"8\" x=\"503\" y=\"144.1074\">A</text></a><!--MD5=[7f149f147074ac12df2cb0a7728a5fb0]\n",
       "cluster E9--><a href=\"psysml:909b1fdd-cad7-4fe7-8f0f-a5ae3fa3dd03\" target=\"_top\" title=\"psysml:909b1fdd-cad7-4fe7-8f0f-a5ae3fa3dd03\" xlink:actuate=\"onRequest\" xlink:href=\"psysml:909b1fdd-cad7-4fe7-8f0f-a5ae3fa3dd03\" xlink:show=\"new\" xlink:title=\"psysml:909b1fdd-cad7-4fe7-8f0f-a5ae3fa3dd03\" xlink:type=\"simple\"><rect fill=\"#FFFFFF\" height=\"88.5\" id=\"E9\" style=\"stroke: #383838; stroke-width: 1.5;\" width=\"143\" x=\"258\" y=\"114\"/><rect fill=\"#F8F8F8\" height=\"37.9375\" style=\"stroke: #383838; stroke-width: 1.5;\" width=\"143\" x=\"258\" y=\"114\"/><text fill=\"#000000\" font-family=\"sans-serif\" font-size=\"12\" font-style=\"italic\" lengthAdjust=\"spacingAndGlyphs\" textLength=\"98\" x=\"280.5\" y=\"130.1387\">«interface  def»</text><text fill=\"#000000\" font-family=\"sans-serif\" font-size=\"12\" lengthAdjust=\"spacingAndGlyphs\" textLength=\"3\" x=\"328\" y=\"144.1074\">I</text></a><!--MD5=[47bea60c1a0ac6c1143df232041969c0]\n",
       "cluster E12--><a href=\"psysml:c2ec72d4-85fe-4c8d-a549-b327df7a4c85\" target=\"_top\" title=\"psysml:c2ec72d4-85fe-4c8d-a549-b327df7a4c85\" xlink:actuate=\"onRequest\" xlink:href=\"psysml:c2ec72d4-85fe-4c8d-a549-b327df7a4c85\" xlink:show=\"new\" xlink:title=\"psysml:c2ec72d4-85fe-4c8d-a549-b327df7a4c85\" xlink:type=\"simple\"><rect fill=\"#FFFFFF\" height=\"161.5\" id=\"E12\" style=\"stroke: #383838; stroke-width: 1.5;\" width=\"107\" x=\"122\" y=\"49\"/><rect fill=\"#F8F8F8\" height=\"37.9375\" style=\"stroke: #383838; stroke-width: 1.5;\" width=\"107\" x=\"122\" y=\"49\"/><text fill=\"#000000\" font-family=\"sans-serif\" font-size=\"12\" font-style=\"italic\" lengthAdjust=\"spacingAndGlyphs\" textLength=\"68\" x=\"141.5\" y=\"65.1387\">«part  def»</text><text fill=\"#000000\" font-family=\"sans-serif\" font-size=\"12\" lengthAdjust=\"spacingAndGlyphs\" textLength=\"16\" x=\"167.5\" y=\"79.1074\">B1</text></a><!--MD5=[03104f77b71e2d8d3500c651e6e31181]\n",
       "cluster E13--><a href=\"psysml:bf56b714-b103-43c5-844a-64ae22bea297\" target=\"_top\" title=\"psysml:bf56b714-b103-43c5-844a-64ae22bea297\" xlink:actuate=\"onRequest\" xlink:href=\"psysml:bf56b714-b103-43c5-844a-64ae22bea297\" xlink:show=\"new\" xlink:title=\"psysml:bf56b714-b103-43c5-844a-64ae22bea297\" xlink:type=\"simple\"><rect fill=\"#FFFFFF\" height=\"80.5\" id=\"E13\" rx=\"10\" ry=\"10\" style=\"stroke: #383838; stroke-width: 1.5;\" width=\"83\" x=\"134\" y=\"114\"/><rect fill=\"#F8F8F8\" height=\"23.9688\" rx=\"10\" ry=\"10\" style=\"stroke: #F8F8F8; stroke-width: 1.5;\" width=\"83\" x=\"134\" y=\"114\"/><rect fill=\"#F8F8F8\" height=\"10\" style=\"stroke: #F8F8F8; stroke-width: 1.5;\" width=\"83\" x=\"134\" y=\"127.9688\"/><rect fill=\"none\" height=\"80.5\" id=\"E13\" rx=\"10\" ry=\"10\" style=\"stroke: #383838; stroke-width: 1.5;\" width=\"83\" x=\"134\" y=\"114\"/><text fill=\"#000000\" font-family=\"sans-serif\" font-size=\"12\" lengthAdjust=\"spacingAndGlyphs\" textLength=\"8\" x=\"171.5\" y=\"130.1387\">p</text><line style=\"stroke: #383838; stroke-width: 1.0;\" x1=\"134\" x2=\"217\" y1=\"137.9688\" y2=\"137.9688\"/></a><g id=\"E1.E2\"><a href=\"psysml:8038ba5e-65f3-4a7c-a5d9-05577a1e913e\" target=\"_top\" title=\"psysml:8038ba5e-65f3-4a7c-a5d9-05577a1e913e\" xlink:actuate=\"onRequest\" xlink:href=\"psysml:8038ba5e-65f3-4a7c-a5d9-05577a1e913e\" xlink:show=\"new\" xlink:title=\"psysml:8038ba5e-65f3-4a7c-a5d9-05577a1e913e\" xlink:type=\"simple\"><rect fill=\"#FFFFFF\" height=\"42.9375\" id=\"E2\" style=\"stroke: #383838; stroke-width: 1.5;\" width=\"75\" x=\"31.5\" y=\"92.5\"/><rect fill=\"#F8F8F8\" height=\"37.9375\" style=\"stroke: #383838; stroke-width: 1.5;\" width=\"75\" x=\"31.5\" y=\"92.5\"/><text fill=\"#000000\" font-family=\"sans-serif\" font-size=\"12\" font-style=\"italic\" lengthAdjust=\"spacingAndGlyphs\" textLength=\"68\" x=\"35\" y=\"108.6387\">«port  def»</text><text fill=\"#000000\" font-family=\"sans-serif\" font-size=\"12\" lengthAdjust=\"spacingAndGlyphs\" textLength=\"8\" x=\"65\" y=\"122.6074\">P</text></a></g><text fill=\"#000000\" font-family=\"sans-serif\" font-size=\"14\" lengthAdjust=\"spacingAndGlyphs\" textLength=\"36\" x=\"586\" y=\"92.6982\">p1: P</text><rect fill=\"#383838\" height=\"12\" style=\"stroke: #F8F8F8; stroke-width: 1.5;\" width=\"12\" x=\"600\" y=\"108\"/><text fill=\"#000000\" font-family=\"sans-serif\" font-size=\"14\" lengthAdjust=\"spacingAndGlyphs\" textLength=\"48\" x=\"627\" y=\"92.6982\">p2: ~P</text><rect fill=\"#383838\" height=\"12\" style=\"stroke: #F8F8F8; stroke-width: 1.5;\" width=\"12\" x=\"647\" y=\"108\"/><text fill=\"#000000\" font-family=\"sans-serif\" font-size=\"14\" lengthAdjust=\"spacingAndGlyphs\" textLength=\"36\" x=\"429\" y=\"92.6982\">p1: P</text><rect fill=\"#383838\" height=\"12\" style=\"stroke: #F8F8F8; stroke-width: 1.5;\" width=\"12\" x=\"443\" y=\"108\"/><text fill=\"#000000\" font-family=\"sans-serif\" font-size=\"14\" lengthAdjust=\"spacingAndGlyphs\" textLength=\"48\" x=\"470\" y=\"92.6982\">p2: ~P</text><rect fill=\"#383838\" height=\"12\" style=\"stroke: #F8F8F8; stroke-width: 1.5;\" width=\"12\" x=\"490\" y=\"108\"/><text fill=\"#000000\" font-family=\"sans-serif\" font-size=\"14\" lengthAdjust=\"spacingAndGlyphs\" textLength=\"36\" x=\"256\" y=\"92.6982\">p1: P</text><rect fill=\"#383838\" height=\"12\" style=\"stroke: #F8F8F8; stroke-width: 1.5;\" width=\"12\" x=\"270\" y=\"108\"/><text fill=\"#000000\" font-family=\"sans-serif\" font-size=\"14\" lengthAdjust=\"spacingAndGlyphs\" textLength=\"48\" x=\"297\" y=\"92.6982\">p2: ~P</text><rect fill=\"#383838\" height=\"12\" style=\"stroke: #F8F8F8; stroke-width: 1.5;\" width=\"12\" x=\"317\" y=\"108\"/><text fill=\"#000000\" font-family=\"sans-serif\" font-size=\"14\" lengthAdjust=\"spacingAndGlyphs\" textLength=\"36\" x=\"132\" y=\"92.6982\">p1: P</text><rect fill=\"#383838\" height=\"12\" style=\"stroke: #F8F8F8; stroke-width: 1.5;\" width=\"12\" x=\"146\" y=\"108\"/><text fill=\"#000000\" font-family=\"sans-serif\" font-size=\"14\" lengthAdjust=\"spacingAndGlyphs\" textLength=\"48\" x=\"173\" y=\"92.6982\">p2: ~P</text><rect fill=\"#383838\" height=\"12\" style=\"stroke: #F8F8F8; stroke-width: 1.5;\" width=\"12\" x=\"193\" y=\"108\"/><!--MD5=[3afbdc645381407e1bc99677323a2513]\n",
       "link E14 to E15--><a href=\"psysml:1d4c99f1-723b-47e9-b0a9-a2cf4f06711c\" target=\"_top\" title=\"psysml:1d4c99f1-723b-47e9-b0a9-a2cf4f06711c\" xlink:actuate=\"onRequest\" xlink:href=\"psysml:1d4c99f1-723b-47e9-b0a9-a2cf4f06711c\" xlink:show=\"new\" xlink:title=\"psysml:1d4c99f1-723b-47e9-b0a9-a2cf4f06711c\" xlink:type=\"simple\"><path d=\"M158.14,114.5 C167.1,114.5 183.66,114.5 192.7,114.5 \" fill=\"none\" id=\"E14-E15\" style=\"stroke: #383838; stroke-width: 3.0;\"/></a><!--MD5=[3afbdc645381407e1bc99677323a2513]\n",
       "link E14 to E15--><a href=\"psysml:99ef5f64-108a-4414-ad16-a52f47db38b7\" target=\"_top\" title=\"psysml:99ef5f64-108a-4414-ad16-a52f47db38b7\" xlink:actuate=\"onRequest\" xlink:href=\"psysml:99ef5f64-108a-4414-ad16-a52f47db38b7\" xlink:show=\"new\" xlink:title=\"psysml:99ef5f64-108a-4414-ad16-a52f47db38b7\" xlink:type=\"simple\"><path d=\"M158.14,117.5 C167.1,117.5 183.66,117.5 192.7,117.5 \" fill=\"none\" id=\"E14-E15-1\" style=\"stroke: #383838; stroke-width: 3.0;\"/></a><!--MD5=[c262f9938bb94635e1913069197c4229]\n",
       "@startuml\r\n",
       "skinparam ranksep 10\r\n",
       "skinparam rectangle {\r\n",
       " backgroundColor<<block>> LightGreen\r\n",
       "}\r\n",
       "skinparam linetype ortho\r\n",
       "skinparam monochrome true\r\n",
       "skinparam classbackgroundcolor white\r\n",
       "skinparam shadowing false\r\n",
       "skinparam wrapWidth 300\r\n",
       "hide circle\r\n",
       "\r\n",
       "package \"ConjugationTest\" as E1  [[psysml:62f2acf4-862e-4777-8380-6adbdab8aa3b ]]  {\r\n",
       "def \"P\" as E2  <<(T,blue) port  def>> [[psysml:8038ba5e-65f3-4a7c-a5d9-05577a1e913e ]] \r\n",
       "rec def \"B\" as E3  <<(T,blue) part  def>> [[psysml:eb00d253-98ff-4ea5-9d4b-40f483d849ec ]] {\r\n",
       "portin \"p1: P \" as E4  <<(T,blue) port>> [[psysml:bd11b2df-eb92-4507-bbbb-c6493b57fcfa ]] \r\n",
       "portin \"p2: ~P \" as E5  <<(T,blue) port>> [[psysml:0cbe2724-4b46-4325-902f-a8a483156696 ]] \r\n",
       "}\r\n",
       "rec def \"A\" as E6  <<(T,blue) connection  def>> [[psysml:c9adf55d-1d58-41e7-9c8f-305f1a380a4f ]] {\r\n",
       "portin \"p1: P \" as E7  <<(T,blue) port>> [[psysml:62009ff7-c341-4e72-a056-ce92de09505b ]] \r\n",
       "portin \"p2: ~P \" as E8  <<(T,blue) port>> [[psysml:50db7d15-a467-4fc6-8fb9-d943e9708b48 ]] \r\n",
       "}\r\n",
       "rec def \"I\" as E9  <<(T,blue) interface  def>> [[psysml:909b1fdd-cad7-4fe7-8f0f-a5ae3fa3dd03 ]] {\r\n",
       "portin \"p1: P \" as E10  <<(T,blue) port>> [[psysml:4b05cf72-e027-47da-9c90-b867da4c93e0 ]] \r\n",
       "portin \"p2: ~P \" as E11  <<(T,blue) port>> [[psysml:0c24ab80-75a0-44e9-976a-962e4e9af685 ]] \r\n",
       "}\r\n",
       "rec def \"B1\" as E12  <<(T,blue) part  def>> [[psysml:c2ec72d4-85fe-4c8d-a549-b327df7a4c85 ]] {\r\n",
       "rec usage \"p\" as E13  [[psysml:bf56b714-b103-43c5-844a-64ae22bea297 ]] {\r\n",
       "portin \"p1: P \" as E14  <<(T,blue) port>> [[psysml:b5c2279c-6642-492b-a6cf-19efab06e689 ]] \r\n",
       "portin \"p2: ~P \" as E15  <<(T,blue) port>> [[psysml:ed6b3600-9f65-4ffd-a058-1200daf10699 ]] \r\n",
       "}\r\n",
       "}\r\n",
       "}\r\n",
       "E14 -[thickness=3]- E15 [[psysml:1d4c99f1-723b-47e9-b0a9-a2cf4f06711c ]] \r\n",
       "E14 -[thickness=3]- E15 [[psysml:99ef5f64-108a-4414-ad16-a52f47db38b7 ]] \r\n",
       "@enduml\r\n",
       "\n",
       "PlantUML version 1.2020.13(Sat Jun 13 12:26:38 UTC 2020)\n",
       "(EPL source distribution)\n",
       "Java Runtime: OpenJDK Runtime Environment\n",
       "JVM: OpenJDK 64-Bit Server VM\n",
       "Default Encoding: UTF-8\n",
       "Language: en\n",
       "Country: null\n",
       "--></g></svg>"
      ]
     },
     "execution_count": 54,
     "metadata": {},
     "output_type": "execute_result"
    }
   ],
   "source": [
    "%viz --style=\"ORTHOLINE\" --view=\"Interconnection\" \"ConjugationTest\""
   ]
  },
  {
   "cell_type": "code",
   "execution_count": 55,
   "id": "a80d4f2c",
   "metadata": {
    "execution": {
     "iopub.execute_input": "2022-02-18T10:47:48.558614Z",
     "iopub.status.busy": "2022-02-18T10:47:48.558201Z",
     "iopub.status.idle": "2022-02-18T10:47:48.563026Z",
     "shell.execute_reply": "2022-02-18T10:47:48.562675Z"
    }
   },
   "outputs": [
    {
     "data": {
      "image/svg+xml": [
       "<?xml version=\"1.0\" encoding=\"UTF-8\" standalone=\"no\"?><svg xmlns=\"http://www.w3.org/2000/svg\" xmlns:xlink=\"http://www.w3.org/1999/xlink\" contentScriptType=\"application/ecmascript\" contentStyleType=\"text/css\" height=\"12px\" preserveAspectRatio=\"none\" style=\"width:12px;height:12px;\" version=\"1.1\" viewBox=\"0 0 12 12\" width=\"12px\" zoomAndPan=\"magnify\"><defs/><g><!--MD5=[72934c63077099a26744516a776b4749]\n",
       "@startuml\r\n",
       "skinparam ranksep 8\r\n",
       "skinparam linetype ortho\r\n",
       "skinparam monochrome true\r\n",
       "skinparam classbackgroundcolor white\r\n",
       "skinparam shadowing false\r\n",
       "skinparam wrapWidth 300\r\n",
       "hide circle\r\n",
       "\r\n",
       "@enduml\r\n",
       "\n",
       "PlantUML version 1.2020.13(Sat Jun 13 12:26:38 UTC 2020)\n",
       "(EPL source distribution)\n",
       "Java Runtime: OpenJDK Runtime Environment\n",
       "JVM: OpenJDK 64-Bit Server VM\n",
       "Default Encoding: UTF-8\n",
       "Language: en\n",
       "Country: null\n",
       "--></g></svg>"
      ]
     },
     "execution_count": 55,
     "metadata": {},
     "output_type": "execute_result"
    }
   ],
   "source": [
    "%viz --style=\"ORTHOLINE\" --view=\"Action\" \"ConjugationTest\""
   ]
  },
  {
   "cell_type": "code",
   "execution_count": 56,
   "id": "7af928bc",
   "metadata": {
    "execution": {
     "iopub.execute_input": "2022-02-18T10:47:48.612786Z",
     "iopub.status.busy": "2022-02-18T10:47:48.612391Z",
     "iopub.status.idle": "2022-02-18T10:47:48.617364Z",
     "shell.execute_reply": "2022-02-18T10:47:48.617040Z"
    }
   },
   "outputs": [
    {
     "data": {
      "image/svg+xml": [
       "<?xml version=\"1.0\" encoding=\"UTF-8\" standalone=\"no\"?><svg xmlns=\"http://www.w3.org/2000/svg\" xmlns:xlink=\"http://www.w3.org/1999/xlink\" contentScriptType=\"application/ecmascript\" contentStyleType=\"text/css\" height=\"12px\" preserveAspectRatio=\"none\" style=\"width:12px;height:12px;\" version=\"1.1\" viewBox=\"0 0 12 12\" width=\"12px\" zoomAndPan=\"magnify\"><defs/><g><!--MD5=[30fc1de5121c5abddedd55b44417fde8]\n",
       "@startuml\r\n",
       "skinparam roundcorner 20\r\n",
       "skinparam BoxPadding 20\r\n",
       "skinparam SequenceBoxBackgroundColor #white\r\n",
       "skinparam style strictuml\r\n",
       "skinparam maxMessageSize 100\r\n",
       "skinparam linetype ortho\r\n",
       "skinparam monochrome true\r\n",
       "skinparam classbackgroundcolor white\r\n",
       "skinparam shadowing false\r\n",
       "skinparam wrapWidth 300\r\n",
       "hide circle\r\n",
       "\r\n",
       "@enduml\r\n",
       "\n",
       "PlantUML version 1.2020.13(Sat Jun 13 12:26:38 UTC 2020)\n",
       "(EPL source distribution)\n",
       "Java Runtime: OpenJDK Runtime Environment\n",
       "JVM: OpenJDK 64-Bit Server VM\n",
       "Default Encoding: UTF-8\n",
       "Language: en\n",
       "Country: null\n",
       "--></g></svg>"
      ]
     },
     "execution_count": 56,
     "metadata": {},
     "output_type": "execute_result"
    }
   ],
   "source": [
    "%viz --style=\"ORTHOLINE\" --view=\"Sequence\" \"ConjugationTest\""
   ]
  },
  {
   "cell_type": "code",
   "execution_count": 57,
   "id": "9fd82e01",
   "metadata": {
    "execution": {
     "iopub.execute_input": "2022-02-18T10:47:48.667311Z",
     "iopub.status.busy": "2022-02-18T10:47:48.666910Z",
     "iopub.status.idle": "2022-02-18T10:47:48.713640Z",
     "shell.execute_reply": "2022-02-18T10:47:48.712089Z"
    }
   },
   "outputs": [
    {
     "data": {
      "image/svg+xml": [
       "<?xml version=\"1.0\" encoding=\"UTF-8\" standalone=\"no\"?><svg xmlns=\"http://www.w3.org/2000/svg\" xmlns:xlink=\"http://www.w3.org/1999/xlink\" contentScriptType=\"application/ecmascript\" contentStyleType=\"text/css\" height=\"433px\" preserveAspectRatio=\"none\" style=\"width:641px;height:433px;\" version=\"1.1\" viewBox=\"0 0 641 433\" width=\"641px\" zoomAndPan=\"magnify\"><defs/><g><!--MD5=[fbc87193dbaf4d95561dea2c320d4a47]\n",
       "cluster E1--><a href=\"psysml:62f2acf4-862e-4777-8380-6adbdab8aa3b\" target=\"_top\" title=\"psysml:62f2acf4-862e-4777-8380-6adbdab8aa3b\" xlink:actuate=\"onRequest\" xlink:href=\"psysml:62f2acf4-862e-4777-8380-6adbdab8aa3b\" xlink:show=\"new\" xlink:title=\"psysml:62f2acf4-862e-4777-8380-6adbdab8aa3b\" xlink:type=\"simple\"><polygon fill=\"#FFFFFF\" points=\"16,6,136,6,143,28.2969,619,28.2969,619,421,16,421,16,6\" style=\"stroke: #000000; stroke-width: 1.5;\"/><line style=\"stroke: #000000; stroke-width: 1.5;\" x1=\"16\" x2=\"143\" y1=\"28.2969\" y2=\"28.2969\"/><text fill=\"#000000\" font-family=\"sans-serif\" font-size=\"14\" font-weight=\"bold\" lengthAdjust=\"spacingAndGlyphs\" textLength=\"114\" x=\"20\" y=\"20.9951\">ConjugationTest</text></a><!--MD5=[b4997ac47864f28c2f74865a473b2911]\n",
       "class E2--><a href=\"psysml:8038ba5e-65f3-4a7c-a5d9-05577a1e913e\" target=\"_top\" title=\"psysml:8038ba5e-65f3-4a7c-a5d9-05577a1e913e\" xlink:actuate=\"onRequest\" xlink:href=\"psysml:8038ba5e-65f3-4a7c-a5d9-05577a1e913e\" xlink:show=\"new\" xlink:title=\"psysml:8038ba5e-65f3-4a7c-a5d9-05577a1e913e\" xlink:type=\"simple\"><rect fill=\"#FFFFFF\" height=\"45.9375\" id=\"E2\" style=\"stroke: #383838; stroke-width: 1.5;\" width=\"70\" x=\"223\" y=\"359\"/><text fill=\"#000000\" font-family=\"sans-serif\" font-size=\"12\" font-style=\"italic\" lengthAdjust=\"spacingAndGlyphs\" textLength=\"68\" x=\"224\" y=\"375.1387\">«port  def»</text><text fill=\"#000000\" font-family=\"sans-serif\" font-size=\"12\" lengthAdjust=\"spacingAndGlyphs\" textLength=\"8\" x=\"254\" y=\"389.1074\">P</text><line style=\"stroke: #383838; stroke-width: 1.5;\" x1=\"224\" x2=\"292\" y1=\"396.9375\" y2=\"396.9375\"/></a><!--MD5=[09b614a08d8cba4a07c9adeb5e0fee81]\n",
       "class E3--><a href=\"psysml:eb00d253-98ff-4ea5-9d4b-40f483d849ec\" target=\"_top\" title=\"psysml:eb00d253-98ff-4ea5-9d4b-40f483d849ec\" xlink:actuate=\"onRequest\" xlink:href=\"psysml:eb00d253-98ff-4ea5-9d4b-40f483d849ec\" xlink:show=\"new\" xlink:title=\"psysml:eb00d253-98ff-4ea5-9d4b-40f483d849ec\" xlink:type=\"simple\"><rect fill=\"#FFFFFF\" height=\"45.9375\" id=\"E3\" style=\"stroke: #383838; stroke-width: 1.5;\" width=\"70\" x=\"496\" y=\"147\"/><text fill=\"#000000\" font-family=\"sans-serif\" font-size=\"12\" font-style=\"italic\" lengthAdjust=\"spacingAndGlyphs\" textLength=\"68\" x=\"497\" y=\"163.1387\">«part  def»</text><text fill=\"#000000\" font-family=\"sans-serif\" font-size=\"12\" lengthAdjust=\"spacingAndGlyphs\" textLength=\"8\" x=\"527\" y=\"177.1074\">B</text><line style=\"stroke: #383838; stroke-width: 1.5;\" x1=\"497\" x2=\"565\" y1=\"184.9375\" y2=\"184.9375\"/></a><!--MD5=[ebbe1d658d1005bcc118a6aa81145e00]\n",
       "class E4--><a href=\"psysml:bd11b2df-eb92-4507-bbbb-c6493b57fcfa\" target=\"_top\" title=\"psysml:bd11b2df-eb92-4507-bbbb-c6493b57fcfa\" xlink:actuate=\"onRequest\" xlink:href=\"psysml:bd11b2df-eb92-4507-bbbb-c6493b57fcfa\" xlink:show=\"new\" xlink:title=\"psysml:bd11b2df-eb92-4507-bbbb-c6493b57fcfa\" xlink:type=\"simple\"><rect fill=\"#FFFFFF\" height=\"45.9375\" id=\"E4\" rx=\"10\" ry=\"10\" style=\"stroke: #383838; stroke-width: 1.5;\" width=\"42\" x=\"474\" y=\"253\"/><text fill=\"#000000\" font-family=\"sans-serif\" font-size=\"12\" font-style=\"italic\" lengthAdjust=\"spacingAndGlyphs\" textLength=\"40\" x=\"475\" y=\"269.1387\">«port»</text><text fill=\"#000000\" font-family=\"sans-serif\" font-size=\"12\" lengthAdjust=\"spacingAndGlyphs\" textLength=\"32\" x=\"477\" y=\"283.1074\">p1: P</text><line style=\"stroke: #383838; stroke-width: 1.5;\" x1=\"475\" x2=\"515\" y1=\"290.9375\" y2=\"290.9375\"/></a><!--MD5=[270fce915f116d4de14055a7c1d9a0f3]\n",
       "class E5--><a href=\"psysml:0cbe2724-4b46-4325-902f-a8a483156696\" target=\"_top\" title=\"psysml:0cbe2724-4b46-4325-902f-a8a483156696\" xlink:actuate=\"onRequest\" xlink:href=\"psysml:0cbe2724-4b46-4325-902f-a8a483156696\" xlink:show=\"new\" xlink:title=\"psysml:0cbe2724-4b46-4325-902f-a8a483156696\" xlink:type=\"simple\"><rect fill=\"#FFFFFF\" height=\"45.9375\" id=\"E5\" rx=\"10\" ry=\"10\" style=\"stroke: #383838; stroke-width: 1.5;\" width=\"52\" x=\"551\" y=\"253\"/><text fill=\"#000000\" font-family=\"sans-serif\" font-size=\"12\" font-style=\"italic\" lengthAdjust=\"spacingAndGlyphs\" textLength=\"40\" x=\"557\" y=\"269.1387\">«port»</text><text fill=\"#000000\" font-family=\"sans-serif\" font-size=\"12\" lengthAdjust=\"spacingAndGlyphs\" textLength=\"42\" x=\"554\" y=\"283.1074\">p2: ~P</text><line style=\"stroke: #383838; stroke-width: 1.5;\" x1=\"552\" x2=\"602\" y1=\"290.9375\" y2=\"290.9375\"/></a><!--MD5=[60a26617385b1d2d0262a64233df1f8d]\n",
       "class E6--><a href=\"psysml:c9adf55d-1d58-41e7-9c8f-305f1a380a4f\" target=\"_top\" title=\"psysml:c9adf55d-1d58-41e7-9c8f-305f1a380a4f\" xlink:actuate=\"onRequest\" xlink:href=\"psysml:c9adf55d-1d58-41e7-9c8f-305f1a380a4f\" xlink:show=\"new\" xlink:title=\"psysml:c9adf55d-1d58-41e7-9c8f-305f1a380a4f\" xlink:type=\"simple\"><rect fill=\"#FFFFFF\" height=\"45.9375\" id=\"E6\" style=\"stroke: #383838; stroke-width: 1.5;\" width=\"114\" x=\"283\" y=\"147\"/><text fill=\"#000000\" font-family=\"sans-serif\" font-size=\"12\" font-style=\"italic\" lengthAdjust=\"spacingAndGlyphs\" textLength=\"112\" x=\"284\" y=\"163.1387\">«connection  def»</text><text fill=\"#000000\" font-family=\"sans-serif\" font-size=\"12\" lengthAdjust=\"spacingAndGlyphs\" textLength=\"8\" x=\"336\" y=\"177.1074\">A</text><line style=\"stroke: #383838; stroke-width: 1.5;\" x1=\"284\" x2=\"396\" y1=\"184.9375\" y2=\"184.9375\"/></a><!--MD5=[2156ba9850f5573cc1fc38a6a4b2f02b]\n",
       "class E7--><a href=\"psysml:62009ff7-c341-4e72-a056-ce92de09505b\" target=\"_top\" title=\"psysml:62009ff7-c341-4e72-a056-ce92de09505b\" xlink:actuate=\"onRequest\" xlink:href=\"psysml:62009ff7-c341-4e72-a056-ce92de09505b\" xlink:show=\"new\" xlink:title=\"psysml:62009ff7-c341-4e72-a056-ce92de09505b\" xlink:type=\"simple\"><rect fill=\"#FFFFFF\" height=\"45.9375\" id=\"E7\" rx=\"10\" ry=\"10\" style=\"stroke: #383838; stroke-width: 1.5;\" width=\"42\" x=\"310\" y=\"253\"/><text fill=\"#000000\" font-family=\"sans-serif\" font-size=\"12\" font-style=\"italic\" lengthAdjust=\"spacingAndGlyphs\" textLength=\"40\" x=\"311\" y=\"269.1387\">«port»</text><text fill=\"#000000\" font-family=\"sans-serif\" font-size=\"12\" lengthAdjust=\"spacingAndGlyphs\" textLength=\"32\" x=\"313\" y=\"283.1074\">p1: P</text><line style=\"stroke: #383838; stroke-width: 1.5;\" x1=\"311\" x2=\"351\" y1=\"290.9375\" y2=\"290.9375\"/></a><!--MD5=[b9389687b975829384b498ac4b7476b2]\n",
       "class E8--><a href=\"psysml:50db7d15-a467-4fc6-8fb9-d943e9708b48\" target=\"_top\" title=\"psysml:50db7d15-a467-4fc6-8fb9-d943e9708b48\" xlink:actuate=\"onRequest\" xlink:href=\"psysml:50db7d15-a467-4fc6-8fb9-d943e9708b48\" xlink:show=\"new\" xlink:title=\"psysml:50db7d15-a467-4fc6-8fb9-d943e9708b48\" xlink:type=\"simple\"><rect fill=\"#FFFFFF\" height=\"45.9375\" id=\"E8\" rx=\"10\" ry=\"10\" style=\"stroke: #383838; stroke-width: 1.5;\" width=\"52\" x=\"387\" y=\"253\"/><text fill=\"#000000\" font-family=\"sans-serif\" font-size=\"12\" font-style=\"italic\" lengthAdjust=\"spacingAndGlyphs\" textLength=\"40\" x=\"393\" y=\"269.1387\">«port»</text><text fill=\"#000000\" font-family=\"sans-serif\" font-size=\"12\" lengthAdjust=\"spacingAndGlyphs\" textLength=\"42\" x=\"390\" y=\"283.1074\">p2: ~P</text><line style=\"stroke: #383838; stroke-width: 1.5;\" x1=\"388\" x2=\"438\" y1=\"290.9375\" y2=\"290.9375\"/></a><!--MD5=[fd4143e9d270a159db93a4ea2a975926]\n",
       "class E9--><a href=\"psysml:909b1fdd-cad7-4fe7-8f0f-a5ae3fa3dd03\" target=\"_top\" title=\"psysml:909b1fdd-cad7-4fe7-8f0f-a5ae3fa3dd03\" xlink:actuate=\"onRequest\" xlink:href=\"psysml:909b1fdd-cad7-4fe7-8f0f-a5ae3fa3dd03\" xlink:show=\"new\" xlink:title=\"psysml:909b1fdd-cad7-4fe7-8f0f-a5ae3fa3dd03\" xlink:type=\"simple\"><rect fill=\"#FFFFFF\" height=\"45.9375\" id=\"E9\" style=\"stroke: #383838; stroke-width: 1.5;\" width=\"100\" x=\"144\" y=\"147\"/><text fill=\"#000000\" font-family=\"sans-serif\" font-size=\"12\" font-style=\"italic\" lengthAdjust=\"spacingAndGlyphs\" textLength=\"98\" x=\"145\" y=\"163.1387\">«interface  def»</text><text fill=\"#000000\" font-family=\"sans-serif\" font-size=\"12\" lengthAdjust=\"spacingAndGlyphs\" textLength=\"3\" x=\"192.5\" y=\"177.1074\">I</text><line style=\"stroke: #383838; stroke-width: 1.5;\" x1=\"145\" x2=\"243\" y1=\"184.9375\" y2=\"184.9375\"/></a><!--MD5=[96f4274e9e20536e775497830990834d]\n",
       "class E10--><a href=\"psysml:4b05cf72-e027-47da-9c90-b867da4c93e0\" target=\"_top\" title=\"psysml:4b05cf72-e027-47da-9c90-b867da4c93e0\" xlink:actuate=\"onRequest\" xlink:href=\"psysml:4b05cf72-e027-47da-9c90-b867da4c93e0\" xlink:show=\"new\" xlink:title=\"psysml:4b05cf72-e027-47da-9c90-b867da4c93e0\" xlink:type=\"simple\"><rect fill=\"#FFFFFF\" height=\"45.9375\" id=\"E10\" rx=\"10\" ry=\"10\" style=\"stroke: #383838; stroke-width: 1.5;\" width=\"42\" x=\"146\" y=\"253\"/><text fill=\"#000000\" font-family=\"sans-serif\" font-size=\"12\" font-style=\"italic\" lengthAdjust=\"spacingAndGlyphs\" textLength=\"40\" x=\"147\" y=\"269.1387\">«port»</text><text fill=\"#000000\" font-family=\"sans-serif\" font-size=\"12\" lengthAdjust=\"spacingAndGlyphs\" textLength=\"32\" x=\"149\" y=\"283.1074\">p1: P</text><line style=\"stroke: #383838; stroke-width: 1.5;\" x1=\"147\" x2=\"187\" y1=\"290.9375\" y2=\"290.9375\"/></a><!--MD5=[1dd1bfd58a279cf63c5f349dbc8fc6a1]\n",
       "class E11--><a href=\"psysml:0c24ab80-75a0-44e9-976a-962e4e9af685\" target=\"_top\" title=\"psysml:0c24ab80-75a0-44e9-976a-962e4e9af685\" xlink:actuate=\"onRequest\" xlink:href=\"psysml:0c24ab80-75a0-44e9-976a-962e4e9af685\" xlink:show=\"new\" xlink:title=\"psysml:0c24ab80-75a0-44e9-976a-962e4e9af685\" xlink:type=\"simple\"><rect fill=\"#FFFFFF\" height=\"45.9375\" id=\"E11\" rx=\"10\" ry=\"10\" style=\"stroke: #383838; stroke-width: 1.5;\" width=\"52\" x=\"223\" y=\"253\"/><text fill=\"#000000\" font-family=\"sans-serif\" font-size=\"12\" font-style=\"italic\" lengthAdjust=\"spacingAndGlyphs\" textLength=\"40\" x=\"229\" y=\"269.1387\">«port»</text><text fill=\"#000000\" font-family=\"sans-serif\" font-size=\"12\" lengthAdjust=\"spacingAndGlyphs\" textLength=\"42\" x=\"226\" y=\"283.1074\">p2: ~P</text><line style=\"stroke: #383838; stroke-width: 1.5;\" x1=\"224\" x2=\"274\" y1=\"290.9375\" y2=\"290.9375\"/></a><!--MD5=[49a0ec8f00dab7302a31f22d0f0fe584]\n",
       "class E12--><a href=\"psysml:c2ec72d4-85fe-4c8d-a549-b327df7a4c85\" target=\"_top\" title=\"psysml:c2ec72d4-85fe-4c8d-a549-b327df7a4c85\" xlink:actuate=\"onRequest\" xlink:href=\"psysml:c2ec72d4-85fe-4c8d-a549-b327df7a4c85\" xlink:show=\"new\" xlink:title=\"psysml:c2ec72d4-85fe-4c8d-a549-b327df7a4c85\" xlink:type=\"simple\"><rect fill=\"#FFFFFF\" height=\"45.9375\" id=\"E12\" style=\"stroke: #383838; stroke-width: 1.5;\" width=\"70\" x=\"45\" y=\"41\"/><text fill=\"#000000\" font-family=\"sans-serif\" font-size=\"12\" font-style=\"italic\" lengthAdjust=\"spacingAndGlyphs\" textLength=\"68\" x=\"46\" y=\"57.1387\">«part  def»</text><text fill=\"#000000\" font-family=\"sans-serif\" font-size=\"12\" lengthAdjust=\"spacingAndGlyphs\" textLength=\"16\" x=\"72\" y=\"71.1074\">B1</text><line style=\"stroke: #383838; stroke-width: 1.5;\" x1=\"46\" x2=\"114\" y1=\"78.9375\" y2=\"78.9375\"/></a><!--MD5=[ee3c913d1a06f366521f9ef512b67efe]\n",
       "class E13--><a href=\"psysml:bf56b714-b103-43c5-844a-64ae22bea297\" target=\"_top\" title=\"psysml:bf56b714-b103-43c5-844a-64ae22bea297\" xlink:actuate=\"onRequest\" xlink:href=\"psysml:bf56b714-b103-43c5-844a-64ae22bea297\" xlink:show=\"new\" xlink:title=\"psysml:bf56b714-b103-43c5-844a-64ae22bea297\" xlink:type=\"simple\"><rect fill=\"#FFFFFF\" height=\"45.9375\" id=\"E13\" rx=\"10\" ry=\"10\" style=\"stroke: #383838; stroke-width: 1.5;\" width=\"42\" x=\"59\" y=\"147\"/><text fill=\"#000000\" font-family=\"sans-serif\" font-size=\"12\" font-style=\"italic\" lengthAdjust=\"spacingAndGlyphs\" textLength=\"40\" x=\"60\" y=\"163.1387\">«part»</text><text fill=\"#000000\" font-family=\"sans-serif\" font-size=\"12\" lengthAdjust=\"spacingAndGlyphs\" textLength=\"8\" x=\"74\" y=\"177.1074\">p</text><line style=\"stroke: #383838; stroke-width: 1.5;\" x1=\"60\" x2=\"100\" y1=\"184.9375\" y2=\"184.9375\"/></a><!--MD5=[bee11217b2f71d958a27249dc326068c]\n",
       "class E14--><a href=\"psysml:b5c2279c-6642-492b-a6cf-19efab06e689\" target=\"_top\" title=\"psysml:b5c2279c-6642-492b-a6cf-19efab06e689\" xlink:actuate=\"onRequest\" xlink:href=\"psysml:b5c2279c-6642-492b-a6cf-19efab06e689\" xlink:show=\"new\" xlink:title=\"psysml:b5c2279c-6642-492b-a6cf-19efab06e689\" xlink:type=\"simple\"><rect fill=\"#FFFFFF\" height=\"45.9375\" id=\"E14\" rx=\"10\" ry=\"10\" style=\"stroke: #383838; stroke-width: 1.5;\" width=\"42\" x=\"69\" y=\"253\"/><text fill=\"#000000\" font-family=\"sans-serif\" font-size=\"12\" font-style=\"italic\" lengthAdjust=\"spacingAndGlyphs\" textLength=\"40\" x=\"70\" y=\"269.1387\">«port»</text><text fill=\"#000000\" font-family=\"sans-serif\" font-size=\"12\" lengthAdjust=\"spacingAndGlyphs\" textLength=\"32\" x=\"72\" y=\"283.1074\">p1: P</text><line style=\"stroke: #383838; stroke-width: 1.5;\" x1=\"70\" x2=\"110\" y1=\"290.9375\" y2=\"290.9375\"/></a><!--MD5=[0c48fb7552dae8cbbef69381101a84c8]\n",
       "class E15--><a href=\"psysml:ed6b3600-9f65-4ffd-a058-1200daf10699\" target=\"_top\" title=\"psysml:ed6b3600-9f65-4ffd-a058-1200daf10699\" xlink:actuate=\"onRequest\" xlink:href=\"psysml:ed6b3600-9f65-4ffd-a058-1200daf10699\" xlink:show=\"new\" xlink:title=\"psysml:ed6b3600-9f65-4ffd-a058-1200daf10699\" xlink:type=\"simple\"><rect fill=\"#FFFFFF\" height=\"45.9375\" id=\"E15\" rx=\"10\" ry=\"10\" style=\"stroke: #383838; stroke-width: 1.5;\" width=\"52\" x=\"64\" y=\"359\"/><text fill=\"#000000\" font-family=\"sans-serif\" font-size=\"12\" font-style=\"italic\" lengthAdjust=\"spacingAndGlyphs\" textLength=\"40\" x=\"70\" y=\"375.1387\">«port»</text><text fill=\"#000000\" font-family=\"sans-serif\" font-size=\"12\" lengthAdjust=\"spacingAndGlyphs\" textLength=\"42\" x=\"67\" y=\"389.1074\">p2: ~P</text><line style=\"stroke: #383838; stroke-width: 1.5;\" x1=\"65\" x2=\"115\" y1=\"396.9375\" y2=\"396.9375\"/></a><!--MD5=[4672eba38e49728da53d11aeb285b987]\n",
       "reverse link E3 to E4--><a href=\"psysml:301fc48c-20ce-4bfe-ac1d-96f5db6094d0\" target=\"_top\" title=\"psysml:301fc48c-20ce-4bfe-ac1d-96f5db6094d0\" xlink:actuate=\"onRequest\" xlink:href=\"psysml:301fc48c-20ce-4bfe-ac1d-96f5db6094d0\" xlink:show=\"new\" xlink:title=\"psysml:301fc48c-20ce-4bfe-ac1d-96f5db6094d0\" xlink:type=\"simple\"><path d=\"M506,206 C506,206 506,252.68 506,252.68 \" fill=\"none\" id=\"E3&lt;-E4\" style=\"stroke: #383838; stroke-width: 1.0;\"/><polygon fill=\"#FFFFFF\" points=\"506,193,502,199,506,205,510,199,506,193\" style=\"stroke: #383838; stroke-width: 1.0;\"/><text fill=\"#000000\" font-family=\"sans-serif\" font-size=\"13\" lengthAdjust=\"spacingAndGlyphs\" textLength=\"8\" x=\"499.7938\" y=\"241.8743\">1</text></a><!--MD5=[185131fc0dcab0a4505a2ebe144e961b]\n",
       "link E4 to E2--><a href=\"psysml:2658e44c-8270-4dd2-9600-daf649b69d41\" target=\"_top\" title=\"psysml:2658e44c-8270-4dd2-9600-daf649b69d41\" xlink:actuate=\"onRequest\" xlink:href=\"psysml:2658e44c-8270-4dd2-9600-daf649b69d41\" xlink:show=\"new\" xlink:title=\"psysml:2658e44c-8270-4dd2-9600-daf649b69d41\" xlink:type=\"simple\"><path d=\"M495,299 C495,330.18 495,382 495,382 C495,382 313.23,382 313.23,382 \" fill=\"none\" id=\"E4-&gt;E2\" style=\"stroke: #383838; stroke-width: 1.0;\"/><polygon fill=\"#FFFFFF\" points=\"293.23,382,312.23,375,312.23,389,293.23,382\" style=\"stroke: #383838; stroke-width: 1.0;\"/><ellipse cx=\"317.93\" cy=\"377\" fill=\"#383838\" rx=\"2\" ry=\"2\" style=\"stroke: #383838; stroke-width: 1.0;\"/><ellipse cx=\"317.93\" cy=\"387\" fill=\"#383838\" rx=\"2\" ry=\"2\" style=\"stroke: #383838; stroke-width: 1.0;\"/></a><!--MD5=[191cde3d490a3f6d7bb551fe3ddca469]\n",
       "reverse link E3 to E5--><a href=\"psysml:223fd842-0df9-4bd0-ad12-80c4696f3c55\" target=\"_top\" title=\"psysml:223fd842-0df9-4bd0-ad12-80c4696f3c55\" xlink:actuate=\"onRequest\" xlink:href=\"psysml:223fd842-0df9-4bd0-ad12-80c4696f3c55\" xlink:show=\"new\" xlink:title=\"psysml:223fd842-0df9-4bd0-ad12-80c4696f3c55\" xlink:type=\"simple\"><path d=\"M558.5,206 C558.5,206 558.5,252.68 558.5,252.68 \" fill=\"none\" id=\"E3&lt;-E5\" style=\"stroke: #383838; stroke-width: 1.0;\"/><polygon fill=\"#FFFFFF\" points=\"558.5,193,554.5,199,558.5,205,562.5,199,558.5,193\" style=\"stroke: #383838; stroke-width: 1.0;\"/><text fill=\"#000000\" font-family=\"sans-serif\" font-size=\"13\" lengthAdjust=\"spacingAndGlyphs\" textLength=\"8\" x=\"544.7344\" y=\"241.8743\">1</text></a><!--MD5=[3f50a3473f1dfb74d3f76443e03635af]\n",
       "reverse link E6 to E7--><a href=\"psysml:21746d6a-6182-4390-ad27-ac5c9b62bfbf\" target=\"_top\" title=\"psysml:21746d6a-6182-4390-ad27-ac5c9b62bfbf\" xlink:actuate=\"onRequest\" xlink:href=\"psysml:21746d6a-6182-4390-ad27-ac5c9b62bfbf\" xlink:show=\"new\" xlink:title=\"psysml:21746d6a-6182-4390-ad27-ac5c9b62bfbf\" xlink:type=\"simple\"><path d=\"M331,206 C331,206 331,252.68 331,252.68 \" fill=\"none\" id=\"E6&lt;-E7\" style=\"stroke: #383838; stroke-width: 1.0;\"/><polygon fill=\"#FFFFFF\" points=\"331,193,327,199,331,205,335,199,331,193\" style=\"stroke: #383838; stroke-width: 1.0;\"/><text fill=\"#000000\" font-family=\"sans-serif\" font-size=\"13\" lengthAdjust=\"spacingAndGlyphs\" textLength=\"8\" x=\"321.975\" y=\"241.8743\">1</text></a><!--MD5=[583832df87f4419a098336a29a52fa00]\n",
       "link E7 to E2--><a href=\"psysml:ac292376-6896-4173-b580-fb46e7ca2b11\" target=\"_top\" title=\"psysml:ac292376-6896-4173-b580-fb46e7ca2b11\" xlink:actuate=\"onRequest\" xlink:href=\"psysml:ac292376-6896-4173-b580-fb46e7ca2b11\" xlink:show=\"new\" xlink:title=\"psysml:ac292376-6896-4173-b580-fb46e7ca2b11\" xlink:type=\"simple\"><path d=\"M309.75,276 C298.92,276 288,276 288,276 C288,276 288,339 288,339 \" fill=\"none\" id=\"E7-&gt;E2\" style=\"stroke: #383838; stroke-width: 1.0;\"/><polygon fill=\"#FFFFFF\" points=\"288,359,281,340,295,340,288,359\" style=\"stroke: #383838; stroke-width: 1.0;\"/><ellipse cx=\"283\" cy=\"334.3\" fill=\"#383838\" rx=\"2\" ry=\"2\" style=\"stroke: #383838; stroke-width: 1.0;\"/><ellipse cx=\"293\" cy=\"334.3\" fill=\"#383838\" rx=\"2\" ry=\"2\" style=\"stroke: #383838; stroke-width: 1.0;\"/></a><!--MD5=[f4cf0736d43fd73c4ef68817c49d37d5]\n",
       "reverse link E6 to E8--><a href=\"psysml:0a911d69-2e8c-46c6-ac57-f08740e1c2a7\" target=\"_top\" title=\"psysml:0a911d69-2e8c-46c6-ac57-f08740e1c2a7\" xlink:actuate=\"onRequest\" xlink:href=\"psysml:0a911d69-2e8c-46c6-ac57-f08740e1c2a7\" xlink:show=\"new\" xlink:title=\"psysml:0a911d69-2e8c-46c6-ac57-f08740e1c2a7\" xlink:type=\"simple\"><path d=\"M392,206 C392,206 392,252.68 392,252.68 \" fill=\"none\" id=\"E6&lt;-E8\" style=\"stroke: #383838; stroke-width: 1.0;\"/><polygon fill=\"#FFFFFF\" points=\"392,193,388,199,392,205,396,199,392,193\" style=\"stroke: #383838; stroke-width: 1.0;\"/><text fill=\"#000000\" font-family=\"sans-serif\" font-size=\"13\" lengthAdjust=\"spacingAndGlyphs\" textLength=\"8\" x=\"377.5938\" y=\"241.8743\">1</text></a><!--MD5=[23ac544a70576c3e717098101004234c]\n",
       "reverse link E9 to E10--><a href=\"psysml:7a6ef9a5-ee54-4bad-bee0-b6cd150b3ba6\" target=\"_top\" title=\"psysml:7a6ef9a5-ee54-4bad-bee0-b6cd150b3ba6\" xlink:actuate=\"onRequest\" xlink:href=\"psysml:7a6ef9a5-ee54-4bad-bee0-b6cd150b3ba6\" xlink:show=\"new\" xlink:title=\"psysml:7a6ef9a5-ee54-4bad-bee0-b6cd150b3ba6\" xlink:type=\"simple\"><path d=\"M167,206 C167,206 167,252.68 167,252.68 \" fill=\"none\" id=\"E9&lt;-E10\" style=\"stroke: #383838; stroke-width: 1.0;\"/><polygon fill=\"#FFFFFF\" points=\"167,193,163,199,167,205,171,199,167,193\" style=\"stroke: #383838; stroke-width: 1.0;\"/><text fill=\"#000000\" font-family=\"sans-serif\" font-size=\"13\" lengthAdjust=\"spacingAndGlyphs\" textLength=\"8\" x=\"157.975\" y=\"241.8743\">1</text></a><!--MD5=[0f36bececdf0dff6e600d6f64214b0f1]\n",
       "link E10 to E2--><a href=\"psysml:1b1dbb40-b684-43d5-9e90-095d8f580599\" target=\"_top\" title=\"psysml:1b1dbb40-b684-43d5-9e90-095d8f580599\" xlink:actuate=\"onRequest\" xlink:href=\"psysml:1b1dbb40-b684-43d5-9e90-095d8f580599\" xlink:show=\"new\" xlink:title=\"psysml:1b1dbb40-b684-43d5-9e90-095d8f580599\" xlink:type=\"simple\"><path d=\"M167,299.21 C167,328.47 167,375 167,375 C167,375 202.82,375 202.82,375 \" fill=\"none\" id=\"E10-&gt;E2\" style=\"stroke: #383838; stroke-width: 1.0;\"/><polygon fill=\"#FFFFFF\" points=\"222.82,375,203.82,382,203.82,368,222.82,375\" style=\"stroke: #383838; stroke-width: 1.0;\"/><ellipse cx=\"198.12\" cy=\"380\" fill=\"#383838\" rx=\"2\" ry=\"2\" style=\"stroke: #383838; stroke-width: 1.0;\"/><ellipse cx=\"198.12\" cy=\"370\" fill=\"#383838\" rx=\"2\" ry=\"2\" style=\"stroke: #383838; stroke-width: 1.0;\"/></a><!--MD5=[1fc04a95fd77ad5ce46c1a3027516051]\n",
       "reverse link E9 to E11--><a href=\"psysml:26e0bda0-b5f1-463e-8de4-6289f85dc961\" target=\"_top\" title=\"psysml:26e0bda0-b5f1-463e-8de4-6289f85dc961\" xlink:actuate=\"onRequest\" xlink:href=\"psysml:26e0bda0-b5f1-463e-8de4-6289f85dc961\" xlink:show=\"new\" xlink:title=\"psysml:26e0bda0-b5f1-463e-8de4-6289f85dc961\" xlink:type=\"simple\"><path d=\"M233.5,206 C233.5,206 233.5,252.68 233.5,252.68 \" fill=\"none\" id=\"E9&lt;-E11\" style=\"stroke: #383838; stroke-width: 1.0;\"/><polygon fill=\"#FFFFFF\" points=\"233.5,193,229.5,199,233.5,205,237.5,199,233.5,193\" style=\"stroke: #383838; stroke-width: 1.0;\"/><text fill=\"#000000\" font-family=\"sans-serif\" font-size=\"13\" lengthAdjust=\"spacingAndGlyphs\" textLength=\"8\" x=\"220.5031\" y=\"241.8743\">1</text></a><!--MD5=[062ed86c389d1a88f61c6380d0491e17]\n",
       "reverse link E12 to E13--><a href=\"psysml:b5605e58-b315-4dd3-8e84-581a703b4e2b\" target=\"_top\" title=\"psysml:b5605e58-b315-4dd3-8e84-581a703b4e2b\" xlink:actuate=\"onRequest\" xlink:href=\"psysml:b5605e58-b315-4dd3-8e84-581a703b4e2b\" xlink:show=\"new\" xlink:title=\"psysml:b5605e58-b315-4dd3-8e84-581a703b4e2b\" xlink:type=\"simple\"><path d=\"M80,100 C80,100 80,146.68 80,146.68 \" fill=\"none\" id=\"E12&lt;-E13\" style=\"stroke: #383838; stroke-width: 1.0;\"/><polygon fill=\"#383838\" points=\"80,87,76,93,80,99,84,93,80,87\" style=\"stroke: #383838; stroke-width: 1.0;\"/><text fill=\"#000000\" font-family=\"sans-serif\" font-size=\"13\" lengthAdjust=\"spacingAndGlyphs\" textLength=\"8\" x=\"70.975\" y=\"135.8743\">1</text></a><!--MD5=[01db00f33b28669d6d9febea71002831]\n",
       "reverse link E13 to E14--><a href=\"psysml:db42b499-220f-4c1a-8731-eb36b8c82e1e\" target=\"_top\" title=\"psysml:db42b499-220f-4c1a-8731-eb36b8c82e1e\" xlink:actuate=\"onRequest\" xlink:href=\"psysml:db42b499-220f-4c1a-8731-eb36b8c82e1e\" xlink:show=\"new\" xlink:title=\"psysml:db42b499-220f-4c1a-8731-eb36b8c82e1e\" xlink:type=\"simple\"><path d=\"M85,206 C85,206 85,252.68 85,252.68 \" fill=\"none\" id=\"E13&lt;-E14\" style=\"stroke: #383838; stroke-width: 1.0;\"/><polygon fill=\"#FFFFFF\" points=\"85,193,81,199,85,205,89,199,85,193\" style=\"stroke: #383838; stroke-width: 1.0;\"/><text fill=\"#000000\" font-family=\"sans-serif\" font-size=\"13\" lengthAdjust=\"spacingAndGlyphs\" textLength=\"8\" x=\"74.6938\" y=\"241.8743\">1</text></a><!--MD5=[e5566ac99d7714697a7fbc17f6b550fe]\n",
       "link E14 to E2--><a href=\"psysml:7155c58b-23e7-41d9-a472-3863cff0084f\" target=\"_top\" title=\"psysml:7155c58b-23e7-41d9-a472-3863cff0084f\" xlink:actuate=\"onRequest\" xlink:href=\"psysml:7155c58b-23e7-41d9-a472-3863cff0084f\" xlink:show=\"new\" xlink:title=\"psysml:7155c58b-23e7-41d9-a472-3863cff0084f\" xlink:type=\"simple\"><path d=\"M111.41,276 C120.92,276 130,276 130,276 C130,276 130,390 130,390 C130,390 202.68,390 202.68,390 \" fill=\"none\" id=\"E14-&gt;E2\" style=\"stroke: #383838; stroke-width: 1.0;\"/><polygon fill=\"#FFFFFF\" points=\"222.68,390,203.68,397,203.68,383,222.68,390\" style=\"stroke: #383838; stroke-width: 1.0;\"/><ellipse cx=\"197.98\" cy=\"395\" fill=\"#383838\" rx=\"2\" ry=\"2\" style=\"stroke: #383838; stroke-width: 1.0;\"/><ellipse cx=\"197.98\" cy=\"385\" fill=\"#383838\" rx=\"2\" ry=\"2\" style=\"stroke: #383838; stroke-width: 1.0;\"/></a><!--MD5=[e9a5e828c71fd2209a11a152f562d491]\n",
       "reverse link E13 to E15--><a href=\"psysml:2699a371-802b-44a3-9d88-da30e2130afc\" target=\"_top\" title=\"psysml:2699a371-802b-44a3-9d88-da30e2130afc\" xlink:actuate=\"onRequest\" xlink:href=\"psysml:2699a371-802b-44a3-9d88-da30e2130afc\" xlink:show=\"new\" xlink:title=\"psysml:2699a371-802b-44a3-9d88-da30e2130afc\" xlink:type=\"simple\"><path d=\"M52.68,170 C52.68,170 52,170 52,170 C52,170 52,382 52,382 C52,382 57.12,382 63.61,382 \" fill=\"none\" id=\"E13&lt;-E15\" style=\"stroke: #383838; stroke-width: 1.0;\"/><polygon fill=\"#FFFFFF\" points=\"58.78,170,52.78,166,46.78,170,52.78,174,58.78,170\" style=\"stroke: #383838; stroke-width: 1.0;\"/><text fill=\"#000000\" font-family=\"sans-serif\" font-size=\"13\" lengthAdjust=\"spacingAndGlyphs\" textLength=\"8\" x=\"47.8226\" y=\"377.17\">1</text></a><!--MD5=[3afbdc645381407e1bc99677323a2513]\n",
       "link E14 to E15--><a href=\"psysml:1d4c99f1-723b-47e9-b0a9-a2cf4f06711c\" target=\"_top\" title=\"psysml:1d4c99f1-723b-47e9-b0a9-a2cf4f06711c\" xlink:actuate=\"onRequest\" xlink:href=\"psysml:1d4c99f1-723b-47e9-b0a9-a2cf4f06711c\" xlink:show=\"new\" xlink:title=\"psysml:1d4c99f1-723b-47e9-b0a9-a2cf4f06711c\" xlink:type=\"simple\"><path d=\"M83,299 C83,316.66 83,340.94 83,358.68 \" fill=\"none\" id=\"E14-E15\" style=\"stroke: #383838; stroke-width: 3.0;\"/></a><!--MD5=[3afbdc645381407e1bc99677323a2513]\n",
       "link E14 to E15--><a href=\"psysml:99ef5f64-108a-4414-ad16-a52f47db38b7\" target=\"_top\" title=\"psysml:99ef5f64-108a-4414-ad16-a52f47db38b7\" xlink:actuate=\"onRequest\" xlink:href=\"psysml:99ef5f64-108a-4414-ad16-a52f47db38b7\" xlink:show=\"new\" xlink:title=\"psysml:99ef5f64-108a-4414-ad16-a52f47db38b7\" xlink:type=\"simple\"><path d=\"M97,299 C97,316.66 97,340.94 97,358.68 \" fill=\"none\" id=\"E14-E15-1\" style=\"stroke: #383838; stroke-width: 3.0;\"/></a><!--MD5=[9e33034211907324dd8bccabfe88e0cb]\n",
       "@startuml\r\n",
       "skinparam linetype ortho\r\n",
       "skinparam monochrome true\r\n",
       "skinparam classbackgroundcolor white\r\n",
       "skinparam shadowing false\r\n",
       "skinparam wrapWidth 300\r\n",
       "hide circle\r\n",
       "\r\n",
       "package \"ConjugationTest\" as E1  [[psysml:62f2acf4-862e-4777-8380-6adbdab8aa3b ]]  {\r\n",
       "comp def \"P\" as E2  <<(T,blue) port  def>> [[psysml:8038ba5e-65f3-4a7c-a5d9-05577a1e913e ]] {\r\n",
       "}\r\n",
       "comp def \"B\" as E3  <<(T,blue) part  def>> [[psysml:eb00d253-98ff-4ea5-9d4b-40f483d849ec ]] {\r\n",
       "}\r\n",
       "comp usage \"p1: P \" as E4  <<(T,blue) port>> [[psysml:bd11b2df-eb92-4507-bbbb-c6493b57fcfa ]] {\r\n",
       "}\r\n",
       "comp usage \"p2: ~P \" as E5  <<(T,blue) port>> [[psysml:0cbe2724-4b46-4325-902f-a8a483156696 ]] {\r\n",
       "}\r\n",
       "comp def \"A\" as E6  <<(T,blue) connection  def>> [[psysml:c9adf55d-1d58-41e7-9c8f-305f1a380a4f ]] {\r\n",
       "}\r\n",
       "comp usage \"p1: P \" as E7  <<(T,blue) port>> [[psysml:62009ff7-c341-4e72-a056-ce92de09505b ]] {\r\n",
       "}\r\n",
       "comp usage \"p2: ~P \" as E8  <<(T,blue) port>> [[psysml:50db7d15-a467-4fc6-8fb9-d943e9708b48 ]] {\r\n",
       "}\r\n",
       "comp def \"I\" as E9  <<(T,blue) interface  def>> [[psysml:909b1fdd-cad7-4fe7-8f0f-a5ae3fa3dd03 ]] {\r\n",
       "}\r\n",
       "comp usage \"p1: P \" as E10  <<(T,blue) port>> [[psysml:4b05cf72-e027-47da-9c90-b867da4c93e0 ]] {\r\n",
       "}\r\n",
       "comp usage \"p2: ~P \" as E11  <<(T,blue) port>> [[psysml:0c24ab80-75a0-44e9-976a-962e4e9af685 ]] {\r\n",
       "}\r\n",
       "comp def \"B1\" as E12  <<(T,blue) part  def>> [[psysml:c2ec72d4-85fe-4c8d-a549-b327df7a4c85 ]] {\r\n",
       "}\r\n",
       "comp usage \"p \" as E13  <<(T,blue) part>> [[psysml:bf56b714-b103-43c5-844a-64ae22bea297 ]] {\r\n",
       "}\r\n",
       "comp usage \"p1: P \" as E14  <<(T,blue) port>> [[psysml:b5c2279c-6642-492b-a6cf-19efab06e689 ]] {\r\n",
       "}\r\n",
       "comp usage \"p2: ~P \" as E15  <<(T,blue) port>> [[psysml:ed6b3600-9f65-4ffd-a058-1200daf10699 ]] {\r\n",
       "}\r\n",
       "}\r\n",
       "E3 o- - \"1\"E4 [[psysml:301fc48c-20ce-4bfe-ac1d-96f5db6094d0 ]] \r\n",
       "E4 - -:|> E2 [[psysml:2658e44c-8270-4dd2-9600-daf649b69d41 ]] \r\n",
       "E3 o- - \"1\"E5 [[psysml:223fd842-0df9-4bd0-ad12-80c4696f3c55 ]] \r\n",
       "E6 o- - \"1\"E7 [[psysml:21746d6a-6182-4390-ad27-ac5c9b62bfbf ]] \r\n",
       "E7 - -:|> E2 [[psysml:ac292376-6896-4173-b580-fb46e7ca2b11 ]] \r\n",
       "E6 o- - \"1\"E8 [[psysml:0a911d69-2e8c-46c6-ac57-f08740e1c2a7 ]] \r\n",
       "E9 o- - \"1\"E10 [[psysml:7a6ef9a5-ee54-4bad-bee0-b6cd150b3ba6 ]] \r\n",
       "E10 - -:|> E2 [[psysml:1b1dbb40-b684-43d5-9e90-095d8f580599 ]] \r\n",
       "E9 o- - \"1\"E11 [[psysml:26e0bda0-b5f1-463e-8de4-6289f85dc961 ]] \r\n",
       "E12 *- - \"1\"E13 [[psysml:b5605e58-b315-4dd3-8e84-581a703b4e2b ]] \r\n",
       "E13 o- - \"1\"E14 [[psysml:db42b499-220f-4c1a-8731-eb36b8c82e1e ]] \r\n",
       "E14 - -:|> E2 [[psysml:7155c58b-23e7-41d9-a472-3863cff0084f ]] \r\n",
       "E13 o- - \"1\"E15 [[psysml:2699a371-802b-44a3-9d88-da30e2130afc ]] \r\n",
       "E14 -[thickness=3]- E15 [[psysml:1d4c99f1-723b-47e9-b0a9-a2cf4f06711c ]] \r\n",
       "E14 -[thickness=3]- E15 [[psysml:99ef5f64-108a-4414-ad16-a52f47db38b7 ]] \r\n",
       "@enduml\r\n",
       "\n",
       "PlantUML version 1.2020.13(Sat Jun 13 12:26:38 UTC 2020)\n",
       "(EPL source distribution)\n",
       "Java Runtime: OpenJDK Runtime Environment\n",
       "JVM: OpenJDK 64-Bit Server VM\n",
       "Default Encoding: UTF-8\n",
       "Language: en\n",
       "Country: null\n",
       "--></g></svg>"
      ]
     },
     "execution_count": 57,
     "metadata": {},
     "output_type": "execute_result"
    }
   ],
   "source": [
    "%viz --style=\"ORTHOLINE\" --view=\"MIXED\" \"ConjugationTest\""
   ]
  }
 ],
 "metadata": {
  "kernelspec": {
   "display_name": "SysML",
   "language": "sysml",
   "name": "sysml"
  },
  "language_info": {
   "codemirror_mode": "sysml",
   "file_extension": ".sysml",
   "mimetype": "text/x-sysml",
   "name": "SysML",
   "pygments_lexer": "java",
   "version": "1.0.0"
  }
 },
 "nbformat": 4,
 "nbformat_minor": 5
}
