{
 "cells": [
  {
   "cell_type": "markdown",
   "id": "essential-investigator",
   "metadata": {},
   "source": [
    "# SysML v2 Test Suite\n",
    "\n",
    "This can notebook can be cleared using menu `Edit --> Clear All Outputs` and then all cells can be\n",
    "run using menu `Run --> Run All Cells`.\n",
    "\n",
    "**WARNING**: This file is generated, all modifications here will be ignored.\n"
   ]
  },
  {
   "cell_type": "markdown",
   "id": "featured-bronze",
   "metadata": {},
   "source": [
    "## File: ../../sysml/src/examples/Simple Tests/ConjugationTest.sysml"
   ]
  },
  {
   "cell_type": "code",
   "execution_count": 1,
   "id": "later-pasta",
   "metadata": {
    "execution": {
     "iopub.execute_input": "2021-03-24T16:29:14.896415Z",
     "iopub.status.busy": "2021-03-24T16:29:14.895672Z",
     "iopub.status.idle": "2021-03-24T16:29:15.270200Z",
     "shell.execute_reply": "2021-03-24T16:29:15.269173Z"
    }
   },
   "outputs": [
    {
     "data": {
      "text/plain": [
       "Package ConjugationTest (a5dcd6b1-151d-434d-a540-42f1a77f3bfb)\n"
      ]
     },
     "execution_count": 1,
     "metadata": {},
     "output_type": "execute_result"
    }
   ],
   "source": [
    "package ConjugationTest {\n",
    "\tport def P;\n",
    "\t\n",
    "\tpart def B {\n",
    "\t\tport p1: P;\n",
    "\t\tport p2: ~P;\n",
    "\t}\n",
    "\t\n",
    "\tconnection def A {\n",
    "\t\tend port p1: P;\n",
    "\t\tend port p2: ~P;\n",
    "\t}\n",
    "\t\n",
    "\tinterface def I {\n",
    "\t\tend p1: P;\n",
    "\t\tend p2: ~P;\n",
    "\t}\n",
    "\t\n",
    "\tpart def B1 {\n",
    "\t\tpart p {\n",
    "\t\t\tport p1: P;\n",
    "\t\t\tport p2: ~P;\t\t\n",
    "\t\t}\n",
    "\t\n",
    "\t\tconnection a: A connect p::p1 to p::p2 {\n",
    "\t\t\tend port p3: P;\n",
    "\t\t\tend port p4: ~P;\n",
    "\t\t}\n",
    "\t\tinterface i: I connect p::p1 to p::p2 {\n",
    "\t\t\tend port p3: P;\n",
    "\t\t\tend port p4: ~P;\n",
    "\t\t}\n",
    "\t}\n",
    "\t\n",
    "}"
   ]
  },
  {
   "cell_type": "code",
   "execution_count": 2,
   "id": "surprising-desire",
   "metadata": {
    "execution": {
     "iopub.execute_input": "2021-03-24T16:29:15.325218Z",
     "iopub.status.busy": "2021-03-24T16:29:15.323633Z",
     "iopub.status.idle": "2021-03-24T16:29:16.151931Z",
     "shell.execute_reply": "2021-03-24T16:29:16.151587Z"
    }
   },
   "outputs": [
    {
     "data": {
      "image/svg+xml": [
       "<?xml version=\"1.0\" encoding=\"UTF-8\" standalone=\"no\"?><svg xmlns=\"http://www.w3.org/2000/svg\" xmlns:xlink=\"http://www.w3.org/1999/xlink\" contentScriptType=\"application/ecmascript\" contentStyleType=\"text/css\" height=\"305px\" preserveAspectRatio=\"none\" style=\"width:614px;height:305px;\" version=\"1.1\" viewBox=\"0 0 614 305\" width=\"614px\" zoomAndPan=\"magnify\"><defs/><g><!--MD5=[fbc87193dbaf4d95561dea2c320d4a47]\n",
       "cluster E1--><a href=\"psysml:4ba0ad9e-a677-47db-af1d-b015e8f93aef\" target=\"_top\" title=\"psysml:4ba0ad9e-a677-47db-af1d-b015e8f93aef\" xlink:actuate=\"onRequest\" xlink:href=\"psysml:4ba0ad9e-a677-47db-af1d-b015e8f93aef\" xlink:show=\"new\" xlink:title=\"psysml:4ba0ad9e-a677-47db-af1d-b015e8f93aef\" xlink:type=\"simple\"><polygon fill=\"#FFFFFF\" points=\"16,6,151,6,158,28.2969,592,28.2969,592,293,16,293,16,6\" style=\"stroke: #000000; stroke-width: 1.5;\"/><line style=\"stroke: #000000; stroke-width: 1.5;\" x1=\"16\" x2=\"158\" y1=\"28.2969\" y2=\"28.2969\"/><text fill=\"#000000\" font-family=\"sans-serif\" font-size=\"14\" font-weight=\"bold\" lengthAdjust=\"spacingAndGlyphs\" textLength=\"129\" x=\"20\" y=\"20.9951\">ConjugationTest</text></a><!--MD5=[b4997ac47864f28c2f74865a473b2911]\n",
       "class E2--><a href=\"psysml:0d231d17-09c4-40d0-a4bc-6d43713d1eea\" target=\"_top\" title=\"psysml:0d231d17-09c4-40d0-a4bc-6d43713d1eea\" xlink:actuate=\"onRequest\" xlink:href=\"psysml:0d231d17-09c4-40d0-a4bc-6d43713d1eea\" xlink:show=\"new\" xlink:title=\"psysml:0d231d17-09c4-40d0-a4bc-6d43713d1eea\" xlink:type=\"simple\"><rect fill=\"#FFFFFF\" height=\"45.9375\" id=\"E2\" style=\"stroke: #383838; stroke-width: 1.5;\" width=\"66\" x=\"510\" y=\"62\"/><text fill=\"#000000\" font-family=\"sans-serif\" font-size=\"12\" font-style=\"italic\" lengthAdjust=\"spacingAndGlyphs\" textLength=\"64\" x=\"511\" y=\"78.1387\">«port def»</text><text fill=\"#000000\" font-family=\"sans-serif\" font-size=\"12\" lengthAdjust=\"spacingAndGlyphs\" textLength=\"8\" x=\"539\" y=\"92.1074\">P</text><line style=\"stroke: #383838; stroke-width: 1.5;\" x1=\"511\" x2=\"575\" y1=\"99.9375\" y2=\"99.9375\"/></a><!--MD5=[09b614a08d8cba4a07c9adeb5e0fee81]\n",
       "class E3--><a href=\"psysml:1fca8384-68db-4c35-8908-d644a05ab33b\" target=\"_top\" title=\"psysml:1fca8384-68db-4c35-8908-d644a05ab33b\" xlink:actuate=\"onRequest\" xlink:href=\"psysml:1fca8384-68db-4c35-8908-d644a05ab33b\" xlink:show=\"new\" xlink:title=\"psysml:1fca8384-68db-4c35-8908-d644a05ab33b\" xlink:type=\"simple\"><rect fill=\"#FFFFFF\" height=\"88.3516\" id=\"E3\" style=\"stroke: #383838; stroke-width: 1.5;\" width=\"66\" x=\"409\" y=\"41\"/><text fill=\"#000000\" font-family=\"sans-serif\" font-size=\"12\" font-style=\"italic\" lengthAdjust=\"spacingAndGlyphs\" textLength=\"64\" x=\"410\" y=\"57.1387\">«part def»</text><text fill=\"#000000\" font-family=\"sans-serif\" font-size=\"12\" lengthAdjust=\"spacingAndGlyphs\" textLength=\"8\" x=\"438\" y=\"71.1074\">B</text><line style=\"stroke: #383838; stroke-width: 1.5;\" x1=\"410\" x2=\"474\" y1=\"78.9375\" y2=\"78.9375\"/><text fill=\"#000000\" font-family=\"sans-serif\" font-size=\"11\" lengthAdjust=\"spacingAndGlyphs\" textLength=\"29\" x=\"415\" y=\"109.9526\">p1: P</text><text fill=\"#000000\" font-family=\"sans-serif\" font-size=\"11\" lengthAdjust=\"spacingAndGlyphs\" textLength=\"38\" x=\"415\" y=\"122.7573\">p2: ~P</text><line style=\"stroke: #383838; stroke-width: 1.0;\" x1=\"410\" x2=\"427\" y1=\"93.3398\" y2=\"93.3398\"/><text fill=\"#000000\" font-family=\"sans-serif\" font-size=\"11\" lengthAdjust=\"spacingAndGlyphs\" textLength=\"30\" x=\"427\" y=\"96.6479\">ports</text><line style=\"stroke: #383838; stroke-width: 1.0;\" x1=\"457\" x2=\"474\" y1=\"93.3398\" y2=\"93.3398\"/></a><!--MD5=[ebbe1d658d1005bcc118a6aa81145e00]\n",
       "class E4--><a href=\"psysml:d9048fa2-8c0d-4237-aabb-192a68938198\" target=\"_top\" title=\"psysml:d9048fa2-8c0d-4237-aabb-192a68938198\" xlink:actuate=\"onRequest\" xlink:href=\"psysml:d9048fa2-8c0d-4237-aabb-192a68938198\" xlink:show=\"new\" xlink:title=\"psysml:d9048fa2-8c0d-4237-aabb-192a68938198\" xlink:type=\"simple\"><rect fill=\"#FFFFFF\" height=\"88.3516\" id=\"E4\" style=\"stroke: #383838; stroke-width: 1.5;\" width=\"110\" x=\"264\" y=\"41\"/><text fill=\"#000000\" font-family=\"sans-serif\" font-size=\"12\" font-style=\"italic\" lengthAdjust=\"spacingAndGlyphs\" textLength=\"108\" x=\"265\" y=\"57.1387\">«connection def»</text><text fill=\"#000000\" font-family=\"sans-serif\" font-size=\"12\" lengthAdjust=\"spacingAndGlyphs\" textLength=\"8\" x=\"315\" y=\"71.1074\">A</text><line style=\"stroke: #383838; stroke-width: 1.5;\" x1=\"265\" x2=\"373\" y1=\"78.9375\" y2=\"78.9375\"/><text fill=\"#000000\" font-family=\"sans-serif\" font-size=\"11\" lengthAdjust=\"spacingAndGlyphs\" textLength=\"29\" x=\"270\" y=\"109.9526\">p1: P</text><text fill=\"#000000\" font-family=\"sans-serif\" font-size=\"11\" lengthAdjust=\"spacingAndGlyphs\" textLength=\"38\" x=\"270\" y=\"122.7573\">p2: ~P</text><line style=\"stroke: #383838; stroke-width: 1.0;\" x1=\"265\" x2=\"304\" y1=\"93.3398\" y2=\"93.3398\"/><text fill=\"#000000\" font-family=\"sans-serif\" font-size=\"11\" lengthAdjust=\"spacingAndGlyphs\" textLength=\"30\" x=\"304\" y=\"96.6479\">ports</text><line style=\"stroke: #383838; stroke-width: 1.0;\" x1=\"334\" x2=\"373\" y1=\"93.3398\" y2=\"93.3398\"/></a><!--MD5=[270fce915f116d4de14055a7c1d9a0f3]\n",
       "class E5--><a href=\"psysml:b68d4e65-0a25-4b32-9474-7d6b33189e06\" target=\"_top\" title=\"psysml:b68d4e65-0a25-4b32-9474-7d6b33189e06\" xlink:actuate=\"onRequest\" xlink:href=\"psysml:b68d4e65-0a25-4b32-9474-7d6b33189e06\" xlink:show=\"new\" xlink:title=\"psysml:b68d4e65-0a25-4b32-9474-7d6b33189e06\" xlink:type=\"simple\"><rect fill=\"#FFFFFF\" height=\"88.3516\" id=\"E5\" style=\"stroke: #383838; stroke-width: 1.5;\" width=\"96\" x=\"133\" y=\"41\"/><text fill=\"#000000\" font-family=\"sans-serif\" font-size=\"12\" font-style=\"italic\" lengthAdjust=\"spacingAndGlyphs\" textLength=\"94\" x=\"134\" y=\"57.1387\">«interface def»</text><text fill=\"#000000\" font-family=\"sans-serif\" font-size=\"12\" lengthAdjust=\"spacingAndGlyphs\" textLength=\"3\" x=\"179.5\" y=\"71.1074\">I</text><line style=\"stroke: #383838; stroke-width: 1.5;\" x1=\"134\" x2=\"228\" y1=\"78.9375\" y2=\"78.9375\"/><text fill=\"#000000\" font-family=\"sans-serif\" font-size=\"11\" lengthAdjust=\"spacingAndGlyphs\" textLength=\"29\" x=\"139\" y=\"109.9526\">p1: P</text><text fill=\"#000000\" font-family=\"sans-serif\" font-size=\"11\" lengthAdjust=\"spacingAndGlyphs\" textLength=\"38\" x=\"139\" y=\"122.7573\">p2: ~P</text><line style=\"stroke: #383838; stroke-width: 1.0;\" x1=\"134\" x2=\"166\" y1=\"93.3398\" y2=\"93.3398\"/><text fill=\"#000000\" font-family=\"sans-serif\" font-size=\"11\" lengthAdjust=\"spacingAndGlyphs\" textLength=\"30\" x=\"166\" y=\"96.6479\">ports</text><line style=\"stroke: #383838; stroke-width: 1.0;\" x1=\"196\" x2=\"228\" y1=\"93.3398\" y2=\"93.3398\"/></a><!--MD5=[60a26617385b1d2d0262a64233df1f8d]\n",
       "class E6--><a href=\"psysml:4bc8843d-d10d-4f46-93fe-21c75269e8aa\" target=\"_top\" title=\"psysml:4bc8843d-d10d-4f46-93fe-21c75269e8aa\" xlink:actuate=\"onRequest\" xlink:href=\"psysml:4bc8843d-d10d-4f46-93fe-21c75269e8aa\" xlink:show=\"new\" xlink:title=\"psysml:4bc8843d-d10d-4f46-93fe-21c75269e8aa\" xlink:type=\"simple\"><rect fill=\"#FFFFFF\" height=\"45.9375\" id=\"E6\" style=\"stroke: #383838; stroke-width: 1.5;\" width=\"66\" x=\"32\" y=\"62\"/><text fill=\"#000000\" font-family=\"sans-serif\" font-size=\"12\" font-style=\"italic\" lengthAdjust=\"spacingAndGlyphs\" textLength=\"64\" x=\"33\" y=\"78.1387\">«part def»</text><text fill=\"#000000\" font-family=\"sans-serif\" font-size=\"12\" lengthAdjust=\"spacingAndGlyphs\" textLength=\"16\" x=\"57\" y=\"92.1074\">B1</text><line style=\"stroke: #383838; stroke-width: 1.5;\" x1=\"33\" x2=\"97\" y1=\"99.9375\" y2=\"99.9375\"/></a><!--MD5=[2156ba9850f5573cc1fc38a6a4b2f02b]\n",
       "class E7--><a href=\"psysml:37b5f10a-21e5-48b2-b2b2-bc5c291ce903\" target=\"_top\" title=\"psysml:37b5f10a-21e5-48b2-b2b2-bc5c291ce903\" xlink:actuate=\"onRequest\" xlink:href=\"psysml:37b5f10a-21e5-48b2-b2b2-bc5c291ce903\" xlink:show=\"new\" xlink:title=\"psysml:37b5f10a-21e5-48b2-b2b2-bc5c291ce903\" xlink:type=\"simple\"><rect fill=\"#FFFFFF\" height=\"88.3516\" id=\"E7\" rx=\"10\" ry=\"10\" style=\"stroke: #383838; stroke-width: 1.5;\" width=\"50\" x=\"40\" y=\"189\"/><text fill=\"#000000\" font-family=\"sans-serif\" font-size=\"12\" font-style=\"italic\" lengthAdjust=\"spacingAndGlyphs\" textLength=\"40\" x=\"45\" y=\"205.1387\">«part»</text><text fill=\"#000000\" font-family=\"sans-serif\" font-size=\"12\" lengthAdjust=\"spacingAndGlyphs\" textLength=\"8\" x=\"61\" y=\"219.1074\">p</text><line style=\"stroke: #383838; stroke-width: 1.5;\" x1=\"41\" x2=\"89\" y1=\"226.9375\" y2=\"226.9375\"/><text fill=\"#000000\" font-family=\"sans-serif\" font-size=\"11\" lengthAdjust=\"spacingAndGlyphs\" textLength=\"29\" x=\"46\" y=\"257.9526\">p1: P</text><text fill=\"#000000\" font-family=\"sans-serif\" font-size=\"11\" lengthAdjust=\"spacingAndGlyphs\" textLength=\"38\" x=\"46\" y=\"270.7573\">p2: ~P</text><line style=\"stroke: #383838; stroke-width: 1.0;\" x1=\"41\" x2=\"50\" y1=\"241.3398\" y2=\"241.3398\"/><text fill=\"#000000\" font-family=\"sans-serif\" font-size=\"11\" lengthAdjust=\"spacingAndGlyphs\" textLength=\"30\" x=\"50\" y=\"244.6479\">ports</text><line style=\"stroke: #383838; stroke-width: 1.0;\" x1=\"80\" x2=\"89\" y1=\"241.3398\" y2=\"241.3398\"/></a><!--MD5=[3f50a3473f1dfb74d3f76443e03635af]\n",
       "reverse link E6 to E7--><a href=\"psysml:37b5f10a-21e5-48b2-b2b2-bc5c291ce903\" target=\"_top\" title=\"psysml:37b5f10a-21e5-48b2-b2b2-bc5c291ce903\" xlink:actuate=\"onRequest\" xlink:href=\"psysml:37b5f10a-21e5-48b2-b2b2-bc5c291ce903\" xlink:show=\"new\" xlink:title=\"psysml:37b5f10a-21e5-48b2-b2b2-bc5c291ce903\" xlink:type=\"simple\"><path d=\"M65,121.25 C65,141.54 65,167.2 65,188.71 \" fill=\"none\" id=\"E6&lt;-E7\" style=\"stroke: #383838; stroke-width: 1.0;\"/><polygon fill=\"#383838\" points=\"65,108.17,61,114.17,65,120.17,69,114.17,65,108.17\" style=\"stroke: #383838; stroke-width: 1.0;\"/></a><!--MD5=[9b231b1d7bc288e33d27a2763be573a3]\n",
       "@startuml\r\n",
       " skinparam monochrome true\r\n",
       "skinparam classbackgroundcolor white\r\n",
       "skinparam shadowing false\r\n",
       "skinparam wrapWidth 300\r\n",
       "hide circle\r\n",
       "\r\n",
       "package \"ConjugationTest\" as E1  [[psysml:4ba0ad9e-a677-47db-af1d-b015e8f93aef ]]  {\r\n",
       "comp def \"P\" as E2  <<(T,blue)port def>> [[psysml:0d231d17-09c4-40d0-a4bc-6d43713d1eea ]] {\r\n",
       "}\r\n",
       "comp def \"B\" as E3  <<(T,blue)part def>> [[psysml:1fca8384-68db-4c35-8908-d644a05ab33b ]] {\r\n",
       "- - ports - -\r\n",
       "p1: P\r\n",
       "p2: ~P\r\n",
       "}\r\n",
       "comp def \"A\" as E4  <<(T,blue)connection def>> [[psysml:d9048fa2-8c0d-4237-aabb-192a68938198 ]] {\r\n",
       "- - ports - -\r\n",
       "p1: P\r\n",
       "p2: ~P\r\n",
       "}\r\n",
       "comp def \"I\" as E5  <<(T,blue)interface def>> [[psysml:b68d4e65-0a25-4b32-9474-7d6b33189e06 ]] {\r\n",
       "- - ports - -\r\n",
       "p1: P\r\n",
       "p2: ~P\r\n",
       "}\r\n",
       "comp def \"B1\" as E6  <<(T,blue)part def>> [[psysml:4bc8843d-d10d-4f46-93fe-21c75269e8aa ]] {\r\n",
       "}\r\n",
       "comp usage \"p\" as E7  <<(T,blue)part>> [[psysml:37b5f10a-21e5-48b2-b2b2-bc5c291ce903 ]] {\r\n",
       "- - ports - -\r\n",
       "p1: P\r\n",
       "p2: ~P\r\n",
       "}\r\n",
       "E6 *- - E7 [[psysml:37b5f10a-21e5-48b2-b2b2-bc5c291ce903 ]] \r\n",
       "}\r\n",
       "@enduml\r\n",
       "\n",
       "PlantUML version 1.2020.13(Sat Jun 13 12:26:38 UTC 2020)\n",
       "(EPL source distribution)\n",
       "Java Runtime: OpenJDK Runtime Environment\n",
       "JVM: OpenJDK 64-Bit Server VM\n",
       "Default Encoding: UTF-8\n",
       "Language: en\n",
       "Country: null\n",
       "--></g></svg>"
      ]
     },
     "execution_count": 2,
     "metadata": {},
     "output_type": "execute_result"
    }
   ],
   "source": [
    "%viz --style=\"COMPTREE\" --view=\"Default\" \"ConjugationTest\""
   ]
  },
  {
   "cell_type": "code",
   "execution_count": 3,
   "id": "agricultural-weather",
   "metadata": {
    "execution": {
     "iopub.execute_input": "2021-03-24T16:29:16.201296Z",
     "iopub.status.busy": "2021-03-24T16:29:16.200744Z",
     "iopub.status.idle": "2021-03-24T16:29:16.385353Z",
     "shell.execute_reply": "2021-03-24T16:29:16.383381Z"
    }
   },
   "outputs": [
    {
     "data": {
      "image/svg+xml": [
       "<?xml version=\"1.0\" encoding=\"UTF-8\" standalone=\"no\"?><svg xmlns=\"http://www.w3.org/2000/svg\" xmlns:xlink=\"http://www.w3.org/1999/xlink\" contentScriptType=\"application/ecmascript\" contentStyleType=\"text/css\" height=\"305px\" preserveAspectRatio=\"none\" style=\"width:614px;height:305px;\" version=\"1.1\" viewBox=\"0 0 614 305\" width=\"614px\" zoomAndPan=\"magnify\"><defs/><g><!--MD5=[fbc87193dbaf4d95561dea2c320d4a47]\n",
       "cluster E1--><a href=\"psysml:4ba0ad9e-a677-47db-af1d-b015e8f93aef\" target=\"_top\" title=\"psysml:4ba0ad9e-a677-47db-af1d-b015e8f93aef\" xlink:actuate=\"onRequest\" xlink:href=\"psysml:4ba0ad9e-a677-47db-af1d-b015e8f93aef\" xlink:show=\"new\" xlink:title=\"psysml:4ba0ad9e-a677-47db-af1d-b015e8f93aef\" xlink:type=\"simple\"><polygon fill=\"#FFFFFF\" points=\"16,6,151,6,158,28.2969,592,28.2969,592,293,16,293,16,6\" style=\"stroke: #000000; stroke-width: 1.5;\"/><line style=\"stroke: #000000; stroke-width: 1.5;\" x1=\"16\" x2=\"158\" y1=\"28.2969\" y2=\"28.2969\"/><text fill=\"#000000\" font-family=\"sans-serif\" font-size=\"14\" font-weight=\"bold\" lengthAdjust=\"spacingAndGlyphs\" textLength=\"129\" x=\"20\" y=\"20.9951\">ConjugationTest</text></a><!--MD5=[b4997ac47864f28c2f74865a473b2911]\n",
       "class E2--><a href=\"psysml:0d231d17-09c4-40d0-a4bc-6d43713d1eea\" target=\"_top\" title=\"psysml:0d231d17-09c4-40d0-a4bc-6d43713d1eea\" xlink:actuate=\"onRequest\" xlink:href=\"psysml:0d231d17-09c4-40d0-a4bc-6d43713d1eea\" xlink:show=\"new\" xlink:title=\"psysml:0d231d17-09c4-40d0-a4bc-6d43713d1eea\" xlink:type=\"simple\"><rect fill=\"#FFFFFF\" height=\"45.9375\" id=\"E2\" style=\"stroke: #383838; stroke-width: 1.5;\" width=\"66\" x=\"510\" y=\"62\"/><text fill=\"#000000\" font-family=\"sans-serif\" font-size=\"12\" font-style=\"italic\" lengthAdjust=\"spacingAndGlyphs\" textLength=\"64\" x=\"511\" y=\"78.1387\">«port def»</text><text fill=\"#000000\" font-family=\"sans-serif\" font-size=\"12\" lengthAdjust=\"spacingAndGlyphs\" textLength=\"8\" x=\"539\" y=\"92.1074\">P</text><line style=\"stroke: #383838; stroke-width: 1.5;\" x1=\"511\" x2=\"575\" y1=\"99.9375\" y2=\"99.9375\"/></a><!--MD5=[09b614a08d8cba4a07c9adeb5e0fee81]\n",
       "class E3--><a href=\"psysml:1fca8384-68db-4c35-8908-d644a05ab33b\" target=\"_top\" title=\"psysml:1fca8384-68db-4c35-8908-d644a05ab33b\" xlink:actuate=\"onRequest\" xlink:href=\"psysml:1fca8384-68db-4c35-8908-d644a05ab33b\" xlink:show=\"new\" xlink:title=\"psysml:1fca8384-68db-4c35-8908-d644a05ab33b\" xlink:type=\"simple\"><rect fill=\"#FFFFFF\" height=\"88.3516\" id=\"E3\" style=\"stroke: #383838; stroke-width: 1.5;\" width=\"66\" x=\"409\" y=\"41\"/><text fill=\"#000000\" font-family=\"sans-serif\" font-size=\"12\" font-style=\"italic\" lengthAdjust=\"spacingAndGlyphs\" textLength=\"64\" x=\"410\" y=\"57.1387\">«part def»</text><text fill=\"#000000\" font-family=\"sans-serif\" font-size=\"12\" lengthAdjust=\"spacingAndGlyphs\" textLength=\"8\" x=\"438\" y=\"71.1074\">B</text><line style=\"stroke: #383838; stroke-width: 1.5;\" x1=\"410\" x2=\"474\" y1=\"78.9375\" y2=\"78.9375\"/><text fill=\"#000000\" font-family=\"sans-serif\" font-size=\"11\" lengthAdjust=\"spacingAndGlyphs\" textLength=\"29\" x=\"415\" y=\"109.9526\">p1: P</text><text fill=\"#000000\" font-family=\"sans-serif\" font-size=\"11\" lengthAdjust=\"spacingAndGlyphs\" textLength=\"38\" x=\"415\" y=\"122.7573\">p2: ~P</text><line style=\"stroke: #383838; stroke-width: 1.0;\" x1=\"410\" x2=\"427\" y1=\"93.3398\" y2=\"93.3398\"/><text fill=\"#000000\" font-family=\"sans-serif\" font-size=\"11\" lengthAdjust=\"spacingAndGlyphs\" textLength=\"30\" x=\"427\" y=\"96.6479\">ports</text><line style=\"stroke: #383838; stroke-width: 1.0;\" x1=\"457\" x2=\"474\" y1=\"93.3398\" y2=\"93.3398\"/></a><!--MD5=[ebbe1d658d1005bcc118a6aa81145e00]\n",
       "class E4--><a href=\"psysml:d9048fa2-8c0d-4237-aabb-192a68938198\" target=\"_top\" title=\"psysml:d9048fa2-8c0d-4237-aabb-192a68938198\" xlink:actuate=\"onRequest\" xlink:href=\"psysml:d9048fa2-8c0d-4237-aabb-192a68938198\" xlink:show=\"new\" xlink:title=\"psysml:d9048fa2-8c0d-4237-aabb-192a68938198\" xlink:type=\"simple\"><rect fill=\"#FFFFFF\" height=\"88.3516\" id=\"E4\" style=\"stroke: #383838; stroke-width: 1.5;\" width=\"110\" x=\"264\" y=\"41\"/><text fill=\"#000000\" font-family=\"sans-serif\" font-size=\"12\" font-style=\"italic\" lengthAdjust=\"spacingAndGlyphs\" textLength=\"108\" x=\"265\" y=\"57.1387\">«connection def»</text><text fill=\"#000000\" font-family=\"sans-serif\" font-size=\"12\" lengthAdjust=\"spacingAndGlyphs\" textLength=\"8\" x=\"315\" y=\"71.1074\">A</text><line style=\"stroke: #383838; stroke-width: 1.5;\" x1=\"265\" x2=\"373\" y1=\"78.9375\" y2=\"78.9375\"/><text fill=\"#000000\" font-family=\"sans-serif\" font-size=\"11\" lengthAdjust=\"spacingAndGlyphs\" textLength=\"29\" x=\"270\" y=\"109.9526\">p1: P</text><text fill=\"#000000\" font-family=\"sans-serif\" font-size=\"11\" lengthAdjust=\"spacingAndGlyphs\" textLength=\"38\" x=\"270\" y=\"122.7573\">p2: ~P</text><line style=\"stroke: #383838; stroke-width: 1.0;\" x1=\"265\" x2=\"304\" y1=\"93.3398\" y2=\"93.3398\"/><text fill=\"#000000\" font-family=\"sans-serif\" font-size=\"11\" lengthAdjust=\"spacingAndGlyphs\" textLength=\"30\" x=\"304\" y=\"96.6479\">ports</text><line style=\"stroke: #383838; stroke-width: 1.0;\" x1=\"334\" x2=\"373\" y1=\"93.3398\" y2=\"93.3398\"/></a><!--MD5=[270fce915f116d4de14055a7c1d9a0f3]\n",
       "class E5--><a href=\"psysml:b68d4e65-0a25-4b32-9474-7d6b33189e06\" target=\"_top\" title=\"psysml:b68d4e65-0a25-4b32-9474-7d6b33189e06\" xlink:actuate=\"onRequest\" xlink:href=\"psysml:b68d4e65-0a25-4b32-9474-7d6b33189e06\" xlink:show=\"new\" xlink:title=\"psysml:b68d4e65-0a25-4b32-9474-7d6b33189e06\" xlink:type=\"simple\"><rect fill=\"#FFFFFF\" height=\"88.3516\" id=\"E5\" style=\"stroke: #383838; stroke-width: 1.5;\" width=\"96\" x=\"133\" y=\"41\"/><text fill=\"#000000\" font-family=\"sans-serif\" font-size=\"12\" font-style=\"italic\" lengthAdjust=\"spacingAndGlyphs\" textLength=\"94\" x=\"134\" y=\"57.1387\">«interface def»</text><text fill=\"#000000\" font-family=\"sans-serif\" font-size=\"12\" lengthAdjust=\"spacingAndGlyphs\" textLength=\"3\" x=\"179.5\" y=\"71.1074\">I</text><line style=\"stroke: #383838; stroke-width: 1.5;\" x1=\"134\" x2=\"228\" y1=\"78.9375\" y2=\"78.9375\"/><text fill=\"#000000\" font-family=\"sans-serif\" font-size=\"11\" lengthAdjust=\"spacingAndGlyphs\" textLength=\"29\" x=\"139\" y=\"109.9526\">p1: P</text><text fill=\"#000000\" font-family=\"sans-serif\" font-size=\"11\" lengthAdjust=\"spacingAndGlyphs\" textLength=\"38\" x=\"139\" y=\"122.7573\">p2: ~P</text><line style=\"stroke: #383838; stroke-width: 1.0;\" x1=\"134\" x2=\"166\" y1=\"93.3398\" y2=\"93.3398\"/><text fill=\"#000000\" font-family=\"sans-serif\" font-size=\"11\" lengthAdjust=\"spacingAndGlyphs\" textLength=\"30\" x=\"166\" y=\"96.6479\">ports</text><line style=\"stroke: #383838; stroke-width: 1.0;\" x1=\"196\" x2=\"228\" y1=\"93.3398\" y2=\"93.3398\"/></a><!--MD5=[60a26617385b1d2d0262a64233df1f8d]\n",
       "class E6--><a href=\"psysml:4bc8843d-d10d-4f46-93fe-21c75269e8aa\" target=\"_top\" title=\"psysml:4bc8843d-d10d-4f46-93fe-21c75269e8aa\" xlink:actuate=\"onRequest\" xlink:href=\"psysml:4bc8843d-d10d-4f46-93fe-21c75269e8aa\" xlink:show=\"new\" xlink:title=\"psysml:4bc8843d-d10d-4f46-93fe-21c75269e8aa\" xlink:type=\"simple\"><rect fill=\"#FFFFFF\" height=\"45.9375\" id=\"E6\" style=\"stroke: #383838; stroke-width: 1.5;\" width=\"66\" x=\"32\" y=\"62\"/><text fill=\"#000000\" font-family=\"sans-serif\" font-size=\"12\" font-style=\"italic\" lengthAdjust=\"spacingAndGlyphs\" textLength=\"64\" x=\"33\" y=\"78.1387\">«part def»</text><text fill=\"#000000\" font-family=\"sans-serif\" font-size=\"12\" lengthAdjust=\"spacingAndGlyphs\" textLength=\"16\" x=\"57\" y=\"92.1074\">B1</text><line style=\"stroke: #383838; stroke-width: 1.5;\" x1=\"33\" x2=\"97\" y1=\"99.9375\" y2=\"99.9375\"/></a><!--MD5=[2156ba9850f5573cc1fc38a6a4b2f02b]\n",
       "class E7--><a href=\"psysml:37b5f10a-21e5-48b2-b2b2-bc5c291ce903\" target=\"_top\" title=\"psysml:37b5f10a-21e5-48b2-b2b2-bc5c291ce903\" xlink:actuate=\"onRequest\" xlink:href=\"psysml:37b5f10a-21e5-48b2-b2b2-bc5c291ce903\" xlink:show=\"new\" xlink:title=\"psysml:37b5f10a-21e5-48b2-b2b2-bc5c291ce903\" xlink:type=\"simple\"><rect fill=\"#FFFFFF\" height=\"88.3516\" id=\"E7\" rx=\"10\" ry=\"10\" style=\"stroke: #383838; stroke-width: 1.5;\" width=\"50\" x=\"40\" y=\"189\"/><text fill=\"#000000\" font-family=\"sans-serif\" font-size=\"12\" font-style=\"italic\" lengthAdjust=\"spacingAndGlyphs\" textLength=\"40\" x=\"45\" y=\"205.1387\">«part»</text><text fill=\"#000000\" font-family=\"sans-serif\" font-size=\"12\" lengthAdjust=\"spacingAndGlyphs\" textLength=\"8\" x=\"61\" y=\"219.1074\">p</text><line style=\"stroke: #383838; stroke-width: 1.5;\" x1=\"41\" x2=\"89\" y1=\"226.9375\" y2=\"226.9375\"/><text fill=\"#000000\" font-family=\"sans-serif\" font-size=\"11\" lengthAdjust=\"spacingAndGlyphs\" textLength=\"29\" x=\"46\" y=\"257.9526\">p1: P</text><text fill=\"#000000\" font-family=\"sans-serif\" font-size=\"11\" lengthAdjust=\"spacingAndGlyphs\" textLength=\"38\" x=\"46\" y=\"270.7573\">p2: ~P</text><line style=\"stroke: #383838; stroke-width: 1.0;\" x1=\"41\" x2=\"50\" y1=\"241.3398\" y2=\"241.3398\"/><text fill=\"#000000\" font-family=\"sans-serif\" font-size=\"11\" lengthAdjust=\"spacingAndGlyphs\" textLength=\"30\" x=\"50\" y=\"244.6479\">ports</text><line style=\"stroke: #383838; stroke-width: 1.0;\" x1=\"80\" x2=\"89\" y1=\"241.3398\" y2=\"241.3398\"/></a><!--MD5=[3f50a3473f1dfb74d3f76443e03635af]\n",
       "reverse link E6 to E7--><a href=\"psysml:37b5f10a-21e5-48b2-b2b2-bc5c291ce903\" target=\"_top\" title=\"psysml:37b5f10a-21e5-48b2-b2b2-bc5c291ce903\" xlink:actuate=\"onRequest\" xlink:href=\"psysml:37b5f10a-21e5-48b2-b2b2-bc5c291ce903\" xlink:show=\"new\" xlink:title=\"psysml:37b5f10a-21e5-48b2-b2b2-bc5c291ce903\" xlink:type=\"simple\"><path d=\"M65,121.25 C65,141.54 65,167.2 65,188.71 \" fill=\"none\" id=\"E6&lt;-E7\" style=\"stroke: #383838; stroke-width: 1.0;\"/><polygon fill=\"#383838\" points=\"65,108.17,61,114.17,65,120.17,69,114.17,65,108.17\" style=\"stroke: #383838; stroke-width: 1.0;\"/></a><!--MD5=[9b231b1d7bc288e33d27a2763be573a3]\n",
       "@startuml\r\n",
       " skinparam monochrome true\r\n",
       "skinparam classbackgroundcolor white\r\n",
       "skinparam shadowing false\r\n",
       "skinparam wrapWidth 300\r\n",
       "hide circle\r\n",
       "\r\n",
       "package \"ConjugationTest\" as E1  [[psysml:4ba0ad9e-a677-47db-af1d-b015e8f93aef ]]  {\r\n",
       "comp def \"P\" as E2  <<(T,blue)port def>> [[psysml:0d231d17-09c4-40d0-a4bc-6d43713d1eea ]] {\r\n",
       "}\r\n",
       "comp def \"B\" as E3  <<(T,blue)part def>> [[psysml:1fca8384-68db-4c35-8908-d644a05ab33b ]] {\r\n",
       "- - ports - -\r\n",
       "p1: P\r\n",
       "p2: ~P\r\n",
       "}\r\n",
       "comp def \"A\" as E4  <<(T,blue)connection def>> [[psysml:d9048fa2-8c0d-4237-aabb-192a68938198 ]] {\r\n",
       "- - ports - -\r\n",
       "p1: P\r\n",
       "p2: ~P\r\n",
       "}\r\n",
       "comp def \"I\" as E5  <<(T,blue)interface def>> [[psysml:b68d4e65-0a25-4b32-9474-7d6b33189e06 ]] {\r\n",
       "- - ports - -\r\n",
       "p1: P\r\n",
       "p2: ~P\r\n",
       "}\r\n",
       "comp def \"B1\" as E6  <<(T,blue)part def>> [[psysml:4bc8843d-d10d-4f46-93fe-21c75269e8aa ]] {\r\n",
       "}\r\n",
       "comp usage \"p\" as E7  <<(T,blue)part>> [[psysml:37b5f10a-21e5-48b2-b2b2-bc5c291ce903 ]] {\r\n",
       "- - ports - -\r\n",
       "p1: P\r\n",
       "p2: ~P\r\n",
       "}\r\n",
       "E6 *- - E7 [[psysml:37b5f10a-21e5-48b2-b2b2-bc5c291ce903 ]] \r\n",
       "}\r\n",
       "@enduml\r\n",
       "\n",
       "PlantUML version 1.2020.13(Sat Jun 13 12:26:38 UTC 2020)\n",
       "(EPL source distribution)\n",
       "Java Runtime: OpenJDK Runtime Environment\n",
       "JVM: OpenJDK 64-Bit Server VM\n",
       "Default Encoding: UTF-8\n",
       "Language: en\n",
       "Country: null\n",
       "--></g></svg>"
      ]
     },
     "execution_count": 3,
     "metadata": {},
     "output_type": "execute_result"
    }
   ],
   "source": [
    "%viz --style=\"COMPTREE\" --view=\"Tree\" \"ConjugationTest\""
   ]
  },
  {
   "cell_type": "code",
   "execution_count": 4,
   "id": "removed-salad",
   "metadata": {
    "execution": {
     "iopub.execute_input": "2021-03-24T16:29:16.437307Z",
     "iopub.status.busy": "2021-03-24T16:29:16.436846Z",
     "iopub.status.idle": "2021-03-24T16:29:16.444169Z",
     "shell.execute_reply": "2021-03-24T16:29:16.444489Z"
    }
   },
   "outputs": [
    {
     "data": {
      "image/svg+xml": [
       "<?xml version=\"1.0\" encoding=\"UTF-8\" standalone=\"no\"?><svg xmlns=\"http://www.w3.org/2000/svg\" xmlns:xlink=\"http://www.w3.org/1999/xlink\" contentScriptType=\"application/ecmascript\" contentStyleType=\"text/css\" height=\"12px\" preserveAspectRatio=\"none\" style=\"width:12px;height:12px;\" version=\"1.1\" viewBox=\"0 0 12 12\" width=\"12px\" zoomAndPan=\"magnify\"><defs/><g><!--MD5=[f19188ef49e11757b5c46753f95d9edc]\n",
       "@startuml\r\n",
       " skinparam monochrome true\r\n",
       "skinparam classbackgroundcolor white\r\n",
       "skinparam shadowing false\r\n",
       "skinparam wrapWidth 300\r\n",
       "hide circle\r\n",
       "\r\n",
       "@enduml\r\n",
       "\n",
       "PlantUML version 1.2020.13(Sat Jun 13 12:26:38 UTC 2020)\n",
       "(EPL source distribution)\n",
       "Java Runtime: OpenJDK Runtime Environment\n",
       "JVM: OpenJDK 64-Bit Server VM\n",
       "Default Encoding: UTF-8\n",
       "Language: en\n",
       "Country: null\n",
       "--></g></svg>"
      ]
     },
     "execution_count": 4,
     "metadata": {},
     "output_type": "execute_result"
    }
   ],
   "source": [
    "%viz --style=\"COMPTREE\" --view=\"State\" \"ConjugationTest\""
   ]
  },
  {
   "cell_type": "code",
   "execution_count": 5,
   "id": "terminal-underground",
   "metadata": {
    "execution": {
     "iopub.execute_input": "2021-03-24T16:29:16.496032Z",
     "iopub.status.busy": "2021-03-24T16:29:16.495569Z",
     "iopub.status.idle": "2021-03-24T16:29:16.570079Z",
     "shell.execute_reply": "2021-03-24T16:29:16.568521Z"
    }
   },
   "outputs": [
    {
     "data": {
      "image/svg+xml": [
       "<?xml version=\"1.0\" encoding=\"UTF-8\" standalone=\"no\"?><svg xmlns=\"http://www.w3.org/2000/svg\" xmlns:xlink=\"http://www.w3.org/1999/xlink\" contentScriptType=\"application/ecmascript\" contentStyleType=\"text/css\" height=\"246px\" preserveAspectRatio=\"none\" style=\"width:739px;height:246px;\" version=\"1.1\" viewBox=\"0 0 739 246\" width=\"739px\" zoomAndPan=\"magnify\"><defs/><g><!--MD5=[fbc87193dbaf4d95561dea2c320d4a47]\n",
       "cluster E1--><a href=\"psysml:4ba0ad9e-a677-47db-af1d-b015e8f93aef\" target=\"_top\" title=\"psysml:4ba0ad9e-a677-47db-af1d-b015e8f93aef\" xlink:actuate=\"onRequest\" xlink:href=\"psysml:4ba0ad9e-a677-47db-af1d-b015e8f93aef\" xlink:show=\"new\" xlink:title=\"psysml:4ba0ad9e-a677-47db-af1d-b015e8f93aef\" xlink:type=\"simple\"><polygon fill=\"#FFFFFF\" points=\"16,6,151,6,158,28.2969,717,28.2969,717,234.5,16,234.5,16,6\" style=\"stroke: #000000; stroke-width: 1.5;\"/><line style=\"stroke: #000000; stroke-width: 1.5;\" x1=\"16\" x2=\"158\" y1=\"28.2969\" y2=\"28.2969\"/><text fill=\"#000000\" font-family=\"sans-serif\" font-size=\"14\" font-weight=\"bold\" lengthAdjust=\"spacingAndGlyphs\" textLength=\"129\" x=\"20\" y=\"20.9951\">ConjugationTest</text></a><!--MD5=[d5e69f78d87373223dbae638b30a9c99]\n",
       "cluster E3--><a href=\"psysml:1fca8384-68db-4c35-8908-d644a05ab33b\" target=\"_top\" title=\"psysml:1fca8384-68db-4c35-8908-d644a05ab33b\" xlink:actuate=\"onRequest\" xlink:href=\"psysml:1fca8384-68db-4c35-8908-d644a05ab33b\" xlink:show=\"new\" xlink:title=\"psysml:1fca8384-68db-4c35-8908-d644a05ab33b\" xlink:type=\"simple\"><rect fill=\"#FFFFFF\" height=\"88.5\" id=\"E3\" style=\"stroke: #383838; stroke-width: 1.5;\" width=\"83\" x=\"577\" y=\"114\"/><rect fill=\"#F8F8F8\" height=\"37.9375\" style=\"stroke: #383838; stroke-width: 1.5;\" width=\"83\" x=\"577\" y=\"114\"/><text fill=\"#000000\" font-family=\"sans-serif\" font-size=\"12\" font-style=\"italic\" lengthAdjust=\"spacingAndGlyphs\" textLength=\"64\" x=\"586.5\" y=\"130.1387\">«part def»</text><text fill=\"#000000\" font-family=\"sans-serif\" font-size=\"12\" lengthAdjust=\"spacingAndGlyphs\" textLength=\"8\" x=\"614.5\" y=\"144.1074\">B</text></a><!--MD5=[14e3b0961a2654348d326746436168a1]\n",
       "cluster E6--><a href=\"psysml:d9048fa2-8c0d-4237-aabb-192a68938198\" target=\"_top\" title=\"psysml:d9048fa2-8c0d-4237-aabb-192a68938198\" xlink:actuate=\"onRequest\" xlink:href=\"psysml:d9048fa2-8c0d-4237-aabb-192a68938198\" xlink:show=\"new\" xlink:title=\"psysml:d9048fa2-8c0d-4237-aabb-192a68938198\" xlink:type=\"simple\"><rect fill=\"#FFFFFF\" height=\"88.5\" id=\"E6\" style=\"stroke: #383838; stroke-width: 1.5;\" width=\"150\" x=\"423\" y=\"114\"/><rect fill=\"#F8F8F8\" height=\"37.9375\" style=\"stroke: #383838; stroke-width: 1.5;\" width=\"150\" x=\"423\" y=\"114\"/><text fill=\"#000000\" font-family=\"sans-serif\" font-size=\"12\" font-style=\"italic\" lengthAdjust=\"spacingAndGlyphs\" textLength=\"108\" x=\"444\" y=\"130.1387\">«connection def»</text><text fill=\"#000000\" font-family=\"sans-serif\" font-size=\"12\" lengthAdjust=\"spacingAndGlyphs\" textLength=\"8\" x=\"494\" y=\"144.1074\">A</text></a><!--MD5=[7f149f147074ac12df2cb0a7728a5fb0]\n",
       "cluster E9--><a href=\"psysml:b68d4e65-0a25-4b32-9474-7d6b33189e06\" target=\"_top\" title=\"psysml:b68d4e65-0a25-4b32-9474-7d6b33189e06\" xlink:actuate=\"onRequest\" xlink:href=\"psysml:b68d4e65-0a25-4b32-9474-7d6b33189e06\" xlink:show=\"new\" xlink:title=\"psysml:b68d4e65-0a25-4b32-9474-7d6b33189e06\" xlink:type=\"simple\"><rect fill=\"#FFFFFF\" height=\"88.5\" id=\"E9\" style=\"stroke: #383838; stroke-width: 1.5;\" width=\"141\" x=\"254\" y=\"114\"/><rect fill=\"#F8F8F8\" height=\"37.9375\" style=\"stroke: #383838; stroke-width: 1.5;\" width=\"141\" x=\"254\" y=\"114\"/><text fill=\"#000000\" font-family=\"sans-serif\" font-size=\"12\" font-style=\"italic\" lengthAdjust=\"spacingAndGlyphs\" textLength=\"94\" x=\"277.5\" y=\"130.1387\">«interface def»</text><text fill=\"#000000\" font-family=\"sans-serif\" font-size=\"12\" lengthAdjust=\"spacingAndGlyphs\" textLength=\"3\" x=\"323\" y=\"144.1074\">I</text></a><!--MD5=[47bea60c1a0ac6c1143df232041969c0]\n",
       "cluster E12--><a href=\"psysml:4bc8843d-d10d-4f46-93fe-21c75269e8aa\" target=\"_top\" title=\"psysml:4bc8843d-d10d-4f46-93fe-21c75269e8aa\" xlink:actuate=\"onRequest\" xlink:href=\"psysml:4bc8843d-d10d-4f46-93fe-21c75269e8aa\" xlink:show=\"new\" xlink:title=\"psysml:4bc8843d-d10d-4f46-93fe-21c75269e8aa\" xlink:type=\"simple\"><rect fill=\"#FFFFFF\" height=\"161.5\" id=\"E12\" style=\"stroke: #383838; stroke-width: 1.5;\" width=\"107\" x=\"120\" y=\"49\"/><rect fill=\"#F8F8F8\" height=\"37.9375\" style=\"stroke: #383838; stroke-width: 1.5;\" width=\"107\" x=\"120\" y=\"49\"/><text fill=\"#000000\" font-family=\"sans-serif\" font-size=\"12\" font-style=\"italic\" lengthAdjust=\"spacingAndGlyphs\" textLength=\"64\" x=\"141.5\" y=\"65.1387\">«part def»</text><text fill=\"#000000\" font-family=\"sans-serif\" font-size=\"12\" lengthAdjust=\"spacingAndGlyphs\" textLength=\"16\" x=\"165.5\" y=\"79.1074\">B1</text></a><!--MD5=[03104f77b71e2d8d3500c651e6e31181]\n",
       "cluster E13--><a href=\"psysml:37b5f10a-21e5-48b2-b2b2-bc5c291ce903\" target=\"_top\" title=\"psysml:37b5f10a-21e5-48b2-b2b2-bc5c291ce903\" xlink:actuate=\"onRequest\" xlink:href=\"psysml:37b5f10a-21e5-48b2-b2b2-bc5c291ce903\" xlink:show=\"new\" xlink:title=\"psysml:37b5f10a-21e5-48b2-b2b2-bc5c291ce903\" xlink:type=\"simple\"><rect fill=\"#FFFFFF\" height=\"80.5\" id=\"E13\" rx=\"10\" ry=\"10\" style=\"stroke: #383838; stroke-width: 1.5;\" width=\"83\" x=\"132\" y=\"114\"/><rect fill=\"#F8F8F8\" height=\"23.9688\" rx=\"10\" ry=\"10\" style=\"stroke: #F8F8F8; stroke-width: 1.5;\" width=\"83\" x=\"132\" y=\"114\"/><rect fill=\"#F8F8F8\" height=\"10\" style=\"stroke: #F8F8F8; stroke-width: 1.5;\" width=\"83\" x=\"132\" y=\"127.9688\"/><rect fill=\"none\" height=\"80.5\" id=\"E13\" rx=\"10\" ry=\"10\" style=\"stroke: #383838; stroke-width: 1.5;\" width=\"83\" x=\"132\" y=\"114\"/><text fill=\"#000000\" font-family=\"sans-serif\" font-size=\"12\" lengthAdjust=\"spacingAndGlyphs\" textLength=\"8\" x=\"169.5\" y=\"130.1387\">p</text><line style=\"stroke: #383838; stroke-width: 1.0;\" x1=\"132\" x2=\"215\" y1=\"137.9688\" y2=\"137.9688\"/></a><g id=\"E1.E2\"><a href=\"psysml:0d231d17-09c4-40d0-a4bc-6d43713d1eea\" target=\"_top\" title=\"psysml:0d231d17-09c4-40d0-a4bc-6d43713d1eea\" xlink:actuate=\"onRequest\" xlink:href=\"psysml:0d231d17-09c4-40d0-a4bc-6d43713d1eea\" xlink:show=\"new\" xlink:title=\"psysml:0d231d17-09c4-40d0-a4bc-6d43713d1eea\" xlink:type=\"simple\"><rect fill=\"#FFFFFF\" height=\"42.9375\" id=\"E2\" style=\"stroke: #383838; stroke-width: 1.5;\" width=\"71\" x=\"32.5\" y=\"92.5\"/><rect fill=\"#F8F8F8\" height=\"37.9375\" style=\"stroke: #383838; stroke-width: 1.5;\" width=\"71\" x=\"32.5\" y=\"92.5\"/><text fill=\"#000000\" font-family=\"sans-serif\" font-size=\"12\" font-style=\"italic\" lengthAdjust=\"spacingAndGlyphs\" textLength=\"64\" x=\"36\" y=\"108.6387\">«port def»</text><text fill=\"#000000\" font-family=\"sans-serif\" font-size=\"12\" lengthAdjust=\"spacingAndGlyphs\" textLength=\"8\" x=\"64\" y=\"122.6074\">P</text></a></g><text fill=\"#000000\" font-family=\"sans-serif\" font-size=\"14\" lengthAdjust=\"spacingAndGlyphs\" textLength=\"36\" x=\"577\" y=\"92.6982\">p1: P</text><rect fill=\"#383838\" height=\"12\" style=\"stroke: #F8F8F8; stroke-width: 1.5;\" width=\"12\" x=\"589\" y=\"108\"/><text fill=\"#000000\" font-family=\"sans-serif\" font-size=\"14\" lengthAdjust=\"spacingAndGlyphs\" textLength=\"48\" x=\"618\" y=\"92.6982\">p2: ~P</text><rect fill=\"#383838\" height=\"12\" style=\"stroke: #F8F8F8; stroke-width: 1.5;\" width=\"12\" x=\"636\" y=\"108\"/><text fill=\"#000000\" font-family=\"sans-serif\" font-size=\"14\" lengthAdjust=\"spacingAndGlyphs\" textLength=\"36\" x=\"423\" y=\"92.6982\">p1: P</text><rect fill=\"#383838\" height=\"12\" style=\"stroke: #F8F8F8; stroke-width: 1.5;\" width=\"12\" x=\"435\" y=\"108\"/><text fill=\"#000000\" font-family=\"sans-serif\" font-size=\"14\" lengthAdjust=\"spacingAndGlyphs\" textLength=\"48\" x=\"464\" y=\"92.6982\">p2: ~P</text><rect fill=\"#383838\" height=\"12\" style=\"stroke: #F8F8F8; stroke-width: 1.5;\" width=\"12\" x=\"482\" y=\"108\"/><text fill=\"#000000\" font-family=\"sans-serif\" font-size=\"14\" lengthAdjust=\"spacingAndGlyphs\" textLength=\"36\" x=\"254\" y=\"92.6982\">p1: P</text><rect fill=\"#383838\" height=\"12\" style=\"stroke: #F8F8F8; stroke-width: 1.5;\" width=\"12\" x=\"266\" y=\"108\"/><text fill=\"#000000\" font-family=\"sans-serif\" font-size=\"14\" lengthAdjust=\"spacingAndGlyphs\" textLength=\"48\" x=\"295\" y=\"92.6982\">p2: ~P</text><rect fill=\"#383838\" height=\"12\" style=\"stroke: #F8F8F8; stroke-width: 1.5;\" width=\"12\" x=\"313\" y=\"108\"/><text fill=\"#000000\" font-family=\"sans-serif\" font-size=\"14\" lengthAdjust=\"spacingAndGlyphs\" textLength=\"36\" x=\"132\" y=\"92.6982\">p1: P</text><rect fill=\"#383838\" height=\"12\" style=\"stroke: #F8F8F8; stroke-width: 1.5;\" width=\"12\" x=\"144\" y=\"108\"/><text fill=\"#000000\" font-family=\"sans-serif\" font-size=\"14\" lengthAdjust=\"spacingAndGlyphs\" textLength=\"48\" x=\"173\" y=\"92.6982\">p2: ~P</text><rect fill=\"#383838\" height=\"12\" style=\"stroke: #F8F8F8; stroke-width: 1.5;\" width=\"12\" x=\"191\" y=\"108\"/><!--MD5=[4ce51ac6fa4cf5202df3859e2718f033]\n",
       "link E15 to E14--><a href=\"psysml:8d97a70f-8cd3-421a-99bb-bcc3f52cef04\" target=\"_top\" title=\"psysml:8d97a70f-8cd3-421a-99bb-bcc3f52cef04\" xlink:actuate=\"onRequest\" xlink:href=\"psysml:8d97a70f-8cd3-421a-99bb-bcc3f52cef04\" xlink:show=\"new\" xlink:title=\"psysml:8d97a70f-8cd3-421a-99bb-bcc3f52cef04\" xlink:type=\"simple\"><path d=\"M190.95,114 C179.38,114 167.81,114 156.24,114 \" fill=\"none\" id=\"E15-E14\" style=\"stroke: #383838; stroke-width: 3.0;\"/></a><!--MD5=[4ce51ac6fa4cf5202df3859e2718f033]\n",
       "link E15 to E14--><a href=\"psysml:4e5d56fb-a30b-410a-93da-f699910e5442\" target=\"_top\" title=\"psysml:4e5d56fb-a30b-410a-93da-f699910e5442\" xlink:actuate=\"onRequest\" xlink:href=\"psysml:4e5d56fb-a30b-410a-93da-f699910e5442\" xlink:show=\"new\" xlink:title=\"psysml:4e5d56fb-a30b-410a-93da-f699910e5442\" xlink:type=\"simple\"><path d=\"M190.95,111.98 C179.38,108.69 167.81,108.67 156.24,111.93 \" fill=\"none\" id=\"E15-E14-1\" style=\"stroke: #383838; stroke-width: 3.0;\"/></a><!--MD5=[1d1340e203919678e84f3f53db34faf7]\n",
       "@startuml\r\n",
       "skinparam ranksep 10\r\n",
       "skinparam rectangle {\r\n",
       " backgroundColor<<block>> LightGreen\r\n",
       "}\r\n",
       " skinparam monochrome true\r\n",
       "skinparam classbackgroundcolor white\r\n",
       "skinparam shadowing false\r\n",
       "skinparam wrapWidth 300\r\n",
       "hide circle\r\n",
       "\r\n",
       "package \"ConjugationTest\" as E1  [[psysml:4ba0ad9e-a677-47db-af1d-b015e8f93aef ]]  {\r\n",
       "def \"P\" as E2  <<(T,blue)port def>> [[psysml:0d231d17-09c4-40d0-a4bc-6d43713d1eea ]] \r\n",
       "rec def \"B\" as E3  <<(T,blue)part def>> [[psysml:1fca8384-68db-4c35-8908-d644a05ab33b ]] {\r\n",
       "portin \"p1: P\" as E4  <<(T,blue)port>> [[psysml:ac9a4e52-d9d9-4ed8-9786-da9347d8a24d ]] \r\n",
       "portin \"p2: ~P\" as E5  <<(T,blue)port>> [[psysml:dd7140d6-57c4-455c-b235-fe627e1ecfff ]] \r\n",
       "}\r\n",
       "rec def \"A\" as E6  <<(T,blue)connection def>> [[psysml:d9048fa2-8c0d-4237-aabb-192a68938198 ]] {\r\n",
       "portin \"p1: P\" as E7  <<(T,blue)port>> [[psysml:135e4066-7c15-417d-820e-373a33adf188 ]] \r\n",
       "portin \"p2: ~P\" as E8  <<(T,blue)port>> [[psysml:242160d8-1eb8-4593-9cf8-95e70ea0b9fa ]] \r\n",
       "}\r\n",
       "rec def \"I\" as E9  <<(T,blue)interface def>> [[psysml:b68d4e65-0a25-4b32-9474-7d6b33189e06 ]] {\r\n",
       "portin \"p1: P\" as E10  <<(T,blue)port>> [[psysml:c610f798-3696-48d0-b489-00c6b6b02c5c ]] \r\n",
       "portin \"p2: ~P\" as E11  <<(T,blue)port>> [[psysml:82b7a088-1726-4de6-92a0-2f3113dfc02a ]] \r\n",
       "}\r\n",
       "rec def \"B1\" as E12  <<(T,blue)part def>> [[psysml:4bc8843d-d10d-4f46-93fe-21c75269e8aa ]] {\r\n",
       "rec usage \"p\" as E13  [[psysml:37b5f10a-21e5-48b2-b2b2-bc5c291ce903 ]] {\r\n",
       "portin \"p1: P\" as E14  <<(T,blue)port>> [[psysml:c9e1cbea-e956-4380-9b02-2ad2a26c5224 ]] \r\n",
       "portin \"p2: ~P\" as E15  <<(T,blue)port>> [[psysml:91fc773b-55a8-419c-8531-23cd35b1b670 ]] \r\n",
       "}\r\n",
       "}\r\n",
       "E15 -[thickness=3]- E14 [[psysml:8d97a70f-8cd3-421a-99bb-bcc3f52cef04 ]] \r\n",
       "E15 -[thickness=3]- E14 [[psysml:4e5d56fb-a30b-410a-93da-f699910e5442 ]] \r\n",
       "}\r\n",
       "@enduml\r\n",
       "\n",
       "PlantUML version 1.2020.13(Sat Jun 13 12:26:38 UTC 2020)\n",
       "(EPL source distribution)\n",
       "Java Runtime: OpenJDK Runtime Environment\n",
       "JVM: OpenJDK 64-Bit Server VM\n",
       "Default Encoding: UTF-8\n",
       "Language: en\n",
       "Country: null\n",
       "--></g></svg>"
      ]
     },
     "execution_count": 5,
     "metadata": {},
     "output_type": "execute_result"
    }
   ],
   "source": [
    "%viz --style=\"COMPTREE\" --view=\"Interconnection\" \"ConjugationTest\""
   ]
  },
  {
   "cell_type": "code",
   "execution_count": 6,
   "id": "talented-bearing",
   "metadata": {
    "execution": {
     "iopub.execute_input": "2021-03-24T16:29:16.620846Z",
     "iopub.status.busy": "2021-03-24T16:29:16.620137Z",
     "iopub.status.idle": "2021-03-24T16:29:16.627251Z",
     "shell.execute_reply": "2021-03-24T16:29:16.627588Z"
    }
   },
   "outputs": [
    {
     "data": {
      "image/svg+xml": [
       "<?xml version=\"1.0\" encoding=\"UTF-8\" standalone=\"no\"?><svg xmlns=\"http://www.w3.org/2000/svg\" xmlns:xlink=\"http://www.w3.org/1999/xlink\" contentScriptType=\"application/ecmascript\" contentStyleType=\"text/css\" height=\"12px\" preserveAspectRatio=\"none\" style=\"width:12px;height:12px;\" version=\"1.1\" viewBox=\"0 0 12 12\" width=\"12px\" zoomAndPan=\"magnify\"><defs/><g><!--MD5=[655b888544ca4751ea36af1068543f84]\n",
       "@startuml\r\n",
       "skinparam ranksep 8\r\n",
       " skinparam monochrome true\r\n",
       "skinparam classbackgroundcolor white\r\n",
       "skinparam shadowing false\r\n",
       "skinparam wrapWidth 300\r\n",
       "hide circle\r\n",
       "\r\n",
       "@enduml\r\n",
       "\n",
       "PlantUML version 1.2020.13(Sat Jun 13 12:26:38 UTC 2020)\n",
       "(EPL source distribution)\n",
       "Java Runtime: OpenJDK Runtime Environment\n",
       "JVM: OpenJDK 64-Bit Server VM\n",
       "Default Encoding: UTF-8\n",
       "Language: en\n",
       "Country: null\n",
       "--></g></svg>"
      ]
     },
     "execution_count": 6,
     "metadata": {},
     "output_type": "execute_result"
    }
   ],
   "source": [
    "%viz --style=\"COMPTREE\" --view=\"Action\" \"ConjugationTest\""
   ]
  },
  {
   "cell_type": "code",
   "execution_count": 7,
   "id": "violent-bidding",
   "metadata": {
    "execution": {
     "iopub.execute_input": "2021-03-24T16:29:16.678495Z",
     "iopub.status.busy": "2021-03-24T16:29:16.677817Z",
     "iopub.status.idle": "2021-03-24T16:29:16.840815Z",
     "shell.execute_reply": "2021-03-24T16:29:16.839493Z"
    }
   },
   "outputs": [
    {
     "data": {
      "image/svg+xml": [
       "<?xml version=\"1.0\" encoding=\"UTF-8\" standalone=\"no\"?><svg xmlns=\"http://www.w3.org/2000/svg\" xmlns:xlink=\"http://www.w3.org/1999/xlink\" contentScriptType=\"application/ecmascript\" contentStyleType=\"text/css\" height=\"305px\" preserveAspectRatio=\"none\" style=\"width:614px;height:305px;\" version=\"1.1\" viewBox=\"0 0 614 305\" width=\"614px\" zoomAndPan=\"magnify\"><defs/><g><!--MD5=[fbc87193dbaf4d95561dea2c320d4a47]\n",
       "cluster E1--><a href=\"psysml:4ba0ad9e-a677-47db-af1d-b015e8f93aef\" target=\"_top\" title=\"psysml:4ba0ad9e-a677-47db-af1d-b015e8f93aef\" xlink:actuate=\"onRequest\" xlink:href=\"psysml:4ba0ad9e-a677-47db-af1d-b015e8f93aef\" xlink:show=\"new\" xlink:title=\"psysml:4ba0ad9e-a677-47db-af1d-b015e8f93aef\" xlink:type=\"simple\"><polygon fill=\"#FFFFFF\" points=\"16,6,151,6,158,28.2969,592,28.2969,592,293,16,293,16,6\" style=\"stroke: #000000; stroke-width: 1.5;\"/><line style=\"stroke: #000000; stroke-width: 1.5;\" x1=\"16\" x2=\"158\" y1=\"28.2969\" y2=\"28.2969\"/><text fill=\"#000000\" font-family=\"sans-serif\" font-size=\"14\" font-weight=\"bold\" lengthAdjust=\"spacingAndGlyphs\" textLength=\"129\" x=\"20\" y=\"20.9951\">ConjugationTest</text></a><!--MD5=[b4997ac47864f28c2f74865a473b2911]\n",
       "class E2--><a href=\"psysml:0d231d17-09c4-40d0-a4bc-6d43713d1eea\" target=\"_top\" title=\"psysml:0d231d17-09c4-40d0-a4bc-6d43713d1eea\" xlink:actuate=\"onRequest\" xlink:href=\"psysml:0d231d17-09c4-40d0-a4bc-6d43713d1eea\" xlink:show=\"new\" xlink:title=\"psysml:0d231d17-09c4-40d0-a4bc-6d43713d1eea\" xlink:type=\"simple\"><rect fill=\"#FFFFFF\" height=\"45.9375\" id=\"E2\" style=\"stroke: #383838; stroke-width: 1.5;\" width=\"66\" x=\"510\" y=\"62\"/><text fill=\"#000000\" font-family=\"sans-serif\" font-size=\"12\" font-style=\"italic\" lengthAdjust=\"spacingAndGlyphs\" textLength=\"64\" x=\"511\" y=\"78.1387\">«port def»</text><text fill=\"#000000\" font-family=\"sans-serif\" font-size=\"12\" lengthAdjust=\"spacingAndGlyphs\" textLength=\"8\" x=\"539\" y=\"92.1074\">P</text><line style=\"stroke: #383838; stroke-width: 1.5;\" x1=\"511\" x2=\"575\" y1=\"99.9375\" y2=\"99.9375\"/></a><!--MD5=[09b614a08d8cba4a07c9adeb5e0fee81]\n",
       "class E3--><a href=\"psysml:1fca8384-68db-4c35-8908-d644a05ab33b\" target=\"_top\" title=\"psysml:1fca8384-68db-4c35-8908-d644a05ab33b\" xlink:actuate=\"onRequest\" xlink:href=\"psysml:1fca8384-68db-4c35-8908-d644a05ab33b\" xlink:show=\"new\" xlink:title=\"psysml:1fca8384-68db-4c35-8908-d644a05ab33b\" xlink:type=\"simple\"><rect fill=\"#FFFFFF\" height=\"88.3516\" id=\"E3\" style=\"stroke: #383838; stroke-width: 1.5;\" width=\"66\" x=\"409\" y=\"41\"/><text fill=\"#000000\" font-family=\"sans-serif\" font-size=\"12\" font-style=\"italic\" lengthAdjust=\"spacingAndGlyphs\" textLength=\"64\" x=\"410\" y=\"57.1387\">«part def»</text><text fill=\"#000000\" font-family=\"sans-serif\" font-size=\"12\" lengthAdjust=\"spacingAndGlyphs\" textLength=\"8\" x=\"438\" y=\"71.1074\">B</text><line style=\"stroke: #383838; stroke-width: 1.5;\" x1=\"410\" x2=\"474\" y1=\"78.9375\" y2=\"78.9375\"/><text fill=\"#000000\" font-family=\"sans-serif\" font-size=\"11\" lengthAdjust=\"spacingAndGlyphs\" textLength=\"29\" x=\"415\" y=\"109.9526\">p1: P</text><text fill=\"#000000\" font-family=\"sans-serif\" font-size=\"11\" lengthAdjust=\"spacingAndGlyphs\" textLength=\"38\" x=\"415\" y=\"122.7573\">p2: ~P</text><line style=\"stroke: #383838; stroke-width: 1.0;\" x1=\"410\" x2=\"427\" y1=\"93.3398\" y2=\"93.3398\"/><text fill=\"#000000\" font-family=\"sans-serif\" font-size=\"11\" lengthAdjust=\"spacingAndGlyphs\" textLength=\"30\" x=\"427\" y=\"96.6479\">ports</text><line style=\"stroke: #383838; stroke-width: 1.0;\" x1=\"457\" x2=\"474\" y1=\"93.3398\" y2=\"93.3398\"/></a><!--MD5=[ebbe1d658d1005bcc118a6aa81145e00]\n",
       "class E4--><a href=\"psysml:d9048fa2-8c0d-4237-aabb-192a68938198\" target=\"_top\" title=\"psysml:d9048fa2-8c0d-4237-aabb-192a68938198\" xlink:actuate=\"onRequest\" xlink:href=\"psysml:d9048fa2-8c0d-4237-aabb-192a68938198\" xlink:show=\"new\" xlink:title=\"psysml:d9048fa2-8c0d-4237-aabb-192a68938198\" xlink:type=\"simple\"><rect fill=\"#FFFFFF\" height=\"88.3516\" id=\"E4\" style=\"stroke: #383838; stroke-width: 1.5;\" width=\"110\" x=\"264\" y=\"41\"/><text fill=\"#000000\" font-family=\"sans-serif\" font-size=\"12\" font-style=\"italic\" lengthAdjust=\"spacingAndGlyphs\" textLength=\"108\" x=\"265\" y=\"57.1387\">«connection def»</text><text fill=\"#000000\" font-family=\"sans-serif\" font-size=\"12\" lengthAdjust=\"spacingAndGlyphs\" textLength=\"8\" x=\"315\" y=\"71.1074\">A</text><line style=\"stroke: #383838; stroke-width: 1.5;\" x1=\"265\" x2=\"373\" y1=\"78.9375\" y2=\"78.9375\"/><text fill=\"#000000\" font-family=\"sans-serif\" font-size=\"11\" lengthAdjust=\"spacingAndGlyphs\" textLength=\"29\" x=\"270\" y=\"109.9526\">p1: P</text><text fill=\"#000000\" font-family=\"sans-serif\" font-size=\"11\" lengthAdjust=\"spacingAndGlyphs\" textLength=\"38\" x=\"270\" y=\"122.7573\">p2: ~P</text><line style=\"stroke: #383838; stroke-width: 1.0;\" x1=\"265\" x2=\"304\" y1=\"93.3398\" y2=\"93.3398\"/><text fill=\"#000000\" font-family=\"sans-serif\" font-size=\"11\" lengthAdjust=\"spacingAndGlyphs\" textLength=\"30\" x=\"304\" y=\"96.6479\">ports</text><line style=\"stroke: #383838; stroke-width: 1.0;\" x1=\"334\" x2=\"373\" y1=\"93.3398\" y2=\"93.3398\"/></a><!--MD5=[270fce915f116d4de14055a7c1d9a0f3]\n",
       "class E5--><a href=\"psysml:b68d4e65-0a25-4b32-9474-7d6b33189e06\" target=\"_top\" title=\"psysml:b68d4e65-0a25-4b32-9474-7d6b33189e06\" xlink:actuate=\"onRequest\" xlink:href=\"psysml:b68d4e65-0a25-4b32-9474-7d6b33189e06\" xlink:show=\"new\" xlink:title=\"psysml:b68d4e65-0a25-4b32-9474-7d6b33189e06\" xlink:type=\"simple\"><rect fill=\"#FFFFFF\" height=\"88.3516\" id=\"E5\" style=\"stroke: #383838; stroke-width: 1.5;\" width=\"96\" x=\"133\" y=\"41\"/><text fill=\"#000000\" font-family=\"sans-serif\" font-size=\"12\" font-style=\"italic\" lengthAdjust=\"spacingAndGlyphs\" textLength=\"94\" x=\"134\" y=\"57.1387\">«interface def»</text><text fill=\"#000000\" font-family=\"sans-serif\" font-size=\"12\" lengthAdjust=\"spacingAndGlyphs\" textLength=\"3\" x=\"179.5\" y=\"71.1074\">I</text><line style=\"stroke: #383838; stroke-width: 1.5;\" x1=\"134\" x2=\"228\" y1=\"78.9375\" y2=\"78.9375\"/><text fill=\"#000000\" font-family=\"sans-serif\" font-size=\"11\" lengthAdjust=\"spacingAndGlyphs\" textLength=\"29\" x=\"139\" y=\"109.9526\">p1: P</text><text fill=\"#000000\" font-family=\"sans-serif\" font-size=\"11\" lengthAdjust=\"spacingAndGlyphs\" textLength=\"38\" x=\"139\" y=\"122.7573\">p2: ~P</text><line style=\"stroke: #383838; stroke-width: 1.0;\" x1=\"134\" x2=\"166\" y1=\"93.3398\" y2=\"93.3398\"/><text fill=\"#000000\" font-family=\"sans-serif\" font-size=\"11\" lengthAdjust=\"spacingAndGlyphs\" textLength=\"30\" x=\"166\" y=\"96.6479\">ports</text><line style=\"stroke: #383838; stroke-width: 1.0;\" x1=\"196\" x2=\"228\" y1=\"93.3398\" y2=\"93.3398\"/></a><!--MD5=[60a26617385b1d2d0262a64233df1f8d]\n",
       "class E6--><a href=\"psysml:4bc8843d-d10d-4f46-93fe-21c75269e8aa\" target=\"_top\" title=\"psysml:4bc8843d-d10d-4f46-93fe-21c75269e8aa\" xlink:actuate=\"onRequest\" xlink:href=\"psysml:4bc8843d-d10d-4f46-93fe-21c75269e8aa\" xlink:show=\"new\" xlink:title=\"psysml:4bc8843d-d10d-4f46-93fe-21c75269e8aa\" xlink:type=\"simple\"><rect fill=\"#FFFFFF\" height=\"45.9375\" id=\"E6\" style=\"stroke: #383838; stroke-width: 1.5;\" width=\"66\" x=\"32\" y=\"62\"/><text fill=\"#000000\" font-family=\"sans-serif\" font-size=\"12\" font-style=\"italic\" lengthAdjust=\"spacingAndGlyphs\" textLength=\"64\" x=\"33\" y=\"78.1387\">«part def»</text><text fill=\"#000000\" font-family=\"sans-serif\" font-size=\"12\" lengthAdjust=\"spacingAndGlyphs\" textLength=\"16\" x=\"57\" y=\"92.1074\">B1</text><line style=\"stroke: #383838; stroke-width: 1.5;\" x1=\"33\" x2=\"97\" y1=\"99.9375\" y2=\"99.9375\"/></a><!--MD5=[2156ba9850f5573cc1fc38a6a4b2f02b]\n",
       "class E7--><a href=\"psysml:37b5f10a-21e5-48b2-b2b2-bc5c291ce903\" target=\"_top\" title=\"psysml:37b5f10a-21e5-48b2-b2b2-bc5c291ce903\" xlink:actuate=\"onRequest\" xlink:href=\"psysml:37b5f10a-21e5-48b2-b2b2-bc5c291ce903\" xlink:show=\"new\" xlink:title=\"psysml:37b5f10a-21e5-48b2-b2b2-bc5c291ce903\" xlink:type=\"simple\"><rect fill=\"#FFFFFF\" height=\"88.3516\" id=\"E7\" rx=\"10\" ry=\"10\" style=\"stroke: #383838; stroke-width: 1.5;\" width=\"50\" x=\"40\" y=\"189\"/><text fill=\"#000000\" font-family=\"sans-serif\" font-size=\"12\" font-style=\"italic\" lengthAdjust=\"spacingAndGlyphs\" textLength=\"40\" x=\"45\" y=\"205.1387\">«part»</text><text fill=\"#000000\" font-family=\"sans-serif\" font-size=\"12\" lengthAdjust=\"spacingAndGlyphs\" textLength=\"8\" x=\"61\" y=\"219.1074\">p</text><line style=\"stroke: #383838; stroke-width: 1.5;\" x1=\"41\" x2=\"89\" y1=\"226.9375\" y2=\"226.9375\"/><text fill=\"#000000\" font-family=\"sans-serif\" font-size=\"11\" lengthAdjust=\"spacingAndGlyphs\" textLength=\"29\" x=\"46\" y=\"257.9526\">p1: P</text><text fill=\"#000000\" font-family=\"sans-serif\" font-size=\"11\" lengthAdjust=\"spacingAndGlyphs\" textLength=\"38\" x=\"46\" y=\"270.7573\">p2: ~P</text><line style=\"stroke: #383838; stroke-width: 1.0;\" x1=\"41\" x2=\"50\" y1=\"241.3398\" y2=\"241.3398\"/><text fill=\"#000000\" font-family=\"sans-serif\" font-size=\"11\" lengthAdjust=\"spacingAndGlyphs\" textLength=\"30\" x=\"50\" y=\"244.6479\">ports</text><line style=\"stroke: #383838; stroke-width: 1.0;\" x1=\"80\" x2=\"89\" y1=\"241.3398\" y2=\"241.3398\"/></a><!--MD5=[3f50a3473f1dfb74d3f76443e03635af]\n",
       "reverse link E6 to E7--><a href=\"psysml:37b5f10a-21e5-48b2-b2b2-bc5c291ce903\" target=\"_top\" title=\"psysml:37b5f10a-21e5-48b2-b2b2-bc5c291ce903\" xlink:actuate=\"onRequest\" xlink:href=\"psysml:37b5f10a-21e5-48b2-b2b2-bc5c291ce903\" xlink:show=\"new\" xlink:title=\"psysml:37b5f10a-21e5-48b2-b2b2-bc5c291ce903\" xlink:type=\"simple\"><path d=\"M65,121.25 C65,141.54 65,167.2 65,188.71 \" fill=\"none\" id=\"E6&lt;-E7\" style=\"stroke: #383838; stroke-width: 1.0;\"/><polygon fill=\"#383838\" points=\"65,108.17,61,114.17,65,120.17,69,114.17,65,108.17\" style=\"stroke: #383838; stroke-width: 1.0;\"/></a><!--MD5=[9b231b1d7bc288e33d27a2763be573a3]\n",
       "@startuml\r\n",
       " skinparam monochrome true\r\n",
       "skinparam classbackgroundcolor white\r\n",
       "skinparam shadowing false\r\n",
       "skinparam wrapWidth 300\r\n",
       "hide circle\r\n",
       "\r\n",
       "package \"ConjugationTest\" as E1  [[psysml:4ba0ad9e-a677-47db-af1d-b015e8f93aef ]]  {\r\n",
       "comp def \"P\" as E2  <<(T,blue)port def>> [[psysml:0d231d17-09c4-40d0-a4bc-6d43713d1eea ]] {\r\n",
       "}\r\n",
       "comp def \"B\" as E3  <<(T,blue)part def>> [[psysml:1fca8384-68db-4c35-8908-d644a05ab33b ]] {\r\n",
       "- - ports - -\r\n",
       "p1: P\r\n",
       "p2: ~P\r\n",
       "}\r\n",
       "comp def \"A\" as E4  <<(T,blue)connection def>> [[psysml:d9048fa2-8c0d-4237-aabb-192a68938198 ]] {\r\n",
       "- - ports - -\r\n",
       "p1: P\r\n",
       "p2: ~P\r\n",
       "}\r\n",
       "comp def \"I\" as E5  <<(T,blue)interface def>> [[psysml:b68d4e65-0a25-4b32-9474-7d6b33189e06 ]] {\r\n",
       "- - ports - -\r\n",
       "p1: P\r\n",
       "p2: ~P\r\n",
       "}\r\n",
       "comp def \"B1\" as E6  <<(T,blue)part def>> [[psysml:4bc8843d-d10d-4f46-93fe-21c75269e8aa ]] {\r\n",
       "}\r\n",
       "comp usage \"p\" as E7  <<(T,blue)part>> [[psysml:37b5f10a-21e5-48b2-b2b2-bc5c291ce903 ]] {\r\n",
       "- - ports - -\r\n",
       "p1: P\r\n",
       "p2: ~P\r\n",
       "}\r\n",
       "E6 *- - E7 [[psysml:37b5f10a-21e5-48b2-b2b2-bc5c291ce903 ]] \r\n",
       "}\r\n",
       "@enduml\r\n",
       "\n",
       "PlantUML version 1.2020.13(Sat Jun 13 12:26:38 UTC 2020)\n",
       "(EPL source distribution)\n",
       "Java Runtime: OpenJDK Runtime Environment\n",
       "JVM: OpenJDK 64-Bit Server VM\n",
       "Default Encoding: UTF-8\n",
       "Language: en\n",
       "Country: null\n",
       "--></g></svg>"
      ]
     },
     "execution_count": 7,
     "metadata": {},
     "output_type": "execute_result"
    }
   ],
   "source": [
    "%viz --style=\"COMPTREE\" --view=\"Sequence\" \"ConjugationTest\""
   ]
  },
  {
   "cell_type": "code",
   "execution_count": 8,
   "id": "funded-heaven",
   "metadata": {
    "execution": {
     "iopub.execute_input": "2021-03-24T16:29:16.896883Z",
     "iopub.status.busy": "2021-03-24T16:29:16.895407Z",
     "iopub.status.idle": "2021-03-24T16:29:17.092080Z",
     "shell.execute_reply": "2021-03-24T16:29:17.092446Z"
    }
   },
   "outputs": [
    {
     "data": {
      "image/svg+xml": [
       "<?xml version=\"1.0\" encoding=\"UTF-8\" standalone=\"no\"?><svg xmlns=\"http://www.w3.org/2000/svg\" xmlns:xlink=\"http://www.w3.org/1999/xlink\" contentScriptType=\"application/ecmascript\" contentStyleType=\"text/css\" height=\"305px\" preserveAspectRatio=\"none\" style=\"width:614px;height:305px;\" version=\"1.1\" viewBox=\"0 0 614 305\" width=\"614px\" zoomAndPan=\"magnify\"><defs/><g><!--MD5=[fbc87193dbaf4d95561dea2c320d4a47]\n",
       "cluster E1--><a href=\"psysml:4ba0ad9e-a677-47db-af1d-b015e8f93aef\" target=\"_top\" title=\"psysml:4ba0ad9e-a677-47db-af1d-b015e8f93aef\" xlink:actuate=\"onRequest\" xlink:href=\"psysml:4ba0ad9e-a677-47db-af1d-b015e8f93aef\" xlink:show=\"new\" xlink:title=\"psysml:4ba0ad9e-a677-47db-af1d-b015e8f93aef\" xlink:type=\"simple\"><polygon fill=\"#FFFFFF\" points=\"16,6,151,6,158,28.2969,592,28.2969,592,293,16,293,16,6\" style=\"stroke: #000000; stroke-width: 1.5;\"/><line style=\"stroke: #000000; stroke-width: 1.5;\" x1=\"16\" x2=\"158\" y1=\"28.2969\" y2=\"28.2969\"/><text fill=\"#000000\" font-family=\"sans-serif\" font-size=\"14\" font-weight=\"bold\" lengthAdjust=\"spacingAndGlyphs\" textLength=\"129\" x=\"20\" y=\"20.9951\">ConjugationTest</text></a><!--MD5=[b4997ac47864f28c2f74865a473b2911]\n",
       "class E2--><a href=\"psysml:0d231d17-09c4-40d0-a4bc-6d43713d1eea\" target=\"_top\" title=\"psysml:0d231d17-09c4-40d0-a4bc-6d43713d1eea\" xlink:actuate=\"onRequest\" xlink:href=\"psysml:0d231d17-09c4-40d0-a4bc-6d43713d1eea\" xlink:show=\"new\" xlink:title=\"psysml:0d231d17-09c4-40d0-a4bc-6d43713d1eea\" xlink:type=\"simple\"><rect fill=\"#FFFFFF\" height=\"45.9375\" id=\"E2\" style=\"stroke: #383838; stroke-width: 1.5;\" width=\"66\" x=\"510\" y=\"62\"/><text fill=\"#000000\" font-family=\"sans-serif\" font-size=\"12\" font-style=\"italic\" lengthAdjust=\"spacingAndGlyphs\" textLength=\"64\" x=\"511\" y=\"78.1387\">«port def»</text><text fill=\"#000000\" font-family=\"sans-serif\" font-size=\"12\" lengthAdjust=\"spacingAndGlyphs\" textLength=\"8\" x=\"539\" y=\"92.1074\">P</text><line style=\"stroke: #383838; stroke-width: 1.5;\" x1=\"511\" x2=\"575\" y1=\"99.9375\" y2=\"99.9375\"/></a><!--MD5=[09b614a08d8cba4a07c9adeb5e0fee81]\n",
       "class E3--><a href=\"psysml:1fca8384-68db-4c35-8908-d644a05ab33b\" target=\"_top\" title=\"psysml:1fca8384-68db-4c35-8908-d644a05ab33b\" xlink:actuate=\"onRequest\" xlink:href=\"psysml:1fca8384-68db-4c35-8908-d644a05ab33b\" xlink:show=\"new\" xlink:title=\"psysml:1fca8384-68db-4c35-8908-d644a05ab33b\" xlink:type=\"simple\"><rect fill=\"#FFFFFF\" height=\"88.3516\" id=\"E3\" style=\"stroke: #383838; stroke-width: 1.5;\" width=\"66\" x=\"409\" y=\"41\"/><text fill=\"#000000\" font-family=\"sans-serif\" font-size=\"12\" font-style=\"italic\" lengthAdjust=\"spacingAndGlyphs\" textLength=\"64\" x=\"410\" y=\"57.1387\">«part def»</text><text fill=\"#000000\" font-family=\"sans-serif\" font-size=\"12\" lengthAdjust=\"spacingAndGlyphs\" textLength=\"8\" x=\"438\" y=\"71.1074\">B</text><line style=\"stroke: #383838; stroke-width: 1.5;\" x1=\"410\" x2=\"474\" y1=\"78.9375\" y2=\"78.9375\"/><text fill=\"#000000\" font-family=\"sans-serif\" font-size=\"11\" lengthAdjust=\"spacingAndGlyphs\" textLength=\"29\" x=\"415\" y=\"109.9526\">p1: P</text><text fill=\"#000000\" font-family=\"sans-serif\" font-size=\"11\" lengthAdjust=\"spacingAndGlyphs\" textLength=\"38\" x=\"415\" y=\"122.7573\">p2: ~P</text><line style=\"stroke: #383838; stroke-width: 1.0;\" x1=\"410\" x2=\"427\" y1=\"93.3398\" y2=\"93.3398\"/><text fill=\"#000000\" font-family=\"sans-serif\" font-size=\"11\" lengthAdjust=\"spacingAndGlyphs\" textLength=\"30\" x=\"427\" y=\"96.6479\">ports</text><line style=\"stroke: #383838; stroke-width: 1.0;\" x1=\"457\" x2=\"474\" y1=\"93.3398\" y2=\"93.3398\"/></a><!--MD5=[ebbe1d658d1005bcc118a6aa81145e00]\n",
       "class E4--><a href=\"psysml:d9048fa2-8c0d-4237-aabb-192a68938198\" target=\"_top\" title=\"psysml:d9048fa2-8c0d-4237-aabb-192a68938198\" xlink:actuate=\"onRequest\" xlink:href=\"psysml:d9048fa2-8c0d-4237-aabb-192a68938198\" xlink:show=\"new\" xlink:title=\"psysml:d9048fa2-8c0d-4237-aabb-192a68938198\" xlink:type=\"simple\"><rect fill=\"#FFFFFF\" height=\"88.3516\" id=\"E4\" style=\"stroke: #383838; stroke-width: 1.5;\" width=\"110\" x=\"264\" y=\"41\"/><text fill=\"#000000\" font-family=\"sans-serif\" font-size=\"12\" font-style=\"italic\" lengthAdjust=\"spacingAndGlyphs\" textLength=\"108\" x=\"265\" y=\"57.1387\">«connection def»</text><text fill=\"#000000\" font-family=\"sans-serif\" font-size=\"12\" lengthAdjust=\"spacingAndGlyphs\" textLength=\"8\" x=\"315\" y=\"71.1074\">A</text><line style=\"stroke: #383838; stroke-width: 1.5;\" x1=\"265\" x2=\"373\" y1=\"78.9375\" y2=\"78.9375\"/><text fill=\"#000000\" font-family=\"sans-serif\" font-size=\"11\" lengthAdjust=\"spacingAndGlyphs\" textLength=\"29\" x=\"270\" y=\"109.9526\">p1: P</text><text fill=\"#000000\" font-family=\"sans-serif\" font-size=\"11\" lengthAdjust=\"spacingAndGlyphs\" textLength=\"38\" x=\"270\" y=\"122.7573\">p2: ~P</text><line style=\"stroke: #383838; stroke-width: 1.0;\" x1=\"265\" x2=\"304\" y1=\"93.3398\" y2=\"93.3398\"/><text fill=\"#000000\" font-family=\"sans-serif\" font-size=\"11\" lengthAdjust=\"spacingAndGlyphs\" textLength=\"30\" x=\"304\" y=\"96.6479\">ports</text><line style=\"stroke: #383838; stroke-width: 1.0;\" x1=\"334\" x2=\"373\" y1=\"93.3398\" y2=\"93.3398\"/></a><!--MD5=[270fce915f116d4de14055a7c1d9a0f3]\n",
       "class E5--><a href=\"psysml:b68d4e65-0a25-4b32-9474-7d6b33189e06\" target=\"_top\" title=\"psysml:b68d4e65-0a25-4b32-9474-7d6b33189e06\" xlink:actuate=\"onRequest\" xlink:href=\"psysml:b68d4e65-0a25-4b32-9474-7d6b33189e06\" xlink:show=\"new\" xlink:title=\"psysml:b68d4e65-0a25-4b32-9474-7d6b33189e06\" xlink:type=\"simple\"><rect fill=\"#FFFFFF\" height=\"88.3516\" id=\"E5\" style=\"stroke: #383838; stroke-width: 1.5;\" width=\"96\" x=\"133\" y=\"41\"/><text fill=\"#000000\" font-family=\"sans-serif\" font-size=\"12\" font-style=\"italic\" lengthAdjust=\"spacingAndGlyphs\" textLength=\"94\" x=\"134\" y=\"57.1387\">«interface def»</text><text fill=\"#000000\" font-family=\"sans-serif\" font-size=\"12\" lengthAdjust=\"spacingAndGlyphs\" textLength=\"3\" x=\"179.5\" y=\"71.1074\">I</text><line style=\"stroke: #383838; stroke-width: 1.5;\" x1=\"134\" x2=\"228\" y1=\"78.9375\" y2=\"78.9375\"/><text fill=\"#000000\" font-family=\"sans-serif\" font-size=\"11\" lengthAdjust=\"spacingAndGlyphs\" textLength=\"29\" x=\"139\" y=\"109.9526\">p1: P</text><text fill=\"#000000\" font-family=\"sans-serif\" font-size=\"11\" lengthAdjust=\"spacingAndGlyphs\" textLength=\"38\" x=\"139\" y=\"122.7573\">p2: ~P</text><line style=\"stroke: #383838; stroke-width: 1.0;\" x1=\"134\" x2=\"166\" y1=\"93.3398\" y2=\"93.3398\"/><text fill=\"#000000\" font-family=\"sans-serif\" font-size=\"11\" lengthAdjust=\"spacingAndGlyphs\" textLength=\"30\" x=\"166\" y=\"96.6479\">ports</text><line style=\"stroke: #383838; stroke-width: 1.0;\" x1=\"196\" x2=\"228\" y1=\"93.3398\" y2=\"93.3398\"/></a><!--MD5=[60a26617385b1d2d0262a64233df1f8d]\n",
       "class E6--><a href=\"psysml:4bc8843d-d10d-4f46-93fe-21c75269e8aa\" target=\"_top\" title=\"psysml:4bc8843d-d10d-4f46-93fe-21c75269e8aa\" xlink:actuate=\"onRequest\" xlink:href=\"psysml:4bc8843d-d10d-4f46-93fe-21c75269e8aa\" xlink:show=\"new\" xlink:title=\"psysml:4bc8843d-d10d-4f46-93fe-21c75269e8aa\" xlink:type=\"simple\"><rect fill=\"#FFFFFF\" height=\"45.9375\" id=\"E6\" style=\"stroke: #383838; stroke-width: 1.5;\" width=\"66\" x=\"32\" y=\"62\"/><text fill=\"#000000\" font-family=\"sans-serif\" font-size=\"12\" font-style=\"italic\" lengthAdjust=\"spacingAndGlyphs\" textLength=\"64\" x=\"33\" y=\"78.1387\">«part def»</text><text fill=\"#000000\" font-family=\"sans-serif\" font-size=\"12\" lengthAdjust=\"spacingAndGlyphs\" textLength=\"16\" x=\"57\" y=\"92.1074\">B1</text><line style=\"stroke: #383838; stroke-width: 1.5;\" x1=\"33\" x2=\"97\" y1=\"99.9375\" y2=\"99.9375\"/></a><!--MD5=[2156ba9850f5573cc1fc38a6a4b2f02b]\n",
       "class E7--><a href=\"psysml:37b5f10a-21e5-48b2-b2b2-bc5c291ce903\" target=\"_top\" title=\"psysml:37b5f10a-21e5-48b2-b2b2-bc5c291ce903\" xlink:actuate=\"onRequest\" xlink:href=\"psysml:37b5f10a-21e5-48b2-b2b2-bc5c291ce903\" xlink:show=\"new\" xlink:title=\"psysml:37b5f10a-21e5-48b2-b2b2-bc5c291ce903\" xlink:type=\"simple\"><rect fill=\"#FFFFFF\" height=\"88.3516\" id=\"E7\" rx=\"10\" ry=\"10\" style=\"stroke: #383838; stroke-width: 1.5;\" width=\"50\" x=\"40\" y=\"189\"/><text fill=\"#000000\" font-family=\"sans-serif\" font-size=\"12\" font-style=\"italic\" lengthAdjust=\"spacingAndGlyphs\" textLength=\"40\" x=\"45\" y=\"205.1387\">«part»</text><text fill=\"#000000\" font-family=\"sans-serif\" font-size=\"12\" lengthAdjust=\"spacingAndGlyphs\" textLength=\"8\" x=\"61\" y=\"219.1074\">p</text><line style=\"stroke: #383838; stroke-width: 1.5;\" x1=\"41\" x2=\"89\" y1=\"226.9375\" y2=\"226.9375\"/><text fill=\"#000000\" font-family=\"sans-serif\" font-size=\"11\" lengthAdjust=\"spacingAndGlyphs\" textLength=\"29\" x=\"46\" y=\"257.9526\">p1: P</text><text fill=\"#000000\" font-family=\"sans-serif\" font-size=\"11\" lengthAdjust=\"spacingAndGlyphs\" textLength=\"38\" x=\"46\" y=\"270.7573\">p2: ~P</text><line style=\"stroke: #383838; stroke-width: 1.0;\" x1=\"41\" x2=\"50\" y1=\"241.3398\" y2=\"241.3398\"/><text fill=\"#000000\" font-family=\"sans-serif\" font-size=\"11\" lengthAdjust=\"spacingAndGlyphs\" textLength=\"30\" x=\"50\" y=\"244.6479\">ports</text><line style=\"stroke: #383838; stroke-width: 1.0;\" x1=\"80\" x2=\"89\" y1=\"241.3398\" y2=\"241.3398\"/></a><!--MD5=[3f50a3473f1dfb74d3f76443e03635af]\n",
       "reverse link E6 to E7--><a href=\"psysml:37b5f10a-21e5-48b2-b2b2-bc5c291ce903\" target=\"_top\" title=\"psysml:37b5f10a-21e5-48b2-b2b2-bc5c291ce903\" xlink:actuate=\"onRequest\" xlink:href=\"psysml:37b5f10a-21e5-48b2-b2b2-bc5c291ce903\" xlink:show=\"new\" xlink:title=\"psysml:37b5f10a-21e5-48b2-b2b2-bc5c291ce903\" xlink:type=\"simple\"><path d=\"M65,121.25 C65,141.54 65,167.2 65,188.71 \" fill=\"none\" id=\"E6&lt;-E7\" style=\"stroke: #383838; stroke-width: 1.0;\"/><polygon fill=\"#383838\" points=\"65,108.17,61,114.17,65,120.17,69,114.17,65,108.17\" style=\"stroke: #383838; stroke-width: 1.0;\"/></a><!--MD5=[9b231b1d7bc288e33d27a2763be573a3]\n",
       "@startuml\r\n",
       " skinparam monochrome true\r\n",
       "skinparam classbackgroundcolor white\r\n",
       "skinparam shadowing false\r\n",
       "skinparam wrapWidth 300\r\n",
       "hide circle\r\n",
       "\r\n",
       "package \"ConjugationTest\" as E1  [[psysml:4ba0ad9e-a677-47db-af1d-b015e8f93aef ]]  {\r\n",
       "comp def \"P\" as E2  <<(T,blue)port def>> [[psysml:0d231d17-09c4-40d0-a4bc-6d43713d1eea ]] {\r\n",
       "}\r\n",
       "comp def \"B\" as E3  <<(T,blue)part def>> [[psysml:1fca8384-68db-4c35-8908-d644a05ab33b ]] {\r\n",
       "- - ports - -\r\n",
       "p1: P\r\n",
       "p2: ~P\r\n",
       "}\r\n",
       "comp def \"A\" as E4  <<(T,blue)connection def>> [[psysml:d9048fa2-8c0d-4237-aabb-192a68938198 ]] {\r\n",
       "- - ports - -\r\n",
       "p1: P\r\n",
       "p2: ~P\r\n",
       "}\r\n",
       "comp def \"I\" as E5  <<(T,blue)interface def>> [[psysml:b68d4e65-0a25-4b32-9474-7d6b33189e06 ]] {\r\n",
       "- - ports - -\r\n",
       "p1: P\r\n",
       "p2: ~P\r\n",
       "}\r\n",
       "comp def \"B1\" as E6  <<(T,blue)part def>> [[psysml:4bc8843d-d10d-4f46-93fe-21c75269e8aa ]] {\r\n",
       "}\r\n",
       "comp usage \"p\" as E7  <<(T,blue)part>> [[psysml:37b5f10a-21e5-48b2-b2b2-bc5c291ce903 ]] {\r\n",
       "- - ports - -\r\n",
       "p1: P\r\n",
       "p2: ~P\r\n",
       "}\r\n",
       "E6 *- - E7 [[psysml:37b5f10a-21e5-48b2-b2b2-bc5c291ce903 ]] \r\n",
       "}\r\n",
       "@enduml\r\n",
       "\n",
       "PlantUML version 1.2020.13(Sat Jun 13 12:26:38 UTC 2020)\n",
       "(EPL source distribution)\n",
       "Java Runtime: OpenJDK Runtime Environment\n",
       "JVM: OpenJDK 64-Bit Server VM\n",
       "Default Encoding: UTF-8\n",
       "Language: en\n",
       "Country: null\n",
       "--></g></svg>"
      ]
     },
     "execution_count": 8,
     "metadata": {},
     "output_type": "execute_result"
    }
   ],
   "source": [
    "%viz --style=\"COMPTREE\" --view=\"MIXED\" \"ConjugationTest\""
   ]
  },
  {
   "cell_type": "code",
   "execution_count": 9,
   "id": "empirical-alarm",
   "metadata": {
    "execution": {
     "iopub.execute_input": "2021-03-24T16:29:17.143100Z",
     "iopub.status.busy": "2021-03-24T16:29:17.142360Z",
     "iopub.status.idle": "2021-03-24T16:29:17.240957Z",
     "shell.execute_reply": "2021-03-24T16:29:17.239478Z"
    }
   },
   "outputs": [
    {
     "data": {
      "image/svg+xml": [
       "<?xml version=\"1.0\" encoding=\"UTF-8\" standalone=\"no\"?><svg xmlns=\"http://www.w3.org/2000/svg\" xmlns:xlink=\"http://www.w3.org/1999/xlink\" contentScriptType=\"application/ecmascript\" contentStyleType=\"text/css\" height=\"305px\" preserveAspectRatio=\"none\" style=\"width:614px;height:305px;\" version=\"1.1\" viewBox=\"0 0 614 305\" width=\"614px\" zoomAndPan=\"magnify\"><defs/><g><!--MD5=[fbc87193dbaf4d95561dea2c320d4a47]\n",
       "cluster E1--><a href=\"psysml:4ba0ad9e-a677-47db-af1d-b015e8f93aef\" target=\"_top\" title=\"psysml:4ba0ad9e-a677-47db-af1d-b015e8f93aef\" xlink:actuate=\"onRequest\" xlink:href=\"psysml:4ba0ad9e-a677-47db-af1d-b015e8f93aef\" xlink:show=\"new\" xlink:title=\"psysml:4ba0ad9e-a677-47db-af1d-b015e8f93aef\" xlink:type=\"simple\"><polygon fill=\"#FFFFFF\" points=\"16,6,151,6,158,28.2969,592,28.2969,592,293,16,293,16,6\" style=\"stroke: #000000; stroke-width: 1.5;\"/><line style=\"stroke: #000000; stroke-width: 1.5;\" x1=\"16\" x2=\"158\" y1=\"28.2969\" y2=\"28.2969\"/><text fill=\"#000000\" font-family=\"sans-serif\" font-size=\"14\" font-weight=\"bold\" lengthAdjust=\"spacingAndGlyphs\" textLength=\"129\" x=\"20\" y=\"20.9951\">ConjugationTest</text></a><!--MD5=[b4997ac47864f28c2f74865a473b2911]\n",
       "class E2--><a href=\"psysml:0d231d17-09c4-40d0-a4bc-6d43713d1eea\" target=\"_top\" title=\"psysml:0d231d17-09c4-40d0-a4bc-6d43713d1eea\" xlink:actuate=\"onRequest\" xlink:href=\"psysml:0d231d17-09c4-40d0-a4bc-6d43713d1eea\" xlink:show=\"new\" xlink:title=\"psysml:0d231d17-09c4-40d0-a4bc-6d43713d1eea\" xlink:type=\"simple\"><rect fill=\"#FFFFFF\" height=\"45.9375\" id=\"E2\" style=\"stroke: #383838; stroke-width: 1.5;\" width=\"66\" x=\"510\" y=\"62\"/><text fill=\"#000000\" font-family=\"sans-serif\" font-size=\"12\" font-style=\"italic\" lengthAdjust=\"spacingAndGlyphs\" textLength=\"64\" x=\"511\" y=\"78.1387\">«port def»</text><text fill=\"#000000\" font-family=\"sans-serif\" font-size=\"12\" lengthAdjust=\"spacingAndGlyphs\" textLength=\"8\" x=\"539\" y=\"92.1074\">P</text><line style=\"stroke: #383838; stroke-width: 1.5;\" x1=\"511\" x2=\"575\" y1=\"99.9375\" y2=\"99.9375\"/></a><!--MD5=[09b614a08d8cba4a07c9adeb5e0fee81]\n",
       "class E3--><a href=\"psysml:1fca8384-68db-4c35-8908-d644a05ab33b\" target=\"_top\" title=\"psysml:1fca8384-68db-4c35-8908-d644a05ab33b\" xlink:actuate=\"onRequest\" xlink:href=\"psysml:1fca8384-68db-4c35-8908-d644a05ab33b\" xlink:show=\"new\" xlink:title=\"psysml:1fca8384-68db-4c35-8908-d644a05ab33b\" xlink:type=\"simple\"><rect fill=\"#FFFFFF\" height=\"88.3516\" id=\"E3\" style=\"stroke: #383838; stroke-width: 1.5;\" width=\"66\" x=\"409\" y=\"41\"/><text fill=\"#000000\" font-family=\"sans-serif\" font-size=\"12\" font-style=\"italic\" lengthAdjust=\"spacingAndGlyphs\" textLength=\"64\" x=\"410\" y=\"57.1387\">«part def»</text><text fill=\"#000000\" font-family=\"sans-serif\" font-size=\"12\" lengthAdjust=\"spacingAndGlyphs\" textLength=\"8\" x=\"438\" y=\"71.1074\">B</text><line style=\"stroke: #383838; stroke-width: 1.5;\" x1=\"410\" x2=\"474\" y1=\"78.9375\" y2=\"78.9375\"/><text fill=\"#000000\" font-family=\"sans-serif\" font-size=\"11\" lengthAdjust=\"spacingAndGlyphs\" textLength=\"29\" x=\"415\" y=\"109.9526\">p1: P</text><text fill=\"#000000\" font-family=\"sans-serif\" font-size=\"11\" lengthAdjust=\"spacingAndGlyphs\" textLength=\"38\" x=\"415\" y=\"122.7573\">p2: ~P</text><line style=\"stroke: #383838; stroke-width: 1.0;\" x1=\"410\" x2=\"427\" y1=\"93.3398\" y2=\"93.3398\"/><text fill=\"#000000\" font-family=\"sans-serif\" font-size=\"11\" lengthAdjust=\"spacingAndGlyphs\" textLength=\"30\" x=\"427\" y=\"96.6479\">ports</text><line style=\"stroke: #383838; stroke-width: 1.0;\" x1=\"457\" x2=\"474\" y1=\"93.3398\" y2=\"93.3398\"/></a><!--MD5=[60a26617385b1d2d0262a64233df1f8d]\n",
       "class E6--><a href=\"psysml:d9048fa2-8c0d-4237-aabb-192a68938198\" target=\"_top\" title=\"psysml:d9048fa2-8c0d-4237-aabb-192a68938198\" xlink:actuate=\"onRequest\" xlink:href=\"psysml:d9048fa2-8c0d-4237-aabb-192a68938198\" xlink:show=\"new\" xlink:title=\"psysml:d9048fa2-8c0d-4237-aabb-192a68938198\" xlink:type=\"simple\"><rect fill=\"#FFFFFF\" height=\"88.3516\" id=\"E6\" style=\"stroke: #383838; stroke-width: 1.5;\" width=\"110\" x=\"264\" y=\"41\"/><text fill=\"#000000\" font-family=\"sans-serif\" font-size=\"12\" font-style=\"italic\" lengthAdjust=\"spacingAndGlyphs\" textLength=\"108\" x=\"265\" y=\"57.1387\">«connection def»</text><text fill=\"#000000\" font-family=\"sans-serif\" font-size=\"12\" lengthAdjust=\"spacingAndGlyphs\" textLength=\"8\" x=\"315\" y=\"71.1074\">A</text><line style=\"stroke: #383838; stroke-width: 1.5;\" x1=\"265\" x2=\"373\" y1=\"78.9375\" y2=\"78.9375\"/><text fill=\"#000000\" font-family=\"sans-serif\" font-size=\"11\" lengthAdjust=\"spacingAndGlyphs\" textLength=\"29\" x=\"270\" y=\"109.9526\">p1: P</text><text fill=\"#000000\" font-family=\"sans-serif\" font-size=\"11\" lengthAdjust=\"spacingAndGlyphs\" textLength=\"38\" x=\"270\" y=\"122.7573\">p2: ~P</text><line style=\"stroke: #383838; stroke-width: 1.0;\" x1=\"265\" x2=\"304\" y1=\"93.3398\" y2=\"93.3398\"/><text fill=\"#000000\" font-family=\"sans-serif\" font-size=\"11\" lengthAdjust=\"spacingAndGlyphs\" textLength=\"30\" x=\"304\" y=\"96.6479\">ports</text><line style=\"stroke: #383838; stroke-width: 1.0;\" x1=\"334\" x2=\"373\" y1=\"93.3398\" y2=\"93.3398\"/></a><!--MD5=[fd4143e9d270a159db93a4ea2a975926]\n",
       "class E9--><a href=\"psysml:b68d4e65-0a25-4b32-9474-7d6b33189e06\" target=\"_top\" title=\"psysml:b68d4e65-0a25-4b32-9474-7d6b33189e06\" xlink:actuate=\"onRequest\" xlink:href=\"psysml:b68d4e65-0a25-4b32-9474-7d6b33189e06\" xlink:show=\"new\" xlink:title=\"psysml:b68d4e65-0a25-4b32-9474-7d6b33189e06\" xlink:type=\"simple\"><rect fill=\"#FFFFFF\" height=\"88.3516\" id=\"E9\" style=\"stroke: #383838; stroke-width: 1.5;\" width=\"96\" x=\"133\" y=\"41\"/><text fill=\"#000000\" font-family=\"sans-serif\" font-size=\"12\" font-style=\"italic\" lengthAdjust=\"spacingAndGlyphs\" textLength=\"94\" x=\"134\" y=\"57.1387\">«interface def»</text><text fill=\"#000000\" font-family=\"sans-serif\" font-size=\"12\" lengthAdjust=\"spacingAndGlyphs\" textLength=\"3\" x=\"179.5\" y=\"71.1074\">I</text><line style=\"stroke: #383838; stroke-width: 1.5;\" x1=\"134\" x2=\"228\" y1=\"78.9375\" y2=\"78.9375\"/><text fill=\"#000000\" font-family=\"sans-serif\" font-size=\"11\" lengthAdjust=\"spacingAndGlyphs\" textLength=\"29\" x=\"139\" y=\"109.9526\">p1: P</text><text fill=\"#000000\" font-family=\"sans-serif\" font-size=\"11\" lengthAdjust=\"spacingAndGlyphs\" textLength=\"38\" x=\"139\" y=\"122.7573\">p2: ~P</text><line style=\"stroke: #383838; stroke-width: 1.0;\" x1=\"134\" x2=\"166\" y1=\"93.3398\" y2=\"93.3398\"/><text fill=\"#000000\" font-family=\"sans-serif\" font-size=\"11\" lengthAdjust=\"spacingAndGlyphs\" textLength=\"30\" x=\"166\" y=\"96.6479\">ports</text><line style=\"stroke: #383838; stroke-width: 1.0;\" x1=\"196\" x2=\"228\" y1=\"93.3398\" y2=\"93.3398\"/></a><!--MD5=[49a0ec8f00dab7302a31f22d0f0fe584]\n",
       "class E12--><a href=\"psysml:4bc8843d-d10d-4f46-93fe-21c75269e8aa\" target=\"_top\" title=\"psysml:4bc8843d-d10d-4f46-93fe-21c75269e8aa\" xlink:actuate=\"onRequest\" xlink:href=\"psysml:4bc8843d-d10d-4f46-93fe-21c75269e8aa\" xlink:show=\"new\" xlink:title=\"psysml:4bc8843d-d10d-4f46-93fe-21c75269e8aa\" xlink:type=\"simple\"><rect fill=\"#FFFFFF\" height=\"45.9375\" id=\"E12\" style=\"stroke: #383838; stroke-width: 1.5;\" width=\"66\" x=\"32\" y=\"62\"/><text fill=\"#000000\" font-family=\"sans-serif\" font-size=\"12\" font-style=\"italic\" lengthAdjust=\"spacingAndGlyphs\" textLength=\"64\" x=\"33\" y=\"78.1387\">«part def»</text><text fill=\"#000000\" font-family=\"sans-serif\" font-size=\"12\" lengthAdjust=\"spacingAndGlyphs\" textLength=\"16\" x=\"57\" y=\"92.1074\">B1</text><line style=\"stroke: #383838; stroke-width: 1.5;\" x1=\"33\" x2=\"97\" y1=\"99.9375\" y2=\"99.9375\"/></a><!--MD5=[ee3c913d1a06f366521f9ef512b67efe]\n",
       "class E13--><a href=\"psysml:37b5f10a-21e5-48b2-b2b2-bc5c291ce903\" target=\"_top\" title=\"psysml:37b5f10a-21e5-48b2-b2b2-bc5c291ce903\" xlink:actuate=\"onRequest\" xlink:href=\"psysml:37b5f10a-21e5-48b2-b2b2-bc5c291ce903\" xlink:show=\"new\" xlink:title=\"psysml:37b5f10a-21e5-48b2-b2b2-bc5c291ce903\" xlink:type=\"simple\"><rect fill=\"#FFFFFF\" height=\"88.3516\" id=\"E13\" rx=\"10\" ry=\"10\" style=\"stroke: #383838; stroke-width: 1.5;\" width=\"50\" x=\"40\" y=\"189\"/><text fill=\"#000000\" font-family=\"sans-serif\" font-size=\"12\" font-style=\"italic\" lengthAdjust=\"spacingAndGlyphs\" textLength=\"40\" x=\"45\" y=\"205.1387\">«part»</text><text fill=\"#000000\" font-family=\"sans-serif\" font-size=\"12\" lengthAdjust=\"spacingAndGlyphs\" textLength=\"8\" x=\"61\" y=\"219.1074\">p</text><line style=\"stroke: #383838; stroke-width: 1.5;\" x1=\"41\" x2=\"89\" y1=\"226.9375\" y2=\"226.9375\"/><text fill=\"#000000\" font-family=\"sans-serif\" font-size=\"11\" lengthAdjust=\"spacingAndGlyphs\" textLength=\"29\" x=\"46\" y=\"257.9526\">p1: P</text><text fill=\"#000000\" font-family=\"sans-serif\" font-size=\"11\" lengthAdjust=\"spacingAndGlyphs\" textLength=\"38\" x=\"46\" y=\"270.7573\">p2: ~P</text><line style=\"stroke: #383838; stroke-width: 1.0;\" x1=\"41\" x2=\"50\" y1=\"241.3398\" y2=\"241.3398\"/><text fill=\"#000000\" font-family=\"sans-serif\" font-size=\"11\" lengthAdjust=\"spacingAndGlyphs\" textLength=\"30\" x=\"50\" y=\"244.6479\">ports</text><line style=\"stroke: #383838; stroke-width: 1.0;\" x1=\"80\" x2=\"89\" y1=\"241.3398\" y2=\"241.3398\"/></a><!--MD5=[062ed86c389d1a88f61c6380d0491e17]\n",
       "reverse link E12 to E13--><a href=\"psysml:37b5f10a-21e5-48b2-b2b2-bc5c291ce903\" target=\"_top\" title=\"psysml:37b5f10a-21e5-48b2-b2b2-bc5c291ce903\" xlink:actuate=\"onRequest\" xlink:href=\"psysml:37b5f10a-21e5-48b2-b2b2-bc5c291ce903\" xlink:show=\"new\" xlink:title=\"psysml:37b5f10a-21e5-48b2-b2b2-bc5c291ce903\" xlink:type=\"simple\"><path d=\"M65,121.25 C65,141.54 65,167.2 65,188.71 \" fill=\"none\" id=\"E12&lt;-E13\" style=\"stroke: #383838; stroke-width: 1.0;\"/><polygon fill=\"#383838\" points=\"65,108.17,61,114.17,65,120.17,69,114.17,65,108.17\" style=\"stroke: #383838; stroke-width: 1.0;\"/></a><!--MD5=[9129f76d51b37552ccdf1dbf501ca8ae]\n",
       "@startuml\r\n",
       "skinparam linetype polyline\r\n",
       "skinparam monochrome true\r\n",
       "skinparam classbackgroundcolor white\r\n",
       "skinparam shadowing false\r\n",
       "skinparam wrapWidth 300\r\n",
       "hide circle\r\n",
       "\r\n",
       "package \"ConjugationTest\" as E1  [[psysml:4ba0ad9e-a677-47db-af1d-b015e8f93aef ]]  {\r\n",
       "comp def \"P\" as E2  <<(T,blue)port def>> [[psysml:0d231d17-09c4-40d0-a4bc-6d43713d1eea ]] {\r\n",
       "}\r\n",
       "comp def \"B\" as E3  <<(T,blue)part def>> [[psysml:1fca8384-68db-4c35-8908-d644a05ab33b ]] {\r\n",
       "- - ports - -\r\n",
       "p1: P\r\n",
       "p2: ~P\r\n",
       "}\r\n",
       "comp def \"A\" as E6  <<(T,blue)connection def>> [[psysml:d9048fa2-8c0d-4237-aabb-192a68938198 ]] {\r\n",
       "- - ports - -\r\n",
       "p1: P\r\n",
       "p2: ~P\r\n",
       "}\r\n",
       "comp def \"I\" as E9  <<(T,blue)interface def>> [[psysml:b68d4e65-0a25-4b32-9474-7d6b33189e06 ]] {\r\n",
       "- - ports - -\r\n",
       "p1: P\r\n",
       "p2: ~P\r\n",
       "}\r\n",
       "comp def \"B1\" as E12  <<(T,blue)part def>> [[psysml:4bc8843d-d10d-4f46-93fe-21c75269e8aa ]] {\r\n",
       "}\r\n",
       "comp usage \"p\" as E13  <<(T,blue)part>> [[psysml:37b5f10a-21e5-48b2-b2b2-bc5c291ce903 ]] {\r\n",
       "- - ports - -\r\n",
       "p1: P\r\n",
       "p2: ~P\r\n",
       "}\r\n",
       "E12 *- - E13 [[psysml:37b5f10a-21e5-48b2-b2b2-bc5c291ce903 ]] \r\n",
       "}\r\n",
       "@enduml\r\n",
       "\n",
       "PlantUML version 1.2020.13(Sat Jun 13 12:26:38 UTC 2020)\n",
       "(EPL source distribution)\n",
       "Java Runtime: OpenJDK Runtime Environment\n",
       "JVM: OpenJDK 64-Bit Server VM\n",
       "Default Encoding: UTF-8\n",
       "Language: en\n",
       "Country: null\n",
       "--></g></svg>"
      ]
     },
     "execution_count": 9,
     "metadata": {},
     "output_type": "execute_result"
    }
   ],
   "source": [
    "%viz --style=\"POLYLINE\" --view=\"Default\" \"ConjugationTest\""
   ]
  },
  {
   "cell_type": "code",
   "execution_count": 10,
   "id": "swedish-purple",
   "metadata": {
    "execution": {
     "iopub.execute_input": "2021-03-24T16:29:17.291353Z",
     "iopub.status.busy": "2021-03-24T16:29:17.290830Z",
     "iopub.status.idle": "2021-03-24T16:29:17.386987Z",
     "shell.execute_reply": "2021-03-24T16:29:17.385532Z"
    }
   },
   "outputs": [
    {
     "data": {
      "image/svg+xml": [
       "<?xml version=\"1.0\" encoding=\"UTF-8\" standalone=\"no\"?><svg xmlns=\"http://www.w3.org/2000/svg\" xmlns:xlink=\"http://www.w3.org/1999/xlink\" contentScriptType=\"application/ecmascript\" contentStyleType=\"text/css\" height=\"305px\" preserveAspectRatio=\"none\" style=\"width:614px;height:305px;\" version=\"1.1\" viewBox=\"0 0 614 305\" width=\"614px\" zoomAndPan=\"magnify\"><defs/><g><!--MD5=[fbc87193dbaf4d95561dea2c320d4a47]\n",
       "cluster E1--><a href=\"psysml:4ba0ad9e-a677-47db-af1d-b015e8f93aef\" target=\"_top\" title=\"psysml:4ba0ad9e-a677-47db-af1d-b015e8f93aef\" xlink:actuate=\"onRequest\" xlink:href=\"psysml:4ba0ad9e-a677-47db-af1d-b015e8f93aef\" xlink:show=\"new\" xlink:title=\"psysml:4ba0ad9e-a677-47db-af1d-b015e8f93aef\" xlink:type=\"simple\"><polygon fill=\"#FFFFFF\" points=\"16,6,151,6,158,28.2969,592,28.2969,592,293,16,293,16,6\" style=\"stroke: #000000; stroke-width: 1.5;\"/><line style=\"stroke: #000000; stroke-width: 1.5;\" x1=\"16\" x2=\"158\" y1=\"28.2969\" y2=\"28.2969\"/><text fill=\"#000000\" font-family=\"sans-serif\" font-size=\"14\" font-weight=\"bold\" lengthAdjust=\"spacingAndGlyphs\" textLength=\"129\" x=\"20\" y=\"20.9951\">ConjugationTest</text></a><!--MD5=[b4997ac47864f28c2f74865a473b2911]\n",
       "class E2--><a href=\"psysml:0d231d17-09c4-40d0-a4bc-6d43713d1eea\" target=\"_top\" title=\"psysml:0d231d17-09c4-40d0-a4bc-6d43713d1eea\" xlink:actuate=\"onRequest\" xlink:href=\"psysml:0d231d17-09c4-40d0-a4bc-6d43713d1eea\" xlink:show=\"new\" xlink:title=\"psysml:0d231d17-09c4-40d0-a4bc-6d43713d1eea\" xlink:type=\"simple\"><rect fill=\"#FFFFFF\" height=\"45.9375\" id=\"E2\" style=\"stroke: #383838; stroke-width: 1.5;\" width=\"66\" x=\"510\" y=\"62\"/><text fill=\"#000000\" font-family=\"sans-serif\" font-size=\"12\" font-style=\"italic\" lengthAdjust=\"spacingAndGlyphs\" textLength=\"64\" x=\"511\" y=\"78.1387\">«port def»</text><text fill=\"#000000\" font-family=\"sans-serif\" font-size=\"12\" lengthAdjust=\"spacingAndGlyphs\" textLength=\"8\" x=\"539\" y=\"92.1074\">P</text><line style=\"stroke: #383838; stroke-width: 1.5;\" x1=\"511\" x2=\"575\" y1=\"99.9375\" y2=\"99.9375\"/></a><!--MD5=[09b614a08d8cba4a07c9adeb5e0fee81]\n",
       "class E3--><a href=\"psysml:1fca8384-68db-4c35-8908-d644a05ab33b\" target=\"_top\" title=\"psysml:1fca8384-68db-4c35-8908-d644a05ab33b\" xlink:actuate=\"onRequest\" xlink:href=\"psysml:1fca8384-68db-4c35-8908-d644a05ab33b\" xlink:show=\"new\" xlink:title=\"psysml:1fca8384-68db-4c35-8908-d644a05ab33b\" xlink:type=\"simple\"><rect fill=\"#FFFFFF\" height=\"88.3516\" id=\"E3\" style=\"stroke: #383838; stroke-width: 1.5;\" width=\"66\" x=\"409\" y=\"41\"/><text fill=\"#000000\" font-family=\"sans-serif\" font-size=\"12\" font-style=\"italic\" lengthAdjust=\"spacingAndGlyphs\" textLength=\"64\" x=\"410\" y=\"57.1387\">«part def»</text><text fill=\"#000000\" font-family=\"sans-serif\" font-size=\"12\" lengthAdjust=\"spacingAndGlyphs\" textLength=\"8\" x=\"438\" y=\"71.1074\">B</text><line style=\"stroke: #383838; stroke-width: 1.5;\" x1=\"410\" x2=\"474\" y1=\"78.9375\" y2=\"78.9375\"/><text fill=\"#000000\" font-family=\"sans-serif\" font-size=\"11\" lengthAdjust=\"spacingAndGlyphs\" textLength=\"29\" x=\"415\" y=\"109.9526\">p1: P</text><text fill=\"#000000\" font-family=\"sans-serif\" font-size=\"11\" lengthAdjust=\"spacingAndGlyphs\" textLength=\"38\" x=\"415\" y=\"122.7573\">p2: ~P</text><line style=\"stroke: #383838; stroke-width: 1.0;\" x1=\"410\" x2=\"427\" y1=\"93.3398\" y2=\"93.3398\"/><text fill=\"#000000\" font-family=\"sans-serif\" font-size=\"11\" lengthAdjust=\"spacingAndGlyphs\" textLength=\"30\" x=\"427\" y=\"96.6479\">ports</text><line style=\"stroke: #383838; stroke-width: 1.0;\" x1=\"457\" x2=\"474\" y1=\"93.3398\" y2=\"93.3398\"/></a><!--MD5=[60a26617385b1d2d0262a64233df1f8d]\n",
       "class E6--><a href=\"psysml:d9048fa2-8c0d-4237-aabb-192a68938198\" target=\"_top\" title=\"psysml:d9048fa2-8c0d-4237-aabb-192a68938198\" xlink:actuate=\"onRequest\" xlink:href=\"psysml:d9048fa2-8c0d-4237-aabb-192a68938198\" xlink:show=\"new\" xlink:title=\"psysml:d9048fa2-8c0d-4237-aabb-192a68938198\" xlink:type=\"simple\"><rect fill=\"#FFFFFF\" height=\"88.3516\" id=\"E6\" style=\"stroke: #383838; stroke-width: 1.5;\" width=\"110\" x=\"264\" y=\"41\"/><text fill=\"#000000\" font-family=\"sans-serif\" font-size=\"12\" font-style=\"italic\" lengthAdjust=\"spacingAndGlyphs\" textLength=\"108\" x=\"265\" y=\"57.1387\">«connection def»</text><text fill=\"#000000\" font-family=\"sans-serif\" font-size=\"12\" lengthAdjust=\"spacingAndGlyphs\" textLength=\"8\" x=\"315\" y=\"71.1074\">A</text><line style=\"stroke: #383838; stroke-width: 1.5;\" x1=\"265\" x2=\"373\" y1=\"78.9375\" y2=\"78.9375\"/><text fill=\"#000000\" font-family=\"sans-serif\" font-size=\"11\" lengthAdjust=\"spacingAndGlyphs\" textLength=\"29\" x=\"270\" y=\"109.9526\">p1: P</text><text fill=\"#000000\" font-family=\"sans-serif\" font-size=\"11\" lengthAdjust=\"spacingAndGlyphs\" textLength=\"38\" x=\"270\" y=\"122.7573\">p2: ~P</text><line style=\"stroke: #383838; stroke-width: 1.0;\" x1=\"265\" x2=\"304\" y1=\"93.3398\" y2=\"93.3398\"/><text fill=\"#000000\" font-family=\"sans-serif\" font-size=\"11\" lengthAdjust=\"spacingAndGlyphs\" textLength=\"30\" x=\"304\" y=\"96.6479\">ports</text><line style=\"stroke: #383838; stroke-width: 1.0;\" x1=\"334\" x2=\"373\" y1=\"93.3398\" y2=\"93.3398\"/></a><!--MD5=[fd4143e9d270a159db93a4ea2a975926]\n",
       "class E9--><a href=\"psysml:b68d4e65-0a25-4b32-9474-7d6b33189e06\" target=\"_top\" title=\"psysml:b68d4e65-0a25-4b32-9474-7d6b33189e06\" xlink:actuate=\"onRequest\" xlink:href=\"psysml:b68d4e65-0a25-4b32-9474-7d6b33189e06\" xlink:show=\"new\" xlink:title=\"psysml:b68d4e65-0a25-4b32-9474-7d6b33189e06\" xlink:type=\"simple\"><rect fill=\"#FFFFFF\" height=\"88.3516\" id=\"E9\" style=\"stroke: #383838; stroke-width: 1.5;\" width=\"96\" x=\"133\" y=\"41\"/><text fill=\"#000000\" font-family=\"sans-serif\" font-size=\"12\" font-style=\"italic\" lengthAdjust=\"spacingAndGlyphs\" textLength=\"94\" x=\"134\" y=\"57.1387\">«interface def»</text><text fill=\"#000000\" font-family=\"sans-serif\" font-size=\"12\" lengthAdjust=\"spacingAndGlyphs\" textLength=\"3\" x=\"179.5\" y=\"71.1074\">I</text><line style=\"stroke: #383838; stroke-width: 1.5;\" x1=\"134\" x2=\"228\" y1=\"78.9375\" y2=\"78.9375\"/><text fill=\"#000000\" font-family=\"sans-serif\" font-size=\"11\" lengthAdjust=\"spacingAndGlyphs\" textLength=\"29\" x=\"139\" y=\"109.9526\">p1: P</text><text fill=\"#000000\" font-family=\"sans-serif\" font-size=\"11\" lengthAdjust=\"spacingAndGlyphs\" textLength=\"38\" x=\"139\" y=\"122.7573\">p2: ~P</text><line style=\"stroke: #383838; stroke-width: 1.0;\" x1=\"134\" x2=\"166\" y1=\"93.3398\" y2=\"93.3398\"/><text fill=\"#000000\" font-family=\"sans-serif\" font-size=\"11\" lengthAdjust=\"spacingAndGlyphs\" textLength=\"30\" x=\"166\" y=\"96.6479\">ports</text><line style=\"stroke: #383838; stroke-width: 1.0;\" x1=\"196\" x2=\"228\" y1=\"93.3398\" y2=\"93.3398\"/></a><!--MD5=[49a0ec8f00dab7302a31f22d0f0fe584]\n",
       "class E12--><a href=\"psysml:4bc8843d-d10d-4f46-93fe-21c75269e8aa\" target=\"_top\" title=\"psysml:4bc8843d-d10d-4f46-93fe-21c75269e8aa\" xlink:actuate=\"onRequest\" xlink:href=\"psysml:4bc8843d-d10d-4f46-93fe-21c75269e8aa\" xlink:show=\"new\" xlink:title=\"psysml:4bc8843d-d10d-4f46-93fe-21c75269e8aa\" xlink:type=\"simple\"><rect fill=\"#FFFFFF\" height=\"45.9375\" id=\"E12\" style=\"stroke: #383838; stroke-width: 1.5;\" width=\"66\" x=\"32\" y=\"62\"/><text fill=\"#000000\" font-family=\"sans-serif\" font-size=\"12\" font-style=\"italic\" lengthAdjust=\"spacingAndGlyphs\" textLength=\"64\" x=\"33\" y=\"78.1387\">«part def»</text><text fill=\"#000000\" font-family=\"sans-serif\" font-size=\"12\" lengthAdjust=\"spacingAndGlyphs\" textLength=\"16\" x=\"57\" y=\"92.1074\">B1</text><line style=\"stroke: #383838; stroke-width: 1.5;\" x1=\"33\" x2=\"97\" y1=\"99.9375\" y2=\"99.9375\"/></a><!--MD5=[ee3c913d1a06f366521f9ef512b67efe]\n",
       "class E13--><a href=\"psysml:37b5f10a-21e5-48b2-b2b2-bc5c291ce903\" target=\"_top\" title=\"psysml:37b5f10a-21e5-48b2-b2b2-bc5c291ce903\" xlink:actuate=\"onRequest\" xlink:href=\"psysml:37b5f10a-21e5-48b2-b2b2-bc5c291ce903\" xlink:show=\"new\" xlink:title=\"psysml:37b5f10a-21e5-48b2-b2b2-bc5c291ce903\" xlink:type=\"simple\"><rect fill=\"#FFFFFF\" height=\"88.3516\" id=\"E13\" rx=\"10\" ry=\"10\" style=\"stroke: #383838; stroke-width: 1.5;\" width=\"50\" x=\"40\" y=\"189\"/><text fill=\"#000000\" font-family=\"sans-serif\" font-size=\"12\" font-style=\"italic\" lengthAdjust=\"spacingAndGlyphs\" textLength=\"40\" x=\"45\" y=\"205.1387\">«part»</text><text fill=\"#000000\" font-family=\"sans-serif\" font-size=\"12\" lengthAdjust=\"spacingAndGlyphs\" textLength=\"8\" x=\"61\" y=\"219.1074\">p</text><line style=\"stroke: #383838; stroke-width: 1.5;\" x1=\"41\" x2=\"89\" y1=\"226.9375\" y2=\"226.9375\"/><text fill=\"#000000\" font-family=\"sans-serif\" font-size=\"11\" lengthAdjust=\"spacingAndGlyphs\" textLength=\"29\" x=\"46\" y=\"257.9526\">p1: P</text><text fill=\"#000000\" font-family=\"sans-serif\" font-size=\"11\" lengthAdjust=\"spacingAndGlyphs\" textLength=\"38\" x=\"46\" y=\"270.7573\">p2: ~P</text><line style=\"stroke: #383838; stroke-width: 1.0;\" x1=\"41\" x2=\"50\" y1=\"241.3398\" y2=\"241.3398\"/><text fill=\"#000000\" font-family=\"sans-serif\" font-size=\"11\" lengthAdjust=\"spacingAndGlyphs\" textLength=\"30\" x=\"50\" y=\"244.6479\">ports</text><line style=\"stroke: #383838; stroke-width: 1.0;\" x1=\"80\" x2=\"89\" y1=\"241.3398\" y2=\"241.3398\"/></a><!--MD5=[062ed86c389d1a88f61c6380d0491e17]\n",
       "reverse link E12 to E13--><a href=\"psysml:37b5f10a-21e5-48b2-b2b2-bc5c291ce903\" target=\"_top\" title=\"psysml:37b5f10a-21e5-48b2-b2b2-bc5c291ce903\" xlink:actuate=\"onRequest\" xlink:href=\"psysml:37b5f10a-21e5-48b2-b2b2-bc5c291ce903\" xlink:show=\"new\" xlink:title=\"psysml:37b5f10a-21e5-48b2-b2b2-bc5c291ce903\" xlink:type=\"simple\"><path d=\"M65,121.25 C65,141.54 65,167.2 65,188.71 \" fill=\"none\" id=\"E12&lt;-E13\" style=\"stroke: #383838; stroke-width: 1.0;\"/><polygon fill=\"#383838\" points=\"65,108.17,61,114.17,65,120.17,69,114.17,65,108.17\" style=\"stroke: #383838; stroke-width: 1.0;\"/></a><!--MD5=[9129f76d51b37552ccdf1dbf501ca8ae]\n",
       "@startuml\r\n",
       "skinparam linetype polyline\r\n",
       "skinparam monochrome true\r\n",
       "skinparam classbackgroundcolor white\r\n",
       "skinparam shadowing false\r\n",
       "skinparam wrapWidth 300\r\n",
       "hide circle\r\n",
       "\r\n",
       "package \"ConjugationTest\" as E1  [[psysml:4ba0ad9e-a677-47db-af1d-b015e8f93aef ]]  {\r\n",
       "comp def \"P\" as E2  <<(T,blue)port def>> [[psysml:0d231d17-09c4-40d0-a4bc-6d43713d1eea ]] {\r\n",
       "}\r\n",
       "comp def \"B\" as E3  <<(T,blue)part def>> [[psysml:1fca8384-68db-4c35-8908-d644a05ab33b ]] {\r\n",
       "- - ports - -\r\n",
       "p1: P\r\n",
       "p2: ~P\r\n",
       "}\r\n",
       "comp def \"A\" as E6  <<(T,blue)connection def>> [[psysml:d9048fa2-8c0d-4237-aabb-192a68938198 ]] {\r\n",
       "- - ports - -\r\n",
       "p1: P\r\n",
       "p2: ~P\r\n",
       "}\r\n",
       "comp def \"I\" as E9  <<(T,blue)interface def>> [[psysml:b68d4e65-0a25-4b32-9474-7d6b33189e06 ]] {\r\n",
       "- - ports - -\r\n",
       "p1: P\r\n",
       "p2: ~P\r\n",
       "}\r\n",
       "comp def \"B1\" as E12  <<(T,blue)part def>> [[psysml:4bc8843d-d10d-4f46-93fe-21c75269e8aa ]] {\r\n",
       "}\r\n",
       "comp usage \"p\" as E13  <<(T,blue)part>> [[psysml:37b5f10a-21e5-48b2-b2b2-bc5c291ce903 ]] {\r\n",
       "- - ports - -\r\n",
       "p1: P\r\n",
       "p2: ~P\r\n",
       "}\r\n",
       "E12 *- - E13 [[psysml:37b5f10a-21e5-48b2-b2b2-bc5c291ce903 ]] \r\n",
       "}\r\n",
       "@enduml\r\n",
       "\n",
       "PlantUML version 1.2020.13(Sat Jun 13 12:26:38 UTC 2020)\n",
       "(EPL source distribution)\n",
       "Java Runtime: OpenJDK Runtime Environment\n",
       "JVM: OpenJDK 64-Bit Server VM\n",
       "Default Encoding: UTF-8\n",
       "Language: en\n",
       "Country: null\n",
       "--></g></svg>"
      ]
     },
     "execution_count": 10,
     "metadata": {},
     "output_type": "execute_result"
    }
   ],
   "source": [
    "%viz --style=\"POLYLINE\" --view=\"Tree\" \"ConjugationTest\""
   ]
  },
  {
   "cell_type": "code",
   "execution_count": 11,
   "id": "helpful-marina",
   "metadata": {
    "execution": {
     "iopub.execute_input": "2021-03-24T16:29:17.438469Z",
     "iopub.status.busy": "2021-03-24T16:29:17.437979Z",
     "iopub.status.idle": "2021-03-24T16:29:17.445057Z",
     "shell.execute_reply": "2021-03-24T16:29:17.444690Z"
    }
   },
   "outputs": [
    {
     "data": {
      "image/svg+xml": [
       "<?xml version=\"1.0\" encoding=\"UTF-8\" standalone=\"no\"?><svg xmlns=\"http://www.w3.org/2000/svg\" xmlns:xlink=\"http://www.w3.org/1999/xlink\" contentScriptType=\"application/ecmascript\" contentStyleType=\"text/css\" height=\"12px\" preserveAspectRatio=\"none\" style=\"width:12px;height:12px;\" version=\"1.1\" viewBox=\"0 0 12 12\" width=\"12px\" zoomAndPan=\"magnify\"><defs/><g><!--MD5=[896ac0e7a515d8dd7765a661cb4ee08b]\n",
       "@startuml\r\n",
       "skinparam linetype polyline\r\n",
       "skinparam monochrome true\r\n",
       "skinparam classbackgroundcolor white\r\n",
       "skinparam shadowing false\r\n",
       "skinparam wrapWidth 300\r\n",
       "hide circle\r\n",
       "\r\n",
       "@enduml\r\n",
       "\n",
       "PlantUML version 1.2020.13(Sat Jun 13 12:26:38 UTC 2020)\n",
       "(EPL source distribution)\n",
       "Java Runtime: OpenJDK Runtime Environment\n",
       "JVM: OpenJDK 64-Bit Server VM\n",
       "Default Encoding: UTF-8\n",
       "Language: en\n",
       "Country: null\n",
       "--></g></svg>"
      ]
     },
     "execution_count": 11,
     "metadata": {},
     "output_type": "execute_result"
    }
   ],
   "source": [
    "%viz --style=\"POLYLINE\" --view=\"State\" \"ConjugationTest\""
   ]
  },
  {
   "cell_type": "code",
   "execution_count": 12,
   "id": "aggregate-chester",
   "metadata": {
    "execution": {
     "iopub.execute_input": "2021-03-24T16:29:17.496190Z",
     "iopub.status.busy": "2021-03-24T16:29:17.495716Z",
     "iopub.status.idle": "2021-03-24T16:29:17.547261Z",
     "shell.execute_reply": "2021-03-24T16:29:17.545340Z"
    }
   },
   "outputs": [
    {
     "data": {
      "image/svg+xml": [
       "<?xml version=\"1.0\" encoding=\"UTF-8\" standalone=\"no\"?><svg xmlns=\"http://www.w3.org/2000/svg\" xmlns:xlink=\"http://www.w3.org/1999/xlink\" contentScriptType=\"application/ecmascript\" contentStyleType=\"text/css\" height=\"246px\" preserveAspectRatio=\"none\" style=\"width:739px;height:246px;\" version=\"1.1\" viewBox=\"0 0 739 246\" width=\"739px\" zoomAndPan=\"magnify\"><defs/><g><!--MD5=[fbc87193dbaf4d95561dea2c320d4a47]\n",
       "cluster E1--><a href=\"psysml:4ba0ad9e-a677-47db-af1d-b015e8f93aef\" target=\"_top\" title=\"psysml:4ba0ad9e-a677-47db-af1d-b015e8f93aef\" xlink:actuate=\"onRequest\" xlink:href=\"psysml:4ba0ad9e-a677-47db-af1d-b015e8f93aef\" xlink:show=\"new\" xlink:title=\"psysml:4ba0ad9e-a677-47db-af1d-b015e8f93aef\" xlink:type=\"simple\"><polygon fill=\"#FFFFFF\" points=\"16,6,151,6,158,28.2969,717,28.2969,717,234.5,16,234.5,16,6\" style=\"stroke: #000000; stroke-width: 1.5;\"/><line style=\"stroke: #000000; stroke-width: 1.5;\" x1=\"16\" x2=\"158\" y1=\"28.2969\" y2=\"28.2969\"/><text fill=\"#000000\" font-family=\"sans-serif\" font-size=\"14\" font-weight=\"bold\" lengthAdjust=\"spacingAndGlyphs\" textLength=\"129\" x=\"20\" y=\"20.9951\">ConjugationTest</text></a><!--MD5=[d5e69f78d87373223dbae638b30a9c99]\n",
       "cluster E3--><a href=\"psysml:1fca8384-68db-4c35-8908-d644a05ab33b\" target=\"_top\" title=\"psysml:1fca8384-68db-4c35-8908-d644a05ab33b\" xlink:actuate=\"onRequest\" xlink:href=\"psysml:1fca8384-68db-4c35-8908-d644a05ab33b\" xlink:show=\"new\" xlink:title=\"psysml:1fca8384-68db-4c35-8908-d644a05ab33b\" xlink:type=\"simple\"><rect fill=\"#FFFFFF\" height=\"88.5\" id=\"E3\" style=\"stroke: #383838; stroke-width: 1.5;\" width=\"83\" x=\"577\" y=\"114\"/><rect fill=\"#F8F8F8\" height=\"37.9375\" style=\"stroke: #383838; stroke-width: 1.5;\" width=\"83\" x=\"577\" y=\"114\"/><text fill=\"#000000\" font-family=\"sans-serif\" font-size=\"12\" font-style=\"italic\" lengthAdjust=\"spacingAndGlyphs\" textLength=\"64\" x=\"586.5\" y=\"130.1387\">«part def»</text><text fill=\"#000000\" font-family=\"sans-serif\" font-size=\"12\" lengthAdjust=\"spacingAndGlyphs\" textLength=\"8\" x=\"614.5\" y=\"144.1074\">B</text></a><!--MD5=[14e3b0961a2654348d326746436168a1]\n",
       "cluster E6--><a href=\"psysml:d9048fa2-8c0d-4237-aabb-192a68938198\" target=\"_top\" title=\"psysml:d9048fa2-8c0d-4237-aabb-192a68938198\" xlink:actuate=\"onRequest\" xlink:href=\"psysml:d9048fa2-8c0d-4237-aabb-192a68938198\" xlink:show=\"new\" xlink:title=\"psysml:d9048fa2-8c0d-4237-aabb-192a68938198\" xlink:type=\"simple\"><rect fill=\"#FFFFFF\" height=\"88.5\" id=\"E6\" style=\"stroke: #383838; stroke-width: 1.5;\" width=\"150\" x=\"423\" y=\"114\"/><rect fill=\"#F8F8F8\" height=\"37.9375\" style=\"stroke: #383838; stroke-width: 1.5;\" width=\"150\" x=\"423\" y=\"114\"/><text fill=\"#000000\" font-family=\"sans-serif\" font-size=\"12\" font-style=\"italic\" lengthAdjust=\"spacingAndGlyphs\" textLength=\"108\" x=\"444\" y=\"130.1387\">«connection def»</text><text fill=\"#000000\" font-family=\"sans-serif\" font-size=\"12\" lengthAdjust=\"spacingAndGlyphs\" textLength=\"8\" x=\"494\" y=\"144.1074\">A</text></a><!--MD5=[7f149f147074ac12df2cb0a7728a5fb0]\n",
       "cluster E9--><a href=\"psysml:b68d4e65-0a25-4b32-9474-7d6b33189e06\" target=\"_top\" title=\"psysml:b68d4e65-0a25-4b32-9474-7d6b33189e06\" xlink:actuate=\"onRequest\" xlink:href=\"psysml:b68d4e65-0a25-4b32-9474-7d6b33189e06\" xlink:show=\"new\" xlink:title=\"psysml:b68d4e65-0a25-4b32-9474-7d6b33189e06\" xlink:type=\"simple\"><rect fill=\"#FFFFFF\" height=\"88.5\" id=\"E9\" style=\"stroke: #383838; stroke-width: 1.5;\" width=\"141\" x=\"254\" y=\"114\"/><rect fill=\"#F8F8F8\" height=\"37.9375\" style=\"stroke: #383838; stroke-width: 1.5;\" width=\"141\" x=\"254\" y=\"114\"/><text fill=\"#000000\" font-family=\"sans-serif\" font-size=\"12\" font-style=\"italic\" lengthAdjust=\"spacingAndGlyphs\" textLength=\"94\" x=\"277.5\" y=\"130.1387\">«interface def»</text><text fill=\"#000000\" font-family=\"sans-serif\" font-size=\"12\" lengthAdjust=\"spacingAndGlyphs\" textLength=\"3\" x=\"323\" y=\"144.1074\">I</text></a><!--MD5=[47bea60c1a0ac6c1143df232041969c0]\n",
       "cluster E12--><a href=\"psysml:4bc8843d-d10d-4f46-93fe-21c75269e8aa\" target=\"_top\" title=\"psysml:4bc8843d-d10d-4f46-93fe-21c75269e8aa\" xlink:actuate=\"onRequest\" xlink:href=\"psysml:4bc8843d-d10d-4f46-93fe-21c75269e8aa\" xlink:show=\"new\" xlink:title=\"psysml:4bc8843d-d10d-4f46-93fe-21c75269e8aa\" xlink:type=\"simple\"><rect fill=\"#FFFFFF\" height=\"161.5\" id=\"E12\" style=\"stroke: #383838; stroke-width: 1.5;\" width=\"107\" x=\"120\" y=\"49\"/><rect fill=\"#F8F8F8\" height=\"37.9375\" style=\"stroke: #383838; stroke-width: 1.5;\" width=\"107\" x=\"120\" y=\"49\"/><text fill=\"#000000\" font-family=\"sans-serif\" font-size=\"12\" font-style=\"italic\" lengthAdjust=\"spacingAndGlyphs\" textLength=\"64\" x=\"141.5\" y=\"65.1387\">«part def»</text><text fill=\"#000000\" font-family=\"sans-serif\" font-size=\"12\" lengthAdjust=\"spacingAndGlyphs\" textLength=\"16\" x=\"165.5\" y=\"79.1074\">B1</text></a><!--MD5=[03104f77b71e2d8d3500c651e6e31181]\n",
       "cluster E13--><a href=\"psysml:37b5f10a-21e5-48b2-b2b2-bc5c291ce903\" target=\"_top\" title=\"psysml:37b5f10a-21e5-48b2-b2b2-bc5c291ce903\" xlink:actuate=\"onRequest\" xlink:href=\"psysml:37b5f10a-21e5-48b2-b2b2-bc5c291ce903\" xlink:show=\"new\" xlink:title=\"psysml:37b5f10a-21e5-48b2-b2b2-bc5c291ce903\" xlink:type=\"simple\"><rect fill=\"#FFFFFF\" height=\"80.5\" id=\"E13\" rx=\"10\" ry=\"10\" style=\"stroke: #383838; stroke-width: 1.5;\" width=\"83\" x=\"132\" y=\"114\"/><rect fill=\"#F8F8F8\" height=\"23.9688\" rx=\"10\" ry=\"10\" style=\"stroke: #F8F8F8; stroke-width: 1.5;\" width=\"83\" x=\"132\" y=\"114\"/><rect fill=\"#F8F8F8\" height=\"10\" style=\"stroke: #F8F8F8; stroke-width: 1.5;\" width=\"83\" x=\"132\" y=\"127.9688\"/><rect fill=\"none\" height=\"80.5\" id=\"E13\" rx=\"10\" ry=\"10\" style=\"stroke: #383838; stroke-width: 1.5;\" width=\"83\" x=\"132\" y=\"114\"/><text fill=\"#000000\" font-family=\"sans-serif\" font-size=\"12\" lengthAdjust=\"spacingAndGlyphs\" textLength=\"8\" x=\"169.5\" y=\"130.1387\">p</text><line style=\"stroke: #383838; stroke-width: 1.0;\" x1=\"132\" x2=\"215\" y1=\"137.9688\" y2=\"137.9688\"/></a><g id=\"E1.E2\"><a href=\"psysml:0d231d17-09c4-40d0-a4bc-6d43713d1eea\" target=\"_top\" title=\"psysml:0d231d17-09c4-40d0-a4bc-6d43713d1eea\" xlink:actuate=\"onRequest\" xlink:href=\"psysml:0d231d17-09c4-40d0-a4bc-6d43713d1eea\" xlink:show=\"new\" xlink:title=\"psysml:0d231d17-09c4-40d0-a4bc-6d43713d1eea\" xlink:type=\"simple\"><rect fill=\"#FFFFFF\" height=\"42.9375\" id=\"E2\" style=\"stroke: #383838; stroke-width: 1.5;\" width=\"71\" x=\"32.5\" y=\"92.5\"/><rect fill=\"#F8F8F8\" height=\"37.9375\" style=\"stroke: #383838; stroke-width: 1.5;\" width=\"71\" x=\"32.5\" y=\"92.5\"/><text fill=\"#000000\" font-family=\"sans-serif\" font-size=\"12\" font-style=\"italic\" lengthAdjust=\"spacingAndGlyphs\" textLength=\"64\" x=\"36\" y=\"108.6387\">«port def»</text><text fill=\"#000000\" font-family=\"sans-serif\" font-size=\"12\" lengthAdjust=\"spacingAndGlyphs\" textLength=\"8\" x=\"64\" y=\"122.6074\">P</text></a></g><text fill=\"#000000\" font-family=\"sans-serif\" font-size=\"14\" lengthAdjust=\"spacingAndGlyphs\" textLength=\"36\" x=\"577\" y=\"92.6982\">p1: P</text><rect fill=\"#383838\" height=\"12\" style=\"stroke: #F8F8F8; stroke-width: 1.5;\" width=\"12\" x=\"589\" y=\"108\"/><text fill=\"#000000\" font-family=\"sans-serif\" font-size=\"14\" lengthAdjust=\"spacingAndGlyphs\" textLength=\"48\" x=\"618\" y=\"92.6982\">p2: ~P</text><rect fill=\"#383838\" height=\"12\" style=\"stroke: #F8F8F8; stroke-width: 1.5;\" width=\"12\" x=\"636\" y=\"108\"/><text fill=\"#000000\" font-family=\"sans-serif\" font-size=\"14\" lengthAdjust=\"spacingAndGlyphs\" textLength=\"36\" x=\"423\" y=\"92.6982\">p1: P</text><rect fill=\"#383838\" height=\"12\" style=\"stroke: #F8F8F8; stroke-width: 1.5;\" width=\"12\" x=\"435\" y=\"108\"/><text fill=\"#000000\" font-family=\"sans-serif\" font-size=\"14\" lengthAdjust=\"spacingAndGlyphs\" textLength=\"48\" x=\"464\" y=\"92.6982\">p2: ~P</text><rect fill=\"#383838\" height=\"12\" style=\"stroke: #F8F8F8; stroke-width: 1.5;\" width=\"12\" x=\"482\" y=\"108\"/><text fill=\"#000000\" font-family=\"sans-serif\" font-size=\"14\" lengthAdjust=\"spacingAndGlyphs\" textLength=\"36\" x=\"254\" y=\"92.6982\">p1: P</text><rect fill=\"#383838\" height=\"12\" style=\"stroke: #F8F8F8; stroke-width: 1.5;\" width=\"12\" x=\"266\" y=\"108\"/><text fill=\"#000000\" font-family=\"sans-serif\" font-size=\"14\" lengthAdjust=\"spacingAndGlyphs\" textLength=\"48\" x=\"295\" y=\"92.6982\">p2: ~P</text><rect fill=\"#383838\" height=\"12\" style=\"stroke: #F8F8F8; stroke-width: 1.5;\" width=\"12\" x=\"313\" y=\"108\"/><text fill=\"#000000\" font-family=\"sans-serif\" font-size=\"14\" lengthAdjust=\"spacingAndGlyphs\" textLength=\"36\" x=\"132\" y=\"92.6982\">p1: P</text><rect fill=\"#383838\" height=\"12\" style=\"stroke: #F8F8F8; stroke-width: 1.5;\" width=\"12\" x=\"144\" y=\"108\"/><text fill=\"#000000\" font-family=\"sans-serif\" font-size=\"14\" lengthAdjust=\"spacingAndGlyphs\" textLength=\"48\" x=\"173\" y=\"92.6982\">p2: ~P</text><rect fill=\"#383838\" height=\"12\" style=\"stroke: #F8F8F8; stroke-width: 1.5;\" width=\"12\" x=\"191\" y=\"108\"/><!--MD5=[4ce51ac6fa4cf5202df3859e2718f033]\n",
       "link E15 to E14--><a href=\"psysml:8d97a70f-8cd3-421a-99bb-bcc3f52cef04\" target=\"_top\" title=\"psysml:8d97a70f-8cd3-421a-99bb-bcc3f52cef04\" xlink:actuate=\"onRequest\" xlink:href=\"psysml:8d97a70f-8cd3-421a-99bb-bcc3f52cef04\" xlink:show=\"new\" xlink:title=\"psysml:8d97a70f-8cd3-421a-99bb-bcc3f52cef04\" xlink:type=\"simple\"><path d=\"M190.99,114 C186.57,114 181.33,114 181.33,114 C181.33,114 165.67,114 165.67,114 C165.67,114 160.43,114 156.01,114 \" fill=\"none\" id=\"E15-E14\" style=\"stroke: #383838; stroke-width: 3.0;\"/></a><!--MD5=[4ce51ac6fa4cf5202df3859e2718f033]\n",
       "link E15 to E14--><a href=\"psysml:4e5d56fb-a30b-410a-93da-f699910e5442\" target=\"_top\" title=\"psysml:4e5d56fb-a30b-410a-93da-f699910e5442\" xlink:actuate=\"onRequest\" xlink:href=\"psysml:4e5d56fb-a30b-410a-93da-f699910e5442\" xlink:show=\"new\" xlink:title=\"psysml:4e5d56fb-a30b-410a-93da-f699910e5442\" xlink:type=\"simple\"><path d=\"M190.99,111.7 C186.57,110.01 181.33,108 181.33,108 C181.33,108 165.67,108 165.67,108 C165.67,108 160.43,110.01 156.01,111.7 \" fill=\"none\" id=\"E15-E14-1\" style=\"stroke: #383838; stroke-width: 3.0;\"/></a><!--MD5=[c7cefce1f944b84b55f8d1cb806712d1]\n",
       "@startuml\r\n",
       "skinparam ranksep 10\r\n",
       "skinparam rectangle {\r\n",
       " backgroundColor<<block>> LightGreen\r\n",
       "}\r\n",
       "skinparam linetype polyline\r\n",
       "skinparam monochrome true\r\n",
       "skinparam classbackgroundcolor white\r\n",
       "skinparam shadowing false\r\n",
       "skinparam wrapWidth 300\r\n",
       "hide circle\r\n",
       "\r\n",
       "package \"ConjugationTest\" as E1  [[psysml:4ba0ad9e-a677-47db-af1d-b015e8f93aef ]]  {\r\n",
       "def \"P\" as E2  <<(T,blue)port def>> [[psysml:0d231d17-09c4-40d0-a4bc-6d43713d1eea ]] \r\n",
       "rec def \"B\" as E3  <<(T,blue)part def>> [[psysml:1fca8384-68db-4c35-8908-d644a05ab33b ]] {\r\n",
       "portin \"p1: P\" as E4  <<(T,blue)port>> [[psysml:ac9a4e52-d9d9-4ed8-9786-da9347d8a24d ]] \r\n",
       "portin \"p2: ~P\" as E5  <<(T,blue)port>> [[psysml:dd7140d6-57c4-455c-b235-fe627e1ecfff ]] \r\n",
       "}\r\n",
       "rec def \"A\" as E6  <<(T,blue)connection def>> [[psysml:d9048fa2-8c0d-4237-aabb-192a68938198 ]] {\r\n",
       "portin \"p1: P\" as E7  <<(T,blue)port>> [[psysml:135e4066-7c15-417d-820e-373a33adf188 ]] \r\n",
       "portin \"p2: ~P\" as E8  <<(T,blue)port>> [[psysml:242160d8-1eb8-4593-9cf8-95e70ea0b9fa ]] \r\n",
       "}\r\n",
       "rec def \"I\" as E9  <<(T,blue)interface def>> [[psysml:b68d4e65-0a25-4b32-9474-7d6b33189e06 ]] {\r\n",
       "portin \"p1: P\" as E10  <<(T,blue)port>> [[psysml:c610f798-3696-48d0-b489-00c6b6b02c5c ]] \r\n",
       "portin \"p2: ~P\" as E11  <<(T,blue)port>> [[psysml:82b7a088-1726-4de6-92a0-2f3113dfc02a ]] \r\n",
       "}\r\n",
       "rec def \"B1\" as E12  <<(T,blue)part def>> [[psysml:4bc8843d-d10d-4f46-93fe-21c75269e8aa ]] {\r\n",
       "rec usage \"p\" as E13  [[psysml:37b5f10a-21e5-48b2-b2b2-bc5c291ce903 ]] {\r\n",
       "portin \"p1: P\" as E14  <<(T,blue)port>> [[psysml:c9e1cbea-e956-4380-9b02-2ad2a26c5224 ]] \r\n",
       "portin \"p2: ~P\" as E15  <<(T,blue)port>> [[psysml:91fc773b-55a8-419c-8531-23cd35b1b670 ]] \r\n",
       "}\r\n",
       "}\r\n",
       "E15 -[thickness=3]- E14 [[psysml:8d97a70f-8cd3-421a-99bb-bcc3f52cef04 ]] \r\n",
       "E15 -[thickness=3]- E14 [[psysml:4e5d56fb-a30b-410a-93da-f699910e5442 ]] \r\n",
       "}\r\n",
       "@enduml\r\n",
       "\n",
       "PlantUML version 1.2020.13(Sat Jun 13 12:26:38 UTC 2020)\n",
       "(EPL source distribution)\n",
       "Java Runtime: OpenJDK Runtime Environment\n",
       "JVM: OpenJDK 64-Bit Server VM\n",
       "Default Encoding: UTF-8\n",
       "Language: en\n",
       "Country: null\n",
       "--></g></svg>"
      ]
     },
     "execution_count": 12,
     "metadata": {},
     "output_type": "execute_result"
    }
   ],
   "source": [
    "%viz --style=\"POLYLINE\" --view=\"Interconnection\" \"ConjugationTest\""
   ]
  },
  {
   "cell_type": "code",
   "execution_count": 13,
   "id": "perfect-panic",
   "metadata": {
    "execution": {
     "iopub.execute_input": "2021-03-24T16:29:17.597040Z",
     "iopub.status.busy": "2021-03-24T16:29:17.596526Z",
     "iopub.status.idle": "2021-03-24T16:29:17.602534Z",
     "shell.execute_reply": "2021-03-24T16:29:17.602871Z"
    }
   },
   "outputs": [
    {
     "data": {
      "image/svg+xml": [
       "<?xml version=\"1.0\" encoding=\"UTF-8\" standalone=\"no\"?><svg xmlns=\"http://www.w3.org/2000/svg\" xmlns:xlink=\"http://www.w3.org/1999/xlink\" contentScriptType=\"application/ecmascript\" contentStyleType=\"text/css\" height=\"12px\" preserveAspectRatio=\"none\" style=\"width:12px;height:12px;\" version=\"1.1\" viewBox=\"0 0 12 12\" width=\"12px\" zoomAndPan=\"magnify\"><defs/><g><!--MD5=[97bbf32f66ccd50cbc40d92ea8f5a65e]\n",
       "@startuml\r\n",
       "skinparam ranksep 8\r\n",
       "skinparam linetype polyline\r\n",
       "skinparam monochrome true\r\n",
       "skinparam classbackgroundcolor white\r\n",
       "skinparam shadowing false\r\n",
       "skinparam wrapWidth 300\r\n",
       "hide circle\r\n",
       "\r\n",
       "@enduml\r\n",
       "\n",
       "PlantUML version 1.2020.13(Sat Jun 13 12:26:38 UTC 2020)\n",
       "(EPL source distribution)\n",
       "Java Runtime: OpenJDK Runtime Environment\n",
       "JVM: OpenJDK 64-Bit Server VM\n",
       "Default Encoding: UTF-8\n",
       "Language: en\n",
       "Country: null\n",
       "--></g></svg>"
      ]
     },
     "execution_count": 13,
     "metadata": {},
     "output_type": "execute_result"
    }
   ],
   "source": [
    "%viz --style=\"POLYLINE\" --view=\"Action\" \"ConjugationTest\""
   ]
  },
  {
   "cell_type": "code",
   "execution_count": 14,
   "id": "nasty-billy",
   "metadata": {
    "execution": {
     "iopub.execute_input": "2021-03-24T16:29:17.653667Z",
     "iopub.status.busy": "2021-03-24T16:29:17.653272Z",
     "iopub.status.idle": "2021-03-24T16:29:17.745601Z",
     "shell.execute_reply": "2021-03-24T16:29:17.745966Z"
    }
   },
   "outputs": [
    {
     "data": {
      "image/svg+xml": [
       "<?xml version=\"1.0\" encoding=\"UTF-8\" standalone=\"no\"?><svg xmlns=\"http://www.w3.org/2000/svg\" xmlns:xlink=\"http://www.w3.org/1999/xlink\" contentScriptType=\"application/ecmascript\" contentStyleType=\"text/css\" height=\"305px\" preserveAspectRatio=\"none\" style=\"width:614px;height:305px;\" version=\"1.1\" viewBox=\"0 0 614 305\" width=\"614px\" zoomAndPan=\"magnify\"><defs/><g><!--MD5=[fbc87193dbaf4d95561dea2c320d4a47]\n",
       "cluster E1--><a href=\"psysml:4ba0ad9e-a677-47db-af1d-b015e8f93aef\" target=\"_top\" title=\"psysml:4ba0ad9e-a677-47db-af1d-b015e8f93aef\" xlink:actuate=\"onRequest\" xlink:href=\"psysml:4ba0ad9e-a677-47db-af1d-b015e8f93aef\" xlink:show=\"new\" xlink:title=\"psysml:4ba0ad9e-a677-47db-af1d-b015e8f93aef\" xlink:type=\"simple\"><polygon fill=\"#FFFFFF\" points=\"16,6,151,6,158,28.2969,592,28.2969,592,293,16,293,16,6\" style=\"stroke: #000000; stroke-width: 1.5;\"/><line style=\"stroke: #000000; stroke-width: 1.5;\" x1=\"16\" x2=\"158\" y1=\"28.2969\" y2=\"28.2969\"/><text fill=\"#000000\" font-family=\"sans-serif\" font-size=\"14\" font-weight=\"bold\" lengthAdjust=\"spacingAndGlyphs\" textLength=\"129\" x=\"20\" y=\"20.9951\">ConjugationTest</text></a><!--MD5=[b4997ac47864f28c2f74865a473b2911]\n",
       "class E2--><a href=\"psysml:0d231d17-09c4-40d0-a4bc-6d43713d1eea\" target=\"_top\" title=\"psysml:0d231d17-09c4-40d0-a4bc-6d43713d1eea\" xlink:actuate=\"onRequest\" xlink:href=\"psysml:0d231d17-09c4-40d0-a4bc-6d43713d1eea\" xlink:show=\"new\" xlink:title=\"psysml:0d231d17-09c4-40d0-a4bc-6d43713d1eea\" xlink:type=\"simple\"><rect fill=\"#FFFFFF\" height=\"45.9375\" id=\"E2\" style=\"stroke: #383838; stroke-width: 1.5;\" width=\"66\" x=\"510\" y=\"62\"/><text fill=\"#000000\" font-family=\"sans-serif\" font-size=\"12\" font-style=\"italic\" lengthAdjust=\"spacingAndGlyphs\" textLength=\"64\" x=\"511\" y=\"78.1387\">«port def»</text><text fill=\"#000000\" font-family=\"sans-serif\" font-size=\"12\" lengthAdjust=\"spacingAndGlyphs\" textLength=\"8\" x=\"539\" y=\"92.1074\">P</text><line style=\"stroke: #383838; stroke-width: 1.5;\" x1=\"511\" x2=\"575\" y1=\"99.9375\" y2=\"99.9375\"/></a><!--MD5=[09b614a08d8cba4a07c9adeb5e0fee81]\n",
       "class E3--><a href=\"psysml:1fca8384-68db-4c35-8908-d644a05ab33b\" target=\"_top\" title=\"psysml:1fca8384-68db-4c35-8908-d644a05ab33b\" xlink:actuate=\"onRequest\" xlink:href=\"psysml:1fca8384-68db-4c35-8908-d644a05ab33b\" xlink:show=\"new\" xlink:title=\"psysml:1fca8384-68db-4c35-8908-d644a05ab33b\" xlink:type=\"simple\"><rect fill=\"#FFFFFF\" height=\"88.3516\" id=\"E3\" style=\"stroke: #383838; stroke-width: 1.5;\" width=\"66\" x=\"409\" y=\"41\"/><text fill=\"#000000\" font-family=\"sans-serif\" font-size=\"12\" font-style=\"italic\" lengthAdjust=\"spacingAndGlyphs\" textLength=\"64\" x=\"410\" y=\"57.1387\">«part def»</text><text fill=\"#000000\" font-family=\"sans-serif\" font-size=\"12\" lengthAdjust=\"spacingAndGlyphs\" textLength=\"8\" x=\"438\" y=\"71.1074\">B</text><line style=\"stroke: #383838; stroke-width: 1.5;\" x1=\"410\" x2=\"474\" y1=\"78.9375\" y2=\"78.9375\"/><text fill=\"#000000\" font-family=\"sans-serif\" font-size=\"11\" lengthAdjust=\"spacingAndGlyphs\" textLength=\"29\" x=\"415\" y=\"109.9526\">p1: P</text><text fill=\"#000000\" font-family=\"sans-serif\" font-size=\"11\" lengthAdjust=\"spacingAndGlyphs\" textLength=\"38\" x=\"415\" y=\"122.7573\">p2: ~P</text><line style=\"stroke: #383838; stroke-width: 1.0;\" x1=\"410\" x2=\"427\" y1=\"93.3398\" y2=\"93.3398\"/><text fill=\"#000000\" font-family=\"sans-serif\" font-size=\"11\" lengthAdjust=\"spacingAndGlyphs\" textLength=\"30\" x=\"427\" y=\"96.6479\">ports</text><line style=\"stroke: #383838; stroke-width: 1.0;\" x1=\"457\" x2=\"474\" y1=\"93.3398\" y2=\"93.3398\"/></a><!--MD5=[60a26617385b1d2d0262a64233df1f8d]\n",
       "class E6--><a href=\"psysml:d9048fa2-8c0d-4237-aabb-192a68938198\" target=\"_top\" title=\"psysml:d9048fa2-8c0d-4237-aabb-192a68938198\" xlink:actuate=\"onRequest\" xlink:href=\"psysml:d9048fa2-8c0d-4237-aabb-192a68938198\" xlink:show=\"new\" xlink:title=\"psysml:d9048fa2-8c0d-4237-aabb-192a68938198\" xlink:type=\"simple\"><rect fill=\"#FFFFFF\" height=\"88.3516\" id=\"E6\" style=\"stroke: #383838; stroke-width: 1.5;\" width=\"110\" x=\"264\" y=\"41\"/><text fill=\"#000000\" font-family=\"sans-serif\" font-size=\"12\" font-style=\"italic\" lengthAdjust=\"spacingAndGlyphs\" textLength=\"108\" x=\"265\" y=\"57.1387\">«connection def»</text><text fill=\"#000000\" font-family=\"sans-serif\" font-size=\"12\" lengthAdjust=\"spacingAndGlyphs\" textLength=\"8\" x=\"315\" y=\"71.1074\">A</text><line style=\"stroke: #383838; stroke-width: 1.5;\" x1=\"265\" x2=\"373\" y1=\"78.9375\" y2=\"78.9375\"/><text fill=\"#000000\" font-family=\"sans-serif\" font-size=\"11\" lengthAdjust=\"spacingAndGlyphs\" textLength=\"29\" x=\"270\" y=\"109.9526\">p1: P</text><text fill=\"#000000\" font-family=\"sans-serif\" font-size=\"11\" lengthAdjust=\"spacingAndGlyphs\" textLength=\"38\" x=\"270\" y=\"122.7573\">p2: ~P</text><line style=\"stroke: #383838; stroke-width: 1.0;\" x1=\"265\" x2=\"304\" y1=\"93.3398\" y2=\"93.3398\"/><text fill=\"#000000\" font-family=\"sans-serif\" font-size=\"11\" lengthAdjust=\"spacingAndGlyphs\" textLength=\"30\" x=\"304\" y=\"96.6479\">ports</text><line style=\"stroke: #383838; stroke-width: 1.0;\" x1=\"334\" x2=\"373\" y1=\"93.3398\" y2=\"93.3398\"/></a><!--MD5=[fd4143e9d270a159db93a4ea2a975926]\n",
       "class E9--><a href=\"psysml:b68d4e65-0a25-4b32-9474-7d6b33189e06\" target=\"_top\" title=\"psysml:b68d4e65-0a25-4b32-9474-7d6b33189e06\" xlink:actuate=\"onRequest\" xlink:href=\"psysml:b68d4e65-0a25-4b32-9474-7d6b33189e06\" xlink:show=\"new\" xlink:title=\"psysml:b68d4e65-0a25-4b32-9474-7d6b33189e06\" xlink:type=\"simple\"><rect fill=\"#FFFFFF\" height=\"88.3516\" id=\"E9\" style=\"stroke: #383838; stroke-width: 1.5;\" width=\"96\" x=\"133\" y=\"41\"/><text fill=\"#000000\" font-family=\"sans-serif\" font-size=\"12\" font-style=\"italic\" lengthAdjust=\"spacingAndGlyphs\" textLength=\"94\" x=\"134\" y=\"57.1387\">«interface def»</text><text fill=\"#000000\" font-family=\"sans-serif\" font-size=\"12\" lengthAdjust=\"spacingAndGlyphs\" textLength=\"3\" x=\"179.5\" y=\"71.1074\">I</text><line style=\"stroke: #383838; stroke-width: 1.5;\" x1=\"134\" x2=\"228\" y1=\"78.9375\" y2=\"78.9375\"/><text fill=\"#000000\" font-family=\"sans-serif\" font-size=\"11\" lengthAdjust=\"spacingAndGlyphs\" textLength=\"29\" x=\"139\" y=\"109.9526\">p1: P</text><text fill=\"#000000\" font-family=\"sans-serif\" font-size=\"11\" lengthAdjust=\"spacingAndGlyphs\" textLength=\"38\" x=\"139\" y=\"122.7573\">p2: ~P</text><line style=\"stroke: #383838; stroke-width: 1.0;\" x1=\"134\" x2=\"166\" y1=\"93.3398\" y2=\"93.3398\"/><text fill=\"#000000\" font-family=\"sans-serif\" font-size=\"11\" lengthAdjust=\"spacingAndGlyphs\" textLength=\"30\" x=\"166\" y=\"96.6479\">ports</text><line style=\"stroke: #383838; stroke-width: 1.0;\" x1=\"196\" x2=\"228\" y1=\"93.3398\" y2=\"93.3398\"/></a><!--MD5=[49a0ec8f00dab7302a31f22d0f0fe584]\n",
       "class E12--><a href=\"psysml:4bc8843d-d10d-4f46-93fe-21c75269e8aa\" target=\"_top\" title=\"psysml:4bc8843d-d10d-4f46-93fe-21c75269e8aa\" xlink:actuate=\"onRequest\" xlink:href=\"psysml:4bc8843d-d10d-4f46-93fe-21c75269e8aa\" xlink:show=\"new\" xlink:title=\"psysml:4bc8843d-d10d-4f46-93fe-21c75269e8aa\" xlink:type=\"simple\"><rect fill=\"#FFFFFF\" height=\"45.9375\" id=\"E12\" style=\"stroke: #383838; stroke-width: 1.5;\" width=\"66\" x=\"32\" y=\"62\"/><text fill=\"#000000\" font-family=\"sans-serif\" font-size=\"12\" font-style=\"italic\" lengthAdjust=\"spacingAndGlyphs\" textLength=\"64\" x=\"33\" y=\"78.1387\">«part def»</text><text fill=\"#000000\" font-family=\"sans-serif\" font-size=\"12\" lengthAdjust=\"spacingAndGlyphs\" textLength=\"16\" x=\"57\" y=\"92.1074\">B1</text><line style=\"stroke: #383838; stroke-width: 1.5;\" x1=\"33\" x2=\"97\" y1=\"99.9375\" y2=\"99.9375\"/></a><!--MD5=[ee3c913d1a06f366521f9ef512b67efe]\n",
       "class E13--><a href=\"psysml:37b5f10a-21e5-48b2-b2b2-bc5c291ce903\" target=\"_top\" title=\"psysml:37b5f10a-21e5-48b2-b2b2-bc5c291ce903\" xlink:actuate=\"onRequest\" xlink:href=\"psysml:37b5f10a-21e5-48b2-b2b2-bc5c291ce903\" xlink:show=\"new\" xlink:title=\"psysml:37b5f10a-21e5-48b2-b2b2-bc5c291ce903\" xlink:type=\"simple\"><rect fill=\"#FFFFFF\" height=\"88.3516\" id=\"E13\" rx=\"10\" ry=\"10\" style=\"stroke: #383838; stroke-width: 1.5;\" width=\"50\" x=\"40\" y=\"189\"/><text fill=\"#000000\" font-family=\"sans-serif\" font-size=\"12\" font-style=\"italic\" lengthAdjust=\"spacingAndGlyphs\" textLength=\"40\" x=\"45\" y=\"205.1387\">«part»</text><text fill=\"#000000\" font-family=\"sans-serif\" font-size=\"12\" lengthAdjust=\"spacingAndGlyphs\" textLength=\"8\" x=\"61\" y=\"219.1074\">p</text><line style=\"stroke: #383838; stroke-width: 1.5;\" x1=\"41\" x2=\"89\" y1=\"226.9375\" y2=\"226.9375\"/><text fill=\"#000000\" font-family=\"sans-serif\" font-size=\"11\" lengthAdjust=\"spacingAndGlyphs\" textLength=\"29\" x=\"46\" y=\"257.9526\">p1: P</text><text fill=\"#000000\" font-family=\"sans-serif\" font-size=\"11\" lengthAdjust=\"spacingAndGlyphs\" textLength=\"38\" x=\"46\" y=\"270.7573\">p2: ~P</text><line style=\"stroke: #383838; stroke-width: 1.0;\" x1=\"41\" x2=\"50\" y1=\"241.3398\" y2=\"241.3398\"/><text fill=\"#000000\" font-family=\"sans-serif\" font-size=\"11\" lengthAdjust=\"spacingAndGlyphs\" textLength=\"30\" x=\"50\" y=\"244.6479\">ports</text><line style=\"stroke: #383838; stroke-width: 1.0;\" x1=\"80\" x2=\"89\" y1=\"241.3398\" y2=\"241.3398\"/></a><!--MD5=[062ed86c389d1a88f61c6380d0491e17]\n",
       "reverse link E12 to E13--><a href=\"psysml:37b5f10a-21e5-48b2-b2b2-bc5c291ce903\" target=\"_top\" title=\"psysml:37b5f10a-21e5-48b2-b2b2-bc5c291ce903\" xlink:actuate=\"onRequest\" xlink:href=\"psysml:37b5f10a-21e5-48b2-b2b2-bc5c291ce903\" xlink:show=\"new\" xlink:title=\"psysml:37b5f10a-21e5-48b2-b2b2-bc5c291ce903\" xlink:type=\"simple\"><path d=\"M65,121.25 C65,141.54 65,167.2 65,188.71 \" fill=\"none\" id=\"E12&lt;-E13\" style=\"stroke: #383838; stroke-width: 1.0;\"/><polygon fill=\"#383838\" points=\"65,108.17,61,114.17,65,120.17,69,114.17,65,108.17\" style=\"stroke: #383838; stroke-width: 1.0;\"/></a><!--MD5=[9129f76d51b37552ccdf1dbf501ca8ae]\n",
       "@startuml\r\n",
       "skinparam linetype polyline\r\n",
       "skinparam monochrome true\r\n",
       "skinparam classbackgroundcolor white\r\n",
       "skinparam shadowing false\r\n",
       "skinparam wrapWidth 300\r\n",
       "hide circle\r\n",
       "\r\n",
       "package \"ConjugationTest\" as E1  [[psysml:4ba0ad9e-a677-47db-af1d-b015e8f93aef ]]  {\r\n",
       "comp def \"P\" as E2  <<(T,blue)port def>> [[psysml:0d231d17-09c4-40d0-a4bc-6d43713d1eea ]] {\r\n",
       "}\r\n",
       "comp def \"B\" as E3  <<(T,blue)part def>> [[psysml:1fca8384-68db-4c35-8908-d644a05ab33b ]] {\r\n",
       "- - ports - -\r\n",
       "p1: P\r\n",
       "p2: ~P\r\n",
       "}\r\n",
       "comp def \"A\" as E6  <<(T,blue)connection def>> [[psysml:d9048fa2-8c0d-4237-aabb-192a68938198 ]] {\r\n",
       "- - ports - -\r\n",
       "p1: P\r\n",
       "p2: ~P\r\n",
       "}\r\n",
       "comp def \"I\" as E9  <<(T,blue)interface def>> [[psysml:b68d4e65-0a25-4b32-9474-7d6b33189e06 ]] {\r\n",
       "- - ports - -\r\n",
       "p1: P\r\n",
       "p2: ~P\r\n",
       "}\r\n",
       "comp def \"B1\" as E12  <<(T,blue)part def>> [[psysml:4bc8843d-d10d-4f46-93fe-21c75269e8aa ]] {\r\n",
       "}\r\n",
       "comp usage \"p\" as E13  <<(T,blue)part>> [[psysml:37b5f10a-21e5-48b2-b2b2-bc5c291ce903 ]] {\r\n",
       "- - ports - -\r\n",
       "p1: P\r\n",
       "p2: ~P\r\n",
       "}\r\n",
       "E12 *- - E13 [[psysml:37b5f10a-21e5-48b2-b2b2-bc5c291ce903 ]] \r\n",
       "}\r\n",
       "@enduml\r\n",
       "\n",
       "PlantUML version 1.2020.13(Sat Jun 13 12:26:38 UTC 2020)\n",
       "(EPL source distribution)\n",
       "Java Runtime: OpenJDK Runtime Environment\n",
       "JVM: OpenJDK 64-Bit Server VM\n",
       "Default Encoding: UTF-8\n",
       "Language: en\n",
       "Country: null\n",
       "--></g></svg>"
      ]
     },
     "execution_count": 14,
     "metadata": {},
     "output_type": "execute_result"
    }
   ],
   "source": [
    "%viz --style=\"POLYLINE\" --view=\"Sequence\" \"ConjugationTest\""
   ]
  },
  {
   "cell_type": "code",
   "execution_count": 15,
   "id": "victorian-lease",
   "metadata": {
    "execution": {
     "iopub.execute_input": "2021-03-24T16:29:17.796008Z",
     "iopub.status.busy": "2021-03-24T16:29:17.795439Z",
     "iopub.status.idle": "2021-03-24T16:29:17.891721Z",
     "shell.execute_reply": "2021-03-24T16:29:17.890108Z"
    }
   },
   "outputs": [
    {
     "data": {
      "image/svg+xml": [
       "<?xml version=\"1.0\" encoding=\"UTF-8\" standalone=\"no\"?><svg xmlns=\"http://www.w3.org/2000/svg\" xmlns:xlink=\"http://www.w3.org/1999/xlink\" contentScriptType=\"application/ecmascript\" contentStyleType=\"text/css\" height=\"305px\" preserveAspectRatio=\"none\" style=\"width:614px;height:305px;\" version=\"1.1\" viewBox=\"0 0 614 305\" width=\"614px\" zoomAndPan=\"magnify\"><defs/><g><!--MD5=[fbc87193dbaf4d95561dea2c320d4a47]\n",
       "cluster E1--><a href=\"psysml:4ba0ad9e-a677-47db-af1d-b015e8f93aef\" target=\"_top\" title=\"psysml:4ba0ad9e-a677-47db-af1d-b015e8f93aef\" xlink:actuate=\"onRequest\" xlink:href=\"psysml:4ba0ad9e-a677-47db-af1d-b015e8f93aef\" xlink:show=\"new\" xlink:title=\"psysml:4ba0ad9e-a677-47db-af1d-b015e8f93aef\" xlink:type=\"simple\"><polygon fill=\"#FFFFFF\" points=\"16,6,151,6,158,28.2969,592,28.2969,592,293,16,293,16,6\" style=\"stroke: #000000; stroke-width: 1.5;\"/><line style=\"stroke: #000000; stroke-width: 1.5;\" x1=\"16\" x2=\"158\" y1=\"28.2969\" y2=\"28.2969\"/><text fill=\"#000000\" font-family=\"sans-serif\" font-size=\"14\" font-weight=\"bold\" lengthAdjust=\"spacingAndGlyphs\" textLength=\"129\" x=\"20\" y=\"20.9951\">ConjugationTest</text></a><!--MD5=[b4997ac47864f28c2f74865a473b2911]\n",
       "class E2--><a href=\"psysml:0d231d17-09c4-40d0-a4bc-6d43713d1eea\" target=\"_top\" title=\"psysml:0d231d17-09c4-40d0-a4bc-6d43713d1eea\" xlink:actuate=\"onRequest\" xlink:href=\"psysml:0d231d17-09c4-40d0-a4bc-6d43713d1eea\" xlink:show=\"new\" xlink:title=\"psysml:0d231d17-09c4-40d0-a4bc-6d43713d1eea\" xlink:type=\"simple\"><rect fill=\"#FFFFFF\" height=\"45.9375\" id=\"E2\" style=\"stroke: #383838; stroke-width: 1.5;\" width=\"66\" x=\"510\" y=\"62\"/><text fill=\"#000000\" font-family=\"sans-serif\" font-size=\"12\" font-style=\"italic\" lengthAdjust=\"spacingAndGlyphs\" textLength=\"64\" x=\"511\" y=\"78.1387\">«port def»</text><text fill=\"#000000\" font-family=\"sans-serif\" font-size=\"12\" lengthAdjust=\"spacingAndGlyphs\" textLength=\"8\" x=\"539\" y=\"92.1074\">P</text><line style=\"stroke: #383838; stroke-width: 1.5;\" x1=\"511\" x2=\"575\" y1=\"99.9375\" y2=\"99.9375\"/></a><!--MD5=[09b614a08d8cba4a07c9adeb5e0fee81]\n",
       "class E3--><a href=\"psysml:1fca8384-68db-4c35-8908-d644a05ab33b\" target=\"_top\" title=\"psysml:1fca8384-68db-4c35-8908-d644a05ab33b\" xlink:actuate=\"onRequest\" xlink:href=\"psysml:1fca8384-68db-4c35-8908-d644a05ab33b\" xlink:show=\"new\" xlink:title=\"psysml:1fca8384-68db-4c35-8908-d644a05ab33b\" xlink:type=\"simple\"><rect fill=\"#FFFFFF\" height=\"88.3516\" id=\"E3\" style=\"stroke: #383838; stroke-width: 1.5;\" width=\"66\" x=\"409\" y=\"41\"/><text fill=\"#000000\" font-family=\"sans-serif\" font-size=\"12\" font-style=\"italic\" lengthAdjust=\"spacingAndGlyphs\" textLength=\"64\" x=\"410\" y=\"57.1387\">«part def»</text><text fill=\"#000000\" font-family=\"sans-serif\" font-size=\"12\" lengthAdjust=\"spacingAndGlyphs\" textLength=\"8\" x=\"438\" y=\"71.1074\">B</text><line style=\"stroke: #383838; stroke-width: 1.5;\" x1=\"410\" x2=\"474\" y1=\"78.9375\" y2=\"78.9375\"/><text fill=\"#000000\" font-family=\"sans-serif\" font-size=\"11\" lengthAdjust=\"spacingAndGlyphs\" textLength=\"29\" x=\"415\" y=\"109.9526\">p1: P</text><text fill=\"#000000\" font-family=\"sans-serif\" font-size=\"11\" lengthAdjust=\"spacingAndGlyphs\" textLength=\"38\" x=\"415\" y=\"122.7573\">p2: ~P</text><line style=\"stroke: #383838; stroke-width: 1.0;\" x1=\"410\" x2=\"427\" y1=\"93.3398\" y2=\"93.3398\"/><text fill=\"#000000\" font-family=\"sans-serif\" font-size=\"11\" lengthAdjust=\"spacingAndGlyphs\" textLength=\"30\" x=\"427\" y=\"96.6479\">ports</text><line style=\"stroke: #383838; stroke-width: 1.0;\" x1=\"457\" x2=\"474\" y1=\"93.3398\" y2=\"93.3398\"/></a><!--MD5=[60a26617385b1d2d0262a64233df1f8d]\n",
       "class E6--><a href=\"psysml:d9048fa2-8c0d-4237-aabb-192a68938198\" target=\"_top\" title=\"psysml:d9048fa2-8c0d-4237-aabb-192a68938198\" xlink:actuate=\"onRequest\" xlink:href=\"psysml:d9048fa2-8c0d-4237-aabb-192a68938198\" xlink:show=\"new\" xlink:title=\"psysml:d9048fa2-8c0d-4237-aabb-192a68938198\" xlink:type=\"simple\"><rect fill=\"#FFFFFF\" height=\"88.3516\" id=\"E6\" style=\"stroke: #383838; stroke-width: 1.5;\" width=\"110\" x=\"264\" y=\"41\"/><text fill=\"#000000\" font-family=\"sans-serif\" font-size=\"12\" font-style=\"italic\" lengthAdjust=\"spacingAndGlyphs\" textLength=\"108\" x=\"265\" y=\"57.1387\">«connection def»</text><text fill=\"#000000\" font-family=\"sans-serif\" font-size=\"12\" lengthAdjust=\"spacingAndGlyphs\" textLength=\"8\" x=\"315\" y=\"71.1074\">A</text><line style=\"stroke: #383838; stroke-width: 1.5;\" x1=\"265\" x2=\"373\" y1=\"78.9375\" y2=\"78.9375\"/><text fill=\"#000000\" font-family=\"sans-serif\" font-size=\"11\" lengthAdjust=\"spacingAndGlyphs\" textLength=\"29\" x=\"270\" y=\"109.9526\">p1: P</text><text fill=\"#000000\" font-family=\"sans-serif\" font-size=\"11\" lengthAdjust=\"spacingAndGlyphs\" textLength=\"38\" x=\"270\" y=\"122.7573\">p2: ~P</text><line style=\"stroke: #383838; stroke-width: 1.0;\" x1=\"265\" x2=\"304\" y1=\"93.3398\" y2=\"93.3398\"/><text fill=\"#000000\" font-family=\"sans-serif\" font-size=\"11\" lengthAdjust=\"spacingAndGlyphs\" textLength=\"30\" x=\"304\" y=\"96.6479\">ports</text><line style=\"stroke: #383838; stroke-width: 1.0;\" x1=\"334\" x2=\"373\" y1=\"93.3398\" y2=\"93.3398\"/></a><!--MD5=[fd4143e9d270a159db93a4ea2a975926]\n",
       "class E9--><a href=\"psysml:b68d4e65-0a25-4b32-9474-7d6b33189e06\" target=\"_top\" title=\"psysml:b68d4e65-0a25-4b32-9474-7d6b33189e06\" xlink:actuate=\"onRequest\" xlink:href=\"psysml:b68d4e65-0a25-4b32-9474-7d6b33189e06\" xlink:show=\"new\" xlink:title=\"psysml:b68d4e65-0a25-4b32-9474-7d6b33189e06\" xlink:type=\"simple\"><rect fill=\"#FFFFFF\" height=\"88.3516\" id=\"E9\" style=\"stroke: #383838; stroke-width: 1.5;\" width=\"96\" x=\"133\" y=\"41\"/><text fill=\"#000000\" font-family=\"sans-serif\" font-size=\"12\" font-style=\"italic\" lengthAdjust=\"spacingAndGlyphs\" textLength=\"94\" x=\"134\" y=\"57.1387\">«interface def»</text><text fill=\"#000000\" font-family=\"sans-serif\" font-size=\"12\" lengthAdjust=\"spacingAndGlyphs\" textLength=\"3\" x=\"179.5\" y=\"71.1074\">I</text><line style=\"stroke: #383838; stroke-width: 1.5;\" x1=\"134\" x2=\"228\" y1=\"78.9375\" y2=\"78.9375\"/><text fill=\"#000000\" font-family=\"sans-serif\" font-size=\"11\" lengthAdjust=\"spacingAndGlyphs\" textLength=\"29\" x=\"139\" y=\"109.9526\">p1: P</text><text fill=\"#000000\" font-family=\"sans-serif\" font-size=\"11\" lengthAdjust=\"spacingAndGlyphs\" textLength=\"38\" x=\"139\" y=\"122.7573\">p2: ~P</text><line style=\"stroke: #383838; stroke-width: 1.0;\" x1=\"134\" x2=\"166\" y1=\"93.3398\" y2=\"93.3398\"/><text fill=\"#000000\" font-family=\"sans-serif\" font-size=\"11\" lengthAdjust=\"spacingAndGlyphs\" textLength=\"30\" x=\"166\" y=\"96.6479\">ports</text><line style=\"stroke: #383838; stroke-width: 1.0;\" x1=\"196\" x2=\"228\" y1=\"93.3398\" y2=\"93.3398\"/></a><!--MD5=[49a0ec8f00dab7302a31f22d0f0fe584]\n",
       "class E12--><a href=\"psysml:4bc8843d-d10d-4f46-93fe-21c75269e8aa\" target=\"_top\" title=\"psysml:4bc8843d-d10d-4f46-93fe-21c75269e8aa\" xlink:actuate=\"onRequest\" xlink:href=\"psysml:4bc8843d-d10d-4f46-93fe-21c75269e8aa\" xlink:show=\"new\" xlink:title=\"psysml:4bc8843d-d10d-4f46-93fe-21c75269e8aa\" xlink:type=\"simple\"><rect fill=\"#FFFFFF\" height=\"45.9375\" id=\"E12\" style=\"stroke: #383838; stroke-width: 1.5;\" width=\"66\" x=\"32\" y=\"62\"/><text fill=\"#000000\" font-family=\"sans-serif\" font-size=\"12\" font-style=\"italic\" lengthAdjust=\"spacingAndGlyphs\" textLength=\"64\" x=\"33\" y=\"78.1387\">«part def»</text><text fill=\"#000000\" font-family=\"sans-serif\" font-size=\"12\" lengthAdjust=\"spacingAndGlyphs\" textLength=\"16\" x=\"57\" y=\"92.1074\">B1</text><line style=\"stroke: #383838; stroke-width: 1.5;\" x1=\"33\" x2=\"97\" y1=\"99.9375\" y2=\"99.9375\"/></a><!--MD5=[ee3c913d1a06f366521f9ef512b67efe]\n",
       "class E13--><a href=\"psysml:37b5f10a-21e5-48b2-b2b2-bc5c291ce903\" target=\"_top\" title=\"psysml:37b5f10a-21e5-48b2-b2b2-bc5c291ce903\" xlink:actuate=\"onRequest\" xlink:href=\"psysml:37b5f10a-21e5-48b2-b2b2-bc5c291ce903\" xlink:show=\"new\" xlink:title=\"psysml:37b5f10a-21e5-48b2-b2b2-bc5c291ce903\" xlink:type=\"simple\"><rect fill=\"#FFFFFF\" height=\"88.3516\" id=\"E13\" rx=\"10\" ry=\"10\" style=\"stroke: #383838; stroke-width: 1.5;\" width=\"50\" x=\"40\" y=\"189\"/><text fill=\"#000000\" font-family=\"sans-serif\" font-size=\"12\" font-style=\"italic\" lengthAdjust=\"spacingAndGlyphs\" textLength=\"40\" x=\"45\" y=\"205.1387\">«part»</text><text fill=\"#000000\" font-family=\"sans-serif\" font-size=\"12\" lengthAdjust=\"spacingAndGlyphs\" textLength=\"8\" x=\"61\" y=\"219.1074\">p</text><line style=\"stroke: #383838; stroke-width: 1.5;\" x1=\"41\" x2=\"89\" y1=\"226.9375\" y2=\"226.9375\"/><text fill=\"#000000\" font-family=\"sans-serif\" font-size=\"11\" lengthAdjust=\"spacingAndGlyphs\" textLength=\"29\" x=\"46\" y=\"257.9526\">p1: P</text><text fill=\"#000000\" font-family=\"sans-serif\" font-size=\"11\" lengthAdjust=\"spacingAndGlyphs\" textLength=\"38\" x=\"46\" y=\"270.7573\">p2: ~P</text><line style=\"stroke: #383838; stroke-width: 1.0;\" x1=\"41\" x2=\"50\" y1=\"241.3398\" y2=\"241.3398\"/><text fill=\"#000000\" font-family=\"sans-serif\" font-size=\"11\" lengthAdjust=\"spacingAndGlyphs\" textLength=\"30\" x=\"50\" y=\"244.6479\">ports</text><line style=\"stroke: #383838; stroke-width: 1.0;\" x1=\"80\" x2=\"89\" y1=\"241.3398\" y2=\"241.3398\"/></a><!--MD5=[062ed86c389d1a88f61c6380d0491e17]\n",
       "reverse link E12 to E13--><a href=\"psysml:37b5f10a-21e5-48b2-b2b2-bc5c291ce903\" target=\"_top\" title=\"psysml:37b5f10a-21e5-48b2-b2b2-bc5c291ce903\" xlink:actuate=\"onRequest\" xlink:href=\"psysml:37b5f10a-21e5-48b2-b2b2-bc5c291ce903\" xlink:show=\"new\" xlink:title=\"psysml:37b5f10a-21e5-48b2-b2b2-bc5c291ce903\" xlink:type=\"simple\"><path d=\"M65,121.25 C65,141.54 65,167.2 65,188.71 \" fill=\"none\" id=\"E12&lt;-E13\" style=\"stroke: #383838; stroke-width: 1.0;\"/><polygon fill=\"#383838\" points=\"65,108.17,61,114.17,65,120.17,69,114.17,65,108.17\" style=\"stroke: #383838; stroke-width: 1.0;\"/></a><!--MD5=[9129f76d51b37552ccdf1dbf501ca8ae]\n",
       "@startuml\r\n",
       "skinparam linetype polyline\r\n",
       "skinparam monochrome true\r\n",
       "skinparam classbackgroundcolor white\r\n",
       "skinparam shadowing false\r\n",
       "skinparam wrapWidth 300\r\n",
       "hide circle\r\n",
       "\r\n",
       "package \"ConjugationTest\" as E1  [[psysml:4ba0ad9e-a677-47db-af1d-b015e8f93aef ]]  {\r\n",
       "comp def \"P\" as E2  <<(T,blue)port def>> [[psysml:0d231d17-09c4-40d0-a4bc-6d43713d1eea ]] {\r\n",
       "}\r\n",
       "comp def \"B\" as E3  <<(T,blue)part def>> [[psysml:1fca8384-68db-4c35-8908-d644a05ab33b ]] {\r\n",
       "- - ports - -\r\n",
       "p1: P\r\n",
       "p2: ~P\r\n",
       "}\r\n",
       "comp def \"A\" as E6  <<(T,blue)connection def>> [[psysml:d9048fa2-8c0d-4237-aabb-192a68938198 ]] {\r\n",
       "- - ports - -\r\n",
       "p1: P\r\n",
       "p2: ~P\r\n",
       "}\r\n",
       "comp def \"I\" as E9  <<(T,blue)interface def>> [[psysml:b68d4e65-0a25-4b32-9474-7d6b33189e06 ]] {\r\n",
       "- - ports - -\r\n",
       "p1: P\r\n",
       "p2: ~P\r\n",
       "}\r\n",
       "comp def \"B1\" as E12  <<(T,blue)part def>> [[psysml:4bc8843d-d10d-4f46-93fe-21c75269e8aa ]] {\r\n",
       "}\r\n",
       "comp usage \"p\" as E13  <<(T,blue)part>> [[psysml:37b5f10a-21e5-48b2-b2b2-bc5c291ce903 ]] {\r\n",
       "- - ports - -\r\n",
       "p1: P\r\n",
       "p2: ~P\r\n",
       "}\r\n",
       "E12 *- - E13 [[psysml:37b5f10a-21e5-48b2-b2b2-bc5c291ce903 ]] \r\n",
       "}\r\n",
       "@enduml\r\n",
       "\n",
       "PlantUML version 1.2020.13(Sat Jun 13 12:26:38 UTC 2020)\n",
       "(EPL source distribution)\n",
       "Java Runtime: OpenJDK Runtime Environment\n",
       "JVM: OpenJDK 64-Bit Server VM\n",
       "Default Encoding: UTF-8\n",
       "Language: en\n",
       "Country: null\n",
       "--></g></svg>"
      ]
     },
     "execution_count": 15,
     "metadata": {},
     "output_type": "execute_result"
    }
   ],
   "source": [
    "%viz --style=\"POLYLINE\" --view=\"MIXED\" \"ConjugationTest\""
   ]
  },
  {
   "cell_type": "code",
   "execution_count": 16,
   "id": "powerful-bachelor",
   "metadata": {
    "execution": {
     "iopub.execute_input": "2021-03-24T16:29:17.943640Z",
     "iopub.status.busy": "2021-03-24T16:29:17.943047Z",
     "iopub.status.idle": "2021-03-24T16:29:18.035338Z",
     "shell.execute_reply": "2021-03-24T16:29:18.033861Z"
    }
   },
   "outputs": [
    {
     "data": {
      "image/svg+xml": [
       "<?xml version=\"1.0\" encoding=\"UTF-8\" standalone=\"no\"?><svg xmlns=\"http://www.w3.org/2000/svg\" xmlns:xlink=\"http://www.w3.org/1999/xlink\" contentScriptType=\"application/ecmascript\" contentStyleType=\"text/css\" height=\"565px\" preserveAspectRatio=\"none\" style=\"width:290px;height:565px;\" version=\"1.1\" viewBox=\"0 0 290 565\" width=\"290px\" zoomAndPan=\"magnify\"><defs/><g><!--MD5=[fbc87193dbaf4d95561dea2c320d4a47]\n",
       "cluster E1--><a href=\"psysml:4ba0ad9e-a677-47db-af1d-b015e8f93aef\" target=\"_top\" title=\"psysml:4ba0ad9e-a677-47db-af1d-b015e8f93aef\" xlink:actuate=\"onRequest\" xlink:href=\"psysml:4ba0ad9e-a677-47db-af1d-b015e8f93aef\" xlink:show=\"new\" xlink:title=\"psysml:4ba0ad9e-a677-47db-af1d-b015e8f93aef\" xlink:type=\"simple\"><polygon fill=\"#FFFFFF\" points=\"16,6,151,6,158,28.2969,268,28.2969,268,553,16,553,16,6\" style=\"stroke: #000000; stroke-width: 1.5;\"/><line style=\"stroke: #000000; stroke-width: 1.5;\" x1=\"16\" x2=\"158\" y1=\"28.2969\" y2=\"28.2969\"/><text fill=\"#000000\" font-family=\"sans-serif\" font-size=\"14\" font-weight=\"bold\" lengthAdjust=\"spacingAndGlyphs\" textLength=\"129\" x=\"20\" y=\"20.9951\">ConjugationTest</text></a><!--MD5=[b4997ac47864f28c2f74865a473b2911]\n",
       "class E2--><a href=\"psysml:0d231d17-09c4-40d0-a4bc-6d43713d1eea\" target=\"_top\" title=\"psysml:0d231d17-09c4-40d0-a4bc-6d43713d1eea\" xlink:actuate=\"onRequest\" xlink:href=\"psysml:0d231d17-09c4-40d0-a4bc-6d43713d1eea\" xlink:show=\"new\" xlink:title=\"psysml:0d231d17-09c4-40d0-a4bc-6d43713d1eea\" xlink:type=\"simple\"><rect fill=\"#FFFFFF\" height=\"45.9375\" id=\"E2\" style=\"stroke: #383838; stroke-width: 1.5;\" width=\"66\" x=\"54\" y=\"41\"/><text fill=\"#000000\" font-family=\"sans-serif\" font-size=\"12\" font-style=\"italic\" lengthAdjust=\"spacingAndGlyphs\" textLength=\"64\" x=\"55\" y=\"57.1387\">«port def»</text><text fill=\"#000000\" font-family=\"sans-serif\" font-size=\"12\" lengthAdjust=\"spacingAndGlyphs\" textLength=\"8\" x=\"83\" y=\"71.1074\">P</text><line style=\"stroke: #383838; stroke-width: 1.5;\" x1=\"55\" x2=\"119\" y1=\"78.9375\" y2=\"78.9375\"/></a><!--MD5=[09b614a08d8cba4a07c9adeb5e0fee81]\n",
       "class E3--><a href=\"psysml:1fca8384-68db-4c35-8908-d644a05ab33b\" target=\"_top\" title=\"psysml:1fca8384-68db-4c35-8908-d644a05ab33b\" xlink:actuate=\"onRequest\" xlink:href=\"psysml:1fca8384-68db-4c35-8908-d644a05ab33b\" xlink:show=\"new\" xlink:title=\"psysml:1fca8384-68db-4c35-8908-d644a05ab33b\" xlink:type=\"simple\"><rect fill=\"#FFFFFF\" height=\"88.3516\" id=\"E3\" style=\"stroke: #383838; stroke-width: 1.5;\" width=\"66\" x=\"54\" y=\"122\"/><text fill=\"#000000\" font-family=\"sans-serif\" font-size=\"12\" font-style=\"italic\" lengthAdjust=\"spacingAndGlyphs\" textLength=\"64\" x=\"55\" y=\"138.1387\">«part def»</text><text fill=\"#000000\" font-family=\"sans-serif\" font-size=\"12\" lengthAdjust=\"spacingAndGlyphs\" textLength=\"8\" x=\"83\" y=\"152.1074\">B</text><line style=\"stroke: #383838; stroke-width: 1.5;\" x1=\"55\" x2=\"119\" y1=\"159.9375\" y2=\"159.9375\"/><text fill=\"#000000\" font-family=\"sans-serif\" font-size=\"11\" lengthAdjust=\"spacingAndGlyphs\" textLength=\"29\" x=\"60\" y=\"190.9526\">p1: P</text><text fill=\"#000000\" font-family=\"sans-serif\" font-size=\"11\" lengthAdjust=\"spacingAndGlyphs\" textLength=\"38\" x=\"60\" y=\"203.7573\">p2: ~P</text><line style=\"stroke: #383838; stroke-width: 1.0;\" x1=\"55\" x2=\"72\" y1=\"174.3398\" y2=\"174.3398\"/><text fill=\"#000000\" font-family=\"sans-serif\" font-size=\"11\" lengthAdjust=\"spacingAndGlyphs\" textLength=\"30\" x=\"72\" y=\"177.6479\">ports</text><line style=\"stroke: #383838; stroke-width: 1.0;\" x1=\"102\" x2=\"119\" y1=\"174.3398\" y2=\"174.3398\"/></a><!--MD5=[60a26617385b1d2d0262a64233df1f8d]\n",
       "class E6--><a href=\"psysml:d9048fa2-8c0d-4237-aabb-192a68938198\" target=\"_top\" title=\"psysml:d9048fa2-8c0d-4237-aabb-192a68938198\" xlink:actuate=\"onRequest\" xlink:href=\"psysml:d9048fa2-8c0d-4237-aabb-192a68938198\" xlink:show=\"new\" xlink:title=\"psysml:d9048fa2-8c0d-4237-aabb-192a68938198\" xlink:type=\"simple\"><rect fill=\"#FFFFFF\" height=\"88.3516\" id=\"E6\" style=\"stroke: #383838; stroke-width: 1.5;\" width=\"110\" x=\"32\" y=\"245\"/><text fill=\"#000000\" font-family=\"sans-serif\" font-size=\"12\" font-style=\"italic\" lengthAdjust=\"spacingAndGlyphs\" textLength=\"108\" x=\"33\" y=\"261.1387\">«connection def»</text><text fill=\"#000000\" font-family=\"sans-serif\" font-size=\"12\" lengthAdjust=\"spacingAndGlyphs\" textLength=\"8\" x=\"83\" y=\"275.1074\">A</text><line style=\"stroke: #383838; stroke-width: 1.5;\" x1=\"33\" x2=\"141\" y1=\"282.9375\" y2=\"282.9375\"/><text fill=\"#000000\" font-family=\"sans-serif\" font-size=\"11\" lengthAdjust=\"spacingAndGlyphs\" textLength=\"29\" x=\"38\" y=\"313.9526\">p1: P</text><text fill=\"#000000\" font-family=\"sans-serif\" font-size=\"11\" lengthAdjust=\"spacingAndGlyphs\" textLength=\"38\" x=\"38\" y=\"326.7573\">p2: ~P</text><line style=\"stroke: #383838; stroke-width: 1.0;\" x1=\"33\" x2=\"72\" y1=\"297.3398\" y2=\"297.3398\"/><text fill=\"#000000\" font-family=\"sans-serif\" font-size=\"11\" lengthAdjust=\"spacingAndGlyphs\" textLength=\"30\" x=\"72\" y=\"300.6479\">ports</text><line style=\"stroke: #383838; stroke-width: 1.0;\" x1=\"102\" x2=\"141\" y1=\"297.3398\" y2=\"297.3398\"/></a><!--MD5=[fd4143e9d270a159db93a4ea2a975926]\n",
       "class E9--><a href=\"psysml:b68d4e65-0a25-4b32-9474-7d6b33189e06\" target=\"_top\" title=\"psysml:b68d4e65-0a25-4b32-9474-7d6b33189e06\" xlink:actuate=\"onRequest\" xlink:href=\"psysml:b68d4e65-0a25-4b32-9474-7d6b33189e06\" xlink:show=\"new\" xlink:title=\"psysml:b68d4e65-0a25-4b32-9474-7d6b33189e06\" xlink:type=\"simple\"><rect fill=\"#FFFFFF\" height=\"88.3516\" id=\"E9\" style=\"stroke: #383838; stroke-width: 1.5;\" width=\"96\" x=\"39\" y=\"368\"/><text fill=\"#000000\" font-family=\"sans-serif\" font-size=\"12\" font-style=\"italic\" lengthAdjust=\"spacingAndGlyphs\" textLength=\"94\" x=\"40\" y=\"384.1387\">«interface def»</text><text fill=\"#000000\" font-family=\"sans-serif\" font-size=\"12\" lengthAdjust=\"spacingAndGlyphs\" textLength=\"3\" x=\"85.5\" y=\"398.1074\">I</text><line style=\"stroke: #383838; stroke-width: 1.5;\" x1=\"40\" x2=\"134\" y1=\"405.9375\" y2=\"405.9375\"/><text fill=\"#000000\" font-family=\"sans-serif\" font-size=\"11\" lengthAdjust=\"spacingAndGlyphs\" textLength=\"29\" x=\"45\" y=\"436.9526\">p1: P</text><text fill=\"#000000\" font-family=\"sans-serif\" font-size=\"11\" lengthAdjust=\"spacingAndGlyphs\" textLength=\"38\" x=\"45\" y=\"449.7573\">p2: ~P</text><line style=\"stroke: #383838; stroke-width: 1.0;\" x1=\"40\" x2=\"72\" y1=\"420.3398\" y2=\"420.3398\"/><text fill=\"#000000\" font-family=\"sans-serif\" font-size=\"11\" lengthAdjust=\"spacingAndGlyphs\" textLength=\"30\" x=\"72\" y=\"423.6479\">ports</text><line style=\"stroke: #383838; stroke-width: 1.0;\" x1=\"102\" x2=\"134\" y1=\"420.3398\" y2=\"420.3398\"/></a><!--MD5=[49a0ec8f00dab7302a31f22d0f0fe584]\n",
       "class E12--><a href=\"psysml:4bc8843d-d10d-4f46-93fe-21c75269e8aa\" target=\"_top\" title=\"psysml:4bc8843d-d10d-4f46-93fe-21c75269e8aa\" xlink:actuate=\"onRequest\" xlink:href=\"psysml:4bc8843d-d10d-4f46-93fe-21c75269e8aa\" xlink:show=\"new\" xlink:title=\"psysml:4bc8843d-d10d-4f46-93fe-21c75269e8aa\" xlink:type=\"simple\"><rect fill=\"#FFFFFF\" height=\"45.9375\" id=\"E12\" style=\"stroke: #383838; stroke-width: 1.5;\" width=\"66\" x=\"54\" y=\"491\"/><text fill=\"#000000\" font-family=\"sans-serif\" font-size=\"12\" font-style=\"italic\" lengthAdjust=\"spacingAndGlyphs\" textLength=\"64\" x=\"55\" y=\"507.1387\">«part def»</text><text fill=\"#000000\" font-family=\"sans-serif\" font-size=\"12\" lengthAdjust=\"spacingAndGlyphs\" textLength=\"16\" x=\"79\" y=\"521.1074\">B1</text><line style=\"stroke: #383838; stroke-width: 1.5;\" x1=\"55\" x2=\"119\" y1=\"528.9375\" y2=\"528.9375\"/></a><!--MD5=[ee3c913d1a06f366521f9ef512b67efe]\n",
       "class E13--><a href=\"psysml:37b5f10a-21e5-48b2-b2b2-bc5c291ce903\" target=\"_top\" title=\"psysml:37b5f10a-21e5-48b2-b2b2-bc5c291ce903\" xlink:actuate=\"onRequest\" xlink:href=\"psysml:37b5f10a-21e5-48b2-b2b2-bc5c291ce903\" xlink:show=\"new\" xlink:title=\"psysml:37b5f10a-21e5-48b2-b2b2-bc5c291ce903\" xlink:type=\"simple\"><rect fill=\"#FFFFFF\" height=\"88.3516\" id=\"E13\" rx=\"10\" ry=\"10\" style=\"stroke: #383838; stroke-width: 1.5;\" width=\"50\" x=\"202\" y=\"449\"/><text fill=\"#000000\" font-family=\"sans-serif\" font-size=\"12\" font-style=\"italic\" lengthAdjust=\"spacingAndGlyphs\" textLength=\"40\" x=\"207\" y=\"465.1387\">«part»</text><text fill=\"#000000\" font-family=\"sans-serif\" font-size=\"12\" lengthAdjust=\"spacingAndGlyphs\" textLength=\"8\" x=\"223\" y=\"479.1074\">p</text><line style=\"stroke: #383838; stroke-width: 1.5;\" x1=\"203\" x2=\"251\" y1=\"486.9375\" y2=\"486.9375\"/><text fill=\"#000000\" font-family=\"sans-serif\" font-size=\"11\" lengthAdjust=\"spacingAndGlyphs\" textLength=\"29\" x=\"208\" y=\"517.9526\">p1: P</text><text fill=\"#000000\" font-family=\"sans-serif\" font-size=\"11\" lengthAdjust=\"spacingAndGlyphs\" textLength=\"38\" x=\"208\" y=\"530.7573\">p2: ~P</text><line style=\"stroke: #383838; stroke-width: 1.0;\" x1=\"203\" x2=\"212\" y1=\"501.3398\" y2=\"501.3398\"/><text fill=\"#000000\" font-family=\"sans-serif\" font-size=\"11\" lengthAdjust=\"spacingAndGlyphs\" textLength=\"30\" x=\"212\" y=\"504.6479\">ports</text><line style=\"stroke: #383838; stroke-width: 1.0;\" x1=\"242\" x2=\"251\" y1=\"501.3398\" y2=\"501.3398\"/></a><!--MD5=[062ed86c389d1a88f61c6380d0491e17]\n",
       "reverse link E12 to E13--><a href=\"psysml:37b5f10a-21e5-48b2-b2b2-bc5c291ce903\" target=\"_top\" title=\"psysml:37b5f10a-21e5-48b2-b2b2-bc5c291ce903\" xlink:actuate=\"onRequest\" xlink:href=\"psysml:37b5f10a-21e5-48b2-b2b2-bc5c291ce903\" xlink:show=\"new\" xlink:title=\"psysml:37b5f10a-21e5-48b2-b2b2-bc5c291ce903\" xlink:type=\"simple\"><path d=\"M132.96,507.16 C155.92,503.66 182.94,499.55 201.92,496.66 \" fill=\"none\" id=\"E12&lt;-E13\" style=\"stroke: #383838; stroke-width: 1.0;\"/><polygon fill=\"#383838\" points=\"120.01,509.13,126.5441,512.1804,131.873,507.3222,125.3389,504.2717,120.01,509.13\" style=\"stroke: #383838; stroke-width: 1.0;\"/></a><!--MD5=[5bc3d725f9ba0f390a72174bcdaf51cc]\n",
       "@startuml\r\n",
       "left to right direction\r\n",
       "skinparam monochrome true\r\n",
       "skinparam classbackgroundcolor white\r\n",
       "skinparam shadowing false\r\n",
       "skinparam wrapWidth 300\r\n",
       "hide circle\r\n",
       "\r\n",
       "package \"ConjugationTest\" as E1  [[psysml:4ba0ad9e-a677-47db-af1d-b015e8f93aef ]]  {\r\n",
       "comp def \"P\" as E2  <<(T,blue)port def>> [[psysml:0d231d17-09c4-40d0-a4bc-6d43713d1eea ]] {\r\n",
       "}\r\n",
       "comp def \"B\" as E3  <<(T,blue)part def>> [[psysml:1fca8384-68db-4c35-8908-d644a05ab33b ]] {\r\n",
       "- - ports - -\r\n",
       "p1: P\r\n",
       "p2: ~P\r\n",
       "}\r\n",
       "comp def \"A\" as E6  <<(T,blue)connection def>> [[psysml:d9048fa2-8c0d-4237-aabb-192a68938198 ]] {\r\n",
       "- - ports - -\r\n",
       "p1: P\r\n",
       "p2: ~P\r\n",
       "}\r\n",
       "comp def \"I\" as E9  <<(T,blue)interface def>> [[psysml:b68d4e65-0a25-4b32-9474-7d6b33189e06 ]] {\r\n",
       "- - ports - -\r\n",
       "p1: P\r\n",
       "p2: ~P\r\n",
       "}\r\n",
       "comp def \"B1\" as E12  <<(T,blue)part def>> [[psysml:4bc8843d-d10d-4f46-93fe-21c75269e8aa ]] {\r\n",
       "}\r\n",
       "comp usage \"p\" as E13  <<(T,blue)part>> [[psysml:37b5f10a-21e5-48b2-b2b2-bc5c291ce903 ]] {\r\n",
       "- - ports - -\r\n",
       "p1: P\r\n",
       "p2: ~P\r\n",
       "}\r\n",
       "E12 *- - E13 [[psysml:37b5f10a-21e5-48b2-b2b2-bc5c291ce903 ]] \r\n",
       "}\r\n",
       "@enduml\r\n",
       "\n",
       "PlantUML version 1.2020.13(Sat Jun 13 12:26:38 UTC 2020)\n",
       "(EPL source distribution)\n",
       "Java Runtime: OpenJDK Runtime Environment\n",
       "JVM: OpenJDK 64-Bit Server VM\n",
       "Default Encoding: UTF-8\n",
       "Language: en\n",
       "Country: null\n",
       "--></g></svg>"
      ]
     },
     "execution_count": 16,
     "metadata": {},
     "output_type": "execute_result"
    }
   ],
   "source": [
    "%viz --style=\"LR\" --view=\"Default\" \"ConjugationTest\""
   ]
  },
  {
   "cell_type": "code",
   "execution_count": 17,
   "id": "dense-england",
   "metadata": {
    "execution": {
     "iopub.execute_input": "2021-03-24T16:29:18.087884Z",
     "iopub.status.busy": "2021-03-24T16:29:18.086844Z",
     "iopub.status.idle": "2021-03-24T16:29:18.182277Z",
     "shell.execute_reply": "2021-03-24T16:29:18.180733Z"
    }
   },
   "outputs": [
    {
     "data": {
      "image/svg+xml": [
       "<?xml version=\"1.0\" encoding=\"UTF-8\" standalone=\"no\"?><svg xmlns=\"http://www.w3.org/2000/svg\" xmlns:xlink=\"http://www.w3.org/1999/xlink\" contentScriptType=\"application/ecmascript\" contentStyleType=\"text/css\" height=\"565px\" preserveAspectRatio=\"none\" style=\"width:290px;height:565px;\" version=\"1.1\" viewBox=\"0 0 290 565\" width=\"290px\" zoomAndPan=\"magnify\"><defs/><g><!--MD5=[fbc87193dbaf4d95561dea2c320d4a47]\n",
       "cluster E1--><a href=\"psysml:4ba0ad9e-a677-47db-af1d-b015e8f93aef\" target=\"_top\" title=\"psysml:4ba0ad9e-a677-47db-af1d-b015e8f93aef\" xlink:actuate=\"onRequest\" xlink:href=\"psysml:4ba0ad9e-a677-47db-af1d-b015e8f93aef\" xlink:show=\"new\" xlink:title=\"psysml:4ba0ad9e-a677-47db-af1d-b015e8f93aef\" xlink:type=\"simple\"><polygon fill=\"#FFFFFF\" points=\"16,6,151,6,158,28.2969,268,28.2969,268,553,16,553,16,6\" style=\"stroke: #000000; stroke-width: 1.5;\"/><line style=\"stroke: #000000; stroke-width: 1.5;\" x1=\"16\" x2=\"158\" y1=\"28.2969\" y2=\"28.2969\"/><text fill=\"#000000\" font-family=\"sans-serif\" font-size=\"14\" font-weight=\"bold\" lengthAdjust=\"spacingAndGlyphs\" textLength=\"129\" x=\"20\" y=\"20.9951\">ConjugationTest</text></a><!--MD5=[b4997ac47864f28c2f74865a473b2911]\n",
       "class E2--><a href=\"psysml:0d231d17-09c4-40d0-a4bc-6d43713d1eea\" target=\"_top\" title=\"psysml:0d231d17-09c4-40d0-a4bc-6d43713d1eea\" xlink:actuate=\"onRequest\" xlink:href=\"psysml:0d231d17-09c4-40d0-a4bc-6d43713d1eea\" xlink:show=\"new\" xlink:title=\"psysml:0d231d17-09c4-40d0-a4bc-6d43713d1eea\" xlink:type=\"simple\"><rect fill=\"#FFFFFF\" height=\"45.9375\" id=\"E2\" style=\"stroke: #383838; stroke-width: 1.5;\" width=\"66\" x=\"54\" y=\"41\"/><text fill=\"#000000\" font-family=\"sans-serif\" font-size=\"12\" font-style=\"italic\" lengthAdjust=\"spacingAndGlyphs\" textLength=\"64\" x=\"55\" y=\"57.1387\">«port def»</text><text fill=\"#000000\" font-family=\"sans-serif\" font-size=\"12\" lengthAdjust=\"spacingAndGlyphs\" textLength=\"8\" x=\"83\" y=\"71.1074\">P</text><line style=\"stroke: #383838; stroke-width: 1.5;\" x1=\"55\" x2=\"119\" y1=\"78.9375\" y2=\"78.9375\"/></a><!--MD5=[09b614a08d8cba4a07c9adeb5e0fee81]\n",
       "class E3--><a href=\"psysml:1fca8384-68db-4c35-8908-d644a05ab33b\" target=\"_top\" title=\"psysml:1fca8384-68db-4c35-8908-d644a05ab33b\" xlink:actuate=\"onRequest\" xlink:href=\"psysml:1fca8384-68db-4c35-8908-d644a05ab33b\" xlink:show=\"new\" xlink:title=\"psysml:1fca8384-68db-4c35-8908-d644a05ab33b\" xlink:type=\"simple\"><rect fill=\"#FFFFFF\" height=\"88.3516\" id=\"E3\" style=\"stroke: #383838; stroke-width: 1.5;\" width=\"66\" x=\"54\" y=\"122\"/><text fill=\"#000000\" font-family=\"sans-serif\" font-size=\"12\" font-style=\"italic\" lengthAdjust=\"spacingAndGlyphs\" textLength=\"64\" x=\"55\" y=\"138.1387\">«part def»</text><text fill=\"#000000\" font-family=\"sans-serif\" font-size=\"12\" lengthAdjust=\"spacingAndGlyphs\" textLength=\"8\" x=\"83\" y=\"152.1074\">B</text><line style=\"stroke: #383838; stroke-width: 1.5;\" x1=\"55\" x2=\"119\" y1=\"159.9375\" y2=\"159.9375\"/><text fill=\"#000000\" font-family=\"sans-serif\" font-size=\"11\" lengthAdjust=\"spacingAndGlyphs\" textLength=\"29\" x=\"60\" y=\"190.9526\">p1: P</text><text fill=\"#000000\" font-family=\"sans-serif\" font-size=\"11\" lengthAdjust=\"spacingAndGlyphs\" textLength=\"38\" x=\"60\" y=\"203.7573\">p2: ~P</text><line style=\"stroke: #383838; stroke-width: 1.0;\" x1=\"55\" x2=\"72\" y1=\"174.3398\" y2=\"174.3398\"/><text fill=\"#000000\" font-family=\"sans-serif\" font-size=\"11\" lengthAdjust=\"spacingAndGlyphs\" textLength=\"30\" x=\"72\" y=\"177.6479\">ports</text><line style=\"stroke: #383838; stroke-width: 1.0;\" x1=\"102\" x2=\"119\" y1=\"174.3398\" y2=\"174.3398\"/></a><!--MD5=[60a26617385b1d2d0262a64233df1f8d]\n",
       "class E6--><a href=\"psysml:d9048fa2-8c0d-4237-aabb-192a68938198\" target=\"_top\" title=\"psysml:d9048fa2-8c0d-4237-aabb-192a68938198\" xlink:actuate=\"onRequest\" xlink:href=\"psysml:d9048fa2-8c0d-4237-aabb-192a68938198\" xlink:show=\"new\" xlink:title=\"psysml:d9048fa2-8c0d-4237-aabb-192a68938198\" xlink:type=\"simple\"><rect fill=\"#FFFFFF\" height=\"88.3516\" id=\"E6\" style=\"stroke: #383838; stroke-width: 1.5;\" width=\"110\" x=\"32\" y=\"245\"/><text fill=\"#000000\" font-family=\"sans-serif\" font-size=\"12\" font-style=\"italic\" lengthAdjust=\"spacingAndGlyphs\" textLength=\"108\" x=\"33\" y=\"261.1387\">«connection def»</text><text fill=\"#000000\" font-family=\"sans-serif\" font-size=\"12\" lengthAdjust=\"spacingAndGlyphs\" textLength=\"8\" x=\"83\" y=\"275.1074\">A</text><line style=\"stroke: #383838; stroke-width: 1.5;\" x1=\"33\" x2=\"141\" y1=\"282.9375\" y2=\"282.9375\"/><text fill=\"#000000\" font-family=\"sans-serif\" font-size=\"11\" lengthAdjust=\"spacingAndGlyphs\" textLength=\"29\" x=\"38\" y=\"313.9526\">p1: P</text><text fill=\"#000000\" font-family=\"sans-serif\" font-size=\"11\" lengthAdjust=\"spacingAndGlyphs\" textLength=\"38\" x=\"38\" y=\"326.7573\">p2: ~P</text><line style=\"stroke: #383838; stroke-width: 1.0;\" x1=\"33\" x2=\"72\" y1=\"297.3398\" y2=\"297.3398\"/><text fill=\"#000000\" font-family=\"sans-serif\" font-size=\"11\" lengthAdjust=\"spacingAndGlyphs\" textLength=\"30\" x=\"72\" y=\"300.6479\">ports</text><line style=\"stroke: #383838; stroke-width: 1.0;\" x1=\"102\" x2=\"141\" y1=\"297.3398\" y2=\"297.3398\"/></a><!--MD5=[fd4143e9d270a159db93a4ea2a975926]\n",
       "class E9--><a href=\"psysml:b68d4e65-0a25-4b32-9474-7d6b33189e06\" target=\"_top\" title=\"psysml:b68d4e65-0a25-4b32-9474-7d6b33189e06\" xlink:actuate=\"onRequest\" xlink:href=\"psysml:b68d4e65-0a25-4b32-9474-7d6b33189e06\" xlink:show=\"new\" xlink:title=\"psysml:b68d4e65-0a25-4b32-9474-7d6b33189e06\" xlink:type=\"simple\"><rect fill=\"#FFFFFF\" height=\"88.3516\" id=\"E9\" style=\"stroke: #383838; stroke-width: 1.5;\" width=\"96\" x=\"39\" y=\"368\"/><text fill=\"#000000\" font-family=\"sans-serif\" font-size=\"12\" font-style=\"italic\" lengthAdjust=\"spacingAndGlyphs\" textLength=\"94\" x=\"40\" y=\"384.1387\">«interface def»</text><text fill=\"#000000\" font-family=\"sans-serif\" font-size=\"12\" lengthAdjust=\"spacingAndGlyphs\" textLength=\"3\" x=\"85.5\" y=\"398.1074\">I</text><line style=\"stroke: #383838; stroke-width: 1.5;\" x1=\"40\" x2=\"134\" y1=\"405.9375\" y2=\"405.9375\"/><text fill=\"#000000\" font-family=\"sans-serif\" font-size=\"11\" lengthAdjust=\"spacingAndGlyphs\" textLength=\"29\" x=\"45\" y=\"436.9526\">p1: P</text><text fill=\"#000000\" font-family=\"sans-serif\" font-size=\"11\" lengthAdjust=\"spacingAndGlyphs\" textLength=\"38\" x=\"45\" y=\"449.7573\">p2: ~P</text><line style=\"stroke: #383838; stroke-width: 1.0;\" x1=\"40\" x2=\"72\" y1=\"420.3398\" y2=\"420.3398\"/><text fill=\"#000000\" font-family=\"sans-serif\" font-size=\"11\" lengthAdjust=\"spacingAndGlyphs\" textLength=\"30\" x=\"72\" y=\"423.6479\">ports</text><line style=\"stroke: #383838; stroke-width: 1.0;\" x1=\"102\" x2=\"134\" y1=\"420.3398\" y2=\"420.3398\"/></a><!--MD5=[49a0ec8f00dab7302a31f22d0f0fe584]\n",
       "class E12--><a href=\"psysml:4bc8843d-d10d-4f46-93fe-21c75269e8aa\" target=\"_top\" title=\"psysml:4bc8843d-d10d-4f46-93fe-21c75269e8aa\" xlink:actuate=\"onRequest\" xlink:href=\"psysml:4bc8843d-d10d-4f46-93fe-21c75269e8aa\" xlink:show=\"new\" xlink:title=\"psysml:4bc8843d-d10d-4f46-93fe-21c75269e8aa\" xlink:type=\"simple\"><rect fill=\"#FFFFFF\" height=\"45.9375\" id=\"E12\" style=\"stroke: #383838; stroke-width: 1.5;\" width=\"66\" x=\"54\" y=\"491\"/><text fill=\"#000000\" font-family=\"sans-serif\" font-size=\"12\" font-style=\"italic\" lengthAdjust=\"spacingAndGlyphs\" textLength=\"64\" x=\"55\" y=\"507.1387\">«part def»</text><text fill=\"#000000\" font-family=\"sans-serif\" font-size=\"12\" lengthAdjust=\"spacingAndGlyphs\" textLength=\"16\" x=\"79\" y=\"521.1074\">B1</text><line style=\"stroke: #383838; stroke-width: 1.5;\" x1=\"55\" x2=\"119\" y1=\"528.9375\" y2=\"528.9375\"/></a><!--MD5=[ee3c913d1a06f366521f9ef512b67efe]\n",
       "class E13--><a href=\"psysml:37b5f10a-21e5-48b2-b2b2-bc5c291ce903\" target=\"_top\" title=\"psysml:37b5f10a-21e5-48b2-b2b2-bc5c291ce903\" xlink:actuate=\"onRequest\" xlink:href=\"psysml:37b5f10a-21e5-48b2-b2b2-bc5c291ce903\" xlink:show=\"new\" xlink:title=\"psysml:37b5f10a-21e5-48b2-b2b2-bc5c291ce903\" xlink:type=\"simple\"><rect fill=\"#FFFFFF\" height=\"88.3516\" id=\"E13\" rx=\"10\" ry=\"10\" style=\"stroke: #383838; stroke-width: 1.5;\" width=\"50\" x=\"202\" y=\"449\"/><text fill=\"#000000\" font-family=\"sans-serif\" font-size=\"12\" font-style=\"italic\" lengthAdjust=\"spacingAndGlyphs\" textLength=\"40\" x=\"207\" y=\"465.1387\">«part»</text><text fill=\"#000000\" font-family=\"sans-serif\" font-size=\"12\" lengthAdjust=\"spacingAndGlyphs\" textLength=\"8\" x=\"223\" y=\"479.1074\">p</text><line style=\"stroke: #383838; stroke-width: 1.5;\" x1=\"203\" x2=\"251\" y1=\"486.9375\" y2=\"486.9375\"/><text fill=\"#000000\" font-family=\"sans-serif\" font-size=\"11\" lengthAdjust=\"spacingAndGlyphs\" textLength=\"29\" x=\"208\" y=\"517.9526\">p1: P</text><text fill=\"#000000\" font-family=\"sans-serif\" font-size=\"11\" lengthAdjust=\"spacingAndGlyphs\" textLength=\"38\" x=\"208\" y=\"530.7573\">p2: ~P</text><line style=\"stroke: #383838; stroke-width: 1.0;\" x1=\"203\" x2=\"212\" y1=\"501.3398\" y2=\"501.3398\"/><text fill=\"#000000\" font-family=\"sans-serif\" font-size=\"11\" lengthAdjust=\"spacingAndGlyphs\" textLength=\"30\" x=\"212\" y=\"504.6479\">ports</text><line style=\"stroke: #383838; stroke-width: 1.0;\" x1=\"242\" x2=\"251\" y1=\"501.3398\" y2=\"501.3398\"/></a><!--MD5=[062ed86c389d1a88f61c6380d0491e17]\n",
       "reverse link E12 to E13--><a href=\"psysml:37b5f10a-21e5-48b2-b2b2-bc5c291ce903\" target=\"_top\" title=\"psysml:37b5f10a-21e5-48b2-b2b2-bc5c291ce903\" xlink:actuate=\"onRequest\" xlink:href=\"psysml:37b5f10a-21e5-48b2-b2b2-bc5c291ce903\" xlink:show=\"new\" xlink:title=\"psysml:37b5f10a-21e5-48b2-b2b2-bc5c291ce903\" xlink:type=\"simple\"><path d=\"M132.96,507.16 C155.92,503.66 182.94,499.55 201.92,496.66 \" fill=\"none\" id=\"E12&lt;-E13\" style=\"stroke: #383838; stroke-width: 1.0;\"/><polygon fill=\"#383838\" points=\"120.01,509.13,126.5441,512.1804,131.873,507.3222,125.3389,504.2717,120.01,509.13\" style=\"stroke: #383838; stroke-width: 1.0;\"/></a><!--MD5=[5bc3d725f9ba0f390a72174bcdaf51cc]\n",
       "@startuml\r\n",
       "left to right direction\r\n",
       "skinparam monochrome true\r\n",
       "skinparam classbackgroundcolor white\r\n",
       "skinparam shadowing false\r\n",
       "skinparam wrapWidth 300\r\n",
       "hide circle\r\n",
       "\r\n",
       "package \"ConjugationTest\" as E1  [[psysml:4ba0ad9e-a677-47db-af1d-b015e8f93aef ]]  {\r\n",
       "comp def \"P\" as E2  <<(T,blue)port def>> [[psysml:0d231d17-09c4-40d0-a4bc-6d43713d1eea ]] {\r\n",
       "}\r\n",
       "comp def \"B\" as E3  <<(T,blue)part def>> [[psysml:1fca8384-68db-4c35-8908-d644a05ab33b ]] {\r\n",
       "- - ports - -\r\n",
       "p1: P\r\n",
       "p2: ~P\r\n",
       "}\r\n",
       "comp def \"A\" as E6  <<(T,blue)connection def>> [[psysml:d9048fa2-8c0d-4237-aabb-192a68938198 ]] {\r\n",
       "- - ports - -\r\n",
       "p1: P\r\n",
       "p2: ~P\r\n",
       "}\r\n",
       "comp def \"I\" as E9  <<(T,blue)interface def>> [[psysml:b68d4e65-0a25-4b32-9474-7d6b33189e06 ]] {\r\n",
       "- - ports - -\r\n",
       "p1: P\r\n",
       "p2: ~P\r\n",
       "}\r\n",
       "comp def \"B1\" as E12  <<(T,blue)part def>> [[psysml:4bc8843d-d10d-4f46-93fe-21c75269e8aa ]] {\r\n",
       "}\r\n",
       "comp usage \"p\" as E13  <<(T,blue)part>> [[psysml:37b5f10a-21e5-48b2-b2b2-bc5c291ce903 ]] {\r\n",
       "- - ports - -\r\n",
       "p1: P\r\n",
       "p2: ~P\r\n",
       "}\r\n",
       "E12 *- - E13 [[psysml:37b5f10a-21e5-48b2-b2b2-bc5c291ce903 ]] \r\n",
       "}\r\n",
       "@enduml\r\n",
       "\n",
       "PlantUML version 1.2020.13(Sat Jun 13 12:26:38 UTC 2020)\n",
       "(EPL source distribution)\n",
       "Java Runtime: OpenJDK Runtime Environment\n",
       "JVM: OpenJDK 64-Bit Server VM\n",
       "Default Encoding: UTF-8\n",
       "Language: en\n",
       "Country: null\n",
       "--></g></svg>"
      ]
     },
     "execution_count": 17,
     "metadata": {},
     "output_type": "execute_result"
    }
   ],
   "source": [
    "%viz --style=\"LR\" --view=\"Tree\" \"ConjugationTest\""
   ]
  },
  {
   "cell_type": "code",
   "execution_count": 18,
   "id": "diverse-wrapping",
   "metadata": {
    "execution": {
     "iopub.execute_input": "2021-03-24T16:29:18.233180Z",
     "iopub.status.busy": "2021-03-24T16:29:18.232504Z",
     "iopub.status.idle": "2021-03-24T16:29:18.238341Z",
     "shell.execute_reply": "2021-03-24T16:29:18.238022Z"
    }
   },
   "outputs": [
    {
     "data": {
      "image/svg+xml": [
       "<?xml version=\"1.0\" encoding=\"UTF-8\" standalone=\"no\"?><svg xmlns=\"http://www.w3.org/2000/svg\" xmlns:xlink=\"http://www.w3.org/1999/xlink\" contentScriptType=\"application/ecmascript\" contentStyleType=\"text/css\" height=\"12px\" preserveAspectRatio=\"none\" style=\"width:12px;height:12px;\" version=\"1.1\" viewBox=\"0 0 12 12\" width=\"12px\" zoomAndPan=\"magnify\"><defs/><g><!--MD5=[19d285c9d72a204eba4e2cd117d745e8]\n",
       "@startuml\r\n",
       "left to right direction\r\n",
       "skinparam monochrome true\r\n",
       "skinparam classbackgroundcolor white\r\n",
       "skinparam shadowing false\r\n",
       "skinparam wrapWidth 300\r\n",
       "hide circle\r\n",
       "\r\n",
       "@enduml\r\n",
       "\n",
       "PlantUML version 1.2020.13(Sat Jun 13 12:26:38 UTC 2020)\n",
       "(EPL source distribution)\n",
       "Java Runtime: OpenJDK Runtime Environment\n",
       "JVM: OpenJDK 64-Bit Server VM\n",
       "Default Encoding: UTF-8\n",
       "Language: en\n",
       "Country: null\n",
       "--></g></svg>"
      ]
     },
     "execution_count": 18,
     "metadata": {},
     "output_type": "execute_result"
    }
   ],
   "source": [
    "%viz --style=\"LR\" --view=\"State\" \"ConjugationTest\""
   ]
  },
  {
   "cell_type": "code",
   "execution_count": 19,
   "id": "political-electronics",
   "metadata": {
    "execution": {
     "iopub.execute_input": "2021-03-24T16:29:18.290125Z",
     "iopub.status.busy": "2021-03-24T16:29:18.289403Z",
     "iopub.status.idle": "2021-03-24T16:29:18.338398Z",
     "shell.execute_reply": "2021-03-24T16:29:18.337117Z"
    }
   },
   "outputs": [
    {
     "data": {
      "image/svg+xml": [
       "<?xml version=\"1.0\" encoding=\"UTF-8\" standalone=\"no\"?><svg xmlns=\"http://www.w3.org/2000/svg\" xmlns:xlink=\"http://www.w3.org/1999/xlink\" contentScriptType=\"application/ecmascript\" contentStyleType=\"text/css\" height=\"550px\" preserveAspectRatio=\"none\" style=\"width:313px;height:550px;\" version=\"1.1\" viewBox=\"0 0 313 550\" width=\"313px\" zoomAndPan=\"magnify\"><defs/><g><!--MD5=[fbc87193dbaf4d95561dea2c320d4a47]\n",
       "cluster E1--><a href=\"psysml:4ba0ad9e-a677-47db-af1d-b015e8f93aef\" target=\"_top\" title=\"psysml:4ba0ad9e-a677-47db-af1d-b015e8f93aef\" xlink:actuate=\"onRequest\" xlink:href=\"psysml:4ba0ad9e-a677-47db-af1d-b015e8f93aef\" xlink:show=\"new\" xlink:title=\"psysml:4ba0ad9e-a677-47db-af1d-b015e8f93aef\" xlink:type=\"simple\"><polygon fill=\"#FFFFFF\" points=\"16,6,151,6,158,28.2969,291.5,28.2969,291.5,538,16,538,16,6\" style=\"stroke: #000000; stroke-width: 1.5;\"/><line style=\"stroke: #000000; stroke-width: 1.5;\" x1=\"16\" x2=\"158\" y1=\"28.2969\" y2=\"28.2969\"/><text fill=\"#000000\" font-family=\"sans-serif\" font-size=\"14\" font-weight=\"bold\" lengthAdjust=\"spacingAndGlyphs\" textLength=\"129\" x=\"20\" y=\"20.9951\">ConjugationTest</text></a><!--MD5=[d5e69f78d87373223dbae638b30a9c99]\n",
       "cluster E3--><a href=\"psysml:1fca8384-68db-4c35-8908-d644a05ab33b\" target=\"_top\" title=\"psysml:1fca8384-68db-4c35-8908-d644a05ab33b\" xlink:actuate=\"onRequest\" xlink:href=\"psysml:1fca8384-68db-4c35-8908-d644a05ab33b\" xlink:show=\"new\" xlink:title=\"psysml:1fca8384-68db-4c35-8908-d644a05ab33b\" xlink:type=\"simple\"><rect fill=\"#FFFFFF\" height=\"47\" id=\"E3\" style=\"stroke: #383838; stroke-width: 1.5;\" width=\"198\" x=\"52\" y=\"55\"/><rect fill=\"#F8F8F8\" height=\"37.9375\" style=\"stroke: #383838; stroke-width: 1.5;\" width=\"198\" x=\"52\" y=\"55\"/><text fill=\"#000000\" font-family=\"sans-serif\" font-size=\"12\" font-style=\"italic\" lengthAdjust=\"spacingAndGlyphs\" textLength=\"64\" x=\"119\" y=\"71.1387\">«part def»</text><text fill=\"#000000\" font-family=\"sans-serif\" font-size=\"12\" lengthAdjust=\"spacingAndGlyphs\" textLength=\"8\" x=\"147\" y=\"85.1074\">B</text></a><!--MD5=[14e3b0961a2654348d326746436168a1]\n",
       "cluster E6--><a href=\"psysml:d9048fa2-8c0d-4237-aabb-192a68938198\" target=\"_top\" title=\"psysml:d9048fa2-8c0d-4237-aabb-192a68938198\" xlink:actuate=\"onRequest\" xlink:href=\"psysml:d9048fa2-8c0d-4237-aabb-192a68938198\" xlink:show=\"new\" xlink:title=\"psysml:d9048fa2-8c0d-4237-aabb-192a68938198\" xlink:type=\"simple\"><rect fill=\"#FFFFFF\" height=\"47\" id=\"E6\" style=\"stroke: #383838; stroke-width: 1.5;\" width=\"223.5\" x=\"52\" y=\"149\"/><rect fill=\"#F8F8F8\" height=\"37.9375\" style=\"stroke: #383838; stroke-width: 1.5;\" width=\"223.5\" x=\"52\" y=\"149\"/><text fill=\"#000000\" font-family=\"sans-serif\" font-size=\"12\" font-style=\"italic\" lengthAdjust=\"spacingAndGlyphs\" textLength=\"108\" x=\"109.75\" y=\"165.1387\">«connection def»</text><text fill=\"#000000\" font-family=\"sans-serif\" font-size=\"12\" lengthAdjust=\"spacingAndGlyphs\" textLength=\"8\" x=\"159.75\" y=\"179.1074\">A</text></a><!--MD5=[7f149f147074ac12df2cb0a7728a5fb0]\n",
       "cluster E9--><a href=\"psysml:b68d4e65-0a25-4b32-9474-7d6b33189e06\" target=\"_top\" title=\"psysml:b68d4e65-0a25-4b32-9474-7d6b33189e06\" xlink:actuate=\"onRequest\" xlink:href=\"psysml:b68d4e65-0a25-4b32-9474-7d6b33189e06\" xlink:show=\"new\" xlink:title=\"psysml:b68d4e65-0a25-4b32-9474-7d6b33189e06\" xlink:type=\"simple\"><rect fill=\"#FFFFFF\" height=\"47\" id=\"E9\" style=\"stroke: #383838; stroke-width: 1.5;\" width=\"214.5\" x=\"52\" y=\"243\"/><rect fill=\"#F8F8F8\" height=\"37.9375\" style=\"stroke: #383838; stroke-width: 1.5;\" width=\"214.5\" x=\"52\" y=\"243\"/><text fill=\"#000000\" font-family=\"sans-serif\" font-size=\"12\" font-style=\"italic\" lengthAdjust=\"spacingAndGlyphs\" textLength=\"94\" x=\"112.25\" y=\"259.1387\">«interface def»</text><text fill=\"#000000\" font-family=\"sans-serif\" font-size=\"12\" lengthAdjust=\"spacingAndGlyphs\" textLength=\"3\" x=\"157.75\" y=\"273.1074\">I</text></a><!--MD5=[47bea60c1a0ac6c1143df232041969c0]\n",
       "cluster E12--><a href=\"psysml:4bc8843d-d10d-4f46-93fe-21c75269e8aa\" target=\"_top\" title=\"psysml:4bc8843d-d10d-4f46-93fe-21c75269e8aa\" xlink:actuate=\"onRequest\" xlink:href=\"psysml:4bc8843d-d10d-4f46-93fe-21c75269e8aa\" xlink:show=\"new\" xlink:title=\"psysml:4bc8843d-d10d-4f46-93fe-21c75269e8aa\" xlink:type=\"simple\"><rect fill=\"#FFFFFF\" height=\"142\" id=\"E12\" style=\"stroke: #383838; stroke-width: 1.5;\" width=\"195.5\" x=\"40\" y=\"320\"/><rect fill=\"#F8F8F8\" height=\"37.9375\" style=\"stroke: #383838; stroke-width: 1.5;\" width=\"195.5\" x=\"40\" y=\"320\"/><text fill=\"#000000\" font-family=\"sans-serif\" font-size=\"12\" font-style=\"italic\" lengthAdjust=\"spacingAndGlyphs\" textLength=\"64\" x=\"105.75\" y=\"336.1387\">«part def»</text><text fill=\"#000000\" font-family=\"sans-serif\" font-size=\"12\" lengthAdjust=\"spacingAndGlyphs\" textLength=\"16\" x=\"129.75\" y=\"350.1074\">B1</text></a><!--MD5=[03104f77b71e2d8d3500c651e6e31181]\n",
       "cluster E13--><a href=\"psysml:37b5f10a-21e5-48b2-b2b2-bc5c291ce903\" target=\"_top\" title=\"psysml:37b5f10a-21e5-48b2-b2b2-bc5c291ce903\" xlink:actuate=\"onRequest\" xlink:href=\"psysml:37b5f10a-21e5-48b2-b2b2-bc5c291ce903\" xlink:show=\"new\" xlink:title=\"psysml:37b5f10a-21e5-48b2-b2b2-bc5c291ce903\" xlink:type=\"simple\"><rect fill=\"#FFFFFF\" height=\"47\" id=\"E13\" rx=\"10\" ry=\"10\" style=\"stroke: #383838; stroke-width: 1.5;\" width=\"167.5\" x=\"52\" y=\"385\"/><rect fill=\"#F8F8F8\" height=\"23.9688\" rx=\"10\" ry=\"10\" style=\"stroke: #F8F8F8; stroke-width: 1.5;\" width=\"167.5\" x=\"52\" y=\"385\"/><rect fill=\"#F8F8F8\" height=\"10\" style=\"stroke: #F8F8F8; stroke-width: 1.5;\" width=\"167.5\" x=\"52\" y=\"398.9688\"/><rect fill=\"none\" height=\"47\" id=\"E13\" rx=\"10\" ry=\"10\" style=\"stroke: #383838; stroke-width: 1.5;\" width=\"167.5\" x=\"52\" y=\"385\"/><text fill=\"#000000\" font-family=\"sans-serif\" font-size=\"12\" lengthAdjust=\"spacingAndGlyphs\" textLength=\"8\" x=\"131.75\" y=\"401.1387\">p</text><line style=\"stroke: #383838; stroke-width: 1.0;\" x1=\"52\" x2=\"219.5\" y1=\"408.9688\" y2=\"408.9688\"/></a><g id=\"E1.E2\"><a href=\"psysml:0d231d17-09c4-40d0-a4bc-6d43713d1eea\" target=\"_top\" title=\"psysml:0d231d17-09c4-40d0-a4bc-6d43713d1eea\" xlink:actuate=\"onRequest\" xlink:href=\"psysml:0d231d17-09c4-40d0-a4bc-6d43713d1eea\" xlink:show=\"new\" xlink:title=\"psysml:0d231d17-09c4-40d0-a4bc-6d43713d1eea\" xlink:type=\"simple\"><rect fill=\"#FFFFFF\" height=\"42.9375\" id=\"E2\" style=\"stroke: #383838; stroke-width: 1.5;\" width=\"71\" x=\"34.5\" y=\"478.5\"/><rect fill=\"#F8F8F8\" height=\"37.9375\" style=\"stroke: #383838; stroke-width: 1.5;\" width=\"71\" x=\"34.5\" y=\"478.5\"/><text fill=\"#000000\" font-family=\"sans-serif\" font-size=\"12\" font-style=\"italic\" lengthAdjust=\"spacingAndGlyphs\" textLength=\"64\" x=\"38\" y=\"494.6387\">«port def»</text><text fill=\"#000000\" font-family=\"sans-serif\" font-size=\"12\" lengthAdjust=\"spacingAndGlyphs\" textLength=\"8\" x=\"66\" y=\"508.6074\">P</text></a></g><text fill=\"#000000\" font-family=\"sans-serif\" font-size=\"14\" lengthAdjust=\"spacingAndGlyphs\" textLength=\"36\" x=\"52\" y=\"120.9951\">p1: P</text><rect fill=\"#383838\" height=\"12\" style=\"stroke: #F8F8F8; stroke-width: 1.5;\" width=\"12\" x=\"64\" y=\"96\"/><text fill=\"#000000\" font-family=\"sans-serif\" font-size=\"14\" lengthAdjust=\"spacingAndGlyphs\" textLength=\"48\" x=\"46\" y=\"33.6982\">p2: ~P</text><rect fill=\"#383838\" height=\"12\" style=\"stroke: #F8F8F8; stroke-width: 1.5;\" width=\"12\" x=\"64\" y=\"49\"/><text fill=\"#000000\" font-family=\"sans-serif\" font-size=\"14\" lengthAdjust=\"spacingAndGlyphs\" textLength=\"36\" x=\"52\" y=\"214.9951\">p1: P</text><rect fill=\"#383838\" height=\"12\" style=\"stroke: #F8F8F8; stroke-width: 1.5;\" width=\"12\" x=\"64\" y=\"190\"/><text fill=\"#000000\" font-family=\"sans-serif\" font-size=\"14\" lengthAdjust=\"spacingAndGlyphs\" textLength=\"48\" x=\"46\" y=\"127.6982\">p2: ~P</text><rect fill=\"#383838\" height=\"12\" style=\"stroke: #F8F8F8; stroke-width: 1.5;\" width=\"12\" x=\"64\" y=\"143\"/><text fill=\"#000000\" font-family=\"sans-serif\" font-size=\"14\" lengthAdjust=\"spacingAndGlyphs\" textLength=\"36\" x=\"52\" y=\"308.9951\">p1: P</text><rect fill=\"#383838\" height=\"12\" style=\"stroke: #F8F8F8; stroke-width: 1.5;\" width=\"12\" x=\"64\" y=\"284\"/><text fill=\"#000000\" font-family=\"sans-serif\" font-size=\"14\" lengthAdjust=\"spacingAndGlyphs\" textLength=\"48\" x=\"46\" y=\"221.6982\">p2: ~P</text><rect fill=\"#383838\" height=\"12\" style=\"stroke: #F8F8F8; stroke-width: 1.5;\" width=\"12\" x=\"64\" y=\"237\"/><text fill=\"#000000\" font-family=\"sans-serif\" font-size=\"14\" lengthAdjust=\"spacingAndGlyphs\" textLength=\"36\" x=\"52\" y=\"450.9951\">p1: P</text><rect fill=\"#383838\" height=\"12\" style=\"stroke: #F8F8F8; stroke-width: 1.5;\" width=\"12\" x=\"64\" y=\"426\"/><text fill=\"#000000\" font-family=\"sans-serif\" font-size=\"14\" lengthAdjust=\"spacingAndGlyphs\" textLength=\"48\" x=\"46\" y=\"363.6982\">p2: ~P</text><rect fill=\"#383838\" height=\"12\" style=\"stroke: #F8F8F8; stroke-width: 1.5;\" width=\"12\" x=\"64\" y=\"379\"/><!--MD5=[4ce51ac6fa4cf5202df3859e2718f033]\n",
       "link E15 to E14--><a href=\"psysml:8d97a70f-8cd3-421a-99bb-bcc3f52cef04\" target=\"_top\" title=\"psysml:8d97a70f-8cd3-421a-99bb-bcc3f52cef04\" xlink:actuate=\"onRequest\" xlink:href=\"psysml:8d97a70f-8cd3-421a-99bb-bcc3f52cef04\" xlink:show=\"new\" xlink:title=\"psysml:8d97a70f-8cd3-421a-99bb-bcc3f52cef04\" xlink:type=\"simple\"><path d=\"M70,391.05 C70,402.62 70,414.19 70,425.76 \" fill=\"none\" id=\"E15-E14\" style=\"stroke: #383838; stroke-width: 3.0;\"/></a><!--MD5=[4ce51ac6fa4cf5202df3859e2718f033]\n",
       "link E15 to E14--><a href=\"psysml:4e5d56fb-a30b-410a-93da-f699910e5442\" target=\"_top\" title=\"psysml:4e5d56fb-a30b-410a-93da-f699910e5442\" xlink:actuate=\"onRequest\" xlink:href=\"psysml:4e5d56fb-a30b-410a-93da-f699910e5442\" xlink:show=\"new\" xlink:title=\"psysml:4e5d56fb-a30b-410a-93da-f699910e5442\" xlink:type=\"simple\"><path d=\"M67.98,391.05 C64.69,402.62 64.67,414.19 67.93,425.76 \" fill=\"none\" id=\"E15-E14-1\" style=\"stroke: #383838; stroke-width: 3.0;\"/></a><!--MD5=[90670f175207e1451632f54e953d613b]\n",
       "@startuml\r\n",
       "skinparam ranksep 10\r\n",
       "skinparam rectangle {\r\n",
       " backgroundColor<<block>> LightGreen\r\n",
       "}\r\n",
       "left to right direction\r\n",
       "skinparam monochrome true\r\n",
       "skinparam classbackgroundcolor white\r\n",
       "skinparam shadowing false\r\n",
       "skinparam wrapWidth 300\r\n",
       "hide circle\r\n",
       "\r\n",
       "package \"ConjugationTest\" as E1  [[psysml:4ba0ad9e-a677-47db-af1d-b015e8f93aef ]]  {\r\n",
       "def \"P\" as E2  <<(T,blue)port def>> [[psysml:0d231d17-09c4-40d0-a4bc-6d43713d1eea ]] \r\n",
       "rec def \"B\" as E3  <<(T,blue)part def>> [[psysml:1fca8384-68db-4c35-8908-d644a05ab33b ]] {\r\n",
       "portin \"p1: P\" as E4  <<(T,blue)port>> [[psysml:ac9a4e52-d9d9-4ed8-9786-da9347d8a24d ]] \r\n",
       "portin \"p2: ~P\" as E5  <<(T,blue)port>> [[psysml:dd7140d6-57c4-455c-b235-fe627e1ecfff ]] \r\n",
       "}\r\n",
       "rec def \"A\" as E6  <<(T,blue)connection def>> [[psysml:d9048fa2-8c0d-4237-aabb-192a68938198 ]] {\r\n",
       "portin \"p1: P\" as E7  <<(T,blue)port>> [[psysml:135e4066-7c15-417d-820e-373a33adf188 ]] \r\n",
       "portin \"p2: ~P\" as E8  <<(T,blue)port>> [[psysml:242160d8-1eb8-4593-9cf8-95e70ea0b9fa ]] \r\n",
       "}\r\n",
       "rec def \"I\" as E9  <<(T,blue)interface def>> [[psysml:b68d4e65-0a25-4b32-9474-7d6b33189e06 ]] {\r\n",
       "portin \"p1: P\" as E10  <<(T,blue)port>> [[psysml:c610f798-3696-48d0-b489-00c6b6b02c5c ]] \r\n",
       "portin \"p2: ~P\" as E11  <<(T,blue)port>> [[psysml:82b7a088-1726-4de6-92a0-2f3113dfc02a ]] \r\n",
       "}\r\n",
       "rec def \"B1\" as E12  <<(T,blue)part def>> [[psysml:4bc8843d-d10d-4f46-93fe-21c75269e8aa ]] {\r\n",
       "rec usage \"p\" as E13  [[psysml:37b5f10a-21e5-48b2-b2b2-bc5c291ce903 ]] {\r\n",
       "portin \"p1: P\" as E14  <<(T,blue)port>> [[psysml:c9e1cbea-e956-4380-9b02-2ad2a26c5224 ]] \r\n",
       "portin \"p2: ~P\" as E15  <<(T,blue)port>> [[psysml:91fc773b-55a8-419c-8531-23cd35b1b670 ]] \r\n",
       "}\r\n",
       "}\r\n",
       "E15 -[thickness=3]- E14 [[psysml:8d97a70f-8cd3-421a-99bb-bcc3f52cef04 ]] \r\n",
       "E15 -[thickness=3]- E14 [[psysml:4e5d56fb-a30b-410a-93da-f699910e5442 ]] \r\n",
       "}\r\n",
       "@enduml\r\n",
       "\n",
       "PlantUML version 1.2020.13(Sat Jun 13 12:26:38 UTC 2020)\n",
       "(EPL source distribution)\n",
       "Java Runtime: OpenJDK Runtime Environment\n",
       "JVM: OpenJDK 64-Bit Server VM\n",
       "Default Encoding: UTF-8\n",
       "Language: en\n",
       "Country: null\n",
       "--></g></svg>"
      ]
     },
     "execution_count": 19,
     "metadata": {},
     "output_type": "execute_result"
    }
   ],
   "source": [
    "%viz --style=\"LR\" --view=\"Interconnection\" \"ConjugationTest\""
   ]
  },
  {
   "cell_type": "code",
   "execution_count": 20,
   "id": "presidential-hobby",
   "metadata": {
    "execution": {
     "iopub.execute_input": "2021-03-24T16:29:18.388764Z",
     "iopub.status.busy": "2021-03-24T16:29:18.388362Z",
     "iopub.status.idle": "2021-03-24T16:29:18.392567Z",
     "shell.execute_reply": "2021-03-24T16:29:18.392902Z"
    }
   },
   "outputs": [
    {
     "data": {
      "image/svg+xml": [
       "<?xml version=\"1.0\" encoding=\"UTF-8\" standalone=\"no\"?><svg xmlns=\"http://www.w3.org/2000/svg\" xmlns:xlink=\"http://www.w3.org/1999/xlink\" contentScriptType=\"application/ecmascript\" contentStyleType=\"text/css\" height=\"12px\" preserveAspectRatio=\"none\" style=\"width:12px;height:12px;\" version=\"1.1\" viewBox=\"0 0 12 12\" width=\"12px\" zoomAndPan=\"magnify\"><defs/><g><!--MD5=[7aeb398939421629f6affaa4a1a7b125]\n",
       "@startuml\r\n",
       "skinparam ranksep 8\r\n",
       "left to right direction\r\n",
       "skinparam monochrome true\r\n",
       "skinparam classbackgroundcolor white\r\n",
       "skinparam shadowing false\r\n",
       "skinparam wrapWidth 300\r\n",
       "hide circle\r\n",
       "\r\n",
       "@enduml\r\n",
       "\n",
       "PlantUML version 1.2020.13(Sat Jun 13 12:26:38 UTC 2020)\n",
       "(EPL source distribution)\n",
       "Java Runtime: OpenJDK Runtime Environment\n",
       "JVM: OpenJDK 64-Bit Server VM\n",
       "Default Encoding: UTF-8\n",
       "Language: en\n",
       "Country: null\n",
       "--></g></svg>"
      ]
     },
     "execution_count": 20,
     "metadata": {},
     "output_type": "execute_result"
    }
   ],
   "source": [
    "%viz --style=\"LR\" --view=\"Action\" \"ConjugationTest\""
   ]
  },
  {
   "cell_type": "code",
   "execution_count": 21,
   "id": "collective-partner",
   "metadata": {
    "execution": {
     "iopub.execute_input": "2021-03-24T16:29:18.445551Z",
     "iopub.status.busy": "2021-03-24T16:29:18.445035Z",
     "iopub.status.idle": "2021-03-24T16:29:18.533915Z",
     "shell.execute_reply": "2021-03-24T16:29:18.532614Z"
    }
   },
   "outputs": [
    {
     "data": {
      "image/svg+xml": [
       "<?xml version=\"1.0\" encoding=\"UTF-8\" standalone=\"no\"?><svg xmlns=\"http://www.w3.org/2000/svg\" xmlns:xlink=\"http://www.w3.org/1999/xlink\" contentScriptType=\"application/ecmascript\" contentStyleType=\"text/css\" height=\"565px\" preserveAspectRatio=\"none\" style=\"width:290px;height:565px;\" version=\"1.1\" viewBox=\"0 0 290 565\" width=\"290px\" zoomAndPan=\"magnify\"><defs/><g><!--MD5=[fbc87193dbaf4d95561dea2c320d4a47]\n",
       "cluster E1--><a href=\"psysml:4ba0ad9e-a677-47db-af1d-b015e8f93aef\" target=\"_top\" title=\"psysml:4ba0ad9e-a677-47db-af1d-b015e8f93aef\" xlink:actuate=\"onRequest\" xlink:href=\"psysml:4ba0ad9e-a677-47db-af1d-b015e8f93aef\" xlink:show=\"new\" xlink:title=\"psysml:4ba0ad9e-a677-47db-af1d-b015e8f93aef\" xlink:type=\"simple\"><polygon fill=\"#FFFFFF\" points=\"16,6,151,6,158,28.2969,268,28.2969,268,553,16,553,16,6\" style=\"stroke: #000000; stroke-width: 1.5;\"/><line style=\"stroke: #000000; stroke-width: 1.5;\" x1=\"16\" x2=\"158\" y1=\"28.2969\" y2=\"28.2969\"/><text fill=\"#000000\" font-family=\"sans-serif\" font-size=\"14\" font-weight=\"bold\" lengthAdjust=\"spacingAndGlyphs\" textLength=\"129\" x=\"20\" y=\"20.9951\">ConjugationTest</text></a><!--MD5=[b4997ac47864f28c2f74865a473b2911]\n",
       "class E2--><a href=\"psysml:0d231d17-09c4-40d0-a4bc-6d43713d1eea\" target=\"_top\" title=\"psysml:0d231d17-09c4-40d0-a4bc-6d43713d1eea\" xlink:actuate=\"onRequest\" xlink:href=\"psysml:0d231d17-09c4-40d0-a4bc-6d43713d1eea\" xlink:show=\"new\" xlink:title=\"psysml:0d231d17-09c4-40d0-a4bc-6d43713d1eea\" xlink:type=\"simple\"><rect fill=\"#FFFFFF\" height=\"45.9375\" id=\"E2\" style=\"stroke: #383838; stroke-width: 1.5;\" width=\"66\" x=\"54\" y=\"41\"/><text fill=\"#000000\" font-family=\"sans-serif\" font-size=\"12\" font-style=\"italic\" lengthAdjust=\"spacingAndGlyphs\" textLength=\"64\" x=\"55\" y=\"57.1387\">«port def»</text><text fill=\"#000000\" font-family=\"sans-serif\" font-size=\"12\" lengthAdjust=\"spacingAndGlyphs\" textLength=\"8\" x=\"83\" y=\"71.1074\">P</text><line style=\"stroke: #383838; stroke-width: 1.5;\" x1=\"55\" x2=\"119\" y1=\"78.9375\" y2=\"78.9375\"/></a><!--MD5=[09b614a08d8cba4a07c9adeb5e0fee81]\n",
       "class E3--><a href=\"psysml:1fca8384-68db-4c35-8908-d644a05ab33b\" target=\"_top\" title=\"psysml:1fca8384-68db-4c35-8908-d644a05ab33b\" xlink:actuate=\"onRequest\" xlink:href=\"psysml:1fca8384-68db-4c35-8908-d644a05ab33b\" xlink:show=\"new\" xlink:title=\"psysml:1fca8384-68db-4c35-8908-d644a05ab33b\" xlink:type=\"simple\"><rect fill=\"#FFFFFF\" height=\"88.3516\" id=\"E3\" style=\"stroke: #383838; stroke-width: 1.5;\" width=\"66\" x=\"54\" y=\"122\"/><text fill=\"#000000\" font-family=\"sans-serif\" font-size=\"12\" font-style=\"italic\" lengthAdjust=\"spacingAndGlyphs\" textLength=\"64\" x=\"55\" y=\"138.1387\">«part def»</text><text fill=\"#000000\" font-family=\"sans-serif\" font-size=\"12\" lengthAdjust=\"spacingAndGlyphs\" textLength=\"8\" x=\"83\" y=\"152.1074\">B</text><line style=\"stroke: #383838; stroke-width: 1.5;\" x1=\"55\" x2=\"119\" y1=\"159.9375\" y2=\"159.9375\"/><text fill=\"#000000\" font-family=\"sans-serif\" font-size=\"11\" lengthAdjust=\"spacingAndGlyphs\" textLength=\"29\" x=\"60\" y=\"190.9526\">p1: P</text><text fill=\"#000000\" font-family=\"sans-serif\" font-size=\"11\" lengthAdjust=\"spacingAndGlyphs\" textLength=\"38\" x=\"60\" y=\"203.7573\">p2: ~P</text><line style=\"stroke: #383838; stroke-width: 1.0;\" x1=\"55\" x2=\"72\" y1=\"174.3398\" y2=\"174.3398\"/><text fill=\"#000000\" font-family=\"sans-serif\" font-size=\"11\" lengthAdjust=\"spacingAndGlyphs\" textLength=\"30\" x=\"72\" y=\"177.6479\">ports</text><line style=\"stroke: #383838; stroke-width: 1.0;\" x1=\"102\" x2=\"119\" y1=\"174.3398\" y2=\"174.3398\"/></a><!--MD5=[60a26617385b1d2d0262a64233df1f8d]\n",
       "class E6--><a href=\"psysml:d9048fa2-8c0d-4237-aabb-192a68938198\" target=\"_top\" title=\"psysml:d9048fa2-8c0d-4237-aabb-192a68938198\" xlink:actuate=\"onRequest\" xlink:href=\"psysml:d9048fa2-8c0d-4237-aabb-192a68938198\" xlink:show=\"new\" xlink:title=\"psysml:d9048fa2-8c0d-4237-aabb-192a68938198\" xlink:type=\"simple\"><rect fill=\"#FFFFFF\" height=\"88.3516\" id=\"E6\" style=\"stroke: #383838; stroke-width: 1.5;\" width=\"110\" x=\"32\" y=\"245\"/><text fill=\"#000000\" font-family=\"sans-serif\" font-size=\"12\" font-style=\"italic\" lengthAdjust=\"spacingAndGlyphs\" textLength=\"108\" x=\"33\" y=\"261.1387\">«connection def»</text><text fill=\"#000000\" font-family=\"sans-serif\" font-size=\"12\" lengthAdjust=\"spacingAndGlyphs\" textLength=\"8\" x=\"83\" y=\"275.1074\">A</text><line style=\"stroke: #383838; stroke-width: 1.5;\" x1=\"33\" x2=\"141\" y1=\"282.9375\" y2=\"282.9375\"/><text fill=\"#000000\" font-family=\"sans-serif\" font-size=\"11\" lengthAdjust=\"spacingAndGlyphs\" textLength=\"29\" x=\"38\" y=\"313.9526\">p1: P</text><text fill=\"#000000\" font-family=\"sans-serif\" font-size=\"11\" lengthAdjust=\"spacingAndGlyphs\" textLength=\"38\" x=\"38\" y=\"326.7573\">p2: ~P</text><line style=\"stroke: #383838; stroke-width: 1.0;\" x1=\"33\" x2=\"72\" y1=\"297.3398\" y2=\"297.3398\"/><text fill=\"#000000\" font-family=\"sans-serif\" font-size=\"11\" lengthAdjust=\"spacingAndGlyphs\" textLength=\"30\" x=\"72\" y=\"300.6479\">ports</text><line style=\"stroke: #383838; stroke-width: 1.0;\" x1=\"102\" x2=\"141\" y1=\"297.3398\" y2=\"297.3398\"/></a><!--MD5=[fd4143e9d270a159db93a4ea2a975926]\n",
       "class E9--><a href=\"psysml:b68d4e65-0a25-4b32-9474-7d6b33189e06\" target=\"_top\" title=\"psysml:b68d4e65-0a25-4b32-9474-7d6b33189e06\" xlink:actuate=\"onRequest\" xlink:href=\"psysml:b68d4e65-0a25-4b32-9474-7d6b33189e06\" xlink:show=\"new\" xlink:title=\"psysml:b68d4e65-0a25-4b32-9474-7d6b33189e06\" xlink:type=\"simple\"><rect fill=\"#FFFFFF\" height=\"88.3516\" id=\"E9\" style=\"stroke: #383838; stroke-width: 1.5;\" width=\"96\" x=\"39\" y=\"368\"/><text fill=\"#000000\" font-family=\"sans-serif\" font-size=\"12\" font-style=\"italic\" lengthAdjust=\"spacingAndGlyphs\" textLength=\"94\" x=\"40\" y=\"384.1387\">«interface def»</text><text fill=\"#000000\" font-family=\"sans-serif\" font-size=\"12\" lengthAdjust=\"spacingAndGlyphs\" textLength=\"3\" x=\"85.5\" y=\"398.1074\">I</text><line style=\"stroke: #383838; stroke-width: 1.5;\" x1=\"40\" x2=\"134\" y1=\"405.9375\" y2=\"405.9375\"/><text fill=\"#000000\" font-family=\"sans-serif\" font-size=\"11\" lengthAdjust=\"spacingAndGlyphs\" textLength=\"29\" x=\"45\" y=\"436.9526\">p1: P</text><text fill=\"#000000\" font-family=\"sans-serif\" font-size=\"11\" lengthAdjust=\"spacingAndGlyphs\" textLength=\"38\" x=\"45\" y=\"449.7573\">p2: ~P</text><line style=\"stroke: #383838; stroke-width: 1.0;\" x1=\"40\" x2=\"72\" y1=\"420.3398\" y2=\"420.3398\"/><text fill=\"#000000\" font-family=\"sans-serif\" font-size=\"11\" lengthAdjust=\"spacingAndGlyphs\" textLength=\"30\" x=\"72\" y=\"423.6479\">ports</text><line style=\"stroke: #383838; stroke-width: 1.0;\" x1=\"102\" x2=\"134\" y1=\"420.3398\" y2=\"420.3398\"/></a><!--MD5=[49a0ec8f00dab7302a31f22d0f0fe584]\n",
       "class E12--><a href=\"psysml:4bc8843d-d10d-4f46-93fe-21c75269e8aa\" target=\"_top\" title=\"psysml:4bc8843d-d10d-4f46-93fe-21c75269e8aa\" xlink:actuate=\"onRequest\" xlink:href=\"psysml:4bc8843d-d10d-4f46-93fe-21c75269e8aa\" xlink:show=\"new\" xlink:title=\"psysml:4bc8843d-d10d-4f46-93fe-21c75269e8aa\" xlink:type=\"simple\"><rect fill=\"#FFFFFF\" height=\"45.9375\" id=\"E12\" style=\"stroke: #383838; stroke-width: 1.5;\" width=\"66\" x=\"54\" y=\"491\"/><text fill=\"#000000\" font-family=\"sans-serif\" font-size=\"12\" font-style=\"italic\" lengthAdjust=\"spacingAndGlyphs\" textLength=\"64\" x=\"55\" y=\"507.1387\">«part def»</text><text fill=\"#000000\" font-family=\"sans-serif\" font-size=\"12\" lengthAdjust=\"spacingAndGlyphs\" textLength=\"16\" x=\"79\" y=\"521.1074\">B1</text><line style=\"stroke: #383838; stroke-width: 1.5;\" x1=\"55\" x2=\"119\" y1=\"528.9375\" y2=\"528.9375\"/></a><!--MD5=[ee3c913d1a06f366521f9ef512b67efe]\n",
       "class E13--><a href=\"psysml:37b5f10a-21e5-48b2-b2b2-bc5c291ce903\" target=\"_top\" title=\"psysml:37b5f10a-21e5-48b2-b2b2-bc5c291ce903\" xlink:actuate=\"onRequest\" xlink:href=\"psysml:37b5f10a-21e5-48b2-b2b2-bc5c291ce903\" xlink:show=\"new\" xlink:title=\"psysml:37b5f10a-21e5-48b2-b2b2-bc5c291ce903\" xlink:type=\"simple\"><rect fill=\"#FFFFFF\" height=\"88.3516\" id=\"E13\" rx=\"10\" ry=\"10\" style=\"stroke: #383838; stroke-width: 1.5;\" width=\"50\" x=\"202\" y=\"449\"/><text fill=\"#000000\" font-family=\"sans-serif\" font-size=\"12\" font-style=\"italic\" lengthAdjust=\"spacingAndGlyphs\" textLength=\"40\" x=\"207\" y=\"465.1387\">«part»</text><text fill=\"#000000\" font-family=\"sans-serif\" font-size=\"12\" lengthAdjust=\"spacingAndGlyphs\" textLength=\"8\" x=\"223\" y=\"479.1074\">p</text><line style=\"stroke: #383838; stroke-width: 1.5;\" x1=\"203\" x2=\"251\" y1=\"486.9375\" y2=\"486.9375\"/><text fill=\"#000000\" font-family=\"sans-serif\" font-size=\"11\" lengthAdjust=\"spacingAndGlyphs\" textLength=\"29\" x=\"208\" y=\"517.9526\">p1: P</text><text fill=\"#000000\" font-family=\"sans-serif\" font-size=\"11\" lengthAdjust=\"spacingAndGlyphs\" textLength=\"38\" x=\"208\" y=\"530.7573\">p2: ~P</text><line style=\"stroke: #383838; stroke-width: 1.0;\" x1=\"203\" x2=\"212\" y1=\"501.3398\" y2=\"501.3398\"/><text fill=\"#000000\" font-family=\"sans-serif\" font-size=\"11\" lengthAdjust=\"spacingAndGlyphs\" textLength=\"30\" x=\"212\" y=\"504.6479\">ports</text><line style=\"stroke: #383838; stroke-width: 1.0;\" x1=\"242\" x2=\"251\" y1=\"501.3398\" y2=\"501.3398\"/></a><!--MD5=[062ed86c389d1a88f61c6380d0491e17]\n",
       "reverse link E12 to E13--><a href=\"psysml:37b5f10a-21e5-48b2-b2b2-bc5c291ce903\" target=\"_top\" title=\"psysml:37b5f10a-21e5-48b2-b2b2-bc5c291ce903\" xlink:actuate=\"onRequest\" xlink:href=\"psysml:37b5f10a-21e5-48b2-b2b2-bc5c291ce903\" xlink:show=\"new\" xlink:title=\"psysml:37b5f10a-21e5-48b2-b2b2-bc5c291ce903\" xlink:type=\"simple\"><path d=\"M132.96,507.16 C155.92,503.66 182.94,499.55 201.92,496.66 \" fill=\"none\" id=\"E12&lt;-E13\" style=\"stroke: #383838; stroke-width: 1.0;\"/><polygon fill=\"#383838\" points=\"120.01,509.13,126.5441,512.1804,131.873,507.3222,125.3389,504.2717,120.01,509.13\" style=\"stroke: #383838; stroke-width: 1.0;\"/></a><!--MD5=[5bc3d725f9ba0f390a72174bcdaf51cc]\n",
       "@startuml\r\n",
       "left to right direction\r\n",
       "skinparam monochrome true\r\n",
       "skinparam classbackgroundcolor white\r\n",
       "skinparam shadowing false\r\n",
       "skinparam wrapWidth 300\r\n",
       "hide circle\r\n",
       "\r\n",
       "package \"ConjugationTest\" as E1  [[psysml:4ba0ad9e-a677-47db-af1d-b015e8f93aef ]]  {\r\n",
       "comp def \"P\" as E2  <<(T,blue)port def>> [[psysml:0d231d17-09c4-40d0-a4bc-6d43713d1eea ]] {\r\n",
       "}\r\n",
       "comp def \"B\" as E3  <<(T,blue)part def>> [[psysml:1fca8384-68db-4c35-8908-d644a05ab33b ]] {\r\n",
       "- - ports - -\r\n",
       "p1: P\r\n",
       "p2: ~P\r\n",
       "}\r\n",
       "comp def \"A\" as E6  <<(T,blue)connection def>> [[psysml:d9048fa2-8c0d-4237-aabb-192a68938198 ]] {\r\n",
       "- - ports - -\r\n",
       "p1: P\r\n",
       "p2: ~P\r\n",
       "}\r\n",
       "comp def \"I\" as E9  <<(T,blue)interface def>> [[psysml:b68d4e65-0a25-4b32-9474-7d6b33189e06 ]] {\r\n",
       "- - ports - -\r\n",
       "p1: P\r\n",
       "p2: ~P\r\n",
       "}\r\n",
       "comp def \"B1\" as E12  <<(T,blue)part def>> [[psysml:4bc8843d-d10d-4f46-93fe-21c75269e8aa ]] {\r\n",
       "}\r\n",
       "comp usage \"p\" as E13  <<(T,blue)part>> [[psysml:37b5f10a-21e5-48b2-b2b2-bc5c291ce903 ]] {\r\n",
       "- - ports - -\r\n",
       "p1: P\r\n",
       "p2: ~P\r\n",
       "}\r\n",
       "E12 *- - E13 [[psysml:37b5f10a-21e5-48b2-b2b2-bc5c291ce903 ]] \r\n",
       "}\r\n",
       "@enduml\r\n",
       "\n",
       "PlantUML version 1.2020.13(Sat Jun 13 12:26:38 UTC 2020)\n",
       "(EPL source distribution)\n",
       "Java Runtime: OpenJDK Runtime Environment\n",
       "JVM: OpenJDK 64-Bit Server VM\n",
       "Default Encoding: UTF-8\n",
       "Language: en\n",
       "Country: null\n",
       "--></g></svg>"
      ]
     },
     "execution_count": 21,
     "metadata": {},
     "output_type": "execute_result"
    }
   ],
   "source": [
    "%viz --style=\"LR\" --view=\"Sequence\" \"ConjugationTest\""
   ]
  },
  {
   "cell_type": "code",
   "execution_count": 22,
   "id": "adaptive-minimum",
   "metadata": {
    "execution": {
     "iopub.execute_input": "2021-03-24T16:29:18.587138Z",
     "iopub.status.busy": "2021-03-24T16:29:18.586384Z",
     "iopub.status.idle": "2021-03-24T16:29:18.681009Z",
     "shell.execute_reply": "2021-03-24T16:29:18.680689Z"
    }
   },
   "outputs": [
    {
     "data": {
      "image/svg+xml": [
       "<?xml version=\"1.0\" encoding=\"UTF-8\" standalone=\"no\"?><svg xmlns=\"http://www.w3.org/2000/svg\" xmlns:xlink=\"http://www.w3.org/1999/xlink\" contentScriptType=\"application/ecmascript\" contentStyleType=\"text/css\" height=\"565px\" preserveAspectRatio=\"none\" style=\"width:290px;height:565px;\" version=\"1.1\" viewBox=\"0 0 290 565\" width=\"290px\" zoomAndPan=\"magnify\"><defs/><g><!--MD5=[fbc87193dbaf4d95561dea2c320d4a47]\n",
       "cluster E1--><a href=\"psysml:4ba0ad9e-a677-47db-af1d-b015e8f93aef\" target=\"_top\" title=\"psysml:4ba0ad9e-a677-47db-af1d-b015e8f93aef\" xlink:actuate=\"onRequest\" xlink:href=\"psysml:4ba0ad9e-a677-47db-af1d-b015e8f93aef\" xlink:show=\"new\" xlink:title=\"psysml:4ba0ad9e-a677-47db-af1d-b015e8f93aef\" xlink:type=\"simple\"><polygon fill=\"#FFFFFF\" points=\"16,6,151,6,158,28.2969,268,28.2969,268,553,16,553,16,6\" style=\"stroke: #000000; stroke-width: 1.5;\"/><line style=\"stroke: #000000; stroke-width: 1.5;\" x1=\"16\" x2=\"158\" y1=\"28.2969\" y2=\"28.2969\"/><text fill=\"#000000\" font-family=\"sans-serif\" font-size=\"14\" font-weight=\"bold\" lengthAdjust=\"spacingAndGlyphs\" textLength=\"129\" x=\"20\" y=\"20.9951\">ConjugationTest</text></a><!--MD5=[b4997ac47864f28c2f74865a473b2911]\n",
       "class E2--><a href=\"psysml:0d231d17-09c4-40d0-a4bc-6d43713d1eea\" target=\"_top\" title=\"psysml:0d231d17-09c4-40d0-a4bc-6d43713d1eea\" xlink:actuate=\"onRequest\" xlink:href=\"psysml:0d231d17-09c4-40d0-a4bc-6d43713d1eea\" xlink:show=\"new\" xlink:title=\"psysml:0d231d17-09c4-40d0-a4bc-6d43713d1eea\" xlink:type=\"simple\"><rect fill=\"#FFFFFF\" height=\"45.9375\" id=\"E2\" style=\"stroke: #383838; stroke-width: 1.5;\" width=\"66\" x=\"54\" y=\"41\"/><text fill=\"#000000\" font-family=\"sans-serif\" font-size=\"12\" font-style=\"italic\" lengthAdjust=\"spacingAndGlyphs\" textLength=\"64\" x=\"55\" y=\"57.1387\">«port def»</text><text fill=\"#000000\" font-family=\"sans-serif\" font-size=\"12\" lengthAdjust=\"spacingAndGlyphs\" textLength=\"8\" x=\"83\" y=\"71.1074\">P</text><line style=\"stroke: #383838; stroke-width: 1.5;\" x1=\"55\" x2=\"119\" y1=\"78.9375\" y2=\"78.9375\"/></a><!--MD5=[09b614a08d8cba4a07c9adeb5e0fee81]\n",
       "class E3--><a href=\"psysml:1fca8384-68db-4c35-8908-d644a05ab33b\" target=\"_top\" title=\"psysml:1fca8384-68db-4c35-8908-d644a05ab33b\" xlink:actuate=\"onRequest\" xlink:href=\"psysml:1fca8384-68db-4c35-8908-d644a05ab33b\" xlink:show=\"new\" xlink:title=\"psysml:1fca8384-68db-4c35-8908-d644a05ab33b\" xlink:type=\"simple\"><rect fill=\"#FFFFFF\" height=\"88.3516\" id=\"E3\" style=\"stroke: #383838; stroke-width: 1.5;\" width=\"66\" x=\"54\" y=\"122\"/><text fill=\"#000000\" font-family=\"sans-serif\" font-size=\"12\" font-style=\"italic\" lengthAdjust=\"spacingAndGlyphs\" textLength=\"64\" x=\"55\" y=\"138.1387\">«part def»</text><text fill=\"#000000\" font-family=\"sans-serif\" font-size=\"12\" lengthAdjust=\"spacingAndGlyphs\" textLength=\"8\" x=\"83\" y=\"152.1074\">B</text><line style=\"stroke: #383838; stroke-width: 1.5;\" x1=\"55\" x2=\"119\" y1=\"159.9375\" y2=\"159.9375\"/><text fill=\"#000000\" font-family=\"sans-serif\" font-size=\"11\" lengthAdjust=\"spacingAndGlyphs\" textLength=\"29\" x=\"60\" y=\"190.9526\">p1: P</text><text fill=\"#000000\" font-family=\"sans-serif\" font-size=\"11\" lengthAdjust=\"spacingAndGlyphs\" textLength=\"38\" x=\"60\" y=\"203.7573\">p2: ~P</text><line style=\"stroke: #383838; stroke-width: 1.0;\" x1=\"55\" x2=\"72\" y1=\"174.3398\" y2=\"174.3398\"/><text fill=\"#000000\" font-family=\"sans-serif\" font-size=\"11\" lengthAdjust=\"spacingAndGlyphs\" textLength=\"30\" x=\"72\" y=\"177.6479\">ports</text><line style=\"stroke: #383838; stroke-width: 1.0;\" x1=\"102\" x2=\"119\" y1=\"174.3398\" y2=\"174.3398\"/></a><!--MD5=[60a26617385b1d2d0262a64233df1f8d]\n",
       "class E6--><a href=\"psysml:d9048fa2-8c0d-4237-aabb-192a68938198\" target=\"_top\" title=\"psysml:d9048fa2-8c0d-4237-aabb-192a68938198\" xlink:actuate=\"onRequest\" xlink:href=\"psysml:d9048fa2-8c0d-4237-aabb-192a68938198\" xlink:show=\"new\" xlink:title=\"psysml:d9048fa2-8c0d-4237-aabb-192a68938198\" xlink:type=\"simple\"><rect fill=\"#FFFFFF\" height=\"88.3516\" id=\"E6\" style=\"stroke: #383838; stroke-width: 1.5;\" width=\"110\" x=\"32\" y=\"245\"/><text fill=\"#000000\" font-family=\"sans-serif\" font-size=\"12\" font-style=\"italic\" lengthAdjust=\"spacingAndGlyphs\" textLength=\"108\" x=\"33\" y=\"261.1387\">«connection def»</text><text fill=\"#000000\" font-family=\"sans-serif\" font-size=\"12\" lengthAdjust=\"spacingAndGlyphs\" textLength=\"8\" x=\"83\" y=\"275.1074\">A</text><line style=\"stroke: #383838; stroke-width: 1.5;\" x1=\"33\" x2=\"141\" y1=\"282.9375\" y2=\"282.9375\"/><text fill=\"#000000\" font-family=\"sans-serif\" font-size=\"11\" lengthAdjust=\"spacingAndGlyphs\" textLength=\"29\" x=\"38\" y=\"313.9526\">p1: P</text><text fill=\"#000000\" font-family=\"sans-serif\" font-size=\"11\" lengthAdjust=\"spacingAndGlyphs\" textLength=\"38\" x=\"38\" y=\"326.7573\">p2: ~P</text><line style=\"stroke: #383838; stroke-width: 1.0;\" x1=\"33\" x2=\"72\" y1=\"297.3398\" y2=\"297.3398\"/><text fill=\"#000000\" font-family=\"sans-serif\" font-size=\"11\" lengthAdjust=\"spacingAndGlyphs\" textLength=\"30\" x=\"72\" y=\"300.6479\">ports</text><line style=\"stroke: #383838; stroke-width: 1.0;\" x1=\"102\" x2=\"141\" y1=\"297.3398\" y2=\"297.3398\"/></a><!--MD5=[fd4143e9d270a159db93a4ea2a975926]\n",
       "class E9--><a href=\"psysml:b68d4e65-0a25-4b32-9474-7d6b33189e06\" target=\"_top\" title=\"psysml:b68d4e65-0a25-4b32-9474-7d6b33189e06\" xlink:actuate=\"onRequest\" xlink:href=\"psysml:b68d4e65-0a25-4b32-9474-7d6b33189e06\" xlink:show=\"new\" xlink:title=\"psysml:b68d4e65-0a25-4b32-9474-7d6b33189e06\" xlink:type=\"simple\"><rect fill=\"#FFFFFF\" height=\"88.3516\" id=\"E9\" style=\"stroke: #383838; stroke-width: 1.5;\" width=\"96\" x=\"39\" y=\"368\"/><text fill=\"#000000\" font-family=\"sans-serif\" font-size=\"12\" font-style=\"italic\" lengthAdjust=\"spacingAndGlyphs\" textLength=\"94\" x=\"40\" y=\"384.1387\">«interface def»</text><text fill=\"#000000\" font-family=\"sans-serif\" font-size=\"12\" lengthAdjust=\"spacingAndGlyphs\" textLength=\"3\" x=\"85.5\" y=\"398.1074\">I</text><line style=\"stroke: #383838; stroke-width: 1.5;\" x1=\"40\" x2=\"134\" y1=\"405.9375\" y2=\"405.9375\"/><text fill=\"#000000\" font-family=\"sans-serif\" font-size=\"11\" lengthAdjust=\"spacingAndGlyphs\" textLength=\"29\" x=\"45\" y=\"436.9526\">p1: P</text><text fill=\"#000000\" font-family=\"sans-serif\" font-size=\"11\" lengthAdjust=\"spacingAndGlyphs\" textLength=\"38\" x=\"45\" y=\"449.7573\">p2: ~P</text><line style=\"stroke: #383838; stroke-width: 1.0;\" x1=\"40\" x2=\"72\" y1=\"420.3398\" y2=\"420.3398\"/><text fill=\"#000000\" font-family=\"sans-serif\" font-size=\"11\" lengthAdjust=\"spacingAndGlyphs\" textLength=\"30\" x=\"72\" y=\"423.6479\">ports</text><line style=\"stroke: #383838; stroke-width: 1.0;\" x1=\"102\" x2=\"134\" y1=\"420.3398\" y2=\"420.3398\"/></a><!--MD5=[49a0ec8f00dab7302a31f22d0f0fe584]\n",
       "class E12--><a href=\"psysml:4bc8843d-d10d-4f46-93fe-21c75269e8aa\" target=\"_top\" title=\"psysml:4bc8843d-d10d-4f46-93fe-21c75269e8aa\" xlink:actuate=\"onRequest\" xlink:href=\"psysml:4bc8843d-d10d-4f46-93fe-21c75269e8aa\" xlink:show=\"new\" xlink:title=\"psysml:4bc8843d-d10d-4f46-93fe-21c75269e8aa\" xlink:type=\"simple\"><rect fill=\"#FFFFFF\" height=\"45.9375\" id=\"E12\" style=\"stroke: #383838; stroke-width: 1.5;\" width=\"66\" x=\"54\" y=\"491\"/><text fill=\"#000000\" font-family=\"sans-serif\" font-size=\"12\" font-style=\"italic\" lengthAdjust=\"spacingAndGlyphs\" textLength=\"64\" x=\"55\" y=\"507.1387\">«part def»</text><text fill=\"#000000\" font-family=\"sans-serif\" font-size=\"12\" lengthAdjust=\"spacingAndGlyphs\" textLength=\"16\" x=\"79\" y=\"521.1074\">B1</text><line style=\"stroke: #383838; stroke-width: 1.5;\" x1=\"55\" x2=\"119\" y1=\"528.9375\" y2=\"528.9375\"/></a><!--MD5=[ee3c913d1a06f366521f9ef512b67efe]\n",
       "class E13--><a href=\"psysml:37b5f10a-21e5-48b2-b2b2-bc5c291ce903\" target=\"_top\" title=\"psysml:37b5f10a-21e5-48b2-b2b2-bc5c291ce903\" xlink:actuate=\"onRequest\" xlink:href=\"psysml:37b5f10a-21e5-48b2-b2b2-bc5c291ce903\" xlink:show=\"new\" xlink:title=\"psysml:37b5f10a-21e5-48b2-b2b2-bc5c291ce903\" xlink:type=\"simple\"><rect fill=\"#FFFFFF\" height=\"88.3516\" id=\"E13\" rx=\"10\" ry=\"10\" style=\"stroke: #383838; stroke-width: 1.5;\" width=\"50\" x=\"202\" y=\"449\"/><text fill=\"#000000\" font-family=\"sans-serif\" font-size=\"12\" font-style=\"italic\" lengthAdjust=\"spacingAndGlyphs\" textLength=\"40\" x=\"207\" y=\"465.1387\">«part»</text><text fill=\"#000000\" font-family=\"sans-serif\" font-size=\"12\" lengthAdjust=\"spacingAndGlyphs\" textLength=\"8\" x=\"223\" y=\"479.1074\">p</text><line style=\"stroke: #383838; stroke-width: 1.5;\" x1=\"203\" x2=\"251\" y1=\"486.9375\" y2=\"486.9375\"/><text fill=\"#000000\" font-family=\"sans-serif\" font-size=\"11\" lengthAdjust=\"spacingAndGlyphs\" textLength=\"29\" x=\"208\" y=\"517.9526\">p1: P</text><text fill=\"#000000\" font-family=\"sans-serif\" font-size=\"11\" lengthAdjust=\"spacingAndGlyphs\" textLength=\"38\" x=\"208\" y=\"530.7573\">p2: ~P</text><line style=\"stroke: #383838; stroke-width: 1.0;\" x1=\"203\" x2=\"212\" y1=\"501.3398\" y2=\"501.3398\"/><text fill=\"#000000\" font-family=\"sans-serif\" font-size=\"11\" lengthAdjust=\"spacingAndGlyphs\" textLength=\"30\" x=\"212\" y=\"504.6479\">ports</text><line style=\"stroke: #383838; stroke-width: 1.0;\" x1=\"242\" x2=\"251\" y1=\"501.3398\" y2=\"501.3398\"/></a><!--MD5=[062ed86c389d1a88f61c6380d0491e17]\n",
       "reverse link E12 to E13--><a href=\"psysml:37b5f10a-21e5-48b2-b2b2-bc5c291ce903\" target=\"_top\" title=\"psysml:37b5f10a-21e5-48b2-b2b2-bc5c291ce903\" xlink:actuate=\"onRequest\" xlink:href=\"psysml:37b5f10a-21e5-48b2-b2b2-bc5c291ce903\" xlink:show=\"new\" xlink:title=\"psysml:37b5f10a-21e5-48b2-b2b2-bc5c291ce903\" xlink:type=\"simple\"><path d=\"M132.96,507.16 C155.92,503.66 182.94,499.55 201.92,496.66 \" fill=\"none\" id=\"E12&lt;-E13\" style=\"stroke: #383838; stroke-width: 1.0;\"/><polygon fill=\"#383838\" points=\"120.01,509.13,126.5441,512.1804,131.873,507.3222,125.3389,504.2717,120.01,509.13\" style=\"stroke: #383838; stroke-width: 1.0;\"/></a><!--MD5=[5bc3d725f9ba0f390a72174bcdaf51cc]\n",
       "@startuml\r\n",
       "left to right direction\r\n",
       "skinparam monochrome true\r\n",
       "skinparam classbackgroundcolor white\r\n",
       "skinparam shadowing false\r\n",
       "skinparam wrapWidth 300\r\n",
       "hide circle\r\n",
       "\r\n",
       "package \"ConjugationTest\" as E1  [[psysml:4ba0ad9e-a677-47db-af1d-b015e8f93aef ]]  {\r\n",
       "comp def \"P\" as E2  <<(T,blue)port def>> [[psysml:0d231d17-09c4-40d0-a4bc-6d43713d1eea ]] {\r\n",
       "}\r\n",
       "comp def \"B\" as E3  <<(T,blue)part def>> [[psysml:1fca8384-68db-4c35-8908-d644a05ab33b ]] {\r\n",
       "- - ports - -\r\n",
       "p1: P\r\n",
       "p2: ~P\r\n",
       "}\r\n",
       "comp def \"A\" as E6  <<(T,blue)connection def>> [[psysml:d9048fa2-8c0d-4237-aabb-192a68938198 ]] {\r\n",
       "- - ports - -\r\n",
       "p1: P\r\n",
       "p2: ~P\r\n",
       "}\r\n",
       "comp def \"I\" as E9  <<(T,blue)interface def>> [[psysml:b68d4e65-0a25-4b32-9474-7d6b33189e06 ]] {\r\n",
       "- - ports - -\r\n",
       "p1: P\r\n",
       "p2: ~P\r\n",
       "}\r\n",
       "comp def \"B1\" as E12  <<(T,blue)part def>> [[psysml:4bc8843d-d10d-4f46-93fe-21c75269e8aa ]] {\r\n",
       "}\r\n",
       "comp usage \"p\" as E13  <<(T,blue)part>> [[psysml:37b5f10a-21e5-48b2-b2b2-bc5c291ce903 ]] {\r\n",
       "- - ports - -\r\n",
       "p1: P\r\n",
       "p2: ~P\r\n",
       "}\r\n",
       "E12 *- - E13 [[psysml:37b5f10a-21e5-48b2-b2b2-bc5c291ce903 ]] \r\n",
       "}\r\n",
       "@enduml\r\n",
       "\n",
       "PlantUML version 1.2020.13(Sat Jun 13 12:26:38 UTC 2020)\n",
       "(EPL source distribution)\n",
       "Java Runtime: OpenJDK Runtime Environment\n",
       "JVM: OpenJDK 64-Bit Server VM\n",
       "Default Encoding: UTF-8\n",
       "Language: en\n",
       "Country: null\n",
       "--></g></svg>"
      ]
     },
     "execution_count": 22,
     "metadata": {},
     "output_type": "execute_result"
    }
   ],
   "source": [
    "%viz --style=\"LR\" --view=\"MIXED\" \"ConjugationTest\""
   ]
  },
  {
   "cell_type": "code",
   "execution_count": 23,
   "id": "engaging-culture",
   "metadata": {
    "execution": {
     "iopub.execute_input": "2021-03-24T16:29:18.733195Z",
     "iopub.status.busy": "2021-03-24T16:29:18.732381Z",
     "iopub.status.idle": "2021-03-24T16:29:18.819744Z",
     "shell.execute_reply": "2021-03-24T16:29:18.818374Z"
    }
   },
   "outputs": [
    {
     "data": {
      "image/svg+xml": [
       "<?xml version=\"1.0\" encoding=\"UTF-8\" standalone=\"no\"?><svg xmlns=\"http://www.w3.org/2000/svg\" xmlns:xlink=\"http://www.w3.org/1999/xlink\" contentScriptType=\"application/ecmascript\" contentStyleType=\"text/css\" height=\"305px\" preserveAspectRatio=\"none\" style=\"width:614px;height:305px;\" version=\"1.1\" viewBox=\"0 0 614 305\" width=\"614px\" zoomAndPan=\"magnify\"><defs><filter height=\"300%\" id=\"f2fv6fkxpewak\" width=\"300%\" x=\"-1\" y=\"-1\"><feGaussianBlur result=\"blurOut\" stdDeviation=\"2.0\"/><feColorMatrix in=\"blurOut\" result=\"blurOut2\" type=\"matrix\" values=\"0 0 0 0 0 0 0 0 0 0 0 0 0 0 0 0 0 0 .4 0\"/><feOffset dx=\"4.0\" dy=\"4.0\" in=\"blurOut2\" result=\"blurOut3\"/><feBlend in=\"SourceGraphic\" in2=\"blurOut3\" mode=\"normal\"/></filter></defs><g><!--MD5=[fbc87193dbaf4d95561dea2c320d4a47]\n",
       "cluster E1--><a href=\"psysml:4ba0ad9e-a677-47db-af1d-b015e8f93aef\" target=\"_top\" title=\"psysml:4ba0ad9e-a677-47db-af1d-b015e8f93aef\" xlink:actuate=\"onRequest\" xlink:href=\"psysml:4ba0ad9e-a677-47db-af1d-b015e8f93aef\" xlink:show=\"new\" xlink:title=\"psysml:4ba0ad9e-a677-47db-af1d-b015e8f93aef\" xlink:type=\"simple\"><polygon fill=\"#FFFFFF\" filter=\"url(#f2fv6fkxpewak)\" points=\"16,6,151,6,158,28.2969,592,28.2969,592,293,16,293,16,6\" style=\"stroke: #000000; stroke-width: 1.5;\"/><line style=\"stroke: #000000; stroke-width: 1.5;\" x1=\"16\" x2=\"158\" y1=\"28.2969\" y2=\"28.2969\"/><text fill=\"#000000\" font-family=\"sans-serif\" font-size=\"14\" font-weight=\"bold\" lengthAdjust=\"spacingAndGlyphs\" textLength=\"129\" x=\"20\" y=\"20.9951\">ConjugationTest</text></a><!--MD5=[b4997ac47864f28c2f74865a473b2911]\n",
       "class E2--><a href=\"psysml:0d231d17-09c4-40d0-a4bc-6d43713d1eea\" target=\"_top\" title=\"psysml:0d231d17-09c4-40d0-a4bc-6d43713d1eea\" xlink:actuate=\"onRequest\" xlink:href=\"psysml:0d231d17-09c4-40d0-a4bc-6d43713d1eea\" xlink:show=\"new\" xlink:title=\"psysml:0d231d17-09c4-40d0-a4bc-6d43713d1eea\" xlink:type=\"simple\"><rect fill=\"#FEFECE\" filter=\"url(#f2fv6fkxpewak)\" height=\"45.9375\" id=\"E2\" style=\"stroke: #A80036; stroke-width: 1.5;\" width=\"66\" x=\"510\" y=\"62\"/><text fill=\"#000000\" font-family=\"sans-serif\" font-size=\"12\" font-style=\"italic\" lengthAdjust=\"spacingAndGlyphs\" textLength=\"64\" x=\"511\" y=\"78.1387\">«port def»</text><text fill=\"#000000\" font-family=\"sans-serif\" font-size=\"12\" lengthAdjust=\"spacingAndGlyphs\" textLength=\"8\" x=\"539\" y=\"92.1074\">P</text><line style=\"stroke: #A80036; stroke-width: 1.5;\" x1=\"511\" x2=\"575\" y1=\"99.9375\" y2=\"99.9375\"/></a><!--MD5=[09b614a08d8cba4a07c9adeb5e0fee81]\n",
       "class E3--><a href=\"psysml:1fca8384-68db-4c35-8908-d644a05ab33b\" target=\"_top\" title=\"psysml:1fca8384-68db-4c35-8908-d644a05ab33b\" xlink:actuate=\"onRequest\" xlink:href=\"psysml:1fca8384-68db-4c35-8908-d644a05ab33b\" xlink:show=\"new\" xlink:title=\"psysml:1fca8384-68db-4c35-8908-d644a05ab33b\" xlink:type=\"simple\"><rect fill=\"#FEFECE\" filter=\"url(#f2fv6fkxpewak)\" height=\"88.3516\" id=\"E3\" style=\"stroke: #A80036; stroke-width: 1.5;\" width=\"66\" x=\"409\" y=\"41\"/><text fill=\"#000000\" font-family=\"sans-serif\" font-size=\"12\" font-style=\"italic\" lengthAdjust=\"spacingAndGlyphs\" textLength=\"64\" x=\"410\" y=\"57.1387\">«part def»</text><text fill=\"#000000\" font-family=\"sans-serif\" font-size=\"12\" lengthAdjust=\"spacingAndGlyphs\" textLength=\"8\" x=\"438\" y=\"71.1074\">B</text><line style=\"stroke: #A80036; stroke-width: 1.5;\" x1=\"410\" x2=\"474\" y1=\"78.9375\" y2=\"78.9375\"/><text fill=\"#000000\" font-family=\"sans-serif\" font-size=\"11\" lengthAdjust=\"spacingAndGlyphs\" textLength=\"29\" x=\"415\" y=\"109.9526\">p1: P</text><text fill=\"#000000\" font-family=\"sans-serif\" font-size=\"11\" lengthAdjust=\"spacingAndGlyphs\" textLength=\"38\" x=\"415\" y=\"122.7573\">p2: ~P</text><line style=\"stroke: #A80036; stroke-width: 1.0;\" x1=\"410\" x2=\"427\" y1=\"93.3398\" y2=\"93.3398\"/><text fill=\"#000000\" font-family=\"sans-serif\" font-size=\"11\" lengthAdjust=\"spacingAndGlyphs\" textLength=\"30\" x=\"427\" y=\"96.6479\">ports</text><line style=\"stroke: #A80036; stroke-width: 1.0;\" x1=\"457\" x2=\"474\" y1=\"93.3398\" y2=\"93.3398\"/></a><!--MD5=[60a26617385b1d2d0262a64233df1f8d]\n",
       "class E6--><a href=\"psysml:d9048fa2-8c0d-4237-aabb-192a68938198\" target=\"_top\" title=\"psysml:d9048fa2-8c0d-4237-aabb-192a68938198\" xlink:actuate=\"onRequest\" xlink:href=\"psysml:d9048fa2-8c0d-4237-aabb-192a68938198\" xlink:show=\"new\" xlink:title=\"psysml:d9048fa2-8c0d-4237-aabb-192a68938198\" xlink:type=\"simple\"><rect fill=\"#FEFECE\" filter=\"url(#f2fv6fkxpewak)\" height=\"88.3516\" id=\"E6\" style=\"stroke: #A80036; stroke-width: 1.5;\" width=\"110\" x=\"264\" y=\"41\"/><text fill=\"#000000\" font-family=\"sans-serif\" font-size=\"12\" font-style=\"italic\" lengthAdjust=\"spacingAndGlyphs\" textLength=\"108\" x=\"265\" y=\"57.1387\">«connection def»</text><text fill=\"#000000\" font-family=\"sans-serif\" font-size=\"12\" lengthAdjust=\"spacingAndGlyphs\" textLength=\"8\" x=\"315\" y=\"71.1074\">A</text><line style=\"stroke: #A80036; stroke-width: 1.5;\" x1=\"265\" x2=\"373\" y1=\"78.9375\" y2=\"78.9375\"/><text fill=\"#000000\" font-family=\"sans-serif\" font-size=\"11\" lengthAdjust=\"spacingAndGlyphs\" textLength=\"29\" x=\"270\" y=\"109.9526\">p1: P</text><text fill=\"#000000\" font-family=\"sans-serif\" font-size=\"11\" lengthAdjust=\"spacingAndGlyphs\" textLength=\"38\" x=\"270\" y=\"122.7573\">p2: ~P</text><line style=\"stroke: #A80036; stroke-width: 1.0;\" x1=\"265\" x2=\"304\" y1=\"93.3398\" y2=\"93.3398\"/><text fill=\"#000000\" font-family=\"sans-serif\" font-size=\"11\" lengthAdjust=\"spacingAndGlyphs\" textLength=\"30\" x=\"304\" y=\"96.6479\">ports</text><line style=\"stroke: #A80036; stroke-width: 1.0;\" x1=\"334\" x2=\"373\" y1=\"93.3398\" y2=\"93.3398\"/></a><!--MD5=[fd4143e9d270a159db93a4ea2a975926]\n",
       "class E9--><a href=\"psysml:b68d4e65-0a25-4b32-9474-7d6b33189e06\" target=\"_top\" title=\"psysml:b68d4e65-0a25-4b32-9474-7d6b33189e06\" xlink:actuate=\"onRequest\" xlink:href=\"psysml:b68d4e65-0a25-4b32-9474-7d6b33189e06\" xlink:show=\"new\" xlink:title=\"psysml:b68d4e65-0a25-4b32-9474-7d6b33189e06\" xlink:type=\"simple\"><rect fill=\"#FEFECE\" filter=\"url(#f2fv6fkxpewak)\" height=\"88.3516\" id=\"E9\" style=\"stroke: #A80036; stroke-width: 1.5;\" width=\"96\" x=\"133\" y=\"41\"/><text fill=\"#000000\" font-family=\"sans-serif\" font-size=\"12\" font-style=\"italic\" lengthAdjust=\"spacingAndGlyphs\" textLength=\"94\" x=\"134\" y=\"57.1387\">«interface def»</text><text fill=\"#000000\" font-family=\"sans-serif\" font-size=\"12\" lengthAdjust=\"spacingAndGlyphs\" textLength=\"3\" x=\"179.5\" y=\"71.1074\">I</text><line style=\"stroke: #A80036; stroke-width: 1.5;\" x1=\"134\" x2=\"228\" y1=\"78.9375\" y2=\"78.9375\"/><text fill=\"#000000\" font-family=\"sans-serif\" font-size=\"11\" lengthAdjust=\"spacingAndGlyphs\" textLength=\"29\" x=\"139\" y=\"109.9526\">p1: P</text><text fill=\"#000000\" font-family=\"sans-serif\" font-size=\"11\" lengthAdjust=\"spacingAndGlyphs\" textLength=\"38\" x=\"139\" y=\"122.7573\">p2: ~P</text><line style=\"stroke: #A80036; stroke-width: 1.0;\" x1=\"134\" x2=\"166\" y1=\"93.3398\" y2=\"93.3398\"/><text fill=\"#000000\" font-family=\"sans-serif\" font-size=\"11\" lengthAdjust=\"spacingAndGlyphs\" textLength=\"30\" x=\"166\" y=\"96.6479\">ports</text><line style=\"stroke: #A80036; stroke-width: 1.0;\" x1=\"196\" x2=\"228\" y1=\"93.3398\" y2=\"93.3398\"/></a><!--MD5=[49a0ec8f00dab7302a31f22d0f0fe584]\n",
       "class E12--><a href=\"psysml:4bc8843d-d10d-4f46-93fe-21c75269e8aa\" target=\"_top\" title=\"psysml:4bc8843d-d10d-4f46-93fe-21c75269e8aa\" xlink:actuate=\"onRequest\" xlink:href=\"psysml:4bc8843d-d10d-4f46-93fe-21c75269e8aa\" xlink:show=\"new\" xlink:title=\"psysml:4bc8843d-d10d-4f46-93fe-21c75269e8aa\" xlink:type=\"simple\"><rect fill=\"#FEFECE\" filter=\"url(#f2fv6fkxpewak)\" height=\"45.9375\" id=\"E12\" style=\"stroke: #A80036; stroke-width: 1.5;\" width=\"66\" x=\"32\" y=\"62\"/><text fill=\"#000000\" font-family=\"sans-serif\" font-size=\"12\" font-style=\"italic\" lengthAdjust=\"spacingAndGlyphs\" textLength=\"64\" x=\"33\" y=\"78.1387\">«part def»</text><text fill=\"#000000\" font-family=\"sans-serif\" font-size=\"12\" lengthAdjust=\"spacingAndGlyphs\" textLength=\"16\" x=\"57\" y=\"92.1074\">B1</text><line style=\"stroke: #A80036; stroke-width: 1.5;\" x1=\"33\" x2=\"97\" y1=\"99.9375\" y2=\"99.9375\"/></a><!--MD5=[ee3c913d1a06f366521f9ef512b67efe]\n",
       "class E13--><a href=\"psysml:37b5f10a-21e5-48b2-b2b2-bc5c291ce903\" target=\"_top\" title=\"psysml:37b5f10a-21e5-48b2-b2b2-bc5c291ce903\" xlink:actuate=\"onRequest\" xlink:href=\"psysml:37b5f10a-21e5-48b2-b2b2-bc5c291ce903\" xlink:show=\"new\" xlink:title=\"psysml:37b5f10a-21e5-48b2-b2b2-bc5c291ce903\" xlink:type=\"simple\"><rect fill=\"#FEFECE\" filter=\"url(#f2fv6fkxpewak)\" height=\"88.3516\" id=\"E13\" rx=\"10\" ry=\"10\" style=\"stroke: #A80036; stroke-width: 1.5;\" width=\"50\" x=\"40\" y=\"189\"/><text fill=\"#000000\" font-family=\"sans-serif\" font-size=\"12\" font-style=\"italic\" lengthAdjust=\"spacingAndGlyphs\" textLength=\"40\" x=\"45\" y=\"205.1387\">«part»</text><text fill=\"#000000\" font-family=\"sans-serif\" font-size=\"12\" lengthAdjust=\"spacingAndGlyphs\" textLength=\"8\" x=\"61\" y=\"219.1074\">p</text><line style=\"stroke: #A80036; stroke-width: 1.5;\" x1=\"41\" x2=\"89\" y1=\"226.9375\" y2=\"226.9375\"/><text fill=\"#000000\" font-family=\"sans-serif\" font-size=\"11\" lengthAdjust=\"spacingAndGlyphs\" textLength=\"29\" x=\"46\" y=\"257.9526\">p1: P</text><text fill=\"#000000\" font-family=\"sans-serif\" font-size=\"11\" lengthAdjust=\"spacingAndGlyphs\" textLength=\"38\" x=\"46\" y=\"270.7573\">p2: ~P</text><line style=\"stroke: #A80036; stroke-width: 1.0;\" x1=\"41\" x2=\"50\" y1=\"241.3398\" y2=\"241.3398\"/><text fill=\"#000000\" font-family=\"sans-serif\" font-size=\"11\" lengthAdjust=\"spacingAndGlyphs\" textLength=\"30\" x=\"50\" y=\"244.6479\">ports</text><line style=\"stroke: #A80036; stroke-width: 1.0;\" x1=\"80\" x2=\"89\" y1=\"241.3398\" y2=\"241.3398\"/></a><!--MD5=[062ed86c389d1a88f61c6380d0491e17]\n",
       "reverse link E12 to E13--><a href=\"psysml:37b5f10a-21e5-48b2-b2b2-bc5c291ce903\" target=\"_top\" title=\"psysml:37b5f10a-21e5-48b2-b2b2-bc5c291ce903\" xlink:actuate=\"onRequest\" xlink:href=\"psysml:37b5f10a-21e5-48b2-b2b2-bc5c291ce903\" xlink:show=\"new\" xlink:title=\"psysml:37b5f10a-21e5-48b2-b2b2-bc5c291ce903\" xlink:type=\"simple\"><path d=\"M65,121.25 C65,141.54 65,167.2 65,188.71 \" fill=\"none\" id=\"E12&lt;-E13\" style=\"stroke: #A80036; stroke-width: 1.0;\"/><polygon fill=\"#A80036\" points=\"65,108.17,61,114.17,65,120.17,69,114.17,65,108.17\" style=\"stroke: #A80036; stroke-width: 1.0;\"/></a><!--MD5=[1e029ac0eb9351869c3ca4e8ce49763b]\n",
       "@startuml\r\n",
       "skinparam wrapWidth 300\r\n",
       "hide circle\r\n",
       "\r\n",
       "package \"ConjugationTest\" as E1  [[psysml:4ba0ad9e-a677-47db-af1d-b015e8f93aef ]]  {\r\n",
       "comp def \"P\" as E2  <<(T,blue)port def>> [[psysml:0d231d17-09c4-40d0-a4bc-6d43713d1eea ]] {\r\n",
       "}\r\n",
       "comp def \"B\" as E3  <<(T,blue)part def>> [[psysml:1fca8384-68db-4c35-8908-d644a05ab33b ]] {\r\n",
       "- - ports - -\r\n",
       "p1: P\r\n",
       "p2: ~P\r\n",
       "}\r\n",
       "comp def \"A\" as E6  <<(T,blue)connection def>> [[psysml:d9048fa2-8c0d-4237-aabb-192a68938198 ]] {\r\n",
       "- - ports - -\r\n",
       "p1: P\r\n",
       "p2: ~P\r\n",
       "}\r\n",
       "comp def \"I\" as E9  <<(T,blue)interface def>> [[psysml:b68d4e65-0a25-4b32-9474-7d6b33189e06 ]] {\r\n",
       "- - ports - -\r\n",
       "p1: P\r\n",
       "p2: ~P\r\n",
       "}\r\n",
       "comp def \"B1\" as E12  <<(T,blue)part def>> [[psysml:4bc8843d-d10d-4f46-93fe-21c75269e8aa ]] {\r\n",
       "}\r\n",
       "comp usage \"p\" as E13  <<(T,blue)part>> [[psysml:37b5f10a-21e5-48b2-b2b2-bc5c291ce903 ]] {\r\n",
       "- - ports - -\r\n",
       "p1: P\r\n",
       "p2: ~P\r\n",
       "}\r\n",
       "E12 *- - E13 [[psysml:37b5f10a-21e5-48b2-b2b2-bc5c291ce903 ]] \r\n",
       "}\r\n",
       "@enduml\r\n",
       "\n",
       "PlantUML version 1.2020.13(Sat Jun 13 12:26:38 UTC 2020)\n",
       "(EPL source distribution)\n",
       "Java Runtime: OpenJDK Runtime Environment\n",
       "JVM: OpenJDK 64-Bit Server VM\n",
       "Default Encoding: UTF-8\n",
       "Language: en\n",
       "Country: null\n",
       "--></g></svg>"
      ]
     },
     "execution_count": 23,
     "metadata": {},
     "output_type": "execute_result"
    }
   ],
   "source": [
    "%viz --style=\"STDCOLOR\" --view=\"Default\" \"ConjugationTest\""
   ]
  },
  {
   "cell_type": "code",
   "execution_count": 24,
   "id": "seven-rogers",
   "metadata": {
    "execution": {
     "iopub.execute_input": "2021-03-24T16:29:18.870408Z",
     "iopub.status.busy": "2021-03-24T16:29:18.869827Z",
     "iopub.status.idle": "2021-03-24T16:29:18.955076Z",
     "shell.execute_reply": "2021-03-24T16:29:18.954676Z"
    }
   },
   "outputs": [
    {
     "data": {
      "image/svg+xml": [
       "<?xml version=\"1.0\" encoding=\"UTF-8\" standalone=\"no\"?><svg xmlns=\"http://www.w3.org/2000/svg\" xmlns:xlink=\"http://www.w3.org/1999/xlink\" contentScriptType=\"application/ecmascript\" contentStyleType=\"text/css\" height=\"305px\" preserveAspectRatio=\"none\" style=\"width:614px;height:305px;\" version=\"1.1\" viewBox=\"0 0 614 305\" width=\"614px\" zoomAndPan=\"magnify\"><defs><filter height=\"300%\" id=\"f2fv6fkxpewak\" width=\"300%\" x=\"-1\" y=\"-1\"><feGaussianBlur result=\"blurOut\" stdDeviation=\"2.0\"/><feColorMatrix in=\"blurOut\" result=\"blurOut2\" type=\"matrix\" values=\"0 0 0 0 0 0 0 0 0 0 0 0 0 0 0 0 0 0 .4 0\"/><feOffset dx=\"4.0\" dy=\"4.0\" in=\"blurOut2\" result=\"blurOut3\"/><feBlend in=\"SourceGraphic\" in2=\"blurOut3\" mode=\"normal\"/></filter></defs><g><!--MD5=[fbc87193dbaf4d95561dea2c320d4a47]\n",
       "cluster E1--><a href=\"psysml:4ba0ad9e-a677-47db-af1d-b015e8f93aef\" target=\"_top\" title=\"psysml:4ba0ad9e-a677-47db-af1d-b015e8f93aef\" xlink:actuate=\"onRequest\" xlink:href=\"psysml:4ba0ad9e-a677-47db-af1d-b015e8f93aef\" xlink:show=\"new\" xlink:title=\"psysml:4ba0ad9e-a677-47db-af1d-b015e8f93aef\" xlink:type=\"simple\"><polygon fill=\"#FFFFFF\" filter=\"url(#f2fv6fkxpewak)\" points=\"16,6,151,6,158,28.2969,592,28.2969,592,293,16,293,16,6\" style=\"stroke: #000000; stroke-width: 1.5;\"/><line style=\"stroke: #000000; stroke-width: 1.5;\" x1=\"16\" x2=\"158\" y1=\"28.2969\" y2=\"28.2969\"/><text fill=\"#000000\" font-family=\"sans-serif\" font-size=\"14\" font-weight=\"bold\" lengthAdjust=\"spacingAndGlyphs\" textLength=\"129\" x=\"20\" y=\"20.9951\">ConjugationTest</text></a><!--MD5=[b4997ac47864f28c2f74865a473b2911]\n",
       "class E2--><a href=\"psysml:0d231d17-09c4-40d0-a4bc-6d43713d1eea\" target=\"_top\" title=\"psysml:0d231d17-09c4-40d0-a4bc-6d43713d1eea\" xlink:actuate=\"onRequest\" xlink:href=\"psysml:0d231d17-09c4-40d0-a4bc-6d43713d1eea\" xlink:show=\"new\" xlink:title=\"psysml:0d231d17-09c4-40d0-a4bc-6d43713d1eea\" xlink:type=\"simple\"><rect fill=\"#FEFECE\" filter=\"url(#f2fv6fkxpewak)\" height=\"45.9375\" id=\"E2\" style=\"stroke: #A80036; stroke-width: 1.5;\" width=\"66\" x=\"510\" y=\"62\"/><text fill=\"#000000\" font-family=\"sans-serif\" font-size=\"12\" font-style=\"italic\" lengthAdjust=\"spacingAndGlyphs\" textLength=\"64\" x=\"511\" y=\"78.1387\">«port def»</text><text fill=\"#000000\" font-family=\"sans-serif\" font-size=\"12\" lengthAdjust=\"spacingAndGlyphs\" textLength=\"8\" x=\"539\" y=\"92.1074\">P</text><line style=\"stroke: #A80036; stroke-width: 1.5;\" x1=\"511\" x2=\"575\" y1=\"99.9375\" y2=\"99.9375\"/></a><!--MD5=[09b614a08d8cba4a07c9adeb5e0fee81]\n",
       "class E3--><a href=\"psysml:1fca8384-68db-4c35-8908-d644a05ab33b\" target=\"_top\" title=\"psysml:1fca8384-68db-4c35-8908-d644a05ab33b\" xlink:actuate=\"onRequest\" xlink:href=\"psysml:1fca8384-68db-4c35-8908-d644a05ab33b\" xlink:show=\"new\" xlink:title=\"psysml:1fca8384-68db-4c35-8908-d644a05ab33b\" xlink:type=\"simple\"><rect fill=\"#FEFECE\" filter=\"url(#f2fv6fkxpewak)\" height=\"88.3516\" id=\"E3\" style=\"stroke: #A80036; stroke-width: 1.5;\" width=\"66\" x=\"409\" y=\"41\"/><text fill=\"#000000\" font-family=\"sans-serif\" font-size=\"12\" font-style=\"italic\" lengthAdjust=\"spacingAndGlyphs\" textLength=\"64\" x=\"410\" y=\"57.1387\">«part def»</text><text fill=\"#000000\" font-family=\"sans-serif\" font-size=\"12\" lengthAdjust=\"spacingAndGlyphs\" textLength=\"8\" x=\"438\" y=\"71.1074\">B</text><line style=\"stroke: #A80036; stroke-width: 1.5;\" x1=\"410\" x2=\"474\" y1=\"78.9375\" y2=\"78.9375\"/><text fill=\"#000000\" font-family=\"sans-serif\" font-size=\"11\" lengthAdjust=\"spacingAndGlyphs\" textLength=\"29\" x=\"415\" y=\"109.9526\">p1: P</text><text fill=\"#000000\" font-family=\"sans-serif\" font-size=\"11\" lengthAdjust=\"spacingAndGlyphs\" textLength=\"38\" x=\"415\" y=\"122.7573\">p2: ~P</text><line style=\"stroke: #A80036; stroke-width: 1.0;\" x1=\"410\" x2=\"427\" y1=\"93.3398\" y2=\"93.3398\"/><text fill=\"#000000\" font-family=\"sans-serif\" font-size=\"11\" lengthAdjust=\"spacingAndGlyphs\" textLength=\"30\" x=\"427\" y=\"96.6479\">ports</text><line style=\"stroke: #A80036; stroke-width: 1.0;\" x1=\"457\" x2=\"474\" y1=\"93.3398\" y2=\"93.3398\"/></a><!--MD5=[60a26617385b1d2d0262a64233df1f8d]\n",
       "class E6--><a href=\"psysml:d9048fa2-8c0d-4237-aabb-192a68938198\" target=\"_top\" title=\"psysml:d9048fa2-8c0d-4237-aabb-192a68938198\" xlink:actuate=\"onRequest\" xlink:href=\"psysml:d9048fa2-8c0d-4237-aabb-192a68938198\" xlink:show=\"new\" xlink:title=\"psysml:d9048fa2-8c0d-4237-aabb-192a68938198\" xlink:type=\"simple\"><rect fill=\"#FEFECE\" filter=\"url(#f2fv6fkxpewak)\" height=\"88.3516\" id=\"E6\" style=\"stroke: #A80036; stroke-width: 1.5;\" width=\"110\" x=\"264\" y=\"41\"/><text fill=\"#000000\" font-family=\"sans-serif\" font-size=\"12\" font-style=\"italic\" lengthAdjust=\"spacingAndGlyphs\" textLength=\"108\" x=\"265\" y=\"57.1387\">«connection def»</text><text fill=\"#000000\" font-family=\"sans-serif\" font-size=\"12\" lengthAdjust=\"spacingAndGlyphs\" textLength=\"8\" x=\"315\" y=\"71.1074\">A</text><line style=\"stroke: #A80036; stroke-width: 1.5;\" x1=\"265\" x2=\"373\" y1=\"78.9375\" y2=\"78.9375\"/><text fill=\"#000000\" font-family=\"sans-serif\" font-size=\"11\" lengthAdjust=\"spacingAndGlyphs\" textLength=\"29\" x=\"270\" y=\"109.9526\">p1: P</text><text fill=\"#000000\" font-family=\"sans-serif\" font-size=\"11\" lengthAdjust=\"spacingAndGlyphs\" textLength=\"38\" x=\"270\" y=\"122.7573\">p2: ~P</text><line style=\"stroke: #A80036; stroke-width: 1.0;\" x1=\"265\" x2=\"304\" y1=\"93.3398\" y2=\"93.3398\"/><text fill=\"#000000\" font-family=\"sans-serif\" font-size=\"11\" lengthAdjust=\"spacingAndGlyphs\" textLength=\"30\" x=\"304\" y=\"96.6479\">ports</text><line style=\"stroke: #A80036; stroke-width: 1.0;\" x1=\"334\" x2=\"373\" y1=\"93.3398\" y2=\"93.3398\"/></a><!--MD5=[fd4143e9d270a159db93a4ea2a975926]\n",
       "class E9--><a href=\"psysml:b68d4e65-0a25-4b32-9474-7d6b33189e06\" target=\"_top\" title=\"psysml:b68d4e65-0a25-4b32-9474-7d6b33189e06\" xlink:actuate=\"onRequest\" xlink:href=\"psysml:b68d4e65-0a25-4b32-9474-7d6b33189e06\" xlink:show=\"new\" xlink:title=\"psysml:b68d4e65-0a25-4b32-9474-7d6b33189e06\" xlink:type=\"simple\"><rect fill=\"#FEFECE\" filter=\"url(#f2fv6fkxpewak)\" height=\"88.3516\" id=\"E9\" style=\"stroke: #A80036; stroke-width: 1.5;\" width=\"96\" x=\"133\" y=\"41\"/><text fill=\"#000000\" font-family=\"sans-serif\" font-size=\"12\" font-style=\"italic\" lengthAdjust=\"spacingAndGlyphs\" textLength=\"94\" x=\"134\" y=\"57.1387\">«interface def»</text><text fill=\"#000000\" font-family=\"sans-serif\" font-size=\"12\" lengthAdjust=\"spacingAndGlyphs\" textLength=\"3\" x=\"179.5\" y=\"71.1074\">I</text><line style=\"stroke: #A80036; stroke-width: 1.5;\" x1=\"134\" x2=\"228\" y1=\"78.9375\" y2=\"78.9375\"/><text fill=\"#000000\" font-family=\"sans-serif\" font-size=\"11\" lengthAdjust=\"spacingAndGlyphs\" textLength=\"29\" x=\"139\" y=\"109.9526\">p1: P</text><text fill=\"#000000\" font-family=\"sans-serif\" font-size=\"11\" lengthAdjust=\"spacingAndGlyphs\" textLength=\"38\" x=\"139\" y=\"122.7573\">p2: ~P</text><line style=\"stroke: #A80036; stroke-width: 1.0;\" x1=\"134\" x2=\"166\" y1=\"93.3398\" y2=\"93.3398\"/><text fill=\"#000000\" font-family=\"sans-serif\" font-size=\"11\" lengthAdjust=\"spacingAndGlyphs\" textLength=\"30\" x=\"166\" y=\"96.6479\">ports</text><line style=\"stroke: #A80036; stroke-width: 1.0;\" x1=\"196\" x2=\"228\" y1=\"93.3398\" y2=\"93.3398\"/></a><!--MD5=[49a0ec8f00dab7302a31f22d0f0fe584]\n",
       "class E12--><a href=\"psysml:4bc8843d-d10d-4f46-93fe-21c75269e8aa\" target=\"_top\" title=\"psysml:4bc8843d-d10d-4f46-93fe-21c75269e8aa\" xlink:actuate=\"onRequest\" xlink:href=\"psysml:4bc8843d-d10d-4f46-93fe-21c75269e8aa\" xlink:show=\"new\" xlink:title=\"psysml:4bc8843d-d10d-4f46-93fe-21c75269e8aa\" xlink:type=\"simple\"><rect fill=\"#FEFECE\" filter=\"url(#f2fv6fkxpewak)\" height=\"45.9375\" id=\"E12\" style=\"stroke: #A80036; stroke-width: 1.5;\" width=\"66\" x=\"32\" y=\"62\"/><text fill=\"#000000\" font-family=\"sans-serif\" font-size=\"12\" font-style=\"italic\" lengthAdjust=\"spacingAndGlyphs\" textLength=\"64\" x=\"33\" y=\"78.1387\">«part def»</text><text fill=\"#000000\" font-family=\"sans-serif\" font-size=\"12\" lengthAdjust=\"spacingAndGlyphs\" textLength=\"16\" x=\"57\" y=\"92.1074\">B1</text><line style=\"stroke: #A80036; stroke-width: 1.5;\" x1=\"33\" x2=\"97\" y1=\"99.9375\" y2=\"99.9375\"/></a><!--MD5=[ee3c913d1a06f366521f9ef512b67efe]\n",
       "class E13--><a href=\"psysml:37b5f10a-21e5-48b2-b2b2-bc5c291ce903\" target=\"_top\" title=\"psysml:37b5f10a-21e5-48b2-b2b2-bc5c291ce903\" xlink:actuate=\"onRequest\" xlink:href=\"psysml:37b5f10a-21e5-48b2-b2b2-bc5c291ce903\" xlink:show=\"new\" xlink:title=\"psysml:37b5f10a-21e5-48b2-b2b2-bc5c291ce903\" xlink:type=\"simple\"><rect fill=\"#FEFECE\" filter=\"url(#f2fv6fkxpewak)\" height=\"88.3516\" id=\"E13\" rx=\"10\" ry=\"10\" style=\"stroke: #A80036; stroke-width: 1.5;\" width=\"50\" x=\"40\" y=\"189\"/><text fill=\"#000000\" font-family=\"sans-serif\" font-size=\"12\" font-style=\"italic\" lengthAdjust=\"spacingAndGlyphs\" textLength=\"40\" x=\"45\" y=\"205.1387\">«part»</text><text fill=\"#000000\" font-family=\"sans-serif\" font-size=\"12\" lengthAdjust=\"spacingAndGlyphs\" textLength=\"8\" x=\"61\" y=\"219.1074\">p</text><line style=\"stroke: #A80036; stroke-width: 1.5;\" x1=\"41\" x2=\"89\" y1=\"226.9375\" y2=\"226.9375\"/><text fill=\"#000000\" font-family=\"sans-serif\" font-size=\"11\" lengthAdjust=\"spacingAndGlyphs\" textLength=\"29\" x=\"46\" y=\"257.9526\">p1: P</text><text fill=\"#000000\" font-family=\"sans-serif\" font-size=\"11\" lengthAdjust=\"spacingAndGlyphs\" textLength=\"38\" x=\"46\" y=\"270.7573\">p2: ~P</text><line style=\"stroke: #A80036; stroke-width: 1.0;\" x1=\"41\" x2=\"50\" y1=\"241.3398\" y2=\"241.3398\"/><text fill=\"#000000\" font-family=\"sans-serif\" font-size=\"11\" lengthAdjust=\"spacingAndGlyphs\" textLength=\"30\" x=\"50\" y=\"244.6479\">ports</text><line style=\"stroke: #A80036; stroke-width: 1.0;\" x1=\"80\" x2=\"89\" y1=\"241.3398\" y2=\"241.3398\"/></a><!--MD5=[062ed86c389d1a88f61c6380d0491e17]\n",
       "reverse link E12 to E13--><a href=\"psysml:37b5f10a-21e5-48b2-b2b2-bc5c291ce903\" target=\"_top\" title=\"psysml:37b5f10a-21e5-48b2-b2b2-bc5c291ce903\" xlink:actuate=\"onRequest\" xlink:href=\"psysml:37b5f10a-21e5-48b2-b2b2-bc5c291ce903\" xlink:show=\"new\" xlink:title=\"psysml:37b5f10a-21e5-48b2-b2b2-bc5c291ce903\" xlink:type=\"simple\"><path d=\"M65,121.25 C65,141.54 65,167.2 65,188.71 \" fill=\"none\" id=\"E12&lt;-E13\" style=\"stroke: #A80036; stroke-width: 1.0;\"/><polygon fill=\"#A80036\" points=\"65,108.17,61,114.17,65,120.17,69,114.17,65,108.17\" style=\"stroke: #A80036; stroke-width: 1.0;\"/></a><!--MD5=[1e029ac0eb9351869c3ca4e8ce49763b]\n",
       "@startuml\r\n",
       "skinparam wrapWidth 300\r\n",
       "hide circle\r\n",
       "\r\n",
       "package \"ConjugationTest\" as E1  [[psysml:4ba0ad9e-a677-47db-af1d-b015e8f93aef ]]  {\r\n",
       "comp def \"P\" as E2  <<(T,blue)port def>> [[psysml:0d231d17-09c4-40d0-a4bc-6d43713d1eea ]] {\r\n",
       "}\r\n",
       "comp def \"B\" as E3  <<(T,blue)part def>> [[psysml:1fca8384-68db-4c35-8908-d644a05ab33b ]] {\r\n",
       "- - ports - -\r\n",
       "p1: P\r\n",
       "p2: ~P\r\n",
       "}\r\n",
       "comp def \"A\" as E6  <<(T,blue)connection def>> [[psysml:d9048fa2-8c0d-4237-aabb-192a68938198 ]] {\r\n",
       "- - ports - -\r\n",
       "p1: P\r\n",
       "p2: ~P\r\n",
       "}\r\n",
       "comp def \"I\" as E9  <<(T,blue)interface def>> [[psysml:b68d4e65-0a25-4b32-9474-7d6b33189e06 ]] {\r\n",
       "- - ports - -\r\n",
       "p1: P\r\n",
       "p2: ~P\r\n",
       "}\r\n",
       "comp def \"B1\" as E12  <<(T,blue)part def>> [[psysml:4bc8843d-d10d-4f46-93fe-21c75269e8aa ]] {\r\n",
       "}\r\n",
       "comp usage \"p\" as E13  <<(T,blue)part>> [[psysml:37b5f10a-21e5-48b2-b2b2-bc5c291ce903 ]] {\r\n",
       "- - ports - -\r\n",
       "p1: P\r\n",
       "p2: ~P\r\n",
       "}\r\n",
       "E12 *- - E13 [[psysml:37b5f10a-21e5-48b2-b2b2-bc5c291ce903 ]] \r\n",
       "}\r\n",
       "@enduml\r\n",
       "\n",
       "PlantUML version 1.2020.13(Sat Jun 13 12:26:38 UTC 2020)\n",
       "(EPL source distribution)\n",
       "Java Runtime: OpenJDK Runtime Environment\n",
       "JVM: OpenJDK 64-Bit Server VM\n",
       "Default Encoding: UTF-8\n",
       "Language: en\n",
       "Country: null\n",
       "--></g></svg>"
      ]
     },
     "execution_count": 24,
     "metadata": {},
     "output_type": "execute_result"
    }
   ],
   "source": [
    "%viz --style=\"STDCOLOR\" --view=\"Tree\" \"ConjugationTest\""
   ]
  },
  {
   "cell_type": "code",
   "execution_count": 25,
   "id": "biological-sandwich",
   "metadata": {
    "execution": {
     "iopub.execute_input": "2021-03-24T16:29:19.005144Z",
     "iopub.status.busy": "2021-03-24T16:29:19.004543Z",
     "iopub.status.idle": "2021-03-24T16:29:19.008649Z",
     "shell.execute_reply": "2021-03-24T16:29:19.009000Z"
    }
   },
   "outputs": [
    {
     "data": {
      "image/svg+xml": [
       "<?xml version=\"1.0\" encoding=\"UTF-8\" standalone=\"no\"?><svg xmlns=\"http://www.w3.org/2000/svg\" xmlns:xlink=\"http://www.w3.org/1999/xlink\" contentScriptType=\"application/ecmascript\" contentStyleType=\"text/css\" height=\"12px\" preserveAspectRatio=\"none\" style=\"width:12px;height:12px;\" version=\"1.1\" viewBox=\"0 0 12 12\" width=\"12px\" zoomAndPan=\"magnify\"><defs/><g><!--MD5=[aeeef50f102b80d730deb6443d14f702]\n",
       "@startuml\r\n",
       "skinparam wrapWidth 300\r\n",
       "hide circle\r\n",
       "\r\n",
       "@enduml\r\n",
       "\n",
       "PlantUML version 1.2020.13(Sat Jun 13 12:26:38 UTC 2020)\n",
       "(EPL source distribution)\n",
       "Java Runtime: OpenJDK Runtime Environment\n",
       "JVM: OpenJDK 64-Bit Server VM\n",
       "Default Encoding: UTF-8\n",
       "Language: en\n",
       "Country: null\n",
       "--></g></svg>"
      ]
     },
     "execution_count": 25,
     "metadata": {},
     "output_type": "execute_result"
    }
   ],
   "source": [
    "%viz --style=\"STDCOLOR\" --view=\"State\" \"ConjugationTest\""
   ]
  },
  {
   "cell_type": "code",
   "execution_count": 26,
   "id": "favorite-belize",
   "metadata": {
    "execution": {
     "iopub.execute_input": "2021-03-24T16:29:19.059429Z",
     "iopub.status.busy": "2021-03-24T16:29:19.059080Z",
     "iopub.status.idle": "2021-03-24T16:29:19.098923Z",
     "shell.execute_reply": "2021-03-24T16:29:19.098620Z"
    }
   },
   "outputs": [
    {
     "data": {
      "image/svg+xml": [
       "<?xml version=\"1.0\" encoding=\"UTF-8\" standalone=\"no\"?><svg xmlns=\"http://www.w3.org/2000/svg\" xmlns:xlink=\"http://www.w3.org/1999/xlink\" contentScriptType=\"application/ecmascript\" contentStyleType=\"text/css\" height=\"246px\" preserveAspectRatio=\"none\" style=\"width:739px;height:246px;\" version=\"1.1\" viewBox=\"0 0 739 246\" width=\"739px\" zoomAndPan=\"magnify\"><defs><filter height=\"300%\" id=\"f17fwlwzinmvlh\" width=\"300%\" x=\"-1\" y=\"-1\"><feGaussianBlur result=\"blurOut\" stdDeviation=\"2.0\"/><feColorMatrix in=\"blurOut\" result=\"blurOut2\" type=\"matrix\" values=\"0 0 0 0 0 0 0 0 0 0 0 0 0 0 0 0 0 0 .4 0\"/><feOffset dx=\"4.0\" dy=\"4.0\" in=\"blurOut2\" result=\"blurOut3\"/><feBlend in=\"SourceGraphic\" in2=\"blurOut3\" mode=\"normal\"/></filter></defs><g><!--MD5=[fbc87193dbaf4d95561dea2c320d4a47]\n",
       "cluster E1--><a href=\"psysml:4ba0ad9e-a677-47db-af1d-b015e8f93aef\" target=\"_top\" title=\"psysml:4ba0ad9e-a677-47db-af1d-b015e8f93aef\" xlink:actuate=\"onRequest\" xlink:href=\"psysml:4ba0ad9e-a677-47db-af1d-b015e8f93aef\" xlink:show=\"new\" xlink:title=\"psysml:4ba0ad9e-a677-47db-af1d-b015e8f93aef\" xlink:type=\"simple\"><polygon fill=\"#FFFFFF\" filter=\"url(#f17fwlwzinmvlh)\" points=\"16,6,151,6,158,28.2969,717,28.2969,717,234.5,16,234.5,16,6\" style=\"stroke: #000000; stroke-width: 1.5;\"/><line style=\"stroke: #000000; stroke-width: 1.5;\" x1=\"16\" x2=\"158\" y1=\"28.2969\" y2=\"28.2969\"/><text fill=\"#000000\" font-family=\"sans-serif\" font-size=\"14\" font-weight=\"bold\" lengthAdjust=\"spacingAndGlyphs\" textLength=\"129\" x=\"20\" y=\"20.9951\">ConjugationTest</text></a><!--MD5=[d5e69f78d87373223dbae638b30a9c99]\n",
       "cluster E3--><a href=\"psysml:1fca8384-68db-4c35-8908-d644a05ab33b\" target=\"_top\" title=\"psysml:1fca8384-68db-4c35-8908-d644a05ab33b\" xlink:actuate=\"onRequest\" xlink:href=\"psysml:1fca8384-68db-4c35-8908-d644a05ab33b\" xlink:show=\"new\" xlink:title=\"psysml:1fca8384-68db-4c35-8908-d644a05ab33b\" xlink:type=\"simple\"><rect fill=\"#FFFFFF\" filter=\"url(#f17fwlwzinmvlh)\" height=\"88.5\" id=\"E3\" style=\"stroke: #A80036; stroke-width: 1.5;\" width=\"83\" x=\"577\" y=\"114\"/><rect fill=\"#FEFECE\" height=\"37.9375\" style=\"stroke: #A80036; stroke-width: 1.5;\" width=\"83\" x=\"577\" y=\"114\"/><text fill=\"#000000\" font-family=\"sans-serif\" font-size=\"12\" font-style=\"italic\" lengthAdjust=\"spacingAndGlyphs\" textLength=\"64\" x=\"586.5\" y=\"130.1387\">«part def»</text><text fill=\"#000000\" font-family=\"sans-serif\" font-size=\"12\" lengthAdjust=\"spacingAndGlyphs\" textLength=\"8\" x=\"614.5\" y=\"144.1074\">B</text></a><!--MD5=[14e3b0961a2654348d326746436168a1]\n",
       "cluster E6--><a href=\"psysml:d9048fa2-8c0d-4237-aabb-192a68938198\" target=\"_top\" title=\"psysml:d9048fa2-8c0d-4237-aabb-192a68938198\" xlink:actuate=\"onRequest\" xlink:href=\"psysml:d9048fa2-8c0d-4237-aabb-192a68938198\" xlink:show=\"new\" xlink:title=\"psysml:d9048fa2-8c0d-4237-aabb-192a68938198\" xlink:type=\"simple\"><rect fill=\"#FFFFFF\" filter=\"url(#f17fwlwzinmvlh)\" height=\"88.5\" id=\"E6\" style=\"stroke: #A80036; stroke-width: 1.5;\" width=\"150\" x=\"423\" y=\"114\"/><rect fill=\"#FEFECE\" height=\"37.9375\" style=\"stroke: #A80036; stroke-width: 1.5;\" width=\"150\" x=\"423\" y=\"114\"/><text fill=\"#000000\" font-family=\"sans-serif\" font-size=\"12\" font-style=\"italic\" lengthAdjust=\"spacingAndGlyphs\" textLength=\"108\" x=\"444\" y=\"130.1387\">«connection def»</text><text fill=\"#000000\" font-family=\"sans-serif\" font-size=\"12\" lengthAdjust=\"spacingAndGlyphs\" textLength=\"8\" x=\"494\" y=\"144.1074\">A</text></a><!--MD5=[7f149f147074ac12df2cb0a7728a5fb0]\n",
       "cluster E9--><a href=\"psysml:b68d4e65-0a25-4b32-9474-7d6b33189e06\" target=\"_top\" title=\"psysml:b68d4e65-0a25-4b32-9474-7d6b33189e06\" xlink:actuate=\"onRequest\" xlink:href=\"psysml:b68d4e65-0a25-4b32-9474-7d6b33189e06\" xlink:show=\"new\" xlink:title=\"psysml:b68d4e65-0a25-4b32-9474-7d6b33189e06\" xlink:type=\"simple\"><rect fill=\"#FFFFFF\" filter=\"url(#f17fwlwzinmvlh)\" height=\"88.5\" id=\"E9\" style=\"stroke: #A80036; stroke-width: 1.5;\" width=\"141\" x=\"254\" y=\"114\"/><rect fill=\"#FEFECE\" height=\"37.9375\" style=\"stroke: #A80036; stroke-width: 1.5;\" width=\"141\" x=\"254\" y=\"114\"/><text fill=\"#000000\" font-family=\"sans-serif\" font-size=\"12\" font-style=\"italic\" lengthAdjust=\"spacingAndGlyphs\" textLength=\"94\" x=\"277.5\" y=\"130.1387\">«interface def»</text><text fill=\"#000000\" font-family=\"sans-serif\" font-size=\"12\" lengthAdjust=\"spacingAndGlyphs\" textLength=\"3\" x=\"323\" y=\"144.1074\">I</text></a><!--MD5=[47bea60c1a0ac6c1143df232041969c0]\n",
       "cluster E12--><a href=\"psysml:4bc8843d-d10d-4f46-93fe-21c75269e8aa\" target=\"_top\" title=\"psysml:4bc8843d-d10d-4f46-93fe-21c75269e8aa\" xlink:actuate=\"onRequest\" xlink:href=\"psysml:4bc8843d-d10d-4f46-93fe-21c75269e8aa\" xlink:show=\"new\" xlink:title=\"psysml:4bc8843d-d10d-4f46-93fe-21c75269e8aa\" xlink:type=\"simple\"><rect fill=\"#FFFFFF\" filter=\"url(#f17fwlwzinmvlh)\" height=\"161.5\" id=\"E12\" style=\"stroke: #A80036; stroke-width: 1.5;\" width=\"107\" x=\"120\" y=\"49\"/><rect fill=\"#FEFECE\" height=\"37.9375\" style=\"stroke: #A80036; stroke-width: 1.5;\" width=\"107\" x=\"120\" y=\"49\"/><text fill=\"#000000\" font-family=\"sans-serif\" font-size=\"12\" font-style=\"italic\" lengthAdjust=\"spacingAndGlyphs\" textLength=\"64\" x=\"141.5\" y=\"65.1387\">«part def»</text><text fill=\"#000000\" font-family=\"sans-serif\" font-size=\"12\" lengthAdjust=\"spacingAndGlyphs\" textLength=\"16\" x=\"165.5\" y=\"79.1074\">B1</text></a><!--MD5=[03104f77b71e2d8d3500c651e6e31181]\n",
       "cluster E13--><a href=\"psysml:37b5f10a-21e5-48b2-b2b2-bc5c291ce903\" target=\"_top\" title=\"psysml:37b5f10a-21e5-48b2-b2b2-bc5c291ce903\" xlink:actuate=\"onRequest\" xlink:href=\"psysml:37b5f10a-21e5-48b2-b2b2-bc5c291ce903\" xlink:show=\"new\" xlink:title=\"psysml:37b5f10a-21e5-48b2-b2b2-bc5c291ce903\" xlink:type=\"simple\"><rect fill=\"#FFFFFF\" filter=\"url(#f17fwlwzinmvlh)\" height=\"80.5\" id=\"E13\" rx=\"10\" ry=\"10\" style=\"stroke: #A80036; stroke-width: 1.5;\" width=\"83\" x=\"132\" y=\"114\"/><rect fill=\"#FEFECE\" height=\"23.9688\" rx=\"10\" ry=\"10\" style=\"stroke: #FEFECE; stroke-width: 1.5;\" width=\"83\" x=\"132\" y=\"114\"/><rect fill=\"#FEFECE\" height=\"10\" style=\"stroke: #FEFECE; stroke-width: 1.5;\" width=\"83\" x=\"132\" y=\"127.9688\"/><rect fill=\"none\" height=\"80.5\" id=\"E13\" rx=\"10\" ry=\"10\" style=\"stroke: #A80036; stroke-width: 1.5;\" width=\"83\" x=\"132\" y=\"114\"/><text fill=\"#000000\" font-family=\"sans-serif\" font-size=\"12\" lengthAdjust=\"spacingAndGlyphs\" textLength=\"8\" x=\"169.5\" y=\"130.1387\">p</text><line style=\"stroke: #A80036; stroke-width: 1.0;\" x1=\"132\" x2=\"215\" y1=\"137.9688\" y2=\"137.9688\"/></a><g id=\"E1.E2\"><a href=\"psysml:0d231d17-09c4-40d0-a4bc-6d43713d1eea\" target=\"_top\" title=\"psysml:0d231d17-09c4-40d0-a4bc-6d43713d1eea\" xlink:actuate=\"onRequest\" xlink:href=\"psysml:0d231d17-09c4-40d0-a4bc-6d43713d1eea\" xlink:show=\"new\" xlink:title=\"psysml:0d231d17-09c4-40d0-a4bc-6d43713d1eea\" xlink:type=\"simple\"><rect fill=\"#FEFECE\" filter=\"url(#f17fwlwzinmvlh)\" height=\"42.9375\" id=\"E2\" style=\"stroke: #A80036; stroke-width: 1.5;\" width=\"71\" x=\"32.5\" y=\"92.5\"/><text fill=\"#000000\" font-family=\"sans-serif\" font-size=\"12\" font-style=\"italic\" lengthAdjust=\"spacingAndGlyphs\" textLength=\"64\" x=\"36\" y=\"108.6387\">«port def»</text><text fill=\"#000000\" font-family=\"sans-serif\" font-size=\"12\" lengthAdjust=\"spacingAndGlyphs\" textLength=\"8\" x=\"64\" y=\"122.6074\">P</text></a></g><text fill=\"#000000\" font-family=\"sans-serif\" font-size=\"14\" lengthAdjust=\"spacingAndGlyphs\" textLength=\"36\" x=\"577\" y=\"92.6982\">p1: P</text><rect fill=\"#A80036\" height=\"12\" style=\"stroke: #FEFECE; stroke-width: 1.5;\" width=\"12\" x=\"589\" y=\"108\"/><text fill=\"#000000\" font-family=\"sans-serif\" font-size=\"14\" lengthAdjust=\"spacingAndGlyphs\" textLength=\"48\" x=\"618\" y=\"92.6982\">p2: ~P</text><rect fill=\"#A80036\" height=\"12\" style=\"stroke: #FEFECE; stroke-width: 1.5;\" width=\"12\" x=\"636\" y=\"108\"/><text fill=\"#000000\" font-family=\"sans-serif\" font-size=\"14\" lengthAdjust=\"spacingAndGlyphs\" textLength=\"36\" x=\"423\" y=\"92.6982\">p1: P</text><rect fill=\"#A80036\" height=\"12\" style=\"stroke: #FEFECE; stroke-width: 1.5;\" width=\"12\" x=\"435\" y=\"108\"/><text fill=\"#000000\" font-family=\"sans-serif\" font-size=\"14\" lengthAdjust=\"spacingAndGlyphs\" textLength=\"48\" x=\"464\" y=\"92.6982\">p2: ~P</text><rect fill=\"#A80036\" height=\"12\" style=\"stroke: #FEFECE; stroke-width: 1.5;\" width=\"12\" x=\"482\" y=\"108\"/><text fill=\"#000000\" font-family=\"sans-serif\" font-size=\"14\" lengthAdjust=\"spacingAndGlyphs\" textLength=\"36\" x=\"254\" y=\"92.6982\">p1: P</text><rect fill=\"#A80036\" height=\"12\" style=\"stroke: #FEFECE; stroke-width: 1.5;\" width=\"12\" x=\"266\" y=\"108\"/><text fill=\"#000000\" font-family=\"sans-serif\" font-size=\"14\" lengthAdjust=\"spacingAndGlyphs\" textLength=\"48\" x=\"295\" y=\"92.6982\">p2: ~P</text><rect fill=\"#A80036\" height=\"12\" style=\"stroke: #FEFECE; stroke-width: 1.5;\" width=\"12\" x=\"313\" y=\"108\"/><text fill=\"#000000\" font-family=\"sans-serif\" font-size=\"14\" lengthAdjust=\"spacingAndGlyphs\" textLength=\"36\" x=\"132\" y=\"92.6982\">p1: P</text><rect fill=\"#A80036\" height=\"12\" style=\"stroke: #FEFECE; stroke-width: 1.5;\" width=\"12\" x=\"144\" y=\"108\"/><text fill=\"#000000\" font-family=\"sans-serif\" font-size=\"14\" lengthAdjust=\"spacingAndGlyphs\" textLength=\"48\" x=\"173\" y=\"92.6982\">p2: ~P</text><rect fill=\"#A80036\" height=\"12\" style=\"stroke: #FEFECE; stroke-width: 1.5;\" width=\"12\" x=\"191\" y=\"108\"/><!--MD5=[4ce51ac6fa4cf5202df3859e2718f033]\n",
       "link E15 to E14--><a href=\"psysml:8d97a70f-8cd3-421a-99bb-bcc3f52cef04\" target=\"_top\" title=\"psysml:8d97a70f-8cd3-421a-99bb-bcc3f52cef04\" xlink:actuate=\"onRequest\" xlink:href=\"psysml:8d97a70f-8cd3-421a-99bb-bcc3f52cef04\" xlink:show=\"new\" xlink:title=\"psysml:8d97a70f-8cd3-421a-99bb-bcc3f52cef04\" xlink:type=\"simple\"><path d=\"M190.95,114 C179.38,114 167.81,114 156.24,114 \" fill=\"none\" id=\"E15-E14\" style=\"stroke: #A80036; stroke-width: 3.0;\"/></a><!--MD5=[4ce51ac6fa4cf5202df3859e2718f033]\n",
       "link E15 to E14--><a href=\"psysml:4e5d56fb-a30b-410a-93da-f699910e5442\" target=\"_top\" title=\"psysml:4e5d56fb-a30b-410a-93da-f699910e5442\" xlink:actuate=\"onRequest\" xlink:href=\"psysml:4e5d56fb-a30b-410a-93da-f699910e5442\" xlink:show=\"new\" xlink:title=\"psysml:4e5d56fb-a30b-410a-93da-f699910e5442\" xlink:type=\"simple\"><path d=\"M190.95,111.98 C179.38,108.69 167.81,108.67 156.24,111.93 \" fill=\"none\" id=\"E15-E14-1\" style=\"stroke: #A80036; stroke-width: 3.0;\"/></a><!--MD5=[e4c8d72549ee1d9d5aa11577f5b019ce]\n",
       "@startuml\r\n",
       "skinparam ranksep 10\r\n",
       "skinparam rectangle {\r\n",
       " backgroundColor<<block>> LightGreen\r\n",
       "}\r\n",
       "skinparam wrapWidth 300\r\n",
       "hide circle\r\n",
       "\r\n",
       "package \"ConjugationTest\" as E1  [[psysml:4ba0ad9e-a677-47db-af1d-b015e8f93aef ]]  {\r\n",
       "def \"P\" as E2  <<(T,blue)port def>> [[psysml:0d231d17-09c4-40d0-a4bc-6d43713d1eea ]] \r\n",
       "rec def \"B\" as E3  <<(T,blue)part def>> [[psysml:1fca8384-68db-4c35-8908-d644a05ab33b ]] {\r\n",
       "portin \"p1: P\" as E4  <<(T,blue)port>> [[psysml:ac9a4e52-d9d9-4ed8-9786-da9347d8a24d ]] \r\n",
       "portin \"p2: ~P\" as E5  <<(T,blue)port>> [[psysml:dd7140d6-57c4-455c-b235-fe627e1ecfff ]] \r\n",
       "}\r\n",
       "rec def \"A\" as E6  <<(T,blue)connection def>> [[psysml:d9048fa2-8c0d-4237-aabb-192a68938198 ]] {\r\n",
       "portin \"p1: P\" as E7  <<(T,blue)port>> [[psysml:135e4066-7c15-417d-820e-373a33adf188 ]] \r\n",
       "portin \"p2: ~P\" as E8  <<(T,blue)port>> [[psysml:242160d8-1eb8-4593-9cf8-95e70ea0b9fa ]] \r\n",
       "}\r\n",
       "rec def \"I\" as E9  <<(T,blue)interface def>> [[psysml:b68d4e65-0a25-4b32-9474-7d6b33189e06 ]] {\r\n",
       "portin \"p1: P\" as E10  <<(T,blue)port>> [[psysml:c610f798-3696-48d0-b489-00c6b6b02c5c ]] \r\n",
       "portin \"p2: ~P\" as E11  <<(T,blue)port>> [[psysml:82b7a088-1726-4de6-92a0-2f3113dfc02a ]] \r\n",
       "}\r\n",
       "rec def \"B1\" as E12  <<(T,blue)part def>> [[psysml:4bc8843d-d10d-4f46-93fe-21c75269e8aa ]] {\r\n",
       "rec usage \"p\" as E13  [[psysml:37b5f10a-21e5-48b2-b2b2-bc5c291ce903 ]] {\r\n",
       "portin \"p1: P\" as E14  <<(T,blue)port>> [[psysml:c9e1cbea-e956-4380-9b02-2ad2a26c5224 ]] \r\n",
       "portin \"p2: ~P\" as E15  <<(T,blue)port>> [[psysml:91fc773b-55a8-419c-8531-23cd35b1b670 ]] \r\n",
       "}\r\n",
       "}\r\n",
       "E15 -[thickness=3]- E14 [[psysml:8d97a70f-8cd3-421a-99bb-bcc3f52cef04 ]] \r\n",
       "E15 -[thickness=3]- E14 [[psysml:4e5d56fb-a30b-410a-93da-f699910e5442 ]] \r\n",
       "}\r\n",
       "@enduml\r\n",
       "\n",
       "PlantUML version 1.2020.13(Sat Jun 13 12:26:38 UTC 2020)\n",
       "(EPL source distribution)\n",
       "Java Runtime: OpenJDK Runtime Environment\n",
       "JVM: OpenJDK 64-Bit Server VM\n",
       "Default Encoding: UTF-8\n",
       "Language: en\n",
       "Country: null\n",
       "--></g></svg>"
      ]
     },
     "execution_count": 26,
     "metadata": {},
     "output_type": "execute_result"
    }
   ],
   "source": [
    "%viz --style=\"STDCOLOR\" --view=\"Interconnection\" \"ConjugationTest\""
   ]
  },
  {
   "cell_type": "code",
   "execution_count": 27,
   "id": "earned-fitness",
   "metadata": {
    "execution": {
     "iopub.execute_input": "2021-03-24T16:29:19.149649Z",
     "iopub.status.busy": "2021-03-24T16:29:19.149272Z",
     "iopub.status.idle": "2021-03-24T16:29:19.154312Z",
     "shell.execute_reply": "2021-03-24T16:29:19.154634Z"
    }
   },
   "outputs": [
    {
     "data": {
      "image/svg+xml": [
       "<?xml version=\"1.0\" encoding=\"UTF-8\" standalone=\"no\"?><svg xmlns=\"http://www.w3.org/2000/svg\" xmlns:xlink=\"http://www.w3.org/1999/xlink\" contentScriptType=\"application/ecmascript\" contentStyleType=\"text/css\" height=\"12px\" preserveAspectRatio=\"none\" style=\"width:12px;height:12px;\" version=\"1.1\" viewBox=\"0 0 12 12\" width=\"12px\" zoomAndPan=\"magnify\"><defs/><g><!--MD5=[9863325348a96a77dacc89509d8ee65e]\n",
       "@startuml\r\n",
       "skinparam ranksep 8\r\n",
       "skinparam wrapWidth 300\r\n",
       "hide circle\r\n",
       "\r\n",
       "@enduml\r\n",
       "\n",
       "PlantUML version 1.2020.13(Sat Jun 13 12:26:38 UTC 2020)\n",
       "(EPL source distribution)\n",
       "Java Runtime: OpenJDK Runtime Environment\n",
       "JVM: OpenJDK 64-Bit Server VM\n",
       "Default Encoding: UTF-8\n",
       "Language: en\n",
       "Country: null\n",
       "--></g></svg>"
      ]
     },
     "execution_count": 27,
     "metadata": {},
     "output_type": "execute_result"
    }
   ],
   "source": [
    "%viz --style=\"STDCOLOR\" --view=\"Action\" \"ConjugationTest\""
   ]
  },
  {
   "cell_type": "code",
   "execution_count": 28,
   "id": "piano-stupid",
   "metadata": {
    "execution": {
     "iopub.execute_input": "2021-03-24T16:29:19.207108Z",
     "iopub.status.busy": "2021-03-24T16:29:19.206281Z",
     "iopub.status.idle": "2021-03-24T16:29:19.299217Z",
     "shell.execute_reply": "2021-03-24T16:29:19.299551Z"
    }
   },
   "outputs": [
    {
     "data": {
      "image/svg+xml": [
       "<?xml version=\"1.0\" encoding=\"UTF-8\" standalone=\"no\"?><svg xmlns=\"http://www.w3.org/2000/svg\" xmlns:xlink=\"http://www.w3.org/1999/xlink\" contentScriptType=\"application/ecmascript\" contentStyleType=\"text/css\" height=\"305px\" preserveAspectRatio=\"none\" style=\"width:614px;height:305px;\" version=\"1.1\" viewBox=\"0 0 614 305\" width=\"614px\" zoomAndPan=\"magnify\"><defs><filter height=\"300%\" id=\"f2fv6fkxpewak\" width=\"300%\" x=\"-1\" y=\"-1\"><feGaussianBlur result=\"blurOut\" stdDeviation=\"2.0\"/><feColorMatrix in=\"blurOut\" result=\"blurOut2\" type=\"matrix\" values=\"0 0 0 0 0 0 0 0 0 0 0 0 0 0 0 0 0 0 .4 0\"/><feOffset dx=\"4.0\" dy=\"4.0\" in=\"blurOut2\" result=\"blurOut3\"/><feBlend in=\"SourceGraphic\" in2=\"blurOut3\" mode=\"normal\"/></filter></defs><g><!--MD5=[fbc87193dbaf4d95561dea2c320d4a47]\n",
       "cluster E1--><a href=\"psysml:4ba0ad9e-a677-47db-af1d-b015e8f93aef\" target=\"_top\" title=\"psysml:4ba0ad9e-a677-47db-af1d-b015e8f93aef\" xlink:actuate=\"onRequest\" xlink:href=\"psysml:4ba0ad9e-a677-47db-af1d-b015e8f93aef\" xlink:show=\"new\" xlink:title=\"psysml:4ba0ad9e-a677-47db-af1d-b015e8f93aef\" xlink:type=\"simple\"><polygon fill=\"#FFFFFF\" filter=\"url(#f2fv6fkxpewak)\" points=\"16,6,151,6,158,28.2969,592,28.2969,592,293,16,293,16,6\" style=\"stroke: #000000; stroke-width: 1.5;\"/><line style=\"stroke: #000000; stroke-width: 1.5;\" x1=\"16\" x2=\"158\" y1=\"28.2969\" y2=\"28.2969\"/><text fill=\"#000000\" font-family=\"sans-serif\" font-size=\"14\" font-weight=\"bold\" lengthAdjust=\"spacingAndGlyphs\" textLength=\"129\" x=\"20\" y=\"20.9951\">ConjugationTest</text></a><!--MD5=[b4997ac47864f28c2f74865a473b2911]\n",
       "class E2--><a href=\"psysml:0d231d17-09c4-40d0-a4bc-6d43713d1eea\" target=\"_top\" title=\"psysml:0d231d17-09c4-40d0-a4bc-6d43713d1eea\" xlink:actuate=\"onRequest\" xlink:href=\"psysml:0d231d17-09c4-40d0-a4bc-6d43713d1eea\" xlink:show=\"new\" xlink:title=\"psysml:0d231d17-09c4-40d0-a4bc-6d43713d1eea\" xlink:type=\"simple\"><rect fill=\"#FEFECE\" filter=\"url(#f2fv6fkxpewak)\" height=\"45.9375\" id=\"E2\" style=\"stroke: #A80036; stroke-width: 1.5;\" width=\"66\" x=\"510\" y=\"62\"/><text fill=\"#000000\" font-family=\"sans-serif\" font-size=\"12\" font-style=\"italic\" lengthAdjust=\"spacingAndGlyphs\" textLength=\"64\" x=\"511\" y=\"78.1387\">«port def»</text><text fill=\"#000000\" font-family=\"sans-serif\" font-size=\"12\" lengthAdjust=\"spacingAndGlyphs\" textLength=\"8\" x=\"539\" y=\"92.1074\">P</text><line style=\"stroke: #A80036; stroke-width: 1.5;\" x1=\"511\" x2=\"575\" y1=\"99.9375\" y2=\"99.9375\"/></a><!--MD5=[09b614a08d8cba4a07c9adeb5e0fee81]\n",
       "class E3--><a href=\"psysml:1fca8384-68db-4c35-8908-d644a05ab33b\" target=\"_top\" title=\"psysml:1fca8384-68db-4c35-8908-d644a05ab33b\" xlink:actuate=\"onRequest\" xlink:href=\"psysml:1fca8384-68db-4c35-8908-d644a05ab33b\" xlink:show=\"new\" xlink:title=\"psysml:1fca8384-68db-4c35-8908-d644a05ab33b\" xlink:type=\"simple\"><rect fill=\"#FEFECE\" filter=\"url(#f2fv6fkxpewak)\" height=\"88.3516\" id=\"E3\" style=\"stroke: #A80036; stroke-width: 1.5;\" width=\"66\" x=\"409\" y=\"41\"/><text fill=\"#000000\" font-family=\"sans-serif\" font-size=\"12\" font-style=\"italic\" lengthAdjust=\"spacingAndGlyphs\" textLength=\"64\" x=\"410\" y=\"57.1387\">«part def»</text><text fill=\"#000000\" font-family=\"sans-serif\" font-size=\"12\" lengthAdjust=\"spacingAndGlyphs\" textLength=\"8\" x=\"438\" y=\"71.1074\">B</text><line style=\"stroke: #A80036; stroke-width: 1.5;\" x1=\"410\" x2=\"474\" y1=\"78.9375\" y2=\"78.9375\"/><text fill=\"#000000\" font-family=\"sans-serif\" font-size=\"11\" lengthAdjust=\"spacingAndGlyphs\" textLength=\"29\" x=\"415\" y=\"109.9526\">p1: P</text><text fill=\"#000000\" font-family=\"sans-serif\" font-size=\"11\" lengthAdjust=\"spacingAndGlyphs\" textLength=\"38\" x=\"415\" y=\"122.7573\">p2: ~P</text><line style=\"stroke: #A80036; stroke-width: 1.0;\" x1=\"410\" x2=\"427\" y1=\"93.3398\" y2=\"93.3398\"/><text fill=\"#000000\" font-family=\"sans-serif\" font-size=\"11\" lengthAdjust=\"spacingAndGlyphs\" textLength=\"30\" x=\"427\" y=\"96.6479\">ports</text><line style=\"stroke: #A80036; stroke-width: 1.0;\" x1=\"457\" x2=\"474\" y1=\"93.3398\" y2=\"93.3398\"/></a><!--MD5=[60a26617385b1d2d0262a64233df1f8d]\n",
       "class E6--><a href=\"psysml:d9048fa2-8c0d-4237-aabb-192a68938198\" target=\"_top\" title=\"psysml:d9048fa2-8c0d-4237-aabb-192a68938198\" xlink:actuate=\"onRequest\" xlink:href=\"psysml:d9048fa2-8c0d-4237-aabb-192a68938198\" xlink:show=\"new\" xlink:title=\"psysml:d9048fa2-8c0d-4237-aabb-192a68938198\" xlink:type=\"simple\"><rect fill=\"#FEFECE\" filter=\"url(#f2fv6fkxpewak)\" height=\"88.3516\" id=\"E6\" style=\"stroke: #A80036; stroke-width: 1.5;\" width=\"110\" x=\"264\" y=\"41\"/><text fill=\"#000000\" font-family=\"sans-serif\" font-size=\"12\" font-style=\"italic\" lengthAdjust=\"spacingAndGlyphs\" textLength=\"108\" x=\"265\" y=\"57.1387\">«connection def»</text><text fill=\"#000000\" font-family=\"sans-serif\" font-size=\"12\" lengthAdjust=\"spacingAndGlyphs\" textLength=\"8\" x=\"315\" y=\"71.1074\">A</text><line style=\"stroke: #A80036; stroke-width: 1.5;\" x1=\"265\" x2=\"373\" y1=\"78.9375\" y2=\"78.9375\"/><text fill=\"#000000\" font-family=\"sans-serif\" font-size=\"11\" lengthAdjust=\"spacingAndGlyphs\" textLength=\"29\" x=\"270\" y=\"109.9526\">p1: P</text><text fill=\"#000000\" font-family=\"sans-serif\" font-size=\"11\" lengthAdjust=\"spacingAndGlyphs\" textLength=\"38\" x=\"270\" y=\"122.7573\">p2: ~P</text><line style=\"stroke: #A80036; stroke-width: 1.0;\" x1=\"265\" x2=\"304\" y1=\"93.3398\" y2=\"93.3398\"/><text fill=\"#000000\" font-family=\"sans-serif\" font-size=\"11\" lengthAdjust=\"spacingAndGlyphs\" textLength=\"30\" x=\"304\" y=\"96.6479\">ports</text><line style=\"stroke: #A80036; stroke-width: 1.0;\" x1=\"334\" x2=\"373\" y1=\"93.3398\" y2=\"93.3398\"/></a><!--MD5=[fd4143e9d270a159db93a4ea2a975926]\n",
       "class E9--><a href=\"psysml:b68d4e65-0a25-4b32-9474-7d6b33189e06\" target=\"_top\" title=\"psysml:b68d4e65-0a25-4b32-9474-7d6b33189e06\" xlink:actuate=\"onRequest\" xlink:href=\"psysml:b68d4e65-0a25-4b32-9474-7d6b33189e06\" xlink:show=\"new\" xlink:title=\"psysml:b68d4e65-0a25-4b32-9474-7d6b33189e06\" xlink:type=\"simple\"><rect fill=\"#FEFECE\" filter=\"url(#f2fv6fkxpewak)\" height=\"88.3516\" id=\"E9\" style=\"stroke: #A80036; stroke-width: 1.5;\" width=\"96\" x=\"133\" y=\"41\"/><text fill=\"#000000\" font-family=\"sans-serif\" font-size=\"12\" font-style=\"italic\" lengthAdjust=\"spacingAndGlyphs\" textLength=\"94\" x=\"134\" y=\"57.1387\">«interface def»</text><text fill=\"#000000\" font-family=\"sans-serif\" font-size=\"12\" lengthAdjust=\"spacingAndGlyphs\" textLength=\"3\" x=\"179.5\" y=\"71.1074\">I</text><line style=\"stroke: #A80036; stroke-width: 1.5;\" x1=\"134\" x2=\"228\" y1=\"78.9375\" y2=\"78.9375\"/><text fill=\"#000000\" font-family=\"sans-serif\" font-size=\"11\" lengthAdjust=\"spacingAndGlyphs\" textLength=\"29\" x=\"139\" y=\"109.9526\">p1: P</text><text fill=\"#000000\" font-family=\"sans-serif\" font-size=\"11\" lengthAdjust=\"spacingAndGlyphs\" textLength=\"38\" x=\"139\" y=\"122.7573\">p2: ~P</text><line style=\"stroke: #A80036; stroke-width: 1.0;\" x1=\"134\" x2=\"166\" y1=\"93.3398\" y2=\"93.3398\"/><text fill=\"#000000\" font-family=\"sans-serif\" font-size=\"11\" lengthAdjust=\"spacingAndGlyphs\" textLength=\"30\" x=\"166\" y=\"96.6479\">ports</text><line style=\"stroke: #A80036; stroke-width: 1.0;\" x1=\"196\" x2=\"228\" y1=\"93.3398\" y2=\"93.3398\"/></a><!--MD5=[49a0ec8f00dab7302a31f22d0f0fe584]\n",
       "class E12--><a href=\"psysml:4bc8843d-d10d-4f46-93fe-21c75269e8aa\" target=\"_top\" title=\"psysml:4bc8843d-d10d-4f46-93fe-21c75269e8aa\" xlink:actuate=\"onRequest\" xlink:href=\"psysml:4bc8843d-d10d-4f46-93fe-21c75269e8aa\" xlink:show=\"new\" xlink:title=\"psysml:4bc8843d-d10d-4f46-93fe-21c75269e8aa\" xlink:type=\"simple\"><rect fill=\"#FEFECE\" filter=\"url(#f2fv6fkxpewak)\" height=\"45.9375\" id=\"E12\" style=\"stroke: #A80036; stroke-width: 1.5;\" width=\"66\" x=\"32\" y=\"62\"/><text fill=\"#000000\" font-family=\"sans-serif\" font-size=\"12\" font-style=\"italic\" lengthAdjust=\"spacingAndGlyphs\" textLength=\"64\" x=\"33\" y=\"78.1387\">«part def»</text><text fill=\"#000000\" font-family=\"sans-serif\" font-size=\"12\" lengthAdjust=\"spacingAndGlyphs\" textLength=\"16\" x=\"57\" y=\"92.1074\">B1</text><line style=\"stroke: #A80036; stroke-width: 1.5;\" x1=\"33\" x2=\"97\" y1=\"99.9375\" y2=\"99.9375\"/></a><!--MD5=[ee3c913d1a06f366521f9ef512b67efe]\n",
       "class E13--><a href=\"psysml:37b5f10a-21e5-48b2-b2b2-bc5c291ce903\" target=\"_top\" title=\"psysml:37b5f10a-21e5-48b2-b2b2-bc5c291ce903\" xlink:actuate=\"onRequest\" xlink:href=\"psysml:37b5f10a-21e5-48b2-b2b2-bc5c291ce903\" xlink:show=\"new\" xlink:title=\"psysml:37b5f10a-21e5-48b2-b2b2-bc5c291ce903\" xlink:type=\"simple\"><rect fill=\"#FEFECE\" filter=\"url(#f2fv6fkxpewak)\" height=\"88.3516\" id=\"E13\" rx=\"10\" ry=\"10\" style=\"stroke: #A80036; stroke-width: 1.5;\" width=\"50\" x=\"40\" y=\"189\"/><text fill=\"#000000\" font-family=\"sans-serif\" font-size=\"12\" font-style=\"italic\" lengthAdjust=\"spacingAndGlyphs\" textLength=\"40\" x=\"45\" y=\"205.1387\">«part»</text><text fill=\"#000000\" font-family=\"sans-serif\" font-size=\"12\" lengthAdjust=\"spacingAndGlyphs\" textLength=\"8\" x=\"61\" y=\"219.1074\">p</text><line style=\"stroke: #A80036; stroke-width: 1.5;\" x1=\"41\" x2=\"89\" y1=\"226.9375\" y2=\"226.9375\"/><text fill=\"#000000\" font-family=\"sans-serif\" font-size=\"11\" lengthAdjust=\"spacingAndGlyphs\" textLength=\"29\" x=\"46\" y=\"257.9526\">p1: P</text><text fill=\"#000000\" font-family=\"sans-serif\" font-size=\"11\" lengthAdjust=\"spacingAndGlyphs\" textLength=\"38\" x=\"46\" y=\"270.7573\">p2: ~P</text><line style=\"stroke: #A80036; stroke-width: 1.0;\" x1=\"41\" x2=\"50\" y1=\"241.3398\" y2=\"241.3398\"/><text fill=\"#000000\" font-family=\"sans-serif\" font-size=\"11\" lengthAdjust=\"spacingAndGlyphs\" textLength=\"30\" x=\"50\" y=\"244.6479\">ports</text><line style=\"stroke: #A80036; stroke-width: 1.0;\" x1=\"80\" x2=\"89\" y1=\"241.3398\" y2=\"241.3398\"/></a><!--MD5=[062ed86c389d1a88f61c6380d0491e17]\n",
       "reverse link E12 to E13--><a href=\"psysml:37b5f10a-21e5-48b2-b2b2-bc5c291ce903\" target=\"_top\" title=\"psysml:37b5f10a-21e5-48b2-b2b2-bc5c291ce903\" xlink:actuate=\"onRequest\" xlink:href=\"psysml:37b5f10a-21e5-48b2-b2b2-bc5c291ce903\" xlink:show=\"new\" xlink:title=\"psysml:37b5f10a-21e5-48b2-b2b2-bc5c291ce903\" xlink:type=\"simple\"><path d=\"M65,121.25 C65,141.54 65,167.2 65,188.71 \" fill=\"none\" id=\"E12&lt;-E13\" style=\"stroke: #A80036; stroke-width: 1.0;\"/><polygon fill=\"#A80036\" points=\"65,108.17,61,114.17,65,120.17,69,114.17,65,108.17\" style=\"stroke: #A80036; stroke-width: 1.0;\"/></a><!--MD5=[1e029ac0eb9351869c3ca4e8ce49763b]\n",
       "@startuml\r\n",
       "skinparam wrapWidth 300\r\n",
       "hide circle\r\n",
       "\r\n",
       "package \"ConjugationTest\" as E1  [[psysml:4ba0ad9e-a677-47db-af1d-b015e8f93aef ]]  {\r\n",
       "comp def \"P\" as E2  <<(T,blue)port def>> [[psysml:0d231d17-09c4-40d0-a4bc-6d43713d1eea ]] {\r\n",
       "}\r\n",
       "comp def \"B\" as E3  <<(T,blue)part def>> [[psysml:1fca8384-68db-4c35-8908-d644a05ab33b ]] {\r\n",
       "- - ports - -\r\n",
       "p1: P\r\n",
       "p2: ~P\r\n",
       "}\r\n",
       "comp def \"A\" as E6  <<(T,blue)connection def>> [[psysml:d9048fa2-8c0d-4237-aabb-192a68938198 ]] {\r\n",
       "- - ports - -\r\n",
       "p1: P\r\n",
       "p2: ~P\r\n",
       "}\r\n",
       "comp def \"I\" as E9  <<(T,blue)interface def>> [[psysml:b68d4e65-0a25-4b32-9474-7d6b33189e06 ]] {\r\n",
       "- - ports - -\r\n",
       "p1: P\r\n",
       "p2: ~P\r\n",
       "}\r\n",
       "comp def \"B1\" as E12  <<(T,blue)part def>> [[psysml:4bc8843d-d10d-4f46-93fe-21c75269e8aa ]] {\r\n",
       "}\r\n",
       "comp usage \"p\" as E13  <<(T,blue)part>> [[psysml:37b5f10a-21e5-48b2-b2b2-bc5c291ce903 ]] {\r\n",
       "- - ports - -\r\n",
       "p1: P\r\n",
       "p2: ~P\r\n",
       "}\r\n",
       "E12 *- - E13 [[psysml:37b5f10a-21e5-48b2-b2b2-bc5c291ce903 ]] \r\n",
       "}\r\n",
       "@enduml\r\n",
       "\n",
       "PlantUML version 1.2020.13(Sat Jun 13 12:26:38 UTC 2020)\n",
       "(EPL source distribution)\n",
       "Java Runtime: OpenJDK Runtime Environment\n",
       "JVM: OpenJDK 64-Bit Server VM\n",
       "Default Encoding: UTF-8\n",
       "Language: en\n",
       "Country: null\n",
       "--></g></svg>"
      ]
     },
     "execution_count": 28,
     "metadata": {},
     "output_type": "execute_result"
    }
   ],
   "source": [
    "%viz --style=\"STDCOLOR\" --view=\"Sequence\" \"ConjugationTest\""
   ]
  },
  {
   "cell_type": "code",
   "execution_count": 29,
   "id": "careful-happening",
   "metadata": {
    "execution": {
     "iopub.execute_input": "2021-03-24T16:29:19.352099Z",
     "iopub.status.busy": "2021-03-24T16:29:19.350622Z",
     "iopub.status.idle": "2021-03-24T16:29:19.446696Z",
     "shell.execute_reply": "2021-03-24T16:29:19.447554Z"
    }
   },
   "outputs": [
    {
     "data": {
      "image/svg+xml": [
       "<?xml version=\"1.0\" encoding=\"UTF-8\" standalone=\"no\"?><svg xmlns=\"http://www.w3.org/2000/svg\" xmlns:xlink=\"http://www.w3.org/1999/xlink\" contentScriptType=\"application/ecmascript\" contentStyleType=\"text/css\" height=\"305px\" preserveAspectRatio=\"none\" style=\"width:614px;height:305px;\" version=\"1.1\" viewBox=\"0 0 614 305\" width=\"614px\" zoomAndPan=\"magnify\"><defs><filter height=\"300%\" id=\"f2fv6fkxpewak\" width=\"300%\" x=\"-1\" y=\"-1\"><feGaussianBlur result=\"blurOut\" stdDeviation=\"2.0\"/><feColorMatrix in=\"blurOut\" result=\"blurOut2\" type=\"matrix\" values=\"0 0 0 0 0 0 0 0 0 0 0 0 0 0 0 0 0 0 .4 0\"/><feOffset dx=\"4.0\" dy=\"4.0\" in=\"blurOut2\" result=\"blurOut3\"/><feBlend in=\"SourceGraphic\" in2=\"blurOut3\" mode=\"normal\"/></filter></defs><g><!--MD5=[fbc87193dbaf4d95561dea2c320d4a47]\n",
       "cluster E1--><a href=\"psysml:4ba0ad9e-a677-47db-af1d-b015e8f93aef\" target=\"_top\" title=\"psysml:4ba0ad9e-a677-47db-af1d-b015e8f93aef\" xlink:actuate=\"onRequest\" xlink:href=\"psysml:4ba0ad9e-a677-47db-af1d-b015e8f93aef\" xlink:show=\"new\" xlink:title=\"psysml:4ba0ad9e-a677-47db-af1d-b015e8f93aef\" xlink:type=\"simple\"><polygon fill=\"#FFFFFF\" filter=\"url(#f2fv6fkxpewak)\" points=\"16,6,151,6,158,28.2969,592,28.2969,592,293,16,293,16,6\" style=\"stroke: #000000; stroke-width: 1.5;\"/><line style=\"stroke: #000000; stroke-width: 1.5;\" x1=\"16\" x2=\"158\" y1=\"28.2969\" y2=\"28.2969\"/><text fill=\"#000000\" font-family=\"sans-serif\" font-size=\"14\" font-weight=\"bold\" lengthAdjust=\"spacingAndGlyphs\" textLength=\"129\" x=\"20\" y=\"20.9951\">ConjugationTest</text></a><!--MD5=[b4997ac47864f28c2f74865a473b2911]\n",
       "class E2--><a href=\"psysml:0d231d17-09c4-40d0-a4bc-6d43713d1eea\" target=\"_top\" title=\"psysml:0d231d17-09c4-40d0-a4bc-6d43713d1eea\" xlink:actuate=\"onRequest\" xlink:href=\"psysml:0d231d17-09c4-40d0-a4bc-6d43713d1eea\" xlink:show=\"new\" xlink:title=\"psysml:0d231d17-09c4-40d0-a4bc-6d43713d1eea\" xlink:type=\"simple\"><rect fill=\"#FEFECE\" filter=\"url(#f2fv6fkxpewak)\" height=\"45.9375\" id=\"E2\" style=\"stroke: #A80036; stroke-width: 1.5;\" width=\"66\" x=\"510\" y=\"62\"/><text fill=\"#000000\" font-family=\"sans-serif\" font-size=\"12\" font-style=\"italic\" lengthAdjust=\"spacingAndGlyphs\" textLength=\"64\" x=\"511\" y=\"78.1387\">«port def»</text><text fill=\"#000000\" font-family=\"sans-serif\" font-size=\"12\" lengthAdjust=\"spacingAndGlyphs\" textLength=\"8\" x=\"539\" y=\"92.1074\">P</text><line style=\"stroke: #A80036; stroke-width: 1.5;\" x1=\"511\" x2=\"575\" y1=\"99.9375\" y2=\"99.9375\"/></a><!--MD5=[09b614a08d8cba4a07c9adeb5e0fee81]\n",
       "class E3--><a href=\"psysml:1fca8384-68db-4c35-8908-d644a05ab33b\" target=\"_top\" title=\"psysml:1fca8384-68db-4c35-8908-d644a05ab33b\" xlink:actuate=\"onRequest\" xlink:href=\"psysml:1fca8384-68db-4c35-8908-d644a05ab33b\" xlink:show=\"new\" xlink:title=\"psysml:1fca8384-68db-4c35-8908-d644a05ab33b\" xlink:type=\"simple\"><rect fill=\"#FEFECE\" filter=\"url(#f2fv6fkxpewak)\" height=\"88.3516\" id=\"E3\" style=\"stroke: #A80036; stroke-width: 1.5;\" width=\"66\" x=\"409\" y=\"41\"/><text fill=\"#000000\" font-family=\"sans-serif\" font-size=\"12\" font-style=\"italic\" lengthAdjust=\"spacingAndGlyphs\" textLength=\"64\" x=\"410\" y=\"57.1387\">«part def»</text><text fill=\"#000000\" font-family=\"sans-serif\" font-size=\"12\" lengthAdjust=\"spacingAndGlyphs\" textLength=\"8\" x=\"438\" y=\"71.1074\">B</text><line style=\"stroke: #A80036; stroke-width: 1.5;\" x1=\"410\" x2=\"474\" y1=\"78.9375\" y2=\"78.9375\"/><text fill=\"#000000\" font-family=\"sans-serif\" font-size=\"11\" lengthAdjust=\"spacingAndGlyphs\" textLength=\"29\" x=\"415\" y=\"109.9526\">p1: P</text><text fill=\"#000000\" font-family=\"sans-serif\" font-size=\"11\" lengthAdjust=\"spacingAndGlyphs\" textLength=\"38\" x=\"415\" y=\"122.7573\">p2: ~P</text><line style=\"stroke: #A80036; stroke-width: 1.0;\" x1=\"410\" x2=\"427\" y1=\"93.3398\" y2=\"93.3398\"/><text fill=\"#000000\" font-family=\"sans-serif\" font-size=\"11\" lengthAdjust=\"spacingAndGlyphs\" textLength=\"30\" x=\"427\" y=\"96.6479\">ports</text><line style=\"stroke: #A80036; stroke-width: 1.0;\" x1=\"457\" x2=\"474\" y1=\"93.3398\" y2=\"93.3398\"/></a><!--MD5=[60a26617385b1d2d0262a64233df1f8d]\n",
       "class E6--><a href=\"psysml:d9048fa2-8c0d-4237-aabb-192a68938198\" target=\"_top\" title=\"psysml:d9048fa2-8c0d-4237-aabb-192a68938198\" xlink:actuate=\"onRequest\" xlink:href=\"psysml:d9048fa2-8c0d-4237-aabb-192a68938198\" xlink:show=\"new\" xlink:title=\"psysml:d9048fa2-8c0d-4237-aabb-192a68938198\" xlink:type=\"simple\"><rect fill=\"#FEFECE\" filter=\"url(#f2fv6fkxpewak)\" height=\"88.3516\" id=\"E6\" style=\"stroke: #A80036; stroke-width: 1.5;\" width=\"110\" x=\"264\" y=\"41\"/><text fill=\"#000000\" font-family=\"sans-serif\" font-size=\"12\" font-style=\"italic\" lengthAdjust=\"spacingAndGlyphs\" textLength=\"108\" x=\"265\" y=\"57.1387\">«connection def»</text><text fill=\"#000000\" font-family=\"sans-serif\" font-size=\"12\" lengthAdjust=\"spacingAndGlyphs\" textLength=\"8\" x=\"315\" y=\"71.1074\">A</text><line style=\"stroke: #A80036; stroke-width: 1.5;\" x1=\"265\" x2=\"373\" y1=\"78.9375\" y2=\"78.9375\"/><text fill=\"#000000\" font-family=\"sans-serif\" font-size=\"11\" lengthAdjust=\"spacingAndGlyphs\" textLength=\"29\" x=\"270\" y=\"109.9526\">p1: P</text><text fill=\"#000000\" font-family=\"sans-serif\" font-size=\"11\" lengthAdjust=\"spacingAndGlyphs\" textLength=\"38\" x=\"270\" y=\"122.7573\">p2: ~P</text><line style=\"stroke: #A80036; stroke-width: 1.0;\" x1=\"265\" x2=\"304\" y1=\"93.3398\" y2=\"93.3398\"/><text fill=\"#000000\" font-family=\"sans-serif\" font-size=\"11\" lengthAdjust=\"spacingAndGlyphs\" textLength=\"30\" x=\"304\" y=\"96.6479\">ports</text><line style=\"stroke: #A80036; stroke-width: 1.0;\" x1=\"334\" x2=\"373\" y1=\"93.3398\" y2=\"93.3398\"/></a><!--MD5=[fd4143e9d270a159db93a4ea2a975926]\n",
       "class E9--><a href=\"psysml:b68d4e65-0a25-4b32-9474-7d6b33189e06\" target=\"_top\" title=\"psysml:b68d4e65-0a25-4b32-9474-7d6b33189e06\" xlink:actuate=\"onRequest\" xlink:href=\"psysml:b68d4e65-0a25-4b32-9474-7d6b33189e06\" xlink:show=\"new\" xlink:title=\"psysml:b68d4e65-0a25-4b32-9474-7d6b33189e06\" xlink:type=\"simple\"><rect fill=\"#FEFECE\" filter=\"url(#f2fv6fkxpewak)\" height=\"88.3516\" id=\"E9\" style=\"stroke: #A80036; stroke-width: 1.5;\" width=\"96\" x=\"133\" y=\"41\"/><text fill=\"#000000\" font-family=\"sans-serif\" font-size=\"12\" font-style=\"italic\" lengthAdjust=\"spacingAndGlyphs\" textLength=\"94\" x=\"134\" y=\"57.1387\">«interface def»</text><text fill=\"#000000\" font-family=\"sans-serif\" font-size=\"12\" lengthAdjust=\"spacingAndGlyphs\" textLength=\"3\" x=\"179.5\" y=\"71.1074\">I</text><line style=\"stroke: #A80036; stroke-width: 1.5;\" x1=\"134\" x2=\"228\" y1=\"78.9375\" y2=\"78.9375\"/><text fill=\"#000000\" font-family=\"sans-serif\" font-size=\"11\" lengthAdjust=\"spacingAndGlyphs\" textLength=\"29\" x=\"139\" y=\"109.9526\">p1: P</text><text fill=\"#000000\" font-family=\"sans-serif\" font-size=\"11\" lengthAdjust=\"spacingAndGlyphs\" textLength=\"38\" x=\"139\" y=\"122.7573\">p2: ~P</text><line style=\"stroke: #A80036; stroke-width: 1.0;\" x1=\"134\" x2=\"166\" y1=\"93.3398\" y2=\"93.3398\"/><text fill=\"#000000\" font-family=\"sans-serif\" font-size=\"11\" lengthAdjust=\"spacingAndGlyphs\" textLength=\"30\" x=\"166\" y=\"96.6479\">ports</text><line style=\"stroke: #A80036; stroke-width: 1.0;\" x1=\"196\" x2=\"228\" y1=\"93.3398\" y2=\"93.3398\"/></a><!--MD5=[49a0ec8f00dab7302a31f22d0f0fe584]\n",
       "class E12--><a href=\"psysml:4bc8843d-d10d-4f46-93fe-21c75269e8aa\" target=\"_top\" title=\"psysml:4bc8843d-d10d-4f46-93fe-21c75269e8aa\" xlink:actuate=\"onRequest\" xlink:href=\"psysml:4bc8843d-d10d-4f46-93fe-21c75269e8aa\" xlink:show=\"new\" xlink:title=\"psysml:4bc8843d-d10d-4f46-93fe-21c75269e8aa\" xlink:type=\"simple\"><rect fill=\"#FEFECE\" filter=\"url(#f2fv6fkxpewak)\" height=\"45.9375\" id=\"E12\" style=\"stroke: #A80036; stroke-width: 1.5;\" width=\"66\" x=\"32\" y=\"62\"/><text fill=\"#000000\" font-family=\"sans-serif\" font-size=\"12\" font-style=\"italic\" lengthAdjust=\"spacingAndGlyphs\" textLength=\"64\" x=\"33\" y=\"78.1387\">«part def»</text><text fill=\"#000000\" font-family=\"sans-serif\" font-size=\"12\" lengthAdjust=\"spacingAndGlyphs\" textLength=\"16\" x=\"57\" y=\"92.1074\">B1</text><line style=\"stroke: #A80036; stroke-width: 1.5;\" x1=\"33\" x2=\"97\" y1=\"99.9375\" y2=\"99.9375\"/></a><!--MD5=[ee3c913d1a06f366521f9ef512b67efe]\n",
       "class E13--><a href=\"psysml:37b5f10a-21e5-48b2-b2b2-bc5c291ce903\" target=\"_top\" title=\"psysml:37b5f10a-21e5-48b2-b2b2-bc5c291ce903\" xlink:actuate=\"onRequest\" xlink:href=\"psysml:37b5f10a-21e5-48b2-b2b2-bc5c291ce903\" xlink:show=\"new\" xlink:title=\"psysml:37b5f10a-21e5-48b2-b2b2-bc5c291ce903\" xlink:type=\"simple\"><rect fill=\"#FEFECE\" filter=\"url(#f2fv6fkxpewak)\" height=\"88.3516\" id=\"E13\" rx=\"10\" ry=\"10\" style=\"stroke: #A80036; stroke-width: 1.5;\" width=\"50\" x=\"40\" y=\"189\"/><text fill=\"#000000\" font-family=\"sans-serif\" font-size=\"12\" font-style=\"italic\" lengthAdjust=\"spacingAndGlyphs\" textLength=\"40\" x=\"45\" y=\"205.1387\">«part»</text><text fill=\"#000000\" font-family=\"sans-serif\" font-size=\"12\" lengthAdjust=\"spacingAndGlyphs\" textLength=\"8\" x=\"61\" y=\"219.1074\">p</text><line style=\"stroke: #A80036; stroke-width: 1.5;\" x1=\"41\" x2=\"89\" y1=\"226.9375\" y2=\"226.9375\"/><text fill=\"#000000\" font-family=\"sans-serif\" font-size=\"11\" lengthAdjust=\"spacingAndGlyphs\" textLength=\"29\" x=\"46\" y=\"257.9526\">p1: P</text><text fill=\"#000000\" font-family=\"sans-serif\" font-size=\"11\" lengthAdjust=\"spacingAndGlyphs\" textLength=\"38\" x=\"46\" y=\"270.7573\">p2: ~P</text><line style=\"stroke: #A80036; stroke-width: 1.0;\" x1=\"41\" x2=\"50\" y1=\"241.3398\" y2=\"241.3398\"/><text fill=\"#000000\" font-family=\"sans-serif\" font-size=\"11\" lengthAdjust=\"spacingAndGlyphs\" textLength=\"30\" x=\"50\" y=\"244.6479\">ports</text><line style=\"stroke: #A80036; stroke-width: 1.0;\" x1=\"80\" x2=\"89\" y1=\"241.3398\" y2=\"241.3398\"/></a><!--MD5=[062ed86c389d1a88f61c6380d0491e17]\n",
       "reverse link E12 to E13--><a href=\"psysml:37b5f10a-21e5-48b2-b2b2-bc5c291ce903\" target=\"_top\" title=\"psysml:37b5f10a-21e5-48b2-b2b2-bc5c291ce903\" xlink:actuate=\"onRequest\" xlink:href=\"psysml:37b5f10a-21e5-48b2-b2b2-bc5c291ce903\" xlink:show=\"new\" xlink:title=\"psysml:37b5f10a-21e5-48b2-b2b2-bc5c291ce903\" xlink:type=\"simple\"><path d=\"M65,121.25 C65,141.54 65,167.2 65,188.71 \" fill=\"none\" id=\"E12&lt;-E13\" style=\"stroke: #A80036; stroke-width: 1.0;\"/><polygon fill=\"#A80036\" points=\"65,108.17,61,114.17,65,120.17,69,114.17,65,108.17\" style=\"stroke: #A80036; stroke-width: 1.0;\"/></a><!--MD5=[1e029ac0eb9351869c3ca4e8ce49763b]\n",
       "@startuml\r\n",
       "skinparam wrapWidth 300\r\n",
       "hide circle\r\n",
       "\r\n",
       "package \"ConjugationTest\" as E1  [[psysml:4ba0ad9e-a677-47db-af1d-b015e8f93aef ]]  {\r\n",
       "comp def \"P\" as E2  <<(T,blue)port def>> [[psysml:0d231d17-09c4-40d0-a4bc-6d43713d1eea ]] {\r\n",
       "}\r\n",
       "comp def \"B\" as E3  <<(T,blue)part def>> [[psysml:1fca8384-68db-4c35-8908-d644a05ab33b ]] {\r\n",
       "- - ports - -\r\n",
       "p1: P\r\n",
       "p2: ~P\r\n",
       "}\r\n",
       "comp def \"A\" as E6  <<(T,blue)connection def>> [[psysml:d9048fa2-8c0d-4237-aabb-192a68938198 ]] {\r\n",
       "- - ports - -\r\n",
       "p1: P\r\n",
       "p2: ~P\r\n",
       "}\r\n",
       "comp def \"I\" as E9  <<(T,blue)interface def>> [[psysml:b68d4e65-0a25-4b32-9474-7d6b33189e06 ]] {\r\n",
       "- - ports - -\r\n",
       "p1: P\r\n",
       "p2: ~P\r\n",
       "}\r\n",
       "comp def \"B1\" as E12  <<(T,blue)part def>> [[psysml:4bc8843d-d10d-4f46-93fe-21c75269e8aa ]] {\r\n",
       "}\r\n",
       "comp usage \"p\" as E13  <<(T,blue)part>> [[psysml:37b5f10a-21e5-48b2-b2b2-bc5c291ce903 ]] {\r\n",
       "- - ports - -\r\n",
       "p1: P\r\n",
       "p2: ~P\r\n",
       "}\r\n",
       "E12 *- - E13 [[psysml:37b5f10a-21e5-48b2-b2b2-bc5c291ce903 ]] \r\n",
       "}\r\n",
       "@enduml\r\n",
       "\n",
       "PlantUML version 1.2020.13(Sat Jun 13 12:26:38 UTC 2020)\n",
       "(EPL source distribution)\n",
       "Java Runtime: OpenJDK Runtime Environment\n",
       "JVM: OpenJDK 64-Bit Server VM\n",
       "Default Encoding: UTF-8\n",
       "Language: en\n",
       "Country: null\n",
       "--></g></svg>"
      ]
     },
     "execution_count": 29,
     "metadata": {},
     "output_type": "execute_result"
    }
   ],
   "source": [
    "%viz --style=\"STDCOLOR\" --view=\"MIXED\" \"ConjugationTest\""
   ]
  },
  {
   "cell_type": "code",
   "execution_count": 30,
   "id": "sorted-station",
   "metadata": {
    "execution": {
     "iopub.execute_input": "2021-03-24T16:29:19.496724Z",
     "iopub.status.busy": "2021-03-24T16:29:19.495900Z",
     "iopub.status.idle": "2021-03-24T16:29:19.607246Z",
     "shell.execute_reply": "2021-03-24T16:29:19.606933Z"
    }
   },
   "outputs": [
    {
     "data": {
      "image/svg+xml": [
       "<?xml version=\"1.0\" encoding=\"UTF-8\" standalone=\"no\"?><svg xmlns=\"http://www.w3.org/2000/svg\" xmlns:xlink=\"http://www.w3.org/1999/xlink\" contentScriptType=\"application/ecmascript\" contentStyleType=\"text/css\" height=\"299px\" preserveAspectRatio=\"none\" style=\"width:500px;height:299px;\" version=\"1.1\" viewBox=\"0 0 500 299\" width=\"500px\" zoomAndPan=\"magnify\"><defs><filter height=\"300%\" id=\"f1e5pxvar1q8t0\" width=\"300%\" x=\"-1\" y=\"-1\"><feGaussianBlur result=\"blurOut\" stdDeviation=\"2.0\"/><feColorMatrix in=\"blurOut\" result=\"blurOut2\" type=\"matrix\" values=\"0 0 0 0 0 0 0 0 0 0 0 0 0 0 0 0 0 0 .4 0\"/><feOffset dx=\"4.0\" dy=\"4.0\" in=\"blurOut2\" result=\"blurOut3\"/><feBlend in=\"SourceGraphic\" in2=\"blurOut3\" mode=\"normal\"/></filter></defs><g><!--MD5=[fbc87193dbaf4d95561dea2c320d4a47]\n",
       "cluster E1--><a href=\"psysml:4ba0ad9e-a677-47db-af1d-b015e8f93aef\" target=\"_top\" title=\"psysml:4ba0ad9e-a677-47db-af1d-b015e8f93aef\" xlink:actuate=\"onRequest\" xlink:href=\"psysml:4ba0ad9e-a677-47db-af1d-b015e8f93aef\" xlink:show=\"new\" xlink:title=\"psysml:4ba0ad9e-a677-47db-af1d-b015e8f93aef\" xlink:type=\"simple\"><polygon fill=\"#FFFFFF\" filter=\"url(#f1e5pxvar1q8t0)\" points=\"16,6,151,6,158,28.2969,478,28.2969,478,287,16,287,16,6\" style=\"stroke: #000000; stroke-width: 1.5;\"/><line style=\"stroke: #000000; stroke-width: 1.5;\" x1=\"16\" x2=\"158\" y1=\"28.2969\" y2=\"28.2969\"/><text fill=\"#000000\" font-family=\"sans-serif\" font-size=\"14\" font-weight=\"bold\" lengthAdjust=\"spacingAndGlyphs\" textLength=\"129\" x=\"20\" y=\"20.9951\">ConjugationTest</text></a><!--MD5=[b4997ac47864f28c2f74865a473b2911]\n",
       "class E2--><a href=\"psysml:0d231d17-09c4-40d0-a4bc-6d43713d1eea\" target=\"_top\" title=\"psysml:0d231d17-09c4-40d0-a4bc-6d43713d1eea\" xlink:actuate=\"onRequest\" xlink:href=\"psysml:0d231d17-09c4-40d0-a4bc-6d43713d1eea\" xlink:show=\"new\" xlink:title=\"psysml:0d231d17-09c4-40d0-a4bc-6d43713d1eea\" xlink:type=\"simple\"><rect fill=\"#FEFECE\" filter=\"url(#f1e5pxvar1q8t0)\" height=\"45.9375\" id=\"E2\" style=\"stroke: #A80036; stroke-width: 1.5;\" width=\"92\" x=\"370\" y=\"59\"/><ellipse cx=\"385\" cy=\"77.9688\" fill=\"#A52A2A\" rx=\"11\" ry=\"11\" style=\"stroke: #A80036; stroke-width: 1.0;\"/><path d=\"M384.5938,73.7813 L384.5938,81.7656 L385.25,81.7656 Q386.6875,81.7656 387.2969,80.8594 Q387.9219,79.9375 387.9219,77.7656 Q387.9219,75.5938 387.2969,74.6875 Q386.6875,73.7813 385.25,73.7813 L384.5938,73.7813 Z M382.1406,71.5781 L384.7656,71.5781 Q387.7969,71.5781 389.125,73.0313 Q390.4688,74.4688 390.4688,77.7656 Q390.4688,81.0625 389.125,82.5156 Q387.7969,83.9688 384.7656,83.9688 L382.1406,83.9688 L382.1406,71.5781 Z \"/><text fill=\"#000000\" font-family=\"sans-serif\" font-size=\"12\" font-style=\"italic\" lengthAdjust=\"spacingAndGlyphs\" textLength=\"64\" x=\"397\" y=\"75.1387\">«port def»</text><text fill=\"#000000\" font-family=\"sans-serif\" font-size=\"12\" lengthAdjust=\"spacingAndGlyphs\" textLength=\"8\" x=\"425\" y=\"89.1074\">P</text><line style=\"stroke: #A80036; stroke-width: 1.5;\" x1=\"371\" x2=\"461\" y1=\"96.9375\" y2=\"96.9375\"/></a><!--MD5=[09b614a08d8cba4a07c9adeb5e0fee81]\n",
       "class E3--><a href=\"psysml:1fca8384-68db-4c35-8908-d644a05ab33b\" target=\"_top\" title=\"psysml:1fca8384-68db-4c35-8908-d644a05ab33b\" xlink:actuate=\"onRequest\" xlink:href=\"psysml:1fca8384-68db-4c35-8908-d644a05ab33b\" xlink:show=\"new\" xlink:title=\"psysml:1fca8384-68db-4c35-8908-d644a05ab33b\" xlink:type=\"simple\"><rect fill=\"#FEFECE\" filter=\"url(#f1e5pxvar1q8t0)\" height=\"82.4141\" id=\"E3\" style=\"stroke: #A80036; stroke-width: 1.5;\" width=\"50\" x=\"285\" y=\"41\"/><ellipse cx=\"304.5\" cy=\"57\" fill=\"#008000\" rx=\"11\" ry=\"11\" style=\"stroke: #A80036; stroke-width: 1.0;\"/><path d=\"M303.4063,57.375 L303.4063,61.0469 L305.0313,61.0469 Q306.2031,61.0469 306.6719,60.6563 Q307.1406,60.25 307.1406,59.25 Q307.1406,58.25 306.6406,57.8125 Q306.1563,57.375 305.0313,57.375 L303.4063,57.375 Z M303.4063,52.5469 L303.4063,55.4219 L305.0313,55.4219 Q305.9531,55.4219 306.3438,55.0938 Q306.75,54.75 306.75,54 Q306.75,53.2344 306.3438,52.8906 Q305.9375,52.5469 305.0313,52.5469 L303.4063,52.5469 Z M301.0313,50.5938 L305.0313,50.5938 Q307.0938,50.5938 308.1406,51.375 Q309.1875,52.1563 309.1875,53.7188 Q309.1875,54.9219 308.5625,55.5938 Q307.9531,56.2656 306.7656,56.375 Q308.1875,56.5156 308.9063,57.3281 Q309.625,58.1406 309.625,59.5938 Q309.625,61.3906 308.5469,62.2031 Q307.4688,63 305.0313,63 L301.0313,63 L301.0313,50.5938 Z \"/><text fill=\"#000000\" font-family=\"sans-serif\" font-size=\"12\" lengthAdjust=\"spacingAndGlyphs\" textLength=\"8\" x=\"319.5\" y=\"61.1543\">B</text><line style=\"stroke: #A80036; stroke-width: 1.5;\" x1=\"286\" x2=\"334\" y1=\"73\" y2=\"73\"/><text fill=\"#000000\" font-family=\"sans-serif\" font-size=\"11\" lengthAdjust=\"spacingAndGlyphs\" textLength=\"29\" x=\"291\" y=\"104.0151\">p1: P</text><text fill=\"#000000\" font-family=\"sans-serif\" font-size=\"11\" lengthAdjust=\"spacingAndGlyphs\" textLength=\"38\" x=\"291\" y=\"116.8198\">p2: ~P</text><line style=\"stroke: #A80036; stroke-width: 1.0;\" x1=\"286\" x2=\"295\" y1=\"87.4023\" y2=\"87.4023\"/><text fill=\"#000000\" font-family=\"sans-serif\" font-size=\"11\" lengthAdjust=\"spacingAndGlyphs\" textLength=\"30\" x=\"295\" y=\"90.7104\">ports</text><line style=\"stroke: #A80036; stroke-width: 1.0;\" x1=\"325\" x2=\"334\" y1=\"87.4023\" y2=\"87.4023\"/></a><!--MD5=[60a26617385b1d2d0262a64233df1f8d]\n",
       "class E6--><a href=\"psysml:d9048fa2-8c0d-4237-aabb-192a68938198\" target=\"_top\" title=\"psysml:d9048fa2-8c0d-4237-aabb-192a68938198\" xlink:actuate=\"onRequest\" xlink:href=\"psysml:d9048fa2-8c0d-4237-aabb-192a68938198\" xlink:show=\"new\" xlink:title=\"psysml:d9048fa2-8c0d-4237-aabb-192a68938198\" xlink:type=\"simple\"><rect fill=\"#FEFECE\" filter=\"url(#f1e5pxvar1q8t0)\" height=\"82.4141\" id=\"E6\" style=\"stroke: #A80036; stroke-width: 1.5;\" width=\"50\" x=\"200\" y=\"41\"/><ellipse cx=\"219.5\" cy=\"57\" fill=\"#008000\" rx=\"11\" ry=\"11\" style=\"stroke: #A80036; stroke-width: 1.0;\"/><path d=\"M218.4063,57.375 L218.4063,61.0469 L220.0313,61.0469 Q221.2031,61.0469 221.6719,60.6563 Q222.1406,60.25 222.1406,59.25 Q222.1406,58.25 221.6406,57.8125 Q221.1563,57.375 220.0313,57.375 L218.4063,57.375 Z M218.4063,52.5469 L218.4063,55.4219 L220.0313,55.4219 Q220.9531,55.4219 221.3438,55.0938 Q221.75,54.75 221.75,54 Q221.75,53.2344 221.3438,52.8906 Q220.9375,52.5469 220.0313,52.5469 L218.4063,52.5469 Z M216.0313,50.5938 L220.0313,50.5938 Q222.0938,50.5938 223.1406,51.375 Q224.1875,52.1563 224.1875,53.7188 Q224.1875,54.9219 223.5625,55.5938 Q222.9531,56.2656 221.7656,56.375 Q223.1875,56.5156 223.9063,57.3281 Q224.625,58.1406 224.625,59.5938 Q224.625,61.3906 223.5469,62.2031 Q222.4688,63 220.0313,63 L216.0313,63 L216.0313,50.5938 Z \"/><text fill=\"#000000\" font-family=\"sans-serif\" font-size=\"12\" lengthAdjust=\"spacingAndGlyphs\" textLength=\"8\" x=\"234.5\" y=\"61.1543\">A</text><line style=\"stroke: #A80036; stroke-width: 1.5;\" x1=\"201\" x2=\"249\" y1=\"73\" y2=\"73\"/><text fill=\"#000000\" font-family=\"sans-serif\" font-size=\"11\" lengthAdjust=\"spacingAndGlyphs\" textLength=\"29\" x=\"206\" y=\"104.0151\">p1: P</text><text fill=\"#000000\" font-family=\"sans-serif\" font-size=\"11\" lengthAdjust=\"spacingAndGlyphs\" textLength=\"38\" x=\"206\" y=\"116.8198\">p2: ~P</text><line style=\"stroke: #A80036; stroke-width: 1.0;\" x1=\"201\" x2=\"210\" y1=\"87.4023\" y2=\"87.4023\"/><text fill=\"#000000\" font-family=\"sans-serif\" font-size=\"11\" lengthAdjust=\"spacingAndGlyphs\" textLength=\"30\" x=\"210\" y=\"90.7104\">ports</text><line style=\"stroke: #A80036; stroke-width: 1.0;\" x1=\"240\" x2=\"249\" y1=\"87.4023\" y2=\"87.4023\"/></a><!--MD5=[fd4143e9d270a159db93a4ea2a975926]\n",
       "class E9--><a href=\"psysml:b68d4e65-0a25-4b32-9474-7d6b33189e06\" target=\"_top\" title=\"psysml:b68d4e65-0a25-4b32-9474-7d6b33189e06\" xlink:actuate=\"onRequest\" xlink:href=\"psysml:b68d4e65-0a25-4b32-9474-7d6b33189e06\" xlink:show=\"new\" xlink:title=\"psysml:b68d4e65-0a25-4b32-9474-7d6b33189e06\" xlink:type=\"simple\"><rect fill=\"#FEFECE\" filter=\"url(#f1e5pxvar1q8t0)\" height=\"82.4141\" id=\"E9\" style=\"stroke: #A80036; stroke-width: 1.5;\" width=\"50\" x=\"115\" y=\"41\"/><ellipse cx=\"136.75\" cy=\"57\" fill=\"#008000\" rx=\"11\" ry=\"11\" style=\"stroke: #A80036; stroke-width: 1.0;\"/><path d=\"M135.6563,57.375 L135.6563,61.0469 L137.2813,61.0469 Q138.4531,61.0469 138.9219,60.6563 Q139.3906,60.25 139.3906,59.25 Q139.3906,58.25 138.8906,57.8125 Q138.4063,57.375 137.2813,57.375 L135.6563,57.375 Z M135.6563,52.5469 L135.6563,55.4219 L137.2813,55.4219 Q138.2031,55.4219 138.5938,55.0938 Q139,54.75 139,54 Q139,53.2344 138.5938,52.8906 Q138.1875,52.5469 137.2813,52.5469 L135.6563,52.5469 Z M133.2813,50.5938 L137.2813,50.5938 Q139.3438,50.5938 140.3906,51.375 Q141.4375,52.1563 141.4375,53.7188 Q141.4375,54.9219 140.8125,55.5938 Q140.2031,56.2656 139.0156,56.375 Q140.4375,56.5156 141.1563,57.3281 Q141.875,58.1406 141.875,59.5938 Q141.875,61.3906 140.7969,62.2031 Q139.7188,63 137.2813,63 L133.2813,63 L133.2813,50.5938 Z \"/><text fill=\"#000000\" font-family=\"sans-serif\" font-size=\"12\" lengthAdjust=\"spacingAndGlyphs\" textLength=\"3\" x=\"152.25\" y=\"61.1543\">I</text><line style=\"stroke: #A80036; stroke-width: 1.5;\" x1=\"116\" x2=\"164\" y1=\"73\" y2=\"73\"/><text fill=\"#000000\" font-family=\"sans-serif\" font-size=\"11\" lengthAdjust=\"spacingAndGlyphs\" textLength=\"29\" x=\"121\" y=\"104.0151\">p1: P</text><text fill=\"#000000\" font-family=\"sans-serif\" font-size=\"11\" lengthAdjust=\"spacingAndGlyphs\" textLength=\"38\" x=\"121\" y=\"116.8198\">p2: ~P</text><line style=\"stroke: #A80036; stroke-width: 1.0;\" x1=\"116\" x2=\"125\" y1=\"87.4023\" y2=\"87.4023\"/><text fill=\"#000000\" font-family=\"sans-serif\" font-size=\"11\" lengthAdjust=\"spacingAndGlyphs\" textLength=\"30\" x=\"125\" y=\"90.7104\">ports</text><line style=\"stroke: #A80036; stroke-width: 1.0;\" x1=\"155\" x2=\"164\" y1=\"87.4023\" y2=\"87.4023\"/></a><!--MD5=[49a0ec8f00dab7302a31f22d0f0fe584]\n",
       "class E12--><a href=\"psysml:4bc8843d-d10d-4f46-93fe-21c75269e8aa\" target=\"_top\" title=\"psysml:4bc8843d-d10d-4f46-93fe-21c75269e8aa\" xlink:actuate=\"onRequest\" xlink:href=\"psysml:4bc8843d-d10d-4f46-93fe-21c75269e8aa\" xlink:show=\"new\" xlink:title=\"psysml:4bc8843d-d10d-4f46-93fe-21c75269e8aa\" xlink:type=\"simple\"><rect fill=\"#FEFECE\" filter=\"url(#f1e5pxvar1q8t0)\" height=\"40\" id=\"E12\" style=\"stroke: #A80036; stroke-width: 1.5;\" width=\"48\" x=\"32\" y=\"62\"/><ellipse cx=\"47\" cy=\"78\" fill=\"#008000\" rx=\"11\" ry=\"11\" style=\"stroke: #A80036; stroke-width: 1.0;\"/><path d=\"M45.9063,78.375 L45.9063,82.0469 L47.5313,82.0469 Q48.7031,82.0469 49.1719,81.6563 Q49.6406,81.25 49.6406,80.25 Q49.6406,79.25 49.1406,78.8125 Q48.6563,78.375 47.5313,78.375 L45.9063,78.375 Z M45.9063,73.5469 L45.9063,76.4219 L47.5313,76.4219 Q48.4531,76.4219 48.8438,76.0938 Q49.25,75.75 49.25,75 Q49.25,74.2344 48.8438,73.8906 Q48.4375,73.5469 47.5313,73.5469 L45.9063,73.5469 Z M43.5313,71.5938 L47.5313,71.5938 Q49.5938,71.5938 50.6406,72.375 Q51.6875,73.1563 51.6875,74.7188 Q51.6875,75.9219 51.0625,76.5938 Q50.4531,77.2656 49.2656,77.375 Q50.6875,77.5156 51.4063,78.3281 Q52.125,79.1406 52.125,80.5938 Q52.125,82.3906 51.0469,83.2031 Q49.9688,84 47.5313,84 L43.5313,84 L43.5313,71.5938 Z \"/><text fill=\"#000000\" font-family=\"sans-serif\" font-size=\"12\" lengthAdjust=\"spacingAndGlyphs\" textLength=\"16\" x=\"61\" y=\"82.1543\">B1</text><line style=\"stroke: #A80036; stroke-width: 1.5;\" x1=\"33\" x2=\"79\" y1=\"94\" y2=\"94\"/></a><!--MD5=[ee3c913d1a06f366521f9ef512b67efe]\n",
       "class E13--><a href=\"psysml:37b5f10a-21e5-48b2-b2b2-bc5c291ce903\" target=\"_top\" title=\"psysml:37b5f10a-21e5-48b2-b2b2-bc5c291ce903\" xlink:actuate=\"onRequest\" xlink:href=\"psysml:37b5f10a-21e5-48b2-b2b2-bc5c291ce903\" xlink:show=\"new\" xlink:title=\"psysml:37b5f10a-21e5-48b2-b2b2-bc5c291ce903\" xlink:type=\"simple\"><rect fill=\"#FEFECE\" filter=\"url(#f1e5pxvar1q8t0)\" height=\"88.3516\" id=\"E13\" rx=\"10\" ry=\"10\" style=\"stroke: #A80036; stroke-width: 1.5;\" width=\"68\" x=\"32\" y=\"183\"/><ellipse cx=\"47\" cy=\"201.9688\" fill=\"#32CD32\" rx=\"11\" ry=\"11\" style=\"stroke: #A80036; stroke-width: 1.0;\"/><path d=\"M46.7969,197.6406 L46.7969,201.2656 L47.7969,201.2656 Q49,201.2656 49.4844,200.8594 Q49.9688,200.4531 49.9688,199.4531 Q49.9688,198.4531 49.4844,198.0469 Q49,197.6406 47.7969,197.6406 L46.7969,197.6406 Z M44.3438,195.5781 L47.7031,195.5781 Q50.2656,195.5781 51.3906,196.5 Q52.5156,197.4063 52.5156,199.4531 Q52.5156,201.5 51.3906,202.4219 Q50.2656,203.3281 47.7031,203.3281 L46.7969,203.3281 L46.7969,207.9688 L44.3438,207.9688 L44.3438,195.5781 Z \"/><text fill=\"#000000\" font-family=\"sans-serif\" font-size=\"12\" font-style=\"italic\" lengthAdjust=\"spacingAndGlyphs\" textLength=\"40\" x=\"59\" y=\"199.1387\">«part»</text><text fill=\"#000000\" font-family=\"sans-serif\" font-size=\"12\" lengthAdjust=\"spacingAndGlyphs\" textLength=\"8\" x=\"75\" y=\"213.1074\">p</text><line style=\"stroke: #A80036; stroke-width: 1.5;\" x1=\"33\" x2=\"99\" y1=\"220.9375\" y2=\"220.9375\"/><text fill=\"#000000\" font-family=\"sans-serif\" font-size=\"11\" lengthAdjust=\"spacingAndGlyphs\" textLength=\"29\" x=\"38\" y=\"251.9526\">p1: P</text><text fill=\"#000000\" font-family=\"sans-serif\" font-size=\"11\" lengthAdjust=\"spacingAndGlyphs\" textLength=\"38\" x=\"38\" y=\"264.7573\">p2: ~P</text><line style=\"stroke: #A80036; stroke-width: 1.0;\" x1=\"33\" x2=\"51\" y1=\"235.3398\" y2=\"235.3398\"/><text fill=\"#000000\" font-family=\"sans-serif\" font-size=\"11\" lengthAdjust=\"spacingAndGlyphs\" textLength=\"30\" x=\"51\" y=\"238.6479\">ports</text><line style=\"stroke: #A80036; stroke-width: 1.0;\" x1=\"81\" x2=\"99\" y1=\"235.3398\" y2=\"235.3398\"/></a><!--MD5=[062ed86c389d1a88f61c6380d0491e17]\n",
       "reverse link E12 to E13--><a href=\"psysml:37b5f10a-21e5-48b2-b2b2-bc5c291ce903\" target=\"_top\" title=\"psysml:37b5f10a-21e5-48b2-b2b2-bc5c291ce903\" xlink:actuate=\"onRequest\" xlink:href=\"psysml:37b5f10a-21e5-48b2-b2b2-bc5c291ce903\" xlink:show=\"new\" xlink:title=\"psysml:37b5f10a-21e5-48b2-b2b2-bc5c291ce903\" xlink:type=\"simple\"><path d=\"M58.26,115.31 C59.65,135.24 61.46,161.03 62.97,182.71 \" fill=\"none\" id=\"E12&lt;-E13\" style=\"stroke: #A80036; stroke-width: 1.0;\"/><polygon fill=\"#A80036\" points=\"57.35,102.29,53.7754,108.5527,58.1815,114.2612,61.7561,107.9984,57.35,102.29\" style=\"stroke: #A80036; stroke-width: 1.0;\"/></a><!--MD5=[e88fb99376ffc9cec516de2dedb9105d]\n",
       "@startuml\r\n",
       " \r\n",
       "package \"ConjugationTest\" as E1  [[psysml:4ba0ad9e-a677-47db-af1d-b015e8f93aef ]]  {\r\n",
       "comp def \"P\" as E2  <<(D,brown)port def>> [[psysml:0d231d17-09c4-40d0-a4bc-6d43713d1eea ]] {\r\n",
       "}\r\n",
       "comp def \"B\" as E3  << (B,green) >> [[psysml:1fca8384-68db-4c35-8908-d644a05ab33b ]] {\r\n",
       "- - ports - -\r\n",
       "p1: P\r\n",
       "p2: ~P\r\n",
       "}\r\n",
       "comp def \"A\" as E6  << (B,green) >> [[psysml:d9048fa2-8c0d-4237-aabb-192a68938198 ]] {\r\n",
       "- - ports - -\r\n",
       "p1: P\r\n",
       "p2: ~P\r\n",
       "}\r\n",
       "comp def \"I\" as E9  << (B,green) >> [[psysml:b68d4e65-0a25-4b32-9474-7d6b33189e06 ]] {\r\n",
       "- - ports - -\r\n",
       "p1: P\r\n",
       "p2: ~P\r\n",
       "}\r\n",
       "comp def \"B1\" as E12  << (B,green) >> [[psysml:4bc8843d-d10d-4f46-93fe-21c75269e8aa ]] {\r\n",
       "}\r\n",
       "comp usage \"p\" as E13  << (P,limegreen) part>> [[psysml:37b5f10a-21e5-48b2-b2b2-bc5c291ce903 ]] {\r\n",
       "- - ports - -\r\n",
       "p1: P\r\n",
       "p2: ~P\r\n",
       "}\r\n",
       "E12 *- - E13 [[psysml:37b5f10a-21e5-48b2-b2b2-bc5c291ce903 ]] \r\n",
       "}\r\n",
       "@enduml\r\n",
       "\n",
       "PlantUML version 1.2020.13(Sat Jun 13 12:26:38 UTC 2020)\n",
       "(EPL source distribution)\n",
       "Java Runtime: OpenJDK Runtime Environment\n",
       "JVM: OpenJDK 64-Bit Server VM\n",
       "Default Encoding: UTF-8\n",
       "Language: en\n",
       "Country: null\n",
       "--></g></svg>"
      ]
     },
     "execution_count": 30,
     "metadata": {},
     "output_type": "execute_result"
    }
   ],
   "source": [
    "%viz --style=\"PLANTUML\" --view=\"Default\" \"ConjugationTest\""
   ]
  },
  {
   "cell_type": "code",
   "execution_count": 31,
   "id": "pharmaceutical-wagon",
   "metadata": {
    "execution": {
     "iopub.execute_input": "2021-03-24T16:29:19.656680Z",
     "iopub.status.busy": "2021-03-24T16:29:19.656359Z",
     "iopub.status.idle": "2021-03-24T16:29:19.737146Z",
     "shell.execute_reply": "2021-03-24T16:29:19.735555Z"
    }
   },
   "outputs": [
    {
     "data": {
      "image/svg+xml": [
       "<?xml version=\"1.0\" encoding=\"UTF-8\" standalone=\"no\"?><svg xmlns=\"http://www.w3.org/2000/svg\" xmlns:xlink=\"http://www.w3.org/1999/xlink\" contentScriptType=\"application/ecmascript\" contentStyleType=\"text/css\" height=\"299px\" preserveAspectRatio=\"none\" style=\"width:500px;height:299px;\" version=\"1.1\" viewBox=\"0 0 500 299\" width=\"500px\" zoomAndPan=\"magnify\"><defs><filter height=\"300%\" id=\"f1e5pxvar1q8t0\" width=\"300%\" x=\"-1\" y=\"-1\"><feGaussianBlur result=\"blurOut\" stdDeviation=\"2.0\"/><feColorMatrix in=\"blurOut\" result=\"blurOut2\" type=\"matrix\" values=\"0 0 0 0 0 0 0 0 0 0 0 0 0 0 0 0 0 0 .4 0\"/><feOffset dx=\"4.0\" dy=\"4.0\" in=\"blurOut2\" result=\"blurOut3\"/><feBlend in=\"SourceGraphic\" in2=\"blurOut3\" mode=\"normal\"/></filter></defs><g><!--MD5=[fbc87193dbaf4d95561dea2c320d4a47]\n",
       "cluster E1--><a href=\"psysml:4ba0ad9e-a677-47db-af1d-b015e8f93aef\" target=\"_top\" title=\"psysml:4ba0ad9e-a677-47db-af1d-b015e8f93aef\" xlink:actuate=\"onRequest\" xlink:href=\"psysml:4ba0ad9e-a677-47db-af1d-b015e8f93aef\" xlink:show=\"new\" xlink:title=\"psysml:4ba0ad9e-a677-47db-af1d-b015e8f93aef\" xlink:type=\"simple\"><polygon fill=\"#FFFFFF\" filter=\"url(#f1e5pxvar1q8t0)\" points=\"16,6,151,6,158,28.2969,478,28.2969,478,287,16,287,16,6\" style=\"stroke: #000000; stroke-width: 1.5;\"/><line style=\"stroke: #000000; stroke-width: 1.5;\" x1=\"16\" x2=\"158\" y1=\"28.2969\" y2=\"28.2969\"/><text fill=\"#000000\" font-family=\"sans-serif\" font-size=\"14\" font-weight=\"bold\" lengthAdjust=\"spacingAndGlyphs\" textLength=\"129\" x=\"20\" y=\"20.9951\">ConjugationTest</text></a><!--MD5=[b4997ac47864f28c2f74865a473b2911]\n",
       "class E2--><a href=\"psysml:0d231d17-09c4-40d0-a4bc-6d43713d1eea\" target=\"_top\" title=\"psysml:0d231d17-09c4-40d0-a4bc-6d43713d1eea\" xlink:actuate=\"onRequest\" xlink:href=\"psysml:0d231d17-09c4-40d0-a4bc-6d43713d1eea\" xlink:show=\"new\" xlink:title=\"psysml:0d231d17-09c4-40d0-a4bc-6d43713d1eea\" xlink:type=\"simple\"><rect fill=\"#FEFECE\" filter=\"url(#f1e5pxvar1q8t0)\" height=\"45.9375\" id=\"E2\" style=\"stroke: #A80036; stroke-width: 1.5;\" width=\"92\" x=\"370\" y=\"59\"/><ellipse cx=\"385\" cy=\"77.9688\" fill=\"#A52A2A\" rx=\"11\" ry=\"11\" style=\"stroke: #A80036; stroke-width: 1.0;\"/><path d=\"M384.5938,73.7813 L384.5938,81.7656 L385.25,81.7656 Q386.6875,81.7656 387.2969,80.8594 Q387.9219,79.9375 387.9219,77.7656 Q387.9219,75.5938 387.2969,74.6875 Q386.6875,73.7813 385.25,73.7813 L384.5938,73.7813 Z M382.1406,71.5781 L384.7656,71.5781 Q387.7969,71.5781 389.125,73.0313 Q390.4688,74.4688 390.4688,77.7656 Q390.4688,81.0625 389.125,82.5156 Q387.7969,83.9688 384.7656,83.9688 L382.1406,83.9688 L382.1406,71.5781 Z \"/><text fill=\"#000000\" font-family=\"sans-serif\" font-size=\"12\" font-style=\"italic\" lengthAdjust=\"spacingAndGlyphs\" textLength=\"64\" x=\"397\" y=\"75.1387\">«port def»</text><text fill=\"#000000\" font-family=\"sans-serif\" font-size=\"12\" lengthAdjust=\"spacingAndGlyphs\" textLength=\"8\" x=\"425\" y=\"89.1074\">P</text><line style=\"stroke: #A80036; stroke-width: 1.5;\" x1=\"371\" x2=\"461\" y1=\"96.9375\" y2=\"96.9375\"/></a><!--MD5=[09b614a08d8cba4a07c9adeb5e0fee81]\n",
       "class E3--><a href=\"psysml:1fca8384-68db-4c35-8908-d644a05ab33b\" target=\"_top\" title=\"psysml:1fca8384-68db-4c35-8908-d644a05ab33b\" xlink:actuate=\"onRequest\" xlink:href=\"psysml:1fca8384-68db-4c35-8908-d644a05ab33b\" xlink:show=\"new\" xlink:title=\"psysml:1fca8384-68db-4c35-8908-d644a05ab33b\" xlink:type=\"simple\"><rect fill=\"#FEFECE\" filter=\"url(#f1e5pxvar1q8t0)\" height=\"82.4141\" id=\"E3\" style=\"stroke: #A80036; stroke-width: 1.5;\" width=\"50\" x=\"285\" y=\"41\"/><ellipse cx=\"304.5\" cy=\"57\" fill=\"#008000\" rx=\"11\" ry=\"11\" style=\"stroke: #A80036; stroke-width: 1.0;\"/><path d=\"M303.4063,57.375 L303.4063,61.0469 L305.0313,61.0469 Q306.2031,61.0469 306.6719,60.6563 Q307.1406,60.25 307.1406,59.25 Q307.1406,58.25 306.6406,57.8125 Q306.1563,57.375 305.0313,57.375 L303.4063,57.375 Z M303.4063,52.5469 L303.4063,55.4219 L305.0313,55.4219 Q305.9531,55.4219 306.3438,55.0938 Q306.75,54.75 306.75,54 Q306.75,53.2344 306.3438,52.8906 Q305.9375,52.5469 305.0313,52.5469 L303.4063,52.5469 Z M301.0313,50.5938 L305.0313,50.5938 Q307.0938,50.5938 308.1406,51.375 Q309.1875,52.1563 309.1875,53.7188 Q309.1875,54.9219 308.5625,55.5938 Q307.9531,56.2656 306.7656,56.375 Q308.1875,56.5156 308.9063,57.3281 Q309.625,58.1406 309.625,59.5938 Q309.625,61.3906 308.5469,62.2031 Q307.4688,63 305.0313,63 L301.0313,63 L301.0313,50.5938 Z \"/><text fill=\"#000000\" font-family=\"sans-serif\" font-size=\"12\" lengthAdjust=\"spacingAndGlyphs\" textLength=\"8\" x=\"319.5\" y=\"61.1543\">B</text><line style=\"stroke: #A80036; stroke-width: 1.5;\" x1=\"286\" x2=\"334\" y1=\"73\" y2=\"73\"/><text fill=\"#000000\" font-family=\"sans-serif\" font-size=\"11\" lengthAdjust=\"spacingAndGlyphs\" textLength=\"29\" x=\"291\" y=\"104.0151\">p1: P</text><text fill=\"#000000\" font-family=\"sans-serif\" font-size=\"11\" lengthAdjust=\"spacingAndGlyphs\" textLength=\"38\" x=\"291\" y=\"116.8198\">p2: ~P</text><line style=\"stroke: #A80036; stroke-width: 1.0;\" x1=\"286\" x2=\"295\" y1=\"87.4023\" y2=\"87.4023\"/><text fill=\"#000000\" font-family=\"sans-serif\" font-size=\"11\" lengthAdjust=\"spacingAndGlyphs\" textLength=\"30\" x=\"295\" y=\"90.7104\">ports</text><line style=\"stroke: #A80036; stroke-width: 1.0;\" x1=\"325\" x2=\"334\" y1=\"87.4023\" y2=\"87.4023\"/></a><!--MD5=[60a26617385b1d2d0262a64233df1f8d]\n",
       "class E6--><a href=\"psysml:d9048fa2-8c0d-4237-aabb-192a68938198\" target=\"_top\" title=\"psysml:d9048fa2-8c0d-4237-aabb-192a68938198\" xlink:actuate=\"onRequest\" xlink:href=\"psysml:d9048fa2-8c0d-4237-aabb-192a68938198\" xlink:show=\"new\" xlink:title=\"psysml:d9048fa2-8c0d-4237-aabb-192a68938198\" xlink:type=\"simple\"><rect fill=\"#FEFECE\" filter=\"url(#f1e5pxvar1q8t0)\" height=\"82.4141\" id=\"E6\" style=\"stroke: #A80036; stroke-width: 1.5;\" width=\"50\" x=\"200\" y=\"41\"/><ellipse cx=\"219.5\" cy=\"57\" fill=\"#008000\" rx=\"11\" ry=\"11\" style=\"stroke: #A80036; stroke-width: 1.0;\"/><path d=\"M218.4063,57.375 L218.4063,61.0469 L220.0313,61.0469 Q221.2031,61.0469 221.6719,60.6563 Q222.1406,60.25 222.1406,59.25 Q222.1406,58.25 221.6406,57.8125 Q221.1563,57.375 220.0313,57.375 L218.4063,57.375 Z M218.4063,52.5469 L218.4063,55.4219 L220.0313,55.4219 Q220.9531,55.4219 221.3438,55.0938 Q221.75,54.75 221.75,54 Q221.75,53.2344 221.3438,52.8906 Q220.9375,52.5469 220.0313,52.5469 L218.4063,52.5469 Z M216.0313,50.5938 L220.0313,50.5938 Q222.0938,50.5938 223.1406,51.375 Q224.1875,52.1563 224.1875,53.7188 Q224.1875,54.9219 223.5625,55.5938 Q222.9531,56.2656 221.7656,56.375 Q223.1875,56.5156 223.9063,57.3281 Q224.625,58.1406 224.625,59.5938 Q224.625,61.3906 223.5469,62.2031 Q222.4688,63 220.0313,63 L216.0313,63 L216.0313,50.5938 Z \"/><text fill=\"#000000\" font-family=\"sans-serif\" font-size=\"12\" lengthAdjust=\"spacingAndGlyphs\" textLength=\"8\" x=\"234.5\" y=\"61.1543\">A</text><line style=\"stroke: #A80036; stroke-width: 1.5;\" x1=\"201\" x2=\"249\" y1=\"73\" y2=\"73\"/><text fill=\"#000000\" font-family=\"sans-serif\" font-size=\"11\" lengthAdjust=\"spacingAndGlyphs\" textLength=\"29\" x=\"206\" y=\"104.0151\">p1: P</text><text fill=\"#000000\" font-family=\"sans-serif\" font-size=\"11\" lengthAdjust=\"spacingAndGlyphs\" textLength=\"38\" x=\"206\" y=\"116.8198\">p2: ~P</text><line style=\"stroke: #A80036; stroke-width: 1.0;\" x1=\"201\" x2=\"210\" y1=\"87.4023\" y2=\"87.4023\"/><text fill=\"#000000\" font-family=\"sans-serif\" font-size=\"11\" lengthAdjust=\"spacingAndGlyphs\" textLength=\"30\" x=\"210\" y=\"90.7104\">ports</text><line style=\"stroke: #A80036; stroke-width: 1.0;\" x1=\"240\" x2=\"249\" y1=\"87.4023\" y2=\"87.4023\"/></a><!--MD5=[fd4143e9d270a159db93a4ea2a975926]\n",
       "class E9--><a href=\"psysml:b68d4e65-0a25-4b32-9474-7d6b33189e06\" target=\"_top\" title=\"psysml:b68d4e65-0a25-4b32-9474-7d6b33189e06\" xlink:actuate=\"onRequest\" xlink:href=\"psysml:b68d4e65-0a25-4b32-9474-7d6b33189e06\" xlink:show=\"new\" xlink:title=\"psysml:b68d4e65-0a25-4b32-9474-7d6b33189e06\" xlink:type=\"simple\"><rect fill=\"#FEFECE\" filter=\"url(#f1e5pxvar1q8t0)\" height=\"82.4141\" id=\"E9\" style=\"stroke: #A80036; stroke-width: 1.5;\" width=\"50\" x=\"115\" y=\"41\"/><ellipse cx=\"136.75\" cy=\"57\" fill=\"#008000\" rx=\"11\" ry=\"11\" style=\"stroke: #A80036; stroke-width: 1.0;\"/><path d=\"M135.6563,57.375 L135.6563,61.0469 L137.2813,61.0469 Q138.4531,61.0469 138.9219,60.6563 Q139.3906,60.25 139.3906,59.25 Q139.3906,58.25 138.8906,57.8125 Q138.4063,57.375 137.2813,57.375 L135.6563,57.375 Z M135.6563,52.5469 L135.6563,55.4219 L137.2813,55.4219 Q138.2031,55.4219 138.5938,55.0938 Q139,54.75 139,54 Q139,53.2344 138.5938,52.8906 Q138.1875,52.5469 137.2813,52.5469 L135.6563,52.5469 Z M133.2813,50.5938 L137.2813,50.5938 Q139.3438,50.5938 140.3906,51.375 Q141.4375,52.1563 141.4375,53.7188 Q141.4375,54.9219 140.8125,55.5938 Q140.2031,56.2656 139.0156,56.375 Q140.4375,56.5156 141.1563,57.3281 Q141.875,58.1406 141.875,59.5938 Q141.875,61.3906 140.7969,62.2031 Q139.7188,63 137.2813,63 L133.2813,63 L133.2813,50.5938 Z \"/><text fill=\"#000000\" font-family=\"sans-serif\" font-size=\"12\" lengthAdjust=\"spacingAndGlyphs\" textLength=\"3\" x=\"152.25\" y=\"61.1543\">I</text><line style=\"stroke: #A80036; stroke-width: 1.5;\" x1=\"116\" x2=\"164\" y1=\"73\" y2=\"73\"/><text fill=\"#000000\" font-family=\"sans-serif\" font-size=\"11\" lengthAdjust=\"spacingAndGlyphs\" textLength=\"29\" x=\"121\" y=\"104.0151\">p1: P</text><text fill=\"#000000\" font-family=\"sans-serif\" font-size=\"11\" lengthAdjust=\"spacingAndGlyphs\" textLength=\"38\" x=\"121\" y=\"116.8198\">p2: ~P</text><line style=\"stroke: #A80036; stroke-width: 1.0;\" x1=\"116\" x2=\"125\" y1=\"87.4023\" y2=\"87.4023\"/><text fill=\"#000000\" font-family=\"sans-serif\" font-size=\"11\" lengthAdjust=\"spacingAndGlyphs\" textLength=\"30\" x=\"125\" y=\"90.7104\">ports</text><line style=\"stroke: #A80036; stroke-width: 1.0;\" x1=\"155\" x2=\"164\" y1=\"87.4023\" y2=\"87.4023\"/></a><!--MD5=[49a0ec8f00dab7302a31f22d0f0fe584]\n",
       "class E12--><a href=\"psysml:4bc8843d-d10d-4f46-93fe-21c75269e8aa\" target=\"_top\" title=\"psysml:4bc8843d-d10d-4f46-93fe-21c75269e8aa\" xlink:actuate=\"onRequest\" xlink:href=\"psysml:4bc8843d-d10d-4f46-93fe-21c75269e8aa\" xlink:show=\"new\" xlink:title=\"psysml:4bc8843d-d10d-4f46-93fe-21c75269e8aa\" xlink:type=\"simple\"><rect fill=\"#FEFECE\" filter=\"url(#f1e5pxvar1q8t0)\" height=\"40\" id=\"E12\" style=\"stroke: #A80036; stroke-width: 1.5;\" width=\"48\" x=\"32\" y=\"62\"/><ellipse cx=\"47\" cy=\"78\" fill=\"#008000\" rx=\"11\" ry=\"11\" style=\"stroke: #A80036; stroke-width: 1.0;\"/><path d=\"M45.9063,78.375 L45.9063,82.0469 L47.5313,82.0469 Q48.7031,82.0469 49.1719,81.6563 Q49.6406,81.25 49.6406,80.25 Q49.6406,79.25 49.1406,78.8125 Q48.6563,78.375 47.5313,78.375 L45.9063,78.375 Z M45.9063,73.5469 L45.9063,76.4219 L47.5313,76.4219 Q48.4531,76.4219 48.8438,76.0938 Q49.25,75.75 49.25,75 Q49.25,74.2344 48.8438,73.8906 Q48.4375,73.5469 47.5313,73.5469 L45.9063,73.5469 Z M43.5313,71.5938 L47.5313,71.5938 Q49.5938,71.5938 50.6406,72.375 Q51.6875,73.1563 51.6875,74.7188 Q51.6875,75.9219 51.0625,76.5938 Q50.4531,77.2656 49.2656,77.375 Q50.6875,77.5156 51.4063,78.3281 Q52.125,79.1406 52.125,80.5938 Q52.125,82.3906 51.0469,83.2031 Q49.9688,84 47.5313,84 L43.5313,84 L43.5313,71.5938 Z \"/><text fill=\"#000000\" font-family=\"sans-serif\" font-size=\"12\" lengthAdjust=\"spacingAndGlyphs\" textLength=\"16\" x=\"61\" y=\"82.1543\">B1</text><line style=\"stroke: #A80036; stroke-width: 1.5;\" x1=\"33\" x2=\"79\" y1=\"94\" y2=\"94\"/></a><!--MD5=[ee3c913d1a06f366521f9ef512b67efe]\n",
       "class E13--><a href=\"psysml:37b5f10a-21e5-48b2-b2b2-bc5c291ce903\" target=\"_top\" title=\"psysml:37b5f10a-21e5-48b2-b2b2-bc5c291ce903\" xlink:actuate=\"onRequest\" xlink:href=\"psysml:37b5f10a-21e5-48b2-b2b2-bc5c291ce903\" xlink:show=\"new\" xlink:title=\"psysml:37b5f10a-21e5-48b2-b2b2-bc5c291ce903\" xlink:type=\"simple\"><rect fill=\"#FEFECE\" filter=\"url(#f1e5pxvar1q8t0)\" height=\"88.3516\" id=\"E13\" rx=\"10\" ry=\"10\" style=\"stroke: #A80036; stroke-width: 1.5;\" width=\"68\" x=\"32\" y=\"183\"/><ellipse cx=\"47\" cy=\"201.9688\" fill=\"#32CD32\" rx=\"11\" ry=\"11\" style=\"stroke: #A80036; stroke-width: 1.0;\"/><path d=\"M46.7969,197.6406 L46.7969,201.2656 L47.7969,201.2656 Q49,201.2656 49.4844,200.8594 Q49.9688,200.4531 49.9688,199.4531 Q49.9688,198.4531 49.4844,198.0469 Q49,197.6406 47.7969,197.6406 L46.7969,197.6406 Z M44.3438,195.5781 L47.7031,195.5781 Q50.2656,195.5781 51.3906,196.5 Q52.5156,197.4063 52.5156,199.4531 Q52.5156,201.5 51.3906,202.4219 Q50.2656,203.3281 47.7031,203.3281 L46.7969,203.3281 L46.7969,207.9688 L44.3438,207.9688 L44.3438,195.5781 Z \"/><text fill=\"#000000\" font-family=\"sans-serif\" font-size=\"12\" font-style=\"italic\" lengthAdjust=\"spacingAndGlyphs\" textLength=\"40\" x=\"59\" y=\"199.1387\">«part»</text><text fill=\"#000000\" font-family=\"sans-serif\" font-size=\"12\" lengthAdjust=\"spacingAndGlyphs\" textLength=\"8\" x=\"75\" y=\"213.1074\">p</text><line style=\"stroke: #A80036; stroke-width: 1.5;\" x1=\"33\" x2=\"99\" y1=\"220.9375\" y2=\"220.9375\"/><text fill=\"#000000\" font-family=\"sans-serif\" font-size=\"11\" lengthAdjust=\"spacingAndGlyphs\" textLength=\"29\" x=\"38\" y=\"251.9526\">p1: P</text><text fill=\"#000000\" font-family=\"sans-serif\" font-size=\"11\" lengthAdjust=\"spacingAndGlyphs\" textLength=\"38\" x=\"38\" y=\"264.7573\">p2: ~P</text><line style=\"stroke: #A80036; stroke-width: 1.0;\" x1=\"33\" x2=\"51\" y1=\"235.3398\" y2=\"235.3398\"/><text fill=\"#000000\" font-family=\"sans-serif\" font-size=\"11\" lengthAdjust=\"spacingAndGlyphs\" textLength=\"30\" x=\"51\" y=\"238.6479\">ports</text><line style=\"stroke: #A80036; stroke-width: 1.0;\" x1=\"81\" x2=\"99\" y1=\"235.3398\" y2=\"235.3398\"/></a><!--MD5=[062ed86c389d1a88f61c6380d0491e17]\n",
       "reverse link E12 to E13--><a href=\"psysml:37b5f10a-21e5-48b2-b2b2-bc5c291ce903\" target=\"_top\" title=\"psysml:37b5f10a-21e5-48b2-b2b2-bc5c291ce903\" xlink:actuate=\"onRequest\" xlink:href=\"psysml:37b5f10a-21e5-48b2-b2b2-bc5c291ce903\" xlink:show=\"new\" xlink:title=\"psysml:37b5f10a-21e5-48b2-b2b2-bc5c291ce903\" xlink:type=\"simple\"><path d=\"M58.26,115.31 C59.65,135.24 61.46,161.03 62.97,182.71 \" fill=\"none\" id=\"E12&lt;-E13\" style=\"stroke: #A80036; stroke-width: 1.0;\"/><polygon fill=\"#A80036\" points=\"57.35,102.29,53.7754,108.5527,58.1815,114.2612,61.7561,107.9984,57.35,102.29\" style=\"stroke: #A80036; stroke-width: 1.0;\"/></a><!--MD5=[e88fb99376ffc9cec516de2dedb9105d]\n",
       "@startuml\r\n",
       " \r\n",
       "package \"ConjugationTest\" as E1  [[psysml:4ba0ad9e-a677-47db-af1d-b015e8f93aef ]]  {\r\n",
       "comp def \"P\" as E2  <<(D,brown)port def>> [[psysml:0d231d17-09c4-40d0-a4bc-6d43713d1eea ]] {\r\n",
       "}\r\n",
       "comp def \"B\" as E3  << (B,green) >> [[psysml:1fca8384-68db-4c35-8908-d644a05ab33b ]] {\r\n",
       "- - ports - -\r\n",
       "p1: P\r\n",
       "p2: ~P\r\n",
       "}\r\n",
       "comp def \"A\" as E6  << (B,green) >> [[psysml:d9048fa2-8c0d-4237-aabb-192a68938198 ]] {\r\n",
       "- - ports - -\r\n",
       "p1: P\r\n",
       "p2: ~P\r\n",
       "}\r\n",
       "comp def \"I\" as E9  << (B,green) >> [[psysml:b68d4e65-0a25-4b32-9474-7d6b33189e06 ]] {\r\n",
       "- - ports - -\r\n",
       "p1: P\r\n",
       "p2: ~P\r\n",
       "}\r\n",
       "comp def \"B1\" as E12  << (B,green) >> [[psysml:4bc8843d-d10d-4f46-93fe-21c75269e8aa ]] {\r\n",
       "}\r\n",
       "comp usage \"p\" as E13  << (P,limegreen) part>> [[psysml:37b5f10a-21e5-48b2-b2b2-bc5c291ce903 ]] {\r\n",
       "- - ports - -\r\n",
       "p1: P\r\n",
       "p2: ~P\r\n",
       "}\r\n",
       "E12 *- - E13 [[psysml:37b5f10a-21e5-48b2-b2b2-bc5c291ce903 ]] \r\n",
       "}\r\n",
       "@enduml\r\n",
       "\n",
       "PlantUML version 1.2020.13(Sat Jun 13 12:26:38 UTC 2020)\n",
       "(EPL source distribution)\n",
       "Java Runtime: OpenJDK Runtime Environment\n",
       "JVM: OpenJDK 64-Bit Server VM\n",
       "Default Encoding: UTF-8\n",
       "Language: en\n",
       "Country: null\n",
       "--></g></svg>"
      ]
     },
     "execution_count": 31,
     "metadata": {},
     "output_type": "execute_result"
    }
   ],
   "source": [
    "%viz --style=\"PLANTUML\" --view=\"Tree\" \"ConjugationTest\""
   ]
  },
  {
   "cell_type": "code",
   "execution_count": 32,
   "id": "buried-quantum",
   "metadata": {
    "execution": {
     "iopub.execute_input": "2021-03-24T16:29:19.788276Z",
     "iopub.status.busy": "2021-03-24T16:29:19.787572Z",
     "iopub.status.idle": "2021-03-24T16:29:19.865310Z",
     "shell.execute_reply": "2021-03-24T16:29:19.864975Z"
    }
   },
   "outputs": [
    {
     "data": {
      "image/svg+xml": [
       "<?xml version=\"1.0\" encoding=\"UTF-8\" standalone=\"no\"?><svg xmlns=\"http://www.w3.org/2000/svg\" xmlns:xlink=\"http://www.w3.org/1999/xlink\" contentScriptType=\"application/ecmascript\" contentStyleType=\"text/css\" height=\"303px\" preserveAspectRatio=\"none\" style=\"width:603px;height:303px;background:#000000;\" version=\"1.1\" viewBox=\"0 0 603 303\" width=\"603px\" zoomAndPan=\"magnify\"><defs/><g><rect fill=\"#0E0F1C\" height=\"1\" style=\"stroke: #0E0F1C; stroke-width: 1.0;\" width=\"1\" x=\"0\" y=\"0\"/><rect fill=\"#FFFFFF\" height=\"205.5625\" style=\"stroke: #FFFFFF; stroke-width: 1.0;\" width=\"602\" x=\"0\" y=\"0\"/><text fill=\"#000000\" font-family=\"sans-serif\" font-size=\"12\" font-weight=\"bold\" lengthAdjust=\"spacingAndGlyphs\" textLength=\"159\" x=\"5\" y=\"16.1387\">Welcome to PlantUML!</text><text fill=\"#000000\" font-family=\"sans-serif\" font-size=\"12\" lengthAdjust=\"spacingAndGlyphs\" textLength=\"0\" x=\"9\" y=\"30.1074\"/><text fill=\"#000000\" font-family=\"sans-serif\" font-size=\"12\" lengthAdjust=\"spacingAndGlyphs\" textLength=\"293\" x=\"5\" y=\"44.0762\">If you use this software, you accept its license.</text><text fill=\"#000000\" font-family=\"sans-serif\" font-size=\"12\" lengthAdjust=\"spacingAndGlyphs\" textLength=\"107\" x=\"5\" y=\"58.0449\">(details by typing</text><text fill=\"#000000\" font-family=\"monospace\" font-size=\"12\" lengthAdjust=\"spacingAndGlyphs\" textLength=\"49\" x=\"116\" y=\"58.0449\">license</text><text fill=\"#000000\" font-family=\"sans-serif\" font-size=\"12\" lengthAdjust=\"spacingAndGlyphs\" textLength=\"56\" x=\"169\" y=\"58.0449\">keyword)</text><text fill=\"#000000\" font-family=\"sans-serif\" font-size=\"12\" lengthAdjust=\"spacingAndGlyphs\" textLength=\"0\" x=\"9\" y=\"72.0137\"/><text fill=\"#000000\" font-family=\"sans-serif\" font-size=\"12\" lengthAdjust=\"spacingAndGlyphs\" textLength=\"283\" x=\"5\" y=\"85.9824\">You can start with a simple UML Diagram like:</text><text fill=\"#000000\" font-family=\"sans-serif\" font-size=\"12\" lengthAdjust=\"spacingAndGlyphs\" textLength=\"0\" x=\"9\" y=\"99.9512\"/><text fill=\"#000000\" font-family=\"monospace\" font-size=\"12\" lengthAdjust=\"spacingAndGlyphs\" textLength=\"119\" x=\"5\" y=\"113.9199\">Bob-&gt;Alice: Hello</text><text fill=\"#000000\" font-family=\"sans-serif\" font-size=\"12\" lengthAdjust=\"spacingAndGlyphs\" textLength=\"0\" x=\"9\" y=\"127.8887\"/><text fill=\"#000000\" font-family=\"sans-serif\" font-size=\"12\" lengthAdjust=\"spacingAndGlyphs\" textLength=\"14\" x=\"5\" y=\"141.8574\">Or</text><text fill=\"#000000\" font-family=\"sans-serif\" font-size=\"12\" lengthAdjust=\"spacingAndGlyphs\" textLength=\"0\" x=\"9\" y=\"155.8262\"/><text fill=\"#000000\" font-family=\"monospace\" font-size=\"12\" lengthAdjust=\"spacingAndGlyphs\" textLength=\"91\" x=\"5\" y=\"169.7949\">class Example</text><text fill=\"#000000\" font-family=\"sans-serif\" font-size=\"12\" lengthAdjust=\"spacingAndGlyphs\" textLength=\"0\" x=\"9\" y=\"183.7637\"/><text fill=\"#000000\" font-family=\"sans-serif\" font-size=\"12\" lengthAdjust=\"spacingAndGlyphs\" textLength=\"349\" x=\"5\" y=\"197.7324\">You will find more information about PlantUML syntax on</text><text fill=\"#000000\" font-family=\"sans-serif\" font-size=\"12\" lengthAdjust=\"spacingAndGlyphs\" text-decoration=\"underline\" textLength=\"129\" x=\"358\" y=\"197.7324\">https://plantuml.com</text><image height=\"71\" width=\"80\" x=\"516\" xlink:href=\"data:image/png;base64,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\" y=\"6\"/><rect fill=\"#000000\" height=\"96.4844\" style=\"stroke: #000000; stroke-width: 1.0;\" width=\"602\" x=\"0\" y=\"205.5625\"/><rect fill=\"#33FF02\" height=\"21.2969\" style=\"stroke: #33FF02; stroke-width: 1.0;\" width=\"170\" x=\"5\" y=\"210.5625\"/><text fill=\"#000000\" font-family=\"sans-serif\" font-size=\"14\" font-weight=\"bold\" lengthAdjust=\"spacingAndGlyphs\" textLength=\"168\" x=\"6\" y=\"225.5625\">[From string (line 2) ]</text><text fill=\"#33FF02\" font-family=\"sans-serif\" font-size=\"14\" font-weight=\"bold\" lengthAdjust=\"spacingAndGlyphs\" textLength=\"0\" x=\"10\" y=\"245.8594\"/><text fill=\"#33FF02\" font-family=\"sans-serif\" font-size=\"14\" font-weight=\"bold\" lengthAdjust=\"spacingAndGlyphs\" textLength=\"79\" x=\"5\" y=\"262.1563\">@startuml</text><text fill=\"#33FF02\" font-family=\"sans-serif\" font-size=\"14\" font-weight=\"bold\" lengthAdjust=\"spacingAndGlyphs\" textLength=\"0\" x=\"10\" y=\"278.4531\"/><text fill=\"#FF0000\" font-family=\"sans-serif\" font-size=\"14\" font-weight=\"bold\" lengthAdjust=\"spacingAndGlyphs\" textLength=\"142\" x=\"10\" y=\"294.75\">Empty description</text><!--MD5=[f59edd8218d337f74d0c332fc6737304]\n",
       "@startuml\r\n",
       " \r\n",
       "@enduml\r\n",
       "\n",
       "PlantUML version 1.2020.13(Sat Jun 13 12:26:38 UTC 2020)\n",
       "(EPL source distribution)\n",
       "Java Runtime: OpenJDK Runtime Environment\n",
       "JVM: OpenJDK 64-Bit Server VM\n",
       "Default Encoding: UTF-8\n",
       "Language: en\n",
       "Country: null\n",
       "--></g></svg>"
      ]
     },
     "execution_count": 32,
     "metadata": {},
     "output_type": "execute_result"
    }
   ],
   "source": [
    "%viz --style=\"PLANTUML\" --view=\"State\" \"ConjugationTest\""
   ]
  },
  {
   "cell_type": "code",
   "execution_count": 33,
   "id": "working-startup",
   "metadata": {
    "execution": {
     "iopub.execute_input": "2021-03-24T16:29:19.915995Z",
     "iopub.status.busy": "2021-03-24T16:29:19.915470Z",
     "iopub.status.idle": "2021-03-24T16:29:19.951030Z",
     "shell.execute_reply": "2021-03-24T16:29:19.949688Z"
    }
   },
   "outputs": [
    {
     "data": {
      "image/svg+xml": [
       "<?xml version=\"1.0\" encoding=\"UTF-8\" standalone=\"no\"?><svg xmlns=\"http://www.w3.org/2000/svg\" xmlns:xlink=\"http://www.w3.org/1999/xlink\" contentScriptType=\"application/ecmascript\" contentStyleType=\"text/css\" height=\"222px\" preserveAspectRatio=\"none\" style=\"width:568px;height:222px;\" version=\"1.1\" viewBox=\"0 0 568 222\" width=\"568px\" zoomAndPan=\"magnify\"><defs><filter height=\"300%\" id=\"f6qqze1zz8b29\" width=\"300%\" x=\"-1\" y=\"-1\"><feGaussianBlur result=\"blurOut\" stdDeviation=\"2.0\"/><feColorMatrix in=\"blurOut\" result=\"blurOut2\" type=\"matrix\" values=\"0 0 0 0 0 0 0 0 0 0 0 0 0 0 0 0 0 0 .4 0\"/><feOffset dx=\"4.0\" dy=\"4.0\" in=\"blurOut2\" result=\"blurOut3\"/><feBlend in=\"SourceGraphic\" in2=\"blurOut3\" mode=\"normal\"/></filter></defs><g><!--MD5=[fbc87193dbaf4d95561dea2c320d4a47]\n",
       "cluster E1--><a href=\"psysml:4ba0ad9e-a677-47db-af1d-b015e8f93aef\" target=\"_top\" title=\"psysml:4ba0ad9e-a677-47db-af1d-b015e8f93aef\" xlink:actuate=\"onRequest\" xlink:href=\"psysml:4ba0ad9e-a677-47db-af1d-b015e8f93aef\" xlink:show=\"new\" xlink:title=\"psysml:4ba0ad9e-a677-47db-af1d-b015e8f93aef\" xlink:type=\"simple\"><polygon fill=\"#FFFFFF\" filter=\"url(#f6qqze1zz8b29)\" points=\"16,6,151,6,158,28.2969,546,28.2969,546,210.5,16,210.5,16,6\" style=\"stroke: #000000; stroke-width: 1.5;\"/><line style=\"stroke: #000000; stroke-width: 1.5;\" x1=\"16\" x2=\"158\" y1=\"28.2969\" y2=\"28.2969\"/><text fill=\"#000000\" font-family=\"sans-serif\" font-size=\"14\" font-weight=\"bold\" lengthAdjust=\"spacingAndGlyphs\" textLength=\"129\" x=\"20\" y=\"20.9951\">ConjugationTest</text></a><!--MD5=[d5e69f78d87373223dbae638b30a9c99]\n",
       "cluster E3--><a href=\"psysml:1fca8384-68db-4c35-8908-d644a05ab33b\" target=\"_top\" title=\"psysml:1fca8384-68db-4c35-8908-d644a05ab33b\" xlink:actuate=\"onRequest\" xlink:href=\"psysml:1fca8384-68db-4c35-8908-d644a05ab33b\" xlink:show=\"new\" xlink:title=\"psysml:1fca8384-68db-4c35-8908-d644a05ab33b\" xlink:type=\"simple\"><rect fill=\"#FFFFFF\" filter=\"url(#f6qqze1zz8b29)\" height=\"72.5\" id=\"E3\" style=\"stroke: #A80036; stroke-width: 1.5;\" width=\"83\" x=\"451\" y=\"98\"/><rect fill=\"#FEFECE\" height=\"23.9688\" style=\"stroke: #A80036; stroke-width: 1.5;\" width=\"83\" x=\"451\" y=\"98\"/><text fill=\"#000000\" font-family=\"sans-serif\" font-size=\"12\" lengthAdjust=\"spacingAndGlyphs\" textLength=\"8\" x=\"488.5\" y=\"114.1387\">B</text></a><!--MD5=[14e3b0961a2654348d326746436168a1]\n",
       "cluster E6--><a href=\"psysml:d9048fa2-8c0d-4237-aabb-192a68938198\" target=\"_top\" title=\"psysml:d9048fa2-8c0d-4237-aabb-192a68938198\" xlink:actuate=\"onRequest\" xlink:href=\"psysml:d9048fa2-8c0d-4237-aabb-192a68938198\" xlink:show=\"new\" xlink:title=\"psysml:d9048fa2-8c0d-4237-aabb-192a68938198\" xlink:type=\"simple\"><rect fill=\"#FFFFFF\" filter=\"url(#f6qqze1zz8b29)\" height=\"72.5\" id=\"E6\" style=\"stroke: #A80036; stroke-width: 1.5;\" width=\"83\" x=\"357\" y=\"98\"/><rect fill=\"#FEFECE\" height=\"23.9688\" style=\"stroke: #A80036; stroke-width: 1.5;\" width=\"83\" x=\"357\" y=\"98\"/><text fill=\"#000000\" font-family=\"sans-serif\" font-size=\"12\" lengthAdjust=\"spacingAndGlyphs\" textLength=\"8\" x=\"394.5\" y=\"114.1387\">A</text></a><!--MD5=[7f149f147074ac12df2cb0a7728a5fb0]\n",
       "cluster E9--><a href=\"psysml:b68d4e65-0a25-4b32-9474-7d6b33189e06\" target=\"_top\" title=\"psysml:b68d4e65-0a25-4b32-9474-7d6b33189e06\" xlink:actuate=\"onRequest\" xlink:href=\"psysml:b68d4e65-0a25-4b32-9474-7d6b33189e06\" xlink:show=\"new\" xlink:title=\"psysml:b68d4e65-0a25-4b32-9474-7d6b33189e06\" xlink:type=\"simple\"><rect fill=\"#FFFFFF\" filter=\"url(#f6qqze1zz8b29)\" height=\"72.5\" id=\"E9\" style=\"stroke: #A80036; stroke-width: 1.5;\" width=\"83\" x=\"263\" y=\"98\"/><rect fill=\"#FEFECE\" height=\"23.9688\" style=\"stroke: #A80036; stroke-width: 1.5;\" width=\"83\" x=\"263\" y=\"98\"/><text fill=\"#000000\" font-family=\"sans-serif\" font-size=\"12\" lengthAdjust=\"spacingAndGlyphs\" textLength=\"3\" x=\"303\" y=\"114.1387\">I</text></a><!--MD5=[47bea60c1a0ac6c1143df232041969c0]\n",
       "cluster E12--><a href=\"psysml:4bc8843d-d10d-4f46-93fe-21c75269e8aa\" target=\"_top\" title=\"psysml:4bc8843d-d10d-4f46-93fe-21c75269e8aa\" xlink:actuate=\"onRequest\" xlink:href=\"psysml:4bc8843d-d10d-4f46-93fe-21c75269e8aa\" xlink:show=\"new\" xlink:title=\"psysml:4bc8843d-d10d-4f46-93fe-21c75269e8aa\" xlink:type=\"simple\"><rect fill=\"#FFFFFF\" filter=\"url(#f6qqze1zz8b29)\" height=\"137.5\" id=\"E12\" style=\"stroke: #A80036; stroke-width: 1.5;\" width=\"107\" x=\"144\" y=\"49\"/><rect fill=\"#FEFECE\" height=\"23.9688\" style=\"stroke: #A80036; stroke-width: 1.5;\" width=\"107\" x=\"144\" y=\"49\"/><text fill=\"#000000\" font-family=\"sans-serif\" font-size=\"12\" lengthAdjust=\"spacingAndGlyphs\" textLength=\"16\" x=\"189.5\" y=\"65.1387\">B1</text></a><!--MD5=[03104f77b71e2d8d3500c651e6e31181]\n",
       "cluster E13--><a href=\"psysml:37b5f10a-21e5-48b2-b2b2-bc5c291ce903\" target=\"_top\" title=\"psysml:37b5f10a-21e5-48b2-b2b2-bc5c291ce903\" xlink:actuate=\"onRequest\" xlink:href=\"psysml:37b5f10a-21e5-48b2-b2b2-bc5c291ce903\" xlink:show=\"new\" xlink:title=\"psysml:37b5f10a-21e5-48b2-b2b2-bc5c291ce903\" xlink:type=\"simple\"><rect fill=\"#FFFFFF\" filter=\"url(#f6qqze1zz8b29)\" height=\"72.5\" id=\"E13\" rx=\"10\" ry=\"10\" style=\"stroke: #A80036; stroke-width: 1.5;\" width=\"83\" x=\"156\" y=\"98\"/><rect fill=\"#FEFECE\" height=\"23.9688\" rx=\"10\" ry=\"10\" style=\"stroke: #FEFECE; stroke-width: 1.5;\" width=\"83\" x=\"156\" y=\"98\"/><rect fill=\"#FEFECE\" height=\"10\" style=\"stroke: #FEFECE; stroke-width: 1.5;\" width=\"83\" x=\"156\" y=\"111.9688\"/><rect fill=\"none\" height=\"72.5\" id=\"E13\" rx=\"10\" ry=\"10\" style=\"stroke: #A80036; stroke-width: 1.5;\" width=\"83\" x=\"156\" y=\"98\"/><text fill=\"#000000\" font-family=\"sans-serif\" font-size=\"12\" lengthAdjust=\"spacingAndGlyphs\" textLength=\"8\" x=\"193.5\" y=\"114.1387\">p</text><line style=\"stroke: #A80036; stroke-width: 1.0;\" x1=\"156\" x2=\"239\" y1=\"121.9688\" y2=\"121.9688\"/></a><g id=\"E1.E2\"><a href=\"psysml:0d231d17-09c4-40d0-a4bc-6d43713d1eea\" target=\"_top\" title=\"psysml:0d231d17-09c4-40d0-a4bc-6d43713d1eea\" xlink:actuate=\"onRequest\" xlink:href=\"psysml:0d231d17-09c4-40d0-a4bc-6d43713d1eea\" xlink:show=\"new\" xlink:title=\"psysml:0d231d17-09c4-40d0-a4bc-6d43713d1eea\" xlink:type=\"simple\"><rect fill=\"#FEFECE\" filter=\"url(#f6qqze1zz8b29)\" height=\"42.9375\" id=\"E2\" style=\"stroke: #A80036; stroke-width: 1.5;\" width=\"97\" x=\"31.5\" y=\"76.5\"/><ellipse cx=\"48.75\" cy=\"95.4688\" fill=\"#A52A2A\" rx=\"11\" ry=\"11\" style=\"stroke: #A80036; stroke-width: 1.0;\"/><path d=\"M48.3438,91.2813 L48.3438,99.2656 L49,99.2656 Q50.4375,99.2656 51.0469,98.3594 Q51.6719,97.4375 51.6719,95.2656 Q51.6719,93.0938 51.0469,92.1875 Q50.4375,91.2813 49,91.2813 L48.3438,91.2813 Z M45.8906,89.0781 L48.5156,89.0781 Q51.5469,89.0781 52.875,90.5313 Q54.2188,91.9688 54.2188,95.2656 Q54.2188,98.5625 52.875,100.0156 Q51.5469,101.4688 48.5156,101.4688 L45.8906,101.4688 L45.8906,89.0781 Z \"/><text fill=\"#000000\" font-family=\"sans-serif\" font-size=\"12\" font-style=\"italic\" lengthAdjust=\"spacingAndGlyphs\" textLength=\"64\" x=\"61.25\" y=\"92.6387\">«port def»</text><text fill=\"#000000\" font-family=\"sans-serif\" font-size=\"12\" lengthAdjust=\"spacingAndGlyphs\" textLength=\"8\" x=\"89.25\" y=\"106.6074\">P</text></a></g><text fill=\"#000000\" font-family=\"sans-serif\" font-size=\"14\" lengthAdjust=\"spacingAndGlyphs\" textLength=\"36\" x=\"451\" y=\"76.6982\">p1: P</text><rect fill=\"#A80036\" height=\"12\" style=\"stroke: #FEFECE; stroke-width: 1.5;\" width=\"12\" x=\"463\" y=\"92\"/><text fill=\"#000000\" font-family=\"sans-serif\" font-size=\"14\" lengthAdjust=\"spacingAndGlyphs\" textLength=\"48\" x=\"492\" y=\"76.6982\">p2: ~P</text><rect fill=\"#A80036\" height=\"12\" style=\"stroke: #FEFECE; stroke-width: 1.5;\" width=\"12\" x=\"510\" y=\"92\"/><text fill=\"#000000\" font-family=\"sans-serif\" font-size=\"14\" lengthAdjust=\"spacingAndGlyphs\" textLength=\"36\" x=\"357\" y=\"76.6982\">p1: P</text><rect fill=\"#A80036\" height=\"12\" style=\"stroke: #FEFECE; stroke-width: 1.5;\" width=\"12\" x=\"369\" y=\"92\"/><text fill=\"#000000\" font-family=\"sans-serif\" font-size=\"14\" lengthAdjust=\"spacingAndGlyphs\" textLength=\"48\" x=\"398\" y=\"76.6982\">p2: ~P</text><rect fill=\"#A80036\" height=\"12\" style=\"stroke: #FEFECE; stroke-width: 1.5;\" width=\"12\" x=\"416\" y=\"92\"/><text fill=\"#000000\" font-family=\"sans-serif\" font-size=\"14\" lengthAdjust=\"spacingAndGlyphs\" textLength=\"36\" x=\"263\" y=\"76.6982\">p1: P</text><rect fill=\"#A80036\" height=\"12\" style=\"stroke: #FEFECE; stroke-width: 1.5;\" width=\"12\" x=\"275\" y=\"92\"/><text fill=\"#000000\" font-family=\"sans-serif\" font-size=\"14\" lengthAdjust=\"spacingAndGlyphs\" textLength=\"48\" x=\"304\" y=\"76.6982\">p2: ~P</text><rect fill=\"#A80036\" height=\"12\" style=\"stroke: #FEFECE; stroke-width: 1.5;\" width=\"12\" x=\"322\" y=\"92\"/><text fill=\"#000000\" font-family=\"sans-serif\" font-size=\"14\" lengthAdjust=\"spacingAndGlyphs\" textLength=\"36\" x=\"156\" y=\"76.6982\">p1: P</text><rect fill=\"#A80036\" height=\"12\" style=\"stroke: #FEFECE; stroke-width: 1.5;\" width=\"12\" x=\"168\" y=\"92\"/><text fill=\"#000000\" font-family=\"sans-serif\" font-size=\"14\" lengthAdjust=\"spacingAndGlyphs\" textLength=\"48\" x=\"197\" y=\"76.6982\">p2: ~P</text><rect fill=\"#A80036\" height=\"12\" style=\"stroke: #FEFECE; stroke-width: 1.5;\" width=\"12\" x=\"215\" y=\"92\"/><!--MD5=[4ce51ac6fa4cf5202df3859e2718f033]\n",
       "link E15 to E14--><a href=\"psysml:8d97a70f-8cd3-421a-99bb-bcc3f52cef04\" target=\"_top\" title=\"psysml:8d97a70f-8cd3-421a-99bb-bcc3f52cef04\" xlink:actuate=\"onRequest\" xlink:href=\"psysml:8d97a70f-8cd3-421a-99bb-bcc3f52cef04\" xlink:show=\"new\" xlink:title=\"psysml:8d97a70f-8cd3-421a-99bb-bcc3f52cef04\" xlink:type=\"simple\"><path d=\"M214.95,98 C203.38,98 191.81,98 180.24,98 \" fill=\"none\" id=\"E15-E14\" style=\"stroke: #A80036; stroke-width: 3.0;\"/></a><!--MD5=[4ce51ac6fa4cf5202df3859e2718f033]\n",
       "link E15 to E14--><a href=\"psysml:4e5d56fb-a30b-410a-93da-f699910e5442\" target=\"_top\" title=\"psysml:4e5d56fb-a30b-410a-93da-f699910e5442\" xlink:actuate=\"onRequest\" xlink:href=\"psysml:4e5d56fb-a30b-410a-93da-f699910e5442\" xlink:show=\"new\" xlink:title=\"psysml:4e5d56fb-a30b-410a-93da-f699910e5442\" xlink:type=\"simple\"><path d=\"M214.95,95.98 C203.38,92.69 191.81,92.67 180.24,95.93 \" fill=\"none\" id=\"E15-E14-1\" style=\"stroke: #A80036; stroke-width: 3.0;\"/></a><!--MD5=[6dc80f95b5b7a54b4ba3862a18d1324d]\n",
       "@startuml\r\n",
       "skinparam ranksep 10\r\n",
       "skinparam rectangle {\r\n",
       " backgroundColor<<block>> LightGreen\r\n",
       "}\r\n",
       " \r\n",
       "package \"ConjugationTest\" as E1  [[psysml:4ba0ad9e-a677-47db-af1d-b015e8f93aef ]]  {\r\n",
       "def \"P\" as E2  <<(D,brown)port def>> [[psysml:0d231d17-09c4-40d0-a4bc-6d43713d1eea ]] \r\n",
       "rec def \"B\" as E3  << (B,green) >> [[psysml:1fca8384-68db-4c35-8908-d644a05ab33b ]] {\r\n",
       "portin \"p1: P\" as E4  << (P,blue) port>> [[psysml:ac9a4e52-d9d9-4ed8-9786-da9347d8a24d ]] \r\n",
       "portin \"p2: ~P\" as E5  << (P,blue) port>> [[psysml:dd7140d6-57c4-455c-b235-fe627e1ecfff ]] \r\n",
       "}\r\n",
       "rec def \"A\" as E6  << (B,green) >> [[psysml:d9048fa2-8c0d-4237-aabb-192a68938198 ]] {\r\n",
       "portin \"p1: P\" as E7  << (P,blue) port>> [[psysml:135e4066-7c15-417d-820e-373a33adf188 ]] \r\n",
       "portin \"p2: ~P\" as E8  << (P,blue) port>> [[psysml:242160d8-1eb8-4593-9cf8-95e70ea0b9fa ]] \r\n",
       "}\r\n",
       "rec def \"I\" as E9  << (B,green) >> [[psysml:b68d4e65-0a25-4b32-9474-7d6b33189e06 ]] {\r\n",
       "portin \"p1: P\" as E10  << (P,blue) port>> [[psysml:c610f798-3696-48d0-b489-00c6b6b02c5c ]] \r\n",
       "portin \"p2: ~P\" as E11  << (P,blue) port>> [[psysml:82b7a088-1726-4de6-92a0-2f3113dfc02a ]] \r\n",
       "}\r\n",
       "rec def \"B1\" as E12  << (B,green) >> [[psysml:4bc8843d-d10d-4f46-93fe-21c75269e8aa ]] {\r\n",
       "rec usage \"p\" as E13  [[psysml:37b5f10a-21e5-48b2-b2b2-bc5c291ce903 ]] {\r\n",
       "portin \"p1: P\" as E14  << (P,blue) port>> [[psysml:c9e1cbea-e956-4380-9b02-2ad2a26c5224 ]] \r\n",
       "portin \"p2: ~P\" as E15  << (P,blue) port>> [[psysml:91fc773b-55a8-419c-8531-23cd35b1b670 ]] \r\n",
       "}\r\n",
       "}\r\n",
       "E15 -[thickness=3]- E14 [[psysml:8d97a70f-8cd3-421a-99bb-bcc3f52cef04 ]] \r\n",
       "E15 -[thickness=3]- E14 [[psysml:4e5d56fb-a30b-410a-93da-f699910e5442 ]] \r\n",
       "}\r\n",
       "@enduml\r\n",
       "\n",
       "PlantUML version 1.2020.13(Sat Jun 13 12:26:38 UTC 2020)\n",
       "(EPL source distribution)\n",
       "Java Runtime: OpenJDK Runtime Environment\n",
       "JVM: OpenJDK 64-Bit Server VM\n",
       "Default Encoding: UTF-8\n",
       "Language: en\n",
       "Country: null\n",
       "--></g></svg>"
      ]
     },
     "execution_count": 33,
     "metadata": {},
     "output_type": "execute_result"
    }
   ],
   "source": [
    "%viz --style=\"PLANTUML\" --view=\"Interconnection\" \"ConjugationTest\""
   ]
  },
  {
   "cell_type": "code",
   "execution_count": 34,
   "id": "presidential-sustainability",
   "metadata": {
    "execution": {
     "iopub.execute_input": "2021-03-24T16:29:20.015133Z",
     "iopub.status.busy": "2021-03-24T16:29:20.014509Z",
     "iopub.status.idle": "2021-03-24T16:29:20.016020Z",
     "shell.execute_reply": "2021-03-24T16:29:20.014801Z"
    }
   },
   "outputs": [
    {
     "data": {
      "image/svg+xml": [
       "<?xml version=\"1.0\" encoding=\"UTF-8\" standalone=\"no\"?><svg xmlns=\"http://www.w3.org/2000/svg\" xmlns:xlink=\"http://www.w3.org/1999/xlink\" contentScriptType=\"application/ecmascript\" contentStyleType=\"text/css\" height=\"12px\" preserveAspectRatio=\"none\" style=\"width:12px;height:12px;\" version=\"1.1\" viewBox=\"0 0 12 12\" width=\"12px\" zoomAndPan=\"magnify\"><defs/><g><!--MD5=[6a4cb978cab31700e1ce5529f947a75d]\n",
       "@startuml\r\n",
       "skinparam ranksep 8\r\n",
       " \r\n",
       "@enduml\r\n",
       "\n",
       "PlantUML version 1.2020.13(Sat Jun 13 12:26:38 UTC 2020)\n",
       "(EPL source distribution)\n",
       "Java Runtime: OpenJDK Runtime Environment\n",
       "JVM: OpenJDK 64-Bit Server VM\n",
       "Default Encoding: UTF-8\n",
       "Language: en\n",
       "Country: null\n",
       "--></g></svg>"
      ]
     },
     "execution_count": 34,
     "metadata": {},
     "output_type": "execute_result"
    }
   ],
   "source": [
    "%viz --style=\"PLANTUML\" --view=\"Action\" \"ConjugationTest\""
   ]
  },
  {
   "cell_type": "code",
   "execution_count": 35,
   "id": "extreme-perfume",
   "metadata": {
    "execution": {
     "iopub.execute_input": "2021-03-24T16:29:20.070754Z",
     "iopub.status.busy": "2021-03-24T16:29:20.068873Z",
     "iopub.status.idle": "2021-03-24T16:29:20.157183Z",
     "shell.execute_reply": "2021-03-24T16:29:20.155295Z"
    }
   },
   "outputs": [
    {
     "data": {
      "image/svg+xml": [
       "<?xml version=\"1.0\" encoding=\"UTF-8\" standalone=\"no\"?><svg xmlns=\"http://www.w3.org/2000/svg\" xmlns:xlink=\"http://www.w3.org/1999/xlink\" contentScriptType=\"application/ecmascript\" contentStyleType=\"text/css\" height=\"299px\" preserveAspectRatio=\"none\" style=\"width:500px;height:299px;\" version=\"1.1\" viewBox=\"0 0 500 299\" width=\"500px\" zoomAndPan=\"magnify\"><defs><filter height=\"300%\" id=\"f1e5pxvar1q8t0\" width=\"300%\" x=\"-1\" y=\"-1\"><feGaussianBlur result=\"blurOut\" stdDeviation=\"2.0\"/><feColorMatrix in=\"blurOut\" result=\"blurOut2\" type=\"matrix\" values=\"0 0 0 0 0 0 0 0 0 0 0 0 0 0 0 0 0 0 .4 0\"/><feOffset dx=\"4.0\" dy=\"4.0\" in=\"blurOut2\" result=\"blurOut3\"/><feBlend in=\"SourceGraphic\" in2=\"blurOut3\" mode=\"normal\"/></filter></defs><g><!--MD5=[fbc87193dbaf4d95561dea2c320d4a47]\n",
       "cluster E1--><a href=\"psysml:4ba0ad9e-a677-47db-af1d-b015e8f93aef\" target=\"_top\" title=\"psysml:4ba0ad9e-a677-47db-af1d-b015e8f93aef\" xlink:actuate=\"onRequest\" xlink:href=\"psysml:4ba0ad9e-a677-47db-af1d-b015e8f93aef\" xlink:show=\"new\" xlink:title=\"psysml:4ba0ad9e-a677-47db-af1d-b015e8f93aef\" xlink:type=\"simple\"><polygon fill=\"#FFFFFF\" filter=\"url(#f1e5pxvar1q8t0)\" points=\"16,6,151,6,158,28.2969,478,28.2969,478,287,16,287,16,6\" style=\"stroke: #000000; stroke-width: 1.5;\"/><line style=\"stroke: #000000; stroke-width: 1.5;\" x1=\"16\" x2=\"158\" y1=\"28.2969\" y2=\"28.2969\"/><text fill=\"#000000\" font-family=\"sans-serif\" font-size=\"14\" font-weight=\"bold\" lengthAdjust=\"spacingAndGlyphs\" textLength=\"129\" x=\"20\" y=\"20.9951\">ConjugationTest</text></a><!--MD5=[b4997ac47864f28c2f74865a473b2911]\n",
       "class E2--><a href=\"psysml:0d231d17-09c4-40d0-a4bc-6d43713d1eea\" target=\"_top\" title=\"psysml:0d231d17-09c4-40d0-a4bc-6d43713d1eea\" xlink:actuate=\"onRequest\" xlink:href=\"psysml:0d231d17-09c4-40d0-a4bc-6d43713d1eea\" xlink:show=\"new\" xlink:title=\"psysml:0d231d17-09c4-40d0-a4bc-6d43713d1eea\" xlink:type=\"simple\"><rect fill=\"#FEFECE\" filter=\"url(#f1e5pxvar1q8t0)\" height=\"45.9375\" id=\"E2\" style=\"stroke: #A80036; stroke-width: 1.5;\" width=\"92\" x=\"370\" y=\"59\"/><ellipse cx=\"385\" cy=\"77.9688\" fill=\"#A52A2A\" rx=\"11\" ry=\"11\" style=\"stroke: #A80036; stroke-width: 1.0;\"/><path d=\"M384.5938,73.7813 L384.5938,81.7656 L385.25,81.7656 Q386.6875,81.7656 387.2969,80.8594 Q387.9219,79.9375 387.9219,77.7656 Q387.9219,75.5938 387.2969,74.6875 Q386.6875,73.7813 385.25,73.7813 L384.5938,73.7813 Z M382.1406,71.5781 L384.7656,71.5781 Q387.7969,71.5781 389.125,73.0313 Q390.4688,74.4688 390.4688,77.7656 Q390.4688,81.0625 389.125,82.5156 Q387.7969,83.9688 384.7656,83.9688 L382.1406,83.9688 L382.1406,71.5781 Z \"/><text fill=\"#000000\" font-family=\"sans-serif\" font-size=\"12\" font-style=\"italic\" lengthAdjust=\"spacingAndGlyphs\" textLength=\"64\" x=\"397\" y=\"75.1387\">«port def»</text><text fill=\"#000000\" font-family=\"sans-serif\" font-size=\"12\" lengthAdjust=\"spacingAndGlyphs\" textLength=\"8\" x=\"425\" y=\"89.1074\">P</text><line style=\"stroke: #A80036; stroke-width: 1.5;\" x1=\"371\" x2=\"461\" y1=\"96.9375\" y2=\"96.9375\"/></a><!--MD5=[09b614a08d8cba4a07c9adeb5e0fee81]\n",
       "class E3--><a href=\"psysml:1fca8384-68db-4c35-8908-d644a05ab33b\" target=\"_top\" title=\"psysml:1fca8384-68db-4c35-8908-d644a05ab33b\" xlink:actuate=\"onRequest\" xlink:href=\"psysml:1fca8384-68db-4c35-8908-d644a05ab33b\" xlink:show=\"new\" xlink:title=\"psysml:1fca8384-68db-4c35-8908-d644a05ab33b\" xlink:type=\"simple\"><rect fill=\"#FEFECE\" filter=\"url(#f1e5pxvar1q8t0)\" height=\"82.4141\" id=\"E3\" style=\"stroke: #A80036; stroke-width: 1.5;\" width=\"50\" x=\"285\" y=\"41\"/><ellipse cx=\"304.5\" cy=\"57\" fill=\"#008000\" rx=\"11\" ry=\"11\" style=\"stroke: #A80036; stroke-width: 1.0;\"/><path d=\"M303.4063,57.375 L303.4063,61.0469 L305.0313,61.0469 Q306.2031,61.0469 306.6719,60.6563 Q307.1406,60.25 307.1406,59.25 Q307.1406,58.25 306.6406,57.8125 Q306.1563,57.375 305.0313,57.375 L303.4063,57.375 Z M303.4063,52.5469 L303.4063,55.4219 L305.0313,55.4219 Q305.9531,55.4219 306.3438,55.0938 Q306.75,54.75 306.75,54 Q306.75,53.2344 306.3438,52.8906 Q305.9375,52.5469 305.0313,52.5469 L303.4063,52.5469 Z M301.0313,50.5938 L305.0313,50.5938 Q307.0938,50.5938 308.1406,51.375 Q309.1875,52.1563 309.1875,53.7188 Q309.1875,54.9219 308.5625,55.5938 Q307.9531,56.2656 306.7656,56.375 Q308.1875,56.5156 308.9063,57.3281 Q309.625,58.1406 309.625,59.5938 Q309.625,61.3906 308.5469,62.2031 Q307.4688,63 305.0313,63 L301.0313,63 L301.0313,50.5938 Z \"/><text fill=\"#000000\" font-family=\"sans-serif\" font-size=\"12\" lengthAdjust=\"spacingAndGlyphs\" textLength=\"8\" x=\"319.5\" y=\"61.1543\">B</text><line style=\"stroke: #A80036; stroke-width: 1.5;\" x1=\"286\" x2=\"334\" y1=\"73\" y2=\"73\"/><text fill=\"#000000\" font-family=\"sans-serif\" font-size=\"11\" lengthAdjust=\"spacingAndGlyphs\" textLength=\"29\" x=\"291\" y=\"104.0151\">p1: P</text><text fill=\"#000000\" font-family=\"sans-serif\" font-size=\"11\" lengthAdjust=\"spacingAndGlyphs\" textLength=\"38\" x=\"291\" y=\"116.8198\">p2: ~P</text><line style=\"stroke: #A80036; stroke-width: 1.0;\" x1=\"286\" x2=\"295\" y1=\"87.4023\" y2=\"87.4023\"/><text fill=\"#000000\" font-family=\"sans-serif\" font-size=\"11\" lengthAdjust=\"spacingAndGlyphs\" textLength=\"30\" x=\"295\" y=\"90.7104\">ports</text><line style=\"stroke: #A80036; stroke-width: 1.0;\" x1=\"325\" x2=\"334\" y1=\"87.4023\" y2=\"87.4023\"/></a><!--MD5=[60a26617385b1d2d0262a64233df1f8d]\n",
       "class E6--><a href=\"psysml:d9048fa2-8c0d-4237-aabb-192a68938198\" target=\"_top\" title=\"psysml:d9048fa2-8c0d-4237-aabb-192a68938198\" xlink:actuate=\"onRequest\" xlink:href=\"psysml:d9048fa2-8c0d-4237-aabb-192a68938198\" xlink:show=\"new\" xlink:title=\"psysml:d9048fa2-8c0d-4237-aabb-192a68938198\" xlink:type=\"simple\"><rect fill=\"#FEFECE\" filter=\"url(#f1e5pxvar1q8t0)\" height=\"82.4141\" id=\"E6\" style=\"stroke: #A80036; stroke-width: 1.5;\" width=\"50\" x=\"200\" y=\"41\"/><ellipse cx=\"219.5\" cy=\"57\" fill=\"#008000\" rx=\"11\" ry=\"11\" style=\"stroke: #A80036; stroke-width: 1.0;\"/><path d=\"M218.4063,57.375 L218.4063,61.0469 L220.0313,61.0469 Q221.2031,61.0469 221.6719,60.6563 Q222.1406,60.25 222.1406,59.25 Q222.1406,58.25 221.6406,57.8125 Q221.1563,57.375 220.0313,57.375 L218.4063,57.375 Z M218.4063,52.5469 L218.4063,55.4219 L220.0313,55.4219 Q220.9531,55.4219 221.3438,55.0938 Q221.75,54.75 221.75,54 Q221.75,53.2344 221.3438,52.8906 Q220.9375,52.5469 220.0313,52.5469 L218.4063,52.5469 Z M216.0313,50.5938 L220.0313,50.5938 Q222.0938,50.5938 223.1406,51.375 Q224.1875,52.1563 224.1875,53.7188 Q224.1875,54.9219 223.5625,55.5938 Q222.9531,56.2656 221.7656,56.375 Q223.1875,56.5156 223.9063,57.3281 Q224.625,58.1406 224.625,59.5938 Q224.625,61.3906 223.5469,62.2031 Q222.4688,63 220.0313,63 L216.0313,63 L216.0313,50.5938 Z \"/><text fill=\"#000000\" font-family=\"sans-serif\" font-size=\"12\" lengthAdjust=\"spacingAndGlyphs\" textLength=\"8\" x=\"234.5\" y=\"61.1543\">A</text><line style=\"stroke: #A80036; stroke-width: 1.5;\" x1=\"201\" x2=\"249\" y1=\"73\" y2=\"73\"/><text fill=\"#000000\" font-family=\"sans-serif\" font-size=\"11\" lengthAdjust=\"spacingAndGlyphs\" textLength=\"29\" x=\"206\" y=\"104.0151\">p1: P</text><text fill=\"#000000\" font-family=\"sans-serif\" font-size=\"11\" lengthAdjust=\"spacingAndGlyphs\" textLength=\"38\" x=\"206\" y=\"116.8198\">p2: ~P</text><line style=\"stroke: #A80036; stroke-width: 1.0;\" x1=\"201\" x2=\"210\" y1=\"87.4023\" y2=\"87.4023\"/><text fill=\"#000000\" font-family=\"sans-serif\" font-size=\"11\" lengthAdjust=\"spacingAndGlyphs\" textLength=\"30\" x=\"210\" y=\"90.7104\">ports</text><line style=\"stroke: #A80036; stroke-width: 1.0;\" x1=\"240\" x2=\"249\" y1=\"87.4023\" y2=\"87.4023\"/></a><!--MD5=[fd4143e9d270a159db93a4ea2a975926]\n",
       "class E9--><a href=\"psysml:b68d4e65-0a25-4b32-9474-7d6b33189e06\" target=\"_top\" title=\"psysml:b68d4e65-0a25-4b32-9474-7d6b33189e06\" xlink:actuate=\"onRequest\" xlink:href=\"psysml:b68d4e65-0a25-4b32-9474-7d6b33189e06\" xlink:show=\"new\" xlink:title=\"psysml:b68d4e65-0a25-4b32-9474-7d6b33189e06\" xlink:type=\"simple\"><rect fill=\"#FEFECE\" filter=\"url(#f1e5pxvar1q8t0)\" height=\"82.4141\" id=\"E9\" style=\"stroke: #A80036; stroke-width: 1.5;\" width=\"50\" x=\"115\" y=\"41\"/><ellipse cx=\"136.75\" cy=\"57\" fill=\"#008000\" rx=\"11\" ry=\"11\" style=\"stroke: #A80036; stroke-width: 1.0;\"/><path d=\"M135.6563,57.375 L135.6563,61.0469 L137.2813,61.0469 Q138.4531,61.0469 138.9219,60.6563 Q139.3906,60.25 139.3906,59.25 Q139.3906,58.25 138.8906,57.8125 Q138.4063,57.375 137.2813,57.375 L135.6563,57.375 Z M135.6563,52.5469 L135.6563,55.4219 L137.2813,55.4219 Q138.2031,55.4219 138.5938,55.0938 Q139,54.75 139,54 Q139,53.2344 138.5938,52.8906 Q138.1875,52.5469 137.2813,52.5469 L135.6563,52.5469 Z M133.2813,50.5938 L137.2813,50.5938 Q139.3438,50.5938 140.3906,51.375 Q141.4375,52.1563 141.4375,53.7188 Q141.4375,54.9219 140.8125,55.5938 Q140.2031,56.2656 139.0156,56.375 Q140.4375,56.5156 141.1563,57.3281 Q141.875,58.1406 141.875,59.5938 Q141.875,61.3906 140.7969,62.2031 Q139.7188,63 137.2813,63 L133.2813,63 L133.2813,50.5938 Z \"/><text fill=\"#000000\" font-family=\"sans-serif\" font-size=\"12\" lengthAdjust=\"spacingAndGlyphs\" textLength=\"3\" x=\"152.25\" y=\"61.1543\">I</text><line style=\"stroke: #A80036; stroke-width: 1.5;\" x1=\"116\" x2=\"164\" y1=\"73\" y2=\"73\"/><text fill=\"#000000\" font-family=\"sans-serif\" font-size=\"11\" lengthAdjust=\"spacingAndGlyphs\" textLength=\"29\" x=\"121\" y=\"104.0151\">p1: P</text><text fill=\"#000000\" font-family=\"sans-serif\" font-size=\"11\" lengthAdjust=\"spacingAndGlyphs\" textLength=\"38\" x=\"121\" y=\"116.8198\">p2: ~P</text><line style=\"stroke: #A80036; stroke-width: 1.0;\" x1=\"116\" x2=\"125\" y1=\"87.4023\" y2=\"87.4023\"/><text fill=\"#000000\" font-family=\"sans-serif\" font-size=\"11\" lengthAdjust=\"spacingAndGlyphs\" textLength=\"30\" x=\"125\" y=\"90.7104\">ports</text><line style=\"stroke: #A80036; stroke-width: 1.0;\" x1=\"155\" x2=\"164\" y1=\"87.4023\" y2=\"87.4023\"/></a><!--MD5=[49a0ec8f00dab7302a31f22d0f0fe584]\n",
       "class E12--><a href=\"psysml:4bc8843d-d10d-4f46-93fe-21c75269e8aa\" target=\"_top\" title=\"psysml:4bc8843d-d10d-4f46-93fe-21c75269e8aa\" xlink:actuate=\"onRequest\" xlink:href=\"psysml:4bc8843d-d10d-4f46-93fe-21c75269e8aa\" xlink:show=\"new\" xlink:title=\"psysml:4bc8843d-d10d-4f46-93fe-21c75269e8aa\" xlink:type=\"simple\"><rect fill=\"#FEFECE\" filter=\"url(#f1e5pxvar1q8t0)\" height=\"40\" id=\"E12\" style=\"stroke: #A80036; stroke-width: 1.5;\" width=\"48\" x=\"32\" y=\"62\"/><ellipse cx=\"47\" cy=\"78\" fill=\"#008000\" rx=\"11\" ry=\"11\" style=\"stroke: #A80036; stroke-width: 1.0;\"/><path d=\"M45.9063,78.375 L45.9063,82.0469 L47.5313,82.0469 Q48.7031,82.0469 49.1719,81.6563 Q49.6406,81.25 49.6406,80.25 Q49.6406,79.25 49.1406,78.8125 Q48.6563,78.375 47.5313,78.375 L45.9063,78.375 Z M45.9063,73.5469 L45.9063,76.4219 L47.5313,76.4219 Q48.4531,76.4219 48.8438,76.0938 Q49.25,75.75 49.25,75 Q49.25,74.2344 48.8438,73.8906 Q48.4375,73.5469 47.5313,73.5469 L45.9063,73.5469 Z M43.5313,71.5938 L47.5313,71.5938 Q49.5938,71.5938 50.6406,72.375 Q51.6875,73.1563 51.6875,74.7188 Q51.6875,75.9219 51.0625,76.5938 Q50.4531,77.2656 49.2656,77.375 Q50.6875,77.5156 51.4063,78.3281 Q52.125,79.1406 52.125,80.5938 Q52.125,82.3906 51.0469,83.2031 Q49.9688,84 47.5313,84 L43.5313,84 L43.5313,71.5938 Z \"/><text fill=\"#000000\" font-family=\"sans-serif\" font-size=\"12\" lengthAdjust=\"spacingAndGlyphs\" textLength=\"16\" x=\"61\" y=\"82.1543\">B1</text><line style=\"stroke: #A80036; stroke-width: 1.5;\" x1=\"33\" x2=\"79\" y1=\"94\" y2=\"94\"/></a><!--MD5=[ee3c913d1a06f366521f9ef512b67efe]\n",
       "class E13--><a href=\"psysml:37b5f10a-21e5-48b2-b2b2-bc5c291ce903\" target=\"_top\" title=\"psysml:37b5f10a-21e5-48b2-b2b2-bc5c291ce903\" xlink:actuate=\"onRequest\" xlink:href=\"psysml:37b5f10a-21e5-48b2-b2b2-bc5c291ce903\" xlink:show=\"new\" xlink:title=\"psysml:37b5f10a-21e5-48b2-b2b2-bc5c291ce903\" xlink:type=\"simple\"><rect fill=\"#FEFECE\" filter=\"url(#f1e5pxvar1q8t0)\" height=\"88.3516\" id=\"E13\" rx=\"10\" ry=\"10\" style=\"stroke: #A80036; stroke-width: 1.5;\" width=\"68\" x=\"32\" y=\"183\"/><ellipse cx=\"47\" cy=\"201.9688\" fill=\"#32CD32\" rx=\"11\" ry=\"11\" style=\"stroke: #A80036; stroke-width: 1.0;\"/><path d=\"M46.7969,197.6406 L46.7969,201.2656 L47.7969,201.2656 Q49,201.2656 49.4844,200.8594 Q49.9688,200.4531 49.9688,199.4531 Q49.9688,198.4531 49.4844,198.0469 Q49,197.6406 47.7969,197.6406 L46.7969,197.6406 Z M44.3438,195.5781 L47.7031,195.5781 Q50.2656,195.5781 51.3906,196.5 Q52.5156,197.4063 52.5156,199.4531 Q52.5156,201.5 51.3906,202.4219 Q50.2656,203.3281 47.7031,203.3281 L46.7969,203.3281 L46.7969,207.9688 L44.3438,207.9688 L44.3438,195.5781 Z \"/><text fill=\"#000000\" font-family=\"sans-serif\" font-size=\"12\" font-style=\"italic\" lengthAdjust=\"spacingAndGlyphs\" textLength=\"40\" x=\"59\" y=\"199.1387\">«part»</text><text fill=\"#000000\" font-family=\"sans-serif\" font-size=\"12\" lengthAdjust=\"spacingAndGlyphs\" textLength=\"8\" x=\"75\" y=\"213.1074\">p</text><line style=\"stroke: #A80036; stroke-width: 1.5;\" x1=\"33\" x2=\"99\" y1=\"220.9375\" y2=\"220.9375\"/><text fill=\"#000000\" font-family=\"sans-serif\" font-size=\"11\" lengthAdjust=\"spacingAndGlyphs\" textLength=\"29\" x=\"38\" y=\"251.9526\">p1: P</text><text fill=\"#000000\" font-family=\"sans-serif\" font-size=\"11\" lengthAdjust=\"spacingAndGlyphs\" textLength=\"38\" x=\"38\" y=\"264.7573\">p2: ~P</text><line style=\"stroke: #A80036; stroke-width: 1.0;\" x1=\"33\" x2=\"51\" y1=\"235.3398\" y2=\"235.3398\"/><text fill=\"#000000\" font-family=\"sans-serif\" font-size=\"11\" lengthAdjust=\"spacingAndGlyphs\" textLength=\"30\" x=\"51\" y=\"238.6479\">ports</text><line style=\"stroke: #A80036; stroke-width: 1.0;\" x1=\"81\" x2=\"99\" y1=\"235.3398\" y2=\"235.3398\"/></a><!--MD5=[062ed86c389d1a88f61c6380d0491e17]\n",
       "reverse link E12 to E13--><a href=\"psysml:37b5f10a-21e5-48b2-b2b2-bc5c291ce903\" target=\"_top\" title=\"psysml:37b5f10a-21e5-48b2-b2b2-bc5c291ce903\" xlink:actuate=\"onRequest\" xlink:href=\"psysml:37b5f10a-21e5-48b2-b2b2-bc5c291ce903\" xlink:show=\"new\" xlink:title=\"psysml:37b5f10a-21e5-48b2-b2b2-bc5c291ce903\" xlink:type=\"simple\"><path d=\"M58.26,115.31 C59.65,135.24 61.46,161.03 62.97,182.71 \" fill=\"none\" id=\"E12&lt;-E13\" style=\"stroke: #A80036; stroke-width: 1.0;\"/><polygon fill=\"#A80036\" points=\"57.35,102.29,53.7754,108.5527,58.1815,114.2612,61.7561,107.9984,57.35,102.29\" style=\"stroke: #A80036; stroke-width: 1.0;\"/></a><!--MD5=[e88fb99376ffc9cec516de2dedb9105d]\n",
       "@startuml\r\n",
       " \r\n",
       "package \"ConjugationTest\" as E1  [[psysml:4ba0ad9e-a677-47db-af1d-b015e8f93aef ]]  {\r\n",
       "comp def \"P\" as E2  <<(D,brown)port def>> [[psysml:0d231d17-09c4-40d0-a4bc-6d43713d1eea ]] {\r\n",
       "}\r\n",
       "comp def \"B\" as E3  << (B,green) >> [[psysml:1fca8384-68db-4c35-8908-d644a05ab33b ]] {\r\n",
       "- - ports - -\r\n",
       "p1: P\r\n",
       "p2: ~P\r\n",
       "}\r\n",
       "comp def \"A\" as E6  << (B,green) >> [[psysml:d9048fa2-8c0d-4237-aabb-192a68938198 ]] {\r\n",
       "- - ports - -\r\n",
       "p1: P\r\n",
       "p2: ~P\r\n",
       "}\r\n",
       "comp def \"I\" as E9  << (B,green) >> [[psysml:b68d4e65-0a25-4b32-9474-7d6b33189e06 ]] {\r\n",
       "- - ports - -\r\n",
       "p1: P\r\n",
       "p2: ~P\r\n",
       "}\r\n",
       "comp def \"B1\" as E12  << (B,green) >> [[psysml:4bc8843d-d10d-4f46-93fe-21c75269e8aa ]] {\r\n",
       "}\r\n",
       "comp usage \"p\" as E13  << (P,limegreen) part>> [[psysml:37b5f10a-21e5-48b2-b2b2-bc5c291ce903 ]] {\r\n",
       "- - ports - -\r\n",
       "p1: P\r\n",
       "p2: ~P\r\n",
       "}\r\n",
       "E12 *- - E13 [[psysml:37b5f10a-21e5-48b2-b2b2-bc5c291ce903 ]] \r\n",
       "}\r\n",
       "@enduml\r\n",
       "\n",
       "PlantUML version 1.2020.13(Sat Jun 13 12:26:38 UTC 2020)\n",
       "(EPL source distribution)\n",
       "Java Runtime: OpenJDK Runtime Environment\n",
       "JVM: OpenJDK 64-Bit Server VM\n",
       "Default Encoding: UTF-8\n",
       "Language: en\n",
       "Country: null\n",
       "--></g></svg>"
      ]
     },
     "execution_count": 35,
     "metadata": {},
     "output_type": "execute_result"
    }
   ],
   "source": [
    "%viz --style=\"PLANTUML\" --view=\"Sequence\" \"ConjugationTest\""
   ]
  },
  {
   "cell_type": "code",
   "execution_count": 36,
   "id": "digital-clone",
   "metadata": {
    "execution": {
     "iopub.execute_input": "2021-03-24T16:29:20.209223Z",
     "iopub.status.busy": "2021-03-24T16:29:20.208752Z",
     "iopub.status.idle": "2021-03-24T16:29:20.302521Z",
     "shell.execute_reply": "2021-03-24T16:29:20.302028Z"
    }
   },
   "outputs": [
    {
     "data": {
      "image/svg+xml": [
       "<?xml version=\"1.0\" encoding=\"UTF-8\" standalone=\"no\"?><svg xmlns=\"http://www.w3.org/2000/svg\" xmlns:xlink=\"http://www.w3.org/1999/xlink\" contentScriptType=\"application/ecmascript\" contentStyleType=\"text/css\" height=\"299px\" preserveAspectRatio=\"none\" style=\"width:500px;height:299px;\" version=\"1.1\" viewBox=\"0 0 500 299\" width=\"500px\" zoomAndPan=\"magnify\"><defs><filter height=\"300%\" id=\"f1e5pxvar1q8t0\" width=\"300%\" x=\"-1\" y=\"-1\"><feGaussianBlur result=\"blurOut\" stdDeviation=\"2.0\"/><feColorMatrix in=\"blurOut\" result=\"blurOut2\" type=\"matrix\" values=\"0 0 0 0 0 0 0 0 0 0 0 0 0 0 0 0 0 0 .4 0\"/><feOffset dx=\"4.0\" dy=\"4.0\" in=\"blurOut2\" result=\"blurOut3\"/><feBlend in=\"SourceGraphic\" in2=\"blurOut3\" mode=\"normal\"/></filter></defs><g><!--MD5=[fbc87193dbaf4d95561dea2c320d4a47]\n",
       "cluster E1--><a href=\"psysml:4ba0ad9e-a677-47db-af1d-b015e8f93aef\" target=\"_top\" title=\"psysml:4ba0ad9e-a677-47db-af1d-b015e8f93aef\" xlink:actuate=\"onRequest\" xlink:href=\"psysml:4ba0ad9e-a677-47db-af1d-b015e8f93aef\" xlink:show=\"new\" xlink:title=\"psysml:4ba0ad9e-a677-47db-af1d-b015e8f93aef\" xlink:type=\"simple\"><polygon fill=\"#FFFFFF\" filter=\"url(#f1e5pxvar1q8t0)\" points=\"16,6,151,6,158,28.2969,478,28.2969,478,287,16,287,16,6\" style=\"stroke: #000000; stroke-width: 1.5;\"/><line style=\"stroke: #000000; stroke-width: 1.5;\" x1=\"16\" x2=\"158\" y1=\"28.2969\" y2=\"28.2969\"/><text fill=\"#000000\" font-family=\"sans-serif\" font-size=\"14\" font-weight=\"bold\" lengthAdjust=\"spacingAndGlyphs\" textLength=\"129\" x=\"20\" y=\"20.9951\">ConjugationTest</text></a><!--MD5=[b4997ac47864f28c2f74865a473b2911]\n",
       "class E2--><a href=\"psysml:0d231d17-09c4-40d0-a4bc-6d43713d1eea\" target=\"_top\" title=\"psysml:0d231d17-09c4-40d0-a4bc-6d43713d1eea\" xlink:actuate=\"onRequest\" xlink:href=\"psysml:0d231d17-09c4-40d0-a4bc-6d43713d1eea\" xlink:show=\"new\" xlink:title=\"psysml:0d231d17-09c4-40d0-a4bc-6d43713d1eea\" xlink:type=\"simple\"><rect fill=\"#FEFECE\" filter=\"url(#f1e5pxvar1q8t0)\" height=\"45.9375\" id=\"E2\" style=\"stroke: #A80036; stroke-width: 1.5;\" width=\"92\" x=\"370\" y=\"59\"/><ellipse cx=\"385\" cy=\"77.9688\" fill=\"#A52A2A\" rx=\"11\" ry=\"11\" style=\"stroke: #A80036; stroke-width: 1.0;\"/><path d=\"M384.5938,73.7813 L384.5938,81.7656 L385.25,81.7656 Q386.6875,81.7656 387.2969,80.8594 Q387.9219,79.9375 387.9219,77.7656 Q387.9219,75.5938 387.2969,74.6875 Q386.6875,73.7813 385.25,73.7813 L384.5938,73.7813 Z M382.1406,71.5781 L384.7656,71.5781 Q387.7969,71.5781 389.125,73.0313 Q390.4688,74.4688 390.4688,77.7656 Q390.4688,81.0625 389.125,82.5156 Q387.7969,83.9688 384.7656,83.9688 L382.1406,83.9688 L382.1406,71.5781 Z \"/><text fill=\"#000000\" font-family=\"sans-serif\" font-size=\"12\" font-style=\"italic\" lengthAdjust=\"spacingAndGlyphs\" textLength=\"64\" x=\"397\" y=\"75.1387\">«port def»</text><text fill=\"#000000\" font-family=\"sans-serif\" font-size=\"12\" lengthAdjust=\"spacingAndGlyphs\" textLength=\"8\" x=\"425\" y=\"89.1074\">P</text><line style=\"stroke: #A80036; stroke-width: 1.5;\" x1=\"371\" x2=\"461\" y1=\"96.9375\" y2=\"96.9375\"/></a><!--MD5=[09b614a08d8cba4a07c9adeb5e0fee81]\n",
       "class E3--><a href=\"psysml:1fca8384-68db-4c35-8908-d644a05ab33b\" target=\"_top\" title=\"psysml:1fca8384-68db-4c35-8908-d644a05ab33b\" xlink:actuate=\"onRequest\" xlink:href=\"psysml:1fca8384-68db-4c35-8908-d644a05ab33b\" xlink:show=\"new\" xlink:title=\"psysml:1fca8384-68db-4c35-8908-d644a05ab33b\" xlink:type=\"simple\"><rect fill=\"#FEFECE\" filter=\"url(#f1e5pxvar1q8t0)\" height=\"82.4141\" id=\"E3\" style=\"stroke: #A80036; stroke-width: 1.5;\" width=\"50\" x=\"285\" y=\"41\"/><ellipse cx=\"304.5\" cy=\"57\" fill=\"#008000\" rx=\"11\" ry=\"11\" style=\"stroke: #A80036; stroke-width: 1.0;\"/><path d=\"M303.4063,57.375 L303.4063,61.0469 L305.0313,61.0469 Q306.2031,61.0469 306.6719,60.6563 Q307.1406,60.25 307.1406,59.25 Q307.1406,58.25 306.6406,57.8125 Q306.1563,57.375 305.0313,57.375 L303.4063,57.375 Z M303.4063,52.5469 L303.4063,55.4219 L305.0313,55.4219 Q305.9531,55.4219 306.3438,55.0938 Q306.75,54.75 306.75,54 Q306.75,53.2344 306.3438,52.8906 Q305.9375,52.5469 305.0313,52.5469 L303.4063,52.5469 Z M301.0313,50.5938 L305.0313,50.5938 Q307.0938,50.5938 308.1406,51.375 Q309.1875,52.1563 309.1875,53.7188 Q309.1875,54.9219 308.5625,55.5938 Q307.9531,56.2656 306.7656,56.375 Q308.1875,56.5156 308.9063,57.3281 Q309.625,58.1406 309.625,59.5938 Q309.625,61.3906 308.5469,62.2031 Q307.4688,63 305.0313,63 L301.0313,63 L301.0313,50.5938 Z \"/><text fill=\"#000000\" font-family=\"sans-serif\" font-size=\"12\" lengthAdjust=\"spacingAndGlyphs\" textLength=\"8\" x=\"319.5\" y=\"61.1543\">B</text><line style=\"stroke: #A80036; stroke-width: 1.5;\" x1=\"286\" x2=\"334\" y1=\"73\" y2=\"73\"/><text fill=\"#000000\" font-family=\"sans-serif\" font-size=\"11\" lengthAdjust=\"spacingAndGlyphs\" textLength=\"29\" x=\"291\" y=\"104.0151\">p1: P</text><text fill=\"#000000\" font-family=\"sans-serif\" font-size=\"11\" lengthAdjust=\"spacingAndGlyphs\" textLength=\"38\" x=\"291\" y=\"116.8198\">p2: ~P</text><line style=\"stroke: #A80036; stroke-width: 1.0;\" x1=\"286\" x2=\"295\" y1=\"87.4023\" y2=\"87.4023\"/><text fill=\"#000000\" font-family=\"sans-serif\" font-size=\"11\" lengthAdjust=\"spacingAndGlyphs\" textLength=\"30\" x=\"295\" y=\"90.7104\">ports</text><line style=\"stroke: #A80036; stroke-width: 1.0;\" x1=\"325\" x2=\"334\" y1=\"87.4023\" y2=\"87.4023\"/></a><!--MD5=[60a26617385b1d2d0262a64233df1f8d]\n",
       "class E6--><a href=\"psysml:d9048fa2-8c0d-4237-aabb-192a68938198\" target=\"_top\" title=\"psysml:d9048fa2-8c0d-4237-aabb-192a68938198\" xlink:actuate=\"onRequest\" xlink:href=\"psysml:d9048fa2-8c0d-4237-aabb-192a68938198\" xlink:show=\"new\" xlink:title=\"psysml:d9048fa2-8c0d-4237-aabb-192a68938198\" xlink:type=\"simple\"><rect fill=\"#FEFECE\" filter=\"url(#f1e5pxvar1q8t0)\" height=\"82.4141\" id=\"E6\" style=\"stroke: #A80036; stroke-width: 1.5;\" width=\"50\" x=\"200\" y=\"41\"/><ellipse cx=\"219.5\" cy=\"57\" fill=\"#008000\" rx=\"11\" ry=\"11\" style=\"stroke: #A80036; stroke-width: 1.0;\"/><path d=\"M218.4063,57.375 L218.4063,61.0469 L220.0313,61.0469 Q221.2031,61.0469 221.6719,60.6563 Q222.1406,60.25 222.1406,59.25 Q222.1406,58.25 221.6406,57.8125 Q221.1563,57.375 220.0313,57.375 L218.4063,57.375 Z M218.4063,52.5469 L218.4063,55.4219 L220.0313,55.4219 Q220.9531,55.4219 221.3438,55.0938 Q221.75,54.75 221.75,54 Q221.75,53.2344 221.3438,52.8906 Q220.9375,52.5469 220.0313,52.5469 L218.4063,52.5469 Z M216.0313,50.5938 L220.0313,50.5938 Q222.0938,50.5938 223.1406,51.375 Q224.1875,52.1563 224.1875,53.7188 Q224.1875,54.9219 223.5625,55.5938 Q222.9531,56.2656 221.7656,56.375 Q223.1875,56.5156 223.9063,57.3281 Q224.625,58.1406 224.625,59.5938 Q224.625,61.3906 223.5469,62.2031 Q222.4688,63 220.0313,63 L216.0313,63 L216.0313,50.5938 Z \"/><text fill=\"#000000\" font-family=\"sans-serif\" font-size=\"12\" lengthAdjust=\"spacingAndGlyphs\" textLength=\"8\" x=\"234.5\" y=\"61.1543\">A</text><line style=\"stroke: #A80036; stroke-width: 1.5;\" x1=\"201\" x2=\"249\" y1=\"73\" y2=\"73\"/><text fill=\"#000000\" font-family=\"sans-serif\" font-size=\"11\" lengthAdjust=\"spacingAndGlyphs\" textLength=\"29\" x=\"206\" y=\"104.0151\">p1: P</text><text fill=\"#000000\" font-family=\"sans-serif\" font-size=\"11\" lengthAdjust=\"spacingAndGlyphs\" textLength=\"38\" x=\"206\" y=\"116.8198\">p2: ~P</text><line style=\"stroke: #A80036; stroke-width: 1.0;\" x1=\"201\" x2=\"210\" y1=\"87.4023\" y2=\"87.4023\"/><text fill=\"#000000\" font-family=\"sans-serif\" font-size=\"11\" lengthAdjust=\"spacingAndGlyphs\" textLength=\"30\" x=\"210\" y=\"90.7104\">ports</text><line style=\"stroke: #A80036; stroke-width: 1.0;\" x1=\"240\" x2=\"249\" y1=\"87.4023\" y2=\"87.4023\"/></a><!--MD5=[fd4143e9d270a159db93a4ea2a975926]\n",
       "class E9--><a href=\"psysml:b68d4e65-0a25-4b32-9474-7d6b33189e06\" target=\"_top\" title=\"psysml:b68d4e65-0a25-4b32-9474-7d6b33189e06\" xlink:actuate=\"onRequest\" xlink:href=\"psysml:b68d4e65-0a25-4b32-9474-7d6b33189e06\" xlink:show=\"new\" xlink:title=\"psysml:b68d4e65-0a25-4b32-9474-7d6b33189e06\" xlink:type=\"simple\"><rect fill=\"#FEFECE\" filter=\"url(#f1e5pxvar1q8t0)\" height=\"82.4141\" id=\"E9\" style=\"stroke: #A80036; stroke-width: 1.5;\" width=\"50\" x=\"115\" y=\"41\"/><ellipse cx=\"136.75\" cy=\"57\" fill=\"#008000\" rx=\"11\" ry=\"11\" style=\"stroke: #A80036; stroke-width: 1.0;\"/><path d=\"M135.6563,57.375 L135.6563,61.0469 L137.2813,61.0469 Q138.4531,61.0469 138.9219,60.6563 Q139.3906,60.25 139.3906,59.25 Q139.3906,58.25 138.8906,57.8125 Q138.4063,57.375 137.2813,57.375 L135.6563,57.375 Z M135.6563,52.5469 L135.6563,55.4219 L137.2813,55.4219 Q138.2031,55.4219 138.5938,55.0938 Q139,54.75 139,54 Q139,53.2344 138.5938,52.8906 Q138.1875,52.5469 137.2813,52.5469 L135.6563,52.5469 Z M133.2813,50.5938 L137.2813,50.5938 Q139.3438,50.5938 140.3906,51.375 Q141.4375,52.1563 141.4375,53.7188 Q141.4375,54.9219 140.8125,55.5938 Q140.2031,56.2656 139.0156,56.375 Q140.4375,56.5156 141.1563,57.3281 Q141.875,58.1406 141.875,59.5938 Q141.875,61.3906 140.7969,62.2031 Q139.7188,63 137.2813,63 L133.2813,63 L133.2813,50.5938 Z \"/><text fill=\"#000000\" font-family=\"sans-serif\" font-size=\"12\" lengthAdjust=\"spacingAndGlyphs\" textLength=\"3\" x=\"152.25\" y=\"61.1543\">I</text><line style=\"stroke: #A80036; stroke-width: 1.5;\" x1=\"116\" x2=\"164\" y1=\"73\" y2=\"73\"/><text fill=\"#000000\" font-family=\"sans-serif\" font-size=\"11\" lengthAdjust=\"spacingAndGlyphs\" textLength=\"29\" x=\"121\" y=\"104.0151\">p1: P</text><text fill=\"#000000\" font-family=\"sans-serif\" font-size=\"11\" lengthAdjust=\"spacingAndGlyphs\" textLength=\"38\" x=\"121\" y=\"116.8198\">p2: ~P</text><line style=\"stroke: #A80036; stroke-width: 1.0;\" x1=\"116\" x2=\"125\" y1=\"87.4023\" y2=\"87.4023\"/><text fill=\"#000000\" font-family=\"sans-serif\" font-size=\"11\" lengthAdjust=\"spacingAndGlyphs\" textLength=\"30\" x=\"125\" y=\"90.7104\">ports</text><line style=\"stroke: #A80036; stroke-width: 1.0;\" x1=\"155\" x2=\"164\" y1=\"87.4023\" y2=\"87.4023\"/></a><!--MD5=[49a0ec8f00dab7302a31f22d0f0fe584]\n",
       "class E12--><a href=\"psysml:4bc8843d-d10d-4f46-93fe-21c75269e8aa\" target=\"_top\" title=\"psysml:4bc8843d-d10d-4f46-93fe-21c75269e8aa\" xlink:actuate=\"onRequest\" xlink:href=\"psysml:4bc8843d-d10d-4f46-93fe-21c75269e8aa\" xlink:show=\"new\" xlink:title=\"psysml:4bc8843d-d10d-4f46-93fe-21c75269e8aa\" xlink:type=\"simple\"><rect fill=\"#FEFECE\" filter=\"url(#f1e5pxvar1q8t0)\" height=\"40\" id=\"E12\" style=\"stroke: #A80036; stroke-width: 1.5;\" width=\"48\" x=\"32\" y=\"62\"/><ellipse cx=\"47\" cy=\"78\" fill=\"#008000\" rx=\"11\" ry=\"11\" style=\"stroke: #A80036; stroke-width: 1.0;\"/><path d=\"M45.9063,78.375 L45.9063,82.0469 L47.5313,82.0469 Q48.7031,82.0469 49.1719,81.6563 Q49.6406,81.25 49.6406,80.25 Q49.6406,79.25 49.1406,78.8125 Q48.6563,78.375 47.5313,78.375 L45.9063,78.375 Z M45.9063,73.5469 L45.9063,76.4219 L47.5313,76.4219 Q48.4531,76.4219 48.8438,76.0938 Q49.25,75.75 49.25,75 Q49.25,74.2344 48.8438,73.8906 Q48.4375,73.5469 47.5313,73.5469 L45.9063,73.5469 Z M43.5313,71.5938 L47.5313,71.5938 Q49.5938,71.5938 50.6406,72.375 Q51.6875,73.1563 51.6875,74.7188 Q51.6875,75.9219 51.0625,76.5938 Q50.4531,77.2656 49.2656,77.375 Q50.6875,77.5156 51.4063,78.3281 Q52.125,79.1406 52.125,80.5938 Q52.125,82.3906 51.0469,83.2031 Q49.9688,84 47.5313,84 L43.5313,84 L43.5313,71.5938 Z \"/><text fill=\"#000000\" font-family=\"sans-serif\" font-size=\"12\" lengthAdjust=\"spacingAndGlyphs\" textLength=\"16\" x=\"61\" y=\"82.1543\">B1</text><line style=\"stroke: #A80036; stroke-width: 1.5;\" x1=\"33\" x2=\"79\" y1=\"94\" y2=\"94\"/></a><!--MD5=[ee3c913d1a06f366521f9ef512b67efe]\n",
       "class E13--><a href=\"psysml:37b5f10a-21e5-48b2-b2b2-bc5c291ce903\" target=\"_top\" title=\"psysml:37b5f10a-21e5-48b2-b2b2-bc5c291ce903\" xlink:actuate=\"onRequest\" xlink:href=\"psysml:37b5f10a-21e5-48b2-b2b2-bc5c291ce903\" xlink:show=\"new\" xlink:title=\"psysml:37b5f10a-21e5-48b2-b2b2-bc5c291ce903\" xlink:type=\"simple\"><rect fill=\"#FEFECE\" filter=\"url(#f1e5pxvar1q8t0)\" height=\"88.3516\" id=\"E13\" rx=\"10\" ry=\"10\" style=\"stroke: #A80036; stroke-width: 1.5;\" width=\"68\" x=\"32\" y=\"183\"/><ellipse cx=\"47\" cy=\"201.9688\" fill=\"#32CD32\" rx=\"11\" ry=\"11\" style=\"stroke: #A80036; stroke-width: 1.0;\"/><path d=\"M46.7969,197.6406 L46.7969,201.2656 L47.7969,201.2656 Q49,201.2656 49.4844,200.8594 Q49.9688,200.4531 49.9688,199.4531 Q49.9688,198.4531 49.4844,198.0469 Q49,197.6406 47.7969,197.6406 L46.7969,197.6406 Z M44.3438,195.5781 L47.7031,195.5781 Q50.2656,195.5781 51.3906,196.5 Q52.5156,197.4063 52.5156,199.4531 Q52.5156,201.5 51.3906,202.4219 Q50.2656,203.3281 47.7031,203.3281 L46.7969,203.3281 L46.7969,207.9688 L44.3438,207.9688 L44.3438,195.5781 Z \"/><text fill=\"#000000\" font-family=\"sans-serif\" font-size=\"12\" font-style=\"italic\" lengthAdjust=\"spacingAndGlyphs\" textLength=\"40\" x=\"59\" y=\"199.1387\">«part»</text><text fill=\"#000000\" font-family=\"sans-serif\" font-size=\"12\" lengthAdjust=\"spacingAndGlyphs\" textLength=\"8\" x=\"75\" y=\"213.1074\">p</text><line style=\"stroke: #A80036; stroke-width: 1.5;\" x1=\"33\" x2=\"99\" y1=\"220.9375\" y2=\"220.9375\"/><text fill=\"#000000\" font-family=\"sans-serif\" font-size=\"11\" lengthAdjust=\"spacingAndGlyphs\" textLength=\"29\" x=\"38\" y=\"251.9526\">p1: P</text><text fill=\"#000000\" font-family=\"sans-serif\" font-size=\"11\" lengthAdjust=\"spacingAndGlyphs\" textLength=\"38\" x=\"38\" y=\"264.7573\">p2: ~P</text><line style=\"stroke: #A80036; stroke-width: 1.0;\" x1=\"33\" x2=\"51\" y1=\"235.3398\" y2=\"235.3398\"/><text fill=\"#000000\" font-family=\"sans-serif\" font-size=\"11\" lengthAdjust=\"spacingAndGlyphs\" textLength=\"30\" x=\"51\" y=\"238.6479\">ports</text><line style=\"stroke: #A80036; stroke-width: 1.0;\" x1=\"81\" x2=\"99\" y1=\"235.3398\" y2=\"235.3398\"/></a><!--MD5=[062ed86c389d1a88f61c6380d0491e17]\n",
       "reverse link E12 to E13--><a href=\"psysml:37b5f10a-21e5-48b2-b2b2-bc5c291ce903\" target=\"_top\" title=\"psysml:37b5f10a-21e5-48b2-b2b2-bc5c291ce903\" xlink:actuate=\"onRequest\" xlink:href=\"psysml:37b5f10a-21e5-48b2-b2b2-bc5c291ce903\" xlink:show=\"new\" xlink:title=\"psysml:37b5f10a-21e5-48b2-b2b2-bc5c291ce903\" xlink:type=\"simple\"><path d=\"M58.26,115.31 C59.65,135.24 61.46,161.03 62.97,182.71 \" fill=\"none\" id=\"E12&lt;-E13\" style=\"stroke: #A80036; stroke-width: 1.0;\"/><polygon fill=\"#A80036\" points=\"57.35,102.29,53.7754,108.5527,58.1815,114.2612,61.7561,107.9984,57.35,102.29\" style=\"stroke: #A80036; stroke-width: 1.0;\"/></a><!--MD5=[e88fb99376ffc9cec516de2dedb9105d]\n",
       "@startuml\r\n",
       " \r\n",
       "package \"ConjugationTest\" as E1  [[psysml:4ba0ad9e-a677-47db-af1d-b015e8f93aef ]]  {\r\n",
       "comp def \"P\" as E2  <<(D,brown)port def>> [[psysml:0d231d17-09c4-40d0-a4bc-6d43713d1eea ]] {\r\n",
       "}\r\n",
       "comp def \"B\" as E3  << (B,green) >> [[psysml:1fca8384-68db-4c35-8908-d644a05ab33b ]] {\r\n",
       "- - ports - -\r\n",
       "p1: P\r\n",
       "p2: ~P\r\n",
       "}\r\n",
       "comp def \"A\" as E6  << (B,green) >> [[psysml:d9048fa2-8c0d-4237-aabb-192a68938198 ]] {\r\n",
       "- - ports - -\r\n",
       "p1: P\r\n",
       "p2: ~P\r\n",
       "}\r\n",
       "comp def \"I\" as E9  << (B,green) >> [[psysml:b68d4e65-0a25-4b32-9474-7d6b33189e06 ]] {\r\n",
       "- - ports - -\r\n",
       "p1: P\r\n",
       "p2: ~P\r\n",
       "}\r\n",
       "comp def \"B1\" as E12  << (B,green) >> [[psysml:4bc8843d-d10d-4f46-93fe-21c75269e8aa ]] {\r\n",
       "}\r\n",
       "comp usage \"p\" as E13  << (P,limegreen) part>> [[psysml:37b5f10a-21e5-48b2-b2b2-bc5c291ce903 ]] {\r\n",
       "- - ports - -\r\n",
       "p1: P\r\n",
       "p2: ~P\r\n",
       "}\r\n",
       "E12 *- - E13 [[psysml:37b5f10a-21e5-48b2-b2b2-bc5c291ce903 ]] \r\n",
       "}\r\n",
       "@enduml\r\n",
       "\n",
       "PlantUML version 1.2020.13(Sat Jun 13 12:26:38 UTC 2020)\n",
       "(EPL source distribution)\n",
       "Java Runtime: OpenJDK Runtime Environment\n",
       "JVM: OpenJDK 64-Bit Server VM\n",
       "Default Encoding: UTF-8\n",
       "Language: en\n",
       "Country: null\n",
       "--></g></svg>"
      ]
     },
     "execution_count": 36,
     "metadata": {},
     "output_type": "execute_result"
    }
   ],
   "source": [
    "%viz --style=\"PLANTUML\" --view=\"MIXED\" \"ConjugationTest\""
   ]
  },
  {
   "cell_type": "code",
   "execution_count": 37,
   "id": "renewable-flavor",
   "metadata": {
    "execution": {
     "iopub.execute_input": "2021-03-24T16:29:20.352228Z",
     "iopub.status.busy": "2021-03-24T16:29:20.351826Z",
     "iopub.status.idle": "2021-03-24T16:29:20.443544Z",
     "shell.execute_reply": "2021-03-24T16:29:20.443202Z"
    }
   },
   "outputs": [
    {
     "data": {
      "image/svg+xml": [
       "<?xml version=\"1.0\" encoding=\"UTF-8\" standalone=\"no\"?><svg xmlns=\"http://www.w3.org/2000/svg\" xmlns:xlink=\"http://www.w3.org/1999/xlink\" contentScriptType=\"application/ecmascript\" contentStyleType=\"text/css\" height=\"305px\" preserveAspectRatio=\"none\" style=\"width:614px;height:305px;\" version=\"1.1\" viewBox=\"0 0 614 305\" width=\"614px\" zoomAndPan=\"magnify\"><defs/><g><!--MD5=[fbc87193dbaf4d95561dea2c320d4a47]\n",
       "cluster E1--><a href=\"psysml:4ba0ad9e-a677-47db-af1d-b015e8f93aef\" target=\"_top\" title=\"psysml:4ba0ad9e-a677-47db-af1d-b015e8f93aef\" xlink:actuate=\"onRequest\" xlink:href=\"psysml:4ba0ad9e-a677-47db-af1d-b015e8f93aef\" xlink:show=\"new\" xlink:title=\"psysml:4ba0ad9e-a677-47db-af1d-b015e8f93aef\" xlink:type=\"simple\"><polygon fill=\"#FFFFFF\" points=\"16,6,151,6,158,28.2969,592,28.2969,592,293,16,293,16,6\" style=\"stroke: #000000; stroke-width: 1.5;\"/><line style=\"stroke: #000000; stroke-width: 1.5;\" x1=\"16\" x2=\"158\" y1=\"28.2969\" y2=\"28.2969\"/><text fill=\"#000000\" font-family=\"sans-serif\" font-size=\"14\" font-weight=\"bold\" lengthAdjust=\"spacingAndGlyphs\" textLength=\"129\" x=\"20\" y=\"20.9951\">ConjugationTest</text></a><!--MD5=[b4997ac47864f28c2f74865a473b2911]\n",
       "class E2--><a href=\"psysml:0d231d17-09c4-40d0-a4bc-6d43713d1eea\" target=\"_top\" title=\"psysml:0d231d17-09c4-40d0-a4bc-6d43713d1eea\" xlink:actuate=\"onRequest\" xlink:href=\"psysml:0d231d17-09c4-40d0-a4bc-6d43713d1eea\" xlink:show=\"new\" xlink:title=\"psysml:0d231d17-09c4-40d0-a4bc-6d43713d1eea\" xlink:type=\"simple\"><rect fill=\"#FFFFFF\" height=\"45.9375\" id=\"E2\" style=\"stroke: #383838; stroke-width: 1.5;\" width=\"66\" x=\"510\" y=\"62\"/><text fill=\"#000000\" font-family=\"sans-serif\" font-size=\"12\" font-style=\"italic\" lengthAdjust=\"spacingAndGlyphs\" textLength=\"64\" x=\"511\" y=\"78.1387\">«port def»</text><text fill=\"#000000\" font-family=\"sans-serif\" font-size=\"12\" lengthAdjust=\"spacingAndGlyphs\" textLength=\"8\" x=\"539\" y=\"92.1074\">P</text><line style=\"stroke: #383838; stroke-width: 1.5;\" x1=\"511\" x2=\"575\" y1=\"99.9375\" y2=\"99.9375\"/></a><!--MD5=[09b614a08d8cba4a07c9adeb5e0fee81]\n",
       "class E3--><a href=\"psysml:1fca8384-68db-4c35-8908-d644a05ab33b\" target=\"_top\" title=\"psysml:1fca8384-68db-4c35-8908-d644a05ab33b\" xlink:actuate=\"onRequest\" xlink:href=\"psysml:1fca8384-68db-4c35-8908-d644a05ab33b\" xlink:show=\"new\" xlink:title=\"psysml:1fca8384-68db-4c35-8908-d644a05ab33b\" xlink:type=\"simple\"><rect fill=\"#FFFFFF\" height=\"88.3516\" id=\"E3\" style=\"stroke: #383838; stroke-width: 1.5;\" width=\"66\" x=\"409\" y=\"41\"/><text fill=\"#000000\" font-family=\"sans-serif\" font-size=\"12\" font-style=\"italic\" lengthAdjust=\"spacingAndGlyphs\" textLength=\"64\" x=\"410\" y=\"57.1387\">«part def»</text><text fill=\"#000000\" font-family=\"sans-serif\" font-size=\"12\" lengthAdjust=\"spacingAndGlyphs\" textLength=\"8\" x=\"438\" y=\"71.1074\">B</text><line style=\"stroke: #383838; stroke-width: 1.5;\" x1=\"410\" x2=\"474\" y1=\"78.9375\" y2=\"78.9375\"/><text fill=\"#000000\" font-family=\"sans-serif\" font-size=\"11\" lengthAdjust=\"spacingAndGlyphs\" textLength=\"29\" x=\"415\" y=\"109.9526\">p1: P</text><text fill=\"#000000\" font-family=\"sans-serif\" font-size=\"11\" lengthAdjust=\"spacingAndGlyphs\" textLength=\"38\" x=\"415\" y=\"122.7573\">p2: ~P</text><line style=\"stroke: #383838; stroke-width: 1.0;\" x1=\"410\" x2=\"427\" y1=\"93.3398\" y2=\"93.3398\"/><text fill=\"#000000\" font-family=\"sans-serif\" font-size=\"11\" lengthAdjust=\"spacingAndGlyphs\" textLength=\"30\" x=\"427\" y=\"96.6479\">ports</text><line style=\"stroke: #383838; stroke-width: 1.0;\" x1=\"457\" x2=\"474\" y1=\"93.3398\" y2=\"93.3398\"/></a><!--MD5=[60a26617385b1d2d0262a64233df1f8d]\n",
       "class E6--><a href=\"psysml:d9048fa2-8c0d-4237-aabb-192a68938198\" target=\"_top\" title=\"psysml:d9048fa2-8c0d-4237-aabb-192a68938198\" xlink:actuate=\"onRequest\" xlink:href=\"psysml:d9048fa2-8c0d-4237-aabb-192a68938198\" xlink:show=\"new\" xlink:title=\"psysml:d9048fa2-8c0d-4237-aabb-192a68938198\" xlink:type=\"simple\"><rect fill=\"#FFFFFF\" height=\"88.3516\" id=\"E6\" style=\"stroke: #383838; stroke-width: 1.5;\" width=\"110\" x=\"264\" y=\"41\"/><text fill=\"#000000\" font-family=\"sans-serif\" font-size=\"12\" font-style=\"italic\" lengthAdjust=\"spacingAndGlyphs\" textLength=\"108\" x=\"265\" y=\"57.1387\">«connection def»</text><text fill=\"#000000\" font-family=\"sans-serif\" font-size=\"12\" lengthAdjust=\"spacingAndGlyphs\" textLength=\"8\" x=\"315\" y=\"71.1074\">A</text><line style=\"stroke: #383838; stroke-width: 1.5;\" x1=\"265\" x2=\"373\" y1=\"78.9375\" y2=\"78.9375\"/><text fill=\"#000000\" font-family=\"sans-serif\" font-size=\"11\" lengthAdjust=\"spacingAndGlyphs\" textLength=\"29\" x=\"270\" y=\"109.9526\">p1: P</text><text fill=\"#000000\" font-family=\"sans-serif\" font-size=\"11\" lengthAdjust=\"spacingAndGlyphs\" textLength=\"38\" x=\"270\" y=\"122.7573\">p2: ~P</text><line style=\"stroke: #383838; stroke-width: 1.0;\" x1=\"265\" x2=\"304\" y1=\"93.3398\" y2=\"93.3398\"/><text fill=\"#000000\" font-family=\"sans-serif\" font-size=\"11\" lengthAdjust=\"spacingAndGlyphs\" textLength=\"30\" x=\"304\" y=\"96.6479\">ports</text><line style=\"stroke: #383838; stroke-width: 1.0;\" x1=\"334\" x2=\"373\" y1=\"93.3398\" y2=\"93.3398\"/></a><!--MD5=[fd4143e9d270a159db93a4ea2a975926]\n",
       "class E9--><a href=\"psysml:b68d4e65-0a25-4b32-9474-7d6b33189e06\" target=\"_top\" title=\"psysml:b68d4e65-0a25-4b32-9474-7d6b33189e06\" xlink:actuate=\"onRequest\" xlink:href=\"psysml:b68d4e65-0a25-4b32-9474-7d6b33189e06\" xlink:show=\"new\" xlink:title=\"psysml:b68d4e65-0a25-4b32-9474-7d6b33189e06\" xlink:type=\"simple\"><rect fill=\"#FFFFFF\" height=\"88.3516\" id=\"E9\" style=\"stroke: #383838; stroke-width: 1.5;\" width=\"96\" x=\"133\" y=\"41\"/><text fill=\"#000000\" font-family=\"sans-serif\" font-size=\"12\" font-style=\"italic\" lengthAdjust=\"spacingAndGlyphs\" textLength=\"94\" x=\"134\" y=\"57.1387\">«interface def»</text><text fill=\"#000000\" font-family=\"sans-serif\" font-size=\"12\" lengthAdjust=\"spacingAndGlyphs\" textLength=\"3\" x=\"179.5\" y=\"71.1074\">I</text><line style=\"stroke: #383838; stroke-width: 1.5;\" x1=\"134\" x2=\"228\" y1=\"78.9375\" y2=\"78.9375\"/><text fill=\"#000000\" font-family=\"sans-serif\" font-size=\"11\" lengthAdjust=\"spacingAndGlyphs\" textLength=\"29\" x=\"139\" y=\"109.9526\">p1: P</text><text fill=\"#000000\" font-family=\"sans-serif\" font-size=\"11\" lengthAdjust=\"spacingAndGlyphs\" textLength=\"38\" x=\"139\" y=\"122.7573\">p2: ~P</text><line style=\"stroke: #383838; stroke-width: 1.0;\" x1=\"134\" x2=\"166\" y1=\"93.3398\" y2=\"93.3398\"/><text fill=\"#000000\" font-family=\"sans-serif\" font-size=\"11\" lengthAdjust=\"spacingAndGlyphs\" textLength=\"30\" x=\"166\" y=\"96.6479\">ports</text><line style=\"stroke: #383838; stroke-width: 1.0;\" x1=\"196\" x2=\"228\" y1=\"93.3398\" y2=\"93.3398\"/></a><!--MD5=[49a0ec8f00dab7302a31f22d0f0fe584]\n",
       "class E12--><a href=\"psysml:4bc8843d-d10d-4f46-93fe-21c75269e8aa\" target=\"_top\" title=\"psysml:4bc8843d-d10d-4f46-93fe-21c75269e8aa\" xlink:actuate=\"onRequest\" xlink:href=\"psysml:4bc8843d-d10d-4f46-93fe-21c75269e8aa\" xlink:show=\"new\" xlink:title=\"psysml:4bc8843d-d10d-4f46-93fe-21c75269e8aa\" xlink:type=\"simple\"><rect fill=\"#FFFFFF\" height=\"45.9375\" id=\"E12\" style=\"stroke: #383838; stroke-width: 1.5;\" width=\"66\" x=\"32\" y=\"62\"/><text fill=\"#000000\" font-family=\"sans-serif\" font-size=\"12\" font-style=\"italic\" lengthAdjust=\"spacingAndGlyphs\" textLength=\"64\" x=\"33\" y=\"78.1387\">«part def»</text><text fill=\"#000000\" font-family=\"sans-serif\" font-size=\"12\" lengthAdjust=\"spacingAndGlyphs\" textLength=\"16\" x=\"57\" y=\"92.1074\">B1</text><line style=\"stroke: #383838; stroke-width: 1.5;\" x1=\"33\" x2=\"97\" y1=\"99.9375\" y2=\"99.9375\"/></a><!--MD5=[ee3c913d1a06f366521f9ef512b67efe]\n",
       "class E13--><a href=\"psysml:37b5f10a-21e5-48b2-b2b2-bc5c291ce903\" target=\"_top\" title=\"psysml:37b5f10a-21e5-48b2-b2b2-bc5c291ce903\" xlink:actuate=\"onRequest\" xlink:href=\"psysml:37b5f10a-21e5-48b2-b2b2-bc5c291ce903\" xlink:show=\"new\" xlink:title=\"psysml:37b5f10a-21e5-48b2-b2b2-bc5c291ce903\" xlink:type=\"simple\"><rect fill=\"#FFFFFF\" height=\"88.3516\" id=\"E13\" rx=\"10\" ry=\"10\" style=\"stroke: #383838; stroke-width: 1.5;\" width=\"50\" x=\"40\" y=\"189\"/><text fill=\"#000000\" font-family=\"sans-serif\" font-size=\"12\" font-style=\"italic\" lengthAdjust=\"spacingAndGlyphs\" textLength=\"40\" x=\"45\" y=\"205.1387\">«part»</text><text fill=\"#000000\" font-family=\"sans-serif\" font-size=\"12\" lengthAdjust=\"spacingAndGlyphs\" textLength=\"8\" x=\"61\" y=\"219.1074\">p</text><line style=\"stroke: #383838; stroke-width: 1.5;\" x1=\"41\" x2=\"89\" y1=\"226.9375\" y2=\"226.9375\"/><text fill=\"#000000\" font-family=\"sans-serif\" font-size=\"11\" lengthAdjust=\"spacingAndGlyphs\" textLength=\"29\" x=\"46\" y=\"257.9526\">p1: P</text><text fill=\"#000000\" font-family=\"sans-serif\" font-size=\"11\" lengthAdjust=\"spacingAndGlyphs\" textLength=\"38\" x=\"46\" y=\"270.7573\">p2: ~P</text><line style=\"stroke: #383838; stroke-width: 1.0;\" x1=\"41\" x2=\"50\" y1=\"241.3398\" y2=\"241.3398\"/><text fill=\"#000000\" font-family=\"sans-serif\" font-size=\"11\" lengthAdjust=\"spacingAndGlyphs\" textLength=\"30\" x=\"50\" y=\"244.6479\">ports</text><line style=\"stroke: #383838; stroke-width: 1.0;\" x1=\"80\" x2=\"89\" y1=\"241.3398\" y2=\"241.3398\"/></a><!--MD5=[062ed86c389d1a88f61c6380d0491e17]\n",
       "reverse link E12 to E13--><a href=\"psysml:37b5f10a-21e5-48b2-b2b2-bc5c291ce903\" target=\"_top\" title=\"psysml:37b5f10a-21e5-48b2-b2b2-bc5c291ce903\" xlink:actuate=\"onRequest\" xlink:href=\"psysml:37b5f10a-21e5-48b2-b2b2-bc5c291ce903\" xlink:show=\"new\" xlink:title=\"psysml:37b5f10a-21e5-48b2-b2b2-bc5c291ce903\" xlink:type=\"simple\"><path d=\"M65,121.25 C65,141.54 65,167.2 65,188.71 \" fill=\"none\" id=\"E12&lt;-E13\" style=\"stroke: #383838; stroke-width: 1.0;\"/><polygon fill=\"#383838\" points=\"65,108.17,61,114.17,65,120.17,69,114.17,65,108.17\" style=\"stroke: #383838; stroke-width: 1.0;\"/></a><!--MD5=[3d05112817cc5ceb9134d1c6cf000817]\n",
       "@startuml\r\n",
       "skinparam monochrome true\r\n",
       "skinparam classbackgroundcolor white\r\n",
       "skinparam shadowing false\r\n",
       "skinparam wrapWidth 300\r\n",
       "hide circle\r\n",
       "\r\n",
       "package \"ConjugationTest\" as E1  [[psysml:4ba0ad9e-a677-47db-af1d-b015e8f93aef ]]  {\r\n",
       "comp def \"P\" as E2  <<(T,blue)port def>> [[psysml:0d231d17-09c4-40d0-a4bc-6d43713d1eea ]] {\r\n",
       "}\r\n",
       "comp def \"B\" as E3  <<(T,blue)part def>> [[psysml:1fca8384-68db-4c35-8908-d644a05ab33b ]] {\r\n",
       "- - ports - -\r\n",
       "p1: P\r\n",
       "p2: ~P\r\n",
       "}\r\n",
       "comp def \"A\" as E6  <<(T,blue)connection def>> [[psysml:d9048fa2-8c0d-4237-aabb-192a68938198 ]] {\r\n",
       "- - ports - -\r\n",
       "p1: P\r\n",
       "p2: ~P\r\n",
       "}\r\n",
       "comp def \"I\" as E9  <<(T,blue)interface def>> [[psysml:b68d4e65-0a25-4b32-9474-7d6b33189e06 ]] {\r\n",
       "- - ports - -\r\n",
       "p1: P\r\n",
       "p2: ~P\r\n",
       "}\r\n",
       "comp def \"B1\" as E12  <<(T,blue)part def>> [[psysml:4bc8843d-d10d-4f46-93fe-21c75269e8aa ]] {\r\n",
       "}\r\n",
       "comp usage \"p\" as E13  <<(T,blue)part>> [[psysml:37b5f10a-21e5-48b2-b2b2-bc5c291ce903 ]] {\r\n",
       "- - ports - -\r\n",
       "p1: P\r\n",
       "p2: ~P\r\n",
       "}\r\n",
       "E12 *- - E13 [[psysml:37b5f10a-21e5-48b2-b2b2-bc5c291ce903 ]] \r\n",
       "}\r\n",
       "@enduml\r\n",
       "\n",
       "PlantUML version 1.2020.13(Sat Jun 13 12:26:38 UTC 2020)\n",
       "(EPL source distribution)\n",
       "Java Runtime: OpenJDK Runtime Environment\n",
       "JVM: OpenJDK 64-Bit Server VM\n",
       "Default Encoding: UTF-8\n",
       "Language: en\n",
       "Country: null\n",
       "--></g></svg>"
      ]
     },
     "execution_count": 37,
     "metadata": {},
     "output_type": "execute_result"
    }
   ],
   "source": [
    "%viz --style=\"DEFAULT\" --view=\"Default\" \"ConjugationTest\""
   ]
  },
  {
   "cell_type": "code",
   "execution_count": 38,
   "id": "systematic-origin",
   "metadata": {
    "execution": {
     "iopub.execute_input": "2021-03-24T16:29:20.494064Z",
     "iopub.status.busy": "2021-03-24T16:29:20.493434Z",
     "iopub.status.idle": "2021-03-24T16:29:20.592310Z",
     "shell.execute_reply": "2021-03-24T16:29:20.590747Z"
    }
   },
   "outputs": [
    {
     "data": {
      "image/svg+xml": [
       "<?xml version=\"1.0\" encoding=\"UTF-8\" standalone=\"no\"?><svg xmlns=\"http://www.w3.org/2000/svg\" xmlns:xlink=\"http://www.w3.org/1999/xlink\" contentScriptType=\"application/ecmascript\" contentStyleType=\"text/css\" height=\"305px\" preserveAspectRatio=\"none\" style=\"width:614px;height:305px;\" version=\"1.1\" viewBox=\"0 0 614 305\" width=\"614px\" zoomAndPan=\"magnify\"><defs/><g><!--MD5=[fbc87193dbaf4d95561dea2c320d4a47]\n",
       "cluster E1--><a href=\"psysml:4ba0ad9e-a677-47db-af1d-b015e8f93aef\" target=\"_top\" title=\"psysml:4ba0ad9e-a677-47db-af1d-b015e8f93aef\" xlink:actuate=\"onRequest\" xlink:href=\"psysml:4ba0ad9e-a677-47db-af1d-b015e8f93aef\" xlink:show=\"new\" xlink:title=\"psysml:4ba0ad9e-a677-47db-af1d-b015e8f93aef\" xlink:type=\"simple\"><polygon fill=\"#FFFFFF\" points=\"16,6,151,6,158,28.2969,592,28.2969,592,293,16,293,16,6\" style=\"stroke: #000000; stroke-width: 1.5;\"/><line style=\"stroke: #000000; stroke-width: 1.5;\" x1=\"16\" x2=\"158\" y1=\"28.2969\" y2=\"28.2969\"/><text fill=\"#000000\" font-family=\"sans-serif\" font-size=\"14\" font-weight=\"bold\" lengthAdjust=\"spacingAndGlyphs\" textLength=\"129\" x=\"20\" y=\"20.9951\">ConjugationTest</text></a><!--MD5=[b4997ac47864f28c2f74865a473b2911]\n",
       "class E2--><a href=\"psysml:0d231d17-09c4-40d0-a4bc-6d43713d1eea\" target=\"_top\" title=\"psysml:0d231d17-09c4-40d0-a4bc-6d43713d1eea\" xlink:actuate=\"onRequest\" xlink:href=\"psysml:0d231d17-09c4-40d0-a4bc-6d43713d1eea\" xlink:show=\"new\" xlink:title=\"psysml:0d231d17-09c4-40d0-a4bc-6d43713d1eea\" xlink:type=\"simple\"><rect fill=\"#FFFFFF\" height=\"45.9375\" id=\"E2\" style=\"stroke: #383838; stroke-width: 1.5;\" width=\"66\" x=\"510\" y=\"62\"/><text fill=\"#000000\" font-family=\"sans-serif\" font-size=\"12\" font-style=\"italic\" lengthAdjust=\"spacingAndGlyphs\" textLength=\"64\" x=\"511\" y=\"78.1387\">«port def»</text><text fill=\"#000000\" font-family=\"sans-serif\" font-size=\"12\" lengthAdjust=\"spacingAndGlyphs\" textLength=\"8\" x=\"539\" y=\"92.1074\">P</text><line style=\"stroke: #383838; stroke-width: 1.5;\" x1=\"511\" x2=\"575\" y1=\"99.9375\" y2=\"99.9375\"/></a><!--MD5=[09b614a08d8cba4a07c9adeb5e0fee81]\n",
       "class E3--><a href=\"psysml:1fca8384-68db-4c35-8908-d644a05ab33b\" target=\"_top\" title=\"psysml:1fca8384-68db-4c35-8908-d644a05ab33b\" xlink:actuate=\"onRequest\" xlink:href=\"psysml:1fca8384-68db-4c35-8908-d644a05ab33b\" xlink:show=\"new\" xlink:title=\"psysml:1fca8384-68db-4c35-8908-d644a05ab33b\" xlink:type=\"simple\"><rect fill=\"#FFFFFF\" height=\"88.3516\" id=\"E3\" style=\"stroke: #383838; stroke-width: 1.5;\" width=\"66\" x=\"409\" y=\"41\"/><text fill=\"#000000\" font-family=\"sans-serif\" font-size=\"12\" font-style=\"italic\" lengthAdjust=\"spacingAndGlyphs\" textLength=\"64\" x=\"410\" y=\"57.1387\">«part def»</text><text fill=\"#000000\" font-family=\"sans-serif\" font-size=\"12\" lengthAdjust=\"spacingAndGlyphs\" textLength=\"8\" x=\"438\" y=\"71.1074\">B</text><line style=\"stroke: #383838; stroke-width: 1.5;\" x1=\"410\" x2=\"474\" y1=\"78.9375\" y2=\"78.9375\"/><text fill=\"#000000\" font-family=\"sans-serif\" font-size=\"11\" lengthAdjust=\"spacingAndGlyphs\" textLength=\"29\" x=\"415\" y=\"109.9526\">p1: P</text><text fill=\"#000000\" font-family=\"sans-serif\" font-size=\"11\" lengthAdjust=\"spacingAndGlyphs\" textLength=\"38\" x=\"415\" y=\"122.7573\">p2: ~P</text><line style=\"stroke: #383838; stroke-width: 1.0;\" x1=\"410\" x2=\"427\" y1=\"93.3398\" y2=\"93.3398\"/><text fill=\"#000000\" font-family=\"sans-serif\" font-size=\"11\" lengthAdjust=\"spacingAndGlyphs\" textLength=\"30\" x=\"427\" y=\"96.6479\">ports</text><line style=\"stroke: #383838; stroke-width: 1.0;\" x1=\"457\" x2=\"474\" y1=\"93.3398\" y2=\"93.3398\"/></a><!--MD5=[60a26617385b1d2d0262a64233df1f8d]\n",
       "class E6--><a href=\"psysml:d9048fa2-8c0d-4237-aabb-192a68938198\" target=\"_top\" title=\"psysml:d9048fa2-8c0d-4237-aabb-192a68938198\" xlink:actuate=\"onRequest\" xlink:href=\"psysml:d9048fa2-8c0d-4237-aabb-192a68938198\" xlink:show=\"new\" xlink:title=\"psysml:d9048fa2-8c0d-4237-aabb-192a68938198\" xlink:type=\"simple\"><rect fill=\"#FFFFFF\" height=\"88.3516\" id=\"E6\" style=\"stroke: #383838; stroke-width: 1.5;\" width=\"110\" x=\"264\" y=\"41\"/><text fill=\"#000000\" font-family=\"sans-serif\" font-size=\"12\" font-style=\"italic\" lengthAdjust=\"spacingAndGlyphs\" textLength=\"108\" x=\"265\" y=\"57.1387\">«connection def»</text><text fill=\"#000000\" font-family=\"sans-serif\" font-size=\"12\" lengthAdjust=\"spacingAndGlyphs\" textLength=\"8\" x=\"315\" y=\"71.1074\">A</text><line style=\"stroke: #383838; stroke-width: 1.5;\" x1=\"265\" x2=\"373\" y1=\"78.9375\" y2=\"78.9375\"/><text fill=\"#000000\" font-family=\"sans-serif\" font-size=\"11\" lengthAdjust=\"spacingAndGlyphs\" textLength=\"29\" x=\"270\" y=\"109.9526\">p1: P</text><text fill=\"#000000\" font-family=\"sans-serif\" font-size=\"11\" lengthAdjust=\"spacingAndGlyphs\" textLength=\"38\" x=\"270\" y=\"122.7573\">p2: ~P</text><line style=\"stroke: #383838; stroke-width: 1.0;\" x1=\"265\" x2=\"304\" y1=\"93.3398\" y2=\"93.3398\"/><text fill=\"#000000\" font-family=\"sans-serif\" font-size=\"11\" lengthAdjust=\"spacingAndGlyphs\" textLength=\"30\" x=\"304\" y=\"96.6479\">ports</text><line style=\"stroke: #383838; stroke-width: 1.0;\" x1=\"334\" x2=\"373\" y1=\"93.3398\" y2=\"93.3398\"/></a><!--MD5=[fd4143e9d270a159db93a4ea2a975926]\n",
       "class E9--><a href=\"psysml:b68d4e65-0a25-4b32-9474-7d6b33189e06\" target=\"_top\" title=\"psysml:b68d4e65-0a25-4b32-9474-7d6b33189e06\" xlink:actuate=\"onRequest\" xlink:href=\"psysml:b68d4e65-0a25-4b32-9474-7d6b33189e06\" xlink:show=\"new\" xlink:title=\"psysml:b68d4e65-0a25-4b32-9474-7d6b33189e06\" xlink:type=\"simple\"><rect fill=\"#FFFFFF\" height=\"88.3516\" id=\"E9\" style=\"stroke: #383838; stroke-width: 1.5;\" width=\"96\" x=\"133\" y=\"41\"/><text fill=\"#000000\" font-family=\"sans-serif\" font-size=\"12\" font-style=\"italic\" lengthAdjust=\"spacingAndGlyphs\" textLength=\"94\" x=\"134\" y=\"57.1387\">«interface def»</text><text fill=\"#000000\" font-family=\"sans-serif\" font-size=\"12\" lengthAdjust=\"spacingAndGlyphs\" textLength=\"3\" x=\"179.5\" y=\"71.1074\">I</text><line style=\"stroke: #383838; stroke-width: 1.5;\" x1=\"134\" x2=\"228\" y1=\"78.9375\" y2=\"78.9375\"/><text fill=\"#000000\" font-family=\"sans-serif\" font-size=\"11\" lengthAdjust=\"spacingAndGlyphs\" textLength=\"29\" x=\"139\" y=\"109.9526\">p1: P</text><text fill=\"#000000\" font-family=\"sans-serif\" font-size=\"11\" lengthAdjust=\"spacingAndGlyphs\" textLength=\"38\" x=\"139\" y=\"122.7573\">p2: ~P</text><line style=\"stroke: #383838; stroke-width: 1.0;\" x1=\"134\" x2=\"166\" y1=\"93.3398\" y2=\"93.3398\"/><text fill=\"#000000\" font-family=\"sans-serif\" font-size=\"11\" lengthAdjust=\"spacingAndGlyphs\" textLength=\"30\" x=\"166\" y=\"96.6479\">ports</text><line style=\"stroke: #383838; stroke-width: 1.0;\" x1=\"196\" x2=\"228\" y1=\"93.3398\" y2=\"93.3398\"/></a><!--MD5=[49a0ec8f00dab7302a31f22d0f0fe584]\n",
       "class E12--><a href=\"psysml:4bc8843d-d10d-4f46-93fe-21c75269e8aa\" target=\"_top\" title=\"psysml:4bc8843d-d10d-4f46-93fe-21c75269e8aa\" xlink:actuate=\"onRequest\" xlink:href=\"psysml:4bc8843d-d10d-4f46-93fe-21c75269e8aa\" xlink:show=\"new\" xlink:title=\"psysml:4bc8843d-d10d-4f46-93fe-21c75269e8aa\" xlink:type=\"simple\"><rect fill=\"#FFFFFF\" height=\"45.9375\" id=\"E12\" style=\"stroke: #383838; stroke-width: 1.5;\" width=\"66\" x=\"32\" y=\"62\"/><text fill=\"#000000\" font-family=\"sans-serif\" font-size=\"12\" font-style=\"italic\" lengthAdjust=\"spacingAndGlyphs\" textLength=\"64\" x=\"33\" y=\"78.1387\">«part def»</text><text fill=\"#000000\" font-family=\"sans-serif\" font-size=\"12\" lengthAdjust=\"spacingAndGlyphs\" textLength=\"16\" x=\"57\" y=\"92.1074\">B1</text><line style=\"stroke: #383838; stroke-width: 1.5;\" x1=\"33\" x2=\"97\" y1=\"99.9375\" y2=\"99.9375\"/></a><!--MD5=[ee3c913d1a06f366521f9ef512b67efe]\n",
       "class E13--><a href=\"psysml:37b5f10a-21e5-48b2-b2b2-bc5c291ce903\" target=\"_top\" title=\"psysml:37b5f10a-21e5-48b2-b2b2-bc5c291ce903\" xlink:actuate=\"onRequest\" xlink:href=\"psysml:37b5f10a-21e5-48b2-b2b2-bc5c291ce903\" xlink:show=\"new\" xlink:title=\"psysml:37b5f10a-21e5-48b2-b2b2-bc5c291ce903\" xlink:type=\"simple\"><rect fill=\"#FFFFFF\" height=\"88.3516\" id=\"E13\" rx=\"10\" ry=\"10\" style=\"stroke: #383838; stroke-width: 1.5;\" width=\"50\" x=\"40\" y=\"189\"/><text fill=\"#000000\" font-family=\"sans-serif\" font-size=\"12\" font-style=\"italic\" lengthAdjust=\"spacingAndGlyphs\" textLength=\"40\" x=\"45\" y=\"205.1387\">«part»</text><text fill=\"#000000\" font-family=\"sans-serif\" font-size=\"12\" lengthAdjust=\"spacingAndGlyphs\" textLength=\"8\" x=\"61\" y=\"219.1074\">p</text><line style=\"stroke: #383838; stroke-width: 1.5;\" x1=\"41\" x2=\"89\" y1=\"226.9375\" y2=\"226.9375\"/><text fill=\"#000000\" font-family=\"sans-serif\" font-size=\"11\" lengthAdjust=\"spacingAndGlyphs\" textLength=\"29\" x=\"46\" y=\"257.9526\">p1: P</text><text fill=\"#000000\" font-family=\"sans-serif\" font-size=\"11\" lengthAdjust=\"spacingAndGlyphs\" textLength=\"38\" x=\"46\" y=\"270.7573\">p2: ~P</text><line style=\"stroke: #383838; stroke-width: 1.0;\" x1=\"41\" x2=\"50\" y1=\"241.3398\" y2=\"241.3398\"/><text fill=\"#000000\" font-family=\"sans-serif\" font-size=\"11\" lengthAdjust=\"spacingAndGlyphs\" textLength=\"30\" x=\"50\" y=\"244.6479\">ports</text><line style=\"stroke: #383838; stroke-width: 1.0;\" x1=\"80\" x2=\"89\" y1=\"241.3398\" y2=\"241.3398\"/></a><!--MD5=[062ed86c389d1a88f61c6380d0491e17]\n",
       "reverse link E12 to E13--><a href=\"psysml:37b5f10a-21e5-48b2-b2b2-bc5c291ce903\" target=\"_top\" title=\"psysml:37b5f10a-21e5-48b2-b2b2-bc5c291ce903\" xlink:actuate=\"onRequest\" xlink:href=\"psysml:37b5f10a-21e5-48b2-b2b2-bc5c291ce903\" xlink:show=\"new\" xlink:title=\"psysml:37b5f10a-21e5-48b2-b2b2-bc5c291ce903\" xlink:type=\"simple\"><path d=\"M65,121.25 C65,141.54 65,167.2 65,188.71 \" fill=\"none\" id=\"E12&lt;-E13\" style=\"stroke: #383838; stroke-width: 1.0;\"/><polygon fill=\"#383838\" points=\"65,108.17,61,114.17,65,120.17,69,114.17,65,108.17\" style=\"stroke: #383838; stroke-width: 1.0;\"/></a><!--MD5=[3d05112817cc5ceb9134d1c6cf000817]\n",
       "@startuml\r\n",
       "skinparam monochrome true\r\n",
       "skinparam classbackgroundcolor white\r\n",
       "skinparam shadowing false\r\n",
       "skinparam wrapWidth 300\r\n",
       "hide circle\r\n",
       "\r\n",
       "package \"ConjugationTest\" as E1  [[psysml:4ba0ad9e-a677-47db-af1d-b015e8f93aef ]]  {\r\n",
       "comp def \"P\" as E2  <<(T,blue)port def>> [[psysml:0d231d17-09c4-40d0-a4bc-6d43713d1eea ]] {\r\n",
       "}\r\n",
       "comp def \"B\" as E3  <<(T,blue)part def>> [[psysml:1fca8384-68db-4c35-8908-d644a05ab33b ]] {\r\n",
       "- - ports - -\r\n",
       "p1: P\r\n",
       "p2: ~P\r\n",
       "}\r\n",
       "comp def \"A\" as E6  <<(T,blue)connection def>> [[psysml:d9048fa2-8c0d-4237-aabb-192a68938198 ]] {\r\n",
       "- - ports - -\r\n",
       "p1: P\r\n",
       "p2: ~P\r\n",
       "}\r\n",
       "comp def \"I\" as E9  <<(T,blue)interface def>> [[psysml:b68d4e65-0a25-4b32-9474-7d6b33189e06 ]] {\r\n",
       "- - ports - -\r\n",
       "p1: P\r\n",
       "p2: ~P\r\n",
       "}\r\n",
       "comp def \"B1\" as E12  <<(T,blue)part def>> [[psysml:4bc8843d-d10d-4f46-93fe-21c75269e8aa ]] {\r\n",
       "}\r\n",
       "comp usage \"p\" as E13  <<(T,blue)part>> [[psysml:37b5f10a-21e5-48b2-b2b2-bc5c291ce903 ]] {\r\n",
       "- - ports - -\r\n",
       "p1: P\r\n",
       "p2: ~P\r\n",
       "}\r\n",
       "E12 *- - E13 [[psysml:37b5f10a-21e5-48b2-b2b2-bc5c291ce903 ]] \r\n",
       "}\r\n",
       "@enduml\r\n",
       "\n",
       "PlantUML version 1.2020.13(Sat Jun 13 12:26:38 UTC 2020)\n",
       "(EPL source distribution)\n",
       "Java Runtime: OpenJDK Runtime Environment\n",
       "JVM: OpenJDK 64-Bit Server VM\n",
       "Default Encoding: UTF-8\n",
       "Language: en\n",
       "Country: null\n",
       "--></g></svg>"
      ]
     },
     "execution_count": 38,
     "metadata": {},
     "output_type": "execute_result"
    }
   ],
   "source": [
    "%viz --style=\"DEFAULT\" --view=\"Tree\" \"ConjugationTest\""
   ]
  },
  {
   "cell_type": "code",
   "execution_count": 39,
   "id": "catholic-canal",
   "metadata": {
    "execution": {
     "iopub.execute_input": "2021-03-24T16:29:20.642144Z",
     "iopub.status.busy": "2021-03-24T16:29:20.641584Z",
     "iopub.status.idle": "2021-03-24T16:29:20.647096Z",
     "shell.execute_reply": "2021-03-24T16:29:20.647711Z"
    }
   },
   "outputs": [
    {
     "data": {
      "image/svg+xml": [
       "<?xml version=\"1.0\" encoding=\"UTF-8\" standalone=\"no\"?><svg xmlns=\"http://www.w3.org/2000/svg\" xmlns:xlink=\"http://www.w3.org/1999/xlink\" contentScriptType=\"application/ecmascript\" contentStyleType=\"text/css\" height=\"12px\" preserveAspectRatio=\"none\" style=\"width:12px;height:12px;\" version=\"1.1\" viewBox=\"0 0 12 12\" width=\"12px\" zoomAndPan=\"magnify\"><defs/><g><!--MD5=[c5f280e076d0d61ccf4b0f27871bda1d]\n",
       "@startuml\r\n",
       "skinparam monochrome true\r\n",
       "skinparam classbackgroundcolor white\r\n",
       "skinparam shadowing false\r\n",
       "skinparam wrapWidth 300\r\n",
       "hide circle\r\n",
       "\r\n",
       "@enduml\r\n",
       "\n",
       "PlantUML version 1.2020.13(Sat Jun 13 12:26:38 UTC 2020)\n",
       "(EPL source distribution)\n",
       "Java Runtime: OpenJDK Runtime Environment\n",
       "JVM: OpenJDK 64-Bit Server VM\n",
       "Default Encoding: UTF-8\n",
       "Language: en\n",
       "Country: null\n",
       "--></g></svg>"
      ]
     },
     "execution_count": 39,
     "metadata": {},
     "output_type": "execute_result"
    }
   ],
   "source": [
    "%viz --style=\"DEFAULT\" --view=\"State\" \"ConjugationTest\""
   ]
  },
  {
   "cell_type": "code",
   "execution_count": 40,
   "id": "mounted-edmonton",
   "metadata": {
    "execution": {
     "iopub.execute_input": "2021-03-24T16:29:20.698977Z",
     "iopub.status.busy": "2021-03-24T16:29:20.698132Z",
     "iopub.status.idle": "2021-03-24T16:29:20.748141Z",
     "shell.execute_reply": "2021-03-24T16:29:20.748508Z"
    }
   },
   "outputs": [
    {
     "data": {
      "image/svg+xml": [
       "<?xml version=\"1.0\" encoding=\"UTF-8\" standalone=\"no\"?><svg xmlns=\"http://www.w3.org/2000/svg\" xmlns:xlink=\"http://www.w3.org/1999/xlink\" contentScriptType=\"application/ecmascript\" contentStyleType=\"text/css\" height=\"246px\" preserveAspectRatio=\"none\" style=\"width:739px;height:246px;\" version=\"1.1\" viewBox=\"0 0 739 246\" width=\"739px\" zoomAndPan=\"magnify\"><defs/><g><!--MD5=[fbc87193dbaf4d95561dea2c320d4a47]\n",
       "cluster E1--><a href=\"psysml:4ba0ad9e-a677-47db-af1d-b015e8f93aef\" target=\"_top\" title=\"psysml:4ba0ad9e-a677-47db-af1d-b015e8f93aef\" xlink:actuate=\"onRequest\" xlink:href=\"psysml:4ba0ad9e-a677-47db-af1d-b015e8f93aef\" xlink:show=\"new\" xlink:title=\"psysml:4ba0ad9e-a677-47db-af1d-b015e8f93aef\" xlink:type=\"simple\"><polygon fill=\"#FFFFFF\" points=\"16,6,151,6,158,28.2969,717,28.2969,717,234.5,16,234.5,16,6\" style=\"stroke: #000000; stroke-width: 1.5;\"/><line style=\"stroke: #000000; stroke-width: 1.5;\" x1=\"16\" x2=\"158\" y1=\"28.2969\" y2=\"28.2969\"/><text fill=\"#000000\" font-family=\"sans-serif\" font-size=\"14\" font-weight=\"bold\" lengthAdjust=\"spacingAndGlyphs\" textLength=\"129\" x=\"20\" y=\"20.9951\">ConjugationTest</text></a><!--MD5=[d5e69f78d87373223dbae638b30a9c99]\n",
       "cluster E3--><a href=\"psysml:1fca8384-68db-4c35-8908-d644a05ab33b\" target=\"_top\" title=\"psysml:1fca8384-68db-4c35-8908-d644a05ab33b\" xlink:actuate=\"onRequest\" xlink:href=\"psysml:1fca8384-68db-4c35-8908-d644a05ab33b\" xlink:show=\"new\" xlink:title=\"psysml:1fca8384-68db-4c35-8908-d644a05ab33b\" xlink:type=\"simple\"><rect fill=\"#FFFFFF\" height=\"88.5\" id=\"E3\" style=\"stroke: #383838; stroke-width: 1.5;\" width=\"83\" x=\"577\" y=\"114\"/><rect fill=\"#F8F8F8\" height=\"37.9375\" style=\"stroke: #383838; stroke-width: 1.5;\" width=\"83\" x=\"577\" y=\"114\"/><text fill=\"#000000\" font-family=\"sans-serif\" font-size=\"12\" font-style=\"italic\" lengthAdjust=\"spacingAndGlyphs\" textLength=\"64\" x=\"586.5\" y=\"130.1387\">«part def»</text><text fill=\"#000000\" font-family=\"sans-serif\" font-size=\"12\" lengthAdjust=\"spacingAndGlyphs\" textLength=\"8\" x=\"614.5\" y=\"144.1074\">B</text></a><!--MD5=[14e3b0961a2654348d326746436168a1]\n",
       "cluster E6--><a href=\"psysml:d9048fa2-8c0d-4237-aabb-192a68938198\" target=\"_top\" title=\"psysml:d9048fa2-8c0d-4237-aabb-192a68938198\" xlink:actuate=\"onRequest\" xlink:href=\"psysml:d9048fa2-8c0d-4237-aabb-192a68938198\" xlink:show=\"new\" xlink:title=\"psysml:d9048fa2-8c0d-4237-aabb-192a68938198\" xlink:type=\"simple\"><rect fill=\"#FFFFFF\" height=\"88.5\" id=\"E6\" style=\"stroke: #383838; stroke-width: 1.5;\" width=\"150\" x=\"423\" y=\"114\"/><rect fill=\"#F8F8F8\" height=\"37.9375\" style=\"stroke: #383838; stroke-width: 1.5;\" width=\"150\" x=\"423\" y=\"114\"/><text fill=\"#000000\" font-family=\"sans-serif\" font-size=\"12\" font-style=\"italic\" lengthAdjust=\"spacingAndGlyphs\" textLength=\"108\" x=\"444\" y=\"130.1387\">«connection def»</text><text fill=\"#000000\" font-family=\"sans-serif\" font-size=\"12\" lengthAdjust=\"spacingAndGlyphs\" textLength=\"8\" x=\"494\" y=\"144.1074\">A</text></a><!--MD5=[7f149f147074ac12df2cb0a7728a5fb0]\n",
       "cluster E9--><a href=\"psysml:b68d4e65-0a25-4b32-9474-7d6b33189e06\" target=\"_top\" title=\"psysml:b68d4e65-0a25-4b32-9474-7d6b33189e06\" xlink:actuate=\"onRequest\" xlink:href=\"psysml:b68d4e65-0a25-4b32-9474-7d6b33189e06\" xlink:show=\"new\" xlink:title=\"psysml:b68d4e65-0a25-4b32-9474-7d6b33189e06\" xlink:type=\"simple\"><rect fill=\"#FFFFFF\" height=\"88.5\" id=\"E9\" style=\"stroke: #383838; stroke-width: 1.5;\" width=\"141\" x=\"254\" y=\"114\"/><rect fill=\"#F8F8F8\" height=\"37.9375\" style=\"stroke: #383838; stroke-width: 1.5;\" width=\"141\" x=\"254\" y=\"114\"/><text fill=\"#000000\" font-family=\"sans-serif\" font-size=\"12\" font-style=\"italic\" lengthAdjust=\"spacingAndGlyphs\" textLength=\"94\" x=\"277.5\" y=\"130.1387\">«interface def»</text><text fill=\"#000000\" font-family=\"sans-serif\" font-size=\"12\" lengthAdjust=\"spacingAndGlyphs\" textLength=\"3\" x=\"323\" y=\"144.1074\">I</text></a><!--MD5=[47bea60c1a0ac6c1143df232041969c0]\n",
       "cluster E12--><a href=\"psysml:4bc8843d-d10d-4f46-93fe-21c75269e8aa\" target=\"_top\" title=\"psysml:4bc8843d-d10d-4f46-93fe-21c75269e8aa\" xlink:actuate=\"onRequest\" xlink:href=\"psysml:4bc8843d-d10d-4f46-93fe-21c75269e8aa\" xlink:show=\"new\" xlink:title=\"psysml:4bc8843d-d10d-4f46-93fe-21c75269e8aa\" xlink:type=\"simple\"><rect fill=\"#FFFFFF\" height=\"161.5\" id=\"E12\" style=\"stroke: #383838; stroke-width: 1.5;\" width=\"107\" x=\"120\" y=\"49\"/><rect fill=\"#F8F8F8\" height=\"37.9375\" style=\"stroke: #383838; stroke-width: 1.5;\" width=\"107\" x=\"120\" y=\"49\"/><text fill=\"#000000\" font-family=\"sans-serif\" font-size=\"12\" font-style=\"italic\" lengthAdjust=\"spacingAndGlyphs\" textLength=\"64\" x=\"141.5\" y=\"65.1387\">«part def»</text><text fill=\"#000000\" font-family=\"sans-serif\" font-size=\"12\" lengthAdjust=\"spacingAndGlyphs\" textLength=\"16\" x=\"165.5\" y=\"79.1074\">B1</text></a><!--MD5=[03104f77b71e2d8d3500c651e6e31181]\n",
       "cluster E13--><a href=\"psysml:37b5f10a-21e5-48b2-b2b2-bc5c291ce903\" target=\"_top\" title=\"psysml:37b5f10a-21e5-48b2-b2b2-bc5c291ce903\" xlink:actuate=\"onRequest\" xlink:href=\"psysml:37b5f10a-21e5-48b2-b2b2-bc5c291ce903\" xlink:show=\"new\" xlink:title=\"psysml:37b5f10a-21e5-48b2-b2b2-bc5c291ce903\" xlink:type=\"simple\"><rect fill=\"#FFFFFF\" height=\"80.5\" id=\"E13\" rx=\"10\" ry=\"10\" style=\"stroke: #383838; stroke-width: 1.5;\" width=\"83\" x=\"132\" y=\"114\"/><rect fill=\"#F8F8F8\" height=\"23.9688\" rx=\"10\" ry=\"10\" style=\"stroke: #F8F8F8; stroke-width: 1.5;\" width=\"83\" x=\"132\" y=\"114\"/><rect fill=\"#F8F8F8\" height=\"10\" style=\"stroke: #F8F8F8; stroke-width: 1.5;\" width=\"83\" x=\"132\" y=\"127.9688\"/><rect fill=\"none\" height=\"80.5\" id=\"E13\" rx=\"10\" ry=\"10\" style=\"stroke: #383838; stroke-width: 1.5;\" width=\"83\" x=\"132\" y=\"114\"/><text fill=\"#000000\" font-family=\"sans-serif\" font-size=\"12\" lengthAdjust=\"spacingAndGlyphs\" textLength=\"8\" x=\"169.5\" y=\"130.1387\">p</text><line style=\"stroke: #383838; stroke-width: 1.0;\" x1=\"132\" x2=\"215\" y1=\"137.9688\" y2=\"137.9688\"/></a><g id=\"E1.E2\"><a href=\"psysml:0d231d17-09c4-40d0-a4bc-6d43713d1eea\" target=\"_top\" title=\"psysml:0d231d17-09c4-40d0-a4bc-6d43713d1eea\" xlink:actuate=\"onRequest\" xlink:href=\"psysml:0d231d17-09c4-40d0-a4bc-6d43713d1eea\" xlink:show=\"new\" xlink:title=\"psysml:0d231d17-09c4-40d0-a4bc-6d43713d1eea\" xlink:type=\"simple\"><rect fill=\"#FFFFFF\" height=\"42.9375\" id=\"E2\" style=\"stroke: #383838; stroke-width: 1.5;\" width=\"71\" x=\"32.5\" y=\"92.5\"/><rect fill=\"#F8F8F8\" height=\"37.9375\" style=\"stroke: #383838; stroke-width: 1.5;\" width=\"71\" x=\"32.5\" y=\"92.5\"/><text fill=\"#000000\" font-family=\"sans-serif\" font-size=\"12\" font-style=\"italic\" lengthAdjust=\"spacingAndGlyphs\" textLength=\"64\" x=\"36\" y=\"108.6387\">«port def»</text><text fill=\"#000000\" font-family=\"sans-serif\" font-size=\"12\" lengthAdjust=\"spacingAndGlyphs\" textLength=\"8\" x=\"64\" y=\"122.6074\">P</text></a></g><text fill=\"#000000\" font-family=\"sans-serif\" font-size=\"14\" lengthAdjust=\"spacingAndGlyphs\" textLength=\"36\" x=\"577\" y=\"92.6982\">p1: P</text><rect fill=\"#383838\" height=\"12\" style=\"stroke: #F8F8F8; stroke-width: 1.5;\" width=\"12\" x=\"589\" y=\"108\"/><text fill=\"#000000\" font-family=\"sans-serif\" font-size=\"14\" lengthAdjust=\"spacingAndGlyphs\" textLength=\"48\" x=\"618\" y=\"92.6982\">p2: ~P</text><rect fill=\"#383838\" height=\"12\" style=\"stroke: #F8F8F8; stroke-width: 1.5;\" width=\"12\" x=\"636\" y=\"108\"/><text fill=\"#000000\" font-family=\"sans-serif\" font-size=\"14\" lengthAdjust=\"spacingAndGlyphs\" textLength=\"36\" x=\"423\" y=\"92.6982\">p1: P</text><rect fill=\"#383838\" height=\"12\" style=\"stroke: #F8F8F8; stroke-width: 1.5;\" width=\"12\" x=\"435\" y=\"108\"/><text fill=\"#000000\" font-family=\"sans-serif\" font-size=\"14\" lengthAdjust=\"spacingAndGlyphs\" textLength=\"48\" x=\"464\" y=\"92.6982\">p2: ~P</text><rect fill=\"#383838\" height=\"12\" style=\"stroke: #F8F8F8; stroke-width: 1.5;\" width=\"12\" x=\"482\" y=\"108\"/><text fill=\"#000000\" font-family=\"sans-serif\" font-size=\"14\" lengthAdjust=\"spacingAndGlyphs\" textLength=\"36\" x=\"254\" y=\"92.6982\">p1: P</text><rect fill=\"#383838\" height=\"12\" style=\"stroke: #F8F8F8; stroke-width: 1.5;\" width=\"12\" x=\"266\" y=\"108\"/><text fill=\"#000000\" font-family=\"sans-serif\" font-size=\"14\" lengthAdjust=\"spacingAndGlyphs\" textLength=\"48\" x=\"295\" y=\"92.6982\">p2: ~P</text><rect fill=\"#383838\" height=\"12\" style=\"stroke: #F8F8F8; stroke-width: 1.5;\" width=\"12\" x=\"313\" y=\"108\"/><text fill=\"#000000\" font-family=\"sans-serif\" font-size=\"14\" lengthAdjust=\"spacingAndGlyphs\" textLength=\"36\" x=\"132\" y=\"92.6982\">p1: P</text><rect fill=\"#383838\" height=\"12\" style=\"stroke: #F8F8F8; stroke-width: 1.5;\" width=\"12\" x=\"144\" y=\"108\"/><text fill=\"#000000\" font-family=\"sans-serif\" font-size=\"14\" lengthAdjust=\"spacingAndGlyphs\" textLength=\"48\" x=\"173\" y=\"92.6982\">p2: ~P</text><rect fill=\"#383838\" height=\"12\" style=\"stroke: #F8F8F8; stroke-width: 1.5;\" width=\"12\" x=\"191\" y=\"108\"/><!--MD5=[4ce51ac6fa4cf5202df3859e2718f033]\n",
       "link E15 to E14--><a href=\"psysml:8d97a70f-8cd3-421a-99bb-bcc3f52cef04\" target=\"_top\" title=\"psysml:8d97a70f-8cd3-421a-99bb-bcc3f52cef04\" xlink:actuate=\"onRequest\" xlink:href=\"psysml:8d97a70f-8cd3-421a-99bb-bcc3f52cef04\" xlink:show=\"new\" xlink:title=\"psysml:8d97a70f-8cd3-421a-99bb-bcc3f52cef04\" xlink:type=\"simple\"><path d=\"M190.95,114 C179.38,114 167.81,114 156.24,114 \" fill=\"none\" id=\"E15-E14\" style=\"stroke: #383838; stroke-width: 3.0;\"/></a><!--MD5=[4ce51ac6fa4cf5202df3859e2718f033]\n",
       "link E15 to E14--><a href=\"psysml:4e5d56fb-a30b-410a-93da-f699910e5442\" target=\"_top\" title=\"psysml:4e5d56fb-a30b-410a-93da-f699910e5442\" xlink:actuate=\"onRequest\" xlink:href=\"psysml:4e5d56fb-a30b-410a-93da-f699910e5442\" xlink:show=\"new\" xlink:title=\"psysml:4e5d56fb-a30b-410a-93da-f699910e5442\" xlink:type=\"simple\"><path d=\"M190.95,111.98 C179.38,108.69 167.81,108.67 156.24,111.93 \" fill=\"none\" id=\"E15-E14-1\" style=\"stroke: #383838; stroke-width: 3.0;\"/></a><!--MD5=[0d460f2be040094937186e5777187971]\n",
       "@startuml\r\n",
       "skinparam ranksep 10\r\n",
       "skinparam rectangle {\r\n",
       " backgroundColor<<block>> LightGreen\r\n",
       "}\r\n",
       "skinparam monochrome true\r\n",
       "skinparam classbackgroundcolor white\r\n",
       "skinparam shadowing false\r\n",
       "skinparam wrapWidth 300\r\n",
       "hide circle\r\n",
       "\r\n",
       "package \"ConjugationTest\" as E1  [[psysml:4ba0ad9e-a677-47db-af1d-b015e8f93aef ]]  {\r\n",
       "def \"P\" as E2  <<(T,blue)port def>> [[psysml:0d231d17-09c4-40d0-a4bc-6d43713d1eea ]] \r\n",
       "rec def \"B\" as E3  <<(T,blue)part def>> [[psysml:1fca8384-68db-4c35-8908-d644a05ab33b ]] {\r\n",
       "portin \"p1: P\" as E4  <<(T,blue)port>> [[psysml:ac9a4e52-d9d9-4ed8-9786-da9347d8a24d ]] \r\n",
       "portin \"p2: ~P\" as E5  <<(T,blue)port>> [[psysml:dd7140d6-57c4-455c-b235-fe627e1ecfff ]] \r\n",
       "}\r\n",
       "rec def \"A\" as E6  <<(T,blue)connection def>> [[psysml:d9048fa2-8c0d-4237-aabb-192a68938198 ]] {\r\n",
       "portin \"p1: P\" as E7  <<(T,blue)port>> [[psysml:135e4066-7c15-417d-820e-373a33adf188 ]] \r\n",
       "portin \"p2: ~P\" as E8  <<(T,blue)port>> [[psysml:242160d8-1eb8-4593-9cf8-95e70ea0b9fa ]] \r\n",
       "}\r\n",
       "rec def \"I\" as E9  <<(T,blue)interface def>> [[psysml:b68d4e65-0a25-4b32-9474-7d6b33189e06 ]] {\r\n",
       "portin \"p1: P\" as E10  <<(T,blue)port>> [[psysml:c610f798-3696-48d0-b489-00c6b6b02c5c ]] \r\n",
       "portin \"p2: ~P\" as E11  <<(T,blue)port>> [[psysml:82b7a088-1726-4de6-92a0-2f3113dfc02a ]] \r\n",
       "}\r\n",
       "rec def \"B1\" as E12  <<(T,blue)part def>> [[psysml:4bc8843d-d10d-4f46-93fe-21c75269e8aa ]] {\r\n",
       "rec usage \"p\" as E13  [[psysml:37b5f10a-21e5-48b2-b2b2-bc5c291ce903 ]] {\r\n",
       "portin \"p1: P\" as E14  <<(T,blue)port>> [[psysml:c9e1cbea-e956-4380-9b02-2ad2a26c5224 ]] \r\n",
       "portin \"p2: ~P\" as E15  <<(T,blue)port>> [[psysml:91fc773b-55a8-419c-8531-23cd35b1b670 ]] \r\n",
       "}\r\n",
       "}\r\n",
       "E15 -[thickness=3]- E14 [[psysml:8d97a70f-8cd3-421a-99bb-bcc3f52cef04 ]] \r\n",
       "E15 -[thickness=3]- E14 [[psysml:4e5d56fb-a30b-410a-93da-f699910e5442 ]] \r\n",
       "}\r\n",
       "@enduml\r\n",
       "\n",
       "PlantUML version 1.2020.13(Sat Jun 13 12:26:38 UTC 2020)\n",
       "(EPL source distribution)\n",
       "Java Runtime: OpenJDK Runtime Environment\n",
       "JVM: OpenJDK 64-Bit Server VM\n",
       "Default Encoding: UTF-8\n",
       "Language: en\n",
       "Country: null\n",
       "--></g></svg>"
      ]
     },
     "execution_count": 40,
     "metadata": {},
     "output_type": "execute_result"
    }
   ],
   "source": [
    "%viz --style=\"DEFAULT\" --view=\"Interconnection\" \"ConjugationTest\""
   ]
  },
  {
   "cell_type": "code",
   "execution_count": 41,
   "id": "private-dublin",
   "metadata": {
    "execution": {
     "iopub.execute_input": "2021-03-24T16:29:20.797952Z",
     "iopub.status.busy": "2021-03-24T16:29:20.797585Z",
     "iopub.status.idle": "2021-03-24T16:29:20.802110Z",
     "shell.execute_reply": "2021-03-24T16:29:20.801735Z"
    }
   },
   "outputs": [
    {
     "data": {
      "image/svg+xml": [
       "<?xml version=\"1.0\" encoding=\"UTF-8\" standalone=\"no\"?><svg xmlns=\"http://www.w3.org/2000/svg\" xmlns:xlink=\"http://www.w3.org/1999/xlink\" contentScriptType=\"application/ecmascript\" contentStyleType=\"text/css\" height=\"12px\" preserveAspectRatio=\"none\" style=\"width:12px;height:12px;\" version=\"1.1\" viewBox=\"0 0 12 12\" width=\"12px\" zoomAndPan=\"magnify\"><defs/><g><!--MD5=[388f21188e31bfdd97050473b19af356]\n",
       "@startuml\r\n",
       "skinparam ranksep 8\r\n",
       "skinparam monochrome true\r\n",
       "skinparam classbackgroundcolor white\r\n",
       "skinparam shadowing false\r\n",
       "skinparam wrapWidth 300\r\n",
       "hide circle\r\n",
       "\r\n",
       "@enduml\r\n",
       "\n",
       "PlantUML version 1.2020.13(Sat Jun 13 12:26:38 UTC 2020)\n",
       "(EPL source distribution)\n",
       "Java Runtime: OpenJDK Runtime Environment\n",
       "JVM: OpenJDK 64-Bit Server VM\n",
       "Default Encoding: UTF-8\n",
       "Language: en\n",
       "Country: null\n",
       "--></g></svg>"
      ]
     },
     "execution_count": 41,
     "metadata": {},
     "output_type": "execute_result"
    }
   ],
   "source": [
    "%viz --style=\"DEFAULT\" --view=\"Action\" \"ConjugationTest\""
   ]
  },
  {
   "cell_type": "code",
   "execution_count": 42,
   "id": "indirect-processing",
   "metadata": {
    "execution": {
     "iopub.execute_input": "2021-03-24T16:29:20.857921Z",
     "iopub.status.busy": "2021-03-24T16:29:20.856466Z",
     "iopub.status.idle": "2021-03-24T16:29:21.018265Z",
     "shell.execute_reply": "2021-03-24T16:29:21.014774Z"
    }
   },
   "outputs": [
    {
     "data": {
      "image/svg+xml": [
       "<?xml version=\"1.0\" encoding=\"UTF-8\" standalone=\"no\"?><svg xmlns=\"http://www.w3.org/2000/svg\" xmlns:xlink=\"http://www.w3.org/1999/xlink\" contentScriptType=\"application/ecmascript\" contentStyleType=\"text/css\" height=\"305px\" preserveAspectRatio=\"none\" style=\"width:614px;height:305px;\" version=\"1.1\" viewBox=\"0 0 614 305\" width=\"614px\" zoomAndPan=\"magnify\"><defs/><g><!--MD5=[fbc87193dbaf4d95561dea2c320d4a47]\n",
       "cluster E1--><a href=\"psysml:4ba0ad9e-a677-47db-af1d-b015e8f93aef\" target=\"_top\" title=\"psysml:4ba0ad9e-a677-47db-af1d-b015e8f93aef\" xlink:actuate=\"onRequest\" xlink:href=\"psysml:4ba0ad9e-a677-47db-af1d-b015e8f93aef\" xlink:show=\"new\" xlink:title=\"psysml:4ba0ad9e-a677-47db-af1d-b015e8f93aef\" xlink:type=\"simple\"><polygon fill=\"#FFFFFF\" points=\"16,6,151,6,158,28.2969,592,28.2969,592,293,16,293,16,6\" style=\"stroke: #000000; stroke-width: 1.5;\"/><line style=\"stroke: #000000; stroke-width: 1.5;\" x1=\"16\" x2=\"158\" y1=\"28.2969\" y2=\"28.2969\"/><text fill=\"#000000\" font-family=\"sans-serif\" font-size=\"14\" font-weight=\"bold\" lengthAdjust=\"spacingAndGlyphs\" textLength=\"129\" x=\"20\" y=\"20.9951\">ConjugationTest</text></a><!--MD5=[b4997ac47864f28c2f74865a473b2911]\n",
       "class E2--><a href=\"psysml:0d231d17-09c4-40d0-a4bc-6d43713d1eea\" target=\"_top\" title=\"psysml:0d231d17-09c4-40d0-a4bc-6d43713d1eea\" xlink:actuate=\"onRequest\" xlink:href=\"psysml:0d231d17-09c4-40d0-a4bc-6d43713d1eea\" xlink:show=\"new\" xlink:title=\"psysml:0d231d17-09c4-40d0-a4bc-6d43713d1eea\" xlink:type=\"simple\"><rect fill=\"#FFFFFF\" height=\"45.9375\" id=\"E2\" style=\"stroke: #383838; stroke-width: 1.5;\" width=\"66\" x=\"510\" y=\"62\"/><text fill=\"#000000\" font-family=\"sans-serif\" font-size=\"12\" font-style=\"italic\" lengthAdjust=\"spacingAndGlyphs\" textLength=\"64\" x=\"511\" y=\"78.1387\">«port def»</text><text fill=\"#000000\" font-family=\"sans-serif\" font-size=\"12\" lengthAdjust=\"spacingAndGlyphs\" textLength=\"8\" x=\"539\" y=\"92.1074\">P</text><line style=\"stroke: #383838; stroke-width: 1.5;\" x1=\"511\" x2=\"575\" y1=\"99.9375\" y2=\"99.9375\"/></a><!--MD5=[09b614a08d8cba4a07c9adeb5e0fee81]\n",
       "class E3--><a href=\"psysml:1fca8384-68db-4c35-8908-d644a05ab33b\" target=\"_top\" title=\"psysml:1fca8384-68db-4c35-8908-d644a05ab33b\" xlink:actuate=\"onRequest\" xlink:href=\"psysml:1fca8384-68db-4c35-8908-d644a05ab33b\" xlink:show=\"new\" xlink:title=\"psysml:1fca8384-68db-4c35-8908-d644a05ab33b\" xlink:type=\"simple\"><rect fill=\"#FFFFFF\" height=\"88.3516\" id=\"E3\" style=\"stroke: #383838; stroke-width: 1.5;\" width=\"66\" x=\"409\" y=\"41\"/><text fill=\"#000000\" font-family=\"sans-serif\" font-size=\"12\" font-style=\"italic\" lengthAdjust=\"spacingAndGlyphs\" textLength=\"64\" x=\"410\" y=\"57.1387\">«part def»</text><text fill=\"#000000\" font-family=\"sans-serif\" font-size=\"12\" lengthAdjust=\"spacingAndGlyphs\" textLength=\"8\" x=\"438\" y=\"71.1074\">B</text><line style=\"stroke: #383838; stroke-width: 1.5;\" x1=\"410\" x2=\"474\" y1=\"78.9375\" y2=\"78.9375\"/><text fill=\"#000000\" font-family=\"sans-serif\" font-size=\"11\" lengthAdjust=\"spacingAndGlyphs\" textLength=\"29\" x=\"415\" y=\"109.9526\">p1: P</text><text fill=\"#000000\" font-family=\"sans-serif\" font-size=\"11\" lengthAdjust=\"spacingAndGlyphs\" textLength=\"38\" x=\"415\" y=\"122.7573\">p2: ~P</text><line style=\"stroke: #383838; stroke-width: 1.0;\" x1=\"410\" x2=\"427\" y1=\"93.3398\" y2=\"93.3398\"/><text fill=\"#000000\" font-family=\"sans-serif\" font-size=\"11\" lengthAdjust=\"spacingAndGlyphs\" textLength=\"30\" x=\"427\" y=\"96.6479\">ports</text><line style=\"stroke: #383838; stroke-width: 1.0;\" x1=\"457\" x2=\"474\" y1=\"93.3398\" y2=\"93.3398\"/></a><!--MD5=[60a26617385b1d2d0262a64233df1f8d]\n",
       "class E6--><a href=\"psysml:d9048fa2-8c0d-4237-aabb-192a68938198\" target=\"_top\" title=\"psysml:d9048fa2-8c0d-4237-aabb-192a68938198\" xlink:actuate=\"onRequest\" xlink:href=\"psysml:d9048fa2-8c0d-4237-aabb-192a68938198\" xlink:show=\"new\" xlink:title=\"psysml:d9048fa2-8c0d-4237-aabb-192a68938198\" xlink:type=\"simple\"><rect fill=\"#FFFFFF\" height=\"88.3516\" id=\"E6\" style=\"stroke: #383838; stroke-width: 1.5;\" width=\"110\" x=\"264\" y=\"41\"/><text fill=\"#000000\" font-family=\"sans-serif\" font-size=\"12\" font-style=\"italic\" lengthAdjust=\"spacingAndGlyphs\" textLength=\"108\" x=\"265\" y=\"57.1387\">«connection def»</text><text fill=\"#000000\" font-family=\"sans-serif\" font-size=\"12\" lengthAdjust=\"spacingAndGlyphs\" textLength=\"8\" x=\"315\" y=\"71.1074\">A</text><line style=\"stroke: #383838; stroke-width: 1.5;\" x1=\"265\" x2=\"373\" y1=\"78.9375\" y2=\"78.9375\"/><text fill=\"#000000\" font-family=\"sans-serif\" font-size=\"11\" lengthAdjust=\"spacingAndGlyphs\" textLength=\"29\" x=\"270\" y=\"109.9526\">p1: P</text><text fill=\"#000000\" font-family=\"sans-serif\" font-size=\"11\" lengthAdjust=\"spacingAndGlyphs\" textLength=\"38\" x=\"270\" y=\"122.7573\">p2: ~P</text><line style=\"stroke: #383838; stroke-width: 1.0;\" x1=\"265\" x2=\"304\" y1=\"93.3398\" y2=\"93.3398\"/><text fill=\"#000000\" font-family=\"sans-serif\" font-size=\"11\" lengthAdjust=\"spacingAndGlyphs\" textLength=\"30\" x=\"304\" y=\"96.6479\">ports</text><line style=\"stroke: #383838; stroke-width: 1.0;\" x1=\"334\" x2=\"373\" y1=\"93.3398\" y2=\"93.3398\"/></a><!--MD5=[fd4143e9d270a159db93a4ea2a975926]\n",
       "class E9--><a href=\"psysml:b68d4e65-0a25-4b32-9474-7d6b33189e06\" target=\"_top\" title=\"psysml:b68d4e65-0a25-4b32-9474-7d6b33189e06\" xlink:actuate=\"onRequest\" xlink:href=\"psysml:b68d4e65-0a25-4b32-9474-7d6b33189e06\" xlink:show=\"new\" xlink:title=\"psysml:b68d4e65-0a25-4b32-9474-7d6b33189e06\" xlink:type=\"simple\"><rect fill=\"#FFFFFF\" height=\"88.3516\" id=\"E9\" style=\"stroke: #383838; stroke-width: 1.5;\" width=\"96\" x=\"133\" y=\"41\"/><text fill=\"#000000\" font-family=\"sans-serif\" font-size=\"12\" font-style=\"italic\" lengthAdjust=\"spacingAndGlyphs\" textLength=\"94\" x=\"134\" y=\"57.1387\">«interface def»</text><text fill=\"#000000\" font-family=\"sans-serif\" font-size=\"12\" lengthAdjust=\"spacingAndGlyphs\" textLength=\"3\" x=\"179.5\" y=\"71.1074\">I</text><line style=\"stroke: #383838; stroke-width: 1.5;\" x1=\"134\" x2=\"228\" y1=\"78.9375\" y2=\"78.9375\"/><text fill=\"#000000\" font-family=\"sans-serif\" font-size=\"11\" lengthAdjust=\"spacingAndGlyphs\" textLength=\"29\" x=\"139\" y=\"109.9526\">p1: P</text><text fill=\"#000000\" font-family=\"sans-serif\" font-size=\"11\" lengthAdjust=\"spacingAndGlyphs\" textLength=\"38\" x=\"139\" y=\"122.7573\">p2: ~P</text><line style=\"stroke: #383838; stroke-width: 1.0;\" x1=\"134\" x2=\"166\" y1=\"93.3398\" y2=\"93.3398\"/><text fill=\"#000000\" font-family=\"sans-serif\" font-size=\"11\" lengthAdjust=\"spacingAndGlyphs\" textLength=\"30\" x=\"166\" y=\"96.6479\">ports</text><line style=\"stroke: #383838; stroke-width: 1.0;\" x1=\"196\" x2=\"228\" y1=\"93.3398\" y2=\"93.3398\"/></a><!--MD5=[49a0ec8f00dab7302a31f22d0f0fe584]\n",
       "class E12--><a href=\"psysml:4bc8843d-d10d-4f46-93fe-21c75269e8aa\" target=\"_top\" title=\"psysml:4bc8843d-d10d-4f46-93fe-21c75269e8aa\" xlink:actuate=\"onRequest\" xlink:href=\"psysml:4bc8843d-d10d-4f46-93fe-21c75269e8aa\" xlink:show=\"new\" xlink:title=\"psysml:4bc8843d-d10d-4f46-93fe-21c75269e8aa\" xlink:type=\"simple\"><rect fill=\"#FFFFFF\" height=\"45.9375\" id=\"E12\" style=\"stroke: #383838; stroke-width: 1.5;\" width=\"66\" x=\"32\" y=\"62\"/><text fill=\"#000000\" font-family=\"sans-serif\" font-size=\"12\" font-style=\"italic\" lengthAdjust=\"spacingAndGlyphs\" textLength=\"64\" x=\"33\" y=\"78.1387\">«part def»</text><text fill=\"#000000\" font-family=\"sans-serif\" font-size=\"12\" lengthAdjust=\"spacingAndGlyphs\" textLength=\"16\" x=\"57\" y=\"92.1074\">B1</text><line style=\"stroke: #383838; stroke-width: 1.5;\" x1=\"33\" x2=\"97\" y1=\"99.9375\" y2=\"99.9375\"/></a><!--MD5=[ee3c913d1a06f366521f9ef512b67efe]\n",
       "class E13--><a href=\"psysml:37b5f10a-21e5-48b2-b2b2-bc5c291ce903\" target=\"_top\" title=\"psysml:37b5f10a-21e5-48b2-b2b2-bc5c291ce903\" xlink:actuate=\"onRequest\" xlink:href=\"psysml:37b5f10a-21e5-48b2-b2b2-bc5c291ce903\" xlink:show=\"new\" xlink:title=\"psysml:37b5f10a-21e5-48b2-b2b2-bc5c291ce903\" xlink:type=\"simple\"><rect fill=\"#FFFFFF\" height=\"88.3516\" id=\"E13\" rx=\"10\" ry=\"10\" style=\"stroke: #383838; stroke-width: 1.5;\" width=\"50\" x=\"40\" y=\"189\"/><text fill=\"#000000\" font-family=\"sans-serif\" font-size=\"12\" font-style=\"italic\" lengthAdjust=\"spacingAndGlyphs\" textLength=\"40\" x=\"45\" y=\"205.1387\">«part»</text><text fill=\"#000000\" font-family=\"sans-serif\" font-size=\"12\" lengthAdjust=\"spacingAndGlyphs\" textLength=\"8\" x=\"61\" y=\"219.1074\">p</text><line style=\"stroke: #383838; stroke-width: 1.5;\" x1=\"41\" x2=\"89\" y1=\"226.9375\" y2=\"226.9375\"/><text fill=\"#000000\" font-family=\"sans-serif\" font-size=\"11\" lengthAdjust=\"spacingAndGlyphs\" textLength=\"29\" x=\"46\" y=\"257.9526\">p1: P</text><text fill=\"#000000\" font-family=\"sans-serif\" font-size=\"11\" lengthAdjust=\"spacingAndGlyphs\" textLength=\"38\" x=\"46\" y=\"270.7573\">p2: ~P</text><line style=\"stroke: #383838; stroke-width: 1.0;\" x1=\"41\" x2=\"50\" y1=\"241.3398\" y2=\"241.3398\"/><text fill=\"#000000\" font-family=\"sans-serif\" font-size=\"11\" lengthAdjust=\"spacingAndGlyphs\" textLength=\"30\" x=\"50\" y=\"244.6479\">ports</text><line style=\"stroke: #383838; stroke-width: 1.0;\" x1=\"80\" x2=\"89\" y1=\"241.3398\" y2=\"241.3398\"/></a><!--MD5=[062ed86c389d1a88f61c6380d0491e17]\n",
       "reverse link E12 to E13--><a href=\"psysml:37b5f10a-21e5-48b2-b2b2-bc5c291ce903\" target=\"_top\" title=\"psysml:37b5f10a-21e5-48b2-b2b2-bc5c291ce903\" xlink:actuate=\"onRequest\" xlink:href=\"psysml:37b5f10a-21e5-48b2-b2b2-bc5c291ce903\" xlink:show=\"new\" xlink:title=\"psysml:37b5f10a-21e5-48b2-b2b2-bc5c291ce903\" xlink:type=\"simple\"><path d=\"M65,121.25 C65,141.54 65,167.2 65,188.71 \" fill=\"none\" id=\"E12&lt;-E13\" style=\"stroke: #383838; stroke-width: 1.0;\"/><polygon fill=\"#383838\" points=\"65,108.17,61,114.17,65,120.17,69,114.17,65,108.17\" style=\"stroke: #383838; stroke-width: 1.0;\"/></a><!--MD5=[3d05112817cc5ceb9134d1c6cf000817]\n",
       "@startuml\r\n",
       "skinparam monochrome true\r\n",
       "skinparam classbackgroundcolor white\r\n",
       "skinparam shadowing false\r\n",
       "skinparam wrapWidth 300\r\n",
       "hide circle\r\n",
       "\r\n",
       "package \"ConjugationTest\" as E1  [[psysml:4ba0ad9e-a677-47db-af1d-b015e8f93aef ]]  {\r\n",
       "comp def \"P\" as E2  <<(T,blue)port def>> [[psysml:0d231d17-09c4-40d0-a4bc-6d43713d1eea ]] {\r\n",
       "}\r\n",
       "comp def \"B\" as E3  <<(T,blue)part def>> [[psysml:1fca8384-68db-4c35-8908-d644a05ab33b ]] {\r\n",
       "- - ports - -\r\n",
       "p1: P\r\n",
       "p2: ~P\r\n",
       "}\r\n",
       "comp def \"A\" as E6  <<(T,blue)connection def>> [[psysml:d9048fa2-8c0d-4237-aabb-192a68938198 ]] {\r\n",
       "- - ports - -\r\n",
       "p1: P\r\n",
       "p2: ~P\r\n",
       "}\r\n",
       "comp def \"I\" as E9  <<(T,blue)interface def>> [[psysml:b68d4e65-0a25-4b32-9474-7d6b33189e06 ]] {\r\n",
       "- - ports - -\r\n",
       "p1: P\r\n",
       "p2: ~P\r\n",
       "}\r\n",
       "comp def \"B1\" as E12  <<(T,blue)part def>> [[psysml:4bc8843d-d10d-4f46-93fe-21c75269e8aa ]] {\r\n",
       "}\r\n",
       "comp usage \"p\" as E13  <<(T,blue)part>> [[psysml:37b5f10a-21e5-48b2-b2b2-bc5c291ce903 ]] {\r\n",
       "- - ports - -\r\n",
       "p1: P\r\n",
       "p2: ~P\r\n",
       "}\r\n",
       "E12 *- - E13 [[psysml:37b5f10a-21e5-48b2-b2b2-bc5c291ce903 ]] \r\n",
       "}\r\n",
       "@enduml\r\n",
       "\n",
       "PlantUML version 1.2020.13(Sat Jun 13 12:26:38 UTC 2020)\n",
       "(EPL source distribution)\n",
       "Java Runtime: OpenJDK Runtime Environment\n",
       "JVM: OpenJDK 64-Bit Server VM\n",
       "Default Encoding: UTF-8\n",
       "Language: en\n",
       "Country: null\n",
       "--></g></svg>"
      ]
     },
     "execution_count": 42,
     "metadata": {},
     "output_type": "execute_result"
    }
   ],
   "source": [
    "%viz --style=\"DEFAULT\" --view=\"Sequence\" \"ConjugationTest\""
   ]
  },
  {
   "cell_type": "code",
   "execution_count": 43,
   "id": "surprised-native",
   "metadata": {
    "execution": {
     "iopub.execute_input": "2021-03-24T16:29:21.067571Z",
     "iopub.status.busy": "2021-03-24T16:29:21.067181Z",
     "iopub.status.idle": "2021-03-24T16:29:21.230607Z",
     "shell.execute_reply": "2021-03-24T16:29:21.228539Z"
    }
   },
   "outputs": [
    {
     "data": {
      "image/svg+xml": [
       "<?xml version=\"1.0\" encoding=\"UTF-8\" standalone=\"no\"?><svg xmlns=\"http://www.w3.org/2000/svg\" xmlns:xlink=\"http://www.w3.org/1999/xlink\" contentScriptType=\"application/ecmascript\" contentStyleType=\"text/css\" height=\"305px\" preserveAspectRatio=\"none\" style=\"width:614px;height:305px;\" version=\"1.1\" viewBox=\"0 0 614 305\" width=\"614px\" zoomAndPan=\"magnify\"><defs/><g><!--MD5=[fbc87193dbaf4d95561dea2c320d4a47]\n",
       "cluster E1--><a href=\"psysml:4ba0ad9e-a677-47db-af1d-b015e8f93aef\" target=\"_top\" title=\"psysml:4ba0ad9e-a677-47db-af1d-b015e8f93aef\" xlink:actuate=\"onRequest\" xlink:href=\"psysml:4ba0ad9e-a677-47db-af1d-b015e8f93aef\" xlink:show=\"new\" xlink:title=\"psysml:4ba0ad9e-a677-47db-af1d-b015e8f93aef\" xlink:type=\"simple\"><polygon fill=\"#FFFFFF\" points=\"16,6,151,6,158,28.2969,592,28.2969,592,293,16,293,16,6\" style=\"stroke: #000000; stroke-width: 1.5;\"/><line style=\"stroke: #000000; stroke-width: 1.5;\" x1=\"16\" x2=\"158\" y1=\"28.2969\" y2=\"28.2969\"/><text fill=\"#000000\" font-family=\"sans-serif\" font-size=\"14\" font-weight=\"bold\" lengthAdjust=\"spacingAndGlyphs\" textLength=\"129\" x=\"20\" y=\"20.9951\">ConjugationTest</text></a><!--MD5=[b4997ac47864f28c2f74865a473b2911]\n",
       "class E2--><a href=\"psysml:0d231d17-09c4-40d0-a4bc-6d43713d1eea\" target=\"_top\" title=\"psysml:0d231d17-09c4-40d0-a4bc-6d43713d1eea\" xlink:actuate=\"onRequest\" xlink:href=\"psysml:0d231d17-09c4-40d0-a4bc-6d43713d1eea\" xlink:show=\"new\" xlink:title=\"psysml:0d231d17-09c4-40d0-a4bc-6d43713d1eea\" xlink:type=\"simple\"><rect fill=\"#FFFFFF\" height=\"45.9375\" id=\"E2\" style=\"stroke: #383838; stroke-width: 1.5;\" width=\"66\" x=\"510\" y=\"62\"/><text fill=\"#000000\" font-family=\"sans-serif\" font-size=\"12\" font-style=\"italic\" lengthAdjust=\"spacingAndGlyphs\" textLength=\"64\" x=\"511\" y=\"78.1387\">«port def»</text><text fill=\"#000000\" font-family=\"sans-serif\" font-size=\"12\" lengthAdjust=\"spacingAndGlyphs\" textLength=\"8\" x=\"539\" y=\"92.1074\">P</text><line style=\"stroke: #383838; stroke-width: 1.5;\" x1=\"511\" x2=\"575\" y1=\"99.9375\" y2=\"99.9375\"/></a><!--MD5=[09b614a08d8cba4a07c9adeb5e0fee81]\n",
       "class E3--><a href=\"psysml:1fca8384-68db-4c35-8908-d644a05ab33b\" target=\"_top\" title=\"psysml:1fca8384-68db-4c35-8908-d644a05ab33b\" xlink:actuate=\"onRequest\" xlink:href=\"psysml:1fca8384-68db-4c35-8908-d644a05ab33b\" xlink:show=\"new\" xlink:title=\"psysml:1fca8384-68db-4c35-8908-d644a05ab33b\" xlink:type=\"simple\"><rect fill=\"#FFFFFF\" height=\"88.3516\" id=\"E3\" style=\"stroke: #383838; stroke-width: 1.5;\" width=\"66\" x=\"409\" y=\"41\"/><text fill=\"#000000\" font-family=\"sans-serif\" font-size=\"12\" font-style=\"italic\" lengthAdjust=\"spacingAndGlyphs\" textLength=\"64\" x=\"410\" y=\"57.1387\">«part def»</text><text fill=\"#000000\" font-family=\"sans-serif\" font-size=\"12\" lengthAdjust=\"spacingAndGlyphs\" textLength=\"8\" x=\"438\" y=\"71.1074\">B</text><line style=\"stroke: #383838; stroke-width: 1.5;\" x1=\"410\" x2=\"474\" y1=\"78.9375\" y2=\"78.9375\"/><text fill=\"#000000\" font-family=\"sans-serif\" font-size=\"11\" lengthAdjust=\"spacingAndGlyphs\" textLength=\"29\" x=\"415\" y=\"109.9526\">p1: P</text><text fill=\"#000000\" font-family=\"sans-serif\" font-size=\"11\" lengthAdjust=\"spacingAndGlyphs\" textLength=\"38\" x=\"415\" y=\"122.7573\">p2: ~P</text><line style=\"stroke: #383838; stroke-width: 1.0;\" x1=\"410\" x2=\"427\" y1=\"93.3398\" y2=\"93.3398\"/><text fill=\"#000000\" font-family=\"sans-serif\" font-size=\"11\" lengthAdjust=\"spacingAndGlyphs\" textLength=\"30\" x=\"427\" y=\"96.6479\">ports</text><line style=\"stroke: #383838; stroke-width: 1.0;\" x1=\"457\" x2=\"474\" y1=\"93.3398\" y2=\"93.3398\"/></a><!--MD5=[60a26617385b1d2d0262a64233df1f8d]\n",
       "class E6--><a href=\"psysml:d9048fa2-8c0d-4237-aabb-192a68938198\" target=\"_top\" title=\"psysml:d9048fa2-8c0d-4237-aabb-192a68938198\" xlink:actuate=\"onRequest\" xlink:href=\"psysml:d9048fa2-8c0d-4237-aabb-192a68938198\" xlink:show=\"new\" xlink:title=\"psysml:d9048fa2-8c0d-4237-aabb-192a68938198\" xlink:type=\"simple\"><rect fill=\"#FFFFFF\" height=\"88.3516\" id=\"E6\" style=\"stroke: #383838; stroke-width: 1.5;\" width=\"110\" x=\"264\" y=\"41\"/><text fill=\"#000000\" font-family=\"sans-serif\" font-size=\"12\" font-style=\"italic\" lengthAdjust=\"spacingAndGlyphs\" textLength=\"108\" x=\"265\" y=\"57.1387\">«connection def»</text><text fill=\"#000000\" font-family=\"sans-serif\" font-size=\"12\" lengthAdjust=\"spacingAndGlyphs\" textLength=\"8\" x=\"315\" y=\"71.1074\">A</text><line style=\"stroke: #383838; stroke-width: 1.5;\" x1=\"265\" x2=\"373\" y1=\"78.9375\" y2=\"78.9375\"/><text fill=\"#000000\" font-family=\"sans-serif\" font-size=\"11\" lengthAdjust=\"spacingAndGlyphs\" textLength=\"29\" x=\"270\" y=\"109.9526\">p1: P</text><text fill=\"#000000\" font-family=\"sans-serif\" font-size=\"11\" lengthAdjust=\"spacingAndGlyphs\" textLength=\"38\" x=\"270\" y=\"122.7573\">p2: ~P</text><line style=\"stroke: #383838; stroke-width: 1.0;\" x1=\"265\" x2=\"304\" y1=\"93.3398\" y2=\"93.3398\"/><text fill=\"#000000\" font-family=\"sans-serif\" font-size=\"11\" lengthAdjust=\"spacingAndGlyphs\" textLength=\"30\" x=\"304\" y=\"96.6479\">ports</text><line style=\"stroke: #383838; stroke-width: 1.0;\" x1=\"334\" x2=\"373\" y1=\"93.3398\" y2=\"93.3398\"/></a><!--MD5=[fd4143e9d270a159db93a4ea2a975926]\n",
       "class E9--><a href=\"psysml:b68d4e65-0a25-4b32-9474-7d6b33189e06\" target=\"_top\" title=\"psysml:b68d4e65-0a25-4b32-9474-7d6b33189e06\" xlink:actuate=\"onRequest\" xlink:href=\"psysml:b68d4e65-0a25-4b32-9474-7d6b33189e06\" xlink:show=\"new\" xlink:title=\"psysml:b68d4e65-0a25-4b32-9474-7d6b33189e06\" xlink:type=\"simple\"><rect fill=\"#FFFFFF\" height=\"88.3516\" id=\"E9\" style=\"stroke: #383838; stroke-width: 1.5;\" width=\"96\" x=\"133\" y=\"41\"/><text fill=\"#000000\" font-family=\"sans-serif\" font-size=\"12\" font-style=\"italic\" lengthAdjust=\"spacingAndGlyphs\" textLength=\"94\" x=\"134\" y=\"57.1387\">«interface def»</text><text fill=\"#000000\" font-family=\"sans-serif\" font-size=\"12\" lengthAdjust=\"spacingAndGlyphs\" textLength=\"3\" x=\"179.5\" y=\"71.1074\">I</text><line style=\"stroke: #383838; stroke-width: 1.5;\" x1=\"134\" x2=\"228\" y1=\"78.9375\" y2=\"78.9375\"/><text fill=\"#000000\" font-family=\"sans-serif\" font-size=\"11\" lengthAdjust=\"spacingAndGlyphs\" textLength=\"29\" x=\"139\" y=\"109.9526\">p1: P</text><text fill=\"#000000\" font-family=\"sans-serif\" font-size=\"11\" lengthAdjust=\"spacingAndGlyphs\" textLength=\"38\" x=\"139\" y=\"122.7573\">p2: ~P</text><line style=\"stroke: #383838; stroke-width: 1.0;\" x1=\"134\" x2=\"166\" y1=\"93.3398\" y2=\"93.3398\"/><text fill=\"#000000\" font-family=\"sans-serif\" font-size=\"11\" lengthAdjust=\"spacingAndGlyphs\" textLength=\"30\" x=\"166\" y=\"96.6479\">ports</text><line style=\"stroke: #383838; stroke-width: 1.0;\" x1=\"196\" x2=\"228\" y1=\"93.3398\" y2=\"93.3398\"/></a><!--MD5=[49a0ec8f00dab7302a31f22d0f0fe584]\n",
       "class E12--><a href=\"psysml:4bc8843d-d10d-4f46-93fe-21c75269e8aa\" target=\"_top\" title=\"psysml:4bc8843d-d10d-4f46-93fe-21c75269e8aa\" xlink:actuate=\"onRequest\" xlink:href=\"psysml:4bc8843d-d10d-4f46-93fe-21c75269e8aa\" xlink:show=\"new\" xlink:title=\"psysml:4bc8843d-d10d-4f46-93fe-21c75269e8aa\" xlink:type=\"simple\"><rect fill=\"#FFFFFF\" height=\"45.9375\" id=\"E12\" style=\"stroke: #383838; stroke-width: 1.5;\" width=\"66\" x=\"32\" y=\"62\"/><text fill=\"#000000\" font-family=\"sans-serif\" font-size=\"12\" font-style=\"italic\" lengthAdjust=\"spacingAndGlyphs\" textLength=\"64\" x=\"33\" y=\"78.1387\">«part def»</text><text fill=\"#000000\" font-family=\"sans-serif\" font-size=\"12\" lengthAdjust=\"spacingAndGlyphs\" textLength=\"16\" x=\"57\" y=\"92.1074\">B1</text><line style=\"stroke: #383838; stroke-width: 1.5;\" x1=\"33\" x2=\"97\" y1=\"99.9375\" y2=\"99.9375\"/></a><!--MD5=[ee3c913d1a06f366521f9ef512b67efe]\n",
       "class E13--><a href=\"psysml:37b5f10a-21e5-48b2-b2b2-bc5c291ce903\" target=\"_top\" title=\"psysml:37b5f10a-21e5-48b2-b2b2-bc5c291ce903\" xlink:actuate=\"onRequest\" xlink:href=\"psysml:37b5f10a-21e5-48b2-b2b2-bc5c291ce903\" xlink:show=\"new\" xlink:title=\"psysml:37b5f10a-21e5-48b2-b2b2-bc5c291ce903\" xlink:type=\"simple\"><rect fill=\"#FFFFFF\" height=\"88.3516\" id=\"E13\" rx=\"10\" ry=\"10\" style=\"stroke: #383838; stroke-width: 1.5;\" width=\"50\" x=\"40\" y=\"189\"/><text fill=\"#000000\" font-family=\"sans-serif\" font-size=\"12\" font-style=\"italic\" lengthAdjust=\"spacingAndGlyphs\" textLength=\"40\" x=\"45\" y=\"205.1387\">«part»</text><text fill=\"#000000\" font-family=\"sans-serif\" font-size=\"12\" lengthAdjust=\"spacingAndGlyphs\" textLength=\"8\" x=\"61\" y=\"219.1074\">p</text><line style=\"stroke: #383838; stroke-width: 1.5;\" x1=\"41\" x2=\"89\" y1=\"226.9375\" y2=\"226.9375\"/><text fill=\"#000000\" font-family=\"sans-serif\" font-size=\"11\" lengthAdjust=\"spacingAndGlyphs\" textLength=\"29\" x=\"46\" y=\"257.9526\">p1: P</text><text fill=\"#000000\" font-family=\"sans-serif\" font-size=\"11\" lengthAdjust=\"spacingAndGlyphs\" textLength=\"38\" x=\"46\" y=\"270.7573\">p2: ~P</text><line style=\"stroke: #383838; stroke-width: 1.0;\" x1=\"41\" x2=\"50\" y1=\"241.3398\" y2=\"241.3398\"/><text fill=\"#000000\" font-family=\"sans-serif\" font-size=\"11\" lengthAdjust=\"spacingAndGlyphs\" textLength=\"30\" x=\"50\" y=\"244.6479\">ports</text><line style=\"stroke: #383838; stroke-width: 1.0;\" x1=\"80\" x2=\"89\" y1=\"241.3398\" y2=\"241.3398\"/></a><!--MD5=[062ed86c389d1a88f61c6380d0491e17]\n",
       "reverse link E12 to E13--><a href=\"psysml:37b5f10a-21e5-48b2-b2b2-bc5c291ce903\" target=\"_top\" title=\"psysml:37b5f10a-21e5-48b2-b2b2-bc5c291ce903\" xlink:actuate=\"onRequest\" xlink:href=\"psysml:37b5f10a-21e5-48b2-b2b2-bc5c291ce903\" xlink:show=\"new\" xlink:title=\"psysml:37b5f10a-21e5-48b2-b2b2-bc5c291ce903\" xlink:type=\"simple\"><path d=\"M65,121.25 C65,141.54 65,167.2 65,188.71 \" fill=\"none\" id=\"E12&lt;-E13\" style=\"stroke: #383838; stroke-width: 1.0;\"/><polygon fill=\"#383838\" points=\"65,108.17,61,114.17,65,120.17,69,114.17,65,108.17\" style=\"stroke: #383838; stroke-width: 1.0;\"/></a><!--MD5=[3d05112817cc5ceb9134d1c6cf000817]\n",
       "@startuml\r\n",
       "skinparam monochrome true\r\n",
       "skinparam classbackgroundcolor white\r\n",
       "skinparam shadowing false\r\n",
       "skinparam wrapWidth 300\r\n",
       "hide circle\r\n",
       "\r\n",
       "package \"ConjugationTest\" as E1  [[psysml:4ba0ad9e-a677-47db-af1d-b015e8f93aef ]]  {\r\n",
       "comp def \"P\" as E2  <<(T,blue)port def>> [[psysml:0d231d17-09c4-40d0-a4bc-6d43713d1eea ]] {\r\n",
       "}\r\n",
       "comp def \"B\" as E3  <<(T,blue)part def>> [[psysml:1fca8384-68db-4c35-8908-d644a05ab33b ]] {\r\n",
       "- - ports - -\r\n",
       "p1: P\r\n",
       "p2: ~P\r\n",
       "}\r\n",
       "comp def \"A\" as E6  <<(T,blue)connection def>> [[psysml:d9048fa2-8c0d-4237-aabb-192a68938198 ]] {\r\n",
       "- - ports - -\r\n",
       "p1: P\r\n",
       "p2: ~P\r\n",
       "}\r\n",
       "comp def \"I\" as E9  <<(T,blue)interface def>> [[psysml:b68d4e65-0a25-4b32-9474-7d6b33189e06 ]] {\r\n",
       "- - ports - -\r\n",
       "p1: P\r\n",
       "p2: ~P\r\n",
       "}\r\n",
       "comp def \"B1\" as E12  <<(T,blue)part def>> [[psysml:4bc8843d-d10d-4f46-93fe-21c75269e8aa ]] {\r\n",
       "}\r\n",
       "comp usage \"p\" as E13  <<(T,blue)part>> [[psysml:37b5f10a-21e5-48b2-b2b2-bc5c291ce903 ]] {\r\n",
       "- - ports - -\r\n",
       "p1: P\r\n",
       "p2: ~P\r\n",
       "}\r\n",
       "E12 *- - E13 [[psysml:37b5f10a-21e5-48b2-b2b2-bc5c291ce903 ]] \r\n",
       "}\r\n",
       "@enduml\r\n",
       "\n",
       "PlantUML version 1.2020.13(Sat Jun 13 12:26:38 UTC 2020)\n",
       "(EPL source distribution)\n",
       "Java Runtime: OpenJDK Runtime Environment\n",
       "JVM: OpenJDK 64-Bit Server VM\n",
       "Default Encoding: UTF-8\n",
       "Language: en\n",
       "Country: null\n",
       "--></g></svg>"
      ]
     },
     "execution_count": 43,
     "metadata": {},
     "output_type": "execute_result"
    }
   ],
   "source": [
    "%viz --style=\"DEFAULT\" --view=\"MIXED\" \"ConjugationTest\""
   ]
  },
  {
   "cell_type": "code",
   "execution_count": 44,
   "id": "adaptive-pricing",
   "metadata": {
    "execution": {
     "iopub.execute_input": "2021-03-24T16:29:21.280761Z",
     "iopub.status.busy": "2021-03-24T16:29:21.280004Z",
     "iopub.status.idle": "2021-03-24T16:29:21.369630Z",
     "shell.execute_reply": "2021-03-24T16:29:21.368260Z"
    }
   },
   "outputs": [
    {
     "data": {
      "image/svg+xml": [
       "<?xml version=\"1.0\" encoding=\"UTF-8\" standalone=\"no\"?><svg xmlns=\"http://www.w3.org/2000/svg\" xmlns:xlink=\"http://www.w3.org/1999/xlink\" contentScriptType=\"application/ecmascript\" contentStyleType=\"text/css\" height=\"305px\" preserveAspectRatio=\"none\" style=\"width:614px;height:305px;\" version=\"1.1\" viewBox=\"0 0 614 305\" width=\"614px\" zoomAndPan=\"magnify\"><defs/><g><!--MD5=[fbc87193dbaf4d95561dea2c320d4a47]\n",
       "cluster E1--><a href=\"psysml:4ba0ad9e-a677-47db-af1d-b015e8f93aef\" target=\"_top\" title=\"psysml:4ba0ad9e-a677-47db-af1d-b015e8f93aef\" xlink:actuate=\"onRequest\" xlink:href=\"psysml:4ba0ad9e-a677-47db-af1d-b015e8f93aef\" xlink:show=\"new\" xlink:title=\"psysml:4ba0ad9e-a677-47db-af1d-b015e8f93aef\" xlink:type=\"simple\"><polygon fill=\"#FFFFFF\" points=\"16,6,151,6,158,28.2969,592,28.2969,592,293,16,293,16,6\" style=\"stroke: #000000; stroke-width: 1.5;\"/><line style=\"stroke: #000000; stroke-width: 1.5;\" x1=\"16\" x2=\"158\" y1=\"28.2969\" y2=\"28.2969\"/><text fill=\"#000000\" font-family=\"sans-serif\" font-size=\"14\" font-weight=\"bold\" lengthAdjust=\"spacingAndGlyphs\" textLength=\"129\" x=\"20\" y=\"20.9951\">ConjugationTest</text></a><!--MD5=[b4997ac47864f28c2f74865a473b2911]\n",
       "class E2--><a href=\"psysml:0d231d17-09c4-40d0-a4bc-6d43713d1eea\" target=\"_top\" title=\"psysml:0d231d17-09c4-40d0-a4bc-6d43713d1eea\" xlink:actuate=\"onRequest\" xlink:href=\"psysml:0d231d17-09c4-40d0-a4bc-6d43713d1eea\" xlink:show=\"new\" xlink:title=\"psysml:0d231d17-09c4-40d0-a4bc-6d43713d1eea\" xlink:type=\"simple\"><rect fill=\"#FFFFFF\" height=\"45.9375\" id=\"E2\" style=\"stroke: #383838; stroke-width: 1.5;\" width=\"66\" x=\"510\" y=\"62\"/><text fill=\"#000000\" font-family=\"sans-serif\" font-size=\"12\" font-style=\"italic\" lengthAdjust=\"spacingAndGlyphs\" textLength=\"64\" x=\"511\" y=\"78.1387\">«port def»</text><text fill=\"#000000\" font-family=\"sans-serif\" font-size=\"12\" lengthAdjust=\"spacingAndGlyphs\" textLength=\"8\" x=\"539\" y=\"92.1074\">P</text><line style=\"stroke: #383838; stroke-width: 1.5;\" x1=\"511\" x2=\"575\" y1=\"99.9375\" y2=\"99.9375\"/></a><!--MD5=[09b614a08d8cba4a07c9adeb5e0fee81]\n",
       "class E3--><a href=\"psysml:1fca8384-68db-4c35-8908-d644a05ab33b\" target=\"_top\" title=\"psysml:1fca8384-68db-4c35-8908-d644a05ab33b\" xlink:actuate=\"onRequest\" xlink:href=\"psysml:1fca8384-68db-4c35-8908-d644a05ab33b\" xlink:show=\"new\" xlink:title=\"psysml:1fca8384-68db-4c35-8908-d644a05ab33b\" xlink:type=\"simple\"><rect fill=\"#FFFFFF\" height=\"88.3516\" id=\"E3\" style=\"stroke: #383838; stroke-width: 1.5;\" width=\"66\" x=\"409\" y=\"41\"/><text fill=\"#000000\" font-family=\"sans-serif\" font-size=\"12\" font-style=\"italic\" lengthAdjust=\"spacingAndGlyphs\" textLength=\"64\" x=\"410\" y=\"57.1387\">«part def»</text><text fill=\"#000000\" font-family=\"sans-serif\" font-size=\"12\" lengthAdjust=\"spacingAndGlyphs\" textLength=\"8\" x=\"438\" y=\"71.1074\">B</text><line style=\"stroke: #383838; stroke-width: 1.5;\" x1=\"410\" x2=\"474\" y1=\"78.9375\" y2=\"78.9375\"/><text fill=\"#000000\" font-family=\"sans-serif\" font-size=\"11\" lengthAdjust=\"spacingAndGlyphs\" textLength=\"29\" x=\"415\" y=\"109.9526\">p1: P</text><text fill=\"#000000\" font-family=\"sans-serif\" font-size=\"11\" lengthAdjust=\"spacingAndGlyphs\" textLength=\"38\" x=\"415\" y=\"122.7573\">p2: ~P</text><line style=\"stroke: #383838; stroke-width: 1.0;\" x1=\"410\" x2=\"427\" y1=\"93.3398\" y2=\"93.3398\"/><text fill=\"#000000\" font-family=\"sans-serif\" font-size=\"11\" lengthAdjust=\"spacingAndGlyphs\" textLength=\"30\" x=\"427\" y=\"96.6479\">ports</text><line style=\"stroke: #383838; stroke-width: 1.0;\" x1=\"457\" x2=\"474\" y1=\"93.3398\" y2=\"93.3398\"/></a><!--MD5=[60a26617385b1d2d0262a64233df1f8d]\n",
       "class E6--><a href=\"psysml:d9048fa2-8c0d-4237-aabb-192a68938198\" target=\"_top\" title=\"psysml:d9048fa2-8c0d-4237-aabb-192a68938198\" xlink:actuate=\"onRequest\" xlink:href=\"psysml:d9048fa2-8c0d-4237-aabb-192a68938198\" xlink:show=\"new\" xlink:title=\"psysml:d9048fa2-8c0d-4237-aabb-192a68938198\" xlink:type=\"simple\"><rect fill=\"#FFFFFF\" height=\"88.3516\" id=\"E6\" style=\"stroke: #383838; stroke-width: 1.5;\" width=\"110\" x=\"264\" y=\"41\"/><text fill=\"#000000\" font-family=\"sans-serif\" font-size=\"12\" font-style=\"italic\" lengthAdjust=\"spacingAndGlyphs\" textLength=\"108\" x=\"265\" y=\"57.1387\">«connection def»</text><text fill=\"#000000\" font-family=\"sans-serif\" font-size=\"12\" lengthAdjust=\"spacingAndGlyphs\" textLength=\"8\" x=\"315\" y=\"71.1074\">A</text><line style=\"stroke: #383838; stroke-width: 1.5;\" x1=\"265\" x2=\"373\" y1=\"78.9375\" y2=\"78.9375\"/><text fill=\"#000000\" font-family=\"sans-serif\" font-size=\"11\" lengthAdjust=\"spacingAndGlyphs\" textLength=\"29\" x=\"270\" y=\"109.9526\">p1: P</text><text fill=\"#000000\" font-family=\"sans-serif\" font-size=\"11\" lengthAdjust=\"spacingAndGlyphs\" textLength=\"38\" x=\"270\" y=\"122.7573\">p2: ~P</text><line style=\"stroke: #383838; stroke-width: 1.0;\" x1=\"265\" x2=\"304\" y1=\"93.3398\" y2=\"93.3398\"/><text fill=\"#000000\" font-family=\"sans-serif\" font-size=\"11\" lengthAdjust=\"spacingAndGlyphs\" textLength=\"30\" x=\"304\" y=\"96.6479\">ports</text><line style=\"stroke: #383838; stroke-width: 1.0;\" x1=\"334\" x2=\"373\" y1=\"93.3398\" y2=\"93.3398\"/></a><!--MD5=[fd4143e9d270a159db93a4ea2a975926]\n",
       "class E9--><a href=\"psysml:b68d4e65-0a25-4b32-9474-7d6b33189e06\" target=\"_top\" title=\"psysml:b68d4e65-0a25-4b32-9474-7d6b33189e06\" xlink:actuate=\"onRequest\" xlink:href=\"psysml:b68d4e65-0a25-4b32-9474-7d6b33189e06\" xlink:show=\"new\" xlink:title=\"psysml:b68d4e65-0a25-4b32-9474-7d6b33189e06\" xlink:type=\"simple\"><rect fill=\"#FFFFFF\" height=\"88.3516\" id=\"E9\" style=\"stroke: #383838; stroke-width: 1.5;\" width=\"96\" x=\"133\" y=\"41\"/><text fill=\"#000000\" font-family=\"sans-serif\" font-size=\"12\" font-style=\"italic\" lengthAdjust=\"spacingAndGlyphs\" textLength=\"94\" x=\"134\" y=\"57.1387\">«interface def»</text><text fill=\"#000000\" font-family=\"sans-serif\" font-size=\"12\" lengthAdjust=\"spacingAndGlyphs\" textLength=\"3\" x=\"179.5\" y=\"71.1074\">I</text><line style=\"stroke: #383838; stroke-width: 1.5;\" x1=\"134\" x2=\"228\" y1=\"78.9375\" y2=\"78.9375\"/><text fill=\"#000000\" font-family=\"sans-serif\" font-size=\"11\" lengthAdjust=\"spacingAndGlyphs\" textLength=\"29\" x=\"139\" y=\"109.9526\">p1: P</text><text fill=\"#000000\" font-family=\"sans-serif\" font-size=\"11\" lengthAdjust=\"spacingAndGlyphs\" textLength=\"38\" x=\"139\" y=\"122.7573\">p2: ~P</text><line style=\"stroke: #383838; stroke-width: 1.0;\" x1=\"134\" x2=\"166\" y1=\"93.3398\" y2=\"93.3398\"/><text fill=\"#000000\" font-family=\"sans-serif\" font-size=\"11\" lengthAdjust=\"spacingAndGlyphs\" textLength=\"30\" x=\"166\" y=\"96.6479\">ports</text><line style=\"stroke: #383838; stroke-width: 1.0;\" x1=\"196\" x2=\"228\" y1=\"93.3398\" y2=\"93.3398\"/></a><!--MD5=[49a0ec8f00dab7302a31f22d0f0fe584]\n",
       "class E12--><a href=\"psysml:4bc8843d-d10d-4f46-93fe-21c75269e8aa\" target=\"_top\" title=\"psysml:4bc8843d-d10d-4f46-93fe-21c75269e8aa\" xlink:actuate=\"onRequest\" xlink:href=\"psysml:4bc8843d-d10d-4f46-93fe-21c75269e8aa\" xlink:show=\"new\" xlink:title=\"psysml:4bc8843d-d10d-4f46-93fe-21c75269e8aa\" xlink:type=\"simple\"><rect fill=\"#FFFFFF\" height=\"45.9375\" id=\"E12\" style=\"stroke: #383838; stroke-width: 1.5;\" width=\"66\" x=\"32\" y=\"62\"/><text fill=\"#000000\" font-family=\"sans-serif\" font-size=\"12\" font-style=\"italic\" lengthAdjust=\"spacingAndGlyphs\" textLength=\"64\" x=\"33\" y=\"78.1387\">«part def»</text><text fill=\"#000000\" font-family=\"sans-serif\" font-size=\"12\" lengthAdjust=\"spacingAndGlyphs\" textLength=\"16\" x=\"57\" y=\"92.1074\">B1</text><line style=\"stroke: #383838; stroke-width: 1.5;\" x1=\"33\" x2=\"97\" y1=\"99.9375\" y2=\"99.9375\"/></a><!--MD5=[ee3c913d1a06f366521f9ef512b67efe]\n",
       "class E13--><a href=\"psysml:37b5f10a-21e5-48b2-b2b2-bc5c291ce903\" target=\"_top\" title=\"psysml:37b5f10a-21e5-48b2-b2b2-bc5c291ce903\" xlink:actuate=\"onRequest\" xlink:href=\"psysml:37b5f10a-21e5-48b2-b2b2-bc5c291ce903\" xlink:show=\"new\" xlink:title=\"psysml:37b5f10a-21e5-48b2-b2b2-bc5c291ce903\" xlink:type=\"simple\"><rect fill=\"#FFFFFF\" height=\"88.3516\" id=\"E13\" rx=\"10\" ry=\"10\" style=\"stroke: #383838; stroke-width: 1.5;\" width=\"50\" x=\"40\" y=\"189\"/><text fill=\"#000000\" font-family=\"sans-serif\" font-size=\"12\" font-style=\"italic\" lengthAdjust=\"spacingAndGlyphs\" textLength=\"40\" x=\"45\" y=\"205.1387\">«part»</text><text fill=\"#000000\" font-family=\"sans-serif\" font-size=\"12\" lengthAdjust=\"spacingAndGlyphs\" textLength=\"8\" x=\"61\" y=\"219.1074\">p</text><line style=\"stroke: #383838; stroke-width: 1.5;\" x1=\"41\" x2=\"89\" y1=\"226.9375\" y2=\"226.9375\"/><text fill=\"#000000\" font-family=\"sans-serif\" font-size=\"11\" lengthAdjust=\"spacingAndGlyphs\" textLength=\"29\" x=\"46\" y=\"257.9526\">p1: P</text><text fill=\"#000000\" font-family=\"sans-serif\" font-size=\"11\" lengthAdjust=\"spacingAndGlyphs\" textLength=\"38\" x=\"46\" y=\"270.7573\">p2: ~P</text><line style=\"stroke: #383838; stroke-width: 1.0;\" x1=\"41\" x2=\"50\" y1=\"241.3398\" y2=\"241.3398\"/><text fill=\"#000000\" font-family=\"sans-serif\" font-size=\"11\" lengthAdjust=\"spacingAndGlyphs\" textLength=\"30\" x=\"50\" y=\"244.6479\">ports</text><line style=\"stroke: #383838; stroke-width: 1.0;\" x1=\"80\" x2=\"89\" y1=\"241.3398\" y2=\"241.3398\"/></a><!--MD5=[062ed86c389d1a88f61c6380d0491e17]\n",
       "reverse link E12 to E13--><a href=\"psysml:37b5f10a-21e5-48b2-b2b2-bc5c291ce903\" target=\"_top\" title=\"psysml:37b5f10a-21e5-48b2-b2b2-bc5c291ce903\" xlink:actuate=\"onRequest\" xlink:href=\"psysml:37b5f10a-21e5-48b2-b2b2-bc5c291ce903\" xlink:show=\"new\" xlink:title=\"psysml:37b5f10a-21e5-48b2-b2b2-bc5c291ce903\" xlink:type=\"simple\"><path d=\"M65,121.25 C65,141.54 65,167.2 65,188.71 \" fill=\"none\" id=\"E12&lt;-E13\" style=\"stroke: #383838; stroke-width: 1.0;\"/><polygon fill=\"#383838\" points=\"65,108.17,61,114.17,65,120.17,69,114.17,65,108.17\" style=\"stroke: #383838; stroke-width: 1.0;\"/></a><!--MD5=[54832352ce7f014194625ac8c2bf7405]\n",
       "@startuml\r\n",
       "top to bottom direction\r\n",
       "skinparam monochrome true\r\n",
       "skinparam classbackgroundcolor white\r\n",
       "skinparam shadowing false\r\n",
       "skinparam wrapWidth 300\r\n",
       "hide circle\r\n",
       "\r\n",
       "package \"ConjugationTest\" as E1  [[psysml:4ba0ad9e-a677-47db-af1d-b015e8f93aef ]]  {\r\n",
       "comp def \"P\" as E2  <<(T,blue)port def>> [[psysml:0d231d17-09c4-40d0-a4bc-6d43713d1eea ]] {\r\n",
       "}\r\n",
       "comp def \"B\" as E3  <<(T,blue)part def>> [[psysml:1fca8384-68db-4c35-8908-d644a05ab33b ]] {\r\n",
       "- - ports - -\r\n",
       "p1: P\r\n",
       "p2: ~P\r\n",
       "}\r\n",
       "comp def \"A\" as E6  <<(T,blue)connection def>> [[psysml:d9048fa2-8c0d-4237-aabb-192a68938198 ]] {\r\n",
       "- - ports - -\r\n",
       "p1: P\r\n",
       "p2: ~P\r\n",
       "}\r\n",
       "comp def \"I\" as E9  <<(T,blue)interface def>> [[psysml:b68d4e65-0a25-4b32-9474-7d6b33189e06 ]] {\r\n",
       "- - ports - -\r\n",
       "p1: P\r\n",
       "p2: ~P\r\n",
       "}\r\n",
       "comp def \"B1\" as E12  <<(T,blue)part def>> [[psysml:4bc8843d-d10d-4f46-93fe-21c75269e8aa ]] {\r\n",
       "}\r\n",
       "comp usage \"p\" as E13  <<(T,blue)part>> [[psysml:37b5f10a-21e5-48b2-b2b2-bc5c291ce903 ]] {\r\n",
       "- - ports - -\r\n",
       "p1: P\r\n",
       "p2: ~P\r\n",
       "}\r\n",
       "E12 *- - E13 [[psysml:37b5f10a-21e5-48b2-b2b2-bc5c291ce903 ]] \r\n",
       "}\r\n",
       "@enduml\r\n",
       "\n",
       "PlantUML version 1.2020.13(Sat Jun 13 12:26:38 UTC 2020)\n",
       "(EPL source distribution)\n",
       "Java Runtime: OpenJDK Runtime Environment\n",
       "JVM: OpenJDK 64-Bit Server VM\n",
       "Default Encoding: UTF-8\n",
       "Language: en\n",
       "Country: null\n",
       "--></g></svg>"
      ]
     },
     "execution_count": 44,
     "metadata": {},
     "output_type": "execute_result"
    }
   ],
   "source": [
    "%viz --style=\"TB\" --view=\"Default\" \"ConjugationTest\""
   ]
  },
  {
   "cell_type": "code",
   "execution_count": 45,
   "id": "visible-chair",
   "metadata": {
    "execution": {
     "iopub.execute_input": "2021-03-24T16:29:21.419139Z",
     "iopub.status.busy": "2021-03-24T16:29:21.418763Z",
     "iopub.status.idle": "2021-03-24T16:29:21.496113Z",
     "shell.execute_reply": "2021-03-24T16:29:21.494842Z"
    }
   },
   "outputs": [
    {
     "data": {
      "image/svg+xml": [
       "<?xml version=\"1.0\" encoding=\"UTF-8\" standalone=\"no\"?><svg xmlns=\"http://www.w3.org/2000/svg\" xmlns:xlink=\"http://www.w3.org/1999/xlink\" contentScriptType=\"application/ecmascript\" contentStyleType=\"text/css\" height=\"305px\" preserveAspectRatio=\"none\" style=\"width:614px;height:305px;\" version=\"1.1\" viewBox=\"0 0 614 305\" width=\"614px\" zoomAndPan=\"magnify\"><defs/><g><!--MD5=[fbc87193dbaf4d95561dea2c320d4a47]\n",
       "cluster E1--><a href=\"psysml:4ba0ad9e-a677-47db-af1d-b015e8f93aef\" target=\"_top\" title=\"psysml:4ba0ad9e-a677-47db-af1d-b015e8f93aef\" xlink:actuate=\"onRequest\" xlink:href=\"psysml:4ba0ad9e-a677-47db-af1d-b015e8f93aef\" xlink:show=\"new\" xlink:title=\"psysml:4ba0ad9e-a677-47db-af1d-b015e8f93aef\" xlink:type=\"simple\"><polygon fill=\"#FFFFFF\" points=\"16,6,151,6,158,28.2969,592,28.2969,592,293,16,293,16,6\" style=\"stroke: #000000; stroke-width: 1.5;\"/><line style=\"stroke: #000000; stroke-width: 1.5;\" x1=\"16\" x2=\"158\" y1=\"28.2969\" y2=\"28.2969\"/><text fill=\"#000000\" font-family=\"sans-serif\" font-size=\"14\" font-weight=\"bold\" lengthAdjust=\"spacingAndGlyphs\" textLength=\"129\" x=\"20\" y=\"20.9951\">ConjugationTest</text></a><!--MD5=[b4997ac47864f28c2f74865a473b2911]\n",
       "class E2--><a href=\"psysml:0d231d17-09c4-40d0-a4bc-6d43713d1eea\" target=\"_top\" title=\"psysml:0d231d17-09c4-40d0-a4bc-6d43713d1eea\" xlink:actuate=\"onRequest\" xlink:href=\"psysml:0d231d17-09c4-40d0-a4bc-6d43713d1eea\" xlink:show=\"new\" xlink:title=\"psysml:0d231d17-09c4-40d0-a4bc-6d43713d1eea\" xlink:type=\"simple\"><rect fill=\"#FFFFFF\" height=\"45.9375\" id=\"E2\" style=\"stroke: #383838; stroke-width: 1.5;\" width=\"66\" x=\"510\" y=\"62\"/><text fill=\"#000000\" font-family=\"sans-serif\" font-size=\"12\" font-style=\"italic\" lengthAdjust=\"spacingAndGlyphs\" textLength=\"64\" x=\"511\" y=\"78.1387\">«port def»</text><text fill=\"#000000\" font-family=\"sans-serif\" font-size=\"12\" lengthAdjust=\"spacingAndGlyphs\" textLength=\"8\" x=\"539\" y=\"92.1074\">P</text><line style=\"stroke: #383838; stroke-width: 1.5;\" x1=\"511\" x2=\"575\" y1=\"99.9375\" y2=\"99.9375\"/></a><!--MD5=[09b614a08d8cba4a07c9adeb5e0fee81]\n",
       "class E3--><a href=\"psysml:1fca8384-68db-4c35-8908-d644a05ab33b\" target=\"_top\" title=\"psysml:1fca8384-68db-4c35-8908-d644a05ab33b\" xlink:actuate=\"onRequest\" xlink:href=\"psysml:1fca8384-68db-4c35-8908-d644a05ab33b\" xlink:show=\"new\" xlink:title=\"psysml:1fca8384-68db-4c35-8908-d644a05ab33b\" xlink:type=\"simple\"><rect fill=\"#FFFFFF\" height=\"88.3516\" id=\"E3\" style=\"stroke: #383838; stroke-width: 1.5;\" width=\"66\" x=\"409\" y=\"41\"/><text fill=\"#000000\" font-family=\"sans-serif\" font-size=\"12\" font-style=\"italic\" lengthAdjust=\"spacingAndGlyphs\" textLength=\"64\" x=\"410\" y=\"57.1387\">«part def»</text><text fill=\"#000000\" font-family=\"sans-serif\" font-size=\"12\" lengthAdjust=\"spacingAndGlyphs\" textLength=\"8\" x=\"438\" y=\"71.1074\">B</text><line style=\"stroke: #383838; stroke-width: 1.5;\" x1=\"410\" x2=\"474\" y1=\"78.9375\" y2=\"78.9375\"/><text fill=\"#000000\" font-family=\"sans-serif\" font-size=\"11\" lengthAdjust=\"spacingAndGlyphs\" textLength=\"29\" x=\"415\" y=\"109.9526\">p1: P</text><text fill=\"#000000\" font-family=\"sans-serif\" font-size=\"11\" lengthAdjust=\"spacingAndGlyphs\" textLength=\"38\" x=\"415\" y=\"122.7573\">p2: ~P</text><line style=\"stroke: #383838; stroke-width: 1.0;\" x1=\"410\" x2=\"427\" y1=\"93.3398\" y2=\"93.3398\"/><text fill=\"#000000\" font-family=\"sans-serif\" font-size=\"11\" lengthAdjust=\"spacingAndGlyphs\" textLength=\"30\" x=\"427\" y=\"96.6479\">ports</text><line style=\"stroke: #383838; stroke-width: 1.0;\" x1=\"457\" x2=\"474\" y1=\"93.3398\" y2=\"93.3398\"/></a><!--MD5=[60a26617385b1d2d0262a64233df1f8d]\n",
       "class E6--><a href=\"psysml:d9048fa2-8c0d-4237-aabb-192a68938198\" target=\"_top\" title=\"psysml:d9048fa2-8c0d-4237-aabb-192a68938198\" xlink:actuate=\"onRequest\" xlink:href=\"psysml:d9048fa2-8c0d-4237-aabb-192a68938198\" xlink:show=\"new\" xlink:title=\"psysml:d9048fa2-8c0d-4237-aabb-192a68938198\" xlink:type=\"simple\"><rect fill=\"#FFFFFF\" height=\"88.3516\" id=\"E6\" style=\"stroke: #383838; stroke-width: 1.5;\" width=\"110\" x=\"264\" y=\"41\"/><text fill=\"#000000\" font-family=\"sans-serif\" font-size=\"12\" font-style=\"italic\" lengthAdjust=\"spacingAndGlyphs\" textLength=\"108\" x=\"265\" y=\"57.1387\">«connection def»</text><text fill=\"#000000\" font-family=\"sans-serif\" font-size=\"12\" lengthAdjust=\"spacingAndGlyphs\" textLength=\"8\" x=\"315\" y=\"71.1074\">A</text><line style=\"stroke: #383838; stroke-width: 1.5;\" x1=\"265\" x2=\"373\" y1=\"78.9375\" y2=\"78.9375\"/><text fill=\"#000000\" font-family=\"sans-serif\" font-size=\"11\" lengthAdjust=\"spacingAndGlyphs\" textLength=\"29\" x=\"270\" y=\"109.9526\">p1: P</text><text fill=\"#000000\" font-family=\"sans-serif\" font-size=\"11\" lengthAdjust=\"spacingAndGlyphs\" textLength=\"38\" x=\"270\" y=\"122.7573\">p2: ~P</text><line style=\"stroke: #383838; stroke-width: 1.0;\" x1=\"265\" x2=\"304\" y1=\"93.3398\" y2=\"93.3398\"/><text fill=\"#000000\" font-family=\"sans-serif\" font-size=\"11\" lengthAdjust=\"spacingAndGlyphs\" textLength=\"30\" x=\"304\" y=\"96.6479\">ports</text><line style=\"stroke: #383838; stroke-width: 1.0;\" x1=\"334\" x2=\"373\" y1=\"93.3398\" y2=\"93.3398\"/></a><!--MD5=[fd4143e9d270a159db93a4ea2a975926]\n",
       "class E9--><a href=\"psysml:b68d4e65-0a25-4b32-9474-7d6b33189e06\" target=\"_top\" title=\"psysml:b68d4e65-0a25-4b32-9474-7d6b33189e06\" xlink:actuate=\"onRequest\" xlink:href=\"psysml:b68d4e65-0a25-4b32-9474-7d6b33189e06\" xlink:show=\"new\" xlink:title=\"psysml:b68d4e65-0a25-4b32-9474-7d6b33189e06\" xlink:type=\"simple\"><rect fill=\"#FFFFFF\" height=\"88.3516\" id=\"E9\" style=\"stroke: #383838; stroke-width: 1.5;\" width=\"96\" x=\"133\" y=\"41\"/><text fill=\"#000000\" font-family=\"sans-serif\" font-size=\"12\" font-style=\"italic\" lengthAdjust=\"spacingAndGlyphs\" textLength=\"94\" x=\"134\" y=\"57.1387\">«interface def»</text><text fill=\"#000000\" font-family=\"sans-serif\" font-size=\"12\" lengthAdjust=\"spacingAndGlyphs\" textLength=\"3\" x=\"179.5\" y=\"71.1074\">I</text><line style=\"stroke: #383838; stroke-width: 1.5;\" x1=\"134\" x2=\"228\" y1=\"78.9375\" y2=\"78.9375\"/><text fill=\"#000000\" font-family=\"sans-serif\" font-size=\"11\" lengthAdjust=\"spacingAndGlyphs\" textLength=\"29\" x=\"139\" y=\"109.9526\">p1: P</text><text fill=\"#000000\" font-family=\"sans-serif\" font-size=\"11\" lengthAdjust=\"spacingAndGlyphs\" textLength=\"38\" x=\"139\" y=\"122.7573\">p2: ~P</text><line style=\"stroke: #383838; stroke-width: 1.0;\" x1=\"134\" x2=\"166\" y1=\"93.3398\" y2=\"93.3398\"/><text fill=\"#000000\" font-family=\"sans-serif\" font-size=\"11\" lengthAdjust=\"spacingAndGlyphs\" textLength=\"30\" x=\"166\" y=\"96.6479\">ports</text><line style=\"stroke: #383838; stroke-width: 1.0;\" x1=\"196\" x2=\"228\" y1=\"93.3398\" y2=\"93.3398\"/></a><!--MD5=[49a0ec8f00dab7302a31f22d0f0fe584]\n",
       "class E12--><a href=\"psysml:4bc8843d-d10d-4f46-93fe-21c75269e8aa\" target=\"_top\" title=\"psysml:4bc8843d-d10d-4f46-93fe-21c75269e8aa\" xlink:actuate=\"onRequest\" xlink:href=\"psysml:4bc8843d-d10d-4f46-93fe-21c75269e8aa\" xlink:show=\"new\" xlink:title=\"psysml:4bc8843d-d10d-4f46-93fe-21c75269e8aa\" xlink:type=\"simple\"><rect fill=\"#FFFFFF\" height=\"45.9375\" id=\"E12\" style=\"stroke: #383838; stroke-width: 1.5;\" width=\"66\" x=\"32\" y=\"62\"/><text fill=\"#000000\" font-family=\"sans-serif\" font-size=\"12\" font-style=\"italic\" lengthAdjust=\"spacingAndGlyphs\" textLength=\"64\" x=\"33\" y=\"78.1387\">«part def»</text><text fill=\"#000000\" font-family=\"sans-serif\" font-size=\"12\" lengthAdjust=\"spacingAndGlyphs\" textLength=\"16\" x=\"57\" y=\"92.1074\">B1</text><line style=\"stroke: #383838; stroke-width: 1.5;\" x1=\"33\" x2=\"97\" y1=\"99.9375\" y2=\"99.9375\"/></a><!--MD5=[ee3c913d1a06f366521f9ef512b67efe]\n",
       "class E13--><a href=\"psysml:37b5f10a-21e5-48b2-b2b2-bc5c291ce903\" target=\"_top\" title=\"psysml:37b5f10a-21e5-48b2-b2b2-bc5c291ce903\" xlink:actuate=\"onRequest\" xlink:href=\"psysml:37b5f10a-21e5-48b2-b2b2-bc5c291ce903\" xlink:show=\"new\" xlink:title=\"psysml:37b5f10a-21e5-48b2-b2b2-bc5c291ce903\" xlink:type=\"simple\"><rect fill=\"#FFFFFF\" height=\"88.3516\" id=\"E13\" rx=\"10\" ry=\"10\" style=\"stroke: #383838; stroke-width: 1.5;\" width=\"50\" x=\"40\" y=\"189\"/><text fill=\"#000000\" font-family=\"sans-serif\" font-size=\"12\" font-style=\"italic\" lengthAdjust=\"spacingAndGlyphs\" textLength=\"40\" x=\"45\" y=\"205.1387\">«part»</text><text fill=\"#000000\" font-family=\"sans-serif\" font-size=\"12\" lengthAdjust=\"spacingAndGlyphs\" textLength=\"8\" x=\"61\" y=\"219.1074\">p</text><line style=\"stroke: #383838; stroke-width: 1.5;\" x1=\"41\" x2=\"89\" y1=\"226.9375\" y2=\"226.9375\"/><text fill=\"#000000\" font-family=\"sans-serif\" font-size=\"11\" lengthAdjust=\"spacingAndGlyphs\" textLength=\"29\" x=\"46\" y=\"257.9526\">p1: P</text><text fill=\"#000000\" font-family=\"sans-serif\" font-size=\"11\" lengthAdjust=\"spacingAndGlyphs\" textLength=\"38\" x=\"46\" y=\"270.7573\">p2: ~P</text><line style=\"stroke: #383838; stroke-width: 1.0;\" x1=\"41\" x2=\"50\" y1=\"241.3398\" y2=\"241.3398\"/><text fill=\"#000000\" font-family=\"sans-serif\" font-size=\"11\" lengthAdjust=\"spacingAndGlyphs\" textLength=\"30\" x=\"50\" y=\"244.6479\">ports</text><line style=\"stroke: #383838; stroke-width: 1.0;\" x1=\"80\" x2=\"89\" y1=\"241.3398\" y2=\"241.3398\"/></a><!--MD5=[062ed86c389d1a88f61c6380d0491e17]\n",
       "reverse link E12 to E13--><a href=\"psysml:37b5f10a-21e5-48b2-b2b2-bc5c291ce903\" target=\"_top\" title=\"psysml:37b5f10a-21e5-48b2-b2b2-bc5c291ce903\" xlink:actuate=\"onRequest\" xlink:href=\"psysml:37b5f10a-21e5-48b2-b2b2-bc5c291ce903\" xlink:show=\"new\" xlink:title=\"psysml:37b5f10a-21e5-48b2-b2b2-bc5c291ce903\" xlink:type=\"simple\"><path d=\"M65,121.25 C65,141.54 65,167.2 65,188.71 \" fill=\"none\" id=\"E12&lt;-E13\" style=\"stroke: #383838; stroke-width: 1.0;\"/><polygon fill=\"#383838\" points=\"65,108.17,61,114.17,65,120.17,69,114.17,65,108.17\" style=\"stroke: #383838; stroke-width: 1.0;\"/></a><!--MD5=[54832352ce7f014194625ac8c2bf7405]\n",
       "@startuml\r\n",
       "top to bottom direction\r\n",
       "skinparam monochrome true\r\n",
       "skinparam classbackgroundcolor white\r\n",
       "skinparam shadowing false\r\n",
       "skinparam wrapWidth 300\r\n",
       "hide circle\r\n",
       "\r\n",
       "package \"ConjugationTest\" as E1  [[psysml:4ba0ad9e-a677-47db-af1d-b015e8f93aef ]]  {\r\n",
       "comp def \"P\" as E2  <<(T,blue)port def>> [[psysml:0d231d17-09c4-40d0-a4bc-6d43713d1eea ]] {\r\n",
       "}\r\n",
       "comp def \"B\" as E3  <<(T,blue)part def>> [[psysml:1fca8384-68db-4c35-8908-d644a05ab33b ]] {\r\n",
       "- - ports - -\r\n",
       "p1: P\r\n",
       "p2: ~P\r\n",
       "}\r\n",
       "comp def \"A\" as E6  <<(T,blue)connection def>> [[psysml:d9048fa2-8c0d-4237-aabb-192a68938198 ]] {\r\n",
       "- - ports - -\r\n",
       "p1: P\r\n",
       "p2: ~P\r\n",
       "}\r\n",
       "comp def \"I\" as E9  <<(T,blue)interface def>> [[psysml:b68d4e65-0a25-4b32-9474-7d6b33189e06 ]] {\r\n",
       "- - ports - -\r\n",
       "p1: P\r\n",
       "p2: ~P\r\n",
       "}\r\n",
       "comp def \"B1\" as E12  <<(T,blue)part def>> [[psysml:4bc8843d-d10d-4f46-93fe-21c75269e8aa ]] {\r\n",
       "}\r\n",
       "comp usage \"p\" as E13  <<(T,blue)part>> [[psysml:37b5f10a-21e5-48b2-b2b2-bc5c291ce903 ]] {\r\n",
       "- - ports - -\r\n",
       "p1: P\r\n",
       "p2: ~P\r\n",
       "}\r\n",
       "E12 *- - E13 [[psysml:37b5f10a-21e5-48b2-b2b2-bc5c291ce903 ]] \r\n",
       "}\r\n",
       "@enduml\r\n",
       "\n",
       "PlantUML version 1.2020.13(Sat Jun 13 12:26:38 UTC 2020)\n",
       "(EPL source distribution)\n",
       "Java Runtime: OpenJDK Runtime Environment\n",
       "JVM: OpenJDK 64-Bit Server VM\n",
       "Default Encoding: UTF-8\n",
       "Language: en\n",
       "Country: null\n",
       "--></g></svg>"
      ]
     },
     "execution_count": 45,
     "metadata": {},
     "output_type": "execute_result"
    }
   ],
   "source": [
    "%viz --style=\"TB\" --view=\"Tree\" \"ConjugationTest\""
   ]
  },
  {
   "cell_type": "code",
   "execution_count": 46,
   "id": "informed-external",
   "metadata": {
    "execution": {
     "iopub.execute_input": "2021-03-24T16:29:21.548157Z",
     "iopub.status.busy": "2021-03-24T16:29:21.547360Z",
     "iopub.status.idle": "2021-03-24T16:29:21.553250Z",
     "shell.execute_reply": "2021-03-24T16:29:21.552751Z"
    }
   },
   "outputs": [
    {
     "data": {
      "image/svg+xml": [
       "<?xml version=\"1.0\" encoding=\"UTF-8\" standalone=\"no\"?><svg xmlns=\"http://www.w3.org/2000/svg\" xmlns:xlink=\"http://www.w3.org/1999/xlink\" contentScriptType=\"application/ecmascript\" contentStyleType=\"text/css\" height=\"12px\" preserveAspectRatio=\"none\" style=\"width:12px;height:12px;\" version=\"1.1\" viewBox=\"0 0 12 12\" width=\"12px\" zoomAndPan=\"magnify\"><defs/><g><!--MD5=[f4ee21bc66e489b5061b7c3e9601fdef]\n",
       "@startuml\r\n",
       "top to bottom direction\r\n",
       "skinparam monochrome true\r\n",
       "skinparam classbackgroundcolor white\r\n",
       "skinparam shadowing false\r\n",
       "skinparam wrapWidth 300\r\n",
       "hide circle\r\n",
       "\r\n",
       "@enduml\r\n",
       "\n",
       "PlantUML version 1.2020.13(Sat Jun 13 12:26:38 UTC 2020)\n",
       "(EPL source distribution)\n",
       "Java Runtime: OpenJDK Runtime Environment\n",
       "JVM: OpenJDK 64-Bit Server VM\n",
       "Default Encoding: UTF-8\n",
       "Language: en\n",
       "Country: null\n",
       "--></g></svg>"
      ]
     },
     "execution_count": 46,
     "metadata": {},
     "output_type": "execute_result"
    }
   ],
   "source": [
    "%viz --style=\"TB\" --view=\"State\" \"ConjugationTest\""
   ]
  },
  {
   "cell_type": "code",
   "execution_count": 47,
   "id": "mathematical-crossing",
   "metadata": {
    "execution": {
     "iopub.execute_input": "2021-03-24T16:29:21.605303Z",
     "iopub.status.busy": "2021-03-24T16:29:21.604595Z",
     "iopub.status.idle": "2021-03-24T16:29:21.647050Z",
     "shell.execute_reply": "2021-03-24T16:29:21.645780Z"
    }
   },
   "outputs": [
    {
     "data": {
      "image/svg+xml": [
       "<?xml version=\"1.0\" encoding=\"UTF-8\" standalone=\"no\"?><svg xmlns=\"http://www.w3.org/2000/svg\" xmlns:xlink=\"http://www.w3.org/1999/xlink\" contentScriptType=\"application/ecmascript\" contentStyleType=\"text/css\" height=\"246px\" preserveAspectRatio=\"none\" style=\"width:739px;height:246px;\" version=\"1.1\" viewBox=\"0 0 739 246\" width=\"739px\" zoomAndPan=\"magnify\"><defs/><g><!--MD5=[fbc87193dbaf4d95561dea2c320d4a47]\n",
       "cluster E1--><a href=\"psysml:4ba0ad9e-a677-47db-af1d-b015e8f93aef\" target=\"_top\" title=\"psysml:4ba0ad9e-a677-47db-af1d-b015e8f93aef\" xlink:actuate=\"onRequest\" xlink:href=\"psysml:4ba0ad9e-a677-47db-af1d-b015e8f93aef\" xlink:show=\"new\" xlink:title=\"psysml:4ba0ad9e-a677-47db-af1d-b015e8f93aef\" xlink:type=\"simple\"><polygon fill=\"#FFFFFF\" points=\"16,6,151,6,158,28.2969,717,28.2969,717,234.5,16,234.5,16,6\" style=\"stroke: #000000; stroke-width: 1.5;\"/><line style=\"stroke: #000000; stroke-width: 1.5;\" x1=\"16\" x2=\"158\" y1=\"28.2969\" y2=\"28.2969\"/><text fill=\"#000000\" font-family=\"sans-serif\" font-size=\"14\" font-weight=\"bold\" lengthAdjust=\"spacingAndGlyphs\" textLength=\"129\" x=\"20\" y=\"20.9951\">ConjugationTest</text></a><!--MD5=[d5e69f78d87373223dbae638b30a9c99]\n",
       "cluster E3--><a href=\"psysml:1fca8384-68db-4c35-8908-d644a05ab33b\" target=\"_top\" title=\"psysml:1fca8384-68db-4c35-8908-d644a05ab33b\" xlink:actuate=\"onRequest\" xlink:href=\"psysml:1fca8384-68db-4c35-8908-d644a05ab33b\" xlink:show=\"new\" xlink:title=\"psysml:1fca8384-68db-4c35-8908-d644a05ab33b\" xlink:type=\"simple\"><rect fill=\"#FFFFFF\" height=\"88.5\" id=\"E3\" style=\"stroke: #383838; stroke-width: 1.5;\" width=\"83\" x=\"577\" y=\"114\"/><rect fill=\"#F8F8F8\" height=\"37.9375\" style=\"stroke: #383838; stroke-width: 1.5;\" width=\"83\" x=\"577\" y=\"114\"/><text fill=\"#000000\" font-family=\"sans-serif\" font-size=\"12\" font-style=\"italic\" lengthAdjust=\"spacingAndGlyphs\" textLength=\"64\" x=\"586.5\" y=\"130.1387\">«part def»</text><text fill=\"#000000\" font-family=\"sans-serif\" font-size=\"12\" lengthAdjust=\"spacingAndGlyphs\" textLength=\"8\" x=\"614.5\" y=\"144.1074\">B</text></a><!--MD5=[14e3b0961a2654348d326746436168a1]\n",
       "cluster E6--><a href=\"psysml:d9048fa2-8c0d-4237-aabb-192a68938198\" target=\"_top\" title=\"psysml:d9048fa2-8c0d-4237-aabb-192a68938198\" xlink:actuate=\"onRequest\" xlink:href=\"psysml:d9048fa2-8c0d-4237-aabb-192a68938198\" xlink:show=\"new\" xlink:title=\"psysml:d9048fa2-8c0d-4237-aabb-192a68938198\" xlink:type=\"simple\"><rect fill=\"#FFFFFF\" height=\"88.5\" id=\"E6\" style=\"stroke: #383838; stroke-width: 1.5;\" width=\"150\" x=\"423\" y=\"114\"/><rect fill=\"#F8F8F8\" height=\"37.9375\" style=\"stroke: #383838; stroke-width: 1.5;\" width=\"150\" x=\"423\" y=\"114\"/><text fill=\"#000000\" font-family=\"sans-serif\" font-size=\"12\" font-style=\"italic\" lengthAdjust=\"spacingAndGlyphs\" textLength=\"108\" x=\"444\" y=\"130.1387\">«connection def»</text><text fill=\"#000000\" font-family=\"sans-serif\" font-size=\"12\" lengthAdjust=\"spacingAndGlyphs\" textLength=\"8\" x=\"494\" y=\"144.1074\">A</text></a><!--MD5=[7f149f147074ac12df2cb0a7728a5fb0]\n",
       "cluster E9--><a href=\"psysml:b68d4e65-0a25-4b32-9474-7d6b33189e06\" target=\"_top\" title=\"psysml:b68d4e65-0a25-4b32-9474-7d6b33189e06\" xlink:actuate=\"onRequest\" xlink:href=\"psysml:b68d4e65-0a25-4b32-9474-7d6b33189e06\" xlink:show=\"new\" xlink:title=\"psysml:b68d4e65-0a25-4b32-9474-7d6b33189e06\" xlink:type=\"simple\"><rect fill=\"#FFFFFF\" height=\"88.5\" id=\"E9\" style=\"stroke: #383838; stroke-width: 1.5;\" width=\"141\" x=\"254\" y=\"114\"/><rect fill=\"#F8F8F8\" height=\"37.9375\" style=\"stroke: #383838; stroke-width: 1.5;\" width=\"141\" x=\"254\" y=\"114\"/><text fill=\"#000000\" font-family=\"sans-serif\" font-size=\"12\" font-style=\"italic\" lengthAdjust=\"spacingAndGlyphs\" textLength=\"94\" x=\"277.5\" y=\"130.1387\">«interface def»</text><text fill=\"#000000\" font-family=\"sans-serif\" font-size=\"12\" lengthAdjust=\"spacingAndGlyphs\" textLength=\"3\" x=\"323\" y=\"144.1074\">I</text></a><!--MD5=[47bea60c1a0ac6c1143df232041969c0]\n",
       "cluster E12--><a href=\"psysml:4bc8843d-d10d-4f46-93fe-21c75269e8aa\" target=\"_top\" title=\"psysml:4bc8843d-d10d-4f46-93fe-21c75269e8aa\" xlink:actuate=\"onRequest\" xlink:href=\"psysml:4bc8843d-d10d-4f46-93fe-21c75269e8aa\" xlink:show=\"new\" xlink:title=\"psysml:4bc8843d-d10d-4f46-93fe-21c75269e8aa\" xlink:type=\"simple\"><rect fill=\"#FFFFFF\" height=\"161.5\" id=\"E12\" style=\"stroke: #383838; stroke-width: 1.5;\" width=\"107\" x=\"120\" y=\"49\"/><rect fill=\"#F8F8F8\" height=\"37.9375\" style=\"stroke: #383838; stroke-width: 1.5;\" width=\"107\" x=\"120\" y=\"49\"/><text fill=\"#000000\" font-family=\"sans-serif\" font-size=\"12\" font-style=\"italic\" lengthAdjust=\"spacingAndGlyphs\" textLength=\"64\" x=\"141.5\" y=\"65.1387\">«part def»</text><text fill=\"#000000\" font-family=\"sans-serif\" font-size=\"12\" lengthAdjust=\"spacingAndGlyphs\" textLength=\"16\" x=\"165.5\" y=\"79.1074\">B1</text></a><!--MD5=[03104f77b71e2d8d3500c651e6e31181]\n",
       "cluster E13--><a href=\"psysml:37b5f10a-21e5-48b2-b2b2-bc5c291ce903\" target=\"_top\" title=\"psysml:37b5f10a-21e5-48b2-b2b2-bc5c291ce903\" xlink:actuate=\"onRequest\" xlink:href=\"psysml:37b5f10a-21e5-48b2-b2b2-bc5c291ce903\" xlink:show=\"new\" xlink:title=\"psysml:37b5f10a-21e5-48b2-b2b2-bc5c291ce903\" xlink:type=\"simple\"><rect fill=\"#FFFFFF\" height=\"80.5\" id=\"E13\" rx=\"10\" ry=\"10\" style=\"stroke: #383838; stroke-width: 1.5;\" width=\"83\" x=\"132\" y=\"114\"/><rect fill=\"#F8F8F8\" height=\"23.9688\" rx=\"10\" ry=\"10\" style=\"stroke: #F8F8F8; stroke-width: 1.5;\" width=\"83\" x=\"132\" y=\"114\"/><rect fill=\"#F8F8F8\" height=\"10\" style=\"stroke: #F8F8F8; stroke-width: 1.5;\" width=\"83\" x=\"132\" y=\"127.9688\"/><rect fill=\"none\" height=\"80.5\" id=\"E13\" rx=\"10\" ry=\"10\" style=\"stroke: #383838; stroke-width: 1.5;\" width=\"83\" x=\"132\" y=\"114\"/><text fill=\"#000000\" font-family=\"sans-serif\" font-size=\"12\" lengthAdjust=\"spacingAndGlyphs\" textLength=\"8\" x=\"169.5\" y=\"130.1387\">p</text><line style=\"stroke: #383838; stroke-width: 1.0;\" x1=\"132\" x2=\"215\" y1=\"137.9688\" y2=\"137.9688\"/></a><g id=\"E1.E2\"><a href=\"psysml:0d231d17-09c4-40d0-a4bc-6d43713d1eea\" target=\"_top\" title=\"psysml:0d231d17-09c4-40d0-a4bc-6d43713d1eea\" xlink:actuate=\"onRequest\" xlink:href=\"psysml:0d231d17-09c4-40d0-a4bc-6d43713d1eea\" xlink:show=\"new\" xlink:title=\"psysml:0d231d17-09c4-40d0-a4bc-6d43713d1eea\" xlink:type=\"simple\"><rect fill=\"#FFFFFF\" height=\"42.9375\" id=\"E2\" style=\"stroke: #383838; stroke-width: 1.5;\" width=\"71\" x=\"32.5\" y=\"92.5\"/><rect fill=\"#F8F8F8\" height=\"37.9375\" style=\"stroke: #383838; stroke-width: 1.5;\" width=\"71\" x=\"32.5\" y=\"92.5\"/><text fill=\"#000000\" font-family=\"sans-serif\" font-size=\"12\" font-style=\"italic\" lengthAdjust=\"spacingAndGlyphs\" textLength=\"64\" x=\"36\" y=\"108.6387\">«port def»</text><text fill=\"#000000\" font-family=\"sans-serif\" font-size=\"12\" lengthAdjust=\"spacingAndGlyphs\" textLength=\"8\" x=\"64\" y=\"122.6074\">P</text></a></g><text fill=\"#000000\" font-family=\"sans-serif\" font-size=\"14\" lengthAdjust=\"spacingAndGlyphs\" textLength=\"36\" x=\"577\" y=\"92.6982\">p1: P</text><rect fill=\"#383838\" height=\"12\" style=\"stroke: #F8F8F8; stroke-width: 1.5;\" width=\"12\" x=\"589\" y=\"108\"/><text fill=\"#000000\" font-family=\"sans-serif\" font-size=\"14\" lengthAdjust=\"spacingAndGlyphs\" textLength=\"48\" x=\"618\" y=\"92.6982\">p2: ~P</text><rect fill=\"#383838\" height=\"12\" style=\"stroke: #F8F8F8; stroke-width: 1.5;\" width=\"12\" x=\"636\" y=\"108\"/><text fill=\"#000000\" font-family=\"sans-serif\" font-size=\"14\" lengthAdjust=\"spacingAndGlyphs\" textLength=\"36\" x=\"423\" y=\"92.6982\">p1: P</text><rect fill=\"#383838\" height=\"12\" style=\"stroke: #F8F8F8; stroke-width: 1.5;\" width=\"12\" x=\"435\" y=\"108\"/><text fill=\"#000000\" font-family=\"sans-serif\" font-size=\"14\" lengthAdjust=\"spacingAndGlyphs\" textLength=\"48\" x=\"464\" y=\"92.6982\">p2: ~P</text><rect fill=\"#383838\" height=\"12\" style=\"stroke: #F8F8F8; stroke-width: 1.5;\" width=\"12\" x=\"482\" y=\"108\"/><text fill=\"#000000\" font-family=\"sans-serif\" font-size=\"14\" lengthAdjust=\"spacingAndGlyphs\" textLength=\"36\" x=\"254\" y=\"92.6982\">p1: P</text><rect fill=\"#383838\" height=\"12\" style=\"stroke: #F8F8F8; stroke-width: 1.5;\" width=\"12\" x=\"266\" y=\"108\"/><text fill=\"#000000\" font-family=\"sans-serif\" font-size=\"14\" lengthAdjust=\"spacingAndGlyphs\" textLength=\"48\" x=\"295\" y=\"92.6982\">p2: ~P</text><rect fill=\"#383838\" height=\"12\" style=\"stroke: #F8F8F8; stroke-width: 1.5;\" width=\"12\" x=\"313\" y=\"108\"/><text fill=\"#000000\" font-family=\"sans-serif\" font-size=\"14\" lengthAdjust=\"spacingAndGlyphs\" textLength=\"36\" x=\"132\" y=\"92.6982\">p1: P</text><rect fill=\"#383838\" height=\"12\" style=\"stroke: #F8F8F8; stroke-width: 1.5;\" width=\"12\" x=\"144\" y=\"108\"/><text fill=\"#000000\" font-family=\"sans-serif\" font-size=\"14\" lengthAdjust=\"spacingAndGlyphs\" textLength=\"48\" x=\"173\" y=\"92.6982\">p2: ~P</text><rect fill=\"#383838\" height=\"12\" style=\"stroke: #F8F8F8; stroke-width: 1.5;\" width=\"12\" x=\"191\" y=\"108\"/><!--MD5=[4ce51ac6fa4cf5202df3859e2718f033]\n",
       "link E15 to E14--><a href=\"psysml:8d97a70f-8cd3-421a-99bb-bcc3f52cef04\" target=\"_top\" title=\"psysml:8d97a70f-8cd3-421a-99bb-bcc3f52cef04\" xlink:actuate=\"onRequest\" xlink:href=\"psysml:8d97a70f-8cd3-421a-99bb-bcc3f52cef04\" xlink:show=\"new\" xlink:title=\"psysml:8d97a70f-8cd3-421a-99bb-bcc3f52cef04\" xlink:type=\"simple\"><path d=\"M190.95,114 C179.38,114 167.81,114 156.24,114 \" fill=\"none\" id=\"E15-E14\" style=\"stroke: #383838; stroke-width: 3.0;\"/></a><!--MD5=[4ce51ac6fa4cf5202df3859e2718f033]\n",
       "link E15 to E14--><a href=\"psysml:4e5d56fb-a30b-410a-93da-f699910e5442\" target=\"_top\" title=\"psysml:4e5d56fb-a30b-410a-93da-f699910e5442\" xlink:actuate=\"onRequest\" xlink:href=\"psysml:4e5d56fb-a30b-410a-93da-f699910e5442\" xlink:show=\"new\" xlink:title=\"psysml:4e5d56fb-a30b-410a-93da-f699910e5442\" xlink:type=\"simple\"><path d=\"M190.95,111.98 C179.38,108.69 167.81,108.67 156.24,111.93 \" fill=\"none\" id=\"E15-E14-1\" style=\"stroke: #383838; stroke-width: 3.0;\"/></a><!--MD5=[579968af685d512c05d6725ecca936af]\n",
       "@startuml\r\n",
       "skinparam ranksep 10\r\n",
       "skinparam rectangle {\r\n",
       " backgroundColor<<block>> LightGreen\r\n",
       "}\r\n",
       "top to bottom direction\r\n",
       "skinparam monochrome true\r\n",
       "skinparam classbackgroundcolor white\r\n",
       "skinparam shadowing false\r\n",
       "skinparam wrapWidth 300\r\n",
       "hide circle\r\n",
       "\r\n",
       "package \"ConjugationTest\" as E1  [[psysml:4ba0ad9e-a677-47db-af1d-b015e8f93aef ]]  {\r\n",
       "def \"P\" as E2  <<(T,blue)port def>> [[psysml:0d231d17-09c4-40d0-a4bc-6d43713d1eea ]] \r\n",
       "rec def \"B\" as E3  <<(T,blue)part def>> [[psysml:1fca8384-68db-4c35-8908-d644a05ab33b ]] {\r\n",
       "portin \"p1: P\" as E4  <<(T,blue)port>> [[psysml:ac9a4e52-d9d9-4ed8-9786-da9347d8a24d ]] \r\n",
       "portin \"p2: ~P\" as E5  <<(T,blue)port>> [[psysml:dd7140d6-57c4-455c-b235-fe627e1ecfff ]] \r\n",
       "}\r\n",
       "rec def \"A\" as E6  <<(T,blue)connection def>> [[psysml:d9048fa2-8c0d-4237-aabb-192a68938198 ]] {\r\n",
       "portin \"p1: P\" as E7  <<(T,blue)port>> [[psysml:135e4066-7c15-417d-820e-373a33adf188 ]] \r\n",
       "portin \"p2: ~P\" as E8  <<(T,blue)port>> [[psysml:242160d8-1eb8-4593-9cf8-95e70ea0b9fa ]] \r\n",
       "}\r\n",
       "rec def \"I\" as E9  <<(T,blue)interface def>> [[psysml:b68d4e65-0a25-4b32-9474-7d6b33189e06 ]] {\r\n",
       "portin \"p1: P\" as E10  <<(T,blue)port>> [[psysml:c610f798-3696-48d0-b489-00c6b6b02c5c ]] \r\n",
       "portin \"p2: ~P\" as E11  <<(T,blue)port>> [[psysml:82b7a088-1726-4de6-92a0-2f3113dfc02a ]] \r\n",
       "}\r\n",
       "rec def \"B1\" as E12  <<(T,blue)part def>> [[psysml:4bc8843d-d10d-4f46-93fe-21c75269e8aa ]] {\r\n",
       "rec usage \"p\" as E13  [[psysml:37b5f10a-21e5-48b2-b2b2-bc5c291ce903 ]] {\r\n",
       "portin \"p1: P\" as E14  <<(T,blue)port>> [[psysml:c9e1cbea-e956-4380-9b02-2ad2a26c5224 ]] \r\n",
       "portin \"p2: ~P\" as E15  <<(T,blue)port>> [[psysml:91fc773b-55a8-419c-8531-23cd35b1b670 ]] \r\n",
       "}\r\n",
       "}\r\n",
       "E15 -[thickness=3]- E14 [[psysml:8d97a70f-8cd3-421a-99bb-bcc3f52cef04 ]] \r\n",
       "E15 -[thickness=3]- E14 [[psysml:4e5d56fb-a30b-410a-93da-f699910e5442 ]] \r\n",
       "}\r\n",
       "@enduml\r\n",
       "\n",
       "PlantUML version 1.2020.13(Sat Jun 13 12:26:38 UTC 2020)\n",
       "(EPL source distribution)\n",
       "Java Runtime: OpenJDK Runtime Environment\n",
       "JVM: OpenJDK 64-Bit Server VM\n",
       "Default Encoding: UTF-8\n",
       "Language: en\n",
       "Country: null\n",
       "--></g></svg>"
      ]
     },
     "execution_count": 47,
     "metadata": {},
     "output_type": "execute_result"
    }
   ],
   "source": [
    "%viz --style=\"TB\" --view=\"Interconnection\" \"ConjugationTest\""
   ]
  },
  {
   "cell_type": "code",
   "execution_count": 48,
   "id": "professional-roman",
   "metadata": {
    "execution": {
     "iopub.execute_input": "2021-03-24T16:29:21.697201Z",
     "iopub.status.busy": "2021-03-24T16:29:21.696812Z",
     "iopub.status.idle": "2021-03-24T16:29:21.701026Z",
     "shell.execute_reply": "2021-03-24T16:29:21.701434Z"
    }
   },
   "outputs": [
    {
     "data": {
      "image/svg+xml": [
       "<?xml version=\"1.0\" encoding=\"UTF-8\" standalone=\"no\"?><svg xmlns=\"http://www.w3.org/2000/svg\" xmlns:xlink=\"http://www.w3.org/1999/xlink\" contentScriptType=\"application/ecmascript\" contentStyleType=\"text/css\" height=\"12px\" preserveAspectRatio=\"none\" style=\"width:12px;height:12px;\" version=\"1.1\" viewBox=\"0 0 12 12\" width=\"12px\" zoomAndPan=\"magnify\"><defs/><g><!--MD5=[06afc254b03ac5e9d9fb7773b07d0800]\n",
       "@startuml\r\n",
       "skinparam ranksep 8\r\n",
       "top to bottom direction\r\n",
       "skinparam monochrome true\r\n",
       "skinparam classbackgroundcolor white\r\n",
       "skinparam shadowing false\r\n",
       "skinparam wrapWidth 300\r\n",
       "hide circle\r\n",
       "\r\n",
       "@enduml\r\n",
       "\n",
       "PlantUML version 1.2020.13(Sat Jun 13 12:26:38 UTC 2020)\n",
       "(EPL source distribution)\n",
       "Java Runtime: OpenJDK Runtime Environment\n",
       "JVM: OpenJDK 64-Bit Server VM\n",
       "Default Encoding: UTF-8\n",
       "Language: en\n",
       "Country: null\n",
       "--></g></svg>"
      ]
     },
     "execution_count": 48,
     "metadata": {},
     "output_type": "execute_result"
    }
   ],
   "source": [
    "%viz --style=\"TB\" --view=\"Action\" \"ConjugationTest\""
   ]
  },
  {
   "cell_type": "code",
   "execution_count": 49,
   "id": "distinguished-router",
   "metadata": {
    "execution": {
     "iopub.execute_input": "2021-03-24T16:29:21.752729Z",
     "iopub.status.busy": "2021-03-24T16:29:21.752051Z",
     "iopub.status.idle": "2021-03-24T16:29:21.830140Z",
     "shell.execute_reply": "2021-03-24T16:29:21.828563Z"
    }
   },
   "outputs": [
    {
     "data": {
      "image/svg+xml": [
       "<?xml version=\"1.0\" encoding=\"UTF-8\" standalone=\"no\"?><svg xmlns=\"http://www.w3.org/2000/svg\" xmlns:xlink=\"http://www.w3.org/1999/xlink\" contentScriptType=\"application/ecmascript\" contentStyleType=\"text/css\" height=\"305px\" preserveAspectRatio=\"none\" style=\"width:614px;height:305px;\" version=\"1.1\" viewBox=\"0 0 614 305\" width=\"614px\" zoomAndPan=\"magnify\"><defs/><g><!--MD5=[fbc87193dbaf4d95561dea2c320d4a47]\n",
       "cluster E1--><a href=\"psysml:4ba0ad9e-a677-47db-af1d-b015e8f93aef\" target=\"_top\" title=\"psysml:4ba0ad9e-a677-47db-af1d-b015e8f93aef\" xlink:actuate=\"onRequest\" xlink:href=\"psysml:4ba0ad9e-a677-47db-af1d-b015e8f93aef\" xlink:show=\"new\" xlink:title=\"psysml:4ba0ad9e-a677-47db-af1d-b015e8f93aef\" xlink:type=\"simple\"><polygon fill=\"#FFFFFF\" points=\"16,6,151,6,158,28.2969,592,28.2969,592,293,16,293,16,6\" style=\"stroke: #000000; stroke-width: 1.5;\"/><line style=\"stroke: #000000; stroke-width: 1.5;\" x1=\"16\" x2=\"158\" y1=\"28.2969\" y2=\"28.2969\"/><text fill=\"#000000\" font-family=\"sans-serif\" font-size=\"14\" font-weight=\"bold\" lengthAdjust=\"spacingAndGlyphs\" textLength=\"129\" x=\"20\" y=\"20.9951\">ConjugationTest</text></a><!--MD5=[b4997ac47864f28c2f74865a473b2911]\n",
       "class E2--><a href=\"psysml:0d231d17-09c4-40d0-a4bc-6d43713d1eea\" target=\"_top\" title=\"psysml:0d231d17-09c4-40d0-a4bc-6d43713d1eea\" xlink:actuate=\"onRequest\" xlink:href=\"psysml:0d231d17-09c4-40d0-a4bc-6d43713d1eea\" xlink:show=\"new\" xlink:title=\"psysml:0d231d17-09c4-40d0-a4bc-6d43713d1eea\" xlink:type=\"simple\"><rect fill=\"#FFFFFF\" height=\"45.9375\" id=\"E2\" style=\"stroke: #383838; stroke-width: 1.5;\" width=\"66\" x=\"510\" y=\"62\"/><text fill=\"#000000\" font-family=\"sans-serif\" font-size=\"12\" font-style=\"italic\" lengthAdjust=\"spacingAndGlyphs\" textLength=\"64\" x=\"511\" y=\"78.1387\">«port def»</text><text fill=\"#000000\" font-family=\"sans-serif\" font-size=\"12\" lengthAdjust=\"spacingAndGlyphs\" textLength=\"8\" x=\"539\" y=\"92.1074\">P</text><line style=\"stroke: #383838; stroke-width: 1.5;\" x1=\"511\" x2=\"575\" y1=\"99.9375\" y2=\"99.9375\"/></a><!--MD5=[09b614a08d8cba4a07c9adeb5e0fee81]\n",
       "class E3--><a href=\"psysml:1fca8384-68db-4c35-8908-d644a05ab33b\" target=\"_top\" title=\"psysml:1fca8384-68db-4c35-8908-d644a05ab33b\" xlink:actuate=\"onRequest\" xlink:href=\"psysml:1fca8384-68db-4c35-8908-d644a05ab33b\" xlink:show=\"new\" xlink:title=\"psysml:1fca8384-68db-4c35-8908-d644a05ab33b\" xlink:type=\"simple\"><rect fill=\"#FFFFFF\" height=\"88.3516\" id=\"E3\" style=\"stroke: #383838; stroke-width: 1.5;\" width=\"66\" x=\"409\" y=\"41\"/><text fill=\"#000000\" font-family=\"sans-serif\" font-size=\"12\" font-style=\"italic\" lengthAdjust=\"spacingAndGlyphs\" textLength=\"64\" x=\"410\" y=\"57.1387\">«part def»</text><text fill=\"#000000\" font-family=\"sans-serif\" font-size=\"12\" lengthAdjust=\"spacingAndGlyphs\" textLength=\"8\" x=\"438\" y=\"71.1074\">B</text><line style=\"stroke: #383838; stroke-width: 1.5;\" x1=\"410\" x2=\"474\" y1=\"78.9375\" y2=\"78.9375\"/><text fill=\"#000000\" font-family=\"sans-serif\" font-size=\"11\" lengthAdjust=\"spacingAndGlyphs\" textLength=\"29\" x=\"415\" y=\"109.9526\">p1: P</text><text fill=\"#000000\" font-family=\"sans-serif\" font-size=\"11\" lengthAdjust=\"spacingAndGlyphs\" textLength=\"38\" x=\"415\" y=\"122.7573\">p2: ~P</text><line style=\"stroke: #383838; stroke-width: 1.0;\" x1=\"410\" x2=\"427\" y1=\"93.3398\" y2=\"93.3398\"/><text fill=\"#000000\" font-family=\"sans-serif\" font-size=\"11\" lengthAdjust=\"spacingAndGlyphs\" textLength=\"30\" x=\"427\" y=\"96.6479\">ports</text><line style=\"stroke: #383838; stroke-width: 1.0;\" x1=\"457\" x2=\"474\" y1=\"93.3398\" y2=\"93.3398\"/></a><!--MD5=[60a26617385b1d2d0262a64233df1f8d]\n",
       "class E6--><a href=\"psysml:d9048fa2-8c0d-4237-aabb-192a68938198\" target=\"_top\" title=\"psysml:d9048fa2-8c0d-4237-aabb-192a68938198\" xlink:actuate=\"onRequest\" xlink:href=\"psysml:d9048fa2-8c0d-4237-aabb-192a68938198\" xlink:show=\"new\" xlink:title=\"psysml:d9048fa2-8c0d-4237-aabb-192a68938198\" xlink:type=\"simple\"><rect fill=\"#FFFFFF\" height=\"88.3516\" id=\"E6\" style=\"stroke: #383838; stroke-width: 1.5;\" width=\"110\" x=\"264\" y=\"41\"/><text fill=\"#000000\" font-family=\"sans-serif\" font-size=\"12\" font-style=\"italic\" lengthAdjust=\"spacingAndGlyphs\" textLength=\"108\" x=\"265\" y=\"57.1387\">«connection def»</text><text fill=\"#000000\" font-family=\"sans-serif\" font-size=\"12\" lengthAdjust=\"spacingAndGlyphs\" textLength=\"8\" x=\"315\" y=\"71.1074\">A</text><line style=\"stroke: #383838; stroke-width: 1.5;\" x1=\"265\" x2=\"373\" y1=\"78.9375\" y2=\"78.9375\"/><text fill=\"#000000\" font-family=\"sans-serif\" font-size=\"11\" lengthAdjust=\"spacingAndGlyphs\" textLength=\"29\" x=\"270\" y=\"109.9526\">p1: P</text><text fill=\"#000000\" font-family=\"sans-serif\" font-size=\"11\" lengthAdjust=\"spacingAndGlyphs\" textLength=\"38\" x=\"270\" y=\"122.7573\">p2: ~P</text><line style=\"stroke: #383838; stroke-width: 1.0;\" x1=\"265\" x2=\"304\" y1=\"93.3398\" y2=\"93.3398\"/><text fill=\"#000000\" font-family=\"sans-serif\" font-size=\"11\" lengthAdjust=\"spacingAndGlyphs\" textLength=\"30\" x=\"304\" y=\"96.6479\">ports</text><line style=\"stroke: #383838; stroke-width: 1.0;\" x1=\"334\" x2=\"373\" y1=\"93.3398\" y2=\"93.3398\"/></a><!--MD5=[fd4143e9d270a159db93a4ea2a975926]\n",
       "class E9--><a href=\"psysml:b68d4e65-0a25-4b32-9474-7d6b33189e06\" target=\"_top\" title=\"psysml:b68d4e65-0a25-4b32-9474-7d6b33189e06\" xlink:actuate=\"onRequest\" xlink:href=\"psysml:b68d4e65-0a25-4b32-9474-7d6b33189e06\" xlink:show=\"new\" xlink:title=\"psysml:b68d4e65-0a25-4b32-9474-7d6b33189e06\" xlink:type=\"simple\"><rect fill=\"#FFFFFF\" height=\"88.3516\" id=\"E9\" style=\"stroke: #383838; stroke-width: 1.5;\" width=\"96\" x=\"133\" y=\"41\"/><text fill=\"#000000\" font-family=\"sans-serif\" font-size=\"12\" font-style=\"italic\" lengthAdjust=\"spacingAndGlyphs\" textLength=\"94\" x=\"134\" y=\"57.1387\">«interface def»</text><text fill=\"#000000\" font-family=\"sans-serif\" font-size=\"12\" lengthAdjust=\"spacingAndGlyphs\" textLength=\"3\" x=\"179.5\" y=\"71.1074\">I</text><line style=\"stroke: #383838; stroke-width: 1.5;\" x1=\"134\" x2=\"228\" y1=\"78.9375\" y2=\"78.9375\"/><text fill=\"#000000\" font-family=\"sans-serif\" font-size=\"11\" lengthAdjust=\"spacingAndGlyphs\" textLength=\"29\" x=\"139\" y=\"109.9526\">p1: P</text><text fill=\"#000000\" font-family=\"sans-serif\" font-size=\"11\" lengthAdjust=\"spacingAndGlyphs\" textLength=\"38\" x=\"139\" y=\"122.7573\">p2: ~P</text><line style=\"stroke: #383838; stroke-width: 1.0;\" x1=\"134\" x2=\"166\" y1=\"93.3398\" y2=\"93.3398\"/><text fill=\"#000000\" font-family=\"sans-serif\" font-size=\"11\" lengthAdjust=\"spacingAndGlyphs\" textLength=\"30\" x=\"166\" y=\"96.6479\">ports</text><line style=\"stroke: #383838; stroke-width: 1.0;\" x1=\"196\" x2=\"228\" y1=\"93.3398\" y2=\"93.3398\"/></a><!--MD5=[49a0ec8f00dab7302a31f22d0f0fe584]\n",
       "class E12--><a href=\"psysml:4bc8843d-d10d-4f46-93fe-21c75269e8aa\" target=\"_top\" title=\"psysml:4bc8843d-d10d-4f46-93fe-21c75269e8aa\" xlink:actuate=\"onRequest\" xlink:href=\"psysml:4bc8843d-d10d-4f46-93fe-21c75269e8aa\" xlink:show=\"new\" xlink:title=\"psysml:4bc8843d-d10d-4f46-93fe-21c75269e8aa\" xlink:type=\"simple\"><rect fill=\"#FFFFFF\" height=\"45.9375\" id=\"E12\" style=\"stroke: #383838; stroke-width: 1.5;\" width=\"66\" x=\"32\" y=\"62\"/><text fill=\"#000000\" font-family=\"sans-serif\" font-size=\"12\" font-style=\"italic\" lengthAdjust=\"spacingAndGlyphs\" textLength=\"64\" x=\"33\" y=\"78.1387\">«part def»</text><text fill=\"#000000\" font-family=\"sans-serif\" font-size=\"12\" lengthAdjust=\"spacingAndGlyphs\" textLength=\"16\" x=\"57\" y=\"92.1074\">B1</text><line style=\"stroke: #383838; stroke-width: 1.5;\" x1=\"33\" x2=\"97\" y1=\"99.9375\" y2=\"99.9375\"/></a><!--MD5=[ee3c913d1a06f366521f9ef512b67efe]\n",
       "class E13--><a href=\"psysml:37b5f10a-21e5-48b2-b2b2-bc5c291ce903\" target=\"_top\" title=\"psysml:37b5f10a-21e5-48b2-b2b2-bc5c291ce903\" xlink:actuate=\"onRequest\" xlink:href=\"psysml:37b5f10a-21e5-48b2-b2b2-bc5c291ce903\" xlink:show=\"new\" xlink:title=\"psysml:37b5f10a-21e5-48b2-b2b2-bc5c291ce903\" xlink:type=\"simple\"><rect fill=\"#FFFFFF\" height=\"88.3516\" id=\"E13\" rx=\"10\" ry=\"10\" style=\"stroke: #383838; stroke-width: 1.5;\" width=\"50\" x=\"40\" y=\"189\"/><text fill=\"#000000\" font-family=\"sans-serif\" font-size=\"12\" font-style=\"italic\" lengthAdjust=\"spacingAndGlyphs\" textLength=\"40\" x=\"45\" y=\"205.1387\">«part»</text><text fill=\"#000000\" font-family=\"sans-serif\" font-size=\"12\" lengthAdjust=\"spacingAndGlyphs\" textLength=\"8\" x=\"61\" y=\"219.1074\">p</text><line style=\"stroke: #383838; stroke-width: 1.5;\" x1=\"41\" x2=\"89\" y1=\"226.9375\" y2=\"226.9375\"/><text fill=\"#000000\" font-family=\"sans-serif\" font-size=\"11\" lengthAdjust=\"spacingAndGlyphs\" textLength=\"29\" x=\"46\" y=\"257.9526\">p1: P</text><text fill=\"#000000\" font-family=\"sans-serif\" font-size=\"11\" lengthAdjust=\"spacingAndGlyphs\" textLength=\"38\" x=\"46\" y=\"270.7573\">p2: ~P</text><line style=\"stroke: #383838; stroke-width: 1.0;\" x1=\"41\" x2=\"50\" y1=\"241.3398\" y2=\"241.3398\"/><text fill=\"#000000\" font-family=\"sans-serif\" font-size=\"11\" lengthAdjust=\"spacingAndGlyphs\" textLength=\"30\" x=\"50\" y=\"244.6479\">ports</text><line style=\"stroke: #383838; stroke-width: 1.0;\" x1=\"80\" x2=\"89\" y1=\"241.3398\" y2=\"241.3398\"/></a><!--MD5=[062ed86c389d1a88f61c6380d0491e17]\n",
       "reverse link E12 to E13--><a href=\"psysml:37b5f10a-21e5-48b2-b2b2-bc5c291ce903\" target=\"_top\" title=\"psysml:37b5f10a-21e5-48b2-b2b2-bc5c291ce903\" xlink:actuate=\"onRequest\" xlink:href=\"psysml:37b5f10a-21e5-48b2-b2b2-bc5c291ce903\" xlink:show=\"new\" xlink:title=\"psysml:37b5f10a-21e5-48b2-b2b2-bc5c291ce903\" xlink:type=\"simple\"><path d=\"M65,121.25 C65,141.54 65,167.2 65,188.71 \" fill=\"none\" id=\"E12&lt;-E13\" style=\"stroke: #383838; stroke-width: 1.0;\"/><polygon fill=\"#383838\" points=\"65,108.17,61,114.17,65,120.17,69,114.17,65,108.17\" style=\"stroke: #383838; stroke-width: 1.0;\"/></a><!--MD5=[54832352ce7f014194625ac8c2bf7405]\n",
       "@startuml\r\n",
       "top to bottom direction\r\n",
       "skinparam monochrome true\r\n",
       "skinparam classbackgroundcolor white\r\n",
       "skinparam shadowing false\r\n",
       "skinparam wrapWidth 300\r\n",
       "hide circle\r\n",
       "\r\n",
       "package \"ConjugationTest\" as E1  [[psysml:4ba0ad9e-a677-47db-af1d-b015e8f93aef ]]  {\r\n",
       "comp def \"P\" as E2  <<(T,blue)port def>> [[psysml:0d231d17-09c4-40d0-a4bc-6d43713d1eea ]] {\r\n",
       "}\r\n",
       "comp def \"B\" as E3  <<(T,blue)part def>> [[psysml:1fca8384-68db-4c35-8908-d644a05ab33b ]] {\r\n",
       "- - ports - -\r\n",
       "p1: P\r\n",
       "p2: ~P\r\n",
       "}\r\n",
       "comp def \"A\" as E6  <<(T,blue)connection def>> [[psysml:d9048fa2-8c0d-4237-aabb-192a68938198 ]] {\r\n",
       "- - ports - -\r\n",
       "p1: P\r\n",
       "p2: ~P\r\n",
       "}\r\n",
       "comp def \"I\" as E9  <<(T,blue)interface def>> [[psysml:b68d4e65-0a25-4b32-9474-7d6b33189e06 ]] {\r\n",
       "- - ports - -\r\n",
       "p1: P\r\n",
       "p2: ~P\r\n",
       "}\r\n",
       "comp def \"B1\" as E12  <<(T,blue)part def>> [[psysml:4bc8843d-d10d-4f46-93fe-21c75269e8aa ]] {\r\n",
       "}\r\n",
       "comp usage \"p\" as E13  <<(T,blue)part>> [[psysml:37b5f10a-21e5-48b2-b2b2-bc5c291ce903 ]] {\r\n",
       "- - ports - -\r\n",
       "p1: P\r\n",
       "p2: ~P\r\n",
       "}\r\n",
       "E12 *- - E13 [[psysml:37b5f10a-21e5-48b2-b2b2-bc5c291ce903 ]] \r\n",
       "}\r\n",
       "@enduml\r\n",
       "\n",
       "PlantUML version 1.2020.13(Sat Jun 13 12:26:38 UTC 2020)\n",
       "(EPL source distribution)\n",
       "Java Runtime: OpenJDK Runtime Environment\n",
       "JVM: OpenJDK 64-Bit Server VM\n",
       "Default Encoding: UTF-8\n",
       "Language: en\n",
       "Country: null\n",
       "--></g></svg>"
      ]
     },
     "execution_count": 49,
     "metadata": {},
     "output_type": "execute_result"
    }
   ],
   "source": [
    "%viz --style=\"TB\" --view=\"Sequence\" \"ConjugationTest\""
   ]
  },
  {
   "cell_type": "code",
   "execution_count": 50,
   "id": "stopped-gateway",
   "metadata": {
    "execution": {
     "iopub.execute_input": "2021-03-24T16:29:21.880150Z",
     "iopub.status.busy": "2021-03-24T16:29:21.879679Z",
     "iopub.status.idle": "2021-03-24T16:29:21.959076Z",
     "shell.execute_reply": "2021-03-24T16:29:21.957751Z"
    }
   },
   "outputs": [
    {
     "data": {
      "image/svg+xml": [
       "<?xml version=\"1.0\" encoding=\"UTF-8\" standalone=\"no\"?><svg xmlns=\"http://www.w3.org/2000/svg\" xmlns:xlink=\"http://www.w3.org/1999/xlink\" contentScriptType=\"application/ecmascript\" contentStyleType=\"text/css\" height=\"305px\" preserveAspectRatio=\"none\" style=\"width:614px;height:305px;\" version=\"1.1\" viewBox=\"0 0 614 305\" width=\"614px\" zoomAndPan=\"magnify\"><defs/><g><!--MD5=[fbc87193dbaf4d95561dea2c320d4a47]\n",
       "cluster E1--><a href=\"psysml:4ba0ad9e-a677-47db-af1d-b015e8f93aef\" target=\"_top\" title=\"psysml:4ba0ad9e-a677-47db-af1d-b015e8f93aef\" xlink:actuate=\"onRequest\" xlink:href=\"psysml:4ba0ad9e-a677-47db-af1d-b015e8f93aef\" xlink:show=\"new\" xlink:title=\"psysml:4ba0ad9e-a677-47db-af1d-b015e8f93aef\" xlink:type=\"simple\"><polygon fill=\"#FFFFFF\" points=\"16,6,151,6,158,28.2969,592,28.2969,592,293,16,293,16,6\" style=\"stroke: #000000; stroke-width: 1.5;\"/><line style=\"stroke: #000000; stroke-width: 1.5;\" x1=\"16\" x2=\"158\" y1=\"28.2969\" y2=\"28.2969\"/><text fill=\"#000000\" font-family=\"sans-serif\" font-size=\"14\" font-weight=\"bold\" lengthAdjust=\"spacingAndGlyphs\" textLength=\"129\" x=\"20\" y=\"20.9951\">ConjugationTest</text></a><!--MD5=[b4997ac47864f28c2f74865a473b2911]\n",
       "class E2--><a href=\"psysml:0d231d17-09c4-40d0-a4bc-6d43713d1eea\" target=\"_top\" title=\"psysml:0d231d17-09c4-40d0-a4bc-6d43713d1eea\" xlink:actuate=\"onRequest\" xlink:href=\"psysml:0d231d17-09c4-40d0-a4bc-6d43713d1eea\" xlink:show=\"new\" xlink:title=\"psysml:0d231d17-09c4-40d0-a4bc-6d43713d1eea\" xlink:type=\"simple\"><rect fill=\"#FFFFFF\" height=\"45.9375\" id=\"E2\" style=\"stroke: #383838; stroke-width: 1.5;\" width=\"66\" x=\"510\" y=\"62\"/><text fill=\"#000000\" font-family=\"sans-serif\" font-size=\"12\" font-style=\"italic\" lengthAdjust=\"spacingAndGlyphs\" textLength=\"64\" x=\"511\" y=\"78.1387\">«port def»</text><text fill=\"#000000\" font-family=\"sans-serif\" font-size=\"12\" lengthAdjust=\"spacingAndGlyphs\" textLength=\"8\" x=\"539\" y=\"92.1074\">P</text><line style=\"stroke: #383838; stroke-width: 1.5;\" x1=\"511\" x2=\"575\" y1=\"99.9375\" y2=\"99.9375\"/></a><!--MD5=[09b614a08d8cba4a07c9adeb5e0fee81]\n",
       "class E3--><a href=\"psysml:1fca8384-68db-4c35-8908-d644a05ab33b\" target=\"_top\" title=\"psysml:1fca8384-68db-4c35-8908-d644a05ab33b\" xlink:actuate=\"onRequest\" xlink:href=\"psysml:1fca8384-68db-4c35-8908-d644a05ab33b\" xlink:show=\"new\" xlink:title=\"psysml:1fca8384-68db-4c35-8908-d644a05ab33b\" xlink:type=\"simple\"><rect fill=\"#FFFFFF\" height=\"88.3516\" id=\"E3\" style=\"stroke: #383838; stroke-width: 1.5;\" width=\"66\" x=\"409\" y=\"41\"/><text fill=\"#000000\" font-family=\"sans-serif\" font-size=\"12\" font-style=\"italic\" lengthAdjust=\"spacingAndGlyphs\" textLength=\"64\" x=\"410\" y=\"57.1387\">«part def»</text><text fill=\"#000000\" font-family=\"sans-serif\" font-size=\"12\" lengthAdjust=\"spacingAndGlyphs\" textLength=\"8\" x=\"438\" y=\"71.1074\">B</text><line style=\"stroke: #383838; stroke-width: 1.5;\" x1=\"410\" x2=\"474\" y1=\"78.9375\" y2=\"78.9375\"/><text fill=\"#000000\" font-family=\"sans-serif\" font-size=\"11\" lengthAdjust=\"spacingAndGlyphs\" textLength=\"29\" x=\"415\" y=\"109.9526\">p1: P</text><text fill=\"#000000\" font-family=\"sans-serif\" font-size=\"11\" lengthAdjust=\"spacingAndGlyphs\" textLength=\"38\" x=\"415\" y=\"122.7573\">p2: ~P</text><line style=\"stroke: #383838; stroke-width: 1.0;\" x1=\"410\" x2=\"427\" y1=\"93.3398\" y2=\"93.3398\"/><text fill=\"#000000\" font-family=\"sans-serif\" font-size=\"11\" lengthAdjust=\"spacingAndGlyphs\" textLength=\"30\" x=\"427\" y=\"96.6479\">ports</text><line style=\"stroke: #383838; stroke-width: 1.0;\" x1=\"457\" x2=\"474\" y1=\"93.3398\" y2=\"93.3398\"/></a><!--MD5=[60a26617385b1d2d0262a64233df1f8d]\n",
       "class E6--><a href=\"psysml:d9048fa2-8c0d-4237-aabb-192a68938198\" target=\"_top\" title=\"psysml:d9048fa2-8c0d-4237-aabb-192a68938198\" xlink:actuate=\"onRequest\" xlink:href=\"psysml:d9048fa2-8c0d-4237-aabb-192a68938198\" xlink:show=\"new\" xlink:title=\"psysml:d9048fa2-8c0d-4237-aabb-192a68938198\" xlink:type=\"simple\"><rect fill=\"#FFFFFF\" height=\"88.3516\" id=\"E6\" style=\"stroke: #383838; stroke-width: 1.5;\" width=\"110\" x=\"264\" y=\"41\"/><text fill=\"#000000\" font-family=\"sans-serif\" font-size=\"12\" font-style=\"italic\" lengthAdjust=\"spacingAndGlyphs\" textLength=\"108\" x=\"265\" y=\"57.1387\">«connection def»</text><text fill=\"#000000\" font-family=\"sans-serif\" font-size=\"12\" lengthAdjust=\"spacingAndGlyphs\" textLength=\"8\" x=\"315\" y=\"71.1074\">A</text><line style=\"stroke: #383838; stroke-width: 1.5;\" x1=\"265\" x2=\"373\" y1=\"78.9375\" y2=\"78.9375\"/><text fill=\"#000000\" font-family=\"sans-serif\" font-size=\"11\" lengthAdjust=\"spacingAndGlyphs\" textLength=\"29\" x=\"270\" y=\"109.9526\">p1: P</text><text fill=\"#000000\" font-family=\"sans-serif\" font-size=\"11\" lengthAdjust=\"spacingAndGlyphs\" textLength=\"38\" x=\"270\" y=\"122.7573\">p2: ~P</text><line style=\"stroke: #383838; stroke-width: 1.0;\" x1=\"265\" x2=\"304\" y1=\"93.3398\" y2=\"93.3398\"/><text fill=\"#000000\" font-family=\"sans-serif\" font-size=\"11\" lengthAdjust=\"spacingAndGlyphs\" textLength=\"30\" x=\"304\" y=\"96.6479\">ports</text><line style=\"stroke: #383838; stroke-width: 1.0;\" x1=\"334\" x2=\"373\" y1=\"93.3398\" y2=\"93.3398\"/></a><!--MD5=[fd4143e9d270a159db93a4ea2a975926]\n",
       "class E9--><a href=\"psysml:b68d4e65-0a25-4b32-9474-7d6b33189e06\" target=\"_top\" title=\"psysml:b68d4e65-0a25-4b32-9474-7d6b33189e06\" xlink:actuate=\"onRequest\" xlink:href=\"psysml:b68d4e65-0a25-4b32-9474-7d6b33189e06\" xlink:show=\"new\" xlink:title=\"psysml:b68d4e65-0a25-4b32-9474-7d6b33189e06\" xlink:type=\"simple\"><rect fill=\"#FFFFFF\" height=\"88.3516\" id=\"E9\" style=\"stroke: #383838; stroke-width: 1.5;\" width=\"96\" x=\"133\" y=\"41\"/><text fill=\"#000000\" font-family=\"sans-serif\" font-size=\"12\" font-style=\"italic\" lengthAdjust=\"spacingAndGlyphs\" textLength=\"94\" x=\"134\" y=\"57.1387\">«interface def»</text><text fill=\"#000000\" font-family=\"sans-serif\" font-size=\"12\" lengthAdjust=\"spacingAndGlyphs\" textLength=\"3\" x=\"179.5\" y=\"71.1074\">I</text><line style=\"stroke: #383838; stroke-width: 1.5;\" x1=\"134\" x2=\"228\" y1=\"78.9375\" y2=\"78.9375\"/><text fill=\"#000000\" font-family=\"sans-serif\" font-size=\"11\" lengthAdjust=\"spacingAndGlyphs\" textLength=\"29\" x=\"139\" y=\"109.9526\">p1: P</text><text fill=\"#000000\" font-family=\"sans-serif\" font-size=\"11\" lengthAdjust=\"spacingAndGlyphs\" textLength=\"38\" x=\"139\" y=\"122.7573\">p2: ~P</text><line style=\"stroke: #383838; stroke-width: 1.0;\" x1=\"134\" x2=\"166\" y1=\"93.3398\" y2=\"93.3398\"/><text fill=\"#000000\" font-family=\"sans-serif\" font-size=\"11\" lengthAdjust=\"spacingAndGlyphs\" textLength=\"30\" x=\"166\" y=\"96.6479\">ports</text><line style=\"stroke: #383838; stroke-width: 1.0;\" x1=\"196\" x2=\"228\" y1=\"93.3398\" y2=\"93.3398\"/></a><!--MD5=[49a0ec8f00dab7302a31f22d0f0fe584]\n",
       "class E12--><a href=\"psysml:4bc8843d-d10d-4f46-93fe-21c75269e8aa\" target=\"_top\" title=\"psysml:4bc8843d-d10d-4f46-93fe-21c75269e8aa\" xlink:actuate=\"onRequest\" xlink:href=\"psysml:4bc8843d-d10d-4f46-93fe-21c75269e8aa\" xlink:show=\"new\" xlink:title=\"psysml:4bc8843d-d10d-4f46-93fe-21c75269e8aa\" xlink:type=\"simple\"><rect fill=\"#FFFFFF\" height=\"45.9375\" id=\"E12\" style=\"stroke: #383838; stroke-width: 1.5;\" width=\"66\" x=\"32\" y=\"62\"/><text fill=\"#000000\" font-family=\"sans-serif\" font-size=\"12\" font-style=\"italic\" lengthAdjust=\"spacingAndGlyphs\" textLength=\"64\" x=\"33\" y=\"78.1387\">«part def»</text><text fill=\"#000000\" font-family=\"sans-serif\" font-size=\"12\" lengthAdjust=\"spacingAndGlyphs\" textLength=\"16\" x=\"57\" y=\"92.1074\">B1</text><line style=\"stroke: #383838; stroke-width: 1.5;\" x1=\"33\" x2=\"97\" y1=\"99.9375\" y2=\"99.9375\"/></a><!--MD5=[ee3c913d1a06f366521f9ef512b67efe]\n",
       "class E13--><a href=\"psysml:37b5f10a-21e5-48b2-b2b2-bc5c291ce903\" target=\"_top\" title=\"psysml:37b5f10a-21e5-48b2-b2b2-bc5c291ce903\" xlink:actuate=\"onRequest\" xlink:href=\"psysml:37b5f10a-21e5-48b2-b2b2-bc5c291ce903\" xlink:show=\"new\" xlink:title=\"psysml:37b5f10a-21e5-48b2-b2b2-bc5c291ce903\" xlink:type=\"simple\"><rect fill=\"#FFFFFF\" height=\"88.3516\" id=\"E13\" rx=\"10\" ry=\"10\" style=\"stroke: #383838; stroke-width: 1.5;\" width=\"50\" x=\"40\" y=\"189\"/><text fill=\"#000000\" font-family=\"sans-serif\" font-size=\"12\" font-style=\"italic\" lengthAdjust=\"spacingAndGlyphs\" textLength=\"40\" x=\"45\" y=\"205.1387\">«part»</text><text fill=\"#000000\" font-family=\"sans-serif\" font-size=\"12\" lengthAdjust=\"spacingAndGlyphs\" textLength=\"8\" x=\"61\" y=\"219.1074\">p</text><line style=\"stroke: #383838; stroke-width: 1.5;\" x1=\"41\" x2=\"89\" y1=\"226.9375\" y2=\"226.9375\"/><text fill=\"#000000\" font-family=\"sans-serif\" font-size=\"11\" lengthAdjust=\"spacingAndGlyphs\" textLength=\"29\" x=\"46\" y=\"257.9526\">p1: P</text><text fill=\"#000000\" font-family=\"sans-serif\" font-size=\"11\" lengthAdjust=\"spacingAndGlyphs\" textLength=\"38\" x=\"46\" y=\"270.7573\">p2: ~P</text><line style=\"stroke: #383838; stroke-width: 1.0;\" x1=\"41\" x2=\"50\" y1=\"241.3398\" y2=\"241.3398\"/><text fill=\"#000000\" font-family=\"sans-serif\" font-size=\"11\" lengthAdjust=\"spacingAndGlyphs\" textLength=\"30\" x=\"50\" y=\"244.6479\">ports</text><line style=\"stroke: #383838; stroke-width: 1.0;\" x1=\"80\" x2=\"89\" y1=\"241.3398\" y2=\"241.3398\"/></a><!--MD5=[062ed86c389d1a88f61c6380d0491e17]\n",
       "reverse link E12 to E13--><a href=\"psysml:37b5f10a-21e5-48b2-b2b2-bc5c291ce903\" target=\"_top\" title=\"psysml:37b5f10a-21e5-48b2-b2b2-bc5c291ce903\" xlink:actuate=\"onRequest\" xlink:href=\"psysml:37b5f10a-21e5-48b2-b2b2-bc5c291ce903\" xlink:show=\"new\" xlink:title=\"psysml:37b5f10a-21e5-48b2-b2b2-bc5c291ce903\" xlink:type=\"simple\"><path d=\"M65,121.25 C65,141.54 65,167.2 65,188.71 \" fill=\"none\" id=\"E12&lt;-E13\" style=\"stroke: #383838; stroke-width: 1.0;\"/><polygon fill=\"#383838\" points=\"65,108.17,61,114.17,65,120.17,69,114.17,65,108.17\" style=\"stroke: #383838; stroke-width: 1.0;\"/></a><!--MD5=[54832352ce7f014194625ac8c2bf7405]\n",
       "@startuml\r\n",
       "top to bottom direction\r\n",
       "skinparam monochrome true\r\n",
       "skinparam classbackgroundcolor white\r\n",
       "skinparam shadowing false\r\n",
       "skinparam wrapWidth 300\r\n",
       "hide circle\r\n",
       "\r\n",
       "package \"ConjugationTest\" as E1  [[psysml:4ba0ad9e-a677-47db-af1d-b015e8f93aef ]]  {\r\n",
       "comp def \"P\" as E2  <<(T,blue)port def>> [[psysml:0d231d17-09c4-40d0-a4bc-6d43713d1eea ]] {\r\n",
       "}\r\n",
       "comp def \"B\" as E3  <<(T,blue)part def>> [[psysml:1fca8384-68db-4c35-8908-d644a05ab33b ]] {\r\n",
       "- - ports - -\r\n",
       "p1: P\r\n",
       "p2: ~P\r\n",
       "}\r\n",
       "comp def \"A\" as E6  <<(T,blue)connection def>> [[psysml:d9048fa2-8c0d-4237-aabb-192a68938198 ]] {\r\n",
       "- - ports - -\r\n",
       "p1: P\r\n",
       "p2: ~P\r\n",
       "}\r\n",
       "comp def \"I\" as E9  <<(T,blue)interface def>> [[psysml:b68d4e65-0a25-4b32-9474-7d6b33189e06 ]] {\r\n",
       "- - ports - -\r\n",
       "p1: P\r\n",
       "p2: ~P\r\n",
       "}\r\n",
       "comp def \"B1\" as E12  <<(T,blue)part def>> [[psysml:4bc8843d-d10d-4f46-93fe-21c75269e8aa ]] {\r\n",
       "}\r\n",
       "comp usage \"p\" as E13  <<(T,blue)part>> [[psysml:37b5f10a-21e5-48b2-b2b2-bc5c291ce903 ]] {\r\n",
       "- - ports - -\r\n",
       "p1: P\r\n",
       "p2: ~P\r\n",
       "}\r\n",
       "E12 *- - E13 [[psysml:37b5f10a-21e5-48b2-b2b2-bc5c291ce903 ]] \r\n",
       "}\r\n",
       "@enduml\r\n",
       "\n",
       "PlantUML version 1.2020.13(Sat Jun 13 12:26:38 UTC 2020)\n",
       "(EPL source distribution)\n",
       "Java Runtime: OpenJDK Runtime Environment\n",
       "JVM: OpenJDK 64-Bit Server VM\n",
       "Default Encoding: UTF-8\n",
       "Language: en\n",
       "Country: null\n",
       "--></g></svg>"
      ]
     },
     "execution_count": 50,
     "metadata": {},
     "output_type": "execute_result"
    }
   ],
   "source": [
    "%viz --style=\"TB\" --view=\"MIXED\" \"ConjugationTest\""
   ]
  },
  {
   "cell_type": "code",
   "execution_count": 51,
   "id": "guided-relations",
   "metadata": {
    "execution": {
     "iopub.execute_input": "2021-03-24T16:29:22.008771Z",
     "iopub.status.busy": "2021-03-24T16:29:22.008420Z",
     "iopub.status.idle": "2021-03-24T16:29:22.088079Z",
     "shell.execute_reply": "2021-03-24T16:29:22.087305Z"
    }
   },
   "outputs": [
    {
     "data": {
      "image/svg+xml": [
       "<?xml version=\"1.0\" encoding=\"UTF-8\" standalone=\"no\"?><svg xmlns=\"http://www.w3.org/2000/svg\" xmlns:xlink=\"http://www.w3.org/1999/xlink\" contentScriptType=\"application/ecmascript\" contentStyleType=\"text/css\" height=\"305px\" preserveAspectRatio=\"none\" style=\"width:614px;height:305px;\" version=\"1.1\" viewBox=\"0 0 614 305\" width=\"614px\" zoomAndPan=\"magnify\"><defs/><g><!--MD5=[fbc87193dbaf4d95561dea2c320d4a47]\n",
       "cluster E1--><a href=\"psysml:4ba0ad9e-a677-47db-af1d-b015e8f93aef\" target=\"_top\" title=\"psysml:4ba0ad9e-a677-47db-af1d-b015e8f93aef\" xlink:actuate=\"onRequest\" xlink:href=\"psysml:4ba0ad9e-a677-47db-af1d-b015e8f93aef\" xlink:show=\"new\" xlink:title=\"psysml:4ba0ad9e-a677-47db-af1d-b015e8f93aef\" xlink:type=\"simple\"><polygon fill=\"#FFFFFF\" points=\"16,6,151,6,158,28.2969,592,28.2969,592,293,16,293,16,6\" style=\"stroke: #000000; stroke-width: 1.5;\"/><line style=\"stroke: #000000; stroke-width: 1.5;\" x1=\"16\" x2=\"158\" y1=\"28.2969\" y2=\"28.2969\"/><text fill=\"#000000\" font-family=\"sans-serif\" font-size=\"14\" font-weight=\"bold\" lengthAdjust=\"spacingAndGlyphs\" textLength=\"129\" x=\"20\" y=\"20.9951\">ConjugationTest</text></a><!--MD5=[b4997ac47864f28c2f74865a473b2911]\n",
       "class E2--><a href=\"psysml:0d231d17-09c4-40d0-a4bc-6d43713d1eea\" target=\"_top\" title=\"psysml:0d231d17-09c4-40d0-a4bc-6d43713d1eea\" xlink:actuate=\"onRequest\" xlink:href=\"psysml:0d231d17-09c4-40d0-a4bc-6d43713d1eea\" xlink:show=\"new\" xlink:title=\"psysml:0d231d17-09c4-40d0-a4bc-6d43713d1eea\" xlink:type=\"simple\"><rect fill=\"#FFFFFF\" height=\"45.9375\" id=\"E2\" style=\"stroke: #383838; stroke-width: 1.5;\" width=\"66\" x=\"510\" y=\"62\"/><text fill=\"#000000\" font-family=\"sans-serif\" font-size=\"12\" font-style=\"italic\" lengthAdjust=\"spacingAndGlyphs\" textLength=\"64\" x=\"511\" y=\"78.1387\">«port def»</text><text fill=\"#000000\" font-family=\"sans-serif\" font-size=\"12\" lengthAdjust=\"spacingAndGlyphs\" textLength=\"8\" x=\"539\" y=\"92.1074\">P</text><line style=\"stroke: #383838; stroke-width: 1.5;\" x1=\"511\" x2=\"575\" y1=\"99.9375\" y2=\"99.9375\"/></a><!--MD5=[09b614a08d8cba4a07c9adeb5e0fee81]\n",
       "class E3--><a href=\"psysml:1fca8384-68db-4c35-8908-d644a05ab33b\" target=\"_top\" title=\"psysml:1fca8384-68db-4c35-8908-d644a05ab33b\" xlink:actuate=\"onRequest\" xlink:href=\"psysml:1fca8384-68db-4c35-8908-d644a05ab33b\" xlink:show=\"new\" xlink:title=\"psysml:1fca8384-68db-4c35-8908-d644a05ab33b\" xlink:type=\"simple\"><rect fill=\"#FFFFFF\" height=\"88.3516\" id=\"E3\" style=\"stroke: #383838; stroke-width: 1.5;\" width=\"66\" x=\"409\" y=\"41\"/><text fill=\"#000000\" font-family=\"sans-serif\" font-size=\"12\" font-style=\"italic\" lengthAdjust=\"spacingAndGlyphs\" textLength=\"64\" x=\"410\" y=\"57.1387\">«part def»</text><text fill=\"#000000\" font-family=\"sans-serif\" font-size=\"12\" lengthAdjust=\"spacingAndGlyphs\" textLength=\"8\" x=\"438\" y=\"71.1074\">B</text><line style=\"stroke: #383838; stroke-width: 1.5;\" x1=\"410\" x2=\"474\" y1=\"78.9375\" y2=\"78.9375\"/><text fill=\"#000000\" font-family=\"sans-serif\" font-size=\"11\" lengthAdjust=\"spacingAndGlyphs\" textLength=\"29\" x=\"415\" y=\"109.9526\">p1: P</text><text fill=\"#000000\" font-family=\"sans-serif\" font-size=\"11\" lengthAdjust=\"spacingAndGlyphs\" textLength=\"38\" x=\"415\" y=\"122.7573\">p2: ~P</text><line style=\"stroke: #383838; stroke-width: 1.0;\" x1=\"410\" x2=\"427\" y1=\"93.3398\" y2=\"93.3398\"/><text fill=\"#000000\" font-family=\"sans-serif\" font-size=\"11\" lengthAdjust=\"spacingAndGlyphs\" textLength=\"30\" x=\"427\" y=\"96.6479\">ports</text><line style=\"stroke: #383838; stroke-width: 1.0;\" x1=\"457\" x2=\"474\" y1=\"93.3398\" y2=\"93.3398\"/></a><!--MD5=[60a26617385b1d2d0262a64233df1f8d]\n",
       "class E6--><a href=\"psysml:d9048fa2-8c0d-4237-aabb-192a68938198\" target=\"_top\" title=\"psysml:d9048fa2-8c0d-4237-aabb-192a68938198\" xlink:actuate=\"onRequest\" xlink:href=\"psysml:d9048fa2-8c0d-4237-aabb-192a68938198\" xlink:show=\"new\" xlink:title=\"psysml:d9048fa2-8c0d-4237-aabb-192a68938198\" xlink:type=\"simple\"><rect fill=\"#FFFFFF\" height=\"88.3516\" id=\"E6\" style=\"stroke: #383838; stroke-width: 1.5;\" width=\"110\" x=\"264\" y=\"41\"/><text fill=\"#000000\" font-family=\"sans-serif\" font-size=\"12\" font-style=\"italic\" lengthAdjust=\"spacingAndGlyphs\" textLength=\"108\" x=\"265\" y=\"57.1387\">«connection def»</text><text fill=\"#000000\" font-family=\"sans-serif\" font-size=\"12\" lengthAdjust=\"spacingAndGlyphs\" textLength=\"8\" x=\"315\" y=\"71.1074\">A</text><line style=\"stroke: #383838; stroke-width: 1.5;\" x1=\"265\" x2=\"373\" y1=\"78.9375\" y2=\"78.9375\"/><text fill=\"#000000\" font-family=\"sans-serif\" font-size=\"11\" lengthAdjust=\"spacingAndGlyphs\" textLength=\"29\" x=\"270\" y=\"109.9526\">p1: P</text><text fill=\"#000000\" font-family=\"sans-serif\" font-size=\"11\" lengthAdjust=\"spacingAndGlyphs\" textLength=\"38\" x=\"270\" y=\"122.7573\">p2: ~P</text><line style=\"stroke: #383838; stroke-width: 1.0;\" x1=\"265\" x2=\"304\" y1=\"93.3398\" y2=\"93.3398\"/><text fill=\"#000000\" font-family=\"sans-serif\" font-size=\"11\" lengthAdjust=\"spacingAndGlyphs\" textLength=\"30\" x=\"304\" y=\"96.6479\">ports</text><line style=\"stroke: #383838; stroke-width: 1.0;\" x1=\"334\" x2=\"373\" y1=\"93.3398\" y2=\"93.3398\"/></a><!--MD5=[fd4143e9d270a159db93a4ea2a975926]\n",
       "class E9--><a href=\"psysml:b68d4e65-0a25-4b32-9474-7d6b33189e06\" target=\"_top\" title=\"psysml:b68d4e65-0a25-4b32-9474-7d6b33189e06\" xlink:actuate=\"onRequest\" xlink:href=\"psysml:b68d4e65-0a25-4b32-9474-7d6b33189e06\" xlink:show=\"new\" xlink:title=\"psysml:b68d4e65-0a25-4b32-9474-7d6b33189e06\" xlink:type=\"simple\"><rect fill=\"#FFFFFF\" height=\"88.3516\" id=\"E9\" style=\"stroke: #383838; stroke-width: 1.5;\" width=\"96\" x=\"133\" y=\"41\"/><text fill=\"#000000\" font-family=\"sans-serif\" font-size=\"12\" font-style=\"italic\" lengthAdjust=\"spacingAndGlyphs\" textLength=\"94\" x=\"134\" y=\"57.1387\">«interface def»</text><text fill=\"#000000\" font-family=\"sans-serif\" font-size=\"12\" lengthAdjust=\"spacingAndGlyphs\" textLength=\"3\" x=\"179.5\" y=\"71.1074\">I</text><line style=\"stroke: #383838; stroke-width: 1.5;\" x1=\"134\" x2=\"228\" y1=\"78.9375\" y2=\"78.9375\"/><text fill=\"#000000\" font-family=\"sans-serif\" font-size=\"11\" lengthAdjust=\"spacingAndGlyphs\" textLength=\"29\" x=\"139\" y=\"109.9526\">p1: P</text><text fill=\"#000000\" font-family=\"sans-serif\" font-size=\"11\" lengthAdjust=\"spacingAndGlyphs\" textLength=\"38\" x=\"139\" y=\"122.7573\">p2: ~P</text><line style=\"stroke: #383838; stroke-width: 1.0;\" x1=\"134\" x2=\"166\" y1=\"93.3398\" y2=\"93.3398\"/><text fill=\"#000000\" font-family=\"sans-serif\" font-size=\"11\" lengthAdjust=\"spacingAndGlyphs\" textLength=\"30\" x=\"166\" y=\"96.6479\">ports</text><line style=\"stroke: #383838; stroke-width: 1.0;\" x1=\"196\" x2=\"228\" y1=\"93.3398\" y2=\"93.3398\"/></a><!--MD5=[49a0ec8f00dab7302a31f22d0f0fe584]\n",
       "class E12--><a href=\"psysml:4bc8843d-d10d-4f46-93fe-21c75269e8aa\" target=\"_top\" title=\"psysml:4bc8843d-d10d-4f46-93fe-21c75269e8aa\" xlink:actuate=\"onRequest\" xlink:href=\"psysml:4bc8843d-d10d-4f46-93fe-21c75269e8aa\" xlink:show=\"new\" xlink:title=\"psysml:4bc8843d-d10d-4f46-93fe-21c75269e8aa\" xlink:type=\"simple\"><rect fill=\"#FFFFFF\" height=\"45.9375\" id=\"E12\" style=\"stroke: #383838; stroke-width: 1.5;\" width=\"66\" x=\"32\" y=\"62\"/><text fill=\"#000000\" font-family=\"sans-serif\" font-size=\"12\" font-style=\"italic\" lengthAdjust=\"spacingAndGlyphs\" textLength=\"64\" x=\"33\" y=\"78.1387\">«part def»</text><text fill=\"#000000\" font-family=\"sans-serif\" font-size=\"12\" lengthAdjust=\"spacingAndGlyphs\" textLength=\"16\" x=\"57\" y=\"92.1074\">B1</text><line style=\"stroke: #383838; stroke-width: 1.5;\" x1=\"33\" x2=\"97\" y1=\"99.9375\" y2=\"99.9375\"/></a><!--MD5=[ee3c913d1a06f366521f9ef512b67efe]\n",
       "class E13--><a href=\"psysml:37b5f10a-21e5-48b2-b2b2-bc5c291ce903\" target=\"_top\" title=\"psysml:37b5f10a-21e5-48b2-b2b2-bc5c291ce903\" xlink:actuate=\"onRequest\" xlink:href=\"psysml:37b5f10a-21e5-48b2-b2b2-bc5c291ce903\" xlink:show=\"new\" xlink:title=\"psysml:37b5f10a-21e5-48b2-b2b2-bc5c291ce903\" xlink:type=\"simple\"><rect fill=\"#FFFFFF\" height=\"88.3516\" id=\"E13\" rx=\"10\" ry=\"10\" style=\"stroke: #383838; stroke-width: 1.5;\" width=\"50\" x=\"40\" y=\"189\"/><text fill=\"#000000\" font-family=\"sans-serif\" font-size=\"12\" font-style=\"italic\" lengthAdjust=\"spacingAndGlyphs\" textLength=\"40\" x=\"45\" y=\"205.1387\">«part»</text><text fill=\"#000000\" font-family=\"sans-serif\" font-size=\"12\" lengthAdjust=\"spacingAndGlyphs\" textLength=\"8\" x=\"61\" y=\"219.1074\">p</text><line style=\"stroke: #383838; stroke-width: 1.5;\" x1=\"41\" x2=\"89\" y1=\"226.9375\" y2=\"226.9375\"/><text fill=\"#000000\" font-family=\"sans-serif\" font-size=\"11\" lengthAdjust=\"spacingAndGlyphs\" textLength=\"29\" x=\"46\" y=\"257.9526\">p1: P</text><text fill=\"#000000\" font-family=\"sans-serif\" font-size=\"11\" lengthAdjust=\"spacingAndGlyphs\" textLength=\"38\" x=\"46\" y=\"270.7573\">p2: ~P</text><line style=\"stroke: #383838; stroke-width: 1.0;\" x1=\"41\" x2=\"50\" y1=\"241.3398\" y2=\"241.3398\"/><text fill=\"#000000\" font-family=\"sans-serif\" font-size=\"11\" lengthAdjust=\"spacingAndGlyphs\" textLength=\"30\" x=\"50\" y=\"244.6479\">ports</text><line style=\"stroke: #383838; stroke-width: 1.0;\" x1=\"80\" x2=\"89\" y1=\"241.3398\" y2=\"241.3398\"/></a><!--MD5=[062ed86c389d1a88f61c6380d0491e17]\n",
       "reverse link E12 to E13--><a href=\"psysml:37b5f10a-21e5-48b2-b2b2-bc5c291ce903\" target=\"_top\" title=\"psysml:37b5f10a-21e5-48b2-b2b2-bc5c291ce903\" xlink:actuate=\"onRequest\" xlink:href=\"psysml:37b5f10a-21e5-48b2-b2b2-bc5c291ce903\" xlink:show=\"new\" xlink:title=\"psysml:37b5f10a-21e5-48b2-b2b2-bc5c291ce903\" xlink:type=\"simple\"><path d=\"M65,121.12 C65,121.12 65,188.9 65,188.9 \" fill=\"none\" id=\"E12&lt;-E13\" style=\"stroke: #383838; stroke-width: 1.0;\"/><polygon fill=\"#383838\" points=\"65,108.12,61.0066,114.1244,65.0132,120.12,69.0066,114.1156,65,108.12\" style=\"stroke: #383838; stroke-width: 1.0;\"/></a><!--MD5=[014e257a49b2276fb8d196c59e129ef3]\n",
       "@startuml\r\n",
       "skinparam linetype ortho\r\n",
       "skinparam monochrome true\r\n",
       "skinparam classbackgroundcolor white\r\n",
       "skinparam shadowing false\r\n",
       "skinparam wrapWidth 300\r\n",
       "hide circle\r\n",
       "\r\n",
       "package \"ConjugationTest\" as E1  [[psysml:4ba0ad9e-a677-47db-af1d-b015e8f93aef ]]  {\r\n",
       "comp def \"P\" as E2  <<(T,blue)port def>> [[psysml:0d231d17-09c4-40d0-a4bc-6d43713d1eea ]] {\r\n",
       "}\r\n",
       "comp def \"B\" as E3  <<(T,blue)part def>> [[psysml:1fca8384-68db-4c35-8908-d644a05ab33b ]] {\r\n",
       "- - ports - -\r\n",
       "p1: P\r\n",
       "p2: ~P\r\n",
       "}\r\n",
       "comp def \"A\" as E6  <<(T,blue)connection def>> [[psysml:d9048fa2-8c0d-4237-aabb-192a68938198 ]] {\r\n",
       "- - ports - -\r\n",
       "p1: P\r\n",
       "p2: ~P\r\n",
       "}\r\n",
       "comp def \"I\" as E9  <<(T,blue)interface def>> [[psysml:b68d4e65-0a25-4b32-9474-7d6b33189e06 ]] {\r\n",
       "- - ports - -\r\n",
       "p1: P\r\n",
       "p2: ~P\r\n",
       "}\r\n",
       "comp def \"B1\" as E12  <<(T,blue)part def>> [[psysml:4bc8843d-d10d-4f46-93fe-21c75269e8aa ]] {\r\n",
       "}\r\n",
       "comp usage \"p\" as E13  <<(T,blue)part>> [[psysml:37b5f10a-21e5-48b2-b2b2-bc5c291ce903 ]] {\r\n",
       "- - ports - -\r\n",
       "p1: P\r\n",
       "p2: ~P\r\n",
       "}\r\n",
       "E12 *- - E13 [[psysml:37b5f10a-21e5-48b2-b2b2-bc5c291ce903 ]] \r\n",
       "}\r\n",
       "@enduml\r\n",
       "\n",
       "PlantUML version 1.2020.13(Sat Jun 13 12:26:38 UTC 2020)\n",
       "(EPL source distribution)\n",
       "Java Runtime: OpenJDK Runtime Environment\n",
       "JVM: OpenJDK 64-Bit Server VM\n",
       "Default Encoding: UTF-8\n",
       "Language: en\n",
       "Country: null\n",
       "--></g></svg>"
      ]
     },
     "execution_count": 51,
     "metadata": {},
     "output_type": "execute_result"
    }
   ],
   "source": [
    "%viz --style=\"ORTHOLINE\" --view=\"Default\" \"ConjugationTest\""
   ]
  },
  {
   "cell_type": "code",
   "execution_count": 52,
   "id": "demonstrated-broadcast",
   "metadata": {
    "execution": {
     "iopub.execute_input": "2021-03-24T16:29:22.139531Z",
     "iopub.status.busy": "2021-03-24T16:29:22.139202Z",
     "iopub.status.idle": "2021-03-24T16:29:22.221684Z",
     "shell.execute_reply": "2021-03-24T16:29:22.220178Z"
    }
   },
   "outputs": [
    {
     "data": {
      "image/svg+xml": [
       "<?xml version=\"1.0\" encoding=\"UTF-8\" standalone=\"no\"?><svg xmlns=\"http://www.w3.org/2000/svg\" xmlns:xlink=\"http://www.w3.org/1999/xlink\" contentScriptType=\"application/ecmascript\" contentStyleType=\"text/css\" height=\"305px\" preserveAspectRatio=\"none\" style=\"width:614px;height:305px;\" version=\"1.1\" viewBox=\"0 0 614 305\" width=\"614px\" zoomAndPan=\"magnify\"><defs/><g><!--MD5=[fbc87193dbaf4d95561dea2c320d4a47]\n",
       "cluster E1--><a href=\"psysml:4ba0ad9e-a677-47db-af1d-b015e8f93aef\" target=\"_top\" title=\"psysml:4ba0ad9e-a677-47db-af1d-b015e8f93aef\" xlink:actuate=\"onRequest\" xlink:href=\"psysml:4ba0ad9e-a677-47db-af1d-b015e8f93aef\" xlink:show=\"new\" xlink:title=\"psysml:4ba0ad9e-a677-47db-af1d-b015e8f93aef\" xlink:type=\"simple\"><polygon fill=\"#FFFFFF\" points=\"16,6,151,6,158,28.2969,592,28.2969,592,293,16,293,16,6\" style=\"stroke: #000000; stroke-width: 1.5;\"/><line style=\"stroke: #000000; stroke-width: 1.5;\" x1=\"16\" x2=\"158\" y1=\"28.2969\" y2=\"28.2969\"/><text fill=\"#000000\" font-family=\"sans-serif\" font-size=\"14\" font-weight=\"bold\" lengthAdjust=\"spacingAndGlyphs\" textLength=\"129\" x=\"20\" y=\"20.9951\">ConjugationTest</text></a><!--MD5=[b4997ac47864f28c2f74865a473b2911]\n",
       "class E2--><a href=\"psysml:0d231d17-09c4-40d0-a4bc-6d43713d1eea\" target=\"_top\" title=\"psysml:0d231d17-09c4-40d0-a4bc-6d43713d1eea\" xlink:actuate=\"onRequest\" xlink:href=\"psysml:0d231d17-09c4-40d0-a4bc-6d43713d1eea\" xlink:show=\"new\" xlink:title=\"psysml:0d231d17-09c4-40d0-a4bc-6d43713d1eea\" xlink:type=\"simple\"><rect fill=\"#FFFFFF\" height=\"45.9375\" id=\"E2\" style=\"stroke: #383838; stroke-width: 1.5;\" width=\"66\" x=\"510\" y=\"62\"/><text fill=\"#000000\" font-family=\"sans-serif\" font-size=\"12\" font-style=\"italic\" lengthAdjust=\"spacingAndGlyphs\" textLength=\"64\" x=\"511\" y=\"78.1387\">«port def»</text><text fill=\"#000000\" font-family=\"sans-serif\" font-size=\"12\" lengthAdjust=\"spacingAndGlyphs\" textLength=\"8\" x=\"539\" y=\"92.1074\">P</text><line style=\"stroke: #383838; stroke-width: 1.5;\" x1=\"511\" x2=\"575\" y1=\"99.9375\" y2=\"99.9375\"/></a><!--MD5=[09b614a08d8cba4a07c9adeb5e0fee81]\n",
       "class E3--><a href=\"psysml:1fca8384-68db-4c35-8908-d644a05ab33b\" target=\"_top\" title=\"psysml:1fca8384-68db-4c35-8908-d644a05ab33b\" xlink:actuate=\"onRequest\" xlink:href=\"psysml:1fca8384-68db-4c35-8908-d644a05ab33b\" xlink:show=\"new\" xlink:title=\"psysml:1fca8384-68db-4c35-8908-d644a05ab33b\" xlink:type=\"simple\"><rect fill=\"#FFFFFF\" height=\"88.3516\" id=\"E3\" style=\"stroke: #383838; stroke-width: 1.5;\" width=\"66\" x=\"409\" y=\"41\"/><text fill=\"#000000\" font-family=\"sans-serif\" font-size=\"12\" font-style=\"italic\" lengthAdjust=\"spacingAndGlyphs\" textLength=\"64\" x=\"410\" y=\"57.1387\">«part def»</text><text fill=\"#000000\" font-family=\"sans-serif\" font-size=\"12\" lengthAdjust=\"spacingAndGlyphs\" textLength=\"8\" x=\"438\" y=\"71.1074\">B</text><line style=\"stroke: #383838; stroke-width: 1.5;\" x1=\"410\" x2=\"474\" y1=\"78.9375\" y2=\"78.9375\"/><text fill=\"#000000\" font-family=\"sans-serif\" font-size=\"11\" lengthAdjust=\"spacingAndGlyphs\" textLength=\"29\" x=\"415\" y=\"109.9526\">p1: P</text><text fill=\"#000000\" font-family=\"sans-serif\" font-size=\"11\" lengthAdjust=\"spacingAndGlyphs\" textLength=\"38\" x=\"415\" y=\"122.7573\">p2: ~P</text><line style=\"stroke: #383838; stroke-width: 1.0;\" x1=\"410\" x2=\"427\" y1=\"93.3398\" y2=\"93.3398\"/><text fill=\"#000000\" font-family=\"sans-serif\" font-size=\"11\" lengthAdjust=\"spacingAndGlyphs\" textLength=\"30\" x=\"427\" y=\"96.6479\">ports</text><line style=\"stroke: #383838; stroke-width: 1.0;\" x1=\"457\" x2=\"474\" y1=\"93.3398\" y2=\"93.3398\"/></a><!--MD5=[60a26617385b1d2d0262a64233df1f8d]\n",
       "class E6--><a href=\"psysml:d9048fa2-8c0d-4237-aabb-192a68938198\" target=\"_top\" title=\"psysml:d9048fa2-8c0d-4237-aabb-192a68938198\" xlink:actuate=\"onRequest\" xlink:href=\"psysml:d9048fa2-8c0d-4237-aabb-192a68938198\" xlink:show=\"new\" xlink:title=\"psysml:d9048fa2-8c0d-4237-aabb-192a68938198\" xlink:type=\"simple\"><rect fill=\"#FFFFFF\" height=\"88.3516\" id=\"E6\" style=\"stroke: #383838; stroke-width: 1.5;\" width=\"110\" x=\"264\" y=\"41\"/><text fill=\"#000000\" font-family=\"sans-serif\" font-size=\"12\" font-style=\"italic\" lengthAdjust=\"spacingAndGlyphs\" textLength=\"108\" x=\"265\" y=\"57.1387\">«connection def»</text><text fill=\"#000000\" font-family=\"sans-serif\" font-size=\"12\" lengthAdjust=\"spacingAndGlyphs\" textLength=\"8\" x=\"315\" y=\"71.1074\">A</text><line style=\"stroke: #383838; stroke-width: 1.5;\" x1=\"265\" x2=\"373\" y1=\"78.9375\" y2=\"78.9375\"/><text fill=\"#000000\" font-family=\"sans-serif\" font-size=\"11\" lengthAdjust=\"spacingAndGlyphs\" textLength=\"29\" x=\"270\" y=\"109.9526\">p1: P</text><text fill=\"#000000\" font-family=\"sans-serif\" font-size=\"11\" lengthAdjust=\"spacingAndGlyphs\" textLength=\"38\" x=\"270\" y=\"122.7573\">p2: ~P</text><line style=\"stroke: #383838; stroke-width: 1.0;\" x1=\"265\" x2=\"304\" y1=\"93.3398\" y2=\"93.3398\"/><text fill=\"#000000\" font-family=\"sans-serif\" font-size=\"11\" lengthAdjust=\"spacingAndGlyphs\" textLength=\"30\" x=\"304\" y=\"96.6479\">ports</text><line style=\"stroke: #383838; stroke-width: 1.0;\" x1=\"334\" x2=\"373\" y1=\"93.3398\" y2=\"93.3398\"/></a><!--MD5=[fd4143e9d270a159db93a4ea2a975926]\n",
       "class E9--><a href=\"psysml:b68d4e65-0a25-4b32-9474-7d6b33189e06\" target=\"_top\" title=\"psysml:b68d4e65-0a25-4b32-9474-7d6b33189e06\" xlink:actuate=\"onRequest\" xlink:href=\"psysml:b68d4e65-0a25-4b32-9474-7d6b33189e06\" xlink:show=\"new\" xlink:title=\"psysml:b68d4e65-0a25-4b32-9474-7d6b33189e06\" xlink:type=\"simple\"><rect fill=\"#FFFFFF\" height=\"88.3516\" id=\"E9\" style=\"stroke: #383838; stroke-width: 1.5;\" width=\"96\" x=\"133\" y=\"41\"/><text fill=\"#000000\" font-family=\"sans-serif\" font-size=\"12\" font-style=\"italic\" lengthAdjust=\"spacingAndGlyphs\" textLength=\"94\" x=\"134\" y=\"57.1387\">«interface def»</text><text fill=\"#000000\" font-family=\"sans-serif\" font-size=\"12\" lengthAdjust=\"spacingAndGlyphs\" textLength=\"3\" x=\"179.5\" y=\"71.1074\">I</text><line style=\"stroke: #383838; stroke-width: 1.5;\" x1=\"134\" x2=\"228\" y1=\"78.9375\" y2=\"78.9375\"/><text fill=\"#000000\" font-family=\"sans-serif\" font-size=\"11\" lengthAdjust=\"spacingAndGlyphs\" textLength=\"29\" x=\"139\" y=\"109.9526\">p1: P</text><text fill=\"#000000\" font-family=\"sans-serif\" font-size=\"11\" lengthAdjust=\"spacingAndGlyphs\" textLength=\"38\" x=\"139\" y=\"122.7573\">p2: ~P</text><line style=\"stroke: #383838; stroke-width: 1.0;\" x1=\"134\" x2=\"166\" y1=\"93.3398\" y2=\"93.3398\"/><text fill=\"#000000\" font-family=\"sans-serif\" font-size=\"11\" lengthAdjust=\"spacingAndGlyphs\" textLength=\"30\" x=\"166\" y=\"96.6479\">ports</text><line style=\"stroke: #383838; stroke-width: 1.0;\" x1=\"196\" x2=\"228\" y1=\"93.3398\" y2=\"93.3398\"/></a><!--MD5=[49a0ec8f00dab7302a31f22d0f0fe584]\n",
       "class E12--><a href=\"psysml:4bc8843d-d10d-4f46-93fe-21c75269e8aa\" target=\"_top\" title=\"psysml:4bc8843d-d10d-4f46-93fe-21c75269e8aa\" xlink:actuate=\"onRequest\" xlink:href=\"psysml:4bc8843d-d10d-4f46-93fe-21c75269e8aa\" xlink:show=\"new\" xlink:title=\"psysml:4bc8843d-d10d-4f46-93fe-21c75269e8aa\" xlink:type=\"simple\"><rect fill=\"#FFFFFF\" height=\"45.9375\" id=\"E12\" style=\"stroke: #383838; stroke-width: 1.5;\" width=\"66\" x=\"32\" y=\"62\"/><text fill=\"#000000\" font-family=\"sans-serif\" font-size=\"12\" font-style=\"italic\" lengthAdjust=\"spacingAndGlyphs\" textLength=\"64\" x=\"33\" y=\"78.1387\">«part def»</text><text fill=\"#000000\" font-family=\"sans-serif\" font-size=\"12\" lengthAdjust=\"spacingAndGlyphs\" textLength=\"16\" x=\"57\" y=\"92.1074\">B1</text><line style=\"stroke: #383838; stroke-width: 1.5;\" x1=\"33\" x2=\"97\" y1=\"99.9375\" y2=\"99.9375\"/></a><!--MD5=[ee3c913d1a06f366521f9ef512b67efe]\n",
       "class E13--><a href=\"psysml:37b5f10a-21e5-48b2-b2b2-bc5c291ce903\" target=\"_top\" title=\"psysml:37b5f10a-21e5-48b2-b2b2-bc5c291ce903\" xlink:actuate=\"onRequest\" xlink:href=\"psysml:37b5f10a-21e5-48b2-b2b2-bc5c291ce903\" xlink:show=\"new\" xlink:title=\"psysml:37b5f10a-21e5-48b2-b2b2-bc5c291ce903\" xlink:type=\"simple\"><rect fill=\"#FFFFFF\" height=\"88.3516\" id=\"E13\" rx=\"10\" ry=\"10\" style=\"stroke: #383838; stroke-width: 1.5;\" width=\"50\" x=\"40\" y=\"189\"/><text fill=\"#000000\" font-family=\"sans-serif\" font-size=\"12\" font-style=\"italic\" lengthAdjust=\"spacingAndGlyphs\" textLength=\"40\" x=\"45\" y=\"205.1387\">«part»</text><text fill=\"#000000\" font-family=\"sans-serif\" font-size=\"12\" lengthAdjust=\"spacingAndGlyphs\" textLength=\"8\" x=\"61\" y=\"219.1074\">p</text><line style=\"stroke: #383838; stroke-width: 1.5;\" x1=\"41\" x2=\"89\" y1=\"226.9375\" y2=\"226.9375\"/><text fill=\"#000000\" font-family=\"sans-serif\" font-size=\"11\" lengthAdjust=\"spacingAndGlyphs\" textLength=\"29\" x=\"46\" y=\"257.9526\">p1: P</text><text fill=\"#000000\" font-family=\"sans-serif\" font-size=\"11\" lengthAdjust=\"spacingAndGlyphs\" textLength=\"38\" x=\"46\" y=\"270.7573\">p2: ~P</text><line style=\"stroke: #383838; stroke-width: 1.0;\" x1=\"41\" x2=\"50\" y1=\"241.3398\" y2=\"241.3398\"/><text fill=\"#000000\" font-family=\"sans-serif\" font-size=\"11\" lengthAdjust=\"spacingAndGlyphs\" textLength=\"30\" x=\"50\" y=\"244.6479\">ports</text><line style=\"stroke: #383838; stroke-width: 1.0;\" x1=\"80\" x2=\"89\" y1=\"241.3398\" y2=\"241.3398\"/></a><!--MD5=[062ed86c389d1a88f61c6380d0491e17]\n",
       "reverse link E12 to E13--><a href=\"psysml:37b5f10a-21e5-48b2-b2b2-bc5c291ce903\" target=\"_top\" title=\"psysml:37b5f10a-21e5-48b2-b2b2-bc5c291ce903\" xlink:actuate=\"onRequest\" xlink:href=\"psysml:37b5f10a-21e5-48b2-b2b2-bc5c291ce903\" xlink:show=\"new\" xlink:title=\"psysml:37b5f10a-21e5-48b2-b2b2-bc5c291ce903\" xlink:type=\"simple\"><path d=\"M65,121.12 C65,121.12 65,188.9 65,188.9 \" fill=\"none\" id=\"E12&lt;-E13\" style=\"stroke: #383838; stroke-width: 1.0;\"/><polygon fill=\"#383838\" points=\"65,108.12,61.0066,114.1244,65.0132,120.12,69.0066,114.1156,65,108.12\" style=\"stroke: #383838; stroke-width: 1.0;\"/></a><!--MD5=[014e257a49b2276fb8d196c59e129ef3]\n",
       "@startuml\r\n",
       "skinparam linetype ortho\r\n",
       "skinparam monochrome true\r\n",
       "skinparam classbackgroundcolor white\r\n",
       "skinparam shadowing false\r\n",
       "skinparam wrapWidth 300\r\n",
       "hide circle\r\n",
       "\r\n",
       "package \"ConjugationTest\" as E1  [[psysml:4ba0ad9e-a677-47db-af1d-b015e8f93aef ]]  {\r\n",
       "comp def \"P\" as E2  <<(T,blue)port def>> [[psysml:0d231d17-09c4-40d0-a4bc-6d43713d1eea ]] {\r\n",
       "}\r\n",
       "comp def \"B\" as E3  <<(T,blue)part def>> [[psysml:1fca8384-68db-4c35-8908-d644a05ab33b ]] {\r\n",
       "- - ports - -\r\n",
       "p1: P\r\n",
       "p2: ~P\r\n",
       "}\r\n",
       "comp def \"A\" as E6  <<(T,blue)connection def>> [[psysml:d9048fa2-8c0d-4237-aabb-192a68938198 ]] {\r\n",
       "- - ports - -\r\n",
       "p1: P\r\n",
       "p2: ~P\r\n",
       "}\r\n",
       "comp def \"I\" as E9  <<(T,blue)interface def>> [[psysml:b68d4e65-0a25-4b32-9474-7d6b33189e06 ]] {\r\n",
       "- - ports - -\r\n",
       "p1: P\r\n",
       "p2: ~P\r\n",
       "}\r\n",
       "comp def \"B1\" as E12  <<(T,blue)part def>> [[psysml:4bc8843d-d10d-4f46-93fe-21c75269e8aa ]] {\r\n",
       "}\r\n",
       "comp usage \"p\" as E13  <<(T,blue)part>> [[psysml:37b5f10a-21e5-48b2-b2b2-bc5c291ce903 ]] {\r\n",
       "- - ports - -\r\n",
       "p1: P\r\n",
       "p2: ~P\r\n",
       "}\r\n",
       "E12 *- - E13 [[psysml:37b5f10a-21e5-48b2-b2b2-bc5c291ce903 ]] \r\n",
       "}\r\n",
       "@enduml\r\n",
       "\n",
       "PlantUML version 1.2020.13(Sat Jun 13 12:26:38 UTC 2020)\n",
       "(EPL source distribution)\n",
       "Java Runtime: OpenJDK Runtime Environment\n",
       "JVM: OpenJDK 64-Bit Server VM\n",
       "Default Encoding: UTF-8\n",
       "Language: en\n",
       "Country: null\n",
       "--></g></svg>"
      ]
     },
     "execution_count": 52,
     "metadata": {},
     "output_type": "execute_result"
    }
   ],
   "source": [
    "%viz --style=\"ORTHOLINE\" --view=\"Tree\" \"ConjugationTest\""
   ]
  },
  {
   "cell_type": "code",
   "execution_count": 53,
   "id": "unsigned-continent",
   "metadata": {
    "execution": {
     "iopub.execute_input": "2021-03-24T16:29:22.273215Z",
     "iopub.status.busy": "2021-03-24T16:29:22.272690Z",
     "iopub.status.idle": "2021-03-24T16:29:22.280350Z",
     "shell.execute_reply": "2021-03-24T16:29:22.280058Z"
    }
   },
   "outputs": [
    {
     "data": {
      "image/svg+xml": [
       "<?xml version=\"1.0\" encoding=\"UTF-8\" standalone=\"no\"?><svg xmlns=\"http://www.w3.org/2000/svg\" xmlns:xlink=\"http://www.w3.org/1999/xlink\" contentScriptType=\"application/ecmascript\" contentStyleType=\"text/css\" height=\"12px\" preserveAspectRatio=\"none\" style=\"width:12px;height:12px;\" version=\"1.1\" viewBox=\"0 0 12 12\" width=\"12px\" zoomAndPan=\"magnify\"><defs/><g><!--MD5=[97d6f38768b311333d388e66b2b27985]\n",
       "@startuml\r\n",
       "skinparam linetype ortho\r\n",
       "skinparam monochrome true\r\n",
       "skinparam classbackgroundcolor white\r\n",
       "skinparam shadowing false\r\n",
       "skinparam wrapWidth 300\r\n",
       "hide circle\r\n",
       "\r\n",
       "@enduml\r\n",
       "\n",
       "PlantUML version 1.2020.13(Sat Jun 13 12:26:38 UTC 2020)\n",
       "(EPL source distribution)\n",
       "Java Runtime: OpenJDK Runtime Environment\n",
       "JVM: OpenJDK 64-Bit Server VM\n",
       "Default Encoding: UTF-8\n",
       "Language: en\n",
       "Country: null\n",
       "--></g></svg>"
      ]
     },
     "execution_count": 53,
     "metadata": {},
     "output_type": "execute_result"
    }
   ],
   "source": [
    "%viz --style=\"ORTHOLINE\" --view=\"State\" \"ConjugationTest\""
   ]
  },
  {
   "cell_type": "code",
   "execution_count": 54,
   "id": "rapid-cathedral",
   "metadata": {
    "execution": {
     "iopub.execute_input": "2021-03-24T16:29:22.331119Z",
     "iopub.status.busy": "2021-03-24T16:29:22.330658Z",
     "iopub.status.idle": "2021-03-24T16:29:22.368024Z",
     "shell.execute_reply": "2021-03-24T16:29:22.366689Z"
    }
   },
   "outputs": [
    {
     "data": {
      "image/svg+xml": [
       "<?xml version=\"1.0\" encoding=\"UTF-8\" standalone=\"no\"?><svg xmlns=\"http://www.w3.org/2000/svg\" xmlns:xlink=\"http://www.w3.org/1999/xlink\" contentScriptType=\"application/ecmascript\" contentStyleType=\"text/css\" height=\"246px\" preserveAspectRatio=\"none\" style=\"width:739px;height:246px;\" version=\"1.1\" viewBox=\"0 0 739 246\" width=\"739px\" zoomAndPan=\"magnify\"><defs/><g><!--MD5=[fbc87193dbaf4d95561dea2c320d4a47]\n",
       "cluster E1--><a href=\"psysml:4ba0ad9e-a677-47db-af1d-b015e8f93aef\" target=\"_top\" title=\"psysml:4ba0ad9e-a677-47db-af1d-b015e8f93aef\" xlink:actuate=\"onRequest\" xlink:href=\"psysml:4ba0ad9e-a677-47db-af1d-b015e8f93aef\" xlink:show=\"new\" xlink:title=\"psysml:4ba0ad9e-a677-47db-af1d-b015e8f93aef\" xlink:type=\"simple\"><polygon fill=\"#FFFFFF\" points=\"16,6,151,6,158,28.2969,717,28.2969,717,234.5,16,234.5,16,6\" style=\"stroke: #000000; stroke-width: 1.5;\"/><line style=\"stroke: #000000; stroke-width: 1.5;\" x1=\"16\" x2=\"158\" y1=\"28.2969\" y2=\"28.2969\"/><text fill=\"#000000\" font-family=\"sans-serif\" font-size=\"14\" font-weight=\"bold\" lengthAdjust=\"spacingAndGlyphs\" textLength=\"129\" x=\"20\" y=\"20.9951\">ConjugationTest</text></a><!--MD5=[d5e69f78d87373223dbae638b30a9c99]\n",
       "cluster E3--><a href=\"psysml:1fca8384-68db-4c35-8908-d644a05ab33b\" target=\"_top\" title=\"psysml:1fca8384-68db-4c35-8908-d644a05ab33b\" xlink:actuate=\"onRequest\" xlink:href=\"psysml:1fca8384-68db-4c35-8908-d644a05ab33b\" xlink:show=\"new\" xlink:title=\"psysml:1fca8384-68db-4c35-8908-d644a05ab33b\" xlink:type=\"simple\"><rect fill=\"#FFFFFF\" height=\"88.5\" id=\"E3\" style=\"stroke: #383838; stroke-width: 1.5;\" width=\"83\" x=\"577\" y=\"114\"/><rect fill=\"#F8F8F8\" height=\"37.9375\" style=\"stroke: #383838; stroke-width: 1.5;\" width=\"83\" x=\"577\" y=\"114\"/><text fill=\"#000000\" font-family=\"sans-serif\" font-size=\"12\" font-style=\"italic\" lengthAdjust=\"spacingAndGlyphs\" textLength=\"64\" x=\"586.5\" y=\"130.1387\">«part def»</text><text fill=\"#000000\" font-family=\"sans-serif\" font-size=\"12\" lengthAdjust=\"spacingAndGlyphs\" textLength=\"8\" x=\"614.5\" y=\"144.1074\">B</text></a><!--MD5=[14e3b0961a2654348d326746436168a1]\n",
       "cluster E6--><a href=\"psysml:d9048fa2-8c0d-4237-aabb-192a68938198\" target=\"_top\" title=\"psysml:d9048fa2-8c0d-4237-aabb-192a68938198\" xlink:actuate=\"onRequest\" xlink:href=\"psysml:d9048fa2-8c0d-4237-aabb-192a68938198\" xlink:show=\"new\" xlink:title=\"psysml:d9048fa2-8c0d-4237-aabb-192a68938198\" xlink:type=\"simple\"><rect fill=\"#FFFFFF\" height=\"88.5\" id=\"E6\" style=\"stroke: #383838; stroke-width: 1.5;\" width=\"150\" x=\"423\" y=\"114\"/><rect fill=\"#F8F8F8\" height=\"37.9375\" style=\"stroke: #383838; stroke-width: 1.5;\" width=\"150\" x=\"423\" y=\"114\"/><text fill=\"#000000\" font-family=\"sans-serif\" font-size=\"12\" font-style=\"italic\" lengthAdjust=\"spacingAndGlyphs\" textLength=\"108\" x=\"444\" y=\"130.1387\">«connection def»</text><text fill=\"#000000\" font-family=\"sans-serif\" font-size=\"12\" lengthAdjust=\"spacingAndGlyphs\" textLength=\"8\" x=\"494\" y=\"144.1074\">A</text></a><!--MD5=[7f149f147074ac12df2cb0a7728a5fb0]\n",
       "cluster E9--><a href=\"psysml:b68d4e65-0a25-4b32-9474-7d6b33189e06\" target=\"_top\" title=\"psysml:b68d4e65-0a25-4b32-9474-7d6b33189e06\" xlink:actuate=\"onRequest\" xlink:href=\"psysml:b68d4e65-0a25-4b32-9474-7d6b33189e06\" xlink:show=\"new\" xlink:title=\"psysml:b68d4e65-0a25-4b32-9474-7d6b33189e06\" xlink:type=\"simple\"><rect fill=\"#FFFFFF\" height=\"88.5\" id=\"E9\" style=\"stroke: #383838; stroke-width: 1.5;\" width=\"141\" x=\"254\" y=\"114\"/><rect fill=\"#F8F8F8\" height=\"37.9375\" style=\"stroke: #383838; stroke-width: 1.5;\" width=\"141\" x=\"254\" y=\"114\"/><text fill=\"#000000\" font-family=\"sans-serif\" font-size=\"12\" font-style=\"italic\" lengthAdjust=\"spacingAndGlyphs\" textLength=\"94\" x=\"277.5\" y=\"130.1387\">«interface def»</text><text fill=\"#000000\" font-family=\"sans-serif\" font-size=\"12\" lengthAdjust=\"spacingAndGlyphs\" textLength=\"3\" x=\"323\" y=\"144.1074\">I</text></a><!--MD5=[47bea60c1a0ac6c1143df232041969c0]\n",
       "cluster E12--><a href=\"psysml:4bc8843d-d10d-4f46-93fe-21c75269e8aa\" target=\"_top\" title=\"psysml:4bc8843d-d10d-4f46-93fe-21c75269e8aa\" xlink:actuate=\"onRequest\" xlink:href=\"psysml:4bc8843d-d10d-4f46-93fe-21c75269e8aa\" xlink:show=\"new\" xlink:title=\"psysml:4bc8843d-d10d-4f46-93fe-21c75269e8aa\" xlink:type=\"simple\"><rect fill=\"#FFFFFF\" height=\"161.5\" id=\"E12\" style=\"stroke: #383838; stroke-width: 1.5;\" width=\"107\" x=\"120\" y=\"49\"/><rect fill=\"#F8F8F8\" height=\"37.9375\" style=\"stroke: #383838; stroke-width: 1.5;\" width=\"107\" x=\"120\" y=\"49\"/><text fill=\"#000000\" font-family=\"sans-serif\" font-size=\"12\" font-style=\"italic\" lengthAdjust=\"spacingAndGlyphs\" textLength=\"64\" x=\"141.5\" y=\"65.1387\">«part def»</text><text fill=\"#000000\" font-family=\"sans-serif\" font-size=\"12\" lengthAdjust=\"spacingAndGlyphs\" textLength=\"16\" x=\"165.5\" y=\"79.1074\">B1</text></a><!--MD5=[03104f77b71e2d8d3500c651e6e31181]\n",
       "cluster E13--><a href=\"psysml:37b5f10a-21e5-48b2-b2b2-bc5c291ce903\" target=\"_top\" title=\"psysml:37b5f10a-21e5-48b2-b2b2-bc5c291ce903\" xlink:actuate=\"onRequest\" xlink:href=\"psysml:37b5f10a-21e5-48b2-b2b2-bc5c291ce903\" xlink:show=\"new\" xlink:title=\"psysml:37b5f10a-21e5-48b2-b2b2-bc5c291ce903\" xlink:type=\"simple\"><rect fill=\"#FFFFFF\" height=\"80.5\" id=\"E13\" rx=\"10\" ry=\"10\" style=\"stroke: #383838; stroke-width: 1.5;\" width=\"83\" x=\"132\" y=\"114\"/><rect fill=\"#F8F8F8\" height=\"23.9688\" rx=\"10\" ry=\"10\" style=\"stroke: #F8F8F8; stroke-width: 1.5;\" width=\"83\" x=\"132\" y=\"114\"/><rect fill=\"#F8F8F8\" height=\"10\" style=\"stroke: #F8F8F8; stroke-width: 1.5;\" width=\"83\" x=\"132\" y=\"127.9688\"/><rect fill=\"none\" height=\"80.5\" id=\"E13\" rx=\"10\" ry=\"10\" style=\"stroke: #383838; stroke-width: 1.5;\" width=\"83\" x=\"132\" y=\"114\"/><text fill=\"#000000\" font-family=\"sans-serif\" font-size=\"12\" lengthAdjust=\"spacingAndGlyphs\" textLength=\"8\" x=\"169.5\" y=\"130.1387\">p</text><line style=\"stroke: #383838; stroke-width: 1.0;\" x1=\"132\" x2=\"215\" y1=\"137.9688\" y2=\"137.9688\"/></a><g id=\"E1.E2\"><a href=\"psysml:0d231d17-09c4-40d0-a4bc-6d43713d1eea\" target=\"_top\" title=\"psysml:0d231d17-09c4-40d0-a4bc-6d43713d1eea\" xlink:actuate=\"onRequest\" xlink:href=\"psysml:0d231d17-09c4-40d0-a4bc-6d43713d1eea\" xlink:show=\"new\" xlink:title=\"psysml:0d231d17-09c4-40d0-a4bc-6d43713d1eea\" xlink:type=\"simple\"><rect fill=\"#FFFFFF\" height=\"42.9375\" id=\"E2\" style=\"stroke: #383838; stroke-width: 1.5;\" width=\"71\" x=\"32.5\" y=\"92.5\"/><rect fill=\"#F8F8F8\" height=\"37.9375\" style=\"stroke: #383838; stroke-width: 1.5;\" width=\"71\" x=\"32.5\" y=\"92.5\"/><text fill=\"#000000\" font-family=\"sans-serif\" font-size=\"12\" font-style=\"italic\" lengthAdjust=\"spacingAndGlyphs\" textLength=\"64\" x=\"36\" y=\"108.6387\">«port def»</text><text fill=\"#000000\" font-family=\"sans-serif\" font-size=\"12\" lengthAdjust=\"spacingAndGlyphs\" textLength=\"8\" x=\"64\" y=\"122.6074\">P</text></a></g><text fill=\"#000000\" font-family=\"sans-serif\" font-size=\"14\" lengthAdjust=\"spacingAndGlyphs\" textLength=\"36\" x=\"577\" y=\"92.6982\">p1: P</text><rect fill=\"#383838\" height=\"12\" style=\"stroke: #F8F8F8; stroke-width: 1.5;\" width=\"12\" x=\"589\" y=\"108\"/><text fill=\"#000000\" font-family=\"sans-serif\" font-size=\"14\" lengthAdjust=\"spacingAndGlyphs\" textLength=\"48\" x=\"618\" y=\"92.6982\">p2: ~P</text><rect fill=\"#383838\" height=\"12\" style=\"stroke: #F8F8F8; stroke-width: 1.5;\" width=\"12\" x=\"636\" y=\"108\"/><text fill=\"#000000\" font-family=\"sans-serif\" font-size=\"14\" lengthAdjust=\"spacingAndGlyphs\" textLength=\"36\" x=\"423\" y=\"92.6982\">p1: P</text><rect fill=\"#383838\" height=\"12\" style=\"stroke: #F8F8F8; stroke-width: 1.5;\" width=\"12\" x=\"435\" y=\"108\"/><text fill=\"#000000\" font-family=\"sans-serif\" font-size=\"14\" lengthAdjust=\"spacingAndGlyphs\" textLength=\"48\" x=\"464\" y=\"92.6982\">p2: ~P</text><rect fill=\"#383838\" height=\"12\" style=\"stroke: #F8F8F8; stroke-width: 1.5;\" width=\"12\" x=\"482\" y=\"108\"/><text fill=\"#000000\" font-family=\"sans-serif\" font-size=\"14\" lengthAdjust=\"spacingAndGlyphs\" textLength=\"36\" x=\"254\" y=\"92.6982\">p1: P</text><rect fill=\"#383838\" height=\"12\" style=\"stroke: #F8F8F8; stroke-width: 1.5;\" width=\"12\" x=\"266\" y=\"108\"/><text fill=\"#000000\" font-family=\"sans-serif\" font-size=\"14\" lengthAdjust=\"spacingAndGlyphs\" textLength=\"48\" x=\"295\" y=\"92.6982\">p2: ~P</text><rect fill=\"#383838\" height=\"12\" style=\"stroke: #F8F8F8; stroke-width: 1.5;\" width=\"12\" x=\"313\" y=\"108\"/><text fill=\"#000000\" font-family=\"sans-serif\" font-size=\"14\" lengthAdjust=\"spacingAndGlyphs\" textLength=\"36\" x=\"132\" y=\"92.6982\">p1: P</text><rect fill=\"#383838\" height=\"12\" style=\"stroke: #F8F8F8; stroke-width: 1.5;\" width=\"12\" x=\"144\" y=\"108\"/><text fill=\"#000000\" font-family=\"sans-serif\" font-size=\"14\" lengthAdjust=\"spacingAndGlyphs\" textLength=\"48\" x=\"173\" y=\"92.6982\">p2: ~P</text><rect fill=\"#383838\" height=\"12\" style=\"stroke: #F8F8F8; stroke-width: 1.5;\" width=\"12\" x=\"191\" y=\"108\"/><!--MD5=[4ce51ac6fa4cf5202df3859e2718f033]\n",
       "link E15 to E14--><a href=\"psysml:8d97a70f-8cd3-421a-99bb-bcc3f52cef04\" target=\"_top\" title=\"psysml:8d97a70f-8cd3-421a-99bb-bcc3f52cef04\" xlink:actuate=\"onRequest\" xlink:href=\"psysml:8d97a70f-8cd3-421a-99bb-bcc3f52cef04\" xlink:show=\"new\" xlink:title=\"psysml:8d97a70f-8cd3-421a-99bb-bcc3f52cef04\" xlink:type=\"simple\"><path d=\"M190.86,114.5 C181.9,114.5 165.34,114.5 156.3,114.5 \" fill=\"none\" id=\"E15-E14\" style=\"stroke: #383838; stroke-width: 3.0;\"/></a><!--MD5=[4ce51ac6fa4cf5202df3859e2718f033]\n",
       "link E15 to E14--><a href=\"psysml:4e5d56fb-a30b-410a-93da-f699910e5442\" target=\"_top\" title=\"psysml:4e5d56fb-a30b-410a-93da-f699910e5442\" xlink:actuate=\"onRequest\" xlink:href=\"psysml:4e5d56fb-a30b-410a-93da-f699910e5442\" xlink:show=\"new\" xlink:title=\"psysml:4e5d56fb-a30b-410a-93da-f699910e5442\" xlink:type=\"simple\"><path d=\"M190.86,117.5 C181.9,117.5 165.34,117.5 156.3,117.5 \" fill=\"none\" id=\"E15-E14-1\" style=\"stroke: #383838; stroke-width: 3.0;\"/></a><!--MD5=[3a3b7e06ab8ec72034aba9ff0392bb95]\n",
       "@startuml\r\n",
       "skinparam ranksep 10\r\n",
       "skinparam rectangle {\r\n",
       " backgroundColor<<block>> LightGreen\r\n",
       "}\r\n",
       "skinparam linetype ortho\r\n",
       "skinparam monochrome true\r\n",
       "skinparam classbackgroundcolor white\r\n",
       "skinparam shadowing false\r\n",
       "skinparam wrapWidth 300\r\n",
       "hide circle\r\n",
       "\r\n",
       "package \"ConjugationTest\" as E1  [[psysml:4ba0ad9e-a677-47db-af1d-b015e8f93aef ]]  {\r\n",
       "def \"P\" as E2  <<(T,blue)port def>> [[psysml:0d231d17-09c4-40d0-a4bc-6d43713d1eea ]] \r\n",
       "rec def \"B\" as E3  <<(T,blue)part def>> [[psysml:1fca8384-68db-4c35-8908-d644a05ab33b ]] {\r\n",
       "portin \"p1: P\" as E4  <<(T,blue)port>> [[psysml:ac9a4e52-d9d9-4ed8-9786-da9347d8a24d ]] \r\n",
       "portin \"p2: ~P\" as E5  <<(T,blue)port>> [[psysml:dd7140d6-57c4-455c-b235-fe627e1ecfff ]] \r\n",
       "}\r\n",
       "rec def \"A\" as E6  <<(T,blue)connection def>> [[psysml:d9048fa2-8c0d-4237-aabb-192a68938198 ]] {\r\n",
       "portin \"p1: P\" as E7  <<(T,blue)port>> [[psysml:135e4066-7c15-417d-820e-373a33adf188 ]] \r\n",
       "portin \"p2: ~P\" as E8  <<(T,blue)port>> [[psysml:242160d8-1eb8-4593-9cf8-95e70ea0b9fa ]] \r\n",
       "}\r\n",
       "rec def \"I\" as E9  <<(T,blue)interface def>> [[psysml:b68d4e65-0a25-4b32-9474-7d6b33189e06 ]] {\r\n",
       "portin \"p1: P\" as E10  <<(T,blue)port>> [[psysml:c610f798-3696-48d0-b489-00c6b6b02c5c ]] \r\n",
       "portin \"p2: ~P\" as E11  <<(T,blue)port>> [[psysml:82b7a088-1726-4de6-92a0-2f3113dfc02a ]] \r\n",
       "}\r\n",
       "rec def \"B1\" as E12  <<(T,blue)part def>> [[psysml:4bc8843d-d10d-4f46-93fe-21c75269e8aa ]] {\r\n",
       "rec usage \"p\" as E13  [[psysml:37b5f10a-21e5-48b2-b2b2-bc5c291ce903 ]] {\r\n",
       "portin \"p1: P\" as E14  <<(T,blue)port>> [[psysml:c9e1cbea-e956-4380-9b02-2ad2a26c5224 ]] \r\n",
       "portin \"p2: ~P\" as E15  <<(T,blue)port>> [[psysml:91fc773b-55a8-419c-8531-23cd35b1b670 ]] \r\n",
       "}\r\n",
       "}\r\n",
       "E15 -[thickness=3]- E14 [[psysml:8d97a70f-8cd3-421a-99bb-bcc3f52cef04 ]] \r\n",
       "E15 -[thickness=3]- E14 [[psysml:4e5d56fb-a30b-410a-93da-f699910e5442 ]] \r\n",
       "}\r\n",
       "@enduml\r\n",
       "\n",
       "PlantUML version 1.2020.13(Sat Jun 13 12:26:38 UTC 2020)\n",
       "(EPL source distribution)\n",
       "Java Runtime: OpenJDK Runtime Environment\n",
       "JVM: OpenJDK 64-Bit Server VM\n",
       "Default Encoding: UTF-8\n",
       "Language: en\n",
       "Country: null\n",
       "--></g></svg>"
      ]
     },
     "execution_count": 54,
     "metadata": {},
     "output_type": "execute_result"
    }
   ],
   "source": [
    "%viz --style=\"ORTHOLINE\" --view=\"Interconnection\" \"ConjugationTest\""
   ]
  },
  {
   "cell_type": "code",
   "execution_count": 55,
   "id": "basic-february",
   "metadata": {
    "execution": {
     "iopub.execute_input": "2021-03-24T16:29:22.418416Z",
     "iopub.status.busy": "2021-03-24T16:29:22.417909Z",
     "iopub.status.idle": "2021-03-24T16:29:22.423508Z",
     "shell.execute_reply": "2021-03-24T16:29:22.423153Z"
    }
   },
   "outputs": [
    {
     "data": {
      "image/svg+xml": [
       "<?xml version=\"1.0\" encoding=\"UTF-8\" standalone=\"no\"?><svg xmlns=\"http://www.w3.org/2000/svg\" xmlns:xlink=\"http://www.w3.org/1999/xlink\" contentScriptType=\"application/ecmascript\" contentStyleType=\"text/css\" height=\"12px\" preserveAspectRatio=\"none\" style=\"width:12px;height:12px;\" version=\"1.1\" viewBox=\"0 0 12 12\" width=\"12px\" zoomAndPan=\"magnify\"><defs/><g><!--MD5=[72934c63077099a26744516a776b4749]\n",
       "@startuml\r\n",
       "skinparam ranksep 8\r\n",
       "skinparam linetype ortho\r\n",
       "skinparam monochrome true\r\n",
       "skinparam classbackgroundcolor white\r\n",
       "skinparam shadowing false\r\n",
       "skinparam wrapWidth 300\r\n",
       "hide circle\r\n",
       "\r\n",
       "@enduml\r\n",
       "\n",
       "PlantUML version 1.2020.13(Sat Jun 13 12:26:38 UTC 2020)\n",
       "(EPL source distribution)\n",
       "Java Runtime: OpenJDK Runtime Environment\n",
       "JVM: OpenJDK 64-Bit Server VM\n",
       "Default Encoding: UTF-8\n",
       "Language: en\n",
       "Country: null\n",
       "--></g></svg>"
      ]
     },
     "execution_count": 55,
     "metadata": {},
     "output_type": "execute_result"
    }
   ],
   "source": [
    "%viz --style=\"ORTHOLINE\" --view=\"Action\" \"ConjugationTest\""
   ]
  },
  {
   "cell_type": "code",
   "execution_count": 56,
   "id": "through-shaft",
   "metadata": {
    "execution": {
     "iopub.execute_input": "2021-03-24T16:29:22.475592Z",
     "iopub.status.busy": "2021-03-24T16:29:22.474425Z",
     "iopub.status.idle": "2021-03-24T16:29:22.556005Z",
     "shell.execute_reply": "2021-03-24T16:29:22.555338Z"
    }
   },
   "outputs": [
    {
     "data": {
      "image/svg+xml": [
       "<?xml version=\"1.0\" encoding=\"UTF-8\" standalone=\"no\"?><svg xmlns=\"http://www.w3.org/2000/svg\" xmlns:xlink=\"http://www.w3.org/1999/xlink\" contentScriptType=\"application/ecmascript\" contentStyleType=\"text/css\" height=\"305px\" preserveAspectRatio=\"none\" style=\"width:614px;height:305px;\" version=\"1.1\" viewBox=\"0 0 614 305\" width=\"614px\" zoomAndPan=\"magnify\"><defs/><g><!--MD5=[fbc87193dbaf4d95561dea2c320d4a47]\n",
       "cluster E1--><a href=\"psysml:4ba0ad9e-a677-47db-af1d-b015e8f93aef\" target=\"_top\" title=\"psysml:4ba0ad9e-a677-47db-af1d-b015e8f93aef\" xlink:actuate=\"onRequest\" xlink:href=\"psysml:4ba0ad9e-a677-47db-af1d-b015e8f93aef\" xlink:show=\"new\" xlink:title=\"psysml:4ba0ad9e-a677-47db-af1d-b015e8f93aef\" xlink:type=\"simple\"><polygon fill=\"#FFFFFF\" points=\"16,6,151,6,158,28.2969,592,28.2969,592,293,16,293,16,6\" style=\"stroke: #000000; stroke-width: 1.5;\"/><line style=\"stroke: #000000; stroke-width: 1.5;\" x1=\"16\" x2=\"158\" y1=\"28.2969\" y2=\"28.2969\"/><text fill=\"#000000\" font-family=\"sans-serif\" font-size=\"14\" font-weight=\"bold\" lengthAdjust=\"spacingAndGlyphs\" textLength=\"129\" x=\"20\" y=\"20.9951\">ConjugationTest</text></a><!--MD5=[b4997ac47864f28c2f74865a473b2911]\n",
       "class E2--><a href=\"psysml:0d231d17-09c4-40d0-a4bc-6d43713d1eea\" target=\"_top\" title=\"psysml:0d231d17-09c4-40d0-a4bc-6d43713d1eea\" xlink:actuate=\"onRequest\" xlink:href=\"psysml:0d231d17-09c4-40d0-a4bc-6d43713d1eea\" xlink:show=\"new\" xlink:title=\"psysml:0d231d17-09c4-40d0-a4bc-6d43713d1eea\" xlink:type=\"simple\"><rect fill=\"#FFFFFF\" height=\"45.9375\" id=\"E2\" style=\"stroke: #383838; stroke-width: 1.5;\" width=\"66\" x=\"510\" y=\"62\"/><text fill=\"#000000\" font-family=\"sans-serif\" font-size=\"12\" font-style=\"italic\" lengthAdjust=\"spacingAndGlyphs\" textLength=\"64\" x=\"511\" y=\"78.1387\">«port def»</text><text fill=\"#000000\" font-family=\"sans-serif\" font-size=\"12\" lengthAdjust=\"spacingAndGlyphs\" textLength=\"8\" x=\"539\" y=\"92.1074\">P</text><line style=\"stroke: #383838; stroke-width: 1.5;\" x1=\"511\" x2=\"575\" y1=\"99.9375\" y2=\"99.9375\"/></a><!--MD5=[09b614a08d8cba4a07c9adeb5e0fee81]\n",
       "class E3--><a href=\"psysml:1fca8384-68db-4c35-8908-d644a05ab33b\" target=\"_top\" title=\"psysml:1fca8384-68db-4c35-8908-d644a05ab33b\" xlink:actuate=\"onRequest\" xlink:href=\"psysml:1fca8384-68db-4c35-8908-d644a05ab33b\" xlink:show=\"new\" xlink:title=\"psysml:1fca8384-68db-4c35-8908-d644a05ab33b\" xlink:type=\"simple\"><rect fill=\"#FFFFFF\" height=\"88.3516\" id=\"E3\" style=\"stroke: #383838; stroke-width: 1.5;\" width=\"66\" x=\"409\" y=\"41\"/><text fill=\"#000000\" font-family=\"sans-serif\" font-size=\"12\" font-style=\"italic\" lengthAdjust=\"spacingAndGlyphs\" textLength=\"64\" x=\"410\" y=\"57.1387\">«part def»</text><text fill=\"#000000\" font-family=\"sans-serif\" font-size=\"12\" lengthAdjust=\"spacingAndGlyphs\" textLength=\"8\" x=\"438\" y=\"71.1074\">B</text><line style=\"stroke: #383838; stroke-width: 1.5;\" x1=\"410\" x2=\"474\" y1=\"78.9375\" y2=\"78.9375\"/><text fill=\"#000000\" font-family=\"sans-serif\" font-size=\"11\" lengthAdjust=\"spacingAndGlyphs\" textLength=\"29\" x=\"415\" y=\"109.9526\">p1: P</text><text fill=\"#000000\" font-family=\"sans-serif\" font-size=\"11\" lengthAdjust=\"spacingAndGlyphs\" textLength=\"38\" x=\"415\" y=\"122.7573\">p2: ~P</text><line style=\"stroke: #383838; stroke-width: 1.0;\" x1=\"410\" x2=\"427\" y1=\"93.3398\" y2=\"93.3398\"/><text fill=\"#000000\" font-family=\"sans-serif\" font-size=\"11\" lengthAdjust=\"spacingAndGlyphs\" textLength=\"30\" x=\"427\" y=\"96.6479\">ports</text><line style=\"stroke: #383838; stroke-width: 1.0;\" x1=\"457\" x2=\"474\" y1=\"93.3398\" y2=\"93.3398\"/></a><!--MD5=[60a26617385b1d2d0262a64233df1f8d]\n",
       "class E6--><a href=\"psysml:d9048fa2-8c0d-4237-aabb-192a68938198\" target=\"_top\" title=\"psysml:d9048fa2-8c0d-4237-aabb-192a68938198\" xlink:actuate=\"onRequest\" xlink:href=\"psysml:d9048fa2-8c0d-4237-aabb-192a68938198\" xlink:show=\"new\" xlink:title=\"psysml:d9048fa2-8c0d-4237-aabb-192a68938198\" xlink:type=\"simple\"><rect fill=\"#FFFFFF\" height=\"88.3516\" id=\"E6\" style=\"stroke: #383838; stroke-width: 1.5;\" width=\"110\" x=\"264\" y=\"41\"/><text fill=\"#000000\" font-family=\"sans-serif\" font-size=\"12\" font-style=\"italic\" lengthAdjust=\"spacingAndGlyphs\" textLength=\"108\" x=\"265\" y=\"57.1387\">«connection def»</text><text fill=\"#000000\" font-family=\"sans-serif\" font-size=\"12\" lengthAdjust=\"spacingAndGlyphs\" textLength=\"8\" x=\"315\" y=\"71.1074\">A</text><line style=\"stroke: #383838; stroke-width: 1.5;\" x1=\"265\" x2=\"373\" y1=\"78.9375\" y2=\"78.9375\"/><text fill=\"#000000\" font-family=\"sans-serif\" font-size=\"11\" lengthAdjust=\"spacingAndGlyphs\" textLength=\"29\" x=\"270\" y=\"109.9526\">p1: P</text><text fill=\"#000000\" font-family=\"sans-serif\" font-size=\"11\" lengthAdjust=\"spacingAndGlyphs\" textLength=\"38\" x=\"270\" y=\"122.7573\">p2: ~P</text><line style=\"stroke: #383838; stroke-width: 1.0;\" x1=\"265\" x2=\"304\" y1=\"93.3398\" y2=\"93.3398\"/><text fill=\"#000000\" font-family=\"sans-serif\" font-size=\"11\" lengthAdjust=\"spacingAndGlyphs\" textLength=\"30\" x=\"304\" y=\"96.6479\">ports</text><line style=\"stroke: #383838; stroke-width: 1.0;\" x1=\"334\" x2=\"373\" y1=\"93.3398\" y2=\"93.3398\"/></a><!--MD5=[fd4143e9d270a159db93a4ea2a975926]\n",
       "class E9--><a href=\"psysml:b68d4e65-0a25-4b32-9474-7d6b33189e06\" target=\"_top\" title=\"psysml:b68d4e65-0a25-4b32-9474-7d6b33189e06\" xlink:actuate=\"onRequest\" xlink:href=\"psysml:b68d4e65-0a25-4b32-9474-7d6b33189e06\" xlink:show=\"new\" xlink:title=\"psysml:b68d4e65-0a25-4b32-9474-7d6b33189e06\" xlink:type=\"simple\"><rect fill=\"#FFFFFF\" height=\"88.3516\" id=\"E9\" style=\"stroke: #383838; stroke-width: 1.5;\" width=\"96\" x=\"133\" y=\"41\"/><text fill=\"#000000\" font-family=\"sans-serif\" font-size=\"12\" font-style=\"italic\" lengthAdjust=\"spacingAndGlyphs\" textLength=\"94\" x=\"134\" y=\"57.1387\">«interface def»</text><text fill=\"#000000\" font-family=\"sans-serif\" font-size=\"12\" lengthAdjust=\"spacingAndGlyphs\" textLength=\"3\" x=\"179.5\" y=\"71.1074\">I</text><line style=\"stroke: #383838; stroke-width: 1.5;\" x1=\"134\" x2=\"228\" y1=\"78.9375\" y2=\"78.9375\"/><text fill=\"#000000\" font-family=\"sans-serif\" font-size=\"11\" lengthAdjust=\"spacingAndGlyphs\" textLength=\"29\" x=\"139\" y=\"109.9526\">p1: P</text><text fill=\"#000000\" font-family=\"sans-serif\" font-size=\"11\" lengthAdjust=\"spacingAndGlyphs\" textLength=\"38\" x=\"139\" y=\"122.7573\">p2: ~P</text><line style=\"stroke: #383838; stroke-width: 1.0;\" x1=\"134\" x2=\"166\" y1=\"93.3398\" y2=\"93.3398\"/><text fill=\"#000000\" font-family=\"sans-serif\" font-size=\"11\" lengthAdjust=\"spacingAndGlyphs\" textLength=\"30\" x=\"166\" y=\"96.6479\">ports</text><line style=\"stroke: #383838; stroke-width: 1.0;\" x1=\"196\" x2=\"228\" y1=\"93.3398\" y2=\"93.3398\"/></a><!--MD5=[49a0ec8f00dab7302a31f22d0f0fe584]\n",
       "class E12--><a href=\"psysml:4bc8843d-d10d-4f46-93fe-21c75269e8aa\" target=\"_top\" title=\"psysml:4bc8843d-d10d-4f46-93fe-21c75269e8aa\" xlink:actuate=\"onRequest\" xlink:href=\"psysml:4bc8843d-d10d-4f46-93fe-21c75269e8aa\" xlink:show=\"new\" xlink:title=\"psysml:4bc8843d-d10d-4f46-93fe-21c75269e8aa\" xlink:type=\"simple\"><rect fill=\"#FFFFFF\" height=\"45.9375\" id=\"E12\" style=\"stroke: #383838; stroke-width: 1.5;\" width=\"66\" x=\"32\" y=\"62\"/><text fill=\"#000000\" font-family=\"sans-serif\" font-size=\"12\" font-style=\"italic\" lengthAdjust=\"spacingAndGlyphs\" textLength=\"64\" x=\"33\" y=\"78.1387\">«part def»</text><text fill=\"#000000\" font-family=\"sans-serif\" font-size=\"12\" lengthAdjust=\"spacingAndGlyphs\" textLength=\"16\" x=\"57\" y=\"92.1074\">B1</text><line style=\"stroke: #383838; stroke-width: 1.5;\" x1=\"33\" x2=\"97\" y1=\"99.9375\" y2=\"99.9375\"/></a><!--MD5=[ee3c913d1a06f366521f9ef512b67efe]\n",
       "class E13--><a href=\"psysml:37b5f10a-21e5-48b2-b2b2-bc5c291ce903\" target=\"_top\" title=\"psysml:37b5f10a-21e5-48b2-b2b2-bc5c291ce903\" xlink:actuate=\"onRequest\" xlink:href=\"psysml:37b5f10a-21e5-48b2-b2b2-bc5c291ce903\" xlink:show=\"new\" xlink:title=\"psysml:37b5f10a-21e5-48b2-b2b2-bc5c291ce903\" xlink:type=\"simple\"><rect fill=\"#FFFFFF\" height=\"88.3516\" id=\"E13\" rx=\"10\" ry=\"10\" style=\"stroke: #383838; stroke-width: 1.5;\" width=\"50\" x=\"40\" y=\"189\"/><text fill=\"#000000\" font-family=\"sans-serif\" font-size=\"12\" font-style=\"italic\" lengthAdjust=\"spacingAndGlyphs\" textLength=\"40\" x=\"45\" y=\"205.1387\">«part»</text><text fill=\"#000000\" font-family=\"sans-serif\" font-size=\"12\" lengthAdjust=\"spacingAndGlyphs\" textLength=\"8\" x=\"61\" y=\"219.1074\">p</text><line style=\"stroke: #383838; stroke-width: 1.5;\" x1=\"41\" x2=\"89\" y1=\"226.9375\" y2=\"226.9375\"/><text fill=\"#000000\" font-family=\"sans-serif\" font-size=\"11\" lengthAdjust=\"spacingAndGlyphs\" textLength=\"29\" x=\"46\" y=\"257.9526\">p1: P</text><text fill=\"#000000\" font-family=\"sans-serif\" font-size=\"11\" lengthAdjust=\"spacingAndGlyphs\" textLength=\"38\" x=\"46\" y=\"270.7573\">p2: ~P</text><line style=\"stroke: #383838; stroke-width: 1.0;\" x1=\"41\" x2=\"50\" y1=\"241.3398\" y2=\"241.3398\"/><text fill=\"#000000\" font-family=\"sans-serif\" font-size=\"11\" lengthAdjust=\"spacingAndGlyphs\" textLength=\"30\" x=\"50\" y=\"244.6479\">ports</text><line style=\"stroke: #383838; stroke-width: 1.0;\" x1=\"80\" x2=\"89\" y1=\"241.3398\" y2=\"241.3398\"/></a><!--MD5=[062ed86c389d1a88f61c6380d0491e17]\n",
       "reverse link E12 to E13--><a href=\"psysml:37b5f10a-21e5-48b2-b2b2-bc5c291ce903\" target=\"_top\" title=\"psysml:37b5f10a-21e5-48b2-b2b2-bc5c291ce903\" xlink:actuate=\"onRequest\" xlink:href=\"psysml:37b5f10a-21e5-48b2-b2b2-bc5c291ce903\" xlink:show=\"new\" xlink:title=\"psysml:37b5f10a-21e5-48b2-b2b2-bc5c291ce903\" xlink:type=\"simple\"><path d=\"M65,121.12 C65,121.12 65,188.9 65,188.9 \" fill=\"none\" id=\"E12&lt;-E13\" style=\"stroke: #383838; stroke-width: 1.0;\"/><polygon fill=\"#383838\" points=\"65,108.12,61.0066,114.1244,65.0132,120.12,69.0066,114.1156,65,108.12\" style=\"stroke: #383838; stroke-width: 1.0;\"/></a><!--MD5=[014e257a49b2276fb8d196c59e129ef3]\n",
       "@startuml\r\n",
       "skinparam linetype ortho\r\n",
       "skinparam monochrome true\r\n",
       "skinparam classbackgroundcolor white\r\n",
       "skinparam shadowing false\r\n",
       "skinparam wrapWidth 300\r\n",
       "hide circle\r\n",
       "\r\n",
       "package \"ConjugationTest\" as E1  [[psysml:4ba0ad9e-a677-47db-af1d-b015e8f93aef ]]  {\r\n",
       "comp def \"P\" as E2  <<(T,blue)port def>> [[psysml:0d231d17-09c4-40d0-a4bc-6d43713d1eea ]] {\r\n",
       "}\r\n",
       "comp def \"B\" as E3  <<(T,blue)part def>> [[psysml:1fca8384-68db-4c35-8908-d644a05ab33b ]] {\r\n",
       "- - ports - -\r\n",
       "p1: P\r\n",
       "p2: ~P\r\n",
       "}\r\n",
       "comp def \"A\" as E6  <<(T,blue)connection def>> [[psysml:d9048fa2-8c0d-4237-aabb-192a68938198 ]] {\r\n",
       "- - ports - -\r\n",
       "p1: P\r\n",
       "p2: ~P\r\n",
       "}\r\n",
       "comp def \"I\" as E9  <<(T,blue)interface def>> [[psysml:b68d4e65-0a25-4b32-9474-7d6b33189e06 ]] {\r\n",
       "- - ports - -\r\n",
       "p1: P\r\n",
       "p2: ~P\r\n",
       "}\r\n",
       "comp def \"B1\" as E12  <<(T,blue)part def>> [[psysml:4bc8843d-d10d-4f46-93fe-21c75269e8aa ]] {\r\n",
       "}\r\n",
       "comp usage \"p\" as E13  <<(T,blue)part>> [[psysml:37b5f10a-21e5-48b2-b2b2-bc5c291ce903 ]] {\r\n",
       "- - ports - -\r\n",
       "p1: P\r\n",
       "p2: ~P\r\n",
       "}\r\n",
       "E12 *- - E13 [[psysml:37b5f10a-21e5-48b2-b2b2-bc5c291ce903 ]] \r\n",
       "}\r\n",
       "@enduml\r\n",
       "\n",
       "PlantUML version 1.2020.13(Sat Jun 13 12:26:38 UTC 2020)\n",
       "(EPL source distribution)\n",
       "Java Runtime: OpenJDK Runtime Environment\n",
       "JVM: OpenJDK 64-Bit Server VM\n",
       "Default Encoding: UTF-8\n",
       "Language: en\n",
       "Country: null\n",
       "--></g></svg>"
      ]
     },
     "execution_count": 56,
     "metadata": {},
     "output_type": "execute_result"
    }
   ],
   "source": [
    "%viz --style=\"ORTHOLINE\" --view=\"Sequence\" \"ConjugationTest\""
   ]
  },
  {
   "cell_type": "code",
   "execution_count": 57,
   "id": "round-stage",
   "metadata": {
    "execution": {
     "iopub.execute_input": "2021-03-24T16:29:22.605499Z",
     "iopub.status.busy": "2021-03-24T16:29:22.605154Z",
     "iopub.status.idle": "2021-03-24T16:29:22.682384Z",
     "shell.execute_reply": "2021-03-24T16:29:22.680735Z"
    }
   },
   "outputs": [
    {
     "data": {
      "image/svg+xml": [
       "<?xml version=\"1.0\" encoding=\"UTF-8\" standalone=\"no\"?><svg xmlns=\"http://www.w3.org/2000/svg\" xmlns:xlink=\"http://www.w3.org/1999/xlink\" contentScriptType=\"application/ecmascript\" contentStyleType=\"text/css\" height=\"305px\" preserveAspectRatio=\"none\" style=\"width:614px;height:305px;\" version=\"1.1\" viewBox=\"0 0 614 305\" width=\"614px\" zoomAndPan=\"magnify\"><defs/><g><!--MD5=[fbc87193dbaf4d95561dea2c320d4a47]\n",
       "cluster E1--><a href=\"psysml:4ba0ad9e-a677-47db-af1d-b015e8f93aef\" target=\"_top\" title=\"psysml:4ba0ad9e-a677-47db-af1d-b015e8f93aef\" xlink:actuate=\"onRequest\" xlink:href=\"psysml:4ba0ad9e-a677-47db-af1d-b015e8f93aef\" xlink:show=\"new\" xlink:title=\"psysml:4ba0ad9e-a677-47db-af1d-b015e8f93aef\" xlink:type=\"simple\"><polygon fill=\"#FFFFFF\" points=\"16,6,151,6,158,28.2969,592,28.2969,592,293,16,293,16,6\" style=\"stroke: #000000; stroke-width: 1.5;\"/><line style=\"stroke: #000000; stroke-width: 1.5;\" x1=\"16\" x2=\"158\" y1=\"28.2969\" y2=\"28.2969\"/><text fill=\"#000000\" font-family=\"sans-serif\" font-size=\"14\" font-weight=\"bold\" lengthAdjust=\"spacingAndGlyphs\" textLength=\"129\" x=\"20\" y=\"20.9951\">ConjugationTest</text></a><!--MD5=[b4997ac47864f28c2f74865a473b2911]\n",
       "class E2--><a href=\"psysml:0d231d17-09c4-40d0-a4bc-6d43713d1eea\" target=\"_top\" title=\"psysml:0d231d17-09c4-40d0-a4bc-6d43713d1eea\" xlink:actuate=\"onRequest\" xlink:href=\"psysml:0d231d17-09c4-40d0-a4bc-6d43713d1eea\" xlink:show=\"new\" xlink:title=\"psysml:0d231d17-09c4-40d0-a4bc-6d43713d1eea\" xlink:type=\"simple\"><rect fill=\"#FFFFFF\" height=\"45.9375\" id=\"E2\" style=\"stroke: #383838; stroke-width: 1.5;\" width=\"66\" x=\"510\" y=\"62\"/><text fill=\"#000000\" font-family=\"sans-serif\" font-size=\"12\" font-style=\"italic\" lengthAdjust=\"spacingAndGlyphs\" textLength=\"64\" x=\"511\" y=\"78.1387\">«port def»</text><text fill=\"#000000\" font-family=\"sans-serif\" font-size=\"12\" lengthAdjust=\"spacingAndGlyphs\" textLength=\"8\" x=\"539\" y=\"92.1074\">P</text><line style=\"stroke: #383838; stroke-width: 1.5;\" x1=\"511\" x2=\"575\" y1=\"99.9375\" y2=\"99.9375\"/></a><!--MD5=[09b614a08d8cba4a07c9adeb5e0fee81]\n",
       "class E3--><a href=\"psysml:1fca8384-68db-4c35-8908-d644a05ab33b\" target=\"_top\" title=\"psysml:1fca8384-68db-4c35-8908-d644a05ab33b\" xlink:actuate=\"onRequest\" xlink:href=\"psysml:1fca8384-68db-4c35-8908-d644a05ab33b\" xlink:show=\"new\" xlink:title=\"psysml:1fca8384-68db-4c35-8908-d644a05ab33b\" xlink:type=\"simple\"><rect fill=\"#FFFFFF\" height=\"88.3516\" id=\"E3\" style=\"stroke: #383838; stroke-width: 1.5;\" width=\"66\" x=\"409\" y=\"41\"/><text fill=\"#000000\" font-family=\"sans-serif\" font-size=\"12\" font-style=\"italic\" lengthAdjust=\"spacingAndGlyphs\" textLength=\"64\" x=\"410\" y=\"57.1387\">«part def»</text><text fill=\"#000000\" font-family=\"sans-serif\" font-size=\"12\" lengthAdjust=\"spacingAndGlyphs\" textLength=\"8\" x=\"438\" y=\"71.1074\">B</text><line style=\"stroke: #383838; stroke-width: 1.5;\" x1=\"410\" x2=\"474\" y1=\"78.9375\" y2=\"78.9375\"/><text fill=\"#000000\" font-family=\"sans-serif\" font-size=\"11\" lengthAdjust=\"spacingAndGlyphs\" textLength=\"29\" x=\"415\" y=\"109.9526\">p1: P</text><text fill=\"#000000\" font-family=\"sans-serif\" font-size=\"11\" lengthAdjust=\"spacingAndGlyphs\" textLength=\"38\" x=\"415\" y=\"122.7573\">p2: ~P</text><line style=\"stroke: #383838; stroke-width: 1.0;\" x1=\"410\" x2=\"427\" y1=\"93.3398\" y2=\"93.3398\"/><text fill=\"#000000\" font-family=\"sans-serif\" font-size=\"11\" lengthAdjust=\"spacingAndGlyphs\" textLength=\"30\" x=\"427\" y=\"96.6479\">ports</text><line style=\"stroke: #383838; stroke-width: 1.0;\" x1=\"457\" x2=\"474\" y1=\"93.3398\" y2=\"93.3398\"/></a><!--MD5=[60a26617385b1d2d0262a64233df1f8d]\n",
       "class E6--><a href=\"psysml:d9048fa2-8c0d-4237-aabb-192a68938198\" target=\"_top\" title=\"psysml:d9048fa2-8c0d-4237-aabb-192a68938198\" xlink:actuate=\"onRequest\" xlink:href=\"psysml:d9048fa2-8c0d-4237-aabb-192a68938198\" xlink:show=\"new\" xlink:title=\"psysml:d9048fa2-8c0d-4237-aabb-192a68938198\" xlink:type=\"simple\"><rect fill=\"#FFFFFF\" height=\"88.3516\" id=\"E6\" style=\"stroke: #383838; stroke-width: 1.5;\" width=\"110\" x=\"264\" y=\"41\"/><text fill=\"#000000\" font-family=\"sans-serif\" font-size=\"12\" font-style=\"italic\" lengthAdjust=\"spacingAndGlyphs\" textLength=\"108\" x=\"265\" y=\"57.1387\">«connection def»</text><text fill=\"#000000\" font-family=\"sans-serif\" font-size=\"12\" lengthAdjust=\"spacingAndGlyphs\" textLength=\"8\" x=\"315\" y=\"71.1074\">A</text><line style=\"stroke: #383838; stroke-width: 1.5;\" x1=\"265\" x2=\"373\" y1=\"78.9375\" y2=\"78.9375\"/><text fill=\"#000000\" font-family=\"sans-serif\" font-size=\"11\" lengthAdjust=\"spacingAndGlyphs\" textLength=\"29\" x=\"270\" y=\"109.9526\">p1: P</text><text fill=\"#000000\" font-family=\"sans-serif\" font-size=\"11\" lengthAdjust=\"spacingAndGlyphs\" textLength=\"38\" x=\"270\" y=\"122.7573\">p2: ~P</text><line style=\"stroke: #383838; stroke-width: 1.0;\" x1=\"265\" x2=\"304\" y1=\"93.3398\" y2=\"93.3398\"/><text fill=\"#000000\" font-family=\"sans-serif\" font-size=\"11\" lengthAdjust=\"spacingAndGlyphs\" textLength=\"30\" x=\"304\" y=\"96.6479\">ports</text><line style=\"stroke: #383838; stroke-width: 1.0;\" x1=\"334\" x2=\"373\" y1=\"93.3398\" y2=\"93.3398\"/></a><!--MD5=[fd4143e9d270a159db93a4ea2a975926]\n",
       "class E9--><a href=\"psysml:b68d4e65-0a25-4b32-9474-7d6b33189e06\" target=\"_top\" title=\"psysml:b68d4e65-0a25-4b32-9474-7d6b33189e06\" xlink:actuate=\"onRequest\" xlink:href=\"psysml:b68d4e65-0a25-4b32-9474-7d6b33189e06\" xlink:show=\"new\" xlink:title=\"psysml:b68d4e65-0a25-4b32-9474-7d6b33189e06\" xlink:type=\"simple\"><rect fill=\"#FFFFFF\" height=\"88.3516\" id=\"E9\" style=\"stroke: #383838; stroke-width: 1.5;\" width=\"96\" x=\"133\" y=\"41\"/><text fill=\"#000000\" font-family=\"sans-serif\" font-size=\"12\" font-style=\"italic\" lengthAdjust=\"spacingAndGlyphs\" textLength=\"94\" x=\"134\" y=\"57.1387\">«interface def»</text><text fill=\"#000000\" font-family=\"sans-serif\" font-size=\"12\" lengthAdjust=\"spacingAndGlyphs\" textLength=\"3\" x=\"179.5\" y=\"71.1074\">I</text><line style=\"stroke: #383838; stroke-width: 1.5;\" x1=\"134\" x2=\"228\" y1=\"78.9375\" y2=\"78.9375\"/><text fill=\"#000000\" font-family=\"sans-serif\" font-size=\"11\" lengthAdjust=\"spacingAndGlyphs\" textLength=\"29\" x=\"139\" y=\"109.9526\">p1: P</text><text fill=\"#000000\" font-family=\"sans-serif\" font-size=\"11\" lengthAdjust=\"spacingAndGlyphs\" textLength=\"38\" x=\"139\" y=\"122.7573\">p2: ~P</text><line style=\"stroke: #383838; stroke-width: 1.0;\" x1=\"134\" x2=\"166\" y1=\"93.3398\" y2=\"93.3398\"/><text fill=\"#000000\" font-family=\"sans-serif\" font-size=\"11\" lengthAdjust=\"spacingAndGlyphs\" textLength=\"30\" x=\"166\" y=\"96.6479\">ports</text><line style=\"stroke: #383838; stroke-width: 1.0;\" x1=\"196\" x2=\"228\" y1=\"93.3398\" y2=\"93.3398\"/></a><!--MD5=[49a0ec8f00dab7302a31f22d0f0fe584]\n",
       "class E12--><a href=\"psysml:4bc8843d-d10d-4f46-93fe-21c75269e8aa\" target=\"_top\" title=\"psysml:4bc8843d-d10d-4f46-93fe-21c75269e8aa\" xlink:actuate=\"onRequest\" xlink:href=\"psysml:4bc8843d-d10d-4f46-93fe-21c75269e8aa\" xlink:show=\"new\" xlink:title=\"psysml:4bc8843d-d10d-4f46-93fe-21c75269e8aa\" xlink:type=\"simple\"><rect fill=\"#FFFFFF\" height=\"45.9375\" id=\"E12\" style=\"stroke: #383838; stroke-width: 1.5;\" width=\"66\" x=\"32\" y=\"62\"/><text fill=\"#000000\" font-family=\"sans-serif\" font-size=\"12\" font-style=\"italic\" lengthAdjust=\"spacingAndGlyphs\" textLength=\"64\" x=\"33\" y=\"78.1387\">«part def»</text><text fill=\"#000000\" font-family=\"sans-serif\" font-size=\"12\" lengthAdjust=\"spacingAndGlyphs\" textLength=\"16\" x=\"57\" y=\"92.1074\">B1</text><line style=\"stroke: #383838; stroke-width: 1.5;\" x1=\"33\" x2=\"97\" y1=\"99.9375\" y2=\"99.9375\"/></a><!--MD5=[ee3c913d1a06f366521f9ef512b67efe]\n",
       "class E13--><a href=\"psysml:37b5f10a-21e5-48b2-b2b2-bc5c291ce903\" target=\"_top\" title=\"psysml:37b5f10a-21e5-48b2-b2b2-bc5c291ce903\" xlink:actuate=\"onRequest\" xlink:href=\"psysml:37b5f10a-21e5-48b2-b2b2-bc5c291ce903\" xlink:show=\"new\" xlink:title=\"psysml:37b5f10a-21e5-48b2-b2b2-bc5c291ce903\" xlink:type=\"simple\"><rect fill=\"#FFFFFF\" height=\"88.3516\" id=\"E13\" rx=\"10\" ry=\"10\" style=\"stroke: #383838; stroke-width: 1.5;\" width=\"50\" x=\"40\" y=\"189\"/><text fill=\"#000000\" font-family=\"sans-serif\" font-size=\"12\" font-style=\"italic\" lengthAdjust=\"spacingAndGlyphs\" textLength=\"40\" x=\"45\" y=\"205.1387\">«part»</text><text fill=\"#000000\" font-family=\"sans-serif\" font-size=\"12\" lengthAdjust=\"spacingAndGlyphs\" textLength=\"8\" x=\"61\" y=\"219.1074\">p</text><line style=\"stroke: #383838; stroke-width: 1.5;\" x1=\"41\" x2=\"89\" y1=\"226.9375\" y2=\"226.9375\"/><text fill=\"#000000\" font-family=\"sans-serif\" font-size=\"11\" lengthAdjust=\"spacingAndGlyphs\" textLength=\"29\" x=\"46\" y=\"257.9526\">p1: P</text><text fill=\"#000000\" font-family=\"sans-serif\" font-size=\"11\" lengthAdjust=\"spacingAndGlyphs\" textLength=\"38\" x=\"46\" y=\"270.7573\">p2: ~P</text><line style=\"stroke: #383838; stroke-width: 1.0;\" x1=\"41\" x2=\"50\" y1=\"241.3398\" y2=\"241.3398\"/><text fill=\"#000000\" font-family=\"sans-serif\" font-size=\"11\" lengthAdjust=\"spacingAndGlyphs\" textLength=\"30\" x=\"50\" y=\"244.6479\">ports</text><line style=\"stroke: #383838; stroke-width: 1.0;\" x1=\"80\" x2=\"89\" y1=\"241.3398\" y2=\"241.3398\"/></a><!--MD5=[062ed86c389d1a88f61c6380d0491e17]\n",
       "reverse link E12 to E13--><a href=\"psysml:37b5f10a-21e5-48b2-b2b2-bc5c291ce903\" target=\"_top\" title=\"psysml:37b5f10a-21e5-48b2-b2b2-bc5c291ce903\" xlink:actuate=\"onRequest\" xlink:href=\"psysml:37b5f10a-21e5-48b2-b2b2-bc5c291ce903\" xlink:show=\"new\" xlink:title=\"psysml:37b5f10a-21e5-48b2-b2b2-bc5c291ce903\" xlink:type=\"simple\"><path d=\"M65,121.12 C65,121.12 65,188.9 65,188.9 \" fill=\"none\" id=\"E12&lt;-E13\" style=\"stroke: #383838; stroke-width: 1.0;\"/><polygon fill=\"#383838\" points=\"65,108.12,61.0066,114.1244,65.0132,120.12,69.0066,114.1156,65,108.12\" style=\"stroke: #383838; stroke-width: 1.0;\"/></a><!--MD5=[014e257a49b2276fb8d196c59e129ef3]\n",
       "@startuml\r\n",
       "skinparam linetype ortho\r\n",
       "skinparam monochrome true\r\n",
       "skinparam classbackgroundcolor white\r\n",
       "skinparam shadowing false\r\n",
       "skinparam wrapWidth 300\r\n",
       "hide circle\r\n",
       "\r\n",
       "package \"ConjugationTest\" as E1  [[psysml:4ba0ad9e-a677-47db-af1d-b015e8f93aef ]]  {\r\n",
       "comp def \"P\" as E2  <<(T,blue)port def>> [[psysml:0d231d17-09c4-40d0-a4bc-6d43713d1eea ]] {\r\n",
       "}\r\n",
       "comp def \"B\" as E3  <<(T,blue)part def>> [[psysml:1fca8384-68db-4c35-8908-d644a05ab33b ]] {\r\n",
       "- - ports - -\r\n",
       "p1: P\r\n",
       "p2: ~P\r\n",
       "}\r\n",
       "comp def \"A\" as E6  <<(T,blue)connection def>> [[psysml:d9048fa2-8c0d-4237-aabb-192a68938198 ]] {\r\n",
       "- - ports - -\r\n",
       "p1: P\r\n",
       "p2: ~P\r\n",
       "}\r\n",
       "comp def \"I\" as E9  <<(T,blue)interface def>> [[psysml:b68d4e65-0a25-4b32-9474-7d6b33189e06 ]] {\r\n",
       "- - ports - -\r\n",
       "p1: P\r\n",
       "p2: ~P\r\n",
       "}\r\n",
       "comp def \"B1\" as E12  <<(T,blue)part def>> [[psysml:4bc8843d-d10d-4f46-93fe-21c75269e8aa ]] {\r\n",
       "}\r\n",
       "comp usage \"p\" as E13  <<(T,blue)part>> [[psysml:37b5f10a-21e5-48b2-b2b2-bc5c291ce903 ]] {\r\n",
       "- - ports - -\r\n",
       "p1: P\r\n",
       "p2: ~P\r\n",
       "}\r\n",
       "E12 *- - E13 [[psysml:37b5f10a-21e5-48b2-b2b2-bc5c291ce903 ]] \r\n",
       "}\r\n",
       "@enduml\r\n",
       "\n",
       "PlantUML version 1.2020.13(Sat Jun 13 12:26:38 UTC 2020)\n",
       "(EPL source distribution)\n",
       "Java Runtime: OpenJDK Runtime Environment\n",
       "JVM: OpenJDK 64-Bit Server VM\n",
       "Default Encoding: UTF-8\n",
       "Language: en\n",
       "Country: null\n",
       "--></g></svg>"
      ]
     },
     "execution_count": 57,
     "metadata": {},
     "output_type": "execute_result"
    }
   ],
   "source": [
    "%viz --style=\"ORTHOLINE\" --view=\"MIXED\" \"ConjugationTest\""
   ]
  }
 ],
 "metadata": {
  "kernelspec": {
   "display_name": "SysML",
   "language": "sysml",
   "name": "sysml"
  },
  "language_info": {
   "codemirror_mode": "sysml",
   "file_extension": ".sysml",
   "mimetype": "text/x-sysml",
   "name": "SysML",
   "pygments_lexer": "java",
   "version": "1.0.0"
  }
 },
 "nbformat": 4,
 "nbformat_minor": 5
}
