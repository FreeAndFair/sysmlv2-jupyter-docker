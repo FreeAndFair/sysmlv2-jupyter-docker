{
 "cells": [
  {
   "cell_type": "markdown",
   "id": "numerous-comment",
   "metadata": {},
   "source": [
    "# SysML v2 Test Suite\n",
    "\n",
    "This can notebook can be cleared using menu `Edit --> Clear All Outputs` and then all cells can be\n",
    "run using menu `Run --> Run All Cells`.\n",
    "\n",
    "**WARNING**: This file is generated, all modifications here will be ignored.\n"
   ]
  },
  {
   "cell_type": "markdown",
   "id": "visible-player",
   "metadata": {},
   "source": [
    "## File: ../../sysml/src/examples/Simple Tests/ConjugationTest.sysml"
   ]
  },
  {
   "cell_type": "code",
   "execution_count": 1,
   "id": "genuine-walter",
   "metadata": {
    "execution": {
     "iopub.execute_input": "2021-03-25T16:01:54.970413Z",
     "iopub.status.busy": "2021-03-25T16:01:54.969420Z",
     "iopub.status.idle": "2021-03-25T16:01:55.411207Z",
     "shell.execute_reply": "2021-03-25T16:01:55.410562Z"
    }
   },
   "outputs": [
    {
     "data": {
      "text/plain": [
       "Package ConjugationTest (a2529e5c-5fc9-481c-a58c-7b04ca9345ff)\n"
      ]
     },
     "execution_count": 1,
     "metadata": {},
     "output_type": "execute_result"
    }
   ],
   "source": [
    "package ConjugationTest {\n",
    "\tport def P;\n",
    "\t\n",
    "\tpart def B {\n",
    "\t\tport p1: P;\n",
    "\t\tport p2: ~P;\n",
    "\t}\n",
    "\t\n",
    "\tconnection def A {\n",
    "\t\tend port p1: P;\n",
    "\t\tend port p2: ~P;\n",
    "\t}\n",
    "\t\n",
    "\tinterface def I {\n",
    "\t\tend p1: P;\n",
    "\t\tend p2: ~P;\n",
    "\t}\n",
    "\t\n",
    "\tpart def B1 {\n",
    "\t\tpart p {\n",
    "\t\t\tport p1: P;\n",
    "\t\t\tport p2: ~P;\t\t\n",
    "\t\t}\n",
    "\t\n",
    "\t\tconnection a: A connect p::p1 to p::p2 {\n",
    "\t\t\tend port p3: P;\n",
    "\t\t\tend port p4: ~P;\n",
    "\t\t}\n",
    "\t\tinterface i: I connect p::p1 to p::p2 {\n",
    "\t\t\tend port p3: P;\n",
    "\t\t\tend port p4: ~P;\n",
    "\t\t}\n",
    "\t}\n",
    "\t\n",
    "}"
   ]
  },
  {
   "cell_type": "code",
   "execution_count": 2,
   "id": "ideal-thesaurus",
   "metadata": {
    "execution": {
     "iopub.execute_input": "2021-03-25T16:01:55.463420Z",
     "iopub.status.busy": "2021-03-25T16:01:55.462945Z",
     "iopub.status.idle": "2021-03-25T16:01:55.476393Z",
     "shell.execute_reply": "2021-03-25T16:01:55.475902Z"
    }
   },
   "outputs": [
    {
     "data": {
      "text/plain": [
       "java.lang.IllegalArgumentException: Invalid Style: COMPTREE Possible styles: POLYLINE, LR, STDCOLOR, PLANTUML, DEFAULT, TB, ORTHOLINE\n",
       "\tat org.omg.sysml.plantuml.SysML2PlantUMLStyle.get(SysML2PlantUMLStyle.java:258)\n",
       "\tat org.omg.sysml.plantuml.SysML2PlantUMLSvc.applyStyle(SysML2PlantUMLSvc.java:73)\n",
       "\tat org.omg.sysml.plantuml.SysML2PlantUMLSvc.getPlantUMLCode(SysML2PlantUMLSvc.java:88)\n",
       "\tat org.omg.sysml.plantuml.SysML2PlantUMLSvc.getSVG(SysML2PlantUMLSvc.java:99)\n",
       "\tat org.omg.sysml.interactive.SysMLInteractive.viz(SysMLInteractive.java:294)\n",
       "\tat org.omg.sysml.jupyter.kernel.magic.Viz.viz(Viz.java:47)\n",
       "\tat java.base/jdk.internal.reflect.NativeMethodAccessorImpl.invoke0(Native Method)\n",
       "\tat java.base/jdk.internal.reflect.NativeMethodAccessorImpl.invoke(NativeMethodAccessorImpl.java:78)\n",
       "\tat java.base/jdk.internal.reflect.DelegatingMethodAccessorImpl.invoke(DelegatingMethodAccessorImpl.java:43)\n",
       "\tat java.base/java.lang.reflect.Method.invoke(Method.java:568)\n",
       "\tat io.github.spencerpark.jupyter.kernel.magic.registry.Magics.invoke(Magics.java:89)\n",
       "\tat io.github.spencerpark.jupyter.kernel.magic.registry.Magics.access$000(Magics.java:8)\n",
       "\tat io.github.spencerpark.jupyter.kernel.magic.registry.Magics$LineReflectionMagicFunction.execute(Magics.java:149)\n",
       "\tat io.github.spencerpark.jupyter.kernel.magic.registry.Magics.applyLineMagic(Magics.java:26)\n",
       "\tat org.omg.sysml.jupyter.kernel.SysMLKernel.eval(SysMLKernel.java:76)\n",
       "\tat io.github.spencerpark.jupyter.kernel.BaseKernel.handleExecuteRequest(BaseKernel.java:334)\n",
       "\tat io.github.spencerpark.jupyter.channels.ShellChannel.lambda$bind$0(ShellChannel.java:64)\n",
       "\tat io.github.spencerpark.jupyter.channels.Loop.lambda$new$0(Loop.java:21)\n",
       "\tat io.github.spencerpark.jupyter.channels.Loop.run(Loop.java:78)\n"
      ]
     },
     "execution_count": 2,
     "metadata": {},
     "output_type": "execute_result"
    }
   ],
   "source": [
    "%viz --style=\"COMPTREE\" --view=\"Default\" \"ConjugationTest\""
   ]
  },
  {
   "cell_type": "code",
   "execution_count": 3,
   "id": "legislative-benefit",
   "metadata": {
    "execution": {
     "iopub.execute_input": "2021-03-25T16:01:55.529039Z",
     "iopub.status.busy": "2021-03-25T16:01:55.528604Z",
     "iopub.status.idle": "2021-03-25T16:01:55.531897Z",
     "shell.execute_reply": "2021-03-25T16:01:55.532348Z"
    }
   },
   "outputs": [
    {
     "data": {
      "text/plain": [
       "java.lang.IllegalArgumentException: Invalid Style: COMPTREE Possible styles: POLYLINE, LR, STDCOLOR, PLANTUML, DEFAULT, TB, ORTHOLINE\n",
       "\tat org.omg.sysml.plantuml.SysML2PlantUMLStyle.get(SysML2PlantUMLStyle.java:258)\n",
       "\tat org.omg.sysml.plantuml.SysML2PlantUMLSvc.applyStyle(SysML2PlantUMLSvc.java:73)\n",
       "\tat org.omg.sysml.plantuml.SysML2PlantUMLSvc.getPlantUMLCode(SysML2PlantUMLSvc.java:88)\n",
       "\tat org.omg.sysml.plantuml.SysML2PlantUMLSvc.getSVG(SysML2PlantUMLSvc.java:99)\n",
       "\tat org.omg.sysml.interactive.SysMLInteractive.viz(SysMLInteractive.java:294)\n",
       "\tat org.omg.sysml.jupyter.kernel.magic.Viz.viz(Viz.java:47)\n",
       "\tat java.base/jdk.internal.reflect.NativeMethodAccessorImpl.invoke0(Native Method)\n",
       "\tat java.base/jdk.internal.reflect.NativeMethodAccessorImpl.invoke(NativeMethodAccessorImpl.java:78)\n",
       "\tat java.base/jdk.internal.reflect.DelegatingMethodAccessorImpl.invoke(DelegatingMethodAccessorImpl.java:43)\n",
       "\tat java.base/java.lang.reflect.Method.invoke(Method.java:568)\n",
       "\tat io.github.spencerpark.jupyter.kernel.magic.registry.Magics.invoke(Magics.java:89)\n",
       "\tat io.github.spencerpark.jupyter.kernel.magic.registry.Magics.access$000(Magics.java:8)\n",
       "\tat io.github.spencerpark.jupyter.kernel.magic.registry.Magics$LineReflectionMagicFunction.execute(Magics.java:149)\n",
       "\tat io.github.spencerpark.jupyter.kernel.magic.registry.Magics.applyLineMagic(Magics.java:26)\n",
       "\tat org.omg.sysml.jupyter.kernel.SysMLKernel.eval(SysMLKernel.java:76)\n",
       "\tat io.github.spencerpark.jupyter.kernel.BaseKernel.handleExecuteRequest(BaseKernel.java:334)\n",
       "\tat io.github.spencerpark.jupyter.channels.ShellChannel.lambda$bind$0(ShellChannel.java:64)\n",
       "\tat io.github.spencerpark.jupyter.channels.Loop.lambda$new$0(Loop.java:21)\n",
       "\tat io.github.spencerpark.jupyter.channels.Loop.run(Loop.java:78)\n"
      ]
     },
     "execution_count": 3,
     "metadata": {},
     "output_type": "execute_result"
    }
   ],
   "source": [
    "%viz --style=\"COMPTREE\" --view=\"Tree\" \"ConjugationTest\""
   ]
  },
  {
   "cell_type": "code",
   "execution_count": 4,
   "id": "completed-stream",
   "metadata": {
    "execution": {
     "iopub.execute_input": "2021-03-25T16:01:55.583498Z",
     "iopub.status.busy": "2021-03-25T16:01:55.582951Z",
     "iopub.status.idle": "2021-03-25T16:01:55.585122Z",
     "shell.execute_reply": "2021-03-25T16:01:55.585568Z"
    }
   },
   "outputs": [
    {
     "data": {
      "text/plain": [
       "java.lang.IllegalArgumentException: Invalid View: State View candidates are: Default Tree StateMachine Interconnection Activity Sequence MIXED \n",
       "\tat org.omg.sysml.plantuml.SysML2PlantUMLSvc.setView(SysML2PlantUMLSvc.java:63)\n",
       "\tat org.omg.sysml.interactive.SysMLInteractive.viz(SysMLInteractive.java:286)\n",
       "\tat org.omg.sysml.jupyter.kernel.magic.Viz.viz(Viz.java:47)\n",
       "\tat java.base/jdk.internal.reflect.NativeMethodAccessorImpl.invoke0(Native Method)\n",
       "\tat java.base/jdk.internal.reflect.NativeMethodAccessorImpl.invoke(NativeMethodAccessorImpl.java:78)\n",
       "\tat java.base/jdk.internal.reflect.DelegatingMethodAccessorImpl.invoke(DelegatingMethodAccessorImpl.java:43)\n",
       "\tat java.base/java.lang.reflect.Method.invoke(Method.java:568)\n",
       "\tat io.github.spencerpark.jupyter.kernel.magic.registry.Magics.invoke(Magics.java:89)\n",
       "\tat io.github.spencerpark.jupyter.kernel.magic.registry.Magics.access$000(Magics.java:8)\n",
       "\tat io.github.spencerpark.jupyter.kernel.magic.registry.Magics$LineReflectionMagicFunction.execute(Magics.java:149)\n",
       "\tat io.github.spencerpark.jupyter.kernel.magic.registry.Magics.applyLineMagic(Magics.java:26)\n",
       "\tat org.omg.sysml.jupyter.kernel.SysMLKernel.eval(SysMLKernel.java:76)\n",
       "\tat io.github.spencerpark.jupyter.kernel.BaseKernel.handleExecuteRequest(BaseKernel.java:334)\n",
       "\tat io.github.spencerpark.jupyter.channels.ShellChannel.lambda$bind$0(ShellChannel.java:64)\n",
       "\tat io.github.spencerpark.jupyter.channels.Loop.lambda$new$0(Loop.java:21)\n",
       "\tat io.github.spencerpark.jupyter.channels.Loop.run(Loop.java:78)\n"
      ]
     },
     "execution_count": 4,
     "metadata": {},
     "output_type": "execute_result"
    }
   ],
   "source": [
    "%viz --style=\"COMPTREE\" --view=\"State\" \"ConjugationTest\""
   ]
  },
  {
   "cell_type": "code",
   "execution_count": 5,
   "id": "smart-gasoline",
   "metadata": {
    "execution": {
     "iopub.execute_input": "2021-03-25T16:01:55.638143Z",
     "iopub.status.busy": "2021-03-25T16:01:55.636196Z",
     "iopub.status.idle": "2021-03-25T16:01:55.639749Z",
     "shell.execute_reply": "2021-03-25T16:01:55.640120Z"
    }
   },
   "outputs": [
    {
     "data": {
      "text/plain": [
       "java.lang.IllegalArgumentException: Invalid Style: COMPTREE Possible styles: POLYLINE, LR, STDCOLOR, PLANTUML, DEFAULT, TB, ORTHOLINE\n",
       "\tat org.omg.sysml.plantuml.SysML2PlantUMLStyle.get(SysML2PlantUMLStyle.java:258)\n",
       "\tat org.omg.sysml.plantuml.SysML2PlantUMLSvc.applyStyle(SysML2PlantUMLSvc.java:73)\n",
       "\tat org.omg.sysml.plantuml.SysML2PlantUMLSvc.getPlantUMLCode(SysML2PlantUMLSvc.java:88)\n",
       "\tat org.omg.sysml.plantuml.SysML2PlantUMLSvc.getSVG(SysML2PlantUMLSvc.java:99)\n",
       "\tat org.omg.sysml.interactive.SysMLInteractive.viz(SysMLInteractive.java:294)\n",
       "\tat org.omg.sysml.jupyter.kernel.magic.Viz.viz(Viz.java:47)\n",
       "\tat java.base/jdk.internal.reflect.NativeMethodAccessorImpl.invoke0(Native Method)\n",
       "\tat java.base/jdk.internal.reflect.NativeMethodAccessorImpl.invoke(NativeMethodAccessorImpl.java:78)\n",
       "\tat java.base/jdk.internal.reflect.DelegatingMethodAccessorImpl.invoke(DelegatingMethodAccessorImpl.java:43)\n",
       "\tat java.base/java.lang.reflect.Method.invoke(Method.java:568)\n",
       "\tat io.github.spencerpark.jupyter.kernel.magic.registry.Magics.invoke(Magics.java:89)\n",
       "\tat io.github.spencerpark.jupyter.kernel.magic.registry.Magics.access$000(Magics.java:8)\n",
       "\tat io.github.spencerpark.jupyter.kernel.magic.registry.Magics$LineReflectionMagicFunction.execute(Magics.java:149)\n",
       "\tat io.github.spencerpark.jupyter.kernel.magic.registry.Magics.applyLineMagic(Magics.java:26)\n",
       "\tat org.omg.sysml.jupyter.kernel.SysMLKernel.eval(SysMLKernel.java:76)\n",
       "\tat io.github.spencerpark.jupyter.kernel.BaseKernel.handleExecuteRequest(BaseKernel.java:334)\n",
       "\tat io.github.spencerpark.jupyter.channels.ShellChannel.lambda$bind$0(ShellChannel.java:64)\n",
       "\tat io.github.spencerpark.jupyter.channels.Loop.lambda$new$0(Loop.java:21)\n",
       "\tat io.github.spencerpark.jupyter.channels.Loop.run(Loop.java:78)\n"
      ]
     },
     "execution_count": 5,
     "metadata": {},
     "output_type": "execute_result"
    }
   ],
   "source": [
    "%viz --style=\"COMPTREE\" --view=\"Interconnection\" \"ConjugationTest\""
   ]
  },
  {
   "cell_type": "code",
   "execution_count": 6,
   "id": "duplicate-experiment",
   "metadata": {
    "execution": {
     "iopub.execute_input": "2021-03-25T16:01:55.690945Z",
     "iopub.status.busy": "2021-03-25T16:01:55.690560Z",
     "iopub.status.idle": "2021-03-25T16:01:55.693354Z",
     "shell.execute_reply": "2021-03-25T16:01:55.692785Z"
    }
   },
   "outputs": [
    {
     "data": {
      "text/plain": [
       "java.lang.IllegalArgumentException: Invalid View: Action View candidates are: Default Tree StateMachine Interconnection Activity Sequence MIXED \n",
       "\tat org.omg.sysml.plantuml.SysML2PlantUMLSvc.setView(SysML2PlantUMLSvc.java:63)\n",
       "\tat org.omg.sysml.interactive.SysMLInteractive.viz(SysMLInteractive.java:286)\n",
       "\tat org.omg.sysml.jupyter.kernel.magic.Viz.viz(Viz.java:47)\n",
       "\tat java.base/jdk.internal.reflect.NativeMethodAccessorImpl.invoke0(Native Method)\n",
       "\tat java.base/jdk.internal.reflect.NativeMethodAccessorImpl.invoke(NativeMethodAccessorImpl.java:78)\n",
       "\tat java.base/jdk.internal.reflect.DelegatingMethodAccessorImpl.invoke(DelegatingMethodAccessorImpl.java:43)\n",
       "\tat java.base/java.lang.reflect.Method.invoke(Method.java:568)\n",
       "\tat io.github.spencerpark.jupyter.kernel.magic.registry.Magics.invoke(Magics.java:89)\n",
       "\tat io.github.spencerpark.jupyter.kernel.magic.registry.Magics.access$000(Magics.java:8)\n",
       "\tat io.github.spencerpark.jupyter.kernel.magic.registry.Magics$LineReflectionMagicFunction.execute(Magics.java:149)\n",
       "\tat io.github.spencerpark.jupyter.kernel.magic.registry.Magics.applyLineMagic(Magics.java:26)\n",
       "\tat org.omg.sysml.jupyter.kernel.SysMLKernel.eval(SysMLKernel.java:76)\n",
       "\tat io.github.spencerpark.jupyter.kernel.BaseKernel.handleExecuteRequest(BaseKernel.java:334)\n",
       "\tat io.github.spencerpark.jupyter.channels.ShellChannel.lambda$bind$0(ShellChannel.java:64)\n",
       "\tat io.github.spencerpark.jupyter.channels.Loop.lambda$new$0(Loop.java:21)\n",
       "\tat io.github.spencerpark.jupyter.channels.Loop.run(Loop.java:78)\n"
      ]
     },
     "execution_count": 6,
     "metadata": {},
     "output_type": "execute_result"
    }
   ],
   "source": [
    "%viz --style=\"COMPTREE\" --view=\"Action\" \"ConjugationTest\""
   ]
  },
  {
   "cell_type": "code",
   "execution_count": 7,
   "id": "innocent-plain",
   "metadata": {
    "execution": {
     "iopub.execute_input": "2021-03-25T16:01:55.745096Z",
     "iopub.status.busy": "2021-03-25T16:01:55.744370Z",
     "iopub.status.idle": "2021-03-25T16:01:55.747219Z",
     "shell.execute_reply": "2021-03-25T16:01:55.747762Z"
    }
   },
   "outputs": [
    {
     "data": {
      "text/plain": [
       "java.lang.IllegalArgumentException: Invalid Style: COMPTREE Possible styles: POLYLINE, LR, STDCOLOR, PLANTUML, DEFAULT, TB, ORTHOLINE\n",
       "\tat org.omg.sysml.plantuml.SysML2PlantUMLStyle.get(SysML2PlantUMLStyle.java:258)\n",
       "\tat org.omg.sysml.plantuml.SysML2PlantUMLSvc.applyStyle(SysML2PlantUMLSvc.java:73)\n",
       "\tat org.omg.sysml.plantuml.SysML2PlantUMLSvc.getPlantUMLCode(SysML2PlantUMLSvc.java:88)\n",
       "\tat org.omg.sysml.plantuml.SysML2PlantUMLSvc.getSVG(SysML2PlantUMLSvc.java:99)\n",
       "\tat org.omg.sysml.interactive.SysMLInteractive.viz(SysMLInteractive.java:294)\n",
       "\tat org.omg.sysml.jupyter.kernel.magic.Viz.viz(Viz.java:47)\n",
       "\tat java.base/jdk.internal.reflect.NativeMethodAccessorImpl.invoke0(Native Method)\n",
       "\tat java.base/jdk.internal.reflect.NativeMethodAccessorImpl.invoke(NativeMethodAccessorImpl.java:78)\n",
       "\tat java.base/jdk.internal.reflect.DelegatingMethodAccessorImpl.invoke(DelegatingMethodAccessorImpl.java:43)\n",
       "\tat java.base/java.lang.reflect.Method.invoke(Method.java:568)\n",
       "\tat io.github.spencerpark.jupyter.kernel.magic.registry.Magics.invoke(Magics.java:89)\n",
       "\tat io.github.spencerpark.jupyter.kernel.magic.registry.Magics.access$000(Magics.java:8)\n",
       "\tat io.github.spencerpark.jupyter.kernel.magic.registry.Magics$LineReflectionMagicFunction.execute(Magics.java:149)\n",
       "\tat io.github.spencerpark.jupyter.kernel.magic.registry.Magics.applyLineMagic(Magics.java:26)\n",
       "\tat org.omg.sysml.jupyter.kernel.SysMLKernel.eval(SysMLKernel.java:76)\n",
       "\tat io.github.spencerpark.jupyter.kernel.BaseKernel.handleExecuteRequest(BaseKernel.java:334)\n",
       "\tat io.github.spencerpark.jupyter.channels.ShellChannel.lambda$bind$0(ShellChannel.java:64)\n",
       "\tat io.github.spencerpark.jupyter.channels.Loop.lambda$new$0(Loop.java:21)\n",
       "\tat io.github.spencerpark.jupyter.channels.Loop.run(Loop.java:78)\n"
      ]
     },
     "execution_count": 7,
     "metadata": {},
     "output_type": "execute_result"
    }
   ],
   "source": [
    "%viz --style=\"COMPTREE\" --view=\"Sequence\" \"ConjugationTest\""
   ]
  },
  {
   "cell_type": "code",
   "execution_count": 8,
   "id": "sorted-turner",
   "metadata": {
    "execution": {
     "iopub.execute_input": "2021-03-25T16:01:55.798841Z",
     "iopub.status.busy": "2021-03-25T16:01:55.798186Z",
     "iopub.status.idle": "2021-03-25T16:01:55.801379Z",
     "shell.execute_reply": "2021-03-25T16:01:55.801845Z"
    }
   },
   "outputs": [
    {
     "data": {
      "text/plain": [
       "java.lang.IllegalArgumentException: Invalid Style: COMPTREE Possible styles: POLYLINE, LR, STDCOLOR, PLANTUML, DEFAULT, TB, ORTHOLINE\n",
       "\tat org.omg.sysml.plantuml.SysML2PlantUMLStyle.get(SysML2PlantUMLStyle.java:258)\n",
       "\tat org.omg.sysml.plantuml.SysML2PlantUMLSvc.applyStyle(SysML2PlantUMLSvc.java:73)\n",
       "\tat org.omg.sysml.plantuml.SysML2PlantUMLSvc.getPlantUMLCode(SysML2PlantUMLSvc.java:88)\n",
       "\tat org.omg.sysml.plantuml.SysML2PlantUMLSvc.getSVG(SysML2PlantUMLSvc.java:99)\n",
       "\tat org.omg.sysml.interactive.SysMLInteractive.viz(SysMLInteractive.java:294)\n",
       "\tat org.omg.sysml.jupyter.kernel.magic.Viz.viz(Viz.java:47)\n",
       "\tat java.base/jdk.internal.reflect.NativeMethodAccessorImpl.invoke0(Native Method)\n",
       "\tat java.base/jdk.internal.reflect.NativeMethodAccessorImpl.invoke(NativeMethodAccessorImpl.java:78)\n",
       "\tat java.base/jdk.internal.reflect.DelegatingMethodAccessorImpl.invoke(DelegatingMethodAccessorImpl.java:43)\n",
       "\tat java.base/java.lang.reflect.Method.invoke(Method.java:568)\n",
       "\tat io.github.spencerpark.jupyter.kernel.magic.registry.Magics.invoke(Magics.java:89)\n",
       "\tat io.github.spencerpark.jupyter.kernel.magic.registry.Magics.access$000(Magics.java:8)\n",
       "\tat io.github.spencerpark.jupyter.kernel.magic.registry.Magics$LineReflectionMagicFunction.execute(Magics.java:149)\n",
       "\tat io.github.spencerpark.jupyter.kernel.magic.registry.Magics.applyLineMagic(Magics.java:26)\n",
       "\tat org.omg.sysml.jupyter.kernel.SysMLKernel.eval(SysMLKernel.java:76)\n",
       "\tat io.github.spencerpark.jupyter.kernel.BaseKernel.handleExecuteRequest(BaseKernel.java:334)\n",
       "\tat io.github.spencerpark.jupyter.channels.ShellChannel.lambda$bind$0(ShellChannel.java:64)\n",
       "\tat io.github.spencerpark.jupyter.channels.Loop.lambda$new$0(Loop.java:21)\n",
       "\tat io.github.spencerpark.jupyter.channels.Loop.run(Loop.java:78)\n"
      ]
     },
     "execution_count": 8,
     "metadata": {},
     "output_type": "execute_result"
    }
   ],
   "source": [
    "%viz --style=\"COMPTREE\" --view=\"MIXED\" \"ConjugationTest\""
   ]
  },
  {
   "cell_type": "code",
   "execution_count": 9,
   "id": "noticed-decade",
   "metadata": {
    "execution": {
     "iopub.execute_input": "2021-03-25T16:01:55.852623Z",
     "iopub.status.busy": "2021-03-25T16:01:55.851929Z",
     "iopub.status.idle": "2021-03-25T16:01:58.294310Z",
     "shell.execute_reply": "2021-03-25T16:01:58.294692Z"
    }
   },
   "outputs": [
    {
     "data": {
      "image/svg+xml": [
       "<?xml version=\"1.0\" encoding=\"UTF-8\" standalone=\"no\"?><svg xmlns=\"http://www.w3.org/2000/svg\" xmlns:xlink=\"http://www.w3.org/1999/xlink\" contentScriptType=\"application/ecmascript\" contentStyleType=\"text/css\" height=\"331px\" preserveAspectRatio=\"none\" style=\"width:684px;height:331px;\" version=\"1.1\" viewBox=\"0 0 684 331\" width=\"684px\" zoomAndPan=\"magnify\"><defs/><g><!--MD5=[fbc87193dbaf4d95561dea2c320d4a47]\n",
       "cluster E1--><polygon fill=\"#FFFFFF\" points=\"16,6,151,6,158,28.2969,662,28.2969,662,319,16,319,16,6\" style=\"stroke: #000000; stroke-width: 1.5;\"/><line style=\"stroke: #000000; stroke-width: 1.5;\" x1=\"16\" x2=\"158\" y1=\"28.2969\" y2=\"28.2969\"/><text fill=\"#000000\" font-family=\"sans-serif\" font-size=\"14\" font-weight=\"bold\" lengthAdjust=\"spacingAndGlyphs\" textLength=\"129\" x=\"20\" y=\"20.9951\">ConjugationTest</text><!--MD5=[b4997ac47864f28c2f74865a473b2911]\n",
       "class E2--><rect fill=\"#FFFFFF\" height=\"45.9375\" id=\"E2\" style=\"stroke: #383838; stroke-width: 1.5;\" width=\"66\" x=\"580\" y=\"75\"/><text fill=\"#000000\" font-family=\"sans-serif\" font-size=\"12\" font-style=\"italic\" lengthAdjust=\"spacingAndGlyphs\" textLength=\"64\" x=\"581\" y=\"91.1387\">«port def»</text><text fill=\"#000000\" font-family=\"sans-serif\" font-size=\"12\" lengthAdjust=\"spacingAndGlyphs\" textLength=\"8\" x=\"609\" y=\"105.1074\">P</text><line style=\"stroke: #383838; stroke-width: 1.5;\" x1=\"581\" x2=\"645\" y1=\"112.9375\" y2=\"112.9375\"/><!--MD5=[09b614a08d8cba4a07c9adeb5e0fee81]\n",
       "class E3--><rect fill=\"#FFFFFF\" height=\"88.3516\" id=\"E3\" style=\"stroke: #383838; stroke-width: 1.5;\" width=\"66\" x=\"479\" y=\"54\"/><text fill=\"#000000\" font-family=\"sans-serif\" font-size=\"12\" font-style=\"italic\" lengthAdjust=\"spacingAndGlyphs\" textLength=\"64\" x=\"480\" y=\"70.1387\">«part def»</text><text fill=\"#000000\" font-family=\"sans-serif\" font-size=\"12\" lengthAdjust=\"spacingAndGlyphs\" textLength=\"8\" x=\"508\" y=\"84.1074\">B</text><line style=\"stroke: #383838; stroke-width: 1.5;\" x1=\"480\" x2=\"544\" y1=\"91.9375\" y2=\"91.9375\"/><text fill=\"#000000\" font-family=\"sans-serif\" font-size=\"11\" lengthAdjust=\"spacingAndGlyphs\" textLength=\"29\" x=\"485\" y=\"122.9526\">p1: P</text><text fill=\"#000000\" font-family=\"sans-serif\" font-size=\"11\" lengthAdjust=\"spacingAndGlyphs\" textLength=\"38\" x=\"485\" y=\"135.7573\">p2: ~P</text><line style=\"stroke: #383838; stroke-width: 1.0;\" x1=\"480\" x2=\"497\" y1=\"106.3398\" y2=\"106.3398\"/><text fill=\"#000000\" font-family=\"sans-serif\" font-size=\"11\" lengthAdjust=\"spacingAndGlyphs\" textLength=\"30\" x=\"497\" y=\"109.6479\">ports</text><line style=\"stroke: #383838; stroke-width: 1.0;\" x1=\"527\" x2=\"544\" y1=\"106.3398\" y2=\"106.3398\"/><!--MD5=[60a26617385b1d2d0262a64233df1f8d]\n",
       "class E6--><rect fill=\"#FFFFFF\" height=\"113.9609\" id=\"E6\" style=\"stroke: #383838; stroke-width: 1.5;\" width=\"144\" x=\"300\" y=\"41\"/><text fill=\"#000000\" font-family=\"sans-serif\" font-size=\"12\" font-style=\"italic\" lengthAdjust=\"spacingAndGlyphs\" textLength=\"108\" x=\"318\" y=\"57.1387\">«connection def»</text><text fill=\"#000000\" font-family=\"sans-serif\" font-size=\"12\" lengthAdjust=\"spacingAndGlyphs\" textLength=\"8\" x=\"368\" y=\"71.1074\">A</text><line style=\"stroke: #383838; stroke-width: 1.5;\" x1=\"301\" x2=\"443\" y1=\"78.9375\" y2=\"78.9375\"/><text fill=\"#000000\" font-family=\"sans-serif\" font-size=\"11\" lengthAdjust=\"spacingAndGlyphs\" textLength=\"29\" x=\"306\" y=\"109.9526\">p1: P</text><text fill=\"#000000\" font-family=\"sans-serif\" font-size=\"11\" font-style=\"italic\" lengthAdjust=\"spacingAndGlyphs\" textLength=\"132\" x=\"306\" y=\"122.7573\">:&gt;&gt;Connection::source</text><text fill=\"#000000\" font-family=\"sans-serif\" font-size=\"11\" lengthAdjust=\"spacingAndGlyphs\" textLength=\"38\" x=\"306\" y=\"135.562\">p2: ~P</text><text fill=\"#000000\" font-family=\"sans-serif\" font-size=\"11\" font-style=\"italic\" lengthAdjust=\"spacingAndGlyphs\" textLength=\"127\" x=\"306\" y=\"148.3667\">:&gt;&gt;Connection::target</text><line style=\"stroke: #383838; stroke-width: 1.0;\" x1=\"301\" x2=\"357\" y1=\"93.3398\" y2=\"93.3398\"/><text fill=\"#000000\" font-family=\"sans-serif\" font-size=\"11\" lengthAdjust=\"spacingAndGlyphs\" textLength=\"30\" x=\"357\" y=\"96.6479\">ports</text><line style=\"stroke: #383838; stroke-width: 1.0;\" x1=\"387\" x2=\"443\" y1=\"93.3398\" y2=\"93.3398\"/><!--MD5=[fd4143e9d270a159db93a4ea2a975926]\n",
       "class E9--><rect fill=\"#FFFFFF\" height=\"113.9609\" id=\"E9\" style=\"stroke: #383838; stroke-width: 1.5;\" width=\"131\" x=\"133.5\" y=\"41\"/><text fill=\"#000000\" font-family=\"sans-serif\" font-size=\"12\" font-style=\"italic\" lengthAdjust=\"spacingAndGlyphs\" textLength=\"94\" x=\"152\" y=\"57.1387\">«interface def»</text><text fill=\"#000000\" font-family=\"sans-serif\" font-size=\"12\" lengthAdjust=\"spacingAndGlyphs\" textLength=\"3\" x=\"197.5\" y=\"71.1074\">I</text><line style=\"stroke: #383838; stroke-width: 1.5;\" x1=\"134.5\" x2=\"263.5\" y1=\"78.9375\" y2=\"78.9375\"/><text fill=\"#000000\" font-family=\"sans-serif\" font-size=\"11\" lengthAdjust=\"spacingAndGlyphs\" textLength=\"29\" x=\"139.5\" y=\"109.9526\">p1: P</text><text fill=\"#000000\" font-family=\"sans-serif\" font-size=\"11\" font-style=\"italic\" lengthAdjust=\"spacingAndGlyphs\" textLength=\"119\" x=\"139.5\" y=\"122.7573\">:&gt;&gt;Interface::source</text><text fill=\"#000000\" font-family=\"sans-serif\" font-size=\"11\" lengthAdjust=\"spacingAndGlyphs\" textLength=\"38\" x=\"139.5\" y=\"135.562\">p2: ~P</text><text fill=\"#000000\" font-family=\"sans-serif\" font-size=\"11\" font-style=\"italic\" lengthAdjust=\"spacingAndGlyphs\" textLength=\"114\" x=\"139.5\" y=\"148.3667\">:&gt;&gt;Interface::target</text><line style=\"stroke: #383838; stroke-width: 1.0;\" x1=\"134.5\" x2=\"184\" y1=\"93.3398\" y2=\"93.3398\"/><text fill=\"#000000\" font-family=\"sans-serif\" font-size=\"11\" lengthAdjust=\"spacingAndGlyphs\" textLength=\"30\" x=\"184\" y=\"96.6479\">ports</text><line style=\"stroke: #383838; stroke-width: 1.0;\" x1=\"214\" x2=\"263.5\" y1=\"93.3398\" y2=\"93.3398\"/><!--MD5=[49a0ec8f00dab7302a31f22d0f0fe584]\n",
       "class E12--><rect fill=\"#FFFFFF\" height=\"45.9375\" id=\"E12\" style=\"stroke: #383838; stroke-width: 1.5;\" width=\"66\" x=\"32\" y=\"75\"/><text fill=\"#000000\" font-family=\"sans-serif\" font-size=\"12\" font-style=\"italic\" lengthAdjust=\"spacingAndGlyphs\" textLength=\"64\" x=\"33\" y=\"91.1387\">«part def»</text><text fill=\"#000000\" font-family=\"sans-serif\" font-size=\"12\" lengthAdjust=\"spacingAndGlyphs\" textLength=\"16\" x=\"57\" y=\"105.1074\">B1</text><line style=\"stroke: #383838; stroke-width: 1.5;\" x1=\"33\" x2=\"97\" y1=\"112.9375\" y2=\"112.9375\"/><!--MD5=[ee3c913d1a06f366521f9ef512b67efe]\n",
       "class E13--><rect fill=\"#FFFFFF\" height=\"88.3516\" id=\"E13\" rx=\"10\" ry=\"10\" style=\"stroke: #383838; stroke-width: 1.5;\" width=\"50\" x=\"40\" y=\"215\"/><text fill=\"#000000\" font-family=\"sans-serif\" font-size=\"12\" font-style=\"italic\" lengthAdjust=\"spacingAndGlyphs\" textLength=\"40\" x=\"45\" y=\"231.1387\">«part»</text><text fill=\"#000000\" font-family=\"sans-serif\" font-size=\"12\" lengthAdjust=\"spacingAndGlyphs\" textLength=\"42\" x=\"44\" y=\"245.1074\">p: Part</text><line style=\"stroke: #383838; stroke-width: 1.5;\" x1=\"41\" x2=\"89\" y1=\"252.9375\" y2=\"252.9375\"/><text fill=\"#000000\" font-family=\"sans-serif\" font-size=\"11\" lengthAdjust=\"spacingAndGlyphs\" textLength=\"29\" x=\"46\" y=\"283.9526\">p1: P</text><text fill=\"#000000\" font-family=\"sans-serif\" font-size=\"11\" lengthAdjust=\"spacingAndGlyphs\" textLength=\"38\" x=\"46\" y=\"296.7573\">p2: ~P</text><line style=\"stroke: #383838; stroke-width: 1.0;\" x1=\"41\" x2=\"50\" y1=\"267.3398\" y2=\"267.3398\"/><text fill=\"#000000\" font-family=\"sans-serif\" font-size=\"11\" lengthAdjust=\"spacingAndGlyphs\" textLength=\"30\" x=\"50\" y=\"270.6479\">ports</text><line style=\"stroke: #383838; stroke-width: 1.0;\" x1=\"80\" x2=\"89\" y1=\"267.3398\" y2=\"267.3398\"/><!--MD5=[062ed86c389d1a88f61c6380d0491e17]\n",
       "reverse link E12 to E13--><path d=\"M65,134.11 C65,157.9 65,189.5 65,214.83 \" fill=\"none\" id=\"E12&lt;-E13\" style=\"stroke: #383838; stroke-width: 1.0;\"/><polygon fill=\"#383838\" points=\"65,121.11,61,127.11,65,133.11,69,127.11,65,121.11\" style=\"stroke: #383838; stroke-width: 1.0;\"/><!--MD5=[cf86a68f14028425330e1acfe01f3a0b]\n",
       "@startuml\r\n",
       "skinparam linetype polyline\r\n",
       "skinparam monochrome true\r\n",
       "skinparam classbackgroundcolor white\r\n",
       "skinparam shadowing false\r\n",
       "skinparam wrapWidth 300\r\n",
       "hide circle\r\n",
       "\r\n",
       "package \"ConjugationTest\" as E1   {\r\n",
       "comp def \"P\" as E2  <<(T,blue)port def>> {\r\n",
       "}\r\n",
       "comp def \"B\" as E3  <<(T,blue)part def>> {\r\n",
       "- -ports- -\r\n",
       "p1: P\r\n",
       "p2: ~P\r\n",
       "}\r\n",
       "comp def \"A\" as E6  <<(T,blue)connection def>> {\r\n",
       "- -ports- -\r\n",
       "p1: P\\n//:>>Connection::source// \r\n",
       "p2: ~P\\n//:>>Connection::target// \r\n",
       "}\r\n",
       "comp def \"I\" as E9  <<(T,blue)interface def>> {\r\n",
       "- -ports- -\r\n",
       "p1: P\\n//:>>Interface::source// \r\n",
       "p2: ~P\\n//:>>Interface::target// \r\n",
       "}\r\n",
       "comp def \"B1\" as E12  <<(T,blue)part def>> {\r\n",
       "}\r\n",
       "comp usage \"p: Part\" as E13  <<(T,blue)part>> {\r\n",
       "- -ports- -\r\n",
       "p1: P\r\n",
       "p2: ~P\r\n",
       "}\r\n",
       "E12 *- - E13\r\n",
       "}\r\n",
       "@enduml\r\n",
       "\n",
       "PlantUML version 1.2020.13(Sat Jun 13 12:26:38 UTC 2020)\n",
       "(EPL source distribution)\n",
       "Java Runtime: OpenJDK Runtime Environment\n",
       "JVM: OpenJDK 64-Bit Server VM\n",
       "Default Encoding: UTF-8\n",
       "Language: en\n",
       "Country: null\n",
       "--></g></svg>"
      ]
     },
     "execution_count": 9,
     "metadata": {},
     "output_type": "execute_result"
    }
   ],
   "source": [
    "%viz --style=\"POLYLINE\" --view=\"Default\" \"ConjugationTest\""
   ]
  },
  {
   "cell_type": "code",
   "execution_count": 10,
   "id": "considerable-bench",
   "metadata": {
    "execution": {
     "iopub.execute_input": "2021-03-25T16:01:58.345528Z",
     "iopub.status.busy": "2021-03-25T16:01:58.345051Z",
     "iopub.status.idle": "2021-03-25T16:02:00.032269Z",
     "shell.execute_reply": "2021-03-25T16:02:00.030899Z"
    }
   },
   "outputs": [
    {
     "data": {
      "image/svg+xml": [
       "<?xml version=\"1.0\" encoding=\"UTF-8\" standalone=\"no\"?><svg xmlns=\"http://www.w3.org/2000/svg\" xmlns:xlink=\"http://www.w3.org/1999/xlink\" contentScriptType=\"application/ecmascript\" contentStyleType=\"text/css\" height=\"331px\" preserveAspectRatio=\"none\" style=\"width:684px;height:331px;\" version=\"1.1\" viewBox=\"0 0 684 331\" width=\"684px\" zoomAndPan=\"magnify\"><defs/><g><!--MD5=[fbc87193dbaf4d95561dea2c320d4a47]\n",
       "cluster E1--><polygon fill=\"#FFFFFF\" points=\"16,6,151,6,158,28.2969,662,28.2969,662,319,16,319,16,6\" style=\"stroke: #000000; stroke-width: 1.5;\"/><line style=\"stroke: #000000; stroke-width: 1.5;\" x1=\"16\" x2=\"158\" y1=\"28.2969\" y2=\"28.2969\"/><text fill=\"#000000\" font-family=\"sans-serif\" font-size=\"14\" font-weight=\"bold\" lengthAdjust=\"spacingAndGlyphs\" textLength=\"129\" x=\"20\" y=\"20.9951\">ConjugationTest</text><!--MD5=[b4997ac47864f28c2f74865a473b2911]\n",
       "class E2--><rect fill=\"#FFFFFF\" height=\"45.9375\" id=\"E2\" style=\"stroke: #383838; stroke-width: 1.5;\" width=\"66\" x=\"580\" y=\"75\"/><text fill=\"#000000\" font-family=\"sans-serif\" font-size=\"12\" font-style=\"italic\" lengthAdjust=\"spacingAndGlyphs\" textLength=\"64\" x=\"581\" y=\"91.1387\">«port def»</text><text fill=\"#000000\" font-family=\"sans-serif\" font-size=\"12\" lengthAdjust=\"spacingAndGlyphs\" textLength=\"8\" x=\"609\" y=\"105.1074\">P</text><line style=\"stroke: #383838; stroke-width: 1.5;\" x1=\"581\" x2=\"645\" y1=\"112.9375\" y2=\"112.9375\"/><!--MD5=[09b614a08d8cba4a07c9adeb5e0fee81]\n",
       "class E3--><rect fill=\"#FFFFFF\" height=\"88.3516\" id=\"E3\" style=\"stroke: #383838; stroke-width: 1.5;\" width=\"66\" x=\"479\" y=\"54\"/><text fill=\"#000000\" font-family=\"sans-serif\" font-size=\"12\" font-style=\"italic\" lengthAdjust=\"spacingAndGlyphs\" textLength=\"64\" x=\"480\" y=\"70.1387\">«part def»</text><text fill=\"#000000\" font-family=\"sans-serif\" font-size=\"12\" lengthAdjust=\"spacingAndGlyphs\" textLength=\"8\" x=\"508\" y=\"84.1074\">B</text><line style=\"stroke: #383838; stroke-width: 1.5;\" x1=\"480\" x2=\"544\" y1=\"91.9375\" y2=\"91.9375\"/><text fill=\"#000000\" font-family=\"sans-serif\" font-size=\"11\" lengthAdjust=\"spacingAndGlyphs\" textLength=\"29\" x=\"485\" y=\"122.9526\">p1: P</text><text fill=\"#000000\" font-family=\"sans-serif\" font-size=\"11\" lengthAdjust=\"spacingAndGlyphs\" textLength=\"38\" x=\"485\" y=\"135.7573\">p2: ~P</text><line style=\"stroke: #383838; stroke-width: 1.0;\" x1=\"480\" x2=\"497\" y1=\"106.3398\" y2=\"106.3398\"/><text fill=\"#000000\" font-family=\"sans-serif\" font-size=\"11\" lengthAdjust=\"spacingAndGlyphs\" textLength=\"30\" x=\"497\" y=\"109.6479\">ports</text><line style=\"stroke: #383838; stroke-width: 1.0;\" x1=\"527\" x2=\"544\" y1=\"106.3398\" y2=\"106.3398\"/><!--MD5=[60a26617385b1d2d0262a64233df1f8d]\n",
       "class E6--><rect fill=\"#FFFFFF\" height=\"113.9609\" id=\"E6\" style=\"stroke: #383838; stroke-width: 1.5;\" width=\"144\" x=\"300\" y=\"41\"/><text fill=\"#000000\" font-family=\"sans-serif\" font-size=\"12\" font-style=\"italic\" lengthAdjust=\"spacingAndGlyphs\" textLength=\"108\" x=\"318\" y=\"57.1387\">«connection def»</text><text fill=\"#000000\" font-family=\"sans-serif\" font-size=\"12\" lengthAdjust=\"spacingAndGlyphs\" textLength=\"8\" x=\"368\" y=\"71.1074\">A</text><line style=\"stroke: #383838; stroke-width: 1.5;\" x1=\"301\" x2=\"443\" y1=\"78.9375\" y2=\"78.9375\"/><text fill=\"#000000\" font-family=\"sans-serif\" font-size=\"11\" lengthAdjust=\"spacingAndGlyphs\" textLength=\"29\" x=\"306\" y=\"109.9526\">p1: P</text><text fill=\"#000000\" font-family=\"sans-serif\" font-size=\"11\" font-style=\"italic\" lengthAdjust=\"spacingAndGlyphs\" textLength=\"132\" x=\"306\" y=\"122.7573\">:&gt;&gt;Connection::source</text><text fill=\"#000000\" font-family=\"sans-serif\" font-size=\"11\" lengthAdjust=\"spacingAndGlyphs\" textLength=\"38\" x=\"306\" y=\"135.562\">p2: ~P</text><text fill=\"#000000\" font-family=\"sans-serif\" font-size=\"11\" font-style=\"italic\" lengthAdjust=\"spacingAndGlyphs\" textLength=\"127\" x=\"306\" y=\"148.3667\">:&gt;&gt;Connection::target</text><line style=\"stroke: #383838; stroke-width: 1.0;\" x1=\"301\" x2=\"357\" y1=\"93.3398\" y2=\"93.3398\"/><text fill=\"#000000\" font-family=\"sans-serif\" font-size=\"11\" lengthAdjust=\"spacingAndGlyphs\" textLength=\"30\" x=\"357\" y=\"96.6479\">ports</text><line style=\"stroke: #383838; stroke-width: 1.0;\" x1=\"387\" x2=\"443\" y1=\"93.3398\" y2=\"93.3398\"/><!--MD5=[fd4143e9d270a159db93a4ea2a975926]\n",
       "class E9--><rect fill=\"#FFFFFF\" height=\"113.9609\" id=\"E9\" style=\"stroke: #383838; stroke-width: 1.5;\" width=\"131\" x=\"133.5\" y=\"41\"/><text fill=\"#000000\" font-family=\"sans-serif\" font-size=\"12\" font-style=\"italic\" lengthAdjust=\"spacingAndGlyphs\" textLength=\"94\" x=\"152\" y=\"57.1387\">«interface def»</text><text fill=\"#000000\" font-family=\"sans-serif\" font-size=\"12\" lengthAdjust=\"spacingAndGlyphs\" textLength=\"3\" x=\"197.5\" y=\"71.1074\">I</text><line style=\"stroke: #383838; stroke-width: 1.5;\" x1=\"134.5\" x2=\"263.5\" y1=\"78.9375\" y2=\"78.9375\"/><text fill=\"#000000\" font-family=\"sans-serif\" font-size=\"11\" lengthAdjust=\"spacingAndGlyphs\" textLength=\"29\" x=\"139.5\" y=\"109.9526\">p1: P</text><text fill=\"#000000\" font-family=\"sans-serif\" font-size=\"11\" font-style=\"italic\" lengthAdjust=\"spacingAndGlyphs\" textLength=\"119\" x=\"139.5\" y=\"122.7573\">:&gt;&gt;Interface::source</text><text fill=\"#000000\" font-family=\"sans-serif\" font-size=\"11\" lengthAdjust=\"spacingAndGlyphs\" textLength=\"38\" x=\"139.5\" y=\"135.562\">p2: ~P</text><text fill=\"#000000\" font-family=\"sans-serif\" font-size=\"11\" font-style=\"italic\" lengthAdjust=\"spacingAndGlyphs\" textLength=\"114\" x=\"139.5\" y=\"148.3667\">:&gt;&gt;Interface::target</text><line style=\"stroke: #383838; stroke-width: 1.0;\" x1=\"134.5\" x2=\"184\" y1=\"93.3398\" y2=\"93.3398\"/><text fill=\"#000000\" font-family=\"sans-serif\" font-size=\"11\" lengthAdjust=\"spacingAndGlyphs\" textLength=\"30\" x=\"184\" y=\"96.6479\">ports</text><line style=\"stroke: #383838; stroke-width: 1.0;\" x1=\"214\" x2=\"263.5\" y1=\"93.3398\" y2=\"93.3398\"/><!--MD5=[49a0ec8f00dab7302a31f22d0f0fe584]\n",
       "class E12--><rect fill=\"#FFFFFF\" height=\"45.9375\" id=\"E12\" style=\"stroke: #383838; stroke-width: 1.5;\" width=\"66\" x=\"32\" y=\"75\"/><text fill=\"#000000\" font-family=\"sans-serif\" font-size=\"12\" font-style=\"italic\" lengthAdjust=\"spacingAndGlyphs\" textLength=\"64\" x=\"33\" y=\"91.1387\">«part def»</text><text fill=\"#000000\" font-family=\"sans-serif\" font-size=\"12\" lengthAdjust=\"spacingAndGlyphs\" textLength=\"16\" x=\"57\" y=\"105.1074\">B1</text><line style=\"stroke: #383838; stroke-width: 1.5;\" x1=\"33\" x2=\"97\" y1=\"112.9375\" y2=\"112.9375\"/><!--MD5=[ee3c913d1a06f366521f9ef512b67efe]\n",
       "class E13--><rect fill=\"#FFFFFF\" height=\"88.3516\" id=\"E13\" rx=\"10\" ry=\"10\" style=\"stroke: #383838; stroke-width: 1.5;\" width=\"50\" x=\"40\" y=\"215\"/><text fill=\"#000000\" font-family=\"sans-serif\" font-size=\"12\" font-style=\"italic\" lengthAdjust=\"spacingAndGlyphs\" textLength=\"40\" x=\"45\" y=\"231.1387\">«part»</text><text fill=\"#000000\" font-family=\"sans-serif\" font-size=\"12\" lengthAdjust=\"spacingAndGlyphs\" textLength=\"42\" x=\"44\" y=\"245.1074\">p: Part</text><line style=\"stroke: #383838; stroke-width: 1.5;\" x1=\"41\" x2=\"89\" y1=\"252.9375\" y2=\"252.9375\"/><text fill=\"#000000\" font-family=\"sans-serif\" font-size=\"11\" lengthAdjust=\"spacingAndGlyphs\" textLength=\"29\" x=\"46\" y=\"283.9526\">p1: P</text><text fill=\"#000000\" font-family=\"sans-serif\" font-size=\"11\" lengthAdjust=\"spacingAndGlyphs\" textLength=\"38\" x=\"46\" y=\"296.7573\">p2: ~P</text><line style=\"stroke: #383838; stroke-width: 1.0;\" x1=\"41\" x2=\"50\" y1=\"267.3398\" y2=\"267.3398\"/><text fill=\"#000000\" font-family=\"sans-serif\" font-size=\"11\" lengthAdjust=\"spacingAndGlyphs\" textLength=\"30\" x=\"50\" y=\"270.6479\">ports</text><line style=\"stroke: #383838; stroke-width: 1.0;\" x1=\"80\" x2=\"89\" y1=\"267.3398\" y2=\"267.3398\"/><!--MD5=[062ed86c389d1a88f61c6380d0491e17]\n",
       "reverse link E12 to E13--><path d=\"M65,134.11 C65,157.9 65,189.5 65,214.83 \" fill=\"none\" id=\"E12&lt;-E13\" style=\"stroke: #383838; stroke-width: 1.0;\"/><polygon fill=\"#383838\" points=\"65,121.11,61,127.11,65,133.11,69,127.11,65,121.11\" style=\"stroke: #383838; stroke-width: 1.0;\"/><!--MD5=[cf86a68f14028425330e1acfe01f3a0b]\n",
       "@startuml\r\n",
       "skinparam linetype polyline\r\n",
       "skinparam monochrome true\r\n",
       "skinparam classbackgroundcolor white\r\n",
       "skinparam shadowing false\r\n",
       "skinparam wrapWidth 300\r\n",
       "hide circle\r\n",
       "\r\n",
       "package \"ConjugationTest\" as E1   {\r\n",
       "comp def \"P\" as E2  <<(T,blue)port def>> {\r\n",
       "}\r\n",
       "comp def \"B\" as E3  <<(T,blue)part def>> {\r\n",
       "- -ports- -\r\n",
       "p1: P\r\n",
       "p2: ~P\r\n",
       "}\r\n",
       "comp def \"A\" as E6  <<(T,blue)connection def>> {\r\n",
       "- -ports- -\r\n",
       "p1: P\\n//:>>Connection::source// \r\n",
       "p2: ~P\\n//:>>Connection::target// \r\n",
       "}\r\n",
       "comp def \"I\" as E9  <<(T,blue)interface def>> {\r\n",
       "- -ports- -\r\n",
       "p1: P\\n//:>>Interface::source// \r\n",
       "p2: ~P\\n//:>>Interface::target// \r\n",
       "}\r\n",
       "comp def \"B1\" as E12  <<(T,blue)part def>> {\r\n",
       "}\r\n",
       "comp usage \"p: Part\" as E13  <<(T,blue)part>> {\r\n",
       "- -ports- -\r\n",
       "p1: P\r\n",
       "p2: ~P\r\n",
       "}\r\n",
       "E12 *- - E13\r\n",
       "}\r\n",
       "@enduml\r\n",
       "\n",
       "PlantUML version 1.2020.13(Sat Jun 13 12:26:38 UTC 2020)\n",
       "(EPL source distribution)\n",
       "Java Runtime: OpenJDK Runtime Environment\n",
       "JVM: OpenJDK 64-Bit Server VM\n",
       "Default Encoding: UTF-8\n",
       "Language: en\n",
       "Country: null\n",
       "--></g></svg>"
      ]
     },
     "execution_count": 10,
     "metadata": {},
     "output_type": "execute_result"
    }
   ],
   "source": [
    "%viz --style=\"POLYLINE\" --view=\"Tree\" \"ConjugationTest\""
   ]
  },
  {
   "cell_type": "code",
   "execution_count": 11,
   "id": "surprised-madrid",
   "metadata": {
    "execution": {
     "iopub.execute_input": "2021-03-25T16:02:00.082024Z",
     "iopub.status.busy": "2021-03-25T16:02:00.081610Z",
     "iopub.status.idle": "2021-03-25T16:02:00.083717Z",
     "shell.execute_reply": "2021-03-25T16:02:00.084146Z"
    }
   },
   "outputs": [
    {
     "data": {
      "text/plain": [
       "java.lang.IllegalArgumentException: Invalid View: State View candidates are: Default Tree StateMachine Interconnection Activity Sequence MIXED \n",
       "\tat org.omg.sysml.plantuml.SysML2PlantUMLSvc.setView(SysML2PlantUMLSvc.java:63)\n",
       "\tat org.omg.sysml.interactive.SysMLInteractive.viz(SysMLInteractive.java:286)\n",
       "\tat org.omg.sysml.jupyter.kernel.magic.Viz.viz(Viz.java:47)\n",
       "\tat java.base/jdk.internal.reflect.NativeMethodAccessorImpl.invoke0(Native Method)\n",
       "\tat java.base/jdk.internal.reflect.NativeMethodAccessorImpl.invoke(NativeMethodAccessorImpl.java:78)\n",
       "\tat java.base/jdk.internal.reflect.DelegatingMethodAccessorImpl.invoke(DelegatingMethodAccessorImpl.java:43)\n",
       "\tat java.base/java.lang.reflect.Method.invoke(Method.java:568)\n",
       "\tat io.github.spencerpark.jupyter.kernel.magic.registry.Magics.invoke(Magics.java:89)\n",
       "\tat io.github.spencerpark.jupyter.kernel.magic.registry.Magics.access$000(Magics.java:8)\n",
       "\tat io.github.spencerpark.jupyter.kernel.magic.registry.Magics$LineReflectionMagicFunction.execute(Magics.java:149)\n",
       "\tat io.github.spencerpark.jupyter.kernel.magic.registry.Magics.applyLineMagic(Magics.java:26)\n",
       "\tat org.omg.sysml.jupyter.kernel.SysMLKernel.eval(SysMLKernel.java:76)\n",
       "\tat io.github.spencerpark.jupyter.kernel.BaseKernel.handleExecuteRequest(BaseKernel.java:334)\n",
       "\tat io.github.spencerpark.jupyter.channels.ShellChannel.lambda$bind$0(ShellChannel.java:64)\n",
       "\tat io.github.spencerpark.jupyter.channels.Loop.lambda$new$0(Loop.java:21)\n",
       "\tat io.github.spencerpark.jupyter.channels.Loop.run(Loop.java:78)\n"
      ]
     },
     "execution_count": 11,
     "metadata": {},
     "output_type": "execute_result"
    }
   ],
   "source": [
    "%viz --style=\"POLYLINE\" --view=\"State\" \"ConjugationTest\""
   ]
  },
  {
   "cell_type": "code",
   "execution_count": 12,
   "id": "sudden-employee",
   "metadata": {
    "execution": {
     "iopub.execute_input": "2021-03-25T16:02:00.137282Z",
     "iopub.status.busy": "2021-03-25T16:02:00.136470Z",
     "iopub.status.idle": "2021-03-25T16:02:00.286134Z",
     "shell.execute_reply": "2021-03-25T16:02:00.286553Z"
    }
   },
   "outputs": [
    {
     "data": {
      "image/svg+xml": [
       "<?xml version=\"1.0\" encoding=\"UTF-8\" standalone=\"no\"?><svg xmlns=\"http://www.w3.org/2000/svg\" xmlns:xlink=\"http://www.w3.org/1999/xlink\" contentScriptType=\"application/ecmascript\" contentStyleType=\"text/css\" height=\"252px\" preserveAspectRatio=\"none\" style=\"width:752px;height:252px;\" version=\"1.1\" viewBox=\"0 0 752 252\" width=\"752px\" zoomAndPan=\"magnify\"><defs/><g><!--MD5=[fbc87193dbaf4d95561dea2c320d4a47]\n",
       "cluster E1--><polygon fill=\"#FFFFFF\" points=\"16,6,151,6,158,28.2969,730,28.2969,730,240,16,240,16,6\" style=\"stroke: #000000; stroke-width: 1.5;\"/><line style=\"stroke: #000000; stroke-width: 1.5;\" x1=\"16\" x2=\"158\" y1=\"28.2969\" y2=\"28.2969\"/><text fill=\"#000000\" font-family=\"sans-serif\" font-size=\"14\" font-weight=\"bold\" lengthAdjust=\"spacingAndGlyphs\" textLength=\"129\" x=\"20\" y=\"20.9951\">ConjugationTest</text><!--MD5=[d5e69f78d87373223dbae638b30a9c99]\n",
       "cluster E3--><rect fill=\"#FFFFFF\" height=\"94\" style=\"stroke: #000000; stroke-width: 1.5;\" width=\"83\" x=\"590\" y=\"114\"/><text fill=\"#000000\" font-family=\"sans-serif\" font-size=\"14\" font-style=\"italic\" lengthAdjust=\"spacingAndGlyphs\" textLength=\"71\" x=\"596\" y=\"128.9951\">«part def»</text><text fill=\"#000000\" font-family=\"sans-serif\" font-size=\"14\" font-weight=\"bold\" lengthAdjust=\"spacingAndGlyphs\" textLength=\"10\" x=\"626.5\" y=\"145.292\">B</text><!--MD5=[14e3b0961a2654348d326746436168a1]\n",
       "cluster E6--><rect fill=\"#FFFFFF\" height=\"94\" style=\"stroke: #000000; stroke-width: 1.5;\" width=\"150\" x=\"436\" y=\"114\"/><text fill=\"#000000\" font-family=\"sans-serif\" font-size=\"14\" font-style=\"italic\" lengthAdjust=\"spacingAndGlyphs\" textLength=\"122\" x=\"450\" y=\"128.9951\">«connection def»</text><text fill=\"#000000\" font-family=\"sans-serif\" font-size=\"14\" font-weight=\"bold\" lengthAdjust=\"spacingAndGlyphs\" textLength=\"11\" x=\"505.5\" y=\"145.292\">A</text><!--MD5=[7f149f147074ac12df2cb0a7728a5fb0]\n",
       "cluster E9--><rect fill=\"#FFFFFF\" height=\"94\" style=\"stroke: #000000; stroke-width: 1.5;\" width=\"141\" x=\"267\" y=\"114\"/><text fill=\"#000000\" font-family=\"sans-serif\" font-size=\"14\" font-style=\"italic\" lengthAdjust=\"spacingAndGlyphs\" textLength=\"104\" x=\"285.5\" y=\"128.9951\">«interface def»</text><text fill=\"#000000\" font-family=\"sans-serif\" font-size=\"14\" font-weight=\"bold\" lengthAdjust=\"spacingAndGlyphs\" textLength=\"4\" x=\"335.5\" y=\"145.292\">I</text><!--MD5=[47bea60c1a0ac6c1143df232041969c0]\n",
       "cluster E12--><rect fill=\"#FFFFFF\" height=\"167\" style=\"stroke: #000000; stroke-width: 1.5;\" width=\"126\" x=\"114\" y=\"49\"/><text fill=\"#000000\" font-family=\"sans-serif\" font-size=\"14\" font-style=\"italic\" lengthAdjust=\"spacingAndGlyphs\" textLength=\"71\" x=\"141.5\" y=\"63.9951\">«part def»</text><text fill=\"#000000\" font-family=\"sans-serif\" font-size=\"14\" font-weight=\"bold\" lengthAdjust=\"spacingAndGlyphs\" textLength=\"20\" x=\"167\" y=\"80.292\">B1</text><!--MD5=[03104f77b71e2d8d3500c651e6e31181]\n",
       "cluster E13--><rect fill=\"#F8F8F8\" height=\"86\" rx=\"12.5\" ry=\"12.5\" style=\"stroke: #000000; stroke-width: 1.5;\" width=\"83\" x=\"126\" y=\"114\"/><rect fill=\"#FFFFFF\" height=\"53.7031\" rx=\"12.5\" ry=\"12.5\" style=\"stroke: #FFFFFF; stroke-width: 1.0;\" width=\"77\" x=\"129\" y=\"143.2969\"/><line style=\"stroke: #000000; stroke-width: 1.5;\" x1=\"126\" x2=\"209\" y1=\"140.2969\" y2=\"140.2969\"/><text fill=\"#000000\" font-family=\"sans-serif\" font-size=\"14\" lengthAdjust=\"spacingAndGlyphs\" textLength=\"45\" x=\"145\" y=\"131.9951\">p: Part</text><!--MD5=[b4997ac47864f28c2f74865a473b2911]\n",
       "class E2--><rect fill=\"#FFFFFF\" height=\"53.9375\" id=\"E2\" style=\"stroke: #383838; stroke-width: 1.5;\" width=\"66\" x=\"32\" y=\"87\"/><text fill=\"#000000\" font-family=\"sans-serif\" font-size=\"12\" font-style=\"italic\" lengthAdjust=\"spacingAndGlyphs\" textLength=\"64\" x=\"33\" y=\"103.1387\">«port def»</text><text fill=\"#000000\" font-family=\"sans-serif\" font-size=\"12\" lengthAdjust=\"spacingAndGlyphs\" textLength=\"8\" x=\"61\" y=\"117.1074\">P</text><line style=\"stroke: #383838; stroke-width: 1.5;\" x1=\"33\" x2=\"97\" y1=\"124.9375\" y2=\"124.9375\"/><line style=\"stroke: #383838; stroke-width: 1.5;\" x1=\"33\" x2=\"97\" y1=\"132.9375\" y2=\"132.9375\"/><text fill=\"#000000\" font-family=\"sans-serif\" font-size=\"14\" lengthAdjust=\"spacingAndGlyphs\" textLength=\"36\" x=\"590\" y=\"92.6982\">p1: P</text><rect fill=\"#383838\" height=\"12\" style=\"stroke: #F8F8F8; stroke-width: 1.5;\" width=\"12\" x=\"602\" y=\"108\"/><text fill=\"#000000\" font-family=\"sans-serif\" font-size=\"14\" lengthAdjust=\"spacingAndGlyphs\" textLength=\"48\" x=\"631\" y=\"92.6982\">p2: ~P</text><rect fill=\"#383838\" height=\"12\" style=\"stroke: #F8F8F8; stroke-width: 1.5;\" width=\"12\" x=\"649\" y=\"108\"/><text fill=\"#000000\" font-family=\"sans-serif\" font-size=\"14\" lengthAdjust=\"spacingAndGlyphs\" textLength=\"36\" x=\"436\" y=\"92.6982\">p1: P</text><rect fill=\"#383838\" height=\"12\" style=\"stroke: #F8F8F8; stroke-width: 1.5;\" width=\"12\" x=\"448\" y=\"108\"/><text fill=\"#000000\" font-family=\"sans-serif\" font-size=\"14\" lengthAdjust=\"spacingAndGlyphs\" textLength=\"48\" x=\"477\" y=\"92.6982\">p2: ~P</text><rect fill=\"#383838\" height=\"12\" style=\"stroke: #F8F8F8; stroke-width: 1.5;\" width=\"12\" x=\"495\" y=\"108\"/><text fill=\"#000000\" font-family=\"sans-serif\" font-size=\"14\" lengthAdjust=\"spacingAndGlyphs\" textLength=\"36\" x=\"267\" y=\"92.6982\">p1: P</text><rect fill=\"#383838\" height=\"12\" style=\"stroke: #F8F8F8; stroke-width: 1.5;\" width=\"12\" x=\"279\" y=\"108\"/><text fill=\"#000000\" font-family=\"sans-serif\" font-size=\"14\" lengthAdjust=\"spacingAndGlyphs\" textLength=\"48\" x=\"308\" y=\"92.6982\">p2: ~P</text><rect fill=\"#383838\" height=\"12\" style=\"stroke: #F8F8F8; stroke-width: 1.5;\" width=\"12\" x=\"326\" y=\"108\"/><text fill=\"#000000\" font-family=\"sans-serif\" font-size=\"14\" lengthAdjust=\"spacingAndGlyphs\" textLength=\"36\" x=\"126\" y=\"92.6982\">p1: P</text><rect fill=\"#383838\" height=\"12\" style=\"stroke: #F8F8F8; stroke-width: 1.5;\" width=\"12\" x=\"138\" y=\"108\"/><text fill=\"#000000\" font-family=\"sans-serif\" font-size=\"14\" lengthAdjust=\"spacingAndGlyphs\" textLength=\"48\" x=\"167\" y=\"92.6982\">p2: ~P</text><rect fill=\"#383838\" height=\"12\" style=\"stroke: #F8F8F8; stroke-width: 1.5;\" width=\"12\" x=\"185\" y=\"108\"/><!--MD5=[4ce51ac6fa4cf5202df3859e2718f033]\n",
       "link E15 to E14--><path d=\"M184.99,114 C180.57,114 175.33,114 175.33,114 C175.33,114 159.67,114 159.67,114 C159.67,114 154.43,114 150.01,114 \" fill=\"none\" id=\"E15-E14\" style=\"stroke: #383838; stroke-width: 3.0;\"/><!--MD5=[4ce51ac6fa4cf5202df3859e2718f033]\n",
       "link E15 to E14--><path d=\"M184.99,111.7 C180.57,110.01 175.33,108 175.33,108 C175.33,108 159.67,108 159.67,108 C159.67,108 154.43,110.01 150.01,111.7 \" fill=\"none\" id=\"E15-E14-1\" style=\"stroke: #383838; stroke-width: 3.0;\"/><!--MD5=[dff43c947b762315c0f36e8b7b18a1cc]\n",
       "@startuml\r\n",
       "skinparam ranksep 8\r\n",
       "skinparam rectangle {\r\n",
       " backgroundColor<<block>> LightGreen\r\n",
       "}\r\n",
       "skinparam linetype polyline\r\n",
       "skinparam monochrome true\r\n",
       "skinparam classbackgroundcolor white\r\n",
       "skinparam shadowing false\r\n",
       "skinparam wrapWidth 300\r\n",
       "hide circle\r\n",
       "\r\n",
       "package \"ConjugationTest\" as E1   {\r\n",
       "def \"P\" as E2  <<port def>> \r\n",
       "rec def \"B\" as E3  <<part def>> {\r\n",
       "portin \"p1: P\" as E4  <<port>> \r\n",
       "portin \"p2: ~P\" as E5  <<port>> \r\n",
       "}\r\n",
       "rec def \"A\" as E6  <<connection def>> {\r\n",
       "portin \"p1: P\" as E7  <<port>> \r\n",
       "portin \"p2: ~P\" as E8  <<port>> \r\n",
       "}\r\n",
       "rec def \"I\" as E9  <<interface def>> {\r\n",
       "portin \"p1: P\" as E10  <<port>> \r\n",
       "portin \"p2: ~P\" as E11  <<port>> \r\n",
       "}\r\n",
       "rec def \"B1\" as E12  <<part def>> {\r\n",
       "rec usage \"p: Part\" as E13  {\r\n",
       "portin \"p1: P\" as E14  <<port>> \r\n",
       "portin \"p2: ~P\" as E15  <<port>> \r\n",
       "}\r\n",
       "}\r\n",
       "E15 -[thickness=3]- E14\r\n",
       "E15 -[thickness=3]- E14\r\n",
       "}\r\n",
       "@enduml\r\n",
       "\n",
       "PlantUML version 1.2020.13(Sat Jun 13 12:26:38 UTC 2020)\n",
       "(EPL source distribution)\n",
       "Java Runtime: OpenJDK Runtime Environment\n",
       "JVM: OpenJDK 64-Bit Server VM\n",
       "Default Encoding: UTF-8\n",
       "Language: en\n",
       "Country: null\n",
       "--></g></svg>"
      ]
     },
     "execution_count": 12,
     "metadata": {},
     "output_type": "execute_result"
    }
   ],
   "source": [
    "%viz --style=\"POLYLINE\" --view=\"Interconnection\" \"ConjugationTest\""
   ]
  },
  {
   "cell_type": "code",
   "execution_count": 13,
   "id": "standing-annex",
   "metadata": {
    "execution": {
     "iopub.execute_input": "2021-03-25T16:02:00.337138Z",
     "iopub.status.busy": "2021-03-25T16:02:00.336486Z",
     "iopub.status.idle": "2021-03-25T16:02:00.338625Z",
     "shell.execute_reply": "2021-03-25T16:02:00.339143Z"
    }
   },
   "outputs": [
    {
     "data": {
      "text/plain": [
       "java.lang.IllegalArgumentException: Invalid View: Action View candidates are: Default Tree StateMachine Interconnection Activity Sequence MIXED \n",
       "\tat org.omg.sysml.plantuml.SysML2PlantUMLSvc.setView(SysML2PlantUMLSvc.java:63)\n",
       "\tat org.omg.sysml.interactive.SysMLInteractive.viz(SysMLInteractive.java:286)\n",
       "\tat org.omg.sysml.jupyter.kernel.magic.Viz.viz(Viz.java:47)\n",
       "\tat java.base/jdk.internal.reflect.NativeMethodAccessorImpl.invoke0(Native Method)\n",
       "\tat java.base/jdk.internal.reflect.NativeMethodAccessorImpl.invoke(NativeMethodAccessorImpl.java:78)\n",
       "\tat java.base/jdk.internal.reflect.DelegatingMethodAccessorImpl.invoke(DelegatingMethodAccessorImpl.java:43)\n",
       "\tat java.base/java.lang.reflect.Method.invoke(Method.java:568)\n",
       "\tat io.github.spencerpark.jupyter.kernel.magic.registry.Magics.invoke(Magics.java:89)\n",
       "\tat io.github.spencerpark.jupyter.kernel.magic.registry.Magics.access$000(Magics.java:8)\n",
       "\tat io.github.spencerpark.jupyter.kernel.magic.registry.Magics$LineReflectionMagicFunction.execute(Magics.java:149)\n",
       "\tat io.github.spencerpark.jupyter.kernel.magic.registry.Magics.applyLineMagic(Magics.java:26)\n",
       "\tat org.omg.sysml.jupyter.kernel.SysMLKernel.eval(SysMLKernel.java:76)\n",
       "\tat io.github.spencerpark.jupyter.kernel.BaseKernel.handleExecuteRequest(BaseKernel.java:334)\n",
       "\tat io.github.spencerpark.jupyter.channels.ShellChannel.lambda$bind$0(ShellChannel.java:64)\n",
       "\tat io.github.spencerpark.jupyter.channels.Loop.lambda$new$0(Loop.java:21)\n",
       "\tat io.github.spencerpark.jupyter.channels.Loop.run(Loop.java:78)\n"
      ]
     },
     "execution_count": 13,
     "metadata": {},
     "output_type": "execute_result"
    }
   ],
   "source": [
    "%viz --style=\"POLYLINE\" --view=\"Action\" \"ConjugationTest\""
   ]
  },
  {
   "cell_type": "code",
   "execution_count": 14,
   "id": "blessed-eight",
   "metadata": {
    "execution": {
     "iopub.execute_input": "2021-03-25T16:02:00.390972Z",
     "iopub.status.busy": "2021-03-25T16:02:00.390158Z",
     "iopub.status.idle": "2021-03-25T16:02:02.186713Z",
     "shell.execute_reply": "2021-03-25T16:02:02.186179Z"
    }
   },
   "outputs": [
    {
     "data": {
      "image/svg+xml": [
       "<?xml version=\"1.0\" encoding=\"UTF-8\" standalone=\"no\"?><svg xmlns=\"http://www.w3.org/2000/svg\" xmlns:xlink=\"http://www.w3.org/1999/xlink\" contentScriptType=\"application/ecmascript\" contentStyleType=\"text/css\" height=\"331px\" preserveAspectRatio=\"none\" style=\"width:684px;height:331px;\" version=\"1.1\" viewBox=\"0 0 684 331\" width=\"684px\" zoomAndPan=\"magnify\"><defs/><g><!--MD5=[fbc87193dbaf4d95561dea2c320d4a47]\n",
       "cluster E1--><polygon fill=\"#FFFFFF\" points=\"16,6,151,6,158,28.2969,662,28.2969,662,319,16,319,16,6\" style=\"stroke: #000000; stroke-width: 1.5;\"/><line style=\"stroke: #000000; stroke-width: 1.5;\" x1=\"16\" x2=\"158\" y1=\"28.2969\" y2=\"28.2969\"/><text fill=\"#000000\" font-family=\"sans-serif\" font-size=\"14\" font-weight=\"bold\" lengthAdjust=\"spacingAndGlyphs\" textLength=\"129\" x=\"20\" y=\"20.9951\">ConjugationTest</text><!--MD5=[b4997ac47864f28c2f74865a473b2911]\n",
       "class E2--><rect fill=\"#FFFFFF\" height=\"45.9375\" id=\"E2\" style=\"stroke: #383838; stroke-width: 1.5;\" width=\"66\" x=\"580\" y=\"75\"/><text fill=\"#000000\" font-family=\"sans-serif\" font-size=\"12\" font-style=\"italic\" lengthAdjust=\"spacingAndGlyphs\" textLength=\"64\" x=\"581\" y=\"91.1387\">«port def»</text><text fill=\"#000000\" font-family=\"sans-serif\" font-size=\"12\" lengthAdjust=\"spacingAndGlyphs\" textLength=\"8\" x=\"609\" y=\"105.1074\">P</text><line style=\"stroke: #383838; stroke-width: 1.5;\" x1=\"581\" x2=\"645\" y1=\"112.9375\" y2=\"112.9375\"/><!--MD5=[09b614a08d8cba4a07c9adeb5e0fee81]\n",
       "class E3--><rect fill=\"#FFFFFF\" height=\"88.3516\" id=\"E3\" style=\"stroke: #383838; stroke-width: 1.5;\" width=\"66\" x=\"479\" y=\"54\"/><text fill=\"#000000\" font-family=\"sans-serif\" font-size=\"12\" font-style=\"italic\" lengthAdjust=\"spacingAndGlyphs\" textLength=\"64\" x=\"480\" y=\"70.1387\">«part def»</text><text fill=\"#000000\" font-family=\"sans-serif\" font-size=\"12\" lengthAdjust=\"spacingAndGlyphs\" textLength=\"8\" x=\"508\" y=\"84.1074\">B</text><line style=\"stroke: #383838; stroke-width: 1.5;\" x1=\"480\" x2=\"544\" y1=\"91.9375\" y2=\"91.9375\"/><text fill=\"#000000\" font-family=\"sans-serif\" font-size=\"11\" lengthAdjust=\"spacingAndGlyphs\" textLength=\"29\" x=\"485\" y=\"122.9526\">p1: P</text><text fill=\"#000000\" font-family=\"sans-serif\" font-size=\"11\" lengthAdjust=\"spacingAndGlyphs\" textLength=\"38\" x=\"485\" y=\"135.7573\">p2: ~P</text><line style=\"stroke: #383838; stroke-width: 1.0;\" x1=\"480\" x2=\"497\" y1=\"106.3398\" y2=\"106.3398\"/><text fill=\"#000000\" font-family=\"sans-serif\" font-size=\"11\" lengthAdjust=\"spacingAndGlyphs\" textLength=\"30\" x=\"497\" y=\"109.6479\">ports</text><line style=\"stroke: #383838; stroke-width: 1.0;\" x1=\"527\" x2=\"544\" y1=\"106.3398\" y2=\"106.3398\"/><!--MD5=[60a26617385b1d2d0262a64233df1f8d]\n",
       "class E6--><rect fill=\"#FFFFFF\" height=\"113.9609\" id=\"E6\" style=\"stroke: #383838; stroke-width: 1.5;\" width=\"144\" x=\"300\" y=\"41\"/><text fill=\"#000000\" font-family=\"sans-serif\" font-size=\"12\" font-style=\"italic\" lengthAdjust=\"spacingAndGlyphs\" textLength=\"108\" x=\"318\" y=\"57.1387\">«connection def»</text><text fill=\"#000000\" font-family=\"sans-serif\" font-size=\"12\" lengthAdjust=\"spacingAndGlyphs\" textLength=\"8\" x=\"368\" y=\"71.1074\">A</text><line style=\"stroke: #383838; stroke-width: 1.5;\" x1=\"301\" x2=\"443\" y1=\"78.9375\" y2=\"78.9375\"/><text fill=\"#000000\" font-family=\"sans-serif\" font-size=\"11\" lengthAdjust=\"spacingAndGlyphs\" textLength=\"29\" x=\"306\" y=\"109.9526\">p1: P</text><text fill=\"#000000\" font-family=\"sans-serif\" font-size=\"11\" font-style=\"italic\" lengthAdjust=\"spacingAndGlyphs\" textLength=\"132\" x=\"306\" y=\"122.7573\">:&gt;&gt;Connection::source</text><text fill=\"#000000\" font-family=\"sans-serif\" font-size=\"11\" lengthAdjust=\"spacingAndGlyphs\" textLength=\"38\" x=\"306\" y=\"135.562\">p2: ~P</text><text fill=\"#000000\" font-family=\"sans-serif\" font-size=\"11\" font-style=\"italic\" lengthAdjust=\"spacingAndGlyphs\" textLength=\"127\" x=\"306\" y=\"148.3667\">:&gt;&gt;Connection::target</text><line style=\"stroke: #383838; stroke-width: 1.0;\" x1=\"301\" x2=\"357\" y1=\"93.3398\" y2=\"93.3398\"/><text fill=\"#000000\" font-family=\"sans-serif\" font-size=\"11\" lengthAdjust=\"spacingAndGlyphs\" textLength=\"30\" x=\"357\" y=\"96.6479\">ports</text><line style=\"stroke: #383838; stroke-width: 1.0;\" x1=\"387\" x2=\"443\" y1=\"93.3398\" y2=\"93.3398\"/><!--MD5=[fd4143e9d270a159db93a4ea2a975926]\n",
       "class E9--><rect fill=\"#FFFFFF\" height=\"113.9609\" id=\"E9\" style=\"stroke: #383838; stroke-width: 1.5;\" width=\"131\" x=\"133.5\" y=\"41\"/><text fill=\"#000000\" font-family=\"sans-serif\" font-size=\"12\" font-style=\"italic\" lengthAdjust=\"spacingAndGlyphs\" textLength=\"94\" x=\"152\" y=\"57.1387\">«interface def»</text><text fill=\"#000000\" font-family=\"sans-serif\" font-size=\"12\" lengthAdjust=\"spacingAndGlyphs\" textLength=\"3\" x=\"197.5\" y=\"71.1074\">I</text><line style=\"stroke: #383838; stroke-width: 1.5;\" x1=\"134.5\" x2=\"263.5\" y1=\"78.9375\" y2=\"78.9375\"/><text fill=\"#000000\" font-family=\"sans-serif\" font-size=\"11\" lengthAdjust=\"spacingAndGlyphs\" textLength=\"29\" x=\"139.5\" y=\"109.9526\">p1: P</text><text fill=\"#000000\" font-family=\"sans-serif\" font-size=\"11\" font-style=\"italic\" lengthAdjust=\"spacingAndGlyphs\" textLength=\"119\" x=\"139.5\" y=\"122.7573\">:&gt;&gt;Interface::source</text><text fill=\"#000000\" font-family=\"sans-serif\" font-size=\"11\" lengthAdjust=\"spacingAndGlyphs\" textLength=\"38\" x=\"139.5\" y=\"135.562\">p2: ~P</text><text fill=\"#000000\" font-family=\"sans-serif\" font-size=\"11\" font-style=\"italic\" lengthAdjust=\"spacingAndGlyphs\" textLength=\"114\" x=\"139.5\" y=\"148.3667\">:&gt;&gt;Interface::target</text><line style=\"stroke: #383838; stroke-width: 1.0;\" x1=\"134.5\" x2=\"184\" y1=\"93.3398\" y2=\"93.3398\"/><text fill=\"#000000\" font-family=\"sans-serif\" font-size=\"11\" lengthAdjust=\"spacingAndGlyphs\" textLength=\"30\" x=\"184\" y=\"96.6479\">ports</text><line style=\"stroke: #383838; stroke-width: 1.0;\" x1=\"214\" x2=\"263.5\" y1=\"93.3398\" y2=\"93.3398\"/><!--MD5=[49a0ec8f00dab7302a31f22d0f0fe584]\n",
       "class E12--><rect fill=\"#FFFFFF\" height=\"45.9375\" id=\"E12\" style=\"stroke: #383838; stroke-width: 1.5;\" width=\"66\" x=\"32\" y=\"75\"/><text fill=\"#000000\" font-family=\"sans-serif\" font-size=\"12\" font-style=\"italic\" lengthAdjust=\"spacingAndGlyphs\" textLength=\"64\" x=\"33\" y=\"91.1387\">«part def»</text><text fill=\"#000000\" font-family=\"sans-serif\" font-size=\"12\" lengthAdjust=\"spacingAndGlyphs\" textLength=\"16\" x=\"57\" y=\"105.1074\">B1</text><line style=\"stroke: #383838; stroke-width: 1.5;\" x1=\"33\" x2=\"97\" y1=\"112.9375\" y2=\"112.9375\"/><!--MD5=[ee3c913d1a06f366521f9ef512b67efe]\n",
       "class E13--><rect fill=\"#FFFFFF\" height=\"88.3516\" id=\"E13\" rx=\"10\" ry=\"10\" style=\"stroke: #383838; stroke-width: 1.5;\" width=\"50\" x=\"40\" y=\"215\"/><text fill=\"#000000\" font-family=\"sans-serif\" font-size=\"12\" font-style=\"italic\" lengthAdjust=\"spacingAndGlyphs\" textLength=\"40\" x=\"45\" y=\"231.1387\">«part»</text><text fill=\"#000000\" font-family=\"sans-serif\" font-size=\"12\" lengthAdjust=\"spacingAndGlyphs\" textLength=\"42\" x=\"44\" y=\"245.1074\">p: Part</text><line style=\"stroke: #383838; stroke-width: 1.5;\" x1=\"41\" x2=\"89\" y1=\"252.9375\" y2=\"252.9375\"/><text fill=\"#000000\" font-family=\"sans-serif\" font-size=\"11\" lengthAdjust=\"spacingAndGlyphs\" textLength=\"29\" x=\"46\" y=\"283.9526\">p1: P</text><text fill=\"#000000\" font-family=\"sans-serif\" font-size=\"11\" lengthAdjust=\"spacingAndGlyphs\" textLength=\"38\" x=\"46\" y=\"296.7573\">p2: ~P</text><line style=\"stroke: #383838; stroke-width: 1.0;\" x1=\"41\" x2=\"50\" y1=\"267.3398\" y2=\"267.3398\"/><text fill=\"#000000\" font-family=\"sans-serif\" font-size=\"11\" lengthAdjust=\"spacingAndGlyphs\" textLength=\"30\" x=\"50\" y=\"270.6479\">ports</text><line style=\"stroke: #383838; stroke-width: 1.0;\" x1=\"80\" x2=\"89\" y1=\"267.3398\" y2=\"267.3398\"/><!--MD5=[062ed86c389d1a88f61c6380d0491e17]\n",
       "reverse link E12 to E13--><path d=\"M65,134.11 C65,157.9 65,189.5 65,214.83 \" fill=\"none\" id=\"E12&lt;-E13\" style=\"stroke: #383838; stroke-width: 1.0;\"/><polygon fill=\"#383838\" points=\"65,121.11,61,127.11,65,133.11,69,127.11,65,121.11\" style=\"stroke: #383838; stroke-width: 1.0;\"/><!--MD5=[cf86a68f14028425330e1acfe01f3a0b]\n",
       "@startuml\r\n",
       "skinparam linetype polyline\r\n",
       "skinparam monochrome true\r\n",
       "skinparam classbackgroundcolor white\r\n",
       "skinparam shadowing false\r\n",
       "skinparam wrapWidth 300\r\n",
       "hide circle\r\n",
       "\r\n",
       "package \"ConjugationTest\" as E1   {\r\n",
       "comp def \"P\" as E2  <<(T,blue)port def>> {\r\n",
       "}\r\n",
       "comp def \"B\" as E3  <<(T,blue)part def>> {\r\n",
       "- -ports- -\r\n",
       "p1: P\r\n",
       "p2: ~P\r\n",
       "}\r\n",
       "comp def \"A\" as E6  <<(T,blue)connection def>> {\r\n",
       "- -ports- -\r\n",
       "p1: P\\n//:>>Connection::source// \r\n",
       "p2: ~P\\n//:>>Connection::target// \r\n",
       "}\r\n",
       "comp def \"I\" as E9  <<(T,blue)interface def>> {\r\n",
       "- -ports- -\r\n",
       "p1: P\\n//:>>Interface::source// \r\n",
       "p2: ~P\\n//:>>Interface::target// \r\n",
       "}\r\n",
       "comp def \"B1\" as E12  <<(T,blue)part def>> {\r\n",
       "}\r\n",
       "comp usage \"p: Part\" as E13  <<(T,blue)part>> {\r\n",
       "- -ports- -\r\n",
       "p1: P\r\n",
       "p2: ~P\r\n",
       "}\r\n",
       "E12 *- - E13\r\n",
       "}\r\n",
       "@enduml\r\n",
       "\n",
       "PlantUML version 1.2020.13(Sat Jun 13 12:26:38 UTC 2020)\n",
       "(EPL source distribution)\n",
       "Java Runtime: OpenJDK Runtime Environment\n",
       "JVM: OpenJDK 64-Bit Server VM\n",
       "Default Encoding: UTF-8\n",
       "Language: en\n",
       "Country: null\n",
       "--></g></svg>"
      ]
     },
     "execution_count": 14,
     "metadata": {},
     "output_type": "execute_result"
    }
   ],
   "source": [
    "%viz --style=\"POLYLINE\" --view=\"Sequence\" \"ConjugationTest\""
   ]
  },
  {
   "cell_type": "code",
   "execution_count": 15,
   "id": "hundred-nicholas",
   "metadata": {
    "execution": {
     "iopub.execute_input": "2021-03-25T16:02:02.240141Z",
     "iopub.status.busy": "2021-03-25T16:02:02.239273Z",
     "iopub.status.idle": "2021-03-25T16:02:03.942064Z",
     "shell.execute_reply": "2021-03-25T16:02:03.940366Z"
    }
   },
   "outputs": [
    {
     "data": {
      "image/svg+xml": [
       "<?xml version=\"1.0\" encoding=\"UTF-8\" standalone=\"no\"?><svg xmlns=\"http://www.w3.org/2000/svg\" xmlns:xlink=\"http://www.w3.org/1999/xlink\" contentScriptType=\"application/ecmascript\" contentStyleType=\"text/css\" height=\"331px\" preserveAspectRatio=\"none\" style=\"width:684px;height:331px;\" version=\"1.1\" viewBox=\"0 0 684 331\" width=\"684px\" zoomAndPan=\"magnify\"><defs/><g><!--MD5=[fbc87193dbaf4d95561dea2c320d4a47]\n",
       "cluster E1--><polygon fill=\"#FFFFFF\" points=\"16,6,151,6,158,28.2969,662,28.2969,662,319,16,319,16,6\" style=\"stroke: #000000; stroke-width: 1.5;\"/><line style=\"stroke: #000000; stroke-width: 1.5;\" x1=\"16\" x2=\"158\" y1=\"28.2969\" y2=\"28.2969\"/><text fill=\"#000000\" font-family=\"sans-serif\" font-size=\"14\" font-weight=\"bold\" lengthAdjust=\"spacingAndGlyphs\" textLength=\"129\" x=\"20\" y=\"20.9951\">ConjugationTest</text><!--MD5=[b4997ac47864f28c2f74865a473b2911]\n",
       "class E2--><rect fill=\"#FFFFFF\" height=\"45.9375\" id=\"E2\" style=\"stroke: #383838; stroke-width: 1.5;\" width=\"66\" x=\"580\" y=\"75\"/><text fill=\"#000000\" font-family=\"sans-serif\" font-size=\"12\" font-style=\"italic\" lengthAdjust=\"spacingAndGlyphs\" textLength=\"64\" x=\"581\" y=\"91.1387\">«port def»</text><text fill=\"#000000\" font-family=\"sans-serif\" font-size=\"12\" lengthAdjust=\"spacingAndGlyphs\" textLength=\"8\" x=\"609\" y=\"105.1074\">P</text><line style=\"stroke: #383838; stroke-width: 1.5;\" x1=\"581\" x2=\"645\" y1=\"112.9375\" y2=\"112.9375\"/><!--MD5=[09b614a08d8cba4a07c9adeb5e0fee81]\n",
       "class E3--><rect fill=\"#FFFFFF\" height=\"88.3516\" id=\"E3\" style=\"stroke: #383838; stroke-width: 1.5;\" width=\"66\" x=\"479\" y=\"54\"/><text fill=\"#000000\" font-family=\"sans-serif\" font-size=\"12\" font-style=\"italic\" lengthAdjust=\"spacingAndGlyphs\" textLength=\"64\" x=\"480\" y=\"70.1387\">«part def»</text><text fill=\"#000000\" font-family=\"sans-serif\" font-size=\"12\" lengthAdjust=\"spacingAndGlyphs\" textLength=\"8\" x=\"508\" y=\"84.1074\">B</text><line style=\"stroke: #383838; stroke-width: 1.5;\" x1=\"480\" x2=\"544\" y1=\"91.9375\" y2=\"91.9375\"/><text fill=\"#000000\" font-family=\"sans-serif\" font-size=\"11\" lengthAdjust=\"spacingAndGlyphs\" textLength=\"29\" x=\"485\" y=\"122.9526\">p1: P</text><text fill=\"#000000\" font-family=\"sans-serif\" font-size=\"11\" lengthAdjust=\"spacingAndGlyphs\" textLength=\"38\" x=\"485\" y=\"135.7573\">p2: ~P</text><line style=\"stroke: #383838; stroke-width: 1.0;\" x1=\"480\" x2=\"497\" y1=\"106.3398\" y2=\"106.3398\"/><text fill=\"#000000\" font-family=\"sans-serif\" font-size=\"11\" lengthAdjust=\"spacingAndGlyphs\" textLength=\"30\" x=\"497\" y=\"109.6479\">ports</text><line style=\"stroke: #383838; stroke-width: 1.0;\" x1=\"527\" x2=\"544\" y1=\"106.3398\" y2=\"106.3398\"/><!--MD5=[60a26617385b1d2d0262a64233df1f8d]\n",
       "class E6--><rect fill=\"#FFFFFF\" height=\"113.9609\" id=\"E6\" style=\"stroke: #383838; stroke-width: 1.5;\" width=\"144\" x=\"300\" y=\"41\"/><text fill=\"#000000\" font-family=\"sans-serif\" font-size=\"12\" font-style=\"italic\" lengthAdjust=\"spacingAndGlyphs\" textLength=\"108\" x=\"318\" y=\"57.1387\">«connection def»</text><text fill=\"#000000\" font-family=\"sans-serif\" font-size=\"12\" lengthAdjust=\"spacingAndGlyphs\" textLength=\"8\" x=\"368\" y=\"71.1074\">A</text><line style=\"stroke: #383838; stroke-width: 1.5;\" x1=\"301\" x2=\"443\" y1=\"78.9375\" y2=\"78.9375\"/><text fill=\"#000000\" font-family=\"sans-serif\" font-size=\"11\" lengthAdjust=\"spacingAndGlyphs\" textLength=\"29\" x=\"306\" y=\"109.9526\">p1: P</text><text fill=\"#000000\" font-family=\"sans-serif\" font-size=\"11\" font-style=\"italic\" lengthAdjust=\"spacingAndGlyphs\" textLength=\"132\" x=\"306\" y=\"122.7573\">:&gt;&gt;Connection::source</text><text fill=\"#000000\" font-family=\"sans-serif\" font-size=\"11\" lengthAdjust=\"spacingAndGlyphs\" textLength=\"38\" x=\"306\" y=\"135.562\">p2: ~P</text><text fill=\"#000000\" font-family=\"sans-serif\" font-size=\"11\" font-style=\"italic\" lengthAdjust=\"spacingAndGlyphs\" textLength=\"127\" x=\"306\" y=\"148.3667\">:&gt;&gt;Connection::target</text><line style=\"stroke: #383838; stroke-width: 1.0;\" x1=\"301\" x2=\"357\" y1=\"93.3398\" y2=\"93.3398\"/><text fill=\"#000000\" font-family=\"sans-serif\" font-size=\"11\" lengthAdjust=\"spacingAndGlyphs\" textLength=\"30\" x=\"357\" y=\"96.6479\">ports</text><line style=\"stroke: #383838; stroke-width: 1.0;\" x1=\"387\" x2=\"443\" y1=\"93.3398\" y2=\"93.3398\"/><!--MD5=[fd4143e9d270a159db93a4ea2a975926]\n",
       "class E9--><rect fill=\"#FFFFFF\" height=\"113.9609\" id=\"E9\" style=\"stroke: #383838; stroke-width: 1.5;\" width=\"131\" x=\"133.5\" y=\"41\"/><text fill=\"#000000\" font-family=\"sans-serif\" font-size=\"12\" font-style=\"italic\" lengthAdjust=\"spacingAndGlyphs\" textLength=\"94\" x=\"152\" y=\"57.1387\">«interface def»</text><text fill=\"#000000\" font-family=\"sans-serif\" font-size=\"12\" lengthAdjust=\"spacingAndGlyphs\" textLength=\"3\" x=\"197.5\" y=\"71.1074\">I</text><line style=\"stroke: #383838; stroke-width: 1.5;\" x1=\"134.5\" x2=\"263.5\" y1=\"78.9375\" y2=\"78.9375\"/><text fill=\"#000000\" font-family=\"sans-serif\" font-size=\"11\" lengthAdjust=\"spacingAndGlyphs\" textLength=\"29\" x=\"139.5\" y=\"109.9526\">p1: P</text><text fill=\"#000000\" font-family=\"sans-serif\" font-size=\"11\" font-style=\"italic\" lengthAdjust=\"spacingAndGlyphs\" textLength=\"119\" x=\"139.5\" y=\"122.7573\">:&gt;&gt;Interface::source</text><text fill=\"#000000\" font-family=\"sans-serif\" font-size=\"11\" lengthAdjust=\"spacingAndGlyphs\" textLength=\"38\" x=\"139.5\" y=\"135.562\">p2: ~P</text><text fill=\"#000000\" font-family=\"sans-serif\" font-size=\"11\" font-style=\"italic\" lengthAdjust=\"spacingAndGlyphs\" textLength=\"114\" x=\"139.5\" y=\"148.3667\">:&gt;&gt;Interface::target</text><line style=\"stroke: #383838; stroke-width: 1.0;\" x1=\"134.5\" x2=\"184\" y1=\"93.3398\" y2=\"93.3398\"/><text fill=\"#000000\" font-family=\"sans-serif\" font-size=\"11\" lengthAdjust=\"spacingAndGlyphs\" textLength=\"30\" x=\"184\" y=\"96.6479\">ports</text><line style=\"stroke: #383838; stroke-width: 1.0;\" x1=\"214\" x2=\"263.5\" y1=\"93.3398\" y2=\"93.3398\"/><!--MD5=[49a0ec8f00dab7302a31f22d0f0fe584]\n",
       "class E12--><rect fill=\"#FFFFFF\" height=\"45.9375\" id=\"E12\" style=\"stroke: #383838; stroke-width: 1.5;\" width=\"66\" x=\"32\" y=\"75\"/><text fill=\"#000000\" font-family=\"sans-serif\" font-size=\"12\" font-style=\"italic\" lengthAdjust=\"spacingAndGlyphs\" textLength=\"64\" x=\"33\" y=\"91.1387\">«part def»</text><text fill=\"#000000\" font-family=\"sans-serif\" font-size=\"12\" lengthAdjust=\"spacingAndGlyphs\" textLength=\"16\" x=\"57\" y=\"105.1074\">B1</text><line style=\"stroke: #383838; stroke-width: 1.5;\" x1=\"33\" x2=\"97\" y1=\"112.9375\" y2=\"112.9375\"/><!--MD5=[ee3c913d1a06f366521f9ef512b67efe]\n",
       "class E13--><rect fill=\"#FFFFFF\" height=\"88.3516\" id=\"E13\" rx=\"10\" ry=\"10\" style=\"stroke: #383838; stroke-width: 1.5;\" width=\"50\" x=\"40\" y=\"215\"/><text fill=\"#000000\" font-family=\"sans-serif\" font-size=\"12\" font-style=\"italic\" lengthAdjust=\"spacingAndGlyphs\" textLength=\"40\" x=\"45\" y=\"231.1387\">«part»</text><text fill=\"#000000\" font-family=\"sans-serif\" font-size=\"12\" lengthAdjust=\"spacingAndGlyphs\" textLength=\"42\" x=\"44\" y=\"245.1074\">p: Part</text><line style=\"stroke: #383838; stroke-width: 1.5;\" x1=\"41\" x2=\"89\" y1=\"252.9375\" y2=\"252.9375\"/><text fill=\"#000000\" font-family=\"sans-serif\" font-size=\"11\" lengthAdjust=\"spacingAndGlyphs\" textLength=\"29\" x=\"46\" y=\"283.9526\">p1: P</text><text fill=\"#000000\" font-family=\"sans-serif\" font-size=\"11\" lengthAdjust=\"spacingAndGlyphs\" textLength=\"38\" x=\"46\" y=\"296.7573\">p2: ~P</text><line style=\"stroke: #383838; stroke-width: 1.0;\" x1=\"41\" x2=\"50\" y1=\"267.3398\" y2=\"267.3398\"/><text fill=\"#000000\" font-family=\"sans-serif\" font-size=\"11\" lengthAdjust=\"spacingAndGlyphs\" textLength=\"30\" x=\"50\" y=\"270.6479\">ports</text><line style=\"stroke: #383838; stroke-width: 1.0;\" x1=\"80\" x2=\"89\" y1=\"267.3398\" y2=\"267.3398\"/><!--MD5=[062ed86c389d1a88f61c6380d0491e17]\n",
       "reverse link E12 to E13--><path d=\"M65,134.11 C65,157.9 65,189.5 65,214.83 \" fill=\"none\" id=\"E12&lt;-E13\" style=\"stroke: #383838; stroke-width: 1.0;\"/><polygon fill=\"#383838\" points=\"65,121.11,61,127.11,65,133.11,69,127.11,65,121.11\" style=\"stroke: #383838; stroke-width: 1.0;\"/><!--MD5=[cf86a68f14028425330e1acfe01f3a0b]\n",
       "@startuml\r\n",
       "skinparam linetype polyline\r\n",
       "skinparam monochrome true\r\n",
       "skinparam classbackgroundcolor white\r\n",
       "skinparam shadowing false\r\n",
       "skinparam wrapWidth 300\r\n",
       "hide circle\r\n",
       "\r\n",
       "package \"ConjugationTest\" as E1   {\r\n",
       "comp def \"P\" as E2  <<(T,blue)port def>> {\r\n",
       "}\r\n",
       "comp def \"B\" as E3  <<(T,blue)part def>> {\r\n",
       "- -ports- -\r\n",
       "p1: P\r\n",
       "p2: ~P\r\n",
       "}\r\n",
       "comp def \"A\" as E6  <<(T,blue)connection def>> {\r\n",
       "- -ports- -\r\n",
       "p1: P\\n//:>>Connection::source// \r\n",
       "p2: ~P\\n//:>>Connection::target// \r\n",
       "}\r\n",
       "comp def \"I\" as E9  <<(T,blue)interface def>> {\r\n",
       "- -ports- -\r\n",
       "p1: P\\n//:>>Interface::source// \r\n",
       "p2: ~P\\n//:>>Interface::target// \r\n",
       "}\r\n",
       "comp def \"B1\" as E12  <<(T,blue)part def>> {\r\n",
       "}\r\n",
       "comp usage \"p: Part\" as E13  <<(T,blue)part>> {\r\n",
       "- -ports- -\r\n",
       "p1: P\r\n",
       "p2: ~P\r\n",
       "}\r\n",
       "E12 *- - E13\r\n",
       "}\r\n",
       "@enduml\r\n",
       "\n",
       "PlantUML version 1.2020.13(Sat Jun 13 12:26:38 UTC 2020)\n",
       "(EPL source distribution)\n",
       "Java Runtime: OpenJDK Runtime Environment\n",
       "JVM: OpenJDK 64-Bit Server VM\n",
       "Default Encoding: UTF-8\n",
       "Language: en\n",
       "Country: null\n",
       "--></g></svg>"
      ]
     },
     "execution_count": 15,
     "metadata": {},
     "output_type": "execute_result"
    }
   ],
   "source": [
    "%viz --style=\"POLYLINE\" --view=\"MIXED\" \"ConjugationTest\""
   ]
  },
  {
   "cell_type": "code",
   "execution_count": 16,
   "id": "developing-military",
   "metadata": {
    "execution": {
     "iopub.execute_input": "2021-03-25T16:02:03.994151Z",
     "iopub.status.busy": "2021-03-25T16:02:03.993598Z",
     "iopub.status.idle": "2021-03-25T16:02:05.678039Z",
     "shell.execute_reply": "2021-03-25T16:02:05.678521Z"
    }
   },
   "outputs": [
    {
     "data": {
      "image/svg+xml": [
       "<?xml version=\"1.0\" encoding=\"UTF-8\" standalone=\"no\"?><svg xmlns=\"http://www.w3.org/2000/svg\" xmlns:xlink=\"http://www.w3.org/1999/xlink\" contentScriptType=\"application/ecmascript\" contentStyleType=\"text/css\" height=\"617px\" preserveAspectRatio=\"none\" style=\"width:324px;height:617px;\" version=\"1.1\" viewBox=\"0 0 324 617\" width=\"324px\" zoomAndPan=\"magnify\"><defs/><g><!--MD5=[fbc87193dbaf4d95561dea2c320d4a47]\n",
       "cluster E1--><polygon fill=\"#FFFFFF\" points=\"16,6,151,6,158,28.2969,302,28.2969,302,605,16,605,16,6\" style=\"stroke: #000000; stroke-width: 1.5;\"/><line style=\"stroke: #000000; stroke-width: 1.5;\" x1=\"16\" x2=\"158\" y1=\"28.2969\" y2=\"28.2969\"/><text fill=\"#000000\" font-family=\"sans-serif\" font-size=\"14\" font-weight=\"bold\" lengthAdjust=\"spacingAndGlyphs\" textLength=\"129\" x=\"20\" y=\"20.9951\">ConjugationTest</text><!--MD5=[b4997ac47864f28c2f74865a473b2911]\n",
       "class E2--><rect fill=\"#FFFFFF\" height=\"45.9375\" id=\"E2\" style=\"stroke: #383838; stroke-width: 1.5;\" width=\"66\" x=\"71\" y=\"41\"/><text fill=\"#000000\" font-family=\"sans-serif\" font-size=\"12\" font-style=\"italic\" lengthAdjust=\"spacingAndGlyphs\" textLength=\"64\" x=\"72\" y=\"57.1387\">«port def»</text><text fill=\"#000000\" font-family=\"sans-serif\" font-size=\"12\" lengthAdjust=\"spacingAndGlyphs\" textLength=\"8\" x=\"100\" y=\"71.1074\">P</text><line style=\"stroke: #383838; stroke-width: 1.5;\" x1=\"72\" x2=\"136\" y1=\"78.9375\" y2=\"78.9375\"/><!--MD5=[09b614a08d8cba4a07c9adeb5e0fee81]\n",
       "class E3--><rect fill=\"#FFFFFF\" height=\"88.3516\" id=\"E3\" style=\"stroke: #383838; stroke-width: 1.5;\" width=\"66\" x=\"71\" y=\"122\"/><text fill=\"#000000\" font-family=\"sans-serif\" font-size=\"12\" font-style=\"italic\" lengthAdjust=\"spacingAndGlyphs\" textLength=\"64\" x=\"72\" y=\"138.1387\">«part def»</text><text fill=\"#000000\" font-family=\"sans-serif\" font-size=\"12\" lengthAdjust=\"spacingAndGlyphs\" textLength=\"8\" x=\"100\" y=\"152.1074\">B</text><line style=\"stroke: #383838; stroke-width: 1.5;\" x1=\"72\" x2=\"136\" y1=\"159.9375\" y2=\"159.9375\"/><text fill=\"#000000\" font-family=\"sans-serif\" font-size=\"11\" lengthAdjust=\"spacingAndGlyphs\" textLength=\"29\" x=\"77\" y=\"190.9526\">p1: P</text><text fill=\"#000000\" font-family=\"sans-serif\" font-size=\"11\" lengthAdjust=\"spacingAndGlyphs\" textLength=\"38\" x=\"77\" y=\"203.7573\">p2: ~P</text><line style=\"stroke: #383838; stroke-width: 1.0;\" x1=\"72\" x2=\"89\" y1=\"174.3398\" y2=\"174.3398\"/><text fill=\"#000000\" font-family=\"sans-serif\" font-size=\"11\" lengthAdjust=\"spacingAndGlyphs\" textLength=\"30\" x=\"89\" y=\"177.6479\">ports</text><line style=\"stroke: #383838; stroke-width: 1.0;\" x1=\"119\" x2=\"136\" y1=\"174.3398\" y2=\"174.3398\"/><!--MD5=[60a26617385b1d2d0262a64233df1f8d]\n",
       "class E6--><rect fill=\"#FFFFFF\" height=\"113.9609\" id=\"E6\" style=\"stroke: #383838; stroke-width: 1.5;\" width=\"144\" x=\"32\" y=\"245\"/><text fill=\"#000000\" font-family=\"sans-serif\" font-size=\"12\" font-style=\"italic\" lengthAdjust=\"spacingAndGlyphs\" textLength=\"108\" x=\"50\" y=\"261.1387\">«connection def»</text><text fill=\"#000000\" font-family=\"sans-serif\" font-size=\"12\" lengthAdjust=\"spacingAndGlyphs\" textLength=\"8\" x=\"100\" y=\"275.1074\">A</text><line style=\"stroke: #383838; stroke-width: 1.5;\" x1=\"33\" x2=\"175\" y1=\"282.9375\" y2=\"282.9375\"/><text fill=\"#000000\" font-family=\"sans-serif\" font-size=\"11\" lengthAdjust=\"spacingAndGlyphs\" textLength=\"29\" x=\"38\" y=\"313.9526\">p1: P</text><text fill=\"#000000\" font-family=\"sans-serif\" font-size=\"11\" font-style=\"italic\" lengthAdjust=\"spacingAndGlyphs\" textLength=\"132\" x=\"38\" y=\"326.7573\">:&gt;&gt;Connection::source</text><text fill=\"#000000\" font-family=\"sans-serif\" font-size=\"11\" lengthAdjust=\"spacingAndGlyphs\" textLength=\"38\" x=\"38\" y=\"339.562\">p2: ~P</text><text fill=\"#000000\" font-family=\"sans-serif\" font-size=\"11\" font-style=\"italic\" lengthAdjust=\"spacingAndGlyphs\" textLength=\"127\" x=\"38\" y=\"352.3667\">:&gt;&gt;Connection::target</text><line style=\"stroke: #383838; stroke-width: 1.0;\" x1=\"33\" x2=\"89\" y1=\"297.3398\" y2=\"297.3398\"/><text fill=\"#000000\" font-family=\"sans-serif\" font-size=\"11\" lengthAdjust=\"spacingAndGlyphs\" textLength=\"30\" x=\"89\" y=\"300.6479\">ports</text><line style=\"stroke: #383838; stroke-width: 1.0;\" x1=\"119\" x2=\"175\" y1=\"297.3398\" y2=\"297.3398\"/><!--MD5=[fd4143e9d270a159db93a4ea2a975926]\n",
       "class E9--><rect fill=\"#FFFFFF\" height=\"113.9609\" id=\"E9\" style=\"stroke: #383838; stroke-width: 1.5;\" width=\"131\" x=\"38.5\" y=\"394\"/><text fill=\"#000000\" font-family=\"sans-serif\" font-size=\"12\" font-style=\"italic\" lengthAdjust=\"spacingAndGlyphs\" textLength=\"94\" x=\"57\" y=\"410.1387\">«interface def»</text><text fill=\"#000000\" font-family=\"sans-serif\" font-size=\"12\" lengthAdjust=\"spacingAndGlyphs\" textLength=\"3\" x=\"102.5\" y=\"424.1074\">I</text><line style=\"stroke: #383838; stroke-width: 1.5;\" x1=\"39.5\" x2=\"168.5\" y1=\"431.9375\" y2=\"431.9375\"/><text fill=\"#000000\" font-family=\"sans-serif\" font-size=\"11\" lengthAdjust=\"spacingAndGlyphs\" textLength=\"29\" x=\"44.5\" y=\"462.9526\">p1: P</text><text fill=\"#000000\" font-family=\"sans-serif\" font-size=\"11\" font-style=\"italic\" lengthAdjust=\"spacingAndGlyphs\" textLength=\"119\" x=\"44.5\" y=\"475.7573\">:&gt;&gt;Interface::source</text><text fill=\"#000000\" font-family=\"sans-serif\" font-size=\"11\" lengthAdjust=\"spacingAndGlyphs\" textLength=\"38\" x=\"44.5\" y=\"488.562\">p2: ~P</text><text fill=\"#000000\" font-family=\"sans-serif\" font-size=\"11\" font-style=\"italic\" lengthAdjust=\"spacingAndGlyphs\" textLength=\"114\" x=\"44.5\" y=\"501.3667\">:&gt;&gt;Interface::target</text><line style=\"stroke: #383838; stroke-width: 1.0;\" x1=\"39.5\" x2=\"89\" y1=\"446.3398\" y2=\"446.3398\"/><text fill=\"#000000\" font-family=\"sans-serif\" font-size=\"11\" lengthAdjust=\"spacingAndGlyphs\" textLength=\"30\" x=\"89\" y=\"449.6479\">ports</text><line style=\"stroke: #383838; stroke-width: 1.0;\" x1=\"119\" x2=\"168.5\" y1=\"446.3398\" y2=\"446.3398\"/><!--MD5=[49a0ec8f00dab7302a31f22d0f0fe584]\n",
       "class E12--><rect fill=\"#FFFFFF\" height=\"45.9375\" id=\"E12\" style=\"stroke: #383838; stroke-width: 1.5;\" width=\"66\" x=\"71\" y=\"543\"/><text fill=\"#000000\" font-family=\"sans-serif\" font-size=\"12\" font-style=\"italic\" lengthAdjust=\"spacingAndGlyphs\" textLength=\"64\" x=\"72\" y=\"559.1387\">«part def»</text><text fill=\"#000000\" font-family=\"sans-serif\" font-size=\"12\" lengthAdjust=\"spacingAndGlyphs\" textLength=\"16\" x=\"96\" y=\"573.1074\">B1</text><line style=\"stroke: #383838; stroke-width: 1.5;\" x1=\"72\" x2=\"136\" y1=\"580.9375\" y2=\"580.9375\"/><!--MD5=[ee3c913d1a06f366521f9ef512b67efe]\n",
       "class E13--><rect fill=\"#FFFFFF\" height=\"88.3516\" id=\"E13\" rx=\"10\" ry=\"10\" style=\"stroke: #383838; stroke-width: 1.5;\" width=\"50\" x=\"236\" y=\"501\"/><text fill=\"#000000\" font-family=\"sans-serif\" font-size=\"12\" font-style=\"italic\" lengthAdjust=\"spacingAndGlyphs\" textLength=\"40\" x=\"241\" y=\"517.1387\">«part»</text><text fill=\"#000000\" font-family=\"sans-serif\" font-size=\"12\" lengthAdjust=\"spacingAndGlyphs\" textLength=\"42\" x=\"240\" y=\"531.1074\">p: Part</text><line style=\"stroke: #383838; stroke-width: 1.5;\" x1=\"237\" x2=\"285\" y1=\"538.9375\" y2=\"538.9375\"/><text fill=\"#000000\" font-family=\"sans-serif\" font-size=\"11\" lengthAdjust=\"spacingAndGlyphs\" textLength=\"29\" x=\"242\" y=\"569.9526\">p1: P</text><text fill=\"#000000\" font-family=\"sans-serif\" font-size=\"11\" lengthAdjust=\"spacingAndGlyphs\" textLength=\"38\" x=\"242\" y=\"582.7573\">p2: ~P</text><line style=\"stroke: #383838; stroke-width: 1.0;\" x1=\"237\" x2=\"246\" y1=\"553.3398\" y2=\"553.3398\"/><text fill=\"#000000\" font-family=\"sans-serif\" font-size=\"11\" lengthAdjust=\"spacingAndGlyphs\" textLength=\"30\" x=\"246\" y=\"556.6479\">ports</text><line style=\"stroke: #383838; stroke-width: 1.0;\" x1=\"276\" x2=\"285\" y1=\"553.3398\" y2=\"553.3398\"/><!--MD5=[062ed86c389d1a88f61c6380d0491e17]\n",
       "reverse link E12 to E13--><path d=\"M150.17,559.88 C178.04,556.1 212.71,551.41 235.55,548.31 \" fill=\"none\" id=\"E12&lt;-E13\" style=\"stroke: #383838; stroke-width: 1.0;\"/><polygon fill=\"#383838\" points=\"137.12,561.65,143.602,564.8097,149.0117,560.0416,142.5297,556.8819,137.12,561.65\" style=\"stroke: #383838; stroke-width: 1.0;\"/><!--MD5=[0649e04f2be76218a1d471c0a34ded9f]\n",
       "@startuml\r\n",
       "left to right direction\r\n",
       "skinparam monochrome true\r\n",
       "skinparam classbackgroundcolor white\r\n",
       "skinparam shadowing false\r\n",
       "skinparam wrapWidth 300\r\n",
       "hide circle\r\n",
       "\r\n",
       "package \"ConjugationTest\" as E1   {\r\n",
       "comp def \"P\" as E2  <<(T,blue)port def>> {\r\n",
       "}\r\n",
       "comp def \"B\" as E3  <<(T,blue)part def>> {\r\n",
       "- -ports- -\r\n",
       "p1: P\r\n",
       "p2: ~P\r\n",
       "}\r\n",
       "comp def \"A\" as E6  <<(T,blue)connection def>> {\r\n",
       "- -ports- -\r\n",
       "p1: P\\n//:>>Connection::source// \r\n",
       "p2: ~P\\n//:>>Connection::target// \r\n",
       "}\r\n",
       "comp def \"I\" as E9  <<(T,blue)interface def>> {\r\n",
       "- -ports- -\r\n",
       "p1: P\\n//:>>Interface::source// \r\n",
       "p2: ~P\\n//:>>Interface::target// \r\n",
       "}\r\n",
       "comp def \"B1\" as E12  <<(T,blue)part def>> {\r\n",
       "}\r\n",
       "comp usage \"p: Part\" as E13  <<(T,blue)part>> {\r\n",
       "- -ports- -\r\n",
       "p1: P\r\n",
       "p2: ~P\r\n",
       "}\r\n",
       "E12 *- - E13\r\n",
       "}\r\n",
       "@enduml\r\n",
       "\n",
       "PlantUML version 1.2020.13(Sat Jun 13 12:26:38 UTC 2020)\n",
       "(EPL source distribution)\n",
       "Java Runtime: OpenJDK Runtime Environment\n",
       "JVM: OpenJDK 64-Bit Server VM\n",
       "Default Encoding: UTF-8\n",
       "Language: en\n",
       "Country: null\n",
       "--></g></svg>"
      ]
     },
     "execution_count": 16,
     "metadata": {},
     "output_type": "execute_result"
    }
   ],
   "source": [
    "%viz --style=\"LR\" --view=\"Default\" \"ConjugationTest\""
   ]
  },
  {
   "cell_type": "code",
   "execution_count": 17,
   "id": "loaded-massage",
   "metadata": {
    "execution": {
     "iopub.execute_input": "2021-03-25T16:02:05.729852Z",
     "iopub.status.busy": "2021-03-25T16:02:05.729212Z",
     "iopub.status.idle": "2021-03-25T16:02:07.419506Z",
     "shell.execute_reply": "2021-03-25T16:02:07.416767Z"
    }
   },
   "outputs": [
    {
     "data": {
      "image/svg+xml": [
       "<?xml version=\"1.0\" encoding=\"UTF-8\" standalone=\"no\"?><svg xmlns=\"http://www.w3.org/2000/svg\" xmlns:xlink=\"http://www.w3.org/1999/xlink\" contentScriptType=\"application/ecmascript\" contentStyleType=\"text/css\" height=\"617px\" preserveAspectRatio=\"none\" style=\"width:324px;height:617px;\" version=\"1.1\" viewBox=\"0 0 324 617\" width=\"324px\" zoomAndPan=\"magnify\"><defs/><g><!--MD5=[fbc87193dbaf4d95561dea2c320d4a47]\n",
       "cluster E1--><polygon fill=\"#FFFFFF\" points=\"16,6,151,6,158,28.2969,302,28.2969,302,605,16,605,16,6\" style=\"stroke: #000000; stroke-width: 1.5;\"/><line style=\"stroke: #000000; stroke-width: 1.5;\" x1=\"16\" x2=\"158\" y1=\"28.2969\" y2=\"28.2969\"/><text fill=\"#000000\" font-family=\"sans-serif\" font-size=\"14\" font-weight=\"bold\" lengthAdjust=\"spacingAndGlyphs\" textLength=\"129\" x=\"20\" y=\"20.9951\">ConjugationTest</text><!--MD5=[b4997ac47864f28c2f74865a473b2911]\n",
       "class E2--><rect fill=\"#FFFFFF\" height=\"45.9375\" id=\"E2\" style=\"stroke: #383838; stroke-width: 1.5;\" width=\"66\" x=\"71\" y=\"41\"/><text fill=\"#000000\" font-family=\"sans-serif\" font-size=\"12\" font-style=\"italic\" lengthAdjust=\"spacingAndGlyphs\" textLength=\"64\" x=\"72\" y=\"57.1387\">«port def»</text><text fill=\"#000000\" font-family=\"sans-serif\" font-size=\"12\" lengthAdjust=\"spacingAndGlyphs\" textLength=\"8\" x=\"100\" y=\"71.1074\">P</text><line style=\"stroke: #383838; stroke-width: 1.5;\" x1=\"72\" x2=\"136\" y1=\"78.9375\" y2=\"78.9375\"/><!--MD5=[09b614a08d8cba4a07c9adeb5e0fee81]\n",
       "class E3--><rect fill=\"#FFFFFF\" height=\"88.3516\" id=\"E3\" style=\"stroke: #383838; stroke-width: 1.5;\" width=\"66\" x=\"71\" y=\"122\"/><text fill=\"#000000\" font-family=\"sans-serif\" font-size=\"12\" font-style=\"italic\" lengthAdjust=\"spacingAndGlyphs\" textLength=\"64\" x=\"72\" y=\"138.1387\">«part def»</text><text fill=\"#000000\" font-family=\"sans-serif\" font-size=\"12\" lengthAdjust=\"spacingAndGlyphs\" textLength=\"8\" x=\"100\" y=\"152.1074\">B</text><line style=\"stroke: #383838; stroke-width: 1.5;\" x1=\"72\" x2=\"136\" y1=\"159.9375\" y2=\"159.9375\"/><text fill=\"#000000\" font-family=\"sans-serif\" font-size=\"11\" lengthAdjust=\"spacingAndGlyphs\" textLength=\"29\" x=\"77\" y=\"190.9526\">p1: P</text><text fill=\"#000000\" font-family=\"sans-serif\" font-size=\"11\" lengthAdjust=\"spacingAndGlyphs\" textLength=\"38\" x=\"77\" y=\"203.7573\">p2: ~P</text><line style=\"stroke: #383838; stroke-width: 1.0;\" x1=\"72\" x2=\"89\" y1=\"174.3398\" y2=\"174.3398\"/><text fill=\"#000000\" font-family=\"sans-serif\" font-size=\"11\" lengthAdjust=\"spacingAndGlyphs\" textLength=\"30\" x=\"89\" y=\"177.6479\">ports</text><line style=\"stroke: #383838; stroke-width: 1.0;\" x1=\"119\" x2=\"136\" y1=\"174.3398\" y2=\"174.3398\"/><!--MD5=[60a26617385b1d2d0262a64233df1f8d]\n",
       "class E6--><rect fill=\"#FFFFFF\" height=\"113.9609\" id=\"E6\" style=\"stroke: #383838; stroke-width: 1.5;\" width=\"144\" x=\"32\" y=\"245\"/><text fill=\"#000000\" font-family=\"sans-serif\" font-size=\"12\" font-style=\"italic\" lengthAdjust=\"spacingAndGlyphs\" textLength=\"108\" x=\"50\" y=\"261.1387\">«connection def»</text><text fill=\"#000000\" font-family=\"sans-serif\" font-size=\"12\" lengthAdjust=\"spacingAndGlyphs\" textLength=\"8\" x=\"100\" y=\"275.1074\">A</text><line style=\"stroke: #383838; stroke-width: 1.5;\" x1=\"33\" x2=\"175\" y1=\"282.9375\" y2=\"282.9375\"/><text fill=\"#000000\" font-family=\"sans-serif\" font-size=\"11\" lengthAdjust=\"spacingAndGlyphs\" textLength=\"29\" x=\"38\" y=\"313.9526\">p1: P</text><text fill=\"#000000\" font-family=\"sans-serif\" font-size=\"11\" font-style=\"italic\" lengthAdjust=\"spacingAndGlyphs\" textLength=\"132\" x=\"38\" y=\"326.7573\">:&gt;&gt;Connection::source</text><text fill=\"#000000\" font-family=\"sans-serif\" font-size=\"11\" lengthAdjust=\"spacingAndGlyphs\" textLength=\"38\" x=\"38\" y=\"339.562\">p2: ~P</text><text fill=\"#000000\" font-family=\"sans-serif\" font-size=\"11\" font-style=\"italic\" lengthAdjust=\"spacingAndGlyphs\" textLength=\"127\" x=\"38\" y=\"352.3667\">:&gt;&gt;Connection::target</text><line style=\"stroke: #383838; stroke-width: 1.0;\" x1=\"33\" x2=\"89\" y1=\"297.3398\" y2=\"297.3398\"/><text fill=\"#000000\" font-family=\"sans-serif\" font-size=\"11\" lengthAdjust=\"spacingAndGlyphs\" textLength=\"30\" x=\"89\" y=\"300.6479\">ports</text><line style=\"stroke: #383838; stroke-width: 1.0;\" x1=\"119\" x2=\"175\" y1=\"297.3398\" y2=\"297.3398\"/><!--MD5=[fd4143e9d270a159db93a4ea2a975926]\n",
       "class E9--><rect fill=\"#FFFFFF\" height=\"113.9609\" id=\"E9\" style=\"stroke: #383838; stroke-width: 1.5;\" width=\"131\" x=\"38.5\" y=\"394\"/><text fill=\"#000000\" font-family=\"sans-serif\" font-size=\"12\" font-style=\"italic\" lengthAdjust=\"spacingAndGlyphs\" textLength=\"94\" x=\"57\" y=\"410.1387\">«interface def»</text><text fill=\"#000000\" font-family=\"sans-serif\" font-size=\"12\" lengthAdjust=\"spacingAndGlyphs\" textLength=\"3\" x=\"102.5\" y=\"424.1074\">I</text><line style=\"stroke: #383838; stroke-width: 1.5;\" x1=\"39.5\" x2=\"168.5\" y1=\"431.9375\" y2=\"431.9375\"/><text fill=\"#000000\" font-family=\"sans-serif\" font-size=\"11\" lengthAdjust=\"spacingAndGlyphs\" textLength=\"29\" x=\"44.5\" y=\"462.9526\">p1: P</text><text fill=\"#000000\" font-family=\"sans-serif\" font-size=\"11\" font-style=\"italic\" lengthAdjust=\"spacingAndGlyphs\" textLength=\"119\" x=\"44.5\" y=\"475.7573\">:&gt;&gt;Interface::source</text><text fill=\"#000000\" font-family=\"sans-serif\" font-size=\"11\" lengthAdjust=\"spacingAndGlyphs\" textLength=\"38\" x=\"44.5\" y=\"488.562\">p2: ~P</text><text fill=\"#000000\" font-family=\"sans-serif\" font-size=\"11\" font-style=\"italic\" lengthAdjust=\"spacingAndGlyphs\" textLength=\"114\" x=\"44.5\" y=\"501.3667\">:&gt;&gt;Interface::target</text><line style=\"stroke: #383838; stroke-width: 1.0;\" x1=\"39.5\" x2=\"89\" y1=\"446.3398\" y2=\"446.3398\"/><text fill=\"#000000\" font-family=\"sans-serif\" font-size=\"11\" lengthAdjust=\"spacingAndGlyphs\" textLength=\"30\" x=\"89\" y=\"449.6479\">ports</text><line style=\"stroke: #383838; stroke-width: 1.0;\" x1=\"119\" x2=\"168.5\" y1=\"446.3398\" y2=\"446.3398\"/><!--MD5=[49a0ec8f00dab7302a31f22d0f0fe584]\n",
       "class E12--><rect fill=\"#FFFFFF\" height=\"45.9375\" id=\"E12\" style=\"stroke: #383838; stroke-width: 1.5;\" width=\"66\" x=\"71\" y=\"543\"/><text fill=\"#000000\" font-family=\"sans-serif\" font-size=\"12\" font-style=\"italic\" lengthAdjust=\"spacingAndGlyphs\" textLength=\"64\" x=\"72\" y=\"559.1387\">«part def»</text><text fill=\"#000000\" font-family=\"sans-serif\" font-size=\"12\" lengthAdjust=\"spacingAndGlyphs\" textLength=\"16\" x=\"96\" y=\"573.1074\">B1</text><line style=\"stroke: #383838; stroke-width: 1.5;\" x1=\"72\" x2=\"136\" y1=\"580.9375\" y2=\"580.9375\"/><!--MD5=[ee3c913d1a06f366521f9ef512b67efe]\n",
       "class E13--><rect fill=\"#FFFFFF\" height=\"88.3516\" id=\"E13\" rx=\"10\" ry=\"10\" style=\"stroke: #383838; stroke-width: 1.5;\" width=\"50\" x=\"236\" y=\"501\"/><text fill=\"#000000\" font-family=\"sans-serif\" font-size=\"12\" font-style=\"italic\" lengthAdjust=\"spacingAndGlyphs\" textLength=\"40\" x=\"241\" y=\"517.1387\">«part»</text><text fill=\"#000000\" font-family=\"sans-serif\" font-size=\"12\" lengthAdjust=\"spacingAndGlyphs\" textLength=\"42\" x=\"240\" y=\"531.1074\">p: Part</text><line style=\"stroke: #383838; stroke-width: 1.5;\" x1=\"237\" x2=\"285\" y1=\"538.9375\" y2=\"538.9375\"/><text fill=\"#000000\" font-family=\"sans-serif\" font-size=\"11\" lengthAdjust=\"spacingAndGlyphs\" textLength=\"29\" x=\"242\" y=\"569.9526\">p1: P</text><text fill=\"#000000\" font-family=\"sans-serif\" font-size=\"11\" lengthAdjust=\"spacingAndGlyphs\" textLength=\"38\" x=\"242\" y=\"582.7573\">p2: ~P</text><line style=\"stroke: #383838; stroke-width: 1.0;\" x1=\"237\" x2=\"246\" y1=\"553.3398\" y2=\"553.3398\"/><text fill=\"#000000\" font-family=\"sans-serif\" font-size=\"11\" lengthAdjust=\"spacingAndGlyphs\" textLength=\"30\" x=\"246\" y=\"556.6479\">ports</text><line style=\"stroke: #383838; stroke-width: 1.0;\" x1=\"276\" x2=\"285\" y1=\"553.3398\" y2=\"553.3398\"/><!--MD5=[062ed86c389d1a88f61c6380d0491e17]\n",
       "reverse link E12 to E13--><path d=\"M150.17,559.88 C178.04,556.1 212.71,551.41 235.55,548.31 \" fill=\"none\" id=\"E12&lt;-E13\" style=\"stroke: #383838; stroke-width: 1.0;\"/><polygon fill=\"#383838\" points=\"137.12,561.65,143.602,564.8097,149.0117,560.0416,142.5297,556.8819,137.12,561.65\" style=\"stroke: #383838; stroke-width: 1.0;\"/><!--MD5=[0649e04f2be76218a1d471c0a34ded9f]\n",
       "@startuml\r\n",
       "left to right direction\r\n",
       "skinparam monochrome true\r\n",
       "skinparam classbackgroundcolor white\r\n",
       "skinparam shadowing false\r\n",
       "skinparam wrapWidth 300\r\n",
       "hide circle\r\n",
       "\r\n",
       "package \"ConjugationTest\" as E1   {\r\n",
       "comp def \"P\" as E2  <<(T,blue)port def>> {\r\n",
       "}\r\n",
       "comp def \"B\" as E3  <<(T,blue)part def>> {\r\n",
       "- -ports- -\r\n",
       "p1: P\r\n",
       "p2: ~P\r\n",
       "}\r\n",
       "comp def \"A\" as E6  <<(T,blue)connection def>> {\r\n",
       "- -ports- -\r\n",
       "p1: P\\n//:>>Connection::source// \r\n",
       "p2: ~P\\n//:>>Connection::target// \r\n",
       "}\r\n",
       "comp def \"I\" as E9  <<(T,blue)interface def>> {\r\n",
       "- -ports- -\r\n",
       "p1: P\\n//:>>Interface::source// \r\n",
       "p2: ~P\\n//:>>Interface::target// \r\n",
       "}\r\n",
       "comp def \"B1\" as E12  <<(T,blue)part def>> {\r\n",
       "}\r\n",
       "comp usage \"p: Part\" as E13  <<(T,blue)part>> {\r\n",
       "- -ports- -\r\n",
       "p1: P\r\n",
       "p2: ~P\r\n",
       "}\r\n",
       "E12 *- - E13\r\n",
       "}\r\n",
       "@enduml\r\n",
       "\n",
       "PlantUML version 1.2020.13(Sat Jun 13 12:26:38 UTC 2020)\n",
       "(EPL source distribution)\n",
       "Java Runtime: OpenJDK Runtime Environment\n",
       "JVM: OpenJDK 64-Bit Server VM\n",
       "Default Encoding: UTF-8\n",
       "Language: en\n",
       "Country: null\n",
       "--></g></svg>"
      ]
     },
     "execution_count": 17,
     "metadata": {},
     "output_type": "execute_result"
    }
   ],
   "source": [
    "%viz --style=\"LR\" --view=\"Tree\" \"ConjugationTest\""
   ]
  },
  {
   "cell_type": "code",
   "execution_count": 18,
   "id": "worldwide-radical",
   "metadata": {
    "execution": {
     "iopub.execute_input": "2021-03-25T16:02:07.470500Z",
     "iopub.status.busy": "2021-03-25T16:02:07.469514Z",
     "iopub.status.idle": "2021-03-25T16:02:07.472713Z",
     "shell.execute_reply": "2021-03-25T16:02:07.473179Z"
    }
   },
   "outputs": [
    {
     "data": {
      "text/plain": [
       "java.lang.IllegalArgumentException: Invalid View: State View candidates are: Default Tree StateMachine Interconnection Activity Sequence MIXED \n",
       "\tat org.omg.sysml.plantuml.SysML2PlantUMLSvc.setView(SysML2PlantUMLSvc.java:63)\n",
       "\tat org.omg.sysml.interactive.SysMLInteractive.viz(SysMLInteractive.java:286)\n",
       "\tat org.omg.sysml.jupyter.kernel.magic.Viz.viz(Viz.java:47)\n",
       "\tat jdk.internal.reflect.GeneratedMethodAccessor12.invoke(Unknown Source)\n",
       "\tat java.base/jdk.internal.reflect.DelegatingMethodAccessorImpl.invoke(DelegatingMethodAccessorImpl.java:43)\n",
       "\tat java.base/java.lang.reflect.Method.invoke(Method.java:568)\n",
       "\tat io.github.spencerpark.jupyter.kernel.magic.registry.Magics.invoke(Magics.java:89)\n",
       "\tat io.github.spencerpark.jupyter.kernel.magic.registry.Magics.access$000(Magics.java:8)\n",
       "\tat io.github.spencerpark.jupyter.kernel.magic.registry.Magics$LineReflectionMagicFunction.execute(Magics.java:149)\n",
       "\tat io.github.spencerpark.jupyter.kernel.magic.registry.Magics.applyLineMagic(Magics.java:26)\n",
       "\tat org.omg.sysml.jupyter.kernel.SysMLKernel.eval(SysMLKernel.java:76)\n",
       "\tat io.github.spencerpark.jupyter.kernel.BaseKernel.handleExecuteRequest(BaseKernel.java:334)\n",
       "\tat io.github.spencerpark.jupyter.channels.ShellChannel.lambda$bind$0(ShellChannel.java:64)\n",
       "\tat io.github.spencerpark.jupyter.channels.Loop.lambda$new$0(Loop.java:21)\n",
       "\tat io.github.spencerpark.jupyter.channels.Loop.run(Loop.java:78)\n"
      ]
     },
     "execution_count": 18,
     "metadata": {},
     "output_type": "execute_result"
    }
   ],
   "source": [
    "%viz --style=\"LR\" --view=\"State\" \"ConjugationTest\""
   ]
  },
  {
   "cell_type": "code",
   "execution_count": 19,
   "id": "mysterious-blood",
   "metadata": {
    "execution": {
     "iopub.execute_input": "2021-03-25T16:02:07.524535Z",
     "iopub.status.busy": "2021-03-25T16:02:07.523949Z",
     "iopub.status.idle": "2021-03-25T16:02:07.637564Z",
     "shell.execute_reply": "2021-03-25T16:02:07.637159Z"
    }
   },
   "outputs": [
    {
     "data": {
      "image/svg+xml": [
       "<?xml version=\"1.0\" encoding=\"UTF-8\" standalone=\"no\"?><svg xmlns=\"http://www.w3.org/2000/svg\" xmlns:xlink=\"http://www.w3.org/1999/xlink\" contentScriptType=\"application/ecmascript\" contentStyleType=\"text/css\" height=\"560px\" preserveAspectRatio=\"none\" style=\"width:311px;height:560px;\" version=\"1.1\" viewBox=\"0 0 311 560\" width=\"311px\" zoomAndPan=\"magnify\"><defs/><g><!--MD5=[fbc87193dbaf4d95561dea2c320d4a47]\n",
       "cluster E1--><polygon fill=\"#FFFFFF\" points=\"16,6,151,6,158,28.2969,289,28.2969,289,548,16,548,16,6\" style=\"stroke: #000000; stroke-width: 1.5;\"/><line style=\"stroke: #000000; stroke-width: 1.5;\" x1=\"16\" x2=\"158\" y1=\"28.2969\" y2=\"28.2969\"/><text fill=\"#000000\" font-family=\"sans-serif\" font-size=\"14\" font-weight=\"bold\" lengthAdjust=\"spacingAndGlyphs\" textLength=\"129\" x=\"20\" y=\"20.9951\">ConjugationTest</text><!--MD5=[d5e69f78d87373223dbae638b30a9c99]\n",
       "cluster E3--><rect fill=\"#FFFFFF\" height=\"47\" style=\"stroke: #000000; stroke-width: 1.5;\" width=\"195.5\" x=\"52\" y=\"55\"/><text fill=\"#000000\" font-family=\"sans-serif\" font-size=\"14\" font-style=\"italic\" lengthAdjust=\"spacingAndGlyphs\" textLength=\"71\" x=\"114.25\" y=\"69.9951\">«part def»</text><text fill=\"#000000\" font-family=\"sans-serif\" font-size=\"14\" font-weight=\"bold\" lengthAdjust=\"spacingAndGlyphs\" textLength=\"10\" x=\"144.75\" y=\"86.292\">B</text><!--MD5=[14e3b0961a2654348d326746436168a1]\n",
       "cluster E6--><rect fill=\"#FFFFFF\" height=\"47\" style=\"stroke: #000000; stroke-width: 1.5;\" width=\"221\" x=\"52\" y=\"149\"/><text fill=\"#000000\" font-family=\"sans-serif\" font-size=\"14\" font-style=\"italic\" lengthAdjust=\"spacingAndGlyphs\" textLength=\"122\" x=\"101.5\" y=\"163.9951\">«connection def»</text><text fill=\"#000000\" font-family=\"sans-serif\" font-size=\"14\" font-weight=\"bold\" lengthAdjust=\"spacingAndGlyphs\" textLength=\"11\" x=\"157\" y=\"180.292\">A</text><!--MD5=[7f149f147074ac12df2cb0a7728a5fb0]\n",
       "cluster E9--><rect fill=\"#FFFFFF\" height=\"47\" style=\"stroke: #000000; stroke-width: 1.5;\" width=\"212\" x=\"52\" y=\"243\"/><text fill=\"#000000\" font-family=\"sans-serif\" font-size=\"14\" font-style=\"italic\" lengthAdjust=\"spacingAndGlyphs\" textLength=\"104\" x=\"106\" y=\"257.9951\">«interface def»</text><text fill=\"#000000\" font-family=\"sans-serif\" font-size=\"14\" font-weight=\"bold\" lengthAdjust=\"spacingAndGlyphs\" textLength=\"4\" x=\"156\" y=\"274.292\">I</text><!--MD5=[47bea60c1a0ac6c1143df232041969c0]\n",
       "cluster E12--><rect fill=\"#FFFFFF\" height=\"142\" style=\"stroke: #000000; stroke-width: 1.5;\" width=\"210.5\" x=\"40\" y=\"320\"/><text fill=\"#000000\" font-family=\"sans-serif\" font-size=\"14\" font-style=\"italic\" lengthAdjust=\"spacingAndGlyphs\" textLength=\"71\" x=\"109.75\" y=\"334.9951\">«part def»</text><text fill=\"#000000\" font-family=\"sans-serif\" font-size=\"14\" font-weight=\"bold\" lengthAdjust=\"spacingAndGlyphs\" textLength=\"20\" x=\"135.25\" y=\"351.292\">B1</text><!--MD5=[03104f77b71e2d8d3500c651e6e31181]\n",
       "cluster E13--><rect fill=\"#F8F8F8\" height=\"47\" rx=\"12.5\" ry=\"12.5\" style=\"stroke: #000000; stroke-width: 1.5;\" width=\"182.5\" x=\"52\" y=\"385\"/><rect fill=\"#FFFFFF\" height=\"14.7031\" rx=\"12.5\" ry=\"12.5\" style=\"stroke: #FFFFFF; stroke-width: 1.0;\" width=\"176.5\" x=\"55\" y=\"414.2969\"/><line style=\"stroke: #000000; stroke-width: 1.5;\" x1=\"52\" x2=\"234.5\" y1=\"411.2969\" y2=\"411.2969\"/><text fill=\"#000000\" font-family=\"sans-serif\" font-size=\"14\" lengthAdjust=\"spacingAndGlyphs\" textLength=\"45\" x=\"120.75\" y=\"402.9951\">p: Part</text><!--MD5=[b4997ac47864f28c2f74865a473b2911]\n",
       "class E2--><rect fill=\"#FFFFFF\" height=\"53.9375\" id=\"E2\" style=\"stroke: #383838; stroke-width: 1.5;\" width=\"66\" x=\"37\" y=\"478\"/><text fill=\"#000000\" font-family=\"sans-serif\" font-size=\"12\" font-style=\"italic\" lengthAdjust=\"spacingAndGlyphs\" textLength=\"64\" x=\"38\" y=\"494.1387\">«port def»</text><text fill=\"#000000\" font-family=\"sans-serif\" font-size=\"12\" lengthAdjust=\"spacingAndGlyphs\" textLength=\"8\" x=\"66\" y=\"508.1074\">P</text><line style=\"stroke: #383838; stroke-width: 1.5;\" x1=\"38\" x2=\"102\" y1=\"515.9375\" y2=\"515.9375\"/><line style=\"stroke: #383838; stroke-width: 1.5;\" x1=\"38\" x2=\"102\" y1=\"523.9375\" y2=\"523.9375\"/><text fill=\"#000000\" font-family=\"sans-serif\" font-size=\"14\" lengthAdjust=\"spacingAndGlyphs\" textLength=\"36\" x=\"52\" y=\"120.9951\">p1: P</text><rect fill=\"#383838\" height=\"12\" style=\"stroke: #F8F8F8; stroke-width: 1.5;\" width=\"12\" x=\"64\" y=\"96\"/><text fill=\"#000000\" font-family=\"sans-serif\" font-size=\"14\" lengthAdjust=\"spacingAndGlyphs\" textLength=\"48\" x=\"46\" y=\"33.6982\">p2: ~P</text><rect fill=\"#383838\" height=\"12\" style=\"stroke: #F8F8F8; stroke-width: 1.5;\" width=\"12\" x=\"64\" y=\"49\"/><text fill=\"#000000\" font-family=\"sans-serif\" font-size=\"14\" lengthAdjust=\"spacingAndGlyphs\" textLength=\"36\" x=\"52\" y=\"214.9951\">p1: P</text><rect fill=\"#383838\" height=\"12\" style=\"stroke: #F8F8F8; stroke-width: 1.5;\" width=\"12\" x=\"64\" y=\"190\"/><text fill=\"#000000\" font-family=\"sans-serif\" font-size=\"14\" lengthAdjust=\"spacingAndGlyphs\" textLength=\"48\" x=\"46\" y=\"127.6982\">p2: ~P</text><rect fill=\"#383838\" height=\"12\" style=\"stroke: #F8F8F8; stroke-width: 1.5;\" width=\"12\" x=\"64\" y=\"143\"/><text fill=\"#000000\" font-family=\"sans-serif\" font-size=\"14\" lengthAdjust=\"spacingAndGlyphs\" textLength=\"36\" x=\"52\" y=\"308.9951\">p1: P</text><rect fill=\"#383838\" height=\"12\" style=\"stroke: #F8F8F8; stroke-width: 1.5;\" width=\"12\" x=\"64\" y=\"284\"/><text fill=\"#000000\" font-family=\"sans-serif\" font-size=\"14\" lengthAdjust=\"spacingAndGlyphs\" textLength=\"48\" x=\"46\" y=\"221.6982\">p2: ~P</text><rect fill=\"#383838\" height=\"12\" style=\"stroke: #F8F8F8; stroke-width: 1.5;\" width=\"12\" x=\"64\" y=\"237\"/><text fill=\"#000000\" font-family=\"sans-serif\" font-size=\"14\" lengthAdjust=\"spacingAndGlyphs\" textLength=\"36\" x=\"52\" y=\"450.9951\">p1: P</text><rect fill=\"#383838\" height=\"12\" style=\"stroke: #F8F8F8; stroke-width: 1.5;\" width=\"12\" x=\"64\" y=\"426\"/><text fill=\"#000000\" font-family=\"sans-serif\" font-size=\"14\" lengthAdjust=\"spacingAndGlyphs\" textLength=\"48\" x=\"46\" y=\"363.6982\">p2: ~P</text><rect fill=\"#383838\" height=\"12\" style=\"stroke: #F8F8F8; stroke-width: 1.5;\" width=\"12\" x=\"64\" y=\"379\"/><!--MD5=[4ce51ac6fa4cf5202df3859e2718f033]\n",
       "link E15 to E14--><path d=\"M70,391.05 C70,402.62 70,414.19 70,425.76 \" fill=\"none\" id=\"E15-E14\" style=\"stroke: #383838; stroke-width: 3.0;\"/><!--MD5=[4ce51ac6fa4cf5202df3859e2718f033]\n",
       "link E15 to E14--><path d=\"M67.98,391.05 C64.69,402.62 64.67,414.19 67.93,425.76 \" fill=\"none\" id=\"E15-E14-1\" style=\"stroke: #383838; stroke-width: 3.0;\"/><!--MD5=[623a01dd196397727022a6abb0fdb7e6]\n",
       "@startuml\r\n",
       "skinparam ranksep 8\r\n",
       "skinparam rectangle {\r\n",
       " backgroundColor<<block>> LightGreen\r\n",
       "}\r\n",
       "left to right direction\r\n",
       "skinparam monochrome true\r\n",
       "skinparam classbackgroundcolor white\r\n",
       "skinparam shadowing false\r\n",
       "skinparam wrapWidth 300\r\n",
       "hide circle\r\n",
       "\r\n",
       "package \"ConjugationTest\" as E1   {\r\n",
       "def \"P\" as E2  <<port def>> \r\n",
       "rec def \"B\" as E3  <<part def>> {\r\n",
       "portin \"p1: P\" as E4  <<port>> \r\n",
       "portin \"p2: ~P\" as E5  <<port>> \r\n",
       "}\r\n",
       "rec def \"A\" as E6  <<connection def>> {\r\n",
       "portin \"p1: P\" as E7  <<port>> \r\n",
       "portin \"p2: ~P\" as E8  <<port>> \r\n",
       "}\r\n",
       "rec def \"I\" as E9  <<interface def>> {\r\n",
       "portin \"p1: P\" as E10  <<port>> \r\n",
       "portin \"p2: ~P\" as E11  <<port>> \r\n",
       "}\r\n",
       "rec def \"B1\" as E12  <<part def>> {\r\n",
       "rec usage \"p: Part\" as E13  {\r\n",
       "portin \"p1: P\" as E14  <<port>> \r\n",
       "portin \"p2: ~P\" as E15  <<port>> \r\n",
       "}\r\n",
       "}\r\n",
       "E15 -[thickness=3]- E14\r\n",
       "E15 -[thickness=3]- E14\r\n",
       "}\r\n",
       "@enduml\r\n",
       "\n",
       "PlantUML version 1.2020.13(Sat Jun 13 12:26:38 UTC 2020)\n",
       "(EPL source distribution)\n",
       "Java Runtime: OpenJDK Runtime Environment\n",
       "JVM: OpenJDK 64-Bit Server VM\n",
       "Default Encoding: UTF-8\n",
       "Language: en\n",
       "Country: null\n",
       "--></g></svg>"
      ]
     },
     "execution_count": 19,
     "metadata": {},
     "output_type": "execute_result"
    }
   ],
   "source": [
    "%viz --style=\"LR\" --view=\"Interconnection\" \"ConjugationTest\""
   ]
  },
  {
   "cell_type": "code",
   "execution_count": 20,
   "id": "facial-nursery",
   "metadata": {
    "execution": {
     "iopub.execute_input": "2021-03-25T16:02:07.687944Z",
     "iopub.status.busy": "2021-03-25T16:02:07.687309Z",
     "iopub.status.idle": "2021-03-25T16:02:07.689736Z",
     "shell.execute_reply": "2021-03-25T16:02:07.690237Z"
    }
   },
   "outputs": [
    {
     "data": {
      "text/plain": [
       "java.lang.IllegalArgumentException: Invalid View: Action View candidates are: Default Tree StateMachine Interconnection Activity Sequence MIXED \n",
       "\tat org.omg.sysml.plantuml.SysML2PlantUMLSvc.setView(SysML2PlantUMLSvc.java:63)\n",
       "\tat org.omg.sysml.interactive.SysMLInteractive.viz(SysMLInteractive.java:286)\n",
       "\tat org.omg.sysml.jupyter.kernel.magic.Viz.viz(Viz.java:47)\n",
       "\tat jdk.internal.reflect.GeneratedMethodAccessor12.invoke(Unknown Source)\n",
       "\tat java.base/jdk.internal.reflect.DelegatingMethodAccessorImpl.invoke(DelegatingMethodAccessorImpl.java:43)\n",
       "\tat java.base/java.lang.reflect.Method.invoke(Method.java:568)\n",
       "\tat io.github.spencerpark.jupyter.kernel.magic.registry.Magics.invoke(Magics.java:89)\n",
       "\tat io.github.spencerpark.jupyter.kernel.magic.registry.Magics.access$000(Magics.java:8)\n",
       "\tat io.github.spencerpark.jupyter.kernel.magic.registry.Magics$LineReflectionMagicFunction.execute(Magics.java:149)\n",
       "\tat io.github.spencerpark.jupyter.kernel.magic.registry.Magics.applyLineMagic(Magics.java:26)\n",
       "\tat org.omg.sysml.jupyter.kernel.SysMLKernel.eval(SysMLKernel.java:76)\n",
       "\tat io.github.spencerpark.jupyter.kernel.BaseKernel.handleExecuteRequest(BaseKernel.java:334)\n",
       "\tat io.github.spencerpark.jupyter.channels.ShellChannel.lambda$bind$0(ShellChannel.java:64)\n",
       "\tat io.github.spencerpark.jupyter.channels.Loop.lambda$new$0(Loop.java:21)\n",
       "\tat io.github.spencerpark.jupyter.channels.Loop.run(Loop.java:78)\n"
      ]
     },
     "execution_count": 20,
     "metadata": {},
     "output_type": "execute_result"
    }
   ],
   "source": [
    "%viz --style=\"LR\" --view=\"Action\" \"ConjugationTest\""
   ]
  },
  {
   "cell_type": "code",
   "execution_count": 21,
   "id": "lovely-exhibition",
   "metadata": {
    "execution": {
     "iopub.execute_input": "2021-03-25T16:02:07.742782Z",
     "iopub.status.busy": "2021-03-25T16:02:07.742315Z",
     "iopub.status.idle": "2021-03-25T16:02:09.425973Z",
     "shell.execute_reply": "2021-03-25T16:02:09.424116Z"
    }
   },
   "outputs": [
    {
     "data": {
      "image/svg+xml": [
       "<?xml version=\"1.0\" encoding=\"UTF-8\" standalone=\"no\"?><svg xmlns=\"http://www.w3.org/2000/svg\" xmlns:xlink=\"http://www.w3.org/1999/xlink\" contentScriptType=\"application/ecmascript\" contentStyleType=\"text/css\" height=\"617px\" preserveAspectRatio=\"none\" style=\"width:324px;height:617px;\" version=\"1.1\" viewBox=\"0 0 324 617\" width=\"324px\" zoomAndPan=\"magnify\"><defs/><g><!--MD5=[fbc87193dbaf4d95561dea2c320d4a47]\n",
       "cluster E1--><polygon fill=\"#FFFFFF\" points=\"16,6,151,6,158,28.2969,302,28.2969,302,605,16,605,16,6\" style=\"stroke: #000000; stroke-width: 1.5;\"/><line style=\"stroke: #000000; stroke-width: 1.5;\" x1=\"16\" x2=\"158\" y1=\"28.2969\" y2=\"28.2969\"/><text fill=\"#000000\" font-family=\"sans-serif\" font-size=\"14\" font-weight=\"bold\" lengthAdjust=\"spacingAndGlyphs\" textLength=\"129\" x=\"20\" y=\"20.9951\">ConjugationTest</text><!--MD5=[b4997ac47864f28c2f74865a473b2911]\n",
       "class E2--><rect fill=\"#FFFFFF\" height=\"45.9375\" id=\"E2\" style=\"stroke: #383838; stroke-width: 1.5;\" width=\"66\" x=\"71\" y=\"41\"/><text fill=\"#000000\" font-family=\"sans-serif\" font-size=\"12\" font-style=\"italic\" lengthAdjust=\"spacingAndGlyphs\" textLength=\"64\" x=\"72\" y=\"57.1387\">«port def»</text><text fill=\"#000000\" font-family=\"sans-serif\" font-size=\"12\" lengthAdjust=\"spacingAndGlyphs\" textLength=\"8\" x=\"100\" y=\"71.1074\">P</text><line style=\"stroke: #383838; stroke-width: 1.5;\" x1=\"72\" x2=\"136\" y1=\"78.9375\" y2=\"78.9375\"/><!--MD5=[09b614a08d8cba4a07c9adeb5e0fee81]\n",
       "class E3--><rect fill=\"#FFFFFF\" height=\"88.3516\" id=\"E3\" style=\"stroke: #383838; stroke-width: 1.5;\" width=\"66\" x=\"71\" y=\"122\"/><text fill=\"#000000\" font-family=\"sans-serif\" font-size=\"12\" font-style=\"italic\" lengthAdjust=\"spacingAndGlyphs\" textLength=\"64\" x=\"72\" y=\"138.1387\">«part def»</text><text fill=\"#000000\" font-family=\"sans-serif\" font-size=\"12\" lengthAdjust=\"spacingAndGlyphs\" textLength=\"8\" x=\"100\" y=\"152.1074\">B</text><line style=\"stroke: #383838; stroke-width: 1.5;\" x1=\"72\" x2=\"136\" y1=\"159.9375\" y2=\"159.9375\"/><text fill=\"#000000\" font-family=\"sans-serif\" font-size=\"11\" lengthAdjust=\"spacingAndGlyphs\" textLength=\"29\" x=\"77\" y=\"190.9526\">p1: P</text><text fill=\"#000000\" font-family=\"sans-serif\" font-size=\"11\" lengthAdjust=\"spacingAndGlyphs\" textLength=\"38\" x=\"77\" y=\"203.7573\">p2: ~P</text><line style=\"stroke: #383838; stroke-width: 1.0;\" x1=\"72\" x2=\"89\" y1=\"174.3398\" y2=\"174.3398\"/><text fill=\"#000000\" font-family=\"sans-serif\" font-size=\"11\" lengthAdjust=\"spacingAndGlyphs\" textLength=\"30\" x=\"89\" y=\"177.6479\">ports</text><line style=\"stroke: #383838; stroke-width: 1.0;\" x1=\"119\" x2=\"136\" y1=\"174.3398\" y2=\"174.3398\"/><!--MD5=[60a26617385b1d2d0262a64233df1f8d]\n",
       "class E6--><rect fill=\"#FFFFFF\" height=\"113.9609\" id=\"E6\" style=\"stroke: #383838; stroke-width: 1.5;\" width=\"144\" x=\"32\" y=\"245\"/><text fill=\"#000000\" font-family=\"sans-serif\" font-size=\"12\" font-style=\"italic\" lengthAdjust=\"spacingAndGlyphs\" textLength=\"108\" x=\"50\" y=\"261.1387\">«connection def»</text><text fill=\"#000000\" font-family=\"sans-serif\" font-size=\"12\" lengthAdjust=\"spacingAndGlyphs\" textLength=\"8\" x=\"100\" y=\"275.1074\">A</text><line style=\"stroke: #383838; stroke-width: 1.5;\" x1=\"33\" x2=\"175\" y1=\"282.9375\" y2=\"282.9375\"/><text fill=\"#000000\" font-family=\"sans-serif\" font-size=\"11\" lengthAdjust=\"spacingAndGlyphs\" textLength=\"29\" x=\"38\" y=\"313.9526\">p1: P</text><text fill=\"#000000\" font-family=\"sans-serif\" font-size=\"11\" font-style=\"italic\" lengthAdjust=\"spacingAndGlyphs\" textLength=\"132\" x=\"38\" y=\"326.7573\">:&gt;&gt;Connection::source</text><text fill=\"#000000\" font-family=\"sans-serif\" font-size=\"11\" lengthAdjust=\"spacingAndGlyphs\" textLength=\"38\" x=\"38\" y=\"339.562\">p2: ~P</text><text fill=\"#000000\" font-family=\"sans-serif\" font-size=\"11\" font-style=\"italic\" lengthAdjust=\"spacingAndGlyphs\" textLength=\"127\" x=\"38\" y=\"352.3667\">:&gt;&gt;Connection::target</text><line style=\"stroke: #383838; stroke-width: 1.0;\" x1=\"33\" x2=\"89\" y1=\"297.3398\" y2=\"297.3398\"/><text fill=\"#000000\" font-family=\"sans-serif\" font-size=\"11\" lengthAdjust=\"spacingAndGlyphs\" textLength=\"30\" x=\"89\" y=\"300.6479\">ports</text><line style=\"stroke: #383838; stroke-width: 1.0;\" x1=\"119\" x2=\"175\" y1=\"297.3398\" y2=\"297.3398\"/><!--MD5=[fd4143e9d270a159db93a4ea2a975926]\n",
       "class E9--><rect fill=\"#FFFFFF\" height=\"113.9609\" id=\"E9\" style=\"stroke: #383838; stroke-width: 1.5;\" width=\"131\" x=\"38.5\" y=\"394\"/><text fill=\"#000000\" font-family=\"sans-serif\" font-size=\"12\" font-style=\"italic\" lengthAdjust=\"spacingAndGlyphs\" textLength=\"94\" x=\"57\" y=\"410.1387\">«interface def»</text><text fill=\"#000000\" font-family=\"sans-serif\" font-size=\"12\" lengthAdjust=\"spacingAndGlyphs\" textLength=\"3\" x=\"102.5\" y=\"424.1074\">I</text><line style=\"stroke: #383838; stroke-width: 1.5;\" x1=\"39.5\" x2=\"168.5\" y1=\"431.9375\" y2=\"431.9375\"/><text fill=\"#000000\" font-family=\"sans-serif\" font-size=\"11\" lengthAdjust=\"spacingAndGlyphs\" textLength=\"29\" x=\"44.5\" y=\"462.9526\">p1: P</text><text fill=\"#000000\" font-family=\"sans-serif\" font-size=\"11\" font-style=\"italic\" lengthAdjust=\"spacingAndGlyphs\" textLength=\"119\" x=\"44.5\" y=\"475.7573\">:&gt;&gt;Interface::source</text><text fill=\"#000000\" font-family=\"sans-serif\" font-size=\"11\" lengthAdjust=\"spacingAndGlyphs\" textLength=\"38\" x=\"44.5\" y=\"488.562\">p2: ~P</text><text fill=\"#000000\" font-family=\"sans-serif\" font-size=\"11\" font-style=\"italic\" lengthAdjust=\"spacingAndGlyphs\" textLength=\"114\" x=\"44.5\" y=\"501.3667\">:&gt;&gt;Interface::target</text><line style=\"stroke: #383838; stroke-width: 1.0;\" x1=\"39.5\" x2=\"89\" y1=\"446.3398\" y2=\"446.3398\"/><text fill=\"#000000\" font-family=\"sans-serif\" font-size=\"11\" lengthAdjust=\"spacingAndGlyphs\" textLength=\"30\" x=\"89\" y=\"449.6479\">ports</text><line style=\"stroke: #383838; stroke-width: 1.0;\" x1=\"119\" x2=\"168.5\" y1=\"446.3398\" y2=\"446.3398\"/><!--MD5=[49a0ec8f00dab7302a31f22d0f0fe584]\n",
       "class E12--><rect fill=\"#FFFFFF\" height=\"45.9375\" id=\"E12\" style=\"stroke: #383838; stroke-width: 1.5;\" width=\"66\" x=\"71\" y=\"543\"/><text fill=\"#000000\" font-family=\"sans-serif\" font-size=\"12\" font-style=\"italic\" lengthAdjust=\"spacingAndGlyphs\" textLength=\"64\" x=\"72\" y=\"559.1387\">«part def»</text><text fill=\"#000000\" font-family=\"sans-serif\" font-size=\"12\" lengthAdjust=\"spacingAndGlyphs\" textLength=\"16\" x=\"96\" y=\"573.1074\">B1</text><line style=\"stroke: #383838; stroke-width: 1.5;\" x1=\"72\" x2=\"136\" y1=\"580.9375\" y2=\"580.9375\"/><!--MD5=[ee3c913d1a06f366521f9ef512b67efe]\n",
       "class E13--><rect fill=\"#FFFFFF\" height=\"88.3516\" id=\"E13\" rx=\"10\" ry=\"10\" style=\"stroke: #383838; stroke-width: 1.5;\" width=\"50\" x=\"236\" y=\"501\"/><text fill=\"#000000\" font-family=\"sans-serif\" font-size=\"12\" font-style=\"italic\" lengthAdjust=\"spacingAndGlyphs\" textLength=\"40\" x=\"241\" y=\"517.1387\">«part»</text><text fill=\"#000000\" font-family=\"sans-serif\" font-size=\"12\" lengthAdjust=\"spacingAndGlyphs\" textLength=\"42\" x=\"240\" y=\"531.1074\">p: Part</text><line style=\"stroke: #383838; stroke-width: 1.5;\" x1=\"237\" x2=\"285\" y1=\"538.9375\" y2=\"538.9375\"/><text fill=\"#000000\" font-family=\"sans-serif\" font-size=\"11\" lengthAdjust=\"spacingAndGlyphs\" textLength=\"29\" x=\"242\" y=\"569.9526\">p1: P</text><text fill=\"#000000\" font-family=\"sans-serif\" font-size=\"11\" lengthAdjust=\"spacingAndGlyphs\" textLength=\"38\" x=\"242\" y=\"582.7573\">p2: ~P</text><line style=\"stroke: #383838; stroke-width: 1.0;\" x1=\"237\" x2=\"246\" y1=\"553.3398\" y2=\"553.3398\"/><text fill=\"#000000\" font-family=\"sans-serif\" font-size=\"11\" lengthAdjust=\"spacingAndGlyphs\" textLength=\"30\" x=\"246\" y=\"556.6479\">ports</text><line style=\"stroke: #383838; stroke-width: 1.0;\" x1=\"276\" x2=\"285\" y1=\"553.3398\" y2=\"553.3398\"/><!--MD5=[062ed86c389d1a88f61c6380d0491e17]\n",
       "reverse link E12 to E13--><path d=\"M150.17,559.88 C178.04,556.1 212.71,551.41 235.55,548.31 \" fill=\"none\" id=\"E12&lt;-E13\" style=\"stroke: #383838; stroke-width: 1.0;\"/><polygon fill=\"#383838\" points=\"137.12,561.65,143.602,564.8097,149.0117,560.0416,142.5297,556.8819,137.12,561.65\" style=\"stroke: #383838; stroke-width: 1.0;\"/><!--MD5=[0649e04f2be76218a1d471c0a34ded9f]\n",
       "@startuml\r\n",
       "left to right direction\r\n",
       "skinparam monochrome true\r\n",
       "skinparam classbackgroundcolor white\r\n",
       "skinparam shadowing false\r\n",
       "skinparam wrapWidth 300\r\n",
       "hide circle\r\n",
       "\r\n",
       "package \"ConjugationTest\" as E1   {\r\n",
       "comp def \"P\" as E2  <<(T,blue)port def>> {\r\n",
       "}\r\n",
       "comp def \"B\" as E3  <<(T,blue)part def>> {\r\n",
       "- -ports- -\r\n",
       "p1: P\r\n",
       "p2: ~P\r\n",
       "}\r\n",
       "comp def \"A\" as E6  <<(T,blue)connection def>> {\r\n",
       "- -ports- -\r\n",
       "p1: P\\n//:>>Connection::source// \r\n",
       "p2: ~P\\n//:>>Connection::target// \r\n",
       "}\r\n",
       "comp def \"I\" as E9  <<(T,blue)interface def>> {\r\n",
       "- -ports- -\r\n",
       "p1: P\\n//:>>Interface::source// \r\n",
       "p2: ~P\\n//:>>Interface::target// \r\n",
       "}\r\n",
       "comp def \"B1\" as E12  <<(T,blue)part def>> {\r\n",
       "}\r\n",
       "comp usage \"p: Part\" as E13  <<(T,blue)part>> {\r\n",
       "- -ports- -\r\n",
       "p1: P\r\n",
       "p2: ~P\r\n",
       "}\r\n",
       "E12 *- - E13\r\n",
       "}\r\n",
       "@enduml\r\n",
       "\n",
       "PlantUML version 1.2020.13(Sat Jun 13 12:26:38 UTC 2020)\n",
       "(EPL source distribution)\n",
       "Java Runtime: OpenJDK Runtime Environment\n",
       "JVM: OpenJDK 64-Bit Server VM\n",
       "Default Encoding: UTF-8\n",
       "Language: en\n",
       "Country: null\n",
       "--></g></svg>"
      ]
     },
     "execution_count": 21,
     "metadata": {},
     "output_type": "execute_result"
    }
   ],
   "source": [
    "%viz --style=\"LR\" --view=\"Sequence\" \"ConjugationTest\""
   ]
  },
  {
   "cell_type": "code",
   "execution_count": 22,
   "id": "stainless-milan",
   "metadata": {
    "execution": {
     "iopub.execute_input": "2021-03-25T16:02:09.478574Z",
     "iopub.status.busy": "2021-03-25T16:02:09.476768Z",
     "iopub.status.idle": "2021-03-25T16:02:11.164677Z",
     "shell.execute_reply": "2021-03-25T16:02:11.162905Z"
    }
   },
   "outputs": [
    {
     "data": {
      "image/svg+xml": [
       "<?xml version=\"1.0\" encoding=\"UTF-8\" standalone=\"no\"?><svg xmlns=\"http://www.w3.org/2000/svg\" xmlns:xlink=\"http://www.w3.org/1999/xlink\" contentScriptType=\"application/ecmascript\" contentStyleType=\"text/css\" height=\"617px\" preserveAspectRatio=\"none\" style=\"width:324px;height:617px;\" version=\"1.1\" viewBox=\"0 0 324 617\" width=\"324px\" zoomAndPan=\"magnify\"><defs/><g><!--MD5=[fbc87193dbaf4d95561dea2c320d4a47]\n",
       "cluster E1--><polygon fill=\"#FFFFFF\" points=\"16,6,151,6,158,28.2969,302,28.2969,302,605,16,605,16,6\" style=\"stroke: #000000; stroke-width: 1.5;\"/><line style=\"stroke: #000000; stroke-width: 1.5;\" x1=\"16\" x2=\"158\" y1=\"28.2969\" y2=\"28.2969\"/><text fill=\"#000000\" font-family=\"sans-serif\" font-size=\"14\" font-weight=\"bold\" lengthAdjust=\"spacingAndGlyphs\" textLength=\"129\" x=\"20\" y=\"20.9951\">ConjugationTest</text><!--MD5=[b4997ac47864f28c2f74865a473b2911]\n",
       "class E2--><rect fill=\"#FFFFFF\" height=\"45.9375\" id=\"E2\" style=\"stroke: #383838; stroke-width: 1.5;\" width=\"66\" x=\"71\" y=\"41\"/><text fill=\"#000000\" font-family=\"sans-serif\" font-size=\"12\" font-style=\"italic\" lengthAdjust=\"spacingAndGlyphs\" textLength=\"64\" x=\"72\" y=\"57.1387\">«port def»</text><text fill=\"#000000\" font-family=\"sans-serif\" font-size=\"12\" lengthAdjust=\"spacingAndGlyphs\" textLength=\"8\" x=\"100\" y=\"71.1074\">P</text><line style=\"stroke: #383838; stroke-width: 1.5;\" x1=\"72\" x2=\"136\" y1=\"78.9375\" y2=\"78.9375\"/><!--MD5=[09b614a08d8cba4a07c9adeb5e0fee81]\n",
       "class E3--><rect fill=\"#FFFFFF\" height=\"88.3516\" id=\"E3\" style=\"stroke: #383838; stroke-width: 1.5;\" width=\"66\" x=\"71\" y=\"122\"/><text fill=\"#000000\" font-family=\"sans-serif\" font-size=\"12\" font-style=\"italic\" lengthAdjust=\"spacingAndGlyphs\" textLength=\"64\" x=\"72\" y=\"138.1387\">«part def»</text><text fill=\"#000000\" font-family=\"sans-serif\" font-size=\"12\" lengthAdjust=\"spacingAndGlyphs\" textLength=\"8\" x=\"100\" y=\"152.1074\">B</text><line style=\"stroke: #383838; stroke-width: 1.5;\" x1=\"72\" x2=\"136\" y1=\"159.9375\" y2=\"159.9375\"/><text fill=\"#000000\" font-family=\"sans-serif\" font-size=\"11\" lengthAdjust=\"spacingAndGlyphs\" textLength=\"29\" x=\"77\" y=\"190.9526\">p1: P</text><text fill=\"#000000\" font-family=\"sans-serif\" font-size=\"11\" lengthAdjust=\"spacingAndGlyphs\" textLength=\"38\" x=\"77\" y=\"203.7573\">p2: ~P</text><line style=\"stroke: #383838; stroke-width: 1.0;\" x1=\"72\" x2=\"89\" y1=\"174.3398\" y2=\"174.3398\"/><text fill=\"#000000\" font-family=\"sans-serif\" font-size=\"11\" lengthAdjust=\"spacingAndGlyphs\" textLength=\"30\" x=\"89\" y=\"177.6479\">ports</text><line style=\"stroke: #383838; stroke-width: 1.0;\" x1=\"119\" x2=\"136\" y1=\"174.3398\" y2=\"174.3398\"/><!--MD5=[60a26617385b1d2d0262a64233df1f8d]\n",
       "class E6--><rect fill=\"#FFFFFF\" height=\"113.9609\" id=\"E6\" style=\"stroke: #383838; stroke-width: 1.5;\" width=\"144\" x=\"32\" y=\"245\"/><text fill=\"#000000\" font-family=\"sans-serif\" font-size=\"12\" font-style=\"italic\" lengthAdjust=\"spacingAndGlyphs\" textLength=\"108\" x=\"50\" y=\"261.1387\">«connection def»</text><text fill=\"#000000\" font-family=\"sans-serif\" font-size=\"12\" lengthAdjust=\"spacingAndGlyphs\" textLength=\"8\" x=\"100\" y=\"275.1074\">A</text><line style=\"stroke: #383838; stroke-width: 1.5;\" x1=\"33\" x2=\"175\" y1=\"282.9375\" y2=\"282.9375\"/><text fill=\"#000000\" font-family=\"sans-serif\" font-size=\"11\" lengthAdjust=\"spacingAndGlyphs\" textLength=\"29\" x=\"38\" y=\"313.9526\">p1: P</text><text fill=\"#000000\" font-family=\"sans-serif\" font-size=\"11\" font-style=\"italic\" lengthAdjust=\"spacingAndGlyphs\" textLength=\"132\" x=\"38\" y=\"326.7573\">:&gt;&gt;Connection::source</text><text fill=\"#000000\" font-family=\"sans-serif\" font-size=\"11\" lengthAdjust=\"spacingAndGlyphs\" textLength=\"38\" x=\"38\" y=\"339.562\">p2: ~P</text><text fill=\"#000000\" font-family=\"sans-serif\" font-size=\"11\" font-style=\"italic\" lengthAdjust=\"spacingAndGlyphs\" textLength=\"127\" x=\"38\" y=\"352.3667\">:&gt;&gt;Connection::target</text><line style=\"stroke: #383838; stroke-width: 1.0;\" x1=\"33\" x2=\"89\" y1=\"297.3398\" y2=\"297.3398\"/><text fill=\"#000000\" font-family=\"sans-serif\" font-size=\"11\" lengthAdjust=\"spacingAndGlyphs\" textLength=\"30\" x=\"89\" y=\"300.6479\">ports</text><line style=\"stroke: #383838; stroke-width: 1.0;\" x1=\"119\" x2=\"175\" y1=\"297.3398\" y2=\"297.3398\"/><!--MD5=[fd4143e9d270a159db93a4ea2a975926]\n",
       "class E9--><rect fill=\"#FFFFFF\" height=\"113.9609\" id=\"E9\" style=\"stroke: #383838; stroke-width: 1.5;\" width=\"131\" x=\"38.5\" y=\"394\"/><text fill=\"#000000\" font-family=\"sans-serif\" font-size=\"12\" font-style=\"italic\" lengthAdjust=\"spacingAndGlyphs\" textLength=\"94\" x=\"57\" y=\"410.1387\">«interface def»</text><text fill=\"#000000\" font-family=\"sans-serif\" font-size=\"12\" lengthAdjust=\"spacingAndGlyphs\" textLength=\"3\" x=\"102.5\" y=\"424.1074\">I</text><line style=\"stroke: #383838; stroke-width: 1.5;\" x1=\"39.5\" x2=\"168.5\" y1=\"431.9375\" y2=\"431.9375\"/><text fill=\"#000000\" font-family=\"sans-serif\" font-size=\"11\" lengthAdjust=\"spacingAndGlyphs\" textLength=\"29\" x=\"44.5\" y=\"462.9526\">p1: P</text><text fill=\"#000000\" font-family=\"sans-serif\" font-size=\"11\" font-style=\"italic\" lengthAdjust=\"spacingAndGlyphs\" textLength=\"119\" x=\"44.5\" y=\"475.7573\">:&gt;&gt;Interface::source</text><text fill=\"#000000\" font-family=\"sans-serif\" font-size=\"11\" lengthAdjust=\"spacingAndGlyphs\" textLength=\"38\" x=\"44.5\" y=\"488.562\">p2: ~P</text><text fill=\"#000000\" font-family=\"sans-serif\" font-size=\"11\" font-style=\"italic\" lengthAdjust=\"spacingAndGlyphs\" textLength=\"114\" x=\"44.5\" y=\"501.3667\">:&gt;&gt;Interface::target</text><line style=\"stroke: #383838; stroke-width: 1.0;\" x1=\"39.5\" x2=\"89\" y1=\"446.3398\" y2=\"446.3398\"/><text fill=\"#000000\" font-family=\"sans-serif\" font-size=\"11\" lengthAdjust=\"spacingAndGlyphs\" textLength=\"30\" x=\"89\" y=\"449.6479\">ports</text><line style=\"stroke: #383838; stroke-width: 1.0;\" x1=\"119\" x2=\"168.5\" y1=\"446.3398\" y2=\"446.3398\"/><!--MD5=[49a0ec8f00dab7302a31f22d0f0fe584]\n",
       "class E12--><rect fill=\"#FFFFFF\" height=\"45.9375\" id=\"E12\" style=\"stroke: #383838; stroke-width: 1.5;\" width=\"66\" x=\"71\" y=\"543\"/><text fill=\"#000000\" font-family=\"sans-serif\" font-size=\"12\" font-style=\"italic\" lengthAdjust=\"spacingAndGlyphs\" textLength=\"64\" x=\"72\" y=\"559.1387\">«part def»</text><text fill=\"#000000\" font-family=\"sans-serif\" font-size=\"12\" lengthAdjust=\"spacingAndGlyphs\" textLength=\"16\" x=\"96\" y=\"573.1074\">B1</text><line style=\"stroke: #383838; stroke-width: 1.5;\" x1=\"72\" x2=\"136\" y1=\"580.9375\" y2=\"580.9375\"/><!--MD5=[ee3c913d1a06f366521f9ef512b67efe]\n",
       "class E13--><rect fill=\"#FFFFFF\" height=\"88.3516\" id=\"E13\" rx=\"10\" ry=\"10\" style=\"stroke: #383838; stroke-width: 1.5;\" width=\"50\" x=\"236\" y=\"501\"/><text fill=\"#000000\" font-family=\"sans-serif\" font-size=\"12\" font-style=\"italic\" lengthAdjust=\"spacingAndGlyphs\" textLength=\"40\" x=\"241\" y=\"517.1387\">«part»</text><text fill=\"#000000\" font-family=\"sans-serif\" font-size=\"12\" lengthAdjust=\"spacingAndGlyphs\" textLength=\"42\" x=\"240\" y=\"531.1074\">p: Part</text><line style=\"stroke: #383838; stroke-width: 1.5;\" x1=\"237\" x2=\"285\" y1=\"538.9375\" y2=\"538.9375\"/><text fill=\"#000000\" font-family=\"sans-serif\" font-size=\"11\" lengthAdjust=\"spacingAndGlyphs\" textLength=\"29\" x=\"242\" y=\"569.9526\">p1: P</text><text fill=\"#000000\" font-family=\"sans-serif\" font-size=\"11\" lengthAdjust=\"spacingAndGlyphs\" textLength=\"38\" x=\"242\" y=\"582.7573\">p2: ~P</text><line style=\"stroke: #383838; stroke-width: 1.0;\" x1=\"237\" x2=\"246\" y1=\"553.3398\" y2=\"553.3398\"/><text fill=\"#000000\" font-family=\"sans-serif\" font-size=\"11\" lengthAdjust=\"spacingAndGlyphs\" textLength=\"30\" x=\"246\" y=\"556.6479\">ports</text><line style=\"stroke: #383838; stroke-width: 1.0;\" x1=\"276\" x2=\"285\" y1=\"553.3398\" y2=\"553.3398\"/><!--MD5=[062ed86c389d1a88f61c6380d0491e17]\n",
       "reverse link E12 to E13--><path d=\"M150.17,559.88 C178.04,556.1 212.71,551.41 235.55,548.31 \" fill=\"none\" id=\"E12&lt;-E13\" style=\"stroke: #383838; stroke-width: 1.0;\"/><polygon fill=\"#383838\" points=\"137.12,561.65,143.602,564.8097,149.0117,560.0416,142.5297,556.8819,137.12,561.65\" style=\"stroke: #383838; stroke-width: 1.0;\"/><!--MD5=[0649e04f2be76218a1d471c0a34ded9f]\n",
       "@startuml\r\n",
       "left to right direction\r\n",
       "skinparam monochrome true\r\n",
       "skinparam classbackgroundcolor white\r\n",
       "skinparam shadowing false\r\n",
       "skinparam wrapWidth 300\r\n",
       "hide circle\r\n",
       "\r\n",
       "package \"ConjugationTest\" as E1   {\r\n",
       "comp def \"P\" as E2  <<(T,blue)port def>> {\r\n",
       "}\r\n",
       "comp def \"B\" as E3  <<(T,blue)part def>> {\r\n",
       "- -ports- -\r\n",
       "p1: P\r\n",
       "p2: ~P\r\n",
       "}\r\n",
       "comp def \"A\" as E6  <<(T,blue)connection def>> {\r\n",
       "- -ports- -\r\n",
       "p1: P\\n//:>>Connection::source// \r\n",
       "p2: ~P\\n//:>>Connection::target// \r\n",
       "}\r\n",
       "comp def \"I\" as E9  <<(T,blue)interface def>> {\r\n",
       "- -ports- -\r\n",
       "p1: P\\n//:>>Interface::source// \r\n",
       "p2: ~P\\n//:>>Interface::target// \r\n",
       "}\r\n",
       "comp def \"B1\" as E12  <<(T,blue)part def>> {\r\n",
       "}\r\n",
       "comp usage \"p: Part\" as E13  <<(T,blue)part>> {\r\n",
       "- -ports- -\r\n",
       "p1: P\r\n",
       "p2: ~P\r\n",
       "}\r\n",
       "E12 *- - E13\r\n",
       "}\r\n",
       "@enduml\r\n",
       "\n",
       "PlantUML version 1.2020.13(Sat Jun 13 12:26:38 UTC 2020)\n",
       "(EPL source distribution)\n",
       "Java Runtime: OpenJDK Runtime Environment\n",
       "JVM: OpenJDK 64-Bit Server VM\n",
       "Default Encoding: UTF-8\n",
       "Language: en\n",
       "Country: null\n",
       "--></g></svg>"
      ]
     },
     "execution_count": 22,
     "metadata": {},
     "output_type": "execute_result"
    }
   ],
   "source": [
    "%viz --style=\"LR\" --view=\"MIXED\" \"ConjugationTest\""
   ]
  },
  {
   "cell_type": "code",
   "execution_count": 23,
   "id": "addressed-chester",
   "metadata": {
    "execution": {
     "iopub.execute_input": "2021-03-25T16:02:11.215711Z",
     "iopub.status.busy": "2021-03-25T16:02:11.215190Z",
     "iopub.status.idle": "2021-03-25T16:02:12.783140Z",
     "shell.execute_reply": "2021-03-25T16:02:12.781477Z"
    }
   },
   "outputs": [
    {
     "data": {
      "image/svg+xml": [
       "<?xml version=\"1.0\" encoding=\"UTF-8\" standalone=\"no\"?><svg xmlns=\"http://www.w3.org/2000/svg\" xmlns:xlink=\"http://www.w3.org/1999/xlink\" contentScriptType=\"application/ecmascript\" contentStyleType=\"text/css\" height=\"305px\" preserveAspectRatio=\"none\" style=\"width:742px;height:305px;\" version=\"1.1\" viewBox=\"0 0 742 305\" width=\"742px\" zoomAndPan=\"magnify\"><defs><filter height=\"300%\" id=\"f1j2w6240zcxm0\" width=\"300%\" x=\"-1\" y=\"-1\"><feGaussianBlur result=\"blurOut\" stdDeviation=\"2.0\"/><feColorMatrix in=\"blurOut\" result=\"blurOut2\" type=\"matrix\" values=\"0 0 0 0 0 0 0 0 0 0 0 0 0 0 0 0 0 0 .4 0\"/><feOffset dx=\"4.0\" dy=\"4.0\" in=\"blurOut2\" result=\"blurOut3\"/><feBlend in=\"SourceGraphic\" in2=\"blurOut3\" mode=\"normal\"/></filter></defs><g><!--MD5=[fbc87193dbaf4d95561dea2c320d4a47]\n",
       "cluster E1--><polygon fill=\"#FFFFFF\" filter=\"url(#f1j2w6240zcxm0)\" points=\"16,6,151,6,158,28.2969,720,28.2969,720,293,16,293,16,6\" style=\"stroke: #000000; stroke-width: 1.5;\"/><line style=\"stroke: #000000; stroke-width: 1.5;\" x1=\"16\" x2=\"158\" y1=\"28.2969\" y2=\"28.2969\"/><text fill=\"#000000\" font-family=\"sans-serif\" font-size=\"14\" font-weight=\"bold\" lengthAdjust=\"spacingAndGlyphs\" textLength=\"129\" x=\"20\" y=\"20.9951\">ConjugationTest</text><!--MD5=[b4997ac47864f28c2f74865a473b2911]\n",
       "class E2--><rect fill=\"#FEFECE\" filter=\"url(#f1j2w6240zcxm0)\" height=\"45.9375\" id=\"E2\" style=\"stroke: #A80036; stroke-width: 1.5;\" width=\"66\" x=\"638\" y=\"62\"/><text fill=\"#000000\" font-family=\"sans-serif\" font-size=\"12\" font-style=\"italic\" lengthAdjust=\"spacingAndGlyphs\" textLength=\"64\" x=\"639\" y=\"78.1387\">«port def»</text><text fill=\"#000000\" font-family=\"sans-serif\" font-size=\"12\" lengthAdjust=\"spacingAndGlyphs\" textLength=\"8\" x=\"667\" y=\"92.1074\">P</text><line style=\"stroke: #A80036; stroke-width: 1.5;\" x1=\"639\" x2=\"703\" y1=\"99.9375\" y2=\"99.9375\"/><!--MD5=[09b614a08d8cba4a07c9adeb5e0fee81]\n",
       "class E3--><rect fill=\"#FEFECE\" filter=\"url(#f1j2w6240zcxm0)\" height=\"88.3516\" id=\"E3\" style=\"stroke: #A80036; stroke-width: 1.5;\" width=\"66\" x=\"537\" y=\"41\"/><text fill=\"#000000\" font-family=\"sans-serif\" font-size=\"12\" font-style=\"italic\" lengthAdjust=\"spacingAndGlyphs\" textLength=\"64\" x=\"538\" y=\"57.1387\">«part def»</text><text fill=\"#000000\" font-family=\"sans-serif\" font-size=\"12\" lengthAdjust=\"spacingAndGlyphs\" textLength=\"8\" x=\"566\" y=\"71.1074\">B</text><line style=\"stroke: #A80036; stroke-width: 1.5;\" x1=\"538\" x2=\"602\" y1=\"78.9375\" y2=\"78.9375\"/><text fill=\"#000000\" font-family=\"sans-serif\" font-size=\"11\" lengthAdjust=\"spacingAndGlyphs\" textLength=\"29\" x=\"543\" y=\"109.9526\">p1: P</text><text fill=\"#000000\" font-family=\"sans-serif\" font-size=\"11\" lengthAdjust=\"spacingAndGlyphs\" textLength=\"38\" x=\"543\" y=\"122.7573\">p2: ~P</text><line style=\"stroke: #A80036; stroke-width: 1.0;\" x1=\"538\" x2=\"555\" y1=\"93.3398\" y2=\"93.3398\"/><text fill=\"#000000\" font-family=\"sans-serif\" font-size=\"11\" lengthAdjust=\"spacingAndGlyphs\" textLength=\"30\" x=\"555\" y=\"96.6479\">ports</text><line style=\"stroke: #A80036; stroke-width: 1.0;\" x1=\"585\" x2=\"602\" y1=\"93.3398\" y2=\"93.3398\"/><!--MD5=[60a26617385b1d2d0262a64233df1f8d]\n",
       "class E6--><rect fill=\"#FEFECE\" filter=\"url(#f1j2w6240zcxm0)\" height=\"88.3516\" id=\"E6\" style=\"stroke: #A80036; stroke-width: 1.5;\" width=\"173\" x=\"328.5\" y=\"41\"/><text fill=\"#000000\" font-family=\"sans-serif\" font-size=\"12\" font-style=\"italic\" lengthAdjust=\"spacingAndGlyphs\" textLength=\"108\" x=\"361\" y=\"57.1387\">«connection def»</text><text fill=\"#000000\" font-family=\"sans-serif\" font-size=\"12\" lengthAdjust=\"spacingAndGlyphs\" textLength=\"8\" x=\"411\" y=\"71.1074\">A</text><line style=\"stroke: #A80036; stroke-width: 1.5;\" x1=\"329.5\" x2=\"500.5\" y1=\"78.9375\" y2=\"78.9375\"/><line style=\"stroke: #000000; stroke-width: 1.0;\" x1=\"334.5\" x2=\"334.5\" y1=\"101.7422\" y2=\"110.7422\"/><polygon fill=\"#FFFF44\" points=\"337.5,102.7422,344.5,106.7422,337.5,110.7422\" style=\"stroke: #000000; stroke-width: 1.0;\"/><text fill=\"#000000\" font-family=\"sans-serif\" font-size=\"11\" lengthAdjust=\"spacingAndGlyphs\" textLength=\"29\" x=\"348.5\" y=\"109.9526\">p1: P</text><text fill=\"#000000\" font-family=\"sans-serif\" font-size=\"11\" lengthAdjust=\"spacingAndGlyphs\" text-decoration=\"line-through\" textLength=\"110\" x=\"381.5\" y=\"109.9526\">Connection::source</text><line style=\"stroke: #000000; stroke-width: 1.0;\" x1=\"334.5\" x2=\"334.5\" y1=\"114.5469\" y2=\"123.5469\"/><polygon fill=\"#FFFF44\" points=\"337.5,115.5469,344.5,119.5469,337.5,123.5469\" style=\"stroke: #000000; stroke-width: 1.0;\"/><text fill=\"#000000\" font-family=\"sans-serif\" font-size=\"11\" lengthAdjust=\"spacingAndGlyphs\" textLength=\"38\" x=\"348.5\" y=\"122.7573\">p2: ~P</text><text fill=\"#000000\" font-family=\"sans-serif\" font-size=\"11\" lengthAdjust=\"spacingAndGlyphs\" text-decoration=\"line-through\" textLength=\"105\" x=\"390.5\" y=\"122.7573\">Connection::target</text><line style=\"stroke: #A80036; stroke-width: 1.0;\" x1=\"329.5\" x2=\"400\" y1=\"93.3398\" y2=\"93.3398\"/><text fill=\"#000000\" font-family=\"sans-serif\" font-size=\"11\" lengthAdjust=\"spacingAndGlyphs\" textLength=\"30\" x=\"400\" y=\"96.6479\">ports</text><line style=\"stroke: #A80036; stroke-width: 1.0;\" x1=\"430\" x2=\"500.5\" y1=\"93.3398\" y2=\"93.3398\"/><!--MD5=[fd4143e9d270a159db93a4ea2a975926]\n",
       "class E9--><rect fill=\"#FEFECE\" filter=\"url(#f1j2w6240zcxm0)\" height=\"88.3516\" id=\"E9\" style=\"stroke: #A80036; stroke-width: 1.5;\" width=\"160\" x=\"133\" y=\"41\"/><text fill=\"#000000\" font-family=\"sans-serif\" font-size=\"12\" font-style=\"italic\" lengthAdjust=\"spacingAndGlyphs\" textLength=\"94\" x=\"166\" y=\"57.1387\">«interface def»</text><text fill=\"#000000\" font-family=\"sans-serif\" font-size=\"12\" lengthAdjust=\"spacingAndGlyphs\" textLength=\"3\" x=\"211.5\" y=\"71.1074\">I</text><line style=\"stroke: #A80036; stroke-width: 1.5;\" x1=\"134\" x2=\"292\" y1=\"78.9375\" y2=\"78.9375\"/><line style=\"stroke: #000000; stroke-width: 1.0;\" x1=\"139\" x2=\"139\" y1=\"101.7422\" y2=\"110.7422\"/><polygon fill=\"#FFFF44\" points=\"142,102.7422,149,106.7422,142,110.7422\" style=\"stroke: #000000; stroke-width: 1.0;\"/><text fill=\"#000000\" font-family=\"sans-serif\" font-size=\"11\" lengthAdjust=\"spacingAndGlyphs\" textLength=\"29\" x=\"153\" y=\"109.9526\">p1: P</text><text fill=\"#000000\" font-family=\"sans-serif\" font-size=\"11\" lengthAdjust=\"spacingAndGlyphs\" text-decoration=\"line-through\" textLength=\"97\" x=\"186\" y=\"109.9526\">Interface::source</text><line style=\"stroke: #000000; stroke-width: 1.0;\" x1=\"139\" x2=\"139\" y1=\"114.5469\" y2=\"123.5469\"/><polygon fill=\"#FFFF44\" points=\"142,115.5469,149,119.5469,142,123.5469\" style=\"stroke: #000000; stroke-width: 1.0;\"/><text fill=\"#000000\" font-family=\"sans-serif\" font-size=\"11\" lengthAdjust=\"spacingAndGlyphs\" textLength=\"38\" x=\"153\" y=\"122.7573\">p2: ~P</text><text fill=\"#000000\" font-family=\"sans-serif\" font-size=\"11\" lengthAdjust=\"spacingAndGlyphs\" text-decoration=\"line-through\" textLength=\"92\" x=\"195\" y=\"122.7573\">Interface::target</text><line style=\"stroke: #A80036; stroke-width: 1.0;\" x1=\"134\" x2=\"198\" y1=\"93.3398\" y2=\"93.3398\"/><text fill=\"#000000\" font-family=\"sans-serif\" font-size=\"11\" lengthAdjust=\"spacingAndGlyphs\" textLength=\"30\" x=\"198\" y=\"96.6479\">ports</text><line style=\"stroke: #A80036; stroke-width: 1.0;\" x1=\"228\" x2=\"292\" y1=\"93.3398\" y2=\"93.3398\"/><!--MD5=[49a0ec8f00dab7302a31f22d0f0fe584]\n",
       "class E12--><rect fill=\"#FEFECE\" filter=\"url(#f1j2w6240zcxm0)\" height=\"45.9375\" id=\"E12\" style=\"stroke: #A80036; stroke-width: 1.5;\" width=\"66\" x=\"32\" y=\"62\"/><text fill=\"#000000\" font-family=\"sans-serif\" font-size=\"12\" font-style=\"italic\" lengthAdjust=\"spacingAndGlyphs\" textLength=\"64\" x=\"33\" y=\"78.1387\">«part def»</text><text fill=\"#000000\" font-family=\"sans-serif\" font-size=\"12\" lengthAdjust=\"spacingAndGlyphs\" textLength=\"16\" x=\"57\" y=\"92.1074\">B1</text><line style=\"stroke: #A80036; stroke-width: 1.5;\" x1=\"33\" x2=\"97\" y1=\"99.9375\" y2=\"99.9375\"/><!--MD5=[ee3c913d1a06f366521f9ef512b67efe]\n",
       "class E13--><rect fill=\"#FEFECE\" filter=\"url(#f1j2w6240zcxm0)\" height=\"88.3516\" id=\"E13\" rx=\"10\" ry=\"10\" style=\"stroke: #A80036; stroke-width: 1.5;\" width=\"50\" x=\"40\" y=\"189\"/><text fill=\"#000000\" font-family=\"sans-serif\" font-size=\"12\" font-style=\"italic\" lengthAdjust=\"spacingAndGlyphs\" textLength=\"40\" x=\"45\" y=\"205.1387\">«part»</text><text fill=\"#000000\" font-family=\"sans-serif\" font-size=\"12\" lengthAdjust=\"spacingAndGlyphs\" textLength=\"42\" x=\"44\" y=\"219.1074\">p: Part</text><line style=\"stroke: #A80036; stroke-width: 1.5;\" x1=\"41\" x2=\"89\" y1=\"226.9375\" y2=\"226.9375\"/><text fill=\"#000000\" font-family=\"sans-serif\" font-size=\"11\" lengthAdjust=\"spacingAndGlyphs\" textLength=\"29\" x=\"46\" y=\"257.9526\">p1: P</text><text fill=\"#000000\" font-family=\"sans-serif\" font-size=\"11\" lengthAdjust=\"spacingAndGlyphs\" textLength=\"38\" x=\"46\" y=\"270.7573\">p2: ~P</text><line style=\"stroke: #A80036; stroke-width: 1.0;\" x1=\"41\" x2=\"50\" y1=\"241.3398\" y2=\"241.3398\"/><text fill=\"#000000\" font-family=\"sans-serif\" font-size=\"11\" lengthAdjust=\"spacingAndGlyphs\" textLength=\"30\" x=\"50\" y=\"244.6479\">ports</text><line style=\"stroke: #A80036; stroke-width: 1.0;\" x1=\"80\" x2=\"89\" y1=\"241.3398\" y2=\"241.3398\"/><!--MD5=[062ed86c389d1a88f61c6380d0491e17]\n",
       "reverse link E12 to E13--><path d=\"M65,121.25 C65,141.54 65,167.2 65,188.71 \" fill=\"none\" id=\"E12&lt;-E13\" style=\"stroke: #A80036; stroke-width: 1.0;\"/><polygon fill=\"#A80036\" points=\"65,108.17,61,114.17,65,120.17,69,114.17,65,108.17\" style=\"stroke: #A80036; stroke-width: 1.0;\"/><!--MD5=[54531d9791ae6ca92ae6eacd3dd9078b]\n",
       "@startuml\r\n",
       "skinparam wrapWidth 300\r\n",
       "hide circle\r\n",
       "\r\n",
       "package \"ConjugationTest\" as E1   {\r\n",
       "comp def \"P\" as E2  <<(T,blue)port def>> {\r\n",
       "}\r\n",
       "comp def \"B\" as E3  <<(T,blue)part def>> {\r\n",
       "- -ports- -\r\n",
       "p1: P\r\n",
       "p2: ~P\r\n",
       "}\r\n",
       "comp def \"A\" as E6  <<(T,blue)connection def>> {\r\n",
       "- -ports- -\r\n",
       ">p1: P <s>Connection::source</s>\r\n",
       ">p2: ~P <s>Connection::target</s>\r\n",
       "}\r\n",
       "comp def \"I\" as E9  <<(T,blue)interface def>> {\r\n",
       "- -ports- -\r\n",
       ">p1: P <s>Interface::source</s>\r\n",
       ">p2: ~P <s>Interface::target</s>\r\n",
       "}\r\n",
       "comp def \"B1\" as E12  <<(T,blue)part def>> {\r\n",
       "}\r\n",
       "comp usage \"p: Part\" as E13  <<(T,blue)part>> {\r\n",
       "- -ports- -\r\n",
       "p1: P\r\n",
       "p2: ~P\r\n",
       "}\r\n",
       "E12 *- - E13\r\n",
       "}\r\n",
       "@enduml\r\n",
       "\n",
       "PlantUML version 1.2020.13(Sat Jun 13 12:26:38 UTC 2020)\n",
       "(EPL source distribution)\n",
       "Java Runtime: OpenJDK Runtime Environment\n",
       "JVM: OpenJDK 64-Bit Server VM\n",
       "Default Encoding: UTF-8\n",
       "Language: en\n",
       "Country: null\n",
       "--></g></svg>"
      ]
     },
     "execution_count": 23,
     "metadata": {},
     "output_type": "execute_result"
    }
   ],
   "source": [
    "%viz --style=\"STDCOLOR\" --view=\"Default\" \"ConjugationTest\""
   ]
  },
  {
   "cell_type": "code",
   "execution_count": 24,
   "id": "minimal-border",
   "metadata": {
    "execution": {
     "iopub.execute_input": "2021-03-25T16:02:12.836453Z",
     "iopub.status.busy": "2021-03-25T16:02:12.835432Z",
     "iopub.status.idle": "2021-03-25T16:02:14.435252Z",
     "shell.execute_reply": "2021-03-25T16:02:14.433811Z"
    }
   },
   "outputs": [
    {
     "data": {
      "image/svg+xml": [
       "<?xml version=\"1.0\" encoding=\"UTF-8\" standalone=\"no\"?><svg xmlns=\"http://www.w3.org/2000/svg\" xmlns:xlink=\"http://www.w3.org/1999/xlink\" contentScriptType=\"application/ecmascript\" contentStyleType=\"text/css\" height=\"305px\" preserveAspectRatio=\"none\" style=\"width:742px;height:305px;\" version=\"1.1\" viewBox=\"0 0 742 305\" width=\"742px\" zoomAndPan=\"magnify\"><defs><filter height=\"300%\" id=\"f1j2w6240zcxm0\" width=\"300%\" x=\"-1\" y=\"-1\"><feGaussianBlur result=\"blurOut\" stdDeviation=\"2.0\"/><feColorMatrix in=\"blurOut\" result=\"blurOut2\" type=\"matrix\" values=\"0 0 0 0 0 0 0 0 0 0 0 0 0 0 0 0 0 0 .4 0\"/><feOffset dx=\"4.0\" dy=\"4.0\" in=\"blurOut2\" result=\"blurOut3\"/><feBlend in=\"SourceGraphic\" in2=\"blurOut3\" mode=\"normal\"/></filter></defs><g><!--MD5=[fbc87193dbaf4d95561dea2c320d4a47]\n",
       "cluster E1--><polygon fill=\"#FFFFFF\" filter=\"url(#f1j2w6240zcxm0)\" points=\"16,6,151,6,158,28.2969,720,28.2969,720,293,16,293,16,6\" style=\"stroke: #000000; stroke-width: 1.5;\"/><line style=\"stroke: #000000; stroke-width: 1.5;\" x1=\"16\" x2=\"158\" y1=\"28.2969\" y2=\"28.2969\"/><text fill=\"#000000\" font-family=\"sans-serif\" font-size=\"14\" font-weight=\"bold\" lengthAdjust=\"spacingAndGlyphs\" textLength=\"129\" x=\"20\" y=\"20.9951\">ConjugationTest</text><!--MD5=[b4997ac47864f28c2f74865a473b2911]\n",
       "class E2--><rect fill=\"#FEFECE\" filter=\"url(#f1j2w6240zcxm0)\" height=\"45.9375\" id=\"E2\" style=\"stroke: #A80036; stroke-width: 1.5;\" width=\"66\" x=\"638\" y=\"62\"/><text fill=\"#000000\" font-family=\"sans-serif\" font-size=\"12\" font-style=\"italic\" lengthAdjust=\"spacingAndGlyphs\" textLength=\"64\" x=\"639\" y=\"78.1387\">«port def»</text><text fill=\"#000000\" font-family=\"sans-serif\" font-size=\"12\" lengthAdjust=\"spacingAndGlyphs\" textLength=\"8\" x=\"667\" y=\"92.1074\">P</text><line style=\"stroke: #A80036; stroke-width: 1.5;\" x1=\"639\" x2=\"703\" y1=\"99.9375\" y2=\"99.9375\"/><!--MD5=[09b614a08d8cba4a07c9adeb5e0fee81]\n",
       "class E3--><rect fill=\"#FEFECE\" filter=\"url(#f1j2w6240zcxm0)\" height=\"88.3516\" id=\"E3\" style=\"stroke: #A80036; stroke-width: 1.5;\" width=\"66\" x=\"537\" y=\"41\"/><text fill=\"#000000\" font-family=\"sans-serif\" font-size=\"12\" font-style=\"italic\" lengthAdjust=\"spacingAndGlyphs\" textLength=\"64\" x=\"538\" y=\"57.1387\">«part def»</text><text fill=\"#000000\" font-family=\"sans-serif\" font-size=\"12\" lengthAdjust=\"spacingAndGlyphs\" textLength=\"8\" x=\"566\" y=\"71.1074\">B</text><line style=\"stroke: #A80036; stroke-width: 1.5;\" x1=\"538\" x2=\"602\" y1=\"78.9375\" y2=\"78.9375\"/><text fill=\"#000000\" font-family=\"sans-serif\" font-size=\"11\" lengthAdjust=\"spacingAndGlyphs\" textLength=\"29\" x=\"543\" y=\"109.9526\">p1: P</text><text fill=\"#000000\" font-family=\"sans-serif\" font-size=\"11\" lengthAdjust=\"spacingAndGlyphs\" textLength=\"38\" x=\"543\" y=\"122.7573\">p2: ~P</text><line style=\"stroke: #A80036; stroke-width: 1.0;\" x1=\"538\" x2=\"555\" y1=\"93.3398\" y2=\"93.3398\"/><text fill=\"#000000\" font-family=\"sans-serif\" font-size=\"11\" lengthAdjust=\"spacingAndGlyphs\" textLength=\"30\" x=\"555\" y=\"96.6479\">ports</text><line style=\"stroke: #A80036; stroke-width: 1.0;\" x1=\"585\" x2=\"602\" y1=\"93.3398\" y2=\"93.3398\"/><!--MD5=[60a26617385b1d2d0262a64233df1f8d]\n",
       "class E6--><rect fill=\"#FEFECE\" filter=\"url(#f1j2w6240zcxm0)\" height=\"88.3516\" id=\"E6\" style=\"stroke: #A80036; stroke-width: 1.5;\" width=\"173\" x=\"328.5\" y=\"41\"/><text fill=\"#000000\" font-family=\"sans-serif\" font-size=\"12\" font-style=\"italic\" lengthAdjust=\"spacingAndGlyphs\" textLength=\"108\" x=\"361\" y=\"57.1387\">«connection def»</text><text fill=\"#000000\" font-family=\"sans-serif\" font-size=\"12\" lengthAdjust=\"spacingAndGlyphs\" textLength=\"8\" x=\"411\" y=\"71.1074\">A</text><line style=\"stroke: #A80036; stroke-width: 1.5;\" x1=\"329.5\" x2=\"500.5\" y1=\"78.9375\" y2=\"78.9375\"/><line style=\"stroke: #000000; stroke-width: 1.0;\" x1=\"334.5\" x2=\"334.5\" y1=\"101.7422\" y2=\"110.7422\"/><polygon fill=\"#FFFF44\" points=\"337.5,102.7422,344.5,106.7422,337.5,110.7422\" style=\"stroke: #000000; stroke-width: 1.0;\"/><text fill=\"#000000\" font-family=\"sans-serif\" font-size=\"11\" lengthAdjust=\"spacingAndGlyphs\" textLength=\"29\" x=\"348.5\" y=\"109.9526\">p1: P</text><text fill=\"#000000\" font-family=\"sans-serif\" font-size=\"11\" lengthAdjust=\"spacingAndGlyphs\" text-decoration=\"line-through\" textLength=\"110\" x=\"381.5\" y=\"109.9526\">Connection::source</text><line style=\"stroke: #000000; stroke-width: 1.0;\" x1=\"334.5\" x2=\"334.5\" y1=\"114.5469\" y2=\"123.5469\"/><polygon fill=\"#FFFF44\" points=\"337.5,115.5469,344.5,119.5469,337.5,123.5469\" style=\"stroke: #000000; stroke-width: 1.0;\"/><text fill=\"#000000\" font-family=\"sans-serif\" font-size=\"11\" lengthAdjust=\"spacingAndGlyphs\" textLength=\"38\" x=\"348.5\" y=\"122.7573\">p2: ~P</text><text fill=\"#000000\" font-family=\"sans-serif\" font-size=\"11\" lengthAdjust=\"spacingAndGlyphs\" text-decoration=\"line-through\" textLength=\"105\" x=\"390.5\" y=\"122.7573\">Connection::target</text><line style=\"stroke: #A80036; stroke-width: 1.0;\" x1=\"329.5\" x2=\"400\" y1=\"93.3398\" y2=\"93.3398\"/><text fill=\"#000000\" font-family=\"sans-serif\" font-size=\"11\" lengthAdjust=\"spacingAndGlyphs\" textLength=\"30\" x=\"400\" y=\"96.6479\">ports</text><line style=\"stroke: #A80036; stroke-width: 1.0;\" x1=\"430\" x2=\"500.5\" y1=\"93.3398\" y2=\"93.3398\"/><!--MD5=[fd4143e9d270a159db93a4ea2a975926]\n",
       "class E9--><rect fill=\"#FEFECE\" filter=\"url(#f1j2w6240zcxm0)\" height=\"88.3516\" id=\"E9\" style=\"stroke: #A80036; stroke-width: 1.5;\" width=\"160\" x=\"133\" y=\"41\"/><text fill=\"#000000\" font-family=\"sans-serif\" font-size=\"12\" font-style=\"italic\" lengthAdjust=\"spacingAndGlyphs\" textLength=\"94\" x=\"166\" y=\"57.1387\">«interface def»</text><text fill=\"#000000\" font-family=\"sans-serif\" font-size=\"12\" lengthAdjust=\"spacingAndGlyphs\" textLength=\"3\" x=\"211.5\" y=\"71.1074\">I</text><line style=\"stroke: #A80036; stroke-width: 1.5;\" x1=\"134\" x2=\"292\" y1=\"78.9375\" y2=\"78.9375\"/><line style=\"stroke: #000000; stroke-width: 1.0;\" x1=\"139\" x2=\"139\" y1=\"101.7422\" y2=\"110.7422\"/><polygon fill=\"#FFFF44\" points=\"142,102.7422,149,106.7422,142,110.7422\" style=\"stroke: #000000; stroke-width: 1.0;\"/><text fill=\"#000000\" font-family=\"sans-serif\" font-size=\"11\" lengthAdjust=\"spacingAndGlyphs\" textLength=\"29\" x=\"153\" y=\"109.9526\">p1: P</text><text fill=\"#000000\" font-family=\"sans-serif\" font-size=\"11\" lengthAdjust=\"spacingAndGlyphs\" text-decoration=\"line-through\" textLength=\"97\" x=\"186\" y=\"109.9526\">Interface::source</text><line style=\"stroke: #000000; stroke-width: 1.0;\" x1=\"139\" x2=\"139\" y1=\"114.5469\" y2=\"123.5469\"/><polygon fill=\"#FFFF44\" points=\"142,115.5469,149,119.5469,142,123.5469\" style=\"stroke: #000000; stroke-width: 1.0;\"/><text fill=\"#000000\" font-family=\"sans-serif\" font-size=\"11\" lengthAdjust=\"spacingAndGlyphs\" textLength=\"38\" x=\"153\" y=\"122.7573\">p2: ~P</text><text fill=\"#000000\" font-family=\"sans-serif\" font-size=\"11\" lengthAdjust=\"spacingAndGlyphs\" text-decoration=\"line-through\" textLength=\"92\" x=\"195\" y=\"122.7573\">Interface::target</text><line style=\"stroke: #A80036; stroke-width: 1.0;\" x1=\"134\" x2=\"198\" y1=\"93.3398\" y2=\"93.3398\"/><text fill=\"#000000\" font-family=\"sans-serif\" font-size=\"11\" lengthAdjust=\"spacingAndGlyphs\" textLength=\"30\" x=\"198\" y=\"96.6479\">ports</text><line style=\"stroke: #A80036; stroke-width: 1.0;\" x1=\"228\" x2=\"292\" y1=\"93.3398\" y2=\"93.3398\"/><!--MD5=[49a0ec8f00dab7302a31f22d0f0fe584]\n",
       "class E12--><rect fill=\"#FEFECE\" filter=\"url(#f1j2w6240zcxm0)\" height=\"45.9375\" id=\"E12\" style=\"stroke: #A80036; stroke-width: 1.5;\" width=\"66\" x=\"32\" y=\"62\"/><text fill=\"#000000\" font-family=\"sans-serif\" font-size=\"12\" font-style=\"italic\" lengthAdjust=\"spacingAndGlyphs\" textLength=\"64\" x=\"33\" y=\"78.1387\">«part def»</text><text fill=\"#000000\" font-family=\"sans-serif\" font-size=\"12\" lengthAdjust=\"spacingAndGlyphs\" textLength=\"16\" x=\"57\" y=\"92.1074\">B1</text><line style=\"stroke: #A80036; stroke-width: 1.5;\" x1=\"33\" x2=\"97\" y1=\"99.9375\" y2=\"99.9375\"/><!--MD5=[ee3c913d1a06f366521f9ef512b67efe]\n",
       "class E13--><rect fill=\"#FEFECE\" filter=\"url(#f1j2w6240zcxm0)\" height=\"88.3516\" id=\"E13\" rx=\"10\" ry=\"10\" style=\"stroke: #A80036; stroke-width: 1.5;\" width=\"50\" x=\"40\" y=\"189\"/><text fill=\"#000000\" font-family=\"sans-serif\" font-size=\"12\" font-style=\"italic\" lengthAdjust=\"spacingAndGlyphs\" textLength=\"40\" x=\"45\" y=\"205.1387\">«part»</text><text fill=\"#000000\" font-family=\"sans-serif\" font-size=\"12\" lengthAdjust=\"spacingAndGlyphs\" textLength=\"42\" x=\"44\" y=\"219.1074\">p: Part</text><line style=\"stroke: #A80036; stroke-width: 1.5;\" x1=\"41\" x2=\"89\" y1=\"226.9375\" y2=\"226.9375\"/><text fill=\"#000000\" font-family=\"sans-serif\" font-size=\"11\" lengthAdjust=\"spacingAndGlyphs\" textLength=\"29\" x=\"46\" y=\"257.9526\">p1: P</text><text fill=\"#000000\" font-family=\"sans-serif\" font-size=\"11\" lengthAdjust=\"spacingAndGlyphs\" textLength=\"38\" x=\"46\" y=\"270.7573\">p2: ~P</text><line style=\"stroke: #A80036; stroke-width: 1.0;\" x1=\"41\" x2=\"50\" y1=\"241.3398\" y2=\"241.3398\"/><text fill=\"#000000\" font-family=\"sans-serif\" font-size=\"11\" lengthAdjust=\"spacingAndGlyphs\" textLength=\"30\" x=\"50\" y=\"244.6479\">ports</text><line style=\"stroke: #A80036; stroke-width: 1.0;\" x1=\"80\" x2=\"89\" y1=\"241.3398\" y2=\"241.3398\"/><!--MD5=[062ed86c389d1a88f61c6380d0491e17]\n",
       "reverse link E12 to E13--><path d=\"M65,121.25 C65,141.54 65,167.2 65,188.71 \" fill=\"none\" id=\"E12&lt;-E13\" style=\"stroke: #A80036; stroke-width: 1.0;\"/><polygon fill=\"#A80036\" points=\"65,108.17,61,114.17,65,120.17,69,114.17,65,108.17\" style=\"stroke: #A80036; stroke-width: 1.0;\"/><!--MD5=[54531d9791ae6ca92ae6eacd3dd9078b]\n",
       "@startuml\r\n",
       "skinparam wrapWidth 300\r\n",
       "hide circle\r\n",
       "\r\n",
       "package \"ConjugationTest\" as E1   {\r\n",
       "comp def \"P\" as E2  <<(T,blue)port def>> {\r\n",
       "}\r\n",
       "comp def \"B\" as E3  <<(T,blue)part def>> {\r\n",
       "- -ports- -\r\n",
       "p1: P\r\n",
       "p2: ~P\r\n",
       "}\r\n",
       "comp def \"A\" as E6  <<(T,blue)connection def>> {\r\n",
       "- -ports- -\r\n",
       ">p1: P <s>Connection::source</s>\r\n",
       ">p2: ~P <s>Connection::target</s>\r\n",
       "}\r\n",
       "comp def \"I\" as E9  <<(T,blue)interface def>> {\r\n",
       "- -ports- -\r\n",
       ">p1: P <s>Interface::source</s>\r\n",
       ">p2: ~P <s>Interface::target</s>\r\n",
       "}\r\n",
       "comp def \"B1\" as E12  <<(T,blue)part def>> {\r\n",
       "}\r\n",
       "comp usage \"p: Part\" as E13  <<(T,blue)part>> {\r\n",
       "- -ports- -\r\n",
       "p1: P\r\n",
       "p2: ~P\r\n",
       "}\r\n",
       "E12 *- - E13\r\n",
       "}\r\n",
       "@enduml\r\n",
       "\n",
       "PlantUML version 1.2020.13(Sat Jun 13 12:26:38 UTC 2020)\n",
       "(EPL source distribution)\n",
       "Java Runtime: OpenJDK Runtime Environment\n",
       "JVM: OpenJDK 64-Bit Server VM\n",
       "Default Encoding: UTF-8\n",
       "Language: en\n",
       "Country: null\n",
       "--></g></svg>"
      ]
     },
     "execution_count": 24,
     "metadata": {},
     "output_type": "execute_result"
    }
   ],
   "source": [
    "%viz --style=\"STDCOLOR\" --view=\"Tree\" \"ConjugationTest\""
   ]
  },
  {
   "cell_type": "code",
   "execution_count": 25,
   "id": "ahead-refrigerator",
   "metadata": {
    "execution": {
     "iopub.execute_input": "2021-03-25T16:02:14.485952Z",
     "iopub.status.busy": "2021-03-25T16:02:14.485435Z",
     "iopub.status.idle": "2021-03-25T16:02:14.487129Z",
     "shell.execute_reply": "2021-03-25T16:02:14.487585Z"
    }
   },
   "outputs": [
    {
     "data": {
      "text/plain": [
       "java.lang.IllegalArgumentException: Invalid View: State View candidates are: Default Tree StateMachine Interconnection Activity Sequence MIXED \n",
       "\tat org.omg.sysml.plantuml.SysML2PlantUMLSvc.setView(SysML2PlantUMLSvc.java:63)\n",
       "\tat org.omg.sysml.interactive.SysMLInteractive.viz(SysMLInteractive.java:286)\n",
       "\tat org.omg.sysml.jupyter.kernel.magic.Viz.viz(Viz.java:47)\n",
       "\tat jdk.internal.reflect.GeneratedMethodAccessor12.invoke(Unknown Source)\n",
       "\tat java.base/jdk.internal.reflect.DelegatingMethodAccessorImpl.invoke(DelegatingMethodAccessorImpl.java:43)\n",
       "\tat java.base/java.lang.reflect.Method.invoke(Method.java:568)\n",
       "\tat io.github.spencerpark.jupyter.kernel.magic.registry.Magics.invoke(Magics.java:89)\n",
       "\tat io.github.spencerpark.jupyter.kernel.magic.registry.Magics.access$000(Magics.java:8)\n",
       "\tat io.github.spencerpark.jupyter.kernel.magic.registry.Magics$LineReflectionMagicFunction.execute(Magics.java:149)\n",
       "\tat io.github.spencerpark.jupyter.kernel.magic.registry.Magics.applyLineMagic(Magics.java:26)\n",
       "\tat org.omg.sysml.jupyter.kernel.SysMLKernel.eval(SysMLKernel.java:76)\n",
       "\tat io.github.spencerpark.jupyter.kernel.BaseKernel.handleExecuteRequest(BaseKernel.java:334)\n",
       "\tat io.github.spencerpark.jupyter.channels.ShellChannel.lambda$bind$0(ShellChannel.java:64)\n",
       "\tat io.github.spencerpark.jupyter.channels.Loop.lambda$new$0(Loop.java:21)\n",
       "\tat io.github.spencerpark.jupyter.channels.Loop.run(Loop.java:78)\n"
      ]
     },
     "execution_count": 25,
     "metadata": {},
     "output_type": "execute_result"
    }
   ],
   "source": [
    "%viz --style=\"STDCOLOR\" --view=\"State\" \"ConjugationTest\""
   ]
  },
  {
   "cell_type": "code",
   "execution_count": 26,
   "id": "blind-program",
   "metadata": {
    "execution": {
     "iopub.execute_input": "2021-03-25T16:02:14.540027Z",
     "iopub.status.busy": "2021-03-25T16:02:14.539404Z",
     "iopub.status.idle": "2021-03-25T16:02:14.643231Z",
     "shell.execute_reply": "2021-03-25T16:02:14.641816Z"
    }
   },
   "outputs": [
    {
     "data": {
      "image/svg+xml": [
       "<?xml version=\"1.0\" encoding=\"UTF-8\" standalone=\"no\"?><svg xmlns=\"http://www.w3.org/2000/svg\" xmlns:xlink=\"http://www.w3.org/1999/xlink\" contentScriptType=\"application/ecmascript\" contentStyleType=\"text/css\" height=\"252px\" preserveAspectRatio=\"none\" style=\"width:752px;height:252px;\" version=\"1.1\" viewBox=\"0 0 752 252\" width=\"752px\" zoomAndPan=\"magnify\"><defs><filter height=\"300%\" id=\"f1mkvltf4m4kzi\" width=\"300%\" x=\"-1\" y=\"-1\"><feGaussianBlur result=\"blurOut\" stdDeviation=\"2.0\"/><feColorMatrix in=\"blurOut\" result=\"blurOut2\" type=\"matrix\" values=\"0 0 0 0 0 0 0 0 0 0 0 0 0 0 0 0 0 0 .4 0\"/><feOffset dx=\"4.0\" dy=\"4.0\" in=\"blurOut2\" result=\"blurOut3\"/><feBlend in=\"SourceGraphic\" in2=\"blurOut3\" mode=\"normal\"/></filter></defs><g><!--MD5=[fbc87193dbaf4d95561dea2c320d4a47]\n",
       "cluster E1--><polygon fill=\"#FFFFFF\" filter=\"url(#f1mkvltf4m4kzi)\" points=\"16,6,151,6,158,28.2969,730,28.2969,730,240,16,240,16,6\" style=\"stroke: #000000; stroke-width: 1.5;\"/><line style=\"stroke: #000000; stroke-width: 1.5;\" x1=\"16\" x2=\"158\" y1=\"28.2969\" y2=\"28.2969\"/><text fill=\"#000000\" font-family=\"sans-serif\" font-size=\"14\" font-weight=\"bold\" lengthAdjust=\"spacingAndGlyphs\" textLength=\"129\" x=\"20\" y=\"20.9951\">ConjugationTest</text><!--MD5=[d5e69f78d87373223dbae638b30a9c99]\n",
       "cluster E3--><rect fill=\"#FFFFFF\" filter=\"url(#f1mkvltf4m4kzi)\" height=\"94\" style=\"stroke: #000000; stroke-width: 1.5;\" width=\"83\" x=\"590\" y=\"114\"/><text fill=\"#000000\" font-family=\"sans-serif\" font-size=\"14\" font-style=\"italic\" lengthAdjust=\"spacingAndGlyphs\" textLength=\"71\" x=\"596\" y=\"128.9951\">«part def»</text><text fill=\"#000000\" font-family=\"sans-serif\" font-size=\"14\" font-weight=\"bold\" lengthAdjust=\"spacingAndGlyphs\" textLength=\"10\" x=\"626.5\" y=\"145.292\">B</text><!--MD5=[14e3b0961a2654348d326746436168a1]\n",
       "cluster E6--><rect fill=\"#FFFFFF\" filter=\"url(#f1mkvltf4m4kzi)\" height=\"94\" style=\"stroke: #000000; stroke-width: 1.5;\" width=\"150\" x=\"436\" y=\"114\"/><text fill=\"#000000\" font-family=\"sans-serif\" font-size=\"14\" font-style=\"italic\" lengthAdjust=\"spacingAndGlyphs\" textLength=\"122\" x=\"450\" y=\"128.9951\">«connection def»</text><text fill=\"#000000\" font-family=\"sans-serif\" font-size=\"14\" font-weight=\"bold\" lengthAdjust=\"spacingAndGlyphs\" textLength=\"11\" x=\"505.5\" y=\"145.292\">A</text><!--MD5=[7f149f147074ac12df2cb0a7728a5fb0]\n",
       "cluster E9--><rect fill=\"#FFFFFF\" filter=\"url(#f1mkvltf4m4kzi)\" height=\"94\" style=\"stroke: #000000; stroke-width: 1.5;\" width=\"141\" x=\"267\" y=\"114\"/><text fill=\"#000000\" font-family=\"sans-serif\" font-size=\"14\" font-style=\"italic\" lengthAdjust=\"spacingAndGlyphs\" textLength=\"104\" x=\"285.5\" y=\"128.9951\">«interface def»</text><text fill=\"#000000\" font-family=\"sans-serif\" font-size=\"14\" font-weight=\"bold\" lengthAdjust=\"spacingAndGlyphs\" textLength=\"4\" x=\"335.5\" y=\"145.292\">I</text><!--MD5=[47bea60c1a0ac6c1143df232041969c0]\n",
       "cluster E12--><rect fill=\"#FFFFFF\" filter=\"url(#f1mkvltf4m4kzi)\" height=\"167\" style=\"stroke: #000000; stroke-width: 1.5;\" width=\"126\" x=\"114\" y=\"49\"/><text fill=\"#000000\" font-family=\"sans-serif\" font-size=\"14\" font-style=\"italic\" lengthAdjust=\"spacingAndGlyphs\" textLength=\"71\" x=\"141.5\" y=\"63.9951\">«part def»</text><text fill=\"#000000\" font-family=\"sans-serif\" font-size=\"14\" font-weight=\"bold\" lengthAdjust=\"spacingAndGlyphs\" textLength=\"20\" x=\"167\" y=\"80.292\">B1</text><!--MD5=[03104f77b71e2d8d3500c651e6e31181]\n",
       "cluster E13--><rect fill=\"#FEFECE\" filter=\"url(#f1mkvltf4m4kzi)\" height=\"86\" rx=\"12.5\" ry=\"12.5\" style=\"stroke: #000000; stroke-width: 1.5;\" width=\"83\" x=\"126\" y=\"114\"/><rect fill=\"#FFFFFF\" height=\"53.7031\" rx=\"12.5\" ry=\"12.5\" style=\"stroke: #FFFFFF; stroke-width: 1.0;\" width=\"77\" x=\"129\" y=\"143.2969\"/><line style=\"stroke: #000000; stroke-width: 1.5;\" x1=\"126\" x2=\"209\" y1=\"140.2969\" y2=\"140.2969\"/><text fill=\"#000000\" font-family=\"sans-serif\" font-size=\"14\" lengthAdjust=\"spacingAndGlyphs\" textLength=\"45\" x=\"145\" y=\"131.9951\">p: Part</text><!--MD5=[b4997ac47864f28c2f74865a473b2911]\n",
       "class E2--><rect fill=\"#FEFECE\" filter=\"url(#f1mkvltf4m4kzi)\" height=\"53.9375\" id=\"E2\" style=\"stroke: #A80036; stroke-width: 1.5;\" width=\"66\" x=\"32\" y=\"87\"/><text fill=\"#000000\" font-family=\"sans-serif\" font-size=\"12\" font-style=\"italic\" lengthAdjust=\"spacingAndGlyphs\" textLength=\"64\" x=\"33\" y=\"103.1387\">«port def»</text><text fill=\"#000000\" font-family=\"sans-serif\" font-size=\"12\" lengthAdjust=\"spacingAndGlyphs\" textLength=\"8\" x=\"61\" y=\"117.1074\">P</text><line style=\"stroke: #A80036; stroke-width: 1.5;\" x1=\"33\" x2=\"97\" y1=\"124.9375\" y2=\"124.9375\"/><line style=\"stroke: #A80036; stroke-width: 1.5;\" x1=\"33\" x2=\"97\" y1=\"132.9375\" y2=\"132.9375\"/><text fill=\"#000000\" font-family=\"sans-serif\" font-size=\"14\" lengthAdjust=\"spacingAndGlyphs\" textLength=\"36\" x=\"590\" y=\"92.6982\">p1: P</text><rect fill=\"#A80036\" height=\"12\" style=\"stroke: #FEFECE; stroke-width: 1.5;\" width=\"12\" x=\"602\" y=\"108\"/><text fill=\"#000000\" font-family=\"sans-serif\" font-size=\"14\" lengthAdjust=\"spacingAndGlyphs\" textLength=\"48\" x=\"631\" y=\"92.6982\">p2: ~P</text><rect fill=\"#A80036\" height=\"12\" style=\"stroke: #FEFECE; stroke-width: 1.5;\" width=\"12\" x=\"649\" y=\"108\"/><text fill=\"#000000\" font-family=\"sans-serif\" font-size=\"14\" lengthAdjust=\"spacingAndGlyphs\" textLength=\"36\" x=\"436\" y=\"92.6982\">p1: P</text><rect fill=\"#A80036\" height=\"12\" style=\"stroke: #FEFECE; stroke-width: 1.5;\" width=\"12\" x=\"448\" y=\"108\"/><text fill=\"#000000\" font-family=\"sans-serif\" font-size=\"14\" lengthAdjust=\"spacingAndGlyphs\" textLength=\"48\" x=\"477\" y=\"92.6982\">p2: ~P</text><rect fill=\"#A80036\" height=\"12\" style=\"stroke: #FEFECE; stroke-width: 1.5;\" width=\"12\" x=\"495\" y=\"108\"/><text fill=\"#000000\" font-family=\"sans-serif\" font-size=\"14\" lengthAdjust=\"spacingAndGlyphs\" textLength=\"36\" x=\"267\" y=\"92.6982\">p1: P</text><rect fill=\"#A80036\" height=\"12\" style=\"stroke: #FEFECE; stroke-width: 1.5;\" width=\"12\" x=\"279\" y=\"108\"/><text fill=\"#000000\" font-family=\"sans-serif\" font-size=\"14\" lengthAdjust=\"spacingAndGlyphs\" textLength=\"48\" x=\"308\" y=\"92.6982\">p2: ~P</text><rect fill=\"#A80036\" height=\"12\" style=\"stroke: #FEFECE; stroke-width: 1.5;\" width=\"12\" x=\"326\" y=\"108\"/><text fill=\"#000000\" font-family=\"sans-serif\" font-size=\"14\" lengthAdjust=\"spacingAndGlyphs\" textLength=\"36\" x=\"126\" y=\"92.6982\">p1: P</text><rect fill=\"#A80036\" height=\"12\" style=\"stroke: #FEFECE; stroke-width: 1.5;\" width=\"12\" x=\"138\" y=\"108\"/><text fill=\"#000000\" font-family=\"sans-serif\" font-size=\"14\" lengthAdjust=\"spacingAndGlyphs\" textLength=\"48\" x=\"167\" y=\"92.6982\">p2: ~P</text><rect fill=\"#A80036\" height=\"12\" style=\"stroke: #FEFECE; stroke-width: 1.5;\" width=\"12\" x=\"185\" y=\"108\"/><!--MD5=[4ce51ac6fa4cf5202df3859e2718f033]\n",
       "link E15 to E14--><path d=\"M184.95,114 C173.38,114 161.81,114 150.24,114 \" fill=\"none\" id=\"E15-E14\" style=\"stroke: #A80036; stroke-width: 3.0;\"/><!--MD5=[4ce51ac6fa4cf5202df3859e2718f033]\n",
       "link E15 to E14--><path d=\"M184.95,111.98 C173.38,108.69 161.81,108.67 150.24,111.93 \" fill=\"none\" id=\"E15-E14-1\" style=\"stroke: #A80036; stroke-width: 3.0;\"/><!--MD5=[4b3591205a9e3aea3ec190b37f3dbc20]\n",
       "@startuml\r\n",
       "skinparam ranksep 8\r\n",
       "skinparam rectangle {\r\n",
       " backgroundColor<<block>> LightGreen\r\n",
       "}\r\n",
       "skinparam wrapWidth 300\r\n",
       "hide circle\r\n",
       "\r\n",
       "package \"ConjugationTest\" as E1   {\r\n",
       "def \"P\" as E2  <<port def>> \r\n",
       "rec def \"B\" as E3  <<part def>> {\r\n",
       "portin \"p1: P\" as E4  <<port>> \r\n",
       "portin \"p2: ~P\" as E5  <<port>> \r\n",
       "}\r\n",
       "rec def \"A\" as E6  <<connection def>> {\r\n",
       "portin \"p1: P\" as E7  <<port>> \r\n",
       "portin \"p2: ~P\" as E8  <<port>> \r\n",
       "}\r\n",
       "rec def \"I\" as E9  <<interface def>> {\r\n",
       "portin \"p1: P\" as E10  <<port>> \r\n",
       "portin \"p2: ~P\" as E11  <<port>> \r\n",
       "}\r\n",
       "rec def \"B1\" as E12  <<part def>> {\r\n",
       "rec usage \"p: Part\" as E13  {\r\n",
       "portin \"p1: P\" as E14  <<port>> \r\n",
       "portin \"p2: ~P\" as E15  <<port>> \r\n",
       "}\r\n",
       "}\r\n",
       "E15 -[thickness=3]- E14\r\n",
       "E15 -[thickness=3]- E14\r\n",
       "}\r\n",
       "@enduml\r\n",
       "\n",
       "PlantUML version 1.2020.13(Sat Jun 13 12:26:38 UTC 2020)\n",
       "(EPL source distribution)\n",
       "Java Runtime: OpenJDK Runtime Environment\n",
       "JVM: OpenJDK 64-Bit Server VM\n",
       "Default Encoding: UTF-8\n",
       "Language: en\n",
       "Country: null\n",
       "--></g></svg>"
      ]
     },
     "execution_count": 26,
     "metadata": {},
     "output_type": "execute_result"
    }
   ],
   "source": [
    "%viz --style=\"STDCOLOR\" --view=\"Interconnection\" \"ConjugationTest\""
   ]
  },
  {
   "cell_type": "code",
   "execution_count": 27,
   "id": "median-fetish",
   "metadata": {
    "execution": {
     "iopub.execute_input": "2021-03-25T16:02:14.693431Z",
     "iopub.status.busy": "2021-03-25T16:02:14.692854Z",
     "iopub.status.idle": "2021-03-25T16:02:14.698337Z",
     "shell.execute_reply": "2021-03-25T16:02:14.697752Z"
    }
   },
   "outputs": [
    {
     "data": {
      "text/plain": [
       "java.lang.IllegalArgumentException: Invalid View: Action View candidates are: Default Tree StateMachine Interconnection Activity Sequence MIXED \n",
       "\tat org.omg.sysml.plantuml.SysML2PlantUMLSvc.setView(SysML2PlantUMLSvc.java:63)\n",
       "\tat org.omg.sysml.interactive.SysMLInteractive.viz(SysMLInteractive.java:286)\n",
       "\tat org.omg.sysml.jupyter.kernel.magic.Viz.viz(Viz.java:47)\n",
       "\tat jdk.internal.reflect.GeneratedMethodAccessor12.invoke(Unknown Source)\n",
       "\tat java.base/jdk.internal.reflect.DelegatingMethodAccessorImpl.invoke(DelegatingMethodAccessorImpl.java:43)\n",
       "\tat java.base/java.lang.reflect.Method.invoke(Method.java:568)\n",
       "\tat io.github.spencerpark.jupyter.kernel.magic.registry.Magics.invoke(Magics.java:89)\n",
       "\tat io.github.spencerpark.jupyter.kernel.magic.registry.Magics.access$000(Magics.java:8)\n",
       "\tat io.github.spencerpark.jupyter.kernel.magic.registry.Magics$LineReflectionMagicFunction.execute(Magics.java:149)\n",
       "\tat io.github.spencerpark.jupyter.kernel.magic.registry.Magics.applyLineMagic(Magics.java:26)\n",
       "\tat org.omg.sysml.jupyter.kernel.SysMLKernel.eval(SysMLKernel.java:76)\n",
       "\tat io.github.spencerpark.jupyter.kernel.BaseKernel.handleExecuteRequest(BaseKernel.java:334)\n",
       "\tat io.github.spencerpark.jupyter.channels.ShellChannel.lambda$bind$0(ShellChannel.java:64)\n",
       "\tat io.github.spencerpark.jupyter.channels.Loop.lambda$new$0(Loop.java:21)\n",
       "\tat io.github.spencerpark.jupyter.channels.Loop.run(Loop.java:78)\n"
      ]
     },
     "execution_count": 27,
     "metadata": {},
     "output_type": "execute_result"
    }
   ],
   "source": [
    "%viz --style=\"STDCOLOR\" --view=\"Action\" \"ConjugationTest\""
   ]
  },
  {
   "cell_type": "code",
   "execution_count": 28,
   "id": "popular-healing",
   "metadata": {
    "execution": {
     "iopub.execute_input": "2021-03-25T16:02:14.750093Z",
     "iopub.status.busy": "2021-03-25T16:02:14.749249Z",
     "iopub.status.idle": "2021-03-25T16:02:16.315834Z",
     "shell.execute_reply": "2021-03-25T16:02:16.314497Z"
    }
   },
   "outputs": [
    {
     "data": {
      "image/svg+xml": [
       "<?xml version=\"1.0\" encoding=\"UTF-8\" standalone=\"no\"?><svg xmlns=\"http://www.w3.org/2000/svg\" xmlns:xlink=\"http://www.w3.org/1999/xlink\" contentScriptType=\"application/ecmascript\" contentStyleType=\"text/css\" height=\"305px\" preserveAspectRatio=\"none\" style=\"width:742px;height:305px;\" version=\"1.1\" viewBox=\"0 0 742 305\" width=\"742px\" zoomAndPan=\"magnify\"><defs><filter height=\"300%\" id=\"f1j2w6240zcxm0\" width=\"300%\" x=\"-1\" y=\"-1\"><feGaussianBlur result=\"blurOut\" stdDeviation=\"2.0\"/><feColorMatrix in=\"blurOut\" result=\"blurOut2\" type=\"matrix\" values=\"0 0 0 0 0 0 0 0 0 0 0 0 0 0 0 0 0 0 .4 0\"/><feOffset dx=\"4.0\" dy=\"4.0\" in=\"blurOut2\" result=\"blurOut3\"/><feBlend in=\"SourceGraphic\" in2=\"blurOut3\" mode=\"normal\"/></filter></defs><g><!--MD5=[fbc87193dbaf4d95561dea2c320d4a47]\n",
       "cluster E1--><polygon fill=\"#FFFFFF\" filter=\"url(#f1j2w6240zcxm0)\" points=\"16,6,151,6,158,28.2969,720,28.2969,720,293,16,293,16,6\" style=\"stroke: #000000; stroke-width: 1.5;\"/><line style=\"stroke: #000000; stroke-width: 1.5;\" x1=\"16\" x2=\"158\" y1=\"28.2969\" y2=\"28.2969\"/><text fill=\"#000000\" font-family=\"sans-serif\" font-size=\"14\" font-weight=\"bold\" lengthAdjust=\"spacingAndGlyphs\" textLength=\"129\" x=\"20\" y=\"20.9951\">ConjugationTest</text><!--MD5=[b4997ac47864f28c2f74865a473b2911]\n",
       "class E2--><rect fill=\"#FEFECE\" filter=\"url(#f1j2w6240zcxm0)\" height=\"45.9375\" id=\"E2\" style=\"stroke: #A80036; stroke-width: 1.5;\" width=\"66\" x=\"638\" y=\"62\"/><text fill=\"#000000\" font-family=\"sans-serif\" font-size=\"12\" font-style=\"italic\" lengthAdjust=\"spacingAndGlyphs\" textLength=\"64\" x=\"639\" y=\"78.1387\">«port def»</text><text fill=\"#000000\" font-family=\"sans-serif\" font-size=\"12\" lengthAdjust=\"spacingAndGlyphs\" textLength=\"8\" x=\"667\" y=\"92.1074\">P</text><line style=\"stroke: #A80036; stroke-width: 1.5;\" x1=\"639\" x2=\"703\" y1=\"99.9375\" y2=\"99.9375\"/><!--MD5=[09b614a08d8cba4a07c9adeb5e0fee81]\n",
       "class E3--><rect fill=\"#FEFECE\" filter=\"url(#f1j2w6240zcxm0)\" height=\"88.3516\" id=\"E3\" style=\"stroke: #A80036; stroke-width: 1.5;\" width=\"66\" x=\"537\" y=\"41\"/><text fill=\"#000000\" font-family=\"sans-serif\" font-size=\"12\" font-style=\"italic\" lengthAdjust=\"spacingAndGlyphs\" textLength=\"64\" x=\"538\" y=\"57.1387\">«part def»</text><text fill=\"#000000\" font-family=\"sans-serif\" font-size=\"12\" lengthAdjust=\"spacingAndGlyphs\" textLength=\"8\" x=\"566\" y=\"71.1074\">B</text><line style=\"stroke: #A80036; stroke-width: 1.5;\" x1=\"538\" x2=\"602\" y1=\"78.9375\" y2=\"78.9375\"/><text fill=\"#000000\" font-family=\"sans-serif\" font-size=\"11\" lengthAdjust=\"spacingAndGlyphs\" textLength=\"29\" x=\"543\" y=\"109.9526\">p1: P</text><text fill=\"#000000\" font-family=\"sans-serif\" font-size=\"11\" lengthAdjust=\"spacingAndGlyphs\" textLength=\"38\" x=\"543\" y=\"122.7573\">p2: ~P</text><line style=\"stroke: #A80036; stroke-width: 1.0;\" x1=\"538\" x2=\"555\" y1=\"93.3398\" y2=\"93.3398\"/><text fill=\"#000000\" font-family=\"sans-serif\" font-size=\"11\" lengthAdjust=\"spacingAndGlyphs\" textLength=\"30\" x=\"555\" y=\"96.6479\">ports</text><line style=\"stroke: #A80036; stroke-width: 1.0;\" x1=\"585\" x2=\"602\" y1=\"93.3398\" y2=\"93.3398\"/><!--MD5=[60a26617385b1d2d0262a64233df1f8d]\n",
       "class E6--><rect fill=\"#FEFECE\" filter=\"url(#f1j2w6240zcxm0)\" height=\"88.3516\" id=\"E6\" style=\"stroke: #A80036; stroke-width: 1.5;\" width=\"173\" x=\"328.5\" y=\"41\"/><text fill=\"#000000\" font-family=\"sans-serif\" font-size=\"12\" font-style=\"italic\" lengthAdjust=\"spacingAndGlyphs\" textLength=\"108\" x=\"361\" y=\"57.1387\">«connection def»</text><text fill=\"#000000\" font-family=\"sans-serif\" font-size=\"12\" lengthAdjust=\"spacingAndGlyphs\" textLength=\"8\" x=\"411\" y=\"71.1074\">A</text><line style=\"stroke: #A80036; stroke-width: 1.5;\" x1=\"329.5\" x2=\"500.5\" y1=\"78.9375\" y2=\"78.9375\"/><line style=\"stroke: #000000; stroke-width: 1.0;\" x1=\"334.5\" x2=\"334.5\" y1=\"101.7422\" y2=\"110.7422\"/><polygon fill=\"#FFFF44\" points=\"337.5,102.7422,344.5,106.7422,337.5,110.7422\" style=\"stroke: #000000; stroke-width: 1.0;\"/><text fill=\"#000000\" font-family=\"sans-serif\" font-size=\"11\" lengthAdjust=\"spacingAndGlyphs\" textLength=\"29\" x=\"348.5\" y=\"109.9526\">p1: P</text><text fill=\"#000000\" font-family=\"sans-serif\" font-size=\"11\" lengthAdjust=\"spacingAndGlyphs\" text-decoration=\"line-through\" textLength=\"110\" x=\"381.5\" y=\"109.9526\">Connection::source</text><line style=\"stroke: #000000; stroke-width: 1.0;\" x1=\"334.5\" x2=\"334.5\" y1=\"114.5469\" y2=\"123.5469\"/><polygon fill=\"#FFFF44\" points=\"337.5,115.5469,344.5,119.5469,337.5,123.5469\" style=\"stroke: #000000; stroke-width: 1.0;\"/><text fill=\"#000000\" font-family=\"sans-serif\" font-size=\"11\" lengthAdjust=\"spacingAndGlyphs\" textLength=\"38\" x=\"348.5\" y=\"122.7573\">p2: ~P</text><text fill=\"#000000\" font-family=\"sans-serif\" font-size=\"11\" lengthAdjust=\"spacingAndGlyphs\" text-decoration=\"line-through\" textLength=\"105\" x=\"390.5\" y=\"122.7573\">Connection::target</text><line style=\"stroke: #A80036; stroke-width: 1.0;\" x1=\"329.5\" x2=\"400\" y1=\"93.3398\" y2=\"93.3398\"/><text fill=\"#000000\" font-family=\"sans-serif\" font-size=\"11\" lengthAdjust=\"spacingAndGlyphs\" textLength=\"30\" x=\"400\" y=\"96.6479\">ports</text><line style=\"stroke: #A80036; stroke-width: 1.0;\" x1=\"430\" x2=\"500.5\" y1=\"93.3398\" y2=\"93.3398\"/><!--MD5=[fd4143e9d270a159db93a4ea2a975926]\n",
       "class E9--><rect fill=\"#FEFECE\" filter=\"url(#f1j2w6240zcxm0)\" height=\"88.3516\" id=\"E9\" style=\"stroke: #A80036; stroke-width: 1.5;\" width=\"160\" x=\"133\" y=\"41\"/><text fill=\"#000000\" font-family=\"sans-serif\" font-size=\"12\" font-style=\"italic\" lengthAdjust=\"spacingAndGlyphs\" textLength=\"94\" x=\"166\" y=\"57.1387\">«interface def»</text><text fill=\"#000000\" font-family=\"sans-serif\" font-size=\"12\" lengthAdjust=\"spacingAndGlyphs\" textLength=\"3\" x=\"211.5\" y=\"71.1074\">I</text><line style=\"stroke: #A80036; stroke-width: 1.5;\" x1=\"134\" x2=\"292\" y1=\"78.9375\" y2=\"78.9375\"/><line style=\"stroke: #000000; stroke-width: 1.0;\" x1=\"139\" x2=\"139\" y1=\"101.7422\" y2=\"110.7422\"/><polygon fill=\"#FFFF44\" points=\"142,102.7422,149,106.7422,142,110.7422\" style=\"stroke: #000000; stroke-width: 1.0;\"/><text fill=\"#000000\" font-family=\"sans-serif\" font-size=\"11\" lengthAdjust=\"spacingAndGlyphs\" textLength=\"29\" x=\"153\" y=\"109.9526\">p1: P</text><text fill=\"#000000\" font-family=\"sans-serif\" font-size=\"11\" lengthAdjust=\"spacingAndGlyphs\" text-decoration=\"line-through\" textLength=\"97\" x=\"186\" y=\"109.9526\">Interface::source</text><line style=\"stroke: #000000; stroke-width: 1.0;\" x1=\"139\" x2=\"139\" y1=\"114.5469\" y2=\"123.5469\"/><polygon fill=\"#FFFF44\" points=\"142,115.5469,149,119.5469,142,123.5469\" style=\"stroke: #000000; stroke-width: 1.0;\"/><text fill=\"#000000\" font-family=\"sans-serif\" font-size=\"11\" lengthAdjust=\"spacingAndGlyphs\" textLength=\"38\" x=\"153\" y=\"122.7573\">p2: ~P</text><text fill=\"#000000\" font-family=\"sans-serif\" font-size=\"11\" lengthAdjust=\"spacingAndGlyphs\" text-decoration=\"line-through\" textLength=\"92\" x=\"195\" y=\"122.7573\">Interface::target</text><line style=\"stroke: #A80036; stroke-width: 1.0;\" x1=\"134\" x2=\"198\" y1=\"93.3398\" y2=\"93.3398\"/><text fill=\"#000000\" font-family=\"sans-serif\" font-size=\"11\" lengthAdjust=\"spacingAndGlyphs\" textLength=\"30\" x=\"198\" y=\"96.6479\">ports</text><line style=\"stroke: #A80036; stroke-width: 1.0;\" x1=\"228\" x2=\"292\" y1=\"93.3398\" y2=\"93.3398\"/><!--MD5=[49a0ec8f00dab7302a31f22d0f0fe584]\n",
       "class E12--><rect fill=\"#FEFECE\" filter=\"url(#f1j2w6240zcxm0)\" height=\"45.9375\" id=\"E12\" style=\"stroke: #A80036; stroke-width: 1.5;\" width=\"66\" x=\"32\" y=\"62\"/><text fill=\"#000000\" font-family=\"sans-serif\" font-size=\"12\" font-style=\"italic\" lengthAdjust=\"spacingAndGlyphs\" textLength=\"64\" x=\"33\" y=\"78.1387\">«part def»</text><text fill=\"#000000\" font-family=\"sans-serif\" font-size=\"12\" lengthAdjust=\"spacingAndGlyphs\" textLength=\"16\" x=\"57\" y=\"92.1074\">B1</text><line style=\"stroke: #A80036; stroke-width: 1.5;\" x1=\"33\" x2=\"97\" y1=\"99.9375\" y2=\"99.9375\"/><!--MD5=[ee3c913d1a06f366521f9ef512b67efe]\n",
       "class E13--><rect fill=\"#FEFECE\" filter=\"url(#f1j2w6240zcxm0)\" height=\"88.3516\" id=\"E13\" rx=\"10\" ry=\"10\" style=\"stroke: #A80036; stroke-width: 1.5;\" width=\"50\" x=\"40\" y=\"189\"/><text fill=\"#000000\" font-family=\"sans-serif\" font-size=\"12\" font-style=\"italic\" lengthAdjust=\"spacingAndGlyphs\" textLength=\"40\" x=\"45\" y=\"205.1387\">«part»</text><text fill=\"#000000\" font-family=\"sans-serif\" font-size=\"12\" lengthAdjust=\"spacingAndGlyphs\" textLength=\"42\" x=\"44\" y=\"219.1074\">p: Part</text><line style=\"stroke: #A80036; stroke-width: 1.5;\" x1=\"41\" x2=\"89\" y1=\"226.9375\" y2=\"226.9375\"/><text fill=\"#000000\" font-family=\"sans-serif\" font-size=\"11\" lengthAdjust=\"spacingAndGlyphs\" textLength=\"29\" x=\"46\" y=\"257.9526\">p1: P</text><text fill=\"#000000\" font-family=\"sans-serif\" font-size=\"11\" lengthAdjust=\"spacingAndGlyphs\" textLength=\"38\" x=\"46\" y=\"270.7573\">p2: ~P</text><line style=\"stroke: #A80036; stroke-width: 1.0;\" x1=\"41\" x2=\"50\" y1=\"241.3398\" y2=\"241.3398\"/><text fill=\"#000000\" font-family=\"sans-serif\" font-size=\"11\" lengthAdjust=\"spacingAndGlyphs\" textLength=\"30\" x=\"50\" y=\"244.6479\">ports</text><line style=\"stroke: #A80036; stroke-width: 1.0;\" x1=\"80\" x2=\"89\" y1=\"241.3398\" y2=\"241.3398\"/><!--MD5=[062ed86c389d1a88f61c6380d0491e17]\n",
       "reverse link E12 to E13--><path d=\"M65,121.25 C65,141.54 65,167.2 65,188.71 \" fill=\"none\" id=\"E12&lt;-E13\" style=\"stroke: #A80036; stroke-width: 1.0;\"/><polygon fill=\"#A80036\" points=\"65,108.17,61,114.17,65,120.17,69,114.17,65,108.17\" style=\"stroke: #A80036; stroke-width: 1.0;\"/><!--MD5=[54531d9791ae6ca92ae6eacd3dd9078b]\n",
       "@startuml\r\n",
       "skinparam wrapWidth 300\r\n",
       "hide circle\r\n",
       "\r\n",
       "package \"ConjugationTest\" as E1   {\r\n",
       "comp def \"P\" as E2  <<(T,blue)port def>> {\r\n",
       "}\r\n",
       "comp def \"B\" as E3  <<(T,blue)part def>> {\r\n",
       "- -ports- -\r\n",
       "p1: P\r\n",
       "p2: ~P\r\n",
       "}\r\n",
       "comp def \"A\" as E6  <<(T,blue)connection def>> {\r\n",
       "- -ports- -\r\n",
       ">p1: P <s>Connection::source</s>\r\n",
       ">p2: ~P <s>Connection::target</s>\r\n",
       "}\r\n",
       "comp def \"I\" as E9  <<(T,blue)interface def>> {\r\n",
       "- -ports- -\r\n",
       ">p1: P <s>Interface::source</s>\r\n",
       ">p2: ~P <s>Interface::target</s>\r\n",
       "}\r\n",
       "comp def \"B1\" as E12  <<(T,blue)part def>> {\r\n",
       "}\r\n",
       "comp usage \"p: Part\" as E13  <<(T,blue)part>> {\r\n",
       "- -ports- -\r\n",
       "p1: P\r\n",
       "p2: ~P\r\n",
       "}\r\n",
       "E12 *- - E13\r\n",
       "}\r\n",
       "@enduml\r\n",
       "\n",
       "PlantUML version 1.2020.13(Sat Jun 13 12:26:38 UTC 2020)\n",
       "(EPL source distribution)\n",
       "Java Runtime: OpenJDK Runtime Environment\n",
       "JVM: OpenJDK 64-Bit Server VM\n",
       "Default Encoding: UTF-8\n",
       "Language: en\n",
       "Country: null\n",
       "--></g></svg>"
      ]
     },
     "execution_count": 28,
     "metadata": {},
     "output_type": "execute_result"
    }
   ],
   "source": [
    "%viz --style=\"STDCOLOR\" --view=\"Sequence\" \"ConjugationTest\""
   ]
  },
  {
   "cell_type": "code",
   "execution_count": 29,
   "id": "olive-numbers",
   "metadata": {
    "execution": {
     "iopub.execute_input": "2021-03-25T16:02:16.367791Z",
     "iopub.status.busy": "2021-03-25T16:02:16.367298Z",
     "iopub.status.idle": "2021-03-25T16:02:17.947747Z",
     "shell.execute_reply": "2021-03-25T16:02:17.948166Z"
    }
   },
   "outputs": [
    {
     "data": {
      "image/svg+xml": [
       "<?xml version=\"1.0\" encoding=\"UTF-8\" standalone=\"no\"?><svg xmlns=\"http://www.w3.org/2000/svg\" xmlns:xlink=\"http://www.w3.org/1999/xlink\" contentScriptType=\"application/ecmascript\" contentStyleType=\"text/css\" height=\"305px\" preserveAspectRatio=\"none\" style=\"width:742px;height:305px;\" version=\"1.1\" viewBox=\"0 0 742 305\" width=\"742px\" zoomAndPan=\"magnify\"><defs><filter height=\"300%\" id=\"f1j2w6240zcxm0\" width=\"300%\" x=\"-1\" y=\"-1\"><feGaussianBlur result=\"blurOut\" stdDeviation=\"2.0\"/><feColorMatrix in=\"blurOut\" result=\"blurOut2\" type=\"matrix\" values=\"0 0 0 0 0 0 0 0 0 0 0 0 0 0 0 0 0 0 .4 0\"/><feOffset dx=\"4.0\" dy=\"4.0\" in=\"blurOut2\" result=\"blurOut3\"/><feBlend in=\"SourceGraphic\" in2=\"blurOut3\" mode=\"normal\"/></filter></defs><g><!--MD5=[fbc87193dbaf4d95561dea2c320d4a47]\n",
       "cluster E1--><polygon fill=\"#FFFFFF\" filter=\"url(#f1j2w6240zcxm0)\" points=\"16,6,151,6,158,28.2969,720,28.2969,720,293,16,293,16,6\" style=\"stroke: #000000; stroke-width: 1.5;\"/><line style=\"stroke: #000000; stroke-width: 1.5;\" x1=\"16\" x2=\"158\" y1=\"28.2969\" y2=\"28.2969\"/><text fill=\"#000000\" font-family=\"sans-serif\" font-size=\"14\" font-weight=\"bold\" lengthAdjust=\"spacingAndGlyphs\" textLength=\"129\" x=\"20\" y=\"20.9951\">ConjugationTest</text><!--MD5=[b4997ac47864f28c2f74865a473b2911]\n",
       "class E2--><rect fill=\"#FEFECE\" filter=\"url(#f1j2w6240zcxm0)\" height=\"45.9375\" id=\"E2\" style=\"stroke: #A80036; stroke-width: 1.5;\" width=\"66\" x=\"638\" y=\"62\"/><text fill=\"#000000\" font-family=\"sans-serif\" font-size=\"12\" font-style=\"italic\" lengthAdjust=\"spacingAndGlyphs\" textLength=\"64\" x=\"639\" y=\"78.1387\">«port def»</text><text fill=\"#000000\" font-family=\"sans-serif\" font-size=\"12\" lengthAdjust=\"spacingAndGlyphs\" textLength=\"8\" x=\"667\" y=\"92.1074\">P</text><line style=\"stroke: #A80036; stroke-width: 1.5;\" x1=\"639\" x2=\"703\" y1=\"99.9375\" y2=\"99.9375\"/><!--MD5=[09b614a08d8cba4a07c9adeb5e0fee81]\n",
       "class E3--><rect fill=\"#FEFECE\" filter=\"url(#f1j2w6240zcxm0)\" height=\"88.3516\" id=\"E3\" style=\"stroke: #A80036; stroke-width: 1.5;\" width=\"66\" x=\"537\" y=\"41\"/><text fill=\"#000000\" font-family=\"sans-serif\" font-size=\"12\" font-style=\"italic\" lengthAdjust=\"spacingAndGlyphs\" textLength=\"64\" x=\"538\" y=\"57.1387\">«part def»</text><text fill=\"#000000\" font-family=\"sans-serif\" font-size=\"12\" lengthAdjust=\"spacingAndGlyphs\" textLength=\"8\" x=\"566\" y=\"71.1074\">B</text><line style=\"stroke: #A80036; stroke-width: 1.5;\" x1=\"538\" x2=\"602\" y1=\"78.9375\" y2=\"78.9375\"/><text fill=\"#000000\" font-family=\"sans-serif\" font-size=\"11\" lengthAdjust=\"spacingAndGlyphs\" textLength=\"29\" x=\"543\" y=\"109.9526\">p1: P</text><text fill=\"#000000\" font-family=\"sans-serif\" font-size=\"11\" lengthAdjust=\"spacingAndGlyphs\" textLength=\"38\" x=\"543\" y=\"122.7573\">p2: ~P</text><line style=\"stroke: #A80036; stroke-width: 1.0;\" x1=\"538\" x2=\"555\" y1=\"93.3398\" y2=\"93.3398\"/><text fill=\"#000000\" font-family=\"sans-serif\" font-size=\"11\" lengthAdjust=\"spacingAndGlyphs\" textLength=\"30\" x=\"555\" y=\"96.6479\">ports</text><line style=\"stroke: #A80036; stroke-width: 1.0;\" x1=\"585\" x2=\"602\" y1=\"93.3398\" y2=\"93.3398\"/><!--MD5=[60a26617385b1d2d0262a64233df1f8d]\n",
       "class E6--><rect fill=\"#FEFECE\" filter=\"url(#f1j2w6240zcxm0)\" height=\"88.3516\" id=\"E6\" style=\"stroke: #A80036; stroke-width: 1.5;\" width=\"173\" x=\"328.5\" y=\"41\"/><text fill=\"#000000\" font-family=\"sans-serif\" font-size=\"12\" font-style=\"italic\" lengthAdjust=\"spacingAndGlyphs\" textLength=\"108\" x=\"361\" y=\"57.1387\">«connection def»</text><text fill=\"#000000\" font-family=\"sans-serif\" font-size=\"12\" lengthAdjust=\"spacingAndGlyphs\" textLength=\"8\" x=\"411\" y=\"71.1074\">A</text><line style=\"stroke: #A80036; stroke-width: 1.5;\" x1=\"329.5\" x2=\"500.5\" y1=\"78.9375\" y2=\"78.9375\"/><line style=\"stroke: #000000; stroke-width: 1.0;\" x1=\"334.5\" x2=\"334.5\" y1=\"101.7422\" y2=\"110.7422\"/><polygon fill=\"#FFFF44\" points=\"337.5,102.7422,344.5,106.7422,337.5,110.7422\" style=\"stroke: #000000; stroke-width: 1.0;\"/><text fill=\"#000000\" font-family=\"sans-serif\" font-size=\"11\" lengthAdjust=\"spacingAndGlyphs\" textLength=\"29\" x=\"348.5\" y=\"109.9526\">p1: P</text><text fill=\"#000000\" font-family=\"sans-serif\" font-size=\"11\" lengthAdjust=\"spacingAndGlyphs\" text-decoration=\"line-through\" textLength=\"110\" x=\"381.5\" y=\"109.9526\">Connection::source</text><line style=\"stroke: #000000; stroke-width: 1.0;\" x1=\"334.5\" x2=\"334.5\" y1=\"114.5469\" y2=\"123.5469\"/><polygon fill=\"#FFFF44\" points=\"337.5,115.5469,344.5,119.5469,337.5,123.5469\" style=\"stroke: #000000; stroke-width: 1.0;\"/><text fill=\"#000000\" font-family=\"sans-serif\" font-size=\"11\" lengthAdjust=\"spacingAndGlyphs\" textLength=\"38\" x=\"348.5\" y=\"122.7573\">p2: ~P</text><text fill=\"#000000\" font-family=\"sans-serif\" font-size=\"11\" lengthAdjust=\"spacingAndGlyphs\" text-decoration=\"line-through\" textLength=\"105\" x=\"390.5\" y=\"122.7573\">Connection::target</text><line style=\"stroke: #A80036; stroke-width: 1.0;\" x1=\"329.5\" x2=\"400\" y1=\"93.3398\" y2=\"93.3398\"/><text fill=\"#000000\" font-family=\"sans-serif\" font-size=\"11\" lengthAdjust=\"spacingAndGlyphs\" textLength=\"30\" x=\"400\" y=\"96.6479\">ports</text><line style=\"stroke: #A80036; stroke-width: 1.0;\" x1=\"430\" x2=\"500.5\" y1=\"93.3398\" y2=\"93.3398\"/><!--MD5=[fd4143e9d270a159db93a4ea2a975926]\n",
       "class E9--><rect fill=\"#FEFECE\" filter=\"url(#f1j2w6240zcxm0)\" height=\"88.3516\" id=\"E9\" style=\"stroke: #A80036; stroke-width: 1.5;\" width=\"160\" x=\"133\" y=\"41\"/><text fill=\"#000000\" font-family=\"sans-serif\" font-size=\"12\" font-style=\"italic\" lengthAdjust=\"spacingAndGlyphs\" textLength=\"94\" x=\"166\" y=\"57.1387\">«interface def»</text><text fill=\"#000000\" font-family=\"sans-serif\" font-size=\"12\" lengthAdjust=\"spacingAndGlyphs\" textLength=\"3\" x=\"211.5\" y=\"71.1074\">I</text><line style=\"stroke: #A80036; stroke-width: 1.5;\" x1=\"134\" x2=\"292\" y1=\"78.9375\" y2=\"78.9375\"/><line style=\"stroke: #000000; stroke-width: 1.0;\" x1=\"139\" x2=\"139\" y1=\"101.7422\" y2=\"110.7422\"/><polygon fill=\"#FFFF44\" points=\"142,102.7422,149,106.7422,142,110.7422\" style=\"stroke: #000000; stroke-width: 1.0;\"/><text fill=\"#000000\" font-family=\"sans-serif\" font-size=\"11\" lengthAdjust=\"spacingAndGlyphs\" textLength=\"29\" x=\"153\" y=\"109.9526\">p1: P</text><text fill=\"#000000\" font-family=\"sans-serif\" font-size=\"11\" lengthAdjust=\"spacingAndGlyphs\" text-decoration=\"line-through\" textLength=\"97\" x=\"186\" y=\"109.9526\">Interface::source</text><line style=\"stroke: #000000; stroke-width: 1.0;\" x1=\"139\" x2=\"139\" y1=\"114.5469\" y2=\"123.5469\"/><polygon fill=\"#FFFF44\" points=\"142,115.5469,149,119.5469,142,123.5469\" style=\"stroke: #000000; stroke-width: 1.0;\"/><text fill=\"#000000\" font-family=\"sans-serif\" font-size=\"11\" lengthAdjust=\"spacingAndGlyphs\" textLength=\"38\" x=\"153\" y=\"122.7573\">p2: ~P</text><text fill=\"#000000\" font-family=\"sans-serif\" font-size=\"11\" lengthAdjust=\"spacingAndGlyphs\" text-decoration=\"line-through\" textLength=\"92\" x=\"195\" y=\"122.7573\">Interface::target</text><line style=\"stroke: #A80036; stroke-width: 1.0;\" x1=\"134\" x2=\"198\" y1=\"93.3398\" y2=\"93.3398\"/><text fill=\"#000000\" font-family=\"sans-serif\" font-size=\"11\" lengthAdjust=\"spacingAndGlyphs\" textLength=\"30\" x=\"198\" y=\"96.6479\">ports</text><line style=\"stroke: #A80036; stroke-width: 1.0;\" x1=\"228\" x2=\"292\" y1=\"93.3398\" y2=\"93.3398\"/><!--MD5=[49a0ec8f00dab7302a31f22d0f0fe584]\n",
       "class E12--><rect fill=\"#FEFECE\" filter=\"url(#f1j2w6240zcxm0)\" height=\"45.9375\" id=\"E12\" style=\"stroke: #A80036; stroke-width: 1.5;\" width=\"66\" x=\"32\" y=\"62\"/><text fill=\"#000000\" font-family=\"sans-serif\" font-size=\"12\" font-style=\"italic\" lengthAdjust=\"spacingAndGlyphs\" textLength=\"64\" x=\"33\" y=\"78.1387\">«part def»</text><text fill=\"#000000\" font-family=\"sans-serif\" font-size=\"12\" lengthAdjust=\"spacingAndGlyphs\" textLength=\"16\" x=\"57\" y=\"92.1074\">B1</text><line style=\"stroke: #A80036; stroke-width: 1.5;\" x1=\"33\" x2=\"97\" y1=\"99.9375\" y2=\"99.9375\"/><!--MD5=[ee3c913d1a06f366521f9ef512b67efe]\n",
       "class E13--><rect fill=\"#FEFECE\" filter=\"url(#f1j2w6240zcxm0)\" height=\"88.3516\" id=\"E13\" rx=\"10\" ry=\"10\" style=\"stroke: #A80036; stroke-width: 1.5;\" width=\"50\" x=\"40\" y=\"189\"/><text fill=\"#000000\" font-family=\"sans-serif\" font-size=\"12\" font-style=\"italic\" lengthAdjust=\"spacingAndGlyphs\" textLength=\"40\" x=\"45\" y=\"205.1387\">«part»</text><text fill=\"#000000\" font-family=\"sans-serif\" font-size=\"12\" lengthAdjust=\"spacingAndGlyphs\" textLength=\"42\" x=\"44\" y=\"219.1074\">p: Part</text><line style=\"stroke: #A80036; stroke-width: 1.5;\" x1=\"41\" x2=\"89\" y1=\"226.9375\" y2=\"226.9375\"/><text fill=\"#000000\" font-family=\"sans-serif\" font-size=\"11\" lengthAdjust=\"spacingAndGlyphs\" textLength=\"29\" x=\"46\" y=\"257.9526\">p1: P</text><text fill=\"#000000\" font-family=\"sans-serif\" font-size=\"11\" lengthAdjust=\"spacingAndGlyphs\" textLength=\"38\" x=\"46\" y=\"270.7573\">p2: ~P</text><line style=\"stroke: #A80036; stroke-width: 1.0;\" x1=\"41\" x2=\"50\" y1=\"241.3398\" y2=\"241.3398\"/><text fill=\"#000000\" font-family=\"sans-serif\" font-size=\"11\" lengthAdjust=\"spacingAndGlyphs\" textLength=\"30\" x=\"50\" y=\"244.6479\">ports</text><line style=\"stroke: #A80036; stroke-width: 1.0;\" x1=\"80\" x2=\"89\" y1=\"241.3398\" y2=\"241.3398\"/><!--MD5=[062ed86c389d1a88f61c6380d0491e17]\n",
       "reverse link E12 to E13--><path d=\"M65,121.25 C65,141.54 65,167.2 65,188.71 \" fill=\"none\" id=\"E12&lt;-E13\" style=\"stroke: #A80036; stroke-width: 1.0;\"/><polygon fill=\"#A80036\" points=\"65,108.17,61,114.17,65,120.17,69,114.17,65,108.17\" style=\"stroke: #A80036; stroke-width: 1.0;\"/><!--MD5=[54531d9791ae6ca92ae6eacd3dd9078b]\n",
       "@startuml\r\n",
       "skinparam wrapWidth 300\r\n",
       "hide circle\r\n",
       "\r\n",
       "package \"ConjugationTest\" as E1   {\r\n",
       "comp def \"P\" as E2  <<(T,blue)port def>> {\r\n",
       "}\r\n",
       "comp def \"B\" as E3  <<(T,blue)part def>> {\r\n",
       "- -ports- -\r\n",
       "p1: P\r\n",
       "p2: ~P\r\n",
       "}\r\n",
       "comp def \"A\" as E6  <<(T,blue)connection def>> {\r\n",
       "- -ports- -\r\n",
       ">p1: P <s>Connection::source</s>\r\n",
       ">p2: ~P <s>Connection::target</s>\r\n",
       "}\r\n",
       "comp def \"I\" as E9  <<(T,blue)interface def>> {\r\n",
       "- -ports- -\r\n",
       ">p1: P <s>Interface::source</s>\r\n",
       ">p2: ~P <s>Interface::target</s>\r\n",
       "}\r\n",
       "comp def \"B1\" as E12  <<(T,blue)part def>> {\r\n",
       "}\r\n",
       "comp usage \"p: Part\" as E13  <<(T,blue)part>> {\r\n",
       "- -ports- -\r\n",
       "p1: P\r\n",
       "p2: ~P\r\n",
       "}\r\n",
       "E12 *- - E13\r\n",
       "}\r\n",
       "@enduml\r\n",
       "\n",
       "PlantUML version 1.2020.13(Sat Jun 13 12:26:38 UTC 2020)\n",
       "(EPL source distribution)\n",
       "Java Runtime: OpenJDK Runtime Environment\n",
       "JVM: OpenJDK 64-Bit Server VM\n",
       "Default Encoding: UTF-8\n",
       "Language: en\n",
       "Country: null\n",
       "--></g></svg>"
      ]
     },
     "execution_count": 29,
     "metadata": {},
     "output_type": "execute_result"
    }
   ],
   "source": [
    "%viz --style=\"STDCOLOR\" --view=\"MIXED\" \"ConjugationTest\""
   ]
  },
  {
   "cell_type": "code",
   "execution_count": 30,
   "id": "chief-dating",
   "metadata": {
    "execution": {
     "iopub.execute_input": "2021-03-25T16:02:18.003278Z",
     "iopub.status.busy": "2021-03-25T16:02:18.002745Z",
     "iopub.status.idle": "2021-03-25T16:02:19.699025Z",
     "shell.execute_reply": "2021-03-25T16:02:19.697636Z"
    }
   },
   "outputs": [
    {
     "data": {
      "image/svg+xml": [
       "<?xml version=\"1.0\" encoding=\"UTF-8\" standalone=\"no\"?><svg xmlns=\"http://www.w3.org/2000/svg\" xmlns:xlink=\"http://www.w3.org/1999/xlink\" contentScriptType=\"application/ecmascript\" contentStyleType=\"text/css\" height=\"325px\" preserveAspectRatio=\"none\" style=\"width:676px;height:325px;\" version=\"1.1\" viewBox=\"0 0 676 325\" width=\"676px\" zoomAndPan=\"magnify\"><defs><filter height=\"300%\" id=\"fikdxtrlraea0\" width=\"300%\" x=\"-1\" y=\"-1\"><feGaussianBlur result=\"blurOut\" stdDeviation=\"2.0\"/><feColorMatrix in=\"blurOut\" result=\"blurOut2\" type=\"matrix\" values=\"0 0 0 0 0 0 0 0 0 0 0 0 0 0 0 0 0 0 .4 0\"/><feOffset dx=\"4.0\" dy=\"4.0\" in=\"blurOut2\" result=\"blurOut3\"/><feBlend in=\"SourceGraphic\" in2=\"blurOut3\" mode=\"normal\"/></filter></defs><g><!--MD5=[fbc87193dbaf4d95561dea2c320d4a47]\n",
       "cluster E1--><polygon fill=\"#FFFFFF\" filter=\"url(#fikdxtrlraea0)\" points=\"16,6,151,6,158,28.2969,654,28.2969,654,313,16,313,16,6\" style=\"stroke: #000000; stroke-width: 1.5;\"/><line style=\"stroke: #000000; stroke-width: 1.5;\" x1=\"16\" x2=\"158\" y1=\"28.2969\" y2=\"28.2969\"/><text fill=\"#000000\" font-family=\"sans-serif\" font-size=\"14\" font-weight=\"bold\" lengthAdjust=\"spacingAndGlyphs\" textLength=\"129\" x=\"20\" y=\"20.9951\">ConjugationTest</text><!--MD5=[b4997ac47864f28c2f74865a473b2911]\n",
       "class E2--><rect fill=\"#FEFECE\" filter=\"url(#fikdxtrlraea0)\" height=\"45.9375\" id=\"E2\" style=\"stroke: #A80036; stroke-width: 1.5;\" width=\"92\" x=\"546\" y=\"72\"/><ellipse cx=\"561\" cy=\"90.9688\" fill=\"#A52A2A\" rx=\"11\" ry=\"11\" style=\"stroke: #A80036; stroke-width: 1.0;\"/><path d=\"M560.5938,86.7813 L560.5938,94.7656 L561.25,94.7656 Q562.6875,94.7656 563.2969,93.8594 Q563.9219,92.9375 563.9219,90.7656 Q563.9219,88.5938 563.2969,87.6875 Q562.6875,86.7813 561.25,86.7813 L560.5938,86.7813 Z M558.1406,84.5781 L560.7656,84.5781 Q563.7969,84.5781 565.125,86.0313 Q566.4688,87.4688 566.4688,90.7656 Q566.4688,94.0625 565.125,95.5156 Q563.7969,96.9688 560.7656,96.9688 L558.1406,96.9688 L558.1406,84.5781 Z \"/><text fill=\"#000000\" font-family=\"sans-serif\" font-size=\"12\" font-style=\"italic\" lengthAdjust=\"spacingAndGlyphs\" textLength=\"64\" x=\"573\" y=\"88.1387\">«port def»</text><text fill=\"#000000\" font-family=\"sans-serif\" font-size=\"12\" lengthAdjust=\"spacingAndGlyphs\" textLength=\"8\" x=\"601\" y=\"102.1074\">P</text><line style=\"stroke: #A80036; stroke-width: 1.5;\" x1=\"547\" x2=\"637\" y1=\"109.9375\" y2=\"109.9375\"/><!--MD5=[09b614a08d8cba4a07c9adeb5e0fee81]\n",
       "class E3--><rect fill=\"#FEFECE\" filter=\"url(#fikdxtrlraea0)\" height=\"82.4141\" id=\"E3\" style=\"stroke: #A80036; stroke-width: 1.5;\" width=\"50\" x=\"461\" y=\"54\"/><ellipse cx=\"480.5\" cy=\"70\" fill=\"#008000\" rx=\"11\" ry=\"11\" style=\"stroke: #A80036; stroke-width: 1.0;\"/><path d=\"M479.4063,70.375 L479.4063,74.0469 L481.0313,74.0469 Q482.2031,74.0469 482.6719,73.6563 Q483.1406,73.25 483.1406,72.25 Q483.1406,71.25 482.6406,70.8125 Q482.1563,70.375 481.0313,70.375 L479.4063,70.375 Z M479.4063,65.5469 L479.4063,68.4219 L481.0313,68.4219 Q481.9531,68.4219 482.3438,68.0938 Q482.75,67.75 482.75,67 Q482.75,66.2344 482.3438,65.8906 Q481.9375,65.5469 481.0313,65.5469 L479.4063,65.5469 Z M477.0313,63.5938 L481.0313,63.5938 Q483.0938,63.5938 484.1406,64.375 Q485.1875,65.1563 485.1875,66.7188 Q485.1875,67.9219 484.5625,68.5938 Q483.9531,69.2656 482.7656,69.375 Q484.1875,69.5156 484.9063,70.3281 Q485.625,71.1406 485.625,72.5938 Q485.625,74.3906 484.5469,75.2031 Q483.4688,76 481.0313,76 L477.0313,76 L477.0313,63.5938 Z \"/><text fill=\"#000000\" font-family=\"sans-serif\" font-size=\"12\" lengthAdjust=\"spacingAndGlyphs\" textLength=\"8\" x=\"495.5\" y=\"74.1543\">B</text><line style=\"stroke: #A80036; stroke-width: 1.5;\" x1=\"462\" x2=\"510\" y1=\"86\" y2=\"86\"/><text fill=\"#000000\" font-family=\"sans-serif\" font-size=\"11\" lengthAdjust=\"spacingAndGlyphs\" textLength=\"29\" x=\"467\" y=\"117.0151\">p1: P</text><text fill=\"#000000\" font-family=\"sans-serif\" font-size=\"11\" lengthAdjust=\"spacingAndGlyphs\" textLength=\"38\" x=\"467\" y=\"129.8198\">p2: ~P</text><line style=\"stroke: #A80036; stroke-width: 1.0;\" x1=\"462\" x2=\"471\" y1=\"100.4023\" y2=\"100.4023\"/><text fill=\"#000000\" font-family=\"sans-serif\" font-size=\"11\" lengthAdjust=\"spacingAndGlyphs\" textLength=\"30\" x=\"471\" y=\"103.7104\">ports</text><line style=\"stroke: #A80036; stroke-width: 1.0;\" x1=\"501\" x2=\"510\" y1=\"100.4023\" y2=\"100.4023\"/><!--MD5=[60a26617385b1d2d0262a64233df1f8d]\n",
       "class E6--><rect fill=\"#FEFECE\" filter=\"url(#fikdxtrlraea0)\" height=\"108.0234\" id=\"E6\" style=\"stroke: #A80036; stroke-width: 1.5;\" width=\"144\" x=\"282\" y=\"41\"/><ellipse cx=\"345.75\" cy=\"57\" fill=\"#008000\" rx=\"11\" ry=\"11\" style=\"stroke: #A80036; stroke-width: 1.0;\"/><path d=\"M344.6563,57.375 L344.6563,61.0469 L346.2813,61.0469 Q347.4531,61.0469 347.9219,60.6563 Q348.3906,60.25 348.3906,59.25 Q348.3906,58.25 347.8906,57.8125 Q347.4063,57.375 346.2813,57.375 L344.6563,57.375 Z M344.6563,52.5469 L344.6563,55.4219 L346.2813,55.4219 Q347.2031,55.4219 347.5938,55.0938 Q348,54.75 348,54 Q348,53.2344 347.5938,52.8906 Q347.1875,52.5469 346.2813,52.5469 L344.6563,52.5469 Z M342.2813,50.5938 L346.2813,50.5938 Q348.3438,50.5938 349.3906,51.375 Q350.4375,52.1563 350.4375,53.7188 Q350.4375,54.9219 349.8125,55.5938 Q349.2031,56.2656 348.0156,56.375 Q349.4375,56.5156 350.1563,57.3281 Q350.875,58.1406 350.875,59.5938 Q350.875,61.3906 349.7969,62.2031 Q348.7188,63 346.2813,63 L342.2813,63 L342.2813,50.5938 Z \"/><text fill=\"#000000\" font-family=\"sans-serif\" font-size=\"12\" lengthAdjust=\"spacingAndGlyphs\" textLength=\"8\" x=\"366.25\" y=\"61.1543\">A</text><line style=\"stroke: #A80036; stroke-width: 1.5;\" x1=\"283\" x2=\"425\" y1=\"73\" y2=\"73\"/><text fill=\"#000000\" font-family=\"sans-serif\" font-size=\"11\" lengthAdjust=\"spacingAndGlyphs\" textLength=\"29\" x=\"288\" y=\"104.0151\">p1: P</text><text fill=\"#000000\" font-family=\"sans-serif\" font-size=\"11\" font-style=\"italic\" lengthAdjust=\"spacingAndGlyphs\" textLength=\"132\" x=\"288\" y=\"116.8198\">:&gt;&gt;Connection::source</text><text fill=\"#000000\" font-family=\"sans-serif\" font-size=\"11\" lengthAdjust=\"spacingAndGlyphs\" textLength=\"38\" x=\"288\" y=\"129.6245\">p2: ~P</text><text fill=\"#000000\" font-family=\"sans-serif\" font-size=\"11\" font-style=\"italic\" lengthAdjust=\"spacingAndGlyphs\" textLength=\"127\" x=\"288\" y=\"142.4292\">:&gt;&gt;Connection::target</text><line style=\"stroke: #A80036; stroke-width: 1.0;\" x1=\"283\" x2=\"339\" y1=\"87.4023\" y2=\"87.4023\"/><text fill=\"#000000\" font-family=\"sans-serif\" font-size=\"11\" lengthAdjust=\"spacingAndGlyphs\" textLength=\"30\" x=\"339\" y=\"90.7104\">ports</text><line style=\"stroke: #A80036; stroke-width: 1.0;\" x1=\"369\" x2=\"425\" y1=\"87.4023\" y2=\"87.4023\"/><!--MD5=[fd4143e9d270a159db93a4ea2a975926]\n",
       "class E9--><rect fill=\"#FEFECE\" filter=\"url(#fikdxtrlraea0)\" height=\"108.0234\" id=\"E9\" style=\"stroke: #A80036; stroke-width: 1.5;\" width=\"131\" x=\"115.5\" y=\"41\"/><ellipse cx=\"175.25\" cy=\"57\" fill=\"#008000\" rx=\"11\" ry=\"11\" style=\"stroke: #A80036; stroke-width: 1.0;\"/><path d=\"M174.1563,57.375 L174.1563,61.0469 L175.7813,61.0469 Q176.9531,61.0469 177.4219,60.6563 Q177.8906,60.25 177.8906,59.25 Q177.8906,58.25 177.3906,57.8125 Q176.9063,57.375 175.7813,57.375 L174.1563,57.375 Z M174.1563,52.5469 L174.1563,55.4219 L175.7813,55.4219 Q176.7031,55.4219 177.0938,55.0938 Q177.5,54.75 177.5,54 Q177.5,53.2344 177.0938,52.8906 Q176.6875,52.5469 175.7813,52.5469 L174.1563,52.5469 Z M171.7813,50.5938 L175.7813,50.5938 Q177.8438,50.5938 178.8906,51.375 Q179.9375,52.1563 179.9375,53.7188 Q179.9375,54.9219 179.3125,55.5938 Q178.7031,56.2656 177.5156,56.375 Q178.9375,56.5156 179.6563,57.3281 Q180.375,58.1406 180.375,59.5938 Q180.375,61.3906 179.2969,62.2031 Q178.2188,63 175.7813,63 L171.7813,63 L171.7813,50.5938 Z \"/><text fill=\"#000000\" font-family=\"sans-serif\" font-size=\"12\" lengthAdjust=\"spacingAndGlyphs\" textLength=\"3\" x=\"195.75\" y=\"61.1543\">I</text><line style=\"stroke: #A80036; stroke-width: 1.5;\" x1=\"116.5\" x2=\"245.5\" y1=\"73\" y2=\"73\"/><text fill=\"#000000\" font-family=\"sans-serif\" font-size=\"11\" lengthAdjust=\"spacingAndGlyphs\" textLength=\"29\" x=\"121.5\" y=\"104.0151\">p1: P</text><text fill=\"#000000\" font-family=\"sans-serif\" font-size=\"11\" font-style=\"italic\" lengthAdjust=\"spacingAndGlyphs\" textLength=\"119\" x=\"121.5\" y=\"116.8198\">:&gt;&gt;Interface::source</text><text fill=\"#000000\" font-family=\"sans-serif\" font-size=\"11\" lengthAdjust=\"spacingAndGlyphs\" textLength=\"38\" x=\"121.5\" y=\"129.6245\">p2: ~P</text><text fill=\"#000000\" font-family=\"sans-serif\" font-size=\"11\" font-style=\"italic\" lengthAdjust=\"spacingAndGlyphs\" textLength=\"114\" x=\"121.5\" y=\"142.4292\">:&gt;&gt;Interface::target</text><line style=\"stroke: #A80036; stroke-width: 1.0;\" x1=\"116.5\" x2=\"166\" y1=\"87.4023\" y2=\"87.4023\"/><text fill=\"#000000\" font-family=\"sans-serif\" font-size=\"11\" lengthAdjust=\"spacingAndGlyphs\" textLength=\"30\" x=\"166\" y=\"90.7104\">ports</text><line style=\"stroke: #A80036; stroke-width: 1.0;\" x1=\"196\" x2=\"245.5\" y1=\"87.4023\" y2=\"87.4023\"/><!--MD5=[49a0ec8f00dab7302a31f22d0f0fe584]\n",
       "class E12--><rect fill=\"#FEFECE\" filter=\"url(#fikdxtrlraea0)\" height=\"40\" id=\"E12\" style=\"stroke: #A80036; stroke-width: 1.5;\" width=\"48\" x=\"32\" y=\"75\"/><ellipse cx=\"47\" cy=\"91\" fill=\"#008000\" rx=\"11\" ry=\"11\" style=\"stroke: #A80036; stroke-width: 1.0;\"/><path d=\"M45.9063,91.375 L45.9063,95.0469 L47.5313,95.0469 Q48.7031,95.0469 49.1719,94.6563 Q49.6406,94.25 49.6406,93.25 Q49.6406,92.25 49.1406,91.8125 Q48.6563,91.375 47.5313,91.375 L45.9063,91.375 Z M45.9063,86.5469 L45.9063,89.4219 L47.5313,89.4219 Q48.4531,89.4219 48.8438,89.0938 Q49.25,88.75 49.25,88 Q49.25,87.2344 48.8438,86.8906 Q48.4375,86.5469 47.5313,86.5469 L45.9063,86.5469 Z M43.5313,84.5938 L47.5313,84.5938 Q49.5938,84.5938 50.6406,85.375 Q51.6875,86.1563 51.6875,87.7188 Q51.6875,88.9219 51.0625,89.5938 Q50.4531,90.2656 49.2656,90.375 Q50.6875,90.5156 51.4063,91.3281 Q52.125,92.1406 52.125,93.5938 Q52.125,95.3906 51.0469,96.2031 Q49.9688,97 47.5313,97 L43.5313,97 L43.5313,84.5938 Z \"/><text fill=\"#000000\" font-family=\"sans-serif\" font-size=\"12\" lengthAdjust=\"spacingAndGlyphs\" textLength=\"16\" x=\"61\" y=\"95.1543\">B1</text><line style=\"stroke: #A80036; stroke-width: 1.5;\" x1=\"33\" x2=\"79\" y1=\"107\" y2=\"107\"/><!--MD5=[ee3c913d1a06f366521f9ef512b67efe]\n",
       "class E13--><rect fill=\"#FEFECE\" filter=\"url(#fikdxtrlraea0)\" height=\"88.3516\" id=\"E13\" rx=\"10\" ry=\"10\" style=\"stroke: #A80036; stroke-width: 1.5;\" width=\"74\" x=\"32\" y=\"209\"/><ellipse cx=\"47\" cy=\"227.9688\" fill=\"#32CD32\" rx=\"11\" ry=\"11\" style=\"stroke: #A80036; stroke-width: 1.0;\"/><path d=\"M46.7969,223.6406 L46.7969,227.2656 L47.7969,227.2656 Q49,227.2656 49.4844,226.8594 Q49.9688,226.4531 49.9688,225.4531 Q49.9688,224.4531 49.4844,224.0469 Q49,223.6406 47.7969,223.6406 L46.7969,223.6406 Z M44.3438,221.5781 L47.7031,221.5781 Q50.2656,221.5781 51.3906,222.5 Q52.5156,223.4063 52.5156,225.4531 Q52.5156,227.5 51.3906,228.4219 Q50.2656,229.3281 47.7031,229.3281 L46.7969,229.3281 L46.7969,233.9688 L44.3438,233.9688 L44.3438,221.5781 Z \"/><text fill=\"#000000\" font-family=\"sans-serif\" font-size=\"12\" font-style=\"italic\" lengthAdjust=\"spacingAndGlyphs\" textLength=\"40\" x=\"62\" y=\"225.1387\">«part»</text><text fill=\"#000000\" font-family=\"sans-serif\" font-size=\"12\" lengthAdjust=\"spacingAndGlyphs\" textLength=\"42\" x=\"61\" y=\"239.1074\">p: Part</text><line style=\"stroke: #A80036; stroke-width: 1.5;\" x1=\"33\" x2=\"105\" y1=\"246.9375\" y2=\"246.9375\"/><text fill=\"#000000\" font-family=\"sans-serif\" font-size=\"11\" lengthAdjust=\"spacingAndGlyphs\" textLength=\"29\" x=\"38\" y=\"277.9526\">p1: P</text><text fill=\"#000000\" font-family=\"sans-serif\" font-size=\"11\" lengthAdjust=\"spacingAndGlyphs\" textLength=\"38\" x=\"38\" y=\"290.7573\">p2: ~P</text><line style=\"stroke: #A80036; stroke-width: 1.0;\" x1=\"33\" x2=\"54\" y1=\"261.3398\" y2=\"261.3398\"/><text fill=\"#000000\" font-family=\"sans-serif\" font-size=\"11\" lengthAdjust=\"spacingAndGlyphs\" textLength=\"30\" x=\"54\" y=\"264.6479\">ports</text><line style=\"stroke: #A80036; stroke-width: 1.0;\" x1=\"84\" x2=\"105\" y1=\"261.3398\" y2=\"261.3398\"/><!--MD5=[062ed86c389d1a88f61c6380d0491e17]\n",
       "reverse link E12 to E13--><path d=\"M58.67,128.1 C60.62,151.43 63.27,183.26 65.4,208.82 \" fill=\"none\" id=\"E12&lt;-E13\" style=\"stroke: #A80036; stroke-width: 1.0;\"/><polygon fill=\"#A80036\" points=\"57.59,115.13,54.0981,121.4392,58.5789,127.0892,62.0708,120.78,57.59,115.13\" style=\"stroke: #A80036; stroke-width: 1.0;\"/><!--MD5=[58237ab7a399df8d40cbce96c8bd5ae9]\n",
       "@startuml\r\n",
       " \r\n",
       "package \"ConjugationTest\" as E1   {\r\n",
       "comp def \"P\" as E2  <<(D,brown)port def>> {\r\n",
       "}\r\n",
       "comp def \"B\" as E3  << (B,green) >> {\r\n",
       "- -ports- -\r\n",
       "p1: P\r\n",
       "p2: ~P\r\n",
       "}\r\n",
       "comp def \"A\" as E6  << (B,green) >> {\r\n",
       "- -ports- -\r\n",
       "p1: P\\n//:>>Connection::source// \r\n",
       "p2: ~P\\n//:>>Connection::target// \r\n",
       "}\r\n",
       "comp def \"I\" as E9  << (B,green) >> {\r\n",
       "- -ports- -\r\n",
       "p1: P\\n//:>>Interface::source// \r\n",
       "p2: ~P\\n//:>>Interface::target// \r\n",
       "}\r\n",
       "comp def \"B1\" as E12  << (B,green) >> {\r\n",
       "}\r\n",
       "comp usage \"p: Part\" as E13  << (P,limegreen) part>> {\r\n",
       "- -ports- -\r\n",
       "p1: P\r\n",
       "p2: ~P\r\n",
       "}\r\n",
       "E12 *- - E13\r\n",
       "}\r\n",
       "@enduml\r\n",
       "\n",
       "PlantUML version 1.2020.13(Sat Jun 13 12:26:38 UTC 2020)\n",
       "(EPL source distribution)\n",
       "Java Runtime: OpenJDK Runtime Environment\n",
       "JVM: OpenJDK 64-Bit Server VM\n",
       "Default Encoding: UTF-8\n",
       "Language: en\n",
       "Country: null\n",
       "--></g></svg>"
      ]
     },
     "execution_count": 30,
     "metadata": {},
     "output_type": "execute_result"
    }
   ],
   "source": [
    "%viz --style=\"PLANTUML\" --view=\"Default\" \"ConjugationTest\""
   ]
  },
  {
   "cell_type": "code",
   "execution_count": 31,
   "id": "spare-silence",
   "metadata": {
    "execution": {
     "iopub.execute_input": "2021-03-25T16:02:19.750424Z",
     "iopub.status.busy": "2021-03-25T16:02:19.749755Z",
     "iopub.status.idle": "2021-03-25T16:02:21.381258Z",
     "shell.execute_reply": "2021-03-25T16:02:21.379582Z"
    }
   },
   "outputs": [
    {
     "data": {
      "image/svg+xml": [
       "<?xml version=\"1.0\" encoding=\"UTF-8\" standalone=\"no\"?><svg xmlns=\"http://www.w3.org/2000/svg\" xmlns:xlink=\"http://www.w3.org/1999/xlink\" contentScriptType=\"application/ecmascript\" contentStyleType=\"text/css\" height=\"325px\" preserveAspectRatio=\"none\" style=\"width:676px;height:325px;\" version=\"1.1\" viewBox=\"0 0 676 325\" width=\"676px\" zoomAndPan=\"magnify\"><defs><filter height=\"300%\" id=\"fikdxtrlraea0\" width=\"300%\" x=\"-1\" y=\"-1\"><feGaussianBlur result=\"blurOut\" stdDeviation=\"2.0\"/><feColorMatrix in=\"blurOut\" result=\"blurOut2\" type=\"matrix\" values=\"0 0 0 0 0 0 0 0 0 0 0 0 0 0 0 0 0 0 .4 0\"/><feOffset dx=\"4.0\" dy=\"4.0\" in=\"blurOut2\" result=\"blurOut3\"/><feBlend in=\"SourceGraphic\" in2=\"blurOut3\" mode=\"normal\"/></filter></defs><g><!--MD5=[fbc87193dbaf4d95561dea2c320d4a47]\n",
       "cluster E1--><polygon fill=\"#FFFFFF\" filter=\"url(#fikdxtrlraea0)\" points=\"16,6,151,6,158,28.2969,654,28.2969,654,313,16,313,16,6\" style=\"stroke: #000000; stroke-width: 1.5;\"/><line style=\"stroke: #000000; stroke-width: 1.5;\" x1=\"16\" x2=\"158\" y1=\"28.2969\" y2=\"28.2969\"/><text fill=\"#000000\" font-family=\"sans-serif\" font-size=\"14\" font-weight=\"bold\" lengthAdjust=\"spacingAndGlyphs\" textLength=\"129\" x=\"20\" y=\"20.9951\">ConjugationTest</text><!--MD5=[b4997ac47864f28c2f74865a473b2911]\n",
       "class E2--><rect fill=\"#FEFECE\" filter=\"url(#fikdxtrlraea0)\" height=\"45.9375\" id=\"E2\" style=\"stroke: #A80036; stroke-width: 1.5;\" width=\"92\" x=\"546\" y=\"72\"/><ellipse cx=\"561\" cy=\"90.9688\" fill=\"#A52A2A\" rx=\"11\" ry=\"11\" style=\"stroke: #A80036; stroke-width: 1.0;\"/><path d=\"M560.5938,86.7813 L560.5938,94.7656 L561.25,94.7656 Q562.6875,94.7656 563.2969,93.8594 Q563.9219,92.9375 563.9219,90.7656 Q563.9219,88.5938 563.2969,87.6875 Q562.6875,86.7813 561.25,86.7813 L560.5938,86.7813 Z M558.1406,84.5781 L560.7656,84.5781 Q563.7969,84.5781 565.125,86.0313 Q566.4688,87.4688 566.4688,90.7656 Q566.4688,94.0625 565.125,95.5156 Q563.7969,96.9688 560.7656,96.9688 L558.1406,96.9688 L558.1406,84.5781 Z \"/><text fill=\"#000000\" font-family=\"sans-serif\" font-size=\"12\" font-style=\"italic\" lengthAdjust=\"spacingAndGlyphs\" textLength=\"64\" x=\"573\" y=\"88.1387\">«port def»</text><text fill=\"#000000\" font-family=\"sans-serif\" font-size=\"12\" lengthAdjust=\"spacingAndGlyphs\" textLength=\"8\" x=\"601\" y=\"102.1074\">P</text><line style=\"stroke: #A80036; stroke-width: 1.5;\" x1=\"547\" x2=\"637\" y1=\"109.9375\" y2=\"109.9375\"/><!--MD5=[09b614a08d8cba4a07c9adeb5e0fee81]\n",
       "class E3--><rect fill=\"#FEFECE\" filter=\"url(#fikdxtrlraea0)\" height=\"82.4141\" id=\"E3\" style=\"stroke: #A80036; stroke-width: 1.5;\" width=\"50\" x=\"461\" y=\"54\"/><ellipse cx=\"480.5\" cy=\"70\" fill=\"#008000\" rx=\"11\" ry=\"11\" style=\"stroke: #A80036; stroke-width: 1.0;\"/><path d=\"M479.4063,70.375 L479.4063,74.0469 L481.0313,74.0469 Q482.2031,74.0469 482.6719,73.6563 Q483.1406,73.25 483.1406,72.25 Q483.1406,71.25 482.6406,70.8125 Q482.1563,70.375 481.0313,70.375 L479.4063,70.375 Z M479.4063,65.5469 L479.4063,68.4219 L481.0313,68.4219 Q481.9531,68.4219 482.3438,68.0938 Q482.75,67.75 482.75,67 Q482.75,66.2344 482.3438,65.8906 Q481.9375,65.5469 481.0313,65.5469 L479.4063,65.5469 Z M477.0313,63.5938 L481.0313,63.5938 Q483.0938,63.5938 484.1406,64.375 Q485.1875,65.1563 485.1875,66.7188 Q485.1875,67.9219 484.5625,68.5938 Q483.9531,69.2656 482.7656,69.375 Q484.1875,69.5156 484.9063,70.3281 Q485.625,71.1406 485.625,72.5938 Q485.625,74.3906 484.5469,75.2031 Q483.4688,76 481.0313,76 L477.0313,76 L477.0313,63.5938 Z \"/><text fill=\"#000000\" font-family=\"sans-serif\" font-size=\"12\" lengthAdjust=\"spacingAndGlyphs\" textLength=\"8\" x=\"495.5\" y=\"74.1543\">B</text><line style=\"stroke: #A80036; stroke-width: 1.5;\" x1=\"462\" x2=\"510\" y1=\"86\" y2=\"86\"/><text fill=\"#000000\" font-family=\"sans-serif\" font-size=\"11\" lengthAdjust=\"spacingAndGlyphs\" textLength=\"29\" x=\"467\" y=\"117.0151\">p1: P</text><text fill=\"#000000\" font-family=\"sans-serif\" font-size=\"11\" lengthAdjust=\"spacingAndGlyphs\" textLength=\"38\" x=\"467\" y=\"129.8198\">p2: ~P</text><line style=\"stroke: #A80036; stroke-width: 1.0;\" x1=\"462\" x2=\"471\" y1=\"100.4023\" y2=\"100.4023\"/><text fill=\"#000000\" font-family=\"sans-serif\" font-size=\"11\" lengthAdjust=\"spacingAndGlyphs\" textLength=\"30\" x=\"471\" y=\"103.7104\">ports</text><line style=\"stroke: #A80036; stroke-width: 1.0;\" x1=\"501\" x2=\"510\" y1=\"100.4023\" y2=\"100.4023\"/><!--MD5=[60a26617385b1d2d0262a64233df1f8d]\n",
       "class E6--><rect fill=\"#FEFECE\" filter=\"url(#fikdxtrlraea0)\" height=\"108.0234\" id=\"E6\" style=\"stroke: #A80036; stroke-width: 1.5;\" width=\"144\" x=\"282\" y=\"41\"/><ellipse cx=\"345.75\" cy=\"57\" fill=\"#008000\" rx=\"11\" ry=\"11\" style=\"stroke: #A80036; stroke-width: 1.0;\"/><path d=\"M344.6563,57.375 L344.6563,61.0469 L346.2813,61.0469 Q347.4531,61.0469 347.9219,60.6563 Q348.3906,60.25 348.3906,59.25 Q348.3906,58.25 347.8906,57.8125 Q347.4063,57.375 346.2813,57.375 L344.6563,57.375 Z M344.6563,52.5469 L344.6563,55.4219 L346.2813,55.4219 Q347.2031,55.4219 347.5938,55.0938 Q348,54.75 348,54 Q348,53.2344 347.5938,52.8906 Q347.1875,52.5469 346.2813,52.5469 L344.6563,52.5469 Z M342.2813,50.5938 L346.2813,50.5938 Q348.3438,50.5938 349.3906,51.375 Q350.4375,52.1563 350.4375,53.7188 Q350.4375,54.9219 349.8125,55.5938 Q349.2031,56.2656 348.0156,56.375 Q349.4375,56.5156 350.1563,57.3281 Q350.875,58.1406 350.875,59.5938 Q350.875,61.3906 349.7969,62.2031 Q348.7188,63 346.2813,63 L342.2813,63 L342.2813,50.5938 Z \"/><text fill=\"#000000\" font-family=\"sans-serif\" font-size=\"12\" lengthAdjust=\"spacingAndGlyphs\" textLength=\"8\" x=\"366.25\" y=\"61.1543\">A</text><line style=\"stroke: #A80036; stroke-width: 1.5;\" x1=\"283\" x2=\"425\" y1=\"73\" y2=\"73\"/><text fill=\"#000000\" font-family=\"sans-serif\" font-size=\"11\" lengthAdjust=\"spacingAndGlyphs\" textLength=\"29\" x=\"288\" y=\"104.0151\">p1: P</text><text fill=\"#000000\" font-family=\"sans-serif\" font-size=\"11\" font-style=\"italic\" lengthAdjust=\"spacingAndGlyphs\" textLength=\"132\" x=\"288\" y=\"116.8198\">:&gt;&gt;Connection::source</text><text fill=\"#000000\" font-family=\"sans-serif\" font-size=\"11\" lengthAdjust=\"spacingAndGlyphs\" textLength=\"38\" x=\"288\" y=\"129.6245\">p2: ~P</text><text fill=\"#000000\" font-family=\"sans-serif\" font-size=\"11\" font-style=\"italic\" lengthAdjust=\"spacingAndGlyphs\" textLength=\"127\" x=\"288\" y=\"142.4292\">:&gt;&gt;Connection::target</text><line style=\"stroke: #A80036; stroke-width: 1.0;\" x1=\"283\" x2=\"339\" y1=\"87.4023\" y2=\"87.4023\"/><text fill=\"#000000\" font-family=\"sans-serif\" font-size=\"11\" lengthAdjust=\"spacingAndGlyphs\" textLength=\"30\" x=\"339\" y=\"90.7104\">ports</text><line style=\"stroke: #A80036; stroke-width: 1.0;\" x1=\"369\" x2=\"425\" y1=\"87.4023\" y2=\"87.4023\"/><!--MD5=[fd4143e9d270a159db93a4ea2a975926]\n",
       "class E9--><rect fill=\"#FEFECE\" filter=\"url(#fikdxtrlraea0)\" height=\"108.0234\" id=\"E9\" style=\"stroke: #A80036; stroke-width: 1.5;\" width=\"131\" x=\"115.5\" y=\"41\"/><ellipse cx=\"175.25\" cy=\"57\" fill=\"#008000\" rx=\"11\" ry=\"11\" style=\"stroke: #A80036; stroke-width: 1.0;\"/><path d=\"M174.1563,57.375 L174.1563,61.0469 L175.7813,61.0469 Q176.9531,61.0469 177.4219,60.6563 Q177.8906,60.25 177.8906,59.25 Q177.8906,58.25 177.3906,57.8125 Q176.9063,57.375 175.7813,57.375 L174.1563,57.375 Z M174.1563,52.5469 L174.1563,55.4219 L175.7813,55.4219 Q176.7031,55.4219 177.0938,55.0938 Q177.5,54.75 177.5,54 Q177.5,53.2344 177.0938,52.8906 Q176.6875,52.5469 175.7813,52.5469 L174.1563,52.5469 Z M171.7813,50.5938 L175.7813,50.5938 Q177.8438,50.5938 178.8906,51.375 Q179.9375,52.1563 179.9375,53.7188 Q179.9375,54.9219 179.3125,55.5938 Q178.7031,56.2656 177.5156,56.375 Q178.9375,56.5156 179.6563,57.3281 Q180.375,58.1406 180.375,59.5938 Q180.375,61.3906 179.2969,62.2031 Q178.2188,63 175.7813,63 L171.7813,63 L171.7813,50.5938 Z \"/><text fill=\"#000000\" font-family=\"sans-serif\" font-size=\"12\" lengthAdjust=\"spacingAndGlyphs\" textLength=\"3\" x=\"195.75\" y=\"61.1543\">I</text><line style=\"stroke: #A80036; stroke-width: 1.5;\" x1=\"116.5\" x2=\"245.5\" y1=\"73\" y2=\"73\"/><text fill=\"#000000\" font-family=\"sans-serif\" font-size=\"11\" lengthAdjust=\"spacingAndGlyphs\" textLength=\"29\" x=\"121.5\" y=\"104.0151\">p1: P</text><text fill=\"#000000\" font-family=\"sans-serif\" font-size=\"11\" font-style=\"italic\" lengthAdjust=\"spacingAndGlyphs\" textLength=\"119\" x=\"121.5\" y=\"116.8198\">:&gt;&gt;Interface::source</text><text fill=\"#000000\" font-family=\"sans-serif\" font-size=\"11\" lengthAdjust=\"spacingAndGlyphs\" textLength=\"38\" x=\"121.5\" y=\"129.6245\">p2: ~P</text><text fill=\"#000000\" font-family=\"sans-serif\" font-size=\"11\" font-style=\"italic\" lengthAdjust=\"spacingAndGlyphs\" textLength=\"114\" x=\"121.5\" y=\"142.4292\">:&gt;&gt;Interface::target</text><line style=\"stroke: #A80036; stroke-width: 1.0;\" x1=\"116.5\" x2=\"166\" y1=\"87.4023\" y2=\"87.4023\"/><text fill=\"#000000\" font-family=\"sans-serif\" font-size=\"11\" lengthAdjust=\"spacingAndGlyphs\" textLength=\"30\" x=\"166\" y=\"90.7104\">ports</text><line style=\"stroke: #A80036; stroke-width: 1.0;\" x1=\"196\" x2=\"245.5\" y1=\"87.4023\" y2=\"87.4023\"/><!--MD5=[49a0ec8f00dab7302a31f22d0f0fe584]\n",
       "class E12--><rect fill=\"#FEFECE\" filter=\"url(#fikdxtrlraea0)\" height=\"40\" id=\"E12\" style=\"stroke: #A80036; stroke-width: 1.5;\" width=\"48\" x=\"32\" y=\"75\"/><ellipse cx=\"47\" cy=\"91\" fill=\"#008000\" rx=\"11\" ry=\"11\" style=\"stroke: #A80036; stroke-width: 1.0;\"/><path d=\"M45.9063,91.375 L45.9063,95.0469 L47.5313,95.0469 Q48.7031,95.0469 49.1719,94.6563 Q49.6406,94.25 49.6406,93.25 Q49.6406,92.25 49.1406,91.8125 Q48.6563,91.375 47.5313,91.375 L45.9063,91.375 Z M45.9063,86.5469 L45.9063,89.4219 L47.5313,89.4219 Q48.4531,89.4219 48.8438,89.0938 Q49.25,88.75 49.25,88 Q49.25,87.2344 48.8438,86.8906 Q48.4375,86.5469 47.5313,86.5469 L45.9063,86.5469 Z M43.5313,84.5938 L47.5313,84.5938 Q49.5938,84.5938 50.6406,85.375 Q51.6875,86.1563 51.6875,87.7188 Q51.6875,88.9219 51.0625,89.5938 Q50.4531,90.2656 49.2656,90.375 Q50.6875,90.5156 51.4063,91.3281 Q52.125,92.1406 52.125,93.5938 Q52.125,95.3906 51.0469,96.2031 Q49.9688,97 47.5313,97 L43.5313,97 L43.5313,84.5938 Z \"/><text fill=\"#000000\" font-family=\"sans-serif\" font-size=\"12\" lengthAdjust=\"spacingAndGlyphs\" textLength=\"16\" x=\"61\" y=\"95.1543\">B1</text><line style=\"stroke: #A80036; stroke-width: 1.5;\" x1=\"33\" x2=\"79\" y1=\"107\" y2=\"107\"/><!--MD5=[ee3c913d1a06f366521f9ef512b67efe]\n",
       "class E13--><rect fill=\"#FEFECE\" filter=\"url(#fikdxtrlraea0)\" height=\"88.3516\" id=\"E13\" rx=\"10\" ry=\"10\" style=\"stroke: #A80036; stroke-width: 1.5;\" width=\"74\" x=\"32\" y=\"209\"/><ellipse cx=\"47\" cy=\"227.9688\" fill=\"#32CD32\" rx=\"11\" ry=\"11\" style=\"stroke: #A80036; stroke-width: 1.0;\"/><path d=\"M46.7969,223.6406 L46.7969,227.2656 L47.7969,227.2656 Q49,227.2656 49.4844,226.8594 Q49.9688,226.4531 49.9688,225.4531 Q49.9688,224.4531 49.4844,224.0469 Q49,223.6406 47.7969,223.6406 L46.7969,223.6406 Z M44.3438,221.5781 L47.7031,221.5781 Q50.2656,221.5781 51.3906,222.5 Q52.5156,223.4063 52.5156,225.4531 Q52.5156,227.5 51.3906,228.4219 Q50.2656,229.3281 47.7031,229.3281 L46.7969,229.3281 L46.7969,233.9688 L44.3438,233.9688 L44.3438,221.5781 Z \"/><text fill=\"#000000\" font-family=\"sans-serif\" font-size=\"12\" font-style=\"italic\" lengthAdjust=\"spacingAndGlyphs\" textLength=\"40\" x=\"62\" y=\"225.1387\">«part»</text><text fill=\"#000000\" font-family=\"sans-serif\" font-size=\"12\" lengthAdjust=\"spacingAndGlyphs\" textLength=\"42\" x=\"61\" y=\"239.1074\">p: Part</text><line style=\"stroke: #A80036; stroke-width: 1.5;\" x1=\"33\" x2=\"105\" y1=\"246.9375\" y2=\"246.9375\"/><text fill=\"#000000\" font-family=\"sans-serif\" font-size=\"11\" lengthAdjust=\"spacingAndGlyphs\" textLength=\"29\" x=\"38\" y=\"277.9526\">p1: P</text><text fill=\"#000000\" font-family=\"sans-serif\" font-size=\"11\" lengthAdjust=\"spacingAndGlyphs\" textLength=\"38\" x=\"38\" y=\"290.7573\">p2: ~P</text><line style=\"stroke: #A80036; stroke-width: 1.0;\" x1=\"33\" x2=\"54\" y1=\"261.3398\" y2=\"261.3398\"/><text fill=\"#000000\" font-family=\"sans-serif\" font-size=\"11\" lengthAdjust=\"spacingAndGlyphs\" textLength=\"30\" x=\"54\" y=\"264.6479\">ports</text><line style=\"stroke: #A80036; stroke-width: 1.0;\" x1=\"84\" x2=\"105\" y1=\"261.3398\" y2=\"261.3398\"/><!--MD5=[062ed86c389d1a88f61c6380d0491e17]\n",
       "reverse link E12 to E13--><path d=\"M58.67,128.1 C60.62,151.43 63.27,183.26 65.4,208.82 \" fill=\"none\" id=\"E12&lt;-E13\" style=\"stroke: #A80036; stroke-width: 1.0;\"/><polygon fill=\"#A80036\" points=\"57.59,115.13,54.0981,121.4392,58.5789,127.0892,62.0708,120.78,57.59,115.13\" style=\"stroke: #A80036; stroke-width: 1.0;\"/><!--MD5=[58237ab7a399df8d40cbce96c8bd5ae9]\n",
       "@startuml\r\n",
       " \r\n",
       "package \"ConjugationTest\" as E1   {\r\n",
       "comp def \"P\" as E2  <<(D,brown)port def>> {\r\n",
       "}\r\n",
       "comp def \"B\" as E3  << (B,green) >> {\r\n",
       "- -ports- -\r\n",
       "p1: P\r\n",
       "p2: ~P\r\n",
       "}\r\n",
       "comp def \"A\" as E6  << (B,green) >> {\r\n",
       "- -ports- -\r\n",
       "p1: P\\n//:>>Connection::source// \r\n",
       "p2: ~P\\n//:>>Connection::target// \r\n",
       "}\r\n",
       "comp def \"I\" as E9  << (B,green) >> {\r\n",
       "- -ports- -\r\n",
       "p1: P\\n//:>>Interface::source// \r\n",
       "p2: ~P\\n//:>>Interface::target// \r\n",
       "}\r\n",
       "comp def \"B1\" as E12  << (B,green) >> {\r\n",
       "}\r\n",
       "comp usage \"p: Part\" as E13  << (P,limegreen) part>> {\r\n",
       "- -ports- -\r\n",
       "p1: P\r\n",
       "p2: ~P\r\n",
       "}\r\n",
       "E12 *- - E13\r\n",
       "}\r\n",
       "@enduml\r\n",
       "\n",
       "PlantUML version 1.2020.13(Sat Jun 13 12:26:38 UTC 2020)\n",
       "(EPL source distribution)\n",
       "Java Runtime: OpenJDK Runtime Environment\n",
       "JVM: OpenJDK 64-Bit Server VM\n",
       "Default Encoding: UTF-8\n",
       "Language: en\n",
       "Country: null\n",
       "--></g></svg>"
      ]
     },
     "execution_count": 31,
     "metadata": {},
     "output_type": "execute_result"
    }
   ],
   "source": [
    "%viz --style=\"PLANTUML\" --view=\"Tree\" \"ConjugationTest\""
   ]
  },
  {
   "cell_type": "code",
   "execution_count": 32,
   "id": "suitable-madagascar",
   "metadata": {
    "execution": {
     "iopub.execute_input": "2021-03-25T16:02:21.432847Z",
     "iopub.status.busy": "2021-03-25T16:02:21.432103Z",
     "iopub.status.idle": "2021-03-25T16:02:21.435639Z",
     "shell.execute_reply": "2021-03-25T16:02:21.435184Z"
    }
   },
   "outputs": [
    {
     "data": {
      "text/plain": [
       "java.lang.IllegalArgumentException: Invalid View: State View candidates are: Default Tree StateMachine Interconnection Activity Sequence MIXED \n",
       "\tat org.omg.sysml.plantuml.SysML2PlantUMLSvc.setView(SysML2PlantUMLSvc.java:63)\n",
       "\tat org.omg.sysml.interactive.SysMLInteractive.viz(SysMLInteractive.java:286)\n",
       "\tat org.omg.sysml.jupyter.kernel.magic.Viz.viz(Viz.java:47)\n",
       "\tat jdk.internal.reflect.GeneratedMethodAccessor12.invoke(Unknown Source)\n",
       "\tat java.base/jdk.internal.reflect.DelegatingMethodAccessorImpl.invoke(DelegatingMethodAccessorImpl.java:43)\n",
       "\tat java.base/java.lang.reflect.Method.invoke(Method.java:568)\n",
       "\tat io.github.spencerpark.jupyter.kernel.magic.registry.Magics.invoke(Magics.java:89)\n",
       "\tat io.github.spencerpark.jupyter.kernel.magic.registry.Magics.access$000(Magics.java:8)\n",
       "\tat io.github.spencerpark.jupyter.kernel.magic.registry.Magics$LineReflectionMagicFunction.execute(Magics.java:149)\n",
       "\tat io.github.spencerpark.jupyter.kernel.magic.registry.Magics.applyLineMagic(Magics.java:26)\n",
       "\tat org.omg.sysml.jupyter.kernel.SysMLKernel.eval(SysMLKernel.java:76)\n",
       "\tat io.github.spencerpark.jupyter.kernel.BaseKernel.handleExecuteRequest(BaseKernel.java:334)\n",
       "\tat io.github.spencerpark.jupyter.channels.ShellChannel.lambda$bind$0(ShellChannel.java:64)\n",
       "\tat io.github.spencerpark.jupyter.channels.Loop.lambda$new$0(Loop.java:21)\n",
       "\tat io.github.spencerpark.jupyter.channels.Loop.run(Loop.java:78)\n"
      ]
     },
     "execution_count": 32,
     "metadata": {},
     "output_type": "execute_result"
    }
   ],
   "source": [
    "%viz --style=\"PLANTUML\" --view=\"State\" \"ConjugationTest\""
   ]
  },
  {
   "cell_type": "code",
   "execution_count": 33,
   "id": "prospective-north",
   "metadata": {
    "execution": {
     "iopub.execute_input": "2021-03-25T16:02:21.487285Z",
     "iopub.status.busy": "2021-03-25T16:02:21.486279Z",
     "iopub.status.idle": "2021-03-25T16:02:21.584304Z",
     "shell.execute_reply": "2021-03-25T16:02:21.582922Z"
    }
   },
   "outputs": [
    {
     "data": {
      "image/svg+xml": [
       "<?xml version=\"1.0\" encoding=\"UTF-8\" standalone=\"no\"?><svg xmlns=\"http://www.w3.org/2000/svg\" xmlns:xlink=\"http://www.w3.org/1999/xlink\" contentScriptType=\"application/ecmascript\" contentStyleType=\"text/css\" height=\"252px\" preserveAspectRatio=\"none\" style=\"width:778px;height:252px;\" version=\"1.1\" viewBox=\"0 0 778 252\" width=\"778px\" zoomAndPan=\"magnify\"><defs><filter height=\"300%\" id=\"f12s2eemrkm4kz\" width=\"300%\" x=\"-1\" y=\"-1\"><feGaussianBlur result=\"blurOut\" stdDeviation=\"2.0\"/><feColorMatrix in=\"blurOut\" result=\"blurOut2\" type=\"matrix\" values=\"0 0 0 0 0 0 0 0 0 0 0 0 0 0 0 0 0 0 .4 0\"/><feOffset dx=\"4.0\" dy=\"4.0\" in=\"blurOut2\" result=\"blurOut3\"/><feBlend in=\"SourceGraphic\" in2=\"blurOut3\" mode=\"normal\"/></filter></defs><g><!--MD5=[fbc87193dbaf4d95561dea2c320d4a47]\n",
       "cluster E1--><polygon fill=\"#FFFFFF\" filter=\"url(#f12s2eemrkm4kz)\" points=\"16,6,151,6,158,28.2969,756,28.2969,756,240,16,240,16,6\" style=\"stroke: #000000; stroke-width: 1.5;\"/><line style=\"stroke: #000000; stroke-width: 1.5;\" x1=\"16\" x2=\"158\" y1=\"28.2969\" y2=\"28.2969\"/><text fill=\"#000000\" font-family=\"sans-serif\" font-size=\"14\" font-weight=\"bold\" lengthAdjust=\"spacingAndGlyphs\" textLength=\"129\" x=\"20\" y=\"20.9951\">ConjugationTest</text><!--MD5=[d5e69f78d87373223dbae638b30a9c99]\n",
       "cluster E3--><rect fill=\"#FFFFFF\" filter=\"url(#f12s2eemrkm4kz)\" height=\"94\" style=\"stroke: #000000; stroke-width: 1.5;\" width=\"83\" x=\"616\" y=\"114\"/><text fill=\"#000000\" font-family=\"sans-serif\" font-size=\"14\" font-style=\"italic\" lengthAdjust=\"spacingAndGlyphs\" textLength=\"71\" x=\"622\" y=\"128.9951\">«part def»</text><text fill=\"#000000\" font-family=\"sans-serif\" font-size=\"14\" font-weight=\"bold\" lengthAdjust=\"spacingAndGlyphs\" textLength=\"10\" x=\"652.5\" y=\"145.292\">B</text><!--MD5=[14e3b0961a2654348d326746436168a1]\n",
       "cluster E6--><rect fill=\"#FFFFFF\" filter=\"url(#f12s2eemrkm4kz)\" height=\"94\" style=\"stroke: #000000; stroke-width: 1.5;\" width=\"150\" x=\"462\" y=\"114\"/><text fill=\"#000000\" font-family=\"sans-serif\" font-size=\"14\" font-style=\"italic\" lengthAdjust=\"spacingAndGlyphs\" textLength=\"122\" x=\"476\" y=\"128.9951\">«connection def»</text><text fill=\"#000000\" font-family=\"sans-serif\" font-size=\"14\" font-weight=\"bold\" lengthAdjust=\"spacingAndGlyphs\" textLength=\"11\" x=\"531.5\" y=\"145.292\">A</text><!--MD5=[7f149f147074ac12df2cb0a7728a5fb0]\n",
       "cluster E9--><rect fill=\"#FFFFFF\" filter=\"url(#f12s2eemrkm4kz)\" height=\"94\" style=\"stroke: #000000; stroke-width: 1.5;\" width=\"141\" x=\"293\" y=\"114\"/><text fill=\"#000000\" font-family=\"sans-serif\" font-size=\"14\" font-style=\"italic\" lengthAdjust=\"spacingAndGlyphs\" textLength=\"104\" x=\"311.5\" y=\"128.9951\">«interface def»</text><text fill=\"#000000\" font-family=\"sans-serif\" font-size=\"14\" font-weight=\"bold\" lengthAdjust=\"spacingAndGlyphs\" textLength=\"4\" x=\"361.5\" y=\"145.292\">I</text><!--MD5=[47bea60c1a0ac6c1143df232041969c0]\n",
       "cluster E12--><rect fill=\"#FFFFFF\" filter=\"url(#f12s2eemrkm4kz)\" height=\"167\" style=\"stroke: #000000; stroke-width: 1.5;\" width=\"126\" x=\"140\" y=\"49\"/><text fill=\"#000000\" font-family=\"sans-serif\" font-size=\"14\" font-style=\"italic\" lengthAdjust=\"spacingAndGlyphs\" textLength=\"71\" x=\"167.5\" y=\"63.9951\">«part def»</text><text fill=\"#000000\" font-family=\"sans-serif\" font-size=\"14\" font-weight=\"bold\" lengthAdjust=\"spacingAndGlyphs\" textLength=\"20\" x=\"193\" y=\"80.292\">B1</text><!--MD5=[03104f77b71e2d8d3500c651e6e31181]\n",
       "cluster E13--><rect fill=\"#FEFECE\" filter=\"url(#f12s2eemrkm4kz)\" height=\"86\" rx=\"12.5\" ry=\"12.5\" style=\"stroke: #000000; stroke-width: 1.5;\" width=\"83\" x=\"152\" y=\"114\"/><rect fill=\"#FFFFFF\" height=\"53.7031\" rx=\"12.5\" ry=\"12.5\" style=\"stroke: #FFFFFF; stroke-width: 1.0;\" width=\"77\" x=\"155\" y=\"143.2969\"/><line style=\"stroke: #000000; stroke-width: 1.5;\" x1=\"152\" x2=\"235\" y1=\"140.2969\" y2=\"140.2969\"/><text fill=\"#000000\" font-family=\"sans-serif\" font-size=\"14\" lengthAdjust=\"spacingAndGlyphs\" textLength=\"45\" x=\"171\" y=\"131.9951\">p: Part</text><!--MD5=[b4997ac47864f28c2f74865a473b2911]\n",
       "class E2--><rect fill=\"#FEFECE\" filter=\"url(#f12s2eemrkm4kz)\" height=\"53.9375\" id=\"E2\" style=\"stroke: #A80036; stroke-width: 1.5;\" width=\"92\" x=\"32\" y=\"87\"/><ellipse cx=\"47\" cy=\"105.9688\" fill=\"#ADD1B2\" rx=\"11\" ry=\"11\" style=\"stroke: #A80036; stroke-width: 1.0;\"/><path d=\"M49.9688,111.6094 Q49.3906,111.9063 48.75,112.0469 Q48.1094,112.2031 47.4063,112.2031 Q44.9063,112.2031 43.5781,110.5625 Q42.2656,108.9063 42.2656,105.7813 Q42.2656,102.6563 43.5781,101 Q44.9063,99.3438 47.4063,99.3438 Q48.1094,99.3438 48.75,99.5 Q49.4063,99.6563 49.9688,99.9531 L49.9688,102.6719 Q49.3438,102.0938 48.75,101.8281 Q48.1563,101.5469 47.5313,101.5469 Q46.1875,101.5469 45.5,102.625 Q44.8125,103.6875 44.8125,105.7813 Q44.8125,107.875 45.5,108.9531 Q46.1875,110.0156 47.5313,110.0156 Q48.1563,110.0156 48.75,109.75 Q49.3438,109.4688 49.9688,108.8906 L49.9688,111.6094 Z \"/><text fill=\"#000000\" font-family=\"sans-serif\" font-size=\"12\" font-style=\"italic\" lengthAdjust=\"spacingAndGlyphs\" textLength=\"64\" x=\"59\" y=\"103.1387\">«port def»</text><text fill=\"#000000\" font-family=\"sans-serif\" font-size=\"12\" lengthAdjust=\"spacingAndGlyphs\" textLength=\"8\" x=\"87\" y=\"117.1074\">P</text><line style=\"stroke: #A80036; stroke-width: 1.5;\" x1=\"33\" x2=\"123\" y1=\"124.9375\" y2=\"124.9375\"/><line style=\"stroke: #A80036; stroke-width: 1.5;\" x1=\"33\" x2=\"123\" y1=\"132.9375\" y2=\"132.9375\"/><text fill=\"#000000\" font-family=\"sans-serif\" font-size=\"14\" lengthAdjust=\"spacingAndGlyphs\" textLength=\"36\" x=\"616\" y=\"92.6982\">p1: P</text><rect fill=\"#A80036\" height=\"12\" style=\"stroke: #FEFECE; stroke-width: 1.5;\" width=\"12\" x=\"628\" y=\"108\"/><text fill=\"#000000\" font-family=\"sans-serif\" font-size=\"14\" lengthAdjust=\"spacingAndGlyphs\" textLength=\"48\" x=\"657\" y=\"92.6982\">p2: ~P</text><rect fill=\"#A80036\" height=\"12\" style=\"stroke: #FEFECE; stroke-width: 1.5;\" width=\"12\" x=\"675\" y=\"108\"/><text fill=\"#000000\" font-family=\"sans-serif\" font-size=\"14\" lengthAdjust=\"spacingAndGlyphs\" textLength=\"36\" x=\"462\" y=\"92.6982\">p1: P</text><rect fill=\"#A80036\" height=\"12\" style=\"stroke: #FEFECE; stroke-width: 1.5;\" width=\"12\" x=\"474\" y=\"108\"/><text fill=\"#000000\" font-family=\"sans-serif\" font-size=\"14\" lengthAdjust=\"spacingAndGlyphs\" textLength=\"48\" x=\"503\" y=\"92.6982\">p2: ~P</text><rect fill=\"#A80036\" height=\"12\" style=\"stroke: #FEFECE; stroke-width: 1.5;\" width=\"12\" x=\"521\" y=\"108\"/><text fill=\"#000000\" font-family=\"sans-serif\" font-size=\"14\" lengthAdjust=\"spacingAndGlyphs\" textLength=\"36\" x=\"293\" y=\"92.6982\">p1: P</text><rect fill=\"#A80036\" height=\"12\" style=\"stroke: #FEFECE; stroke-width: 1.5;\" width=\"12\" x=\"305\" y=\"108\"/><text fill=\"#000000\" font-family=\"sans-serif\" font-size=\"14\" lengthAdjust=\"spacingAndGlyphs\" textLength=\"48\" x=\"334\" y=\"92.6982\">p2: ~P</text><rect fill=\"#A80036\" height=\"12\" style=\"stroke: #FEFECE; stroke-width: 1.5;\" width=\"12\" x=\"352\" y=\"108\"/><text fill=\"#000000\" font-family=\"sans-serif\" font-size=\"14\" lengthAdjust=\"spacingAndGlyphs\" textLength=\"36\" x=\"152\" y=\"92.6982\">p1: P</text><rect fill=\"#A80036\" height=\"12\" style=\"stroke: #FEFECE; stroke-width: 1.5;\" width=\"12\" x=\"164\" y=\"108\"/><text fill=\"#000000\" font-family=\"sans-serif\" font-size=\"14\" lengthAdjust=\"spacingAndGlyphs\" textLength=\"48\" x=\"193\" y=\"92.6982\">p2: ~P</text><rect fill=\"#A80036\" height=\"12\" style=\"stroke: #FEFECE; stroke-width: 1.5;\" width=\"12\" x=\"211\" y=\"108\"/><!--MD5=[4ce51ac6fa4cf5202df3859e2718f033]\n",
       "link E15 to E14--><path d=\"M210.95,114 C199.38,114 187.81,114 176.24,114 \" fill=\"none\" id=\"E15-E14\" style=\"stroke: #A80036; stroke-width: 3.0;\"/><!--MD5=[4ce51ac6fa4cf5202df3859e2718f033]\n",
       "link E15 to E14--><path d=\"M210.95,111.98 C199.38,108.69 187.81,108.67 176.24,111.93 \" fill=\"none\" id=\"E15-E14-1\" style=\"stroke: #A80036; stroke-width: 3.0;\"/><!--MD5=[ffaf71efd272206f7fa878546416dd32]\n",
       "@startuml\r\n",
       "skinparam ranksep 8\r\n",
       "skinparam rectangle {\r\n",
       " backgroundColor<<block>> LightGreen\r\n",
       "}\r\n",
       " \r\n",
       "package \"ConjugationTest\" as E1   {\r\n",
       "def \"P\" as E2  <<port def>> \r\n",
       "rec def \"B\" as E3  <<part def>> {\r\n",
       "portin \"p1: P\" as E4  <<port>> \r\n",
       "portin \"p2: ~P\" as E5  <<port>> \r\n",
       "}\r\n",
       "rec def \"A\" as E6  <<connection def>> {\r\n",
       "portin \"p1: P\" as E7  <<port>> \r\n",
       "portin \"p2: ~P\" as E8  <<port>> \r\n",
       "}\r\n",
       "rec def \"I\" as E9  <<interface def>> {\r\n",
       "portin \"p1: P\" as E10  <<port>> \r\n",
       "portin \"p2: ~P\" as E11  <<port>> \r\n",
       "}\r\n",
       "rec def \"B1\" as E12  <<part def>> {\r\n",
       "rec usage \"p: Part\" as E13  {\r\n",
       "portin \"p1: P\" as E14  <<port>> \r\n",
       "portin \"p2: ~P\" as E15  <<port>> \r\n",
       "}\r\n",
       "}\r\n",
       "E15 -[thickness=3]- E14\r\n",
       "E15 -[thickness=3]- E14\r\n",
       "}\r\n",
       "@enduml\r\n",
       "\n",
       "PlantUML version 1.2020.13(Sat Jun 13 12:26:38 UTC 2020)\n",
       "(EPL source distribution)\n",
       "Java Runtime: OpenJDK Runtime Environment\n",
       "JVM: OpenJDK 64-Bit Server VM\n",
       "Default Encoding: UTF-8\n",
       "Language: en\n",
       "Country: null\n",
       "--></g></svg>"
      ]
     },
     "execution_count": 33,
     "metadata": {},
     "output_type": "execute_result"
    }
   ],
   "source": [
    "%viz --style=\"PLANTUML\" --view=\"Interconnection\" \"ConjugationTest\""
   ]
  },
  {
   "cell_type": "code",
   "execution_count": 34,
   "id": "intended-brunei",
   "metadata": {
    "execution": {
     "iopub.execute_input": "2021-03-25T16:02:21.637699Z",
     "iopub.status.busy": "2021-03-25T16:02:21.635692Z",
     "iopub.status.idle": "2021-03-25T16:02:21.639392Z",
     "shell.execute_reply": "2021-03-25T16:02:21.639956Z"
    }
   },
   "outputs": [
    {
     "data": {
      "text/plain": [
       "java.lang.IllegalArgumentException: Invalid View: Action View candidates are: Default Tree StateMachine Interconnection Activity Sequence MIXED \n",
       "\tat org.omg.sysml.plantuml.SysML2PlantUMLSvc.setView(SysML2PlantUMLSvc.java:63)\n",
       "\tat org.omg.sysml.interactive.SysMLInteractive.viz(SysMLInteractive.java:286)\n",
       "\tat org.omg.sysml.jupyter.kernel.magic.Viz.viz(Viz.java:47)\n",
       "\tat jdk.internal.reflect.GeneratedMethodAccessor12.invoke(Unknown Source)\n",
       "\tat java.base/jdk.internal.reflect.DelegatingMethodAccessorImpl.invoke(DelegatingMethodAccessorImpl.java:43)\n",
       "\tat java.base/java.lang.reflect.Method.invoke(Method.java:568)\n",
       "\tat io.github.spencerpark.jupyter.kernel.magic.registry.Magics.invoke(Magics.java:89)\n",
       "\tat io.github.spencerpark.jupyter.kernel.magic.registry.Magics.access$000(Magics.java:8)\n",
       "\tat io.github.spencerpark.jupyter.kernel.magic.registry.Magics$LineReflectionMagicFunction.execute(Magics.java:149)\n",
       "\tat io.github.spencerpark.jupyter.kernel.magic.registry.Magics.applyLineMagic(Magics.java:26)\n",
       "\tat org.omg.sysml.jupyter.kernel.SysMLKernel.eval(SysMLKernel.java:76)\n",
       "\tat io.github.spencerpark.jupyter.kernel.BaseKernel.handleExecuteRequest(BaseKernel.java:334)\n",
       "\tat io.github.spencerpark.jupyter.channels.ShellChannel.lambda$bind$0(ShellChannel.java:64)\n",
       "\tat io.github.spencerpark.jupyter.channels.Loop.lambda$new$0(Loop.java:21)\n",
       "\tat io.github.spencerpark.jupyter.channels.Loop.run(Loop.java:78)\n"
      ]
     },
     "execution_count": 34,
     "metadata": {},
     "output_type": "execute_result"
    }
   ],
   "source": [
    "%viz --style=\"PLANTUML\" --view=\"Action\" \"ConjugationTest\""
   ]
  },
  {
   "cell_type": "code",
   "execution_count": 35,
   "id": "tight-savings",
   "metadata": {
    "execution": {
     "iopub.execute_input": "2021-03-25T16:02:21.690138Z",
     "iopub.status.busy": "2021-03-25T16:02:21.689564Z",
     "iopub.status.idle": "2021-03-25T16:02:23.268100Z",
     "shell.execute_reply": "2021-03-25T16:02:23.268474Z"
    }
   },
   "outputs": [
    {
     "data": {
      "image/svg+xml": [
       "<?xml version=\"1.0\" encoding=\"UTF-8\" standalone=\"no\"?><svg xmlns=\"http://www.w3.org/2000/svg\" xmlns:xlink=\"http://www.w3.org/1999/xlink\" contentScriptType=\"application/ecmascript\" contentStyleType=\"text/css\" height=\"325px\" preserveAspectRatio=\"none\" style=\"width:676px;height:325px;\" version=\"1.1\" viewBox=\"0 0 676 325\" width=\"676px\" zoomAndPan=\"magnify\"><defs><filter height=\"300%\" id=\"fikdxtrlraea0\" width=\"300%\" x=\"-1\" y=\"-1\"><feGaussianBlur result=\"blurOut\" stdDeviation=\"2.0\"/><feColorMatrix in=\"blurOut\" result=\"blurOut2\" type=\"matrix\" values=\"0 0 0 0 0 0 0 0 0 0 0 0 0 0 0 0 0 0 .4 0\"/><feOffset dx=\"4.0\" dy=\"4.0\" in=\"blurOut2\" result=\"blurOut3\"/><feBlend in=\"SourceGraphic\" in2=\"blurOut3\" mode=\"normal\"/></filter></defs><g><!--MD5=[fbc87193dbaf4d95561dea2c320d4a47]\n",
       "cluster E1--><polygon fill=\"#FFFFFF\" filter=\"url(#fikdxtrlraea0)\" points=\"16,6,151,6,158,28.2969,654,28.2969,654,313,16,313,16,6\" style=\"stroke: #000000; stroke-width: 1.5;\"/><line style=\"stroke: #000000; stroke-width: 1.5;\" x1=\"16\" x2=\"158\" y1=\"28.2969\" y2=\"28.2969\"/><text fill=\"#000000\" font-family=\"sans-serif\" font-size=\"14\" font-weight=\"bold\" lengthAdjust=\"spacingAndGlyphs\" textLength=\"129\" x=\"20\" y=\"20.9951\">ConjugationTest</text><!--MD5=[b4997ac47864f28c2f74865a473b2911]\n",
       "class E2--><rect fill=\"#FEFECE\" filter=\"url(#fikdxtrlraea0)\" height=\"45.9375\" id=\"E2\" style=\"stroke: #A80036; stroke-width: 1.5;\" width=\"92\" x=\"546\" y=\"72\"/><ellipse cx=\"561\" cy=\"90.9688\" fill=\"#A52A2A\" rx=\"11\" ry=\"11\" style=\"stroke: #A80036; stroke-width: 1.0;\"/><path d=\"M560.5938,86.7813 L560.5938,94.7656 L561.25,94.7656 Q562.6875,94.7656 563.2969,93.8594 Q563.9219,92.9375 563.9219,90.7656 Q563.9219,88.5938 563.2969,87.6875 Q562.6875,86.7813 561.25,86.7813 L560.5938,86.7813 Z M558.1406,84.5781 L560.7656,84.5781 Q563.7969,84.5781 565.125,86.0313 Q566.4688,87.4688 566.4688,90.7656 Q566.4688,94.0625 565.125,95.5156 Q563.7969,96.9688 560.7656,96.9688 L558.1406,96.9688 L558.1406,84.5781 Z \"/><text fill=\"#000000\" font-family=\"sans-serif\" font-size=\"12\" font-style=\"italic\" lengthAdjust=\"spacingAndGlyphs\" textLength=\"64\" x=\"573\" y=\"88.1387\">«port def»</text><text fill=\"#000000\" font-family=\"sans-serif\" font-size=\"12\" lengthAdjust=\"spacingAndGlyphs\" textLength=\"8\" x=\"601\" y=\"102.1074\">P</text><line style=\"stroke: #A80036; stroke-width: 1.5;\" x1=\"547\" x2=\"637\" y1=\"109.9375\" y2=\"109.9375\"/><!--MD5=[09b614a08d8cba4a07c9adeb5e0fee81]\n",
       "class E3--><rect fill=\"#FEFECE\" filter=\"url(#fikdxtrlraea0)\" height=\"82.4141\" id=\"E3\" style=\"stroke: #A80036; stroke-width: 1.5;\" width=\"50\" x=\"461\" y=\"54\"/><ellipse cx=\"480.5\" cy=\"70\" fill=\"#008000\" rx=\"11\" ry=\"11\" style=\"stroke: #A80036; stroke-width: 1.0;\"/><path d=\"M479.4063,70.375 L479.4063,74.0469 L481.0313,74.0469 Q482.2031,74.0469 482.6719,73.6563 Q483.1406,73.25 483.1406,72.25 Q483.1406,71.25 482.6406,70.8125 Q482.1563,70.375 481.0313,70.375 L479.4063,70.375 Z M479.4063,65.5469 L479.4063,68.4219 L481.0313,68.4219 Q481.9531,68.4219 482.3438,68.0938 Q482.75,67.75 482.75,67 Q482.75,66.2344 482.3438,65.8906 Q481.9375,65.5469 481.0313,65.5469 L479.4063,65.5469 Z M477.0313,63.5938 L481.0313,63.5938 Q483.0938,63.5938 484.1406,64.375 Q485.1875,65.1563 485.1875,66.7188 Q485.1875,67.9219 484.5625,68.5938 Q483.9531,69.2656 482.7656,69.375 Q484.1875,69.5156 484.9063,70.3281 Q485.625,71.1406 485.625,72.5938 Q485.625,74.3906 484.5469,75.2031 Q483.4688,76 481.0313,76 L477.0313,76 L477.0313,63.5938 Z \"/><text fill=\"#000000\" font-family=\"sans-serif\" font-size=\"12\" lengthAdjust=\"spacingAndGlyphs\" textLength=\"8\" x=\"495.5\" y=\"74.1543\">B</text><line style=\"stroke: #A80036; stroke-width: 1.5;\" x1=\"462\" x2=\"510\" y1=\"86\" y2=\"86\"/><text fill=\"#000000\" font-family=\"sans-serif\" font-size=\"11\" lengthAdjust=\"spacingAndGlyphs\" textLength=\"29\" x=\"467\" y=\"117.0151\">p1: P</text><text fill=\"#000000\" font-family=\"sans-serif\" font-size=\"11\" lengthAdjust=\"spacingAndGlyphs\" textLength=\"38\" x=\"467\" y=\"129.8198\">p2: ~P</text><line style=\"stroke: #A80036; stroke-width: 1.0;\" x1=\"462\" x2=\"471\" y1=\"100.4023\" y2=\"100.4023\"/><text fill=\"#000000\" font-family=\"sans-serif\" font-size=\"11\" lengthAdjust=\"spacingAndGlyphs\" textLength=\"30\" x=\"471\" y=\"103.7104\">ports</text><line style=\"stroke: #A80036; stroke-width: 1.0;\" x1=\"501\" x2=\"510\" y1=\"100.4023\" y2=\"100.4023\"/><!--MD5=[60a26617385b1d2d0262a64233df1f8d]\n",
       "class E6--><rect fill=\"#FEFECE\" filter=\"url(#fikdxtrlraea0)\" height=\"108.0234\" id=\"E6\" style=\"stroke: #A80036; stroke-width: 1.5;\" width=\"144\" x=\"282\" y=\"41\"/><ellipse cx=\"345.75\" cy=\"57\" fill=\"#008000\" rx=\"11\" ry=\"11\" style=\"stroke: #A80036; stroke-width: 1.0;\"/><path d=\"M344.6563,57.375 L344.6563,61.0469 L346.2813,61.0469 Q347.4531,61.0469 347.9219,60.6563 Q348.3906,60.25 348.3906,59.25 Q348.3906,58.25 347.8906,57.8125 Q347.4063,57.375 346.2813,57.375 L344.6563,57.375 Z M344.6563,52.5469 L344.6563,55.4219 L346.2813,55.4219 Q347.2031,55.4219 347.5938,55.0938 Q348,54.75 348,54 Q348,53.2344 347.5938,52.8906 Q347.1875,52.5469 346.2813,52.5469 L344.6563,52.5469 Z M342.2813,50.5938 L346.2813,50.5938 Q348.3438,50.5938 349.3906,51.375 Q350.4375,52.1563 350.4375,53.7188 Q350.4375,54.9219 349.8125,55.5938 Q349.2031,56.2656 348.0156,56.375 Q349.4375,56.5156 350.1563,57.3281 Q350.875,58.1406 350.875,59.5938 Q350.875,61.3906 349.7969,62.2031 Q348.7188,63 346.2813,63 L342.2813,63 L342.2813,50.5938 Z \"/><text fill=\"#000000\" font-family=\"sans-serif\" font-size=\"12\" lengthAdjust=\"spacingAndGlyphs\" textLength=\"8\" x=\"366.25\" y=\"61.1543\">A</text><line style=\"stroke: #A80036; stroke-width: 1.5;\" x1=\"283\" x2=\"425\" y1=\"73\" y2=\"73\"/><text fill=\"#000000\" font-family=\"sans-serif\" font-size=\"11\" lengthAdjust=\"spacingAndGlyphs\" textLength=\"29\" x=\"288\" y=\"104.0151\">p1: P</text><text fill=\"#000000\" font-family=\"sans-serif\" font-size=\"11\" font-style=\"italic\" lengthAdjust=\"spacingAndGlyphs\" textLength=\"132\" x=\"288\" y=\"116.8198\">:&gt;&gt;Connection::source</text><text fill=\"#000000\" font-family=\"sans-serif\" font-size=\"11\" lengthAdjust=\"spacingAndGlyphs\" textLength=\"38\" x=\"288\" y=\"129.6245\">p2: ~P</text><text fill=\"#000000\" font-family=\"sans-serif\" font-size=\"11\" font-style=\"italic\" lengthAdjust=\"spacingAndGlyphs\" textLength=\"127\" x=\"288\" y=\"142.4292\">:&gt;&gt;Connection::target</text><line style=\"stroke: #A80036; stroke-width: 1.0;\" x1=\"283\" x2=\"339\" y1=\"87.4023\" y2=\"87.4023\"/><text fill=\"#000000\" font-family=\"sans-serif\" font-size=\"11\" lengthAdjust=\"spacingAndGlyphs\" textLength=\"30\" x=\"339\" y=\"90.7104\">ports</text><line style=\"stroke: #A80036; stroke-width: 1.0;\" x1=\"369\" x2=\"425\" y1=\"87.4023\" y2=\"87.4023\"/><!--MD5=[fd4143e9d270a159db93a4ea2a975926]\n",
       "class E9--><rect fill=\"#FEFECE\" filter=\"url(#fikdxtrlraea0)\" height=\"108.0234\" id=\"E9\" style=\"stroke: #A80036; stroke-width: 1.5;\" width=\"131\" x=\"115.5\" y=\"41\"/><ellipse cx=\"175.25\" cy=\"57\" fill=\"#008000\" rx=\"11\" ry=\"11\" style=\"stroke: #A80036; stroke-width: 1.0;\"/><path d=\"M174.1563,57.375 L174.1563,61.0469 L175.7813,61.0469 Q176.9531,61.0469 177.4219,60.6563 Q177.8906,60.25 177.8906,59.25 Q177.8906,58.25 177.3906,57.8125 Q176.9063,57.375 175.7813,57.375 L174.1563,57.375 Z M174.1563,52.5469 L174.1563,55.4219 L175.7813,55.4219 Q176.7031,55.4219 177.0938,55.0938 Q177.5,54.75 177.5,54 Q177.5,53.2344 177.0938,52.8906 Q176.6875,52.5469 175.7813,52.5469 L174.1563,52.5469 Z M171.7813,50.5938 L175.7813,50.5938 Q177.8438,50.5938 178.8906,51.375 Q179.9375,52.1563 179.9375,53.7188 Q179.9375,54.9219 179.3125,55.5938 Q178.7031,56.2656 177.5156,56.375 Q178.9375,56.5156 179.6563,57.3281 Q180.375,58.1406 180.375,59.5938 Q180.375,61.3906 179.2969,62.2031 Q178.2188,63 175.7813,63 L171.7813,63 L171.7813,50.5938 Z \"/><text fill=\"#000000\" font-family=\"sans-serif\" font-size=\"12\" lengthAdjust=\"spacingAndGlyphs\" textLength=\"3\" x=\"195.75\" y=\"61.1543\">I</text><line style=\"stroke: #A80036; stroke-width: 1.5;\" x1=\"116.5\" x2=\"245.5\" y1=\"73\" y2=\"73\"/><text fill=\"#000000\" font-family=\"sans-serif\" font-size=\"11\" lengthAdjust=\"spacingAndGlyphs\" textLength=\"29\" x=\"121.5\" y=\"104.0151\">p1: P</text><text fill=\"#000000\" font-family=\"sans-serif\" font-size=\"11\" font-style=\"italic\" lengthAdjust=\"spacingAndGlyphs\" textLength=\"119\" x=\"121.5\" y=\"116.8198\">:&gt;&gt;Interface::source</text><text fill=\"#000000\" font-family=\"sans-serif\" font-size=\"11\" lengthAdjust=\"spacingAndGlyphs\" textLength=\"38\" x=\"121.5\" y=\"129.6245\">p2: ~P</text><text fill=\"#000000\" font-family=\"sans-serif\" font-size=\"11\" font-style=\"italic\" lengthAdjust=\"spacingAndGlyphs\" textLength=\"114\" x=\"121.5\" y=\"142.4292\">:&gt;&gt;Interface::target</text><line style=\"stroke: #A80036; stroke-width: 1.0;\" x1=\"116.5\" x2=\"166\" y1=\"87.4023\" y2=\"87.4023\"/><text fill=\"#000000\" font-family=\"sans-serif\" font-size=\"11\" lengthAdjust=\"spacingAndGlyphs\" textLength=\"30\" x=\"166\" y=\"90.7104\">ports</text><line style=\"stroke: #A80036; stroke-width: 1.0;\" x1=\"196\" x2=\"245.5\" y1=\"87.4023\" y2=\"87.4023\"/><!--MD5=[49a0ec8f00dab7302a31f22d0f0fe584]\n",
       "class E12--><rect fill=\"#FEFECE\" filter=\"url(#fikdxtrlraea0)\" height=\"40\" id=\"E12\" style=\"stroke: #A80036; stroke-width: 1.5;\" width=\"48\" x=\"32\" y=\"75\"/><ellipse cx=\"47\" cy=\"91\" fill=\"#008000\" rx=\"11\" ry=\"11\" style=\"stroke: #A80036; stroke-width: 1.0;\"/><path d=\"M45.9063,91.375 L45.9063,95.0469 L47.5313,95.0469 Q48.7031,95.0469 49.1719,94.6563 Q49.6406,94.25 49.6406,93.25 Q49.6406,92.25 49.1406,91.8125 Q48.6563,91.375 47.5313,91.375 L45.9063,91.375 Z M45.9063,86.5469 L45.9063,89.4219 L47.5313,89.4219 Q48.4531,89.4219 48.8438,89.0938 Q49.25,88.75 49.25,88 Q49.25,87.2344 48.8438,86.8906 Q48.4375,86.5469 47.5313,86.5469 L45.9063,86.5469 Z M43.5313,84.5938 L47.5313,84.5938 Q49.5938,84.5938 50.6406,85.375 Q51.6875,86.1563 51.6875,87.7188 Q51.6875,88.9219 51.0625,89.5938 Q50.4531,90.2656 49.2656,90.375 Q50.6875,90.5156 51.4063,91.3281 Q52.125,92.1406 52.125,93.5938 Q52.125,95.3906 51.0469,96.2031 Q49.9688,97 47.5313,97 L43.5313,97 L43.5313,84.5938 Z \"/><text fill=\"#000000\" font-family=\"sans-serif\" font-size=\"12\" lengthAdjust=\"spacingAndGlyphs\" textLength=\"16\" x=\"61\" y=\"95.1543\">B1</text><line style=\"stroke: #A80036; stroke-width: 1.5;\" x1=\"33\" x2=\"79\" y1=\"107\" y2=\"107\"/><!--MD5=[ee3c913d1a06f366521f9ef512b67efe]\n",
       "class E13--><rect fill=\"#FEFECE\" filter=\"url(#fikdxtrlraea0)\" height=\"88.3516\" id=\"E13\" rx=\"10\" ry=\"10\" style=\"stroke: #A80036; stroke-width: 1.5;\" width=\"74\" x=\"32\" y=\"209\"/><ellipse cx=\"47\" cy=\"227.9688\" fill=\"#32CD32\" rx=\"11\" ry=\"11\" style=\"stroke: #A80036; stroke-width: 1.0;\"/><path d=\"M46.7969,223.6406 L46.7969,227.2656 L47.7969,227.2656 Q49,227.2656 49.4844,226.8594 Q49.9688,226.4531 49.9688,225.4531 Q49.9688,224.4531 49.4844,224.0469 Q49,223.6406 47.7969,223.6406 L46.7969,223.6406 Z M44.3438,221.5781 L47.7031,221.5781 Q50.2656,221.5781 51.3906,222.5 Q52.5156,223.4063 52.5156,225.4531 Q52.5156,227.5 51.3906,228.4219 Q50.2656,229.3281 47.7031,229.3281 L46.7969,229.3281 L46.7969,233.9688 L44.3438,233.9688 L44.3438,221.5781 Z \"/><text fill=\"#000000\" font-family=\"sans-serif\" font-size=\"12\" font-style=\"italic\" lengthAdjust=\"spacingAndGlyphs\" textLength=\"40\" x=\"62\" y=\"225.1387\">«part»</text><text fill=\"#000000\" font-family=\"sans-serif\" font-size=\"12\" lengthAdjust=\"spacingAndGlyphs\" textLength=\"42\" x=\"61\" y=\"239.1074\">p: Part</text><line style=\"stroke: #A80036; stroke-width: 1.5;\" x1=\"33\" x2=\"105\" y1=\"246.9375\" y2=\"246.9375\"/><text fill=\"#000000\" font-family=\"sans-serif\" font-size=\"11\" lengthAdjust=\"spacingAndGlyphs\" textLength=\"29\" x=\"38\" y=\"277.9526\">p1: P</text><text fill=\"#000000\" font-family=\"sans-serif\" font-size=\"11\" lengthAdjust=\"spacingAndGlyphs\" textLength=\"38\" x=\"38\" y=\"290.7573\">p2: ~P</text><line style=\"stroke: #A80036; stroke-width: 1.0;\" x1=\"33\" x2=\"54\" y1=\"261.3398\" y2=\"261.3398\"/><text fill=\"#000000\" font-family=\"sans-serif\" font-size=\"11\" lengthAdjust=\"spacingAndGlyphs\" textLength=\"30\" x=\"54\" y=\"264.6479\">ports</text><line style=\"stroke: #A80036; stroke-width: 1.0;\" x1=\"84\" x2=\"105\" y1=\"261.3398\" y2=\"261.3398\"/><!--MD5=[062ed86c389d1a88f61c6380d0491e17]\n",
       "reverse link E12 to E13--><path d=\"M58.67,128.1 C60.62,151.43 63.27,183.26 65.4,208.82 \" fill=\"none\" id=\"E12&lt;-E13\" style=\"stroke: #A80036; stroke-width: 1.0;\"/><polygon fill=\"#A80036\" points=\"57.59,115.13,54.0981,121.4392,58.5789,127.0892,62.0708,120.78,57.59,115.13\" style=\"stroke: #A80036; stroke-width: 1.0;\"/><!--MD5=[58237ab7a399df8d40cbce96c8bd5ae9]\n",
       "@startuml\r\n",
       " \r\n",
       "package \"ConjugationTest\" as E1   {\r\n",
       "comp def \"P\" as E2  <<(D,brown)port def>> {\r\n",
       "}\r\n",
       "comp def \"B\" as E3  << (B,green) >> {\r\n",
       "- -ports- -\r\n",
       "p1: P\r\n",
       "p2: ~P\r\n",
       "}\r\n",
       "comp def \"A\" as E6  << (B,green) >> {\r\n",
       "- -ports- -\r\n",
       "p1: P\\n//:>>Connection::source// \r\n",
       "p2: ~P\\n//:>>Connection::target// \r\n",
       "}\r\n",
       "comp def \"I\" as E9  << (B,green) >> {\r\n",
       "- -ports- -\r\n",
       "p1: P\\n//:>>Interface::source// \r\n",
       "p2: ~P\\n//:>>Interface::target// \r\n",
       "}\r\n",
       "comp def \"B1\" as E12  << (B,green) >> {\r\n",
       "}\r\n",
       "comp usage \"p: Part\" as E13  << (P,limegreen) part>> {\r\n",
       "- -ports- -\r\n",
       "p1: P\r\n",
       "p2: ~P\r\n",
       "}\r\n",
       "E12 *- - E13\r\n",
       "}\r\n",
       "@enduml\r\n",
       "\n",
       "PlantUML version 1.2020.13(Sat Jun 13 12:26:38 UTC 2020)\n",
       "(EPL source distribution)\n",
       "Java Runtime: OpenJDK Runtime Environment\n",
       "JVM: OpenJDK 64-Bit Server VM\n",
       "Default Encoding: UTF-8\n",
       "Language: en\n",
       "Country: null\n",
       "--></g></svg>"
      ]
     },
     "execution_count": 35,
     "metadata": {},
     "output_type": "execute_result"
    }
   ],
   "source": [
    "%viz --style=\"PLANTUML\" --view=\"Sequence\" \"ConjugationTest\""
   ]
  },
  {
   "cell_type": "code",
   "execution_count": 36,
   "id": "beginning-nightlife",
   "metadata": {
    "execution": {
     "iopub.execute_input": "2021-03-25T16:02:23.321323Z",
     "iopub.status.busy": "2021-03-25T16:02:23.320762Z",
     "iopub.status.idle": "2021-03-25T16:02:24.932234Z",
     "shell.execute_reply": "2021-03-25T16:02:24.931521Z"
    }
   },
   "outputs": [
    {
     "data": {
      "image/svg+xml": [
       "<?xml version=\"1.0\" encoding=\"UTF-8\" standalone=\"no\"?><svg xmlns=\"http://www.w3.org/2000/svg\" xmlns:xlink=\"http://www.w3.org/1999/xlink\" contentScriptType=\"application/ecmascript\" contentStyleType=\"text/css\" height=\"325px\" preserveAspectRatio=\"none\" style=\"width:676px;height:325px;\" version=\"1.1\" viewBox=\"0 0 676 325\" width=\"676px\" zoomAndPan=\"magnify\"><defs><filter height=\"300%\" id=\"fikdxtrlraea0\" width=\"300%\" x=\"-1\" y=\"-1\"><feGaussianBlur result=\"blurOut\" stdDeviation=\"2.0\"/><feColorMatrix in=\"blurOut\" result=\"blurOut2\" type=\"matrix\" values=\"0 0 0 0 0 0 0 0 0 0 0 0 0 0 0 0 0 0 .4 0\"/><feOffset dx=\"4.0\" dy=\"4.0\" in=\"blurOut2\" result=\"blurOut3\"/><feBlend in=\"SourceGraphic\" in2=\"blurOut3\" mode=\"normal\"/></filter></defs><g><!--MD5=[fbc87193dbaf4d95561dea2c320d4a47]\n",
       "cluster E1--><polygon fill=\"#FFFFFF\" filter=\"url(#fikdxtrlraea0)\" points=\"16,6,151,6,158,28.2969,654,28.2969,654,313,16,313,16,6\" style=\"stroke: #000000; stroke-width: 1.5;\"/><line style=\"stroke: #000000; stroke-width: 1.5;\" x1=\"16\" x2=\"158\" y1=\"28.2969\" y2=\"28.2969\"/><text fill=\"#000000\" font-family=\"sans-serif\" font-size=\"14\" font-weight=\"bold\" lengthAdjust=\"spacingAndGlyphs\" textLength=\"129\" x=\"20\" y=\"20.9951\">ConjugationTest</text><!--MD5=[b4997ac47864f28c2f74865a473b2911]\n",
       "class E2--><rect fill=\"#FEFECE\" filter=\"url(#fikdxtrlraea0)\" height=\"45.9375\" id=\"E2\" style=\"stroke: #A80036; stroke-width: 1.5;\" width=\"92\" x=\"546\" y=\"72\"/><ellipse cx=\"561\" cy=\"90.9688\" fill=\"#A52A2A\" rx=\"11\" ry=\"11\" style=\"stroke: #A80036; stroke-width: 1.0;\"/><path d=\"M560.5938,86.7813 L560.5938,94.7656 L561.25,94.7656 Q562.6875,94.7656 563.2969,93.8594 Q563.9219,92.9375 563.9219,90.7656 Q563.9219,88.5938 563.2969,87.6875 Q562.6875,86.7813 561.25,86.7813 L560.5938,86.7813 Z M558.1406,84.5781 L560.7656,84.5781 Q563.7969,84.5781 565.125,86.0313 Q566.4688,87.4688 566.4688,90.7656 Q566.4688,94.0625 565.125,95.5156 Q563.7969,96.9688 560.7656,96.9688 L558.1406,96.9688 L558.1406,84.5781 Z \"/><text fill=\"#000000\" font-family=\"sans-serif\" font-size=\"12\" font-style=\"italic\" lengthAdjust=\"spacingAndGlyphs\" textLength=\"64\" x=\"573\" y=\"88.1387\">«port def»</text><text fill=\"#000000\" font-family=\"sans-serif\" font-size=\"12\" lengthAdjust=\"spacingAndGlyphs\" textLength=\"8\" x=\"601\" y=\"102.1074\">P</text><line style=\"stroke: #A80036; stroke-width: 1.5;\" x1=\"547\" x2=\"637\" y1=\"109.9375\" y2=\"109.9375\"/><!--MD5=[09b614a08d8cba4a07c9adeb5e0fee81]\n",
       "class E3--><rect fill=\"#FEFECE\" filter=\"url(#fikdxtrlraea0)\" height=\"82.4141\" id=\"E3\" style=\"stroke: #A80036; stroke-width: 1.5;\" width=\"50\" x=\"461\" y=\"54\"/><ellipse cx=\"480.5\" cy=\"70\" fill=\"#008000\" rx=\"11\" ry=\"11\" style=\"stroke: #A80036; stroke-width: 1.0;\"/><path d=\"M479.4063,70.375 L479.4063,74.0469 L481.0313,74.0469 Q482.2031,74.0469 482.6719,73.6563 Q483.1406,73.25 483.1406,72.25 Q483.1406,71.25 482.6406,70.8125 Q482.1563,70.375 481.0313,70.375 L479.4063,70.375 Z M479.4063,65.5469 L479.4063,68.4219 L481.0313,68.4219 Q481.9531,68.4219 482.3438,68.0938 Q482.75,67.75 482.75,67 Q482.75,66.2344 482.3438,65.8906 Q481.9375,65.5469 481.0313,65.5469 L479.4063,65.5469 Z M477.0313,63.5938 L481.0313,63.5938 Q483.0938,63.5938 484.1406,64.375 Q485.1875,65.1563 485.1875,66.7188 Q485.1875,67.9219 484.5625,68.5938 Q483.9531,69.2656 482.7656,69.375 Q484.1875,69.5156 484.9063,70.3281 Q485.625,71.1406 485.625,72.5938 Q485.625,74.3906 484.5469,75.2031 Q483.4688,76 481.0313,76 L477.0313,76 L477.0313,63.5938 Z \"/><text fill=\"#000000\" font-family=\"sans-serif\" font-size=\"12\" lengthAdjust=\"spacingAndGlyphs\" textLength=\"8\" x=\"495.5\" y=\"74.1543\">B</text><line style=\"stroke: #A80036; stroke-width: 1.5;\" x1=\"462\" x2=\"510\" y1=\"86\" y2=\"86\"/><text fill=\"#000000\" font-family=\"sans-serif\" font-size=\"11\" lengthAdjust=\"spacingAndGlyphs\" textLength=\"29\" x=\"467\" y=\"117.0151\">p1: P</text><text fill=\"#000000\" font-family=\"sans-serif\" font-size=\"11\" lengthAdjust=\"spacingAndGlyphs\" textLength=\"38\" x=\"467\" y=\"129.8198\">p2: ~P</text><line style=\"stroke: #A80036; stroke-width: 1.0;\" x1=\"462\" x2=\"471\" y1=\"100.4023\" y2=\"100.4023\"/><text fill=\"#000000\" font-family=\"sans-serif\" font-size=\"11\" lengthAdjust=\"spacingAndGlyphs\" textLength=\"30\" x=\"471\" y=\"103.7104\">ports</text><line style=\"stroke: #A80036; stroke-width: 1.0;\" x1=\"501\" x2=\"510\" y1=\"100.4023\" y2=\"100.4023\"/><!--MD5=[60a26617385b1d2d0262a64233df1f8d]\n",
       "class E6--><rect fill=\"#FEFECE\" filter=\"url(#fikdxtrlraea0)\" height=\"108.0234\" id=\"E6\" style=\"stroke: #A80036; stroke-width: 1.5;\" width=\"144\" x=\"282\" y=\"41\"/><ellipse cx=\"345.75\" cy=\"57\" fill=\"#008000\" rx=\"11\" ry=\"11\" style=\"stroke: #A80036; stroke-width: 1.0;\"/><path d=\"M344.6563,57.375 L344.6563,61.0469 L346.2813,61.0469 Q347.4531,61.0469 347.9219,60.6563 Q348.3906,60.25 348.3906,59.25 Q348.3906,58.25 347.8906,57.8125 Q347.4063,57.375 346.2813,57.375 L344.6563,57.375 Z M344.6563,52.5469 L344.6563,55.4219 L346.2813,55.4219 Q347.2031,55.4219 347.5938,55.0938 Q348,54.75 348,54 Q348,53.2344 347.5938,52.8906 Q347.1875,52.5469 346.2813,52.5469 L344.6563,52.5469 Z M342.2813,50.5938 L346.2813,50.5938 Q348.3438,50.5938 349.3906,51.375 Q350.4375,52.1563 350.4375,53.7188 Q350.4375,54.9219 349.8125,55.5938 Q349.2031,56.2656 348.0156,56.375 Q349.4375,56.5156 350.1563,57.3281 Q350.875,58.1406 350.875,59.5938 Q350.875,61.3906 349.7969,62.2031 Q348.7188,63 346.2813,63 L342.2813,63 L342.2813,50.5938 Z \"/><text fill=\"#000000\" font-family=\"sans-serif\" font-size=\"12\" lengthAdjust=\"spacingAndGlyphs\" textLength=\"8\" x=\"366.25\" y=\"61.1543\">A</text><line style=\"stroke: #A80036; stroke-width: 1.5;\" x1=\"283\" x2=\"425\" y1=\"73\" y2=\"73\"/><text fill=\"#000000\" font-family=\"sans-serif\" font-size=\"11\" lengthAdjust=\"spacingAndGlyphs\" textLength=\"29\" x=\"288\" y=\"104.0151\">p1: P</text><text fill=\"#000000\" font-family=\"sans-serif\" font-size=\"11\" font-style=\"italic\" lengthAdjust=\"spacingAndGlyphs\" textLength=\"132\" x=\"288\" y=\"116.8198\">:&gt;&gt;Connection::source</text><text fill=\"#000000\" font-family=\"sans-serif\" font-size=\"11\" lengthAdjust=\"spacingAndGlyphs\" textLength=\"38\" x=\"288\" y=\"129.6245\">p2: ~P</text><text fill=\"#000000\" font-family=\"sans-serif\" font-size=\"11\" font-style=\"italic\" lengthAdjust=\"spacingAndGlyphs\" textLength=\"127\" x=\"288\" y=\"142.4292\">:&gt;&gt;Connection::target</text><line style=\"stroke: #A80036; stroke-width: 1.0;\" x1=\"283\" x2=\"339\" y1=\"87.4023\" y2=\"87.4023\"/><text fill=\"#000000\" font-family=\"sans-serif\" font-size=\"11\" lengthAdjust=\"spacingAndGlyphs\" textLength=\"30\" x=\"339\" y=\"90.7104\">ports</text><line style=\"stroke: #A80036; stroke-width: 1.0;\" x1=\"369\" x2=\"425\" y1=\"87.4023\" y2=\"87.4023\"/><!--MD5=[fd4143e9d270a159db93a4ea2a975926]\n",
       "class E9--><rect fill=\"#FEFECE\" filter=\"url(#fikdxtrlraea0)\" height=\"108.0234\" id=\"E9\" style=\"stroke: #A80036; stroke-width: 1.5;\" width=\"131\" x=\"115.5\" y=\"41\"/><ellipse cx=\"175.25\" cy=\"57\" fill=\"#008000\" rx=\"11\" ry=\"11\" style=\"stroke: #A80036; stroke-width: 1.0;\"/><path d=\"M174.1563,57.375 L174.1563,61.0469 L175.7813,61.0469 Q176.9531,61.0469 177.4219,60.6563 Q177.8906,60.25 177.8906,59.25 Q177.8906,58.25 177.3906,57.8125 Q176.9063,57.375 175.7813,57.375 L174.1563,57.375 Z M174.1563,52.5469 L174.1563,55.4219 L175.7813,55.4219 Q176.7031,55.4219 177.0938,55.0938 Q177.5,54.75 177.5,54 Q177.5,53.2344 177.0938,52.8906 Q176.6875,52.5469 175.7813,52.5469 L174.1563,52.5469 Z M171.7813,50.5938 L175.7813,50.5938 Q177.8438,50.5938 178.8906,51.375 Q179.9375,52.1563 179.9375,53.7188 Q179.9375,54.9219 179.3125,55.5938 Q178.7031,56.2656 177.5156,56.375 Q178.9375,56.5156 179.6563,57.3281 Q180.375,58.1406 180.375,59.5938 Q180.375,61.3906 179.2969,62.2031 Q178.2188,63 175.7813,63 L171.7813,63 L171.7813,50.5938 Z \"/><text fill=\"#000000\" font-family=\"sans-serif\" font-size=\"12\" lengthAdjust=\"spacingAndGlyphs\" textLength=\"3\" x=\"195.75\" y=\"61.1543\">I</text><line style=\"stroke: #A80036; stroke-width: 1.5;\" x1=\"116.5\" x2=\"245.5\" y1=\"73\" y2=\"73\"/><text fill=\"#000000\" font-family=\"sans-serif\" font-size=\"11\" lengthAdjust=\"spacingAndGlyphs\" textLength=\"29\" x=\"121.5\" y=\"104.0151\">p1: P</text><text fill=\"#000000\" font-family=\"sans-serif\" font-size=\"11\" font-style=\"italic\" lengthAdjust=\"spacingAndGlyphs\" textLength=\"119\" x=\"121.5\" y=\"116.8198\">:&gt;&gt;Interface::source</text><text fill=\"#000000\" font-family=\"sans-serif\" font-size=\"11\" lengthAdjust=\"spacingAndGlyphs\" textLength=\"38\" x=\"121.5\" y=\"129.6245\">p2: ~P</text><text fill=\"#000000\" font-family=\"sans-serif\" font-size=\"11\" font-style=\"italic\" lengthAdjust=\"spacingAndGlyphs\" textLength=\"114\" x=\"121.5\" y=\"142.4292\">:&gt;&gt;Interface::target</text><line style=\"stroke: #A80036; stroke-width: 1.0;\" x1=\"116.5\" x2=\"166\" y1=\"87.4023\" y2=\"87.4023\"/><text fill=\"#000000\" font-family=\"sans-serif\" font-size=\"11\" lengthAdjust=\"spacingAndGlyphs\" textLength=\"30\" x=\"166\" y=\"90.7104\">ports</text><line style=\"stroke: #A80036; stroke-width: 1.0;\" x1=\"196\" x2=\"245.5\" y1=\"87.4023\" y2=\"87.4023\"/><!--MD5=[49a0ec8f00dab7302a31f22d0f0fe584]\n",
       "class E12--><rect fill=\"#FEFECE\" filter=\"url(#fikdxtrlraea0)\" height=\"40\" id=\"E12\" style=\"stroke: #A80036; stroke-width: 1.5;\" width=\"48\" x=\"32\" y=\"75\"/><ellipse cx=\"47\" cy=\"91\" fill=\"#008000\" rx=\"11\" ry=\"11\" style=\"stroke: #A80036; stroke-width: 1.0;\"/><path d=\"M45.9063,91.375 L45.9063,95.0469 L47.5313,95.0469 Q48.7031,95.0469 49.1719,94.6563 Q49.6406,94.25 49.6406,93.25 Q49.6406,92.25 49.1406,91.8125 Q48.6563,91.375 47.5313,91.375 L45.9063,91.375 Z M45.9063,86.5469 L45.9063,89.4219 L47.5313,89.4219 Q48.4531,89.4219 48.8438,89.0938 Q49.25,88.75 49.25,88 Q49.25,87.2344 48.8438,86.8906 Q48.4375,86.5469 47.5313,86.5469 L45.9063,86.5469 Z M43.5313,84.5938 L47.5313,84.5938 Q49.5938,84.5938 50.6406,85.375 Q51.6875,86.1563 51.6875,87.7188 Q51.6875,88.9219 51.0625,89.5938 Q50.4531,90.2656 49.2656,90.375 Q50.6875,90.5156 51.4063,91.3281 Q52.125,92.1406 52.125,93.5938 Q52.125,95.3906 51.0469,96.2031 Q49.9688,97 47.5313,97 L43.5313,97 L43.5313,84.5938 Z \"/><text fill=\"#000000\" font-family=\"sans-serif\" font-size=\"12\" lengthAdjust=\"spacingAndGlyphs\" textLength=\"16\" x=\"61\" y=\"95.1543\">B1</text><line style=\"stroke: #A80036; stroke-width: 1.5;\" x1=\"33\" x2=\"79\" y1=\"107\" y2=\"107\"/><!--MD5=[ee3c913d1a06f366521f9ef512b67efe]\n",
       "class E13--><rect fill=\"#FEFECE\" filter=\"url(#fikdxtrlraea0)\" height=\"88.3516\" id=\"E13\" rx=\"10\" ry=\"10\" style=\"stroke: #A80036; stroke-width: 1.5;\" width=\"74\" x=\"32\" y=\"209\"/><ellipse cx=\"47\" cy=\"227.9688\" fill=\"#32CD32\" rx=\"11\" ry=\"11\" style=\"stroke: #A80036; stroke-width: 1.0;\"/><path d=\"M46.7969,223.6406 L46.7969,227.2656 L47.7969,227.2656 Q49,227.2656 49.4844,226.8594 Q49.9688,226.4531 49.9688,225.4531 Q49.9688,224.4531 49.4844,224.0469 Q49,223.6406 47.7969,223.6406 L46.7969,223.6406 Z M44.3438,221.5781 L47.7031,221.5781 Q50.2656,221.5781 51.3906,222.5 Q52.5156,223.4063 52.5156,225.4531 Q52.5156,227.5 51.3906,228.4219 Q50.2656,229.3281 47.7031,229.3281 L46.7969,229.3281 L46.7969,233.9688 L44.3438,233.9688 L44.3438,221.5781 Z \"/><text fill=\"#000000\" font-family=\"sans-serif\" font-size=\"12\" font-style=\"italic\" lengthAdjust=\"spacingAndGlyphs\" textLength=\"40\" x=\"62\" y=\"225.1387\">«part»</text><text fill=\"#000000\" font-family=\"sans-serif\" font-size=\"12\" lengthAdjust=\"spacingAndGlyphs\" textLength=\"42\" x=\"61\" y=\"239.1074\">p: Part</text><line style=\"stroke: #A80036; stroke-width: 1.5;\" x1=\"33\" x2=\"105\" y1=\"246.9375\" y2=\"246.9375\"/><text fill=\"#000000\" font-family=\"sans-serif\" font-size=\"11\" lengthAdjust=\"spacingAndGlyphs\" textLength=\"29\" x=\"38\" y=\"277.9526\">p1: P</text><text fill=\"#000000\" font-family=\"sans-serif\" font-size=\"11\" lengthAdjust=\"spacingAndGlyphs\" textLength=\"38\" x=\"38\" y=\"290.7573\">p2: ~P</text><line style=\"stroke: #A80036; stroke-width: 1.0;\" x1=\"33\" x2=\"54\" y1=\"261.3398\" y2=\"261.3398\"/><text fill=\"#000000\" font-family=\"sans-serif\" font-size=\"11\" lengthAdjust=\"spacingAndGlyphs\" textLength=\"30\" x=\"54\" y=\"264.6479\">ports</text><line style=\"stroke: #A80036; stroke-width: 1.0;\" x1=\"84\" x2=\"105\" y1=\"261.3398\" y2=\"261.3398\"/><!--MD5=[062ed86c389d1a88f61c6380d0491e17]\n",
       "reverse link E12 to E13--><path d=\"M58.67,128.1 C60.62,151.43 63.27,183.26 65.4,208.82 \" fill=\"none\" id=\"E12&lt;-E13\" style=\"stroke: #A80036; stroke-width: 1.0;\"/><polygon fill=\"#A80036\" points=\"57.59,115.13,54.0981,121.4392,58.5789,127.0892,62.0708,120.78,57.59,115.13\" style=\"stroke: #A80036; stroke-width: 1.0;\"/><!--MD5=[58237ab7a399df8d40cbce96c8bd5ae9]\n",
       "@startuml\r\n",
       " \r\n",
       "package \"ConjugationTest\" as E1   {\r\n",
       "comp def \"P\" as E2  <<(D,brown)port def>> {\r\n",
       "}\r\n",
       "comp def \"B\" as E3  << (B,green) >> {\r\n",
       "- -ports- -\r\n",
       "p1: P\r\n",
       "p2: ~P\r\n",
       "}\r\n",
       "comp def \"A\" as E6  << (B,green) >> {\r\n",
       "- -ports- -\r\n",
       "p1: P\\n//:>>Connection::source// \r\n",
       "p2: ~P\\n//:>>Connection::target// \r\n",
       "}\r\n",
       "comp def \"I\" as E9  << (B,green) >> {\r\n",
       "- -ports- -\r\n",
       "p1: P\\n//:>>Interface::source// \r\n",
       "p2: ~P\\n//:>>Interface::target// \r\n",
       "}\r\n",
       "comp def \"B1\" as E12  << (B,green) >> {\r\n",
       "}\r\n",
       "comp usage \"p: Part\" as E13  << (P,limegreen) part>> {\r\n",
       "- -ports- -\r\n",
       "p1: P\r\n",
       "p2: ~P\r\n",
       "}\r\n",
       "E12 *- - E13\r\n",
       "}\r\n",
       "@enduml\r\n",
       "\n",
       "PlantUML version 1.2020.13(Sat Jun 13 12:26:38 UTC 2020)\n",
       "(EPL source distribution)\n",
       "Java Runtime: OpenJDK Runtime Environment\n",
       "JVM: OpenJDK 64-Bit Server VM\n",
       "Default Encoding: UTF-8\n",
       "Language: en\n",
       "Country: null\n",
       "--></g></svg>"
      ]
     },
     "execution_count": 36,
     "metadata": {},
     "output_type": "execute_result"
    }
   ],
   "source": [
    "%viz --style=\"PLANTUML\" --view=\"MIXED\" \"ConjugationTest\""
   ]
  },
  {
   "cell_type": "code",
   "execution_count": 37,
   "id": "environmental-thickness",
   "metadata": {
    "execution": {
     "iopub.execute_input": "2021-03-25T16:02:24.987383Z",
     "iopub.status.busy": "2021-03-25T16:02:24.986045Z",
     "iopub.status.idle": "2021-03-25T16:02:26.622335Z",
     "shell.execute_reply": "2021-03-25T16:02:26.622735Z"
    }
   },
   "outputs": [
    {
     "data": {
      "image/svg+xml": [
       "<?xml version=\"1.0\" encoding=\"UTF-8\" standalone=\"no\"?><svg xmlns=\"http://www.w3.org/2000/svg\" xmlns:xlink=\"http://www.w3.org/1999/xlink\" contentScriptType=\"application/ecmascript\" contentStyleType=\"text/css\" height=\"331px\" preserveAspectRatio=\"none\" style=\"width:684px;height:331px;\" version=\"1.1\" viewBox=\"0 0 684 331\" width=\"684px\" zoomAndPan=\"magnify\"><defs/><g><!--MD5=[fbc87193dbaf4d95561dea2c320d4a47]\n",
       "cluster E1--><polygon fill=\"#FFFFFF\" points=\"16,6,151,6,158,28.2969,662,28.2969,662,319,16,319,16,6\" style=\"stroke: #000000; stroke-width: 1.5;\"/><line style=\"stroke: #000000; stroke-width: 1.5;\" x1=\"16\" x2=\"158\" y1=\"28.2969\" y2=\"28.2969\"/><text fill=\"#000000\" font-family=\"sans-serif\" font-size=\"14\" font-weight=\"bold\" lengthAdjust=\"spacingAndGlyphs\" textLength=\"129\" x=\"20\" y=\"20.9951\">ConjugationTest</text><!--MD5=[b4997ac47864f28c2f74865a473b2911]\n",
       "class E2--><rect fill=\"#FFFFFF\" height=\"45.9375\" id=\"E2\" style=\"stroke: #383838; stroke-width: 1.5;\" width=\"66\" x=\"580\" y=\"75\"/><text fill=\"#000000\" font-family=\"sans-serif\" font-size=\"12\" font-style=\"italic\" lengthAdjust=\"spacingAndGlyphs\" textLength=\"64\" x=\"581\" y=\"91.1387\">«port def»</text><text fill=\"#000000\" font-family=\"sans-serif\" font-size=\"12\" lengthAdjust=\"spacingAndGlyphs\" textLength=\"8\" x=\"609\" y=\"105.1074\">P</text><line style=\"stroke: #383838; stroke-width: 1.5;\" x1=\"581\" x2=\"645\" y1=\"112.9375\" y2=\"112.9375\"/><!--MD5=[09b614a08d8cba4a07c9adeb5e0fee81]\n",
       "class E3--><rect fill=\"#FFFFFF\" height=\"88.3516\" id=\"E3\" style=\"stroke: #383838; stroke-width: 1.5;\" width=\"66\" x=\"479\" y=\"54\"/><text fill=\"#000000\" font-family=\"sans-serif\" font-size=\"12\" font-style=\"italic\" lengthAdjust=\"spacingAndGlyphs\" textLength=\"64\" x=\"480\" y=\"70.1387\">«part def»</text><text fill=\"#000000\" font-family=\"sans-serif\" font-size=\"12\" lengthAdjust=\"spacingAndGlyphs\" textLength=\"8\" x=\"508\" y=\"84.1074\">B</text><line style=\"stroke: #383838; stroke-width: 1.5;\" x1=\"480\" x2=\"544\" y1=\"91.9375\" y2=\"91.9375\"/><text fill=\"#000000\" font-family=\"sans-serif\" font-size=\"11\" lengthAdjust=\"spacingAndGlyphs\" textLength=\"29\" x=\"485\" y=\"122.9526\">p1: P</text><text fill=\"#000000\" font-family=\"sans-serif\" font-size=\"11\" lengthAdjust=\"spacingAndGlyphs\" textLength=\"38\" x=\"485\" y=\"135.7573\">p2: ~P</text><line style=\"stroke: #383838; stroke-width: 1.0;\" x1=\"480\" x2=\"497\" y1=\"106.3398\" y2=\"106.3398\"/><text fill=\"#000000\" font-family=\"sans-serif\" font-size=\"11\" lengthAdjust=\"spacingAndGlyphs\" textLength=\"30\" x=\"497\" y=\"109.6479\">ports</text><line style=\"stroke: #383838; stroke-width: 1.0;\" x1=\"527\" x2=\"544\" y1=\"106.3398\" y2=\"106.3398\"/><!--MD5=[60a26617385b1d2d0262a64233df1f8d]\n",
       "class E6--><rect fill=\"#FFFFFF\" height=\"113.9609\" id=\"E6\" style=\"stroke: #383838; stroke-width: 1.5;\" width=\"144\" x=\"300\" y=\"41\"/><text fill=\"#000000\" font-family=\"sans-serif\" font-size=\"12\" font-style=\"italic\" lengthAdjust=\"spacingAndGlyphs\" textLength=\"108\" x=\"318\" y=\"57.1387\">«connection def»</text><text fill=\"#000000\" font-family=\"sans-serif\" font-size=\"12\" lengthAdjust=\"spacingAndGlyphs\" textLength=\"8\" x=\"368\" y=\"71.1074\">A</text><line style=\"stroke: #383838; stroke-width: 1.5;\" x1=\"301\" x2=\"443\" y1=\"78.9375\" y2=\"78.9375\"/><text fill=\"#000000\" font-family=\"sans-serif\" font-size=\"11\" lengthAdjust=\"spacingAndGlyphs\" textLength=\"29\" x=\"306\" y=\"109.9526\">p1: P</text><text fill=\"#000000\" font-family=\"sans-serif\" font-size=\"11\" font-style=\"italic\" lengthAdjust=\"spacingAndGlyphs\" textLength=\"132\" x=\"306\" y=\"122.7573\">:&gt;&gt;Connection::source</text><text fill=\"#000000\" font-family=\"sans-serif\" font-size=\"11\" lengthAdjust=\"spacingAndGlyphs\" textLength=\"38\" x=\"306\" y=\"135.562\">p2: ~P</text><text fill=\"#000000\" font-family=\"sans-serif\" font-size=\"11\" font-style=\"italic\" lengthAdjust=\"spacingAndGlyphs\" textLength=\"127\" x=\"306\" y=\"148.3667\">:&gt;&gt;Connection::target</text><line style=\"stroke: #383838; stroke-width: 1.0;\" x1=\"301\" x2=\"357\" y1=\"93.3398\" y2=\"93.3398\"/><text fill=\"#000000\" font-family=\"sans-serif\" font-size=\"11\" lengthAdjust=\"spacingAndGlyphs\" textLength=\"30\" x=\"357\" y=\"96.6479\">ports</text><line style=\"stroke: #383838; stroke-width: 1.0;\" x1=\"387\" x2=\"443\" y1=\"93.3398\" y2=\"93.3398\"/><!--MD5=[fd4143e9d270a159db93a4ea2a975926]\n",
       "class E9--><rect fill=\"#FFFFFF\" height=\"113.9609\" id=\"E9\" style=\"stroke: #383838; stroke-width: 1.5;\" width=\"131\" x=\"133.5\" y=\"41\"/><text fill=\"#000000\" font-family=\"sans-serif\" font-size=\"12\" font-style=\"italic\" lengthAdjust=\"spacingAndGlyphs\" textLength=\"94\" x=\"152\" y=\"57.1387\">«interface def»</text><text fill=\"#000000\" font-family=\"sans-serif\" font-size=\"12\" lengthAdjust=\"spacingAndGlyphs\" textLength=\"3\" x=\"197.5\" y=\"71.1074\">I</text><line style=\"stroke: #383838; stroke-width: 1.5;\" x1=\"134.5\" x2=\"263.5\" y1=\"78.9375\" y2=\"78.9375\"/><text fill=\"#000000\" font-family=\"sans-serif\" font-size=\"11\" lengthAdjust=\"spacingAndGlyphs\" textLength=\"29\" x=\"139.5\" y=\"109.9526\">p1: P</text><text fill=\"#000000\" font-family=\"sans-serif\" font-size=\"11\" font-style=\"italic\" lengthAdjust=\"spacingAndGlyphs\" textLength=\"119\" x=\"139.5\" y=\"122.7573\">:&gt;&gt;Interface::source</text><text fill=\"#000000\" font-family=\"sans-serif\" font-size=\"11\" lengthAdjust=\"spacingAndGlyphs\" textLength=\"38\" x=\"139.5\" y=\"135.562\">p2: ~P</text><text fill=\"#000000\" font-family=\"sans-serif\" font-size=\"11\" font-style=\"italic\" lengthAdjust=\"spacingAndGlyphs\" textLength=\"114\" x=\"139.5\" y=\"148.3667\">:&gt;&gt;Interface::target</text><line style=\"stroke: #383838; stroke-width: 1.0;\" x1=\"134.5\" x2=\"184\" y1=\"93.3398\" y2=\"93.3398\"/><text fill=\"#000000\" font-family=\"sans-serif\" font-size=\"11\" lengthAdjust=\"spacingAndGlyphs\" textLength=\"30\" x=\"184\" y=\"96.6479\">ports</text><line style=\"stroke: #383838; stroke-width: 1.0;\" x1=\"214\" x2=\"263.5\" y1=\"93.3398\" y2=\"93.3398\"/><!--MD5=[49a0ec8f00dab7302a31f22d0f0fe584]\n",
       "class E12--><rect fill=\"#FFFFFF\" height=\"45.9375\" id=\"E12\" style=\"stroke: #383838; stroke-width: 1.5;\" width=\"66\" x=\"32\" y=\"75\"/><text fill=\"#000000\" font-family=\"sans-serif\" font-size=\"12\" font-style=\"italic\" lengthAdjust=\"spacingAndGlyphs\" textLength=\"64\" x=\"33\" y=\"91.1387\">«part def»</text><text fill=\"#000000\" font-family=\"sans-serif\" font-size=\"12\" lengthAdjust=\"spacingAndGlyphs\" textLength=\"16\" x=\"57\" y=\"105.1074\">B1</text><line style=\"stroke: #383838; stroke-width: 1.5;\" x1=\"33\" x2=\"97\" y1=\"112.9375\" y2=\"112.9375\"/><!--MD5=[ee3c913d1a06f366521f9ef512b67efe]\n",
       "class E13--><rect fill=\"#FFFFFF\" height=\"88.3516\" id=\"E13\" rx=\"10\" ry=\"10\" style=\"stroke: #383838; stroke-width: 1.5;\" width=\"50\" x=\"40\" y=\"215\"/><text fill=\"#000000\" font-family=\"sans-serif\" font-size=\"12\" font-style=\"italic\" lengthAdjust=\"spacingAndGlyphs\" textLength=\"40\" x=\"45\" y=\"231.1387\">«part»</text><text fill=\"#000000\" font-family=\"sans-serif\" font-size=\"12\" lengthAdjust=\"spacingAndGlyphs\" textLength=\"42\" x=\"44\" y=\"245.1074\">p: Part</text><line style=\"stroke: #383838; stroke-width: 1.5;\" x1=\"41\" x2=\"89\" y1=\"252.9375\" y2=\"252.9375\"/><text fill=\"#000000\" font-family=\"sans-serif\" font-size=\"11\" lengthAdjust=\"spacingAndGlyphs\" textLength=\"29\" x=\"46\" y=\"283.9526\">p1: P</text><text fill=\"#000000\" font-family=\"sans-serif\" font-size=\"11\" lengthAdjust=\"spacingAndGlyphs\" textLength=\"38\" x=\"46\" y=\"296.7573\">p2: ~P</text><line style=\"stroke: #383838; stroke-width: 1.0;\" x1=\"41\" x2=\"50\" y1=\"267.3398\" y2=\"267.3398\"/><text fill=\"#000000\" font-family=\"sans-serif\" font-size=\"11\" lengthAdjust=\"spacingAndGlyphs\" textLength=\"30\" x=\"50\" y=\"270.6479\">ports</text><line style=\"stroke: #383838; stroke-width: 1.0;\" x1=\"80\" x2=\"89\" y1=\"267.3398\" y2=\"267.3398\"/><!--MD5=[062ed86c389d1a88f61c6380d0491e17]\n",
       "reverse link E12 to E13--><path d=\"M65,134.11 C65,157.9 65,189.5 65,214.83 \" fill=\"none\" id=\"E12&lt;-E13\" style=\"stroke: #383838; stroke-width: 1.0;\"/><polygon fill=\"#383838\" points=\"65,121.11,61,127.11,65,133.11,69,127.11,65,121.11\" style=\"stroke: #383838; stroke-width: 1.0;\"/><!--MD5=[7b17ddd0454c8a68b32ebbd3b296a5ce]\n",
       "@startuml\r\n",
       "skinparam monochrome true\r\n",
       "skinparam classbackgroundcolor white\r\n",
       "skinparam shadowing false\r\n",
       "skinparam wrapWidth 300\r\n",
       "hide circle\r\n",
       "\r\n",
       "package \"ConjugationTest\" as E1   {\r\n",
       "comp def \"P\" as E2  <<(T,blue)port def>> {\r\n",
       "}\r\n",
       "comp def \"B\" as E3  <<(T,blue)part def>> {\r\n",
       "- -ports- -\r\n",
       "p1: P\r\n",
       "p2: ~P\r\n",
       "}\r\n",
       "comp def \"A\" as E6  <<(T,blue)connection def>> {\r\n",
       "- -ports- -\r\n",
       "p1: P\\n//:>>Connection::source// \r\n",
       "p2: ~P\\n//:>>Connection::target// \r\n",
       "}\r\n",
       "comp def \"I\" as E9  <<(T,blue)interface def>> {\r\n",
       "- -ports- -\r\n",
       "p1: P\\n//:>>Interface::source// \r\n",
       "p2: ~P\\n//:>>Interface::target// \r\n",
       "}\r\n",
       "comp def \"B1\" as E12  <<(T,blue)part def>> {\r\n",
       "}\r\n",
       "comp usage \"p: Part\" as E13  <<(T,blue)part>> {\r\n",
       "- -ports- -\r\n",
       "p1: P\r\n",
       "p2: ~P\r\n",
       "}\r\n",
       "E12 *- - E13\r\n",
       "}\r\n",
       "@enduml\r\n",
       "\n",
       "PlantUML version 1.2020.13(Sat Jun 13 12:26:38 UTC 2020)\n",
       "(EPL source distribution)\n",
       "Java Runtime: OpenJDK Runtime Environment\n",
       "JVM: OpenJDK 64-Bit Server VM\n",
       "Default Encoding: UTF-8\n",
       "Language: en\n",
       "Country: null\n",
       "--></g></svg>"
      ]
     },
     "execution_count": 37,
     "metadata": {},
     "output_type": "execute_result"
    }
   ],
   "source": [
    "%viz --style=\"DEFAULT\" --view=\"Default\" \"ConjugationTest\""
   ]
  },
  {
   "cell_type": "code",
   "execution_count": 38,
   "id": "sublime-union",
   "metadata": {
    "execution": {
     "iopub.execute_input": "2021-03-25T16:02:26.678252Z",
     "iopub.status.busy": "2021-03-25T16:02:26.677680Z",
     "iopub.status.idle": "2021-03-25T16:02:28.263004Z",
     "shell.execute_reply": "2021-03-25T16:02:28.261629Z"
    }
   },
   "outputs": [
    {
     "data": {
      "image/svg+xml": [
       "<?xml version=\"1.0\" encoding=\"UTF-8\" standalone=\"no\"?><svg xmlns=\"http://www.w3.org/2000/svg\" xmlns:xlink=\"http://www.w3.org/1999/xlink\" contentScriptType=\"application/ecmascript\" contentStyleType=\"text/css\" height=\"331px\" preserveAspectRatio=\"none\" style=\"width:684px;height:331px;\" version=\"1.1\" viewBox=\"0 0 684 331\" width=\"684px\" zoomAndPan=\"magnify\"><defs/><g><!--MD5=[fbc87193dbaf4d95561dea2c320d4a47]\n",
       "cluster E1--><polygon fill=\"#FFFFFF\" points=\"16,6,151,6,158,28.2969,662,28.2969,662,319,16,319,16,6\" style=\"stroke: #000000; stroke-width: 1.5;\"/><line style=\"stroke: #000000; stroke-width: 1.5;\" x1=\"16\" x2=\"158\" y1=\"28.2969\" y2=\"28.2969\"/><text fill=\"#000000\" font-family=\"sans-serif\" font-size=\"14\" font-weight=\"bold\" lengthAdjust=\"spacingAndGlyphs\" textLength=\"129\" x=\"20\" y=\"20.9951\">ConjugationTest</text><!--MD5=[b4997ac47864f28c2f74865a473b2911]\n",
       "class E2--><rect fill=\"#FFFFFF\" height=\"45.9375\" id=\"E2\" style=\"stroke: #383838; stroke-width: 1.5;\" width=\"66\" x=\"580\" y=\"75\"/><text fill=\"#000000\" font-family=\"sans-serif\" font-size=\"12\" font-style=\"italic\" lengthAdjust=\"spacingAndGlyphs\" textLength=\"64\" x=\"581\" y=\"91.1387\">«port def»</text><text fill=\"#000000\" font-family=\"sans-serif\" font-size=\"12\" lengthAdjust=\"spacingAndGlyphs\" textLength=\"8\" x=\"609\" y=\"105.1074\">P</text><line style=\"stroke: #383838; stroke-width: 1.5;\" x1=\"581\" x2=\"645\" y1=\"112.9375\" y2=\"112.9375\"/><!--MD5=[09b614a08d8cba4a07c9adeb5e0fee81]\n",
       "class E3--><rect fill=\"#FFFFFF\" height=\"88.3516\" id=\"E3\" style=\"stroke: #383838; stroke-width: 1.5;\" width=\"66\" x=\"479\" y=\"54\"/><text fill=\"#000000\" font-family=\"sans-serif\" font-size=\"12\" font-style=\"italic\" lengthAdjust=\"spacingAndGlyphs\" textLength=\"64\" x=\"480\" y=\"70.1387\">«part def»</text><text fill=\"#000000\" font-family=\"sans-serif\" font-size=\"12\" lengthAdjust=\"spacingAndGlyphs\" textLength=\"8\" x=\"508\" y=\"84.1074\">B</text><line style=\"stroke: #383838; stroke-width: 1.5;\" x1=\"480\" x2=\"544\" y1=\"91.9375\" y2=\"91.9375\"/><text fill=\"#000000\" font-family=\"sans-serif\" font-size=\"11\" lengthAdjust=\"spacingAndGlyphs\" textLength=\"29\" x=\"485\" y=\"122.9526\">p1: P</text><text fill=\"#000000\" font-family=\"sans-serif\" font-size=\"11\" lengthAdjust=\"spacingAndGlyphs\" textLength=\"38\" x=\"485\" y=\"135.7573\">p2: ~P</text><line style=\"stroke: #383838; stroke-width: 1.0;\" x1=\"480\" x2=\"497\" y1=\"106.3398\" y2=\"106.3398\"/><text fill=\"#000000\" font-family=\"sans-serif\" font-size=\"11\" lengthAdjust=\"spacingAndGlyphs\" textLength=\"30\" x=\"497\" y=\"109.6479\">ports</text><line style=\"stroke: #383838; stroke-width: 1.0;\" x1=\"527\" x2=\"544\" y1=\"106.3398\" y2=\"106.3398\"/><!--MD5=[60a26617385b1d2d0262a64233df1f8d]\n",
       "class E6--><rect fill=\"#FFFFFF\" height=\"113.9609\" id=\"E6\" style=\"stroke: #383838; stroke-width: 1.5;\" width=\"144\" x=\"300\" y=\"41\"/><text fill=\"#000000\" font-family=\"sans-serif\" font-size=\"12\" font-style=\"italic\" lengthAdjust=\"spacingAndGlyphs\" textLength=\"108\" x=\"318\" y=\"57.1387\">«connection def»</text><text fill=\"#000000\" font-family=\"sans-serif\" font-size=\"12\" lengthAdjust=\"spacingAndGlyphs\" textLength=\"8\" x=\"368\" y=\"71.1074\">A</text><line style=\"stroke: #383838; stroke-width: 1.5;\" x1=\"301\" x2=\"443\" y1=\"78.9375\" y2=\"78.9375\"/><text fill=\"#000000\" font-family=\"sans-serif\" font-size=\"11\" lengthAdjust=\"spacingAndGlyphs\" textLength=\"29\" x=\"306\" y=\"109.9526\">p1: P</text><text fill=\"#000000\" font-family=\"sans-serif\" font-size=\"11\" font-style=\"italic\" lengthAdjust=\"spacingAndGlyphs\" textLength=\"132\" x=\"306\" y=\"122.7573\">:&gt;&gt;Connection::source</text><text fill=\"#000000\" font-family=\"sans-serif\" font-size=\"11\" lengthAdjust=\"spacingAndGlyphs\" textLength=\"38\" x=\"306\" y=\"135.562\">p2: ~P</text><text fill=\"#000000\" font-family=\"sans-serif\" font-size=\"11\" font-style=\"italic\" lengthAdjust=\"spacingAndGlyphs\" textLength=\"127\" x=\"306\" y=\"148.3667\">:&gt;&gt;Connection::target</text><line style=\"stroke: #383838; stroke-width: 1.0;\" x1=\"301\" x2=\"357\" y1=\"93.3398\" y2=\"93.3398\"/><text fill=\"#000000\" font-family=\"sans-serif\" font-size=\"11\" lengthAdjust=\"spacingAndGlyphs\" textLength=\"30\" x=\"357\" y=\"96.6479\">ports</text><line style=\"stroke: #383838; stroke-width: 1.0;\" x1=\"387\" x2=\"443\" y1=\"93.3398\" y2=\"93.3398\"/><!--MD5=[fd4143e9d270a159db93a4ea2a975926]\n",
       "class E9--><rect fill=\"#FFFFFF\" height=\"113.9609\" id=\"E9\" style=\"stroke: #383838; stroke-width: 1.5;\" width=\"131\" x=\"133.5\" y=\"41\"/><text fill=\"#000000\" font-family=\"sans-serif\" font-size=\"12\" font-style=\"italic\" lengthAdjust=\"spacingAndGlyphs\" textLength=\"94\" x=\"152\" y=\"57.1387\">«interface def»</text><text fill=\"#000000\" font-family=\"sans-serif\" font-size=\"12\" lengthAdjust=\"spacingAndGlyphs\" textLength=\"3\" x=\"197.5\" y=\"71.1074\">I</text><line style=\"stroke: #383838; stroke-width: 1.5;\" x1=\"134.5\" x2=\"263.5\" y1=\"78.9375\" y2=\"78.9375\"/><text fill=\"#000000\" font-family=\"sans-serif\" font-size=\"11\" lengthAdjust=\"spacingAndGlyphs\" textLength=\"29\" x=\"139.5\" y=\"109.9526\">p1: P</text><text fill=\"#000000\" font-family=\"sans-serif\" font-size=\"11\" font-style=\"italic\" lengthAdjust=\"spacingAndGlyphs\" textLength=\"119\" x=\"139.5\" y=\"122.7573\">:&gt;&gt;Interface::source</text><text fill=\"#000000\" font-family=\"sans-serif\" font-size=\"11\" lengthAdjust=\"spacingAndGlyphs\" textLength=\"38\" x=\"139.5\" y=\"135.562\">p2: ~P</text><text fill=\"#000000\" font-family=\"sans-serif\" font-size=\"11\" font-style=\"italic\" lengthAdjust=\"spacingAndGlyphs\" textLength=\"114\" x=\"139.5\" y=\"148.3667\">:&gt;&gt;Interface::target</text><line style=\"stroke: #383838; stroke-width: 1.0;\" x1=\"134.5\" x2=\"184\" y1=\"93.3398\" y2=\"93.3398\"/><text fill=\"#000000\" font-family=\"sans-serif\" font-size=\"11\" lengthAdjust=\"spacingAndGlyphs\" textLength=\"30\" x=\"184\" y=\"96.6479\">ports</text><line style=\"stroke: #383838; stroke-width: 1.0;\" x1=\"214\" x2=\"263.5\" y1=\"93.3398\" y2=\"93.3398\"/><!--MD5=[49a0ec8f00dab7302a31f22d0f0fe584]\n",
       "class E12--><rect fill=\"#FFFFFF\" height=\"45.9375\" id=\"E12\" style=\"stroke: #383838; stroke-width: 1.5;\" width=\"66\" x=\"32\" y=\"75\"/><text fill=\"#000000\" font-family=\"sans-serif\" font-size=\"12\" font-style=\"italic\" lengthAdjust=\"spacingAndGlyphs\" textLength=\"64\" x=\"33\" y=\"91.1387\">«part def»</text><text fill=\"#000000\" font-family=\"sans-serif\" font-size=\"12\" lengthAdjust=\"spacingAndGlyphs\" textLength=\"16\" x=\"57\" y=\"105.1074\">B1</text><line style=\"stroke: #383838; stroke-width: 1.5;\" x1=\"33\" x2=\"97\" y1=\"112.9375\" y2=\"112.9375\"/><!--MD5=[ee3c913d1a06f366521f9ef512b67efe]\n",
       "class E13--><rect fill=\"#FFFFFF\" height=\"88.3516\" id=\"E13\" rx=\"10\" ry=\"10\" style=\"stroke: #383838; stroke-width: 1.5;\" width=\"50\" x=\"40\" y=\"215\"/><text fill=\"#000000\" font-family=\"sans-serif\" font-size=\"12\" font-style=\"italic\" lengthAdjust=\"spacingAndGlyphs\" textLength=\"40\" x=\"45\" y=\"231.1387\">«part»</text><text fill=\"#000000\" font-family=\"sans-serif\" font-size=\"12\" lengthAdjust=\"spacingAndGlyphs\" textLength=\"42\" x=\"44\" y=\"245.1074\">p: Part</text><line style=\"stroke: #383838; stroke-width: 1.5;\" x1=\"41\" x2=\"89\" y1=\"252.9375\" y2=\"252.9375\"/><text fill=\"#000000\" font-family=\"sans-serif\" font-size=\"11\" lengthAdjust=\"spacingAndGlyphs\" textLength=\"29\" x=\"46\" y=\"283.9526\">p1: P</text><text fill=\"#000000\" font-family=\"sans-serif\" font-size=\"11\" lengthAdjust=\"spacingAndGlyphs\" textLength=\"38\" x=\"46\" y=\"296.7573\">p2: ~P</text><line style=\"stroke: #383838; stroke-width: 1.0;\" x1=\"41\" x2=\"50\" y1=\"267.3398\" y2=\"267.3398\"/><text fill=\"#000000\" font-family=\"sans-serif\" font-size=\"11\" lengthAdjust=\"spacingAndGlyphs\" textLength=\"30\" x=\"50\" y=\"270.6479\">ports</text><line style=\"stroke: #383838; stroke-width: 1.0;\" x1=\"80\" x2=\"89\" y1=\"267.3398\" y2=\"267.3398\"/><!--MD5=[062ed86c389d1a88f61c6380d0491e17]\n",
       "reverse link E12 to E13--><path d=\"M65,134.11 C65,157.9 65,189.5 65,214.83 \" fill=\"none\" id=\"E12&lt;-E13\" style=\"stroke: #383838; stroke-width: 1.0;\"/><polygon fill=\"#383838\" points=\"65,121.11,61,127.11,65,133.11,69,127.11,65,121.11\" style=\"stroke: #383838; stroke-width: 1.0;\"/><!--MD5=[7b17ddd0454c8a68b32ebbd3b296a5ce]\n",
       "@startuml\r\n",
       "skinparam monochrome true\r\n",
       "skinparam classbackgroundcolor white\r\n",
       "skinparam shadowing false\r\n",
       "skinparam wrapWidth 300\r\n",
       "hide circle\r\n",
       "\r\n",
       "package \"ConjugationTest\" as E1   {\r\n",
       "comp def \"P\" as E2  <<(T,blue)port def>> {\r\n",
       "}\r\n",
       "comp def \"B\" as E3  <<(T,blue)part def>> {\r\n",
       "- -ports- -\r\n",
       "p1: P\r\n",
       "p2: ~P\r\n",
       "}\r\n",
       "comp def \"A\" as E6  <<(T,blue)connection def>> {\r\n",
       "- -ports- -\r\n",
       "p1: P\\n//:>>Connection::source// \r\n",
       "p2: ~P\\n//:>>Connection::target// \r\n",
       "}\r\n",
       "comp def \"I\" as E9  <<(T,blue)interface def>> {\r\n",
       "- -ports- -\r\n",
       "p1: P\\n//:>>Interface::source// \r\n",
       "p2: ~P\\n//:>>Interface::target// \r\n",
       "}\r\n",
       "comp def \"B1\" as E12  <<(T,blue)part def>> {\r\n",
       "}\r\n",
       "comp usage \"p: Part\" as E13  <<(T,blue)part>> {\r\n",
       "- -ports- -\r\n",
       "p1: P\r\n",
       "p2: ~P\r\n",
       "}\r\n",
       "E12 *- - E13\r\n",
       "}\r\n",
       "@enduml\r\n",
       "\n",
       "PlantUML version 1.2020.13(Sat Jun 13 12:26:38 UTC 2020)\n",
       "(EPL source distribution)\n",
       "Java Runtime: OpenJDK Runtime Environment\n",
       "JVM: OpenJDK 64-Bit Server VM\n",
       "Default Encoding: UTF-8\n",
       "Language: en\n",
       "Country: null\n",
       "--></g></svg>"
      ]
     },
     "execution_count": 38,
     "metadata": {},
     "output_type": "execute_result"
    }
   ],
   "source": [
    "%viz --style=\"DEFAULT\" --view=\"Tree\" \"ConjugationTest\""
   ]
  },
  {
   "cell_type": "code",
   "execution_count": 39,
   "id": "theoretical-gasoline",
   "metadata": {
    "execution": {
     "iopub.execute_input": "2021-03-25T16:02:28.314653Z",
     "iopub.status.busy": "2021-03-25T16:02:28.314094Z",
     "iopub.status.idle": "2021-03-25T16:02:28.317432Z",
     "shell.execute_reply": "2021-03-25T16:02:28.317860Z"
    }
   },
   "outputs": [
    {
     "data": {
      "text/plain": [
       "java.lang.IllegalArgumentException: Invalid View: State View candidates are: Default Tree StateMachine Interconnection Activity Sequence MIXED \n",
       "\tat org.omg.sysml.plantuml.SysML2PlantUMLSvc.setView(SysML2PlantUMLSvc.java:63)\n",
       "\tat org.omg.sysml.interactive.SysMLInteractive.viz(SysMLInteractive.java:286)\n",
       "\tat org.omg.sysml.jupyter.kernel.magic.Viz.viz(Viz.java:47)\n",
       "\tat jdk.internal.reflect.GeneratedMethodAccessor12.invoke(Unknown Source)\n",
       "\tat java.base/jdk.internal.reflect.DelegatingMethodAccessorImpl.invoke(DelegatingMethodAccessorImpl.java:43)\n",
       "\tat java.base/java.lang.reflect.Method.invoke(Method.java:568)\n",
       "\tat io.github.spencerpark.jupyter.kernel.magic.registry.Magics.invoke(Magics.java:89)\n",
       "\tat io.github.spencerpark.jupyter.kernel.magic.registry.Magics.access$000(Magics.java:8)\n",
       "\tat io.github.spencerpark.jupyter.kernel.magic.registry.Magics$LineReflectionMagicFunction.execute(Magics.java:149)\n",
       "\tat io.github.spencerpark.jupyter.kernel.magic.registry.Magics.applyLineMagic(Magics.java:26)\n",
       "\tat org.omg.sysml.jupyter.kernel.SysMLKernel.eval(SysMLKernel.java:76)\n",
       "\tat io.github.spencerpark.jupyter.kernel.BaseKernel.handleExecuteRequest(BaseKernel.java:334)\n",
       "\tat io.github.spencerpark.jupyter.channels.ShellChannel.lambda$bind$0(ShellChannel.java:64)\n",
       "\tat io.github.spencerpark.jupyter.channels.Loop.lambda$new$0(Loop.java:21)\n",
       "\tat io.github.spencerpark.jupyter.channels.Loop.run(Loop.java:78)\n"
      ]
     },
     "execution_count": 39,
     "metadata": {},
     "output_type": "execute_result"
    }
   ],
   "source": [
    "%viz --style=\"DEFAULT\" --view=\"State\" \"ConjugationTest\""
   ]
  },
  {
   "cell_type": "code",
   "execution_count": 40,
   "id": "small-genealogy",
   "metadata": {
    "execution": {
     "iopub.execute_input": "2021-03-25T16:02:28.370110Z",
     "iopub.status.busy": "2021-03-25T16:02:28.369379Z",
     "iopub.status.idle": "2021-03-25T16:02:28.470864Z",
     "shell.execute_reply": "2021-03-25T16:02:28.469339Z"
    }
   },
   "outputs": [
    {
     "data": {
      "image/svg+xml": [
       "<?xml version=\"1.0\" encoding=\"UTF-8\" standalone=\"no\"?><svg xmlns=\"http://www.w3.org/2000/svg\" xmlns:xlink=\"http://www.w3.org/1999/xlink\" contentScriptType=\"application/ecmascript\" contentStyleType=\"text/css\" height=\"252px\" preserveAspectRatio=\"none\" style=\"width:752px;height:252px;\" version=\"1.1\" viewBox=\"0 0 752 252\" width=\"752px\" zoomAndPan=\"magnify\"><defs/><g><!--MD5=[fbc87193dbaf4d95561dea2c320d4a47]\n",
       "cluster E1--><polygon fill=\"#FFFFFF\" points=\"16,6,151,6,158,28.2969,730,28.2969,730,240,16,240,16,6\" style=\"stroke: #000000; stroke-width: 1.5;\"/><line style=\"stroke: #000000; stroke-width: 1.5;\" x1=\"16\" x2=\"158\" y1=\"28.2969\" y2=\"28.2969\"/><text fill=\"#000000\" font-family=\"sans-serif\" font-size=\"14\" font-weight=\"bold\" lengthAdjust=\"spacingAndGlyphs\" textLength=\"129\" x=\"20\" y=\"20.9951\">ConjugationTest</text><!--MD5=[d5e69f78d87373223dbae638b30a9c99]\n",
       "cluster E3--><rect fill=\"#FFFFFF\" height=\"94\" style=\"stroke: #000000; stroke-width: 1.5;\" width=\"83\" x=\"590\" y=\"114\"/><text fill=\"#000000\" font-family=\"sans-serif\" font-size=\"14\" font-style=\"italic\" lengthAdjust=\"spacingAndGlyphs\" textLength=\"71\" x=\"596\" y=\"128.9951\">«part def»</text><text fill=\"#000000\" font-family=\"sans-serif\" font-size=\"14\" font-weight=\"bold\" lengthAdjust=\"spacingAndGlyphs\" textLength=\"10\" x=\"626.5\" y=\"145.292\">B</text><!--MD5=[14e3b0961a2654348d326746436168a1]\n",
       "cluster E6--><rect fill=\"#FFFFFF\" height=\"94\" style=\"stroke: #000000; stroke-width: 1.5;\" width=\"150\" x=\"436\" y=\"114\"/><text fill=\"#000000\" font-family=\"sans-serif\" font-size=\"14\" font-style=\"italic\" lengthAdjust=\"spacingAndGlyphs\" textLength=\"122\" x=\"450\" y=\"128.9951\">«connection def»</text><text fill=\"#000000\" font-family=\"sans-serif\" font-size=\"14\" font-weight=\"bold\" lengthAdjust=\"spacingAndGlyphs\" textLength=\"11\" x=\"505.5\" y=\"145.292\">A</text><!--MD5=[7f149f147074ac12df2cb0a7728a5fb0]\n",
       "cluster E9--><rect fill=\"#FFFFFF\" height=\"94\" style=\"stroke: #000000; stroke-width: 1.5;\" width=\"141\" x=\"267\" y=\"114\"/><text fill=\"#000000\" font-family=\"sans-serif\" font-size=\"14\" font-style=\"italic\" lengthAdjust=\"spacingAndGlyphs\" textLength=\"104\" x=\"285.5\" y=\"128.9951\">«interface def»</text><text fill=\"#000000\" font-family=\"sans-serif\" font-size=\"14\" font-weight=\"bold\" lengthAdjust=\"spacingAndGlyphs\" textLength=\"4\" x=\"335.5\" y=\"145.292\">I</text><!--MD5=[47bea60c1a0ac6c1143df232041969c0]\n",
       "cluster E12--><rect fill=\"#FFFFFF\" height=\"167\" style=\"stroke: #000000; stroke-width: 1.5;\" width=\"126\" x=\"114\" y=\"49\"/><text fill=\"#000000\" font-family=\"sans-serif\" font-size=\"14\" font-style=\"italic\" lengthAdjust=\"spacingAndGlyphs\" textLength=\"71\" x=\"141.5\" y=\"63.9951\">«part def»</text><text fill=\"#000000\" font-family=\"sans-serif\" font-size=\"14\" font-weight=\"bold\" lengthAdjust=\"spacingAndGlyphs\" textLength=\"20\" x=\"167\" y=\"80.292\">B1</text><!--MD5=[03104f77b71e2d8d3500c651e6e31181]\n",
       "cluster E13--><rect fill=\"#F8F8F8\" height=\"86\" rx=\"12.5\" ry=\"12.5\" style=\"stroke: #000000; stroke-width: 1.5;\" width=\"83\" x=\"126\" y=\"114\"/><rect fill=\"#FFFFFF\" height=\"53.7031\" rx=\"12.5\" ry=\"12.5\" style=\"stroke: #FFFFFF; stroke-width: 1.0;\" width=\"77\" x=\"129\" y=\"143.2969\"/><line style=\"stroke: #000000; stroke-width: 1.5;\" x1=\"126\" x2=\"209\" y1=\"140.2969\" y2=\"140.2969\"/><text fill=\"#000000\" font-family=\"sans-serif\" font-size=\"14\" lengthAdjust=\"spacingAndGlyphs\" textLength=\"45\" x=\"145\" y=\"131.9951\">p: Part</text><!--MD5=[b4997ac47864f28c2f74865a473b2911]\n",
       "class E2--><rect fill=\"#FFFFFF\" height=\"53.9375\" id=\"E2\" style=\"stroke: #383838; stroke-width: 1.5;\" width=\"66\" x=\"32\" y=\"87\"/><text fill=\"#000000\" font-family=\"sans-serif\" font-size=\"12\" font-style=\"italic\" lengthAdjust=\"spacingAndGlyphs\" textLength=\"64\" x=\"33\" y=\"103.1387\">«port def»</text><text fill=\"#000000\" font-family=\"sans-serif\" font-size=\"12\" lengthAdjust=\"spacingAndGlyphs\" textLength=\"8\" x=\"61\" y=\"117.1074\">P</text><line style=\"stroke: #383838; stroke-width: 1.5;\" x1=\"33\" x2=\"97\" y1=\"124.9375\" y2=\"124.9375\"/><line style=\"stroke: #383838; stroke-width: 1.5;\" x1=\"33\" x2=\"97\" y1=\"132.9375\" y2=\"132.9375\"/><text fill=\"#000000\" font-family=\"sans-serif\" font-size=\"14\" lengthAdjust=\"spacingAndGlyphs\" textLength=\"36\" x=\"590\" y=\"92.6982\">p1: P</text><rect fill=\"#383838\" height=\"12\" style=\"stroke: #F8F8F8; stroke-width: 1.5;\" width=\"12\" x=\"602\" y=\"108\"/><text fill=\"#000000\" font-family=\"sans-serif\" font-size=\"14\" lengthAdjust=\"spacingAndGlyphs\" textLength=\"48\" x=\"631\" y=\"92.6982\">p2: ~P</text><rect fill=\"#383838\" height=\"12\" style=\"stroke: #F8F8F8; stroke-width: 1.5;\" width=\"12\" x=\"649\" y=\"108\"/><text fill=\"#000000\" font-family=\"sans-serif\" font-size=\"14\" lengthAdjust=\"spacingAndGlyphs\" textLength=\"36\" x=\"436\" y=\"92.6982\">p1: P</text><rect fill=\"#383838\" height=\"12\" style=\"stroke: #F8F8F8; stroke-width: 1.5;\" width=\"12\" x=\"448\" y=\"108\"/><text fill=\"#000000\" font-family=\"sans-serif\" font-size=\"14\" lengthAdjust=\"spacingAndGlyphs\" textLength=\"48\" x=\"477\" y=\"92.6982\">p2: ~P</text><rect fill=\"#383838\" height=\"12\" style=\"stroke: #F8F8F8; stroke-width: 1.5;\" width=\"12\" x=\"495\" y=\"108\"/><text fill=\"#000000\" font-family=\"sans-serif\" font-size=\"14\" lengthAdjust=\"spacingAndGlyphs\" textLength=\"36\" x=\"267\" y=\"92.6982\">p1: P</text><rect fill=\"#383838\" height=\"12\" style=\"stroke: #F8F8F8; stroke-width: 1.5;\" width=\"12\" x=\"279\" y=\"108\"/><text fill=\"#000000\" font-family=\"sans-serif\" font-size=\"14\" lengthAdjust=\"spacingAndGlyphs\" textLength=\"48\" x=\"308\" y=\"92.6982\">p2: ~P</text><rect fill=\"#383838\" height=\"12\" style=\"stroke: #F8F8F8; stroke-width: 1.5;\" width=\"12\" x=\"326\" y=\"108\"/><text fill=\"#000000\" font-family=\"sans-serif\" font-size=\"14\" lengthAdjust=\"spacingAndGlyphs\" textLength=\"36\" x=\"126\" y=\"92.6982\">p1: P</text><rect fill=\"#383838\" height=\"12\" style=\"stroke: #F8F8F8; stroke-width: 1.5;\" width=\"12\" x=\"138\" y=\"108\"/><text fill=\"#000000\" font-family=\"sans-serif\" font-size=\"14\" lengthAdjust=\"spacingAndGlyphs\" textLength=\"48\" x=\"167\" y=\"92.6982\">p2: ~P</text><rect fill=\"#383838\" height=\"12\" style=\"stroke: #F8F8F8; stroke-width: 1.5;\" width=\"12\" x=\"185\" y=\"108\"/><!--MD5=[4ce51ac6fa4cf5202df3859e2718f033]\n",
       "link E15 to E14--><path d=\"M184.95,114 C173.38,114 161.81,114 150.24,114 \" fill=\"none\" id=\"E15-E14\" style=\"stroke: #383838; stroke-width: 3.0;\"/><!--MD5=[4ce51ac6fa4cf5202df3859e2718f033]\n",
       "link E15 to E14--><path d=\"M184.95,111.98 C173.38,108.69 161.81,108.67 150.24,111.93 \" fill=\"none\" id=\"E15-E14-1\" style=\"stroke: #383838; stroke-width: 3.0;\"/><!--MD5=[143ac22ca347d6b35788f9929db0a3bf]\n",
       "@startuml\r\n",
       "skinparam ranksep 8\r\n",
       "skinparam rectangle {\r\n",
       " backgroundColor<<block>> LightGreen\r\n",
       "}\r\n",
       "skinparam monochrome true\r\n",
       "skinparam classbackgroundcolor white\r\n",
       "skinparam shadowing false\r\n",
       "skinparam wrapWidth 300\r\n",
       "hide circle\r\n",
       "\r\n",
       "package \"ConjugationTest\" as E1   {\r\n",
       "def \"P\" as E2  <<port def>> \r\n",
       "rec def \"B\" as E3  <<part def>> {\r\n",
       "portin \"p1: P\" as E4  <<port>> \r\n",
       "portin \"p2: ~P\" as E5  <<port>> \r\n",
       "}\r\n",
       "rec def \"A\" as E6  <<connection def>> {\r\n",
       "portin \"p1: P\" as E7  <<port>> \r\n",
       "portin \"p2: ~P\" as E8  <<port>> \r\n",
       "}\r\n",
       "rec def \"I\" as E9  <<interface def>> {\r\n",
       "portin \"p1: P\" as E10  <<port>> \r\n",
       "portin \"p2: ~P\" as E11  <<port>> \r\n",
       "}\r\n",
       "rec def \"B1\" as E12  <<part def>> {\r\n",
       "rec usage \"p: Part\" as E13  {\r\n",
       "portin \"p1: P\" as E14  <<port>> \r\n",
       "portin \"p2: ~P\" as E15  <<port>> \r\n",
       "}\r\n",
       "}\r\n",
       "E15 -[thickness=3]- E14\r\n",
       "E15 -[thickness=3]- E14\r\n",
       "}\r\n",
       "@enduml\r\n",
       "\n",
       "PlantUML version 1.2020.13(Sat Jun 13 12:26:38 UTC 2020)\n",
       "(EPL source distribution)\n",
       "Java Runtime: OpenJDK Runtime Environment\n",
       "JVM: OpenJDK 64-Bit Server VM\n",
       "Default Encoding: UTF-8\n",
       "Language: en\n",
       "Country: null\n",
       "--></g></svg>"
      ]
     },
     "execution_count": 40,
     "metadata": {},
     "output_type": "execute_result"
    }
   ],
   "source": [
    "%viz --style=\"DEFAULT\" --view=\"Interconnection\" \"ConjugationTest\""
   ]
  },
  {
   "cell_type": "code",
   "execution_count": 41,
   "id": "alert-picking",
   "metadata": {
    "execution": {
     "iopub.execute_input": "2021-03-25T16:02:28.524139Z",
     "iopub.status.busy": "2021-03-25T16:02:28.523260Z",
     "iopub.status.idle": "2021-03-25T16:02:28.526614Z",
     "shell.execute_reply": "2021-03-25T16:02:28.527066Z"
    }
   },
   "outputs": [
    {
     "data": {
      "text/plain": [
       "java.lang.IllegalArgumentException: Invalid View: Action View candidates are: Default Tree StateMachine Interconnection Activity Sequence MIXED \n",
       "\tat org.omg.sysml.plantuml.SysML2PlantUMLSvc.setView(SysML2PlantUMLSvc.java:63)\n",
       "\tat org.omg.sysml.interactive.SysMLInteractive.viz(SysMLInteractive.java:286)\n",
       "\tat org.omg.sysml.jupyter.kernel.magic.Viz.viz(Viz.java:47)\n",
       "\tat jdk.internal.reflect.GeneratedMethodAccessor12.invoke(Unknown Source)\n",
       "\tat java.base/jdk.internal.reflect.DelegatingMethodAccessorImpl.invoke(DelegatingMethodAccessorImpl.java:43)\n",
       "\tat java.base/java.lang.reflect.Method.invoke(Method.java:568)\n",
       "\tat io.github.spencerpark.jupyter.kernel.magic.registry.Magics.invoke(Magics.java:89)\n",
       "\tat io.github.spencerpark.jupyter.kernel.magic.registry.Magics.access$000(Magics.java:8)\n",
       "\tat io.github.spencerpark.jupyter.kernel.magic.registry.Magics$LineReflectionMagicFunction.execute(Magics.java:149)\n",
       "\tat io.github.spencerpark.jupyter.kernel.magic.registry.Magics.applyLineMagic(Magics.java:26)\n",
       "\tat org.omg.sysml.jupyter.kernel.SysMLKernel.eval(SysMLKernel.java:76)\n",
       "\tat io.github.spencerpark.jupyter.kernel.BaseKernel.handleExecuteRequest(BaseKernel.java:334)\n",
       "\tat io.github.spencerpark.jupyter.channels.ShellChannel.lambda$bind$0(ShellChannel.java:64)\n",
       "\tat io.github.spencerpark.jupyter.channels.Loop.lambda$new$0(Loop.java:21)\n",
       "\tat io.github.spencerpark.jupyter.channels.Loop.run(Loop.java:78)\n"
      ]
     },
     "execution_count": 41,
     "metadata": {},
     "output_type": "execute_result"
    }
   ],
   "source": [
    "%viz --style=\"DEFAULT\" --view=\"Action\" \"ConjugationTest\""
   ]
  },
  {
   "cell_type": "code",
   "execution_count": 42,
   "id": "thermal-perry",
   "metadata": {
    "execution": {
     "iopub.execute_input": "2021-03-25T16:02:28.581677Z",
     "iopub.status.busy": "2021-03-25T16:02:28.580956Z",
     "iopub.status.idle": "2021-03-25T16:02:30.185924Z",
     "shell.execute_reply": "2021-03-25T16:02:30.184297Z"
    }
   },
   "outputs": [
    {
     "data": {
      "image/svg+xml": [
       "<?xml version=\"1.0\" encoding=\"UTF-8\" standalone=\"no\"?><svg xmlns=\"http://www.w3.org/2000/svg\" xmlns:xlink=\"http://www.w3.org/1999/xlink\" contentScriptType=\"application/ecmascript\" contentStyleType=\"text/css\" height=\"331px\" preserveAspectRatio=\"none\" style=\"width:684px;height:331px;\" version=\"1.1\" viewBox=\"0 0 684 331\" width=\"684px\" zoomAndPan=\"magnify\"><defs/><g><!--MD5=[fbc87193dbaf4d95561dea2c320d4a47]\n",
       "cluster E1--><polygon fill=\"#FFFFFF\" points=\"16,6,151,6,158,28.2969,662,28.2969,662,319,16,319,16,6\" style=\"stroke: #000000; stroke-width: 1.5;\"/><line style=\"stroke: #000000; stroke-width: 1.5;\" x1=\"16\" x2=\"158\" y1=\"28.2969\" y2=\"28.2969\"/><text fill=\"#000000\" font-family=\"sans-serif\" font-size=\"14\" font-weight=\"bold\" lengthAdjust=\"spacingAndGlyphs\" textLength=\"129\" x=\"20\" y=\"20.9951\">ConjugationTest</text><!--MD5=[b4997ac47864f28c2f74865a473b2911]\n",
       "class E2--><rect fill=\"#FFFFFF\" height=\"45.9375\" id=\"E2\" style=\"stroke: #383838; stroke-width: 1.5;\" width=\"66\" x=\"580\" y=\"75\"/><text fill=\"#000000\" font-family=\"sans-serif\" font-size=\"12\" font-style=\"italic\" lengthAdjust=\"spacingAndGlyphs\" textLength=\"64\" x=\"581\" y=\"91.1387\">«port def»</text><text fill=\"#000000\" font-family=\"sans-serif\" font-size=\"12\" lengthAdjust=\"spacingAndGlyphs\" textLength=\"8\" x=\"609\" y=\"105.1074\">P</text><line style=\"stroke: #383838; stroke-width: 1.5;\" x1=\"581\" x2=\"645\" y1=\"112.9375\" y2=\"112.9375\"/><!--MD5=[09b614a08d8cba4a07c9adeb5e0fee81]\n",
       "class E3--><rect fill=\"#FFFFFF\" height=\"88.3516\" id=\"E3\" style=\"stroke: #383838; stroke-width: 1.5;\" width=\"66\" x=\"479\" y=\"54\"/><text fill=\"#000000\" font-family=\"sans-serif\" font-size=\"12\" font-style=\"italic\" lengthAdjust=\"spacingAndGlyphs\" textLength=\"64\" x=\"480\" y=\"70.1387\">«part def»</text><text fill=\"#000000\" font-family=\"sans-serif\" font-size=\"12\" lengthAdjust=\"spacingAndGlyphs\" textLength=\"8\" x=\"508\" y=\"84.1074\">B</text><line style=\"stroke: #383838; stroke-width: 1.5;\" x1=\"480\" x2=\"544\" y1=\"91.9375\" y2=\"91.9375\"/><text fill=\"#000000\" font-family=\"sans-serif\" font-size=\"11\" lengthAdjust=\"spacingAndGlyphs\" textLength=\"29\" x=\"485\" y=\"122.9526\">p1: P</text><text fill=\"#000000\" font-family=\"sans-serif\" font-size=\"11\" lengthAdjust=\"spacingAndGlyphs\" textLength=\"38\" x=\"485\" y=\"135.7573\">p2: ~P</text><line style=\"stroke: #383838; stroke-width: 1.0;\" x1=\"480\" x2=\"497\" y1=\"106.3398\" y2=\"106.3398\"/><text fill=\"#000000\" font-family=\"sans-serif\" font-size=\"11\" lengthAdjust=\"spacingAndGlyphs\" textLength=\"30\" x=\"497\" y=\"109.6479\">ports</text><line style=\"stroke: #383838; stroke-width: 1.0;\" x1=\"527\" x2=\"544\" y1=\"106.3398\" y2=\"106.3398\"/><!--MD5=[60a26617385b1d2d0262a64233df1f8d]\n",
       "class E6--><rect fill=\"#FFFFFF\" height=\"113.9609\" id=\"E6\" style=\"stroke: #383838; stroke-width: 1.5;\" width=\"144\" x=\"300\" y=\"41\"/><text fill=\"#000000\" font-family=\"sans-serif\" font-size=\"12\" font-style=\"italic\" lengthAdjust=\"spacingAndGlyphs\" textLength=\"108\" x=\"318\" y=\"57.1387\">«connection def»</text><text fill=\"#000000\" font-family=\"sans-serif\" font-size=\"12\" lengthAdjust=\"spacingAndGlyphs\" textLength=\"8\" x=\"368\" y=\"71.1074\">A</text><line style=\"stroke: #383838; stroke-width: 1.5;\" x1=\"301\" x2=\"443\" y1=\"78.9375\" y2=\"78.9375\"/><text fill=\"#000000\" font-family=\"sans-serif\" font-size=\"11\" lengthAdjust=\"spacingAndGlyphs\" textLength=\"29\" x=\"306\" y=\"109.9526\">p1: P</text><text fill=\"#000000\" font-family=\"sans-serif\" font-size=\"11\" font-style=\"italic\" lengthAdjust=\"spacingAndGlyphs\" textLength=\"132\" x=\"306\" y=\"122.7573\">:&gt;&gt;Connection::source</text><text fill=\"#000000\" font-family=\"sans-serif\" font-size=\"11\" lengthAdjust=\"spacingAndGlyphs\" textLength=\"38\" x=\"306\" y=\"135.562\">p2: ~P</text><text fill=\"#000000\" font-family=\"sans-serif\" font-size=\"11\" font-style=\"italic\" lengthAdjust=\"spacingAndGlyphs\" textLength=\"127\" x=\"306\" y=\"148.3667\">:&gt;&gt;Connection::target</text><line style=\"stroke: #383838; stroke-width: 1.0;\" x1=\"301\" x2=\"357\" y1=\"93.3398\" y2=\"93.3398\"/><text fill=\"#000000\" font-family=\"sans-serif\" font-size=\"11\" lengthAdjust=\"spacingAndGlyphs\" textLength=\"30\" x=\"357\" y=\"96.6479\">ports</text><line style=\"stroke: #383838; stroke-width: 1.0;\" x1=\"387\" x2=\"443\" y1=\"93.3398\" y2=\"93.3398\"/><!--MD5=[fd4143e9d270a159db93a4ea2a975926]\n",
       "class E9--><rect fill=\"#FFFFFF\" height=\"113.9609\" id=\"E9\" style=\"stroke: #383838; stroke-width: 1.5;\" width=\"131\" x=\"133.5\" y=\"41\"/><text fill=\"#000000\" font-family=\"sans-serif\" font-size=\"12\" font-style=\"italic\" lengthAdjust=\"spacingAndGlyphs\" textLength=\"94\" x=\"152\" y=\"57.1387\">«interface def»</text><text fill=\"#000000\" font-family=\"sans-serif\" font-size=\"12\" lengthAdjust=\"spacingAndGlyphs\" textLength=\"3\" x=\"197.5\" y=\"71.1074\">I</text><line style=\"stroke: #383838; stroke-width: 1.5;\" x1=\"134.5\" x2=\"263.5\" y1=\"78.9375\" y2=\"78.9375\"/><text fill=\"#000000\" font-family=\"sans-serif\" font-size=\"11\" lengthAdjust=\"spacingAndGlyphs\" textLength=\"29\" x=\"139.5\" y=\"109.9526\">p1: P</text><text fill=\"#000000\" font-family=\"sans-serif\" font-size=\"11\" font-style=\"italic\" lengthAdjust=\"spacingAndGlyphs\" textLength=\"119\" x=\"139.5\" y=\"122.7573\">:&gt;&gt;Interface::source</text><text fill=\"#000000\" font-family=\"sans-serif\" font-size=\"11\" lengthAdjust=\"spacingAndGlyphs\" textLength=\"38\" x=\"139.5\" y=\"135.562\">p2: ~P</text><text fill=\"#000000\" font-family=\"sans-serif\" font-size=\"11\" font-style=\"italic\" lengthAdjust=\"spacingAndGlyphs\" textLength=\"114\" x=\"139.5\" y=\"148.3667\">:&gt;&gt;Interface::target</text><line style=\"stroke: #383838; stroke-width: 1.0;\" x1=\"134.5\" x2=\"184\" y1=\"93.3398\" y2=\"93.3398\"/><text fill=\"#000000\" font-family=\"sans-serif\" font-size=\"11\" lengthAdjust=\"spacingAndGlyphs\" textLength=\"30\" x=\"184\" y=\"96.6479\">ports</text><line style=\"stroke: #383838; stroke-width: 1.0;\" x1=\"214\" x2=\"263.5\" y1=\"93.3398\" y2=\"93.3398\"/><!--MD5=[49a0ec8f00dab7302a31f22d0f0fe584]\n",
       "class E12--><rect fill=\"#FFFFFF\" height=\"45.9375\" id=\"E12\" style=\"stroke: #383838; stroke-width: 1.5;\" width=\"66\" x=\"32\" y=\"75\"/><text fill=\"#000000\" font-family=\"sans-serif\" font-size=\"12\" font-style=\"italic\" lengthAdjust=\"spacingAndGlyphs\" textLength=\"64\" x=\"33\" y=\"91.1387\">«part def»</text><text fill=\"#000000\" font-family=\"sans-serif\" font-size=\"12\" lengthAdjust=\"spacingAndGlyphs\" textLength=\"16\" x=\"57\" y=\"105.1074\">B1</text><line style=\"stroke: #383838; stroke-width: 1.5;\" x1=\"33\" x2=\"97\" y1=\"112.9375\" y2=\"112.9375\"/><!--MD5=[ee3c913d1a06f366521f9ef512b67efe]\n",
       "class E13--><rect fill=\"#FFFFFF\" height=\"88.3516\" id=\"E13\" rx=\"10\" ry=\"10\" style=\"stroke: #383838; stroke-width: 1.5;\" width=\"50\" x=\"40\" y=\"215\"/><text fill=\"#000000\" font-family=\"sans-serif\" font-size=\"12\" font-style=\"italic\" lengthAdjust=\"spacingAndGlyphs\" textLength=\"40\" x=\"45\" y=\"231.1387\">«part»</text><text fill=\"#000000\" font-family=\"sans-serif\" font-size=\"12\" lengthAdjust=\"spacingAndGlyphs\" textLength=\"42\" x=\"44\" y=\"245.1074\">p: Part</text><line style=\"stroke: #383838; stroke-width: 1.5;\" x1=\"41\" x2=\"89\" y1=\"252.9375\" y2=\"252.9375\"/><text fill=\"#000000\" font-family=\"sans-serif\" font-size=\"11\" lengthAdjust=\"spacingAndGlyphs\" textLength=\"29\" x=\"46\" y=\"283.9526\">p1: P</text><text fill=\"#000000\" font-family=\"sans-serif\" font-size=\"11\" lengthAdjust=\"spacingAndGlyphs\" textLength=\"38\" x=\"46\" y=\"296.7573\">p2: ~P</text><line style=\"stroke: #383838; stroke-width: 1.0;\" x1=\"41\" x2=\"50\" y1=\"267.3398\" y2=\"267.3398\"/><text fill=\"#000000\" font-family=\"sans-serif\" font-size=\"11\" lengthAdjust=\"spacingAndGlyphs\" textLength=\"30\" x=\"50\" y=\"270.6479\">ports</text><line style=\"stroke: #383838; stroke-width: 1.0;\" x1=\"80\" x2=\"89\" y1=\"267.3398\" y2=\"267.3398\"/><!--MD5=[062ed86c389d1a88f61c6380d0491e17]\n",
       "reverse link E12 to E13--><path d=\"M65,134.11 C65,157.9 65,189.5 65,214.83 \" fill=\"none\" id=\"E12&lt;-E13\" style=\"stroke: #383838; stroke-width: 1.0;\"/><polygon fill=\"#383838\" points=\"65,121.11,61,127.11,65,133.11,69,127.11,65,121.11\" style=\"stroke: #383838; stroke-width: 1.0;\"/><!--MD5=[7b17ddd0454c8a68b32ebbd3b296a5ce]\n",
       "@startuml\r\n",
       "skinparam monochrome true\r\n",
       "skinparam classbackgroundcolor white\r\n",
       "skinparam shadowing false\r\n",
       "skinparam wrapWidth 300\r\n",
       "hide circle\r\n",
       "\r\n",
       "package \"ConjugationTest\" as E1   {\r\n",
       "comp def \"P\" as E2  <<(T,blue)port def>> {\r\n",
       "}\r\n",
       "comp def \"B\" as E3  <<(T,blue)part def>> {\r\n",
       "- -ports- -\r\n",
       "p1: P\r\n",
       "p2: ~P\r\n",
       "}\r\n",
       "comp def \"A\" as E6  <<(T,blue)connection def>> {\r\n",
       "- -ports- -\r\n",
       "p1: P\\n//:>>Connection::source// \r\n",
       "p2: ~P\\n//:>>Connection::target// \r\n",
       "}\r\n",
       "comp def \"I\" as E9  <<(T,blue)interface def>> {\r\n",
       "- -ports- -\r\n",
       "p1: P\\n//:>>Interface::source// \r\n",
       "p2: ~P\\n//:>>Interface::target// \r\n",
       "}\r\n",
       "comp def \"B1\" as E12  <<(T,blue)part def>> {\r\n",
       "}\r\n",
       "comp usage \"p: Part\" as E13  <<(T,blue)part>> {\r\n",
       "- -ports- -\r\n",
       "p1: P\r\n",
       "p2: ~P\r\n",
       "}\r\n",
       "E12 *- - E13\r\n",
       "}\r\n",
       "@enduml\r\n",
       "\n",
       "PlantUML version 1.2020.13(Sat Jun 13 12:26:38 UTC 2020)\n",
       "(EPL source distribution)\n",
       "Java Runtime: OpenJDK Runtime Environment\n",
       "JVM: OpenJDK 64-Bit Server VM\n",
       "Default Encoding: UTF-8\n",
       "Language: en\n",
       "Country: null\n",
       "--></g></svg>"
      ]
     },
     "execution_count": 42,
     "metadata": {},
     "output_type": "execute_result"
    }
   ],
   "source": [
    "%viz --style=\"DEFAULT\" --view=\"Sequence\" \"ConjugationTest\""
   ]
  },
  {
   "cell_type": "code",
   "execution_count": 43,
   "id": "sophisticated-athletics",
   "metadata": {
    "execution": {
     "iopub.execute_input": "2021-03-25T16:02:30.239007Z",
     "iopub.status.busy": "2021-03-25T16:02:30.237571Z",
     "iopub.status.idle": "2021-03-25T16:02:31.863205Z",
     "shell.execute_reply": "2021-03-25T16:02:31.861847Z"
    }
   },
   "outputs": [
    {
     "data": {
      "image/svg+xml": [
       "<?xml version=\"1.0\" encoding=\"UTF-8\" standalone=\"no\"?><svg xmlns=\"http://www.w3.org/2000/svg\" xmlns:xlink=\"http://www.w3.org/1999/xlink\" contentScriptType=\"application/ecmascript\" contentStyleType=\"text/css\" height=\"331px\" preserveAspectRatio=\"none\" style=\"width:684px;height:331px;\" version=\"1.1\" viewBox=\"0 0 684 331\" width=\"684px\" zoomAndPan=\"magnify\"><defs/><g><!--MD5=[fbc87193dbaf4d95561dea2c320d4a47]\n",
       "cluster E1--><polygon fill=\"#FFFFFF\" points=\"16,6,151,6,158,28.2969,662,28.2969,662,319,16,319,16,6\" style=\"stroke: #000000; stroke-width: 1.5;\"/><line style=\"stroke: #000000; stroke-width: 1.5;\" x1=\"16\" x2=\"158\" y1=\"28.2969\" y2=\"28.2969\"/><text fill=\"#000000\" font-family=\"sans-serif\" font-size=\"14\" font-weight=\"bold\" lengthAdjust=\"spacingAndGlyphs\" textLength=\"129\" x=\"20\" y=\"20.9951\">ConjugationTest</text><!--MD5=[b4997ac47864f28c2f74865a473b2911]\n",
       "class E2--><rect fill=\"#FFFFFF\" height=\"45.9375\" id=\"E2\" style=\"stroke: #383838; stroke-width: 1.5;\" width=\"66\" x=\"580\" y=\"75\"/><text fill=\"#000000\" font-family=\"sans-serif\" font-size=\"12\" font-style=\"italic\" lengthAdjust=\"spacingAndGlyphs\" textLength=\"64\" x=\"581\" y=\"91.1387\">«port def»</text><text fill=\"#000000\" font-family=\"sans-serif\" font-size=\"12\" lengthAdjust=\"spacingAndGlyphs\" textLength=\"8\" x=\"609\" y=\"105.1074\">P</text><line style=\"stroke: #383838; stroke-width: 1.5;\" x1=\"581\" x2=\"645\" y1=\"112.9375\" y2=\"112.9375\"/><!--MD5=[09b614a08d8cba4a07c9adeb5e0fee81]\n",
       "class E3--><rect fill=\"#FFFFFF\" height=\"88.3516\" id=\"E3\" style=\"stroke: #383838; stroke-width: 1.5;\" width=\"66\" x=\"479\" y=\"54\"/><text fill=\"#000000\" font-family=\"sans-serif\" font-size=\"12\" font-style=\"italic\" lengthAdjust=\"spacingAndGlyphs\" textLength=\"64\" x=\"480\" y=\"70.1387\">«part def»</text><text fill=\"#000000\" font-family=\"sans-serif\" font-size=\"12\" lengthAdjust=\"spacingAndGlyphs\" textLength=\"8\" x=\"508\" y=\"84.1074\">B</text><line style=\"stroke: #383838; stroke-width: 1.5;\" x1=\"480\" x2=\"544\" y1=\"91.9375\" y2=\"91.9375\"/><text fill=\"#000000\" font-family=\"sans-serif\" font-size=\"11\" lengthAdjust=\"spacingAndGlyphs\" textLength=\"29\" x=\"485\" y=\"122.9526\">p1: P</text><text fill=\"#000000\" font-family=\"sans-serif\" font-size=\"11\" lengthAdjust=\"spacingAndGlyphs\" textLength=\"38\" x=\"485\" y=\"135.7573\">p2: ~P</text><line style=\"stroke: #383838; stroke-width: 1.0;\" x1=\"480\" x2=\"497\" y1=\"106.3398\" y2=\"106.3398\"/><text fill=\"#000000\" font-family=\"sans-serif\" font-size=\"11\" lengthAdjust=\"spacingAndGlyphs\" textLength=\"30\" x=\"497\" y=\"109.6479\">ports</text><line style=\"stroke: #383838; stroke-width: 1.0;\" x1=\"527\" x2=\"544\" y1=\"106.3398\" y2=\"106.3398\"/><!--MD5=[60a26617385b1d2d0262a64233df1f8d]\n",
       "class E6--><rect fill=\"#FFFFFF\" height=\"113.9609\" id=\"E6\" style=\"stroke: #383838; stroke-width: 1.5;\" width=\"144\" x=\"300\" y=\"41\"/><text fill=\"#000000\" font-family=\"sans-serif\" font-size=\"12\" font-style=\"italic\" lengthAdjust=\"spacingAndGlyphs\" textLength=\"108\" x=\"318\" y=\"57.1387\">«connection def»</text><text fill=\"#000000\" font-family=\"sans-serif\" font-size=\"12\" lengthAdjust=\"spacingAndGlyphs\" textLength=\"8\" x=\"368\" y=\"71.1074\">A</text><line style=\"stroke: #383838; stroke-width: 1.5;\" x1=\"301\" x2=\"443\" y1=\"78.9375\" y2=\"78.9375\"/><text fill=\"#000000\" font-family=\"sans-serif\" font-size=\"11\" lengthAdjust=\"spacingAndGlyphs\" textLength=\"29\" x=\"306\" y=\"109.9526\">p1: P</text><text fill=\"#000000\" font-family=\"sans-serif\" font-size=\"11\" font-style=\"italic\" lengthAdjust=\"spacingAndGlyphs\" textLength=\"132\" x=\"306\" y=\"122.7573\">:&gt;&gt;Connection::source</text><text fill=\"#000000\" font-family=\"sans-serif\" font-size=\"11\" lengthAdjust=\"spacingAndGlyphs\" textLength=\"38\" x=\"306\" y=\"135.562\">p2: ~P</text><text fill=\"#000000\" font-family=\"sans-serif\" font-size=\"11\" font-style=\"italic\" lengthAdjust=\"spacingAndGlyphs\" textLength=\"127\" x=\"306\" y=\"148.3667\">:&gt;&gt;Connection::target</text><line style=\"stroke: #383838; stroke-width: 1.0;\" x1=\"301\" x2=\"357\" y1=\"93.3398\" y2=\"93.3398\"/><text fill=\"#000000\" font-family=\"sans-serif\" font-size=\"11\" lengthAdjust=\"spacingAndGlyphs\" textLength=\"30\" x=\"357\" y=\"96.6479\">ports</text><line style=\"stroke: #383838; stroke-width: 1.0;\" x1=\"387\" x2=\"443\" y1=\"93.3398\" y2=\"93.3398\"/><!--MD5=[fd4143e9d270a159db93a4ea2a975926]\n",
       "class E9--><rect fill=\"#FFFFFF\" height=\"113.9609\" id=\"E9\" style=\"stroke: #383838; stroke-width: 1.5;\" width=\"131\" x=\"133.5\" y=\"41\"/><text fill=\"#000000\" font-family=\"sans-serif\" font-size=\"12\" font-style=\"italic\" lengthAdjust=\"spacingAndGlyphs\" textLength=\"94\" x=\"152\" y=\"57.1387\">«interface def»</text><text fill=\"#000000\" font-family=\"sans-serif\" font-size=\"12\" lengthAdjust=\"spacingAndGlyphs\" textLength=\"3\" x=\"197.5\" y=\"71.1074\">I</text><line style=\"stroke: #383838; stroke-width: 1.5;\" x1=\"134.5\" x2=\"263.5\" y1=\"78.9375\" y2=\"78.9375\"/><text fill=\"#000000\" font-family=\"sans-serif\" font-size=\"11\" lengthAdjust=\"spacingAndGlyphs\" textLength=\"29\" x=\"139.5\" y=\"109.9526\">p1: P</text><text fill=\"#000000\" font-family=\"sans-serif\" font-size=\"11\" font-style=\"italic\" lengthAdjust=\"spacingAndGlyphs\" textLength=\"119\" x=\"139.5\" y=\"122.7573\">:&gt;&gt;Interface::source</text><text fill=\"#000000\" font-family=\"sans-serif\" font-size=\"11\" lengthAdjust=\"spacingAndGlyphs\" textLength=\"38\" x=\"139.5\" y=\"135.562\">p2: ~P</text><text fill=\"#000000\" font-family=\"sans-serif\" font-size=\"11\" font-style=\"italic\" lengthAdjust=\"spacingAndGlyphs\" textLength=\"114\" x=\"139.5\" y=\"148.3667\">:&gt;&gt;Interface::target</text><line style=\"stroke: #383838; stroke-width: 1.0;\" x1=\"134.5\" x2=\"184\" y1=\"93.3398\" y2=\"93.3398\"/><text fill=\"#000000\" font-family=\"sans-serif\" font-size=\"11\" lengthAdjust=\"spacingAndGlyphs\" textLength=\"30\" x=\"184\" y=\"96.6479\">ports</text><line style=\"stroke: #383838; stroke-width: 1.0;\" x1=\"214\" x2=\"263.5\" y1=\"93.3398\" y2=\"93.3398\"/><!--MD5=[49a0ec8f00dab7302a31f22d0f0fe584]\n",
       "class E12--><rect fill=\"#FFFFFF\" height=\"45.9375\" id=\"E12\" style=\"stroke: #383838; stroke-width: 1.5;\" width=\"66\" x=\"32\" y=\"75\"/><text fill=\"#000000\" font-family=\"sans-serif\" font-size=\"12\" font-style=\"italic\" lengthAdjust=\"spacingAndGlyphs\" textLength=\"64\" x=\"33\" y=\"91.1387\">«part def»</text><text fill=\"#000000\" font-family=\"sans-serif\" font-size=\"12\" lengthAdjust=\"spacingAndGlyphs\" textLength=\"16\" x=\"57\" y=\"105.1074\">B1</text><line style=\"stroke: #383838; stroke-width: 1.5;\" x1=\"33\" x2=\"97\" y1=\"112.9375\" y2=\"112.9375\"/><!--MD5=[ee3c913d1a06f366521f9ef512b67efe]\n",
       "class E13--><rect fill=\"#FFFFFF\" height=\"88.3516\" id=\"E13\" rx=\"10\" ry=\"10\" style=\"stroke: #383838; stroke-width: 1.5;\" width=\"50\" x=\"40\" y=\"215\"/><text fill=\"#000000\" font-family=\"sans-serif\" font-size=\"12\" font-style=\"italic\" lengthAdjust=\"spacingAndGlyphs\" textLength=\"40\" x=\"45\" y=\"231.1387\">«part»</text><text fill=\"#000000\" font-family=\"sans-serif\" font-size=\"12\" lengthAdjust=\"spacingAndGlyphs\" textLength=\"42\" x=\"44\" y=\"245.1074\">p: Part</text><line style=\"stroke: #383838; stroke-width: 1.5;\" x1=\"41\" x2=\"89\" y1=\"252.9375\" y2=\"252.9375\"/><text fill=\"#000000\" font-family=\"sans-serif\" font-size=\"11\" lengthAdjust=\"spacingAndGlyphs\" textLength=\"29\" x=\"46\" y=\"283.9526\">p1: P</text><text fill=\"#000000\" font-family=\"sans-serif\" font-size=\"11\" lengthAdjust=\"spacingAndGlyphs\" textLength=\"38\" x=\"46\" y=\"296.7573\">p2: ~P</text><line style=\"stroke: #383838; stroke-width: 1.0;\" x1=\"41\" x2=\"50\" y1=\"267.3398\" y2=\"267.3398\"/><text fill=\"#000000\" font-family=\"sans-serif\" font-size=\"11\" lengthAdjust=\"spacingAndGlyphs\" textLength=\"30\" x=\"50\" y=\"270.6479\">ports</text><line style=\"stroke: #383838; stroke-width: 1.0;\" x1=\"80\" x2=\"89\" y1=\"267.3398\" y2=\"267.3398\"/><!--MD5=[062ed86c389d1a88f61c6380d0491e17]\n",
       "reverse link E12 to E13--><path d=\"M65,134.11 C65,157.9 65,189.5 65,214.83 \" fill=\"none\" id=\"E12&lt;-E13\" style=\"stroke: #383838; stroke-width: 1.0;\"/><polygon fill=\"#383838\" points=\"65,121.11,61,127.11,65,133.11,69,127.11,65,121.11\" style=\"stroke: #383838; stroke-width: 1.0;\"/><!--MD5=[7b17ddd0454c8a68b32ebbd3b296a5ce]\n",
       "@startuml\r\n",
       "skinparam monochrome true\r\n",
       "skinparam classbackgroundcolor white\r\n",
       "skinparam shadowing false\r\n",
       "skinparam wrapWidth 300\r\n",
       "hide circle\r\n",
       "\r\n",
       "package \"ConjugationTest\" as E1   {\r\n",
       "comp def \"P\" as E2  <<(T,blue)port def>> {\r\n",
       "}\r\n",
       "comp def \"B\" as E3  <<(T,blue)part def>> {\r\n",
       "- -ports- -\r\n",
       "p1: P\r\n",
       "p2: ~P\r\n",
       "}\r\n",
       "comp def \"A\" as E6  <<(T,blue)connection def>> {\r\n",
       "- -ports- -\r\n",
       "p1: P\\n//:>>Connection::source// \r\n",
       "p2: ~P\\n//:>>Connection::target// \r\n",
       "}\r\n",
       "comp def \"I\" as E9  <<(T,blue)interface def>> {\r\n",
       "- -ports- -\r\n",
       "p1: P\\n//:>>Interface::source// \r\n",
       "p2: ~P\\n//:>>Interface::target// \r\n",
       "}\r\n",
       "comp def \"B1\" as E12  <<(T,blue)part def>> {\r\n",
       "}\r\n",
       "comp usage \"p: Part\" as E13  <<(T,blue)part>> {\r\n",
       "- -ports- -\r\n",
       "p1: P\r\n",
       "p2: ~P\r\n",
       "}\r\n",
       "E12 *- - E13\r\n",
       "}\r\n",
       "@enduml\r\n",
       "\n",
       "PlantUML version 1.2020.13(Sat Jun 13 12:26:38 UTC 2020)\n",
       "(EPL source distribution)\n",
       "Java Runtime: OpenJDK Runtime Environment\n",
       "JVM: OpenJDK 64-Bit Server VM\n",
       "Default Encoding: UTF-8\n",
       "Language: en\n",
       "Country: null\n",
       "--></g></svg>"
      ]
     },
     "execution_count": 43,
     "metadata": {},
     "output_type": "execute_result"
    }
   ],
   "source": [
    "%viz --style=\"DEFAULT\" --view=\"MIXED\" \"ConjugationTest\""
   ]
  },
  {
   "cell_type": "code",
   "execution_count": 44,
   "id": "copyrighted-idaho",
   "metadata": {
    "execution": {
     "iopub.execute_input": "2021-03-25T16:02:31.914224Z",
     "iopub.status.busy": "2021-03-25T16:02:31.913724Z",
     "iopub.status.idle": "2021-03-25T16:02:33.516562Z",
     "shell.execute_reply": "2021-03-25T16:02:33.514790Z"
    }
   },
   "outputs": [
    {
     "data": {
      "image/svg+xml": [
       "<?xml version=\"1.0\" encoding=\"UTF-8\" standalone=\"no\"?><svg xmlns=\"http://www.w3.org/2000/svg\" xmlns:xlink=\"http://www.w3.org/1999/xlink\" contentScriptType=\"application/ecmascript\" contentStyleType=\"text/css\" height=\"331px\" preserveAspectRatio=\"none\" style=\"width:684px;height:331px;\" version=\"1.1\" viewBox=\"0 0 684 331\" width=\"684px\" zoomAndPan=\"magnify\"><defs/><g><!--MD5=[fbc87193dbaf4d95561dea2c320d4a47]\n",
       "cluster E1--><polygon fill=\"#FFFFFF\" points=\"16,6,151,6,158,28.2969,662,28.2969,662,319,16,319,16,6\" style=\"stroke: #000000; stroke-width: 1.5;\"/><line style=\"stroke: #000000; stroke-width: 1.5;\" x1=\"16\" x2=\"158\" y1=\"28.2969\" y2=\"28.2969\"/><text fill=\"#000000\" font-family=\"sans-serif\" font-size=\"14\" font-weight=\"bold\" lengthAdjust=\"spacingAndGlyphs\" textLength=\"129\" x=\"20\" y=\"20.9951\">ConjugationTest</text><!--MD5=[b4997ac47864f28c2f74865a473b2911]\n",
       "class E2--><rect fill=\"#FFFFFF\" height=\"45.9375\" id=\"E2\" style=\"stroke: #383838; stroke-width: 1.5;\" width=\"66\" x=\"580\" y=\"75\"/><text fill=\"#000000\" font-family=\"sans-serif\" font-size=\"12\" font-style=\"italic\" lengthAdjust=\"spacingAndGlyphs\" textLength=\"64\" x=\"581\" y=\"91.1387\">«port def»</text><text fill=\"#000000\" font-family=\"sans-serif\" font-size=\"12\" lengthAdjust=\"spacingAndGlyphs\" textLength=\"8\" x=\"609\" y=\"105.1074\">P</text><line style=\"stroke: #383838; stroke-width: 1.5;\" x1=\"581\" x2=\"645\" y1=\"112.9375\" y2=\"112.9375\"/><!--MD5=[09b614a08d8cba4a07c9adeb5e0fee81]\n",
       "class E3--><rect fill=\"#FFFFFF\" height=\"88.3516\" id=\"E3\" style=\"stroke: #383838; stroke-width: 1.5;\" width=\"66\" x=\"479\" y=\"54\"/><text fill=\"#000000\" font-family=\"sans-serif\" font-size=\"12\" font-style=\"italic\" lengthAdjust=\"spacingAndGlyphs\" textLength=\"64\" x=\"480\" y=\"70.1387\">«part def»</text><text fill=\"#000000\" font-family=\"sans-serif\" font-size=\"12\" lengthAdjust=\"spacingAndGlyphs\" textLength=\"8\" x=\"508\" y=\"84.1074\">B</text><line style=\"stroke: #383838; stroke-width: 1.5;\" x1=\"480\" x2=\"544\" y1=\"91.9375\" y2=\"91.9375\"/><text fill=\"#000000\" font-family=\"sans-serif\" font-size=\"11\" lengthAdjust=\"spacingAndGlyphs\" textLength=\"29\" x=\"485\" y=\"122.9526\">p1: P</text><text fill=\"#000000\" font-family=\"sans-serif\" font-size=\"11\" lengthAdjust=\"spacingAndGlyphs\" textLength=\"38\" x=\"485\" y=\"135.7573\">p2: ~P</text><line style=\"stroke: #383838; stroke-width: 1.0;\" x1=\"480\" x2=\"497\" y1=\"106.3398\" y2=\"106.3398\"/><text fill=\"#000000\" font-family=\"sans-serif\" font-size=\"11\" lengthAdjust=\"spacingAndGlyphs\" textLength=\"30\" x=\"497\" y=\"109.6479\">ports</text><line style=\"stroke: #383838; stroke-width: 1.0;\" x1=\"527\" x2=\"544\" y1=\"106.3398\" y2=\"106.3398\"/><!--MD5=[60a26617385b1d2d0262a64233df1f8d]\n",
       "class E6--><rect fill=\"#FFFFFF\" height=\"113.9609\" id=\"E6\" style=\"stroke: #383838; stroke-width: 1.5;\" width=\"144\" x=\"300\" y=\"41\"/><text fill=\"#000000\" font-family=\"sans-serif\" font-size=\"12\" font-style=\"italic\" lengthAdjust=\"spacingAndGlyphs\" textLength=\"108\" x=\"318\" y=\"57.1387\">«connection def»</text><text fill=\"#000000\" font-family=\"sans-serif\" font-size=\"12\" lengthAdjust=\"spacingAndGlyphs\" textLength=\"8\" x=\"368\" y=\"71.1074\">A</text><line style=\"stroke: #383838; stroke-width: 1.5;\" x1=\"301\" x2=\"443\" y1=\"78.9375\" y2=\"78.9375\"/><text fill=\"#000000\" font-family=\"sans-serif\" font-size=\"11\" lengthAdjust=\"spacingAndGlyphs\" textLength=\"29\" x=\"306\" y=\"109.9526\">p1: P</text><text fill=\"#000000\" font-family=\"sans-serif\" font-size=\"11\" font-style=\"italic\" lengthAdjust=\"spacingAndGlyphs\" textLength=\"132\" x=\"306\" y=\"122.7573\">:&gt;&gt;Connection::source</text><text fill=\"#000000\" font-family=\"sans-serif\" font-size=\"11\" lengthAdjust=\"spacingAndGlyphs\" textLength=\"38\" x=\"306\" y=\"135.562\">p2: ~P</text><text fill=\"#000000\" font-family=\"sans-serif\" font-size=\"11\" font-style=\"italic\" lengthAdjust=\"spacingAndGlyphs\" textLength=\"127\" x=\"306\" y=\"148.3667\">:&gt;&gt;Connection::target</text><line style=\"stroke: #383838; stroke-width: 1.0;\" x1=\"301\" x2=\"357\" y1=\"93.3398\" y2=\"93.3398\"/><text fill=\"#000000\" font-family=\"sans-serif\" font-size=\"11\" lengthAdjust=\"spacingAndGlyphs\" textLength=\"30\" x=\"357\" y=\"96.6479\">ports</text><line style=\"stroke: #383838; stroke-width: 1.0;\" x1=\"387\" x2=\"443\" y1=\"93.3398\" y2=\"93.3398\"/><!--MD5=[fd4143e9d270a159db93a4ea2a975926]\n",
       "class E9--><rect fill=\"#FFFFFF\" height=\"113.9609\" id=\"E9\" style=\"stroke: #383838; stroke-width: 1.5;\" width=\"131\" x=\"133.5\" y=\"41\"/><text fill=\"#000000\" font-family=\"sans-serif\" font-size=\"12\" font-style=\"italic\" lengthAdjust=\"spacingAndGlyphs\" textLength=\"94\" x=\"152\" y=\"57.1387\">«interface def»</text><text fill=\"#000000\" font-family=\"sans-serif\" font-size=\"12\" lengthAdjust=\"spacingAndGlyphs\" textLength=\"3\" x=\"197.5\" y=\"71.1074\">I</text><line style=\"stroke: #383838; stroke-width: 1.5;\" x1=\"134.5\" x2=\"263.5\" y1=\"78.9375\" y2=\"78.9375\"/><text fill=\"#000000\" font-family=\"sans-serif\" font-size=\"11\" lengthAdjust=\"spacingAndGlyphs\" textLength=\"29\" x=\"139.5\" y=\"109.9526\">p1: P</text><text fill=\"#000000\" font-family=\"sans-serif\" font-size=\"11\" font-style=\"italic\" lengthAdjust=\"spacingAndGlyphs\" textLength=\"119\" x=\"139.5\" y=\"122.7573\">:&gt;&gt;Interface::source</text><text fill=\"#000000\" font-family=\"sans-serif\" font-size=\"11\" lengthAdjust=\"spacingAndGlyphs\" textLength=\"38\" x=\"139.5\" y=\"135.562\">p2: ~P</text><text fill=\"#000000\" font-family=\"sans-serif\" font-size=\"11\" font-style=\"italic\" lengthAdjust=\"spacingAndGlyphs\" textLength=\"114\" x=\"139.5\" y=\"148.3667\">:&gt;&gt;Interface::target</text><line style=\"stroke: #383838; stroke-width: 1.0;\" x1=\"134.5\" x2=\"184\" y1=\"93.3398\" y2=\"93.3398\"/><text fill=\"#000000\" font-family=\"sans-serif\" font-size=\"11\" lengthAdjust=\"spacingAndGlyphs\" textLength=\"30\" x=\"184\" y=\"96.6479\">ports</text><line style=\"stroke: #383838; stroke-width: 1.0;\" x1=\"214\" x2=\"263.5\" y1=\"93.3398\" y2=\"93.3398\"/><!--MD5=[49a0ec8f00dab7302a31f22d0f0fe584]\n",
       "class E12--><rect fill=\"#FFFFFF\" height=\"45.9375\" id=\"E12\" style=\"stroke: #383838; stroke-width: 1.5;\" width=\"66\" x=\"32\" y=\"75\"/><text fill=\"#000000\" font-family=\"sans-serif\" font-size=\"12\" font-style=\"italic\" lengthAdjust=\"spacingAndGlyphs\" textLength=\"64\" x=\"33\" y=\"91.1387\">«part def»</text><text fill=\"#000000\" font-family=\"sans-serif\" font-size=\"12\" lengthAdjust=\"spacingAndGlyphs\" textLength=\"16\" x=\"57\" y=\"105.1074\">B1</text><line style=\"stroke: #383838; stroke-width: 1.5;\" x1=\"33\" x2=\"97\" y1=\"112.9375\" y2=\"112.9375\"/><!--MD5=[ee3c913d1a06f366521f9ef512b67efe]\n",
       "class E13--><rect fill=\"#FFFFFF\" height=\"88.3516\" id=\"E13\" rx=\"10\" ry=\"10\" style=\"stroke: #383838; stroke-width: 1.5;\" width=\"50\" x=\"40\" y=\"215\"/><text fill=\"#000000\" font-family=\"sans-serif\" font-size=\"12\" font-style=\"italic\" lengthAdjust=\"spacingAndGlyphs\" textLength=\"40\" x=\"45\" y=\"231.1387\">«part»</text><text fill=\"#000000\" font-family=\"sans-serif\" font-size=\"12\" lengthAdjust=\"spacingAndGlyphs\" textLength=\"42\" x=\"44\" y=\"245.1074\">p: Part</text><line style=\"stroke: #383838; stroke-width: 1.5;\" x1=\"41\" x2=\"89\" y1=\"252.9375\" y2=\"252.9375\"/><text fill=\"#000000\" font-family=\"sans-serif\" font-size=\"11\" lengthAdjust=\"spacingAndGlyphs\" textLength=\"29\" x=\"46\" y=\"283.9526\">p1: P</text><text fill=\"#000000\" font-family=\"sans-serif\" font-size=\"11\" lengthAdjust=\"spacingAndGlyphs\" textLength=\"38\" x=\"46\" y=\"296.7573\">p2: ~P</text><line style=\"stroke: #383838; stroke-width: 1.0;\" x1=\"41\" x2=\"50\" y1=\"267.3398\" y2=\"267.3398\"/><text fill=\"#000000\" font-family=\"sans-serif\" font-size=\"11\" lengthAdjust=\"spacingAndGlyphs\" textLength=\"30\" x=\"50\" y=\"270.6479\">ports</text><line style=\"stroke: #383838; stroke-width: 1.0;\" x1=\"80\" x2=\"89\" y1=\"267.3398\" y2=\"267.3398\"/><!--MD5=[062ed86c389d1a88f61c6380d0491e17]\n",
       "reverse link E12 to E13--><path d=\"M65,134.11 C65,157.9 65,189.5 65,214.83 \" fill=\"none\" id=\"E12&lt;-E13\" style=\"stroke: #383838; stroke-width: 1.0;\"/><polygon fill=\"#383838\" points=\"65,121.11,61,127.11,65,133.11,69,127.11,65,121.11\" style=\"stroke: #383838; stroke-width: 1.0;\"/><!--MD5=[6924374ea3beff135405be133dd1b3d2]\n",
       "@startuml\r\n",
       "top to bottom direction\r\n",
       "skinparam monochrome true\r\n",
       "skinparam classbackgroundcolor white\r\n",
       "skinparam shadowing false\r\n",
       "skinparam wrapWidth 300\r\n",
       "hide circle\r\n",
       "\r\n",
       "package \"ConjugationTest\" as E1   {\r\n",
       "comp def \"P\" as E2  <<(T,blue)port def>> {\r\n",
       "}\r\n",
       "comp def \"B\" as E3  <<(T,blue)part def>> {\r\n",
       "- -ports- -\r\n",
       "p1: P\r\n",
       "p2: ~P\r\n",
       "}\r\n",
       "comp def \"A\" as E6  <<(T,blue)connection def>> {\r\n",
       "- -ports- -\r\n",
       "p1: P\\n//:>>Connection::source// \r\n",
       "p2: ~P\\n//:>>Connection::target// \r\n",
       "}\r\n",
       "comp def \"I\" as E9  <<(T,blue)interface def>> {\r\n",
       "- -ports- -\r\n",
       "p1: P\\n//:>>Interface::source// \r\n",
       "p2: ~P\\n//:>>Interface::target// \r\n",
       "}\r\n",
       "comp def \"B1\" as E12  <<(T,blue)part def>> {\r\n",
       "}\r\n",
       "comp usage \"p: Part\" as E13  <<(T,blue)part>> {\r\n",
       "- -ports- -\r\n",
       "p1: P\r\n",
       "p2: ~P\r\n",
       "}\r\n",
       "E12 *- - E13\r\n",
       "}\r\n",
       "@enduml\r\n",
       "\n",
       "PlantUML version 1.2020.13(Sat Jun 13 12:26:38 UTC 2020)\n",
       "(EPL source distribution)\n",
       "Java Runtime: OpenJDK Runtime Environment\n",
       "JVM: OpenJDK 64-Bit Server VM\n",
       "Default Encoding: UTF-8\n",
       "Language: en\n",
       "Country: null\n",
       "--></g></svg>"
      ]
     },
     "execution_count": 44,
     "metadata": {},
     "output_type": "execute_result"
    }
   ],
   "source": [
    "%viz --style=\"TB\" --view=\"Default\" \"ConjugationTest\""
   ]
  },
  {
   "cell_type": "code",
   "execution_count": 45,
   "id": "opposite-footage",
   "metadata": {
    "execution": {
     "iopub.execute_input": "2021-03-25T16:02:33.568598Z",
     "iopub.status.busy": "2021-03-25T16:02:33.568108Z",
     "iopub.status.idle": "2021-03-25T16:02:35.175009Z",
     "shell.execute_reply": "2021-03-25T16:02:35.173577Z"
    }
   },
   "outputs": [
    {
     "data": {
      "image/svg+xml": [
       "<?xml version=\"1.0\" encoding=\"UTF-8\" standalone=\"no\"?><svg xmlns=\"http://www.w3.org/2000/svg\" xmlns:xlink=\"http://www.w3.org/1999/xlink\" contentScriptType=\"application/ecmascript\" contentStyleType=\"text/css\" height=\"331px\" preserveAspectRatio=\"none\" style=\"width:684px;height:331px;\" version=\"1.1\" viewBox=\"0 0 684 331\" width=\"684px\" zoomAndPan=\"magnify\"><defs/><g><!--MD5=[fbc87193dbaf4d95561dea2c320d4a47]\n",
       "cluster E1--><polygon fill=\"#FFFFFF\" points=\"16,6,151,6,158,28.2969,662,28.2969,662,319,16,319,16,6\" style=\"stroke: #000000; stroke-width: 1.5;\"/><line style=\"stroke: #000000; stroke-width: 1.5;\" x1=\"16\" x2=\"158\" y1=\"28.2969\" y2=\"28.2969\"/><text fill=\"#000000\" font-family=\"sans-serif\" font-size=\"14\" font-weight=\"bold\" lengthAdjust=\"spacingAndGlyphs\" textLength=\"129\" x=\"20\" y=\"20.9951\">ConjugationTest</text><!--MD5=[b4997ac47864f28c2f74865a473b2911]\n",
       "class E2--><rect fill=\"#FFFFFF\" height=\"45.9375\" id=\"E2\" style=\"stroke: #383838; stroke-width: 1.5;\" width=\"66\" x=\"580\" y=\"75\"/><text fill=\"#000000\" font-family=\"sans-serif\" font-size=\"12\" font-style=\"italic\" lengthAdjust=\"spacingAndGlyphs\" textLength=\"64\" x=\"581\" y=\"91.1387\">«port def»</text><text fill=\"#000000\" font-family=\"sans-serif\" font-size=\"12\" lengthAdjust=\"spacingAndGlyphs\" textLength=\"8\" x=\"609\" y=\"105.1074\">P</text><line style=\"stroke: #383838; stroke-width: 1.5;\" x1=\"581\" x2=\"645\" y1=\"112.9375\" y2=\"112.9375\"/><!--MD5=[09b614a08d8cba4a07c9adeb5e0fee81]\n",
       "class E3--><rect fill=\"#FFFFFF\" height=\"88.3516\" id=\"E3\" style=\"stroke: #383838; stroke-width: 1.5;\" width=\"66\" x=\"479\" y=\"54\"/><text fill=\"#000000\" font-family=\"sans-serif\" font-size=\"12\" font-style=\"italic\" lengthAdjust=\"spacingAndGlyphs\" textLength=\"64\" x=\"480\" y=\"70.1387\">«part def»</text><text fill=\"#000000\" font-family=\"sans-serif\" font-size=\"12\" lengthAdjust=\"spacingAndGlyphs\" textLength=\"8\" x=\"508\" y=\"84.1074\">B</text><line style=\"stroke: #383838; stroke-width: 1.5;\" x1=\"480\" x2=\"544\" y1=\"91.9375\" y2=\"91.9375\"/><text fill=\"#000000\" font-family=\"sans-serif\" font-size=\"11\" lengthAdjust=\"spacingAndGlyphs\" textLength=\"29\" x=\"485\" y=\"122.9526\">p1: P</text><text fill=\"#000000\" font-family=\"sans-serif\" font-size=\"11\" lengthAdjust=\"spacingAndGlyphs\" textLength=\"38\" x=\"485\" y=\"135.7573\">p2: ~P</text><line style=\"stroke: #383838; stroke-width: 1.0;\" x1=\"480\" x2=\"497\" y1=\"106.3398\" y2=\"106.3398\"/><text fill=\"#000000\" font-family=\"sans-serif\" font-size=\"11\" lengthAdjust=\"spacingAndGlyphs\" textLength=\"30\" x=\"497\" y=\"109.6479\">ports</text><line style=\"stroke: #383838; stroke-width: 1.0;\" x1=\"527\" x2=\"544\" y1=\"106.3398\" y2=\"106.3398\"/><!--MD5=[60a26617385b1d2d0262a64233df1f8d]\n",
       "class E6--><rect fill=\"#FFFFFF\" height=\"113.9609\" id=\"E6\" style=\"stroke: #383838; stroke-width: 1.5;\" width=\"144\" x=\"300\" y=\"41\"/><text fill=\"#000000\" font-family=\"sans-serif\" font-size=\"12\" font-style=\"italic\" lengthAdjust=\"spacingAndGlyphs\" textLength=\"108\" x=\"318\" y=\"57.1387\">«connection def»</text><text fill=\"#000000\" font-family=\"sans-serif\" font-size=\"12\" lengthAdjust=\"spacingAndGlyphs\" textLength=\"8\" x=\"368\" y=\"71.1074\">A</text><line style=\"stroke: #383838; stroke-width: 1.5;\" x1=\"301\" x2=\"443\" y1=\"78.9375\" y2=\"78.9375\"/><text fill=\"#000000\" font-family=\"sans-serif\" font-size=\"11\" lengthAdjust=\"spacingAndGlyphs\" textLength=\"29\" x=\"306\" y=\"109.9526\">p1: P</text><text fill=\"#000000\" font-family=\"sans-serif\" font-size=\"11\" font-style=\"italic\" lengthAdjust=\"spacingAndGlyphs\" textLength=\"132\" x=\"306\" y=\"122.7573\">:&gt;&gt;Connection::source</text><text fill=\"#000000\" font-family=\"sans-serif\" font-size=\"11\" lengthAdjust=\"spacingAndGlyphs\" textLength=\"38\" x=\"306\" y=\"135.562\">p2: ~P</text><text fill=\"#000000\" font-family=\"sans-serif\" font-size=\"11\" font-style=\"italic\" lengthAdjust=\"spacingAndGlyphs\" textLength=\"127\" x=\"306\" y=\"148.3667\">:&gt;&gt;Connection::target</text><line style=\"stroke: #383838; stroke-width: 1.0;\" x1=\"301\" x2=\"357\" y1=\"93.3398\" y2=\"93.3398\"/><text fill=\"#000000\" font-family=\"sans-serif\" font-size=\"11\" lengthAdjust=\"spacingAndGlyphs\" textLength=\"30\" x=\"357\" y=\"96.6479\">ports</text><line style=\"stroke: #383838; stroke-width: 1.0;\" x1=\"387\" x2=\"443\" y1=\"93.3398\" y2=\"93.3398\"/><!--MD5=[fd4143e9d270a159db93a4ea2a975926]\n",
       "class E9--><rect fill=\"#FFFFFF\" height=\"113.9609\" id=\"E9\" style=\"stroke: #383838; stroke-width: 1.5;\" width=\"131\" x=\"133.5\" y=\"41\"/><text fill=\"#000000\" font-family=\"sans-serif\" font-size=\"12\" font-style=\"italic\" lengthAdjust=\"spacingAndGlyphs\" textLength=\"94\" x=\"152\" y=\"57.1387\">«interface def»</text><text fill=\"#000000\" font-family=\"sans-serif\" font-size=\"12\" lengthAdjust=\"spacingAndGlyphs\" textLength=\"3\" x=\"197.5\" y=\"71.1074\">I</text><line style=\"stroke: #383838; stroke-width: 1.5;\" x1=\"134.5\" x2=\"263.5\" y1=\"78.9375\" y2=\"78.9375\"/><text fill=\"#000000\" font-family=\"sans-serif\" font-size=\"11\" lengthAdjust=\"spacingAndGlyphs\" textLength=\"29\" x=\"139.5\" y=\"109.9526\">p1: P</text><text fill=\"#000000\" font-family=\"sans-serif\" font-size=\"11\" font-style=\"italic\" lengthAdjust=\"spacingAndGlyphs\" textLength=\"119\" x=\"139.5\" y=\"122.7573\">:&gt;&gt;Interface::source</text><text fill=\"#000000\" font-family=\"sans-serif\" font-size=\"11\" lengthAdjust=\"spacingAndGlyphs\" textLength=\"38\" x=\"139.5\" y=\"135.562\">p2: ~P</text><text fill=\"#000000\" font-family=\"sans-serif\" font-size=\"11\" font-style=\"italic\" lengthAdjust=\"spacingAndGlyphs\" textLength=\"114\" x=\"139.5\" y=\"148.3667\">:&gt;&gt;Interface::target</text><line style=\"stroke: #383838; stroke-width: 1.0;\" x1=\"134.5\" x2=\"184\" y1=\"93.3398\" y2=\"93.3398\"/><text fill=\"#000000\" font-family=\"sans-serif\" font-size=\"11\" lengthAdjust=\"spacingAndGlyphs\" textLength=\"30\" x=\"184\" y=\"96.6479\">ports</text><line style=\"stroke: #383838; stroke-width: 1.0;\" x1=\"214\" x2=\"263.5\" y1=\"93.3398\" y2=\"93.3398\"/><!--MD5=[49a0ec8f00dab7302a31f22d0f0fe584]\n",
       "class E12--><rect fill=\"#FFFFFF\" height=\"45.9375\" id=\"E12\" style=\"stroke: #383838; stroke-width: 1.5;\" width=\"66\" x=\"32\" y=\"75\"/><text fill=\"#000000\" font-family=\"sans-serif\" font-size=\"12\" font-style=\"italic\" lengthAdjust=\"spacingAndGlyphs\" textLength=\"64\" x=\"33\" y=\"91.1387\">«part def»</text><text fill=\"#000000\" font-family=\"sans-serif\" font-size=\"12\" lengthAdjust=\"spacingAndGlyphs\" textLength=\"16\" x=\"57\" y=\"105.1074\">B1</text><line style=\"stroke: #383838; stroke-width: 1.5;\" x1=\"33\" x2=\"97\" y1=\"112.9375\" y2=\"112.9375\"/><!--MD5=[ee3c913d1a06f366521f9ef512b67efe]\n",
       "class E13--><rect fill=\"#FFFFFF\" height=\"88.3516\" id=\"E13\" rx=\"10\" ry=\"10\" style=\"stroke: #383838; stroke-width: 1.5;\" width=\"50\" x=\"40\" y=\"215\"/><text fill=\"#000000\" font-family=\"sans-serif\" font-size=\"12\" font-style=\"italic\" lengthAdjust=\"spacingAndGlyphs\" textLength=\"40\" x=\"45\" y=\"231.1387\">«part»</text><text fill=\"#000000\" font-family=\"sans-serif\" font-size=\"12\" lengthAdjust=\"spacingAndGlyphs\" textLength=\"42\" x=\"44\" y=\"245.1074\">p: Part</text><line style=\"stroke: #383838; stroke-width: 1.5;\" x1=\"41\" x2=\"89\" y1=\"252.9375\" y2=\"252.9375\"/><text fill=\"#000000\" font-family=\"sans-serif\" font-size=\"11\" lengthAdjust=\"spacingAndGlyphs\" textLength=\"29\" x=\"46\" y=\"283.9526\">p1: P</text><text fill=\"#000000\" font-family=\"sans-serif\" font-size=\"11\" lengthAdjust=\"spacingAndGlyphs\" textLength=\"38\" x=\"46\" y=\"296.7573\">p2: ~P</text><line style=\"stroke: #383838; stroke-width: 1.0;\" x1=\"41\" x2=\"50\" y1=\"267.3398\" y2=\"267.3398\"/><text fill=\"#000000\" font-family=\"sans-serif\" font-size=\"11\" lengthAdjust=\"spacingAndGlyphs\" textLength=\"30\" x=\"50\" y=\"270.6479\">ports</text><line style=\"stroke: #383838; stroke-width: 1.0;\" x1=\"80\" x2=\"89\" y1=\"267.3398\" y2=\"267.3398\"/><!--MD5=[062ed86c389d1a88f61c6380d0491e17]\n",
       "reverse link E12 to E13--><path d=\"M65,134.11 C65,157.9 65,189.5 65,214.83 \" fill=\"none\" id=\"E12&lt;-E13\" style=\"stroke: #383838; stroke-width: 1.0;\"/><polygon fill=\"#383838\" points=\"65,121.11,61,127.11,65,133.11,69,127.11,65,121.11\" style=\"stroke: #383838; stroke-width: 1.0;\"/><!--MD5=[6924374ea3beff135405be133dd1b3d2]\n",
       "@startuml\r\n",
       "top to bottom direction\r\n",
       "skinparam monochrome true\r\n",
       "skinparam classbackgroundcolor white\r\n",
       "skinparam shadowing false\r\n",
       "skinparam wrapWidth 300\r\n",
       "hide circle\r\n",
       "\r\n",
       "package \"ConjugationTest\" as E1   {\r\n",
       "comp def \"P\" as E2  <<(T,blue)port def>> {\r\n",
       "}\r\n",
       "comp def \"B\" as E3  <<(T,blue)part def>> {\r\n",
       "- -ports- -\r\n",
       "p1: P\r\n",
       "p2: ~P\r\n",
       "}\r\n",
       "comp def \"A\" as E6  <<(T,blue)connection def>> {\r\n",
       "- -ports- -\r\n",
       "p1: P\\n//:>>Connection::source// \r\n",
       "p2: ~P\\n//:>>Connection::target// \r\n",
       "}\r\n",
       "comp def \"I\" as E9  <<(T,blue)interface def>> {\r\n",
       "- -ports- -\r\n",
       "p1: P\\n//:>>Interface::source// \r\n",
       "p2: ~P\\n//:>>Interface::target// \r\n",
       "}\r\n",
       "comp def \"B1\" as E12  <<(T,blue)part def>> {\r\n",
       "}\r\n",
       "comp usage \"p: Part\" as E13  <<(T,blue)part>> {\r\n",
       "- -ports- -\r\n",
       "p1: P\r\n",
       "p2: ~P\r\n",
       "}\r\n",
       "E12 *- - E13\r\n",
       "}\r\n",
       "@enduml\r\n",
       "\n",
       "PlantUML version 1.2020.13(Sat Jun 13 12:26:38 UTC 2020)\n",
       "(EPL source distribution)\n",
       "Java Runtime: OpenJDK Runtime Environment\n",
       "JVM: OpenJDK 64-Bit Server VM\n",
       "Default Encoding: UTF-8\n",
       "Language: en\n",
       "Country: null\n",
       "--></g></svg>"
      ]
     },
     "execution_count": 45,
     "metadata": {},
     "output_type": "execute_result"
    }
   ],
   "source": [
    "%viz --style=\"TB\" --view=\"Tree\" \"ConjugationTest\""
   ]
  },
  {
   "cell_type": "code",
   "execution_count": 46,
   "id": "handed-place",
   "metadata": {
    "execution": {
     "iopub.execute_input": "2021-03-25T16:02:35.228067Z",
     "iopub.status.busy": "2021-03-25T16:02:35.226747Z",
     "iopub.status.idle": "2021-03-25T16:02:35.229838Z",
     "shell.execute_reply": "2021-03-25T16:02:35.230402Z"
    }
   },
   "outputs": [
    {
     "data": {
      "text/plain": [
       "java.lang.IllegalArgumentException: Invalid View: State View candidates are: Default Tree StateMachine Interconnection Activity Sequence MIXED \n",
       "\tat org.omg.sysml.plantuml.SysML2PlantUMLSvc.setView(SysML2PlantUMLSvc.java:63)\n",
       "\tat org.omg.sysml.interactive.SysMLInteractive.viz(SysMLInteractive.java:286)\n",
       "\tat org.omg.sysml.jupyter.kernel.magic.Viz.viz(Viz.java:47)\n",
       "\tat jdk.internal.reflect.GeneratedMethodAccessor12.invoke(Unknown Source)\n",
       "\tat java.base/jdk.internal.reflect.DelegatingMethodAccessorImpl.invoke(DelegatingMethodAccessorImpl.java:43)\n",
       "\tat java.base/java.lang.reflect.Method.invoke(Method.java:568)\n",
       "\tat io.github.spencerpark.jupyter.kernel.magic.registry.Magics.invoke(Magics.java:89)\n",
       "\tat io.github.spencerpark.jupyter.kernel.magic.registry.Magics.access$000(Magics.java:8)\n",
       "\tat io.github.spencerpark.jupyter.kernel.magic.registry.Magics$LineReflectionMagicFunction.execute(Magics.java:149)\n",
       "\tat io.github.spencerpark.jupyter.kernel.magic.registry.Magics.applyLineMagic(Magics.java:26)\n",
       "\tat org.omg.sysml.jupyter.kernel.SysMLKernel.eval(SysMLKernel.java:76)\n",
       "\tat io.github.spencerpark.jupyter.kernel.BaseKernel.handleExecuteRequest(BaseKernel.java:334)\n",
       "\tat io.github.spencerpark.jupyter.channels.ShellChannel.lambda$bind$0(ShellChannel.java:64)\n",
       "\tat io.github.spencerpark.jupyter.channels.Loop.lambda$new$0(Loop.java:21)\n",
       "\tat io.github.spencerpark.jupyter.channels.Loop.run(Loop.java:78)\n"
      ]
     },
     "execution_count": 46,
     "metadata": {},
     "output_type": "execute_result"
    }
   ],
   "source": [
    "%viz --style=\"TB\" --view=\"State\" \"ConjugationTest\""
   ]
  },
  {
   "cell_type": "code",
   "execution_count": 47,
   "id": "confidential-original",
   "metadata": {
    "execution": {
     "iopub.execute_input": "2021-03-25T16:02:35.281301Z",
     "iopub.status.busy": "2021-03-25T16:02:35.280649Z",
     "iopub.status.idle": "2021-03-25T16:02:35.382254Z",
     "shell.execute_reply": "2021-03-25T16:02:35.380831Z"
    }
   },
   "outputs": [
    {
     "data": {
      "image/svg+xml": [
       "<?xml version=\"1.0\" encoding=\"UTF-8\" standalone=\"no\"?><svg xmlns=\"http://www.w3.org/2000/svg\" xmlns:xlink=\"http://www.w3.org/1999/xlink\" contentScriptType=\"application/ecmascript\" contentStyleType=\"text/css\" height=\"252px\" preserveAspectRatio=\"none\" style=\"width:752px;height:252px;\" version=\"1.1\" viewBox=\"0 0 752 252\" width=\"752px\" zoomAndPan=\"magnify\"><defs/><g><!--MD5=[fbc87193dbaf4d95561dea2c320d4a47]\n",
       "cluster E1--><polygon fill=\"#FFFFFF\" points=\"16,6,151,6,158,28.2969,730,28.2969,730,240,16,240,16,6\" style=\"stroke: #000000; stroke-width: 1.5;\"/><line style=\"stroke: #000000; stroke-width: 1.5;\" x1=\"16\" x2=\"158\" y1=\"28.2969\" y2=\"28.2969\"/><text fill=\"#000000\" font-family=\"sans-serif\" font-size=\"14\" font-weight=\"bold\" lengthAdjust=\"spacingAndGlyphs\" textLength=\"129\" x=\"20\" y=\"20.9951\">ConjugationTest</text><!--MD5=[d5e69f78d87373223dbae638b30a9c99]\n",
       "cluster E3--><rect fill=\"#FFFFFF\" height=\"94\" style=\"stroke: #000000; stroke-width: 1.5;\" width=\"83\" x=\"590\" y=\"114\"/><text fill=\"#000000\" font-family=\"sans-serif\" font-size=\"14\" font-style=\"italic\" lengthAdjust=\"spacingAndGlyphs\" textLength=\"71\" x=\"596\" y=\"128.9951\">«part def»</text><text fill=\"#000000\" font-family=\"sans-serif\" font-size=\"14\" font-weight=\"bold\" lengthAdjust=\"spacingAndGlyphs\" textLength=\"10\" x=\"626.5\" y=\"145.292\">B</text><!--MD5=[14e3b0961a2654348d326746436168a1]\n",
       "cluster E6--><rect fill=\"#FFFFFF\" height=\"94\" style=\"stroke: #000000; stroke-width: 1.5;\" width=\"150\" x=\"436\" y=\"114\"/><text fill=\"#000000\" font-family=\"sans-serif\" font-size=\"14\" font-style=\"italic\" lengthAdjust=\"spacingAndGlyphs\" textLength=\"122\" x=\"450\" y=\"128.9951\">«connection def»</text><text fill=\"#000000\" font-family=\"sans-serif\" font-size=\"14\" font-weight=\"bold\" lengthAdjust=\"spacingAndGlyphs\" textLength=\"11\" x=\"505.5\" y=\"145.292\">A</text><!--MD5=[7f149f147074ac12df2cb0a7728a5fb0]\n",
       "cluster E9--><rect fill=\"#FFFFFF\" height=\"94\" style=\"stroke: #000000; stroke-width: 1.5;\" width=\"141\" x=\"267\" y=\"114\"/><text fill=\"#000000\" font-family=\"sans-serif\" font-size=\"14\" font-style=\"italic\" lengthAdjust=\"spacingAndGlyphs\" textLength=\"104\" x=\"285.5\" y=\"128.9951\">«interface def»</text><text fill=\"#000000\" font-family=\"sans-serif\" font-size=\"14\" font-weight=\"bold\" lengthAdjust=\"spacingAndGlyphs\" textLength=\"4\" x=\"335.5\" y=\"145.292\">I</text><!--MD5=[47bea60c1a0ac6c1143df232041969c0]\n",
       "cluster E12--><rect fill=\"#FFFFFF\" height=\"167\" style=\"stroke: #000000; stroke-width: 1.5;\" width=\"126\" x=\"114\" y=\"49\"/><text fill=\"#000000\" font-family=\"sans-serif\" font-size=\"14\" font-style=\"italic\" lengthAdjust=\"spacingAndGlyphs\" textLength=\"71\" x=\"141.5\" y=\"63.9951\">«part def»</text><text fill=\"#000000\" font-family=\"sans-serif\" font-size=\"14\" font-weight=\"bold\" lengthAdjust=\"spacingAndGlyphs\" textLength=\"20\" x=\"167\" y=\"80.292\">B1</text><!--MD5=[03104f77b71e2d8d3500c651e6e31181]\n",
       "cluster E13--><rect fill=\"#F8F8F8\" height=\"86\" rx=\"12.5\" ry=\"12.5\" style=\"stroke: #000000; stroke-width: 1.5;\" width=\"83\" x=\"126\" y=\"114\"/><rect fill=\"#FFFFFF\" height=\"53.7031\" rx=\"12.5\" ry=\"12.5\" style=\"stroke: #FFFFFF; stroke-width: 1.0;\" width=\"77\" x=\"129\" y=\"143.2969\"/><line style=\"stroke: #000000; stroke-width: 1.5;\" x1=\"126\" x2=\"209\" y1=\"140.2969\" y2=\"140.2969\"/><text fill=\"#000000\" font-family=\"sans-serif\" font-size=\"14\" lengthAdjust=\"spacingAndGlyphs\" textLength=\"45\" x=\"145\" y=\"131.9951\">p: Part</text><!--MD5=[b4997ac47864f28c2f74865a473b2911]\n",
       "class E2--><rect fill=\"#FFFFFF\" height=\"53.9375\" id=\"E2\" style=\"stroke: #383838; stroke-width: 1.5;\" width=\"66\" x=\"32\" y=\"87\"/><text fill=\"#000000\" font-family=\"sans-serif\" font-size=\"12\" font-style=\"italic\" lengthAdjust=\"spacingAndGlyphs\" textLength=\"64\" x=\"33\" y=\"103.1387\">«port def»</text><text fill=\"#000000\" font-family=\"sans-serif\" font-size=\"12\" lengthAdjust=\"spacingAndGlyphs\" textLength=\"8\" x=\"61\" y=\"117.1074\">P</text><line style=\"stroke: #383838; stroke-width: 1.5;\" x1=\"33\" x2=\"97\" y1=\"124.9375\" y2=\"124.9375\"/><line style=\"stroke: #383838; stroke-width: 1.5;\" x1=\"33\" x2=\"97\" y1=\"132.9375\" y2=\"132.9375\"/><text fill=\"#000000\" font-family=\"sans-serif\" font-size=\"14\" lengthAdjust=\"spacingAndGlyphs\" textLength=\"36\" x=\"590\" y=\"92.6982\">p1: P</text><rect fill=\"#383838\" height=\"12\" style=\"stroke: #F8F8F8; stroke-width: 1.5;\" width=\"12\" x=\"602\" y=\"108\"/><text fill=\"#000000\" font-family=\"sans-serif\" font-size=\"14\" lengthAdjust=\"spacingAndGlyphs\" textLength=\"48\" x=\"631\" y=\"92.6982\">p2: ~P</text><rect fill=\"#383838\" height=\"12\" style=\"stroke: #F8F8F8; stroke-width: 1.5;\" width=\"12\" x=\"649\" y=\"108\"/><text fill=\"#000000\" font-family=\"sans-serif\" font-size=\"14\" lengthAdjust=\"spacingAndGlyphs\" textLength=\"36\" x=\"436\" y=\"92.6982\">p1: P</text><rect fill=\"#383838\" height=\"12\" style=\"stroke: #F8F8F8; stroke-width: 1.5;\" width=\"12\" x=\"448\" y=\"108\"/><text fill=\"#000000\" font-family=\"sans-serif\" font-size=\"14\" lengthAdjust=\"spacingAndGlyphs\" textLength=\"48\" x=\"477\" y=\"92.6982\">p2: ~P</text><rect fill=\"#383838\" height=\"12\" style=\"stroke: #F8F8F8; stroke-width: 1.5;\" width=\"12\" x=\"495\" y=\"108\"/><text fill=\"#000000\" font-family=\"sans-serif\" font-size=\"14\" lengthAdjust=\"spacingAndGlyphs\" textLength=\"36\" x=\"267\" y=\"92.6982\">p1: P</text><rect fill=\"#383838\" height=\"12\" style=\"stroke: #F8F8F8; stroke-width: 1.5;\" width=\"12\" x=\"279\" y=\"108\"/><text fill=\"#000000\" font-family=\"sans-serif\" font-size=\"14\" lengthAdjust=\"spacingAndGlyphs\" textLength=\"48\" x=\"308\" y=\"92.6982\">p2: ~P</text><rect fill=\"#383838\" height=\"12\" style=\"stroke: #F8F8F8; stroke-width: 1.5;\" width=\"12\" x=\"326\" y=\"108\"/><text fill=\"#000000\" font-family=\"sans-serif\" font-size=\"14\" lengthAdjust=\"spacingAndGlyphs\" textLength=\"36\" x=\"126\" y=\"92.6982\">p1: P</text><rect fill=\"#383838\" height=\"12\" style=\"stroke: #F8F8F8; stroke-width: 1.5;\" width=\"12\" x=\"138\" y=\"108\"/><text fill=\"#000000\" font-family=\"sans-serif\" font-size=\"14\" lengthAdjust=\"spacingAndGlyphs\" textLength=\"48\" x=\"167\" y=\"92.6982\">p2: ~P</text><rect fill=\"#383838\" height=\"12\" style=\"stroke: #F8F8F8; stroke-width: 1.5;\" width=\"12\" x=\"185\" y=\"108\"/><!--MD5=[4ce51ac6fa4cf5202df3859e2718f033]\n",
       "link E15 to E14--><path d=\"M184.95,114 C173.38,114 161.81,114 150.24,114 \" fill=\"none\" id=\"E15-E14\" style=\"stroke: #383838; stroke-width: 3.0;\"/><!--MD5=[4ce51ac6fa4cf5202df3859e2718f033]\n",
       "link E15 to E14--><path d=\"M184.95,111.98 C173.38,108.69 161.81,108.67 150.24,111.93 \" fill=\"none\" id=\"E15-E14-1\" style=\"stroke: #383838; stroke-width: 3.0;\"/><!--MD5=[031be23d3472c477f5b21fcb5210c967]\n",
       "@startuml\r\n",
       "skinparam ranksep 8\r\n",
       "skinparam rectangle {\r\n",
       " backgroundColor<<block>> LightGreen\r\n",
       "}\r\n",
       "top to bottom direction\r\n",
       "skinparam monochrome true\r\n",
       "skinparam classbackgroundcolor white\r\n",
       "skinparam shadowing false\r\n",
       "skinparam wrapWidth 300\r\n",
       "hide circle\r\n",
       "\r\n",
       "package \"ConjugationTest\" as E1   {\r\n",
       "def \"P\" as E2  <<port def>> \r\n",
       "rec def \"B\" as E3  <<part def>> {\r\n",
       "portin \"p1: P\" as E4  <<port>> \r\n",
       "portin \"p2: ~P\" as E5  <<port>> \r\n",
       "}\r\n",
       "rec def \"A\" as E6  <<connection def>> {\r\n",
       "portin \"p1: P\" as E7  <<port>> \r\n",
       "portin \"p2: ~P\" as E8  <<port>> \r\n",
       "}\r\n",
       "rec def \"I\" as E9  <<interface def>> {\r\n",
       "portin \"p1: P\" as E10  <<port>> \r\n",
       "portin \"p2: ~P\" as E11  <<port>> \r\n",
       "}\r\n",
       "rec def \"B1\" as E12  <<part def>> {\r\n",
       "rec usage \"p: Part\" as E13  {\r\n",
       "portin \"p1: P\" as E14  <<port>> \r\n",
       "portin \"p2: ~P\" as E15  <<port>> \r\n",
       "}\r\n",
       "}\r\n",
       "E15 -[thickness=3]- E14\r\n",
       "E15 -[thickness=3]- E14\r\n",
       "}\r\n",
       "@enduml\r\n",
       "\n",
       "PlantUML version 1.2020.13(Sat Jun 13 12:26:38 UTC 2020)\n",
       "(EPL source distribution)\n",
       "Java Runtime: OpenJDK Runtime Environment\n",
       "JVM: OpenJDK 64-Bit Server VM\n",
       "Default Encoding: UTF-8\n",
       "Language: en\n",
       "Country: null\n",
       "--></g></svg>"
      ]
     },
     "execution_count": 47,
     "metadata": {},
     "output_type": "execute_result"
    }
   ],
   "source": [
    "%viz --style=\"TB\" --view=\"Interconnection\" \"ConjugationTest\""
   ]
  },
  {
   "cell_type": "code",
   "execution_count": 48,
   "id": "thick-stuff",
   "metadata": {
    "execution": {
     "iopub.execute_input": "2021-03-25T16:02:35.434545Z",
     "iopub.status.busy": "2021-03-25T16:02:35.433581Z",
     "iopub.status.idle": "2021-03-25T16:02:35.437417Z",
     "shell.execute_reply": "2021-03-25T16:02:35.436944Z"
    }
   },
   "outputs": [
    {
     "data": {
      "text/plain": [
       "java.lang.IllegalArgumentException: Invalid View: Action View candidates are: Default Tree StateMachine Interconnection Activity Sequence MIXED \n",
       "\tat org.omg.sysml.plantuml.SysML2PlantUMLSvc.setView(SysML2PlantUMLSvc.java:63)\n",
       "\tat org.omg.sysml.interactive.SysMLInteractive.viz(SysMLInteractive.java:286)\n",
       "\tat org.omg.sysml.jupyter.kernel.magic.Viz.viz(Viz.java:47)\n",
       "\tat jdk.internal.reflect.GeneratedMethodAccessor12.invoke(Unknown Source)\n",
       "\tat java.base/jdk.internal.reflect.DelegatingMethodAccessorImpl.invoke(DelegatingMethodAccessorImpl.java:43)\n",
       "\tat java.base/java.lang.reflect.Method.invoke(Method.java:568)\n",
       "\tat io.github.spencerpark.jupyter.kernel.magic.registry.Magics.invoke(Magics.java:89)\n",
       "\tat io.github.spencerpark.jupyter.kernel.magic.registry.Magics.access$000(Magics.java:8)\n",
       "\tat io.github.spencerpark.jupyter.kernel.magic.registry.Magics$LineReflectionMagicFunction.execute(Magics.java:149)\n",
       "\tat io.github.spencerpark.jupyter.kernel.magic.registry.Magics.applyLineMagic(Magics.java:26)\n",
       "\tat org.omg.sysml.jupyter.kernel.SysMLKernel.eval(SysMLKernel.java:76)\n",
       "\tat io.github.spencerpark.jupyter.kernel.BaseKernel.handleExecuteRequest(BaseKernel.java:334)\n",
       "\tat io.github.spencerpark.jupyter.channels.ShellChannel.lambda$bind$0(ShellChannel.java:64)\n",
       "\tat io.github.spencerpark.jupyter.channels.Loop.lambda$new$0(Loop.java:21)\n",
       "\tat io.github.spencerpark.jupyter.channels.Loop.run(Loop.java:78)\n"
      ]
     },
     "execution_count": 48,
     "metadata": {},
     "output_type": "execute_result"
    }
   ],
   "source": [
    "%viz --style=\"TB\" --view=\"Action\" \"ConjugationTest\""
   ]
  },
  {
   "cell_type": "code",
   "execution_count": 49,
   "id": "descending-scout",
   "metadata": {
    "execution": {
     "iopub.execute_input": "2021-03-25T16:02:35.490049Z",
     "iopub.status.busy": "2021-03-25T16:02:35.489390Z",
     "iopub.status.idle": "2021-03-25T16:02:37.102813Z",
     "shell.execute_reply": "2021-03-25T16:02:37.101263Z"
    }
   },
   "outputs": [
    {
     "data": {
      "image/svg+xml": [
       "<?xml version=\"1.0\" encoding=\"UTF-8\" standalone=\"no\"?><svg xmlns=\"http://www.w3.org/2000/svg\" xmlns:xlink=\"http://www.w3.org/1999/xlink\" contentScriptType=\"application/ecmascript\" contentStyleType=\"text/css\" height=\"331px\" preserveAspectRatio=\"none\" style=\"width:684px;height:331px;\" version=\"1.1\" viewBox=\"0 0 684 331\" width=\"684px\" zoomAndPan=\"magnify\"><defs/><g><!--MD5=[fbc87193dbaf4d95561dea2c320d4a47]\n",
       "cluster E1--><polygon fill=\"#FFFFFF\" points=\"16,6,151,6,158,28.2969,662,28.2969,662,319,16,319,16,6\" style=\"stroke: #000000; stroke-width: 1.5;\"/><line style=\"stroke: #000000; stroke-width: 1.5;\" x1=\"16\" x2=\"158\" y1=\"28.2969\" y2=\"28.2969\"/><text fill=\"#000000\" font-family=\"sans-serif\" font-size=\"14\" font-weight=\"bold\" lengthAdjust=\"spacingAndGlyphs\" textLength=\"129\" x=\"20\" y=\"20.9951\">ConjugationTest</text><!--MD5=[b4997ac47864f28c2f74865a473b2911]\n",
       "class E2--><rect fill=\"#FFFFFF\" height=\"45.9375\" id=\"E2\" style=\"stroke: #383838; stroke-width: 1.5;\" width=\"66\" x=\"580\" y=\"75\"/><text fill=\"#000000\" font-family=\"sans-serif\" font-size=\"12\" font-style=\"italic\" lengthAdjust=\"spacingAndGlyphs\" textLength=\"64\" x=\"581\" y=\"91.1387\">«port def»</text><text fill=\"#000000\" font-family=\"sans-serif\" font-size=\"12\" lengthAdjust=\"spacingAndGlyphs\" textLength=\"8\" x=\"609\" y=\"105.1074\">P</text><line style=\"stroke: #383838; stroke-width: 1.5;\" x1=\"581\" x2=\"645\" y1=\"112.9375\" y2=\"112.9375\"/><!--MD5=[09b614a08d8cba4a07c9adeb5e0fee81]\n",
       "class E3--><rect fill=\"#FFFFFF\" height=\"88.3516\" id=\"E3\" style=\"stroke: #383838; stroke-width: 1.5;\" width=\"66\" x=\"479\" y=\"54\"/><text fill=\"#000000\" font-family=\"sans-serif\" font-size=\"12\" font-style=\"italic\" lengthAdjust=\"spacingAndGlyphs\" textLength=\"64\" x=\"480\" y=\"70.1387\">«part def»</text><text fill=\"#000000\" font-family=\"sans-serif\" font-size=\"12\" lengthAdjust=\"spacingAndGlyphs\" textLength=\"8\" x=\"508\" y=\"84.1074\">B</text><line style=\"stroke: #383838; stroke-width: 1.5;\" x1=\"480\" x2=\"544\" y1=\"91.9375\" y2=\"91.9375\"/><text fill=\"#000000\" font-family=\"sans-serif\" font-size=\"11\" lengthAdjust=\"spacingAndGlyphs\" textLength=\"29\" x=\"485\" y=\"122.9526\">p1: P</text><text fill=\"#000000\" font-family=\"sans-serif\" font-size=\"11\" lengthAdjust=\"spacingAndGlyphs\" textLength=\"38\" x=\"485\" y=\"135.7573\">p2: ~P</text><line style=\"stroke: #383838; stroke-width: 1.0;\" x1=\"480\" x2=\"497\" y1=\"106.3398\" y2=\"106.3398\"/><text fill=\"#000000\" font-family=\"sans-serif\" font-size=\"11\" lengthAdjust=\"spacingAndGlyphs\" textLength=\"30\" x=\"497\" y=\"109.6479\">ports</text><line style=\"stroke: #383838; stroke-width: 1.0;\" x1=\"527\" x2=\"544\" y1=\"106.3398\" y2=\"106.3398\"/><!--MD5=[60a26617385b1d2d0262a64233df1f8d]\n",
       "class E6--><rect fill=\"#FFFFFF\" height=\"113.9609\" id=\"E6\" style=\"stroke: #383838; stroke-width: 1.5;\" width=\"144\" x=\"300\" y=\"41\"/><text fill=\"#000000\" font-family=\"sans-serif\" font-size=\"12\" font-style=\"italic\" lengthAdjust=\"spacingAndGlyphs\" textLength=\"108\" x=\"318\" y=\"57.1387\">«connection def»</text><text fill=\"#000000\" font-family=\"sans-serif\" font-size=\"12\" lengthAdjust=\"spacingAndGlyphs\" textLength=\"8\" x=\"368\" y=\"71.1074\">A</text><line style=\"stroke: #383838; stroke-width: 1.5;\" x1=\"301\" x2=\"443\" y1=\"78.9375\" y2=\"78.9375\"/><text fill=\"#000000\" font-family=\"sans-serif\" font-size=\"11\" lengthAdjust=\"spacingAndGlyphs\" textLength=\"29\" x=\"306\" y=\"109.9526\">p1: P</text><text fill=\"#000000\" font-family=\"sans-serif\" font-size=\"11\" font-style=\"italic\" lengthAdjust=\"spacingAndGlyphs\" textLength=\"132\" x=\"306\" y=\"122.7573\">:&gt;&gt;Connection::source</text><text fill=\"#000000\" font-family=\"sans-serif\" font-size=\"11\" lengthAdjust=\"spacingAndGlyphs\" textLength=\"38\" x=\"306\" y=\"135.562\">p2: ~P</text><text fill=\"#000000\" font-family=\"sans-serif\" font-size=\"11\" font-style=\"italic\" lengthAdjust=\"spacingAndGlyphs\" textLength=\"127\" x=\"306\" y=\"148.3667\">:&gt;&gt;Connection::target</text><line style=\"stroke: #383838; stroke-width: 1.0;\" x1=\"301\" x2=\"357\" y1=\"93.3398\" y2=\"93.3398\"/><text fill=\"#000000\" font-family=\"sans-serif\" font-size=\"11\" lengthAdjust=\"spacingAndGlyphs\" textLength=\"30\" x=\"357\" y=\"96.6479\">ports</text><line style=\"stroke: #383838; stroke-width: 1.0;\" x1=\"387\" x2=\"443\" y1=\"93.3398\" y2=\"93.3398\"/><!--MD5=[fd4143e9d270a159db93a4ea2a975926]\n",
       "class E9--><rect fill=\"#FFFFFF\" height=\"113.9609\" id=\"E9\" style=\"stroke: #383838; stroke-width: 1.5;\" width=\"131\" x=\"133.5\" y=\"41\"/><text fill=\"#000000\" font-family=\"sans-serif\" font-size=\"12\" font-style=\"italic\" lengthAdjust=\"spacingAndGlyphs\" textLength=\"94\" x=\"152\" y=\"57.1387\">«interface def»</text><text fill=\"#000000\" font-family=\"sans-serif\" font-size=\"12\" lengthAdjust=\"spacingAndGlyphs\" textLength=\"3\" x=\"197.5\" y=\"71.1074\">I</text><line style=\"stroke: #383838; stroke-width: 1.5;\" x1=\"134.5\" x2=\"263.5\" y1=\"78.9375\" y2=\"78.9375\"/><text fill=\"#000000\" font-family=\"sans-serif\" font-size=\"11\" lengthAdjust=\"spacingAndGlyphs\" textLength=\"29\" x=\"139.5\" y=\"109.9526\">p1: P</text><text fill=\"#000000\" font-family=\"sans-serif\" font-size=\"11\" font-style=\"italic\" lengthAdjust=\"spacingAndGlyphs\" textLength=\"119\" x=\"139.5\" y=\"122.7573\">:&gt;&gt;Interface::source</text><text fill=\"#000000\" font-family=\"sans-serif\" font-size=\"11\" lengthAdjust=\"spacingAndGlyphs\" textLength=\"38\" x=\"139.5\" y=\"135.562\">p2: ~P</text><text fill=\"#000000\" font-family=\"sans-serif\" font-size=\"11\" font-style=\"italic\" lengthAdjust=\"spacingAndGlyphs\" textLength=\"114\" x=\"139.5\" y=\"148.3667\">:&gt;&gt;Interface::target</text><line style=\"stroke: #383838; stroke-width: 1.0;\" x1=\"134.5\" x2=\"184\" y1=\"93.3398\" y2=\"93.3398\"/><text fill=\"#000000\" font-family=\"sans-serif\" font-size=\"11\" lengthAdjust=\"spacingAndGlyphs\" textLength=\"30\" x=\"184\" y=\"96.6479\">ports</text><line style=\"stroke: #383838; stroke-width: 1.0;\" x1=\"214\" x2=\"263.5\" y1=\"93.3398\" y2=\"93.3398\"/><!--MD5=[49a0ec8f00dab7302a31f22d0f0fe584]\n",
       "class E12--><rect fill=\"#FFFFFF\" height=\"45.9375\" id=\"E12\" style=\"stroke: #383838; stroke-width: 1.5;\" width=\"66\" x=\"32\" y=\"75\"/><text fill=\"#000000\" font-family=\"sans-serif\" font-size=\"12\" font-style=\"italic\" lengthAdjust=\"spacingAndGlyphs\" textLength=\"64\" x=\"33\" y=\"91.1387\">«part def»</text><text fill=\"#000000\" font-family=\"sans-serif\" font-size=\"12\" lengthAdjust=\"spacingAndGlyphs\" textLength=\"16\" x=\"57\" y=\"105.1074\">B1</text><line style=\"stroke: #383838; stroke-width: 1.5;\" x1=\"33\" x2=\"97\" y1=\"112.9375\" y2=\"112.9375\"/><!--MD5=[ee3c913d1a06f366521f9ef512b67efe]\n",
       "class E13--><rect fill=\"#FFFFFF\" height=\"88.3516\" id=\"E13\" rx=\"10\" ry=\"10\" style=\"stroke: #383838; stroke-width: 1.5;\" width=\"50\" x=\"40\" y=\"215\"/><text fill=\"#000000\" font-family=\"sans-serif\" font-size=\"12\" font-style=\"italic\" lengthAdjust=\"spacingAndGlyphs\" textLength=\"40\" x=\"45\" y=\"231.1387\">«part»</text><text fill=\"#000000\" font-family=\"sans-serif\" font-size=\"12\" lengthAdjust=\"spacingAndGlyphs\" textLength=\"42\" x=\"44\" y=\"245.1074\">p: Part</text><line style=\"stroke: #383838; stroke-width: 1.5;\" x1=\"41\" x2=\"89\" y1=\"252.9375\" y2=\"252.9375\"/><text fill=\"#000000\" font-family=\"sans-serif\" font-size=\"11\" lengthAdjust=\"spacingAndGlyphs\" textLength=\"29\" x=\"46\" y=\"283.9526\">p1: P</text><text fill=\"#000000\" font-family=\"sans-serif\" font-size=\"11\" lengthAdjust=\"spacingAndGlyphs\" textLength=\"38\" x=\"46\" y=\"296.7573\">p2: ~P</text><line style=\"stroke: #383838; stroke-width: 1.0;\" x1=\"41\" x2=\"50\" y1=\"267.3398\" y2=\"267.3398\"/><text fill=\"#000000\" font-family=\"sans-serif\" font-size=\"11\" lengthAdjust=\"spacingAndGlyphs\" textLength=\"30\" x=\"50\" y=\"270.6479\">ports</text><line style=\"stroke: #383838; stroke-width: 1.0;\" x1=\"80\" x2=\"89\" y1=\"267.3398\" y2=\"267.3398\"/><!--MD5=[062ed86c389d1a88f61c6380d0491e17]\n",
       "reverse link E12 to E13--><path d=\"M65,134.11 C65,157.9 65,189.5 65,214.83 \" fill=\"none\" id=\"E12&lt;-E13\" style=\"stroke: #383838; stroke-width: 1.0;\"/><polygon fill=\"#383838\" points=\"65,121.11,61,127.11,65,133.11,69,127.11,65,121.11\" style=\"stroke: #383838; stroke-width: 1.0;\"/><!--MD5=[6924374ea3beff135405be133dd1b3d2]\n",
       "@startuml\r\n",
       "top to bottom direction\r\n",
       "skinparam monochrome true\r\n",
       "skinparam classbackgroundcolor white\r\n",
       "skinparam shadowing false\r\n",
       "skinparam wrapWidth 300\r\n",
       "hide circle\r\n",
       "\r\n",
       "package \"ConjugationTest\" as E1   {\r\n",
       "comp def \"P\" as E2  <<(T,blue)port def>> {\r\n",
       "}\r\n",
       "comp def \"B\" as E3  <<(T,blue)part def>> {\r\n",
       "- -ports- -\r\n",
       "p1: P\r\n",
       "p2: ~P\r\n",
       "}\r\n",
       "comp def \"A\" as E6  <<(T,blue)connection def>> {\r\n",
       "- -ports- -\r\n",
       "p1: P\\n//:>>Connection::source// \r\n",
       "p2: ~P\\n//:>>Connection::target// \r\n",
       "}\r\n",
       "comp def \"I\" as E9  <<(T,blue)interface def>> {\r\n",
       "- -ports- -\r\n",
       "p1: P\\n//:>>Interface::source// \r\n",
       "p2: ~P\\n//:>>Interface::target// \r\n",
       "}\r\n",
       "comp def \"B1\" as E12  <<(T,blue)part def>> {\r\n",
       "}\r\n",
       "comp usage \"p: Part\" as E13  <<(T,blue)part>> {\r\n",
       "- -ports- -\r\n",
       "p1: P\r\n",
       "p2: ~P\r\n",
       "}\r\n",
       "E12 *- - E13\r\n",
       "}\r\n",
       "@enduml\r\n",
       "\n",
       "PlantUML version 1.2020.13(Sat Jun 13 12:26:38 UTC 2020)\n",
       "(EPL source distribution)\n",
       "Java Runtime: OpenJDK Runtime Environment\n",
       "JVM: OpenJDK 64-Bit Server VM\n",
       "Default Encoding: UTF-8\n",
       "Language: en\n",
       "Country: null\n",
       "--></g></svg>"
      ]
     },
     "execution_count": 49,
     "metadata": {},
     "output_type": "execute_result"
    }
   ],
   "source": [
    "%viz --style=\"TB\" --view=\"Sequence\" \"ConjugationTest\""
   ]
  },
  {
   "cell_type": "code",
   "execution_count": 50,
   "id": "saved-article",
   "metadata": {
    "execution": {
     "iopub.execute_input": "2021-03-25T16:02:37.154474Z",
     "iopub.status.busy": "2021-03-25T16:02:37.153850Z",
     "iopub.status.idle": "2021-03-25T16:02:38.778029Z",
     "shell.execute_reply": "2021-03-25T16:02:38.776709Z"
    }
   },
   "outputs": [
    {
     "data": {
      "image/svg+xml": [
       "<?xml version=\"1.0\" encoding=\"UTF-8\" standalone=\"no\"?><svg xmlns=\"http://www.w3.org/2000/svg\" xmlns:xlink=\"http://www.w3.org/1999/xlink\" contentScriptType=\"application/ecmascript\" contentStyleType=\"text/css\" height=\"331px\" preserveAspectRatio=\"none\" style=\"width:684px;height:331px;\" version=\"1.1\" viewBox=\"0 0 684 331\" width=\"684px\" zoomAndPan=\"magnify\"><defs/><g><!--MD5=[fbc87193dbaf4d95561dea2c320d4a47]\n",
       "cluster E1--><polygon fill=\"#FFFFFF\" points=\"16,6,151,6,158,28.2969,662,28.2969,662,319,16,319,16,6\" style=\"stroke: #000000; stroke-width: 1.5;\"/><line style=\"stroke: #000000; stroke-width: 1.5;\" x1=\"16\" x2=\"158\" y1=\"28.2969\" y2=\"28.2969\"/><text fill=\"#000000\" font-family=\"sans-serif\" font-size=\"14\" font-weight=\"bold\" lengthAdjust=\"spacingAndGlyphs\" textLength=\"129\" x=\"20\" y=\"20.9951\">ConjugationTest</text><!--MD5=[b4997ac47864f28c2f74865a473b2911]\n",
       "class E2--><rect fill=\"#FFFFFF\" height=\"45.9375\" id=\"E2\" style=\"stroke: #383838; stroke-width: 1.5;\" width=\"66\" x=\"580\" y=\"75\"/><text fill=\"#000000\" font-family=\"sans-serif\" font-size=\"12\" font-style=\"italic\" lengthAdjust=\"spacingAndGlyphs\" textLength=\"64\" x=\"581\" y=\"91.1387\">«port def»</text><text fill=\"#000000\" font-family=\"sans-serif\" font-size=\"12\" lengthAdjust=\"spacingAndGlyphs\" textLength=\"8\" x=\"609\" y=\"105.1074\">P</text><line style=\"stroke: #383838; stroke-width: 1.5;\" x1=\"581\" x2=\"645\" y1=\"112.9375\" y2=\"112.9375\"/><!--MD5=[09b614a08d8cba4a07c9adeb5e0fee81]\n",
       "class E3--><rect fill=\"#FFFFFF\" height=\"88.3516\" id=\"E3\" style=\"stroke: #383838; stroke-width: 1.5;\" width=\"66\" x=\"479\" y=\"54\"/><text fill=\"#000000\" font-family=\"sans-serif\" font-size=\"12\" font-style=\"italic\" lengthAdjust=\"spacingAndGlyphs\" textLength=\"64\" x=\"480\" y=\"70.1387\">«part def»</text><text fill=\"#000000\" font-family=\"sans-serif\" font-size=\"12\" lengthAdjust=\"spacingAndGlyphs\" textLength=\"8\" x=\"508\" y=\"84.1074\">B</text><line style=\"stroke: #383838; stroke-width: 1.5;\" x1=\"480\" x2=\"544\" y1=\"91.9375\" y2=\"91.9375\"/><text fill=\"#000000\" font-family=\"sans-serif\" font-size=\"11\" lengthAdjust=\"spacingAndGlyphs\" textLength=\"29\" x=\"485\" y=\"122.9526\">p1: P</text><text fill=\"#000000\" font-family=\"sans-serif\" font-size=\"11\" lengthAdjust=\"spacingAndGlyphs\" textLength=\"38\" x=\"485\" y=\"135.7573\">p2: ~P</text><line style=\"stroke: #383838; stroke-width: 1.0;\" x1=\"480\" x2=\"497\" y1=\"106.3398\" y2=\"106.3398\"/><text fill=\"#000000\" font-family=\"sans-serif\" font-size=\"11\" lengthAdjust=\"spacingAndGlyphs\" textLength=\"30\" x=\"497\" y=\"109.6479\">ports</text><line style=\"stroke: #383838; stroke-width: 1.0;\" x1=\"527\" x2=\"544\" y1=\"106.3398\" y2=\"106.3398\"/><!--MD5=[60a26617385b1d2d0262a64233df1f8d]\n",
       "class E6--><rect fill=\"#FFFFFF\" height=\"113.9609\" id=\"E6\" style=\"stroke: #383838; stroke-width: 1.5;\" width=\"144\" x=\"300\" y=\"41\"/><text fill=\"#000000\" font-family=\"sans-serif\" font-size=\"12\" font-style=\"italic\" lengthAdjust=\"spacingAndGlyphs\" textLength=\"108\" x=\"318\" y=\"57.1387\">«connection def»</text><text fill=\"#000000\" font-family=\"sans-serif\" font-size=\"12\" lengthAdjust=\"spacingAndGlyphs\" textLength=\"8\" x=\"368\" y=\"71.1074\">A</text><line style=\"stroke: #383838; stroke-width: 1.5;\" x1=\"301\" x2=\"443\" y1=\"78.9375\" y2=\"78.9375\"/><text fill=\"#000000\" font-family=\"sans-serif\" font-size=\"11\" lengthAdjust=\"spacingAndGlyphs\" textLength=\"29\" x=\"306\" y=\"109.9526\">p1: P</text><text fill=\"#000000\" font-family=\"sans-serif\" font-size=\"11\" font-style=\"italic\" lengthAdjust=\"spacingAndGlyphs\" textLength=\"132\" x=\"306\" y=\"122.7573\">:&gt;&gt;Connection::source</text><text fill=\"#000000\" font-family=\"sans-serif\" font-size=\"11\" lengthAdjust=\"spacingAndGlyphs\" textLength=\"38\" x=\"306\" y=\"135.562\">p2: ~P</text><text fill=\"#000000\" font-family=\"sans-serif\" font-size=\"11\" font-style=\"italic\" lengthAdjust=\"spacingAndGlyphs\" textLength=\"127\" x=\"306\" y=\"148.3667\">:&gt;&gt;Connection::target</text><line style=\"stroke: #383838; stroke-width: 1.0;\" x1=\"301\" x2=\"357\" y1=\"93.3398\" y2=\"93.3398\"/><text fill=\"#000000\" font-family=\"sans-serif\" font-size=\"11\" lengthAdjust=\"spacingAndGlyphs\" textLength=\"30\" x=\"357\" y=\"96.6479\">ports</text><line style=\"stroke: #383838; stroke-width: 1.0;\" x1=\"387\" x2=\"443\" y1=\"93.3398\" y2=\"93.3398\"/><!--MD5=[fd4143e9d270a159db93a4ea2a975926]\n",
       "class E9--><rect fill=\"#FFFFFF\" height=\"113.9609\" id=\"E9\" style=\"stroke: #383838; stroke-width: 1.5;\" width=\"131\" x=\"133.5\" y=\"41\"/><text fill=\"#000000\" font-family=\"sans-serif\" font-size=\"12\" font-style=\"italic\" lengthAdjust=\"spacingAndGlyphs\" textLength=\"94\" x=\"152\" y=\"57.1387\">«interface def»</text><text fill=\"#000000\" font-family=\"sans-serif\" font-size=\"12\" lengthAdjust=\"spacingAndGlyphs\" textLength=\"3\" x=\"197.5\" y=\"71.1074\">I</text><line style=\"stroke: #383838; stroke-width: 1.5;\" x1=\"134.5\" x2=\"263.5\" y1=\"78.9375\" y2=\"78.9375\"/><text fill=\"#000000\" font-family=\"sans-serif\" font-size=\"11\" lengthAdjust=\"spacingAndGlyphs\" textLength=\"29\" x=\"139.5\" y=\"109.9526\">p1: P</text><text fill=\"#000000\" font-family=\"sans-serif\" font-size=\"11\" font-style=\"italic\" lengthAdjust=\"spacingAndGlyphs\" textLength=\"119\" x=\"139.5\" y=\"122.7573\">:&gt;&gt;Interface::source</text><text fill=\"#000000\" font-family=\"sans-serif\" font-size=\"11\" lengthAdjust=\"spacingAndGlyphs\" textLength=\"38\" x=\"139.5\" y=\"135.562\">p2: ~P</text><text fill=\"#000000\" font-family=\"sans-serif\" font-size=\"11\" font-style=\"italic\" lengthAdjust=\"spacingAndGlyphs\" textLength=\"114\" x=\"139.5\" y=\"148.3667\">:&gt;&gt;Interface::target</text><line style=\"stroke: #383838; stroke-width: 1.0;\" x1=\"134.5\" x2=\"184\" y1=\"93.3398\" y2=\"93.3398\"/><text fill=\"#000000\" font-family=\"sans-serif\" font-size=\"11\" lengthAdjust=\"spacingAndGlyphs\" textLength=\"30\" x=\"184\" y=\"96.6479\">ports</text><line style=\"stroke: #383838; stroke-width: 1.0;\" x1=\"214\" x2=\"263.5\" y1=\"93.3398\" y2=\"93.3398\"/><!--MD5=[49a0ec8f00dab7302a31f22d0f0fe584]\n",
       "class E12--><rect fill=\"#FFFFFF\" height=\"45.9375\" id=\"E12\" style=\"stroke: #383838; stroke-width: 1.5;\" width=\"66\" x=\"32\" y=\"75\"/><text fill=\"#000000\" font-family=\"sans-serif\" font-size=\"12\" font-style=\"italic\" lengthAdjust=\"spacingAndGlyphs\" textLength=\"64\" x=\"33\" y=\"91.1387\">«part def»</text><text fill=\"#000000\" font-family=\"sans-serif\" font-size=\"12\" lengthAdjust=\"spacingAndGlyphs\" textLength=\"16\" x=\"57\" y=\"105.1074\">B1</text><line style=\"stroke: #383838; stroke-width: 1.5;\" x1=\"33\" x2=\"97\" y1=\"112.9375\" y2=\"112.9375\"/><!--MD5=[ee3c913d1a06f366521f9ef512b67efe]\n",
       "class E13--><rect fill=\"#FFFFFF\" height=\"88.3516\" id=\"E13\" rx=\"10\" ry=\"10\" style=\"stroke: #383838; stroke-width: 1.5;\" width=\"50\" x=\"40\" y=\"215\"/><text fill=\"#000000\" font-family=\"sans-serif\" font-size=\"12\" font-style=\"italic\" lengthAdjust=\"spacingAndGlyphs\" textLength=\"40\" x=\"45\" y=\"231.1387\">«part»</text><text fill=\"#000000\" font-family=\"sans-serif\" font-size=\"12\" lengthAdjust=\"spacingAndGlyphs\" textLength=\"42\" x=\"44\" y=\"245.1074\">p: Part</text><line style=\"stroke: #383838; stroke-width: 1.5;\" x1=\"41\" x2=\"89\" y1=\"252.9375\" y2=\"252.9375\"/><text fill=\"#000000\" font-family=\"sans-serif\" font-size=\"11\" lengthAdjust=\"spacingAndGlyphs\" textLength=\"29\" x=\"46\" y=\"283.9526\">p1: P</text><text fill=\"#000000\" font-family=\"sans-serif\" font-size=\"11\" lengthAdjust=\"spacingAndGlyphs\" textLength=\"38\" x=\"46\" y=\"296.7573\">p2: ~P</text><line style=\"stroke: #383838; stroke-width: 1.0;\" x1=\"41\" x2=\"50\" y1=\"267.3398\" y2=\"267.3398\"/><text fill=\"#000000\" font-family=\"sans-serif\" font-size=\"11\" lengthAdjust=\"spacingAndGlyphs\" textLength=\"30\" x=\"50\" y=\"270.6479\">ports</text><line style=\"stroke: #383838; stroke-width: 1.0;\" x1=\"80\" x2=\"89\" y1=\"267.3398\" y2=\"267.3398\"/><!--MD5=[062ed86c389d1a88f61c6380d0491e17]\n",
       "reverse link E12 to E13--><path d=\"M65,134.11 C65,157.9 65,189.5 65,214.83 \" fill=\"none\" id=\"E12&lt;-E13\" style=\"stroke: #383838; stroke-width: 1.0;\"/><polygon fill=\"#383838\" points=\"65,121.11,61,127.11,65,133.11,69,127.11,65,121.11\" style=\"stroke: #383838; stroke-width: 1.0;\"/><!--MD5=[6924374ea3beff135405be133dd1b3d2]\n",
       "@startuml\r\n",
       "top to bottom direction\r\n",
       "skinparam monochrome true\r\n",
       "skinparam classbackgroundcolor white\r\n",
       "skinparam shadowing false\r\n",
       "skinparam wrapWidth 300\r\n",
       "hide circle\r\n",
       "\r\n",
       "package \"ConjugationTest\" as E1   {\r\n",
       "comp def \"P\" as E2  <<(T,blue)port def>> {\r\n",
       "}\r\n",
       "comp def \"B\" as E3  <<(T,blue)part def>> {\r\n",
       "- -ports- -\r\n",
       "p1: P\r\n",
       "p2: ~P\r\n",
       "}\r\n",
       "comp def \"A\" as E6  <<(T,blue)connection def>> {\r\n",
       "- -ports- -\r\n",
       "p1: P\\n//:>>Connection::source// \r\n",
       "p2: ~P\\n//:>>Connection::target// \r\n",
       "}\r\n",
       "comp def \"I\" as E9  <<(T,blue)interface def>> {\r\n",
       "- -ports- -\r\n",
       "p1: P\\n//:>>Interface::source// \r\n",
       "p2: ~P\\n//:>>Interface::target// \r\n",
       "}\r\n",
       "comp def \"B1\" as E12  <<(T,blue)part def>> {\r\n",
       "}\r\n",
       "comp usage \"p: Part\" as E13  <<(T,blue)part>> {\r\n",
       "- -ports- -\r\n",
       "p1: P\r\n",
       "p2: ~P\r\n",
       "}\r\n",
       "E12 *- - E13\r\n",
       "}\r\n",
       "@enduml\r\n",
       "\n",
       "PlantUML version 1.2020.13(Sat Jun 13 12:26:38 UTC 2020)\n",
       "(EPL source distribution)\n",
       "Java Runtime: OpenJDK Runtime Environment\n",
       "JVM: OpenJDK 64-Bit Server VM\n",
       "Default Encoding: UTF-8\n",
       "Language: en\n",
       "Country: null\n",
       "--></g></svg>"
      ]
     },
     "execution_count": 50,
     "metadata": {},
     "output_type": "execute_result"
    }
   ],
   "source": [
    "%viz --style=\"TB\" --view=\"MIXED\" \"ConjugationTest\""
   ]
  },
  {
   "cell_type": "code",
   "execution_count": 51,
   "id": "essential-termination",
   "metadata": {
    "execution": {
     "iopub.execute_input": "2021-03-25T16:02:38.829955Z",
     "iopub.status.busy": "2021-03-25T16:02:38.829402Z",
     "iopub.status.idle": "2021-03-25T16:02:40.440880Z",
     "shell.execute_reply": "2021-03-25T16:02:40.439628Z"
    }
   },
   "outputs": [
    {
     "data": {
      "image/svg+xml": [
       "<?xml version=\"1.0\" encoding=\"UTF-8\" standalone=\"no\"?><svg xmlns=\"http://www.w3.org/2000/svg\" xmlns:xlink=\"http://www.w3.org/1999/xlink\" contentScriptType=\"application/ecmascript\" contentStyleType=\"text/css\" height=\"331px\" preserveAspectRatio=\"none\" style=\"width:684px;height:331px;\" version=\"1.1\" viewBox=\"0 0 684 331\" width=\"684px\" zoomAndPan=\"magnify\"><defs/><g><!--MD5=[fbc87193dbaf4d95561dea2c320d4a47]\n",
       "cluster E1--><polygon fill=\"#FFFFFF\" points=\"16,6,151,6,158,28.2969,662,28.2969,662,319,16,319,16,6\" style=\"stroke: #000000; stroke-width: 1.5;\"/><line style=\"stroke: #000000; stroke-width: 1.5;\" x1=\"16\" x2=\"158\" y1=\"28.2969\" y2=\"28.2969\"/><text fill=\"#000000\" font-family=\"sans-serif\" font-size=\"14\" font-weight=\"bold\" lengthAdjust=\"spacingAndGlyphs\" textLength=\"129\" x=\"20\" y=\"20.9951\">ConjugationTest</text><!--MD5=[b4997ac47864f28c2f74865a473b2911]\n",
       "class E2--><rect fill=\"#FFFFFF\" height=\"45.9375\" id=\"E2\" style=\"stroke: #383838; stroke-width: 1.5;\" width=\"66\" x=\"580\" y=\"75\"/><text fill=\"#000000\" font-family=\"sans-serif\" font-size=\"12\" font-style=\"italic\" lengthAdjust=\"spacingAndGlyphs\" textLength=\"64\" x=\"581\" y=\"91.1387\">«port def»</text><text fill=\"#000000\" font-family=\"sans-serif\" font-size=\"12\" lengthAdjust=\"spacingAndGlyphs\" textLength=\"8\" x=\"609\" y=\"105.1074\">P</text><line style=\"stroke: #383838; stroke-width: 1.5;\" x1=\"581\" x2=\"645\" y1=\"112.9375\" y2=\"112.9375\"/><!--MD5=[09b614a08d8cba4a07c9adeb5e0fee81]\n",
       "class E3--><rect fill=\"#FFFFFF\" height=\"88.3516\" id=\"E3\" style=\"stroke: #383838; stroke-width: 1.5;\" width=\"66\" x=\"479\" y=\"54\"/><text fill=\"#000000\" font-family=\"sans-serif\" font-size=\"12\" font-style=\"italic\" lengthAdjust=\"spacingAndGlyphs\" textLength=\"64\" x=\"480\" y=\"70.1387\">«part def»</text><text fill=\"#000000\" font-family=\"sans-serif\" font-size=\"12\" lengthAdjust=\"spacingAndGlyphs\" textLength=\"8\" x=\"508\" y=\"84.1074\">B</text><line style=\"stroke: #383838; stroke-width: 1.5;\" x1=\"480\" x2=\"544\" y1=\"91.9375\" y2=\"91.9375\"/><text fill=\"#000000\" font-family=\"sans-serif\" font-size=\"11\" lengthAdjust=\"spacingAndGlyphs\" textLength=\"29\" x=\"485\" y=\"122.9526\">p1: P</text><text fill=\"#000000\" font-family=\"sans-serif\" font-size=\"11\" lengthAdjust=\"spacingAndGlyphs\" textLength=\"38\" x=\"485\" y=\"135.7573\">p2: ~P</text><line style=\"stroke: #383838; stroke-width: 1.0;\" x1=\"480\" x2=\"497\" y1=\"106.3398\" y2=\"106.3398\"/><text fill=\"#000000\" font-family=\"sans-serif\" font-size=\"11\" lengthAdjust=\"spacingAndGlyphs\" textLength=\"30\" x=\"497\" y=\"109.6479\">ports</text><line style=\"stroke: #383838; stroke-width: 1.0;\" x1=\"527\" x2=\"544\" y1=\"106.3398\" y2=\"106.3398\"/><!--MD5=[60a26617385b1d2d0262a64233df1f8d]\n",
       "class E6--><rect fill=\"#FFFFFF\" height=\"113.9609\" id=\"E6\" style=\"stroke: #383838; stroke-width: 1.5;\" width=\"144\" x=\"300\" y=\"41\"/><text fill=\"#000000\" font-family=\"sans-serif\" font-size=\"12\" font-style=\"italic\" lengthAdjust=\"spacingAndGlyphs\" textLength=\"108\" x=\"318\" y=\"57.1387\">«connection def»</text><text fill=\"#000000\" font-family=\"sans-serif\" font-size=\"12\" lengthAdjust=\"spacingAndGlyphs\" textLength=\"8\" x=\"368\" y=\"71.1074\">A</text><line style=\"stroke: #383838; stroke-width: 1.5;\" x1=\"301\" x2=\"443\" y1=\"78.9375\" y2=\"78.9375\"/><text fill=\"#000000\" font-family=\"sans-serif\" font-size=\"11\" lengthAdjust=\"spacingAndGlyphs\" textLength=\"29\" x=\"306\" y=\"109.9526\">p1: P</text><text fill=\"#000000\" font-family=\"sans-serif\" font-size=\"11\" font-style=\"italic\" lengthAdjust=\"spacingAndGlyphs\" textLength=\"132\" x=\"306\" y=\"122.7573\">:&gt;&gt;Connection::source</text><text fill=\"#000000\" font-family=\"sans-serif\" font-size=\"11\" lengthAdjust=\"spacingAndGlyphs\" textLength=\"38\" x=\"306\" y=\"135.562\">p2: ~P</text><text fill=\"#000000\" font-family=\"sans-serif\" font-size=\"11\" font-style=\"italic\" lengthAdjust=\"spacingAndGlyphs\" textLength=\"127\" x=\"306\" y=\"148.3667\">:&gt;&gt;Connection::target</text><line style=\"stroke: #383838; stroke-width: 1.0;\" x1=\"301\" x2=\"357\" y1=\"93.3398\" y2=\"93.3398\"/><text fill=\"#000000\" font-family=\"sans-serif\" font-size=\"11\" lengthAdjust=\"spacingAndGlyphs\" textLength=\"30\" x=\"357\" y=\"96.6479\">ports</text><line style=\"stroke: #383838; stroke-width: 1.0;\" x1=\"387\" x2=\"443\" y1=\"93.3398\" y2=\"93.3398\"/><!--MD5=[fd4143e9d270a159db93a4ea2a975926]\n",
       "class E9--><rect fill=\"#FFFFFF\" height=\"113.9609\" id=\"E9\" style=\"stroke: #383838; stroke-width: 1.5;\" width=\"131\" x=\"133.5\" y=\"41\"/><text fill=\"#000000\" font-family=\"sans-serif\" font-size=\"12\" font-style=\"italic\" lengthAdjust=\"spacingAndGlyphs\" textLength=\"94\" x=\"152\" y=\"57.1387\">«interface def»</text><text fill=\"#000000\" font-family=\"sans-serif\" font-size=\"12\" lengthAdjust=\"spacingAndGlyphs\" textLength=\"3\" x=\"197.5\" y=\"71.1074\">I</text><line style=\"stroke: #383838; stroke-width: 1.5;\" x1=\"134.5\" x2=\"263.5\" y1=\"78.9375\" y2=\"78.9375\"/><text fill=\"#000000\" font-family=\"sans-serif\" font-size=\"11\" lengthAdjust=\"spacingAndGlyphs\" textLength=\"29\" x=\"139.5\" y=\"109.9526\">p1: P</text><text fill=\"#000000\" font-family=\"sans-serif\" font-size=\"11\" font-style=\"italic\" lengthAdjust=\"spacingAndGlyphs\" textLength=\"119\" x=\"139.5\" y=\"122.7573\">:&gt;&gt;Interface::source</text><text fill=\"#000000\" font-family=\"sans-serif\" font-size=\"11\" lengthAdjust=\"spacingAndGlyphs\" textLength=\"38\" x=\"139.5\" y=\"135.562\">p2: ~P</text><text fill=\"#000000\" font-family=\"sans-serif\" font-size=\"11\" font-style=\"italic\" lengthAdjust=\"spacingAndGlyphs\" textLength=\"114\" x=\"139.5\" y=\"148.3667\">:&gt;&gt;Interface::target</text><line style=\"stroke: #383838; stroke-width: 1.0;\" x1=\"134.5\" x2=\"184\" y1=\"93.3398\" y2=\"93.3398\"/><text fill=\"#000000\" font-family=\"sans-serif\" font-size=\"11\" lengthAdjust=\"spacingAndGlyphs\" textLength=\"30\" x=\"184\" y=\"96.6479\">ports</text><line style=\"stroke: #383838; stroke-width: 1.0;\" x1=\"214\" x2=\"263.5\" y1=\"93.3398\" y2=\"93.3398\"/><!--MD5=[49a0ec8f00dab7302a31f22d0f0fe584]\n",
       "class E12--><rect fill=\"#FFFFFF\" height=\"45.9375\" id=\"E12\" style=\"stroke: #383838; stroke-width: 1.5;\" width=\"66\" x=\"32\" y=\"75\"/><text fill=\"#000000\" font-family=\"sans-serif\" font-size=\"12\" font-style=\"italic\" lengthAdjust=\"spacingAndGlyphs\" textLength=\"64\" x=\"33\" y=\"91.1387\">«part def»</text><text fill=\"#000000\" font-family=\"sans-serif\" font-size=\"12\" lengthAdjust=\"spacingAndGlyphs\" textLength=\"16\" x=\"57\" y=\"105.1074\">B1</text><line style=\"stroke: #383838; stroke-width: 1.5;\" x1=\"33\" x2=\"97\" y1=\"112.9375\" y2=\"112.9375\"/><!--MD5=[ee3c913d1a06f366521f9ef512b67efe]\n",
       "class E13--><rect fill=\"#FFFFFF\" height=\"88.3516\" id=\"E13\" rx=\"10\" ry=\"10\" style=\"stroke: #383838; stroke-width: 1.5;\" width=\"50\" x=\"40\" y=\"215\"/><text fill=\"#000000\" font-family=\"sans-serif\" font-size=\"12\" font-style=\"italic\" lengthAdjust=\"spacingAndGlyphs\" textLength=\"40\" x=\"45\" y=\"231.1387\">«part»</text><text fill=\"#000000\" font-family=\"sans-serif\" font-size=\"12\" lengthAdjust=\"spacingAndGlyphs\" textLength=\"42\" x=\"44\" y=\"245.1074\">p: Part</text><line style=\"stroke: #383838; stroke-width: 1.5;\" x1=\"41\" x2=\"89\" y1=\"252.9375\" y2=\"252.9375\"/><text fill=\"#000000\" font-family=\"sans-serif\" font-size=\"11\" lengthAdjust=\"spacingAndGlyphs\" textLength=\"29\" x=\"46\" y=\"283.9526\">p1: P</text><text fill=\"#000000\" font-family=\"sans-serif\" font-size=\"11\" lengthAdjust=\"spacingAndGlyphs\" textLength=\"38\" x=\"46\" y=\"296.7573\">p2: ~P</text><line style=\"stroke: #383838; stroke-width: 1.0;\" x1=\"41\" x2=\"50\" y1=\"267.3398\" y2=\"267.3398\"/><text fill=\"#000000\" font-family=\"sans-serif\" font-size=\"11\" lengthAdjust=\"spacingAndGlyphs\" textLength=\"30\" x=\"50\" y=\"270.6479\">ports</text><line style=\"stroke: #383838; stroke-width: 1.0;\" x1=\"80\" x2=\"89\" y1=\"267.3398\" y2=\"267.3398\"/><!--MD5=[062ed86c389d1a88f61c6380d0491e17]\n",
       "reverse link E12 to E13--><path d=\"M65,134.07 C65,134.07 65,214.7 65,214.7 \" fill=\"none\" id=\"E12&lt;-E13\" style=\"stroke: #383838; stroke-width: 1.0;\"/><polygon fill=\"#383838\" points=\"65,121.07,61,127.07,65,133.07,69,127.07,65,121.07\" style=\"stroke: #383838; stroke-width: 1.0;\"/><!--MD5=[4d6954c7510d5904cbb2dbc40b84fc2d]\n",
       "@startuml\r\n",
       "skinparam linetype ortho\r\n",
       "skinparam monochrome true\r\n",
       "skinparam classbackgroundcolor white\r\n",
       "skinparam shadowing false\r\n",
       "skinparam wrapWidth 300\r\n",
       "hide circle\r\n",
       "\r\n",
       "package \"ConjugationTest\" as E1   {\r\n",
       "comp def \"P\" as E2  <<(T,blue)port def>> {\r\n",
       "}\r\n",
       "comp def \"B\" as E3  <<(T,blue)part def>> {\r\n",
       "- -ports- -\r\n",
       "p1: P\r\n",
       "p2: ~P\r\n",
       "}\r\n",
       "comp def \"A\" as E6  <<(T,blue)connection def>> {\r\n",
       "- -ports- -\r\n",
       "p1: P\\n//:>>Connection::source// \r\n",
       "p2: ~P\\n//:>>Connection::target// \r\n",
       "}\r\n",
       "comp def \"I\" as E9  <<(T,blue)interface def>> {\r\n",
       "- -ports- -\r\n",
       "p1: P\\n//:>>Interface::source// \r\n",
       "p2: ~P\\n//:>>Interface::target// \r\n",
       "}\r\n",
       "comp def \"B1\" as E12  <<(T,blue)part def>> {\r\n",
       "}\r\n",
       "comp usage \"p: Part\" as E13  <<(T,blue)part>> {\r\n",
       "- -ports- -\r\n",
       "p1: P\r\n",
       "p2: ~P\r\n",
       "}\r\n",
       "E12 *- - E13\r\n",
       "}\r\n",
       "@enduml\r\n",
       "\n",
       "PlantUML version 1.2020.13(Sat Jun 13 12:26:38 UTC 2020)\n",
       "(EPL source distribution)\n",
       "Java Runtime: OpenJDK Runtime Environment\n",
       "JVM: OpenJDK 64-Bit Server VM\n",
       "Default Encoding: UTF-8\n",
       "Language: en\n",
       "Country: null\n",
       "--></g></svg>"
      ]
     },
     "execution_count": 51,
     "metadata": {},
     "output_type": "execute_result"
    }
   ],
   "source": [
    "%viz --style=\"ORTHOLINE\" --view=\"Default\" \"ConjugationTest\""
   ]
  },
  {
   "cell_type": "code",
   "execution_count": 52,
   "id": "standing-acrylic",
   "metadata": {
    "execution": {
     "iopub.execute_input": "2021-03-25T16:02:40.493740Z",
     "iopub.status.busy": "2021-03-25T16:02:40.492895Z",
     "iopub.status.idle": "2021-03-25T16:02:42.093360Z",
     "shell.execute_reply": "2021-03-25T16:02:42.091991Z"
    }
   },
   "outputs": [
    {
     "data": {
      "image/svg+xml": [
       "<?xml version=\"1.0\" encoding=\"UTF-8\" standalone=\"no\"?><svg xmlns=\"http://www.w3.org/2000/svg\" xmlns:xlink=\"http://www.w3.org/1999/xlink\" contentScriptType=\"application/ecmascript\" contentStyleType=\"text/css\" height=\"331px\" preserveAspectRatio=\"none\" style=\"width:684px;height:331px;\" version=\"1.1\" viewBox=\"0 0 684 331\" width=\"684px\" zoomAndPan=\"magnify\"><defs/><g><!--MD5=[fbc87193dbaf4d95561dea2c320d4a47]\n",
       "cluster E1--><polygon fill=\"#FFFFFF\" points=\"16,6,151,6,158,28.2969,662,28.2969,662,319,16,319,16,6\" style=\"stroke: #000000; stroke-width: 1.5;\"/><line style=\"stroke: #000000; stroke-width: 1.5;\" x1=\"16\" x2=\"158\" y1=\"28.2969\" y2=\"28.2969\"/><text fill=\"#000000\" font-family=\"sans-serif\" font-size=\"14\" font-weight=\"bold\" lengthAdjust=\"spacingAndGlyphs\" textLength=\"129\" x=\"20\" y=\"20.9951\">ConjugationTest</text><!--MD5=[b4997ac47864f28c2f74865a473b2911]\n",
       "class E2--><rect fill=\"#FFFFFF\" height=\"45.9375\" id=\"E2\" style=\"stroke: #383838; stroke-width: 1.5;\" width=\"66\" x=\"580\" y=\"75\"/><text fill=\"#000000\" font-family=\"sans-serif\" font-size=\"12\" font-style=\"italic\" lengthAdjust=\"spacingAndGlyphs\" textLength=\"64\" x=\"581\" y=\"91.1387\">«port def»</text><text fill=\"#000000\" font-family=\"sans-serif\" font-size=\"12\" lengthAdjust=\"spacingAndGlyphs\" textLength=\"8\" x=\"609\" y=\"105.1074\">P</text><line style=\"stroke: #383838; stroke-width: 1.5;\" x1=\"581\" x2=\"645\" y1=\"112.9375\" y2=\"112.9375\"/><!--MD5=[09b614a08d8cba4a07c9adeb5e0fee81]\n",
       "class E3--><rect fill=\"#FFFFFF\" height=\"88.3516\" id=\"E3\" style=\"stroke: #383838; stroke-width: 1.5;\" width=\"66\" x=\"479\" y=\"54\"/><text fill=\"#000000\" font-family=\"sans-serif\" font-size=\"12\" font-style=\"italic\" lengthAdjust=\"spacingAndGlyphs\" textLength=\"64\" x=\"480\" y=\"70.1387\">«part def»</text><text fill=\"#000000\" font-family=\"sans-serif\" font-size=\"12\" lengthAdjust=\"spacingAndGlyphs\" textLength=\"8\" x=\"508\" y=\"84.1074\">B</text><line style=\"stroke: #383838; stroke-width: 1.5;\" x1=\"480\" x2=\"544\" y1=\"91.9375\" y2=\"91.9375\"/><text fill=\"#000000\" font-family=\"sans-serif\" font-size=\"11\" lengthAdjust=\"spacingAndGlyphs\" textLength=\"29\" x=\"485\" y=\"122.9526\">p1: P</text><text fill=\"#000000\" font-family=\"sans-serif\" font-size=\"11\" lengthAdjust=\"spacingAndGlyphs\" textLength=\"38\" x=\"485\" y=\"135.7573\">p2: ~P</text><line style=\"stroke: #383838; stroke-width: 1.0;\" x1=\"480\" x2=\"497\" y1=\"106.3398\" y2=\"106.3398\"/><text fill=\"#000000\" font-family=\"sans-serif\" font-size=\"11\" lengthAdjust=\"spacingAndGlyphs\" textLength=\"30\" x=\"497\" y=\"109.6479\">ports</text><line style=\"stroke: #383838; stroke-width: 1.0;\" x1=\"527\" x2=\"544\" y1=\"106.3398\" y2=\"106.3398\"/><!--MD5=[60a26617385b1d2d0262a64233df1f8d]\n",
       "class E6--><rect fill=\"#FFFFFF\" height=\"113.9609\" id=\"E6\" style=\"stroke: #383838; stroke-width: 1.5;\" width=\"144\" x=\"300\" y=\"41\"/><text fill=\"#000000\" font-family=\"sans-serif\" font-size=\"12\" font-style=\"italic\" lengthAdjust=\"spacingAndGlyphs\" textLength=\"108\" x=\"318\" y=\"57.1387\">«connection def»</text><text fill=\"#000000\" font-family=\"sans-serif\" font-size=\"12\" lengthAdjust=\"spacingAndGlyphs\" textLength=\"8\" x=\"368\" y=\"71.1074\">A</text><line style=\"stroke: #383838; stroke-width: 1.5;\" x1=\"301\" x2=\"443\" y1=\"78.9375\" y2=\"78.9375\"/><text fill=\"#000000\" font-family=\"sans-serif\" font-size=\"11\" lengthAdjust=\"spacingAndGlyphs\" textLength=\"29\" x=\"306\" y=\"109.9526\">p1: P</text><text fill=\"#000000\" font-family=\"sans-serif\" font-size=\"11\" font-style=\"italic\" lengthAdjust=\"spacingAndGlyphs\" textLength=\"132\" x=\"306\" y=\"122.7573\">:&gt;&gt;Connection::source</text><text fill=\"#000000\" font-family=\"sans-serif\" font-size=\"11\" lengthAdjust=\"spacingAndGlyphs\" textLength=\"38\" x=\"306\" y=\"135.562\">p2: ~P</text><text fill=\"#000000\" font-family=\"sans-serif\" font-size=\"11\" font-style=\"italic\" lengthAdjust=\"spacingAndGlyphs\" textLength=\"127\" x=\"306\" y=\"148.3667\">:&gt;&gt;Connection::target</text><line style=\"stroke: #383838; stroke-width: 1.0;\" x1=\"301\" x2=\"357\" y1=\"93.3398\" y2=\"93.3398\"/><text fill=\"#000000\" font-family=\"sans-serif\" font-size=\"11\" lengthAdjust=\"spacingAndGlyphs\" textLength=\"30\" x=\"357\" y=\"96.6479\">ports</text><line style=\"stroke: #383838; stroke-width: 1.0;\" x1=\"387\" x2=\"443\" y1=\"93.3398\" y2=\"93.3398\"/><!--MD5=[fd4143e9d270a159db93a4ea2a975926]\n",
       "class E9--><rect fill=\"#FFFFFF\" height=\"113.9609\" id=\"E9\" style=\"stroke: #383838; stroke-width: 1.5;\" width=\"131\" x=\"133.5\" y=\"41\"/><text fill=\"#000000\" font-family=\"sans-serif\" font-size=\"12\" font-style=\"italic\" lengthAdjust=\"spacingAndGlyphs\" textLength=\"94\" x=\"152\" y=\"57.1387\">«interface def»</text><text fill=\"#000000\" font-family=\"sans-serif\" font-size=\"12\" lengthAdjust=\"spacingAndGlyphs\" textLength=\"3\" x=\"197.5\" y=\"71.1074\">I</text><line style=\"stroke: #383838; stroke-width: 1.5;\" x1=\"134.5\" x2=\"263.5\" y1=\"78.9375\" y2=\"78.9375\"/><text fill=\"#000000\" font-family=\"sans-serif\" font-size=\"11\" lengthAdjust=\"spacingAndGlyphs\" textLength=\"29\" x=\"139.5\" y=\"109.9526\">p1: P</text><text fill=\"#000000\" font-family=\"sans-serif\" font-size=\"11\" font-style=\"italic\" lengthAdjust=\"spacingAndGlyphs\" textLength=\"119\" x=\"139.5\" y=\"122.7573\">:&gt;&gt;Interface::source</text><text fill=\"#000000\" font-family=\"sans-serif\" font-size=\"11\" lengthAdjust=\"spacingAndGlyphs\" textLength=\"38\" x=\"139.5\" y=\"135.562\">p2: ~P</text><text fill=\"#000000\" font-family=\"sans-serif\" font-size=\"11\" font-style=\"italic\" lengthAdjust=\"spacingAndGlyphs\" textLength=\"114\" x=\"139.5\" y=\"148.3667\">:&gt;&gt;Interface::target</text><line style=\"stroke: #383838; stroke-width: 1.0;\" x1=\"134.5\" x2=\"184\" y1=\"93.3398\" y2=\"93.3398\"/><text fill=\"#000000\" font-family=\"sans-serif\" font-size=\"11\" lengthAdjust=\"spacingAndGlyphs\" textLength=\"30\" x=\"184\" y=\"96.6479\">ports</text><line style=\"stroke: #383838; stroke-width: 1.0;\" x1=\"214\" x2=\"263.5\" y1=\"93.3398\" y2=\"93.3398\"/><!--MD5=[49a0ec8f00dab7302a31f22d0f0fe584]\n",
       "class E12--><rect fill=\"#FFFFFF\" height=\"45.9375\" id=\"E12\" style=\"stroke: #383838; stroke-width: 1.5;\" width=\"66\" x=\"32\" y=\"75\"/><text fill=\"#000000\" font-family=\"sans-serif\" font-size=\"12\" font-style=\"italic\" lengthAdjust=\"spacingAndGlyphs\" textLength=\"64\" x=\"33\" y=\"91.1387\">«part def»</text><text fill=\"#000000\" font-family=\"sans-serif\" font-size=\"12\" lengthAdjust=\"spacingAndGlyphs\" textLength=\"16\" x=\"57\" y=\"105.1074\">B1</text><line style=\"stroke: #383838; stroke-width: 1.5;\" x1=\"33\" x2=\"97\" y1=\"112.9375\" y2=\"112.9375\"/><!--MD5=[ee3c913d1a06f366521f9ef512b67efe]\n",
       "class E13--><rect fill=\"#FFFFFF\" height=\"88.3516\" id=\"E13\" rx=\"10\" ry=\"10\" style=\"stroke: #383838; stroke-width: 1.5;\" width=\"50\" x=\"40\" y=\"215\"/><text fill=\"#000000\" font-family=\"sans-serif\" font-size=\"12\" font-style=\"italic\" lengthAdjust=\"spacingAndGlyphs\" textLength=\"40\" x=\"45\" y=\"231.1387\">«part»</text><text fill=\"#000000\" font-family=\"sans-serif\" font-size=\"12\" lengthAdjust=\"spacingAndGlyphs\" textLength=\"42\" x=\"44\" y=\"245.1074\">p: Part</text><line style=\"stroke: #383838; stroke-width: 1.5;\" x1=\"41\" x2=\"89\" y1=\"252.9375\" y2=\"252.9375\"/><text fill=\"#000000\" font-family=\"sans-serif\" font-size=\"11\" lengthAdjust=\"spacingAndGlyphs\" textLength=\"29\" x=\"46\" y=\"283.9526\">p1: P</text><text fill=\"#000000\" font-family=\"sans-serif\" font-size=\"11\" lengthAdjust=\"spacingAndGlyphs\" textLength=\"38\" x=\"46\" y=\"296.7573\">p2: ~P</text><line style=\"stroke: #383838; stroke-width: 1.0;\" x1=\"41\" x2=\"50\" y1=\"267.3398\" y2=\"267.3398\"/><text fill=\"#000000\" font-family=\"sans-serif\" font-size=\"11\" lengthAdjust=\"spacingAndGlyphs\" textLength=\"30\" x=\"50\" y=\"270.6479\">ports</text><line style=\"stroke: #383838; stroke-width: 1.0;\" x1=\"80\" x2=\"89\" y1=\"267.3398\" y2=\"267.3398\"/><!--MD5=[062ed86c389d1a88f61c6380d0491e17]\n",
       "reverse link E12 to E13--><path d=\"M65,134.07 C65,134.07 65,214.7 65,214.7 \" fill=\"none\" id=\"E12&lt;-E13\" style=\"stroke: #383838; stroke-width: 1.0;\"/><polygon fill=\"#383838\" points=\"65,121.07,61,127.07,65,133.07,69,127.07,65,121.07\" style=\"stroke: #383838; stroke-width: 1.0;\"/><!--MD5=[4d6954c7510d5904cbb2dbc40b84fc2d]\n",
       "@startuml\r\n",
       "skinparam linetype ortho\r\n",
       "skinparam monochrome true\r\n",
       "skinparam classbackgroundcolor white\r\n",
       "skinparam shadowing false\r\n",
       "skinparam wrapWidth 300\r\n",
       "hide circle\r\n",
       "\r\n",
       "package \"ConjugationTest\" as E1   {\r\n",
       "comp def \"P\" as E2  <<(T,blue)port def>> {\r\n",
       "}\r\n",
       "comp def \"B\" as E3  <<(T,blue)part def>> {\r\n",
       "- -ports- -\r\n",
       "p1: P\r\n",
       "p2: ~P\r\n",
       "}\r\n",
       "comp def \"A\" as E6  <<(T,blue)connection def>> {\r\n",
       "- -ports- -\r\n",
       "p1: P\\n//:>>Connection::source// \r\n",
       "p2: ~P\\n//:>>Connection::target// \r\n",
       "}\r\n",
       "comp def \"I\" as E9  <<(T,blue)interface def>> {\r\n",
       "- -ports- -\r\n",
       "p1: P\\n//:>>Interface::source// \r\n",
       "p2: ~P\\n//:>>Interface::target// \r\n",
       "}\r\n",
       "comp def \"B1\" as E12  <<(T,blue)part def>> {\r\n",
       "}\r\n",
       "comp usage \"p: Part\" as E13  <<(T,blue)part>> {\r\n",
       "- -ports- -\r\n",
       "p1: P\r\n",
       "p2: ~P\r\n",
       "}\r\n",
       "E12 *- - E13\r\n",
       "}\r\n",
       "@enduml\r\n",
       "\n",
       "PlantUML version 1.2020.13(Sat Jun 13 12:26:38 UTC 2020)\n",
       "(EPL source distribution)\n",
       "Java Runtime: OpenJDK Runtime Environment\n",
       "JVM: OpenJDK 64-Bit Server VM\n",
       "Default Encoding: UTF-8\n",
       "Language: en\n",
       "Country: null\n",
       "--></g></svg>"
      ]
     },
     "execution_count": 52,
     "metadata": {},
     "output_type": "execute_result"
    }
   ],
   "source": [
    "%viz --style=\"ORTHOLINE\" --view=\"Tree\" \"ConjugationTest\""
   ]
  },
  {
   "cell_type": "code",
   "execution_count": 53,
   "id": "respective-creativity",
   "metadata": {
    "execution": {
     "iopub.execute_input": "2021-03-25T16:02:42.146288Z",
     "iopub.status.busy": "2021-03-25T16:02:42.145514Z",
     "iopub.status.idle": "2021-03-25T16:02:42.147682Z",
     "shell.execute_reply": "2021-03-25T16:02:42.148277Z"
    }
   },
   "outputs": [
    {
     "data": {
      "text/plain": [
       "java.lang.IllegalArgumentException: Invalid View: State View candidates are: Default Tree StateMachine Interconnection Activity Sequence MIXED \n",
       "\tat org.omg.sysml.plantuml.SysML2PlantUMLSvc.setView(SysML2PlantUMLSvc.java:63)\n",
       "\tat org.omg.sysml.interactive.SysMLInteractive.viz(SysMLInteractive.java:286)\n",
       "\tat org.omg.sysml.jupyter.kernel.magic.Viz.viz(Viz.java:47)\n",
       "\tat jdk.internal.reflect.GeneratedMethodAccessor12.invoke(Unknown Source)\n",
       "\tat java.base/jdk.internal.reflect.DelegatingMethodAccessorImpl.invoke(DelegatingMethodAccessorImpl.java:43)\n",
       "\tat java.base/java.lang.reflect.Method.invoke(Method.java:568)\n",
       "\tat io.github.spencerpark.jupyter.kernel.magic.registry.Magics.invoke(Magics.java:89)\n",
       "\tat io.github.spencerpark.jupyter.kernel.magic.registry.Magics.access$000(Magics.java:8)\n",
       "\tat io.github.spencerpark.jupyter.kernel.magic.registry.Magics$LineReflectionMagicFunction.execute(Magics.java:149)\n",
       "\tat io.github.spencerpark.jupyter.kernel.magic.registry.Magics.applyLineMagic(Magics.java:26)\n",
       "\tat org.omg.sysml.jupyter.kernel.SysMLKernel.eval(SysMLKernel.java:76)\n",
       "\tat io.github.spencerpark.jupyter.kernel.BaseKernel.handleExecuteRequest(BaseKernel.java:334)\n",
       "\tat io.github.spencerpark.jupyter.channels.ShellChannel.lambda$bind$0(ShellChannel.java:64)\n",
       "\tat io.github.spencerpark.jupyter.channels.Loop.lambda$new$0(Loop.java:21)\n",
       "\tat io.github.spencerpark.jupyter.channels.Loop.run(Loop.java:78)\n"
      ]
     },
     "execution_count": 53,
     "metadata": {},
     "output_type": "execute_result"
    }
   ],
   "source": [
    "%viz --style=\"ORTHOLINE\" --view=\"State\" \"ConjugationTest\""
   ]
  },
  {
   "cell_type": "code",
   "execution_count": 54,
   "id": "native-bulletin",
   "metadata": {
    "execution": {
     "iopub.execute_input": "2021-03-25T16:02:42.200736Z",
     "iopub.status.busy": "2021-03-25T16:02:42.199671Z",
     "iopub.status.idle": "2021-03-25T16:02:42.297595Z",
     "shell.execute_reply": "2021-03-25T16:02:42.296223Z"
    }
   },
   "outputs": [
    {
     "data": {
      "image/svg+xml": [
       "<?xml version=\"1.0\" encoding=\"UTF-8\" standalone=\"no\"?><svg xmlns=\"http://www.w3.org/2000/svg\" xmlns:xlink=\"http://www.w3.org/1999/xlink\" contentScriptType=\"application/ecmascript\" contentStyleType=\"text/css\" height=\"252px\" preserveAspectRatio=\"none\" style=\"width:752px;height:252px;\" version=\"1.1\" viewBox=\"0 0 752 252\" width=\"752px\" zoomAndPan=\"magnify\"><defs/><g><!--MD5=[fbc87193dbaf4d95561dea2c320d4a47]\n",
       "cluster E1--><polygon fill=\"#FFFFFF\" points=\"16,6,151,6,158,28.2969,730,28.2969,730,240,16,240,16,6\" style=\"stroke: #000000; stroke-width: 1.5;\"/><line style=\"stroke: #000000; stroke-width: 1.5;\" x1=\"16\" x2=\"158\" y1=\"28.2969\" y2=\"28.2969\"/><text fill=\"#000000\" font-family=\"sans-serif\" font-size=\"14\" font-weight=\"bold\" lengthAdjust=\"spacingAndGlyphs\" textLength=\"129\" x=\"20\" y=\"20.9951\">ConjugationTest</text><!--MD5=[d5e69f78d87373223dbae638b30a9c99]\n",
       "cluster E3--><rect fill=\"#FFFFFF\" height=\"94\" style=\"stroke: #000000; stroke-width: 1.5;\" width=\"83\" x=\"590\" y=\"114\"/><text fill=\"#000000\" font-family=\"sans-serif\" font-size=\"14\" font-style=\"italic\" lengthAdjust=\"spacingAndGlyphs\" textLength=\"71\" x=\"596\" y=\"128.9951\">«part def»</text><text fill=\"#000000\" font-family=\"sans-serif\" font-size=\"14\" font-weight=\"bold\" lengthAdjust=\"spacingAndGlyphs\" textLength=\"10\" x=\"626.5\" y=\"145.292\">B</text><!--MD5=[14e3b0961a2654348d326746436168a1]\n",
       "cluster E6--><rect fill=\"#FFFFFF\" height=\"94\" style=\"stroke: #000000; stroke-width: 1.5;\" width=\"150\" x=\"436\" y=\"114\"/><text fill=\"#000000\" font-family=\"sans-serif\" font-size=\"14\" font-style=\"italic\" lengthAdjust=\"spacingAndGlyphs\" textLength=\"122\" x=\"450\" y=\"128.9951\">«connection def»</text><text fill=\"#000000\" font-family=\"sans-serif\" font-size=\"14\" font-weight=\"bold\" lengthAdjust=\"spacingAndGlyphs\" textLength=\"11\" x=\"505.5\" y=\"145.292\">A</text><!--MD5=[7f149f147074ac12df2cb0a7728a5fb0]\n",
       "cluster E9--><rect fill=\"#FFFFFF\" height=\"94\" style=\"stroke: #000000; stroke-width: 1.5;\" width=\"141\" x=\"267\" y=\"114\"/><text fill=\"#000000\" font-family=\"sans-serif\" font-size=\"14\" font-style=\"italic\" lengthAdjust=\"spacingAndGlyphs\" textLength=\"104\" x=\"285.5\" y=\"128.9951\">«interface def»</text><text fill=\"#000000\" font-family=\"sans-serif\" font-size=\"14\" font-weight=\"bold\" lengthAdjust=\"spacingAndGlyphs\" textLength=\"4\" x=\"335.5\" y=\"145.292\">I</text><!--MD5=[47bea60c1a0ac6c1143df232041969c0]\n",
       "cluster E12--><rect fill=\"#FFFFFF\" height=\"167\" style=\"stroke: #000000; stroke-width: 1.5;\" width=\"126\" x=\"114\" y=\"49\"/><text fill=\"#000000\" font-family=\"sans-serif\" font-size=\"14\" font-style=\"italic\" lengthAdjust=\"spacingAndGlyphs\" textLength=\"71\" x=\"141.5\" y=\"63.9951\">«part def»</text><text fill=\"#000000\" font-family=\"sans-serif\" font-size=\"14\" font-weight=\"bold\" lengthAdjust=\"spacingAndGlyphs\" textLength=\"20\" x=\"167\" y=\"80.292\">B1</text><!--MD5=[03104f77b71e2d8d3500c651e6e31181]\n",
       "cluster E13--><rect fill=\"#F8F8F8\" height=\"86\" rx=\"12.5\" ry=\"12.5\" style=\"stroke: #000000; stroke-width: 1.5;\" width=\"83\" x=\"126\" y=\"114\"/><rect fill=\"#FFFFFF\" height=\"53.7031\" rx=\"12.5\" ry=\"12.5\" style=\"stroke: #FFFFFF; stroke-width: 1.0;\" width=\"77\" x=\"129\" y=\"143.2969\"/><line style=\"stroke: #000000; stroke-width: 1.5;\" x1=\"126\" x2=\"209\" y1=\"140.2969\" y2=\"140.2969\"/><text fill=\"#000000\" font-family=\"sans-serif\" font-size=\"14\" lengthAdjust=\"spacingAndGlyphs\" textLength=\"45\" x=\"145\" y=\"131.9951\">p: Part</text><!--MD5=[b4997ac47864f28c2f74865a473b2911]\n",
       "class E2--><rect fill=\"#FFFFFF\" height=\"53.9375\" id=\"E2\" style=\"stroke: #383838; stroke-width: 1.5;\" width=\"66\" x=\"32\" y=\"87\"/><text fill=\"#000000\" font-family=\"sans-serif\" font-size=\"12\" font-style=\"italic\" lengthAdjust=\"spacingAndGlyphs\" textLength=\"64\" x=\"33\" y=\"103.1387\">«port def»</text><text fill=\"#000000\" font-family=\"sans-serif\" font-size=\"12\" lengthAdjust=\"spacingAndGlyphs\" textLength=\"8\" x=\"61\" y=\"117.1074\">P</text><line style=\"stroke: #383838; stroke-width: 1.5;\" x1=\"33\" x2=\"97\" y1=\"124.9375\" y2=\"124.9375\"/><line style=\"stroke: #383838; stroke-width: 1.5;\" x1=\"33\" x2=\"97\" y1=\"132.9375\" y2=\"132.9375\"/><text fill=\"#000000\" font-family=\"sans-serif\" font-size=\"14\" lengthAdjust=\"spacingAndGlyphs\" textLength=\"36\" x=\"590\" y=\"92.6982\">p1: P</text><rect fill=\"#383838\" height=\"12\" style=\"stroke: #F8F8F8; stroke-width: 1.5;\" width=\"12\" x=\"602\" y=\"108\"/><text fill=\"#000000\" font-family=\"sans-serif\" font-size=\"14\" lengthAdjust=\"spacingAndGlyphs\" textLength=\"48\" x=\"631\" y=\"92.6982\">p2: ~P</text><rect fill=\"#383838\" height=\"12\" style=\"stroke: #F8F8F8; stroke-width: 1.5;\" width=\"12\" x=\"649\" y=\"108\"/><text fill=\"#000000\" font-family=\"sans-serif\" font-size=\"14\" lengthAdjust=\"spacingAndGlyphs\" textLength=\"36\" x=\"436\" y=\"92.6982\">p1: P</text><rect fill=\"#383838\" height=\"12\" style=\"stroke: #F8F8F8; stroke-width: 1.5;\" width=\"12\" x=\"448\" y=\"108\"/><text fill=\"#000000\" font-family=\"sans-serif\" font-size=\"14\" lengthAdjust=\"spacingAndGlyphs\" textLength=\"48\" x=\"477\" y=\"92.6982\">p2: ~P</text><rect fill=\"#383838\" height=\"12\" style=\"stroke: #F8F8F8; stroke-width: 1.5;\" width=\"12\" x=\"495\" y=\"108\"/><text fill=\"#000000\" font-family=\"sans-serif\" font-size=\"14\" lengthAdjust=\"spacingAndGlyphs\" textLength=\"36\" x=\"267\" y=\"92.6982\">p1: P</text><rect fill=\"#383838\" height=\"12\" style=\"stroke: #F8F8F8; stroke-width: 1.5;\" width=\"12\" x=\"279\" y=\"108\"/><text fill=\"#000000\" font-family=\"sans-serif\" font-size=\"14\" lengthAdjust=\"spacingAndGlyphs\" textLength=\"48\" x=\"308\" y=\"92.6982\">p2: ~P</text><rect fill=\"#383838\" height=\"12\" style=\"stroke: #F8F8F8; stroke-width: 1.5;\" width=\"12\" x=\"326\" y=\"108\"/><text fill=\"#000000\" font-family=\"sans-serif\" font-size=\"14\" lengthAdjust=\"spacingAndGlyphs\" textLength=\"36\" x=\"126\" y=\"92.6982\">p1: P</text><rect fill=\"#383838\" height=\"12\" style=\"stroke: #F8F8F8; stroke-width: 1.5;\" width=\"12\" x=\"138\" y=\"108\"/><text fill=\"#000000\" font-family=\"sans-serif\" font-size=\"14\" lengthAdjust=\"spacingAndGlyphs\" textLength=\"48\" x=\"167\" y=\"92.6982\">p2: ~P</text><rect fill=\"#383838\" height=\"12\" style=\"stroke: #F8F8F8; stroke-width: 1.5;\" width=\"12\" x=\"185\" y=\"108\"/><!--MD5=[4ce51ac6fa4cf5202df3859e2718f033]\n",
       "link E15 to E14--><path d=\"M184.86,114 C175.9,114 159.34,114 150.3,114 \" fill=\"none\" id=\"E15-E14\" style=\"stroke: #383838; stroke-width: 3.0;\"/><!--MD5=[4ce51ac6fa4cf5202df3859e2718f033]\n",
       "link E15 to E14--><path d=\"M184.86,117 C175.9,117 159.34,117 150.3,117 \" fill=\"none\" id=\"E15-E14-1\" style=\"stroke: #383838; stroke-width: 3.0;\"/><!--MD5=[f0090b19400511f74b83f063724575b2]\n",
       "@startuml\r\n",
       "skinparam ranksep 8\r\n",
       "skinparam rectangle {\r\n",
       " backgroundColor<<block>> LightGreen\r\n",
       "}\r\n",
       "skinparam linetype ortho\r\n",
       "skinparam monochrome true\r\n",
       "skinparam classbackgroundcolor white\r\n",
       "skinparam shadowing false\r\n",
       "skinparam wrapWidth 300\r\n",
       "hide circle\r\n",
       "\r\n",
       "package \"ConjugationTest\" as E1   {\r\n",
       "def \"P\" as E2  <<port def>> \r\n",
       "rec def \"B\" as E3  <<part def>> {\r\n",
       "portin \"p1: P\" as E4  <<port>> \r\n",
       "portin \"p2: ~P\" as E5  <<port>> \r\n",
       "}\r\n",
       "rec def \"A\" as E6  <<connection def>> {\r\n",
       "portin \"p1: P\" as E7  <<port>> \r\n",
       "portin \"p2: ~P\" as E8  <<port>> \r\n",
       "}\r\n",
       "rec def \"I\" as E9  <<interface def>> {\r\n",
       "portin \"p1: P\" as E10  <<port>> \r\n",
       "portin \"p2: ~P\" as E11  <<port>> \r\n",
       "}\r\n",
       "rec def \"B1\" as E12  <<part def>> {\r\n",
       "rec usage \"p: Part\" as E13  {\r\n",
       "portin \"p1: P\" as E14  <<port>> \r\n",
       "portin \"p2: ~P\" as E15  <<port>> \r\n",
       "}\r\n",
       "}\r\n",
       "E15 -[thickness=3]- E14\r\n",
       "E15 -[thickness=3]- E14\r\n",
       "}\r\n",
       "@enduml\r\n",
       "\n",
       "PlantUML version 1.2020.13(Sat Jun 13 12:26:38 UTC 2020)\n",
       "(EPL source distribution)\n",
       "Java Runtime: OpenJDK Runtime Environment\n",
       "JVM: OpenJDK 64-Bit Server VM\n",
       "Default Encoding: UTF-8\n",
       "Language: en\n",
       "Country: null\n",
       "--></g></svg>"
      ]
     },
     "execution_count": 54,
     "metadata": {},
     "output_type": "execute_result"
    }
   ],
   "source": [
    "%viz --style=\"ORTHOLINE\" --view=\"Interconnection\" \"ConjugationTest\""
   ]
  },
  {
   "cell_type": "code",
   "execution_count": 55,
   "id": "worth-bangladesh",
   "metadata": {
    "execution": {
     "iopub.execute_input": "2021-03-25T16:02:42.350518Z",
     "iopub.status.busy": "2021-03-25T16:02:42.349988Z",
     "iopub.status.idle": "2021-03-25T16:02:42.354878Z",
     "shell.execute_reply": "2021-03-25T16:02:42.354482Z"
    }
   },
   "outputs": [
    {
     "data": {
      "text/plain": [
       "java.lang.IllegalArgumentException: Invalid View: Action View candidates are: Default Tree StateMachine Interconnection Activity Sequence MIXED \n",
       "\tat org.omg.sysml.plantuml.SysML2PlantUMLSvc.setView(SysML2PlantUMLSvc.java:63)\n",
       "\tat org.omg.sysml.interactive.SysMLInteractive.viz(SysMLInteractive.java:286)\n",
       "\tat org.omg.sysml.jupyter.kernel.magic.Viz.viz(Viz.java:47)\n",
       "\tat jdk.internal.reflect.GeneratedMethodAccessor12.invoke(Unknown Source)\n",
       "\tat java.base/jdk.internal.reflect.DelegatingMethodAccessorImpl.invoke(DelegatingMethodAccessorImpl.java:43)\n",
       "\tat java.base/java.lang.reflect.Method.invoke(Method.java:568)\n",
       "\tat io.github.spencerpark.jupyter.kernel.magic.registry.Magics.invoke(Magics.java:89)\n",
       "\tat io.github.spencerpark.jupyter.kernel.magic.registry.Magics.access$000(Magics.java:8)\n",
       "\tat io.github.spencerpark.jupyter.kernel.magic.registry.Magics$LineReflectionMagicFunction.execute(Magics.java:149)\n",
       "\tat io.github.spencerpark.jupyter.kernel.magic.registry.Magics.applyLineMagic(Magics.java:26)\n",
       "\tat org.omg.sysml.jupyter.kernel.SysMLKernel.eval(SysMLKernel.java:76)\n",
       "\tat io.github.spencerpark.jupyter.kernel.BaseKernel.handleExecuteRequest(BaseKernel.java:334)\n",
       "\tat io.github.spencerpark.jupyter.channels.ShellChannel.lambda$bind$0(ShellChannel.java:64)\n",
       "\tat io.github.spencerpark.jupyter.channels.Loop.lambda$new$0(Loop.java:21)\n",
       "\tat io.github.spencerpark.jupyter.channels.Loop.run(Loop.java:78)\n"
      ]
     },
     "execution_count": 55,
     "metadata": {},
     "output_type": "execute_result"
    }
   ],
   "source": [
    "%viz --style=\"ORTHOLINE\" --view=\"Action\" \"ConjugationTest\""
   ]
  },
  {
   "cell_type": "code",
   "execution_count": 56,
   "id": "aboriginal-swiss",
   "metadata": {
    "execution": {
     "iopub.execute_input": "2021-03-25T16:02:42.407574Z",
     "iopub.status.busy": "2021-03-25T16:02:42.406976Z",
     "iopub.status.idle": "2021-03-25T16:02:44.025854Z",
     "shell.execute_reply": "2021-03-25T16:02:44.026306Z"
    }
   },
   "outputs": [
    {
     "data": {
      "image/svg+xml": [
       "<?xml version=\"1.0\" encoding=\"UTF-8\" standalone=\"no\"?><svg xmlns=\"http://www.w3.org/2000/svg\" xmlns:xlink=\"http://www.w3.org/1999/xlink\" contentScriptType=\"application/ecmascript\" contentStyleType=\"text/css\" height=\"331px\" preserveAspectRatio=\"none\" style=\"width:684px;height:331px;\" version=\"1.1\" viewBox=\"0 0 684 331\" width=\"684px\" zoomAndPan=\"magnify\"><defs/><g><!--MD5=[fbc87193dbaf4d95561dea2c320d4a47]\n",
       "cluster E1--><polygon fill=\"#FFFFFF\" points=\"16,6,151,6,158,28.2969,662,28.2969,662,319,16,319,16,6\" style=\"stroke: #000000; stroke-width: 1.5;\"/><line style=\"stroke: #000000; stroke-width: 1.5;\" x1=\"16\" x2=\"158\" y1=\"28.2969\" y2=\"28.2969\"/><text fill=\"#000000\" font-family=\"sans-serif\" font-size=\"14\" font-weight=\"bold\" lengthAdjust=\"spacingAndGlyphs\" textLength=\"129\" x=\"20\" y=\"20.9951\">ConjugationTest</text><!--MD5=[b4997ac47864f28c2f74865a473b2911]\n",
       "class E2--><rect fill=\"#FFFFFF\" height=\"45.9375\" id=\"E2\" style=\"stroke: #383838; stroke-width: 1.5;\" width=\"66\" x=\"580\" y=\"75\"/><text fill=\"#000000\" font-family=\"sans-serif\" font-size=\"12\" font-style=\"italic\" lengthAdjust=\"spacingAndGlyphs\" textLength=\"64\" x=\"581\" y=\"91.1387\">«port def»</text><text fill=\"#000000\" font-family=\"sans-serif\" font-size=\"12\" lengthAdjust=\"spacingAndGlyphs\" textLength=\"8\" x=\"609\" y=\"105.1074\">P</text><line style=\"stroke: #383838; stroke-width: 1.5;\" x1=\"581\" x2=\"645\" y1=\"112.9375\" y2=\"112.9375\"/><!--MD5=[09b614a08d8cba4a07c9adeb5e0fee81]\n",
       "class E3--><rect fill=\"#FFFFFF\" height=\"88.3516\" id=\"E3\" style=\"stroke: #383838; stroke-width: 1.5;\" width=\"66\" x=\"479\" y=\"54\"/><text fill=\"#000000\" font-family=\"sans-serif\" font-size=\"12\" font-style=\"italic\" lengthAdjust=\"spacingAndGlyphs\" textLength=\"64\" x=\"480\" y=\"70.1387\">«part def»</text><text fill=\"#000000\" font-family=\"sans-serif\" font-size=\"12\" lengthAdjust=\"spacingAndGlyphs\" textLength=\"8\" x=\"508\" y=\"84.1074\">B</text><line style=\"stroke: #383838; stroke-width: 1.5;\" x1=\"480\" x2=\"544\" y1=\"91.9375\" y2=\"91.9375\"/><text fill=\"#000000\" font-family=\"sans-serif\" font-size=\"11\" lengthAdjust=\"spacingAndGlyphs\" textLength=\"29\" x=\"485\" y=\"122.9526\">p1: P</text><text fill=\"#000000\" font-family=\"sans-serif\" font-size=\"11\" lengthAdjust=\"spacingAndGlyphs\" textLength=\"38\" x=\"485\" y=\"135.7573\">p2: ~P</text><line style=\"stroke: #383838; stroke-width: 1.0;\" x1=\"480\" x2=\"497\" y1=\"106.3398\" y2=\"106.3398\"/><text fill=\"#000000\" font-family=\"sans-serif\" font-size=\"11\" lengthAdjust=\"spacingAndGlyphs\" textLength=\"30\" x=\"497\" y=\"109.6479\">ports</text><line style=\"stroke: #383838; stroke-width: 1.0;\" x1=\"527\" x2=\"544\" y1=\"106.3398\" y2=\"106.3398\"/><!--MD5=[60a26617385b1d2d0262a64233df1f8d]\n",
       "class E6--><rect fill=\"#FFFFFF\" height=\"113.9609\" id=\"E6\" style=\"stroke: #383838; stroke-width: 1.5;\" width=\"144\" x=\"300\" y=\"41\"/><text fill=\"#000000\" font-family=\"sans-serif\" font-size=\"12\" font-style=\"italic\" lengthAdjust=\"spacingAndGlyphs\" textLength=\"108\" x=\"318\" y=\"57.1387\">«connection def»</text><text fill=\"#000000\" font-family=\"sans-serif\" font-size=\"12\" lengthAdjust=\"spacingAndGlyphs\" textLength=\"8\" x=\"368\" y=\"71.1074\">A</text><line style=\"stroke: #383838; stroke-width: 1.5;\" x1=\"301\" x2=\"443\" y1=\"78.9375\" y2=\"78.9375\"/><text fill=\"#000000\" font-family=\"sans-serif\" font-size=\"11\" lengthAdjust=\"spacingAndGlyphs\" textLength=\"29\" x=\"306\" y=\"109.9526\">p1: P</text><text fill=\"#000000\" font-family=\"sans-serif\" font-size=\"11\" font-style=\"italic\" lengthAdjust=\"spacingAndGlyphs\" textLength=\"132\" x=\"306\" y=\"122.7573\">:&gt;&gt;Connection::source</text><text fill=\"#000000\" font-family=\"sans-serif\" font-size=\"11\" lengthAdjust=\"spacingAndGlyphs\" textLength=\"38\" x=\"306\" y=\"135.562\">p2: ~P</text><text fill=\"#000000\" font-family=\"sans-serif\" font-size=\"11\" font-style=\"italic\" lengthAdjust=\"spacingAndGlyphs\" textLength=\"127\" x=\"306\" y=\"148.3667\">:&gt;&gt;Connection::target</text><line style=\"stroke: #383838; stroke-width: 1.0;\" x1=\"301\" x2=\"357\" y1=\"93.3398\" y2=\"93.3398\"/><text fill=\"#000000\" font-family=\"sans-serif\" font-size=\"11\" lengthAdjust=\"spacingAndGlyphs\" textLength=\"30\" x=\"357\" y=\"96.6479\">ports</text><line style=\"stroke: #383838; stroke-width: 1.0;\" x1=\"387\" x2=\"443\" y1=\"93.3398\" y2=\"93.3398\"/><!--MD5=[fd4143e9d270a159db93a4ea2a975926]\n",
       "class E9--><rect fill=\"#FFFFFF\" height=\"113.9609\" id=\"E9\" style=\"stroke: #383838; stroke-width: 1.5;\" width=\"131\" x=\"133.5\" y=\"41\"/><text fill=\"#000000\" font-family=\"sans-serif\" font-size=\"12\" font-style=\"italic\" lengthAdjust=\"spacingAndGlyphs\" textLength=\"94\" x=\"152\" y=\"57.1387\">«interface def»</text><text fill=\"#000000\" font-family=\"sans-serif\" font-size=\"12\" lengthAdjust=\"spacingAndGlyphs\" textLength=\"3\" x=\"197.5\" y=\"71.1074\">I</text><line style=\"stroke: #383838; stroke-width: 1.5;\" x1=\"134.5\" x2=\"263.5\" y1=\"78.9375\" y2=\"78.9375\"/><text fill=\"#000000\" font-family=\"sans-serif\" font-size=\"11\" lengthAdjust=\"spacingAndGlyphs\" textLength=\"29\" x=\"139.5\" y=\"109.9526\">p1: P</text><text fill=\"#000000\" font-family=\"sans-serif\" font-size=\"11\" font-style=\"italic\" lengthAdjust=\"spacingAndGlyphs\" textLength=\"119\" x=\"139.5\" y=\"122.7573\">:&gt;&gt;Interface::source</text><text fill=\"#000000\" font-family=\"sans-serif\" font-size=\"11\" lengthAdjust=\"spacingAndGlyphs\" textLength=\"38\" x=\"139.5\" y=\"135.562\">p2: ~P</text><text fill=\"#000000\" font-family=\"sans-serif\" font-size=\"11\" font-style=\"italic\" lengthAdjust=\"spacingAndGlyphs\" textLength=\"114\" x=\"139.5\" y=\"148.3667\">:&gt;&gt;Interface::target</text><line style=\"stroke: #383838; stroke-width: 1.0;\" x1=\"134.5\" x2=\"184\" y1=\"93.3398\" y2=\"93.3398\"/><text fill=\"#000000\" font-family=\"sans-serif\" font-size=\"11\" lengthAdjust=\"spacingAndGlyphs\" textLength=\"30\" x=\"184\" y=\"96.6479\">ports</text><line style=\"stroke: #383838; stroke-width: 1.0;\" x1=\"214\" x2=\"263.5\" y1=\"93.3398\" y2=\"93.3398\"/><!--MD5=[49a0ec8f00dab7302a31f22d0f0fe584]\n",
       "class E12--><rect fill=\"#FFFFFF\" height=\"45.9375\" id=\"E12\" style=\"stroke: #383838; stroke-width: 1.5;\" width=\"66\" x=\"32\" y=\"75\"/><text fill=\"#000000\" font-family=\"sans-serif\" font-size=\"12\" font-style=\"italic\" lengthAdjust=\"spacingAndGlyphs\" textLength=\"64\" x=\"33\" y=\"91.1387\">«part def»</text><text fill=\"#000000\" font-family=\"sans-serif\" font-size=\"12\" lengthAdjust=\"spacingAndGlyphs\" textLength=\"16\" x=\"57\" y=\"105.1074\">B1</text><line style=\"stroke: #383838; stroke-width: 1.5;\" x1=\"33\" x2=\"97\" y1=\"112.9375\" y2=\"112.9375\"/><!--MD5=[ee3c913d1a06f366521f9ef512b67efe]\n",
       "class E13--><rect fill=\"#FFFFFF\" height=\"88.3516\" id=\"E13\" rx=\"10\" ry=\"10\" style=\"stroke: #383838; stroke-width: 1.5;\" width=\"50\" x=\"40\" y=\"215\"/><text fill=\"#000000\" font-family=\"sans-serif\" font-size=\"12\" font-style=\"italic\" lengthAdjust=\"spacingAndGlyphs\" textLength=\"40\" x=\"45\" y=\"231.1387\">«part»</text><text fill=\"#000000\" font-family=\"sans-serif\" font-size=\"12\" lengthAdjust=\"spacingAndGlyphs\" textLength=\"42\" x=\"44\" y=\"245.1074\">p: Part</text><line style=\"stroke: #383838; stroke-width: 1.5;\" x1=\"41\" x2=\"89\" y1=\"252.9375\" y2=\"252.9375\"/><text fill=\"#000000\" font-family=\"sans-serif\" font-size=\"11\" lengthAdjust=\"spacingAndGlyphs\" textLength=\"29\" x=\"46\" y=\"283.9526\">p1: P</text><text fill=\"#000000\" font-family=\"sans-serif\" font-size=\"11\" lengthAdjust=\"spacingAndGlyphs\" textLength=\"38\" x=\"46\" y=\"296.7573\">p2: ~P</text><line style=\"stroke: #383838; stroke-width: 1.0;\" x1=\"41\" x2=\"50\" y1=\"267.3398\" y2=\"267.3398\"/><text fill=\"#000000\" font-family=\"sans-serif\" font-size=\"11\" lengthAdjust=\"spacingAndGlyphs\" textLength=\"30\" x=\"50\" y=\"270.6479\">ports</text><line style=\"stroke: #383838; stroke-width: 1.0;\" x1=\"80\" x2=\"89\" y1=\"267.3398\" y2=\"267.3398\"/><!--MD5=[062ed86c389d1a88f61c6380d0491e17]\n",
       "reverse link E12 to E13--><path d=\"M65,134.07 C65,134.07 65,214.7 65,214.7 \" fill=\"none\" id=\"E12&lt;-E13\" style=\"stroke: #383838; stroke-width: 1.0;\"/><polygon fill=\"#383838\" points=\"65,121.07,61,127.07,65,133.07,69,127.07,65,121.07\" style=\"stroke: #383838; stroke-width: 1.0;\"/><!--MD5=[4d6954c7510d5904cbb2dbc40b84fc2d]\n",
       "@startuml\r\n",
       "skinparam linetype ortho\r\n",
       "skinparam monochrome true\r\n",
       "skinparam classbackgroundcolor white\r\n",
       "skinparam shadowing false\r\n",
       "skinparam wrapWidth 300\r\n",
       "hide circle\r\n",
       "\r\n",
       "package \"ConjugationTest\" as E1   {\r\n",
       "comp def \"P\" as E2  <<(T,blue)port def>> {\r\n",
       "}\r\n",
       "comp def \"B\" as E3  <<(T,blue)part def>> {\r\n",
       "- -ports- -\r\n",
       "p1: P\r\n",
       "p2: ~P\r\n",
       "}\r\n",
       "comp def \"A\" as E6  <<(T,blue)connection def>> {\r\n",
       "- -ports- -\r\n",
       "p1: P\\n//:>>Connection::source// \r\n",
       "p2: ~P\\n//:>>Connection::target// \r\n",
       "}\r\n",
       "comp def \"I\" as E9  <<(T,blue)interface def>> {\r\n",
       "- -ports- -\r\n",
       "p1: P\\n//:>>Interface::source// \r\n",
       "p2: ~P\\n//:>>Interface::target// \r\n",
       "}\r\n",
       "comp def \"B1\" as E12  <<(T,blue)part def>> {\r\n",
       "}\r\n",
       "comp usage \"p: Part\" as E13  <<(T,blue)part>> {\r\n",
       "- -ports- -\r\n",
       "p1: P\r\n",
       "p2: ~P\r\n",
       "}\r\n",
       "E12 *- - E13\r\n",
       "}\r\n",
       "@enduml\r\n",
       "\n",
       "PlantUML version 1.2020.13(Sat Jun 13 12:26:38 UTC 2020)\n",
       "(EPL source distribution)\n",
       "Java Runtime: OpenJDK Runtime Environment\n",
       "JVM: OpenJDK 64-Bit Server VM\n",
       "Default Encoding: UTF-8\n",
       "Language: en\n",
       "Country: null\n",
       "--></g></svg>"
      ]
     },
     "execution_count": 56,
     "metadata": {},
     "output_type": "execute_result"
    }
   ],
   "source": [
    "%viz --style=\"ORTHOLINE\" --view=\"Sequence\" \"ConjugationTest\""
   ]
  },
  {
   "cell_type": "code",
   "execution_count": 57,
   "id": "eleven-locking",
   "metadata": {
    "execution": {
     "iopub.execute_input": "2021-03-25T16:02:44.076163Z",
     "iopub.status.busy": "2021-03-25T16:02:44.075442Z",
     "iopub.status.idle": "2021-03-25T16:02:45.684910Z",
     "shell.execute_reply": "2021-03-25T16:02:45.683442Z"
    }
   },
   "outputs": [
    {
     "data": {
      "image/svg+xml": [
       "<?xml version=\"1.0\" encoding=\"UTF-8\" standalone=\"no\"?><svg xmlns=\"http://www.w3.org/2000/svg\" xmlns:xlink=\"http://www.w3.org/1999/xlink\" contentScriptType=\"application/ecmascript\" contentStyleType=\"text/css\" height=\"331px\" preserveAspectRatio=\"none\" style=\"width:684px;height:331px;\" version=\"1.1\" viewBox=\"0 0 684 331\" width=\"684px\" zoomAndPan=\"magnify\"><defs/><g><!--MD5=[fbc87193dbaf4d95561dea2c320d4a47]\n",
       "cluster E1--><polygon fill=\"#FFFFFF\" points=\"16,6,151,6,158,28.2969,662,28.2969,662,319,16,319,16,6\" style=\"stroke: #000000; stroke-width: 1.5;\"/><line style=\"stroke: #000000; stroke-width: 1.5;\" x1=\"16\" x2=\"158\" y1=\"28.2969\" y2=\"28.2969\"/><text fill=\"#000000\" font-family=\"sans-serif\" font-size=\"14\" font-weight=\"bold\" lengthAdjust=\"spacingAndGlyphs\" textLength=\"129\" x=\"20\" y=\"20.9951\">ConjugationTest</text><!--MD5=[b4997ac47864f28c2f74865a473b2911]\n",
       "class E2--><rect fill=\"#FFFFFF\" height=\"45.9375\" id=\"E2\" style=\"stroke: #383838; stroke-width: 1.5;\" width=\"66\" x=\"580\" y=\"75\"/><text fill=\"#000000\" font-family=\"sans-serif\" font-size=\"12\" font-style=\"italic\" lengthAdjust=\"spacingAndGlyphs\" textLength=\"64\" x=\"581\" y=\"91.1387\">«port def»</text><text fill=\"#000000\" font-family=\"sans-serif\" font-size=\"12\" lengthAdjust=\"spacingAndGlyphs\" textLength=\"8\" x=\"609\" y=\"105.1074\">P</text><line style=\"stroke: #383838; stroke-width: 1.5;\" x1=\"581\" x2=\"645\" y1=\"112.9375\" y2=\"112.9375\"/><!--MD5=[09b614a08d8cba4a07c9adeb5e0fee81]\n",
       "class E3--><rect fill=\"#FFFFFF\" height=\"88.3516\" id=\"E3\" style=\"stroke: #383838; stroke-width: 1.5;\" width=\"66\" x=\"479\" y=\"54\"/><text fill=\"#000000\" font-family=\"sans-serif\" font-size=\"12\" font-style=\"italic\" lengthAdjust=\"spacingAndGlyphs\" textLength=\"64\" x=\"480\" y=\"70.1387\">«part def»</text><text fill=\"#000000\" font-family=\"sans-serif\" font-size=\"12\" lengthAdjust=\"spacingAndGlyphs\" textLength=\"8\" x=\"508\" y=\"84.1074\">B</text><line style=\"stroke: #383838; stroke-width: 1.5;\" x1=\"480\" x2=\"544\" y1=\"91.9375\" y2=\"91.9375\"/><text fill=\"#000000\" font-family=\"sans-serif\" font-size=\"11\" lengthAdjust=\"spacingAndGlyphs\" textLength=\"29\" x=\"485\" y=\"122.9526\">p1: P</text><text fill=\"#000000\" font-family=\"sans-serif\" font-size=\"11\" lengthAdjust=\"spacingAndGlyphs\" textLength=\"38\" x=\"485\" y=\"135.7573\">p2: ~P</text><line style=\"stroke: #383838; stroke-width: 1.0;\" x1=\"480\" x2=\"497\" y1=\"106.3398\" y2=\"106.3398\"/><text fill=\"#000000\" font-family=\"sans-serif\" font-size=\"11\" lengthAdjust=\"spacingAndGlyphs\" textLength=\"30\" x=\"497\" y=\"109.6479\">ports</text><line style=\"stroke: #383838; stroke-width: 1.0;\" x1=\"527\" x2=\"544\" y1=\"106.3398\" y2=\"106.3398\"/><!--MD5=[60a26617385b1d2d0262a64233df1f8d]\n",
       "class E6--><rect fill=\"#FFFFFF\" height=\"113.9609\" id=\"E6\" style=\"stroke: #383838; stroke-width: 1.5;\" width=\"144\" x=\"300\" y=\"41\"/><text fill=\"#000000\" font-family=\"sans-serif\" font-size=\"12\" font-style=\"italic\" lengthAdjust=\"spacingAndGlyphs\" textLength=\"108\" x=\"318\" y=\"57.1387\">«connection def»</text><text fill=\"#000000\" font-family=\"sans-serif\" font-size=\"12\" lengthAdjust=\"spacingAndGlyphs\" textLength=\"8\" x=\"368\" y=\"71.1074\">A</text><line style=\"stroke: #383838; stroke-width: 1.5;\" x1=\"301\" x2=\"443\" y1=\"78.9375\" y2=\"78.9375\"/><text fill=\"#000000\" font-family=\"sans-serif\" font-size=\"11\" lengthAdjust=\"spacingAndGlyphs\" textLength=\"29\" x=\"306\" y=\"109.9526\">p1: P</text><text fill=\"#000000\" font-family=\"sans-serif\" font-size=\"11\" font-style=\"italic\" lengthAdjust=\"spacingAndGlyphs\" textLength=\"132\" x=\"306\" y=\"122.7573\">:&gt;&gt;Connection::source</text><text fill=\"#000000\" font-family=\"sans-serif\" font-size=\"11\" lengthAdjust=\"spacingAndGlyphs\" textLength=\"38\" x=\"306\" y=\"135.562\">p2: ~P</text><text fill=\"#000000\" font-family=\"sans-serif\" font-size=\"11\" font-style=\"italic\" lengthAdjust=\"spacingAndGlyphs\" textLength=\"127\" x=\"306\" y=\"148.3667\">:&gt;&gt;Connection::target</text><line style=\"stroke: #383838; stroke-width: 1.0;\" x1=\"301\" x2=\"357\" y1=\"93.3398\" y2=\"93.3398\"/><text fill=\"#000000\" font-family=\"sans-serif\" font-size=\"11\" lengthAdjust=\"spacingAndGlyphs\" textLength=\"30\" x=\"357\" y=\"96.6479\">ports</text><line style=\"stroke: #383838; stroke-width: 1.0;\" x1=\"387\" x2=\"443\" y1=\"93.3398\" y2=\"93.3398\"/><!--MD5=[fd4143e9d270a159db93a4ea2a975926]\n",
       "class E9--><rect fill=\"#FFFFFF\" height=\"113.9609\" id=\"E9\" style=\"stroke: #383838; stroke-width: 1.5;\" width=\"131\" x=\"133.5\" y=\"41\"/><text fill=\"#000000\" font-family=\"sans-serif\" font-size=\"12\" font-style=\"italic\" lengthAdjust=\"spacingAndGlyphs\" textLength=\"94\" x=\"152\" y=\"57.1387\">«interface def»</text><text fill=\"#000000\" font-family=\"sans-serif\" font-size=\"12\" lengthAdjust=\"spacingAndGlyphs\" textLength=\"3\" x=\"197.5\" y=\"71.1074\">I</text><line style=\"stroke: #383838; stroke-width: 1.5;\" x1=\"134.5\" x2=\"263.5\" y1=\"78.9375\" y2=\"78.9375\"/><text fill=\"#000000\" font-family=\"sans-serif\" font-size=\"11\" lengthAdjust=\"spacingAndGlyphs\" textLength=\"29\" x=\"139.5\" y=\"109.9526\">p1: P</text><text fill=\"#000000\" font-family=\"sans-serif\" font-size=\"11\" font-style=\"italic\" lengthAdjust=\"spacingAndGlyphs\" textLength=\"119\" x=\"139.5\" y=\"122.7573\">:&gt;&gt;Interface::source</text><text fill=\"#000000\" font-family=\"sans-serif\" font-size=\"11\" lengthAdjust=\"spacingAndGlyphs\" textLength=\"38\" x=\"139.5\" y=\"135.562\">p2: ~P</text><text fill=\"#000000\" font-family=\"sans-serif\" font-size=\"11\" font-style=\"italic\" lengthAdjust=\"spacingAndGlyphs\" textLength=\"114\" x=\"139.5\" y=\"148.3667\">:&gt;&gt;Interface::target</text><line style=\"stroke: #383838; stroke-width: 1.0;\" x1=\"134.5\" x2=\"184\" y1=\"93.3398\" y2=\"93.3398\"/><text fill=\"#000000\" font-family=\"sans-serif\" font-size=\"11\" lengthAdjust=\"spacingAndGlyphs\" textLength=\"30\" x=\"184\" y=\"96.6479\">ports</text><line style=\"stroke: #383838; stroke-width: 1.0;\" x1=\"214\" x2=\"263.5\" y1=\"93.3398\" y2=\"93.3398\"/><!--MD5=[49a0ec8f00dab7302a31f22d0f0fe584]\n",
       "class E12--><rect fill=\"#FFFFFF\" height=\"45.9375\" id=\"E12\" style=\"stroke: #383838; stroke-width: 1.5;\" width=\"66\" x=\"32\" y=\"75\"/><text fill=\"#000000\" font-family=\"sans-serif\" font-size=\"12\" font-style=\"italic\" lengthAdjust=\"spacingAndGlyphs\" textLength=\"64\" x=\"33\" y=\"91.1387\">«part def»</text><text fill=\"#000000\" font-family=\"sans-serif\" font-size=\"12\" lengthAdjust=\"spacingAndGlyphs\" textLength=\"16\" x=\"57\" y=\"105.1074\">B1</text><line style=\"stroke: #383838; stroke-width: 1.5;\" x1=\"33\" x2=\"97\" y1=\"112.9375\" y2=\"112.9375\"/><!--MD5=[ee3c913d1a06f366521f9ef512b67efe]\n",
       "class E13--><rect fill=\"#FFFFFF\" height=\"88.3516\" id=\"E13\" rx=\"10\" ry=\"10\" style=\"stroke: #383838; stroke-width: 1.5;\" width=\"50\" x=\"40\" y=\"215\"/><text fill=\"#000000\" font-family=\"sans-serif\" font-size=\"12\" font-style=\"italic\" lengthAdjust=\"spacingAndGlyphs\" textLength=\"40\" x=\"45\" y=\"231.1387\">«part»</text><text fill=\"#000000\" font-family=\"sans-serif\" font-size=\"12\" lengthAdjust=\"spacingAndGlyphs\" textLength=\"42\" x=\"44\" y=\"245.1074\">p: Part</text><line style=\"stroke: #383838; stroke-width: 1.5;\" x1=\"41\" x2=\"89\" y1=\"252.9375\" y2=\"252.9375\"/><text fill=\"#000000\" font-family=\"sans-serif\" font-size=\"11\" lengthAdjust=\"spacingAndGlyphs\" textLength=\"29\" x=\"46\" y=\"283.9526\">p1: P</text><text fill=\"#000000\" font-family=\"sans-serif\" font-size=\"11\" lengthAdjust=\"spacingAndGlyphs\" textLength=\"38\" x=\"46\" y=\"296.7573\">p2: ~P</text><line style=\"stroke: #383838; stroke-width: 1.0;\" x1=\"41\" x2=\"50\" y1=\"267.3398\" y2=\"267.3398\"/><text fill=\"#000000\" font-family=\"sans-serif\" font-size=\"11\" lengthAdjust=\"spacingAndGlyphs\" textLength=\"30\" x=\"50\" y=\"270.6479\">ports</text><line style=\"stroke: #383838; stroke-width: 1.0;\" x1=\"80\" x2=\"89\" y1=\"267.3398\" y2=\"267.3398\"/><!--MD5=[062ed86c389d1a88f61c6380d0491e17]\n",
       "reverse link E12 to E13--><path d=\"M65,134.07 C65,134.07 65,214.7 65,214.7 \" fill=\"none\" id=\"E12&lt;-E13\" style=\"stroke: #383838; stroke-width: 1.0;\"/><polygon fill=\"#383838\" points=\"65,121.07,61,127.07,65,133.07,69,127.07,65,121.07\" style=\"stroke: #383838; stroke-width: 1.0;\"/><!--MD5=[4d6954c7510d5904cbb2dbc40b84fc2d]\n",
       "@startuml\r\n",
       "skinparam linetype ortho\r\n",
       "skinparam monochrome true\r\n",
       "skinparam classbackgroundcolor white\r\n",
       "skinparam shadowing false\r\n",
       "skinparam wrapWidth 300\r\n",
       "hide circle\r\n",
       "\r\n",
       "package \"ConjugationTest\" as E1   {\r\n",
       "comp def \"P\" as E2  <<(T,blue)port def>> {\r\n",
       "}\r\n",
       "comp def \"B\" as E3  <<(T,blue)part def>> {\r\n",
       "- -ports- -\r\n",
       "p1: P\r\n",
       "p2: ~P\r\n",
       "}\r\n",
       "comp def \"A\" as E6  <<(T,blue)connection def>> {\r\n",
       "- -ports- -\r\n",
       "p1: P\\n//:>>Connection::source// \r\n",
       "p2: ~P\\n//:>>Connection::target// \r\n",
       "}\r\n",
       "comp def \"I\" as E9  <<(T,blue)interface def>> {\r\n",
       "- -ports- -\r\n",
       "p1: P\\n//:>>Interface::source// \r\n",
       "p2: ~P\\n//:>>Interface::target// \r\n",
       "}\r\n",
       "comp def \"B1\" as E12  <<(T,blue)part def>> {\r\n",
       "}\r\n",
       "comp usage \"p: Part\" as E13  <<(T,blue)part>> {\r\n",
       "- -ports- -\r\n",
       "p1: P\r\n",
       "p2: ~P\r\n",
       "}\r\n",
       "E12 *- - E13\r\n",
       "}\r\n",
       "@enduml\r\n",
       "\n",
       "PlantUML version 1.2020.13(Sat Jun 13 12:26:38 UTC 2020)\n",
       "(EPL source distribution)\n",
       "Java Runtime: OpenJDK Runtime Environment\n",
       "JVM: OpenJDK 64-Bit Server VM\n",
       "Default Encoding: UTF-8\n",
       "Language: en\n",
       "Country: null\n",
       "--></g></svg>"
      ]
     },
     "execution_count": 57,
     "metadata": {},
     "output_type": "execute_result"
    }
   ],
   "source": [
    "%viz --style=\"ORTHOLINE\" --view=\"MIXED\" \"ConjugationTest\""
   ]
  }
 ],
 "metadata": {
  "kernelspec": {
   "display_name": "SysML",
   "language": "sysml",
   "name": "sysml"
  },
  "language_info": {
   "codemirror_mode": "sysml",
   "file_extension": ".sysml",
   "mimetype": "text/x-sysml",
   "name": "SysML",
   "pygments_lexer": "java",
   "version": "1.0.0"
  }
 },
 "nbformat": 4,
 "nbformat_minor": 5
}
